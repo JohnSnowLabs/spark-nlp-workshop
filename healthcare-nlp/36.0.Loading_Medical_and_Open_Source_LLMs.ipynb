{
 "cells": [
  {
   "cell_type": "markdown",
   "metadata": {
    "id": "OOK-O6TBrMF1"
   },
   "source": [
    "![JohnSnowLabs](https://nlp.johnsnowlabs.com/assets/images/logo.png)"
   ]
  },
  {
   "cell_type": "markdown",
   "metadata": {
    "id": "qU3ekKSQrSD_"
   },
   "source": [
    "[![Open In Colab](https://colab.research.google.com/assets/colab-badge.svg)](https://colab.research.google.com/github/JohnSnowLabs/spark-nlp-workshop/blob/master/healthcare-nlp/36.0.Loading_Medical_and_Open_Source_LLMs.ipynb)"
   ]
  },
  {
   "cell_type": "markdown",
   "metadata": {
    "id": "X_I1GNjBERqK"
   },
   "source": [
    "# Loading Medical and Open Souce LLMs\n",
    "\n"
   ]
  },
  {
   "cell_type": "markdown",
   "metadata": {
    "id": "dYuRorIoAzjm"
   },
   "source": [
    "`LLMLoader` is designed to interact with a LLMs that are converted into gguf format. This module allows using John Snow Labs' licensed LLMs at various sizes that are finetuned on medical context for certain tasks. It provides various methods for setting parameters, loading models, generating text, and retrieving metadata. The `LLMLoader` includes methods for setting various parameters such as input prefix, suffix, cache prompt, number of tokens to predict, sampling techniques, temperature, penalties, and more. Overall, the `LLMLoader`  provides a flexible and extensible framework for interacting with language models in a Python and Scala environment using PySpark and Java."
   ]
  },
  {
   "cell_type": "markdown",
   "metadata": {
    "id": "y722Oob4mdSp"
   },
   "source": [
    "## Colab Setup"
   ]
  },
  {
   "cell_type": "code",
   "execution_count": null,
   "metadata": {
    "id": "NDGnhNE2mdSq"
   },
   "outputs": [],
   "source": [
    "# Install the johnsnowlabs library to access Spark-OCR and Spark-NLP for Healthcare, Finance, and Legal.\n",
    "! pip install -q johnsnowlabs"
   ]
  },
  {
   "cell_type": "code",
   "execution_count": null,
   "metadata": {
    "id": "824ezfidmdSq"
   },
   "outputs": [],
   "source": [
    "from google.colab import files\n",
    "print('Please Upload your John Snow Labs License using the button below')\n",
    "license_keys = files.upload()"
   ]
  },
  {
   "cell_type": "code",
   "execution_count": null,
   "metadata": {
    "id": "EO_XGKCxmdSq"
   },
   "outputs": [],
   "source": [
    "from johnsnowlabs import nlp, medical\n",
    "\n",
    "# After uploading your license run this to install all licensed Python Wheels and pre-download Jars the Spark Session JVM\n",
    "nlp.settings.enforce_versions=False\n",
    "nlp.install(refresh_install=True)"
   ]
  },
  {
   "cell_type": "code",
   "execution_count": 2,
   "metadata": {
    "colab": {
     "base_uri": "https://localhost:8080/"
    },
    "executionInfo": {
     "elapsed": 9155,
     "status": "ok",
     "timestamp": 1760602174965,
     "user": {
      "displayName": "Vildan Sarıkaya",
      "userId": "07789644790967768983"
     },
     "user_tz": 420
    },
    "id": "KjD5LvtBAtun",
    "outputId": "575258cc-b652-4cb5-de3f-afdfdcb7df9d"
   },
   "outputs": [
    {
     "name": "stdout",
     "output_type": "stream",
     "text": [
      "👌 Detected license file /content/6.1.1.spark_nlp_for_healthcare.json\n",
      "👌 Launched \u001b[92mcpu optimized\u001b[39m session with with: 🚀Spark-NLP==6.1.3, 💊Spark-Healthcare==6.1.1, running on ⚡ PySpark==3.4.0\n"
     ]
    }
   ],
   "source": [
    "from johnsnowlabs import nlp, medical\n",
    "import pandas as pd\n",
    "\n",
    "spark_conf = {\n",
    "    \"spark.driver.memory\": \"200g\",\n",
    "    \"spark.driver.cores\": \"96\",\n",
    "    \"spark.serializer\": \"org.apache.spark.serializer.KryoSerializer\",\n",
    "    \"spark.kryoserializer.buffer.max\": \"2000M\",\n",
    "    \"spark.driver.maxResultSize\": \"20000M\"\n",
    "}\n",
    "\n",
    "# Automatically load license data and start a session with all jars user has access to\n",
    "spark = nlp.start(\n",
    "    spark_conf = spark_conf\n",
    "   # hardware_target=\"gpu\" # if you have GPU\n",
    ")"
   ]
  },
  {
   "cell_type": "markdown",
   "metadata": {
    "id": "iel7cvOYKZHf"
   },
   "source": [
    "# Medical LLMs"
   ]
  },
  {
   "cell_type": "markdown",
   "metadata": {
    "id": "zNEareAzLXPy"
   },
   "source": [
    "| **Model Name**             | **Quantization Options**   | **Description**   |\n",
    "| -------------------------- | -------------------------- | ----------------- |\n",
    "| JSL_MedM_v1                | [q4](https://nlp.johnsnowlabs.com/2024/07/12/jsl_medm_q4_v1_en.html), [q8](https://nlp.johnsnowlabs.com/2024/07/12/jsl_medm_q8_v1_en.html), [q16](https://nlp.johnsnowlabs.com/2024/07/12/jsl_medm_q16_v1_en.html) | Summarization, Q&A, RAG, and Chat      |\n",
    "| JSL_MedM_v2                | [q4](https://nlp.johnsnowlabs.com/2024/10/06/jsl_medm_q4_v2_en.html), [q8](https://nlp.johnsnowlabs.com/2024/10/06/jsl_medm_q8_v2_en.html), [q16](https://nlp.johnsnowlabs.com/2024/10/08/jsl_medm_q16_v2_en.html) | Summarization, Q&A, RAG, and Chat      |\n",
    "| JSL_MedM_v3                | [q4](https://nlp.johnsnowlabs.com/2024/10/06/jsl_medm_q4_v3_en.html), [q8](https://nlp.johnsnowlabs.com/2024/10/08/jsl_medm_q8_v3_en.html), [q16](https://nlp.johnsnowlabs.com/2024/10/23/jsl_medm_q16_v3_en.html) | Summarization, Q&A, RAG, and Chat      |\n",
    "| JSL_MedS_v1                | [q4](https://nlp.johnsnowlabs.com/2024/10/05/jsl_meds_q4_v1_en.html), [q8](https://nlp.johnsnowlabs.com/2024/10/05/jsl_meds_q8_v1_en.html), [q16](https://nlp.johnsnowlabs.com/2024/10/05/jsl_meds_q16_v1_en.html) | Summarization, Q&A, RAG |\n",
    "| JSL_MedS_v2                | [q4](https://nlp.johnsnowlabs.com/2024/10/05/jsl_meds_q4_v2_en.html), [q8](https://nlp.johnsnowlabs.com/2024/10/05/jsl_meds_q8_v2_en.html), [q16](https://nlp.johnsnowlabs.com/2024/10/05/jsl_meds_q16_v2_en.html) | Summarization, Q&A, RAG |\n",
    "| JSL_MedS_v3                | [q4](https://nlp.johnsnowlabs.com/2024/10/05/jsl_meds_q4_v3_en.html), [q8](https://nlp.johnsnowlabs.com/2024/10/05/jsl_meds_q8_v3_en.html), [q16](https://nlp.johnsnowlabs.com/2024/10/05/jsl_meds_q16_v3_en.html) | Summarization, Q&A, RAG |\n",
    "| JSL_MedS_8B_v4             | [q4](https://nlp.johnsnowlabs.com/2025/08/05/jsl_meds_8b_q4_v4_en.html), [q8](https://nlp.johnsnowlabs.com/2025/08/05/jsl_meds_8b_q8_v4_en.html), [q16](https://nlp.johnsnowlabs.com/2025/08/05/jsl_meds_8b_q16_v4_en.html) | Summarization, Q&A, RAG |\n",
    "| JSL_MedS_4B_v4             | [q4](https://nlp.johnsnowlabs.com/2025/08/05/jsl_meds_4b_q4_v4_en.html), [q8](https://nlp.johnsnowlabs.com/2025/08/05/jsl_meds_4b_q8_v4_en.html), [q16](https://nlp.johnsnowlabs.com/2025/08/05/jsl_meds_4b_q16_v4_en.html) | Summarization, Q&A, RAG |\n",
    "| JSL_MedS_4B_v5             | [q4](https://nlp.johnsnowlabs.com/2025/08/05/jsl_meds_4b_q4_v5_en.html), [q8](), [q16](https://nlp.johnsnowlabs.com/2025/08/05/jsl_meds_4b_q16_v5_en.html) | Summarization, Q&A, RAG |\n",
    "| JSL_MedS_NER_ZS_v1         | [q4](https://nlp.johnsnowlabs.com/2024/10/04/jsl_meds_ner_zs_q4_v1_en.html), [q8](https://nlp.johnsnowlabs.com/2024/10/04/jsl_meds_ner_zs_q8_v1_en.html), [q16](https://nlp.johnsnowlabs.com/2024/10/04/jsl_meds_ner_zs_q16_v1_en.html) | Extract and link medical named entities |\n",
    "| JSL_MedS_NER_v2            | [q4](https://nlp.johnsnowlabs.com/2024/10/01/jsl_meds_ner_q4_v2_en.html), [q8](https://nlp.johnsnowlabs.com/2024/10/04/jsl_meds_ner_q8_v2_en.html), [q16](https://nlp.johnsnowlabs.com/2024/10/04/jsl_meds_ner_q16_v2_en.html) | Extract and link medical named entities |\n",
    "| JSL_MedS_NER_v3            | [q4](https://nlp.johnsnowlabs.com/2025/06/20/jsl_meds_ner_q4_v3_en.html), [q8](https://nlp.johnsnowlabs.com/2025/06/20/jsl_meds_ner_q8_v3_en.html), [q16](https://nlp.johnsnowlabs.com/2025/06/20/jsl_meds_ner_q16_v3_en.html) | Extract and link medical named entities |\n",
    "| JSL_MedS_NER_v4            | [q4](https://nlp.johnsnowlabs.com/2025/07/01/jsl_meds_ner_q4_v4_en.html), [q8](https://nlp.johnsnowlabs.com/2025/07/01/jsl_meds_ner_q8_v4_en.html) | Extract and link medical named entities |\n",
    "| JSL_MedS_NER_OpenVINO_v4   | [q4](https://nlp.johnsnowlabs.com/2025/06/30/jsl_meds_ner_openvino_q4_v4_en.html), [q8](https://nlp.johnsnowlabs.com/2025/07/01/jsl_meds_ner_openvino_q8_v4_en.html), [q16](https://nlp.johnsnowlabs.com/2025/07/01/jsl_meds_ner_openvino_q16_v4_en.html) | Extract and link medical named entities |\n",
    "| JSL_MedS_RAG_v1            | [q4](https://nlp.johnsnowlabs.com/2024/10/05/jsl_meds_rag_q4_v1_en.html), [q8](https://nlp.johnsnowlabs.com/2024/10/05/jsl_meds_rag_q8_v1_en.html), [q16](https://nlp.johnsnowlabs.com/2024/10/05/jsl_meds_rag_q16_v1_en.html) | LLM component of Retrieval Augmented Generation (RAG) |\n",
    "| JSL_MedS_Text2SOAP_v1      |                [base](https://nlp.johnsnowlabs.com/2025/04/09/jsl_meds_text2soap_v1_en.html) | Generate structured SOAP (Subjective, Objective, Assessment, Plan) summaries |\n",
    "| JSL_MEDS_TEXT2SQL_1B_v1      |                [q16](https://nlp.johnsnowlabs.com/2025/08/04/jsl_meds_text2sql_1b_q16_v1_en.html) | Transforming natural language queries into SQL |\n",
    "| JSL_MedS_VLM_3B_v1         | [q4](https://nlp.johnsnowlabs.com/2025/08/08/jsl_meds_vlm_3b_q8_v1_en.html), [q8](https://nlp.johnsnowlabs.com/2025/08/08/jsl_meds_vlm_3b_q4_v1_en.html), [q16](https://nlp.johnsnowlabs.com/2025/08/08/jsl_meds_vlm_3b_q16_v1_en.html) | Extract and link structured medical named entities |\n",
    "| JSL_MedS_NER_VLM_2B_v1         | [q4](https://nlp.johnsnowlabs.com/2025/08/08/jsl_meds_ner_vlm_2b_q4_v1_en.html), [q8](https://nlp.johnsnowlabs.com/2025/08/10/jsl_meds_ner_vlm_2b_q8_v1_en.html), [q16](https://nlp.johnsnowlabs.com/2025/08/10/jsl_meds_ner_vlm_2b_q16_v1_en.html) | Extract and link structured medical named entities |\n",
    "| JSL_MedS_NER_VLM_2B_v2         | [q4](https://nlp.johnsnowlabs.com/2025/08/10/jsl_meds_ner_vlm_2b_q4_v2_en.html), [q8](https://nlp.johnsnowlabs.com/2025/08/10/jsl_meds_ner_vlm_2b_q8_v2_en.html), [q16](https://nlp.johnsnowlabs.com/2025/08/10/jsl_meds_ner_vlm_2b_q16_v2_en.html) | Extract and link structured medical named entities |\n",
    "\n",
    "\n",
    "\n",
    "**We recommend using 8b quantized versions of the models as the qualitative performance difference between q16 and q8 versions is very negligible.**\n"
   ]
  },
  {
   "cell_type": "markdown",
   "metadata": {
    "id": "Dn2VsLx4d1SI"
   },
   "source": [
    "# Medical Small LLMs\n",
    "\n",
    "| Model Name             | Disk Size | Model Size | Modality   | Available quantizations | Gpu memory required | Token/sec | Max Context Window **\\*** | Tasks                                                         |\n",
    "|-------------------------|-----------|-------------|------------|-------------------------|---------------------|-----------|--------------------|---------------------------------------------------------------|\n",
    "| JSL_MedM_v3            | 8.2G      | 14B         | text-only  | [q4](https://nlp.johnsnowlabs.com/2024/10/06/jsl_medm_q4_v3_en.html) | 24GB | 79  | 32,768  | Summarization, Q&A, RAG, and Chat |\n",
    "|                         | 14G       | 14B         | text-only  | [q8](https://nlp.johnsnowlabs.com/2024/10/08/jsl_medm_q8_v3_en.html) | 24GB | 84  | 32,768  | Summarization, Q&A, RAG, and Chat |\n",
    "|                         | 21.9G     | 14B         | text-only  | [q16](https://nlp.johnsnowlabs.com/2024/10/23/jsl_medm_q16_v3_en.html) | 24GB | 253 | 32,768  | Summarization, Q&A, RAG, and Chat |\n",
    "| JSL_MedS_v3            | 2.2G      | 3.5B        | text-only  | [q4](https://nlp.johnsnowlabs.com/2024/10/05/jsl_meds_q4_v3_en.html) | 10GB | 28.5 | 131,072 | Summarization, Q&A, RAG |\n",
    "|                         | 3.7G      | 3.5B        | text-only  | [q8](https://nlp.johnsnowlabs.com/2024/10/05/jsl_meds_q8_v3_en.html) | 10GB | 18.7 | 131,072 | Summarization, Q&A, RAG |\n",
    "|                         | 5.6G      | 3.5B        | text-only  | [q16](https://nlp.johnsnowlabs.com/2024/10/05/jsl_meds_q16_v3_en.html) | 10GB | 50.2 | 131,072 | Summarization, Q&A, RAG |\n",
    "| JSL_MedS_8B_v4         | 4.6G      | 8B          | text-only  | [q4](https://nlp.johnsnowlabs.com/2025/08/05/jsl_meds_8b_q4_v4_en.html) | 16GB | 83  | 32,768  | Summarization, Q&A, RAG |\n",
    "|                         | 7.8G      | 8B          | text-only  | [q8](https://nlp.johnsnowlabs.com/2025/08/05/jsl_meds_8b_q8_v4_en.html) | 16GB | 84  | 32,768  | Summarization, Q&A, RAG |\n",
    "|                         | 12.2G     | 8B          | text-only  | [q16](https://nlp.johnsnowlabs.com/2025/08/05/jsl_meds_8b_q16_v4_en.html) | 16GB | 272 | 32,768  | Summarization, Q&A, RAG |\n",
    "| JSL_MedS_NER_v4        | 2.2G      | 3.5B        | text-only  | [q4](https://nlp.johnsnowlabs.com/2025/07/01/jsl_meds_ner_q4_v4_en.html) | 10GB | 28.5 | 131,072 | Extract and link medical named entities |\n",
    "|                         | 3.7G      | 3.5B        | text-only  | [q8](https://nlp.johnsnowlabs.com/2025/07/01/jsl_meds_ner_q8_v4_en.html) | 10GB | 18.7 | 131,072 | Extract and link medical named entities |\n",
    "| JSL_MedS_RAG_v1        | 2.2G      | 3B          | text-only  | [q4](https://nlp.johnsnowlabs.com/2024/10/05/jsl_meds_rag_q4_v1_en.html) | 10GB | 30  | 32,768  | LLM component of Retrieval Augmented Generation (RAG) |\n",
    "|                         | 3.7G      | 3B          | text-only  | [q8](https://nlp.johnsnowlabs.com/2024/10/05/jsl_meds_rag_q8_v1_en.html) | 10GB | 20  | 32,768  | LLM component of Retrieval Augmented Generation (RAG) |\n",
    "|                         | 5.6G      | 3B          | text-only  | [q16](https://nlp.johnsnowlabs.com/2024/10/05/jsl_meds_rag_q16_v1_en.html) | 10GB | 53  | 32,768  | LLM component of Retrieval Augmented Generation (RAG) |\n",
    "| JSL_MedS_Text2SOAP_v1  | 2.2G      | 3B          | text-only  | [base](https://nlp.johnsnowlabs.com/2025/04/09/jsl_meds_text2soap_v1_en.html) | 10GB | 53  | 32,768  | Generate structured SOAP (Subjective, Objective, Assessment, Plan) summaries |\n",
    "| JSL_MedS_VLM_3B_v1     | 2.5G      | 3B          | multimodal | [q4](https://nlp.johnsnowlabs.com/2025/08/08/jsl_meds_vlm_3b_q8_v1_en.html) | 10GB | 8   | 128,000 | Extract and link structured medical named entities |\n",
    "|                         | 3.6G      | 3B          | multimodal | [q8](https://nlp.johnsnowlabs.com/2025/08/08/jsl_meds_vlm_3b_q4_v1_en.html) | 10GB | 11  | 128,000 | Extract and link structured medical named entities |\n",
    "|                         | 5.6G      | 3B          | multimodal | [q16](https://nlp.johnsnowlabs.com/2025/08/08/jsl_meds_vlm_3b_q16_v1_en.html) | 10GB | 40.1| 128,000 | Extract and link structured medical named entities |\n",
    "| JSL_MedS_NER_VLM_2B_v2 | 1.5G      | 2B          | multimodal | [q4](https://nlp.johnsnowlabs.com/2025/08/10/jsl_meds_ner_vlm_2b_q4_v2_en.html) | 10GB | 25.5| 32,768  | Extract and link structured medical named entities |\n",
    "|                         | 2.1G      | 2B          | multimodal | [q8](https://nlp.johnsnowlabs.com/2025/08/10/jsl_meds_ner_vlm_2b_q8_v2_en.html) | 10GB | 13.7| 32,768  | Extract and link structured medical named entities |\n",
    "|                         | 3.3G      | 2B          | multimodal | [q16](https://nlp.johnsnowlabs.com/2025/08/10/jsl_meds_ner_vlm_2b_q16_v2_en.html) | 10GB | 48.9| 32,768  | Extract and link structured medical named entities |\n",
    "\n",
    "<br>\n",
    "\n",
    "> **\\*** Larger context window requires larger GPU Memory\n"
   ]
  },
  {
   "cell_type": "markdown",
   "metadata": {
    "id": "USxzeevIrPMX"
   },
   "source": [
    "# MedicalLLM Annotator (AutoGGUFModel)"
   ]
  },
  {
   "cell_type": "markdown",
   "metadata": {
    "id": "8kymzW-0sCTX"
   },
   "source": [
    "`MedicalLLM` was designed to load and run large language models (LLMs) in GGUF format with scalable performance. Ideal for clinical and healthcare applications, MedicalLLM supports tasks like medical entity extraction, summarization, Q&A, Retrieval Augmented Generation (RAG), and conversational AI. With simple integration into Spark NLP pipelines, it allows for customizable batch sizes, prediction settings, and chat templates. GPU optimization is also available, enhancing its capabilities for high-performance environments. MedicalLLM empowers users to link medical entities and perform complex NLP tasks with efficiency and precision."
   ]
  },
  {
   "cell_type": "markdown",
   "metadata": {
    "id": "m4qZ-GLr35Tr"
   },
   "source": [
    "## JSL_MedS\n"
   ]
  },
  {
   "cell_type": "code",
   "execution_count": null,
   "metadata": {
    "colab": {
     "base_uri": "https://localhost:8080/"
    },
    "executionInfo": {
     "elapsed": 420424,
     "status": "ok",
     "timestamp": 1760598176674,
     "user": {
      "displayName": "Vildan Sarıkaya",
      "userId": "07789644790967768983"
     },
     "user_tz": 420
    },
    "id": "PDbegeS338Si",
    "outputId": "91ef0677-fd1f-4ec5-bfcb-ac4aac38e959"
   },
   "outputs": [
    {
     "name": "stdout",
     "output_type": "stream",
     "text": [
      "jsl_meds_4b_q16_v5 download started this may take some time.\n",
      "Approximate size to download 5.7 GB\n",
      "[OK!]\n"
     ]
    }
   ],
   "source": [
    "document_assembler = nlp.DocumentAssembler()\\\n",
    "    .setInputCol(\"text\")\\\n",
    "    .setOutputCol(\"document\")\n",
    "\n",
    "medical_llm = medical.AutoGGUFModel.pretrained(\"jsl_meds_4b_q16_v5\", \"en\", \"clinical/models\")\\\n",
    "    .setInputCols(\"document\")\\\n",
    "    .setOutputCol(\"completions\")\\\n",
    "    .setBatchSize(1)\\\n",
    "    .setNPredict(100)\\\n",
    "    .setUseChatTemplate(True)\\\n",
    "    .setTemperature(0)\n",
    "\n",
    "pipeline = nlp.Pipeline(stages=[\n",
    "    document_assembler,\n",
    "    medical_llm\n",
    "])"
   ]
  },
  {
   "cell_type": "markdown",
   "metadata": {
    "id": "e5UsDUfB9Kp9"
   },
   "source": [
    "**Close Ended Question Answering**"
   ]
  },
  {
   "cell_type": "code",
   "execution_count": 6,
   "metadata": {
    "executionInfo": {
     "elapsed": 1487,
     "status": "ok",
     "timestamp": 1760598178164,
     "user": {
      "displayName": "Vildan Sarıkaya",
      "userId": "07789644790967768983"
     },
     "user_tz": 420
    },
    "id": "-WJii86j38QN"
   },
   "outputs": [],
   "source": [
    "prompt = \"\"\"\n",
    "A 23-year-old pregnant woman at 22 weeks gestation presents with burning upon urination. She states it started 1 day ago and has been worsening despite drinking more water and taking cranberry extract. She otherwise feels well and is followed by a doctor for her pregnancy. Her temperature is 97.7°F (36.5°C), blood pressure is 122/77 mmHg, pulse is 80/min, respirations are 19/min, and oxygen saturation is 98% on room air. Physical exam is notable for an absence of costovertebral angle tenderness and a gravid uterus.\n",
    "Which of the following is the best treatment for this patient?\n",
    "A: Ampicillin\n",
    "B: Ceftriaxone\n",
    "C: Ciprofloxacin\n",
    "D: Doxycycline\n",
    "E: Nitrofurantoin\n",
    "\"\"\"\n",
    "\n",
    "data = spark.createDataFrame([[prompt]]).toDF(\"text\")"
   ]
  },
  {
   "cell_type": "code",
   "execution_count": 7,
   "metadata": {
    "executionInfo": {
     "elapsed": 934,
     "status": "ok",
     "timestamp": 1760598179100,
     "user": {
      "displayName": "Vildan Sarıkaya",
      "userId": "07789644790967768983"
     },
     "user_tz": 420
    },
    "id": "QTugddZQ8aSe"
   },
   "outputs": [],
   "source": [
    "results = pipeline.fit(data).transform(data).cache()"
   ]
  },
  {
   "cell_type": "code",
   "execution_count": 8,
   "metadata": {
    "colab": {
     "base_uri": "https://localhost:8080/"
    },
    "executionInfo": {
     "elapsed": 43139,
     "status": "ok",
     "timestamp": 1760598222249,
     "user": {
      "displayName": "Vildan Sarıkaya",
      "userId": "07789644790967768983"
     },
     "user_tz": 420
    },
    "id": "pj-X_ilW38N2",
    "outputId": "46ed6563-4c92-4b61-fe1f-2ba1266c193f"
   },
   "outputs": [
    {
     "name": "stdout",
     "output_type": "stream",
     "text": [
      "+-----------------------------------------------------------------------------------------------------------------------------------------------------------------------------------------------------------------------------------------------------------------------------------------------------------------------------------------------------------------------------------------------------------------------------------------------------------------------------------------------------------------------------------------+\n",
      "|completions                                                                                                                                                                                                                                                                                                                                                                                                                                                                                                                              |\n",
      "+-----------------------------------------------------------------------------------------------------------------------------------------------------------------------------------------------------------------------------------------------------------------------------------------------------------------------------------------------------------------------------------------------------------------------------------------------------------------------------------------------------------------------------------------+\n",
      "|[{document, 0, 473, The patient presents with symptoms suggestive of a urinary tract infection (UTI) during pregnancy. Given the gestational age of 22 weeks, the most appropriate treatment option is **E: Nitrofurantoin**.\\n\\nHere's why:\\n\\n*   **Nitrofurantoin:** Nitrofurantoin is a commonly used and generally safe antibiotic for UTIs in pregnancy, especially in the first and second trimesters. It concentrates well in the urine and has a relatively low risk of systemic side effects compared to, {sentence -> 0}, []}]|\n",
      "+-----------------------------------------------------------------------------------------------------------------------------------------------------------------------------------------------------------------------------------------------------------------------------------------------------------------------------------------------------------------------------------------------------------------------------------------------------------------------------------------------------------------------------------------+\n",
      "\n"
     ]
    }
   ],
   "source": [
    "results.select(\"completions\").show(truncate=False)"
   ]
  },
  {
   "cell_type": "code",
   "execution_count": 9,
   "metadata": {
    "colab": {
     "base_uri": "https://localhost:8080/"
    },
    "executionInfo": {
     "elapsed": 148,
     "status": "ok",
     "timestamp": 1760598222399,
     "user": {
      "displayName": "Vildan Sarıkaya",
      "userId": "07789644790967768983"
     },
     "user_tz": 420
    },
    "id": "0AVAOTIv36wp",
    "outputId": "c7bb51e8-b082-43f0-fc2f-9e0ff8439f42"
   },
   "outputs": [
    {
     "name": "stdout",
     "output_type": "stream",
     "text": [
      "The patient presents with symptoms suggestive of a urinary tract infection (UTI) during pregnancy. Given the gestational age of 22 weeks, the most appropriate treatment option is **E: Nitrofurantoin**.\n",
      "\n",
      "Here's why:\n",
      "\n",
      "*   **Nitrofurantoin:** Nitrofurantoin is a commonly used and generally safe antibiotic for UTIs in pregnancy, especially in the first and second trimesters. It concentrates well in the urine and has a relatively low risk of systemic side effects compared to\n"
     ]
    }
   ],
   "source": [
    "print(results.select(\"completions\").collect()[0].completions[0].result)"
   ]
  },
  {
   "cell_type": "markdown",
   "metadata": {
    "id": "euKPUXd8ap45"
   },
   "source": [
    "**Open-Ended Question**"
   ]
  },
  {
   "cell_type": "code",
   "execution_count": 10,
   "metadata": {
    "executionInfo": {
     "elapsed": 55,
     "status": "ok",
     "timestamp": 1760598222455,
     "user": {
      "displayName": "Vildan Sarıkaya",
      "userId": "07789644790967768983"
     },
     "user_tz": 420
    },
    "id": "I7HQ_mlvatkc"
   },
   "outputs": [],
   "source": [
    "prompt = \"\"\"### Instruction:\n",
    "You will be given a health-related question. Provide a clear, accurate, and concise answer in no more than 3 sentences.\n",
    "Base your answer only on medically accepted and verifiable information.\n",
    "Do not add personal opinions or unverified claims.\n",
    "\n",
    "### Question:\n",
    "What is hypertension?\n",
    "\n",
    "### Response:\n",
    "\"\"\"\n",
    "\n",
    "data = spark.createDataFrame([[prompt]]).toDF(\"text\")"
   ]
  },
  {
   "cell_type": "code",
   "execution_count": 11,
   "metadata": {
    "colab": {
     "base_uri": "https://localhost:8080/"
    },
    "executionInfo": {
     "elapsed": 20629,
     "status": "ok",
     "timestamp": 1760598243082,
     "user": {
      "displayName": "Vildan Sarıkaya",
      "userId": "07789644790967768983"
     },
     "user_tz": 420
    },
    "id": "hz5QWumIath1",
    "outputId": "c14ed4a0-1a3c-4869-99ae-102b4090982c"
   },
   "outputs": [
    {
     "name": "stdout",
     "output_type": "stream",
     "text": [
      "+-------------------------------------------------------------------------------------------------------------------------------------------------------------------------------------------------------------------------------------------------------------------------------------------------------------------------------------------------------------------------------+\n",
      "|completions                                                                                                                                                                                                                                                                                                                                                                    |\n",
      "+-------------------------------------------------------------------------------------------------------------------------------------------------------------------------------------------------------------------------------------------------------------------------------------------------------------------------------------------------------------------------------+\n",
      "|[{document, 0, 322, Hypertension, or high blood pressure, is a condition in which the force of your blood against your artery walls is consistently too high. This can damage your heart, blood vessels, kidneys, and other organs. It is often called the \"silent killer\" because it usually has no symptoms until it causes serious health problems.\\n, {sentence -> 0}, []}]|\n",
      "+-------------------------------------------------------------------------------------------------------------------------------------------------------------------------------------------------------------------------------------------------------------------------------------------------------------------------------------------------------------------------------+\n",
      "\n"
     ]
    }
   ],
   "source": [
    "result = pipeline.fit(data).transform(data).cache()\n",
    "result.select(\"completions\").show(truncate=False)"
   ]
  },
  {
   "cell_type": "code",
   "execution_count": 12,
   "metadata": {
    "colab": {
     "base_uri": "https://localhost:8080/"
    },
    "executionInfo": {
     "elapsed": 93,
     "status": "ok",
     "timestamp": 1760598243174,
     "user": {
      "displayName": "Vildan Sarıkaya",
      "userId": "07789644790967768983"
     },
     "user_tz": 420
    },
    "id": "UmK2ELBSatei",
    "outputId": "4463054e-a47e-43ce-f7f7-3515bbd71321"
   },
   "outputs": [
    {
     "name": "stdout",
     "output_type": "stream",
     "text": [
      "Hypertension, or high blood pressure, is a condition in which the force of your blood against your artery walls is consistently too high. This can damage your heart, blood vessels, kidneys, and other organs. It is often called the \"silent killer\" because it usually has no symptoms until it causes serious health problems.\n",
      "\n"
     ]
    }
   ],
   "source": [
    "print(result.select(\"completions\").collect()[0].completions[0].result)"
   ]
  },
  {
   "cell_type": "markdown",
   "metadata": {
    "id": "XSt4z1cT9RG7"
   },
   "source": [
    "**Summarization**"
   ]
  },
  {
   "cell_type": "code",
   "execution_count": 13,
   "metadata": {
    "executionInfo": {
     "elapsed": 11,
     "status": "ok",
     "timestamp": 1760598243193,
     "user": {
      "displayName": "Vildan Sarıkaya",
      "userId": "07789644790967768983"
     },
     "user_tz": 420
    },
    "id": "gEd458z1YlN4"
   },
   "outputs": [],
   "source": [
    "prompt = \"\"\"### Instruction:\n",
    "You will be given a long piece of text. Summarize it into a **short version that is no more than 30–40% of the original length**.\n",
    "Keep only the main ideas and key facts, removing all unnecessary details or examples.\n",
    "Do not add new information that is not in the text.\n",
    "\n",
    "### Text:\n",
    "Climate change refers to long-term shifts in temperatures and weather patterns. These shifts may be natural,\n",
    "but since the 1800s, human activities have been the main driver, primarily due to burning fossil fuels like coal,\n",
    "oil, and gas. Burning these materials releases greenhouse gases, which trap the sun’s heat and raise global temperatures.\n",
    "Consequences include rising sea levels, more extreme weather events, and disruptions to food and water supply.\n",
    "\n",
    "### Response:\n",
    "\"\"\"\n",
    "\n",
    "\n",
    "data = spark.createDataFrame([[prompt]]).toDF(\"text\")"
   ]
  },
  {
   "cell_type": "code",
   "execution_count": 14,
   "metadata": {
    "colab": {
     "base_uri": "https://localhost:8080/"
    },
    "executionInfo": {
     "elapsed": 24613,
     "status": "ok",
     "timestamp": 1760598267807,
     "user": {
      "displayName": "Vildan Sarıkaya",
      "userId": "07789644790967768983"
     },
     "user_tz": 420
    },
    "id": "UdOd1Xc0YlKz",
    "outputId": "ca42ecd0-48fe-454a-d084-c90e114a68e1"
   },
   "outputs": [
    {
     "name": "stdout",
     "output_type": "stream",
     "text": [
      "+------------------------------------------------------------------------------------------------------------------------------------------------------------------------------------------------------------------------------------------------------------------------------------------------------------------------------------------------------------------------------+\n",
      "|completions                                                                                                                                                                                                                                                                                                                                                                   |\n",
      "+------------------------------------------------------------------------------------------------------------------------------------------------------------------------------------------------------------------------------------------------------------------------------------------------------------------------------------------------------------------------------+\n",
      "|[{document, 0, 321, Climate change is a long-term shift in temperatures and weather patterns, primarily driven by human activities since the 1800s. Burning fossil fuels releases greenhouse gases, trapping heat and raising global temperatures. This leads to rising sea levels, more extreme weather, and disruptions to food and water supplies.\\n, {sentence -> 0}, []}]|\n",
      "+------------------------------------------------------------------------------------------------------------------------------------------------------------------------------------------------------------------------------------------------------------------------------------------------------------------------------------------------------------------------------+\n",
      "\n"
     ]
    }
   ],
   "source": [
    "results = pipeline.fit(data).transform(data).cache()\n",
    "results.select(\"completions\").show(truncate=False)"
   ]
  },
  {
   "cell_type": "code",
   "execution_count": 15,
   "metadata": {
    "colab": {
     "base_uri": "https://localhost:8080/"
    },
    "executionInfo": {
     "elapsed": 8,
     "status": "ok",
     "timestamp": 1760598267814,
     "user": {
      "displayName": "Vildan Sarıkaya",
      "userId": "07789644790967768983"
     },
     "user_tz": 420
    },
    "id": "nberOLGGYlHc",
    "outputId": "33c972f4-b284-4710-eb76-16177d6ad014"
   },
   "outputs": [
    {
     "name": "stdout",
     "output_type": "stream",
     "text": [
      "Climate change is a long-term shift in temperatures and weather patterns, primarily driven by human activities since the 1800s. Burning fossil fuels releases greenhouse gases, trapping heat and raising global temperatures. This leads to rising sea levels, more extreme weather, and disruptions to food and water supplies.\n",
      "\n"
     ]
    }
   ],
   "source": [
    "print(results.select(\"completions\").collect()[0].completions[0].result)"
   ]
  },
  {
   "cell_type": "markdown",
   "metadata": {
    "id": "pc5NGIue_aPL"
   },
   "source": [
    "**Named Entity Recognition**"
   ]
  },
  {
   "cell_type": "code",
   "execution_count": 16,
   "metadata": {
    "colab": {
     "base_uri": "https://localhost:8080/"
    },
    "executionInfo": {
     "elapsed": 325,
     "status": "ok",
     "timestamp": 1760598268140,
     "user": {
      "displayName": "Vildan Sarıkaya",
      "userId": "07789644790967768983"
     },
     "user_tz": 420
    },
    "id": "lBIR428i9XDz",
    "outputId": "239591b2-102f-4622-9b34-54bd5ea0ce84"
   },
   "outputs": [
    {
     "name": "stdout",
     "output_type": "stream",
     "text": [
      "+----------------------------------------------------------------------------------------------------+\n",
      "|                                                                                                text|\n",
      "+----------------------------------------------------------------------------------------------------+\n",
      "|\\n### Template:\\n{\\n    \"drugs\": [\\n        {\\n            \"name\": \"\",\\n            \"reactions\": ...|\n",
      "+----------------------------------------------------------------------------------------------------+\n",
      "\n"
     ]
    }
   ],
   "source": [
    "med_ner_prompt = \"\"\"\n",
    "### Template:\n",
    "{\n",
    "    \"drugs\": [\n",
    "        {\n",
    "            \"name\": \"\",\n",
    "            \"reactions\": []\n",
    "        }\n",
    "    ],\n",
    "    \"chunks_with_labels\": [\n",
    "        {\n",
    "            \"text\": \"\",\n",
    "            \"label\": \"\"\n",
    "        }\n",
    "    ]\n",
    "}\n",
    "\n",
    "### Instructions:\n",
    "Extract entities from the Text and return:\n",
    "1) The required JSON under the \"drugs\" key EXACTLY in the schema above:\n",
    "   - \"name\": the drug name or brand as written in the text.\n",
    "   - \"reactions\": a list of adverse effects mentioned for that drug (strings only, no extra fields).\n",
    "2) Additionally, return a flat list of all extracted chunks and their labels under \"chunks_with_labels\":\n",
    "   - Each item must have \"text\" (the exact span from the text) and \"label\" (e.g., DRUG, REACTION, DOSAGE, FREQUENCY, DURATION).\n",
    "   - Do not invent information not present in the text.\n",
    "   - Use the exact casing and wording from the text.\n",
    "   - If something is not present, return an empty list for that section.\n",
    "\n",
    "Only use information from the Text. Output valid JSON matching the Template.\n",
    "\n",
    "### Text:\n",
    "I feel a bit drowsy & have a little blurred vision , and some gastric problems .\n",
    "I 've been on Arthrotec 50 for over 10 years on and off , only taking it when I needed it .\n",
    "Due to my arthritis getting progressively worse , to the point where I am in tears with the agony.\n",
    "Gp 's started me on 75 twice a day and I have to take it every day for the next month to see how I get on , here goes .\n",
    "So far its been very good , pains almost gone , but I feel a bit weird , did n't have that when on 50.\n",
    "\"\"\"\n",
    "\n",
    "\n",
    "data = spark.createDataFrame([[med_ner_prompt]]).toDF(\"text\")\n",
    "data.show(truncate=100)"
   ]
  },
  {
   "cell_type": "code",
   "execution_count": 17,
   "metadata": {
    "colab": {
     "base_uri": "https://localhost:8080/"
    },
    "executionInfo": {
     "elapsed": 45891,
     "status": "ok",
     "timestamp": 1760598314032,
     "user": {
      "displayName": "Vildan Sarıkaya",
      "userId": "07789644790967768983"
     },
     "user_tz": 420
    },
    "id": "vqgxvQXY_ih3",
    "outputId": "cf163410-69c7-44aa-8ce5-d5a219c1f45b"
   },
   "outputs": [
    {
     "name": "stdout",
     "output_type": "stream",
     "text": [
      "+-------------------------------------------------------------------------------------------------------------------------------------------------------------------------------------------------------------------------------------------------------------------------------------------------------------------------------------------------------------------------------------------------------------------------------------------------+\n",
      "|completions                                                                                                                                                                                                                                                                                                                                                                                                                                      |\n",
      "+-------------------------------------------------------------------------------------------------------------------------------------------------------------------------------------------------------------------------------------------------------------------------------------------------------------------------------------------------------------------------------------------------------------------------------------------------+\n",
      "|[{document, 0, 370, ```json\\n{\\n    \"drugs\": [\\n        {\\n            \"name\": \"Arthrotec 50\",\\n            \"reactions\": [\\n                \"drowsy\",\\n                \"blurred vision\",\\n                \"gastric problems\",\\n                \"weird\"\\n            ]\\n        },\\n        {\\n            \"name\": \"Arthrotec 75\",\\n            \"reactions\": [\\n                \"weird\"\\n            ]\\n        }\\n    ],\\n, {sentence -> 0}, []}]|\n",
      "+-------------------------------------------------------------------------------------------------------------------------------------------------------------------------------------------------------------------------------------------------------------------------------------------------------------------------------------------------------------------------------------------------------------------------------------------------+\n",
      "\n",
      "CPU times: user 13.9 ms, sys: 5.48 ms, total: 19.4 ms\n",
      "Wall time: 45.8 s\n"
     ]
    }
   ],
   "source": [
    "%%time\n",
    "results = pipeline.fit(data).transform(data).cache()\n",
    "results.select(\"completions\").show(truncate=False)"
   ]
  },
  {
   "cell_type": "code",
   "execution_count": 18,
   "metadata": {
    "colab": {
     "base_uri": "https://localhost:8080/"
    },
    "executionInfo": {
     "elapsed": 41,
     "status": "ok",
     "timestamp": 1760598314063,
     "user": {
      "displayName": "Vildan Sarıkaya",
      "userId": "07789644790967768983"
     },
     "user_tz": 420
    },
    "id": "dCN_VQK4Ev4j",
    "outputId": "b263ed13-6a05-41cf-d3b4-41c9524953f8"
   },
   "outputs": [
    {
     "name": "stdout",
     "output_type": "stream",
     "text": [
      "```json\n",
      "{\n",
      "    \"drugs\": [\n",
      "        {\n",
      "            \"name\": \"Arthrotec 50\",\n",
      "            \"reactions\": [\n",
      "                \"drowsy\",\n",
      "                \"blurred vision\",\n",
      "                \"gastric problems\",\n",
      "                \"weird\"\n",
      "            ]\n",
      "        },\n",
      "        {\n",
      "            \"name\": \"Arthrotec 75\",\n",
      "            \"reactions\": [\n",
      "                \"weird\"\n",
      "            ]\n",
      "        }\n",
      "    ],\n",
      "\n"
     ]
    }
   ],
   "source": [
    "print(results.select(\"completions\").collect()[0].completions[0].result)"
   ]
  },
  {
   "cell_type": "markdown",
   "metadata": {
    "id": "TjuG28VgTVb6"
   },
   "source": [
    "**Retriveal Augmented Generation**"
   ]
  },
  {
   "cell_type": "code",
   "execution_count": 19,
   "metadata": {
    "colab": {
     "base_uri": "https://localhost:8080/"
    },
    "executionInfo": {
     "elapsed": 340,
     "status": "ok",
     "timestamp": 1760598314404,
     "user": {
      "displayName": "Vildan Sarıkaya",
      "userId": "07789644790967768983"
     },
     "user_tz": 420
    },
    "id": "TZUL6ukjTrkp",
    "outputId": "32a57c25-01cf-4cff-e6a1-ce590ac044f3"
   },
   "outputs": [
    {
     "name": "stdout",
     "output_type": "stream",
     "text": [
      "+----------------------------------------------------------------------------------------------------+\n",
      "|                                                                                                text|\n",
      "+----------------------------------------------------------------------------------------------------+\n",
      "|\\n### Template:\\nUse the following pieces of context to answer the user's question. If you return...|\n",
      "+----------------------------------------------------------------------------------------------------+\n",
      "\n"
     ]
    }
   ],
   "source": [
    "prompt = \"\"\"\n",
    "### Template:\n",
    "Use the following pieces of context to answer the user's question. If you return an answer, end with 'It's my pleasure'.\n",
    "If you don't know the answer, just say that you don't know, don't try to make up an answer.\n",
    "\n",
    "### Context:\n",
    "'Hypertension is a chronic medical condition in which the blood pressure in the arteries is persistently elevated. Long-term high blood pressure is a major risk factor for stroke, heart disease, and kidney failure.',\n",
    "'Several studies have shown that dietary habits, physical inactivity, and high sodium intake contribute significantly to the development of hypertension. Lifestyle modifications such as reducing salt intake, exercising regularly, and maintaining a healthy weight can help prevent and manage the condition.',\n",
    "\n",
    "### Questions:\n",
    "impact of high sodium intake on hypertension?\n",
    "\"\"\"\n",
    "\n",
    "data = spark.createDataFrame([[prompt]]).toDF(\"text\")\n",
    "data.show(truncate=100)"
   ]
  },
  {
   "cell_type": "code",
   "execution_count": 20,
   "metadata": {
    "colab": {
     "base_uri": "https://localhost:8080/"
    },
    "executionInfo": {
     "elapsed": 13488,
     "status": "ok",
     "timestamp": 1760598327893,
     "user": {
      "displayName": "Vildan Sarıkaya",
      "userId": "07789644790967768983"
     },
     "user_tz": 420
    },
    "id": "kPP2Ar6_TriH",
    "outputId": "83f13151-f208-41bd-fa07-2586dd889eba"
   },
   "outputs": [
    {
     "name": "stdout",
     "output_type": "stream",
     "text": [
      "+----------------------------------------------------------------------------------------------------------------------------------------------+\n",
      "|completions                                                                                                                                   |\n",
      "+----------------------------------------------------------------------------------------------------------------------------------------------+\n",
      "|[{document, 0, 98, High sodium intake contributes significantly to the development of hypertension. It's my pleasure.\\n, {sentence -> 0}, []}]|\n",
      "+----------------------------------------------------------------------------------------------------------------------------------------------+\n",
      "\n",
      "CPU times: user 10.4 ms, sys: 744 µs, total: 11.2 ms\n",
      "Wall time: 13.5 s\n"
     ]
    }
   ],
   "source": [
    "%%time\n",
    "results = pipeline.fit(data).transform(data).cache()\n",
    "results.select(\"completions\").show(truncate=False)"
   ]
  },
  {
   "cell_type": "code",
   "execution_count": 21,
   "metadata": {
    "colab": {
     "base_uri": "https://localhost:8080/"
    },
    "executionInfo": {
     "elapsed": 80,
     "status": "ok",
     "timestamp": 1760598327972,
     "user": {
      "displayName": "Vildan Sarıkaya",
      "userId": "07789644790967768983"
     },
     "user_tz": 420
    },
    "id": "Tt39VV70TrfY",
    "outputId": "8931b122-fcbe-4803-ed39-2d79c765c727"
   },
   "outputs": [
    {
     "name": "stdout",
     "output_type": "stream",
     "text": [
      "High sodium intake contributes significantly to the development of hypertension. It's my pleasure.\n",
      "\n"
     ]
    }
   ],
   "source": [
    "print(results.select(\"completions\").collect()[0].completions[0].result)"
   ]
  },
  {
   "cell_type": "markdown",
   "metadata": {
    "id": "GK68nMgSTYA5"
   },
   "source": [
    "**Text to SQL**"
   ]
  },
  {
   "cell_type": "code",
   "execution_count": 22,
   "metadata": {
    "executionInfo": {
     "elapsed": 10,
     "status": "ok",
     "timestamp": 1760598327983,
     "user": {
      "displayName": "Vildan Sarıkaya",
      "userId": "07789644790967768983"
     },
     "user_tz": 420
    },
    "id": "BcC6cC7kXCcG"
   },
   "outputs": [],
   "source": [
    "prompt = \"\"\"### Instruction:\n",
    "Table: HospitalVisits\n",
    "- visit_id (INT)\n",
    "- patient_id (INT)\n",
    "- visit_date (DATE)\n",
    "- department (VARCHAR)\n",
    "- doctor_name (VARCHAR)\n",
    "- diagnosis (VARCHAR)\n",
    "\n",
    "Retrieve the visit dates and doctor names for patients diagnosed with pneumonia.\n",
    "\n",
    "### Response:\n",
    "\"\"\"\n",
    "\n",
    "data = spark.createDataFrame([[prompt]]).toDF(\"text\")\n"
   ]
  },
  {
   "cell_type": "code",
   "execution_count": 23,
   "metadata": {
    "colab": {
     "base_uri": "https://localhost:8080/"
    },
    "executionInfo": {
     "elapsed": 11114,
     "status": "ok",
     "timestamp": 1760598339099,
     "user": {
      "displayName": "Vildan Sarıkaya",
      "userId": "07789644790967768983"
     },
     "user_tz": 420
    },
    "id": "Kaq-ou9ZXGmP",
    "outputId": "950fb900-805a-495b-d1b1-3876592d0074"
   },
   "outputs": [
    {
     "name": "stdout",
     "output_type": "stream",
     "text": [
      "+----------------------------------------------------------------------------------------------------------------------------------------------------+\n",
      "|completions                                                                                                                                         |\n",
      "+----------------------------------------------------------------------------------------------------------------------------------------------------+\n",
      "|[{document, 0, 100, ```sql\\nSELECT DISTINCT visit_date, doctor_name\\nFROM HospitalVisits\\nWHERE diagnosis = 'Pneumonia';\\n```, {sentence -> 0}, []}]|\n",
      "+----------------------------------------------------------------------------------------------------------------------------------------------------+\n",
      "\n"
     ]
    }
   ],
   "source": [
    "result = pipeline.fit(data).transform(data).cache()\n",
    "result.select(\"completions\").show(truncate=False)"
   ]
  },
  {
   "cell_type": "code",
   "execution_count": 24,
   "metadata": {
    "colab": {
     "base_uri": "https://localhost:8080/"
    },
    "executionInfo": {
     "elapsed": 77,
     "status": "ok",
     "timestamp": 1760598339179,
     "user": {
      "displayName": "Vildan Sarıkaya",
      "userId": "07789644790967768983"
     },
     "user_tz": 420
    },
    "id": "IRjwU6cTXJ3S",
    "outputId": "e46e8a89-4c10-49ad-b587-50bac9e6bf59"
   },
   "outputs": [
    {
     "name": "stdout",
     "output_type": "stream",
     "text": [
      "```sql\n",
      "SELECT DISTINCT visit_date, doctor_name\n",
      "FROM HospitalVisits\n",
      "WHERE diagnosis = 'Pneumonia';\n",
      "```\n"
     ]
    }
   ],
   "source": [
    "example_output  = result.select(\"completions\").collect()[0].completions[0].result\n",
    "print(example_output)"
   ]
  },
  {
   "cell_type": "markdown",
   "metadata": {
    "id": "cZy0EbcOxLXy"
   },
   "source": [
    "## JSL_MedS_NER\n",
    "\n",
    "This LLM model is trained to extract and link entities in a document. Users needs to define an input schema as explained in the example section. Drug is defined as a list which tells the model that there could be multiple drugs in the document and it has to extract all of them. Each drug has properties like \"name\" and \"reaction\". Since \"name\" is only one, it is a string, but there could be multiple reactions, hence it is a list. Similarly, users can define any schema for any type of entity."
   ]
  },
  {
   "cell_type": "code",
   "execution_count": 25,
   "metadata": {
    "colab": {
     "base_uri": "https://localhost:8080/"
    },
    "executionInfo": {
     "elapsed": 283256,
     "status": "ok",
     "timestamp": 1760598622436,
     "user": {
      "displayName": "Vildan Sarıkaya",
      "userId": "07789644790967768983"
     },
     "user_tz": 420
    },
    "id": "PzRUUA8Cwe0Y",
    "outputId": "a7d75367-221b-4a43-c2ea-56f937694bb0"
   },
   "outputs": [
    {
     "name": "stdout",
     "output_type": "stream",
     "text": [
      "jsl_meds_ner_q8_v4 download started this may take some time.\n",
      "Approximate size to download 3.7 GB\n",
      "[OK!]\n"
     ]
    }
   ],
   "source": [
    "document_assembler = nlp.DocumentAssembler()\\\n",
    "    .setInputCol(\"text\")\\\n",
    "    .setOutputCol(\"document\")\n",
    "\n",
    "medical_llm = medical.AutoGGUFModel.pretrained(\"jsl_meds_ner_q8_v4\", \"en\", \"clinical/models\")\\\n",
    "    .setInputCols(\"document\")\\\n",
    "    .setOutputCol(\"completions\")\\\n",
    "    .setBatchSize(1)\\\n",
    "    .setNPredict(100)\\\n",
    "    .setUseChatTemplate(True)\\\n",
    "    .setTemperature(0)\\\n",
    "    #.setNGpuLayers(100) # if you have GPU\n",
    "\n",
    "\n",
    "pipeline = nlp.Pipeline(\n",
    "    stages = [\n",
    "        document_assembler,\n",
    "        medical_llm\n",
    "])"
   ]
  },
  {
   "cell_type": "code",
   "execution_count": 26,
   "metadata": {
    "colab": {
     "base_uri": "https://localhost:8080/"
    },
    "executionInfo": {
     "elapsed": 3648,
     "status": "ok",
     "timestamp": 1760598626086,
     "user": {
      "displayName": "Vildan Sarıkaya",
      "userId": "07789644790967768983"
     },
     "user_tz": 420
    },
    "id": "LbqgPJP9weyB",
    "outputId": "37d261a9-bba4-40c2-d1f4-47b649a3bd6e"
   },
   "outputs": [
    {
     "name": "stdout",
     "output_type": "stream",
     "text": [
      "+----------------------------------------------------------------------------------------------------+\n",
      "|                                                                                                text|\n",
      "+----------------------------------------------------------------------------------------------------+\n",
      "|\\n### Template:\\n{\\n    \"drugs\": [\\n        {\\n            \"name\": \"\",\\n            \"reactions\": ...|\n",
      "+----------------------------------------------------------------------------------------------------+\n",
      "\n"
     ]
    }
   ],
   "source": [
    "med_ner_prompt = \"\"\"\n",
    "### Template:\n",
    "{\n",
    "    \"drugs\": [\n",
    "        {\n",
    "            \"name\": \"\",\n",
    "            \"reactions\": []\n",
    "        }\n",
    "    ]\n",
    "}\n",
    "### Text:\n",
    "I feel a bit drowsy & have a little blurred vision , and some gastric problems .\n",
    "I 've been on Arthrotec 50 for over 10 years on and off , only taking it when I needed it .\n",
    "Due to my arthritis getting progressively worse , to the point where I am in tears with the agony.\n",
    "Gp 's started me on 75 twice a day and I have to take it every day for the next month to see how I get on , here goes .\n",
    "So far its been very good , pains almost gone , but I feel a bit weird , did n't have that when on 50.\n",
    "\"\"\"\n",
    "\n",
    "data = spark.createDataFrame([[med_ner_prompt]]).toDF(\"text\")\n",
    "data.show(truncate=100)"
   ]
  },
  {
   "cell_type": "code",
   "execution_count": 27,
   "metadata": {
    "colab": {
     "base_uri": "https://localhost:8080/"
    },
    "executionInfo": {
     "elapsed": 26400,
     "status": "ok",
     "timestamp": 1760598652485,
     "user": {
      "displayName": "Vildan Sarıkaya",
      "userId": "07789644790967768983"
     },
     "user_tz": 420
    },
    "id": "GDUzoR4iweqd",
    "outputId": "b42f49bd-ab11-42ab-8588-98081cdbcc9c"
   },
   "outputs": [
    {
     "name": "stdout",
     "output_type": "stream",
     "text": [
      "+------------------------------------------------------------------------------------------------------------------------------------------------------------------------------------------------------------------------------------------------------------------------------------------------------------------------------------------------------------------------------------------------------+\n",
      "|completions                                                                                                                                                                                                                                                                                                                                                                                           |\n",
      "+------------------------------------------------------------------------------------------------------------------------------------------------------------------------------------------------------------------------------------------------------------------------------------------------------------------------------------------------------------------------------------------------------+\n",
      "|[{document, 0, 328, {\\n    \"drugs\": [\\n        {\\n            \"name\": \"Arthrotec 50\",\\n            \"reactions\": [\\n                \"drowsy\",\\n                \"blurred vision\",\\n                \"gastric problems\"\\n            ]\\n        },\\n        {\\n            \"name\": \"75\",\\n            \"reactions\": [\\n                \"weird\"\\n            ]\\n        }\\n    ]\\n}\\n, {sentence -> 0}, []}]|\n",
      "+------------------------------------------------------------------------------------------------------------------------------------------------------------------------------------------------------------------------------------------------------------------------------------------------------------------------------------------------------------------------------------------------------+\n",
      "\n",
      "CPU times: user 12.8 ms, sys: 3.01 ms, total: 15.8 ms\n",
      "Wall time: 26.4 s\n"
     ]
    }
   ],
   "source": [
    "%%time\n",
    "results = pipeline.fit(data).transform(data).cache()\n",
    "results.select(\"completions\").show(truncate=False)"
   ]
  },
  {
   "cell_type": "code",
   "execution_count": 28,
   "metadata": {
    "colab": {
     "base_uri": "https://localhost:8080/"
    },
    "executionInfo": {
     "elapsed": 83,
     "status": "ok",
     "timestamp": 1760598652570,
     "user": {
      "displayName": "Vildan Sarıkaya",
      "userId": "07789644790967768983"
     },
     "user_tz": 420
    },
    "id": "dsP8ggQsweoA",
    "outputId": "7aac287e-6dd0-4dbc-ebee-de72218175a0"
   },
   "outputs": [
    {
     "name": "stdout",
     "output_type": "stream",
     "text": [
      "{\n",
      "    \"drugs\": [\n",
      "        {\n",
      "            \"name\": \"Arthrotec 50\",\n",
      "            \"reactions\": [\n",
      "                \"drowsy\",\n",
      "                \"blurred vision\",\n",
      "                \"gastric problems\"\n",
      "            ]\n",
      "        },\n",
      "        {\n",
      "            \"name\": \"75\",\n",
      "            \"reactions\": [\n",
      "                \"weird\"\n",
      "            ]\n",
      "        }\n",
      "    ]\n",
      "}\n",
      "\n"
     ]
    }
   ],
   "source": [
    "print(results.select(\"completions\").collect()[0].completions[0].result)"
   ]
  },
  {
   "cell_type": "markdown",
   "metadata": {
    "id": "lmbVFkTN3_Ld"
   },
   "source": [
    "## JSL_MedS_RAG"
   ]
  },
  {
   "cell_type": "code",
   "execution_count": 29,
   "metadata": {
    "colab": {
     "base_uri": "https://localhost:8080/"
    },
    "executionInfo": {
     "elapsed": 275877,
     "status": "ok",
     "timestamp": 1760598928448,
     "user": {
      "displayName": "Vildan Sarıkaya",
      "userId": "07789644790967768983"
     },
     "user_tz": 420
    },
    "id": "vicSJwiV3-9o",
    "outputId": "0ce7f75e-920a-4f3a-80ce-ba84de1e8199"
   },
   "outputs": [
    {
     "name": "stdout",
     "output_type": "stream",
     "text": [
      "jsl_meds_rag_q8_v1 download started this may take some time.\n",
      "Approximate size to download 3.7 GB\n",
      "[OK!]\n"
     ]
    }
   ],
   "source": [
    "document_assembler = nlp.DocumentAssembler()\\\n",
    "    .setInputCol(\"text\")\\\n",
    "    .setOutputCol(\"document\")\n",
    "\n",
    "medical_llm = medical.AutoGGUFModel.pretrained(\"jsl_meds_rag_q8_v1\", \"en\", \"clinical/models\")\\\n",
    "    .setInputCols(\"document\")\\\n",
    "    .setOutputCol(\"completions\")\\\n",
    "    .setBatchSize(1)\\\n",
    "    .setNPredict(100)\\\n",
    "    .setUseChatTemplate(True)\\\n",
    "    .setTemperature(0)\n",
    "\n",
    "\n",
    "pipeline = nlp.Pipeline(\n",
    "    stages = [\n",
    "        document_assembler,\n",
    "        medical_llm\n",
    "])"
   ]
  },
  {
   "cell_type": "code",
   "execution_count": 30,
   "metadata": {
    "colab": {
     "base_uri": "https://localhost:8080/"
    },
    "executionInfo": {
     "elapsed": 2751,
     "status": "ok",
     "timestamp": 1760598931202,
     "user": {
      "displayName": "Vildan Sarıkaya",
      "userId": "07789644790967768983"
     },
     "user_tz": 420
    },
    "id": "ZtpdWyzN3-7D",
    "outputId": "8f1af3b3-370f-49b2-cd01-54f1f88bd1fc"
   },
   "outputs": [
    {
     "name": "stdout",
     "output_type": "stream",
     "text": [
      "+----------------------------------------------------------------------------------------------------+\n",
      "|                                                                                                text|\n",
      "+----------------------------------------------------------------------------------------------------+\n",
      "|\\n### Template:\\nUse the following pieces of context to answer the user's question. If you return...|\n",
      "+----------------------------------------------------------------------------------------------------+\n",
      "\n"
     ]
    }
   ],
   "source": [
    "prompt = \"\"\"\n",
    "### Template:\n",
    "Use the following pieces of context to answer the user's question. If you return an answer, end with 'It's my pleasure'.\n",
    "If you don't know the answer, just say that you don't know, don't try to make up an answer .\n",
    "\n",
    "\n",
    "### Context:\n",
    "'Background: Diabetes is referred to a group of diseases characterized by high glucose levels in blood. It is caused by a deficiency in the production or function of insulin or both, which can occur because of different reasons, resulting in protein and lipid metabolic disorders. The aim of this study was to systematically review the prevalence and incidence of type 1 diabetes in the world.',\n",
    "'A higher prevalence of diabetes mellitus was observed in Addis Ababa public health institutions. Factors such as age, alcohol drinking, HDL, triglycerides, and vagarious physical activity were associated with diabetes mellitus. Concerned bodies need to work over the ever-increasing diabetes mellitus in Addis Ababa.',\n",
    "\n",
    "### Questions:\n",
    "relationship between diabetes and obesity?\n",
    "\"\"\"\n",
    "\n",
    "data = spark.createDataFrame([[prompt]]).toDF(\"text\")\n",
    "data.show(truncate=100)"
   ]
  },
  {
   "cell_type": "code",
   "execution_count": 31,
   "metadata": {
    "colab": {
     "base_uri": "https://localhost:8080/"
    },
    "executionInfo": {
     "elapsed": 30800,
     "status": "ok",
     "timestamp": 1760598962004,
     "user": {
      "displayName": "Vildan Sarıkaya",
      "userId": "07789644790967768983"
     },
     "user_tz": 420
    },
    "id": "YOxNytndX_Eg",
    "outputId": "da5dd6a6-ac33-4eb1-e97f-526e820e85c6"
   },
   "outputs": [
    {
     "name": "stdout",
     "output_type": "stream",
     "text": [
      "+--------------------------------------------------------------------------------------------------------------------------------------------------------------------------------------------------------------------------------------------------------------------------------------------------------------------------------------------------------------------------------------------------------------------------------------------------------------------------+\n",
      "|completions                                                                                                                                                                                                                                                                                                                                                                                                                                                               |\n",
      "+--------------------------------------------------------------------------------------------------------------------------------------------------------------------------------------------------------------------------------------------------------------------------------------------------------------------------------------------------------------------------------------------------------------------------------------------------------------------------+\n",
      "|[{document, 0, 413, \\nDiabetes and obesity are closely related conditions. Obesity is a significant risk factor for the development of type 2 diabetes. Excess body fat, particularly around the abdomen, can increase the body's resistance to insulin, leading to higher blood glucose levels. This insulin resistance can eventually result in type 2 diabetes. Additionally, obesity can exacerbate the complications associated with diabetes,, {sentence -> 0}, []}]|\n",
      "+--------------------------------------------------------------------------------------------------------------------------------------------------------------------------------------------------------------------------------------------------------------------------------------------------------------------------------------------------------------------------------------------------------------------------------------------------------------------------+\n",
      "\n",
      "CPU times: user 11.2 ms, sys: 4.81 ms, total: 16 ms\n",
      "Wall time: 30.8 s\n"
     ]
    }
   ],
   "source": [
    "%%time\n",
    "results = pipeline.fit(data).transform(data).cache()\n",
    "results.select(\"completions\").show(truncate=False)"
   ]
  },
  {
   "cell_type": "code",
   "execution_count": 32,
   "metadata": {
    "colab": {
     "base_uri": "https://localhost:8080/"
    },
    "executionInfo": {
     "elapsed": 59,
     "status": "ok",
     "timestamp": 1760598962064,
     "user": {
      "displayName": "Vildan Sarıkaya",
      "userId": "07789644790967768983"
     },
     "user_tz": 420
    },
    "id": "bKAy9wBwX_BQ",
    "outputId": "f6275e19-e614-4662-8dac-bcadb478c240"
   },
   "outputs": [
    {
     "name": "stdout",
     "output_type": "stream",
     "text": [
      "\n",
      "Diabetes and obesity are closely related conditions. Obesity is a significant risk factor for the development of type 2 diabetes. Excess body fat, particularly around the abdomen, can increase the body's resistance to insulin, leading to higher blood glucose levels. This insulin resistance can eventually result in type 2 diabetes. Additionally, obesity can exacerbate the complications associated with diabetes,\n"
     ]
    }
   ],
   "source": [
    "print(results.select(\"completions\").collect()[0].completions[0].result)"
   ]
  },
  {
   "cell_type": "markdown",
   "metadata": {
    "id": "7oUNA_5TL8fE"
   },
   "source": [
    "## Medical SOAP Note Generator (Text2SOAP)"
   ]
  },
  {
   "cell_type": "code",
   "execution_count": 33,
   "metadata": {
    "colab": {
     "base_uri": "https://localhost:8080/"
    },
    "executionInfo": {
     "elapsed": 363334,
     "status": "ok",
     "timestamp": 1760599325399,
     "user": {
      "displayName": "Vildan Sarıkaya",
      "userId": "07789644790967768983"
     },
     "user_tz": 420
    },
    "id": "k6BBP9gWLv8y",
    "outputId": "9884c644-e9da-4fa4-a627-00a4932e66b1"
   },
   "outputs": [
    {
     "name": "stdout",
     "output_type": "stream",
     "text": [
      "jsl_meds_text2soap_v1 download started this may take some time.\n",
      "Approximate size to download 4.6 GB\n",
      "[OK!]\n"
     ]
    }
   ],
   "source": [
    "document_assembler = nlp.DocumentAssembler()\\\n",
    "    .setInputCol(\"text\")\\\n",
    "    .setOutputCol(\"document\")\n",
    "\n",
    "medical_llm = medical.AutoGGUFModel.pretrained(\"jsl_meds_text2soap_v1\", \"en\", \"clinical/models\")\\\n",
    "    .setInputCols(\"document\")\\\n",
    "    .setOutputCol(\"completions\")\\\n",
    "    .setBatchSize(1)\\\n",
    "    .setNPredict(1024)\\\n",
    "    .setUseChatTemplate(True)\\\n",
    "    .setTemperature(0)\\\n",
    "    .setNGpuLayers(1024)\n",
    "\n",
    "pipeline = nlp.Pipeline(\n",
    "    stages = [\n",
    "        document_assembler,\n",
    "        medical_llm\n",
    "])"
   ]
  },
  {
   "cell_type": "code",
   "execution_count": 34,
   "metadata": {
    "executionInfo": {
     "elapsed": 2,
     "status": "ok",
     "timestamp": 1760599325404,
     "user": {
      "displayName": "Vildan Sarıkaya",
      "userId": "07789644790967768983"
     },
     "user_tz": 420
    },
    "id": "lxOecmRhyq_f"
   },
   "outputs": [],
   "source": [
    "text = '''\n",
    "A 28-year-old female with a history of gestational diabetes mellitus diagnosed eight years prior to presentation and subsequent type two diabetes mellitus ( T2DM ), one prior episode of HTG-induced pancreatitis three years prior to presentation , and associated with an acute hepatitis , presented with a one-week history of polyuria , poor appetite , and vomiting .\n",
    "She was on metformin , glipizide , and dapagliflozin for T2DM and atorvastatin and gemfibrozil for HTG . She had been on dapagliflozin for six months at the time of presentation .\n",
    "Physical examination on presentation was significant for dry oral mucosa ; significantly , her abdominal examination was benign with no tenderness , guarding , or rigidity . Pertinent laboratory findings on admission were : serum glucose 111 mg/dl ,  creatinine 0.4 mg/dL , triglycerides 508 mg/dL , total cholesterol 122 mg/dL , and venous pH 7.27 .\n",
    "'''"
   ]
  },
  {
   "cell_type": "code",
   "execution_count": 35,
   "metadata": {
    "colab": {
     "base_uri": "https://localhost:8080/"
    },
    "executionInfo": {
     "elapsed": 28251,
     "status": "ok",
     "timestamp": 1760599353656,
     "user": {
      "displayName": "Vildan Sarıkaya",
      "userId": "07789644790967768983"
     },
     "user_tz": 420
    },
    "id": "myeKTZrdNcNf",
    "outputId": "2f7820fa-58ee-4924-b6dd-50597473cfb8"
   },
   "outputs": [
    {
     "name": "stdout",
     "output_type": "stream",
     "text": [
      "+----------------------------------------------------------------------------------------------------+\n",
      "|                                                                                                text|\n",
      "+----------------------------------------------------------------------------------------------------+\n",
      "|\\n<|im_start|>user\\nYou are an expert medical professor assisting in the creation of medically ac...|\n",
      "+----------------------------------------------------------------------------------------------------+\n",
      "\n"
     ]
    }
   ],
   "source": [
    "text_with_prompt = f\"\"\"\n",
    "<|im_start|>user\n",
    "You are an expert medical professor assisting in the creation of medically accurate SOAP summaries.\n",
    "Please ensure the response follows the structured format: S:, O:, A:, P: without using markdown or special formatting.\n",
    "Create a Medical SOAP note summary from the dialogue, following these guidelines:\n",
    "    S (Subjective): Summarize the patient's reported symptoms, including chief complaint and relevant history. Rely on the patient's statements as the primary source and ensure standardized terminology.\n",
    "    O (Objective): Highlight critical findings such as vital signs, lab results, and imaging, emphasizing important details like the side of the body affected and specific dosages. Include normal ranges where relevant.\n",
    "    A (Assessment): Offer a concise assessment combining subjective and objective data. State the primary diagnosis and any differential diagnoses, noting potential complications and the prognostic outlook.\n",
    "    P (Plan): Outline the management plan, covering medication, diet, consultations, and education. Ensure to mention necessary referrals to other specialties and address compliance challenges.\n",
    "    Considerations: Compile the report based solely on the transcript provided. Maintain confidentiality and document sensitively. Use concise medical jargon and abbreviations for effective doctor communication.\n",
    "    Please format the summary in a clean, simple list format without using markdown or bullet points. Use 'S:', 'O:', 'A:', 'P:' directly followed by the text. Avoid any styling or special characters.\n",
    "### Dialogue:\n",
    "{text}\n",
    "<|im_end|>\n",
    "<|im_start|>assistant\n",
    "\"\"\"\n",
    "\n",
    "data = spark.createDataFrame([[text_with_prompt]]).toDF(\"text\")\n",
    "data.show(truncate=100)"
   ]
  },
  {
   "cell_type": "code",
   "execution_count": 36,
   "metadata": {
    "colab": {
     "base_uri": "https://localhost:8080/"
    },
    "executionInfo": {
     "elapsed": 125620,
     "status": "ok",
     "timestamp": 1760599479268,
     "user": {
      "displayName": "Vildan Sarıkaya",
      "userId": "07789644790967768983"
     },
     "user_tz": 420
    },
    "id": "f729uxkPSWV3",
    "outputId": "43f068d4-c321-4430-b18d-962531a8efa1"
   },
   "outputs": [
    {
     "name": "stdout",
     "output_type": "stream",
     "text": [
      "+---------------------------------------------------------------------------------------------------------------------------------------------------------------------------------------------------------------------------------------------------------------------------------------------------------------------------------------------------------------------------------------------------------------------------------------------------------------------------------------------------------------------------------------------------------------------------------------------------------------------------------------------------------------------------------------------------------------------------------------------------------------------------------------------------------------------------------------------------------------------------------------------------------------------------------------------------------------------------------------------------------------------------------------------------------------------------------------------------------------------------------------------------------------------------------------------------------------------------------------------------------------------------------------------------------------------------------------------------------------------------------------------------------------------------------------------------------------------------------------------------------------------------------------------------------------------------------------------------------------------------------------------------------------------------+\n",
      "|completions                                                                                                                                                                                                                                                                                                                                                                                                                                                                                                                                                                                                                                                                                                                                                                                                                                                                                                                                                                                                                                                                                                                                                                                                                                                                                                                                                                                                                                                                                                                                                                                                                                                                |\n",
      "+---------------------------------------------------------------------------------------------------------------------------------------------------------------------------------------------------------------------------------------------------------------------------------------------------------------------------------------------------------------------------------------------------------------------------------------------------------------------------------------------------------------------------------------------------------------------------------------------------------------------------------------------------------------------------------------------------------------------------------------------------------------------------------------------------------------------------------------------------------------------------------------------------------------------------------------------------------------------------------------------------------------------------------------------------------------------------------------------------------------------------------------------------------------------------------------------------------------------------------------------------------------------------------------------------------------------------------------------------------------------------------------------------------------------------------------------------------------------------------------------------------------------------------------------------------------------------------------------------------------------------------------------------------------------------+\n",
      "|[{document, 0, 1563, S: The patient is a 28-year-old female with a history of gestational diabetes mellitus diagnosed eight years ago and type two diabetes mellitus (T2DM), with a prior episode of HTG-induced pancreatitis three years ago. She presented with a one-week history of polyuria, poor appetite, and vomiting. She has been on metformin, glipizide, dapagliflozin, atorvastatin, and gemfibrozil for her conditions.\\nO: Physical examination showed dry oral mucosa but was otherwise benign with no tenderness, guarding, or rigidity. Laboratory findings revealed serum glucose at 111 mg/dL, creatinine at 0.4 mg/dL, triglycerides at 508 mg/dL, total cholesterol at 122 mg/dL, and venous pH at 7.27. She was on dapagliflozin for six months prior to presentation.\\nA: The primary diagnosis is diabetic ketoacidosis (DKA) based on the patient's symptoms of polyuria, poor appetite, vomiting, and elevated triglycerides and total cholesterol. Differential diagnoses include complications from her underlying diabetes and HTG. The patient's history of HTG-induced pancreatitis and recent use of dapagliflozin are also relevant.\\nP: The management plan includes close monitoring of her glucose levels and electrolyte balance. She will be started on intravenous insulin and hydration to treat DKA. Dietary adjustments will be made to manage her diabetes and HTG. Regular follow-up appointments will be scheduled to monitor her glucose levels and adjust her medications as necessary. Education on the importance of adherence to the treatment plan and lifestyle modifications will be provided., {sentence -> 0}, []}]|\n",
      "+---------------------------------------------------------------------------------------------------------------------------------------------------------------------------------------------------------------------------------------------------------------------------------------------------------------------------------------------------------------------------------------------------------------------------------------------------------------------------------------------------------------------------------------------------------------------------------------------------------------------------------------------------------------------------------------------------------------------------------------------------------------------------------------------------------------------------------------------------------------------------------------------------------------------------------------------------------------------------------------------------------------------------------------------------------------------------------------------------------------------------------------------------------------------------------------------------------------------------------------------------------------------------------------------------------------------------------------------------------------------------------------------------------------------------------------------------------------------------------------------------------------------------------------------------------------------------------------------------------------------------------------------------------------------------+\n",
      "\n"
     ]
    }
   ],
   "source": [
    "results = pipeline.fit(data).transform(data)\n",
    "\n",
    "results.select(\"completions\").show(truncate=False)"
   ]
  },
  {
   "cell_type": "code",
   "execution_count": 37,
   "metadata": {
    "colab": {
     "base_uri": "https://localhost:8080/"
    },
    "executionInfo": {
     "elapsed": 74939,
     "status": "ok",
     "timestamp": 1760599554209,
     "user": {
      "displayName": "Vildan Sarıkaya",
      "userId": "07789644790967768983"
     },
     "user_tz": 420
    },
    "id": "UzrU3HbCSe7P",
    "outputId": "f88f6adb-9cc6-4e66-84f0-48079774734e"
   },
   "outputs": [
    {
     "name": "stdout",
     "output_type": "stream",
     "text": [
      "S: The patient is a 28-year-old female with a history of gestational diabetes mellitus diagnosed eight years ago and type two diabetes mellitus (T2DM), with a prior episode of HTG-induced pancreatitis three years ago. She presented with a one-week history of polyuria, poor appetite, and vomiting. She has been on metformin, glipizide, dapagliflozin, atorvastatin, and gemfibrozil for her conditions.\n",
      "O: Physical examination showed dry oral mucosa but was otherwise benign with no tenderness, guarding, or rigidity. Laboratory findings revealed serum glucose at 111 mg/dL, creatinine at 0.4 mg/dL, triglycerides at 508 mg/dL, total cholesterol at 122 mg/dL, and venous pH at 7.27. She was on dapagliflozin for six months prior to presentation.\n",
      "A: The primary diagnosis is diabetic ketoacidosis (DKA) based on the patient's symptoms of polyuria, poor appetite, vomiting, and elevated triglycerides and total cholesterol. Differential diagnoses include complications from her underlying diabetes and HTG. The patient's history of HTG-induced pancreatitis and recent use of dapagliflozin are also relevant.\n",
      "P: The management plan includes close monitoring of her glucose levels and electrolyte balance. She will be started on intravenous insulin and hydration to treat DKA. Dietary adjustments will be made to manage her diabetes and HTG. Regular follow-up appointments will be scheduled to monitor her glucose levels and adjust her medications as necessary. Education on the importance of adherence to the treatment plan and lifestyle modifications will be provided.\n"
     ]
    }
   ],
   "source": [
    "example_output  = results.select(\"completions\").collect()[0].completions[0].result\n",
    "print(example_output)"
   ]
  },
  {
   "cell_type": "markdown",
   "metadata": {
    "id": "7zvAKUcOyepm"
   },
   "source": [
    "## JSL_MedM\n",
    "\n",
    "This LLM model is trained to perform Summarization and Q&A based on a given context."
   ]
  },
  {
   "cell_type": "code",
   "execution_count": 38,
   "metadata": {
    "colab": {
     "base_uri": "https://localhost:8080/"
    },
    "executionInfo": {
     "elapsed": 1123454,
     "status": "ok",
     "timestamp": 1760600677665,
     "user": {
      "displayName": "Vildan Sarıkaya",
      "userId": "07789644790967768983"
     },
     "user_tz": 420
    },
    "id": "oogjiRnThyG-",
    "outputId": "9fc64242-0068-4bdd-fafd-dbd1bcffcbbc"
   },
   "outputs": [
    {
     "name": "stdout",
     "output_type": "stream",
     "text": [
      "jsl_medm_q8_v3 download started this may take some time.\n",
      "Approximate size to download 14 GB\n",
      "[OK!]\n"
     ]
    }
   ],
   "source": [
    "document_assembler = nlp.DocumentAssembler()\\\n",
    "    .setInputCol(\"text\")\\\n",
    "    .setOutputCol(\"document\")\n",
    "\n",
    "medical_llm = medical.AutoGGUFModel.pretrained(\"jsl_medm_q8_v3\", \"en\", \"clinical/models\")\\\n",
    "    .setInputCols(\"document\")\\\n",
    "    .setOutputCol(\"completions\")\\\n",
    "    .setBatchSize(1)\\\n",
    "    .setNPredict(100)\\\n",
    "    .setUseChatTemplate(True)\\\n",
    "    .setTemperature(0)\\\n",
    "    #.setNGpuLayers(100) # if you have GPU\n",
    "\n",
    "pipeline = nlp.Pipeline(\n",
    "    stages = [\n",
    "        document_assembler,\n",
    "        medical_llm\n",
    "])"
   ]
  },
  {
   "cell_type": "code",
   "execution_count": 39,
   "metadata": {
    "colab": {
     "base_uri": "https://localhost:8080/"
    },
    "executionInfo": {
     "elapsed": 88559,
     "status": "ok",
     "timestamp": 1760600766225,
     "user": {
      "displayName": "Vildan Sarıkaya",
      "userId": "07789644790967768983"
     },
     "user_tz": 420
    },
    "id": "XuntuEP1yepn",
    "outputId": "3173cf54-f3f4-4190-ce3f-42aeb852df3e"
   },
   "outputs": [
    {
     "name": "stdout",
     "output_type": "stream",
     "text": [
      "+----------------------------------------------------------------------------------------------------+\n",
      "|                                                                                                text|\n",
      "+----------------------------------------------------------------------------------------------------+\n",
      "|\\nsummarize the following content.\\n\\n content:\\n ---------------------------- INDICATIONS AND US...|\n",
      "+----------------------------------------------------------------------------------------------------+\n",
      "\n"
     ]
    }
   ],
   "source": [
    "medm_prompt = \"\"\"\n",
    "summarize the following content.\n",
    "\n",
    " content:\n",
    " ---------------------------- INDICATIONS AND USAGE ---------------------------\n",
    " KISUNLA is an amyloid beta-directed antibody indicated for the\n",
    " treatment of Alzheimer’s disease. Treatment with KISUNLA should be\n",
    " initiated in patients with mild cognitive impairment or mild dementia\n",
    " stage of disease, the population in which treatment was initiated in the\n",
    " clinical trials. (1)\n",
    " ------------------------DOSAGE AND ADMINISTRATION-----------------------\n",
    " • Confirm the presence of amyloid beta pathology prior to initiating\n",
    " treatment. (2.1)\n",
    " • The recommended dosage of KISUNLA is 700 mg administered as\n",
    " an intravenous infusion over approximately 30 minutes every four\n",
    " weeks for the first three doses, followed by 1400 mg every four\n",
    " weeks. (2.2)\n",
    " • Consider stopping dosing with KISUNLA based on reduction of\n",
    " amyloid plaques to minimal levels on amyloid PET imaging. (2.2)\n",
    " • Obtain a recent baseline brain MRI prior to initiating treatment.\n",
    " (2.3, 5.1)\n",
    " • Obtain an MRI prior to the 2nd, 3rd, 4th, and 7th infusions. If\n",
    " radiographically observed ARIA occurs, treatment\n",
    " recommendations are based on type, severity, and presence of\n",
    " symptoms. (2.3, 5.1)\n",
    " • Dilution to a final concentration of 4 mg/mL to 10 mg/mL with 0.9%\n",
    " Sodium Chloride Injection, is required prior to administration. (2.4)\n",
    " ----------------------DOSAGE FORMS AND STRENGTHS---------------------\n",
    " Injection: 350 mg/20 mL (17.5 mg/mL) in a single-dose vial. (3)\n",
    " ------------------------------- CONTRAINDICATIONS ------------------------------\n",
    " KISUNLA is contraindicated in patients with known serious\n",
    " hypersensitivity to donanemab-azbt or to any of the excipients. (4, 5.2)\n",
    " ------------------------WARNINGS AND PRECAUTIONS-----------------------\n",
    " • Amyloid Related Imaging Abnormalities (ARIA): Enhanced clinical\n",
    " vigilance for ARIA is recommended during the first 24 weeks of\n",
    " treatment with KISUNLA. Risk of ARIA, including symptomatic\n",
    " ARIA, was increased in apolipoprotein E ε4 (ApoE ε4)\n",
    " homozygotes compared to heterozygotes and noncarriers. The risk\n",
    " of ARIA-E and ARIA-H is increased in KISUNLA-treated patients\n",
    " with pretreatment microhemorrhages and/or superficial siderosis. If\n",
    " a patient experiences symptoms suggestive of ARIA, clinical\n",
    " evaluation should be performed, including MRI scanning if\n",
    " indicated. (2.3, 5.1)\n",
    " • Infusion-Related Reactions: The infusion rate may be reduced, or\n",
    " the infusion may be discontinued, and appropriate therapy initiated\n",
    " as clinically indicated. Consider pre-treatment with antihistamines,\n",
    " acetaminophen, or corticosteroids prior to subsequent dosing. (5.3)\n",
    " -------------------------------ADVERSE REACTIONS------------------------------\n",
    " Most common adverse reactions (at least 10% and higher incidence\n",
    " compared to placebo): ARIA-E, ARIA-H microhemorrhage, ARIA-H\n",
    " superficial siderosis, and headache. (6.1)\n",
    "\"\"\"\n",
    "\n",
    "data = spark.createDataFrame([[medm_prompt]]).toDF(\"text\")\n",
    "data.show(truncate=100)"
   ]
  },
  {
   "cell_type": "code",
   "execution_count": 40,
   "metadata": {
    "colab": {
     "base_uri": "https://localhost:8080/"
    },
    "executionInfo": {
     "elapsed": 235065,
     "status": "ok",
     "timestamp": 1760601001289,
     "user": {
      "displayName": "Vildan Sarıkaya",
      "userId": "07789644790967768983"
     },
     "user_tz": 420
    },
    "id": "L51fkJspyepn",
    "outputId": "d0a3aa64-c483-4248-a638-70ea4a169375"
   },
   "outputs": [
    {
     "name": "stdout",
     "output_type": "stream",
     "text": [
      "+-------------------------------------------------------------------------------------------------------------------------------------------------------------------------------------------------------------------------------------------------------------------------------------------------------------------------------------------------------------------------------------------------------------------------------------------------------------------------------------------------------------------------------+\n",
      "|completions                                                                                                                                                                                                                                                                                                                                                                                                                                                                                                                    |\n",
      "+-------------------------------------------------------------------------------------------------------------------------------------------------------------------------------------------------------------------------------------------------------------------------------------------------------------------------------------------------------------------------------------------------------------------------------------------------------------------------------------------------------------------------------+\n",
      "|[{document, 0, 467, KISUNLA is an amyloid beta-directed antibody used to treat Alzheimer's disease, specifically in patients with mild cognitive impairment or mild dementia. The recommended dosage is 700 mg administered intravenously over 30 minutes every four weeks for the first three doses, followed by 1400 mg every four weeks. Treatment should be initiated after confirming the presence of amyloid beta pathology and obtaining a baseline brain MRI. The drug is available as a 350 mg/, {sentence -> 0}, []}]|\n",
      "+-------------------------------------------------------------------------------------------------------------------------------------------------------------------------------------------------------------------------------------------------------------------------------------------------------------------------------------------------------------------------------------------------------------------------------------------------------------------------------------------------------------------------------+\n",
      "\n",
      "CPU times: user 37 ms, sys: 11.8 ms, total: 48.8 ms\n",
      "Wall time: 3min 55s\n"
     ]
    }
   ],
   "source": [
    "%%time\n",
    "results = pipeline.fit(data).transform(data).cache()\n",
    "results.select(\"completions\").show(truncate=False)"
   ]
  },
  {
   "cell_type": "code",
   "execution_count": 41,
   "metadata": {
    "colab": {
     "base_uri": "https://localhost:8080/"
    },
    "executionInfo": {
     "elapsed": 35,
     "status": "ok",
     "timestamp": 1760601001326,
     "user": {
      "displayName": "Vildan Sarıkaya",
      "userId": "07789644790967768983"
     },
     "user_tz": 420
    },
    "id": "GglIVcAvyepn",
    "outputId": "5b4a18ea-b56e-460f-bdc6-2fb8cea00847"
   },
   "outputs": [
    {
     "name": "stdout",
     "output_type": "stream",
     "text": [
      "KISUNLA is an amyloid beta-directed antibody used to treat Alzheimer's disease, specifically in patients with mild cognitive impairment or mild dementia. The recommended dosage is 700 mg administered intravenously over 30 minutes every four weeks for the first three doses, followed by 1400 mg every four weeks. Treatment should be initiated after confirming the presence of amyloid beta pathology and obtaining a baseline brain MRI. The drug is available as a 350 mg/\n"
     ]
    }
   ],
   "source": [
    "print(results.select(\"completions\").collect()[0].completions[0].result)"
   ]
  },
  {
   "cell_type": "markdown",
   "metadata": {
    "id": "ZByQR6JzxLHT"
   },
   "source": [
    "## Multimodal Process\n",
    "\n",
    "We can obtain results from PDF files using our LLM models with Reader2Doc annotators."
   ]
  },
  {
   "cell_type": "code",
   "execution_count": 42,
   "metadata": {
    "colab": {
     "base_uri": "https://localhost:8080/"
    },
    "executionInfo": {
     "elapsed": 518,
     "status": "ok",
     "timestamp": 1760601001854,
     "user": {
      "displayName": "Vildan Sarıkaya",
      "userId": "07789644790967768983"
     },
     "user_tz": 420
    },
    "id": "4PJ5T_GC01tI",
    "outputId": "43f2bc02-0d0f-4fce-cf6a-85a57725b260"
   },
   "outputs": [
    {
     "name": "stdout",
     "output_type": "stream",
     "text": [
      "--2025-10-16 07:50:01--  https://raw.githubusercontent.com/JohnSnowLabs/spark-nlp-workshop/master/healthcare-nlp/data/mt_sample_01.pdf\n",
      "Resolving raw.githubusercontent.com (raw.githubusercontent.com)... 185.199.108.133, 185.199.109.133, 185.199.110.133, ...\n",
      "Connecting to raw.githubusercontent.com (raw.githubusercontent.com)|185.199.108.133|:443... connected.\n",
      "HTTP request sent, awaiting response... 200 OK\n",
      "Length: 41382 (40K) [application/octet-stream]\n",
      "Saving to: ‘pdf_files/mt_sample.pdf’\n",
      "\n",
      "pdf_files/mt_sample 100%[===================>]  40.41K  --.-KB/s    in 0.004s  \n",
      "\n",
      "2025-10-16 07:50:01 (8.88 MB/s) - ‘pdf_files/mt_sample.pdf’ saved [41382/41382]\n",
      "\n"
     ]
    }
   ],
   "source": [
    "!mkdir -p pdf_files\n",
    "\n",
    "!wget -O pdf_files/mt_sample.pdf \"https://raw.githubusercontent.com/JohnSnowLabs/spark-nlp-workshop/master/healthcare-nlp/data/mt_sample_01.pdf\""
   ]
  },
  {
   "cell_type": "code",
   "execution_count": 43,
   "metadata": {
    "colab": {
     "base_uri": "https://localhost:8080/"
    },
    "executionInfo": {
     "elapsed": 1536,
     "status": "ok",
     "timestamp": 1760601003392,
     "user": {
      "displayName": "Vildan Sarıkaya",
      "userId": "07789644790967768983"
     },
     "user_tz": 420
    },
    "id": "v1Twqq5VigXH",
    "outputId": "2762ad70-57d4-4939-b0d3-3b397d2f0abd"
   },
   "outputs": [
    {
     "name": "stdout",
     "output_type": "stream",
     "text": [
      "+-------------+---------------------------------------------------------------------------------------------------------------------------------------------------------------------------------------------------------------------------------------------------------------------------------------------------------------------------------------------------------------------------------------------------------------------------------------------------------------------------------------------------------------------------------------------------------------------------------------------------------------------------------------------------------------------------------------------------------------------------------------------------------------------------------------------------------------------------------------------------------------------------------------------------------------------------------------------------------------------------------------------------------------------------------------------------------------------------------------------------------------------------------------------------------------------------------------------------------------------------------------------------------------------------------------------------------------------------------------------------------------------------------------------------------------------------------------------------------------------------------------------------------------------------------------------------------------------------------------------------------------------------------------------------------------------------------------------------------------------------------------------------------------------------------------------------------------------------------------------------------------------------------------------------------------------------------------------------------------------------------------------------------------------------------------------------------------------------------------------------------------------------------------------------------------------------------------------------------------------------------------------------------------------------------------------------------------------------------------------------------------------------------------------------------------------------------------------------------------------------------------------------------------------------------------------------------------------------------------+\n",
      "|fileName     |raw_text                                                                                                                                                                                                                                                                                                                                                                                                                                                                                                                                                                                                                                                                                                                                                                                                                                                                                                                                                                                                                                                                                                                                                                                                                                                                                                                                                                                                                                                                                                                                                                                                                                                                                                                                                                                                                                                                                                                                                                                                                                                                                                                                                                                                                                                                                                                                                                                                                                                                                                                                                                               |\n",
      "+-------------+---------------------------------------------------------------------------------------------------------------------------------------------------------------------------------------------------------------------------------------------------------------------------------------------------------------------------------------------------------------------------------------------------------------------------------------------------------------------------------------------------------------------------------------------------------------------------------------------------------------------------------------------------------------------------------------------------------------------------------------------------------------------------------------------------------------------------------------------------------------------------------------------------------------------------------------------------------------------------------------------------------------------------------------------------------------------------------------------------------------------------------------------------------------------------------------------------------------------------------------------------------------------------------------------------------------------------------------------------------------------------------------------------------------------------------------------------------------------------------------------------------------------------------------------------------------------------------------------------------------------------------------------------------------------------------------------------------------------------------------------------------------------------------------------------------------------------------------------------------------------------------------------------------------------------------------------------------------------------------------------------------------------------------------------------------------------------------------------------------------------------------------------------------------------------------------------------------------------------------------------------------------------------------------------------------------------------------------------------------------------------------------------------------------------------------------------------------------------------------------------------------------------------------------------------------------------------------------+\n",
      "|mt_sample.pdf|[{document, 0, 31, Sample Type / Medical Specialty:, {}, []}, {document, 32, 52, Hematology - Oncology, {}, []}, {document, 53, 64, Sample Name:, {}, []}, {document, 65, 100, Discharge Summary - Mesothelioma - 1, {}, []}, {document, 101, 142, Record date: 2093-01-13, David Hale, M.D.,, {}, []}, {document, 143, 178, Name: Hendrickson, Ora MR. # 7194334, {}, []}, {document, 179, 189, Descrip7on:, {}, []}, {document, 190, 277, Mesothelioma, pleural eﬀusion, atrial ﬁbrillaIon, anemia, ascites, esophageal reﬂux, and, {}, []}, {document, 278, 311, history of deep venous thrombosis., {}, []}, {document, 312, 347, (Medical TranscripIon Sample Report), {}, []}, {document, 348, 367, PRINCIPAL DIAGNOSIS:, {}, []}, {document, 368, 380, Mesothelioma., {}, []}, {document, 381, 400, SECONDARY DIAGNOSES:, {}, []}, {document, 401, 490, Pleural eﬀusion, atrial ﬁbrillaIon, anemia, ascites, esophageal reﬂux, and history of deep, {}, []}, {document, 491, 508, venous thrombosis., {}, []}, {document, 509, 518, PROCEDURES, {}, []}, {document, 519, 601, 1. On August 24, 2007, decorIcaIon of the lung with pleural biopsy and transpleural, {}, []}, {document, 602, 612, ﬂuoroscopy., {}, []}, {document, 613, 649, 2. On August 20, 2007, thoracentesis., {}, []}, {document, 650, 694, 3. On August 31, 2007, Port-A-Cath placement., {}, []}, {document, 695, 715, HISTORY AND PHYSICAL:, {}, []}, {document, 716, 804, The paIent is a 41-year-old Vietnamese female with a nonproducIve cough that started last, {}, []}, {document, 805, 895, week. She has had right-sided chest pain radiaIng to her back with fever starIng yesterday., {}, []}, {document, 896, 983, She has a history of pericardiIs and pericardectomy in May 2006 and developed cough with, {}, []}, {document, 984, 1074, right-sided chest pain, and went to an urgent care center. Chest x-ray revealed right-sided, {}, []}, {document, 1075, 1090, pleural eﬀusion., {}, []}, {document, 1091, 1110, PAST MEDICAL HISTORY, {}, []}, {document, 1111, 1128, 1. Pericardectomy., {}, []}, {document, 1129, 1143, 2. PericardiIs., {}, []}, {document, 1144, 1164, 2. Atrial ﬁbrillaIon., {}, []}, {document, 1165, 1212, 4. RNCA with intracranial thrombolyIc treatment., {}, []}, {document, 1213, 1225, 5 PTA of MCA., {}, []}, {document, 1226, 1257, 6. Mesenteric venous thrombosis., {}, []}, {document, 1258, 1279, 7. Pericardial window., {}, []}, {document, 1280, 1298, 8. Cholecystectomy., {}, []}, {document, 1299, 1319, 9. LeZ thoracentesis., {}, []}]|\n",
      "+-------------+---------------------------------------------------------------------------------------------------------------------------------------------------------------------------------------------------------------------------------------------------------------------------------------------------------------------------------------------------------------------------------------------------------------------------------------------------------------------------------------------------------------------------------------------------------------------------------------------------------------------------------------------------------------------------------------------------------------------------------------------------------------------------------------------------------------------------------------------------------------------------------------------------------------------------------------------------------------------------------------------------------------------------------------------------------------------------------------------------------------------------------------------------------------------------------------------------------------------------------------------------------------------------------------------------------------------------------------------------------------------------------------------------------------------------------------------------------------------------------------------------------------------------------------------------------------------------------------------------------------------------------------------------------------------------------------------------------------------------------------------------------------------------------------------------------------------------------------------------------------------------------------------------------------------------------------------------------------------------------------------------------------------------------------------------------------------------------------------------------------------------------------------------------------------------------------------------------------------------------------------------------------------------------------------------------------------------------------------------------------------------------------------------------------------------------------------------------------------------------------------------------------------------------------------------------------------------------------+\n",
      "\n"
     ]
    }
   ],
   "source": [
    "from sparknlp.reader.reader2doc import Reader2Doc\n",
    "\n",
    "reader2doc = Reader2Doc() \\\n",
    "    .setContentType(\"application/pdf\")\\\n",
    "    .setContentPath(\"pdf_files/*pdf\")\\\n",
    "    .setOutputCol(\"raw_text\")\\\n",
    "    .setExplodeDocs(False)\\\n",
    "    .setFlattenOutput(True)\\\n",
    "    .setOutputFormat(\"plain-text\")\n",
    "\n",
    "pipeline = nlp.Pipeline(stages=[reader2doc])\n",
    "\n",
    "empty_df = spark.createDataFrame([], \"string\").toDF(\"text\")\n",
    "\n",
    "model = pipeline.fit(empty_df)\n",
    "\n",
    "result_df = model.transform(empty_df)\n",
    "\n",
    "result_df.show(truncate=False)"
   ]
  },
  {
   "cell_type": "code",
   "execution_count": 44,
   "metadata": {
    "colab": {
     "base_uri": "https://localhost:8080/"
    },
    "executionInfo": {
     "elapsed": 245725,
     "status": "ok",
     "timestamp": 1760601249126,
     "user": {
      "displayName": "Vildan Sarıkaya",
      "userId": "07789644790967768983"
     },
     "user_tz": 420
    },
    "id": "SmqwhlI-lfXs",
    "outputId": "6c27d0cd-6464-470d-8a65-f3fc6cce91b5"
   },
   "outputs": [
    {
     "name": "stdout",
     "output_type": "stream",
     "text": [
      "jsl_meds_ner_vlm_2b_q16_v1 download started this may take some time.\n",
      "Approximate size to download 3.3 GB\n",
      "[OK!]\n"
     ]
    }
   ],
   "source": [
    "prompt = \"\"\"\n",
    "### Template:\n",
    "{\n",
    "  \"clinical\":\n",
    "    [\n",
    "        \"disease\":[],\n",
    "        \"sympthom\":[]\n",
    "    ],\n",
    "\n",
    "  \"demographic\":\n",
    "    [\n",
    "        \"name\":[],\n",
    "        \"date\":[],\n",
    "        \"id\":[]\n",
    "    ]\n",
    "}\n",
    "### Text:\n",
    "\"\"\"\n",
    "\n",
    "medical_llm = medical.AutoGGUFModel.pretrained(\"jsl_meds_ner_vlm_2b_q16_v1\", \"en\", \"clinical/models\")\\\n",
    "    .setInputCols(\"document\")\\\n",
    "    .setOutputCol(\"completions\")\\\n",
    "    .setBatchSize(1)\\\n",
    "    .setNPredict(10000)\\\n",
    "    .setUseChatTemplate(True)\\\n",
    "    .setTemperature(0)\\\n",
    "    .setNGpuLayers(100)"
   ]
  },
  {
   "cell_type": "markdown",
   "metadata": {
    "id": "GLWQf4CL2197"
   },
   "source": [
    "**`custom_llm_preprocessor`** is a function designed to help you transform annotations within a DataFrame. We modify the relevant Spark DF by adding the NER prompt as a prefix to the input column."
   ]
  },
  {
   "cell_type": "code",
   "execution_count": 45,
   "metadata": {
    "executionInfo": {
     "elapsed": 2,
     "status": "ok",
     "timestamp": 1760601249129,
     "user": {
      "displayName": "Vildan Sarıkaya",
      "userId": "07789644790967768983"
     },
     "user_tz": 420
    },
    "id": "w-vmrO4ijg7Q"
   },
   "outputs": [],
   "source": [
    "def custom_llm_preprocessor(annotations):\n",
    "    new_annotations = []\n",
    "    flattened_docs = \"\"\n",
    "\n",
    "    for annotation in annotations: # annotations here are document annotations\n",
    "        document_text = annotation.result\n",
    "        if document_text:\n",
    "            flattened_docs +=  (\"\\n\" + document_text)\n",
    "    result =  prompt + flattened_docs\n",
    "    absolute_end = len(result)\n",
    "    new_annotations.append(\n",
    "        nlp.Annotation(\n",
    "            annotatorType=\"document\",  # Sentence annotations are typically 'document' type\n",
    "            begin=0,\n",
    "            end=absolute_end -1 ,\n",
    "            result=result,\n",
    "            metadata=annotation.metadata,\n",
    "            embeddings=annotation.embeddings,\n",
    "        )\n",
    "    )\n",
    "    return new_annotations"
   ]
  },
  {
   "cell_type": "code",
   "execution_count": 46,
   "metadata": {
    "colab": {
     "base_uri": "https://localhost:8080/"
    },
    "executionInfo": {
     "elapsed": 10,
     "status": "ok",
     "timestamp": 1760601249143,
     "user": {
      "displayName": "Vildan Sarıkaya",
      "userId": "07789644790967768983"
     },
     "user_tz": 420
    },
    "id": "XN9u5NwR3Rp7",
    "outputId": "5706ef2c-01e5-40b7-e1d2-1152cf52789a"
   },
   "outputs": [
    {
     "name": "stdout",
     "output_type": "stream",
     "text": [
      "\n"
     ]
    }
   ],
   "source": [
    "custom_llm_preprocessor_converter = medical.AnnotationConverter(f=custom_llm_preprocessor)\\\n",
    "    .setInputCol(\"raw_text\")\\\n",
    "    .setOutputCol(\"document\")\\\n",
    "    .setOutputAnnotatorType(\"document\") # Output type is 'document' for sentences\n",
    "\n",
    "pipeline = nlp.Pipeline(\n",
    "    stages=[\n",
    "        reader2doc,\n",
    "        custom_llm_preprocessor_converter,\n",
    "        medical_llm\n",
    "])"
   ]
  },
  {
   "cell_type": "code",
   "execution_count": 47,
   "metadata": {
    "executionInfo": {
     "elapsed": 234,
     "status": "ok",
     "timestamp": 1760601249378,
     "user": {
      "displayName": "Vildan Sarıkaya",
      "userId": "07789644790967768983"
     },
     "user_tz": 420
    },
    "id": "YkteDxZxh7-Q"
   },
   "outputs": [],
   "source": [
    "empty_df = spark.createDataFrame([], \"string\").toDF(\"text\")\n",
    "\n",
    "result_df = pipeline.fit(empty_df).transform(empty_df).cache()"
   ]
  },
  {
   "cell_type": "code",
   "execution_count": 48,
   "metadata": {
    "colab": {
     "base_uri": "https://localhost:8080/"
    },
    "executionInfo": {
     "elapsed": 71278,
     "status": "ok",
     "timestamp": 1760601320658,
     "user": {
      "displayName": "Vildan Sarıkaya",
      "userId": "07789644790967768983"
     },
     "user_tz": 420
    },
    "id": "SBOHvyr4h774",
    "outputId": "b845161b-43b7-49ab-84ca-c1fb3561d10f"
   },
   "outputs": [
    {
     "name": "stdout",
     "output_type": "stream",
     "text": [
      "CPU times: user 16.2 ms, sys: 5.98 ms, total: 22.2 ms\n",
      "Wall time: 1min 11s\n"
     ]
    }
   ],
   "source": [
    "%%time\n",
    "collected_result = result_df.collect()"
   ]
  },
  {
   "cell_type": "code",
   "execution_count": 49,
   "metadata": {
    "colab": {
     "base_uri": "https://localhost:8080/"
    },
    "executionInfo": {
     "elapsed": 21,
     "status": "ok",
     "timestamp": 1760601320681,
     "user": {
      "displayName": "Vildan Sarıkaya",
      "userId": "07789644790967768983"
     },
     "user_tz": 420
    },
    "id": "iw6uK-dUh75T",
    "outputId": "6c1bed90-35d4-483e-eb7b-bdee77d6c150"
   },
   "outputs": [
    {
     "name": "stdout",
     "output_type": "stream",
     "text": [
      "{'clinical': {'disease': ['Mesothelioma', 'pleural eﬀusion', 'atrial ﬁbrillaIon', 'anemia', 'ascites', 'esophageal reﬂux', 'deep venous thrombosis'], 'sympthom': ['nonproductive cough', 'right-sided chest pain', 'fever', 'right-sided pleural eﬀusion', 'cough with right-sided chest pain', 'pericardiIs', 'pericardectomy', 'atrial ﬁbrillaIon', 'RNCA with intracranial thrombolyIc treatment', 'PTA of MCA', 'Mesenteric venous thrombosis', 'pericardial window', 'cholecystectomy', 'LeZ thoracentesis']}, 'demographic': {'name': ['Hendrickson, Ora MR.'], 'date': ['2007-08-24', '2007-08-20', '2007-08-31'], 'id': ['7194334']}}\n"
     ]
    }
   ],
   "source": [
    "import json\n",
    "print(json.loads(collected_result[0].completions[0].result))"
   ]
  },
  {
   "cell_type": "code",
   "execution_count": 50,
   "metadata": {
    "colab": {
     "base_uri": "https://localhost:8080/"
    },
    "executionInfo": {
     "elapsed": 9,
     "status": "ok",
     "timestamp": 1760601320695,
     "user": {
      "displayName": "Vildan Sarıkaya",
      "userId": "07789644790967768983"
     },
     "user_tz": 420
    },
    "id": "wxu7nmKcLxEx",
    "outputId": "08264c87-5968-4806-e3b1-1c75eed5db57"
   },
   "outputs": [
    {
     "name": "stdout",
     "output_type": "stream",
     "text": [
      "{\n",
      "    \"clinical\": {\n",
      "        \"disease\": [\n",
      "            \"Mesothelioma\",\n",
      "            \"pleural eﬀusion\",\n",
      "            \"atrial ﬁbrillaIon\",\n",
      "            \"anemia\",\n",
      "            \"ascites\",\n",
      "            \"esophageal reﬂux\",\n",
      "            \"deep venous thrombosis\"\n",
      "        ],\n",
      "        \"sympthom\": [\n",
      "            \"nonproductive cough\",\n",
      "            \"right-sided chest pain\",\n",
      "            \"fever\",\n",
      "            \"right-sided pleural eﬀusion\",\n",
      "            \"cough with right-sided chest pain\",\n",
      "            \"pericardiIs\",\n",
      "            \"pericardectomy\",\n",
      "            \"atrial ﬁbrillaIon\",\n",
      "            \"RNCA with intracranial thrombolyIc treatment\",\n",
      "            \"PTA of MCA\",\n",
      "            \"Mesenteric venous thrombosis\",\n",
      "            \"pericardial window\",\n",
      "            \"cholecystectomy\",\n",
      "            \"LeZ thoracentesis\"\n",
      "        ]\n",
      "    },\n",
      "    \"demographic\": {\n",
      "        \"name\": [\n",
      "            \"Hendrickson, Ora MR.\"\n",
      "        ],\n",
      "        \"date\": [\n",
      "            \"2007-08-24\",\n",
      "            \"2007-08-20\",\n",
      "            \"2007-08-31\"\n",
      "        ],\n",
      "        \"id\": [\n",
      "            \"7194334\"\n",
      "        ]\n",
      "    }\n",
      "}\n"
     ]
    }
   ],
   "source": [
    "import json\n",
    "\n",
    "raw_json = collected_result[0].completions[0].result\n",
    "\n",
    "data = json.loads(raw_json)\n",
    "\n",
    "print(json.dumps(data, indent=4, ensure_ascii=False))"
   ]
  },
  {
   "cell_type": "markdown",
   "metadata": {
    "id": "rNqRNA6lMTFj"
   },
   "source": [
    "## Pretrained Pipeline"
   ]
  },
  {
   "cell_type": "markdown",
   "metadata": {
    "id": "Rj3JxISeMXJz"
   },
   "source": [
    "| Model Name                                                            |      Description            |\n",
    "|-----------------------------------------------------------------------|-----------------------------|\n",
    "| [`jsl_meds_4b_q16_v4_pipeline`](https://nlp.johnsnowlabs.com/2025/08/16/jsl_meds_4b_q16_v4_pipeline_en.html) |  Q&A, NER, Summarization, RAG, and Chat. |\n",
    "| [`jsl_meds_8b_q8_v4_pipeline`](https://nlp.johnsnowlabs.com/2025/08/16/jsl_meds_8b_q8_v4_pipeline_en.html) |  Q&A, NER, Summarization, RAG, and Chat. |\n",
    "| [`jsl_meds_ner_2b_q16_v2_pipeline`](https://nlp.johnsnowlabs.com/2025/08/16/jsl_meds_ner_2b_q16_v2_pipeline_en.html) |  Q&A, NER, Summarization, RAG, and Chat. |\n",
    "| [`jsl_meds_ner_q16_v4_pipeline`](https://nlp.johnsnowlabs.com/2025/08/16/jsl_meds_ner_q16_v4_pipeline_en.html) |  Q&A, NER |\n",
    "| [`jsl_meds_ner_vlm_2b_q16_v2_pipeline`](https://nlp.johnsnowlabs.com/2025/08/16/jsl_meds_ner_vlm_2b_q16_v2_pipeline_en.html) |  Q&A, NER |"
   ]
  },
  {
   "cell_type": "code",
   "execution_count": 51,
   "metadata": {
    "colab": {
     "base_uri": "https://localhost:8080/"
    },
    "executionInfo": {
     "elapsed": 173197,
     "status": "ok",
     "timestamp": 1760601493893,
     "user": {
      "displayName": "Vildan Sarıkaya",
      "userId": "07789644790967768983"
     },
     "user_tz": 420
    },
    "id": "GBu13GC-MiuG",
    "outputId": "f40503b7-333e-4306-f8e4-7eab3a16cd42"
   },
   "outputs": [
    {
     "name": "stdout",
     "output_type": "stream",
     "text": [
      "jsl_meds_ner_2b_q16_v2_pipeline download started this may take some time.\n",
      "Approx size to download 2.3 GB\n",
      "[OK!]\n"
     ]
    }
   ],
   "source": [
    "pipeline = nlp.PretrainedPipeline(\"jsl_meds_ner_2b_q16_v2_pipeline\", \"en\", \"clinical/models\")"
   ]
  },
  {
   "cell_type": "code",
   "execution_count": 52,
   "metadata": {
    "colab": {
     "base_uri": "https://localhost:8080/"
    },
    "executionInfo": {
     "elapsed": 2271,
     "status": "ok",
     "timestamp": 1760601496169,
     "user": {
      "displayName": "Vildan Sarıkaya",
      "userId": "07789644790967768983"
     },
     "user_tz": 420
    },
    "id": "IRiGy5C1NUtE",
    "outputId": "a1e9f0ed-13a2-4760-9352-d090b0f5a521"
   },
   "outputs": [
    {
     "name": "stdout",
     "output_type": "stream",
     "text": [
      "+----------------------------------------------------------------------------------------------------+\n",
      "|                                                                                                text|\n",
      "+----------------------------------------------------------------------------------------------------+\n",
      "|\\n# Template:\\n{\\n  \"Patient Name\": \"string\",\\n  \"Patient Age\": \"integer\",\\n  \"Patient Gender\": \"...|\n",
      "+----------------------------------------------------------------------------------------------------+\n",
      "\n"
     ]
    }
   ],
   "source": [
    "text = \"\"\"\n",
    "# Template:\n",
    "{\n",
    "  \"Patient Name\": \"string\",\n",
    "  \"Patient Age\": \"integer\",\n",
    "  \"Patient Gender\": \"string\",\n",
    "  \"Hospital Number\": \"string\",\n",
    "  \"Episode Number\": \"string\",\n",
    "  \"Episode Date\": \"date-time\"\n",
    "}\n",
    "# Context:\n",
    "The patient, Johnathan Miller, is a 54-year-old male admitted under hospital number HN382914.\n",
    "His most recent episode number is EP2024-1178, recorded on 2025-08-10.\n",
    "The patient presented with chronic knee pain and swelling.\n",
    "Past medical history includes hypertension and type 2 diabetes.\n",
    "\"\"\"\n",
    "\n",
    "data = spark.createDataFrame([[text]]).toDF(\"text\")\n",
    "data.show(truncate=100)"
   ]
  },
  {
   "cell_type": "code",
   "execution_count": 53,
   "metadata": {
    "colab": {
     "base_uri": "https://localhost:8080/"
    },
    "executionInfo": {
     "elapsed": 12328,
     "status": "ok",
     "timestamp": 1760601508498,
     "user": {
      "displayName": "Vildan Sarıkaya",
      "userId": "07789644790967768983"
     },
     "user_tz": 420
    },
    "id": "MHKjcq86NhfK",
    "outputId": "e1ad54d6-6840-4b2d-80b1-09280eb9755b"
   },
   "outputs": [
    {
     "name": "stdout",
     "output_type": "stream",
     "text": [
      "+--------------------------------------------------------------------------------------------------------------------------------------------------------------------------------------------------------------------------+\n",
      "|completions                                                                                                                                                                                                               |\n",
      "+--------------------------------------------------------------------------------------------------------------------------------------------------------------------------------------------------------------------------+\n",
      "|[{document, 0, 174, {\"Patient Name\": \"Johnathan Miller\", \"Patient Age\": 54, \"Patient Gender\": \"male\", \"Hospital Number\": \"HN382914\", \"Episode Number\": \"EP2024-1178\", \"Episode Date\": \"2025-08-10\"}, {sentence -> 0}, []}]|\n",
      "+--------------------------------------------------------------------------------------------------------------------------------------------------------------------------------------------------------------------------+\n",
      "\n",
      "CPU times: user 9.53 ms, sys: 3.78 ms, total: 13.3 ms\n",
      "Wall time: 12.3 s\n"
     ]
    }
   ],
   "source": [
    "%%time\n",
    "results = pipeline.transform(data).cache()\n",
    "results.select(\"completions\").show(truncate=False)"
   ]
  },
  {
   "cell_type": "markdown",
   "metadata": {
    "id": "rCp40QWDmnVX"
   },
   "source": [
    "# LLMLoader"
   ]
  },
  {
   "cell_type": "markdown",
   "metadata": {
    "id": "7QQjdzGor9Fb"
   },
   "source": [
    "`LLMLoader` is designed to interact with a LLMs that are converted into gguf format. This module allows using John Snow Labs' licensed LLMs at various sizes that are finetuned on medical context for certain tasks. It provides various methods for setting parameters, loading models, generating text, and retrieving metadata. The `LLMLoader` includes methods for setting various parameters such as input prefix, suffix, cache prompt, number of tokens to predict, sampling techniques, temperature, penalties, and more. Overall, the `LLMLoader`  provides a flexible and extensible framework for interacting with language models in a Python and Scala environment using PySpark and Java.\n",
    "\n",
    "The `LLMLoader`, now based on the llama cpp dependency, allows loading models (either `AutoGGUFModel` or `MedicalLLM`) via pretrained and load methods. It can also load any other gguf model outside of the Models Hub. It automatically detects whether a model is licensed and can also load GGUF files directly using the `loadGGUF` method. This streamlines model loading and usage without requiring the inclusion of the llama cpp dependency."
   ]
  },
  {
   "cell_type": "markdown",
   "metadata": {
    "id": "E1pk6PsjqfxL"
   },
   "source": [
    "## JSL_MedS\n",
    "\n",
    "\n",
    "This LLM model is trained to perform Summarization and Q&A based on a given context."
   ]
  },
  {
   "cell_type": "code",
   "execution_count": 3,
   "metadata": {
    "executionInfo": {
     "elapsed": 5070,
     "status": "ok",
     "timestamp": 1760602180035,
     "user": {
      "displayName": "Vildan Sarıkaya",
      "userId": "07789644790967768983"
     },
     "user_tz": 420
    },
    "id": "Bzbsv7oNqdya"
   },
   "outputs": [],
   "source": [
    "jsl_meds_llm = medical.LLMLoader(spark).pretrained(\"jsl_meds_q8_v3\", \"en\", \"clinical/models\")"
   ]
  },
  {
   "cell_type": "code",
   "execution_count": 4,
   "metadata": {
    "executionInfo": {
     "elapsed": 33188,
     "status": "ok",
     "timestamp": 1760602267710,
     "user": {
      "displayName": "Vildan Sarıkaya",
      "userId": "07789644790967768983"
     },
     "user_tz": 420
    },
    "id": "tKqPd3fpvSk5"
   },
   "outputs": [],
   "source": [
    "prompt = \"\"\"\n",
    "Based on the following text, what age group is most susceptible to breast cancer?\n",
    "\n",
    "## Text:\n",
    "The exact cause of breast cancer is unknown. However, several risk factors can increase your likelihood of developing breast cancer, such as:\n",
    "- A personal or family history of breast cancer\n",
    "- A genetic mutation, such as BRCA1 or BRCA2\n",
    "- Exposure to radiation\n",
    "- Age (most commonly occurring in women over 50)\n",
    "- Early onset of menstruation or late menopause\n",
    "- Obesity\n",
    "- Hormonal factors, such as taking hormone replacement therapy\n",
    "\"\"\"\n",
    "\n",
    "response = jsl_meds_llm.generate(prompt)"
   ]
  },
  {
   "cell_type": "code",
   "execution_count": 5,
   "metadata": {
    "colab": {
     "base_uri": "https://localhost:8080/"
    },
    "executionInfo": {
     "elapsed": 8,
     "status": "ok",
     "timestamp": 1760602267720,
     "user": {
      "displayName": "Vildan Sarıkaya",
      "userId": "07789644790967768983"
     },
     "user_tz": 420
    },
    "id": "PzAyfaJuPf-D",
    "outputId": "03fc2776-18ec-4c87-94e3-c99be68c733d"
   },
   "outputs": [
    {
     "name": "stdout",
     "output_type": "stream",
     "text": [
      "\n",
      "Based on the provided text, the age group most susceptible to breast cancer is women over the age of 50. This is because the text explicitly states that breast cancer is most commonly occurring in women over 50. While other risk factors such as genetic mutations, exposure to radiation, early onset of menstruation, late menopause, obesity, and hormonal factors can increase the likelihood of developing breast cancer, age is specifically mentioned as a significant risk factor. Therefore, women in the age group of 50 and above are at a higher risk of developing breast cancer. It is important to note that while age is a significant risk factor, it does not guarantee the development of breast cancer, and other factors should also be considered. Regular screenings and early detection can help in managing and treating breast cancer effectively.\n"
     ]
    }
   ],
   "source": [
    "print(response)"
   ]
  },
  {
   "cell_type": "markdown",
   "metadata": {
    "id": "JvfoVr3yqmfE"
   },
   "source": [
    "## JSL_MedM\n",
    "\n",
    "\n",
    "This LLM model is trained to perform Q&A, Summarization, RAG, and Chat."
   ]
  },
  {
   "cell_type": "code",
   "execution_count": 6,
   "metadata": {
    "executionInfo": {
     "elapsed": 68533,
     "status": "ok",
     "timestamp": 1760602420871,
     "user": {
      "displayName": "Vildan Sarıkaya",
      "userId": "07789644790967768983"
     },
     "user_tz": 420
    },
    "id": "WUB6Q5z4wecF"
   },
   "outputs": [],
   "source": [
    "jsl_medm_llm = medical.LLMLoader(spark).pretrained(\"jsl_medm_q8_v3\", \"en\", \"clinical/models\")"
   ]
  },
  {
   "cell_type": "code",
   "execution_count": 7,
   "metadata": {
    "executionInfo": {
     "elapsed": 206116,
     "status": "ok",
     "timestamp": 1760602626989,
     "user": {
      "displayName": "Vildan Sarıkaya",
      "userId": "07789644790967768983"
     },
     "user_tz": 420
    },
    "id": "nw3jUHswwfuE"
   },
   "outputs": [],
   "source": [
    "prompt = \"\"\"\n",
    "A 23-year-old pregnant woman at 22 weeks gestation presents with burning upon urination. She states it started 1 day ago and has been worsening despite drinking more water and taking cranberry extract. She otherwise feels well and is followed by a doctor for her pregnancy. Her temperature is 97.7°F (36.5°C), blood pressure is 122/77 mmHg, pulse is 80/min, respirations are 19/min, and oxygen saturation is 98% on room air. Physical exam is notable for an absence of costovertebral angle tenderness and a gravid uterus.\n",
    "Which of the following is the best treatment for this patient?\n",
    "A: Ampicillin\n",
    "B: Ceftriaxone\n",
    "C: Ciprofloxacin\n",
    "D: Doxycycline\n",
    "E: Nitrofurantoin\n",
    "\"\"\"\n",
    "\n",
    "response = jsl_medm_llm.generate(prompt)"
   ]
  },
  {
   "cell_type": "code",
   "execution_count": 8,
   "metadata": {
    "colab": {
     "base_uri": "https://localhost:8080/"
    },
    "executionInfo": {
     "elapsed": 20,
     "status": "ok",
     "timestamp": 1760602627011,
     "user": {
      "displayName": "Vildan Sarıkaya",
      "userId": "07789644790967768983"
     },
     "user_tz": 420
    },
    "id": "a5rjz7HYrWRc",
    "outputId": "e9feb53b-de5f-4095-80ec-271ef4bb9c9c"
   },
   "outputs": [
    {
     "name": "stdout",
     "output_type": "stream",
     "text": [
      "The best treatment for this patient is E: Nitrofurantoin.\n",
      "\n",
      "Explanation:\n",
      "The patient presents with symptoms of a urinary tract infection (UTI), specifically cystitis, which is characterized by burning upon urination. The absence of costovertebral angle tenderness suggests that the infection is not extending into the kidneys, which would be indicated by flank pain and fever. The patient is pregnant, which is a significant factor in choosing an appropriate antibiotic.\n",
      "\n",
      "Ampicillin (A) is not the best choice because it is not typically used for uncomplicated cystitis in pregnant women due to its potential for causing diarrhea and other gastrointestinal side effects.\n",
      "\n",
      "Ceftriaxone (B) is a broad-spectrum antibiotic that is generally reserved for more severe infections or when there is a high suspicion of pyelonephritis. It is not the first-line treatment for uncomplicated cystitis.\n",
      "\n",
      "Ciprofloxacin (C) is contraindicated in pregnancy due to its potential to cause harm to the developing fetus, particularly affecting bone and cartilage development.\n",
      "\n",
      "Doxycycline (D) is also contraindicated in pregnancy because it can cause fetal harm, including inhibition of bone growth and discoloration of teeth.\n",
      "\n",
      "Nitrofurantoin (E) is the preferred treatment for uncomplicated cystitis in pregnant women. It is effective against the common pathogens causing UTIs and is considered safe for use during pregnancy, particularly in the second and third trimesters. It is important to note that nitrofurantoin is not recommended for use in the first trimester due to potential risks to the fetus.\n",
      "\n",
      "Therefore, the best treatment for this patient is Nitrofurantoin.\n"
     ]
    }
   ],
   "source": [
    "print(response)"
   ]
  },
  {
   "cell_type": "markdown",
   "metadata": {
    "id": "1ERO2T_A7ut8"
   },
   "source": [
    "## Opensource LLM"
   ]
  },
  {
   "cell_type": "markdown",
   "metadata": {
    "id": "IjiNQu2X_MvF"
   },
   "source": [
    "### mistral-7b"
   ]
  },
  {
   "cell_type": "code",
   "execution_count": null,
   "metadata": {
    "id": "FInIo4_pufVn"
   },
   "outputs": [],
   "source": [
    "# ! pip install huggingface-hub\n",
    "\n",
    "!huggingface-cli download TheBloke/Mistral-7B-v0.1-GGUF mistral-7b-v0.1.Q4_K_M.gguf --local-dir . --local-dir-use-symlinks False\n"
   ]
  },
  {
   "cell_type": "code",
   "execution_count": 10,
   "metadata": {
    "executionInfo": {
     "elapsed": 13,
     "status": "ok",
     "timestamp": 1760602701063,
     "user": {
      "displayName": "Vildan Sarıkaya",
      "userId": "07789644790967768983"
     },
     "user_tz": 420
    },
    "id": "Wtw--WKB-g71"
   },
   "outputs": [],
   "source": [
    "llm_loader = medical.LLMLoader(spark)"
   ]
  },
  {
   "cell_type": "code",
   "execution_count": 11,
   "metadata": {
    "colab": {
     "base_uri": "https://localhost:8080/"
    },
    "executionInfo": {
     "elapsed": 6127,
     "status": "ok",
     "timestamp": 1760602707191,
     "user": {
      "displayName": "Vildan Sarıkaya",
      "userId": "07789644790967768983"
     },
     "user_tz": 420
    },
    "id": "Fgvjcqvp9nKn",
    "outputId": "3ccb0bed-ac81-4aea-d058-5c209e230017"
   },
   "outputs": [
    {
     "name": "stdout",
     "output_type": "stream",
     "text": [
      "CPU times: user 2.12 ms, sys: 1.53 ms, total: 3.65 ms\n",
      "Wall time: 6.14 s\n"
     ]
    },
    {
     "data": {
      "text/plain": [
       "com.johnsnowlabs.ml.gguf.LLMLoader@47d75f0a"
      ]
     },
     "execution_count": 11,
     "metadata": {},
     "output_type": "execute_result"
    }
   ],
   "source": [
    "%%time\n",
    "\n",
    "llm_loader\\\n",
    "    .setUseChatTemplate(True)\\\n",
    "    .setTemperature(0.0)\\\n",
    "    .setStopStrings([\"<|im_end|>\"])\\\n",
    "    .loadGGUF(\"./mistral-7b-v0.1.Q4_K_M.gguf\")"
   ]
  },
  {
   "cell_type": "code",
   "execution_count": 12,
   "metadata": {
    "colab": {
     "base_uri": "https://localhost:8080/"
    },
    "executionInfo": {
     "elapsed": 21609,
     "status": "ok",
     "timestamp": 1760602728818,
     "user": {
      "displayName": "Vildan Sarıkaya",
      "userId": "07789644790967768983"
     },
     "user_tz": 420
    },
    "id": "zJ8KX75b-rmN",
    "outputId": "02f887d6-16f5-4862-c30c-a9671876def4"
   },
   "outputs": [
    {
     "name": "stdout",
     "output_type": "stream",
     "text": [
      "CPU times: user 4.58 ms, sys: 948 µs, total: 5.52 ms\n",
      "Wall time: 21.6 s\n"
     ]
    }
   ],
   "source": [
    "%%time\n",
    "prompt = \"What is the indication for the drug Methadone?\"\n",
    "response = llm_loader.generate(prompt)"
   ]
  },
  {
   "cell_type": "code",
   "execution_count": 13,
   "metadata": {
    "colab": {
     "base_uri": "https://localhost:8080/"
    },
    "executionInfo": {
     "elapsed": 8,
     "status": "ok",
     "timestamp": 1760602728824,
     "user": {
      "displayName": "Vildan Sarıkaya",
      "userId": "07789644790967768983"
     },
     "user_tz": 420
    },
    "id": "Fx3OGHBR_W2k",
    "outputId": "45ba0853-94d5-48cb-d740-b4e8bf39fb75"
   },
   "outputs": [
    {
     "name": "stdout",
     "output_type": "stream",
     "text": [
      "Methadone is used to treat opioid addiction. It is a long-acting opioid that can help reduce cravings and withdrawal symptoms in people who are addicted to other opioids, such as heroin or prescription painkillers. Methadone is also used to treat chronic pain, but it is not as commonly used for this purpose as other opioids.\n"
     ]
    }
   ],
   "source": [
    "print(response)"
   ]
  }
 ],
 "metadata": {
  "accelerator": "GPU",
  "colab": {
   "gpuType": "T4",
   "machine_shape": "hm",
   "provenance": [],
   "toc_visible": true
  },
  "kernelspec": {
   "display_name": "Python 3",
   "name": "python3"
  },
  "language_info": {
   "name": "python"
  }
 },
 "nbformat": 4,
 "nbformat_minor": 0
}

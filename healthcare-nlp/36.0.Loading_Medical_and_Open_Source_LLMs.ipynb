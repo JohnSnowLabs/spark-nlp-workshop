{
  "cells": [
    {
      "cell_type": "markdown",
      "metadata": {
        "id": "fDqxs6BQJ3uN"
      },
      "source": [
        "![JohnSnowLabs](https://nlp.johnsnowlabs.com/assets/images/logo.png)"
      ]
    },
    {
      "cell_type": "markdown",
      "metadata": {
        "id": "gHuWRMttJ6Je"
      },
      "source": [
        "[![Open In Colab](https://colab.research.google.com/assets/colab-badge.svg)](https://colab.research.google.com/github/JohnSnowLabs/spark-nlp-workshop/blob/master/healthcare-nlp/36.0.Loading_Medical_and_Open_Source_LLMs.ipynb)"
      ]
    },
    {
      "cell_type": "markdown",
      "metadata": {
        "id": "X_I1GNjBERqK"
      },
      "source": [
        "# Loading Medical and Open Source LLMs\n",
        "\n"
      ]
    },
    {
      "cell_type": "markdown",
      "metadata": {
        "id": "WBx5D1RHKlNM"
      },
      "source": [
        "`LLMLoader` is designed to interact with a LLMs that are converted into gguf format. This module allows using John Snow Labs' licensed LLMs at various sizes that are finetuned on medical context for certain tasks. It provides various methods for setting parameters, loading models, generating text, and retrieving metadata. The `LLMLoader` includes methods for setting various parameters such as input prefix, suffix, cache prompt, number of tokens to predict, sampling techniques, temperature, penalties, and more. Overall, the `LLMLoader`  provides a flexible and extensible framework for interacting with language models in a Python and Scala environment using PySpark and Java."
      ]
    },
    {
      "cell_type": "markdown",
      "metadata": {
        "id": "okhT7AcXxben"
      },
      "source": [
        "## Colab Setup"
      ]
    },
    {
      "cell_type": "code",
      "execution_count": null,
      "metadata": {
        "id": "UPYaQizloMiq"
      },
      "outputs": [],
      "source": [
        "# Install the johnsnowlabs library to access Spark-OCR and Spark-NLP for Healthcare, Finance, and Legal.\n",
        "! pip install -q johnsnowlabs"
      ]
    },
    {
      "cell_type": "code",
      "execution_count": null,
      "metadata": {
        "id": "jphatV_n_u-T"
      },
      "outputs": [],
      "source": [
        "from google.colab import files\n",
        "print('Please Upload your John Snow Labs License using the button below')\n",
        "license_keys = files.upload()"
      ]
    },
    {
      "cell_type": "code",
      "execution_count": null,
      "metadata": {
        "id": "kMtWWqFBAMVW"
      },
      "outputs": [],
      "source": [
        "from johnsnowlabs import nlp, medical\n",
        "\n",
        "# After uploading your license run this to install all licensed Python Wheels and pre-download Jars the Spark Session JVM\n",
        "nlp.settings.enforce_versions=False\n",
        "nlp.install(refresh_install=True)"
      ]
    },
    {
      "cell_type": "code",
      "execution_count": 4,
      "metadata": {
        "id": "DJnfLCRCtWtf",
        "colab": {
          "base_uri": "https://localhost:8080/"
        },
        "outputId": "d23090dd-6c7c-4850-8c92-6ae16a664e05"
      },
      "outputs": [
        {
          "output_type": "stream",
          "name": "stdout",
          "text": [
            "👌 Detected license file /content/spark_nlp_for_healthcare_spark_ocr_9792 (5).json\n",
            "👌 Launched \u001b[92mcpu optimized\u001b[39m session with with: 🚀Spark-NLP==5.5.3, 💊Spark-Healthcare==5.5.3, running on ⚡ PySpark==3.4.0\n"
          ]
        }
      ],
      "source": [
        "from johnsnowlabs import nlp, medical\n",
        "import pandas as pd\n",
        "\n",
        "spark_conf = {\n",
        "    \"spark.driver.memory\": \"200g\",\n",
        "    \"spark.driver.cores\": \"96\",\n",
        "    \"spark.serializer\": \"org.apache.spark.serializer.KryoSerializer\",\n",
        "    \"spark.kryoserializer.buffer.max\": \"2000M\",\n",
        "    \"spark.driver.maxResultSize\": \"20000M\"\n",
        "}\n",
        "\n",
        "# Automatically load license data and start a session with all jars user has access to\n",
        "spark = nlp.start(\n",
        "    spark_conf = spark_conf\n",
        "   # hardware_target=\"gpu\" # if you have GPU\n",
        ")"
      ]
    },
    {
      "cell_type": "code",
      "execution_count": 5,
      "metadata": {
        "colab": {
          "base_uri": "https://localhost:8080/",
          "height": 219
        },
        "id": "sNnLAZTStaL3",
        "outputId": "937df049-e2fb-464c-91fc-4a11ad741357"
      },
      "outputs": [
        {
          "output_type": "execute_result",
          "data": {
            "text/plain": [
              "<pyspark.sql.session.SparkSession at 0x79eaac2e1c10>"
            ],
            "text/html": [
              "\n",
              "            <div>\n",
              "                <p><b>SparkSession - in-memory</b></p>\n",
              "                \n",
              "        <div>\n",
              "            <p><b>SparkContext</b></p>\n",
              "\n",
              "            <p><a href=\"http://127.0.0.1:4050\">Spark UI</a></p>\n",
              "\n",
              "            <dl>\n",
              "              <dt>Version</dt>\n",
              "                <dd><code>v3.4.0</code></dd>\n",
              "              <dt>Master</dt>\n",
              "                <dd><code>local[*]</code></dd>\n",
              "              <dt>AppName</dt>\n",
              "                <dd><code>John-Snow-Labs-Spark-Session 🚀 with Jars for: 🚀Spark-NLP==5.5.3, 💊Spark-Healthcare==5.5.3, running on ⚡ PySpark==3.4.0</code></dd>\n",
              "            </dl>\n",
              "        </div>\n",
              "        \n",
              "            </div>\n",
              "        "
            ]
          },
          "metadata": {},
          "execution_count": 5
        }
      ],
      "source": [
        "spark"
      ]
    },
    {
      "cell_type": "markdown",
      "source": [
        "# Medical LLMs"
      ],
      "metadata": {
        "id": "Leym43rjqODC"
      }
    },
    {
      "cell_type": "markdown",
      "source": [
        "| Model Name              | Description |\n",
        "|-------------------------|-------------|\n",
        "|[jsl_meds_ner_q16_v2](https://nlp.johnsnowlabs.com/2024/08/21/jsl_meds_ner_q16_v2_en.html)    | Extract and link medical named entities |\n",
        "|[jsl_meds_ner_q8_v2](https://nlp.johnsnowlabs.com/2024/08/21/jsl_meds_ner_q8_v2_en.html)      | Extract and link medical named entities |\n",
        "|[jsl_meds_ner_q4_v2](https://nlp.johnsnowlabs.com/2024/08/21/jsl_meds_ner_q4_v2_en.html)      | Extract and link medical named entities |\n",
        "|[jsl_meds_ner_zs_q16_v1](https://nlp.johnsnowlabs.com/2024/07/12/jsl_medsner_zs_q16_v1_en.html)| Extract and link medical named entities |\n",
        "|[jsl_meds_ner_zs_q8_v1](https://nlp.johnsnowlabs.com/2024/07/12/jsl_meds_ner_zs_q8_v1_en.html)  | Extract and link medical named entities |\n",
        "|[jsl_meds_ner_zs_q4_v1](https://nlp.johnsnowlabs.com/2024/07/12/jsl_medsner_zs_q4_v1_en.html)  | Extract and link medical named entities |\n",
        "|[jsl_meds_q16_v3](https://nlp.johnsnowlabs.com/2024/09/19/jsl_meds_q16_v3_en.html)            | Summarization, Q&A, RAG |\n",
        "|[jsl_meds_q8_v3](https://nlp.johnsnowlabs.com/2024/09/19/jsl_meds_q8_v3_en.html)              | Summarization, Q&A, RAG |\n",
        "|[jsl_meds_q4_v3](https://nlp.johnsnowlabs.com/2024/09/19/jsl_meds_q4_v3_en.html)              | Summarization, Q&A, RAG |\n",
        "|[jsl_meds_q16_v2](https://nlp.johnsnowlabs.com/2024/09/19/jsl_meds_q16_v2_en.html)            | Summarization, Q&A, RAG |\n",
        "|[jsl_meds_q8_v2](https://nlp.johnsnowlabs.com/2024/09/19/jsl_meds_q8_v2_en.html)              | Summarization, Q&A, RAG |\n",
        "|[jsl_meds_q4_v2](https://nlp.johnsnowlabs.com/2024/09/19/jsl_meds_q4_v2_en.html)              | Summarization, Q&A, RAG |\n",
        "|[jsl_meds_q16_v1](https://nlp.johnsnowlabs.com/2024/07/12/jsl_meds_q16_v1_en.html)            | Summarization, Q&A, RAG |\n",
        "|[jsl_meds_q8_v1](https://nlp.johnsnowlabs.com/2024/07/12/jsl_meds_q8_v1_en.html)              | Summarization, Q&A, RAG|\n",
        "|[jsl_meds_q4_v1](https://nlp.johnsnowlabs.com/2024/07/12/jsl_meds_q4_v1_en.html)              | Summarization, Q&A, RAG |\n",
        "|[jsl_medm_q16_v1](https://nlp.johnsnowlabs.com/2024/07/12/jsl_medm_q16_v1_en.html)            | Summarization, Q&A, RAG, and Chat |\n",
        "|[jsl_medm_q8_v1](https://nlp.johnsnowlabs.com/2024/07/12/jsl_medm_q8_v1_en.html)              | Summarization, Q&A, RAG, and Chat |\n",
        "|[jsl_medm_q4_v1](https://nlp.johnsnowlabs.com/2024/07/12/jsl_medm_q4_v1_en.html)              | Summarization, Q&A, RAG, and Chat |\n",
        "|[jsl_meds_rag_q4_v1](https://nlp.johnsnowlabs.com/2024/08/21/jsl_meds_rag_q4_v1_en.html)     | LLM component of Retrieval Augmented Generation (RAG) |\n",
        "|[jsl_meds_rag_q8_v1](https://nlp.johnsnowlabs.com/2024/08/21/jsl_meds_rag_q8_v1_en.html)      | LLM component of Retrieval Augmented Generation (RAG) |\n",
        "|[jsl_meds_rag_q16_v1](https://nlp.johnsnowlabs.com/2024/08/21/jsl_meds_rag_q16_v1_en.html)     | LLM component of Retrieval Augmented Generation (RAG) |\n",
        "\n",
        "**We recommend using 8b quantized versions of the models as the qualitative performance difference between q16 and q8 versions is very negligible.**"
      ],
      "metadata": {
        "id": "ZU5t70e7qHVn"
      }
    },
    {
      "cell_type": "markdown",
      "metadata": {
        "id": "sBNUOja52oLE"
      },
      "source": [
        "# MedicalLLM Annotator (AutoGGUFModel)"
      ]
    },
    {
      "cell_type": "markdown",
      "metadata": {
        "id": "uEd2yO_y2rvv"
      },
      "source": [
        "MedicalLLM was designed to load and run large language models (LLMs) in GGUF format with scalable performance. Ideal for clinical and healthcare applications, MedicalLLM supports tasks like medical entity extraction, summarization, Q&A, Retrieval Augmented Generation (RAG), and conversational AI. With simple integration into Spark NLP pipelines, it allows for customizable batch sizes, prediction settings, and chat templates. GPU optimization is also available, enhancing its capabilities for high-performance environments. MedicalLLM empowers users to link medical entities and perform complex NLP tasks with efficiency and precision. MedicalLLM can be accessed using the `AutoGGUFModel`."
      ]
    },
    {
      "cell_type": "markdown",
      "metadata": {
        "id": "dVMGx0ut2uQK"
      },
      "source": [
        "## JSL_MedS_NER\n",
        "\n",
        "This LLM model is trained to extract and link entities in a document. Users needs to define an input schema as explained in the example section. Drug is defined as a list which tells the model that there could be multiple drugs in the document and it has to extract all of them. Each drug has properties like \"name\" and \"reaction\". Since \"name\" is only one, it is a string, but there could be multiple reactions, hence it is a list. Similarly, users can define any schema for any type of entity."
      ]
    },
    {
      "cell_type": "code",
      "execution_count": null,
      "metadata": {
        "colab": {
          "base_uri": "https://localhost:8080/"
        },
        "id": "OMY9SHe42nuO",
        "outputId": "9cff2bc4-fa11-4f65-d53e-0b75b0ad8d90"
      },
      "outputs": [
        {
          "output_type": "stream",
          "name": "stdout",
          "text": [
            "jsl_meds_ner_q8_v2 download started this may take some time.\n",
            "[OK!]\n"
          ]
        }
      ],
      "source": [
        "document_assembler = nlp.DocumentAssembler()\\\n",
        "    .setInputCol(\"text\")\\\n",
        "    .setOutputCol(\"document\")\n",
        "\n",
        "medical_llm = medical.AutoGGUFModel.pretrained(\"jsl_meds_ner_q8_v2\", \"en\", \"clinical/models\")\\\n",
        "    .setInputCols(\"document\")\\\n",
        "    .setOutputCol(\"completions\")\\\n",
        "    .setBatchSize(1)\\\n",
        "    .setNPredict(100)\\\n",
        "    .setUseChatTemplate(True)\\\n",
        "    .setTemperature(0)\\\n",
        "    #.setNGpuLayers(100) # if you have GPU\n",
        "\n",
        "\n",
        "pipeline = nlp.Pipeline(\n",
        "    stages = [\n",
        "        document_assembler,\n",
        "        medical_llm\n",
        "])"
      ]
    },
    {
      "cell_type": "code",
      "execution_count": null,
      "metadata": {
        "colab": {
          "base_uri": "https://localhost:8080/"
        },
        "id": "VvuravQh4Btz",
        "outputId": "30af8aeb-23b3-4ecc-c927-d1f2f6d6441e"
      },
      "outputs": [
        {
          "output_type": "stream",
          "name": "stdout",
          "text": [
            "+----------------------------------------------------------------------------------------------------+\n",
            "|                                                                                                text|\n",
            "+----------------------------------------------------------------------------------------------------+\n",
            "|\\n### Template:\\n{\\n    \"drugs\": [\\n        {\\n            \"name\": \"\",\\n            \"reactions\": ...|\n",
            "+----------------------------------------------------------------------------------------------------+\n",
            "\n"
          ]
        }
      ],
      "source": [
        "med_ner_prompt = \"\"\"\n",
        "### Template:\n",
        "{\n",
        "    \"drugs\": [\n",
        "        {\n",
        "            \"name\": \"\",\n",
        "            \"reactions\": []\n",
        "        }\n",
        "    ]\n",
        "}\n",
        "### Text:\n",
        "I feel a bit drowsy & have a little blurred vision , and some gastric problems .\n",
        "I 've been on Arthrotec 50 for over 10 years on and off , only taking it when I needed it .\n",
        "Due to my arthritis getting progressively worse , to the point where I am in tears with the agony.\n",
        "Gp 's started me on 75 twice a day and I have to take it every day for the next month to see how I get on , here goes .\n",
        "So far its been very good , pains almost gone , but I feel a bit weird , did n't have that when on 50.\n",
        "\"\"\"\n",
        "\n",
        "data = spark.createDataFrame([[med_ner_prompt]]).toDF(\"text\")\n",
        "data.show(truncate=100)"
      ]
    },
    {
      "cell_type": "code",
      "execution_count": null,
      "metadata": {
        "colab": {
          "base_uri": "https://localhost:8080/"
        },
        "id": "hEW1nEI74T-7",
        "outputId": "e4a58a58-d530-4e77-9e4d-7f3aaf0b4a4a"
      },
      "outputs": [
        {
          "output_type": "stream",
          "name": "stdout",
          "text": [
            "+----------------------------------------------------------------------------------------------------------------------------------------------------------------------------------------------------------------------------------------------------------------------------------------------------------------------------+\n",
            "|completions                                                                                                                                                                                                                                                                                                                 |\n",
            "+----------------------------------------------------------------------------------------------------------------------------------------------------------------------------------------------------------------------------------------------------------------------------------------------------------------------------+\n",
            "|[{document, 0, 248, \\n### Template:\\n{\\n    \"drugs\": [\\n        {\\n            \"name\": \"Arthrotec\",\\n            \"reactions\": [\\n                \"drowsy\",\\n                \"blurred vision\",\\n                \"gastric problems\"\\n            ]\\n        }\\n    ]\\n}\\n \\n \\n \\n \\n \\n \\n \\n \\n \\n \\n, {sentence -> 0}, []}]|\n",
            "+----------------------------------------------------------------------------------------------------------------------------------------------------------------------------------------------------------------------------------------------------------------------------------------------------------------------------+\n",
            "\n",
            "CPU times: user 62.7 ms, sys: 12.5 ms, total: 75.1 ms\n",
            "Wall time: 13.4 s\n"
          ]
        }
      ],
      "source": [
        "%%time\n",
        "results = pipeline.fit(data).transform(data).cache()\n",
        "results.select(\"completions\").show(truncate=False)"
      ]
    },
    {
      "cell_type": "code",
      "execution_count": null,
      "metadata": {
        "colab": {
          "base_uri": "https://localhost:8080/"
        },
        "id": "F1VRTFB54XeJ",
        "outputId": "a13f0694-6c7f-40fa-acbf-e86fc161b767"
      },
      "outputs": [
        {
          "output_type": "stream",
          "name": "stdout",
          "text": [
            "\n",
            "### Template:\n",
            "{\n",
            "    \"drugs\": [\n",
            "        {\n",
            "            \"name\": \"Arthrotec\",\n",
            "            \"reactions\": [\n",
            "                \"drowsy\",\n",
            "                \"blurred vision\",\n",
            "                \"gastric problems\"\n",
            "            ]\n",
            "        }\n",
            "    ]\n",
            "}\n",
            " \n",
            " \n",
            " \n",
            " \n",
            " \n",
            " \n",
            " \n",
            " \n",
            " \n",
            " \n",
            "\n"
          ]
        }
      ],
      "source": [
        "print(results.select(\"completions\").collect()[0].completions[0].result)"
      ]
    },
    {
      "cell_type": "markdown",
      "metadata": {
        "id": "yHv1n-ru5aWq"
      },
      "source": [
        "## JSL_MedM\n",
        "\n",
        "This LLM model is trained to perform Summarization and Q&A based on a given context."
      ]
    },
    {
      "cell_type": "code",
      "execution_count": null,
      "metadata": {
        "colab": {
          "base_uri": "https://localhost:8080/"
        },
        "id": "MqqQ9K3D5ZJ9",
        "outputId": "52b59c2d-6d68-42ab-89b4-0a4c0d5777d8"
      },
      "outputs": [
        {
          "output_type": "stream",
          "name": "stdout",
          "text": [
            "jsl_medm_q8_v3 download started this may take some time.\n",
            "[OK!]\n"
          ]
        }
      ],
      "source": [
        "document_assembler = nlp.DocumentAssembler()\\\n",
        "    .setInputCol(\"text\")\\\n",
        "    .setOutputCol(\"document\")\n",
        "\n",
        "medical_llm = medical.AutoGGUFModel.pretrained(\"jsl_medm_q8_v3\", \"en\", \"clinical/models\")\\\n",
        "    .setInputCols(\"document\")\\\n",
        "    .setOutputCol(\"completions\")\\\n",
        "    .setBatchSize(1)\\\n",
        "    .setNPredict(100)\\\n",
        "    .setUseChatTemplate(True)\\\n",
        "    .setTemperature(0)\\\n",
        "    #.setNGpuLayers(100) # if you have GPU\n",
        "\n",
        "pipeline = nlp.Pipeline(\n",
        "    stages = [\n",
        "        document_assembler,\n",
        "        medical_llm\n",
        "])"
      ]
    },
    {
      "cell_type": "code",
      "execution_count": null,
      "metadata": {
        "colab": {
          "base_uri": "https://localhost:8080/"
        },
        "id": "PvMyc8D95pY9",
        "outputId": "4eaf009d-c2dd-4872-c502-ace56bdd2413"
      },
      "outputs": [
        {
          "output_type": "stream",
          "name": "stdout",
          "text": [
            "+----------------------------------------------------------------------------------------------------+\n",
            "|                                                                                                text|\n",
            "+----------------------------------------------------------------------------------------------------+\n",
            "|\\nsummarize the following content.\\n\\n content:\\n ---------------------------- INDICATIONS AND US...|\n",
            "+----------------------------------------------------------------------------------------------------+\n",
            "\n"
          ]
        }
      ],
      "source": [
        "medm_prompt = \"\"\"\n",
        "summarize the following content.\n",
        "\n",
        " content:\n",
        " ---------------------------- INDICATIONS AND USAGE ---------------------------\n",
        " KISUNLA is an amyloid beta-directed antibody indicated for the\n",
        " treatment of Alzheimer’s disease. Treatment with KISUNLA should be\n",
        " initiated in patients with mild cognitive impairment or mild dementia\n",
        " stage of disease, the population in which treatment was initiated in the\n",
        " clinical trials. (1)\n",
        " ------------------------DOSAGE AND ADMINISTRATION-----------------------\n",
        " • Confirm the presence of amyloid beta pathology prior to initiating\n",
        " treatment. (2.1)\n",
        " • The recommended dosage of KISUNLA is 700 mg administered as\n",
        " an intravenous infusion over approximately 30 minutes every four\n",
        " weeks for the first three doses, followed by 1400 mg every four\n",
        " weeks. (2.2)\n",
        " • Consider stopping dosing with KISUNLA based on reduction of\n",
        " amyloid plaques to minimal levels on amyloid PET imaging. (2.2)\n",
        " • Obtain a recent baseline brain MRI prior to initiating treatment.\n",
        " (2.3, 5.1)\n",
        " • Obtain an MRI prior to the 2nd, 3rd, 4th, and 7th infusions. If\n",
        " radiographically observed ARIA occurs, treatment\n",
        " recommendations are based on type, severity, and presence of\n",
        " symptoms. (2.3, 5.1)\n",
        " • Dilution to a final concentration of 4 mg/mL to 10 mg/mL with 0.9%\n",
        " Sodium Chloride Injection, is required prior to administration. (2.4)\n",
        " ----------------------DOSAGE FORMS AND STRENGTHS---------------------\n",
        " Injection: 350 mg/20 mL (17.5 mg/mL) in a single-dose vial. (3)\n",
        " ------------------------------- CONTRAINDICATIONS ------------------------------\n",
        " KISUNLA is contraindicated in patients with known serious\n",
        " hypersensitivity to donanemab-azbt or to any of the excipients. (4, 5.2)\n",
        " ------------------------WARNINGS AND PRECAUTIONS-----------------------\n",
        " • Amyloid Related Imaging Abnormalities (ARIA): Enhanced clinical\n",
        " vigilance for ARIA is recommended during the first 24 weeks of\n",
        " treatment with KISUNLA. Risk of ARIA, including symptomatic\n",
        " ARIA, was increased in apolipoprotein E ε4 (ApoE ε4)\n",
        " homozygotes compared to heterozygotes and noncarriers. The risk\n",
        " of ARIA-E and ARIA-H is increased in KISUNLA-treated patients\n",
        " with pretreatment microhemorrhages and/or superficial siderosis. If\n",
        " a patient experiences symptoms suggestive of ARIA, clinical\n",
        " evaluation should be performed, including MRI scanning if\n",
        " indicated. (2.3, 5.1)\n",
        " • Infusion-Related Reactions: The infusion rate may be reduced, or\n",
        " the infusion may be discontinued, and appropriate therapy initiated\n",
        " as clinically indicated. Consider pre-treatment with antihistamines,\n",
        " acetaminophen, or corticosteroids prior to subsequent dosing. (5.3)\n",
        " -------------------------------ADVERSE REACTIONS------------------------------\n",
        " Most common adverse reactions (at least 10% and higher incidence\n",
        " compared to placebo): ARIA-E, ARIA-H microhemorrhage, ARIA-H\n",
        " superficial siderosis, and headache. (6.1)\n",
        "\"\"\"\n",
        "\n",
        "data = spark.createDataFrame([[medm_prompt]]).toDF(\"text\")\n",
        "data.show(truncate=100)"
      ]
    },
    {
      "cell_type": "code",
      "execution_count": null,
      "metadata": {
        "colab": {
          "base_uri": "https://localhost:8080/"
        },
        "id": "vgiXeMh85rwH",
        "outputId": "f50f42d7-0837-4868-a6bf-c2f5ea7b1dfd"
      },
      "outputs": [
        {
          "output_type": "stream",
          "name": "stdout",
          "text": [
            "+--------------------------------------------------------------------------------------------------------------------------------------------------------------------------------------------------------------------------------------------------------------------------------------------------------------------------------------------------------------------------------------------------------------------------------------------------------------------------------------------------------------------------------------------------------+\n",
            "|completions                                                                                                                                                                                                                                                                                                                                                                                                                                                                                                                                             |\n",
            "+--------------------------------------------------------------------------------------------------------------------------------------------------------------------------------------------------------------------------------------------------------------------------------------------------------------------------------------------------------------------------------------------------------------------------------------------------------------------------------------------------------------------------------------------------------+\n",
            "|[{document, 0, 492, KISUNLA is an amyloid beta-directed antibody used to treat Alzheimer's disease, specifically in patients with mild cognitive impairment or mild dementia. The recommended dosage is 700 mg administered intravenously over 30 minutes every four weeks for the first three doses, followed by 1400 mg every four weeks. Treatment should be initiated only after confirming the presence of amyloid beta pathology. A recent baseline brain MRI is required before starting treatment, and follow-up MRIs are, {sentence -> 0}, []}]|\n",
            "+--------------------------------------------------------------------------------------------------------------------------------------------------------------------------------------------------------------------------------------------------------------------------------------------------------------------------------------------------------------------------------------------------------------------------------------------------------------------------------------------------------------------------------------------------------+\n",
            "\n",
            "CPU times: user 289 ms, sys: 41.7 ms, total: 330 ms\n",
            "Wall time: 57.8 s\n"
          ]
        }
      ],
      "source": [
        "%%time\n",
        "results = pipeline.fit(data).transform(data).cache()\n",
        "results.select(\"completions\").show(truncate=False)"
      ]
    },
    {
      "cell_type": "code",
      "execution_count": null,
      "metadata": {
        "colab": {
          "base_uri": "https://localhost:8080/"
        },
        "id": "6FTj30fM5t-E",
        "outputId": "7ea550d7-c7b2-4e3b-f5d9-95bd1da7e01c"
      },
      "outputs": [
        {
          "output_type": "stream",
          "name": "stdout",
          "text": [
            "KISUNLA is an amyloid beta-directed antibody used to treat Alzheimer's disease, specifically in patients with mild cognitive impairment or mild dementia. The recommended dosage is 700 mg administered intravenously over 30 minutes every four weeks for the first three doses, followed by 1400 mg every four weeks. Treatment should be initiated only after confirming the presence of amyloid beta pathology. A recent baseline brain MRI is required before starting treatment, and follow-up MRIs are\n"
          ]
        }
      ],
      "source": [
        "print(results.select(\"completions\").collect()[0].completions[0].result)"
      ]
    },
    {
      "cell_type": "markdown",
      "source": [
        "## Medical SOAP Note Generator"
      ],
      "metadata": {
        "id": "1KUnOCg2eVRL"
      }
    },
    {
      "cell_type": "code",
      "source": [
        "document_assembler = nlp.DocumentAssembler()\\\n",
        "    .setInputCol(\"text\")\\\n",
        "    .setOutputCol(\"document\")\n",
        "\n",
        "medical_llm = medical.AutoGGUFModel.pretrained(\"jsl_meds_text2soap_v1\", \"en\", \"clinical/models\")\\\n",
        "    .setInputCols(\"document\")\\\n",
        "    .setOutputCol(\"completions\")\\\n",
        "    .setBatchSize(1)\\\n",
        "    .setNPredict(1024)\\\n",
        "    .setUseChatTemplate(True)\\\n",
        "    .setTemperature(0)\\\n",
        "    .setNGpuLayers(1024)\n",
        "\n",
        "\n",
        "pipeline = nlp.Pipeline(\n",
        "    stages = [\n",
        "        document_assembler,\n",
        "        medical_llm\n",
        "])"
      ],
      "metadata": {
        "colab": {
          "base_uri": "https://localhost:8080/"
        },
        "id": "hLjTA0E1eV8s",
        "outputId": "93115cc9-b0e7-40c9-eedd-a5fc36b7bc11"
      },
      "execution_count": 6,
      "outputs": [
        {
          "output_type": "stream",
          "name": "stdout",
          "text": [
            "jsl_meds_text2soap_v1 download started this may take some time.\n",
            "[OK!]\n"
          ]
        }
      ]
    },
    {
      "cell_type": "code",
      "source": [
        "text = '''\n",
        "A 28-year-old female with a history of gestational diabetes mellitus diagnosed eight years prior to presentation and subsequent type two diabetes mellitus ( T2DM ), one prior episode of HTG-induced pancreatitis three years prior to presentation , and associated with an acute hepatitis , presented with a one-week history of polyuria , poor appetite , and vomiting .\n",
        "She was on metformin , glipizide , and dapagliflozin for T2DM and atorvastatin and gemfibrozil for HTG . She had been on dapagliflozin for six months at the time of presentation .\n",
        "Physical examination on presentation was significant for dry oral mucosa ; significantly , her abdominal examination was benign with no tenderness , guarding , or rigidity . Pertinent laboratory findings on admission were : serum glucose 111 mg/dl ,  creatinine 0.4 mg/dL , triglycerides 508 mg/dL , total cholesterol 122 mg/dL , and venous pH 7.27 .\n",
        "'''"
      ],
      "metadata": {
        "id": "J6_pQE-Nga2f"
      },
      "execution_count": 7,
      "outputs": []
    },
    {
      "cell_type": "code",
      "source": [
        "text_with_prompt = f\"\"\"\n",
        "<|im_start|>user\n",
        "You are an expert medical professor assisting in the creation of medically accurate SOAP summaries.\n",
        "Please ensure the response follows the structured format: S:, O:, A:, P: without using markdown or special formatting.\n",
        "Create a Medical SOAP note summary from the dialogue, following these guidelines:\n",
        "    S (Subjective): Summarize the patient's reported symptoms, including chief complaint and relevant history. Rely on the patient's statements as the primary source and ensure standardized terminology.\n",
        "    O (Objective): Highlight critical findings such as vital signs, lab results, and imaging, emphasizing important details like the side of the body affected and specific dosages. Include normal ranges where relevant.\n",
        "    A (Assessment): Offer a concise assessment combining subjective and objective data. State the primary diagnosis and any differential diagnoses, noting potential complications and the prognostic outlook.\n",
        "    P (Plan): Outline the management plan, covering medication, diet, consultations, and education. Ensure to mention necessary referrals to other specialties and address compliance challenges.\n",
        "    Considerations: Compile the report based solely on the transcript provided. Maintain confidentiality and document sensitively. Use concise medical jargon and abbreviations for effective doctor communication.\n",
        "    Please format the summary in a clean, simple list format without using markdown or bullet points. Use 'S:', 'O:', 'A:', 'P:' directly followed by the text. Avoid any styling or special characters.\n",
        "### Dialogue:\n",
        "{text}\n",
        "<|im_end|>\n",
        "<|im_start|>assistant\n",
        "\"\"\"\n",
        "\n",
        "data = spark.createDataFrame([[text_with_prompt]]).toDF(\"text\")\n",
        "data.show(truncate=100)"
      ],
      "metadata": {
        "colab": {
          "base_uri": "https://localhost:8080/"
        },
        "id": "S19uohZFhMBy",
        "outputId": "df3e7056-f018-453a-9903-c15ff215aed5"
      },
      "execution_count": 8,
      "outputs": [
        {
          "output_type": "stream",
          "name": "stdout",
          "text": [
            "+----------------------------------------------------------------------------------------------------+\n",
            "|                                                                                                text|\n",
            "+----------------------------------------------------------------------------------------------------+\n",
            "|\\n<|im_start|>user\\nYou are an expert medical professor assisting in the creation of medically ac...|\n",
            "+----------------------------------------------------------------------------------------------------+\n",
            "\n"
          ]
        }
      ]
    },
    {
      "cell_type": "code",
      "source": [
        "results = pipeline.fit(data).transform(data)\n",
        "\n",
        "results.select(\"completions\").show(truncate=False)"
      ],
      "metadata": {
        "colab": {
          "base_uri": "https://localhost:8080/"
        },
        "id": "r48DLDTHhPIH",
        "outputId": "322362f1-dac8-4f81-ab9c-9527e81bdaec"
      },
      "execution_count": 9,
      "outputs": [
        {
          "output_type": "stream",
          "name": "stdout",
          "text": [
            "+----------------------------------------------------------------------------------------------------------------------------------------------------------------------------------------------------------------------------------------------------------------------------------------------------------------------------------------------------------------------------------------------------------------------------------------------------------------------------------------------------------------------------------------------------------------------------------------------------------------------------------------------------------------------------------------------------------------------------------------------------------------------------------------------------------------------------------------------------------------------------------------------------------------------------------------------------------------------------------------------------------------------------------------------------------------------------------------------------------------------------------------------------------------------------------------------------------------------------------------------------------------------------------------------------------------------------------------------------------------------------------------------------------------------------------------------------------------------------------------------------------------------------------------------------------------------------------------------------------------------------------------------------------------------------------------------------------------------------------------------------+\n",
            "|completions                                                                                                                                                                                                                                                                                                                                                                                                                                                                                                                                                                                                                                                                                                                                                                                                                                                                                                                                                                                                                                                                                                                                                                                                                                                                                                                                                                                                                                                                                                                                                                                                                                                                                                                                         |\n",
            "+----------------------------------------------------------------------------------------------------------------------------------------------------------------------------------------------------------------------------------------------------------------------------------------------------------------------------------------------------------------------------------------------------------------------------------------------------------------------------------------------------------------------------------------------------------------------------------------------------------------------------------------------------------------------------------------------------------------------------------------------------------------------------------------------------------------------------------------------------------------------------------------------------------------------------------------------------------------------------------------------------------------------------------------------------------------------------------------------------------------------------------------------------------------------------------------------------------------------------------------------------------------------------------------------------------------------------------------------------------------------------------------------------------------------------------------------------------------------------------------------------------------------------------------------------------------------------------------------------------------------------------------------------------------------------------------------------------------------------------------------------+\n",
            "|[{document, 0, 1636, S: The patient is a 28-year-old female with a history of gestational diabetes mellitus diagnosed eight years ago and type two diabetes mellitus (T2DM), with a prior episode of HTG-induced pancreatitis three years ago. She presented with a one-week history of polyuria, poor appetite, and vomiting. She was on metformin, glipizide, dapagliflozin, atorvastatin, and gemfibrozil for her conditions.\\nO: Physical examination showed dry oral mucosa but was otherwise benign with no tenderness, guarding, or rigidity. Laboratory findings included serum glucose 111 mg/dL, creatinine 0.4 mg/dL, triglycerides 508 mg/dL, total cholesterol 122 mg/dL, and venous pH 7.27. She was on dapagliflozin for six months prior to presentation.\\nA: The primary diagnosis is diabetic ketoacidosis (DKA) based on the patient's symptoms of polyuria, poor appetite, vomiting, and elevated triglycerides and total cholesterol. Differential diagnoses could include other causes of polyuria such as diabetes insipidus or a complication from her underlying diabetes. The patient's history of HTG and recent use of dapagliflozin are also relevant.\\nP: The management plan includes close monitoring of her glucose levels and electrolyte balance. She will be started on intravenous insulin and hydration to treat DKA. Dietary adjustments will be made to manage her diabetes and HTG. Regular follow-up appointments will be scheduled to monitor her glucose levels and adjust her medications as necessary. Education on the importance of adherence to the treatment plan and monitoring for signs of complications such as worsening of symptoms or new symptoms will be provided., {sentence -> 0}, []}]|\n",
            "+----------------------------------------------------------------------------------------------------------------------------------------------------------------------------------------------------------------------------------------------------------------------------------------------------------------------------------------------------------------------------------------------------------------------------------------------------------------------------------------------------------------------------------------------------------------------------------------------------------------------------------------------------------------------------------------------------------------------------------------------------------------------------------------------------------------------------------------------------------------------------------------------------------------------------------------------------------------------------------------------------------------------------------------------------------------------------------------------------------------------------------------------------------------------------------------------------------------------------------------------------------------------------------------------------------------------------------------------------------------------------------------------------------------------------------------------------------------------------------------------------------------------------------------------------------------------------------------------------------------------------------------------------------------------------------------------------------------------------------------------------+\n",
            "\n"
          ]
        }
      ]
    },
    {
      "cell_type": "code",
      "source": [
        "example_output  = results.select(\"completions\").collect()[0].completions[0].result\n",
        "print(example_output)"
      ],
      "metadata": {
        "colab": {
          "base_uri": "https://localhost:8080/"
        },
        "id": "XKn9D8bQhSJJ",
        "outputId": "ef89f28e-77b9-43bd-bb91-cdd3217ba50e"
      },
      "execution_count": 10,
      "outputs": [
        {
          "output_type": "stream",
          "name": "stdout",
          "text": [
            "S: The patient is a 28-year-old female with a history of gestational diabetes mellitus diagnosed eight years ago and type two diabetes mellitus (T2DM), with a prior episode of HTG-induced pancreatitis three years ago. She presented with a one-week history of polyuria, poor appetite, and vomiting. She was on metformin, glipizide, dapagliflozin, atorvastatin, and gemfibrozil for her conditions.\n",
            "O: Physical examination showed dry oral mucosa but was otherwise benign with no tenderness, guarding, or rigidity. Laboratory findings included serum glucose 111 mg/dL, creatinine 0.4 mg/dL, triglycerides 508 mg/dL, total cholesterol 122 mg/dL, and venous pH 7.27. She was on dapagliflozin for six months prior to presentation.\n",
            "A: The primary diagnosis is diabetic ketoacidosis (DKA) based on the patient's symptoms of polyuria, poor appetite, vomiting, and elevated triglycerides and total cholesterol. Differential diagnoses could include other causes of polyuria such as diabetes insipidus or a complication from her underlying diabetes. The patient's history of HTG and recent use of dapagliflozin are also relevant.\n",
            "P: The management plan includes close monitoring of her glucose levels and electrolyte balance. She will be started on intravenous insulin and hydration to treat DKA. Dietary adjustments will be made to manage her diabetes and HTG. Regular follow-up appointments will be scheduled to monitor her glucose levels and adjust her medications as necessary. Education on the importance of adherence to the treatment plan and monitoring for signs of complications such as worsening of symptoms or new symptoms will be provided.\n"
          ]
        }
      ]
    },
    {
      "cell_type": "markdown",
      "metadata": {
        "id": "iel7cvOYKZHf"
      },
      "source": [
        "# LLMLoader"
      ]
    },
    {
      "cell_type": "markdown",
      "metadata": {
        "id": "E1pk6PsjqfxL"
      },
      "source": [
        "## JSL_MedS\n",
        "\n",
        "\n",
        "This LLM model is trained to perform Summarization and Q&A based on a given context."
      ]
    },
    {
      "cell_type": "code",
      "execution_count": null,
      "metadata": {
        "id": "Bzbsv7oNqdya"
      },
      "outputs": [],
      "source": [
        "jsl_meds_llm = medical.LLMLoader(spark).pretrained(\"jsl_meds_q8_v3\", \"en\", \"clinical/models\")"
      ]
    },
    {
      "cell_type": "code",
      "execution_count": null,
      "metadata": {
        "id": "tKqPd3fpvSk5"
      },
      "outputs": [],
      "source": [
        "prompt = \"\"\"\n",
        "Based on the following text, what age group is most susceptible to breast cancer?\n",
        "\n",
        "## Text:\n",
        "The exact cause of breast cancer is unknown. However, several risk factors can increase your likelihood of developing breast cancer, such as:\n",
        "- A personal or family history of breast cancer\n",
        "- A genetic mutation, such as BRCA1 or BRCA2\n",
        "- Exposure to radiation\n",
        "- Age (most commonly occurring in women over 50)\n",
        "- Early onset of menstruation or late menopause\n",
        "- Obesity\n",
        "- Hormonal factors, such as taking hormone replacement therapy\n",
        "\"\"\"\n",
        "\n",
        "response = jsl_meds_llm.generate(prompt)"
      ]
    },
    {
      "cell_type": "code",
      "execution_count": null,
      "metadata": {
        "colab": {
          "base_uri": "https://localhost:8080/",
          "height": 36
        },
        "id": "PzAyfaJuPf-D",
        "outputId": "8c04228f-f44d-4d3c-e403-a22237c71ed3"
      },
      "outputs": [
        {
          "data": {
            "application/vnd.google.colaboratory.intrinsic+json": {
              "type": "string"
            },
            "text/plain": [
              "' The age group most susceptible to breast cancer, as mentioned in the text, is women over the age of 50.'"
            ]
          },
          "execution_count": 9,
          "metadata": {},
          "output_type": "execute_result"
        }
      ],
      "source": [
        "response"
      ]
    },
    {
      "cell_type": "markdown",
      "metadata": {
        "id": "JvfoVr3yqmfE"
      },
      "source": [
        "## JSL_MedM\n",
        "\n",
        "\n",
        "This LLM model is trained to perform Q&A, Summarization, RAG, and Chat."
      ]
    },
    {
      "cell_type": "code",
      "execution_count": null,
      "metadata": {
        "id": "WUB6Q5z4wecF"
      },
      "outputs": [],
      "source": [
        "jsl_medm_llm = medical.LLMLoader(spark).pretrained(\"jsl_medm_q8_v3\", \"en\", \"clinical/models\")"
      ]
    },
    {
      "cell_type": "code",
      "execution_count": null,
      "metadata": {
        "id": "nw3jUHswwfuE"
      },
      "outputs": [],
      "source": [
        "prompt = \"\"\"\n",
        "A 23-year-old pregnant woman at 22 weeks gestation presents with burning upon urination. She states it started 1 day ago and has been worsening despite drinking more water and taking cranberry extract. She otherwise feels well and is followed by a doctor for her pregnancy. Her temperature is 97.7°F (36.5°C), blood pressure is 122/77 mmHg, pulse is 80/min, respirations are 19/min, and oxygen saturation is 98% on room air. Physical exam is notable for an absence of costovertebral angle tenderness and a gravid uterus.\n",
        "Which of the following is the best treatment for this patient?\n",
        "A: Ampicillin\n",
        "B: Ceftriaxone\n",
        "C: Ciprofloxacin\n",
        "D: Doxycycline\n",
        "E: Nitrofurantoin\n",
        "\"\"\"\n",
        "\n",
        "response = jsl_medm_llm.generate(prompt)"
      ]
    },
    {
      "cell_type": "code",
      "execution_count": null,
      "metadata": {
        "colab": {
          "base_uri": "https://localhost:8080/"
        },
        "id": "13Tm_CqW47EM",
        "outputId": "18060680-bb14-4d5d-f2c4-f28b7dd24931"
      },
      "outputs": [
        {
          "output_type": "stream",
          "name": "stdout",
          "text": [
            "The patient described is a 23-year-old pregnant woman at 22 weeks gestation who presents with symptoms of a urinary tract infection (UTI), specifically burning upon urination that has worsened over the past day despite increased fluid intake and cranberry extract. The absence of costovertebral angle tenderness and a gravid uterus on physical exam are consistent with a lower UTI rather than a more severe upper UTI.\n",
            "\n",
            "Given the patient's pregnancy status, the choice of antibiotic must be carefully considered to ensure safety for both the mother and the fetus. The American College of Obstetricians and Gynecologists (ACOG) and the American Academy of Family Physicians (AAFP) recommend nitrofurantoin as a first-line treatment for uncomplicated UTIs in pregnant women due to its safety profile and efficacy.\n",
            "\n",
            "- **Ampicillin**: While ampicillin is generally safe in pregnancy, it is not the first-line choice for UTIs due to concerns about resistance and the availability of more effective alternatives.\n",
            "- **Ceftriaxone**: This is typically reserved for more severe infections or when there is a need for parenteral therapy, which is not indicated in this case.\n",
            "- **Ciprofloxacin**: This is contraindicated in pregnancy due to potential risks to the fetus, including cartilage damage.\n",
            "- **Doxycycline**: This is also contraindicated in pregnancy due to potential risks to the fetus, including skeletal and dental abnormalities.\n",
            "\n",
            "Therefore, the best treatment for this patient is:\n",
            "\n",
            "**E: Nitrofurantoin**\n",
            "\n",
            "Nitrofurantoin is safe and effective for treating uncomplicated UTIs in pregnant women and is the recommended first-line therapy by ACOG and AAFP.\n"
          ]
        }
      ],
      "source": [
        "print(response)"
      ]
    },
    {
      "cell_type": "markdown",
      "metadata": {
        "id": "1ERO2T_A7ut8"
      },
      "source": [
        "## Opensource LLM"
      ]
    },
    {
      "cell_type": "markdown",
      "metadata": {
        "id": "IjiNQu2X_MvF"
      },
      "source": [
        "### mistral-7b"
      ]
    },
    {
      "cell_type": "code",
      "execution_count": null,
      "metadata": {
        "colab": {
          "base_uri": "https://localhost:8080/"
        },
        "id": "FInIo4_pufVn",
        "outputId": "ed7bae01-528b-4080-ccda-b8bbe44a4c94"
      },
      "outputs": [
        {
          "output_type": "stream",
          "name": "stdout",
          "text": [
            "/usr/local/lib/python3.11/dist-packages/huggingface_hub/commands/download.py:139: FutureWarning: Ignoring --local-dir-use-symlinks. Downloading to a local directory does not use symlinks anymore.\n",
            "  warnings.warn(\n",
            "Downloading 'mistral-7b-v0.1.Q4_K_M.gguf' to '.cache/huggingface/download/rAdFtzyS6dBYqo0ywrkBjjqajgw=.ce6253d2e91adea0c35924b38411b0434fa18fcb90c52980ce68187dbcbbe40c.incomplete'\n",
            "mistral-7b-v0.1.Q4_K_M.gguf: 100% 4.37G/4.37G [00:20<00:00, 209MB/s]\n",
            "Download complete. Moving file to mistral-7b-v0.1.Q4_K_M.gguf\n",
            "mistral-7b-v0.1.Q4_K_M.gguf\n"
          ]
        }
      ],
      "source": [
        "# ! pip install huggingface-hub\n",
        "\n",
        "!huggingface-cli download TheBloke/Mistral-7B-v0.1-GGUF mistral-7b-v0.1.Q4_K_M.gguf --local-dir . --local-dir-use-symlinks False\n"
      ]
    },
    {
      "cell_type": "code",
      "execution_count": null,
      "metadata": {
        "id": "Wtw--WKB-g71"
      },
      "outputs": [],
      "source": [
        "llm_loader = medical.LLMLoader(spark)"
      ]
    },
    {
      "cell_type": "code",
      "execution_count": null,
      "metadata": {
        "colab": {
          "base_uri": "https://localhost:8080/"
        },
        "id": "Fgvjcqvp9nKn",
        "outputId": "7f7d2610-346c-45f4-e60d-ff9b2b2d5c7f"
      },
      "outputs": [
        {
          "output_type": "stream",
          "name": "stdout",
          "text": [
            "CPU times: user 17.8 ms, sys: 0 ns, total: 17.8 ms\n",
            "Wall time: 3.6 s\n"
          ]
        }
      ],
      "source": [
        "%%time\n",
        "\n",
        "llm = llm_loader\\\n",
        "    .setUseChatTemplate(True)\\\n",
        "    .setTemperature(0.0)\\\n",
        "    .setStopStrings([\"<|im_end|>\"])\\\n",
        "    .loadGGUF(\"./mistral-7b-v0.1.Q4_K_M.gguf\")"
      ]
    },
    {
      "cell_type": "code",
      "execution_count": null,
      "metadata": {
        "colab": {
          "base_uri": "https://localhost:8080/"
        },
        "id": "zJ8KX75b-rmN",
        "outputId": "f6c2b967-8ac0-41a5-84e8-9a5b9f0091a6"
      },
      "outputs": [
        {
          "output_type": "stream",
          "name": "stdout",
          "text": [
            "CPU times: user 39.3 ms, sys: 3.04 ms, total: 42.4 ms\n",
            "Wall time: 8.24 s\n"
          ]
        }
      ],
      "source": [
        "%%time\n",
        "prompt = \"What is the indication for the drug Methadone?\"\n",
        "response = llm.generate(prompt)"
      ]
    },
    {
      "cell_type": "code",
      "execution_count": null,
      "metadata": {
        "colab": {
          "base_uri": "https://localhost:8080/",
          "height": 53
        },
        "id": "Fx3OGHBR_W2k",
        "outputId": "908ebad8-4b5a-40a2-a2bc-2e5998772a7f"
      },
      "outputs": [
        {
          "output_type": "execute_result",
          "data": {
            "text/plain": [
              "'Methadone is used to treat opioid addiction. It is also used to treat severe pain.\\n'"
            ],
            "application/vnd.google.colaboratory.intrinsic+json": {
              "type": "string"
            }
          },
          "metadata": {},
          "execution_count": 19
        }
      ],
      "source": [
        "response"
      ]
    }
  ],
  "metadata": {
    "colab": {
      "machine_shape": "hm",
      "provenance": [],
      "gpuType": "V28",
      "toc_visible": true
    },
    "kernelspec": {
      "display_name": "Python 3",
      "name": "python3"
    },
    "language_info": {
      "name": "python"
    },
    "accelerator": "TPU"
  },
  "nbformat": 4,
  "nbformat_minor": 0
}
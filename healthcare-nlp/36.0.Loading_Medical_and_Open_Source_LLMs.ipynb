{
  "cells": [
    {
      "cell_type": "markdown",
      "metadata": {
        "id": "fDqxs6BQJ3uN"
      },
      "source": [
        "![JohnSnowLabs](https://nlp.johnsnowlabs.com/assets/images/logo.png)"
      ]
    },
    {
      "cell_type": "markdown",
      "metadata": {
        "id": "gHuWRMttJ6Je"
      },
      "source": [
        "[![Open In Colab](https://colab.research.google.com/assets/colab-badge.svg)](https://colab.research.google.com/github/JohnSnowLabs/spark-nlp-workshop/blob/master/healthcare-nlp/36.0.Loading_Medical_and_Open_Source_LLMs.ipynb)"
      ]
    },
    {
      "cell_type": "markdown",
      "metadata": {
        "id": "X_I1GNjBERqK"
      },
      "source": [
        "# Loading Medical and Open Source LLMs\n",
        "\n"
      ]
    },
    {
      "cell_type": "markdown",
      "metadata": {
        "id": "WBx5D1RHKlNM"
      },
      "source": [
        "`LLMLoader` is designed to interact with a LLMs that are converted into gguf format. This module allows using John Snow Labs' licensed LLMs at various sizes that are finetuned on medical context for certain tasks. It provides various methods for setting parameters, loading models, generating text, and retrieving metadata. The `LLMLoader` includes methods for setting various parameters such as input prefix, suffix, cache prompt, number of tokens to predict, sampling techniques, temperature, penalties, and more. Overall, the `LLMLoader`  provides a flexible and extensible framework for interacting with language models in a Python and Scala environment using PySpark and Java."
      ]
    },
    {
      "cell_type": "markdown",
      "metadata": {
        "id": "okhT7AcXxben"
      },
      "source": [
        "## Colab Setup"
      ]
    },
    {
      "cell_type": "code",
      "execution_count": null,
      "metadata": {
        "id": "UPYaQizloMiq"
      },
      "outputs": [],
      "source": [
        "# Install the johnsnowlabs library to access Spark-OCR and Spark-NLP for Healthcare, Finance, and Legal.\n",
        "! pip install -q johnsnowlabs"
      ]
    },
    {
      "cell_type": "code",
      "execution_count": null,
      "metadata": {
        "id": "jphatV_n_u-T"
      },
      "outputs": [],
      "source": [
        "from google.colab import files\n",
        "print('Please Upload your John Snow Labs License using the button below')\n",
        "license_keys = files.upload()"
      ]
    },
    {
      "cell_type": "code",
      "execution_count": null,
      "metadata": {
        "id": "kMtWWqFBAMVW"
      },
      "outputs": [],
      "source": [
        "from johnsnowlabs import nlp, medical\n",
        "\n",
        "# After uploading your license run this to install all licensed Python Wheels and pre-download Jars the Spark Session JVM\n",
        "nlp.settings.enforce_versions=True\n",
        "nlp.install(refresh_install=True)"
      ]
    },
    {
      "cell_type": "code",
      "execution_count": null,
      "metadata": {
        "colab": {
          "base_uri": "https://localhost:8080/"
        },
        "id": "DJnfLCRCtWtf",
        "outputId": "6d239f42-61ea-491e-9a34-693183a1106c"
      },
      "outputs": [
        {
          "output_type": "stream",
          "name": "stdout",
          "text": [
            "👌 Detected license file /content/spark_nlp_for_healthcare_spark_ocr_9596 (2).json\n",
            "👌 Launched \u001b[92mcpu optimized\u001b[39m session with with: 🚀Spark-NLP==5.5.0, 💊Spark-Healthcare==5.5.0, running on ⚡ PySpark==3.4.0\n"
          ]
        }
      ],
      "source": [
        "from johnsnowlabs import nlp, medical\n",
        "import pandas as pd\n",
        "\n",
        "# Automatically load license data and start a session with all jars user has access to\n",
        "spark = nlp.start(\n",
        "   # hardware_target=\"gpu\" # if you have GPU\n",
        ")"
      ]
    },
    {
      "cell_type": "code",
      "execution_count": null,
      "metadata": {
        "colab": {
          "base_uri": "https://localhost:8080/",
          "height": 219
        },
        "id": "sNnLAZTStaL3",
        "outputId": "219b09c6-5351-4833-80e9-93f2d17b465a"
      },
      "outputs": [
        {
          "data": {
            "text/html": [
              "\n",
              "            <div>\n",
              "                <p><b>SparkSession - in-memory</b></p>\n",
              "                \n",
              "        <div>\n",
              "            <p><b>SparkContext</b></p>\n",
              "\n",
              "            <p><a href=\"http://b5357a8a2be9:4040\">Spark UI</a></p>\n",
              "\n",
              "            <dl>\n",
              "              <dt>Version</dt>\n",
              "                <dd><code>v3.4.0</code></dd>\n",
              "              <dt>Master</dt>\n",
              "                <dd><code>local[*]</code></dd>\n",
              "              <dt>AppName</dt>\n",
              "                <dd><code>John-Snow-Labs-Spark-Session 🚀 with Jars for: 🚀Spark-NLP==5.4.0, 💊Spark-Healthcare==5.4.0, running on ⚡ PySpark==3.4.0</code></dd>\n",
              "            </dl>\n",
              "        </div>\n",
              "        \n",
              "            </div>\n",
              "        "
            ],
            "text/plain": [
              "<pyspark.sql.session.SparkSession at 0x7a48fda112d0>"
            ]
          },
          "execution_count": 5,
          "metadata": {},
          "output_type": "execute_result"
        }
      ],
      "source": [
        "spark"
      ]
    },
    {
      "cell_type": "markdown",
      "metadata": {
        "id": "iel7cvOYKZHf"
      },
      "source": [
        "# Medical LLMs"
      ]
    },
    {
      "cell_type": "markdown",
      "metadata": {
        "id": "zNEareAzLXPy"
      },
      "source": [
        "\n",
        "\n",
        "| Model Name              | Description |\n",
        "|-------------------------|-------------|\n",
        "|[JSL_MedS_q16_v1](https://nlp.johnsnowlabs.com/2024/07/12/jsl_meds_q16_v1_en.html)      | Summarization and Q&A  |\n",
        "|[JSL_MedS_q8_v1](https://nlp.johnsnowlabs.com/2024/07/12/jsl_meds_q8_v1_en.html)       | Summarization and Q&A |\n",
        "|[JSL_MedS_q4_v1](https://nlp.johnsnowlabs.com/2024/07/12/jsl_meds_q4_v1_en.html)       | Summarization and Q&A  |\n",
        "|[JSL_MedM_q16_v1](https://nlp.johnsnowlabs.com/2024/07/12/jsl_medm_q16_v1_en.html)      |  Summarization, Q&A, RAG, and Chat |\n",
        "|[JSL_MedM_q8_v1](https://nlp.johnsnowlabs.com/2024/07/12/jsl_medm_q8_v1_en.html)       | Summarization, Q&A, RAG, and Chat |\n",
        "|[JSL_MedM_q4_v1](https://nlp.johnsnowlabs.com/2024/07/12/jsl_medm_q4_v1_en.html)       | Summarization, Q&A, RAG, and Chat |\n",
        "|[JSL_MedSNer_ZS_q16_v1](https://nlp.johnsnowlabs.com/2024/07/12/jsl_medsner_zs_q16_v1_en.html)| Extract and link medical named entities |\n",
        "|[JSL_MedSNer_ZS_q8_v1](https://nlp.johnsnowlabs.com/2024/07/12/jsl_medsner_zs_q8_v1_en.html) | Extract and link medical named entities |\n",
        "|[JSL_MedSNer_ZS_q4_v1](https://nlp.johnsnowlabs.com/2024/07/12/jsl_medsner_zs_q4_v1_en.html) | Extract and link medical named entities |\n",
        "\n",
        "\n",
        "**We recommend using 8b quantized versions of the models as the qualitative performance difference between q16 and q8 versions is very negligible.**"
      ]
    },
    {
      "cell_type": "markdown",
      "metadata": {
        "id": "E1pk6PsjqfxL"
      },
      "source": [
        "## JSL_MedS\n",
        "\n",
        "\n",
        "This LLM model is trained to perform Summarization and Q&A based on a given context."
      ]
    },
    {
      "cell_type": "code",
      "execution_count": null,
      "metadata": {
        "id": "Bzbsv7oNqdya"
      },
      "outputs": [],
      "source": [
        "jsl_meds_llm = medical.LLMLoader(spark).pretrained(\"jsl_meds_q8_v1\", \"en\", \"clinical/models\")"
      ]
    },
    {
      "cell_type": "code",
      "execution_count": null,
      "metadata": {
        "id": "tKqPd3fpvSk5"
      },
      "outputs": [],
      "source": [
        "prompt = \"\"\"\n",
        "Based on the following text, what age group is most susceptible to breast cancer?\n",
        "\n",
        "## Text:\n",
        "The exact cause of breast cancer is unknown. However, several risk factors can increase your likelihood of developing breast cancer, such as:\n",
        "- A personal or family history of breast cancer\n",
        "- A genetic mutation, such as BRCA1 or BRCA2\n",
        "- Exposure to radiation\n",
        "- Age (most commonly occurring in women over 50)\n",
        "- Early onset of menstruation or late menopause\n",
        "- Obesity\n",
        "- Hormonal factors, such as taking hormone replacement therapy\n",
        "\"\"\"\n",
        "\n",
        "response = jsl_meds_llm.generate(prompt)"
      ]
    },
    {
      "cell_type": "code",
      "execution_count": null,
      "metadata": {
        "colab": {
          "base_uri": "https://localhost:8080/",
          "height": 36
        },
        "id": "PzAyfaJuPf-D",
        "outputId": "8c04228f-f44d-4d3c-e403-a22237c71ed3"
      },
      "outputs": [
        {
          "data": {
            "application/vnd.google.colaboratory.intrinsic+json": {
              "type": "string"
            },
            "text/plain": [
              "' The age group most susceptible to breast cancer, as mentioned in the text, is women over the age of 50.'"
            ]
          },
          "execution_count": 9,
          "metadata": {},
          "output_type": "execute_result"
        }
      ],
      "source": [
        "response"
      ]
    },
    {
      "cell_type": "markdown",
      "metadata": {
        "id": "JvfoVr3yqmfE"
      },
      "source": [
        "## JSL_MedM\n",
        "\n",
        "\n",
        "This LLM model is trained to perform Q&A, Summarization, RAG, and Chat."
      ]
    },
    {
      "cell_type": "code",
      "execution_count": null,
      "metadata": {
        "id": "WUB6Q5z4wecF"
      },
      "outputs": [],
      "source": [
        "jsl_medm_llm = medical.LLMLoader(spark).pretrained(\"jsl_medm_q8_v1\", \"en\", \"clinical/models\")"
      ]
    },
    {
      "cell_type": "code",
      "execution_count": null,
      "metadata": {
        "id": "nw3jUHswwfuE"
      },
      "outputs": [],
      "source": [
        "prompt = \"\"\"\n",
        "A 23-year-old pregnant woman at 22 weeks gestation presents with burning upon urination. She states it started 1 day ago and has been worsening despite drinking more water and taking cranberry extract. She otherwise feels well and is followed by a doctor for her pregnancy. Her temperature is 97.7°F (36.5°C), blood pressure is 122/77 mmHg, pulse is 80/min, respirations are 19/min, and oxygen saturation is 98% on room air. Physical exam is notable for an absence of costovertebral angle tenderness and a gravid uterus.\n",
        "Which of the following is the best treatment for this patient?\n",
        "A: Ampicillin\n",
        "B: Ceftriaxone\n",
        "C: Ciprofloxacin\n",
        "D: Doxycycline\n",
        "E: Nitrofurantoin\n",
        "\"\"\"\n",
        "\n",
        "response = jsl_medm_llm.generate(prompt)"
      ]
    },
    {
      "cell_type": "code",
      "execution_count": null,
      "metadata": {
        "colab": {
          "base_uri": "https://localhost:8080/"
        },
        "id": "13Tm_CqW47EM",
        "outputId": "64702682-da53-4772-eb33-b89e73a92218"
      },
      "outputs": [
        {
          "name": "stdout",
          "output_type": "stream",
          "text": [
            "The correct answer is E: Nitrofurantoin.\n",
            "\n",
            "The patient is 22 weeks pregnant and has symptoms of burning upon urination, which is a common symptom of urinary tract infection (UTI). Nitrofurantoin is a first-line antibiotic for uncomplicated UTI in pregnant women.\n"
          ]
        }
      ],
      "source": [
        "print(response)"
      ]
    },
    {
      "cell_type": "code",
      "execution_count": null,
      "metadata": {
        "id": "99_pk-PUPaHI"
      },
      "outputs": [],
      "source": [
        "### Output:\n",
        "\"\"\"The correct answer is E: Nitrofurantoin.\n",
        "\n",
        "The patient is presenting with symptoms of urinary tract infection (UTI), which is common during pregnancy. Nitrofurantoin is a first-line antibiotic for uncomplicated UTI during pregnancy. It is safe and effective in treating UTI during pregnancy and has been used for many years without any adverse effects on the fetus.\n",
        "\"\"\""
      ]
    },
    {
      "cell_type": "markdown",
      "metadata": {
        "id": "v2M2uLwrqk2I"
      },
      "source": [
        "## JSL_MedSNer\n",
        "\n",
        "\n",
        "This LLM model is trained to extract and link entities in a document.\n",
        "Users needs to define an input schema as explained in the example section.\n",
        "Drug is defined as a list which tells the model that there could be multiple drugs in the document and it has to extract all of them.\n",
        "Each drug has properties like \"name\" and \"reaction\". Since \"name\" is only one, it is a string, but there could be multiple reactions, hence it is a list.\n",
        "Similarly, users can define any schema for any type of entity."
      ]
    },
    {
      "cell_type": "code",
      "execution_count": null,
      "metadata": {
        "id": "kE5mA4J8wLnx"
      },
      "outputs": [],
      "source": [
        "jsl_medner_llm = medical.LLMLoader(spark).pretrained(\"jsl_medsner_zs_q16_v1\", \"en\", \"clinical/models\")"
      ]
    },
    {
      "cell_type": "code",
      "execution_count": null,
      "metadata": {
        "id": "0RrcK9JvwTIj"
      },
      "outputs": [],
      "source": [
        "prompt = \"\"\"\n",
        "### Template:\n",
        "{\n",
        "    \"drugs\": [\n",
        "        {\n",
        "            \"name\": \"\",\n",
        "            \"reactions\": []\n",
        "        }\n",
        "    ]\n",
        "}\n",
        "### Text:\n",
        "I feel a bit drowsy & have a little blurred vision , and some gastric problems .\n",
        "I 've been on Arthrotec 50 for over 10 years on and off , only taking it when I needed it .\n",
        "Due to my arthritis getting progressively worse , to the point where I am in tears with the agony.\n",
        "Gp 's started me on 75 twice a day and I have to take it every day for the next month to see how I get on , here goes .\n",
        "So far its been very good , pains almost gone , but I feel a bit weird , did n't have that when on 50.\n",
        "\"\"\"\n",
        "\n",
        "response = jsl_medner_llm.generate(prompt)"
      ]
    },
    {
      "cell_type": "code",
      "execution_count": null,
      "metadata": {
        "colab": {
          "base_uri": "https://localhost:8080/",
          "height": 140
        },
        "id": "lqdALRQ8zXCY",
        "outputId": "ad097748-7d50-4ec0-cf1c-a0936615ffa1"
      },
      "outputs": [
        {
          "data": {
            "application/vnd.google.colaboratory.intrinsic+json": {
              "type": "string"
            },
            "text/plain": [
              "' {\\n    \"drugs\": [\\n        {\\n            \"name\": \"Arthrotec\",\\n            \"reactions\": [\\n                \"drowsiness\",\\n                \"blurred vision\",\\n                \"gastric problems\"\\n            ]\\n        }\\n    ]\\n}\\n {\\n    \"drugs\": [\\n        {\\n            \"name\": \"Arthrotec\",\\n            \"reactions\": [\\n                \"drowsiness\",\\n                \"blurred vision\",\\n                \"gastric problems\"\\n            ]\\n        }\\n    ]\\n}\\n {\\n    \"drugs\": [\\n        {\\n            \"name\": \"Arthrotec\",\\n            \"reactions\": [\\n                \"drowsiness\",\\n                \"blurred vision\",\\n                \"gastric problems\"\\n            ]\\n        }\\n    ]\\n}\\n {\\n    \"drugs\": [\\n        {\\n            \"name\": \"Arthrotec\",\\n            \"reactions\": [\\n                \"drowsiness\",\\n                \"blurred vision\",\\n                \"gastric problems\"\\n            ]\\n        }\\n    ]\\n}\\n {\\n    \"drugs\": [\\n        {\\n            \"name\": \"Arthrotec\",\\n            \"reactions\": [\\n                \"drowsiness\",\\n                \"blurred vision\",\\n                \"gastric problems\"\\n            ]\\n        }\\n    ]\\n}\\n {\\n    \"drugs\": [\\n        {\\n            \"name\": \"Arthrotec\",\\n            \"reactions\": [\\n                \"drowsiness\",\\n                \"blurred vision\",\\n                \"gastric problems\"\\n            ]\\n        }\\n    ]\\n}\\n {\\n    \"drugs\": [\\n        {\\n            \"name\": \"Arthrotec\",\\n            \"reactions\": [\\n                \"drowsiness\",\\n                \"blurred vision\",\\n                \"gastric problems\"\\n            ]\\n        }\\n    ]\\n}\\n {\\n    \"drugs\": [\\n        {\\n            \"name\": \"Arthrotec\",\\n            \"reactions\": [\\n                \"drowsiness\",\\n                \"blurred vision\",\\n                \"gastric problems\"\\n            ]\\n        }\\n    ]\\n}\\n {\\n    \"drugs\": [\\n        {\\n            \"name\": \"Arthrotec\",\\n            \"reactions\": [\\n                \"drowsiness\",\\n                \"blurred vision\",\\n                \"gastric problems\"\\n            ]\\n        }\\n    ]\\n}\\n {\\n    \"drugs\": [\\n        {\\n            \"name\": \"Arthrotec\",\\n            \"reactions\": [\\n                \"drowsiness\",\\n                \"blurred vision\",\\n                \"gastric problems\"\\n            ]\\n        }\\n    ]\\n}\\n {\\n    \"drugs\": [\\n        {\\n            \"name\": \"Arthrotec\",\\n            \"reactions\": [\\n                \"drowsiness\",\\n                \"blurred vision\",\\n                \"gastric problems\"\\n            ]\\n        }\\n    ]\\n}\\n {\\n    \"drugs\": [\\n        {\\n            \"name\": \"Arthrotec\",\\n            \"reactions\": [\\n                \"drowsiness\",\\n                \"blurred vision\",\\n                \"gastric problems\"\\n            ]\\n        }\\n    ]\\n}\\n {\\n    \"drugs\": [\\n        {\\n            \"name\": \"Arthrotec\",\\n            \"reactions\": [\\n                \"drowsiness\",\\n                \"blurred vision\",\\n                \"gastric problems\"\\n            ]\\n        }\\n    ]\\n}\\n {\\n    \"drugs\": [\\n        {\\n            \"name\": \"Arthrotec\",\\n            \"reactions\": [\\n                \"drowsiness\",\\n                \"blurred vision\",\\n                \"gastric problems\"\\n            ]\\n        }\\n    ]\\n}\\n {\\n    \"drugs\": [\\n        {\\n            \"name\": \"Arthrotec\",\\n            \"reactions\": [\\n                \"drowsiness\",\\n                \"blurred vision\",\\n                \"gastric problems\"\\n            ]\\n        }\\n    ]\\n}\\n {\\n    \"drugs\": [\\n        {\\n            \"name\": \"Arthrotec\",\\n            \"reactions\": [\\n                \"drowsiness\",\\n                \"blurred vision\",\\n                \"gastric problems\"\\n            ]\\n        }\\n    ]\\n}\\n {\\n    \"drugs\": [\\n        {\\n            \"name\": \"Arthrotec\",\\n            \"reactions\": [\\n                \"drowsiness\",\\n                \"blurred vision\",\\n                \"gastric problems\"\\n            ]\\n        }\\n    ]\\n}\\n {\\n    \"drugs\": [\\n        {\\n            \"name\": \"Arthrotec\",\\n            \"reactions\": [\\n                \"drowsiness\",\\n                \"blurred vision\",\\n                \"gastric problems\"\\n            ]\\n        }\\n    ]\\n}\\n {\\n    \"drugs\": [\\n        {\\n            \"name\": \"Arthrotec\",\\n            \"reactions\": [\\n                \"drowsiness\",\\n                \"blurred vision\",\\n                \"gastric problems\"\\n            ]\\n        }\\n    ]\\n}\\n {\\n    \"drugs\": [\\n        {\\n            \"name\": \"Arthrotec\",\\n            \"reactions\": [\\n                \"drowsiness\",\\n                \"blurred vision\",\\n                \"gastric problems\"\\n            ]\\n        }\\n    ]\\n}\\n {\\n    \"drugs\": [\\n        {\\n            \"name\": \"Arthrotec\",\\n            \"reactions\": [\\n                \"drowsiness\",\\n                \"blurred vision\",\\n                \"gastric problems\"\\n            ]\\n        }\\n    ]\\n}\\n {\\n    \"drugs\": [\\n        {\\n            \"name\": \"Arthrotec\",\\n            \"reactions\": [\\n                \"drowsiness\",\\n                \"blurred vision\",\\n                \"gastric problems\"\\n            ]\\n        }\\n    ]\\n}\\n {\\n    \"drugs\": [\\n        {\\n            \"name\": \"Arthrotec\",\\n            \"reactions\": [\\n                \"drowsiness\",\\n                \"blurred vision\",\\n                \"gastric problems\"\\n            ]\\n        }\\n    ]\\n}\\n {\\n    \"drugs\": [\\n        {\\n            \"name\": \"Arthrotec\",\\n            \"reactions\": [\\n                \"drowsiness\",\\n                \"blurred vision\",\\n                \"gastric problems\"\\n            ]\\n        }\\n    ]\\n}\\n {\\n    \"drugs\": [\\n        {\\n            \"name\": \"Arthrotec\",\\n            \"reactions\": [\\n                \"drowsiness\",\\n                \"blurred vision\",\\n                \"gastric problems\"\\n            ]\\n        }\\n    ]\\n}\\n {\\n    \"drugs\": [\\n        {\\n            \"name\": \"Arthrotec\",\\n            \"reactions\": [\\n                \"drowsiness\",\\n                \"blurred vision\",\\n                \"gastric problems\"\\n            ]\\n        }\\n    ]\\n}\\n {\\n    \"drugs\": [\\n        {\\n            \"name\": \"Arthrotec\",\\n            \"reactions\": [\\n                \"drowsiness\",\\n                \"blurred vision\",\\n                \"gastric problems\"\\n            ]\\n        }\\n    ]\\n}\\n {\\n    \"drugs\": [\\n        {\\n            \"name\": \"Arthrotec\",\\n            \"reactions\": [\\n                \"drowsiness\",\\n                \"blurred vision\",\\n                \"gastric problems\"\\n            ]\\n        }\\n    ]\\n}\\n {\\n    \"drugs\": [\\n        {\\n            \"name\": \"Arthrotec\",\\n            \"reactions\": [\\n                \"drowsiness\",\\n                \"blurred vision\",\\n                \"gastric problems\"\\n            ]\\n        }\\n    ]\\n}\\n {\\n    \"drugs\": [\\n        {\\n            \"name\": \"Arthrotec\",\\n            \"reactions\": [\\n                \"drowsiness\",\\n                \"blurred vision\",\\n                \"gastric problems\"\\n            ]\\n        }\\n    ]\\n}\\n {\\n    \"drugs\": [\\n        {\\n            \"name\": \"Arthrotec\",\\n            \"reactions\": [\\n                \"drowsiness\",\\n                \"blurred vision\",\\n                \"gastric problems\"\\n            ]\\n        }\\n    ]\\n}\\n {\\n    \"drugs\": [\\n        {\\n            \"name\": \"Arthrotec\",\\n            \"reactions\": [\\n                \"drowsiness\",\\n                \"blurred vision\",\\n                \"gastric problems\"\\n            ]\\n        }\\n    ]\\n}\\n {\\n    \"drugs\": [\\n        {\\n            \"name\": \"Arthrotec\",\\n            \"reactions\": [\\n                \"drowsiness\",\\n                \"blurred vision\",\\n                \"gastric problems\"\\n            ]\\n        }\\n    ]\\n}\\n {\\n    \"drugs\": [\\n        {\\n            \"name\": \"Arthrotec\",\\n            \"reactions\": [\\n                \"drowsiness\",\\n                \"blurred vision\",\\n                \"gastric problems\"\\n            ]\\n        }\\n    ]\\n}\\n {\\n    \"drugs\": [\\n        {\\n            \"name\": \"Arthrotec\",\\n            \"reactions\": [\\n                \"drowsiness\",\\n                \"blurred vision\",\\n                \"gastric problems\"\\n            ]\\n        }\\n    ]\\n}\\n {\\n    \"drugs\": [\\n        {\\n            \"name\": \"Arthrotec\",\\n            \"reactions\": [\\n                \"drowsiness\",\\n                \"blurred vision\",\\n                \"gastric problems\"\\n            ]\\n        }\\n    ]\\n}\\n {\\n    \"drugs\": [\\n        {\\n            \"name\": \"Arthrotec\",\\n            \"reactions\": [\\n                \"drowsiness\",\\n                \"blurred vision\",\\n                \"gastric problems\"\\n            ]\\n        }\\n    ]\\n}\\n {\\n    \"drugs\": [\\n        {\\n            \"name\": \"Arthrotec\",\\n            \"reactions\": [\\n                \"drowsiness\",\\n                \"blurred vision\",\\n                \"gastric problems\"\\n            ]\\n        }\\n    ]\\n}\\n {\\n    \"drugs\": [\\n        {\\n            \"name\": \"Arthrotec\",\\n            \"reactions\": [\\n                \"drowsiness\",\\n                \"blurred vision\",\\n                \"gastric problems\"\\n            ]\\n        }\\n    ]\\n}\\n {\\n    \"drugs\": [\\n        {\\n            \"name\": \"Arthrotec\",\\n            \"reactions\": [\\n                \"drowsiness\",\\n                \"blurred vision\",\\n                \"gastric problems\"\\n            ]\\n        }\\n    ]\\n}\\n {\\n    \"drugs\": [\\n        {\\n            \"name\": \"Arthrotec\",\\n            \"reactions\": [\\n                \"drowsiness\",\\n                \"blurred vision\",\\n                \"gastric problems\"\\n            ]\\n        }\\n    ]\\n}\\n {\\n    \"drugs\": [\\n        {\\n            \"name\": \"Arthrotec\",\\n            \"reactions\": [\\n                \"drowsiness\",\\n                \"blurred vision\",\\n                \"gastric problems\"\\n            ]\\n        }\\n    ]\\n}\\n {\\n    \"drugs\": [\\n        {\\n            \"name\": \"Arthrotec\",\\n            \"reactions\": [\\n                \"drowsiness\",\\n                \"blurred vision\",\\n                \"gastric problems\"\\n            ]\\n        }\\n    ]\\n}\\n {\\n    \"drugs\": [\\n        {\\n            \"name\": \"Arthrotec\",\\n            \"reactions\": [\\n                \"drowsiness\",\\n                \"blurred vision\",\\n                \"gastric problems\"\\n            ]\\n        }\\n    ]\\n}\\n {\\n    \"drugs\": [\\n        {\\n            \"name\": \"Arthrotec\",\\n            \"reactions\": [\\n                \"drowsiness\",\\n                \"blurred vision\",\\n                \"gastric problems\"\\n            ]\\n        }\\n    ]\\n}\\n {\\n    \"drugs\": [\\n        {\\n            \"name\": \"Arthrotec\",\\n            \"reactions\": [\\n                \"drowsiness\",\\n                \"blurred vision\",\\n                \"gastric problems\"\\n            ]\\n        }\\n    ]\\n}\\n {\\n    \"drugs\": [\\n        {\\n            \"name\": \"Arthrotec\",\\n            \"reactions\": [\\n                \"drowsiness\",\\n                \"blurred vision\",\\n                \"gastric problems\"\\n            ]\\n        }\\n    ]\\n}\\n {\\n    \"drugs\": [\\n        {\\n            \"name\": \"Arthrotec\",\\n            \"reactions\": [\\n                \"drowsiness\",\\n                \"blurred vision\",\\n                \"gastric problems\"\\n            ]\\n        }\\n    ]\\n}\\n {\\n    \"drugs\": [\\n        {\\n            \"name\": \"Arthrotec\",\\n            \"reactions\": [\\n                \"drowsiness\",\\n                \"blurred vision\",\\n                \"gastric problems\"\\n            ]\\n        }\\n    ]\\n}\\n {\\n    \"drugs\": [\\n        {\\n            \"name\": \"Arthrotec\",\\n            \"reactions\": [\\n                \"drowsiness\",\\n                \"blurred vision\",\\n                \"gastric problems\"\\n            ]\\n        }\\n    ]\\n}\\n {\\n    \"drugs\": [\\n        {\\n            \"name\": \"Arthrotec\",\\n            \"reactions\": [\\n                \"drowsiness\",\\n                \"blurred vision\",\\n                \"gastric problems\"\\n            ]\\n        }\\n    ]\\n}\\n {\\n    \"drugs\": [\\n        {\\n            \"name\": \"Arthrotec\",\\n            \"reactions\": [\\n                \"drowsiness\",\\n                \"blurred vision\",\\n                \"gastric problems\"\\n            ]\\n        }\\n    ]\\n}\\n {\\n    \"drugs\": [\\n        {\\n            \"name\": \"Arthrotec\",\\n            \"reactions\": [\\n                \"drowsiness\",\\n                \"blurred vision\",\\n                \"gastric problems\"\\n            ]\\n        }\\n    ]\\n}\\n {\\n    \"drugs\": [\\n        {\\n            \"name\": \"Arthrotec\",\\n            \"reactions\": [\\n                \"drowsiness\",\\n                \"blurred vision\",\\n                \"gastric problems\"\\n            ]\\n        }\\n    ]\\n}\\n {\\n    \"drugs\": [\\n        {\\n            \"name\": \"Arthrotec\",\\n            \"reactions\": [\\n                \"drowsiness\",\\n                \"blurred vision\",\\n                \"gastric problems\"\\n            ]\\n        }\\n    ]\\n}\\n {\\n    \"drugs\": [\\n        {\\n            \"name\": \"Arthrotec\",\\n            \"reactions\": [\\n                \"drowsiness\",\\n                \"blurred vision\",\\n                \"gastric problems\"\\n            ]\\n        }\\n    ]\\n}\\n {\\n    \"drugs\": [\\n        {\\n            \"name\": \"Arthrotec\",\\n            \"reactions\": [\\n                \"drowsiness\",\\n                \"blurred vision\",\\n                \"gastric problems\"\\n            ]\\n        }\\n    ]\\n}\\n {\\n    \"drugs\": [\\n        {\\n            \"name\": \"Arthrotec\",\\n            \"reactions\": [\\n                \"drowsiness\",\\n                \"blurred vision\",\\n                \"gastric problems\"\\n            ]\\n        }\\n    ]\\n}\\n {\\n    \"drugs\": [\\n        {\\n            \"name\": \"Arthrotec\",\\n            \"reactions\": [\\n                \"drowsiness\",\\n                \"blurred vision\",\\n                \"gastric problems\"\\n            ]\\n        }\\n    ]\\n}\\n {\\n    \"drugs\": [\\n        {\\n            \"name\": \"Arthrotec\",\\n            \"reactions\": [\\n                \"drowsiness\",\\n                \"blurred vision\",\\n                \"g'"
            ]
          },
          "execution_count": 16,
          "metadata": {},
          "output_type": "execute_result"
        }
      ],
      "source": [
        "response"
      ]
    },
    {
      "cell_type": "code",
      "execution_count": null,
      "metadata": {
        "colab": {
          "base_uri": "https://localhost:8080/"
        },
        "id": "K6tO9PAG20bp",
        "outputId": "d005a65a-16ba-4cb7-c06e-35a75ff29bd4"
      },
      "outputs": [
        {
          "name": "stdout",
          "output_type": "stream",
          "text": [
            " {\n",
            "    \"drugs\": [\n",
            "        {\n",
            "            \"name\": \"Arthrotec\",\n",
            "            \"reactions\": [\n",
            "                \"drowsiness\",\n",
            "                \"blurred vision\",\n",
            "                \"gastric problems\"\n",
            "            ]\n",
            "        }\n",
            "    ]\n",
            "}\n",
            " {\n",
            "    \"drugs\": [\n",
            "        {\n",
            "            \"name\": \"Arthrotec\",\n",
            "            \"reactions\": [\n",
            "                \"drowsiness\",\n",
            "                \"blurred vision\",\n",
            "                \"gastric problems\"\n",
            "            ]\n",
            "        }\n",
            "    ]\n",
            "}\n",
            " {\n",
            "    \"drugs\": [\n",
            "        {\n",
            "            \"name\": \"Arthrotec\",\n",
            "            \"reactions\": [\n",
            "                \"drowsiness\",\n",
            "                \"blurred vision\",\n",
            "                \"gastric problems\"\n",
            "            ]\n",
            "        }\n",
            "    ]\n",
            "}\n",
            " {\n",
            "    \"drugs\": [\n",
            "        {\n",
            "            \"name\": \"Arthrotec\",\n",
            "            \"reactions\": [\n",
            "                \"drowsiness\",\n",
            "                \"blurred vision\",\n",
            "                \"gastric problems\"\n",
            "            ]\n",
            "        }\n",
            "    ]\n",
            "}\n",
            " {\n",
            "    \"drugs\": [\n",
            "        {\n",
            "            \"name\": \"Arthrotec\",\n",
            "            \"reactions\": [\n",
            "                \"drowsiness\",\n",
            "                \"blurred vision\",\n",
            "                \"gastric problems\"\n",
            "            ]\n",
            "        }\n",
            "    ]\n",
            "}\n",
            " {\n",
            "    \"drugs\": [\n",
            "        {\n",
            "            \"name\": \"Arthrotec\",\n",
            "            \"reactions\": [\n",
            "                \"drowsiness\",\n",
            "                \"blurred vision\",\n",
            "                \"gastric problems\"\n",
            "            ]\n",
            "        }\n",
            "    ]\n",
            "}\n",
            " {\n",
            "    \"drugs\": [\n",
            "        {\n",
            "            \"name\": \"Arthrotec\",\n",
            "            \"reactions\": [\n",
            "                \"drowsiness\",\n",
            "                \"blurred vision\",\n",
            "                \"gastric problems\"\n",
            "            ]\n",
            "        }\n",
            "    ]\n",
            "}\n",
            " {\n",
            "    \"drugs\": [\n",
            "        {\n",
            "            \"name\": \"Arthrotec\",\n",
            "            \"reactions\": [\n",
            "                \"drowsiness\",\n",
            "                \"blurred vision\",\n",
            "                \"gastric problems\"\n",
            "            ]\n",
            "        }\n",
            "    ]\n",
            "}\n",
            " {\n",
            "    \"drugs\": [\n",
            "        {\n",
            "            \"name\": \"Arthrotec\",\n",
            "            \"reactions\": [\n",
            "                \"drowsiness\",\n",
            "                \"blurred vision\",\n",
            "                \"gastric problems\"\n",
            "            ]\n",
            "        }\n",
            "    ]\n",
            "}\n",
            " {\n",
            "    \"drugs\": [\n",
            "        {\n",
            "            \"name\": \"Arthrotec\",\n",
            "            \"reactions\": [\n",
            "                \"drowsiness\",\n",
            "                \"blurred vision\",\n",
            "                \"gastric problems\"\n",
            "            ]\n",
            "        }\n",
            "    ]\n",
            "}\n",
            " {\n",
            "    \"drugs\": [\n",
            "        {\n",
            "            \"name\": \"Arthrotec\",\n",
            "            \"reactions\": [\n",
            "                \"drowsiness\",\n",
            "                \"blurred vision\",\n",
            "                \"gastric problems\"\n",
            "            ]\n",
            "        }\n",
            "    ]\n",
            "}\n",
            " {\n",
            "    \"drugs\": [\n",
            "        {\n",
            "            \"name\": \"Arthrotec\",\n",
            "            \"reactions\": [\n",
            "                \"drowsiness\",\n",
            "                \"blurred vision\",\n",
            "                \"gastric problems\"\n",
            "            ]\n",
            "        }\n",
            "    ]\n",
            "}\n",
            " {\n",
            "    \"drugs\": [\n",
            "        {\n",
            "            \"name\": \"Arthrotec\",\n",
            "            \"reactions\": [\n",
            "                \"drowsiness\",\n",
            "                \"blurred vision\",\n",
            "                \"gastric problems\"\n",
            "            ]\n",
            "        }\n",
            "    ]\n",
            "}\n",
            " {\n",
            "    \"drugs\": [\n",
            "        {\n",
            "            \"name\": \"Arthrotec\",\n",
            "            \"reactions\": [\n",
            "                \"drowsiness\",\n",
            "                \"blurred vision\",\n",
            "                \"gastric problems\"\n",
            "            ]\n",
            "        }\n",
            "    ]\n",
            "}\n",
            " {\n",
            "    \"drugs\": [\n",
            "        {\n",
            "            \"name\": \"Arthrotec\",\n",
            "            \"reactions\": [\n",
            "                \"drowsiness\",\n",
            "                \"blurred vision\",\n",
            "                \"gastric problems\"\n",
            "            ]\n",
            "        }\n",
            "    ]\n",
            "}\n",
            " {\n",
            "    \"drugs\": [\n",
            "        {\n",
            "            \"name\": \"Arthrotec\",\n",
            "            \"reactions\": [\n",
            "                \"drowsiness\",\n",
            "                \"blurred vision\",\n",
            "                \"gastric problems\"\n",
            "            ]\n",
            "        }\n",
            "    ]\n",
            "}\n",
            " {\n",
            "    \"drugs\": [\n",
            "        {\n",
            "            \"name\": \"Arthrotec\",\n",
            "            \"reactions\": [\n",
            "                \"drowsiness\",\n",
            "                \"blurred vision\",\n",
            "                \"gastric problems\"\n",
            "            ]\n",
            "        }\n",
            "    ]\n",
            "}\n",
            " {\n",
            "    \"drugs\": [\n",
            "        {\n",
            "            \"name\": \"Arthrotec\",\n",
            "            \"reactions\": [\n",
            "                \"drowsiness\",\n",
            "                \"blurred vision\",\n",
            "                \"gastric problems\"\n",
            "            ]\n",
            "        }\n",
            "    ]\n",
            "}\n",
            " {\n",
            "    \"drugs\": [\n",
            "        {\n",
            "            \"name\": \"Arthrotec\",\n",
            "            \"reactions\": [\n",
            "                \"drowsiness\",\n",
            "                \"blurred vision\",\n",
            "                \"gastric problems\"\n",
            "            ]\n",
            "        }\n",
            "    ]\n",
            "}\n",
            " {\n",
            "    \"drugs\": [\n",
            "        {\n",
            "            \"name\": \"Arthrotec\",\n",
            "            \"reactions\": [\n",
            "                \"drowsiness\",\n",
            "                \"blurred vision\",\n",
            "                \"gastric problems\"\n",
            "            ]\n",
            "        }\n",
            "    ]\n",
            "}\n",
            " {\n",
            "    \"drugs\": [\n",
            "        {\n",
            "            \"name\": \"Arthrotec\",\n",
            "            \"reactions\": [\n",
            "                \"drowsiness\",\n",
            "                \"blurred vision\",\n",
            "                \"gastric problems\"\n",
            "            ]\n",
            "        }\n",
            "    ]\n",
            "}\n",
            " {\n",
            "    \"drugs\": [\n",
            "        {\n",
            "            \"name\": \"Arthrotec\",\n",
            "            \"reactions\": [\n",
            "                \"drowsiness\",\n",
            "                \"blurred vision\",\n",
            "                \"gastric problems\"\n",
            "            ]\n",
            "        }\n",
            "    ]\n",
            "}\n",
            " {\n",
            "    \"drugs\": [\n",
            "        {\n",
            "            \"name\": \"Arthrotec\",\n",
            "            \"reactions\": [\n",
            "                \"drowsiness\",\n",
            "                \"blurred vision\",\n",
            "                \"gastric problems\"\n",
            "            ]\n",
            "        }\n",
            "    ]\n",
            "}\n",
            " {\n",
            "    \"drugs\": [\n",
            "        {\n",
            "            \"name\": \"Arthrotec\",\n",
            "            \"reactions\": [\n",
            "                \"drowsiness\",\n",
            "                \"blurred vision\",\n",
            "                \"gastric problems\"\n",
            "            ]\n",
            "        }\n",
            "    ]\n",
            "}\n",
            " {\n",
            "    \"drugs\": [\n",
            "        {\n",
            "            \"name\": \"Arthrotec\",\n",
            "            \"reactions\": [\n",
            "                \"drowsiness\",\n",
            "                \"blurred vision\",\n",
            "                \"gastric problems\"\n",
            "            ]\n",
            "        }\n",
            "    ]\n",
            "}\n",
            " {\n",
            "    \"drugs\": [\n",
            "        {\n",
            "            \"name\": \"Arthrotec\",\n",
            "            \"reactions\": [\n",
            "                \"drowsiness\",\n",
            "                \"blurred vision\",\n",
            "                \"gastric problems\"\n",
            "            ]\n",
            "        }\n",
            "    ]\n",
            "}\n",
            " {\n",
            "    \"drugs\": [\n",
            "        {\n",
            "            \"name\": \"Arthrotec\",\n",
            "            \"reactions\": [\n",
            "                \"drowsiness\",\n",
            "                \"blurred vision\",\n",
            "                \"gastric problems\"\n",
            "            ]\n",
            "        }\n",
            "    ]\n",
            "}\n",
            " {\n",
            "    \"drugs\": [\n",
            "        {\n",
            "            \"name\": \"Arthrotec\",\n",
            "            \"reactions\": [\n",
            "                \"drowsiness\",\n",
            "                \"blurred vision\",\n",
            "                \"gastric problems\"\n",
            "            ]\n",
            "        }\n",
            "    ]\n",
            "}\n",
            " {\n",
            "    \"drugs\": [\n",
            "        {\n",
            "            \"name\": \"Arthrotec\",\n",
            "            \"reactions\": [\n",
            "                \"drowsiness\",\n",
            "                \"blurred vision\",\n",
            "                \"gastric problems\"\n",
            "            ]\n",
            "        }\n",
            "    ]\n",
            "}\n",
            " {\n",
            "    \"drugs\": [\n",
            "        {\n",
            "            \"name\": \"Arthrotec\",\n",
            "            \"reactions\": [\n",
            "                \"drowsiness\",\n",
            "                \"blurred vision\",\n",
            "                \"gastric problems\"\n",
            "            ]\n",
            "        }\n",
            "    ]\n",
            "}\n",
            " {\n",
            "    \"drugs\": [\n",
            "        {\n",
            "            \"name\": \"Arthrotec\",\n",
            "            \"reactions\": [\n",
            "                \"drowsiness\",\n",
            "                \"blurred vision\",\n",
            "                \"gastric problems\"\n",
            "            ]\n",
            "        }\n",
            "    ]\n",
            "}\n",
            " {\n",
            "    \"drugs\": [\n",
            "        {\n",
            "            \"name\": \"Arthrotec\",\n",
            "            \"reactions\": [\n",
            "                \"drowsiness\",\n",
            "                \"blurred vision\",\n",
            "                \"gastric problems\"\n",
            "            ]\n",
            "        }\n",
            "    ]\n",
            "}\n",
            " {\n",
            "    \"drugs\": [\n",
            "        {\n",
            "            \"name\": \"Arthrotec\",\n",
            "            \"reactions\": [\n",
            "                \"drowsiness\",\n",
            "                \"blurred vision\",\n",
            "                \"gastric problems\"\n",
            "            ]\n",
            "        }\n",
            "    ]\n",
            "}\n",
            " {\n",
            "    \"drugs\": [\n",
            "        {\n",
            "            \"name\": \"Arthrotec\",\n",
            "            \"reactions\": [\n",
            "                \"drowsiness\",\n",
            "                \"blurred vision\",\n",
            "                \"gastric problems\"\n",
            "            ]\n",
            "        }\n",
            "    ]\n",
            "}\n",
            " {\n",
            "    \"drugs\": [\n",
            "        {\n",
            "            \"name\": \"Arthrotec\",\n",
            "            \"reactions\": [\n",
            "                \"drowsiness\",\n",
            "                \"blurred vision\",\n",
            "                \"gastric problems\"\n",
            "            ]\n",
            "        }\n",
            "    ]\n",
            "}\n",
            " {\n",
            "    \"drugs\": [\n",
            "        {\n",
            "            \"name\": \"Arthrotec\",\n",
            "            \"reactions\": [\n",
            "                \"drowsiness\",\n",
            "                \"blurred vision\",\n",
            "                \"gastric problems\"\n",
            "            ]\n",
            "        }\n",
            "    ]\n",
            "}\n",
            " {\n",
            "    \"drugs\": [\n",
            "        {\n",
            "            \"name\": \"Arthrotec\",\n",
            "            \"reactions\": [\n",
            "                \"drowsiness\",\n",
            "                \"blurred vision\",\n",
            "                \"gastric problems\"\n",
            "            ]\n",
            "        }\n",
            "    ]\n",
            "}\n",
            " {\n",
            "    \"drugs\": [\n",
            "        {\n",
            "            \"name\": \"Arthrotec\",\n",
            "            \"reactions\": [\n",
            "                \"drowsiness\",\n",
            "                \"blurred vision\",\n",
            "                \"gastric problems\"\n",
            "            ]\n",
            "        }\n",
            "    ]\n",
            "}\n",
            " {\n",
            "    \"drugs\": [\n",
            "        {\n",
            "            \"name\": \"Arthrotec\",\n",
            "            \"reactions\": [\n",
            "                \"drowsiness\",\n",
            "                \"blurred vision\",\n",
            "                \"gastric problems\"\n",
            "            ]\n",
            "        }\n",
            "    ]\n",
            "}\n",
            " {\n",
            "    \"drugs\": [\n",
            "        {\n",
            "            \"name\": \"Arthrotec\",\n",
            "            \"reactions\": [\n",
            "                \"drowsiness\",\n",
            "                \"blurred vision\",\n",
            "                \"gastric problems\"\n",
            "            ]\n",
            "        }\n",
            "    ]\n",
            "}\n",
            " {\n",
            "    \"drugs\": [\n",
            "        {\n",
            "            \"name\": \"Arthrotec\",\n",
            "            \"reactions\": [\n",
            "                \"drowsiness\",\n",
            "                \"blurred vision\",\n",
            "                \"gastric problems\"\n",
            "            ]\n",
            "        }\n",
            "    ]\n",
            "}\n",
            " {\n",
            "    \"drugs\": [\n",
            "        {\n",
            "            \"name\": \"Arthrotec\",\n",
            "            \"reactions\": [\n",
            "                \"drowsiness\",\n",
            "                \"blurred vision\",\n",
            "                \"gastric problems\"\n",
            "            ]\n",
            "        }\n",
            "    ]\n",
            "}\n",
            " {\n",
            "    \"drugs\": [\n",
            "        {\n",
            "            \"name\": \"Arthrotec\",\n",
            "            \"reactions\": [\n",
            "                \"drowsiness\",\n",
            "                \"blurred vision\",\n",
            "                \"gastric problems\"\n",
            "            ]\n",
            "        }\n",
            "    ]\n",
            "}\n",
            " {\n",
            "    \"drugs\": [\n",
            "        {\n",
            "            \"name\": \"Arthrotec\",\n",
            "            \"reactions\": [\n",
            "                \"drowsiness\",\n",
            "                \"blurred vision\",\n",
            "                \"gastric problems\"\n",
            "            ]\n",
            "        }\n",
            "    ]\n",
            "}\n",
            " {\n",
            "    \"drugs\": [\n",
            "        {\n",
            "            \"name\": \"Arthrotec\",\n",
            "            \"reactions\": [\n",
            "                \"drowsiness\",\n",
            "                \"blurred vision\",\n",
            "                \"gastric problems\"\n",
            "            ]\n",
            "        }\n",
            "    ]\n",
            "}\n",
            " {\n",
            "    \"drugs\": [\n",
            "        {\n",
            "            \"name\": \"Arthrotec\",\n",
            "            \"reactions\": [\n",
            "                \"drowsiness\",\n",
            "                \"blurred vision\",\n",
            "                \"gastric problems\"\n",
            "            ]\n",
            "        }\n",
            "    ]\n",
            "}\n",
            " {\n",
            "    \"drugs\": [\n",
            "        {\n",
            "            \"name\": \"Arthrotec\",\n",
            "            \"reactions\": [\n",
            "                \"drowsiness\",\n",
            "                \"blurred vision\",\n",
            "                \"gastric problems\"\n",
            "            ]\n",
            "        }\n",
            "    ]\n",
            "}\n",
            " {\n",
            "    \"drugs\": [\n",
            "        {\n",
            "            \"name\": \"Arthrotec\",\n",
            "            \"reactions\": [\n",
            "                \"drowsiness\",\n",
            "                \"blurred vision\",\n",
            "                \"gastric problems\"\n",
            "            ]\n",
            "        }\n",
            "    ]\n",
            "}\n",
            " {\n",
            "    \"drugs\": [\n",
            "        {\n",
            "            \"name\": \"Arthrotec\",\n",
            "            \"reactions\": [\n",
            "                \"drowsiness\",\n",
            "                \"blurred vision\",\n",
            "                \"gastric problems\"\n",
            "            ]\n",
            "        }\n",
            "    ]\n",
            "}\n",
            " {\n",
            "    \"drugs\": [\n",
            "        {\n",
            "            \"name\": \"Arthrotec\",\n",
            "            \"reactions\": [\n",
            "                \"drowsiness\",\n",
            "                \"blurred vision\",\n",
            "                \"gastric problems\"\n",
            "            ]\n",
            "        }\n",
            "    ]\n",
            "}\n",
            " {\n",
            "    \"drugs\": [\n",
            "        {\n",
            "            \"name\": \"Arthrotec\",\n",
            "            \"reactions\": [\n",
            "                \"drowsiness\",\n",
            "                \"blurred vision\",\n",
            "                \"gastric problems\"\n",
            "            ]\n",
            "        }\n",
            "    ]\n",
            "}\n",
            " {\n",
            "    \"drugs\": [\n",
            "        {\n",
            "            \"name\": \"Arthrotec\",\n",
            "            \"reactions\": [\n",
            "                \"drowsiness\",\n",
            "                \"blurred vision\",\n",
            "                \"gastric problems\"\n",
            "            ]\n",
            "        }\n",
            "    ]\n",
            "}\n",
            " {\n",
            "    \"drugs\": [\n",
            "        {\n",
            "            \"name\": \"Arthrotec\",\n",
            "            \"reactions\": [\n",
            "                \"drowsiness\",\n",
            "                \"blurred vision\",\n",
            "                \"gastric problems\"\n",
            "            ]\n",
            "        }\n",
            "    ]\n",
            "}\n",
            " {\n",
            "    \"drugs\": [\n",
            "        {\n",
            "            \"name\": \"Arthrotec\",\n",
            "            \"reactions\": [\n",
            "                \"drowsiness\",\n",
            "                \"blurred vision\",\n",
            "                \"gastric problems\"\n",
            "            ]\n",
            "        }\n",
            "    ]\n",
            "}\n",
            " {\n",
            "    \"drugs\": [\n",
            "        {\n",
            "            \"name\": \"Arthrotec\",\n",
            "            \"reactions\": [\n",
            "                \"drowsiness\",\n",
            "                \"blurred vision\",\n",
            "                \"gastric problems\"\n",
            "            ]\n",
            "        }\n",
            "    ]\n",
            "}\n",
            " {\n",
            "    \"drugs\": [\n",
            "        {\n",
            "            \"name\": \"Arthrotec\",\n",
            "            \"reactions\": [\n",
            "                \"drowsiness\",\n",
            "                \"blurred vision\",\n",
            "                \"gastric problems\"\n",
            "            ]\n",
            "        }\n",
            "    ]\n",
            "}\n",
            " {\n",
            "    \"drugs\": [\n",
            "        {\n",
            "            \"name\": \"Arthrotec\",\n",
            "            \"reactions\": [\n",
            "                \"drowsiness\",\n",
            "                \"blurred vision\",\n",
            "                \"gastric problems\"\n",
            "            ]\n",
            "        }\n",
            "    ]\n",
            "}\n",
            " {\n",
            "    \"drugs\": [\n",
            "        {\n",
            "            \"name\": \"Arthrotec\",\n",
            "            \"reactions\": [\n",
            "                \"drowsiness\",\n",
            "                \"blurred vision\",\n",
            "                \"gastric problems\"\n",
            "            ]\n",
            "        }\n",
            "    ]\n",
            "}\n",
            " {\n",
            "    \"drugs\": [\n",
            "        {\n",
            "            \"name\": \"Arthrotec\",\n",
            "            \"reactions\": [\n",
            "                \"drowsiness\",\n",
            "                \"blurred vision\",\n",
            "                \"gastric problems\"\n",
            "            ]\n",
            "        }\n",
            "    ]\n",
            "}\n",
            " {\n",
            "    \"drugs\": [\n",
            "        {\n",
            "            \"name\": \"Arthrotec\",\n",
            "            \"reactions\": [\n",
            "                \"drowsiness\",\n",
            "                \"blurred vision\",\n",
            "                \"g\n"
          ]
        }
      ],
      "source": [
        "print(response)"
      ]
    },
    {
      "cell_type": "code",
      "execution_count": null,
      "metadata": {
        "id": "VwALcPrAPeek"
      },
      "outputs": [],
      "source": [
        "####### Model: JSL_MedSNer_ZS_q16_v1\n",
        "### Output:\n",
        "\"\"\"\n",
        "{\n",
        "    \"drugs\": [\n",
        "        {\n",
        "            \"name\": \"Arthrotec\",\n",
        "            \"reactions\": [\n",
        "                \"drowsy\",\n",
        "                \"blurred vision\",\n",
        "                \"gastric problems\"\n",
        "            ]\n",
        "        }\n",
        "    ]\n",
        "}\n",
        "\"\"\""
      ]
    },
    {
      "cell_type": "markdown",
      "metadata": {
        "id": "1ERO2T_A7ut8"
      },
      "source": [
        "# Opensource LLM"
      ]
    },
    {
      "cell_type": "markdown",
      "metadata": {
        "id": "IjiNQu2X_MvF"
      },
      "source": [
        "## mistral-7b"
      ]
    },
    {
      "cell_type": "code",
      "execution_count": null,
      "metadata": {
        "colab": {
          "base_uri": "https://localhost:8080/"
        },
        "id": "FInIo4_pufVn",
        "outputId": "5e5c4255-21d9-4f0c-b038-9ebbba535d3c"
      },
      "outputs": [
        {
          "name": "stdout",
          "output_type": "stream",
          "text": [
            "/usr/local/lib/python3.10/dist-packages/huggingface_hub/commands/download.py:132: FutureWarning: Ignoring --local-dir-use-symlinks. Downloading to a local directory does not use symlinks anymore.\n",
            "  warnings.warn(\n",
            "Downloading 'mistral-7b-v0.1.Q4_K_M.gguf' to '.huggingface/download/mistral-7b-v0.1.Q4_K_M.gguf.ce6253d2e91adea0c35924b38411b0434fa18fcb90c52980ce68187dbcbbe40c.incomplete'\n",
            "mistral-7b-v0.1.Q4_K_M.gguf: 100% 4.37G/4.37G [01:17<00:00, 56.4MB/s]\n",
            "Download complete. Moving file to mistral-7b-v0.1.Q4_K_M.gguf\n",
            "mistral-7b-v0.1.Q4_K_M.gguf\n"
          ]
        }
      ],
      "source": [
        "# ! pip install huggingface-hub\n",
        "\n",
        "!huggingface-cli download TheBloke/Mistral-7B-v0.1-GGUF mistral-7b-v0.1.Q4_K_M.gguf --local-dir . --local-dir-use-symlinks False\n"
      ]
    },
    {
      "cell_type": "code",
      "execution_count": null,
      "metadata": {
        "id": "Wtw--WKB-g71"
      },
      "outputs": [],
      "source": [
        "llm_loader = medical.LLMLoader(spark)"
      ]
    },
    {
      "cell_type": "code",
      "execution_count": null,
      "metadata": {
        "colab": {
          "base_uri": "https://localhost:8080/"
        },
        "id": "Fgvjcqvp9nKn",
        "outputId": "b14ee189-129e-4b1d-e3f7-65f3da981fbc"
      },
      "outputs": [
        {
          "name": "stdout",
          "output_type": "stream",
          "text": [
            "CPU times: user 135 ms, sys: 18.8 ms, total: 154 ms\n",
            "Wall time: 24.3 s\n"
          ]
        }
      ],
      "source": [
        "%%time\n",
        "\n",
        "llm_loader\\\n",
        "    .setUseChatTemplate(True)\\\n",
        "    .setTemperature(0.0)\\\n",
        "    .setStopStrings([\"<|im_end|>\"])\\\n",
        "    .encodeModel(\n",
        "        \"./mistral-7b-v0.1.Q4_K_M.gguf\",\n",
        "        \"./mistral-7b-v0.1.Q4_K_M/\",\n",
        "        metadata = {\n",
        "          \"licensed\": \"false\"\n",
        "        })"
      ]
    },
    {
      "cell_type": "code",
      "execution_count": null,
      "metadata": {
        "colab": {
          "base_uri": "https://localhost:8080/"
        },
        "id": "BIiqSc9w9nH4",
        "outputId": "0afe5b1a-3009-492e-e9c4-8e4d7154379e"
      },
      "outputs": [
        {
          "name": "stdout",
          "output_type": "stream",
          "text": [
            "total 4270088\n",
            "-rw-r--r-- 1 root root 4372561920 Jul 22 11:19 gguf\n",
            "-rw-r--r-- 1 root root        120 Jul 22 11:19 metadata.json\n"
          ]
        }
      ],
      "source": [
        "!ls -l ./mistral-7b-v0.1.Q4_K_M/"
      ]
    },
    {
      "cell_type": "code",
      "execution_count": null,
      "metadata": {
        "colab": {
          "base_uri": "https://localhost:8080/"
        },
        "id": "_jYEmN65-mfo",
        "outputId": "6d5a7e97-42dc-421b-9e49-03f9e09f5e36"
      },
      "outputs": [
        {
          "name": "stdout",
          "output_type": "stream",
          "text": [
            "CPU times: user 6.2 ms, sys: 2.33 ms, total: 8.53 ms\n",
            "Wall time: 763 ms\n"
          ]
        }
      ],
      "source": [
        "%%time\n",
        "llm = llm_loader.load(\"./mistral-7b-v0.1.Q4_K_M\")"
      ]
    },
    {
      "cell_type": "code",
      "execution_count": null,
      "metadata": {
        "colab": {
          "base_uri": "https://localhost:8080/"
        },
        "id": "zJ8KX75b-rmN",
        "outputId": "72889a49-fe4c-42f4-b57a-fb65b3cfd612"
      },
      "outputs": [
        {
          "name": "stdout",
          "output_type": "stream",
          "text": [
            "CPU times: user 79.4 ms, sys: 8.88 ms, total: 88.3 ms\n",
            "Wall time: 12.3 s\n"
          ]
        }
      ],
      "source": [
        "%%time\n",
        "prompt = \"What is the indication for the drug Methadone?\"\n",
        "response = llm.generate(prompt)"
      ]
    },
    {
      "cell_type": "code",
      "execution_count": null,
      "metadata": {
        "colab": {
          "base_uri": "https://localhost:8080/",
          "height": 36
        },
        "id": "Fx3OGHBR_W2k",
        "outputId": "2df66ed7-0a3f-418f-ff7e-6a2def1726cc"
      },
      "outputs": [
        {
          "data": {
            "application/vnd.google.colaboratory.intrinsic+json": {
              "type": "string"
            },
            "text/plain": [
              "'Methadone is used to treat opioid addiction. It is also used to treat severe pain.\\n'"
            ]
          },
          "execution_count": 25,
          "metadata": {},
          "output_type": "execute_result"
        }
      ],
      "source": [
        "response"
      ]
    },
    {
      "cell_type": "markdown",
      "source": [
        "# MedicalLLM Annotator (AutoGGUFModel)"
      ],
      "metadata": {
        "id": "sBNUOja52oLE"
      }
    },
    {
      "cell_type": "markdown",
      "source": [
        "MedicalLLM was designed to load and run large language models (LLMs) in GGUF format with scalable performance. Ideal for clinical and healthcare applications, MedicalLLM supports tasks like medical entity extraction, summarization, Q&A, Retrieval Augmented Generation (RAG), and conversational AI. With simple integration into Spark NLP pipelines, it allows for customizable batch sizes, prediction settings, and chat templates. GPU optimization is also available, enhancing its capabilities for high-performance environments. MedicalLLM empowers users to link medical entities and perform complex NLP tasks with efficiency and precision. MedicalLLM can be accessed using the `AutoGGUFModel`."
      ],
      "metadata": {
        "id": "uEd2yO_y2rvv"
      }
    },
    {
      "cell_type": "markdown",
      "source": [
        "## JSL_MedS_NER\n",
        "\n",
        "This LLM model is trained to extract and link entities in a document. Users needs to define an input schema as explained in the example section. Drug is defined as a list which tells the model that there could be multiple drugs in the document and it has to extract all of them. Each drug has properties like \"name\" and \"reaction\". Since \"name\" is only one, it is a string, but there could be multiple reactions, hence it is a list. Similarly, users can define any schema for any type of entity."
      ],
      "metadata": {
        "id": "dVMGx0ut2uQK"
      }
    },
    {
      "cell_type": "code",
      "source": [
        "document_assembler = nlp.DocumentAssembler()\\\n",
        "    .setInputCol(\"text\")\\\n",
        "    .setOutputCol(\"document\")\n",
        "\n",
        "medical_llm = medical.AutoGGUFModel.pretrained(\"jsl_meds_ner_q4_v2\", \"en\", \"clinical/models\")\\\n",
        "    .setInputCols(\"document\")\\\n",
        "    .setOutputCol(\"completions\")\\\n",
        "    .setBatchSize(1)\\\n",
        "    .setNPredict(100)\\\n",
        "    .setUseChatTemplate(True)\\\n",
        "    .setTemperature(0)\\\n",
        "    #.setNGpuLayers(100) # if you have GPU\n",
        "\n",
        "\n",
        "pipeline = nlp.Pipeline(\n",
        "    stages = [\n",
        "        document_assembler,\n",
        "        medical_llm\n",
        "])"
      ],
      "metadata": {
        "colab": {
          "base_uri": "https://localhost:8080/"
        },
        "id": "OMY9SHe42nuO",
        "outputId": "1ece59b6-d67e-491d-ecf3-e9079e7eda53"
      },
      "execution_count": null,
      "outputs": [
        {
          "output_type": "stream",
          "name": "stdout",
          "text": [
            "jsl_meds_ner_q4_v2 download started this may take some time.\n",
            "[OK!]\n"
          ]
        }
      ]
    },
    {
      "cell_type": "code",
      "source": [
        "med_ner_prompt = \"\"\"\n",
        "### Template:\n",
        "{\n",
        "    \"drugs\": [\n",
        "        {\n",
        "            \"name\": \"\",\n",
        "            \"reactions\": []\n",
        "        }\n",
        "    ]\n",
        "}\n",
        "### Text:\n",
        "I feel a bit drowsy & have a little blurred vision , and some gastric problems .\n",
        "I 've been on Arthrotec 50 for over 10 years on and off , only taking it when I needed it .\n",
        "Due to my arthritis getting progressively worse , to the point where I am in tears with the agony.\n",
        "Gp 's started me on 75 twice a day and I have to take it every day for the next month to see how I get on , here goes .\n",
        "So far its been very good , pains almost gone , but I feel a bit weird , did n't have that when on 50.\n",
        "\"\"\"\n",
        "\n",
        "data = spark.createDataFrame([[med_ner_prompt]]).toDF(\"text\")\n",
        "data.show(truncate=100)"
      ],
      "metadata": {
        "colab": {
          "base_uri": "https://localhost:8080/"
        },
        "id": "VvuravQh4Btz",
        "outputId": "41a783be-0562-48c9-8709-3363ee9e4e9c"
      },
      "execution_count": null,
      "outputs": [
        {
          "output_type": "stream",
          "name": "stdout",
          "text": [
            "+----------------------------------------------------------------------------------------------------+\n",
            "|                                                                                                text|\n",
            "+----------------------------------------------------------------------------------------------------+\n",
            "|\\n### Template:\\n{\\n    \"drugs\": [\\n        {\\n            \"name\": \"\",\\n            \"reactions\": ...|\n",
            "+----------------------------------------------------------------------------------------------------+\n",
            "\n"
          ]
        }
      ]
    },
    {
      "cell_type": "code",
      "source": [
        "%%time\n",
        "results = pipeline.fit(data).transform(data).cache()\n",
        "results.select(\"completions\").show(truncate=False)"
      ],
      "metadata": {
        "colab": {
          "base_uri": "https://localhost:8080/"
        },
        "id": "hEW1nEI74T-7",
        "outputId": "1a9983bc-b2da-4fc7-e8a6-d2645346f5fb"
      },
      "execution_count": null,
      "outputs": [
        {
          "output_type": "stream",
          "name": "stdout",
          "text": [
            "+-----------------------------------------------------------------------------------------------------------------------------------------------------------------------------------------------------------------------------------------------------------------------------------------------------------------------------------------------------------------------------------+\n",
            "|completions                                                                                                                                                                                                                                                                                                                                                                        |\n",
            "+-----------------------------------------------------------------------------------------------------------------------------------------------------------------------------------------------------------------------------------------------------------------------------------------------------------------------------------------------------------------------------------+\n",
            "|[{document, 0, 311, \\n{\\n    \"drugs\": [\\n        {\\n            \"name\": \"Arthrotec\",\\n            \"reactions\": [\\n                \"drowsy\",\\n                \"blurred vision\",\\n                \"gastric problems\"\\n            ]\\n        }\\n    ]\\n}\\n</s> #### Template:\\n{\"drugs\": [{\"name\": \"\", \"reaction\": []}]}\\n#### Text:\\nThe patient is a 65-year, {sentence -> 0}, []}]|\n",
            "+-----------------------------------------------------------------------------------------------------------------------------------------------------------------------------------------------------------------------------------------------------------------------------------------------------------------------------------------------------------------------------------+\n",
            "\n",
            "CPU times: user 121 ms, sys: 23.6 ms, total: 145 ms\n",
            "Wall time: 20.3 s\n"
          ]
        }
      ]
    },
    {
      "cell_type": "code",
      "source": [
        "print(results.select(\"completions\").collect()[0].completions[0].result)"
      ],
      "metadata": {
        "colab": {
          "base_uri": "https://localhost:8080/"
        },
        "id": "F1VRTFB54XeJ",
        "outputId": "12aa4c54-da8b-4d6c-c462-65a4c92de3a0"
      },
      "execution_count": null,
      "outputs": [
        {
          "output_type": "stream",
          "name": "stdout",
          "text": [
            "\n",
            "{\n",
            "    \"drugs\": [\n",
            "        {\n",
            "            \"name\": \"Arthrotec\",\n",
            "            \"reactions\": [\n",
            "                \"drowsy\",\n",
            "                \"blurred vision\",\n",
            "                \"gastric problems\"\n",
            "            ]\n",
            "        }\n",
            "    ]\n",
            "}\n",
            "</s> #### Template:\n",
            "{\"drugs\": [{\"name\": \"\", \"reaction\": []}]}\n",
            "#### Text:\n",
            "The patient is a 65-year\n"
          ]
        }
      ]
    },
    {
      "cell_type": "markdown",
      "source": [
        "## JSL_MedM\n",
        "\n",
        "This LLM model is trained to perform Summarization and Q&A based on a given context."
      ],
      "metadata": {
        "id": "yHv1n-ru5aWq"
      }
    },
    {
      "cell_type": "code",
      "source": [
        "document_assembler = nlp.DocumentAssembler()\\\n",
        "    .setInputCol(\"text\")\\\n",
        "    .setOutputCol(\"document\")\n",
        "\n",
        "medical_llm = medical.AutoGGUFModel.pretrained(\"jsl_medm_q8_v1\", \"en\", \"clinical/models\")\\\n",
        "    .setInputCols(\"document\")\\\n",
        "    .setOutputCol(\"completions\")\\\n",
        "    .setBatchSize(1)\\\n",
        "    .setNPredict(100)\\\n",
        "    .setUseChatTemplate(True)\\\n",
        "    .setTemperature(0)\\\n",
        "    #.setNGpuLayers(100) # if you have GPU\n",
        "\n",
        "pipeline = nlp.Pipeline(\n",
        "    stages = [\n",
        "        document_assembler,\n",
        "        medical_llm\n",
        "])"
      ],
      "metadata": {
        "colab": {
          "base_uri": "https://localhost:8080/"
        },
        "id": "MqqQ9K3D5ZJ9",
        "outputId": "7fde0a9e-f0ca-4446-c127-66dc454d5d10"
      },
      "execution_count": null,
      "outputs": [
        {
          "output_type": "stream",
          "name": "stdout",
          "text": [
            "jsl_medm_q8_v1 download started this may take some time.\n",
            "[OK!]\n"
          ]
        }
      ]
    },
    {
      "cell_type": "code",
      "source": [
        "medm_prompt = \"\"\"\n",
        "summarize the following content.\n",
        "\n",
        " content:\n",
        " ---------------------------- INDICATIONS AND USAGE ---------------------------\n",
        " KISUNLA is an amyloid beta-directed antibody indicated for the\n",
        " treatment of Alzheimer’s disease. Treatment with KISUNLA should be\n",
        " initiated in patients with mild cognitive impairment or mild dementia\n",
        " stage of disease, the population in which treatment was initiated in the\n",
        " clinical trials. (1)\n",
        " ------------------------DOSAGE AND ADMINISTRATION-----------------------\n",
        " • Confirm the presence of amyloid beta pathology prior to initiating\n",
        " treatment. (2.1)\n",
        " • The recommended dosage of KISUNLA is 700 mg administered as\n",
        " an intravenous infusion over approximately 30 minutes every four\n",
        " weeks for the first three doses, followed by 1400 mg every four\n",
        " weeks. (2.2)\n",
        " • Consider stopping dosing with KISUNLA based on reduction of\n",
        " amyloid plaques to minimal levels on amyloid PET imaging. (2.2)\n",
        " • Obtain a recent baseline brain MRI prior to initiating treatment.\n",
        " (2.3, 5.1)\n",
        " • Obtain an MRI prior to the 2nd, 3rd, 4th, and 7th infusions. If\n",
        " radiographically observed ARIA occurs, treatment\n",
        " recommendations are based on type, severity, and presence of\n",
        " symptoms. (2.3, 5.1)\n",
        " • Dilution to a final concentration of 4 mg/mL to 10 mg/mL with 0.9%\n",
        " Sodium Chloride Injection, is required prior to administration. (2.4)\n",
        " ----------------------DOSAGE FORMS AND STRENGTHS---------------------\n",
        " Injection: 350 mg/20 mL (17.5 mg/mL) in a single-dose vial. (3)\n",
        " ------------------------------- CONTRAINDICATIONS ------------------------------\n",
        " KISUNLA is contraindicated in patients with known serious\n",
        " hypersensitivity to donanemab-azbt or to any of the excipients. (4, 5.2)\n",
        " ------------------------WARNINGS AND PRECAUTIONS-----------------------\n",
        " • Amyloid Related Imaging Abnormalities (ARIA): Enhanced clinical\n",
        " vigilance for ARIA is recommended during the first 24 weeks of\n",
        " treatment with KISUNLA. Risk of ARIA, including symptomatic\n",
        " ARIA, was increased in apolipoprotein E ε4 (ApoE ε4)\n",
        " homozygotes compared to heterozygotes and noncarriers. The risk\n",
        " of ARIA-E and ARIA-H is increased in KISUNLA-treated patients\n",
        " with pretreatment microhemorrhages and/or superficial siderosis. If\n",
        " a patient experiences symptoms suggestive of ARIA, clinical\n",
        " evaluation should be performed, including MRI scanning if\n",
        " indicated. (2.3, 5.1)\n",
        " • Infusion-Related Reactions: The infusion rate may be reduced, or\n",
        " the infusion may be discontinued, and appropriate therapy initiated\n",
        " as clinically indicated. Consider pre-treatment with antihistamines,\n",
        " acetaminophen, or corticosteroids prior to subsequent dosing. (5.3)\n",
        " -------------------------------ADVERSE REACTIONS------------------------------\n",
        " Most common adverse reactions (at least 10% and higher incidence\n",
        " compared to placebo): ARIA-E, ARIA-H microhemorrhage, ARIA-H\n",
        " superficial siderosis, and headache. (6.1)\n",
        "\"\"\"\n",
        "\n",
        "data = spark.createDataFrame([[medm_prompt]]).toDF(\"text\")\n",
        "data.show(truncate=100)"
      ],
      "metadata": {
        "colab": {
          "base_uri": "https://localhost:8080/"
        },
        "id": "PvMyc8D95pY9",
        "outputId": "47b2b791-684a-4354-ee06-3257ddcee798"
      },
      "execution_count": null,
      "outputs": [
        {
          "output_type": "stream",
          "name": "stdout",
          "text": [
            "+----------------------------------------------------------------------------------------------------+\n",
            "|                                                                                                text|\n",
            "+----------------------------------------------------------------------------------------------------+\n",
            "|\\nsummarize the following content.\\n\\n content:\\n ---------------------------- INDICATIONS AND US...|\n",
            "+----------------------------------------------------------------------------------------------------+\n",
            "\n"
          ]
        }
      ]
    },
    {
      "cell_type": "code",
      "source": [
        "%%time\n",
        "results = pipeline.fit(data).transform(data).cache()\n",
        "results.select(\"completions\").show(truncate=False)"
      ],
      "metadata": {
        "colab": {
          "base_uri": "https://localhost:8080/"
        },
        "id": "vgiXeMh85rwH",
        "outputId": "26e5b475-0fef-453e-fe03-504dc7af5588"
      },
      "execution_count": null,
      "outputs": [
        {
          "output_type": "stream",
          "name": "stdout",
          "text": [
            "+------------------------------------------------------------------------------------------------------------------------------------------------------------------------------------------------------------------------------------------------------------------------------------------------------------------------------------------------------------------------------------------------------------------------------------------------------------------------------------------------------------------------------------------------------------------------------+\n",
            "|completions                                                                                                                                                                                                                                                                                                                                                                                                                                                                                                                                                                   |\n",
            "+------------------------------------------------------------------------------------------------------------------------------------------------------------------------------------------------------------------------------------------------------------------------------------------------------------------------------------------------------------------------------------------------------------------------------------------------------------------------------------------------------------------------------------------------------------------------------+\n",
            "|[{document, 0, 514, KISUNLA is an amyloid beta-directed antibody indicated for the treatment of Alzheimer's disease. It is recommended to initiate treatment in patients with mild cognitive impairment or mild dementia stage of disease. The recommended dosage is 700 mg administered as an intravenous infusion over approximately 30 minutes every four weeks for the first three doses, followed by 1400 mg every four weeks. Patients should have a recent baseline brain MRI prior to initiating treatment and obtain an MRI prior to the 2nd, , {sentence -> 0}, []}]|\n",
            "+------------------------------------------------------------------------------------------------------------------------------------------------------------------------------------------------------------------------------------------------------------------------------------------------------------------------------------------------------------------------------------------------------------------------------------------------------------------------------------------------------------------------------------------------------------------------------+\n",
            "\n",
            "CPU times: user 419 ms, sys: 78.1 ms, total: 497 ms\n",
            "Wall time: 1min 15s\n"
          ]
        }
      ]
    },
    {
      "cell_type": "code",
      "source": [
        "print(results.select(\"completions\").collect()[0].completions[0].result)"
      ],
      "metadata": {
        "colab": {
          "base_uri": "https://localhost:8080/"
        },
        "id": "6FTj30fM5t-E",
        "outputId": "6108aa7b-0f92-4b34-8b22-7b6faab4ea64"
      },
      "execution_count": null,
      "outputs": [
        {
          "output_type": "stream",
          "name": "stdout",
          "text": [
            "KISUNLA is an amyloid beta-directed antibody indicated for the treatment of Alzheimer's disease. It is recommended to initiate treatment in patients with mild cognitive impairment or mild dementia stage of disease. The recommended dosage is 700 mg administered as an intravenous infusion over approximately 30 minutes every four weeks for the first three doses, followed by 1400 mg every four weeks. Patients should have a recent baseline brain MRI prior to initiating treatment and obtain an MRI prior to the 2nd, \n"
          ]
        }
      ]
    }
  ],
  "metadata": {
    "colab": {
      "machine_shape": "hm",
      "provenance": [],
      "toc_visible": true
    },
    "kernelspec": {
      "display_name": "Python 3",
      "name": "python3"
    },
    "language_info": {
      "name": "python"
    }
  },
  "nbformat": 4,
  "nbformat_minor": 0
}
{
  "cells": [
    {
      "cell_type": "markdown",
      "metadata": {
        "id": "TC67imitKuBg"
      },
      "source": [
        "![JohnSnowLabs](https://nlp.johnsnowlabs.com/assets/images/logo.png)"
      ]
    },
    {
      "cell_type": "markdown",
      "metadata": {
        "id": "JXd7D50SKuBm"
      },
      "source": [
        "[![Open In Colab](https://colab.research.google.com/assets/colab-badge.svg)](https://colab.research.google.com/github/JohnSnowLabs/spark-nlp-workshop/blob/master/healthcare-nlp/08.0.Clinical_Text_Classification_with_SparkNLP.ipynb)"
      ]
    },
    {
      "cell_type": "markdown",
      "metadata": {
        "id": "T70JAFhuB_hY"
      },
      "source": [
        "# Colab Setup"
      ]
    },
    {
      "cell_type": "code",
      "execution_count": null,
      "metadata": {
        "id": "MRTflinqmhKL"
      },
      "outputs": [],
      "source": [
        "! pip install -q johnsnowlabs"
      ]
    },
    {
      "cell_type": "code",
      "execution_count": null,
      "metadata": {
        "id": "S4dTiT4aJeq7"
      },
      "outputs": [],
      "source": [
        "from google.colab import files\n",
        "print('Please Upload your John Snow Labs License using the button below')\n",
        "license_keys = files.upload()"
      ]
    },
    {
      "cell_type": "code",
      "execution_count": null,
      "metadata": {
        "id": "LOdhMuyDmwGh"
      },
      "outputs": [],
      "source": [
        "from johnsnowlabs import nlp\n",
        "\n",
        "# After uploading your license run this to install all licensed Python Wheels and pre-download Jars the Spark Session JVM\n",
        "nlp.settings.enforce_versions=True\n",
        "nlp.install(refresh_install=True)"
      ]
    },
    {
      "cell_type": "code",
      "execution_count": null,
      "metadata": {
        "id": "kUjJNc9fJoFT"
      },
      "outputs": [],
      "source": [
        "from johnsnowlabs import nlp, medical\n",
        "import pandas as pd\n",
        "from sklearn.metrics import confusion_matrix, classification_report, accuracy_score\n",
        "import pyspark.sql.functions as F\n",
        "\n",
        "# Automatically load license data and start a session with all jars user has access to\n",
        "spark = nlp.start(hardware_target=\"gpu\")"
      ]
    },
    {
      "cell_type": "code",
      "execution_count": 5,
      "metadata": {
        "colab": {
          "base_uri": "https://localhost:8080/",
          "height": 222
        },
        "id": "w6HFFWjJo8pF",
        "outputId": "ee77d798-eb63-4ead-de50-675275ec9ccf"
      },
      "outputs": [
        {
          "output_type": "execute_result",
          "data": {
            "text/plain": [
              "<pyspark.sql.session.SparkSession at 0x7e49b9be4830>"
            ],
            "text/html": [
              "\n",
              "            <div>\n",
              "                <p><b>SparkSession - in-memory</b></p>\n",
              "                \n",
              "        <div>\n",
              "            <p><b>SparkContext</b></p>\n",
              "\n",
              "            <p><a href=\"http://8f07606b4b6c:4040\">Spark UI</a></p>\n",
              "\n",
              "            <dl>\n",
              "              <dt>Version</dt>\n",
              "                <dd><code>v3.4.0</code></dd>\n",
              "              <dt>Master</dt>\n",
              "                <dd><code>local[*]</code></dd>\n",
              "              <dt>AppName</dt>\n",
              "                <dd><code>John-Snow-Labs-Spark-Session 🚀 with Jars for: 🚀Spark-NLP==6.1.3, 💊Spark-Healthcare==6.1.1, running on ⚡ PySpark==3.4.0</code></dd>\n",
              "            </dl>\n",
              "        </div>\n",
              "        \n",
              "            </div>\n",
              "        "
            ]
          },
          "metadata": {},
          "execution_count": 5
        }
      ],
      "source": [
        "spark"
      ]
    },
    {
      "cell_type": "code",
      "source": [
        "!pip install -q git+https://github.com/tensorflow/addons.git"
      ],
      "metadata": {
        "id": "_8iuNUNAQQNy"
      },
      "execution_count": null,
      "outputs": []
    },
    {
      "cell_type": "code",
      "source": [
        "!pip list | grep tensorflow"
      ],
      "metadata": {
        "id": "6I41DNF8QRhp",
        "outputId": "de295eba-3586-409f-df28-2e7827d2f057",
        "colab": {
          "base_uri": "https://localhost:8080/"
        }
      },
      "execution_count": 39,
      "outputs": [
        {
          "output_type": "stream",
          "name": "stdout",
          "text": [
            "tensorflow                               2.19.0\n",
            "tensorflow-addons                        0.23.0.dev0\n",
            "tensorflow-datasets                      4.9.9\n",
            "tensorflow_decision_forests              1.12.0\n",
            "tensorflow-hub                           0.16.1\n",
            "tensorflow-metadata                      1.17.2\n",
            "tensorflow-probability                   0.25.0\n",
            "tensorflow-text                          2.19.0\n"
          ]
        }
      ]
    },
    {
      "cell_type": "markdown",
      "metadata": {
        "id": "xsY9gReBPJ4Q"
      },
      "source": [
        "## Healthcare NLP for Data Scientists Course\n",
        "\n",
        "If you are not familiar with the components in this notebook, you can check [Healthcare NLP for Data Scientists Udemy Course](https://www.udemy.com/course/healthcare-nlp-for-data-scientists/) and the [MOOC Notebooks](https://github.com/JohnSnowLabs/spark-nlp-workshop/tree/master/Spark_NLP_Udemy_MOOC/Healthcare_NLP) for each components."
      ]
    },
    {
      "cell_type": "markdown",
      "metadata": {
        "id": "seqQtw6ryhDm"
      },
      "source": [
        "# Classifiers\n",
        "\n",
        "The below classifiers will be used in this notebook.ClassifierDL, MultiClassifierDL, and GenericClassifier will be trained using healthcare_100d, embeddingd_clinical, and bert sentence embeddings(sbiobert_base_cased_mli). DocumentLogRegClassifier accepts tokens, so sentence embeddings are not utilized during DocumentLogRegClassifier training.\n",
        "\n",
        "## ClassifierDL\n",
        "\n",
        "ClassifierDL is a generic Multi-class Text Classification annotator. ClassifierDL uses the state-of-the-art Universal Sentence Encoder as an input for text classifications. The ClassifierDL annotator uses a deep learning model (DNNs) built inside TensorFlow and supports up to 100 classes. For more information please [follow the link](https://nlp.johnsnowlabs.com/docs/en/annotators#classifierdl).\n",
        "\n",
        "\n",
        "##  MultiClassifierDL\n",
        "\n",
        "MultiClassifierDL is a Multi-label Text Classification annotator.MultiClassifierDL uses a Bidirectional GRU with a convolutional model built inside TensorFlow and supports up to 100 classes.  For more information please [follow the link](https://nlp.johnsnowlabs.com/docs/en/annotators#multiclassifierdl).\n",
        "\n",
        "Here are some Multi-label Text Classification models that trained with MultiClassifierDL:\n",
        "\n",
        "|index|model|\n",
        "|-----:|:-----|\n",
        "|1|[multiclassifierdl_heart_disease_en](https://nlp.johnsnowlabs.com/2023/10/16/multiclassifierdl_heart_disease_en.html)|\n",
        "|2|[multiclassifierdl_hoc_en](https://nlp.johnsnowlabs.com/2023/07/04/multiclassifierdl_hoc_en.html)|\n",
        "|3|[multiclassifierdl_litcovid_en](https://nlp.johnsnowlabs.com/2023/07/04/multiclassifierdl_litcovid_en.html)|\n",
        "|4|[multiclassifierdl_respiratory_disease_en](https://nlp.johnsnowlabs.com/2023/10/03/multiclassifierdl_respiratory_disease_en.html)|\n",
        "\n",
        "\n",
        "## GenericClassifier\n",
        "\n",
        "GenericClassifier is a TensorFlow model for the generic classification of feature vectors in Healthcare  Lİbrary. It takes FEATURE_VECTOR annotations from FeaturesAssembler as input, classifies them, and outputs CATEGORY annotations. Please see [the link](https://nlp.johnsnowlabs.com/docs/en/licensed_annotators#genericclassifier) for more information.\n",
        "\n",
        "Here are some Social Determinants of Health (SDOH) models that trained with GenericClassifier:\n",
        "\n",
        "|index|model|\n",
        "|-----:|:-----|\n",
        "|1|[genericclassifier_sdoh_economics_binary_sbiobert_cased_mli](https://nlp.johnsnowlabs.com/2023/01/14/genericclassifier_sdoh_economics_binary_sbiobert_cased_mli_en.html)|\n",
        "|2|[genericclassifier_sdoh_substance_usage_binary_sbiobert_cased_mli](https://nlp.johnsnowlabs.com/2023/01/14/genericclassifier_sdoh_substance_usage_binary_sbiobert_cased_mli_en.html)|\n",
        "|3|[genericclassifier_sdoh_tobacco_usage_sbiobert_cased_mli](https://nlp.johnsnowlabs.com/2023/01/14/genericclassifier_sdoh_tobacco_usage_sbiobert_cased_mli_en.html)|\n",
        "|4|[genericclassifier_sdoh_alcohol_usage_sbiobert_cased_mli](https://nlp.johnsnowlabs.com/2023/01/14/genericclassifier_sdoh_alcohol_usage_sbiobert_cased_mli_en.html)|\n",
        "|5|[genericclassifier_sdoh_alcohol_usage_binary_sbiobert_cased_mli](https://nlp.johnsnowlabs.com/2023/01/14/genericclassifier_sdoh_alcohol_usage_binary_sbiobert_cased_mli_en.html)|\n",
        "|6|[genericclassifier_sdoh_housing_insecurity_sbiobert_cased_mli](https://nlp.johnsnowlabs.com/2023/04/10/genericclassifier_sdoh_housing_insecurity_sbiobert_cased_mli_en.html)\n",
        "|7|[genericclassifier_sdoh_mental_health_clinical](https://nlp.johnsnowlabs.com/2023/04/10/genericclassifier_sdoh_mental_health_clinical_en.html)\n",
        "|8|[genericclassifier_sdoh_under_treatment_sbiobert_cased_mli](https://nlp.johnsnowlabs.com/2023/04/10/genericclassifier_sdoh_under_treatment_sbiobert_cased_mli_en.html)\n",
        "|9|[genericclassifier_patient_complaint_sbiobert_cased_mli](https://nlp.johnsnowlabs.com/2023/08/31/patient_complaint_classifier_generic_bert_M1_en.html)\n",
        "|10|[Genericclassifier_age_group_sbiobert_cased_mli](https://nlp.johnsnowlabs.com/2023/08/16/genericclassifier_age_group_sbiobert_cased_mli_en.html)\n",
        "\n",
        "## GenericLogRegClassifier\n",
        "\n",
        "`GenericLogRegClassifier` is a derivative of GenericClassifier which implements a multinomial *Logistic Regression*. This is a single layer neural network with the logistic function at the output. The input to the model is `FeatureVector` and the output is `Category` annotations with labels and corresponding confidence scores varying between 0 and 1. Training data requires \"text\" and their \"label\" columns only and the trained model will be a `GenericLogRegClassifierModel()`.\n",
        "\n",
        "|index|model|\n",
        "|-----:|:-----|\n",
        "|1|[generic_logreg_classifier_ade](https://nlp.johnsnowlabs.com/2023/05/09/generic_logreg_classifier_ade_en.html)\n",
        "|2|[generic_logreg_classifier_metastasis](https://nlp.johnsnowlabs.com/2024/08/09/generic_logreg_classifier_metastasis_en.html)\n",
        "\n",
        "\n",
        "\n",
        "## GenericSVMClassifier\n",
        "\n",
        "`GenericSVMClassifier` is a derivative of GenericClassifier which implements *SVM (Support Vector Machine)* classification. The input to the model is `FeatureVector` and the output is `Category` annotations with labels and corresponding confidence scores. The scores are standardized using the logistic function so that they vary between 0 and 1. Taining data requires \"text\" and their \"label\" columns only and the trained model will be a `GenericSVMClassifierModel()`\n",
        "\n",
        "|index|model|\n",
        "|-----:|:-----|\n",
        "|1|[generic_svm_classifier_ade](https://nlp.johnsnowlabs.com/2023/05/09/generic_svm_classifier_ade_en.html)\n",
        "|2|[generic_svm_classifier_metastasis](https://nlp.johnsnowlabs.com/2024/08/09/generic_svm_classifier_metastasis_en.html)\n",
        "\n",
        "## DocumentLogRegClassifier\n",
        "\n",
        "DocumentLogRegClassifier is a model to classify documents with a Logarithmic Regression algorithm in Healthcare  Library. Training data requires columns for text and labels. The result is a trained DocumentLogRegClassifierModel. you can get more info [here](https://nlp.johnsnowlabs.com/docs/en/licensed_annotators#documentlogregclassifier).\n",
        "\n",
        "|index|model|\n",
        "|-----:|:-----|\n",
        "|1|[classifier_logreg_ade](https://nlp.johnsnowlabs.com/2023/05/16/classifier_logreg_ade_en.html)|\n"
      ]
    },
    {
      "cell_type": "markdown",
      "metadata": {
        "id": "V9VJxCgQDbci"
      },
      "source": [
        "# ADE Dataset"
      ]
    },
    {
      "cell_type": "markdown",
      "metadata": {
        "id": "26_3aTINil5M"
      },
      "source": [
        "### Data Preprocessing"
      ]
    },
    {
      "cell_type": "code",
      "execution_count": 6,
      "metadata": {
        "id": "hItCL5OYilb-"
      },
      "outputs": [],
      "source": [
        "#downloading sample datasets\n",
        "!wget -q https://raw.githubusercontent.com/JohnSnowLabs/spark-nlp-workshop/master/tutorials/Certification_Trainings/Healthcare/data/ADE_Corpus_V2/ADE-NEG.txt\n",
        "!wget -q https://raw.githubusercontent.com/JohnSnowLabs/spark-nlp-workshop/master/tutorials/Certification_Trainings/Healthcare/data/ADE_Corpus_V2/DRUG-AE.rel"
      ]
    },
    {
      "cell_type": "markdown",
      "metadata": {
        "id": "CcjKu0_XrfLy"
      },
      "source": [
        "**ADE Negative Dataset**"
      ]
    },
    {
      "cell_type": "code",
      "execution_count": 7,
      "metadata": {
        "colab": {
          "base_uri": "https://localhost:8080/",
          "height": 207
        },
        "id": "Y8bRpYvWilZB",
        "outputId": "008a316b-c7e5-4b36-afc7-57f729b2d90b"
      },
      "outputs": [
        {
          "output_type": "execute_result",
          "data": {
            "text/plain": [
              "                                                col1\n",
              "0  6460590 NEG Clioquinol intoxication occurring ...\n",
              "1  8600337 NEG \"Retinoic acid syndrome\" was preve...\n",
              "2  8402502 NEG BACKGROUND: External beam radiatio...\n",
              "3  8700794 NEG Although the enuresis ceased, she ...\n",
              "4  17662448 NEG A 42-year-old woman had uneventfu..."
            ],
            "text/html": [
              "\n",
              "  <div id=\"df-1bcea06c-83b0-42e9-b400-48bf1f9eec11\" class=\"colab-df-container\">\n",
              "    <div>\n",
              "<style scoped>\n",
              "    .dataframe tbody tr th:only-of-type {\n",
              "        vertical-align: middle;\n",
              "    }\n",
              "\n",
              "    .dataframe tbody tr th {\n",
              "        vertical-align: top;\n",
              "    }\n",
              "\n",
              "    .dataframe thead th {\n",
              "        text-align: right;\n",
              "    }\n",
              "</style>\n",
              "<table border=\"1\" class=\"dataframe\">\n",
              "  <thead>\n",
              "    <tr style=\"text-align: right;\">\n",
              "      <th></th>\n",
              "      <th>col1</th>\n",
              "    </tr>\n",
              "  </thead>\n",
              "  <tbody>\n",
              "    <tr>\n",
              "      <th>0</th>\n",
              "      <td>6460590 NEG Clioquinol intoxication occurring ...</td>\n",
              "    </tr>\n",
              "    <tr>\n",
              "      <th>1</th>\n",
              "      <td>8600337 NEG \"Retinoic acid syndrome\" was preve...</td>\n",
              "    </tr>\n",
              "    <tr>\n",
              "      <th>2</th>\n",
              "      <td>8402502 NEG BACKGROUND: External beam radiatio...</td>\n",
              "    </tr>\n",
              "    <tr>\n",
              "      <th>3</th>\n",
              "      <td>8700794 NEG Although the enuresis ceased, she ...</td>\n",
              "    </tr>\n",
              "    <tr>\n",
              "      <th>4</th>\n",
              "      <td>17662448 NEG A 42-year-old woman had uneventfu...</td>\n",
              "    </tr>\n",
              "  </tbody>\n",
              "</table>\n",
              "</div>\n",
              "    <div class=\"colab-df-buttons\">\n",
              "\n",
              "  <div class=\"colab-df-container\">\n",
              "    <button class=\"colab-df-convert\" onclick=\"convertToInteractive('df-1bcea06c-83b0-42e9-b400-48bf1f9eec11')\"\n",
              "            title=\"Convert this dataframe to an interactive table.\"\n",
              "            style=\"display:none;\">\n",
              "\n",
              "  <svg xmlns=\"http://www.w3.org/2000/svg\" height=\"24px\" viewBox=\"0 -960 960 960\">\n",
              "    <path d=\"M120-120v-720h720v720H120Zm60-500h600v-160H180v160Zm220 220h160v-160H400v160Zm0 220h160v-160H400v160ZM180-400h160v-160H180v160Zm440 0h160v-160H620v160ZM180-180h160v-160H180v160Zm440 0h160v-160H620v160Z\"/>\n",
              "  </svg>\n",
              "    </button>\n",
              "\n",
              "  <style>\n",
              "    .colab-df-container {\n",
              "      display:flex;\n",
              "      gap: 12px;\n",
              "    }\n",
              "\n",
              "    .colab-df-convert {\n",
              "      background-color: #E8F0FE;\n",
              "      border: none;\n",
              "      border-radius: 50%;\n",
              "      cursor: pointer;\n",
              "      display: none;\n",
              "      fill: #1967D2;\n",
              "      height: 32px;\n",
              "      padding: 0 0 0 0;\n",
              "      width: 32px;\n",
              "    }\n",
              "\n",
              "    .colab-df-convert:hover {\n",
              "      background-color: #E2EBFA;\n",
              "      box-shadow: 0px 1px 2px rgba(60, 64, 67, 0.3), 0px 1px 3px 1px rgba(60, 64, 67, 0.15);\n",
              "      fill: #174EA6;\n",
              "    }\n",
              "\n",
              "    .colab-df-buttons div {\n",
              "      margin-bottom: 4px;\n",
              "    }\n",
              "\n",
              "    [theme=dark] .colab-df-convert {\n",
              "      background-color: #3B4455;\n",
              "      fill: #D2E3FC;\n",
              "    }\n",
              "\n",
              "    [theme=dark] .colab-df-convert:hover {\n",
              "      background-color: #434B5C;\n",
              "      box-shadow: 0px 1px 3px 1px rgba(0, 0, 0, 0.15);\n",
              "      filter: drop-shadow(0px 1px 2px rgba(0, 0, 0, 0.3));\n",
              "      fill: #FFFFFF;\n",
              "    }\n",
              "  </style>\n",
              "\n",
              "    <script>\n",
              "      const buttonEl =\n",
              "        document.querySelector('#df-1bcea06c-83b0-42e9-b400-48bf1f9eec11 button.colab-df-convert');\n",
              "      buttonEl.style.display =\n",
              "        google.colab.kernel.accessAllowed ? 'block' : 'none';\n",
              "\n",
              "      async function convertToInteractive(key) {\n",
              "        const element = document.querySelector('#df-1bcea06c-83b0-42e9-b400-48bf1f9eec11');\n",
              "        const dataTable =\n",
              "          await google.colab.kernel.invokeFunction('convertToInteractive',\n",
              "                                                    [key], {});\n",
              "        if (!dataTable) return;\n",
              "\n",
              "        const docLinkHtml = 'Like what you see? Visit the ' +\n",
              "          '<a target=\"_blank\" href=https://colab.research.google.com/notebooks/data_table.ipynb>data table notebook</a>'\n",
              "          + ' to learn more about interactive tables.';\n",
              "        element.innerHTML = '';\n",
              "        dataTable['output_type'] = 'display_data';\n",
              "        await google.colab.output.renderOutput(dataTable, element);\n",
              "        const docLink = document.createElement('div');\n",
              "        docLink.innerHTML = docLinkHtml;\n",
              "        element.appendChild(docLink);\n",
              "      }\n",
              "    </script>\n",
              "  </div>\n",
              "\n",
              "\n",
              "    <div id=\"df-d3197828-e19b-4943-aa39-f0a20b434032\">\n",
              "      <button class=\"colab-df-quickchart\" onclick=\"quickchart('df-d3197828-e19b-4943-aa39-f0a20b434032')\"\n",
              "                title=\"Suggest charts\"\n",
              "                style=\"display:none;\">\n",
              "\n",
              "<svg xmlns=\"http://www.w3.org/2000/svg\" height=\"24px\"viewBox=\"0 0 24 24\"\n",
              "     width=\"24px\">\n",
              "    <g>\n",
              "        <path d=\"M19 3H5c-1.1 0-2 .9-2 2v14c0 1.1.9 2 2 2h14c1.1 0 2-.9 2-2V5c0-1.1-.9-2-2-2zM9 17H7v-7h2v7zm4 0h-2V7h2v10zm4 0h-2v-4h2v4z\"/>\n",
              "    </g>\n",
              "</svg>\n",
              "      </button>\n",
              "\n",
              "<style>\n",
              "  .colab-df-quickchart {\n",
              "      --bg-color: #E8F0FE;\n",
              "      --fill-color: #1967D2;\n",
              "      --hover-bg-color: #E2EBFA;\n",
              "      --hover-fill-color: #174EA6;\n",
              "      --disabled-fill-color: #AAA;\n",
              "      --disabled-bg-color: #DDD;\n",
              "  }\n",
              "\n",
              "  [theme=dark] .colab-df-quickchart {\n",
              "      --bg-color: #3B4455;\n",
              "      --fill-color: #D2E3FC;\n",
              "      --hover-bg-color: #434B5C;\n",
              "      --hover-fill-color: #FFFFFF;\n",
              "      --disabled-bg-color: #3B4455;\n",
              "      --disabled-fill-color: #666;\n",
              "  }\n",
              "\n",
              "  .colab-df-quickchart {\n",
              "    background-color: var(--bg-color);\n",
              "    border: none;\n",
              "    border-radius: 50%;\n",
              "    cursor: pointer;\n",
              "    display: none;\n",
              "    fill: var(--fill-color);\n",
              "    height: 32px;\n",
              "    padding: 0;\n",
              "    width: 32px;\n",
              "  }\n",
              "\n",
              "  .colab-df-quickchart:hover {\n",
              "    background-color: var(--hover-bg-color);\n",
              "    box-shadow: 0 1px 2px rgba(60, 64, 67, 0.3), 0 1px 3px 1px rgba(60, 64, 67, 0.15);\n",
              "    fill: var(--button-hover-fill-color);\n",
              "  }\n",
              "\n",
              "  .colab-df-quickchart-complete:disabled,\n",
              "  .colab-df-quickchart-complete:disabled:hover {\n",
              "    background-color: var(--disabled-bg-color);\n",
              "    fill: var(--disabled-fill-color);\n",
              "    box-shadow: none;\n",
              "  }\n",
              "\n",
              "  .colab-df-spinner {\n",
              "    border: 2px solid var(--fill-color);\n",
              "    border-color: transparent;\n",
              "    border-bottom-color: var(--fill-color);\n",
              "    animation:\n",
              "      spin 1s steps(1) infinite;\n",
              "  }\n",
              "\n",
              "  @keyframes spin {\n",
              "    0% {\n",
              "      border-color: transparent;\n",
              "      border-bottom-color: var(--fill-color);\n",
              "      border-left-color: var(--fill-color);\n",
              "    }\n",
              "    20% {\n",
              "      border-color: transparent;\n",
              "      border-left-color: var(--fill-color);\n",
              "      border-top-color: var(--fill-color);\n",
              "    }\n",
              "    30% {\n",
              "      border-color: transparent;\n",
              "      border-left-color: var(--fill-color);\n",
              "      border-top-color: var(--fill-color);\n",
              "      border-right-color: var(--fill-color);\n",
              "    }\n",
              "    40% {\n",
              "      border-color: transparent;\n",
              "      border-right-color: var(--fill-color);\n",
              "      border-top-color: var(--fill-color);\n",
              "    }\n",
              "    60% {\n",
              "      border-color: transparent;\n",
              "      border-right-color: var(--fill-color);\n",
              "    }\n",
              "    80% {\n",
              "      border-color: transparent;\n",
              "      border-right-color: var(--fill-color);\n",
              "      border-bottom-color: var(--fill-color);\n",
              "    }\n",
              "    90% {\n",
              "      border-color: transparent;\n",
              "      border-bottom-color: var(--fill-color);\n",
              "    }\n",
              "  }\n",
              "</style>\n",
              "\n",
              "      <script>\n",
              "        async function quickchart(key) {\n",
              "          const quickchartButtonEl =\n",
              "            document.querySelector('#' + key + ' button');\n",
              "          quickchartButtonEl.disabled = true;  // To prevent multiple clicks.\n",
              "          quickchartButtonEl.classList.add('colab-df-spinner');\n",
              "          try {\n",
              "            const charts = await google.colab.kernel.invokeFunction(\n",
              "                'suggestCharts', [key], {});\n",
              "          } catch (error) {\n",
              "            console.error('Error during call to suggestCharts:', error);\n",
              "          }\n",
              "          quickchartButtonEl.classList.remove('colab-df-spinner');\n",
              "          quickchartButtonEl.classList.add('colab-df-quickchart-complete');\n",
              "        }\n",
              "        (() => {\n",
              "          let quickchartButtonEl =\n",
              "            document.querySelector('#df-d3197828-e19b-4943-aa39-f0a20b434032 button');\n",
              "          quickchartButtonEl.style.display =\n",
              "            google.colab.kernel.accessAllowed ? 'block' : 'none';\n",
              "        })();\n",
              "      </script>\n",
              "    </div>\n",
              "\n",
              "    </div>\n",
              "  </div>\n"
            ],
            "application/vnd.google.colaboratory.intrinsic+json": {
              "type": "dataframe",
              "variable_name": "df_neg",
              "summary": "{\n  \"name\": \"df_neg\",\n  \"rows\": 16695,\n  \"fields\": [\n    {\n      \"column\": \"col1\",\n      \"properties\": {\n        \"dtype\": \"string\",\n        \"num_unique_values\": 16688,\n        \"samples\": [\n          \"8656412 NEG Two days later, on hospital day 27, the patient spontaneously delivered two healthy, male infants.\",\n          \"14693027 NEG None of the patients demonstrated the requisite features of the 'Dilantin hypersensitivity syndrome'.\",\n          \"16863495 NEG Neuroleptic malignant syndrome (NMS) is a rare but potentially serious complication of neuroleptic drugs.\"\n        ],\n        \"semantic_type\": \"\",\n        \"description\": \"\"\n      }\n    }\n  ]\n}"
            }
          },
          "metadata": {},
          "execution_count": 7
        }
      ],
      "source": [
        "df_neg= pd.read_csv(\"ADE-NEG.txt\", header=None, delimiter=\"\\t\", names=[\"col1\"])\n",
        "df_neg.head()"
      ]
    },
    {
      "cell_type": "code",
      "execution_count": 8,
      "metadata": {
        "colab": {
          "base_uri": "https://localhost:8080/",
          "height": 207
        },
        "id": "wrPm_XSyv-R2",
        "outputId": "869648d6-5d73-4f24-ff69-14abd4088991"
      },
      "outputs": [
        {
          "output_type": "execute_result",
          "data": {
            "text/plain": [
              "                                                text category\n",
              "0   Clioquinol intoxication occurring in the trea...      neg\n",
              "1   \"Retinoic acid syndrome\" was prevented with s...      neg\n",
              "2   BACKGROUND: External beam radiation therapy o...      neg\n",
              "3   Although the enuresis ceased, she developed t...      neg\n",
              "4   A 42-year-old woman had uneventful bilateral ...      neg"
            ],
            "text/html": [
              "\n",
              "  <div id=\"df-1d83de82-de0d-416b-93cf-4b75e832c789\" class=\"colab-df-container\">\n",
              "    <div>\n",
              "<style scoped>\n",
              "    .dataframe tbody tr th:only-of-type {\n",
              "        vertical-align: middle;\n",
              "    }\n",
              "\n",
              "    .dataframe tbody tr th {\n",
              "        vertical-align: top;\n",
              "    }\n",
              "\n",
              "    .dataframe thead th {\n",
              "        text-align: right;\n",
              "    }\n",
              "</style>\n",
              "<table border=\"1\" class=\"dataframe\">\n",
              "  <thead>\n",
              "    <tr style=\"text-align: right;\">\n",
              "      <th></th>\n",
              "      <th>text</th>\n",
              "      <th>category</th>\n",
              "    </tr>\n",
              "  </thead>\n",
              "  <tbody>\n",
              "    <tr>\n",
              "      <th>0</th>\n",
              "      <td>Clioquinol intoxication occurring in the trea...</td>\n",
              "      <td>neg</td>\n",
              "    </tr>\n",
              "    <tr>\n",
              "      <th>1</th>\n",
              "      <td>\"Retinoic acid syndrome\" was prevented with s...</td>\n",
              "      <td>neg</td>\n",
              "    </tr>\n",
              "    <tr>\n",
              "      <th>2</th>\n",
              "      <td>BACKGROUND: External beam radiation therapy o...</td>\n",
              "      <td>neg</td>\n",
              "    </tr>\n",
              "    <tr>\n",
              "      <th>3</th>\n",
              "      <td>Although the enuresis ceased, she developed t...</td>\n",
              "      <td>neg</td>\n",
              "    </tr>\n",
              "    <tr>\n",
              "      <th>4</th>\n",
              "      <td>A 42-year-old woman had uneventful bilateral ...</td>\n",
              "      <td>neg</td>\n",
              "    </tr>\n",
              "  </tbody>\n",
              "</table>\n",
              "</div>\n",
              "    <div class=\"colab-df-buttons\">\n",
              "\n",
              "  <div class=\"colab-df-container\">\n",
              "    <button class=\"colab-df-convert\" onclick=\"convertToInteractive('df-1d83de82-de0d-416b-93cf-4b75e832c789')\"\n",
              "            title=\"Convert this dataframe to an interactive table.\"\n",
              "            style=\"display:none;\">\n",
              "\n",
              "  <svg xmlns=\"http://www.w3.org/2000/svg\" height=\"24px\" viewBox=\"0 -960 960 960\">\n",
              "    <path d=\"M120-120v-720h720v720H120Zm60-500h600v-160H180v160Zm220 220h160v-160H400v160Zm0 220h160v-160H400v160ZM180-400h160v-160H180v160Zm440 0h160v-160H620v160ZM180-180h160v-160H180v160Zm440 0h160v-160H620v160Z\"/>\n",
              "  </svg>\n",
              "    </button>\n",
              "\n",
              "  <style>\n",
              "    .colab-df-container {\n",
              "      display:flex;\n",
              "      gap: 12px;\n",
              "    }\n",
              "\n",
              "    .colab-df-convert {\n",
              "      background-color: #E8F0FE;\n",
              "      border: none;\n",
              "      border-radius: 50%;\n",
              "      cursor: pointer;\n",
              "      display: none;\n",
              "      fill: #1967D2;\n",
              "      height: 32px;\n",
              "      padding: 0 0 0 0;\n",
              "      width: 32px;\n",
              "    }\n",
              "\n",
              "    .colab-df-convert:hover {\n",
              "      background-color: #E2EBFA;\n",
              "      box-shadow: 0px 1px 2px rgba(60, 64, 67, 0.3), 0px 1px 3px 1px rgba(60, 64, 67, 0.15);\n",
              "      fill: #174EA6;\n",
              "    }\n",
              "\n",
              "    .colab-df-buttons div {\n",
              "      margin-bottom: 4px;\n",
              "    }\n",
              "\n",
              "    [theme=dark] .colab-df-convert {\n",
              "      background-color: #3B4455;\n",
              "      fill: #D2E3FC;\n",
              "    }\n",
              "\n",
              "    [theme=dark] .colab-df-convert:hover {\n",
              "      background-color: #434B5C;\n",
              "      box-shadow: 0px 1px 3px 1px rgba(0, 0, 0, 0.15);\n",
              "      filter: drop-shadow(0px 1px 2px rgba(0, 0, 0, 0.3));\n",
              "      fill: #FFFFFF;\n",
              "    }\n",
              "  </style>\n",
              "\n",
              "    <script>\n",
              "      const buttonEl =\n",
              "        document.querySelector('#df-1d83de82-de0d-416b-93cf-4b75e832c789 button.colab-df-convert');\n",
              "      buttonEl.style.display =\n",
              "        google.colab.kernel.accessAllowed ? 'block' : 'none';\n",
              "\n",
              "      async function convertToInteractive(key) {\n",
              "        const element = document.querySelector('#df-1d83de82-de0d-416b-93cf-4b75e832c789');\n",
              "        const dataTable =\n",
              "          await google.colab.kernel.invokeFunction('convertToInteractive',\n",
              "                                                    [key], {});\n",
              "        if (!dataTable) return;\n",
              "\n",
              "        const docLinkHtml = 'Like what you see? Visit the ' +\n",
              "          '<a target=\"_blank\" href=https://colab.research.google.com/notebooks/data_table.ipynb>data table notebook</a>'\n",
              "          + ' to learn more about interactive tables.';\n",
              "        element.innerHTML = '';\n",
              "        dataTable['output_type'] = 'display_data';\n",
              "        await google.colab.output.renderOutput(dataTable, element);\n",
              "        const docLink = document.createElement('div');\n",
              "        docLink.innerHTML = docLinkHtml;\n",
              "        element.appendChild(docLink);\n",
              "      }\n",
              "    </script>\n",
              "  </div>\n",
              "\n",
              "\n",
              "    <div id=\"df-b3667554-5a0e-4fd5-8982-544137612d2d\">\n",
              "      <button class=\"colab-df-quickchart\" onclick=\"quickchart('df-b3667554-5a0e-4fd5-8982-544137612d2d')\"\n",
              "                title=\"Suggest charts\"\n",
              "                style=\"display:none;\">\n",
              "\n",
              "<svg xmlns=\"http://www.w3.org/2000/svg\" height=\"24px\"viewBox=\"0 0 24 24\"\n",
              "     width=\"24px\">\n",
              "    <g>\n",
              "        <path d=\"M19 3H5c-1.1 0-2 .9-2 2v14c0 1.1.9 2 2 2h14c1.1 0 2-.9 2-2V5c0-1.1-.9-2-2-2zM9 17H7v-7h2v7zm4 0h-2V7h2v10zm4 0h-2v-4h2v4z\"/>\n",
              "    </g>\n",
              "</svg>\n",
              "      </button>\n",
              "\n",
              "<style>\n",
              "  .colab-df-quickchart {\n",
              "      --bg-color: #E8F0FE;\n",
              "      --fill-color: #1967D2;\n",
              "      --hover-bg-color: #E2EBFA;\n",
              "      --hover-fill-color: #174EA6;\n",
              "      --disabled-fill-color: #AAA;\n",
              "      --disabled-bg-color: #DDD;\n",
              "  }\n",
              "\n",
              "  [theme=dark] .colab-df-quickchart {\n",
              "      --bg-color: #3B4455;\n",
              "      --fill-color: #D2E3FC;\n",
              "      --hover-bg-color: #434B5C;\n",
              "      --hover-fill-color: #FFFFFF;\n",
              "      --disabled-bg-color: #3B4455;\n",
              "      --disabled-fill-color: #666;\n",
              "  }\n",
              "\n",
              "  .colab-df-quickchart {\n",
              "    background-color: var(--bg-color);\n",
              "    border: none;\n",
              "    border-radius: 50%;\n",
              "    cursor: pointer;\n",
              "    display: none;\n",
              "    fill: var(--fill-color);\n",
              "    height: 32px;\n",
              "    padding: 0;\n",
              "    width: 32px;\n",
              "  }\n",
              "\n",
              "  .colab-df-quickchart:hover {\n",
              "    background-color: var(--hover-bg-color);\n",
              "    box-shadow: 0 1px 2px rgba(60, 64, 67, 0.3), 0 1px 3px 1px rgba(60, 64, 67, 0.15);\n",
              "    fill: var(--button-hover-fill-color);\n",
              "  }\n",
              "\n",
              "  .colab-df-quickchart-complete:disabled,\n",
              "  .colab-df-quickchart-complete:disabled:hover {\n",
              "    background-color: var(--disabled-bg-color);\n",
              "    fill: var(--disabled-fill-color);\n",
              "    box-shadow: none;\n",
              "  }\n",
              "\n",
              "  .colab-df-spinner {\n",
              "    border: 2px solid var(--fill-color);\n",
              "    border-color: transparent;\n",
              "    border-bottom-color: var(--fill-color);\n",
              "    animation:\n",
              "      spin 1s steps(1) infinite;\n",
              "  }\n",
              "\n",
              "  @keyframes spin {\n",
              "    0% {\n",
              "      border-color: transparent;\n",
              "      border-bottom-color: var(--fill-color);\n",
              "      border-left-color: var(--fill-color);\n",
              "    }\n",
              "    20% {\n",
              "      border-color: transparent;\n",
              "      border-left-color: var(--fill-color);\n",
              "      border-top-color: var(--fill-color);\n",
              "    }\n",
              "    30% {\n",
              "      border-color: transparent;\n",
              "      border-left-color: var(--fill-color);\n",
              "      border-top-color: var(--fill-color);\n",
              "      border-right-color: var(--fill-color);\n",
              "    }\n",
              "    40% {\n",
              "      border-color: transparent;\n",
              "      border-right-color: var(--fill-color);\n",
              "      border-top-color: var(--fill-color);\n",
              "    }\n",
              "    60% {\n",
              "      border-color: transparent;\n",
              "      border-right-color: var(--fill-color);\n",
              "    }\n",
              "    80% {\n",
              "      border-color: transparent;\n",
              "      border-right-color: var(--fill-color);\n",
              "      border-bottom-color: var(--fill-color);\n",
              "    }\n",
              "    90% {\n",
              "      border-color: transparent;\n",
              "      border-bottom-color: var(--fill-color);\n",
              "    }\n",
              "  }\n",
              "</style>\n",
              "\n",
              "      <script>\n",
              "        async function quickchart(key) {\n",
              "          const quickchartButtonEl =\n",
              "            document.querySelector('#' + key + ' button');\n",
              "          quickchartButtonEl.disabled = true;  // To prevent multiple clicks.\n",
              "          quickchartButtonEl.classList.add('colab-df-spinner');\n",
              "          try {\n",
              "            const charts = await google.colab.kernel.invokeFunction(\n",
              "                'suggestCharts', [key], {});\n",
              "          } catch (error) {\n",
              "            console.error('Error during call to suggestCharts:', error);\n",
              "          }\n",
              "          quickchartButtonEl.classList.remove('colab-df-spinner');\n",
              "          quickchartButtonEl.classList.add('colab-df-quickchart-complete');\n",
              "        }\n",
              "        (() => {\n",
              "          let quickchartButtonEl =\n",
              "            document.querySelector('#df-b3667554-5a0e-4fd5-8982-544137612d2d button');\n",
              "          quickchartButtonEl.style.display =\n",
              "            google.colab.kernel.accessAllowed ? 'block' : 'none';\n",
              "        })();\n",
              "      </script>\n",
              "    </div>\n",
              "\n",
              "    </div>\n",
              "  </div>\n"
            ],
            "application/vnd.google.colaboratory.intrinsic+json": {
              "type": "dataframe",
              "variable_name": "df_neg",
              "summary": "{\n  \"name\": \"df_neg\",\n  \"rows\": 16695,\n  \"fields\": [\n    {\n      \"column\": \"text\",\n      \"properties\": {\n        \"dtype\": \"string\",\n        \"num_unique_values\": 16625,\n        \"samples\": [\n          \" Adalimumab belongs to the group of tumour necrosis factor-alpha inhibitors and has been approved for the treatment Crohn's Disease since 2007.\",\n          \" Full recovery occurred because of early pick up, emphasizing the need for careful fluid balance monitoring of patients receiving cisplatin chemotherapy.\",\n          \" We describe a patient in whom impressive hypoglycemia developed following treatment with this agent.\"\n        ],\n        \"semantic_type\": \"\",\n        \"description\": \"\"\n      }\n    },\n    {\n      \"column\": \"category\",\n      \"properties\": {\n        \"dtype\": \"category\",\n        \"num_unique_values\": 1,\n        \"samples\": [\n          \"neg\"\n        ],\n        \"semantic_type\": \"\",\n        \"description\": \"\"\n      }\n    }\n  ]\n}"
            }
          },
          "metadata": {},
          "execution_count": 8
        }
      ],
      "source": [
        "df_neg['text'] =  df_neg.col1.str.split('NEG').str[1]\n",
        "df_neg[\"category\"] = \"neg\"\n",
        "df_neg= df_neg[[\"text\", \"category\"]]\n",
        "df_neg.head()"
      ]
    },
    {
      "cell_type": "markdown",
      "metadata": {
        "id": "gzu9ELiirkMf"
      },
      "source": [
        "**ADE Positive Dataset**"
      ]
    },
    {
      "cell_type": "code",
      "execution_count": 9,
      "metadata": {
        "colab": {
          "base_uri": "https://localhost:8080/",
          "height": 207
        },
        "id": "F4Y20JbRqcLP",
        "outputId": "8069fbda-b465-4f1a-edcc-20de254807d3"
      },
      "outputs": [
        {
          "output_type": "execute_result",
          "data": {
            "text/plain": [
              "          0                                                  1  \\\n",
              "0  10030778      Intravenous azithromycin-induced ototoxicity.   \n",
              "1  10048291  Immobilization, while Paget's bone disease was...   \n",
              "2  10048291  Unaccountable severe hypercalcemia in a patien...   \n",
              "3  10082597  METHODS: We report two cases of pseudoporphyri...   \n",
              "4  10082597  METHODS: We report two cases of pseudoporphyri...   \n",
              "\n",
              "                           2    3    4                   5    6    7  \n",
              "0                ototoxicity   43   54        azithromycin   22   34  \n",
              "1  increased calcium-release  960  985  dihydrotachysterol  908  926  \n",
              "2              hypercalcemia   31   44  dihydrotachysterol   94  112  \n",
              "3            pseudoporphyria  620  635            naproxen  646  654  \n",
              "4            pseudoporphyria  620  635           oxaprozin  659  668  "
            ],
            "text/html": [
              "\n",
              "  <div id=\"df-05f36f49-f9e6-4fbe-af49-8593223b3b86\" class=\"colab-df-container\">\n",
              "    <div>\n",
              "<style scoped>\n",
              "    .dataframe tbody tr th:only-of-type {\n",
              "        vertical-align: middle;\n",
              "    }\n",
              "\n",
              "    .dataframe tbody tr th {\n",
              "        vertical-align: top;\n",
              "    }\n",
              "\n",
              "    .dataframe thead th {\n",
              "        text-align: right;\n",
              "    }\n",
              "</style>\n",
              "<table border=\"1\" class=\"dataframe\">\n",
              "  <thead>\n",
              "    <tr style=\"text-align: right;\">\n",
              "      <th></th>\n",
              "      <th>0</th>\n",
              "      <th>1</th>\n",
              "      <th>2</th>\n",
              "      <th>3</th>\n",
              "      <th>4</th>\n",
              "      <th>5</th>\n",
              "      <th>6</th>\n",
              "      <th>7</th>\n",
              "    </tr>\n",
              "  </thead>\n",
              "  <tbody>\n",
              "    <tr>\n",
              "      <th>0</th>\n",
              "      <td>10030778</td>\n",
              "      <td>Intravenous azithromycin-induced ototoxicity.</td>\n",
              "      <td>ototoxicity</td>\n",
              "      <td>43</td>\n",
              "      <td>54</td>\n",
              "      <td>azithromycin</td>\n",
              "      <td>22</td>\n",
              "      <td>34</td>\n",
              "    </tr>\n",
              "    <tr>\n",
              "      <th>1</th>\n",
              "      <td>10048291</td>\n",
              "      <td>Immobilization, while Paget's bone disease was...</td>\n",
              "      <td>increased calcium-release</td>\n",
              "      <td>960</td>\n",
              "      <td>985</td>\n",
              "      <td>dihydrotachysterol</td>\n",
              "      <td>908</td>\n",
              "      <td>926</td>\n",
              "    </tr>\n",
              "    <tr>\n",
              "      <th>2</th>\n",
              "      <td>10048291</td>\n",
              "      <td>Unaccountable severe hypercalcemia in a patien...</td>\n",
              "      <td>hypercalcemia</td>\n",
              "      <td>31</td>\n",
              "      <td>44</td>\n",
              "      <td>dihydrotachysterol</td>\n",
              "      <td>94</td>\n",
              "      <td>112</td>\n",
              "    </tr>\n",
              "    <tr>\n",
              "      <th>3</th>\n",
              "      <td>10082597</td>\n",
              "      <td>METHODS: We report two cases of pseudoporphyri...</td>\n",
              "      <td>pseudoporphyria</td>\n",
              "      <td>620</td>\n",
              "      <td>635</td>\n",
              "      <td>naproxen</td>\n",
              "      <td>646</td>\n",
              "      <td>654</td>\n",
              "    </tr>\n",
              "    <tr>\n",
              "      <th>4</th>\n",
              "      <td>10082597</td>\n",
              "      <td>METHODS: We report two cases of pseudoporphyri...</td>\n",
              "      <td>pseudoporphyria</td>\n",
              "      <td>620</td>\n",
              "      <td>635</td>\n",
              "      <td>oxaprozin</td>\n",
              "      <td>659</td>\n",
              "      <td>668</td>\n",
              "    </tr>\n",
              "  </tbody>\n",
              "</table>\n",
              "</div>\n",
              "    <div class=\"colab-df-buttons\">\n",
              "\n",
              "  <div class=\"colab-df-container\">\n",
              "    <button class=\"colab-df-convert\" onclick=\"convertToInteractive('df-05f36f49-f9e6-4fbe-af49-8593223b3b86')\"\n",
              "            title=\"Convert this dataframe to an interactive table.\"\n",
              "            style=\"display:none;\">\n",
              "\n",
              "  <svg xmlns=\"http://www.w3.org/2000/svg\" height=\"24px\" viewBox=\"0 -960 960 960\">\n",
              "    <path d=\"M120-120v-720h720v720H120Zm60-500h600v-160H180v160Zm220 220h160v-160H400v160Zm0 220h160v-160H400v160ZM180-400h160v-160H180v160Zm440 0h160v-160H620v160ZM180-180h160v-160H180v160Zm440 0h160v-160H620v160Z\"/>\n",
              "  </svg>\n",
              "    </button>\n",
              "\n",
              "  <style>\n",
              "    .colab-df-container {\n",
              "      display:flex;\n",
              "      gap: 12px;\n",
              "    }\n",
              "\n",
              "    .colab-df-convert {\n",
              "      background-color: #E8F0FE;\n",
              "      border: none;\n",
              "      border-radius: 50%;\n",
              "      cursor: pointer;\n",
              "      display: none;\n",
              "      fill: #1967D2;\n",
              "      height: 32px;\n",
              "      padding: 0 0 0 0;\n",
              "      width: 32px;\n",
              "    }\n",
              "\n",
              "    .colab-df-convert:hover {\n",
              "      background-color: #E2EBFA;\n",
              "      box-shadow: 0px 1px 2px rgba(60, 64, 67, 0.3), 0px 1px 3px 1px rgba(60, 64, 67, 0.15);\n",
              "      fill: #174EA6;\n",
              "    }\n",
              "\n",
              "    .colab-df-buttons div {\n",
              "      margin-bottom: 4px;\n",
              "    }\n",
              "\n",
              "    [theme=dark] .colab-df-convert {\n",
              "      background-color: #3B4455;\n",
              "      fill: #D2E3FC;\n",
              "    }\n",
              "\n",
              "    [theme=dark] .colab-df-convert:hover {\n",
              "      background-color: #434B5C;\n",
              "      box-shadow: 0px 1px 3px 1px rgba(0, 0, 0, 0.15);\n",
              "      filter: drop-shadow(0px 1px 2px rgba(0, 0, 0, 0.3));\n",
              "      fill: #FFFFFF;\n",
              "    }\n",
              "  </style>\n",
              "\n",
              "    <script>\n",
              "      const buttonEl =\n",
              "        document.querySelector('#df-05f36f49-f9e6-4fbe-af49-8593223b3b86 button.colab-df-convert');\n",
              "      buttonEl.style.display =\n",
              "        google.colab.kernel.accessAllowed ? 'block' : 'none';\n",
              "\n",
              "      async function convertToInteractive(key) {\n",
              "        const element = document.querySelector('#df-05f36f49-f9e6-4fbe-af49-8593223b3b86');\n",
              "        const dataTable =\n",
              "          await google.colab.kernel.invokeFunction('convertToInteractive',\n",
              "                                                    [key], {});\n",
              "        if (!dataTable) return;\n",
              "\n",
              "        const docLinkHtml = 'Like what you see? Visit the ' +\n",
              "          '<a target=\"_blank\" href=https://colab.research.google.com/notebooks/data_table.ipynb>data table notebook</a>'\n",
              "          + ' to learn more about interactive tables.';\n",
              "        element.innerHTML = '';\n",
              "        dataTable['output_type'] = 'display_data';\n",
              "        await google.colab.output.renderOutput(dataTable, element);\n",
              "        const docLink = document.createElement('div');\n",
              "        docLink.innerHTML = docLinkHtml;\n",
              "        element.appendChild(docLink);\n",
              "      }\n",
              "    </script>\n",
              "  </div>\n",
              "\n",
              "\n",
              "    <div id=\"df-a77be3fe-738b-44ef-af63-aa835f4562bf\">\n",
              "      <button class=\"colab-df-quickchart\" onclick=\"quickchart('df-a77be3fe-738b-44ef-af63-aa835f4562bf')\"\n",
              "                title=\"Suggest charts\"\n",
              "                style=\"display:none;\">\n",
              "\n",
              "<svg xmlns=\"http://www.w3.org/2000/svg\" height=\"24px\"viewBox=\"0 0 24 24\"\n",
              "     width=\"24px\">\n",
              "    <g>\n",
              "        <path d=\"M19 3H5c-1.1 0-2 .9-2 2v14c0 1.1.9 2 2 2h14c1.1 0 2-.9 2-2V5c0-1.1-.9-2-2-2zM9 17H7v-7h2v7zm4 0h-2V7h2v10zm4 0h-2v-4h2v4z\"/>\n",
              "    </g>\n",
              "</svg>\n",
              "      </button>\n",
              "\n",
              "<style>\n",
              "  .colab-df-quickchart {\n",
              "      --bg-color: #E8F0FE;\n",
              "      --fill-color: #1967D2;\n",
              "      --hover-bg-color: #E2EBFA;\n",
              "      --hover-fill-color: #174EA6;\n",
              "      --disabled-fill-color: #AAA;\n",
              "      --disabled-bg-color: #DDD;\n",
              "  }\n",
              "\n",
              "  [theme=dark] .colab-df-quickchart {\n",
              "      --bg-color: #3B4455;\n",
              "      --fill-color: #D2E3FC;\n",
              "      --hover-bg-color: #434B5C;\n",
              "      --hover-fill-color: #FFFFFF;\n",
              "      --disabled-bg-color: #3B4455;\n",
              "      --disabled-fill-color: #666;\n",
              "  }\n",
              "\n",
              "  .colab-df-quickchart {\n",
              "    background-color: var(--bg-color);\n",
              "    border: none;\n",
              "    border-radius: 50%;\n",
              "    cursor: pointer;\n",
              "    display: none;\n",
              "    fill: var(--fill-color);\n",
              "    height: 32px;\n",
              "    padding: 0;\n",
              "    width: 32px;\n",
              "  }\n",
              "\n",
              "  .colab-df-quickchart:hover {\n",
              "    background-color: var(--hover-bg-color);\n",
              "    box-shadow: 0 1px 2px rgba(60, 64, 67, 0.3), 0 1px 3px 1px rgba(60, 64, 67, 0.15);\n",
              "    fill: var(--button-hover-fill-color);\n",
              "  }\n",
              "\n",
              "  .colab-df-quickchart-complete:disabled,\n",
              "  .colab-df-quickchart-complete:disabled:hover {\n",
              "    background-color: var(--disabled-bg-color);\n",
              "    fill: var(--disabled-fill-color);\n",
              "    box-shadow: none;\n",
              "  }\n",
              "\n",
              "  .colab-df-spinner {\n",
              "    border: 2px solid var(--fill-color);\n",
              "    border-color: transparent;\n",
              "    border-bottom-color: var(--fill-color);\n",
              "    animation:\n",
              "      spin 1s steps(1) infinite;\n",
              "  }\n",
              "\n",
              "  @keyframes spin {\n",
              "    0% {\n",
              "      border-color: transparent;\n",
              "      border-bottom-color: var(--fill-color);\n",
              "      border-left-color: var(--fill-color);\n",
              "    }\n",
              "    20% {\n",
              "      border-color: transparent;\n",
              "      border-left-color: var(--fill-color);\n",
              "      border-top-color: var(--fill-color);\n",
              "    }\n",
              "    30% {\n",
              "      border-color: transparent;\n",
              "      border-left-color: var(--fill-color);\n",
              "      border-top-color: var(--fill-color);\n",
              "      border-right-color: var(--fill-color);\n",
              "    }\n",
              "    40% {\n",
              "      border-color: transparent;\n",
              "      border-right-color: var(--fill-color);\n",
              "      border-top-color: var(--fill-color);\n",
              "    }\n",
              "    60% {\n",
              "      border-color: transparent;\n",
              "      border-right-color: var(--fill-color);\n",
              "    }\n",
              "    80% {\n",
              "      border-color: transparent;\n",
              "      border-right-color: var(--fill-color);\n",
              "      border-bottom-color: var(--fill-color);\n",
              "    }\n",
              "    90% {\n",
              "      border-color: transparent;\n",
              "      border-bottom-color: var(--fill-color);\n",
              "    }\n",
              "  }\n",
              "</style>\n",
              "\n",
              "      <script>\n",
              "        async function quickchart(key) {\n",
              "          const quickchartButtonEl =\n",
              "            document.querySelector('#' + key + ' button');\n",
              "          quickchartButtonEl.disabled = true;  // To prevent multiple clicks.\n",
              "          quickchartButtonEl.classList.add('colab-df-spinner');\n",
              "          try {\n",
              "            const charts = await google.colab.kernel.invokeFunction(\n",
              "                'suggestCharts', [key], {});\n",
              "          } catch (error) {\n",
              "            console.error('Error during call to suggestCharts:', error);\n",
              "          }\n",
              "          quickchartButtonEl.classList.remove('colab-df-spinner');\n",
              "          quickchartButtonEl.classList.add('colab-df-quickchart-complete');\n",
              "        }\n",
              "        (() => {\n",
              "          let quickchartButtonEl =\n",
              "            document.querySelector('#df-a77be3fe-738b-44ef-af63-aa835f4562bf button');\n",
              "          quickchartButtonEl.style.display =\n",
              "            google.colab.kernel.accessAllowed ? 'block' : 'none';\n",
              "        })();\n",
              "      </script>\n",
              "    </div>\n",
              "\n",
              "    </div>\n",
              "  </div>\n"
            ],
            "application/vnd.google.colaboratory.intrinsic+json": {
              "type": "dataframe",
              "variable_name": "df_pos",
              "summary": "{\n  \"name\": \"df_pos\",\n  \"rows\": 6821,\n  \"fields\": [\n    {\n      \"column\": 0,\n      \"properties\": {\n        \"dtype\": \"number\",\n        \"std\": 5658471,\n        \"min\": 18795,\n        \"max\": 20465622,\n        \"num_unique_values\": 1644,\n        \"samples\": [\n          17473493,\n          3612639,\n          8996514\n        ],\n        \"semantic_type\": \"\",\n        \"description\": \"\"\n      }\n    },\n    {\n      \"column\": 1,\n      \"properties\": {\n        \"dtype\": \"string\",\n        \"num_unique_values\": 4271,\n        \"samples\": [\n          \"While on a maximal dose of phenylephrine she developed prominent positive U waves, which disappeared with the cessation of the drug.\",\n          \"We report three patients, all of whom had preexisting diabetic dyslipidemia, who showed a profound reduction in plasma HDL cholesterol and apolipoprotein AI levels soon after the initiation of rosiglitazone therapy.\",\n          \"In 2 of the 3 cases the patients were also taking lithium carbonate and beta-blockers, both of which could have contributed to the incontinence.\"\n        ],\n        \"semantic_type\": \"\",\n        \"description\": \"\"\n      }\n    },\n    {\n      \"column\": 2,\n      \"properties\": {\n        \"dtype\": \"category\",\n        \"num_unique_values\": 3341,\n        \"samples\": [\n          \"erythematous papular eruption\",\n          \"an increase in antihuman herpesvirus-6 immunoglobulin G titer\",\n          \"Fulminant hepatitis\"\n        ],\n        \"semantic_type\": \"\",\n        \"description\": \"\"\n      }\n    },\n    {\n      \"column\": 3,\n      \"properties\": {\n        \"dtype\": \"number\",\n        \"std\": 419,\n        \"min\": 7,\n        \"max\": 2651,\n        \"num_unique_values\": 1366,\n        \"samples\": [\n          1111,\n          591,\n          1372\n        ],\n        \"semantic_type\": \"\",\n        \"description\": \"\"\n      }\n    },\n    {\n      \"column\": 4,\n      \"properties\": {\n        \"dtype\": \"number\",\n        \"std\": 418,\n        \"min\": 13,\n        \"max\": 2668,\n        \"num_unique_values\": 1357,\n        \"samples\": [\n          41,\n          712,\n          896\n        ],\n        \"semantic_type\": \"\",\n        \"description\": \"\"\n      }\n    },\n    {\n      \"column\": 5,\n      \"properties\": {\n        \"dtype\": \"category\",\n        \"num_unique_values\": 1317,\n        \"samples\": [\n          \"Warfarin\",\n          \"phentolamine\",\n          \"MM\"\n        ],\n        \"semantic_type\": \"\",\n        \"description\": \"\"\n      }\n    },\n    {\n      \"column\": 6,\n      \"properties\": {\n        \"dtype\": \"number\",\n        \"std\": 410,\n        \"min\": 8,\n        \"max\": 2695,\n        \"num_unique_values\": 1293,\n        \"samples\": [\n          30,\n          747,\n          679\n        ],\n        \"semantic_type\": \"\",\n        \"description\": \"\"\n      }\n    },\n    {\n      \"column\": 7,\n      \"properties\": {\n        \"dtype\": \"number\",\n        \"std\": 409,\n        \"min\": 12,\n        \"max\": 2705,\n        \"num_unique_values\": 1286,\n        \"samples\": [\n          1762,\n          509,\n          951\n        ],\n        \"semantic_type\": \"\",\n        \"description\": \"\"\n      }\n    }\n  ]\n}"
            }
          },
          "metadata": {},
          "execution_count": 9
        }
      ],
      "source": [
        "df_pos= pd.read_csv(\"DRUG-AE.rel\", header=None, delimiter=\"|\")\n",
        "df_pos.head()"
      ]
    },
    {
      "cell_type": "code",
      "execution_count": 10,
      "metadata": {
        "colab": {
          "base_uri": "https://localhost:8080/",
          "height": 207
        },
        "id": "ICMIXpnHrc5u",
        "outputId": "96066926-5173-4375-95b7-b3fdcecc9e51"
      },
      "outputs": [
        {
          "output_type": "execute_result",
          "data": {
            "text/plain": [
              "                                                text category\n",
              "0      Intravenous azithromycin-induced ototoxicity.      pos\n",
              "1  Immobilization, while Paget's bone disease was...      pos\n",
              "2  Unaccountable severe hypercalcemia in a patien...      pos\n",
              "3  METHODS: We report two cases of pseudoporphyri...      pos\n",
              "4  METHODS: We report two cases of pseudoporphyri...      pos"
            ],
            "text/html": [
              "\n",
              "  <div id=\"df-66cdb51c-22f6-4562-953c-f00cc923efcd\" class=\"colab-df-container\">\n",
              "    <div>\n",
              "<style scoped>\n",
              "    .dataframe tbody tr th:only-of-type {\n",
              "        vertical-align: middle;\n",
              "    }\n",
              "\n",
              "    .dataframe tbody tr th {\n",
              "        vertical-align: top;\n",
              "    }\n",
              "\n",
              "    .dataframe thead th {\n",
              "        text-align: right;\n",
              "    }\n",
              "</style>\n",
              "<table border=\"1\" class=\"dataframe\">\n",
              "  <thead>\n",
              "    <tr style=\"text-align: right;\">\n",
              "      <th></th>\n",
              "      <th>text</th>\n",
              "      <th>category</th>\n",
              "    </tr>\n",
              "  </thead>\n",
              "  <tbody>\n",
              "    <tr>\n",
              "      <th>0</th>\n",
              "      <td>Intravenous azithromycin-induced ototoxicity.</td>\n",
              "      <td>pos</td>\n",
              "    </tr>\n",
              "    <tr>\n",
              "      <th>1</th>\n",
              "      <td>Immobilization, while Paget's bone disease was...</td>\n",
              "      <td>pos</td>\n",
              "    </tr>\n",
              "    <tr>\n",
              "      <th>2</th>\n",
              "      <td>Unaccountable severe hypercalcemia in a patien...</td>\n",
              "      <td>pos</td>\n",
              "    </tr>\n",
              "    <tr>\n",
              "      <th>3</th>\n",
              "      <td>METHODS: We report two cases of pseudoporphyri...</td>\n",
              "      <td>pos</td>\n",
              "    </tr>\n",
              "    <tr>\n",
              "      <th>4</th>\n",
              "      <td>METHODS: We report two cases of pseudoporphyri...</td>\n",
              "      <td>pos</td>\n",
              "    </tr>\n",
              "  </tbody>\n",
              "</table>\n",
              "</div>\n",
              "    <div class=\"colab-df-buttons\">\n",
              "\n",
              "  <div class=\"colab-df-container\">\n",
              "    <button class=\"colab-df-convert\" onclick=\"convertToInteractive('df-66cdb51c-22f6-4562-953c-f00cc923efcd')\"\n",
              "            title=\"Convert this dataframe to an interactive table.\"\n",
              "            style=\"display:none;\">\n",
              "\n",
              "  <svg xmlns=\"http://www.w3.org/2000/svg\" height=\"24px\" viewBox=\"0 -960 960 960\">\n",
              "    <path d=\"M120-120v-720h720v720H120Zm60-500h600v-160H180v160Zm220 220h160v-160H400v160Zm0 220h160v-160H400v160ZM180-400h160v-160H180v160Zm440 0h160v-160H620v160ZM180-180h160v-160H180v160Zm440 0h160v-160H620v160Z\"/>\n",
              "  </svg>\n",
              "    </button>\n",
              "\n",
              "  <style>\n",
              "    .colab-df-container {\n",
              "      display:flex;\n",
              "      gap: 12px;\n",
              "    }\n",
              "\n",
              "    .colab-df-convert {\n",
              "      background-color: #E8F0FE;\n",
              "      border: none;\n",
              "      border-radius: 50%;\n",
              "      cursor: pointer;\n",
              "      display: none;\n",
              "      fill: #1967D2;\n",
              "      height: 32px;\n",
              "      padding: 0 0 0 0;\n",
              "      width: 32px;\n",
              "    }\n",
              "\n",
              "    .colab-df-convert:hover {\n",
              "      background-color: #E2EBFA;\n",
              "      box-shadow: 0px 1px 2px rgba(60, 64, 67, 0.3), 0px 1px 3px 1px rgba(60, 64, 67, 0.15);\n",
              "      fill: #174EA6;\n",
              "    }\n",
              "\n",
              "    .colab-df-buttons div {\n",
              "      margin-bottom: 4px;\n",
              "    }\n",
              "\n",
              "    [theme=dark] .colab-df-convert {\n",
              "      background-color: #3B4455;\n",
              "      fill: #D2E3FC;\n",
              "    }\n",
              "\n",
              "    [theme=dark] .colab-df-convert:hover {\n",
              "      background-color: #434B5C;\n",
              "      box-shadow: 0px 1px 3px 1px rgba(0, 0, 0, 0.15);\n",
              "      filter: drop-shadow(0px 1px 2px rgba(0, 0, 0, 0.3));\n",
              "      fill: #FFFFFF;\n",
              "    }\n",
              "  </style>\n",
              "\n",
              "    <script>\n",
              "      const buttonEl =\n",
              "        document.querySelector('#df-66cdb51c-22f6-4562-953c-f00cc923efcd button.colab-df-convert');\n",
              "      buttonEl.style.display =\n",
              "        google.colab.kernel.accessAllowed ? 'block' : 'none';\n",
              "\n",
              "      async function convertToInteractive(key) {\n",
              "        const element = document.querySelector('#df-66cdb51c-22f6-4562-953c-f00cc923efcd');\n",
              "        const dataTable =\n",
              "          await google.colab.kernel.invokeFunction('convertToInteractive',\n",
              "                                                    [key], {});\n",
              "        if (!dataTable) return;\n",
              "\n",
              "        const docLinkHtml = 'Like what you see? Visit the ' +\n",
              "          '<a target=\"_blank\" href=https://colab.research.google.com/notebooks/data_table.ipynb>data table notebook</a>'\n",
              "          + ' to learn more about interactive tables.';\n",
              "        element.innerHTML = '';\n",
              "        dataTable['output_type'] = 'display_data';\n",
              "        await google.colab.output.renderOutput(dataTable, element);\n",
              "        const docLink = document.createElement('div');\n",
              "        docLink.innerHTML = docLinkHtml;\n",
              "        element.appendChild(docLink);\n",
              "      }\n",
              "    </script>\n",
              "  </div>\n",
              "\n",
              "\n",
              "    <div id=\"df-88daaae1-8e6f-46f5-908a-b83fb26fb4ca\">\n",
              "      <button class=\"colab-df-quickchart\" onclick=\"quickchart('df-88daaae1-8e6f-46f5-908a-b83fb26fb4ca')\"\n",
              "                title=\"Suggest charts\"\n",
              "                style=\"display:none;\">\n",
              "\n",
              "<svg xmlns=\"http://www.w3.org/2000/svg\" height=\"24px\"viewBox=\"0 0 24 24\"\n",
              "     width=\"24px\">\n",
              "    <g>\n",
              "        <path d=\"M19 3H5c-1.1 0-2 .9-2 2v14c0 1.1.9 2 2 2h14c1.1 0 2-.9 2-2V5c0-1.1-.9-2-2-2zM9 17H7v-7h2v7zm4 0h-2V7h2v10zm4 0h-2v-4h2v4z\"/>\n",
              "    </g>\n",
              "</svg>\n",
              "      </button>\n",
              "\n",
              "<style>\n",
              "  .colab-df-quickchart {\n",
              "      --bg-color: #E8F0FE;\n",
              "      --fill-color: #1967D2;\n",
              "      --hover-bg-color: #E2EBFA;\n",
              "      --hover-fill-color: #174EA6;\n",
              "      --disabled-fill-color: #AAA;\n",
              "      --disabled-bg-color: #DDD;\n",
              "  }\n",
              "\n",
              "  [theme=dark] .colab-df-quickchart {\n",
              "      --bg-color: #3B4455;\n",
              "      --fill-color: #D2E3FC;\n",
              "      --hover-bg-color: #434B5C;\n",
              "      --hover-fill-color: #FFFFFF;\n",
              "      --disabled-bg-color: #3B4455;\n",
              "      --disabled-fill-color: #666;\n",
              "  }\n",
              "\n",
              "  .colab-df-quickchart {\n",
              "    background-color: var(--bg-color);\n",
              "    border: none;\n",
              "    border-radius: 50%;\n",
              "    cursor: pointer;\n",
              "    display: none;\n",
              "    fill: var(--fill-color);\n",
              "    height: 32px;\n",
              "    padding: 0;\n",
              "    width: 32px;\n",
              "  }\n",
              "\n",
              "  .colab-df-quickchart:hover {\n",
              "    background-color: var(--hover-bg-color);\n",
              "    box-shadow: 0 1px 2px rgba(60, 64, 67, 0.3), 0 1px 3px 1px rgba(60, 64, 67, 0.15);\n",
              "    fill: var(--button-hover-fill-color);\n",
              "  }\n",
              "\n",
              "  .colab-df-quickchart-complete:disabled,\n",
              "  .colab-df-quickchart-complete:disabled:hover {\n",
              "    background-color: var(--disabled-bg-color);\n",
              "    fill: var(--disabled-fill-color);\n",
              "    box-shadow: none;\n",
              "  }\n",
              "\n",
              "  .colab-df-spinner {\n",
              "    border: 2px solid var(--fill-color);\n",
              "    border-color: transparent;\n",
              "    border-bottom-color: var(--fill-color);\n",
              "    animation:\n",
              "      spin 1s steps(1) infinite;\n",
              "  }\n",
              "\n",
              "  @keyframes spin {\n",
              "    0% {\n",
              "      border-color: transparent;\n",
              "      border-bottom-color: var(--fill-color);\n",
              "      border-left-color: var(--fill-color);\n",
              "    }\n",
              "    20% {\n",
              "      border-color: transparent;\n",
              "      border-left-color: var(--fill-color);\n",
              "      border-top-color: var(--fill-color);\n",
              "    }\n",
              "    30% {\n",
              "      border-color: transparent;\n",
              "      border-left-color: var(--fill-color);\n",
              "      border-top-color: var(--fill-color);\n",
              "      border-right-color: var(--fill-color);\n",
              "    }\n",
              "    40% {\n",
              "      border-color: transparent;\n",
              "      border-right-color: var(--fill-color);\n",
              "      border-top-color: var(--fill-color);\n",
              "    }\n",
              "    60% {\n",
              "      border-color: transparent;\n",
              "      border-right-color: var(--fill-color);\n",
              "    }\n",
              "    80% {\n",
              "      border-color: transparent;\n",
              "      border-right-color: var(--fill-color);\n",
              "      border-bottom-color: var(--fill-color);\n",
              "    }\n",
              "    90% {\n",
              "      border-color: transparent;\n",
              "      border-bottom-color: var(--fill-color);\n",
              "    }\n",
              "  }\n",
              "</style>\n",
              "\n",
              "      <script>\n",
              "        async function quickchart(key) {\n",
              "          const quickchartButtonEl =\n",
              "            document.querySelector('#' + key + ' button');\n",
              "          quickchartButtonEl.disabled = true;  // To prevent multiple clicks.\n",
              "          quickchartButtonEl.classList.add('colab-df-spinner');\n",
              "          try {\n",
              "            const charts = await google.colab.kernel.invokeFunction(\n",
              "                'suggestCharts', [key], {});\n",
              "          } catch (error) {\n",
              "            console.error('Error during call to suggestCharts:', error);\n",
              "          }\n",
              "          quickchartButtonEl.classList.remove('colab-df-spinner');\n",
              "          quickchartButtonEl.classList.add('colab-df-quickchart-complete');\n",
              "        }\n",
              "        (() => {\n",
              "          let quickchartButtonEl =\n",
              "            document.querySelector('#df-88daaae1-8e6f-46f5-908a-b83fb26fb4ca button');\n",
              "          quickchartButtonEl.style.display =\n",
              "            google.colab.kernel.accessAllowed ? 'block' : 'none';\n",
              "        })();\n",
              "      </script>\n",
              "    </div>\n",
              "\n",
              "    </div>\n",
              "  </div>\n"
            ],
            "application/vnd.google.colaboratory.intrinsic+json": {
              "type": "dataframe",
              "variable_name": "df_pos",
              "summary": "{\n  \"name\": \"df_pos\",\n  \"rows\": 6821,\n  \"fields\": [\n    {\n      \"column\": \"text\",\n      \"properties\": {\n        \"dtype\": \"string\",\n        \"num_unique_values\": 4271,\n        \"samples\": [\n          \"While on a maximal dose of phenylephrine she developed prominent positive U waves, which disappeared with the cessation of the drug.\",\n          \"We report three patients, all of whom had preexisting diabetic dyslipidemia, who showed a profound reduction in plasma HDL cholesterol and apolipoprotein AI levels soon after the initiation of rosiglitazone therapy.\",\n          \"In 2 of the 3 cases the patients were also taking lithium carbonate and beta-blockers, both of which could have contributed to the incontinence.\"\n        ],\n        \"semantic_type\": \"\",\n        \"description\": \"\"\n      }\n    },\n    {\n      \"column\": \"category\",\n      \"properties\": {\n        \"dtype\": \"category\",\n        \"num_unique_values\": 1,\n        \"samples\": [\n          \"pos\"\n        ],\n        \"semantic_type\": \"\",\n        \"description\": \"\"\n      }\n    }\n  ]\n}"
            }
          },
          "metadata": {},
          "execution_count": 10
        }
      ],
      "source": [
        "df_pos[\"category\"]= \"pos\"\n",
        "df_pos.rename(columns={1: \"text\"}, inplace=True)\n",
        "df_pos= df_pos[[\"text\", \"category\"]]\n",
        "df_pos.head()"
      ]
    },
    {
      "cell_type": "markdown",
      "metadata": {
        "id": "V2iOoomSwTeH"
      },
      "source": [
        "**Merging Positive and Negative dataset**"
      ]
    },
    {
      "cell_type": "code",
      "execution_count": 11,
      "metadata": {
        "colab": {
          "base_uri": "https://localhost:8080/",
          "height": 207
        },
        "id": "3ju23pYJrcxT",
        "outputId": "55b424a2-f0b4-4f9a-ed11-d058004c7bf9"
      },
      "outputs": [
        {
          "output_type": "execute_result",
          "data": {
            "text/plain": [
              "                                                text category\n",
              "0   Clioquinol intoxication occurring in the trea...      neg\n",
              "1   \"Retinoic acid syndrome\" was prevented with s...      neg\n",
              "2   BACKGROUND: External beam radiation therapy o...      neg\n",
              "3   Although the enuresis ceased, she developed t...      neg\n",
              "4   A 42-year-old woman had uneventful bilateral ...      neg"
            ],
            "text/html": [
              "\n",
              "  <div id=\"df-d85df39a-be5c-4e8d-9a5d-3ade9dc2dbca\" class=\"colab-df-container\">\n",
              "    <div>\n",
              "<style scoped>\n",
              "    .dataframe tbody tr th:only-of-type {\n",
              "        vertical-align: middle;\n",
              "    }\n",
              "\n",
              "    .dataframe tbody tr th {\n",
              "        vertical-align: top;\n",
              "    }\n",
              "\n",
              "    .dataframe thead th {\n",
              "        text-align: right;\n",
              "    }\n",
              "</style>\n",
              "<table border=\"1\" class=\"dataframe\">\n",
              "  <thead>\n",
              "    <tr style=\"text-align: right;\">\n",
              "      <th></th>\n",
              "      <th>text</th>\n",
              "      <th>category</th>\n",
              "    </tr>\n",
              "  </thead>\n",
              "  <tbody>\n",
              "    <tr>\n",
              "      <th>0</th>\n",
              "      <td>Clioquinol intoxication occurring in the trea...</td>\n",
              "      <td>neg</td>\n",
              "    </tr>\n",
              "    <tr>\n",
              "      <th>1</th>\n",
              "      <td>\"Retinoic acid syndrome\" was prevented with s...</td>\n",
              "      <td>neg</td>\n",
              "    </tr>\n",
              "    <tr>\n",
              "      <th>2</th>\n",
              "      <td>BACKGROUND: External beam radiation therapy o...</td>\n",
              "      <td>neg</td>\n",
              "    </tr>\n",
              "    <tr>\n",
              "      <th>3</th>\n",
              "      <td>Although the enuresis ceased, she developed t...</td>\n",
              "      <td>neg</td>\n",
              "    </tr>\n",
              "    <tr>\n",
              "      <th>4</th>\n",
              "      <td>A 42-year-old woman had uneventful bilateral ...</td>\n",
              "      <td>neg</td>\n",
              "    </tr>\n",
              "  </tbody>\n",
              "</table>\n",
              "</div>\n",
              "    <div class=\"colab-df-buttons\">\n",
              "\n",
              "  <div class=\"colab-df-container\">\n",
              "    <button class=\"colab-df-convert\" onclick=\"convertToInteractive('df-d85df39a-be5c-4e8d-9a5d-3ade9dc2dbca')\"\n",
              "            title=\"Convert this dataframe to an interactive table.\"\n",
              "            style=\"display:none;\">\n",
              "\n",
              "  <svg xmlns=\"http://www.w3.org/2000/svg\" height=\"24px\" viewBox=\"0 -960 960 960\">\n",
              "    <path d=\"M120-120v-720h720v720H120Zm60-500h600v-160H180v160Zm220 220h160v-160H400v160Zm0 220h160v-160H400v160ZM180-400h160v-160H180v160Zm440 0h160v-160H620v160ZM180-180h160v-160H180v160Zm440 0h160v-160H620v160Z\"/>\n",
              "  </svg>\n",
              "    </button>\n",
              "\n",
              "  <style>\n",
              "    .colab-df-container {\n",
              "      display:flex;\n",
              "      gap: 12px;\n",
              "    }\n",
              "\n",
              "    .colab-df-convert {\n",
              "      background-color: #E8F0FE;\n",
              "      border: none;\n",
              "      border-radius: 50%;\n",
              "      cursor: pointer;\n",
              "      display: none;\n",
              "      fill: #1967D2;\n",
              "      height: 32px;\n",
              "      padding: 0 0 0 0;\n",
              "      width: 32px;\n",
              "    }\n",
              "\n",
              "    .colab-df-convert:hover {\n",
              "      background-color: #E2EBFA;\n",
              "      box-shadow: 0px 1px 2px rgba(60, 64, 67, 0.3), 0px 1px 3px 1px rgba(60, 64, 67, 0.15);\n",
              "      fill: #174EA6;\n",
              "    }\n",
              "\n",
              "    .colab-df-buttons div {\n",
              "      margin-bottom: 4px;\n",
              "    }\n",
              "\n",
              "    [theme=dark] .colab-df-convert {\n",
              "      background-color: #3B4455;\n",
              "      fill: #D2E3FC;\n",
              "    }\n",
              "\n",
              "    [theme=dark] .colab-df-convert:hover {\n",
              "      background-color: #434B5C;\n",
              "      box-shadow: 0px 1px 3px 1px rgba(0, 0, 0, 0.15);\n",
              "      filter: drop-shadow(0px 1px 2px rgba(0, 0, 0, 0.3));\n",
              "      fill: #FFFFFF;\n",
              "    }\n",
              "  </style>\n",
              "\n",
              "    <script>\n",
              "      const buttonEl =\n",
              "        document.querySelector('#df-d85df39a-be5c-4e8d-9a5d-3ade9dc2dbca button.colab-df-convert');\n",
              "      buttonEl.style.display =\n",
              "        google.colab.kernel.accessAllowed ? 'block' : 'none';\n",
              "\n",
              "      async function convertToInteractive(key) {\n",
              "        const element = document.querySelector('#df-d85df39a-be5c-4e8d-9a5d-3ade9dc2dbca');\n",
              "        const dataTable =\n",
              "          await google.colab.kernel.invokeFunction('convertToInteractive',\n",
              "                                                    [key], {});\n",
              "        if (!dataTable) return;\n",
              "\n",
              "        const docLinkHtml = 'Like what you see? Visit the ' +\n",
              "          '<a target=\"_blank\" href=https://colab.research.google.com/notebooks/data_table.ipynb>data table notebook</a>'\n",
              "          + ' to learn more about interactive tables.';\n",
              "        element.innerHTML = '';\n",
              "        dataTable['output_type'] = 'display_data';\n",
              "        await google.colab.output.renderOutput(dataTable, element);\n",
              "        const docLink = document.createElement('div');\n",
              "        docLink.innerHTML = docLinkHtml;\n",
              "        element.appendChild(docLink);\n",
              "      }\n",
              "    </script>\n",
              "  </div>\n",
              "\n",
              "\n",
              "    <div id=\"df-9c700887-0028-409e-a8e8-f18a8ad516b1\">\n",
              "      <button class=\"colab-df-quickchart\" onclick=\"quickchart('df-9c700887-0028-409e-a8e8-f18a8ad516b1')\"\n",
              "                title=\"Suggest charts\"\n",
              "                style=\"display:none;\">\n",
              "\n",
              "<svg xmlns=\"http://www.w3.org/2000/svg\" height=\"24px\"viewBox=\"0 0 24 24\"\n",
              "     width=\"24px\">\n",
              "    <g>\n",
              "        <path d=\"M19 3H5c-1.1 0-2 .9-2 2v14c0 1.1.9 2 2 2h14c1.1 0 2-.9 2-2V5c0-1.1-.9-2-2-2zM9 17H7v-7h2v7zm4 0h-2V7h2v10zm4 0h-2v-4h2v4z\"/>\n",
              "    </g>\n",
              "</svg>\n",
              "      </button>\n",
              "\n",
              "<style>\n",
              "  .colab-df-quickchart {\n",
              "      --bg-color: #E8F0FE;\n",
              "      --fill-color: #1967D2;\n",
              "      --hover-bg-color: #E2EBFA;\n",
              "      --hover-fill-color: #174EA6;\n",
              "      --disabled-fill-color: #AAA;\n",
              "      --disabled-bg-color: #DDD;\n",
              "  }\n",
              "\n",
              "  [theme=dark] .colab-df-quickchart {\n",
              "      --bg-color: #3B4455;\n",
              "      --fill-color: #D2E3FC;\n",
              "      --hover-bg-color: #434B5C;\n",
              "      --hover-fill-color: #FFFFFF;\n",
              "      --disabled-bg-color: #3B4455;\n",
              "      --disabled-fill-color: #666;\n",
              "  }\n",
              "\n",
              "  .colab-df-quickchart {\n",
              "    background-color: var(--bg-color);\n",
              "    border: none;\n",
              "    border-radius: 50%;\n",
              "    cursor: pointer;\n",
              "    display: none;\n",
              "    fill: var(--fill-color);\n",
              "    height: 32px;\n",
              "    padding: 0;\n",
              "    width: 32px;\n",
              "  }\n",
              "\n",
              "  .colab-df-quickchart:hover {\n",
              "    background-color: var(--hover-bg-color);\n",
              "    box-shadow: 0 1px 2px rgba(60, 64, 67, 0.3), 0 1px 3px 1px rgba(60, 64, 67, 0.15);\n",
              "    fill: var(--button-hover-fill-color);\n",
              "  }\n",
              "\n",
              "  .colab-df-quickchart-complete:disabled,\n",
              "  .colab-df-quickchart-complete:disabled:hover {\n",
              "    background-color: var(--disabled-bg-color);\n",
              "    fill: var(--disabled-fill-color);\n",
              "    box-shadow: none;\n",
              "  }\n",
              "\n",
              "  .colab-df-spinner {\n",
              "    border: 2px solid var(--fill-color);\n",
              "    border-color: transparent;\n",
              "    border-bottom-color: var(--fill-color);\n",
              "    animation:\n",
              "      spin 1s steps(1) infinite;\n",
              "  }\n",
              "\n",
              "  @keyframes spin {\n",
              "    0% {\n",
              "      border-color: transparent;\n",
              "      border-bottom-color: var(--fill-color);\n",
              "      border-left-color: var(--fill-color);\n",
              "    }\n",
              "    20% {\n",
              "      border-color: transparent;\n",
              "      border-left-color: var(--fill-color);\n",
              "      border-top-color: var(--fill-color);\n",
              "    }\n",
              "    30% {\n",
              "      border-color: transparent;\n",
              "      border-left-color: var(--fill-color);\n",
              "      border-top-color: var(--fill-color);\n",
              "      border-right-color: var(--fill-color);\n",
              "    }\n",
              "    40% {\n",
              "      border-color: transparent;\n",
              "      border-right-color: var(--fill-color);\n",
              "      border-top-color: var(--fill-color);\n",
              "    }\n",
              "    60% {\n",
              "      border-color: transparent;\n",
              "      border-right-color: var(--fill-color);\n",
              "    }\n",
              "    80% {\n",
              "      border-color: transparent;\n",
              "      border-right-color: var(--fill-color);\n",
              "      border-bottom-color: var(--fill-color);\n",
              "    }\n",
              "    90% {\n",
              "      border-color: transparent;\n",
              "      border-bottom-color: var(--fill-color);\n",
              "    }\n",
              "  }\n",
              "</style>\n",
              "\n",
              "      <script>\n",
              "        async function quickchart(key) {\n",
              "          const quickchartButtonEl =\n",
              "            document.querySelector('#' + key + ' button');\n",
              "          quickchartButtonEl.disabled = true;  // To prevent multiple clicks.\n",
              "          quickchartButtonEl.classList.add('colab-df-spinner');\n",
              "          try {\n",
              "            const charts = await google.colab.kernel.invokeFunction(\n",
              "                'suggestCharts', [key], {});\n",
              "          } catch (error) {\n",
              "            console.error('Error during call to suggestCharts:', error);\n",
              "          }\n",
              "          quickchartButtonEl.classList.remove('colab-df-spinner');\n",
              "          quickchartButtonEl.classList.add('colab-df-quickchart-complete');\n",
              "        }\n",
              "        (() => {\n",
              "          let quickchartButtonEl =\n",
              "            document.querySelector('#df-9c700887-0028-409e-a8e8-f18a8ad516b1 button');\n",
              "          quickchartButtonEl.style.display =\n",
              "            google.colab.kernel.accessAllowed ? 'block' : 'none';\n",
              "        })();\n",
              "      </script>\n",
              "    </div>\n",
              "\n",
              "    </div>\n",
              "  </div>\n"
            ],
            "application/vnd.google.colaboratory.intrinsic+json": {
              "type": "dataframe",
              "variable_name": "ade_df",
              "summary": "{\n  \"name\": \"ade_df\",\n  \"rows\": 23516,\n  \"fields\": [\n    {\n      \"column\": \"text\",\n      \"properties\": {\n        \"dtype\": \"string\",\n        \"num_unique_values\": 20896,\n        \"samples\": [\n          \" No regional side effects were noted.\",\n          \" We describe the case of a 10-year-old girl with two epileptic seizures and subcontinuous spike-waves during sleep, who presented unusual side-effects related to clobazam (CLB) monotherapy.\",\n          \" The INR should be monitored more frequently when bosentan is initiated, adjusted, or discontinued in patients taking warfarin.\"\n        ],\n        \"semantic_type\": \"\",\n        \"description\": \"\"\n      }\n    },\n    {\n      \"column\": \"category\",\n      \"properties\": {\n        \"dtype\": \"category\",\n        \"num_unique_values\": 2,\n        \"samples\": [\n          \"pos\",\n          \"neg\"\n        ],\n        \"semantic_type\": \"\",\n        \"description\": \"\"\n      }\n    }\n  ]\n}"
            }
          },
          "metadata": {},
          "execution_count": 11
        }
      ],
      "source": [
        "ade_df= pd.concat([df_neg, df_pos])\n",
        "ade_df.head()"
      ]
    },
    {
      "cell_type": "code",
      "execution_count": 12,
      "metadata": {
        "colab": {
          "base_uri": "https://localhost:8080/",
          "height": 179
        },
        "id": "Lg_RjRi1lFUa",
        "outputId": "08ff3097-81bd-423c-8211-ab5805c643d0"
      },
      "outputs": [
        {
          "output_type": "execute_result",
          "data": {
            "text/plain": [
              "category\n",
              "neg    16695\n",
              "pos     6821\n",
              "Name: count, dtype: int64"
            ],
            "text/html": [
              "<div>\n",
              "<style scoped>\n",
              "    .dataframe tbody tr th:only-of-type {\n",
              "        vertical-align: middle;\n",
              "    }\n",
              "\n",
              "    .dataframe tbody tr th {\n",
              "        vertical-align: top;\n",
              "    }\n",
              "\n",
              "    .dataframe thead th {\n",
              "        text-align: right;\n",
              "    }\n",
              "</style>\n",
              "<table border=\"1\" class=\"dataframe\">\n",
              "  <thead>\n",
              "    <tr style=\"text-align: right;\">\n",
              "      <th></th>\n",
              "      <th>count</th>\n",
              "    </tr>\n",
              "    <tr>\n",
              "      <th>category</th>\n",
              "      <th></th>\n",
              "    </tr>\n",
              "  </thead>\n",
              "  <tbody>\n",
              "    <tr>\n",
              "      <th>neg</th>\n",
              "      <td>16695</td>\n",
              "    </tr>\n",
              "    <tr>\n",
              "      <th>pos</th>\n",
              "      <td>6821</td>\n",
              "    </tr>\n",
              "  </tbody>\n",
              "</table>\n",
              "</div><br><label><b>dtype:</b> int64</label>"
            ]
          },
          "metadata": {},
          "execution_count": 12
        }
      ],
      "source": [
        "ade_df[\"category\"].value_counts()"
      ]
    },
    {
      "cell_type": "code",
      "execution_count": 13,
      "metadata": {
        "colab": {
          "base_uri": "https://localhost:8080/"
        },
        "id": "wMWdhHvjzGRp",
        "outputId": "163fecd3-33c0-43be-9d69-23f13954f5b6"
      },
      "outputs": [
        {
          "output_type": "stream",
          "name": "stdout",
          "text": [
            "<class 'pandas.core.frame.DataFrame'>\n",
            "Index: 23516 entries, 0 to 6820\n",
            "Data columns (total 2 columns):\n",
            " #   Column    Non-Null Count  Dtype \n",
            "---  ------    --------------  ----- \n",
            " 0   text      23516 non-null  object\n",
            " 1   category  23516 non-null  object\n",
            "dtypes: object(2)\n",
            "memory usage: 551.2+ KB\n"
          ]
        }
      ],
      "source": [
        "ade_df.info()"
      ]
    },
    {
      "cell_type": "markdown",
      "metadata": {
        "id": "d3QJwfWXYd2-"
      },
      "source": [
        "We take 30% of the data to make a faster run. You can use all data for better scores."
      ]
    },
    {
      "cell_type": "code",
      "execution_count": 14,
      "metadata": {
        "colab": {
          "base_uri": "https://localhost:8080/"
        },
        "id": "54RWnCr0yWL5",
        "outputId": "60451867-8255-4a68-97a3-2b70f47580a7"
      },
      "outputs": [
        {
          "output_type": "stream",
          "name": "stdout",
          "text": [
            "Training Dataset Count: 5606\n",
            "Test Dataset Count: 1473\n"
          ]
        }
      ],
      "source": [
        "spark_df = spark.createDataFrame(ade_df).sample(0.3, 3) # limit the data\n",
        "\n",
        "trainingData, testData = spark_df.randomSplit([0.8, 0.2], seed = 100)\n",
        "\n",
        "print(\"Training Dataset Count: \" + str(trainingData.count()))\n",
        "print(\"Test Dataset Count: \" + str(testData.count()))"
      ]
    },
    {
      "cell_type": "code",
      "execution_count": 15,
      "metadata": {
        "colab": {
          "base_uri": "https://localhost:8080/"
        },
        "id": "c3nAmtMmcu_q",
        "outputId": "716a5d25-233f-4d47-fc96-9b35f55211b7"
      },
      "outputs": [
        {
          "output_type": "stream",
          "name": "stdout",
          "text": [
            "+--------+-----+\n",
            "|category|count|\n",
            "+--------+-----+\n",
            "|     neg| 5028|\n",
            "|     pos| 2051|\n",
            "+--------+-----+\n",
            "\n"
          ]
        }
      ],
      "source": [
        "spark_df.groupBy(\"category\").count().show()"
      ]
    },
    {
      "cell_type": "code",
      "execution_count": 16,
      "metadata": {
        "colab": {
          "base_uri": "https://localhost:8080/"
        },
        "id": "UXGiAxzX_RJd",
        "outputId": "7fc90a3a-b46c-46fc-ef48-e2d25faeaec3"
      },
      "outputs": [
        {
          "output_type": "stream",
          "name": "stdout",
          "text": [
            "root\n",
            " |-- text: string (nullable = true)\n",
            " |-- category: string (nullable = true)\n",
            "\n"
          ]
        }
      ],
      "source": [
        "spark_df.printSchema()"
      ]
    },
    {
      "cell_type": "code",
      "execution_count": 17,
      "metadata": {
        "colab": {
          "base_uri": "https://localhost:8080/"
        },
        "id": "fnTr4Bs_seoA",
        "outputId": "eef6d4cf-3c45-448d-8686-0edd2371378c"
      },
      "outputs": [
        {
          "output_type": "execute_result",
          "data": {
            "text/plain": [
              "[Row(text=' Clioquinol intoxication occurring in the treatment of acrodermatitis enteropathica with reference to SMON outside of Japan.', category='neg'),\n",
              " Row(text=' A 42-year-old woman had uneventful bilateral laser-assisted subepithelial keratectomy (LASEK) to correct myopia.', category='neg'),\n",
              " Row(text=' A 16-year-old girl with erosive, polyarticular JRA showed no detectable change in her articular disease following nine exchanges.', category='neg')]"
            ]
          },
          "metadata": {},
          "execution_count": 17
        }
      ],
      "source": [
        "spark_df.head(3)"
      ]
    },
    {
      "cell_type": "markdown",
      "metadata": {
        "id": "BCAJFO4YDbcj"
      },
      "source": [
        "## 100 Dimension Healthcare Embeddings (embeddings_healthcare_100d)\n",
        "\n"
      ]
    },
    {
      "cell_type": "markdown",
      "metadata": {
        "id": "oDySIR35ECjy"
      },
      "source": [
        "Now we will extract [healthcare_100d embeddings](https://nlp.johnsnowlabs.com/2020/05/29/embeddings_healthcare_100d_en.html) and use it in the classificaiton model training."
      ]
    },
    {
      "cell_type": "code",
      "execution_count": 18,
      "metadata": {
        "colab": {
          "base_uri": "https://localhost:8080/"
        },
        "id": "oxFX8bVEDbcj",
        "outputId": "4ac15e2a-635d-4d8d-8ccd-c548e3a5dfea"
      },
      "outputs": [
        {
          "output_type": "stream",
          "name": "stdout",
          "text": [
            "embeddings_healthcare_100d download started this may take some time.\n",
            "Approximate size to download 475.8 MB\n",
            "[OK!]\n"
          ]
        }
      ],
      "source": [
        "document_assembler = nlp.DocumentAssembler()\\\n",
        "    .setInputCol(\"text\")\\\n",
        "    .setOutputCol(\"document\")\n",
        "\n",
        "tokenizer = nlp.Tokenizer() \\\n",
        "    .setInputCols([\"document\"]) \\\n",
        "    .setOutputCol(\"token\")\n",
        "\n",
        "word_embeddings = nlp.WordEmbeddingsModel.pretrained(\"embeddings_healthcare_100d\",\"en\",\"clinical/models\")\\\n",
        "    .setInputCols([\"document\",\"token\"])\\\n",
        "    .setOutputCol(\"word_embeddings\")\n",
        "\n",
        "sentence_embeddings = nlp.SentenceEmbeddings() \\\n",
        "    .setInputCols([\"document\", \"word_embeddings\"]) \\\n",
        "    .setOutputCol(\"sentence_embeddings\") \\\n",
        "    .setPoolingStrategy(\"AVERAGE\")\n",
        "\n",
        "embeddings_pipeline = nlp.Pipeline(\n",
        "    stages = [\n",
        "        document_assembler,\n",
        "        tokenizer,\n",
        "        word_embeddings,\n",
        "        sentence_embeddings,\n",
        "\n",
        "    ])"
      ]
    },
    {
      "cell_type": "code",
      "execution_count": 19,
      "metadata": {
        "colab": {
          "base_uri": "https://localhost:8080/"
        },
        "id": "ihBi5IicDbcj",
        "outputId": "fac2b441-2e9d-4d0e-b84c-07f207d11f12"
      },
      "outputs": [
        {
          "output_type": "stream",
          "name": "stdout",
          "text": [
            "+------------------------------------------------------------+--------+------------------------------------------------------------+\n",
            "|                                                        text|category|                                         sentence_embeddings|\n",
            "+------------------------------------------------------------+--------+------------------------------------------------------------+\n",
            "| 'Bail-out' bivalirudin use in patients with thrombotic c...|     neg|[{sentence_embeddings, 0, 150,  'Bail-out' bivalirudin us...|\n",
            "| (4) The acute rehabilitation of a 21-year-old woman with...|     neg|[{sentence_embeddings, 0, 182,  (4) The acute rehabilitat...|\n",
            "+------------------------------------------------------------+--------+------------------------------------------------------------+\n",
            "only showing top 2 rows\n",
            "\n"
          ]
        }
      ],
      "source": [
        "trainingData_with_embeddings = embeddings_pipeline.fit(trainingData).transform(trainingData)\n",
        "trainingData_with_embeddings = trainingData_with_embeddings.select(\"text\",\"category\",\"sentence_embeddings\")\n",
        "trainingData_with_embeddings.show(2,truncate=60)"
      ]
    },
    {
      "cell_type": "code",
      "execution_count": 20,
      "metadata": {
        "colab": {
          "base_uri": "https://localhost:8080/"
        },
        "id": "yGWfNABSDbck",
        "outputId": "77e6b64d-6dcf-469b-bc3e-26ad59a51658"
      },
      "outputs": [
        {
          "output_type": "stream",
          "name": "stdout",
          "text": [
            "+------------------------------------------------------------+--------+------------------------------------------------------------+\n",
            "|                                                        text|category|                                         sentence_embeddings|\n",
            "+------------------------------------------------------------+--------+------------------------------------------------------------+\n",
            "| A 15-year-old boy had temporary hypertropia, supraductio...|     neg|[{sentence_embeddings, 0, 262,  A 15-year-old boy had tem...|\n",
            "| A 51-year-old-woman presented with chronic eosinophilia,...|     neg|[{sentence_embeddings, 0, 139,  A 51-year-old-woman prese...|\n",
            "+------------------------------------------------------------+--------+------------------------------------------------------------+\n",
            "only showing top 2 rows\n",
            "\n"
          ]
        }
      ],
      "source": [
        "testData_with_embeddings = embeddings_pipeline.fit(testData).transform(testData)\n",
        "testData_with_embeddings = testData_with_embeddings.select(\"text\",\"category\",\"sentence_embeddings\")\n",
        "testData_with_embeddings.show(2,truncate=60)"
      ]
    },
    {
      "cell_type": "code",
      "execution_count": 21,
      "metadata": {
        "colab": {
          "base_uri": "https://localhost:8080/"
        },
        "id": "jC4RxfRuqrj1",
        "outputId": "73160fdc-86e2-49c1-f33b-b4fc8b88fd9f"
      },
      "outputs": [
        {
          "output_type": "stream",
          "name": "stdout",
          "text": [
            "root\n",
            " |-- text: string (nullable = true)\n",
            " |-- category: string (nullable = true)\n",
            " |-- sentence_embeddings: array (nullable = true)\n",
            " |    |-- element: struct (containsNull = true)\n",
            " |    |    |-- annotatorType: string (nullable = true)\n",
            " |    |    |-- begin: integer (nullable = false)\n",
            " |    |    |-- end: integer (nullable = false)\n",
            " |    |    |-- result: string (nullable = true)\n",
            " |    |    |-- metadata: map (nullable = true)\n",
            " |    |    |    |-- key: string\n",
            " |    |    |    |-- value: string (valueContainsNull = true)\n",
            " |    |    |-- embeddings: array (nullable = true)\n",
            " |    |    |    |-- element: float (containsNull = false)\n",
            "\n"
          ]
        }
      ],
      "source": [
        "testData_with_embeddings.printSchema()"
      ]
    },
    {
      "cell_type": "code",
      "execution_count": 22,
      "metadata": {
        "colab": {
          "base_uri": "https://localhost:8080/"
        },
        "id": "YfN3PwLxqS4r",
        "outputId": "7b43022f-8b3a-44f2-d2d7-51dca8accbe6"
      },
      "outputs": [
        {
          "output_type": "stream",
          "name": "stdout",
          "text": [
            "+------------------------------------------------------------------------------------------------------------------------+\n",
            "|                                                                                          sentence_embeddings.embeddings|\n",
            "+------------------------------------------------------------------------------------------------------------------------+\n",
            "|[[0.036828704, 0.052321058, 0.11382609, -0.05798419, -0.1450678, 0.13031518, 0.13105926, 0.077215254, -0.11359191, -0...|\n",
            "|[[0.04241796, 0.10478715, 0.042885326, 0.06311753, -0.3185922, 0.046458624, 0.17697075, -0.037831675, -0.01754189, -0...|\n",
            "|[[0.057804022, 0.047698125, 0.06304918, 0.15662706, -0.04416214, -0.06267688, 0.08489624, -0.0543084, -0.0027059284, ...|\n",
            "+------------------------------------------------------------------------------------------------------------------------+\n",
            "only showing top 3 rows\n",
            "\n"
          ]
        }
      ],
      "source": [
        "testData_with_embeddings.select(testData_with_embeddings.sentence_embeddings.embeddings).show(3,truncate=120)"
      ]
    },
    {
      "cell_type": "code",
      "execution_count": 23,
      "metadata": {
        "id": "C4nDUXMnadqo"
      },
      "outputs": [],
      "source": [
        "log_folder=\"ADE_logs_healthcare_100d\"\n",
        "!mkdir -p $log_folder"
      ]
    },
    {
      "cell_type": "markdown",
      "metadata": {
        "id": "Q9MywCqKDbck"
      },
      "source": [
        "### ClassifierDL"
      ]
    },
    {
      "cell_type": "code",
      "execution_count": 24,
      "metadata": {
        "id": "EhvRGlkmDbck"
      },
      "outputs": [],
      "source": [
        "classifier_dl = nlp.ClassifierDLApproach()\\\n",
        "    .setInputCols([\"sentence_embeddings\"])\\\n",
        "    .setOutputCol(\"prediction\")\\\n",
        "    .setLabelColumn(\"category\")\\\n",
        "    .setBatchSize(16)\\\n",
        "    .setMaxEpochs(30)\\\n",
        "    .setLr(0.002)\\\n",
        "    .setDropout(0.3)\\\n",
        "    .setEnableOutputLogs(True)\\\n",
        "    .setOutputLogsPath(log_folder)\\\n",
        "    # .setValidationSplit(0.1)\n",
        "\n",
        "classifier_dl_pipeline = nlp.Pipeline(\n",
        "    stages = [\n",
        "        classifier_dl\n",
        "    ])"
      ]
    },
    {
      "cell_type": "code",
      "execution_count": 25,
      "metadata": {
        "id": "lM7Dpdx7Dbck"
      },
      "outputs": [],
      "source": [
        "clfDL_model_hc100 = classifier_dl_pipeline.fit(trainingData_with_embeddings)"
      ]
    },
    {
      "cell_type": "code",
      "execution_count": 26,
      "metadata": {
        "colab": {
          "base_uri": "https://localhost:8080/"
        },
        "id": "2UbziPErDbck",
        "outputId": "966f940f-ffae-44da-e7c5-afe8db71a6cd"
      },
      "outputs": [
        {
          "output_type": "stream",
          "name": "stdout",
          "text": [
            "Training started - epochs: 30 - learning_rate: 0.002 - batch_size: 16 - training_examples: 5606 - classes: 2\n",
            "Epoch 0/30 - 2.03s - loss: 187.2653 - acc: 0.7508929 - batches: 351\n",
            "Epoch 1/30 - 1.57s - loss: 171.21953 - acc: 0.8057143 - batches: 351\n",
            "Epoch 2/30 - 1.57s - loss: 166.90343 - acc: 0.82910717 - batches: 351\n",
            "Epoch 3/30 - 1.53s - loss: 165.06546 - acc: 0.84375 - batches: 351\n",
            "Epoch 4/30 - 1.56s - loss: 163.14418 - acc: 0.8519643 - batches: 351\n",
            "Epoch 5/30 - 1.57s - loss: 161.43214 - acc: 0.85732144 - batches: 351\n",
            "Epoch 6/30 - 1.62s - loss: 159.96835 - acc: 0.8619643 - batches: 351\n",
            "Epoch 7/30 - 1.46s - loss: 158.72842 - acc: 0.86642855 - batches: 351\n",
            "Epoch 8/30 - 1.42s - loss: 157.59912 - acc: 0.8692857 - batches: 351\n",
            "Epoch 9/30 - 1.45s - loss: 156.61308 - acc: 0.87285715 - batches: 351\n",
            "Epoch 10/30 - 1.42s - loss: 155.77753 - acc: 0.87464285 - batches: 351\n",
            "Epoch 11/30 - 1.39s - loss: 155.01375 - acc: 0.87642854 - batches: 351\n",
            "Epoch 12/30 - 1.38s - loss: 154.33766 - acc: 0.87892854 - batches: 351\n",
            "Epoch 13/30 - 1.33s - loss: 153.72937 - acc: 0.8814286 - batches: 351\n",
            "Epoch 14/30 - 1.40s - loss: 153.17763 - acc: 0.8841072 - batches: 351\n",
            "Epoch 15/30 - 1.37s - loss: 152.7156 - acc: 0.88589287 - batches: 351\n",
            "Epoch 16/30 - 1.41s - loss: 152.30281 - acc: 0.8880357 - batches: 351\n",
            "Epoch 17/30 - 1.42s - loss: 151.90865 - acc: 0.89089286 - batches: 351\n",
            "Epoch 18/30 - 1.45s - loss: 151.5197 - acc: 0.89267856 - batches: 351\n",
            "Epoch 19/30 - 1.35s - loss: 151.11864 - acc: 0.89375 - batches: 351\n",
            "Epoch 20/30 - 1.40s - loss: 150.75032 - acc: 0.8948214 - batches: 351\n",
            "Epoch 21/30 - 1.36s - loss: 150.35916 - acc: 0.8964286 - batches: 351\n",
            "Epoch 22/30 - 1.38s - loss: 149.99112 - acc: 0.8973214 - batches: 351\n",
            "Epoch 23/30 - 1.41s - loss: 149.60579 - acc: 0.8980357 - batches: 351\n",
            "Epoch 24/30 - 1.39s - loss: 149.21432 - acc: 0.89857143 - batches: 351\n",
            "Epoch 25/30 - 1.44s - loss: 148.81885 - acc: 0.9 - batches: 351\n",
            "Epoch 26/30 - 1.37s - loss: 148.41928 - acc: 0.9005357 - batches: 351\n",
            "Epoch 27/30 - 1.37s - loss: 148.04106 - acc: 0.9019643 - batches: 351\n",
            "Epoch 28/30 - 1.37s - loss: 147.65944 - acc: 0.9032143 - batches: 351\n",
            "Epoch 29/30 - 1.38s - loss: 147.29002 - acc: 0.90482146 - batches: 351\n"
          ]
        }
      ],
      "source": [
        "!cat $log_folder/ClassifierDLApproach_*"
      ]
    },
    {
      "cell_type": "code",
      "execution_count": 27,
      "metadata": {
        "id": "w7Wzu_40qH6T"
      },
      "outputs": [],
      "source": [
        "preds = clfDL_model_hc100.transform(testData_with_embeddings).cache()"
      ]
    },
    {
      "cell_type": "code",
      "execution_count": 28,
      "metadata": {
        "colab": {
          "base_uri": "https://localhost:8080/"
        },
        "id": "oeqPLNbZvuJQ",
        "outputId": "09f64118-8670-401e-d0e2-f49c27a2ef9b"
      },
      "outputs": [
        {
          "output_type": "stream",
          "name": "stdout",
          "text": [
            "root\n",
            " |-- text: string (nullable = true)\n",
            " |-- category: string (nullable = true)\n",
            " |-- sentence_embeddings: array (nullable = true)\n",
            " |    |-- element: struct (containsNull = true)\n",
            " |    |    |-- annotatorType: string (nullable = true)\n",
            " |    |    |-- begin: integer (nullable = false)\n",
            " |    |    |-- end: integer (nullable = false)\n",
            " |    |    |-- result: string (nullable = true)\n",
            " |    |    |-- metadata: map (nullable = true)\n",
            " |    |    |    |-- key: string\n",
            " |    |    |    |-- value: string (valueContainsNull = true)\n",
            " |    |    |-- embeddings: array (nullable = true)\n",
            " |    |    |    |-- element: float (containsNull = false)\n",
            " |-- prediction: array (nullable = true)\n",
            " |    |-- element: struct (containsNull = true)\n",
            " |    |    |-- annotatorType: string (nullable = true)\n",
            " |    |    |-- begin: integer (nullable = false)\n",
            " |    |    |-- end: integer (nullable = false)\n",
            " |    |    |-- result: string (nullable = true)\n",
            " |    |    |-- metadata: map (nullable = true)\n",
            " |    |    |    |-- key: string\n",
            " |    |    |    |-- value: string (valueContainsNull = true)\n",
            " |    |    |-- embeddings: array (nullable = true)\n",
            " |    |    |    |-- element: float (containsNull = false)\n",
            "\n",
            "+------------------------------------------------------------------------------------+\n",
            "|prediction                                                                          |\n",
            "+------------------------------------------------------------------------------------+\n",
            "|[{category, 0, 262, neg, {sentence -> 0, neg -> 1.0, pos -> 1.2303727E-8}, []}]     |\n",
            "|[{category, 0, 139, neg, {sentence -> 0, neg -> 0.9992624, pos -> 7.376011E-4}, []}]|\n",
            "|[{category, 0, 130, pos, {sentence -> 0, neg -> 0.24881439, pos -> 0.75118566}, []}]|\n",
            "|[{category, 0, 80, pos, {sentence -> 0, neg -> 0.14033714, pos -> 0.85966283}, []}] |\n",
            "|[{category, 0, 89, neg, {sentence -> 0, neg -> 0.9999987, pos -> 1.2689407E-6}, []}]|\n",
            "+------------------------------------------------------------------------------------+\n",
            "only showing top 5 rows\n",
            "\n",
            "+--------+-----------------+\n",
            "|category|prediction.result|\n",
            "+--------+-----------------+\n",
            "|neg     |[neg]            |\n",
            "|neg     |[neg]            |\n",
            "|neg     |[pos]            |\n",
            "|neg     |[pos]            |\n",
            "|neg     |[neg]            |\n",
            "+--------+-----------------+\n",
            "only showing top 5 rows\n",
            "\n"
          ]
        }
      ],
      "source": [
        "preds.printSchema()\n",
        "preds.select(preds.prediction).show(5, truncate=False)\n",
        "preds.select(preds.category, preds.prediction.result).show(5, truncate=False)"
      ]
    },
    {
      "cell_type": "code",
      "execution_count": 29,
      "metadata": {
        "colab": {
          "base_uri": "https://localhost:8080/"
        },
        "id": "l0yEqGcJDbck",
        "outputId": "c13bb36a-e75a-48fc-8007-dd015d8975a5"
      },
      "outputs": [
        {
          "output_type": "stream",
          "name": "stdout",
          "text": [
            "              precision    recall  f1-score   support\n",
            "\n",
            "         neg       0.88      0.89      0.88      1057\n",
            "         pos       0.70      0.68      0.69       416\n",
            "\n",
            "    accuracy                           0.83      1473\n",
            "   macro avg       0.79      0.78      0.79      1473\n",
            "weighted avg       0.83      0.83      0.83      1473\n",
            "\n"
          ]
        }
      ],
      "source": [
        "preds_df = preds.select(\"category\",\"text\",\"prediction.result\").toPandas()\n",
        "preds_df[\"result\"] = preds_df[\"result\"].apply(lambda x : x[0])\n",
        "\n",
        "print (classification_report(preds_df[\"category\"], preds_df[\"result\"]))"
      ]
    },
    {
      "cell_type": "code",
      "execution_count": 30,
      "metadata": {
        "colab": {
          "base_uri": "https://localhost:8080/",
          "height": 89
        },
        "id": "plDgtjcK54CV",
        "outputId": "ffc6c4b4-d1db-456c-9f28-7b2051c41ced"
      },
      "outputs": [
        {
          "output_type": "execute_result",
          "data": {
            "text/plain": [
              "                   pos-f1-score  accuracy\n",
              "ClassifierDL_100d      0.690244  0.827563"
            ],
            "text/html": [
              "\n",
              "  <div id=\"df-6cbccb7c-b684-487a-afe3-1f2064b30d70\" class=\"colab-df-container\">\n",
              "    <div>\n",
              "<style scoped>\n",
              "    .dataframe tbody tr th:only-of-type {\n",
              "        vertical-align: middle;\n",
              "    }\n",
              "\n",
              "    .dataframe tbody tr th {\n",
              "        vertical-align: top;\n",
              "    }\n",
              "\n",
              "    .dataframe thead th {\n",
              "        text-align: right;\n",
              "    }\n",
              "</style>\n",
              "<table border=\"1\" class=\"dataframe\">\n",
              "  <thead>\n",
              "    <tr style=\"text-align: right;\">\n",
              "      <th></th>\n",
              "      <th>pos-f1-score</th>\n",
              "      <th>accuracy</th>\n",
              "    </tr>\n",
              "  </thead>\n",
              "  <tbody>\n",
              "    <tr>\n",
              "      <th>ClassifierDL_100d</th>\n",
              "      <td>0.690244</td>\n",
              "      <td>0.827563</td>\n",
              "    </tr>\n",
              "  </tbody>\n",
              "</table>\n",
              "</div>\n",
              "    <div class=\"colab-df-buttons\">\n",
              "\n",
              "  <div class=\"colab-df-container\">\n",
              "    <button class=\"colab-df-convert\" onclick=\"convertToInteractive('df-6cbccb7c-b684-487a-afe3-1f2064b30d70')\"\n",
              "            title=\"Convert this dataframe to an interactive table.\"\n",
              "            style=\"display:none;\">\n",
              "\n",
              "  <svg xmlns=\"http://www.w3.org/2000/svg\" height=\"24px\" viewBox=\"0 -960 960 960\">\n",
              "    <path d=\"M120-120v-720h720v720H120Zm60-500h600v-160H180v160Zm220 220h160v-160H400v160Zm0 220h160v-160H400v160ZM180-400h160v-160H180v160Zm440 0h160v-160H620v160ZM180-180h160v-160H180v160Zm440 0h160v-160H620v160Z\"/>\n",
              "  </svg>\n",
              "    </button>\n",
              "\n",
              "  <style>\n",
              "    .colab-df-container {\n",
              "      display:flex;\n",
              "      gap: 12px;\n",
              "    }\n",
              "\n",
              "    .colab-df-convert {\n",
              "      background-color: #E8F0FE;\n",
              "      border: none;\n",
              "      border-radius: 50%;\n",
              "      cursor: pointer;\n",
              "      display: none;\n",
              "      fill: #1967D2;\n",
              "      height: 32px;\n",
              "      padding: 0 0 0 0;\n",
              "      width: 32px;\n",
              "    }\n",
              "\n",
              "    .colab-df-convert:hover {\n",
              "      background-color: #E2EBFA;\n",
              "      box-shadow: 0px 1px 2px rgba(60, 64, 67, 0.3), 0px 1px 3px 1px rgba(60, 64, 67, 0.15);\n",
              "      fill: #174EA6;\n",
              "    }\n",
              "\n",
              "    .colab-df-buttons div {\n",
              "      margin-bottom: 4px;\n",
              "    }\n",
              "\n",
              "    [theme=dark] .colab-df-convert {\n",
              "      background-color: #3B4455;\n",
              "      fill: #D2E3FC;\n",
              "    }\n",
              "\n",
              "    [theme=dark] .colab-df-convert:hover {\n",
              "      background-color: #434B5C;\n",
              "      box-shadow: 0px 1px 3px 1px rgba(0, 0, 0, 0.15);\n",
              "      filter: drop-shadow(0px 1px 2px rgba(0, 0, 0, 0.3));\n",
              "      fill: #FFFFFF;\n",
              "    }\n",
              "  </style>\n",
              "\n",
              "    <script>\n",
              "      const buttonEl =\n",
              "        document.querySelector('#df-6cbccb7c-b684-487a-afe3-1f2064b30d70 button.colab-df-convert');\n",
              "      buttonEl.style.display =\n",
              "        google.colab.kernel.accessAllowed ? 'block' : 'none';\n",
              "\n",
              "      async function convertToInteractive(key) {\n",
              "        const element = document.querySelector('#df-6cbccb7c-b684-487a-afe3-1f2064b30d70');\n",
              "        const dataTable =\n",
              "          await google.colab.kernel.invokeFunction('convertToInteractive',\n",
              "                                                    [key], {});\n",
              "        if (!dataTable) return;\n",
              "\n",
              "        const docLinkHtml = 'Like what you see? Visit the ' +\n",
              "          '<a target=\"_blank\" href=https://colab.research.google.com/notebooks/data_table.ipynb>data table notebook</a>'\n",
              "          + ' to learn more about interactive tables.';\n",
              "        element.innerHTML = '';\n",
              "        dataTable['output_type'] = 'display_data';\n",
              "        await google.colab.output.renderOutput(dataTable, element);\n",
              "        const docLink = document.createElement('div');\n",
              "        docLink.innerHTML = docLinkHtml;\n",
              "        element.appendChild(docLink);\n",
              "      }\n",
              "    </script>\n",
              "  </div>\n",
              "\n",
              "\n",
              "  <div id=\"id_0eb07e56-8141-4cde-bf9b-1eed6f532000\">\n",
              "    <style>\n",
              "      .colab-df-generate {\n",
              "        background-color: #E8F0FE;\n",
              "        border: none;\n",
              "        border-radius: 50%;\n",
              "        cursor: pointer;\n",
              "        display: none;\n",
              "        fill: #1967D2;\n",
              "        height: 32px;\n",
              "        padding: 0 0 0 0;\n",
              "        width: 32px;\n",
              "      }\n",
              "\n",
              "      .colab-df-generate:hover {\n",
              "        background-color: #E2EBFA;\n",
              "        box-shadow: 0px 1px 2px rgba(60, 64, 67, 0.3), 0px 1px 3px 1px rgba(60, 64, 67, 0.15);\n",
              "        fill: #174EA6;\n",
              "      }\n",
              "\n",
              "      [theme=dark] .colab-df-generate {\n",
              "        background-color: #3B4455;\n",
              "        fill: #D2E3FC;\n",
              "      }\n",
              "\n",
              "      [theme=dark] .colab-df-generate:hover {\n",
              "        background-color: #434B5C;\n",
              "        box-shadow: 0px 1px 3px 1px rgba(0, 0, 0, 0.15);\n",
              "        filter: drop-shadow(0px 1px 2px rgba(0, 0, 0, 0.3));\n",
              "        fill: #FFFFFF;\n",
              "      }\n",
              "    </style>\n",
              "    <button class=\"colab-df-generate\" onclick=\"generateWithVariable('results_df')\"\n",
              "            title=\"Generate code using this dataframe.\"\n",
              "            style=\"display:none;\">\n",
              "\n",
              "  <svg xmlns=\"http://www.w3.org/2000/svg\" height=\"24px\"viewBox=\"0 0 24 24\"\n",
              "       width=\"24px\">\n",
              "    <path d=\"M7,19H8.4L18.45,9,17,7.55,7,17.6ZM5,21V16.75L18.45,3.32a2,2,0,0,1,2.83,0l1.4,1.43a1.91,1.91,0,0,1,.58,1.4,1.91,1.91,0,0,1-.58,1.4L9.25,21ZM18.45,9,17,7.55Zm-12,3A5.31,5.31,0,0,0,4.9,8.1,5.31,5.31,0,0,0,1,6.5,5.31,5.31,0,0,0,4.9,4.9,5.31,5.31,0,0,0,6.5,1,5.31,5.31,0,0,0,8.1,4.9,5.31,5.31,0,0,0,12,6.5,5.46,5.46,0,0,0,6.5,12Z\"/>\n",
              "  </svg>\n",
              "    </button>\n",
              "    <script>\n",
              "      (() => {\n",
              "      const buttonEl =\n",
              "        document.querySelector('#id_0eb07e56-8141-4cde-bf9b-1eed6f532000 button.colab-df-generate');\n",
              "      buttonEl.style.display =\n",
              "        google.colab.kernel.accessAllowed ? 'block' : 'none';\n",
              "\n",
              "      buttonEl.onclick = () => {\n",
              "        google.colab.notebook.generateWithVariable('results_df');\n",
              "      }\n",
              "      })();\n",
              "    </script>\n",
              "  </div>\n",
              "\n",
              "    </div>\n",
              "  </div>\n"
            ],
            "application/vnd.google.colaboratory.intrinsic+json": {
              "type": "dataframe",
              "variable_name": "results_df",
              "summary": "{\n  \"name\": \"results_df\",\n  \"rows\": 1,\n  \"fields\": [\n    {\n      \"column\": \"pos-f1-score\",\n      \"properties\": {\n        \"dtype\": \"number\",\n        \"std\": null,\n        \"min\": 0.6902439024390243,\n        \"max\": 0.6902439024390243,\n        \"num_unique_values\": 1,\n        \"samples\": [\n          0.6902439024390243\n        ],\n        \"semantic_type\": \"\",\n        \"description\": \"\"\n      }\n    },\n    {\n      \"column\": \"accuracy\",\n      \"properties\": {\n        \"dtype\": \"number\",\n        \"std\": null,\n        \"min\": 0.8275627970128988,\n        \"max\": 0.8275627970128988,\n        \"num_unique_values\": 1,\n        \"samples\": [\n          0.8275627970128988\n        ],\n        \"semantic_type\": \"\",\n        \"description\": \"\"\n      }\n    }\n  ]\n}"
            }
          },
          "metadata": {},
          "execution_count": 30
        }
      ],
      "source": [
        "res = classification_report(preds_df[\"category\"], preds_df[\"result\"], output_dict=True)\n",
        "results_df = pd.DataFrame(columns=[\"pos-f1-score\",\"accuracy\"])\n",
        "results_df.loc[\"ClassifierDL_100d\"] = [res[\"pos\"][\"f1-score\"], res[\"accuracy\"]]\n",
        "results_df"
      ]
    },
    {
      "cell_type": "markdown",
      "metadata": {
        "id": "3NRB48Jd8PBL"
      },
      "source": [
        "### MultiClassifierDL"
      ]
    },
    {
      "cell_type": "markdown",
      "metadata": {
        "id": "fHNzlFhIi1IU"
      },
      "source": [
        "We will use MultiClassifierDL built by using Bidirectional GRU and CNNs inside TensorFlow that supports up to 100 classes. It is designed for multi-label classification purposes. Here we will use MultiClassifierDL as a binary classifier."
      ]
    },
    {
      "cell_type": "code",
      "execution_count": 31,
      "metadata": {
        "id": "H7BFPBvBkRXm"
      },
      "outputs": [],
      "source": [
        "# MultiClassifierDL accepts list of strings as input label. So we convert label column to array type.\n",
        "trainingData_with_embeddings = trainingData_with_embeddings.withColumn(\"category_array\", F.array(F.col(\"category\")))\n",
        "testData_with_embeddings = testData_with_embeddings.withColumn(\"category_array\", F.array(F.col(\"category\")))"
      ]
    },
    {
      "cell_type": "code",
      "execution_count": 32,
      "metadata": {
        "id": "qfayOhW1QGuZ"
      },
      "outputs": [],
      "source": [
        "multiClassifier = nlp.MultiClassifierDLApproach()\\\n",
        "    .setInputCols(\"sentence_embeddings\")\\\n",
        "    .setOutputCol(\"prediction\")\\\n",
        "    .setLabelColumn(\"category_array\")\\\n",
        "    .setBatchSize(16)\\\n",
        "    .setMaxEpochs(20)\\\n",
        "    .setLr(9e-3)\\\n",
        "    .setThreshold(0.5)\\\n",
        "    .setShufflePerEpoch(False)\\\n",
        "    .setEnableOutputLogs(True)\\\n",
        "    .setOutputLogsPath(log_folder)\\\n",
        "  #   .setValidationSplit(0.1)\n",
        "\n",
        "multiClassifier_pipeline = nlp.Pipeline(\n",
        "    stages = [\n",
        "        multiClassifier\n",
        "    ])"
      ]
    },
    {
      "cell_type": "code",
      "execution_count": 33,
      "metadata": {
        "id": "uis9foJpQ56_"
      },
      "outputs": [],
      "source": [
        "multiClassifier_model_hc100 = multiClassifier_pipeline.fit(trainingData_with_embeddings)"
      ]
    },
    {
      "cell_type": "code",
      "execution_count": 34,
      "metadata": {
        "colab": {
          "base_uri": "https://localhost:8080/"
        },
        "id": "oZ4muaEcQ56_",
        "outputId": "6356fca9-c030-4172-e1c0-9524f23883bb"
      },
      "outputs": [
        {
          "output_type": "stream",
          "name": "stdout",
          "text": [
            "Training started - epochs: 20 - learning_rate: 0.009 - batch_size: 16 - training_examples: 5606 - classes: 2\n",
            "Epoch 0/20 - 7.39s - loss: 0.5211027 - acc: 0.7369643 - batches: 351\n",
            "Epoch 1/20 - 2.84s - loss: 0.45771593 - acc: 0.7746429 - batches: 351\n",
            "Epoch 2/20 - 2.74s - loss: 0.42100212 - acc: 0.79821426 - batches: 351\n",
            "Epoch 3/20 - 2.78s - loss: 0.3972907 - acc: 0.8149107 - batches: 351\n",
            "Epoch 4/20 - 2.75s - loss: 0.37783632 - acc: 0.8275 - batches: 351\n",
            "Epoch 5/20 - 2.76s - loss: 0.36196303 - acc: 0.8369643 - batches: 351\n",
            "Epoch 6/20 - 2.70s - loss: 0.34776407 - acc: 0.84232146 - batches: 351\n",
            "Epoch 7/20 - 2.75s - loss: 0.33263168 - acc: 0.8544643 - batches: 351\n",
            "Epoch 8/20 - 2.71s - loss: 0.3181401 - acc: 0.8584821 - batches: 351\n",
            "Epoch 9/20 - 2.77s - loss: 0.3043693 - acc: 0.8619643 - batches: 351\n",
            "Epoch 10/20 - 2.89s - loss: 0.29091737 - acc: 0.8699107 - batches: 351\n",
            "Epoch 11/20 - 2.81s - loss: 0.2727908 - acc: 0.88035715 - batches: 351\n",
            "Epoch 12/20 - 2.81s - loss: 0.26008934 - acc: 0.88875 - batches: 351\n",
            "Epoch 13/20 - 2.81s - loss: 0.24526879 - acc: 0.89607143 - batches: 351\n",
            "Epoch 14/20 - 2.81s - loss: 0.2331535 - acc: 0.90026784 - batches: 351\n",
            "Epoch 15/20 - 2.77s - loss: 0.22024776 - acc: 0.90767854 - batches: 351\n",
            "Epoch 16/20 - 2.72s - loss: 0.20925158 - acc: 0.9120536 - batches: 351\n",
            "Epoch 17/20 - 2.78s - loss: 0.19570169 - acc: 0.9192857 - batches: 351\n",
            "Epoch 18/20 - 2.87s - loss: 0.18298317 - acc: 0.9270536 - batches: 351\n",
            "Epoch 19/20 - 2.74s - loss: 0.1702921 - acc: 0.93214285 - batches: 351\n"
          ]
        }
      ],
      "source": [
        "!cat $log_folder/MultiClassifierDLApproach_*"
      ]
    },
    {
      "cell_type": "code",
      "execution_count": 35,
      "metadata": {
        "id": "aU71yDTEQ57A"
      },
      "outputs": [],
      "source": [
        "preds = multiClassifier_model_hc100.transform(testData_with_embeddings).cache()"
      ]
    },
    {
      "cell_type": "code",
      "execution_count": 36,
      "metadata": {
        "colab": {
          "base_uri": "https://localhost:8080/"
        },
        "id": "sMqK2PTaQ57A",
        "outputId": "27f0c717-4e96-49e6-e98e-e3144252f079"
      },
      "outputs": [
        {
          "output_type": "stream",
          "name": "stdout",
          "text": [
            "root\n",
            " |-- text: string (nullable = true)\n",
            " |-- category: string (nullable = true)\n",
            " |-- sentence_embeddings: array (nullable = true)\n",
            " |    |-- element: struct (containsNull = true)\n",
            " |    |    |-- annotatorType: string (nullable = true)\n",
            " |    |    |-- begin: integer (nullable = false)\n",
            " |    |    |-- end: integer (nullable = false)\n",
            " |    |    |-- result: string (nullable = true)\n",
            " |    |    |-- metadata: map (nullable = true)\n",
            " |    |    |    |-- key: string\n",
            " |    |    |    |-- value: string (valueContainsNull = true)\n",
            " |    |    |-- embeddings: array (nullable = true)\n",
            " |    |    |    |-- element: float (containsNull = false)\n",
            " |-- category_array: array (nullable = false)\n",
            " |    |-- element: string (containsNull = true)\n",
            " |-- prediction: array (nullable = true)\n",
            " |    |-- element: struct (containsNull = true)\n",
            " |    |    |-- annotatorType: string (nullable = true)\n",
            " |    |    |-- begin: integer (nullable = false)\n",
            " |    |    |-- end: integer (nullable = false)\n",
            " |    |    |-- result: string (nullable = true)\n",
            " |    |    |-- metadata: map (nullable = true)\n",
            " |    |    |    |-- key: string\n",
            " |    |    |    |-- value: string (valueContainsNull = true)\n",
            " |    |    |-- embeddings: array (nullable = true)\n",
            " |    |    |    |-- element: float (containsNull = false)\n",
            "\n",
            "+----------------------------------------------------------------------------------------------------------------------------------------------------------------+\n",
            "|prediction                                                                                                                                                      |\n",
            "+----------------------------------------------------------------------------------------------------------------------------------------------------------------+\n",
            "|[{category, 0, 262, neg, {sentence -> 0, neg -> 1.0, pos -> 2.8455852E-15}, []}]                                                                                |\n",
            "|[{category, 0, 139, neg, {sentence -> 0, neg -> 0.722088, pos -> 0.27986914}, []}]                                                                              |\n",
            "|[{category, 0, 130, pos, {sentence -> 0, neg -> 0.13898447, pos -> 0.85950565}, []}]                                                                            |\n",
            "|[{category, 0, 80, pos, {sentence -> 0, neg -> 0.1890985, pos -> 0.81076705}, []}]                                                                              |\n",
            "|[{category, 0, 89, neg, {sentence -> 0, neg -> 0.500581, pos -> 0.5008214}, []}, {category, 0, 89, pos, {sentence -> 0, neg -> 0.500581, pos -> 0.5008214}, []}]|\n",
            "+----------------------------------------------------------------------------------------------------------------------------------------------------------------+\n",
            "only showing top 5 rows\n",
            "\n",
            "+--------------+-----------------+\n",
            "|category_array|prediction.result|\n",
            "+--------------+-----------------+\n",
            "|[neg]         |[neg]            |\n",
            "|[neg]         |[neg]            |\n",
            "|[neg]         |[pos]            |\n",
            "|[neg]         |[pos]            |\n",
            "|[neg]         |[neg, pos]       |\n",
            "+--------------+-----------------+\n",
            "only showing top 5 rows\n",
            "\n"
          ]
        }
      ],
      "source": [
        "preds.printSchema()\n",
        "preds.select(preds.prediction).show(5, truncate=False)\n",
        "preds.select(preds.category_array, preds.prediction.result).show(5, truncate=False)"
      ]
    },
    {
      "cell_type": "code",
      "execution_count": 37,
      "metadata": {
        "colab": {
          "base_uri": "https://localhost:8080/",
          "height": 210
        },
        "id": "fdYjuIgznI9H",
        "outputId": "a210035d-d8c4-44ff-d488-803400773663"
      },
      "outputs": [
        {
          "output_type": "execute_result",
          "data": {
            "text/plain": [
              "result\n",
              "['neg']           962\n",
              "['pos']           508\n",
              "['neg', 'pos']      3\n",
              "Name: count, dtype: int64"
            ],
            "text/html": [
              "<div>\n",
              "<style scoped>\n",
              "    .dataframe tbody tr th:only-of-type {\n",
              "        vertical-align: middle;\n",
              "    }\n",
              "\n",
              "    .dataframe tbody tr th {\n",
              "        vertical-align: top;\n",
              "    }\n",
              "\n",
              "    .dataframe thead th {\n",
              "        text-align: right;\n",
              "    }\n",
              "</style>\n",
              "<table border=\"1\" class=\"dataframe\">\n",
              "  <thead>\n",
              "    <tr style=\"text-align: right;\">\n",
              "      <th></th>\n",
              "      <th>count</th>\n",
              "    </tr>\n",
              "    <tr>\n",
              "      <th>result</th>\n",
              "      <th></th>\n",
              "    </tr>\n",
              "  </thead>\n",
              "  <tbody>\n",
              "    <tr>\n",
              "      <th>['neg']</th>\n",
              "      <td>962</td>\n",
              "    </tr>\n",
              "    <tr>\n",
              "      <th>['pos']</th>\n",
              "      <td>508</td>\n",
              "    </tr>\n",
              "    <tr>\n",
              "      <th>['neg', 'pos']</th>\n",
              "      <td>3</td>\n",
              "    </tr>\n",
              "  </tbody>\n",
              "</table>\n",
              "</div><br><label><b>dtype:</b> int64</label>"
            ]
          },
          "metadata": {},
          "execution_count": 37
        }
      ],
      "source": [
        "preds_df = preds.select(\"category\",\"text\",\"prediction.result\",\"prediction.metadata\").toPandas()\n",
        "preds_df.result.apply(lambda x: str(x) ).value_counts()"
      ]
    },
    {
      "cell_type": "code",
      "execution_count": 38,
      "metadata": {
        "colab": {
          "base_uri": "https://localhost:8080/",
          "height": 144
        },
        "id": "s52SZO6k2nu7",
        "outputId": "cb87e676-11aa-4f2f-86ae-7c5ec6e76f8f"
      },
      "outputs": [
        {
          "output_type": "execute_result",
          "data": {
            "text/plain": [
              "     category                                               text      result  \\\n",
              "4         neg   A novel approach to central venous catheter t...  [neg, pos]   \n",
              "219       neg   Physicians should remain alert to the potenti...  [neg, pos]   \n",
              "1414      pos  Severe osteomalacia was present in two epilept...  [neg, pos]   \n",
              "\n",
              "                                               metadata  \n",
              "4     [{'sentence': '0', 'neg': '0.500581', 'pos': '...  \n",
              "219   [{'sentence': '0', 'neg': '0.50044626', 'pos':...  \n",
              "1414  [{'sentence': '0', 'neg': '0.5003451', 'pos': ...  "
            ],
            "text/html": [
              "\n",
              "  <div id=\"df-acb25685-f19a-4410-869e-1b0368e8f644\" class=\"colab-df-container\">\n",
              "    <div>\n",
              "<style scoped>\n",
              "    .dataframe tbody tr th:only-of-type {\n",
              "        vertical-align: middle;\n",
              "    }\n",
              "\n",
              "    .dataframe tbody tr th {\n",
              "        vertical-align: top;\n",
              "    }\n",
              "\n",
              "    .dataframe thead th {\n",
              "        text-align: right;\n",
              "    }\n",
              "</style>\n",
              "<table border=\"1\" class=\"dataframe\">\n",
              "  <thead>\n",
              "    <tr style=\"text-align: right;\">\n",
              "      <th></th>\n",
              "      <th>category</th>\n",
              "      <th>text</th>\n",
              "      <th>result</th>\n",
              "      <th>metadata</th>\n",
              "    </tr>\n",
              "  </thead>\n",
              "  <tbody>\n",
              "    <tr>\n",
              "      <th>4</th>\n",
              "      <td>neg</td>\n",
              "      <td>A novel approach to central venous catheter t...</td>\n",
              "      <td>[neg, pos]</td>\n",
              "      <td>[{'sentence': '0', 'neg': '0.500581', 'pos': '...</td>\n",
              "    </tr>\n",
              "    <tr>\n",
              "      <th>219</th>\n",
              "      <td>neg</td>\n",
              "      <td>Physicians should remain alert to the potenti...</td>\n",
              "      <td>[neg, pos]</td>\n",
              "      <td>[{'sentence': '0', 'neg': '0.50044626', 'pos':...</td>\n",
              "    </tr>\n",
              "    <tr>\n",
              "      <th>1414</th>\n",
              "      <td>pos</td>\n",
              "      <td>Severe osteomalacia was present in two epilept...</td>\n",
              "      <td>[neg, pos]</td>\n",
              "      <td>[{'sentence': '0', 'neg': '0.5003451', 'pos': ...</td>\n",
              "    </tr>\n",
              "  </tbody>\n",
              "</table>\n",
              "</div>\n",
              "    <div class=\"colab-df-buttons\">\n",
              "\n",
              "  <div class=\"colab-df-container\">\n",
              "    <button class=\"colab-df-convert\" onclick=\"convertToInteractive('df-acb25685-f19a-4410-869e-1b0368e8f644')\"\n",
              "            title=\"Convert this dataframe to an interactive table.\"\n",
              "            style=\"display:none;\">\n",
              "\n",
              "  <svg xmlns=\"http://www.w3.org/2000/svg\" height=\"24px\" viewBox=\"0 -960 960 960\">\n",
              "    <path d=\"M120-120v-720h720v720H120Zm60-500h600v-160H180v160Zm220 220h160v-160H400v160Zm0 220h160v-160H400v160ZM180-400h160v-160H180v160Zm440 0h160v-160H620v160ZM180-180h160v-160H180v160Zm440 0h160v-160H620v160Z\"/>\n",
              "  </svg>\n",
              "    </button>\n",
              "\n",
              "  <style>\n",
              "    .colab-df-container {\n",
              "      display:flex;\n",
              "      gap: 12px;\n",
              "    }\n",
              "\n",
              "    .colab-df-convert {\n",
              "      background-color: #E8F0FE;\n",
              "      border: none;\n",
              "      border-radius: 50%;\n",
              "      cursor: pointer;\n",
              "      display: none;\n",
              "      fill: #1967D2;\n",
              "      height: 32px;\n",
              "      padding: 0 0 0 0;\n",
              "      width: 32px;\n",
              "    }\n",
              "\n",
              "    .colab-df-convert:hover {\n",
              "      background-color: #E2EBFA;\n",
              "      box-shadow: 0px 1px 2px rgba(60, 64, 67, 0.3), 0px 1px 3px 1px rgba(60, 64, 67, 0.15);\n",
              "      fill: #174EA6;\n",
              "    }\n",
              "\n",
              "    .colab-df-buttons div {\n",
              "      margin-bottom: 4px;\n",
              "    }\n",
              "\n",
              "    [theme=dark] .colab-df-convert {\n",
              "      background-color: #3B4455;\n",
              "      fill: #D2E3FC;\n",
              "    }\n",
              "\n",
              "    [theme=dark] .colab-df-convert:hover {\n",
              "      background-color: #434B5C;\n",
              "      box-shadow: 0px 1px 3px 1px rgba(0, 0, 0, 0.15);\n",
              "      filter: drop-shadow(0px 1px 2px rgba(0, 0, 0, 0.3));\n",
              "      fill: #FFFFFF;\n",
              "    }\n",
              "  </style>\n",
              "\n",
              "    <script>\n",
              "      const buttonEl =\n",
              "        document.querySelector('#df-acb25685-f19a-4410-869e-1b0368e8f644 button.colab-df-convert');\n",
              "      buttonEl.style.display =\n",
              "        google.colab.kernel.accessAllowed ? 'block' : 'none';\n",
              "\n",
              "      async function convertToInteractive(key) {\n",
              "        const element = document.querySelector('#df-acb25685-f19a-4410-869e-1b0368e8f644');\n",
              "        const dataTable =\n",
              "          await google.colab.kernel.invokeFunction('convertToInteractive',\n",
              "                                                    [key], {});\n",
              "        if (!dataTable) return;\n",
              "\n",
              "        const docLinkHtml = 'Like what you see? Visit the ' +\n",
              "          '<a target=\"_blank\" href=https://colab.research.google.com/notebooks/data_table.ipynb>data table notebook</a>'\n",
              "          + ' to learn more about interactive tables.';\n",
              "        element.innerHTML = '';\n",
              "        dataTable['output_type'] = 'display_data';\n",
              "        await google.colab.output.renderOutput(dataTable, element);\n",
              "        const docLink = document.createElement('div');\n",
              "        docLink.innerHTML = docLinkHtml;\n",
              "        element.appendChild(docLink);\n",
              "      }\n",
              "    </script>\n",
              "  </div>\n",
              "\n",
              "\n",
              "    <div id=\"df-5238261e-ae91-40b9-bfbb-b5046d380304\">\n",
              "      <button class=\"colab-df-quickchart\" onclick=\"quickchart('df-5238261e-ae91-40b9-bfbb-b5046d380304')\"\n",
              "                title=\"Suggest charts\"\n",
              "                style=\"display:none;\">\n",
              "\n",
              "<svg xmlns=\"http://www.w3.org/2000/svg\" height=\"24px\"viewBox=\"0 0 24 24\"\n",
              "     width=\"24px\">\n",
              "    <g>\n",
              "        <path d=\"M19 3H5c-1.1 0-2 .9-2 2v14c0 1.1.9 2 2 2h14c1.1 0 2-.9 2-2V5c0-1.1-.9-2-2-2zM9 17H7v-7h2v7zm4 0h-2V7h2v10zm4 0h-2v-4h2v4z\"/>\n",
              "    </g>\n",
              "</svg>\n",
              "      </button>\n",
              "\n",
              "<style>\n",
              "  .colab-df-quickchart {\n",
              "      --bg-color: #E8F0FE;\n",
              "      --fill-color: #1967D2;\n",
              "      --hover-bg-color: #E2EBFA;\n",
              "      --hover-fill-color: #174EA6;\n",
              "      --disabled-fill-color: #AAA;\n",
              "      --disabled-bg-color: #DDD;\n",
              "  }\n",
              "\n",
              "  [theme=dark] .colab-df-quickchart {\n",
              "      --bg-color: #3B4455;\n",
              "      --fill-color: #D2E3FC;\n",
              "      --hover-bg-color: #434B5C;\n",
              "      --hover-fill-color: #FFFFFF;\n",
              "      --disabled-bg-color: #3B4455;\n",
              "      --disabled-fill-color: #666;\n",
              "  }\n",
              "\n",
              "  .colab-df-quickchart {\n",
              "    background-color: var(--bg-color);\n",
              "    border: none;\n",
              "    border-radius: 50%;\n",
              "    cursor: pointer;\n",
              "    display: none;\n",
              "    fill: var(--fill-color);\n",
              "    height: 32px;\n",
              "    padding: 0;\n",
              "    width: 32px;\n",
              "  }\n",
              "\n",
              "  .colab-df-quickchart:hover {\n",
              "    background-color: var(--hover-bg-color);\n",
              "    box-shadow: 0 1px 2px rgba(60, 64, 67, 0.3), 0 1px 3px 1px rgba(60, 64, 67, 0.15);\n",
              "    fill: var(--button-hover-fill-color);\n",
              "  }\n",
              "\n",
              "  .colab-df-quickchart-complete:disabled,\n",
              "  .colab-df-quickchart-complete:disabled:hover {\n",
              "    background-color: var(--disabled-bg-color);\n",
              "    fill: var(--disabled-fill-color);\n",
              "    box-shadow: none;\n",
              "  }\n",
              "\n",
              "  .colab-df-spinner {\n",
              "    border: 2px solid var(--fill-color);\n",
              "    border-color: transparent;\n",
              "    border-bottom-color: var(--fill-color);\n",
              "    animation:\n",
              "      spin 1s steps(1) infinite;\n",
              "  }\n",
              "\n",
              "  @keyframes spin {\n",
              "    0% {\n",
              "      border-color: transparent;\n",
              "      border-bottom-color: var(--fill-color);\n",
              "      border-left-color: var(--fill-color);\n",
              "    }\n",
              "    20% {\n",
              "      border-color: transparent;\n",
              "      border-left-color: var(--fill-color);\n",
              "      border-top-color: var(--fill-color);\n",
              "    }\n",
              "    30% {\n",
              "      border-color: transparent;\n",
              "      border-left-color: var(--fill-color);\n",
              "      border-top-color: var(--fill-color);\n",
              "      border-right-color: var(--fill-color);\n",
              "    }\n",
              "    40% {\n",
              "      border-color: transparent;\n",
              "      border-right-color: var(--fill-color);\n",
              "      border-top-color: var(--fill-color);\n",
              "    }\n",
              "    60% {\n",
              "      border-color: transparent;\n",
              "      border-right-color: var(--fill-color);\n",
              "    }\n",
              "    80% {\n",
              "      border-color: transparent;\n",
              "      border-right-color: var(--fill-color);\n",
              "      border-bottom-color: var(--fill-color);\n",
              "    }\n",
              "    90% {\n",
              "      border-color: transparent;\n",
              "      border-bottom-color: var(--fill-color);\n",
              "    }\n",
              "  }\n",
              "</style>\n",
              "\n",
              "      <script>\n",
              "        async function quickchart(key) {\n",
              "          const quickchartButtonEl =\n",
              "            document.querySelector('#' + key + ' button');\n",
              "          quickchartButtonEl.disabled = true;  // To prevent multiple clicks.\n",
              "          quickchartButtonEl.classList.add('colab-df-spinner');\n",
              "          try {\n",
              "            const charts = await google.colab.kernel.invokeFunction(\n",
              "                'suggestCharts', [key], {});\n",
              "          } catch (error) {\n",
              "            console.error('Error during call to suggestCharts:', error);\n",
              "          }\n",
              "          quickchartButtonEl.classList.remove('colab-df-spinner');\n",
              "          quickchartButtonEl.classList.add('colab-df-quickchart-complete');\n",
              "        }\n",
              "        (() => {\n",
              "          let quickchartButtonEl =\n",
              "            document.querySelector('#df-5238261e-ae91-40b9-bfbb-b5046d380304 button');\n",
              "          quickchartButtonEl.style.display =\n",
              "            google.colab.kernel.accessAllowed ? 'block' : 'none';\n",
              "        })();\n",
              "      </script>\n",
              "    </div>\n",
              "\n",
              "    </div>\n",
              "  </div>\n"
            ],
            "application/vnd.google.colaboratory.intrinsic+json": {
              "type": "dataframe",
              "summary": "{\n  \"name\": \"preds_df[preds_df\",\n  \"rows\": 3,\n  \"fields\": [\n    {\n      \"column\": \"category\",\n      \"properties\": {\n        \"dtype\": \"string\",\n        \"num_unique_values\": 2,\n        \"samples\": [\n          \"pos\",\n          \"neg\"\n        ],\n        \"semantic_type\": \"\",\n        \"description\": \"\"\n      }\n    },\n    {\n      \"column\": \"text\",\n      \"properties\": {\n        \"dtype\": \"string\",\n        \"num_unique_values\": 3,\n        \"samples\": [\n          \" A novel approach to central venous catheter thrombosis in a patient with cystic fibrosis.\",\n          \" Physicians should remain alert to the potential hazards of chemotherapy to the central nervous system.\"\n        ],\n        \"semantic_type\": \"\",\n        \"description\": \"\"\n      }\n    },\n    {\n      \"column\": \"result\",\n      \"properties\": {\n        \"dtype\": \"object\",\n        \"semantic_type\": \"\",\n        \"description\": \"\"\n      }\n    },\n    {\n      \"column\": \"metadata\",\n      \"properties\": {\n        \"dtype\": \"object\",\n        \"semantic_type\": \"\",\n        \"description\": \"\"\n      }\n    }\n  ]\n}"
            }
          },
          "metadata": {},
          "execution_count": 38
        }
      ],
      "source": [
        "preds_df[preds_df.result.apply(len)==2]"
      ]
    },
    {
      "cell_type": "code",
      "execution_count": 39,
      "metadata": {
        "colab": {
          "base_uri": "https://localhost:8080/",
          "height": 53
        },
        "id": "F64-vahk3MQn",
        "outputId": "dda0a33b-009c-4c07-cbd1-51f403167d77"
      },
      "outputs": [
        {
          "output_type": "execute_result",
          "data": {
            "text/plain": [
              "Empty DataFrame\n",
              "Columns: [category, text, result, metadata]\n",
              "Index: []"
            ],
            "text/html": [
              "\n",
              "  <div id=\"df-e0ff3dee-90cb-4462-9b93-c784791c8009\" class=\"colab-df-container\">\n",
              "    <div>\n",
              "<style scoped>\n",
              "    .dataframe tbody tr th:only-of-type {\n",
              "        vertical-align: middle;\n",
              "    }\n",
              "\n",
              "    .dataframe tbody tr th {\n",
              "        vertical-align: top;\n",
              "    }\n",
              "\n",
              "    .dataframe thead th {\n",
              "        text-align: right;\n",
              "    }\n",
              "</style>\n",
              "<table border=\"1\" class=\"dataframe\">\n",
              "  <thead>\n",
              "    <tr style=\"text-align: right;\">\n",
              "      <th></th>\n",
              "      <th>category</th>\n",
              "      <th>text</th>\n",
              "      <th>result</th>\n",
              "      <th>metadata</th>\n",
              "    </tr>\n",
              "  </thead>\n",
              "  <tbody>\n",
              "  </tbody>\n",
              "</table>\n",
              "</div>\n",
              "    <div class=\"colab-df-buttons\">\n",
              "\n",
              "  <div class=\"colab-df-container\">\n",
              "    <button class=\"colab-df-convert\" onclick=\"convertToInteractive('df-e0ff3dee-90cb-4462-9b93-c784791c8009')\"\n",
              "            title=\"Convert this dataframe to an interactive table.\"\n",
              "            style=\"display:none;\">\n",
              "\n",
              "  <svg xmlns=\"http://www.w3.org/2000/svg\" height=\"24px\" viewBox=\"0 -960 960 960\">\n",
              "    <path d=\"M120-120v-720h720v720H120Zm60-500h600v-160H180v160Zm220 220h160v-160H400v160Zm0 220h160v-160H400v160ZM180-400h160v-160H180v160Zm440 0h160v-160H620v160ZM180-180h160v-160H180v160Zm440 0h160v-160H620v160Z\"/>\n",
              "  </svg>\n",
              "    </button>\n",
              "\n",
              "  <style>\n",
              "    .colab-df-container {\n",
              "      display:flex;\n",
              "      gap: 12px;\n",
              "    }\n",
              "\n",
              "    .colab-df-convert {\n",
              "      background-color: #E8F0FE;\n",
              "      border: none;\n",
              "      border-radius: 50%;\n",
              "      cursor: pointer;\n",
              "      display: none;\n",
              "      fill: #1967D2;\n",
              "      height: 32px;\n",
              "      padding: 0 0 0 0;\n",
              "      width: 32px;\n",
              "    }\n",
              "\n",
              "    .colab-df-convert:hover {\n",
              "      background-color: #E2EBFA;\n",
              "      box-shadow: 0px 1px 2px rgba(60, 64, 67, 0.3), 0px 1px 3px 1px rgba(60, 64, 67, 0.15);\n",
              "      fill: #174EA6;\n",
              "    }\n",
              "\n",
              "    .colab-df-buttons div {\n",
              "      margin-bottom: 4px;\n",
              "    }\n",
              "\n",
              "    [theme=dark] .colab-df-convert {\n",
              "      background-color: #3B4455;\n",
              "      fill: #D2E3FC;\n",
              "    }\n",
              "\n",
              "    [theme=dark] .colab-df-convert:hover {\n",
              "      background-color: #434B5C;\n",
              "      box-shadow: 0px 1px 3px 1px rgba(0, 0, 0, 0.15);\n",
              "      filter: drop-shadow(0px 1px 2px rgba(0, 0, 0, 0.3));\n",
              "      fill: #FFFFFF;\n",
              "    }\n",
              "  </style>\n",
              "\n",
              "    <script>\n",
              "      const buttonEl =\n",
              "        document.querySelector('#df-e0ff3dee-90cb-4462-9b93-c784791c8009 button.colab-df-convert');\n",
              "      buttonEl.style.display =\n",
              "        google.colab.kernel.accessAllowed ? 'block' : 'none';\n",
              "\n",
              "      async function convertToInteractive(key) {\n",
              "        const element = document.querySelector('#df-e0ff3dee-90cb-4462-9b93-c784791c8009');\n",
              "        const dataTable =\n",
              "          await google.colab.kernel.invokeFunction('convertToInteractive',\n",
              "                                                    [key], {});\n",
              "        if (!dataTable) return;\n",
              "\n",
              "        const docLinkHtml = 'Like what you see? Visit the ' +\n",
              "          '<a target=\"_blank\" href=https://colab.research.google.com/notebooks/data_table.ipynb>data table notebook</a>'\n",
              "          + ' to learn more about interactive tables.';\n",
              "        element.innerHTML = '';\n",
              "        dataTable['output_type'] = 'display_data';\n",
              "        await google.colab.output.renderOutput(dataTable, element);\n",
              "        const docLink = document.createElement('div');\n",
              "        docLink.innerHTML = docLinkHtml;\n",
              "        element.appendChild(docLink);\n",
              "      }\n",
              "    </script>\n",
              "  </div>\n",
              "\n",
              "\n",
              "    </div>\n",
              "  </div>\n"
            ],
            "application/vnd.google.colaboratory.intrinsic+json": {
              "type": "dataframe",
              "repr_error": "Out of range float values are not JSON compliant: nan"
            }
          },
          "metadata": {},
          "execution_count": 39
        }
      ],
      "source": [
        "preds_df[preds_df.result.apply(len)==0]"
      ]
    },
    {
      "cell_type": "markdown",
      "metadata": {
        "id": "yPS9qyw-nYJN"
      },
      "source": [
        "MultiClassifierDL is a multi-label classifier, so some predictions may include both labels or none of the labels. That can be controlled a bit with `.setThreshold()` parameter during training. For now we will not keep zero label predictions and get the highest score as prediction."
      ]
    },
    {
      "cell_type": "code",
      "execution_count": 40,
      "metadata": {
        "colab": {
          "base_uri": "https://localhost:8080/",
          "height": 179
        },
        "id": "ZG5XKJVd79vg",
        "outputId": "8652b9e1-9844-45b7-ecfc-bc845215556a"
      },
      "outputs": [
        {
          "output_type": "execute_result",
          "data": {
            "text/plain": [
              "result\n",
              "neg    963\n",
              "pos    510\n",
              "Name: count, dtype: int64"
            ],
            "text/html": [
              "<div>\n",
              "<style scoped>\n",
              "    .dataframe tbody tr th:only-of-type {\n",
              "        vertical-align: middle;\n",
              "    }\n",
              "\n",
              "    .dataframe tbody tr th {\n",
              "        vertical-align: top;\n",
              "    }\n",
              "\n",
              "    .dataframe thead th {\n",
              "        text-align: right;\n",
              "    }\n",
              "</style>\n",
              "<table border=\"1\" class=\"dataframe\">\n",
              "  <thead>\n",
              "    <tr style=\"text-align: right;\">\n",
              "      <th></th>\n",
              "      <th>count</th>\n",
              "    </tr>\n",
              "    <tr>\n",
              "      <th>result</th>\n",
              "      <th></th>\n",
              "    </tr>\n",
              "  </thead>\n",
              "  <tbody>\n",
              "    <tr>\n",
              "      <th>neg</th>\n",
              "      <td>963</td>\n",
              "    </tr>\n",
              "    <tr>\n",
              "      <th>pos</th>\n",
              "      <td>510</td>\n",
              "    </tr>\n",
              "  </tbody>\n",
              "</table>\n",
              "</div><br><label><b>dtype:</b> int64</label>"
            ]
          },
          "metadata": {},
          "execution_count": 40
        }
      ],
      "source": [
        "# We will get the highest score label as result. You can control the number of zero label results with setThreshold() in the training.\n",
        "preds_df[\"scores\"] = preds_df.metadata.apply(lambda x: {k:float(v) for k,v in x[0].items()} if len(x)>=1 else \"\")\n",
        "preds_df[\"result\"] = preds_df.scores.apply(lambda x: max(x, key=x.get) if len(x)>=1 else \"\")\n",
        "preds_df = preds_df[(preds_df[\"result\"]!=\"\")]\n",
        "preds_df[\"result\"].value_counts()"
      ]
    },
    {
      "cell_type": "code",
      "execution_count": 41,
      "metadata": {
        "colab": {
          "base_uri": "https://localhost:8080/"
        },
        "id": "MT8hQSEqQ57A",
        "outputId": "8c337ae2-9eb9-441d-d739-cd9c2a20dda0"
      },
      "outputs": [
        {
          "output_type": "stream",
          "name": "stdout",
          "text": [
            "              precision    recall  f1-score   support\n",
            "\n",
            "         neg       0.90      0.82      0.86      1057\n",
            "         pos       0.63      0.77      0.69       416\n",
            "\n",
            "    accuracy                           0.81      1473\n",
            "   macro avg       0.76      0.79      0.77      1473\n",
            "weighted avg       0.82      0.81      0.81      1473\n",
            "\n"
          ]
        }
      ],
      "source": [
        "res = classification_report(preds_df[\"category\"], preds_df[\"result\"], output_dict=True)\n",
        "results_df.loc[\"MultiClassifierDL_100d\"] = [res[\"pos\"][\"f1-score\"], res[\"accuracy\"]]\n",
        "\n",
        "print (classification_report(preds_df[\"category\"], preds_df[\"result\"]))"
      ]
    },
    {
      "cell_type": "markdown",
      "metadata": {
        "id": "aCf989KwQB3H"
      },
      "source": [
        "### Generic Classifier"
      ]
    },
    {
      "cell_type": "code",
      "execution_count": 49,
      "metadata": {
        "id": "N1Z9so_UQB3I"
      },
      "outputs": [],
      "source": [
        "from sparknlp_jsl.annotator import TFGraphBuilder\n",
        "\n",
        "graph_folder = \"gc_graph\"\n",
        "\n",
        "gc_graph_builder = medical.TFGraphBuilder()\\\n",
        "    .setModelName(\"generic_classifier\")\\\n",
        "    .setInputCols([\"features\"])\\\n",
        "    .setLabelColumn(\"category\")\\\n",
        "    .setHiddenLayers([300,200, 50])\\\n",
        "    .setHiddenAct(\"tanh\")\\\n",
        "    .setHiddenActL2(True)\\\n",
        "    .setBatchNorm(True)\\\n",
        "    .setGraphFolder(graph_folder)\\\n",
        "    .setGraphFile(\"gcf_graph_100d.pb\")"
      ]
    },
    {
      "cell_type": "markdown",
      "metadata": {
        "id": "_ADlQFAHch6j"
      },
      "source": [
        "GenericClassifier needs outputs from FeaturesAssembler. The FeaturesAssembler is used to collect features from different columns or an embeddings column.\n",
        "\n",
        "The GenericClassifierApproach takes FEATURE_VECTOR annotations as input, classifies them and outputs CATEGORY annotations."
      ]
    },
    {
      "cell_type": "code",
      "execution_count": 50,
      "metadata": {
        "id": "f7saGLwvQB3I"
      },
      "outputs": [],
      "source": [
        "features_asm = medical.FeaturesAssembler()\\\n",
        "    .setInputCols([\"sentence_embeddings\"])\\\n",
        "    .setOutputCol(\"features\")\n",
        "\n",
        "gen_clf =medical.GenericClassifierApproach()\\\n",
        "    .setLabelColumn(\"category\")\\\n",
        "    .setInputCols(\"features\")\\\n",
        "    .setOutputCol(\"prediction\")\\\n",
        "    .setModelFile(f\"{graph_folder}/gcf_graph_100d.pb\")\\\n",
        "    .setEpochsNumber(25)\\\n",
        "    .setBatchSize(128)\\\n",
        "    .setLearningRate(0.004)\\\n",
        "    .setOutputLogsPath(log_folder)\\\n",
        "    .setDropout(0.2)\\\n",
        "    .setFixImbalance(True)\\\n",
        "    # .setValidationSplit(0.1)\n",
        "\n",
        "clf_Pipeline = nlp.Pipeline(stages=[\n",
        "    features_asm,\n",
        "    gc_graph_builder,\n",
        "    gen_clf])\n"
      ]
    },
    {
      "cell_type": "code",
      "execution_count": 51,
      "metadata": {
        "colab": {
          "base_uri": "https://localhost:8080/"
        },
        "id": "oSG7cx7yQB3I",
        "outputId": "4b349e29-6485-4144-861a-de5a10ff147f"
      },
      "outputs": [
        {
          "output_type": "stream",
          "name": "stdout",
          "text": [
            "TF Graph Builder configuration:\n",
            "Model name: generic_classifier\n",
            "Graph folder: gc_graph\n",
            "Graph file name: gcf_graph_100d.pb\n",
            "Build params: {'input_dim': 100, 'output_dim': 2, 'hidden_layers': [300, 200, 50], 'hidden_act': 'tanh', 'hidden_act_l2': True, 'batch_norm': True}\n",
            "generic_classifier graph exported to gc_graph/gcf_graph_100d.pb\n"
          ]
        }
      ],
      "source": [
        "generic_model_hc100 = clf_Pipeline.fit(trainingData_with_embeddings)"
      ]
    },
    {
      "cell_type": "code",
      "execution_count": 52,
      "metadata": {
        "colab": {
          "base_uri": "https://localhost:8080/"
        },
        "id": "9PSm7rd0QB3I",
        "outputId": "ff5f27ba-bcd9-48f9-8ec4-d7f11d9b0e3f"
      },
      "outputs": [
        {
          "output_type": "stream",
          "name": "stdout",
          "text": [
            "Training 25 epochs\n",
            "Epoch 1/25\t0.37s\tLoss: 12.376424\tACC: 0.62905943\n",
            "Epoch 2/25\t0.14s\tLoss: 10.290136\tACC: 0.70967025\n",
            "Epoch 3/25\t0.14s\tLoss: 9.664499\tACC: 0.7247208\n",
            "Epoch 4/25\t0.15s\tLoss: 9.510019\tACC: 0.73621327\n",
            "Epoch 5/25\t0.15s\tLoss: 9.456532\tACC: 0.72867227\n",
            "Epoch 6/25\t0.14s\tLoss: 9.180353\tACC: 0.7478519\n",
            "Epoch 7/25\t0.14s\tLoss: 8.915824\tACC: 0.75503427\n",
            "Epoch 8/25\t0.14s\tLoss: 8.807046\tACC: 0.7607265\n",
            "Epoch 9/25\t0.15s\tLoss: 8.642652\tACC: 0.764765\n",
            "Epoch 10/25\t0.14s\tLoss: 8.556572\tACC: 0.77279687\n",
            "Epoch 11/25\t0.13s\tLoss: 8.430639\tACC: 0.77456206\n",
            "Epoch 12/25\t0.15s\tLoss: 8.353577\tACC: 0.77506334\n",
            "Epoch 13/25\t0.15s\tLoss: 8.245626\tACC: 0.78642696\n",
            "Epoch 14/25\t0.14s\tLoss: 8.309855\tACC: 0.7886029\n",
            "Epoch 15/25\t0.13s\tLoss: 8.194262\tACC: 0.7851841\n",
            "Epoch 16/25\t0.13s\tLoss: 8.145708\tACC: 0.7805572\n",
            "Epoch 17/25\t0.15s\tLoss: 8.386643\tACC: 0.78012544\n",
            "Epoch 18/25\t0.15s\tLoss: 7.9686747\tACC: 0.7881086\n",
            "Epoch 19/25\t0.13s\tLoss: 7.9342237\tACC: 0.7959698\n",
            "Epoch 20/25\t0.15s\tLoss: 7.929268\tACC: 0.7854939\n",
            "Epoch 21/25\t0.15s\tLoss: 8.2644\tACC: 0.77558905\n",
            "Epoch 22/25\t0.14s\tLoss: 7.7892976\tACC: 0.7879797\n",
            "Epoch 23/25\t0.15s\tLoss: 7.8475094\tACC: 0.7905073\n",
            "Epoch 24/25\t0.15s\tLoss: 7.68518\tACC: 0.79637015\n",
            "Epoch 25/25\t0.15s\tLoss: 7.736861\tACC: 0.799514\n",
            "Training completed.\n"
          ]
        }
      ],
      "source": [
        "!cat $log_folder/GenericClassifierApproach_*"
      ]
    },
    {
      "cell_type": "code",
      "execution_count": 53,
      "metadata": {
        "id": "3Sqm6pF95vYX"
      },
      "outputs": [],
      "source": [
        "pred_df = generic_model_hc100.transform(testData_with_embeddings).cache()"
      ]
    },
    {
      "cell_type": "code",
      "execution_count": 54,
      "metadata": {
        "colab": {
          "base_uri": "https://localhost:8080/"
        },
        "id": "EW_Bbcb55xe-",
        "outputId": "24ca84eb-f64f-4de8-99b9-724e5037610c"
      },
      "outputs": [
        {
          "output_type": "stream",
          "name": "stdout",
          "text": [
            "root\n",
            " |-- text: string (nullable = true)\n",
            " |-- category: string (nullable = true)\n",
            " |-- sentence_embeddings: array (nullable = true)\n",
            " |    |-- element: struct (containsNull = true)\n",
            " |    |    |-- annotatorType: string (nullable = true)\n",
            " |    |    |-- begin: integer (nullable = false)\n",
            " |    |    |-- end: integer (nullable = false)\n",
            " |    |    |-- result: string (nullable = true)\n",
            " |    |    |-- metadata: map (nullable = true)\n",
            " |    |    |    |-- key: string\n",
            " |    |    |    |-- value: string (valueContainsNull = true)\n",
            " |    |    |-- embeddings: array (nullable = true)\n",
            " |    |    |    |-- element: float (containsNull = false)\n",
            " |-- category_array: array (nullable = false)\n",
            " |    |-- element: string (containsNull = true)\n",
            " |-- prediction: array (nullable = true)\n",
            " |    |-- element: struct (containsNull = true)\n",
            " |    |    |-- annotatorType: string (nullable = true)\n",
            " |    |    |-- begin: integer (nullable = false)\n",
            " |    |    |-- end: integer (nullable = false)\n",
            " |    |    |-- result: string (nullable = true)\n",
            " |    |    |-- metadata: map (nullable = true)\n",
            " |    |    |    |-- key: string\n",
            " |    |    |    |-- value: string (valueContainsNull = true)\n",
            " |    |    |-- embeddings: array (nullable = true)\n",
            " |    |    |    |-- element: float (containsNull = false)\n",
            "\n",
            "+----------------------------------------------------------------------------------------------------------------------------------------------------------------+\n",
            "|prediction                                                                                                                                                      |\n",
            "+----------------------------------------------------------------------------------------------------------------------------------------------------------------+\n",
            "|[{category, 0, 262, neg, {sentence -> 0, neg -> 1.0, pos -> 2.8455852E-15}, []}]                                                                                |\n",
            "|[{category, 0, 139, neg, {sentence -> 0, neg -> 0.722088, pos -> 0.27986914}, []}]                                                                              |\n",
            "|[{category, 0, 130, pos, {sentence -> 0, neg -> 0.13898447, pos -> 0.85950565}, []}]                                                                            |\n",
            "|[{category, 0, 80, pos, {sentence -> 0, neg -> 0.1890985, pos -> 0.81076705}, []}]                                                                              |\n",
            "|[{category, 0, 89, neg, {sentence -> 0, neg -> 0.500581, pos -> 0.5008214}, []}, {category, 0, 89, pos, {sentence -> 0, neg -> 0.500581, pos -> 0.5008214}, []}]|\n",
            "+----------------------------------------------------------------------------------------------------------------------------------------------------------------+\n",
            "only showing top 5 rows\n",
            "\n",
            "+--------+-----------------+\n",
            "|category|prediction.result|\n",
            "+--------+-----------------+\n",
            "|neg     |[neg]            |\n",
            "|neg     |[neg]            |\n",
            "|neg     |[pos]            |\n",
            "|neg     |[pos]            |\n",
            "|neg     |[neg, pos]       |\n",
            "+--------+-----------------+\n",
            "only showing top 5 rows\n",
            "\n"
          ]
        }
      ],
      "source": [
        "preds.printSchema()\n",
        "preds.select(preds.prediction).show(5, truncate=False)\n",
        "preds.select(preds.category, preds.prediction.result).show(5, truncate=False)"
      ]
    },
    {
      "cell_type": "code",
      "execution_count": 55,
      "metadata": {
        "colab": {
          "base_uri": "https://localhost:8080/"
        },
        "id": "NHCBTwrmQB3I",
        "outputId": "33c48288-21d9-4416-a2ce-0ffede415555"
      },
      "outputs": [
        {
          "output_type": "stream",
          "name": "stdout",
          "text": [
            "              precision    recall  f1-score   support\n",
            "\n",
            "         neg       0.88      0.80      0.84      1057\n",
            "         pos       0.59      0.73      0.65       416\n",
            "\n",
            "    accuracy                           0.78      1473\n",
            "   macro avg       0.74      0.77      0.75      1473\n",
            "weighted avg       0.80      0.78      0.79      1473\n",
            "\n"
          ]
        }
      ],
      "source": [
        "preds_df = pred_df.select('category','prediction.result').toPandas()\n",
        "preds_df['result'] = preds_df.result.apply(lambda x : x[0])\n",
        "\n",
        "print (classification_report(preds_df['category'], preds_df['result']))"
      ]
    },
    {
      "cell_type": "code",
      "execution_count": 56,
      "metadata": {
        "id": "xDLpuGkr8hOI"
      },
      "outputs": [],
      "source": [
        "res = classification_report(preds_df[\"category\"], preds_df[\"result\"], output_dict=True)\n",
        "results_df.loc[\"GenericClassifier_100d\"] = [res[\"pos\"][\"f1-score\"], res[\"accuracy\"]]"
      ]
    },
    {
      "cell_type": "markdown",
      "metadata": {
        "id": "moyOD1bWPnBR"
      },
      "source": [
        "### GenericLogRegClassifier"
      ]
    },
    {
      "cell_type": "code",
      "execution_count": 57,
      "metadata": {
        "id": "DfbdLp5ZPnBR"
      },
      "outputs": [],
      "source": [
        "graph_folder = \"gc_graph\"\n",
        "\n",
        "gc_logreg_graph_builder = medical.TFGraphBuilder()\\\n",
        "    .setModelName(\"logreg_classifier\")\\\n",
        "    .setInputCols([\"feature_vector\"]) \\\n",
        "    .setLabelColumn(\"category\")\\\n",
        "    .setGraphFolder(graph_folder)\\\n",
        "    .setGraphFile(\"log_reg_graph.pb\")"
      ]
    },
    {
      "cell_type": "markdown",
      "metadata": {
        "id": "nF-VGSTbPnBS"
      },
      "source": [
        "GenericLogRegClassifier needs outputs from FeaturesAssembler. The FeaturesAssembler is used to collect features from different columns or an embeddings column.\n",
        "\n",
        "The GenericLogRegClassifier takes FEATURE_VECTOR annotations as input, classifies them and outputs CATEGORY annotations."
      ]
    },
    {
      "cell_type": "code",
      "execution_count": 58,
      "metadata": {
        "id": "RrPR_-6kPnBS"
      },
      "outputs": [],
      "source": [
        "features_asm = medical.FeaturesAssembler()\\\n",
        "    .setInputCols([\"sentence_embeddings\"])\\\n",
        "    .setOutputCol(\"feature_vector\")\n",
        "\n",
        "gen_clf = medical.GenericLogRegClassifierApproach()\\\n",
        "    .setLabelColumn(\"category\")\\\n",
        "    .setInputCols(\"feature_vector\")\\\n",
        "    .setOutputCol(\"prediction\")\\\n",
        "    .setModelFile(f\"{graph_folder}/log_reg_graph.pb\")\\\n",
        "    .setEpochsNumber(20)\\\n",
        "    .setBatchSize(128)\\\n",
        "    .setLearningRate(0.01)\\\n",
        "    .setOutputLogsPath(log_folder)\\\n",
        "    .setDropout(0.1)\\\n",
        "    .setFixImbalance(True)\\\n",
        "    # .setValidationSplit(0.1)\n",
        "\n",
        "clf_Pipeline = nlp.Pipeline(stages=[\n",
        "    features_asm,\n",
        "    gc_logreg_graph_builder,\n",
        "    gen_clf])\n"
      ]
    },
    {
      "cell_type": "code",
      "execution_count": 59,
      "metadata": {
        "colab": {
          "base_uri": "https://localhost:8080/"
        },
        "id": "JvS4gi_sPnBS",
        "outputId": "30ab380a-b3c0-45f2-9506-18a7e94d1039"
      },
      "outputs": [
        {
          "output_type": "stream",
          "name": "stdout",
          "text": [
            "TF Graph Builder configuration:\n",
            "Model name: logreg_classifier\n",
            "Graph folder: gc_graph\n",
            "Graph file name: log_reg_graph.pb\n",
            "Build params: {'input_dim': 100, 'output_dim': 2, 'hidden_layers': [], 'output_act': 'sigmoid'}\n",
            "logreg_classifier graph exported to gc_graph/log_reg_graph.pb\n"
          ]
        }
      ],
      "source": [
        "generic_model_hc100 = clf_Pipeline.fit(trainingData_with_embeddings)"
      ]
    },
    {
      "cell_type": "code",
      "execution_count": 60,
      "metadata": {
        "colab": {
          "base_uri": "https://localhost:8080/"
        },
        "id": "Kj-r_R-_PnBT",
        "outputId": "7e3112ec-2d74-47d1-8450-90c85ad56327"
      },
      "outputs": [
        {
          "output_type": "stream",
          "name": "stdout",
          "text": [
            "Training 20 epochs\n",
            "Epoch 1/20\t0.15s\tLoss: 26.451231\tACC: 0.69675386\n",
            "Epoch 2/20\t0.05s\tLoss: 24.540642\tACC: 0.7164592\n",
            "Epoch 3/20\t0.05s\tLoss: 23.557869\tACC: 0.7252012\n",
            "Epoch 4/20\t0.05s\tLoss: 23.022427\tACC: 0.7330625\n",
            "Epoch 5/20\t0.05s\tLoss: 22.531796\tACC: 0.738525\n",
            "Epoch 6/20\t0.05s\tLoss: 22.372961\tACC: 0.74149126\n",
            "Epoch 7/20\t0.05s\tLoss: 22.162153\tACC: 0.7470442\n",
            "Epoch 8/20\t0.05s\tLoss: 22.018856\tACC: 0.7487711\n",
            "Epoch 9/20\t0.05s\tLoss: 21.850657\tACC: 0.75188696\n",
            "Epoch 10/20\t0.05s\tLoss: 21.780178\tACC: 0.7602287\n",
            "Epoch 11/20\t0.06s\tLoss: 21.719423\tACC: 0.7551317\n",
            "Epoch 12/20\t0.05s\tLoss: 21.566282\tACC: 0.7595637\n",
            "Epoch 13/20\t0.06s\tLoss: 21.574396\tACC: 0.75934434\n",
            "Epoch 14/20\t0.06s\tLoss: 21.431873\tACC: 0.7584148\n",
            "Epoch 15/20\t0.05s\tLoss: 21.375307\tACC: 0.7601347\n",
            "Epoch 16/20\t0.05s\tLoss: 21.538742\tACC: 0.7573042\n",
            "Epoch 17/20\t0.06s\tLoss: 21.426434\tACC: 0.75676805\n",
            "Epoch 18/20\t0.06s\tLoss: 21.402674\tACC: 0.7580597\n",
            "Epoch 19/20\t0.05s\tLoss: 21.239674\tACC: 0.76085186\n",
            "Epoch 20/20\t0.05s\tLoss: 21.400162\tACC: 0.7591668\n",
            "Training completed.\n"
          ]
        }
      ],
      "source": [
        "!cat $log_folder/GenericLogRegClassifierApproach*"
      ]
    },
    {
      "cell_type": "code",
      "execution_count": 61,
      "metadata": {
        "id": "9acpNGeCPnBT"
      },
      "outputs": [],
      "source": [
        "pred_df = generic_model_hc100.transform(testData_with_embeddings)"
      ]
    },
    {
      "cell_type": "code",
      "execution_count": 62,
      "metadata": {
        "colab": {
          "base_uri": "https://localhost:8080/"
        },
        "id": "jxk_78fcPnBT",
        "outputId": "70795311-5a20-4e57-c3db-641bbbf9c6d3"
      },
      "outputs": [
        {
          "output_type": "stream",
          "name": "stdout",
          "text": [
            "root\n",
            " |-- text: string (nullable = true)\n",
            " |-- category: string (nullable = true)\n",
            " |-- sentence_embeddings: array (nullable = true)\n",
            " |    |-- element: struct (containsNull = true)\n",
            " |    |    |-- annotatorType: string (nullable = true)\n",
            " |    |    |-- begin: integer (nullable = false)\n",
            " |    |    |-- end: integer (nullable = false)\n",
            " |    |    |-- result: string (nullable = true)\n",
            " |    |    |-- metadata: map (nullable = true)\n",
            " |    |    |    |-- key: string\n",
            " |    |    |    |-- value: string (valueContainsNull = true)\n",
            " |    |    |-- embeddings: array (nullable = true)\n",
            " |    |    |    |-- element: float (containsNull = false)\n",
            " |-- category_array: array (nullable = false)\n",
            " |    |-- element: string (containsNull = true)\n",
            " |-- prediction: array (nullable = true)\n",
            " |    |-- element: struct (containsNull = true)\n",
            " |    |    |-- annotatorType: string (nullable = true)\n",
            " |    |    |-- begin: integer (nullable = false)\n",
            " |    |    |-- end: integer (nullable = false)\n",
            " |    |    |-- result: string (nullable = true)\n",
            " |    |    |-- metadata: map (nullable = true)\n",
            " |    |    |    |-- key: string\n",
            " |    |    |    |-- value: string (valueContainsNull = true)\n",
            " |    |    |-- embeddings: array (nullable = true)\n",
            " |    |    |    |-- element: float (containsNull = false)\n",
            "\n",
            "+----------------------------------------------------------------------------------------------------------------------------------------------------------------+\n",
            "|prediction                                                                                                                                                      |\n",
            "+----------------------------------------------------------------------------------------------------------------------------------------------------------------+\n",
            "|[{category, 0, 262, neg, {sentence -> 0, neg -> 1.0, pos -> 2.8455852E-15}, []}]                                                                                |\n",
            "|[{category, 0, 139, neg, {sentence -> 0, neg -> 0.722088, pos -> 0.27986914}, []}]                                                                              |\n",
            "|[{category, 0, 130, pos, {sentence -> 0, neg -> 0.13898447, pos -> 0.85950565}, []}]                                                                            |\n",
            "|[{category, 0, 80, pos, {sentence -> 0, neg -> 0.1890985, pos -> 0.81076705}, []}]                                                                              |\n",
            "|[{category, 0, 89, neg, {sentence -> 0, neg -> 0.500581, pos -> 0.5008214}, []}, {category, 0, 89, pos, {sentence -> 0, neg -> 0.500581, pos -> 0.5008214}, []}]|\n",
            "+----------------------------------------------------------------------------------------------------------------------------------------------------------------+\n",
            "only showing top 5 rows\n",
            "\n",
            "+--------+-----------------+\n",
            "|category|prediction.result|\n",
            "+--------+-----------------+\n",
            "|neg     |[neg]            |\n",
            "|neg     |[neg]            |\n",
            "|neg     |[pos]            |\n",
            "|neg     |[pos]            |\n",
            "|neg     |[neg, pos]       |\n",
            "+--------+-----------------+\n",
            "only showing top 5 rows\n",
            "\n"
          ]
        }
      ],
      "source": [
        "preds.printSchema()\n",
        "preds.select(preds.prediction).show(5, truncate=False)\n",
        "preds.select(preds.category, preds.prediction.result).show(5, truncate=False)"
      ]
    },
    {
      "cell_type": "code",
      "execution_count": 63,
      "metadata": {
        "colab": {
          "base_uri": "https://localhost:8080/"
        },
        "id": "iF3ut5msPnBT",
        "outputId": "798dff24-a44e-42cc-f15e-69d810b45c6a"
      },
      "outputs": [
        {
          "output_type": "stream",
          "name": "stdout",
          "text": [
            "              precision    recall  f1-score   support\n",
            "\n",
            "         neg       0.80      0.92      0.86      1057\n",
            "         pos       0.68      0.41      0.51       416\n",
            "\n",
            "    accuracy                           0.78      1473\n",
            "   macro avg       0.74      0.67      0.68      1473\n",
            "weighted avg       0.76      0.78      0.76      1473\n",
            "\n"
          ]
        }
      ],
      "source": [
        "preds_df = pred_df.select('category','prediction.result').toPandas()\n",
        "preds_df['result'] = preds_df.result.apply(lambda x : x[0])\n",
        "\n",
        "print (classification_report(preds_df['category'], preds_df['result']))"
      ]
    },
    {
      "cell_type": "code",
      "execution_count": 64,
      "metadata": {
        "id": "58c3070E8-FK"
      },
      "outputs": [],
      "source": [
        "res = classification_report(preds_df[\"category\"], preds_df[\"result\"], output_dict=True)\n",
        "results_df.loc[\"GenericLogReg_100d\"] = [res[\"pos\"][\"f1-score\"], res[\"accuracy\"]]"
      ]
    },
    {
      "cell_type": "markdown",
      "metadata": {
        "id": "kGx7LiTFUytq"
      },
      "source": [
        "### GenericSVMClassifier"
      ]
    },
    {
      "cell_type": "code",
      "execution_count": 65,
      "metadata": {
        "id": "QQxZi5VjUytq"
      },
      "outputs": [],
      "source": [
        "graph_folder = \"gc_graph\"\n",
        "\n",
        "gc_svm_graph_builder = medical.TFGraphBuilder()\\\n",
        "    .setModelName(\"svm_classifier\")\\\n",
        "    .setInputCols([\"feature_vector\"]) \\\n",
        "    .setLabelColumn(\"category\")\\\n",
        "    .setGraphFolder(graph_folder)\\\n",
        "    .setGraphFile(\"svm_graph.pb\")"
      ]
    },
    {
      "cell_type": "markdown",
      "metadata": {
        "id": "HCczHJ9EUytq"
      },
      "source": [
        "GenericSVMClassifier needs outputs from FeaturesAssembler. The FeaturesAssembler is used to collect features from different columns or an embeddings column.\n",
        "\n",
        "The GenericSVMClassifier takes FEATURE_VECTOR annotations as input, classifies them and outputs CATEGORY annotations."
      ]
    },
    {
      "cell_type": "code",
      "execution_count": 66,
      "metadata": {
        "id": "iLlsBDJjUytq"
      },
      "outputs": [],
      "source": [
        "features_asm = medical.FeaturesAssembler()\\\n",
        "    .setInputCols([\"sentence_embeddings\"])\\\n",
        "    .setOutputCol(\"feature_vector\")\n",
        "\n",
        "gen_clf = medical.GenericSVMClassifierApproach()\\\n",
        "    .setLabelColumn(\"category\")\\\n",
        "    .setInputCols(\"feature_vector\")\\\n",
        "    .setOutputCol(\"prediction\")\\\n",
        "    .setModelFile(f\"{graph_folder}/svm_graph.pb\")\\\n",
        "    .setEpochsNumber(25)\\\n",
        "    .setBatchSize(128)\\\n",
        "    .setLearningRate(0.015)\\\n",
        "    .setOutputLogsPath(log_folder)\\\n",
        "    .setDropout(0.1)\\\n",
        "    .setFixImbalance(True)\\\n",
        "    # .setValidationSplit(0.1)\n",
        "\n",
        "clf_Pipeline = nlp.Pipeline(stages=[\n",
        "    features_asm,\n",
        "    gc_svm_graph_builder,\n",
        "    gen_clf])\n"
      ]
    },
    {
      "cell_type": "code",
      "execution_count": 67,
      "metadata": {
        "colab": {
          "base_uri": "https://localhost:8080/"
        },
        "id": "K8KAXYtkUytq",
        "outputId": "bdbb0ec6-8595-4880-eaf4-9b3f01192eb7"
      },
      "outputs": [
        {
          "output_type": "stream",
          "name": "stdout",
          "text": [
            "TF Graph Builder configuration:\n",
            "Model name: svm_classifier\n",
            "Graph folder: gc_graph\n",
            "Graph file name: svm_graph.pb\n",
            "Build params: {'input_dim': 100, 'output_dim': 2, 'hidden_layers': [], 'output_act': 'sigmoid', 'loss_func': 'hinge'}\n",
            "svm_classifier graph exported to gc_graph/svm_graph.pb\n"
          ]
        }
      ],
      "source": [
        "generic_model_hc100 = clf_Pipeline.fit(trainingData_with_embeddings)"
      ]
    },
    {
      "cell_type": "code",
      "execution_count": 68,
      "metadata": {
        "colab": {
          "base_uri": "https://localhost:8080/"
        },
        "id": "laXPq5hLUytq",
        "outputId": "d5f15f42-24e4-4d7f-bc1a-349e1d150449"
      },
      "outputs": [
        {
          "output_type": "stream",
          "name": "stdout",
          "text": [
            "Training 25 epochs\n",
            "Epoch 1/25\t0.14s\tLoss: 26.475868\tACC: 0.7141544\n",
            "Epoch 2/25\t0.05s\tLoss: 24.954428\tACC: 0.7278681\n",
            "Epoch 3/25\t0.05s\tLoss: 24.503813\tACC: 0.73959374\n",
            "Epoch 4/25\t0.05s\tLoss: 24.271524\tACC: 0.74509805\n",
            "Epoch 5/25\t0.05s\tLoss: 23.95904\tACC: 0.74913657\n",
            "Epoch 6/25\t0.05s\tLoss: 24.0294\tACC: 0.7482975\n",
            "Epoch 7/25\t0.06s\tLoss: 24.122849\tACC: 0.7520576\n",
            "Epoch 8/25\t0.05s\tLoss: 23.698452\tACC: 0.7629929\n",
            "Epoch 9/25\t0.04s\tLoss: 23.828619\tACC: 0.7578334\n",
            "Epoch 10/25\t0.05s\tLoss: 23.829199\tACC: 0.75521874\n",
            "Epoch 11/25\t0.05s\tLoss: 23.921917\tACC: 0.752726\n",
            "Epoch 12/25\t0.05s\tLoss: 23.790323\tACC: 0.75823724\n",
            "Epoch 13/25\t0.05s\tLoss: 23.87044\tACC: 0.7531229\n",
            "Epoch 14/25\t0.05s\tLoss: 23.619593\tACC: 0.759609\n",
            "Epoch 15/25\t0.06s\tLoss: 23.594837\tACC: 0.75996757\n",
            "Epoch 16/25\t0.06s\tLoss: 23.615671\tACC: 0.7605002\n",
            "Epoch 17/25\t0.05s\tLoss: 23.816427\tACC: 0.75611\n",
            "Epoch 18/25\t0.05s\tLoss: 23.620049\tACC: 0.76071954\n",
            "Epoch 19/25\t0.05s\tLoss: 23.635164\tACC: 0.7634247\n",
            "Epoch 20/25\t0.05s\tLoss: 23.577478\tACC: 0.75934786\n",
            "Epoch 21/25\t0.06s\tLoss: 23.790718\tACC: 0.75797266\n",
            "Epoch 22/25\t0.05s\tLoss: 24.360643\tACC: 0.754512\n",
            "Epoch 23/25\t0.05s\tLoss: 23.640753\tACC: 0.761207\n",
            "Epoch 24/25\t0.05s\tLoss: 23.72517\tACC: 0.75734943\n",
            "Epoch 25/25\t0.05s\tLoss: 23.714174\tACC: 0.76507145\n",
            "Training completed.\n"
          ]
        }
      ],
      "source": [
        "!cat $log_folder/GenericSVMClassifierApproach*"
      ]
    },
    {
      "cell_type": "code",
      "execution_count": 69,
      "metadata": {
        "id": "F0t-aE9hUytq"
      },
      "outputs": [],
      "source": [
        "pred_df = generic_model_hc100.transform(testData_with_embeddings)"
      ]
    },
    {
      "cell_type": "code",
      "execution_count": 70,
      "metadata": {
        "colab": {
          "base_uri": "https://localhost:8080/"
        },
        "id": "4HmAqC2fUytq",
        "outputId": "f16818db-74b5-4a88-d66a-798d8f6683f7"
      },
      "outputs": [
        {
          "output_type": "stream",
          "name": "stdout",
          "text": [
            "root\n",
            " |-- text: string (nullable = true)\n",
            " |-- category: string (nullable = true)\n",
            " |-- sentence_embeddings: array (nullable = true)\n",
            " |    |-- element: struct (containsNull = true)\n",
            " |    |    |-- annotatorType: string (nullable = true)\n",
            " |    |    |-- begin: integer (nullable = false)\n",
            " |    |    |-- end: integer (nullable = false)\n",
            " |    |    |-- result: string (nullable = true)\n",
            " |    |    |-- metadata: map (nullable = true)\n",
            " |    |    |    |-- key: string\n",
            " |    |    |    |-- value: string (valueContainsNull = true)\n",
            " |    |    |-- embeddings: array (nullable = true)\n",
            " |    |    |    |-- element: float (containsNull = false)\n",
            " |-- category_array: array (nullable = false)\n",
            " |    |-- element: string (containsNull = true)\n",
            " |-- prediction: array (nullable = true)\n",
            " |    |-- element: struct (containsNull = true)\n",
            " |    |    |-- annotatorType: string (nullable = true)\n",
            " |    |    |-- begin: integer (nullable = false)\n",
            " |    |    |-- end: integer (nullable = false)\n",
            " |    |    |-- result: string (nullable = true)\n",
            " |    |    |-- metadata: map (nullable = true)\n",
            " |    |    |    |-- key: string\n",
            " |    |    |    |-- value: string (valueContainsNull = true)\n",
            " |    |    |-- embeddings: array (nullable = true)\n",
            " |    |    |    |-- element: float (containsNull = false)\n",
            "\n",
            "+----------------------------------------------------------------------------------------------------------------------------------------------------------------+\n",
            "|prediction                                                                                                                                                      |\n",
            "+----------------------------------------------------------------------------------------------------------------------------------------------------------------+\n",
            "|[{category, 0, 262, neg, {sentence -> 0, neg -> 1.0, pos -> 2.8455852E-15}, []}]                                                                                |\n",
            "|[{category, 0, 139, neg, {sentence -> 0, neg -> 0.722088, pos -> 0.27986914}, []}]                                                                              |\n",
            "|[{category, 0, 130, pos, {sentence -> 0, neg -> 0.13898447, pos -> 0.85950565}, []}]                                                                            |\n",
            "|[{category, 0, 80, pos, {sentence -> 0, neg -> 0.1890985, pos -> 0.81076705}, []}]                                                                              |\n",
            "|[{category, 0, 89, neg, {sentence -> 0, neg -> 0.500581, pos -> 0.5008214}, []}, {category, 0, 89, pos, {sentence -> 0, neg -> 0.500581, pos -> 0.5008214}, []}]|\n",
            "+----------------------------------------------------------------------------------------------------------------------------------------------------------------+\n",
            "only showing top 5 rows\n",
            "\n",
            "+--------+-----------------+\n",
            "|category|prediction.result|\n",
            "+--------+-----------------+\n",
            "|neg     |[neg]            |\n",
            "|neg     |[neg]            |\n",
            "|neg     |[pos]            |\n",
            "|neg     |[pos]            |\n",
            "|neg     |[neg, pos]       |\n",
            "+--------+-----------------+\n",
            "only showing top 5 rows\n",
            "\n"
          ]
        }
      ],
      "source": [
        "preds.printSchema()\n",
        "preds.select(preds.prediction).show(5, truncate=False)\n",
        "preds.select(preds.category, preds.prediction.result).show(5, truncate=False)"
      ]
    },
    {
      "cell_type": "code",
      "execution_count": 71,
      "metadata": {
        "colab": {
          "base_uri": "https://localhost:8080/"
        },
        "id": "OmNN-FEuUytr",
        "outputId": "ffa1ffab-8d4a-4676-faf9-592b49b6608a"
      },
      "outputs": [
        {
          "output_type": "stream",
          "name": "stdout",
          "text": [
            "              precision    recall  f1-score   support\n",
            "\n",
            "         neg       0.79      0.91      0.85      1057\n",
            "         pos       0.65      0.39      0.49       416\n",
            "\n",
            "    accuracy                           0.77      1473\n",
            "   macro avg       0.72      0.65      0.67      1473\n",
            "weighted avg       0.75      0.77      0.75      1473\n",
            "\n"
          ]
        }
      ],
      "source": [
        "preds_df = pred_df.select('category','prediction.result').toPandas()\n",
        "preds_df['result'] = preds_df.result.apply(lambda x : x[0])\n",
        "\n",
        "print (classification_report(preds_df['category'], preds_df['result']))"
      ]
    },
    {
      "cell_type": "code",
      "execution_count": 72,
      "metadata": {
        "id": "Ltt3uq8y9MKR"
      },
      "outputs": [],
      "source": [
        "res = classification_report(preds_df[\"category\"], preds_df[\"result\"], output_dict=True)\n",
        "results_df.loc[\"GenericSVM_100d\"] = [res[\"pos\"][\"f1-score\"], res[\"accuracy\"]]"
      ]
    },
    {
      "cell_type": "markdown",
      "metadata": {
        "id": "hF378LqHvDRK"
      },
      "source": [
        "## 200 Dimension Healthcare Embeddings (embeddings_clinical)\n",
        "\n"
      ]
    },
    {
      "cell_type": "markdown",
      "metadata": {
        "id": "hEppd4Q3vDRK"
      },
      "source": [
        "Now we will extract [embeddings_clinical](https://nlp.johnsnowlabs.com/2020/01/28/embeddings_clinical_en.html) embeddings which has 200 dimension output and use this embeddings in the model training."
      ]
    },
    {
      "cell_type": "code",
      "execution_count": 73,
      "metadata": {
        "colab": {
          "base_uri": "https://localhost:8080/"
        },
        "id": "Dv95E2vNvDRK",
        "outputId": "143b0025-7ad3-4caa-e724-19432670f581"
      },
      "outputs": [
        {
          "output_type": "stream",
          "name": "stdout",
          "text": [
            "embeddings_clinical download started this may take some time.\n",
            "Approximate size to download 1.6 GB\n",
            "[OK!]\n"
          ]
        }
      ],
      "source": [
        "document_assembler = nlp.DocumentAssembler()\\\n",
        "    .setInputCol(\"text\")\\\n",
        "    .setOutputCol(\"document\")\n",
        "\n",
        "tokenizer = nlp.Tokenizer() \\\n",
        "    .setInputCols([\"document\"]) \\\n",
        "    .setOutputCol(\"token\")\n",
        "\n",
        "word_embeddings = nlp.WordEmbeddingsModel.pretrained(\"embeddings_clinical\",\"en\",\"clinical/models\")\\\n",
        "    .setInputCols([\"document\",\"token\"])\\\n",
        "    .setOutputCol(\"word_embeddings\")\n",
        "\n",
        "sentence_embeddings = nlp.SentenceEmbeddings() \\\n",
        "    .setInputCols([\"document\", \"word_embeddings\"]) \\\n",
        "    .setOutputCol(\"sentence_embeddings\") \\\n",
        "    .setPoolingStrategy(\"AVERAGE\")\n",
        "\n",
        "embeddings_pipeline = nlp.Pipeline(\n",
        "    stages = [\n",
        "        document_assembler,\n",
        "        tokenizer,\n",
        "        word_embeddings,\n",
        "        sentence_embeddings,\n",
        "    ])"
      ]
    },
    {
      "cell_type": "code",
      "execution_count": 74,
      "metadata": {
        "colab": {
          "base_uri": "https://localhost:8080/"
        },
        "id": "uj2dbrthvDRK",
        "outputId": "9416618f-05d9-4fa1-9ab4-9e500e047a9b"
      },
      "outputs": [
        {
          "output_type": "stream",
          "name": "stdout",
          "text": [
            "+------------------------------------------------------------+--------+------------------------------------------------------------+\n",
            "|                                                        text|category|                                         sentence_embeddings|\n",
            "+------------------------------------------------------------+--------+------------------------------------------------------------+\n",
            "| 'Bail-out' bivalirudin use in patients with thrombotic c...|     neg|[{sentence_embeddings, 0, 150,  'Bail-out' bivalirudin us...|\n",
            "| (4) The acute rehabilitation of a 21-year-old woman with...|     neg|[{sentence_embeddings, 0, 182,  (4) The acute rehabilitat...|\n",
            "+------------------------------------------------------------+--------+------------------------------------------------------------+\n",
            "only showing top 2 rows\n",
            "\n"
          ]
        }
      ],
      "source": [
        "trainingData_with_embeddings = embeddings_pipeline.fit(trainingData).transform(trainingData)\\\n",
        "                                                  .select(\"text\",\"category\",\"sentence_embeddings\")\n",
        "trainingData_with_embeddings.show(2,truncate=60)"
      ]
    },
    {
      "cell_type": "code",
      "execution_count": 75,
      "metadata": {
        "colab": {
          "base_uri": "https://localhost:8080/"
        },
        "id": "jPZSMm5pvDRK",
        "outputId": "5abbc60f-e5af-4fd2-d481-087de634b441"
      },
      "outputs": [
        {
          "output_type": "stream",
          "name": "stdout",
          "text": [
            "+------------------------------------------------------------+--------+------------------------------------------------------------+\n",
            "|                                                        text|category|                                         sentence_embeddings|\n",
            "+------------------------------------------------------------+--------+------------------------------------------------------------+\n",
            "| A 15-year-old boy had temporary hypertropia, supraductio...|     neg|[{sentence_embeddings, 0, 262,  A 15-year-old boy had tem...|\n",
            "| A 51-year-old-woman presented with chronic eosinophilia,...|     neg|[{sentence_embeddings, 0, 139,  A 51-year-old-woman prese...|\n",
            "+------------------------------------------------------------+--------+------------------------------------------------------------+\n",
            "only showing top 2 rows\n",
            "\n"
          ]
        }
      ],
      "source": [
        "testData_with_embeddings = embeddings_pipeline.fit(testData).transform(testData)\\\n",
        "                                                  .select(\"text\",\"category\",\"sentence_embeddings\")\n",
        "testData_with_embeddings.show(2,truncate=60)"
      ]
    },
    {
      "cell_type": "code",
      "execution_count": 76,
      "metadata": {
        "id": "qrF7eDHBdmBp"
      },
      "outputs": [],
      "source": [
        "log_folder=\"ADE_logs_healthcare_200d\""
      ]
    },
    {
      "cell_type": "markdown",
      "metadata": {
        "id": "coHHa_CRvDRL"
      },
      "source": [
        "### ClassifierDL"
      ]
    },
    {
      "cell_type": "code",
      "execution_count": 77,
      "metadata": {
        "id": "thQ0sg91vDRL"
      },
      "outputs": [],
      "source": [
        "classifier_dl = nlp.ClassifierDLApproach()\\\n",
        "    .setInputCols([\"sentence_embeddings\"])\\\n",
        "    .setOutputCol(\"class\")\\\n",
        "    .setLabelColumn(\"category\")\\\n",
        "    .setBatchSize(16)\\\n",
        "    .setMaxEpochs(30)\\\n",
        "    .setLr(0.001)\\\n",
        "    .setDropout(0.3)\\\n",
        "    .setEnableOutputLogs(True)\\\n",
        "    .setOutputLogsPath(log_folder)\n",
        "\n",
        "classifier_dl_pipeline = nlp.Pipeline(\n",
        "    stages = [\n",
        "        classifier_dl\n",
        "    ])"
      ]
    },
    {
      "cell_type": "code",
      "execution_count": 78,
      "metadata": {
        "id": "VdWaWXcbvDRL"
      },
      "outputs": [],
      "source": [
        "clfDL_model_hc200 = classifier_dl_pipeline.fit(trainingData_with_embeddings)"
      ]
    },
    {
      "cell_type": "code",
      "execution_count": 79,
      "metadata": {
        "colab": {
          "base_uri": "https://localhost:8080/"
        },
        "id": "1W67GqjCvDRL",
        "outputId": "75614c98-f05f-4e9b-fb8c-145503de9e01"
      },
      "outputs": [
        {
          "output_type": "stream",
          "name": "stdout",
          "text": [
            "              precision    recall  f1-score   support\n",
            "\n",
            "         neg       0.88      0.90      0.89      1057\n",
            "         pos       0.73      0.69      0.71       416\n",
            "\n",
            "    accuracy                           0.84      1473\n",
            "   macro avg       0.81      0.79      0.80      1473\n",
            "weighted avg       0.84      0.84      0.84      1473\n",
            "\n"
          ]
        }
      ],
      "source": [
        "preds = clfDL_model_hc200.transform(testData_with_embeddings)\n",
        "\n",
        "preds_df = preds.select(\"category\",\"text\",\"class.result\").toPandas()\n",
        "preds_df[\"result\"] = preds_df[\"result\"].apply(lambda x : x[0])\n",
        "\n",
        "print (classification_report(preds_df[\"category\"], preds_df[\"result\"]))"
      ]
    },
    {
      "cell_type": "code",
      "execution_count": 80,
      "metadata": {
        "id": "CcBH_amw9s5u"
      },
      "outputs": [],
      "source": [
        "res = classification_report(preds_df[\"category\"], preds_df[\"result\"], output_dict=True)\n",
        "results_df.loc[\"ClassifierDL_200d\"] = [res[\"pos\"][\"f1-score\"], res[\"accuracy\"]]"
      ]
    },
    {
      "cell_type": "markdown",
      "metadata": {
        "id": "Vz6ja6oP90It"
      },
      "source": [
        "### MultiClassifierDL"
      ]
    },
    {
      "cell_type": "code",
      "execution_count": 81,
      "metadata": {
        "id": "u7AzomVo90Iu"
      },
      "outputs": [],
      "source": [
        "# MultiClassifierDL accepts list of strings as input label. So we convert label column to array type.\n",
        "trainingData_with_embeddings = trainingData_with_embeddings.withColumn(\"category_array\", F.array(F.col(\"category\")))\n",
        "testData_with_embeddings = testData_with_embeddings.withColumn(\"category_array\", F.array(F.col(\"category\")))"
      ]
    },
    {
      "cell_type": "code",
      "execution_count": 82,
      "metadata": {
        "id": "O25HWJXx90Iu"
      },
      "outputs": [],
      "source": [
        "multiClassifier =nlp.MultiClassifierDLApproach()\\\n",
        "    .setInputCols(\"sentence_embeddings\")\\\n",
        "    .setOutputCol(\"prediction\")\\\n",
        "    .setLabelColumn(\"category_array\")\\\n",
        "    .setBatchSize(32)\\\n",
        "    .setMaxEpochs(20)\\\n",
        "    .setLr(9e-3)\\\n",
        "    .setThreshold(0.5)\\\n",
        "    .setShufflePerEpoch(False)\\\n",
        "    .setEnableOutputLogs(True)\\\n",
        "    .setOutputLogsPath(log_folder)\\\n",
        "  #   .setValidationSplit(0.1)\n",
        "\n",
        "multiClassifier_pipeline = nlp.Pipeline(\n",
        "    stages = [\n",
        "        multiClassifier\n",
        "    ])"
      ]
    },
    {
      "cell_type": "code",
      "execution_count": 83,
      "metadata": {
        "id": "AfwUG4E890Iu"
      },
      "outputs": [],
      "source": [
        "multiClassifier_model_hc200 = multiClassifier_pipeline.fit(trainingData_with_embeddings)"
      ]
    },
    {
      "cell_type": "code",
      "execution_count": 84,
      "metadata": {
        "id": "dqWL8GcD90Iu"
      },
      "outputs": [],
      "source": [
        "preds = multiClassifier_model_hc200.transform(testData_with_embeddings)"
      ]
    },
    {
      "cell_type": "code",
      "execution_count": 85,
      "metadata": {
        "colab": {
          "base_uri": "https://localhost:8080/",
          "height": 215
        },
        "id": "leP1l4bN90Iu",
        "outputId": "ce5efe42-ec5d-4dff-b4be-a7bf14a61299"
      },
      "outputs": [
        {
          "output_type": "execute_result",
          "data": {
            "text/plain": [
              "result\n",
              "['neg']    1069\n",
              "['pos']     404\n",
              "Name: count, dtype: int64"
            ],
            "text/html": [
              "<div>\n",
              "<style scoped>\n",
              "    .dataframe tbody tr th:only-of-type {\n",
              "        vertical-align: middle;\n",
              "    }\n",
              "\n",
              "    .dataframe tbody tr th {\n",
              "        vertical-align: top;\n",
              "    }\n",
              "\n",
              "    .dataframe thead th {\n",
              "        text-align: right;\n",
              "    }\n",
              "</style>\n",
              "<table border=\"1\" class=\"dataframe\">\n",
              "  <thead>\n",
              "    <tr style=\"text-align: right;\">\n",
              "      <th></th>\n",
              "      <th>count</th>\n",
              "    </tr>\n",
              "    <tr>\n",
              "      <th>result</th>\n",
              "      <th></th>\n",
              "    </tr>\n",
              "  </thead>\n",
              "  <tbody>\n",
              "    <tr>\n",
              "      <th>['neg']</th>\n",
              "      <td>1069</td>\n",
              "    </tr>\n",
              "    <tr>\n",
              "      <th>['pos']</th>\n",
              "      <td>404</td>\n",
              "    </tr>\n",
              "  </tbody>\n",
              "</table>\n",
              "</div><br><label><b>dtype:</b> int64</label>"
            ]
          },
          "metadata": {},
          "execution_count": 85
        }
      ],
      "source": [
        "preds_df = preds.select(\"category\",\"text\",\"prediction.result\",\"prediction.metadata\").toPandas()\n",
        "preds_df.result.apply(lambda x: str(x) ).value_counts()"
      ]
    },
    {
      "cell_type": "code",
      "execution_count": 86,
      "metadata": {
        "colab": {
          "base_uri": "https://localhost:8080/",
          "height": 216
        },
        "id": "puS1FgQ-90Iv",
        "outputId": "abd7b0dd-a4e5-40b2-e2d0-754e24aa6865"
      },
      "outputs": [
        {
          "output_type": "execute_result",
          "data": {
            "text/plain": [
              "result\n",
              "neg    1069\n",
              "pos     404\n",
              "Name: count, dtype: int64"
            ],
            "text/html": [
              "<div>\n",
              "<style scoped>\n",
              "    .dataframe tbody tr th:only-of-type {\n",
              "        vertical-align: middle;\n",
              "    }\n",
              "\n",
              "    .dataframe tbody tr th {\n",
              "        vertical-align: top;\n",
              "    }\n",
              "\n",
              "    .dataframe thead th {\n",
              "        text-align: right;\n",
              "    }\n",
              "</style>\n",
              "<table border=\"1\" class=\"dataframe\">\n",
              "  <thead>\n",
              "    <tr style=\"text-align: right;\">\n",
              "      <th></th>\n",
              "      <th>count</th>\n",
              "    </tr>\n",
              "    <tr>\n",
              "      <th>result</th>\n",
              "      <th></th>\n",
              "    </tr>\n",
              "  </thead>\n",
              "  <tbody>\n",
              "    <tr>\n",
              "      <th>neg</th>\n",
              "      <td>1069</td>\n",
              "    </tr>\n",
              "    <tr>\n",
              "      <th>pos</th>\n",
              "      <td>404</td>\n",
              "    </tr>\n",
              "  </tbody>\n",
              "</table>\n",
              "</div><br><label><b>dtype:</b> int64</label>"
            ]
          },
          "metadata": {},
          "execution_count": 86
        }
      ],
      "source": [
        "# We will get the highest score label as result. You can control the number of zero label results with setThreshold() in the training.\n",
        "preds_df[\"scores\"] = preds_df.metadata.apply(lambda x: {k:float(v) for k,v in x[0].items()} if len(x)>=1 else \"\")\n",
        "preds_df[\"result\"] = preds_df.scores.apply(lambda x: max(x, key=x.get) if len(x)>=1 else \"\")\n",
        "preds_df = preds_df[(preds_df[\"result\"]!=\"\")]\n",
        "preds_df[\"result\"].value_counts()"
      ]
    },
    {
      "cell_type": "code",
      "execution_count": 87,
      "metadata": {
        "colab": {
          "base_uri": "https://localhost:8080/"
        },
        "id": "8F9FcFBN90Iv",
        "outputId": "98ae7c9d-f38b-4415-d5a9-a281ab740cdf"
      },
      "outputs": [
        {
          "output_type": "stream",
          "name": "stdout",
          "text": [
            "              precision    recall  f1-score   support\n",
            "\n",
            "         neg       0.89      0.90      0.89      1057\n",
            "         pos       0.73      0.71      0.72       416\n",
            "\n",
            "    accuracy                           0.84      1473\n",
            "   macro avg       0.81      0.80      0.81      1473\n",
            "weighted avg       0.84      0.84      0.84      1473\n",
            "\n"
          ]
        }
      ],
      "source": [
        "print (classification_report(preds_df[\"category\"], preds_df[\"result\"]))"
      ]
    },
    {
      "cell_type": "code",
      "execution_count": 88,
      "metadata": {
        "id": "A47dE8e49_mo"
      },
      "outputs": [],
      "source": [
        "res = classification_report(preds_df[\"category\"], preds_df[\"result\"], output_dict=True)\n",
        "results_df.loc[\"MultiClassifierDL_200d\"] = [res[\"pos\"][\"f1-score\"], res[\"accuracy\"]]"
      ]
    },
    {
      "cell_type": "markdown",
      "metadata": {
        "id": "lwu69bczvDRL"
      },
      "source": [
        "### Generic Classifier"
      ]
    },
    {
      "cell_type": "code",
      "execution_count": 89,
      "metadata": {
        "id": "YTuqFVXKvDRL"
      },
      "outputs": [],
      "source": [
        "#from sparknlp_jsl.annotator import TFGraphBuilder\n",
        "\n",
        "graph_folder = \"gc_graph\"\n",
        "\n",
        "gc_graph_builder = medical.TFGraphBuilder()\\\n",
        "    .setModelName(\"generic_classifier\")\\\n",
        "    .setInputCols([\"features\"])\\\n",
        "    .setLabelColumn(\"category\")\\\n",
        "    .setHiddenLayers([300,200, 50])\\\n",
        "    .setHiddenAct(\"tanh\")\\\n",
        "    .setHiddenActL2(True)\\\n",
        "    .setBatchNorm(True)\\\n",
        "    .setGraphFolder(graph_folder)\\\n",
        "    .setGraphFile(\"gcf_graph_200d.pb\")"
      ]
    },
    {
      "cell_type": "code",
      "execution_count": 90,
      "metadata": {
        "id": "Acx95To9vDRL"
      },
      "outputs": [],
      "source": [
        "features_asm =medical.FeaturesAssembler()\\\n",
        "    .setInputCols([\"sentence_embeddings\"])\\\n",
        "    .setOutputCol(\"features\")\n",
        "\n",
        "gen_clf =medical.GenericClassifierApproach()\\\n",
        "    .setLabelColumn(\"category\")\\\n",
        "    .setInputCols(\"features\")\\\n",
        "    .setOutputCol(\"prediction\")\\\n",
        "    .setModelFile(f\"{graph_folder}/gcf_graph_200d.pb\")\\\n",
        "    .setEpochsNumber(40)\\\n",
        "    .setBatchSize(16)\\\n",
        "    .setLearningRate(0.001)\\\n",
        "    .setOutputLogsPath(log_folder)\\\n",
        "    .setDropout(0.5)\\\n",
        "    .setFixImbalance(True)\\\n",
        "    # .setValidationSplit(0.1)\n",
        "\n",
        "clf_Pipeline = nlp.Pipeline(stages=[\n",
        "    features_asm,\n",
        "    gc_graph_builder,\n",
        "    gen_clf])\n"
      ]
    },
    {
      "cell_type": "code",
      "execution_count": 91,
      "metadata": {
        "colab": {
          "base_uri": "https://localhost:8080/"
        },
        "id": "07qsryq3vDRL",
        "outputId": "92923d1f-ec1a-4f9e-e399-f6a8a63febdb"
      },
      "outputs": [
        {
          "output_type": "stream",
          "name": "stdout",
          "text": [
            "TF Graph Builder configuration:\n",
            "Model name: generic_classifier\n",
            "Graph folder: gc_graph\n",
            "Graph file name: gcf_graph_200d.pb\n",
            "Build params: {'input_dim': 200, 'output_dim': 2, 'hidden_layers': [300, 200, 50], 'hidden_act': 'tanh', 'hidden_act_l2': True, 'batch_norm': True}\n",
            "generic_classifier graph exported to gc_graph/gcf_graph_200d.pb\n"
          ]
        }
      ],
      "source": [
        "generic_model_hc200 = clf_Pipeline.fit(trainingData_with_embeddings)"
      ]
    },
    {
      "cell_type": "code",
      "execution_count": 92,
      "metadata": {
        "colab": {
          "base_uri": "https://localhost:8080/"
        },
        "id": "WahobkK8vDRL",
        "outputId": "40fd0040-abcc-41be-c71f-50b2a7ff37f6"
      },
      "outputs": [
        {
          "output_type": "stream",
          "name": "stdout",
          "text": [
            "              precision    recall  f1-score   support\n",
            "\n",
            "         neg       0.94      0.68      0.79      1057\n",
            "         pos       0.53      0.89      0.66       416\n",
            "\n",
            "    accuracy                           0.74      1473\n",
            "   macro avg       0.73      0.79      0.73      1473\n",
            "weighted avg       0.82      0.74      0.75      1473\n",
            "\n"
          ]
        }
      ],
      "source": [
        "pred_df = generic_model_hc200.transform(testData_with_embeddings)\n",
        "\n",
        "preds_df = pred_df.select('category','prediction.result').toPandas()\n",
        "preds_df['result'] = preds_df.result.apply(lambda x : x[0])\n",
        "\n",
        "print (classification_report(preds_df['category'], preds_df['result']))"
      ]
    },
    {
      "cell_type": "code",
      "execution_count": 93,
      "metadata": {
        "id": "fM0-_jzX-YNs"
      },
      "outputs": [],
      "source": [
        "res = classification_report(preds_df[\"category\"], preds_df[\"result\"], output_dict=True)\n",
        "results_df.loc[\"GenericClassifier_200d\"] = [res[\"pos\"][\"f1-score\"], res[\"accuracy\"]]"
      ]
    },
    {
      "cell_type": "markdown",
      "metadata": {
        "id": "MqvORol0XIG-"
      },
      "source": [
        "### GenericLogRegClassifier"
      ]
    },
    {
      "cell_type": "code",
      "execution_count": 94,
      "metadata": {
        "id": "S7Ms5F5hXIG_"
      },
      "outputs": [],
      "source": [
        "graph_folder = \"gc_graph\"\n",
        "\n",
        "gc_logreg_graph_builder = medical.TFGraphBuilder()\\\n",
        "    .setModelName(\"logreg_classifier\")\\\n",
        "    .setInputCols([\"feature_vector\"]) \\\n",
        "    .setLabelColumn(\"category\")\\\n",
        "    .setGraphFolder(graph_folder)\\\n",
        "    .setGraphFile(\"log_reg_graph.pb\")"
      ]
    },
    {
      "cell_type": "markdown",
      "metadata": {
        "id": "xUGr1BJJXIG_"
      },
      "source": [
        "GenericLogRegClassifier needs outputs from FeaturesAssembler. The FeaturesAssembler is used to collect features from different columns or an embeddings column.\n",
        "\n",
        "The GenericLogRegClassifier takes FEATURE_VECTOR annotations as input, classifies them and outputs CATEGORY annotations."
      ]
    },
    {
      "cell_type": "code",
      "execution_count": 95,
      "metadata": {
        "id": "yuItEMF0XIG_"
      },
      "outputs": [],
      "source": [
        "features_asm = medical.FeaturesAssembler()\\\n",
        "    .setInputCols([\"sentence_embeddings\"])\\\n",
        "    .setOutputCol(\"feature_vector\")\n",
        "\n",
        "gen_clf = medical.GenericLogRegClassifierApproach()\\\n",
        "    .setLabelColumn(\"category\")\\\n",
        "    .setInputCols(\"feature_vector\")\\\n",
        "    .setOutputCol(\"prediction\")\\\n",
        "    .setModelFile(f\"{graph_folder}/log_reg_graph.pb\")\\\n",
        "    .setEpochsNumber(20)\\\n",
        "    .setBatchSize(128)\\\n",
        "    .setLearningRate(0.01)\\\n",
        "    .setOutputLogsPath(log_folder)\\\n",
        "    .setDropout(0.1)\\\n",
        "    .setFixImbalance(True)\\\n",
        "    # .setValidationSplit(0.1)\n",
        "\n",
        "clf_Pipeline = nlp.Pipeline(stages=[\n",
        "    features_asm,\n",
        "    gc_logreg_graph_builder,\n",
        "    gen_clf])\n"
      ]
    },
    {
      "cell_type": "code",
      "execution_count": 96,
      "metadata": {
        "colab": {
          "base_uri": "https://localhost:8080/"
        },
        "id": "MWTfnlebXIG_",
        "outputId": "4e5b9df1-398c-4510-c010-aa3d02e89e9d"
      },
      "outputs": [
        {
          "output_type": "stream",
          "name": "stdout",
          "text": [
            "TF Graph Builder configuration:\n",
            "Model name: logreg_classifier\n",
            "Graph folder: gc_graph\n",
            "Graph file name: log_reg_graph.pb\n",
            "Build params: {'input_dim': 200, 'output_dim': 2, 'hidden_layers': [], 'output_act': 'sigmoid'}\n",
            "logreg_classifier graph exported to gc_graph/log_reg_graph.pb\n"
          ]
        }
      ],
      "source": [
        "generic_model_hc200 = clf_Pipeline.fit(trainingData_with_embeddings)"
      ]
    },
    {
      "cell_type": "code",
      "execution_count": 97,
      "metadata": {
        "id": "ORF9ZLKgXIG_"
      },
      "outputs": [],
      "source": [
        "pred_df = generic_model_hc200.transform(testData_with_embeddings)"
      ]
    },
    {
      "cell_type": "code",
      "execution_count": 98,
      "metadata": {
        "colab": {
          "base_uri": "https://localhost:8080/"
        },
        "id": "d1By23e1XIHA",
        "outputId": "5ac36458-5da0-4b29-cea5-30fabed1a5a5"
      },
      "outputs": [
        {
          "output_type": "stream",
          "name": "stdout",
          "text": [
            "              precision    recall  f1-score   support\n",
            "\n",
            "         neg       0.83      0.92      0.87      1057\n",
            "         pos       0.72      0.51      0.59       416\n",
            "\n",
            "    accuracy                           0.80      1473\n",
            "   macro avg       0.77      0.71      0.73      1473\n",
            "weighted avg       0.79      0.80      0.79      1473\n",
            "\n"
          ]
        }
      ],
      "source": [
        "preds_df = pred_df.select('category','prediction.result').toPandas()\n",
        "preds_df['result'] = preds_df.result.apply(lambda x : x[0])\n",
        "\n",
        "print (classification_report(preds_df['category'], preds_df['result']))"
      ]
    },
    {
      "cell_type": "code",
      "execution_count": 99,
      "metadata": {
        "id": "q61kpUMD-mcM"
      },
      "outputs": [],
      "source": [
        "res = classification_report(preds_df[\"category\"], preds_df[\"result\"], output_dict=True)\n",
        "results_df.loc[\"GenericLogReg_200d\"] = [res[\"pos\"][\"f1-score\"], res[\"accuracy\"]]"
      ]
    },
    {
      "cell_type": "markdown",
      "metadata": {
        "id": "A4fphEjMXV7W"
      },
      "source": [
        "### GenericSVMClassifier"
      ]
    },
    {
      "cell_type": "code",
      "execution_count": 100,
      "metadata": {
        "id": "WWViS8s6XV7X"
      },
      "outputs": [],
      "source": [
        "graph_folder = \"gc_graph\"\n",
        "\n",
        "gc_svm_graph_builder = medical.TFGraphBuilder()\\\n",
        "    .setModelName(\"svm_classifier\")\\\n",
        "    .setInputCols([\"feature_vector\"]) \\\n",
        "    .setLabelColumn(\"category\")\\\n",
        "    .setGraphFolder(graph_folder)\\\n",
        "    .setGraphFile(\"svm_graph.pb\")"
      ]
    },
    {
      "cell_type": "markdown",
      "metadata": {
        "id": "JcM7VyV7XV7X"
      },
      "source": [
        "GenericSVMClassifier needs outputs from FeaturesAssembler. The FeaturesAssembler is used to collect features from different columns or an embeddings column.\n",
        "\n",
        "The GenericSVMClassifier takes FEATURE_VECTOR annotations as input, classifies them and outputs CATEGORY annotations."
      ]
    },
    {
      "cell_type": "code",
      "execution_count": 101,
      "metadata": {
        "id": "px8t14s8XV7X"
      },
      "outputs": [],
      "source": [
        "features_asm = medical.FeaturesAssembler()\\\n",
        "    .setInputCols([\"sentence_embeddings\"])\\\n",
        "    .setOutputCol(\"feature_vector\")\n",
        "\n",
        "gen_clf = medical.GenericSVMClassifierApproach()\\\n",
        "    .setLabelColumn(\"category\")\\\n",
        "    .setInputCols(\"feature_vector\")\\\n",
        "    .setOutputCol(\"prediction\")\\\n",
        "    .setModelFile(f\"{graph_folder}/svm_graph.pb\")\\\n",
        "    .setEpochsNumber(20)\\\n",
        "    .setBatchSize(128)\\\n",
        "    .setLearningRate(0.005)\\\n",
        "    .setOutputLogsPath(log_folder)\\\n",
        "    .setDropout(0.1)\\\n",
        "    .setFixImbalance(True)\\\n",
        "    # .setValidationSplit(0.1)\n",
        "\n",
        "clf_Pipeline = nlp.Pipeline(stages=[\n",
        "    features_asm,\n",
        "    gc_svm_graph_builder,\n",
        "    gen_clf])\n"
      ]
    },
    {
      "cell_type": "code",
      "execution_count": 102,
      "metadata": {
        "colab": {
          "base_uri": "https://localhost:8080/"
        },
        "id": "QHi6KIMSXV7X",
        "outputId": "395f9390-9f9c-415b-ad28-c6235864eae5"
      },
      "outputs": [
        {
          "output_type": "stream",
          "name": "stdout",
          "text": [
            "TF Graph Builder configuration:\n",
            "Model name: svm_classifier\n",
            "Graph folder: gc_graph\n",
            "Graph file name: svm_graph.pb\n",
            "Build params: {'input_dim': 200, 'output_dim': 2, 'hidden_layers': [], 'output_act': 'sigmoid', 'loss_func': 'hinge'}\n",
            "svm_classifier graph exported to gc_graph/svm_graph.pb\n"
          ]
        }
      ],
      "source": [
        "generic_model_hc200 = clf_Pipeline.fit(trainingData_with_embeddings)"
      ]
    },
    {
      "cell_type": "code",
      "execution_count": 103,
      "metadata": {
        "id": "JFhqwwIAXV7X"
      },
      "outputs": [],
      "source": [
        "pred_df = generic_model_hc200.transform(testData_with_embeddings)"
      ]
    },
    {
      "cell_type": "code",
      "execution_count": 104,
      "metadata": {
        "colab": {
          "base_uri": "https://localhost:8080/"
        },
        "id": "8so1Xnn9XV7Y",
        "outputId": "95aa9b5e-ca5f-49f9-abcf-f43a31be8c61"
      },
      "outputs": [
        {
          "output_type": "stream",
          "name": "stdout",
          "text": [
            "              precision    recall  f1-score   support\n",
            "\n",
            "         neg       0.84      0.89      0.86      1057\n",
            "         pos       0.66      0.58      0.62       416\n",
            "\n",
            "    accuracy                           0.80      1473\n",
            "   macro avg       0.75      0.73      0.74      1473\n",
            "weighted avg       0.79      0.80      0.79      1473\n",
            "\n"
          ]
        }
      ],
      "source": [
        "preds_df = pred_df.select('category','prediction.result').toPandas()\n",
        "preds_df['result'] = preds_df.result.apply(lambda x : x[0])\n",
        "\n",
        "print (classification_report(preds_df['category'], preds_df['result']))"
      ]
    },
    {
      "cell_type": "code",
      "execution_count": 105,
      "metadata": {
        "id": "ySXDYn_K-pQe"
      },
      "outputs": [],
      "source": [
        "res = classification_report(preds_df[\"category\"], preds_df[\"result\"], output_dict=True)\n",
        "results_df.loc[\"GenericSVM_200d\"] = [res[\"pos\"][\"f1-score\"], res[\"accuracy\"]]"
      ]
    },
    {
      "cell_type": "markdown",
      "metadata": {
        "id": "HToBQLkiOHDp"
      },
      "source": [
        "## Bert Sentence Embeddings (sbiobert_base_cased_mli)"
      ]
    },
    {
      "cell_type": "markdown",
      "metadata": {
        "id": "GBpfp09tTedK"
      },
      "source": [
        "Now we will extract [sbiobert_base_cased_mli](https://nlp.johnsnowlabs.com/2020/11/27/sbiobert_base_cased_mli_en.html) embeddings which has 768 dimension output and use this embeddings in the model training."
      ]
    },
    {
      "cell_type": "code",
      "execution_count": 106,
      "metadata": {
        "colab": {
          "base_uri": "https://localhost:8080/"
        },
        "id": "eCfAkAC7podJ",
        "outputId": "d4b5f405-43dd-45f5-d829-ffc1c887ad44"
      },
      "outputs": [
        {
          "output_type": "stream",
          "name": "stdout",
          "text": [
            "sbiobert_base_cased_mli download started this may take some time.\n",
            "Approximate size to download 384.3 MB\n",
            "[OK!]\n"
          ]
        }
      ],
      "source": [
        "document_assembler = nlp.DocumentAssembler()\\\n",
        "    .setInputCol(\"text\")\\\n",
        "    .setOutputCol(\"document\")\n",
        "\n",
        "bert_sent = nlp.BertSentenceEmbeddings.pretrained(\"sbiobert_base_cased_mli\", 'en','clinical/models')\\\n",
        "    .setInputCols([\"document\"])\\\n",
        "    .setOutputCol(\"sentence_embeddings\")\n",
        "\n",
        "embeddings_pipeline = nlp.Pipeline(\n",
        "    stages = [\n",
        "        document_assembler,\n",
        "        bert_sent\n",
        "])"
      ]
    },
    {
      "cell_type": "code",
      "execution_count": 107,
      "metadata": {
        "colab": {
          "base_uri": "https://localhost:8080/"
        },
        "id": "PbcLStVLpoaN",
        "outputId": "7ace0709-a83b-473c-ffca-5c90f05b0569"
      },
      "outputs": [
        {
          "output_type": "stream",
          "name": "stdout",
          "text": [
            "+------------------------------------------------------------+--------+------------------------------------------------------------+\n",
            "|                                                        text|category|                                         sentence_embeddings|\n",
            "+------------------------------------------------------------+--------+------------------------------------------------------------+\n",
            "| 'Bail-out' bivalirudin use in patients with thrombotic c...|     neg|[{sentence_embeddings, 0, 150,  'Bail-out' bivalirudin us...|\n",
            "| (4) The acute rehabilitation of a 21-year-old woman with...|     neg|[{sentence_embeddings, 0, 182,  (4) The acute rehabilitat...|\n",
            "+------------------------------------------------------------+--------+------------------------------------------------------------+\n",
            "only showing top 2 rows\n",
            "\n"
          ]
        }
      ],
      "source": [
        "trainingData_with_embeddings = embeddings_pipeline.fit(trainingData).transform(trainingData)\\\n",
        "                                                  .select(\"text\",\"category\",\"sentence_embeddings\")\n",
        "\n",
        "trainingData_with_embeddings.show(2,truncate=60)"
      ]
    },
    {
      "cell_type": "code",
      "execution_count": 108,
      "metadata": {
        "colab": {
          "base_uri": "https://localhost:8080/"
        },
        "id": "qoby-bTzpoYQ",
        "outputId": "6faeb7ab-782f-49f3-f053-5fae1f8733b7"
      },
      "outputs": [
        {
          "output_type": "stream",
          "name": "stdout",
          "text": [
            "+------------------------------------------------------------+--------+------------------------------------------------------------+\n",
            "|                                                        text|category|                                         sentence_embeddings|\n",
            "+------------------------------------------------------------+--------+------------------------------------------------------------+\n",
            "| A 15-year-old boy had temporary hypertropia, supraductio...|     neg|[{sentence_embeddings, 0, 262,  A 15-year-old boy had tem...|\n",
            "| A 51-year-old-woman presented with chronic eosinophilia,...|     neg|[{sentence_embeddings, 0, 139,  A 51-year-old-woman prese...|\n",
            "+------------------------------------------------------------+--------+------------------------------------------------------------+\n",
            "only showing top 2 rows\n",
            "\n"
          ]
        }
      ],
      "source": [
        "testData_with_embeddings = embeddings_pipeline.fit(testData).transform(testData)\\\n",
        "                                                  .select(\"text\",\"category\",\"sentence_embeddings\")\n",
        "\n",
        "testData_with_embeddings.show(2,truncate=60)"
      ]
    },
    {
      "cell_type": "code",
      "execution_count": 109,
      "metadata": {
        "id": "_EetBOQUpoWQ"
      },
      "outputs": [],
      "source": [
        "log_folder=\"ADE_logs_bert\""
      ]
    },
    {
      "cell_type": "markdown",
      "metadata": {
        "id": "289YUVX7yGE1"
      },
      "source": [
        "### ClassifierDL"
      ]
    },
    {
      "cell_type": "code",
      "execution_count": 110,
      "metadata": {
        "id": "ZzCU998wyGE2"
      },
      "outputs": [],
      "source": [
        "classifier_dl = nlp.ClassifierDLApproach()\\\n",
        "    .setInputCols([\"sentence_embeddings\"])\\\n",
        "    .setOutputCol(\"class\")\\\n",
        "    .setLabelColumn(\"category\")\\\n",
        "    .setBatchSize(32)\\\n",
        "    .setMaxEpochs(20)\\\n",
        "    .setLr(0.001)\\\n",
        "    .setDropout(0.3)\\\n",
        "    .setEnableOutputLogs(True)\\\n",
        "    .setOutputLogsPath(log_folder)\n",
        "\n",
        "classifier_dl_pipeline = nlp.Pipeline(stages=[classifier_dl])"
      ]
    },
    {
      "cell_type": "code",
      "execution_count": 111,
      "metadata": {
        "id": "AnpZcIyPyGE2"
      },
      "outputs": [],
      "source": [
        "clfDL_model_bert = classifier_dl_pipeline.fit(trainingData_with_embeddings)"
      ]
    },
    {
      "cell_type": "code",
      "execution_count": 112,
      "metadata": {
        "colab": {
          "base_uri": "https://localhost:8080/"
        },
        "id": "WTekTE0kyGE2",
        "outputId": "b7fe6b18-cff8-43a9-d76c-d4ae8402f2da"
      },
      "outputs": [
        {
          "output_type": "stream",
          "name": "stdout",
          "text": [
            "              precision    recall  f1-score   support\n",
            "\n",
            "         neg       0.90      0.94      0.92      1057\n",
            "         pos       0.82      0.73      0.77       416\n",
            "\n",
            "    accuracy                           0.88      1473\n",
            "   macro avg       0.86      0.83      0.84      1473\n",
            "weighted avg       0.88      0.88      0.88      1473\n",
            "\n"
          ]
        }
      ],
      "source": [
        "preds = clfDL_model_bert.transform(testData_with_embeddings)\n",
        "\n",
        "preds_df = preds.select(\"category\",\"text\",\"class.result\").toPandas()\n",
        "preds_df[\"result\"] = preds_df[\"result\"].apply(lambda x : x[0])\n",
        "\n",
        "print (classification_report(preds_df[\"category\"], preds_df[\"result\"]))"
      ]
    },
    {
      "cell_type": "code",
      "execution_count": 113,
      "metadata": {
        "id": "BHX904kg_dnL"
      },
      "outputs": [],
      "source": [
        "res = classification_report(preds_df[\"category\"], preds_df[\"result\"], output_dict=True)\n",
        "results_df.loc[\"ClassifierDL_bert\"] = [res[\"pos\"][\"f1-score\"], res[\"accuracy\"]]"
      ]
    },
    {
      "cell_type": "markdown",
      "metadata": {
        "id": "rGyp2ylnT7qq"
      },
      "source": [
        "### MultiClassifierDL"
      ]
    },
    {
      "cell_type": "code",
      "execution_count": 114,
      "metadata": {
        "id": "rgc8eN32T7qq"
      },
      "outputs": [],
      "source": [
        "# MultiClassifierDL accepts list of strings as input label. So we convert label column to array type.\n",
        "trainingData_with_embeddings = trainingData_with_embeddings.withColumn(\"category_array\", F.array(F.col(\"category\")))\n",
        "testData_with_embeddings = testData_with_embeddings.withColumn(\"category_array\", F.array(F.col(\"category\")))"
      ]
    },
    {
      "cell_type": "code",
      "execution_count": 115,
      "metadata": {
        "id": "VNSQp8iyT7qr"
      },
      "outputs": [],
      "source": [
        "multiClassifier =nlp.MultiClassifierDLApproach()\\\n",
        "    .setInputCols(\"sentence_embeddings\")\\\n",
        "    .setOutputCol(\"prediction\")\\\n",
        "    .setLabelColumn(\"category_array\")\\\n",
        "    .setBatchSize(32)\\\n",
        "    .setMaxEpochs(20)\\\n",
        "    .setLr(9e-3)\\\n",
        "    .setThreshold(0.5)\\\n",
        "    .setShufflePerEpoch(False)\\\n",
        "    .setEnableOutputLogs(True)\\\n",
        "    .setOutputLogsPath(log_folder)\\\n",
        "  #   .setValidationSplit(0.1)\n",
        "\n",
        "multiClassifier_pipeline = nlp.Pipeline(\n",
        "    stages = [\n",
        "        multiClassifier\n",
        "    ])"
      ]
    },
    {
      "cell_type": "code",
      "execution_count": 116,
      "metadata": {
        "id": "2KuFBI44T7qr"
      },
      "outputs": [],
      "source": [
        "multiClassifier_model_bert = multiClassifier_pipeline.fit(trainingData_with_embeddings)"
      ]
    },
    {
      "cell_type": "code",
      "execution_count": 117,
      "metadata": {
        "id": "WF1cSwJrT7qr"
      },
      "outputs": [],
      "source": [
        "preds = multiClassifier_model_bert.transform(testData_with_embeddings)"
      ]
    },
    {
      "cell_type": "code",
      "execution_count": 118,
      "metadata": {
        "colab": {
          "base_uri": "https://localhost:8080/",
          "height": 210
        },
        "id": "DAMLtlVsT7qr",
        "outputId": "41c1192e-d041-4f70-f601-a8676ae07837"
      },
      "outputs": [
        {
          "output_type": "execute_result",
          "data": {
            "text/plain": [
              "result\n",
              "['neg']           995\n",
              "['pos']           477\n",
              "['neg', 'pos']      1\n",
              "Name: count, dtype: int64"
            ],
            "text/html": [
              "<div>\n",
              "<style scoped>\n",
              "    .dataframe tbody tr th:only-of-type {\n",
              "        vertical-align: middle;\n",
              "    }\n",
              "\n",
              "    .dataframe tbody tr th {\n",
              "        vertical-align: top;\n",
              "    }\n",
              "\n",
              "    .dataframe thead th {\n",
              "        text-align: right;\n",
              "    }\n",
              "</style>\n",
              "<table border=\"1\" class=\"dataframe\">\n",
              "  <thead>\n",
              "    <tr style=\"text-align: right;\">\n",
              "      <th></th>\n",
              "      <th>count</th>\n",
              "    </tr>\n",
              "    <tr>\n",
              "      <th>result</th>\n",
              "      <th></th>\n",
              "    </tr>\n",
              "  </thead>\n",
              "  <tbody>\n",
              "    <tr>\n",
              "      <th>['neg']</th>\n",
              "      <td>995</td>\n",
              "    </tr>\n",
              "    <tr>\n",
              "      <th>['pos']</th>\n",
              "      <td>477</td>\n",
              "    </tr>\n",
              "    <tr>\n",
              "      <th>['neg', 'pos']</th>\n",
              "      <td>1</td>\n",
              "    </tr>\n",
              "  </tbody>\n",
              "</table>\n",
              "</div><br><label><b>dtype:</b> int64</label>"
            ]
          },
          "metadata": {},
          "execution_count": 118
        }
      ],
      "source": [
        "preds_df = preds.select(\"category\",\"text\",\"prediction.result\",\"prediction.metadata\").toPandas()\n",
        "preds_df.result.apply(lambda x: str(x) ).value_counts()"
      ]
    },
    {
      "cell_type": "code",
      "execution_count": 119,
      "metadata": {
        "colab": {
          "base_uri": "https://localhost:8080/",
          "height": 179
        },
        "id": "HcZ7OAaYT7qr",
        "outputId": "92ebbc24-4813-464e-bab7-cb8c025def31"
      },
      "outputs": [
        {
          "output_type": "execute_result",
          "data": {
            "text/plain": [
              "result\n",
              "neg    996\n",
              "pos    477\n",
              "Name: count, dtype: int64"
            ],
            "text/html": [
              "<div>\n",
              "<style scoped>\n",
              "    .dataframe tbody tr th:only-of-type {\n",
              "        vertical-align: middle;\n",
              "    }\n",
              "\n",
              "    .dataframe tbody tr th {\n",
              "        vertical-align: top;\n",
              "    }\n",
              "\n",
              "    .dataframe thead th {\n",
              "        text-align: right;\n",
              "    }\n",
              "</style>\n",
              "<table border=\"1\" class=\"dataframe\">\n",
              "  <thead>\n",
              "    <tr style=\"text-align: right;\">\n",
              "      <th></th>\n",
              "      <th>count</th>\n",
              "    </tr>\n",
              "    <tr>\n",
              "      <th>result</th>\n",
              "      <th></th>\n",
              "    </tr>\n",
              "  </thead>\n",
              "  <tbody>\n",
              "    <tr>\n",
              "      <th>neg</th>\n",
              "      <td>996</td>\n",
              "    </tr>\n",
              "    <tr>\n",
              "      <th>pos</th>\n",
              "      <td>477</td>\n",
              "    </tr>\n",
              "  </tbody>\n",
              "</table>\n",
              "</div><br><label><b>dtype:</b> int64</label>"
            ]
          },
          "metadata": {},
          "execution_count": 119
        }
      ],
      "source": [
        "# We will get the highest score label as result. You can control the number of zero label results with setThreshold() in the training.\n",
        "preds_df[\"scores\"] = preds_df.metadata.apply(lambda x: {k:float(v) for k,v in x[0].items()} if len(x)>=1 else \"\")\n",
        "preds_df[\"result\"] = preds_df.scores.apply(lambda x: max(x, key=x.get) if len(x)>=1 else \"\")\n",
        "preds_df = preds_df[(preds_df[\"result\"]!=\"\")]\n",
        "preds_df[\"result\"].value_counts()"
      ]
    },
    {
      "cell_type": "code",
      "execution_count": 120,
      "metadata": {
        "colab": {
          "base_uri": "https://localhost:8080/"
        },
        "id": "Crbnvw7GT7qr",
        "outputId": "76922a19-35a9-4bc0-c246-05d3dcd3a0f9"
      },
      "outputs": [
        {
          "output_type": "stream",
          "name": "stdout",
          "text": [
            "              precision    recall  f1-score   support\n",
            "\n",
            "         neg       0.93      0.88      0.91      1057\n",
            "         pos       0.73      0.84      0.78       416\n",
            "\n",
            "    accuracy                           0.87      1473\n",
            "   macro avg       0.83      0.86      0.84      1473\n",
            "weighted avg       0.88      0.87      0.87      1473\n",
            "\n"
          ]
        }
      ],
      "source": [
        "print (classification_report(preds_df[\"category\"], preds_df[\"result\"]))"
      ]
    },
    {
      "cell_type": "code",
      "execution_count": 121,
      "metadata": {
        "id": "dFo7-4jA_lb6"
      },
      "outputs": [],
      "source": [
        "res = classification_report(preds_df[\"category\"], preds_df[\"result\"], output_dict=True)\n",
        "results_df.loc[\"MultiClassifierDL_bert\"] = [res[\"pos\"][\"f1-score\"], res[\"accuracy\"]]"
      ]
    },
    {
      "cell_type": "markdown",
      "metadata": {
        "id": "Y4hlGSE9yGE3"
      },
      "source": [
        "### Generic Classifier"
      ]
    },
    {
      "cell_type": "code",
      "execution_count": 123,
      "metadata": {
        "id": "yNSz6-FbyGE3"
      },
      "outputs": [],
      "source": [
        "from sparknlp_jsl.annotator import TFGraphBuilder\n",
        "\n",
        "graph_folder = \"gc_graph\"\n",
        "\n",
        "gc_graph_builder =medical.TFGraphBuilder()\\\n",
        "    .setModelName(\"generic_classifier\")\\\n",
        "    .setInputCols([\"features\"])\\\n",
        "    .setLabelColumn(\"category\")\\\n",
        "    .setHiddenLayers([300,200, 50])\\\n",
        "    .setHiddenAct(\"tanh\")\\\n",
        "    .setHiddenActL2(True)\\\n",
        "    .setBatchNorm(True)\\\n",
        "    .setGraphFolder(graph_folder)\\\n",
        "    .setGraphFile(\"gcf_graph_bert.pb\")"
      ]
    },
    {
      "cell_type": "code",
      "execution_count": 124,
      "metadata": {
        "id": "lYsWcP6yyGE3"
      },
      "outputs": [],
      "source": [
        "features_asm =medical.FeaturesAssembler()\\\n",
        "    .setInputCols([\"sentence_embeddings\"])\\\n",
        "    .setOutputCol(\"features\")\n",
        "\n",
        "gen_clf =medical.GenericClassifierApproach()\\\n",
        "    .setLabelColumn(\"category\")\\\n",
        "    .setInputCols(\"features\")\\\n",
        "    .setOutputCol(\"prediction\")\\\n",
        "    .setModelFile(f\"{graph_folder}/gcf_graph_bert.pb\")\\\n",
        "    .setEpochsNumber(20)\\\n",
        "    .setBatchSize(32)\\\n",
        "    .setLearningRate(0.001)\\\n",
        "    .setOutputLogsPath(log_folder)\\\n",
        "    .setDropout(0.5)\\\n",
        "    .setFixImbalance(True)\\\n",
        "    # .setValidationSplit(0.1)\n",
        "\n",
        "clf_Pipeline = nlp.Pipeline(stages=[\n",
        "    features_asm,\n",
        "    gc_graph_builder,\n",
        "    gen_clf])\n"
      ]
    },
    {
      "cell_type": "code",
      "execution_count": 125,
      "metadata": {
        "colab": {
          "base_uri": "https://localhost:8080/"
        },
        "id": "uTJY05QbyGE3",
        "outputId": "40f9f399-c735-4319-c412-0870723f38c4"
      },
      "outputs": [
        {
          "output_type": "stream",
          "name": "stdout",
          "text": [
            "TF Graph Builder configuration:\n",
            "Model name: generic_classifier\n",
            "Graph folder: gc_graph\n",
            "Graph file name: gcf_graph_bert.pb\n",
            "Build params: {'input_dim': 768, 'output_dim': 2, 'hidden_layers': [300, 200, 50], 'hidden_act': 'tanh', 'hidden_act_l2': True, 'batch_norm': True}\n",
            "generic_classifier graph exported to gc_graph/gcf_graph_bert.pb\n"
          ]
        }
      ],
      "source": [
        "generic_model_bert = clf_Pipeline.fit(trainingData_with_embeddings)"
      ]
    },
    {
      "cell_type": "code",
      "execution_count": 126,
      "metadata": {
        "colab": {
          "base_uri": "https://localhost:8080/"
        },
        "id": "EB1ONwUvyGE3",
        "outputId": "f8dcc977-f8cc-493b-e616-e70cabe3d1c1"
      },
      "outputs": [
        {
          "output_type": "stream",
          "name": "stdout",
          "text": [
            "              precision    recall  f1-score   support\n",
            "\n",
            "         neg       0.96      0.86      0.91      1057\n",
            "         pos       0.72      0.90      0.80       416\n",
            "\n",
            "    accuracy                           0.87      1473\n",
            "   macro avg       0.84      0.88      0.86      1473\n",
            "weighted avg       0.89      0.87      0.88      1473\n",
            "\n"
          ]
        }
      ],
      "source": [
        "pred_df = generic_model_bert.transform(testData_with_embeddings)\n",
        "\n",
        "preds_df = pred_df.select('category','prediction.result').toPandas()\n",
        "preds_df['result'] = preds_df.result.apply(lambda x : x[0])\n",
        "\n",
        "print (classification_report(preds_df['category'], preds_df['result']))"
      ]
    },
    {
      "cell_type": "code",
      "execution_count": 127,
      "metadata": {
        "id": "51IsgG8s_r0l"
      },
      "outputs": [],
      "source": [
        "res = classification_report(preds_df[\"category\"], preds_df[\"result\"], output_dict=True)\n",
        "results_df.loc[\"GenericClassifier_bert\"] = [res[\"pos\"][\"f1-score\"], res[\"accuracy\"]]"
      ]
    },
    {
      "cell_type": "markdown",
      "metadata": {
        "id": "wP2hYqY1XJVB"
      },
      "source": [
        "### GenericLogRegClassifier"
      ]
    },
    {
      "cell_type": "code",
      "execution_count": 128,
      "metadata": {
        "id": "nMqP9w4YXJVB"
      },
      "outputs": [],
      "source": [
        "graph_folder = \"gc_graph\"\n",
        "\n",
        "gc_logreg_graph_builder = medical.TFGraphBuilder()\\\n",
        "    .setModelName(\"logreg_classifier\")\\\n",
        "    .setInputCols([\"feature_vector\"]) \\\n",
        "    .setLabelColumn(\"category\")\\\n",
        "    .setGraphFolder(graph_folder)\\\n",
        "    .setGraphFile(\"log_reg_graph.pb\")"
      ]
    },
    {
      "cell_type": "markdown",
      "metadata": {
        "id": "ubEJt4C5XJVB"
      },
      "source": [
        "GenericLogRegClassifier needs outputs from FeaturesAssembler. The FeaturesAssembler is used to collect features from different columns or an embeddings column.\n",
        "\n",
        "The GenericLogRegClassifier takes FEATURE_VECTOR annotations as input, classifies them and outputs CATEGORY annotations."
      ]
    },
    {
      "cell_type": "code",
      "execution_count": 129,
      "metadata": {
        "id": "JciMxptEXJVB"
      },
      "outputs": [],
      "source": [
        "features_asm = medical.FeaturesAssembler()\\\n",
        "    .setInputCols([\"sentence_embeddings\"])\\\n",
        "    .setOutputCol(\"feature_vector\")\n",
        "\n",
        "gen_clf = medical.GenericLogRegClassifierApproach()\\\n",
        "    .setLabelColumn(\"category\")\\\n",
        "    .setInputCols(\"feature_vector\")\\\n",
        "    .setOutputCol(\"prediction\")\\\n",
        "    .setModelFile(f\"{graph_folder}/log_reg_graph.pb\")\\\n",
        "    .setEpochsNumber(20)\\\n",
        "    .setBatchSize(128)\\\n",
        "    .setLearningRate(0.01)\\\n",
        "    .setOutputLogsPath(log_folder)\\\n",
        "    .setDropout(0.1)\\\n",
        "    .setFixImbalance(True)\\\n",
        "    # .setValidationSplit(0.1)\n",
        "\n",
        "clf_Pipeline = nlp.Pipeline(stages=[\n",
        "    features_asm,\n",
        "    gc_logreg_graph_builder,\n",
        "    gen_clf])\n"
      ]
    },
    {
      "cell_type": "code",
      "execution_count": 130,
      "metadata": {
        "colab": {
          "base_uri": "https://localhost:8080/"
        },
        "id": "vxDhTsP0XJVC",
        "outputId": "e9acb677-9140-4c61-d10c-410208cdfe7d"
      },
      "outputs": [
        {
          "output_type": "stream",
          "name": "stdout",
          "text": [
            "TF Graph Builder configuration:\n",
            "Model name: logreg_classifier\n",
            "Graph folder: gc_graph\n",
            "Graph file name: log_reg_graph.pb\n",
            "Build params: {'input_dim': 768, 'output_dim': 2, 'hidden_layers': [], 'output_act': 'sigmoid'}\n",
            "logreg_classifier graph exported to gc_graph/log_reg_graph.pb\n"
          ]
        }
      ],
      "source": [
        "generic_model_bert = clf_Pipeline.fit(trainingData_with_embeddings)"
      ]
    },
    {
      "cell_type": "code",
      "execution_count": 131,
      "metadata": {
        "id": "EpQZpzg1XJVC"
      },
      "outputs": [],
      "source": [
        "pred_df = generic_model_bert.transform(testData_with_embeddings)"
      ]
    },
    {
      "cell_type": "code",
      "execution_count": 132,
      "metadata": {
        "colab": {
          "base_uri": "https://localhost:8080/"
        },
        "id": "YAIyaNA5XJVC",
        "outputId": "14509a82-8856-4165-d5d4-b8e897a933a8"
      },
      "outputs": [
        {
          "output_type": "stream",
          "name": "stdout",
          "text": [
            "              precision    recall  f1-score   support\n",
            "\n",
            "         neg       0.92      0.92      0.92      1057\n",
            "         pos       0.80      0.80      0.80       416\n",
            "\n",
            "    accuracy                           0.89      1473\n",
            "   macro avg       0.86      0.86      0.86      1473\n",
            "weighted avg       0.89      0.89      0.89      1473\n",
            "\n"
          ]
        }
      ],
      "source": [
        "preds_df = pred_df.select('category','prediction.result').toPandas()\n",
        "preds_df['result'] = preds_df.result.apply(lambda x : x[0])\n",
        "\n",
        "print (classification_report(preds_df['category'], preds_df['result']))"
      ]
    },
    {
      "cell_type": "code",
      "execution_count": 133,
      "metadata": {
        "id": "V6JdqR-N_6Xq"
      },
      "outputs": [],
      "source": [
        "res = classification_report(preds_df[\"category\"], preds_df[\"result\"], output_dict=True)\n",
        "results_df.loc[\"GenericLogReg_bert\"] = [res[\"pos\"][\"f1-score\"], res[\"accuracy\"]]"
      ]
    },
    {
      "cell_type": "markdown",
      "metadata": {
        "id": "fJ53RrHWXXHj"
      },
      "source": [
        "### GenericSVMClassifier"
      ]
    },
    {
      "cell_type": "code",
      "execution_count": 134,
      "metadata": {
        "id": "xyjJzPzBXXHk"
      },
      "outputs": [],
      "source": [
        "graph_folder = \"gc_graph\"\n",
        "\n",
        "gc_svm_graph_builder = medical.TFGraphBuilder()\\\n",
        "    .setModelName(\"svm_classifier\")\\\n",
        "    .setInputCols([\"feature_vector\"]) \\\n",
        "    .setLabelColumn(\"category\")\\\n",
        "    .setGraphFolder(graph_folder)\\\n",
        "    .setGraphFile(\"svm_graph.pb\")"
      ]
    },
    {
      "cell_type": "markdown",
      "metadata": {
        "id": "VX7v20wHXXHk"
      },
      "source": [
        "GenericSVMClassifier needs outputs from FeaturesAssembler. The FeaturesAssembler is used to collect features from different columns or an embeddings column.\n",
        "\n",
        "The GenericSVMClassifier takes FEATURE_VECTOR annotations as input, classifies them and outputs CATEGORY annotations."
      ]
    },
    {
      "cell_type": "code",
      "execution_count": 135,
      "metadata": {
        "id": "0vzQ80M5XXHk"
      },
      "outputs": [],
      "source": [
        "features_asm = medical.FeaturesAssembler()\\\n",
        "    .setInputCols([\"sentence_embeddings\"])\\\n",
        "    .setOutputCol(\"feature_vector\")\n",
        "\n",
        "gen_clf = medical.GenericSVMClassifierApproach()\\\n",
        "    .setLabelColumn(\"category\")\\\n",
        "    .setInputCols(\"feature_vector\")\\\n",
        "    .setOutputCol(\"prediction\")\\\n",
        "    .setModelFile(f\"{graph_folder}/svm_graph.pb\")\\\n",
        "    .setEpochsNumber(20)\\\n",
        "    .setBatchSize(128)\\\n",
        "    .setLearningRate(0.005)\\\n",
        "    .setOutputLogsPath(log_folder)\\\n",
        "    .setDropout(0.1)\\\n",
        "    .setFixImbalance(True)\\\n",
        "    # .setValidationSplit(0.1)\n",
        "\n",
        "clf_Pipeline = nlp.Pipeline(stages=[\n",
        "    features_asm,\n",
        "    gc_svm_graph_builder,\n",
        "    gen_clf])\n"
      ]
    },
    {
      "cell_type": "code",
      "execution_count": 136,
      "metadata": {
        "colab": {
          "base_uri": "https://localhost:8080/"
        },
        "id": "9BieY4KtXXHk",
        "outputId": "1f055757-995a-4a7f-a3cc-6941d75ac139"
      },
      "outputs": [
        {
          "output_type": "stream",
          "name": "stdout",
          "text": [
            "TF Graph Builder configuration:\n",
            "Model name: svm_classifier\n",
            "Graph folder: gc_graph\n",
            "Graph file name: svm_graph.pb\n",
            "Build params: {'input_dim': 768, 'output_dim': 2, 'hidden_layers': [], 'output_act': 'sigmoid', 'loss_func': 'hinge'}\n",
            "svm_classifier graph exported to gc_graph/svm_graph.pb\n"
          ]
        }
      ],
      "source": [
        "generic_model_bert = clf_Pipeline.fit(trainingData_with_embeddings)"
      ]
    },
    {
      "cell_type": "code",
      "execution_count": 137,
      "metadata": {
        "id": "iHL0IWHQXXHk"
      },
      "outputs": [],
      "source": [
        "pred_df = generic_model_bert.transform(testData_with_embeddings)"
      ]
    },
    {
      "cell_type": "code",
      "execution_count": 138,
      "metadata": {
        "colab": {
          "base_uri": "https://localhost:8080/"
        },
        "id": "O1pwRdfMXXHl",
        "outputId": "fdd7b6f3-d260-470b-8219-d1e96b83fdc0"
      },
      "outputs": [
        {
          "output_type": "stream",
          "name": "stdout",
          "text": [
            "              precision    recall  f1-score   support\n",
            "\n",
            "         neg       0.89      0.95      0.92      1057\n",
            "         pos       0.86      0.69      0.76       416\n",
            "\n",
            "    accuracy                           0.88      1473\n",
            "   macro avg       0.87      0.82      0.84      1473\n",
            "weighted avg       0.88      0.88      0.87      1473\n",
            "\n"
          ]
        }
      ],
      "source": [
        "preds_df = pred_df.select('category','prediction.result').toPandas()\n",
        "preds_df['result'] = preds_df.result.apply(lambda x : x[0])\n",
        "\n",
        "print (classification_report(preds_df['category'], preds_df['result']))"
      ]
    },
    {
      "cell_type": "code",
      "execution_count": 139,
      "metadata": {
        "id": "wh3x5Qi9ACsw"
      },
      "outputs": [],
      "source": [
        "res = classification_report(preds_df[\"category\"], preds_df[\"result\"], output_dict=True)\n",
        "results_df.loc[\"GenericSVM_bert\"] = [res[\"pos\"][\"f1-score\"], res[\"accuracy\"]]"
      ]
    },
    {
      "cell_type": "markdown",
      "metadata": {
        "id": "HAEFUdy1gyh1"
      },
      "source": [
        "## DocumentLogRegClassifier"
      ]
    },
    {
      "cell_type": "code",
      "execution_count": 140,
      "metadata": {
        "id": "4YOr31bfg0hm"
      },
      "outputs": [],
      "source": [
        "document_assembler = nlp.DocumentAssembler()\\\n",
        "    .setInputCol(\"text\")\\\n",
        "    .setOutputCol(\"document\")\n",
        "\n",
        "tokenizer = nlp.Tokenizer() \\\n",
        "    .setInputCols([\"document\"]) \\\n",
        "    .setOutputCol(\"token\")\n",
        "\n",
        "normalizer = nlp.Normalizer() \\\n",
        "    .setInputCols([\"token\"]) \\\n",
        "    .setOutputCol(\"normalized\")\n",
        "\n",
        "stopwords_cleaner = nlp.StopWordsCleaner()\\\n",
        "    .setInputCols(\"normalized\")\\\n",
        "    .setOutputCol(\"cleanTokens\")\\\n",
        "    .setCaseSensitive(False)\n",
        "\n",
        "stemmer = nlp.Stemmer() \\\n",
        "    .setInputCols([\"cleanTokens\"]) \\\n",
        "    .setOutputCol(\"stem\")\n",
        "\n",
        "logreg = medical.DocumentLogRegClassifierApproach()\\\n",
        "    .setInputCols(\"stem\")\\\n",
        "    .setLabelCol(\"category\")\\\n",
        "    .setOutputCol(\"prediction\")\\\n",
        "    .setMaxIter(3)\\\n",
        "    .setTol(1e-6)\n",
        "\n",
        "clf_Pipeline = nlp.Pipeline(\n",
        "    stages=[\n",
        "        document_assembler,\n",
        "        tokenizer,\n",
        "        normalizer,\n",
        "        stopwords_cleaner,\n",
        "        stemmer,\n",
        "        logreg])\n",
        "\n",
        "doclogreg_model = clf_Pipeline.fit(trainingData)"
      ]
    },
    {
      "cell_type": "code",
      "execution_count": 141,
      "metadata": {
        "colab": {
          "base_uri": "https://localhost:8080/"
        },
        "id": "61zEw5EQg0d-",
        "outputId": "751142f2-2405-43e0-9167-a0f8dec4f27d"
      },
      "outputs": [
        {
          "output_type": "stream",
          "name": "stdout",
          "text": [
            "              precision    recall  f1-score   support\n",
            "\n",
            "         neg       0.87      0.89      0.88      1057\n",
            "         pos       0.70      0.65      0.67       416\n",
            "\n",
            "    accuracy                           0.82      1473\n",
            "   macro avg       0.78      0.77      0.78      1473\n",
            "weighted avg       0.82      0.82      0.82      1473\n",
            "\n"
          ]
        }
      ],
      "source": [
        "pred_df = doclogreg_model.transform(testData)\n",
        "\n",
        "preds_df = pred_df.select('category','prediction.result').toPandas()\n",
        "preds_df['result'] = preds_df.result.apply(lambda x : x[0])\n",
        "\n",
        "print (classification_report(preds_df['category'], preds_df['result']))"
      ]
    },
    {
      "cell_type": "code",
      "execution_count": 142,
      "metadata": {
        "id": "t6BYspOHAHmu"
      },
      "outputs": [],
      "source": [
        "res = classification_report(preds_df[\"category\"], preds_df[\"result\"], output_dict=True)\n",
        "results_df.loc[\"DocumentLogRegClassifier\"] = [res[\"pos\"][\"f1-score\"], res[\"accuracy\"]]"
      ]
    },
    {
      "cell_type": "markdown",
      "metadata": {
        "id": "7w8N3lOUAS9U"
      },
      "source": [
        "## Comparision of All Models' Result in ADE Dataset"
      ]
    },
    {
      "cell_type": "markdown",
      "metadata": {
        "id": "-QSw0-cWBe5y"
      },
      "source": [
        "Here is the all results of classifier models. Only positive ADE f1 scores and accuracy scores are presented."
      ]
    },
    {
      "cell_type": "code",
      "execution_count": 143,
      "metadata": {
        "colab": {
          "base_uri": "https://localhost:8080/",
          "height": 552
        },
        "id": "axjlz-i5BcZo",
        "outputId": "65c7838e-f417-4220-8c1a-497c3c16e8f4"
      },
      "outputs": [
        {
          "output_type": "execute_result",
          "data": {
            "text/plain": [
              "                          pos-f1-score  accuracy\n",
              "ClassifierDL_100d             0.690244  0.827563\n",
              "MultiClassifierDL_100d        0.691145  0.805838\n",
              "GenericClassifier_100d        0.652361  0.780041\n",
              "GenericLogReg_100d            0.511211  0.778004\n",
              "GenericSVM_100d               0.489552  0.767821\n",
              "ClassifierDL_200d             0.708075  0.840462\n",
              "MultiClassifierDL_200d        0.719512  0.843856\n",
              "GenericClassifier_200d        0.661319  0.742023\n",
              "GenericLogReg_200d            0.593530  0.803802\n",
              "GenericSVM_200d               0.617761  0.798371\n",
              "ClassifierDL_bert             0.771392  0.878479\n",
              "MultiClassifierDL_bert        0.781635  0.867617\n",
              "GenericClassifier_bert        0.802139  0.874406\n",
              "GenericLogReg_bert            0.798552  0.886626\n",
              "GenericSVM_bert               0.761015  0.878479\n",
              "DocumentLogRegClassifier      0.673317  0.822132"
            ],
            "text/html": [
              "\n",
              "  <div id=\"df-3896f476-fff9-4d6e-ae70-b09901276e94\" class=\"colab-df-container\">\n",
              "    <div>\n",
              "<style scoped>\n",
              "    .dataframe tbody tr th:only-of-type {\n",
              "        vertical-align: middle;\n",
              "    }\n",
              "\n",
              "    .dataframe tbody tr th {\n",
              "        vertical-align: top;\n",
              "    }\n",
              "\n",
              "    .dataframe thead th {\n",
              "        text-align: right;\n",
              "    }\n",
              "</style>\n",
              "<table border=\"1\" class=\"dataframe\">\n",
              "  <thead>\n",
              "    <tr style=\"text-align: right;\">\n",
              "      <th></th>\n",
              "      <th>pos-f1-score</th>\n",
              "      <th>accuracy</th>\n",
              "    </tr>\n",
              "  </thead>\n",
              "  <tbody>\n",
              "    <tr>\n",
              "      <th>ClassifierDL_100d</th>\n",
              "      <td>0.690244</td>\n",
              "      <td>0.827563</td>\n",
              "    </tr>\n",
              "    <tr>\n",
              "      <th>MultiClassifierDL_100d</th>\n",
              "      <td>0.691145</td>\n",
              "      <td>0.805838</td>\n",
              "    </tr>\n",
              "    <tr>\n",
              "      <th>GenericClassifier_100d</th>\n",
              "      <td>0.652361</td>\n",
              "      <td>0.780041</td>\n",
              "    </tr>\n",
              "    <tr>\n",
              "      <th>GenericLogReg_100d</th>\n",
              "      <td>0.511211</td>\n",
              "      <td>0.778004</td>\n",
              "    </tr>\n",
              "    <tr>\n",
              "      <th>GenericSVM_100d</th>\n",
              "      <td>0.489552</td>\n",
              "      <td>0.767821</td>\n",
              "    </tr>\n",
              "    <tr>\n",
              "      <th>ClassifierDL_200d</th>\n",
              "      <td>0.708075</td>\n",
              "      <td>0.840462</td>\n",
              "    </tr>\n",
              "    <tr>\n",
              "      <th>MultiClassifierDL_200d</th>\n",
              "      <td>0.719512</td>\n",
              "      <td>0.843856</td>\n",
              "    </tr>\n",
              "    <tr>\n",
              "      <th>GenericClassifier_200d</th>\n",
              "      <td>0.661319</td>\n",
              "      <td>0.742023</td>\n",
              "    </tr>\n",
              "    <tr>\n",
              "      <th>GenericLogReg_200d</th>\n",
              "      <td>0.593530</td>\n",
              "      <td>0.803802</td>\n",
              "    </tr>\n",
              "    <tr>\n",
              "      <th>GenericSVM_200d</th>\n",
              "      <td>0.617761</td>\n",
              "      <td>0.798371</td>\n",
              "    </tr>\n",
              "    <tr>\n",
              "      <th>ClassifierDL_bert</th>\n",
              "      <td>0.771392</td>\n",
              "      <td>0.878479</td>\n",
              "    </tr>\n",
              "    <tr>\n",
              "      <th>MultiClassifierDL_bert</th>\n",
              "      <td>0.781635</td>\n",
              "      <td>0.867617</td>\n",
              "    </tr>\n",
              "    <tr>\n",
              "      <th>GenericClassifier_bert</th>\n",
              "      <td>0.802139</td>\n",
              "      <td>0.874406</td>\n",
              "    </tr>\n",
              "    <tr>\n",
              "      <th>GenericLogReg_bert</th>\n",
              "      <td>0.798552</td>\n",
              "      <td>0.886626</td>\n",
              "    </tr>\n",
              "    <tr>\n",
              "      <th>GenericSVM_bert</th>\n",
              "      <td>0.761015</td>\n",
              "      <td>0.878479</td>\n",
              "    </tr>\n",
              "    <tr>\n",
              "      <th>DocumentLogRegClassifier</th>\n",
              "      <td>0.673317</td>\n",
              "      <td>0.822132</td>\n",
              "    </tr>\n",
              "  </tbody>\n",
              "</table>\n",
              "</div>\n",
              "    <div class=\"colab-df-buttons\">\n",
              "\n",
              "  <div class=\"colab-df-container\">\n",
              "    <button class=\"colab-df-convert\" onclick=\"convertToInteractive('df-3896f476-fff9-4d6e-ae70-b09901276e94')\"\n",
              "            title=\"Convert this dataframe to an interactive table.\"\n",
              "            style=\"display:none;\">\n",
              "\n",
              "  <svg xmlns=\"http://www.w3.org/2000/svg\" height=\"24px\" viewBox=\"0 -960 960 960\">\n",
              "    <path d=\"M120-120v-720h720v720H120Zm60-500h600v-160H180v160Zm220 220h160v-160H400v160Zm0 220h160v-160H400v160ZM180-400h160v-160H180v160Zm440 0h160v-160H620v160ZM180-180h160v-160H180v160Zm440 0h160v-160H620v160Z\"/>\n",
              "  </svg>\n",
              "    </button>\n",
              "\n",
              "  <style>\n",
              "    .colab-df-container {\n",
              "      display:flex;\n",
              "      gap: 12px;\n",
              "    }\n",
              "\n",
              "    .colab-df-convert {\n",
              "      background-color: #E8F0FE;\n",
              "      border: none;\n",
              "      border-radius: 50%;\n",
              "      cursor: pointer;\n",
              "      display: none;\n",
              "      fill: #1967D2;\n",
              "      height: 32px;\n",
              "      padding: 0 0 0 0;\n",
              "      width: 32px;\n",
              "    }\n",
              "\n",
              "    .colab-df-convert:hover {\n",
              "      background-color: #E2EBFA;\n",
              "      box-shadow: 0px 1px 2px rgba(60, 64, 67, 0.3), 0px 1px 3px 1px rgba(60, 64, 67, 0.15);\n",
              "      fill: #174EA6;\n",
              "    }\n",
              "\n",
              "    .colab-df-buttons div {\n",
              "      margin-bottom: 4px;\n",
              "    }\n",
              "\n",
              "    [theme=dark] .colab-df-convert {\n",
              "      background-color: #3B4455;\n",
              "      fill: #D2E3FC;\n",
              "    }\n",
              "\n",
              "    [theme=dark] .colab-df-convert:hover {\n",
              "      background-color: #434B5C;\n",
              "      box-shadow: 0px 1px 3px 1px rgba(0, 0, 0, 0.15);\n",
              "      filter: drop-shadow(0px 1px 2px rgba(0, 0, 0, 0.3));\n",
              "      fill: #FFFFFF;\n",
              "    }\n",
              "  </style>\n",
              "\n",
              "    <script>\n",
              "      const buttonEl =\n",
              "        document.querySelector('#df-3896f476-fff9-4d6e-ae70-b09901276e94 button.colab-df-convert');\n",
              "      buttonEl.style.display =\n",
              "        google.colab.kernel.accessAllowed ? 'block' : 'none';\n",
              "\n",
              "      async function convertToInteractive(key) {\n",
              "        const element = document.querySelector('#df-3896f476-fff9-4d6e-ae70-b09901276e94');\n",
              "        const dataTable =\n",
              "          await google.colab.kernel.invokeFunction('convertToInteractive',\n",
              "                                                    [key], {});\n",
              "        if (!dataTable) return;\n",
              "\n",
              "        const docLinkHtml = 'Like what you see? Visit the ' +\n",
              "          '<a target=\"_blank\" href=https://colab.research.google.com/notebooks/data_table.ipynb>data table notebook</a>'\n",
              "          + ' to learn more about interactive tables.';\n",
              "        element.innerHTML = '';\n",
              "        dataTable['output_type'] = 'display_data';\n",
              "        await google.colab.output.renderOutput(dataTable, element);\n",
              "        const docLink = document.createElement('div');\n",
              "        docLink.innerHTML = docLinkHtml;\n",
              "        element.appendChild(docLink);\n",
              "      }\n",
              "    </script>\n",
              "  </div>\n",
              "\n",
              "\n",
              "    <div id=\"df-ee5a4889-907b-42f8-bf47-7e837c57eab9\">\n",
              "      <button class=\"colab-df-quickchart\" onclick=\"quickchart('df-ee5a4889-907b-42f8-bf47-7e837c57eab9')\"\n",
              "                title=\"Suggest charts\"\n",
              "                style=\"display:none;\">\n",
              "\n",
              "<svg xmlns=\"http://www.w3.org/2000/svg\" height=\"24px\"viewBox=\"0 0 24 24\"\n",
              "     width=\"24px\">\n",
              "    <g>\n",
              "        <path d=\"M19 3H5c-1.1 0-2 .9-2 2v14c0 1.1.9 2 2 2h14c1.1 0 2-.9 2-2V5c0-1.1-.9-2-2-2zM9 17H7v-7h2v7zm4 0h-2V7h2v10zm4 0h-2v-4h2v4z\"/>\n",
              "    </g>\n",
              "</svg>\n",
              "      </button>\n",
              "\n",
              "<style>\n",
              "  .colab-df-quickchart {\n",
              "      --bg-color: #E8F0FE;\n",
              "      --fill-color: #1967D2;\n",
              "      --hover-bg-color: #E2EBFA;\n",
              "      --hover-fill-color: #174EA6;\n",
              "      --disabled-fill-color: #AAA;\n",
              "      --disabled-bg-color: #DDD;\n",
              "  }\n",
              "\n",
              "  [theme=dark] .colab-df-quickchart {\n",
              "      --bg-color: #3B4455;\n",
              "      --fill-color: #D2E3FC;\n",
              "      --hover-bg-color: #434B5C;\n",
              "      --hover-fill-color: #FFFFFF;\n",
              "      --disabled-bg-color: #3B4455;\n",
              "      --disabled-fill-color: #666;\n",
              "  }\n",
              "\n",
              "  .colab-df-quickchart {\n",
              "    background-color: var(--bg-color);\n",
              "    border: none;\n",
              "    border-radius: 50%;\n",
              "    cursor: pointer;\n",
              "    display: none;\n",
              "    fill: var(--fill-color);\n",
              "    height: 32px;\n",
              "    padding: 0;\n",
              "    width: 32px;\n",
              "  }\n",
              "\n",
              "  .colab-df-quickchart:hover {\n",
              "    background-color: var(--hover-bg-color);\n",
              "    box-shadow: 0 1px 2px rgba(60, 64, 67, 0.3), 0 1px 3px 1px rgba(60, 64, 67, 0.15);\n",
              "    fill: var(--button-hover-fill-color);\n",
              "  }\n",
              "\n",
              "  .colab-df-quickchart-complete:disabled,\n",
              "  .colab-df-quickchart-complete:disabled:hover {\n",
              "    background-color: var(--disabled-bg-color);\n",
              "    fill: var(--disabled-fill-color);\n",
              "    box-shadow: none;\n",
              "  }\n",
              "\n",
              "  .colab-df-spinner {\n",
              "    border: 2px solid var(--fill-color);\n",
              "    border-color: transparent;\n",
              "    border-bottom-color: var(--fill-color);\n",
              "    animation:\n",
              "      spin 1s steps(1) infinite;\n",
              "  }\n",
              "\n",
              "  @keyframes spin {\n",
              "    0% {\n",
              "      border-color: transparent;\n",
              "      border-bottom-color: var(--fill-color);\n",
              "      border-left-color: var(--fill-color);\n",
              "    }\n",
              "    20% {\n",
              "      border-color: transparent;\n",
              "      border-left-color: var(--fill-color);\n",
              "      border-top-color: var(--fill-color);\n",
              "    }\n",
              "    30% {\n",
              "      border-color: transparent;\n",
              "      border-left-color: var(--fill-color);\n",
              "      border-top-color: var(--fill-color);\n",
              "      border-right-color: var(--fill-color);\n",
              "    }\n",
              "    40% {\n",
              "      border-color: transparent;\n",
              "      border-right-color: var(--fill-color);\n",
              "      border-top-color: var(--fill-color);\n",
              "    }\n",
              "    60% {\n",
              "      border-color: transparent;\n",
              "      border-right-color: var(--fill-color);\n",
              "    }\n",
              "    80% {\n",
              "      border-color: transparent;\n",
              "      border-right-color: var(--fill-color);\n",
              "      border-bottom-color: var(--fill-color);\n",
              "    }\n",
              "    90% {\n",
              "      border-color: transparent;\n",
              "      border-bottom-color: var(--fill-color);\n",
              "    }\n",
              "  }\n",
              "</style>\n",
              "\n",
              "      <script>\n",
              "        async function quickchart(key) {\n",
              "          const quickchartButtonEl =\n",
              "            document.querySelector('#' + key + ' button');\n",
              "          quickchartButtonEl.disabled = true;  // To prevent multiple clicks.\n",
              "          quickchartButtonEl.classList.add('colab-df-spinner');\n",
              "          try {\n",
              "            const charts = await google.colab.kernel.invokeFunction(\n",
              "                'suggestCharts', [key], {});\n",
              "          } catch (error) {\n",
              "            console.error('Error during call to suggestCharts:', error);\n",
              "          }\n",
              "          quickchartButtonEl.classList.remove('colab-df-spinner');\n",
              "          quickchartButtonEl.classList.add('colab-df-quickchart-complete');\n",
              "        }\n",
              "        (() => {\n",
              "          let quickchartButtonEl =\n",
              "            document.querySelector('#df-ee5a4889-907b-42f8-bf47-7e837c57eab9 button');\n",
              "          quickchartButtonEl.style.display =\n",
              "            google.colab.kernel.accessAllowed ? 'block' : 'none';\n",
              "        })();\n",
              "      </script>\n",
              "    </div>\n",
              "\n",
              "  <div id=\"id_523baee7-7ba1-4e30-a19f-a34f5dc7c0f4\">\n",
              "    <style>\n",
              "      .colab-df-generate {\n",
              "        background-color: #E8F0FE;\n",
              "        border: none;\n",
              "        border-radius: 50%;\n",
              "        cursor: pointer;\n",
              "        display: none;\n",
              "        fill: #1967D2;\n",
              "        height: 32px;\n",
              "        padding: 0 0 0 0;\n",
              "        width: 32px;\n",
              "      }\n",
              "\n",
              "      .colab-df-generate:hover {\n",
              "        background-color: #E2EBFA;\n",
              "        box-shadow: 0px 1px 2px rgba(60, 64, 67, 0.3), 0px 1px 3px 1px rgba(60, 64, 67, 0.15);\n",
              "        fill: #174EA6;\n",
              "      }\n",
              "\n",
              "      [theme=dark] .colab-df-generate {\n",
              "        background-color: #3B4455;\n",
              "        fill: #D2E3FC;\n",
              "      }\n",
              "\n",
              "      [theme=dark] .colab-df-generate:hover {\n",
              "        background-color: #434B5C;\n",
              "        box-shadow: 0px 1px 3px 1px rgba(0, 0, 0, 0.15);\n",
              "        filter: drop-shadow(0px 1px 2px rgba(0, 0, 0, 0.3));\n",
              "        fill: #FFFFFF;\n",
              "      }\n",
              "    </style>\n",
              "    <button class=\"colab-df-generate\" onclick=\"generateWithVariable('results_df')\"\n",
              "            title=\"Generate code using this dataframe.\"\n",
              "            style=\"display:none;\">\n",
              "\n",
              "  <svg xmlns=\"http://www.w3.org/2000/svg\" height=\"24px\"viewBox=\"0 0 24 24\"\n",
              "       width=\"24px\">\n",
              "    <path d=\"M7,19H8.4L18.45,9,17,7.55,7,17.6ZM5,21V16.75L18.45,3.32a2,2,0,0,1,2.83,0l1.4,1.43a1.91,1.91,0,0,1,.58,1.4,1.91,1.91,0,0,1-.58,1.4L9.25,21ZM18.45,9,17,7.55Zm-12,3A5.31,5.31,0,0,0,4.9,8.1,5.31,5.31,0,0,0,1,6.5,5.31,5.31,0,0,0,4.9,4.9,5.31,5.31,0,0,0,6.5,1,5.31,5.31,0,0,0,8.1,4.9,5.31,5.31,0,0,0,12,6.5,5.46,5.46,0,0,0,6.5,12Z\"/>\n",
              "  </svg>\n",
              "    </button>\n",
              "    <script>\n",
              "      (() => {\n",
              "      const buttonEl =\n",
              "        document.querySelector('#id_523baee7-7ba1-4e30-a19f-a34f5dc7c0f4 button.colab-df-generate');\n",
              "      buttonEl.style.display =\n",
              "        google.colab.kernel.accessAllowed ? 'block' : 'none';\n",
              "\n",
              "      buttonEl.onclick = () => {\n",
              "        google.colab.notebook.generateWithVariable('results_df');\n",
              "      }\n",
              "      })();\n",
              "    </script>\n",
              "  </div>\n",
              "\n",
              "    </div>\n",
              "  </div>\n"
            ],
            "application/vnd.google.colaboratory.intrinsic+json": {
              "type": "dataframe",
              "variable_name": "results_df",
              "summary": "{\n  \"name\": \"results_df\",\n  \"rows\": 16,\n  \"fields\": [\n    {\n      \"column\": \"pos-f1-score\",\n      \"properties\": {\n        \"dtype\": \"number\",\n        \"std\": 0.09449901345676416,\n        \"min\": 0.48955223880597015,\n        \"max\": 0.8021390374331551,\n        \"num_unique_values\": 16,\n        \"samples\": [\n          0.6902439024390243,\n          0.6911447084233261,\n          0.7080745341614907\n        ],\n        \"semantic_type\": \"\",\n        \"description\": \"\"\n      }\n    },\n    {\n      \"column\": \"accuracy\",\n      \"properties\": {\n        \"dtype\": \"number\",\n        \"std\": 0.04493950431246844,\n        \"min\": 0.7420230821452818,\n        \"max\": 0.8866259334691107,\n        \"num_unique_values\": 15,\n        \"samples\": [\n          0.7983706720977597,\n          0.8676171079429735,\n          0.8275627970128988\n        ],\n        \"semantic_type\": \"\",\n        \"description\": \"\"\n      }\n    }\n  ]\n}"
            }
          },
          "metadata": {},
          "execution_count": 143
        }
      ],
      "source": [
        "results_df"
      ]
    },
    {
      "cell_type": "markdown",
      "metadata": {
        "id": "IryBN-nlB8fu"
      },
      "source": [
        "# Mtsamples Dataset"
      ]
    },
    {
      "cell_type": "markdown",
      "metadata": {
        "id": "qbEQHM6ZagIv"
      },
      "source": [
        "**❗Please restart runtime and continue**"
      ]
    },
    {
      "cell_type": "code",
      "execution_count": null,
      "metadata": {
        "id": "x0I09TZ-aeG4"
      },
      "outputs": [],
      "source": [
        "from johnsnowlabs import nlp, medical, visual\n",
        "import pandas as pd\n",
        "from sklearn.metrics import confusion_matrix, classification_report, accuracy_score\n",
        "import pyspark.sql.functions as F\n",
        "\n",
        "# Automatically load license data and start a session with all jars user has access to\n",
        "spark = nlp.start(hardware_target=\"gpu\")"
      ]
    },
    {
      "cell_type": "markdown",
      "metadata": {
        "id": "9VTK1AsahOpz"
      },
      "source": [
        "## Load Dataset"
      ]
    },
    {
      "cell_type": "code",
      "execution_count": 7,
      "metadata": {
        "id": "CHPqy3NeZMWW"
      },
      "outputs": [],
      "source": [
        "!wget -q https://raw.githubusercontent.com/JohnSnowLabs/spark-nlp-workshop/master/tutorials/Certification_Trainings/Healthcare/data/mtsamples_classifier.csv"
      ]
    },
    {
      "cell_type": "code",
      "execution_count": 8,
      "metadata": {
        "colab": {
          "base_uri": "https://localhost:8080/"
        },
        "id": "44eb4f5f-9065-4512-aad6-2afc89f74220",
        "outputId": "3cf58875-3606-422c-c06d-3739c7a57e40"
      },
      "outputs": [
        {
          "output_type": "stream",
          "name": "stdout",
          "text": [
            "+----------------+----------------------------------------------------------------------------------------------------+\n",
            "|        category|                                                                                                text|\n",
            "+----------------+----------------------------------------------------------------------------------------------------+\n",
            "|Gastroenterology| PROCEDURES PERFORMED: Colonoscopy. INDICATIONS: Renewed symptoms likely consistent with active f...|\n",
            "|Gastroenterology| OPERATION 1. Ivor-Lewis esophagogastrectomy. 2. Feeding jejunostomy. 3. Placement of two right-s...|\n",
            "|Gastroenterology| PREOPERATIVE DIAGNOSES: 1. Gastroesophageal reflux disease. 2. Chronic dyspepsia. POSTOPERATIVE ...|\n",
            "|Gastroenterology| PROCEDURE: Colonoscopy. PREOPERATIVE DIAGNOSES: Rectal bleeding and perirectal abscess. POSTOPER...|\n",
            "|Gastroenterology| PREOPERATIVE DIAGNOSIS: Right colon tumor. POSTOPERATIVE DIAGNOSES: 1. Right colon cancer. 2. As...|\n",
            "|Gastroenterology| PREOPERATIVE DIAGNOSIS (ES): 1. Cholelithiasis. 2. Cholecystitis. POSTOPERATIVE DIAGNOSIS (ES): ...|\n",
            "|Gastroenterology| The patient was taken to the GI lab and placed in the left lateral supine position. Continuous p...|\n",
            "|Gastroenterology| PREOPERATIVE DIAGNOSIS: Gastrostomy (gastrocutaneous fistula). POSTOPERATIVE DIAGNOSIS: Gastrost...|\n",
            "|Gastroenterology| PREOPERATIVE DIAGNOSIS: Acute acalculous cholecystitis. POSTOPERATIVE DIAGNOSIS: Acute hemorrhag...|\n",
            "|Gastroenterology| HISTORY OF PRESENT ILLNESS: This is a 10-year-old who was found with biliary atresia and underwe...|\n",
            "+----------------+----------------------------------------------------------------------------------------------------+\n",
            "only showing top 10 rows\n",
            "\n"
          ]
        }
      ],
      "source": [
        "spark_df = spark.read.csv(\"mtsamples_classifier.csv\", header = True)\n",
        "\n",
        "spark_df.show(10,truncate=100)"
      ]
    },
    {
      "cell_type": "code",
      "execution_count": 9,
      "metadata": {
        "colab": {
          "base_uri": "https://localhost:8080/"
        },
        "id": "yApqQhjp_EZx",
        "outputId": "896adeb7-5305-4aef-86f0-9792f9e4bb42"
      },
      "outputs": [
        {
          "output_type": "stream",
          "name": "stdout",
          "text": [
            "root\n",
            " |-- category: string (nullable = true)\n",
            " |-- text: string (nullable = true)\n",
            "\n"
          ]
        }
      ],
      "source": [
        "spark_df.printSchema()"
      ]
    },
    {
      "cell_type": "code",
      "execution_count": 10,
      "metadata": {
        "colab": {
          "base_uri": "https://localhost:8080/"
        },
        "id": "f0886fb5-fd9d-4199-b142-637cad880866",
        "outputId": "51f95a1a-5990-4e0d-dc9f-c4b049033d6c"
      },
      "outputs": [
        {
          "output_type": "execute_result",
          "data": {
            "text/plain": [
              "638"
            ]
          },
          "metadata": {},
          "execution_count": 10
        }
      ],
      "source": [
        "spark_df.count()"
      ]
    },
    {
      "cell_type": "code",
      "execution_count": 11,
      "metadata": {
        "colab": {
          "base_uri": "https://localhost:8080/"
        },
        "id": "241bd286-350c-421e-92f4-a80164ed2dc1",
        "outputId": "e24c5504-10eb-4425-fd3c-52a29d9e0bbb"
      },
      "outputs": [
        {
          "output_type": "stream",
          "name": "stdout",
          "text": [
            "+----------------+-----+\n",
            "|        category|count|\n",
            "+----------------+-----+\n",
            "|         Urology|  115|\n",
            "|       Neurology|  143|\n",
            "|      Orthopedic|  223|\n",
            "|Gastroenterology|  157|\n",
            "+----------------+-----+\n",
            "\n"
          ]
        }
      ],
      "source": [
        "spark_df.groupBy(\"category\").count().show()"
      ]
    },
    {
      "cell_type": "code",
      "execution_count": 12,
      "metadata": {
        "id": "db12fe42-90b6-434d-852a-ea86cad9a963"
      },
      "outputs": [],
      "source": [
        "(trainingData, testData) = spark_df.randomSplit([0.8, 0.2], seed = 42)"
      ]
    },
    {
      "cell_type": "code",
      "execution_count": 13,
      "metadata": {
        "colab": {
          "base_uri": "https://localhost:8080/"
        },
        "id": "P3iINSk1hc2E",
        "outputId": "d7134208-9041-4cc8-f177-7745b18b858b"
      },
      "outputs": [
        {
          "output_type": "stream",
          "name": "stdout",
          "text": [
            "+----------------+-----+\n",
            "|        category|count|\n",
            "+----------------+-----+\n",
            "|         Urology|   95|\n",
            "|       Neurology|  121|\n",
            "|      Orthopedic|  188|\n",
            "|Gastroenterology|  132|\n",
            "+----------------+-----+\n",
            "\n"
          ]
        }
      ],
      "source": [
        "trainingData.groupBy(\"category\").count().show()"
      ]
    },
    {
      "cell_type": "code",
      "execution_count": 14,
      "metadata": {
        "colab": {
          "base_uri": "https://localhost:8080/"
        },
        "id": "UofCYygtKNw7",
        "outputId": "b390d86c-65e1-43ae-86e7-2b8c6dde0478"
      },
      "outputs": [
        {
          "output_type": "stream",
          "name": "stdout",
          "text": [
            "+----------------+-----+\n",
            "|        category|count|\n",
            "+----------------+-----+\n",
            "|         Urology|   20|\n",
            "|       Neurology|   22|\n",
            "|      Orthopedic|   35|\n",
            "|Gastroenterology|   25|\n",
            "+----------------+-----+\n",
            "\n"
          ]
        }
      ],
      "source": [
        "testData.groupBy(\"category\").count().show()"
      ]
    },
    {
      "cell_type": "markdown",
      "metadata": {
        "id": "F5fxqMw69oZ_"
      },
      "source": [
        "## 100 Dimension Healthcare Embeddings (embeddings_healthcare_100d)\n",
        "\n"
      ]
    },
    {
      "cell_type": "markdown",
      "metadata": {
        "id": "z3E3d1_w9oZ_"
      },
      "source": [
        "We will extract [healthcare_100d embeddings](https://nlp.johnsnowlabs.com/2020/05/29/embeddings_healthcare_100d_en.html) and use it in the classificaiton model training."
      ]
    },
    {
      "cell_type": "code",
      "execution_count": 40,
      "metadata": {
        "colab": {
          "base_uri": "https://localhost:8080/"
        },
        "id": "dGwOkIhg9oZ_",
        "outputId": "93c47191-9ecb-41c3-cb56-004f8a3a47e5"
      },
      "outputs": [
        {
          "output_type": "stream",
          "name": "stdout",
          "text": [
            "embeddings_healthcare_100d download started this may take some time.\n",
            "Approximate size to download 475.8 MB\n",
            "[OK!]\n"
          ]
        }
      ],
      "source": [
        "document_assembler = nlp.DocumentAssembler()\\\n",
        "    .setInputCol(\"text\")\\\n",
        "    .setOutputCol(\"document\")\n",
        "\n",
        "tokenizer = nlp.Tokenizer() \\\n",
        "    .setInputCols([\"document\"]) \\\n",
        "    .setOutputCol(\"token\")\n",
        "\n",
        "word_embeddings = nlp.WordEmbeddingsModel.pretrained(\"embeddings_healthcare_100d\",\"en\",\"clinical/models\")\\\n",
        "    .setInputCols([\"document\",\"token\"])\\\n",
        "    .setOutputCol(\"word_embeddings\")\n",
        "\n",
        "sentence_embeddings = nlp.SentenceEmbeddings() \\\n",
        "    .setInputCols([\"document\", \"word_embeddings\"]) \\\n",
        "    .setOutputCol(\"sentence_embeddings\") \\\n",
        "    .setPoolingStrategy(\"AVERAGE\")\n",
        "\n",
        "embeddings_pipeline = nlp.Pipeline(\n",
        "    stages = [\n",
        "        document_assembler,\n",
        "        tokenizer,\n",
        "        word_embeddings,\n",
        "        sentence_embeddings,\n",
        "])"
      ]
    },
    {
      "cell_type": "code",
      "execution_count": 41,
      "metadata": {
        "colab": {
          "base_uri": "https://localhost:8080/"
        },
        "id": "NtiB6Xgv9oZ_",
        "outputId": "e58e72f7-6518-486b-a11f-ff2bd5493bc1"
      },
      "outputs": [
        {
          "output_type": "stream",
          "name": "stdout",
          "text": [
            "+------------------------------------------------------------+----------------+------------------------------------------------------------+\n",
            "|                                                        text|        category|                                         sentence_embeddings|\n",
            "+------------------------------------------------------------+----------------+------------------------------------------------------------+\n",
            "| ADMISSION DIAGNOSIS: Symptomatic cholelithiasis. DISCHAR...|Gastroenterology|[{sentence_embeddings, 0, 2228,  ADMISSION DIAGNOSIS: Sym...|\n",
            "| ADMITTING DIAGNOSES: Hiatal hernia, gastroesophageal ref...|Gastroenterology|[{sentence_embeddings, 0, 3237,  ADMITTING DIAGNOSES: Hia...|\n",
            "+------------------------------------------------------------+----------------+------------------------------------------------------------+\n",
            "only showing top 2 rows\n",
            "\n"
          ]
        }
      ],
      "source": [
        "trainingData_with_embeddings = embeddings_pipeline.fit(trainingData).transform(trainingData)\n",
        "trainingData_with_embeddings = trainingData_with_embeddings.select(\"text\",\"category\",\"sentence_embeddings\")\n",
        "trainingData_with_embeddings.show(2,truncate=60)"
      ]
    },
    {
      "cell_type": "code",
      "execution_count": 42,
      "metadata": {
        "colab": {
          "base_uri": "https://localhost:8080/"
        },
        "id": "_hMuZrio9oaA",
        "outputId": "99d69e6c-f515-4f5e-fb76-7cf7a7e1149c"
      },
      "outputs": [
        {
          "output_type": "stream",
          "name": "stdout",
          "text": [
            "+------------------------------------------------------------+----------------+------------------------------------------------------------+\n",
            "|                                                        text|        category|                                         sentence_embeddings|\n",
            "+------------------------------------------------------------+----------------+------------------------------------------------------------+\n",
            "| ADMITTING DIAGNOSIS: Gastrointestinal bleed. HISTORY OF ...|Gastroenterology|[{sentence_embeddings, 0, 3978,  ADMITTING DIAGNOSIS: Gas...|\n",
            "| CHIEF COMPLAINT: Dysphagia and hematemesis while vomitin...|Gastroenterology|[{sentence_embeddings, 0, 6515,  CHIEF COMPLAINT: Dysphag...|\n",
            "+------------------------------------------------------------+----------------+------------------------------------------------------------+\n",
            "only showing top 2 rows\n",
            "\n"
          ]
        }
      ],
      "source": [
        "testData_with_embeddings = embeddings_pipeline.fit(testData).transform(testData)\n",
        "testData_with_embeddings = testData_with_embeddings.select(\"text\",\"category\",\"sentence_embeddings\")\n",
        "testData_with_embeddings.show(2,truncate=60)"
      ]
    },
    {
      "cell_type": "code",
      "execution_count": 43,
      "metadata": {
        "colab": {
          "base_uri": "https://localhost:8080/"
        },
        "id": "ZgqbexSQ9oaA",
        "outputId": "ba4d36ea-5b6a-47c6-ae8e-2f1bc17065ea"
      },
      "outputs": [
        {
          "output_type": "stream",
          "name": "stdout",
          "text": [
            "root\n",
            " |-- text: string (nullable = true)\n",
            " |-- category: string (nullable = true)\n",
            " |-- sentence_embeddings: array (nullable = true)\n",
            " |    |-- element: struct (containsNull = true)\n",
            " |    |    |-- annotatorType: string (nullable = true)\n",
            " |    |    |-- begin: integer (nullable = false)\n",
            " |    |    |-- end: integer (nullable = false)\n",
            " |    |    |-- result: string (nullable = true)\n",
            " |    |    |-- metadata: map (nullable = true)\n",
            " |    |    |    |-- key: string\n",
            " |    |    |    |-- value: string (valueContainsNull = true)\n",
            " |    |    |-- embeddings: array (nullable = true)\n",
            " |    |    |    |-- element: float (containsNull = false)\n",
            "\n"
          ]
        }
      ],
      "source": [
        "testData_with_embeddings.printSchema()"
      ]
    },
    {
      "cell_type": "code",
      "execution_count": 44,
      "metadata": {
        "colab": {
          "base_uri": "https://localhost:8080/"
        },
        "id": "aX5ka1ok9oaA",
        "outputId": "3e5dcb56-6ef3-41af-d0c4-09cc009249a4"
      },
      "outputs": [
        {
          "output_type": "stream",
          "name": "stdout",
          "text": [
            "+------------------------------------------------------------------------------------------------------------------------+\n",
            "|                                                                                          sentence_embeddings.embeddings|\n",
            "+------------------------------------------------------------------------------------------------------------------------+\n",
            "|[[-0.010433162, 0.0127568655, 0.110687375, 0.1609855, -0.14818177, -0.050856464, 0.064748034, -0.019294674, -0.002178...|\n",
            "|[[-0.0055608996, 0.018396137, 0.12305377, 0.13861515, -0.18651922, -0.07559964, 0.12978752, -0.0046452526, -0.0031408...|\n",
            "|[[-0.019461514, 0.060639214, 0.11142021, 0.12826534, -0.16216077, -0.10416892, 0.17136306, -0.020363769, 0.01169337, ...|\n",
            "+------------------------------------------------------------------------------------------------------------------------+\n",
            "only showing top 3 rows\n",
            "\n"
          ]
        }
      ],
      "source": [
        "testData_with_embeddings.select(testData_with_embeddings.sentence_embeddings.embeddings).show(3,truncate=120)"
      ]
    },
    {
      "cell_type": "code",
      "execution_count": 45,
      "metadata": {
        "id": "V99u_ru-9oaA"
      },
      "outputs": [],
      "source": [
        "log_folder=\"Mt_logs_healthcare_100d\"\n",
        "!mkdir -p $log_folder"
      ]
    },
    {
      "cell_type": "markdown",
      "metadata": {
        "id": "7HUPl4fh9oaA"
      },
      "source": [
        "### ClassifierDL"
      ]
    },
    {
      "cell_type": "code",
      "execution_count": 46,
      "metadata": {
        "id": "Dzhptr2o9oaA"
      },
      "outputs": [],
      "source": [
        "classifier_dl = nlp.ClassifierDLApproach()\\\n",
        "    .setInputCols([\"sentence_embeddings\"])\\\n",
        "    .setOutputCol(\"prediction\")\\\n",
        "    .setLabelColumn(\"category\")\\\n",
        "    .setBatchSize(8)\\\n",
        "    .setMaxEpochs(50)\\\n",
        "    .setLr(0.005)\\\n",
        "    .setDropout(0.3)\\\n",
        "    .setEnableOutputLogs(True)\\\n",
        "    .setOutputLogsPath(log_folder)\\\n",
        "    # .setValidationSplit(0.1)\n",
        "\n",
        "classifier_dl_pipeline = nlp.Pipeline(stages=[classifier_dl])"
      ]
    },
    {
      "cell_type": "code",
      "execution_count": 47,
      "metadata": {
        "id": "GP8eSc7Q9oaB"
      },
      "outputs": [],
      "source": [
        "clfDL_model_hc100 = classifier_dl_pipeline.fit(trainingData_with_embeddings)"
      ]
    },
    {
      "cell_type": "code",
      "execution_count": 48,
      "metadata": {
        "id": "3CKuuqYb9oaB"
      },
      "outputs": [],
      "source": [
        "preds = clfDL_model_hc100.transform(testData_with_embeddings)"
      ]
    },
    {
      "cell_type": "code",
      "execution_count": 49,
      "metadata": {
        "colab": {
          "base_uri": "https://localhost:8080/"
        },
        "id": "uGFN40ju9oaB",
        "outputId": "1e00be41-0453-46ad-b177-11df08b1eb68"
      },
      "outputs": [
        {
          "output_type": "stream",
          "name": "stdout",
          "text": [
            "                  precision    recall  f1-score   support\n",
            "\n",
            "Gastroenterology       0.00      0.00      0.00        25\n",
            "       Neurology       0.00      0.00      0.00        22\n",
            "      Orthopedic       0.59      1.00      0.74        35\n",
            "         Urology       0.42      0.90      0.57        20\n",
            "\n",
            "        accuracy                           0.52       102\n",
            "       macro avg       0.25      0.47      0.33       102\n",
            "    weighted avg       0.29      0.52      0.37       102\n",
            "\n"
          ]
        }
      ],
      "source": [
        "preds_df = preds.select(\"category\",\"text\",\"prediction.result\").toPandas()\n",
        "preds_df[\"result\"] = preds_df[\"result\"].apply(lambda x : x[0])\n",
        "\n",
        "print (classification_report(preds_df[\"category\"], preds_df[\"result\"]))"
      ]
    },
    {
      "cell_type": "code",
      "execution_count": 50,
      "metadata": {
        "colab": {
          "base_uri": "https://localhost:8080/",
          "height": 89
        },
        "id": "8xClfL0wD2l1",
        "outputId": "e70efaf1-4444-4ce8-e9c7-a595840b4523"
      },
      "outputs": [
        {
          "output_type": "execute_result",
          "data": {
            "text/plain": [
              "                   macro-f1-score  weighted-f1-score  accuracy\n",
              "ClassifierDL_100d        0.329027           0.367573  0.519608"
            ],
            "text/html": [
              "\n",
              "  <div id=\"df-b70be7b2-f2b4-431c-b419-3f30eae61548\" class=\"colab-df-container\">\n",
              "    <div>\n",
              "<style scoped>\n",
              "    .dataframe tbody tr th:only-of-type {\n",
              "        vertical-align: middle;\n",
              "    }\n",
              "\n",
              "    .dataframe tbody tr th {\n",
              "        vertical-align: top;\n",
              "    }\n",
              "\n",
              "    .dataframe thead th {\n",
              "        text-align: right;\n",
              "    }\n",
              "</style>\n",
              "<table border=\"1\" class=\"dataframe\">\n",
              "  <thead>\n",
              "    <tr style=\"text-align: right;\">\n",
              "      <th></th>\n",
              "      <th>macro-f1-score</th>\n",
              "      <th>weighted-f1-score</th>\n",
              "      <th>accuracy</th>\n",
              "    </tr>\n",
              "  </thead>\n",
              "  <tbody>\n",
              "    <tr>\n",
              "      <th>ClassifierDL_100d</th>\n",
              "      <td>0.329027</td>\n",
              "      <td>0.367573</td>\n",
              "      <td>0.519608</td>\n",
              "    </tr>\n",
              "  </tbody>\n",
              "</table>\n",
              "</div>\n",
              "    <div class=\"colab-df-buttons\">\n",
              "\n",
              "  <div class=\"colab-df-container\">\n",
              "    <button class=\"colab-df-convert\" onclick=\"convertToInteractive('df-b70be7b2-f2b4-431c-b419-3f30eae61548')\"\n",
              "            title=\"Convert this dataframe to an interactive table.\"\n",
              "            style=\"display:none;\">\n",
              "\n",
              "  <svg xmlns=\"http://www.w3.org/2000/svg\" height=\"24px\" viewBox=\"0 -960 960 960\">\n",
              "    <path d=\"M120-120v-720h720v720H120Zm60-500h600v-160H180v160Zm220 220h160v-160H400v160Zm0 220h160v-160H400v160ZM180-400h160v-160H180v160Zm440 0h160v-160H620v160ZM180-180h160v-160H180v160Zm440 0h160v-160H620v160Z\"/>\n",
              "  </svg>\n",
              "    </button>\n",
              "\n",
              "  <style>\n",
              "    .colab-df-container {\n",
              "      display:flex;\n",
              "      gap: 12px;\n",
              "    }\n",
              "\n",
              "    .colab-df-convert {\n",
              "      background-color: #E8F0FE;\n",
              "      border: none;\n",
              "      border-radius: 50%;\n",
              "      cursor: pointer;\n",
              "      display: none;\n",
              "      fill: #1967D2;\n",
              "      height: 32px;\n",
              "      padding: 0 0 0 0;\n",
              "      width: 32px;\n",
              "    }\n",
              "\n",
              "    .colab-df-convert:hover {\n",
              "      background-color: #E2EBFA;\n",
              "      box-shadow: 0px 1px 2px rgba(60, 64, 67, 0.3), 0px 1px 3px 1px rgba(60, 64, 67, 0.15);\n",
              "      fill: #174EA6;\n",
              "    }\n",
              "\n",
              "    .colab-df-buttons div {\n",
              "      margin-bottom: 4px;\n",
              "    }\n",
              "\n",
              "    [theme=dark] .colab-df-convert {\n",
              "      background-color: #3B4455;\n",
              "      fill: #D2E3FC;\n",
              "    }\n",
              "\n",
              "    [theme=dark] .colab-df-convert:hover {\n",
              "      background-color: #434B5C;\n",
              "      box-shadow: 0px 1px 3px 1px rgba(0, 0, 0, 0.15);\n",
              "      filter: drop-shadow(0px 1px 2px rgba(0, 0, 0, 0.3));\n",
              "      fill: #FFFFFF;\n",
              "    }\n",
              "  </style>\n",
              "\n",
              "    <script>\n",
              "      const buttonEl =\n",
              "        document.querySelector('#df-b70be7b2-f2b4-431c-b419-3f30eae61548 button.colab-df-convert');\n",
              "      buttonEl.style.display =\n",
              "        google.colab.kernel.accessAllowed ? 'block' : 'none';\n",
              "\n",
              "      async function convertToInteractive(key) {\n",
              "        const element = document.querySelector('#df-b70be7b2-f2b4-431c-b419-3f30eae61548');\n",
              "        const dataTable =\n",
              "          await google.colab.kernel.invokeFunction('convertToInteractive',\n",
              "                                                    [key], {});\n",
              "        if (!dataTable) return;\n",
              "\n",
              "        const docLinkHtml = 'Like what you see? Visit the ' +\n",
              "          '<a target=\"_blank\" href=https://colab.research.google.com/notebooks/data_table.ipynb>data table notebook</a>'\n",
              "          + ' to learn more about interactive tables.';\n",
              "        element.innerHTML = '';\n",
              "        dataTable['output_type'] = 'display_data';\n",
              "        await google.colab.output.renderOutput(dataTable, element);\n",
              "        const docLink = document.createElement('div');\n",
              "        docLink.innerHTML = docLinkHtml;\n",
              "        element.appendChild(docLink);\n",
              "      }\n",
              "    </script>\n",
              "  </div>\n",
              "\n",
              "\n",
              "  <div id=\"id_6a3b0515-519e-4bd7-bfbd-e147f9045cbc\">\n",
              "    <style>\n",
              "      .colab-df-generate {\n",
              "        background-color: #E8F0FE;\n",
              "        border: none;\n",
              "        border-radius: 50%;\n",
              "        cursor: pointer;\n",
              "        display: none;\n",
              "        fill: #1967D2;\n",
              "        height: 32px;\n",
              "        padding: 0 0 0 0;\n",
              "        width: 32px;\n",
              "      }\n",
              "\n",
              "      .colab-df-generate:hover {\n",
              "        background-color: #E2EBFA;\n",
              "        box-shadow: 0px 1px 2px rgba(60, 64, 67, 0.3), 0px 1px 3px 1px rgba(60, 64, 67, 0.15);\n",
              "        fill: #174EA6;\n",
              "      }\n",
              "\n",
              "      [theme=dark] .colab-df-generate {\n",
              "        background-color: #3B4455;\n",
              "        fill: #D2E3FC;\n",
              "      }\n",
              "\n",
              "      [theme=dark] .colab-df-generate:hover {\n",
              "        background-color: #434B5C;\n",
              "        box-shadow: 0px 1px 3px 1px rgba(0, 0, 0, 0.15);\n",
              "        filter: drop-shadow(0px 1px 2px rgba(0, 0, 0, 0.3));\n",
              "        fill: #FFFFFF;\n",
              "      }\n",
              "    </style>\n",
              "    <button class=\"colab-df-generate\" onclick=\"generateWithVariable('results_df')\"\n",
              "            title=\"Generate code using this dataframe.\"\n",
              "            style=\"display:none;\">\n",
              "\n",
              "  <svg xmlns=\"http://www.w3.org/2000/svg\" height=\"24px\"viewBox=\"0 0 24 24\"\n",
              "       width=\"24px\">\n",
              "    <path d=\"M7,19H8.4L18.45,9,17,7.55,7,17.6ZM5,21V16.75L18.45,3.32a2,2,0,0,1,2.83,0l1.4,1.43a1.91,1.91,0,0,1,.58,1.4,1.91,1.91,0,0,1-.58,1.4L9.25,21ZM18.45,9,17,7.55Zm-12,3A5.31,5.31,0,0,0,4.9,8.1,5.31,5.31,0,0,0,1,6.5,5.31,5.31,0,0,0,4.9,4.9,5.31,5.31,0,0,0,6.5,1,5.31,5.31,0,0,0,8.1,4.9,5.31,5.31,0,0,0,12,6.5,5.46,5.46,0,0,0,6.5,12Z\"/>\n",
              "  </svg>\n",
              "    </button>\n",
              "    <script>\n",
              "      (() => {\n",
              "      const buttonEl =\n",
              "        document.querySelector('#id_6a3b0515-519e-4bd7-bfbd-e147f9045cbc button.colab-df-generate');\n",
              "      buttonEl.style.display =\n",
              "        google.colab.kernel.accessAllowed ? 'block' : 'none';\n",
              "\n",
              "      buttonEl.onclick = () => {\n",
              "        google.colab.notebook.generateWithVariable('results_df');\n",
              "      }\n",
              "      })();\n",
              "    </script>\n",
              "  </div>\n",
              "\n",
              "    </div>\n",
              "  </div>\n"
            ],
            "application/vnd.google.colaboratory.intrinsic+json": {
              "type": "dataframe",
              "variable_name": "results_df",
              "summary": "{\n  \"name\": \"results_df\",\n  \"rows\": 1,\n  \"fields\": [\n    {\n      \"column\": \"macro-f1-score\",\n      \"properties\": {\n        \"dtype\": \"number\",\n        \"std\": null,\n        \"min\": 0.32902735562310026,\n        \"max\": 0.32902735562310026,\n        \"num_unique_values\": 1,\n        \"samples\": [\n          0.32902735562310026\n        ],\n        \"semantic_type\": \"\",\n        \"description\": \"\"\n      }\n    },\n    {\n      \"column\": \"weighted-f1-score\",\n      \"properties\": {\n        \"dtype\": \"number\",\n        \"std\": null,\n        \"min\": 0.3675725609392693,\n        \"max\": 0.3675725609392693,\n        \"num_unique_values\": 1,\n        \"samples\": [\n          0.3675725609392693\n        ],\n        \"semantic_type\": \"\",\n        \"description\": \"\"\n      }\n    },\n    {\n      \"column\": \"accuracy\",\n      \"properties\": {\n        \"dtype\": \"number\",\n        \"std\": null,\n        \"min\": 0.5196078431372549,\n        \"max\": 0.5196078431372549,\n        \"num_unique_values\": 1,\n        \"samples\": [\n          0.5196078431372549\n        ],\n        \"semantic_type\": \"\",\n        \"description\": \"\"\n      }\n    }\n  ]\n}"
            }
          },
          "metadata": {},
          "execution_count": 50
        }
      ],
      "source": [
        "res = classification_report(preds_df[\"category\"], preds_df[\"result\"], output_dict=True)\n",
        "results_df = pd.DataFrame(columns=[\"macro-f1-score\",\"weighted-f1-score\",\"accuracy\"])\n",
        "results_df.loc[\"ClassifierDL_100d\"] = [res[\"macro avg\"][\"f1-score\"], res[\"weighted avg\"][\"f1-score\"], res[\"accuracy\"]]\n",
        "results_df"
      ]
    },
    {
      "cell_type": "markdown",
      "metadata": {
        "id": "zaaRNh3W9oaB"
      },
      "source": [
        "### MultiClassifierDL"
      ]
    },
    {
      "cell_type": "code",
      "execution_count": 51,
      "metadata": {
        "id": "FnURVIYR9oaB"
      },
      "outputs": [],
      "source": [
        "# MultiClassifierDL accepts list of strings as input label. So we convert label column to array type.\n",
        "trainingData_with_embeddings = trainingData_with_embeddings.withColumn(\"category_array\", F.array(F.col(\"category\")))\n",
        "testData_with_embeddings = testData_with_embeddings.withColumn(\"category_array\", F.array(F.col(\"category\")))"
      ]
    },
    {
      "cell_type": "code",
      "execution_count": 52,
      "metadata": {
        "id": "BHBThSDF9oaB"
      },
      "outputs": [],
      "source": [
        "multiClassifier =nlp.MultiClassifierDLApproach()\\\n",
        "    .setInputCols(\"sentence_embeddings\")\\\n",
        "    .setOutputCol(\"prediction\")\\\n",
        "    .setLabelColumn(\"category_array\")\\\n",
        "    .setBatchSize(8)\\\n",
        "    .setMaxEpochs(40)\\\n",
        "    .setLr(5e-3)\\\n",
        "    .setThreshold(0.5)\\\n",
        "    .setShufflePerEpoch(False)\\\n",
        "    .setEnableOutputLogs(True)\\\n",
        "    .setOutputLogsPath(log_folder)\\\n",
        "  #   .setValidationSplit(0.1)\n",
        "\n",
        "multiClassifier_pipeline = nlp.Pipeline(\n",
        "    stages = [\n",
        "        multiClassifier\n",
        "    ])"
      ]
    },
    {
      "cell_type": "code",
      "execution_count": 53,
      "metadata": {
        "id": "Ls8aG1NS9oaB"
      },
      "outputs": [],
      "source": [
        "multiClassifier_model_hc100 = multiClassifier_pipeline.fit(trainingData_with_embeddings)"
      ]
    },
    {
      "cell_type": "code",
      "execution_count": 54,
      "metadata": {
        "id": "zbwCsFnA9oaC"
      },
      "outputs": [],
      "source": [
        "preds = multiClassifier_model_hc100.transform(testData_with_embeddings)"
      ]
    },
    {
      "cell_type": "code",
      "execution_count": 55,
      "metadata": {
        "colab": {
          "base_uri": "https://localhost:8080/",
          "height": 336
        },
        "id": "l5ZNDAi69oaC",
        "outputId": "e1348e69-86f7-4087-c4af-e62bc2613f5c"
      },
      "outputs": [
        {
          "output_type": "execute_result",
          "data": {
            "text/plain": [
              "result\n",
              "['Orthopedic']                        35\n",
              "['Urology']                           21\n",
              "['Gastroenterology']                  19\n",
              "['Neurology']                         17\n",
              "[]                                     5\n",
              "['Neurology', 'Orthopedic']            4\n",
              "['Orthopedic', 'Gastroenterology']     1\n",
              "Name: count, dtype: int64"
            ],
            "text/html": [
              "<div>\n",
              "<style scoped>\n",
              "    .dataframe tbody tr th:only-of-type {\n",
              "        vertical-align: middle;\n",
              "    }\n",
              "\n",
              "    .dataframe tbody tr th {\n",
              "        vertical-align: top;\n",
              "    }\n",
              "\n",
              "    .dataframe thead th {\n",
              "        text-align: right;\n",
              "    }\n",
              "</style>\n",
              "<table border=\"1\" class=\"dataframe\">\n",
              "  <thead>\n",
              "    <tr style=\"text-align: right;\">\n",
              "      <th></th>\n",
              "      <th>count</th>\n",
              "    </tr>\n",
              "    <tr>\n",
              "      <th>result</th>\n",
              "      <th></th>\n",
              "    </tr>\n",
              "  </thead>\n",
              "  <tbody>\n",
              "    <tr>\n",
              "      <th>['Orthopedic']</th>\n",
              "      <td>35</td>\n",
              "    </tr>\n",
              "    <tr>\n",
              "      <th>['Urology']</th>\n",
              "      <td>21</td>\n",
              "    </tr>\n",
              "    <tr>\n",
              "      <th>['Gastroenterology']</th>\n",
              "      <td>19</td>\n",
              "    </tr>\n",
              "    <tr>\n",
              "      <th>['Neurology']</th>\n",
              "      <td>17</td>\n",
              "    </tr>\n",
              "    <tr>\n",
              "      <th>[]</th>\n",
              "      <td>5</td>\n",
              "    </tr>\n",
              "    <tr>\n",
              "      <th>['Neurology', 'Orthopedic']</th>\n",
              "      <td>4</td>\n",
              "    </tr>\n",
              "    <tr>\n",
              "      <th>['Orthopedic', 'Gastroenterology']</th>\n",
              "      <td>1</td>\n",
              "    </tr>\n",
              "  </tbody>\n",
              "</table>\n",
              "</div><br><label><b>dtype:</b> int64</label>"
            ]
          },
          "metadata": {},
          "execution_count": 55
        }
      ],
      "source": [
        "preds_df = preds.select(\"category\",\"text\",\"prediction.result\",\"prediction.metadata\").toPandas()\n",
        "preds_df.result.apply(lambda x: str(x) ).value_counts()"
      ]
    },
    {
      "cell_type": "code",
      "execution_count": 56,
      "metadata": {
        "colab": {
          "base_uri": "https://localhost:8080/",
          "height": 241
        },
        "id": "jCaUwm8k9oaD",
        "outputId": "cd5925a4-ce9e-452a-fe69-2e439f4eff0a"
      },
      "outputs": [
        {
          "output_type": "execute_result",
          "data": {
            "text/plain": [
              "result\n",
              "Orthopedic          36\n",
              "Urology             21\n",
              "Gastroenterology    20\n",
              "Neurology           20\n",
              "Name: count, dtype: int64"
            ],
            "text/html": [
              "<div>\n",
              "<style scoped>\n",
              "    .dataframe tbody tr th:only-of-type {\n",
              "        vertical-align: middle;\n",
              "    }\n",
              "\n",
              "    .dataframe tbody tr th {\n",
              "        vertical-align: top;\n",
              "    }\n",
              "\n",
              "    .dataframe thead th {\n",
              "        text-align: right;\n",
              "    }\n",
              "</style>\n",
              "<table border=\"1\" class=\"dataframe\">\n",
              "  <thead>\n",
              "    <tr style=\"text-align: right;\">\n",
              "      <th></th>\n",
              "      <th>count</th>\n",
              "    </tr>\n",
              "    <tr>\n",
              "      <th>result</th>\n",
              "      <th></th>\n",
              "    </tr>\n",
              "  </thead>\n",
              "  <tbody>\n",
              "    <tr>\n",
              "      <th>Orthopedic</th>\n",
              "      <td>36</td>\n",
              "    </tr>\n",
              "    <tr>\n",
              "      <th>Urology</th>\n",
              "      <td>21</td>\n",
              "    </tr>\n",
              "    <tr>\n",
              "      <th>Gastroenterology</th>\n",
              "      <td>20</td>\n",
              "    </tr>\n",
              "    <tr>\n",
              "      <th>Neurology</th>\n",
              "      <td>20</td>\n",
              "    </tr>\n",
              "  </tbody>\n",
              "</table>\n",
              "</div><br><label><b>dtype:</b> int64</label>"
            ]
          },
          "metadata": {},
          "execution_count": 56
        }
      ],
      "source": [
        "# We will get the highest score label as result. You can control the number of zero label results with setThreshold() in the training.\n",
        "preds_df[\"scores\"] = preds_df.metadata.apply(lambda x: {k:float(v) for k,v in x[0].items()} if len(x)>=1 else \"\")\n",
        "preds_df[\"result\"] = preds_df.scores.apply(lambda x: max(x, key=x.get) if len(x)>=1 else \"\")\n",
        "preds_df = preds_df[(preds_df[\"result\"]!=\"\")]\n",
        "preds_df[\"result\"].value_counts()"
      ]
    },
    {
      "cell_type": "code",
      "execution_count": 57,
      "metadata": {
        "colab": {
          "base_uri": "https://localhost:8080/"
        },
        "id": "7UoCi9IN9oaD",
        "outputId": "537f7051-7482-4563-e120-ebf5720eb817"
      },
      "outputs": [
        {
          "output_type": "stream",
          "name": "stdout",
          "text": [
            "                  precision    recall  f1-score   support\n",
            "\n",
            "Gastroenterology       0.95      0.86      0.90        22\n",
            "       Neurology       0.80      0.76      0.78        21\n",
            "      Orthopedic       0.89      0.91      0.90        35\n",
            "         Urology       0.90      1.00      0.95        19\n",
            "\n",
            "        accuracy                           0.89        97\n",
            "       macro avg       0.89      0.88      0.88        97\n",
            "    weighted avg       0.89      0.89      0.89        97\n",
            "\n"
          ]
        }
      ],
      "source": [
        "print (classification_report(preds_df[\"category\"], preds_df[\"result\"]))"
      ]
    },
    {
      "cell_type": "code",
      "execution_count": 58,
      "metadata": {
        "id": "7W3OTbEAE8_E"
      },
      "outputs": [],
      "source": [
        "res = classification_report(preds_df[\"category\"], preds_df[\"result\"], output_dict=True)\n",
        "results_df.loc[\"MultiClassifierDL_100d\"] = [res[\"macro avg\"][\"f1-score\"], res[\"weighted avg\"][\"f1-score\"], res[\"accuracy\"]]"
      ]
    },
    {
      "cell_type": "markdown",
      "metadata": {
        "id": "xIjin3kR9oaD"
      },
      "source": [
        "### Generic Classifier"
      ]
    },
    {
      "cell_type": "code",
      "execution_count": 59,
      "metadata": {
        "id": "kbBy9Fei9oaD"
      },
      "outputs": [],
      "source": [
        "from sparknlp_jsl.annotator import TFGraphBuilder\n",
        "\n",
        "graph_folder = \"gc_graph\"\n",
        "\n",
        "gc_graph_builder =medical.TFGraphBuilder()\\\n",
        "    .setModelName(\"generic_classifier\")\\\n",
        "    .setInputCols([\"features\"])\\\n",
        "    .setLabelColumn(\"category\")\\\n",
        "    .setHiddenLayers([300,200, 50])\\\n",
        "    .setHiddenAct(\"tanh\")\\\n",
        "    .setHiddenActL2(True)\\\n",
        "    .setBatchNorm(True)\\\n",
        "    .setGraphFolder(graph_folder)\\\n",
        "    .setGraphFile(\"gcf_graph_100d.pb\")"
      ]
    },
    {
      "cell_type": "code",
      "execution_count": 60,
      "metadata": {
        "id": "k_4aonYQ9oaD"
      },
      "outputs": [],
      "source": [
        "features_asm =medical.FeaturesAssembler()\\\n",
        "    .setInputCols([\"sentence_embeddings\"])\\\n",
        "    .setOutputCol(\"features\")\n",
        "\n",
        "gen_clf =medical.GenericClassifierApproach()\\\n",
        "    .setLabelColumn(\"category\")\\\n",
        "    .setInputCols(\"features\")\\\n",
        "    .setOutputCol(\"prediction\")\\\n",
        "    .setModelFile(f\"{graph_folder}/gcf_graph_100d.pb\")\\\n",
        "    .setEpochsNumber(50)\\\n",
        "    .setBatchSize(32)\\\n",
        "    .setLearningRate(0.001)\\\n",
        "    .setOutputLogsPath(log_folder)\\\n",
        "    .setDropout(0.3)\\\n",
        "    .setFixImbalance(False)\\\n",
        "    # .setValidationSplit(0.1)\n",
        "\n",
        "clf_Pipeline = nlp.Pipeline(stages=[\n",
        "    features_asm,\n",
        "    gc_graph_builder,\n",
        "    gen_clf])\n"
      ]
    },
    {
      "cell_type": "code",
      "execution_count": 61,
      "metadata": {
        "colab": {
          "base_uri": "https://localhost:8080/"
        },
        "id": "4LA5_oIb9oaE",
        "outputId": "d0eac3b4-626b-404d-9f98-8540de7e481a"
      },
      "outputs": [
        {
          "output_type": "stream",
          "name": "stdout",
          "text": [
            "TF Graph Builder configuration:\n",
            "Model name: generic_classifier\n",
            "Graph folder: gc_graph\n",
            "Graph file name: gcf_graph_100d.pb\n",
            "Build params: {'input_dim': 100, 'output_dim': 4, 'hidden_layers': [300, 200, 50], 'hidden_act': 'tanh', 'hidden_act_l2': True, 'batch_norm': True}\n",
            "generic_classifier graph exported to gc_graph/gcf_graph_100d.pb\n"
          ]
        }
      ],
      "source": [
        "generic_model_hc100 = clf_Pipeline.fit(trainingData_with_embeddings)"
      ]
    },
    {
      "cell_type": "code",
      "execution_count": 62,
      "metadata": {
        "id": "YSMrZRPx9oaE"
      },
      "outputs": [],
      "source": [
        "pred_df = generic_model_hc100.transform(testData_with_embeddings)"
      ]
    },
    {
      "cell_type": "code",
      "execution_count": 63,
      "metadata": {
        "colab": {
          "base_uri": "https://localhost:8080/"
        },
        "id": "geckbyhy9oaE",
        "outputId": "0c45058a-2737-4152-f82f-e3edff70c0e5"
      },
      "outputs": [
        {
          "output_type": "stream",
          "name": "stdout",
          "text": [
            "                  precision    recall  f1-score   support\n",
            "\n",
            "Gastroenterology       0.88      0.92      0.90        25\n",
            "       Neurology       0.82      0.82      0.82        22\n",
            "      Orthopedic       0.94      0.91      0.93        35\n",
            "         Urology       0.90      0.90      0.90        20\n",
            "\n",
            "        accuracy                           0.89       102\n",
            "       macro avg       0.89      0.89      0.89       102\n",
            "    weighted avg       0.89      0.89      0.89       102\n",
            "\n"
          ]
        }
      ],
      "source": [
        "preds_df = pred_df.select('category','prediction.result').toPandas()\n",
        "preds_df['result'] = preds_df.result.apply(lambda x : x[0])\n",
        "\n",
        "print (classification_report(preds_df['category'], preds_df['result']))"
      ]
    },
    {
      "cell_type": "code",
      "execution_count": 64,
      "metadata": {
        "id": "gJjDQERoFDUp"
      },
      "outputs": [],
      "source": [
        "res = classification_report(preds_df[\"category\"], preds_df[\"result\"], output_dict=True)\n",
        "results_df.loc[\"GenericClassifier_100d\"] = [res[\"macro avg\"][\"f1-score\"], res[\"weighted avg\"][\"f1-score\"], res[\"accuracy\"]]"
      ]
    },
    {
      "cell_type": "markdown",
      "metadata": {
        "id": "hOnIAdo9XKrE"
      },
      "source": [
        "### GenericLogRegClassifier"
      ]
    },
    {
      "cell_type": "code",
      "execution_count": 65,
      "metadata": {
        "id": "xC6Kg1KeXKrE"
      },
      "outputs": [],
      "source": [
        "graph_folder = \"gc_graph\"\n",
        "\n",
        "gc_logreg_graph_builder = medical.TFGraphBuilder()\\\n",
        "    .setModelName(\"logreg_classifier\")\\\n",
        "    .setInputCols([\"feature_vector\"]) \\\n",
        "    .setLabelColumn(\"category\")\\\n",
        "    .setGraphFolder(graph_folder)\\\n",
        "    .setGraphFile(\"log_reg_graph.pb\")"
      ]
    },
    {
      "cell_type": "markdown",
      "metadata": {
        "id": "8R6PZ_qlXKrE"
      },
      "source": [
        "GenericLogRegClassifier needs outputs from FeaturesAssembler. The FeaturesAssembler is used to collect features from different columns or an embeddings column.\n",
        "\n",
        "The GenericLogRegClassifier takes FEATURE_VECTOR annotations as input, classifies them and outputs CATEGORY annotations."
      ]
    },
    {
      "cell_type": "code",
      "execution_count": 66,
      "metadata": {
        "id": "EWrEoT2sXKrF"
      },
      "outputs": [],
      "source": [
        "features_asm = medical.FeaturesAssembler()\\\n",
        "    .setInputCols([\"sentence_embeddings\"])\\\n",
        "    .setOutputCol(\"feature_vector\")\n",
        "\n",
        "gen_clf = medical.GenericLogRegClassifierApproach()\\\n",
        "    .setLabelColumn(\"category\")\\\n",
        "    .setInputCols(\"feature_vector\")\\\n",
        "    .setOutputCol(\"prediction\")\\\n",
        "    .setModelFile(f\"{graph_folder}/log_reg_graph.pb\")\\\n",
        "    .setEpochsNumber(45)\\\n",
        "    .setBatchSize(32)\\\n",
        "    .setLearningRate(0.02)\\\n",
        "    .setOutputLogsPath(log_folder)\\\n",
        "    .setDropout(0.1)\\\n",
        "    .setFixImbalance(True)\\\n",
        "    # .setValidationSplit(0.1)\n",
        "\n",
        "clf_Pipeline = nlp.Pipeline(stages=[\n",
        "    features_asm,\n",
        "    gc_logreg_graph_builder,\n",
        "    gen_clf])\n"
      ]
    },
    {
      "cell_type": "code",
      "execution_count": 67,
      "metadata": {
        "colab": {
          "base_uri": "https://localhost:8080/"
        },
        "id": "Bfkzw4n3XKrF",
        "outputId": "0e8a3cf6-a543-4c91-e940-a986552b684e"
      },
      "outputs": [
        {
          "output_type": "stream",
          "name": "stdout",
          "text": [
            "TF Graph Builder configuration:\n",
            "Model name: logreg_classifier\n",
            "Graph folder: gc_graph\n",
            "Graph file name: log_reg_graph.pb\n",
            "Build params: {'input_dim': 100, 'output_dim': 4, 'hidden_layers': [], 'output_act': 'sigmoid'}\n",
            "logreg_classifier graph exported to gc_graph/log_reg_graph.pb\n"
          ]
        }
      ],
      "source": [
        "generic_model_hc100 = clf_Pipeline.fit(trainingData_with_embeddings)"
      ]
    },
    {
      "cell_type": "code",
      "execution_count": 68,
      "metadata": {
        "id": "FAP8vtiUXKrG"
      },
      "outputs": [],
      "source": [
        "pred_df = generic_model_hc100.transform(testData_with_embeddings)"
      ]
    },
    {
      "cell_type": "code",
      "execution_count": 69,
      "metadata": {
        "colab": {
          "base_uri": "https://localhost:8080/"
        },
        "id": "caRWCdadXKrG",
        "outputId": "e63191e7-a194-4a04-f88a-0b17348e5878"
      },
      "outputs": [
        {
          "output_type": "stream",
          "name": "stdout",
          "text": [
            "                  precision    recall  f1-score   support\n",
            "\n",
            "Gastroenterology       0.91      0.84      0.88        25\n",
            "       Neurology       0.81      0.77      0.79        22\n",
            "      Orthopedic       0.84      0.91      0.88        35\n",
            "         Urology       0.85      0.85      0.85        20\n",
            "\n",
            "        accuracy                           0.85       102\n",
            "       macro avg       0.85      0.84      0.85       102\n",
            "    weighted avg       0.85      0.85      0.85       102\n",
            "\n"
          ]
        }
      ],
      "source": [
        "preds_df = pred_df.select('category','prediction.result').toPandas()\n",
        "preds_df['result'] = preds_df.result.apply(lambda x : x[0])\n",
        "\n",
        "print (classification_report(preds_df['category'], preds_df['result']))"
      ]
    },
    {
      "cell_type": "code",
      "execution_count": 70,
      "metadata": {
        "id": "1rjuM4rnFO9x"
      },
      "outputs": [],
      "source": [
        "res = classification_report(preds_df[\"category\"], preds_df[\"result\"], output_dict=True)\n",
        "results_df.loc[\"GenericLogReg_100d\"] = [res[\"macro avg\"][\"f1-score\"], res[\"weighted avg\"][\"f1-score\"], res[\"accuracy\"]]"
      ]
    },
    {
      "cell_type": "markdown",
      "metadata": {
        "id": "wNNMzT-XXYmA"
      },
      "source": [
        "### GenericSVMClassifier"
      ]
    },
    {
      "cell_type": "code",
      "execution_count": 71,
      "metadata": {
        "id": "M7ludWh3XYmB"
      },
      "outputs": [],
      "source": [
        "graph_folder = \"gc_graph\"\n",
        "\n",
        "gc_svm_graph_builder = medical.TFGraphBuilder()\\\n",
        "    .setModelName(\"svm_classifier\")\\\n",
        "    .setInputCols([\"feature_vector\"]) \\\n",
        "    .setLabelColumn(\"category\")\\\n",
        "    .setGraphFolder(graph_folder)\\\n",
        "    .setGraphFile(\"svm_graph.pb\")"
      ]
    },
    {
      "cell_type": "markdown",
      "metadata": {
        "id": "pLqqH3HOXYmB"
      },
      "source": [
        "GenericSVMClassifier needs outputs from FeaturesAssembler. The FeaturesAssembler is used to collect features from different columns or an embeddings column.\n",
        "\n",
        "The GenericSVMClassifier takes FEATURE_VECTOR annotations as input, classifies them and outputs CATEGORY annotations."
      ]
    },
    {
      "cell_type": "code",
      "execution_count": 72,
      "metadata": {
        "id": "jNZAxL3iXYmB"
      },
      "outputs": [],
      "source": [
        "features_asm = medical.FeaturesAssembler()\\\n",
        "    .setInputCols([\"sentence_embeddings\"])\\\n",
        "    .setOutputCol(\"feature_vector\")\n",
        "\n",
        "gen_clf = medical.GenericSVMClassifierApproach()\\\n",
        "    .setLabelColumn(\"category\")\\\n",
        "    .setInputCols(\"feature_vector\")\\\n",
        "    .setOutputCol(\"prediction\")\\\n",
        "    .setModelFile(f\"{graph_folder}/svm_graph.pb\")\\\n",
        "    .setEpochsNumber(45)\\\n",
        "    .setBatchSize(32)\\\n",
        "    .setLearningRate(0.02)\\\n",
        "    .setOutputLogsPath(log_folder)\\\n",
        "    .setDropout(0.1)\\\n",
        "    .setFixImbalance(True)\\\n",
        "    # .setValidationSplit(0.1)\n",
        "\n",
        "clf_Pipeline = nlp.Pipeline(stages=[\n",
        "    features_asm,\n",
        "    gc_svm_graph_builder,\n",
        "    gen_clf])\n"
      ]
    },
    {
      "cell_type": "code",
      "execution_count": 73,
      "metadata": {
        "colab": {
          "base_uri": "https://localhost:8080/"
        },
        "id": "FOpLj7MbXYmB",
        "outputId": "5f8559de-ba84-42fa-ff66-fa16612d0b20"
      },
      "outputs": [
        {
          "output_type": "stream",
          "name": "stdout",
          "text": [
            "TF Graph Builder configuration:\n",
            "Model name: svm_classifier\n",
            "Graph folder: gc_graph\n",
            "Graph file name: svm_graph.pb\n",
            "Build params: {'input_dim': 100, 'output_dim': 4, 'hidden_layers': [], 'output_act': 'sigmoid', 'loss_func': 'hinge'}\n",
            "svm_classifier graph exported to gc_graph/svm_graph.pb\n"
          ]
        }
      ],
      "source": [
        "generic_model_hc100 = clf_Pipeline.fit(trainingData_with_embeddings)"
      ]
    },
    {
      "cell_type": "code",
      "execution_count": 74,
      "metadata": {
        "id": "pN0Ts7VqXYmC"
      },
      "outputs": [],
      "source": [
        "pred_df = generic_model_hc100.transform(testData_with_embeddings)"
      ]
    },
    {
      "cell_type": "code",
      "execution_count": 75,
      "metadata": {
        "colab": {
          "base_uri": "https://localhost:8080/"
        },
        "id": "KRFJdGyEXYmC",
        "outputId": "48461518-df8a-4cc6-96d5-5c5e46f7ec7c"
      },
      "outputs": [
        {
          "output_type": "stream",
          "name": "stdout",
          "text": [
            "                  precision    recall  f1-score   support\n",
            "\n",
            "Gastroenterology       1.00      0.84      0.91        25\n",
            "       Neurology       0.82      0.82      0.82        22\n",
            "      Orthopedic       0.94      0.91      0.93        35\n",
            "         Urology       0.76      0.95      0.84        20\n",
            "\n",
            "        accuracy                           0.88       102\n",
            "       macro avg       0.88      0.88      0.88       102\n",
            "    weighted avg       0.89      0.88      0.88       102\n",
            "\n"
          ]
        }
      ],
      "source": [
        "preds_df = pred_df.select('category','prediction.result').toPandas()\n",
        "preds_df['result'] = preds_df.result.apply(lambda x : x[0])\n",
        "\n",
        "print (classification_report(preds_df['category'], preds_df['result']))"
      ]
    },
    {
      "cell_type": "code",
      "execution_count": 76,
      "metadata": {
        "id": "-Ax6lC2rGMpS"
      },
      "outputs": [],
      "source": [
        "res = classification_report(preds_df[\"category\"], preds_df[\"result\"], output_dict=True)\n",
        "results_df.loc[\"GenericSVM_100d\"] = [res[\"macro avg\"][\"f1-score\"], res[\"weighted avg\"][\"f1-score\"], res[\"accuracy\"]]"
      ]
    },
    {
      "cell_type": "markdown",
      "metadata": {
        "id": "kF60nUsj9oaE"
      },
      "source": [
        "## 200 Dimension Healthcare Embeddings (embeddings_clinical)\n",
        "\n"
      ]
    },
    {
      "cell_type": "markdown",
      "metadata": {
        "id": "fBJMu9pr9oaE"
      },
      "source": [
        "Now we will extract [embeddings_clinical](https://nlp.johnsnowlabs.com/2020/01/28/embeddings_clinical_en.html) embeddings which has 200 dimension output and use this embeddings in the model training."
      ]
    },
    {
      "cell_type": "code",
      "execution_count": 77,
      "metadata": {
        "colab": {
          "base_uri": "https://localhost:8080/"
        },
        "id": "PzSG35rb9oaE",
        "outputId": "517bf448-2f85-47d8-e161-a1a87ed3fc90"
      },
      "outputs": [
        {
          "output_type": "stream",
          "name": "stdout",
          "text": [
            "embeddings_clinical download started this may take some time.\n",
            "Approximate size to download 1.6 GB\n",
            "[OK!]\n"
          ]
        }
      ],
      "source": [
        "document_assembler = nlp.DocumentAssembler()\\\n",
        "    .setInputCol(\"text\")\\\n",
        "    .setOutputCol(\"document\")\n",
        "\n",
        "tokenizer = nlp.Tokenizer() \\\n",
        "    .setInputCols([\"document\"]) \\\n",
        "    .setOutputCol(\"token\")\n",
        "\n",
        "word_embeddings = nlp.WordEmbeddingsModel.pretrained(\"embeddings_clinical\",\"en\",\"clinical/models\")\\\n",
        "    .setInputCols([\"document\",\"token\"])\\\n",
        "    .setOutputCol(\"word_embeddings\")\n",
        "\n",
        "sentence_embeddings = nlp.SentenceEmbeddings() \\\n",
        "    .setInputCols([\"document\", \"word_embeddings\"]) \\\n",
        "    .setOutputCol(\"sentence_embeddings\") \\\n",
        "    .setPoolingStrategy(\"AVERAGE\")\n",
        "\n",
        "embeddings_pipeline = nlp.Pipeline(\n",
        "    stages = [\n",
        "        document_assembler,\n",
        "        tokenizer,\n",
        "        word_embeddings,\n",
        "        sentence_embeddings,\n",
        "])"
      ]
    },
    {
      "cell_type": "code",
      "execution_count": 78,
      "metadata": {
        "colab": {
          "base_uri": "https://localhost:8080/"
        },
        "id": "MXN8Cqyp9oaF",
        "outputId": "4896b7e3-5399-4d75-f694-0641c14b430b"
      },
      "outputs": [
        {
          "output_type": "stream",
          "name": "stdout",
          "text": [
            "+------------------------------------------------------------+----------------+------------------------------------------------------------+\n",
            "|                                                        text|        category|                                         sentence_embeddings|\n",
            "+------------------------------------------------------------+----------------+------------------------------------------------------------+\n",
            "| ADMISSION DIAGNOSIS: Symptomatic cholelithiasis. DISCHAR...|Gastroenterology|[{sentence_embeddings, 0, 2228,  ADMISSION DIAGNOSIS: Sym...|\n",
            "| ADMITTING DIAGNOSES: Hiatal hernia, gastroesophageal ref...|Gastroenterology|[{sentence_embeddings, 0, 3237,  ADMITTING DIAGNOSES: Hia...|\n",
            "+------------------------------------------------------------+----------------+------------------------------------------------------------+\n",
            "only showing top 2 rows\n",
            "\n"
          ]
        }
      ],
      "source": [
        "trainingData_with_embeddings = embeddings_pipeline.fit(trainingData).transform(trainingData)\\\n",
        "                                                  .select(\"text\",\"category\",\"sentence_embeddings\")\n",
        "trainingData_with_embeddings.show(2,truncate=60)"
      ]
    },
    {
      "cell_type": "code",
      "execution_count": 79,
      "metadata": {
        "colab": {
          "base_uri": "https://localhost:8080/"
        },
        "id": "fpBY0D_y9oaF",
        "outputId": "094e0b4c-7e83-4590-8714-a25f49ad2f04"
      },
      "outputs": [
        {
          "output_type": "stream",
          "name": "stdout",
          "text": [
            "+------------------------------------------------------------+----------------+------------------------------------------------------------+\n",
            "|                                                        text|        category|                                         sentence_embeddings|\n",
            "+------------------------------------------------------------+----------------+------------------------------------------------------------+\n",
            "| ADMITTING DIAGNOSIS: Gastrointestinal bleed. HISTORY OF ...|Gastroenterology|[{sentence_embeddings, 0, 3978,  ADMITTING DIAGNOSIS: Gas...|\n",
            "| CHIEF COMPLAINT: Dysphagia and hematemesis while vomitin...|Gastroenterology|[{sentence_embeddings, 0, 6515,  CHIEF COMPLAINT: Dysphag...|\n",
            "+------------------------------------------------------------+----------------+------------------------------------------------------------+\n",
            "only showing top 2 rows\n",
            "\n"
          ]
        }
      ],
      "source": [
        "testData_with_embeddings = embeddings_pipeline.fit(testData).transform(testData)\\\n",
        "                                                  .select(\"text\",\"category\",\"sentence_embeddings\")\n",
        "testData_with_embeddings.show(2,truncate=60)"
      ]
    },
    {
      "cell_type": "code",
      "execution_count": 80,
      "metadata": {
        "id": "GGIXfOlX9oaF"
      },
      "outputs": [],
      "source": [
        "log_folder=\"Mt_logs_healthcare_200d\""
      ]
    },
    {
      "cell_type": "markdown",
      "metadata": {
        "id": "5W6ac3UP9oaF"
      },
      "source": [
        "### ClassifierDL"
      ]
    },
    {
      "cell_type": "code",
      "execution_count": 81,
      "metadata": {
        "id": "2z7EgX-q9oaF"
      },
      "outputs": [],
      "source": [
        "classifier_dl = nlp.ClassifierDLApproach()\\\n",
        "    .setInputCols([\"sentence_embeddings\"])\\\n",
        "    .setOutputCol(\"class\")\\\n",
        "    .setLabelColumn(\"category\")\\\n",
        "    .setBatchSize(8)\\\n",
        "    .setMaxEpochs(50)\\\n",
        "    .setLr(0.005)\\\n",
        "    .setDropout(0.1)\\\n",
        "    .setEnableOutputLogs(True)\\\n",
        "    .setOutputLogsPath(log_folder)\n",
        "\n",
        "classifier_dl_pipeline = nlp.Pipeline(stages=[classifier_dl])"
      ]
    },
    {
      "cell_type": "code",
      "execution_count": 82,
      "metadata": {
        "id": "U0mSiCzC9oaF"
      },
      "outputs": [],
      "source": [
        "clfDL_model_hc200 = classifier_dl_pipeline.fit(trainingData_with_embeddings)"
      ]
    },
    {
      "cell_type": "code",
      "execution_count": 83,
      "metadata": {
        "colab": {
          "base_uri": "https://localhost:8080/"
        },
        "id": "boLjiAyP9oaF",
        "outputId": "883d5f79-c717-4872-a483-b4b7eb584870"
      },
      "outputs": [
        {
          "output_type": "stream",
          "name": "stdout",
          "text": [
            "                  precision    recall  f1-score   support\n",
            "\n",
            "Gastroenterology       0.00      0.00      0.00        25\n",
            "       Neurology       0.00      0.00      0.00        22\n",
            "      Orthopedic       0.34      1.00      0.51        35\n",
            "         Urology       0.00      0.00      0.00        20\n",
            "\n",
            "        accuracy                           0.34       102\n",
            "       macro avg       0.09      0.25      0.13       102\n",
            "    weighted avg       0.12      0.34      0.18       102\n",
            "\n"
          ]
        }
      ],
      "source": [
        "preds = clfDL_model_hc200.transform(testData_with_embeddings)\n",
        "\n",
        "preds_df = preds.select(\"category\",\"text\",\"class.result\").toPandas()\n",
        "preds_df[\"result\"] = preds_df[\"result\"].apply(lambda x : x[0])\n",
        "\n",
        "print (classification_report(preds_df[\"category\"], preds_df[\"result\"]))"
      ]
    },
    {
      "cell_type": "code",
      "execution_count": 84,
      "metadata": {
        "id": "jHEd3YzlGaNA"
      },
      "outputs": [],
      "source": [
        "res = classification_report(preds_df[\"category\"], preds_df[\"result\"], output_dict=True)\n",
        "results_df.loc[\"ClassifierDL_200d\"] = [res[\"macro avg\"][\"f1-score\"], res[\"weighted avg\"][\"f1-score\"], res[\"accuracy\"]]"
      ]
    },
    {
      "cell_type": "markdown",
      "metadata": {
        "id": "y_hWPzoj9oaG"
      },
      "source": [
        "### MultiClassifierDL\n",
        "\n"
      ]
    },
    {
      "cell_type": "code",
      "execution_count": 85,
      "metadata": {
        "id": "mcUXN0td9oaG"
      },
      "outputs": [],
      "source": [
        "# MultiClassifierDL accepts list of strings as input label. So we convert label column to array type.\n",
        "trainingData_with_embeddings = trainingData_with_embeddings.withColumn(\"category_array\", F.array(F.col(\"category\")))\n",
        "testData_with_embeddings = testData_with_embeddings.withColumn(\"category_array\", F.array(F.col(\"category\")))"
      ]
    },
    {
      "cell_type": "code",
      "execution_count": 86,
      "metadata": {
        "id": "4YBVhvLL9oaG"
      },
      "outputs": [],
      "source": [
        "multiClassifier =nlp.MultiClassifierDLApproach()\\\n",
        "    .setInputCols(\"sentence_embeddings\")\\\n",
        "    .setOutputCol(\"prediction\")\\\n",
        "    .setLabelColumn(\"category_array\")\\\n",
        "    .setBatchSize(16)\\\n",
        "    .setMaxEpochs(20)\\\n",
        "    .setLr(9e-3)\\\n",
        "    .setThreshold(0.2)\\\n",
        "    .setShufflePerEpoch(False)\\\n",
        "    .setEnableOutputLogs(True)\\\n",
        "    .setOutputLogsPath(log_folder)\\\n",
        "  #   .setValidationSplit(0.1)\n",
        "\n",
        "multiClassifier_pipeline = nlp.Pipeline(\n",
        "    stages = [\n",
        "        multiClassifier\n",
        "    ])"
      ]
    },
    {
      "cell_type": "code",
      "execution_count": 87,
      "metadata": {
        "id": "ABetRCmn9oaG"
      },
      "outputs": [],
      "source": [
        "multiClassifier_model_hc200 = multiClassifier_pipeline.fit(trainingData_with_embeddings)"
      ]
    },
    {
      "cell_type": "code",
      "execution_count": 88,
      "metadata": {
        "id": "EdZbqqEk9oaG"
      },
      "outputs": [],
      "source": [
        "preds = multiClassifier_model_hc200.transform(testData_with_embeddings)"
      ]
    },
    {
      "cell_type": "code",
      "execution_count": 89,
      "metadata": {
        "colab": {
          "base_uri": "https://localhost:8080/",
          "height": 398
        },
        "id": "lY4vVTH29oaG",
        "outputId": "e0c9874a-5574-4efe-9dcd-cb0412807e47"
      },
      "outputs": [
        {
          "output_type": "execute_result",
          "data": {
            "text/plain": [
              "result\n",
              "['Orthopedic']                        32\n",
              "['Gastroenterology']                  19\n",
              "['Urology']                           18\n",
              "['Neurology']                         13\n",
              "['Neurology', 'Orthopedic']           11\n",
              "[]                                     4\n",
              "['Orthopedic', 'Gastroenterology']     3\n",
              "['Urology', 'Orthopedic']              1\n",
              "['Urology', 'Gastroenterology']        1\n",
              "Name: count, dtype: int64"
            ],
            "text/html": [
              "<div>\n",
              "<style scoped>\n",
              "    .dataframe tbody tr th:only-of-type {\n",
              "        vertical-align: middle;\n",
              "    }\n",
              "\n",
              "    .dataframe tbody tr th {\n",
              "        vertical-align: top;\n",
              "    }\n",
              "\n",
              "    .dataframe thead th {\n",
              "        text-align: right;\n",
              "    }\n",
              "</style>\n",
              "<table border=\"1\" class=\"dataframe\">\n",
              "  <thead>\n",
              "    <tr style=\"text-align: right;\">\n",
              "      <th></th>\n",
              "      <th>count</th>\n",
              "    </tr>\n",
              "    <tr>\n",
              "      <th>result</th>\n",
              "      <th></th>\n",
              "    </tr>\n",
              "  </thead>\n",
              "  <tbody>\n",
              "    <tr>\n",
              "      <th>['Orthopedic']</th>\n",
              "      <td>32</td>\n",
              "    </tr>\n",
              "    <tr>\n",
              "      <th>['Gastroenterology']</th>\n",
              "      <td>19</td>\n",
              "    </tr>\n",
              "    <tr>\n",
              "      <th>['Urology']</th>\n",
              "      <td>18</td>\n",
              "    </tr>\n",
              "    <tr>\n",
              "      <th>['Neurology']</th>\n",
              "      <td>13</td>\n",
              "    </tr>\n",
              "    <tr>\n",
              "      <th>['Neurology', 'Orthopedic']</th>\n",
              "      <td>11</td>\n",
              "    </tr>\n",
              "    <tr>\n",
              "      <th>[]</th>\n",
              "      <td>4</td>\n",
              "    </tr>\n",
              "    <tr>\n",
              "      <th>['Orthopedic', 'Gastroenterology']</th>\n",
              "      <td>3</td>\n",
              "    </tr>\n",
              "    <tr>\n",
              "      <th>['Urology', 'Orthopedic']</th>\n",
              "      <td>1</td>\n",
              "    </tr>\n",
              "    <tr>\n",
              "      <th>['Urology', 'Gastroenterology']</th>\n",
              "      <td>1</td>\n",
              "    </tr>\n",
              "  </tbody>\n",
              "</table>\n",
              "</div><br><label><b>dtype:</b> int64</label>"
            ]
          },
          "metadata": {},
          "execution_count": 89
        }
      ],
      "source": [
        "preds_df = preds.select(\"category\",\"text\",\"prediction.result\",\"prediction.metadata\").toPandas()\n",
        "preds_df.result.apply(lambda x: str(x) ).value_counts()"
      ]
    },
    {
      "cell_type": "code",
      "execution_count": 90,
      "metadata": {
        "colab": {
          "base_uri": "https://localhost:8080/",
          "height": 241
        },
        "id": "DOKLfZR59oaH",
        "outputId": "64fbe6a7-c90c-49c0-9696-055fe2d5c641"
      },
      "outputs": [
        {
          "output_type": "execute_result",
          "data": {
            "text/plain": [
              "result\n",
              "Orthopedic          38\n",
              "Gastroenterology    22\n",
              "Urology             20\n",
              "Neurology           18\n",
              "Name: count, dtype: int64"
            ],
            "text/html": [
              "<div>\n",
              "<style scoped>\n",
              "    .dataframe tbody tr th:only-of-type {\n",
              "        vertical-align: middle;\n",
              "    }\n",
              "\n",
              "    .dataframe tbody tr th {\n",
              "        vertical-align: top;\n",
              "    }\n",
              "\n",
              "    .dataframe thead th {\n",
              "        text-align: right;\n",
              "    }\n",
              "</style>\n",
              "<table border=\"1\" class=\"dataframe\">\n",
              "  <thead>\n",
              "    <tr style=\"text-align: right;\">\n",
              "      <th></th>\n",
              "      <th>count</th>\n",
              "    </tr>\n",
              "    <tr>\n",
              "      <th>result</th>\n",
              "      <th></th>\n",
              "    </tr>\n",
              "  </thead>\n",
              "  <tbody>\n",
              "    <tr>\n",
              "      <th>Orthopedic</th>\n",
              "      <td>38</td>\n",
              "    </tr>\n",
              "    <tr>\n",
              "      <th>Gastroenterology</th>\n",
              "      <td>22</td>\n",
              "    </tr>\n",
              "    <tr>\n",
              "      <th>Urology</th>\n",
              "      <td>20</td>\n",
              "    </tr>\n",
              "    <tr>\n",
              "      <th>Neurology</th>\n",
              "      <td>18</td>\n",
              "    </tr>\n",
              "  </tbody>\n",
              "</table>\n",
              "</div><br><label><b>dtype:</b> int64</label>"
            ]
          },
          "metadata": {},
          "execution_count": 90
        }
      ],
      "source": [
        "# We will get the highest score label as result. you can control the number of zero label results with setThreshold() in the training.\n",
        "preds_df[\"scores\"] = preds_df.metadata.apply(lambda x: {k:float(v) for k,v in x[0].items()} if len(x)>=1 else \"\")\n",
        "preds_df[\"result\"] = preds_df.scores.apply(lambda x: max(x, key=x.get) if len(x)>=1 else \"\")\n",
        "preds_df = preds_df[(preds_df[\"result\"]!=\"\")]\n",
        "preds_df[\"result\"].value_counts()"
      ]
    },
    {
      "cell_type": "code",
      "execution_count": 91,
      "metadata": {
        "colab": {
          "base_uri": "https://localhost:8080/"
        },
        "id": "2E9ibEbQ9oaH",
        "outputId": "94be732f-99c0-417e-859f-5b29920958eb"
      },
      "outputs": [
        {
          "output_type": "stream",
          "name": "stdout",
          "text": [
            "                  precision    recall  f1-score   support\n",
            "\n",
            "Gastroenterology       1.00      0.92      0.96        24\n",
            "       Neurology       0.89      0.80      0.84        20\n",
            "      Orthopedic       0.87      0.94      0.90        35\n",
            "         Urology       0.90      0.95      0.92        19\n",
            "\n",
            "        accuracy                           0.91        98\n",
            "       macro avg       0.91      0.90      0.91        98\n",
            "    weighted avg       0.91      0.91      0.91        98\n",
            "\n"
          ]
        }
      ],
      "source": [
        "print (classification_report(preds_df[\"category\"], preds_df[\"result\"]))"
      ]
    },
    {
      "cell_type": "code",
      "execution_count": 92,
      "metadata": {
        "id": "4k4DsJU6GjLS"
      },
      "outputs": [],
      "source": [
        "res = classification_report(preds_df[\"category\"], preds_df[\"result\"], output_dict=True)\n",
        "results_df.loc[\"MultiClassifierDL_200d\"] = [res[\"macro avg\"][\"f1-score\"], res[\"weighted avg\"][\"f1-score\"], res[\"accuracy\"]]"
      ]
    },
    {
      "cell_type": "markdown",
      "metadata": {
        "id": "7gUOXo5W9oaH"
      },
      "source": [
        "### Generic Classifier"
      ]
    },
    {
      "cell_type": "code",
      "execution_count": 93,
      "metadata": {
        "id": "sRkEeD1N9oaH"
      },
      "outputs": [],
      "source": [
        "from sparknlp_jsl.annotator import TFGraphBuilder\n",
        "\n",
        "graph_folder = \"gc_graph\"\n",
        "\n",
        "gc_graph_builder =medical.TFGraphBuilder()\\\n",
        "    .setModelName(\"generic_classifier\")\\\n",
        "    .setInputCols([\"features\"])\\\n",
        "    .setLabelColumn(\"category\")\\\n",
        "    .setHiddenLayers([300,200, 50])\\\n",
        "    .setHiddenAct(\"tanh\")\\\n",
        "    .setHiddenActL2(True)\\\n",
        "    .setBatchNorm(True)\\\n",
        "    .setGraphFolder(graph_folder)\\\n",
        "    .setGraphFile(\"gcf_graph_200d.pb\")"
      ]
    },
    {
      "cell_type": "code",
      "execution_count": 94,
      "metadata": {
        "id": "NhVTwRJP9oaH"
      },
      "outputs": [],
      "source": [
        "features_asm =medical.FeaturesAssembler()\\\n",
        "    .setInputCols([\"sentence_embeddings\"])\\\n",
        "    .setOutputCol(\"features\")\n",
        "\n",
        "gen_clf =medical.GenericClassifierApproach()\\\n",
        "    .setLabelColumn(\"category\")\\\n",
        "    .setInputCols(\"features\")\\\n",
        "    .setOutputCol(\"prediction\")\\\n",
        "    .setModelFile(f\"{graph_folder}/gcf_graph_200d.pb\")\\\n",
        "    .setEpochsNumber(30)\\\n",
        "    .setBatchSize(32)\\\n",
        "    .setLearningRate(0.001)\\\n",
        "    .setOutputLogsPath(log_folder)\\\n",
        "    .setDropout(0.3)\\\n",
        "    .setFixImbalance(True)\\\n",
        "    # .setValidationSplit(0.1)\n",
        "\n",
        "clf_Pipeline = nlp.Pipeline(\n",
        "    stages=[\n",
        "        features_asm,\n",
        "        gc_graph_builder,\n",
        "        gen_clf\n",
        "])\n"
      ]
    },
    {
      "cell_type": "code",
      "execution_count": 95,
      "metadata": {
        "colab": {
          "base_uri": "https://localhost:8080/"
        },
        "id": "98tT6yJQ9oaH",
        "outputId": "a2a33979-f88e-454d-ce48-3ec226490ba9"
      },
      "outputs": [
        {
          "output_type": "stream",
          "name": "stdout",
          "text": [
            "TF Graph Builder configuration:\n",
            "Model name: generic_classifier\n",
            "Graph folder: gc_graph\n",
            "Graph file name: gcf_graph_200d.pb\n",
            "Build params: {'input_dim': 200, 'output_dim': 4, 'hidden_layers': [300, 200, 50], 'hidden_act': 'tanh', 'hidden_act_l2': True, 'batch_norm': True}\n",
            "generic_classifier graph exported to gc_graph/gcf_graph_200d.pb\n"
          ]
        }
      ],
      "source": [
        "generic_model_hc200 = clf_Pipeline.fit(trainingData_with_embeddings)"
      ]
    },
    {
      "cell_type": "code",
      "execution_count": 96,
      "metadata": {
        "colab": {
          "base_uri": "https://localhost:8080/"
        },
        "id": "hsId-8YF9oaI",
        "outputId": "10ba33f6-649a-49c1-ba37-20f3382d065c"
      },
      "outputs": [
        {
          "output_type": "stream",
          "name": "stdout",
          "text": [
            "                  precision    recall  f1-score   support\n",
            "\n",
            "Gastroenterology       0.81      0.88      0.85        25\n",
            "       Neurology       0.88      0.68      0.77        22\n",
            "      Orthopedic       0.87      0.94      0.90        35\n",
            "         Urology       0.80      0.80      0.80        20\n",
            "\n",
            "        accuracy                           0.84       102\n",
            "       macro avg       0.84      0.83      0.83       102\n",
            "    weighted avg       0.84      0.84      0.84       102\n",
            "\n"
          ]
        }
      ],
      "source": [
        "pred_df = generic_model_hc200.transform(testData_with_embeddings)\n",
        "\n",
        "preds_df = pred_df.select('category','prediction.result').toPandas()\n",
        "preds_df['result'] = preds_df.result.apply(lambda x : x[0])\n",
        "\n",
        "print (classification_report(preds_df['category'], preds_df['result']))"
      ]
    },
    {
      "cell_type": "code",
      "execution_count": 97,
      "metadata": {
        "id": "qKr5sAdiGoRJ"
      },
      "outputs": [],
      "source": [
        "res = classification_report(preds_df[\"category\"], preds_df[\"result\"], output_dict=True)\n",
        "results_df.loc[\"GenericClassifier_200d\"] = [res[\"macro avg\"][\"f1-score\"], res[\"weighted avg\"][\"f1-score\"], res[\"accuracy\"]]"
      ]
    },
    {
      "cell_type": "markdown",
      "metadata": {
        "id": "yz9TOU2DXReN"
      },
      "source": [
        "### GenericLogRegClassifier"
      ]
    },
    {
      "cell_type": "code",
      "execution_count": 98,
      "metadata": {
        "id": "w-_bSCH6XReN"
      },
      "outputs": [],
      "source": [
        "graph_folder = \"gc_graph\"\n",
        "\n",
        "gc_logreg_graph_builder = medical.TFGraphBuilder()\\\n",
        "    .setModelName(\"logreg_classifier\")\\\n",
        "    .setInputCols([\"feature_vector\"]) \\\n",
        "    .setLabelColumn(\"category\")\\\n",
        "    .setGraphFolder(graph_folder)\\\n",
        "    .setGraphFile(\"log_reg_graph.pb\")"
      ]
    },
    {
      "cell_type": "markdown",
      "metadata": {
        "id": "e2JtY0P5XReN"
      },
      "source": [
        "GenericLogRegClassifier needs outputs from FeaturesAssembler. The FeaturesAssembler is used to collect features from different columns or an embeddings column.\n",
        "\n",
        "The GenericLogRegClassifier takes FEATURE_VECTOR annotations as input, classifies them and outputs CATEGORY annotations."
      ]
    },
    {
      "cell_type": "code",
      "execution_count": 99,
      "metadata": {
        "id": "baz581gzXReN"
      },
      "outputs": [],
      "source": [
        "features_asm = medical.FeaturesAssembler()\\\n",
        "    .setInputCols([\"sentence_embeddings\"])\\\n",
        "    .setOutputCol(\"feature_vector\")\n",
        "\n",
        "gen_clf = medical.GenericLogRegClassifierApproach()\\\n",
        "    .setLabelColumn(\"category\")\\\n",
        "    .setInputCols(\"feature_vector\")\\\n",
        "    .setOutputCol(\"prediction\")\\\n",
        "    .setModelFile(f\"{graph_folder}/log_reg_graph.pb\")\\\n",
        "    .setEpochsNumber(45)\\\n",
        "    .setBatchSize(32)\\\n",
        "    .setLearningRate(0.02)\\\n",
        "    .setOutputLogsPath(log_folder)\\\n",
        "    .setDropout(0.1)\\\n",
        "    .setFixImbalance(True)\\\n",
        "    # .setValidationSplit(0.1)\n",
        "\n",
        "clf_Pipeline = nlp.Pipeline(\n",
        "    stages=[\n",
        "        features_asm,\n",
        "        gc_logreg_graph_builder,\n",
        "        gen_clf\n",
        "])\n"
      ]
    },
    {
      "cell_type": "code",
      "execution_count": 100,
      "metadata": {
        "colab": {
          "base_uri": "https://localhost:8080/"
        },
        "id": "jVoRHwNmXReO",
        "outputId": "70e3e72b-90ad-4f4d-d950-683ea0fdddb7"
      },
      "outputs": [
        {
          "output_type": "stream",
          "name": "stdout",
          "text": [
            "TF Graph Builder configuration:\n",
            "Model name: logreg_classifier\n",
            "Graph folder: gc_graph\n",
            "Graph file name: log_reg_graph.pb\n",
            "Build params: {'input_dim': 200, 'output_dim': 4, 'hidden_layers': [], 'output_act': 'sigmoid'}\n",
            "logreg_classifier graph exported to gc_graph/log_reg_graph.pb\n"
          ]
        }
      ],
      "source": [
        "generic_model_hc200 = clf_Pipeline.fit(trainingData_with_embeddings)"
      ]
    },
    {
      "cell_type": "code",
      "execution_count": 101,
      "metadata": {
        "id": "uHg_HbimXReO"
      },
      "outputs": [],
      "source": [
        "pred_df = generic_model_hc200.transform(testData_with_embeddings)"
      ]
    },
    {
      "cell_type": "code",
      "execution_count": 102,
      "metadata": {
        "colab": {
          "base_uri": "https://localhost:8080/"
        },
        "id": "NjByOpYPXReO",
        "outputId": "8f1192b7-ca59-42a9-b810-291d54dce874"
      },
      "outputs": [
        {
          "output_type": "stream",
          "name": "stdout",
          "text": [
            "                  precision    recall  f1-score   support\n",
            "\n",
            "Gastroenterology       0.81      0.84      0.82        25\n",
            "       Neurology       0.88      0.68      0.77        22\n",
            "      Orthopedic       0.85      0.94      0.89        35\n",
            "         Urology       0.80      0.80      0.80        20\n",
            "\n",
            "        accuracy                           0.83       102\n",
            "       macro avg       0.83      0.82      0.82       102\n",
            "    weighted avg       0.84      0.83      0.83       102\n",
            "\n"
          ]
        }
      ],
      "source": [
        "preds_df = pred_df.select('category','prediction.result').toPandas()\n",
        "preds_df['result'] = preds_df.result.apply(lambda x : x[0])\n",
        "\n",
        "print (classification_report(preds_df['category'], preds_df['result']))"
      ]
    },
    {
      "cell_type": "code",
      "execution_count": 103,
      "metadata": {
        "id": "nOxbaJzfGwdP"
      },
      "outputs": [],
      "source": [
        "res = classification_report(preds_df[\"category\"], preds_df[\"result\"], output_dict=True)\n",
        "results_df.loc[\"GenericLogReg_200d\"] = [res[\"macro avg\"][\"f1-score\"], res[\"weighted avg\"][\"f1-score\"], res[\"accuracy\"]]"
      ]
    },
    {
      "cell_type": "markdown",
      "metadata": {
        "id": "1lkESKp6XaCP"
      },
      "source": [
        "### GenericSVMClassifier"
      ]
    },
    {
      "cell_type": "code",
      "execution_count": 104,
      "metadata": {
        "id": "gs_iLR10XaCP"
      },
      "outputs": [],
      "source": [
        "graph_folder = \"gc_graph\"\n",
        "\n",
        "gc_svm_graph_builder = medical.TFGraphBuilder()\\\n",
        "    .setModelName(\"svm_classifier\")\\\n",
        "    .setInputCols([\"feature_vector\"]) \\\n",
        "    .setLabelColumn(\"category\")\\\n",
        "    .setGraphFolder(graph_folder)\\\n",
        "    .setGraphFile(\"svm_graph.pb\")"
      ]
    },
    {
      "cell_type": "markdown",
      "metadata": {
        "id": "EMVMo7DKXaCP"
      },
      "source": [
        "GenericSVMClassifier needs outputs from FeaturesAssembler. The FeaturesAssembler is used to collect features from different columns or an embeddings column.\n",
        "\n",
        "The GenericSVMClassifier takes FEATURE_VECTOR annotations as input, classifies them and outputs CATEGORY annotations."
      ]
    },
    {
      "cell_type": "code",
      "execution_count": 105,
      "metadata": {
        "id": "QVu8zWtJXaCQ"
      },
      "outputs": [],
      "source": [
        "features_asm = medical.FeaturesAssembler()\\\n",
        "    .setInputCols([\"sentence_embeddings\"])\\\n",
        "    .setOutputCol(\"feature_vector\")\n",
        "\n",
        "gen_clf = medical.GenericSVMClassifierApproach()\\\n",
        "    .setLabelColumn(\"category\")\\\n",
        "    .setInputCols(\"feature_vector\")\\\n",
        "    .setOutputCol(\"prediction\")\\\n",
        "    .setModelFile(f\"{graph_folder}/svm_graph.pb\")\\\n",
        "    .setEpochsNumber(45)\\\n",
        "    .setBatchSize(32)\\\n",
        "    .setLearningRate(0.02)\\\n",
        "    .setOutputLogsPath(log_folder)\\\n",
        "    .setDropout(0.1)\\\n",
        "    .setFixImbalance(True)\\\n",
        "    # .setValidationSplit(0.1)\n",
        "\n",
        "clf_Pipeline = nlp.Pipeline(\n",
        "    stages=[\n",
        "        features_asm,\n",
        "        gc_svm_graph_builder,\n",
        "        gen_clf\n",
        "])\n"
      ]
    },
    {
      "cell_type": "code",
      "execution_count": 106,
      "metadata": {
        "colab": {
          "base_uri": "https://localhost:8080/"
        },
        "id": "DPRquqVZXaCQ",
        "outputId": "b72972d3-cb4b-45e5-f1a2-92a24520dce1"
      },
      "outputs": [
        {
          "output_type": "stream",
          "name": "stdout",
          "text": [
            "TF Graph Builder configuration:\n",
            "Model name: svm_classifier\n",
            "Graph folder: gc_graph\n",
            "Graph file name: svm_graph.pb\n",
            "Build params: {'input_dim': 200, 'output_dim': 4, 'hidden_layers': [], 'output_act': 'sigmoid', 'loss_func': 'hinge'}\n",
            "svm_classifier graph exported to gc_graph/svm_graph.pb\n"
          ]
        }
      ],
      "source": [
        "generic_model_hc200 = clf_Pipeline.fit(trainingData_with_embeddings)"
      ]
    },
    {
      "cell_type": "code",
      "execution_count": 107,
      "metadata": {
        "id": "sgC_XhZJXaCQ"
      },
      "outputs": [],
      "source": [
        "pred_df = generic_model_hc200.transform(testData_with_embeddings)"
      ]
    },
    {
      "cell_type": "code",
      "execution_count": 108,
      "metadata": {
        "colab": {
          "base_uri": "https://localhost:8080/"
        },
        "id": "05LprRjwXaCR",
        "outputId": "d5b3695d-fb6d-4040-a2e7-4af9d9a451de"
      },
      "outputs": [
        {
          "output_type": "stream",
          "name": "stdout",
          "text": [
            "                  precision    recall  f1-score   support\n",
            "\n",
            "Gastroenterology       0.81      0.88      0.85        25\n",
            "       Neurology       0.89      0.77      0.83        22\n",
            "      Orthopedic       0.87      0.94      0.90        35\n",
            "         Urology       0.89      0.80      0.84        20\n",
            "\n",
            "        accuracy                           0.86       102\n",
            "       macro avg       0.87      0.85      0.86       102\n",
            "    weighted avg       0.86      0.86      0.86       102\n",
            "\n"
          ]
        }
      ],
      "source": [
        "preds_df = pred_df.select('category','prediction.result').toPandas()\n",
        "preds_df['result'] = preds_df.result.apply(lambda x : x[0])\n",
        "\n",
        "print (classification_report(preds_df['category'], preds_df['result']))"
      ]
    },
    {
      "cell_type": "code",
      "execution_count": 109,
      "metadata": {
        "id": "Cy2dEm3JG-RV"
      },
      "outputs": [],
      "source": [
        "res = classification_report(preds_df[\"category\"], preds_df[\"result\"], output_dict=True)\n",
        "results_df.loc[\"GenericSVM_200d\"] = [res[\"macro avg\"][\"f1-score\"], res[\"weighted avg\"][\"f1-score\"], res[\"accuracy\"]]"
      ]
    },
    {
      "cell_type": "markdown",
      "metadata": {
        "id": "2LqFI4dmW4Ep"
      },
      "source": [
        "## Bert Sentence Embeddings (sbiobert_base_cased_mli)"
      ]
    },
    {
      "cell_type": "markdown",
      "metadata": {
        "id": "RcQPzSbOVOpn"
      },
      "source": [
        "We will extract [sbiobert_base_cased_mli](https://nlp.johnsnowlabs.com/2020/11/27/sbiobert_base_cased_mli_en.html) embeddings which has 768 dimension output and use this embeddings in the model training."
      ]
    },
    {
      "cell_type": "code",
      "execution_count": 110,
      "metadata": {
        "colab": {
          "base_uri": "https://localhost:8080/"
        },
        "id": "e7pupvygW4Eq",
        "outputId": "dae604b2-a890-4e64-8161-d394e91ee70b"
      },
      "outputs": [
        {
          "output_type": "stream",
          "name": "stdout",
          "text": [
            "sbiobert_base_cased_mli download started this may take some time.\n",
            "Approximate size to download 384.3 MB\n",
            "[OK!]\n"
          ]
        }
      ],
      "source": [
        "document_assembler = nlp.DocumentAssembler()\\\n",
        "    .setInputCol(\"text\")\\\n",
        "    .setOutputCol(\"document\")\n",
        "\n",
        "bert_sent = nlp.BertSentenceEmbeddings.pretrained(\"sbiobert_base_cased_mli\", 'en','clinical/models')\\\n",
        "    .setInputCols([\"document\"])\\\n",
        "    .setOutputCol(\"sentence_embeddings\")\n",
        "\n",
        "embeddings_pipeline = nlp.Pipeline(\n",
        "    stages = [\n",
        "        document_assembler,\n",
        "              bert_sent\n",
        "])"
      ]
    },
    {
      "cell_type": "code",
      "execution_count": 111,
      "metadata": {
        "colab": {
          "base_uri": "https://localhost:8080/"
        },
        "id": "A-_AaTGCW4Eq",
        "outputId": "59a290ff-9ac2-4aea-d6dc-8ac9644a8d68"
      },
      "outputs": [
        {
          "output_type": "stream",
          "name": "stdout",
          "text": [
            "+------------------------------------------------------------+----------------+------------------------------------------------------------+\n",
            "|                                                        text|        category|                                         sentence_embeddings|\n",
            "+------------------------------------------------------------+----------------+------------------------------------------------------------+\n",
            "| ADMISSION DIAGNOSIS: Symptomatic cholelithiasis. DISCHAR...|Gastroenterology|[{sentence_embeddings, 0, 2228,  ADMISSION DIAGNOSIS: Sym...|\n",
            "| ADMITTING DIAGNOSES: Hiatal hernia, gastroesophageal ref...|Gastroenterology|[{sentence_embeddings, 0, 3237,  ADMITTING DIAGNOSES: Hia...|\n",
            "+------------------------------------------------------------+----------------+------------------------------------------------------------+\n",
            "only showing top 2 rows\n",
            "\n"
          ]
        }
      ],
      "source": [
        "trainingData_with_embeddings = embeddings_pipeline.fit(trainingData).transform(trainingData)\\\n",
        "                                                  .select(\"text\",\"category\",\"sentence_embeddings\")\n",
        "\n",
        "trainingData_with_embeddings.show(2,truncate=60)"
      ]
    },
    {
      "cell_type": "code",
      "execution_count": 112,
      "metadata": {
        "colab": {
          "base_uri": "https://localhost:8080/"
        },
        "id": "sGAKs2o0W4Eq",
        "outputId": "06000415-94b1-4ba4-895c-624a67ca1e5c"
      },
      "outputs": [
        {
          "output_type": "stream",
          "name": "stdout",
          "text": [
            "+------------------------------------------------------------+----------------+------------------------------------------------------------+\n",
            "|                                                        text|        category|                                         sentence_embeddings|\n",
            "+------------------------------------------------------------+----------------+------------------------------------------------------------+\n",
            "| ADMITTING DIAGNOSIS: Gastrointestinal bleed. HISTORY OF ...|Gastroenterology|[{sentence_embeddings, 0, 3978,  ADMITTING DIAGNOSIS: Gas...|\n",
            "| CHIEF COMPLAINT: Dysphagia and hematemesis while vomitin...|Gastroenterology|[{sentence_embeddings, 0, 6515,  CHIEF COMPLAINT: Dysphag...|\n",
            "+------------------------------------------------------------+----------------+------------------------------------------------------------+\n",
            "only showing top 2 rows\n",
            "\n"
          ]
        }
      ],
      "source": [
        "testData_with_embeddings = embeddings_pipeline.fit(testData).transform(testData)\\\n",
        "                                                  .select(\"text\",\"category\",\"sentence_embeddings\")\n",
        "\n",
        "testData_with_embeddings.show(2,truncate=60)"
      ]
    },
    {
      "cell_type": "code",
      "execution_count": 113,
      "metadata": {
        "id": "WiR3GJpbW4Eq"
      },
      "outputs": [],
      "source": [
        "log_folder=\"Mt_logs_bert\""
      ]
    },
    {
      "cell_type": "markdown",
      "metadata": {
        "id": "NqYpg6-dW4Eq"
      },
      "source": [
        "### ClassifierDL"
      ]
    },
    {
      "cell_type": "code",
      "execution_count": 114,
      "metadata": {
        "id": "vkb4PlGsW4Eq"
      },
      "outputs": [],
      "source": [
        "classifier_dl = nlp.ClassifierDLApproach()\\\n",
        "    .setInputCols([\"sentence_embeddings\"])\\\n",
        "    .setOutputCol(\"class\")\\\n",
        "    .setLabelColumn(\"category\")\\\n",
        "    .setBatchSize(8)\\\n",
        "    .setMaxEpochs(30)\\\n",
        "    .setLr(0.002)\\\n",
        "    .setDropout(0.1)\\\n",
        "    .setEnableOutputLogs(True)\\\n",
        "    .setOutputLogsPath(log_folder)\n",
        "\n",
        "classifier_dl_pipeline = nlp.Pipeline(stages=[classifier_dl])"
      ]
    },
    {
      "cell_type": "code",
      "execution_count": 115,
      "metadata": {
        "id": "WG0-PJA2W4Eq"
      },
      "outputs": [],
      "source": [
        "clfDL_model_bert = classifier_dl_pipeline.fit(trainingData_with_embeddings)"
      ]
    },
    {
      "cell_type": "code",
      "execution_count": 116,
      "metadata": {
        "colab": {
          "base_uri": "https://localhost:8080/"
        },
        "id": "B_29_8JBW4Eq",
        "outputId": "4d82f164-986a-4aeb-8b32-562714075190"
      },
      "outputs": [
        {
          "output_type": "stream",
          "name": "stdout",
          "text": [
            "                  precision    recall  f1-score   support\n",
            "\n",
            "Gastroenterology       0.92      0.88      0.90        25\n",
            "       Neurology       0.83      0.86      0.84        22\n",
            "      Orthopedic       0.88      0.86      0.87        35\n",
            "         Urology       0.90      0.95      0.93        20\n",
            "\n",
            "        accuracy                           0.88       102\n",
            "       macro avg       0.88      0.89      0.88       102\n",
            "    weighted avg       0.88      0.88      0.88       102\n",
            "\n"
          ]
        }
      ],
      "source": [
        "preds = clfDL_model_bert.transform(testData_with_embeddings)\n",
        "\n",
        "preds_df = preds.select(\"category\",\"text\",\"class.result\").toPandas()\n",
        "preds_df[\"result\"] = preds_df[\"result\"].apply(lambda x : x[0])\n",
        "\n",
        "print (classification_report(preds_df[\"category\"], preds_df[\"result\"]))"
      ]
    },
    {
      "cell_type": "code",
      "execution_count": 117,
      "metadata": {
        "id": "QROfiyWWHN7W"
      },
      "outputs": [],
      "source": [
        "res = classification_report(preds_df[\"category\"], preds_df[\"result\"], output_dict=True)\n",
        "results_df.loc[\"ClassifierDL_bert\"] = [res[\"macro avg\"][\"f1-score\"], res[\"weighted avg\"][\"f1-score\"], res[\"accuracy\"]]"
      ]
    },
    {
      "cell_type": "markdown",
      "metadata": {
        "id": "0Fw49226W4Er"
      },
      "source": [
        "### MultiClassifierDL"
      ]
    },
    {
      "cell_type": "code",
      "execution_count": 118,
      "metadata": {
        "id": "Co9lWcRxW4Er"
      },
      "outputs": [],
      "source": [
        "# MultiClassifierDL accepts list of strings as input label. So we convert label column to array type.\n",
        "trainingData_with_embeddings = trainingData_with_embeddings.withColumn(\"category_array\", F.array(F.col(\"category\")))\n",
        "testData_with_embeddings = testData_with_embeddings.withColumn(\"category_array\", F.array(F.col(\"category\")))"
      ]
    },
    {
      "cell_type": "code",
      "execution_count": 119,
      "metadata": {
        "id": "5itVNwSWW4Er"
      },
      "outputs": [],
      "source": [
        "multiClassifier =nlp.MultiClassifierDLApproach()\\\n",
        "    .setInputCols(\"sentence_embeddings\")\\\n",
        "    .setOutputCol(\"prediction\")\\\n",
        "    .setLabelColumn(\"category_array\")\\\n",
        "    .setBatchSize(8)\\\n",
        "    .setMaxEpochs(20)\\\n",
        "    .setLr(9e-3)\\\n",
        "    .setThreshold(0.5)\\\n",
        "    .setShufflePerEpoch(False)\\\n",
        "    .setEnableOutputLogs(True)\\\n",
        "    .setOutputLogsPath(log_folder)\\\n",
        "  #   .setValidationSplit(0.1)\n",
        "\n",
        "multiClassifier_pipeline = nlp.Pipeline(\n",
        "    stages = [\n",
        "        multiClassifier\n",
        "])"
      ]
    },
    {
      "cell_type": "code",
      "execution_count": 120,
      "metadata": {
        "id": "Y2p8qfzeW4Er"
      },
      "outputs": [],
      "source": [
        "multiClassifier_model_bert = multiClassifier_pipeline.fit(trainingData_with_embeddings)"
      ]
    },
    {
      "cell_type": "code",
      "execution_count": 121,
      "metadata": {
        "id": "j812VMg5W4Er"
      },
      "outputs": [],
      "source": [
        "preds = multiClassifier_model_bert.transform(testData_with_embeddings)"
      ]
    },
    {
      "cell_type": "code",
      "execution_count": 122,
      "metadata": {
        "colab": {
          "base_uri": "https://localhost:8080/",
          "height": 273
        },
        "id": "Ero8R_rhW4Er",
        "outputId": "0c99665d-6ab8-4eee-a634-e879c35f7067"
      },
      "outputs": [
        {
          "output_type": "execute_result",
          "data": {
            "text/plain": [
              "result\n",
              "['Orthopedic']          31\n",
              "['Neurology']           24\n",
              "['Gastroenterology']    22\n",
              "['Urology']             20\n",
              "[]                       5\n",
              "Name: count, dtype: int64"
            ],
            "text/html": [
              "<div>\n",
              "<style scoped>\n",
              "    .dataframe tbody tr th:only-of-type {\n",
              "        vertical-align: middle;\n",
              "    }\n",
              "\n",
              "    .dataframe tbody tr th {\n",
              "        vertical-align: top;\n",
              "    }\n",
              "\n",
              "    .dataframe thead th {\n",
              "        text-align: right;\n",
              "    }\n",
              "</style>\n",
              "<table border=\"1\" class=\"dataframe\">\n",
              "  <thead>\n",
              "    <tr style=\"text-align: right;\">\n",
              "      <th></th>\n",
              "      <th>count</th>\n",
              "    </tr>\n",
              "    <tr>\n",
              "      <th>result</th>\n",
              "      <th></th>\n",
              "    </tr>\n",
              "  </thead>\n",
              "  <tbody>\n",
              "    <tr>\n",
              "      <th>['Orthopedic']</th>\n",
              "      <td>31</td>\n",
              "    </tr>\n",
              "    <tr>\n",
              "      <th>['Neurology']</th>\n",
              "      <td>24</td>\n",
              "    </tr>\n",
              "    <tr>\n",
              "      <th>['Gastroenterology']</th>\n",
              "      <td>22</td>\n",
              "    </tr>\n",
              "    <tr>\n",
              "      <th>['Urology']</th>\n",
              "      <td>20</td>\n",
              "    </tr>\n",
              "    <tr>\n",
              "      <th>[]</th>\n",
              "      <td>5</td>\n",
              "    </tr>\n",
              "  </tbody>\n",
              "</table>\n",
              "</div><br><label><b>dtype:</b> int64</label>"
            ]
          },
          "metadata": {},
          "execution_count": 122
        }
      ],
      "source": [
        "preds_df = preds.select(\"category\",\"text\",\"prediction.result\",\"prediction.metadata\").toPandas()\n",
        "preds_df.result.apply(lambda x: str(x) ).value_counts()"
      ]
    },
    {
      "cell_type": "code",
      "execution_count": 123,
      "metadata": {
        "colab": {
          "base_uri": "https://localhost:8080/",
          "height": 241
        },
        "id": "eIr0FA55W4Er",
        "outputId": "10ddc127-1647-4808-983d-9e92be7b8c8f"
      },
      "outputs": [
        {
          "output_type": "execute_result",
          "data": {
            "text/plain": [
              "result\n",
              "Orthopedic          31\n",
              "Neurology           24\n",
              "Gastroenterology    22\n",
              "Urology             20\n",
              "Name: count, dtype: int64"
            ],
            "text/html": [
              "<div>\n",
              "<style scoped>\n",
              "    .dataframe tbody tr th:only-of-type {\n",
              "        vertical-align: middle;\n",
              "    }\n",
              "\n",
              "    .dataframe tbody tr th {\n",
              "        vertical-align: top;\n",
              "    }\n",
              "\n",
              "    .dataframe thead th {\n",
              "        text-align: right;\n",
              "    }\n",
              "</style>\n",
              "<table border=\"1\" class=\"dataframe\">\n",
              "  <thead>\n",
              "    <tr style=\"text-align: right;\">\n",
              "      <th></th>\n",
              "      <th>count</th>\n",
              "    </tr>\n",
              "    <tr>\n",
              "      <th>result</th>\n",
              "      <th></th>\n",
              "    </tr>\n",
              "  </thead>\n",
              "  <tbody>\n",
              "    <tr>\n",
              "      <th>Orthopedic</th>\n",
              "      <td>31</td>\n",
              "    </tr>\n",
              "    <tr>\n",
              "      <th>Neurology</th>\n",
              "      <td>24</td>\n",
              "    </tr>\n",
              "    <tr>\n",
              "      <th>Gastroenterology</th>\n",
              "      <td>22</td>\n",
              "    </tr>\n",
              "    <tr>\n",
              "      <th>Urology</th>\n",
              "      <td>20</td>\n",
              "    </tr>\n",
              "  </tbody>\n",
              "</table>\n",
              "</div><br><label><b>dtype:</b> int64</label>"
            ]
          },
          "metadata": {},
          "execution_count": 123
        }
      ],
      "source": [
        "# We will get the highest score label as result. You can control the number of zero label results with setThreshold() in the training.\n",
        "preds_df[\"scores\"] = preds_df.metadata.apply(lambda x: {k:float(v) for k,v in x[0].items()} if len(x)>=1 else \"\")\n",
        "preds_df[\"result\"] = preds_df.scores.apply(lambda x: max(x, key=x.get) if len(x)>=1 else \"\")\n",
        "preds_df = preds_df[(preds_df[\"result\"]!=\"\")]\n",
        "preds_df[\"result\"].value_counts()"
      ]
    },
    {
      "cell_type": "code",
      "execution_count": 124,
      "metadata": {
        "colab": {
          "base_uri": "https://localhost:8080/"
        },
        "id": "m9BKG5kHW4Es",
        "outputId": "e4ff3501-2b09-4281-e130-25578fe76044"
      },
      "outputs": [
        {
          "output_type": "stream",
          "name": "stdout",
          "text": [
            "                  precision    recall  f1-score   support\n",
            "\n",
            "Gastroenterology       1.00      0.92      0.96        24\n",
            "       Neurology       0.75      0.86      0.80        21\n",
            "      Orthopedic       0.94      0.85      0.89        34\n",
            "         Urology       0.85      0.94      0.89        18\n",
            "\n",
            "        accuracy                           0.89        97\n",
            "       macro avg       0.88      0.89      0.89        97\n",
            "    weighted avg       0.90      0.89      0.89        97\n",
            "\n"
          ]
        }
      ],
      "source": [
        "print (classification_report(preds_df[\"category\"], preds_df[\"result\"]))"
      ]
    },
    {
      "cell_type": "code",
      "execution_count": 125,
      "metadata": {
        "id": "IrZVc3mhHdJg"
      },
      "outputs": [],
      "source": [
        "res = classification_report(preds_df[\"category\"], preds_df[\"result\"], output_dict=True)\n",
        "results_df.loc[\"MultiClassifierDL_bert\"] = [res[\"macro avg\"][\"f1-score\"], res[\"weighted avg\"][\"f1-score\"], res[\"accuracy\"]]"
      ]
    },
    {
      "cell_type": "markdown",
      "metadata": {
        "id": "hhNpyXkeW4Es"
      },
      "source": [
        "### Generic Classifier"
      ]
    },
    {
      "cell_type": "code",
      "execution_count": 126,
      "metadata": {
        "id": "a0pS3YdEW4Es"
      },
      "outputs": [],
      "source": [
        "from sparknlp_jsl.annotator import TFGraphBuilder\n",
        "\n",
        "graph_folder = \"gc_graph\"\n",
        "\n",
        "gc_graph_builder =medical.TFGraphBuilder()\\\n",
        "    .setModelName(\"generic_classifier\")\\\n",
        "    .setInputCols([\"features\"])\\\n",
        "    .setLabelColumn(\"category\")\\\n",
        "    .setHiddenLayers([300,200, 50])\\\n",
        "    .setHiddenAct(\"tanh\")\\\n",
        "    .setHiddenActL2(True)\\\n",
        "    .setBatchNorm(True)\\\n",
        "    .setGraphFolder(graph_folder)\\\n",
        "    .setGraphFile(\"gcf_graph_bert.pb\")"
      ]
    },
    {
      "cell_type": "code",
      "execution_count": 127,
      "metadata": {
        "id": "aBuFW-1iW4Es"
      },
      "outputs": [],
      "source": [
        "features_asm =medical.FeaturesAssembler()\\\n",
        "    .setInputCols([\"sentence_embeddings\"])\\\n",
        "    .setOutputCol(\"features\")\n",
        "\n",
        "gen_clf =medical.GenericClassifierApproach()\\\n",
        "    .setLabelColumn(\"category\")\\\n",
        "    .setInputCols(\"features\")\\\n",
        "    .setOutputCol(\"prediction\")\\\n",
        "    .setModelFile(f\"{graph_folder}/gcf_graph_bert.pb\")\\\n",
        "    .setEpochsNumber(25)\\\n",
        "    .setBatchSize(16)\\\n",
        "    .setLearningRate(0.002)\\\n",
        "    .setOutputLogsPath(log_folder)\\\n",
        "    .setDropout(0.2)\\\n",
        "    .setFixImbalance(True)\\\n",
        "    # .setValidationSplit(0.1)\n",
        "\n",
        "clf_Pipeline = nlp.Pipeline(\n",
        "    stages=[\n",
        "        features_asm,\n",
        "        gc_graph_builder,\n",
        "        gen_clf\n",
        "])\n"
      ]
    },
    {
      "cell_type": "code",
      "execution_count": 128,
      "metadata": {
        "colab": {
          "base_uri": "https://localhost:8080/"
        },
        "id": "Xpi8bsOAW4Es",
        "outputId": "28d2e919-0485-4827-dc45-1f3de1d21061"
      },
      "outputs": [
        {
          "output_type": "stream",
          "name": "stdout",
          "text": [
            "TF Graph Builder configuration:\n",
            "Model name: generic_classifier\n",
            "Graph folder: gc_graph\n",
            "Graph file name: gcf_graph_bert.pb\n",
            "Build params: {'input_dim': 768, 'output_dim': 4, 'hidden_layers': [300, 200, 50], 'hidden_act': 'tanh', 'hidden_act_l2': True, 'batch_norm': True}\n",
            "generic_classifier graph exported to gc_graph/gcf_graph_bert.pb\n"
          ]
        }
      ],
      "source": [
        "generic_model_bert = clf_Pipeline.fit(trainingData_with_embeddings)"
      ]
    },
    {
      "cell_type": "code",
      "execution_count": 129,
      "metadata": {
        "colab": {
          "base_uri": "https://localhost:8080/"
        },
        "id": "5aw-VIEhW4Es",
        "outputId": "2d3ed1a3-f05a-42c4-c243-f19f90e1663f"
      },
      "outputs": [
        {
          "output_type": "stream",
          "name": "stdout",
          "text": [
            "                  precision    recall  f1-score   support\n",
            "\n",
            "Gastroenterology       0.96      0.92      0.94        25\n",
            "       Neurology       0.70      0.95      0.81        22\n",
            "      Orthopedic       0.96      0.74      0.84        35\n",
            "         Urology       0.90      0.95      0.93        20\n",
            "\n",
            "        accuracy                           0.87       102\n",
            "       macro avg       0.88      0.89      0.88       102\n",
            "    weighted avg       0.89      0.87      0.87       102\n",
            "\n"
          ]
        }
      ],
      "source": [
        "pred_df = generic_model_bert.transform(testData_with_embeddings)\n",
        "\n",
        "preds_df = pred_df.select('category','prediction.result').toPandas()\n",
        "preds_df['result'] = preds_df.result.apply(lambda x : x[0])\n",
        "\n",
        "print (classification_report(preds_df['category'], preds_df['result']))"
      ]
    },
    {
      "cell_type": "code",
      "execution_count": 130,
      "metadata": {
        "id": "RNCgQrtcHnAf"
      },
      "outputs": [],
      "source": [
        "res = classification_report(preds_df[\"category\"], preds_df[\"result\"], output_dict=True)\n",
        "results_df.loc[\"GenericClassifier_bert\"] = [res[\"macro avg\"][\"f1-score\"], res[\"weighted avg\"][\"f1-score\"], res[\"accuracy\"]]"
      ]
    },
    {
      "cell_type": "markdown",
      "metadata": {
        "id": "5q09e4l9XPgU"
      },
      "source": [
        "### GenericLogRegClassifier"
      ]
    },
    {
      "cell_type": "code",
      "execution_count": 131,
      "metadata": {
        "id": "Q9DQJEOfXPgV"
      },
      "outputs": [],
      "source": [
        "graph_folder = \"gc_graph\"\n",
        "\n",
        "gc_logreg_graph_builder = medical.TFGraphBuilder()\\\n",
        "    .setModelName(\"logreg_classifier\")\\\n",
        "    .setInputCols([\"feature_vector\"]) \\\n",
        "    .setLabelColumn(\"category\")\\\n",
        "    .setGraphFolder(graph_folder)\\\n",
        "    .setGraphFile(\"log_reg_graph.pb\")"
      ]
    },
    {
      "cell_type": "markdown",
      "metadata": {
        "id": "DeC8XjkcXPgV"
      },
      "source": [
        "GenericLogRegClassifier needs outputs from FeaturesAssembler. The FeaturesAssembler is used to collect features from different columns or an embeddings column.\n",
        "\n",
        "The GenericLogRegClassifier takes FEATURE_VECTOR annotations as input, classifies them and outputs CATEGORY annotations."
      ]
    },
    {
      "cell_type": "code",
      "execution_count": 132,
      "metadata": {
        "id": "eEGJ7oHQXPgV"
      },
      "outputs": [],
      "source": [
        "features_asm = medical.FeaturesAssembler()\\\n",
        "    .setInputCols([\"sentence_embeddings\"])\\\n",
        "    .setOutputCol(\"feature_vector\")\n",
        "\n",
        "gen_clf = medical.GenericLogRegClassifierApproach()\\\n",
        "    .setLabelColumn(\"category\")\\\n",
        "    .setInputCols(\"feature_vector\")\\\n",
        "    .setOutputCol(\"prediction\")\\\n",
        "    .setModelFile(f\"{graph_folder}/log_reg_graph.pb\")\\\n",
        "    .setEpochsNumber(30)\\\n",
        "    .setBatchSize(64)\\\n",
        "    .setLearningRate(0.004)\\\n",
        "    .setOutputLogsPath(log_folder)\\\n",
        "    .setDropout(0.1)\\\n",
        "    .setFixImbalance(True)\\\n",
        "    # .setValidationSplit(0.1)\n",
        "\n",
        "clf_Pipeline = nlp.Pipeline(\n",
        "    stages=[\n",
        "        features_asm,\n",
        "        gc_logreg_graph_builder,\n",
        "        gen_clf\n",
        "])\n"
      ]
    },
    {
      "cell_type": "code",
      "execution_count": 133,
      "metadata": {
        "colab": {
          "base_uri": "https://localhost:8080/"
        },
        "id": "2mw3fPhtXPgV",
        "outputId": "0d8647f8-ecd7-4c42-ef38-9b3a0dac3c92"
      },
      "outputs": [
        {
          "output_type": "stream",
          "name": "stdout",
          "text": [
            "TF Graph Builder configuration:\n",
            "Model name: logreg_classifier\n",
            "Graph folder: gc_graph\n",
            "Graph file name: log_reg_graph.pb\n",
            "Build params: {'input_dim': 768, 'output_dim': 4, 'hidden_layers': [], 'output_act': 'sigmoid'}\n",
            "logreg_classifier graph exported to gc_graph/log_reg_graph.pb\n"
          ]
        }
      ],
      "source": [
        "generic_model_bert = clf_Pipeline.fit(trainingData_with_embeddings)"
      ]
    },
    {
      "cell_type": "code",
      "execution_count": 134,
      "metadata": {
        "id": "h5Zqfx_WXPgV"
      },
      "outputs": [],
      "source": [
        "pred_df = generic_model_bert.transform(testData_with_embeddings)"
      ]
    },
    {
      "cell_type": "code",
      "execution_count": 135,
      "metadata": {
        "colab": {
          "base_uri": "https://localhost:8080/"
        },
        "id": "gk6E1IuzXPgW",
        "outputId": "f814a73e-e872-4612-fe21-c29f61d0fd0b"
      },
      "outputs": [
        {
          "output_type": "stream",
          "name": "stdout",
          "text": [
            "                  precision    recall  f1-score   support\n",
            "\n",
            "Gastroenterology       0.96      0.92      0.94        25\n",
            "       Neurology       0.82      0.82      0.82        22\n",
            "      Orthopedic       0.88      0.86      0.87        35\n",
            "         Urology       0.86      0.95      0.90        20\n",
            "\n",
            "        accuracy                           0.88       102\n",
            "       macro avg       0.88      0.89      0.88       102\n",
            "    weighted avg       0.88      0.88      0.88       102\n",
            "\n"
          ]
        }
      ],
      "source": [
        "preds_df = pred_df.select('category','prediction.result').toPandas()\n",
        "preds_df['result'] = preds_df.result.apply(lambda x : x[0])\n",
        "\n",
        "print (classification_report(preds_df['category'], preds_df['result']))"
      ]
    },
    {
      "cell_type": "code",
      "execution_count": 136,
      "metadata": {
        "id": "QCBSJlcPIH2D"
      },
      "outputs": [],
      "source": [
        "res = classification_report(preds_df[\"category\"], preds_df[\"result\"], output_dict=True)\n",
        "results_df.loc[\"GenericCLogReg_bert\"] = [res[\"macro avg\"][\"f1-score\"], res[\"weighted avg\"][\"f1-score\"], res[\"accuracy\"]]"
      ]
    },
    {
      "cell_type": "markdown",
      "metadata": {
        "id": "2Ninh1PfXbR1"
      },
      "source": [
        "### GenericSVMClassifier"
      ]
    },
    {
      "cell_type": "code",
      "execution_count": 137,
      "metadata": {
        "id": "-HiP42eZXbR1"
      },
      "outputs": [],
      "source": [
        "graph_folder = \"gc_graph\"\n",
        "\n",
        "gc_svm_graph_builder = medical.TFGraphBuilder()\\\n",
        "    .setModelName(\"svm_classifier\")\\\n",
        "    .setInputCols([\"feature_vector\"]) \\\n",
        "    .setLabelColumn(\"category\")\\\n",
        "    .setGraphFolder(graph_folder)\\\n",
        "    .setGraphFile(\"svm_graph.pb\")"
      ]
    },
    {
      "cell_type": "markdown",
      "metadata": {
        "id": "PgSWTx2_XbR1"
      },
      "source": [
        "GenericSVMClassifier needs outputs from FeaturesAssembler. The FeaturesAssembler is used to collect features from different columns or an embeddings column.\n",
        "\n",
        "The GenericSVMClassifier takes FEATURE_VECTOR annotations as input, classifies them and outputs CATEGORY annotations."
      ]
    },
    {
      "cell_type": "code",
      "execution_count": 138,
      "metadata": {
        "id": "IfKccrLdXbR1"
      },
      "outputs": [],
      "source": [
        "features_asm = medical.FeaturesAssembler()\\\n",
        "    .setInputCols([\"sentence_embeddings\"])\\\n",
        "    .setOutputCol(\"feature_vector\")\n",
        "\n",
        "gen_clf = medical.GenericSVMClassifierApproach()\\\n",
        "    .setLabelColumn(\"category\")\\\n",
        "    .setInputCols(\"feature_vector\")\\\n",
        "    .setOutputCol(\"prediction\")\\\n",
        "    .setModelFile(f\"{graph_folder}/svm_graph.pb\")\\\n",
        "    .setEpochsNumber(30)\\\n",
        "    .setBatchSize(64)\\\n",
        "    .setLearningRate(0.004)\\\n",
        "    .setOutputLogsPath(log_folder)\\\n",
        "    .setDropout(0.1)\\\n",
        "    .setFixImbalance(True)\\\n",
        "    # .setValidationSplit(0.1)\n",
        "\n",
        "clf_Pipeline = nlp.Pipeline(\n",
        "    stages=[\n",
        "        features_asm,\n",
        "        gc_svm_graph_builder,\n",
        "        gen_clf\n",
        "])\n"
      ]
    },
    {
      "cell_type": "code",
      "execution_count": 139,
      "metadata": {
        "colab": {
          "base_uri": "https://localhost:8080/"
        },
        "id": "3PSzGUAKXbR2",
        "outputId": "fc51eb9e-a38b-42fc-fb02-8b8c2d615e1a"
      },
      "outputs": [
        {
          "output_type": "stream",
          "name": "stdout",
          "text": [
            "TF Graph Builder configuration:\n",
            "Model name: svm_classifier\n",
            "Graph folder: gc_graph\n",
            "Graph file name: svm_graph.pb\n",
            "Build params: {'input_dim': 768, 'output_dim': 4, 'hidden_layers': [], 'output_act': 'sigmoid', 'loss_func': 'hinge'}\n",
            "svm_classifier graph exported to gc_graph/svm_graph.pb\n"
          ]
        }
      ],
      "source": [
        "generic_model_bert = clf_Pipeline.fit(trainingData_with_embeddings)"
      ]
    },
    {
      "cell_type": "code",
      "execution_count": 140,
      "metadata": {
        "id": "Guibj0k8XbR2"
      },
      "outputs": [],
      "source": [
        "pred_df = generic_model_bert.transform(testData_with_embeddings)"
      ]
    },
    {
      "cell_type": "code",
      "execution_count": 141,
      "metadata": {
        "colab": {
          "base_uri": "https://localhost:8080/"
        },
        "id": "ElyprrUMXbR2",
        "outputId": "80ca119b-c3ef-4345-85c1-72d2e8450baa"
      },
      "outputs": [
        {
          "output_type": "stream",
          "name": "stdout",
          "text": [
            "                  precision    recall  f1-score   support\n",
            "\n",
            "Gastroenterology       0.92      0.92      0.92        25\n",
            "       Neurology       0.75      0.95      0.84        22\n",
            "      Orthopedic       0.91      0.86      0.88        35\n",
            "         Urology       0.88      0.70      0.78        20\n",
            "\n",
            "        accuracy                           0.86       102\n",
            "       macro avg       0.86      0.86      0.86       102\n",
            "    weighted avg       0.87      0.86      0.86       102\n",
            "\n"
          ]
        }
      ],
      "source": [
        "preds_df = pred_df.select('category','prediction.result').toPandas()\n",
        "preds_df['result'] = preds_df.result.apply(lambda x : x[0])\n",
        "\n",
        "print (classification_report(preds_df['category'], preds_df['result']))"
      ]
    },
    {
      "cell_type": "code",
      "execution_count": 142,
      "metadata": {
        "id": "W6KWgWJbITVN"
      },
      "outputs": [],
      "source": [
        "res = classification_report(preds_df[\"category\"], preds_df[\"result\"], output_dict=True)\n",
        "results_df.loc[\"GenericCSVM_bert\"] = [res[\"macro avg\"][\"f1-score\"], res[\"weighted avg\"][\"f1-score\"], res[\"accuracy\"]]"
      ]
    },
    {
      "cell_type": "markdown",
      "metadata": {
        "id": "hJCE-sWM9oaK"
      },
      "source": [
        "## DocumentLogRegClassifier"
      ]
    },
    {
      "cell_type": "code",
      "execution_count": 143,
      "metadata": {
        "id": "FUHSa7b79oaK"
      },
      "outputs": [],
      "source": [
        "document_assembler = nlp.DocumentAssembler()\\\n",
        "    .setInputCol(\"text\")\\\n",
        "    .setOutputCol(\"document\")\n",
        "\n",
        "tokenizer = nlp.Tokenizer() \\\n",
        "    .setInputCols([\"document\"]) \\\n",
        "    .setOutputCol(\"token\")\n",
        "\n",
        "logreg = medical.DocumentLogRegClassifierApproach()\\\n",
        "    .setInputCols(\"token\")\\\n",
        "    .setLabelCol(\"category\")\\\n",
        "    .setOutputCol(\"prediction\")\\\n",
        "    .setMaxIter(10)\\\n",
        "    .setTol(1e-6)\n",
        "\n",
        "clf_Pipeline = nlp.Pipeline(stages=[document_assembler,\n",
        "                                tokenizer,\n",
        "                                logreg])\n",
        "\n",
        "doclogreg_model = clf_Pipeline.fit(trainingData)"
      ]
    },
    {
      "cell_type": "code",
      "execution_count": 144,
      "metadata": {
        "colab": {
          "base_uri": "https://localhost:8080/"
        },
        "id": "PbOx1a7X9oaK",
        "outputId": "28006e83-be46-4cd4-e9ed-d44d70817d9a"
      },
      "outputs": [
        {
          "output_type": "stream",
          "name": "stdout",
          "text": [
            "                  precision    recall  f1-score   support\n",
            "\n",
            "Gastroenterology       0.92      0.88      0.90        25\n",
            "       Neurology       0.80      0.73      0.76        22\n",
            "      Orthopedic       0.91      0.89      0.90        35\n",
            "         Urology       0.79      0.95      0.86        20\n",
            "\n",
            "        accuracy                           0.86       102\n",
            "       macro avg       0.86      0.86      0.86       102\n",
            "    weighted avg       0.87      0.86      0.86       102\n",
            "\n"
          ]
        }
      ],
      "source": [
        "pred_df = doclogreg_model.transform(testData)\n",
        "\n",
        "preds_df = pred_df.select('category','prediction.result').toPandas()\n",
        "preds_df['result'] = preds_df.result.apply(lambda x : x[0])\n",
        "\n",
        "print (classification_report(preds_df['category'], preds_df['result']))"
      ]
    },
    {
      "cell_type": "code",
      "execution_count": 145,
      "metadata": {
        "id": "LdY4d324IamR"
      },
      "outputs": [],
      "source": [
        "res = classification_report(preds_df[\"category\"], preds_df[\"result\"], output_dict=True)\n",
        "results_df.loc[\"DocumentLogRegClassifier\"] = [res[\"macro avg\"][\"f1-score\"], res[\"weighted avg\"][\"f1-score\"], res[\"accuracy\"]]"
      ]
    },
    {
      "cell_type": "markdown",
      "metadata": {
        "id": "RWOdB2ajIjs6"
      },
      "source": [
        "## Comparision of All Models' Result in Mtsamples Dataset"
      ]
    },
    {
      "cell_type": "markdown",
      "metadata": {
        "id": "K4Uti1kLIjs7"
      },
      "source": [
        "Here is the all results of classifier models. Macro f1, weighted f1 and accuracy scores are presented."
      ]
    },
    {
      "cell_type": "code",
      "execution_count": 146,
      "metadata": {
        "colab": {
          "base_uri": "https://localhost:8080/",
          "height": 552
        },
        "id": "1FYug56LIjs7",
        "outputId": "18e0012d-b573-4ce8-bf38-85e555c1bde2"
      },
      "outputs": [
        {
          "output_type": "execute_result",
          "data": {
            "text/plain": [
              "                          macro-f1-score  weighted-f1-score  accuracy\n",
              "ClassifierDL_100d               0.329027           0.367573  0.519608\n",
              "MultiClassifierDL_100d          0.884165           0.885508  0.886598\n",
              "GenericClassifier_100d          0.886920           0.892282  0.892157\n",
              "GenericLogReg_100d              0.848103           0.852503  0.852941\n",
              "GenericSVM_100d                 0.875801           0.884105  0.882353\n",
              "ClassifierDL_200d               0.127737           0.175326  0.343137\n",
              "MultiClassifierDL_200d          0.906453           0.907969  0.908163\n",
              "GenericClassifier_200d          0.829874           0.840400  0.843137\n",
              "GenericLogReg_200d              0.821163           0.830662  0.833333\n",
              "GenericSVM_200d                 0.855409           0.861605  0.862745\n",
              "ClassifierDL_bert               0.884700           0.882335  0.882353\n",
              "MultiClassifierDL_bert          0.885892           0.888662  0.886598\n",
              "GenericClassifier_bert          0.878002           0.873824  0.872549\n",
              "GenericCLogReg_bert             0.882821           0.882347  0.882353\n",
              "GenericCSVM_bert                0.855033           0.861940  0.862745\n",
              "DocumentLogRegClassifier        0.855513           0.862087  0.862745"
            ],
            "text/html": [
              "\n",
              "  <div id=\"df-6bf2016f-c353-489a-9e78-cf3253a4ce69\" class=\"colab-df-container\">\n",
              "    <div>\n",
              "<style scoped>\n",
              "    .dataframe tbody tr th:only-of-type {\n",
              "        vertical-align: middle;\n",
              "    }\n",
              "\n",
              "    .dataframe tbody tr th {\n",
              "        vertical-align: top;\n",
              "    }\n",
              "\n",
              "    .dataframe thead th {\n",
              "        text-align: right;\n",
              "    }\n",
              "</style>\n",
              "<table border=\"1\" class=\"dataframe\">\n",
              "  <thead>\n",
              "    <tr style=\"text-align: right;\">\n",
              "      <th></th>\n",
              "      <th>macro-f1-score</th>\n",
              "      <th>weighted-f1-score</th>\n",
              "      <th>accuracy</th>\n",
              "    </tr>\n",
              "  </thead>\n",
              "  <tbody>\n",
              "    <tr>\n",
              "      <th>ClassifierDL_100d</th>\n",
              "      <td>0.329027</td>\n",
              "      <td>0.367573</td>\n",
              "      <td>0.519608</td>\n",
              "    </tr>\n",
              "    <tr>\n",
              "      <th>MultiClassifierDL_100d</th>\n",
              "      <td>0.884165</td>\n",
              "      <td>0.885508</td>\n",
              "      <td>0.886598</td>\n",
              "    </tr>\n",
              "    <tr>\n",
              "      <th>GenericClassifier_100d</th>\n",
              "      <td>0.886920</td>\n",
              "      <td>0.892282</td>\n",
              "      <td>0.892157</td>\n",
              "    </tr>\n",
              "    <tr>\n",
              "      <th>GenericLogReg_100d</th>\n",
              "      <td>0.848103</td>\n",
              "      <td>0.852503</td>\n",
              "      <td>0.852941</td>\n",
              "    </tr>\n",
              "    <tr>\n",
              "      <th>GenericSVM_100d</th>\n",
              "      <td>0.875801</td>\n",
              "      <td>0.884105</td>\n",
              "      <td>0.882353</td>\n",
              "    </tr>\n",
              "    <tr>\n",
              "      <th>ClassifierDL_200d</th>\n",
              "      <td>0.127737</td>\n",
              "      <td>0.175326</td>\n",
              "      <td>0.343137</td>\n",
              "    </tr>\n",
              "    <tr>\n",
              "      <th>MultiClassifierDL_200d</th>\n",
              "      <td>0.906453</td>\n",
              "      <td>0.907969</td>\n",
              "      <td>0.908163</td>\n",
              "    </tr>\n",
              "    <tr>\n",
              "      <th>GenericClassifier_200d</th>\n",
              "      <td>0.829874</td>\n",
              "      <td>0.840400</td>\n",
              "      <td>0.843137</td>\n",
              "    </tr>\n",
              "    <tr>\n",
              "      <th>GenericLogReg_200d</th>\n",
              "      <td>0.821163</td>\n",
              "      <td>0.830662</td>\n",
              "      <td>0.833333</td>\n",
              "    </tr>\n",
              "    <tr>\n",
              "      <th>GenericSVM_200d</th>\n",
              "      <td>0.855409</td>\n",
              "      <td>0.861605</td>\n",
              "      <td>0.862745</td>\n",
              "    </tr>\n",
              "    <tr>\n",
              "      <th>ClassifierDL_bert</th>\n",
              "      <td>0.884700</td>\n",
              "      <td>0.882335</td>\n",
              "      <td>0.882353</td>\n",
              "    </tr>\n",
              "    <tr>\n",
              "      <th>MultiClassifierDL_bert</th>\n",
              "      <td>0.885892</td>\n",
              "      <td>0.888662</td>\n",
              "      <td>0.886598</td>\n",
              "    </tr>\n",
              "    <tr>\n",
              "      <th>GenericClassifier_bert</th>\n",
              "      <td>0.878002</td>\n",
              "      <td>0.873824</td>\n",
              "      <td>0.872549</td>\n",
              "    </tr>\n",
              "    <tr>\n",
              "      <th>GenericCLogReg_bert</th>\n",
              "      <td>0.882821</td>\n",
              "      <td>0.882347</td>\n",
              "      <td>0.882353</td>\n",
              "    </tr>\n",
              "    <tr>\n",
              "      <th>GenericCSVM_bert</th>\n",
              "      <td>0.855033</td>\n",
              "      <td>0.861940</td>\n",
              "      <td>0.862745</td>\n",
              "    </tr>\n",
              "    <tr>\n",
              "      <th>DocumentLogRegClassifier</th>\n",
              "      <td>0.855513</td>\n",
              "      <td>0.862087</td>\n",
              "      <td>0.862745</td>\n",
              "    </tr>\n",
              "  </tbody>\n",
              "</table>\n",
              "</div>\n",
              "    <div class=\"colab-df-buttons\">\n",
              "\n",
              "  <div class=\"colab-df-container\">\n",
              "    <button class=\"colab-df-convert\" onclick=\"convertToInteractive('df-6bf2016f-c353-489a-9e78-cf3253a4ce69')\"\n",
              "            title=\"Convert this dataframe to an interactive table.\"\n",
              "            style=\"display:none;\">\n",
              "\n",
              "  <svg xmlns=\"http://www.w3.org/2000/svg\" height=\"24px\" viewBox=\"0 -960 960 960\">\n",
              "    <path d=\"M120-120v-720h720v720H120Zm60-500h600v-160H180v160Zm220 220h160v-160H400v160Zm0 220h160v-160H400v160ZM180-400h160v-160H180v160Zm440 0h160v-160H620v160ZM180-180h160v-160H180v160Zm440 0h160v-160H620v160Z\"/>\n",
              "  </svg>\n",
              "    </button>\n",
              "\n",
              "  <style>\n",
              "    .colab-df-container {\n",
              "      display:flex;\n",
              "      gap: 12px;\n",
              "    }\n",
              "\n",
              "    .colab-df-convert {\n",
              "      background-color: #E8F0FE;\n",
              "      border: none;\n",
              "      border-radius: 50%;\n",
              "      cursor: pointer;\n",
              "      display: none;\n",
              "      fill: #1967D2;\n",
              "      height: 32px;\n",
              "      padding: 0 0 0 0;\n",
              "      width: 32px;\n",
              "    }\n",
              "\n",
              "    .colab-df-convert:hover {\n",
              "      background-color: #E2EBFA;\n",
              "      box-shadow: 0px 1px 2px rgba(60, 64, 67, 0.3), 0px 1px 3px 1px rgba(60, 64, 67, 0.15);\n",
              "      fill: #174EA6;\n",
              "    }\n",
              "\n",
              "    .colab-df-buttons div {\n",
              "      margin-bottom: 4px;\n",
              "    }\n",
              "\n",
              "    [theme=dark] .colab-df-convert {\n",
              "      background-color: #3B4455;\n",
              "      fill: #D2E3FC;\n",
              "    }\n",
              "\n",
              "    [theme=dark] .colab-df-convert:hover {\n",
              "      background-color: #434B5C;\n",
              "      box-shadow: 0px 1px 3px 1px rgba(0, 0, 0, 0.15);\n",
              "      filter: drop-shadow(0px 1px 2px rgba(0, 0, 0, 0.3));\n",
              "      fill: #FFFFFF;\n",
              "    }\n",
              "  </style>\n",
              "\n",
              "    <script>\n",
              "      const buttonEl =\n",
              "        document.querySelector('#df-6bf2016f-c353-489a-9e78-cf3253a4ce69 button.colab-df-convert');\n",
              "      buttonEl.style.display =\n",
              "        google.colab.kernel.accessAllowed ? 'block' : 'none';\n",
              "\n",
              "      async function convertToInteractive(key) {\n",
              "        const element = document.querySelector('#df-6bf2016f-c353-489a-9e78-cf3253a4ce69');\n",
              "        const dataTable =\n",
              "          await google.colab.kernel.invokeFunction('convertToInteractive',\n",
              "                                                    [key], {});\n",
              "        if (!dataTable) return;\n",
              "\n",
              "        const docLinkHtml = 'Like what you see? Visit the ' +\n",
              "          '<a target=\"_blank\" href=https://colab.research.google.com/notebooks/data_table.ipynb>data table notebook</a>'\n",
              "          + ' to learn more about interactive tables.';\n",
              "        element.innerHTML = '';\n",
              "        dataTable['output_type'] = 'display_data';\n",
              "        await google.colab.output.renderOutput(dataTable, element);\n",
              "        const docLink = document.createElement('div');\n",
              "        docLink.innerHTML = docLinkHtml;\n",
              "        element.appendChild(docLink);\n",
              "      }\n",
              "    </script>\n",
              "  </div>\n",
              "\n",
              "\n",
              "    <div id=\"df-bb30bd08-cabb-45ef-af85-fa8590c9908e\">\n",
              "      <button class=\"colab-df-quickchart\" onclick=\"quickchart('df-bb30bd08-cabb-45ef-af85-fa8590c9908e')\"\n",
              "                title=\"Suggest charts\"\n",
              "                style=\"display:none;\">\n",
              "\n",
              "<svg xmlns=\"http://www.w3.org/2000/svg\" height=\"24px\"viewBox=\"0 0 24 24\"\n",
              "     width=\"24px\">\n",
              "    <g>\n",
              "        <path d=\"M19 3H5c-1.1 0-2 .9-2 2v14c0 1.1.9 2 2 2h14c1.1 0 2-.9 2-2V5c0-1.1-.9-2-2-2zM9 17H7v-7h2v7zm4 0h-2V7h2v10zm4 0h-2v-4h2v4z\"/>\n",
              "    </g>\n",
              "</svg>\n",
              "      </button>\n",
              "\n",
              "<style>\n",
              "  .colab-df-quickchart {\n",
              "      --bg-color: #E8F0FE;\n",
              "      --fill-color: #1967D2;\n",
              "      --hover-bg-color: #E2EBFA;\n",
              "      --hover-fill-color: #174EA6;\n",
              "      --disabled-fill-color: #AAA;\n",
              "      --disabled-bg-color: #DDD;\n",
              "  }\n",
              "\n",
              "  [theme=dark] .colab-df-quickchart {\n",
              "      --bg-color: #3B4455;\n",
              "      --fill-color: #D2E3FC;\n",
              "      --hover-bg-color: #434B5C;\n",
              "      --hover-fill-color: #FFFFFF;\n",
              "      --disabled-bg-color: #3B4455;\n",
              "      --disabled-fill-color: #666;\n",
              "  }\n",
              "\n",
              "  .colab-df-quickchart {\n",
              "    background-color: var(--bg-color);\n",
              "    border: none;\n",
              "    border-radius: 50%;\n",
              "    cursor: pointer;\n",
              "    display: none;\n",
              "    fill: var(--fill-color);\n",
              "    height: 32px;\n",
              "    padding: 0;\n",
              "    width: 32px;\n",
              "  }\n",
              "\n",
              "  .colab-df-quickchart:hover {\n",
              "    background-color: var(--hover-bg-color);\n",
              "    box-shadow: 0 1px 2px rgba(60, 64, 67, 0.3), 0 1px 3px 1px rgba(60, 64, 67, 0.15);\n",
              "    fill: var(--button-hover-fill-color);\n",
              "  }\n",
              "\n",
              "  .colab-df-quickchart-complete:disabled,\n",
              "  .colab-df-quickchart-complete:disabled:hover {\n",
              "    background-color: var(--disabled-bg-color);\n",
              "    fill: var(--disabled-fill-color);\n",
              "    box-shadow: none;\n",
              "  }\n",
              "\n",
              "  .colab-df-spinner {\n",
              "    border: 2px solid var(--fill-color);\n",
              "    border-color: transparent;\n",
              "    border-bottom-color: var(--fill-color);\n",
              "    animation:\n",
              "      spin 1s steps(1) infinite;\n",
              "  }\n",
              "\n",
              "  @keyframes spin {\n",
              "    0% {\n",
              "      border-color: transparent;\n",
              "      border-bottom-color: var(--fill-color);\n",
              "      border-left-color: var(--fill-color);\n",
              "    }\n",
              "    20% {\n",
              "      border-color: transparent;\n",
              "      border-left-color: var(--fill-color);\n",
              "      border-top-color: var(--fill-color);\n",
              "    }\n",
              "    30% {\n",
              "      border-color: transparent;\n",
              "      border-left-color: var(--fill-color);\n",
              "      border-top-color: var(--fill-color);\n",
              "      border-right-color: var(--fill-color);\n",
              "    }\n",
              "    40% {\n",
              "      border-color: transparent;\n",
              "      border-right-color: var(--fill-color);\n",
              "      border-top-color: var(--fill-color);\n",
              "    }\n",
              "    60% {\n",
              "      border-color: transparent;\n",
              "      border-right-color: var(--fill-color);\n",
              "    }\n",
              "    80% {\n",
              "      border-color: transparent;\n",
              "      border-right-color: var(--fill-color);\n",
              "      border-bottom-color: var(--fill-color);\n",
              "    }\n",
              "    90% {\n",
              "      border-color: transparent;\n",
              "      border-bottom-color: var(--fill-color);\n",
              "    }\n",
              "  }\n",
              "</style>\n",
              "\n",
              "      <script>\n",
              "        async function quickchart(key) {\n",
              "          const quickchartButtonEl =\n",
              "            document.querySelector('#' + key + ' button');\n",
              "          quickchartButtonEl.disabled = true;  // To prevent multiple clicks.\n",
              "          quickchartButtonEl.classList.add('colab-df-spinner');\n",
              "          try {\n",
              "            const charts = await google.colab.kernel.invokeFunction(\n",
              "                'suggestCharts', [key], {});\n",
              "          } catch (error) {\n",
              "            console.error('Error during call to suggestCharts:', error);\n",
              "          }\n",
              "          quickchartButtonEl.classList.remove('colab-df-spinner');\n",
              "          quickchartButtonEl.classList.add('colab-df-quickchart-complete');\n",
              "        }\n",
              "        (() => {\n",
              "          let quickchartButtonEl =\n",
              "            document.querySelector('#df-bb30bd08-cabb-45ef-af85-fa8590c9908e button');\n",
              "          quickchartButtonEl.style.display =\n",
              "            google.colab.kernel.accessAllowed ? 'block' : 'none';\n",
              "        })();\n",
              "      </script>\n",
              "    </div>\n",
              "\n",
              "  <div id=\"id_35028d8b-40a1-42c6-95c7-3a9fe2d269d3\">\n",
              "    <style>\n",
              "      .colab-df-generate {\n",
              "        background-color: #E8F0FE;\n",
              "        border: none;\n",
              "        border-radius: 50%;\n",
              "        cursor: pointer;\n",
              "        display: none;\n",
              "        fill: #1967D2;\n",
              "        height: 32px;\n",
              "        padding: 0 0 0 0;\n",
              "        width: 32px;\n",
              "      }\n",
              "\n",
              "      .colab-df-generate:hover {\n",
              "        background-color: #E2EBFA;\n",
              "        box-shadow: 0px 1px 2px rgba(60, 64, 67, 0.3), 0px 1px 3px 1px rgba(60, 64, 67, 0.15);\n",
              "        fill: #174EA6;\n",
              "      }\n",
              "\n",
              "      [theme=dark] .colab-df-generate {\n",
              "        background-color: #3B4455;\n",
              "        fill: #D2E3FC;\n",
              "      }\n",
              "\n",
              "      [theme=dark] .colab-df-generate:hover {\n",
              "        background-color: #434B5C;\n",
              "        box-shadow: 0px 1px 3px 1px rgba(0, 0, 0, 0.15);\n",
              "        filter: drop-shadow(0px 1px 2px rgba(0, 0, 0, 0.3));\n",
              "        fill: #FFFFFF;\n",
              "      }\n",
              "    </style>\n",
              "    <button class=\"colab-df-generate\" onclick=\"generateWithVariable('results_df')\"\n",
              "            title=\"Generate code using this dataframe.\"\n",
              "            style=\"display:none;\">\n",
              "\n",
              "  <svg xmlns=\"http://www.w3.org/2000/svg\" height=\"24px\"viewBox=\"0 0 24 24\"\n",
              "       width=\"24px\">\n",
              "    <path d=\"M7,19H8.4L18.45,9,17,7.55,7,17.6ZM5,21V16.75L18.45,3.32a2,2,0,0,1,2.83,0l1.4,1.43a1.91,1.91,0,0,1,.58,1.4,1.91,1.91,0,0,1-.58,1.4L9.25,21ZM18.45,9,17,7.55Zm-12,3A5.31,5.31,0,0,0,4.9,8.1,5.31,5.31,0,0,0,1,6.5,5.31,5.31,0,0,0,4.9,4.9,5.31,5.31,0,0,0,6.5,1,5.31,5.31,0,0,0,8.1,4.9,5.31,5.31,0,0,0,12,6.5,5.46,5.46,0,0,0,6.5,12Z\"/>\n",
              "  </svg>\n",
              "    </button>\n",
              "    <script>\n",
              "      (() => {\n",
              "      const buttonEl =\n",
              "        document.querySelector('#id_35028d8b-40a1-42c6-95c7-3a9fe2d269d3 button.colab-df-generate');\n",
              "      buttonEl.style.display =\n",
              "        google.colab.kernel.accessAllowed ? 'block' : 'none';\n",
              "\n",
              "      buttonEl.onclick = () => {\n",
              "        google.colab.notebook.generateWithVariable('results_df');\n",
              "      }\n",
              "      })();\n",
              "    </script>\n",
              "  </div>\n",
              "\n",
              "    </div>\n",
              "  </div>\n"
            ],
            "application/vnd.google.colaboratory.intrinsic+json": {
              "type": "dataframe",
              "variable_name": "results_df",
              "summary": "{\n  \"name\": \"results_df\",\n  \"rows\": 16,\n  \"fields\": [\n    {\n      \"column\": \"macro-f1-score\",\n      \"properties\": {\n        \"dtype\": \"number\",\n        \"std\": 0.2226299600294972,\n        \"min\": 0.12773722627737227,\n        \"max\": 0.9064533786015871,\n        \"num_unique_values\": 16,\n        \"samples\": [\n          0.32902735562310026,\n          0.8841645400860447,\n          0.12773722627737227\n        ],\n        \"semantic_type\": \"\",\n        \"description\": \"\"\n      }\n    },\n    {\n      \"column\": \"weighted-f1-score\",\n      \"properties\": {\n        \"dtype\": \"number\",\n        \"std\": 0.20901273388998737,\n        \"min\": 0.17532560469443254,\n        \"max\": 0.9079686138488593,\n        \"num_unique_values\": 16,\n        \"samples\": [\n          0.3675725609392693,\n          0.8855082637304,\n          0.17532560469443254\n        ],\n        \"semantic_type\": \"\",\n        \"description\": \"\"\n      }\n    },\n    {\n      \"column\": \"accuracy\",\n      \"properties\": {\n        \"dtype\": \"number\",\n        \"std\": 0.15514577055627712,\n        \"min\": 0.3431372549019608,\n        \"max\": 0.9081632653061225,\n        \"num_unique_values\": 11,\n        \"samples\": [\n          0.3431372549019608,\n          0.5196078431372549,\n          0.8627450980392157\n        ],\n        \"semantic_type\": \"\",\n        \"description\": \"\"\n      }\n    }\n  ]\n}"
            }
          },
          "metadata": {},
          "execution_count": 146
        }
      ],
      "source": [
        "results_df"
      ]
    }
  ],
  "metadata": {
    "colab": {
      "machine_shape": "hm",
      "provenance": [],
      "toc_visible": true,
      "gpuType": "A100"
    },
    "kernelspec": {
      "display_name": "Python 3",
      "name": "python3"
    },
    "language_info": {
      "name": "python",
      "version": "3.10.4 (tags/v3.10.4:9d38120, Mar 23 2022, 23:13:41) [MSC v.1929 64 bit (AMD64)]"
    },
    "vscode": {
      "interpreter": {
        "hash": "8f527f757492231011ff0f96452bff72dba1ece595fe9390d852b709bf8922e1"
      }
    },
    "accelerator": "GPU"
  },
  "nbformat": 4,
  "nbformat_minor": 0
}
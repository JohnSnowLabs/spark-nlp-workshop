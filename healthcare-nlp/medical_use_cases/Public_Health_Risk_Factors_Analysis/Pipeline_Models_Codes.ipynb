{
 "cells": [
  {
   "cell_type": "markdown",
   "id": "322bc1ec-b773-4978-b273-e7d6b19c9680",
   "metadata": {},
   "source": [
    "# Automated Health Information Extraction and Co-occurrence Analysis with John Snow Labs Models"
   ]
  },
  {
   "cell_type": "markdown",
   "id": "e4b4e16e-6f77-4e8c-bab5-6dae09412e5f",
   "metadata": {},
   "source": [
    "🔎 In this analytical endeavor, we utilize Natural Language Processing (NLP) to unlock vital insights from health-related discussions across various digital platforms. The primary goal is to pinpoint patterns that could suggest the presence of co-occurring health risks, contributing substantially to preventive health strategies.\n",
    "\n",
    "🔎 By deploying John Snow Labs' NLP models, we extract essential health information from these discussions. This not only includes diseases and conditions but also risk factors, lifestyle habits such as alcohol consumption, and even complex aspects like family health history and the status of alcohol, tobacco, and substance behaviors.\n",
    "\n",
    "🔎 Our exploration progresses into a risk analysis phase, wherein we concentrate on identifying patterns of health conditions that frequently appear together. For instance, a common co-occurrence of \"smoking\" and \"lung cancer\" in discussions could underscore critical health risks often linked together.\n",
    "\n",
    "🔎 The insights generated from this work aim to bolster our understanding of digital health discussions and help predict potential health risks."
   ]
  },
  {
   "cell_type": "code",
   "execution_count": 1,
   "id": "6559bcac-9a69-4a0f-bdf6-ba81c3222377",
   "metadata": {
    "execution": {
     "iopub.execute_input": "2023-08-13T15:36:50.276631Z",
     "iopub.status.busy": "2023-08-13T15:36:50.276272Z",
     "iopub.status.idle": "2023-08-13T15:36:50.284678Z",
     "shell.execute_reply": "2023-08-13T15:36:50.284203Z",
     "shell.execute_reply.started": "2023-08-13T15:36:50.276610Z"
    },
    "tags": []
   },
   "outputs": [],
   "source": [
    "import json\n",
    "import os\n",
    "license_key = \"5.0.0.spark_nlp_for_healthcare.json\"\n",
    "with open(license_key) as f:\n",
    "    license_keys = json.load(f)\n",
    "    \n",
    "locals().update(license_keys)\n",
    "\n",
    "# Adding license key-value pairs to environment variables\n",
    "os.environ.update(license_keys)"
   ]
  },
  {
   "cell_type": "code",
   "execution_count": 2,
   "id": "ab889237-d38f-491d-a933-ad5163f180ea",
   "metadata": {
    "execution": {
     "iopub.execute_input": "2023-08-13T15:36:52.008507Z",
     "iopub.status.busy": "2023-08-13T15:36:52.008045Z",
     "iopub.status.idle": "2023-08-13T15:36:52.011179Z",
     "shell.execute_reply": "2023-08-13T15:36:52.010631Z",
     "shell.execute_reply.started": "2023-08-13T15:36:52.008488Z"
    },
    "tags": []
   },
   "outputs": [],
   "source": [
    "# # Installing pyspark and spark-nlp\n",
    "#%pip install --upgrade -q pyspark==3.1.2 spark-nlp==$PUBLIC_VERSION\n",
    "\n",
    "# # Installing Spark NLP Healthcare\n",
    "#%pip install --upgrade -q spark-nlp-jsl==$JSL_VERSION  --extra-index-url https://pypi.johnsnowlabs.com/$SECRET\n",
    "\n",
    "# # Installing Spark NLP Display Library for visualization\n",
    "#%pip install -q spark-nlp-display"
   ]
  },
  {
   "cell_type": "code",
   "execution_count": 3,
   "id": "93e0f865-ac31-47b7-858f-63b7c2aa692f",
   "metadata": {
    "collapsed": true,
    "execution": {
     "iopub.execute_input": "2023-08-13T15:36:52.435233Z",
     "iopub.status.busy": "2023-08-13T15:36:52.434781Z",
     "iopub.status.idle": "2023-08-13T15:37:16.369990Z",
     "shell.execute_reply": "2023-08-13T15:37:16.369270Z",
     "shell.execute_reply.started": "2023-08-13T15:36:52.435213Z"
    },
    "jupyter": {
     "outputs_hidden": true
    },
    "tags": []
   },
   "outputs": [
    {
     "name": "stderr",
     "output_type": "stream",
     "text": [
      "WARNING: An illegal reflective access operation has occurred\n",
      "WARNING: Illegal reflective access by org.apache.spark.unsafe.Platform (file:/home/jovyan/work/shared/venvs/cabir-ds/lib/python3.10/site-packages/pyspark/jars/spark-unsafe_2.12-3.1.2.jar) to constructor java.nio.DirectByteBuffer(long,int)\n",
      "WARNING: Please consider reporting this to the maintainers of org.apache.spark.unsafe.Platform\n",
      "WARNING: Use --illegal-access=warn to enable warnings of further illegal reflective access operations\n",
      "WARNING: All illegal access operations will be denied in a future release\n",
      "Ivy Default Cache set to: /home/jovyan/.ivy2/cache\n",
      "The jars for the packages stored in: /home/jovyan/.ivy2/jars\n",
      "com.johnsnowlabs.nlp#spark-nlp_2.12 added as a dependency\n",
      ":: resolving dependencies :: org.apache.spark#spark-submit-parent-040d7a02-380d-40b9-982c-a0ec9079cc13;1.0\n",
      "\tconfs: [default]\n"
     ]
    },
    {
     "name": "stdout",
     "output_type": "stream",
     "text": [
      ":: loading settings :: url = jar:file:/home/jovyan/work/shared/venvs/cabir-ds/lib/python3.10/site-packages/pyspark/jars/ivy-2.4.0.jar!/org/apache/ivy/core/settings/ivysettings.xml\n"
     ]
    },
    {
     "name": "stderr",
     "output_type": "stream",
     "text": [
      "\tfound com.johnsnowlabs.nlp#spark-nlp_2.12;5.0.0 in central\n",
      "\tfound com.typesafe#config;1.4.2 in central\n",
      "\tfound org.rocksdb#rocksdbjni;6.29.5 in central\n",
      "\tfound com.amazonaws#aws-java-sdk-bundle;1.11.828 in central\n",
      "\tfound com.github.universal-automata#liblevenshtein;3.0.0 in central\n",
      "\tfound com.google.protobuf#protobuf-java-util;3.0.0-beta-3 in central\n",
      "\tfound com.google.protobuf#protobuf-java;3.0.0-beta-3 in central\n",
      "\tfound com.google.code.gson#gson;2.3 in central\n",
      "\tfound it.unimi.dsi#fastutil;7.0.12 in central\n",
      "\tfound org.projectlombok#lombok;1.16.8 in central\n",
      "\tfound com.google.cloud#google-cloud-storage;2.20.1 in central\n",
      "\tfound com.google.guava#guava;31.1-jre in central\n",
      "\tfound com.google.guava#failureaccess;1.0.1 in central\n",
      "\tfound com.google.guava#listenablefuture;9999.0-empty-to-avoid-conflict-with-guava in central\n",
      "\tfound com.google.errorprone#error_prone_annotations;2.18.0 in central\n",
      "\tfound com.google.j2objc#j2objc-annotations;1.3 in central\n",
      "\tfound com.google.http-client#google-http-client;1.43.0 in central\n",
      "\tfound io.opencensus#opencensus-contrib-http-util;0.31.1 in central\n",
      "\tfound com.google.http-client#google-http-client-jackson2;1.43.0 in central\n",
      "\tfound com.google.http-client#google-http-client-gson;1.43.0 in central\n",
      "\tfound com.google.api-client#google-api-client;2.2.0 in central\n",
      "\tfound commons-codec#commons-codec;1.15 in central\n",
      "\tfound com.google.oauth-client#google-oauth-client;1.34.1 in central\n",
      "\tfound com.google.http-client#google-http-client-apache-v2;1.43.0 in central\n",
      "\tfound com.google.apis#google-api-services-storage;v1-rev20220705-2.0.0 in central\n",
      "\tfound com.google.code.gson#gson;2.10.1 in central\n",
      "\tfound com.google.cloud#google-cloud-core;2.12.0 in central\n",
      "\tfound io.grpc#grpc-context;1.53.0 in central\n",
      "\tfound com.google.auto.value#auto-value-annotations;1.10.1 in central\n",
      "\tfound com.google.auto.value#auto-value;1.10.1 in central\n",
      "\tfound javax.annotation#javax.annotation-api;1.3.2 in central\n",
      "\tfound commons-logging#commons-logging;1.2 in central\n",
      "\tfound com.google.cloud#google-cloud-core-http;2.12.0 in central\n",
      "\tfound com.google.http-client#google-http-client-appengine;1.43.0 in central\n",
      "\tfound com.google.api#gax-httpjson;0.108.2 in central\n",
      "\tfound com.google.cloud#google-cloud-core-grpc;2.12.0 in central\n",
      "\tfound io.grpc#grpc-alts;1.53.0 in central\n",
      "\tfound io.grpc#grpc-grpclb;1.53.0 in central\n",
      "\tfound org.conscrypt#conscrypt-openjdk-uber;2.5.2 in central\n",
      "\tfound io.grpc#grpc-auth;1.53.0 in central\n",
      "\tfound io.grpc#grpc-protobuf;1.53.0 in central\n",
      "\tfound io.grpc#grpc-protobuf-lite;1.53.0 in central\n",
      "\tfound io.grpc#grpc-core;1.53.0 in central\n",
      "\tfound com.google.api#gax;2.23.2 in central\n",
      "\tfound com.google.api#gax-grpc;2.23.2 in central\n",
      "\tfound com.google.auth#google-auth-library-credentials;1.16.0 in central\n",
      "\tfound com.google.auth#google-auth-library-oauth2-http;1.16.0 in central\n",
      "\tfound com.google.api#api-common;2.6.2 in central\n",
      "\tfound io.opencensus#opencensus-api;0.31.1 in central\n",
      "\tfound com.google.api.grpc#proto-google-iam-v1;1.9.2 in central\n",
      "\tfound com.google.protobuf#protobuf-java;3.21.12 in central\n",
      "\tfound com.google.protobuf#protobuf-java-util;3.21.12 in central\n",
      "\tfound com.google.code.findbugs#jsr305;3.0.2 in central\n",
      "\tfound com.google.api.grpc#proto-google-common-protos;2.14.2 in central\n",
      "\tfound org.threeten#threetenbp;1.6.5 in central\n",
      "\tfound com.google.api.grpc#proto-google-cloud-storage-v2;2.20.1-alpha in central\n",
      "\tfound com.google.api.grpc#grpc-google-cloud-storage-v2;2.20.1-alpha in central\n",
      "\tfound com.google.api.grpc#gapic-google-cloud-storage-v2;2.20.1-alpha in central\n",
      "\tfound com.fasterxml.jackson.core#jackson-core;2.14.2 in central\n",
      "\tfound io.grpc#grpc-api;1.53.0 in central\n",
      "\tfound io.grpc#grpc-stub;1.53.0 in central\n",
      "\tfound org.checkerframework#checker-qual;3.31.0 in central\n",
      "\tfound io.perfmark#perfmark-api;0.26.0 in central\n",
      "\tfound com.google.android#annotations;4.1.1.4 in central\n",
      "\tfound org.codehaus.mojo#animal-sniffer-annotations;1.22 in central\n",
      "\tfound io.opencensus#opencensus-proto;0.2.0 in central\n",
      "\tfound io.grpc#grpc-services;1.53.0 in central\n",
      "\tfound com.google.re2j#re2j;1.6 in central\n",
      "\tfound io.grpc#grpc-netty-shaded;1.53.0 in central\n",
      "\tfound io.grpc#grpc-googleapis;1.53.0 in central\n",
      "\tfound io.grpc#grpc-xds;1.53.0 in central\n",
      "\tfound com.navigamez#greex;1.0 in central\n",
      "\tfound dk.brics.automaton#automaton;1.11-8 in central\n",
      "\tfound com.johnsnowlabs.nlp#tensorflow-cpu_2.12;0.4.4 in central\n",
      "\tfound com.microsoft.onnxruntime#onnxruntime;1.15.0 in central\n",
      ":: resolution report :: resolve 823ms :: artifacts dl 16ms\n",
      "\t:: modules in use:\n",
      "\tcom.amazonaws#aws-java-sdk-bundle;1.11.828 from central in [default]\n",
      "\tcom.fasterxml.jackson.core#jackson-core;2.14.2 from central in [default]\n",
      "\tcom.github.universal-automata#liblevenshtein;3.0.0 from central in [default]\n",
      "\tcom.google.android#annotations;4.1.1.4 from central in [default]\n",
      "\tcom.google.api#api-common;2.6.2 from central in [default]\n",
      "\tcom.google.api#gax;2.23.2 from central in [default]\n",
      "\tcom.google.api#gax-grpc;2.23.2 from central in [default]\n",
      "\tcom.google.api#gax-httpjson;0.108.2 from central in [default]\n",
      "\tcom.google.api-client#google-api-client;2.2.0 from central in [default]\n",
      "\tcom.google.api.grpc#gapic-google-cloud-storage-v2;2.20.1-alpha from central in [default]\n",
      "\tcom.google.api.grpc#grpc-google-cloud-storage-v2;2.20.1-alpha from central in [default]\n",
      "\tcom.google.api.grpc#proto-google-cloud-storage-v2;2.20.1-alpha from central in [default]\n",
      "\tcom.google.api.grpc#proto-google-common-protos;2.14.2 from central in [default]\n",
      "\tcom.google.api.grpc#proto-google-iam-v1;1.9.2 from central in [default]\n",
      "\tcom.google.apis#google-api-services-storage;v1-rev20220705-2.0.0 from central in [default]\n",
      "\tcom.google.auth#google-auth-library-credentials;1.16.0 from central in [default]\n",
      "\tcom.google.auth#google-auth-library-oauth2-http;1.16.0 from central in [default]\n",
      "\tcom.google.auto.value#auto-value;1.10.1 from central in [default]\n",
      "\tcom.google.auto.value#auto-value-annotations;1.10.1 from central in [default]\n",
      "\tcom.google.cloud#google-cloud-core;2.12.0 from central in [default]\n",
      "\tcom.google.cloud#google-cloud-core-grpc;2.12.0 from central in [default]\n",
      "\tcom.google.cloud#google-cloud-core-http;2.12.0 from central in [default]\n",
      "\tcom.google.cloud#google-cloud-storage;2.20.1 from central in [default]\n",
      "\tcom.google.code.findbugs#jsr305;3.0.2 from central in [default]\n",
      "\tcom.google.code.gson#gson;2.10.1 from central in [default]\n",
      "\tcom.google.errorprone#error_prone_annotations;2.18.0 from central in [default]\n",
      "\tcom.google.guava#failureaccess;1.0.1 from central in [default]\n",
      "\tcom.google.guava#guava;31.1-jre from central in [default]\n",
      "\tcom.google.guava#listenablefuture;9999.0-empty-to-avoid-conflict-with-guava from central in [default]\n",
      "\tcom.google.http-client#google-http-client;1.43.0 from central in [default]\n",
      "\tcom.google.http-client#google-http-client-apache-v2;1.43.0 from central in [default]\n",
      "\tcom.google.http-client#google-http-client-appengine;1.43.0 from central in [default]\n",
      "\tcom.google.http-client#google-http-client-gson;1.43.0 from central in [default]\n",
      "\tcom.google.http-client#google-http-client-jackson2;1.43.0 from central in [default]\n",
      "\tcom.google.j2objc#j2objc-annotations;1.3 from central in [default]\n",
      "\tcom.google.oauth-client#google-oauth-client;1.34.1 from central in [default]\n",
      "\tcom.google.protobuf#protobuf-java;3.21.12 from central in [default]\n",
      "\tcom.google.protobuf#protobuf-java-util;3.21.12 from central in [default]\n",
      "\tcom.google.re2j#re2j;1.6 from central in [default]\n",
      "\tcom.johnsnowlabs.nlp#spark-nlp_2.12;5.0.0 from central in [default]\n",
      "\tcom.johnsnowlabs.nlp#tensorflow-cpu_2.12;0.4.4 from central in [default]\n",
      "\tcom.microsoft.onnxruntime#onnxruntime;1.15.0 from central in [default]\n",
      "\tcom.navigamez#greex;1.0 from central in [default]\n",
      "\tcom.typesafe#config;1.4.2 from central in [default]\n",
      "\tcommons-codec#commons-codec;1.15 from central in [default]\n",
      "\tcommons-logging#commons-logging;1.2 from central in [default]\n",
      "\tdk.brics.automaton#automaton;1.11-8 from central in [default]\n",
      "\tio.grpc#grpc-alts;1.53.0 from central in [default]\n",
      "\tio.grpc#grpc-api;1.53.0 from central in [default]\n",
      "\tio.grpc#grpc-auth;1.53.0 from central in [default]\n",
      "\tio.grpc#grpc-context;1.53.0 from central in [default]\n",
      "\tio.grpc#grpc-core;1.53.0 from central in [default]\n",
      "\tio.grpc#grpc-googleapis;1.53.0 from central in [default]\n",
      "\tio.grpc#grpc-grpclb;1.53.0 from central in [default]\n",
      "\tio.grpc#grpc-netty-shaded;1.53.0 from central in [default]\n",
      "\tio.grpc#grpc-protobuf;1.53.0 from central in [default]\n",
      "\tio.grpc#grpc-protobuf-lite;1.53.0 from central in [default]\n",
      "\tio.grpc#grpc-services;1.53.0 from central in [default]\n",
      "\tio.grpc#grpc-stub;1.53.0 from central in [default]\n",
      "\tio.grpc#grpc-xds;1.53.0 from central in [default]\n",
      "\tio.opencensus#opencensus-api;0.31.1 from central in [default]\n",
      "\tio.opencensus#opencensus-contrib-http-util;0.31.1 from central in [default]\n",
      "\tio.opencensus#opencensus-proto;0.2.0 from central in [default]\n",
      "\tio.perfmark#perfmark-api;0.26.0 from central in [default]\n",
      "\tit.unimi.dsi#fastutil;7.0.12 from central in [default]\n",
      "\tjavax.annotation#javax.annotation-api;1.3.2 from central in [default]\n",
      "\torg.checkerframework#checker-qual;3.31.0 from central in [default]\n",
      "\torg.codehaus.mojo#animal-sniffer-annotations;1.22 from central in [default]\n",
      "\torg.conscrypt#conscrypt-openjdk-uber;2.5.2 from central in [default]\n",
      "\torg.projectlombok#lombok;1.16.8 from central in [default]\n",
      "\torg.rocksdb#rocksdbjni;6.29.5 from central in [default]\n",
      "\torg.threeten#threetenbp;1.6.5 from central in [default]\n",
      "\t:: evicted modules:\n",
      "\tcom.google.protobuf#protobuf-java-util;3.0.0-beta-3 by [com.google.protobuf#protobuf-java-util;3.21.12] in [default]\n",
      "\tcom.google.protobuf#protobuf-java;3.0.0-beta-3 by [com.google.protobuf#protobuf-java;3.21.12] in [default]\n",
      "\tcom.google.code.gson#gson;2.3 by [com.google.code.gson#gson;2.10.1] in [default]\n",
      "\tcom.google.errorprone#error_prone_annotations;2.5.1 by [com.google.errorprone#error_prone_annotations;2.18.0] in [default]\n",
      "\tcom.google.code.gson#gson;2.8.9 by [com.google.code.gson#gson;2.10.1] in [default]\n",
      "\t---------------------------------------------------------------------\n",
      "\t|                  |            modules            ||   artifacts   |\n",
      "\t|       conf       | number| search|dwnlded|evicted|| number|dwnlded|\n",
      "\t---------------------------------------------------------------------\n",
      "\t|      default     |   77  |   0   |   0   |   5   ||   72  |   0   |\n",
      "\t---------------------------------------------------------------------\n",
      ":: retrieving :: org.apache.spark#spark-submit-parent-040d7a02-380d-40b9-982c-a0ec9079cc13\n",
      "\tconfs: [default]\n",
      "\t0 artifacts copied, 72 already retrieved (0kB/14ms)\n",
      "23/08/13 15:37:01 WARN NativeCodeLoader: Unable to load native-hadoop library for your platform... using builtin-java classes where applicable\n",
      "Using Spark's default log4j profile: org/apache/spark/log4j-defaults.properties\n",
      "Setting default log level to \"WARN\".\n",
      "To adjust logging level use sc.setLogLevel(newLevel). For SparkR, use setLogLevel(newLevel).\n",
      "23/08/13 15:37:03 WARN SparkConf: Note that spark.local.dir will be overridden by the value set by the cluster manager (via SPARK_LOCAL_DIRS in mesos/standalone/kubernetes and LOCAL_DIRS in YARN).\n"
     ]
    },
    {
     "name": "stdout",
     "output_type": "stream",
     "text": [
      "sparknlp version: 5.0.0\n",
      "sparknlp_jsl version: 5.0.0\n"
     ]
    },
    {
     "data": {
      "text/html": [
       "\n",
       "            <div>\n",
       "                <p><b>SparkSession - in-memory</b></p>\n",
       "                \n",
       "        <div>\n",
       "            <p><b>SparkContext</b></p>\n",
       "\n",
       "            <p><a href=\"http://jupyter-cabir-40johnsnowlabs-2ecom.jupyter-notebooks.notebookhub.svc.cluster.local:4040\">Spark UI</a></p>\n",
       "\n",
       "            <dl>\n",
       "              <dt>Version</dt>\n",
       "                <dd><code>v3.1.2</code></dd>\n",
       "              <dt>Master</dt>\n",
       "                <dd><code>local[*]</code></dd>\n",
       "              <dt>AppName</dt>\n",
       "                <dd><code>Spark NLP Licensed</code></dd>\n",
       "            </dl>\n",
       "        </div>\n",
       "        \n",
       "            </div>\n",
       "        "
      ],
      "text/plain": [
       "<pyspark.sql.session.SparkSession at 0x7fb6bb09f910>"
      ]
     },
     "execution_count": 3,
     "metadata": {},
     "output_type": "execute_result"
    }
   ],
   "source": [
    "import os, json\n",
    "import pandas as pd\n",
    "import numpy as np\n",
    "import warnings\n",
    "import logging\n",
    "\n",
    "from pyspark.ml import Pipeline, PipelineModel\n",
    "from pyspark.sql import SparkSession\n",
    "from pyspark.sql import functions as F\n",
    "\n",
    "import sparknlp\n",
    "import sparknlp_jsl\n",
    "\n",
    "from sparknlp.base import *\n",
    "from sparknlp.common import *\n",
    "from sparknlp.annotator import *\n",
    "from sparknlp.training import CoNLL\n",
    "from sparknlp_jsl.annotator import *\n",
    "from sparknlp_jsl.eval import NerDLMetrics\n",
    "\n",
    "from ast import literal_eval\n",
    "from ast import literal_eval\n",
    "from collections import Counter\n",
    "import networkx as nx\n",
    "import matplotlib.pyplot as plt\n",
    "\n",
    "warnings.filterwarnings(\"ignore\")\n",
    "logging.getLogger().setLevel(logging.ERROR)\n",
    "\n",
    "pd.set_option('display.max_columns', None)\n",
    "pd.set_option(\"display.max_colwidth\",50)\n",
    "os.environ['TF_CPP_MIN_LOG_LEVEL'] = '3'\n",
    "\n",
    "params = {'spark.jsl.settings.pretrained.cache_folder': '/home/jovyan/work/shared/cache_folder',\n",
    "          'spark.settings.pretrained.cache_folder': '/home/jovyan/work/shared/cache_folder',\n",
    "          \"spark.kryoserializer.buffer.max\":\"2000M\", \n",
    "          \"spark.driver.maxResultSize\":\"2048M\",\n",
    "          \"spark.local.dir\": \"/home/jovyan/work/shared/spark-temp\",\n",
    "         }\n",
    "\n",
    "spark = sparknlp_jsl.start(secret=license_keys[\"SECRET\"], params= params)\n",
    "print(\"sparknlp version:\",sparknlp.version())\n",
    "print(\"sparknlp_jsl version:\", sparknlp_jsl.version())\n",
    "\n",
    "spark.sparkContext.setLogLevel(\"ERROR\")\n",
    "\n",
    "spark"
   ]
  },
  {
   "cell_type": "markdown",
   "id": "bf9711a1-3e6f-4bd1-aa85-7e8c18704a6a",
   "metadata": {},
   "source": [
    "## Download Dataset"
   ]
  },
  {
   "cell_type": "markdown",
   "id": "b94cc287-7d26-4b8f-a48a-cb2a038ec0cd",
   "metadata": {},
   "source": [
    "RHMD-Health-Mention-Dataset: https://github.com/usmaann/RHMD-Health-Mention-Dataset/blob/main/README.md\n",
    "\n",
    "RHMD is a dataset developed to understand how users on Reddit use disease or symptom terms. This dataset is designed to classify Reddit posts that use these terms in ways other than describing their health conditions.\n",
    "\n",
    "The dataset consists of `10,015` manually labeled Reddit posts that mention 15 common disease or symptom terms. These posts are divided into three different categories:\n",
    "\n",
    "- `Figurative Mentions` (Label:0): These include cases where health terms are used metaphorically.[3,225 instances]\n",
    "- `Non-Health Mentions` (Label:1): These include cases that 8discuss non-health related topics.[3,430 instances]\n",
    "- `Health Mentions` (Label:2): These include cases where actual health conditions or diseases are discussed.[3,360 instances]\n",
    "\n"
   ]
  },
  {
   "cell_type": "markdown",
   "id": "26e49b75-d140-4c5f-b45d-bc1228959743",
   "metadata": {},
   "source": [
    "📌 In our analysis, we will primarily be working with the subset of data labeled as \"Health mentions\". This segment of data, containing Reddit posts discussing genuine health conditions, is rich in the health-related information we aim to extract and analyze. We believe this focus will enable us to accurately identify patterns of co-occurring health risks, and thus produce the most relevant and meaningful insights."
   ]
  },
  {
   "cell_type": "code",
   "execution_count": 4,
   "id": "c51e89e6-bae0-438e-8ab8-eb9053f37781",
   "metadata": {
    "execution": {
     "iopub.execute_input": "2023-08-13T15:37:16.371921Z",
     "iopub.status.busy": "2023-08-13T15:37:16.371330Z",
     "iopub.status.idle": "2023-08-13T15:37:17.048164Z",
     "shell.execute_reply": "2023-08-13T15:37:17.047702Z",
     "shell.execute_reply.started": "2023-08-13T15:37:16.371902Z"
    },
    "tags": []
   },
   "outputs": [
    {
     "data": {
      "text/html": [
       "<div>\n",
       "<style scoped>\n",
       "    .dataframe tbody tr th:only-of-type {\n",
       "        vertical-align: middle;\n",
       "    }\n",
       "\n",
       "    .dataframe tbody tr th {\n",
       "        vertical-align: top;\n",
       "    }\n",
       "\n",
       "    .dataframe thead th {\n",
       "        text-align: right;\n",
       "    }\n",
       "</style>\n",
       "<table border=\"1\" class=\"dataframe\">\n",
       "  <thead>\n",
       "    <tr style=\"text-align: right;\">\n",
       "      <th></th>\n",
       "      <th>text_id</th>\n",
       "      <th>text</th>\n",
       "    </tr>\n",
       "  </thead>\n",
       "  <tbody>\n",
       "    <tr>\n",
       "      <th>10010</th>\n",
       "      <td>10010</td>\n",
       "      <td>An alternative solution to EU Challeger Ladder...</td>\n",
       "    </tr>\n",
       "    <tr>\n",
       "      <th>10011</th>\n",
       "      <td>10011</td>\n",
       "      <td>Gold 5 support looking for adc to duo with (EU...</td>\n",
       "    </tr>\n",
       "    <tr>\n",
       "      <th>10012</th>\n",
       "      <td>10012</td>\n",
       "      <td>PAC Man is unimpressed with Lux 10 game ranked...</td>\n",
       "    </tr>\n",
       "    <tr>\n",
       "      <th>10013</th>\n",
       "      <td>10013</td>\n",
       "      <td>Spongebob is literally curing cancer.</td>\n",
       "    </tr>\n",
       "    <tr>\n",
       "      <th>10014</th>\n",
       "      <td>10014</td>\n",
       "      <td>My apple has cancer.</td>\n",
       "    </tr>\n",
       "  </tbody>\n",
       "</table>\n",
       "</div>"
      ],
      "text/plain": [
       "       text_id                                               text\n",
       "10010    10010  An alternative solution to EU Challeger Ladder...\n",
       "10011    10011  Gold 5 support looking for adc to duo with (EU...\n",
       "10012    10012  PAC Man is unimpressed with Lux 10 game ranked...\n",
       "10013    10013             Spongebob is literally curing cancer. \n",
       "10014    10014                              My apple has cancer. "
      ]
     },
     "execution_count": 4,
     "metadata": {},
     "output_type": "execute_result"
    }
   ],
   "source": [
    "# read data as a pandas dataframe\n",
    "data = pd.read_csv(\"./RHMD_3_Class.csv\").reset_index()\n",
    "#data = data[data.Label == 2 ].reset_index(drop=True).reset_index()\n",
    "data = data.rename(columns={\"index\": \"text_id\",\"Text\": \"text\"}).drop(\"Label\",axis=1)\n",
    "data.tail()"
   ]
  },
  {
   "cell_type": "code",
   "execution_count": 5,
   "id": "7fdb08f5-f53e-4721-b376-cc6766ecdf74",
   "metadata": {
    "execution": {
     "iopub.execute_input": "2023-08-13T15:37:17.049030Z",
     "iopub.status.busy": "2023-08-13T15:37:17.048820Z",
     "iopub.status.idle": "2023-08-13T15:37:19.619100Z",
     "shell.execute_reply": "2023-08-13T15:37:19.618406Z",
     "shell.execute_reply.started": "2023-08-13T15:37:17.049013Z"
    },
    "tags": []
   },
   "outputs": [
    {
     "name": "stderr",
     "output_type": "stream",
     "text": [
      "[Stage 0:>                                                          (0 + 1) / 1]\r"
     ]
    },
    {
     "name": "stdout",
     "output_type": "stream",
     "text": [
      "+-------+--------------------------------------------------+\n",
      "|text_id|                                              text|\n",
      "+-------+--------------------------------------------------+\n",
      "|      0|Corona and mental health. Indiana's 211 hotline...|\n",
      "|      1|Impact of genetic mutations on cocaine addictio...|\n",
      "|      2|Oakland on Tuesday became the second U.S. city ...|\n",
      "|      3|MDMA treatment for alcoholism reduces relapse s...|\n",
      "|      4|'I was non-stop Juuling up a storm': 10 college...|\n",
      "|      5|A single ketamine infusion combined with mindfu...|\n",
      "|      6|Research suggests chocolate chip cookies equiva...|\n",
      "|      7|Study finds CBD effective in treating heroin ad...|\n",
      "|      8|Not all cannabis users develop an addiction, ev...|\n",
      "|      9|America’s opioid crisis is a warning to the NHS...|\n",
      "|     10|A new study provides evidence that cannabidiol,...|\n",
      "|     11|Could psychedelics transform mental health? A n...|\n",
      "|     12|New York Health Officials See Marijuana as an A...|\n",
      "|     13|Can Cannabis Solve the Opioid Crisis? Recent st...|\n",
      "|     14|Is Sugar the New Smoking? 30 years ago, we were...|\n",
      "|     15|New Experimental Painkiller Is Like Stronger Mo...|\n",
      "|     16|West Virginia addiction helpline answers more t...|\n",
      "|     17|'We're treated like drug addicts': As America f...|\n",
      "|     18|One-third of patients seeking help for buying-s...|\n",
      "|     19|WVU Rockefeller Neuroscience Institute first in...|\n",
      "+-------+--------------------------------------------------+\n",
      "only showing top 20 rows\n",
      "\n"
     ]
    },
    {
     "name": "stderr",
     "output_type": "stream",
     "text": [
      "                                                                                \r"
     ]
    }
   ],
   "source": [
    "# create spark dataframe\n",
    "df = spark.createDataFrame(data)\n",
    "df.show(truncate=50)"
   ]
  },
  {
   "cell_type": "markdown",
   "id": "29fc7c93-b24e-4782-825d-c1b058c8474c",
   "metadata": {
    "execution": {
     "iopub.execute_input": "2023-08-13T12:35:34.315520Z",
     "iopub.status.busy": "2023-08-13T12:35:34.314933Z",
     "iopub.status.idle": "2023-08-13T12:35:34.318173Z",
     "shell.execute_reply": "2023-08-13T12:35:34.317602Z",
     "shell.execute_reply.started": "2023-08-13T12:35:34.315498Z"
    },
    "tags": []
   },
   "source": [
    "## Gender Classification"
   ]
  },
  {
   "cell_type": "code",
   "execution_count": 6,
   "id": "6b7daf8e-b545-4826-85bb-8a16cd246428",
   "metadata": {
    "execution": {
     "iopub.execute_input": "2023-08-13T15:37:19.620813Z",
     "iopub.status.busy": "2023-08-13T15:37:19.620438Z",
     "iopub.status.idle": "2023-08-13T15:37:36.385962Z",
     "shell.execute_reply": "2023-08-13T15:37:36.385286Z",
     "shell.execute_reply.started": "2023-08-13T15:37:19.620795Z"
    },
    "tags": []
   },
   "outputs": [
    {
     "name": "stdout",
     "output_type": "stream",
     "text": [
      "sbiobert_base_cased_mli download started this may take some time.\n",
      "Approximate size to download 384.3 MB\n",
      "[ | ]sbiobert_base_cased_mli download started this may take some time.\n",
      "Approximate size to download 384.3 MB\n",
      "Download done! Loading the resource.\n",
      "[OK!]\n",
      "classifierdl_gender_sbert download started this may take some time.\n",
      "Approximate size to download 22.2 MB\n",
      "[ | ]classifierdl_gender_sbert download started this may take some time.\n",
      "Approximate size to download 22.2 MB\n",
      "Download done! Loading the resource.\n",
      "[OK!]\n"
     ]
    }
   ],
   "source": [
    "documentAssembler = DocumentAssembler()\\\n",
    "  .setInputCol(\"text\")\\\n",
    "  .setOutputCol(\"document\")\n",
    "\n",
    "sbert_embedder = BertSentenceEmbeddings().pretrained(\"sbiobert_base_cased_mli\", 'en', 'clinical/models')\\\n",
    "    .setInputCols([\"document\"])\\\n",
    "    .setOutputCol(\"sentence_embeddings\")\\\n",
    "    .setMaxSentenceLength(512)\n",
    "\n",
    "gender_classifier = ClassifierDLModel.pretrained('classifierdl_gender_sbert', 'en', 'clinical/models') \\\n",
    "    .setInputCols(\"sentence_embeddings\") \\\n",
    "    .setOutputCol(\"gender_class\")\n",
    "\n",
    "\n",
    "gender_pipeline = Pipeline(stages=[\n",
    "    documentAssembler,\n",
    "    sbert_embedder,\n",
    "    gender_classifier,\n",
    "\n",
    "])\n",
    "\n",
    "# gender_pipeline_model = gender_pipeline.fit(spark.createDataFrame([[\"\"]]).toDF(\"text\"))\n",
    "\n",
    "gender_result = gender_pipeline.fit(df).transform(df)"
   ]
  },
  {
   "cell_type": "code",
   "execution_count": 7,
   "id": "d323a3b9-658f-4e23-8778-a4535cd4338c",
   "metadata": {
    "execution": {
     "iopub.execute_input": "2023-08-13T15:37:36.386981Z",
     "iopub.status.busy": "2023-08-13T15:37:36.386809Z",
     "iopub.status.idle": "2023-08-13T15:37:38.014468Z",
     "shell.execute_reply": "2023-08-13T15:37:38.013856Z",
     "shell.execute_reply.started": "2023-08-13T15:37:36.386965Z"
    },
    "tags": []
   },
   "outputs": [
    {
     "name": "stderr",
     "output_type": "stream",
     "text": [
      "[Stage 7:>                                                          (0 + 1) / 1]\r"
     ]
    },
    {
     "name": "stdout",
     "output_type": "stream",
     "text": [
      "+-------+----------------------------------------------------------------------------------------------------+-------+\n",
      "|text_id|                                                                                                text| gender|\n",
      "+-------+----------------------------------------------------------------------------------------------------+-------+\n",
      "|      0|Corona and mental health. Indiana's 211 hotline went from receiving roughly 1,000 calls a day reg...|Unknown|\n",
      "|      1|Impact of genetic mutations on cocaine addiction elucidated: Scientists recently demonstrated tha...|Unknown|\n",
      "|      2|Oakland on Tuesday became the second U.S. city to decriminalize magic mushrooms after a string of...|Unknown|\n",
      "|      3|MDMA treatment for alcoholism reduces relapse safely with no serious side effects, suggests the f...|Unknown|\n",
      "|      4|                'I was non-stop Juuling up a storm': 10 college students on their vaping addictions |   Male|\n",
      "|      5|A single ketamine infusion combined with mindfulness-based therapy shows promise in treatment of ...| Female|\n",
      "|      6|                 Research suggests chocolate chip cookies equivalent to drug addiction in the brain | Female|\n",
      "|      7|                                             Study finds CBD effective in treating heroin addiction | Female|\n",
      "|      8|Not all cannabis users develop an addiction, even with long-term regular use, suggests a new stud...| Female|\n",
      "|      9|America’s opioid crisis is a warning to the NHS. Don’t let big pharma loose on policy - The US wa...|   Male|\n",
      "+-------+----------------------------------------------------------------------------------------------------+-------+\n",
      "only showing top 10 rows\n",
      "\n"
     ]
    },
    {
     "name": "stderr",
     "output_type": "stream",
     "text": [
      "                                                                                \r"
     ]
    }
   ],
   "source": [
    "df =  gender_result.select(\"text_id\", \"text\",\n",
    "                          F.explode(F.arrays_zip(gender_result.gender_class.result,)).alias(\"cols\"))\\\n",
    "                 .select(\"text_id\",\"text\",\n",
    "                          F.expr(\"cols['0']\").alias(\"gender\"))\n",
    "df.show(10,truncate=100)"
   ]
  },
  {
   "cell_type": "markdown",
   "id": "17190701-9342-4cc4-ba67-c16e0f1cff4f",
   "metadata": {},
   "source": [
    "## Risk Factor Extraction"
   ]
  },
  {
   "cell_type": "markdown",
   "id": "ffad6ffb-ce13-4014-afbc-1e94b2e3df80",
   "metadata": {
    "execution": {
     "iopub.execute_input": "2023-08-13T12:39:26.677866Z",
     "iopub.status.busy": "2023-08-13T12:39:26.677449Z",
     "iopub.status.idle": "2023-08-13T12:39:26.680291Z",
     "shell.execute_reply": "2023-08-13T12:39:26.679829Z",
     "shell.execute_reply.started": "2023-08-13T12:39:26.677847Z"
    },
    "tags": []
   },
   "source": [
    "### Initial pipeline companent"
   ]
  },
  {
   "cell_type": "code",
   "execution_count": 8,
   "id": "79609c32-ae0a-4379-ab8b-ac6e31086e45",
   "metadata": {
    "execution": {
     "iopub.execute_input": "2023-08-13T15:37:38.015742Z",
     "iopub.status.busy": "2023-08-13T15:37:38.015246Z",
     "iopub.status.idle": "2023-08-13T15:38:00.827233Z",
     "shell.execute_reply": "2023-08-13T15:38:00.826713Z",
     "shell.execute_reply.started": "2023-08-13T15:37:38.015724Z"
    },
    "tags": []
   },
   "outputs": [
    {
     "name": "stdout",
     "output_type": "stream",
     "text": [
      "sentence_detector_dl_healthcare download started this may take some time.\n",
      "Approximate size to download 367.3 KB\n",
      "[ | ]sentence_detector_dl_healthcare download started this may take some time.\n",
      "Approximate size to download 367.3 KB\n",
      "Download done! Loading the resource.\n",
      "[OK!]\n",
      "embeddings_clinical download started this may take some time.\n",
      "Approximate size to download 1.6 GB\n",
      "[ | ]embeddings_clinical download started this may take some time.\n",
      "Approximate size to download 1.6 GB\n",
      "Download done! Loading the resource.\n",
      "[OK!]\n"
     ]
    }
   ],
   "source": [
    "documentAssembler = DocumentAssembler()\\\n",
    "  .setInputCol(\"text\")\\\n",
    "  .setOutputCol(\"document\")\n",
    "\n",
    "sentenceDetector = SentenceDetectorDLModel.pretrained(\"sentence_detector_dl_healthcare\",\"en\",\"clinical/models\") \\\n",
    "  .setInputCols([\"document\"]) \\\n",
    "  .setOutputCol(\"sentence\")\n",
    "\n",
    "tokenizer = Tokenizer()\\\n",
    "  .setInputCols([\"sentence\"])\\\n",
    "  .setOutputCol(\"token\")\n",
    "\n",
    "word_embeddings = WordEmbeddingsModel.pretrained(\"embeddings_clinical\", \"en\", \"clinical/models\")\\\n",
    "  .setInputCols([\"sentence\", \"token\"])\\\n",
    "  .setOutputCol(\"embeddings\")\n"
   ]
  },
  {
   "cell_type": "markdown",
   "id": "b83b248d-3712-42b1-981a-ecc2f9c6fc9c",
   "metadata": {},
   "source": [
    "🔎 We will download the `ner_risk_factors` NER models and whitelist the labels that can be used as risk factor."
   ]
  },
  {
   "cell_type": "code",
   "execution_count": 9,
   "id": "00cd5d33-5e5f-45b0-ad22-e90a21c6960d",
   "metadata": {
    "execution": {
     "iopub.execute_input": "2023-08-13T15:38:00.828047Z",
     "iopub.status.busy": "2023-08-13T15:38:00.827895Z",
     "iopub.status.idle": "2023-08-13T15:38:03.377495Z",
     "shell.execute_reply": "2023-08-13T15:38:03.376599Z",
     "shell.execute_reply.started": "2023-08-13T15:38:00.828033Z"
    },
    "tags": []
   },
   "outputs": [
    {
     "name": "stdout",
     "output_type": "stream",
     "text": [
      "ner_risk_factors download started this may take some time.\n",
      "[ | ]ner_risk_factors download started this may take some time.\n",
      "Approximate size to download 13.9 MB\n",
      "Download done! Loading the resource.\n",
      "[OK!]\n"
     ]
    }
   ],
   "source": [
    "ner_risks_entities = ['CAD','DIABETES','HYPERLIPIDEMIA','HYPERTENSION','MEDICATION','OBESE','SMOKER']\n",
    "\n",
    "# risk factors\n",
    "risk_factors_ner = MedicalNerModel.pretrained(\"ner_risk_factors\", \"en\", \"clinical/models\") \\\n",
    "    .setInputCols([\"sentence\", \"token\", \"embeddings\"]) \\\n",
    "    .setOutputCol(\"ner_risks\")\\\n",
    "    .setLabelCasing('upper')\n",
    "\n",
    "risk_factors_ner_converter = NerConverterInternal()\\\n",
    "    .setInputCols([\"sentence\",\"token\",\"ner_risks\"])\\\n",
    "    .setOutputCol(\"ner_risks_chunk\")\\\n",
    "    .setWhiteList(ner_risks_entities)\n"
   ]
  },
  {
   "cell_type": "markdown",
   "id": "14ef3f63-fdf0-44ce-8f68-4108eddb33ce",
   "metadata": {},
   "source": [
    "🔎 We will download the `sparknlp_jsl` NER models and whitelist the labels that can be used as risk factor."
   ]
  },
  {
   "cell_type": "code",
   "execution_count": 10,
   "id": "dd01a67c-608e-4b44-a870-03e1539f9341",
   "metadata": {
    "execution": {
     "iopub.execute_input": "2023-08-13T15:38:03.378463Z",
     "iopub.status.busy": "2023-08-13T15:38:03.378309Z",
     "iopub.status.idle": "2023-08-13T15:38:05.905622Z",
     "shell.execute_reply": "2023-08-13T15:38:05.905154Z",
     "shell.execute_reply.started": "2023-08-13T15:38:03.378448Z"
    },
    "tags": []
   },
   "outputs": [
    {
     "name": "stdout",
     "output_type": "stream",
     "text": [
      "ner_jsl_langtest download started this may take some time.\n",
      "[ | ]ner_jsl_langtest download started this may take some time.\n",
      "Approximate size to download 3.1 MB\n",
      "Download done! Loading the resource.\n",
      "[OK!]\n"
     ]
    }
   ],
   "source": [
    "ner_jsl_entities = [\n",
    "    'Alcohol', 'Cerebrovascular_Disease', 'Diabetes',\n",
    "    'Disease_Syndrome_Disorder',  'Heart_Disease', \n",
    "    'Hyperlipidemia','Hypertension',\"Injury_or_Poisoning\",\n",
    "    'Kidney_Disease', 'Obesity', 'Oncological',\n",
    "    'Smoking', 'Overweight', 'Psychological_Condition', 'BMI',\n",
    "    'Total_Cholesterol', 'Race_Ethnicity'\n",
    "]\n",
    "\n",
    "ner_jsl_entities = [a.upper() for a in ner_jsl_entities]\n",
    "\n",
    "# general clinical terminology\n",
    "jsl_ner = MedicalNerModel.pretrained(\"ner_jsl_langtest\", \"en\", \"clinical/models\") \\\n",
    "    .setInputCols([\"sentence\", \"token\", \"embeddings\"]) \\\n",
    "    .setOutputCol(\"ner_jsl\")\\\n",
    "    .setLabelCasing('upper')\n",
    "\n",
    "jsl_ner_converter = NerConverterInternal()\\\n",
    "    .setInputCols([\"sentence\",\"token\",\"ner_jsl\"])\\\n",
    "    .setOutputCol(\"ner_jsl_chunk\")\\\n",
    "    .setWhiteList(ner_jsl_entities)\n"
   ]
  },
  {
   "cell_type": "markdown",
   "id": "6776d108-dff0-4494-9fdf-fd78ec0a3bc6",
   "metadata": {
    "execution": {
     "iopub.execute_input": "2023-08-13T12:41:37.419595Z",
     "iopub.status.busy": "2023-08-13T12:41:37.419052Z",
     "iopub.status.idle": "2023-08-13T12:41:37.422713Z",
     "shell.execute_reply": "2023-08-13T12:41:37.422143Z",
     "shell.execute_reply.started": "2023-08-13T12:41:37.419577Z"
    },
    "tags": []
   },
   "source": [
    "🔎 We will download the `communicable` NER models and whitelist the labels that can be used as risk factor."
   ]
  },
  {
   "cell_type": "code",
   "execution_count": 11,
   "id": "25e3745c-7b1c-428b-9b43-785d6512636c",
   "metadata": {
    "execution": {
     "iopub.execute_input": "2023-08-13T15:38:05.906718Z",
     "iopub.status.busy": "2023-08-13T15:38:05.906269Z",
     "iopub.status.idle": "2023-08-13T15:38:08.431236Z",
     "shell.execute_reply": "2023-08-13T15:38:08.430737Z",
     "shell.execute_reply.started": "2023-08-13T15:38:05.906702Z"
    },
    "tags": []
   },
   "outputs": [
    {
     "name": "stdout",
     "output_type": "stream",
     "text": [
      "ner_sdoh_langtest download started this may take some time.\n",
      "[ | ]ner_sdoh_langtest download started this may take some time.\n",
      "Approximate size to download 2.8 MB\n",
      "Download done! Loading the resource.\n",
      "[OK!]\n"
     ]
    }
   ],
   "source": [
    "ner_sdoh_entities = [\n",
    "    \"Access_To_Care\",'Alcohol', \"Childhood_Event\", \"Community_Safety\", \"Diet\", \"Disability\", \n",
    "    \"Eating_Disorder\", \"Education\", \"Employment\", \"Environmental_Condition\", \"Exercise\",  \n",
    "    \"Financial_Status\", \"Income\", \"Insurance_Status\", \"Food_Insecurity\", \"Family_Member\",\n",
    "    \"Geographic_Entity\", \"Housing\", \"Mental_Health\", \"Obesity\", \"Other_Disease\",   \n",
    "    \"Smoking\", \"Social_Exclusion\", \"Race_Ethnicity\",\"Sexual_Activity\",\"Sexual_Orientation\",\n",
    "    \"Spiritual_Beliefs\",  \"Substance_Use\",  \"Violence_Or_Abuse\"\n",
    "]\n",
    "\n",
    "# social determinants of health (sdoh)\n",
    "sdoh_ner = MedicalNerModel.pretrained(\"ner_sdoh_langtest\", \"en\", \"clinical/models\")\\\n",
    "    .setInputCols([\"sentence\", \"token\", \"embeddings\"])\\\n",
    "    .setOutputCol(\"ner_sdoh\")\\\n",
    "    .setLabelCasing('upper')\n",
    "\n",
    "sdoh_ner_converter = NerConverterInternal()\\\n",
    "    .setInputCols([\"sentence\",\"token\",\"ner_sdoh\"])\\\n",
    "    .setOutputCol(\"ner_sdoh_chunk\")\\\n",
    "    .setWhiteList(ner_sdoh_entities)"
   ]
  },
  {
   "cell_type": "markdown",
   "id": "23f8ca21-aba8-4be0-85e4-ea0b4afe21cf",
   "metadata": {},
   "source": [
    "🔎 We will download the `ner_vop` NER models and whitelist the labels that can be used as risk factor."
   ]
  },
  {
   "cell_type": "code",
   "execution_count": 12,
   "id": "4ca65fb8-22bc-4764-b49a-1406e847d6ec",
   "metadata": {
    "execution": {
     "iopub.execute_input": "2023-08-13T15:38:08.433025Z",
     "iopub.status.busy": "2023-08-13T15:38:08.432714Z",
     "iopub.status.idle": "2023-08-13T15:38:10.959260Z",
     "shell.execute_reply": "2023-08-13T15:38:10.958746Z",
     "shell.execute_reply.started": "2023-08-13T15:38:08.433009Z"
    },
    "tags": []
   },
   "outputs": [
    {
     "name": "stdout",
     "output_type": "stream",
     "text": [
      "ner_vop download started this may take some time.\n",
      "[ | ]ner_vop download started this may take some time.\n",
      "Approximate size to download 3.7 MB\n",
      "Download done! Loading the resource.\n",
      "[OK!]\n"
     ]
    }
   ],
   "source": [
    "ner_vop_entities = [\n",
    "    \"Substance\", \"PsychologicalCondition\", \"Vaccine\", \"Drug\", \"Disease\", \"RelationshipStatus\",\n",
    "    \"Allergen\", \"Symptom\", \"HealthStatus\", \"InjuryOrPoisoning\", \"MedicalDevice\",\"Treatment\",\"Employment\"\n",
    "]\n",
    "\n",
    "# vop\n",
    "vop_ner = MedicalNerModel.pretrained(\"ner_vop\", \"en\", \"clinical/models\")\\\n",
    "    .setInputCols([\"sentence\", \"token\",\"embeddings\"])\\\n",
    "    .setOutputCol(\"ner_vop\")\\\n",
    "    .setLabelCasing('upper')\n",
    "\n",
    "vop_ner_converter = NerConverterInternal()\\\n",
    "    .setInputCols([\"sentence\",\"token\",\"ner_vop\"])\\\n",
    "    .setOutputCol(\"ner_vop_chunk\")\\\n",
    "    .setWhiteList(ner_vop_entities)\n",
    "\n"
   ]
  },
  {
   "cell_type": "markdown",
   "id": "0a723246-0c58-4b3c-8686-d465db68bda4",
   "metadata": {},
   "source": [
    "🔎 We will download the `ner_posology_langtest` NER models and whitelist the labels that can be used as risk factor."
   ]
  },
  {
   "cell_type": "code",
   "execution_count": 13,
   "id": "9da75327-2079-49d8-94e3-59aa738c6e5f",
   "metadata": {
    "execution": {
     "iopub.execute_input": "2023-08-13T15:38:10.960300Z",
     "iopub.status.busy": "2023-08-13T15:38:10.959914Z",
     "iopub.status.idle": "2023-08-13T15:38:13.485168Z",
     "shell.execute_reply": "2023-08-13T15:38:13.484522Z",
     "shell.execute_reply.started": "2023-08-13T15:38:10.960284Z"
    },
    "tags": []
   },
   "outputs": [
    {
     "name": "stdout",
     "output_type": "stream",
     "text": [
      "ner_posology_langtest download started this may take some time.\n",
      "[ | ]ner_posology_langtest download started this may take some time.\n",
      "Approximate size to download 2.7 MB\n",
      "Download done! Loading the resource.\n",
      "[OK!]\n"
     ]
    }
   ],
   "source": [
    "ner_posology_entities = ['DRUG']\n",
    "\n",
    "# posology\n",
    "posology_ner = MedicalNerModel.pretrained(\"ner_posology_langtest\",\"en\",\"clinical/models\")\\\n",
    "    .setInputCols([\"sentence\",\"token\",\"embeddings\"])\\\n",
    "    .setOutputCol(\"ner_posology\")\\\n",
    "    .setLabelCasing('upper')\n",
    "\n",
    "posology_ner_converter = NerConverterInternal()\\\n",
    "    .setInputCols([\"sentence\",\"token\",\"ner_posology\"])\\\n",
    "    .setOutputCol(\"ner_posology_chunk\")\\\n",
    "    .setWhiteList(ner_posology_entities)"
   ]
  },
  {
   "cell_type": "markdown",
   "id": "d861aeab-39ba-49f9-9514-dbbbf15b22ee",
   "metadata": {},
   "source": [
    "🔎 We will download the `ner_deid_generic_augmented` NER models and whitelist the labels that can be used as risk factor."
   ]
  },
  {
   "cell_type": "code",
   "execution_count": 14,
   "id": "57ff86fa-019f-4cd5-865a-13596c17a640",
   "metadata": {
    "execution": {
     "iopub.execute_input": "2023-08-13T15:38:13.486103Z",
     "iopub.status.busy": "2023-08-13T15:38:13.485947Z",
     "iopub.status.idle": "2023-08-13T15:38:16.013404Z",
     "shell.execute_reply": "2023-08-13T15:38:16.012658Z",
     "shell.execute_reply.started": "2023-08-13T15:38:13.486088Z"
    },
    "tags": []
   },
   "outputs": [
    {
     "name": "stdout",
     "output_type": "stream",
     "text": [
      "ner_deid_generic_augmented download started this may take some time.\n",
      "[ | ]ner_deid_generic_augmented download started this may take some time.\n",
      "Approximate size to download 13.8 MB\n",
      "Download done! Loading the resource.\n",
      "[OK!]\n"
     ]
    }
   ],
   "source": [
    "ner_deid_entities = [\"PROFESSION\", \"AGE\"]\n",
    "\n",
    "# deidentification - Profession and Age labels only\n",
    "deid_ner = MedicalNerModel.pretrained(\"ner_deid_generic_augmented\",\"en\",\"clinical/models\")\\\n",
    "    .setInputCols([\"sentence\", \"token\",\"embeddings\"])\\\n",
    "    .setOutputCol(\"ner_deid\")\\\n",
    "    .setLabelCasing('upper')\n",
    "\n",
    "deid_ner_converter = NerConverterInternal()\\\n",
    "    .setInputCols([\"sentence\",\"token\",\"ner_deid\"])\\\n",
    "    .setOutputCol(\"ner_deid_chunk\")\\\n",
    "    .setWhiteList(ner_deid_entities)\n"
   ]
  },
  {
   "cell_type": "code",
   "execution_count": 15,
   "id": "b7a4cd80-3860-4929-8b4e-552615b920b5",
   "metadata": {
    "execution": {
     "iopub.execute_input": "2023-08-13T15:38:16.014176Z",
     "iopub.status.busy": "2023-08-13T15:38:16.014026Z",
     "iopub.status.idle": "2023-08-13T15:38:16.043172Z",
     "shell.execute_reply": "2023-08-13T15:38:16.042391Z",
     "shell.execute_reply.started": "2023-08-13T15:38:16.014161Z"
    },
    "tags": []
   },
   "outputs": [],
   "source": [
    "with open('replace_dict.csv', 'w') as f:\n",
    "    f.write(\"\"\"SMOKING,SMOKER\n",
    "CAD,DISEASE\n",
    "CEREBROVASCULAR_DISEASE,DISEASE\n",
    "DIABETES,DISEASE\n",
    "DISEASE_SYNDROME_DISORDER,DISEASE\n",
    "HEART_DISEASE,DISEASE\n",
    "HYPERLIPIDEMIA,DISEASE\n",
    "HYPERTENSION,DISEASE\n",
    "INJURY_OR_POISONING,DISEASE\n",
    "KIDNEY_DISEASE,DISEASE\n",
    "MENTAL_HEALTH,DISEASE\n",
    "OBESE,DISEASE\n",
    "OBESITY,DISEASE\n",
    "ONCOLOGICAL,DISEASE\n",
    "OTHER_DISEASE,DISEASE\n",
    "OVERWEIGHT,DISEASE\n",
    "EKG_FINDINGS,DISEASE\n",
    "IMAGINGFINDINGS,DISEASE\n",
    "VS_FINDING,DISEASE\n",
    "IMAGINGFINDINGS,DISEASE\n",
    "DRUG_INGREDIENT,DRUG\n",
    "DRUG_BRANDNAME,DRUG\n",
    "MEDICATION,DRUG\n",
    "SUBSTANCE_USE,SUBSTANCE\n",
    "EMPLOYMENT,PROFESSION\n",
    "MENTAL_HEALTH,PSYCHOLOGICAL_CONDITION\n",
    "PSYCHOLOGICALCONDITION,PSYCHOLOGICAL_CONDITION\n",
    "PROBLEM,DISEASE\n",
    "\"\"\")\n",
    "\n",
    "chunk_merger = ChunkMergeApproach()\\\n",
    "    .setInputCols(  \"ner_risks_chunk\", \"ner_sdoh_chunk\", \"ner_vop_chunk\", \"ner_posology_chunk\", \"ner_deid_chunk\",\"ner_jsl_chunk\",)\\\n",
    "    .setOutputCol('ner_chunk_merged')\\\n",
    "    .setOrderingFeatures([\"ChunkLength\"])\\\n",
    "    .setSelectionStrategy(\"DiverseLonger\")\\\n",
    "    .setReplaceDictResource('replace_dict.csv',\"text\", {\"delimiter\":\",\"})"
   ]
  },
  {
   "cell_type": "markdown",
   "id": "b1479287-add5-43ff-933d-703c1938bdb6",
   "metadata": {},
   "source": [
    "🔎 We will use ChunkFilterer for the filter meaningless chunk"
   ]
  },
  {
   "cell_type": "code",
   "execution_count": 16,
   "id": "d8900e59-9d15-45af-9475-334aade20170",
   "metadata": {
    "execution": {
     "iopub.execute_input": "2023-08-13T15:38:16.044294Z",
     "iopub.status.busy": "2023-08-13T15:38:16.043863Z",
     "iopub.status.idle": "2023-08-13T15:38:16.099928Z",
     "shell.execute_reply": "2023-08-13T15:38:16.099406Z",
     "shell.execute_reply.started": "2023-08-13T15:38:16.044277Z"
    },
    "tags": []
   },
   "outputs": [],
   "source": [
    "chunk_blacklist = [\"McDs\", \"the urge\", \"weed\", \"his smoking spot\", \"I miss\", \"super crazy\", \n",
    "                   \"many positive changes\",\"Anythoughts\", \"Wife's brain tumour\", \"too shy\", \n",
    "                   \"a misery\",\"would've\",\"genetic condition\",\"therapist\", \"therapists\", \n",
    "                   \"doctor\", \"doctors\", \"Doctors\",\"Dr\",  \"doc\", \"Doctor\", \"pyschiatrist\", \"psyc\",  \n",
    "                 \"psychologist\", \"psych\", \"&nbsp\", \"stupidest\", \"best jobs\", \"real doctor\", \n",
    "                   \"ER\", \"RAN\", \"EVER\", \"ER doctor\", \"Ran\", \"residents\", \"ghetto\", \"Army\", \n",
    "                 \"grandmama\", \"American Doctors\", \"grandpa\", \"HS diploma\", \"solo\", \"spycology\", \n",
    "                   \"pediatric psychiatrist\", \"computer shop\", \"pubs\", \"you‚Äôre fine now‚Äô\", \n",
    "                   \"psychiatrist\", \"army\", \"Sir\", \"Sorry officer\", \"dragon prince\", \"shoplift\",\n",
    "                   \"friend's house\", \"George\", \"pet George\", \"regular therapist\", \"surgeon\", \n",
    "                   \"pediatrician\", \"coworkers\", \"radiation technicians\", \"techs\", \"study nurse\", \n",
    "                   \"a cat\" ,\"problems\",\"Home Depot\",\"fall\",\"doesn't\",\"Mr Bean\", \"friend's\",\n",
    "                   \" tofu He's\",\"soy marinero\",\"Symptoms\", \"therapist\", \"therapists\", \"doctor\", \n",
    "                   \"doctors\", \"Doctors\",\"Dr\",  \"doc\", \"Doctor\",\"DOCTOR\", \"pyschiatrist\", \"psyc\",  \n",
    "                 \"psychologist\", \"psych\", \"phn\", \"stupidest\", \"dispo\",\"good job\",\"gp \",\"sniff\",\"grey\"\n",
    "                 \"real doctor\", \"gyno\", \"RAN\", \"EVER\", \"ER doctor\", \"Ran\", \"residents\", \"Army\", \n",
    "                 \"grandmama\", \"American Doctors\", \"grandpa\", \"HS diploma\", \"solo\", \"spycology\", \n",
    "                   \"pediatric psychiatrist\"\" gp\", \"pubs\", \"psychiatrist\", \"army\", \"lockdown,when\", \n",
    "                   \"Sorry officer\", \"working in my home\",\"shoplift\", \"friend's house\", \"George\", \n",
    "                   \"VPN\", \"regular therapist\", \"surgeon\", \"pediatrician\", \"granny\", \n",
    "                 \"lord\", \"metals testing lab\", \"PC\", \"movies\",\"crack\",\"gaming addiction\",\"spirits\",\n",
    "                   \"spotify\", \"S\", \"TED\"\n",
    "                ]\n",
    "\n",
    "chunk_filterer = ChunkFilterer()\\\n",
    "    .setInputCols(\"sentence\", \"ner_chunk_merged\")\\\n",
    "    .setOutputCol(\"ner_chunk\")\\\n",
    "    .setCriteria(\"isin\")\\\n",
    "    .setBlackList(chunk_blacklist)"
   ]
  },
  {
   "cell_type": "code",
   "execution_count": 17,
   "id": "14598121-ca97-4a6a-84e6-c281adf3536d",
   "metadata": {
    "execution": {
     "iopub.execute_input": "2023-08-13T15:38:16.100612Z",
     "iopub.status.busy": "2023-08-13T15:38:16.100472Z",
     "iopub.status.idle": "2023-08-13T15:38:18.693041Z",
     "shell.execute_reply": "2023-08-13T15:38:18.692572Z",
     "shell.execute_reply.started": "2023-08-13T15:38:16.100599Z"
    },
    "tags": []
   },
   "outputs": [
    {
     "name": "stdout",
     "output_type": "stream",
     "text": [
      "assertion_jsl_augmented download started this may take some time.\n",
      "[ | ]assertion_jsl_augmented download started this may take some time.\n",
      "Approximate size to download 6.2 MB\n",
      "Download done! Loading the resource.\n",
      "[OK!]\n"
     ]
    }
   ],
   "source": [
    "\n",
    "# Familiy Health History\n",
    "chunk_merger_disease = ChunkMergeApproach()\\\n",
    "    .setInputCols(\"ner_chunk\",)\\\n",
    "    .setOutputCol('ner_chunk_disease')\\\n",
    "    .setWhiteList([\"DISEASE\"])\n",
    "\n",
    "clinical_assertion_disease = AssertionDLModel.pretrained(\"assertion_jsl_augmented\", \"en\", \"clinical/models\") \\\n",
    "    .setInputCols([\"sentence\", \"ner_chunk_disease\", \"embeddings\"]) \\\n",
    "    .setOutputCol(\"assertion_disease\")\n",
    "\n",
    "assertion_filterer_disease = AssertionFilterer()\\\n",
    "    .setInputCols(\"sentence\",\"ner_chunk_disease\",\"assertion_disease\")\\\n",
    "    .setOutputCol(\"assertion_filtered_family\")\\\n",
    "    .setWhiteList([\"Family\"])\n"
   ]
  },
  {
   "cell_type": "code",
   "execution_count": 18,
   "id": "09d8f8fa-8fb0-4fca-aebe-bec5320bf9e7",
   "metadata": {
    "execution": {
     "iopub.execute_input": "2023-08-13T15:38:18.694094Z",
     "iopub.status.busy": "2023-08-13T15:38:18.693656Z",
     "iopub.status.idle": "2023-08-13T15:38:21.222986Z",
     "shell.execute_reply": "2023-08-13T15:38:21.222472Z",
     "shell.execute_reply.started": "2023-08-13T15:38:18.694078Z"
    },
    "tags": []
   },
   "outputs": [
    {
     "name": "stdout",
     "output_type": "stream",
     "text": [
      "assertion_jsl_augmented download started this may take some time.\n",
      "[OK!]\n"
     ]
    }
   ],
   "source": [
    "# Status of Alcohol, Tobacco and Substance Behaviours\n",
    "chunk_merger_behaviour = ChunkMergeApproach()\\\n",
    "    .setInputCols( \"ner_chunk\")\\\n",
    "    .setOutputCol('ner_chunk_behaviour')\\\n",
    "    .setWhiteList([\"ALCOHOL\", \"SUBSTANCE\", \"SMOKER\"])\n",
    "\n",
    "clinical_assertion_behaviour = AssertionDLModel.pretrained(\"assertion_jsl_augmented\", \"en\", \"clinical/models\") \\\n",
    "    .setInputCols([\"sentence\", \"ner_chunk_behaviour\", \"embeddings\"]) \\\n",
    "    .setOutputCol(\"assertion_behaviour\")\n",
    "\n",
    "assertion_filterer_behaviour = AssertionFilterer()\\\n",
    "    .setInputCols(\"sentence\",\"ner_chunk_behaviour\",\"assertion_behaviour\")\\\n",
    "    .setOutputCol(\"assertion_filtered_behaviour\")\\\n",
    "    .setWhiteList([\"Present\",\"Past\"])"
   ]
  },
  {
   "cell_type": "markdown",
   "id": "bb822145-02ef-42e8-bfcf-d5acd9363c6f",
   "metadata": {},
   "source": [
    "### pipeline"
   ]
  },
  {
   "cell_type": "code",
   "execution_count": 19,
   "id": "e43b4ce7-cd3b-4920-9da7-71d8e83f856e",
   "metadata": {
    "execution": {
     "iopub.execute_input": "2023-08-13T15:38:21.223753Z",
     "iopub.status.busy": "2023-08-13T15:38:21.223595Z",
     "iopub.status.idle": "2023-08-13T15:38:24.111079Z",
     "shell.execute_reply": "2023-08-13T15:38:24.110486Z",
     "shell.execute_reply.started": "2023-08-13T15:38:21.223738Z"
    },
    "tags": []
   },
   "outputs": [],
   "source": [
    "ner_pipeline = Pipeline(stages=[\n",
    "    documentAssembler,\n",
    "    sentenceDetector,\n",
    "    tokenizer,\n",
    "    word_embeddings,\n",
    "    risk_factors_ner,\n",
    "    risk_factors_ner_converter,\n",
    "    jsl_ner,\n",
    "    jsl_ner_converter,\n",
    "    sdoh_ner,\n",
    "    sdoh_ner_converter,\n",
    "    vop_ner,\n",
    "    vop_ner_converter,\n",
    "    posology_ner,\n",
    "    posology_ner_converter,\n",
    "    deid_ner,\n",
    "    deid_ner_converter,\n",
    "    \n",
    "    chunk_merger,\n",
    "    chunk_filterer,\n",
    "    \n",
    "#   chunk_merger_disease,\n",
    "#   clinical_assertion_disease,\n",
    "#   assertion_filterer_disease,\n",
    "#   \n",
    "#   chunk_merger_behaviour,\n",
    "#   clinical_assertion_behaviour,\n",
    "#   assertion_filterer_behaviour\n",
    "])\n",
    "\n",
    "pipeline_model = ner_pipeline.fit(spark.createDataFrame([[\"\"]]).toDF(\"text\"))\n",
    "\n",
    "result = pipeline_model.transform(df).cache()"
   ]
  },
  {
   "cell_type": "code",
   "execution_count": 20,
   "id": "d5306c02-7743-4cab-ac88-68850dc41b6d",
   "metadata": {
    "execution": {
     "iopub.execute_input": "2023-08-13T15:38:24.112373Z",
     "iopub.status.busy": "2023-08-13T15:38:24.111806Z",
     "iopub.status.idle": "2023-08-13T15:38:28.621088Z",
     "shell.execute_reply": "2023-08-13T15:38:28.620630Z",
     "shell.execute_reply.started": "2023-08-13T15:38:24.112355Z"
    },
    "tags": []
   },
   "outputs": [
    {
     "name": "stderr",
     "output_type": "stream",
     "text": [
      "                                                                                \r"
     ]
    },
    {
     "data": {
      "text/html": [
       "\n",
       "<style>\n",
       "    @import url('https://fonts.googleapis.com/css2?family=Montserrat:wght@300;400;500;600;700&display=swap');\n",
       "    @import url('https://fonts.googleapis.com/css2?family=Vistol Regular:wght@300;400;500;600;700&display=swap');\n",
       "    \n",
       "    .spark-nlp-display-scroll-entities {\n",
       "        border: 1px solid #E7EDF0;\n",
       "        border-radius: 3px;\n",
       "        text-align: justify;\n",
       "        \n",
       "    }\n",
       "    .spark-nlp-display-scroll-entities span {  \n",
       "        font-size: 14px;\n",
       "        line-height: 24px;\n",
       "        color: #536B76;\n",
       "        font-family: 'Montserrat', sans-serif !important;\n",
       "    }\n",
       "    \n",
       "    .spark-nlp-display-entity-wrapper{\n",
       "    \n",
       "        display: inline-grid;\n",
       "        text-align: center;\n",
       "        border-radius: 4px;\n",
       "        margin: 0 2px 5px 2px;\n",
       "        padding: 1px\n",
       "    }\n",
       "    .spark-nlp-display-entity-name{\n",
       "        font-size: 14px;\n",
       "        line-height: 24px;\n",
       "        font-family: 'Montserrat', sans-serif !important;\n",
       "        \n",
       "        background: #f1f2f3;\n",
       "        border-width: medium;\n",
       "        text-align: center;\n",
       "        \n",
       "        font-weight: 400;\n",
       "        \n",
       "        border-radius: 5px;\n",
       "        padding: 2px 5px;\n",
       "        display: block;\n",
       "        margin: 3px 2px;\n",
       "    \n",
       "    }\n",
       "    .spark-nlp-display-entity-type{\n",
       "        font-size: 14px;\n",
       "        line-height: 24px;\n",
       "        color: #ffffff;\n",
       "        font-family: 'Montserrat', sans-serif !important;\n",
       "        \n",
       "        text-transform: uppercase;\n",
       "        \n",
       "        font-weight: 500;\n",
       "\n",
       "        display: block;\n",
       "        padding: 3px 5px;\n",
       "    }\n",
       "    \n",
       "    .spark-nlp-display-entity-resolution{\n",
       "        font-size: 14px;\n",
       "        line-height: 24px;\n",
       "        color: #ffffff;\n",
       "        font-family: 'Vistol Regular', sans-serif !important;\n",
       "        \n",
       "        text-transform: uppercase;\n",
       "        \n",
       "        font-weight: 500;\n",
       "\n",
       "        display: block;\n",
       "        padding: 3px 5px;\n",
       "    }\n",
       "    \n",
       "    .spark-nlp-display-others{\n",
       "        font-size: 14px;\n",
       "        line-height: 24px;\n",
       "        font-family: 'Montserrat', sans-serif !important;\n",
       "        \n",
       "        font-weight: 400;\n",
       "    }\n",
       "\n",
       "</style>\n",
       " <span class=\"spark-nlp-display-others\" style=\"background-color: white\">'I was non-stop Juuling up a storm': </span><span class=\"spark-nlp-display-entity-wrapper\" style=\"background-color: #ffe0ac\"><span class=\"spark-nlp-display-entity-name\">10 </span><span class=\"spark-nlp-display-entity-type\">AGE</span></span><span class=\"spark-nlp-display-others\" style=\"background-color: white\"> </span><span class=\"spark-nlp-display-entity-wrapper\" style=\"background-color: #2594BE\"><span class=\"spark-nlp-display-entity-name\">college students </span><span class=\"spark-nlp-display-entity-type\">EDUCATION</span></span><span class=\"spark-nlp-display-others\" style=\"background-color: white\"> on their </span><span class=\"spark-nlp-display-entity-wrapper\" style=\"background-color: #9C3C13\"><span class=\"spark-nlp-display-entity-name\">vaping </span><span class=\"spark-nlp-display-entity-type\">SUBSTANCE</span></span><span class=\"spark-nlp-display-others\" style=\"background-color: white\"> </span><span class=\"spark-nlp-display-entity-wrapper\" style=\"background-color: #BE935B\"><span class=\"spark-nlp-display-entity-name\">addictions </span><span class=\"spark-nlp-display-entity-type\">PSYCHOLOGICAL_CONDITION</span></span><span class=\"spark-nlp-display-others\" style=\"background-color: white\"> </span></div>"
      ],
      "text/plain": [
       "<IPython.core.display.HTML object>"
      ]
     },
     "metadata": {},
     "output_type": "display_data"
    }
   ],
   "source": [
    "from sparknlp_display import NerVisualizer\n",
    "from IPython.display import display, HTML\n",
    "\n",
    "lmodel= LightPipeline(pipeline_model)\n",
    "\n",
    "light_result = lmodel.fullAnnotate(df.select(\"text\").take(20)[4][\"text\"])\n",
    "\n",
    "visualiser = NerVisualizer()\n",
    "ner_vis = visualiser.display(light_result[0], label_col='ner_chunk', document_col='document', return_html=True)\n",
    "display(HTML(ner_vis))"
   ]
  },
  {
   "cell_type": "code",
   "execution_count": null,
   "id": "ff2d41b0-794b-46fa-90fb-71d7a3adc05c",
   "metadata": {},
   "outputs": [],
   "source": []
  },
  {
   "cell_type": "code",
   "execution_count": null,
   "id": "cacf3017-d33e-4c34-a291-fcce88db56cf",
   "metadata": {},
   "outputs": [],
   "source": []
  },
  {
   "cell_type": "code",
   "execution_count": null,
   "id": "11bc5ac0-718b-4095-8c97-458d92ea26da",
   "metadata": {
    "execution": {
     "iopub.execute_input": "2023-08-13T14:57:09.285694Z",
     "iopub.status.busy": "2023-08-13T14:57:09.285259Z"
    },
    "tags": []
   },
   "outputs": [
    {
     "name": "stderr",
     "output_type": "stream",
     "text": [
      "[Stage 38:========>                                               (5 + 27) / 32]\r"
     ]
    }
   ],
   "source": [
    "ASSERTION_BEHAVIOUR = result.select(\"text_id\",\"text\",\"gender\" ,\n",
    "                          F.explode(F.arrays_zip(result.assertion_filtered_behaviour.result,\n",
    "                                                 result.assertion_filtered_behaviour.metadata)).alias(\"cols\"))\\\n",
    "                 .select(\"text_id\",\"text\",\"gender\" ,\n",
    "                          F.expr(\"cols['0']\").alias(\"ner_chunk\"),\n",
    "                          F.expr(\"cols['1']['entity']\").alias(\"entity\"),\n",
    "                          F.expr(\"cols['1']['assertion']\").alias(\"ASSERTION_BEHAVIOUR\")).toPandas()\n",
    "\n",
    "ASSERTION_BEHAVIOUR.to_csv(\"ASSERTION_BEHAVIOUR.csv\",index=False)"
   ]
  },
  {
   "cell_type": "code",
   "execution_count": null,
   "id": "8b12ae8f-a257-4174-9016-fdd470897678",
   "metadata": {
    "tags": []
   },
   "outputs": [],
   "source": [
    "ASSERTION_DISEASE = result.select(\"text_id\",\"text\",\"gender\" ,\n",
    "                          F.explode(F.arrays_zip(result.assertion_filtered_family.result,\n",
    "                                                 result.assertion_filtered_family.metadata)).alias(\"cols\"))\\\n",
    "                 .select(\"text_id\",\"text\",\"gender\" ,\n",
    "                          F.expr(\"cols['0']\").alias(\"ner_chunk\"),\n",
    "                          F.expr(\"cols['1']['entity']\").alias(\"entity\"),\n",
    "                          F.expr(\"cols['1']['assertion']\").alias(\"ASSERTION_DISEASE\")).toPandas()\n",
    "\n",
    "ASSERTION_DISEASE.to_csv(\"ASSERTION_DISEASE.csv\",index=False)"
   ]
  },
  {
   "cell_type": "code",
   "execution_count": null,
   "id": "ebb4e0b7-cb02-4602-80a3-2e98bd68d2ff",
   "metadata": {
    "tags": []
   },
   "outputs": [],
   "source": [
    "result_pd = result.select(\"text_id\",\"text\",\"gender\" ,\n",
    "                          F.explode(F.arrays_zip(result.ner_chunk.result,\n",
    "                                                 result.ner_chunk.metadata)).alias(\"cols\"))\\\n",
    "                 .select(\"text_id\",\"text\",\"gender\" ,\n",
    "                          F.expr(\"cols['0']\").alias(\"ner_chunk\"),\n",
    "                          F.expr(\"cols['1']['entity']\").alias(\"entity\")).toPandas()\n",
    "\n",
    "result_pd.to_csv(\"result_pd.csv\",index=False)\n",
    "\n",
    "result_pd.tail()"
   ]
  },
  {
   "cell_type": "code",
   "execution_count": null,
   "id": "25ee76b1-be8b-4f60-bf03-6b007765030c",
   "metadata": {
    "tags": []
   },
   "outputs": [],
   "source": [
    "import pandas as pd\n",
    "pd.set_option('display.max_columns', None)\n",
    "\n",
    "result_pd = pd.read_csv(\"result_pd.csv\")\n",
    "\n",
    "#result_pd = result_pd.join(data, on=[\"text_id\"], how=\"left\",rsuffix = \"_r\").drop(\"text_id_r\",axis=1)\n",
    "\n",
    "#result_pd = result_pd[[\"text_id\",\"text\",\"gender\",\"ner_chunk\",\"entity\"]]\n",
    "\n",
    "result_pd"
   ]
  },
  {
   "cell_type": "code",
   "execution_count": null,
   "id": "29050269-ba24-4b8b-b9fe-b490a06d3ddc",
   "metadata": {
    "tags": []
   },
   "outputs": [],
   "source": [
    "result_pd.entity.value_counts()"
   ]
  },
  {
   "cell_type": "code",
   "execution_count": null,
   "id": "9a0c56e3-c200-400c-bad6-86bad69da647",
   "metadata": {
    "tags": []
   },
   "outputs": [],
   "source": [
    "result_pd.columns"
   ]
  },
  {
   "cell_type": "code",
   "execution_count": null,
   "id": "f03a6107-f717-4357-86d4-439180a8a323",
   "metadata": {
    "tags": []
   },
   "outputs": [],
   "source": [
    "# Group by 'text' and 'entity' columns, then aggregate 'ner_chunk' into lists\n",
    "result_df_slim = result_pd.groupby(['text_id', 'text',\"gender\",'entity'])['ner_chunk'].apply(list).reset_index()\n",
    "\n",
    "# Pivot the DataFrame\n",
    "result_pivot = result_df_slim.pivot(['text_id', 'text',\"gender\" ], columns='entity', values='ner_chunk')\n",
    "\n",
    "# Fill NaN values with placeholder\n",
    "result_pivot.fillna(value=\"\", inplace=True) # value=\"placeholder\"\n",
    "\n",
    "# Replace placeholders with empty lists\n",
    "# result_pivot = result_pivot.applymap(lambda x: \"\" if x == \"placeholder\" else x)\n",
    "\n",
    "# Reset index to make 'text' a regular column\n",
    "result_pivot.reset_index(inplace=True)\n",
    "result_pivot = result_pivot.replace(\"Unknown\",\"\")\n",
    "result_pivot.tail(3)"
   ]
  },
  {
   "cell_type": "markdown",
   "id": "43cb8861-cb9f-4789-96b0-32d042154dd7",
   "metadata": {},
   "source": [
    "## Coorelation Table"
   ]
  },
  {
   "cell_type": "code",
   "execution_count": null,
   "id": "5b1e25b0-0f90-44d1-b84b-71ec94b1155a",
   "metadata": {
    "tags": []
   },
   "outputs": [],
   "source": [
    "corr = pd.DataFrame(columns=result_pivot.columns[2:], index=result_pivot.columns[2:])\n",
    "for col_left in result_pivot.columns[2:]:\n",
    "    #print(col_left)\n",
    "    for col_right in result_pivot.columns[2:]:\n",
    "        corr.loc[col_left ,col_right ] = len(result_pivot[(result_pivot[col_left]!=\"\") & (result_pivot[col_right]!=\"\")])\n",
    "        \n",
    "corr.columns.name=None\n",
    "corr.index.name=None\n",
    "\n",
    "corr.to_csv(\"corr_table.csv\")\n",
    "\n",
    "corr"
   ]
  },
  {
   "cell_type": "code",
   "execution_count": null,
   "id": "53a756a8-81e4-40c0-a7d7-7acdaaad7222",
   "metadata": {
    "tags": []
   },
   "outputs": [],
   "source": [
    "for i, row in corr.iterrows():\n",
    "    print(i)\n",
    "    print(corr.loc[i].sort_values(ascending=False)[:10])\n",
    "    print(\"\\n\\n\\n\")\n",
    "    "
   ]
  },
  {
   "cell_type": "code",
   "execution_count": null,
   "id": "edd20ecf-8671-473c-84b2-4f0a9afdd41b",
   "metadata": {
    "tags": []
   },
   "outputs": [],
   "source": [
    "def plot_bar_graph(main_df: pd.DataFrame, col1: str, col2: str, replacement_dict: dict, min_count: int = 3) -> None:\n",
    "    \n",
    "    df = main_df.copy()\n",
    "\n",
    "    # Replacing empty lists with NaNs\n",
    "    df = df[[col1, col2]].applymap(lambda x: np.nan if x == \"\" else x)\n",
    "\n",
    "    # If the column data is string representation of list, convert to list\n",
    "    df[col1] = df[col1].apply(lambda x: literal_eval(x) if x == np.nan else x)\n",
    "    df[col2] = df[col2].apply(lambda x: literal_eval(x) if x == np.nan else x)\n",
    "\n",
    "    # Check if any value in the columns is a boolean and convert to string if so\n",
    "    if df[col1].apply(isinstance, args=(bool,)).any():\n",
    "        df[col1] = df[col1].astype(str)\n",
    "    if df[col2].apply(isinstance, args=(bool,)).any():\n",
    "        df[col2] = df[col2].astype(str)\n",
    "        \n",
    "    \n",
    "    # Filtering the dataframe for rows that contain both column 1 and column 2 elements\n",
    "    df_filtered = df[(df[col1].apply(lambda x: len(x) if isinstance(x, list) else 0) > 0) & \n",
    "                     (df[col2].apply(lambda x: len(x) if isinstance(x, list) else 0) > 0)]\n",
    "\n",
    "    # Applying the replacement mapping\n",
    "    df_filtered[col1] = df_filtered[col1].apply(lambda lst: [replacement_dict.get(item, item) for item in lst])\n",
    "    df_filtered[col2] = df_filtered[col2].apply(lambda lst: [replacement_dict.get(item, item) for item in lst])\n",
    "\n",
    "    # Getting the top 5 elements from column 1\n",
    "    col1_counts = Counter([item for sublist in df_filtered[col1] for item in sublist])\n",
    "    top_5_col1 = [item for item, _ in col1_counts.most_common(3)]\n",
    "\n",
    "    # Creating a dictionary to hold co-occurrence counts\n",
    "    co_occurrences = {}\n",
    "    for _, row in df_filtered.iterrows():\n",
    "        for col1_item in row[col1]:\n",
    "            if col1_item in top_5_col1:\n",
    "                for col2_item in row[col2]:\n",
    "                    co_occurrences.setdefault(col1_item, {}).setdefault(col2_item, 0)\n",
    "                    co_occurrences[col1_item][col2_item] += 1\n",
    "\n",
    "    # Get the top 5 most common co-occurrences\n",
    "    co_occurrences_most_common = []\n",
    "    for col1_item, sub_dict in co_occurrences.items():\n",
    "        co_occurrences_most_common.extend([(col1_item, col2_item, count) for col2_item, count in Counter(sub_dict).most_common(3)])\n",
    "\n",
    "    # Sort the co-occurrences by count\n",
    "    co_occurrences_most_common.sort(key=lambda x: x[2], reverse=True)\n",
    "\n",
    "     # Filter out co-occurrences with a count less than min_count\n",
    "    co_occurrences_most_common = [item for item in co_occurrences_most_common if item[2] >= min_count]\n",
    "\n",
    "    # Creating the bar plot\n",
    "    labels = [f\"{item[0]} - {item[1]}\" for item in co_occurrences_most_common]\n",
    "    counts = [item[2] for item in co_occurrences_most_common]\n",
    "\n",
    "    plt.figure(figsize=(11, 7))\n",
    "    plt.barh(labels, counts, color='skyblue')\n",
    "    plt.xlabel(\"Count\")\n",
    "    plt.ylabel(\"Co-occurrences\")\n",
    "    plt.title(\"Top co-occurrences in data\")\n",
    "    plt.gca().invert_yaxis()  # reverse the order of the y-axis\n",
    "    plt.show()"
   ]
  },
  {
   "cell_type": "code",
   "execution_count": null,
   "id": "c758c848-7e92-43c6-b925-10c762ec9291",
   "metadata": {
    "tags": []
   },
   "outputs": [],
   "source": [
    "# Replacement dictionary\n",
    "replacement_dict = {\n",
    "        'drink': 'drink',\n",
    "        'Drinking': 'drink',\n",
    "        'drank': 'drink',\n",
    "        'drinks': 'drink',\n",
    "        'drunk': 'drink',\n",
    "        'drink coffee' : \"coffee\",\n",
    "        'drinking': 'drink',\n",
    "        \"drinkers\" : \"drink\",\n",
    "        'Alcohol': 'alcohol',\n",
    "        \"Alcohol's\": 'alcohol',\n",
    "        \"alcoholic\" : 'alcohol',\n",
    "        \"alcoholics\" : 'alcohol',\n",
    "        \"beer\" : 'alcohol',\n",
    "        'Cancer': 'cancer',\n",
    "        'cancer.': 'cancer',\n",
    "        \"Cancer's\": 'cancer',\n",
    "        \"my depresion\": \"depresion\",\n",
    "        \"Addiction\" : \"addiction\",\n",
    "        \"addictions\" : \"addiction\",\n",
    "        \"addicted\" : \"addiction\",\n",
    "        \"kids\" : \"kids\",\n",
    "        \"doctors\" : \"doctor\",\n",
    "        \"Officer\" : \"officer\",\n",
    "        \"class teacher\": \"teacher\",\n",
    "        \"teachers\": \"teacher\",\n",
    "        \"Cop\" : \"police officer\",\n",
    "        \"smoke\": \"smoking\",\n",
    "        \"smokers\": \"smoking\"\n",
    "    }"
   ]
  },
  {
   "cell_type": "code",
   "execution_count": null,
   "id": "28ac7c0a-be5c-4b84-9bf2-af220c48fc0a",
   "metadata": {
    "tags": []
   },
   "outputs": [],
   "source": [
    "import numpy as np"
   ]
  }
 ],
 "metadata": {
  "kernelspec": {
   "display_name": "cabir-ds",
   "language": "python",
   "name": "cabir-ds"
  },
  "language_info": {
   "codemirror_mode": {
    "name": "ipython",
    "version": 3
   },
   "file_extension": ".py",
   "mimetype": "text/x-python",
   "name": "python",
   "nbconvert_exporter": "python",
   "pygments_lexer": "ipython3",
   "version": "3.10.9"
  }
 },
 "nbformat": 4,
 "nbformat_minor": 5
}

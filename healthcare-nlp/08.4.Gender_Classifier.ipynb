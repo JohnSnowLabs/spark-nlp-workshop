{
  "cells": [
    {
      "cell_type": "markdown",
      "metadata": {
        "id": "I08sFJYCxR0Z"
      },
      "source": [
        "![JohnSnowLabs](https://nlp.johnsnowlabs.com/assets/images/logo.png)"
      ]
    },
    {
      "cell_type": "markdown",
      "metadata": {
        "id": "FwJ-P56kq6FU"
      },
      "source": [
        "[![Open In Colab](https://colab.research.google.com/assets/colab-badge.svg)](https://colab.research.google.com/github/JohnSnowLabs/spark-nlp-workshop/blob/master/healthcare-nlp/08.4.Gender_Classifier.ipynb)"
      ]
    },
    {
      "cell_type": "markdown",
      "metadata": {
        "id": "Niy3mZAjoayg"
      },
      "source": [
        "# Gender Classifier"
      ]
    },
    {
      "cell_type": "markdown",
      "metadata": {
        "id": "rTVcwSuUjnrP"
      },
      "source": [
        "**Gender Classifier** detects the gender of the patient in the clinical document.\n",
        "It can  classify the documents into `Female`, `Male` and `Unknown`.\n",
        "\n",
        "\n",
        "-'**Classifierdl_gender_sbert**' (works with licensed `sbiobert_base_cased_mli`)\n",
        "\n",
        "It has been trained on more than four thousands clinical documents (radiology reports, pathology reports, clinical visits etc.) which were annotated internally."
      ]
    },
    {
      "cell_type": "markdown",
      "metadata": {
        "id": "6KqnbjvcFRc1"
      },
      "source": [
        "## Healthcare NLP for Data Scientists Course\n",
        "\n",
        "If you are not familiar with the components in this notebook, you can check [Healthcare NLP for Data Scientists Udemy Course](https://www.udemy.com/course/healthcare-nlp-for-data-scientists/) and the [MOOC Notebooks](https://github.com/JohnSnowLabs/spark-nlp-workshop/tree/master/Spark_NLP_Udemy_MOOC/Healthcare_NLP) for each components."
      ]
    },
    {
      "cell_type": "markdown",
      "metadata": {
        "id": "okhT7AcXxben"
      },
      "source": [
        "## Colab Setup"
      ]
    },
    {
      "cell_type": "code",
      "execution_count": null,
      "metadata": {
        "id": "ELqzaf32MT6E"
      },
      "outputs": [],
      "source": [
        "# Install the johnsnowlabs library to access Spark-OCR and Spark-NLP for Healthcare, Finance, and Legal.\n",
        "! pip install -q johnsnowlabs==5.3.4"
      ]
    },
    {
      "cell_type": "code",
      "execution_count": null,
      "metadata": {
        "id": "RO2dIA414yL_"
      },
      "outputs": [],
      "source": [
        "from google.colab import files\n",
        "print('Please Upload your John Snow Labs License using the button below')\n",
        "license_keys = files.upload()"
      ]
    },
    {
      "cell_type": "code",
      "execution_count": null,
      "metadata": {
        "id": "dmcB5zVBHZO8"
      },
      "outputs": [],
      "source": [
        "from johnsnowlabs import nlp, medical\n",
        "\n",
        "# After uploading your license run this to install all licensed Python Wheels and pre-download Jars the Spark Session JVM\n",
        "nlp.install()"
      ]
    },
    {
      "cell_type": "markdown",
      "metadata": {
        "id": "r-SjFOLP-6jS"
      },
      "source": [
        "# Start Spark Session"
      ]
    },
    {
      "cell_type": "code",
      "execution_count": null,
      "metadata": {
        "id": "lQ8-BI-_5QjG"
      },
      "outputs": [],
      "source": [
        "from johnsnowlabs import nlp, medical\n",
        "\n",
        "# Automatically load license data and start a session with all jars user has access to\n",
        "spark = nlp.start()"
      ]
    },
    {
      "cell_type": "code",
      "execution_count": 5,
      "metadata": {
        "colab": {
          "base_uri": "https://localhost:8080/",
          "height": 222
        },
        "id": "Ul-JU5AUJ7Y5",
        "outputId": "5cec4183-89f7-4512-afa6-b35c52a53094"
      },
      "outputs": [
        {
          "output_type": "execute_result",
          "data": {
            "text/plain": [
              "<pyspark.sql.session.SparkSession at 0x7f267859ade0>"
            ],
            "text/html": [
              "\n",
              "            <div>\n",
              "                <p><b>SparkSession - in-memory</b></p>\n",
              "                \n",
              "        <div>\n",
              "            <p><b>SparkContext</b></p>\n",
              "\n",
              "            <p><a href=\"http://09147a5438fd:4040\">Spark UI</a></p>\n",
              "\n",
              "            <dl>\n",
              "              <dt>Version</dt>\n",
              "                <dd><code>v3.4.0</code></dd>\n",
              "              <dt>Master</dt>\n",
              "                <dd><code>local[*]</code></dd>\n",
              "              <dt>AppName</dt>\n",
              "                <dd><code>John-Snow-Labs-Spark-Session 🚀 with Jars for: 🚀Spark-NLP==5.3.1, 💊Spark-Healthcare==5.3.1, running on ⚡ PySpark==3.4.0</code></dd>\n",
              "            </dl>\n",
              "        </div>\n",
              "        \n",
              "            </div>\n",
              "        "
            ]
          },
          "metadata": {},
          "execution_count": 5
        }
      ],
      "source": [
        "spark"
      ]
    },
    {
      "cell_type": "markdown",
      "metadata": {
        "id": "AMU4sAJQ0Rhs"
      },
      "source": [
        "\n",
        "\n",
        "# Gender Classifier Pipeline with **sbert**"
      ]
    },
    {
      "cell_type": "code",
      "source": [
        "document = nlp.DocumentAssembler() \\\n",
        "    .setInputCol(\"text\") \\\n",
        "    .setOutputCol(\"document\")\n",
        "\n",
        "sbert_embedder = nlp.BertSentenceEmbeddings() \\\n",
        "    .pretrained(\"sbiobert_base_cased_mli\", \"en\", \"clinical/models\") \\\n",
        "    .setInputCols([\"document\"]) \\\n",
        "    .setOutputCol(\"sentence_embeddings\") \\\n",
        "    .setMaxSentenceLength(512)\n",
        "\n",
        "gender_classifier = nlp.ClassifierDLModel \\\n",
        "    .pretrained(\"classifierdl_gender_sbert\", \"en\", \"clinical/models\") \\\n",
        "    .setInputCols([\"sentence_embeddings\"]) \\\n",
        "    .setOutputCol(\"class\")\n",
        "\n",
        "pipeline = nlp.Pipeline(stages=[\n",
        "    document,\n",
        "    sbert_embedder,\n",
        "    gender_classifier\n",
        "])\n",
        "\n",
        "model = pipeline.fit(spark.createDataFrame([[\"\"]]).toDF(\"text\"))\n",
        "gender_pipeline_sbert = nlp.LightPipeline(model)\n"
      ],
      "metadata": {
        "id": "20Go-3MDHWBX",
        "outputId": "156ae37d-f418-4248-e512-d0f258969a10",
        "colab": {
          "base_uri": "https://localhost:8080/"
        }
      },
      "execution_count": 11,
      "outputs": [
        {
          "output_type": "stream",
          "name": "stdout",
          "text": [
            "sbiobert_base_cased_mli download started this may take some time.\n",
            "Approximate size to download 384.3 MB\n",
            "[OK!]\n",
            "classifierdl_gender_sbert download started this may take some time.\n",
            "Approximate size to download 22.2 MB\n",
            "[OK!]\n"
          ]
        }
      ]
    },
    {
      "cell_type": "markdown",
      "metadata": {
        "id": "IUThl3_J9dqn"
      },
      "source": [
        "### Sample Clinical Notes"
      ]
    },
    {
      "cell_type": "code",
      "execution_count": 12,
      "metadata": {
        "colab": {
          "base_uri": "https://localhost:8080/",
          "height": 36
        },
        "id": "vJCI7fZf9-2g",
        "outputId": "58b67829-ecc9-43f6-a8dc-444eb8e48d9f"
      },
      "outputs": [
        {
          "output_type": "execute_result",
          "data": {
            "text/plain": [
              "'Female'"
            ],
            "application/vnd.google.colaboratory.intrinsic+json": {
              "type": "string"
            }
          },
          "metadata": {},
          "execution_count": 12
        }
      ],
      "source": [
        "text1 = '''social history: shows that  does not smoke cigarettes or drink alcohol,lives in a nursing home.\n",
        "family history: shows a family history of breast cancer.'''\n",
        "\n",
        "result = gender_pipeline_sbert.annotate(text1)\n",
        "\n",
        "result['class'][0]"
      ]
    },
    {
      "cell_type": "code",
      "execution_count": 13,
      "metadata": {
        "colab": {
          "base_uri": "https://localhost:8080/",
          "height": 36
        },
        "id": "hNbN8ZfPDwbm",
        "outputId": "84c0b8fc-e351-425f-e04f-a6ff093efd8d"
      },
      "outputs": [
        {
          "output_type": "execute_result",
          "data": {
            "text/plain": [
              "'Unknown'"
            ],
            "application/vnd.google.colaboratory.intrinsic+json": {
              "type": "string"
            }
          },
          "metadata": {},
          "execution_count": 13
        }
      ],
      "source": [
        "text2 = '''The patient is a 48- year-old, with severe mitral stenosis diagnosed by echocardiography, moderate\n",
        " aortic insufficiency and moderate to severe pulmonary hypertension who is being evaluated as a part of a preoperative\n",
        " workup for mitral and possible aortic valve repair or replacement.'''\n",
        "\n",
        "result = gender_pipeline_sbert.annotate(text2)\n",
        "\n",
        "result['class'][0]"
      ]
    },
    {
      "cell_type": "code",
      "execution_count": 14,
      "metadata": {
        "colab": {
          "base_uri": "https://localhost:8080/",
          "height": 36
        },
        "id": "Y7AOPrQHDy6D",
        "outputId": "501b2e4b-54f2-44e7-8070-bf8f350f9875"
      },
      "outputs": [
        {
          "output_type": "execute_result",
          "data": {
            "text/plain": [
              "'Female'"
            ],
            "application/vnd.google.colaboratory.intrinsic+json": {
              "type": "string"
            }
          },
          "metadata": {},
          "execution_count": 14
        }
      ],
      "source": [
        "text3 = '''HISTORY: The patient is a 57-year-old XX, who I initially saw in the office on 12/27/07, as a referral from the Tomball Breast Center.\n",
        "On 12/21/07, the patient underwent image-guided needle core biopsy of a 1.5 cm lesion at the 7 o'clock position of the left breast (inferomedial).\n",
        "The biopsy returned showing infiltrating ductal carcinoma high histologic grade.\n",
        "The patient stated that xx had recently felt and her physician had felt a palpable mass in that area prior to her breast imaging.'''\n",
        "\n",
        "result = gender_pipeline_sbert.annotate(text3)\n",
        "\n",
        "result['class'][0]"
      ]
    },
    {
      "cell_type": "code",
      "execution_count": 15,
      "metadata": {
        "colab": {
          "base_uri": "https://localhost:8080/",
          "height": 36
        },
        "id": "woMCJpo2Dywt",
        "outputId": "ce801948-8f10-480f-f80a-3faa0c690dd8"
      },
      "outputs": [
        {
          "output_type": "execute_result",
          "data": {
            "text/plain": [
              "'Unknown'"
            ],
            "application/vnd.google.colaboratory.intrinsic+json": {
              "type": "string"
            }
          },
          "metadata": {},
          "execution_count": 15
        }
      ],
      "source": [
        "text4 = '''The patient states that xx has been overweight for approximately 35 years and has tried multiple weight loss modalities in\n",
        "the past including Weight Watchers, NutriSystem, Jenny Craig, TOPS, cabbage diet, grape fruit diet, Slim-Fast, Richard Simmons,\n",
        "as well as over-the-counter  measures without any long-term sustainable weight loss.\n",
        "At the time of presentation to the practice, xx is 5 feet 6 inches tall with a weight of 285.4 pounds and a body mass index of 46.\n",
        "xx has obesity-related comorbidities, which includes hypertension and hypercholesterolemia.'''\n",
        "\n",
        "result = gender_pipeline_sbert.annotate(text4)\n",
        "\n",
        "result['class'][0]"
      ]
    },
    {
      "cell_type": "code",
      "execution_count": 16,
      "metadata": {
        "colab": {
          "base_uri": "https://localhost:8080/",
          "height": 36
        },
        "id": "lPVx1V9gsW72",
        "outputId": "97414c27-a6b5-410b-ee97-ea8fec20a9d4"
      },
      "outputs": [
        {
          "output_type": "execute_result",
          "data": {
            "text/plain": [
              "'Male'"
            ],
            "application/vnd.google.colaboratory.intrinsic+json": {
              "type": "string"
            }
          },
          "metadata": {},
          "execution_count": 16
        }
      ],
      "source": [
        "text5 = '''Prostate gland showing moderately differentiated infiltrating adenocarcinoma,\n",
        "Gleason 3 + 2 extending to the apex involving both lobes of the prostate, mainly right.'''\n",
        "\n",
        "result = gender_pipeline_sbert.annotate(text5)\n",
        "\n",
        "result['class'][0]"
      ]
    },
    {
      "cell_type": "code",
      "execution_count": 17,
      "metadata": {
        "colab": {
          "base_uri": "https://localhost:8080/",
          "height": 36
        },
        "id": "llLVssxnEpmI",
        "outputId": "0b7849b7-aa63-4ba9-9076-11d407f5c8e9"
      },
      "outputs": [
        {
          "output_type": "execute_result",
          "data": {
            "text/plain": [
              "'Male'"
            ],
            "application/vnd.google.colaboratory.intrinsic+json": {
              "type": "string"
            }
          },
          "metadata": {},
          "execution_count": 17
        }
      ],
      "source": [
        "text6 = '''SKIN: The patient has significant subcutaneous emphysema of the upper chest and\n",
        "anterior neck area although he states that the subcutaneous emphysema has improved significantly since yesterday.'''\n",
        "\n",
        "result = gender_pipeline_sbert.annotate(text6)\n",
        "\n",
        "result['class'][0]"
      ]
    },
    {
      "cell_type": "code",
      "execution_count": 18,
      "metadata": {
        "colab": {
          "base_uri": "https://localhost:8080/",
          "height": 36
        },
        "id": "6yjmisN2Er-H",
        "outputId": "93783ca1-4d5d-4a14-ad41-c5231c8b9157"
      },
      "outputs": [
        {
          "output_type": "execute_result",
          "data": {
            "text/plain": [
              "'Male'"
            ],
            "application/vnd.google.colaboratory.intrinsic+json": {
              "type": "string"
            }
          },
          "metadata": {},
          "execution_count": 18
        }
      ],
      "source": [
        "text7 = '''INDICATION: The patient is a 42-year-old XX who is five days out from transanal excision of a benign anterior base lesion.\n",
        "xx presents today with diarrhea and bleeding. Digital exam reveals bright red blood on the finger.\n",
        "xx is for exam under anesthesia and control of hemorrhage at this time.\n",
        "'''\n",
        "result = gender_pipeline_sbert.annotate(text7)\n",
        "\n",
        "result['class'][0]"
      ]
    },
    {
      "cell_type": "code",
      "execution_count": 19,
      "metadata": {
        "colab": {
          "base_uri": "https://localhost:8080/",
          "height": 36
        },
        "id": "YkCM22qgEr1n",
        "outputId": "a514a5b9-0088-4baa-c10a-1d0e53b308cc"
      },
      "outputs": [
        {
          "output_type": "execute_result",
          "data": {
            "text/plain": [
              "'Male'"
            ],
            "application/vnd.google.colaboratory.intrinsic+json": {
              "type": "string"
            }
          },
          "metadata": {},
          "execution_count": 19
        }
      ],
      "source": [
        "text8 = '''INDICATION: ___ year old patient with complicated medical history of paraplegia\n",
        "and chronic indwelling foley, recurrent MDR UTIs, hx Gallbladder fossa\n",
        "abscess,type 2 DM, HTN, CAD, DVT s/p left AKA complicated complicated by\n",
        "respiratory failure requiring tracheostomy and PEG placement, right ischium\n",
        "osteomyelitis due to chronic pressure ulcers with acute shortness of breath...'''\n",
        "\n",
        "result = gender_pipeline_sbert.annotate(text8)\n",
        "\n",
        "result['class'][0]\n"
      ]
    }
  ],
  "metadata": {
    "colab": {
      "machine_shape": "hm",
      "provenance": []
    },
    "kernelspec": {
      "display_name": "Python 3",
      "name": "python3"
    },
    "language_info": {
      "codemirror_mode": {
        "name": "ipython",
        "version": 3
      },
      "file_extension": ".py",
      "mimetype": "text/x-python",
      "name": "python",
      "nbconvert_exporter": "python",
      "pygments_lexer": "ipython3",
      "version": "3.7.6"
    }
  },
  "nbformat": 4,
  "nbformat_minor": 0
}
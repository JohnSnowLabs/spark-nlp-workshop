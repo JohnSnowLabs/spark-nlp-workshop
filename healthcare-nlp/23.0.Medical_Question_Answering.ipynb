{
  "cells": [
    {
      "cell_type": "markdown",
      "metadata": {
        "id": "JWCwiy5flBq7"
      },
      "source": [
        "![JohnSnowLabs](https://nlp.johnsnowlabs.com/assets/images/logo.png)\n"
      ]
    },
    {
      "attachments": {},
      "cell_type": "markdown",
      "metadata": {
        "id": "WwQqbVm4r_hV"
      },
      "source": [
        "[![Open In Colab](https://colab.research.google.com/assets/colab-badge.svg)](https://colab.research.google.com/github/JohnSnowLabs/spark-nlp-workshop/blob/master/healthcare-nlp/23.0.Medical_Question_Answering.ipynb)\n"
      ]
    },
    {
      "cell_type": "markdown",
      "metadata": {
        "id": "5hzypXmUlNYC"
      },
      "source": [
        "# **Medical Question Answering**"
      ]
    },
    {
      "cell_type": "markdown",
      "metadata": {
        "id": "cR1mia8SxJVA"
      },
      "source": [
        "**Welcoming BioGPT (Generative Pre-Trained Transformer For Biomedical Text Generation and Mining) to Spark NLP**\n",
        "\n",
        "BioGPT is a domain-specific generative pre-trained Transformer language model for biomedical text generation and mining. BioGPT follows the Transformer language model backbone, and is pre-trained on 15M PubMed abstracts from scratch. Experiments demonstrate that BioGPT achieves better performance compared with baseline methods and other well-performing methods across all the tasks. Read more at [the official paper.](https://arxiv.org/abs/2210.10341)\n",
        "\n",
        "We ported BioGPT (`BioGPT-QA-PubMedQA-BioGPT`) into Spark NLP for Healthcare with better inference speed and memory optimization, that enable us to get 20x faster results with less memory compared to the HuggingFace version.\n"
      ]
    },
    {
      "cell_type": "markdown",
      "metadata": {
        "id": "okhT7AcXxben"
      },
      "source": [
        "## Colab Setup"
      ]
    },
    {
      "cell_type": "code",
      "execution_count": null,
      "metadata": {
        "id": "q7lvtsKbCp6M"
      },
      "outputs": [],
      "source": [
        "# Install the johnsnowlabs library to access Spark-OCR and Spark-NLP for Healthcare, Finance, and Legal.\n",
        "! pip install -q johnsnowlabs"
      ]
    },
    {
      "cell_type": "code",
      "execution_count": null,
      "metadata": {
        "id": "j7-yhApvCprF"
      },
      "outputs": [],
      "source": [
        "from google.colab import files\n",
        "print('Please Upload your John Snow Labs License using the button below')\n",
        "license_keys = files.upload()"
      ]
    },
    {
      "cell_type": "code",
      "execution_count": null,
      "metadata": {
        "id": "Mby0PeO0Cpio"
      },
      "outputs": [],
      "source": [
        "from johnsnowlabs import nlp, medical, visual\n",
        "\n",
        "# After uploading your license run this to install all licensed Python Wheels and pre-download Jars the Spark Session JVM\n",
        "nlp.install()"
      ]
    },
    {
      "cell_type": "code",
      "execution_count": null,
      "metadata": {
        "colab": {
          "base_uri": "https://localhost:8080/"
        },
        "id": "4XT1aC3-CpaH",
        "outputId": "d2d474e6-1bdd-4e31-b0ad-f1ad5285b1b0"
      },
      "outputs": [
        {
          "name": "stdout",
          "output_type": "stream",
          "text": [
            "👌 Detected license file /content/4.3.2.spark_nlp_for_healthcare.json\n",
            "👌 Launched \u001b[92mcpu optimized\u001b[39m session with with: 🚀Spark-NLP==4.3.2, 💊Spark-Healthcare==4.3.2, running on ⚡ PySpark==3.1.2\n"
          ]
        }
      ],
      "source": [
        "from johnsnowlabs import nlp, medical, visual\n",
        "import pandas as pd\n",
        "\n",
        "# Automatically load license data and start a session with all jars user has access to\n",
        "spark = nlp.start()"
      ]
    },
    {
      "cell_type": "code",
      "execution_count": null,
      "metadata": {
        "id": "P69EzynzC5E7"
      },
      "outputs": [],
      "source": [
        "from pyspark.sql import DataFrame\n",
        "import pyspark.sql.functions as F\n",
        "import pyspark.sql.types as T\n",
        "import pyspark.sql as SQL\n",
        "from pyspark import keyword_only"
      ]
    },
    {
      "cell_type": "markdown",
      "metadata": {
        "id": "7Nv8ISD_ltNo"
      },
      "source": [
        "# 🔎 MODELS "
      ]
    },
    {
      "cell_type": "markdown",
      "metadata": {
        "id": "EUP83I58lxPD"
      },
      "source": [
        "## [medical_qa_biogpt](https://nlp.johnsnowlabs.com/2023/03/09/medical_qa_biogpt_en.html)\n",
        "This model has been trained with medical documents and can generate two types of answers, `short` and `long`."
      ]
    },
    {
      "cell_type": "code",
      "execution_count": null,
      "metadata": {
        "colab": {
          "base_uri": "https://localhost:8080/"
        },
        "id": "FY7jlMeXtq-G",
        "outputId": "9c3cc9de-bd38-43ab-e20a-48c41e6e8eed"
      },
      "outputs": [
        {
          "name": "stdout",
          "output_type": "stream",
          "text": [
            "+------------------------------------------------------------+------------------------------------------------------------+\n",
            "|                                                     context|                                                    question|\n",
            "+------------------------------------------------------------+------------------------------------------------------------+\n",
            "|We have previously reported the feasibility of diagnostic...|        Transgastric endoscopic splenectomy: is it possible?|\n",
            "|To evaluate the degree to which histologic chorioamnionit...|Does histologic chorioamnionitis correspond to clinical c...|\n",
            "|In patients with Los Angeles (LA) grade C or D oesophagit...|Is there an optimal time of acid suppression for maximal ...|\n",
            "+------------------------------------------------------------+------------------------------------------------------------+\n",
            "\n"
          ]
        }
      ],
      "source": [
        "paper_abstract = [\n",
        "    \"We have previously reported the feasibility of diagnostic and therapeutic peritoneoscopy including liver biopsy, gastrojejunostomy, and tubal ligation by an oral transgastric approach. We present results of per-oral transgastric splenectomy in a porcine model. The goal of this study was to determine the technical feasibility of per-oral transgastric splenectomy using a flexible endoscope. We performed acute experiments on 50-kg pigs. All animals were fed liquids for 3 days prior to procedure. The procedures were performed under general anesthesia with endotracheal intubation. The flexible endoscope was passed per orally into the stomach and puncture of the gastric wall was performed with a needle knife. The puncture was extended to create a 1.5-cm incision using a pull-type sphincterotome, and a double-channel endoscope was advanced into the peritoneal cavity. The peritoneal cavity was insufflated with air through the endoscope. The spleen was visualized. The splenic vessels were ligated with endoscopic loops and clips, and then mesentery was dissected using electrocautery. Endoscopic splenectomy was performed on six pigs. There were no complications during gastric incision and entrance into the peritoneal cavity. Visualization of the spleen and other intraperitoneal organs was very good. Ligation of the splenic vessels and mobilization of the spleen were achieved using commercially available devices and endoscopic accessories.\",\n",
        "    \"To evaluate the degree to which histologic chorioamnionitis, a frequent finding in placentas submitted for histopathologic evaluation, correlates with clinical indicators of infection in the mother. A retrospective review was performed on 52 cases with a histologic diagnosis of acute chorioamnionitis from 2,051 deliveries at University Hospital, Newark, from January 2003 to July 2003. Third-trimester placentas without histologic chorioamnionitis (n = 52) served as controls. Cases and controls were selected sequentially. Maternal medical records were reviewed for indicators of maternal infection. Histologic chorioamnionitis was significantly associated with the usage of antibiotics (p = 0.0095) and a higher mean white blood cell count (p = 0.018). The presence of 1 or more clinical indicators was significantly associated with the presence of histologic chorioamnionitis (p = 0.019).\",\n",
        "    \"In patients with Los Angeles (LA) grade C or D oesophagitis, a positive relationship has been established between the duration of intragastric acid suppression and healing.AIM: To determine whether there is an apparent optimal time of intragastric acid suppression for maximal healing of reflux oesophagitis. Post hoc analysis of data from a proof-of-concept, double-blind, randomized study of 134 adult patients treated with esomeprazole (10 or 40 mg od for 4 weeks) for LA grade C or D oesophagitis. A curve was fitted to pooled 24-h intragastric pH (day 5) and endoscopically assessed healing (4 weeks) data using piecewise quadratic logistic regression. Maximal reflux oesophagitis healing rates were achieved when intragastric pH>4 was achieved for approximately 50-70% (12-17 h) of the 24-h period. Acid suppression above this threshold did not yield further increases in healing rates.\"\n",
        "                  ]\n",
        "\n",
        "question = [\n",
        "    \"Transgastric endoscopic splenectomy: is it possible?\",\n",
        "    \"Does histologic chorioamnionitis correspond to clinical chorioamnionitis?\", \n",
        "    \"Is there an optimal time of acid suppression for maximal healing?\"\n",
        "          ]\n",
        "\n",
        "data = spark.createDataFrame(\n",
        "    [\n",
        "        [paper_abstract[0],  question[0]],\n",
        "        [paper_abstract[1],  question[1]],\n",
        "        [paper_abstract[2],  question[2]],       \n",
        "    ]\n",
        ").toDF(\"context\",\"question\")\n",
        "\n",
        "data.show(truncate = 60)"
      ]
    },
    {
      "cell_type": "markdown",
      "metadata": {
        "id": "C0N6wrU0rgSg"
      },
      "source": [
        "### **Short answer**"
      ]
    },
    {
      "cell_type": "markdown",
      "metadata": {
        "id": "yz9TfQ5RfIzc"
      },
      "source": [
        " `Short` answers usually consist of brief and concise responses such as \"yes\" or \"no\", and they are typically given as yes/no responses to do/does, is/are, or other question words. "
      ]
    },
    {
      "cell_type": "code",
      "execution_count": null,
      "metadata": {
        "colab": {
          "base_uri": "https://localhost:8080/"
        },
        "id": "QUanLWZ0qy7N",
        "outputId": "b14a1489-5596-46e3-a2a7-ff9c290151d9"
      },
      "outputs": [
        {
          "name": "stdout",
          "output_type": "stream",
          "text": [
            "medical_qa_biogpt download started this may take some time.\n",
            "[OK!]\n"
          ]
        }
      ],
      "source": [
        "document_assembler = nlp.MultiDocumentAssembler()\\\n",
        "    .setInputCols(\"question\", \"context\")\\\n",
        "    .setOutputCols(\"document_question\", \"document_context\")\n",
        "\n",
        "med_qa =medical.MedicalQuestionAnswering.pretrained(\"medical_qa_biogpt\",\"en\",\"clinical/models\")\\\n",
        "    .setInputCols([\"document_question\", \"document_context\"])\\\n",
        "    .setOutputCol(\"answer\")\\\n",
        "    .setMaxNewTokens(30)\\\n",
        "    .setTopK(1)\\\n",
        "    .setQuestionType(\"short\")\n",
        "\n",
        "pipeline = nlp.Pipeline(stages=[document_assembler, med_qa])\n",
        "\n",
        "empty_data = spark.createDataFrame([[\"\",\"\"]]).toDF(\"question\", \"context\")\n",
        "\n",
        "model = pipeline.fit(empty_data)"
      ]
    },
    {
      "cell_type": "code",
      "execution_count": null,
      "metadata": {
        "colab": {
          "base_uri": "https://localhost:8080/"
        },
        "id": "iqNPhW3AVeul",
        "outputId": "b1b7952b-ab7e-44ac-fee2-62ccbf3ba298"
      },
      "outputs": [
        {
          "name": "stdout",
          "output_type": "stream",
          "text": [
            "+---------------------------------------------------------------------------+------------+\n",
            "|Question                                                                   |Short_Answer|\n",
            "+---------------------------------------------------------------------------+------------+\n",
            "|[Transgastric endoscopic splenectomy: is it possible?]                     |[yes]       |\n",
            "|[Does histologic chorioamnionitis correspond to clinical chorioamnionitis?]|[yes]       |\n",
            "|[Is there an optimal time of acid suppression for maximal healing?]        |[no]        |\n",
            "+---------------------------------------------------------------------------+------------+\n",
            "\n"
          ]
        }
      ],
      "source": [
        "model.transform(data)\\\n",
        "  .selectExpr(\"document_question.result as Question\", \"answer.result as Short_Answer\")\\\n",
        "  .show(truncate=False)"
      ]
    },
    {
      "cell_type": "markdown",
      "metadata": {
        "id": "qrssZMYozT_U"
      },
      "source": [
        "**LightPipelines**"
      ]
    },
    {
      "cell_type": "code",
      "execution_count": null,
      "metadata": {
        "colab": {
          "base_uri": "https://localhost:8080/"
        },
        "id": "sT_PHXXTxtV3",
        "outputId": "ecd078ed-163d-44fa-9856-778c582d7c79"
      },
      "outputs": [
        {
          "data": {
            "text/plain": [
              "[{'document_question': ['Transgastric endoscopic splenectomy: is it possible?'],\n",
              "  'document_context': ['We have previously reported the feasibility of diagnostic and therapeutic peritoneoscopy including liver biopsy, gastrojejunostomy, and tubal ligation by an oral transgastric approach. We present results of per-oral transgastric splenectomy in a porcine model. The goal of this study was to determine the technical feasibility of per-oral transgastric splenectomy using a flexible endoscope. We performed acute experiments on 50-kg pigs. All animals were fed liquids for 3 days prior to procedure. The procedures were performed under general anesthesia with endotracheal intubation. The flexible endoscope was passed per orally into the stomach and puncture of the gastric wall was performed with a needle knife. The puncture was extended to create a 1.5-cm incision using a pull-type sphincterotome, and a double-channel endoscope was advanced into the peritoneal cavity. The peritoneal cavity was insufflated with air through the endoscope. The spleen was visualized. The splenic vessels were ligated with endoscopic loops and clips, and then mesentery was dissected using electrocautery. Endoscopic splenectomy was performed on six pigs. There were no complications during gastric incision and entrance into the peritoneal cavity. Visualization of the spleen and other intraperitoneal organs was very good. Ligation of the splenic vessels and mobilization of the spleen were achieved using commercially available devices and endoscopic accessories.'],\n",
              "  'answer': ['yes']}]"
            ]
          },
          "execution_count": 9,
          "metadata": {},
          "output_type": "execute_result"
        }
      ],
      "source": [
        "context =\"We have previously reported the feasibility of diagnostic and therapeutic peritoneoscopy including liver biopsy, gastrojejunostomy, and tubal ligation by an oral transgastric approach. We present results of per-oral transgastric splenectomy in a porcine model. The goal of this study was to determine the technical feasibility of per-oral transgastric splenectomy using a flexible endoscope. We performed acute experiments on 50-kg pigs. All animals were fed liquids for 3 days prior to procedure. The procedures were performed under general anesthesia with endotracheal intubation. The flexible endoscope was passed per orally into the stomach and puncture of the gastric wall was performed with a needle knife. The puncture was extended to create a 1.5-cm incision using a pull-type sphincterotome, and a double-channel endoscope was advanced into the peritoneal cavity. The peritoneal cavity was insufflated with air through the endoscope. The spleen was visualized. The splenic vessels were ligated with endoscopic loops and clips, and then mesentery was dissected using electrocautery. Endoscopic splenectomy was performed on six pigs. There were no complications during gastric incision and entrance into the peritoneal cavity. Visualization of the spleen and other intraperitoneal organs was very good. Ligation of the splenic vessels and mobilization of the spleen were achieved using commercially available devices and endoscopic accessories.\"\n",
        "question = \"Transgastric endoscopic splenectomy: is it possible?\"\n",
        "\n",
        "light_model = nlp.LightPipeline(model)\n",
        "\n",
        "light_result = light_model.annotate([question],[context])\n",
        "\n",
        "light_result"
      ]
    },
    {
      "cell_type": "code",
      "execution_count": null,
      "metadata": {
        "colab": {
          "base_uri": "https://localhost:8080/"
        },
        "id": "rv8i66Edy7TT",
        "outputId": "6a2a39ae-a232-48bf-adca-496142a664c1"
      },
      "outputs": [
        {
          "data": {
            "text/plain": [
              "['yes']"
            ]
          },
          "execution_count": 10,
          "metadata": {},
          "output_type": "execute_result"
        }
      ],
      "source": [
        "light_result[0][\"answer\"]"
      ]
    },
    {
      "cell_type": "markdown",
      "metadata": {
        "id": "mVpgshECrlpA"
      },
      "source": [
        "### **Long answer**\n",
        "A `long` answer is a response that goes into more detail and provides a more comprehensive explanation than a `short` answer. `Long` answers typically involve more elaboration, examples, and supporting evidence to provide a thorough understanding of a particular topic or question."
      ]
    },
    {
      "cell_type": "code",
      "execution_count": null,
      "metadata": {
        "colab": {
          "base_uri": "https://localhost:8080/"
        },
        "id": "qnIGlNRerntz",
        "outputId": "e74d41b5-fb71-4cc2-d84b-d11f7cbece1e"
      },
      "outputs": [
        {
          "name": "stdout",
          "output_type": "stream",
          "text": [
            "medical_qa_biogpt download started this may take some time.\n",
            "[OK!]\n"
          ]
        }
      ],
      "source": [
        "document_assembler = nlp.MultiDocumentAssembler()\\\n",
        "    .setInputCols(\"question\", \"context\")\\\n",
        "    .setOutputCols(\"document_question\", \"document_context\")\n",
        "\n",
        "med_qa = medical.MedicalQuestionAnswering.pretrained(\"medical_qa_biogpt\",\"en\",\"clinical/models\")\\\n",
        "    .setInputCols([\"document_question\", \"document_context\"])\\\n",
        "    .setOutputCol(\"answer\")\\\n",
        "    .setMaxNewTokens(30)\\\n",
        "    .setTopK(1)\\\n",
        "    .setQuestionType(\"long\") # \"short\"\n",
        "\n",
        "pipeline = nlp.Pipeline(stages=[document_assembler, med_qa])\n",
        "\n",
        "empty_data = spark.createDataFrame([[\"\"]]).toDF(\"text\")\n",
        "\n",
        "model = pipeline.fit(empty_data)"
      ]
    },
    {
      "cell_type": "code",
      "execution_count": null,
      "metadata": {
        "colab": {
          "base_uri": "https://localhost:8080/"
        },
        "id": "j9-RNHXxSJ9u",
        "outputId": "fddbdc6e-7531-40b1-f072-dd5e33073b69"
      },
      "outputs": [
        {
          "name": "stdout",
          "output_type": "stream",
          "text": [
            "+---------------------------------------------------------------------------+--------------------------------------------------------------------------------------------------------------------------------------------------------------------------------------------------------+\n",
            "|Question                                                                   |Long_Answer                                                                                                                                                                                             |\n",
            "+---------------------------------------------------------------------------+--------------------------------------------------------------------------------------------------------------------------------------------------------------------------------------------------------+\n",
            "|[Transgastric endoscopic splenectomy: is it possible?]                     |[per - oral transgastric splenectomy was technically feasible in a porcine model. further studies are necessary to determine the safety and efficacy of this procedure in]                              |\n",
            "|[Does histologic chorioamnionitis correspond to clinical chorioamnionitis?]|[histologic chorioamnionitis is significantly associated with indicators of maternal infection. histologic chorioamnionitis may be a useful adjunct to clinical indicators in the diagnosis of maternal]|\n",
            "|[Is there an optimal time of acid suppression for maximal healing?]        |[in patients with reflux oesophagitis, maximal healing rates are obtained when intragastric pH is achieved for approximately 50 - 70 % ( 12 - 17 h )]                                                   |\n",
            "+---------------------------------------------------------------------------+--------------------------------------------------------------------------------------------------------------------------------------------------------------------------------------------------------+\n",
            "\n"
          ]
        }
      ],
      "source": [
        "model.transform(data)\\\n",
        "  .selectExpr(\"document_question.result as Question\", \"answer.result as Long_Answer\")\\\n",
        "  .show(truncate=False)"
      ]
    },
    {
      "cell_type": "markdown",
      "metadata": {
        "id": "GkZQyrhEzXxO"
      },
      "source": [
        "**LightPipelines**"
      ]
    },
    {
      "cell_type": "code",
      "execution_count": null,
      "metadata": {
        "colab": {
          "base_uri": "https://localhost:8080/"
        },
        "id": "5jQrB4dmzYI4",
        "outputId": "64273a3a-e3aa-4a46-ba4d-9baa28e20c5a"
      },
      "outputs": [
        {
          "data": {
            "text/plain": [
              "[{'document_question': ['Transgastric endoscopic splenectomy: is it possible?'],\n",
              "  'document_context': ['We have previously reported the feasibility of diagnostic and therapeutic peritoneoscopy including liver biopsy, gastrojejunostomy, and tubal ligation by an oral transgastric approach. We present results of per-oral transgastric splenectomy in a porcine model. The goal of this study was to determine the technical feasibility of per-oral transgastric splenectomy using a flexible endoscope. We performed acute experiments on 50-kg pigs. All animals were fed liquids for 3 days prior to procedure. The procedures were performed under general anesthesia with endotracheal intubation. The flexible endoscope was passed per orally into the stomach and puncture of the gastric wall was performed with a needle knife. The puncture was extended to create a 1.5-cm incision using a pull-type sphincterotome, and a double-channel endoscope was advanced into the peritoneal cavity. The peritoneal cavity was insufflated with air through the endoscope. The spleen was visualized. The splenic vessels were ligated with endoscopic loops and clips, and then mesentery was dissected using electrocautery. Endoscopic splenectomy was performed on six pigs. There were no complications during gastric incision and entrance into the peritoneal cavity. Visualization of the spleen and other intraperitoneal organs was very good. Ligation of the splenic vessels and mobilization of the spleen were achieved using commercially available devices and endoscopic accessories.'],\n",
              "  'answer': ['per - oral transgastric splenectomy was technically feasible in a porcine model. further studies are necessary to determine the safety and efficacy of this procedure in']}]"
            ]
          },
          "execution_count": 13,
          "metadata": {},
          "output_type": "execute_result"
        }
      ],
      "source": [
        "context =\"We have previously reported the feasibility of diagnostic and therapeutic peritoneoscopy including liver biopsy, gastrojejunostomy, and tubal ligation by an oral transgastric approach. We present results of per-oral transgastric splenectomy in a porcine model. The goal of this study was to determine the technical feasibility of per-oral transgastric splenectomy using a flexible endoscope. We performed acute experiments on 50-kg pigs. All animals were fed liquids for 3 days prior to procedure. The procedures were performed under general anesthesia with endotracheal intubation. The flexible endoscope was passed per orally into the stomach and puncture of the gastric wall was performed with a needle knife. The puncture was extended to create a 1.5-cm incision using a pull-type sphincterotome, and a double-channel endoscope was advanced into the peritoneal cavity. The peritoneal cavity was insufflated with air through the endoscope. The spleen was visualized. The splenic vessels were ligated with endoscopic loops and clips, and then mesentery was dissected using electrocautery. Endoscopic splenectomy was performed on six pigs. There were no complications during gastric incision and entrance into the peritoneal cavity. Visualization of the spleen and other intraperitoneal organs was very good. Ligation of the splenic vessels and mobilization of the spleen were achieved using commercially available devices and endoscopic accessories.\"\n",
        "question = \"Transgastric endoscopic splenectomy: is it possible?\"\n",
        "\n",
        "light_model = nlp.LightPipeline(model)\n",
        "\n",
        "light_result = light_model.annotate([question],[context])\n",
        "\n",
        "light_result"
      ]
    },
    {
      "cell_type": "code",
      "execution_count": null,
      "metadata": {
        "colab": {
          "base_uri": "https://localhost:8080/"
        },
        "id": "4gAvcFCvzlcV",
        "outputId": "1767a08d-8c39-462b-9baf-ed5a7efed22f"
      },
      "outputs": [
        {
          "data": {
            "text/plain": [
              "['per - oral transgastric splenectomy was technically feasible in a porcine model. further studies are necessary to determine the safety and efficacy of this procedure in']"
            ]
          },
          "execution_count": 14,
          "metadata": {},
          "output_type": "execute_result"
        }
      ],
      "source": [
        "light_result[0][\"answer\"]"
      ]
    }
  ],
  "metadata": {
    "accelerator": "TPU",
    "colab": {
      "machine_shape": "hm",
      "provenance": []
    },
    "gpuClass": "standard",
    "kernelspec": {
      "display_name": "Python 3",
      "name": "python3"
    },
    "language_info": {
      "name": "python"
    }
  },
  "nbformat": 4,
  "nbformat_minor": 0
}

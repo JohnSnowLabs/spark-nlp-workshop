{
  "cells": [
    {
      "cell_type": "markdown",
      "metadata": {
        "id": "JWCwiy5flBq7"
      },
      "source": [
        "![JohnSnowLabs](https://nlp.johnsnowlabs.com/assets/images/logo.png)\n"
      ]
    },
    {
      "cell_type": "markdown",
      "metadata": {
        "id": "WwQqbVm4r_hV"
      },
      "source": [
        "[![Open In Colab](https://colab.research.google.com/assets/colab-badge.svg)](https://colab.research.google.com/github/JohnSnowLabs/spark-nlp-workshop/blob/master/healthcare-nlp/23.0.Medical_Question_Answering.ipynb)\n"
      ]
    },
    {
      "cell_type": "markdown",
      "metadata": {
        "id": "5hzypXmUlNYC"
      },
      "source": [
        "# **Medical Question Answering**"
      ]
    },
    {
      "cell_type": "markdown",
      "metadata": {
        "id": "cR1mia8SxJVA"
      },
      "source": [
        "**Welcoming BioGPT (Generative Pre-Trained Transformer For Biomedical Text Generation and Mining) to Spark NLP**\n",
        "\n",
        "BioGPT is a domain-specific generative pre-trained Transformer language model for biomedical text generation and mining. BioGPT follows the Transformer language model backbone, and is pre-trained on 15M PubMed abstracts from scratch. Experiments demonstrate that BioGPT achieves better performance compared with baseline methods and other well-performing methods across all the tasks. Read more at [the official paper.](https://arxiv.org/abs/2210.10341)\n",
        "\n",
        "We ported BioGPT (`BioGPT-QA-PubMedQA-BioGPT`) into Spark NLP for Healthcare with better inference speed and memory optimization, that enable us to get 20x faster results with less memory compared to the HuggingFace version.\n"
      ]
    },
    {
      "cell_type": "markdown",
      "metadata": {
        "id": "okhT7AcXxben"
      },
      "source": [
        "## Colab Setup"
      ]
    },
    {
      "cell_type": "code",
      "execution_count": null,
      "metadata": {
        "id": "q7lvtsKbCp6M"
      },
      "outputs": [],
      "source": [
        "# Install the johnsnowlabs library to access Spark-OCR and Spark-NLP for Healthcare, Finance, and Legal.\n",
        "! pip install -q johnsnowlabs"
      ]
    },
    {
      "cell_type": "code",
      "execution_count": null,
      "metadata": {
        "id": "j7-yhApvCprF"
      },
      "outputs": [],
      "source": [
        "from google.colab import files\n",
        "print('Please Upload your John Snow Labs License using the button below')\n",
        "license_keys = files.upload()"
      ]
    },
    {
      "cell_type": "code",
      "execution_count": null,
      "metadata": {
        "id": "Mby0PeO0Cpio"
      },
      "outputs": [],
      "source": [
        "from johnsnowlabs import nlp, medical, visual\n",
        "\n",
        "# After uploading your license run this to install all licensed Python Wheels and pre-download Jars the Spark Session JVM\n",
        "nlp.install()"
      ]
    },
    {
      "cell_type": "code",
      "execution_count": null,
      "metadata": {
        "id": "4XT1aC3-CpaH"
      },
      "outputs": [],
      "source": [
        "from johnsnowlabs import nlp, medical, visual\n",
        "import pandas as pd\n",
        "\n",
        "# Automatically load license data and start a session with all jars user has access to\n",
        "spark = nlp.start()"
      ]
    },
    {
      "cell_type": "code",
      "execution_count": 5,
      "metadata": {
        "id": "P69EzynzC5E7"
      },
      "outputs": [],
      "source": [
        "from pyspark.sql import DataFrame\n",
        "import pyspark.sql.functions as F\n",
        "import pyspark.sql.types as T\n",
        "import pyspark.sql as SQL\n",
        "from pyspark import keyword_only"
      ]
    },
    {
      "cell_type": "markdown",
      "metadata": {
        "id": "7Nv8ISD_ltNo"
      },
      "source": [
        "# 🔎 MODELS"
      ]
    },
    {
      "cell_type": "markdown",
      "source": [
        "<div align=\"center\">\n",
        "\n",
        "| **Index** | **Question Answer Models**        |\n",
        "|---------------|----------------------|\n",
        "| 1        | [medical_qa_biogpt](https://nlp.johnsnowlabs.com/2023/05/17/medical_qa_biogpt_en.html)     |\n",
        "| 2          | [flan_t5_base_jsl_qa](https://nlp.johnsnowlabs.com/2023/05/15/flan_t5_base_jsl_qa_en.html)       |\n",
        "| 3          | [clinical_notes_qa_large](https://nlp.johnsnowlabs.com/2023/07/06/clinical_notes_qa_base.html)       |\n",
        "| 4          | [clinical_notes_qa_base](https://nlp.johnsnowlabs.com/2023/07/06/clinical_notes_qa_large.html)       |\n",
        "\n",
        "\n",
        "</div>"
      ],
      "metadata": {
        "id": "f2F4o7FH-nNv"
      }
    },
    {
      "cell_type": "markdown",
      "metadata": {
        "id": "EUP83I58lxPD"
      },
      "source": [
        "## [medical_qa_biogpt](https://nlp.johnsnowlabs.com/2023/03/09/medical_qa_biogpt_en.html)\n",
        "This model has been trained with medical documents and can generate two types of answers, `short` and `long`."
      ]
    },
    {
      "cell_type": "code",
      "execution_count": null,
      "metadata": {
        "colab": {
          "base_uri": "https://localhost:8080/"
        },
        "id": "FY7jlMeXtq-G",
        "outputId": "85b60c3f-b153-4b77-c087-d248a3e4b316"
      },
      "outputs": [
        {
          "output_type": "stream",
          "name": "stdout",
          "text": [
            "+------------------------------------------------------------+------------------------------------------------------------+\n",
            "|                                                     context|                                                    question|\n",
            "+------------------------------------------------------------+------------------------------------------------------------+\n",
            "|We have previously reported the feasibility of diagnostic...|        Transgastric endoscopic splenectomy: is it possible?|\n",
            "|To evaluate the degree to which histologic chorioamnionit...|Does histologic chorioamnionitis correspond to clinical c...|\n",
            "|In patients with Los Angeles (LA) grade C or D oesophagit...|Is there an optimal time of acid suppression for maximal ...|\n",
            "+------------------------------------------------------------+------------------------------------------------------------+\n",
            "\n"
          ]
        }
      ],
      "source": [
        "paper_abstract = [\n",
        "    \"We have previously reported the feasibility of diagnostic and therapeutic peritoneoscopy including liver biopsy, gastrojejunostomy, and tubal ligation by an oral transgastric approach. We present results of per-oral transgastric splenectomy in a porcine model. The goal of this study was to determine the technical feasibility of per-oral transgastric splenectomy using a flexible endoscope. We performed acute experiments on 50-kg pigs. All animals were fed liquids for 3 days prior to procedure. The procedures were performed under general anesthesia with endotracheal intubation. The flexible endoscope was passed per orally into the stomach and puncture of the gastric wall was performed with a needle knife. The puncture was extended to create a 1.5-cm incision using a pull-type sphincterotome, and a double-channel endoscope was advanced into the peritoneal cavity. The peritoneal cavity was insufflated with air through the endoscope. The spleen was visualized. The splenic vessels were ligated with endoscopic loops and clips, and then mesentery was dissected using electrocautery. Endoscopic splenectomy was performed on six pigs. There were no complications during gastric incision and entrance into the peritoneal cavity. Visualization of the spleen and other intraperitoneal organs was very good. Ligation of the splenic vessels and mobilization of the spleen were achieved using commercially available devices and endoscopic accessories.\",\n",
        "    \"To evaluate the degree to which histologic chorioamnionitis, a frequent finding in placentas submitted for histopathologic evaluation, correlates with clinical indicators of infection in the mother. A retrospective review was performed on 52 cases with a histologic diagnosis of acute chorioamnionitis from 2,051 deliveries at University Hospital, Newark, from January 2003 to July 2003. Third-trimester placentas without histologic chorioamnionitis (n = 52) served as controls. Cases and controls were selected sequentially. Maternal medical records were reviewed for indicators of maternal infection. Histologic chorioamnionitis was significantly associated with the usage of antibiotics (p = 0.0095) and a higher mean white blood cell count (p = 0.018). The presence of 1 or more clinical indicators was significantly associated with the presence of histologic chorioamnionitis (p = 0.019).\",\n",
        "    \"In patients with Los Angeles (LA) grade C or D oesophagitis, a positive relationship has been established between the duration of intragastric acid suppression and healing.AIM: To determine whether there is an apparent optimal time of intragastric acid suppression for maximal healing of reflux oesophagitis. Post hoc analysis of data from a proof-of-concept, double-blind, randomized study of 134 adult patients treated with esomeprazole (10 or 40 mg od for 4 weeks) for LA grade C or D oesophagitis. A curve was fitted to pooled 24-h intragastric pH (day 5) and endoscopically assessed healing (4 weeks) data using piecewise quadratic logistic regression. Maximal reflux oesophagitis healing rates were achieved when intragastric pH>4 was achieved for approximately 50-70% (12-17 h) of the 24-h period. Acid suppression above this threshold did not yield further increases in healing rates.\"\n",
        "                  ]\n",
        "\n",
        "question = [\n",
        "    \"Transgastric endoscopic splenectomy: is it possible?\",\n",
        "    \"Does histologic chorioamnionitis correspond to clinical chorioamnionitis?\",\n",
        "    \"Is there an optimal time of acid suppression for maximal healing?\"\n",
        "          ]\n",
        "\n",
        "data = spark.createDataFrame(\n",
        "    [\n",
        "        [paper_abstract[0],  question[0]],\n",
        "        [paper_abstract[1],  question[1]],\n",
        "        [paper_abstract[2],  question[2]],\n",
        "    ]\n",
        ").toDF(\"context\",\"question\")\n",
        "\n",
        "data.show(truncate = 60)"
      ]
    },
    {
      "cell_type": "markdown",
      "metadata": {
        "id": "C0N6wrU0rgSg"
      },
      "source": [
        "### **Short answer**"
      ]
    },
    {
      "cell_type": "markdown",
      "metadata": {
        "id": "yz9TfQ5RfIzc"
      },
      "source": [
        " `Short` answers usually consist of brief and concise responses such as \"yes\" or \"no\", and they are typically given as yes/no responses to do/does, is/are, or other question words."
      ]
    },
    {
      "cell_type": "code",
      "execution_count": null,
      "metadata": {
        "colab": {
          "base_uri": "https://localhost:8080/"
        },
        "id": "QUanLWZ0qy7N",
        "outputId": "879d9e9a-a1f3-4059-9b43-2e58bf005b9b"
      },
      "outputs": [
        {
          "output_type": "stream",
          "name": "stdout",
          "text": [
            "medical_qa_biogpt download started this may take some time.\n",
            "[OK!]\n"
          ]
        }
      ],
      "source": [
        "document_assembler = nlp.MultiDocumentAssembler()\\\n",
        "    .setInputCols(\"question\", \"context\")\\\n",
        "    .setOutputCols(\"document_question\", \"document_context\")\n",
        "\n",
        "med_qa =medical.MedicalQuestionAnswering.pretrained(\"medical_qa_biogpt\",\"en\",\"clinical/models\")\\\n",
        "    .setInputCols([\"document_question\", \"document_context\"])\\\n",
        "    .setOutputCol(\"answer\")\\\n",
        "    .setMaxNewTokens(30)\\\n",
        "    .setTopK(1)\\\n",
        "    .setQuestionType(\"short\")\n",
        "\n",
        "pipeline = nlp.Pipeline(stages=[document_assembler, med_qa])\n",
        "\n",
        "empty_data = spark.createDataFrame([[\"\",\"\"]]).toDF(\"question\", \"context\")\n",
        "\n",
        "model = pipeline.fit(empty_data)"
      ]
    },
    {
      "cell_type": "code",
      "execution_count": null,
      "metadata": {
        "colab": {
          "base_uri": "https://localhost:8080/"
        },
        "id": "iqNPhW3AVeul",
        "outputId": "a9e59681-b64c-463c-cdba-106682541053"
      },
      "outputs": [
        {
          "output_type": "stream",
          "name": "stdout",
          "text": [
            "+---------------------------------------------------------------------------+------------+\n",
            "|Question                                                                   |Short_Answer|\n",
            "+---------------------------------------------------------------------------+------------+\n",
            "|[Transgastric endoscopic splenectomy: is it possible?]                     |[yes]       |\n",
            "|[Does histologic chorioamnionitis correspond to clinical chorioamnionitis?]|[yes]       |\n",
            "|[Is there an optimal time of acid suppression for maximal healing?]        |[no]        |\n",
            "+---------------------------------------------------------------------------+------------+\n",
            "\n"
          ]
        }
      ],
      "source": [
        "model.transform(data)\\\n",
        "  .selectExpr(\"document_question.result as Question\", \"answer.result as Short_Answer\")\\\n",
        "  .show(truncate=False)"
      ]
    },
    {
      "cell_type": "markdown",
      "metadata": {
        "id": "qrssZMYozT_U"
      },
      "source": [
        "**LightPipelines**"
      ]
    },
    {
      "cell_type": "code",
      "execution_count": null,
      "metadata": {
        "colab": {
          "base_uri": "https://localhost:8080/"
        },
        "id": "sT_PHXXTxtV3",
        "outputId": "29738b80-5a04-4da2-9eeb-942f020c905a"
      },
      "outputs": [
        {
          "output_type": "execute_result",
          "data": {
            "text/plain": [
              "[{'document_question': ['Transgastric endoscopic splenectomy: is it possible?'],\n",
              "  'document_context': ['We have previously reported the feasibility of diagnostic and therapeutic peritoneoscopy including liver biopsy, gastrojejunostomy, and tubal ligation by an oral transgastric approach. We present results of per-oral transgastric splenectomy in a porcine model. The goal of this study was to determine the technical feasibility of per-oral transgastric splenectomy using a flexible endoscope. We performed acute experiments on 50-kg pigs. All animals were fed liquids for 3 days prior to procedure. The procedures were performed under general anesthesia with endotracheal intubation. The flexible endoscope was passed per orally into the stomach and puncture of the gastric wall was performed with a needle knife. The puncture was extended to create a 1.5-cm incision using a pull-type sphincterotome, and a double-channel endoscope was advanced into the peritoneal cavity. The peritoneal cavity was insufflated with air through the endoscope. The spleen was visualized. The splenic vessels were ligated with endoscopic loops and clips, and then mesentery was dissected using electrocautery. Endoscopic splenectomy was performed on six pigs. There were no complications during gastric incision and entrance into the peritoneal cavity. Visualization of the spleen and other intraperitoneal organs was very good. Ligation of the splenic vessels and mobilization of the spleen were achieved using commercially available devices and endoscopic accessories.'],\n",
              "  'answer': ['yes']}]"
            ]
          },
          "metadata": {},
          "execution_count": 9
        }
      ],
      "source": [
        "context =\"We have previously reported the feasibility of diagnostic and therapeutic peritoneoscopy including liver biopsy, gastrojejunostomy, and tubal ligation by an oral transgastric approach. We present results of per-oral transgastric splenectomy in a porcine model. The goal of this study was to determine the technical feasibility of per-oral transgastric splenectomy using a flexible endoscope. We performed acute experiments on 50-kg pigs. All animals were fed liquids for 3 days prior to procedure. The procedures were performed under general anesthesia with endotracheal intubation. The flexible endoscope was passed per orally into the stomach and puncture of the gastric wall was performed with a needle knife. The puncture was extended to create a 1.5-cm incision using a pull-type sphincterotome, and a double-channel endoscope was advanced into the peritoneal cavity. The peritoneal cavity was insufflated with air through the endoscope. The spleen was visualized. The splenic vessels were ligated with endoscopic loops and clips, and then mesentery was dissected using electrocautery. Endoscopic splenectomy was performed on six pigs. There were no complications during gastric incision and entrance into the peritoneal cavity. Visualization of the spleen and other intraperitoneal organs was very good. Ligation of the splenic vessels and mobilization of the spleen were achieved using commercially available devices and endoscopic accessories.\"\n",
        "question = \"Transgastric endoscopic splenectomy: is it possible?\"\n",
        "\n",
        "light_model = nlp.LightPipeline(model)\n",
        "\n",
        "light_result = light_model.annotate([question],[context])\n",
        "\n",
        "light_result"
      ]
    },
    {
      "cell_type": "code",
      "execution_count": null,
      "metadata": {
        "colab": {
          "base_uri": "https://localhost:8080/"
        },
        "id": "rv8i66Edy7TT",
        "outputId": "cff1b8c5-e1bb-46a5-b05a-13dbf43a6319"
      },
      "outputs": [
        {
          "output_type": "execute_result",
          "data": {
            "text/plain": [
              "['yes']"
            ]
          },
          "metadata": {},
          "execution_count": 10
        }
      ],
      "source": [
        "light_result[0][\"answer\"]"
      ]
    },
    {
      "cell_type": "markdown",
      "metadata": {
        "id": "mVpgshECrlpA"
      },
      "source": [
        "### **Long answer**\n",
        "A `long` answer is a response that goes into more detail and provides a more comprehensive explanation than a `short` answer. `Long` answers typically involve more elaboration, examples, and supporting evidence to provide a thorough understanding of a particular topic or question."
      ]
    },
    {
      "cell_type": "code",
      "execution_count": null,
      "metadata": {
        "colab": {
          "base_uri": "https://localhost:8080/"
        },
        "id": "qnIGlNRerntz",
        "outputId": "a9166e7f-439a-4556-d70c-24ca05e7ee67"
      },
      "outputs": [
        {
          "output_type": "stream",
          "name": "stdout",
          "text": [
            "medical_qa_biogpt download started this may take some time.\n",
            "[OK!]\n"
          ]
        }
      ],
      "source": [
        "document_assembler = nlp.MultiDocumentAssembler()\\\n",
        "    .setInputCols(\"question\", \"context\")\\\n",
        "    .setOutputCols(\"document_question\", \"document_context\")\n",
        "\n",
        "med_qa = medical.MedicalQuestionAnswering.pretrained(\"medical_qa_biogpt\",\"en\",\"clinical/models\")\\\n",
        "    .setInputCols([\"document_question\", \"document_context\"])\\\n",
        "    .setOutputCol(\"answer\")\\\n",
        "    .setMaxNewTokens(30)\\\n",
        "    .setTopK(1)\\\n",
        "    .setQuestionType(\"long\") # \"short\"\n",
        "\n",
        "pipeline = nlp.Pipeline(stages=[document_assembler, med_qa])\n",
        "\n",
        "empty_data = spark.createDataFrame([[\"\"]]).toDF(\"text\")\n",
        "\n",
        "model = pipeline.fit(empty_data)"
      ]
    },
    {
      "cell_type": "code",
      "execution_count": null,
      "metadata": {
        "colab": {
          "base_uri": "https://localhost:8080/"
        },
        "id": "j9-RNHXxSJ9u",
        "outputId": "95ea3958-d775-4c3f-f8d1-8832a2e294a9"
      },
      "outputs": [
        {
          "output_type": "stream",
          "name": "stdout",
          "text": [
            "+---------------------------------------------------------------------------+--------------------------------------------------------------------------------------------------------------------------------------------------------------------------------------------------------+\n",
            "|Question                                                                   |Long_Answer                                                                                                                                                                                             |\n",
            "+---------------------------------------------------------------------------+--------------------------------------------------------------------------------------------------------------------------------------------------------------------------------------------------------+\n",
            "|[Transgastric endoscopic splenectomy: is it possible?]                     |[per - oral transgastric splenectomy was technically feasible in a porcine model. further studies are necessary to determine the safety and efficacy of this procedure in]                              |\n",
            "|[Does histologic chorioamnionitis correspond to clinical chorioamnionitis?]|[histologic chorioamnionitis is significantly associated with indicators of maternal infection. histologic chorioamnionitis may be a useful adjunct to clinical indicators in the diagnosis of maternal]|\n",
            "|[Is there an optimal time of acid suppression for maximal healing?]        |[in patients with reflux oesophagitis, maximal healing rates are obtained when intragastric pH is achieved for approximately 50 - 70 % ( 12 - 17 h )]                                                   |\n",
            "+---------------------------------------------------------------------------+--------------------------------------------------------------------------------------------------------------------------------------------------------------------------------------------------------+\n",
            "\n"
          ]
        }
      ],
      "source": [
        "model.transform(data)\\\n",
        "  .selectExpr(\"document_question.result as Question\", \"answer.result as Long_Answer\")\\\n",
        "  .show(truncate=False)"
      ]
    },
    {
      "cell_type": "markdown",
      "metadata": {
        "id": "GkZQyrhEzXxO"
      },
      "source": [
        "**LightPipelines**"
      ]
    },
    {
      "cell_type": "code",
      "execution_count": null,
      "metadata": {
        "colab": {
          "base_uri": "https://localhost:8080/"
        },
        "id": "5jQrB4dmzYI4",
        "outputId": "983becae-4d7f-4c29-b2e4-536dea1a1ff6"
      },
      "outputs": [
        {
          "output_type": "execute_result",
          "data": {
            "text/plain": [
              "[{'document_question': ['Transgastric endoscopic splenectomy: is it possible?'],\n",
              "  'document_context': ['We have previously reported the feasibility of diagnostic and therapeutic peritoneoscopy including liver biopsy, gastrojejunostomy, and tubal ligation by an oral transgastric approach. We present results of per-oral transgastric splenectomy in a porcine model. The goal of this study was to determine the technical feasibility of per-oral transgastric splenectomy using a flexible endoscope. We performed acute experiments on 50-kg pigs. All animals were fed liquids for 3 days prior to procedure. The procedures were performed under general anesthesia with endotracheal intubation. The flexible endoscope was passed per orally into the stomach and puncture of the gastric wall was performed with a needle knife. The puncture was extended to create a 1.5-cm incision using a pull-type sphincterotome, and a double-channel endoscope was advanced into the peritoneal cavity. The peritoneal cavity was insufflated with air through the endoscope. The spleen was visualized. The splenic vessels were ligated with endoscopic loops and clips, and then mesentery was dissected using electrocautery. Endoscopic splenectomy was performed on six pigs. There were no complications during gastric incision and entrance into the peritoneal cavity. Visualization of the spleen and other intraperitoneal organs was very good. Ligation of the splenic vessels and mobilization of the spleen were achieved using commercially available devices and endoscopic accessories.'],\n",
              "  'answer': ['per - oral transgastric splenectomy was technically feasible in a porcine model. further studies are necessary to determine the safety and efficacy of this procedure in']}]"
            ]
          },
          "metadata": {},
          "execution_count": 13
        }
      ],
      "source": [
        "context =\"We have previously reported the feasibility of diagnostic and therapeutic peritoneoscopy including liver biopsy, gastrojejunostomy, and tubal ligation by an oral transgastric approach. We present results of per-oral transgastric splenectomy in a porcine model. The goal of this study was to determine the technical feasibility of per-oral transgastric splenectomy using a flexible endoscope. We performed acute experiments on 50-kg pigs. All animals were fed liquids for 3 days prior to procedure. The procedures were performed under general anesthesia with endotracheal intubation. The flexible endoscope was passed per orally into the stomach and puncture of the gastric wall was performed with a needle knife. The puncture was extended to create a 1.5-cm incision using a pull-type sphincterotome, and a double-channel endoscope was advanced into the peritoneal cavity. The peritoneal cavity was insufflated with air through the endoscope. The spleen was visualized. The splenic vessels were ligated with endoscopic loops and clips, and then mesentery was dissected using electrocautery. Endoscopic splenectomy was performed on six pigs. There were no complications during gastric incision and entrance into the peritoneal cavity. Visualization of the spleen and other intraperitoneal organs was very good. Ligation of the splenic vessels and mobilization of the spleen were achieved using commercially available devices and endoscopic accessories.\"\n",
        "question = \"Transgastric endoscopic splenectomy: is it possible?\"\n",
        "\n",
        "light_model = nlp.LightPipeline(model)\n",
        "\n",
        "light_result = light_model.annotate([question],[context])\n",
        "\n",
        "light_result"
      ]
    },
    {
      "cell_type": "code",
      "execution_count": null,
      "metadata": {
        "colab": {
          "base_uri": "https://localhost:8080/"
        },
        "id": "4gAvcFCvzlcV",
        "outputId": "ff9920cf-3bc7-4225-f029-7274421e9f8c"
      },
      "outputs": [
        {
          "output_type": "execute_result",
          "data": {
            "text/plain": [
              "['per - oral transgastric splenectomy was technically feasible in a porcine model. further studies are necessary to determine the safety and efficacy of this procedure in']"
            ]
          },
          "metadata": {},
          "execution_count": 14
        }
      ],
      "source": [
        "light_result[0][\"answer\"]"
      ]
    },
    {
      "cell_type": "markdown",
      "source": [
        "## clinical_notes_qa_base"
      ],
      "metadata": {
        "id": "NkL_KmCRlXm8"
      }
    },
    {
      "cell_type": "code",
      "source": [
        "document_assembler = nlp.MultiDocumentAssembler()\\\n",
        "    .setInputCols(\"question\", \"context\")\\\n",
        "    .setOutputCols(\"document_question\", \"document_context\")\n",
        "\n",
        "med_qa  = medical.MedicalQuestionAnswering()\\\n",
        "    .pretrained(\"clinical_notes_qa_base\", \"en\", \"clinical/models\")\\\n",
        "    .setInputCols([\"document_question\", \"document_context\"])\\\n",
        "    .setCustomPrompt(\"Context: {context} \\n Question: {question} \\n Answer: \")\\\n",
        "    .setOutputCol(\"answer\")\\\n",
        "\n",
        "pipeline = nlp.Pipeline(stages=[document_assembler, med_qa])\n",
        "\n",
        "note_text = \"I am asked to see the patient today with ongoing issues around her diabetic control. We have been fairly aggressively, downwardly adjusting her insulins, both the Lantus insulin, which we had been giving at night as well as her sliding scale Humalog insulin prior to meals. Despite frequent decreases in her insulin regimen, she continues to have somewhat low blood glucoses, most notably in the morning when the glucoses have been in the 70s despite decreasing her Lantus insulin from around 84 units down to 60 units, which is a considerable change. What I cannot explain is why her glucoses have not really climbed at all despite the decrease in insulin. The staff reports to me that her appetite is good and that she is eating as well as ever. I talked to Anna today. She feels a little fatigued. Otherwise, she is doing well.\"\n",
        "\n",
        "question = \"How much has the Lantus insulin dosage been reduced?\"\n",
        "\n",
        "empty_data = spark.createDataFrame([[\"\"]]).toDF(\"text\")\n",
        "\n",
        "model = pipeline.fit(empty_data)\n",
        "\n",
        "data = spark.createDataFrame([[question, note_text]]).toDF(\"question\", \"context\")\n",
        "\n",
        "result = model.transform(data)"
      ],
      "metadata": {
        "id": "w_CuvEZ_lYgz",
        "outputId": "bdb885ac-6bc3-4b66-d8e2-6dfa76cdeffb",
        "colab": {
          "base_uri": "https://localhost:8080/"
        }
      },
      "execution_count": 6,
      "outputs": [
        {
          "output_type": "stream",
          "name": "stdout",
          "text": [
            "clinical_notes_qa_base download started this may take some time.\n",
            "[OK!]\n"
          ]
        }
      ]
    },
    {
      "cell_type": "code",
      "source": [
        "result.selectExpr(\"document_question.result as Question\", \"answer.result as Answer\")\\\n",
        "  .show(truncate=False)"
      ],
      "metadata": {
        "id": "AiBeLrIoldUd",
        "outputId": "a62c985f-ed2a-46d9-bead-7b3dba123be9",
        "colab": {
          "base_uri": "https://localhost:8080/"
        }
      },
      "execution_count": 7,
      "outputs": [
        {
          "output_type": "stream",
          "name": "stdout",
          "text": [
            "+------------------------------------------------------+-----------------------------------------------------------------------------------+\n",
            "|Question                                              |Answer                                                                             |\n",
            "+------------------------------------------------------+-----------------------------------------------------------------------------------+\n",
            "|[How much has the Lantus insulin dosage been reduced?]|[The Lantus insulin dosage has been reduced from around 84 units down to 60 units.]|\n",
            "+------------------------------------------------------+-----------------------------------------------------------------------------------+\n",
            "\n"
          ]
        }
      ]
    },
    {
      "cell_type": "code",
      "source": [
        "context =\"I am asked to see the patient today with ongoing issues around her diabetic control. We have been fairly aggressively, downwardly adjusting her insulins, both the Lantus insulin, which we had been giving at night as well as her sliding scale Humalog insulin prior to meals. Despite frequent decreases in her insulin regimen, she continues to have somewhat low blood glucoses, most notably in the morning when the glucoses have been in the 70s despite decreasing her Lantus insulin from around 84 units down to 60 units, which is a considerable change. What I cannot explain is why her glucoses have not really climbed at all despite the decrease in insulin. The staff reports to me that her appetite is good and that she is eating as well as ever. I talked to Anna today. She feels a little fatigued. Otherwise, she is doing well.\"\n",
        "question = \"How much has the Lantus insulin dosage been reduced?\"\n",
        "\n",
        "light_model = nlp.LightPipeline(model)\n",
        "\n",
        "light_result = light_model.annotate([question],[context])\n",
        "\n",
        "light_result"
      ],
      "metadata": {
        "id": "KrzPgNYWlfR0",
        "outputId": "9c619b3b-96b7-4742-b775-8ae840f05ebf",
        "colab": {
          "base_uri": "https://localhost:8080/"
        }
      },
      "execution_count": 8,
      "outputs": [
        {
          "output_type": "execute_result",
          "data": {
            "text/plain": [
              "[{'document_question': ['How much has the Lantus insulin dosage been reduced?'],\n",
              "  'document_context': ['I am asked to see the patient today with ongoing issues around her diabetic control. We have been fairly aggressively, downwardly adjusting her insulins, both the Lantus insulin, which we had been giving at night as well as her sliding scale Humalog insulin prior to meals. Despite frequent decreases in her insulin regimen, she continues to have somewhat low blood glucoses, most notably in the morning when the glucoses have been in the 70s despite decreasing her Lantus insulin from around 84 units down to 60 units, which is a considerable change. What I cannot explain is why her glucoses have not really climbed at all despite the decrease in insulin. The staff reports to me that her appetite is good and that she is eating as well as ever. I talked to Anna today. She feels a little fatigued. Otherwise, she is doing well.'],\n",
              "  'answer': ['The Lantus insulin dosage has been reduced from around 84 units down to 60 units.']}]"
            ]
          },
          "metadata": {},
          "execution_count": 8
        }
      ]
    },
    {
      "cell_type": "markdown",
      "source": [
        "## clinical_notes_qa_large"
      ],
      "metadata": {
        "id": "H7019sfllNG1"
      }
    },
    {
      "cell_type": "code",
      "source": [
        "document_assembler = nlp.MultiDocumentAssembler()\\\n",
        "    .setInputCols(\"question\", \"context\")\\\n",
        "    .setOutputCols(\"document_question\", \"document_context\")\n",
        "\n",
        "med_qa  = medical.MedicalQuestionAnswering()\\\n",
        "    .pretrained(\"clinical_notes_qa_large\", \"en\", \"clinical/models\")\\\n",
        "    .setInputCols([\"document_question\", \"document_context\"])\\\n",
        "    .setCustomPrompt(\"Context: {context} \\n Question: {question} \\n Answer: \")\\\n",
        "    .setOutputCol(\"answer\")\\\n",
        "\n",
        "pipeline = nlp.Pipeline(stages=[document_assembler, med_qa])\n",
        "\n",
        "note_text = \"his is a 14-month-old with history of chronic recurrent episodes of otitis media, totalling 6 bouts, requiring antibiotics since birth. There is also associated chronic nasal congestion. There had been no bouts of spontaneous tympanic membrane perforation, but there had been elevations of temperature up to 102 during the acute infection. He is being admitted at this time for myringotomy and tube insertion under general facemask anesthesia.\"\n",
        "\n",
        "question = \"How many bouts of otitis media has the patient experienced?\"\n",
        "\n",
        "empty_data = spark.createDataFrame([[\"\"]]).toDF(\"text\")\n",
        "\n",
        "model = pipeline.fit(empty_data)\n",
        "\n",
        "data = spark.createDataFrame([[question, note_text]]).toDF(\"question\", \"context\")\n",
        "\n",
        "result = model.transform(data)"
      ],
      "metadata": {
        "id": "qnGLbYkGlMHJ",
        "outputId": "44524fa4-54e0-4385-c713-f533b9c846ee",
        "colab": {
          "base_uri": "https://localhost:8080/"
        }
      },
      "execution_count": 9,
      "outputs": [
        {
          "output_type": "stream",
          "name": "stdout",
          "text": [
            "clinical_notes_qa_large download started this may take some time.\n",
            "[OK!]\n"
          ]
        }
      ]
    },
    {
      "cell_type": "code",
      "source": [
        "result.selectExpr(\"document_question.result as Question\", \"answer.result as Answer\")\\\n",
        "  .show(truncate=False)"
      ],
      "metadata": {
        "id": "6G5Kjv5PlS64",
        "outputId": "3181a199-439e-48a0-fe2a-4c67cc36c343",
        "colab": {
          "base_uri": "https://localhost:8080/"
        }
      },
      "execution_count": 10,
      "outputs": [
        {
          "output_type": "stream",
          "name": "stdout",
          "text": [
            "+-------------------------------------------------------------+------------------------------------------------------+\n",
            "|Question                                                     |Answer                                                |\n",
            "+-------------------------------------------------------------+------------------------------------------------------+\n",
            "|[How many bouts of otitis media has the patient experienced?]|[The patient has experienced 6 bouts of otitis media.]|\n",
            "+-------------------------------------------------------------+------------------------------------------------------+\n",
            "\n"
          ]
        }
      ]
    },
    {
      "cell_type": "code",
      "source": [
        "context =\"his is a 14-month-old with history of chronic recurrent episodes of otitis media, totalling 6 bouts, requiring antibiotics since birth. There is also associated chronic nasal congestion. There had been no bouts of spontaneous tympanic membrane perforation, but there had been elevations of temperature up to 102 during the acute infection. He is being admitted at this time for myringotomy and tube insertion under general facemask anesthesia.\"\n",
        "question = \"How many bouts of otitis media has the patient experienced?\"\n",
        "\n",
        "light_model = nlp.LightPipeline(model)\n",
        "\n",
        "light_result = light_model.annotate([question],[context])\n",
        "\n",
        "light_result"
      ],
      "metadata": {
        "id": "Z3j66HXVlU39",
        "outputId": "29f713ad-a6a9-423a-853a-d7acec185b01",
        "colab": {
          "base_uri": "https://localhost:8080/"
        }
      },
      "execution_count": 11,
      "outputs": [
        {
          "output_type": "execute_result",
          "data": {
            "text/plain": [
              "[{'document_question': ['How many bouts of otitis media has the patient experienced?'],\n",
              "  'document_context': ['his is a 14-month-old with history of chronic recurrent episodes of otitis media, totalling 6 bouts, requiring antibiotics since birth. There is also associated chronic nasal congestion. There had been no bouts of spontaneous tympanic membrane perforation, but there had been elevations of temperature up to 102 during the acute infection. He is being admitted at this time for myringotomy and tube insertion under general facemask anesthesia.'],\n",
              "  'answer': ['The patient has experienced 6 bouts of otitis media.']}]"
            ]
          },
          "metadata": {},
          "execution_count": 11
        }
      ]
    }
  ],
  "metadata": {
    "accelerator": "TPU",
    "colab": {
      "machine_shape": "hm",
      "provenance": []
    },
    "gpuClass": "standard",
    "kernelspec": {
      "display_name": "Python 3",
      "name": "python3"
    },
    "language_info": {
      "name": "python"
    }
  },
  "nbformat": 4,
  "nbformat_minor": 0
}
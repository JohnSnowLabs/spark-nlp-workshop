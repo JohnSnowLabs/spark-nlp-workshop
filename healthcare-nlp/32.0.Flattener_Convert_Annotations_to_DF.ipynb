{
  "cells": [
    {
      "cell_type": "markdown",
      "metadata": {
        "id": "6Wfq4tie-OVj"
      },
      "source": [
        "![JohnSnowLabs](https://nlp.johnsnowlabs.com/assets/images/logo.png)"
      ]
    },
    {
      "cell_type": "markdown",
      "metadata": {
        "id": "7OpNxxcL-P2G"
      },
      "source": [
        "[![Open In Colab](https://colab.research.google.com/assets/colab-badge.svg)](https://colab.research.google.com/github/JohnSnowLabs/spark-nlp-workshop/blob/master/healthcare-nlp/32.0.Flattener_Convert_Annotations_to_DF.ipynb)"
      ]
    },
    {
      "cell_type": "markdown",
      "metadata": {
        "id": "aQ2JWggt-UYX"
      },
      "source": [
        "#   **📜 Flattener**\n"
      ]
    },
    {
      "cell_type": "markdown",
      "metadata": {
        "id": "RXIkmcBVbAZQ"
      },
      "source": [
        "The **`Flattener`** converts annotation results into a format that easier to use. This annotator produces a DataFrame with flattened and exploded columns containing annotation results, making it easier to interpret and analyze the information.\n",
        "It is particularly useful for extracting and organizing the results obtained from Spark NLP Pipelines."
      ]
    },
    {
      "cell_type": "markdown",
      "metadata": {
        "id": "OCYtybIp1XgL"
      },
      "source": [
        "## Healthcare NLP for Data Scientists Course\n",
        "\n",
        "If you are not familiar with the components in this notebook, you can check [Healthcare NLP for Data Scientists Udemy Course](https://www.udemy.com/course/healthcare-nlp-for-data-scientists/) and the [MOOC Notebooks](https://github.com/JohnSnowLabs/spark-nlp-workshop/tree/master/Spark_NLP_Udemy_MOOC/Healthcare_NLP) for each components."
      ]
    },
    {
      "cell_type": "markdown",
      "metadata": {
        "id": "okhT7AcXxben"
      },
      "source": [
        "## **🎬 Colab Setup**"
      ]
    },
    {
      "cell_type": "code",
      "execution_count": null,
      "metadata": {
        "id": "ELqzaf32MT6E"
      },
      "outputs": [],
      "source": [
        "# Install the johnsnowlabs library to access Spark-OCR and Spark-NLP for Healthcare, Finance, and Legal.\n",
        "! pip install -q johnsnowlabs==5.3.4"
      ]
    },
    {
      "cell_type": "code",
      "execution_count": null,
      "metadata": {
        "id": "RO2dIA414yL_"
      },
      "outputs": [],
      "source": [
        "from google.colab import files\n",
        "print('Please Upload your John Snow Labs License using the button below')\n",
        "license_keys = files.upload()"
      ]
    },
    {
      "cell_type": "code",
      "execution_count": null,
      "metadata": {
        "id": "Hr2Fq3FfgWhZ"
      },
      "outputs": [],
      "source": [
        "from johnsnowlabs import nlp, medical\n",
        "\n",
        "# After uploading your license run this to install all licensed Python Wheels and pre-download Jars the Spark Session JVM\n",
        "nlp.settings.enforce_versions=True\n",
        "nlp.install(refresh_install=True)"
      ]
    },
    {
      "cell_type": "code",
      "execution_count": null,
      "metadata": {
        "id": "DAVx7MX9mtA2"
      },
      "outputs": [],
      "source": [
        "from johnsnowlabs import nlp, medical\n",
        "# Automatically load license data and start a session with all jars user has access to\n",
        "\n",
        "spark = nlp.start()"
      ]
    },
    {
      "cell_type": "code",
      "execution_count": 5,
      "metadata": {
        "colab": {
          "base_uri": "https://localhost:8080/",
          "height": 222
        },
        "id": "lQ8-BI-_5QjG",
        "outputId": "83e5f54f-a245-4947-cda5-4c4a09a9d1dd"
      },
      "outputs": [
        {
          "output_type": "execute_result",
          "data": {
            "text/plain": [
              "<pyspark.sql.session.SparkSession at 0x7a164212ba70>"
            ],
            "text/html": [
              "\n",
              "            <div>\n",
              "                <p><b>SparkSession - in-memory</b></p>\n",
              "                \n",
              "        <div>\n",
              "            <p><b>SparkContext</b></p>\n",
              "\n",
              "            <p><a href=\"http://357bdcd13a1b:4040\">Spark UI</a></p>\n",
              "\n",
              "            <dl>\n",
              "              <dt>Version</dt>\n",
              "                <dd><code>v3.4.0</code></dd>\n",
              "              <dt>Master</dt>\n",
              "                <dd><code>local[*]</code></dd>\n",
              "              <dt>AppName</dt>\n",
              "                <dd><code>John-Snow-Labs-Spark-Session 🚀 with Jars for: 🚀Spark-NLP==5.3.1, 💊Spark-Healthcare==5.3.1, running on ⚡ PySpark==3.4.0</code></dd>\n",
              "            </dl>\n",
              "        </div>\n",
              "        \n",
              "            </div>\n",
              "        "
            ]
          },
          "metadata": {},
          "execution_count": 5
        }
      ],
      "source": [
        "spark"
      ]
    },
    {
      "cell_type": "code",
      "execution_count": 6,
      "metadata": {
        "id": "guXFthmRBnLk"
      },
      "outputs": [],
      "source": [
        "from pyspark.sql import DataFrame\n",
        "import pyspark.sql.functions as F\n",
        "import pyspark.sql.types as T\n",
        "import pyspark.sql as SQL\n",
        "from pyspark import keyword_only\n",
        "\n",
        "import pandas as pd\n",
        "import json\n",
        "import string\n",
        "import numpy as np\n",
        "import warnings\n",
        "warnings.filterwarnings('ignore')"
      ]
    },
    {
      "cell_type": "markdown",
      "metadata": {
        "id": "FBTuAaNIaE-n"
      },
      "source": [
        "## **🖨️ Input/Output Annotation Types**"
      ]
    },
    {
      "cell_type": "markdown",
      "metadata": {
        "id": "wnFxBtrjaJyP"
      },
      "source": [
        "- Input: `ANY`\n",
        "\n",
        "- Output: `NONE`"
      ]
    },
    {
      "cell_type": "markdown",
      "metadata": {
        "id": "RLbYplk2a30Z"
      },
      "source": [
        "## **🔎 Parameters**\n"
      ]
    },
    {
      "cell_type": "markdown",
      "metadata": {
        "id": "uzlkaWUZa7KN"
      },
      "source": [
        "**Parameters**:\n",
        "\n",
        "- `inputCols`: Input annotations.\n",
        "- `cleanAnnotations`: Whether to remove annotation columns, by default `True`.\n",
        "- `explodeSelectedFields`: Dict of input columns to their corresponding selected fields.\n",
        "- `flattenExplodedColumns`: Whether to flatten exploded columns(default : `True`).\n",
        "- `orderByColumn`: Specify the column by which the DataFrame should be ordered..\n",
        "- `orderDescending`: specifying whether to order the DataFrame in descending order.(default : `True`).\n",
        "      \n",
        "  "
      ]
    },
    {
      "cell_type": "markdown",
      "metadata": {
        "id": "ICcnDujCGv5G"
      },
      "source": [
        "## MedicalNerModel"
      ]
    },
    {
      "cell_type": "code",
      "execution_count": 7,
      "metadata": {
        "id": "5_ATrtfxfh6G"
      },
      "outputs": [],
      "source": [
        "text = \"\"\"\n",
        "GENERAL: He is an elderly gentleman in no acute distress. He is sitting up in bed eating his breakfast. He is alert and oriented and answering questions appropriately.\n",
        "HEENT: Sclerae showed mild arcus senilis in the right. Left was clear. Pupils are equally round and reactive to light. Extraocular movements are intact. Oropharynx is clear.\n",
        "NECK: Supple. Trachea is midline. No jugular venous pressure distention is noted. No adenopathy in the cervical, supraclavicular, or axillary areas.\n",
        "ABDOMEN: Soft and not tender. There may be some fullness in the left upper quadrant, although I do not appreciate a true spleen with inspiration.\n",
        "EXTREMITIES: There is some edema, but no cyanosis and clubbing .\n",
        "\"\"\"\n",
        "\n",
        "data = spark.createDataFrame([[text]]).toDF(\"text\")"
      ]
    },
    {
      "cell_type": "code",
      "execution_count": 8,
      "metadata": {
        "colab": {
          "base_uri": "https://localhost:8080/"
        },
        "id": "oq5gCIvZIQN3",
        "outputId": "719b2f86-7779-400d-9308-000f783231e1"
      },
      "outputs": [
        {
          "output_type": "stream",
          "name": "stdout",
          "text": [
            "embeddings_clinical download started this may take some time.\n",
            "Approximate size to download 1.6 GB\n",
            "[OK!]\n",
            "ner_jsl download started this may take some time.\n",
            "[OK!]\n"
          ]
        }
      ],
      "source": [
        "documentAssembler = nlp.DocumentAssembler() \\\n",
        "    .setInputCol(\"text\") \\\n",
        "    .setOutputCol(\"document\")\n",
        "\n",
        "sentenceDetector = nlp.SentenceDetector() \\\n",
        "    .setInputCols([\"document\"]) \\\n",
        "    .setOutputCol(\"sentence\")\n",
        "\n",
        "tokenizer = nlp.Tokenizer() \\\n",
        "    .setInputCols([\"sentence\"]) \\\n",
        "    .setOutputCol(\"token\")\n",
        "\n",
        "word_embeddings = nlp.WordEmbeddingsModel.pretrained(\"embeddings_clinical\", \"en\", \"clinical/models\") \\\n",
        "    .setInputCols([\"sentence\", \"token\"]) \\\n",
        "    .setOutputCol(\"embeddings\")\n",
        "\n",
        "clinical_ner = medical.NerModel.pretrained(\"ner_jsl\", \"en\", \"clinical/models\") \\\n",
        "    .setInputCols([\"sentence\", \"token\", \"embeddings\"]) \\\n",
        "    .setOutputCol(\"ner\") \\\n",
        "    .setLabelCasing(\"upper\")\n",
        "\n",
        "ner_converter = medical.NerConverterInternal() \\\n",
        "    .setInputCols([\"sentence\", \"token\", \"ner\"]) \\\n",
        "    .setOutputCol(\"ner_chunk\") \\\n",
        "    .setWhiteList([\"SYMPTOM\",\"VS_FINDING\",\"DISEASE_SYNDROME_DISORDER\",\"ADMISSION_DISCHARGE\",\"PROCEDURE\"])\n"
      ]
    },
    {
      "cell_type": "code",
      "execution_count": 9,
      "metadata": {
        "colab": {
          "base_uri": "https://localhost:8080/"
        },
        "id": "TguIN2kr2XOA",
        "outputId": "676f7571-b66a-4804-b361-9d8a58f4f850"
      },
      "outputs": [
        {
          "output_type": "stream",
          "name": "stdout",
          "text": [
            "+----------------------------------+---------------+-------------+------------------------+-----------------------------+-----------------------------+-------------------------+---------------------------+\n",
            "|ner_chunk_result                  |ner_chunk_begin|ner_chunk_end|ner_chunk_metadata_chunk|ner_chunk_metadata_confidence|ner_chunk_metadata_ner_source|ner_chunk_metadata_entity|ner_chunk_metadata_sentence|\n",
            "+----------------------------------+---------------+-------------+------------------------+-----------------------------+-----------------------------+-------------------------+---------------------------+\n",
            "|distress                          |49             |56           |0                       |0.9441                       |ner_chunk                    |SYMPTOM                  |0                          |\n",
            "|arcus senilis                     |196            |208          |1                       |0.43245                      |ner_chunk                    |DISEASE_SYNDROME_DISORDER|3                          |\n",
            "|jugular venous pressure distention|380            |413          |2                       |0.45412502                   |ner_chunk                    |SYMPTOM                  |10                         |\n",
            "|adenopathy                        |428            |437          |3                       |0.9938                       |ner_chunk                    |SYMPTOM                  |11                         |\n",
            "|tender                            |514            |519          |4                       |0.9851                       |ner_chunk                    |SYMPTOM                  |12                         |\n",
            "|fullness                          |540            |547          |5                       |0.9096                       |ner_chunk                    |SYMPTOM                  |13                         |\n",
            "|edema                             |665            |669          |6                       |0.9807                       |ner_chunk                    |SYMPTOM                  |14                         |\n",
            "|cyanosis                          |679            |686          |7                       |0.9196                       |ner_chunk                    |VS_FINDING               |14                         |\n",
            "|clubbing                          |692            |699          |8                       |0.9959                       |ner_chunk                    |SYMPTOM                  |14                         |\n",
            "+----------------------------------+---------------+-------------+------------------------+-----------------------------+-----------------------------+-------------------------+---------------------------+\n",
            "\n"
          ]
        }
      ],
      "source": [
        "#explode and flatten all inputCols with all info (when explodeSelectedFields is not set)\n",
        "flattener = medical.Flattener()\\\n",
        "    .setInputCols(\"ner_chunk\")\n",
        "\n",
        "nlpPipeline = nlp.Pipeline(stages=[\n",
        "    documentAssembler,\n",
        "    sentenceDetector,\n",
        "    tokenizer,\n",
        "    word_embeddings,\n",
        "    clinical_ner,\n",
        "    ner_converter,\n",
        "    flattener\n",
        "])\n",
        "\n",
        "result = nlpPipeline.fit(data).transform(data)\n",
        "result.show(truncate=False)"
      ]
    },
    {
      "cell_type": "code",
      "execution_count": 10,
      "metadata": {
        "colab": {
          "base_uri": "https://localhost:8080/"
        },
        "id": "Ccb7MMTedWE_",
        "outputId": "4e77bfb1-7872-4281-acfb-38eaf018c8a4"
      },
      "outputs": [
        {
          "output_type": "stream",
          "name": "stdout",
          "text": [
            "+----------------------------------+-----+---+-------------------------+\n",
            "|ner_chunk                         |begin|end|entities                 |\n",
            "+----------------------------------+-----+---+-------------------------+\n",
            "|distress                          |49   |56 |SYMPTOM                  |\n",
            "|arcus senilis                     |196  |208|DISEASE_SYNDROME_DISORDER|\n",
            "|jugular venous pressure distention|380  |413|SYMPTOM                  |\n",
            "|adenopathy                        |428  |437|SYMPTOM                  |\n",
            "|tender                            |514  |519|SYMPTOM                  |\n",
            "|fullness                          |540  |547|SYMPTOM                  |\n",
            "|edema                             |665  |669|SYMPTOM                  |\n",
            "|cyanosis                          |679  |686|VS_FINDING               |\n",
            "|clubbing                          |692  |699|SYMPTOM                  |\n",
            "+----------------------------------+-----+---+-------------------------+\n",
            "\n"
          ]
        }
      ],
      "source": [
        "# returns exploded columns for each specified field containing annotation data.\n",
        "flattener = medical.Flattener()\\\n",
        "    .setInputCols(\"ner_chunk\") \\\n",
        "    .setExplodeSelectedFields({\"ner_chunk\": [\"result as ner_chunk\",\n",
        "                                             \"begin as begin\",\n",
        "                                             \"end as end\",\n",
        "                                             \"metadata.entity as entities\"]})\n",
        "\n",
        "nlpPipeline = nlp.Pipeline(stages=[\n",
        "    documentAssembler,\n",
        "    sentenceDetector,\n",
        "    tokenizer,\n",
        "    word_embeddings,\n",
        "    clinical_ner,\n",
        "    ner_converter,\n",
        "    flattener\n",
        "])\n",
        "\n",
        "result = nlpPipeline.fit(data).transform(data)\n",
        "result.show(truncate=False)"
      ]
    },
    {
      "cell_type": "code",
      "execution_count": 11,
      "metadata": {
        "colab": {
          "base_uri": "https://localhost:8080/"
        },
        "id": "5V_JnB8J0llO",
        "outputId": "84fd3029-db4f-43c6-d2d5-ae0451e9c88c"
      },
      "outputs": [
        {
          "output_type": "stream",
          "name": "stdout",
          "text": [
            "+----------------------------------------------------------------------------------------------------+----------------------------------------------------------------------------------------------------+----------------------------------------------------------------------------------------------------+\n",
            "|                                                                                           sentences|                                                                                           ner_chunk|                                                                                              tokens|\n",
            "+----------------------------------------------------------------------------------------------------+----------------------------------------------------------------------------------------------------+----------------------------------------------------------------------------------------------------+\n",
            "|[GENERAL: He is an elderly gentleman in no acute distress., He is sitting up in bed eating his br...|[distress, arcus senilis, jugular venous pressure distention, adenopathy, tender, fullness, edema...|[GENERAL, :, He, is, an, elderly, gentleman, in, no, acute, distress, ., He, is, sitting, up, in,...|\n",
            "+----------------------------------------------------------------------------------------------------+----------------------------------------------------------------------------------------------------+----------------------------------------------------------------------------------------------------+\n",
            "\n"
          ]
        }
      ],
      "source": [
        "#without flattening\n",
        "flattener = medical.Flattener()\\\n",
        "    .setInputCols(\"sentence\", \"token\", \"ner_chunk\") \\\n",
        "    .setFlattenExplodedColumns(False)\\\n",
        "    .setExplodeSelectedFields({\"sentence\": [\"result as sentences\"],\n",
        "                               \"token\":[\"result as tokens\"],\n",
        "                               \"ner_chunk\":[\"result as ner_chunk\"]})\\\n",
        "\n",
        "nlpPipeline = nlp.Pipeline(stages=[\n",
        "    documentAssembler,\n",
        "    sentenceDetector,\n",
        "    tokenizer,\n",
        "    word_embeddings,\n",
        "    clinical_ner,\n",
        "    ner_converter,\n",
        "    flattener\n",
        "])\n",
        "\n",
        "result = nlpPipeline.fit(data).transform(data)\n",
        "result.show(truncate=100)"
      ]
    },
    {
      "cell_type": "markdown",
      "metadata": {
        "id": "jojvfPOEXTb_"
      },
      "source": [
        "## AssertionDLModel"
      ]
    },
    {
      "cell_type": "code",
      "execution_count": 12,
      "metadata": {
        "colab": {
          "base_uri": "https://localhost:8080/"
        },
        "id": "LT49IjZA3bgh",
        "outputId": "690d3762-d868-4ce8-c9be-20495634c30a"
      },
      "outputs": [
        {
          "output_type": "stream",
          "name": "stdout",
          "text": [
            "assertion_jsl_augmented download started this may take some time.\n",
            "[OK!]\n",
            "+----------------------------------+-----+---+-------------------------+---------+----------+\n",
            "|ner_chunk                         |begin|end|entities                 |assertion|confidence|\n",
            "+----------------------------------+-----+---+-------------------------+---------+----------+\n",
            "|distress                          |49   |56 |SYMPTOM                  |Absent   |0.9999    |\n",
            "|arcus senilis                     |196  |208|DISEASE_SYNDROME_DISORDER|Past     |1.0       |\n",
            "|jugular venous pressure distention|380  |413|SYMPTOM                  |Absent   |1.0       |\n",
            "|adenopathy                        |428  |437|SYMPTOM                  |Absent   |1.0       |\n",
            "|tender                            |514  |519|SYMPTOM                  |Absent   |1.0       |\n",
            "|fullness                          |540  |547|SYMPTOM                  |Possible |1.0       |\n",
            "|edema                             |665  |669|SYMPTOM                  |Present  |1.0       |\n",
            "|cyanosis                          |679  |686|VS_FINDING               |Absent   |1.0       |\n",
            "|clubbing                          |692  |699|SYMPTOM                  |Absent   |1.0       |\n",
            "+----------------------------------+-----+---+-------------------------+---------+----------+\n",
            "\n"
          ]
        }
      ],
      "source": [
        "# returns exploded columns for each specified field containing annotation data.\n",
        "clinical_assertion = medical.AssertionDLModel.pretrained(\"assertion_jsl_augmented\", \"en\", \"clinical/models\") \\\n",
        "    .setInputCols([\"sentence\", \"ner_chunk\", \"embeddings\"]) \\\n",
        "    .setOutputCol(\"assertion\") \\\n",
        "    .setEntityAssertionCaseSensitive(False)\n",
        "\n",
        "\n",
        "flattener = medical.Flattener()\\\n",
        "    .setInputCols(\"ner_chunk\", \"assertion\") \\\n",
        "    .setExplodeSelectedFields({\"ner_chunk\": [\"result as ner_chunk\",\n",
        "                                             \"begin as begin\",\n",
        "                                             \"end as end\",\n",
        "                                             \"metadata.entity as entities\"],\n",
        "                               \"assertion\":[\"result as assertion\",\n",
        "                                            \"metadata.confidence as confidence\"]\n",
        "                               })\n",
        "\n",
        "nlpPipeline = nlp.Pipeline(stages=[\n",
        "    documentAssembler,\n",
        "    sentenceDetector,\n",
        "    tokenizer,\n",
        "    word_embeddings,\n",
        "    clinical_ner,\n",
        "    ner_converter,\n",
        "    clinical_assertion,\n",
        "    flattener\n",
        "])\n",
        "\n",
        "result = nlpPipeline.fit(data).transform(data)\n",
        "result.show(truncate=False)"
      ]
    },
    {
      "cell_type": "code",
      "execution_count": 13,
      "metadata": {
        "colab": {
          "base_uri": "https://localhost:8080/"
        },
        "id": "xebPYhVXzQwr",
        "outputId": "7699ab29-3703-4181-e8fb-8bd27fce6745"
      },
      "outputs": [
        {
          "output_type": "stream",
          "name": "stdout",
          "text": [
            "+----------------------------------+-----+---+-------------------------+---------+----------+\n",
            "|ner_chunk                         |begin|end|entities                 |assertion|confidence|\n",
            "+----------------------------------+-----+---+-------------------------+---------+----------+\n",
            "|arcus senilis                     |196  |208|DISEASE_SYNDROME_DISORDER|Past     |1.0       |\n",
            "|jugular venous pressure distention|380  |413|SYMPTOM                  |Absent   |1.0       |\n",
            "|adenopathy                        |428  |437|SYMPTOM                  |Absent   |1.0       |\n",
            "|tender                            |514  |519|SYMPTOM                  |Absent   |1.0       |\n",
            "|fullness                          |540  |547|SYMPTOM                  |Possible |1.0       |\n",
            "|edema                             |665  |669|SYMPTOM                  |Present  |1.0       |\n",
            "|cyanosis                          |679  |686|VS_FINDING               |Absent   |1.0       |\n",
            "|clubbing                          |692  |699|SYMPTOM                  |Absent   |1.0       |\n",
            "|distress                          |49   |56 |SYMPTOM                  |Absent   |0.9999    |\n",
            "+----------------------------------+-----+---+-------------------------+---------+----------+\n",
            "\n"
          ]
        }
      ],
      "source": [
        "#order descending\n",
        "flattener = medical.Flattener()\\\n",
        "    .setInputCols(\"ner_chunk\", \"assertion\") \\\n",
        "    .setExplodeSelectedFields({\"ner_chunk\": [\"result as ner_chunk\",\n",
        "                                             \"begin as begin\",\n",
        "                                             \"end as end\",\n",
        "                                             \"metadata.entity as entities\"],\n",
        "                               \"assertion\":[\"result as assertion\",\n",
        "                                            \"metadata.confidence as confidence\"]\n",
        "                               })\\\n",
        "    .setOrderByColumn(\"confidence\")\\\n",
        "    .setOrderDescending(True)\n",
        "\n",
        "nlpPipeline = nlp.Pipeline(stages=[\n",
        "    documentAssembler,\n",
        "    sentenceDetector,\n",
        "    tokenizer,\n",
        "    word_embeddings,\n",
        "    clinical_ner,\n",
        "    ner_converter,\n",
        "    clinical_assertion,\n",
        "    flattener\n",
        "])\n",
        "\n",
        "result = nlpPipeline.fit(data).transform(data)\n",
        "result.show(truncate=False)\n"
      ]
    },
    {
      "cell_type": "markdown",
      "metadata": {
        "id": "CJSRlgJDgsW3"
      },
      "source": [
        "## RelationExtractionModel"
      ]
    },
    {
      "cell_type": "code",
      "execution_count": 26,
      "metadata": {
        "colab": {
          "base_uri": "https://localhost:8080/"
        },
        "id": "ZnQOQoZNguWl",
        "outputId": "ceeed29a-ec9b-41e7-d633-c39aaebd0189"
      },
      "outputs": [
        {
          "output_type": "stream",
          "name": "stdout",
          "text": [
            "embeddings_clinical download started this may take some time.\n",
            "Approximate size to download 1.6 GB\n",
            "[OK!]\n",
            "pos_clinical download started this may take some time.\n",
            "Approximate size to download 1.5 MB\n",
            "[OK!]\n",
            "ner_posology download started this may take some time.\n",
            "[OK!]\n",
            "dependency_conllu download started this may take some time.\n",
            "Approximate size to download 16.7 MB\n",
            "[OK!]\n"
          ]
        }
      ],
      "source": [
        "document_assambler = nlp.DocumentAssembler()\\\n",
        "    .setInputCol(\"text\")\\\n",
        "    .setOutputCol(\"document\")\n",
        "\n",
        "sentence_detector = nlp.SentenceDetector()\\\n",
        "    .setInputCols([\"document\"])\\\n",
        "    .setOutputCol(\"sentence\")\n",
        "\n",
        "tokenizer = nlp.Tokenizer()\\\n",
        "    .setInputCols([\"sentence\"])\\\n",
        "    .setOutputCol(\"token\")\n",
        "\n",
        "word_embeddings = nlp.WordEmbeddingsModel()\\\n",
        "    .pretrained(\"embeddings_clinical\", \"en\", \"clinical/models\")\\\n",
        "    .setInputCols([\"sentence\", \"token\"])\\\n",
        "    .setOutputCol(\"embeddings\")\n",
        "\n",
        "pos_tagger = nlp.PerceptronModel()\\\n",
        "    .pretrained(\"pos_clinical\", \"en\", \"clinical/models\") \\\n",
        "    .setInputCols([\"sentence\", \"token\"])\\\n",
        "    .setOutputCol(\"pos_tags\")\n",
        "\n",
        "pos_ner_tagger = medical.NerModel()\\\n",
        "    .pretrained(\"ner_posology\", \"en\", \"clinical/models\")\\\n",
        "    .setInputCols(\"sentence\", \"token\", \"embeddings\")\\\n",
        "    .setOutputCol(\"ner_pos\")\n",
        "\n",
        "pos_ner_chunker = medical.NerConverterInternal()\\\n",
        "    .setInputCols([\"sentence\", \"token\", \"ner_pos\"])\\\n",
        "    .setOutputCol(\"pos_ner_chunks\")\n",
        "\n",
        "dependency_parser = nlp.DependencyParserModel()\\\n",
        "    .pretrained(\"dependency_conllu\", \"en\")\\\n",
        "    .setInputCols([\"sentence\", \"pos_tags\", \"token\"])\\\n",
        "    .setOutputCol(\"dependencies\")\n",
        "\n",
        "pos_reModel = medical.RelationExtractionModel()\\\n",
        "    .pretrained(\"posology_re\")\\\n",
        "    .setInputCols([\"embeddings\", \"pos_tags\", \"pos_ner_chunks\", \"dependencies\"])\\\n",
        "    .setOutputCol(\"pos_relations\")\\\n",
        "    .setMaxSyntacticDistance(4)"
      ]
    },
    {
      "cell_type": "code",
      "execution_count": 27,
      "metadata": {
        "colab": {
          "base_uri": "https://localhost:8080/"
        },
        "id": "OBIJBiWeguSN",
        "outputId": "9be9e3f5-cee4-406e-abd1-8482ef593f22"
      },
      "outputs": [
        {
          "output_type": "stream",
          "name": "stdout",
          "text": [
            "+--------------+---------+-------------+-----------+-------+----------+-------------+-----------+---------+\n",
            "|relations     |chunk1   |entity1_begin|entity1_end|entity1|chunk2    |entity2_begin|entity2_end|entity2  |\n",
            "+--------------+---------+-------------+-----------+-------+----------+-------------+-----------+---------+\n",
            "|DOSAGE-DRUG   |1 unit   |27           |32         |DOSAGE |naproxen  |37           |44         |DRUG     |\n",
            "|DRUG-DURATION |naproxen |37           |44         |DRUG   |for 5 days|46           |55         |DURATION |\n",
            "|DOSAGE-DRUG   |1 unit   |123          |128        |DOSAGE |oxaprozin |133          |141        |DRUG     |\n",
            "|DRUG-FREQUENCY|oxaprozin|133          |141        |DRUG   |daily     |143          |147        |FREQUENCY|\n",
            "+--------------+---------+-------------+-----------+-------+----------+-------------+-----------+---------+\n",
            "\n"
          ]
        }
      ],
      "source": [
        "flattener = medical.Flattener()\\\n",
        "    .setInputCols(\"pos_relations\") \\\n",
        "    .setExplodeSelectedFields({\"pos_relations\": [\"result as relations\",\n",
        "                                                 \"metadata.chunk1 as chunk1\",\n",
        "                                                 \"metadata.entity1_begin as entity1_begin\",\n",
        "                                                 \"metadata.entity1_end as entity1_end\",\n",
        "                                                 \"metadata.entity1 as entity1\",\n",
        "                                                 \"metadata.chunk2 as chunk2\",\n",
        "                                                 \"metadata.entity2_begin as entity2_begin\",\n",
        "                                                 \"metadata.entity2_end as entity2_end\",\n",
        "                                                 \"metadata.entity2 as entity2\"]})\n",
        "\n",
        "re_pipeline = nlp.Pipeline(stages=[\n",
        "        document_assambler,\n",
        "        sentence_detector,\n",
        "        tokenizer,\n",
        "        word_embeddings,\n",
        "        pos_tagger,\n",
        "        pos_ner_tagger,\n",
        "        pos_ner_chunker,\n",
        "        dependency_parser,\n",
        "        pos_reModel,\n",
        "        flattener\n",
        "])\n",
        "\n",
        "text = \"\"\"The patient was prescribed 1 unit of naproxen for 5 days after meals for chronic low back pain.\n",
        "The patient was also given 1 unit of oxaprozin daily for rheumatoid arthritis presented with tense bullae and\n",
        "cutaneous fragility on the face and the back of the hands.\n",
        "\"\"\"\n",
        "data = spark.createDataFrame([[text]]).toDF(\"text\")\n",
        "result = re_pipeline.fit(data).transform(data)\n",
        "result.show(truncate=False)"
      ]
    },
    {
      "cell_type": "code",
      "execution_count": 28,
      "metadata": {
        "colab": {
          "base_uri": "https://localhost:8080/"
        },
        "id": "aF-3nMtkmDfj",
        "outputId": "99007348-590b-4ffa-b4b7-8d6a66c5e49b"
      },
      "outputs": [
        {
          "output_type": "stream",
          "name": "stdout",
          "text": [
            "DocumentAssembler_3a22c821e203\n",
            "SentenceDetector_c0777b4e3e21\n",
            "Tokenizer_28750006ab83\n",
            "WORD_EMBEDDINGS_MODEL_9004b1d00302\n",
            "POS_6f55785005bf\n",
            "MedicalNerModel_4a303d875127\n",
            "NerConverterInternal_07ebc044f286\n",
            "dependency_e7755462ba78\n",
            "PosologyREModel_4db0668a0c22\n",
            "Flattener_4f0b968ab2c2\n"
          ]
        }
      ],
      "source": [
        "for stage in re_pipeline.getStages():\n",
        "    print(stage)"
      ]
    },
    {
      "cell_type": "markdown",
      "metadata": {
        "id": "Vv2jfHHYhM--"
      },
      "source": [
        "## SentenceEntityResolverModel"
      ]
    },
    {
      "cell_type": "code",
      "execution_count": 29,
      "metadata": {
        "colab": {
          "base_uri": "https://localhost:8080/"
        },
        "id": "_DuAJaGSguLD",
        "outputId": "63fee60f-bce0-4492-aa13-7a158b2d3ae3"
      },
      "outputs": [
        {
          "output_type": "stream",
          "name": "stdout",
          "text": [
            "sentence_detector_dl_healthcare download started this may take some time.\n",
            "Approximate size to download 367.3 KB\n",
            "[OK!]\n",
            "embeddings_clinical download started this may take some time.\n",
            "Approximate size to download 1.6 GB\n",
            "[OK!]\n",
            "ner_clinical download started this may take some time.\n",
            "[OK!]\n",
            "sbiobert_base_cased_mli download started this may take some time.\n",
            "Approximate size to download 384.3 MB\n",
            "[OK!]\n",
            "sbiobertresolve_icd10cm_augmented_billable_hcc download started this may take some time.\n",
            "[OK!]\n"
          ]
        }
      ],
      "source": [
        "document_assembler = nlp.DocumentAssembler()\\\n",
        "    .setInputCol(\"text\")\\\n",
        "    .setOutputCol(\"document\")\n",
        "\n",
        "sentenceDetectorDL = nlp.SentenceDetectorDLModel.pretrained(\"sentence_detector_dl_healthcare\", \"en\", 'clinical/models') \\\n",
        "    .setInputCols(\"document\") \\\n",
        "    .setOutputCol(\"sentence\")\n",
        "\n",
        "tokenizer = nlp.Tokenizer()\\\n",
        "    .setInputCols(\"sentence\")\\\n",
        "    .setOutputCol(\"token\")\n",
        "\n",
        "word_embeddings = nlp.WordEmbeddingsModel.pretrained(\"embeddings_clinical\", \"en\", \"clinical/models\")\\\n",
        "    .setInputCols([\"sentence\", \"token\"])\\\n",
        "    .setOutputCol(\"word_embeddings\")\n",
        "\n",
        "clinical_ner = medical.NerModel.pretrained(\"ner_clinical\", \"en\", \"clinical/models\") \\\n",
        "    .setInputCols([\"sentence\", \"token\", \"word_embeddings\"]) \\\n",
        "    .setOutputCol(\"ner\")\n",
        "\n",
        "ner_converter_icd = medical.NerConverterInternal() \\\n",
        "    .setInputCols([\"sentence\", \"token\", \"ner\"]) \\\n",
        "    .setOutputCol(\"ner_chunk\")\\\n",
        "    .setWhiteList(['PROBLEM'])\\\n",
        "    .setPreservePosition(False)\n",
        "\n",
        "c2doc = nlp.Chunk2Doc()\\\n",
        "    .setInputCols(\"ner_chunk\")\\\n",
        "    .setOutputCol(\"doc_ner_chunk\")\n",
        "\n",
        "sbert_embedder = nlp.BertSentenceEmbeddings.pretrained('sbiobert_base_cased_mli', 'en','clinical/models')\\\n",
        "    .setInputCols(\"doc_ner_chunk\")\\\n",
        "    .setOutputCol(\"sentence_embeddings\")\\\n",
        "    .setCaseSensitive(False)\n",
        "\n",
        "icd_resolver = medical.SentenceEntityResolverModel.pretrained(\"sbiobertresolve_icd10cm_augmented_billable_hcc\",\"en\", \"clinical/models\") \\\n",
        "    .setInputCols([\"sentence_embeddings\"]) \\\n",
        "    .setOutputCol(\"icd10cm_code\")\\\n",
        "    .setDistanceFunction(\"EUCLIDEAN\")"
      ]
    },
    {
      "cell_type": "code",
      "execution_count": 30,
      "metadata": {
        "colab": {
          "base_uri": "https://localhost:8080/"
        },
        "id": "3Zpu2qv-hknz",
        "outputId": "930d7f5b-3322-442e-a2f2-ce87a1ecd971"
      },
      "outputs": [
        {
          "output_type": "stream",
          "name": "stdout",
          "text": [
            "+-------------------------------------+--------+------------+--------------------------------------------------------------------------------+--------------------------------------------------------------------------------+--------------------------------------------------------------------------------+\n",
            "|                            ner_chunk|entities|icd10cm_code|                                                                   all_k_results|                                                               all_k_resolutions|                                                                all_k_aux_labels|\n",
            "+-------------------------------------+--------+------------+--------------------------------------------------------------------------------+--------------------------------------------------------------------------------+--------------------------------------------------------------------------------+\n",
            "|        gestational diabetes mellitus| PROBLEM|       O24.4|     O24.4:::O24.41:::O24.43:::Z86.32:::Z87.5:::O24.31:::O24.11:::O24.1:::O24.81|gestational diabetes mellitus [gestational diabetes mellitus]:::gestational d...|0||0||0:::0||0||0:::0||0||0:::1||0||0:::0||0||0:::0||0||0:::0||0||0:::0||0||0...|\n",
            "|subsequent type two diabetes mellitus| PROBLEM|      O24.11|O24.11:::E11.8:::E11:::E13.9:::E11.9:::E11.3:::E11.44:::Z86.3:::Z86.39:::E11....|pre-existing type 2 diabetes mellitus [pre-existing type 2 diabetes mellitus,...|0||0||0:::1||1||18:::0||0||0:::1||1||19:::1||1||19:::0||0||0:::1||1||18:::0||...|\n",
            "|                   an acute hepatitis| PROBLEM|         B15|B15:::K72.0:::B17.9:::B17.2:::Z03.89:::B15.9:::K75.2:::K71.2:::B19.9:::B16:::...|acute hepatitis a [acute hepatitis a]:::acute hepatitis [acute and subacute h...|0||0||0:::0||0||0:::1||0||0:::1||0||0:::1||0||0:::1||0||0:::1||0||0:::1||0||0...|\n",
            "|                              obesity| PROBLEM|       E66.9|E66.9:::E66.8:::Z68.41:::Q13.0:::E66:::E66.01:::Z86.39:::E34.9:::H35.50:::Z83...|obesity [obesity, unspecified]:::abdominal obesity [other obesity]:::obese [b...|1||0||0:::1||0||0:::1||1||22:::1||0||0:::0||0||0:::1||1||22:::1||0||0:::1||0|...|\n",
            "|                    a body mass index| PROBLEM|      Z68.41|Z68.41:::E66.9:::R22.9:::Z68.1:::R22.3:::R22.1:::Z68:::R22.2:::R22.0:::R41.89...|finding of body mass index [body mass index [bmi] 40.0-44.9, adult]:::observa...|1||1||22:::1||0||0:::1||0||0:::1||0||0:::0||0||0:::1||0||0:::0||0||0:::1||0||...|\n",
            "+-------------------------------------+--------+------------+--------------------------------------------------------------------------------+--------------------------------------------------------------------------------+--------------------------------------------------------------------------------+\n",
            "\n"
          ]
        }
      ],
      "source": [
        "flattener = medical.Flattener()\\\n",
        "    .setInputCols( \"ner_chunk\", \"icd10cm_code\") \\\n",
        "    .setExplodeSelectedFields({\"ner_chunk\": [\"result as ner_chunk\",\n",
        "                                             \"metadata.entity as entities\"],\n",
        "                               \"icd10cm_code\": [\"result as icd10cm_code\",\n",
        "                                                 \"metadata.all_k_results as all_k_results\",\n",
        "                                                 \"metadata.all_k_resolutions as all_k_resolutions\",\n",
        "                                                 \"metadata.all_k_aux_labels as all_k_aux_labels\"],\n",
        "                               })\n",
        "\n",
        "resolver_pipeline = nlp.Pipeline(\n",
        "    stages = [\n",
        "        document_assembler,\n",
        "        sentenceDetectorDL,\n",
        "        tokenizer,\n",
        "        word_embeddings,\n",
        "        clinical_ner,\n",
        "        ner_converter_icd,\n",
        "        c2doc,\n",
        "        sbert_embedder,\n",
        "        icd_resolver,\n",
        "        flattener\n",
        "  ])\n",
        "\n",
        "\n",
        "text = \"\"\"A 28-year-old female with a history of gestational diabetes mellitus diagnosed eight years prior to presentation\n",
        "and subsequent type two diabetes mellitus, associated with an acute hepatitis, and obesity with a body mass index (BMI) of 33.5 kg/m2,\n",
        "\"\"\"\n",
        "data = spark.createDataFrame([[text]]).toDF(\"text\")\n",
        "\n",
        "result = resolver_pipeline.fit(data).transform(data)\n",
        "result.show(truncate=80)"
      ]
    }
  ],
  "metadata": {
    "colab": {
      "machine_shape": "hm",
      "provenance": []
    },
    "kernelspec": {
      "display_name": "Python 3",
      "name": "python3"
    },
    "language_info": {
      "name": "python"
    }
  },
  "nbformat": 4,
  "nbformat_minor": 0
}
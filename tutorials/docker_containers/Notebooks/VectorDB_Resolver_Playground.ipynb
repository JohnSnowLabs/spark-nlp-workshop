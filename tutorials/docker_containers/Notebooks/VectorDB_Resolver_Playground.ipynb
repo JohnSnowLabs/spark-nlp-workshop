{
 "cells": [
  {
   "cell_type": "code",
   "execution_count": 1,
   "id": "e7c1745a-6c80-4c37-b2d6-286f036d8fa8",
   "metadata": {},
   "outputs": [],
   "source": [
    "from pprint import pprint as print\n",
    "import requests\n",
    "import json\n",
    "import time\n",
    "from IPython.display import clear_output\n",
    "from pprint import pprint as print\n",
    "\n",
    "APP_URL = \"http://jsl-resolvers-api:5000\"\n",
    "HEADERS = {\n",
    "  'Content-Type': 'application/json'\n",
    "}\n",
    "\n",
    "RESOLVERS_URL = f\"{APP_URL}/resolvers\"\n",
    "STATUS_URL = f\"{APP_URL}/status\"\n",
    "DEPLOY_URL = f\"{APP_URL}/deploy\"\n",
    "SEARCH_URL = f\"{APP_URL}/search\"\n",
    "RESET_URL = f\"{APP_URL}/reset\""
   ]
  },
  {
   "cell_type": "markdown",
   "id": "33ff0b0c-82f9-4165-9810-c0eaaeb83394",
   "metadata": {},
   "source": [
    "## Status and Resolvers\n",
    "\n",
    "Shows the available resolver list."
   ]
  },
  {
   "cell_type": "code",
   "execution_count": 2,
   "id": "10c541c8-2872-4c25-b0d0-4b2b284e884d",
   "metadata": {},
   "outputs": [
    {
     "data": {
      "text/plain": [
       "{'jsl_resolvers': {'ATC': '142.36 MB',\n",
       "  'HCC': '2.61 GB',\n",
       "  'HCPCS': '37.64 MB',\n",
       "  'HGNC': '506.47 MB',\n",
       "  'ICD10CM': '2.62 GB',\n",
       "  'ICD10PCS': '1.27 GB',\n",
       "  'ICDO': '356.48 MB',\n",
       "  'MESH': '2.47 GB',\n",
       "  'NCIT': '1.93 GB',\n",
       "  'NDC': '1.44 GB',\n",
       "  'RXNORM': '2.23 GB',\n",
       "  'SNOMED': '4.27 GB'},\n",
       " 'current_server_info': {'deployment_status': [{'ICD10CM': {'deployed_at': '2024-09-23 19:26:10 UTC',\n",
       "     'device': 'cpu'}},\n",
       "   {'HCPCS': {'deployed_at': '2024-09-23 19:33:11 UTC', 'device': 'cpu'}}],\n",
       "  'ready': 'ICD10CM, HCPCS'}}"
      ]
     },
     "execution_count": 2,
     "metadata": {},
     "output_type": "execute_result"
    }
   ],
   "source": [
    "requests.get(RESOLVERS_URL).json()"
   ]
  },
  {
   "cell_type": "code",
   "execution_count": 3,
   "id": "86f69368-e781-44b7-aa68-f981320f9fc0",
   "metadata": {},
   "outputs": [
    {
     "data": {
      "text/plain": [
       "{'server': 'up',\n",
       " 'current_server_info': {'deployment_status': [{'ICD10CM': {'deployed_at': '2024-09-23 19:26:10 UTC',\n",
       "     'device': 'cpu'}},\n",
       "   {'HCPCS': {'deployed_at': '2024-09-23 19:33:11 UTC', 'device': 'cpu'}}],\n",
       "  'ready': 'ICD10CM, HCPCS'}}"
      ]
     },
     "execution_count": 3,
     "metadata": {},
     "output_type": "execute_result"
    }
   ],
   "source": [
    "# check server status\n",
    "\n",
    "requests.get(STATUS_URL).json()"
   ]
  },
  {
   "cell_type": "markdown",
   "id": "cb0b7d32-56ce-4d34-b65e-575a44c4995b",
   "metadata": {},
   "source": [
    "## Deployment\n",
    "\n",
    "Deploy the resolver you want to use."
   ]
  },
  {
   "cell_type": "code",
   "execution_count": 4,
   "id": "57c08a6c-5e9f-4b57-bedc-ce1a46799df7",
   "metadata": {},
   "outputs": [
    {
     "data": {
      "text/plain": [
       "{'message': 'starting'}"
      ]
     },
     "execution_count": 4,
     "metadata": {},
     "output_type": "execute_result"
    }
   ],
   "source": [
    "RESOLVER_NAME = \"ICD10CM\"\n",
    "payload = {\"name\": RESOLVER_NAME}\n",
    "requests.post(DEPLOY_URL, headers=HEADERS, data=json.dumps(payload)).json()"
   ]
  },
  {
   "cell_type": "markdown",
   "id": "a0bb4e5a-399c-4f15-9848-9a0668884075",
   "metadata": {},
   "source": [
    "### Check status of deployment"
   ]
  },
  {
   "cell_type": "code",
   "execution_count": 6,
   "id": "518f8483-7335-4fcf-8dec-386b4ae83a4f",
   "metadata": {},
   "outputs": [
    {
     "name": "stdout",
     "output_type": "stream",
     "text": [
      "[{'ICD10CM': {'deployed_at': '2024-09-24 13:50:18 UTC', 'device': 'cpu'}},\n",
      " {'HCPCS': {'deployed_at': '2024-09-23 19:33:11 UTC', 'device': 'cpu'}}]\n"
     ]
    }
   ],
   "source": [
    "def track_deployment_status():\n",
    "    while True:\n",
    "        if deployment_status := requests.get(STATUS_URL).json().get(\"current_server_info\", {}).get(\"deployment_status\"):\n",
    "            clear_output(wait=True)\n",
    "            print(deployment_status)\n",
    "            in_progress = False\n",
    "            for each in deployment_status:\n",
    "                if each.get(\"progress\"):\n",
    "                    in_progress = True\n",
    "            if not in_progress:\n",
    "                break\n",
    "            time.sleep(10)\n",
    "        else:\n",
    "            break\n",
    "\n",
    "\n",
    "track_deployment_status()"
   ]
  },
  {
   "cell_type": "markdown",
   "id": "85b44e90-cfc2-4dff-b56b-c0604ddd2a82",
   "metadata": {},
   "source": [
    "## Search\n",
    "\n",
    "Get the results of the queries from the resolver."
   ]
  },
  {
   "cell_type": "code",
   "execution_count": 7,
   "id": "ea6b2737-939f-45b8-a4ca-027f3f7b3a0e",
   "metadata": {
    "scrolled": true
   },
   "outputs": [
    {
     "data": {
      "text/plain": [
       "{'results': {'doc_1': [{'lung cancer': [{'resolved_text': 'lung cancer',\n",
       "      'billable_hcc': '1||1||9',\n",
       "      'concept_code': 'C34.90',\n",
       "      'concept_name_detailed': 'lung cancer [malignant neoplasm of unspecified part of unspecified bronchus or lung]',\n",
       "      'score': 1.0},\n",
       "     {'resolved_text': 'carcinoma of lung',\n",
       "      'billable_hcc': '0||0||0',\n",
       "      'concept_code': 'C34.9',\n",
       "      'concept_name_detailed': 'carcinoma of lung [malignant neoplasm of unspecified part of bronchus or lung]',\n",
       "      'score': 0.8682}]},\n",
       "   {'brain tumor': [{'resolved_text': 'brain tumor',\n",
       "      'billable_hcc': '1||1||12',\n",
       "      'concept_code': 'D49.6',\n",
       "      'concept_name_detailed': 'brain tumor [neoplasm of unspecified behavior of brain]',\n",
       "      'score': 1.0},\n",
       "     {'resolved_text': 'brain tumour',\n",
       "      'billable_hcc': '1||1||12',\n",
       "      'concept_code': 'D43.2',\n",
       "      'concept_name_detailed': 'brain tumour [neoplasm of uncertain behavior of brain, unspecified]',\n",
       "      'score': 0.9374}]},\n",
       "   {'lungx cancer': [{'resolved_text': 'lung cancer',\n",
       "      'billable_hcc': '1||1||9',\n",
       "      'concept_code': 'C34.90',\n",
       "      'concept_name_detailed': 'lung cancer [malignant neoplasm of unspecified part of unspecified bronchus or lung]',\n",
       "      'score': 0.8056},\n",
       "     {'resolved_text': 'ca - lung cancer',\n",
       "      'billable_hcc': '1||1||9',\n",
       "      'concept_code': 'C34.90',\n",
       "      'concept_name_detailed': 'ca - lung cancer [malignant neoplasm of unspecified part of unspecified bronchus or lung]',\n",
       "      'score': 0.7426}]}],\n",
       "  'doc_2': [{\"alzheimer's disease\": [{'resolved_text': \"alzheimer's disease\",\n",
       "      'billable_hcc': '0||0||0',\n",
       "      'concept_code': 'G30',\n",
       "      'concept_name_detailed': \"alzheimer's disease [alzheimer's disease]\",\n",
       "      'score': 1.0},\n",
       "     {'resolved_text': 'alzheimers disease',\n",
       "      'billable_hcc': '1||1||52',\n",
       "      'concept_code': 'G30.9',\n",
       "      'concept_name_detailed': \"alzheimers disease [alzheimer's disease, unspecified]\",\n",
       "      'score': 0.991}]},\n",
       "   {'stroke': [{'resolved_text': 'h/o: stroke',\n",
       "      'billable_hcc': '0||0||0',\n",
       "      'concept_code': 'Z86.7',\n",
       "      'concept_name_detailed': 'h/o: stroke [personal history of diseases of the circulatory system]',\n",
       "      'score': 0.8794},\n",
       "     {'resolved_text': 'stroke and migraine',\n",
       "      'billable_hcc': '0||0||0',\n",
       "      'concept_code': 'G43.9',\n",
       "      'concept_name_detailed': 'stroke and migraine [migraine, unspecified]',\n",
       "      'score': 0.8488}]},\n",
       "   {'breast cancer': [{'resolved_text': 'breast cancer',\n",
       "      'billable_hcc': '0||0||0',\n",
       "      'concept_code': 'C50.92',\n",
       "      'concept_name_detailed': 'breast cancer [malignant neoplasm of breast of unspecified site, male]',\n",
       "      'score': 1.0},\n",
       "     {'resolved_text': 'breast tumor',\n",
       "      'billable_hcc': '1||0||0',\n",
       "      'concept_code': 'D49.3',\n",
       "      'concept_name_detailed': 'breast tumor [neoplasm of unspecified behavior of breast]',\n",
       "      'score': 0.9314}]}]}}"
      ]
     },
     "execution_count": 7,
     "metadata": {},
     "output_type": "execute_result"
    }
   ],
   "source": [
    "# for list of chunks per document\n",
    "\n",
    "payload = {\n",
    "        \"name\": RESOLVER_NAME,\n",
    "        \"docid_entities\": {\n",
    "            \"doc_1\": [\"lung cancer\", \"brain tumor\", \"lungx cancer\"],\n",
    "            \"doc_2\": [\"Alzheimer's disease\", \"stroke\", \"breast cancer\"],\n",
    "        },\n",
    "        \"topk\": 2\n",
    "    }\n",
    "\n",
    "requests.post(SEARCH_URL, headers=HEADERS, data=json.dumps(payload)).json()"
   ]
  },
  {
   "cell_type": "markdown",
   "id": "be5281b1-eb2e-4af8-9bb9-6db48d2b36fe",
   "metadata": {},
   "source": [
    "## Reset"
   ]
  },
  {
   "cell_type": "code",
   "execution_count": 7,
   "id": "225582d4-ba37-40b4-9a27-5e90d4c3bb21",
   "metadata": {},
   "outputs": [
    {
     "data": {
      "text/plain": [
       "{'message': 'reset done'}"
      ]
     },
     "execution_count": 7,
     "metadata": {},
     "output_type": "execute_result"
    }
   ],
   "source": [
    "requests.post(RESET_URL).json()"
   ]
  },
  {
   "cell_type": "code",
   "execution_count": null,
   "id": "eb24f072-741c-4b2a-b126-901a4a8c92a0",
   "metadata": {},
   "outputs": [],
   "source": []
  }
 ],
 "metadata": {
  "kernelspec": {
   "display_name": "Python 3 (ipykernel)",
   "language": "python",
   "name": "python3"
  },
  "language_info": {
   "codemirror_mode": {
    "name": "ipython",
    "version": 3
   },
   "file_extension": ".py",
   "mimetype": "text/x-python",
   "name": "python",
   "nbconvert_exporter": "python",
   "pygments_lexer": "ipython3",
   "version": "3.11.10"
  }
 },
 "nbformat": 4,
 "nbformat_minor": 5
}

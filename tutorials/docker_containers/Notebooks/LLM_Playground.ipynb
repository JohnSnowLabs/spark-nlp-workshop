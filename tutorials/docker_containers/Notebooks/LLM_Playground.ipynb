{
 "cells": [
  {
   "cell_type": "markdown",
   "metadata": {},
   "source": [
    "# **JohnSnowlabsLabs LLM Playground**"
   ]
  },
  {
   "cell_type": "markdown",
   "metadata": {},
   "source": [
    "### Imports and Constants"
   ]
  },
  {
   "cell_type": "code",
   "execution_count": 1,
   "metadata": {},
   "outputs": [],
   "source": [
    "from pprint import pprint as print\n",
    "import requests\n",
    "import json\n",
    "import time\n",
    "from IPython.display import clear_output\n",
    "\n",
    "\n",
    "APP_URL = \"http://jsl-llms-api:5000\"\n",
    "HEADERS = {\n",
    "  'Content-Type': 'application/json'\n",
    "}"
   ]
  },
  {
   "cell_type": "markdown",
   "metadata": {},
   "source": [
    "## Status check\n",
    "Please wait until you see the status response"
   ]
  },
  {
   "cell_type": "code",
   "execution_count": 2,
   "metadata": {},
   "outputs": [
    {
     "data": {
      "text/plain": [
       "{'deployed': {'model': 'jsl_meds_ner_q4_v2',\n",
       "  'device': 'auto',\n",
       "  'max_context_length': 4096,\n",
       "  'deployed_at': '2024-09-16 07:43:22 UTC'},\n",
       " 'system': {'torch_cpu_threads': 2,\n",
       "  'is_cuda_available': True,\n",
       "  'number_of_cuda_devices': 1,\n",
       "  'gpus_info': [{'GPU ID': 0,\n",
       "    'GPU Name': 'NVIDIA L40S',\n",
       "    'GPU Load': '0.0 %',\n",
       "    'GPU Memory Free': '42717.0 MB',\n",
       "    'GPU Memory Used': '2878.0 MB',\n",
       "    'GPU Memory Total': '46068.0  MB',\n",
       "    'GPU Temperature': '45.0 °C',\n",
       "    'GPU Driver': '535.183.01'}]}}"
      ]
     },
     "execution_count": 2,
     "metadata": {},
     "output_type": "execute_result"
    }
   ],
   "source": [
    "requests.get(f\"{APP_URL}/status\").json()"
   ]
  },
  {
   "cell_type": "markdown",
   "metadata": {},
   "source": [
    "## Available JSL llms"
   ]
  },
  {
   "cell_type": "code",
   "execution_count": 3,
   "metadata": {},
   "outputs": [
    {
     "data": {
      "text/plain": [
       "{'jsl_medm_q16_v2': {'size': '14.97 GB'},\n",
       " 'jsl_medm_q4_v2': {'size': '5.62 GB'},\n",
       " 'jsl_medm_q8_v2': {'size': '8.47 GB'},\n",
       " 'jsl_meds_q8_v1': {'size': '3.75 GB'},\n",
       " 'jsl_meds_q16_v1': {'size': '21.35 GB'},\n",
       " 'jsl_meds_q16_v2': {'size': '21.35 GB'},\n",
       " 'jsl_meds_q4_v1': {'size': '2.27 GB'},\n",
       " 'jsl_meds_ner_q16_v1': {'size': '7.12 GB'},\n",
       " 'jsl_meds_ner_q16_v2': {'size': '7.12 GB'},\n",
       " 'jsl_meds_ner_q4_v2': {'size': '2.27 GB'},\n",
       " 'jsl_meds_ner_q8_v2': {'size': '3.75 GB'},\n",
       " 'jsl_meds_rag_q8_v1': {'size': '3.75 GB'},\n",
       " 'jsl_meds_rag_q4_v1': {'size': '2.27 GB'},\n",
       " 'jsl_meds_rag_q16_v1': {'size': '7.12 GB'}}"
      ]
     },
     "execution_count": 3,
     "metadata": {},
     "output_type": "execute_result"
    }
   ],
   "source": [
    "requests.get(f\"{APP_URL}/info\").json()"
   ]
  },
  {
   "cell_type": "markdown",
   "metadata": {},
   "source": [
    "## Deploy a new llm"
   ]
  },
  {
   "cell_type": "code",
   "execution_count": 4,
   "metadata": {},
   "outputs": [
    {
     "data": {
      "text/plain": [
       "{'message': 'deployment started'}"
      ]
     },
     "execution_count": 4,
     "metadata": {},
     "output_type": "execute_result"
    }
   ],
   "source": [
    "payload = json.dumps({\n",
    "  \"llm_name\": \"jsl_meds_ner_q4_v2\",\n",
    "  \"force\": True # removes any cache\n",
    "})\n",
    "\n",
    "requests.post(f\"{APP_URL}/deploy\", headers=HEADERS, data=payload).json()"
   ]
  },
  {
   "cell_type": "markdown",
   "metadata": {},
   "source": [
    "## Track the deployment status"
   ]
  },
  {
   "cell_type": "code",
   "execution_count": 5,
   "metadata": {},
   "outputs": [
    {
     "name": "stdout",
     "output_type": "stream",
     "text": [
      "{'deployed': {'deployed_at': '2024-09-16 07:46:17 UTC',\n",
      "              'device': 'auto',\n",
      "              'max_context_length': 4096,\n",
      "              'model': 'jsl_meds_ner_q4_v2'},\n",
      " 'system': {'gpus_info': [{'GPU Driver': '535.183.01',\n",
      "                           'GPU ID': 0,\n",
      "                           'GPU Load': '0.0 %',\n",
      "                           'GPU Memory Free': '42717.0 MB',\n",
      "                           'GPU Memory Total': '46068.0  MB',\n",
      "                           'GPU Memory Used': '2878.0 MB',\n",
      "                           'GPU Name': 'NVIDIA L40S',\n",
      "                           'GPU Temperature': '43.0 °C'}],\n",
      "            'is_cuda_available': True,\n",
      "            'number_of_cuda_devices': 1,\n",
      "            'torch_cpu_threads': 2}}\n"
     ]
    }
   ],
   "source": [
    "def track_deployment_status(poll_every_seconds=10):\n",
    "    for i in range(50):\n",
    "        status_resp = requests.get(f\"{APP_URL}/status\").json()\n",
    "        clear_output(wait=True)  # Clears the previous output\n",
    "        print(status_resp)\n",
    "        # deployment_status is not available after deployment is complete\n",
    "        if not (deployment_status := status_resp.get(\"deployment_status\")) or deployment_status.get(\"status\") == \"failed\":\n",
    "            return\n",
    "        time.sleep(poll_every_seconds)\n",
    "\n",
    "track_deployment_status()"
   ]
  },
  {
   "cell_type": "markdown",
   "metadata": {},
   "source": [
    "## Inference"
   ]
  },
  {
   "cell_type": "code",
   "execution_count": 6,
   "metadata": {},
   "outputs": [
    {
     "data": {
      "text/plain": [
       "{'message': '{\\n\"Drugs\": [\\n    \"lipitor\",\\n    \"metformin\"\\n]\\n}\\n',\n",
       " 'generation_started': '2024-09-16 07:46:23 UTC',\n",
       " 'time_taken': '1064.000 ms',\n",
       " 'new_token_generated': 27,\n",
       " 'input': {'max_new_tokens': 128, 'temperature': 0.1, 'prompt_tokens': 31},\n",
       " 'deployment': {'deployed_at': '2024-09-16 07:46:17 UTC',\n",
       "  'model_name': 'jsl_meds_ner_q4_v2',\n",
       "  'device': 'auto'}}"
      ]
     },
     "execution_count": 6,
     "metadata": {},
     "output_type": "execute_result"
    }
   ],
   "source": [
    "payload = json.dumps({\n",
    "  \"text\": \"### Template:\\n{\\n\\\"Drugs\\\": []\\n}\\n### Text:\\nShe is consuming lipitor and metformin daily\"\n",
    "})\n",
    "requests.post(f\"{APP_URL}/generate\", headers=HEADERS, data=payload).json()"
   ]
  },
  {
   "cell_type": "markdown",
   "metadata": {},
   "source": [
    "## Generic inference function"
   ]
  },
  {
   "cell_type": "code",
   "execution_count": 7,
   "metadata": {},
   "outputs": [],
   "source": [
    "def generate(prompt, payload=payload,  max_new_tokens=128):\n",
    "    url = f\"{APP_URL}/generate\"\n",
    "\n",
    "    payload = json.dumps({\n",
    "      \"text\": prompt,\n",
    "       \"max_new_tokens\" : max_new_tokens\n",
    "    })\n",
    "    response = requests.request(\"POST\", url, headers=HEADERS, data=payload)\n",
    "    return response.json()"
   ]
  },
  {
   "cell_type": "markdown",
   "metadata": {},
   "source": [
    "# JSL LLM Types"
   ]
  },
  {
   "cell_type": "markdown",
   "metadata": {},
   "source": [
    "## JSL_MedS_NER\n",
    "\n",
    "* 'jsl_meds_ner_q16_v1',\n",
    "* 'jsl_meds_ner_q16_v2',\n",
    "* 'jsl_meds_ner_q4_v2',\n",
    "* 'jsl_meds_ner_q8_v2',"
   ]
  },
  {
   "cell_type": "code",
   "execution_count": 8,
   "metadata": {},
   "outputs": [
    {
     "data": {
      "text/plain": [
       "{'message': 'deployment started'}"
      ]
     },
     "execution_count": 8,
     "metadata": {},
     "output_type": "execute_result"
    }
   ],
   "source": [
    "payload = json.dumps({\n",
    "  \"llm_name\": \"jsl_meds_ner_q16_v2\"\n",
    "})\n",
    "requests.request(\"POST\", f\"{APP_URL}/deploy\", headers=HEADERS, data=payload).json()"
   ]
  },
  {
   "cell_type": "code",
   "execution_count": 9,
   "metadata": {},
   "outputs": [
    {
     "name": "stdout",
     "output_type": "stream",
     "text": [
      "{'deployed': {'deployed_at': '2024-09-16 07:52:30 UTC',\n",
      "              'device': 'auto',\n",
      "              'max_context_length': 4096,\n",
      "              'model': 'jsl_meds_ner_q16_v2'},\n",
      " 'system': {'gpus_info': [{'GPU Driver': '535.183.01',\n",
      "                           'GPU ID': 0,\n",
      "                           'GPU Load': '0.0 %',\n",
      "                           'GPU Memory Free': '37769.0 MB',\n",
      "                           'GPU Memory Total': '46068.0  MB',\n",
      "                           'GPU Memory Used': '7826.0 MB',\n",
      "                           'GPU Name': 'NVIDIA L40S',\n",
      "                           'GPU Temperature': '38.0 °C'}],\n",
      "            'is_cuda_available': True,\n",
      "            'number_of_cuda_devices': 1,\n",
      "            'torch_cpu_threads': 2}}\n"
     ]
    }
   ],
   "source": [
    "# Track deployment status\n",
    "track_deployment_status(poll_every_seconds=20)"
   ]
  },
  {
   "cell_type": "markdown",
   "metadata": {},
   "source": [
    "### q0"
   ]
  },
  {
   "cell_type": "code",
   "execution_count": 10,
   "metadata": {},
   "outputs": [
    {
     "data": {
      "text/plain": [
       "{'Drugs': ['lipitor', 'metformin']}"
      ]
     },
     "execution_count": 10,
     "metadata": {},
     "output_type": "execute_result"
    }
   ],
   "source": [
    "text = \"She is consuming lipitor and metformin daily\"\n",
    "\n",
    "template = \"\"\"\n",
    "{\n",
    "    \"Drugs\": []\n",
    "}\n",
    "\"\"\"\n",
    "\n",
    "prompt = f\"\"\"<|input|>\n",
    "### Template:\n",
    "{template}\n",
    "### Text:\n",
    "{text}\n",
    "<|output|>\n",
    "\"\"\"\n",
    "\n",
    "response = generate(prompt = prompt)\n",
    "eval(response[\"message\"])"
   ]
  },
  {
   "cell_type": "markdown",
   "metadata": {},
   "source": [
    "### q1"
   ]
  },
  {
   "cell_type": "code",
   "execution_count": 11,
   "metadata": {},
   "outputs": [
    {
     "data": {
      "text/plain": [
       "{'drugs': [{'name': 'Arthrotec', 'reactions': ['drowsy']}]}"
      ]
     },
     "execution_count": 11,
     "metadata": {},
     "output_type": "execute_result"
    }
   ],
   "source": [
    "text = \"\"\"\n",
    "I feel a bit drowsy & have a little blurred vision , and some gastric problems .\n",
    "I 've been on Arthrotec 50 for over 10 years on and off , only taking it when I needed it .\n",
    "\"\"\"\n",
    "\n",
    "template = \"\"\"\n",
    "{\n",
    "    \"drugs\": [\n",
    "        {\n",
    "            \"name\": \"\",\n",
    "            \"reactions\": []\n",
    "        }\n",
    "    ]\n",
    "}\n",
    "\"\"\"\n",
    "\n",
    "prompt = f\"\"\"<|input|>\n",
    "### Template:\n",
    "{template}\n",
    "### Text:\n",
    "{text}\n",
    "<|output|>\n",
    "\"\"\"\n",
    "\n",
    "response = generate(prompt = prompt)\n",
    "eval(response[\"message\"])"
   ]
  },
  {
   "cell_type": "markdown",
   "metadata": {},
   "source": [
    "### q2"
   ]
  },
  {
   "cell_type": "code",
   "execution_count": 12,
   "metadata": {},
   "outputs": [
    {
     "name": "stdout",
     "output_type": "stream",
     "text": [
      "('{\\n'\n",
      " '  \"DATE\": [],\\n'\n",
      " '  \"NAME\": [\\n'\n",
      " '    \"David Hale\",\\n'\n",
      " '    \"Molina Cortes\",\\n'\n",
      " '    \"hale\"\\n'\n",
      " '  ],\\n'\n",
      " '  \"AGE\": [\\n'\n",
      " '    \"45\"\\n'\n",
      " '  ],\\n'\n",
      " '  \"LOCATION\": [\\n'\n",
      " '    \"Delaware\",\\n'\n",
      " '    \"Cocke County\",\\n'\n",
      " '    \"Des Moines\"\\n'\n",
      " '  ],\\n'\n",
      " '  \"PROFESSION\": [\\n'\n",
      " '    \"Data Engineer\"\\n'\n",
      " '  ],\\n'\n",
      " '  \"CONTACT\": [\\n'\n",
      " '    \"555-555-555\"\\n'\n",
      " '  ],\\n'\n",
      " '  \"Email\": [\\n'\n",
      " '    \"hale@gmail.com\"\\n'\n",
      " '  ]\\n'\n",
      " '}\\n')\n"
     ]
    }
   ],
   "source": [
    "text = \"\"\"\n",
    "David Hale, M.D. he is 45 years old and works as Data Engineer at GE Healthcare, which is located in Delaware. For personal Contact and Email: 555-555-555, hale@gmail.com,\n",
    "Dr. Molina Cortes, MD. is affiliated with the Cocke County Baptist Hospital in Des Moines.\n",
    "\"\"\"\n",
    "\n",
    "import json\n",
    "ents = {\n",
    "  \"DATE\": [],\n",
    "  \"NAME\": [],\n",
    "  \"AGE\": [],\n",
    "  \"LOCATION\": [],\n",
    "  \"PROFESSION\": [],\n",
    "  \"CONTACT\": [],\n",
    "  \"Email\": []\n",
    "}\n",
    "\n",
    "template = f\"\"\"{json.dumps(ents, indent=2)}\"\"\"\n",
    "\n",
    "prompt = f\"\"\"<|input|>\n",
    "### Template:\n",
    "{template}\n",
    "### Text:\n",
    "{text}\n",
    "<|output|>\"\"\"\n",
    "\n",
    "response = generate(prompt = prompt, max_new_tokens = 256)\n",
    "print(response[\"message\"])"
   ]
  },
  {
   "cell_type": "markdown",
   "metadata": {},
   "source": [
    "### q3"
   ]
  },
  {
   "cell_type": "code",
   "execution_count": 13,
   "metadata": {},
   "outputs": [
    {
     "name": "stdout",
     "output_type": "stream",
     "text": [
      "('{\\n'\n",
      " '  \"drugs\": [\\n'\n",
      " '    \"Arthrotec\",\\n'\n",
      " '    \"Arthrotec 50\",\\n'\n",
      " '    \"75\"\\n'\n",
      " '  ],\\n'\n",
      " '  \"adverse drug event\": [\\n'\n",
      " '    \"drowsy\",\\n'\n",
      " '    \"blurred vision\",\\n'\n",
      " '    \"gastric problems\"\\n'\n",
      " '  ]\\n'\n",
      " '}\\n')\n"
     ]
    }
   ],
   "source": [
    "text = \"\"\"\n",
    "I feel a bit drowsy & have a little blurred vision , and some gastric problems .\n",
    "I 've been on Arthrotec 50 for over 10 years on and off , only taking it when I needed it .\n",
    "Due to my arthritis getting progressively worse , to the point where I am in tears with the agony.\n",
    "Gp 's started me on 75 twice a day and I have to take it every day for the next month to see how I get on , here goes .\n",
    "So far its been very good , pains almost gone , but I feel a bit weird , did n't have that when on 50.\n",
    "\"\"\"\n",
    "\n",
    "import json\n",
    "ents = {\n",
    "  \"drugs\": [],\n",
    "  \"adverse drug event\": []\n",
    "}\n",
    "\n",
    "ner_prompt = f\"\"\"<|input|>\n",
    "### Template:\n",
    "{json.dumps(ents, indent=2)}\n",
    "\n",
    "### Text:\n",
    "{text}\n",
    "<|output|>\n",
    "\"\"\"\n",
    "\n",
    "response = generate(prompt = ner_prompt, max_new_tokens = 256)\n",
    "print(response[\"message\"])"
   ]
  },
  {
   "cell_type": "markdown",
   "metadata": {},
   "source": [
    "### q4"
   ]
  },
  {
   "cell_type": "code",
   "execution_count": 14,
   "metadata": {},
   "outputs": [
    {
     "name": "stdout",
     "output_type": "stream",
     "text": [
      "('{\\n'\n",
      " '  \"Biomarker\": [\\n'\n",
      " '    \"AE1/AE3\",\\n'\n",
      " '    \"CK 5/6\",\\n'\n",
      " '    \"p63\",\\n'\n",
      " '    \"S100\"\\n'\n",
      " '  ],\\n'\n",
      " '  \"Cancer_Dx\": [\\n'\n",
      " '    \"ovarian carcinoma\",\\n'\n",
      " '    \"mucinous-type carcinoma\",\\n'\n",
      " '    \"metaplastic carcinoma\",\\n'\n",
      " '    \"adenomyoepithelioma\"\\n'\n",
      " '  ],\\n'\n",
      " '  \"Cancer_Surgery\": [\\n'\n",
      " '    \"debulking surgery\",\\n'\n",
      " '    \"bilateral oophorectomy\",\\n'\n",
      " '    \"total anterior hysterectomy\",\\n'\n",
      " '    \"radical pelvic lymph nodes dissection\",\\n'\n",
      " '    \"neoadjuvant chemotherapy\",\\n'\n",
      " '    \"modified radical mastectomy\",\\n'\n",
      " '    \"radiotherapy\"\\n'\n",
      " '  ],\\n'\n",
      " '  \"Chemotherapy\": [\\n'\n",
      " '    \"cyclophosphamide\",\\n'\n",
      " '    \"carboplatin\",\\n'\n",
      " '    \"Taxotere\",\\n'\n",
      " '    \"Epirubicin\",\\n'\n",
      " '    \"Cyclophosphamide\"\\n'\n",
      " '  ],\\n'\n",
      " '  \"Grade\": [\\n'\n",
      " '    \"III\"\\n'\n",
      " '  ],\\n'\n",
      " '  \"Metastasis\": [\\n'\n",
      " '    \"metastastic carcinoma\"\\n'\n",
      " '  ],\\n'\n",
      " '  \"Tumor_Size\": [\\n'\n",
      " '    \"15 cm\"\\n'\n",
      " '  ],\\n'\n",
      " '  \"Unspecific_Therapy\": []\\n'\n",
      " '}\\n'\n",
      " '\\n')\n"
     ]
    }
   ],
   "source": [
    "text = \"\"\"\n",
    "A 65-year-old woman had a history of debulking surgery, bilateral oophorectomy with omentectomy, total anterior hysterectomy with radical pelvic lymph nodes dissection due to ovarian carcinoma (mucinous-type carcinoma, stage Ic) 1 year ago.\n",
    "Patient's medical compliance was poor and failed to complete her chemotherapy (cyclophosphamide 750 mg/m2, carboplatin 300 mg/m2).\n",
    "Recently, she noted a palpable right breast mass, 15 cm in size which nearly occupied the whole right breast in 2 months.\n",
    "Core needle biopsy revealed metaplastic carcinoma. Neoadjuvant chemotherapy with the regimens of Taxotere (75 mg/m2), Epirubicin (75 mg/m2 Dosage), and Cyclophosphamide (500 mg/m2) was given for 6 cycles with poor response, followed by a modified radical mastectomy (MRM) with dissection of axillary lymph nodes and skin grafting.\n",
    "Postoperatively, radiotherapy was done with 5000 cGy in 25 fractions. The histopathologic examination revealed a metaplastic carcinoma with squamous differentiation associated with adenomyoepithelioma.\n",
    "Immunohistochemistry study showed that the tumor cells are positive for epithelial markers-cytokeratin (AE1/AE3) stain, and myoepithelial markers, including cytokeratin 5/6 (CK 5/6), p63, and S100 stains.\n",
    "The dissected axillary lymph nodes showed metastastic carcinoma with negative hormone receptors in 3 nodes. The patient was staged as pT3N1aM0, with histologic tumor grade III\n",
    "\"\"\"\n",
    "\n",
    "import json\n",
    "ents = {\n",
    "  \"Biomarker\": [],\n",
    "  \"Cancer_Dx\": [],\n",
    "  \"Cancer_Surgery\": [],\n",
    "  \"Chemotherapy\": [],\n",
    "  \"Grade\": [],\n",
    "  \"Metastasis\": [],\n",
    "  \"Tumor_Size\": [],\n",
    "  \"Unspecific_Therapy\": []\n",
    "}\n",
    "\n",
    "ner_prompt = f\"\"\"<|input|>\n",
    "### Template:\n",
    "{json.dumps(ents, indent=2)}\n",
    "\n",
    "### Text:\n",
    "{text}\n",
    "<|output|>\n",
    "\"\"\"\n",
    "\n",
    "response = generate(prompt = ner_prompt,max_new_tokens = 512)\n",
    "print(response[\"message\"])"
   ]
  },
  {
   "cell_type": "markdown",
   "metadata": {},
   "source": [
    "## JSL_MedM\n",
    "* 'jsl_medm_q16_v2',\n",
    "* 'jsl_medm_q4_v2',\n",
    "* 'jsl_medm_q8_v2',"
   ]
  },
  {
   "cell_type": "code",
   "execution_count": 15,
   "metadata": {},
   "outputs": [
    {
     "data": {
      "text/plain": [
       "{'message': 'deployment started'}"
      ]
     },
     "execution_count": 15,
     "metadata": {},
     "output_type": "execute_result"
    }
   ],
   "source": [
    "payload = json.dumps({\n",
    "  \"llm_name\": \"jsl_medm_q16_v2\"\n",
    "})\n",
    "requests.request(\"POST\", f\"{APP_URL}/deploy\", headers=HEADERS, data=payload).json()"
   ]
  },
  {
   "cell_type": "code",
   "execution_count": 16,
   "metadata": {},
   "outputs": [
    {
     "name": "stdout",
     "output_type": "stream",
     "text": [
      "{'deployed': {'deployed_at': '2024-09-16 08:06:55 UTC',\n",
      "              'device': 'auto',\n",
      "              'max_context_length': 131072,\n",
      "              'model': 'jsl_medm_q16_v2'},\n",
      " 'system': {'gpus_info': [{'GPU Driver': '535.183.01',\n",
      "                           'GPU ID': 0,\n",
      "                           'GPU Load': '0.0 %',\n",
      "                           'GPU Memory Free': '29613.0 MB',\n",
      "                           'GPU Memory Total': '46068.0  MB',\n",
      "                           'GPU Memory Used': '15982.0 MB',\n",
      "                           'GPU Name': 'NVIDIA L40S',\n",
      "                           'GPU Temperature': '40.0 °C'}],\n",
      "            'is_cuda_available': True,\n",
      "            'number_of_cuda_devices': 1,\n",
      "            'torch_cpu_threads': 2}}\n"
     ]
    }
   ],
   "source": [
    "track_deployment_status(poll_every_seconds=30)"
   ]
  },
  {
   "cell_type": "markdown",
   "metadata": {},
   "source": [
    "### q0"
   ]
  },
  {
   "cell_type": "code",
   "execution_count": 17,
   "metadata": {},
   "outputs": [
    {
     "name": "stdout",
     "output_type": "stream",
     "text": [
      "('assistant\\n'\n",
      " '\\n'\n",
      " 'The main treatment of type 1 diabetes mellitus (T1DM) is insulin replacement '\n",
      " \"therapy. Type 1 diabetes is an autoimmune disease in which the body's immune \"\n",
      " 'system attacks and destroys the cells in the pancreas that produce insulin, '\n",
      " 'a hormone that regulates blood sugar levels. As a result, people with T1DM '\n",
      " 'are unable to produce enough insulin and must rely on insulin replacement '\n",
      " 'therapy to control their blood sugar levels.\\n'\n",
      " '\\n'\n",
      " 'Insulin replacement therapy typically involves the use of insulin injections '\n",
      " 'or an insulin pump. There are several types of insulin available, '\n",
      " 'including:\\n'\n",
      " '\\n'\n",
      " '1. **Short-acting insulin**: This type of insulin is')\n"
     ]
    }
   ],
   "source": [
    "question = \"what is the main treatment of type 1 diabetes mellitus?\"\n",
    "\n",
    "prompt = f\"\"\"\n",
    "### Question:\n",
    "{question}\n",
    "\"\"\"\n",
    "\n",
    "response = generate(prompt = prompt)\n",
    "print(response[\"message\"])"
   ]
  },
  {
   "cell_type": "markdown",
   "metadata": {},
   "source": [
    "### q1"
   ]
  },
  {
   "cell_type": "code",
   "execution_count": 18,
   "metadata": {},
   "outputs": [
    {
     "name": "stdout",
     "output_type": "stream",
     "text": [
      "('assistant\\n'\n",
      " '\\n'\n",
      " 'Asthma is a chronic respiratory disease that cannot be cured, but it can be '\n",
      " 'managed and controlled with proper treatment and lifestyle changes. The goal '\n",
      " 'of asthma management is to control symptoms, prevent exacerbations, and '\n",
      " 'improve quality of life.\\n'\n",
      " '\\n'\n",
      " '**Treatment Options:**\\n'\n",
      " '\\n'\n",
      " '1.  **Medications:** Asthma medications can help control symptoms and '\n",
      " 'prevent exacerbations. Common medications include:\\n'\n",
      " '    *   Inhaled corticosteroids (ICS) to reduce inflammation and swelling in '\n",
      " 'the airways\\n'\n",
      " '    *   Long-acting beta-agonists (LABAs) to open airways and improve '\n",
      " 'breathing\\n'\n",
      " '    *   Combination inhal')\n"
     ]
    }
   ],
   "source": [
    "question = \"How to cure asthma?\"\n",
    "\n",
    "prompt = f\"\"\"\n",
    "### Question:\n",
    "{question}\n",
    "\"\"\"\n",
    "\n",
    "response = generate(prompt = prompt)\n",
    "print(response[\"message\"])"
   ]
  },
  {
   "cell_type": "markdown",
   "metadata": {},
   "source": [
    "### q2"
   ]
  },
  {
   "cell_type": "code",
   "execution_count": 19,
   "metadata": {},
   "outputs": [
    {
     "name": "stdout",
     "output_type": "stream",
     "text": [
      "('assistant\\n'\n",
      " '\\n'\n",
      " 'Alendronate sodium is a bisphosphonate medication used to treat and prevent '\n",
      " 'osteoporosis, a condition characterized by a decrease in bone density and an '\n",
      " \"increased risk of fractures. It is also used to treat Paget's disease of \"\n",
      " 'bone, a condition that causes bones to become enlarged and deformed due to '\n",
      " 'abnormal bone remodeling.\\n'\n",
      " '\\n'\n",
      " 'Alendronate sodium works by inhibiting the activity of osteoclasts, which '\n",
      " 'are cells that break down bone tissue. By reducing the activity of '\n",
      " 'osteoclasts, alendronate sodium helps to increase bone density and reduce '\n",
      " 'the risk of fractures.\\n'\n",
      " '\\n'\n",
      " 'The indications for')\n"
     ]
    }
   ],
   "source": [
    "question = \"what is the indication for the drug alendronate sodium?\"\n",
    "\n",
    "prompt = f\"\"\"\n",
    "### Question:\n",
    "{question}\n",
    "\"\"\"\n",
    "\n",
    "response = generate(prompt = prompt)\n",
    "print(response[\"message\"])"
   ]
  },
  {
   "cell_type": "markdown",
   "metadata": {},
   "source": [
    "### q3"
   ]
  },
  {
   "cell_type": "code",
   "execution_count": 20,
   "metadata": {},
   "outputs": [
    {
     "name": "stdout",
     "output_type": "stream",
     "text": [
      "('assistant\\n'\n",
      " '\\n'\n",
      " 'Methadone is a synthetic opioid medication primarily used for the treatment '\n",
      " 'of moderate to severe pain and for the management of opioid use disorder. '\n",
      " 'The indications for methadone include:\\n'\n",
      " '\\n'\n",
      " '1. **Chronic Pain Management**: Methadone is used to treat moderate to '\n",
      " 'severe chronic pain that is not adequately controlled by other pain '\n",
      " 'medications. It is often used in patients with cancer, HIV/AIDS, or other '\n",
      " 'chronic conditions that cause severe pain.\\n'\n",
      " '2. **Opioid Use Disorder**: Methadone is used as a medication-assisted '\n",
      " 'treatment (MAT) for opioid use disorder. It is used to help manage '\n",
      " 'withdrawal symptoms and')\n"
     ]
    }
   ],
   "source": [
    "question = \"what is the indication for the drug Methadone?\"\n",
    "\n",
    "prompt = f\"\"\"\n",
    "### Question:\n",
    "{question}\n",
    "\"\"\"\n",
    "\n",
    "response = generate(prompt = prompt)\n",
    "print(response[\"message\"])"
   ]
  },
  {
   "cell_type": "markdown",
   "metadata": {},
   "source": [
    "### q4"
   ]
  },
  {
   "cell_type": "code",
   "execution_count": 21,
   "metadata": {},
   "outputs": [
    {
     "name": "stdout",
     "output_type": "stream",
     "text": [
      "('assistant\\n'\n",
      " '\\n'\n",
      " 'Hypothyroidism is a condition in which the thyroid gland does not produce '\n",
      " 'enough thyroid hormones. The medication used to treat hypothyroidism is '\n",
      " 'called levothyroxine (T4).')\n"
     ]
    }
   ],
   "source": [
    "question = \"what is the medication is used to treat hypothyroidism?\"\n",
    "\n",
    "prompt = f\"\"\"\n",
    "### Question:\n",
    "{question}\n",
    "\"\"\"\n",
    "\n",
    "response = generate(prompt = prompt)\n",
    "print(response[\"message\"])"
   ]
  },
  {
   "cell_type": "markdown",
   "metadata": {},
   "source": [
    "## JSL_MedS\n",
    "\n",
    "* 'jsl_meds_q16_v1',\n",
    "* 'jsl_meds_q4_v1',\n",
    "* 'jsl_meds_q8_v1',"
   ]
  },
  {
   "cell_type": "code",
   "execution_count": 22,
   "metadata": {},
   "outputs": [
    {
     "data": {
      "text/plain": [
       "{'message': 'deployment started'}"
      ]
     },
     "execution_count": 22,
     "metadata": {},
     "output_type": "execute_result"
    }
   ],
   "source": [
    "payload = json.dumps({\n",
    "  \"llm_name\": \"jsl_meds_q16_v1\"\n",
    "})\n",
    "requests.request(\"POST\", f\"{APP_URL}/deploy\", headers=HEADERS, data=payload).json()"
   ]
  },
  {
   "cell_type": "code",
   "execution_count": 23,
   "metadata": {},
   "outputs": [
    {
     "name": "stdout",
     "output_type": "stream",
     "text": [
      "{'deployed': {'deployed_at': '2024-09-16 08:29:28 UTC',\n",
      "              'device': 'auto',\n",
      "              'max_context_length': 131072,\n",
      "              'model': 'jsl_meds_q16_v1'},\n",
      " 'system': {'gpus_info': [{'GPU Driver': '535.183.01',\n",
      "                           'GPU ID': 0,\n",
      "                           'GPU Load': '0.0 %',\n",
      "                           'GPU Memory Free': '37769.0 MB',\n",
      "                           'GPU Memory Total': '46068.0  MB',\n",
      "                           'GPU Memory Used': '7826.0 MB',\n",
      "                           'GPU Name': 'NVIDIA L40S',\n",
      "                           'GPU Temperature': '38.0 °C'}],\n",
      "            'is_cuda_available': True,\n",
      "            'number_of_cuda_devices': 1,\n",
      "            'torch_cpu_threads': 2}}\n"
     ]
    }
   ],
   "source": [
    "track_deployment_status(poll_every_seconds=60)"
   ]
  },
  {
   "cell_type": "markdown",
   "metadata": {},
   "source": [
    "## q0"
   ]
  },
  {
   "cell_type": "code",
   "execution_count": 24,
   "metadata": {},
   "outputs": [
    {
     "name": "stdout",
     "output_type": "stream",
     "text": [
      "('Methadone is indicated for the treatment of opioid dependence, chronic pain, '\n",
      " 'and as part of palliative care for cancer patients.')\n"
     ]
    }
   ],
   "source": [
    "question = \"what is the indication for the drug Methadone?\"\n",
    "\n",
    "prompt = f\"\"\"\n",
    "### Question:\n",
    "{question}\n",
    "\"\"\"\n",
    "\n",
    "response = generate(prompt = prompt)\n",
    "print(response[\"message\"])"
   ]
  },
  {
   "cell_type": "markdown",
   "metadata": {},
   "source": [
    "### q1"
   ]
  },
  {
   "cell_type": "code",
   "execution_count": 25,
   "metadata": {},
   "outputs": [
    {
     "name": "stdout",
     "output_type": "stream",
     "text": [
      "'Levothyroxine is the primary medication used to treat hypothyroidism.'\n"
     ]
    }
   ],
   "source": [
    "question = \"what is the medication is used to treat hypothyroidism?\"\n",
    "\n",
    "prompt = f\"\"\"\n",
    "### Question:\n",
    "{question}\n",
    "\"\"\"\n",
    "\n",
    "response = generate(prompt = prompt)\n",
    "print(response[\"message\"])"
   ]
  },
  {
   "cell_type": "markdown",
   "metadata": {},
   "source": [
    "### q2"
   ]
  },
  {
   "cell_type": "code",
   "execution_count": 26,
   "metadata": {},
   "outputs": [
    {
     "data": {
      "text/plain": [
       "'The age group most susceptible to breast cancer is women over 50.'"
      ]
     },
     "execution_count": 26,
     "metadata": {},
     "output_type": "execute_result"
    }
   ],
   "source": [
    "prompt = f\"\"\"\n",
    "Based on the following text, what age group is most susceptible to breast cancer?\n",
    "\n",
    "## Text:\n",
    "The exact cause of breast cancer is unknown. However, several risk factors can increase your likelihood of developing breast cancer, such as:\n",
    "- A personal or family history of breast cancer\n",
    "- A genetic mutation, such as BRCA1 or BRCA2\n",
    "- Exposure to radiation\n",
    "- Age (most commonly occurring in women over 50)\n",
    "- Early onset of menstruation or late menopause\n",
    "- Obesity\n",
    "- Hormonal factors, such as taking hormone replacement therapy\n",
    "\"\"\"\n",
    "\n",
    "response = generate(prompt = prompt)\n",
    "response[\"message\"]"
   ]
  },
  {
   "cell_type": "markdown",
   "metadata": {},
   "source": [
    "### q3"
   ]
  },
  {
   "cell_type": "code",
   "execution_count": 27,
   "metadata": {},
   "outputs": [
    {
     "data": {
      "text/plain": [
       "'E'"
      ]
     },
     "execution_count": 27,
     "metadata": {},
     "output_type": "execute_result"
    }
   ],
   "source": [
    "prompt = f\"\"\"\n",
    "A 23-year-old pregnant woman at 22 weeks gestation presents with burning upon urination. She states it started 1 day ago and has been worsening despite drinking more water and taking cranberry extract. She otherwise feels well and is followed by a doctor for her pregnancy. Her temperature is 97.7°F (36.5°C), blood pressure is 122/77 mmHg, pulse is 80/min, respirations are 19/min, and oxygen saturation is 98% on room air. Physical exam is notable for an absence of costovertebral angle tenderness and a gravid uterus.\n",
    "Which of the following is the best treatment for this patient?\n",
    "A: Ampicillin\n",
    "B: Ceftriaxone\n",
    "C: Ciprofloxacin\n",
    "D: Doxycycline\n",
    "E: Nitrofurantoin\n",
    "\"\"\"\n",
    "\n",
    "response = generate(prompt = prompt)\n",
    "response[\"message\"]"
   ]
  },
  {
   "cell_type": "code",
   "execution_count": null,
   "metadata": {},
   "outputs": [],
   "source": []
  }
 ],
 "metadata": {
  "kernelspec": {
   "display_name": "Python 3 (ipykernel)",
   "language": "python",
   "name": "python3"
  },
  "language_info": {
   "codemirror_mode": {
    "name": "ipython",
    "version": 3
   },
   "file_extension": ".py",
   "mimetype": "text/x-python",
   "name": "python",
   "nbconvert_exporter": "python",
   "pygments_lexer": "ipython3",
   "version": "3.11.10"
  }
 },
 "nbformat": 4,
 "nbformat_minor": 4
}

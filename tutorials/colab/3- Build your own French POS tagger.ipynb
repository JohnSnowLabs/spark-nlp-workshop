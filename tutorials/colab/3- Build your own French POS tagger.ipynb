{
 "cells": [
  {
   "cell_type": "markdown",
   "metadata": {
    "colab_type": "text",
    "id": "Td8ivUBhi607"
   },
   "source": [
    "![JohnSnowLabs](https://nlp.johnsnowlabs.com/assets/images/logo.png)"
   ]
  },
  {
   "cell_type": "markdown",
   "metadata": {
    "colab_type": "text",
    "id": "4CAKXMChi609"
   },
   "source": [
    "# Train POS Tagger in French by Spark NLP\n",
    "### Based on Universal Dependency `UD_French-GSD`\n"
   ]
  },
  {
   "cell_type": "code",
   "execution_count": null,
   "metadata": {
    "colab": {
     "base_uri": "https://localhost:8080/",
     "height": 374
    },
    "colab_type": "code",
    "executionInfo": {
     "elapsed": 52207,
     "status": "ok",
     "timestamp": 1568997703663,
     "user": {
      "displayName": "Alexander Thomas",
      "photoUrl": "",
      "userId": "11939695612384769217"
     },
     "user_tz": 420
    },
    "id": "FCFaM2z2jBKI",
    "outputId": "43627dcb-bf7e-41c8-e1e3-c9f6b49aa6ce"
   },
   "outputs": [],
   "source": [
    "import os\n",
    "\n",
    "# Install java\n",
    "! apt-get install -y openjdk-8-jdk-headless -qq > /dev/null\n",
    "os.environ[\"JAVA_HOME\"] = \"/usr/lib/jvm/java-8-openjdk-amd64\"\n",
    "os.environ[\"PATH\"] = os.environ[\"JAVA_HOME\"] + \"/bin:\" + os.environ[\"PATH\"]\n",
    "! java -version\n",
    "\n",
    "# Install pyspark\n",
    "! pip install --ignore-installed pyspark==2.4.4\n",
    "\n",
    "# Install Spark NLP\n",
    "! pip install --ignore-installed spark-nlp==2.4.0"
   ]
  },
  {
   "cell_type": "code",
   "execution_count": 1,
   "metadata": {
    "colab": {},
    "colab_type": "code",
    "id": "ght3dzL1i60-"
   },
   "outputs": [],
   "source": [
    "import sys\n",
    "import time\n",
    "\n",
    "#Spark ML and SQL\n",
    "from pyspark.ml import Pipeline, PipelineModel\n",
    "from pyspark.sql.functions import array_contains\n",
    "from pyspark.sql import SparkSession\n",
    "from pyspark.sql.types import StructType, StructField, IntegerType, StringType\n",
    "#Spark NLP\n",
    "import sparknlp\n",
    "from sparknlp.annotator import *\n",
    "from sparknlp.common import RegexRule\n",
    "from sparknlp.base import DocumentAssembler, Finisher\n"
   ]
  },
  {
   "cell_type": "markdown",
   "metadata": {
    "colab_type": "text",
    "id": "Xbuc8JGii61C"
   },
   "source": [
    "### Let's create a Spark Session for our app"
   ]
  },
  {
   "cell_type": "code",
   "execution_count": 2,
   "metadata": {
    "colab": {
     "base_uri": "https://localhost:8080/",
     "height": 85
    },
    "colab_type": "code",
    "executionInfo": {
     "elapsed": 71515,
     "status": "ok",
     "timestamp": 1568997725123,
     "user": {
      "displayName": "Alexander Thomas",
      "photoUrl": "",
      "userId": "11939695612384769217"
     },
     "user_tz": 420
    },
    "id": "lvWCetHOi61E",
    "outputId": "7784ffc9-b82e-4456-872e-b89a465dae90"
   },
   "outputs": [
    {
     "name": "stdout",
     "output_type": "stream",
     "text": [
      "Spark NLP version:  2.4.0\n",
      "Apache Spark version:  2.4.4\n"
     ]
    }
   ],
   "source": [
    "spark = sparknlp.start()\n",
    "\n",
    "print(\"Spark NLP version: \", sparknlp.version())\n",
    "print(\"Apache Spark version: \", spark.version)"
   ]
  },
  {
   "cell_type": "markdown",
   "metadata": {
    "colab_type": "text",
    "id": "G8gbf20gi61I"
   },
   "source": [
    "Let's prepare our training datasets containing `token_posTag` like `de_DET`. You can download this data set from Amazon S3:\n",
    "\n",
    "```\n",
    "wget -N https://s3.amazonaws.com/auxdata.johnsnowlabs.com/public/resources/fr/pos/UD_French/UD_French-GSD_2.3.txt -P /tmp\n",
    "```"
   ]
  },
  {
   "cell_type": "code",
   "execution_count": 3,
   "metadata": {
    "colab": {
     "base_uri": "https://localhost:8080/",
     "height": 204
    },
    "colab_type": "code",
    "executionInfo": {
     "elapsed": 2792,
     "status": "ok",
     "timestamp": 1568998107174,
     "user": {
      "displayName": "Alexander Thomas",
      "photoUrl": "",
      "userId": "11939695612384769217"
     },
     "user_tz": 420
    },
    "id": "ziEpVDqRi61J",
    "outputId": "9da241e8-26da-4418-d3b0-9ccbe5fe6a59"
   },
   "outputs": [
    {
     "name": "stdout",
     "output_type": "stream",
     "text": [
      "--2020-02-10 19:39:50--  https://s3.amazonaws.com/auxdata.johnsnowlabs.com/public/resources/fr/pos/UD_French/UD_French-GSD_2.3.txt\n",
      "Loaded CA certificate '/etc/ssl/certs/ca-certificates.crt'\n",
      "Resolving s3.amazonaws.com (s3.amazonaws.com)... 52.216.133.205\n",
      "Connecting to s3.amazonaws.com (s3.amazonaws.com)|52.216.133.205|:443... connected.\n",
      "HTTP request sent, awaiting response... 304 Not Modified\n",
      "File ‘/tmp/UD_French-GSD_2.3.txt’ not modified on server. Omitting download.\n",
      "\n"
     ]
    }
   ],
   "source": [
    "! wget -N https://s3.amazonaws.com/auxdata.johnsnowlabs.com/public/resources/fr/pos/UD_French/UD_French-GSD_2.3.txt -P /tmp"
   ]
  },
  {
   "cell_type": "code",
   "execution_count": 4,
   "metadata": {
    "colab": {},
    "colab_type": "code",
    "id": "LJYEcPpii61L"
   },
   "outputs": [],
   "source": [
    "from sparknlp.training import POS\n",
    "training_data = POS().readDataset(spark, '/tmp/UD_French-GSD_2.3.txt', '_', 'tags')"
   ]
  },
  {
   "cell_type": "code",
   "execution_count": 5,
   "metadata": {
    "colab": {
     "base_uri": "https://localhost:8080/",
     "height": 459
    },
    "colab_type": "code",
    "executionInfo": {
     "elapsed": 10375,
     "status": "ok",
     "timestamp": 1568998125347,
     "user": {
      "displayName": "Alexander Thomas",
      "photoUrl": "",
      "userId": "11939695612384769217"
     },
     "user_tz": 420
    },
    "id": "G_2KFczOi61O",
    "outputId": "df959636-ee85-437e-aca3-26598f403731"
   },
   "outputs": [
    {
     "name": "stdout",
     "output_type": "stream",
     "text": [
      "+--------------------+--------------------+--------------------+\n",
      "|                text|            document|                tags|\n",
      "+--------------------+--------------------+--------------------+\n",
      "|Les commotions cé...|[[document, 0, 11...|[[pos, 0, 2, DET,...|\n",
      "|L' œuvre est situ...|[[document, 0, 82...|[[pos, 0, 1, DET,...|\n",
      "|Le comportement d...|[[document, 0, 18...|[[pos, 0, 1, DET,...|\n",
      "|Toutefois , les f...|[[document, 0, 44...|[[pos, 0, 8, ADV,...|\n",
      "|Ismene entre et a...|[[document, 0, 80...|[[pos, 0, 5, PROP...|\n",
      "|je reviendrais av...|[[document, 0, 28...|[[pos, 0, 1, PRON...|\n",
      "|Les forfaits comp...|[[document, 0, 30...|[[pos, 0, 2, DET,...|\n",
      "|Il prévient que d...|[[document, 0, 99...|[[pos, 0, 1, PRON...|\n",
      "|Ils tiraient à ba...|[[document, 0, 43...|[[pos, 0, 2, PRON...|\n",
      "|Le château est en...|[[document, 0, 44...|[[pos, 0, 1, DET,...|\n",
      "|En effet , la bir...|[[document, 0, 10...|[[pos, 0, 1, ADP,...|\n",
      "|Le point final de...|[[document, 0, 15...|[[pos, 0, 1, DET,...|\n",
      "|L' information gé...|[[document, 0, 53...|[[pos, 0, 1, DET,...|\n",
      "|Motivé par la cha...|[[document, 0, 21...|[[pos, 0, 5, VERB...|\n",
      "|Il exploitait un ...|[[document, 0, 12...|[[pos, 0, 1, PRON...|\n",
      "|Plus tard dans la...|[[document, 0, 84...|[[pos, 0, 3, ADV,...|\n",
      "|Ils deviennent al...|[[document, 0, 97...|[[pos, 0, 2, PRON...|\n",
      "|Le chevalier lui ...|[[document, 0, 17...|[[pos, 0, 1, DET,...|\n",
      "|Créée au cours du...|[[document, 0, 15...|[[pos, 0, 4, VERB...|\n",
      "|On ne peut éviter...|[[document, 0, 11...|[[pos, 0, 1, PRON...|\n",
      "+--------------------+--------------------+--------------------+\n",
      "only showing top 20 rows\n",
      "\n"
     ]
    }
   ],
   "source": [
    "training_data.show()"
   ]
  },
  {
   "cell_type": "code",
   "execution_count": 6,
   "metadata": {
    "colab": {},
    "colab_type": "code",
    "id": "HXiPEJ4yi61R"
   },
   "outputs": [],
   "source": [
    "document_assembler = DocumentAssembler() \\\n",
    "    .setInputCol(\"text\")\n",
    "\n",
    "sentence_detector = SentenceDetector() \\\n",
    "    .setInputCols([\"document\"]) \\\n",
    "    .setOutputCol(\"sentence\")\n",
    "\n",
    "tokenizer = Tokenizer() \\\n",
    "    .setInputCols([\"sentence\"]) \\\n",
    "    .setOutputCol(\"token\")\\\n",
    "    .setExceptions([\"jusqu'\", \"aujourd'hui\", \"États-Unis\", \"lui-même\", \"celui-ci\", \"c'est-à-dire\", \"celle-ci\", \"au-dessus\", \"etc.\", \"sud-est\", \"Royaume-Uni\", \"ceux-ci\", \"au-delà\", \"elle-même\", \"peut-être\", \"sud-ouest\", \"nord-ouest\", \"nord-est\", \"Etats-Unis\", \"Grande-Bretagne\", \"Pays-Bas\", \"eux-mêmes\", \"porte-parole\", \"Notre-Dame\", \"puisqu'\", \"week-end\", \"quelqu'un\", \"celles-ci\", \"chef-lieu\"])\\\n",
    "    .setPrefixPattern(\"\\\\A([^\\\\s\\\\p{L}\\\\d\\\\$\\\\.#]*)\")\\\n",
    "    .setSuffixPattern(\"([^\\\\s\\\\p{L}\\\\d]?)([^\\\\s\\\\p{L}\\\\d]*)\\\\z\")\\\n",
    "    .setInfixPatterns([\n",
    "      \"([\\\\p{L}\\\\w]+'{1})\",\n",
    "      \"([\\\\$#]?\\\\d+(?:[^\\\\s\\\\d]{1}\\\\d+)*)\",\n",
    "      \"((?:\\\\p{L}\\\\.)+)\",\n",
    "      \"((?:\\\\p{L}+[^\\\\s\\\\p{L}]{1})+\\\\p{L}+)\",\n",
    "      \"([\\\\p{L}\\\\w]+)\"\n",
    "    ])\n",
    "\n",
    "posTagger = PerceptronApproach() \\\n",
    "    .setNIterations(1) \\\n",
    "    .setInputCols([\"sentence\", \"token\"]) \\\n",
    "    .setOutputCol(\"pos\") \\\n",
    "    .setPosCol(\"tags\")\n",
    "    \n",
    "pipeline = Pipeline(stages=[\n",
    "    document_assembler, \n",
    "    sentence_detector, \n",
    "    tokenizer,\n",
    "    posTagger\n",
    "])"
   ]
  },
  {
   "cell_type": "code",
   "execution_count": 7,
   "metadata": {
    "colab": {},
    "colab_type": "code",
    "id": "hu9YoE8Fi61T"
   },
   "outputs": [],
   "source": [
    "# Let's train our Pipeline by using our training dataset\n",
    "model = pipeline.fit(training_data)"
   ]
  },
  {
   "cell_type": "markdown",
   "metadata": {
    "colab_type": "text",
    "id": "S6lE7os-i61W"
   },
   "source": [
    "This is our testing DataFrame where we get some sentences in French. We are going to use our trained Pipeline to transform these sentence and predict each token's `Part Of Speech`."
   ]
  },
  {
   "cell_type": "code",
   "execution_count": 8,
   "metadata": {
    "colab": {},
    "colab_type": "code",
    "id": "xEPzcy-Qi61X"
   },
   "outputs": [],
   "source": [
    "dfTest = spark.createDataFrame([\n",
    "    \"Je sens qu'entre ça et les films de médecins et scientifiques fous que nous avons déjà vus, nous pourrions emprunter un autre chemin pour l'origine.\",\n",
    "    \"On pourra toujours parler à propos d'Averroès de décentrement du Sujet.\"\n",
    "], StringType()).toDF(\"text\")"
   ]
  },
  {
   "cell_type": "code",
   "execution_count": 9,
   "metadata": {
    "colab": {},
    "colab_type": "code",
    "id": "Kr8nIWebi61Z"
   },
   "outputs": [],
   "source": [
    "predict = model.transform(dfTest)"
   ]
  },
  {
   "cell_type": "code",
   "execution_count": 10,
   "metadata": {
    "colab": {
     "base_uri": "https://localhost:8080/",
     "height": 136
    },
    "colab_type": "code",
    "executionInfo": {
     "elapsed": 1891,
     "status": "ok",
     "timestamp": 1568998184744,
     "user": {
      "displayName": "Alexander Thomas",
      "photoUrl": "",
      "userId": "11939695612384769217"
     },
     "user_tz": 420
    },
    "id": "YQ40EvlPi61c",
    "outputId": "a9dd10e4-e960-4dfa-a28b-9b967393536a"
   },
   "outputs": [
    {
     "ename": "Py4JJavaError",
     "evalue": "An error occurred while calling o337.showString.\n: org.apache.spark.SparkException: Job aborted due to stage failure: Task 0 in stage 2.0 failed 1 times, most recent failure: Lost task 0.0 in stage 2.0 (TID 2, localhost, executor driver): org.apache.spark.SparkException: \nError from python worker:\n  Traceback (most recent call last):\n    File \"/usr/lib/python3.8/runpy.py\", line 184, in _run_module_as_main\n      mod_name, mod_spec, code = _get_module_details(mod_name, _Error)\n    File \"/usr/lib/python3.8/runpy.py\", line 110, in _get_module_details\n      __import__(pkg_name)\n    File \"<frozen importlib._bootstrap>\", line 991, in _find_and_load\n    File \"<frozen importlib._bootstrap>\", line 975, in _find_and_load_unlocked\n    File \"<frozen importlib._bootstrap>\", line 655, in _load_unlocked\n    File \"<frozen importlib._bootstrap>\", line 618, in _load_backward_compatible\n    File \"<frozen zipimport>\", line 259, in load_module\n    File \"/home/loan/venv/spark-nlp-2-4-4/lib/python3.7/site-packages/pyspark/python/lib/pyspark.zip/pyspark/__init__.py\", line 51, in <module>\n    File \"<frozen importlib._bootstrap>\", line 991, in _find_and_load\n    File \"<frozen importlib._bootstrap>\", line 975, in _find_and_load_unlocked\n    File \"<frozen importlib._bootstrap>\", line 655, in _load_unlocked\n    File \"<frozen importlib._bootstrap>\", line 618, in _load_backward_compatible\n    File \"<frozen zipimport>\", line 259, in load_module\n    File \"/home/loan/venv/spark-nlp-2-4-4/lib/python3.7/site-packages/pyspark/python/lib/pyspark.zip/pyspark/context.py\", line 31, in <module>\n    File \"<frozen importlib._bootstrap>\", line 991, in _find_and_load\n    File \"<frozen importlib._bootstrap>\", line 975, in _find_and_load_unlocked\n    File \"<frozen importlib._bootstrap>\", line 655, in _load_unlocked\n    File \"<frozen importlib._bootstrap>\", line 618, in _load_backward_compatible\n    File \"<frozen zipimport>\", line 259, in load_module\n    File \"/home/loan/venv/spark-nlp-2-4-4/lib/python3.7/site-packages/pyspark/python/lib/pyspark.zip/pyspark/accumulators.py\", line 97, in <module>\n    File \"<frozen importlib._bootstrap>\", line 991, in _find_and_load\n    File \"<frozen importlib._bootstrap>\", line 975, in _find_and_load_unlocked\n    File \"<frozen importlib._bootstrap>\", line 655, in _load_unlocked\n    File \"<frozen importlib._bootstrap>\", line 618, in _load_backward_compatible\n    File \"<frozen zipimport>\", line 259, in load_module\n    File \"/home/loan/venv/spark-nlp-2-4-4/lib/python3.7/site-packages/pyspark/python/lib/pyspark.zip/pyspark/serializers.py\", line 71, in <module>\n    File \"<frozen importlib._bootstrap>\", line 991, in _find_and_load\n    File \"<frozen importlib._bootstrap>\", line 975, in _find_and_load_unlocked\n    File \"<frozen importlib._bootstrap>\", line 655, in _load_unlocked\n    File \"<frozen importlib._bootstrap>\", line 618, in _load_backward_compatible\n    File \"<frozen zipimport>\", line 259, in load_module\n    File \"/home/loan/venv/spark-nlp-2-4-4/lib/python3.7/site-packages/pyspark/python/lib/pyspark.zip/pyspark/cloudpickle.py\", line 145, in <module>\n    File \"/home/loan/venv/spark-nlp-2-4-4/lib/python3.7/site-packages/pyspark/python/lib/pyspark.zip/pyspark/cloudpickle.py\", line 126, in _make_cell_set_template_code\n  TypeError: an integer is required (got type bytes)\nPYTHONPATH was:\n  /home/loan/venv/spark-nlp-2-4-4/lib/python3.7/site-packages/pyspark/python/lib/pyspark.zip:/home/loan/venv/spark-nlp-2-4-4/lib/python3.7/site-packages/pyspark/python/lib/py4j-0.10.7-src.zip:/home/loan/venv/spark-nlp-2-4-4/lib/python3.7/site-packages/pyspark/jars/spark-core_2.11-2.4.4.jar\norg.apache.spark.SparkException: No port number in pyspark.daemon's stdout\n\tat org.apache.spark.api.python.PythonWorkerFactory.startDaemon(PythonWorkerFactory.scala:204)\n\tat org.apache.spark.api.python.PythonWorkerFactory.createThroughDaemon(PythonWorkerFactory.scala:122)\n\tat org.apache.spark.api.python.PythonWorkerFactory.create(PythonWorkerFactory.scala:95)\n\tat org.apache.spark.SparkEnv.createPythonWorker(SparkEnv.scala:117)\n\tat org.apache.spark.api.python.BasePythonRunner.compute(PythonRunner.scala:109)\n\tat org.apache.spark.api.python.PythonRDD.compute(PythonRDD.scala:65)\n\tat org.apache.spark.rdd.RDD.computeOrReadCheckpoint(RDD.scala:324)\n\tat org.apache.spark.rdd.RDD.iterator(RDD.scala:288)\n\tat org.apache.spark.rdd.MapPartitionsRDD.compute(MapPartitionsRDD.scala:52)\n\tat org.apache.spark.rdd.RDD.computeOrReadCheckpoint(RDD.scala:324)\n\tat org.apache.spark.rdd.RDD.iterator(RDD.scala:288)\n\tat org.apache.spark.rdd.MapPartitionsRDD.compute(MapPartitionsRDD.scala:52)\n\tat org.apache.spark.rdd.RDD.computeOrReadCheckpoint(RDD.scala:324)\n\tat org.apache.spark.rdd.RDD.iterator(RDD.scala:288)\n\tat org.apache.spark.rdd.MapPartitionsRDD.compute(MapPartitionsRDD.scala:52)\n\tat org.apache.spark.rdd.RDD.computeOrReadCheckpoint(RDD.scala:324)\n\tat org.apache.spark.rdd.RDD.iterator(RDD.scala:288)\n\tat org.apache.spark.rdd.MapPartitionsRDD.compute(MapPartitionsRDD.scala:52)\n\tat org.apache.spark.rdd.RDD.computeOrReadCheckpoint(RDD.scala:324)\n\tat org.apache.spark.rdd.RDD.iterator(RDD.scala:288)\n\tat org.apache.spark.rdd.MapPartitionsRDD.compute(MapPartitionsRDD.scala:52)\n\tat org.apache.spark.rdd.RDD.computeOrReadCheckpoint(RDD.scala:324)\n\tat org.apache.spark.rdd.RDD.iterator(RDD.scala:288)\n\tat org.apache.spark.rdd.MapPartitionsRDD.compute(MapPartitionsRDD.scala:52)\n\tat org.apache.spark.rdd.RDD.computeOrReadCheckpoint(RDD.scala:324)\n\tat org.apache.spark.rdd.RDD.iterator(RDD.scala:288)\n\tat org.apache.spark.rdd.MapPartitionsRDD.compute(MapPartitionsRDD.scala:52)\n\tat org.apache.spark.rdd.RDD.computeOrReadCheckpoint(RDD.scala:324)\n\tat org.apache.spark.rdd.RDD.iterator(RDD.scala:288)\n\tat org.apache.spark.scheduler.ResultTask.runTask(ResultTask.scala:90)\n\tat org.apache.spark.scheduler.Task.run(Task.scala:123)\n\tat org.apache.spark.executor.Executor$TaskRunner$$anonfun$10.apply(Executor.scala:408)\n\tat org.apache.spark.util.Utils$.tryWithSafeFinally(Utils.scala:1360)\n\tat org.apache.spark.executor.Executor$TaskRunner.run(Executor.scala:414)\n\tat java.util.concurrent.ThreadPoolExecutor.runWorker(ThreadPoolExecutor.java:1149)\n\tat java.util.concurrent.ThreadPoolExecutor$Worker.run(ThreadPoolExecutor.java:624)\n\tat java.lang.Thread.run(Thread.java:748)\n\nDriver stacktrace:\n\tat org.apache.spark.scheduler.DAGScheduler.org$apache$spark$scheduler$DAGScheduler$$failJobAndIndependentStages(DAGScheduler.scala:1889)\n\tat org.apache.spark.scheduler.DAGScheduler$$anonfun$abortStage$1.apply(DAGScheduler.scala:1877)\n\tat org.apache.spark.scheduler.DAGScheduler$$anonfun$abortStage$1.apply(DAGScheduler.scala:1876)\n\tat scala.collection.mutable.ResizableArray$class.foreach(ResizableArray.scala:59)\n\tat scala.collection.mutable.ArrayBuffer.foreach(ArrayBuffer.scala:48)\n\tat org.apache.spark.scheduler.DAGScheduler.abortStage(DAGScheduler.scala:1876)\n\tat org.apache.spark.scheduler.DAGScheduler$$anonfun$handleTaskSetFailed$1.apply(DAGScheduler.scala:926)\n\tat org.apache.spark.scheduler.DAGScheduler$$anonfun$handleTaskSetFailed$1.apply(DAGScheduler.scala:926)\n\tat scala.Option.foreach(Option.scala:257)\n\tat org.apache.spark.scheduler.DAGScheduler.handleTaskSetFailed(DAGScheduler.scala:926)\n\tat org.apache.spark.scheduler.DAGSchedulerEventProcessLoop.doOnReceive(DAGScheduler.scala:2110)\n\tat org.apache.spark.scheduler.DAGSchedulerEventProcessLoop.onReceive(DAGScheduler.scala:2059)\n\tat org.apache.spark.scheduler.DAGSchedulerEventProcessLoop.onReceive(DAGScheduler.scala:2048)\n\tat org.apache.spark.util.EventLoop$$anon$1.run(EventLoop.scala:49)\n\tat org.apache.spark.scheduler.DAGScheduler.runJob(DAGScheduler.scala:737)\n\tat org.apache.spark.SparkContext.runJob(SparkContext.scala:2061)\n\tat org.apache.spark.SparkContext.runJob(SparkContext.scala:2082)\n\tat org.apache.spark.SparkContext.runJob(SparkContext.scala:2101)\n\tat org.apache.spark.sql.execution.SparkPlan.executeTake(SparkPlan.scala:365)\n\tat org.apache.spark.sql.execution.CollectLimitExec.executeCollect(limit.scala:38)\n\tat org.apache.spark.sql.Dataset.org$apache$spark$sql$Dataset$$collectFromPlan(Dataset.scala:3389)\n\tat org.apache.spark.sql.Dataset$$anonfun$head$1.apply(Dataset.scala:2550)\n\tat org.apache.spark.sql.Dataset$$anonfun$head$1.apply(Dataset.scala:2550)\n\tat org.apache.spark.sql.Dataset$$anonfun$52.apply(Dataset.scala:3370)\n\tat org.apache.spark.sql.execution.SQLExecution$$anonfun$withNewExecutionId$1.apply(SQLExecution.scala:78)\n\tat org.apache.spark.sql.execution.SQLExecution$.withSQLConfPropagated(SQLExecution.scala:125)\n\tat org.apache.spark.sql.execution.SQLExecution$.withNewExecutionId(SQLExecution.scala:73)\n\tat org.apache.spark.sql.Dataset.withAction(Dataset.scala:3369)\n\tat org.apache.spark.sql.Dataset.head(Dataset.scala:2550)\n\tat org.apache.spark.sql.Dataset.take(Dataset.scala:2764)\n\tat org.apache.spark.sql.Dataset.getRows(Dataset.scala:254)\n\tat org.apache.spark.sql.Dataset.showString(Dataset.scala:291)\n\tat sun.reflect.NativeMethodAccessorImpl.invoke0(Native Method)\n\tat sun.reflect.NativeMethodAccessorImpl.invoke(NativeMethodAccessorImpl.java:62)\n\tat sun.reflect.DelegatingMethodAccessorImpl.invoke(DelegatingMethodAccessorImpl.java:43)\n\tat java.lang.reflect.Method.invoke(Method.java:498)\n\tat py4j.reflection.MethodInvoker.invoke(MethodInvoker.java:244)\n\tat py4j.reflection.ReflectionEngine.invoke(ReflectionEngine.java:357)\n\tat py4j.Gateway.invoke(Gateway.java:282)\n\tat py4j.commands.AbstractCommand.invokeMethod(AbstractCommand.java:132)\n\tat py4j.commands.CallCommand.execute(CallCommand.java:79)\n\tat py4j.GatewayConnection.run(GatewayConnection.java:238)\n\tat java.lang.Thread.run(Thread.java:748)\nCaused by: org.apache.spark.SparkException: \nError from python worker:\n  Traceback (most recent call last):\n    File \"/usr/lib/python3.8/runpy.py\", line 184, in _run_module_as_main\n      mod_name, mod_spec, code = _get_module_details(mod_name, _Error)\n    File \"/usr/lib/python3.8/runpy.py\", line 110, in _get_module_details\n      __import__(pkg_name)\n    File \"<frozen importlib._bootstrap>\", line 991, in _find_and_load\n    File \"<frozen importlib._bootstrap>\", line 975, in _find_and_load_unlocked\n    File \"<frozen importlib._bootstrap>\", line 655, in _load_unlocked\n    File \"<frozen importlib._bootstrap>\", line 618, in _load_backward_compatible\n    File \"<frozen zipimport>\", line 259, in load_module\n    File \"/home/loan/venv/spark-nlp-2-4-4/lib/python3.7/site-packages/pyspark/python/lib/pyspark.zip/pyspark/__init__.py\", line 51, in <module>\n    File \"<frozen importlib._bootstrap>\", line 991, in _find_and_load\n    File \"<frozen importlib._bootstrap>\", line 975, in _find_and_load_unlocked\n    File \"<frozen importlib._bootstrap>\", line 655, in _load_unlocked\n    File \"<frozen importlib._bootstrap>\", line 618, in _load_backward_compatible\n    File \"<frozen zipimport>\", line 259, in load_module\n    File \"/home/loan/venv/spark-nlp-2-4-4/lib/python3.7/site-packages/pyspark/python/lib/pyspark.zip/pyspark/context.py\", line 31, in <module>\n    File \"<frozen importlib._bootstrap>\", line 991, in _find_and_load\n    File \"<frozen importlib._bootstrap>\", line 975, in _find_and_load_unlocked\n    File \"<frozen importlib._bootstrap>\", line 655, in _load_unlocked\n    File \"<frozen importlib._bootstrap>\", line 618, in _load_backward_compatible\n    File \"<frozen zipimport>\", line 259, in load_module\n    File \"/home/loan/venv/spark-nlp-2-4-4/lib/python3.7/site-packages/pyspark/python/lib/pyspark.zip/pyspark/accumulators.py\", line 97, in <module>\n    File \"<frozen importlib._bootstrap>\", line 991, in _find_and_load\n    File \"<frozen importlib._bootstrap>\", line 975, in _find_and_load_unlocked\n    File \"<frozen importlib._bootstrap>\", line 655, in _load_unlocked\n    File \"<frozen importlib._bootstrap>\", line 618, in _load_backward_compatible\n    File \"<frozen zipimport>\", line 259, in load_module\n    File \"/home/loan/venv/spark-nlp-2-4-4/lib/python3.7/site-packages/pyspark/python/lib/pyspark.zip/pyspark/serializers.py\", line 71, in <module>\n    File \"<frozen importlib._bootstrap>\", line 991, in _find_and_load\n    File \"<frozen importlib._bootstrap>\", line 975, in _find_and_load_unlocked\n    File \"<frozen importlib._bootstrap>\", line 655, in _load_unlocked\n    File \"<frozen importlib._bootstrap>\", line 618, in _load_backward_compatible\n    File \"<frozen zipimport>\", line 259, in load_module\n    File \"/home/loan/venv/spark-nlp-2-4-4/lib/python3.7/site-packages/pyspark/python/lib/pyspark.zip/pyspark/cloudpickle.py\", line 145, in <module>\n    File \"/home/loan/venv/spark-nlp-2-4-4/lib/python3.7/site-packages/pyspark/python/lib/pyspark.zip/pyspark/cloudpickle.py\", line 126, in _make_cell_set_template_code\n  TypeError: an integer is required (got type bytes)\nPYTHONPATH was:\n  /home/loan/venv/spark-nlp-2-4-4/lib/python3.7/site-packages/pyspark/python/lib/pyspark.zip:/home/loan/venv/spark-nlp-2-4-4/lib/python3.7/site-packages/pyspark/python/lib/py4j-0.10.7-src.zip:/home/loan/venv/spark-nlp-2-4-4/lib/python3.7/site-packages/pyspark/jars/spark-core_2.11-2.4.4.jar\norg.apache.spark.SparkException: No port number in pyspark.daemon's stdout\n\tat org.apache.spark.api.python.PythonWorkerFactory.startDaemon(PythonWorkerFactory.scala:204)\n\tat org.apache.spark.api.python.PythonWorkerFactory.createThroughDaemon(PythonWorkerFactory.scala:122)\n\tat org.apache.spark.api.python.PythonWorkerFactory.create(PythonWorkerFactory.scala:95)\n\tat org.apache.spark.SparkEnv.createPythonWorker(SparkEnv.scala:117)\n\tat org.apache.spark.api.python.BasePythonRunner.compute(PythonRunner.scala:109)\n\tat org.apache.spark.api.python.PythonRDD.compute(PythonRDD.scala:65)\n\tat org.apache.spark.rdd.RDD.computeOrReadCheckpoint(RDD.scala:324)\n\tat org.apache.spark.rdd.RDD.iterator(RDD.scala:288)\n\tat org.apache.spark.rdd.MapPartitionsRDD.compute(MapPartitionsRDD.scala:52)\n\tat org.apache.spark.rdd.RDD.computeOrReadCheckpoint(RDD.scala:324)\n\tat org.apache.spark.rdd.RDD.iterator(RDD.scala:288)\n\tat org.apache.spark.rdd.MapPartitionsRDD.compute(MapPartitionsRDD.scala:52)\n\tat org.apache.spark.rdd.RDD.computeOrReadCheckpoint(RDD.scala:324)\n\tat org.apache.spark.rdd.RDD.iterator(RDD.scala:288)\n\tat org.apache.spark.rdd.MapPartitionsRDD.compute(MapPartitionsRDD.scala:52)\n\tat org.apache.spark.rdd.RDD.computeOrReadCheckpoint(RDD.scala:324)\n\tat org.apache.spark.rdd.RDD.iterator(RDD.scala:288)\n\tat org.apache.spark.rdd.MapPartitionsRDD.compute(MapPartitionsRDD.scala:52)\n\tat org.apache.spark.rdd.RDD.computeOrReadCheckpoint(RDD.scala:324)\n\tat org.apache.spark.rdd.RDD.iterator(RDD.scala:288)\n\tat org.apache.spark.rdd.MapPartitionsRDD.compute(MapPartitionsRDD.scala:52)\n\tat org.apache.spark.rdd.RDD.computeOrReadCheckpoint(RDD.scala:324)\n\tat org.apache.spark.rdd.RDD.iterator(RDD.scala:288)\n\tat org.apache.spark.rdd.MapPartitionsRDD.compute(MapPartitionsRDD.scala:52)\n\tat org.apache.spark.rdd.RDD.computeOrReadCheckpoint(RDD.scala:324)\n\tat org.apache.spark.rdd.RDD.iterator(RDD.scala:288)\n\tat org.apache.spark.rdd.MapPartitionsRDD.compute(MapPartitionsRDD.scala:52)\n\tat org.apache.spark.rdd.RDD.computeOrReadCheckpoint(RDD.scala:324)\n\tat org.apache.spark.rdd.RDD.iterator(RDD.scala:288)\n\tat org.apache.spark.scheduler.ResultTask.runTask(ResultTask.scala:90)\n\tat org.apache.spark.scheduler.Task.run(Task.scala:123)\n\tat org.apache.spark.executor.Executor$TaskRunner$$anonfun$10.apply(Executor.scala:408)\n\tat org.apache.spark.util.Utils$.tryWithSafeFinally(Utils.scala:1360)\n\tat org.apache.spark.executor.Executor$TaskRunner.run(Executor.scala:414)\n\tat java.util.concurrent.ThreadPoolExecutor.runWorker(ThreadPoolExecutor.java:1149)\n\tat java.util.concurrent.ThreadPoolExecutor$Worker.run(ThreadPoolExecutor.java:624)\n\t... 1 more\n",
     "output_type": "error",
     "traceback": [
      "\u001b[0;31m---------------------------------------------------------------------------\u001b[0m",
      "\u001b[0;31mPy4JJavaError\u001b[0m                             Traceback (most recent call last)",
      "\u001b[0;32m<ipython-input-10-0d5a8365055d>\u001b[0m in \u001b[0;36m<module>\u001b[0;34m\u001b[0m\n\u001b[0;32m----> 1\u001b[0;31m \u001b[0mpredict\u001b[0m\u001b[0;34m.\u001b[0m\u001b[0mselect\u001b[0m\u001b[0;34m(\u001b[0m\u001b[0;34m\"token.result\"\u001b[0m\u001b[0;34m,\u001b[0m \u001b[0;34m\"pos.result\"\u001b[0m\u001b[0;34m)\u001b[0m\u001b[0;34m.\u001b[0m\u001b[0mshow\u001b[0m\u001b[0;34m(\u001b[0m\u001b[0;34m)\u001b[0m\u001b[0;34m\u001b[0m\u001b[0;34m\u001b[0m\u001b[0m\n\u001b[0m",
      "\u001b[0;32m~/venv/spark-nlp-2-4-4/lib/python3.7/site-packages/pyspark/sql/dataframe.py\u001b[0m in \u001b[0;36mshow\u001b[0;34m(self, n, truncate, vertical)\u001b[0m\n\u001b[1;32m    378\u001b[0m         \"\"\"\n\u001b[1;32m    379\u001b[0m         \u001b[0;32mif\u001b[0m \u001b[0misinstance\u001b[0m\u001b[0;34m(\u001b[0m\u001b[0mtruncate\u001b[0m\u001b[0;34m,\u001b[0m \u001b[0mbool\u001b[0m\u001b[0;34m)\u001b[0m \u001b[0;32mand\u001b[0m \u001b[0mtruncate\u001b[0m\u001b[0;34m:\u001b[0m\u001b[0;34m\u001b[0m\u001b[0;34m\u001b[0m\u001b[0m\n\u001b[0;32m--> 380\u001b[0;31m             \u001b[0mprint\u001b[0m\u001b[0;34m(\u001b[0m\u001b[0mself\u001b[0m\u001b[0;34m.\u001b[0m\u001b[0m_jdf\u001b[0m\u001b[0;34m.\u001b[0m\u001b[0mshowString\u001b[0m\u001b[0;34m(\u001b[0m\u001b[0mn\u001b[0m\u001b[0;34m,\u001b[0m \u001b[0;36m20\u001b[0m\u001b[0;34m,\u001b[0m \u001b[0mvertical\u001b[0m\u001b[0;34m)\u001b[0m\u001b[0;34m)\u001b[0m\u001b[0;34m\u001b[0m\u001b[0;34m\u001b[0m\u001b[0m\n\u001b[0m\u001b[1;32m    381\u001b[0m         \u001b[0;32melse\u001b[0m\u001b[0;34m:\u001b[0m\u001b[0;34m\u001b[0m\u001b[0;34m\u001b[0m\u001b[0m\n\u001b[1;32m    382\u001b[0m             \u001b[0mprint\u001b[0m\u001b[0;34m(\u001b[0m\u001b[0mself\u001b[0m\u001b[0;34m.\u001b[0m\u001b[0m_jdf\u001b[0m\u001b[0;34m.\u001b[0m\u001b[0mshowString\u001b[0m\u001b[0;34m(\u001b[0m\u001b[0mn\u001b[0m\u001b[0;34m,\u001b[0m \u001b[0mint\u001b[0m\u001b[0;34m(\u001b[0m\u001b[0mtruncate\u001b[0m\u001b[0;34m)\u001b[0m\u001b[0;34m,\u001b[0m \u001b[0mvertical\u001b[0m\u001b[0;34m)\u001b[0m\u001b[0;34m)\u001b[0m\u001b[0;34m\u001b[0m\u001b[0;34m\u001b[0m\u001b[0m\n",
      "\u001b[0;32m~/venv/spark-nlp-2-4-4/lib/python3.7/site-packages/py4j/java_gateway.py\u001b[0m in \u001b[0;36m__call__\u001b[0;34m(self, *args)\u001b[0m\n\u001b[1;32m   1255\u001b[0m         \u001b[0manswer\u001b[0m \u001b[0;34m=\u001b[0m \u001b[0mself\u001b[0m\u001b[0;34m.\u001b[0m\u001b[0mgateway_client\u001b[0m\u001b[0;34m.\u001b[0m\u001b[0msend_command\u001b[0m\u001b[0;34m(\u001b[0m\u001b[0mcommand\u001b[0m\u001b[0;34m)\u001b[0m\u001b[0;34m\u001b[0m\u001b[0;34m\u001b[0m\u001b[0m\n\u001b[1;32m   1256\u001b[0m         return_value = get_return_value(\n\u001b[0;32m-> 1257\u001b[0;31m             answer, self.gateway_client, self.target_id, self.name)\n\u001b[0m\u001b[1;32m   1258\u001b[0m \u001b[0;34m\u001b[0m\u001b[0m\n\u001b[1;32m   1259\u001b[0m         \u001b[0;32mfor\u001b[0m \u001b[0mtemp_arg\u001b[0m \u001b[0;32min\u001b[0m \u001b[0mtemp_args\u001b[0m\u001b[0;34m:\u001b[0m\u001b[0;34m\u001b[0m\u001b[0;34m\u001b[0m\u001b[0m\n",
      "\u001b[0;32m~/venv/spark-nlp-2-4-4/lib/python3.7/site-packages/pyspark/sql/utils.py\u001b[0m in \u001b[0;36mdeco\u001b[0;34m(*a, **kw)\u001b[0m\n\u001b[1;32m     61\u001b[0m     \u001b[0;32mdef\u001b[0m \u001b[0mdeco\u001b[0m\u001b[0;34m(\u001b[0m\u001b[0;34m*\u001b[0m\u001b[0ma\u001b[0m\u001b[0;34m,\u001b[0m \u001b[0;34m**\u001b[0m\u001b[0mkw\u001b[0m\u001b[0;34m)\u001b[0m\u001b[0;34m:\u001b[0m\u001b[0;34m\u001b[0m\u001b[0;34m\u001b[0m\u001b[0m\n\u001b[1;32m     62\u001b[0m         \u001b[0;32mtry\u001b[0m\u001b[0;34m:\u001b[0m\u001b[0;34m\u001b[0m\u001b[0;34m\u001b[0m\u001b[0m\n\u001b[0;32m---> 63\u001b[0;31m             \u001b[0;32mreturn\u001b[0m \u001b[0mf\u001b[0m\u001b[0;34m(\u001b[0m\u001b[0;34m*\u001b[0m\u001b[0ma\u001b[0m\u001b[0;34m,\u001b[0m \u001b[0;34m**\u001b[0m\u001b[0mkw\u001b[0m\u001b[0;34m)\u001b[0m\u001b[0;34m\u001b[0m\u001b[0;34m\u001b[0m\u001b[0m\n\u001b[0m\u001b[1;32m     64\u001b[0m         \u001b[0;32mexcept\u001b[0m \u001b[0mpy4j\u001b[0m\u001b[0;34m.\u001b[0m\u001b[0mprotocol\u001b[0m\u001b[0;34m.\u001b[0m\u001b[0mPy4JJavaError\u001b[0m \u001b[0;32mas\u001b[0m \u001b[0me\u001b[0m\u001b[0;34m:\u001b[0m\u001b[0;34m\u001b[0m\u001b[0;34m\u001b[0m\u001b[0m\n\u001b[1;32m     65\u001b[0m             \u001b[0ms\u001b[0m \u001b[0;34m=\u001b[0m \u001b[0me\u001b[0m\u001b[0;34m.\u001b[0m\u001b[0mjava_exception\u001b[0m\u001b[0;34m.\u001b[0m\u001b[0mtoString\u001b[0m\u001b[0;34m(\u001b[0m\u001b[0;34m)\u001b[0m\u001b[0;34m\u001b[0m\u001b[0;34m\u001b[0m\u001b[0m\n",
      "\u001b[0;32m~/venv/spark-nlp-2-4-4/lib/python3.7/site-packages/py4j/protocol.py\u001b[0m in \u001b[0;36mget_return_value\u001b[0;34m(answer, gateway_client, target_id, name)\u001b[0m\n\u001b[1;32m    326\u001b[0m                 raise Py4JJavaError(\n\u001b[1;32m    327\u001b[0m                     \u001b[0;34m\"An error occurred while calling {0}{1}{2}.\\n\"\u001b[0m\u001b[0;34m.\u001b[0m\u001b[0;34m\u001b[0m\u001b[0;34m\u001b[0m\u001b[0m\n\u001b[0;32m--> 328\u001b[0;31m                     format(target_id, \".\", name), value)\n\u001b[0m\u001b[1;32m    329\u001b[0m             \u001b[0;32melse\u001b[0m\u001b[0;34m:\u001b[0m\u001b[0;34m\u001b[0m\u001b[0;34m\u001b[0m\u001b[0m\n\u001b[1;32m    330\u001b[0m                 raise Py4JError(\n",
      "\u001b[0;31mPy4JJavaError\u001b[0m: An error occurred while calling o337.showString.\n: org.apache.spark.SparkException: Job aborted due to stage failure: Task 0 in stage 2.0 failed 1 times, most recent failure: Lost task 0.0 in stage 2.0 (TID 2, localhost, executor driver): org.apache.spark.SparkException: \nError from python worker:\n  Traceback (most recent call last):\n    File \"/usr/lib/python3.8/runpy.py\", line 184, in _run_module_as_main\n      mod_name, mod_spec, code = _get_module_details(mod_name, _Error)\n    File \"/usr/lib/python3.8/runpy.py\", line 110, in _get_module_details\n      __import__(pkg_name)\n    File \"<frozen importlib._bootstrap>\", line 991, in _find_and_load\n    File \"<frozen importlib._bootstrap>\", line 975, in _find_and_load_unlocked\n    File \"<frozen importlib._bootstrap>\", line 655, in _load_unlocked\n    File \"<frozen importlib._bootstrap>\", line 618, in _load_backward_compatible\n    File \"<frozen zipimport>\", line 259, in load_module\n    File \"/home/loan/venv/spark-nlp-2-4-4/lib/python3.7/site-packages/pyspark/python/lib/pyspark.zip/pyspark/__init__.py\", line 51, in <module>\n    File \"<frozen importlib._bootstrap>\", line 991, in _find_and_load\n    File \"<frozen importlib._bootstrap>\", line 975, in _find_and_load_unlocked\n    File \"<frozen importlib._bootstrap>\", line 655, in _load_unlocked\n    File \"<frozen importlib._bootstrap>\", line 618, in _load_backward_compatible\n    File \"<frozen zipimport>\", line 259, in load_module\n    File \"/home/loan/venv/spark-nlp-2-4-4/lib/python3.7/site-packages/pyspark/python/lib/pyspark.zip/pyspark/context.py\", line 31, in <module>\n    File \"<frozen importlib._bootstrap>\", line 991, in _find_and_load\n    File \"<frozen importlib._bootstrap>\", line 975, in _find_and_load_unlocked\n    File \"<frozen importlib._bootstrap>\", line 655, in _load_unlocked\n    File \"<frozen importlib._bootstrap>\", line 618, in _load_backward_compatible\n    File \"<frozen zipimport>\", line 259, in load_module\n    File \"/home/loan/venv/spark-nlp-2-4-4/lib/python3.7/site-packages/pyspark/python/lib/pyspark.zip/pyspark/accumulators.py\", line 97, in <module>\n    File \"<frozen importlib._bootstrap>\", line 991, in _find_and_load\n    File \"<frozen importlib._bootstrap>\", line 975, in _find_and_load_unlocked\n    File \"<frozen importlib._bootstrap>\", line 655, in _load_unlocked\n    File \"<frozen importlib._bootstrap>\", line 618, in _load_backward_compatible\n    File \"<frozen zipimport>\", line 259, in load_module\n    File \"/home/loan/venv/spark-nlp-2-4-4/lib/python3.7/site-packages/pyspark/python/lib/pyspark.zip/pyspark/serializers.py\", line 71, in <module>\n    File \"<frozen importlib._bootstrap>\", line 991, in _find_and_load\n    File \"<frozen importlib._bootstrap>\", line 975, in _find_and_load_unlocked\n    File \"<frozen importlib._bootstrap>\", line 655, in _load_unlocked\n    File \"<frozen importlib._bootstrap>\", line 618, in _load_backward_compatible\n    File \"<frozen zipimport>\", line 259, in load_module\n    File \"/home/loan/venv/spark-nlp-2-4-4/lib/python3.7/site-packages/pyspark/python/lib/pyspark.zip/pyspark/cloudpickle.py\", line 145, in <module>\n    File \"/home/loan/venv/spark-nlp-2-4-4/lib/python3.7/site-packages/pyspark/python/lib/pyspark.zip/pyspark/cloudpickle.py\", line 126, in _make_cell_set_template_code\n  TypeError: an integer is required (got type bytes)\nPYTHONPATH was:\n  /home/loan/venv/spark-nlp-2-4-4/lib/python3.7/site-packages/pyspark/python/lib/pyspark.zip:/home/loan/venv/spark-nlp-2-4-4/lib/python3.7/site-packages/pyspark/python/lib/py4j-0.10.7-src.zip:/home/loan/venv/spark-nlp-2-4-4/lib/python3.7/site-packages/pyspark/jars/spark-core_2.11-2.4.4.jar\norg.apache.spark.SparkException: No port number in pyspark.daemon's stdout\n\tat org.apache.spark.api.python.PythonWorkerFactory.startDaemon(PythonWorkerFactory.scala:204)\n\tat org.apache.spark.api.python.PythonWorkerFactory.createThroughDaemon(PythonWorkerFactory.scala:122)\n\tat org.apache.spark.api.python.PythonWorkerFactory.create(PythonWorkerFactory.scala:95)\n\tat org.apache.spark.SparkEnv.createPythonWorker(SparkEnv.scala:117)\n\tat org.apache.spark.api.python.BasePythonRunner.compute(PythonRunner.scala:109)\n\tat org.apache.spark.api.python.PythonRDD.compute(PythonRDD.scala:65)\n\tat org.apache.spark.rdd.RDD.computeOrReadCheckpoint(RDD.scala:324)\n\tat org.apache.spark.rdd.RDD.iterator(RDD.scala:288)\n\tat org.apache.spark.rdd.MapPartitionsRDD.compute(MapPartitionsRDD.scala:52)\n\tat org.apache.spark.rdd.RDD.computeOrReadCheckpoint(RDD.scala:324)\n\tat org.apache.spark.rdd.RDD.iterator(RDD.scala:288)\n\tat org.apache.spark.rdd.MapPartitionsRDD.compute(MapPartitionsRDD.scala:52)\n\tat org.apache.spark.rdd.RDD.computeOrReadCheckpoint(RDD.scala:324)\n\tat org.apache.spark.rdd.RDD.iterator(RDD.scala:288)\n\tat org.apache.spark.rdd.MapPartitionsRDD.compute(MapPartitionsRDD.scala:52)\n\tat org.apache.spark.rdd.RDD.computeOrReadCheckpoint(RDD.scala:324)\n\tat org.apache.spark.rdd.RDD.iterator(RDD.scala:288)\n\tat org.apache.spark.rdd.MapPartitionsRDD.compute(MapPartitionsRDD.scala:52)\n\tat org.apache.spark.rdd.RDD.computeOrReadCheckpoint(RDD.scala:324)\n\tat org.apache.spark.rdd.RDD.iterator(RDD.scala:288)\n\tat org.apache.spark.rdd.MapPartitionsRDD.compute(MapPartitionsRDD.scala:52)\n\tat org.apache.spark.rdd.RDD.computeOrReadCheckpoint(RDD.scala:324)\n\tat org.apache.spark.rdd.RDD.iterator(RDD.scala:288)\n\tat org.apache.spark.rdd.MapPartitionsRDD.compute(MapPartitionsRDD.scala:52)\n\tat org.apache.spark.rdd.RDD.computeOrReadCheckpoint(RDD.scala:324)\n\tat org.apache.spark.rdd.RDD.iterator(RDD.scala:288)\n\tat org.apache.spark.rdd.MapPartitionsRDD.compute(MapPartitionsRDD.scala:52)\n\tat org.apache.spark.rdd.RDD.computeOrReadCheckpoint(RDD.scala:324)\n\tat org.apache.spark.rdd.RDD.iterator(RDD.scala:288)\n\tat org.apache.spark.scheduler.ResultTask.runTask(ResultTask.scala:90)\n\tat org.apache.spark.scheduler.Task.run(Task.scala:123)\n\tat org.apache.spark.executor.Executor$TaskRunner$$anonfun$10.apply(Executor.scala:408)\n\tat org.apache.spark.util.Utils$.tryWithSafeFinally(Utils.scala:1360)\n\tat org.apache.spark.executor.Executor$TaskRunner.run(Executor.scala:414)\n\tat java.util.concurrent.ThreadPoolExecutor.runWorker(ThreadPoolExecutor.java:1149)\n\tat java.util.concurrent.ThreadPoolExecutor$Worker.run(ThreadPoolExecutor.java:624)\n\tat java.lang.Thread.run(Thread.java:748)\n\nDriver stacktrace:\n\tat org.apache.spark.scheduler.DAGScheduler.org$apache$spark$scheduler$DAGScheduler$$failJobAndIndependentStages(DAGScheduler.scala:1889)\n\tat org.apache.spark.scheduler.DAGScheduler$$anonfun$abortStage$1.apply(DAGScheduler.scala:1877)\n\tat org.apache.spark.scheduler.DAGScheduler$$anonfun$abortStage$1.apply(DAGScheduler.scala:1876)\n\tat scala.collection.mutable.ResizableArray$class.foreach(ResizableArray.scala:59)\n\tat scala.collection.mutable.ArrayBuffer.foreach(ArrayBuffer.scala:48)\n\tat org.apache.spark.scheduler.DAGScheduler.abortStage(DAGScheduler.scala:1876)\n\tat org.apache.spark.scheduler.DAGScheduler$$anonfun$handleTaskSetFailed$1.apply(DAGScheduler.scala:926)\n\tat org.apache.spark.scheduler.DAGScheduler$$anonfun$handleTaskSetFailed$1.apply(DAGScheduler.scala:926)\n\tat scala.Option.foreach(Option.scala:257)\n\tat org.apache.spark.scheduler.DAGScheduler.handleTaskSetFailed(DAGScheduler.scala:926)\n\tat org.apache.spark.scheduler.DAGSchedulerEventProcessLoop.doOnReceive(DAGScheduler.scala:2110)\n\tat org.apache.spark.scheduler.DAGSchedulerEventProcessLoop.onReceive(DAGScheduler.scala:2059)\n\tat org.apache.spark.scheduler.DAGSchedulerEventProcessLoop.onReceive(DAGScheduler.scala:2048)\n\tat org.apache.spark.util.EventLoop$$anon$1.run(EventLoop.scala:49)\n\tat org.apache.spark.scheduler.DAGScheduler.runJob(DAGScheduler.scala:737)\n\tat org.apache.spark.SparkContext.runJob(SparkContext.scala:2061)\n\tat org.apache.spark.SparkContext.runJob(SparkContext.scala:2082)\n\tat org.apache.spark.SparkContext.runJob(SparkContext.scala:2101)\n\tat org.apache.spark.sql.execution.SparkPlan.executeTake(SparkPlan.scala:365)\n\tat org.apache.spark.sql.execution.CollectLimitExec.executeCollect(limit.scala:38)\n\tat org.apache.spark.sql.Dataset.org$apache$spark$sql$Dataset$$collectFromPlan(Dataset.scala:3389)\n\tat org.apache.spark.sql.Dataset$$anonfun$head$1.apply(Dataset.scala:2550)\n\tat org.apache.spark.sql.Dataset$$anonfun$head$1.apply(Dataset.scala:2550)\n\tat org.apache.spark.sql.Dataset$$anonfun$52.apply(Dataset.scala:3370)\n\tat org.apache.spark.sql.execution.SQLExecution$$anonfun$withNewExecutionId$1.apply(SQLExecution.scala:78)\n\tat org.apache.spark.sql.execution.SQLExecution$.withSQLConfPropagated(SQLExecution.scala:125)\n\tat org.apache.spark.sql.execution.SQLExecution$.withNewExecutionId(SQLExecution.scala:73)\n\tat org.apache.spark.sql.Dataset.withAction(Dataset.scala:3369)\n\tat org.apache.spark.sql.Dataset.head(Dataset.scala:2550)\n\tat org.apache.spark.sql.Dataset.take(Dataset.scala:2764)\n\tat org.apache.spark.sql.Dataset.getRows(Dataset.scala:254)\n\tat org.apache.spark.sql.Dataset.showString(Dataset.scala:291)\n\tat sun.reflect.NativeMethodAccessorImpl.invoke0(Native Method)\n\tat sun.reflect.NativeMethodAccessorImpl.invoke(NativeMethodAccessorImpl.java:62)\n\tat sun.reflect.DelegatingMethodAccessorImpl.invoke(DelegatingMethodAccessorImpl.java:43)\n\tat java.lang.reflect.Method.invoke(Method.java:498)\n\tat py4j.reflection.MethodInvoker.invoke(MethodInvoker.java:244)\n\tat py4j.reflection.ReflectionEngine.invoke(ReflectionEngine.java:357)\n\tat py4j.Gateway.invoke(Gateway.java:282)\n\tat py4j.commands.AbstractCommand.invokeMethod(AbstractCommand.java:132)\n\tat py4j.commands.CallCommand.execute(CallCommand.java:79)\n\tat py4j.GatewayConnection.run(GatewayConnection.java:238)\n\tat java.lang.Thread.run(Thread.java:748)\nCaused by: org.apache.spark.SparkException: \nError from python worker:\n  Traceback (most recent call last):\n    File \"/usr/lib/python3.8/runpy.py\", line 184, in _run_module_as_main\n      mod_name, mod_spec, code = _get_module_details(mod_name, _Error)\n    File \"/usr/lib/python3.8/runpy.py\", line 110, in _get_module_details\n      __import__(pkg_name)\n    File \"<frozen importlib._bootstrap>\", line 991, in _find_and_load\n    File \"<frozen importlib._bootstrap>\", line 975, in _find_and_load_unlocked\n    File \"<frozen importlib._bootstrap>\", line 655, in _load_unlocked\n    File \"<frozen importlib._bootstrap>\", line 618, in _load_backward_compatible\n    File \"<frozen zipimport>\", line 259, in load_module\n    File \"/home/loan/venv/spark-nlp-2-4-4/lib/python3.7/site-packages/pyspark/python/lib/pyspark.zip/pyspark/__init__.py\", line 51, in <module>\n    File \"<frozen importlib._bootstrap>\", line 991, in _find_and_load\n    File \"<frozen importlib._bootstrap>\", line 975, in _find_and_load_unlocked\n    File \"<frozen importlib._bootstrap>\", line 655, in _load_unlocked\n    File \"<frozen importlib._bootstrap>\", line 618, in _load_backward_compatible\n    File \"<frozen zipimport>\", line 259, in load_module\n    File \"/home/loan/venv/spark-nlp-2-4-4/lib/python3.7/site-packages/pyspark/python/lib/pyspark.zip/pyspark/context.py\", line 31, in <module>\n    File \"<frozen importlib._bootstrap>\", line 991, in _find_and_load\n    File \"<frozen importlib._bootstrap>\", line 975, in _find_and_load_unlocked\n    File \"<frozen importlib._bootstrap>\", line 655, in _load_unlocked\n    File \"<frozen importlib._bootstrap>\", line 618, in _load_backward_compatible\n    File \"<frozen zipimport>\", line 259, in load_module\n    File \"/home/loan/venv/spark-nlp-2-4-4/lib/python3.7/site-packages/pyspark/python/lib/pyspark.zip/pyspark/accumulators.py\", line 97, in <module>\n    File \"<frozen importlib._bootstrap>\", line 991, in _find_and_load\n    File \"<frozen importlib._bootstrap>\", line 975, in _find_and_load_unlocked\n    File \"<frozen importlib._bootstrap>\", line 655, in _load_unlocked\n    File \"<frozen importlib._bootstrap>\", line 618, in _load_backward_compatible\n    File \"<frozen zipimport>\", line 259, in load_module\n    File \"/home/loan/venv/spark-nlp-2-4-4/lib/python3.7/site-packages/pyspark/python/lib/pyspark.zip/pyspark/serializers.py\", line 71, in <module>\n    File \"<frozen importlib._bootstrap>\", line 991, in _find_and_load\n    File \"<frozen importlib._bootstrap>\", line 975, in _find_and_load_unlocked\n    File \"<frozen importlib._bootstrap>\", line 655, in _load_unlocked\n    File \"<frozen importlib._bootstrap>\", line 618, in _load_backward_compatible\n    File \"<frozen zipimport>\", line 259, in load_module\n    File \"/home/loan/venv/spark-nlp-2-4-4/lib/python3.7/site-packages/pyspark/python/lib/pyspark.zip/pyspark/cloudpickle.py\", line 145, in <module>\n    File \"/home/loan/venv/spark-nlp-2-4-4/lib/python3.7/site-packages/pyspark/python/lib/pyspark.zip/pyspark/cloudpickle.py\", line 126, in _make_cell_set_template_code\n  TypeError: an integer is required (got type bytes)\nPYTHONPATH was:\n  /home/loan/venv/spark-nlp-2-4-4/lib/python3.7/site-packages/pyspark/python/lib/pyspark.zip:/home/loan/venv/spark-nlp-2-4-4/lib/python3.7/site-packages/pyspark/python/lib/py4j-0.10.7-src.zip:/home/loan/venv/spark-nlp-2-4-4/lib/python3.7/site-packages/pyspark/jars/spark-core_2.11-2.4.4.jar\norg.apache.spark.SparkException: No port number in pyspark.daemon's stdout\n\tat org.apache.spark.api.python.PythonWorkerFactory.startDaemon(PythonWorkerFactory.scala:204)\n\tat org.apache.spark.api.python.PythonWorkerFactory.createThroughDaemon(PythonWorkerFactory.scala:122)\n\tat org.apache.spark.api.python.PythonWorkerFactory.create(PythonWorkerFactory.scala:95)\n\tat org.apache.spark.SparkEnv.createPythonWorker(SparkEnv.scala:117)\n\tat org.apache.spark.api.python.BasePythonRunner.compute(PythonRunner.scala:109)\n\tat org.apache.spark.api.python.PythonRDD.compute(PythonRDD.scala:65)\n\tat org.apache.spark.rdd.RDD.computeOrReadCheckpoint(RDD.scala:324)\n\tat org.apache.spark.rdd.RDD.iterator(RDD.scala:288)\n\tat org.apache.spark.rdd.MapPartitionsRDD.compute(MapPartitionsRDD.scala:52)\n\tat org.apache.spark.rdd.RDD.computeOrReadCheckpoint(RDD.scala:324)\n\tat org.apache.spark.rdd.RDD.iterator(RDD.scala:288)\n\tat org.apache.spark.rdd.MapPartitionsRDD.compute(MapPartitionsRDD.scala:52)\n\tat org.apache.spark.rdd.RDD.computeOrReadCheckpoint(RDD.scala:324)\n\tat org.apache.spark.rdd.RDD.iterator(RDD.scala:288)\n\tat org.apache.spark.rdd.MapPartitionsRDD.compute(MapPartitionsRDD.scala:52)\n\tat org.apache.spark.rdd.RDD.computeOrReadCheckpoint(RDD.scala:324)\n\tat org.apache.spark.rdd.RDD.iterator(RDD.scala:288)\n\tat org.apache.spark.rdd.MapPartitionsRDD.compute(MapPartitionsRDD.scala:52)\n\tat org.apache.spark.rdd.RDD.computeOrReadCheckpoint(RDD.scala:324)\n\tat org.apache.spark.rdd.RDD.iterator(RDD.scala:288)\n\tat org.apache.spark.rdd.MapPartitionsRDD.compute(MapPartitionsRDD.scala:52)\n\tat org.apache.spark.rdd.RDD.computeOrReadCheckpoint(RDD.scala:324)\n\tat org.apache.spark.rdd.RDD.iterator(RDD.scala:288)\n\tat org.apache.spark.rdd.MapPartitionsRDD.compute(MapPartitionsRDD.scala:52)\n\tat org.apache.spark.rdd.RDD.computeOrReadCheckpoint(RDD.scala:324)\n\tat org.apache.spark.rdd.RDD.iterator(RDD.scala:288)\n\tat org.apache.spark.rdd.MapPartitionsRDD.compute(MapPartitionsRDD.scala:52)\n\tat org.apache.spark.rdd.RDD.computeOrReadCheckpoint(RDD.scala:324)\n\tat org.apache.spark.rdd.RDD.iterator(RDD.scala:288)\n\tat org.apache.spark.scheduler.ResultTask.runTask(ResultTask.scala:90)\n\tat org.apache.spark.scheduler.Task.run(Task.scala:123)\n\tat org.apache.spark.executor.Executor$TaskRunner$$anonfun$10.apply(Executor.scala:408)\n\tat org.apache.spark.util.Utils$.tryWithSafeFinally(Utils.scala:1360)\n\tat org.apache.spark.executor.Executor$TaskRunner.run(Executor.scala:414)\n\tat java.util.concurrent.ThreadPoolExecutor.runWorker(ThreadPoolExecutor.java:1149)\n\tat java.util.concurrent.ThreadPoolExecutor$Worker.run(ThreadPoolExecutor.java:624)\n\t... 1 more\n"
     ]
    }
   ],
   "source": [
    "predict.select(\"token.result\", \"pos.result\").show()"
   ]
  }
 ],
 "metadata": {
  "colab": {
   "collapsed_sections": [],
   "name": "3- Build your own French POS tagger.ipynb",
   "provenance": []
  },
  "kernelspec": {
   "display_name": "spark_nlp_2.4.4",
   "language": "python",
   "name": "spark_nlp_2.4.4"
  },
  "language_info": {
   "codemirror_mode": {
    "name": "ipython",
    "version": 3
   },
   "file_extension": ".py",
   "mimetype": "text/x-python",
   "name": "python",
   "nbconvert_exporter": "python",
   "pygments_lexer": "ipython3",
   "version": "3.7.6"
  }
 },
 "nbformat": 4,
 "nbformat_minor": 4
}

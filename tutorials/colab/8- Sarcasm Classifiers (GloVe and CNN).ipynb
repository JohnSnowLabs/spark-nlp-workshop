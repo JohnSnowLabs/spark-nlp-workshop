{
 "cells": [
  {
   "cell_type": "code",
   "execution_count": 1,
   "metadata": {
    "colab": {
     "base_uri": "https://localhost:8080/",
     "height": 221
    },
    "colab_type": "code",
    "executionInfo": {
     "elapsed": 12639,
     "status": "ok",
     "timestamp": 1569336024169,
     "user": {
      "displayName": "Alexander Thomas",
      "photoUrl": "",
      "userId": "11939695612384769217"
     },
     "user_tz": 240
    },
    "id": "LXk6D0Kp-n5s",
    "outputId": "89375810-72ce-4bc3-dd8a-703bdc01e0f6"
   },
   "outputs": [
    {
     "name": "stdout",
     "output_type": "stream",
     "text": [
      "openjdk version \"1.8.0_222\"\n",
      "OpenJDK Runtime Environment (build 1.8.0_222-8u222-b10-1ubuntu1~18.04.1-b10)\n",
      "OpenJDK 64-Bit Server VM (build 25.222-b10, mixed mode)\n",
      "Collecting pyspark==2.4.3\n",
      "Collecting py4j==0.10.7 (from pyspark==2.4.3)\n",
      "  Using cached https://files.pythonhosted.org/packages/e3/53/c737818eb9a7dc32a7cd4f1396e787bd94200c3997c72c1dbe028587bd76/py4j-0.10.7-py2.py3-none-any.whl\n",
      "Installing collected packages: py4j, pyspark\n",
      "Successfully installed py4j-0.10.7 pyspark-2.4.3\n",
      "Collecting spark-nlp==2.2.1\n",
      "  Using cached https://files.pythonhosted.org/packages/83/89/16492f3c61c6cfc9b41344de7c1c875f171c33cba1b8b9546dd0c4d77ff6/spark_nlp-2.2.1-py2.py3-none-any.whl\n",
      "Installing collected packages: spark-nlp\n",
      "Successfully installed spark-nlp-2.2.1\n"
     ]
    }
   ],
   "source": [
    "import os\n",
    "\n",
    "# Install java\n",
    "! apt-get install -y openjdk-8-jdk-headless -qq > /dev/null\n",
    "os.environ[\"JAVA_HOME\"] = \"/usr/lib/jvm/java-8-openjdk-amd64\"\n",
    "os.environ[\"PATH\"] = os.environ[\"JAVA_HOME\"] + \"/bin:\" + os.environ[\"PATH\"]\n",
    "! java -version\n",
    "\n",
    "# Install pyspark\n",
    "! pip install --ignore-installed pyspark==2.4.3\n",
    "\n",
    "# Install Spark NLP\n",
    "! pip install --ignore-installed spark-nlp==2.2.2"
   ]
  },
  {
   "cell_type": "code",
   "execution_count": 2,
   "metadata": {
    "colab": {
     "base_uri": "https://localhost:8080/",
     "height": 119
    },
    "colab_type": "code",
    "executionInfo": {
     "elapsed": 11821,
     "status": "ok",
     "timestamp": 1569336025237,
     "user": {
      "displayName": "Alexander Thomas",
      "photoUrl": "",
      "userId": "11939695612384769217"
     },
     "user_tz": 240
    },
    "id": "BhwmXQKo-kRw",
    "outputId": "00758e53-5715-4997-c2ae-713d7b476efb",
    "scrolled": false
   },
   "outputs": [
    {
     "name": "stdout",
     "output_type": "stream",
     "text": [
      "--2019-09-24 14:40:24--  https://s3.amazonaws.com/auxdata.johnsnowlabs.com/public/resources/en/sarcasm/train-balanced-sarcasm.csv\n",
      "Resolving s3.amazonaws.com (s3.amazonaws.com)... 52.216.168.93\n",
      "Connecting to s3.amazonaws.com (s3.amazonaws.com)|52.216.168.93|:443... connected.\n",
      "HTTP request sent, awaiting response... 304 Not Modified\n",
      "File ‘/tmp/train-balanced-sarcasm.csv’ not modified on server. Omitting download.\n",
      "\n"
     ]
    }
   ],
   "source": [
    "! wget -N https://s3.amazonaws.com/auxdata.johnsnowlabs.com/public/resources/en/sarcasm/train-balanced-sarcasm.csv -P /tmp"
   ]
  },
  {
   "cell_type": "code",
   "execution_count": 0,
   "metadata": {
    "colab": {},
    "colab_type": "code",
    "id": "g0fRashl-kR1"
   },
   "outputs": [],
   "source": [
    "import os\n",
    "import sys\n",
    "import time\n",
    "import warnings\n",
    "\n",
    "warnings.filterwarnings(\"ignore\")\n",
    "os.environ['TF_CPP_MIN_LOG_LEVEL'] = '2' \n",
    "\n",
    "import numpy as np\n",
    "import pandas as pd\n",
    "\n",
    "from pyspark.sql import SparkSession\n",
    "packages = [\n",
    "    'JohnSnowLabs:spark-nlp:2.2.1'\n",
    "]\n",
    "spark = SparkSession \\\n",
    "    .builder \\\n",
    "    .appName(\"ML SQL session\") \\\n",
    "    .config('spark.jars.packages', ','.join(packages)) \\\n",
    "    .config(\"spark.driver.memory\",\"16g\") \\\n",
    "    .getOrCreate()"
   ]
  },
  {
   "cell_type": "code",
   "execution_count": 4,
   "metadata": {
    "colab": {
     "base_uri": "https://localhost:8080/",
     "height": 85
    },
    "colab_type": "code",
    "executionInfo": {
     "elapsed": 19083,
     "status": "ok",
     "timestamp": 1569336033155,
     "user": {
      "displayName": "Alexander Thomas",
      "photoUrl": "",
      "userId": "11939695612384769217"
     },
     "user_tz": 240
    },
    "id": "nAQyYg5m-kR4",
    "outputId": "f6b4d1af-12b1-48e3-9ac1-f6c552ce287b"
   },
   "outputs": [
    {
     "name": "stdout",
     "output_type": "stream",
     "text": [
      "Spark NLP version\n",
      "2.2.1\n",
      "Apache Spark version\n"
     ]
    },
    {
     "data": {
      "text/plain": [
       "'2.4.3'"
      ]
     },
     "execution_count": 4,
     "metadata": {
      "tags": []
     },
     "output_type": "execute_result"
    }
   ],
   "source": [
    "import sparknlp\n",
    "\n",
    "print(\"Spark NLP version\")\n",
    "sparknlp.version()\n",
    "print(\"Apache Spark version\")\n",
    "spark.version"
   ]
  },
  {
   "cell_type": "code",
   "execution_count": 5,
   "metadata": {
    "colab": {
     "base_uri": "https://localhost:8080/",
     "height": 238
    },
    "colab_type": "code",
    "executionInfo": {
     "elapsed": 33834,
     "status": "ok",
     "timestamp": 1569336048395,
     "user": {
      "displayName": "Alexander Thomas",
      "photoUrl": "",
      "userId": "11939695612384769217"
     },
     "user_tz": 240
    },
    "id": "pJpTEyT7-kR7",
    "outputId": "45fc063c-ecb7-49f9-faf7-fcd4fe0b5f29",
    "scrolled": true
   },
   "outputs": [
    {
     "name": "stdout",
     "output_type": "stream",
     "text": [
      "root\n",
      " |-- label: integer (nullable = true)\n",
      " |-- comment: string (nullable = true)\n",
      " |-- author: string (nullable = true)\n",
      " |-- subreddit: string (nullable = true)\n",
      " |-- score: string (nullable = true)\n",
      " |-- ups: string (nullable = true)\n",
      " |-- downs: string (nullable = true)\n",
      " |-- date: string (nullable = true)\n",
      " |-- created_utc: string (nullable = true)\n",
      " |-- parent_comment: string (nullable = true)\n",
      "\n"
     ]
    },
    {
     "data": {
      "text/plain": [
       "[Row(count(1)=1010826)]"
      ]
     },
     "execution_count": 5,
     "metadata": {
      "tags": []
     },
     "output_type": "execute_result"
    }
   ],
   "source": [
    "from pyspark.sql import SQLContext\n",
    "\n",
    "sql = SQLContext(spark)\n",
    "\n",
    "trainBalancedSarcasmDF = spark.read.option(\"header\", True).option(\"inferSchema\", True) \\\n",
    "    .csv(\"/tmp/train-balanced-sarcasm.csv\")\n",
    "trainBalancedSarcasmDF.printSchema()\n",
    "\n",
    "# Let's create a temp view (table) for our SQL queries\n",
    "trainBalancedSarcasmDF.createOrReplaceTempView('sarcasm')\n",
    "\n",
    "sql.sql('SELECT COUNT(*) FROM sarcasm').collect()"
   ]
  },
  {
   "cell_type": "code",
   "execution_count": 6,
   "metadata": {
    "colab": {
     "base_uri": "https://localhost:8080/",
     "height": 578
    },
    "colab_type": "code",
    "executionInfo": {
     "elapsed": 42396,
     "status": "ok",
     "timestamp": 1569336057178,
     "user": {
      "displayName": "Alexander Thomas",
      "photoUrl": "",
      "userId": "11939695612384769217"
     },
     "user_tz": 240
    },
    "id": "BlTyHWxX-kR9",
    "outputId": "46f68b59-3e82-4c44-91fa-1a51c3e71746"
   },
   "outputs": [
    {
     "name": "stdout",
     "output_type": "stream",
     "text": [
      "<class 'pyspark.sql.dataframe.DataFrame'>\n",
      "root\n",
      " |-- label: integer (nullable = true)\n",
      " |-- comment: string (nullable = true)\n",
      "\n",
      "rows 10000\n",
      "+-----+--------------------+\n",
      "|label|             comment|\n",
      "+-----+--------------------+\n",
      "|    0|Yeah, I get that ...|\n",
      "|    0|The blazers and M...|\n",
      "|    0|They're favored t...|\n",
      "|    0|deadass don't kil...|\n",
      "|    0|Yep can confirm I...|\n",
      "|    0|do you find arian...|\n",
      "|    0|What's your weird...|\n",
      "|    0|Probably Sephirot...|\n",
      "|    0|What to upgrade? ...|\n",
      "|    0|Probably count Ka...|\n",
      "|    0|I bet if that mon...|\n",
      "|    0|James Shields Wil...|\n",
      "|    0|There's no time t...|\n",
      "|    0|Team Specific Thr...|\n",
      "|    0|Ill give you a hi...|\n",
      "|    0|Star Wars, easy. ...|\n",
      "|    0|You're adorable.\n",
      "...|\n",
      "|    0|He actually acts ...|\n",
      "|    0|Clinton struggles...|\n",
      "|    0|Is that the Older...|\n",
      "+-----+--------------------+\n",
      "only showing top 20 rows\n",
      "\n"
     ]
    }
   ],
   "source": [
    "df = sql.sql('''\n",
    "select label, concat(parent_comment,\"\\n\",comment) as comment \n",
    "from sarcasm \n",
    "where comment is not null and parent_comment is not null limit 10000''')\n",
    "print(type(df))\n",
    "df.printSchema()\n",
    "print('rows', df.count())\n",
    "df.show()"
   ]
  },
  {
   "cell_type": "code",
   "execution_count": 7,
   "metadata": {
    "colab": {
     "base_uri": "https://localhost:8080/",
     "height": 510
    },
    "colab_type": "code",
    "executionInfo": {
     "elapsed": 55322,
     "status": "ok",
     "timestamp": 1569336070332,
     "user": {
      "displayName": "Alexander Thomas",
      "photoUrl": "",
      "userId": "11939695612384769217"
     },
     "user_tz": 240
    },
    "id": "sTtgT0nl-kSA",
    "outputId": "d2b205ea-424d-44b5-93e7-9a1ff41e781c"
   },
   "outputs": [
    {
     "name": "stdout",
     "output_type": "stream",
     "text": [
      "+-----+--------------------+--------------------+--------------------+--------------------+\n",
      "|label|             comment|            document|            sentence|               token|\n",
      "+-----+--------------------+--------------------+--------------------+--------------------+\n",
      "|    0|Yeah, I get that ...|[[document, 0, 90...|[[document, 0, 25...|[[token, 0, 3, Ye...|\n",
      "|    0|The blazers and M...|[[document, 0, 20...|[[document, 0, 13...|[[token, 0, 2, Th...|\n",
      "|    0|They're favored t...|[[document, 0, 14...|[[document, 0, 22...|[[token, 0, 6, Th...|\n",
      "|    0|deadass don't kil...|[[document, 0, 90...|[[document, 0, 90...|[[token, 0, 6, de...|\n",
      "|    0|Yep can confirm I...|[[document, 0, 11...|[[document, 0, 48...|[[token, 0, 2, Ye...|\n",
      "|    0|do you find arian...|[[document, 0, 14...|[[document, 0, 14...|[[token, 0, 1, do...|\n",
      "|    0|What's your weird...|[[document, 0, 98...|[[document, 0, 52...|[[token, 0, 5, Wh...|\n",
      "|    0|Probably Sephirot...|[[document, 0, 14...|[[document, 0, 18...|[[token, 0, 7, Pr...|\n",
      "|    0|What to upgrade? ...|[[document, 0, 77...|[[document, 0, 15...|[[token, 0, 3, Wh...|\n",
      "|    0|Probably count Ka...|[[document, 0, 33...|[[document, 0, 93...|[[token, 0, 7, Pr...|\n",
      "|    0|I bet if that mon...|[[document, 0, 20...|[[document, 0, 11...|[[token, 0, 0, I,...|\n",
      "|    0|James Shields Wil...|[[document, 0, 76...|[[document, 0, 76...|[[token, 0, 4, Ja...|\n",
      "|    0|There's no time t...|[[document, 0, 99...|[[document, 0, 78...|[[token, 0, 6, Th...|\n",
      "|    0|Team Specific Thr...|[[document, 0, 51...|[[document, 0, 15...|[[token, 0, 3, Te...|\n",
      "|    0|Ill give you a hi...|[[document, 0, 10...|[[document, 0, 19...|[[token, 0, 2, Il...|\n",
      "|    0|Star Wars, easy. ...|[[document, 0, 75...|[[document, 0, 15...|[[token, 0, 3, St...|\n",
      "|    0|You're adorable.\n",
      "...|[[document, 0, 22...|[[document, 0, 15...|[[token, 0, 5, Yo...|\n",
      "|    0|He actually acts ...|[[document, 0, 27...|[[document, 0, 49...|[[token, 0, 1, He...|\n",
      "|    0|Clinton struggles...|[[document, 0, 13...|[[document, 0, 13...|[[token, 0, 6, Cl...|\n",
      "|    0|Is that the Older...|[[document, 0, 69...|[[document, 0, 38...|[[token, 0, 1, Is...|\n",
      "+-----+--------------------+--------------------+--------------------+--------------------+\n",
      "only showing top 20 rows\n",
      "\n",
      "6948\n",
      "3052\n"
     ]
    }
   ],
   "source": [
    "from sparknlp.annotator import *\n",
    "from sparknlp.common import *\n",
    "from sparknlp.base import *\n",
    "\n",
    "from pyspark.ml import Pipeline\n",
    "\n",
    "document_assembler = DocumentAssembler() \\\n",
    "    .setInputCol(\"comment\") \\\n",
    "    .setOutputCol(\"document\")\n",
    "    \n",
    "sentence_detector = SentenceDetector() \\\n",
    "    .setInputCols([\"document\"]) \\\n",
    "    .setOutputCol(\"sentence\") \\\n",
    "    .setUseAbbreviations(True)\n",
    "    \n",
    "tokenizer = Tokenizer() \\\n",
    "  .setInputCols([\"sentence\"]) \\\n",
    "  .setOutputCol(\"token\")\n",
    "\n",
    "nlp_pipeline = Pipeline(stages=[document_assembler, sentence_detector, tokenizer])\n",
    "nlp_model = nlp_pipeline.fit(df)\n",
    "\n",
    "processed = nlp_model.transform(df)\n",
    "processed.show()\n",
    "\n",
    "train, test = processed.randomSplit(weights=[0.7, 0.3], seed=123)\n",
    "\n",
    "print(train.count())\n",
    "print(test.count())"
   ]
  },
  {
   "cell_type": "code",
   "execution_count": 8,
   "metadata": {
    "colab": {
     "base_uri": "https://localhost:8080/",
     "height": 629
    },
    "colab_type": "code",
    "executionInfo": {
     "elapsed": 86143,
     "status": "ok",
     "timestamp": 1569336101673,
     "user": {
      "displayName": "Alexander Thomas",
      "photoUrl": "",
      "userId": "11939695612384769217"
     },
     "user_tz": 240
    },
    "id": "7Ja-TkfF-kSD",
    "outputId": "0b3385f5-e2c2-43df-9ed8-29c499b1beba"
   },
   "outputs": [
    {
     "name": "stdout",
     "output_type": "stream",
     "text": [
      "glove_100d download started this may take some time.\n",
      "Approximate size to download 144.3 MB\n",
      "[OK!]\n",
      "+-----+--------------------+--------------------+--------------------+--------------------+--------------------+\n",
      "|label|             comment|            document|            sentence|               token|          embeddings|\n",
      "+-----+--------------------+--------------------+--------------------+--------------------+--------------------+\n",
      "|    0|\"\"\"...newtons.\"\" ...|[[document, 0, 72...|[[document, 0, 72...|[[token, 0, 5, \"\"...|[[word_embeddings...|\n",
      "|    0|\"\"\"As an excuse\"\"...|[[document, 0, 77...|[[document, 0, 17...|[[token, 0, 2, \"\"...|[[word_embeddings...|\n",
      "|    0|\"\"\"Budaya Ketimur...|[[document, 0, 21...|[[document, 0, 81...|[[token, 0, 2, \"\"...|[[word_embeddings...|\n",
      "|    0|\"\"\"Christ Enthusi...|[[document, 0, 75...|[[document, 0, 75...|[[token, 0, 2, \"\"...|[[word_embeddings...|\n",
      "|    0|\"\"\"Dear so called...|[[document, 0, 68...|[[document, 0, 68...|[[token, 0, 2, \"\"...|[[word_embeddings...|\n",
      "|    0|\"\"\"Did Hillary Cl...|[[document, 0, 24...|[[document, 0, 10...|[[token, 0, 2, \"\"...|[[word_embeddings...|\n",
      "|    0|\"\"\"Gingrich\n",
      "And C...|[[document, 0, 98...|[[document, 0, 98...|[[token, 0, 2, \"\"...|[[word_embeddings...|\n",
      "|    0|\"\"\"He's not norma...|[[document, 0, 83...|[[document, 0, 83...|[[token, 0, 2, \"\"...|[[word_embeddings...|\n",
      "|    0|\"\"\"Hey you wanna ...|[[document, 0, 77...|[[document, 0, 74...|[[token, 0, 2, \"\"...|[[word_embeddings...|\n",
      "|    0|\"\"\"Hmm\n",
      "Moonkin ar...|[[document, 0, 37...|[[document, 0, 37...|[[token, 0, 2, \"\"...|[[word_embeddings...|\n",
      "|    0|\"\"\"I'll buy almos...|[[document, 0, 12...|[[document, 0, 12...|[[token, 0, 2, \"\"...|[[word_embeddings...|\n",
      "|    0|\"\"\"I'm a man\n",
      "Boja...|[[document, 0, 28...|[[document, 0, 28...|[[token, 0, 2, \"\"...|[[word_embeddings...|\n",
      "|    0|\"\"\"It's kind of h...|[[document, 0, 11...|[[document, 0, 11...|[[token, 0, 2, \"\"...|[[word_embeddings...|\n",
      "|    0|\"\"\"John Sousa\n",
      "App...|[[document, 0, 69...|[[document, 0, 69...|[[token, 0, 2, \"\"...|[[word_embeddings...|\n",
      "|    0|\"\"\"Legacy Python\"...|[[document, 0, 57...|[[document, 0, 57...|[[token, 0, 2, \"\"...|[[word_embeddings...|\n",
      "|    0|\"\"\"Lov\"\"\"\n",
      "\"There'...|[[document, 0, 62...|[[document, 0, 62...|[[token, 0, 2, \"\"...|[[word_embeddings...|\n",
      "|    0|\"\"\"Mighty Mage\"\" ...|[[document, 0, 14...|[[document, 0, 88...|[[token, 0, 2, \"\"...|[[word_embeddings...|\n",
      "|    0|\"\"\"Mom\n",
      "Holy shitb...|[[document, 0, 34...|[[document, 0, 34...|[[token, 0, 2, \"\"...|[[word_embeddings...|\n",
      "|    0|\"\"\"People\"\"\n",
      "Umm, ...|[[document, 0, 54...|[[document, 0, 54...|[[token, 0, 2, \"\"...|[[word_embeddings...|\n",
      "|    0|\"\"\"Play it cool; ...|[[document, 0, 12...|[[document, 0, 15...|[[token, 0, 2, \"\"...|[[word_embeddings...|\n",
      "+-----+--------------------+--------------------+--------------------+--------------------+--------------------+\n",
      "only showing top 20 rows\n",
      "\n"
     ]
    }
   ],
   "source": [
    "glove = WordEmbeddingsModel.pretrained()\n",
    "train_featurized = glove.transform(train)\n",
    "train_featurized.show()"
   ]
  },
  {
   "cell_type": "code",
   "execution_count": 9,
   "metadata": {
    "colab": {
     "base_uri": "https://localhost:8080/",
     "height": 476
    },
    "colab_type": "code",
    "executionInfo": {
     "elapsed": 103252,
     "status": "ok",
     "timestamp": 1569336119072,
     "user": {
      "displayName": "Alexander Thomas",
      "photoUrl": "",
      "userId": "11939695612384769217"
     },
     "user_tz": 240
    },
    "id": "lKWVvLXm-kSF",
    "outputId": "214aa34b-d18f-40cc-e156-7d94bbacce95"
   },
   "outputs": [
    {
     "name": "stdout",
     "output_type": "stream",
     "text": [
      "+-----+--------------------+--------------------+--------------------+--------------------+--------------------+\n",
      "|label|             comment|            document|            sentence|               token|          embeddings|\n",
      "+-----+--------------------+--------------------+--------------------+--------------------+--------------------+\n",
      "|    0|\"\"\"Agreed. I thin...|[[document, 0, 13...|[[document, 0, 9,...|[[token, 0, 2, \"\"...|[[word_embeddings...|\n",
      "|    0|\"\"\"An unmet playe...|[[document, 0, 27...|[[document, 0, 91...|[[token, 0, 2, \"\"...|[[word_embeddings...|\n",
      "|    0|\"\"\"And an underag...|[[document, 0, 54...|[[document, 0, 54...|[[token, 0, 2, \"\"...|[[word_embeddings...|\n",
      "|    0|\"\"\"Define Capital...|[[document, 0, 12...|[[document, 0, 22...|[[token, 0, 2, \"\"...|[[word_embeddings...|\n",
      "|    0|\"\"\"Exactly. My ki...|[[document, 0, 13...|[[document, 0, 13...|[[token, 0, 2, \"\"...|[[word_embeddings...|\n",
      "|    0|\"\"\"Ho\"\" Speak lik...|[[document, 0, 45...|[[document, 0, 45...|[[token, 0, 2, \"\"...|[[word_embeddings...|\n",
      "|    0|\"\"\"I don't know i...|[[document, 0, 79...|[[document, 0, 79...|[[token, 0, 2, \"\"...|[[word_embeddings...|\n",
      "|    0|\"\"\"I think you ar...|[[document, 0, 15...|[[document, 0, 15...|[[token, 0, 2, \"\"...|[[word_embeddings...|\n",
      "|    0|\"\"\"Make her mindg...|[[document, 0, 71...|[[document, 0, 71...|[[token, 0, 2, \"\"...|[[word_embeddings...|\n",
      "|    0|\"\"\"Parker will ne...|[[document, 0, 12...|[[document, 0, 12...|[[token, 0, 2, \"\"...|[[word_embeddings...|\n",
      "|    0|\"\"\"People\"\"- The ...|[[document, 0, 16...|[[document, 0, 16...|[[token, 0, 2, \"\"...|[[word_embeddings...|\n",
      "|    0|\"\"\"QR Code\"\"\n",
      "\"For...|[[document, 0, 73...|[[document, 0, 73...|[[token, 0, 2, \"\"...|[[word_embeddings...|\n",
      "|    0|\"\"\"Suspicous beha...|[[document, 0, 15...|[[document, 0, 70...|[[token, 0, 2, \"\"...|[[word_embeddings...|\n",
      "|    0|\"\"\"The government...|[[document, 0, 96...|[[document, 0, 96...|[[token, 0, 2, \"\"...|[[word_embeddings...|\n",
      "|    0|\"\"\"They claim the...|[[document, 0, 16...|[[document, 0, 16...|[[token, 0, 2, \"\"...|[[word_embeddings...|\n",
      "|    0|\"\"\"Tread lightly ...|[[document, 0, 45...|[[document, 0, 45...|[[token, 0, 2, \"\"...|[[word_embeddings...|\n",
      "|    0|\"\"\"We're off on a...|[[document, 0, 99...|[[document, 0, 32...|[[token, 0, 2, \"\"...|[[word_embeddings...|\n",
      "|    0|\"\"\"What the fuck ...|[[document, 0, 24...|[[document, 0, 53...|[[token, 0, 2, \"\"...|[[word_embeddings...|\n",
      "|    0|\"\"\"You are like t...|[[document, 0, 71...|[[document, 0, 71...|[[token, 0, 2, \"\"...|[[word_embeddings...|\n",
      "|    0|\"\"\"You can't like...|[[document, 0, 14...|[[document, 0, 14...|[[token, 0, 2, \"\"...|[[word_embeddings...|\n",
      "+-----+--------------------+--------------------+--------------------+--------------------+--------------------+\n",
      "only showing top 20 rows\n",
      "\n"
     ]
    }
   ],
   "source": [
    "test_featurized = glove.transform(test)\n",
    "test_featurized.show()"
   ]
  },
  {
   "cell_type": "code",
   "execution_count": 0,
   "metadata": {
    "colab": {},
    "colab_type": "code",
    "id": "Y3Zpptsh-kSI"
   },
   "outputs": [],
   "source": [
    "def get_features(row):\n",
    "    result = []\n",
    "    for tk in row:\n",
    "        result.append(tk['embeddings'])\n",
    "    return np.array(result)\n",
    "\n",
    "def build_data(df, chunks=10):\n",
    "    x_train = []\n",
    "    y_train = []\n",
    "\n",
    "    row_count = df.count()\n",
    "    i = 0\n",
    "    \n",
    "    chunks = df.randomSplit(weights=[1/chunks] * chunks)\n",
    "\n",
    "    for chunk in chunks:\n",
    "        rows = chunk.collect()\n",
    "        for row in rows:\n",
    "            if i % 1000 == 0:\n",
    "                print('row {} / {} ({:.1f} %)'.format(i, row_count, 100 * i / row_count))\n",
    "            embeddings = get_features(row['embeddings'])\n",
    "            label = row['label']\n",
    "            x_train.append(embeddings)\n",
    "            y_train.append(label)\n",
    "            i += 1\n",
    "\n",
    "    x_train = np.array(x_train)\n",
    "    y_train = np.array(y_train)\n",
    "    return x_train, y_train"
   ]
  },
  {
   "cell_type": "code",
   "execution_count": 13,
   "metadata": {
    "colab": {
     "base_uri": "https://localhost:8080/",
     "height": 136
    },
    "colab_type": "code",
    "executionInfo": {
     "elapsed": 226382,
     "status": "ok",
     "timestamp": 1569336368806,
     "user": {
      "displayName": "Alexander Thomas",
      "photoUrl": "",
      "userId": "11939695612384769217"
     },
     "user_tz": 240
    },
    "id": "DDcDax6R-kSK",
    "outputId": "bf406875-fbbe-419e-870e-728a73f1a760",
    "scrolled": true
   },
   "outputs": [
    {
     "name": "stdout",
     "output_type": "stream",
     "text": [
      "row 0 / 6948 (0.0 %)\n",
      "row 1000 / 6948 (14.4 %)\n",
      "row 2000 / 6948 (28.8 %)\n",
      "row 3000 / 6948 (43.2 %)\n",
      "row 4000 / 6948 (57.6 %)\n",
      "row 5000 / 6948 (72.0 %)\n",
      "row 6000 / 6948 (86.4 %)\n"
     ]
    }
   ],
   "source": [
    "x_train, y_train = build_data(train_featurized)"
   ]
  },
  {
   "cell_type": "code",
   "execution_count": 14,
   "metadata": {
    "colab": {
     "base_uri": "https://localhost:8080/",
     "height": 85
    },
    "colab_type": "code",
    "executionInfo": {
     "elapsed": 189452,
     "status": "ok",
     "timestamp": 1569338047742,
     "user": {
      "displayName": "Alexander Thomas",
      "photoUrl": "",
      "userId": "11939695612384769217"
     },
     "user_tz": 240
    },
    "id": "pHzesw6c-kSN",
    "outputId": "c8ad0ad1-041c-48e9-d97d-661e341a1edc",
    "scrolled": true
   },
   "outputs": [
    {
     "name": "stdout",
     "output_type": "stream",
     "text": [
      "row 0 / 3052 (0.0 %)\n",
      "row 1000 / 3052 (32.8 %)\n",
      "row 2000 / 3052 (65.5 %)\n",
      "row 3000 / 3052 (98.3 %)\n"
     ]
    }
   ],
   "source": [
    "x_test, y_test = build_data(test_featurized)"
   ]
  },
  {
   "cell_type": "code",
   "execution_count": 0,
   "metadata": {
    "colab": {},
    "colab_type": "code",
    "id": "EkrSsFu8-kSP"
   },
   "outputs": [],
   "source": [
    "spark.stop()"
   ]
  },
  {
   "cell_type": "code",
   "execution_count": 16,
   "metadata": {
    "colab": {
     "base_uri": "https://localhost:8080/",
     "height": 153
    },
    "colab_type": "code",
    "executionInfo": {
     "elapsed": 188683,
     "status": "ok",
     "timestamp": 1569338047746,
     "user": {
      "displayName": "Alexander Thomas",
      "photoUrl": "",
      "userId": "11939695612384769217"
     },
     "user_tz": 240
    },
    "id": "Bx7ybKOy-kSS",
    "outputId": "08d1a873-346a-43bb-c1a3-48bd1a71abfd"
   },
   "outputs": [
    {
     "name": "stdout",
     "output_type": "stream",
     "text": [
      "Train Labels:\n",
      " 0    4385\n",
      "1    2563\n",
      "dtype: int64\n",
      "Test Labels:\n",
      " 0    1905\n",
      "1    1147\n",
      "dtype: int64\n"
     ]
    }
   ],
   "source": [
    "print('Train Labels:\\n', pd.Series(y_train).value_counts())\n",
    "print('Test Labels:\\n', pd.Series(y_test).value_counts())"
   ]
  },
  {
   "cell_type": "code",
   "execution_count": 17,
   "metadata": {
    "colab": {
     "base_uri": "https://localhost:8080/",
     "height": 34
    },
    "colab_type": "code",
    "executionInfo": {
     "elapsed": 192322,
     "status": "ok",
     "timestamp": 1569338053672,
     "user": {
      "displayName": "Alexander Thomas",
      "photoUrl": "",
      "userId": "11939695612384769217"
     },
     "user_tz": 240
    },
    "id": "WSOCSyhV-kSU",
    "outputId": "1bbd73e6-a2c9-4d36-f56b-df5446f61449"
   },
   "outputs": [
    {
     "name": "stderr",
     "output_type": "stream",
     "text": [
      "Using TensorFlow backend.\n"
     ]
    }
   ],
   "source": [
    "from keras.preprocessing import sequence\n",
    "from keras.models import Sequential\n",
    "from keras.layers import Dense, Dropout, Activation\n",
    "from keras.layers import Embedding\n",
    "from keras.layers import Conv1D, GlobalMaxPooling1D\n",
    "\n",
    "# set parameters for our model:\n",
    "maxlen = 100 #max 50 words per article\n",
    "batch_size = 32 #size of the batch \n",
    "filters = 50 #dimension of filters for the convolutional layer\n",
    "kernel_size = 3 #size of the kernel used in the convolutional layer\n",
    "hidden_dims = 250 #dimension of the hidden layer\n",
    "epochs = 5 #number of training epochs\n",
    "\n",
    "x_train = sequence.pad_sequences(x_train, maxlen=maxlen)\n",
    "x_test = sequence.pad_sequences(x_test, maxlen=maxlen)"
   ]
  },
  {
   "cell_type": "code",
   "execution_count": 18,
   "metadata": {
    "colab": {
     "base_uri": "https://localhost:8080/",
     "height": 102
    },
    "colab_type": "code",
    "executionInfo": {
     "elapsed": 191941,
     "status": "ok",
     "timestamp": 1569338053673,
     "user": {
      "displayName": "Alexander Thomas",
      "photoUrl": "",
      "userId": "11939695612384769217"
     },
     "user_tz": 240
    },
    "id": "SFEyL-WY-kSX",
    "outputId": "d6c236aa-6fca-4e0e-9f97-35e9c70c88de"
   },
   "outputs": [
    {
     "name": "stdout",
     "output_type": "stream",
     "text": [
      "Build model...\n",
      "WARNING:tensorflow:From /usr/local/lib/python3.6/dist-packages/keras/backend/tensorflow_backend.py:66: The name tf.get_default_graph is deprecated. Please use tf.compat.v1.get_default_graph instead.\n",
      "\n",
      "WARNING:tensorflow:From /usr/local/lib/python3.6/dist-packages/keras/optimizers.py:793: The name tf.train.Optimizer is deprecated. Please use tf.compat.v1.train.Optimizer instead.\n",
      "\n"
     ]
    }
   ],
   "source": [
    "print('Build model...')\n",
    "model = Sequential()\n",
    "\n",
    "# we add a Convolution1D, which will learn filters\n",
    "# word group filters of size filter_length:\n",
    "model.add(Conv1D(filters,\n",
    "                 kernel_size,\n",
    "                 padding='valid',\n",
    "                 activation='relu',\n",
    "                 strides=1))\n",
    "# we use max pooling:\n",
    "model.add(GlobalMaxPooling1D())\n",
    "\n",
    "# We add a vanilla hidden layer:\n",
    "model.add(Dense(hidden_dims))\n",
    "model.add(Dropout(0.2))\n",
    "model.add(Activation('relu'))\n",
    "\n",
    "# We project onto a single unit output layer, and squash it with a sigmoid:\n",
    "model.add(Dense(1))\n",
    "model.add(Activation('sigmoid'))\n",
    "\n",
    "from keras import backend as K\n",
    "\n",
    "\n",
    "model.compile(loss='binary_crossentropy',\n",
    "              optimizer='adam',\n",
    "              metrics=['accuracy','mae'])"
   ]
  },
  {
   "cell_type": "code",
   "execution_count": 19,
   "metadata": {
    "colab": {
     "base_uri": "https://localhost:8080/",
     "height": 479
    },
    "colab_type": "code",
    "executionInfo": {
     "elapsed": 207599,
     "status": "ok",
     "timestamp": 1569338070572,
     "user": {
      "displayName": "Alexander Thomas",
      "photoUrl": "",
      "userId": "11939695612384769217"
     },
     "user_tz": 240
    },
    "id": "ulTZGHRI-kSa",
    "outputId": "56ee79fa-a60e-46d3-9912-694ed2d90f70",
    "scrolled": false
   },
   "outputs": [
    {
     "name": "stdout",
     "output_type": "stream",
     "text": [
      "WARNING:tensorflow:From /usr/local/lib/python3.6/dist-packages/keras/backend/tensorflow_backend.py:541: The name tf.placeholder is deprecated. Please use tf.compat.v1.placeholder instead.\n",
      "\n",
      "WARNING:tensorflow:From /usr/local/lib/python3.6/dist-packages/keras/backend/tensorflow_backend.py:4432: The name tf.random_uniform is deprecated. Please use tf.random.uniform instead.\n",
      "\n",
      "WARNING:tensorflow:From /usr/local/lib/python3.6/dist-packages/keras/backend/tensorflow_backend.py:148: The name tf.placeholder_with_default is deprecated. Please use tf.compat.v1.placeholder_with_default instead.\n",
      "\n",
      "WARNING:tensorflow:From /usr/local/lib/python3.6/dist-packages/keras/backend/tensorflow_backend.py:3733: calling dropout (from tensorflow.python.ops.nn_ops) with keep_prob is deprecated and will be removed in a future version.\n",
      "Instructions for updating:\n",
      "Please use `rate` instead of `keep_prob`. Rate should be set to `rate = 1 - keep_prob`.\n",
      "WARNING:tensorflow:From /usr/local/lib/python3.6/dist-packages/keras/backend/tensorflow_backend.py:3657: The name tf.log is deprecated. Please use tf.math.log instead.\n",
      "\n",
      "WARNING:tensorflow:From /usr/local/lib/python3.6/dist-packages/tensorflow/python/ops/nn_impl.py:180: add_dispatch_support.<locals>.wrapper (from tensorflow.python.ops.array_ops) is deprecated and will be removed in a future version.\n",
      "Instructions for updating:\n",
      "Use tf.where in 2.0, which has the same broadcast rule as np.where\n",
      "Train on 6948 samples, validate on 3052 samples\n",
      "Epoch 1/5\n",
      "6948/6948 [==============================] - 4s 584us/step - loss: 0.6613 - acc: 0.6277 - mean_absolute_error: 0.4648 - val_loss: 0.6692 - val_acc: 0.6242 - val_mean_absolute_error: 0.4422\n",
      "Epoch 2/5\n",
      "6948/6948 [==============================] - 3s 442us/step - loss: 0.6303 - acc: 0.6530 - mean_absolute_error: 0.4421 - val_loss: 0.6368 - val_acc: 0.6465 - val_mean_absolute_error: 0.4522\n",
      "Epoch 3/5\n",
      "6948/6948 [==============================] - 3s 434us/step - loss: 0.5753 - acc: 0.7031 - mean_absolute_error: 0.3994 - val_loss: 0.6399 - val_acc: 0.6474 - val_mean_absolute_error: 0.4307\n",
      "Epoch 4/5\n",
      "6948/6948 [==============================] - 3s 432us/step - loss: 0.4969 - acc: 0.7585 - mean_absolute_error: 0.3432 - val_loss: 0.6908 - val_acc: 0.6163 - val_mean_absolute_error: 0.4314\n",
      "Epoch 5/5\n",
      "6948/6948 [==============================] - 3s 427us/step - loss: 0.4068 - acc: 0.8224 - mean_absolute_error: 0.2770 - val_loss: 0.7707 - val_acc: 0.6206 - val_mean_absolute_error: 0.4160\n"
     ]
    },
    {
     "data": {
      "text/plain": [
       "<keras.callbacks.History at 0x7f85be3396d8>"
      ]
     },
     "execution_count": 19,
     "metadata": {
      "tags": []
     },
     "output_type": "execute_result"
    }
   ],
   "source": [
    "model.fit(x_train, y_train,\n",
    "          batch_size=batch_size,\n",
    "          epochs=epochs,\n",
    "          validation_data=(x_test, y_test))"
   ]
  },
  {
   "cell_type": "code",
   "execution_count": 20,
   "metadata": {
    "colab": {
     "base_uri": "https://localhost:8080/",
     "height": 758
    },
    "colab_type": "code",
    "executionInfo": {
     "elapsed": 207500,
     "status": "ok",
     "timestamp": 1569338071120,
     "user": {
      "displayName": "Alexander Thomas",
      "photoUrl": "",
      "userId": "11939695612384769217"
     },
     "user_tz": 240
    },
    "id": "VgGva_h--kSc",
    "outputId": "93d7c2e2-b27a-429d-ef18-f9846c4be72d"
   },
   "outputs": [
    {
     "data": {
      "image/png": "[encoded data removed]",
      "text/plain": [
       "<IPython.core.display.Image object>"
      ]
     },
     "execution_count": 20,
     "metadata": {
      "tags": []
     },
     "output_type": "execute_result"
    }
   ],
   "source": [
    "from IPython.display import Image\n",
    "from keras.utils.vis_utils import model_to_dot\n",
    "dot = model_to_dot(model)\n",
    "Image(dot.create_png())"
   ]
  }
 ],
 "metadata": {
  "colab": {
   "collapsed_sections": [],
   "name": "8- Sarcasm Classifiers (GloVe and CNN).ipynb",
   "provenance": []
  },
  "kernelspec": {
   "display_name": "Python 3",
   "language": "python",
   "name": "python3"
  },
  "language_info": {
   "codemirror_mode": {
    "name": "ipython",
    "version": 3
   },
   "file_extension": ".py",
   "mimetype": "text/x-python",
   "name": "python",
   "nbconvert_exporter": "python",
   "pygments_lexer": "ipython3",
   "version": "3.6.9"
  }
 },
 "nbformat": 4,
 "nbformat_minor": 1
}

{
 "cells": [
  {
   "cell_type": "code",
   "execution_count": null,
   "metadata": {
    "colab": {
     "base_uri": "https://localhost:8080/",
     "height": 374
    },
    "colab_type": "code",
    "executionInfo": {
     "elapsed": 46107,
     "status": "ok",
     "timestamp": 1569340230597,
     "user": {
      "displayName": "Alexander Thomas",
      "photoUrl": "",
      "userId": "11939695612384769217"
     },
     "user_tz": 240
    },
    "id": "86A_zBrv1XGR",
    "outputId": "b848aa30-584b-4220-a73f-503a48c64963"
   },
   "outputs": [],
   "source": [
    "import os\n",
    "\n",
    "# Install java\n",
    "! apt-get install -y openjdk-8-jdk-headless -qq > /dev/null\n",
    "os.environ[\"JAVA_HOME\"] = \"/usr/lib/jvm/java-8-openjdk-amd64\"\n",
    "os.environ[\"PATH\"] = os.environ[\"JAVA_HOME\"] + \"/bin:\" + os.environ[\"PATH\"]\n",
    "! java -version\n",
    "\n",
    "# Install pyspark\n",
    "! pip install --ignore-installed pyspark==2.4.4\n",
    "\n",
    "# Install Spark NLP\n",
    "! pip install --ignore-installed spark-nlp==2.3.4"
   ]
  },
  {
   "cell_type": "code",
   "execution_count": 2,
   "metadata": {
    "colab": {
     "base_uri": "https://localhost:8080/",
     "height": 204
    },
    "colab_type": "code",
    "executionInfo": {
     "elapsed": 51226,
     "status": "ok",
     "timestamp": 1569340235727,
     "user": {
      "displayName": "Alexander Thomas",
      "photoUrl": "",
      "userId": "11939695612384769217"
     },
     "user_tz": 240
    },
    "id": "-H5iDKTS1TQp",
    "outputId": "ff6a6a0a-0094-4f62-c798-f8c9cc59acfb",
    "scrolled": false
   },
   "outputs": [
    {
     "name": "stdout",
     "output_type": "stream",
     "text": [
      "--2019-09-24 15:50:30--  https://s3.amazonaws.com/auxdata.johnsnowlabs.com/public/resources/en/sarcasm/train-balanced-sarcasm.csv\n",
      "Resolving s3.amazonaws.com (s3.amazonaws.com)... 52.216.178.13\n",
      "Connecting to s3.amazonaws.com (s3.amazonaws.com)|52.216.178.13|:443... connected.\n",
      "HTTP request sent, awaiting response... 200 OK\n",
      "Length: 255268960 (243M) [text/csv]\n",
      "Saving to: ‘/tmp/train-balanced-sarcasm.csv’\n",
      "\n",
      "train-balanced-sarc 100%[===================>] 243.44M  58.0MB/s    in 4.3s    \n",
      "\n",
      "2019-09-24 15:50:35 (56.3 MB/s) - ‘/tmp/train-balanced-sarcasm.csv’ saved [255268960/255268960]\n",
      "\n"
     ]
    }
   ],
   "source": [
    "! wget -N https://s3.amazonaws.com/auxdata.johnsnowlabs.com/public/resources/en/sarcasm/train-balanced-sarcasm.csv -P /tmp"
   ]
  },
  {
   "cell_type": "code",
   "execution_count": 1,
   "metadata": {
    "colab": {},
    "colab_type": "code",
    "id": "foI0X8EH1TQv"
   },
   "outputs": [],
   "source": [
    "from pyspark.sql import SparkSession\n",
    "import sys\n",
    "import time\n",
    "\n",
    "packages = [\n",
    "    'JohnSnowLabs:spark-nlp:2.3.4'\n",
    "]\n",
    "spark = SparkSession \\\n",
    "    .builder \\\n",
    "    .appName(\"ML SQL session\") \\\n",
    "    .config('spark.jars.packages', ','.join(packages)) \\\n",
    "    .config('spark.executor.instances','4') \\\n",
    "    .config(\"spark.executor.memory\", \"16g\") \\\n",
    "    .config(\"spark.driver.memory\",\"16g\") \\\n",
    "    .getOrCreate()"
   ]
  },
  {
   "cell_type": "code",
   "execution_count": 2,
   "metadata": {
    "colab": {
     "base_uri": "https://localhost:8080/",
     "height": 85
    },
    "colab_type": "code",
    "executionInfo": {
     "elapsed": 70899,
     "status": "ok",
     "timestamp": 1569340255411,
     "user": {
      "displayName": "Alexander Thomas",
      "photoUrl": "",
      "userId": "11939695612384769217"
     },
     "user_tz": 240
    },
    "id": "juMPPDBC1TQz",
    "outputId": "2f754d6d-6eda-4903-dc19-07639f4f3051"
   },
   "outputs": [
    {
     "name": "stdout",
     "output_type": "stream",
     "text": [
      "Spark NLP version:  2.3.4\n",
      "Apache Spark version:  2.4.4\n"
     ]
    }
   ],
   "source": [
    "import sparknlp\n",
    "\n",
    "print(\"Spark NLP version: \", sparknlp.version())\n",
    "print(\"Apache Spark version: \", spark.version)"
   ]
  },
  {
   "cell_type": "code",
   "execution_count": 5,
   "metadata": {
    "colab": {
     "base_uri": "https://localhost:8080/",
     "height": 238
    },
    "colab_type": "code",
    "executionInfo": {
     "elapsed": 87898,
     "status": "ok",
     "timestamp": 1569340272416,
     "user": {
      "displayName": "Alexander Thomas",
      "photoUrl": "",
      "userId": "11939695612384769217"
     },
     "user_tz": 240
    },
    "id": "ULTXS04n1TQ2",
    "outputId": "ccf69e6a-1d79-4cd2-b3be-58ac0e93d2f8",
    "scrolled": true
   },
   "outputs": [
    {
     "name": "stdout",
     "output_type": "stream",
     "text": [
      "root\n",
      " |-- label: integer (nullable = true)\n",
      " |-- comment: string (nullable = true)\n",
      " |-- author: string (nullable = true)\n",
      " |-- subreddit: string (nullable = true)\n",
      " |-- score: string (nullable = true)\n",
      " |-- ups: string (nullable = true)\n",
      " |-- downs: string (nullable = true)\n",
      " |-- date: string (nullable = true)\n",
      " |-- created_utc: string (nullable = true)\n",
      " |-- parent_comment: string (nullable = true)\n",
      "\n"
     ]
    },
    {
     "data": {
      "text/plain": [
       "[Row(count(1)=1010826)]"
      ]
     },
     "execution_count": 5,
     "metadata": {
      "tags": []
     },
     "output_type": "execute_result"
    }
   ],
   "source": [
    "from pyspark.sql import SQLContext\n",
    "\n",
    "sql = SQLContext(spark)\n",
    "\n",
    "trainBalancedSarcasmDF = spark.read.option(\"header\", True).option(\"inferSchema\", True).csv(\"/tmp/train-balanced-sarcasm.csv\")\n",
    "trainBalancedSarcasmDF.printSchema()\n",
    "\n",
    "# Let's create a temp view (table) for our SQL queries\n",
    "trainBalancedSarcasmDF.createOrReplaceTempView('data')\n",
    "\n",
    "sql.sql('SELECT COUNT(*) FROM data').collect()"
   ]
  },
  {
   "cell_type": "code",
   "execution_count": 6,
   "metadata": {
    "colab": {
     "base_uri": "https://localhost:8080/",
     "height": 561
    },
    "colab_type": "code",
    "executionInfo": {
     "elapsed": 92618,
     "status": "ok",
     "timestamp": 1569340277143,
     "user": {
      "displayName": "Alexander Thomas",
      "photoUrl": "",
      "userId": "11939695612384769217"
     },
     "user_tz": 240
    },
    "id": "I3LXCBsh1TQ5",
    "outputId": "14deb679-4080-4fc3-a6e9-9d53d1106dfd"
   },
   "outputs": [
    {
     "name": "stdout",
     "output_type": "stream",
     "text": [
      "<class 'pyspark.sql.dataframe.DataFrame'>\n",
      "root\n",
      " |-- label: integer (nullable = true)\n",
      " |-- comment: string (nullable = true)\n",
      "\n",
      "+-----+--------------------+\n",
      "|label|             comment|\n",
      "+-----+--------------------+\n",
      "|    0|Yeah, I get that ...|\n",
      "|    0|The blazers and M...|\n",
      "|    0|They're favored t...|\n",
      "|    0|deadass don't kil...|\n",
      "|    0|Yep can confirm I...|\n",
      "|    0|do you find arian...|\n",
      "|    0|What's your weird...|\n",
      "|    0|Probably Sephirot...|\n",
      "|    0|What to upgrade? ...|\n",
      "|    0|Probably count Ka...|\n",
      "|    0|I bet if that mon...|\n",
      "|    0|James Shields Wil...|\n",
      "|    0|There's no time t...|\n",
      "|    0|Team Specific Thr...|\n",
      "|    0|Ill give you a hi...|\n",
      "|    0|Star Wars, easy. ...|\n",
      "|    0|You're adorable.\n",
      "...|\n",
      "|    0|He actually acts ...|\n",
      "|    0|Clinton struggles...|\n",
      "|    0|Is that the Older...|\n",
      "+-----+--------------------+\n",
      "only showing top 20 rows\n",
      "\n"
     ]
    }
   ],
   "source": [
    "df = sql.sql('select label,concat(parent_comment,\"\\n\",comment) as comment from data where comment is not null and parent_comment is not null limit 100000')\n",
    "print(type(df))\n",
    "df.printSchema()\n",
    "df.show()"
   ]
  },
  {
   "cell_type": "code",
   "execution_count": 7,
   "metadata": {
    "colab": {
     "base_uri": "https://localhost:8080/",
     "height": 493
    },
    "colab_type": "code",
    "executionInfo": {
     "elapsed": 233052,
     "status": "ok",
     "timestamp": 1569340417584,
     "user": {
      "displayName": "Alexander Thomas",
      "photoUrl": "",
      "userId": "11939695612384769217"
     },
     "user_tz": 240
    },
    "id": "K_qXiFV81TQ8",
    "outputId": "9d2ce426-e1d7-4642-b73f-4e6b3ec77e4f"
   },
   "outputs": [
    {
     "name": "stdout",
     "output_type": "stream",
     "text": [
      "+-----+--------------------+--------------------+\n",
      "|label|             comment|             ntokens|\n",
      "+-----+--------------------+--------------------+\n",
      "|    0|what do you guys ...|[what, do, you, g...|\n",
      "|    1|Cool. I got a D.\n",
      "...|[cool, i, got, a,...|\n",
      "|    0|PSG recently pick...|[psg, recent, pic...|\n",
      "|    0|I feel like this ...|[i, feel, like, t...|\n",
      "|    1|I also own that s...|[i, also, own, th...|\n",
      "|    1|There is NO WAY T...|[there, i, no, wa...|\n",
      "|    0|What's with the d...|[what, with, the,...|\n",
      "|    0|470 is struggling...|[i, struggl, i, g...|\n",
      "|    0|General Discussio...|[gener, discuss, ...|\n",
      "|    0|Assertion? Why?\n",
      "D...|[assert, why, debug]|\n",
      "|    0|1 Suspect Dead, 9...|[suspect, dead, i...|\n",
      "|    1|You missed out th...|[you, miss, out, ...|\n",
      "|    0|okay good game bu...|[okai, good, game...|\n",
      "|    0|\"On somewhat of a...|[on, somewhat, of...|\n",
      "|    1|the organization ...|[the, organ, that...|\n",
      "|    1|You're preaching ...|[your, preach, to...|\n",
      "|    0|She put herself i...|[she, put, hersel...|\n",
      "|    0|Wouldn't it make ...|[wouldnt, it, mak...|\n",
      "|    1|Protecting Christ...|[protect, christm...|\n",
      "|    0|You mean Miranda ...|[you, mean, miran...|\n",
      "+-----+--------------------+--------------------+\n",
      "only showing top 20 rows\n",
      "\n"
     ]
    }
   ],
   "source": [
    "from sparknlp.annotator import *\n",
    "from sparknlp.common import *\n",
    "from sparknlp.base import *\n",
    "\n",
    "from pyspark.ml import Pipeline\n",
    "\n",
    "\n",
    "document_assembler = DocumentAssembler() \\\n",
    "    .setInputCol(\"comment\") \\\n",
    "    .setOutputCol(\"document\")\n",
    "    \n",
    "sentence_detector = SentenceDetector() \\\n",
    "    .setInputCols([\"document\"]) \\\n",
    "    .setOutputCol(\"sentence\") \\\n",
    "    .setUseAbbreviations(True)\n",
    "    \n",
    "tokenizer = Tokenizer() \\\n",
    "  .setInputCols([\"sentence\"]) \\\n",
    "  .setOutputCol(\"token\")\n",
    "\n",
    "stemmer = Stemmer() \\\n",
    "    .setInputCols([\"token\"]) \\\n",
    "    .setOutputCol(\"stem\")\n",
    "    \n",
    "normalizer = Normalizer() \\\n",
    "    .setInputCols([\"stem\"]) \\\n",
    "    .setOutputCol(\"normalized\")\n",
    "\n",
    "finisher = Finisher() \\\n",
    "    .setInputCols([\"normalized\"]) \\\n",
    "    .setOutputCols([\"ntokens\"]) \\\n",
    "    .setOutputAsArray(True) \\\n",
    "    .setCleanAnnotations(True)\n",
    "\n",
    "nlp_pipeline = Pipeline(stages=[document_assembler, sentence_detector, tokenizer, stemmer, normalizer, finisher])\n",
    "nlp_model = nlp_pipeline.fit(df)\n",
    "processed = nlp_model.transform(df).repartition(100).persist()\n",
    "processed.count()\n",
    "processed.show()"
   ]
  },
  {
   "cell_type": "code",
   "execution_count": 8,
   "metadata": {
    "colab": {
     "base_uri": "https://localhost:8080/",
     "height": 51
    },
    "colab_type": "code",
    "executionInfo": {
     "elapsed": 235994,
     "status": "ok",
     "timestamp": 1569340420538,
     "user": {
      "displayName": "Alexander Thomas",
      "photoUrl": "",
      "userId": "11939695612384769217"
     },
     "user_tz": 240
    },
    "id": "FOtccWrF1TQ-",
    "outputId": "25bcc031-c257-4545-fc4c-db402d60b4a8"
   },
   "outputs": [
    {
     "name": "stdout",
     "output_type": "stream",
     "text": [
      "70059\n",
      "29941\n"
     ]
    }
   ],
   "source": [
    "train, test = processed.randomSplit(weights=[0.7, 0.3], seed=123)\n",
    "print(train.count())\n",
    "print(test.count())"
   ]
  },
  {
   "cell_type": "code",
   "execution_count": 9,
   "metadata": {
    "colab": {
     "base_uri": "https://localhost:8080/",
     "height": 476
    },
    "colab_type": "code",
    "executionInfo": {
     "elapsed": 279790,
     "status": "ok",
     "timestamp": 1569340464346,
     "user": {
      "displayName": "Alexander Thomas",
      "photoUrl": "",
      "userId": "11939695612384769217"
     },
     "user_tz": 240
    },
    "id": "MilJXz9h1TRB",
    "outputId": "72ce2ef3-61de-46ac-e8f9-b0a735412bba"
   },
   "outputs": [
    {
     "name": "stdout",
     "output_type": "stream",
     "text": [
      "+-----+--------------------+--------------------+--------------------+--------------------+--------------------+\n",
      "|label|             comment|             ntokens|        clean_tokens|            text_vec|            features|\n",
      "+-----+--------------------+--------------------+--------------------+--------------------+--------------------+\n",
      "|    0|\"\"\"100 level and ...|[level, and, k, e...|[level, k, easfc,...|[0.11122127631420...|[0.11122127631420...|\n",
      "|    0|\"\"\"Philadelphia\n",
      "P...|[philadelphia, po...|[philadelphia, po...|[0.16083074930462...|[0.16083074930462...|\n",
      "|    0|\"\"\"Stop reading! ...|[stop, read, you,...|[stop, read, read...|[0.03858112665225...|[0.03858112665225...|\n",
      "|    0|\"\"\"Waiters\"\" and ...|[waiter, and, hot...|[waiter, hot, han...|[0.00135621239314...|[0.00135621239314...|\n",
      "|    0|\"\"\"powerful enoug...|[power, enough, t...|[power, enough, d...|[0.09858658065928...|[0.09858658065928...|\n",
      "|    0|\"Also mentions \"\"...|[also, mention, w...|[also, mention, w...|[0.05635529252322...|[0.05635529252322...|\n",
      "|    0|\"At least at my h...|[at, least, at, m...|[least, high, sch...|[0.05538409937705...|[0.05538409937705...|\n",
      "|    0|\"BTFO! \"\"Because ...|[btfo, becaus, yo...|[btfo, becaus, yo...|[0.06392491588901...|[0.06392491588901...|\n",
      "|    0|\"Buy the book \"\"f...|[bui, the, book, ...|[bui, book, freed...|[0.08340513746564...|[0.08340513746564...|\n",
      "|    0|\"Can't take him s...|[cant, take, him,...|[cant, take, seri...|[0.00666886109858...|[0.00666886109858...|\n",
      "|    0|\"Dont mean to kil...|[dont, mean, to, ...|[dont, mean, kill...|[0.08511257977312...|[0.08511257977312...|\n",
      "|    0|\"Dr. Jake Stein O...|[dr, jake, stein,...|[dr, jake, stein,...|[-0.0107688246465...|[-0.0107688246465...|\n",
      "|    0|\"Finished IT and ...|[finish, it, and,...|[finish, question...|[0.08366316778526...|[0.08366316778526...|\n",
      "|    0|\"First \"\"Spider-M...|[first, spiderman...|[first, spiderman...|[0.07439824619463...|[0.07439824619463...|\n",
      "|    0|\"Having known a f...|[have, known, a, ...|[known, fair, dea...|[0.09472526580474...|[0.09472526580474...|\n",
      "|    0|\"He's an unbound ...|[he, an, unbound,...|[unbound, id, fre...|[0.02862499709590...|[0.02862499709590...|\n",
      "|    0|\"I'm on my phone ...|[im, on, my, phon...|[im, phone, right...|[0.06127980432397...|[0.06127980432397...|\n",
      "|    0|\"I'm pretty sure ...|[im, pretti, sure...|[im, pretti, sure...|[0.06004325440153...|[0.06004325440153...|\n",
      "|    0|\"Is the whole TNF...|[i, the, whole, t...|[whole, tnf, colo...|[0.12992883896311...|[0.12992883896311...|\n",
      "|    0|\"Just out of curi...|[just, out, of, c...|[curios, wa, tech...|[0.03483106426848...|[0.03483106426848...|\n",
      "+-----+--------------------+--------------------+--------------------+--------------------+--------------------+\n",
      "only showing top 20 rows\n",
      "\n"
     ]
    }
   ],
   "source": [
    "from pyspark.ml import feature as spark_ft\n",
    "\n",
    "stopWords = spark_ft.StopWordsRemover.loadDefaultStopWords('english')\n",
    "sw_remover = spark_ft.StopWordsRemover(inputCol='ntokens', outputCol='clean_tokens', stopWords=stopWords)\n",
    "text2vec = spark_ft.Word2Vec(\n",
    "    vectorSize=50, minCount=5, seed=123, \n",
    "    inputCol='ntokens', outputCol='text_vec', \n",
    "    windowSize=5, maxSentenceLength=30\n",
    ")\n",
    "assembler = spark_ft.VectorAssembler(inputCols=['text_vec'], outputCol='features')\n",
    "feature_pipeline = Pipeline(stages=[sw_remover, text2vec,assembler])\n",
    "feature_model = feature_pipeline.fit(train)\n",
    "\n",
    "train_featurized = feature_model.transform(train).persist()\n",
    "train_featurized.count()\n",
    "train_featurized.show()"
   ]
  },
  {
   "cell_type": "code",
   "execution_count": 0,
   "metadata": {
    "colab": {},
    "colab_type": "code",
    "id": "gXQ8_1ZV1TRD"
   },
   "outputs": [],
   "source": [
    "from pyspark.ml import classification as spark_cls\n",
    "\n",
    "\n",
    "mlpc = spark_cls.MultilayerPerceptronClassifier(\n",
    "    maxIter=100, seed=123, layers=[50, 25, 10,2]\n",
    ")\n",
    "\n",
    "model = mlpc.fit(train_featurized)\n"
   ]
  },
  {
   "cell_type": "code",
   "execution_count": 11,
   "metadata": {
    "colab": {
     "base_uri": "https://localhost:8080/",
     "height": 476
    },
    "colab_type": "code",
    "executionInfo": {
     "elapsed": 377110,
     "status": "ok",
     "timestamp": 1569340561680,
     "user": {
      "displayName": "Alexander Thomas",
      "photoUrl": "",
      "userId": "11939695612384769217"
     },
     "user_tz": 240
    },
    "id": "715wB6j61TRG",
    "outputId": "a86ff035-6208-4dc1-9c3c-36ddbc78d86b",
    "scrolled": false
   },
   "outputs": [
    {
     "name": "stdout",
     "output_type": "stream",
     "text": [
      "+-----+--------------------+--------------------+--------------------+--------------------+--------------------+--------------------+--------------------+----------+\n",
      "|label|             comment|             ntokens|        clean_tokens|            text_vec|            features|       rawPrediction|         probability|prediction|\n",
      "+-----+--------------------+--------------------+--------------------+--------------------+--------------------+--------------------+--------------------+----------+\n",
      "|    0|\"\"\"Add dabbing to...|[add, dab, to, mi...|[add, dab, minecr...|[0.03587606895182...|[0.03587606895182...|[-0.2066550931857...|[0.60525207247264...|       0.0|\n",
      "|    0|\"\"\"Chi-pol-tay\"\" ...|[chipoltai, liter...|[chipoltai, liter...|[0.03065099233859...|[0.03065099233859...|[-0.3883097887152...|[0.53889442950725...|       0.0|\n",
      "|    0|\"\"\"Get in loser\n",
      "~...|[get, in, loser, ...|[get, loser, wack...|[0.04612038183646...|[0.04612038183646...|[-0.2241599126185...|[0.61820549968318...|       0.0|\n",
      "|    0|\"*Danny reaches f...|[danni, reach, fo...|[danni, reach, wa...|[0.05845534630536...|[0.05845534630536...|[-0.1369130920296...|[0.62815977262470...|       0.0|\n",
      "|    0|\"Are you worried ...|[ar, you, worri, ...|[ar, worri, happe...|[0.04282189286313...|[0.04282189286313...|[-0.5906189688815...|[0.44386903115092...|       1.0|\n",
      "|    0|\"Clinton Emails -...|[clinton, email, ...|[clinton, email, ...|[0.06327978410367...|[0.06327978410367...|[-0.4735013189317...|[0.45967569456705...|       1.0|\n",
      "|    0|\"Does anyone use ...|[doe, anyon, us, ...|[doe, anyon, us, ...|[0.09271856715592...|[0.09271856715592...|[0.00686902766330...|[0.71025305337554...|       0.0|\n",
      "|    0|\"Donald Trump Jus...|[donald, trump, j...|[donald, trump, i...|[0.06560886201963...|[0.06560886201963...|[-0.6861230669841...|[0.36908580824165...|       1.0|\n",
      "|    0|\"Hillary gets \"\"c...|[hillari, get, cr...|[hillari, get, cr...|[0.03800477778478...|[0.03800477778478...|[-0.5268570954060...|[0.44544547208617...|       1.0|\n",
      "|    0|\"I've posted this...|[iv, post, thi, b...|[iv, post, thi, b...|[0.09462126780636...|[0.09462126780636...|[-0.0959693324941...|[0.67525337438311...|       0.0|\n",
      "|    0|\"Just like China ...|[just, like, chin...|[like, china, dur...|[0.07755589079885...|[0.07755589079885...|[-0.6631360933980...|[0.39978719157328...|       1.0|\n",
      "|    0|\"On somewhat of a...|[on, somewhat, of...|[somewhat, relat,...|[0.11190701816303...|[0.11190701816303...|[-0.4601307008434...|[0.48946968651955...|       1.0|\n",
      "|    0|\"Reddit, we all h...|[reddit, we, all,...|[reddit, wa, mome...|[0.10356948347072...|[0.10356948347072...|[-0.6571699730921...|[0.40567275413880...|       1.0|\n",
      "|    0|\"Socketed gems ar...|[socket, gem, ar,...|[socket, gem, ar,...|[0.18993355170138...|[0.18993355170138...|[-0.5060274510879...|[0.48802289335922...|       1.0|\n",
      "|    0|\"TIL In 1972, Idi...|[til, in, idi, am...|[til, idi, amin, ...|[0.06236162093089...|[0.06236162093089...|[-0.4144193373108...|[0.52065854826918...|       0.0|\n",
      "|    0|\"That train of th...|[that, train, of,...|[train, thought, ...|[0.10418797079718...|[0.10418797079718...|[-0.3269887511329...|[0.58505007183800...|       0.0|\n",
      "|    0|\"When she texts \"...|[when, she, text,...|[text, ne, talk, ...|[0.02499764400999...|[0.02499764400999...|[-0.7167139801839...|[0.36122850120504...|       1.0|\n",
      "|    0|\"Zarya: \"\"*if i w...|[zarya, if, i, wa...|[zarya, wasnt, wo...|[0.08408812939887...|[0.08408812939887...|[-0.1926967738173...|[0.64088944568755...|       0.0|\n",
      "|    0|\"nah i know, but ...|[nah, i, know, bu...|[nah, know, thi, ...|[0.05559486195191...|[0.05559486195191...|[-0.4020878484574...|[0.50117144129961...|       0.0|\n",
      "|    0|\"there's one cm a...|[there, on, cm, a...|[cm, furnitur, se...|[0.05330324338208...|[0.05330324338208...|[-0.1350114548941...|[0.65122668264582...|       0.0|\n",
      "+-----+--------------------+--------------------+--------------------+--------------------+--------------------+--------------------+--------------------+----------+\n",
      "only showing top 20 rows\n",
      "\n"
     ]
    }
   ],
   "source": [
    "test_featurized = feature_model.transform(test)\n",
    "preds = model.transform(test_featurized)\n",
    "preds.show()"
   ]
  },
  {
   "cell_type": "code",
   "execution_count": 0,
   "metadata": {
    "colab": {},
    "colab_type": "code",
    "id": "l01gCJ0y1TRI"
   },
   "outputs": [],
   "source": [
    "pred_df = preds.select('comment', 'label', 'prediction').toPandas()"
   ]
  },
  {
   "cell_type": "code",
   "execution_count": 13,
   "metadata": {
    "colab": {
     "base_uri": "https://localhost:8080/",
     "height": 204
    },
    "colab_type": "code",
    "executionInfo": {
     "elapsed": 379011,
     "status": "ok",
     "timestamp": 1569340563593,
     "user": {
      "displayName": "Alexander Thomas",
      "photoUrl": "",
      "userId": "11939695612384769217"
     },
     "user_tz": 240
    },
    "id": "X7fmp5tN1TRL",
    "outputId": "13e6de4b-8d39-4abe-bc5f-31b78a35d724"
   },
   "outputs": [
    {
     "data": {
      "text/html": [
       "<div>\n",
       "<style scoped>\n",
       "    .dataframe tbody tr th:only-of-type {\n",
       "        vertical-align: middle;\n",
       "    }\n",
       "\n",
       "    .dataframe tbody tr th {\n",
       "        vertical-align: top;\n",
       "    }\n",
       "\n",
       "    .dataframe thead th {\n",
       "        text-align: right;\n",
       "    }\n",
       "</style>\n",
       "<table border=\"1\" class=\"dataframe\">\n",
       "  <thead>\n",
       "    <tr style=\"text-align: right;\">\n",
       "      <th></th>\n",
       "      <th>comment</th>\n",
       "      <th>label</th>\n",
       "      <th>prediction</th>\n",
       "    </tr>\n",
       "  </thead>\n",
       "  <tbody>\n",
       "    <tr>\n",
       "      <th>0</th>\n",
       "      <td>\"\"\"Add dabbing to Minecraft\"\"\"\\nDAB ON EM</td>\n",
       "      <td>0</td>\n",
       "      <td>0.0</td>\n",
       "    </tr>\n",
       "    <tr>\n",
       "      <th>1</th>\n",
       "      <td>\"\"\"Chi-pol-tay\"\" - literally everyone's mom\"\\n...</td>\n",
       "      <td>0</td>\n",
       "      <td>0.0</td>\n",
       "    </tr>\n",
       "    <tr>\n",
       "      <th>2</th>\n",
       "      <td>\"\"\"Get in loser\\n~~Wacky~~ Moderately-Subdued ...</td>\n",
       "      <td>0</td>\n",
       "      <td>0.0</td>\n",
       "    </tr>\n",
       "    <tr>\n",
       "      <th>3</th>\n",
       "      <td>\"*Danny reaches for walker* \"\"I'm getting too ...</td>\n",
       "      <td>0</td>\n",
       "      <td>0.0</td>\n",
       "    </tr>\n",
       "    <tr>\n",
       "      <th>4</th>\n",
       "      <td>\"Are you worried about what will happen after ...</td>\n",
       "      <td>0</td>\n",
       "      <td>1.0</td>\n",
       "    </tr>\n",
       "  </tbody>\n",
       "</table>\n",
       "</div>"
      ],
      "text/plain": [
       "                                             comment  label  prediction\n",
       "0          \"\"\"Add dabbing to Minecraft\"\"\"\\nDAB ON EM      0         0.0\n",
       "1  \"\"\"Chi-pol-tay\"\" - literally everyone's mom\"\\n...      0         0.0\n",
       "2  \"\"\"Get in loser\\n~~Wacky~~ Moderately-Subdued ...      0         0.0\n",
       "3  \"*Danny reaches for walker* \"\"I'm getting too ...      0         0.0\n",
       "4  \"Are you worried about what will happen after ...      0         1.0"
      ]
     },
     "execution_count": 13,
     "metadata": {
      "tags": []
     },
     "output_type": "execute_result"
    }
   ],
   "source": [
    "pred_df.head()"
   ]
  },
  {
   "cell_type": "code",
   "execution_count": 14,
   "metadata": {
    "colab": {
     "base_uri": "https://localhost:8080/",
     "height": 111
    },
    "colab_type": "code",
    "executionInfo": {
     "elapsed": 379677,
     "status": "ok",
     "timestamp": 1569340564267,
     "user": {
      "displayName": "Alexander Thomas",
      "photoUrl": "",
      "userId": "11939695612384769217"
     },
     "user_tz": 240
    },
    "id": "k1L8wTFz1TRN",
    "outputId": "4fb3d24c-0a48-46d6-b84b-f1e32aa7f188"
   },
   "outputs": [
    {
     "data": {
      "text/html": [
       "<div>\n",
       "<style scoped>\n",
       "    .dataframe tbody tr th:only-of-type {\n",
       "        vertical-align: middle;\n",
       "    }\n",
       "\n",
       "    .dataframe tbody tr th {\n",
       "        vertical-align: top;\n",
       "    }\n",
       "\n",
       "    .dataframe thead th {\n",
       "        text-align: right;\n",
       "    }\n",
       "</style>\n",
       "<table border=\"1\" class=\"dataframe\">\n",
       "  <thead>\n",
       "    <tr style=\"text-align: right;\">\n",
       "      <th></th>\n",
       "      <th>pred 0</th>\n",
       "      <th>pred 1</th>\n",
       "    </tr>\n",
       "  </thead>\n",
       "  <tbody>\n",
       "    <tr>\n",
       "      <th>true 0</th>\n",
       "      <td>11985</td>\n",
       "      <td>5333</td>\n",
       "    </tr>\n",
       "    <tr>\n",
       "      <th>true 1</th>\n",
       "      <td>6322</td>\n",
       "      <td>6301</td>\n",
       "    </tr>\n",
       "  </tbody>\n",
       "</table>\n",
       "</div>"
      ],
      "text/plain": [
       "        pred 0  pred 1\n",
       "true 0   11985    5333\n",
       "true 1    6322    6301"
      ]
     },
     "execution_count": 14,
     "metadata": {
      "tags": []
     },
     "output_type": "execute_result"
    }
   ],
   "source": [
    "import pandas as pd\n",
    "from sklearn import metrics as skmetrics\n",
    "pd.DataFrame(\n",
    "    data=skmetrics.confusion_matrix(pred_df['label'], pred_df['prediction']),\n",
    "    columns=['pred ' + l for l in ['0','1']],\n",
    "    index=['true ' + l for l in ['0','1']]\n",
    ")"
   ]
  },
  {
   "cell_type": "code",
   "execution_count": 15,
   "metadata": {
    "colab": {
     "base_uri": "https://localhost:8080/",
     "height": 170
    },
    "colab_type": "code",
    "executionInfo": {
     "elapsed": 379641,
     "status": "ok",
     "timestamp": 1569340564269,
     "user": {
      "displayName": "Alexander Thomas",
      "photoUrl": "",
      "userId": "11939695612384769217"
     },
     "user_tz": 240
    },
    "id": "bjBdqnIg1TRQ",
    "outputId": "c8ac39f3-b774-416c-f212-2e6aa3e435de"
   },
   "outputs": [
    {
     "name": "stdout",
     "output_type": "stream",
     "text": [
      "              precision    recall  f1-score   support\n",
      "\n",
      "           0       0.65      0.69      0.67     17318\n",
      "           1       0.54      0.50      0.52     12623\n",
      "\n",
      "    accuracy                           0.61     29941\n",
      "   macro avg       0.60      0.60      0.60     29941\n",
      "weighted avg       0.61      0.61      0.61     29941\n",
      "\n"
     ]
    }
   ],
   "source": [
    "print(skmetrics.classification_report(pred_df['label'], pred_df['prediction'], \n",
    "                                      target_names=['0','1']))"
   ]
  },
  {
   "cell_type": "code",
   "execution_count": 0,
   "metadata": {
    "colab": {},
    "colab_type": "code",
    "id": "dlfJvkiJ1TRS"
   },
   "outputs": [],
   "source": [
    "spark.stop()"
   ]
  }
 ],
 "metadata": {
  "colab": {
   "collapsed_sections": [],
   "name": "7- Sarcasm Classifiers (Word2vec and MLP).ipynb",
   "provenance": []
  },
  "kernelspec": {
   "display_name": "Python 3",
   "language": "python",
   "name": "python3"
  },
  "language_info": {
   "codemirror_mode": {
    "name": "ipython",
    "version": 3
   },
   "file_extension": ".py",
   "mimetype": "text/x-python",
   "name": "python",
   "nbconvert_exporter": "python",
   "pygments_lexer": "ipython3",
   "version": "3.6.9"
  }
 },
 "nbformat": 4,
 "nbformat_minor": 1
}

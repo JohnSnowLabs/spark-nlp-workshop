{
 "cells": [
  {
   "cell_type": "code",
   "execution_count": null,
   "metadata": {
    "colab": {
     "base_uri": "https://localhost:8080/",
     "height": 374
    },
    "colab_type": "code",
    "executionInfo": {
     "elapsed": 46107,
     "status": "ok",
     "timestamp": 1569340230597,
     "user": {
      "displayName": "Alexander Thomas",
      "photoUrl": "",
      "userId": "11939695612384769217"
     },
     "user_tz": 240
    },
    "id": "86A_zBrv1XGR",
    "outputId": "b848aa30-584b-4220-a73f-503a48c64963"
   },
   "outputs": [],
   "source": [
    "import os\n",
    "\n",
    "# Install java\n",
    "! apt-get install -y openjdk-8-jdk-headless -qq > /dev/null\n",
    "os.environ[\"JAVA_HOME\"] = \"/usr/lib/jvm/java-8-openjdk-amd64\"\n",
    "os.environ[\"PATH\"] = os.environ[\"JAVA_HOME\"] + \"/bin:\" + os.environ[\"PATH\"]\n",
    "! java -version\n",
    "\n",
    "# Install pyspark\n",
    "! pip install --ignore-installed pyspark==2.4.4\n",
    "\n",
    "# Install Spark NLP\n",
    "! pip install --ignore-installed spark-nlp==2.4.0"
   ]
  },
  {
   "cell_type": "code",
   "execution_count": 1,
   "metadata": {
    "colab": {
     "base_uri": "https://localhost:8080/",
     "height": 204
    },
    "colab_type": "code",
    "executionInfo": {
     "elapsed": 51226,
     "status": "ok",
     "timestamp": 1569340235727,
     "user": {
      "displayName": "Alexander Thomas",
      "photoUrl": "",
      "userId": "11939695612384769217"
     },
     "user_tz": 240
    },
    "id": "-H5iDKTS1TQp",
    "outputId": "ff6a6a0a-0094-4f62-c798-f8c9cc59acfb"
   },
   "outputs": [
    {
     "name": "stdout",
     "output_type": "stream",
     "text": [
      "--2020-02-11 19:22:41--  https://s3.amazonaws.com/auxdata.johnsnowlabs.com/public/resources/en/sarcasm/train-balanced-sarcasm.csv\n",
      "Loaded CA certificate '/etc/ssl/certs/ca-certificates.crt'\n",
      "Resolving s3.amazonaws.com (s3.amazonaws.com)... 52.216.97.173\n",
      "Connecting to s3.amazonaws.com (s3.amazonaws.com)|52.216.97.173|:443... connected.\n",
      "HTTP request sent, awaiting response... 304 Not Modified\n",
      "File ‘/tmp/train-balanced-sarcasm.csv’ not modified on server. Omitting download.\n",
      "\n"
     ]
    }
   ],
   "source": [
    "! wget -N https://s3.amazonaws.com/auxdata.johnsnowlabs.com/public/resources/en/sarcasm/train-balanced-sarcasm.csv -P /tmp"
   ]
  },
  {
   "cell_type": "code",
   "execution_count": 2,
   "metadata": {
    "colab": {},
    "colab_type": "code",
    "id": "foI0X8EH1TQv"
   },
   "outputs": [],
   "source": [
    "from pyspark.sql import SparkSession\n",
    "import sys\n",
    "import time\n",
    "\n",
    "packages = [\n",
    "    'JohnSnowLabs:spark-nlp:2.3.4'\n",
    "]\n",
    "spark = SparkSession \\\n",
    "    .builder \\\n",
    "    .appName(\"ML SQL session\") \\\n",
    "    .config('spark.jars.packages', ','.join(packages)) \\\n",
    "    .config('spark.executor.instances','4') \\\n",
    "    .config(\"spark.executor.memory\", \"16g\") \\\n",
    "    .config(\"spark.driver.memory\",\"16g\") \\\n",
    "    .getOrCreate()"
   ]
  },
  {
   "cell_type": "code",
   "execution_count": 3,
   "metadata": {
    "colab": {
     "base_uri": "https://localhost:8080/",
     "height": 85
    },
    "colab_type": "code",
    "executionInfo": {
     "elapsed": 70899,
     "status": "ok",
     "timestamp": 1569340255411,
     "user": {
      "displayName": "Alexander Thomas",
      "photoUrl": "",
      "userId": "11939695612384769217"
     },
     "user_tz": 240
    },
    "id": "juMPPDBC1TQz",
    "outputId": "2f754d6d-6eda-4903-dc19-07639f4f3051"
   },
   "outputs": [
    {
     "name": "stdout",
     "output_type": "stream",
     "text": [
      "Spark NLP version:  2.3.4\n",
      "Apache Spark version:  2.4.4\n"
     ]
    }
   ],
   "source": [
    "import sparknlp\n",
    "\n",
    "print(\"Spark NLP version: \", sparknlp.version())\n",
    "print(\"Apache Spark version: \", spark.version)"
   ]
  },
  {
   "cell_type": "code",
   "execution_count": 4,
   "metadata": {
    "colab": {
     "base_uri": "https://localhost:8080/",
     "height": 238
    },
    "colab_type": "code",
    "executionInfo": {
     "elapsed": 87898,
     "status": "ok",
     "timestamp": 1569340272416,
     "user": {
      "displayName": "Alexander Thomas",
      "photoUrl": "",
      "userId": "11939695612384769217"
     },
     "user_tz": 240
    },
    "id": "ULTXS04n1TQ2",
    "outputId": "ccf69e6a-1d79-4cd2-b3be-58ac0e93d2f8",
    "scrolled": true
   },
   "outputs": [
    {
     "name": "stdout",
     "output_type": "stream",
     "text": [
      "root\n",
      " |-- label: integer (nullable = true)\n",
      " |-- comment: string (nullable = true)\n",
      " |-- author: string (nullable = true)\n",
      " |-- subreddit: string (nullable = true)\n",
      " |-- score: string (nullable = true)\n",
      " |-- ups: string (nullable = true)\n",
      " |-- downs: string (nullable = true)\n",
      " |-- date: string (nullable = true)\n",
      " |-- created_utc: string (nullable = true)\n",
      " |-- parent_comment: string (nullable = true)\n",
      "\n"
     ]
    },
    {
     "data": {
      "text/plain": [
       "[Row(count(1)=1010826)]"
      ]
     },
     "execution_count": 4,
     "metadata": {},
     "output_type": "execute_result"
    }
   ],
   "source": [
    "from pyspark.sql import SQLContext\n",
    "\n",
    "sql = SQLContext(spark)\n",
    "\n",
    "trainBalancedSarcasmDF = spark.read.option(\"header\", True).option(\"inferSchema\", True).csv(\"/tmp/train-balanced-sarcasm.csv\")\n",
    "trainBalancedSarcasmDF.printSchema()\n",
    "\n",
    "# Let's create a temp view (table) for our SQL queries\n",
    "trainBalancedSarcasmDF.createOrReplaceTempView('data')\n",
    "\n",
    "sql.sql('SELECT COUNT(*) FROM data').collect()"
   ]
  },
  {
   "cell_type": "code",
   "execution_count": 5,
   "metadata": {
    "colab": {
     "base_uri": "https://localhost:8080/",
     "height": 561
    },
    "colab_type": "code",
    "executionInfo": {
     "elapsed": 92618,
     "status": "ok",
     "timestamp": 1569340277143,
     "user": {
      "displayName": "Alexander Thomas",
      "photoUrl": "",
      "userId": "11939695612384769217"
     },
     "user_tz": 240
    },
    "id": "I3LXCBsh1TQ5",
    "outputId": "14deb679-4080-4fc3-a6e9-9d53d1106dfd"
   },
   "outputs": [
    {
     "name": "stdout",
     "output_type": "stream",
     "text": [
      "<class 'pyspark.sql.dataframe.DataFrame'>\n",
      "root\n",
      " |-- label: integer (nullable = true)\n",
      " |-- comment: string (nullable = true)\n",
      "\n",
      "+-----+--------------------+\n",
      "|label|             comment|\n",
      "+-----+--------------------+\n",
      "|    0|Yeah, I get that ...|\n",
      "|    0|The blazers and M...|\n",
      "|    0|They're favored t...|\n",
      "|    0|deadass don't kil...|\n",
      "|    0|Yep can confirm I...|\n",
      "|    0|do you find arian...|\n",
      "|    0|What's your weird...|\n",
      "|    0|Probably Sephirot...|\n",
      "|    0|What to upgrade? ...|\n",
      "|    0|Probably count Ka...|\n",
      "|    0|I bet if that mon...|\n",
      "|    0|James Shields Wil...|\n",
      "|    0|There's no time t...|\n",
      "|    0|Team Specific Thr...|\n",
      "|    0|Ill give you a hi...|\n",
      "|    0|Star Wars, easy. ...|\n",
      "|    0|You're adorable.\n",
      "...|\n",
      "|    0|He actually acts ...|\n",
      "|    0|Clinton struggles...|\n",
      "|    0|Is that the Older...|\n",
      "+-----+--------------------+\n",
      "only showing top 20 rows\n",
      "\n"
     ]
    }
   ],
   "source": [
    "df = sql.sql('select label,concat(parent_comment,\"\\n\",comment) as comment from data where comment is not null and parent_comment is not null limit 100000')\n",
    "print(type(df))\n",
    "df.printSchema()\n",
    "df.show()"
   ]
  },
  {
   "cell_type": "code",
   "execution_count": 6,
   "metadata": {
    "colab": {
     "base_uri": "https://localhost:8080/",
     "height": 493
    },
    "colab_type": "code",
    "executionInfo": {
     "elapsed": 233052,
     "status": "ok",
     "timestamp": 1569340417584,
     "user": {
      "displayName": "Alexander Thomas",
      "photoUrl": "",
      "userId": "11939695612384769217"
     },
     "user_tz": 240
    },
    "id": "K_qXiFV81TQ8",
    "outputId": "9d2ce426-e1d7-4642-b73f-4e6b3ec77e4f"
   },
   "outputs": [
    {
     "name": "stdout",
     "output_type": "stream",
     "text": [
      "+-----+--------------------+--------------------+\n",
      "|label|             comment|             ntokens|\n",
      "+-----+--------------------+--------------------+\n",
      "|    0|what do you guys ...|[what, do, you, g...|\n",
      "|    1|Cool. I got a D.\n",
      "...|[cool, i, got, a,...|\n",
      "|    0|PSG recently pick...|[psg, recent, pic...|\n",
      "|    0|I feel like this ...|[i, feel, like, t...|\n",
      "|    1|I also own that s...|[i, also, own, th...|\n",
      "|    1|There is NO WAY T...|[there, i, no, wa...|\n",
      "|    0|What's with the d...|[what, with, the,...|\n",
      "|    0|470 is struggling...|[i, struggl, i, g...|\n",
      "|    0|General Discussio...|[gener, discuss, ...|\n",
      "|    0|Assertion? Why?\n",
      "D...|[assert, why, debug]|\n",
      "|    0|1 Suspect Dead, 9...|[suspect, dead, i...|\n",
      "|    1|You missed out th...|[you, miss, out, ...|\n",
      "|    0|okay good game bu...|[okai, good, game...|\n",
      "|    0|\"On somewhat of a...|[on, somewhat, of...|\n",
      "|    1|the organization ...|[the, organ, that...|\n",
      "|    1|You're preaching ...|[your, preach, to...|\n",
      "|    0|She put herself i...|[she, put, hersel...|\n",
      "|    0|Wouldn't it make ...|[wouldnt, it, mak...|\n",
      "|    1|Protecting Christ...|[protect, christm...|\n",
      "|    0|You mean Miranda ...|[you, mean, miran...|\n",
      "+-----+--------------------+--------------------+\n",
      "only showing top 20 rows\n",
      "\n"
     ]
    }
   ],
   "source": [
    "from sparknlp.annotator import *\n",
    "from sparknlp.common import *\n",
    "from sparknlp.base import *\n",
    "\n",
    "from pyspark.ml import Pipeline\n",
    "\n",
    "\n",
    "document_assembler = DocumentAssembler() \\\n",
    "    .setInputCol(\"comment\") \\\n",
    "    .setOutputCol(\"document\")\n",
    "    \n",
    "sentence_detector = SentenceDetector() \\\n",
    "    .setInputCols([\"document\"]) \\\n",
    "    .setOutputCol(\"sentence\") \\\n",
    "    .setUseAbbreviations(True)\n",
    "    \n",
    "tokenizer = Tokenizer() \\\n",
    "  .setInputCols([\"sentence\"]) \\\n",
    "  .setOutputCol(\"token\")\n",
    "\n",
    "stemmer = Stemmer() \\\n",
    "    .setInputCols([\"token\"]) \\\n",
    "    .setOutputCol(\"stem\")\n",
    "    \n",
    "normalizer = Normalizer() \\\n",
    "    .setInputCols([\"stem\"]) \\\n",
    "    .setOutputCol(\"normalized\")\n",
    "\n",
    "finisher = Finisher() \\\n",
    "    .setInputCols([\"normalized\"]) \\\n",
    "    .setOutputCols([\"ntokens\"]) \\\n",
    "    .setOutputAsArray(True) \\\n",
    "    .setCleanAnnotations(True)\n",
    "\n",
    "nlp_pipeline = Pipeline(stages=[document_assembler, sentence_detector, tokenizer, stemmer, normalizer, finisher])\n",
    "nlp_model = nlp_pipeline.fit(df)\n",
    "processed = nlp_model.transform(df).repartition(100).persist()\n",
    "processed.count()\n",
    "processed.show()"
   ]
  },
  {
   "cell_type": "code",
   "execution_count": 7,
   "metadata": {
    "colab": {
     "base_uri": "https://localhost:8080/",
     "height": 51
    },
    "colab_type": "code",
    "executionInfo": {
     "elapsed": 235994,
     "status": "ok",
     "timestamp": 1569340420538,
     "user": {
      "displayName": "Alexander Thomas",
      "photoUrl": "",
      "userId": "11939695612384769217"
     },
     "user_tz": 240
    },
    "id": "FOtccWrF1TQ-",
    "outputId": "25bcc031-c257-4545-fc4c-db402d60b4a8"
   },
   "outputs": [
    {
     "name": "stdout",
     "output_type": "stream",
     "text": [
      "70059\n",
      "29941\n"
     ]
    }
   ],
   "source": [
    "train, test = processed.randomSplit(weights=[0.7, 0.3], seed=123)\n",
    "print(train.count())\n",
    "print(test.count())"
   ]
  },
  {
   "cell_type": "code",
   "execution_count": 8,
   "metadata": {
    "colab": {
     "base_uri": "https://localhost:8080/",
     "height": 476
    },
    "colab_type": "code",
    "executionInfo": {
     "elapsed": 279790,
     "status": "ok",
     "timestamp": 1569340464346,
     "user": {
      "displayName": "Alexander Thomas",
      "photoUrl": "",
      "userId": "11939695612384769217"
     },
     "user_tz": 240
    },
    "id": "MilJXz9h1TRB",
    "outputId": "72ce2ef3-61de-46ac-e8f9-b0a735412bba"
   },
   "outputs": [
    {
     "name": "stdout",
     "output_type": "stream",
     "text": [
      "+-----+--------------------+--------------------+--------------------+--------------------+--------------------+\n",
      "|label|             comment|             ntokens|        clean_tokens|            text_vec|            features|\n",
      "+-----+--------------------+--------------------+--------------------+--------------------+--------------------+\n",
      "|    0|\"\"\"100 level and ...|[level, and, k, e...|[level, k, easfc,...|[0.00901442845093...|[0.00901442845093...|\n",
      "|    0|\"\"\"Philadelphia\n",
      "P...|[philadelphia, po...|[philadelphia, po...|[-0.0275632207684...|[-0.0275632207684...|\n",
      "|    0|\"\"\"Stop reading! ...|[stop, read, you,...|[stop, read, read...|[-0.0815967304099...|[-0.0815967304099...|\n",
      "|    0|\"\"\"Waiters\"\" and ...|[waiter, and, hot...|[waiter, hot, han...|[0.00434228136509...|[0.00434228136509...|\n",
      "|    0|\"\"\"powerful enoug...|[power, enough, t...|[power, enough, d...|[0.06532562058418...|[0.06532562058418...|\n",
      "|    0|\"Also mentions \"\"...|[also, mention, w...|[also, mention, w...|[0.07693217100145...|[0.07693217100145...|\n",
      "|    0|\"At least at my h...|[at, least, at, m...|[least, high, sch...|[-0.0248800456058...|[-0.0248800456058...|\n",
      "|    0|\"BTFO! \"\"Because ...|[btfo, becaus, yo...|[btfo, becaus, yo...|[-0.0436582105966...|[-0.0436582105966...|\n",
      "|    0|\"Buy the book \"\"f...|[bui, the, book, ...|[bui, book, freed...|[-0.0094002819309...|[-0.0094002819309...|\n",
      "|    0|\"Can't take him s...|[cant, take, him,...|[cant, take, seri...|[-0.0346620150282...|[-0.0346620150282...|\n",
      "|    0|\"Dont mean to kil...|[dont, mean, to, ...|[dont, mean, kill...|[-0.0624158964228...|[-0.0624158964228...|\n",
      "|    0|\"Dr. Jake Stein O...|[dr, jake, stein,...|[dr, jake, stein,...|[-0.0235296386598...|[-0.0235296386598...|\n",
      "|    0|\"Finished IT and ...|[finish, it, and,...|[finish, question...|[-0.0241298009303...|[-0.0241298009303...|\n",
      "|    0|\"First \"\"Spider-M...|[first, spiderman...|[first, spiderman...|[-0.0491315822582...|[-0.0491315822582...|\n",
      "|    0|\"Having known a f...|[have, known, a, ...|[known, fair, dea...|[-0.0124103858828...|[-0.0124103858828...|\n",
      "|    0|\"He's an unbound ...|[he, an, unbound,...|[unbound, id, fre...|[-0.0642956466924...|[-0.0642956466924...|\n",
      "|    0|\"I'm on my phone ...|[im, on, my, phon...|[im, phone, right...|[-0.0806216249150...|[-0.0806216249150...|\n",
      "|    0|\"I'm pretty sure ...|[im, pretti, sure...|[im, pretti, sure...|[-0.1128369020298...|[-0.1128369020298...|\n",
      "|    0|\"Is the whole TNF...|[i, the, whole, t...|[whole, tnf, colo...|[0.01784724863962...|[0.01784724863962...|\n",
      "|    0|\"Just out of curi...|[just, out, of, c...|[curios, wa, tech...|[-0.0447696402180...|[-0.0447696402180...|\n",
      "+-----+--------------------+--------------------+--------------------+--------------------+--------------------+\n",
      "only showing top 20 rows\n",
      "\n"
     ]
    }
   ],
   "source": [
    "from pyspark.ml import feature as spark_ft\n",
    "\n",
    "stopWords = spark_ft.StopWordsRemover.loadDefaultStopWords('english')\n",
    "sw_remover = spark_ft.StopWordsRemover(inputCol='ntokens', outputCol='clean_tokens', stopWords=stopWords)\n",
    "text2vec = spark_ft.Word2Vec(\n",
    "    vectorSize=50, minCount=5, seed=123, \n",
    "    inputCol='ntokens', outputCol='text_vec', \n",
    "    windowSize=5, maxSentenceLength=30\n",
    ")\n",
    "assembler = spark_ft.VectorAssembler(inputCols=['text_vec'], outputCol='features')\n",
    "feature_pipeline = Pipeline(stages=[sw_remover, text2vec,assembler])\n",
    "feature_model = feature_pipeline.fit(train)\n",
    "\n",
    "train_featurized = feature_model.transform(train).persist()\n",
    "train_featurized.count()\n",
    "train_featurized.show()"
   ]
  },
  {
   "cell_type": "code",
   "execution_count": 9,
   "metadata": {
    "colab": {},
    "colab_type": "code",
    "id": "gXQ8_1ZV1TRD"
   },
   "outputs": [],
   "source": [
    "from pyspark.ml import classification as spark_cls\n",
    "\n",
    "\n",
    "mlpc = spark_cls.MultilayerPerceptronClassifier(\n",
    "    maxIter=100, seed=123, layers=[50, 25, 10,2]\n",
    ")\n",
    "\n",
    "model = mlpc.fit(train_featurized)\n"
   ]
  },
  {
   "cell_type": "code",
   "execution_count": 10,
   "metadata": {
    "colab": {
     "base_uri": "https://localhost:8080/",
     "height": 476
    },
    "colab_type": "code",
    "executionInfo": {
     "elapsed": 377110,
     "status": "ok",
     "timestamp": 1569340561680,
     "user": {
      "displayName": "Alexander Thomas",
      "photoUrl": "",
      "userId": "11939695612384769217"
     },
     "user_tz": 240
    },
    "id": "715wB6j61TRG",
    "outputId": "a86ff035-6208-4dc1-9c3c-36ddbc78d86b"
   },
   "outputs": [
    {
     "name": "stdout",
     "output_type": "stream",
     "text": [
      "+-----+--------------------+--------------------+--------------------+--------------------+--------------------+--------------------+--------------------+----------+\n",
      "|label|             comment|             ntokens|        clean_tokens|            text_vec|            features|       rawPrediction|         probability|prediction|\n",
      "+-----+--------------------+--------------------+--------------------+--------------------+--------------------+--------------------+--------------------+----------+\n",
      "|    0|\"\"\"Add dabbing to...|[add, dab, to, mi...|[add, dab, minecr...|[0.01962281603898...|[0.01962281603898...|[0.27250760867674...|[0.67279076404908...|       0.0|\n",
      "|    0|\"\"\"Chi-pol-tay\"\" ...|[chipoltai, liter...|[chipoltai, liter...|[0.00619682618171...|[0.00619682618171...|[-0.1024469072464...|[0.54353248079718...|       0.0|\n",
      "|    0|\"\"\"Get in loser\n",
      "~...|[get, in, loser, ...|[get, loser, wack...|[0.01435403401652...|[0.01435403401652...|[0.08147982811224...|[0.61920518926993...|       0.0|\n",
      "|    0|\"*Danny reaches f...|[danni, reach, fo...|[danni, reach, wa...|[-0.0511765028104...|[-0.0511765028104...|[0.18728400962065...|[0.62070915800734...|       0.0|\n",
      "|    0|\"Are you worried ...|[ar, you, worri, ...|[ar, worri, happe...|[-0.0755949832118...|[-0.0755949832118...|[-0.5648784836439...|[0.35910034249551...|       1.0|\n",
      "|    0|\"Clinton Emails -...|[clinton, email, ...|[clinton, email, ...|[-0.0666054213153...|[-0.0666054213153...|[-0.1262227570246...|[0.49682817945535...|       1.0|\n",
      "|    0|\"Does anyone use ...|[doe, anyon, us, ...|[doe, anyon, us, ...|[0.02358347751821...|[0.02358347751821...|[0.21377653104877...|[0.63237154005940...|       0.0|\n",
      "|    0|\"Donald Trump Jus...|[donald, trump, j...|[donald, trump, i...|[-0.0053761479979...|[-0.0053761479979...|[-0.5216569085716...|[0.36191835208669...|       1.0|\n",
      "|    0|\"Hillary gets \"\"c...|[hillari, get, cr...|[hillari, get, cr...|[-0.0401866975871...|[-0.0401866975871...|[-0.1940096712266...|[0.47376874194269...|       1.0|\n",
      "|    0|\"I've posted this...|[iv, post, thi, b...|[iv, post, thi, b...|[-0.0063730250913...|[-0.0063730250913...|[0.18016670631242...|[0.64084744675402...|       0.0|\n",
      "|    0|\"Just like China ...|[just, like, chin...|[like, china, dur...|[-0.0823241071144...|[-0.0823241071144...|[-0.4468382535841...|[0.40153401402555...|       1.0|\n",
      "|    0|\"On somewhat of a...|[on, somewhat, of...|[somewhat, relat,...|[-0.0024391685365...|[-0.0024391685365...|[-0.1764198279243...|[0.49105875348678...|       1.0|\n",
      "|    0|\"Reddit, we all h...|[reddit, we, all,...|[reddit, wa, mome...|[-0.1229325953215...|[-0.1229325953215...|[-0.4084117862177...|[0.41016016797757...|       1.0|\n",
      "|    0|\"Socketed gems ar...|[socket, gem, ar,...|[socket, gem, ar,...|[-0.0416777605629...|[-0.0416777605629...|[-0.2346474602875...|[0.49920402303518...|       1.0|\n",
      "|    0|\"TIL In 1972, Idi...|[til, in, idi, am...|[til, idi, amin, ...|[-0.0322349225723...|[-0.0322349225723...|[-0.1300398500123...|[0.53537676482007...|       0.0|\n",
      "|    0|\"That train of th...|[that, train, of,...|[train, thought, ...|[-0.0973579561533...|[-0.0973579561533...|[-0.2709521217588...|[0.47585956482226...|       1.0|\n",
      "|    0|\"When she texts \"...|[when, she, text,...|[text, ne, talk, ...|[-0.1499161506653...|[-0.1499161506653...|[0.00939400415752...|[0.57556890781470...|       0.0|\n",
      "|    0|\"Zarya: \"\"*if i w...|[zarya, if, i, wa...|[zarya, wasnt, wo...|[-0.0239049982192...|[-0.0239049982192...|[0.10519388846798...|[0.60523996479008...|       0.0|\n",
      "|    0|\"nah i know, but ...|[nah, i, know, bu...|[nah, know, thi, ...|[-0.0164352598737...|[-0.0164352598737...|[-0.0570098272998...|[0.53225077228915...|       0.0|\n",
      "|    0|\"there's one cm a...|[there, on, cm, a...|[cm, furnitur, se...|[0.01904557627295...|[0.01904557627295...|[0.02212731269218...|[0.56503103556538...|       0.0|\n",
      "+-----+--------------------+--------------------+--------------------+--------------------+--------------------+--------------------+--------------------+----------+\n",
      "only showing top 20 rows\n",
      "\n"
     ]
    }
   ],
   "source": [
    "test_featurized = feature_model.transform(test)\n",
    "preds = model.transform(test_featurized)\n",
    "preds.show()"
   ]
  },
  {
   "cell_type": "code",
   "execution_count": 11,
   "metadata": {
    "colab": {},
    "colab_type": "code",
    "id": "l01gCJ0y1TRI"
   },
   "outputs": [],
   "source": [
    "pred_df = preds.select('comment', 'label', 'prediction').toPandas()"
   ]
  },
  {
   "cell_type": "code",
   "execution_count": 12,
   "metadata": {
    "colab": {
     "base_uri": "https://localhost:8080/",
     "height": 204
    },
    "colab_type": "code",
    "executionInfo": {
     "elapsed": 379011,
     "status": "ok",
     "timestamp": 1569340563593,
     "user": {
      "displayName": "Alexander Thomas",
      "photoUrl": "",
      "userId": "11939695612384769217"
     },
     "user_tz": 240
    },
    "id": "X7fmp5tN1TRL",
    "outputId": "13e6de4b-8d39-4abe-bc5f-31b78a35d724"
   },
   "outputs": [
    {
     "data": {
      "text/html": [
       "<div>\n",
       "<style scoped>\n",
       "    .dataframe tbody tr th:only-of-type {\n",
       "        vertical-align: middle;\n",
       "    }\n",
       "\n",
       "    .dataframe tbody tr th {\n",
       "        vertical-align: top;\n",
       "    }\n",
       "\n",
       "    .dataframe thead th {\n",
       "        text-align: right;\n",
       "    }\n",
       "</style>\n",
       "<table border=\"1\" class=\"dataframe\">\n",
       "  <thead>\n",
       "    <tr style=\"text-align: right;\">\n",
       "      <th></th>\n",
       "      <th>comment</th>\n",
       "      <th>label</th>\n",
       "      <th>prediction</th>\n",
       "    </tr>\n",
       "  </thead>\n",
       "  <tbody>\n",
       "    <tr>\n",
       "      <th>0</th>\n",
       "      <td>\"\"\"Add dabbing to Minecraft\"\"\"\\nDAB ON EM</td>\n",
       "      <td>0</td>\n",
       "      <td>0.0</td>\n",
       "    </tr>\n",
       "    <tr>\n",
       "      <th>1</th>\n",
       "      <td>\"\"\"Chi-pol-tay\"\" - literally everyone's mom\"\\n...</td>\n",
       "      <td>0</td>\n",
       "      <td>0.0</td>\n",
       "    </tr>\n",
       "    <tr>\n",
       "      <th>2</th>\n",
       "      <td>\"\"\"Get in loser\\n~~Wacky~~ Moderately-Subdued ...</td>\n",
       "      <td>0</td>\n",
       "      <td>0.0</td>\n",
       "    </tr>\n",
       "    <tr>\n",
       "      <th>3</th>\n",
       "      <td>\"*Danny reaches for walker* \"\"I'm getting too ...</td>\n",
       "      <td>0</td>\n",
       "      <td>0.0</td>\n",
       "    </tr>\n",
       "    <tr>\n",
       "      <th>4</th>\n",
       "      <td>\"Are you worried about what will happen after ...</td>\n",
       "      <td>0</td>\n",
       "      <td>1.0</td>\n",
       "    </tr>\n",
       "  </tbody>\n",
       "</table>\n",
       "</div>"
      ],
      "text/plain": [
       "                                             comment  label  prediction\n",
       "0          \"\"\"Add dabbing to Minecraft\"\"\"\\nDAB ON EM      0         0.0\n",
       "1  \"\"\"Chi-pol-tay\"\" - literally everyone's mom\"\\n...      0         0.0\n",
       "2  \"\"\"Get in loser\\n~~Wacky~~ Moderately-Subdued ...      0         0.0\n",
       "3  \"*Danny reaches for walker* \"\"I'm getting too ...      0         0.0\n",
       "4  \"Are you worried about what will happen after ...      0         1.0"
      ]
     },
     "execution_count": 12,
     "metadata": {},
     "output_type": "execute_result"
    }
   ],
   "source": [
    "pred_df.head()"
   ]
  },
  {
   "cell_type": "code",
   "execution_count": 13,
   "metadata": {
    "colab": {
     "base_uri": "https://localhost:8080/",
     "height": 111
    },
    "colab_type": "code",
    "executionInfo": {
     "elapsed": 379677,
     "status": "ok",
     "timestamp": 1569340564267,
     "user": {
      "displayName": "Alexander Thomas",
      "photoUrl": "",
      "userId": "11939695612384769217"
     },
     "user_tz": 240
    },
    "id": "k1L8wTFz1TRN",
    "outputId": "4fb3d24c-0a48-46d6-b84b-f1e32aa7f188"
   },
   "outputs": [
    {
     "data": {
      "text/html": [
       "<div>\n",
       "<style scoped>\n",
       "    .dataframe tbody tr th:only-of-type {\n",
       "        vertical-align: middle;\n",
       "    }\n",
       "\n",
       "    .dataframe tbody tr th {\n",
       "        vertical-align: top;\n",
       "    }\n",
       "\n",
       "    .dataframe thead th {\n",
       "        text-align: right;\n",
       "    }\n",
       "</style>\n",
       "<table border=\"1\" class=\"dataframe\">\n",
       "  <thead>\n",
       "    <tr style=\"text-align: right;\">\n",
       "      <th></th>\n",
       "      <th>pred 0</th>\n",
       "      <th>pred 1</th>\n",
       "    </tr>\n",
       "  </thead>\n",
       "  <tbody>\n",
       "    <tr>\n",
       "      <th>true 0</th>\n",
       "      <td>12110</td>\n",
       "      <td>5207</td>\n",
       "    </tr>\n",
       "    <tr>\n",
       "      <th>true 1</th>\n",
       "      <td>6514</td>\n",
       "      <td>6110</td>\n",
       "    </tr>\n",
       "  </tbody>\n",
       "</table>\n",
       "</div>"
      ],
      "text/plain": [
       "        pred 0  pred 1\n",
       "true 0   12110    5207\n",
       "true 1    6514    6110"
      ]
     },
     "execution_count": 13,
     "metadata": {},
     "output_type": "execute_result"
    }
   ],
   "source": [
    "import pandas as pd\n",
    "from sklearn import metrics as skmetrics\n",
    "pd.DataFrame(\n",
    "    data=skmetrics.confusion_matrix(pred_df['label'], pred_df['prediction']),\n",
    "    columns=['pred ' + l for l in ['0','1']],\n",
    "    index=['true ' + l for l in ['0','1']]\n",
    ")"
   ]
  },
  {
   "cell_type": "code",
   "execution_count": 14,
   "metadata": {
    "colab": {
     "base_uri": "https://localhost:8080/",
     "height": 170
    },
    "colab_type": "code",
    "executionInfo": {
     "elapsed": 379641,
     "status": "ok",
     "timestamp": 1569340564269,
     "user": {
      "displayName": "Alexander Thomas",
      "photoUrl": "",
      "userId": "11939695612384769217"
     },
     "user_tz": 240
    },
    "id": "bjBdqnIg1TRQ",
    "outputId": "c8ac39f3-b774-416c-f212-2e6aa3e435de"
   },
   "outputs": [
    {
     "name": "stdout",
     "output_type": "stream",
     "text": [
      "              precision    recall  f1-score   support\n",
      "\n",
      "           0       0.65      0.70      0.67     17317\n",
      "           1       0.54      0.48      0.51     12624\n",
      "\n",
      "    accuracy                           0.61     29941\n",
      "   macro avg       0.60      0.59      0.59     29941\n",
      "weighted avg       0.60      0.61      0.60     29941\n",
      "\n"
     ]
    }
   ],
   "source": [
    "print(skmetrics.classification_report(pred_df['label'], pred_df['prediction'], \n",
    "                                      target_names=['0','1']))"
   ]
  },
  {
   "cell_type": "code",
   "execution_count": 15,
   "metadata": {
    "colab": {},
    "colab_type": "code",
    "id": "dlfJvkiJ1TRS"
   },
   "outputs": [],
   "source": [
    "spark.stop()"
   ]
  },
  {
   "cell_type": "code",
   "execution_count": null,
   "metadata": {},
   "outputs": [],
   "source": []
  }
 ],
 "metadata": {
  "colab": {
   "collapsed_sections": [],
   "name": "7- Sarcasm Classifiers (Word2vec and MLP).ipynb",
   "provenance": []
  },
  "kernelspec": {
   "display_name": "spark_nlp_2.4.4",
   "language": "python",
   "name": "spark_nlp_2.4.4"
  },
  "language_info": {
   "codemirror_mode": {
    "name": "ipython",
    "version": 3
   },
   "file_extension": ".py",
   "mimetype": "text/x-python",
   "name": "python",
   "nbconvert_exporter": "python",
   "pygments_lexer": "ipython3",
   "version": "3.7.6"
  }
 },
 "nbformat": 4,
 "nbformat_minor": 4
}

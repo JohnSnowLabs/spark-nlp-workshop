{
 "cells": [
  {
   "cell_type": "code",
   "execution_count": 1,
   "metadata": {},
   "outputs": [
    {
     "name": "stdout",
     "output_type": "stream",
     "text": [
      "--2020-02-10 14:42:31--  https://s3.amazonaws.com/auxdata.johnsnowlabs.com/public/resources/en/sarcasm/train-balanced-sarcasm.csv\n",
      "Loaded CA certificate '/etc/ssl/certs/ca-certificates.crt'\n",
      "Resolving s3.amazonaws.com (s3.amazonaws.com)... 52.217.15.126\n",
      "Connecting to s3.amazonaws.com (s3.amazonaws.com)|52.217.15.126|:443... connected.\n",
      "HTTP request sent, awaiting response... 304 Not Modified\n",
      "File ‘/tmp/train-balanced-sarcasm.csv’ not modified on server. Omitting download.\n",
      "\n"
     ]
    }
   ],
   "source": [
    "! wget -N https://s3.amazonaws.com/auxdata.johnsnowlabs.com/public/resources/en/sarcasm/train-balanced-sarcasm.csv -P /tmp"
   ]
  },
  {
   "cell_type": "markdown",
   "metadata": {},
   "source": [
    "# Additional dependencies\n",
    "You will need to have tensorflow keras pydot and graphviz in your OS  installed and added to the path  \n",
    "```bash\n",
    "python -m pip install  pydot\n",
    "```\n",
    "\n",
    "```bash\n",
    "yay graphviz \n",
    "\n",
    "```bash\n",
    "sudo apt install python-pydot python-pydot-ng graphviz\n",
    "```"
   ]
  },
  {
   "cell_type": "code",
   "execution_count": 1,
   "metadata": {},
   "outputs": [],
   "source": [
    "import os\n",
    "import sys\n",
    "import time\n",
    "import warnings\n",
    "\n",
    "warnings.filterwarnings(\"ignore\")\n",
    "os.environ['TF_CPP_MIN_LOG_LEVEL'] = '2' \n",
    "\n",
    "import numpy as np\n",
    "import pandas as pd\n",
    "\n",
    "import sparknlp\n",
    "\n",
    "from pyspark.sql import SparkSession\n",
    "\n",
    "spark = SparkSession.builder \\\n",
    "    .appName(\"Spark NLP\") \\\n",
    "    .master(\"local[8]\") \\\n",
    "    .config(\"spark.driver.memory\",\"6G\") \\\n",
    "    .config(\"spark.driver.maxResultSize\", \"1G\") \\\n",
    "    .config(\"spark.serializer\", \"org.apache.spark.serializer.KryoSerializer\") \\\n",
    "    .config(\"spark.kryoserializer.buffer.max\", \"800M\")\\\n",
    "    .config(\"spark.jars.packages\", 'com.johnsnowlabs.nlp:spark-nlp_2.11:2.6.0') \\\n",
    "    .getOrCreate()"
   ]
  },
  {
   "cell_type": "code",
   "execution_count": 2,
   "metadata": {},
   "outputs": [
    {
     "name": "stdout",
     "output_type": "stream",
     "text": [
      "Spark NLP version:  2.6.0\n",
      "Apache Spark version:  2.4.4\n"
     ]
    }
   ],
   "source": [
    "import sparknlp\n",
    "\n",
    "print(\"Spark NLP version: \", sparknlp.version())\n",
    "print(\"Apache Spark version: \", spark.version)"
   ]
  },
  {
   "cell_type": "code",
   "execution_count": 3,
   "metadata": {
    "scrolled": true
   },
   "outputs": [
    {
     "name": "stdout",
     "output_type": "stream",
     "text": [
      "root\n",
      " |-- label: integer (nullable = true)\n",
      " |-- comment: string (nullable = true)\n",
      " |-- author: string (nullable = true)\n",
      " |-- subreddit: string (nullable = true)\n",
      " |-- score: string (nullable = true)\n",
      " |-- ups: string (nullable = true)\n",
      " |-- downs: string (nullable = true)\n",
      " |-- date: string (nullable = true)\n",
      " |-- created_utc: string (nullable = true)\n",
      " |-- parent_comment: string (nullable = true)\n",
      "\n"
     ]
    },
    {
     "data": {
      "text/plain": [
       "[Row(count(1)=1010826)]"
      ]
     },
     "execution_count": 3,
     "metadata": {},
     "output_type": "execute_result"
    }
   ],
   "source": [
    "from pyspark.sql import SQLContext\n",
    "\n",
    "sql = SQLContext(spark)\n",
    "\n",
    "trainBalancedSarcasmDF = spark.read.option(\"header\", True).option(\"inferSchema\", True) \\\n",
    "    .csv(\"/tmp/train-balanced-sarcasm.csv\")\n",
    "trainBalancedSarcasmDF.printSchema()\n",
    "\n",
    "# Let's create a temp view (table) for our SQL queries\n",
    "trainBalancedSarcasmDF.createOrReplaceTempView('sarcasm')\n",
    "\n",
    "sql.sql('SELECT COUNT(*) FROM sarcasm').collect()"
   ]
  },
  {
   "cell_type": "code",
   "execution_count": 4,
   "metadata": {},
   "outputs": [
    {
     "name": "stdout",
     "output_type": "stream",
     "text": [
      "<class 'pyspark.sql.dataframe.DataFrame'>\n",
      "root\n",
      " |-- label: integer (nullable = true)\n",
      " |-- comment: string (nullable = true)\n",
      "\n",
      "rows 100000\n",
      "+-----+--------------------+\n",
      "|label|             comment|\n",
      "+-----+--------------------+\n",
      "|    0|Yeah, I get that ...|\n",
      "|    0|The blazers and M...|\n",
      "|    0|They're favored t...|\n",
      "|    0|deadass don't kil...|\n",
      "|    0|Yep can confirm I...|\n",
      "|    0|do you find arian...|\n",
      "|    0|What's your weird...|\n",
      "|    0|Probably Sephirot...|\n",
      "|    0|What to upgrade? ...|\n",
      "|    0|Probably count Ka...|\n",
      "|    0|I bet if that mon...|\n",
      "|    0|James Shields Wil...|\n",
      "|    0|There's no time t...|\n",
      "|    0|Team Specific Thr...|\n",
      "|    0|Ill give you a hi...|\n",
      "|    0|Star Wars, easy. ...|\n",
      "|    0|You're adorable.\n",
      "...|\n",
      "|    0|He actually acts ...|\n",
      "|    0|Clinton struggles...|\n",
      "|    0|Is that the Older...|\n",
      "+-----+--------------------+\n",
      "only showing top 20 rows\n",
      "\n"
     ]
    }
   ],
   "source": [
    "df = sql.sql('''\n",
    "select label, concat(parent_comment,\"\\n\",comment) as comment \n",
    "from sarcasm \n",
    "where comment is not null and parent_comment is not null limit 100000''')\n",
    "print(type(df))\n",
    "df.printSchema()\n",
    "print('rows', df.count())\n",
    "df = df.limit(2000) #minimize dataset if you are not running on a cluster\n",
    "df.show()\n"
   ]
  },
  {
   "cell_type": "code",
   "execution_count": 5,
   "metadata": {},
   "outputs": [
    {
     "name": "stdout",
     "output_type": "stream",
     "text": [
      "+-----+--------------------+--------------------+--------------------+--------------------+\n",
      "|label|             comment|            document|            sentence|               token|\n",
      "+-----+--------------------+--------------------+--------------------+--------------------+\n",
      "|    0|Yeah, I get that ...|[[document, 0, 90...|[[document, 0, 25...|[[token, 0, 3, Ye...|\n",
      "|    0|The blazers and M...|[[document, 0, 20...|[[document, 0, 13...|[[token, 0, 2, Th...|\n",
      "|    0|They're favored t...|[[document, 0, 14...|[[document, 0, 22...|[[token, 0, 6, Th...|\n",
      "|    0|deadass don't kil...|[[document, 0, 90...|[[document, 0, 90...|[[token, 0, 6, de...|\n",
      "|    0|Yep can confirm I...|[[document, 0, 11...|[[document, 0, 48...|[[token, 0, 2, Ye...|\n",
      "|    0|do you find arian...|[[document, 0, 14...|[[document, 0, 14...|[[token, 0, 1, do...|\n",
      "|    0|What's your weird...|[[document, 0, 98...|[[document, 0, 52...|[[token, 0, 5, Wh...|\n",
      "|    0|Probably Sephirot...|[[document, 0, 14...|[[document, 0, 18...|[[token, 0, 7, Pr...|\n",
      "|    0|What to upgrade? ...|[[document, 0, 77...|[[document, 0, 15...|[[token, 0, 3, Wh...|\n",
      "|    0|Probably count Ka...|[[document, 0, 33...|[[document, 0, 93...|[[token, 0, 7, Pr...|\n",
      "|    0|I bet if that mon...|[[document, 0, 20...|[[document, 0, 11...|[[token, 0, 0, I,...|\n",
      "|    0|James Shields Wil...|[[document, 0, 76...|[[document, 0, 76...|[[token, 0, 4, Ja...|\n",
      "|    0|There's no time t...|[[document, 0, 99...|[[document, 0, 78...|[[token, 0, 6, Th...|\n",
      "|    0|Team Specific Thr...|[[document, 0, 51...|[[document, 0, 15...|[[token, 0, 3, Te...|\n",
      "|    0|Ill give you a hi...|[[document, 0, 10...|[[document, 0, 19...|[[token, 0, 2, Il...|\n",
      "|    0|Star Wars, easy. ...|[[document, 0, 75...|[[document, 0, 15...|[[token, 0, 3, St...|\n",
      "|    0|You're adorable.\n",
      "...|[[document, 0, 22...|[[document, 0, 15...|[[token, 0, 5, Yo...|\n",
      "|    0|He actually acts ...|[[document, 0, 27...|[[document, 0, 49...|[[token, 0, 1, He...|\n",
      "|    0|Clinton struggles...|[[document, 0, 13...|[[document, 0, 13...|[[token, 0, 6, Cl...|\n",
      "|    0|Is that the Older...|[[document, 0, 69...|[[document, 0, 38...|[[token, 0, 1, Is...|\n",
      "+-----+--------------------+--------------------+--------------------+--------------------+\n",
      "only showing top 20 rows\n",
      "\n",
      "1401\n",
      "599\n"
     ]
    }
   ],
   "source": [
    "from sparknlp.annotator import *\n",
    "from sparknlp.common import *\n",
    "from sparknlp.base import *\n",
    "\n",
    "from pyspark.ml import Pipeline\n",
    "\n",
    "document_assembler = DocumentAssembler() \\\n",
    "    .setInputCol(\"comment\") \\\n",
    "    .setOutputCol(\"document\")\n",
    "    \n",
    "sentence_detector = SentenceDetector() \\\n",
    "    .setInputCols([\"document\"]) \\\n",
    "    .setOutputCol(\"sentence\") \\\n",
    "    .setUseAbbreviations(True)\n",
    "    \n",
    "tokenizer = Tokenizer() \\\n",
    "  .setInputCols([\"sentence\"]) \\\n",
    "  .setOutputCol(\"token\")\n",
    "\n",
    "nlp_pipeline = Pipeline(stages=[document_assembler, sentence_detector, tokenizer])\n",
    "nlp_model = nlp_pipeline.fit(df)\n",
    "\n",
    "processed = nlp_model.transform(df)\n",
    "processed.show()\n",
    "\n",
    "train, test = processed.randomSplit(weights=[0.7, 0.3], seed=123)\n",
    "\n",
    "print(train.count())\n",
    "print(test.count())"
   ]
  },
  {
   "cell_type": "code",
   "execution_count": 6,
   "metadata": {},
   "outputs": [
    {
     "name": "stdout",
     "output_type": "stream",
     "text": [
      "glove_100d download started this may take some time.\n",
      "Approximate size to download 145.3 MB\n",
      "[OK!]\n",
      "+-----+--------------------+--------------------+--------------------+--------------------+--------------------+\n",
      "|label|             comment|            document|            sentence|               token|          embeddings|\n",
      "+-----+--------------------+--------------------+--------------------+--------------------+--------------------+\n",
      "|    0|\"\"\"Agreed. I thin...|[[document, 0, 13...|[[document, 0, 9,...|[[token, 0, 2, \"\"...|[[word_embeddings...|\n",
      "|    0|\"\"\"It's kind of h...|[[document, 0, 11...|[[document, 0, 11...|[[token, 0, 2, \"\"...|[[word_embeddings...|\n",
      "|    0|\"\"\"Mom\n",
      "Holy shitb...|[[document, 0, 34...|[[document, 0, 34...|[[token, 0, 2, \"\"...|[[word_embeddings...|\n",
      "|    0|\"\"\"People\"\"\n",
      "Umm, ...|[[document, 0, 54...|[[document, 0, 54...|[[token, 0, 2, \"\"...|[[word_embeddings...|\n",
      "|    0|\"\"\"Play it cool; ...|[[document, 0, 12...|[[document, 0, 15...|[[token, 0, 2, \"\"...|[[word_embeddings...|\n",
      "|    0|\"\"\"Said it last y...|[[document, 0, 17...|[[document, 0, 17...|[[token, 0, 2, \"\"...|[[word_embeddings...|\n",
      "|    0|\"\"\"The Witch\"\" is...|[[document, 0, 59...|[[document, 0, 59...|[[token, 0, 2, \"\"...|[[word_embeddings...|\n",
      "|    0|\"\"\"The way I see ...|[[document, 0, 83...|[[document, 0, 83...|[[token, 0, 2, \"\"...|[[word_embeddings...|\n",
      "|    0|\"\"\"Tread lightly ...|[[document, 0, 45...|[[document, 0, 45...|[[token, 0, 2, \"\"...|[[word_embeddings...|\n",
      "|    0|\"\"\"You are like t...|[[document, 0, 71...|[[document, 0, 71...|[[token, 0, 2, \"\"...|[[word_embeddings...|\n",
      "|    0|\"@Senator_Assange...|[[document, 0, 18...|[[document, 0, 13...|[[token, 0, 0, \",...|[[word_embeddings...|\n",
      "|    0|\"A quick google s...|[[document, 0, 44...|[[document, 0, 44...|[[token, 0, 0, \",...|[[word_embeddings...|\n",
      "|    0|\"Added flair per ...|[[document, 0, 14...|[[document, 0, 14...|[[token, 0, 0, \",...|[[word_embeddings...|\n",
      "|    0|\"Amazon is coming...|[[document, 0, 12...|[[document, 0, 12...|[[token, 0, 0, \",...|[[word_embeddings...|\n",
      "|    0|\"And yet most of ...|[[document, 0, 84...|[[document, 0, 84...|[[token, 0, 0, \",...|[[word_embeddings...|\n",
      "|    0|\"Another giveaway...|[[document, 0, 82...|[[document, 0, 82...|[[token, 0, 0, \",...|[[word_embeddings...|\n",
      "|    0|\"As a person who ...|[[document, 0, 99...|[[document, 0, 99...|[[token, 0, 0, \",...|[[word_embeddings...|\n",
      "|    0|\"BREAKING: Trump ...|[[document, 0, 13...|[[document, 0, 60...|[[token, 0, 0, \",...|[[word_embeddings...|\n",
      "|    0|\"Bug/Feature? Ver...|[[document, 0, 29...|[[document, 0, 12...|[[token, 0, 0, \",...|[[word_embeddings...|\n",
      "|    0|\"Charlie Kirk: \"\"...|[[document, 0, 13...|[[document, 0, 13...|[[token, 0, 0, \",...|[[word_embeddings...|\n",
      "+-----+--------------------+--------------------+--------------------+--------------------+--------------------+\n",
      "only showing top 20 rows\n",
      "\n"
     ]
    }
   ],
   "source": [
    "glove = WordEmbeddingsModel.pretrained()\n",
    "train_featurized = glove.transform(train)\n",
    "train_featurized.show()"
   ]
  },
  {
   "cell_type": "code",
   "execution_count": 7,
   "metadata": {},
   "outputs": [
    {
     "name": "stdout",
     "output_type": "stream",
     "text": [
      "+-----+--------------------+--------------------+--------------------+--------------------+--------------------+\n",
      "|label|             comment|            document|            sentence|               token|          embeddings|\n",
      "+-----+--------------------+--------------------+--------------------+--------------------+--------------------+\n",
      "|    0|\"\"\"Did Hillary Cl...|[[document, 0, 24...|[[document, 0, 10...|[[token, 0, 2, \"\"...|[[word_embeddings...|\n",
      "|    0|\"\"\"Gingrich\n",
      "And C...|[[document, 0, 98...|[[document, 0, 98...|[[token, 0, 2, \"\"...|[[word_embeddings...|\n",
      "|    0|\"\"\"Hey you wanna ...|[[document, 0, 77...|[[document, 0, 74...|[[token, 0, 2, \"\"...|[[word_embeddings...|\n",
      "|    0|\"\"\"QR Code\"\"\n",
      "\"For...|[[document, 0, 73...|[[document, 0, 73...|[[token, 0, 2, \"\"...|[[word_embeddings...|\n",
      "|    0|\"\"\"The Germans bo...|[[document, 0, 11...|[[document, 0, 10...|[[token, 0, 2, \"\"...|[[word_embeddings...|\n",
      "|    0|\"*Danny reaches f...|[[document, 0, 10...|[[document, 0, 63...|[[token, 0, 1, \"*...|[[word_embeddings...|\n",
      "|    0|\"*Guilt roles ove...|[[document, 0, 19...|[[document, 0, 88...|[[token, 0, 1, \"*...|[[word_embeddings...|\n",
      "|    0|\"90% of the time ...|[[document, 0, 46...|[[document, 0, 10...|[[token, 0, 0, \",...|[[word_embeddings...|\n",
      "|    0|\"Anyone else sort...|[[document, 0, 17...|[[document, 0, 73...|[[token, 0, 0, \",...|[[word_embeddings...|\n",
      "|    0|\"BU only follows ...|[[document, 0, 16...|[[document, 0, 16...|[[token, 0, 0, \",...|[[word_embeddings...|\n",
      "|    0|\"Can we have a \"\"...|[[document, 0, 18...|[[document, 0, 56...|[[token, 0, 0, \",...|[[word_embeddings...|\n",
      "|    0|\"David Sirota on ...|[[document, 0, 17...|[[document, 0, 17...|[[token, 0, 0, \",...|[[word_embeddings...|\n",
      "|    0|\"Electrical Engin...|[[document, 0, 20...|[[document, 0, 20...|[[token, 0, 0, \",...|[[word_embeddings...|\n",
      "|    0|\"From what I've g...|[[document, 0, 23...|[[document, 0, 12...|[[token, 0, 0, \",...|[[word_embeddings...|\n",
      "|    0|\"Has Persona 5 ma...|[[document, 0, 75...|[[document, 0, 55...|[[token, 0, 0, \",...|[[word_embeddings...|\n",
      "|    0|\"Hey man, no need...|[[document, 0, 22...|[[document, 0, 22...|[[token, 0, 0, \",...|[[word_embeddings...|\n",
      "|    0|\"I dunno, doesnt ...|[[document, 0, 40...|[[document, 0, 44...|[[token, 0, 0, \",...|[[word_embeddings...|\n",
      "|    0|\"I just worry (a ...|[[document, 0, 29...|[[document, 0, 67...|[[token, 0, 0, \",...|[[word_embeddings...|\n",
      "|    0|\"I like how there...|[[document, 0, 29...|[[document, 0, 76...|[[token, 0, 0, \",...|[[word_embeddings...|\n",
      "|    0|\"I like the one w...|[[document, 0, 12...|[[document, 0, 10...|[[token, 0, 0, \",...|[[word_embeddings...|\n",
      "+-----+--------------------+--------------------+--------------------+--------------------+--------------------+\n",
      "only showing top 20 rows\n",
      "\n"
     ]
    }
   ],
   "source": [
    "test_featurized = glove.transform(test)\n",
    "test_featurized.show()"
   ]
  },
  {
   "cell_type": "code",
   "execution_count": 8,
   "metadata": {},
   "outputs": [],
   "source": [
    "def get_features(row):\n",
    "    result = []\n",
    "    for tk in row:\n",
    "        result.append(tk['embeddings'])\n",
    "    return np.array(result)\n",
    "\n",
    "def build_data(df, chunks=10):\n",
    "    x_train = []\n",
    "    y_train = []\n",
    "\n",
    "    row_count = df.count()\n",
    "    i = 0\n",
    "    \n",
    "    chunks = df.randomSplit(weights=[1/chunks] * chunks)\n",
    "\n",
    "    for chunk in chunks:\n",
    "        rows = chunk.collect()\n",
    "        for row in rows:\n",
    "            if i % 1000 == 0:\n",
    "                print('row {} / {} ({:.1f} %)'.format(i, row_count, 100 * i / row_count))\n",
    "            embeddings = get_features(row['embeddings'])\n",
    "            label = row['label']\n",
    "            x_train.append(embeddings)\n",
    "            y_train.append(label)\n",
    "            i += 1\n",
    "\n",
    "    x_train = np.array(x_train)\n",
    "    y_train = np.array(y_train)\n",
    "    return x_train, y_train"
   ]
  },
  {
   "cell_type": "code",
   "execution_count": 9,
   "metadata": {
    "scrolled": true
   },
   "outputs": [
    {
     "name": "stdout",
     "output_type": "stream",
     "text": [
      "row 0 / 1401 (0.0 %)\n",
      "row 1000 / 1401 (71.4 %)\n"
     ]
    }
   ],
   "source": [
    "x_train, y_train = build_data(train_featurized)"
   ]
  },
  {
   "cell_type": "code",
   "execution_count": 10,
   "metadata": {
    "scrolled": true
   },
   "outputs": [
    {
     "name": "stdout",
     "output_type": "stream",
     "text": [
      "row 0 / 599 (0.0 %)\n"
     ]
    }
   ],
   "source": [
    "x_test, y_test = build_data(test_featurized)"
   ]
  },
  {
   "cell_type": "code",
   "execution_count": 11,
   "metadata": {},
   "outputs": [],
   "source": [
    "spark.stop()"
   ]
  },
  {
   "cell_type": "code",
   "execution_count": 12,
   "metadata": {},
   "outputs": [
    {
     "name": "stdout",
     "output_type": "stream",
     "text": [
      "Train Labels:\n",
      " 0    1285\n",
      "1     116\n",
      "dtype: int64\n",
      "Test Labels:\n",
      " 0    537\n",
      "1     62\n",
      "dtype: int64\n"
     ]
    }
   ],
   "source": [
    "print('Train Labels:\\n', pd.Series(y_train).value_counts())\n",
    "print('Test Labels:\\n', pd.Series(y_test).value_counts())"
   ]
  },
  {
   "cell_type": "code",
   "execution_count": 13,
   "metadata": {},
   "outputs": [
    {
     "name": "stderr",
     "output_type": "stream",
     "text": [
      "Using TensorFlow backend.\n"
     ]
    }
   ],
   "source": [
    "from keras.preprocessing import sequence\n",
    "from keras.models import Sequential\n",
    "from keras.layers import Dense, Dropout, Activation\n",
    "from keras.layers import Embedding\n",
    "from keras.layers import Conv1D, GlobalMaxPooling1D\n",
    "\n",
    "# set parameters for our model:\n",
    "maxlen = 100 #max 50 words per article\n",
    "batch_size = 32 #size of the batch \n",
    "filters = 50 #dimension of filters for the convolutional layer\n",
    "kernel_size = 3 #size of the kernel used in the convolutional layer\n",
    "hidden_dims = 250 #dimension of the hidden layer\n",
    "epochs = 10 #number of training epochs\n",
    "\n",
    "x_train = sequence.pad_sequences(x_train, maxlen=maxlen)\n",
    "x_test = sequence.pad_sequences(x_test, maxlen=maxlen)"
   ]
  },
  {
   "cell_type": "code",
   "execution_count": 14,
   "metadata": {},
   "outputs": [
    {
     "name": "stdout",
     "output_type": "stream",
     "text": [
      "Build model...\n",
      "WARNING:tensorflow:From /Users/vkocaman/anaconda3/lib/python3.7/site-packages/tensorflow_core/python/ops/resource_variable_ops.py:1630: calling BaseResourceVariable.__init__ (from tensorflow.python.ops.resource_variable_ops) with constraint is deprecated and will be removed in a future version.\n",
      "Instructions for updating:\n",
      "If using Keras pass *_constraint arguments to layers.\n"
     ]
    }
   ],
   "source": [
    "print('Build model...')\n",
    "model = Sequential()\n",
    "\n",
    "# we add a Convolution1D, which will learn filters\n",
    "# word group filters of size filter_length:\n",
    "model.add(Conv1D(filters,\n",
    "                 kernel_size,\n",
    "                 padding='valid',\n",
    "                 activation='relu',\n",
    "                 strides=1))\n",
    "# we use max pooling:\n",
    "model.add(GlobalMaxPooling1D())\n",
    "\n",
    "# We add a vanilla hidden layer:\n",
    "model.add(Dense(hidden_dims))\n",
    "model.add(Dropout(0.2))\n",
    "model.add(Activation('relu'))\n",
    "\n",
    "# We project onto a single unit output layer, and squash it with a sigmoid:\n",
    "model.add(Dense(1))\n",
    "model.add(Activation('sigmoid'))\n",
    "\n",
    "from keras import backend as K\n",
    "\n",
    "\n",
    "model.compile(loss='binary_crossentropy',\n",
    "              optimizer='adam',\n",
    "              metrics=['accuracy','mae'])"
   ]
  },
  {
   "cell_type": "code",
   "execution_count": 16,
   "metadata": {},
   "outputs": [
    {
     "name": "stdout",
     "output_type": "stream",
     "text": [
      "Train on 1401 samples, validate on 599 samples\n",
      "Epoch 1/10\n",
      "1401/1401 [==============================] - 1s 416us/step - loss: 0.1978 - accuracy: 0.9172 - mae: 0.1258 - val_loss: 0.3736 - val_accuracy: 0.8965 - val_mae: 0.1632\n",
      "Epoch 2/10\n",
      "1401/1401 [==============================] - 0s 354us/step - loss: 0.1340 - accuracy: 0.9386 - mae: 0.0964 - val_loss: 0.4252 - val_accuracy: 0.8948 - val_mae: 0.1468\n",
      "Epoch 3/10\n",
      "1401/1401 [==============================] - 1s 530us/step - loss: 0.0729 - accuracy: 0.9829 - mae: 0.0585 - val_loss: 0.5256 - val_accuracy: 0.8948 - val_mae: 0.1273\n",
      "Epoch 4/10\n",
      "1401/1401 [==============================] - 0s 316us/step - loss: 0.0380 - accuracy: 0.9914 - mae: 0.0321 - val_loss: 0.5465 - val_accuracy: 0.8865 - val_mae: 0.1391\n",
      "Epoch 5/10\n",
      "1401/1401 [==============================] - 0s 348us/step - loss: 0.0223 - accuracy: 0.9993 - mae: 0.0201 - val_loss: 0.5935 - val_accuracy: 0.8848 - val_mae: 0.1409\n",
      "Epoch 6/10\n",
      "1401/1401 [==============================] - 1s 379us/step - loss: 0.0120 - accuracy: 0.9986 - mae: 0.0110 - val_loss: 0.7257 - val_accuracy: 0.8915 - val_mae: 0.1223\n",
      "Epoch 7/10\n",
      "1401/1401 [==============================] - 0s 331us/step - loss: 0.0061 - accuracy: 1.0000 - mae: 0.0059 - val_loss: 0.7446 - val_accuracy: 0.8881 - val_mae: 0.1235\n",
      "Epoch 8/10\n",
      "1401/1401 [==============================] - 1s 358us/step - loss: 0.0048 - accuracy: 1.0000 - mae: 0.0047 - val_loss: 0.8313 - val_accuracy: 0.8915 - val_mae: 0.1169\n",
      "Epoch 9/10\n",
      "1401/1401 [==============================] - 0s 335us/step - loss: 0.0033 - accuracy: 1.0000 - mae: 0.0032 - val_loss: 0.8227 - val_accuracy: 0.8881 - val_mae: 0.1199\n",
      "Epoch 10/10\n",
      "1401/1401 [==============================] - 1s 436us/step - loss: 0.0024 - accuracy: 1.0000 - mae: 0.0024 - val_loss: 0.8809 - val_accuracy: 0.8881 - val_mae: 0.1171\n"
     ]
    },
    {
     "data": {
      "text/plain": [
       "<keras.callbacks.callbacks.History at 0x7fe4ed87e390>"
      ]
     },
     "execution_count": 16,
     "metadata": {},
     "output_type": "execute_result"
    }
   ],
   "source": [
    "model.fit(x_train, y_train,\n",
    "          batch_size=batch_size,\n",
    "          epochs=epochs,\n",
    "          validation_data=(x_test, y_test))"
   ]
  },
  {
   "cell_type": "code",
   "execution_count": 17,
   "metadata": {},
   "outputs": [
    {
     "data": {
      "image/png": "[encoded data removed]",
      "text/plain": [
       "<IPython.core.display.Image object>"
      ]
     },
     "execution_count": 17,
     "metadata": {},
     "output_type": "execute_result"
    }
   ],
   "source": [
    "from IPython.display import Image\n",
    "from keras.utils.vis_utils import model_to_dot\n",
    "dot = model_to_dot(model)\n",
    "Image(dot.create_png())"
   ]
  },
  {
   "cell_type": "code",
   "execution_count": null,
   "metadata": {},
   "outputs": [],
   "source": []
  }
 ],
 "metadata": {
  "kernelspec": {
   "display_name": "Python 3",
   "language": "python",
   "name": "python3"
  },
  "language_info": {
   "codemirror_mode": {
    "name": "ipython",
    "version": 3
   },
   "file_extension": ".py",
   "mimetype": "text/x-python",
   "name": "python",
   "nbconvert_exporter": "python",
   "pygments_lexer": "ipython3",
   "version": "3.7.4"
  }
 },
 "nbformat": 4,
 "nbformat_minor": 4
}

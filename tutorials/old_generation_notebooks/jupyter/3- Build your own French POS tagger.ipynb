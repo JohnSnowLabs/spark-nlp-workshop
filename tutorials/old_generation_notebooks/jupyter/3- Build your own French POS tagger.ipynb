{
 "cells": [
  {
   "cell_type": "markdown",
   "metadata": {},
   "source": [
    "![JohnSnowLabs](https://nlp.johnsnowlabs.com/assets/images/logo.png)"
   ]
  },
  {
   "cell_type": "markdown",
   "metadata": {},
   "source": [
    "# Train POS Tagger in French by Spark NLP\n",
    "### Based on Universal Dependency `UD_French-GSD`\n"
   ]
  },
  {
   "cell_type": "code",
   "execution_count": 1,
   "metadata": {},
   "outputs": [],
   "source": [
    "import sys\n",
    "import time\n",
    "\n",
    "#Spark ML and SQL\n",
    "from pyspark.ml import Pipeline, PipelineModel\n",
    "from pyspark.sql.functions import array_contains\n",
    "from pyspark.sql import SparkSession\n",
    "from pyspark.sql.types import StructType, StructField, IntegerType, StringType\n",
    "#Spark NLP\n",
    "import sparknlp\n",
    "from sparknlp.annotator import *\n",
    "from sparknlp.common import RegexRule\n",
    "from sparknlp.base import DocumentAssembler, Finisher\n"
   ]
  },
  {
   "cell_type": "markdown",
   "metadata": {},
   "source": [
    "### Let's create a Spark Session for our app"
   ]
  },
  {
   "cell_type": "code",
   "execution_count": 2,
   "metadata": {},
   "outputs": [
    {
     "name": "stdout",
     "output_type": "stream",
     "text": [
      "Spark NLP version:  2.6.0\n",
      "Apache Spark version:  2.4.4\n"
     ]
    }
   ],
   "source": [
    "spark = sparknlp.start()\n",
    "\n",
    "print(\"Spark NLP version: \", sparknlp.version())\n",
    "print(\"Apache Spark version: \", spark.version)"
   ]
  },
  {
   "cell_type": "markdown",
   "metadata": {},
   "source": [
    "Let's prepare our training datasets containing `token_posTag` like `de_DET`. You can download this data set from Amazon S3:\n",
    "\n",
    "```\n",
    "wget -N https://s3.amazonaws.com/auxdata.johnsnowlabs.com/public/resources/fr/pos/UD_French/UD_French-GSD_2.3.txt -P /tmp\n",
    "```"
   ]
  },
  {
   "cell_type": "code",
   "execution_count": 3,
   "metadata": {},
   "outputs": [
    {
     "name": "stdout",
     "output_type": "stream",
     "text": [
      "--2020-09-13 17:37:53--  https://s3.amazonaws.com/auxdata.johnsnowlabs.com/public/resources/fr/pos/UD_French/UD_French-GSD_2.3.txt\n",
      "Resolving s3.amazonaws.com (s3.amazonaws.com)... 52.217.88.158\n",
      "Connecting to s3.amazonaws.com (s3.amazonaws.com)|52.217.88.158|:443... connected.\n",
      "HTTP request sent, awaiting response... 200 OK\n",
      "Length: 3565213 (3.4M) [text/plain]\n",
      "Saving to: ‘/tmp/UD_French-GSD_2.3.txt’\n",
      "\n",
      "UD_French-GSD_2.3.t 100%[===================>]   3.40M  2.66MB/s    in 1.3s    \n",
      "\n",
      "2020-09-13 17:37:55 (2.66 MB/s) - ‘/tmp/UD_French-GSD_2.3.txt’ saved [3565213/3565213]\n",
      "\n"
     ]
    }
   ],
   "source": [
    "! wget -N https://s3.amazonaws.com/auxdata.johnsnowlabs.com/public/resources/fr/pos/UD_French/UD_French-GSD_2.3.txt -P /tmp"
   ]
  },
  {
   "cell_type": "code",
   "execution_count": 4,
   "metadata": {},
   "outputs": [],
   "source": [
    "from sparknlp.training import POS\n",
    "training_data = POS().readDataset(spark, '/tmp/UD_French-GSD_2.3.txt', '_', 'tags')"
   ]
  },
  {
   "cell_type": "code",
   "execution_count": 5,
   "metadata": {},
   "outputs": [
    {
     "name": "stdout",
     "output_type": "stream",
     "text": [
      "+--------------------+--------------------+--------------------+\n",
      "|                text|            document|                tags|\n",
      "+--------------------+--------------------+--------------------+\n",
      "|Les commotions cé...|[[document, 0, 11...|[[pos, 0, 2, DET,...|\n",
      "|L' œuvre est situ...|[[document, 0, 82...|[[pos, 0, 1, DET,...|\n",
      "|Le comportement d...|[[document, 0, 18...|[[pos, 0, 1, DET,...|\n",
      "|Toutefois , les f...|[[document, 0, 44...|[[pos, 0, 8, ADV,...|\n",
      "|Ismene entre et a...|[[document, 0, 80...|[[pos, 0, 5, PROP...|\n",
      "|je reviendrais av...|[[document, 0, 28...|[[pos, 0, 1, PRON...|\n",
      "|Les forfaits comp...|[[document, 0, 30...|[[pos, 0, 2, DET,...|\n",
      "|Il prévient que d...|[[document, 0, 99...|[[pos, 0, 1, PRON...|\n",
      "|Ils tiraient à ba...|[[document, 0, 43...|[[pos, 0, 2, PRON...|\n",
      "|Le château est en...|[[document, 0, 44...|[[pos, 0, 1, DET,...|\n",
      "|En effet , la bir...|[[document, 0, 10...|[[pos, 0, 1, ADP,...|\n",
      "|Le point final de...|[[document, 0, 15...|[[pos, 0, 1, DET,...|\n",
      "|L' information gé...|[[document, 0, 53...|[[pos, 0, 1, DET,...|\n",
      "|Motivé par la cha...|[[document, 0, 21...|[[pos, 0, 5, VERB...|\n",
      "|Il exploitait un ...|[[document, 0, 12...|[[pos, 0, 1, PRON...|\n",
      "|Plus tard dans la...|[[document, 0, 84...|[[pos, 0, 3, ADV,...|\n",
      "|Ils deviennent al...|[[document, 0, 97...|[[pos, 0, 2, PRON...|\n",
      "|Le chevalier lui ...|[[document, 0, 17...|[[pos, 0, 1, DET,...|\n",
      "|Créée au cours du...|[[document, 0, 15...|[[pos, 0, 4, VERB...|\n",
      "|On ne peut éviter...|[[document, 0, 11...|[[pos, 0, 1, PRON...|\n",
      "+--------------------+--------------------+--------------------+\n",
      "only showing top 20 rows\n",
      "\n"
     ]
    }
   ],
   "source": [
    "training_data.show()"
   ]
  },
  {
   "cell_type": "code",
   "execution_count": 6,
   "metadata": {},
   "outputs": [],
   "source": [
    "document_assembler = DocumentAssembler() \\\n",
    "    .setInputCol(\"text\")\n",
    "\n",
    "sentence_detector = SentenceDetector() \\\n",
    "    .setInputCols([\"document\"]) \\\n",
    "    .setOutputCol(\"sentence\")\n",
    "\n",
    "tokenizer = Tokenizer() \\\n",
    "    .setInputCols([\"sentence\"]) \\\n",
    "    .setOutputCol(\"token\")\\\n",
    "    .setExceptions([\"jusqu'\", \"aujourd'hui\", \"États-Unis\", \"lui-même\", \"celui-ci\", \"c'est-à-dire\", \"celle-ci\", \"au-dessus\", \"etc.\", \"sud-est\", \"Royaume-Uni\", \"ceux-ci\", \"au-delà\", \"elle-même\", \"peut-être\", \"sud-ouest\", \"nord-ouest\", \"nord-est\", \"Etats-Unis\", \"Grande-Bretagne\", \"Pays-Bas\", \"eux-mêmes\", \"porte-parole\", \"Notre-Dame\", \"puisqu'\", \"week-end\", \"quelqu'un\", \"celles-ci\", \"chef-lieu\"])\\\n",
    "    .setPrefixPattern(\"\\\\A([^\\\\s\\\\p{L}\\\\d\\\\$\\\\.#]*)\")\\\n",
    "    .setSuffixPattern(\"([^\\\\s\\\\p{L}\\\\d]?)([^\\\\s\\\\p{L}\\\\d]*)\\\\z\")\\\n",
    "    .setInfixPatterns([\n",
    "      \"([\\\\p{L}\\\\w]+'{1})\",\n",
    "      \"([\\\\$#]?\\\\d+(?:[^\\\\s\\\\d]{1}\\\\d+)*)\",\n",
    "      \"((?:\\\\p{L}\\\\.)+)\",\n",
    "      \"((?:\\\\p{L}+[^\\\\s\\\\p{L}]{1})+\\\\p{L}+)\",\n",
    "      \"([\\\\p{L}\\\\w]+)\"\n",
    "    ])\n",
    "\n",
    "posTagger = PerceptronApproach() \\\n",
    "    .setNIterations(1) \\\n",
    "    .setInputCols([\"sentence\", \"token\"]) \\\n",
    "    .setOutputCol(\"pos\") \\\n",
    "    .setPosCol(\"tags\")\n",
    "    \n",
    "pipeline = Pipeline(stages=[\n",
    "    document_assembler, \n",
    "    sentence_detector, \n",
    "    tokenizer,\n",
    "    posTagger\n",
    "])"
   ]
  },
  {
   "cell_type": "code",
   "execution_count": 7,
   "metadata": {},
   "outputs": [],
   "source": [
    "# Let's train our Pipeline by using our training dataset\n",
    "model = pipeline.fit(training_data)"
   ]
  },
  {
   "cell_type": "markdown",
   "metadata": {},
   "source": [
    "This is our testing DataFrame where we get some sentences in French. We are going to use our trained Pipeline to transform these sentence and predict each token's `Part Of Speech`."
   ]
  },
  {
   "cell_type": "code",
   "execution_count": 8,
   "metadata": {},
   "outputs": [],
   "source": [
    "dfTest = spark.createDataFrame([\n",
    "    \"Je sens qu'entre ça et les films de médecins et scientifiques fous que nous avons déjà vus, nous pourrions emprunter un autre chemin pour l'origine.\",\n",
    "    \"On pourra toujours parler à propos d'Averroès de décentrement du Sujet.\"\n",
    "], StringType()).toDF(\"text\")"
   ]
  },
  {
   "cell_type": "code",
   "execution_count": 9,
   "metadata": {},
   "outputs": [],
   "source": [
    "predict = model.transform(dfTest)"
   ]
  },
  {
   "cell_type": "code",
   "execution_count": 12,
   "metadata": {},
   "outputs": [
    {
     "name": "stdout",
     "output_type": "stream",
     "text": [
      "+--------------------------------------------------+--------------------------------------------------+\n",
      "|                                            result|                                            result|\n",
      "+--------------------------------------------------+--------------------------------------------------+\n",
      "|[Je, sens, qu'entre, ça, et, les, films, de, mé...|[PRON, NOUN, ADP, PRON, CCONJ, DET, NOUN, ADP, ...|\n",
      "|[On, pourra, toujours, parler, à, propos, d'Ave...|[PRON, VERB, ADV, VERB, ADP, NOUN, ADJ, ADP, NO...|\n",
      "+--------------------------------------------------+--------------------------------------------------+\n",
      "\n"
     ]
    }
   ],
   "source": [
    "predict.select(\"token.result\", \"pos.result\").show(truncate=50)"
   ]
  },
  {
   "cell_type": "code",
   "execution_count": null,
   "metadata": {},
   "outputs": [],
   "source": []
  },
  {
   "cell_type": "code",
   "execution_count": null,
   "metadata": {},
   "outputs": [],
   "source": []
  }
 ],
 "metadata": {
  "kernelspec": {
   "display_name": "Python 3",
   "language": "python",
   "name": "python3"
  },
  "language_info": {
   "codemirror_mode": {
    "name": "ipython",
    "version": 3
   },
   "file_extension": ".py",
   "mimetype": "text/x-python",
   "name": "python",
   "nbconvert_exporter": "python",
   "pygments_lexer": "ipython3",
   "version": "3.7.4"
  }
 },
 "nbformat": 4,
 "nbformat_minor": 4
}

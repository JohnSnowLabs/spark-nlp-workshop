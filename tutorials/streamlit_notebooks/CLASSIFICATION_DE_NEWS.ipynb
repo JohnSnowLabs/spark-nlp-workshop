{
  "nbformat": 4,
  "nbformat_minor": 0,
  "metadata": {
    "colab": {
      "name": "CLASSIFICATION_DE_NEWS.ipynb",
      "provenance": []
    },
    "kernelspec": {
      "name": "python3",
      "display_name": "Python 3"
    },
    "language_info": {
      "name": "python"
    }
  },
  "cells": [
    {
      "cell_type": "markdown",
      "metadata": {
        "id": "vas1PNJwZp2U"
      },
      "source": [
        "\n",
        "\n",
        "![JohnSnowLabs](https://nlp.johnsnowlabs.com/assets/images/logo.png)\n",
        "\n",
        "[![Open In Colab](https://colab.research.google.com/assets/colab-badge.svg)](https://githubtocolab.com/JohnSnowLabs/spark-nlp-workshop/blob/master/tutorials/streamlit_notebooks/CLASSIFICATION_DE_NEWS.ipynb)\n",
        "\n",
        "\n"
      ]
    },
    {
      "cell_type": "markdown",
      "metadata": {
        "id": "E2lonApkZwJP"
      },
      "source": [
        "# **Classify German News**"
      ]
    },
    {
      "cell_type": "markdown",
      "metadata": {
        "id": "kMURhBz4ZwM6"
      },
      "source": [
        "## 1. Colab Setup"
      ]
    },
    {
      "cell_type": "code",
      "metadata": {
        "colab": {
          "base_uri": "https://localhost:8080/"
        },
        "id": "qyYMEtv59sox",
        "outputId": "50410a72-dd24-42f7-b727-1ea2655490de"
      },
      "source": [
        "!wget http://setup.johnsnowlabs.com/colab.sh -O - | bash"
      ],
      "execution_count": 1,
      "outputs": [
        {
          "output_type": "stream",
          "text": [
            "--2021-07-30 08:29:58--  http://setup.johnsnowlabs.com/colab.sh\n",
            "Resolving setup.johnsnowlabs.com (setup.johnsnowlabs.com)... 51.158.130.125\n",
            "Connecting to setup.johnsnowlabs.com (setup.johnsnowlabs.com)|51.158.130.125|:80... connected.\n",
            "HTTP request sent, awaiting response... 302 Moved Temporarily\n",
            "Location: https://raw.githubusercontent.com/JohnSnowLabs/spark-nlp/master/scripts/colab_setup.sh [following]\n",
            "--2021-07-30 08:29:58--  https://raw.githubusercontent.com/JohnSnowLabs/spark-nlp/master/scripts/colab_setup.sh\n",
            "Resolving raw.githubusercontent.com (raw.githubusercontent.com)... 185.199.110.133, 185.199.109.133, 185.199.111.133, ...\n",
            "Connecting to raw.githubusercontent.com (raw.githubusercontent.com)|185.199.110.133|:443... connected.\n",
            "HTTP request sent, awaiting response... 200 OK\n",
            "Length: 1608 (1.6K) [text/plain]\n",
            "Saving to: ‘STDOUT’\n",
            "\n",
            "-                     0%[                    ]       0  --.-KB/s               setup Colab for PySpark 3.1.2 and Spark NLP 3.1.3\n",
            "-                   100%[===================>]   1.57K  --.-KB/s    in 0.001s  \n",
            "\n",
            "2021-07-30 08:29:59 (1.77 MB/s) - written to stdout [1608/1608]\n",
            "\n",
            "Get:1 http://security.ubuntu.com/ubuntu bionic-security InRelease [88.7 kB]\n",
            "Get:2 https://cloud.r-project.org/bin/linux/ubuntu bionic-cran40/ InRelease [3,626 B]\n",
            "Ign:3 https://developer.download.nvidia.com/compute/cuda/repos/ubuntu1804/x86_64  InRelease\n",
            "Get:4 http://ppa.launchpad.net/c2d4u.team/c2d4u4.0+/ubuntu bionic InRelease [15.9 kB]\n",
            "Hit:5 http://archive.ubuntu.com/ubuntu bionic InRelease\n",
            "Ign:6 https://developer.download.nvidia.com/compute/machine-learning/repos/ubuntu1804/x86_64  InRelease\n",
            "Get:7 https://developer.download.nvidia.com/compute/cuda/repos/ubuntu1804/x86_64  Release [697 B]\n",
            "Hit:8 https://developer.download.nvidia.com/compute/machine-learning/repos/ubuntu1804/x86_64  Release\n",
            "Get:9 https://developer.download.nvidia.com/compute/cuda/repos/ubuntu1804/x86_64  Release.gpg [836 B]\n",
            "Get:10 http://archive.ubuntu.com/ubuntu bionic-updates InRelease [88.7 kB]\n",
            "Hit:11 http://ppa.launchpad.net/cran/libgit2/ubuntu bionic InRelease\n",
            "Get:12 http://security.ubuntu.com/ubuntu bionic-security/main amd64 Packages [2,258 kB]\n",
            "Get:13 http://archive.ubuntu.com/ubuntu bionic-backports InRelease [74.6 kB]\n",
            "Hit:14 http://ppa.launchpad.net/deadsnakes/ppa/ubuntu bionic InRelease\n",
            "Get:15 http://security.ubuntu.com/ubuntu bionic-security/universe amd64 Packages [1,420 kB]\n",
            "Get:16 http://security.ubuntu.com/ubuntu bionic-security/multiverse amd64 Packages [26.7 kB]\n",
            "Get:17 http://security.ubuntu.com/ubuntu bionic-security/restricted amd64 Packages [505 kB]\n",
            "Get:18 http://ppa.launchpad.net/graphics-drivers/ppa/ubuntu bionic InRelease [21.3 kB]\n",
            "Ign:20 https://developer.download.nvidia.com/compute/cuda/repos/ubuntu1804/x86_64  Packages\n",
            "Get:20 https://developer.download.nvidia.com/compute/cuda/repos/ubuntu1804/x86_64  Packages [680 kB]\n",
            "Get:21 http://ppa.launchpad.net/c2d4u.team/c2d4u4.0+/ubuntu bionic/main Sources [1,785 kB]\n",
            "Get:22 http://archive.ubuntu.com/ubuntu bionic-updates/universe amd64 Packages [2,194 kB]\n",
            "Get:23 http://ppa.launchpad.net/c2d4u.team/c2d4u4.0+/ubuntu bionic/main amd64 Packages [913 kB]\n",
            "Get:24 http://archive.ubuntu.com/ubuntu bionic-updates/restricted amd64 Packages [537 kB]\n",
            "Get:25 http://archive.ubuntu.com/ubuntu bionic-updates/main amd64 Packages [2,694 kB]\n",
            "Get:26 http://archive.ubuntu.com/ubuntu bionic-updates/multiverse amd64 Packages [33.6 kB]\n",
            "Get:27 http://ppa.launchpad.net/graphics-drivers/ppa/ubuntu bionic/main amd64 Packages [44.1 kB]\n",
            "Fetched 13.4 MB in 4s (3,462 kB/s)\n",
            "Reading package lists... Done\n",
            "\u001b[K     |████████████████████████████████| 212.4 MB 64 kB/s \n",
            "\u001b[K     |████████████████████████████████| 91 kB 9.9 MB/s \n",
            "\u001b[K     |████████████████████████████████| 198 kB 64.9 MB/s \n",
            "\u001b[?25h  Building wheel for pyspark (setup.py) ... \u001b[?25l\u001b[?25hdone\n"
          ],
          "name": "stdout"
        }
      ]
    },
    {
      "cell_type": "code",
      "metadata": {
        "id": "b_zcj8Y89zxI"
      },
      "source": [
        "import pandas as pd\n",
        "import numpy as np\n",
        "import json\n",
        "from pyspark.ml import Pipeline\n",
        "from pyspark.sql import SparkSession\n",
        "import pyspark.sql.functions as F\n",
        "from sparknlp.annotator import *\n",
        "from sparknlp.base import *\n",
        "import sparknlp\n",
        "from sparknlp.pretrained import PretrainedPipeline"
      ],
      "execution_count": 2,
      "outputs": []
    },
    {
      "cell_type": "markdown",
      "metadata": {
        "id": "PKf4YBDBZ9x7"
      },
      "source": [
        "## 2. Start Spark Session"
      ]
    },
    {
      "cell_type": "code",
      "metadata": {
        "id": "MGBQWrkf-Tlv"
      },
      "source": [
        "spark = sparknlp.start()"
      ],
      "execution_count": 3,
      "outputs": []
    },
    {
      "cell_type": "markdown",
      "metadata": {
        "id": "bXA24WIYaACJ"
      },
      "source": [
        "## 3. Select the DL model and re-run all the cells below"
      ]
    },
    {
      "cell_type": "code",
      "metadata": {
        "id": "ZgfRvkhLBGwh"
      },
      "source": [
        "model_name = \"classifierdl_bert_news\""
      ],
      "execution_count": 4,
      "outputs": []
    },
    {
      "cell_type": "markdown",
      "metadata": {
        "id": "m_-O5I9BaF08"
      },
      "source": [
        "## 4. Some sample examples"
      ]
    },
    {
      "cell_type": "code",
      "metadata": {
        "id": "S0-Axxuz-V95"
      },
      "source": [
        "text_list = [\n",
        "\"\"\"Dramatische Partie wird erst im Shootout entschieden bedeutet den ersten meistertitel seit 22 jahren. Wien a hc wien hat am sonntag beim final-vier-turnier der asterreichischen hockey-bundesliga triumphiert. Hc besiegte titelverteidiger sv arminen in einem dramatischen Endspiel 2:0 nach Shootout. Nach der verlangerung war es in wien 1:1 gestanden. \"\"\",\n",
        "\"\"\"Vertrag bis saisonende a meistertitel soll her. Warschau a stanislaw tschertschessow ist neuer trainer von legia warschau. Der ehemalige tormann und trainer des fc tirol unterzeichnete beim polnischen cupsieger einen vertrag bis saisonende und tritt die nachfolge des entlassenen norwegischen ex-internationalen henning berg an.\"\"\",\n",
        "\"\"\"Auch in den supermarkten machte sich die bankenkrise bemerkbar. Vor allem grundnahrungsmittel wie reis, mehl und bohnen wurden wieder in groayen mengen gekauft. Regale mit keksen und griechischem stangerlgeback waren weitgehend leer. Kunden schleppten groaye fanf-liter-kanister mit olivenal zur kasse. Dort wird weiter eher mit bargeld als mit kreditkarte bezahlt.\"\"\",\n",
        "\"\"\"Rund 64.000 euro flossen von andra rupprechters ressort in die zeitschrift, an der der vp-bauernbund beteiligt ist. Wien a inserate der ministerien haben schon oft die gemater erregt. Sogar die justiz nahm sich der angelegenheit an, die staatsanwaltschaft stellte die ermittlungen wegen verdachts der untreue aber 2013 ein.\"\"\",\n",
        "\"\"\"Vorstandsvorsitzender des fc bayern lasst interessenten abblitzen und will weitere starspieler nach manchen lotsen. Manchen a bayern manchens vorstandsvorsitzender karl-heinz rummenigge hat allen interessenten an fuayball-nationalspieler thomas maller erneut eine klare absage erteilt. Thomas ist unverkauflich, sagte er in einem interview des magazins sport bild (mittwoch).\"\"\",\n",
        "\"\"\"Mit timothy peake geht erstmals auch ein britischer astronaut an bord der iss. Baikonur/london a am frahen dienstagabend erreichte eine sojus mit drei raumfahrern an bord die international space station (iss). Um 18:33 mez dockte das raumschiff rund 400 kilometer aber indien an, wie die nasa per kurznachrichtendienst twitter mitteilte. \"\"\",\n",
        "\"\"\"Die beiden neuen modelle aberraschen mit niedrigen preisen, die vorab ins netz gelangt sind. Am dienstagabend wird google seine zwei neuen nexus-modelle offiziell vorstellen. Allerdings darfte es nur mehr wenige details geben, die interessierte beobachter aberraschen. \"\"\",\n",
        "\"\"\"Ist es ein wal, der seeelefant oder das flusspferd? Der wettbewerb um das fetteste tier der erde hat einen verblaffenden sieger. London/wien a wahrend wir menschen an winterspeck wenig freude haben, entscheidet er im tierreich aber tod oder aberleben. Aber welches tier bringt davon nun am meisten auf die waage? Dieser frage, die gar nicht so leicht zu beantworten ist, ging die bbc karzlich auf die spur.\"\"\",\n",
        "\"\"\"Youtuber nimmt apple-smartphones mit ak-74 unter beschuss. Aber langere zeit erfreuten sich sogenannte droptests auf youtube hoher beliebtheit. Auch heute noch lassen videomacher neue smartphones und ahnliche produkte, teilweise spektakular per zeitlupenkamera inszeniert, auf den boden fallen und versuchen, aus dem ergebnis auf die verarbeitungs- und materialqualitat des jeweiligen gerats zu schlieayen. \"\"\"\n",
        "]"
      ],
      "execution_count": 9,
      "outputs": []
    },
    {
      "cell_type": "markdown",
      "metadata": {
        "id": "ULKvemZpaNal"
      },
      "source": [
        "## 5. Define Spark NLP pipeline"
      ]
    },
    {
      "cell_type": "code",
      "metadata": {
        "colab": {
          "base_uri": "https://localhost:8080/"
        },
        "id": "-Y7GcAse-2Ie",
        "outputId": "02f1d10d-a588-4b0a-a52a-0e46e61e8d80"
      },
      "source": [
        "document = DocumentAssembler()\\\n",
        "    .setInputCol(\"text\")\\\n",
        "    .setOutputCol(\"document\")\n",
        "\n",
        "embeddings = BertSentenceEmbeddings\\\n",
        "  .pretrained('sent_bert_multi_cased', 'xx') \\\n",
        "  .setInputCols([\"document\"])\\\n",
        "  .setOutputCol(\"sentence_embeddings\")\n",
        "\n",
        "document_classifier = ClassifierDLModel.pretrained(model_name, \"de\") \\\n",
        "  .setInputCols([\"document\", \"sentence_embeddings\"]) \\\n",
        "  .setOutputCol(\"class\")  \n",
        "     \n",
        "nlpPipeline = Pipeline(stages=[\n",
        " document, \n",
        " embeddings,\n",
        " document_classifier\n",
        " ])"
      ],
      "execution_count": 10,
      "outputs": [
        {
          "output_type": "stream",
          "text": [
            "sent_bert_multi_cased download started this may take some time.\n",
            "Approximate size to download 638.6 MB\n",
            "[OK!]\n",
            "classifierdl_bert_news download started this may take some time.\n",
            "Approximate size to download 21.6 MB\n",
            "[OK!]\n"
          ],
          "name": "stdout"
        }
      ]
    },
    {
      "cell_type": "markdown",
      "metadata": {
        "id": "hZtgPiQPafLR"
      },
      "source": [
        "## 6. Run the pipeline"
      ]
    },
    {
      "cell_type": "code",
      "metadata": {
        "id": "DZIJCK75_AeC"
      },
      "source": [
        "empty_df = spark.createDataFrame([['']]).toDF(\"text\")\n",
        "\n",
        "pipelineModel = nlpPipeline.fit(empty_df)\n",
        "df = spark.createDataFrame(pd.DataFrame({\"text\":text_list}))\n",
        "result = pipelineModel.transform(df)"
      ],
      "execution_count": 11,
      "outputs": []
    },
    {
      "cell_type": "markdown",
      "metadata": {
        "id": "GM8GfPB5aSCu"
      },
      "source": [
        "## 7. Visualize results"
      ]
    },
    {
      "cell_type": "code",
      "metadata": {
        "colab": {
          "base_uri": "https://localhost:8080/"
        },
        "id": "qeDbR4Gd_uo0",
        "outputId": "605755aa-66c1-42e1-a0cb-86e883dda3bf"
      },
      "source": [
        "\n",
        "result.select(F.explode(F.arrays_zip('document.result', 'class.result')).alias(\"cols\")) \\\n",
        ".select(F.expr(\"cols['0']\").alias(\"document\"),\n",
        "        F.expr(\"cols['1']\").alias(\"class\")).show(truncate=False)"
      ],
      "execution_count": 12,
      "outputs": [
        {
          "output_type": "stream",
          "text": [
            "+-----------------------------------------------------------------------------------------------------------------------------------------------------------------------------------------------------------------------------------------------------------------------------------------------------------------------------------------------------------------------------------------------------------------------+------------+\n",
            "|document                                                                                                                                                                                                                                                                                                                                                                                                               |class       |\n",
            "+-----------------------------------------------------------------------------------------------------------------------------------------------------------------------------------------------------------------------------------------------------------------------------------------------------------------------------------------------------------------------------------------------------------------------+------------+\n",
            "|Dramatische Partie wird erst im Shootout entschieden bedeutet den ersten meistertitel seit 22 jahren. Wien a hc wien hat am sonntag beim final-vier-turnier der asterreichischen hockey-bundesliga triumphiert. Hc besiegte titelverteidiger sv arminen in einem dramatischen Endspiel 2:0 nach Shootout. Nach der verlangerung war es in wien 1:1 gestanden.                                                          |Sport       |\n",
            "|Vertrag bis saisonende a meistertitel soll her. Warschau a stanislaw tschertschessow ist neuer trainer von legia warschau. Der ehemalige tormann und trainer des fc tirol unterzeichnete beim polnischen cupsieger einen vertrag bis saisonende und tritt die nachfolge des entlassenen norwegischen ex-internationalen henning berg an.                                                                               |Sport       |\n",
            "|Auch in den supermarkten machte sich die bankenkrise bemerkbar. Vor allem grundnahrungsmittel wie reis, mehl und bohnen wurden wieder in groayen mengen gekauft. Regale mit keksen und griechischem stangerlgeback waren weitgehend leer. Kunden schleppten groaye fanf-liter-kanister mit olivenal zur kasse. Dort wird weiter eher mit bargeld als mit kreditkarte bezahlt.                                          |Wirtschaft  |\n",
            "|Rund 64.000 euro flossen von andra rupprechters ressort in die zeitschrift, an der der vp-bauernbund beteiligt ist. Wien a inserate der ministerien haben schon oft die gemater erregt. Sogar die justiz nahm sich der angelegenheit an, die staatsanwaltschaft stellte die ermittlungen wegen verdachts der untreue aber 2013 ein.                                                                                    |Wirtschaft  |\n",
            "|Vorstandsvorsitzender des fc bayern lasst interessenten abblitzen und will weitere starspieler nach manchen lotsen. Manchen a bayern manchens vorstandsvorsitzender karl-heinz rummenigge hat allen interessenten an fuayball-nationalspieler thomas maller erneut eine klare absage erteilt. Thomas ist unverkauflich, sagte er in einem interview des magazins sport bild (mittwoch).                                |Sport       |\n",
            "|Mit timothy peake geht erstmals auch ein britischer astronaut an bord der iss. Baikonur/london a am frahen dienstagabend erreichte eine sojus mit drei raumfahrern an bord die international space station (iss). Um 18:33 mez dockte das raumschiff rund 400 kilometer aber indien an, wie die nasa per kurznachrichtendienst twitter mitteilte.                                                                      |Wissenschaft|\n",
            "|Die beiden neuen modelle aberraschen mit niedrigen preisen, die vorab ins netz gelangt sind. Am dienstagabend wird google seine zwei neuen nexus-modelle offiziell vorstellen. Allerdings darfte es nur mehr wenige details geben, die interessierte beobachter aberraschen.                                                                                                                                           |Web         |\n",
            "|Ist es ein wal, der seeelefant oder das flusspferd? Der wettbewerb um das fetteste tier der erde hat einen verblaffenden sieger. London/wien a wahrend wir menschen an winterspeck wenig freude haben, entscheidet er im tierreich aber tod oder aberleben. Aber welches tier bringt davon nun am meisten auf die waage? Dieser frage, die gar nicht so leicht zu beantworten ist, ging die bbc karzlich auf die spur. |Wissenschaft|\n",
            "|Youtuber nimmt apple-smartphones mit ak-74 unter beschuss. Aber langere zeit erfreuten sich sogenannte droptests auf youtube hoher beliebtheit. Auch heute noch lassen videomacher neue smartphones und ahnliche produkte, teilweise spektakular per zeitlupenkamera inszeniert, auf den boden fallen und versuchen, aus dem ergebnis auf die verarbeitungs- und materialqualitat des jeweiligen gerats zu schlieayen. |Web         |\n",
            "+-----------------------------------------------------------------------------------------------------------------------------------------------------------------------------------------------------------------------------------------------------------------------------------------------------------------------------------------------------------------------------------------------------------------------+------------+\n",
            "\n"
          ],
          "name": "stdout"
        }
      ]
    }
  ]
}

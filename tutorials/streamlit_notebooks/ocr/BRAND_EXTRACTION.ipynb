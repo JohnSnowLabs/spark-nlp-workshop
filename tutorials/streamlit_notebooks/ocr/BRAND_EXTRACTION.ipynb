{
  "cells": [
    {
      "cell_type": "markdown",
      "source": [
        "\n",
        "![JohnSnowLabs](https://nlp.johnsnowlabs.com/assets/images/logo.png)\n",
        "\n",
        "[![Open In Colab](https://colab.research.google.com/assets/colab-badge.svg)](https://colab.research.google.com/github/JohnSnowLabs/spark-nlp-workshop/blob/master/tutorials/streamlit_notebooks/ocr/BRAND_EXTRACTION.ipynb)"
      ],
      "metadata": {
        "id": "dXsNgwMci7Pe"
      }
    },
    {
      "cell_type": "markdown",
      "metadata": {
        "id": "9VBe8ZR1iikD"
      },
      "source": [
        "# **Example of usage Spark OCR with Image Brands Extractions**"
      ]
    },
    {
      "cell_type": "markdown",
      "source": [
        "## 🔎**Colab Setup** "
      ],
      "metadata": {
        "id": "k83ikkC_lek-"
      }
    },
    {
      "cell_type": "code",
      "source": [
        "import json, os\n",
        "from google.colab import files\n",
        "\n",
        "if 'spark_jsl.json' not in os.listdir():\n",
        "  license_keys = files.upload()\n",
        "  os.rename(list(license_keys.keys())[0], 'spark_ocr.json')\n",
        "\n",
        "with open('spark_ocr.json') as f:\n",
        "    license_keys = json.load(f)\n",
        "\n",
        "# Defining license key-value pairs as local variables\n",
        "locals().update(license_keys)"
      ],
      "metadata": {
        "id": "_BAN7QdPku_v"
      },
      "execution_count": null,
      "outputs": []
    },
    {
      "cell_type": "code",
      "source": [
        "# Installing pyspark and spark-nlp\n",
        "! pip install --upgrade -q pyspark==3.0.2 spark-nlp==$PUBLIC_VERSION\n",
        "\n",
        "# Installing Spark OCR\n",
        "! pip install spark-ocr==$OCR_VERSION\\+spark30 --extra-index-url=https://pypi.johnsnowlabs.com/$SPARK_OCR_SECRET --upgrade"
      ],
      "metadata": {
        "id": "qjTZnhb9kzDW"
      },
      "execution_count": null,
      "outputs": []
    },
    {
      "cell_type": "markdown",
      "source": [
        "<b><h1><font color='darkred'>!!! ATTENTION !!! </font><h1><b>\n",
        "\n",
        "<b>After running previous cell, <font color='darkred'>RESTART the COLAB RUNTIME </font> and go ahead.<b>"
      ],
      "metadata": {
        "id": "01sNiHDZk2uz"
      }
    },
    {
      "cell_type": "code",
      "source": [
        "import json, os\n",
        "\n",
        "with open(\"spark_ocr.json\", 'r') as f:\n",
        "  license_keys = json.load(f)\n",
        "\n",
        "# Adding license key-value pairs to environment variables\n",
        "os.environ.update(license_keys)\n",
        "\n",
        "# Defining license key-value pairs as local variables\n",
        "locals().update(license_keys)"
      ],
      "metadata": {
        "id": "1wUGDYwslTN1"
      },
      "execution_count": 1,
      "outputs": []
    },
    {
      "cell_type": "markdown",
      "metadata": {
        "id": "3pTBKJDpiikI"
      },
      "source": [
        "\n",
        "\n",
        "## **🔎Import OCR transformers**"
      ]
    },
    {
      "cell_type": "code",
      "source": [
        "import sparkocr\n",
        "import sys\n",
        "from pyspark.sql import SparkSession\n",
        "from sparkocr import start\n",
        "import base64\n",
        "from sparkocr.transformers import *\n",
        "from pyspark.ml import PipelineModel, Pipeline\n",
        "from pyspark.sql import functions as F\n",
        "from pyspark.sql.functions import  col\n",
        "from sparkocr.enums import *\n",
        "from termcolor import colored\n",
        "from sparkocr.utils import display_images, display_image"
      ],
      "metadata": {
        "id": "MlbOHuXClXg6"
      },
      "execution_count": 2,
      "outputs": []
    },
    {
      "cell_type": "code",
      "source": [
        "# Start spark\n",
        "spark = sparkocr.start(secret=SPARK_OCR_SECRET, \n",
        "                       nlp_version=PUBLIC_VERSION\n",
        "                       )\n",
        "\n",
        "spark"
      ],
      "metadata": {
        "colab": {
          "base_uri": "https://localhost:8080/",
          "height": 277
        },
        "id": "qm9AcwNBlxCA",
        "outputId": "b9996ad5-168a-4ff6-fc06-ebde69fb5700"
      },
      "execution_count": 3,
      "outputs": [
        {
          "output_type": "stream",
          "name": "stdout",
          "text": [
            "Spark version: 3.0.2\n",
            "Spark NLP version: 3.4.4\n",
            "Spark OCR version: 3.12.0\n",
            "\n"
          ]
        },
        {
          "output_type": "execute_result",
          "data": {
            "text/plain": [
              "<pyspark.sql.session.SparkSession at 0x7fd45cee54d0>"
            ],
            "text/html": [
              "\n",
              "            <div>\n",
              "                <p><b>SparkSession - in-memory</b></p>\n",
              "                \n",
              "        <div>\n",
              "            <p><b>SparkContext</b></p>\n",
              "\n",
              "            <p><a href=\"http://6b13ef7e5675:4040\">Spark UI</a></p>\n",
              "\n",
              "            <dl>\n",
              "              <dt>Version</dt>\n",
              "                <dd><code>v3.0.2</code></dd>\n",
              "              <dt>Master</dt>\n",
              "                <dd><code>local[*]</code></dd>\n",
              "              <dt>AppName</dt>\n",
              "                <dd><code>Spark OCR</code></dd>\n",
              "            </dl>\n",
              "        </div>\n",
              "        \n",
              "            </div>\n",
              "        "
            ]
          },
          "metadata": {},
          "execution_count": 3
        }
      ]
    },
    {
      "cell_type": "code",
      "source": [
        "spark.conf.set(\"spark.sql.legacy.allowUntypedScalaUDF\", True)\n",
        "print(spark.conf.get(\"spark.sql.legacy.allowUntypedScalaUDF\"))"
      ],
      "metadata": {
        "colab": {
          "base_uri": "https://localhost:8080/"
        },
        "id": "AsQGyF1Yl2TD",
        "outputId": "1b1fe78b-679e-43c0-bb40-64fcc512783a"
      },
      "execution_count": 4,
      "outputs": [
        {
          "output_type": "stream",
          "name": "stdout",
          "text": [
            "true\n"
          ]
        }
      ]
    },
    {
      "cell_type": "markdown",
      "source": [
        "## **🔎Define OCR transformers and pipeline**"
      ],
      "metadata": {
        "id": "R7nhZPxKxtSR"
      }
    },
    {
      "cell_type": "code",
      "source": [
        "# Read binary as image\n",
        "binary_to_image = BinaryToImage()\n",
        "binary_to_image.setInputCol(\"content\")\n",
        "binary_to_image.setOutputCol(\"image\")\n",
        "\n",
        "# Binarize using adaptive tresholding\n",
        "binarizer = ImageAdaptiveThresholding()\n",
        "binarizer.setInputCol(\"image\")\n",
        "binarizer.setOutputCol(\"binarized_image\")\n",
        "\n",
        "# Apply morphology operation\n",
        "operation = ImageMorphologyOperation()\n",
        "operation.setKernelShape(KernelShape.SQUARE)\n",
        "operation.setKernelSize(2)\n",
        "operation.setInputCol(\"binarized_image\")\n",
        "operation.setOutputCol(\"opening_image\")\n",
        "\n",
        "# Remove small objects\n",
        "remove_objects = ImageRemoveObjects()\n",
        "remove_objects.setInputCol(\"opening_image\")\n",
        "remove_objects.setOutputCol(\"corrected_image\")\n",
        "remove_objects.setMinSizeFont(48)\n",
        "\n",
        "# Run tesseract OCR for corrected image\n",
        "ocr_corrected = ImageBrandsToText()\n",
        "ocr_corrected.setInputCol(\"corrected_image\")\n",
        "ocr_corrected.setOutputCol(\"image_brands\")\n",
        "ocr_corrected.setIgnoreResolution(False)\n",
        "ocr_corrected.setOcrParams([\"preserve_interword_spaces=1\", ])\n",
        "ocr_corrected.setPageSegMode(PageSegmentationMode.SINGLE_WORD)\n",
        "ocr_corrected.setBrandsCoords(\"\"\"\n",
        "              [\n",
        "                 {\n",
        "                    \"name\": \"name\",\n",
        "                    \"rectangle\": {\n",
        "                       \"x\": 249,\n",
        "                       \"y\": 158,\n",
        "                       \"width\": 204,\n",
        "                       \"height\": 23\n",
        "                    }\n",
        "                 },\n",
        "                 {\n",
        "                    \"name\": \"issue_date\",\n",
        "                    \"rectangle\": {\n",
        "                       \"x\": 639,\n",
        "                       \"y\": 156,\n",
        "                       \"width\": 129,\n",
        "                       \"height\": 20\n",
        "                    }\n",
        "                 },\n",
        "                 {\n",
        "                    \"name\": \"serial_number\",\n",
        "                    \"rectangle\": {\n",
        "                       \"x\": 570,\n",
        "                       \"y\": 339,\n",
        "                       \"width\": 188,\n",
        "                       \"height\": 33\n",
        "                    }\n",
        "                 }\n",
        "              ]\n",
        "\n",
        "\"\"\")\n",
        "\n",
        "# OCR pipeline\n",
        "pipeline = Pipeline(stages=[\n",
        "    binary_to_image,\n",
        "    binarizer,\n",
        "    operation,\n",
        "    remove_objects,\n",
        "    ocr_corrected ])\n"
      ],
      "metadata": {
        "id": "IsDuVsRaxJsg"
      },
      "execution_count": 5,
      "outputs": []
    },
    {
      "cell_type": "markdown",
      "metadata": {
        "id": "goC64lyiiikI"
      },
      "source": [
        "## **🔎Read Image as binary file**"
      ]
    },
    {
      "cell_type": "code",
      "source": [
        "!wget -q https://raw.githubusercontent.com/JohnSnowLabs/spark-nlp-workshop/master/tutorials/streamlit_notebooks/ocr/data/brand_extraction_2.jpg"
      ],
      "metadata": {
        "id": "OoOqEHKXgHJ2"
      },
      "execution_count": 6,
      "outputs": []
    },
    {
      "cell_type": "code",
      "execution_count": 7,
      "metadata": {
        "id": "kz589mgiiikI"
      },
      "outputs": [],
      "source": [
        "image_path = 'brand_extraction_2.jpg'\n",
        "image_df = spark.read.format(\"binaryFile\").load(image_path)"
      ]
    },
    {
      "cell_type": "markdown",
      "source": [
        "## **🔎Run OCR pipelines**"
      ],
      "metadata": {
        "id": "qzdi_WVey9Zt"
      }
    },
    {
      "cell_type": "code",
      "source": [
        "ocr_result = pipeline.fit(image_df).transform(image_df).cache()"
      ],
      "metadata": {
        "id": "kvzUX9F8PSm4"
      },
      "execution_count": 8,
      "outputs": []
    },
    {
      "cell_type": "markdown",
      "source": [
        "## **🔎Results**"
      ],
      "metadata": {
        "id": "UfIGrcvVzHt0"
      }
    },
    {
      "cell_type": "code",
      "source": [
        "results = ocr_result.select(col(\"corrected_image\"),col(\"path\"),col(\"image_brands.name.text\").alias(\"name\"),col(\"image_brands.issue_date.text\").alias(\"issue_date\"),\\\n",
        "                            col(\"image_brands.serial_number.text\").alias(\"serial_number\")).collect()\n",
        "for row in results:\n",
        "    display_image(row.corrected_image)\n",
        "    print(colored(\"path:\\n%s\" % row.path, \"red\"))\n",
        "    print(\"Name:\\n%s\" % row.name)\n",
        "    print(\"Issue Date:\\n%s\" % row.issue_date)\n",
        "    print(\"Serial Number:\\n%s\" % row.serial_number)\n",
        "    "
      ],
      "metadata": {
        "colab": {
          "base_uri": "https://localhost:8080/",
          "height": 776
        },
        "id": "zceRcAJyzHbE",
        "outputId": "0dc9a78a-3b5b-4458-86e8-5e5997448d87"
      },
      "execution_count": 9,
      "outputs": [
        {
          "output_type": "stream",
          "name": "stdout",
          "text": [
            "\n",
            "    Image #0:\n",
            "    Origin: file:/content/brand_extraction_2.jpg\n",
            "    Resolution: 96 dpi\n",
            "    Width: 822 px\n",
            "    Height: 447 px\n",
            "    Mode: ImageType.TYPE_BYTE_BINARY\n",
            "    Number of channels: 1\n"
          ]
        },
        {
          "output_type": "display_data",
          "data": {
            "text/plain": [
              "<PIL.Image.Image image mode=1 size=822x447 at 0x7FD45CF208D0>"
            ],
            "image/png": "[encoded data removed]"
          },
          "metadata": {
            "width": 600
          }
        },
        {
          "output_type": "stream",
          "name": "stdout",
          "text": [
            "\u001b[31mpath:\n",
            "file:/content/brand_extraction_2.jpg\u001b[0m\n",
            "Name:\n",
            "{Miss Cecelia L, Xing.\n",
            "\n",
            "Issue Date:\n",
            " June 1956 >\n",
            "\n",
            "Serial Number:\n",
            "L316 724327E\n",
            "\n"
          ]
        }
      ]
    }
  ],
  "metadata": {
    "kernelspec": {
      "display_name": "Python 3",
      "language": "python",
      "name": "python3"
    },
    "language_info": {
      "codemirror_mode": {
        "name": "ipython",
        "version": 3
      },
      "file_extension": ".py",
      "mimetype": "text/x-python",
      "name": "python",
      "nbconvert_exporter": "python",
      "pygments_lexer": "ipython3",
      "version": "3.7.9"
    },
    "colab": {
      "name": "BRAND_EXTRACTION.ipynb",
      "provenance": [],
      "collapsed_sections": []
    }
  },
  "nbformat": 4,
  "nbformat_minor": 0
}
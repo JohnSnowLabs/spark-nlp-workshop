{
  "nbformat": 4,
  "nbformat_minor": 0,
  "metadata": {
    "kernelspec": {
      "display_name": "Python 3",
      "language": "python",
      "name": "python3"
    },
    "language_info": {
      "codemirror_mode": {
        "name": "ipython",
        "version": 3
      },
      "file_extension": ".py",
      "mimetype": "text/x-python",
      "name": "python",
      "nbconvert_exporter": "python",
      "pygments_lexer": "ipython3",
      "version": "3.7.7"
    },
    "colab": {
      "name": "PDF_TO_TEXT.ipynb",
      "provenance": [],
      "collapsed_sections": [],
      "toc_visible": true
    }
  },
  "cells": [
    {
      "cell_type": "markdown",
      "metadata": {
        "id": "w-pyfWT3a6S4"
      },
      "source": [
        "![JohnSnowLabs](https://nlp.johnsnowlabs.com/assets/images/logo.png)\n",
        "\n",
        "[![Open In Colab](https://colab.research.google.com/assets/colab-badge.svg)](https://colab.research.google.com/github/JohnSnowLabs/spark-nlp-workshop/blob/master/tutorials/streamlit_notebooks/ocr/PDF_TO_TEXT.ipynb)"
      ]
    },
    {
      "cell_type": "markdown",
      "metadata": {
        "id": "NWU8Tl9Fa3eT"
      },
      "source": [
        "# PDF to Text"
      ]
    },
    {
      "cell_type": "markdown",
      "metadata": {
        "id": "8DtUIwnIa3eU"
      },
      "source": [
        "To run this yourself, you will need to upload your **Spark OCR** license keys to the notebook. Otherwise, you can look at the example outputs at the bottom of the notebook. To upload license keys, open the file explorer on the left side of the screen and upload `workshop_license_keys.json` to the folder that opens."
      ]
    },
    {
      "cell_type": "markdown",
      "metadata": {
        "id": "FAbRkMvtz-Gl"
      },
      "source": [
        "For more in-depth tutorials: https://github.com/JohnSnowLabs/spark-ocr-workshop/tree/master/jupyter"
      ]
    },
    {
      "cell_type": "markdown",
      "metadata": {
        "id": "xdROQW5ScYKA"
      },
      "source": [
        "## 1. Colab Setup"
      ]
    },
    {
      "cell_type": "markdown",
      "metadata": {
        "id": "x78T5abRkFaW"
      },
      "source": [
        "Install correct version of Pillow and Restart runtime"
      ]
    },
    {
      "cell_type": "code",
      "metadata": {
        "id": "fUeMlVj1a3eV"
      },
      "source": [
        "import json\n",
        "import os\n",
        "\n",
        "from google.colab import files\n",
        "\n",
        "license_keys = files.upload()\n",
        "os.rename(list(license_keys.keys())[0], 'spark_ocr.json')\n",
        "\n",
        "with open('spark_ocr.json') as f:\n",
        "    license_keys = json.load(f)\n",
        "\n",
        "# Defining license key-value pairs as local variables\n",
        "locals().update(license_keys)"
      ],
      "execution_count": null,
      "outputs": []
    },
    {
      "cell_type": "markdown",
      "metadata": {
        "id": "74VqnE1reEFC"
      },
      "source": [
        "Install Dependencies"
      ]
    },
    {
      "cell_type": "code",
      "metadata": {
        "id": "ErndQ8oea3eY"
      },
      "source": [
        "# Installing pyspark and spark-nlp\n",
        "! pip install --upgrade -q pyspark==3.0.2 spark-nlp==$PUBLIC_VERSION\n",
        "\n",
        "# Installing Spark OCR\n",
        "! pip install spark-ocr==$OCR_VERSION\\+spark30 --extra-index-url=https://pypi.johnsnowlabs.com/$SPARK_OCR_SECRET --upgrade"
      ],
      "execution_count": null,
      "outputs": []
    },
    {
      "cell_type": "markdown",
      "source": [
        "<b><h1><font color='darkred'>!!! ATTENTION !!! </font><h1><b>\n",
        "\n",
        "<b>After running previous cell, <font color='darkred'>RESTART the COLAB RUNTIME </font> and go ahead.<b>"
      ],
      "metadata": {
        "id": "yNycew7jChs3"
      }
    },
    {
      "cell_type": "markdown",
      "metadata": {
        "id": "eVt8BQaaeGp5"
      },
      "source": [
        "Importing Libraries"
      ]
    },
    {
      "cell_type": "code",
      "source": [
        "import json, os\n",
        "\n",
        "with open(\"spark_ocr.json\", 'r') as f:\n",
        "  license_keys = json.load(f)\n",
        "\n",
        "# Adding license key-value pairs to environment variables\n",
        "os.environ.update(license_keys)\n",
        "\n",
        "# Defining license key-value pairs as local variables\n",
        "locals().update(license_keys)"
      ],
      "metadata": {
        "id": "nwWwGtemCfj-"
      },
      "execution_count": 1,
      "outputs": []
    },
    {
      "cell_type": "code",
      "metadata": {
        "id": "cn4in75Ha3eb"
      },
      "source": [
        "import pandas as pd\n",
        "import numpy as np\n",
        "import os\n",
        "\n",
        "#Pyspark Imports\n",
        "from pyspark.sql import SparkSession\n",
        "from pyspark.ml import PipelineModel\n",
        "from pyspark.sql import functions as F\n",
        "\n",
        "# Necessary imports from Spark OCR library\n",
        "import sparkocr\n",
        "from sparkocr import start\n",
        "from sparkocr.transformers import *\n",
        "from sparkocr.enums import *\n",
        "from sparkocr.utils import display_image, to_pil_image\n",
        "from sparkocr.metrics import score\n",
        "import pkg_resources\n",
        "\n",
        "# import sparknlp packages\n",
        "from sparknlp.annotator import *\n",
        "from sparknlp.base import *"
      ],
      "execution_count": 2,
      "outputs": []
    },
    {
      "cell_type": "markdown",
      "metadata": {
        "id": "pmAnLt26eMHu"
      },
      "source": [
        "Start Spark Session"
      ]
    },
    {
      "cell_type": "code",
      "metadata": {
        "id": "BXtlGP0aa3ee",
        "colab": {
          "base_uri": "https://localhost:8080/"
        },
        "outputId": "886ed762-e15e-4d38-d0e4-be45df562bd8"
      },
      "source": [
        "spark = sparkocr.start(secret=SPARK_OCR_SECRET, \n",
        "                       nlp_version=PUBLIC_VERSION\n",
        "                       )"
      ],
      "execution_count": 3,
      "outputs": [
        {
          "output_type": "stream",
          "name": "stdout",
          "text": [
            "Spark version: 3.0.2\n",
            "Spark NLP version: 3.3.4\n",
            "Spark OCR version: 3.9.1\n",
            "\n"
          ]
        }
      ]
    },
    {
      "cell_type": "markdown",
      "metadata": {
        "id": "x6caZBlia3et"
      },
      "source": [
        "## 2. Download and read a pdf file"
      ]
    },
    {
      "cell_type": "code",
      "metadata": {
        "id": "Q6KK40-Q2NA0",
        "colab": {
          "base_uri": "https://localhost:8080/"
        },
        "outputId": "d625138b-fbbc-49ec-fbeb-ef1f0e2a3785"
      },
      "source": [
        "!wget http://unec.edu.az/application/uploads/2014/12/pdf-sample.pdf -O sample.pdf"
      ],
      "execution_count": 4,
      "outputs": [
        {
          "output_type": "stream",
          "name": "stdout",
          "text": [
            "--2022-01-10 17:32:18--  http://unec.edu.az/application/uploads/2014/12/pdf-sample.pdf\n",
            "Resolving unec.edu.az (unec.edu.az)... 144.76.199.105\n",
            "Connecting to unec.edu.az (unec.edu.az)|144.76.199.105|:80... connected.\n",
            "HTTP request sent, awaiting response... 200 OK\n",
            "Length: 7945 (7.8K) [application/pdf]\n",
            "Saving to: ‘sample.pdf’\n",
            "\n",
            "sample.pdf          100%[===================>]   7.76K  --.-KB/s    in 0s      \n",
            "\n",
            "2022-01-10 17:32:18 (389 MB/s) - ‘sample.pdf’ saved [7945/7945]\n",
            "\n"
          ]
        }
      ]
    },
    {
      "cell_type": "code",
      "metadata": {
        "id": "ApsEfUpfa3eu",
        "colab": {
          "base_uri": "https://localhost:8080/"
        },
        "outputId": "7a2f58dd-749b-4b40-dc91-da95b5667bce"
      },
      "source": [
        "image_df = spark.read.format(\"binaryFile\").load('sample.pdf').cache()\n",
        "image_df.show()"
      ],
      "execution_count": 5,
      "outputs": [
        {
          "output_type": "stream",
          "name": "stdout",
          "text": [
            "+--------------------+-------------------+------+--------------------+\n",
            "|                path|   modificationTime|length|             content|\n",
            "+--------------------+-------------------+------+--------------------+\n",
            "|file:/content/sam...|2014-12-29 12:10:50|  7945|[25 50 44 46 2D 3...|\n",
            "+--------------------+-------------------+------+--------------------+\n",
            "\n"
          ]
        }
      ]
    },
    {
      "cell_type": "markdown",
      "metadata": {
        "id": "mxZlmX-ieyqE"
      },
      "source": [
        "## 3. Construct the OCR pipeline"
      ]
    },
    {
      "cell_type": "code",
      "metadata": {
        "id": "f9vo_4vua3er"
      },
      "source": [
        "pdf_to_image = PdfToImage() \\\n",
        "            .setInputCol(\"content\") \\\n",
        "            .setOutputCol(\"image_raw\") \\\n",
        "            .setKeepInput(True)\n",
        "\n",
        "# Transform image to the binary color model\n",
        "binarizer = ImageBinarizer() \\\n",
        "            .setInputCol(\"image_raw\") \\\n",
        "            .setOutputCol(\"image\") \\\n",
        "            .setThreshold(130)\n",
        "# Run OCR for each region\n",
        "ocr = ImageToText() \\\n",
        "            .setInputCol(\"image\") \\\n",
        "            .setOutputCol(\"text\") \\\n",
        "            .setIgnoreResolution(False) \\\n",
        "            .setPageSegMode(PageSegmentationMode.SPARSE_TEXT) \\\n",
        "            .setConfidenceThreshold(60)\n",
        "\n",
        "#Render text with positions to Pdf document.\n",
        "textToPdf = TextToPdf() \\\n",
        "            .setInputCol(\"positions\") \\\n",
        "            .setInputImage(\"image\") \\\n",
        "            .setInputText(\"text\") \\\n",
        "            .setOutputCol(\"pdf\") \\\n",
        "            .setInputContent(\"content\")\n",
        "# OCR pipeline\n",
        "pipeline = PipelineModel(stages=[\n",
        "            pdf_to_image,\n",
        "            binarizer,\n",
        "            ocr,\n",
        "            textToPdf\n",
        "        ])"
      ],
      "execution_count": 6,
      "outputs": []
    },
    {
      "cell_type": "markdown",
      "metadata": {
        "id": "vd74DK4ha3ew"
      },
      "source": [
        "## 4. Run OCR pipeline"
      ]
    },
    {
      "cell_type": "code",
      "metadata": {
        "id": "o5Wh9ysOa3ew"
      },
      "source": [
        "result = pipeline.transform(image_df).cache()"
      ],
      "execution_count": 7,
      "outputs": []
    },
    {
      "cell_type": "markdown",
      "metadata": {
        "id": "_uC_egLWa3ez"
      },
      "source": [
        "## 5. Visualize Results"
      ]
    },
    {
      "cell_type": "markdown",
      "metadata": {
        "id": "wyIew0rVgnPM"
      },
      "source": [
        "Display result dataframe"
      ]
    },
    {
      "cell_type": "code",
      "metadata": {
        "id": "dCOLYbB5a3ez",
        "colab": {
          "base_uri": "https://localhost:8080/"
        },
        "outputId": "f37db975-ac9b-4098-c2eb-a6af7de2d2b2"
      },
      "source": [
        "result.select(\"text\").show()"
      ],
      "execution_count": 8,
      "outputs": [
        {
          "output_type": "stream",
          "name": "stdout",
          "text": [
            "+--------------------+\n",
            "|                text|\n",
            "+--------------------+\n",
            "|[Adobe Acrobat PD...|\n",
            "+--------------------+\n",
            "\n"
          ]
        }
      ]
    },
    {
      "cell_type": "markdown",
      "metadata": {
        "id": "2C_VFRVIa3e6"
      },
      "source": [
        "Display text"
      ]
    },
    {
      "cell_type": "code",
      "metadata": {
        "id": "hJZGPMJna3e6",
        "colab": {
          "base_uri": "https://localhost:8080/",
          "height": 595
        },
        "outputId": "6ac4d7e3-c5c1-4471-99d4-0dc3d99ee4ee"
      },
      "source": [
        "result_arr = []\n",
        "for r in result.distinct().collect():\n",
        "  for page in r.text:\n",
        "    print (page)\n",
        "    result_arr.append(page)"
      ],
      "execution_count": null,
      "outputs": [
        {
          "output_type": "stream",
          "text": [
            "Adobe Acrobat PDF Files\n",
            "\n",
            "Adobe® Portable Document Format (PDF) is a universal file format that preserves all\n",
            "\n",
            "of the fonts, formatting, colours and graphics of any source document, regardless of\n",
            "\n",
            "the application and platform used to create it.\n",
            "\n",
            "Adobe PDF is an ideal format for electronic document distribution as it overcomes the\n",
            "\n",
            "problems commonly encountered with electronic file sharing.\n",
            "\n",
            "Anyone, anywhere can open a PDF file. All you need is the free Adobe Acrobat\n",
            "\n",
            "Reader. Recipients of other file formats sometimes can't open files because they\n",
            "\n",
            "don't have the applications used to create the documents.\n",
            "\n",
            "PDF files always print correctly on any printing device.\n",
            "\n",
            "PDF files always display exactly as created, regardless of fonts, software, and\n",
            "\n",
            "operating systems. Fonts, and graphics are not lost due to platform, software, and\n",
            "\n",
            "version incompatibilities.\n",
            "\n",
            "The free Acrobat Reader is easy to download and can be freely distributed by\n",
            "\n",
            "anyone.\n",
            "\n",
            "Compact PDF files are smaller than their source files and download a\n",
            "\n",
            "page at a time for fast display on the Web.\n",
            "\n"
          ],
          "name": "stdout"
        }
      ]
    }
  ]
}
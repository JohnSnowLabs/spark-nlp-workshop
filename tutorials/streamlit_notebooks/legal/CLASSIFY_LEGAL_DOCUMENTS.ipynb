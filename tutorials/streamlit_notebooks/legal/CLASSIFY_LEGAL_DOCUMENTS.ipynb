{
 "cells": [
  {
   "cell_type": "code",
   "execution_count": 1,
   "id": "748a6ff1-8baf-4d7e-a4de-022bcbfad7f5",
   "metadata": {},
   "outputs": [
    {
     "name": "stderr",
     "output_type": "stream",
     "text": [
      "22/10/24 15:11:56 WARN NativeCodeLoader: Unable to load native-hadoop library for your platform... using builtin-java classes where applicable\n",
      "Using Spark's default log4j profile: org/apache/spark/log4j-defaults.properties\n",
      "Setting default log level to \"WARN\".\n",
      "To adjust logging level use sc.setLogLevel(newLevel). For SparkR, use setLogLevel(newLevel).\n"
     ]
    },
    {
     "name": "stdout",
     "output_type": "stream",
     "text": [
      "👌 Launched \u001b[92mcpu-Optimized JVM\u001b[39m SparkSession with Jars for: 🚀Spark-NLP==4.2.1, 💊Spark-Healthcare==4.2.0, running on ⚡ PySpark==3.1.2\n"
     ]
    }
   ],
   "source": [
    "from johnsnowlabs import *\n",
    "spark = jsl.start(json_license_path=\"...\")"
   ]
  },
  {
   "cell_type": "code",
   "execution_count": 2,
   "id": "4d3e04c0-eeb4-4822-b074-273620ee389b",
   "metadata": {},
   "outputs": [
    {
     "name": "stdout",
     "output_type": "stream",
     "text": [
      "legal_longformer_base download started this may take some time.\n",
      "Approximate size to download 506.5 MB\n",
      "[ | ]legal_longformer_base download started this may take some time.\n",
      "Approximate size to download 506.5 MB\n",
      "[ — ]Download done! Loading the resource.\n",
      "[ — ]"
     ]
    },
    {
     "name": "stderr",
     "output_type": "stream",
     "text": [
      "2022-10-24 15:12:52.074023: I external/org_tensorflow/tensorflow/core/platform/cpu_feature_guard.cc:151] This TensorFlow binary is optimized with oneAPI Deep Neural Network Library (oneDNN) to use the following CPU instructions in performance-critical operations:  AVX2 FMA\n",
      "To enable them in other operations, rebuild TensorFlow with the appropriate compiler flags.\n"
     ]
    },
    {
     "name": "stdout",
     "output_type": "stream",
     "text": [
      "[OK!]\n",
      "legclf_consulting_agreement download started this may take some time.\n",
      "Approximate size to download 20.3 MB\n",
      "[ | ]legclf_consulting_agreement download started this may take some time.\n",
      "Approximate size to download 20.3 MB\n",
      "Download done! Loading the resource.\n",
      "[OK!]\n",
      "legclf_credit_agreement download started this may take some time.\n",
      "Approximate size to download 20.5 MB\n",
      "[ | ]legclf_credit_agreement download started this may take some time.\n",
      "Approximate size to download 20.5 MB\n",
      "Download done! Loading the resource.\n",
      "[OK!]\n",
      "legclf_employment_agreement download started this may take some time.\n",
      "Approximate size to download 19.8 MB\n",
      "[ | ]legclf_employment_agreement download started this may take some time.\n",
      "Approximate size to download 19.8 MB\n",
      "Download done! Loading the resource.\n",
      "[OK!]\n",
      "legclf_lease_agreement download started this may take some time.\n",
      "Approximate size to download 20 MB\n",
      "[ | ]legclf_lease_agreement download started this may take some time.\n",
      "Approximate size to download 20 MB\n",
      "[ / ]Download done! Loading the resource.\n",
      "[OK!]\n",
      "legclf_loan_agreement download started this may take some time.\n",
      "Approximate size to download 20.7 MB\n",
      "[ | ]legclf_loan_agreement download started this may take some time.\n",
      "Approximate size to download 20.7 MB\n",
      "Download done! Loading the resource.\n",
      "[OK!]\n",
      "legclf_management_contract download started this may take some time.\n",
      "Approximate size to download 20 MB\n",
      "[ | ]legclf_management_contract download started this may take some time.\n",
      "Approximate size to download 20 MB\n",
      "Download done! Loading the resource.\n",
      "[OK!]\n",
      "legclf_purchase_agreement download started this may take some time.\n",
      "Approximate size to download 20 MB\n",
      "[ | ]legclf_purchase_agreement download started this may take some time.\n",
      "Approximate size to download 20 MB\n",
      "Download done! Loading the resource.\n",
      "[OK!]\n",
      "legclf_service_agreement download started this may take some time.\n",
      "Approximate size to download 20.1 MB\n",
      "[ | ]legclf_service_agreement download started this may take some time.\n",
      "Approximate size to download 20.1 MB\n",
      "[ / ]Download done! Loading the resource.\n",
      "[OK!]\n"
     ]
    }
   ],
   "source": [
    "documentAssembler = nlp.DocumentAssembler() \\\n",
    "     .setInputCol(\"text\") \\\n",
    "     .setOutputCol(\"document\")\n",
    "\n",
    "tokenizer = nlp.Tokenizer()\\\n",
    "     .setInputCols([\"document\"])\\\n",
    "     .setOutputCol(\"token\")\n",
    "\n",
    "embeddings = nlp.LongformerEmbeddings.pretrained(\"legal_longformer_base\", \"en\")\\\n",
    "    .setInputCols(\"document\", \"token\") \\\n",
    "    .setOutputCol(\"embeddings\")\n",
    "\n",
    "sembeddings = nlp.SentenceEmbeddings()\\\n",
    "    .setInputCols([\"document\", \"embeddings\"]) \\\n",
    "    .setOutputCol(\"sentence_embeddings\") \\\n",
    "    .setPoolingStrategy(\"AVERAGE\")\n",
    "\n",
    "consulting = nlp.ClassifierDLModel.pretrained('legclf_consulting_agreement', 'en', 'legal/models') \\\n",
    "    .setInputCols([\"sentence_embeddings\"])\\\n",
    "    .setOutputCol(\"is_consulting_agreement\")\n",
    "\n",
    "credit = nlp.ClassifierDLModel.pretrained('legclf_credit_agreement', 'en', 'legal/models') \\\n",
    "    .setInputCols([\"sentence_embeddings\"])\\\n",
    "    .setOutputCol(\"is_credit_agreement\")\n",
    "\n",
    "employment = nlp.ClassifierDLModel.pretrained('legclf_employment_agreement', 'en', 'legal/models') \\\n",
    "    .setInputCols([\"sentence_embeddings\"])\\\n",
    "    .setOutputCol(\"is_employment_agreement\")\n",
    "\n",
    "lease = nlp.ClassifierDLModel.pretrained('legclf_lease_agreement', 'en', 'legal/models') \\\n",
    "    .setInputCols([\"sentence_embeddings\"])\\\n",
    "    .setOutputCol(\"is_lease_agreement\")\n",
    "\n",
    "loan = nlp.ClassifierDLModel.pretrained('legclf_loan_agreement', 'en', 'legal/models') \\\n",
    "    .setInputCols([\"sentence_embeddings\"])\\\n",
    "    .setOutputCol(\"is_loan_agreement\")\n",
    "\n",
    "management = nlp.ClassifierDLModel.pretrained('legclf_management_contract', 'en', 'legal/models') \\\n",
    "    .setInputCols([\"sentence_embeddings\"])\\\n",
    "    .setOutputCol(\"is_management_contract\")\n",
    "\n",
    "purchase = nlp.ClassifierDLModel.pretrained('legclf_purchase_agreement', 'en', 'legal/models') \\\n",
    "    .setInputCols([\"sentence_embeddings\"])\\\n",
    "    .setOutputCol(\"is_purchase_agreement\")\n",
    "\n",
    "service = nlp.ClassifierDLModel.pretrained('legclf_service_agreement', 'en', 'legal/models') \\\n",
    "    .setInputCols([\"sentence_embeddings\"])\\\n",
    "    .setOutputCol(\"is_service_agreement\")"
   ]
  },
  {
   "cell_type": "code",
   "execution_count": 4,
   "id": "b15f4809-8b23-401a-9868-77257e44cdd0",
   "metadata": {},
   "outputs": [],
   "source": [
    "pipeline = nlp.Pipeline(stages = [\n",
    "    documentAssembler,\n",
    "    tokenizer,\n",
    "    embeddings,\n",
    "    sembeddings,\n",
    "    consulting,\n",
    "    credit,\n",
    "    employment,\n",
    "    lease,\n",
    "    loan,\n",
    "    management,\n",
    "    purchase,\n",
    "    service])"
   ]
  },
  {
   "cell_type": "code",
   "execution_count": 5,
   "id": "84236725-13e6-42f6-b94d-02b32ea5d8d5",
   "metadata": {},
   "outputs": [],
   "source": [
    "import os\n",
    "\n",
    "texts = []\n",
    "\n",
    "for root, dirs, files in os.walk(\"./documents\"):\n",
    "    for d in dirs:\n",
    "        with open(f\"./documents/{d}/0.txt\", 'r') as f:\n",
    "            text = f.read()\n",
    "            texts.append((d, text))\n",
    "    break"
   ]
  },
  {
   "cell_type": "code",
   "execution_count": 6,
   "id": "431ec752-ab58-4b67-bf3c-5935e4b38692",
   "metadata": {},
   "outputs": [
    {
     "data": {
      "text/html": [
       "<div>\n",
       "<style scoped>\n",
       "    .dataframe tbody tr th:only-of-type {\n",
       "        vertical-align: middle;\n",
       "    }\n",
       "\n",
       "    .dataframe tbody tr th {\n",
       "        vertical-align: top;\n",
       "    }\n",
       "\n",
       "    .dataframe thead th {\n",
       "        text-align: right;\n",
       "    }\n",
       "</style>\n",
       "<table border=\"1\" class=\"dataframe\">\n",
       "  <thead>\n",
       "    <tr style=\"text-align: right;\">\n",
       "      <th></th>\n",
       "      <th>class</th>\n",
       "      <th>text</th>\n",
       "    </tr>\n",
       "  </thead>\n",
       "  <tbody>\n",
       "    <tr>\n",
       "      <th>0</th>\n",
       "      <td>credit-agreement</td>\n",
       "      <td>Exhibit 10.1SECOND AMENDMENT TO AMENDED AND RE...</td>\n",
       "    </tr>\n",
       "    <tr>\n",
       "      <th>1</th>\n",
       "      <td>purchase-agreement</td>\n",
       "      <td>EXHIBIT 99.2\\...</td>\n",
       "    </tr>\n",
       "    <tr>\n",
       "      <th>2</th>\n",
       "      <td>management-contract</td>\n",
       "      <td>AMENDED and RESTATED MANAGEMENT CONTRACT ...</td>\n",
       "    </tr>\n",
       "    <tr>\n",
       "      <th>3</th>\n",
       "      <td>service-agreement</td>\n",
       "      <td>\\nEXHIBIT 10.27\\n \\n \\n \\nSERVICE AGREEMENT\\n...</td>\n",
       "    </tr>\n",
       "    <tr>\n",
       "      <th>4</th>\n",
       "      <td>consulting-agreement</td>\n",
       "      <td>\\n 000 Xxxxx Xxxxxx Xxxx Xxxxxxxx, Xxxx 00000\\...</td>\n",
       "    </tr>\n",
       "    <tr>\n",
       "      <th>5</th>\n",
       "      <td>lease-agreement</td>\n",
       "      <td>\\n\\n   1\\n                                    ...</td>\n",
       "    </tr>\n",
       "    <tr>\n",
       "      <th>6</th>\n",
       "      <td>loan-agreement</td>\n",
       "      <td>\\nExhibit 6.7\\n \\nAMENDED AND RESTATED LOAN AG...</td>\n",
       "    </tr>\n",
       "    <tr>\n",
       "      <th>7</th>\n",
       "      <td>employment-agreement</td>\n",
       "      <td>\\n\\n\\n                                  EXHIBI...</td>\n",
       "    </tr>\n",
       "  </tbody>\n",
       "</table>\n",
       "</div>"
      ],
      "text/plain": [
       "                  class                                               text\n",
       "0      credit-agreement  Exhibit 10.1SECOND AMENDMENT TO AMENDED AND RE...\n",
       "1    purchase-agreement                                   EXHIBIT 99.2\\...\n",
       "2   management-contract       AMENDED and RESTATED MANAGEMENT CONTRACT ...\n",
       "3     service-agreement   \\nEXHIBIT 10.27\\n \\n \\n \\nSERVICE AGREEMENT\\n...\n",
       "4  consulting-agreement  \\n 000 Xxxxx Xxxxxx Xxxx Xxxxxxxx, Xxxx 00000\\...\n",
       "5       lease-agreement  \\n\\n   1\\n                                    ...\n",
       "6        loan-agreement  \\nExhibit 6.7\\n \\nAMENDED AND RESTATED LOAN AG...\n",
       "7  employment-agreement  \\n\\n\\n                                  EXHIBI..."
      ]
     },
     "execution_count": 6,
     "metadata": {},
     "output_type": "execute_result"
    }
   ],
   "source": [
    "import pandas as pd\n",
    "\n",
    "df = pd.DataFrame(texts, columns=['class', 'text'])\n",
    "df"
   ]
  },
  {
   "cell_type": "code",
   "execution_count": 7,
   "id": "f0f3ec02-03cd-4fd3-9e3e-3e6fa9c1cb3b",
   "metadata": {},
   "outputs": [
    {
     "data": {
      "text/plain": [
       "['credit-agreement',\n",
       " 'purchase-agreement',\n",
       " 'management-contract',\n",
       " 'service-agreement',\n",
       " 'consulting-agreement',\n",
       " 'lease-agreement',\n",
       " 'loan-agreement',\n",
       " 'employment-agreement']"
      ]
     },
     "execution_count": 7,
     "metadata": {},
     "output_type": "execute_result"
    }
   ],
   "source": [
    "categories = df['class'].tolist()\n",
    "categories"
   ]
  },
  {
   "cell_type": "code",
   "execution_count": 8,
   "id": "b966a8ff-1399-426d-8a3b-54bdc916c423",
   "metadata": {},
   "outputs": [],
   "source": [
    "sdf = spark.createDataFrame([[\"\"]]).toDF(\"text\")"
   ]
  },
  {
   "cell_type": "code",
   "execution_count": 9,
   "id": "7e70fc55-8aa7-462b-aeea-3efd17408f5f",
   "metadata": {},
   "outputs": [],
   "source": [
    "fitpipe = pipeline.fit(sdf)\n",
    "lp = LightPipeline(fitpipe)"
   ]
  },
  {
   "cell_type": "code",
   "execution_count": 10,
   "id": "da73f1d3-3d4f-4a5f-be6d-65280e531457",
   "metadata": {},
   "outputs": [
    {
     "name": "stdout",
     "output_type": "stream",
     "text": [
      "expected, model, result, positive_confidence, negative_confidence\n",
      "credit-agreement, legclf_employment-agreement, FALSE, 6.256421E-7,0.9999994\n",
      "credit-agreement, legclf_consulting-agreement, FALSE, 6.9225584E-6,0.9999931\n",
      "credit-agreement, legclf_purchase-agreement, FALSE, 1.91974E-4,0.999808\n",
      "credit-agreement, legclf_management-contract, FALSE, 3.867073E-7,0.99999964\n",
      "credit-agreement, legclf_service-agreement, FALSE, 6.862126E-6,0.9999931\n",
      "credit-agreement, legclf_credit-agreement, TRUE, 0.9993468,6.5319834E-4\n",
      "credit-agreement, legclf_loan-agreement, FALSE, 0.21249497,0.787505\n",
      "credit-agreement, legclf_lease-agreement, FALSE, 0.0015328855,0.998467\n",
      "\n",
      "expected, model, result, positive_confidence, negative_confidence\n",
      "purchase-agreement, legclf_employment-agreement, FALSE, 6.3946317E-7,0.9999994\n",
      "purchase-agreement, legclf_consulting-agreement, FALSE, 3.3757082E-5,0.99996626\n",
      "purchase-agreement, legclf_purchase-agreement, TRUE, 0.9996309,3.6900994E-4\n",
      "purchase-agreement, legclf_management-contract, FALSE, 1.1806625E-5,0.9999882\n",
      "purchase-agreement, legclf_service-agreement, FALSE, 1.5662017E-7,0.9999999\n",
      "purchase-agreement, legclf_credit-agreement, FALSE, 0.014220815,0.98577917\n",
      "purchase-agreement, legclf_loan-agreement, TRUE, 0.71412706,0.2858729\n",
      "purchase-agreement, legclf_lease-agreement, FALSE, 6.6498196E-4,0.999335\n",
      "\n",
      "expected, model, result, positive_confidence, negative_confidence\n",
      "management-contract, legclf_employment-agreement, FALSE, 0.0011546055,0.99884534\n",
      "management-contract, legclf_consulting-agreement, FALSE, 0.01835275,0.9816473\n",
      "management-contract, legclf_purchase-agreement, FALSE, 2.0075633E-5,0.99998\n",
      "management-contract, legclf_management-contract, TRUE, 0.99950075,4.9918063E-4\n",
      "management-contract, legclf_service-agreement, FALSE, 0.0015470521,0.9984529\n",
      "management-contract, legclf_credit-agreement, FALSE, 3.5480778E-7,0.99999964\n",
      "management-contract, legclf_loan-agreement, FALSE, 1.9044677E-5,0.9999809\n",
      "management-contract, legclf_lease-agreement, FALSE, 8.499902E-6,0.99999154\n",
      "\n",
      "expected, model, result, positive_confidence, negative_confidence\n",
      "service-agreement, legclf_employment-agreement, FALSE, 0.009360245,0.9906398\n",
      "service-agreement, legclf_consulting-agreement, TRUE, 0.9506646,0.049335446\n",
      "service-agreement, legclf_purchase-agreement, FALSE, 2.948787E-6,0.999997\n",
      "service-agreement, legclf_management-contract, TRUE, 0.9296269,0.07037317\n",
      "service-agreement, legclf_service-agreement, TRUE, 0.7646346,0.2353654\n",
      "service-agreement, legclf_credit-agreement, FALSE, 7.2931334E-7,0.9999993\n",
      "service-agreement, legclf_loan-agreement, FALSE, 4.678148E-5,0.99995327\n",
      "service-agreement, legclf_lease-agreement, FALSE, 1.0085451E-4,0.99989915\n",
      "\n",
      "expected, model, result, positive_confidence, negative_confidence\n",
      "consulting-agreement, legclf_employment-agreement, FALSE, 0.0015356023,0.99846447\n",
      "consulting-agreement, legclf_consulting-agreement, TRUE, 0.997373,0.0026269897\n",
      "consulting-agreement, legclf_purchase-agreement, FALSE, 1.20022894E-4,0.99987996\n",
      "consulting-agreement, legclf_management-contract, FALSE, 0.009281797,0.9907182\n",
      "consulting-agreement, legclf_service-agreement, FALSE, 0.02177803,0.9782219\n",
      "consulting-agreement, legclf_credit-agreement, FALSE, 1.3463892E-7,0.9999999\n",
      "consulting-agreement, legclf_loan-agreement, FALSE, 1.3093013E-4,0.9998691\n",
      "consulting-agreement, legclf_lease-agreement, FALSE, 0.0022968822,0.99770314\n",
      "\n",
      "expected, model, result, positive_confidence, negative_confidence\n",
      "lease-agreement, legclf_employment-agreement, FALSE, 2.1488015E-6,0.99999785\n",
      "lease-agreement, legclf_consulting-agreement, FALSE, 5.432638E-6,0.9999945\n",
      "lease-agreement, legclf_purchase-agreement, FALSE, 0.123110026,0.87688994\n",
      "lease-agreement, legclf_management-contract, FALSE, 1.9235145E-4,0.99980766\n",
      "lease-agreement, legclf_service-agreement, FALSE, 0.0047120717,0.9952879\n",
      "lease-agreement, legclf_credit-agreement, FALSE, 0.0018501142,0.9981499\n",
      "lease-agreement, legclf_loan-agreement, FALSE, 0.028501326,0.9714986\n",
      "lease-agreement, legclf_lease-agreement, TRUE, 0.96419597,0.035804022\n",
      "\n",
      "expected, model, result, positive_confidence, negative_confidence\n",
      "loan-agreement, legclf_employment-agreement, FALSE, 2.7662307E-7,0.99999976\n",
      "loan-agreement, legclf_consulting-agreement, FALSE, 7.8906686E-7,0.99999917\n",
      "loan-agreement, legclf_purchase-agreement, FALSE, 8.330608E-4,0.99916697\n",
      "loan-agreement, legclf_management-contract, FALSE, 3.762532E-7,0.99999964\n",
      "loan-agreement, legclf_service-agreement, FALSE, 6.387739E-4,0.9993612\n",
      "loan-agreement, legclf_credit-agreement, FALSE, 0.29088935,0.7091106\n",
      "loan-agreement, legclf_loan-agreement, TRUE, 0.52565074,0.4743492\n",
      "loan-agreement, legclf_lease-agreement, FALSE, 0.04063673,0.9593633\n",
      "\n",
      "expected, model, result, positive_confidence, negative_confidence\n",
      "employment-agreement, legclf_employment-agreement, TRUE, 0.98503727,0.0149627505\n",
      "employment-agreement, legclf_consulting-agreement, FALSE, 3.967675E-4,0.9996032\n",
      "employment-agreement, legclf_purchase-agreement, FALSE, 6.2814802E-9,1.0\n",
      "employment-agreement, legclf_management-contract, FALSE, 0.22005811,0.77994186\n",
      "employment-agreement, legclf_service-agreement, FALSE, 0.013862566,0.98613745\n",
      "employment-agreement, legclf_credit-agreement, FALSE, 1.1549465E-6,0.9999988\n",
      "employment-agreement, legclf_loan-agreement, FALSE, 1.6270053E-6,0.99999833\n",
      "employment-agreement, legclf_lease-agreement, FALSE, 4.4809427E-4,0.99955183\n",
      "\n"
     ]
    }
   ],
   "source": [
    "for i, t in enumerate(texts):\n",
    "    res = lp.fullAnnotate(t[1])\n",
    "    print(f\"expected, model, result, positive_confidence, negative_confidence\") \n",
    "    for x in res[0].keys():    \n",
    "        if x.startswith(\"is_\"):\n",
    "            model = x.replace(\"is_\",\"\").replace(\"_\",\"-\")\n",
    "            yes_no = \"FALSE\" if res[0][x][0].result == 'other' else \"TRUE\"\n",
    "            print(f\"{categories[i]}, legclf_{model}, {yes_no}, {res[0][x][0].metadata[model]},{res[0][x][0].metadata['other']}\")\n",
    "    print()"
   ]
  }
 ],
 "metadata": {
  "kernelspec": {
   "display_name": "johnsnowlabs",
   "language": "python",
   "name": "johnsnowlabs"
  },
  "language_info": {
   "codemirror_mode": {
    "name": "ipython",
    "version": 3
   },
   "file_extension": ".py",
   "mimetype": "text/x-python",
   "name": "python",
   "nbconvert_exporter": "python",
   "pygments_lexer": "ipython3",
   "version": "3.8.13"
  }
 },
 "nbformat": 4,
 "nbformat_minor": 5
}

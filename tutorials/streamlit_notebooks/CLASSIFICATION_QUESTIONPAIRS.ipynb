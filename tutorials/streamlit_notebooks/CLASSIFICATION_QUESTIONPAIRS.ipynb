{
  "nbformat": 4,
  "nbformat_minor": 0,
  "metadata": {
    "colab": {
      "name": "CLASSIFICATION_QUESTIONPAIRS.ipynb",
      "provenance": [],
      "collapsed_sections": []
    },
    "kernelspec": {
      "name": "python3",
      "display_name": "Python 3"
    },
    "language_info": {
      "name": "python"
    }
  },
  "cells": [
    {
      "cell_type": "markdown",
      "metadata": {
        "id": "vas1PNJwZp2U"
      },
      "source": [
        "\n",
        "\n",
        "![JohnSnowLabs](https://nlp.johnsnowlabs.com/assets/images/logo.png)\n",
        "\n",
        "[![Open In Colab](https://colab.research.google.com/assets/colab-badge.svg)](https://githubtocolab.com/JohnSnowLabs/spark-nlp-workshop/blob/master/tutorials/streamlit_notebooks/CLASSIFICATION_TR_NEWS.ipynb)\n",
        "\n",
        "\n"
      ]
    },
    {
      "cell_type": "markdown",
      "metadata": {
        "id": "E2lonApkZwJP"
      },
      "source": [
        "# **Classify Question Pairs**"
      ]
    },
    {
      "cell_type": "markdown",
      "metadata": {
        "id": "kMURhBz4ZwM6"
      },
      "source": [
        "## 1. Colab Setup"
      ]
    },
    {
      "cell_type": "code",
      "metadata": {
        "id": "qyYMEtv59sox"
      },
      "source": [
        "!wget http://setup.johnsnowlabs.com/colab.sh -O - | bash"
      ],
      "execution_count": null,
      "outputs": []
    },
    {
      "cell_type": "code",
      "metadata": {
        "id": "TJiLoVOnibjZ"
      },
      "source": [
        "import numpy as np\n",
        "import json\n",
        "from pyspark.ml import Pipeline\n",
        "from pyspark.sql import SparkSession\n",
        "import pyspark.sql.functions as F\n",
        "from sparknlp.annotator import *\n",
        "from sparknlp.base import *\n",
        "import sparknlp\n",
        "from sparknlp.pretrained import PretrainedPipeline"
      ],
      "execution_count": 2,
      "outputs": []
    },
    {
      "cell_type": "markdown",
      "metadata": {
        "id": "PKf4YBDBZ9x7"
      },
      "source": [
        "## 2. Start Spark Session"
      ]
    },
    {
      "cell_type": "code",
      "metadata": {
        "id": "JZmMb4ehifla"
      },
      "source": [
        "spark = sparknlp.start()"
      ],
      "execution_count": 3,
      "outputs": []
    },
    {
      "cell_type": "markdown",
      "metadata": {
        "id": "m_-O5I9BaF08"
      },
      "source": [
        "## 3. Some sample examples"
      ]
    },
    {
      "cell_type": "code",
      "metadata": {
        "id": "bjuvgsGVimu4"
      },
      "source": [
        "q1_list = [\"How is your studies going?\", 'If the Universe was born at the Big Bang, what existed before then?', \n",
        "           'After Obama finishes his presidency, does he still receive Secret Service protection?', \n",
        "          'Am looking for motivational books to read?',  'Antonio has a deep prejudice against Shylock. Is Shylocks anger towards Antonio justified? Why or why not?']\n",
        "\n",
        "q2_list = [\"How is your days going?\",  'What actually existed before the Big Bang?', \n",
        "           'Does President Obama and his family have secret service protection for the rest of their lives?',\n",
        "          'What motivational books one should read?', 'Who is the hero of The Merchant of Venice?']"
      ],
      "execution_count": 6,
      "outputs": []
    },
    {
      "cell_type": "markdown",
      "metadata": {
        "id": "ULKvemZpaNal"
      },
      "source": [
        "## 4. Define Spark NLP pipeline"
      ]
    },
    {
      "cell_type": "code",
      "metadata": {
        "colab": {
          "base_uri": "https://localhost:8080/"
        },
        "id": "UEvvHCtbiu0f",
        "outputId": "c493a590-3c0a-47c2-fb26-c7d3b04c9cb9"
      },
      "source": [
        "pipeline = PretrainedPipeline(\"classifierdl_electra_questionpair_pipeline\", \"en\")"
      ],
      "execution_count": 4,
      "outputs": [
        {
          "output_type": "stream",
          "name": "stdout",
          "text": [
            "classifierdl_electra_questionpair_pipeline download started this may take some time.\n",
            "Approx size to download 1.2 GB\n",
            "[OK!]\n"
          ]
        }
      ]
    },
    {
      "cell_type": "markdown",
      "metadata": {
        "id": "hZtgPiQPafLR"
      },
      "source": [
        "## 5. Run the pipeline"
      ]
    },
    {
      "cell_type": "code",
      "metadata": {
        "colab": {
          "base_uri": "https://localhost:8080/"
        },
        "id": "YWs8lDFKmId6",
        "outputId": "c2ceab7e-ff72-4cea-f2f9-c699410b376e"
      },
      "source": [
        "## Getting one result\n",
        "\n",
        "res =  pipeline.fullAnnotate(f\"q1: How is your studies going q2: How is your days going?\")\n",
        "\n",
        "print(res[0]['class'][0].result)"
      ],
      "execution_count": 10,
      "outputs": [
        {
          "output_type": "stream",
          "name": "stdout",
          "text": [
            "almost_same\n"
          ]
        }
      ]
    },
    {
      "cell_type": "code",
      "metadata": {
        "id": "WPDCoO_FirBq"
      },
      "source": [
        "## Get all the results and save it in a dict\n",
        "\n",
        "results = {}\n",
        "for i, q1 in enumerate(q1_list):\n",
        "    for j, q2 in enumerate(q1_list):\n",
        "        result =  pipeline.fullAnnotate(f\"q1: {q1} q2: {q2}\") \n",
        "        a = result[0]['class'][0].result\n",
        "        \n",
        "        results[f'{i}{j}'] = a"
      ],
      "execution_count": 7,
      "outputs": []
    },
    {
      "cell_type": "markdown",
      "metadata": {
        "id": "GM8GfPB5aSCu"
      },
      "source": [
        "## 6. Visualize results"
      ]
    },
    {
      "cell_type": "code",
      "metadata": {
        "colab": {
          "base_uri": "https://localhost:8080/"
        },
        "id": "XrXa6r2Ii0Ds",
        "outputId": "cbdf6c48-ae4e-4b07-d0b2-b220c5700767"
      },
      "source": [
        "print(results)"
      ],
      "execution_count": 8,
      "outputs": [
        {
          "output_type": "stream",
          "name": "stdout",
          "text": [
            "{'00': 'almost_same', '01': 'not_same', '02': 'not_same', '03': 'not_same', '04': 'not_same', '10': 'not_same', '11': 'almost_same', '12': 'not_same', '13': 'not_same', '14': 'not_same', '20': 'not_same', '21': 'not_same', '22': 'almost_same', '23': 'not_same', '24': 'not_same', '30': 'not_same', '31': 'not_same', '32': 'not_same', '33': 'almost_same', '34': 'not_same', '40': 'not_same', '41': 'not_same', '42': 'not_same', '43': 'not_same', '44': 'almost_same'}\n"
          ]
        }
      ]
    }
  ]
}
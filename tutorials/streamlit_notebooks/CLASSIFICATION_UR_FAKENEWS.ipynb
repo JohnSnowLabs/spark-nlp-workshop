{
  "cells": [
    {
      "cell_type": "markdown",
      "metadata": {
        "id": "2vXYNX2lQROB"
      },
      "source": [
        "\n",
        "\n",
        "![JohnSnowLabs](https://nlp.johnsnowlabs.com/assets/images/logo.png)\n",
        "\n",
        "[![Open In Colab](https://colab.research.google.com/assets/colab-badge.svg)](https://colab.research.google.com/github/JohnSnowLabs/spark-nlp-workshop/blob/master/tutorials/streamlit_notebooks/CLASSIFICATION_UR_FAKENEWS.ipynb)\n",
        "\n",
        "\n",
        "\n",
        "\n"
      ]
    },
    {
      "cell_type": "markdown",
      "metadata": {
        "id": "VRsj9Vs4S5dM"
      },
      "source": [
        "# **Fake News Classifier in Urdu**\n",
        "\n"
      ]
    },
    {
      "cell_type": "markdown",
      "metadata": {
        "id": "G0mz2_alr3An"
      },
      "source": [
        "## 1. Colab Setup"
      ]
    },
    {
      "cell_type": "code",
      "source": [
        "! pip install -q pyspark==3.1.2 spark-nlp"
      ],
      "metadata": {
        "colab": {
          "base_uri": "https://localhost:8080/"
        },
        "id": "8RmPgNebK8da",
        "outputId": "308f941b-7138-4c07-9998-b9e1f0176dd2"
      },
      "execution_count": null,
      "outputs": [
        {
          "output_type": "stream",
          "name": "stdout",
          "text": [
            "\u001b[K     |████████████████████████████████| 212.4 MB 62 kB/s \n",
            "\u001b[K     |████████████████████████████████| 140 kB 43.5 MB/s \n",
            "\u001b[K     |████████████████████████████████| 198 kB 17.2 MB/s \n",
            "\u001b[?25h  Building wheel for pyspark (setup.py) ... \u001b[?25l\u001b[?25hdone\n"
          ]
        }
      ]
    },
    {
      "cell_type": "markdown",
      "source": [
        "## 2. Start Spark Session"
      ],
      "metadata": {
        "id": "6UD239FZuKUG"
      }
    },
    {
      "cell_type": "code",
      "execution_count": null,
      "metadata": {
        "id": "cbNneAVCLU1y",
        "colab": {
          "base_uri": "https://localhost:8080/",
          "height": 253
        },
        "outputId": "a82d774b-d85e-41ff-c773-624f8f864a4b"
      },
      "outputs": [
        {
          "output_type": "stream",
          "name": "stdout",
          "text": [
            "Spark NLP version 3.4.0\n",
            "Apache Spark version: 3.1.2\n"
          ]
        },
        {
          "output_type": "execute_result",
          "data": {
            "text/html": [
              "\n",
              "            <div>\n",
              "                <p><b>SparkSession - in-memory</b></p>\n",
              "                \n",
              "        <div>\n",
              "            <p><b>SparkContext</b></p>\n",
              "\n",
              "            <p><a href=\"http://76818e7be2b8:4040\">Spark UI</a></p>\n",
              "\n",
              "            <dl>\n",
              "              <dt>Version</dt>\n",
              "                <dd><code>v3.1.2</code></dd>\n",
              "              <dt>Master</dt>\n",
              "                <dd><code>local[*]</code></dd>\n",
              "              <dt>AppName</dt>\n",
              "                <dd><code>Spark NLP</code></dd>\n",
              "            </dl>\n",
              "        </div>\n",
              "        \n",
              "            </div>\n",
              "        "
            ],
            "text/plain": [
              "<pyspark.sql.session.SparkSession at 0x7f7ae6fac410>"
            ]
          },
          "metadata": {},
          "execution_count": 3
        }
      ],
      "source": [
        "import sparknlp\n",
        "import pyspark.sql.functions as F\n",
        "spark = sparknlp.start()\n",
        "\n",
        "from sparknlp.base import *\n",
        "from sparknlp.annotator import *\n",
        "\n",
        "print(\"Spark NLP version\", sparknlp.version())\n",
        "print(\"Apache Spark version:\", spark.version)\n",
        "\n",
        "spark"
      ]
    },
    {
      "cell_type": "code",
      "source": [
        ""
      ],
      "metadata": {
        "id": "9-ymrla5jkSg"
      },
      "execution_count": null,
      "outputs": []
    },
    {
      "cell_type": "markdown",
      "source": [
        "## 3. Define Spark NLP pipeline"
      ],
      "metadata": {
        "id": "Fh2em__AuPiA"
      }
    },
    {
      "cell_type": "code",
      "source": [
        "text_list = [\"\"\"فراہم کرے گاڈان اخبار کی رپورٹ کے مطابق یہ جولائی 2019 میں ایک کروڑ 50 لاکھ ڈالر کی منظوری کے بعد سے منصوبے کی تیسری فنانسنگ ہوگییہ بھی پڑھیں ئندہ سال تک پاکستان میں غربت میں اضافے کا امکان ہے عالمی\"\"\",\"\"\"ٹرمپ سونامی کی آمد: ٹرمپ نے آج فلوریڈا میں کیا کیا وہ انہیں صدر بنا دے گا! ٹرمپ سونامی کی آمد: ٹرمپ نے آج فلوریڈا میں کیا کیا وہ انہیں صدر بنا دے گا! فشر 5 منٹ پہلے خبریں تبصرے بند آن ٹرمپ سونامی آنے والی: ٹرمپ نے آج فلوریڈا میں کیا کیا وہ اسے صدر بنا دے گا! ٹرمپ سونامی کی آمد: ٹرمپ نے آج فلوریڈا میں کیا کیا وہ انہیں صدر بنا دے گا! توڑنے! توڑنے! فلوریڈا میں ہلیری کے لیے بری خبر۔ فلوریڈا سے ووٹنگ کے ابتدائی اعداد و شمار ظاہر کر رہے ہیں کہ ریپبلکنز نے 17,000 مزید ووٹ ڈالے ہیں۔\"\"\",\"\"\"ایک امریکی تھنک ٹینک نے خبردار کیا ہے کہ جیسے جیسے چین مصنوعی ذہانت (آرٹیفیشل انٹیلی جنس) کے میدان میں ترقی کر رہا ہے، دنیا کا اقتصادی اور عسکری توازن تبدیل ہو سکتا ہے۔\"\"\",\"\"\"فلپ کے ناول، کاپی کیٹس اور ہر چیز کی طرح لگتا ہے۔ اقوام متحدہ تمام انسانوں کو بائیو میٹرک شناختی کارڈ سے متاثر کرنے کا منصوبہ بنا رہی ہے۔\"\"\",\"\"\"صدر براک اوباما نے کہا کہ سابق وزیر خارجہ ہلیری کلنٹن کا ذاتی ای میل سرور کا استعمال ایک غلطی تھی، لیکن یہ کہ امریکی قومی سلامتی خطرے میں نہیں پڑی تھی۔ ڈیموکریٹک صدارتی پرائمری کو ہلا دینے والے تنازعہ پر اپنے پہلے وسیع ریمارکس میں، مسٹر اوباما نے CBS کے 60 منٹس\" پروگرام میں کہا کہ مسز کلنٹن کے ای میل انتظامات کے بارے میں سوالات جائز تھے۔ \"امریکی عوام کے اطمینان کے لیے ان کے لیے ان سوالات کا جواب دینا ضروری ہے،\" مسٹر اوباما\"\"\",\"\"\"ڈونلڈ ٹرمپ کی کھانے کی عادات ان کی صحت اور ہماری حفاظت کو ڈرامائی طور پر متاثر کر سکتی ہیں\"\"\"]"
      ],
      "metadata": {
        "id": "bkfzHLT_j2ut"
      },
      "execution_count": null,
      "outputs": []
    },
    {
      "cell_type": "code",
      "execution_count": null,
      "metadata": {
        "id": "Gvn2hTw6DbIH",
        "colab": {
          "base_uri": "https://localhost:8080/"
        },
        "outputId": "5eb2d0e2-5d05-4910-b9cd-ce2d2e592749"
      },
      "outputs": [
        {
          "output_type": "stream",
          "name": "stdout",
          "text": [
            "lemma download started this may take some time.\n",
            "Approximate size to download 111 KB\n",
            "[OK!]\n",
            "urduvec_140M_300d download started this may take some time.\n",
            "Approximate size to download 110.2 MB\n",
            "[OK!]\n",
            "classifierdl_urduvec_fakenews download started this may take some time.\n",
            "Approximate size to download 20.5 MB\n",
            "[OK!]\n"
          ]
        }
      ],
      "source": [
        "document_assembler = DocumentAssembler() \\\n",
        "      .setInputCol(\"text\") \\\n",
        "      .setOutputCol(\"document\")\n",
        "\n",
        "tokenizer = Tokenizer() \\\n",
        "      .setInputCols([\"document\"]) \\\n",
        "      .setOutputCol(\"token\")\n",
        "    \n",
        "normalizer = Normalizer() \\\n",
        "      .setInputCols([\"token\"]) \\\n",
        "      .setOutputCol(\"normalized\")\n",
        "\n",
        "lemma = LemmatizerModel.pretrained(\"lemma\", \"ur\") \\\n",
        "         .setInputCols([\"normalized\"]) \\\n",
        "         .setOutputCol(\"lemma\")\n",
        "\n",
        "embeddings = WordEmbeddingsModel.pretrained(\"urduvec_140M_300d\", \"ur\") \\\n",
        "      .setInputCols(\"document\", \"lemma\") \\\n",
        "      .setOutputCol(\"embeddings\")\n",
        "\n",
        "embeddingsSentence = SentenceEmbeddings() \\\n",
        "      .setInputCols([\"document\", \"embeddings\"]) \\\n",
        "      .setOutputCol(\"sentence_embeddings\") \\\n",
        "      .setPoolingStrategy(\"AVERAGE\")\n",
        "\n",
        "classifierdl = ClassifierDLModel.pretrained(\"classifierdl_urduvec_fakenews\", \"ur\") \\\n",
        "  .setInputCols([\"document\", \"sentence_embeddings\"]) \\\n",
        "  .setOutputCol(\"class\")\n",
        "\n",
        "urdu_fake_pipeline = Pipeline(stages=[document_assembler, tokenizer, normalizer, lemma, embeddings, embeddingsSentence, classifierdl])\n",
        "\n",
        "\n",
        "empty_df = spark.createDataFrame([['']]).toDF(\"text\")\n",
        "\n",
        "pipelineModel = urdu_fake_pipeline.fit(empty_df)\n"
      ]
    },
    {
      "cell_type": "code",
      "source": [
        ""
      ],
      "metadata": {
        "id": "qo78V-7EJHLf"
      },
      "execution_count": null,
      "outputs": []
    },
    {
      "cell_type": "markdown",
      "source": [
        "## Visualize Results"
      ],
      "metadata": {
        "id": "bYmsHXP0GSi0"
      }
    },
    {
      "cell_type": "code",
      "source": [
        "df = spark.createDataFrame(pd.DataFrame({\"text\":text_list}))\n",
        "result = pipelineModel.transform(df)\n",
        "\n",
        "result.select(F.explode(F.arrays_zip('document.result', 'class.result')).alias(\"cols\")) \\\n",
        ".select(F.expr(\"cols['0']\").alias(\"document\"),\n",
        "        F.expr(\"cols['1']\").alias(\"class\")).show(truncate=False)"
      ],
      "metadata": {
        "colab": {
          "base_uri": "https://localhost:8080/"
        },
        "id": "gU-a6ANeAZz1",
        "outputId": "47706b70-51d8-497a-c53a-265092345969"
      },
      "execution_count": null,
      "outputs": [
        {
          "output_type": "stream",
          "name": "stdout",
          "text": [
            "+-----------------------------------------------------------------------------------------------------------------------------------------------------------------------------------------------------------------------------------------------------------------------------------------------------------------------------------------------------------------------------------------------------------------------------------------------------------------------------------------------+-----+\n",
            "|document                                                                                                                                                                                                                                                                                                                                                                                                                                                                                       |class|\n",
            "+-----------------------------------------------------------------------------------------------------------------------------------------------------------------------------------------------------------------------------------------------------------------------------------------------------------------------------------------------------------------------------------------------------------------------------------------------------------------------------------------------+-----+\n",
            "|فراہم کرے گاڈان اخبار کی رپورٹ کے مطابق یہ جولائی 2019 میں ایک کروڑ 50 لاکھ ڈالر کی منظوری کے بعد سے منصوبے کی تیسری فنانسنگ ہوگییہ بھی پڑھیں ئندہ سال تک پاکستان میں غربت میں اضافے کا امکان ہے عالمی                                                                                                                                                                                                                                                                                         |real |\n",
            "|ٹرمپ سونامی کی آمد: ٹرمپ نے آج فلوریڈا میں کیا کیا وہ انہیں صدر بنا دے گا! ٹرمپ سونامی کی آمد: ٹرمپ نے آج فلوریڈا میں کیا کیا وہ انہیں صدر بنا دے گا! فشر 5 منٹ پہلے خبریں تبصرے بند آن ٹرمپ سونامی آنے والی: ٹرمپ نے آج فلوریڈا میں کیا کیا وہ اسے صدر بنا دے گا! ٹرمپ سونامی کی آمد: ٹرمپ نے آج فلوریڈا میں کیا کیا وہ انہیں صدر بنا دے گا! توڑنے! توڑنے! فلوریڈا میں ہلیری کے لیے بری خبر۔ فلوریڈا سے ووٹنگ کے ابتدائی اعداد و شمار ظاہر کر رہے ہیں کہ ریپبلکنز نے 17,000 مزید ووٹ ڈالے ہیں۔|fake |\n",
            "|ایک امریکی تھنک ٹینک نے خبردار کیا ہے کہ جیسے جیسے چین مصنوعی ذہانت (آرٹیفیشل انٹیلی جنس) کے میدان میں ترقی کر رہا ہے، دنیا کا اقتصادی اور عسکری توازن تبدیل ہو سکتا ہے۔                                                                                                                                                                                                                                                                                                                       |real |\n",
            "|فلپ کے ناول، کاپی کیٹس اور ہر چیز کی طرح لگتا ہے۔ اقوام متحدہ تمام انسانوں کو بائیو میٹرک شناختی کارڈ سے متاثر کرنے کا منصوبہ بنا رہی ہے۔                                                                                                                                                                                                                                                                                                                                                      |fake |\n",
            "|صدر براک اوباما نے کہا کہ سابق وزیر خارجہ ہلیری کلنٹن کا ذاتی ای میل سرور کا استعمال ایک غلطی تھی، لیکن یہ کہ امریکی قومی سلامتی خطرے میں نہیں پڑی تھی۔ ڈیموکریٹک صدارتی پرائمری کو ہلا دینے والے تنازعہ پر اپنے پہلے وسیع ریمارکس میں، مسٹر اوباما نے CBS کے 60 منٹس\" پروگرام میں کہا کہ مسز کلنٹن کے ای میل انتظامات کے بارے میں سوالات جائز تھے۔ \"امریکی عوام کے اطمینان کے لیے ان کے لیے ان سوالات کا جواب دینا ضروری ہے،\" مسٹر اوباما                                                     |real |\n",
            "|ڈونلڈ ٹرمپ کی کھانے کی عادات ان کی صحت اور ہماری حفاظت کو ڈرامائی طور پر متاثر کر سکتی ہیں                                                                                                                                                                                                                                                                                                                                                                                                     |fake |\n",
            "+-----------------------------------------------------------------------------------------------------------------------------------------------------------------------------------------------------------------------------------------------------------------------------------------------------------------------------------------------------------------------------------------------------------------------------------------------------------------------------------------------+-----+\n",
            "\n"
          ]
        }
      ]
    },
    {
      "cell_type": "code",
      "source": [
        ""
      ],
      "metadata": {
        "id": "U14uFf6nGXt7"
      },
      "execution_count": null,
      "outputs": []
    }
  ],
  "metadata": {
    "colab": {
      "collapsed_sections": [],
      "name": "CLASSIFICATION_UR_FAKENEWS.ipynb",
      "provenance": []
    },
    "kernelspec": {
      "display_name": "Python 3",
      "name": "python3"
    },
    "language_info": {
      "name": "python"
    }
  },
  "nbformat": 4,
  "nbformat_minor": 0
}
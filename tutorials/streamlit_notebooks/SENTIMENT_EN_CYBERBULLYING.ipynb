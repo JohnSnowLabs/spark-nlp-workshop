{
  "nbformat": 4,
  "nbformat_minor": 0,
  "metadata": {
    "colab": {
      "name": "SENTIMENT_EN_CYBERBULLYING.ipynb",
      "provenance": [],
      "collapsed_sections": []
    },
    "kernelspec": {
      "name": "python3",
      "display_name": "Python 3"
    }
  },
  "cells": [
    {
      "cell_type": "markdown",
      "metadata": {
        "id": "Wcq6iO7eQXB9",
        "colab_type": "text"
      },
      "source": [
        "\n",
        "\n",
        "![JohnSnowLabs](https://nlp.johnsnowlabs.com/assets/images/logo.png)\n",
        "\n",
        "[![Open In Colab](https://colab.research.google.com/assets/colab-badge.svg)](https://colab.research.google.com/github/JohnSnowLabs/spark-nlp-workshop/blob/master/tutorials/streamlit_notebooks/SENTIMENT_EN_CYBERBULLYING.ipynb)\n",
        "\n",
        "\n"
      ]
    },
    {
      "cell_type": "markdown",
      "metadata": {
        "id": "69nlbFfSQbtI",
        "colab_type": "text"
      },
      "source": [
        "# **Detect bullying in tweets**"
      ]
    },
    {
      "cell_type": "markdown",
      "metadata": {
        "id": "At_1tTpNQ4xa",
        "colab_type": "text"
      },
      "source": [
        "## 0. Colab Setup"
      ]
    },
    {
      "cell_type": "code",
      "metadata": {
        "id": "w6o8-g0tEqNz",
        "colab_type": "code",
        "colab": {}
      },
      "source": [
        "%cd /content\n",
        "!sudo apt-get install openjdk-8-jdk\n",
        "!java -version\n",
        "!pip install --ignore-installed -q pyspark==2.4.4\n",
        "!pip install spark-nlp"
      ],
      "execution_count": null,
      "outputs": []
    },
    {
      "cell_type": "code",
      "metadata": {
        "id": "yMmT9S6mE0ad",
        "colab_type": "code",
        "colab": {}
      },
      "source": [
        "import pandas as pd\n",
        "import numpy as np\n",
        "import os\n",
        "os.environ[\"JAVA_HOME\"] = \"/usr/lib/jvm/java-8-openjdk-amd64\"\n",
        "import json\n",
        "from pyspark.ml import Pipeline\n",
        "from pyspark.sql import SparkSession\n",
        "import pyspark.sql.functions as F\n",
        "from sparknlp.annotator import *\n",
        "from sparknlp.base import *\n",
        "import sparknlp\n",
        "from sparknlp.pretrained import PretrainedPipeline"
      ],
      "execution_count": null,
      "outputs": []
    },
    {
      "cell_type": "markdown",
      "metadata": {
        "id": "ohBO_O8IQ7Ib",
        "colab_type": "text"
      },
      "source": [
        "## 1. Start Spark Session"
      ]
    },
    {
      "cell_type": "code",
      "metadata": {
        "id": "4zBXbY_vE2ss",
        "colab_type": "code",
        "colab": {}
      },
      "source": [
        "spark = sparknlp.start()"
      ],
      "execution_count": null,
      "outputs": []
    },
    {
      "cell_type": "markdown",
      "metadata": {
        "id": "XdltrQa6Q98p",
        "colab_type": "text"
      },
      "source": [
        "## 2. Select the DL model"
      ]
    },
    {
      "cell_type": "code",
      "metadata": {
        "id": "1XxHWemdE5hX",
        "colab_type": "code",
        "colab": {}
      },
      "source": [
        "MODEL_NAME='classifierdl_use_cyberbullying'"
      ],
      "execution_count": null,
      "outputs": []
    },
    {
      "cell_type": "markdown",
      "metadata": {
        "id": "lNL-WnVoRCOr",
        "colab_type": "text"
      },
      "source": [
        "## 3. Some sample examples"
      ]
    },
    {
      "cell_type": "code",
      "metadata": {
        "id": "GJ7GCD0pFDvP",
        "colab_type": "code",
        "colab": {}
      },
      "source": [
        "## Generating Example Files ##\n",
        "\n",
        "text_list = [\n",
        "             #neutral\n",
        "             \"@CALMicC he kept me informed on stuff id missed and seemed ok. I liked him.\",\n",
        "             #sexism\n",
        "             \"@AMohedin Okay, we have women being physically inferior and the either emotionally or mentally inferior in some way.\",\n",
        "             #neutral\n",
        "             \"@LynnMagic people think that implying association via follow is a bad thing. but it's shockingly accurate.\",\n",
        "             #racism\n",
        "             \"@Rayandawlah_ @_Jihad10 These days might and honor come from science, technology, humanitarianism. Which is why Muslims won't get any.\",\n",
        "             #sexism\n",
        "             \"Stay outve Congress and we have a deal. @jacobkramer17 Call me sexist bt the super bowl should b guys only no women are allowed n th stadium\",\n",
        "             #neutral\n",
        "             \"I'm looking for a few people to help with @ggautoblocker's twitter. Log &amp; categorize mentions as support requests/abusive/positive tweets.\",\n",
        "             #racism\n",
        "             \"@geeky_zekey Thanks for showing again that blacks are the biggest racists. Blocked\",\n",
        "             #sexism\n",
        "             \"\"\"@ListenToRaisin No question. Feminists have the media. Did you see any mention of Clem Fords OPEN bigotry, etc?  Nope. \"Narrative\" is all.\"\"\",\n",
        "             #sexism\n",
        "             \"RT @EBeisner @ahall012 I agree with you!! I would rather brush my teeth with sandpaper then watch football with a girl!!\", \n",
        "             #racism\n",
        "             \"@hibach8 But it is a lie.  The religion is a disgusting, terrorist, hate mongering piece of filth.  That has nothing to do with individuals.\",\n",
        "  ]\n"
      ],
      "execution_count": null,
      "outputs": []
    },
    {
      "cell_type": "markdown",
      "metadata": {
        "id": "wKvXxQhsRFSh",
        "colab_type": "text"
      },
      "source": [
        "## 4. Define Spark NLP pipeline"
      ]
    },
    {
      "cell_type": "code",
      "metadata": {
        "id": "IiYxv0mOFIcX",
        "colab_type": "code",
        "colab": {}
      },
      "source": [
        "documentAssembler = DocumentAssembler()\\\n",
        "    .setInputCol(\"text\")\\\n",
        "    .setOutputCol(\"document\")\n",
        "    \n",
        "use = UniversalSentenceEncoder.pretrained(name=\"tfhub_use\", lang=\"en\")\\\n",
        " .setInputCols([\"document\"])\\\n",
        " .setOutputCol(\"sentence_embeddings\")\n",
        "\n",
        "\n",
        "sentimentdl = ClassifierDLModel.pretrained(name=MODEL_NAME)\\\n",
        "    .setInputCols([\"sentence_embeddings\"])\\\n",
        "    .setOutputCol(\"sentiment\")\n",
        "\n",
        "nlpPipeline = Pipeline(\n",
        "      stages = [\n",
        "          documentAssembler,\n",
        "          use,\n",
        "          sentimentdl\n",
        "      ])\n"
      ],
      "execution_count": null,
      "outputs": []
    },
    {
      "cell_type": "markdown",
      "metadata": {
        "id": "xHX_4kmDRIYG",
        "colab_type": "text"
      },
      "source": [
        "## 5. Run the pipeline"
      ]
    },
    {
      "cell_type": "code",
      "metadata": {
        "id": "mu8-zrx8RP6h",
        "colab_type": "code",
        "colab": {}
      },
      "source": [
        "empty_df = spark.createDataFrame([['']]).toDF(\"text\")\n",
        "pipelineModel = nlpPipeline.fit(empty_df)\n",
        "df = spark.createDataFrame(pd.DataFrame({\"text\":text_list}))\n",
        "result = pipelineModel.transform(df)"
      ],
      "execution_count": null,
      "outputs": []
    },
    {
      "cell_type": "markdown",
      "metadata": {
        "id": "huwbT786RKuY",
        "colab_type": "text"
      },
      "source": [
        "## 6. Visualize results"
      ]
    },
    {
      "cell_type": "code",
      "metadata": {
        "id": "TzJSQhTnFix5",
        "colab_type": "code",
        "colab": {}
      },
      "source": [
        "result.select(F.explode(F.arrays_zip('document.result', 'sentiment.result')).alias(\"cols\")) \\\n",
        ".select(F.expr(\"cols['0']\").alias(\"document\"),\n",
        "        F.expr(\"cols['1']\").alias(\"sentiment\")).show(truncate=False)"
      ],
      "execution_count": null,
      "outputs": []
    }
  ]
}
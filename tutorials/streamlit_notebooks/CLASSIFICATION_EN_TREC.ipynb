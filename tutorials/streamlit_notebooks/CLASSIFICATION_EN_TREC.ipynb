{
  "cells": [
    {
      "cell_type": "markdown",
      "metadata": {
        "id": "vas1PNJwZp2U"
      },
      "source": [
        "\n",
        "\n",
        "![JohnSnowLabs](https://nlp.johnsnowlabs.com/assets/images/logo.png)\n",
        "\n",
        "[![Open In Colab](https://colab.research.google.com/assets/colab-badge.svg)](https://githubtocolab.com/JohnSnowLabs/spark-nlp-workshop/blob/master/tutorials/streamlit_notebooks/CLASSIFICATION_EN_TREC.ipynb)\n",
        "\n",
        "\n"
      ]
    },
    {
      "cell_type": "markdown",
      "metadata": {
        "id": "E2lonApkZwJP"
      },
      "source": [
        "# **Classify text according to TREC classes**"
      ]
    },
    {
      "cell_type": "markdown",
      "metadata": {
        "id": "kMURhBz4ZwM6"
      },
      "source": [
        "## 1. Colab Setup"
      ]
    },
    {
      "cell_type": "code",
      "execution_count": 1,
      "metadata": {
        "colab": {
          "base_uri": "https://localhost:8080/"
        },
        "id": "sIJfXkK54WFk",
        "outputId": "cd47c840-270b-4a27-9b5e-71af6bd0a829"
      },
      "outputs": [],
      "source": [
        "# Install PySpark and Spark NLP\n",
        "! pip install -q pyspark==3.1.2 spark-nlp"
      ]
    },
    {
      "cell_type": "code",
      "execution_count": 2,
      "metadata": {
        "id": "v29AZ9XO5AhU"
      },
      "outputs": [],
      "source": [
        "import pandas as pd\n",
        "import numpy as np\n",
        "import json\n",
        "from pyspark.ml import Pipeline\n",
        "from pyspark.sql import SparkSession\n",
        "import pyspark.sql.functions as F\n",
        "from sparknlp.annotator import *\n",
        "from sparknlp.base import *\n",
        "import sparknlp\n",
        "from sparknlp.pretrained import PretrainedPipeline"
      ]
    },
    {
      "cell_type": "markdown",
      "metadata": {
        "id": "PKf4YBDBZ9x7"
      },
      "source": [
        "## 2. Start Spark Session"
      ]
    },
    {
      "cell_type": "code",
      "execution_count": 3,
      "metadata": {
        "id": "sI-CZ9PO5GW9"
      },
      "outputs": [],
      "source": [
        "spark = sparknlp.start()"
      ]
    },
    {
      "cell_type": "markdown",
      "metadata": {
        "id": "bXA24WIYaACJ"
      },
      "source": [
        "## 3. Select the DL model and re-run all the cells below"
      ]
    },
    {
      "cell_type": "code",
      "execution_count": 4,
      "metadata": {
        "id": "Y6s6ljDsH9ZK"
      },
      "outputs": [],
      "source": [
        "### Select Model\n",
        "#model_name = 'classifierdl_use_trec6'\n",
        "model_name = 'classifierdl_use_trec50'"
      ]
    },
    {
      "cell_type": "markdown",
      "metadata": {
        "id": "m_-O5I9BaF08"
      },
      "source": [
        "## 4. Some sample examples"
      ]
    },
    {
      "cell_type": "code",
      "execution_count": 5,
      "metadata": {
        "id": "WGFzBK1EX8wm"
      },
      "outputs": [],
      "source": [
        "\n",
        "text_list = [\n",
        "    \"What effect does pollution have on the Chesapeake Bay oysters?\",\n",
        "    \"What financial relationships exist between Google and its advertisers?\",\n",
        "    \"What financial relationships exist between the Chinese government and the Cuban government?\",\n",
        "    \"What was the number of member nations of the U.N. in 2000?\",\n",
        "    \"Who is the Secretary-General for political affairs?\",\n",
        "    \"When did the construction of stone circles begin in the UK?\",\n",
        "    \"In what country is the WTO headquartered?\",\n",
        "    \"What animal was the first mammal successfully cloned from adult cells?\",\n",
        "    \"What other prince showed his paintings in a two-prince exhibition with Prince Charles in London?\",\n",
        "    \"Is there evidence to support the involvement of Garry Kasparov in politics?\",\n",
        "  ]"
      ]
    },
    {
      "cell_type": "markdown",
      "metadata": {
        "id": "ULKvemZpaNal"
      },
      "source": [
        "## 5. Define Spark NLP pipeline"
      ]
    },
    {
      "cell_type": "code",
      "execution_count": 6,
      "metadata": {
        "colab": {
          "base_uri": "https://localhost:8080/"
        },
        "id": "K2CS_jdi5Phc",
        "outputId": "c349cd6a-7637-4adc-88d9-99d296ea411d"
      },
      "outputs": [
        {
          "name": "stdout",
          "output_type": "stream",
          "text": [
            "tfhub_use download started this may take some time.\n",
            "Approximate size to download 923.7 MB\n",
            "[OK!]\n",
            "classifierdl_use_trec50 download started this may take some time.\n",
            "Approximate size to download 21.2 MB\n",
            "[OK!]\n"
          ]
        }
      ],
      "source": [
        "documentAssembler = DocumentAssembler()\\\n",
        "    .setInputCol(\"text\")\\\n",
        "    .setOutputCol(\"document\")\n",
        "\n",
        "use = UniversalSentenceEncoder.pretrained(lang=\"en\") \\\n",
        " .setInputCols([\"document\"])\\\n",
        " .setOutputCol(\"sentence_embeddings\")\n",
        "\n",
        "\n",
        "document_classifier = ClassifierDLModel.pretrained(model_name, 'en') \\\n",
        "          .setInputCols([\"document\", \"sentence_embeddings\"]) \\\n",
        "          .setOutputCol(\"class\")\n",
        "\n",
        "nlpPipeline = Pipeline(stages=[\n",
        " documentAssembler, \n",
        " use,\n",
        " document_classifier\n",
        " ])\n"
      ]
    },
    {
      "cell_type": "markdown",
      "metadata": {
        "id": "hZtgPiQPafLR"
      },
      "source": [
        "## 6. Run the pipeline"
      ]
    },
    {
      "cell_type": "code",
      "execution_count": 7,
      "metadata": {
        "id": "lr3DMHgd5Pk8"
      },
      "outputs": [],
      "source": [
        "empty_df = spark.createDataFrame([['']]).toDF(\"text\")\n",
        "\n",
        "pipelineModel = nlpPipeline.fit(empty_df)\n",
        "df = spark.createDataFrame(pd.DataFrame({\"text\":text_list}))\n",
        "result = pipelineModel.transform(df)"
      ]
    },
    {
      "cell_type": "markdown",
      "metadata": {
        "id": "GM8GfPB5aSCu"
      },
      "source": [
        "## 7. Visualize results"
      ]
    },
    {
      "cell_type": "code",
      "execution_count": 8,
      "metadata": {
        "colab": {
          "base_uri": "https://localhost:8080/"
        },
        "id": "P84W1Z4uPI_b",
        "outputId": "db01e6ba-6ebe-4c06-e621-095ff2d05265"
      },
      "outputs": [
        {
          "name": "stdout",
          "output_type": "stream",
          "text": [
            "+------------------------------------------------------------------------------------------------+------------+\n",
            "|document                                                                                        |class       |\n",
            "+------------------------------------------------------------------------------------------------+------------+\n",
            "|What effect does pollution have on the Chesapeake Bay oysters?                                  | DESC_desc  |\n",
            "|What financial relationships exist between Google and its advertisers?                          | DESC_desc  |\n",
            "|What financial relationships exist between the Chinese government and the Cuban government?     | DESC_desc  |\n",
            "|What was the number of member nations of the U.N. in 2000?                                      | NUM_count  |\n",
            "|Who is the Secretary-General for political affairs?                                             | HUM_ind    |\n",
            "|When did the construction of stone circles begin in the UK?                                     | LOC_other  |\n",
            "|In what country is the WTO headquartered?                                                       | LOC_other  |\n",
            "|What animal was the first mammal successfully cloned from adult cells?                          | HUM_ind    |\n",
            "|What other prince showed his paintings in a two-prince exhibition with Prince Charles in London?| HUM_ind    |\n",
            "|Is there evidence to support the involvement of Garry Kasparov in politics?                     | DESC_reason|\n",
            "+------------------------------------------------------------------------------------------------+------------+\n",
            "\n"
          ]
        }
      ],
      "source": [
        "result.select(F.explode(F.arrays_zip('document.result', 'class.result')).alias(\"cols\")) \\\n",
        ".select(F.expr(\"cols['0']\").alias(\"document\"),\n",
        "        F.expr(\"cols['1']\").alias(\"class\")).show(truncate=False)"
      ]
    }
  ],
  "metadata": {
    "colab": {
      "collapsed_sections": [],
      "name": "CLASSIFICATION_EN_TREC.ipynb",
      "provenance": [],
      "toc_visible": true
    },
    "kernelspec": {
      "display_name": "Python 3",
      "name": "python3"
    },
    "language_info": {
      "codemirror_mode": {
        "name": "ipython",
        "version": 3
      },
      "file_extension": ".py",
      "mimetype": "text/x-python",
      "name": "python",
      "nbconvert_exporter": "python",
      "pygments_lexer": "ipython3",
      "version": "3.6.10"
    }
  },
  "nbformat": 4,
  "nbformat_minor": 0
}

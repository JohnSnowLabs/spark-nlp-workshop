{
  "nbformat": 4,
  "nbformat_minor": 0,
  "metadata": {
    "colab": {
      "name": "CLASSIFICATION_EN_TREC.ipynb",
      "provenance": [],
      "collapsed_sections": []
    },
    "kernelspec": {
      "name": "python3",
      "display_name": "Python 3"
    }
  },
  "cells": [
    {
      "cell_type": "markdown",
      "metadata": {
        "id": "vas1PNJwZp2U",
        "colab_type": "text"
      },
      "source": [
        "\n",
        "\n",
        "![JohnSnowLabs](https://nlp.johnsnowlabs.com/assets/images/logo.png)\n",
        "\n",
        "[![Open In Colab](https://colab.research.google.com/assets/colab-badge.svg)](https://colab.research.google.com/github/JohnSnowLabs/spark-nlp-workshop/blob/master/tutorials/streamlit_notebooks/CLASSIFICATION_EN_TREC.ipynb)\n",
        "\n",
        "\n"
      ]
    },
    {
      "cell_type": "markdown",
      "metadata": {
        "id": "E2lonApkZwJP",
        "colab_type": "text"
      },
      "source": [
        "# **Classify text according to TREC classes**"
      ]
    },
    {
      "cell_type": "markdown",
      "metadata": {
        "id": "kMURhBz4ZwM6",
        "colab_type": "text"
      },
      "source": [
        "## 0. Colab Setup"
      ]
    },
    {
      "cell_type": "code",
      "metadata": {
        "id": "sIJfXkK54WFk",
        "colab_type": "code",
        "colab": {}
      },
      "source": [
        "!sudo apt-get install openjdk-8-jdk\n",
        "!java -version\n",
        "!pip install --ignore-installed -q pyspark==2.4.4\n",
        "!pip install spark-nlp"
      ],
      "execution_count": null,
      "outputs": []
    },
    {
      "cell_type": "code",
      "metadata": {
        "id": "v29AZ9XO5AhU",
        "colab_type": "code",
        "colab": {}
      },
      "source": [
        "import pandas as pd\n",
        "import numpy as np\n",
        "import os\n",
        "os.environ[\"JAVA_HOME\"] = \"/usr/lib/jvm/java-8-openjdk-amd64\"\n",
        "import json\n",
        "from pyspark.ml import Pipeline\n",
        "from pyspark.sql import SparkSession\n",
        "import pyspark.sql.functions as F\n",
        "from sparknlp.annotator import *\n",
        "from sparknlp.base import *\n",
        "import sparknlp\n",
        "from sparknlp.pretrained import PretrainedPipeline"
      ],
      "execution_count": 2,
      "outputs": []
    },
    {
      "cell_type": "markdown",
      "metadata": {
        "id": "PKf4YBDBZ9x7",
        "colab_type": "text"
      },
      "source": [
        "## 1. Start Spark Session"
      ]
    },
    {
      "cell_type": "code",
      "metadata": {
        "id": "sI-CZ9PO5GW9",
        "colab_type": "code",
        "colab": {}
      },
      "source": [
        "spark = sparknlp.start()"
      ],
      "execution_count": 3,
      "outputs": []
    },
    {
      "cell_type": "markdown",
      "metadata": {
        "id": "bXA24WIYaACJ",
        "colab_type": "text"
      },
      "source": [
        "## 2. Select the DL model and re-run all the cells below"
      ]
    },
    {
      "cell_type": "code",
      "metadata": {
        "id": "Y6s6ljDsH9ZK",
        "colab_type": "code",
        "colab": {}
      },
      "source": [
        "### Select Model\n",
        "#model_name = 'classifierdl_use_trec6'\n",
        "model_name = 'classifierdl_use_trec50'"
      ],
      "execution_count": 4,
      "outputs": []
    },
    {
      "cell_type": "markdown",
      "metadata": {
        "id": "m_-O5I9BaF08",
        "colab_type": "text"
      },
      "source": [
        "## 3. Some sample examples"
      ]
    },
    {
      "cell_type": "code",
      "metadata": {
        "id": "WGFzBK1EX8wm",
        "colab_type": "code",
        "colab": {}
      },
      "source": [
        "\n",
        "text_list = [\n",
        "    \"What effect does pollution have on the Chesapeake Bay oysters?\",\n",
        "    \"What financial relationships exist between Google and its advertisers?\",\n",
        "    \"What financial relationships exist between the Chinese government and the Cuban government?\",\n",
        "    \"What was the number of member nations of the U.N. in 2000?\",\n",
        "    \"Who is the Secretary-General for political affairs?\",\n",
        "    \"When did the construction of stone circles begin in the UK?\",\n",
        "    \"In what country is the WTO headquartered?\",\n",
        "    \"What animal was the first mammal successfully cloned from adult cells?\",\n",
        "    \"What other prince showed his paintings in a two-prince exhibition with Prince Charles in London?\",\n",
        "    \"Is there evidence to support the involvement of Garry Kasparov in politics?\",\n",
        "  ]"
      ],
      "execution_count": 5,
      "outputs": []
    },
    {
      "cell_type": "markdown",
      "metadata": {
        "id": "ULKvemZpaNal",
        "colab_type": "text"
      },
      "source": [
        "## 4. Define Spark NLP pipeline"
      ]
    },
    {
      "cell_type": "code",
      "metadata": {
        "id": "K2CS_jdi5Phc",
        "colab_type": "code",
        "colab": {}
      },
      "source": [
        "documentAssembler = DocumentAssembler()\\\n",
        "    .setInputCol(\"text\")\\\n",
        "    .setOutputCol(\"document\")\n",
        "\n",
        "use = UniversalSentenceEncoder.pretrained(lang=\"en\") \\\n",
        " .setInputCols([\"document\"])\\\n",
        " .setOutputCol(\"sentence_embeddings\")\n",
        "\n",
        "\n",
        "document_classifier = ClassifierDLModel.pretrained(model_name, 'en') \\\n",
        "          .setInputCols([\"document\", \"sentence_embeddings\"]) \\\n",
        "          .setOutputCol(\"class\")\n",
        "\n",
        "nlpPipeline = Pipeline(stages=[\n",
        " documentAssembler, \n",
        " use,\n",
        " document_classifier\n",
        " ])\n"
      ],
      "execution_count": null,
      "outputs": []
    },
    {
      "cell_type": "markdown",
      "metadata": {
        "id": "hZtgPiQPafLR",
        "colab_type": "text"
      },
      "source": [
        "## 5. Run the pipeline"
      ]
    },
    {
      "cell_type": "code",
      "metadata": {
        "id": "lr3DMHgd5Pk8",
        "colab_type": "code",
        "colab": {}
      },
      "source": [
        "empty_df = spark.createDataFrame([['']]).toDF(\"text\")\n",
        "\n",
        "pipelineModel = nlpPipeline.fit(empty_df)\n",
        "df = spark.createDataFrame(pd.DataFrame({\"text\":text_list}))\n",
        "result = pipelineModel.transform(df)"
      ],
      "execution_count": 7,
      "outputs": []
    },
    {
      "cell_type": "markdown",
      "metadata": {
        "id": "GM8GfPB5aSCu",
        "colab_type": "text"
      },
      "source": [
        "## 6. Visualize results"
      ]
    },
    {
      "cell_type": "code",
      "metadata": {
        "id": "P84W1Z4uPI_b",
        "colab_type": "code",
        "colab": {}
      },
      "source": [
        "result.select(F.explode(F.arrays_zip('document.result', 'class.result')).alias(\"cols\")) \\\n",
        ".select(F.expr(\"cols['0']\").alias(\"document\"),\n",
        "        F.expr(\"cols['1']\").alias(\"class\")).show(truncate=False)"
      ],
      "execution_count": null,
      "outputs": []
    }
  ]
}
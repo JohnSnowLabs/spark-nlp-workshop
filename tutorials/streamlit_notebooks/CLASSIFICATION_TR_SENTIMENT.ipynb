{
  "cells": [
    {
      "cell_type": "markdown",
      "metadata": {},
      "source": [
        "\n",
        "\n",
        "![JohnSnowLabs](https://nlp.johnsnowlabs.com/assets/images/logo.png)\n",
        "\n",
        "[![Open In Colab](https://colab.research.google.com/assets/colab-badge.svg)](https://githubtocolab.com/JohnSnowLabs/spark-nlp-workshop/blob/master/tutorials/streamlit_notebooks/CLASSIFICATION_TR_SENTIMENT.ipynb)\n",
        "\n",
        "\n"
      ]
    },
    {
      "cell_type": "markdown",
      "metadata": {},
      "source": [
        "# **Turkish Sentiment**"
      ]
    },
    {
      "cell_type": "markdown",
      "metadata": {},
      "source": [
        "## 0. Colab Setup\n"
      ]
    },
    {
      "cell_type": "code",
      "execution_count": 1,
      "metadata": {
        "colab": {
          "base_uri": "https://localhost:8080/"
        },
        "id": "w_H_3i8P8eZA",
        "outputId": "abe87c69-c879-434d-c4b8-1d42ef8e89de"
      },
      "outputs": [],
      "source": [
        "# Install PySpark and Spark NLP\n",
        "! pip install -q pyspark==3.1.2 spark-nlp"
      ]
    },
    {
      "cell_type": "markdown",
      "metadata": {
        "id": "YUAbznLNGXd3"
      },
      "source": [
        "## 1. Start Spark Session"
      ]
    },
    {
      "cell_type": "code",
      "execution_count": 2,
      "metadata": {
        "colab": {
          "base_uri": "https://localhost:8080/"
        },
        "id": "ZvBTTIMD9Oiq",
        "outputId": "302f0d32-6bd8-4adc-8bf9-dd0337ba3535"
      },
      "outputs": [
        {
          "name": "stdout",
          "output_type": "stream",
          "text": [
            "Spark NLP version 3.4.0\n",
            "Apache Spark version: 3.1.2\n"
          ]
        }
      ],
      "source": [
        "import pandas as pd\n",
        "import numpy as np\n",
        "import os\n",
        "import json\n",
        "from pyspark.ml import Pipeline\n",
        "from pyspark.sql import SparkSession\n",
        "import pyspark.sql.functions as F\n",
        "from sparknlp.annotator import *\n",
        "from sparknlp.base import *\n",
        "import sparknlp\n",
        "from sparknlp.pretrained import PretrainedPipeline\n",
        "\n",
        "spark = sparknlp.start()\n",
        "\n",
        "print(\"Spark NLP version\", sparknlp.version())\n",
        "print(\"Apache Spark version:\", spark.version)"
      ]
    },
    {
      "cell_type": "markdown",
      "metadata": {
        "id": "yfJQDKVi7Vfb"
      },
      "source": [
        "## 2. Preparing Input"
      ]
    },
    {
      "cell_type": "code",
      "execution_count": 3,
      "metadata": {
        "id": "j3lBSipoGmA3"
      },
      "outputs": [],
      "source": [
        "text_list = [\n",
        "             \"\"\"Bu sıralar moralim bozuk.\"\"\",\n",
        "             \"\"\"Sınavımı geçtiğimi öğrenince derin bir nefes aldım.\"\"\",\n",
        "             \"\"\"Hizmet kalite çok güzel teşekkürler\"\"\",\n",
        "             \"\"\"Meydana gelen kazada 1 kisi hayatini kaybetti.\"\"\",\n",
        "             \"\"\"Ocak ayinda deprem bekleniyor\"\"\",\n",
        "             \"\"\"Gun batimi izlemeyi cok severim.\"\"\",\n",
        "             ]\n",
        "\n",
        "files = [f\"{i}.txt\" for i in (range(1, len(text_list)+1))]\n",
        "\n",
        "df = spark.createDataFrame(pd.DataFrame({'text': text_list, 'file' : files}))"
      ]
    },
    {
      "cell_type": "markdown",
      "metadata": {
        "id": "vxVkYd9e7Zlj"
      },
      "source": [
        "## 3. Define Pipeline"
      ]
    },
    {
      "cell_type": "code",
      "execution_count": 4,
      "metadata": {
        "colab": {
          "base_uri": "https://localhost:8080/"
        },
        "id": "Z1XUmtpzNv_G",
        "outputId": "de2043f8-6687-4820-a972-b7f0616dea13"
      },
      "outputs": [
        {
          "name": "stdout",
          "output_type": "stream",
          "text": [
            "tfhub_use_multi download started this may take some time.\n",
            "Approximate size to download 247.6 MB\n",
            "[OK!]\n",
            "classifierdl_use_sentiment download started this may take some time.\n",
            "Approximate size to download 21.4 MB\n",
            "[OK!]\n"
          ]
        }
      ],
      "source": [
        "document = DocumentAssembler()\\\n",
        "    .setInputCol(\"text\")\\\n",
        "    .setOutputCol(\"document\")\n",
        "\n",
        "embeddings = UniversalSentenceEncoder.pretrained(\"tfhub_use_multi\", \"xx\") \\\n",
        "    .setInputCols(\"document\") \\\n",
        "    .setOutputCol(\"sentence_embeddings\")\n",
        "\n",
        "sentimentClassifier = ClassifierDLModel.pretrained(\"classifierdl_use_sentiment\", \"tr\") \\\n",
        "    .setInputCols([\"document\", \"sentence_embeddings\"]) \\\n",
        "    .setOutputCol(\"class\")\n",
        "\n",
        "sentiment_pipeline = Pipeline(stages=[document, embeddings, sentimentClassifier])\n",
        "\n",
        "tr_sentiment_pipeline = sentiment_pipeline.fit(spark.createDataFrame([['']]).toDF(\"text\"))"
      ]
    },
    {
      "cell_type": "markdown",
      "metadata": {
        "id": "6aVbeJqi7f5T"
      },
      "source": [
        "## 4. Predictions"
      ]
    },
    {
      "cell_type": "code",
      "execution_count": 5,
      "metadata": {
        "id": "G4MCgugsGr4g"
      },
      "outputs": [],
      "source": [
        "res = tr_sentiment_pipeline.transform(df).toPandas()"
      ]
    },
    {
      "cell_type": "code",
      "execution_count": 6,
      "metadata": {
        "colab": {
          "base_uri": "https://localhost:8080/",
          "height": 206
        },
        "id": "WwxhWHIXHQbL",
        "outputId": "dfefb984-e69c-4766-be59-3cfd381e1d02"
      },
      "outputs": [
        {
          "data": {
            "text/html": [
              "<div>\n",
              "<style scoped>\n",
              "    .dataframe tbody tr th:only-of-type {\n",
              "        vertical-align: middle;\n",
              "    }\n",
              "\n",
              "    .dataframe tbody tr th {\n",
              "        vertical-align: top;\n",
              "    }\n",
              "\n",
              "    .dataframe thead th {\n",
              "        text-align: right;\n",
              "    }\n",
              "</style>\n",
              "<table border=\"1\" class=\"dataframe\">\n",
              "  <thead>\n",
              "    <tr style=\"text-align: right;\">\n",
              "      <th></th>\n",
              "      <th>text</th>\n",
              "      <th>class</th>\n",
              "    </tr>\n",
              "  </thead>\n",
              "  <tbody>\n",
              "    <tr>\n",
              "      <th>0</th>\n",
              "      <td>Bu sıralar moralim bozuk.</td>\n",
              "      <td>[(category, 0, 24, NEGATIVE, {'sentence': '0', 'POSITIVE': '6.861473E-38', 'NEGATIVE': '1.0'}, [])]</td>\n",
              "    </tr>\n",
              "    <tr>\n",
              "      <th>1</th>\n",
              "      <td>Sınavımı geçtiğimi öğrenince derin bir nefes aldım.</td>\n",
              "      <td>[(category, 0, 50, POSITIVE, {'sentence': '0', 'POSITIVE': '1.0', 'NEGATIVE': '2.031546E-12'}, [])]</td>\n",
              "    </tr>\n",
              "    <tr>\n",
              "      <th>2</th>\n",
              "      <td>Hizmet kalite çok güzel teşekkürler</td>\n",
              "      <td>[(category, 0, 34, POSITIVE, {'sentence': '0', 'POSITIVE': '1.0', 'NEGATIVE': '0.0'}, [])]</td>\n",
              "    </tr>\n",
              "    <tr>\n",
              "      <th>3</th>\n",
              "      <td>Meydana gelen kazada 1 kisi hayatini kaybetti.</td>\n",
              "      <td>[(category, 0, 45, NEGATIVE, {'sentence': '0', 'POSITIVE': '6.323716E-30', 'NEGATIVE': '1.0'}, [])]</td>\n",
              "    </tr>\n",
              "    <tr>\n",
              "      <th>4</th>\n",
              "      <td>Ocak ayinda deprem bekleniyor</td>\n",
              "      <td>[(category, 0, 28, NEGATIVE, {'sentence': '0', 'POSITIVE': '7.328405E-27', 'NEGATIVE': '1.0'}, [])]</td>\n",
              "    </tr>\n",
              "  </tbody>\n",
              "</table>\n",
              "</div>"
            ],
            "text/plain": [
              "                                                  text  \\\n",
              "0                            Bu sıralar moralim bozuk.   \n",
              "1  Sınavımı geçtiğimi öğrenince derin bir nefes aldım.   \n",
              "2                  Hizmet kalite çok güzel teşekkürler   \n",
              "3       Meydana gelen kazada 1 kisi hayatini kaybetti.   \n",
              "4                        Ocak ayinda deprem bekleniyor   \n",
              "\n",
              "                                                                                                 class  \n",
              "0  [(category, 0, 24, NEGATIVE, {'sentence': '0', 'POSITIVE': '6.861473E-38', 'NEGATIVE': '1.0'}, [])]  \n",
              "1  [(category, 0, 50, POSITIVE, {'sentence': '0', 'POSITIVE': '1.0', 'NEGATIVE': '2.031546E-12'}, [])]  \n",
              "2           [(category, 0, 34, POSITIVE, {'sentence': '0', 'POSITIVE': '1.0', 'NEGATIVE': '0.0'}, [])]  \n",
              "3  [(category, 0, 45, NEGATIVE, {'sentence': '0', 'POSITIVE': '6.323716E-30', 'NEGATIVE': '1.0'}, [])]  \n",
              "4  [(category, 0, 28, NEGATIVE, {'sentence': '0', 'POSITIVE': '7.328405E-27', 'NEGATIVE': '1.0'}, [])]  "
            ]
          },
          "execution_count": 6,
          "metadata": {},
          "output_type": "execute_result"
        }
      ],
      "source": [
        "pd.set_option('display.max_colwidth', None)\n",
        "\n",
        "res[['text', 'class']].head()"
      ]
    },
    {
      "cell_type": "code",
      "execution_count": 7,
      "metadata": {
        "colab": {
          "base_uri": "https://localhost:8080/",
          "height": 206
        },
        "id": "4H5bbIOqMDq9",
        "outputId": "d349c331-aa8a-42dd-ba97-501eff4d8726"
      },
      "outputs": [
        {
          "data": {
            "text/html": [
              "<div>\n",
              "<style scoped>\n",
              "    .dataframe tbody tr th:only-of-type {\n",
              "        vertical-align: middle;\n",
              "    }\n",
              "\n",
              "    .dataframe tbody tr th {\n",
              "        vertical-align: top;\n",
              "    }\n",
              "\n",
              "    .dataframe thead th {\n",
              "        text-align: right;\n",
              "    }\n",
              "</style>\n",
              "<table border=\"1\" class=\"dataframe\">\n",
              "  <thead>\n",
              "    <tr style=\"text-align: right;\">\n",
              "      <th></th>\n",
              "      <th>text</th>\n",
              "      <th>class</th>\n",
              "      <th>prediction</th>\n",
              "      <th>score</th>\n",
              "    </tr>\n",
              "  </thead>\n",
              "  <tbody>\n",
              "    <tr>\n",
              "      <th>0</th>\n",
              "      <td>Bu sıralar moralim bozuk.</td>\n",
              "      <td>(category, 0, 24, NEGATIVE, {'sentence': '0', 'POSITIVE': '6.861473E-38', 'NEGATIVE': '1.0'}, [])</td>\n",
              "      <td>NEGATIVE</td>\n",
              "      <td>100.0</td>\n",
              "    </tr>\n",
              "    <tr>\n",
              "      <th>1</th>\n",
              "      <td>Sınavımı geçtiğimi öğrenince derin bir nefes aldım.</td>\n",
              "      <td>(category, 0, 50, POSITIVE, {'sentence': '0', 'POSITIVE': '1.0', 'NEGATIVE': '2.031546E-12'}, [])</td>\n",
              "      <td>POSITIVE</td>\n",
              "      <td>100.0</td>\n",
              "    </tr>\n",
              "    <tr>\n",
              "      <th>2</th>\n",
              "      <td>Hizmet kalite çok güzel teşekkürler</td>\n",
              "      <td>(category, 0, 34, POSITIVE, {'sentence': '0', 'POSITIVE': '1.0', 'NEGATIVE': '0.0'}, [])</td>\n",
              "      <td>POSITIVE</td>\n",
              "      <td>100.0</td>\n",
              "    </tr>\n",
              "    <tr>\n",
              "      <th>3</th>\n",
              "      <td>Meydana gelen kazada 1 kisi hayatini kaybetti.</td>\n",
              "      <td>(category, 0, 45, NEGATIVE, {'sentence': '0', 'POSITIVE': '6.323716E-30', 'NEGATIVE': '1.0'}, [])</td>\n",
              "      <td>NEGATIVE</td>\n",
              "      <td>100.0</td>\n",
              "    </tr>\n",
              "    <tr>\n",
              "      <th>4</th>\n",
              "      <td>Ocak ayinda deprem bekleniyor</td>\n",
              "      <td>(category, 0, 28, NEGATIVE, {'sentence': '0', 'POSITIVE': '7.328405E-27', 'NEGATIVE': '1.0'}, [])</td>\n",
              "      <td>NEGATIVE</td>\n",
              "      <td>100.0</td>\n",
              "    </tr>\n",
              "  </tbody>\n",
              "</table>\n",
              "</div>"
            ],
            "text/plain": [
              "                                                  text  \\\n",
              "0                            Bu sıralar moralim bozuk.   \n",
              "1  Sınavımı geçtiğimi öğrenince derin bir nefes aldım.   \n",
              "2                  Hizmet kalite çok güzel teşekkürler   \n",
              "3       Meydana gelen kazada 1 kisi hayatini kaybetti.   \n",
              "4                        Ocak ayinda deprem bekleniyor   \n",
              "\n",
              "                                                                                               class  \\\n",
              "0  (category, 0, 24, NEGATIVE, {'sentence': '0', 'POSITIVE': '6.861473E-38', 'NEGATIVE': '1.0'}, [])   \n",
              "1  (category, 0, 50, POSITIVE, {'sentence': '0', 'POSITIVE': '1.0', 'NEGATIVE': '2.031546E-12'}, [])   \n",
              "2           (category, 0, 34, POSITIVE, {'sentence': '0', 'POSITIVE': '1.0', 'NEGATIVE': '0.0'}, [])   \n",
              "3  (category, 0, 45, NEGATIVE, {'sentence': '0', 'POSITIVE': '6.323716E-30', 'NEGATIVE': '1.0'}, [])   \n",
              "4  (category, 0, 28, NEGATIVE, {'sentence': '0', 'POSITIVE': '7.328405E-27', 'NEGATIVE': '1.0'}, [])   \n",
              "\n",
              "  prediction  score  \n",
              "0   NEGATIVE  100.0  \n",
              "1   POSITIVE  100.0  \n",
              "2   POSITIVE  100.0  \n",
              "3   NEGATIVE  100.0  \n",
              "4   NEGATIVE  100.0  "
            ]
          },
          "execution_count": 7,
          "metadata": {},
          "output_type": "execute_result"
        }
      ],
      "source": [
        "res['prediction'], res['score'] = '-', 0\n",
        "\n",
        "res = res[['text', 'class', 'prediction', 'score']].explode('class')\n",
        "\n",
        "res['prediction'] = res['class'].apply(lambda row: row[3])\n",
        "res['score'] = res['class'].apply(lambda row: round(float(row[4][row[3].strip()])*100, 3))\n",
        "\n",
        "res.head()"
      ]
    }
  ],
  "metadata": {
    "colab": {
      "name": "CLASSIFICATION_TR_SENTIMENT.ipynb",
      "provenance": []
    },
    "interpreter": {
      "hash": "45150093197569bb3a58481dcd32cd1adb45462fa3448719e8ac38ada6166aca"
    },
    "kernelspec": {
      "display_name": "Python 3.6.10 64-bit ('tensorflow2_p36': conda)",
      "name": "python3"
    },
    "language_info": {
      "codemirror_mode": {
        "name": "ipython",
        "version": 3
      },
      "file_extension": ".py",
      "mimetype": "text/x-python",
      "name": "python",
      "nbconvert_exporter": "python",
      "pygments_lexer": "ipython3",
      "version": "3.6.10"
    }
  },
  "nbformat": 4,
  "nbformat_minor": 0
}

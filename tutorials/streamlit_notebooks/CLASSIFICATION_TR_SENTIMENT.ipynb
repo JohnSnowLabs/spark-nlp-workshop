{
  "nbformat": 4,
  "nbformat_minor": 0,
  "metadata": {
    "colab": {
      "name": "CLASSIFICATION_TR_SENTIMENT.ipynb",
      "provenance": []
    },
    "kernelspec": {
      "name": "python3",
      "display_name": "Python 3"
    },
    "language_info": {
      "name": "python"
    }
  },
  "cells": [
    {
      "cell_type": "code",
      "execution_count": 1,
      "metadata": {
        "colab": {
          "base_uri": "https://localhost:8080/"
        },
        "id": "w_H_3i8P8eZA",
        "outputId": "abe87c69-c879-434d-c4b8-1d42ef8e89de"
      },
      "outputs": [
        {
          "output_type": "stream",
          "name": "stdout",
          "text": [
            "\u001b[K     |████████████████████████████████| 212.4 MB 69 kB/s \n",
            "\u001b[K     |████████████████████████████████| 130 kB 52.0 MB/s \n",
            "\u001b[K     |████████████████████████████████| 198 kB 60.2 MB/s \n",
            "\u001b[?25h  Building wheel for pyspark (setup.py) ... \u001b[?25l\u001b[?25hdone\n"
          ]
        }
      ],
      "source": [
        "! pip install -q pyspark==3.1.2 spark-nlp==3.3.2 --upgrade"
      ]
    },
    {
      "cell_type": "markdown",
      "source": [
        "## 1. Start Spark Session"
      ],
      "metadata": {
        "id": "YUAbznLNGXd3"
      }
    },
    {
      "cell_type": "code",
      "source": [
        "import pandas as pd\n",
        "import numpy as np\n",
        "import os\n",
        "import json\n",
        "from pyspark.ml import Pipeline\n",
        "from pyspark.sql import SparkSession\n",
        "import pyspark.sql.functions as F\n",
        "from sparknlp.annotator import *\n",
        "from sparknlp.base import *\n",
        "import sparknlp\n",
        "from sparknlp.pretrained import PretrainedPipeline\n",
        "\n",
        "spark = sparknlp.start()\n",
        "\n",
        "print(\"Spark NLP version\", sparknlp.version())\n",
        "print(\"Apache Spark version:\", spark.version)"
      ],
      "metadata": {
        "colab": {
          "base_uri": "https://localhost:8080/"
        },
        "id": "ZvBTTIMD9Oiq",
        "outputId": "302f0d32-6bd8-4adc-8bf9-dd0337ba3535"
      },
      "execution_count": 2,
      "outputs": [
        {
          "output_type": "stream",
          "name": "stdout",
          "text": [
            "Spark NLP version 3.3.2\n",
            "Apache Spark version: 3.1.2\n"
          ]
        }
      ]
    },
    {
      "cell_type": "markdown",
      "source": [
        "## 2. Preparing Input"
      ],
      "metadata": {
        "id": "yfJQDKVi7Vfb"
      }
    },
    {
      "cell_type": "code",
      "source": [
        "text_list = [\n",
        "             \"\"\"Bu sıralar moralim bozuk.\"\"\",\n",
        "             \"\"\"Sınavımı geçtiğimi öğrenince derin bir nefes aldım.\"\"\",\n",
        "             \"\"\"Hizmet kalite çok güzel teşekkürler\"\"\",\n",
        "             \"\"\"Meydana gelen kazada 1 kisi hayatini kaybetti.\"\"\",\n",
        "             \"\"\"Ocak ayinda deprem bekleniyor\"\"\",\n",
        "             \"\"\"Gun batimi izlemeyi cok severim.\"\"\",\n",
        "             ]\n",
        "\n",
        "files = [f\"{i}.txt\" for i in (range(1, len(text_list)+1))]\n",
        "\n",
        "df = spark.createDataFrame(pd.DataFrame({'text': text_list, 'file' : files}))"
      ],
      "metadata": {
        "id": "j3lBSipoGmA3"
      },
      "execution_count": 47,
      "outputs": []
    },
    {
      "cell_type": "markdown",
      "source": [
        "## 3. Define Pipeline"
      ],
      "metadata": {
        "id": "vxVkYd9e7Zlj"
      }
    },
    {
      "cell_type": "code",
      "source": [
        "document = DocumentAssembler()\\\n",
        "    .setInputCol(\"text\")\\\n",
        "    .setOutputCol(\"document\")\n",
        "\n",
        "embeddings = UniversalSentenceEncoder.pretrained(\"tfhub_use_multi\", \"xx\") \\\n",
        "      .setInputCols(\"document\") \\\n",
        "      .setOutputCol(\"sentence_embeddings\")\n",
        "\n",
        "sentimentClassifier = ClassifierDLModel.pretrained(\"classifierdl_use_sentiment\", \"tr\") \\\n",
        "  .setInputCols([\"document\", \"sentence_embeddings\"]) \\\n",
        "  .setOutputCol(\"class\")\n",
        "\n",
        "sentiment_pipeline = Pipeline(stages=[document, embeddings, sentimentClassifier])\n",
        "\n",
        "tr_sentiment_pipeline = sentiment_pipeline.fit(spark.createDataFrame([['']]).toDF(\"text\"))"
      ],
      "metadata": {
        "colab": {
          "base_uri": "https://localhost:8080/"
        },
        "id": "Z1XUmtpzNv_G",
        "outputId": "de2043f8-6687-4820-a972-b7f0616dea13"
      },
      "execution_count": 4,
      "outputs": [
        {
          "output_type": "stream",
          "name": "stdout",
          "text": [
            "tfhub_use_multi download started this may take some time.\n",
            "Approximate size to download 247.6 MB\n",
            "[OK!]\n",
            "classifierdl_use_sentiment download started this may take some time.\n",
            "Approximate size to download 21.4 MB\n",
            "[OK!]\n"
          ]
        }
      ]
    },
    {
      "cell_type": "markdown",
      "source": [
        "## 4. Predictions"
      ],
      "metadata": {
        "id": "6aVbeJqi7f5T"
      }
    },
    {
      "cell_type": "code",
      "source": [
        "res = tr_sentiment_pipeline.transform(df).toPandas()"
      ],
      "metadata": {
        "id": "G4MCgugsGr4g"
      },
      "execution_count": 48,
      "outputs": []
    },
    {
      "cell_type": "code",
      "source": [
        "pd.set_option('display.max_colwidth', None)\n",
        "\n",
        "res[['text', 'class']].head()"
      ],
      "metadata": {
        "colab": {
          "base_uri": "https://localhost:8080/",
          "height": 206
        },
        "id": "WwxhWHIXHQbL",
        "outputId": "dfefb984-e69c-4766-be59-3cfd381e1d02"
      },
      "execution_count": 49,
      "outputs": [
        {
          "output_type": "execute_result",
          "data": {
            "text/html": [
              "<div>\n",
              "<style scoped>\n",
              "    .dataframe tbody tr th:only-of-type {\n",
              "        vertical-align: middle;\n",
              "    }\n",
              "\n",
              "    .dataframe tbody tr th {\n",
              "        vertical-align: top;\n",
              "    }\n",
              "\n",
              "    .dataframe thead th {\n",
              "        text-align: right;\n",
              "    }\n",
              "</style>\n",
              "<table border=\"1\" class=\"dataframe\">\n",
              "  <thead>\n",
              "    <tr style=\"text-align: right;\">\n",
              "      <th></th>\n",
              "      <th>text</th>\n",
              "      <th>class</th>\n",
              "    </tr>\n",
              "  </thead>\n",
              "  <tbody>\n",
              "    <tr>\n",
              "      <th>0</th>\n",
              "      <td>Bu sıralar moralim bozuk.</td>\n",
              "      <td>[(category, 0, 24, NEGATIVE, {'sentence': '0', 'POSITIVE': '6.861368E-38', 'NEGATIVE': '1.0'}, [])]</td>\n",
              "    </tr>\n",
              "    <tr>\n",
              "      <th>1</th>\n",
              "      <td>Sınavımı geçtiğimi öğrenince derin bir nefes aldım.</td>\n",
              "      <td>[(category, 0, 50, POSITIVE, {'sentence': '0', 'POSITIVE': '1.0', 'NEGATIVE': '2.031542E-12'}, [])]</td>\n",
              "    </tr>\n",
              "    <tr>\n",
              "      <th>2</th>\n",
              "      <td>Hizmet kalite çok güzel teşekkürler</td>\n",
              "      <td>[(category, 0, 34, POSITIVE, {'sentence': '0', 'POSITIVE': '1.0', 'NEGATIVE': '0.0'}, [])]</td>\n",
              "    </tr>\n",
              "    <tr>\n",
              "      <th>3</th>\n",
              "      <td>Meydana gelen kazada 1 kisi hayatini kaybetti.</td>\n",
              "      <td>[(category, 0, 45, NEGATIVE, {'sentence': '0', 'POSITIVE': '6.323619E-30', 'NEGATIVE': '1.0'}, [])]</td>\n",
              "    </tr>\n",
              "    <tr>\n",
              "      <th>4</th>\n",
              "      <td>Ocak ayinda deprem bekleniyor</td>\n",
              "      <td>[(category, 0, 28, NEGATIVE, {'sentence': '0', 'POSITIVE': '7.328713E-27', 'NEGATIVE': '1.0'}, [])]</td>\n",
              "    </tr>\n",
              "  </tbody>\n",
              "</table>\n",
              "</div>"
            ],
            "text/plain": [
              "                                                  text                                                                                                class\n",
              "0                            Bu sıralar moralim bozuk.  [(category, 0, 24, NEGATIVE, {'sentence': '0', 'POSITIVE': '6.861368E-38', 'NEGATIVE': '1.0'}, [])]\n",
              "1  Sınavımı geçtiğimi öğrenince derin bir nefes aldım.  [(category, 0, 50, POSITIVE, {'sentence': '0', 'POSITIVE': '1.0', 'NEGATIVE': '2.031542E-12'}, [])]\n",
              "2                  Hizmet kalite çok güzel teşekkürler           [(category, 0, 34, POSITIVE, {'sentence': '0', 'POSITIVE': '1.0', 'NEGATIVE': '0.0'}, [])]\n",
              "3       Meydana gelen kazada 1 kisi hayatini kaybetti.  [(category, 0, 45, NEGATIVE, {'sentence': '0', 'POSITIVE': '6.323619E-30', 'NEGATIVE': '1.0'}, [])]\n",
              "4                        Ocak ayinda deprem bekleniyor  [(category, 0, 28, NEGATIVE, {'sentence': '0', 'POSITIVE': '7.328713E-27', 'NEGATIVE': '1.0'}, [])]"
            ]
          },
          "metadata": {},
          "execution_count": 49
        }
      ]
    },
    {
      "cell_type": "code",
      "source": [
        "res['prediction'], res['score'] = '-', 0\n",
        "\n",
        "res = res[['text', 'class', 'prediction', 'score']].explode('class')\n",
        "\n",
        "res['prediction'] = res['class'].apply(lambda row: row[3])\n",
        "res['score'] = res['class'].apply(lambda row: round(float(row[4][row[3].strip()])*100, 3))\n",
        "\n",
        "res.head()"
      ],
      "metadata": {
        "id": "4H5bbIOqMDq9",
        "colab": {
          "base_uri": "https://localhost:8080/",
          "height": 206
        },
        "outputId": "d349c331-aa8a-42dd-ba97-501eff4d8726"
      },
      "execution_count": 50,
      "outputs": [
        {
          "output_type": "execute_result",
          "data": {
            "text/html": [
              "<div>\n",
              "<style scoped>\n",
              "    .dataframe tbody tr th:only-of-type {\n",
              "        vertical-align: middle;\n",
              "    }\n",
              "\n",
              "    .dataframe tbody tr th {\n",
              "        vertical-align: top;\n",
              "    }\n",
              "\n",
              "    .dataframe thead th {\n",
              "        text-align: right;\n",
              "    }\n",
              "</style>\n",
              "<table border=\"1\" class=\"dataframe\">\n",
              "  <thead>\n",
              "    <tr style=\"text-align: right;\">\n",
              "      <th></th>\n",
              "      <th>text</th>\n",
              "      <th>class</th>\n",
              "      <th>prediction</th>\n",
              "      <th>score</th>\n",
              "    </tr>\n",
              "  </thead>\n",
              "  <tbody>\n",
              "    <tr>\n",
              "      <th>0</th>\n",
              "      <td>Bu sıralar moralim bozuk.</td>\n",
              "      <td>(category, 0, 24, NEGATIVE, {'sentence': '0', 'POSITIVE': '6.861368E-38', 'NEGATIVE': '1.0'}, [])</td>\n",
              "      <td>NEGATIVE</td>\n",
              "      <td>100.0</td>\n",
              "    </tr>\n",
              "    <tr>\n",
              "      <th>1</th>\n",
              "      <td>Sınavımı geçtiğimi öğrenince derin bir nefes aldım.</td>\n",
              "      <td>(category, 0, 50, POSITIVE, {'sentence': '0', 'POSITIVE': '1.0', 'NEGATIVE': '2.031542E-12'}, [])</td>\n",
              "      <td>POSITIVE</td>\n",
              "      <td>100.0</td>\n",
              "    </tr>\n",
              "    <tr>\n",
              "      <th>2</th>\n",
              "      <td>Hizmet kalite çok güzel teşekkürler</td>\n",
              "      <td>(category, 0, 34, POSITIVE, {'sentence': '0', 'POSITIVE': '1.0', 'NEGATIVE': '0.0'}, [])</td>\n",
              "      <td>POSITIVE</td>\n",
              "      <td>100.0</td>\n",
              "    </tr>\n",
              "    <tr>\n",
              "      <th>3</th>\n",
              "      <td>Meydana gelen kazada 1 kisi hayatini kaybetti.</td>\n",
              "      <td>(category, 0, 45, NEGATIVE, {'sentence': '0', 'POSITIVE': '6.323619E-30', 'NEGATIVE': '1.0'}, [])</td>\n",
              "      <td>NEGATIVE</td>\n",
              "      <td>100.0</td>\n",
              "    </tr>\n",
              "    <tr>\n",
              "      <th>4</th>\n",
              "      <td>Ocak ayinda deprem bekleniyor</td>\n",
              "      <td>(category, 0, 28, NEGATIVE, {'sentence': '0', 'POSITIVE': '7.328713E-27', 'NEGATIVE': '1.0'}, [])</td>\n",
              "      <td>NEGATIVE</td>\n",
              "      <td>100.0</td>\n",
              "    </tr>\n",
              "  </tbody>\n",
              "</table>\n",
              "</div>"
            ],
            "text/plain": [
              "                                                  text  ...  score\n",
              "0                            Bu sıralar moralim bozuk.  ...  100.0\n",
              "1  Sınavımı geçtiğimi öğrenince derin bir nefes aldım.  ...  100.0\n",
              "2                  Hizmet kalite çok güzel teşekkürler  ...  100.0\n",
              "3       Meydana gelen kazada 1 kisi hayatini kaybetti.  ...  100.0\n",
              "4                        Ocak ayinda deprem bekleniyor  ...  100.0\n",
              "\n",
              "[5 rows x 4 columns]"
            ]
          },
          "metadata": {},
          "execution_count": 50
        }
      ]
    }
  ]
}
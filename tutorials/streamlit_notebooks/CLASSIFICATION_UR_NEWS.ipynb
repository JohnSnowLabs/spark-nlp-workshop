{
  "nbformat": 4,
  "nbformat_minor": 0,
  "metadata": {
    "colab": {
      "name": "CLASSIFICATION_UR_NEWS.ipynb",
      "provenance": [],
      "collapsed_sections": []
    },
    "kernelspec": {
      "name": "python3",
      "display_name": "Python 3"
    },
    "language_info": {
      "name": "python"
    },
    "accelerator": "GPU"
  },
  "cells": [
    {
      "cell_type": "markdown",
      "source": [
        "\n",
        "\n",
        "![JohnSnowLabs](https://nlp.johnsnowlabs.com/assets/images/logo.png)\n",
        "\n",
        "[![Open In Colab](https://colab.research.google.com/assets/colab-badge.svg)](https://colab.research.google.com/github/JohnSnowLabs/spark-nlp-workshop/blob/master/tutorials/streamlit_notebooks/CLASSIFICATION_UR_NEWS.ipynb)\n",
        "\n",
        "\n",
        "\n",
        "\n"
      ],
      "metadata": {
        "id": "BmzCWrXddU3q"
      }
    },
    {
      "cell_type": "markdown",
      "source": [
        "## **News Classifier for Urdu texts**\n"
      ],
      "metadata": {
        "id": "GtlWsaCuddX2"
      }
    },
    {
      "cell_type": "markdown",
      "metadata": {
        "id": "kMURhBz4ZwM6"
      },
      "source": [
        "## 1. Colab Setup"
      ]
    },
    {
      "cell_type": "code",
      "execution_count": null,
      "metadata": {
        "id": "qyYMEtv59sox",
        "colab": {
          "base_uri": "https://localhost:8080/"
        },
        "outputId": "097465e4-4651-4277-c15d-ab8481dc2ec5"
      },
      "outputs": [
        {
          "output_type": "stream",
          "name": "stdout",
          "text": [
            "\u001b[K     |████████████████████████████████| 212.4 MB 73 kB/s \n",
            "\u001b[K     |████████████████████████████████| 140 kB 24.7 MB/s \n",
            "\u001b[K     |████████████████████████████████| 198 kB 774 kB/s \n",
            "\u001b[?25h  Building wheel for pyspark (setup.py) ... \u001b[?25l\u001b[?25hdone\n"
          ]
        }
      ],
      "source": [
        "# Install PySpark and Spark NLP\n",
        "! pip install -q pyspark==3.1.2 spark-nlp"
      ]
    },
    {
      "cell_type": "code",
      "metadata": {
        "id": "o78aqL2VTOFU"
      },
      "source": [
        "import pandas as pd\n",
        "import numpy as np\n",
        "import json\n",
        "from pyspark.ml import Pipeline\n",
        "from pyspark.sql import SparkSession\n",
        "import pyspark.sql.functions as F\n",
        "from sparknlp.annotator import *\n",
        "from sparknlp.base import *\n",
        "import sparknlp\n",
        "from sparknlp.pretrained import PretrainedPipeline"
      ],
      "execution_count": null,
      "outputs": []
    },
    {
      "cell_type": "code",
      "source": [
        "!pip install --ignore-installed spark-nlp-display"
      ],
      "metadata": {
        "colab": {
          "base_uri": "https://localhost:8080/",
          "height": 1000
        },
        "id": "S0DgiewGdp9U",
        "outputId": "1f5200e1-94ea-4ab8-eb31-a83ecb9d05b9"
      },
      "execution_count": null,
      "outputs": [
        {
          "output_type": "stream",
          "name": "stdout",
          "text": [
            "Collecting spark-nlp-display\n",
            "  Downloading spark_nlp_display-1.8-py3-none-any.whl (95 kB)\n",
            "\u001b[K     |████████████████████████████████| 95 kB 2.4 MB/s \n",
            "\u001b[?25hCollecting ipython\n",
            "  Downloading ipython-7.31.0-py3-none-any.whl (792 kB)\n",
            "\u001b[K     |████████████████████████████████| 792 kB 33.9 MB/s \n",
            "\u001b[?25hCollecting svgwrite==1.4\n",
            "  Downloading svgwrite-1.4-py3-none-any.whl (66 kB)\n",
            "\u001b[K     |████████████████████████████████| 66 kB 5.1 MB/s \n",
            "\u001b[?25hCollecting pandas\n",
            "  Downloading pandas-1.3.5-cp37-cp37m-manylinux_2_17_x86_64.manylinux2014_x86_64.whl (11.3 MB)\n",
            "\u001b[K     |████████████████████████████████| 11.3 MB 56.8 MB/s \n",
            "\u001b[?25hCollecting numpy\n",
            "  Downloading numpy-1.21.5-cp37-cp37m-manylinux_2_12_x86_64.manylinux2010_x86_64.whl (15.7 MB)\n",
            "\u001b[K     |████████████████████████████████| 15.7 MB 145 kB/s \n",
            "\u001b[?25hCollecting spark-nlp\n",
            "  Using cached spark_nlp-3.4.0-py2.py3-none-any.whl (140 kB)\n",
            "Collecting pygments\n",
            "  Downloading Pygments-2.11.2-py3-none-any.whl (1.1 MB)\n",
            "\u001b[K     |████████████████████████████████| 1.1 MB 54.9 MB/s \n",
            "\u001b[?25hCollecting decorator\n",
            "  Downloading decorator-5.1.1-py3-none-any.whl (9.1 kB)\n",
            "Collecting jedi>=0.16\n",
            "  Downloading jedi-0.18.1-py2.py3-none-any.whl (1.6 MB)\n",
            "\u001b[K     |████████████████████████████████| 1.6 MB 46.5 MB/s \n",
            "\u001b[?25hCollecting setuptools>=18.5\n",
            "  Downloading setuptools-60.5.0-py3-none-any.whl (958 kB)\n",
            "\u001b[K     |████████████████████████████████| 958 kB 59.3 MB/s \n",
            "\u001b[?25hCollecting prompt-toolkit!=3.0.0,!=3.0.1,<3.1.0,>=2.0.0\n",
            "  Downloading prompt_toolkit-3.0.24-py3-none-any.whl (374 kB)\n",
            "\u001b[K     |████████████████████████████████| 374 kB 61.1 MB/s \n",
            "\u001b[?25hCollecting backcall\n",
            "  Downloading backcall-0.2.0-py2.py3-none-any.whl (11 kB)\n",
            "Collecting pexpect>4.3\n",
            "  Downloading pexpect-4.8.0-py2.py3-none-any.whl (59 kB)\n",
            "\u001b[K     |████████████████████████████████| 59 kB 6.1 MB/s \n",
            "\u001b[?25hCollecting traitlets>=4.2\n",
            "  Downloading traitlets-5.1.1-py3-none-any.whl (102 kB)\n",
            "\u001b[K     |████████████████████████████████| 102 kB 8.8 MB/s \n",
            "\u001b[?25hCollecting pickleshare\n",
            "  Downloading pickleshare-0.7.5-py2.py3-none-any.whl (6.9 kB)\n",
            "Collecting matplotlib-inline\n",
            "  Downloading matplotlib_inline-0.1.3-py3-none-any.whl (8.2 kB)\n",
            "Collecting parso<0.9.0,>=0.8.0\n",
            "  Downloading parso-0.8.3-py2.py3-none-any.whl (100 kB)\n",
            "\u001b[K     |████████████████████████████████| 100 kB 8.0 MB/s \n",
            "\u001b[?25hCollecting ptyprocess>=0.5\n",
            "  Downloading ptyprocess-0.7.0-py2.py3-none-any.whl (13 kB)\n",
            "Collecting wcwidth\n",
            "  Downloading wcwidth-0.2.5-py2.py3-none-any.whl (30 kB)\n",
            "Collecting pytz>=2017.3\n",
            "  Downloading pytz-2021.3-py2.py3-none-any.whl (503 kB)\n",
            "\u001b[K     |████████████████████████████████| 503 kB 79.6 MB/s \n",
            "\u001b[?25hCollecting python-dateutil>=2.7.3\n",
            "  Downloading python_dateutil-2.8.2-py2.py3-none-any.whl (247 kB)\n",
            "\u001b[K     |████████████████████████████████| 247 kB 73.4 MB/s \n",
            "\u001b[?25hCollecting six>=1.5\n",
            "  Downloading six-1.16.0-py2.py3-none-any.whl (11 kB)\n",
            "Installing collected packages: wcwidth, traitlets, six, ptyprocess, parso, setuptools, pytz, python-dateutil, pygments, prompt-toolkit, pickleshare, pexpect, numpy, matplotlib-inline, jedi, decorator, backcall, svgwrite, spark-nlp, pandas, ipython, spark-nlp-display\n",
            "\u001b[31mERROR: pip's dependency resolver does not currently take into account all the packages that are installed. This behaviour is the source of the following dependency conflicts.\n",
            "yellowbrick 1.3.post1 requires numpy<1.20,>=1.16.0, but you have numpy 1.21.5 which is incompatible.\n",
            "nbclient 0.5.9 requires jupyter-client>=6.1.5, but you have jupyter-client 5.3.5 which is incompatible.\n",
            "moviepy 0.2.3.5 requires decorator<5.0,>=4.0.2, but you have decorator 5.1.1 which is incompatible.\n",
            "jupyter-console 5.2.0 requires prompt-toolkit<2.0.0,>=1.0.0, but you have prompt-toolkit 3.0.24 which is incompatible.\n",
            "google-colab 1.0.0 requires ipython~=5.5.0, but you have ipython 7.31.0 which is incompatible.\n",
            "google-colab 1.0.0 requires pandas~=1.1.0; python_version >= \"3.0\", but you have pandas 1.3.5 which is incompatible.\n",
            "google-colab 1.0.0 requires six~=1.15.0, but you have six 1.16.0 which is incompatible.\n",
            "datascience 0.10.6 requires folium==0.2.1, but you have folium 0.8.3 which is incompatible.\n",
            "albumentations 0.1.12 requires imgaug<0.2.7,>=0.2.5, but you have imgaug 0.2.9 which is incompatible.\u001b[0m\n",
            "Successfully installed backcall-0.2.0 decorator-5.1.1 ipython-7.31.0 jedi-0.18.1 matplotlib-inline-0.1.3 numpy-1.21.5 pandas-1.3.5 parso-0.8.3 pexpect-4.8.0 pickleshare-0.7.5 prompt-toolkit-3.0.24 ptyprocess-0.7.0 pygments-2.11.2 python-dateutil-2.8.2 pytz-2021.3 setuptools-60.5.0 six-1.16.0 spark-nlp-3.4.0 spark-nlp-display-1.8 svgwrite-1.4 traitlets-5.1.1 wcwidth-0.2.5\n"
          ]
        },
        {
          "output_type": "display_data",
          "data": {
            "application/vnd.colab-display-data+json": {
              "pip_warning": {
                "packages": [
                  "IPython",
                  "dateutil",
                  "decorator",
                  "numpy",
                  "pandas",
                  "pexpect",
                  "pickleshare",
                  "pkg_resources",
                  "prompt_toolkit",
                  "pygments",
                  "pytz",
                  "six",
                  "traitlets",
                  "wcwidth"
                ]
              }
            }
          },
          "metadata": {}
        }
      ]
    },
    {
      "cell_type": "markdown",
      "source": [
        "## 2. Start Spark Session"
      ],
      "metadata": {
        "id": "HoF0DUrkdyJZ"
      }
    },
    {
      "cell_type": "code",
      "source": [
        "spark = sparknlp.start()"
      ],
      "metadata": {
        "id": "u3-L6X0gdqCc"
      },
      "execution_count": null,
      "outputs": []
    },
    {
      "cell_type": "markdown",
      "source": [
        "## 3. Sample Examples for Urdu texts."
      ],
      "metadata": {
        "id": "uINFwZwhd03P"
      }
    },
    {
      "cell_type": "code",
      "source": [
        "text_list=[\"\"\"اقوام متحدہ کی سلامتی کونسل نے پیر کو آئیوری کوسٹ پر فوری طور پر ہتھیاروں کی پابندی عائد کر دی اور اہم حکومت اور باغی رہنماؤں کو اگلے ماہ اضافی پابندیوں کے ساتھ سزا دینے کے لیے ووٹ دیا۔\"\"\",\n",
        "           \"\"\" اداکارہ نے سوچا تھا کہ برازیل کے کامیاب فٹ بالر نیمار بھی ان کی فلم کا حصہ بن جائیں گےفٹ بال کی دنیا میں بہترین کھلاڑی سمجھے جانے والے نیمار بھی دپیکا کے ساتھ اس ہولی وڈ فلم میں ڈیبیو کرنے جارہے ہیں اور انہوں نے\"\"\",\n",
        "           \"\"\"بیرون ملک تعلیم حاصل کرنا چاہتے ہیں مگر اتنے اخراجات کے لیے پیسے نہیںاگر ہاں تو اچھی بات یہ ہے کہ گھر بیٹھے بھی دنیا کی مشہور یونیورسٹیوں کے مختلف کورسز مفت پڑھ سکتے ہیں بس انٹرنیٹ کی ضرورت ہوگیطبی \"\"\",\n",
        "           \"\"\"کیا ایسے سپرسونک طیارے میں سفر کرنا پسند کریں گے جو کہ کسی ہیلی کاپٹر کی طرح کسی بھی جگہ لینڈنگ یا ٹیک کی صلاحیت رکھتا ہو جبکہ اسے چلانے کے لیے روایتی ایندھن کی بجائے بجلی کی ضرورت ہواسپیس ایکس اور\"\"\",\n",
        "           \"\"\"بوسٹن 18 مئی 2020کیا کوئی ماسک ازخود کورونا وائرس کی نشاندہی کرسکتا ہے اس دلچسپ سوال کا جواب اثبات میں ہے اور اس ایجاد کا سہرا میساچیوسیٹس انسٹی ٹیوٹ اف ٹیکنالوجی ایم ائی ٹی اور ہارورڈ یونیورسٹی کے سر\"\"\",\n",
        "           \"\"\" ہوگئی ہے سات مہینوں میں ٹیکس مدنی 1ہزار 16 ارب روپے رہی جبکہ ٹیکس کے علاوہ دیگر مدنی 520 ارب روپے رہی ہے اعداد شمار کے مطابق ٹیکس کے علاوہ مدنی پچھلے سال سے 93 فیصد زیادہ ہے حکومت نے ان سات مہینوں میں 689 ارب روپے کی لاگت سے قرضوں پر سود ادا کیا ہے جبکہ پچھلے سال اس مد میں 576 ارب روپے خرچ ہوئے تھے جولائی سے جنوری کے دوران صوبوں نے اپنی مدنی سے 82 ارب روپے کم اخراجات کیے\"\"\",\n",
        "           \"\"\"شارجہپاکستان سپر لیگ کے گیارہویں میچ میں کوئٹہ گلیڈی ایٹر نے اسلام اباد یونائیٹڈ کے خلاف ٹاس جیت کر فیلنڈگ کرنے کا فیصلہ کیااسلام اباد یونائیٹڈ کی ٹیم میں کپتان شین واٹسن کے علاوہ شرجیل خان بریڈ ہیڈن خالد\"\"\",\n",
        "           \"\"\"ڈاکٹرمنصور نے یونیورسٹی آف میری لینڈ میڈیکل سینٹرمیں ڈاکٹرز کی ٹیم کے ساتھ مل کرایک مریض میں جینیاتی طورپرتبدیل شدہ خنزیز کا دل لگا دیا۔\"\"\"]"
      ],
      "metadata": {
        "id": "9yT0YT_2UNF8"
      },
      "execution_count": null,
      "outputs": []
    },
    {
      "cell_type": "markdown",
      "source": [
        "## 4. Define Spark NLP pipeline\n"
      ],
      "metadata": {
        "id": "wzQ9GIy7eBve"
      }
    },
    {
      "cell_type": "code",
      "source": [
        "document_assembler = DocumentAssembler() \\\n",
        "      .setInputCol(\"news\") \\\n",
        "      .setOutputCol(\"document\")\n",
        "\n",
        "embeddings = BertSentenceEmbeddings.pretrained(\"labse\", \"xx\") \\\n",
        "      .setInputCols(\"document\") \\\n",
        "      .setOutputCol(\"sentence_embeddings\")\n",
        "\n",
        "classifierdl = ClassifierDLModel.pretrained(\"classifierdl_bert_news\", \"ur\") \\\n",
        "  .setInputCols([\"document\", \"sentence_embeddings\"]) \\\n",
        "  .setOutputCol(\"class\")\n",
        "\n",
        "urdu_news_pipeline = Pipeline(stages=[document_assembler, embeddings, classifierdl])\n",
        "\n",
        "\n"
      ],
      "metadata": {
        "id": "BAXa8iGyeGlG",
        "colab": {
          "base_uri": "https://localhost:8080/"
        },
        "outputId": "d22f05db-c5eb-4cff-9e63-5827e99288dc"
      },
      "execution_count": null,
      "outputs": [
        {
          "output_type": "stream",
          "name": "stdout",
          "text": [
            "labse download started this may take some time.\n",
            "Approximate size to download 1.7 GB\n",
            "[OK!]\n",
            "classifierdl_bert_news download started this may take some time.\n",
            "Approximate size to download 22.5 MB\n",
            "[OK!]\n"
          ]
        }
      ]
    },
    {
      "cell_type": "markdown",
      "source": [
        "## 5. Run the pipeline"
      ],
      "metadata": {
        "id": "smc42S5RtAEC"
      }
    },
    {
      "cell_type": "code",
      "source": [
        "pipeline = urdu_news_pipeline.fit(spark.createDataFrame([['']]).toDF(\"news\"))\n",
        "df = spark.createDataFrame(pd.DataFrame({\"news\":text_list}))\n",
        "result = pipeline.transform(df)"
      ],
      "metadata": {
        "id": "ZXcHI9mCqkiv"
      },
      "execution_count": null,
      "outputs": []
    },
    {
      "cell_type": "markdown",
      "source": [
        "## 6. Visualize results\n"
      ],
      "metadata": {
        "id": "LRY_YRV9qSJB"
      }
    },
    {
      "cell_type": "code",
      "source": [
        "\n",
        "result.select(F.explode(F.arrays_zip('document.result', 'class.result')).alias(\"cols\")) \\\n",
        ".select(F.expr(\"cols['0']\").alias(\"document\"),\n",
        "        F.expr(\"cols['1']\").alias(\"class\")).show(truncate=False)"
      ],
      "metadata": {
        "colab": {
          "base_uri": "https://localhost:8080/"
        },
        "id": "Y1o9Q9kCqYBj",
        "outputId": "2ea16f9f-efa7-48f6-e08e-03d2c1fe4272"
      },
      "execution_count": null,
      "outputs": [
        {
          "output_type": "stream",
          "name": "stdout",
          "text": [
            "+--------------------------------------------------------------------------------------------------------------------------------------------------------------------------------------------------------------------------------------------------------------------------------------------------------------------------------------------------------------------------------------+-------------+\n",
            "|document                                                                                                                                                                                                                                                                                                                                                                              |class        |\n",
            "+--------------------------------------------------------------------------------------------------------------------------------------------------------------------------------------------------------------------------------------------------------------------------------------------------------------------------------------------------------------------------------------+-------------+\n",
            "|اقوام متحدہ کی سلامتی کونسل نے پیر کو آئیوری کوسٹ پر فوری طور پر ہتھیاروں کی پابندی عائد کر دی اور اہم حکومت اور باغی رہنماؤں کو اگلے ماہ اضافی پابندیوں کے ساتھ سزا دینے کے لیے ووٹ دیا۔                                                                                                                                                                                             |inland       |\n",
            "| اداکارہ نے سوچا تھا کہ برازیل کے کامیاب فٹ بالر نیمار بھی ان کی فلم کا حصہ بن جائیں گےفٹ بال کی دنیا میں بہترین کھلاڑی سمجھے جانے والے نیمار بھی دپیکا کے ساتھ اس ہولی وڈ فلم میں ڈیبیو کرنے جارہے ہیں اور انہوں نے                                                                                                                                                                  |entertainment|\n",
            "|بیرون ملک تعلیم حاصل کرنا چاہتے ہیں مگر اتنے اخراجات کے لیے پیسے نہیںاگر ہاں تو اچھی بات یہ ہے کہ گھر بیٹھے بھی دنیا کی مشہور یونیورسٹیوں کے مختلف کورسز مفت پڑھ سکتے ہیں بس انٹرنیٹ کی ضرورت ہوگیطبی                                                                                                                                                                                 |weird_news   |\n",
            "|کیا ایسے سپرسونک طیارے میں سفر کرنا پسند کریں گے جو کہ کسی ہیلی کاپٹر کی طرح کسی بھی جگہ لینڈنگ یا ٹیک کی صلاحیت رکھتا ہو جبکہ اسے چلانے کے لیے روایتی ایندھن کی بجائے بجلی کی ضرورت ہواسپیس ایکس اور                                                                                                                                                                                 |science      |\n",
            "|بوسٹن 18 مئی 2020کیا کوئی ماسک ازخود کورونا وائرس کی نشاندہی کرسکتا ہے اس دلچسپ سوال کا جواب اثبات میں ہے اور اس ایجاد کا سہرا میساچیوسیٹس انسٹی ٹیوٹ اف ٹیکنالوجی ایم ائی ٹی اور ہارورڈ یونیورسٹی کے سر                                                                                                                                                                              |science      |\n",
            "| ہوگئی ہے سات مہینوں میں ٹیکس مدنی 1ہزار 16 ارب روپے رہی جبکہ ٹیکس کے علاوہ دیگر مدنی 520 ارب روپے رہی ہے اعداد شمار کے مطابق ٹیکس کے علاوہ مدنی پچھلے سال سے 93 فیصد زیادہ ہے حکومت نے ان سات مہینوں میں 689 ارب روپے کی لاگت سے قرضوں پر سود ادا کیا ہے جبکہ پچھلے سال اس مد میں 576 ارب روپے خرچ ہوئے تھے جولائی سے جنوری کے دوران صوبوں نے اپنی مدنی سے 82 ارب روپے کم اخراجات کیے|business     |\n",
            "|شارجہپاکستان سپر لیگ کے گیارہویں میچ میں کوئٹہ گلیڈی ایٹر نے اسلام اباد یونائیٹڈ کے خلاف ٹاس جیت کر فیلنڈگ کرنے کا فیصلہ کیااسلام اباد یونائیٹڈ کی ٹیم میں کپتان شین واٹسن کے علاوہ شرجیل خان بریڈ ہیڈن خالد                                                                                                                                                                          |sports       |\n",
            "|ڈاکٹرمنصور نے یونیورسٹی آف میری لینڈ میڈیکل سینٹرمیں ڈاکٹرز کی ٹیم کے ساتھ مل کرایک مریض میں جینیاتی طورپرتبدیل شدہ خنزیز کا دل لگا دیا۔                                                                                                                                                                                                                                             |health       |\n",
            "+--------------------------------------------------------------------------------------------------------------------------------------------------------------------------------------------------------------------------------------------------------------------------------------------------------------------------------------------------------------------------------------+-------------+\n",
            "\n"
          ]
        }
      ]
    },
    {
      "cell_type": "code",
      "source": [
        ""
      ],
      "metadata": {
        "id": "hHvxqdz0sj3v"
      },
      "execution_count": null,
      "outputs": []
    }
  ]
}
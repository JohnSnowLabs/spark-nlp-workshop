{
  "cells": [
    {
      "cell_type": "markdown",
      "metadata": {
        "id": "wWLwNF4iITCn"
      },
      "source": [
        "![JohnSnowLabs](https://nlp.johnsnowlabs.com/assets/images/logo.png)\n",
        "\n",
        "[![Open In Colab](https://colab.research.google.com/assets/colab-badge.svg)](https://colab.research.google.com/github/JohnSnowLabs/spark-nlp-workshop/blob/master/tutorials/streamlit_notebooks/healthcare_jsl/NER_PATHOGEN.ipynb)"
      ]
    },
    {
      "cell_type": "markdown",
      "metadata": {
        "id": "rIVVRWlyIaPW"
      },
      "source": [
        "# `ner_pathogen` **Models**\n",
        "\n",
        "Pretrained named entity recognition deep learning model for pathogen related texts and reports."
      ]
    },
    {
      "cell_type": "markdown",
      "metadata": {
        "id": "Xa2MP5N2EyAN"
      },
      "source": [
        "## 1. Colab Setup"
      ]
    },
    {
      "cell_type": "markdown",
      "metadata": {
        "id": "meFLU3CTE2S9"
      },
      "source": [
        "**Import license keys**"
      ]
    },
    {
      "cell_type": "code",
      "execution_count": null,
      "metadata": {
        "id": "5GlpBHUvcWup"
      },
      "outputs": [],
      "source": [
        "# Install the johnsnowlabs library to access Spark-OCR and Spark-NLP for Healthcare, Finance, and Legal.\n",
        "! pip install -q johnsnowlabs"
      ]
    },
    {
      "cell_type": "code",
      "execution_count": null,
      "metadata": {
        "id": "v6ROKz8c0f8k"
      },
      "outputs": [],
      "source": [
        "from google.colab import files\n",
        "print(\"Please Upload your John Snow Labs License using the button below\")\n",
        "license_keys = files.upload()"
      ]
    },
    {
      "cell_type": "code",
      "execution_count": null,
      "metadata": {
        "id": "bV2hYhB50gAw"
      },
      "outputs": [],
      "source": [
        "from johnsnowlabs import *\n",
        "\n",
        "# After uploading your license run this to install all licensed Python Wheels and pre-download Jars the Spark Session JVM\n",
        "# Make sure to restart your notebook afterwards for changes to take effect\n",
        "\n",
        "jsl.install()"
      ]
    },
    {
      "cell_type": "code",
      "execution_count": null,
      "metadata": {
        "id": "COP6jvxkKwz5"
      },
      "outputs": [],
      "source": [
        "from johnsnowlabs import *\n",
        "# Automatically load license data and start a session with all jars user has access to\n",
        "spark = jsl.start()"
      ]
    },
    {
      "cell_type": "markdown",
      "metadata": {},
      "source": [
        "## 2. Start Session"
      ]
    },
    {
      "cell_type": "code",
      "execution_count": null,
      "metadata": {
        "id": "COP6jvxkKwz5"
      },
      "outputs": [],
      "source": [
        "from johnsnowlabs import *\n",
        "# Automatically load license data and start a session with all jars user has access to\n",
        "spark = jsl.start()"
      ]
    },
    {
      "cell_type": "markdown",
      "metadata": {
        "id": "6unD_Wi4GHA2"
      },
      "source": [
        "## 3. Select the model and construct the pipeline"
      ]
    },
    {
      "cell_type": "markdown",
      "metadata": {
        "id": "6890ej79GVJl"
      },
      "source": [
        "**Create the pipeline**"
      ]
    },
    {
      "cell_type": "code",
      "execution_count": null,
      "metadata": {
        "colab": {
          "base_uri": "https://localhost:8080/"
        },
        "id": "Vjo9u1N1Ga1W",
        "outputId": "4a407068-e5b0-413f-ad36-083160881ecd"
      },
      "outputs": [
        {
          "name": "stdout",
          "output_type": "stream",
          "text": [
            "sentence_detector_dl_healthcare download started this may take some time.\n",
            "Approximate size to download 367.3 KB\n",
            "[OK!]\n",
            "embeddings_clinical download started this may take some time.\n",
            "Approximate size to download 1.6 GB\n",
            "[OK!]\n",
            "ner_pathogen download started this may take some time.\n",
            "[OK!]\n"
          ]
        }
      ],
      "source": [
        "document_assembler = nlp.DocumentAssembler()\\\n",
        "    .setInputCol(\"text\")\\\n",
        "    .setOutputCol(\"document\")\n",
        "\n",
        "sentenceDetectorDL = nlp.SentenceDetectorDLModel\\\n",
        "    .pretrained(\"sentence_detector_dl_healthcare\", \"en\", 'clinical/models') \\\n",
        "    .setInputCols([\"document\"]) \\\n",
        "    .setOutputCol(\"sentence\")\n",
        "\n",
        "tokenizer = nlp.Tokenizer()\\\n",
        "    .setInputCols([\"sentence\"])\\\n",
        "    .setOutputCol(\"token\")\n",
        "\n",
        "word_embeddings = nlp.WordEmbeddingsModel.pretrained(\"embeddings_clinical\" ,\"en\", \"clinical/models\")\\\n",
        "    .setInputCols([\"sentence\",\"token\"])\\\n",
        "    .setOutputCol(\"embeddings\")\n",
        "\n",
        "ner_model = medica.NerModel.pretrained(\"ner_pathogen\", \"en\", \"clinical/models\")\\\n",
        "    .setInputCols([\"sentence\", \"token\", \"embeddings\"]) \\\n",
        "    .setOutputCol(\"ner\")\n",
        "\n",
        "ner_converter = nlp.NerConverter()\\\n",
        "    .setInputCols([\"sentence\", \"token\", \"ner\"])\\\n",
        "    .setOutputCol(\"ner_chunk\")\n",
        "\n",
        "pipeline = Pipeline(stages=[document_assembler,\n",
        "                            sentenceDetectorDL,\n",
        "                            tokenizer,\n",
        "                            word_embeddings,\n",
        "                            ner_model, \n",
        "                            ner_converter])"
      ]
    },
    {
      "cell_type": "markdown",
      "metadata": {
        "id": "K4CxF3U7HsCX"
      },
      "source": [
        "## 4. Create example inputs"
      ]
    },
    {
      "cell_type": "code",
      "execution_count": null,
      "metadata": {
        "id": "jZ8GQHOgHibp"
      },
      "outputs": [],
      "source": [
        "text_list = [\n",
        "\"\"\"Signs of dehydration often begin with loss of Skin Elasticity and Irritability. This can progress to skin discoloration , a fast heart rate , and a decreased responsiveness as it becomes more severe . Loose but non-watery stools in babies who are exclusively breastfed , however , are normal .Antiretroviral therapy ( ART ) is recommended for all HIV - infected individuals to reduce the risk of disease progression . ART also is recommended for HIV - infected individuals for the prevention of transmission of HIV . Patients starting ART should be willing and able to commit to treatment and understand the benefits and risks of therapy and the importance of adherence .\"\"\",\n",
        "\n",
        "\"\"\"Measured resistance to amantadine and rimantadine in American isolates of H3N2 has increased to 91% in 2005. This high level of resistance may be due to the easy availability of amantadines as part of over-the-counter the common COLD medications in countries such as China and Russia, and their use to prevent outbreaks of influenza in farmed poultry .\"\"\",\n",
        "\n",
        "\"\"\"Polymers of adamantane have been patented as ANTIVIRAL-Medications against HIV . Buprenorphine has been shown experimentally ( 1982–1995 ) to be effective against severe , refractory depression. Gabapentin , approved for treatment of seizures and postherpetic neuralgia in adults , has side-effects which are useful in treating bipolar disorder1 , essential tremor , hot flashes , migraine prophylaxis , neuropathic pain syndromes , phantom limb syndrome , and restless leg syndrome .\"\"\",\n",
        "\n",
        "\"\"\"The CDC recommended against using M2-INHIBITORS during the 2005–06 influenza season due to high levels of drug resistance . The two classes of ANTIVIRAL-DRUGS used against influenza are neuraminidase inhibitors ( oseltamivir , zanamivir , laninamivir and peramivir ) and M2 protein inhibitors ( adamantane derivatives ) Influenza , commonly known as a flu infection, is an infectious disease caused by an influenza virus . Symptoms can be mild to severe . The most common symptoms include : SORE-THROAT , MUSCLE-and-JOINT pain , headache , coughing , and FEEL-TIRED . These symptoms typically begin two days after exposure to the Virus and most last less than a week .\"\"\",\n",
        "\n",
        "\"\"\" Other diseases are under investigation to discover if they have a VIRUS as the causative agent , such as the possible connection between Human-Herpesvirus 6 ( HHV6 ) and Neurological Disorders(ND's) such as multiple sclerosis and chronic fatigue syndrome . All medical applications known so far involve not pure adamantane , but its derivatives . The first adamantane derivative used as a drug was amantadine – first ( 1967 ) as an ANTIVIRAL-DRUG against various strains of influenza virus and then to treat Parkinson's disease . Other drugs among adamantane derivatives include adapalene , adapromine , bromantane , carmantadine , chlodantane , dopamantine , memantine , rimantadine , saxagliptin , tromantadine , and vildagliptin .\"\"\"\n",
        "]"
      ]
    },
    {
      "cell_type": "code",
      "execution_count": null,
      "metadata": {
        "colab": {
          "base_uri": "https://localhost:8080/"
        },
        "id": "qvCvj1hBI_09",
        "outputId": "29eb5904-09b9-4d0e-84b4-25b094cedfe9"
      },
      "outputs": [
        {
          "name": "stdout",
          "output_type": "stream",
          "text": [
            "+----------------------------------------------------------------------------------------------------+\n",
            "|                                                                                                text|\n",
            "+----------------------------------------------------------------------------------------------------+\n",
            "|Signs of dehydration often begin with loss of Skin Elasticity and Irritability. This can progress...|\n",
            "|Measured resistance to amantadine and rimantadine in American isolates of H3N2 has increased to 9...|\n",
            "|Polymers of adamantane have been patented as ANTIVIRAL-Medications against HIV . Buprenorphine ha...|\n",
            "|The CDC recommended against using M2-INHIBITORS during the 2005–06 influenza season due to high l...|\n",
            "| Other diseases are under investigation to discover if they have a VIRUS as the causative agent ,...|\n",
            "+----------------------------------------------------------------------------------------------------+\n",
            "\n"
          ]
        }
      ],
      "source": [
        "from pyspark.sql.types import StringType, IntegerType\n",
        "\n",
        "df = spark.createDataFrame(text_list,StringType()).toDF('text')\n",
        "\n",
        "df.show(truncate = 100)"
      ]
    },
    {
      "cell_type": "markdown",
      "metadata": {
        "id": "JAJGT8UcH1Q4"
      },
      "source": [
        "## 5. Use the pipeline to create outputs"
      ]
    },
    {
      "cell_type": "code",
      "execution_count": null,
      "metadata": {
        "id": "d1IOMyFG95dL"
      },
      "outputs": [],
      "source": [
        "result = pipeline.fit(df).transform(df)"
      ]
    },
    {
      "cell_type": "code",
      "execution_count": null,
      "metadata": {
        "colab": {
          "base_uri": "https://localhost:8080/"
        },
        "id": "7XGRA6GWZXiZ",
        "outputId": "4d444028-8f23-46c4-abc5-4bc843617ed2"
      },
      "outputs": [
        {
          "name": "stdout",
          "output_type": "stream",
          "text": [
            "+------------------------+-----+---+----------------+\n",
            "|chunk                   |begin|end|ner_label       |\n",
            "+------------------------+-----+---+----------------+\n",
            "|dehydration             |9    |19 |MedicalCondition|\n",
            "|Skin Elasticity         |46   |60 |MedicalCondition|\n",
            "|Irritability            |66   |77 |MedicalCondition|\n",
            "|skin discoloration      |101  |118|MedicalCondition|\n",
            "|fast heart rate         |124  |138|MedicalCondition|\n",
            "|decreased responsiveness|148  |171|MedicalCondition|\n",
            "|Antiretroviral therapy  |293  |314|Medicine        |\n",
            "|ART                     |318  |320|Medicine        |\n",
            "|HIV                     |347  |349|Pathogen        |\n",
            "|ART                     |418  |420|Medicine        |\n",
            "|HIV                     |446  |448|Pathogen        |\n",
            "|HIV                     |511  |513|Pathogen        |\n",
            "|ART                     |535  |537|Medicine        |\n",
            "|amantadine              |23   |32 |Medicine        |\n",
            "|rimantadine             |38   |48 |Medicine        |\n",
            "|H3N2                    |74   |77 |Pathogen        |\n",
            "|amantadines             |178  |188|Medicine        |\n",
            "|COLD                    |229  |232|MedicalCondition|\n",
            "|influenza               |323  |331|MedicalCondition|\n",
            "|adamantane              |12   |21 |Medicine        |\n",
            "+------------------------+-----+---+----------------+\n",
            "only showing top 20 rows\n",
            "\n"
          ]
        }
      ],
      "source": [
        "result.select(F.explode(F.arrays_zip(result.ner_chunk.result, \n",
        "                                     result.ner_chunk.begin,\n",
        "                                     result.ner_chunk.end,\n",
        "                                     result.ner_chunk.metadata)).alias(\"cols\")) \\\n",
        "      .select(F.expr(\"cols['0']\").alias(\"chunk\"),\n",
        "              F.expr(\"cols['1']\").alias(\"begin\"),\n",
        "              F.expr(\"cols['2']\").alias(\"end\"),\n",
        "              F.expr(\"cols['3']['entity']\").alias(\"ner_label\")).show(truncate=False)"
      ]
    },
    {
      "cell_type": "markdown",
      "metadata": {
        "id": "Ral7MlWELIOX"
      },
      "source": [
        "## 6. Visualize results"
      ]
    },
    {
      "cell_type": "code",
      "execution_count": null,
      "metadata": {
        "colab": {
          "base_uri": "https://localhost:8080/",
          "height": 1000
        },
        "id": "Arm5huqwKum8",
        "outputId": "eb348a0c-b568-4a4f-e562-c1b3f1f2f315"
      },
      "outputs": [
        {
          "data": {
            "text/html": [
              "\n",
              "<style>\n",
              "    @import url('https://fonts.googleapis.com/css2?family=Montserrat:wght@300;400;500;600;700&display=swap');\n",
              "    @import url('https://fonts.googleapis.com/css2?family=Vistol Regular:wght@300;400;500;600;700&display=swap');\n",
              "    \n",
              "    .spark-nlp-display-scroll-entities {\n",
              "        border: 1px solid #E7EDF0;\n",
              "        border-radius: 3px;\n",
              "        text-align: justify;\n",
              "        \n",
              "    }\n",
              "    .spark-nlp-display-scroll-entities span {  \n",
              "        font-size: 14px;\n",
              "        line-height: 24px;\n",
              "        color: #536B76;\n",
              "        font-family: 'Montserrat', sans-serif !important;\n",
              "    }\n",
              "    \n",
              "    .spark-nlp-display-entity-wrapper{\n",
              "    \n",
              "        display: inline-grid;\n",
              "        text-align: center;\n",
              "        border-radius: 4px;\n",
              "        margin: 0 2px 5px 2px;\n",
              "        padding: 1px\n",
              "    }\n",
              "    .spark-nlp-display-entity-name{\n",
              "        font-size: 14px;\n",
              "        line-height: 24px;\n",
              "        font-family: 'Montserrat', sans-serif !important;\n",
              "        \n",
              "        background: #f1f2f3;\n",
              "        border-width: medium;\n",
              "        text-align: center;\n",
              "        \n",
              "        font-weight: 400;\n",
              "        \n",
              "        border-radius: 5px;\n",
              "        padding: 2px 5px;\n",
              "        display: block;\n",
              "        margin: 3px 2px;\n",
              "    \n",
              "    }\n",
              "    .spark-nlp-display-entity-type{\n",
              "        font-size: 14px;\n",
              "        line-height: 24px;\n",
              "        color: #ffffff;\n",
              "        font-family: 'Montserrat', sans-serif !important;\n",
              "        \n",
              "        text-transform: uppercase;\n",
              "        \n",
              "        font-weight: 500;\n",
              "\n",
              "        display: block;\n",
              "        padding: 3px 5px;\n",
              "    }\n",
              "    \n",
              "    .spark-nlp-display-entity-resolution{\n",
              "        font-size: 14px;\n",
              "        line-height: 24px;\n",
              "        color: #ffffff;\n",
              "        font-family: 'Vistol Regular', sans-serif !important;\n",
              "        \n",
              "        text-transform: uppercase;\n",
              "        \n",
              "        font-weight: 500;\n",
              "\n",
              "        display: block;\n",
              "        padding: 3px 5px;\n",
              "    }\n",
              "    \n",
              "    .spark-nlp-display-others{\n",
              "        font-size: 14px;\n",
              "        line-height: 24px;\n",
              "        font-family: 'Montserrat', sans-serif !important;\n",
              "        \n",
              "        font-weight: 400;\n",
              "    }\n",
              "\n",
              "</style>\n",
              " <span class=\"spark-nlp-display-others\" style=\"background-color: white\">Signs of </span><span class=\"spark-nlp-display-entity-wrapper\" style=\"background-color: #156541\"><span class=\"spark-nlp-display-entity-name\">dehydration </span><span class=\"spark-nlp-display-entity-type\">MedicalCondition</span></span><span class=\"spark-nlp-display-others\" style=\"background-color: white\"> often begin with loss of </span><span class=\"spark-nlp-display-entity-wrapper\" style=\"background-color: #156541\"><span class=\"spark-nlp-display-entity-name\">Skin Elasticity </span><span class=\"spark-nlp-display-entity-type\">MedicalCondition</span></span><span class=\"spark-nlp-display-others\" style=\"background-color: white\"> and </span><span class=\"spark-nlp-display-entity-wrapper\" style=\"background-color: #156541\"><span class=\"spark-nlp-display-entity-name\">Irritability </span><span class=\"spark-nlp-display-entity-type\">MedicalCondition</span></span><span class=\"spark-nlp-display-others\" style=\"background-color: white\">. This can progress to </span><span class=\"spark-nlp-display-entity-wrapper\" style=\"background-color: #156541\"><span class=\"spark-nlp-display-entity-name\">skin discoloration </span><span class=\"spark-nlp-display-entity-type\">MedicalCondition</span></span><span class=\"spark-nlp-display-others\" style=\"background-color: white\"> , a </span><span class=\"spark-nlp-display-entity-wrapper\" style=\"background-color: #156541\"><span class=\"spark-nlp-display-entity-name\">fast heart rate </span><span class=\"spark-nlp-display-entity-type\">MedicalCondition</span></span><span class=\"spark-nlp-display-others\" style=\"background-color: white\"> , and a </span><span class=\"spark-nlp-display-entity-wrapper\" style=\"background-color: #156541\"><span class=\"spark-nlp-display-entity-name\">decreased responsiveness </span><span class=\"spark-nlp-display-entity-type\">MedicalCondition</span></span><span class=\"spark-nlp-display-others\" style=\"background-color: white\"> as it becomes more severe . Loose but non-watery stools in babies who are exclusively breastfed , however , are normal .</span><span class=\"spark-nlp-display-entity-wrapper\" style=\"background-color: #2B9F32\"><span class=\"spark-nlp-display-entity-name\">Antiretroviral therapy </span><span class=\"spark-nlp-display-entity-type\">Medicine</span></span><span class=\"spark-nlp-display-others\" style=\"background-color: white\"> ( </span><span class=\"spark-nlp-display-entity-wrapper\" style=\"background-color: #2B9F32\"><span class=\"spark-nlp-display-entity-name\">ART </span><span class=\"spark-nlp-display-entity-type\">Medicine</span></span><span class=\"spark-nlp-display-others\" style=\"background-color: white\"> ) is recommended for all </span><span class=\"spark-nlp-display-entity-wrapper\" style=\"background-color: #13067A\"><span class=\"spark-nlp-display-entity-name\">HIV </span><span class=\"spark-nlp-display-entity-type\">Pathogen</span></span><span class=\"spark-nlp-display-others\" style=\"background-color: white\"> - infected individuals to reduce the risk of disease progression . </span><span class=\"spark-nlp-display-entity-wrapper\" style=\"background-color: #2B9F32\"><span class=\"spark-nlp-display-entity-name\">ART </span><span class=\"spark-nlp-display-entity-type\">Medicine</span></span><span class=\"spark-nlp-display-others\" style=\"background-color: white\"> also is recommended for </span><span class=\"spark-nlp-display-entity-wrapper\" style=\"background-color: #13067A\"><span class=\"spark-nlp-display-entity-name\">HIV </span><span class=\"spark-nlp-display-entity-type\">Pathogen</span></span><span class=\"spark-nlp-display-others\" style=\"background-color: white\"> - infected individuals for the prevention of transmission of </span><span class=\"spark-nlp-display-entity-wrapper\" style=\"background-color: #13067A\"><span class=\"spark-nlp-display-entity-name\">HIV </span><span class=\"spark-nlp-display-entity-type\">Pathogen</span></span><span class=\"spark-nlp-display-others\" style=\"background-color: white\"> . Patients starting </span><span class=\"spark-nlp-display-entity-wrapper\" style=\"background-color: #2B9F32\"><span class=\"spark-nlp-display-entity-name\">ART </span><span class=\"spark-nlp-display-entity-type\">Medicine</span></span><span class=\"spark-nlp-display-others\" style=\"background-color: white\"> should be willing and able to commit to treatment and understand the benefits and risks of therapy and the importance of adherence .</span></div>"
            ],
            "text/plain": [
              "<IPython.core.display.HTML object>"
            ]
          },
          "metadata": {},
          "output_type": "display_data"
        },
        {
          "name": "stdout",
          "output_type": "stream",
          "text": [
            "\n",
            "\n",
            "\n"
          ]
        },
        {
          "data": {
            "text/html": [
              "\n",
              "<style>\n",
              "    @import url('https://fonts.googleapis.com/css2?family=Montserrat:wght@300;400;500;600;700&display=swap');\n",
              "    @import url('https://fonts.googleapis.com/css2?family=Vistol Regular:wght@300;400;500;600;700&display=swap');\n",
              "    \n",
              "    .spark-nlp-display-scroll-entities {\n",
              "        border: 1px solid #E7EDF0;\n",
              "        border-radius: 3px;\n",
              "        text-align: justify;\n",
              "        \n",
              "    }\n",
              "    .spark-nlp-display-scroll-entities span {  \n",
              "        font-size: 14px;\n",
              "        line-height: 24px;\n",
              "        color: #536B76;\n",
              "        font-family: 'Montserrat', sans-serif !important;\n",
              "    }\n",
              "    \n",
              "    .spark-nlp-display-entity-wrapper{\n",
              "    \n",
              "        display: inline-grid;\n",
              "        text-align: center;\n",
              "        border-radius: 4px;\n",
              "        margin: 0 2px 5px 2px;\n",
              "        padding: 1px\n",
              "    }\n",
              "    .spark-nlp-display-entity-name{\n",
              "        font-size: 14px;\n",
              "        line-height: 24px;\n",
              "        font-family: 'Montserrat', sans-serif !important;\n",
              "        \n",
              "        background: #f1f2f3;\n",
              "        border-width: medium;\n",
              "        text-align: center;\n",
              "        \n",
              "        font-weight: 400;\n",
              "        \n",
              "        border-radius: 5px;\n",
              "        padding: 2px 5px;\n",
              "        display: block;\n",
              "        margin: 3px 2px;\n",
              "    \n",
              "    }\n",
              "    .spark-nlp-display-entity-type{\n",
              "        font-size: 14px;\n",
              "        line-height: 24px;\n",
              "        color: #ffffff;\n",
              "        font-family: 'Montserrat', sans-serif !important;\n",
              "        \n",
              "        text-transform: uppercase;\n",
              "        \n",
              "        font-weight: 500;\n",
              "\n",
              "        display: block;\n",
              "        padding: 3px 5px;\n",
              "    }\n",
              "    \n",
              "    .spark-nlp-display-entity-resolution{\n",
              "        font-size: 14px;\n",
              "        line-height: 24px;\n",
              "        color: #ffffff;\n",
              "        font-family: 'Vistol Regular', sans-serif !important;\n",
              "        \n",
              "        text-transform: uppercase;\n",
              "        \n",
              "        font-weight: 500;\n",
              "\n",
              "        display: block;\n",
              "        padding: 3px 5px;\n",
              "    }\n",
              "    \n",
              "    .spark-nlp-display-others{\n",
              "        font-size: 14px;\n",
              "        line-height: 24px;\n",
              "        font-family: 'Montserrat', sans-serif !important;\n",
              "        \n",
              "        font-weight: 400;\n",
              "    }\n",
              "\n",
              "</style>\n",
              " <span class=\"spark-nlp-display-others\" style=\"background-color: white\">Measured resistance to </span><span class=\"spark-nlp-display-entity-wrapper\" style=\"background-color: #C08B0B\"><span class=\"spark-nlp-display-entity-name\">amantadine </span><span class=\"spark-nlp-display-entity-type\">Medicine</span></span><span class=\"spark-nlp-display-others\" style=\"background-color: white\"> and </span><span class=\"spark-nlp-display-entity-wrapper\" style=\"background-color: #C08B0B\"><span class=\"spark-nlp-display-entity-name\">rimantadine </span><span class=\"spark-nlp-display-entity-type\">Medicine</span></span><span class=\"spark-nlp-display-others\" style=\"background-color: white\"> in American isolates of </span><span class=\"spark-nlp-display-entity-wrapper\" style=\"background-color: #6B6B8B\"><span class=\"spark-nlp-display-entity-name\">H3N2 </span><span class=\"spark-nlp-display-entity-type\">Pathogen</span></span><span class=\"spark-nlp-display-others\" style=\"background-color: white\"> has increased to 91% in 2005. This high level of resistance may be due to the easy availability of </span><span class=\"spark-nlp-display-entity-wrapper\" style=\"background-color: #C08B0B\"><span class=\"spark-nlp-display-entity-name\">amantadines </span><span class=\"spark-nlp-display-entity-type\">Medicine</span></span><span class=\"spark-nlp-display-others\" style=\"background-color: white\"> as part of over-the-counter the common </span><span class=\"spark-nlp-display-entity-wrapper\" style=\"background-color: #8E2811\"><span class=\"spark-nlp-display-entity-name\">COLD </span><span class=\"spark-nlp-display-entity-type\">MedicalCondition</span></span><span class=\"spark-nlp-display-others\" style=\"background-color: white\"> medications in countries such as China and Russia, and their use to prevent outbreaks of </span><span class=\"spark-nlp-display-entity-wrapper\" style=\"background-color: #8E2811\"><span class=\"spark-nlp-display-entity-name\">influenza </span><span class=\"spark-nlp-display-entity-type\">MedicalCondition</span></span><span class=\"spark-nlp-display-others\" style=\"background-color: white\"> in farmed poultry .</span></div>"
            ],
            "text/plain": [
              "<IPython.core.display.HTML object>"
            ]
          },
          "metadata": {},
          "output_type": "display_data"
        },
        {
          "name": "stdout",
          "output_type": "stream",
          "text": [
            "\n",
            "\n",
            "\n"
          ]
        },
        {
          "data": {
            "text/html": [
              "\n",
              "<style>\n",
              "    @import url('https://fonts.googleapis.com/css2?family=Montserrat:wght@300;400;500;600;700&display=swap');\n",
              "    @import url('https://fonts.googleapis.com/css2?family=Vistol Regular:wght@300;400;500;600;700&display=swap');\n",
              "    \n",
              "    .spark-nlp-display-scroll-entities {\n",
              "        border: 1px solid #E7EDF0;\n",
              "        border-radius: 3px;\n",
              "        text-align: justify;\n",
              "        \n",
              "    }\n",
              "    .spark-nlp-display-scroll-entities span {  \n",
              "        font-size: 14px;\n",
              "        line-height: 24px;\n",
              "        color: #536B76;\n",
              "        font-family: 'Montserrat', sans-serif !important;\n",
              "    }\n",
              "    \n",
              "    .spark-nlp-display-entity-wrapper{\n",
              "    \n",
              "        display: inline-grid;\n",
              "        text-align: center;\n",
              "        border-radius: 4px;\n",
              "        margin: 0 2px 5px 2px;\n",
              "        padding: 1px\n",
              "    }\n",
              "    .spark-nlp-display-entity-name{\n",
              "        font-size: 14px;\n",
              "        line-height: 24px;\n",
              "        font-family: 'Montserrat', sans-serif !important;\n",
              "        \n",
              "        background: #f1f2f3;\n",
              "        border-width: medium;\n",
              "        text-align: center;\n",
              "        \n",
              "        font-weight: 400;\n",
              "        \n",
              "        border-radius: 5px;\n",
              "        padding: 2px 5px;\n",
              "        display: block;\n",
              "        margin: 3px 2px;\n",
              "    \n",
              "    }\n",
              "    .spark-nlp-display-entity-type{\n",
              "        font-size: 14px;\n",
              "        line-height: 24px;\n",
              "        color: #ffffff;\n",
              "        font-family: 'Montserrat', sans-serif !important;\n",
              "        \n",
              "        text-transform: uppercase;\n",
              "        \n",
              "        font-weight: 500;\n",
              "\n",
              "        display: block;\n",
              "        padding: 3px 5px;\n",
              "    }\n",
              "    \n",
              "    .spark-nlp-display-entity-resolution{\n",
              "        font-size: 14px;\n",
              "        line-height: 24px;\n",
              "        color: #ffffff;\n",
              "        font-family: 'Vistol Regular', sans-serif !important;\n",
              "        \n",
              "        text-transform: uppercase;\n",
              "        \n",
              "        font-weight: 500;\n",
              "\n",
              "        display: block;\n",
              "        padding: 3px 5px;\n",
              "    }\n",
              "    \n",
              "    .spark-nlp-display-others{\n",
              "        font-size: 14px;\n",
              "        line-height: 24px;\n",
              "        font-family: 'Montserrat', sans-serif !important;\n",
              "        \n",
              "        font-weight: 400;\n",
              "    }\n",
              "\n",
              "</style>\n",
              " <span class=\"spark-nlp-display-others\" style=\"background-color: white\">Polymers of </span><span class=\"spark-nlp-display-entity-wrapper\" style=\"background-color: #B700BA\"><span class=\"spark-nlp-display-entity-name\">adamantane </span><span class=\"spark-nlp-display-entity-type\">Medicine</span></span><span class=\"spark-nlp-display-others\" style=\"background-color: white\"> have been patented as </span><span class=\"spark-nlp-display-entity-wrapper\" style=\"background-color: #B700BA\"><span class=\"spark-nlp-display-entity-name\">ANTIVIRAL-Medications </span><span class=\"spark-nlp-display-entity-type\">Medicine</span></span><span class=\"spark-nlp-display-others\" style=\"background-color: white\"> against </span><span class=\"spark-nlp-display-entity-wrapper\" style=\"background-color: #469C02\"><span class=\"spark-nlp-display-entity-name\">HIV </span><span class=\"spark-nlp-display-entity-type\">Pathogen</span></span><span class=\"spark-nlp-display-others\" style=\"background-color: white\"> . </span><span class=\"spark-nlp-display-entity-wrapper\" style=\"background-color: #B700BA\"><span class=\"spark-nlp-display-entity-name\">Buprenorphine </span><span class=\"spark-nlp-display-entity-type\">Medicine</span></span><span class=\"spark-nlp-display-others\" style=\"background-color: white\"> has been shown experimentally ( 1982–1995 ) to be effective against severe , </span><span class=\"spark-nlp-display-entity-wrapper\" style=\"background-color: #AF43C8\"><span class=\"spark-nlp-display-entity-name\">refractory depression </span><span class=\"spark-nlp-display-entity-type\">MedicalCondition</span></span><span class=\"spark-nlp-display-others\" style=\"background-color: white\">. </span><span class=\"spark-nlp-display-entity-wrapper\" style=\"background-color: #B700BA\"><span class=\"spark-nlp-display-entity-name\">Gabapentin </span><span class=\"spark-nlp-display-entity-type\">Medicine</span></span><span class=\"spark-nlp-display-others\" style=\"background-color: white\"> , approved for treatment of </span><span class=\"spark-nlp-display-entity-wrapper\" style=\"background-color: #AF43C8\"><span class=\"spark-nlp-display-entity-name\">seizures </span><span class=\"spark-nlp-display-entity-type\">MedicalCondition</span></span><span class=\"spark-nlp-display-others\" style=\"background-color: white\"> and </span><span class=\"spark-nlp-display-entity-wrapper\" style=\"background-color: #AF43C8\"><span class=\"spark-nlp-display-entity-name\">postherpetic neuralgia </span><span class=\"spark-nlp-display-entity-type\">MedicalCondition</span></span><span class=\"spark-nlp-display-others\" style=\"background-color: white\"> in adults , has side-effects which are useful in treating </span><span class=\"spark-nlp-display-entity-wrapper\" style=\"background-color: #AF43C8\"><span class=\"spark-nlp-display-entity-name\">bipolar disorder1 </span><span class=\"spark-nlp-display-entity-type\">MedicalCondition</span></span><span class=\"spark-nlp-display-others\" style=\"background-color: white\"> , </span><span class=\"spark-nlp-display-entity-wrapper\" style=\"background-color: #AF43C8\"><span class=\"spark-nlp-display-entity-name\">essential tremor </span><span class=\"spark-nlp-display-entity-type\">MedicalCondition</span></span><span class=\"spark-nlp-display-others\" style=\"background-color: white\"> , </span><span class=\"spark-nlp-display-entity-wrapper\" style=\"background-color: #AF43C8\"><span class=\"spark-nlp-display-entity-name\">hot flashes </span><span class=\"spark-nlp-display-entity-type\">MedicalCondition</span></span><span class=\"spark-nlp-display-others\" style=\"background-color: white\"> , </span><span class=\"spark-nlp-display-entity-wrapper\" style=\"background-color: #AF43C8\"><span class=\"spark-nlp-display-entity-name\">migraine prophylaxis </span><span class=\"spark-nlp-display-entity-type\">MedicalCondition</span></span><span class=\"spark-nlp-display-others\" style=\"background-color: white\"> , </span><span class=\"spark-nlp-display-entity-wrapper\" style=\"background-color: #AF43C8\"><span class=\"spark-nlp-display-entity-name\">neuropathic pain syndromes </span><span class=\"spark-nlp-display-entity-type\">MedicalCondition</span></span><span class=\"spark-nlp-display-others\" style=\"background-color: white\"> , </span><span class=\"spark-nlp-display-entity-wrapper\" style=\"background-color: #AF43C8\"><span class=\"spark-nlp-display-entity-name\">phantom limb syndrome </span><span class=\"spark-nlp-display-entity-type\">MedicalCondition</span></span><span class=\"spark-nlp-display-others\" style=\"background-color: white\"> , and </span><span class=\"spark-nlp-display-entity-wrapper\" style=\"background-color: #AF43C8\"><span class=\"spark-nlp-display-entity-name\">restless leg syndrome </span><span class=\"spark-nlp-display-entity-type\">MedicalCondition</span></span><span class=\"spark-nlp-display-others\" style=\"background-color: white\"> .</span></div>"
            ],
            "text/plain": [
              "<IPython.core.display.HTML object>"
            ]
          },
          "metadata": {},
          "output_type": "display_data"
        },
        {
          "name": "stdout",
          "output_type": "stream",
          "text": [
            "\n",
            "\n",
            "\n"
          ]
        },
        {
          "data": {
            "text/html": [
              "\n",
              "<style>\n",
              "    @import url('https://fonts.googleapis.com/css2?family=Montserrat:wght@300;400;500;600;700&display=swap');\n",
              "    @import url('https://fonts.googleapis.com/css2?family=Vistol Regular:wght@300;400;500;600;700&display=swap');\n",
              "    \n",
              "    .spark-nlp-display-scroll-entities {\n",
              "        border: 1px solid #E7EDF0;\n",
              "        border-radius: 3px;\n",
              "        text-align: justify;\n",
              "        \n",
              "    }\n",
              "    .spark-nlp-display-scroll-entities span {  \n",
              "        font-size: 14px;\n",
              "        line-height: 24px;\n",
              "        color: #536B76;\n",
              "        font-family: 'Montserrat', sans-serif !important;\n",
              "    }\n",
              "    \n",
              "    .spark-nlp-display-entity-wrapper{\n",
              "    \n",
              "        display: inline-grid;\n",
              "        text-align: center;\n",
              "        border-radius: 4px;\n",
              "        margin: 0 2px 5px 2px;\n",
              "        padding: 1px\n",
              "    }\n",
              "    .spark-nlp-display-entity-name{\n",
              "        font-size: 14px;\n",
              "        line-height: 24px;\n",
              "        font-family: 'Montserrat', sans-serif !important;\n",
              "        \n",
              "        background: #f1f2f3;\n",
              "        border-width: medium;\n",
              "        text-align: center;\n",
              "        \n",
              "        font-weight: 400;\n",
              "        \n",
              "        border-radius: 5px;\n",
              "        padding: 2px 5px;\n",
              "        display: block;\n",
              "        margin: 3px 2px;\n",
              "    \n",
              "    }\n",
              "    .spark-nlp-display-entity-type{\n",
              "        font-size: 14px;\n",
              "        line-height: 24px;\n",
              "        color: #ffffff;\n",
              "        font-family: 'Montserrat', sans-serif !important;\n",
              "        \n",
              "        text-transform: uppercase;\n",
              "        \n",
              "        font-weight: 500;\n",
              "\n",
              "        display: block;\n",
              "        padding: 3px 5px;\n",
              "    }\n",
              "    \n",
              "    .spark-nlp-display-entity-resolution{\n",
              "        font-size: 14px;\n",
              "        line-height: 24px;\n",
              "        color: #ffffff;\n",
              "        font-family: 'Vistol Regular', sans-serif !important;\n",
              "        \n",
              "        text-transform: uppercase;\n",
              "        \n",
              "        font-weight: 500;\n",
              "\n",
              "        display: block;\n",
              "        padding: 3px 5px;\n",
              "    }\n",
              "    \n",
              "    .spark-nlp-display-others{\n",
              "        font-size: 14px;\n",
              "        line-height: 24px;\n",
              "        font-family: 'Montserrat', sans-serif !important;\n",
              "        \n",
              "        font-weight: 400;\n",
              "    }\n",
              "\n",
              "</style>\n",
              " <span class=\"spark-nlp-display-others\" style=\"background-color: white\">The CDC recommended against using </span><span class=\"spark-nlp-display-entity-wrapper\" style=\"background-color: #75805D\"><span class=\"spark-nlp-display-entity-name\">M2-INHIBITORS </span><span class=\"spark-nlp-display-entity-type\">Medicine</span></span><span class=\"spark-nlp-display-others\" style=\"background-color: white\"> during the 2005–06 </span><span class=\"spark-nlp-display-entity-wrapper\" style=\"background-color: #B81D59\"><span class=\"spark-nlp-display-entity-name\">influenza </span><span class=\"spark-nlp-display-entity-type\">MedicalCondition</span></span><span class=\"spark-nlp-display-others\" style=\"background-color: white\"> season due to high levels of drug resistance . The two classes of </span><span class=\"spark-nlp-display-entity-wrapper\" style=\"background-color: #75805D\"><span class=\"spark-nlp-display-entity-name\">ANTIVIRAL-DRUGS </span><span class=\"spark-nlp-display-entity-type\">Medicine</span></span><span class=\"spark-nlp-display-others\" style=\"background-color: white\"> used against </span><span class=\"spark-nlp-display-entity-wrapper\" style=\"background-color: #B81D59\"><span class=\"spark-nlp-display-entity-name\">influenza </span><span class=\"spark-nlp-display-entity-type\">MedicalCondition</span></span><span class=\"spark-nlp-display-others\" style=\"background-color: white\"> are </span><span class=\"spark-nlp-display-entity-wrapper\" style=\"background-color: #75805D\"><span class=\"spark-nlp-display-entity-name\">neuraminidase inhibitors </span><span class=\"spark-nlp-display-entity-type\">Medicine</span></span><span class=\"spark-nlp-display-others\" style=\"background-color: white\"> ( </span><span class=\"spark-nlp-display-entity-wrapper\" style=\"background-color: #75805D\"><span class=\"spark-nlp-display-entity-name\">oseltamivir </span><span class=\"spark-nlp-display-entity-type\">Medicine</span></span><span class=\"spark-nlp-display-others\" style=\"background-color: white\"> , </span><span class=\"spark-nlp-display-entity-wrapper\" style=\"background-color: #75805D\"><span class=\"spark-nlp-display-entity-name\">zanamivir </span><span class=\"spark-nlp-display-entity-type\">Medicine</span></span><span class=\"spark-nlp-display-others\" style=\"background-color: white\"> , </span><span class=\"spark-nlp-display-entity-wrapper\" style=\"background-color: #75805D\"><span class=\"spark-nlp-display-entity-name\">laninamivir </span><span class=\"spark-nlp-display-entity-type\">Medicine</span></span><span class=\"spark-nlp-display-others\" style=\"background-color: white\"> and </span><span class=\"spark-nlp-display-entity-wrapper\" style=\"background-color: #75805D\"><span class=\"spark-nlp-display-entity-name\">peramivir </span><span class=\"spark-nlp-display-entity-type\">Medicine</span></span><span class=\"spark-nlp-display-others\" style=\"background-color: white\"> ) and </span><span class=\"spark-nlp-display-entity-wrapper\" style=\"background-color: #75805D\"><span class=\"spark-nlp-display-entity-name\">M2 protein inhibitors </span><span class=\"spark-nlp-display-entity-type\">Medicine</span></span><span class=\"spark-nlp-display-others\" style=\"background-color: white\"> ( </span><span class=\"spark-nlp-display-entity-wrapper\" style=\"background-color: #75805D\"><span class=\"spark-nlp-display-entity-name\">adamantane </span><span class=\"spark-nlp-display-entity-type\">Medicine</span></span><span class=\"spark-nlp-display-others\" style=\"background-color: white\"> derivatives ) </span><span class=\"spark-nlp-display-entity-wrapper\" style=\"background-color: #B81D59\"><span class=\"spark-nlp-display-entity-name\">Influenza </span><span class=\"spark-nlp-display-entity-type\">MedicalCondition</span></span><span class=\"spark-nlp-display-others\" style=\"background-color: white\"> , commonly known as a </span><span class=\"spark-nlp-display-entity-wrapper\" style=\"background-color: #B81D59\"><span class=\"spark-nlp-display-entity-name\">flu infection </span><span class=\"spark-nlp-display-entity-type\">MedicalCondition</span></span><span class=\"spark-nlp-display-others\" style=\"background-color: white\">, is an infectious disease caused by an </span><span class=\"spark-nlp-display-entity-wrapper\" style=\"background-color: #1FC214\"><span class=\"spark-nlp-display-entity-name\">influenza virus </span><span class=\"spark-nlp-display-entity-type\">Pathogen</span></span><span class=\"spark-nlp-display-others\" style=\"background-color: white\"> . Symptoms can be mild to severe . The most common symptoms include : </span><span class=\"spark-nlp-display-entity-wrapper\" style=\"background-color: #B81D59\"><span class=\"spark-nlp-display-entity-name\">SORE-THROAT </span><span class=\"spark-nlp-display-entity-type\">MedicalCondition</span></span><span class=\"spark-nlp-display-others\" style=\"background-color: white\"> , </span><span class=\"spark-nlp-display-entity-wrapper\" style=\"background-color: #B81D59\"><span class=\"spark-nlp-display-entity-name\">MUSCLE-and-JOINT pain </span><span class=\"spark-nlp-display-entity-type\">MedicalCondition</span></span><span class=\"spark-nlp-display-others\" style=\"background-color: white\"> , </span><span class=\"spark-nlp-display-entity-wrapper\" style=\"background-color: #B81D59\"><span class=\"spark-nlp-display-entity-name\">headache </span><span class=\"spark-nlp-display-entity-type\">MedicalCondition</span></span><span class=\"spark-nlp-display-others\" style=\"background-color: white\"> , </span><span class=\"spark-nlp-display-entity-wrapper\" style=\"background-color: #B81D59\"><span class=\"spark-nlp-display-entity-name\">coughing </span><span class=\"spark-nlp-display-entity-type\">MedicalCondition</span></span><span class=\"spark-nlp-display-others\" style=\"background-color: white\"> , and </span><span class=\"spark-nlp-display-entity-wrapper\" style=\"background-color: #B81D59\"><span class=\"spark-nlp-display-entity-name\">FEEL-TIRED </span><span class=\"spark-nlp-display-entity-type\">MedicalCondition</span></span><span class=\"spark-nlp-display-others\" style=\"background-color: white\"> . These symptoms typically begin two days after exposure to the </span><span class=\"spark-nlp-display-entity-wrapper\" style=\"background-color: #1FC214\"><span class=\"spark-nlp-display-entity-name\">Virus </span><span class=\"spark-nlp-display-entity-type\">Pathogen</span></span><span class=\"spark-nlp-display-others\" style=\"background-color: white\"> and most last less than a week .</span></div>"
            ],
            "text/plain": [
              "<IPython.core.display.HTML object>"
            ]
          },
          "metadata": {},
          "output_type": "display_data"
        },
        {
          "name": "stdout",
          "output_type": "stream",
          "text": [
            "\n",
            "\n",
            "\n"
          ]
        },
        {
          "data": {
            "text/html": [
              "\n",
              "<style>\n",
              "    @import url('https://fonts.googleapis.com/css2?family=Montserrat:wght@300;400;500;600;700&display=swap');\n",
              "    @import url('https://fonts.googleapis.com/css2?family=Vistol Regular:wght@300;400;500;600;700&display=swap');\n",
              "    \n",
              "    .spark-nlp-display-scroll-entities {\n",
              "        border: 1px solid #E7EDF0;\n",
              "        border-radius: 3px;\n",
              "        text-align: justify;\n",
              "        \n",
              "    }\n",
              "    .spark-nlp-display-scroll-entities span {  \n",
              "        font-size: 14px;\n",
              "        line-height: 24px;\n",
              "        color: #536B76;\n",
              "        font-family: 'Montserrat', sans-serif !important;\n",
              "    }\n",
              "    \n",
              "    .spark-nlp-display-entity-wrapper{\n",
              "    \n",
              "        display: inline-grid;\n",
              "        text-align: center;\n",
              "        border-radius: 4px;\n",
              "        margin: 0 2px 5px 2px;\n",
              "        padding: 1px\n",
              "    }\n",
              "    .spark-nlp-display-entity-name{\n",
              "        font-size: 14px;\n",
              "        line-height: 24px;\n",
              "        font-family: 'Montserrat', sans-serif !important;\n",
              "        \n",
              "        background: #f1f2f3;\n",
              "        border-width: medium;\n",
              "        text-align: center;\n",
              "        \n",
              "        font-weight: 400;\n",
              "        \n",
              "        border-radius: 5px;\n",
              "        padding: 2px 5px;\n",
              "        display: block;\n",
              "        margin: 3px 2px;\n",
              "    \n",
              "    }\n",
              "    .spark-nlp-display-entity-type{\n",
              "        font-size: 14px;\n",
              "        line-height: 24px;\n",
              "        color: #ffffff;\n",
              "        font-family: 'Montserrat', sans-serif !important;\n",
              "        \n",
              "        text-transform: uppercase;\n",
              "        \n",
              "        font-weight: 500;\n",
              "\n",
              "        display: block;\n",
              "        padding: 3px 5px;\n",
              "    }\n",
              "    \n",
              "    .spark-nlp-display-entity-resolution{\n",
              "        font-size: 14px;\n",
              "        line-height: 24px;\n",
              "        color: #ffffff;\n",
              "        font-family: 'Vistol Regular', sans-serif !important;\n",
              "        \n",
              "        text-transform: uppercase;\n",
              "        \n",
              "        font-weight: 500;\n",
              "\n",
              "        display: block;\n",
              "        padding: 3px 5px;\n",
              "    }\n",
              "    \n",
              "    .spark-nlp-display-others{\n",
              "        font-size: 14px;\n",
              "        line-height: 24px;\n",
              "        font-family: 'Montserrat', sans-serif !important;\n",
              "        \n",
              "        font-weight: 400;\n",
              "    }\n",
              "\n",
              "</style>\n",
              " <span class=\"spark-nlp-display-others\" style=\"background-color: white\"> Other diseases are under investigation to discover if they have a </span><span class=\"spark-nlp-display-entity-wrapper\" style=\"background-color: #BF2515\"><span class=\"spark-nlp-display-entity-name\">VIRUS </span><span class=\"spark-nlp-display-entity-type\">Pathogen</span></span><span class=\"spark-nlp-display-others\" style=\"background-color: white\"> as the causative agent , such as the possible connection between </span><span class=\"spark-nlp-display-entity-wrapper\" style=\"background-color: #BF2515\"><span class=\"spark-nlp-display-entity-name\">Human-Herpesvirus 6 </span><span class=\"spark-nlp-display-entity-type\">Pathogen</span></span><span class=\"spark-nlp-display-others\" style=\"background-color: white\"> ( </span><span class=\"spark-nlp-display-entity-wrapper\" style=\"background-color: #BF2515\"><span class=\"spark-nlp-display-entity-name\">HHV6 </span><span class=\"spark-nlp-display-entity-type\">Pathogen</span></span><span class=\"spark-nlp-display-others\" style=\"background-color: white\"> ) and </span><span class=\"spark-nlp-display-entity-wrapper\" style=\"background-color: #5E7C66\"><span class=\"spark-nlp-display-entity-name\">Neurological Disorders(ND's </span><span class=\"spark-nlp-display-entity-type\">MedicalCondition</span></span><span class=\"spark-nlp-display-others\" style=\"background-color: white\">) such as </span><span class=\"spark-nlp-display-entity-wrapper\" style=\"background-color: #5E7C66\"><span class=\"spark-nlp-display-entity-name\">multiple sclerosis </span><span class=\"spark-nlp-display-entity-type\">MedicalCondition</span></span><span class=\"spark-nlp-display-others\" style=\"background-color: white\"> and </span><span class=\"spark-nlp-display-entity-wrapper\" style=\"background-color: #5E7C66\"><span class=\"spark-nlp-display-entity-name\">chronic fatigue syndrome </span><span class=\"spark-nlp-display-entity-type\">MedicalCondition</span></span><span class=\"spark-nlp-display-others\" style=\"background-color: white\"> . All medical applications known so far involve not pure </span><span class=\"spark-nlp-display-entity-wrapper\" style=\"background-color: #396B8B\"><span class=\"spark-nlp-display-entity-name\">adamantane </span><span class=\"spark-nlp-display-entity-type\">Medicine</span></span><span class=\"spark-nlp-display-others\" style=\"background-color: white\"> , but its derivatives . The first </span><span class=\"spark-nlp-display-entity-wrapper\" style=\"background-color: #396B8B\"><span class=\"spark-nlp-display-entity-name\">adamantane </span><span class=\"spark-nlp-display-entity-type\">Medicine</span></span><span class=\"spark-nlp-display-others\" style=\"background-color: white\"> derivative used as a drug was </span><span class=\"spark-nlp-display-entity-wrapper\" style=\"background-color: #396B8B\"><span class=\"spark-nlp-display-entity-name\">amantadine </span><span class=\"spark-nlp-display-entity-type\">Medicine</span></span><span class=\"spark-nlp-display-others\" style=\"background-color: white\"> – first ( 1967 ) as an </span><span class=\"spark-nlp-display-entity-wrapper\" style=\"background-color: #396B8B\"><span class=\"spark-nlp-display-entity-name\">ANTIVIRAL-DRUG </span><span class=\"spark-nlp-display-entity-type\">Medicine</span></span><span class=\"spark-nlp-display-others\" style=\"background-color: white\"> against various strains of </span><span class=\"spark-nlp-display-entity-wrapper\" style=\"background-color: #BF2515\"><span class=\"spark-nlp-display-entity-name\">influenza virus </span><span class=\"spark-nlp-display-entity-type\">Pathogen</span></span><span class=\"spark-nlp-display-others\" style=\"background-color: white\"> and then to treat </span><span class=\"spark-nlp-display-entity-wrapper\" style=\"background-color: #5E7C66\"><span class=\"spark-nlp-display-entity-name\">Parkinson's </span><span class=\"spark-nlp-display-entity-type\">MedicalCondition</span></span><span class=\"spark-nlp-display-others\" style=\"background-color: white\"> disease . Other drugs among </span><span class=\"spark-nlp-display-entity-wrapper\" style=\"background-color: #396B8B\"><span class=\"spark-nlp-display-entity-name\">adamantane </span><span class=\"spark-nlp-display-entity-type\">Medicine</span></span><span class=\"spark-nlp-display-others\" style=\"background-color: white\"> derivatives include </span><span class=\"spark-nlp-display-entity-wrapper\" style=\"background-color: #396B8B\"><span class=\"spark-nlp-display-entity-name\">adapalene </span><span class=\"spark-nlp-display-entity-type\">Medicine</span></span><span class=\"spark-nlp-display-others\" style=\"background-color: white\"> , </span><span class=\"spark-nlp-display-entity-wrapper\" style=\"background-color: #396B8B\"><span class=\"spark-nlp-display-entity-name\">adapromine </span><span class=\"spark-nlp-display-entity-type\">Medicine</span></span><span class=\"spark-nlp-display-others\" style=\"background-color: white\"> , </span><span class=\"spark-nlp-display-entity-wrapper\" style=\"background-color: #396B8B\"><span class=\"spark-nlp-display-entity-name\">bromantane </span><span class=\"spark-nlp-display-entity-type\">Medicine</span></span><span class=\"spark-nlp-display-others\" style=\"background-color: white\"> , </span><span class=\"spark-nlp-display-entity-wrapper\" style=\"background-color: #396B8B\"><span class=\"spark-nlp-display-entity-name\">carmantadine </span><span class=\"spark-nlp-display-entity-type\">Medicine</span></span><span class=\"spark-nlp-display-others\" style=\"background-color: white\"> , </span><span class=\"spark-nlp-display-entity-wrapper\" style=\"background-color: #396B8B\"><span class=\"spark-nlp-display-entity-name\">chlodantane </span><span class=\"spark-nlp-display-entity-type\">Medicine</span></span><span class=\"spark-nlp-display-others\" style=\"background-color: white\"> , </span><span class=\"spark-nlp-display-entity-wrapper\" style=\"background-color: #396B8B\"><span class=\"spark-nlp-display-entity-name\">dopamantine </span><span class=\"spark-nlp-display-entity-type\">Medicine</span></span><span class=\"spark-nlp-display-others\" style=\"background-color: white\"> , </span><span class=\"spark-nlp-display-entity-wrapper\" style=\"background-color: #396B8B\"><span class=\"spark-nlp-display-entity-name\">memantine </span><span class=\"spark-nlp-display-entity-type\">Medicine</span></span><span class=\"spark-nlp-display-others\" style=\"background-color: white\"> , </span><span class=\"spark-nlp-display-entity-wrapper\" style=\"background-color: #396B8B\"><span class=\"spark-nlp-display-entity-name\">rimantadine </span><span class=\"spark-nlp-display-entity-type\">Medicine</span></span><span class=\"spark-nlp-display-others\" style=\"background-color: white\"> , </span><span class=\"spark-nlp-display-entity-wrapper\" style=\"background-color: #396B8B\"><span class=\"spark-nlp-display-entity-name\">saxagliptin </span><span class=\"spark-nlp-display-entity-type\">Medicine</span></span><span class=\"spark-nlp-display-others\" style=\"background-color: white\"> , </span><span class=\"spark-nlp-display-entity-wrapper\" style=\"background-color: #396B8B\"><span class=\"spark-nlp-display-entity-name\">tromantadine </span><span class=\"spark-nlp-display-entity-type\">Medicine</span></span><span class=\"spark-nlp-display-others\" style=\"background-color: white\"> , and </span><span class=\"spark-nlp-display-entity-wrapper\" style=\"background-color: #396B8B\"><span class=\"spark-nlp-display-entity-name\">vildagliptin </span><span class=\"spark-nlp-display-entity-type\">Medicine</span></span><span class=\"spark-nlp-display-others\" style=\"background-color: white\"> .</span></div>"
            ],
            "text/plain": [
              "<IPython.core.display.HTML object>"
            ]
          },
          "metadata": {},
          "output_type": "display_data"
        },
        {
          "name": "stdout",
          "output_type": "stream",
          "text": [
            "\n",
            "\n",
            "\n"
          ]
        }
      ],
      "source": [
        "from sparknlp_display import NerVisualizer\n",
        "\n",
        "ner_viz = NerVisualizer()\n",
        "\n",
        "\n",
        "    \n",
        "for j in range(len(text_list)):\n",
        "    ner_viz.display(result = result.collect()[j], label_col = \"ner_chunk\")\n",
        "    print(\"\\n\\n\")"
      ]
    },
    {
      "cell_type": "markdown",
      "metadata": {
        "id": "ecVGes1DaI4V"
      },
      "source": [
        "# `bert_token_classifier_ner_pathogen` **Models**"
      ]
    },
    {
      "cell_type": "code",
      "execution_count": null,
      "metadata": {
        "id": "psb99x1UaMyT"
      },
      "outputs": [],
      "source": [
        "text_list = [\n",
        "\"\"\"Signs of dehydration often begin with loss of Skin-Elasticity and Irritability. This can progress to Skin-Color Change, a Fast-Heart-Rate , and a decreased responsiveness as it becomes more severe . Loose but non-watery stools in babies who are exclusively breastfed , however , are normal .Antiretroviral therapy ( ART ) is recommended for all HIV - infected individuals to reduce the risk of disease progression . ART also is recommended for the HIV(Human immunodeficiency viruses)- infected individuals for the prevention of transmission of HIV . Patients starting ART should be willing and able to commit to treatment and understand the benefits and risks of therapy and the importance of adherence .\"\"\",\n",
        "\n",
        "\"\"\"Measured resistance to amantadine and rimantadine in American isolates of H3N2 has increased to 91% in 2005. This high level of resistance may be due to the easy availability of amantadines as part of over-the-counter the common COLD medications in countries such as China and Russia, and their use to prevent outbreaks of influenza in farmed poultry .\"\"\",\n",
        "\n",
        "\"\"\"Polymers of adamantane have been patented as ANTIVIRAL-Medications against HIV . Buprenorphine has been shown experimentally ( 1982–1995 ) to be effective against severe , refractory depression. Gabapentin , approved for treatment of seizures and postherpetic neuralgia in adults , has side-effects which are useful in treating bipolar disorder1 , essential tremor , hot flashes , migraine prophylaxis , neuropathic-pain syndromes , phantom limb syndrome , and restless leg syndrome .\"\"\",\n",
        "\n",
        "\"\"\"The CDC recommended against using M2-INHIBITORS during the 2005–06 influenza season due to high levels of drug resistance . The two classes of ANTIVIRAL-DRUGS used against influenza are neuraminidase inhibitors ( oseltamivir , zanamivir , laninamivir and peramivir ) and M2 protein inhibitors ( adamantane derivatives ) Influenza , commonly known as a flu infection, is an infectious disease caused by an influenza virus . Symptoms can be mild to severe . The most common symptoms include : SORE-THROAT , MUSCLE-and-JOINT pain , headache , coughing , and FEEL-TIRED . These symptoms typically begin two days after exposure to the VIRUS infection and most last less than a week\"\"\",\n",
        "\n",
        "\"\"\" Other diseases are under investigation to discover if they have a VIRUS as the causative agent , such as the possible connection between HUMAN-HERPES-VIRUS6 (HHV6) and ND's(Neurological-Disorders) such as multiple sclerosis and chronic fatigue syndrome . All medical applications known so far involve not pure adamantane , but its derivatives . The first adamantane derivative used as a drug was amantadine – first ( 1967 ) as an ANTIVIRAL-DRUG against various strains of influenza virus and then to treat Parkinson's disease . Other drugs among adamantane derivatives include adapalene , adapromine , bromantane , carmantadine , chlodantane , dopamantine , memantine , rimantadine , saxagliptin , tromantadine , and vildagliptin .\"\"\"\n",
        "]"
      ]
    },
    {
      "cell_type": "code",
      "execution_count": null,
      "metadata": {
        "colab": {
          "base_uri": "https://localhost:8080/"
        },
        "id": "MDWwOR_laPp6",
        "outputId": "10e5df16-bdf1-41f4-c11f-b47b6c8aad42"
      },
      "outputs": [
        {
          "name": "stdout",
          "output_type": "stream",
          "text": [
            "sentence_detector_dl download started this may take some time.\n",
            "Approximate size to download 354.6 KB\n",
            "[OK!]\n",
            "bert_token_classifier_ner_pathogen download started this may take some time.\n",
            "[OK!]\n"
          ]
        }
      ],
      "source": [
        "document_assembler = nlp.DocumentAssembler() \\\n",
        "    .setInputCol('text') \\\n",
        "    .setOutputCol('document')\n",
        "\n",
        "sentenceDetector = nlp.SentenceDetectorDLModel.pretrained()\\\n",
        "  .setInputCols([\"document\"])\\\n",
        "  .setOutputCol(\"sentence\")\n",
        "\n",
        "tokenizer = nlp.Tokenizer() \\\n",
        "    .setInputCols(['sentence']) \\\n",
        "    .setOutputCol('token')\n",
        "\n",
        "tokenClassifier = medical.BertForTokenClassifier.pretrained(\"bert_token_classifier_ner_pathogen\", \"en\", \"clinical/models\")\\\n",
        "    .setInputCols(['token', \"sentence\"])\\\n",
        "    .setOutputCol(\"label\")\\\n",
        "    .setCaseSensitive(True)\n",
        "\n",
        "ner_converter = nlp.NerConverter()\\\n",
        "    .setInputCols([\"sentence\",\"token\",\"label\"])\\\n",
        "    .setOutputCol(\"ner_chunk\")\n",
        "\n",
        "pipeline = Pipeline(stages=[document_assembler,\n",
        "                            sentenceDetector, \n",
        "                            tokenizer,\n",
        "                            tokenClassifier,\n",
        "                            ner_converter])\n"
      ]
    },
    {
      "cell_type": "code",
      "execution_count": null,
      "metadata": {
        "colab": {
          "base_uri": "https://localhost:8080/"
        },
        "id": "WGt4pk_laZ14",
        "outputId": "b7553ea2-fa28-4711-d906-24b998b7a1fb"
      },
      "outputs": [
        {
          "name": "stdout",
          "output_type": "stream",
          "text": [
            "+----------------------------------------------------------------------------------------------------+\n",
            "|                                                                                                text|\n",
            "+----------------------------------------------------------------------------------------------------+\n",
            "|Signs of dehydration often begin with loss of Skin-Elasticity and Irritability. This can progress...|\n",
            "|Measured resistance to amantadine and rimantadine in American isolates of H3N2 has increased to 9...|\n",
            "|Polymers of adamantane have been patented as ANTIVIRAL-Medications against HIV . Buprenorphine ha...|\n",
            "|The CDC recommended against using M2-INHIBITORS during the 2005–06 influenza season due to high l...|\n",
            "| Other diseases are under investigation to discover if they have a VIRUS as the causative agent ,...|\n",
            "+----------------------------------------------------------------------------------------------------+\n",
            "\n"
          ]
        }
      ],
      "source": [
        "from pyspark.sql.types import StringType, IntegerType\n",
        "\n",
        "df = spark.createDataFrame(text_list, StringType()).toDF('text')\n",
        "\n",
        "df.show(truncate = 100)"
      ]
    },
    {
      "cell_type": "markdown",
      "metadata": {
        "id": "Qj6e18ZlagnV"
      },
      "source": [
        "## Use the pipeline to create outputs"
      ]
    },
    {
      "cell_type": "code",
      "execution_count": null,
      "metadata": {
        "id": "dq8poEi5abjY"
      },
      "outputs": [],
      "source": [
        "result = pipeline.fit(df).transform(df)"
      ]
    },
    {
      "cell_type": "code",
      "execution_count": null,
      "metadata": {
        "colab": {
          "base_uri": "https://localhost:8080/"
        },
        "id": "uNA6L4_sapNW",
        "outputId": "610ef63f-0fb7-403c-f2d1-896cc6a62845"
      },
      "outputs": [
        {
          "name": "stdout",
          "output_type": "stream",
          "text": [
            "+----------------------------------+-----+---+----------------+\n",
            "|chunk                             |begin|end|ner_label       |\n",
            "+----------------------------------+-----+---+----------------+\n",
            "|dehydration                       |9    |19 |MedicalCondition|\n",
            "|Skin-Elasticity                   |46   |60 |MedicalCondition|\n",
            "|Irritability                      |66   |77 |MedicalCondition|\n",
            "|Skin-Color Change                 |101  |117|MedicalCondition|\n",
            "|Fast-Heart-Rate                   |122  |136|MedicalCondition|\n",
            "|decreased responsiveness          |146  |169|MedicalCondition|\n",
            "|Antiretroviral therapy            |291  |312|Medicine        |\n",
            "|ART                               |316  |318|Medicine        |\n",
            "|HIV                               |345  |347|Pathogen        |\n",
            "|ART                               |416  |418|Medicine        |\n",
            "|HIV(Human immunodeficiency viruses|448  |481|Pathogen        |\n",
            "|HIV                               |544  |546|Pathogen        |\n",
            "|ART                               |568  |570|Medicine        |\n",
            "|amantadine                        |23   |32 |Medicine        |\n",
            "|rimantadine                       |38   |48 |Medicine        |\n",
            "|H3N2                              |74   |77 |Pathogen        |\n",
            "|amantadines                       |178  |188|Medicine        |\n",
            "|COLD medications                  |229  |244|Medicine        |\n",
            "|influenza                         |323  |331|MedicalCondition|\n",
            "|adamantane                        |12   |21 |Medicine        |\n",
            "+----------------------------------+-----+---+----------------+\n",
            "only showing top 20 rows\n",
            "\n"
          ]
        }
      ],
      "source": [
        "result.select(F.explode(F.arrays_zip(result.ner_chunk.result, \n",
        "                                     result.ner_chunk.begin,\n",
        "                                     result.ner_chunk.end,\n",
        "                                     result.ner_chunk.metadata)).alias(\"cols\")) \\\n",
        "      .select(F.expr(\"cols['0']\").alias(\"chunk\"),\n",
        "              F.expr(\"cols['1']\").alias(\"begin\"),\n",
        "              F.expr(\"cols['2']\").alias(\"end\"),\n",
        "              F.expr(\"cols['3']['entity']\").alias(\"ner_label\")).show(truncate=False)"
      ]
    },
    {
      "cell_type": "markdown",
      "metadata": {
        "id": "lWBx6iF2azCA"
      },
      "source": [
        "## Visualize results"
      ]
    },
    {
      "cell_type": "code",
      "execution_count": null,
      "metadata": {
        "colab": {
          "base_uri": "https://localhost:8080/",
          "height": 1000
        },
        "id": "0nyQMpfGarzc",
        "outputId": "32fa8f5e-0359-4203-91f8-e9b30ca1163f"
      },
      "outputs": [
        {
          "data": {
            "text/html": [
              "\n",
              "<style>\n",
              "    @import url('https://fonts.googleapis.com/css2?family=Montserrat:wght@300;400;500;600;700&display=swap');\n",
              "    @import url('https://fonts.googleapis.com/css2?family=Vistol Regular:wght@300;400;500;600;700&display=swap');\n",
              "    \n",
              "    .spark-nlp-display-scroll-entities {\n",
              "        border: 1px solid #E7EDF0;\n",
              "        border-radius: 3px;\n",
              "        text-align: justify;\n",
              "        \n",
              "    }\n",
              "    .spark-nlp-display-scroll-entities span {  \n",
              "        font-size: 14px;\n",
              "        line-height: 24px;\n",
              "        color: #536B76;\n",
              "        font-family: 'Montserrat', sans-serif !important;\n",
              "    }\n",
              "    \n",
              "    .spark-nlp-display-entity-wrapper{\n",
              "    \n",
              "        display: inline-grid;\n",
              "        text-align: center;\n",
              "        border-radius: 4px;\n",
              "        margin: 0 2px 5px 2px;\n",
              "        padding: 1px\n",
              "    }\n",
              "    .spark-nlp-display-entity-name{\n",
              "        font-size: 14px;\n",
              "        line-height: 24px;\n",
              "        font-family: 'Montserrat', sans-serif !important;\n",
              "        \n",
              "        background: #f1f2f3;\n",
              "        border-width: medium;\n",
              "        text-align: center;\n",
              "        \n",
              "        font-weight: 400;\n",
              "        \n",
              "        border-radius: 5px;\n",
              "        padding: 2px 5px;\n",
              "        display: block;\n",
              "        margin: 3px 2px;\n",
              "    \n",
              "    }\n",
              "    .spark-nlp-display-entity-type{\n",
              "        font-size: 14px;\n",
              "        line-height: 24px;\n",
              "        color: #ffffff;\n",
              "        font-family: 'Montserrat', sans-serif !important;\n",
              "        \n",
              "        text-transform: uppercase;\n",
              "        \n",
              "        font-weight: 500;\n",
              "\n",
              "        display: block;\n",
              "        padding: 3px 5px;\n",
              "    }\n",
              "    \n",
              "    .spark-nlp-display-entity-resolution{\n",
              "        font-size: 14px;\n",
              "        line-height: 24px;\n",
              "        color: #ffffff;\n",
              "        font-family: 'Vistol Regular', sans-serif !important;\n",
              "        \n",
              "        text-transform: uppercase;\n",
              "        \n",
              "        font-weight: 500;\n",
              "\n",
              "        display: block;\n",
              "        padding: 3px 5px;\n",
              "    }\n",
              "    \n",
              "    .spark-nlp-display-others{\n",
              "        font-size: 14px;\n",
              "        line-height: 24px;\n",
              "        font-family: 'Montserrat', sans-serif !important;\n",
              "        \n",
              "        font-weight: 400;\n",
              "    }\n",
              "\n",
              "</style>\n",
              " <span class=\"spark-nlp-display-others\" style=\"background-color: white\">Signs of </span><span class=\"spark-nlp-display-entity-wrapper\" style=\"background-color: #C35449\"><span class=\"spark-nlp-display-entity-name\">dehydration </span><span class=\"spark-nlp-display-entity-type\">MedicalCondition</span></span><span class=\"spark-nlp-display-others\" style=\"background-color: white\"> often begin with loss of </span><span class=\"spark-nlp-display-entity-wrapper\" style=\"background-color: #C35449\"><span class=\"spark-nlp-display-entity-name\">Skin-Elasticity </span><span class=\"spark-nlp-display-entity-type\">MedicalCondition</span></span><span class=\"spark-nlp-display-others\" style=\"background-color: white\"> and </span><span class=\"spark-nlp-display-entity-wrapper\" style=\"background-color: #C35449\"><span class=\"spark-nlp-display-entity-name\">Irritability </span><span class=\"spark-nlp-display-entity-type\">MedicalCondition</span></span><span class=\"spark-nlp-display-others\" style=\"background-color: white\">. This can progress to </span><span class=\"spark-nlp-display-entity-wrapper\" style=\"background-color: #C35449\"><span class=\"spark-nlp-display-entity-name\">Skin-Color Change </span><span class=\"spark-nlp-display-entity-type\">MedicalCondition</span></span><span class=\"spark-nlp-display-others\" style=\"background-color: white\">, a </span><span class=\"spark-nlp-display-entity-wrapper\" style=\"background-color: #C35449\"><span class=\"spark-nlp-display-entity-name\">Fast-Heart-Rate </span><span class=\"spark-nlp-display-entity-type\">MedicalCondition</span></span><span class=\"spark-nlp-display-others\" style=\"background-color: white\"> , and a </span><span class=\"spark-nlp-display-entity-wrapper\" style=\"background-color: #C35449\"><span class=\"spark-nlp-display-entity-name\">decreased responsiveness </span><span class=\"spark-nlp-display-entity-type\">MedicalCondition</span></span><span class=\"spark-nlp-display-others\" style=\"background-color: white\"> as it becomes more severe . Loose but non-watery stools in babies who are exclusively breastfed , however , are normal .</span><span class=\"spark-nlp-display-entity-wrapper\" style=\"background-color: #64692C\"><span class=\"spark-nlp-display-entity-name\">Antiretroviral therapy </span><span class=\"spark-nlp-display-entity-type\">Medicine</span></span><span class=\"spark-nlp-display-others\" style=\"background-color: white\"> ( </span><span class=\"spark-nlp-display-entity-wrapper\" style=\"background-color: #64692C\"><span class=\"spark-nlp-display-entity-name\">ART </span><span class=\"spark-nlp-display-entity-type\">Medicine</span></span><span class=\"spark-nlp-display-others\" style=\"background-color: white\"> ) is recommended for all </span><span class=\"spark-nlp-display-entity-wrapper\" style=\"background-color: #957DAD\"><span class=\"spark-nlp-display-entity-name\">HIV </span><span class=\"spark-nlp-display-entity-type\">Pathogen</span></span><span class=\"spark-nlp-display-others\" style=\"background-color: white\"> - infected individuals to reduce the risk of disease progression . </span><span class=\"spark-nlp-display-entity-wrapper\" style=\"background-color: #64692C\"><span class=\"spark-nlp-display-entity-name\">ART </span><span class=\"spark-nlp-display-entity-type\">Medicine</span></span><span class=\"spark-nlp-display-others\" style=\"background-color: white\"> also is recommended for the </span><span class=\"spark-nlp-display-entity-wrapper\" style=\"background-color: #957DAD\"><span class=\"spark-nlp-display-entity-name\">HIV(Human immunodeficiency viruses </span><span class=\"spark-nlp-display-entity-type\">Pathogen</span></span><span class=\"spark-nlp-display-others\" style=\"background-color: white\">)- infected individuals for the prevention of transmission of </span><span class=\"spark-nlp-display-entity-wrapper\" style=\"background-color: #957DAD\"><span class=\"spark-nlp-display-entity-name\">HIV </span><span class=\"spark-nlp-display-entity-type\">Pathogen</span></span><span class=\"spark-nlp-display-others\" style=\"background-color: white\"> . Patients starting </span><span class=\"spark-nlp-display-entity-wrapper\" style=\"background-color: #64692C\"><span class=\"spark-nlp-display-entity-name\">ART </span><span class=\"spark-nlp-display-entity-type\">Medicine</span></span><span class=\"spark-nlp-display-others\" style=\"background-color: white\"> should be willing and able to commit to treatment and understand the benefits and risks of therapy and the importance of adherence .</span></div>"
            ],
            "text/plain": [
              "<IPython.core.display.HTML object>"
            ]
          },
          "metadata": {},
          "output_type": "display_data"
        },
        {
          "name": "stdout",
          "output_type": "stream",
          "text": [
            "\n",
            "\n",
            "\n"
          ]
        },
        {
          "data": {
            "text/html": [
              "\n",
              "<style>\n",
              "    @import url('https://fonts.googleapis.com/css2?family=Montserrat:wght@300;400;500;600;700&display=swap');\n",
              "    @import url('https://fonts.googleapis.com/css2?family=Vistol Regular:wght@300;400;500;600;700&display=swap');\n",
              "    \n",
              "    .spark-nlp-display-scroll-entities {\n",
              "        border: 1px solid #E7EDF0;\n",
              "        border-radius: 3px;\n",
              "        text-align: justify;\n",
              "        \n",
              "    }\n",
              "    .spark-nlp-display-scroll-entities span {  \n",
              "        font-size: 14px;\n",
              "        line-height: 24px;\n",
              "        color: #536B76;\n",
              "        font-family: 'Montserrat', sans-serif !important;\n",
              "    }\n",
              "    \n",
              "    .spark-nlp-display-entity-wrapper{\n",
              "    \n",
              "        display: inline-grid;\n",
              "        text-align: center;\n",
              "        border-radius: 4px;\n",
              "        margin: 0 2px 5px 2px;\n",
              "        padding: 1px\n",
              "    }\n",
              "    .spark-nlp-display-entity-name{\n",
              "        font-size: 14px;\n",
              "        line-height: 24px;\n",
              "        font-family: 'Montserrat', sans-serif !important;\n",
              "        \n",
              "        background: #f1f2f3;\n",
              "        border-width: medium;\n",
              "        text-align: center;\n",
              "        \n",
              "        font-weight: 400;\n",
              "        \n",
              "        border-radius: 5px;\n",
              "        padding: 2px 5px;\n",
              "        display: block;\n",
              "        margin: 3px 2px;\n",
              "    \n",
              "    }\n",
              "    .spark-nlp-display-entity-type{\n",
              "        font-size: 14px;\n",
              "        line-height: 24px;\n",
              "        color: #ffffff;\n",
              "        font-family: 'Montserrat', sans-serif !important;\n",
              "        \n",
              "        text-transform: uppercase;\n",
              "        \n",
              "        font-weight: 500;\n",
              "\n",
              "        display: block;\n",
              "        padding: 3px 5px;\n",
              "    }\n",
              "    \n",
              "    .spark-nlp-display-entity-resolution{\n",
              "        font-size: 14px;\n",
              "        line-height: 24px;\n",
              "        color: #ffffff;\n",
              "        font-family: 'Vistol Regular', sans-serif !important;\n",
              "        \n",
              "        text-transform: uppercase;\n",
              "        \n",
              "        font-weight: 500;\n",
              "\n",
              "        display: block;\n",
              "        padding: 3px 5px;\n",
              "    }\n",
              "    \n",
              "    .spark-nlp-display-others{\n",
              "        font-size: 14px;\n",
              "        line-height: 24px;\n",
              "        font-family: 'Montserrat', sans-serif !important;\n",
              "        \n",
              "        font-weight: 400;\n",
              "    }\n",
              "\n",
              "</style>\n",
              " <span class=\"spark-nlp-display-others\" style=\"background-color: white\">Measured resistance to </span><span class=\"spark-nlp-display-entity-wrapper\" style=\"background-color: #A5BF82\"><span class=\"spark-nlp-display-entity-name\">amantadine </span><span class=\"spark-nlp-display-entity-type\">Medicine</span></span><span class=\"spark-nlp-display-others\" style=\"background-color: white\"> and </span><span class=\"spark-nlp-display-entity-wrapper\" style=\"background-color: #A5BF82\"><span class=\"spark-nlp-display-entity-name\">rimantadine </span><span class=\"spark-nlp-display-entity-type\">Medicine</span></span><span class=\"spark-nlp-display-others\" style=\"background-color: white\"> in American isolates of </span><span class=\"spark-nlp-display-entity-wrapper\" style=\"background-color: #668B16\"><span class=\"spark-nlp-display-entity-name\">H3N2 </span><span class=\"spark-nlp-display-entity-type\">Pathogen</span></span><span class=\"spark-nlp-display-others\" style=\"background-color: white\"> has increased to 91% in 2005. This high level of resistance may be due to the easy availability of </span><span class=\"spark-nlp-display-entity-wrapper\" style=\"background-color: #A5BF82\"><span class=\"spark-nlp-display-entity-name\">amantadines </span><span class=\"spark-nlp-display-entity-type\">Medicine</span></span><span class=\"spark-nlp-display-others\" style=\"background-color: white\"> as part of over-the-counter the common </span><span class=\"spark-nlp-display-entity-wrapper\" style=\"background-color: #A5BF82\"><span class=\"spark-nlp-display-entity-name\">COLD medications </span><span class=\"spark-nlp-display-entity-type\">Medicine</span></span><span class=\"spark-nlp-display-others\" style=\"background-color: white\"> in countries such as China and Russia, and their use to prevent outbreaks of </span><span class=\"spark-nlp-display-entity-wrapper\" style=\"background-color: #7353C3\"><span class=\"spark-nlp-display-entity-name\">influenza </span><span class=\"spark-nlp-display-entity-type\">MedicalCondition</span></span><span class=\"spark-nlp-display-others\" style=\"background-color: white\"> in farmed poultry .</span></div>"
            ],
            "text/plain": [
              "<IPython.core.display.HTML object>"
            ]
          },
          "metadata": {},
          "output_type": "display_data"
        },
        {
          "name": "stdout",
          "output_type": "stream",
          "text": [
            "\n",
            "\n",
            "\n"
          ]
        },
        {
          "data": {
            "text/html": [
              "\n",
              "<style>\n",
              "    @import url('https://fonts.googleapis.com/css2?family=Montserrat:wght@300;400;500;600;700&display=swap');\n",
              "    @import url('https://fonts.googleapis.com/css2?family=Vistol Regular:wght@300;400;500;600;700&display=swap');\n",
              "    \n",
              "    .spark-nlp-display-scroll-entities {\n",
              "        border: 1px solid #E7EDF0;\n",
              "        border-radius: 3px;\n",
              "        text-align: justify;\n",
              "        \n",
              "    }\n",
              "    .spark-nlp-display-scroll-entities span {  \n",
              "        font-size: 14px;\n",
              "        line-height: 24px;\n",
              "        color: #536B76;\n",
              "        font-family: 'Montserrat', sans-serif !important;\n",
              "    }\n",
              "    \n",
              "    .spark-nlp-display-entity-wrapper{\n",
              "    \n",
              "        display: inline-grid;\n",
              "        text-align: center;\n",
              "        border-radius: 4px;\n",
              "        margin: 0 2px 5px 2px;\n",
              "        padding: 1px\n",
              "    }\n",
              "    .spark-nlp-display-entity-name{\n",
              "        font-size: 14px;\n",
              "        line-height: 24px;\n",
              "        font-family: 'Montserrat', sans-serif !important;\n",
              "        \n",
              "        background: #f1f2f3;\n",
              "        border-width: medium;\n",
              "        text-align: center;\n",
              "        \n",
              "        font-weight: 400;\n",
              "        \n",
              "        border-radius: 5px;\n",
              "        padding: 2px 5px;\n",
              "        display: block;\n",
              "        margin: 3px 2px;\n",
              "    \n",
              "    }\n",
              "    .spark-nlp-display-entity-type{\n",
              "        font-size: 14px;\n",
              "        line-height: 24px;\n",
              "        color: #ffffff;\n",
              "        font-family: 'Montserrat', sans-serif !important;\n",
              "        \n",
              "        text-transform: uppercase;\n",
              "        \n",
              "        font-weight: 500;\n",
              "\n",
              "        display: block;\n",
              "        padding: 3px 5px;\n",
              "    }\n",
              "    \n",
              "    .spark-nlp-display-entity-resolution{\n",
              "        font-size: 14px;\n",
              "        line-height: 24px;\n",
              "        color: #ffffff;\n",
              "        font-family: 'Vistol Regular', sans-serif !important;\n",
              "        \n",
              "        text-transform: uppercase;\n",
              "        \n",
              "        font-weight: 500;\n",
              "\n",
              "        display: block;\n",
              "        padding: 3px 5px;\n",
              "    }\n",
              "    \n",
              "    .spark-nlp-display-others{\n",
              "        font-size: 14px;\n",
              "        line-height: 24px;\n",
              "        font-family: 'Montserrat', sans-serif !important;\n",
              "        \n",
              "        font-weight: 400;\n",
              "    }\n",
              "\n",
              "</style>\n",
              " <span class=\"spark-nlp-display-others\" style=\"background-color: white\">Polymers of </span><span class=\"spark-nlp-display-entity-wrapper\" style=\"background-color: #79720A\"><span class=\"spark-nlp-display-entity-name\">adamantane </span><span class=\"spark-nlp-display-entity-type\">Medicine</span></span><span class=\"spark-nlp-display-others\" style=\"background-color: white\"> have been patented as </span><span class=\"spark-nlp-display-entity-wrapper\" style=\"background-color: #79720A\"><span class=\"spark-nlp-display-entity-name\">ANTIVIRAL-Medications </span><span class=\"spark-nlp-display-entity-type\">Medicine</span></span><span class=\"spark-nlp-display-others\" style=\"background-color: white\"> against </span><span class=\"spark-nlp-display-entity-wrapper\" style=\"background-color: #639517\"><span class=\"spark-nlp-display-entity-name\">HIV </span><span class=\"spark-nlp-display-entity-type\">Pathogen</span></span><span class=\"spark-nlp-display-others\" style=\"background-color: white\"> . </span><span class=\"spark-nlp-display-entity-wrapper\" style=\"background-color: #79720A\"><span class=\"spark-nlp-display-entity-name\">Buprenorphine </span><span class=\"spark-nlp-display-entity-type\">Medicine</span></span><span class=\"spark-nlp-display-others\" style=\"background-color: white\"> has been shown experimentally ( 1982–1995 ) to be effective against severe , </span><span class=\"spark-nlp-display-entity-wrapper\" style=\"background-color: #465986\"><span class=\"spark-nlp-display-entity-name\">refractory depression </span><span class=\"spark-nlp-display-entity-type\">MedicalCondition</span></span><span class=\"spark-nlp-display-others\" style=\"background-color: white\">. </span><span class=\"spark-nlp-display-entity-wrapper\" style=\"background-color: #79720A\"><span class=\"spark-nlp-display-entity-name\">Gabapentin </span><span class=\"spark-nlp-display-entity-type\">Medicine</span></span><span class=\"spark-nlp-display-others\" style=\"background-color: white\"> , approved for treatment of </span><span class=\"spark-nlp-display-entity-wrapper\" style=\"background-color: #465986\"><span class=\"spark-nlp-display-entity-name\">seizures </span><span class=\"spark-nlp-display-entity-type\">MedicalCondition</span></span><span class=\"spark-nlp-display-others\" style=\"background-color: white\"> and </span><span class=\"spark-nlp-display-entity-wrapper\" style=\"background-color: #465986\"><span class=\"spark-nlp-display-entity-name\">postherpetic neuralgia </span><span class=\"spark-nlp-display-entity-type\">MedicalCondition</span></span><span class=\"spark-nlp-display-others\" style=\"background-color: white\"> in adults , has side-effects which are useful in treating </span><span class=\"spark-nlp-display-entity-wrapper\" style=\"background-color: #465986\"><span class=\"spark-nlp-display-entity-name\">bipolar disorder1 </span><span class=\"spark-nlp-display-entity-type\">MedicalCondition</span></span><span class=\"spark-nlp-display-others\" style=\"background-color: white\"> , </span><span class=\"spark-nlp-display-entity-wrapper\" style=\"background-color: #465986\"><span class=\"spark-nlp-display-entity-name\">essential tremor </span><span class=\"spark-nlp-display-entity-type\">MedicalCondition</span></span><span class=\"spark-nlp-display-others\" style=\"background-color: white\"> , </span><span class=\"spark-nlp-display-entity-wrapper\" style=\"background-color: #465986\"><span class=\"spark-nlp-display-entity-name\">hot flashes </span><span class=\"spark-nlp-display-entity-type\">MedicalCondition</span></span><span class=\"spark-nlp-display-others\" style=\"background-color: white\"> , </span><span class=\"spark-nlp-display-entity-wrapper\" style=\"background-color: #465986\"><span class=\"spark-nlp-display-entity-name\">migraine prophylaxis </span><span class=\"spark-nlp-display-entity-type\">MedicalCondition</span></span><span class=\"spark-nlp-display-others\" style=\"background-color: white\"> , </span><span class=\"spark-nlp-display-entity-wrapper\" style=\"background-color: #465986\"><span class=\"spark-nlp-display-entity-name\">neuropathic-pain syndromes </span><span class=\"spark-nlp-display-entity-type\">MedicalCondition</span></span><span class=\"spark-nlp-display-others\" style=\"background-color: white\"> , </span><span class=\"spark-nlp-display-entity-wrapper\" style=\"background-color: #465986\"><span class=\"spark-nlp-display-entity-name\">phantom limb syndrome </span><span class=\"spark-nlp-display-entity-type\">MedicalCondition</span></span><span class=\"spark-nlp-display-others\" style=\"background-color: white\"> , and </span><span class=\"spark-nlp-display-entity-wrapper\" style=\"background-color: #465986\"><span class=\"spark-nlp-display-entity-name\">restless leg syndrome </span><span class=\"spark-nlp-display-entity-type\">MedicalCondition</span></span><span class=\"spark-nlp-display-others\" style=\"background-color: white\"> .</span></div>"
            ],
            "text/plain": [
              "<IPython.core.display.HTML object>"
            ]
          },
          "metadata": {},
          "output_type": "display_data"
        },
        {
          "name": "stdout",
          "output_type": "stream",
          "text": [
            "\n",
            "\n",
            "\n"
          ]
        },
        {
          "data": {
            "text/html": [
              "\n",
              "<style>\n",
              "    @import url('https://fonts.googleapis.com/css2?family=Montserrat:wght@300;400;500;600;700&display=swap');\n",
              "    @import url('https://fonts.googleapis.com/css2?family=Vistol Regular:wght@300;400;500;600;700&display=swap');\n",
              "    \n",
              "    .spark-nlp-display-scroll-entities {\n",
              "        border: 1px solid #E7EDF0;\n",
              "        border-radius: 3px;\n",
              "        text-align: justify;\n",
              "        \n",
              "    }\n",
              "    .spark-nlp-display-scroll-entities span {  \n",
              "        font-size: 14px;\n",
              "        line-height: 24px;\n",
              "        color: #536B76;\n",
              "        font-family: 'Montserrat', sans-serif !important;\n",
              "    }\n",
              "    \n",
              "    .spark-nlp-display-entity-wrapper{\n",
              "    \n",
              "        display: inline-grid;\n",
              "        text-align: center;\n",
              "        border-radius: 4px;\n",
              "        margin: 0 2px 5px 2px;\n",
              "        padding: 1px\n",
              "    }\n",
              "    .spark-nlp-display-entity-name{\n",
              "        font-size: 14px;\n",
              "        line-height: 24px;\n",
              "        font-family: 'Montserrat', sans-serif !important;\n",
              "        \n",
              "        background: #f1f2f3;\n",
              "        border-width: medium;\n",
              "        text-align: center;\n",
              "        \n",
              "        font-weight: 400;\n",
              "        \n",
              "        border-radius: 5px;\n",
              "        padding: 2px 5px;\n",
              "        display: block;\n",
              "        margin: 3px 2px;\n",
              "    \n",
              "    }\n",
              "    .spark-nlp-display-entity-type{\n",
              "        font-size: 14px;\n",
              "        line-height: 24px;\n",
              "        color: #ffffff;\n",
              "        font-family: 'Montserrat', sans-serif !important;\n",
              "        \n",
              "        text-transform: uppercase;\n",
              "        \n",
              "        font-weight: 500;\n",
              "\n",
              "        display: block;\n",
              "        padding: 3px 5px;\n",
              "    }\n",
              "    \n",
              "    .spark-nlp-display-entity-resolution{\n",
              "        font-size: 14px;\n",
              "        line-height: 24px;\n",
              "        color: #ffffff;\n",
              "        font-family: 'Vistol Regular', sans-serif !important;\n",
              "        \n",
              "        text-transform: uppercase;\n",
              "        \n",
              "        font-weight: 500;\n",
              "\n",
              "        display: block;\n",
              "        padding: 3px 5px;\n",
              "    }\n",
              "    \n",
              "    .spark-nlp-display-others{\n",
              "        font-size: 14px;\n",
              "        line-height: 24px;\n",
              "        font-family: 'Montserrat', sans-serif !important;\n",
              "        \n",
              "        font-weight: 400;\n",
              "    }\n",
              "\n",
              "</style>\n",
              " <span class=\"spark-nlp-display-others\" style=\"background-color: white\">The CDC recommended against using </span><span class=\"spark-nlp-display-entity-wrapper\" style=\"background-color: #3A4B11\"><span class=\"spark-nlp-display-entity-name\">M2-INHIBITORS </span><span class=\"spark-nlp-display-entity-type\">Medicine</span></span><span class=\"spark-nlp-display-others\" style=\"background-color: white\"> during the 2005–06 </span><span class=\"spark-nlp-display-entity-wrapper\" style=\"background-color: #211E77\"><span class=\"spark-nlp-display-entity-name\">influenza </span><span class=\"spark-nlp-display-entity-type\">MedicalCondition</span></span><span class=\"spark-nlp-display-others\" style=\"background-color: white\"> season due to high levels of drug resistance . The two classes of </span><span class=\"spark-nlp-display-entity-wrapper\" style=\"background-color: #3A4B11\"><span class=\"spark-nlp-display-entity-name\">ANTIVIRAL-DRUGS </span><span class=\"spark-nlp-display-entity-type\">Medicine</span></span><span class=\"spark-nlp-display-others\" style=\"background-color: white\"> used against </span><span class=\"spark-nlp-display-entity-wrapper\" style=\"background-color: #211E77\"><span class=\"spark-nlp-display-entity-name\">influenza </span><span class=\"spark-nlp-display-entity-type\">MedicalCondition</span></span><span class=\"spark-nlp-display-others\" style=\"background-color: white\"> are </span><span class=\"spark-nlp-display-entity-wrapper\" style=\"background-color: #3A4B11\"><span class=\"spark-nlp-display-entity-name\">neuraminidase inhibitors </span><span class=\"spark-nlp-display-entity-type\">Medicine</span></span><span class=\"spark-nlp-display-others\" style=\"background-color: white\"> ( </span><span class=\"spark-nlp-display-entity-wrapper\" style=\"background-color: #3A4B11\"><span class=\"spark-nlp-display-entity-name\">oseltamivir </span><span class=\"spark-nlp-display-entity-type\">Medicine</span></span><span class=\"spark-nlp-display-others\" style=\"background-color: white\"> , </span><span class=\"spark-nlp-display-entity-wrapper\" style=\"background-color: #3A4B11\"><span class=\"spark-nlp-display-entity-name\">zanamivir </span><span class=\"spark-nlp-display-entity-type\">Medicine</span></span><span class=\"spark-nlp-display-others\" style=\"background-color: white\"> , </span><span class=\"spark-nlp-display-entity-wrapper\" style=\"background-color: #3A4B11\"><span class=\"spark-nlp-display-entity-name\">laninamivir </span><span class=\"spark-nlp-display-entity-type\">Medicine</span></span><span class=\"spark-nlp-display-others\" style=\"background-color: white\"> and </span><span class=\"spark-nlp-display-entity-wrapper\" style=\"background-color: #3A4B11\"><span class=\"spark-nlp-display-entity-name\">peramivir </span><span class=\"spark-nlp-display-entity-type\">Medicine</span></span><span class=\"spark-nlp-display-others\" style=\"background-color: white\"> ) and </span><span class=\"spark-nlp-display-entity-wrapper\" style=\"background-color: #3A4B11\"><span class=\"spark-nlp-display-entity-name\">M2 protein inhibitors </span><span class=\"spark-nlp-display-entity-type\">Medicine</span></span><span class=\"spark-nlp-display-others\" style=\"background-color: white\"> ( </span><span class=\"spark-nlp-display-entity-wrapper\" style=\"background-color: #3A4B11\"><span class=\"spark-nlp-display-entity-name\">adamantane </span><span class=\"spark-nlp-display-entity-type\">Medicine</span></span><span class=\"spark-nlp-display-others\" style=\"background-color: white\"> derivatives ) </span><span class=\"spark-nlp-display-entity-wrapper\" style=\"background-color: #211E77\"><span class=\"spark-nlp-display-entity-name\">Influenza </span><span class=\"spark-nlp-display-entity-type\">MedicalCondition</span></span><span class=\"spark-nlp-display-others\" style=\"background-color: white\"> , commonly known as a </span><span class=\"spark-nlp-display-entity-wrapper\" style=\"background-color: #211E77\"><span class=\"spark-nlp-display-entity-name\">flu infection </span><span class=\"spark-nlp-display-entity-type\">MedicalCondition</span></span><span class=\"spark-nlp-display-others\" style=\"background-color: white\">, is an infectious disease caused by an </span><span class=\"spark-nlp-display-entity-wrapper\" style=\"background-color: #0487B4\"><span class=\"spark-nlp-display-entity-name\">influenza virus </span><span class=\"spark-nlp-display-entity-type\">Pathogen</span></span><span class=\"spark-nlp-display-others\" style=\"background-color: white\"> . Symptoms can be mild to severe . The most common symptoms include : </span><span class=\"spark-nlp-display-entity-wrapper\" style=\"background-color: #211E77\"><span class=\"spark-nlp-display-entity-name\">SORE-THROAT </span><span class=\"spark-nlp-display-entity-type\">MedicalCondition</span></span><span class=\"spark-nlp-display-others\" style=\"background-color: white\"> , </span><span class=\"spark-nlp-display-entity-wrapper\" style=\"background-color: #211E77\"><span class=\"spark-nlp-display-entity-name\">MUSCLE-and-JOINT pain </span><span class=\"spark-nlp-display-entity-type\">MedicalCondition</span></span><span class=\"spark-nlp-display-others\" style=\"background-color: white\"> , </span><span class=\"spark-nlp-display-entity-wrapper\" style=\"background-color: #211E77\"><span class=\"spark-nlp-display-entity-name\">headache </span><span class=\"spark-nlp-display-entity-type\">MedicalCondition</span></span><span class=\"spark-nlp-display-others\" style=\"background-color: white\"> , </span><span class=\"spark-nlp-display-entity-wrapper\" style=\"background-color: #211E77\"><span class=\"spark-nlp-display-entity-name\">coughing </span><span class=\"spark-nlp-display-entity-type\">MedicalCondition</span></span><span class=\"spark-nlp-display-others\" style=\"background-color: white\"> , and </span><span class=\"spark-nlp-display-entity-wrapper\" style=\"background-color: #211E77\"><span class=\"spark-nlp-display-entity-name\">FEEL-TIRED </span><span class=\"spark-nlp-display-entity-type\">MedicalCondition</span></span><span class=\"spark-nlp-display-others\" style=\"background-color: white\"> . These symptoms typically begin two days after exposure to the </span><span class=\"spark-nlp-display-entity-wrapper\" style=\"background-color: #0487B4\"><span class=\"spark-nlp-display-entity-name\">VIRUS </span><span class=\"spark-nlp-display-entity-type\">Pathogen</span></span><span class=\"spark-nlp-display-others\" style=\"background-color: white\"> infection and most last less than a week</span></div>"
            ],
            "text/plain": [
              "<IPython.core.display.HTML object>"
            ]
          },
          "metadata": {},
          "output_type": "display_data"
        },
        {
          "name": "stdout",
          "output_type": "stream",
          "text": [
            "\n",
            "\n",
            "\n"
          ]
        },
        {
          "data": {
            "text/html": [
              "\n",
              "<style>\n",
              "    @import url('https://fonts.googleapis.com/css2?family=Montserrat:wght@300;400;500;600;700&display=swap');\n",
              "    @import url('https://fonts.googleapis.com/css2?family=Vistol Regular:wght@300;400;500;600;700&display=swap');\n",
              "    \n",
              "    .spark-nlp-display-scroll-entities {\n",
              "        border: 1px solid #E7EDF0;\n",
              "        border-radius: 3px;\n",
              "        text-align: justify;\n",
              "        \n",
              "    }\n",
              "    .spark-nlp-display-scroll-entities span {  \n",
              "        font-size: 14px;\n",
              "        line-height: 24px;\n",
              "        color: #536B76;\n",
              "        font-family: 'Montserrat', sans-serif !important;\n",
              "    }\n",
              "    \n",
              "    .spark-nlp-display-entity-wrapper{\n",
              "    \n",
              "        display: inline-grid;\n",
              "        text-align: center;\n",
              "        border-radius: 4px;\n",
              "        margin: 0 2px 5px 2px;\n",
              "        padding: 1px\n",
              "    }\n",
              "    .spark-nlp-display-entity-name{\n",
              "        font-size: 14px;\n",
              "        line-height: 24px;\n",
              "        font-family: 'Montserrat', sans-serif !important;\n",
              "        \n",
              "        background: #f1f2f3;\n",
              "        border-width: medium;\n",
              "        text-align: center;\n",
              "        \n",
              "        font-weight: 400;\n",
              "        \n",
              "        border-radius: 5px;\n",
              "        padding: 2px 5px;\n",
              "        display: block;\n",
              "        margin: 3px 2px;\n",
              "    \n",
              "    }\n",
              "    .spark-nlp-display-entity-type{\n",
              "        font-size: 14px;\n",
              "        line-height: 24px;\n",
              "        color: #ffffff;\n",
              "        font-family: 'Montserrat', sans-serif !important;\n",
              "        \n",
              "        text-transform: uppercase;\n",
              "        \n",
              "        font-weight: 500;\n",
              "\n",
              "        display: block;\n",
              "        padding: 3px 5px;\n",
              "    }\n",
              "    \n",
              "    .spark-nlp-display-entity-resolution{\n",
              "        font-size: 14px;\n",
              "        line-height: 24px;\n",
              "        color: #ffffff;\n",
              "        font-family: 'Vistol Regular', sans-serif !important;\n",
              "        \n",
              "        text-transform: uppercase;\n",
              "        \n",
              "        font-weight: 500;\n",
              "\n",
              "        display: block;\n",
              "        padding: 3px 5px;\n",
              "    }\n",
              "    \n",
              "    .spark-nlp-display-others{\n",
              "        font-size: 14px;\n",
              "        line-height: 24px;\n",
              "        font-family: 'Montserrat', sans-serif !important;\n",
              "        \n",
              "        font-weight: 400;\n",
              "    }\n",
              "\n",
              "</style>\n",
              " <span class=\"spark-nlp-display-others\" style=\"background-color: white\"> Other diseases are under investigation to discover if they have a </span><span class=\"spark-nlp-display-entity-wrapper\" style=\"background-color: #2E2E77\"><span class=\"spark-nlp-display-entity-name\">VIRUS </span><span class=\"spark-nlp-display-entity-type\">Pathogen</span></span><span class=\"spark-nlp-display-others\" style=\"background-color: white\"> as the causative agent , such as the possible connection between </span><span class=\"spark-nlp-display-entity-wrapper\" style=\"background-color: #2E2E77\"><span class=\"spark-nlp-display-entity-name\">HUMAN-HERPES-VIRUS6 </span><span class=\"spark-nlp-display-entity-type\">Pathogen</span></span><span class=\"spark-nlp-display-others\" style=\"background-color: white\"> (</span><span class=\"spark-nlp-display-entity-wrapper\" style=\"background-color: #2E2E77\"><span class=\"spark-nlp-display-entity-name\">HHV6 </span><span class=\"spark-nlp-display-entity-type\">Pathogen</span></span><span class=\"spark-nlp-display-others\" style=\"background-color: white\">) and </span><span class=\"spark-nlp-display-entity-wrapper\" style=\"background-color: #812D46\"><span class=\"spark-nlp-display-entity-name\">ND's(Neurological-Disorders </span><span class=\"spark-nlp-display-entity-type\">MedicalCondition</span></span><span class=\"spark-nlp-display-others\" style=\"background-color: white\">) such as </span><span class=\"spark-nlp-display-entity-wrapper\" style=\"background-color: #812D46\"><span class=\"spark-nlp-display-entity-name\">multiple sclerosis </span><span class=\"spark-nlp-display-entity-type\">MedicalCondition</span></span><span class=\"spark-nlp-display-others\" style=\"background-color: white\"> and </span><span class=\"spark-nlp-display-entity-wrapper\" style=\"background-color: #812D46\"><span class=\"spark-nlp-display-entity-name\">chronic fatigue syndrome </span><span class=\"spark-nlp-display-entity-type\">MedicalCondition</span></span><span class=\"spark-nlp-display-others\" style=\"background-color: white\"> . All medical applications known so far involve not pure </span><span class=\"spark-nlp-display-entity-wrapper\" style=\"background-color: #5A507D\"><span class=\"spark-nlp-display-entity-name\">adamantane </span><span class=\"spark-nlp-display-entity-type\">Medicine</span></span><span class=\"spark-nlp-display-others\" style=\"background-color: white\"> , but its derivatives . The first </span><span class=\"spark-nlp-display-entity-wrapper\" style=\"background-color: #5A507D\"><span class=\"spark-nlp-display-entity-name\">adamantane </span><span class=\"spark-nlp-display-entity-type\">Medicine</span></span><span class=\"spark-nlp-display-others\" style=\"background-color: white\"> derivative used as a drug was </span><span class=\"spark-nlp-display-entity-wrapper\" style=\"background-color: #5A507D\"><span class=\"spark-nlp-display-entity-name\">amantadine </span><span class=\"spark-nlp-display-entity-type\">Medicine</span></span><span class=\"spark-nlp-display-others\" style=\"background-color: white\"> – first ( 1967 ) as an </span><span class=\"spark-nlp-display-entity-wrapper\" style=\"background-color: #5A507D\"><span class=\"spark-nlp-display-entity-name\">ANTIVIRAL-DRUG </span><span class=\"spark-nlp-display-entity-type\">Medicine</span></span><span class=\"spark-nlp-display-others\" style=\"background-color: white\"> against various strains of </span><span class=\"spark-nlp-display-entity-wrapper\" style=\"background-color: #2E2E77\"><span class=\"spark-nlp-display-entity-name\">influenza virus </span><span class=\"spark-nlp-display-entity-type\">Pathogen</span></span><span class=\"spark-nlp-display-others\" style=\"background-color: white\"> and then to treat </span><span class=\"spark-nlp-display-entity-wrapper\" style=\"background-color: #812D46\"><span class=\"spark-nlp-display-entity-name\">Parkinson's disease </span><span class=\"spark-nlp-display-entity-type\">MedicalCondition</span></span><span class=\"spark-nlp-display-others\" style=\"background-color: white\"> . Other drugs among </span><span class=\"spark-nlp-display-entity-wrapper\" style=\"background-color: #5A507D\"><span class=\"spark-nlp-display-entity-name\">adamantane </span><span class=\"spark-nlp-display-entity-type\">Medicine</span></span><span class=\"spark-nlp-display-others\" style=\"background-color: white\"> derivatives include </span><span class=\"spark-nlp-display-entity-wrapper\" style=\"background-color: #5A507D\"><span class=\"spark-nlp-display-entity-name\">adapalene </span><span class=\"spark-nlp-display-entity-type\">Medicine</span></span><span class=\"spark-nlp-display-others\" style=\"background-color: white\"> , </span><span class=\"spark-nlp-display-entity-wrapper\" style=\"background-color: #5A507D\"><span class=\"spark-nlp-display-entity-name\">adapromine </span><span class=\"spark-nlp-display-entity-type\">Medicine</span></span><span class=\"spark-nlp-display-others\" style=\"background-color: white\"> , </span><span class=\"spark-nlp-display-entity-wrapper\" style=\"background-color: #5A507D\"><span class=\"spark-nlp-display-entity-name\">bromantane </span><span class=\"spark-nlp-display-entity-type\">Medicine</span></span><span class=\"spark-nlp-display-others\" style=\"background-color: white\"> , </span><span class=\"spark-nlp-display-entity-wrapper\" style=\"background-color: #5A507D\"><span class=\"spark-nlp-display-entity-name\">carmantadine </span><span class=\"spark-nlp-display-entity-type\">Medicine</span></span><span class=\"spark-nlp-display-others\" style=\"background-color: white\"> , </span><span class=\"spark-nlp-display-entity-wrapper\" style=\"background-color: #5A507D\"><span class=\"spark-nlp-display-entity-name\">chlodantane </span><span class=\"spark-nlp-display-entity-type\">Medicine</span></span><span class=\"spark-nlp-display-others\" style=\"background-color: white\"> , </span><span class=\"spark-nlp-display-entity-wrapper\" style=\"background-color: #5A507D\"><span class=\"spark-nlp-display-entity-name\">dopamantine </span><span class=\"spark-nlp-display-entity-type\">Medicine</span></span><span class=\"spark-nlp-display-others\" style=\"background-color: white\"> , </span><span class=\"spark-nlp-display-entity-wrapper\" style=\"background-color: #5A507D\"><span class=\"spark-nlp-display-entity-name\">memantine </span><span class=\"spark-nlp-display-entity-type\">Medicine</span></span><span class=\"spark-nlp-display-others\" style=\"background-color: white\"> , </span><span class=\"spark-nlp-display-entity-wrapper\" style=\"background-color: #5A507D\"><span class=\"spark-nlp-display-entity-name\">rimantadine </span><span class=\"spark-nlp-display-entity-type\">Medicine</span></span><span class=\"spark-nlp-display-others\" style=\"background-color: white\"> , </span><span class=\"spark-nlp-display-entity-wrapper\" style=\"background-color: #5A507D\"><span class=\"spark-nlp-display-entity-name\">saxagliptin </span><span class=\"spark-nlp-display-entity-type\">Medicine</span></span><span class=\"spark-nlp-display-others\" style=\"background-color: white\"> , </span><span class=\"spark-nlp-display-entity-wrapper\" style=\"background-color: #5A507D\"><span class=\"spark-nlp-display-entity-name\">tromantadine </span><span class=\"spark-nlp-display-entity-type\">Medicine</span></span><span class=\"spark-nlp-display-others\" style=\"background-color: white\"> , and </span><span class=\"spark-nlp-display-entity-wrapper\" style=\"background-color: #5A507D\"><span class=\"spark-nlp-display-entity-name\">vildagliptin </span><span class=\"spark-nlp-display-entity-type\">Medicine</span></span><span class=\"spark-nlp-display-others\" style=\"background-color: white\"> .</span></div>"
            ],
            "text/plain": [
              "<IPython.core.display.HTML object>"
            ]
          },
          "metadata": {},
          "output_type": "display_data"
        },
        {
          "name": "stdout",
          "output_type": "stream",
          "text": [
            "\n",
            "\n",
            "\n"
          ]
        }
      ],
      "source": [
        "from sparknlp_display import NerVisualizer\n",
        "\n",
        "ner_viz = NerVisualizer()\n",
        "\n",
        "\n",
        "    \n",
        "for j in range(len(text_list)):\n",
        "    ner_viz.display(result = result.collect()[j], label_col = \"ner_chunk\")\n",
        "    print(\"\\n\\n\")"
      ]
    },
    {
      "cell_type": "code",
      "execution_count": null,
      "metadata": {
        "id": "lrCmktECavsd"
      },
      "outputs": [],
      "source": []
    }
  ],
  "metadata": {
    "colab": {
      "collapsed_sections": [],
      "provenance": []
    },
    "kernelspec": {
      "display_name": "Python 3.10.7 64-bit",
      "language": "python",
      "name": "python3"
    },
    "language_info": {
      "name": "python",
      "version": "3.10.7"
    },
    "vscode": {
      "interpreter": {
        "hash": "369f2c481f4da34e4445cda3fffd2e751bd1c4d706f27375911949ba6bb62e1c"
      }
    }
  },
  "nbformat": 4,
  "nbformat_minor": 0
}

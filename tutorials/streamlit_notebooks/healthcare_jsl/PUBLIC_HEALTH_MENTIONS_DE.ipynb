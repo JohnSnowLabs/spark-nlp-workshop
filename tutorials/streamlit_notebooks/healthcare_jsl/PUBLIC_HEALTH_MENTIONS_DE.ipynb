{
  "cells": [
    {
      "cell_type": "markdown",
      "metadata": {
        "id": "UehJ6FLKAzAO"
      },
      "source": [
        "![JohnSnowLabs](https://nlp.johnsnowlabs.com/assets/images/logo.png)\n",
        "\n"
      ]
    },
    {
      "cell_type": "markdown",
      "metadata": {
        "id": "01ra6-EqA4sm"
      },
      "source": [
        "[![Open In Colab](https://colab.research.google.com/assets/colab-badge.svg)](https://colab.research.google.com/github/JohnSnowLabs/spark-nlp-workshop/blob/master/tutorials/streamlit_notebooks/healthcare_jsl/PUBLIC_HEALTH_MENTIONS_DE.ipynb)"
      ]
    },
    {
      "cell_type": "markdown",
      "metadata": {
        "id": "PSBcVApURbMo"
      },
      "source": [
        "## **Classify Public Health Mentions in German**"
      ]
    },
    {
      "cell_type": "markdown",
      "metadata": {
        "id": "cpAjUdJeLtlv"
      },
      "source": [
        "## Colab Setup"
      ]
    },
    {
      "cell_type": "code",
      "execution_count": null,
      "metadata": {
        "id": "2r_2921hLu79"
      },
      "outputs": [],
      "source": [
        "# Install the johnsnowlabs library to access Spark-OCR and Spark-NLP for Healthcare, Finance, and Legal.\n",
        "! pip install -q johnsnowlabs "
      ]
    },
    {
      "cell_type": "code",
      "execution_count": null,
      "metadata": {
        "colab": {
          "base_uri": "https://localhost:8080/",
          "height": 90
        },
        "id": "rMEJ9EX7LxHi",
        "outputId": "11334c07-fb0a-4ce6-99ba-0400621d5db8"
      },
      "outputs": [],
      "source": [
        "from google.colab import files\n",
        "print('Please Upload your John Snow Labs License using the button below')\n",
        "license_keys = files.upload()"
      ]
    },
    {
      "cell_type": "code",
      "execution_count": null,
      "metadata": {
        "colab": {
          "base_uri": "https://localhost:8080/"
        },
        "id": "unUt7PB4MCDo",
        "outputId": "46dbf783-28fc-4935-e1bd-099913461ead"
      },
      "outputs": [],
      "source": [
        "from johnsnowlabs import * \n",
        "\n",
        "# After uploading your license run this to install all licensed Python Wheels and pre-download Jars the Spark Session JVM\n",
        "jsl.install()"
      ]
    },
    {
      "cell_type": "code",
      "execution_count": null,
      "metadata": {
        "colab": {
          "base_uri": "https://localhost:8080/"
        },
        "id": "G58z0wliBcCU",
        "outputId": "c4ffb40e-d56e-4db4-ddce-d5345b2d1702"
      },
      "outputs": [],
      "source": [
        "from johnsnowlabs import * \n",
        "import pandas as pd\n",
        "import warnings\n",
        "warnings.filterwarnings('ignore')\n",
        "\n",
        "# Automatically load license data and start a session with all jars user has access to\n",
        "spark = jsl.start(exclude_ocr = True)"
      ]
    },
    {
      "cell_type": "code",
      "execution_count": 2,
      "metadata": {
        "id": "-tGOBbuRMLI1"
      },
      "outputs": [],
      "source": [
        "text_list = [\"\"\"Die Schmerzen im Oberschenkel sind dann aber shcnell besser geworden, vielleicht war es auhc nur der Schrecke nach dem Stich.\"\"\",\n",
        "             \"\"\"Der roman handelt von einer mutter die ihre tochter sucht nachdem diese im urlaub verschwunden ist.\"\"\",\n",
        "             \"\"\"Der Orthopäde/ Chirurg bei dem ich zuerst war, wollte nicht operieren- er meinte die Probelmatik würde so nicht gelöst.\"\"\",\n",
        "             \"\"\"Wir waren bei einem Wine Tasting in der Steiermark.\"\"\",\n",
        "             \"\"\"Auch der Betriebsarzt ist zu der Diagnose gekommen und sich weitgehend sicher, dass ich Zuckerprobleme habe.\"\"\",  \n",
        "             \"\"\"Es dürfte dafür aber keine relativ einfache Lösung geben - man muss wohl nur die Lüftung austauschen.\"\"\"]"
      ]
    },
    {
      "cell_type": "markdown",
      "metadata": {
        "id": "4OeEfBhVOFHR"
      },
      "source": [
        "## **bert_sequence_classifier_health_mentions_bert**"
      ]
    },
    {
      "cell_type": "code",
      "execution_count": 12,
      "metadata": {
        "colab": {
          "base_uri": "https://localhost:8080/"
        },
        "id": "DUmWqVIzMcd7",
        "outputId": "79932a70-8f8a-476e-988f-e3a0a9c53c01"
      },
      "outputs": [
        {
          "name": "stdout",
          "output_type": "stream",
          "text": [
            "bert_sequence_classifier_health_mentions_bert download started this may take some time.\n",
            "[OK!]\n"
          ]
        }
      ],
      "source": [
        "document_assembler = nlp.DocumentAssembler() \\\n",
        "    .setInputCol(\"text\") \\\n",
        "    .setOutputCol(\"document\")\n",
        "\n",
        "tokenizer = nlp.Tokenizer() \\\n",
        "    .setInputCols([\"document\"]) \\\n",
        "    .setOutputCol(\"token\")\n",
        "\n",
        "sequenceClassifier = medical.BertForSequenceClassification.pretrained(\"bert_sequence_classifier_health_mentions_bert\", \"de\", \"clinical/models\")\\\n",
        "    .setInputCols([\"document\",\"token\"])\\\n",
        "    .setOutputCol(\"class_\")\n",
        "\n",
        "pipeline = Pipeline(stages=[\n",
        "    document_assembler, \n",
        "    tokenizer,\n",
        "    sequenceClassifier    \n",
        "])\n"
      ]
    },
    {
      "cell_type": "code",
      "execution_count": 4,
      "metadata": {
        "id": "ipB2h6z9Mz7_"
      },
      "outputs": [],
      "source": [
        "files = [i for i in (range(1, len(text_list)+1))]\n",
        "\n",
        "df = spark.createDataFrame(pd.DataFrame({'index' : files,'text': text_list}))"
      ]
    },
    {
      "cell_type": "code",
      "execution_count": 5,
      "metadata": {
        "id": "pPtOpzKxMiq_"
      },
      "outputs": [],
      "source": [
        "result = pipeline.fit(df).transform(df)"
      ]
    },
    {
      "cell_type": "code",
      "execution_count": 6,
      "metadata": {
        "colab": {
          "base_uri": "https://localhost:8080/"
        },
        "id": "wesnPHxWMit_",
        "outputId": "471857f4-cee6-44c8-ef1c-840b83c95303"
      },
      "outputs": [
        {
          "name": "stdout",
          "output_type": "stream",
          "text": [
            "+-----+----------------------------------------------------------------------------------------------------+--------------+\n",
            "|index|                                                                                            sentence|    prediction|\n",
            "+-----+----------------------------------------------------------------------------------------------------+--------------+\n",
            "|    1|Die Schmerzen im Oberschenkel sind dann aber shcnell besser geworden, vielleicht war es auhc nur ...|health-related|\n",
            "|    2| Der roman handelt von einer mutter die ihre tochter sucht nachdem diese im urlaub verschwunden ist.|    non-health|\n",
            "|    3|Der Orthopäde/ Chirurg bei dem ich zuerst war, wollte nicht operieren- er meinte die Probelmatik ...|health-related|\n",
            "|    4|                                                 Wir waren bei einem Wine Tasting in der Steiermark.|    non-health|\n",
            "|    5|Auch der Betriebsarzt ist zu der Diagnose gekommen und sich weitgehend sicher, dass ich Zuckerpro...|health-related|\n",
            "|    6|Es dürfte dafür aber keine relativ einfache Lösung geben - man muss wohl nur die Lüftung austausc...|    non-health|\n",
            "+-----+----------------------------------------------------------------------------------------------------+--------------+\n",
            "\n"
          ]
        }
      ],
      "source": [
        "result.select('index',F.explode(F.arrays_zip(result.document.result, \n",
        "                                             result.class_.result)).alias(\"col\"))\\\n",
        "      .select('index',F.expr(\"col['0']\").alias(\"sentence\"),\n",
        "                      F.expr(\"col['1']\").alias(\"prediction\")).show(truncate=100)"
      ]
    },
    {
      "cell_type": "markdown",
      "metadata": {
        "id": "ky-myL_aOQe7"
      },
      "source": [
        "## **bert_sequence_classifier_health_mentions_gbert**"
      ]
    },
    {
      "cell_type": "code",
      "execution_count": 7,
      "metadata": {
        "colab": {
          "base_uri": "https://localhost:8080/"
        },
        "id": "3OAGYwL1OTRv",
        "outputId": "8f8f405b-018b-4a90-cc04-cb77447d29d4"
      },
      "outputs": [
        {
          "name": "stdout",
          "output_type": "stream",
          "text": [
            "bert_sequence_classifier_health_mentions_gbert download started this may take some time.\n",
            "[OK!]\n"
          ]
        }
      ],
      "source": [
        "sequenceClassifier = medical.BertForSequenceClassification.pretrained(\"bert_sequence_classifier_health_mentions_gbert\", \"de\", \"clinical/models\")\\\n",
        "    .setInputCols([\"document\",\"token\"])\\\n",
        "    .setOutputCol(\"class_\")\n",
        "\n",
        "pipeline = Pipeline(stages=[\n",
        "    document_assembler, \n",
        "    tokenizer,\n",
        "    sequenceClassifier    \n",
        "])"
      ]
    },
    {
      "cell_type": "code",
      "execution_count": 8,
      "metadata": {
        "id": "hc1aSW41OTaT"
      },
      "outputs": [],
      "source": [
        "files = [i for i in (range(1, len(text_list)+1))]\n",
        "\n",
        "df = spark.createDataFrame(pd.DataFrame({'index' : files,'text': text_list}))"
      ]
    },
    {
      "cell_type": "code",
      "execution_count": 9,
      "metadata": {
        "id": "E5-_XATbOZqW"
      },
      "outputs": [],
      "source": [
        "result = pipeline.fit(df).transform(df)"
      ]
    },
    {
      "cell_type": "code",
      "execution_count": 10,
      "metadata": {
        "colab": {
          "base_uri": "https://localhost:8080/"
        },
        "id": "8AnFFbJKObX2",
        "outputId": "5f5d22e2-ff7d-4bd1-e7f7-e126f615aab8"
      },
      "outputs": [
        {
          "name": "stdout",
          "output_type": "stream",
          "text": [
            "+-----+----------------------------------------------------------------------------------------------------+--------------+\n",
            "|index|                                                                                            sentence|    prediction|\n",
            "+-----+----------------------------------------------------------------------------------------------------+--------------+\n",
            "|    1|Die Schmerzen im Oberschenkel sind dann aber shcnell besser geworden, vielleicht war es auhc nur ...|health-related|\n",
            "|    2| Der roman handelt von einer mutter die ihre tochter sucht nachdem diese im urlaub verschwunden ist.|    non-health|\n",
            "|    3|Der Orthopäde/ Chirurg bei dem ich zuerst war, wollte nicht operieren- er meinte die Probelmatik ...|health-related|\n",
            "|    4|                                                 Wir waren bei einem Wine Tasting in der Steiermark.|    non-health|\n",
            "|    5|Auch der Betriebsarzt ist zu der Diagnose gekommen und sich weitgehend sicher, dass ich Zuckerpro...|health-related|\n",
            "|    6|Es dürfte dafür aber keine relativ einfache Lösung geben - man muss wohl nur die Lüftung austausc...|    non-health|\n",
            "+-----+----------------------------------------------------------------------------------------------------+--------------+\n",
            "\n"
          ]
        }
      ],
      "source": [
        "result.select('index',F.explode(F.arrays_zip(result.document.result, \n",
        "                                             result.class_.result)).alias(\"col\"))\\\n",
        "      .select('index',F.expr(\"col['0']\").alias(\"sentence\"),\n",
        "                      F.expr(\"col['1']\").alias(\"prediction\")).show(truncate=100)"
      ]
    },
    {
      "cell_type": "markdown",
      "metadata": {
        "id": "jz-uU-1iNB8n"
      },
      "source": [
        "## **bert_sequence_classifier_health_mentions_gbert_large**"
      ]
    },
    {
      "cell_type": "code",
      "execution_count": 11,
      "metadata": {
        "colab": {
          "base_uri": "https://localhost:8080/"
        },
        "id": "B7OXJRQyMiwv",
        "outputId": "d31edf25-4536-4710-985a-c6150c992ec1"
      },
      "outputs": [
        {
          "name": "stdout",
          "output_type": "stream",
          "text": [
            "bert_sequence_classifier_health_mentions_gbert_large download started this may take some time.\n",
            "[OK!]\n"
          ]
        }
      ],
      "source": [
        "sequenceClassifier = medical.BertForSequenceClassification.pretrained(\"bert_sequence_classifier_health_mentions_gbert_large\", \"de\", \"clinical/models\")\\\n",
        "    .setInputCols([\"document\",\"token\"])\\\n",
        "    .setOutputCol(\"class_\")\n",
        "\n",
        "pipeline = Pipeline(stages=[\n",
        "    document_assembler, \n",
        "    tokenizer,\n",
        "    sequenceClassifier    \n",
        "])"
      ]
    },
    {
      "cell_type": "code",
      "execution_count": 12,
      "metadata": {
        "id": "xqhvQzEfNTaU"
      },
      "outputs": [],
      "source": [
        "files = [i for i in (range(1, len(text_list)+1))]\n",
        "\n",
        "df = spark.createDataFrame(pd.DataFrame({'index' : files,'text': text_list}))"
      ]
    },
    {
      "cell_type": "code",
      "execution_count": 13,
      "metadata": {
        "id": "IX818JqqNTdp"
      },
      "outputs": [],
      "source": [
        "result = pipeline.fit(df).transform(df)"
      ]
    },
    {
      "cell_type": "code",
      "execution_count": 14,
      "metadata": {
        "colab": {
          "base_uri": "https://localhost:8080/"
        },
        "id": "MW2wJOfZNTgy",
        "outputId": "30f360da-d8e1-47bc-d3f2-348bff5be785"
      },
      "outputs": [
        {
          "name": "stdout",
          "output_type": "stream",
          "text": [
            "+-----+----------------------------------------------------------------------------------------------------+--------------+\n",
            "|index|                                                                                            sentence|    prediction|\n",
            "+-----+----------------------------------------------------------------------------------------------------+--------------+\n",
            "|    1|Die Schmerzen im Oberschenkel sind dann aber shcnell besser geworden, vielleicht war es auhc nur ...|health-related|\n",
            "|    2| Der roman handelt von einer mutter die ihre tochter sucht nachdem diese im urlaub verschwunden ist.|    non-health|\n",
            "|    3|Der Orthopäde/ Chirurg bei dem ich zuerst war, wollte nicht operieren- er meinte die Probelmatik ...|health-related|\n",
            "|    4|                                                 Wir waren bei einem Wine Tasting in der Steiermark.|    non-health|\n",
            "|    5|Auch der Betriebsarzt ist zu der Diagnose gekommen und sich weitgehend sicher, dass ich Zuckerpro...|health-related|\n",
            "|    6|Es dürfte dafür aber keine relativ einfache Lösung geben - man muss wohl nur die Lüftung austausc...|    non-health|\n",
            "+-----+----------------------------------------------------------------------------------------------------+--------------+\n",
            "\n"
          ]
        }
      ],
      "source": [
        "result.select('index',F.explode(F.arrays_zip(result.document.result, \n",
        "                                             result.class_.result)).alias(\"col\"))\\\n",
        "      .select('index',F.expr(\"col['0']\").alias(\"sentence\"),\n",
        "                      F.expr(\"col['1']\").alias(\"prediction\")).show(truncate=100)"
      ]
    },
    {
      "cell_type": "markdown",
      "metadata": {
        "id": "ZkUwpuzvNciW"
      },
      "source": [
        "## **bert_sequence_classifier_health_mentions_medbert**"
      ]
    },
    {
      "cell_type": "code",
      "execution_count": 13,
      "metadata": {
        "colab": {
          "base_uri": "https://localhost:8080/"
        },
        "id": "6dCJBYC2NTjp",
        "outputId": "ea3d293b-1fde-47f8-dd19-db696eb85561"
      },
      "outputs": [
        {
          "name": "stdout",
          "output_type": "stream",
          "text": [
            "bert_sequence_classifier_health_mentions_medbert download started this may take some time.\n",
            "[OK!]\n"
          ]
        }
      ],
      "source": [
        "sequenceClassifier = medical.BertForSequenceClassification.pretrained(\"bert_sequence_classifier_health_mentions_medbert\", \"de\", \"clinical/models\")\\\n",
        "    .setInputCols([\"document\",\"token\"])\\\n",
        "    .setOutputCol(\"class_\")\n",
        "\n",
        "pipeline = Pipeline(stages=[\n",
        "    document_assembler, \n",
        "    tokenizer,\n",
        "    sequenceClassifier    \n",
        "])"
      ]
    },
    {
      "cell_type": "code",
      "execution_count": 14,
      "metadata": {
        "id": "UyCHkT1bN1Y6"
      },
      "outputs": [],
      "source": [
        "files = [i for i in (range(1, len(text_list)+1))]\n",
        "\n",
        "df = spark.createDataFrame(pd.DataFrame({'index' : files,'text': text_list}))"
      ]
    },
    {
      "cell_type": "code",
      "execution_count": 15,
      "metadata": {
        "id": "zNDtLVlFN1cb"
      },
      "outputs": [],
      "source": [
        "result = pipeline.fit(df).transform(df)"
      ]
    },
    {
      "cell_type": "code",
      "execution_count": 16,
      "metadata": {
        "colab": {
          "base_uri": "https://localhost:8080/"
        },
        "id": "HH0iAK5nN1fU",
        "outputId": "617d9347-834e-44a4-ce64-6a47ca812030"
      },
      "outputs": [
        {
          "name": "stdout",
          "output_type": "stream",
          "text": [
            "+-----+----------------------------------------------------------------------------------------------------+--------------+\n",
            "|index|                                                                                            sentence|    prediction|\n",
            "+-----+----------------------------------------------------------------------------------------------------+--------------+\n",
            "|    1|Die Schmerzen im Oberschenkel sind dann aber shcnell besser geworden, vielleicht war es auhc nur ...|health-related|\n",
            "|    2| Der roman handelt von einer mutter die ihre tochter sucht nachdem diese im urlaub verschwunden ist.|    non-health|\n",
            "|    3|Der Orthopäde/ Chirurg bei dem ich zuerst war, wollte nicht operieren- er meinte die Probelmatik ...|health-related|\n",
            "|    4|                                                 Wir waren bei einem Wine Tasting in der Steiermark.|    non-health|\n",
            "|    5|Auch der Betriebsarzt ist zu der Diagnose gekommen und sich weitgehend sicher, dass ich Zuckerpro...|health-related|\n",
            "|    6|Es dürfte dafür aber keine relativ einfache Lösung geben - man muss wohl nur die Lüftung austausc...|    non-health|\n",
            "+-----+----------------------------------------------------------------------------------------------------+--------------+\n",
            "\n"
          ]
        }
      ],
      "source": [
        "result.select('index',F.explode(F.arrays_zip(result.document.result, \n",
        "                                             result.class_.result)).alias(\"col\"))\\\n",
        "      .select('index',F.expr(\"col['0']\").alias(\"sentence\"),\n",
        "                      F.expr(\"col['1']\").alias(\"prediction\")).show(truncate=100)"
      ]
    }
  ],
  "metadata": {
    "colab": {
      "collapsed_sections": [],
      "provenance": []
    },
    "kernelspec": {
      "display_name": "Python 3",
      "name": "python3"
    },
    "language_info": {
      "name": "python"
    }
  },
  "nbformat": 4,
  "nbformat_minor": 0
}

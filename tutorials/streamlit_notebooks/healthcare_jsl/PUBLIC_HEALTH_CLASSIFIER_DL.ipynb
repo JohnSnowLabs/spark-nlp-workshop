{
  "cells": [
    {
      "cell_type": "markdown",
      "metadata": {
        "id": "owDE4m_FyfJV"
      },
      "source": [
        "![JohnSnowLabs](https://nlp.johnsnowlabs.com/assets/images/logo.png)\n",
        "\n",
        "[![Open In Colab](https://colab.research.google.com/assets/colab-badge.svg)](https://colab.research.google.com/github/JohnSnowLabs/spark-nlp-workshop/blob/master/tutorials/streamlit_notebooks/healthcare_jsl/PUBLIC_HEALTH_CLASSIFIER_DL.ipynb)"
      ]
    },
    {
      "cell_type": "markdown",
      "metadata": {
        "id": "LJRtUrApybYA"
      },
      "source": [
        "# **Colab Setup**"
      ]
    },
    {
      "cell_type": "code",
      "execution_count": null,
      "metadata": {
        "id": "5GlpBHUvcWup"
      },
      "outputs": [],
      "source": [
        "# Install the johnsnowlabs library to access Spark-OCR and Spark-NLP for Healthcare, Finance, and Legal.\n",
        "! pip install -q johnsnowlabs"
      ]
    },
    {
      "cell_type": "code",
      "execution_count": null,
      "metadata": {
        "id": "v6ROKz8c0f8k"
      },
      "outputs": [],
      "source": [
        "from google.colab import files\n",
        "print(\"Please Upload your John Snow Labs License using the button below\")\n",
        "license_keys = files.upload()"
      ]
    },
    {
      "cell_type": "code",
      "execution_count": null,
      "metadata": {
        "id": "bV2hYhB50gAw"
      },
      "outputs": [],
      "source": [
        "from johnsnowlabs import *\n",
        "\n",
        "# After uploading your license run this to install all licensed Python Wheels and pre-download Jars the Spark Session JVM\n",
        "# Make sure to restart your notebook afterwards for changes to take effect\n",
        "\n",
        "jsl.install()"
      ]
    },
    {
      "cell_type": "markdown",
      "metadata": {
        "id": "j_6oU-alKz3e"
      },
      "source": [
        "## Start Session"
      ]
    },
    {
      "cell_type": "code",
      "execution_count": null,
      "metadata": {
        "id": "COP6jvxkKwz5"
      },
      "outputs": [],
      "source": [
        "from johnsnowlabs import *\n",
        "# Automatically load license data and start a session with all jars user has access to\n",
        "spark = jsl.start()"
      ]
    },
    {
      "cell_type": "markdown",
      "metadata": {
        "id": "Xx9px1JN0uwp"
      },
      "source": [
        "# **MODELS**"
      ]
    },
    {
      "cell_type": "markdown",
      "metadata": {
        "id": "qJIdjEh30zmz"
      },
      "source": [
        "## **classifierdl_vaccine_sentiment**"
      ]
    },
    {
      "cell_type": "code",
      "execution_count": 6,
      "metadata": {
        "id": "DvmL5nr10vXA"
      },
      "outputs": [],
      "source": [
        "def run_pipeline(model, text, lang = 'en'):  \n",
        "  document_assembler = nlp.DocumentAssembler() \\\n",
        "    .setInputCol(\"text\") \\\n",
        "    .setOutputCol(\"sentence\")\n",
        "\n",
        "  tokenizer = nlp.Tokenizer() \\\n",
        "    .setInputCols([\"sentence\"]) \\\n",
        "    .setOutputCol(\"token\")\n",
        "\n",
        "  bert_embeddings = nlp.BertEmbeddings.pretrained(\"bert_embeddings_phs_bert\", \"en\", \"public/models\")\\\n",
        "    .setInputCols([\"sentence\", \"token\"])\\\n",
        "    .setOutputCol(\"embeddings\")\\\n",
        "\n",
        "  embeddingsSentence = nlp.SentenceEmbeddings() \\\n",
        "    .setInputCols([\"sentence\", \"embeddings\"]) \\\n",
        "    .setOutputCol(\"sentence_embeddings\") \\\n",
        "    .setPoolingStrategy(\"AVERAGE\")\n",
        "\n",
        "  classifierdl = nlp.ClassifierDLModel.pretrained(model, \"en\", \"clinical/models\")\\\n",
        "    .setInputCols(['sentence', 'token', 'sentence_embeddings'])\\\n",
        "    .setOutputCol('class')\n",
        "\n",
        "  pipeline = Pipeline(\n",
        "    stages = [\n",
        "        document_assembler,\n",
        "        tokenizer,\n",
        "        bert_embeddings,\n",
        "        embeddingsSentence,\n",
        "        classifierdl\n",
        "    ])\n",
        "\n",
        "  df = spark.createDataFrame(text, StringType()).toDF(\"text\")\n",
        "  results = pipeline.fit(df).transform(df)\n",
        "   \n",
        "  print(\"\\n\")\n",
        "  print(\"<----------------- MODEL NAME:\",\"\\033[1m\" + model + \"\\033[0m\",\" ----------------- >\")\n",
        "  \n",
        "  res = results.select( F.explode(F.arrays_zip(\"sentence.result\", \n",
        "                                               \"class.result\",\n",
        "                                               \"class.metadata\")).alias(\"col\"))\\\n",
        "               .select( F.expr(\"col['1']\").alias(\"prediction\"),\n",
        "                        F.expr(\"col['2']\").alias(\"confidence\"),\n",
        "                        F.expr(\"col['0']\").alias(\"sentence\"))\n",
        "  if res.count()>1:\n",
        "    udf_func = F.udf(lambda x,y:  x[str(y)])\n",
        "    print(\"\\n\",model,\"\\n\") \n",
        "    res.withColumn('confidence', udf_func(res.confidence, res.prediction)).show(truncate=False)\n"
      ]
    },
    {
      "cell_type": "code",
      "execution_count": 7,
      "metadata": {
        "id": "7OseGP4H03xH"
      },
      "outputs": [],
      "source": [
        "model = \"classifierdl_vaccine_sentiment\""
      ]
    },
    {
      "cell_type": "code",
      "execution_count": 8,
      "metadata": {
        "id": "MeUBY0NU03z-"
      },
      "outputs": [],
      "source": [
        "sample_texts = [\"\"\" Perhaps when there s a  COVID 19 vaccine in the coming months  or years , it can help countries like   Pakistan increase national immunization stats if routine immunization is coupled with the virus jab drops.   Should the state, however, make vaccination a mandatory citizenship duty. \"\"\",\n",
        "\"\"\" Today  I received my second dose of the  COVID 19 vaccine. When it becomes available to you, don t wait   get vaccinated.  It s safe, easy, and it saves lives. \"\"\",\n",
        "\"\"\" I got my mom scheduled for the   Covid 19 vaccine.  A great relief to me, to be honest. \"\"\",\n",
        "\"\"\" It feels really exciting to have a personal connection to the province s vaccine numbers.   My step dad s 92 year old mother got her first dose yesterday.\"\"\",\n",
        "\"\"\" The current oxford vaccine is based off the work they did on the non mild coronavirus forms of  SARS and  MERS.   But since they were contained, the urgency to continue the work was reduced until  COVID 19. \"\"\",\n",
        "\"\"\" Got the covid vaccine tonight.... so far side effects for me. Super weak  exhausted. Injection site and arm hurts  AF Feel like  I smoked a fat. Other than that... feeling like a million bucks for doing my part. \"\"\"]"
      ]
    },
    {
      "cell_type": "code",
      "execution_count": 9,
      "metadata": {
        "colab": {
          "base_uri": "https://localhost:8080/"
        },
        "id": "QXRS6RxO06jK",
        "outputId": "ca728606-3f97-420e-c3d8-c4c26f5e3de8"
      },
      "outputs": [
        {
          "name": "stdout",
          "output_type": "stream",
          "text": [
            "bert_embeddings_phs_bert download started this may take some time.\n",
            "Approximate size to download 1.2 GB\n",
            "[OK!]\n",
            "classifierdl_vaccine_sentiment download started this may take some time.\n",
            "Approximate size to download 23.1 MB\n",
            "[OK!]\n",
            "\n",
            "\n",
            "<----------------- MODEL NAME: \u001b[1mclassifierdl_vaccine_sentiment\u001b[0m  ----------------- >\n",
            "\n",
            " classifierdl_vaccine_sentiment \n",
            "\n",
            "+----------+----------+-----------------------------------------------------------------------------------------------------------------------------------------------------------------------------------------------------------------------------------------------------------------------------------------------+\n",
            "|prediction|confidence|sentence                                                                                                                                                                                                                                                                                       |\n",
            "+----------+----------+-----------------------------------------------------------------------------------------------------------------------------------------------------------------------------------------------------------------------------------------------------------------------------------------------+\n",
            "|positive  |0.8198555 | Perhaps when there s a  COVID 19 vaccine in the coming months  or years , it can help countries like   Pakistan increase national immunization stats if routine immunization is coupled with the virus jab drops.   Should the state, however, make vaccination a mandatory citizenship duty. |\n",
            "|positive  |0.9995857 | Today  I received my second dose of the  COVID 19 vaccine. When it becomes available to you, don t wait   get vaccinated.  It s safe, easy, and it saves lives.                                                                                                                               |\n",
            "|positive  |0.9999976 | I got my mom scheduled for the   Covid 19 vaccine.  A great relief to me, to be honest.                                                                                                                                                                                                       |\n",
            "|positive  |0.9999896 | It feels really exciting to have a personal connection to the province s vaccine numbers.   My step dad s 92 year old mother got her first dose yesterday.                                                                                                                                    |\n",
            "|neutral   |0.46951422| The current oxford vaccine is based off the work they did on the non mild coronavirus forms of  SARS and  MERS.   But since they were contained, the urgency to continue the work was reduced until  COVID 19.                                                                                |\n",
            "|negative  |0.99580634| Got the covid vaccine tonight.... so far side effects for me. Super weak  exhausted. Injection site and arm hurts  AF Feel like  I smoked a fat. Other than that... feeling like a million bucks for doing my part.                                                                           |\n",
            "+----------+----------+-----------------------------------------------------------------------------------------------------------------------------------------------------------------------------------------------------------------------------------------------------------------------------------------------+\n",
            "\n"
          ]
        }
      ],
      "source": [
        "run_pipeline(model, sample_texts)"
      ]
    },
    {
      "cell_type": "markdown",
      "metadata": {
        "id": "wl_LKWin1JXt"
      },
      "source": [
        "## **classifierdl_health_mentions**"
      ]
    },
    {
      "cell_type": "code",
      "execution_count": 12,
      "metadata": {
        "id": "nEqWZVFP1J7P"
      },
      "outputs": [],
      "source": [
        "model = \"classifierdl_health_mentions\""
      ]
    },
    {
      "cell_type": "code",
      "execution_count": 13,
      "metadata": {
        "id": "W6T52qw-2EVP"
      },
      "outputs": [],
      "source": [
        "sample_texts = [\n",
        "\"\"\"Got sumatriptan for this week long migraine  I thought these were over as a kid  but I guess not  Thought I could just baby it a couple days with water and pedialyte and excedrin  Nope    Why am I so stubborn about continuing to  DO THINGA when I m obviously not well\"\"\",\n",
        "\"\"\"That Thunder trade alert just now from  almost gave me a heart attack  Was bracing myself to see THUNDER SENDS RUSS TO Wow That was the briefest emotional roller coaster ever\"\"\",\n",
        "\"\"\"The sickle cell clinic of  still goes on  It is even more for the next 2 months  Ever heard of childhood stroke  One of the leading causes of childhood stroke is sickle cell  Amidst cancer and other\"\"\",\n",
        "\"\"\"In 2015 I suffered a stroke  This prevented me from playing Rugby League again  It was difficult physically and mentally to recover from  bit four years later  here I am  about to embark on this   Read my story and please donate if you can\"\"\",\n",
        "\"\"\"i respect the fuck out of the lesbian who was in the bar bathroom  one holer  directly before me and dropped a gnarly rank dookie like make a raccoon cough type shit\"\"\",  \n",
        "\"\"\"Many of us have witnessed the sad  steady march of Alzheimer s disease as it destroys memory and thinking ability  But what about the physical effects of Alzheimer s which also are significant  but which we tend not to think about as much\"\"\"\n",
        "]"
      ]
    },
    {
      "cell_type": "code",
      "execution_count": 14,
      "metadata": {
        "colab": {
          "base_uri": "https://localhost:8080/"
        },
        "id": "kmIqsTBv1Wd0",
        "outputId": "37b99ad8-26b2-415c-e334-a9c2566e46a0"
      },
      "outputs": [
        {
          "name": "stdout",
          "output_type": "stream",
          "text": [
            "bert_embeddings_phs_bert download started this may take some time.\n",
            "Approximate size to download 1.2 GB\n",
            "[OK!]\n",
            "classifierdl_health_mentions download started this may take some time.\n",
            "Approximate size to download 22.9 MB\n",
            "[OK!]\n",
            "\n",
            "\n",
            "<----------------- MODEL NAME: \u001b[1mclassifierdl_health_mentions\u001b[0m  ----------------- >\n",
            "\n",
            " classifierdl_health_mentions \n",
            "\n",
            "+------------------+----------+---------------------------------------------------------------------------------------------------------------------------------------------------------------------------------------------------------------------------------------------------------------------------+\n",
            "|prediction        |confidence|sentence                                                                                                                                                                                                                                                                   |\n",
            "+------------------+----------+---------------------------------------------------------------------------------------------------------------------------------------------------------------------------------------------------------------------------------------------------------------------------+\n",
            "|health_mention    |0.999987  |Got sumatriptan for this week long migraine  I thought these were over as a kid  but I guess not  Thought I could just baby it a couple days with water and pedialyte and excedrin  Nope    Why am I so stubborn about continuing to  DO THINGA when I m obviously not well|\n",
            "|figurative_mention|0.9999999 |That Thunder trade alert just now from  almost gave me a heart attack  Was bracing myself to see THUNDER SENDS RUSS TO Wow That was the briefest emotional roller coaster ever                                                                                             |\n",
            "|other_mention     |0.9992162 |The sickle cell clinic of  still goes on  It is even more for the next 2 months  Ever heard of childhood stroke  One of the leading causes of childhood stroke is sickle cell  Amidst cancer and other                                                                     |\n",
            "|health_mention    |0.9999814 |In 2015 I suffered a stroke  This prevented me from playing Rugby League again  It was difficult physically and mentally to recover from  bit four years later  here I am  about to embark on this   Read my story and please donate if you can                            |\n",
            "|figurative_mention|0.60502684|i respect the fuck out of the lesbian who was in the bar bathroom  one holer  directly before me and dropped a gnarly rank dookie like make a raccoon cough type shit                                                                                                      |\n",
            "|other_mention     |0.99998915|Many of us have witnessed the sad  steady march of Alzheimer s disease as it destroys memory and thinking ability  But what about the physical effects of Alzheimer s which also are significant  but which we tend not to think about as much                             |\n",
            "+------------------+----------+---------------------------------------------------------------------------------------------------------------------------------------------------------------------------------------------------------------------------------------------------------------------------+\n",
            "\n"
          ]
        }
      ],
      "source": [
        "run_pipeline(model, sample_texts)"
      ]
    },
    {
      "cell_type": "code",
      "execution_count": null,
      "metadata": {
        "id": "P4g0HTN61aWa"
      },
      "outputs": [],
      "source": []
    }
  ],
  "metadata": {
    "colab": {
      "provenance": []
    },
    "kernelspec": {
      "display_name": "Python 3",
      "name": "python3"
    },
    "language_info": {
      "name": "python"
    }
  },
  "nbformat": 4,
  "nbformat_minor": 0
}

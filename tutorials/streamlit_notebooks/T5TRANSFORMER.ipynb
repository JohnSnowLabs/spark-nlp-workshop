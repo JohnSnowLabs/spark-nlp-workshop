{
 "cells": [
  {
   "cell_type": "markdown",
   "metadata": {
    "id": "TA21Jo5d9SVq"
   },
   "source": [
    "\n",
    "\n",
    "![JohnSnowLabs](https://nlp.johnsnowlabs.com/assets/images/logo.png)\n",
    "\n",
    "[![Open In Colab](https://colab.research.google.com/assets/colab-badge.svg)](https://colab.research.google.com/github/JohnSnowLabs/spark-nlp-workshop/blob/master/tutorials/streamlit_notebooks/T5TRANSFORMER.ipynb)\n",
    "\n",
    "\n"
   ]
  },
  {
   "cell_type": "markdown",
   "metadata": {
    "id": "CzIdjHkAW8TB"
   },
   "source": [
    "# **Text Summarization & Question Answering using google's T5 Transformer**"
   ]
  },
  {
   "cell_type": "markdown",
   "metadata": {
    "id": "y1sZkQkt3sXX"
   },
   "source": [
    "### Spark NLP documentation and instructions:\n",
    "https://nlp.johnsnowlabs.com/docs/en/quickstart\n",
    "\n",
    "### You can find details about Spark NLP annotators here:\n",
    "https://nlp.johnsnowlabs.com/docs/en/annotators\n",
    "\n",
    "### You can find details about Spark NLP models here:\n",
    "https://nlp.johnsnowlabs.com/models\n"
   ]
  },
  {
   "cell_type": "markdown",
   "metadata": {
    "id": "wIeCOiJNW-88"
   },
   "source": [
    "## 1. Colab Setup"
   ]
  },
  {
   "cell_type": "code",
   "execution_count": null,
   "metadata": {
    "id": "CGJktFHdHL1n"
   },
   "outputs": [],
   "source": [
    "# Install java\n",
    "!apt-get update -qq\n",
    "!apt-get install -y openjdk-8-jdk-headless -qq > /dev/null\n",
    "!java -version\n",
    "\n",
    "# This is only to setup PySpark and Spark NLP on Colab\n",
    "# -p is for pyspark\n",
    "# -s is for spark-nlp\n",
    "# !bash colab_setup.sh -p 3.1.1 -s 3.0.0  \n",
    "# by default they are set to the latest\n",
    "\n",
    "!wget -q https://raw.githubusercontent.com/JohnSnowLabs/spark-nlp-workshop/master/colab_setup.sh\n",
    "!bash colab_setup.sh\n",
    "\n",
    "# Install Spark NLP Display for visualization\n",
    "! pip install --upgrade -q spark-nlp-display"
   ]
  },
  {
   "cell_type": "markdown",
   "metadata": {
    "id": "eCIT5VLxS3I1"
   },
   "source": [
    "## 2. Start the Spark session"
   ]
  },
  {
   "cell_type": "markdown",
   "metadata": {
    "id": "khjM-z9ORFU3"
   },
   "source": [
    "Import dependencies and start Spark session."
   ]
  },
  {
   "cell_type": "code",
   "execution_count": null,
   "metadata": {
    "id": "sw-t1zxlHTB7"
   },
   "outputs": [],
   "source": [
    "import os\n",
    "import json\n",
    "os.environ['JAVA_HOME'] = \"/usr/lib/jvm/java-8-openjdk-amd64\"\n",
    "\n",
    "import pandas as pd\n",
    "import numpy as np\n",
    "\n",
    "from pyspark.ml import Pipeline\n",
    "from pyspark.sql import SparkSession\n",
    "import pyspark.sql.functions as F\n",
    "from sparknlp.annotator import *\n",
    "from sparknlp.base import *\n",
    "import sparknlp\n",
    "from sparknlp.pretrained import PretrainedPipeline\n",
    "\n",
    "spark = sparknlp.start()"
   ]
  },
  {
   "cell_type": "markdown",
   "metadata": {
    "id": "9RgiqfX5XDqb"
   },
   "source": [
    "## 3. Select the DL model"
   ]
  },
  {
   "cell_type": "markdown",
   "metadata": {
    "id": "TPqBOgDhnvjB"
   },
   "source": [
    "For complete model list: \n",
    "https://nlp.johnsnowlabs.com/models\n",
    "\n",
    "For `T5` models:\n",
    "https://nlp.johnsnowlabs.com/models?tag=t5"
   ]
  },
  {
   "cell_type": "markdown",
   "metadata": {
    "id": "jQACwlw5dJT6"
   },
   "source": [
    "##4. Text Summaization using T5 Transformer"
   ]
  },
  {
   "cell_type": "markdown",
   "metadata": {
    "id": "XftYgju4XOw_"
   },
   "source": [
    " Define Spark NLP pipeline"
   ]
  },
  {
   "cell_type": "code",
   "execution_count": null,
   "metadata": {
    "colab": {
     "base_uri": "https://localhost:8080/"
    },
    "executionInfo": {
     "elapsed": 4160,
     "status": "ok",
     "timestamp": 1609850990919,
     "user": {
      "displayName": "Hasham Ul Haq",
      "photoUrl": "",
      "userId": "10508284328555930330"
     },
     "user_tz": -300
    },
    "id": "lBggF5P8J1gc",
    "outputId": "a42043db-30c6-4558-e7c4-d35348f644c8"
   },
   "outputs": [
    {
     "name": "stdout",
     "output_type": "stream",
     "text": [
      "t5_small download started this may take some time.\n",
      "Approximate size to download 168.7 MB\n",
      "[OK!]\n"
     ]
    }
   ],
   "source": [
    "document_assembler = DocumentAssembler()\\\n",
    ".setInputCol(\"text\")\\\n",
    ".setOutputCol(\"documents\")\n",
    "\n",
    "t5 = T5Transformer() \\\n",
    "  .pretrained(\"t5_small\", 'en') \\\n",
    "  .setTask(\"summarize:\")\\\n",
    "  .setMaxOutputLength(200)\\\n",
    "  .setInputCols([\"documents\"]) \\\n",
    "  .setOutputCol(\"summaries\")\n",
    "\n",
    "summarizer_pp = Pipeline(stages=[\n",
    "    document_assembler, t5\n",
    "])"
   ]
  },
  {
   "cell_type": "markdown",
   "metadata": {
    "id": "mv0abcwhXWC-"
   },
   "source": [
    "Run the pipeline"
   ]
  },
  {
   "cell_type": "code",
   "execution_count": null,
   "metadata": {
    "colab": {
     "base_uri": "https://localhost:8080/"
    },
    "executionInfo": {
     "elapsed": 6883,
     "status": "ok",
     "timestamp": 1609851362573,
     "user": {
      "displayName": "Hasham Ul Haq",
      "photoUrl": "",
      "userId": "10508284328555930330"
     },
     "user_tz": -300
    },
    "id": "EYf_9sXDXR4t",
    "outputId": "6883019d-3420-485e-b5c9-7d1be918243d"
   },
   "outputs": [
    {
     "name": "stdout",
     "output_type": "stream",
     "text": [
      "Summary: mona Lisa is a 16th century oil painting created by Leonardo .\n"
     ]
    }
   ],
   "source": [
    "empty_df = spark.createDataFrame([['']]).toDF('text')\n",
    "pipeline_model = summarizer_pp.fit(empty_df)\n",
    "sum_lmodel = LightPipeline(pipeline_model)\n",
    "\n",
    "example_txt = \"\"\"\n",
    "\n",
    "Mona Lisa is a 16th century oil painting created by Leonardo. It is held at the Louvre in Paris.\n",
    "\"\"\"\n",
    "\n",
    "res = sum_lmodel.fullAnnotate(example_txt)[0]\n",
    "\n",
    "\n",
    "print ('Summary:', res['summaries'][0].result)"
   ]
  },
  {
   "cell_type": "markdown",
   "metadata": {
    "id": "2QPs_I1JeaFV"
   },
   "source": [
    "##5. Question Answering using T5 Transformer"
   ]
  },
  {
   "cell_type": "markdown",
   "metadata": {
    "id": "Oup7_-KNefgz"
   },
   "source": [
    " Define Spark NLP pipeline"
   ]
  },
  {
   "cell_type": "code",
   "execution_count": null,
   "metadata": {
    "colab": {
     "base_uri": "https://localhost:8080/"
    },
    "executionInfo": {
     "elapsed": 7129,
     "status": "ok",
     "timestamp": 1609851373453,
     "user": {
      "displayName": "Hasham Ul Haq",
      "photoUrl": "",
      "userId": "10508284328555930330"
     },
     "user_tz": -300
    },
    "id": "vmIBAkUWeiAO",
    "outputId": "7bf29cf5-a934-4a3b-b026-4e4dc8b59ebc"
   },
   "outputs": [
    {
     "name": "stdout",
     "output_type": "stream",
     "text": [
      "sentence_detector_dl download started this may take some time.\n",
      "Approximate size to download 354.6 KB\n",
      "[OK!]\n",
      "google_t5_small_ssm_nq download started this may take some time.\n",
      "Approximate size to download 168.8 MB\n",
      "[OK!]\n"
     ]
    }
   ],
   "source": [
    "document_assembler = DocumentAssembler() \\\n",
    "    .setInputCol(\"text\") \\\n",
    "    .setOutputCol(\"documents\")\n",
    "\n",
    "sentence_detector = SentenceDetectorDLModel\\\n",
    "    .pretrained(\"sentence_detector_dl\", \"en\")\\\n",
    "    .setInputCols([\"documents\"])\\\n",
    "    .setOutputCol(\"questions\")\n",
    "\n",
    "t5 = T5Transformer()\\\n",
    "    .pretrained(\"google_t5_small_ssm_nq\", 'en')\\\n",
    "    .setInputCols([\"questions\"])\\\n",
    "    .setOutputCol(\"answers\")\\\n",
    "\n",
    "qa_pp = Pipeline(stages=[\n",
    "    document_assembler, sentence_detector, t5\n",
    "])"
   ]
  },
  {
   "cell_type": "markdown",
   "metadata": {
    "id": "mBRwmr-lfB6T"
   },
   "source": [
    "Run the pipeline"
   ]
  },
  {
   "cell_type": "code",
   "execution_count": null,
   "metadata": {
    "colab": {
     "base_uri": "https://localhost:8080/"
    },
    "executionInfo": {
     "elapsed": 3773,
     "status": "ok",
     "timestamp": 1609851954076,
     "user": {
      "displayName": "Hasham Ul Haq",
      "photoUrl": "",
      "userId": "10508284328555930330"
     },
     "user_tz": -300
    },
    "id": "xJmiFMHKfCX0",
    "outputId": "d9cbdef9-03a6-4f97-da8c-6e7cc6f35e46"
   },
   "outputs": [
    {
     "name": "stdout",
     "output_type": "stream",
     "text": [
      "Question: What is the capital of America?\n",
      "Answer:\t Washington, D.C.\n",
      "Question: who is the most famous singer?\n",
      "Answer:\t Selena Gomez\n",
      "Question: when do we have winters?\n",
      "Answer:\t February 3\n",
      "Question: Who is the president of the USA?\n",
      "Answer:\t Donald Trump\n",
      "Question: Who is the founder of Microsoft?\n",
      "Answer:\t Microsoft founder Bill Gates\n"
     ]
    }
   ],
   "source": [
    "empty_df = spark.createDataFrame([['']]).toDF('text')\n",
    "pipeline_model = qa_pp.fit(empty_df)\n",
    "qa_lmodel = LightPipeline(pipeline_model)\n",
    "\n",
    "questions = [\"What is the capital of America?\",\n",
    "             \"who is the most famous singer?\",\n",
    "             \"when do we have winters?\",\n",
    "             \"Who is the president of the USA?\",\n",
    "             \"Who is the founder of Microsoft?\"\n",
    "]\n",
    "\n",
    "res = qa_lmodel.fullAnnotate(questions)\n",
    "\n",
    "\n",
    "for i, r in enumerate(res):\n",
    "  print (\"Question:\", questions[i])\n",
    "  for sent in r['answers']:\n",
    "    print ('Answer:\\t', sent.result)\n"
   ]
  }
 ],
 "metadata": {
  "colab": {
   "collapsed_sections": [],
   "name": "T5TRANSFORMER.ipynb",
   "provenance": []
  },
  "kernelspec": {
   "display_name": "Python 3",
   "language": "python",
   "name": "python3"
  },
  "language_info": {
   "codemirror_mode": {
    "name": "ipython",
    "version": 3
   },
   "file_extension": ".py",
   "mimetype": "text/x-python",
   "name": "python",
   "nbconvert_exporter": "python",
   "pygments_lexer": "ipython3",
   "version": "3.7.6"
  }
 },
 "nbformat": 4,
 "nbformat_minor": 1
}
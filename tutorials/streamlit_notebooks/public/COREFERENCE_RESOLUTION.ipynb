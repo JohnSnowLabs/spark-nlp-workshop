{
  "cells": [
    {
      "cell_type": "markdown",
      "metadata": {
        "id": "BxDWteecXbf9"
      },
      "source": [
        "![JohnSnowLabs](https://nlp.johnsnowlabs.com/assets/images/logo.png)"
      ]
    },
    {
      "cell_type": "markdown",
      "metadata": {
        "id": "SqSdFWtUXk8X"
      },
      "source": [
        "\n",
        "[![Open In Colab](https://colab.research.google.com/assets/colab-badge.svg)](https://colab.research.google.com/github/JohnSnowLabs/spark-nlp-workshop/blob/master/tutorials/streamlit_notebooks/public/COREFERENCE_RESOLUTION.ipynb)"
      ]
    },
    {
      "cell_type": "markdown",
      "metadata": {
        "id": "hBVjD1ieXtWL"
      },
      "source": [
        "# **COREFERENCE_RESOLUTION**"
      ]
    },
    {
      "cell_type": "markdown",
      "metadata": {
        "id": "DRRGf2hpX0Cv"
      },
      "source": [
        "### **Colab Setup and Start Spark Session**"
      ]
    },
    {
      "cell_type": "code",
      "execution_count": null,
      "metadata": {
        "id": "8KcKvl6vWxF7"
      },
      "outputs": [],
      "source": [
        "!pip install -q pyspark==3.3.0 spark-nlp==4.1.0"
      ]
    },
    {
      "cell_type": "code",
      "execution_count": 20,
      "metadata": {
        "colab": {
          "base_uri": "https://localhost:8080/",
          "height": 228
        },
        "id": "JC2hBT_fWgkP",
        "outputId": "3f713c73-b6e8-4f85-85b9-e18f88574f06"
      },
      "outputs": [
        {
          "name": "stdout",
          "output_type": "stream",
          "text": [
            "Spark NLP Version : 4.1.0\n"
          ]
        },
        {
          "data": {
            "text/html": [
              "\n",
              "            <div>\n",
              "                <p><b>SparkSession - in-memory</b></p>\n",
              "                \n",
              "        <div>\n",
              "            <p><b>SparkContext</b></p>\n",
              "\n",
              "            <p><a href=\"http://f56a48d55164:4040\">Spark UI</a></p>\n",
              "\n",
              "            <dl>\n",
              "              <dt>Version</dt>\n",
              "                <dd><code>v3.3.0</code></dd>\n",
              "              <dt>Master</dt>\n",
              "                <dd><code>local[*]</code></dd>\n",
              "              <dt>AppName</dt>\n",
              "                <dd><code>Spark NLP</code></dd>\n",
              "            </dl>\n",
              "        </div>\n",
              "        \n",
              "            </div>\n",
              "        "
            ],
            "text/plain": [
              "<pyspark.sql.session.SparkSession at 0x7f884408a410>"
            ]
          },
          "execution_count": 20,
          "metadata": {},
          "output_type": "execute_result"
        }
      ],
      "source": [
        "import pandas as pd\n",
        "import numpy as np\n",
        "import random\n",
        "import json\n",
        "\n",
        "import sparknlp\n",
        "import pyspark.sql.functions as F\n",
        "\n",
        "from sparknlp.pretrained import PretrainedPipeline\n",
        "from pyspark.sql.types import StringType, IntegerType\n",
        "from pyspark.sql import SparkSession\n",
        "from pyspark.ml import Pipeline\n",
        "from sparknlp.annotator import *\n",
        "from sparknlp.base import *\n",
        "\n",
        "\n",
        "spark = sparknlp.start()\n",
        "print (\"Spark NLP Version :\", sparknlp.version())\n",
        "spark"
      ]
    },
    {
      "cell_type": "markdown",
      "metadata": {
        "id": "4rEyAlR1X8dj"
      },
      "source": [
        "# **`spanbert_base_coref`**"
      ]
    },
    {
      "cell_type": "markdown",
      "metadata": {
        "id": "rvG6v253QxyT"
      },
      "source": [
        "## 🔎Define Spark NLP pipeline"
      ]
    },
    {
      "cell_type": "code",
      "execution_count": 47,
      "metadata": {
        "colab": {
          "base_uri": "https://localhost:8080/"
        },
        "id": "eAYb-FuOX_ot",
        "outputId": "e317c0ef-0235-45a9-b9c9-58733526c252"
      },
      "outputs": [
        {
          "name": "stdout",
          "output_type": "stream",
          "text": [
            "spanbert_base_coref download started this may take some time.\n",
            "Approximate size to download 540.1 MB\n",
            "[OK!]\n"
          ]
        }
      ],
      "source": [
        "document_assembler = DocumentAssembler()\\\n",
        "    .setInputCol(\"text\")\\\n",
        "    .setOutputCol(\"document\")\n",
        "    \n",
        "sentence_detector = SentenceDetector()\\\n",
        "    .setInputCols([\"document\"])\\\n",
        "    .setOutputCol(\"sentences\")\n",
        "    \n",
        "tokenizer = Tokenizer()\\\n",
        "    .setInputCols([\"sentences\"])\\\n",
        "    .setOutputCol(\"tokens\")\n",
        "    \n",
        "corefResolution = SpanBertCorefModel().pretrained(\"spanbert_base_coref\")\\\n",
        "    .setInputCols([\"sentences\", \"tokens\"])\\\n",
        "    .setOutputCol(\"corefs\")\n",
        "    \n",
        "pipeline = Pipeline(stages=[\n",
        "                            document_assembler, \n",
        "                            sentence_detector, \n",
        "                            tokenizer, \n",
        "                            corefResolution])\n"
      ]
    },
    {
      "cell_type": "markdown",
      "metadata": {
        "id": "h9cGyOJiQ5JL"
      },
      "source": [
        "# 🔎Sample text"
      ]
    },
    {
      "cell_type": "code",
      "execution_count": 48,
      "metadata": {
        "id": "60sD0rs0YTvJ"
      },
      "outputs": [],
      "source": [
        "sample_texts = [\"\"\"All the flowers in the garden withered in a week, their leaves were withered, Luan collected all the leaves that were woven by his hands.\"\"\",\n",
        "                \"\"\"John told Mary he would like to borrow a book from her.\"\"\",\n",
        "                \"\"\"In Kevin's presentation, many participants always raised their hands to ask questions about the topic he was talking about.\"\"\",\n",
        "                \"\"\"Alex told Mary that he would always support her as she prepared for her projects.\"\"\",\n",
        "                \"\"\"John and Peter are brothers, but they do not support each other much.\"\"\"]"
      ]
    },
    {
      "cell_type": "markdown",
      "metadata": {
        "id": "F1cgUcJ1Q-YU"
      },
      "source": [
        "# 🔎Run the pipeline"
      ]
    },
    {
      "cell_type": "code",
      "execution_count": 54,
      "metadata": {
        "colab": {
          "base_uri": "https://localhost:8080/"
        },
        "id": "IoiiRkReLeAj",
        "outputId": "39052433-2beb-45e5-a90c-779ba810cba6"
      },
      "outputs": [
        {
          "name": "stdout",
          "output_type": "stream",
          "text": [
            "SAMPLE TEXT : All the flowers in the garden withered in a week, their leaves were withered, Luan collected all the leaves that were woven by his hands.\n",
            "+-----+---+-----------------------------+-----------------------------------------------------------------------------------------------------------+\n",
            "|begin|end|token                        |metadata                                                                                                   |\n",
            "+-----+---+-----------------------------+-----------------------------------------------------------------------------------------------------------+\n",
            "|0    |28 |All the flowers in the garden|{head.sentence -> -1, head -> ROOT, head.begin -> -1, head.end -> -1, sentence -> 0}                       |\n",
            "|50   |54 |their                        |{head.sentence -> 0, head -> All the flowers in the garden, head.begin -> 0, head.end -> 28, sentence -> 0}|\n",
            "|78   |81 |Luan                         |{head.sentence -> -1, head -> ROOT, head.begin -> -1, head.end -> -1, sentence -> 0}                       |\n",
            "|127  |129|his                          |{head.sentence -> 0, head -> Luan, head.begin -> 78, head.end -> 81, sentence -> 0}                        |\n",
            "+-----+---+-----------------------------+-----------------------------------------------------------------------------------------------------------+\n",
            "\n",
            "SAMPLE TEXT : John told Mary he would like to borrow a book from her.\n",
            "+-----+---+-----+------------------------------------------------------------------------------------+\n",
            "|begin|end|token|metadata                                                                            |\n",
            "+-----+---+-----+------------------------------------------------------------------------------------+\n",
            "|0    |3  |John |{head.sentence -> -1, head -> ROOT, head.begin -> -1, head.end -> -1, sentence -> 0}|\n",
            "|15   |16 |he   |{head.sentence -> 0, head -> John, head.begin -> 0, head.end -> 3, sentence -> 0}   |\n",
            "|10   |13 |Mary |{head.sentence -> -1, head -> ROOT, head.begin -> -1, head.end -> -1, sentence -> 0}|\n",
            "|51   |53 |her  |{head.sentence -> 0, head -> Mary, head.begin -> 10, head.end -> 13, sentence -> 0} |\n",
            "+-----+---+-----+------------------------------------------------------------------------------------+\n",
            "\n",
            "SAMPLE TEXT : In Kevin's presentation, many participants always raised their hands to ask questions about the topic he was talking about.\n",
            "+-----+---+-----------------+------------------------------------------------------------------------------------------------+\n",
            "|begin|end|token            |metadata                                                                                        |\n",
            "+-----+---+-----------------+------------------------------------------------------------------------------------------------+\n",
            "|25   |41 |many participants|{head.sentence -> -1, head -> ROOT, head.begin -> -1, head.end -> -1, sentence -> 0}            |\n",
            "|57   |61 |their            |{head.sentence -> 0, head -> many participants, head.begin -> 25, head.end -> 41, sentence -> 0}|\n",
            "|3    |7  |Kevin            |{head.sentence -> -1, head -> ROOT, head.begin -> -1, head.end -> -1, sentence -> 0}            |\n",
            "|102  |103|he               |{head.sentence -> 0, head -> Kevin, head.begin -> 3, head.end -> 7, sentence -> 0}              |\n",
            "+-----+---+-----------------+------------------------------------------------------------------------------------------------+\n",
            "\n",
            "SAMPLE TEXT : Alex told Mary that he would always support her as she prepared for her projects.\n",
            "+-----+---+-----+------------------------------------------------------------------------------------+\n",
            "|begin|end|token|metadata                                                                            |\n",
            "+-----+---+-----+------------------------------------------------------------------------------------+\n",
            "|0    |3  |Alex |{head.sentence -> -1, head -> ROOT, head.begin -> -1, head.end -> -1, sentence -> 0}|\n",
            "|20   |21 |he   |{head.sentence -> 0, head -> Alex, head.begin -> 0, head.end -> 3, sentence -> 0}   |\n",
            "|10   |13 |Mary |{head.sentence -> -1, head -> ROOT, head.begin -> -1, head.end -> -1, sentence -> 0}|\n",
            "|44   |46 |her  |{head.sentence -> 0, head -> Mary, head.begin -> 10, head.end -> 13, sentence -> 0} |\n",
            "|51   |53 |she  |{head.sentence -> 0, head -> Mary, head.begin -> 10, head.end -> 13, sentence -> 0} |\n",
            "|68   |70 |her  |{head.sentence -> 0, head -> Mary, head.begin -> 10, head.end -> 13, sentence -> 0} |\n",
            "+-----+---+-----+------------------------------------------------------------------------------------+\n",
            "\n",
            "SAMPLE TEXT : John and Peter are brothers, but they do not support each other much.\n",
            "+-----+---+--------------+--------------------------------------------------------------------------------------------+\n",
            "|begin|end|token         |metadata                                                                                    |\n",
            "+-----+---+--------------+--------------------------------------------------------------------------------------------+\n",
            "|0    |13 |John and Peter|{head.sentence -> -1, head -> ROOT, head.begin -> -1, head.end -> -1, sentence -> 0}        |\n",
            "|33   |36 |they          |{head.sentence -> 0, head -> John and Peter, head.begin -> 0, head.end -> 13, sentence -> 0}|\n",
            "+-----+---+--------------+--------------------------------------------------------------------------------------------+\n",
            "\n"
          ]
        }
      ],
      "source": [
        "for  i in range(len(sample_texts)):\n",
        "  print(f\"SAMPLE TEXT : {sample_texts[i]}\")\n",
        "  df = spark.createDataFrame([[sample_texts[i]]]).toDF(\"text\")\n",
        "  result = pipeline.fit(df).transform(df)\n",
        "\n",
        "  result.selectExpr(\"explode(corefs) AS coref\").selectExpr(\"coref.begin as begin\", \n",
        "                                                        \"coref.end as end\", \n",
        "                                                        \"coref.result as token\", \n",
        "                                                        \"coref.metadata\").show(truncate=False)\n"
      ]
    }
  ],
  "metadata": {
    "colab": {
      "collapsed_sections": [],
      "provenance": []
    },
    "kernelspec": {
      "display_name": "Python 3.9.2 64-bit ('3.9.2')",
      "language": "python",
      "name": "python3"
    },
    "language_info": {
      "name": "python",
      "version": "3.9.2"
    },
    "vscode": {
      "interpreter": {
        "hash": "a6cfde16737151ae49a327430a5fbb48432a976136d1f3391213c81bbed9fca8"
      }
    }
  },
  "nbformat": 4,
  "nbformat_minor": 0
}

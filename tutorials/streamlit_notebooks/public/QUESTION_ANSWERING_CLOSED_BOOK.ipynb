{
  "nbformat": 4,
  "nbformat_minor": 0,
  "metadata": {
    "colab": {
      "name": "QUESTION_ANSWERING_CLOSED_BOOK.ipynb",
      "provenance": [],
      "collapsed_sections": []
    },
    "kernelspec": {
      "name": "python3",
      "display_name": "Python 3"
    },
    "language_info": {
      "name": "python"
    }
  },
  "cells": [
    {
      "cell_type": "markdown",
      "source": [
        "# **Colab Setup and Start Spark Session**"
      ],
      "metadata": {
        "id": "eA8FrEs47qbG"
      }
    },
    {
      "cell_type": "code",
      "execution_count": null,
      "metadata": {
        "id": "1UMZcxr97Ij0"
      },
      "outputs": [],
      "source": [
        "!pip install -q pyspark==3.3.0 spark-nlp==4.0.2"
      ]
    },
    {
      "cell_type": "code",
      "source": [
        "import sparknlp\n",
        "import pandas as pd\n",
        "\n",
        "spark = sparknlp.start()\n",
        "\n",
        "\n",
        "from sparknlp.base import *\n",
        "from sparknlp.annotator import *\n",
        "from pyspark.ml import Pipeline\n",
        "from pyspark.sql.types import StringType, IntegerType\n",
        "\n",
        "\n",
        "\n",
        "print(\"Spark NLP version\", sparknlp.version())\n",
        "print(\"Apache Spark version:\", spark.version)\n",
        "\n",
        "spark \n"
      ],
      "metadata": {
        "colab": {
          "base_uri": "https://localhost:8080/",
          "height": 244
        },
        "id": "LEW2ZjZj7T1Q",
        "outputId": "03908ad4-af58-452a-9082-773f2d708f9b"
      },
      "execution_count": 8,
      "outputs": [
        {
          "output_type": "stream",
          "name": "stdout",
          "text": [
            "Spark NLP version 4.0.2\n",
            "Apache Spark version: 3.3.0\n"
          ]
        },
        {
          "output_type": "execute_result",
          "data": {
            "text/plain": [
              "<pyspark.sql.session.SparkSession at 0x7f252bba2950>"
            ],
            "text/html": [
              "\n",
              "            <div>\n",
              "                <p><b>SparkSession - in-memory</b></p>\n",
              "                \n",
              "        <div>\n",
              "            <p><b>SparkContext</b></p>\n",
              "\n",
              "            <p><a href=\"http://ab1b7fd51d44:4040\">Spark UI</a></p>\n",
              "\n",
              "            <dl>\n",
              "              <dt>Version</dt>\n",
              "                <dd><code>v3.3.0</code></dd>\n",
              "              <dt>Master</dt>\n",
              "                <dd><code>local[*]</code></dd>\n",
              "              <dt>AppName</dt>\n",
              "                <dd><code>Spark NLP</code></dd>\n",
              "            </dl>\n",
              "        </div>\n",
              "        \n",
              "            </div>\n",
              "        "
            ]
          },
          "metadata": {},
          "execution_count": 8
        }
      ]
    },
    {
      "cell_type": "markdown",
      "source": [
        "# **`google_t5_small_ssm_n`** model"
      ],
      "metadata": {
        "id": "R1S4LEP98URK"
      }
    },
    {
      "cell_type": "code",
      "source": [
        "document_assembler = DocumentAssembler()\\\n",
        "    .setInputCol(\"text\")\\\n",
        "    .setOutputCol(\"documents\")\n",
        "\n",
        "sentence_detector = SentenceDetectorDLModel\\\n",
        "    .pretrained(\"sentence_detector_dl\", \"en\")\\\n",
        "    .setInputCols([\"documents\"])\\\n",
        "    .setOutputCol(\"questions\")\n",
        "    \n",
        "t5 = T5Transformer()\\\n",
        "    .pretrained(\"google_t5_small_ssm_nq\")\\\n",
        "    .setTask('trivia question:')\\\n",
        "    .setInputCols([\"questions\"])\\\n",
        "    .setOutputCol(\"answers\")\n",
        "    \n",
        "qa_pp = Pipeline(stages=[\n",
        "            document_assembler, \n",
        "            sentence_detector, \n",
        "            t5])\n"
      ],
      "metadata": {
        "colab": {
          "base_uri": "https://localhost:8080/"
        },
        "id": "xXQ9Wpw17eoY",
        "outputId": "09ed5660-a0bf-44ef-a1c7-bf95b8b1606c"
      },
      "execution_count": 6,
      "outputs": [
        {
          "output_type": "stream",
          "name": "stdout",
          "text": [
            "sentence_detector_dl download started this may take some time.\n",
            "Approximate size to download 354.6 KB\n",
            "[OK!]\n",
            "google_t5_small_ssm_nq download started this may take some time.\n",
            "Approximate size to download 170.8 MB\n",
            "[OK!]\n"
          ]
        }
      ]
    },
    {
      "cell_type": "code",
      "source": [
        "questions_list = [\n",
        "\"Who is Clark Kent?\",\n",
        "\"Which is the capital of Bulgaria ?\",\n",
        "\"Which country tops the annual global democracy index compiled by the economist intelligence unit?\",\n",
        "\"In which city is the Eiffel Tower located?\",\n",
        "\"Who is the founder of Microsoft?\"\n",
        "]"
      ],
      "metadata": {
        "id": "upeIQwcW8SMG"
      },
      "execution_count": 9,
      "outputs": []
    },
    {
      "cell_type": "code",
      "source": [
        "df = spark.createDataFrame(questions_list, StringType()).toDF(\"text\")\n",
        "df.show()\n"
      ],
      "metadata": {
        "colab": {
          "base_uri": "https://localhost:8080/"
        },
        "id": "82dLzg_g8PKm",
        "outputId": "49cccc73-ec48-4bab-bc2c-5b40f72148b5"
      },
      "execution_count": 10,
      "outputs": [
        {
          "output_type": "stream",
          "name": "stdout",
          "text": [
            "+--------------------+\n",
            "|                text|\n",
            "+--------------------+\n",
            "|  Who is Clark Kent?|\n",
            "|Which is the capi...|\n",
            "|Which country top...|\n",
            "|In which city is ...|\n",
            "|Who is the founde...|\n",
            "+--------------------+\n",
            "\n"
          ]
        }
      ]
    },
    {
      "cell_type": "code",
      "source": [
        "results = qa_pp.fit(df).transform(df)"
      ],
      "metadata": {
        "id": "zF9C_W848meh"
      },
      "execution_count": 11,
      "outputs": []
    },
    {
      "cell_type": "code",
      "source": [
        "results.select(\"questions.result\", \"answers.result\").show(truncate=False)"
      ],
      "metadata": {
        "colab": {
          "base_uri": "https://localhost:8080/"
        },
        "id": "P5ibHlr48pmx",
        "outputId": "af340704-71f9-4a26-95cf-7678f8f224b7"
      },
      "execution_count": 12,
      "outputs": [
        {
          "output_type": "stream",
          "name": "stdout",
          "text": [
            "+---------------------------------------------------------------------------------------------------+------------------------------+\n",
            "|result                                                                                             |result                        |\n",
            "+---------------------------------------------------------------------------------------------------+------------------------------+\n",
            "|[Who is Clark Kent?]                                                                               |[a superhero]                 |\n",
            "|[Which is the capital of Bulgaria ?]                                                               |[Sofia]                       |\n",
            "|[Which country tops the annual global democracy index compiled by the economist intelligence unit?]|[Norway]                      |\n",
            "|[In which city is the Eiffel Tower located?]                                                       |[Paris]                       |\n",
            "|[Who is the founder of Microsoft?]                                                                 |[Microsoft founder Bill Gates]|\n",
            "+---------------------------------------------------------------------------------------------------+------------------------------+\n",
            "\n"
          ]
        }
      ]
    }
  ]
}
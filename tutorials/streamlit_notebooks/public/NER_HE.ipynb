{
  "cells": [
    {
      "cell_type": "markdown",
      "metadata": {
        "id": "eZU4hmc4IK9G"
      },
      "source": [
        "\n",
        "![JohnSnowLabs](https://nlp.johnsnowlabs.com/assets/images/logo.png)\n",
        "\n",
        "[![Open In Colab](https://colab.research.google.com/assets/colab-badge.svg)](https://colab.research.google.com/github/JohnSnowLabs/spark-nlp-workshop/blob/master/tutorials/streamlit_notebooks/public/NER_HE.ipynb)"
      ]
    },
    {
      "cell_type": "markdown",
      "metadata": {
        "id": "iu-P9dPHJ6iX"
      },
      "source": [
        "# **Recognize entities in Hebrew text**"
      ]
    },
    {
      "cell_type": "markdown",
      "metadata": {
        "id": "8e0HUE_QH3_I"
      },
      "source": [
        "# **Colab Setup**"
      ]
    },
    {
      "cell_type": "code",
      "execution_count": 54,
      "metadata": {
        "id": "mcPe-BmbvijG"
      },
      "outputs": [],
      "source": [
        "# Install PySpark and Spark NLP\n",
        "! pip install -q pyspark==3.1.2 spark-nlp\n",
        "\n",
        "# Install Spark NLP Display lib\n",
        "! pip install --upgrade -q spark-nlp-display"
      ]
    },
    {
      "cell_type": "markdown",
      "metadata": {
        "id": "Oyszm0lfKLgF"
      },
      "source": [
        "# **Start the Spark session**"
      ]
    },
    {
      "cell_type": "code",
      "execution_count": 55,
      "metadata": {
        "colab": {
          "base_uri": "https://localhost:8080/"
        },
        "id": "FkIDVLZlwJZH",
        "outputId": "eba2e84f-6517-4528-d744-4cd87be41d51"
      },
      "outputs": [
        {
          "name": "stdout",
          "output_type": "stream",
          "text": [
            "Spark NLP version 3.4.4\n",
            "Apache Spark version: 3.1.2\n"
          ]
        }
      ],
      "source": [
        "import sparknlp\n",
        "from sparknlp.base import *\n",
        "from sparknlp.annotator import *\n",
        "\n",
        "import pandas as pd\n",
        "\n",
        "pd.set_option('display.max_columns', None)  \n",
        "pd.set_option('display.expand_frame_repr', False)\n",
        "pd.set_option('max_colwidth', None)\n",
        "\n",
        "import string\n",
        "import numpy as np\n",
        "\n",
        "\n",
        "spark = sparknlp.start()\n",
        "\n",
        "print(\"Spark NLP version\", sparknlp.version())\n",
        "print(\"Apache Spark version:\", spark.version)"
      ]
    },
    {
      "cell_type": "markdown",
      "metadata": {
        "id": "zdkipZ63LY9-"
      },
      "source": [
        "# **🔎 For about model**"
      ]
    },
    {
      "cell_type": "markdown",
      "metadata": {
        "id": "Hm8RnxGNJptO"
      },
      "source": [
        "\n",
        "📌 **\"hebrewner_cc_300d\"**--> *This model uses Hebrew word embeddings to find 10 different types of entities in Hebrew text. It is trained using hebrewner_cc_300d word embeddings, please use the same embeddings in the pipeline.*\n",
        "\n",
        "*  Persons-PERS, Dates-DATE, Organizations-ORG, Locations-LOC, Percentage-PERCENT, Money-MONEY, Time-TIME, Miscellaneous (Affiliation)-MISC_AFF, Miscellaneous (Event)-MISC_EVENT, Miscellaneous (Entity)-MISC_ENT.\n",
        "\n",
        "\n",
        "\n"
      ]
    },
    {
      "cell_type": "markdown",
      "metadata": {
        "id": "STkeDskc4RCY"
      },
      "source": [
        "# **🔎Define Spark NLP pipeline**"
      ]
    },
    {
      "cell_type": "code",
      "execution_count": 57,
      "metadata": {
        "colab": {
          "base_uri": "https://localhost:8080/"
        },
        "id": "ZuUVv0eOGjnQ",
        "outputId": "17e620d1-9061-4ef2-8367-da7b3bb025b3"
      },
      "outputs": [
        {
          "name": "stdout",
          "output_type": "stream",
          "text": [
            "hebrew_cc_300d download started this may take some time.\n",
            "Approximate size to download 1.1 GB\n",
            "[OK!]\n",
            "hebrewner_cc_300d download started this may take some time.\n",
            "Approximate size to download 14.1 MB\n",
            "[OK!]\n"
          ]
        }
      ],
      "source": [
        "documentAssembler = DocumentAssembler()\\\n",
        "    .setInputCol(\"text\")\\\n",
        "    .setOutputCol(\"document\")\n",
        "\n",
        "tokenizer = Tokenizer() \\\n",
        "    .setInputCols([\"document\"]) \\\n",
        "    .setOutputCol(\"token\")\n",
        "\n",
        "embeddings = WordEmbeddingsModel.pretrained(\"hebrew_cc_300d\", \"he\") \\\n",
        "    .setInputCols([\"document\", \"token\"]) \\\n",
        "    .setOutputCol(\"embeddings\")\n",
        "\n",
        "ner = NerDLModel.pretrained(\"hebrewner_cc_300d\", \"he\" ) \\\n",
        "    .setInputCols([\"document\", \"token\", \"embeddings\"]) \\\n",
        "    .setOutputCol(\"ner\")\n",
        "\n",
        "ner_converter = NerConverter() \\\n",
        "    .setInputCols([\"document\", \"token\", \"ner\"]) \\\n",
        "    .setOutputCol(\"ner_chunk\")\n",
        "\n",
        "nlpPipeline = Pipeline(stages=[ documentAssembler, \n",
        "                                 tokenizer,\n",
        "                                 embeddings,\n",
        "                                 ner,\n",
        "                                 ner_converter\n",
        "                                 ])\n",
        "\n",
        "empty_df = spark.createDataFrame([['']]).toDF(\"text\")\n",
        "pipelineModel = nlpPipeline.fit(empty_df)\n",
        "light_model = LightPipeline(pipelineModel)"
      ]
    },
    {
      "cell_type": "markdown",
      "metadata": {
        "id": "LUH8FUAZhzoC"
      },
      "source": [
        "# **🔎Sample text**"
      ]
    },
    {
      "cell_type": "code",
      "execution_count": 60,
      "metadata": {
        "id": "xwRR-BaKeGHA"
      },
      "outputs": [],
      "source": [
        "text = \"\"\"והתוצאה : ספרו הפך לרב מכר ענק ובסיס לוויכוחים תיאולוגיים ודיונים נזעמים , כמו גם התקפות והאשמות כלפי בראון מחוגי הכנסייה כפי שמעולם לא התעוררו כתוצאה מספריהם של וואלאס או לאדלום , ואף גרם לסופר מצליח בזכות עצמו , דן בורסטין , לערוך את הספר \" הסודות שמאחורי צופן דה וינצ'י \" , שבו הוא בודק אחת לאחת את העובדות וההנחות שעליהן מסתמך בראון על ידי שפע של מאמרים , חלקם מקוריים וחלקם לקוחים מספרים , כתבי עת וראיונות עם חוקרים שונים .\"\"\""
      ]
    },
    {
      "cell_type": "markdown",
      "metadata": {
        "id": "OD9FO4pahgSD"
      },
      "source": [
        "# **🔎Run the pipeline**"
      ]
    },
    {
      "cell_type": "code",
      "execution_count": 64,
      "metadata": {
        "colab": {
          "base_uri": "https://localhost:8080/",
          "height": 444
        },
        "id": "0C7lo_RodlV3",
        "outputId": "bd2019fa-73d6-46bd-905b-4d34fefd9f31"
      },
      "outputs": [
        {
          "data": {
            "text/html": [
              "\n",
              "  <div id=\"df-778ffb75-e0fb-41a1-a132-f8b41d795206\">\n",
              "    <div class=\"colab-df-container\">\n",
              "      <div>\n",
              "<style scoped>\n",
              "    .dataframe tbody tr th:only-of-type {\n",
              "        vertical-align: middle;\n",
              "    }\n",
              "\n",
              "    .dataframe tbody tr th {\n",
              "        vertical-align: top;\n",
              "    }\n",
              "\n",
              "    .dataframe thead th {\n",
              "        text-align: right;\n",
              "    }\n",
              "</style>\n",
              "<table border=\"1\" class=\"dataframe\">\n",
              "  <thead>\n",
              "    <tr style=\"text-align: right;\">\n",
              "      <th></th>\n",
              "      <th>chunks</th>\n",
              "      <th>entities</th>\n",
              "      <th>begin</th>\n",
              "      <th>end</th>\n",
              "    </tr>\n",
              "  </thead>\n",
              "  <tbody>\n",
              "    <tr>\n",
              "      <th>0</th>\n",
              "      <td>בגלל קוצר</td>\n",
              "      <td>PERS</td>\n",
              "      <td>0</td>\n",
              "      <td>8</td>\n",
              "    </tr>\n",
              "    <tr>\n",
              "      <th>1</th>\n",
              "      <td>דן</td>\n",
              "      <td>PERS</td>\n",
              "      <td>56</td>\n",
              "      <td>57</td>\n",
              "    </tr>\n",
              "    <tr>\n",
              "      <th>2</th>\n",
              "      <td>ליאונרדו דה</td>\n",
              "      <td>PERS</td>\n",
              "      <td>118</td>\n",
              "      <td>128</td>\n",
              "    </tr>\n",
              "    <tr>\n",
              "      <th>3</th>\n",
              "      <td>אלא</td>\n",
              "      <td>DATE</td>\n",
              "      <td>147</td>\n",
              "      <td>149</td>\n",
              "    </tr>\n",
              "    <tr>\n",
              "      <th>4</th>\n",
              "      <td>בנושא</td>\n",
              "      <td>PERS</td>\n",
              "      <td>157</td>\n",
              "      <td>161</td>\n",
              "    </tr>\n",
              "    <tr>\n",
              "      <th>5</th>\n",
              "      <td>חשאי</td>\n",
              "      <td>PERS</td>\n",
              "      <td>202</td>\n",
              "      <td>205</td>\n",
              "    </tr>\n",
              "    <tr>\n",
              "      <th>6</th>\n",
              "      <td>מזה אלף</td>\n",
              "      <td>LOC</td>\n",
              "      <td>220</td>\n",
              "      <td>226</td>\n",
              "    </tr>\n",
              "    <tr>\n",
              "      <th>7</th>\n",
              "      <td>צאצאי</td>\n",
              "      <td>PERS</td>\n",
              "      <td>250</td>\n",
              "      <td>254</td>\n",
              "    </tr>\n",
              "    <tr>\n",
              "      <th>8</th>\n",
              "      <td>ֶרוב ּינגית</td>\n",
              "      <td>PERS</td>\n",
              "      <td>266</td>\n",
              "      <td>276</td>\n",
              "    </tr>\n",
              "    <tr>\n",
              "      <th>9</th>\n",
              "      <td>צרפת</td>\n",
              "      <td>DATE</td>\n",
              "      <td>288</td>\n",
              "      <td>291</td>\n",
              "    </tr>\n",
              "    <tr>\n",
              "      <th>10</th>\n",
              "      <td>צאצאי</td>\n",
              "      <td>PERS</td>\n",
              "      <td>305</td>\n",
              "      <td>309</td>\n",
              "    </tr>\n",
              "    <tr>\n",
              "      <th>11</th>\n",
              "      <td>צרפת</td>\n",
              "      <td>PERS</td>\n",
              "      <td>391</td>\n",
              "      <td>394</td>\n",
              "    </tr>\n",
              "    <tr>\n",
              "      <th>12</th>\n",
              "      <td>צרפת</td>\n",
              "      <td>PERS</td>\n",
              "      <td>419</td>\n",
              "      <td>422</td>\n",
              "    </tr>\n",
              "  </tbody>\n",
              "</table>\n",
              "</div>\n",
              "      <button class=\"colab-df-convert\" onclick=\"convertToInteractive('df-778ffb75-e0fb-41a1-a132-f8b41d795206')\"\n",
              "              title=\"Convert this dataframe to an interactive table.\"\n",
              "              style=\"display:none;\">\n",
              "        \n",
              "  <svg xmlns=\"http://www.w3.org/2000/svg\" height=\"24px\"viewBox=\"0 0 24 24\"\n",
              "       width=\"24px\">\n",
              "    <path d=\"M0 0h24v24H0V0z\" fill=\"none\"/>\n",
              "    <path d=\"M18.56 5.44l.94 2.06.94-2.06 2.06-.94-2.06-.94-.94-2.06-.94 2.06-2.06.94zm-11 1L8.5 8.5l.94-2.06 2.06-.94-2.06-.94L8.5 2.5l-.94 2.06-2.06.94zm10 10l.94 2.06.94-2.06 2.06-.94-2.06-.94-.94-2.06-.94 2.06-2.06.94z\"/><path d=\"M17.41 7.96l-1.37-1.37c-.4-.4-.92-.59-1.43-.59-.52 0-1.04.2-1.43.59L10.3 9.45l-7.72 7.72c-.78.78-.78 2.05 0 2.83L4 21.41c.39.39.9.59 1.41.59.51 0 1.02-.2 1.41-.59l7.78-7.78 2.81-2.81c.8-.78.8-2.07 0-2.86zM5.41 20L4 18.59l7.72-7.72 1.47 1.35L5.41 20z\"/>\n",
              "  </svg>\n",
              "      </button>\n",
              "      \n",
              "  <style>\n",
              "    .colab-df-container {\n",
              "      display:flex;\n",
              "      flex-wrap:wrap;\n",
              "      gap: 12px;\n",
              "    }\n",
              "\n",
              "    .colab-df-convert {\n",
              "      background-color: #E8F0FE;\n",
              "      border: none;\n",
              "      border-radius: 50%;\n",
              "      cursor: pointer;\n",
              "      display: none;\n",
              "      fill: #1967D2;\n",
              "      height: 32px;\n",
              "      padding: 0 0 0 0;\n",
              "      width: 32px;\n",
              "    }\n",
              "\n",
              "    .colab-df-convert:hover {\n",
              "      background-color: #E2EBFA;\n",
              "      box-shadow: 0px 1px 2px rgba(60, 64, 67, 0.3), 0px 1px 3px 1px rgba(60, 64, 67, 0.15);\n",
              "      fill: #174EA6;\n",
              "    }\n",
              "\n",
              "    [theme=dark] .colab-df-convert {\n",
              "      background-color: #3B4455;\n",
              "      fill: #D2E3FC;\n",
              "    }\n",
              "\n",
              "    [theme=dark] .colab-df-convert:hover {\n",
              "      background-color: #434B5C;\n",
              "      box-shadow: 0px 1px 3px 1px rgba(0, 0, 0, 0.15);\n",
              "      filter: drop-shadow(0px 1px 2px rgba(0, 0, 0, 0.3));\n",
              "      fill: #FFFFFF;\n",
              "    }\n",
              "  </style>\n",
              "\n",
              "      <script>\n",
              "        const buttonEl =\n",
              "          document.querySelector('#df-778ffb75-e0fb-41a1-a132-f8b41d795206 button.colab-df-convert');\n",
              "        buttonEl.style.display =\n",
              "          google.colab.kernel.accessAllowed ? 'block' : 'none';\n",
              "\n",
              "        async function convertToInteractive(key) {\n",
              "          const element = document.querySelector('#df-778ffb75-e0fb-41a1-a132-f8b41d795206');\n",
              "          const dataTable =\n",
              "            await google.colab.kernel.invokeFunction('convertToInteractive',\n",
              "                                                     [key], {});\n",
              "          if (!dataTable) return;\n",
              "\n",
              "          const docLinkHtml = 'Like what you see? Visit the ' +\n",
              "            '<a target=\"_blank\" href=https://colab.research.google.com/notebooks/data_table.ipynb>data table notebook</a>'\n",
              "            + ' to learn more about interactive tables.';\n",
              "          element.innerHTML = '';\n",
              "          dataTable['output_type'] = 'display_data';\n",
              "          await google.colab.output.renderOutput(dataTable, element);\n",
              "          const docLink = document.createElement('div');\n",
              "          docLink.innerHTML = docLinkHtml;\n",
              "          element.appendChild(docLink);\n",
              "        }\n",
              "      </script>\n",
              "    </div>\n",
              "  </div>\n",
              "  "
            ],
            "text/plain": [
              "         chunks entities  begin  end\n",
              "0     בגלל קוצר     PERS      0    8\n",
              "1            דן     PERS     56   57\n",
              "2   ליאונרדו דה     PERS    118  128\n",
              "3           אלא     DATE    147  149\n",
              "4         בנושא     PERS    157  161\n",
              "5          חשאי     PERS    202  205\n",
              "6       מזה אלף      LOC    220  226\n",
              "7         צאצאי     PERS    250  254\n",
              "8   ֶרוב ּינגית     PERS    266  276\n",
              "9          צרפת     DATE    288  291\n",
              "10        צאצאי     PERS    305  309\n",
              "11         צרפת     PERS    391  394\n",
              "12         צרפת     PERS    419  422"
            ]
          },
          "execution_count": 64,
          "metadata": {},
          "output_type": "execute_result"
        }
      ],
      "source": [
        "light_result = light_model.fullAnnotate(text)\n",
        "\n",
        "chunks = []\n",
        "entities = []\n",
        "begin =[]\n",
        "end = []\n",
        "\n",
        "for n in light_result[0]['ner_chunk']:\n",
        "        \n",
        "    begin.append(n.begin)\n",
        "    end.append(n.end)\n",
        "    chunks.append(n.result)\n",
        "    entities.append(n.metadata['entity']) \n",
        "    \n",
        "import pandas as pd\n",
        "\n",
        "result_df = pd.DataFrame({'chunks':chunks, 'entities':entities,\n",
        "                                   'begin': begin, 'end': end})\n",
        "result_df"
      ]
    },
    {
      "cell_type": "markdown",
      "metadata": {
        "id": "gcXDJMhqhpdU"
      },
      "source": [
        "# **🔎Visualize results**"
      ]
    },
    {
      "cell_type": "code",
      "execution_count": 65,
      "metadata": {
        "colab": {
          "base_uri": "https://localhost:8080/",
          "height": 275
        },
        "id": "LXPO4Mucelg4",
        "outputId": "fb5f4975-9b49-4212-95f0-908ac1968f37"
      },
      "outputs": [
        {
          "data": {
            "text/html": [
              "\n",
              "<style>\n",
              "    @import url('https://fonts.googleapis.com/css2?family=Montserrat:wght@300;400;500;600;700&display=swap');\n",
              "    @import url('https://fonts.googleapis.com/css2?family=Vistol Regular:wght@300;400;500;600;700&display=swap');\n",
              "    \n",
              "    .spark-nlp-display-scroll-entities {\n",
              "        border: 1px solid #E7EDF0;\n",
              "        border-radius: 3px;\n",
              "        text-align: justify;\n",
              "        \n",
              "    }\n",
              "    .spark-nlp-display-scroll-entities span {  \n",
              "        font-size: 14px;\n",
              "        line-height: 24px;\n",
              "        color: #536B76;\n",
              "        font-family: 'Montserrat', sans-serif !important;\n",
              "    }\n",
              "    \n",
              "    .spark-nlp-display-entity-wrapper{\n",
              "    \n",
              "        display: inline-grid;\n",
              "        text-align: center;\n",
              "        border-radius: 4px;\n",
              "        margin: 0 2px 5px 2px;\n",
              "        padding: 1px\n",
              "    }\n",
              "    .spark-nlp-display-entity-name{\n",
              "        font-size: 14px;\n",
              "        line-height: 24px;\n",
              "        font-family: 'Montserrat', sans-serif !important;\n",
              "        \n",
              "        background: #f1f2f3;\n",
              "        border-width: medium;\n",
              "        text-align: center;\n",
              "        \n",
              "        font-weight: 400;\n",
              "        \n",
              "        border-radius: 5px;\n",
              "        padding: 2px 5px;\n",
              "        display: block;\n",
              "        margin: 3px 2px;\n",
              "    \n",
              "    }\n",
              "    .spark-nlp-display-entity-type{\n",
              "        font-size: 14px;\n",
              "        line-height: 24px;\n",
              "        color: #ffffff;\n",
              "        font-family: 'Montserrat', sans-serif !important;\n",
              "        \n",
              "        text-transform: uppercase;\n",
              "        \n",
              "        font-weight: 500;\n",
              "\n",
              "        display: block;\n",
              "        padding: 3px 5px;\n",
              "    }\n",
              "    \n",
              "    .spark-nlp-display-entity-resolution{\n",
              "        font-size: 14px;\n",
              "        line-height: 24px;\n",
              "        color: #ffffff;\n",
              "        font-family: 'Vistol Regular', sans-serif !important;\n",
              "        \n",
              "        text-transform: uppercase;\n",
              "        \n",
              "        font-weight: 500;\n",
              "\n",
              "        display: block;\n",
              "        padding: 3px 5px;\n",
              "    }\n",
              "    \n",
              "    .spark-nlp-display-others{\n",
              "        font-size: 14px;\n",
              "        line-height: 24px;\n",
              "        font-family: 'Montserrat', sans-serif !important;\n",
              "        \n",
              "        font-weight: 400;\n",
              "    }\n",
              "\n",
              "</style>\n",
              " <span class=\"spark-nlp-display-entity-wrapper\" style=\"background-color: #1F57C6\"><span class=\"spark-nlp-display-entity-name\">בגלל קוצר </span><span class=\"spark-nlp-display-entity-type\">PERS</span></span><span class=\"spark-nlp-display-others\" style=\"background-color: white\"> היריעה לא נתעסק כאן בכל הנושאים המגוונים שבהם </span><span class=\"spark-nlp-display-entity-wrapper\" style=\"background-color: #1F57C6\"><span class=\"spark-nlp-display-entity-name\">דן </span><span class=\"spark-nlp-display-entity-type\">PERS</span></span><span class=\"spark-nlp-display-others\" style=\"background-color: white\"> הספר , כמו למשל דמותה של מרים המגדלית , הדעות האזוטריות של </span><span class=\"spark-nlp-display-entity-wrapper\" style=\"background-color: #1F57C6\"><span class=\"spark-nlp-display-entity-name\">ליאונרדו דה </span><span class=\"spark-nlp-display-entity-type\">PERS</span></span><span class=\"spark-nlp-display-others\" style=\"background-color: white\"> וינצי וכן הלאה , </span><span class=\"spark-nlp-display-entity-wrapper\" style=\"background-color: #a6b1e1\"><span class=\"spark-nlp-display-entity-name\">אלא </span><span class=\"spark-nlp-display-entity-type\">DATE</span></span><span class=\"spark-nlp-display-others\" style=\"background-color: white\"> נתמקד </span><span class=\"spark-nlp-display-entity-wrapper\" style=\"background-color: #1F57C6\"><span class=\"spark-nlp-display-entity-name\">בנושא </span><span class=\"spark-nlp-display-entity-type\">PERS</span></span><span class=\"spark-nlp-display-others\" style=\"background-color: white\"> אחד - באגודת הסתר \" מסדר ציון \" - מסדר </span><span class=\"spark-nlp-display-entity-wrapper\" style=\"background-color: #1F57C6\"><span class=\"spark-nlp-display-entity-name\">חשאי </span><span class=\"spark-nlp-display-entity-type\">PERS</span></span><span class=\"spark-nlp-display-others\" style=\"background-color: white\"> הקיים כביכול </span><span class=\"spark-nlp-display-entity-wrapper\" style=\"background-color: #8782B3\"><span class=\"spark-nlp-display-entity-name\">מזה אלף </span><span class=\"spark-nlp-display-entity-type\">LOC</span></span><span class=\"spark-nlp-display-others\" style=\"background-color: white\"> שנה , ותפקידו להגן על </span><span class=\"spark-nlp-display-entity-wrapper\" style=\"background-color: #1F57C6\"><span class=\"spark-nlp-display-entity-name\">צאצאי </span><span class=\"spark-nlp-display-entity-type\">PERS</span></span><span class=\"spark-nlp-display-others\" style=\"background-color: white\"> השושלת המ </span><span class=\"spark-nlp-display-entity-wrapper\" style=\"background-color: #1F57C6\"><span class=\"spark-nlp-display-entity-name\">ֶרוב ּינגית </span><span class=\"spark-nlp-display-entity-type\">PERS</span></span><span class=\"spark-nlp-display-others\" style=\"background-color: white\"> הקדומה של </span><span class=\"spark-nlp-display-entity-wrapper\" style=\"background-color: #a6b1e1\"><span class=\"spark-nlp-display-entity-name\">צרפת </span><span class=\"spark-nlp-display-entity-type\">DATE</span></span><span class=\"spark-nlp-display-others\" style=\"background-color: white\"> , שהם למעשה </span><span class=\"spark-nlp-display-entity-wrapper\" style=\"background-color: #1F57C6\"><span class=\"spark-nlp-display-entity-name\">צאצאי </span><span class=\"spark-nlp-display-entity-type\">PERS</span></span><span class=\"spark-nlp-display-others\" style=\"background-color: white\"> ישוע ומרים המגדלית , ולפיכך הם , לדעת חברי המסדר , השושלת המלכותית הלגיטימית של </span><span class=\"spark-nlp-display-entity-wrapper\" style=\"background-color: #1F57C6\"><span class=\"spark-nlp-display-entity-name\">צרפת </span><span class=\"spark-nlp-display-entity-type\">PERS</span></span><span class=\"spark-nlp-display-others\" style=\"background-color: white\"> , מה שאומר כמובן שמלכי </span><span class=\"spark-nlp-display-entity-wrapper\" style=\"background-color: #1F57C6\"><span class=\"spark-nlp-display-entity-name\">צרפת </span><span class=\"spark-nlp-display-entity-type\">PERS</span></span><span class=\"spark-nlp-display-others\" style=\"background-color: white\"> הם ממוצא יהודי .</span></div>"
            ],
            "text/plain": [
              "<IPython.core.display.HTML object>"
            ]
          },
          "metadata": {},
          "output_type": "display_data"
        }
      ],
      "source": [
        "from sparknlp_display import NerVisualizer\n",
        "\n",
        "NerVisualizer().display(\n",
        "    result = light_result[0],\n",
        "    label_col = 'ner_chunk',\n",
        "    document_col = 'document'\n",
        ")"
      ]
    }
  ],
  "metadata": {
    "colab": {
      "collapsed_sections": [],
      "name": "NER_HE.ipynb",
      "provenance": []
    },
    "kernelspec": {
      "display_name": "Python 3",
      "name": "python3"
    },
    "language_info": {
      "name": "python"
    }
  },
  "nbformat": 4,
  "nbformat_minor": 0
}

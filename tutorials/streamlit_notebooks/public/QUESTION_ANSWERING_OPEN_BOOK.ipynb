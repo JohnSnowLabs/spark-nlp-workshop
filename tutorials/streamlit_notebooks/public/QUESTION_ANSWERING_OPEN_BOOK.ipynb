{
  "nbformat": 4,
  "nbformat_minor": 0,
  "metadata": {
    "colab": {
      "name": "QUESTION_ANSWERING_OPEN_BOOK.ipynb",
      "provenance": [],
      "collapsed_sections": []
    },
    "kernelspec": {
      "name": "python3",
      "display_name": "Python 3"
    },
    "language_info": {
      "name": "python"
    }
  },
  "cells": [
    {
      "cell_type": "markdown",
      "source": [
        "![JohnSnowLabs](https://nlp.johnsnowlabs.com/assets/images/logo.png)"
      ],
      "metadata": {
        "id": "pFTBpKwr_YA2"
      }
    },
    {
      "cell_type": "markdown",
      "source": [
        "\n",
        "\n",
        "\n",
        "[![Open In Colab](https://colab.research.google.com/assets/colab-badge.svg)](https://github.com/JohnSnowLabs/spark-nlp-workshop/tree/master/tutorials/streamlit_notebooks/public/QUESTION_ANSWERING_OPEN_BOOK.ipynb)"
      ],
      "metadata": {
        "id": "T-SuFHn5_dG0"
      }
    },
    {
      "cell_type": "markdown",
      "source": [
        "# **QUESTION ANSWERING (Open Book Questions)**\n",
        "\n",
        "\n"
      ],
      "metadata": {
        "id": "DejMA3ZvDNxS"
      }
    },
    {
      "cell_type": "markdown",
      "source": [
        "# **Colab Setup and Start Spark Session**"
      ],
      "metadata": {
        "id": "eA8FrEs47qbG"
      }
    },
    {
      "cell_type": "code",
      "execution_count": null,
      "metadata": {
        "id": "1UMZcxr97Ij0"
      },
      "outputs": [],
      "source": [
        "!pip install -q pyspark==3.3.0 spark-nlp==4.0.2"
      ]
    },
    {
      "cell_type": "code",
      "source": [
        "import sparknlp\n",
        "import pandas as pd\n",
        "\n",
        "spark = sparknlp.start()\n",
        "\n",
        "\n",
        "from sparknlp.base import *\n",
        "from sparknlp.annotator import *\n",
        "from pyspark.ml import Pipeline\n",
        "from pyspark.sql.types import StringType, IntegerType\n",
        "\n",
        "\n",
        "\n",
        "print(\"Spark NLP version\", sparknlp.version())\n",
        "print(\"Apache Spark version:\", spark.version)\n",
        "\n",
        "spark \n"
      ],
      "metadata": {
        "colab": {
          "base_uri": "https://localhost:8080/",
          "height": 244
        },
        "id": "LEW2ZjZj7T1Q",
        "outputId": "c4d8e737-2ea3-4df1-dac5-497050862d55"
      },
      "execution_count": 2,
      "outputs": [
        {
          "output_type": "stream",
          "name": "stdout",
          "text": [
            "Spark NLP version 4.0.2\n",
            "Apache Spark version: 3.3.0\n"
          ]
        },
        {
          "output_type": "execute_result",
          "data": {
            "text/plain": [
              "<pyspark.sql.session.SparkSession at 0x7fb15a3a4110>"
            ],
            "text/html": [
              "\n",
              "            <div>\n",
              "                <p><b>SparkSession - in-memory</b></p>\n",
              "                \n",
              "        <div>\n",
              "            <p><b>SparkContext</b></p>\n",
              "\n",
              "            <p><a href=\"http://7bea0251cab7:4040\">Spark UI</a></p>\n",
              "\n",
              "            <dl>\n",
              "              <dt>Version</dt>\n",
              "                <dd><code>v3.3.0</code></dd>\n",
              "              <dt>Master</dt>\n",
              "                <dd><code>local[*]</code></dd>\n",
              "              <dt>AppName</dt>\n",
              "                <dd><code>Spark NLP</code></dd>\n",
              "            </dl>\n",
              "        </div>\n",
              "        \n",
              "            </div>\n",
              "        "
            ]
          },
          "metadata": {},
          "execution_count": 2
        }
      ]
    },
    {
      "cell_type": "markdown",
      "source": [
        "# **Question Answering with `T5_small` and `T5_base` models**"
      ],
      "metadata": {
        "id": "KFfyIywp9cOg"
      }
    },
    {
      "cell_type": "code",
      "source": [
        "model_list = ['t5_base', 't5_small']"
      ],
      "metadata": {
        "id": "SunNYkw3-Ic8"
      },
      "execution_count": 3,
      "outputs": []
    },
    {
      "cell_type": "code",
      "source": [
        "question_context_list = [\n",
        "    [\"\"\"What does increased oxygen concentrations in the patient’s lungs displace?\"\"\" \"\"\"context : Hyperbaric (high-pressure) medicine uses special oxygen chambers to increase the partial pressure of O 2 around the patient and, when needed, the medical staff. Carbon monoxide poisoning, gas gangrene, and decompression sickness (the ’bends’) are sometimes treated using these devices. Increased O 2 concentration in the lungs helps to displace carbon monoxide from the heme group of hemoglobin. Oxygen gas is poisonous to the anaerobic bacteria that cause gas gangrene, so increasing its partial pressure helps kill them. Decompression sickness occurs in divers who decompress too quickly after a dive, resulting in bubbles of inert gas, mostly nitrogen and helium, forming in their blood. Increasing the pressure of O 2 as soon as possible is part of the treatment.\"\"\"],\n",
        "    [\"\"\"What category of game is Legend of Zelda: Twilight Princess?\"\"\" \"\"\"context: The Legend of Zelda: Twilight Princess (Japanese: ゼルダの伝説 トワイライトプリンセス, Hepburn: Zeruda no Densetsu: Towairaito Purinsesu?) is an action-adventure game developed and published by Nintendo for the GameCube and Wii home video game consoles. It is the thirteenth installment in the The Legend of Zelda series. Originally planned for release on the GameCube in November 2005, Twilight Princess was delayed by Nintendo to allow its developers to refine the game, add more content, and port it to the Wii. The Wii version was released alongside the console in North America in November 2006, and in Japan, Europe, and Australia the following month. The GameCube version was released worldwide in December 2006.\"\"\"],\n",
        "    [\"\"\"When did Beyonce start becoming popular?\"\"\" \"\"\"context: Beyoncé Giselle Knowles-Carter (/biːˈjɒnseɪ/ bee-YON-say) (born September 4, 1981) is an American singer, songwriter, record producer and actress. Born and raised in Houston, Texas, she performed in various singing and dancing competitions as a child, and rose to fame in the late 1990s as lead singer of R&B girl-group Destiny's Child. Managed by her father, Mathew Knowles, the group became one of the world's best-selling girl groups of all time. Their hiatus saw the release of Beyoncé's debut album, Dangerously in Love (2003), which established her as a solo artist worldwide, earned five Grammy Awards and featured the Billboard Hot 100 number-one singles \"Crazy in Love\" and \"Baby Boy\".\"\"\"],\n",
        "    [\"\"\"For what instrument did Frédéric write primarily for?\"\"\" \"\"\"context: Frédéric François Chopin (/ˈʃoʊpæn/; French pronunciation: ​[fʁe.de.ʁik fʁɑ̃.swa ʃɔ.pɛ̃]; 22 February or 1 March 1810 – 17 October 1849), born Fryderyk Franciszek Chopin,[n 1] was a Polish and French (by citizenship and birth of father) composer and a virtuoso pianist of the Romantic era, who wrote primarily for the solo piano. He gained and has maintained renown worldwide as one of the leading musicians of his era, whose \"poetic genius was based on a professional technique that was without equal in his generation.\" Chopin was born in what was then the Duchy of Warsaw, and grew up in Warsaw, which after 1815 became part of Congress Poland. A child prodigy, he completed his musical education and composed his earlier works in Warsaw before leaving Poland at the age of 20, less than a month before the outbreak of the November 1830 Uprising.\"\"\"],\n",
        "    [\"\"\"The most populated city in the United States is which city?\"\"\" \"\"\"context: New York—often called New York City or the City of New York to distinguish it from the State of New York, of which it is a part—is the most populous city in the United States and the center of the New York metropolitan area, the premier gateway for legal immigration to the United States and one of the most populous urban agglomerations in the world. A global power city, New York exerts a significant impact upon commerce, finance, media, art, fashion, research, technology, education, and entertainment, its fast pace defining the term New York minute. Home to the headquarters of the United Nations, New York is an important center for international diplomacy and has been described as the cultural and financial capital of the world.\"\"\"],\n",
        "]"
      ],
      "metadata": {
        "id": "cKYIUAJG-z5F"
      },
      "execution_count": 42,
      "outputs": []
    },
    {
      "cell_type": "code",
      "source": [
        "for i in model_list:\n",
        "  document_assembler = DocumentAssembler()\\\n",
        "      .setInputCol(\"text\")\\\n",
        "      .setOutputCol(\"documents\")\n",
        "\n",
        "  t5 = T5Transformer() \\\n",
        "      .pretrained(\"t5_base\") \\\n",
        "      .setTask(\"question:\")\\\n",
        "      .setMaxOutputLength(200)\\\n",
        "      .setInputCols([\"documents\"]) \\\n",
        "      .setOutputCol(\"answers\")\n",
        "\n",
        "  t5_pp = Pipeline(stages=[\n",
        "      document_assembler, \n",
        "      t5])\n",
        "\n",
        "  df = spark.createDataFrame(question_context_list).toDF('text')\n",
        "  model = t5_pp.fit(df).transform(df)\n",
        "  print(f\"MODEL NAME : {i}\")\n",
        "  model.select(['text','answers.result']).show(truncate=50)\n"
      ],
      "metadata": {
        "colab": {
          "base_uri": "https://localhost:8080/"
        },
        "id": "xXQ9Wpw17eoY",
        "outputId": "7feaa7d8-a998-46d6-c2a9-1500cbaa0824"
      },
      "execution_count": 46,
      "outputs": [
        {
          "output_type": "stream",
          "name": "stdout",
          "text": [
            "t5_base download started this may take some time.\n",
            "Approximate size to download 451.8 MB\n",
            "[OK!]\n",
            "MODEL NAME : t5_base\n",
            "+--------------------------------------------------+------------------+\n",
            "|                                              text|            result|\n",
            "+--------------------------------------------------+------------------+\n",
            "|What does increased oxygen concentrations in th...| [carbon monoxide]|\n",
            "|What category of game is Legend of Zelda: Twili...|[action-adventure]|\n",
            "|When did Beyonce start becoming popular?context...|           [False]|\n",
            "|For what instrument did Frédéric write primaril...|      [solo piano]|\n",
            "|The most populated city in the United States is...|        [New York]|\n",
            "+--------------------------------------------------+------------------+\n",
            "\n",
            "t5_base download started this may take some time.\n",
            "Approximate size to download 451.8 MB\n",
            "[OK!]\n",
            "MODEL NAME : t5_small\n",
            "+--------------------------------------------------+------------------+\n",
            "|                                              text|            result|\n",
            "+--------------------------------------------------+------------------+\n",
            "|What does increased oxygen concentrations in th...| [carbon monoxide]|\n",
            "|What category of game is Legend of Zelda: Twili...|[action-adventure]|\n",
            "|When did Beyonce start becoming popular?context...|           [False]|\n",
            "|For what instrument did Frédéric write primaril...|      [solo piano]|\n",
            "|The most populated city in the United States is...|        [New York]|\n",
            "+--------------------------------------------------+------------------+\n",
            "\n"
          ]
        }
      ]
    },
    {
      "cell_type": "markdown",
      "source": [
        "## **`bert_qa_callmenicky_finetuned_squa` models**"
      ],
      "metadata": {
        "id": "u-K4gKFDHLpi"
      }
    },
    {
      "cell_type": "code",
      "source": [
        "sample_texts = [\n",
        "    [\"When was the first nutrition experiment performed?\", \"\"\"Sometimes overlooked during his life, James Lind, a physician in the British navy, performed the first scientific nutrition experiment in 1747. Lind discovered that lime juice saved sailors that had been at sea for years from scurvy, a deadly and painful bleeding disorder. Between 1500 and 1800, an estimated two million sailors had died of scurvy. The discovery was ignored for forty years, after which British sailors became known as \"limeys.\" The essential vitamin C within citrus fruits would not be identified by scientists until 1932.\"\"\"],\n",
        "    [\"What is regarded as the greatest literary work in Old English?\", \"\"\"The first example is taken from the opening lines of the folk-epic Beowulf, a poem of some 3,000 lines and the single greatest work of Old English. This passage describes how Hrothgar's legendary ancestor Scyld was found as a baby, washed ashore, and adopted by a noble family. The translation is literal and represents the original poetic word order. As such, it is not typical of Old English prose. The modern cognates of original words have been used whenever practical to give a close approximation of the feel of the original poem.\"\"\"],\n",
        "    [\"What is the social style of hunter-gather societies?\", \"\"\"Hunter-gatherers tend to have an egalitarian social ethos, although settled hunter-gatherers (for example, those inhabiting the Northwest Coast of North America) are an exception to this rule. Nearly all African hunter-gatherers are egalitarian, with women roughly as influential and powerful as men.\"\"\"],\n",
        "    [\"Through what part of the body are nutrients transported to feed cells?\", \"\"\"Animal tissue consists of elements and compounds ingested, digested, absorbed, and circulated through the bloodstream to feed the cells of the body. Except in the unborn fetus, the digestive system is the first system involved[vague]. Digestive juices break chemical bonds in ingested molecules, and modify their conformations and energy states. Though some molecules are absorbed into the bloodstream unchanged, digestive processes release them from the matrix of foods. Unabsorbed matter, along with some waste products of metabolism, is eliminated from the body in the feces.\"\"\"],\n",
        "    [\"What type of flight decks are aircraft carriers equipped with?\", \"\"\"An aircraft carrier is a warship that serves as a seagoing airbase, equipped with a full-length flight deck and facilities for carrying, arming, deploying, and recovering aircraft.\"\"\"]    \n",
        "]\n",
        "\n",
        "\n",
        "df = spark.createDataFrame(sample_texts).toDF(\"question\", \"context\")\n"
      ],
      "metadata": {
        "id": "qwjcfbXIHWM7"
      },
      "execution_count": 22,
      "outputs": []
    },
    {
      "cell_type": "code",
      "source": [
        "documentAssembler = MultiDocumentAssembler() \\\n",
        "        .setInputCols([\"question\", \"context\"]) \\\n",
        "        .setOutputCols([\"document_question\", \"document_context\"])\n",
        "\n",
        "\n",
        "spanClassifier = BertForQuestionAnswering.pretrained(\"bert_qa_callmenicky_finetuned_squad\",\"en\") \\\n",
        "    .setInputCols([\"document_question\", \"document_context\"]) \\\n",
        "    .setOutputCol(\"answer\")\\\n",
        "    .setMaxSentenceLength(50)\\\n",
        "    .setCaseSensitive(False)\n",
        "\n",
        "pipeline = Pipeline(stages=[documentAssembler, \n",
        "                            spanClassifier])\n",
        "\n",
        "pipeline_model = pipeline.fit(spark.createDataFrame([['']]).toDF('text'))"
      ],
      "metadata": {
        "colab": {
          "base_uri": "https://localhost:8080/"
        },
        "id": "E2O6ROAICqmj",
        "outputId": "7aa219f2-6f9f-4aa1-edcb-53c04f59788d"
      },
      "execution_count": 4,
      "outputs": [
        {
          "output_type": "stream",
          "name": "stdout",
          "text": [
            "bert_qa_callmenicky_finetuned_squad download started this may take some time.\n",
            "Approximate size to download 385.6 MB\n",
            "[OK!]\n"
          ]
        }
      ]
    },
    {
      "cell_type": "code",
      "source": [
        "model = pipeline.fit(df).transform(df)"
      ],
      "metadata": {
        "id": "jwz3xImbHVqo"
      },
      "execution_count": 23,
      "outputs": []
    },
    {
      "cell_type": "code",
      "source": [
        "model.select(\"question\", \"answer.result\").show(truncate=False)\n"
      ],
      "metadata": {
        "colab": {
          "base_uri": "https://localhost:8080/"
        },
        "id": "sVEu8NQWIQt1",
        "outputId": "4541ab4a-0c68-46a0-bbbf-d7e135470d0a"
      },
      "execution_count": 24,
      "outputs": [
        {
          "output_type": "stream",
          "name": "stdout",
          "text": [
            "+----------------------------------------------------------------------+---------------+\n",
            "|question                                                              |result         |\n",
            "+----------------------------------------------------------------------+---------------+\n",
            "|When was the first nutrition experiment performed?                    |[1747]         |\n",
            "|What is regarded as the greatest literary work in Old English?        |[Beowulf]      |\n",
            "|What is the social style of hunter-gather societies?                  |[egalitarian]  |\n",
            "|Through what part of the body are nutrients transported to feed cells?|[bloodstream]  |\n",
            "|What type of flight decks are aircraft carriers equipped with?        |[full - length]|\n",
            "+----------------------------------------------------------------------+---------------+\n",
            "\n"
          ]
        }
      ]
    },
    {
      "cell_type": "markdown",
      "source": [
        "# **`roberta_qa_CV_Merge_DS`model**"
      ],
      "metadata": {
        "id": "YRrBKouFBk7r"
      }
    },
    {
      "cell_type": "code",
      "source": [
        "spanClassifier = RoBertaForQuestionAnswering.pretrained(\"roberta_qa_CV_Merge_DS\", \"en\") \\\n",
        "    .setInputCols([\"document_question\", \"document_context\"]) \\\n",
        "    .setOutputCol(\"answer\") \\\n",
        "    .setCaseSensitive(True)\n",
        "\n",
        "pipeline = Pipeline().setStages([\n",
        "    documentAssembler,\n",
        "    spanClassifier\n",
        "    ])\n",
        "\n",
        "pipeline_model = pipeline.fit(spark.createDataFrame([[\"\"]]).toDF('text'))"
      ],
      "metadata": {
        "colab": {
          "base_uri": "https://localhost:8080/"
        },
        "id": "VEuylUYyBptW",
        "outputId": "b8767ca7-1e58-4817-a929-c48dca529161"
      },
      "execution_count": 30,
      "outputs": [
        {
          "output_type": "stream",
          "name": "stdout",
          "text": [
            "roberta_qa_CV_Merge_DS download started this may take some time.\n",
            "Approximate size to download 442.6 MB\n",
            "[OK!]\n"
          ]
        }
      ]
    },
    {
      "cell_type": "code",
      "source": [
        "sample_texts = [\n",
        "    [\"When was the first nutrition experiment performed?\", \"\"\"Sometimes overlooked during his life, James Lind, a physician in the British navy, performed the first scientific nutrition experiment in 1747. Lind discovered that lime juice saved sailors that had been at sea for years from scurvy, a deadly and painful bleeding disorder. Between 1500 and 1800, an estimated two million sailors had died of scurvy. The discovery was ignored for forty years, after which British sailors became known as \"limeys.\" The essential vitamin C within citrus fruits would not be identified by scientists until 1932.\"\"\"],\n",
        "    [\"What is regarded as the greatest literary work in Old English?\", \"\"\"The first example is taken from the opening lines of the folk-epic Beowulf, a poem of some 3,000 lines and the single greatest work of Old English. This passage describes how Hrothgar's legendary ancestor Scyld was found as a baby, washed ashore, and adopted by a noble family. The translation is literal and represents the original poetic word order. As such, it is not typical of Old English prose. The modern cognates of original words have been used whenever practical to give a close approximation of the feel of the original poem.\"\"\"],\n",
        "    [\"What is the social style of hunter-gather societies?\", \"\"\"Hunter-gatherers tend to have an egalitarian social ethos, although settled hunter-gatherers (for example, those inhabiting the Northwest Coast of North America) are an exception to this rule. Nearly all African hunter-gatherers are egalitarian, with women roughly as influential and powerful as men.\"\"\"],\n",
        "    [\"Through what part of the body are nutrients transported to feed cells?\", \"\"\"Animal tissue consists of elements and compounds ingested, digested, absorbed, and circulated through the bloodstream to feed the cells of the body. Except in the unborn fetus, the digestive system is the first system involved[vague]. Digestive juices break chemical bonds in ingested molecules, and modify their conformations and energy states. Though some molecules are absorbed into the bloodstream unchanged, digestive processes release them from the matrix of foods. Unabsorbed matter, along with some waste products of metabolism, is eliminated from the body in the feces.\"\"\"],\n",
        "    [\"What type of flight decks are aircraft carriers equipped with?\", \"\"\"An aircraft carrier is a warship that serves as a seagoing airbase, equipped with a full-length flight deck and facilities for carrying, arming, deploying, and recovering aircraft.\"\"\"]    \n",
        "]"
      ],
      "metadata": {
        "id": "BKNmLiYSBpnI"
      },
      "execution_count": 46,
      "outputs": []
    },
    {
      "cell_type": "code",
      "source": [
        "df = spark.createDataFrame(sample_texts).toDF(\"question\", \"context\")\n",
        "model = pipeline.fit(df).transform(df)"
      ],
      "metadata": {
        "id": "nB3ilGSGBpP_"
      },
      "execution_count": 47,
      "outputs": []
    },
    {
      "cell_type": "code",
      "source": [
        "model.select(\"question\", \"answer.result\").show(truncate=False)"
      ],
      "metadata": {
        "colab": {
          "base_uri": "https://localhost:8080/"
        },
        "id": "svwFrSZ7B_zy",
        "outputId": "b981b4cb-0a38-4d8e-e983-a77095dca4c5"
      },
      "execution_count": 48,
      "outputs": [
        {
          "output_type": "stream",
          "name": "stdout",
          "text": [
            "+----------------------------------------------------------------------+------------------+\n",
            "|question                                                              |result            |\n",
            "+----------------------------------------------------------------------+------------------+\n",
            "|When was the first nutrition experiment performed?                    |[1747]            |\n",
            "|What is regarded as the greatest literary work in Old English?        |[folk-epicBeowulf]|\n",
            "|What is the social style of hunter-gather societies?                  |[egalitarian]     |\n",
            "|Through what part of the body are nutrients transported to feed cells?|[]                |\n",
            "|What type of flight decks are aircraft carriers equipped with?        |[full-length]     |\n",
            "+----------------------------------------------------------------------+------------------+\n",
            "\n"
          ]
        }
      ]
    },
    {
      "cell_type": "markdown",
      "source": [
        "# **`alert_qa_xxlarge_tweetqa` model**"
      ],
      "metadata": {
        "id": "yOIfP8Z9BI-a"
      }
    },
    {
      "cell_type": "code",
      "source": [
        "spanClassifier = AlbertForQuestionAnswering.pretrained(\"albert_qa_xxlarge_tweetqa\",\"en\") \\\n",
        "  .setInputCols([\"document_question\", \"document_context\"]) \\\n",
        "  .setOutputCol(\"answer\")\n",
        "\n",
        "pipeline = Pipeline(stages=[\n",
        "    documentAssembler, \n",
        "    spanClassifier\n",
        "    ])\n",
        "\n",
        "pipeline_model = pipeline.fit(spark.createDataFrame([['']]).toDF('text'))"
      ],
      "metadata": {
        "colab": {
          "base_uri": "https://localhost:8080/"
        },
        "id": "TNln3Gzi95gz",
        "outputId": "e398e71a-3d4b-496d-c2f3-09398bfdafec"
      },
      "execution_count": 35,
      "outputs": [
        {
          "output_type": "stream",
          "name": "stdout",
          "text": [
            "albert_qa_xxlarge_tweetqa download started this may take some time.\n",
            "Approximate size to download 735.8 MB\n",
            "[OK!]\n"
          ]
        }
      ]
    },
    {
      "cell_type": "code",
      "source": [
        "sample_texts = [\n",
        "    [\"When was the first nutrition experiment performed?\", \"\"\"Sometimes overlooked during his life, James Lind, a physician in the British navy, performed the first scientific nutrition experiment in 1747. Lind discovered that lime juice saved sailors that had been at sea for years from scurvy, a deadly and painful bleeding disorder. Between 1500 and 1800, an estimated two million sailors had died of scurvy. The discovery was ignored for forty years, after which British sailors became known as \"limeys.\" The essential vitamin C within citrus fruits would not be identified by scientists until 1932.\"\"\"],\n",
        "    [\"What is the social style of hunter-gather societies?\", \"\"\"Hunter-gatherers tend to have an egalitarian social ethos, although settled hunter-gatherers (for example, those inhabiting the Northwest Coast of North America) are an exception to this rule. Nearly all African hunter-gatherers are egalitarian, with women roughly as influential and powerful as men.\"\"\"],\n",
        "    [\"Who is responsible for defence and foreign affairs?\", \"\"\"Defence and foreign affairs are carried out by the United Kingdom, which also retains responsibility to ensure good government. It must approve any changes to the Constitution of Bermuda.\"\"\"],\n",
        "    [\"What is my name?\", \"My name is Clara and I live in Berkeley.\"],\n",
        "    [\"What type of flight decks are aircraft carriers equipped with?\", \"\"\"An aircraft carrier is a warship that serves as a seagoing airbase, equipped with a full-length flight deck and facilities for carrying, arming, deploying, and recovering aircraft.\"\"\"],\n",
        "]"
      ],
      "metadata": {
        "id": "ZlRYGATCBbdZ"
      },
      "execution_count": 63,
      "outputs": []
    },
    {
      "cell_type": "code",
      "source": [
        "df = spark.createDataFrame(sample_texts).toDF(\"question\", \"context\")\n",
        "\n",
        "model = pipeline.fit(df).transform(df)"
      ],
      "metadata": {
        "id": "Q1kSzoPqBe7w"
      },
      "execution_count": 64,
      "outputs": []
    },
    {
      "cell_type": "code",
      "source": [
        "model.select(\"question\", \"answer.result\").show(truncate=False)"
      ],
      "metadata": {
        "colab": {
          "base_uri": "https://localhost:8080/"
        },
        "id": "A1DaA7r7BgfT",
        "outputId": "abc0f102-5d21-4177-c476-90bc4b772b4d"
      },
      "execution_count": 65,
      "outputs": [
        {
          "output_type": "stream",
          "name": "stdout",
          "text": [
            "+--------------------------------------------------------------+------------------+\n",
            "|question                                                      |result            |\n",
            "+--------------------------------------------------------------+------------------+\n",
            "|When was the first nutrition experiment performed?            |[1747]            |\n",
            "|What is the social style of hunter-gather societies?          |[egalitarian]     |\n",
            "|Who is responsible for defence and foreign affairs?           |[theUnitedKingdom]|\n",
            "|What is my name?                                              |[Clara]           |\n",
            "|What type of flight decks are aircraft carriers equipped with?|[full-length]     |\n",
            "+--------------------------------------------------------------+------------------+\n",
            "\n"
          ]
        }
      ]
    }
  ]
}
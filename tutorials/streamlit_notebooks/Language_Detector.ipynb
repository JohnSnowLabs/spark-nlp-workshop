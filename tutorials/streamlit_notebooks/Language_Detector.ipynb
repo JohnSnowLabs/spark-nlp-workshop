{
  "nbformat": 4,
  "nbformat_minor": 0,
  "metadata": {
    "colab": {
      "name": "Language_Detector.ipynb",
      "provenance": [],
      "collapsed_sections": []
    },
    "kernelspec": {
      "name": "python3",
      "display_name": "Python 3"
    }
  },
  "cells": [
    {
      "cell_type": "markdown",
      "metadata": {
        "id": "v6sVWKcuYDQ_"
      },
      "source": [
        "\n",
        "\n",
        "![JohnSnowLabs](https://nlp.johnsnowlabs.com/assets/images/logo.png)\n",
        "\n",
        "[![Open In Colab](https://colab.research.google.com/assets/colab-badge.svg)](https://githubtocolab.com/JohnSnowLabs/spark-nlp-workshop/blob/master/tutorials/streamlit_notebooks/Language_Detector.ipynb)\n",
        "\n",
        "\n"
      ]
    },
    {
      "cell_type": "markdown",
      "metadata": {
        "id": "ceR-yy7wYERR"
      },
      "source": [
        "# **Identify Language of a text**"
      ]
    },
    {
      "cell_type": "markdown",
      "metadata": {
        "id": "_35cnWIKYNWT"
      },
      "source": [
        "## 1. Colab Setup"
      ]
    },
    {
      "cell_type": "code",
      "metadata": {
        "id": "fTP1k9aXtVJi",
        "colab": {
          "base_uri": "https://localhost:8080/"
        },
        "outputId": "0c93fa55-9acb-40de-a54e-24449e7698c0"
      },
      "source": [
        "!wget http://setup.johnsnowlabs.com/colab.sh -O - | bash\n",
        "# !bash colab.sh\n",
        "# -p is for pyspark\n",
        "# -s is for spark-nlp\n",
        "# !bash colab.sh -p 3.1.1 -s 3.0.1\n",
        "# by default they are set to the latest"
      ],
      "execution_count": 1,
      "outputs": [
        {
          "output_type": "stream",
          "text": [
            "openjdk version \"11.0.10\" 2021-01-19\n",
            "OpenJDK Runtime Environment (build 11.0.10+9-Ubuntu-0ubuntu1.18.04)\n",
            "OpenJDK 64-Bit Server VM (build 11.0.10+9-Ubuntu-0ubuntu1.18.04, mixed mode, sharing)\n",
            "setup Colab for PySpark 2.4.4 and Spark NLP 2.7.5\n",
            "\u001b[K     |████████████████████████████████| 215.7MB 61kB/s \n",
            "\u001b[K     |████████████████████████████████| 143kB 30.4MB/s \n",
            "\u001b[K     |████████████████████████████████| 204kB 30.8MB/s \n",
            "\u001b[?25h  Building wheel for pyspark (setup.py) ... \u001b[?25l\u001b[?25hdone\n"
          ],
          "name": "stdout"
        }
      ]
    },
    {
      "cell_type": "code",
      "metadata": {
        "id": "HIEkoVYqtWMt"
      },
      "source": [
        "import pandas as pd\n",
        "import numpy as np\n",
        "import json\n",
        "from pyspark.ml import Pipeline\n",
        "from pyspark.sql import SparkSession\n",
        "import pyspark.sql.functions as F\n",
        "from sparknlp.annotator import *\n",
        "from sparknlp.base import *\n",
        "import sparknlp\n",
        "from sparknlp.pretrained import PretrainedPipeline"
      ],
      "execution_count": 2,
      "outputs": []
    },
    {
      "cell_type": "markdown",
      "metadata": {
        "id": "ECkqpumlYQMy"
      },
      "source": [
        "## 2. Setup Spark Session"
      ]
    },
    {
      "cell_type": "code",
      "metadata": {
        "id": "st0e3SoftWPl"
      },
      "source": [
        "spark = sparknlp.start()"
      ],
      "execution_count": 3,
      "outputs": []
    },
    {
      "cell_type": "markdown",
      "metadata": {
        "id": "xAtVwsg9YS5S"
      },
      "source": [
        "## 3. Select the DL model and re-run cells below"
      ]
    },
    {
      "cell_type": "code",
      "metadata": {
        "id": "OgfKzIrCtbek"
      },
      "source": [
        "# model_name = 'ld_wiki_cnn_231'\n",
        "model_name = 'ld_wiki_tatoeba_cnn_375'"
      ],
      "execution_count": 20,
      "outputs": []
    },
    {
      "cell_type": "markdown",
      "metadata": {
        "id": "S5Ri-wprYXjY"
      },
      "source": [
        "## 4. Some sample examples"
      ]
    },
    {
      "cell_type": "code",
      "metadata": {
        "id": "gIdstKR2tl9Z"
      },
      "source": [
        "text_list=[\n",
        "             #English\n",
        "\"\"\"Mona Lisa is a 16th century oil painting created by Leonardo. It is held at the Louvre in Paris.\"\"\",\n",
        "           #French\n",
        "\"\"\"La Joconde est une peinture à l'huile du XVIe siècle créée par Léonard. Il se tient au Louvre à Paris.\"\"\",\n",
        "           #Bulgarian\n",
        "\"\"\"Джефри Еверест Хинтън е британски канадски когнитивен психолог и компютърен учен, най-известен с работата си върху изкуствени невронни мрежи. От 2013 г. той прекарва времето си в работа за Google и университета в Торонто. През 2017 г. е съосновател и става главен научен съветник на Vector Institute of Toronto.\"\"\",\n",
        "#Czech\n",
        "\"\"\"Mona Lisa je olejomalba ze 16. století, kterou vytvořil Leonardo. Koná se v Louvru v Paříži.\"\"\",\n",
        "#German\n",
        "\"\"\"Titanic ist ein 1997 in den USA veröffentlichter epischer Roman und ein katastrophaler Film, der von James Cameron inszeniert, geschrieben, co-produziert und mitherausgegeben wurde. Es deckt sowohl historische als auch fiktive Aspekte ab und basiert auf Berichten über den Untergang der RMS Titanic und der Stars Leonard DiCaprio und Kate Winslet als Mitglieder verschiedener sozialer Klassen, die sich während der Schiffsreise während ihrer unglücklichen ersten Reise verlieben.\"\"\",\n",
        "#Greek\n",
        "\"\"\"Το Titanic είναι ένα αμερικανικό επικό μυθιστόρημα του 1997 και μια καταστροφική ταινία σε σκηνοθεσία, συγγραφή, συμπαραγωγή και συν-επεξεργασία από τον James Cameron. Καλύπτει τόσο ιστορικές όσο και φανταστικές πτυχές και βασίζεται σε αναφορές για τη βύθιση του Τιτανικού RMS και πρωταγωνιστούν οι Leonard DiCaprio και Kate Winslet ως μέλη διαφόρων κοινωνικών τάξεων που ερωτεύονται κατά τη διάρκεια του ταξιδιού του πλοίου κατά τη διάρκεια του πρώτου τους ατυχούς ταξιδιού.\"\"\",\n",
        "#Spanish\n",
        "\"\"\"Geoffrey Everest Hinton es un psicólogo cognitivo y científico informático británico canadiense, mejor conocido por su trabajo en redes neuronales artificiales. Desde 2013 ha pasado su tiempo trabajando para Google y la Universidad de Toronto. En 2017 fue cofundador y se convirtió en Asesor Científico Jefe del Instituto Vector de Toronto.\"\"\",\n",
        "#Finnish\n",
        "\"\"\"Mona Lisa on 1500-luvun öljymaalaus, jonka on luonut Leonardo. Se pidetään Pariisin Louvressa.\"\"\",\n",
        "#Hungarian\n",
        "\"\"\"A természetes nyelvfeldolgozás története általában az 1950-es években kezdődött, bár a korábbi időszakokból származó munkák is megtalálhatók. 1950-ben Alan Turing közzétett egy cikket, melynek címe: „Számítástechnika és intelligenciagépek”, és amely intelligenciakritériumként javasolta a Turing-tesztet.\"\"\",\n",
        "#Norwegian\n",
        "\"\"\"Titanic er en amerikansk episk roman fra 1997 og katastrofal film regissert, skrevet, co-produsert og co-redigert av James Cameron. Det dekker både historiske og fiksjoniserte aspekter og er basert på rapporter om synkingen av RMS Titanic og stjernene Leonard DiCaprio og Kate Winslet som medlemmer av forskjellige sosiale klasser som forelsker seg under skipets seilas under deres uheldige første seilas.\"\"\",\n",
        "#Polish\n",
        "\"\"\"Poza tym, że jest królem północy, John Snow jest angielskim lekarzem i liderem w dziedzinie anestezjologii i higieny medycznej. Uważany jest za pierwszego, który wykorzystał dane do leczenia epidemii cholery w 1834 r.\"\"\",\n",
        "#Portuguese\n",
        "\"\"\"Geoffrey Everest Hinton é um psicólogo cognitivo britânico canadense e cientista da computação, mais conhecido por seu trabalho em redes neurais artificiais. Desde 2013, ele trabalha para o Google e a Universidade de Toronto. Em 2017, foi co-fundador e tornou-se Conselheiro Científico Chefe do Vector Institute of Toronto.\"\"\",\n",
        "#Romanian\n",
        "\"\"\"Mona Lisa este o pictură în ulei din secolul al XVI-lea creată de Leonardo. Se ține la Louvre din Paris.\"\"\",\n",
        "#Russian\n",
        "\"\"\"Когда в 2007 году Себастьян Трун начал работать над машинами для самостоятельного вождения в Google, мало кто за пределами компании воспринимал его всерьез.\"\"\",\n",
        "#Slovak\n",
        "\"\"\"John Snow je okrem anglického kráľa anglickým lekárom a lídrom vo vývoji anestézie a lekárskej hygieny. Je považovaný za prvého, ktorý používa údaje na liečenie prepuknutia cholery v roku 1834.\"\"\",\n",
        "#Swedish\n",
        "\"\"\"Mona Lisa är en oljemålning från 1500-talet skapad av Leonardo. Det hålls vid Louvre i Paris.\"\"\",\n",
        "#Turkish\n",
        "\"\"\"Mona Lisa, Leonardo tarafından yaratılan 16. yüzyıldan kalma bir yağlı boyadır. Paris'teki Louvre'da düzenleniyor.\"\"\",\n",
        "#Ukrainian\n",
        "\"\"\"Facebook - це послуга соціальних мереж, запущена під назвою TheFacebook 4 лютого 2004 року. Його заснував Марк Цукерберг разом зі своїми одноквартами та колегами Гарвардського університету Едуардо Саверином, Ендрю Макколлумом, Дастіном Московіцем та Крісом Х'юзом.\"\"\",\n",
        "#Italian\n",
        "\"\"\"Quando Sebastian Thrun ha iniziato a lavorare su auto a guida autonoma presso Google nel 2007, poche persone al di fuori dell'azienda lo hanno preso sul serio.\"\"\",\n",
        "]\n"
      ],
      "execution_count": 25,
      "outputs": []
    },
    {
      "cell_type": "markdown",
      "metadata": {
        "id": "cBDr0uJFYb2Z"
      },
      "source": [
        "## 5. Define Spark NLP pipeline"
      ]
    },
    {
      "cell_type": "code",
      "metadata": {
        "id": "_lw5aBlWuK0F",
        "colab": {
          "base_uri": "https://localhost:8080/"
        },
        "outputId": "2637424b-16e2-4ecc-b742-1b7a08bd37ba"
      },
      "source": [
        "documentAssembler = DocumentAssembler()\\\n",
        "                    .setInputCol(\"text\")\\\n",
        "                    .setOutputCol(\"document\")\n",
        "\n",
        "sentence_detector = SentenceDetector() \\\n",
        "    .setInputCols([\"document\"]) \\\n",
        "    .setOutputCol(\"sentence\")\n",
        "\n",
        "languageDetector = LanguageDetectorDL.pretrained(model_name)\\\n",
        "      .setInputCols(\"sentence\")\\\n",
        "      .setOutputCol(\"language\")\\\n",
        "      .setThreshold(0.5)\\\n",
        "      .setCoalesceSentences(True)\n",
        "\n",
        "nlpPipeline = Pipeline(stages=[ documentAssembler, \n",
        "                               sentence_detector,\n",
        "                                 languageDetector\n",
        "                                 ])\n",
        "\n",
        "\n"
      ],
      "execution_count": 26,
      "outputs": [
        {
          "output_type": "stream",
          "text": [
            "ld_wiki_tatoeba_cnn_375 download started this may take some time.\n",
            "Approximate size to download 8.8 MB\n",
            "[OK!]\n"
          ],
          "name": "stdout"
        }
      ]
    },
    {
      "cell_type": "markdown",
      "metadata": {
        "id": "N_cVvQVnYgjO"
      },
      "source": [
        "## 6. Run the pipeline"
      ]
    },
    {
      "cell_type": "code",
      "metadata": {
        "id": "HGQ3wcotYkNK"
      },
      "source": [
        "empty_df = spark.createDataFrame([['']]).toDF(\"text\")\n",
        "\n",
        "pipelineModel = nlpPipeline.fit(empty_df)\n",
        "df = spark.createDataFrame(pd.DataFrame({\"text\":text_list}))\n",
        "result = pipelineModel.transform(df)"
      ],
      "execution_count": 27,
      "outputs": []
    },
    {
      "cell_type": "markdown",
      "metadata": {
        "id": "bOhhQ-96YlWj"
      },
      "source": [
        "## 7. Visualize results"
      ]
    },
    {
      "cell_type": "code",
      "metadata": {
        "id": "s9kKNNyHTwRd",
        "colab": {
          "base_uri": "https://localhost:8080/"
        },
        "outputId": "a3c95ccc-66cf-4b21-c6b3-6edcf9d0c10e"
      },
      "source": [
        "result.select(F.explode(F.arrays_zip('document.result', 'language.result')).alias(\"cols\")) \\\n",
        ".select(F.expr(\"cols['0']\").alias(\"Document\"),\n",
        "        F.expr(\"cols['1']\").alias(\"Language\")).show(truncate=100)"
      ],
      "execution_count": 28,
      "outputs": [
        {
          "output_type": "stream",
          "text": [
            "+----------------------------------------------------------------------------------------------------+--------+\n",
            "|                                                                                            Document|Language|\n",
            "+----------------------------------------------------------------------------------------------------+--------+\n",
            "|    Mona Lisa is a 16th century oil painting created by Leonardo. It is held at the Louvre in Paris.|      en|\n",
            "|La Joconde est une peinture à l'huile du XVIe siècle créée par Léonard. Il se tient au Louvre à P...|      fr|\n",
            "|Джефри Еверест Хинтън е британски канадски когнитивен психолог и компютърен учен, най-известен с ...|      bg|\n",
            "|        Mona Lisa je olejomalba ze 16. století, kterou vytvořil Leonardo. Koná se v Louvru v Paříži.|      cs|\n",
            "|Titanic ist ein 1997 in den USA veröffentlichter epischer Roman und ein katastrophaler Film, der ...|      de|\n",
            "|Το Titanic είναι ένα αμερικανικό επικό μυθιστόρημα του 1997 και μια καταστροφική ταινία σε σκηνοθ...|      el|\n",
            "|Geoffrey Everest Hinton es un psicólogo cognitivo y científico informático británico canadiense, ...|      es|\n",
            "|      Mona Lisa on 1500-luvun öljymaalaus, jonka on luonut Leonardo. Se pidetään Pariisin Louvressa.|      fi|\n",
            "|A természetes nyelvfeldolgozás története általában az 1950-es években kezdődött, bár a korábbi id...|      hu|\n",
            "|Titanic er en amerikansk episk roman fra 1997 og katastrofal film regissert, skrevet, co-produser...|      no|\n",
            "|Poza tym, że jest królem północy, John Snow jest angielskim lekarzem i liderem w dziedzinie anest...|      pl|\n",
            "|Geoffrey Everest Hinton é um psicólogo cognitivo britânico canadense e cientista da computação, m...|      pt|\n",
            "|Mona Lisa este o pictură în ulei din secolul al XVI-lea creată de Leonardo. Se ține la Louvre din...|      ro|\n",
            "|Когда в 2007 году Себастьян Трун начал работать над машинами для самостоятельного вождения в Goog...|      ru|\n",
            "|John Snow je okrem anglického kráľa anglickým lekárom a lídrom vo vývoji anestézie a lekárskej hy...|      sk|\n",
            "|       Mona Lisa är en oljemålning från 1500-talet skapad av Leonardo. Det hålls vid Louvre i Paris.|      sv|\n",
            "|Mona Lisa, Leonardo tarafından yaratılan 16. yüzyıldan kalma bir yağlı boyadır. Paris'teki Louvre...|      tr|\n",
            "|Facebook - це послуга соціальних мереж, запущена під назвою TheFacebook 4 лютого 2004 року. Його ...|      uk|\n",
            "|Quando Sebastian Thrun ha iniziato a lavorare su auto a guida autonoma presso Google nel 2007, po...|      it|\n",
            "+----------------------------------------------------------------------------------------------------+--------+\n",
            "\n"
          ],
          "name": "stdout"
        }
      ]
    }
  ]
}
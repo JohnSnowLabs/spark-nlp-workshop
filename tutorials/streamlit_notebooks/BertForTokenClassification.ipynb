{
  "cells": [
    {
      "cell_type": "markdown",
      "metadata": {
        "id": "xqAPTpY4Hvyh"
      },
      "source": [
        "![JohnSnowLabs](https://nlp.johnsnowlabs.com/assets/images/logo.png)"
      ]
    },
    {
      "cell_type": "markdown",
      "metadata": {
        "id": "BLf0gahqZUWT"
      },
      "source": [
        "[![Open In Colab](https://colab.research.google.com/assets/colab-badge.svg)](https://colab.research.google.com/github/JohnSnowLabs/spark-nlp-workshop/blob/master/tutorials/streamlit_notebooks/BertForTokenClassification.ipynb)"
      ]
    },
    {
      "cell_type": "markdown",
      "metadata": {
        "id": "aiKQUBV7SKzV"
      },
      "source": [
        "# `BertForTokenClassification` Models"
      ]
    },
    {
      "cell_type": "markdown",
      "metadata": {
        "id": "g9h8_8Z7H16K"
      },
      "source": [
        "## 1.Colab Setup"
      ]
    },
    {
      "cell_type": "code",
      "execution_count": null,
      "metadata": {
        "id": "jpWCq4YeHrB7"
      },
      "outputs": [],
      "source": [
        "# Installing pyspark and spark-nlp\n",
        "\n",
        "! pip install -q pyspark==3.3.0 spark-nlp==4.0.2\n",
        "! pip install -q spark-nlp-display"
      ]
    },
    {
      "cell_type": "code",
      "execution_count": 2,
      "metadata": {
        "id": "B_aFkpIiH0pe"
      },
      "outputs": [],
      "source": [
        "# Import Libraries\n",
        "\n",
        "import pandas as pd\n",
        "import numpy as np\n",
        "import json\n",
        "from pyspark.ml import Pipeline\n",
        "from pyspark.sql import SparkSession\n",
        "import pyspark.sql.functions as F\n",
        "from sparknlp.annotator import *\n",
        "from sparknlp.base import *\n",
        "import sparknlp\n",
        "from sparknlp.pretrained import PretrainedPipeline\n",
        "\n",
        "from sparknlp_display import NerVisualizer\n",
        "\n",
        "from pyspark.sql.types import StringType, IntegerType"
      ]
    },
    {
      "cell_type": "markdown",
      "metadata": {
        "id": "23PuDfBdIEiJ"
      },
      "source": [
        "## 2.Start Spark Session"
      ]
    },
    {
      "cell_type": "code",
      "execution_count": 3,
      "metadata": {
        "colab": {
          "base_uri": "https://localhost:8080/",
          "height": 228
        },
        "id": "KQIq2-fJH-_N",
        "outputId": "0bbdc5fb-3ca2-47ea-fa8c-e47b87277c2c"
      },
      "outputs": [
        {
          "output_type": "stream",
          "name": "stdout",
          "text": [
            "Spark NLP Version : 4.0.2\n"
          ]
        },
        {
          "output_type": "execute_result",
          "data": {
            "text/plain": [
              "<pyspark.sql.session.SparkSession at 0x7f1ef0792510>"
            ],
            "text/html": [
              "\n",
              "            <div>\n",
              "                <p><b>SparkSession - in-memory</b></p>\n",
              "                \n",
              "        <div>\n",
              "            <p><b>SparkContext</b></p>\n",
              "\n",
              "            <p><a href=\"http://6dd71388bbc5:4040\">Spark UI</a></p>\n",
              "\n",
              "            <dl>\n",
              "              <dt>Version</dt>\n",
              "                <dd><code>v3.3.0</code></dd>\n",
              "              <dt>Master</dt>\n",
              "                <dd><code>local[*]</code></dd>\n",
              "              <dt>AppName</dt>\n",
              "                <dd><code>Spark NLP</code></dd>\n",
              "            </dl>\n",
              "        </div>\n",
              "        \n",
              "            </div>\n",
              "        "
            ]
          },
          "metadata": {},
          "execution_count": 3
        }
      ],
      "source": [
        "spark = sparknlp.start()\n",
        "\n",
        "print(\"Spark NLP Version :\", sparknlp.version())\n",
        "\n",
        "spark"
      ]
    },
    {
      "cell_type": "markdown",
      "metadata": {
        "id": "PrVX291fSbLP"
      },
      "source": [
        "## 3.Writing a Generic NER Function"
      ]
    },
    {
      "cell_type": "code",
      "source": [
        "def get_entities(model, text, lang = \"en\", case = True):\n",
        "    document_assembler = DocumentAssembler()\\\n",
        "          .setInputCol(\"text\") \\\n",
        "          .setOutputCol(\"document\")\n",
        "\n",
        "    sentence_detector = SentenceDetectorDLModel.pretrained(\"sentence_detector_dl\", \"xx\")\\\n",
        "           .setInputCols([\"document\"])\\\n",
        "           .setOutputCol(\"sentence\")\n",
        "\n",
        "    tokenizer = Tokenizer()\\\n",
        "          .setInputCols([\"sentence\"])\\\n",
        "          .setOutputCol(\"token\")\n",
        "\n",
        "    ner_converter = NerConverter()\\\n",
        "          .setInputCols([\"sentence\", \"token\", \"ner\"])\\\n",
        "          .setOutputCol(\"ner_chunk\")\n",
        "\n",
        "    token_classifier = BertForTokenClassification.pretrained(model, lang)\\\n",
        "          .setInputCols([\"sentence\", \"token\"])\\\n",
        "          .setOutputCol(\"ner\")\\\n",
        "          .setCaseSensitive(case)\\\n",
        "          .setMaxSentenceLength(512)\n",
        "\n",
        "    pipeline = Pipeline(stages=[document_assembler, \n",
        "                                sentence_detector, \n",
        "                                tokenizer, \n",
        "                                token_classifier, \n",
        "                                ner_converter])\n",
        "\n",
        "    empty_data = spark.createDataFrame([[\"\"]]).toDF(\"text\")\n",
        "\n",
        "    pipeline_model = pipeline.fit(empty_data)\n",
        "\n",
        "    df = spark.createDataFrame(text, StringType()).toDF(\"text\")\n",
        "\n",
        "    result = pipeline_model.transform(df)\n",
        "\n",
        "    result.select(F.explode(F.arrays_zip(result.ner_chunk.result, result.ner_chunk.metadata)).alias(\"cols\"))\\\n",
        "                      .select(F.expr(\"cols['0']\").alias(\"chunk\"),\n",
        "                              F.expr(\"cols['1']['entity']\").alias(\"ner_label\")).show(truncate=False)\n",
        "    \n",
        "    NerVisualizer().display(\n",
        "            result = result.collect()[0],\n",
        "            label_col = 'ner_chunk',\n",
        "            document_col = 'document')\n",
        "\n"
      ],
      "metadata": {
        "id": "dUX8AMCt5sMf"
      },
      "execution_count": 4,
      "outputs": []
    },
    {
      "cell_type": "markdown",
      "source": [
        "## 4.BertForTokenClassification Models and Outputs"
      ],
      "metadata": {
        "id": "SiF9K-VLfAFn"
      }
    },
    {
      "cell_type": "markdown",
      "metadata": {
        "id": "fCXgOhrYIQsn"
      },
      "source": [
        "### `bert_base_token_classifier_conll03` model"
      ]
    },
    {
      "cell_type": "code",
      "source": [
        "model = \"bert_base_token_classifier_conll03\"\n",
        "\n",
        "text = [\"\"\"China on Thursday accused Taipei of spoiling the atmosphere for a resumption of talks across the Taiwan Strait with a visit to Ukraine by Taiwanese Vice President Lien Chan this week that infuriated Beijing.\"\"\"]\n",
        "\n",
        "get_entities(model, text)\n"
      ],
      "metadata": {
        "colab": {
          "base_uri": "https://localhost:8080/",
          "height": 383
        },
        "id": "DcEbdGRu85dN",
        "outputId": "7257c29a-4114-4e25-965d-f9fb04350bd5"
      },
      "execution_count": 5,
      "outputs": [
        {
          "output_type": "stream",
          "name": "stdout",
          "text": [
            "sentence_detector_dl download started this may take some time.\n",
            "Approximate size to download 514.9 KB\n",
            "[OK!]\n",
            "bert_base_token_classifier_conll03 download started this may take some time.\n",
            "Approximate size to download 385.4 MB\n",
            "[OK!]\n",
            "+-------------+---------+\n",
            "|chunk        |ner_label|\n",
            "+-------------+---------+\n",
            "|China        |LOC      |\n",
            "|Taipei       |LOC      |\n",
            "|Taiwan Strait|LOC      |\n",
            "|Ukraine      |LOC      |\n",
            "|Taiwanese    |MISC     |\n",
            "|Lien Chan    |PER      |\n",
            "|Beijing      |LOC      |\n",
            "+-------------+---------+\n",
            "\n"
          ]
        },
        {
          "output_type": "display_data",
          "data": {
            "text/plain": [
              "<IPython.core.display.HTML object>"
            ],
            "text/html": [
              "\n",
              "<style>\n",
              "    @import url('https://fonts.googleapis.com/css2?family=Montserrat:wght@300;400;500;600;700&display=swap');\n",
              "    @import url('https://fonts.googleapis.com/css2?family=Vistol Regular:wght@300;400;500;600;700&display=swap');\n",
              "    \n",
              "    .spark-nlp-display-scroll-entities {\n",
              "        border: 1px solid #E7EDF0;\n",
              "        border-radius: 3px;\n",
              "        text-align: justify;\n",
              "        \n",
              "    }\n",
              "    .spark-nlp-display-scroll-entities span {  \n",
              "        font-size: 14px;\n",
              "        line-height: 24px;\n",
              "        color: #536B76;\n",
              "        font-family: 'Montserrat', sans-serif !important;\n",
              "    }\n",
              "    \n",
              "    .spark-nlp-display-entity-wrapper{\n",
              "    \n",
              "        display: inline-grid;\n",
              "        text-align: center;\n",
              "        border-radius: 4px;\n",
              "        margin: 0 2px 5px 2px;\n",
              "        padding: 1px\n",
              "    }\n",
              "    .spark-nlp-display-entity-name{\n",
              "        font-size: 14px;\n",
              "        line-height: 24px;\n",
              "        font-family: 'Montserrat', sans-serif !important;\n",
              "        \n",
              "        background: #f1f2f3;\n",
              "        border-width: medium;\n",
              "        text-align: center;\n",
              "        \n",
              "        font-weight: 400;\n",
              "        \n",
              "        border-radius: 5px;\n",
              "        padding: 2px 5px;\n",
              "        display: block;\n",
              "        margin: 3px 2px;\n",
              "    \n",
              "    }\n",
              "    .spark-nlp-display-entity-type{\n",
              "        font-size: 14px;\n",
              "        line-height: 24px;\n",
              "        color: #ffffff;\n",
              "        font-family: 'Montserrat', sans-serif !important;\n",
              "        \n",
              "        text-transform: uppercase;\n",
              "        \n",
              "        font-weight: 500;\n",
              "\n",
              "        display: block;\n",
              "        padding: 3px 5px;\n",
              "    }\n",
              "    \n",
              "    .spark-nlp-display-entity-resolution{\n",
              "        font-size: 14px;\n",
              "        line-height: 24px;\n",
              "        color: #ffffff;\n",
              "        font-family: 'Vistol Regular', sans-serif !important;\n",
              "        \n",
              "        text-transform: uppercase;\n",
              "        \n",
              "        font-weight: 500;\n",
              "\n",
              "        display: block;\n",
              "        padding: 3px 5px;\n",
              "    }\n",
              "    \n",
              "    .spark-nlp-display-others{\n",
              "        font-size: 14px;\n",
              "        line-height: 24px;\n",
              "        font-family: 'Montserrat', sans-serif !important;\n",
              "        \n",
              "        font-weight: 400;\n",
              "    }\n",
              "\n",
              "</style>\n",
              " <span class=\"spark-nlp-display-entity-wrapper\" style=\"background-color: #30096F\"><span class=\"spark-nlp-display-entity-name\">China </span><span class=\"spark-nlp-display-entity-type\">LOC</span></span><span class=\"spark-nlp-display-others\" style=\"background-color: white\"> on Thursday accused </span><span class=\"spark-nlp-display-entity-wrapper\" style=\"background-color: #30096F\"><span class=\"spark-nlp-display-entity-name\">Taipei </span><span class=\"spark-nlp-display-entity-type\">LOC</span></span><span class=\"spark-nlp-display-others\" style=\"background-color: white\"> of spoiling the atmosphere for a resumption of talks across the </span><span class=\"spark-nlp-display-entity-wrapper\" style=\"background-color: #30096F\"><span class=\"spark-nlp-display-entity-name\">Taiwan Strait </span><span class=\"spark-nlp-display-entity-type\">LOC</span></span><span class=\"spark-nlp-display-others\" style=\"background-color: white\"> with a visit to </span><span class=\"spark-nlp-display-entity-wrapper\" style=\"background-color: #30096F\"><span class=\"spark-nlp-display-entity-name\">Ukraine </span><span class=\"spark-nlp-display-entity-type\">LOC</span></span><span class=\"spark-nlp-display-others\" style=\"background-color: white\"> by </span><span class=\"spark-nlp-display-entity-wrapper\" style=\"background-color: #27228E\"><span class=\"spark-nlp-display-entity-name\">Taiwanese </span><span class=\"spark-nlp-display-entity-type\">MISC</span></span><span class=\"spark-nlp-display-others\" style=\"background-color: white\"> Vice President </span><span class=\"spark-nlp-display-entity-wrapper\" style=\"background-color: #124A9F\"><span class=\"spark-nlp-display-entity-name\">Lien Chan </span><span class=\"spark-nlp-display-entity-type\">PER</span></span><span class=\"spark-nlp-display-others\" style=\"background-color: white\"> this week that infuriated </span><span class=\"spark-nlp-display-entity-wrapper\" style=\"background-color: #30096F\"><span class=\"spark-nlp-display-entity-name\">Beijing </span><span class=\"spark-nlp-display-entity-type\">LOC</span></span><span class=\"spark-nlp-display-others\" style=\"background-color: white\">.</span></div>"
            ]
          },
          "metadata": {}
        }
      ]
    },
    {
      "cell_type": "markdown",
      "source": [
        "### `bert_large_token_classifier_conll03` model"
      ],
      "metadata": {
        "id": "IC7bZE3w-xDW"
      }
    },
    {
      "cell_type": "code",
      "source": [
        "model = \"bert_large_token_classifier_conll03\"\n",
        "\n",
        "text = [\"\"\"China on Thursday accused Taipei of spoiling the atmosphere for a resumption of talks across the Taiwan Strait with a visit to Ukraine by Taiwanese Vice President Lien Chan this week that infuriated Beijing.\"\"\"]\n",
        "\n",
        "get_entities(model, text)\n"
      ],
      "metadata": {
        "colab": {
          "base_uri": "https://localhost:8080/",
          "height": 383
        },
        "id": "q-vBPzLt9H-Q",
        "outputId": "9f4f4ebc-b0fe-482c-dc83-b7d90620f8f1"
      },
      "execution_count": 6,
      "outputs": [
        {
          "output_type": "stream",
          "name": "stdout",
          "text": [
            "sentence_detector_dl download started this may take some time.\n",
            "Approximate size to download 514.9 KB\n",
            "[OK!]\n",
            "bert_large_token_classifier_conll03 download started this may take some time.\n",
            "Approximate size to download 1.2 GB\n",
            "[OK!]\n",
            "+-------------+---------+\n",
            "|chunk        |ner_label|\n",
            "+-------------+---------+\n",
            "|China        |LOC      |\n",
            "|Taipei       |LOC      |\n",
            "|Taiwan Strait|LOC      |\n",
            "|Ukraine      |LOC      |\n",
            "|Taiwanese    |MISC     |\n",
            "|Lien Chan    |PER      |\n",
            "|Beijing      |LOC      |\n",
            "+-------------+---------+\n",
            "\n"
          ]
        },
        {
          "output_type": "display_data",
          "data": {
            "text/plain": [
              "<IPython.core.display.HTML object>"
            ],
            "text/html": [
              "\n",
              "<style>\n",
              "    @import url('https://fonts.googleapis.com/css2?family=Montserrat:wght@300;400;500;600;700&display=swap');\n",
              "    @import url('https://fonts.googleapis.com/css2?family=Vistol Regular:wght@300;400;500;600;700&display=swap');\n",
              "    \n",
              "    .spark-nlp-display-scroll-entities {\n",
              "        border: 1px solid #E7EDF0;\n",
              "        border-radius: 3px;\n",
              "        text-align: justify;\n",
              "        \n",
              "    }\n",
              "    .spark-nlp-display-scroll-entities span {  \n",
              "        font-size: 14px;\n",
              "        line-height: 24px;\n",
              "        color: #536B76;\n",
              "        font-family: 'Montserrat', sans-serif !important;\n",
              "    }\n",
              "    \n",
              "    .spark-nlp-display-entity-wrapper{\n",
              "    \n",
              "        display: inline-grid;\n",
              "        text-align: center;\n",
              "        border-radius: 4px;\n",
              "        margin: 0 2px 5px 2px;\n",
              "        padding: 1px\n",
              "    }\n",
              "    .spark-nlp-display-entity-name{\n",
              "        font-size: 14px;\n",
              "        line-height: 24px;\n",
              "        font-family: 'Montserrat', sans-serif !important;\n",
              "        \n",
              "        background: #f1f2f3;\n",
              "        border-width: medium;\n",
              "        text-align: center;\n",
              "        \n",
              "        font-weight: 400;\n",
              "        \n",
              "        border-radius: 5px;\n",
              "        padding: 2px 5px;\n",
              "        display: block;\n",
              "        margin: 3px 2px;\n",
              "    \n",
              "    }\n",
              "    .spark-nlp-display-entity-type{\n",
              "        font-size: 14px;\n",
              "        line-height: 24px;\n",
              "        color: #ffffff;\n",
              "        font-family: 'Montserrat', sans-serif !important;\n",
              "        \n",
              "        text-transform: uppercase;\n",
              "        \n",
              "        font-weight: 500;\n",
              "\n",
              "        display: block;\n",
              "        padding: 3px 5px;\n",
              "    }\n",
              "    \n",
              "    .spark-nlp-display-entity-resolution{\n",
              "        font-size: 14px;\n",
              "        line-height: 24px;\n",
              "        color: #ffffff;\n",
              "        font-family: 'Vistol Regular', sans-serif !important;\n",
              "        \n",
              "        text-transform: uppercase;\n",
              "        \n",
              "        font-weight: 500;\n",
              "\n",
              "        display: block;\n",
              "        padding: 3px 5px;\n",
              "    }\n",
              "    \n",
              "    .spark-nlp-display-others{\n",
              "        font-size: 14px;\n",
              "        line-height: 24px;\n",
              "        font-family: 'Montserrat', sans-serif !important;\n",
              "        \n",
              "        font-weight: 400;\n",
              "    }\n",
              "\n",
              "</style>\n",
              " <span class=\"spark-nlp-display-entity-wrapper\" style=\"background-color: #2169B0\"><span class=\"spark-nlp-display-entity-name\">China </span><span class=\"spark-nlp-display-entity-type\">LOC</span></span><span class=\"spark-nlp-display-others\" style=\"background-color: white\"> on Thursday accused </span><span class=\"spark-nlp-display-entity-wrapper\" style=\"background-color: #2169B0\"><span class=\"spark-nlp-display-entity-name\">Taipei </span><span class=\"spark-nlp-display-entity-type\">LOC</span></span><span class=\"spark-nlp-display-others\" style=\"background-color: white\"> of spoiling the atmosphere for a resumption of talks across the </span><span class=\"spark-nlp-display-entity-wrapper\" style=\"background-color: #2169B0\"><span class=\"spark-nlp-display-entity-name\">Taiwan Strait </span><span class=\"spark-nlp-display-entity-type\">LOC</span></span><span class=\"spark-nlp-display-others\" style=\"background-color: white\"> with a visit to </span><span class=\"spark-nlp-display-entity-wrapper\" style=\"background-color: #2169B0\"><span class=\"spark-nlp-display-entity-name\">Ukraine </span><span class=\"spark-nlp-display-entity-type\">LOC</span></span><span class=\"spark-nlp-display-others\" style=\"background-color: white\"> by </span><span class=\"spark-nlp-display-entity-wrapper\" style=\"background-color: #8D8951\"><span class=\"spark-nlp-display-entity-name\">Taiwanese </span><span class=\"spark-nlp-display-entity-type\">MISC</span></span><span class=\"spark-nlp-display-others\" style=\"background-color: white\"> Vice President </span><span class=\"spark-nlp-display-entity-wrapper\" style=\"background-color: #C06C95\"><span class=\"spark-nlp-display-entity-name\">Lien Chan </span><span class=\"spark-nlp-display-entity-type\">PER</span></span><span class=\"spark-nlp-display-others\" style=\"background-color: white\"> this week that infuriated </span><span class=\"spark-nlp-display-entity-wrapper\" style=\"background-color: #2169B0\"><span class=\"spark-nlp-display-entity-name\">Beijing </span><span class=\"spark-nlp-display-entity-type\">LOC</span></span><span class=\"spark-nlp-display-others\" style=\"background-color: white\">.</span></div>"
            ]
          },
          "metadata": {}
        }
      ]
    },
    {
      "cell_type": "markdown",
      "source": [
        "### `bert_base_token_classifier_ontonote` model"
      ],
      "metadata": {
        "id": "CeX8jr9x_EGQ"
      }
    },
    {
      "cell_type": "code",
      "source": [
        "model = \"bert_base_token_classifier_ontonote\"\n",
        "\n",
        "text = [\"\"\"After the Handover: Taiwan - Macau Relations in the New Millennium Last year nearly one million travelers from Taiwan passed through Macau Airport heading for mainland China or visiting Macau itself and accounting for 80 % of passengers using the airport. Around 1000 of Macau 's civil servants have studied in Taiwan and every year some 30 people travel from Macau to Taiwan for business or work along with more than 400 students. But against the backdrop of continued proclamations from the PRC about how Macau's 'one country two systems' arrangement sets an example for solving the Taiwan problem these figures along with the Taiwan - Macau exchanges that they represent have been willfully neglected by Macau's mainstream media. Macau and Taiwan: so near and yet so far. What are the connections that bind these two places and what are the opportunities for new developments in the wake of the 1999 handover? On December 19 1999 the eve of Macau's transfer of sovereignty the China Times in Taiwan published a survey on the Taiwanese public's views about Macau's return to Chinese control. According to the survey 31 % of people in Taiwan weren't even aware that Macau was about to be handed back to China while 53 % answered that they didn't know whether the handover would be beneficial or harmful for Macau's development. But when asked whether the one country two systems formula as used for Hong Kong and Macau was acceptable for Taiwan 59 % responded No   while 27 % said that they didn't know.  As these results clearly indicate the people of Taiwan still know little about Macau in spite of existing exchanges and more than half of them flatly reject Beijing's one country two systems formula - so readily taken up in Macau - as a solution to the Taiwan question.\"\"\"]\n",
        "\n",
        "get_entities(model, text)"
      ],
      "metadata": {
        "colab": {
          "base_uri": "https://localhost:8080/",
          "height": 1000
        },
        "id": "_67Mg_mq9IAv",
        "outputId": "c3092647-7687-447d-cb30-b6c5dd3cba59"
      },
      "execution_count": 7,
      "outputs": [
        {
          "output_type": "stream",
          "name": "stdout",
          "text": [
            "sentence_detector_dl download started this may take some time.\n",
            "Approximate size to download 514.9 KB\n",
            "[OK!]\n",
            "bert_base_token_classifier_ontonote download started this may take some time.\n",
            "Approximate size to download 385.5 MB\n",
            "[OK!]\n",
            "+------------------+---------+\n",
            "|chunk             |ner_label|\n",
            "+------------------+---------+\n",
            "|Taiwan - Macau    |NORP     |\n",
            "|the New Millennium|DATE     |\n",
            "|Last year         |DATE     |\n",
            "|nearly one million|CARDINAL |\n",
            "|Taiwan            |GPE      |\n",
            "|Macau Airport     |FAC      |\n",
            "|China             |GPE      |\n",
            "|Macau             |GPE      |\n",
            "|80 %              |PERCENT  |\n",
            "|Around 1000       |CARDINAL |\n",
            "|Macau             |GPE      |\n",
            "|Taiwan            |GPE      |\n",
            "|some              |CARDINAL |\n",
            "|30                |CARDINAL |\n",
            "|Macau             |GPE      |\n",
            "|Taiwan            |GPE      |\n",
            "|more than 400     |CARDINAL |\n",
            "|PRC               |GPE      |\n",
            "|Macau's           |GPE      |\n",
            "|one               |CARDINAL |\n",
            "+------------------+---------+\n",
            "only showing top 20 rows\n",
            "\n"
          ]
        },
        {
          "output_type": "display_data",
          "data": {
            "text/plain": [
              "<IPython.core.display.HTML object>"
            ],
            "text/html": [
              "\n",
              "<style>\n",
              "    @import url('https://fonts.googleapis.com/css2?family=Montserrat:wght@300;400;500;600;700&display=swap');\n",
              "    @import url('https://fonts.googleapis.com/css2?family=Vistol Regular:wght@300;400;500;600;700&display=swap');\n",
              "    \n",
              "    .spark-nlp-display-scroll-entities {\n",
              "        border: 1px solid #E7EDF0;\n",
              "        border-radius: 3px;\n",
              "        text-align: justify;\n",
              "        \n",
              "    }\n",
              "    .spark-nlp-display-scroll-entities span {  \n",
              "        font-size: 14px;\n",
              "        line-height: 24px;\n",
              "        color: #536B76;\n",
              "        font-family: 'Montserrat', sans-serif !important;\n",
              "    }\n",
              "    \n",
              "    .spark-nlp-display-entity-wrapper{\n",
              "    \n",
              "        display: inline-grid;\n",
              "        text-align: center;\n",
              "        border-radius: 4px;\n",
              "        margin: 0 2px 5px 2px;\n",
              "        padding: 1px\n",
              "    }\n",
              "    .spark-nlp-display-entity-name{\n",
              "        font-size: 14px;\n",
              "        line-height: 24px;\n",
              "        font-family: 'Montserrat', sans-serif !important;\n",
              "        \n",
              "        background: #f1f2f3;\n",
              "        border-width: medium;\n",
              "        text-align: center;\n",
              "        \n",
              "        font-weight: 400;\n",
              "        \n",
              "        border-radius: 5px;\n",
              "        padding: 2px 5px;\n",
              "        display: block;\n",
              "        margin: 3px 2px;\n",
              "    \n",
              "    }\n",
              "    .spark-nlp-display-entity-type{\n",
              "        font-size: 14px;\n",
              "        line-height: 24px;\n",
              "        color: #ffffff;\n",
              "        font-family: 'Montserrat', sans-serif !important;\n",
              "        \n",
              "        text-transform: uppercase;\n",
              "        \n",
              "        font-weight: 500;\n",
              "\n",
              "        display: block;\n",
              "        padding: 3px 5px;\n",
              "    }\n",
              "    \n",
              "    .spark-nlp-display-entity-resolution{\n",
              "        font-size: 14px;\n",
              "        line-height: 24px;\n",
              "        color: #ffffff;\n",
              "        font-family: 'Vistol Regular', sans-serif !important;\n",
              "        \n",
              "        text-transform: uppercase;\n",
              "        \n",
              "        font-weight: 500;\n",
              "\n",
              "        display: block;\n",
              "        padding: 3px 5px;\n",
              "    }\n",
              "    \n",
              "    .spark-nlp-display-others{\n",
              "        font-size: 14px;\n",
              "        line-height: 24px;\n",
              "        font-family: 'Montserrat', sans-serif !important;\n",
              "        \n",
              "        font-weight: 400;\n",
              "    }\n",
              "\n",
              "</style>\n",
              " <span class=\"spark-nlp-display-others\" style=\"background-color: white\">After the Handover: </span><span class=\"spark-nlp-display-entity-wrapper\" style=\"background-color: #B8A1B5\"><span class=\"spark-nlp-display-entity-name\">Taiwan - Macau </span><span class=\"spark-nlp-display-entity-type\">NORP</span></span><span class=\"spark-nlp-display-others\" style=\"background-color: white\"> Relations in </span><span class=\"spark-nlp-display-entity-wrapper\" style=\"background-color: #a6b1e1\"><span class=\"spark-nlp-display-entity-name\">the New Millennium </span><span class=\"spark-nlp-display-entity-type\">DATE</span></span><span class=\"spark-nlp-display-others\" style=\"background-color: white\"> </span><span class=\"spark-nlp-display-entity-wrapper\" style=\"background-color: #a6b1e1\"><span class=\"spark-nlp-display-entity-name\">Last year </span><span class=\"spark-nlp-display-entity-type\">DATE</span></span><span class=\"spark-nlp-display-others\" style=\"background-color: white\"> </span><span class=\"spark-nlp-display-entity-wrapper\" style=\"background-color: #2D755D\"><span class=\"spark-nlp-display-entity-name\">nearly one million </span><span class=\"spark-nlp-display-entity-type\">CARDINAL</span></span><span class=\"spark-nlp-display-others\" style=\"background-color: white\"> travelers from </span><span class=\"spark-nlp-display-entity-wrapper\" style=\"background-color: #8AB26C\"><span class=\"spark-nlp-display-entity-name\">Taiwan </span><span class=\"spark-nlp-display-entity-type\">GPE</span></span><span class=\"spark-nlp-display-others\" style=\"background-color: white\"> passed through </span><span class=\"spark-nlp-display-entity-wrapper\" style=\"background-color: #4DC4A2\"><span class=\"spark-nlp-display-entity-name\">Macau Airport </span><span class=\"spark-nlp-display-entity-type\">FAC</span></span><span class=\"spark-nlp-display-others\" style=\"background-color: white\"> heading for mainland </span><span class=\"spark-nlp-display-entity-wrapper\" style=\"background-color: #8AB26C\"><span class=\"spark-nlp-display-entity-name\">China </span><span class=\"spark-nlp-display-entity-type\">GPE</span></span><span class=\"spark-nlp-display-others\" style=\"background-color: white\"> or visiting </span><span class=\"spark-nlp-display-entity-wrapper\" style=\"background-color: #8AB26C\"><span class=\"spark-nlp-display-entity-name\">Macau </span><span class=\"spark-nlp-display-entity-type\">GPE</span></span><span class=\"spark-nlp-display-others\" style=\"background-color: white\"> itself and accounting for </span><span class=\"spark-nlp-display-entity-wrapper\" style=\"background-color: #5B4F7B\"><span class=\"spark-nlp-display-entity-name\">80 % </span><span class=\"spark-nlp-display-entity-type\">PERCENT</span></span><span class=\"spark-nlp-display-others\" style=\"background-color: white\"> of passengers using the airport. </span><span class=\"spark-nlp-display-entity-wrapper\" style=\"background-color: #2D755D\"><span class=\"spark-nlp-display-entity-name\">Around 1000 </span><span class=\"spark-nlp-display-entity-type\">CARDINAL</span></span><span class=\"spark-nlp-display-others\" style=\"background-color: white\"> of </span><span class=\"spark-nlp-display-entity-wrapper\" style=\"background-color: #8AB26C\"><span class=\"spark-nlp-display-entity-name\">Macau </span><span class=\"spark-nlp-display-entity-type\">GPE</span></span><span class=\"spark-nlp-display-others\" style=\"background-color: white\"> 's civil servants have studied in </span><span class=\"spark-nlp-display-entity-wrapper\" style=\"background-color: #8AB26C\"><span class=\"spark-nlp-display-entity-name\">Taiwan </span><span class=\"spark-nlp-display-entity-type\">GPE</span></span><span class=\"spark-nlp-display-others\" style=\"background-color: white\"> and every year </span><span class=\"spark-nlp-display-entity-wrapper\" style=\"background-color: #2D755D\"><span class=\"spark-nlp-display-entity-name\">some </span><span class=\"spark-nlp-display-entity-type\">CARDINAL</span></span><span class=\"spark-nlp-display-others\" style=\"background-color: white\"> </span><span class=\"spark-nlp-display-entity-wrapper\" style=\"background-color: #2D755D\"><span class=\"spark-nlp-display-entity-name\">30 </span><span class=\"spark-nlp-display-entity-type\">CARDINAL</span></span><span class=\"spark-nlp-display-others\" style=\"background-color: white\"> people travel from </span><span class=\"spark-nlp-display-entity-wrapper\" style=\"background-color: #8AB26C\"><span class=\"spark-nlp-display-entity-name\">Macau </span><span class=\"spark-nlp-display-entity-type\">GPE</span></span><span class=\"spark-nlp-display-others\" style=\"background-color: white\"> to </span><span class=\"spark-nlp-display-entity-wrapper\" style=\"background-color: #8AB26C\"><span class=\"spark-nlp-display-entity-name\">Taiwan </span><span class=\"spark-nlp-display-entity-type\">GPE</span></span><span class=\"spark-nlp-display-others\" style=\"background-color: white\"> for business or work along with </span><span class=\"spark-nlp-display-entity-wrapper\" style=\"background-color: #2D755D\"><span class=\"spark-nlp-display-entity-name\">more than 400 </span><span class=\"spark-nlp-display-entity-type\">CARDINAL</span></span><span class=\"spark-nlp-display-others\" style=\"background-color: white\"> students. But against the backdrop of continued proclamations from the </span><span class=\"spark-nlp-display-entity-wrapper\" style=\"background-color: #8AB26C\"><span class=\"spark-nlp-display-entity-name\">PRC </span><span class=\"spark-nlp-display-entity-type\">GPE</span></span><span class=\"spark-nlp-display-others\" style=\"background-color: white\"> about how </span><span class=\"spark-nlp-display-entity-wrapper\" style=\"background-color: #8AB26C\"><span class=\"spark-nlp-display-entity-name\">Macau's </span><span class=\"spark-nlp-display-entity-type\">GPE</span></span><span class=\"spark-nlp-display-others\" style=\"background-color: white\"> '</span><span class=\"spark-nlp-display-entity-wrapper\" style=\"background-color: #2D755D\"><span class=\"spark-nlp-display-entity-name\">one </span><span class=\"spark-nlp-display-entity-type\">CARDINAL</span></span><span class=\"spark-nlp-display-others\" style=\"background-color: white\"> country </span><span class=\"spark-nlp-display-entity-wrapper\" style=\"background-color: #2D755D\"><span class=\"spark-nlp-display-entity-name\">two </span><span class=\"spark-nlp-display-entity-type\">CARDINAL</span></span><span class=\"spark-nlp-display-others\" style=\"background-color: white\"> systems' arrangement sets an example for solving the </span><span class=\"spark-nlp-display-entity-wrapper\" style=\"background-color: #8AB26C\"><span class=\"spark-nlp-display-entity-name\">Taiwan </span><span class=\"spark-nlp-display-entity-type\">GPE</span></span><span class=\"spark-nlp-display-others\" style=\"background-color: white\"> problem these figures along with the </span><span class=\"spark-nlp-display-entity-wrapper\" style=\"background-color: #B8A1B5\"><span class=\"spark-nlp-display-entity-name\">Taiwan - Macau </span><span class=\"spark-nlp-display-entity-type\">NORP</span></span><span class=\"spark-nlp-display-others\" style=\"background-color: white\"> exchanges that they represent have been willfully neglected by </span><span class=\"spark-nlp-display-entity-wrapper\" style=\"background-color: #8AB26C\"><span class=\"spark-nlp-display-entity-name\">Macau's </span><span class=\"spark-nlp-display-entity-type\">GPE</span></span><span class=\"spark-nlp-display-others\" style=\"background-color: white\"> mainstream media. </span><span class=\"spark-nlp-display-entity-wrapper\" style=\"background-color: #8AB26C\"><span class=\"spark-nlp-display-entity-name\">Macau </span><span class=\"spark-nlp-display-entity-type\">GPE</span></span><span class=\"spark-nlp-display-others\" style=\"background-color: white\"> and </span><span class=\"spark-nlp-display-entity-wrapper\" style=\"background-color: #8AB26C\"><span class=\"spark-nlp-display-entity-name\">Taiwan </span><span class=\"spark-nlp-display-entity-type\">GPE</span></span><span class=\"spark-nlp-display-others\" style=\"background-color: white\">: so near and yet so far. What are the connections that bind these </span><span class=\"spark-nlp-display-entity-wrapper\" style=\"background-color: #2D755D\"><span class=\"spark-nlp-display-entity-name\">two </span><span class=\"spark-nlp-display-entity-type\">CARDINAL</span></span><span class=\"spark-nlp-display-others\" style=\"background-color: white\"> places and what are the opportunities for new developments in the wake of the </span><span class=\"spark-nlp-display-entity-wrapper\" style=\"background-color: #a6b1e1\"><span class=\"spark-nlp-display-entity-name\">1999 </span><span class=\"spark-nlp-display-entity-type\">DATE</span></span><span class=\"spark-nlp-display-others\" style=\"background-color: white\"> handover? On </span><span class=\"spark-nlp-display-entity-wrapper\" style=\"background-color: #a6b1e1\"><span class=\"spark-nlp-display-entity-name\">December 19 1999 </span><span class=\"spark-nlp-display-entity-type\">DATE</span></span><span class=\"spark-nlp-display-others\" style=\"background-color: white\"> the </span><span class=\"spark-nlp-display-entity-wrapper\" style=\"background-color: #a6b1e1\"><span class=\"spark-nlp-display-entity-name\">eve </span><span class=\"spark-nlp-display-entity-type\">DATE</span></span><span class=\"spark-nlp-display-others\" style=\"background-color: white\"> of </span><span class=\"spark-nlp-display-entity-wrapper\" style=\"background-color: #8AB26C\"><span class=\"spark-nlp-display-entity-name\">Macau's </span><span class=\"spark-nlp-display-entity-type\">GPE</span></span><span class=\"spark-nlp-display-others\" style=\"background-color: white\"> transfer of sovereignty </span><span class=\"spark-nlp-display-entity-wrapper\" style=\"background-color: #9251BE\"><span class=\"spark-nlp-display-entity-name\">the China Times </span><span class=\"spark-nlp-display-entity-type\">ORG</span></span><span class=\"spark-nlp-display-others\" style=\"background-color: white\"> in </span><span class=\"spark-nlp-display-entity-wrapper\" style=\"background-color: #8AB26C\"><span class=\"spark-nlp-display-entity-name\">Taiwan </span><span class=\"spark-nlp-display-entity-type\">GPE</span></span><span class=\"spark-nlp-display-others\" style=\"background-color: white\"> published a survey on the </span><span class=\"spark-nlp-display-entity-wrapper\" style=\"background-color: #B8A1B5\"><span class=\"spark-nlp-display-entity-name\">Taiwanese </span><span class=\"spark-nlp-display-entity-type\">NORP</span></span><span class=\"spark-nlp-display-others\" style=\"background-color: white\"> public's views about </span><span class=\"spark-nlp-display-entity-wrapper\" style=\"background-color: #8AB26C\"><span class=\"spark-nlp-display-entity-name\">Macau's </span><span class=\"spark-nlp-display-entity-type\">GPE</span></span><span class=\"spark-nlp-display-others\" style=\"background-color: white\"> return to </span><span class=\"spark-nlp-display-entity-wrapper\" style=\"background-color: #B8A1B5\"><span class=\"spark-nlp-display-entity-name\">Chinese </span><span class=\"spark-nlp-display-entity-type\">NORP</span></span><span class=\"spark-nlp-display-others\" style=\"background-color: white\"> control. According to the survey </span><span class=\"spark-nlp-display-entity-wrapper\" style=\"background-color: #5B4F7B\"><span class=\"spark-nlp-display-entity-name\">31 % </span><span class=\"spark-nlp-display-entity-type\">PERCENT</span></span><span class=\"spark-nlp-display-others\" style=\"background-color: white\"> of people in </span><span class=\"spark-nlp-display-entity-wrapper\" style=\"background-color: #8AB26C\"><span class=\"spark-nlp-display-entity-name\">Taiwan </span><span class=\"spark-nlp-display-entity-type\">GPE</span></span><span class=\"spark-nlp-display-others\" style=\"background-color: white\"> weren't even aware that </span><span class=\"spark-nlp-display-entity-wrapper\" style=\"background-color: #8AB26C\"><span class=\"spark-nlp-display-entity-name\">Macau </span><span class=\"spark-nlp-display-entity-type\">GPE</span></span><span class=\"spark-nlp-display-others\" style=\"background-color: white\"> was about to be handed back to </span><span class=\"spark-nlp-display-entity-wrapper\" style=\"background-color: #8AB26C\"><span class=\"spark-nlp-display-entity-name\">China </span><span class=\"spark-nlp-display-entity-type\">GPE</span></span><span class=\"spark-nlp-display-others\" style=\"background-color: white\"> while </span><span class=\"spark-nlp-display-entity-wrapper\" style=\"background-color: #5B4F7B\"><span class=\"spark-nlp-display-entity-name\">53 % </span><span class=\"spark-nlp-display-entity-type\">PERCENT</span></span><span class=\"spark-nlp-display-others\" style=\"background-color: white\"> answered that they didn't know whether the handover would be beneficial or harmful for </span><span class=\"spark-nlp-display-entity-wrapper\" style=\"background-color: #8AB26C\"><span class=\"spark-nlp-display-entity-name\">Macau's </span><span class=\"spark-nlp-display-entity-type\">GPE</span></span><span class=\"spark-nlp-display-others\" style=\"background-color: white\"> development. But when asked whether the </span><span class=\"spark-nlp-display-entity-wrapper\" style=\"background-color: #2D755D\"><span class=\"spark-nlp-display-entity-name\">one </span><span class=\"spark-nlp-display-entity-type\">CARDINAL</span></span><span class=\"spark-nlp-display-others\" style=\"background-color: white\"> country </span><span class=\"spark-nlp-display-entity-wrapper\" style=\"background-color: #2D755D\"><span class=\"spark-nlp-display-entity-name\">two </span><span class=\"spark-nlp-display-entity-type\">CARDINAL</span></span><span class=\"spark-nlp-display-others\" style=\"background-color: white\"> systems formula as used for </span><span class=\"spark-nlp-display-entity-wrapper\" style=\"background-color: #8AB26C\"><span class=\"spark-nlp-display-entity-name\">Hong Kong </span><span class=\"spark-nlp-display-entity-type\">GPE</span></span><span class=\"spark-nlp-display-others\" style=\"background-color: white\"> and </span><span class=\"spark-nlp-display-entity-wrapper\" style=\"background-color: #8AB26C\"><span class=\"spark-nlp-display-entity-name\">Macau </span><span class=\"spark-nlp-display-entity-type\">GPE</span></span><span class=\"spark-nlp-display-others\" style=\"background-color: white\"> was acceptable for </span><span class=\"spark-nlp-display-entity-wrapper\" style=\"background-color: #8AB26C\"><span class=\"spark-nlp-display-entity-name\">Taiwan </span><span class=\"spark-nlp-display-entity-type\">GPE</span></span><span class=\"spark-nlp-display-others\" style=\"background-color: white\"> </span><span class=\"spark-nlp-display-entity-wrapper\" style=\"background-color: #5B4F7B\"><span class=\"spark-nlp-display-entity-name\">59 % </span><span class=\"spark-nlp-display-entity-type\">PERCENT</span></span><span class=\"spark-nlp-display-others\" style=\"background-color: white\"> responded No   while </span><span class=\"spark-nlp-display-entity-wrapper\" style=\"background-color: #5B4F7B\"><span class=\"spark-nlp-display-entity-name\">27 % </span><span class=\"spark-nlp-display-entity-type\">PERCENT</span></span><span class=\"spark-nlp-display-others\" style=\"background-color: white\"> said that they didn't know.  As these results clearly indicate the people of </span><span class=\"spark-nlp-display-entity-wrapper\" style=\"background-color: #8AB26C\"><span class=\"spark-nlp-display-entity-name\">Taiwan </span><span class=\"spark-nlp-display-entity-type\">GPE</span></span><span class=\"spark-nlp-display-others\" style=\"background-color: white\"> still know little about </span><span class=\"spark-nlp-display-entity-wrapper\" style=\"background-color: #8AB26C\"><span class=\"spark-nlp-display-entity-name\">Macau </span><span class=\"spark-nlp-display-entity-type\">GPE</span></span><span class=\"spark-nlp-display-others\" style=\"background-color: white\"> in spite of existing exchanges and </span><span class=\"spark-nlp-display-entity-wrapper\" style=\"background-color: #2D755D\"><span class=\"spark-nlp-display-entity-name\">more than half </span><span class=\"spark-nlp-display-entity-type\">CARDINAL</span></span><span class=\"spark-nlp-display-others\" style=\"background-color: white\"> of them flatly reject </span><span class=\"spark-nlp-display-entity-wrapper\" style=\"background-color: #8AB26C\"><span class=\"spark-nlp-display-entity-name\">Beijing's </span><span class=\"spark-nlp-display-entity-type\">GPE</span></span><span class=\"spark-nlp-display-others\" style=\"background-color: white\"> </span><span class=\"spark-nlp-display-entity-wrapper\" style=\"background-color: #2D755D\"><span class=\"spark-nlp-display-entity-name\">one </span><span class=\"spark-nlp-display-entity-type\">CARDINAL</span></span><span class=\"spark-nlp-display-others\" style=\"background-color: white\"> country </span><span class=\"spark-nlp-display-entity-wrapper\" style=\"background-color: #2D755D\"><span class=\"spark-nlp-display-entity-name\">two </span><span class=\"spark-nlp-display-entity-type\">CARDINAL</span></span><span class=\"spark-nlp-display-others\" style=\"background-color: white\"> systems formula - so readily taken up in </span><span class=\"spark-nlp-display-entity-wrapper\" style=\"background-color: #8AB26C\"><span class=\"spark-nlp-display-entity-name\">Macau </span><span class=\"spark-nlp-display-entity-type\">GPE</span></span><span class=\"spark-nlp-display-others\" style=\"background-color: white\"> - as a solution to the </span><span class=\"spark-nlp-display-entity-wrapper\" style=\"background-color: #8AB26C\"><span class=\"spark-nlp-display-entity-name\">Taiwan </span><span class=\"spark-nlp-display-entity-type\">GPE</span></span><span class=\"spark-nlp-display-others\" style=\"background-color: white\"> question.</span></div>"
            ]
          },
          "metadata": {}
        }
      ]
    },
    {
      "cell_type": "markdown",
      "source": [
        "### `bert_large_token_classifier_ontonote` model"
      ],
      "metadata": {
        "id": "DR_rCZbPBScq"
      }
    },
    {
      "cell_type": "code",
      "source": [
        "model = \"bert_large_token_classifier_ontonote\"\n",
        "\n",
        "text = [\"\"\"After the Handover: Taiwan - Macau Relations in the New Millennium Last year nearly one million travelers from Taiwan passed through Macau Airport heading for mainland China or visiting Macau itself and accounting for 80 % of passengers using the airport. Around 1000 of Macau 's civil servants have studied in Taiwan and every year some 30 people travel from Macau to Taiwan for business or work along with more than 400 students. But against the backdrop of continued proclamations from the PRC about how Macau's 'one country two systems' arrangement sets an example for solving the Taiwan problem these figures along with the Taiwan - Macau exchanges that they represent have been willfully neglected by Macau's mainstream media. Macau and Taiwan: so near and yet so far. What are the connections that bind these two places and what are the opportunities for new developments in the wake of the 1999 handover? On December 19 1999 the eve of Macau's transfer of sovereignty the China Times in Taiwan published a survey on the Taiwanese public's views about Macau's return to Chinese control. According to the survey 31 % of people in Taiwan weren't even aware that Macau was about to be handed back to China while 53 % answered that they didn't know whether the handover would be beneficial or harmful for Macau's development. But when asked whether the one country two systems formula as used for Hong Kong and Macau was acceptable for Taiwan 59 % responded No   while 27 % said that they didn't know.  As these results clearly indicate the people of Taiwan still know little about Macau in spite of existing exchanges and more than half of them flatly reject Beijing's one country two systems formula - so readily taken up in Macau - as a solution to the Taiwan question.\"\"\"]\n",
        "\n",
        "get_entities(model, text)"
      ],
      "metadata": {
        "colab": {
          "base_uri": "https://localhost:8080/",
          "height": 1000
        },
        "id": "o2wZM0u19IRS",
        "outputId": "0abb831d-61aa-4d2c-e494-8a826e6c3704"
      },
      "execution_count": 8,
      "outputs": [
        {
          "output_type": "stream",
          "name": "stdout",
          "text": [
            "sentence_detector_dl download started this may take some time.\n",
            "Approximate size to download 514.9 KB\n",
            "[OK!]\n",
            "bert_large_token_classifier_ontonote download started this may take some time.\n",
            "Approximate size to download 1.2 GB\n",
            "[OK!]\n",
            "+----------------------------+---------+\n",
            "|chunk                       |ner_label|\n",
            "+----------------------------+---------+\n",
            "|Taiwan - Macau              |NORP     |\n",
            "|the New Millennium Last year|DATE     |\n",
            "|one million                 |CARDINAL |\n",
            "|Taiwan                      |GPE      |\n",
            "|Macau Airport               |FAC      |\n",
            "|China                       |GPE      |\n",
            "|Macau                       |GPE      |\n",
            "|80 %                        |PERCENT  |\n",
            "|1000                        |CARDINAL |\n",
            "|Macau                       |GPE      |\n",
            "|Taiwan                      |GPE      |\n",
            "|every year                  |DATE     |\n",
            "|30                          |CARDINAL |\n",
            "|Macau                       |GPE      |\n",
            "|Taiwan                      |GPE      |\n",
            "|than                        |CARDINAL |\n",
            "|400                         |CARDINAL |\n",
            "|PRC                         |ORG      |\n",
            "|Macau's                     |GPE      |\n",
            "|one                         |CARDINAL |\n",
            "+----------------------------+---------+\n",
            "only showing top 20 rows\n",
            "\n"
          ]
        },
        {
          "output_type": "display_data",
          "data": {
            "text/plain": [
              "<IPython.core.display.HTML object>"
            ],
            "text/html": [
              "\n",
              "<style>\n",
              "    @import url('https://fonts.googleapis.com/css2?family=Montserrat:wght@300;400;500;600;700&display=swap');\n",
              "    @import url('https://fonts.googleapis.com/css2?family=Vistol Regular:wght@300;400;500;600;700&display=swap');\n",
              "    \n",
              "    .spark-nlp-display-scroll-entities {\n",
              "        border: 1px solid #E7EDF0;\n",
              "        border-radius: 3px;\n",
              "        text-align: justify;\n",
              "        \n",
              "    }\n",
              "    .spark-nlp-display-scroll-entities span {  \n",
              "        font-size: 14px;\n",
              "        line-height: 24px;\n",
              "        color: #536B76;\n",
              "        font-family: 'Montserrat', sans-serif !important;\n",
              "    }\n",
              "    \n",
              "    .spark-nlp-display-entity-wrapper{\n",
              "    \n",
              "        display: inline-grid;\n",
              "        text-align: center;\n",
              "        border-radius: 4px;\n",
              "        margin: 0 2px 5px 2px;\n",
              "        padding: 1px\n",
              "    }\n",
              "    .spark-nlp-display-entity-name{\n",
              "        font-size: 14px;\n",
              "        line-height: 24px;\n",
              "        font-family: 'Montserrat', sans-serif !important;\n",
              "        \n",
              "        background: #f1f2f3;\n",
              "        border-width: medium;\n",
              "        text-align: center;\n",
              "        \n",
              "        font-weight: 400;\n",
              "        \n",
              "        border-radius: 5px;\n",
              "        padding: 2px 5px;\n",
              "        display: block;\n",
              "        margin: 3px 2px;\n",
              "    \n",
              "    }\n",
              "    .spark-nlp-display-entity-type{\n",
              "        font-size: 14px;\n",
              "        line-height: 24px;\n",
              "        color: #ffffff;\n",
              "        font-family: 'Montserrat', sans-serif !important;\n",
              "        \n",
              "        text-transform: uppercase;\n",
              "        \n",
              "        font-weight: 500;\n",
              "\n",
              "        display: block;\n",
              "        padding: 3px 5px;\n",
              "    }\n",
              "    \n",
              "    .spark-nlp-display-entity-resolution{\n",
              "        font-size: 14px;\n",
              "        line-height: 24px;\n",
              "        color: #ffffff;\n",
              "        font-family: 'Vistol Regular', sans-serif !important;\n",
              "        \n",
              "        text-transform: uppercase;\n",
              "        \n",
              "        font-weight: 500;\n",
              "\n",
              "        display: block;\n",
              "        padding: 3px 5px;\n",
              "    }\n",
              "    \n",
              "    .spark-nlp-display-others{\n",
              "        font-size: 14px;\n",
              "        line-height: 24px;\n",
              "        font-family: 'Montserrat', sans-serif !important;\n",
              "        \n",
              "        font-weight: 400;\n",
              "    }\n",
              "\n",
              "</style>\n",
              " <span class=\"spark-nlp-display-others\" style=\"background-color: white\">After the Handover: </span><span class=\"spark-nlp-display-entity-wrapper\" style=\"background-color: #7B1FC8\"><span class=\"spark-nlp-display-entity-name\">Taiwan - Macau </span><span class=\"spark-nlp-display-entity-type\">NORP</span></span><span class=\"spark-nlp-display-others\" style=\"background-color: white\"> Relations in </span><span class=\"spark-nlp-display-entity-wrapper\" style=\"background-color: #a6b1e1\"><span class=\"spark-nlp-display-entity-name\">the New Millennium Last year </span><span class=\"spark-nlp-display-entity-type\">DATE</span></span><span class=\"spark-nlp-display-others\" style=\"background-color: white\"> nearly </span><span class=\"spark-nlp-display-entity-wrapper\" style=\"background-color: #68540C\"><span class=\"spark-nlp-display-entity-name\">one million </span><span class=\"spark-nlp-display-entity-type\">CARDINAL</span></span><span class=\"spark-nlp-display-others\" style=\"background-color: white\"> travelers from </span><span class=\"spark-nlp-display-entity-wrapper\" style=\"background-color: #C876AB\"><span class=\"spark-nlp-display-entity-name\">Taiwan </span><span class=\"spark-nlp-display-entity-type\">GPE</span></span><span class=\"spark-nlp-display-others\" style=\"background-color: white\"> passed through </span><span class=\"spark-nlp-display-entity-wrapper\" style=\"background-color: #571295\"><span class=\"spark-nlp-display-entity-name\">Macau Airport </span><span class=\"spark-nlp-display-entity-type\">FAC</span></span><span class=\"spark-nlp-display-others\" style=\"background-color: white\"> heading for mainland </span><span class=\"spark-nlp-display-entity-wrapper\" style=\"background-color: #C876AB\"><span class=\"spark-nlp-display-entity-name\">China </span><span class=\"spark-nlp-display-entity-type\">GPE</span></span><span class=\"spark-nlp-display-others\" style=\"background-color: white\"> or visiting </span><span class=\"spark-nlp-display-entity-wrapper\" style=\"background-color: #C876AB\"><span class=\"spark-nlp-display-entity-name\">Macau </span><span class=\"spark-nlp-display-entity-type\">GPE</span></span><span class=\"spark-nlp-display-others\" style=\"background-color: white\"> itself and accounting for </span><span class=\"spark-nlp-display-entity-wrapper\" style=\"background-color: #460E1A\"><span class=\"spark-nlp-display-entity-name\">80 % </span><span class=\"spark-nlp-display-entity-type\">PERCENT</span></span><span class=\"spark-nlp-display-others\" style=\"background-color: white\"> of passengers using the airport. Around </span><span class=\"spark-nlp-display-entity-wrapper\" style=\"background-color: #68540C\"><span class=\"spark-nlp-display-entity-name\">1000 </span><span class=\"spark-nlp-display-entity-type\">CARDINAL</span></span><span class=\"spark-nlp-display-others\" style=\"background-color: white\"> of </span><span class=\"spark-nlp-display-entity-wrapper\" style=\"background-color: #C876AB\"><span class=\"spark-nlp-display-entity-name\">Macau </span><span class=\"spark-nlp-display-entity-type\">GPE</span></span><span class=\"spark-nlp-display-others\" style=\"background-color: white\"> 's civil servants have studied in </span><span class=\"spark-nlp-display-entity-wrapper\" style=\"background-color: #C876AB\"><span class=\"spark-nlp-display-entity-name\">Taiwan </span><span class=\"spark-nlp-display-entity-type\">GPE</span></span><span class=\"spark-nlp-display-others\" style=\"background-color: white\"> and </span><span class=\"spark-nlp-display-entity-wrapper\" style=\"background-color: #a6b1e1\"><span class=\"spark-nlp-display-entity-name\">every year </span><span class=\"spark-nlp-display-entity-type\">DATE</span></span><span class=\"spark-nlp-display-others\" style=\"background-color: white\"> some </span><span class=\"spark-nlp-display-entity-wrapper\" style=\"background-color: #68540C\"><span class=\"spark-nlp-display-entity-name\">30 </span><span class=\"spark-nlp-display-entity-type\">CARDINAL</span></span><span class=\"spark-nlp-display-others\" style=\"background-color: white\"> people travel from </span><span class=\"spark-nlp-display-entity-wrapper\" style=\"background-color: #C876AB\"><span class=\"spark-nlp-display-entity-name\">Macau </span><span class=\"spark-nlp-display-entity-type\">GPE</span></span><span class=\"spark-nlp-display-others\" style=\"background-color: white\"> to </span><span class=\"spark-nlp-display-entity-wrapper\" style=\"background-color: #C876AB\"><span class=\"spark-nlp-display-entity-name\">Taiwan </span><span class=\"spark-nlp-display-entity-type\">GPE</span></span><span class=\"spark-nlp-display-others\" style=\"background-color: white\"> for business or work along with more </span><span class=\"spark-nlp-display-entity-wrapper\" style=\"background-color: #68540C\"><span class=\"spark-nlp-display-entity-name\">than </span><span class=\"spark-nlp-display-entity-type\">CARDINAL</span></span><span class=\"spark-nlp-display-others\" style=\"background-color: white\"> </span><span class=\"spark-nlp-display-entity-wrapper\" style=\"background-color: #68540C\"><span class=\"spark-nlp-display-entity-name\">400 </span><span class=\"spark-nlp-display-entity-type\">CARDINAL</span></span><span class=\"spark-nlp-display-others\" style=\"background-color: white\"> students. But against the backdrop of continued proclamations from the </span><span class=\"spark-nlp-display-entity-wrapper\" style=\"background-color: #A038C3\"><span class=\"spark-nlp-display-entity-name\">PRC </span><span class=\"spark-nlp-display-entity-type\">ORG</span></span><span class=\"spark-nlp-display-others\" style=\"background-color: white\"> about how </span><span class=\"spark-nlp-display-entity-wrapper\" style=\"background-color: #C876AB\"><span class=\"spark-nlp-display-entity-name\">Macau's </span><span class=\"spark-nlp-display-entity-type\">GPE</span></span><span class=\"spark-nlp-display-others\" style=\"background-color: white\"> '</span><span class=\"spark-nlp-display-entity-wrapper\" style=\"background-color: #68540C\"><span class=\"spark-nlp-display-entity-name\">one </span><span class=\"spark-nlp-display-entity-type\">CARDINAL</span></span><span class=\"spark-nlp-display-others\" style=\"background-color: white\"> country </span><span class=\"spark-nlp-display-entity-wrapper\" style=\"background-color: #68540C\"><span class=\"spark-nlp-display-entity-name\">two </span><span class=\"spark-nlp-display-entity-type\">CARDINAL</span></span><span class=\"spark-nlp-display-others\" style=\"background-color: white\"> systems' arrangement sets an example for solving the </span><span class=\"spark-nlp-display-entity-wrapper\" style=\"background-color: #C876AB\"><span class=\"spark-nlp-display-entity-name\">Taiwan </span><span class=\"spark-nlp-display-entity-type\">GPE</span></span><span class=\"spark-nlp-display-others\" style=\"background-color: white\"> problem these figures along with the </span><span class=\"spark-nlp-display-entity-wrapper\" style=\"background-color: #7B1FC8\"><span class=\"spark-nlp-display-entity-name\">Taiwan - Macau </span><span class=\"spark-nlp-display-entity-type\">NORP</span></span><span class=\"spark-nlp-display-others\" style=\"background-color: white\"> exchanges that they represent have been willfully neglected by </span><span class=\"spark-nlp-display-entity-wrapper\" style=\"background-color: #C876AB\"><span class=\"spark-nlp-display-entity-name\">Macau's </span><span class=\"spark-nlp-display-entity-type\">GPE</span></span><span class=\"spark-nlp-display-others\" style=\"background-color: white\"> mainstream media. </span><span class=\"spark-nlp-display-entity-wrapper\" style=\"background-color: #C876AB\"><span class=\"spark-nlp-display-entity-name\">Macau </span><span class=\"spark-nlp-display-entity-type\">GPE</span></span><span class=\"spark-nlp-display-others\" style=\"background-color: white\"> and </span><span class=\"spark-nlp-display-entity-wrapper\" style=\"background-color: #C876AB\"><span class=\"spark-nlp-display-entity-name\">Taiwan </span><span class=\"spark-nlp-display-entity-type\">GPE</span></span><span class=\"spark-nlp-display-others\" style=\"background-color: white\">: so near and yet so far. What are the connections that bind these </span><span class=\"spark-nlp-display-entity-wrapper\" style=\"background-color: #68540C\"><span class=\"spark-nlp-display-entity-name\">two </span><span class=\"spark-nlp-display-entity-type\">CARDINAL</span></span><span class=\"spark-nlp-display-others\" style=\"background-color: white\"> places and what are the opportunities for new developments in the wake of the </span><span class=\"spark-nlp-display-entity-wrapper\" style=\"background-color: #a6b1e1\"><span class=\"spark-nlp-display-entity-name\">1999 </span><span class=\"spark-nlp-display-entity-type\">DATE</span></span><span class=\"spark-nlp-display-others\" style=\"background-color: white\"> handover? On </span><span class=\"spark-nlp-display-entity-wrapper\" style=\"background-color: #a6b1e1\"><span class=\"spark-nlp-display-entity-name\">December 19 1999 </span><span class=\"spark-nlp-display-entity-type\">DATE</span></span><span class=\"spark-nlp-display-others\" style=\"background-color: white\"> the eve of </span><span class=\"spark-nlp-display-entity-wrapper\" style=\"background-color: #C876AB\"><span class=\"spark-nlp-display-entity-name\">Macau's </span><span class=\"spark-nlp-display-entity-type\">GPE</span></span><span class=\"spark-nlp-display-others\" style=\"background-color: white\"> transfer of sovereignty </span><span class=\"spark-nlp-display-entity-wrapper\" style=\"background-color: #A038C3\"><span class=\"spark-nlp-display-entity-name\">the China Times </span><span class=\"spark-nlp-display-entity-type\">ORG</span></span><span class=\"spark-nlp-display-others\" style=\"background-color: white\"> in </span><span class=\"spark-nlp-display-entity-wrapper\" style=\"background-color: #C876AB\"><span class=\"spark-nlp-display-entity-name\">Taiwan </span><span class=\"spark-nlp-display-entity-type\">GPE</span></span><span class=\"spark-nlp-display-others\" style=\"background-color: white\"> published a survey on the </span><span class=\"spark-nlp-display-entity-wrapper\" style=\"background-color: #7B1FC8\"><span class=\"spark-nlp-display-entity-name\">Taiwanese </span><span class=\"spark-nlp-display-entity-type\">NORP</span></span><span class=\"spark-nlp-display-others\" style=\"background-color: white\"> public's views about </span><span class=\"spark-nlp-display-entity-wrapper\" style=\"background-color: #C876AB\"><span class=\"spark-nlp-display-entity-name\">Macau's </span><span class=\"spark-nlp-display-entity-type\">GPE</span></span><span class=\"spark-nlp-display-others\" style=\"background-color: white\"> return to </span><span class=\"spark-nlp-display-entity-wrapper\" style=\"background-color: #7B1FC8\"><span class=\"spark-nlp-display-entity-name\">Chinese </span><span class=\"spark-nlp-display-entity-type\">NORP</span></span><span class=\"spark-nlp-display-others\" style=\"background-color: white\"> control. According to the survey </span><span class=\"spark-nlp-display-entity-wrapper\" style=\"background-color: #460E1A\"><span class=\"spark-nlp-display-entity-name\">31 % </span><span class=\"spark-nlp-display-entity-type\">PERCENT</span></span><span class=\"spark-nlp-display-others\" style=\"background-color: white\"> of people in </span><span class=\"spark-nlp-display-entity-wrapper\" style=\"background-color: #C876AB\"><span class=\"spark-nlp-display-entity-name\">Taiwan </span><span class=\"spark-nlp-display-entity-type\">GPE</span></span><span class=\"spark-nlp-display-others\" style=\"background-color: white\"> weren't even aware that </span><span class=\"spark-nlp-display-entity-wrapper\" style=\"background-color: #C876AB\"><span class=\"spark-nlp-display-entity-name\">Macau </span><span class=\"spark-nlp-display-entity-type\">GPE</span></span><span class=\"spark-nlp-display-others\" style=\"background-color: white\"> was about to be handed back to </span><span class=\"spark-nlp-display-entity-wrapper\" style=\"background-color: #C876AB\"><span class=\"spark-nlp-display-entity-name\">China </span><span class=\"spark-nlp-display-entity-type\">GPE</span></span><span class=\"spark-nlp-display-others\" style=\"background-color: white\"> while </span><span class=\"spark-nlp-display-entity-wrapper\" style=\"background-color: #460E1A\"><span class=\"spark-nlp-display-entity-name\">53 % </span><span class=\"spark-nlp-display-entity-type\">PERCENT</span></span><span class=\"spark-nlp-display-others\" style=\"background-color: white\"> answered that they didn't know whether the handover would be beneficial or harmful for </span><span class=\"spark-nlp-display-entity-wrapper\" style=\"background-color: #C876AB\"><span class=\"spark-nlp-display-entity-name\">Macau's </span><span class=\"spark-nlp-display-entity-type\">GPE</span></span><span class=\"spark-nlp-display-others\" style=\"background-color: white\"> development. But when asked whether the </span><span class=\"spark-nlp-display-entity-wrapper\" style=\"background-color: #68540C\"><span class=\"spark-nlp-display-entity-name\">one </span><span class=\"spark-nlp-display-entity-type\">CARDINAL</span></span><span class=\"spark-nlp-display-others\" style=\"background-color: white\"> country </span><span class=\"spark-nlp-display-entity-wrapper\" style=\"background-color: #68540C\"><span class=\"spark-nlp-display-entity-name\">two </span><span class=\"spark-nlp-display-entity-type\">CARDINAL</span></span><span class=\"spark-nlp-display-others\" style=\"background-color: white\"> systems formula as used for </span><span class=\"spark-nlp-display-entity-wrapper\" style=\"background-color: #C876AB\"><span class=\"spark-nlp-display-entity-name\">Hong Kong </span><span class=\"spark-nlp-display-entity-type\">GPE</span></span><span class=\"spark-nlp-display-others\" style=\"background-color: white\"> and </span><span class=\"spark-nlp-display-entity-wrapper\" style=\"background-color: #C876AB\"><span class=\"spark-nlp-display-entity-name\">Macau </span><span class=\"spark-nlp-display-entity-type\">GPE</span></span><span class=\"spark-nlp-display-others\" style=\"background-color: white\"> was acceptable for </span><span class=\"spark-nlp-display-entity-wrapper\" style=\"background-color: #C876AB\"><span class=\"spark-nlp-display-entity-name\">Taiwan </span><span class=\"spark-nlp-display-entity-type\">GPE</span></span><span class=\"spark-nlp-display-others\" style=\"background-color: white\"> </span><span class=\"spark-nlp-display-entity-wrapper\" style=\"background-color: #460E1A\"><span class=\"spark-nlp-display-entity-name\">59 % </span><span class=\"spark-nlp-display-entity-type\">PERCENT</span></span><span class=\"spark-nlp-display-others\" style=\"background-color: white\"> responded No   while </span><span class=\"spark-nlp-display-entity-wrapper\" style=\"background-color: #460E1A\"><span class=\"spark-nlp-display-entity-name\">27 % </span><span class=\"spark-nlp-display-entity-type\">PERCENT</span></span><span class=\"spark-nlp-display-others\" style=\"background-color: white\"> said that they didn't know.  As these results clearly indicate the people of </span><span class=\"spark-nlp-display-entity-wrapper\" style=\"background-color: #C876AB\"><span class=\"spark-nlp-display-entity-name\">Taiwan </span><span class=\"spark-nlp-display-entity-type\">GPE</span></span><span class=\"spark-nlp-display-others\" style=\"background-color: white\"> still know little about </span><span class=\"spark-nlp-display-entity-wrapper\" style=\"background-color: #C876AB\"><span class=\"spark-nlp-display-entity-name\">Macau </span><span class=\"spark-nlp-display-entity-type\">GPE</span></span><span class=\"spark-nlp-display-others\" style=\"background-color: white\"> in spite of existing exchanges and more than half of them flatly reject </span><span class=\"spark-nlp-display-entity-wrapper\" style=\"background-color: #C876AB\"><span class=\"spark-nlp-display-entity-name\">Beijing's </span><span class=\"spark-nlp-display-entity-type\">GPE</span></span><span class=\"spark-nlp-display-others\" style=\"background-color: white\"> </span><span class=\"spark-nlp-display-entity-wrapper\" style=\"background-color: #68540C\"><span class=\"spark-nlp-display-entity-name\">one </span><span class=\"spark-nlp-display-entity-type\">CARDINAL</span></span><span class=\"spark-nlp-display-others\" style=\"background-color: white\"> country </span><span class=\"spark-nlp-display-entity-wrapper\" style=\"background-color: #68540C\"><span class=\"spark-nlp-display-entity-name\">two </span><span class=\"spark-nlp-display-entity-type\">CARDINAL</span></span><span class=\"spark-nlp-display-others\" style=\"background-color: white\"> systems formula - so readily taken up in </span><span class=\"spark-nlp-display-entity-wrapper\" style=\"background-color: #C876AB\"><span class=\"spark-nlp-display-entity-name\">Macau </span><span class=\"spark-nlp-display-entity-type\">GPE</span></span><span class=\"spark-nlp-display-others\" style=\"background-color: white\"> - as a solution to the </span><span class=\"spark-nlp-display-entity-wrapper\" style=\"background-color: #C876AB\"><span class=\"spark-nlp-display-entity-name\">Taiwan </span><span class=\"spark-nlp-display-entity-type\">GPE</span></span><span class=\"spark-nlp-display-others\" style=\"background-color: white\"> question.</span></div>"
            ]
          },
          "metadata": {}
        }
      ]
    },
    {
      "cell_type": "markdown",
      "source": [
        "### `bert_base_token_classifier_few_nerd` model"
      ],
      "metadata": {
        "id": "jniuRV3gEmVh"
      }
    },
    {
      "cell_type": "code",
      "source": [
        "model = \"bert_base_token_classifier_few_nerd\"\n",
        "\n",
        "text = [\"\"\"This rivalry intensified in 1919 when Arsenal were unexpectedly prompted the First Division, taking a place that Tottenham believed shuold be theirs.\"\"\"]\n",
        "\n",
        "get_entities(model, text)"
      ],
      "metadata": {
        "colab": {
          "base_uri": "https://localhost:8080/",
          "height": 301
        },
        "id": "cPQ9gbZE9IUT",
        "outputId": "20a203fd-07d6-4a63-f85e-3a8201c9347e"
      },
      "execution_count": 9,
      "outputs": [
        {
          "output_type": "stream",
          "name": "stdout",
          "text": [
            "sentence_detector_dl download started this may take some time.\n",
            "Approximate size to download 514.9 KB\n",
            "[OK!]\n",
            "bert_base_token_classifier_few_nerd download started this may take some time.\n",
            "Approximate size to download 385.6 MB\n",
            "[OK!]\n",
            "+---------+---------------------+\n",
            "|chunk    |ner_label            |\n",
            "+---------+---------------------+\n",
            "|Arsenal  |ganization-sportsteam|\n",
            "|Tottenham|ganization-sportsteam|\n",
            "+---------+---------------------+\n",
            "\n"
          ]
        },
        {
          "output_type": "display_data",
          "data": {
            "text/plain": [
              "<IPython.core.display.HTML object>"
            ],
            "text/html": [
              "\n",
              "<style>\n",
              "    @import url('https://fonts.googleapis.com/css2?family=Montserrat:wght@300;400;500;600;700&display=swap');\n",
              "    @import url('https://fonts.googleapis.com/css2?family=Vistol Regular:wght@300;400;500;600;700&display=swap');\n",
              "    \n",
              "    .spark-nlp-display-scroll-entities {\n",
              "        border: 1px solid #E7EDF0;\n",
              "        border-radius: 3px;\n",
              "        text-align: justify;\n",
              "        \n",
              "    }\n",
              "    .spark-nlp-display-scroll-entities span {  \n",
              "        font-size: 14px;\n",
              "        line-height: 24px;\n",
              "        color: #536B76;\n",
              "        font-family: 'Montserrat', sans-serif !important;\n",
              "    }\n",
              "    \n",
              "    .spark-nlp-display-entity-wrapper{\n",
              "    \n",
              "        display: inline-grid;\n",
              "        text-align: center;\n",
              "        border-radius: 4px;\n",
              "        margin: 0 2px 5px 2px;\n",
              "        padding: 1px\n",
              "    }\n",
              "    .spark-nlp-display-entity-name{\n",
              "        font-size: 14px;\n",
              "        line-height: 24px;\n",
              "        font-family: 'Montserrat', sans-serif !important;\n",
              "        \n",
              "        background: #f1f2f3;\n",
              "        border-width: medium;\n",
              "        text-align: center;\n",
              "        \n",
              "        font-weight: 400;\n",
              "        \n",
              "        border-radius: 5px;\n",
              "        padding: 2px 5px;\n",
              "        display: block;\n",
              "        margin: 3px 2px;\n",
              "    \n",
              "    }\n",
              "    .spark-nlp-display-entity-type{\n",
              "        font-size: 14px;\n",
              "        line-height: 24px;\n",
              "        color: #ffffff;\n",
              "        font-family: 'Montserrat', sans-serif !important;\n",
              "        \n",
              "        text-transform: uppercase;\n",
              "        \n",
              "        font-weight: 500;\n",
              "\n",
              "        display: block;\n",
              "        padding: 3px 5px;\n",
              "    }\n",
              "    \n",
              "    .spark-nlp-display-entity-resolution{\n",
              "        font-size: 14px;\n",
              "        line-height: 24px;\n",
              "        color: #ffffff;\n",
              "        font-family: 'Vistol Regular', sans-serif !important;\n",
              "        \n",
              "        text-transform: uppercase;\n",
              "        \n",
              "        font-weight: 500;\n",
              "\n",
              "        display: block;\n",
              "        padding: 3px 5px;\n",
              "    }\n",
              "    \n",
              "    .spark-nlp-display-others{\n",
              "        font-size: 14px;\n",
              "        line-height: 24px;\n",
              "        font-family: 'Montserrat', sans-serif !important;\n",
              "        \n",
              "        font-weight: 400;\n",
              "    }\n",
              "\n",
              "</style>\n",
              " <span class=\"spark-nlp-display-others\" style=\"background-color: white\">This rivalry intensified in 1919 when </span><span class=\"spark-nlp-display-entity-wrapper\" style=\"background-color: #786F38\"><span class=\"spark-nlp-display-entity-name\">Arsenal </span><span class=\"spark-nlp-display-entity-type\">ganization-sportsteam</span></span><span class=\"spark-nlp-display-others\" style=\"background-color: white\"> were unexpectedly prompted the First Division, taking a place that </span><span class=\"spark-nlp-display-entity-wrapper\" style=\"background-color: #786F38\"><span class=\"spark-nlp-display-entity-name\">Tottenham </span><span class=\"spark-nlp-display-entity-type\">ganization-sportsteam</span></span><span class=\"spark-nlp-display-others\" style=\"background-color: white\"> believed shuold be theirs.</span></div>"
            ]
          },
          "metadata": {}
        }
      ]
    },
    {
      "cell_type": "markdown",
      "source": [
        "### `bert_token_classifier_scandi_ner` model"
      ],
      "metadata": {
        "id": "a525YkqYJ5bb"
      }
    },
    {
      "cell_type": "code",
      "execution_count": 10,
      "metadata": {
        "id": "8qlAXVdMIA0E",
        "colab": {
          "base_uri": "https://localhost:8080/",
          "height": 334
        },
        "outputId": "8a4a02db-8a02-47f0-9dd6-53c76b22e7e4"
      },
      "outputs": [
        {
          "output_type": "stream",
          "name": "stdout",
          "text": [
            "sentence_detector_dl download started this may take some time.\n",
            "Approximate size to download 514.9 KB\n",
            "[OK!]\n",
            "bert_token_classifier_scandi_ner download started this may take some time.\n",
            "Approximate size to download 636 MB\n",
            "[OK!]\n",
            "+-------------------+---------+\n",
            "|chunk              |ner_label|\n",
            "+-------------------+---------+\n",
            "|Hans               |PER      |\n",
            "|Statens Universitet|ORG      |\n",
            "|København          |LOC      |\n",
            "|københavner        |MISC     |\n",
            "+-------------------+---------+\n",
            "\n"
          ]
        },
        {
          "output_type": "display_data",
          "data": {
            "text/plain": [
              "<IPython.core.display.HTML object>"
            ],
            "text/html": [
              "\n",
              "<style>\n",
              "    @import url('https://fonts.googleapis.com/css2?family=Montserrat:wght@300;400;500;600;700&display=swap');\n",
              "    @import url('https://fonts.googleapis.com/css2?family=Vistol Regular:wght@300;400;500;600;700&display=swap');\n",
              "    \n",
              "    .spark-nlp-display-scroll-entities {\n",
              "        border: 1px solid #E7EDF0;\n",
              "        border-radius: 3px;\n",
              "        text-align: justify;\n",
              "        \n",
              "    }\n",
              "    .spark-nlp-display-scroll-entities span {  \n",
              "        font-size: 14px;\n",
              "        line-height: 24px;\n",
              "        color: #536B76;\n",
              "        font-family: 'Montserrat', sans-serif !important;\n",
              "    }\n",
              "    \n",
              "    .spark-nlp-display-entity-wrapper{\n",
              "    \n",
              "        display: inline-grid;\n",
              "        text-align: center;\n",
              "        border-radius: 4px;\n",
              "        margin: 0 2px 5px 2px;\n",
              "        padding: 1px\n",
              "    }\n",
              "    .spark-nlp-display-entity-name{\n",
              "        font-size: 14px;\n",
              "        line-height: 24px;\n",
              "        font-family: 'Montserrat', sans-serif !important;\n",
              "        \n",
              "        background: #f1f2f3;\n",
              "        border-width: medium;\n",
              "        text-align: center;\n",
              "        \n",
              "        font-weight: 400;\n",
              "        \n",
              "        border-radius: 5px;\n",
              "        padding: 2px 5px;\n",
              "        display: block;\n",
              "        margin: 3px 2px;\n",
              "    \n",
              "    }\n",
              "    .spark-nlp-display-entity-type{\n",
              "        font-size: 14px;\n",
              "        line-height: 24px;\n",
              "        color: #ffffff;\n",
              "        font-family: 'Montserrat', sans-serif !important;\n",
              "        \n",
              "        text-transform: uppercase;\n",
              "        \n",
              "        font-weight: 500;\n",
              "\n",
              "        display: block;\n",
              "        padding: 3px 5px;\n",
              "    }\n",
              "    \n",
              "    .spark-nlp-display-entity-resolution{\n",
              "        font-size: 14px;\n",
              "        line-height: 24px;\n",
              "        color: #ffffff;\n",
              "        font-family: 'Vistol Regular', sans-serif !important;\n",
              "        \n",
              "        text-transform: uppercase;\n",
              "        \n",
              "        font-weight: 500;\n",
              "\n",
              "        display: block;\n",
              "        padding: 3px 5px;\n",
              "    }\n",
              "    \n",
              "    .spark-nlp-display-others{\n",
              "        font-size: 14px;\n",
              "        line-height: 24px;\n",
              "        font-family: 'Montserrat', sans-serif !important;\n",
              "        \n",
              "        font-weight: 400;\n",
              "    }\n",
              "\n",
              "</style>\n",
              " <span class=\"spark-nlp-display-entity-wrapper\" style=\"background-color: #4958BF\"><span class=\"spark-nlp-display-entity-name\">Hans </span><span class=\"spark-nlp-display-entity-type\">PER</span></span><span class=\"spark-nlp-display-others\" style=\"background-color: white\"> er professor ved </span><span class=\"spark-nlp-display-entity-wrapper\" style=\"background-color: #124E53\"><span class=\"spark-nlp-display-entity-name\">Statens Universitet </span><span class=\"spark-nlp-display-entity-type\">ORG</span></span><span class=\"spark-nlp-display-others\" style=\"background-color: white\">, som ligger i </span><span class=\"spark-nlp-display-entity-wrapper\" style=\"background-color: #057C14\"><span class=\"spark-nlp-display-entity-name\">København </span><span class=\"spark-nlp-display-entity-type\">LOC</span></span><span class=\"spark-nlp-display-others\" style=\"background-color: white\">, og han er en rigtig </span><span class=\"spark-nlp-display-entity-wrapper\" style=\"background-color: #0E2B7F\"><span class=\"spark-nlp-display-entity-name\">københavner </span><span class=\"spark-nlp-display-entity-type\">MISC</span></span><span class=\"spark-nlp-display-others\" style=\"background-color: white\">.</span></div>"
            ]
          },
          "metadata": {}
        }
      ],
      "source": [
        "model = \"bert_token_classifier_scandi_ner\"\n",
        "\n",
        "text = [\"\"\"Hans er professor ved Statens Universitet, som ligger i København, og han er en rigtig københavner.\"\"\"]\n",
        "\n",
        "get_entities(model, text, lang=\"xx\")"
      ]
    },
    {
      "cell_type": "markdown",
      "source": [
        "### `bert_token_classifier_dutch_udlassy_ner` model"
      ],
      "metadata": {
        "id": "Smx5_pfgLDMm"
      }
    },
    {
      "cell_type": "code",
      "source": [
        "model = \"bert_token_classifier_dutch_udlassy_ner\"\n",
        "\n",
        "text = [\"\"\"William Henry Gates III (geboren 28 oktober 1955) is een Amerikaanse zakenmagnaat, softwareontwikkelaar, investeerder en filantroop. Hij is vooral bekend als medeoprichter van Microsoft Corporation. Tijdens zijn carrière bij Microsoft bekleedde Gates de functies van voorzitter, chief executive officer (CEO), president en chief software architect, terwijl hij ook de grootste individuele aandeelhouder was tot mei 2014. Hij is een van de bekendste ondernemers en pioniers van de microcomputerrevolutie van de jaren 70 en 80. Gates, geboren en getogen in Seattle, Washington, richtte in 1975 samen met jeugdvriend Paul Allen Microsoft op in Albuquerque, New Mexico; het werd \"s werelds grootste personal computer softwarebedrijf. Gates leidde het bedrijf als voorzitter en CEO totdat hij in januari 2000 aftrad als CEO, maar hij bleef voorzitter en werd chief software architect. Eind jaren negentig kreeg Gates kritiek vanwege zijn zakelijke tactieken, die als concurrentiebeperkend werden beschouwd. Deze mening is bevestigd door tal van gerechtelijke uitspraken. In juni 2006 kondigde Gates aan dat hij zou overgaan naar een parttime functie bij Microsoft en fulltime gaan werken bij de Bill&Melinda Gates Foundation, de particuliere liefdadigheidsstichting die hij en zijn vrouw, Melinda Gates, in 2000 hebben opgericht. Hij droeg geleidelijk zijn taken over aan Ray Ozzie en Craig Mundie. Hij trad in februari 2014 af als voorzitter van Microsoft en nam een nieuwe functie aan als technologieadviseur ter ondersteuning van de nieuw aangestelde CEO Satya Nadella.\"\"\"]\n",
        "\n",
        "get_entities(model, text, lang=\"nl\")"
      ],
      "metadata": {
        "colab": {
          "base_uri": "https://localhost:8080/",
          "height": 1000
        },
        "id": "Mqu0q8LRLIWP",
        "outputId": "9cdc8bbf-3465-4362-8758-c2341ec7a643"
      },
      "execution_count": 11,
      "outputs": [
        {
          "output_type": "stream",
          "name": "stdout",
          "text": [
            "sentence_detector_dl download started this may take some time.\n",
            "Approximate size to download 514.9 KB\n",
            "[OK!]\n",
            "bert_token_classifier_dutch_udlassy_ner download started this may take some time.\n",
            "Approximate size to download 388.5 MB\n",
            "[OK!]\n",
            "+-----------------------+---------+\n",
            "|chunk                  |ner_label|\n",
            "+-----------------------+---------+\n",
            "|William Henry Gates III|PERSON   |\n",
            "|28 oktober 1955        |DATE     |\n",
            "|Amerikaanse            |NORP     |\n",
            "|Microsoft Corporation  |ORG      |\n",
            "|Microsoft              |ORG      |\n",
            "|Gates                  |PERSON   |\n",
            "|mei 2014               |DATE     |\n",
            "|jaren 70 en 80         |DATE     |\n",
            "|Gates                  |PERSON   |\n",
            "|Seattle                |GPE      |\n",
            "|Washington             |GPE      |\n",
            "|1975                   |DATE     |\n",
            "|Paul Allen             |PERSON   |\n",
            "|Microsoft              |ORG      |\n",
            "|Albuquerque            |GPE      |\n",
            "|New Mexico             |GPE      |\n",
            "|Gates                  |PERSON   |\n",
            "|januari 2000           |DATE     |\n",
            "|jaren negentig         |DATE     |\n",
            "|Gates                  |PERSON   |\n",
            "+-----------------------+---------+\n",
            "only showing top 20 rows\n",
            "\n"
          ]
        },
        {
          "output_type": "display_data",
          "data": {
            "text/plain": [
              "<IPython.core.display.HTML object>"
            ],
            "text/html": [
              "\n",
              "<style>\n",
              "    @import url('https://fonts.googleapis.com/css2?family=Montserrat:wght@300;400;500;600;700&display=swap');\n",
              "    @import url('https://fonts.googleapis.com/css2?family=Vistol Regular:wght@300;400;500;600;700&display=swap');\n",
              "    \n",
              "    .spark-nlp-display-scroll-entities {\n",
              "        border: 1px solid #E7EDF0;\n",
              "        border-radius: 3px;\n",
              "        text-align: justify;\n",
              "        \n",
              "    }\n",
              "    .spark-nlp-display-scroll-entities span {  \n",
              "        font-size: 14px;\n",
              "        line-height: 24px;\n",
              "        color: #536B76;\n",
              "        font-family: 'Montserrat', sans-serif !important;\n",
              "    }\n",
              "    \n",
              "    .spark-nlp-display-entity-wrapper{\n",
              "    \n",
              "        display: inline-grid;\n",
              "        text-align: center;\n",
              "        border-radius: 4px;\n",
              "        margin: 0 2px 5px 2px;\n",
              "        padding: 1px\n",
              "    }\n",
              "    .spark-nlp-display-entity-name{\n",
              "        font-size: 14px;\n",
              "        line-height: 24px;\n",
              "        font-family: 'Montserrat', sans-serif !important;\n",
              "        \n",
              "        background: #f1f2f3;\n",
              "        border-width: medium;\n",
              "        text-align: center;\n",
              "        \n",
              "        font-weight: 400;\n",
              "        \n",
              "        border-radius: 5px;\n",
              "        padding: 2px 5px;\n",
              "        display: block;\n",
              "        margin: 3px 2px;\n",
              "    \n",
              "    }\n",
              "    .spark-nlp-display-entity-type{\n",
              "        font-size: 14px;\n",
              "        line-height: 24px;\n",
              "        color: #ffffff;\n",
              "        font-family: 'Montserrat', sans-serif !important;\n",
              "        \n",
              "        text-transform: uppercase;\n",
              "        \n",
              "        font-weight: 500;\n",
              "\n",
              "        display: block;\n",
              "        padding: 3px 5px;\n",
              "    }\n",
              "    \n",
              "    .spark-nlp-display-entity-resolution{\n",
              "        font-size: 14px;\n",
              "        line-height: 24px;\n",
              "        color: #ffffff;\n",
              "        font-family: 'Vistol Regular', sans-serif !important;\n",
              "        \n",
              "        text-transform: uppercase;\n",
              "        \n",
              "        font-weight: 500;\n",
              "\n",
              "        display: block;\n",
              "        padding: 3px 5px;\n",
              "    }\n",
              "    \n",
              "    .spark-nlp-display-others{\n",
              "        font-size: 14px;\n",
              "        line-height: 24px;\n",
              "        font-family: 'Montserrat', sans-serif !important;\n",
              "        \n",
              "        font-weight: 400;\n",
              "    }\n",
              "\n",
              "</style>\n",
              " <span class=\"spark-nlp-display-entity-wrapper\" style=\"background-color: #ABB529\"><span class=\"spark-nlp-display-entity-name\">William Henry Gates III </span><span class=\"spark-nlp-display-entity-type\">PERSON</span></span><span class=\"spark-nlp-display-others\" style=\"background-color: white\"> (geboren </span><span class=\"spark-nlp-display-entity-wrapper\" style=\"background-color: #a6b1e1\"><span class=\"spark-nlp-display-entity-name\">28 oktober 1955 </span><span class=\"spark-nlp-display-entity-type\">DATE</span></span><span class=\"spark-nlp-display-others\" style=\"background-color: white\">) is een </span><span class=\"spark-nlp-display-entity-wrapper\" style=\"background-color: #1E8B51\"><span class=\"spark-nlp-display-entity-name\">Amerikaanse </span><span class=\"spark-nlp-display-entity-type\">NORP</span></span><span class=\"spark-nlp-display-others\" style=\"background-color: white\"> zakenmagnaat, softwareontwikkelaar, investeerder en filantroop. Hij is vooral bekend als medeoprichter van </span><span class=\"spark-nlp-display-entity-wrapper\" style=\"background-color: #07977E\"><span class=\"spark-nlp-display-entity-name\">Microsoft Corporation </span><span class=\"spark-nlp-display-entity-type\">ORG</span></span><span class=\"spark-nlp-display-others\" style=\"background-color: white\">. Tijdens zijn carrière bij </span><span class=\"spark-nlp-display-entity-wrapper\" style=\"background-color: #07977E\"><span class=\"spark-nlp-display-entity-name\">Microsoft </span><span class=\"spark-nlp-display-entity-type\">ORG</span></span><span class=\"spark-nlp-display-others\" style=\"background-color: white\"> bekleedde </span><span class=\"spark-nlp-display-entity-wrapper\" style=\"background-color: #ABB529\"><span class=\"spark-nlp-display-entity-name\">Gates </span><span class=\"spark-nlp-display-entity-type\">PERSON</span></span><span class=\"spark-nlp-display-others\" style=\"background-color: white\"> de functies van voorzitter, chief executive officer (CEO), president en chief software architect, terwijl hij ook de grootste individuele aandeelhouder was tot </span><span class=\"spark-nlp-display-entity-wrapper\" style=\"background-color: #a6b1e1\"><span class=\"spark-nlp-display-entity-name\">mei 2014 </span><span class=\"spark-nlp-display-entity-type\">DATE</span></span><span class=\"spark-nlp-display-others\" style=\"background-color: white\">. Hij is een van de bekendste ondernemers en pioniers van de microcomputerrevolutie van de </span><span class=\"spark-nlp-display-entity-wrapper\" style=\"background-color: #a6b1e1\"><span class=\"spark-nlp-display-entity-name\">jaren 70 en 80 </span><span class=\"spark-nlp-display-entity-type\">DATE</span></span><span class=\"spark-nlp-display-others\" style=\"background-color: white\">. </span><span class=\"spark-nlp-display-entity-wrapper\" style=\"background-color: #ABB529\"><span class=\"spark-nlp-display-entity-name\">Gates </span><span class=\"spark-nlp-display-entity-type\">PERSON</span></span><span class=\"spark-nlp-display-others\" style=\"background-color: white\">, geboren en getogen in </span><span class=\"spark-nlp-display-entity-wrapper\" style=\"background-color: #006062\"><span class=\"spark-nlp-display-entity-name\">Seattle </span><span class=\"spark-nlp-display-entity-type\">GPE</span></span><span class=\"spark-nlp-display-others\" style=\"background-color: white\">, </span><span class=\"spark-nlp-display-entity-wrapper\" style=\"background-color: #006062\"><span class=\"spark-nlp-display-entity-name\">Washington </span><span class=\"spark-nlp-display-entity-type\">GPE</span></span><span class=\"spark-nlp-display-others\" style=\"background-color: white\">, richtte in </span><span class=\"spark-nlp-display-entity-wrapper\" style=\"background-color: #a6b1e1\"><span class=\"spark-nlp-display-entity-name\">1975 </span><span class=\"spark-nlp-display-entity-type\">DATE</span></span><span class=\"spark-nlp-display-others\" style=\"background-color: white\"> samen met jeugdvriend </span><span class=\"spark-nlp-display-entity-wrapper\" style=\"background-color: #ABB529\"><span class=\"spark-nlp-display-entity-name\">Paul Allen </span><span class=\"spark-nlp-display-entity-type\">PERSON</span></span><span class=\"spark-nlp-display-others\" style=\"background-color: white\"> </span><span class=\"spark-nlp-display-entity-wrapper\" style=\"background-color: #07977E\"><span class=\"spark-nlp-display-entity-name\">Microsoft </span><span class=\"spark-nlp-display-entity-type\">ORG</span></span><span class=\"spark-nlp-display-others\" style=\"background-color: white\"> op in </span><span class=\"spark-nlp-display-entity-wrapper\" style=\"background-color: #006062\"><span class=\"spark-nlp-display-entity-name\">Albuquerque </span><span class=\"spark-nlp-display-entity-type\">GPE</span></span><span class=\"spark-nlp-display-others\" style=\"background-color: white\">, </span><span class=\"spark-nlp-display-entity-wrapper\" style=\"background-color: #006062\"><span class=\"spark-nlp-display-entity-name\">New Mexico </span><span class=\"spark-nlp-display-entity-type\">GPE</span></span><span class=\"spark-nlp-display-others\" style=\"background-color: white\">; het werd \"s werelds grootste personal computer softwarebedrijf. </span><span class=\"spark-nlp-display-entity-wrapper\" style=\"background-color: #ABB529\"><span class=\"spark-nlp-display-entity-name\">Gates </span><span class=\"spark-nlp-display-entity-type\">PERSON</span></span><span class=\"spark-nlp-display-others\" style=\"background-color: white\"> leidde het bedrijf als voorzitter en CEO totdat hij in </span><span class=\"spark-nlp-display-entity-wrapper\" style=\"background-color: #a6b1e1\"><span class=\"spark-nlp-display-entity-name\">januari 2000 </span><span class=\"spark-nlp-display-entity-type\">DATE</span></span><span class=\"spark-nlp-display-others\" style=\"background-color: white\"> aftrad als CEO, maar hij bleef voorzitter en werd chief software architect. Eind </span><span class=\"spark-nlp-display-entity-wrapper\" style=\"background-color: #a6b1e1\"><span class=\"spark-nlp-display-entity-name\">jaren negentig </span><span class=\"spark-nlp-display-entity-type\">DATE</span></span><span class=\"spark-nlp-display-others\" style=\"background-color: white\"> kreeg </span><span class=\"spark-nlp-display-entity-wrapper\" style=\"background-color: #ABB529\"><span class=\"spark-nlp-display-entity-name\">Gates </span><span class=\"spark-nlp-display-entity-type\">PERSON</span></span><span class=\"spark-nlp-display-others\" style=\"background-color: white\"> kritiek vanwege zijn zakelijke tactieken, die als concurrentiebeperkend werden beschouwd. </span><span class=\"spark-nlp-display-entity-wrapper\" style=\"background-color: #07977E\"><span class=\"spark-nlp-display-entity-name\">Deze </span><span class=\"spark-nlp-display-entity-type\">ORG</span></span><span class=\"spark-nlp-display-others\" style=\"background-color: white\"> mening is bevestigd door tal van gerechtelijke uitspraken. In </span><span class=\"spark-nlp-display-entity-wrapper\" style=\"background-color: #a6b1e1\"><span class=\"spark-nlp-display-entity-name\">juni 2006 </span><span class=\"spark-nlp-display-entity-type\">DATE</span></span><span class=\"spark-nlp-display-others\" style=\"background-color: white\"> kondigde </span><span class=\"spark-nlp-display-entity-wrapper\" style=\"background-color: #ABB529\"><span class=\"spark-nlp-display-entity-name\">Gates </span><span class=\"spark-nlp-display-entity-type\">PERSON</span></span><span class=\"spark-nlp-display-others\" style=\"background-color: white\"> aan dat hij zou overgaan naar een parttime functie bij </span><span class=\"spark-nlp-display-entity-wrapper\" style=\"background-color: #07977E\"><span class=\"spark-nlp-display-entity-name\">Microsoft </span><span class=\"spark-nlp-display-entity-type\">ORG</span></span><span class=\"spark-nlp-display-others\" style=\"background-color: white\"> en fulltime gaan werken bij de </span><span class=\"spark-nlp-display-entity-wrapper\" style=\"background-color: #07977E\"><span class=\"spark-nlp-display-entity-name\">Bill&Melinda Gates Foundation </span><span class=\"spark-nlp-display-entity-type\">ORG</span></span><span class=\"spark-nlp-display-others\" style=\"background-color: white\">, de particuliere liefdadigheidsstichting die hij en zijn vrouw, </span><span class=\"spark-nlp-display-entity-wrapper\" style=\"background-color: #ABB529\"><span class=\"spark-nlp-display-entity-name\">Melinda Gates </span><span class=\"spark-nlp-display-entity-type\">PERSON</span></span><span class=\"spark-nlp-display-others\" style=\"background-color: white\">, in </span><span class=\"spark-nlp-display-entity-wrapper\" style=\"background-color: #a6b1e1\"><span class=\"spark-nlp-display-entity-name\">2000 </span><span class=\"spark-nlp-display-entity-type\">DATE</span></span><span class=\"spark-nlp-display-others\" style=\"background-color: white\"> hebben opgericht. Hij droeg geleidelijk zijn taken over aan </span><span class=\"spark-nlp-display-entity-wrapper\" style=\"background-color: #ABB529\"><span class=\"spark-nlp-display-entity-name\">Ray Ozzie </span><span class=\"spark-nlp-display-entity-type\">PERSON</span></span><span class=\"spark-nlp-display-others\" style=\"background-color: white\"> en </span><span class=\"spark-nlp-display-entity-wrapper\" style=\"background-color: #ABB529\"><span class=\"spark-nlp-display-entity-name\">Craig Mundie </span><span class=\"spark-nlp-display-entity-type\">PERSON</span></span><span class=\"spark-nlp-display-others\" style=\"background-color: white\">. Hij trad in </span><span class=\"spark-nlp-display-entity-wrapper\" style=\"background-color: #a6b1e1\"><span class=\"spark-nlp-display-entity-name\">februari 2014 </span><span class=\"spark-nlp-display-entity-type\">DATE</span></span><span class=\"spark-nlp-display-others\" style=\"background-color: white\"> af als voorzitter van </span><span class=\"spark-nlp-display-entity-wrapper\" style=\"background-color: #07977E\"><span class=\"spark-nlp-display-entity-name\">Microsoft </span><span class=\"spark-nlp-display-entity-type\">ORG</span></span><span class=\"spark-nlp-display-others\" style=\"background-color: white\"> en nam een nieuwe functie aan als technologieadviseur ter ondersteuning van de nieuw aangestelde CEO </span><span class=\"spark-nlp-display-entity-wrapper\" style=\"background-color: #ABB529\"><span class=\"spark-nlp-display-entity-name\">Satya Nadella </span><span class=\"spark-nlp-display-entity-type\">PERSON</span></span><span class=\"spark-nlp-display-others\" style=\"background-color: white\">.</span></div>"
            ]
          },
          "metadata": {}
        }
      ]
    },
    {
      "cell_type": "markdown",
      "source": [
        "### `bert_token_classifier_spanish_ner` model"
      ],
      "metadata": {
        "id": "zP48_TcLNU0p"
      }
    },
    {
      "cell_type": "code",
      "source": [
        "model = \"bert_token_classifier_spanish_ner\"\n",
        "\n",
        "text = [\"\"\"Me llamo Antonio y trabajo en la fábrica de Mercedes-Benz en Madrid.\"\"\"]\n",
        "\n",
        "get_entities(model, text, lang=\"es\")"
      ],
      "metadata": {
        "colab": {
          "base_uri": "https://localhost:8080/",
          "height": 317
        },
        "id": "Np5o4dejNVKD",
        "outputId": "899bb2c6-8c2a-49f2-9d19-f93d968cbc3f"
      },
      "execution_count": 12,
      "outputs": [
        {
          "output_type": "stream",
          "name": "stdout",
          "text": [
            "sentence_detector_dl download started this may take some time.\n",
            "Approximate size to download 514.9 KB\n",
            "[OK!]\n",
            "bert_token_classifier_spanish_ner download started this may take some time.\n",
            "Approximate size to download 390.9 MB\n",
            "[OK!]\n",
            "+-------------+---------+\n",
            "|chunk        |ner_label|\n",
            "+-------------+---------+\n",
            "|Antonio      |PER      |\n",
            "|Mercedes-Benz|ORG      |\n",
            "|Madrid       |LOC      |\n",
            "+-------------+---------+\n",
            "\n"
          ]
        },
        {
          "output_type": "display_data",
          "data": {
            "text/plain": [
              "<IPython.core.display.HTML object>"
            ],
            "text/html": [
              "\n",
              "<style>\n",
              "    @import url('https://fonts.googleapis.com/css2?family=Montserrat:wght@300;400;500;600;700&display=swap');\n",
              "    @import url('https://fonts.googleapis.com/css2?family=Vistol Regular:wght@300;400;500;600;700&display=swap');\n",
              "    \n",
              "    .spark-nlp-display-scroll-entities {\n",
              "        border: 1px solid #E7EDF0;\n",
              "        border-radius: 3px;\n",
              "        text-align: justify;\n",
              "        \n",
              "    }\n",
              "    .spark-nlp-display-scroll-entities span {  \n",
              "        font-size: 14px;\n",
              "        line-height: 24px;\n",
              "        color: #536B76;\n",
              "        font-family: 'Montserrat', sans-serif !important;\n",
              "    }\n",
              "    \n",
              "    .spark-nlp-display-entity-wrapper{\n",
              "    \n",
              "        display: inline-grid;\n",
              "        text-align: center;\n",
              "        border-radius: 4px;\n",
              "        margin: 0 2px 5px 2px;\n",
              "        padding: 1px\n",
              "    }\n",
              "    .spark-nlp-display-entity-name{\n",
              "        font-size: 14px;\n",
              "        line-height: 24px;\n",
              "        font-family: 'Montserrat', sans-serif !important;\n",
              "        \n",
              "        background: #f1f2f3;\n",
              "        border-width: medium;\n",
              "        text-align: center;\n",
              "        \n",
              "        font-weight: 400;\n",
              "        \n",
              "        border-radius: 5px;\n",
              "        padding: 2px 5px;\n",
              "        display: block;\n",
              "        margin: 3px 2px;\n",
              "    \n",
              "    }\n",
              "    .spark-nlp-display-entity-type{\n",
              "        font-size: 14px;\n",
              "        line-height: 24px;\n",
              "        color: #ffffff;\n",
              "        font-family: 'Montserrat', sans-serif !important;\n",
              "        \n",
              "        text-transform: uppercase;\n",
              "        \n",
              "        font-weight: 500;\n",
              "\n",
              "        display: block;\n",
              "        padding: 3px 5px;\n",
              "    }\n",
              "    \n",
              "    .spark-nlp-display-entity-resolution{\n",
              "        font-size: 14px;\n",
              "        line-height: 24px;\n",
              "        color: #ffffff;\n",
              "        font-family: 'Vistol Regular', sans-serif !important;\n",
              "        \n",
              "        text-transform: uppercase;\n",
              "        \n",
              "        font-weight: 500;\n",
              "\n",
              "        display: block;\n",
              "        padding: 3px 5px;\n",
              "    }\n",
              "    \n",
              "    .spark-nlp-display-others{\n",
              "        font-size: 14px;\n",
              "        line-height: 24px;\n",
              "        font-family: 'Montserrat', sans-serif !important;\n",
              "        \n",
              "        font-weight: 400;\n",
              "    }\n",
              "\n",
              "</style>\n",
              " <span class=\"spark-nlp-display-others\" style=\"background-color: white\">Me llamo </span><span class=\"spark-nlp-display-entity-wrapper\" style=\"background-color: #1C6D35\"><span class=\"spark-nlp-display-entity-name\">Antonio </span><span class=\"spark-nlp-display-entity-type\">PER</span></span><span class=\"spark-nlp-display-others\" style=\"background-color: white\"> y trabajo en la fábrica de </span><span class=\"spark-nlp-display-entity-wrapper\" style=\"background-color: #0FC795\"><span class=\"spark-nlp-display-entity-name\">Mercedes-Benz </span><span class=\"spark-nlp-display-entity-type\">ORG</span></span><span class=\"spark-nlp-display-others\" style=\"background-color: white\"> en </span><span class=\"spark-nlp-display-entity-wrapper\" style=\"background-color: #38AB36\"><span class=\"spark-nlp-display-entity-name\">Madrid </span><span class=\"spark-nlp-display-entity-type\">LOC</span></span><span class=\"spark-nlp-display-others\" style=\"background-color: white\">.</span></div>"
            ]
          },
          "metadata": {}
        }
      ]
    },
    {
      "cell_type": "markdown",
      "source": [
        "### `bert_token_classifier_swedish_ner` model"
      ],
      "metadata": {
        "id": "iaySGoLsTUkR"
      }
    },
    {
      "cell_type": "code",
      "source": [
        "model = \"bert_token_classifier_swedish_ner\"\n",
        "\n",
        "text = [\"\"\"William Henry Gates III (född 28 oktober 1955) är en amerikansk affärsmagnat, mjukvaruutvecklare, investerare och filantrop. Han är mest känd som medgrundare av Microsoft Corporation. Under sin karriär på Microsoft innehade Gates befattningar som styrelseordförande, verkställande direktör (VD), VD och programvaruarkitekt samtidigt som han var den största enskilda aktieägaren fram till maj 2014. Han är en av de mest kända företagarna och pionjärerna inom mikrodatorrevolutionen på 1970- och 1980-talet. Född och uppvuxen i Seattle, Washington, grundade Gates Microsoft tillsammans med barndomsvän Paul Allen 1975 i Albuquerque, New Mexico; det blev vidare världens största datorprogramföretag. Gates ledde företaget som styrelseordförande och VD tills han avgick som VD i januari 2000, men han förblev ordförande och blev chef för programvaruarkitekt. Under slutet av 1990-talet hade Gates kritiserats för sin affärstaktik, som har ansetts konkurrensbegränsande. Detta yttrande har upprätthållits genom många domstolsbeslut. I juni 2006 meddelade Gates att han skulle gå över till en deltidsroll på Microsoft och heltid på Bill&Melinda Gates Foundation, den privata välgörenhetsstiftelsen som han och hans fru, Melinda Gates, grundade 2000. Han överförde gradvis sina uppgifter till Ray Ozzie och Craig Mundie. Han avgick som styrelseordförande i Microsoft i februari 2014 och tillträdde en ny tjänst som teknologrådgivare för att stödja den nyutnämnda VD Satya Nadella.\"\"\"]\n",
        "get_entities(model, text, lang=\"sv\", case = False)"
      ],
      "metadata": {
        "colab": {
          "base_uri": "https://localhost:8080/",
          "height": 967
        },
        "id": "eDS34jFyTU55",
        "outputId": "a3116121-0323-4361-b53e-d125756c6b1f"
      },
      "execution_count": 13,
      "outputs": [
        {
          "output_type": "stream",
          "name": "stdout",
          "text": [
            "sentence_detector_dl download started this may take some time.\n",
            "Approximate size to download 514.9 KB\n",
            "[OK!]\n",
            "bert_token_classifier_swedish_ner download started this may take some time.\n",
            "Approximate size to download 444.1 MB\n",
            "[OK!]\n",
            "+-----------------------+---------+\n",
            "|chunk                  |ner_label|\n",
            "+-----------------------+---------+\n",
            "|William Henry Gates III|PER      |\n",
            "|amerikansk             |NAT      |\n",
            "|Microsoft              |ORG      |\n",
            "|Microsoft              |ORG      |\n",
            "|direktör               |TIT      |\n",
            "|VD                     |TIT      |\n",
            "|VD                     |TIT      |\n",
            "|programvaruarkitekt    |TIT      |\n",
            "|Seattle,               |LOC      |\n",
            "|Washington             |LOC      |\n",
            "|Microsoft              |ORG      |\n",
            "|Allen                  |ORG      |\n",
            "|Albuquerque            |LOC      |\n",
            "|New Mexico             |LOC      |\n",
            "|Gates                  |PER      |\n",
            "|VD                     |TIT      |\n",
            "|VD                     |TIT      |\n",
            "|Gates                  |ORG      |\n",
            "|Gates                  |ORG      |\n",
            "|Microsoft              |ORG      |\n",
            "+-----------------------+---------+\n",
            "only showing top 20 rows\n",
            "\n"
          ]
        },
        {
          "output_type": "display_data",
          "data": {
            "text/plain": [
              "<IPython.core.display.HTML object>"
            ],
            "text/html": [
              "\n",
              "<style>\n",
              "    @import url('https://fonts.googleapis.com/css2?family=Montserrat:wght@300;400;500;600;700&display=swap');\n",
              "    @import url('https://fonts.googleapis.com/css2?family=Vistol Regular:wght@300;400;500;600;700&display=swap');\n",
              "    \n",
              "    .spark-nlp-display-scroll-entities {\n",
              "        border: 1px solid #E7EDF0;\n",
              "        border-radius: 3px;\n",
              "        text-align: justify;\n",
              "        \n",
              "    }\n",
              "    .spark-nlp-display-scroll-entities span {  \n",
              "        font-size: 14px;\n",
              "        line-height: 24px;\n",
              "        color: #536B76;\n",
              "        font-family: 'Montserrat', sans-serif !important;\n",
              "    }\n",
              "    \n",
              "    .spark-nlp-display-entity-wrapper{\n",
              "    \n",
              "        display: inline-grid;\n",
              "        text-align: center;\n",
              "        border-radius: 4px;\n",
              "        margin: 0 2px 5px 2px;\n",
              "        padding: 1px\n",
              "    }\n",
              "    .spark-nlp-display-entity-name{\n",
              "        font-size: 14px;\n",
              "        line-height: 24px;\n",
              "        font-family: 'Montserrat', sans-serif !important;\n",
              "        \n",
              "        background: #f1f2f3;\n",
              "        border-width: medium;\n",
              "        text-align: center;\n",
              "        \n",
              "        font-weight: 400;\n",
              "        \n",
              "        border-radius: 5px;\n",
              "        padding: 2px 5px;\n",
              "        display: block;\n",
              "        margin: 3px 2px;\n",
              "    \n",
              "    }\n",
              "    .spark-nlp-display-entity-type{\n",
              "        font-size: 14px;\n",
              "        line-height: 24px;\n",
              "        color: #ffffff;\n",
              "        font-family: 'Montserrat', sans-serif !important;\n",
              "        \n",
              "        text-transform: uppercase;\n",
              "        \n",
              "        font-weight: 500;\n",
              "\n",
              "        display: block;\n",
              "        padding: 3px 5px;\n",
              "    }\n",
              "    \n",
              "    .spark-nlp-display-entity-resolution{\n",
              "        font-size: 14px;\n",
              "        line-height: 24px;\n",
              "        color: #ffffff;\n",
              "        font-family: 'Vistol Regular', sans-serif !important;\n",
              "        \n",
              "        text-transform: uppercase;\n",
              "        \n",
              "        font-weight: 500;\n",
              "\n",
              "        display: block;\n",
              "        padding: 3px 5px;\n",
              "    }\n",
              "    \n",
              "    .spark-nlp-display-others{\n",
              "        font-size: 14px;\n",
              "        line-height: 24px;\n",
              "        font-family: 'Montserrat', sans-serif !important;\n",
              "        \n",
              "        font-weight: 400;\n",
              "    }\n",
              "\n",
              "</style>\n",
              " <span class=\"spark-nlp-display-entity-wrapper\" style=\"background-color: #599A6B\"><span class=\"spark-nlp-display-entity-name\">William Henry Gates III </span><span class=\"spark-nlp-display-entity-type\">PER</span></span><span class=\"spark-nlp-display-others\" style=\"background-color: white\"> (född 28 oktober 1955) är en </span><span class=\"spark-nlp-display-entity-wrapper\" style=\"background-color: #8B9ABE\"><span class=\"spark-nlp-display-entity-name\">amerikansk </span><span class=\"spark-nlp-display-entity-type\">NAT</span></span><span class=\"spark-nlp-display-others\" style=\"background-color: white\"> affärsmagnat, mjukvaruutvecklare, investerare och filantrop. Han är mest känd som medgrundare av </span><span class=\"spark-nlp-display-entity-wrapper\" style=\"background-color: #1B757F\"><span class=\"spark-nlp-display-entity-name\">Microsoft </span><span class=\"spark-nlp-display-entity-type\">ORG</span></span><span class=\"spark-nlp-display-others\" style=\"background-color: white\"> Corporation. Under sin karriär på </span><span class=\"spark-nlp-display-entity-wrapper\" style=\"background-color: #1B757F\"><span class=\"spark-nlp-display-entity-name\">Microsoft </span><span class=\"spark-nlp-display-entity-type\">ORG</span></span><span class=\"spark-nlp-display-others\" style=\"background-color: white\"> innehade Gates befattningar som styrelseordförande, verkställande </span><span class=\"spark-nlp-display-entity-wrapper\" style=\"background-color: #AC1009\"><span class=\"spark-nlp-display-entity-name\">direktör </span><span class=\"spark-nlp-display-entity-type\">TIT</span></span><span class=\"spark-nlp-display-others\" style=\"background-color: white\"> (</span><span class=\"spark-nlp-display-entity-wrapper\" style=\"background-color: #AC1009\"><span class=\"spark-nlp-display-entity-name\">VD </span><span class=\"spark-nlp-display-entity-type\">TIT</span></span><span class=\"spark-nlp-display-others\" style=\"background-color: white\">), </span><span class=\"spark-nlp-display-entity-wrapper\" style=\"background-color: #AC1009\"><span class=\"spark-nlp-display-entity-name\">VD </span><span class=\"spark-nlp-display-entity-type\">TIT</span></span><span class=\"spark-nlp-display-others\" style=\"background-color: white\"> och </span><span class=\"spark-nlp-display-entity-wrapper\" style=\"background-color: #AC1009\"><span class=\"spark-nlp-display-entity-name\">programvaruarkitekt </span><span class=\"spark-nlp-display-entity-type\">TIT</span></span><span class=\"spark-nlp-display-others\" style=\"background-color: white\"> samtidigt som han var den största enskilda aktieägaren fram till maj 2014. Han är en av de mest kända företagarna och pionjärerna inom mikrodatorrevolutionen på 1970- och 1980-talet. Född och uppvuxen i </span><span class=\"spark-nlp-display-entity-wrapper\" style=\"background-color: #9B3A9C\"><span class=\"spark-nlp-display-entity-name\">Seattle, </span><span class=\"spark-nlp-display-entity-type\">LOC</span></span><span class=\"spark-nlp-display-others\" style=\"background-color: white\"> </span><span class=\"spark-nlp-display-entity-wrapper\" style=\"background-color: #9B3A9C\"><span class=\"spark-nlp-display-entity-name\">Washington </span><span class=\"spark-nlp-display-entity-type\">LOC</span></span><span class=\"spark-nlp-display-others\" style=\"background-color: white\">, grundade Gates </span><span class=\"spark-nlp-display-entity-wrapper\" style=\"background-color: #1B757F\"><span class=\"spark-nlp-display-entity-name\">Microsoft </span><span class=\"spark-nlp-display-entity-type\">ORG</span></span><span class=\"spark-nlp-display-others\" style=\"background-color: white\"> tillsammans med barndomsvän Paul </span><span class=\"spark-nlp-display-entity-wrapper\" style=\"background-color: #1B757F\"><span class=\"spark-nlp-display-entity-name\">Allen </span><span class=\"spark-nlp-display-entity-type\">ORG</span></span><span class=\"spark-nlp-display-others\" style=\"background-color: white\"> 1975 i </span><span class=\"spark-nlp-display-entity-wrapper\" style=\"background-color: #9B3A9C\"><span class=\"spark-nlp-display-entity-name\">Albuquerque </span><span class=\"spark-nlp-display-entity-type\">LOC</span></span><span class=\"spark-nlp-display-others\" style=\"background-color: white\">, </span><span class=\"spark-nlp-display-entity-wrapper\" style=\"background-color: #9B3A9C\"><span class=\"spark-nlp-display-entity-name\">New Mexico </span><span class=\"spark-nlp-display-entity-type\">LOC</span></span><span class=\"spark-nlp-display-others\" style=\"background-color: white\">; det blev vidare världens största datorprogramföretag. </span><span class=\"spark-nlp-display-entity-wrapper\" style=\"background-color: #599A6B\"><span class=\"spark-nlp-display-entity-name\">Gates </span><span class=\"spark-nlp-display-entity-type\">PER</span></span><span class=\"spark-nlp-display-others\" style=\"background-color: white\"> ledde företaget som styrelseordförande och </span><span class=\"spark-nlp-display-entity-wrapper\" style=\"background-color: #AC1009\"><span class=\"spark-nlp-display-entity-name\">VD </span><span class=\"spark-nlp-display-entity-type\">TIT</span></span><span class=\"spark-nlp-display-others\" style=\"background-color: white\"> tills han avgick som </span><span class=\"spark-nlp-display-entity-wrapper\" style=\"background-color: #AC1009\"><span class=\"spark-nlp-display-entity-name\">VD </span><span class=\"spark-nlp-display-entity-type\">TIT</span></span><span class=\"spark-nlp-display-others\" style=\"background-color: white\"> i januari 2000, men han förblev ordförande och blev chef för programvaruarkitekt. Under slutet av 1990-talet hade </span><span class=\"spark-nlp-display-entity-wrapper\" style=\"background-color: #1B757F\"><span class=\"spark-nlp-display-entity-name\">Gates </span><span class=\"spark-nlp-display-entity-type\">ORG</span></span><span class=\"spark-nlp-display-others\" style=\"background-color: white\"> kritiserats för sin affärstaktik, som har ansetts konkurrensbegränsande. Detta yttrande har upprätthållits genom många domstolsbeslut. I juni 2006 meddelade </span><span class=\"spark-nlp-display-entity-wrapper\" style=\"background-color: #1B757F\"><span class=\"spark-nlp-display-entity-name\">Gates </span><span class=\"spark-nlp-display-entity-type\">ORG</span></span><span class=\"spark-nlp-display-others\" style=\"background-color: white\"> att han skulle gå över till en deltidsroll på </span><span class=\"spark-nlp-display-entity-wrapper\" style=\"background-color: #1B757F\"><span class=\"spark-nlp-display-entity-name\">Microsoft </span><span class=\"spark-nlp-display-entity-type\">ORG</span></span><span class=\"spark-nlp-display-others\" style=\"background-color: white\"> och heltid på </span><span class=\"spark-nlp-display-entity-wrapper\" style=\"background-color: #1B757F\"><span class=\"spark-nlp-display-entity-name\">Bill&Melinda Gates Foundation </span><span class=\"spark-nlp-display-entity-type\">ORG</span></span><span class=\"spark-nlp-display-others\" style=\"background-color: white\">, den privata välgörenhetsstiftelsen som han och hans fru, </span><span class=\"spark-nlp-display-entity-wrapper\" style=\"background-color: #599A6B\"><span class=\"spark-nlp-display-entity-name\">Melinda Gates </span><span class=\"spark-nlp-display-entity-type\">PER</span></span><span class=\"spark-nlp-display-others\" style=\"background-color: white\">, grundade 2000. Han överförde gradvis sina uppgifter till Ray Ozzie och Craig Mundie. Han avgick som styrelseordförande i </span><span class=\"spark-nlp-display-entity-wrapper\" style=\"background-color: #1B757F\"><span class=\"spark-nlp-display-entity-name\">Microsoft </span><span class=\"spark-nlp-display-entity-type\">ORG</span></span><span class=\"spark-nlp-display-others\" style=\"background-color: white\"> i februari 2014 och tillträdde en ny tjänst som teknologrådgivare för att stödja den nyutnämnda </span><span class=\"spark-nlp-display-entity-wrapper\" style=\"background-color: #AC1009\"><span class=\"spark-nlp-display-entity-name\">VD </span><span class=\"spark-nlp-display-entity-type\">TIT</span></span><span class=\"spark-nlp-display-others\" style=\"background-color: white\"> Satya Nadella.</span></div>"
            ]
          },
          "metadata": {}
        }
      ]
    },
    {
      "cell_type": "markdown",
      "source": [
        "### `bert_token_classifier_turkish_ner` model"
      ],
      "metadata": {
        "id": "O2s1y2P9YCTY"
      }
    },
    {
      "cell_type": "code",
      "source": [
        "model = \"bert_token_classifier_turkish_ner\"\n",
        "\n",
        "text = [\"\"\"Haziran 2006'da William Gates, Microsoft şirketinde yarı zamanlı bir göreve ve 2000 yılında eşi Melinda Gates ile birlikte kurdukları özel hayır kurumu olan Bill&Melinda Gates Vakfı'nda tam zamanlı çalışmaya geçeceğini duyurdu. Görevlerini kademeli olarak Ray Ozzie ve Craig Mundie' ye devretti. \"\"\"]\n",
        "\n",
        "get_entities(model, text, lang=\"tr\", case = False)"
      ],
      "metadata": {
        "colab": {
          "base_uri": "https://localhost:8080/",
          "height": 437
        },
        "id": "2DZMPynSYCjb",
        "outputId": "5aca826a-9ed9-4db7-fd23-f20faf25631c"
      },
      "execution_count": 14,
      "outputs": [
        {
          "output_type": "stream",
          "name": "stdout",
          "text": [
            "sentence_detector_dl download started this may take some time.\n",
            "Approximate size to download 514.9 KB\n",
            "[OK!]\n",
            "bert_token_classifier_turkish_ner download started this may take some time.\n",
            "Approximate size to download 393.6 MB\n",
            "[OK!]\n",
            "+----------------------------+---------+\n",
            "|chunk                       |ner_label|\n",
            "+----------------------------+---------+\n",
            "|William Gates               |PER      |\n",
            "|Microsoft                   |ORG      |\n",
            "|Melinda Gates               |PER      |\n",
            "|Bill&Melinda Gates Vakfı'nda|ORG      |\n",
            "|Ray Ozzie                   |PER      |\n",
            "|Craig Mundie                |PER      |\n",
            "+----------------------------+---------+\n",
            "\n"
          ]
        },
        {
          "output_type": "display_data",
          "data": {
            "text/plain": [
              "<IPython.core.display.HTML object>"
            ],
            "text/html": [
              "\n",
              "<style>\n",
              "    @import url('https://fonts.googleapis.com/css2?family=Montserrat:wght@300;400;500;600;700&display=swap');\n",
              "    @import url('https://fonts.googleapis.com/css2?family=Vistol Regular:wght@300;400;500;600;700&display=swap');\n",
              "    \n",
              "    .spark-nlp-display-scroll-entities {\n",
              "        border: 1px solid #E7EDF0;\n",
              "        border-radius: 3px;\n",
              "        text-align: justify;\n",
              "        \n",
              "    }\n",
              "    .spark-nlp-display-scroll-entities span {  \n",
              "        font-size: 14px;\n",
              "        line-height: 24px;\n",
              "        color: #536B76;\n",
              "        font-family: 'Montserrat', sans-serif !important;\n",
              "    }\n",
              "    \n",
              "    .spark-nlp-display-entity-wrapper{\n",
              "    \n",
              "        display: inline-grid;\n",
              "        text-align: center;\n",
              "        border-radius: 4px;\n",
              "        margin: 0 2px 5px 2px;\n",
              "        padding: 1px\n",
              "    }\n",
              "    .spark-nlp-display-entity-name{\n",
              "        font-size: 14px;\n",
              "        line-height: 24px;\n",
              "        font-family: 'Montserrat', sans-serif !important;\n",
              "        \n",
              "        background: #f1f2f3;\n",
              "        border-width: medium;\n",
              "        text-align: center;\n",
              "        \n",
              "        font-weight: 400;\n",
              "        \n",
              "        border-radius: 5px;\n",
              "        padding: 2px 5px;\n",
              "        display: block;\n",
              "        margin: 3px 2px;\n",
              "    \n",
              "    }\n",
              "    .spark-nlp-display-entity-type{\n",
              "        font-size: 14px;\n",
              "        line-height: 24px;\n",
              "        color: #ffffff;\n",
              "        font-family: 'Montserrat', sans-serif !important;\n",
              "        \n",
              "        text-transform: uppercase;\n",
              "        \n",
              "        font-weight: 500;\n",
              "\n",
              "        display: block;\n",
              "        padding: 3px 5px;\n",
              "    }\n",
              "    \n",
              "    .spark-nlp-display-entity-resolution{\n",
              "        font-size: 14px;\n",
              "        line-height: 24px;\n",
              "        color: #ffffff;\n",
              "        font-family: 'Vistol Regular', sans-serif !important;\n",
              "        \n",
              "        text-transform: uppercase;\n",
              "        \n",
              "        font-weight: 500;\n",
              "\n",
              "        display: block;\n",
              "        padding: 3px 5px;\n",
              "    }\n",
              "    \n",
              "    .spark-nlp-display-others{\n",
              "        font-size: 14px;\n",
              "        line-height: 24px;\n",
              "        font-family: 'Montserrat', sans-serif !important;\n",
              "        \n",
              "        font-weight: 400;\n",
              "    }\n",
              "\n",
              "</style>\n",
              " <span class=\"spark-nlp-display-others\" style=\"background-color: white\">Haziran 2006'da </span><span class=\"spark-nlp-display-entity-wrapper\" style=\"background-color: #AF7180\"><span class=\"spark-nlp-display-entity-name\">William Gates </span><span class=\"spark-nlp-display-entity-type\">PER</span></span><span class=\"spark-nlp-display-others\" style=\"background-color: white\">, </span><span class=\"spark-nlp-display-entity-wrapper\" style=\"background-color: #7C0878\"><span class=\"spark-nlp-display-entity-name\">Microsoft </span><span class=\"spark-nlp-display-entity-type\">ORG</span></span><span class=\"spark-nlp-display-others\" style=\"background-color: white\"> şirketinde yarı zamanlı bir göreve ve 2000 yılında eşi </span><span class=\"spark-nlp-display-entity-wrapper\" style=\"background-color: #AF7180\"><span class=\"spark-nlp-display-entity-name\">Melinda Gates </span><span class=\"spark-nlp-display-entity-type\">PER</span></span><span class=\"spark-nlp-display-others\" style=\"background-color: white\"> ile birlikte kurdukları özel hayır kurumu olan </span><span class=\"spark-nlp-display-entity-wrapper\" style=\"background-color: #7C0878\"><span class=\"spark-nlp-display-entity-name\">Bill&Melinda Gates Vakfı'nda </span><span class=\"spark-nlp-display-entity-type\">ORG</span></span><span class=\"spark-nlp-display-others\" style=\"background-color: white\"> tam zamanlı çalışmaya geçeceğini duyurdu. Görevlerini kademeli olarak </span><span class=\"spark-nlp-display-entity-wrapper\" style=\"background-color: #AF7180\"><span class=\"spark-nlp-display-entity-name\">Ray Ozzie </span><span class=\"spark-nlp-display-entity-type\">PER</span></span><span class=\"spark-nlp-display-others\" style=\"background-color: white\"> ve </span><span class=\"spark-nlp-display-entity-wrapper\" style=\"background-color: #AF7180\"><span class=\"spark-nlp-display-entity-name\">Craig Mundie </span><span class=\"spark-nlp-display-entity-type\">PER</span></span><span class=\"spark-nlp-display-others\" style=\"background-color: white\">' ye devretti. </span></div>"
            ]
          },
          "metadata": {}
        }
      ]
    },
    {
      "cell_type": "markdown",
      "source": [
        "### `bert_token_classifier_parsbert_armanner` model"
      ],
      "metadata": {
        "id": "u_0_ghTGYaFM"
      }
    },
    {
      "cell_type": "code",
      "source": [
        "model = \"bert_token_classifier_parsbert_armanner\"\n",
        "\n",
        "text = [\"\"\"دفتر مرکزی شرکت کامیکو در شهر ساسکاتون ساسکاچوان قرار دارد.\"\"\"]\n",
        "\n",
        "get_entities(model, text, lang=\"fa\", case = False)"
      ],
      "metadata": {
        "colab": {
          "base_uri": "https://localhost:8080/",
          "height": 301
        },
        "id": "A2kXI_OxYaR2",
        "outputId": "f90c8f45-727a-4e74-8744-84169dfbe471"
      },
      "execution_count": 15,
      "outputs": [
        {
          "output_type": "stream",
          "name": "stdout",
          "text": [
            "sentence_detector_dl download started this may take some time.\n",
            "Approximate size to download 514.9 KB\n",
            "[OK!]\n",
            "bert_token_classifier_parsbert_armanner download started this may take some time.\n",
            "Approximate size to download 578.7 MB\n",
            "[OK!]\n",
            "+----------------------+---------+\n",
            "|chunk                 |ner_label|\n",
            "+----------------------+---------+\n",
            "|شرکت کامیکو           |org      |\n",
            "|شهر ساسکاتون ساسکاچوان|loc      |\n",
            "+----------------------+---------+\n",
            "\n"
          ]
        },
        {
          "output_type": "display_data",
          "data": {
            "text/plain": [
              "<IPython.core.display.HTML object>"
            ],
            "text/html": [
              "\n",
              "<style>\n",
              "    @import url('https://fonts.googleapis.com/css2?family=Montserrat:wght@300;400;500;600;700&display=swap');\n",
              "    @import url('https://fonts.googleapis.com/css2?family=Vistol Regular:wght@300;400;500;600;700&display=swap');\n",
              "    \n",
              "    .spark-nlp-display-scroll-entities {\n",
              "        border: 1px solid #E7EDF0;\n",
              "        border-radius: 3px;\n",
              "        text-align: justify;\n",
              "        \n",
              "    }\n",
              "    .spark-nlp-display-scroll-entities span {  \n",
              "        font-size: 14px;\n",
              "        line-height: 24px;\n",
              "        color: #536B76;\n",
              "        font-family: 'Montserrat', sans-serif !important;\n",
              "    }\n",
              "    \n",
              "    .spark-nlp-display-entity-wrapper{\n",
              "    \n",
              "        display: inline-grid;\n",
              "        text-align: center;\n",
              "        border-radius: 4px;\n",
              "        margin: 0 2px 5px 2px;\n",
              "        padding: 1px\n",
              "    }\n",
              "    .spark-nlp-display-entity-name{\n",
              "        font-size: 14px;\n",
              "        line-height: 24px;\n",
              "        font-family: 'Montserrat', sans-serif !important;\n",
              "        \n",
              "        background: #f1f2f3;\n",
              "        border-width: medium;\n",
              "        text-align: center;\n",
              "        \n",
              "        font-weight: 400;\n",
              "        \n",
              "        border-radius: 5px;\n",
              "        padding: 2px 5px;\n",
              "        display: block;\n",
              "        margin: 3px 2px;\n",
              "    \n",
              "    }\n",
              "    .spark-nlp-display-entity-type{\n",
              "        font-size: 14px;\n",
              "        line-height: 24px;\n",
              "        color: #ffffff;\n",
              "        font-family: 'Montserrat', sans-serif !important;\n",
              "        \n",
              "        text-transform: uppercase;\n",
              "        \n",
              "        font-weight: 500;\n",
              "\n",
              "        display: block;\n",
              "        padding: 3px 5px;\n",
              "    }\n",
              "    \n",
              "    .spark-nlp-display-entity-resolution{\n",
              "        font-size: 14px;\n",
              "        line-height: 24px;\n",
              "        color: #ffffff;\n",
              "        font-family: 'Vistol Regular', sans-serif !important;\n",
              "        \n",
              "        text-transform: uppercase;\n",
              "        \n",
              "        font-weight: 500;\n",
              "\n",
              "        display: block;\n",
              "        padding: 3px 5px;\n",
              "    }\n",
              "    \n",
              "    .spark-nlp-display-others{\n",
              "        font-size: 14px;\n",
              "        line-height: 24px;\n",
              "        font-family: 'Montserrat', sans-serif !important;\n",
              "        \n",
              "        font-weight: 400;\n",
              "    }\n",
              "\n",
              "</style>\n",
              " <span class=\"spark-nlp-display-others\" style=\"background-color: white\">دفتر مرکزی </span><span class=\"spark-nlp-display-entity-wrapper\" style=\"background-color: #A6AF68\"><span class=\"spark-nlp-display-entity-name\">شرکت کامیکو </span><span class=\"spark-nlp-display-entity-type\">org</span></span><span class=\"spark-nlp-display-others\" style=\"background-color: white\"> در </span><span class=\"spark-nlp-display-entity-wrapper\" style=\"background-color: #31546F\"><span class=\"spark-nlp-display-entity-name\">شهر ساسکاتون ساسکاچوان </span><span class=\"spark-nlp-display-entity-type\">loc</span></span><span class=\"spark-nlp-display-others\" style=\"background-color: white\"> قرار دارد.</span></div>"
            ]
          },
          "metadata": {}
        }
      ]
    },
    {
      "cell_type": "markdown",
      "source": [
        "### `bert_token_classifier_parsbert_ner` model"
      ],
      "metadata": {
        "id": "sZmwwXfvetle"
      }
    },
    {
      "cell_type": "code",
      "source": [
        "model = \"bert_token_classifier_parsbert_ner\"\n",
        "\n",
        "text = [\"\"\"دفتر مرکزی شرکت کامیکو در شهر ساسکاتون ساسکاچوان قرار دارد.\"\"\"]\n",
        "\n",
        "get_entities(model, text, lang=\"fa\", case = False)"
      ],
      "metadata": {
        "colab": {
          "base_uri": "https://localhost:8080/",
          "height": 301
        },
        "id": "rsPNI7C7ett3",
        "outputId": "c653cd69-74e2-4f9b-f99a-4fe213c33273"
      },
      "execution_count": 16,
      "outputs": [
        {
          "output_type": "stream",
          "name": "stdout",
          "text": [
            "sentence_detector_dl download started this may take some time.\n",
            "Approximate size to download 514.9 KB\n",
            "[OK!]\n",
            "bert_token_classifier_parsbert_ner download started this may take some time.\n",
            "Approximate size to download 578.7 MB\n",
            "[OK!]\n",
            "+----------------------+------------+\n",
            "|chunk                 |ner_label   |\n",
            "+----------------------+------------+\n",
            "|دفتر مرکزی شرکت کامیکو|organization|\n",
            "|شهر ساسکاتون ساسکاچوان|location    |\n",
            "+----------------------+------------+\n",
            "\n"
          ]
        },
        {
          "output_type": "display_data",
          "data": {
            "text/plain": [
              "<IPython.core.display.HTML object>"
            ],
            "text/html": [
              "\n",
              "<style>\n",
              "    @import url('https://fonts.googleapis.com/css2?family=Montserrat:wght@300;400;500;600;700&display=swap');\n",
              "    @import url('https://fonts.googleapis.com/css2?family=Vistol Regular:wght@300;400;500;600;700&display=swap');\n",
              "    \n",
              "    .spark-nlp-display-scroll-entities {\n",
              "        border: 1px solid #E7EDF0;\n",
              "        border-radius: 3px;\n",
              "        text-align: justify;\n",
              "        \n",
              "    }\n",
              "    .spark-nlp-display-scroll-entities span {  \n",
              "        font-size: 14px;\n",
              "        line-height: 24px;\n",
              "        color: #536B76;\n",
              "        font-family: 'Montserrat', sans-serif !important;\n",
              "    }\n",
              "    \n",
              "    .spark-nlp-display-entity-wrapper{\n",
              "    \n",
              "        display: inline-grid;\n",
              "        text-align: center;\n",
              "        border-radius: 4px;\n",
              "        margin: 0 2px 5px 2px;\n",
              "        padding: 1px\n",
              "    }\n",
              "    .spark-nlp-display-entity-name{\n",
              "        font-size: 14px;\n",
              "        line-height: 24px;\n",
              "        font-family: 'Montserrat', sans-serif !important;\n",
              "        \n",
              "        background: #f1f2f3;\n",
              "        border-width: medium;\n",
              "        text-align: center;\n",
              "        \n",
              "        font-weight: 400;\n",
              "        \n",
              "        border-radius: 5px;\n",
              "        padding: 2px 5px;\n",
              "        display: block;\n",
              "        margin: 3px 2px;\n",
              "    \n",
              "    }\n",
              "    .spark-nlp-display-entity-type{\n",
              "        font-size: 14px;\n",
              "        line-height: 24px;\n",
              "        color: #ffffff;\n",
              "        font-family: 'Montserrat', sans-serif !important;\n",
              "        \n",
              "        text-transform: uppercase;\n",
              "        \n",
              "        font-weight: 500;\n",
              "\n",
              "        display: block;\n",
              "        padding: 3px 5px;\n",
              "    }\n",
              "    \n",
              "    .spark-nlp-display-entity-resolution{\n",
              "        font-size: 14px;\n",
              "        line-height: 24px;\n",
              "        color: #ffffff;\n",
              "        font-family: 'Vistol Regular', sans-serif !important;\n",
              "        \n",
              "        text-transform: uppercase;\n",
              "        \n",
              "        font-weight: 500;\n",
              "\n",
              "        display: block;\n",
              "        padding: 3px 5px;\n",
              "    }\n",
              "    \n",
              "    .spark-nlp-display-others{\n",
              "        font-size: 14px;\n",
              "        line-height: 24px;\n",
              "        font-family: 'Montserrat', sans-serif !important;\n",
              "        \n",
              "        font-weight: 400;\n",
              "    }\n",
              "\n",
              "</style>\n",
              " <span class=\"spark-nlp-display-entity-wrapper\" style=\"background-color: #7C35BD\"><span class=\"spark-nlp-display-entity-name\">دفتر مرکزی شرکت کامیکو </span><span class=\"spark-nlp-display-entity-type\">organization</span></span><span class=\"spark-nlp-display-others\" style=\"background-color: white\"> در </span><span class=\"spark-nlp-display-entity-wrapper\" style=\"background-color: #7B5D62\"><span class=\"spark-nlp-display-entity-name\">شهر ساسکاتون ساسکاچوان </span><span class=\"spark-nlp-display-entity-type\">location</span></span><span class=\"spark-nlp-display-others\" style=\"background-color: white\"> قرار دارد.</span></div>"
            ]
          },
          "metadata": {}
        }
      ]
    }
  ],
  "metadata": {
    "accelerator": "GPU",
    "colab": {
      "name": "BertForTokenClassification.ipynb",
      "provenance": [],
      "collapsed_sections": [],
      "machine_shape": "hm"
    },
    "interpreter": {
      "hash": "60af5c81ffa00bed911704ff054405489da13f9503e86373e95cf9267d593cbf"
    },
    "kernelspec": {
      "display_name": "bunyamin",
      "language": "python",
      "name": "python3"
    },
    "language_info": {
      "codemirror_mode": {
        "name": "ipython",
        "version": 3
      },
      "file_extension": ".py",
      "mimetype": "text/x-python",
      "name": "python",
      "nbconvert_exporter": "python",
      "pygments_lexer": "ipython3",
      "version": "3.6.10"
    },
    "gpuClass": "standard"
  },
  "nbformat": 4,
  "nbformat_minor": 0
}
{
  "nbformat": 4,
  "nbformat_minor": 0,
  "metadata": {
    "colab": {
      "name": "NER_FR.ipynb",
      "provenance": [],
      "collapsed_sections": [],
      "toc_visible": true
    },
    "kernelspec": {
      "name": "python3",
      "display_name": "Python 3"
    }
  },
  "cells": [
    {
      "cell_type": "markdown",
      "metadata": {
        "id": "TA21Jo5d9SVq"
      },
      "source": [
        "\n",
        "\n",
        "![JohnSnowLabs](https://nlp.johnsnowlabs.com/assets/images/logo.png)\n",
        "\n",
        "[![Open In Colab](https://colab.research.google.com/assets/colab-badge.svg)](https://githubtocolab.com/JohnSnowLabs/spark-nlp-workshop/blob/master/tutorials/streamlit_notebooks/NER_FR.ipynb)\n",
        "\n",
        "\n"
      ]
    },
    {
      "cell_type": "markdown",
      "metadata": {
        "id": "CzIdjHkAW8TB"
      },
      "source": [
        "# **Detect entities in French text**"
      ]
    },
    {
      "cell_type": "markdown",
      "metadata": {
        "id": "wIeCOiJNW-88"
      },
      "source": [
        "## 1. Colab Setup"
      ]
    },
    {
      "cell_type": "code",
      "metadata": {
        "id": "CGJktFHdHL1n",
        "colab": {
          "base_uri": "https://localhost:8080/",
          "height": 1000
        },
        "outputId": "478d8289-41bc-447f-c7fa-50c485937f8e"
      },
      "source": [
        "!wget http://setup.johnsnowlabs.com/colab.sh -O - | bash\n",
        "# !bash colab.sh\n",
        "# -p is for pyspark\n",
        "# -s is for spark-nlp\n",
        "# !bash colab.sh -p 3.1.1 -s 3.0.1\n",
        "# by default they are set to the latest\n",
        "\n",
        "# Install Spark NLP Display for visualization\n",
        "!pip install --ignore-installed spark-nlp-display"
      ],
      "execution_count": 1,
      "outputs": [
        {
          "output_type": "stream",
          "text": [
            "openjdk version \"11.0.10\" 2021-01-19\n",
            "OpenJDK Runtime Environment (build 11.0.10+9-Ubuntu-0ubuntu1.18.04)\n",
            "OpenJDK 64-Bit Server VM (build 11.0.10+9-Ubuntu-0ubuntu1.18.04, mixed mode, sharing)\n",
            "setup Colab for PySpark 3.1.1 and Spark NLP 3.0.0\n",
            "\u001b[K     |████████████████████████████████| 212.3MB 70kB/s \n",
            "\u001b[K     |████████████████████████████████| 143kB 37.4MB/s \n",
            "\u001b[K     |████████████████████████████████| 204kB 43.0MB/s \n",
            "\u001b[?25h  Building wheel for pyspark (setup.py) ... \u001b[?25l\u001b[?25hdone\n",
            "Collecting spark-nlp-display\n",
            "\u001b[?25l  Downloading https://files.pythonhosted.org/packages/cf/6a/e822cccbbc480e7140128836fda52bf56d131adc4f7f83ee1dd71afe7797/spark_nlp_display-1.5-py3-none-any.whl (94kB)\n",
            "\u001b[K     |████████████████████████████████| 102kB 4.0MB/s \n",
            "\u001b[?25hCollecting ipython\n",
            "\u001b[?25l  Downloading https://files.pythonhosted.org/packages/c9/b1/82cbe2b856386f44f37fdae54d9b425813bd86fe33385c9d658d64826098/ipython-7.22.0-py3-none-any.whl (785kB)\n",
            "\u001b[K     |████████████████████████████████| 788kB 9.1MB/s \n",
            "\u001b[?25hCollecting svgwrite==1.4\n",
            "\u001b[?25l  Downloading https://files.pythonhosted.org/packages/1c/85/1dc25b36c3ac4f3fe285d33065fc0f2ea7bdfb9209d6369e01a3e8ef6252/svgwrite-1.4-py3-none-any.whl (66kB)\n",
            "\u001b[K     |████████████████████████████████| 71kB 5.8MB/s \n",
            "\u001b[?25hCollecting pandas\n",
            "\u001b[?25l  Downloading https://files.pythonhosted.org/packages/f3/d4/3fe3b5bf9886912b64ef040040aec356fa48825e5a829a84c2667afdf952/pandas-1.2.3-cp37-cp37m-manylinux1_x86_64.whl (9.9MB)\n",
            "\u001b[K     |████████████████████████████████| 9.9MB 18.0MB/s \n",
            "\u001b[?25hCollecting numpy\n",
            "\u001b[?25l  Downloading https://files.pythonhosted.org/packages/73/ef/8967d406f3f85018ceb5efab50431e901683188f1741ceb053efcab26c87/numpy-1.20.2-cp37-cp37m-manylinux2010_x86_64.whl (15.3MB)\n",
            "\u001b[K     |████████████████████████████████| 15.3MB 205kB/s \n",
            "\u001b[?25hCollecting spark-nlp\n",
            "\u001b[?25l  Downloading https://files.pythonhosted.org/packages/e5/31/6e0f5cff049aa1f5b9bf06754001d9986211b45ca9165938adc8bed2fdf6/spark_nlp-3.0.1-py2.py3-none-any.whl (146kB)\n",
            "\u001b[K     |████████████████████████████████| 153kB 44.0MB/s \n",
            "\u001b[?25hCollecting pickleshare\n",
            "  Downloading https://files.pythonhosted.org/packages/9a/41/220f49aaea88bc6fa6cba8d05ecf24676326156c23b991e80b3f2fc24c77/pickleshare-0.7.5-py2.py3-none-any.whl\n",
            "Collecting decorator\n",
            "  Downloading https://files.pythonhosted.org/packages/3e/c4/80311bb66f2a772e9e9d76c54933d0fdbf3202ad194c6282b4c8687ddb32/decorator-5.0.5-py3-none-any.whl\n",
            "Collecting backcall\n",
            "  Downloading https://files.pythonhosted.org/packages/4c/1c/ff6546b6c12603d8dd1070aa3c3d273ad4c07f5771689a7b69a550e8c951/backcall-0.2.0-py2.py3-none-any.whl\n",
            "Collecting pygments\n",
            "\u001b[?25l  Downloading https://files.pythonhosted.org/packages/3a/80/a52c0a7c5939737c6dca75a831e89658ecb6f590fb7752ac777d221937b9/Pygments-2.8.1-py3-none-any.whl (983kB)\n",
            "\u001b[K     |████████████████████████████████| 993kB 17.3MB/s \n",
            "\u001b[?25hCollecting jedi>=0.16\n",
            "\u001b[?25l  Downloading https://files.pythonhosted.org/packages/f9/36/7aa67ae2663025b49e8426ead0bad983fee1b73f472536e9790655da0277/jedi-0.18.0-py2.py3-none-any.whl (1.4MB)\n",
            "\u001b[K     |████████████████████████████████| 1.4MB 39.9MB/s \n",
            "\u001b[?25hCollecting traitlets>=4.2\n",
            "\u001b[?25l  Downloading https://files.pythonhosted.org/packages/f6/7d/3ecb0ebd0ce8dcdfa7bd47ab85c1d4a521e6770ef283d0824f5804994dfe/traitlets-5.0.5-py3-none-any.whl (100kB)\n",
            "\u001b[K     |████████████████████████████████| 102kB 8.3MB/s \n",
            "\u001b[?25hCollecting prompt-toolkit!=3.0.0,!=3.0.1,<3.1.0,>=2.0.0\n",
            "\u001b[?25l  Downloading https://files.pythonhosted.org/packages/eb/e6/4b4ca4fa94462d4560ba2f4e62e62108ab07be2e16a92e594e43b12d3300/prompt_toolkit-3.0.18-py3-none-any.whl (367kB)\n",
            "\u001b[K     |████████████████████████████████| 368kB 36.2MB/s \n",
            "\u001b[?25hCollecting pexpect>4.3; sys_platform != \"win32\"\n",
            "\u001b[?25l  Downloading https://files.pythonhosted.org/packages/39/7b/88dbb785881c28a102619d46423cb853b46dbccc70d3ac362d99773a78ce/pexpect-4.8.0-py2.py3-none-any.whl (59kB)\n",
            "\u001b[K     |████████████████████████████████| 61kB 5.0MB/s \n",
            "\u001b[?25hCollecting setuptools>=18.5\n",
            "\u001b[?25l  Downloading https://files.pythonhosted.org/packages/9e/d4/b99a960314121a003e9f39c61dfde01a1010bb47661e193a7722f7f32d52/setuptools-54.2.0-py3-none-any.whl (785kB)\n",
            "\u001b[K     |████████████████████████████████| 788kB 39.2MB/s \n",
            "\u001b[?25hCollecting python-dateutil>=2.7.3\n",
            "\u001b[?25l  Downloading https://files.pythonhosted.org/packages/d4/70/d60450c3dd48ef87586924207ae8907090de0b306af2bce5d134d78615cb/python_dateutil-2.8.1-py2.py3-none-any.whl (227kB)\n",
            "\u001b[K     |████████████████████████████████| 235kB 46.2MB/s \n",
            "\u001b[?25hCollecting pytz>=2017.3\n",
            "\u001b[?25l  Downloading https://files.pythonhosted.org/packages/70/94/784178ca5dd892a98f113cdd923372024dc04b8d40abe77ca76b5fb90ca6/pytz-2021.1-py2.py3-none-any.whl (510kB)\n",
            "\u001b[K     |████████████████████████████████| 512kB 38.7MB/s \n",
            "\u001b[?25hCollecting parso<0.9.0,>=0.8.0\n",
            "\u001b[?25l  Downloading https://files.pythonhosted.org/packages/a9/c4/d5476373088c120ffed82f34c74b266ccae31a68d665b837354d4d8dc8be/parso-0.8.2-py2.py3-none-any.whl (94kB)\n",
            "\u001b[K     |████████████████████████████████| 102kB 8.0MB/s \n",
            "\u001b[?25hCollecting ipython-genutils\n",
            "  Downloading https://files.pythonhosted.org/packages/fa/bc/9bd3b5c2b4774d5f33b2d544f1460be9df7df2fe42f352135381c347c69a/ipython_genutils-0.2.0-py2.py3-none-any.whl\n",
            "Collecting wcwidth\n",
            "  Downloading https://files.pythonhosted.org/packages/59/7c/e39aca596badaf1b78e8f547c807b04dae603a433d3e7a7e04d67f2ef3e5/wcwidth-0.2.5-py2.py3-none-any.whl\n",
            "Collecting ptyprocess>=0.5\n",
            "  Downloading https://files.pythonhosted.org/packages/22/a6/858897256d0deac81a172289110f31629fc4cee19b6f01283303e18c8db3/ptyprocess-0.7.0-py2.py3-none-any.whl\n",
            "Collecting six>=1.5\n",
            "  Downloading https://files.pythonhosted.org/packages/ee/ff/48bde5c0f013094d729fe4b0316ba2a24774b3ff1c52d924a8a4cb04078a/six-1.15.0-py2.py3-none-any.whl\n",
            "\u001b[31mERROR: tensorflow 2.4.1 has requirement numpy~=1.19.2, but you'll have numpy 1.20.2 which is incompatible.\u001b[0m\n",
            "\u001b[31mERROR: nbclient 0.5.3 has requirement jupyter-client>=6.1.5, but you'll have jupyter-client 5.3.5 which is incompatible.\u001b[0m\n",
            "\u001b[31mERROR: moviepy 0.2.3.5 has requirement decorator<5.0,>=4.0.2, but you'll have decorator 5.0.5 which is incompatible.\u001b[0m\n",
            "\u001b[31mERROR: jupyter-console 5.2.0 has requirement prompt-toolkit<2.0.0,>=1.0.0, but you'll have prompt-toolkit 3.0.18 which is incompatible.\u001b[0m\n",
            "\u001b[31mERROR: google-colab 1.0.0 has requirement ipython~=5.5.0, but you'll have ipython 7.22.0 which is incompatible.\u001b[0m\n",
            "\u001b[31mERROR: google-colab 1.0.0 has requirement pandas~=1.1.0; python_version >= \"3.0\", but you'll have pandas 1.2.3 which is incompatible.\u001b[0m\n",
            "\u001b[31mERROR: datascience 0.10.6 has requirement folium==0.2.1, but you'll have folium 0.8.3 which is incompatible.\u001b[0m\n",
            "\u001b[31mERROR: albumentations 0.1.12 has requirement imgaug<0.2.7,>=0.2.5, but you'll have imgaug 0.2.9 which is incompatible.\u001b[0m\n",
            "Installing collected packages: pickleshare, decorator, backcall, pygments, parso, jedi, ipython-genutils, traitlets, wcwidth, prompt-toolkit, ptyprocess, pexpect, setuptools, ipython, svgwrite, six, python-dateutil, pytz, numpy, pandas, spark-nlp, spark-nlp-display\n",
            "Successfully installed backcall-0.2.0 decorator-5.0.5 ipython-7.22.0 ipython-genutils-0.2.0 jedi-0.18.0 numpy-1.20.2 pandas-1.2.3 parso-0.8.2 pexpect-4.8.0 pickleshare-0.7.5 prompt-toolkit-3.0.18 ptyprocess-0.7.0 pygments-2.8.1 python-dateutil-2.8.1 pytz-2021.1 setuptools-54.2.0 six-1.15.0 spark-nlp-3.0.1 spark-nlp-display-1.5 svgwrite-1.4 traitlets-5.0.5 wcwidth-0.2.5\n"
          ],
          "name": "stdout"
        },
        {
          "output_type": "display_data",
          "data": {
            "application/vnd.colab-display-data+json": {
              "pip_warning": {
                "packages": [
                  "IPython",
                  "dateutil",
                  "decorator",
                  "ipython_genutils",
                  "numpy",
                  "pandas",
                  "pexpect",
                  "pickleshare",
                  "pkg_resources",
                  "prompt_toolkit",
                  "pygments",
                  "pytz",
                  "six",
                  "traitlets",
                  "wcwidth"
                ]
              }
            }
          },
          "metadata": {
            "tags": []
          }
        }
      ]
    },
    {
      "cell_type": "markdown",
      "metadata": {
        "id": "eCIT5VLxS3I1"
      },
      "source": [
        "## 2. Start the Spark session"
      ]
    },
    {
      "cell_type": "code",
      "metadata": {
        "id": "sw-t1zxlHTB7"
      },
      "source": [
        "\n",
        "import json\n",
        "import pandas as pd\n",
        "import numpy as np\n",
        "\n",
        "from pyspark.ml import Pipeline\n",
        "from pyspark.sql import SparkSession\n",
        "import pyspark.sql.functions as F\n",
        "from sparknlp.annotator import *\n",
        "from sparknlp.base import *\n",
        "import sparknlp\n",
        "from sparknlp.pretrained import PretrainedPipeline\n",
        "\n",
        "spark = sparknlp.start()"
      ],
      "execution_count": 2,
      "outputs": []
    },
    {
      "cell_type": "markdown",
      "metadata": {
        "id": "9RgiqfX5XDqb"
      },
      "source": [
        "## 3. Select the DL model"
      ]
    },
    {
      "cell_type": "code",
      "metadata": {
        "id": "LLuDz_t40be4"
      },
      "source": [
        "# If you change the model, re-run all the cells below.\n",
        "# Applicable models: wikiner_840B_300\n",
        "MODEL_NAME = \"wikiner_840B_300\""
      ],
      "execution_count": 3,
      "outputs": []
    },
    {
      "cell_type": "markdown",
      "metadata": {
        "id": "2Y9GpdJhXIpD"
      },
      "source": [
        "## 4. Some sample examples"
      ]
    },
    {
      "cell_type": "code",
      "metadata": {
        "id": "vBOKkB2THdGI"
      },
      "source": [
        "# Enter examples to be transformed as strings in this list\n",
        "text_list = [\n",
        "    \"\"\"William Henry Gates III (né le 28 octobre 1955) est un magnat des affaires, développeur de logiciels, investisseur et philanthrope américain. Il est surtout connu comme le co-fondateur de Microsoft Corporation. Au cours de sa carrière chez Microsoft, Gates a occupé les postes de président, chef de la direction (PDG), président et architecte logiciel en chef, tout en étant le plus grand actionnaire individuel jusqu'en mai 2014. Il est l'un des entrepreneurs et pionniers les plus connus du révolution des micro-ordinateurs des années 1970 et 1980. Né et élevé à Seattle, Washington, Gates a cofondé Microsoft avec son ami d'enfance Paul Allen en 1975, à Albuquerque, au Nouveau-Mexique; il est devenu la plus grande société de logiciels informatiques au monde. Gates a dirigé l'entreprise en tant que président-directeur général jusqu'à sa démission en tant que PDG en janvier 2000, mais il est resté président et est devenu architecte logiciel en chef. À la fin des années 1990, Gates avait été critiqué pour ses tactiques commerciales, considérées comme anticoncurrentielles. Cette opinion a été confirmée par de nombreuses décisions de justice. En juin 2006, Gates a annoncé qu'il passerait à un poste à temps partiel chez Microsoft et à un emploi à temps plein à la Bill & Melinda Gates Foundation, la fondation caritative privée que lui et sa femme, Melinda Gates, ont créée en 2000. [ 9] Il a progressivement transféré ses fonctions à Ray Ozzie et Craig Mundie. Il a démissionné de son poste de président de Microsoft en février 2014 et a assumé un nouveau poste de conseiller technologique pour soutenir le nouveau PDG Satya Nadella.\"\"\",\n",
        "    \"\"\"La Joconde est une peinture à l'huile du XVIe siècle créée par Léonard. Il se tient au Louvre à Paris.\"\"\"\n",
        "]"
      ],
      "execution_count": 4,
      "outputs": []
    },
    {
      "cell_type": "markdown",
      "metadata": {
        "id": "XftYgju4XOw_"
      },
      "source": [
        "## 5. Define Spark NLP pipeline"
      ]
    },
    {
      "cell_type": "code",
      "metadata": {
        "id": "lBggF5P8J1gc",
        "colab": {
          "base_uri": "https://localhost:8080/"
        },
        "outputId": "0c62ad2c-b4b5-4e25-8285-32c3185f9551"
      },
      "source": [
        "document_assembler = DocumentAssembler() \\\n",
        "    .setInputCol('text') \\\n",
        "    .setOutputCol('document')\n",
        "\n",
        "tokenizer = Tokenizer() \\\n",
        "    .setInputCols(['document']) \\\n",
        "    .setOutputCol('token')\n",
        "\n",
        "# The wikiner_840B_300 is trained with glove_840B_300, so the embeddings in the\n",
        "# pipeline should match. Same applies for the other available models.\n",
        "if MODEL_NAME == \"wikiner_840B_300\":\n",
        "    embeddings = WordEmbeddingsModel.pretrained('glove_840B_300', lang='xx') \\\n",
        "        .setInputCols(['document', 'token']) \\\n",
        "        .setOutputCol('embeddings')\n",
        "elif MODEL_NAME == \"wikiner_6B_300\":\n",
        "    embeddings = WordEmbeddingsModel.pretrained('glove_6B_300', lang='xx') \\\n",
        "        .setInputCols(['document', 'token']) \\\n",
        "        .setOutputCol('embeddings')\n",
        "elif MODEL_NAME == \"wikiner_6B_100\":\n",
        "    embeddings = WordEmbeddingsModel.pretrained('glove_100d') \\\n",
        "        .setInputCols(['document', 'token']) \\\n",
        "        .setOutputCol('embeddings')\n",
        "\n",
        "ner_model = NerDLModel.pretrained(MODEL_NAME, 'fr') \\\n",
        "    .setInputCols(['document', 'token', 'embeddings']) \\\n",
        "    .setOutputCol('ner')\n",
        "\n",
        "ner_converter = NerConverter() \\\n",
        "    .setInputCols(['document', 'token', 'ner']) \\\n",
        "    .setOutputCol('ner_chunk')\n",
        "\n",
        "nlp_pipeline = Pipeline(stages=[\n",
        "    document_assembler, \n",
        "    tokenizer,\n",
        "    embeddings,\n",
        "    ner_model,\n",
        "    ner_converter\n",
        "])"
      ],
      "execution_count": 5,
      "outputs": [
        {
          "output_type": "stream",
          "text": [
            "glove_840B_300 download started this may take some time.\n",
            "Approximate size to download 2.3 GB\n",
            "[OK!]\n",
            "wikiner_840B_300 download started this may take some time.\n",
            "Approximate size to download 14.4 MB\n",
            "[OK!]\n"
          ],
          "name": "stdout"
        }
      ]
    },
    {
      "cell_type": "markdown",
      "metadata": {
        "id": "mv0abcwhXWC-"
      },
      "source": [
        "## 6. Run the pipeline"
      ]
    },
    {
      "cell_type": "code",
      "metadata": {
        "id": "EYf_9sXDXR4t"
      },
      "source": [
        "empty_df = spark.createDataFrame([['']]).toDF('text')\n",
        "pipeline_model = nlp_pipeline.fit(empty_df)\n",
        "df = spark.createDataFrame(pd.DataFrame({'text': text_list}))\n",
        "result = pipeline_model.transform(df)"
      ],
      "execution_count": 6,
      "outputs": []
    },
    {
      "cell_type": "markdown",
      "metadata": {
        "id": "UQY8tAP6XZJL"
      },
      "source": [
        "## 7. Visualize results"
      ]
    },
    {
      "cell_type": "code",
      "metadata": {
        "id": "Ar32BZu7J79X",
        "colab": {
          "base_uri": "https://localhost:8080/",
          "height": 656
        },
        "outputId": "43fdadc7-fe1d-4d92-b908-af0aa6ddea96"
      },
      "source": [
        "from sparknlp_display import NerVisualizer\n",
        "\n",
        "NerVisualizer().display(\n",
        "    result = result.collect()[0],\n",
        "    label_col = 'ner_chunk',\n",
        "    document_col = 'document'\n",
        ")"
      ],
      "execution_count": 7,
      "outputs": [
        {
          "output_type": "display_data",
          "data": {
            "text/html": [
              "\n",
              "<style>\n",
              "    @import url('https://fonts.googleapis.com/css2?family=Montserrat:wght@300;400;500;600;700&display=swap');\n",
              "    @import url('https://fonts.googleapis.com/css2?family=Vistol Regular:wght@300;400;500;600;700&display=swap');\n",
              "    \n",
              "    .spark-nlp-display-scroll-entities {\n",
              "        border: 1px solid #E7EDF0;\n",
              "        border-radius: 3px;\n",
              "        text-align: justify;\n",
              "        \n",
              "    }\n",
              "    .spark-nlp-display-scroll-entities span {  \n",
              "        font-size: 14px;\n",
              "        line-height: 24px;\n",
              "        color: #536B76;\n",
              "        font-family: 'Montserrat', sans-serif !important;\n",
              "    }\n",
              "    \n",
              "    .spark-nlp-display-entity-wrapper{\n",
              "    \n",
              "        display: inline-grid;\n",
              "        text-align: center;\n",
              "        border-radius: 4px;\n",
              "        margin: 0 2px 5px 2px;\n",
              "        padding: 1px\n",
              "    }\n",
              "    .spark-nlp-display-entity-name{\n",
              "        font-size: 14px;\n",
              "        line-height: 24px;\n",
              "        font-family: 'Montserrat', sans-serif !important;\n",
              "        \n",
              "        background: #f1f2f3;\n",
              "        border-width: medium;\n",
              "        text-align: center;\n",
              "        \n",
              "        font-weight: 400;\n",
              "        \n",
              "        border-radius: 5px;\n",
              "        padding: 2px 5px;\n",
              "        display: block;\n",
              "        margin: 3px 2px;\n",
              "    \n",
              "    }\n",
              "    .spark-nlp-display-entity-type{\n",
              "        font-size: 14px;\n",
              "        line-height: 24px;\n",
              "        color: #ffffff;\n",
              "        font-family: 'Montserrat', sans-serif !important;\n",
              "        \n",
              "        text-transform: uppercase;\n",
              "        \n",
              "        font-weight: 500;\n",
              "\n",
              "        display: block;\n",
              "        padding: 3px 5px;\n",
              "    }\n",
              "    \n",
              "    .spark-nlp-display-entity-resolution{\n",
              "        font-size: 14px;\n",
              "        line-height: 24px;\n",
              "        color: #ffffff;\n",
              "        font-family: 'Vistol Regular', sans-serif !important;\n",
              "        \n",
              "        text-transform: uppercase;\n",
              "        \n",
              "        font-weight: 500;\n",
              "\n",
              "        display: block;\n",
              "        padding: 3px 5px;\n",
              "    }\n",
              "    \n",
              "    .spark-nlp-display-others{\n",
              "        font-size: 14px;\n",
              "        line-height: 24px;\n",
              "        font-family: 'Montserrat', sans-serif !important;\n",
              "        \n",
              "        font-weight: 400;\n",
              "    }\n",
              "\n",
              "</style>\n",
              " <span class=\"spark-nlp-display-entity-wrapper\" style=\"background-color: #14837E\"><span class=\"spark-nlp-display-entity-name\">William Henry Gates III </span><span class=\"spark-nlp-display-entity-type\">PER</span></span><span class=\"spark-nlp-display-others\" style=\"background-color: white\"> (né le 28 octobre 1955) est un magnat des affaires, développeur de logiciels, investisseur et philanthrope américain. Il est surtout connu comme le co-fondateur de </span><span class=\"spark-nlp-display-entity-wrapper\" style=\"background-color: #826662\"><span class=\"spark-nlp-display-entity-name\">Microsoft Corporation </span><span class=\"spark-nlp-display-entity-type\">ORG</span></span><span class=\"spark-nlp-display-others\" style=\"background-color: white\">. Au cours de sa carrière chez </span><span class=\"spark-nlp-display-entity-wrapper\" style=\"background-color: #826662\"><span class=\"spark-nlp-display-entity-name\">Microsoft </span><span class=\"spark-nlp-display-entity-type\">ORG</span></span><span class=\"spark-nlp-display-others\" style=\"background-color: white\">, </span><span class=\"spark-nlp-display-entity-wrapper\" style=\"background-color: #14837E\"><span class=\"spark-nlp-display-entity-name\">Gates </span><span class=\"spark-nlp-display-entity-type\">PER</span></span><span class=\"spark-nlp-display-others\" style=\"background-color: white\"> a occupé les postes de président, chef de la direction (PDG), président et architecte logiciel en chef, tout en étant le plus grand actionnaire individuel jusqu'en mai 2014. Il est l'un des entrepreneurs et pionniers les plus connus du révolution des micro-ordinateurs des années 1970 et 1980. </span><span class=\"spark-nlp-display-entity-wrapper\" style=\"background-color: #2B7F94\"><span class=\"spark-nlp-display-entity-name\">Né et élevé à Seattle </span><span class=\"spark-nlp-display-entity-type\">MISC</span></span><span class=\"spark-nlp-display-others\" style=\"background-color: white\">, </span><span class=\"spark-nlp-display-entity-wrapper\" style=\"background-color: #75645A\"><span class=\"spark-nlp-display-entity-name\">Washington </span><span class=\"spark-nlp-display-entity-type\">LOC</span></span><span class=\"spark-nlp-display-others\" style=\"background-color: white\">, </span><span class=\"spark-nlp-display-entity-wrapper\" style=\"background-color: #14837E\"><span class=\"spark-nlp-display-entity-name\">Gates </span><span class=\"spark-nlp-display-entity-type\">PER</span></span><span class=\"spark-nlp-display-others\" style=\"background-color: white\"> a cofondé </span><span class=\"spark-nlp-display-entity-wrapper\" style=\"background-color: #826662\"><span class=\"spark-nlp-display-entity-name\">Microsoft </span><span class=\"spark-nlp-display-entity-type\">ORG</span></span><span class=\"spark-nlp-display-others\" style=\"background-color: white\"> avec son ami d'enfance </span><span class=\"spark-nlp-display-entity-wrapper\" style=\"background-color: #14837E\"><span class=\"spark-nlp-display-entity-name\">Paul Allen </span><span class=\"spark-nlp-display-entity-type\">PER</span></span><span class=\"spark-nlp-display-others\" style=\"background-color: white\"> en 1975, à </span><span class=\"spark-nlp-display-entity-wrapper\" style=\"background-color: #75645A\"><span class=\"spark-nlp-display-entity-name\">Albuquerque </span><span class=\"spark-nlp-display-entity-type\">LOC</span></span><span class=\"spark-nlp-display-others\" style=\"background-color: white\">, au </span><span class=\"spark-nlp-display-entity-wrapper\" style=\"background-color: #75645A\"><span class=\"spark-nlp-display-entity-name\">Nouveau-Mexique </span><span class=\"spark-nlp-display-entity-type\">LOC</span></span><span class=\"spark-nlp-display-others\" style=\"background-color: white\">; il est devenu la plus grande société de logiciels informatiques au monde. </span><span class=\"spark-nlp-display-entity-wrapper\" style=\"background-color: #14837E\"><span class=\"spark-nlp-display-entity-name\">Gates </span><span class=\"spark-nlp-display-entity-type\">PER</span></span><span class=\"spark-nlp-display-others\" style=\"background-color: white\"> a dirigé l'entreprise en tant que président-directeur général jusqu'à sa démission en tant que PDG en janvier 2000, mais il est resté président et est devenu architecte logiciel en chef. À la fin des années 1990, </span><span class=\"spark-nlp-display-entity-wrapper\" style=\"background-color: #14837E\"><span class=\"spark-nlp-display-entity-name\">Gates </span><span class=\"spark-nlp-display-entity-type\">PER</span></span><span class=\"spark-nlp-display-others\" style=\"background-color: white\"> avait été critiqué pour ses tactiques commerciales, considérées comme anticoncurrentielles. Cette opinion a été confirmée par de nombreuses décisions de justice. En juin 2006, </span><span class=\"spark-nlp-display-entity-wrapper\" style=\"background-color: #14837E\"><span class=\"spark-nlp-display-entity-name\">Gates </span><span class=\"spark-nlp-display-entity-type\">PER</span></span><span class=\"spark-nlp-display-others\" style=\"background-color: white\"> a annoncé qu'il passerait à un poste à temps partiel chez </span><span class=\"spark-nlp-display-entity-wrapper\" style=\"background-color: #826662\"><span class=\"spark-nlp-display-entity-name\">Microsoft </span><span class=\"spark-nlp-display-entity-type\">ORG</span></span><span class=\"spark-nlp-display-others\" style=\"background-color: white\"> et à un emploi à temps plein à la </span><span class=\"spark-nlp-display-entity-wrapper\" style=\"background-color: #826662\"><span class=\"spark-nlp-display-entity-name\">Bill & Melinda Gates Foundation </span><span class=\"spark-nlp-display-entity-type\">ORG</span></span><span class=\"spark-nlp-display-others\" style=\"background-color: white\">, la fondation caritative privée que lui et sa femme, </span><span class=\"spark-nlp-display-entity-wrapper\" style=\"background-color: #14837E\"><span class=\"spark-nlp-display-entity-name\">Melinda Gates </span><span class=\"spark-nlp-display-entity-type\">PER</span></span><span class=\"spark-nlp-display-others\" style=\"background-color: white\">, ont créée en 2000. [ 9] Il a progressivement transféré ses fonctions à </span><span class=\"spark-nlp-display-entity-wrapper\" style=\"background-color: #14837E\"><span class=\"spark-nlp-display-entity-name\">Ray Ozzie </span><span class=\"spark-nlp-display-entity-type\">PER</span></span><span class=\"spark-nlp-display-others\" style=\"background-color: white\"> et </span><span class=\"spark-nlp-display-entity-wrapper\" style=\"background-color: #14837E\"><span class=\"spark-nlp-display-entity-name\">Craig Mundie </span><span class=\"spark-nlp-display-entity-type\">PER</span></span><span class=\"spark-nlp-display-others\" style=\"background-color: white\">. Il a démissionné de son poste de président de </span><span class=\"spark-nlp-display-entity-wrapper\" style=\"background-color: #826662\"><span class=\"spark-nlp-display-entity-name\">Microsoft </span><span class=\"spark-nlp-display-entity-type\">ORG</span></span><span class=\"spark-nlp-display-others\" style=\"background-color: white\"> en février 2014 et a assumé un nouveau poste de conseiller technologique pour soutenir le nouveau PDG </span><span class=\"spark-nlp-display-entity-wrapper\" style=\"background-color: #14837E\"><span class=\"spark-nlp-display-entity-name\">Satya Nadella </span><span class=\"spark-nlp-display-entity-type\">PER</span></span><span class=\"spark-nlp-display-others\" style=\"background-color: white\">.</span></div>"
            ],
            "text/plain": [
              "<IPython.core.display.HTML object>"
            ]
          },
          "metadata": {
            "tags": []
          }
        }
      ]
    }
  ]
}
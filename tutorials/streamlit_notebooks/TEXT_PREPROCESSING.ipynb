{
  "nbformat": 4,
  "nbformat_minor": 0,
  "metadata": {
    "colab": {
      "name": "TEXT_PREPROCESSING.ipynb",
      "provenance": [],
      "collapsed_sections": []
    },
    "kernelspec": {
      "name": "python3",
      "display_name": "Python 3"
    }
  },
  "cells": [
    {
      "cell_type": "code",
      "metadata": {
        "id": "w6o8-g0tEqNz",
        "colab_type": "code",
        "colab": {}
      },
      "source": [
        "!sudo apt-get install openjdk-8-jdk\n",
        "!java -version\n",
        "!pip install --ignore-installed -q pyspark==2.4.4\n",
        "!pip install spark-nlp\n",
        "!pip install streamlit\n",
        "!wget https://bin.equinox.io/c/4VmDzA7iaHb/ngrok-stable-linux-amd64.zip\n",
        "!unzip -qq ngrok-stable-linux-amd64.zip"
      ],
      "execution_count": null,
      "outputs": []
    },
    {
      "cell_type": "code",
      "metadata": {
        "id": "yMmT9S6mE0ad",
        "colab_type": "code",
        "colab": {}
      },
      "source": [
        "import pandas as pd\n",
        "import numpy as np\n",
        "import os\n",
        "os.environ[\"JAVA_HOME\"] = \"/usr/lib/jvm/java-8-openjdk-amd64\"\n",
        "import json\n",
        "from pyspark.ml import Pipeline\n",
        "from pyspark.sql import SparkSession\n",
        "import pyspark.sql.functions as F\n",
        "from sparknlp.annotator import *\n",
        "from sparknlp.base import *\n",
        "import sparknlp\n",
        "from sparknlp.pretrained import PretrainedPipeline"
      ],
      "execution_count": 1,
      "outputs": []
    },
    {
      "cell_type": "code",
      "metadata": {
        "id": "4zBXbY_vE2ss",
        "colab_type": "code",
        "colab": {}
      },
      "source": [
        "spark = sparknlp.start()"
      ],
      "execution_count": 2,
      "outputs": []
    },
    {
      "cell_type": "code",
      "metadata": {
        "id": "1XxHWemdE5hX",
        "colab_type": "code",
        "colab": {}
      },
      "source": [
        "# Demo of the following annotators: \n",
        " #SentenceDetector\n",
        " #Tokenizer\n",
        " #Normalizer\n",
        " #Stemmer\n",
        " #Lemmatizer\n",
        " #Stop Words removed\n"
      ],
      "execution_count": null,
      "outputs": []
    },
    {
      "cell_type": "code",
      "metadata": {
        "id": "GJ7GCD0pFDvP",
        "colab_type": "code",
        "colab": {}
      },
      "source": [
        "## Generating Example Files ##\n",
        "\n",
        "text_list = [\"\"\"The Geneva Motor Show, the first major car show of the year, opens tomorrow with U.S. Car makers hoping to make new inroads into European markets due to the cheap dollar, automobile executives said. Ford Motor Co and General Motors Corp sell cars in Europe, where about 10.5 mln new cars a year are bought. GM also makes a few thousand in North American plants for European export.\"\"\",\n",
        "             ]"
      ],
      "execution_count": 3,
      "outputs": []
    },
    {
      "cell_type": "code",
      "metadata": {
        "id": "ezbuthMzeYDf",
        "colab_type": "code",
        "colab": {}
      },
      "source": [
        "#getting lemma files\n",
        "!wget https://raw.githubusercontent.com/mahavivo/vocabulary/master/lemmas/AntBNC_lemmas_ver_001.txt"
      ],
      "execution_count": null,
      "outputs": []
    },
    {
      "cell_type": "code",
      "metadata": {
        "id": "IiYxv0mOFIcX",
        "colab_type": "code",
        "colab": {}
      },
      "source": [
        "documentAssembler = DocumentAssembler()\\\n",
        "    .setInputCol(\"text\")\\\n",
        "    .setOutputCol(\"document\")\n",
        "\n",
        "sentenceDetector = SentenceDetector()\\\n",
        "    .setInputCols(['document'])\\\n",
        "    .setOutputCol('sentences')\n",
        "\n",
        "tokenizer = Tokenizer() \\\n",
        "    .setInputCols([\"document\"]) \\\n",
        "    .setOutputCol(\"token\")\n",
        "\n",
        "normalizer = Normalizer() \\\n",
        "    .setInputCols([\"token\"]) \\\n",
        "    .setOutputCol(\"normalized\")\\\n",
        "    .setLowercase(True)\\\n",
        "    .setCleanupPatterns([\"[^\\w\\d\\s]\"])\n",
        "\n",
        "stopwords_cleaner = StopWordsCleaner()\\\n",
        "    .setInputCols(\"token\")\\\n",
        "    .setOutputCol(\"removed_stopwords\")\\\n",
        "    .setCaseSensitive(False)\\\n",
        "\n",
        "stemmer = Stemmer() \\\n",
        "    .setInputCols([\"token\"]) \\\n",
        "    .setOutputCol(\"stem\")\n",
        "\n",
        "\n",
        "lemmatizer = Lemmatizer() \\\n",
        "    .setInputCols([\"token\"]) \\\n",
        "    .setOutputCol(\"lemma\") \\\n",
        "    .setDictionary(\"./AntBNC_lemmas_ver_001.txt\", value_delimiter =\"\\t\", key_delimiter = \"->\")\n",
        "\n",
        "#chunker = Chunker() \\\n",
        " #   .setInputCols([\"document\", \"pos\"]) \\\n",
        " #   .setOutputCol(\"chunk\") \\\n",
        " #   .setRegexParsers([\"‹NNP›+\", \"‹DT|PP\\\\$›?‹JJ›*‹NN›\"])\n",
        "\n",
        "nlpPipeline = Pipeline(stages=[documentAssembler,\n",
        "                               sentenceDetector,\n",
        "                               tokenizer,\n",
        "                               normalizer,\n",
        "                               stopwords_cleaner,\n",
        "                               stemmer,\n",
        "                               lemmatizer,\n",
        "                               ])\n",
        "empty_df = spark.createDataFrame([['']]).toDF(\"text\")\n",
        "\n",
        "pipelineModel = nlpPipeline.fit(empty_df)\n",
        "\n",
        "df = spark.createDataFrame(pd.DataFrame({'text':text_list}))\n",
        "result = pipelineModel.transform(df)\n"
      ],
      "execution_count": 6,
      "outputs": []
    },
    {
      "cell_type": "code",
      "metadata": {
        "id": "LBDmM5aRH1zR",
        "colab_type": "code",
        "colab": {
          "base_uri": "https://localhost:8080/",
          "height": 170
        },
        "outputId": "feea1bcc-2a89-4797-a168-a1d8521ad5d4"
      },
      "source": [
        "result.select(F.explode(F.arrays_zip('sentences.result')).alias(\"cols\")) \\\n",
        ".select(F.expr(\"cols['0']\").alias(\"sentences\")).show(truncate=False)\n"
      ],
      "execution_count": 7,
      "outputs": [
        {
          "output_type": "stream",
          "text": [
            "+----------------------------------------------------------------------------------------------------------------+\n",
            "|sentences                                                                                                       |\n",
            "+----------------------------------------------------------------------------------------------------------------+\n",
            "|The Geneva Motor Show, the first major car show of the year, opens tomorrow with U.S.                           |\n",
            "|Car makers hoping to make new inroads into European markets due to the cheap dollar, automobile executives said.|\n",
            "|Ford Motor Co and General Motors Corp sell cars in Europe, where about 10.5 mln new cars a year are bought.     |\n",
            "|GM also makes a few thousand in North American plants for European export.                                      |\n",
            "+----------------------------------------------------------------------------------------------------------------+\n",
            "\n"
          ],
          "name": "stdout"
        }
      ]
    },
    {
      "cell_type": "code",
      "metadata": {
        "id": "I4ACcIXqGkfl",
        "colab_type": "code",
        "colab": {
          "base_uri": "https://localhost:8080/",
          "height": 459
        },
        "outputId": "c467752b-8480-4e88-8804-4f6226a441a1"
      },
      "source": [
        "result.select(F.explode(F.arrays_zip('token.result')).alias(\"cols\")) \\\n",
        ".select(F.expr(\"cols['0']\").alias(\"tokens\")).show(truncate=False)"
      ],
      "execution_count": 8,
      "outputs": [
        {
          "output_type": "stream",
          "text": [
            "+--------+\n",
            "|tokens  |\n",
            "+--------+\n",
            "|The     |\n",
            "|Geneva  |\n",
            "|Motor   |\n",
            "|Show    |\n",
            "|,       |\n",
            "|the     |\n",
            "|first   |\n",
            "|major   |\n",
            "|car     |\n",
            "|show    |\n",
            "|of      |\n",
            "|the     |\n",
            "|year    |\n",
            "|,       |\n",
            "|opens   |\n",
            "|tomorrow|\n",
            "|with    |\n",
            "|U.S     |\n",
            "|.       |\n",
            "|Car     |\n",
            "+--------+\n",
            "only showing top 20 rows\n",
            "\n"
          ],
          "name": "stdout"
        }
      ]
    },
    {
      "cell_type": "code",
      "metadata": {
        "id": "xgB5ZEDxdKah",
        "colab_type": "code",
        "colab": {
          "base_uri": "https://localhost:8080/",
          "height": 459
        },
        "outputId": "e581ae87-b462-4238-944d-983129da3f51"
      },
      "source": [
        "#eliminated punctuation\n",
        "result.select(F.explode(F.arrays_zip('normalized.result')).alias(\"cols\")) \\\n",
        ".select(F.expr(\"cols['0']\").alias(\"normalized_tokens\")).show(truncate=False)"
      ],
      "execution_count": 9,
      "outputs": [
        {
          "output_type": "stream",
          "text": [
            "+-----------------+\n",
            "|normalized_tokens|\n",
            "+-----------------+\n",
            "|the              |\n",
            "|geneva           |\n",
            "|motor            |\n",
            "|show             |\n",
            "|the              |\n",
            "|first            |\n",
            "|major            |\n",
            "|car              |\n",
            "|show             |\n",
            "|of               |\n",
            "|the              |\n",
            "|year             |\n",
            "|opens            |\n",
            "|tomorrow         |\n",
            "|with             |\n",
            "|us               |\n",
            "|car              |\n",
            "|makers           |\n",
            "|hoping           |\n",
            "|to               |\n",
            "+-----------------+\n",
            "only showing top 20 rows\n",
            "\n"
          ],
          "name": "stdout"
        }
      ]
    },
    {
      "cell_type": "code",
      "metadata": {
        "id": "HOGUACIJeeUj",
        "colab_type": "code",
        "colab": {
          "base_uri": "https://localhost:8080/",
          "height": 459
        },
        "outputId": "af4d98aa-df6c-4384-e5b8-97b54771c0d3"
      },
      "source": [
        "#stemmed tokens\n",
        "result.select(F.explode(F.arrays_zip('stem.result')).alias(\"cols\")) \\\n",
        ".select(F.expr(\"cols['0']\").alias(\"token_stems\")).show(truncate=False)"
      ],
      "execution_count": 10,
      "outputs": [
        {
          "output_type": "stream",
          "text": [
            "+-----------+\n",
            "|token_stems|\n",
            "+-----------+\n",
            "|the        |\n",
            "|geneva     |\n",
            "|motor      |\n",
            "|show       |\n",
            "|,          |\n",
            "|the        |\n",
            "|first      |\n",
            "|major      |\n",
            "|car        |\n",
            "|show       |\n",
            "|of         |\n",
            "|the        |\n",
            "|year       |\n",
            "|,          |\n",
            "|open       |\n",
            "|tomorrow   |\n",
            "|with       |\n",
            "|u.         |\n",
            "|.          |\n",
            "|car        |\n",
            "+-----------+\n",
            "only showing top 20 rows\n",
            "\n"
          ],
          "name": "stdout"
        }
      ]
    },
    {
      "cell_type": "code",
      "metadata": {
        "id": "ApCB3G-6gGar",
        "colab_type": "code",
        "colab": {
          "base_uri": "https://localhost:8080/",
          "height": 459
        },
        "outputId": "c53358ce-ae47-4350-ddfc-0a96dff0e0fd"
      },
      "source": [
        "#removed_stopwords\n",
        "result.select(F.explode(F.arrays_zip('removed_stopwords.result')).alias(\"cols\")) \\\n",
        ".select(F.expr(\"cols['0']\").alias(\"removed_stopwords\")).show(truncate=False)"
      ],
      "execution_count": 11,
      "outputs": [
        {
          "output_type": "stream",
          "text": [
            "+-----------------+\n",
            "|removed_stopwords|\n",
            "+-----------------+\n",
            "|Geneva           |\n",
            "|Motor            |\n",
            "|Show             |\n",
            "|,                |\n",
            "|first            |\n",
            "|major            |\n",
            "|car              |\n",
            "|show             |\n",
            "|year             |\n",
            "|,                |\n",
            "|opens            |\n",
            "|tomorrow         |\n",
            "|U.S              |\n",
            "|.                |\n",
            "|Car              |\n",
            "|makers           |\n",
            "|hoping           |\n",
            "|make             |\n",
            "|new              |\n",
            "|inroads          |\n",
            "+-----------------+\n",
            "only showing top 20 rows\n",
            "\n"
          ],
          "name": "stdout"
        }
      ]
    },
    {
      "cell_type": "code",
      "metadata": {
        "id": "PQ86qhQmgMbh",
        "colab_type": "code",
        "colab": {
          "base_uri": "https://localhost:8080/",
          "height": 459
        },
        "outputId": "fb862b90-8f3b-483c-d7fd-aa398b762fa6"
      },
      "source": [
        "#lemmatization\n",
        "result.select(F.explode(F.arrays_zip('lemma.result')).alias(\"cols\")) \\\n",
        ".select(F.expr(\"cols['0']\").alias(\"lemma\")).show(truncate=False)"
      ],
      "execution_count": 12,
      "outputs": [
        {
          "output_type": "stream",
          "text": [
            "+--------+\n",
            "|lemma   |\n",
            "+--------+\n",
            "|The     |\n",
            "|Geneva  |\n",
            "|Motor   |\n",
            "|Show    |\n",
            "|,       |\n",
            "|the     |\n",
            "|first   |\n",
            "|major   |\n",
            "|car     |\n",
            "|show    |\n",
            "|of      |\n",
            "|the     |\n",
            "|year    |\n",
            "|,       |\n",
            "|open    |\n",
            "|tomorrow|\n",
            "|with    |\n",
            "|U.S     |\n",
            "|.       |\n",
            "|Car     |\n",
            "+--------+\n",
            "only showing top 20 rows\n",
            "\n"
          ],
          "name": "stdout"
        }
      ]
    }
  ]
}
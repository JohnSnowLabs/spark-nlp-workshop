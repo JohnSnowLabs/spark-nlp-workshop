{
  "cells": [
    {
      "cell_type": "markdown",
      "metadata": {
        "id": "lokVHWdvaz-W"
      },
      "source": [
        "![JohnSnowLabs](https://nlp.johnsnowlabs.com/assets/images/logo.png)\n",
        "\n",
        "[![Open In Colab](https://colab.research.google.com/assets/colab-badge.svg)](https://colab.research.google.com/github/JohnSnowLabs/spark-nlp-workshop/blob/master/tutorials/streamlit_notebooks/public/BertForSequenceClassification.ipynb)"
      ]
    },
    {
      "cell_type": "markdown",
      "metadata": {
        "id": "Oex6UyiHHpJS"
      },
      "source": [
        "## **Bert For Sequence Classification**"
      ]
    },
    {
      "cell_type": "markdown",
      "metadata": {
        "id": "U-UAcTkUbjzm"
      },
      "source": [
        "## 1. Colab Setup"
      ]
    },
    {
      "cell_type": "code",
      "execution_count": null,
      "metadata": {
        "id": "5GlpBHUvcWup"
      },
      "outputs": [],
      "source": [
        "# Installing pyspark and spark-nlp\n",
        "! pip install --upgrade -q pyspark==3.2.0 spark-nlp==3.4.1"
      ]
    },
    {
      "cell_type": "markdown",
      "metadata": {
        "id": "nW5bAaR5c2TH"
      },
      "source": [
        "Import Libraries"
      ]
    },
    {
      "cell_type": "code",
      "execution_count": null,
      "metadata": {
        "id": "emQDF6lDc33M"
      },
      "outputs": [],
      "source": [
        "import pandas as pd\n",
        "import numpy as np\n",
        "import json\n",
        "from pyspark.ml import Pipeline\n",
        "from pyspark.sql import SparkSession\n",
        "import pyspark.sql.functions as F\n",
        "from sparknlp.annotator import *\n",
        "from sparknlp.base import *\n",
        "import sparknlp\n",
        "from sparknlp.pretrained import PretrainedPipeline\n",
        "\n",
        "from pyspark.sql.types import StringType, IntegerType"
      ]
    },
    {
      "cell_type": "markdown",
      "metadata": {
        "id": "zRoqgg0yjPuO"
      },
      "source": [
        "## 2. Start Spark Session"
      ]
    },
    {
      "cell_type": "code",
      "execution_count": null,
      "metadata": {
        "colab": {
          "base_uri": "https://localhost:8080/",
          "height": 237
        },
        "id": "6Hx6V__RrjJm",
        "outputId": "52d16a47-ca6c-49bf-abad-8a830f7165f6"
      },
      "outputs": [
        {
          "name": "stdout",
          "output_type": "stream",
          "text": [
            "Spark NLP Version : 3.4.1\n"
          ]
        },
        {
          "data": {
            "text/html": [
              "\n",
              "            <div>\n",
              "                <p><b>SparkSession - in-memory</b></p>\n",
              "                \n",
              "        <div>\n",
              "            <p><b>SparkContext</b></p>\n",
              "\n",
              "            <p><a href=\"http://62ec8a26ce2b:4040\">Spark UI</a></p>\n",
              "\n",
              "            <dl>\n",
              "              <dt>Version</dt>\n",
              "                <dd><code>v3.2.0</code></dd>\n",
              "              <dt>Master</dt>\n",
              "                <dd><code>local[*]</code></dd>\n",
              "              <dt>AppName</dt>\n",
              "                <dd><code>Spark NLP</code></dd>\n",
              "            </dl>\n",
              "        </div>\n",
              "        \n",
              "            </div>\n",
              "        "
            ],
            "text/plain": [
              "<pyspark.sql.session.SparkSession at 0x7fc363049890>"
            ]
          },
          "execution_count": 3,
          "metadata": {},
          "output_type": "execute_result"
        }
      ],
      "source": [
        "spark = sparknlp.start(spark32=True)\n",
        "\n",
        "print(\"Spark NLP Version :\", sparknlp.version())\n",
        "\n",
        "spark"
      ]
    },
    {
      "cell_type": "markdown",
      "metadata": {
        "id": "ELr5bVqXdDFt"
      },
      "source": [
        "## 3. Select the DL model"
      ]
    },
    {
      "cell_type": "code",
      "execution_count": 13,
      "metadata": {
        "id": "0xlJbGcF_j_b"
      },
      "outputs": [],
      "source": [
        "### Select Model\n",
        "model_antisemitism = 'bert_sequence_classifier_antisemitism'\n",
        "model_trec_coarse = \"bert_sequence_classifier_trec_coarse\"\n",
        "model_age_news = \"bert_sequence_classifier_age_news\""
      ]
    },
    {
      "cell_type": "markdown",
      "metadata": {
        "id": "oNvh-eaRJsJ3"
      },
      "source": [
        "## 4. Some sample examples"
      ]
    },
    {
      "cell_type": "code",
      "execution_count": null,
      "metadata": {
        "id": "JHleRuSGJqd5"
      },
      "outputs": [],
      "source": [
        "text_antisemitism = [\n",
        "\"\"\"Shylock in Merchant of Venice. Shylock was a Jew and moneylender. Depends on the context it is used but as the antisemitism is hotly debated nowadays if I were a Jew I wouldn't like to hear it. Perhaps I'm wrong but that's my opinion.\"\"\",\n",
        "\"\"\"That Jew gripped yo nuts and you did nothing and you been attacking black people ever since. Probably like that shit\"\"\",\n",
        "\"\"\"They came for the Jews, and I did not speak out Because I was not a Jew.Then they came for me and there was no one left to speak for me\"\"\",\n",
        "\"\"\"David is a sephardic jew huh.... now i have to give him my entire heart i guess\"\"\",\n",
        "\"\"\"I asked a genuine question, she has been smearing @georgegalloway for a while now without any evidence. Am I not allowed to ask her to show me the anti Semitism. Remember @RachelRileyRR is the one who said she ‘doesn’t look like a normal jew’ that to me is anti Semitic\"\"\",\n",
        "\"\"\"I pointed the finger directly at the fascists still in control of Europe the muh jew shills began in earnest. Distraction, anger, insult, lies.\"\"\",\n",
        "]"
      ]
    },
    {
      "cell_type": "code",
      "execution_count": null,
      "metadata": {
        "id": "kHzKqaw3l16r"
      },
      "outputs": [],
      "source": [
        "text_trec_coarse = [\"\"\"Germany is the largest country in Europe economically.\"\"\",\n",
        "\"\"\"What other prince showed his paintings in a two-prince exhibition with Prince Charles in London?\"\"\",\n",
        "\"\"\"What is the name of the chronic neurological autoimmune disease which attacks the protein sheath that surrounds nerve cells causing a gradual loss of movement in the body?\"\"\",\n",
        "\"\"\"How many hands does Bjorn Borg use when hitting his forehand?\"\"\",\n",
        "\"\"\"CNN is the abbreviation for what?\"\"\",\n",
        "\"\"\"Give a reason for American Indians oftentimes dropping out of school.\"\"\",\n",
        "\"\"\"What was organized as a confederate veterans social club in Pulaski, in Tennessee, in 1866?\"\"\",\n",
        "\"\"\"Who was the first person inducted into the U.S. Swimming Hall of Fame?\"\"\",\n",
        "\"\"\"What did the only repealed amendment to the U.S. Constitution deal with?\"\"\",\n",
        "]"
      ]
    },
    {
      "cell_type": "code",
      "execution_count": null,
      "metadata": {
        "id": "s61h1Eow7b-1"
      },
      "outputs": [],
      "source": [
        "text_age_news = [\"\"\"Carlyle Looks Toward Commercial Aerospace (Reuters) Reuters - Private investment firm Carlyle Group, which has a reputation for making well-timed and occasionally controversial plays in the defense industry, has quietly placed its bets on another part of the market.\"\"\",\n",
        "\"\"\"Juventus and Olympique Lyon joined Chelsea and Inter Milan in the last 16 of the Champions League after both scored late goals to seal their places on Wednesday.\"\"\",\n",
        "\"\"\"Fearing the fate of Italy, the centre-right government has threatened to be merciless with those who flout tough restrictions.\"\"\",\n",
        "\"\"\"Cisco Systems is teaming up with researchers at the Massachusetts Institute of Technology to develop new communications technology that the company hopes to ultimately turn into products.\"\"\",\n",
        "\"\"\"Golf is not a sport renowned for being at ease with gender issues. Many of the games great clubs refuse to admit women, and the occasional inclusion of women in men professional tournaments has caused consternation from Arran to Augusta.\"\"\",\n",
        "\"\"\"The Supreme Council of the United Arab Emirates (UAE) on Wednesday evening unanimously elected Sheikh Khalifa bin Zayed Al Nahyan as the new president of the UAE, the official Emirates news agency WAM reported Wednesday.\"\"\",\n",
        "\"\"\"The Norwegian hacker famed for developing DVD encryption cracking software has apparently struck again; this time breaking the locks on Apple Computer Inc.'s wireless music streaming technology.\"\"\",\n",
        "\"\"\"Utility holding company Ameren Corp. announced plans Wednesday to reduce its payroll by offering 950 union and management employees financial incentives to leave.\"\"\"\n",
        "]"
      ]
    },
    {
      "cell_type": "markdown",
      "metadata": {
        "id": "2a_IxNF9JxsY"
      },
      "source": [
        "## 5. Define Spark NLP pipeline"
      ]
    },
    {
      "cell_type": "code",
      "execution_count": 14,
      "metadata": {
        "id": "0RT-ckYKZnrZ"
      },
      "outputs": [],
      "source": [
        "model_dict = {model_antisemitism: text_antisemitism,\n",
        "              model_trec_coarse :text_trec_coarse,\n",
        "              model_age_news :text_age_news}"
      ]
    },
    {
      "cell_type": "code",
      "execution_count": 15,
      "metadata": {
        "id": "q8KfZCDlJyUI"
      },
      "outputs": [],
      "source": [
        "def run_pipeline(model, text, results):  \n",
        "  document_assembler = DocumentAssembler() \\\n",
        "      .setInputCol('text') \\\n",
        "      .setOutputCol('document')\n",
        "\n",
        "  tokenizer = Tokenizer() \\\n",
        "      .setInputCols(['document']) \\\n",
        "      .setOutputCol('token')\n",
        "\n",
        "  sequenceClassifier = BertForSequenceClassification\\\n",
        "        .pretrained(model, 'en') \\\n",
        "        .setInputCols(['token', 'document']) \\\n",
        "        .setOutputCol('pred_class')\n",
        "\n",
        "  pipeline = Pipeline(stages=[document_assembler, tokenizer, sequenceClassifier])\n",
        "\n",
        "  df = spark.createDataFrame(text, StringType()).toDF(\"text\")\n",
        "  results[model]=(pipeline.fit(df).transform(df))"
      ]
    },
    {
      "cell_type": "markdown",
      "metadata": {
        "id": "Mb98zKUsKHjy"
      },
      "source": [
        "## 6. Run the pipeline"
      ]
    },
    {
      "cell_type": "code",
      "execution_count": 16,
      "metadata": {
        "colab": {
          "base_uri": "https://localhost:8080/"
        },
        "id": "5EtESx8iKIti",
        "outputId": "6f2a5d11-571c-408a-d06c-cf6bf8fd1521"
      },
      "outputs": [
        {
          "name": "stdout",
          "output_type": "stream",
          "text": [
            "bert_sequence_classifier_antisemitism download started this may take some time.\n",
            "Approximate size to download 390.8 MB\n",
            "[OK!]\n",
            "bert_sequence_classifier_trec_coarse download started this may take some time.\n",
            "Approximate size to download 387.8 MB\n",
            "[OK!]\n",
            "bert_sequence_classifier_age_news download started this may take some time.\n",
            "Approximate size to download 40.4 MB\n",
            "[OK!]\n"
          ]
        }
      ],
      "source": [
        "results = {}\n",
        "for model, text in zip(model_dict.keys(),model_dict.values()):\n",
        "  run_pipeline(model, text, results)"
      ]
    },
    {
      "cell_type": "markdown",
      "metadata": {
        "id": "uq3mR_CdKT4d"
      },
      "source": [
        "## 7. Visualize results"
      ]
    },
    {
      "cell_type": "code",
      "execution_count": 17,
      "metadata": {
        "colab": {
          "base_uri": "https://localhost:8080/"
        },
        "id": "gWwX01fLKSRB",
        "outputId": "5bbf3e53-1471-40bc-e8e2-0043ea15d65e"
      },
      "outputs": [
        {
          "name": "stdout",
          "output_type": "stream",
          "text": [
            "\n",
            " bert_sequence_classifier_antisemitism \n",
            "\n",
            "+----------+----------+-----------------------------------------------------------------------------------------------------------------------------------------------------------------------------------------------------------------------------------------------------------------------------+\n",
            "|prediction|confidence|sentence                                                                                                                                                                                                                                                                     |\n",
            "+----------+----------+-----------------------------------------------------------------------------------------------------------------------------------------------------------------------------------------------------------------------------------------------------------------------------+\n",
            "|0         |0.92433804|Shylock in Merchant of Venice. Shylock was a Jew and moneylender. Depends on the context it is used but as the antisemitism is hotly debated nowadays if I were a Jew I wouldn't like to hear it. Perhaps I'm wrong but that's my opinion.                                   |\n",
            "|1         |0.84807223|That Jew gripped yo nuts and you did nothing and you been attacking black people ever since. Probably like that shit                                                                                                                                                         |\n",
            "|0         |0.9177388 |They came for the Jews, and I did not speak out Because I was not a Jew.Then they came for me and there was no one left to speak for me                                                                                                                                      |\n",
            "|1         |0.60970885|David is a sephardic jew huh.... now i have to give him my entire heart i guess                                                                                                                                                                                              |\n",
            "|0         |0.87242013|I asked a genuine question, she has been smearing @georgegalloway for a while now without any evidence. Am I not allowed to ask her to show me the anti Semitism. Remember @RachelRileyRR is the one who said she ‘doesn’t look like a normal jew’ that to me is anti Semitic|\n",
            "|1         |0.64080966|I pointed the finger directly at the fascists still in control of Europe the muh jew shills began in earnest. Distraction, anger, insult, lies.                                                                                                                              |\n",
            "+----------+----------+-----------------------------------------------------------------------------------------------------------------------------------------------------------------------------------------------------------------------------------------------------------------------------+\n",
            "\n",
            "\n",
            "**********************************\n",
            "\n",
            "\n",
            " bert_sequence_classifier_trec_coarse \n",
            "\n",
            "+----------+----------+---------------------------------------------------------------------------------------------------------------------------------------------------------------------------+\n",
            "|prediction|confidence|sentence                                                                                                                                                                   |\n",
            "+----------+----------+---------------------------------------------------------------------------------------------------------------------------------------------------------------------------+\n",
            "|LOC       |0.9979365 |Germany is the largest country in Europe economically.                                                                                                                     |\n",
            "|HUM       |0.9993167 |What other prince showed his paintings in a two-prince exhibition with Prince Charles in London?                                                                           |\n",
            "|ENTY      |0.9967065 |What is the name of the chronic neurological autoimmune disease which attacks the protein sheath that surrounds nerve cells causing a gradual loss of movement in the body?|\n",
            "|NUM       |0.99855345|How many hands does Bjorn Borg use when hitting his forehand?                                                                                                              |\n",
            "|ABBR      |0.9825416 |CNN is the abbreviation for what?                                                                                                                                          |\n",
            "|DESC      |0.99291456|Give a reason for American Indians oftentimes dropping out of school.                                                                                                      |\n",
            "|ENTY      |0.9968962 |What was organized as a confederate veterans social club in Pulaski, in Tennessee, in 1866?                                                                                |\n",
            "|HUM       |0.99934417|Who was the first person inducted into the U.S. Swimming Hall of Fame?                                                                                                     |\n",
            "|DESC      |0.97615206|What did the only repealed amendment to the U.S. Constitution deal with?                                                                                                   |\n",
            "+----------+----------+---------------------------------------------------------------------------------------------------------------------------------------------------------------------------+\n",
            "\n",
            "\n",
            "**********************************\n",
            "\n",
            "\n",
            " bert_sequence_classifier_age_news \n",
            "\n",
            "+----------+----------+--------------------------------------------------------------------------------------------------------------------------------------------------------------------------------------------------------------------------------------------------------------------------+\n",
            "|prediction|confidence|sentence                                                                                                                                                                                                                                                                  |\n",
            "+----------+----------+--------------------------------------------------------------------------------------------------------------------------------------------------------------------------------------------------------------------------------------------------------------------------+\n",
            "|Business  |0.903488  |Carlyle Looks Toward Commercial Aerospace (Reuters) Reuters - Private investment firm Carlyle Group, which has a reputation for making well-timed and occasionally controversial plays in the defense industry, has quietly placed its bets on another part of the market.|\n",
            "|Sports    |0.9657133 |Juventus and Olympique Lyon joined Chelsea and Inter Milan in the last 16 of the Champions League after both scored late goals to seal their places on Wednesday.                                                                                                         |\n",
            "|World     |0.9784907 |Fearing the fate of Italy, the centre-right government has threatened to be merciless with those who flout tough restrictions.                                                                                                                                            |\n",
            "|Sci/Tech  |0.9850067 |Cisco Systems is teaming up with researchers at the Massachusetts Institute of Technology to develop new communications technology that the company hopes to ultimately turn into products.                                                                               |\n",
            "|Sports    |0.9952618 |Golf is not a sport renowned for being at ease with gender issues. Many of the games great clubs refuse to admit women, and the occasional inclusion of women in men professional tournaments has caused consternation from Arran to Augusta.                             |\n",
            "|World     |0.99470615|The Supreme Council of the United Arab Emirates (UAE) on Wednesday evening unanimously elected Sheikh Khalifa bin Zayed Al Nahyan as the new president of the UAE, the official Emirates news agency WAM reported Wednesday.                                              |\n",
            "|Sci/Tech  |0.98971355|The Norwegian hacker famed for developing DVD encryption cracking software has apparently struck again; this time breaking the locks on Apple Computer Inc.'s wireless music streaming technology.                                                                        |\n",
            "|Business  |0.8720809 |Utility holding company Ameren Corp. announced plans Wednesday to reduce its payroll by offering 950 union and management employees financial incentives to leave.                                                                                                        |\n",
            "+----------+----------+--------------------------------------------------------------------------------------------------------------------------------------------------------------------------------------------------------------------------------------------------------------------------+\n",
            "\n",
            "\n",
            "**********************************\n",
            "\n"
          ]
        }
      ],
      "source": [
        "for model_name, result in zip(results.keys(),results.values()):  \n",
        "  res = result.select(F.explode(F.arrays_zip(result.document.result, \n",
        "                                                  result.pred_class.result,\n",
        "                                                  result.pred_class.metadata)).alias(\"col\"))\\\n",
        "                  .select(F.expr(\"col['1']\").alias(\"prediction\"),\n",
        "                          F.expr(\"col['2']\").alias(\"confidence\"),\n",
        "                          F.expr(\"col['0']\").alias(\"sentence\"))\n",
        "                  \n",
        "  if res.count()>1:\n",
        "    udf_func = F.udf(lambda x,y:  x[\"Some(\"+str(y)+\")\"])\n",
        "    print(\"\\n\",model_name,\"\\n\") \n",
        "    res.withColumn('confidence', udf_func(res.confidence, res.prediction)).show(truncate=False)\n",
        "    print(\"\\n**********************************\\n\") "
      ]
    },
    {
      "cell_type": "code",
      "execution_count": null,
      "metadata": {
        "id": "lCrazcKQoD2l"
      },
      "outputs": [],
      "source": []
    }
  ],
  "metadata": {
    "colab": {
      "collapsed_sections": [],
      "name": "BertForSequenceClassification.ipynb",
      "provenance": [],
      "toc_visible": true
    },
    "kernelspec": {
      "display_name": "Python 3",
      "name": "python3"
    },
    "language_info": {
      "codemirror_mode": {
        "name": "ipython",
        "version": 3
      },
      "file_extension": ".py",
      "mimetype": "text/x-python",
      "name": "python",
      "nbconvert_exporter": "python",
      "pygments_lexer": "ipython3",
      "version": "3.6.10"
    }
  },
  "nbformat": 4,
  "nbformat_minor": 0
}

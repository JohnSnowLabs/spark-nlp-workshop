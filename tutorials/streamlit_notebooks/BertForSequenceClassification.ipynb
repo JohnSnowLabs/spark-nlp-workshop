{
  "cells": [
    {
      "cell_type": "markdown",
      "metadata": {
        "id": "lokVHWdvaz-W"
      },
      "source": [
        "![JohnSnowLabs](https://nlp.johnsnowlabs.com/assets/images/logo.png)\n",
        "\n",
        "[![Open In Colab](https://colab.research.google.com/assets/colab-badge.svg)](https://colab.research.google.com/github/JohnSnowLabs/spark-nlp-workshop/blob/master/tutorials/streamlit_notebooks/BertForSequenceClassification.ipynb)"
      ]
    },
    {
      "cell_type": "markdown",
      "metadata": {
        "id": "Oex6UyiHHpJS"
      },
      "source": [
        "# `BertForSequenceClassification` **Models**"
      ]
    },
    {
      "cell_type": "markdown",
      "metadata": {
        "id": "U-UAcTkUbjzm"
      },
      "source": [
        "## 1. Colab Setup"
      ]
    },
    {
      "cell_type": "code",
      "execution_count": null,
      "metadata": {
        "id": "5GlpBHUvcWup"
      },
      "outputs": [],
      "source": [
        "# Installing pyspark and spark-nlp\n",
        "! pip install --upgrade -q pyspark==3.2.0 spark-nlp==3.4.1"
      ]
    },
    {
      "cell_type": "markdown",
      "metadata": {
        "id": "nW5bAaR5c2TH"
      },
      "source": [
        "Import Libraries"
      ]
    },
    {
      "cell_type": "code",
      "execution_count": 2,
      "metadata": {
        "id": "emQDF6lDc33M"
      },
      "outputs": [],
      "source": [
        "import pandas as pd\n",
        "import numpy as np\n",
        "import json\n",
        "from pyspark.ml import Pipeline\n",
        "from pyspark.sql import SparkSession\n",
        "import pyspark.sql.functions as F\n",
        "from sparknlp.annotator import *\n",
        "from sparknlp.base import *\n",
        "import sparknlp\n",
        "from sparknlp.pretrained import PretrainedPipeline\n",
        "\n",
        "from pyspark.sql.types import StringType, IntegerType"
      ]
    },
    {
      "cell_type": "markdown",
      "metadata": {
        "id": "zRoqgg0yjPuO"
      },
      "source": [
        "## 2. Start Spark Session"
      ]
    },
    {
      "cell_type": "code",
      "execution_count": 3,
      "metadata": {
        "colab": {
          "base_uri": "https://localhost:8080/",
          "height": 237
        },
        "id": "6Hx6V__RrjJm",
        "outputId": "e8f04a32-261a-4e8d-866b-88ef07b42770"
      },
      "outputs": [
        {
          "output_type": "stream",
          "name": "stdout",
          "text": [
            "Spark NLP Version : 3.4.1\n"
          ]
        },
        {
          "output_type": "execute_result",
          "data": {
            "text/plain": [
              "<pyspark.sql.session.SparkSession at 0x7f4055e47110>"
            ],
            "text/html": [
              "\n",
              "            <div>\n",
              "                <p><b>SparkSession - in-memory</b></p>\n",
              "                \n",
              "        <div>\n",
              "            <p><b>SparkContext</b></p>\n",
              "\n",
              "            <p><a href=\"http://7a98ecba5374:4040\">Spark UI</a></p>\n",
              "\n",
              "            <dl>\n",
              "              <dt>Version</dt>\n",
              "                <dd><code>v3.2.0</code></dd>\n",
              "              <dt>Master</dt>\n",
              "                <dd><code>local[*]</code></dd>\n",
              "              <dt>AppName</dt>\n",
              "                <dd><code>Spark NLP</code></dd>\n",
              "            </dl>\n",
              "        </div>\n",
              "        \n",
              "            </div>\n",
              "        "
            ]
          },
          "metadata": {},
          "execution_count": 3
        }
      ],
      "source": [
        "spark = sparknlp.start(spark32=True)\n",
        "\n",
        "print(\"Spark NLP Version :\", sparknlp.version())\n",
        "\n",
        "spark"
      ]
    },
    {
      "cell_type": "markdown",
      "metadata": {
        "id": "ELr5bVqXdDFt"
      },
      "source": [
        "## 3. Select the DL model"
      ]
    },
    {
      "cell_type": "code",
      "execution_count": 4,
      "metadata": {
        "id": "0xlJbGcF_j_b"
      },
      "outputs": [],
      "source": [
        "### Select Model\n",
        "model_antisemitism = 'bert_sequence_classifier_antisemitism'\n",
        "model_trec_coarse = \"bert_sequence_classifier_trec_coarse\"\n",
        "model_age_news = \"bert_sequence_classifier_age_news\"\n",
        "model_hatexplain = \"bert_sequence_classifier_hatexplain\"\n",
        "model_emotion = \"bert_sequence_classifier_emotion\"\n",
        "model_banking = \"bert_sequence_classifier_banking77\""
      ]
    },
    {
      "cell_type": "markdown",
      "metadata": {
        "id": "oNvh-eaRJsJ3"
      },
      "source": [
        "## 4. Some sample examples"
      ]
    },
    {
      "cell_type": "code",
      "execution_count": 5,
      "metadata": {
        "id": "JHleRuSGJqd5"
      },
      "outputs": [],
      "source": [
        "text_antisemitism = [\"\"\"Shylock in Merchant of Venice. Shylock was a Jew and moneylender. Depends on the context it is used but as the antisemitism is hotly debated nowadays if I were a Jew I wouldn't like to hear it. Perhaps I'm wrong but that's my opinion.\"\"\",\n",
        "\"\"\"That Jew gripped yo nuts and you did nothing and you been attacking black people ever since. Probably like that shit\"\"\",\n",
        "\"\"\"They came for the Jews, and I did not speak out Because I was not a Jew.Then they came for me and there was no one left to speak for me\"\"\",\n",
        "\"\"\"David is a sephardic jew huh.... now i have to give him my entire heart i guess\"\"\",\n",
        "\"\"\"I asked a genuine question, she has been smearing @georgegalloway for a while now without any evidence. Am I not allowed to ask her to show me the anti Semitism. Remember @RachelRileyRR is the one who said she ‘doesn’t look like a normal jew’ that to me is anti Semitic\"\"\",\n",
        "\"\"\"I pointed the finger directly at the fascists still in control of Europe the muh jew shills began in earnest. Distraction, anger, insult, lies.\"\"\",\n",
        "]"
      ]
    },
    {
      "cell_type": "code",
      "execution_count": 6,
      "metadata": {
        "id": "kHzKqaw3l16r"
      },
      "outputs": [],
      "source": [
        "text_trec_coarse = [\"\"\"Germany is the largest country in Europe economically.\"\"\",\n",
        "\"\"\"What other prince showed his paintings in a two-prince exhibition with Prince Charles in London?\"\"\",\n",
        "\"\"\"What is the name of the chronic neurological autoimmune disease which attacks the protein sheath that surrounds nerve cells causing a gradual loss of movement in the body?\"\"\",\n",
        "\"\"\"How many hands does Bjorn Borg use when hitting his forehand?\"\"\",\n",
        "\"\"\"CNN is the abbreviation for what?\"\"\",\n",
        "\"\"\"Give a reason for American Indians oftentimes dropping out of school.\"\"\",\n",
        "\"\"\"What was organized as a confederate veterans social club in Pulaski, in Tennessee, in 1866?\"\"\",\n",
        "\"\"\"Who was the first person inducted into the U.S. Swimming Hall of Fame?\"\"\",\n",
        "\"\"\"What did the only repealed amendment to the U.S. Constitution deal with?\"\"\",\n",
        "]"
      ]
    },
    {
      "cell_type": "code",
      "execution_count": 7,
      "metadata": {
        "id": "s61h1Eow7b-1"
      },
      "outputs": [],
      "source": [
        "text_age_news = [\"\"\"Carlyle Looks Toward Commercial Aerospace (Reuters) Reuters - Private investment firm Carlyle Group, which has a reputation for making well-timed and occasionally controversial plays in the defense industry, has quietly placed its bets on another part of the market.\"\"\",\n",
        "\"\"\"Juventus and Olympique Lyon joined Chelsea and Inter Milan in the last 16 of the Champions League after both scored late goals to seal their places on Wednesday.\"\"\",\n",
        "\"\"\"Fearing the fate of Italy, the centre-right government has threatened to be merciless with those who flout tough restrictions.\"\"\",\n",
        "\"\"\"Cisco Systems is teaming up with researchers at the Massachusetts Institute of Technology to develop new communications technology that the company hopes to ultimately turn into products.\"\"\",\n",
        "\"\"\"Golf is not a sport renowned for being at ease with gender issues. Many of the games great clubs refuse to admit women, and the occasional inclusion of women in men professional tournaments has caused consternation from Arran to Augusta.\"\"\",\n",
        "\"\"\"The Supreme Council of the United Arab Emirates (UAE) on Wednesday evening unanimously elected Sheikh Khalifa bin Zayed Al Nahyan as the new president of the UAE, the official Emirates news agency WAM reported Wednesday.\"\"\",\n",
        "\"\"\"The Norwegian hacker famed for developing DVD encryption cracking software has apparently struck again; this time breaking the locks on Apple Computer Inc.'s wireless music streaming technology.\"\"\",\n",
        "\"\"\"Utility holding company Ameren Corp. announced plans Wednesday to reduce its payroll by offering 950 union and management employees financial incentives to leave.\"\"\"\n",
        "]"
      ]
    },
    {
      "cell_type": "code",
      "source": [
        "text_hatexplain = [\"\"\"If English is not imposition then Hindi is also not imposition shut up chutiya retards stop hindi imposition.\"\"\",\n",
        "\"\"\"The uk has threatened to return radioactive waste to the eu if an agreement cannot be reached can not we keep the radioactive waste and send back all the paki migrants instead\"\"\",\n",
        "\"\"\"Afghani immigrant once told me that in Afghanistan we do not believe in fences while our conversation was about livestock guardian dogs it now occurs to me what this really means is that there no belief in protection of persons or property\"\"\",\n",
        "\"\"\"I post a video showing the shocking promotion of violence by the south african eff themselves and jewtube still say i am promoting violence\"\"\",\n",
        "\"\"\"I want to go back to school and get an education but i am poor and colleges are kike rip offs i am not satisfied with where i am in life and honestly have no clue where or how to start pushing forward\"\"\",\n",
        "\"\"\"I am confused how a president blocked stimulus checks for those who married to immigrants while he himself married to an immigrant\"\"\",\n",
        "\"\"\"I love you very much!\"\"\"]"
      ],
      "metadata": {
        "id": "4k8DU-LlH_CQ"
      },
      "execution_count": 8,
      "outputs": []
    },
    {
      "cell_type": "code",
      "source": [
        "text_emotion = [\"\"\"I've been taking or milligrams or times recommended amount and I've fallen asleep a lot faster but I also feel like so funny.\"\"\",\n",
        "\"\"\"I have been with petronas for years I feel that petronas has performed well and made a huge profit.\"\"\",\n",
        "\"\"\"I feel a bit rude writing to an elderly gentleman to ask for gifts because i feel a bit greedy but what is christmas about if not mild greed.\"\"\",\n",
        "\"\"\"I feel romantic too\"\"\",\n",
        "\"\"\"I now feel compromised and skeptical of the value of every unit of work I put in\"\"\",\n",
        "\"\"\"I started feeling sentimental about dolls I had as a child and so began a collection of vintage barbie dolls from the sixties\"\"\"]"
      ],
      "metadata": {
        "id": "_I-3I22cytMZ"
      },
      "execution_count": 9,
      "outputs": []
    },
    {
      "cell_type": "code",
      "source": [
        "text_banking = [\"\"\"I have been waiting over a week. Is the card still coming?\"\"\",\n",
        "\"\"\"I need a transaction reversed from my account.\"\"\",\n",
        "\"\"\"How long does it take for cards to be delivered after ordering them?\"\"\",\n",
        "\"\"\"I've just been married and need to update my name\"\"\",\n",
        "\"\"\"I'm interested in learning more about disposable virtual cards.\t\"\"\",\n",
        "\"\"\"I tried topping up using my card, but the money is gone?\"\"\"]"
      ],
      "metadata": {
        "id": "N3g8_uecQwEw"
      },
      "execution_count": 10,
      "outputs": []
    },
    {
      "cell_type": "markdown",
      "metadata": {
        "id": "2a_IxNF9JxsY"
      },
      "source": [
        "## 5. Define Spark NLP pipeline"
      ]
    },
    {
      "cell_type": "code",
      "execution_count": 11,
      "metadata": {
        "id": "0RT-ckYKZnrZ"
      },
      "outputs": [],
      "source": [
        "model_dict = {model_antisemitism: text_antisemitism,\n",
        "              model_trec_coarse :text_trec_coarse,\n",
        "              model_age_news :text_age_news,\n",
        "              model_hatexplain: text_hatexplain,\n",
        "              model_emotion: text_emotion,\n",
        "              model_banking: text_banking}"
      ]
    },
    {
      "cell_type": "code",
      "execution_count": 12,
      "metadata": {
        "id": "q8KfZCDlJyUI"
      },
      "outputs": [],
      "source": [
        "def run_pipeline(model, text, results):  \n",
        "  document_assembler = DocumentAssembler() \\\n",
        "      .setInputCol('text') \\\n",
        "      .setOutputCol('document')\n",
        "\n",
        "  tokenizer = Tokenizer() \\\n",
        "      .setInputCols(['document']) \\\n",
        "      .setOutputCol('token')\n",
        "\n",
        "  sequenceClassifier = BertForSequenceClassification\\\n",
        "        .pretrained(model, 'en') \\\n",
        "        .setInputCols(['token', 'document']) \\\n",
        "        .setOutputCol('pred_class')\n",
        "\n",
        "  pipeline = Pipeline(stages=[document_assembler, tokenizer, sequenceClassifier])\n",
        "\n",
        "  df = spark.createDataFrame(text, StringType()).toDF(\"text\")\n",
        "  results[model]=(pipeline.fit(df).transform(df))"
      ]
    },
    {
      "cell_type": "markdown",
      "metadata": {
        "id": "Mb98zKUsKHjy"
      },
      "source": [
        "## 6. Run the pipeline"
      ]
    },
    {
      "cell_type": "code",
      "execution_count": 13,
      "metadata": {
        "colab": {
          "base_uri": "https://localhost:8080/"
        },
        "id": "5EtESx8iKIti",
        "outputId": "3ff1f123-d730-4041-b07c-69a7b9e4a223"
      },
      "outputs": [
        {
          "output_type": "stream",
          "name": "stdout",
          "text": [
            "bert_sequence_classifier_antisemitism download started this may take some time.\n",
            "Approximate size to download 390.8 MB\n",
            "[OK!]\n",
            "bert_sequence_classifier_trec_coarse download started this may take some time.\n",
            "Approximate size to download 387.8 MB\n",
            "[OK!]\n",
            "bert_sequence_classifier_age_news download started this may take some time.\n",
            "Approximate size to download 40.4 MB\n",
            "[OK!]\n",
            "bert_sequence_classifier_hatexplain download started this may take some time.\n",
            "Approximate size to download 391.1 MB\n",
            "[OK!]\n",
            "bert_sequence_classifier_emotion download started this may take some time.\n",
            "Approximate size to download 391.1 MB\n",
            "[OK!]\n",
            "bert_sequence_classifier_banking77 download started this may take some time.\n",
            "Approximate size to download 391.3 MB\n",
            "[OK!]\n"
          ]
        }
      ],
      "source": [
        "results = {}\n",
        "for model, text in zip(model_dict.keys(),model_dict.values()):\n",
        "  run_pipeline(model, text, results)"
      ]
    },
    {
      "cell_type": "markdown",
      "metadata": {
        "id": "uq3mR_CdKT4d"
      },
      "source": [
        "## 7. Visualize results"
      ]
    },
    {
      "cell_type": "code",
      "execution_count": 14,
      "metadata": {
        "colab": {
          "base_uri": "https://localhost:8080/"
        },
        "id": "gWwX01fLKSRB",
        "outputId": "8f046292-be57-4204-da83-478eb6cc381a"
      },
      "outputs": [
        {
          "output_type": "stream",
          "name": "stdout",
          "text": [
            "\n",
            " bert_sequence_classifier_antisemitism \n",
            "\n",
            "+----------+----------+-----------------------------------------------------------------------------------------------------------------------------------------------------------------------------------------------------------------------------------------------------------------------------+\n",
            "|prediction|confidence|sentence                                                                                                                                                                                                                                                                     |\n",
            "+----------+----------+-----------------------------------------------------------------------------------------------------------------------------------------------------------------------------------------------------------------------------------------------------------------------------+\n",
            "|0         |0.92433804|Shylock in Merchant of Venice. Shylock was a Jew and moneylender. Depends on the context it is used but as the antisemitism is hotly debated nowadays if I were a Jew I wouldn't like to hear it. Perhaps I'm wrong but that's my opinion.                                   |\n",
            "|1         |0.84807223|That Jew gripped yo nuts and you did nothing and you been attacking black people ever since. Probably like that shit                                                                                                                                                         |\n",
            "|0         |0.9177388 |They came for the Jews, and I did not speak out Because I was not a Jew.Then they came for me and there was no one left to speak for me                                                                                                                                      |\n",
            "|1         |0.60970885|David is a sephardic jew huh.... now i have to give him my entire heart i guess                                                                                                                                                                                              |\n",
            "|0         |0.87242013|I asked a genuine question, she has been smearing @georgegalloway for a while now without any evidence. Am I not allowed to ask her to show me the anti Semitism. Remember @RachelRileyRR is the one who said she ‘doesn’t look like a normal jew’ that to me is anti Semitic|\n",
            "|1         |0.64080966|I pointed the finger directly at the fascists still in control of Europe the muh jew shills began in earnest. Distraction, anger, insult, lies.                                                                                                                              |\n",
            "+----------+----------+-----------------------------------------------------------------------------------------------------------------------------------------------------------------------------------------------------------------------------------------------------------------------------+\n",
            "\n",
            "\n",
            "**********************************\n",
            "\n",
            "\n",
            " bert_sequence_classifier_trec_coarse \n",
            "\n",
            "+----------+----------+---------------------------------------------------------------------------------------------------------------------------------------------------------------------------+\n",
            "|prediction|confidence|sentence                                                                                                                                                                   |\n",
            "+----------+----------+---------------------------------------------------------------------------------------------------------------------------------------------------------------------------+\n",
            "|LOC       |0.9979365 |Germany is the largest country in Europe economically.                                                                                                                     |\n",
            "|HUM       |0.9993167 |What other prince showed his paintings in a two-prince exhibition with Prince Charles in London?                                                                           |\n",
            "|ENTY      |0.9967065 |What is the name of the chronic neurological autoimmune disease which attacks the protein sheath that surrounds nerve cells causing a gradual loss of movement in the body?|\n",
            "|NUM       |0.99855345|How many hands does Bjorn Borg use when hitting his forehand?                                                                                                              |\n",
            "|ABBR      |0.9825416 |CNN is the abbreviation for what?                                                                                                                                          |\n",
            "|DESC      |0.99291456|Give a reason for American Indians oftentimes dropping out of school.                                                                                                      |\n",
            "|ENTY      |0.9968962 |What was organized as a confederate veterans social club in Pulaski, in Tennessee, in 1866?                                                                                |\n",
            "|HUM       |0.99934417|Who was the first person inducted into the U.S. Swimming Hall of Fame?                                                                                                     |\n",
            "|DESC      |0.97615206|What did the only repealed amendment to the U.S. Constitution deal with?                                                                                                   |\n",
            "+----------+----------+---------------------------------------------------------------------------------------------------------------------------------------------------------------------------+\n",
            "\n",
            "\n",
            "**********************************\n",
            "\n",
            "\n",
            " bert_sequence_classifier_age_news \n",
            "\n",
            "+----------+----------+--------------------------------------------------------------------------------------------------------------------------------------------------------------------------------------------------------------------------------------------------------------------------+\n",
            "|prediction|confidence|sentence                                                                                                                                                                                                                                                                  |\n",
            "+----------+----------+--------------------------------------------------------------------------------------------------------------------------------------------------------------------------------------------------------------------------------------------------------------------------+\n",
            "|Business  |0.903488  |Carlyle Looks Toward Commercial Aerospace (Reuters) Reuters - Private investment firm Carlyle Group, which has a reputation for making well-timed and occasionally controversial plays in the defense industry, has quietly placed its bets on another part of the market.|\n",
            "|Sports    |0.9657133 |Juventus and Olympique Lyon joined Chelsea and Inter Milan in the last 16 of the Champions League after both scored late goals to seal their places on Wednesday.                                                                                                         |\n",
            "|World     |0.9784907 |Fearing the fate of Italy, the centre-right government has threatened to be merciless with those who flout tough restrictions.                                                                                                                                            |\n",
            "|Sci/Tech  |0.9850067 |Cisco Systems is teaming up with researchers at the Massachusetts Institute of Technology to develop new communications technology that the company hopes to ultimately turn into products.                                                                               |\n",
            "|Sports    |0.9952618 |Golf is not a sport renowned for being at ease with gender issues. Many of the games great clubs refuse to admit women, and the occasional inclusion of women in men professional tournaments has caused consternation from Arran to Augusta.                             |\n",
            "|World     |0.99470615|The Supreme Council of the United Arab Emirates (UAE) on Wednesday evening unanimously elected Sheikh Khalifa bin Zayed Al Nahyan as the new president of the UAE, the official Emirates news agency WAM reported Wednesday.                                              |\n",
            "|Sci/Tech  |0.98971355|The Norwegian hacker famed for developing DVD encryption cracking software has apparently struck again; this time breaking the locks on Apple Computer Inc.'s wireless music streaming technology.                                                                        |\n",
            "|Business  |0.8720809 |Utility holding company Ameren Corp. announced plans Wednesday to reduce its payroll by offering 950 union and management employees financial incentives to leave.                                                                                                        |\n",
            "+----------+----------+--------------------------------------------------------------------------------------------------------------------------------------------------------------------------------------------------------------------------------------------------------------------------+\n",
            "\n",
            "\n",
            "**********************************\n",
            "\n",
            "\n",
            " bert_sequence_classifier_hatexplain \n",
            "\n",
            "+-----------+----------+-----------------------------------------------------------------------------------------------------------------------------------------------------------------------------------------------------------------------------------------------+\n",
            "|prediction |confidence|sentence                                                                                                                                                                                                                                       |\n",
            "+-----------+----------+-----------------------------------------------------------------------------------------------------------------------------------------------------------------------------------------------------------------------------------------------+\n",
            "|offensive  |0.6510451 |If English is not imposition then Hindi is also not imposition shut up chutiya retards stop hindi imposition.                                                                                                                                  |\n",
            "|hate speech|0.60116196|The uk has threatened to return radioactive waste to the eu if an agreement cannot be reached can not we keep the radioactive waste and send back all the paki migrants instead                                                                |\n",
            "|normal     |0.7312728 |Afghani immigrant once told me that in Afghanistan we do not believe in fences while our conversation was about livestock guardian dogs it now occurs to me what this really means is that there no belief in protection of persons or property|\n",
            "|hate speech|0.49564043|I post a video showing the shocking promotion of violence by the south african eff themselves and jewtube still say i am promoting violence                                                                                                    |\n",
            "|hate speech|0.884142  |I want to go back to school and get an education but i am poor and colleges are kike rip offs i am not satisfied with where i am in life and honestly have no clue where or how to start pushing forward                                       |\n",
            "|normal     |0.59899694|I am confused how a president blocked stimulus checks for those who married to immigrants while he himself married to an immigrant                                                                                                             |\n",
            "|normal     |0.7642927 |I love you very much!                                                                                                                                                                                                                          |\n",
            "+-----------+----------+-----------------------------------------------------------------------------------------------------------------------------------------------------------------------------------------------------------------------------------------------+\n",
            "\n",
            "\n",
            "**********************************\n",
            "\n",
            "\n",
            " bert_sequence_classifier_emotion \n",
            "\n",
            "+----------+----------+---------------------------------------------------------------------------------------------------------------------------------------------+\n",
            "|prediction|confidence|sentence                                                                                                                                     |\n",
            "+----------+----------+---------------------------------------------------------------------------------------------------------------------------------------------+\n",
            "|surprise  |0.93503654|I've been taking or milligrams or times recommended amount and I've fallen asleep a lot faster but I also feel like so funny.                |\n",
            "|joy       |0.9964784 |I have been with petronas for years I feel that petronas has performed well and made a huge profit.                                          |\n",
            "|anger     |0.99370885|I feel a bit rude writing to an elderly gentleman to ask for gifts because i feel a bit greedy but what is christmas about if not mild greed.|\n",
            "|love      |0.985214  |I feel romantic too                                                                                                                          |\n",
            "|fear      |0.8988209 |I now feel compromised and skeptical of the value of every unit of work I put in                                                             |\n",
            "|sadness   |0.99379706|I started feeling sentimental about dolls I had as a child and so began a collection of vintage barbie dolls from the sixties                |\n",
            "+----------+----------+---------------------------------------------------------------------------------------------------------------------------------------------+\n",
            "\n",
            "\n",
            "**********************************\n",
            "\n",
            "\n",
            " bert_sequence_classifier_banking77 \n",
            "\n",
            "+---------------------------+----------+--------------------------------------------------------------------+\n",
            "|prediction                 |confidence|sentence                                                            |\n",
            "+---------------------------+----------+--------------------------------------------------------------------+\n",
            "|card_arrival               |0.99290943|I have been waiting over a week. Is the card still coming?          |\n",
            "|transaction_charged_twice  |0.9573063 |I need a transaction reversed from my account.                      |\n",
            "|card_delivery_estimate     |0.9853463 |How long does it take for cards to be delivered after ordering them?|\n",
            "|edit_personal_details      |0.993378  |I've just been married and need to update my name                   |\n",
            "|get_disposable_virtual_card|0.9775524 |I'm interested in learning more about disposable virtual cards.\\t   |\n",
            "|topping_up_by_card         |0.9861511 |I tried topping up using my card, but the money is gone?            |\n",
            "+---------------------------+----------+--------------------------------------------------------------------+\n",
            "\n",
            "\n",
            "**********************************\n",
            "\n"
          ]
        }
      ],
      "source": [
        "for model_name, result in zip(results.keys(),results.values()):  \n",
        "  res = result.select(F.explode(F.arrays_zip(result.document.result, \n",
        "                                                  result.pred_class.result,\n",
        "                                                  result.pred_class.metadata)).alias(\"col\"))\\\n",
        "                  .select(F.expr(\"col['1']\").alias(\"prediction\"),\n",
        "                          F.expr(\"col['2']\").alias(\"confidence\"),\n",
        "                          F.expr(\"col['0']\").alias(\"sentence\"))\n",
        "                  \n",
        "  if res.count()>1:\n",
        "    udf_func = F.udf(lambda x,y:  x[\"Some(\"+str(y)+\")\"])\n",
        "    print(\"\\n\",model_name,\"\\n\") \n",
        "    res.withColumn('confidence', udf_func(res.confidence, res.prediction)).show(truncate=False)\n",
        "    print(\"\\n**********************************\\n\") "
      ]
    },
    {
      "cell_type": "code",
      "execution_count": null,
      "metadata": {
        "id": "lCrazcKQoD2l"
      },
      "outputs": [],
      "source": [
        ""
      ]
    }
  ],
  "metadata": {
    "colab": {
      "collapsed_sections": [],
      "name": "BertForSequenceClassification.ipynb",
      "provenance": []
    },
    "kernelspec": {
      "display_name": "Python 3",
      "name": "python3"
    },
    "language_info": {
      "codemirror_mode": {
        "name": "ipython",
        "version": 3
      },
      "file_extension": ".py",
      "mimetype": "text/x-python",
      "name": "python",
      "nbconvert_exporter": "python",
      "pygments_lexer": "ipython3",
      "version": "3.6.10"
    }
  },
  "nbformat": 4,
  "nbformat_minor": 0
}
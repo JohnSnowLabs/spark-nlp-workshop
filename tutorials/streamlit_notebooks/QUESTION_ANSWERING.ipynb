{
 "cells": [
  {
   "source": [
    "\n",
    "\n",
    "![JohnSnowLabs](https://nlp.johnsnowlabs.com/assets/images/logo.png)\n",
    "\n",
    "[![Open In Colab](https://colab.research.google.com/assets/colab-badge.svg)](https://colab.research.google.com/github/JohnSnowLabs/spark-nlp-workshop/blob/master/tutorials/streamlit_notebooks/CONTEXTUAL_WORD_MEANING.ipynb)\n",
    "\n"
   ],
   "cell_type": "markdown",
   "metadata": {}
  },
  {
   "source": [
    "# **Automatically answer questions**"
   ],
   "cell_type": "markdown",
   "metadata": {}
  },
  {
   "source": [
    "Automatically generate answers to questions with & without context."
   ],
   "cell_type": "markdown",
   "metadata": {}
  },
  {
   "source": [
    "## 1. Colab Setup"
   ],
   "cell_type": "markdown",
   "metadata": {}
  },
  {
   "cell_type": "code",
   "execution_count": null,
   "metadata": {},
   "outputs": [],
   "source": [
    "# Install java\n",
    "!apt-get update -qq\n",
    "!apt-get install -y openjdk-8-jdk-headless -qq > /dev/null\n",
    "!java -version\n",
    "\n",
    "# Install pyspark\n",
    "!pip install --ignore-installed -q pyspark==2.4.4\n",
    "\n",
    "# Install Sparknlp\n",
    "!pip install --ignore-installed spark-nlp\n",
    "\n",
    "# Update environmental variables\n",
    "import os\n",
    "os.environ[\"JAVA_HOME\"] = \"/usr/lib/jvm/java-8-openjdk-amd64\"\n",
    "os.environ[\"PATH\"] = os.environ[\"JAVA_HOME\"] + \"/bin:\" + os.environ[\"PATH\"]"
   ]
  },
  {
   "cell_type": "code",
   "execution_count": 3,
   "metadata": {},
   "outputs": [],
   "source": [
    "import pandas as pd\n",
    "import numpy as np\n",
    "import os\n",
    "import json\n",
    "from pyspark.ml import Pipeline\n",
    "from pyspark.sql import SparkSession\n",
    "import pyspark.sql.functions as F\n",
    "from sparknlp.annotator import *\n",
    "from sparknlp.base import *\n",
    "import sparknlp\n",
    "from sparknlp.pretrained import PretrainedPipeline"
   ]
  },
  {
   "source": [
    "## 2. Start Spark Session"
   ],
   "cell_type": "markdown",
   "metadata": {}
  },
  {
   "cell_type": "code",
   "execution_count": 4,
   "metadata": {},
   "outputs": [],
   "source": [
    "spark = sparknlp.start()"
   ]
  },
  {
   "source": [
    "## 3. Select the model to use"
   ],
   "cell_type": "markdown",
   "metadata": {}
  },
  {
   "cell_type": "code",
   "execution_count": 5,
   "metadata": {},
   "outputs": [],
   "source": [
    "#MODEL_NAME = 'google_t5_small_ssm_nq'\n",
    "#MODEL_NAME = 't5_small'\n",
    "MODEL_NAME = 't5_base'"
   ]
  },
  {
   "source": [
    "### 3.1 Select the task"
   ],
   "cell_type": "markdown",
   "metadata": {}
  },
  {
   "source": [
    "The `T5 Transformer` model is able to perform 18 different tasks (ref.: [this paper](https://arxiv.org/abs/1910.10683)). To answer questions, we can use the following tasks:\n",
    "\n",
    "For models `t5_base` and `t5_small`, we use the task `squad`: Answer a question for a given context.\n",
    "\n",
    "For model `google_t5_small_ssm_nq`, we use the task `qa`: Answers questions without context."
   ],
   "cell_type": "markdown",
   "metadata": {}
  },
  {
   "cell_type": "code",
   "execution_count": 7,
   "metadata": {},
   "outputs": [],
   "source": [
    "if MODEL_NAME == \"google_t5_small_ssm_nq\":\n",
    "    TASK = 'qa'\n",
    "else:\n",
    "    TASK = 'squad'"
   ]
  },
  {
   "cell_type": "code",
   "execution_count": 8,
   "metadata": {},
   "outputs": [],
   "source": [
    "# Prefix to be used on the T5Transformer().setTask(<<prefix>>)\n",
    "task_prefix = {\n",
    "                'qa': 'trivia question:', \n",
    "                'squad': 'question:',\n",
    "            }"
   ]
  },
  {
   "source": [
    "## 4 Examples to try on the model"
   ],
   "cell_type": "markdown",
   "metadata": {}
  },
  {
   "cell_type": "code",
   "execution_count": 6,
   "metadata": {},
   "outputs": [],
   "source": [
    "text_lists = {\n",
    "            'squad':    [\"\"\"\n",
    "                        What does increased oxygen concentrations in the patient’s lungs displace? \n",
    "                        context: Hyperbaric (high-pressure) medicine uses special oxygen chambers to increase the partial pressure of O 2 around the patient and, when needed, the medical staff. Carbon monoxide poisoning, gas gangrene, and decompression sickness (the ’bends’) are sometimes treated using these devices. Increased O 2 concentration in the lungs helps to displace carbon monoxide from the heme group of hemoglobin. Oxygen gas is poisonous to the anaerobic bacteria that cause gas gangrene, so increasing its partial pressure helps kill them. Decompression sickness occurs in divers who decompress too quickly after a dive, resulting in bubbles of inert gas, mostly nitrogen and helium, forming in their blood. Increasing the pressure of O 2 as soon as possible is part of the treatment.\n",
    "                        \"\"\"],\n",
    "            'qa':  [\"Who is Clark Kent?\",\n",
    "                \"who is the most famous singer?\",\n",
    "                \"when do we have winters?\",\n",
    "                \"In which city is Eiffel Tower located?\",\n",
    "                \"Who is the founder of Microsoft?\"]\n",
    "            }"
   ]
  },
  {
   "source": [
    "## 5. Define the Spark NLP pipeline"
   ],
   "cell_type": "markdown",
   "metadata": {}
  },
  {
   "cell_type": "code",
   "execution_count": 9,
   "metadata": {},
   "outputs": [
    {
     "output_type": "stream",
     "name": "stdout",
     "text": [
      "t5_base download started this may take some time.\n",
      "Approximate size to download 446 MB\n",
      "[OK!]\n"
     ]
    }
   ],
   "source": [
    "document_assembler = DocumentAssembler()\\\n",
    "    .setInputCol(\"text\")\\\n",
    "    .setOutputCol(\"documents\")\n",
    "\n",
    "t5 = T5Transformer() \\\n",
    "    .pretrained(MODEL_NAME) \\\n",
    "    .setTask(task_prefix[TASK])\\\n",
    "    .setMaxOutputLength(200)\\\n",
    "    .setInputCols([\"documents\"]) \\\n",
    "    .setOutputCol(\"T5\")\n",
    "\n",
    "pipeline = Pipeline(stages=[document_assembler, t5])"
   ]
  },
  {
   "source": [
    "## 6. Run the pipeline"
   ],
   "cell_type": "markdown",
   "metadata": {}
  },
  {
   "cell_type": "code",
   "execution_count": 10,
   "metadata": {},
   "outputs": [],
   "source": [
    "# Fit on empty data frame (model is pretrained)\n",
    "empty_df = spark.createDataFrame([['']]).toDF('text')\n",
    "pipeline_model = pipeline.fit(empty_df)\n",
    "\n",
    "# Send example texts to spark data frame\n",
    "text_df = spark.createDataFrame(pd.DataFrame({'text': text_lists[TASK]}))\n",
    "\n",
    "# Predict with the Pipeline model\n",
    "result = pipeline_model.transform(text_df)\n",
    "\n",
    "# Create Light Pipeline\n",
    "lmodel = LightPipeline(pipeline_model)\n",
    "\n",
    "# Predict with then Ligh Pipeline model\n",
    "res = lmodel.fullAnnotate(text_lists[TASK])"
   ]
  },
  {
   "source": [
    "## 7. Visualize the results"
   ],
   "cell_type": "markdown",
   "metadata": {}
  },
  {
   "source": [
    "Using Light Pipeline:"
   ],
   "cell_type": "markdown",
   "metadata": {}
  },
  {
   "cell_type": "code",
   "execution_count": 13,
   "metadata": {},
   "outputs": [
    {
     "output_type": "stream",
     "name": "stdout",
     "text": [
      "\n                        What does increased oxygen concentrations in the patient’s lungs displace? \n                        context: Hyperbaric (high-pressure) medicine uses special oxygen chambers to increase the partial pressure of O 2 around the patient and, when needed, the medical staff. Carbon monoxide poisoning, gas gangrene, and decompression sickness (the ’bends’) are sometimes treated using these devices. Increased O 2 concentration in the lungs helps to displace carbon monoxide from the heme group of hemoglobin. Oxygen gas is poisonous to the anaerobic bacteria that cause gas gangrene, so increasing its partial pressure helps kill them. Decompression sickness occurs in divers who decompress too quickly after a dive, resulting in bubbles of inert gas, mostly nitrogen and helium, forming in their blood. Increasing the pressure of O 2 as soon as possible is part of the treatment.\n                         => carbon monoxide\n\n----------------------------------------------\n\n"
     ]
    }
   ],
   "source": [
    "for r in res:\n",
    "    print(f\"{r['documents'][0].result} => {r['T5'][0].result}\\n\")\n",
    "    print(\"----------------------------------------------\\n\")"
   ]
  },
  {
   "source": [
    "Using pipeline model:"
   ],
   "cell_type": "markdown",
   "metadata": {}
  },
  {
   "cell_type": "code",
   "execution_count": 14,
   "metadata": {},
   "outputs": [
    {
     "output_type": "stream",
     "name": "stdout",
     "text": [
      "+----------------------------------------------------------------------------------------------------+-----------------+\n|                                                                                                text|           result|\n+----------------------------------------------------------------------------------------------------+-----------------+\n|\n                        What does increased oxygen concentrations in the patient’s lungs displac...|[carbon monoxide]|\n+----------------------------------------------------------------------------------------------------+-----------------+\n\n"
     ]
    }
   ],
   "source": [
    "result.select('text', 'T5.result').show(truncate=100)"
   ]
  },
  {
   "cell_type": "code",
   "execution_count": null,
   "metadata": {},
   "outputs": [],
   "source": []
  }
 ],
 "metadata": {
  "kernelspec": {
   "display_name": "Python 3",
   "language": "python",
   "name": "python3"
  },
  "language_info": {
   "codemirror_mode": {
    "name": "ipython",
    "version": 3
   },
   "file_extension": ".py",
   "mimetype": "text/x-python",
   "name": "python",
   "nbconvert_exporter": "python",
   "pygments_lexer": "ipython3",
   "version": "3.6.5-final"
  }
 },
 "nbformat": 4,
 "nbformat_minor": 4
}
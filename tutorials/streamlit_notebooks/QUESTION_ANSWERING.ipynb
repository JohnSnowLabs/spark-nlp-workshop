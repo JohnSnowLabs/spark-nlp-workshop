{
  "nbformat": 4,
  "nbformat_minor": 0,
  "metadata": {
    "kernelspec": {
      "display_name": "Python 3",
      "language": "python",
      "name": "python3"
    },
    "language_info": {
      "codemirror_mode": {
        "name": "ipython",
        "version": 3
      },
      "file_extension": ".py",
      "mimetype": "text/x-python",
      "name": "python",
      "nbconvert_exporter": "python",
      "pygments_lexer": "ipython3",
      "version": "3.6.5-final"
    },
    "colab": {
      "name": "QUESTION_ANSWERING.ipynb",
      "provenance": []
    }
  },
  "cells": [
    {
      "cell_type": "markdown",
      "metadata": {
        "id": "mYz8uaGhGHRe"
      },
      "source": [
        "\n",
        "\n",
        "![JohnSnowLabs](https://nlp.johnsnowlabs.com/assets/images/logo.png)\n",
        "\n",
        "[![Open In Colab](https://colab.research.google.com/assets/colab-badge.svg)](https://githubtocolab.com/JohnSnowLabs/spark-nlp-workshop/blob/master/tutorials/streamlit_notebooks/QUESTION_ANSWERING.ipynb)\n",
        "\n"
      ]
    },
    {
      "cell_type": "markdown",
      "metadata": {
        "id": "j-coiY36GHRm"
      },
      "source": [
        "# **Automatically answer questions**"
      ]
    },
    {
      "cell_type": "markdown",
      "metadata": {
        "id": "Cin2EIDwGHRr"
      },
      "source": [
        "Automatically generate answers to questions with & without context."
      ]
    },
    {
      "cell_type": "markdown",
      "metadata": {
        "id": "c7-odSp9GHRw"
      },
      "source": [
        "## 1. Colab Setup"
      ]
    },
    {
      "cell_type": "code",
      "metadata": {
        "colab": {
          "base_uri": "https://localhost:8080/"
        },
        "id": "bx2I6QEIGHRy",
        "outputId": "05af8ef1-2ccb-4344-9b2c-1f39ece4d4ce"
      },
      "source": [
        "!wget http://setup.johnsnowlabs.com/colab.sh -O - | bash\n",
        "# !bash colab.sh\n",
        "# -p is for pyspark\n",
        "# -s is for spark-nlp\n",
        "# !bash colab.sh -p 3.1.1 -s 3.0.1\n",
        "# by default they are set to the latest"
      ],
      "execution_count": 1,
      "outputs": [
        {
          "output_type": "stream",
          "text": [
            "openjdk version \"11.0.10\" 2021-01-19\n",
            "OpenJDK Runtime Environment (build 11.0.10+9-Ubuntu-0ubuntu1.18.04)\n",
            "OpenJDK 64-Bit Server VM (build 11.0.10+9-Ubuntu-0ubuntu1.18.04, mixed mode, sharing)\n",
            "setup Colab for PySpark 3.1.1 and Spark NLP 3.0.0\n",
            "\u001b[K     |████████████████████████████████| 212.3MB 72kB/s \n",
            "\u001b[K     |████████████████████████████████| 143kB 42.2MB/s \n",
            "\u001b[K     |████████████████████████████████| 204kB 45.6MB/s \n",
            "\u001b[?25h  Building wheel for pyspark (setup.py) ... \u001b[?25l\u001b[?25hdone\n"
          ],
          "name": "stdout"
        }
      ]
    },
    {
      "cell_type": "code",
      "metadata": {
        "id": "gf4KsJOzGHR2"
      },
      "source": [
        "import pandas as pd\n",
        "import numpy as np\n",
        "import json\n",
        "from pyspark.ml import Pipeline\n",
        "from pyspark.sql import SparkSession\n",
        "import pyspark.sql.functions as F\n",
        "from sparknlp.annotator import *\n",
        "from sparknlp.base import *\n",
        "import sparknlp\n",
        "from sparknlp.pretrained import PretrainedPipeline"
      ],
      "execution_count": 2,
      "outputs": []
    },
    {
      "cell_type": "markdown",
      "metadata": {
        "id": "MfJM1L6-GHR6"
      },
      "source": [
        "## 2. Start Spark Session"
      ]
    },
    {
      "cell_type": "code",
      "metadata": {
        "id": "B9jnkyZPGHR8"
      },
      "source": [
        "spark = sparknlp.start()"
      ],
      "execution_count": 3,
      "outputs": []
    },
    {
      "cell_type": "markdown",
      "metadata": {
        "id": "JDhKsUQ2GHR_"
      },
      "source": [
        "## 3. Select the model to use"
      ]
    },
    {
      "cell_type": "code",
      "metadata": {
        "id": "gypNMBj1GHSB"
      },
      "source": [
        "#MODEL_NAME = 'google_t5_small_ssm_nq'\n",
        "#MODEL_NAME = 't5_small'\n",
        "MODEL_NAME = 't5_base'"
      ],
      "execution_count": 4,
      "outputs": []
    },
    {
      "cell_type": "markdown",
      "metadata": {
        "id": "zE8pmjedGHSC"
      },
      "source": [
        "### 3.1 Select the task"
      ]
    },
    {
      "cell_type": "markdown",
      "metadata": {
        "id": "f-OdHW2PGHSI"
      },
      "source": [
        "The `T5 Transformer` model is able to perform 18 different tasks (ref.: [this paper](https://arxiv.org/abs/1910.10683)). To answer questions, we can use the following tasks:\n",
        "\n",
        "For models `t5_base` and `t5_small`, we use the task `squad`: Answer a question for a given context.\n",
        "\n",
        "For model `google_t5_small_ssm_nq`, we use the task `qa`: Answers questions without context."
      ]
    },
    {
      "cell_type": "code",
      "metadata": {
        "id": "3bXp1FCWGHSJ"
      },
      "source": [
        "if MODEL_NAME == \"google_t5_small_ssm_nq\":\n",
        "    TASK = 'qa'\n",
        "else:\n",
        "    TASK = 'squad'"
      ],
      "execution_count": 5,
      "outputs": []
    },
    {
      "cell_type": "code",
      "metadata": {
        "id": "UV0ou_zxGHSK"
      },
      "source": [
        "# Prefix to be used on the T5Transformer().setTask(<<prefix>>)\n",
        "task_prefix = {\n",
        "                'qa': 'trivia question:', \n",
        "                'squad': 'question:',\n",
        "            }"
      ],
      "execution_count": 6,
      "outputs": []
    },
    {
      "cell_type": "markdown",
      "metadata": {
        "id": "45S4-ku_GHSL"
      },
      "source": [
        "## 4 Examples to try on the model"
      ]
    },
    {
      "cell_type": "code",
      "metadata": {
        "id": "fKO08FOtGHSN"
      },
      "source": [
        "text_lists = {\n",
        "            'squad':    [\"\"\"\n",
        "                        What does increased oxygen concentrations in the patient’s lungs displace? \n",
        "                        context: Hyperbaric (high-pressure) medicine uses special oxygen chambers to increase the partial pressure of O 2 around the patient and, when needed, the medical staff. Carbon monoxide poisoning, gas gangrene, and decompression sickness (the ’bends’) are sometimes treated using these devices. Increased O 2 concentration in the lungs helps to displace carbon monoxide from the heme group of hemoglobin. Oxygen gas is poisonous to the anaerobic bacteria that cause gas gangrene, so increasing its partial pressure helps kill them. Decompression sickness occurs in divers who decompress too quickly after a dive, resulting in bubbles of inert gas, mostly nitrogen and helium, forming in their blood. Increasing the pressure of O 2 as soon as possible is part of the treatment.\n",
        "                        \"\"\"],\n",
        "            'qa':  [\"Who is Clark Kent?\",\n",
        "                \"who is the most famous singer?\",\n",
        "                \"when do we have winters?\",\n",
        "                \"In which city is Eiffel Tower located?\",\n",
        "                \"Who is the founder of Microsoft?\"]\n",
        "            }"
      ],
      "execution_count": 7,
      "outputs": []
    },
    {
      "cell_type": "markdown",
      "metadata": {
        "id": "yrbNH3POGHSP"
      },
      "source": [
        "## 5. Define the Spark NLP pipeline"
      ]
    },
    {
      "cell_type": "code",
      "metadata": {
        "colab": {
          "base_uri": "https://localhost:8080/"
        },
        "id": "LNDm90A2GHSQ",
        "outputId": "13702991-f754-41a6-a9e1-a1b445264b55"
      },
      "source": [
        "document_assembler = DocumentAssembler()\\\n",
        "    .setInputCol(\"text\")\\\n",
        "    .setOutputCol(\"documents\")\n",
        "\n",
        "t5 = T5Transformer() \\\n",
        "    .pretrained(MODEL_NAME) \\\n",
        "    .setTask(task_prefix[TASK])\\\n",
        "    .setMaxOutputLength(200)\\\n",
        "    .setInputCols([\"documents\"]) \\\n",
        "    .setOutputCol(\"T5\")\n",
        "\n",
        "pipeline = Pipeline(stages=[document_assembler, t5])"
      ],
      "execution_count": 8,
      "outputs": [
        {
          "output_type": "stream",
          "text": [
            "t5_base download started this may take some time.\n",
            "Approximate size to download 446 MB\n",
            "[OK!]\n"
          ],
          "name": "stdout"
        }
      ]
    },
    {
      "cell_type": "markdown",
      "metadata": {
        "id": "wlKlrly9GHSR"
      },
      "source": [
        "## 6. Run the pipeline"
      ]
    },
    {
      "cell_type": "code",
      "metadata": {
        "id": "NeoQZLqCGHSS"
      },
      "source": [
        "# Fit on empty data frame (model is pretrained)\n",
        "empty_df = spark.createDataFrame([['']]).toDF('text')\n",
        "pipeline_model = pipeline.fit(empty_df)\n",
        "\n",
        "# Send example texts to spark data frame\n",
        "text_df = spark.createDataFrame(pd.DataFrame({'text': text_lists[TASK]}))\n",
        "\n",
        "# Predict with the Pipeline model\n",
        "result = pipeline_model.transform(text_df)\n",
        "\n",
        "# Create Light Pipeline\n",
        "lmodel = LightPipeline(pipeline_model)\n",
        "\n",
        "# Predict with then Ligh Pipeline model\n",
        "res = lmodel.fullAnnotate(text_lists[TASK])"
      ],
      "execution_count": 9,
      "outputs": []
    },
    {
      "cell_type": "markdown",
      "metadata": {
        "id": "u3yLXWUjGHST"
      },
      "source": [
        "## 7. Visualize the results"
      ]
    },
    {
      "cell_type": "markdown",
      "metadata": {
        "id": "UPbG4D63GHSU"
      },
      "source": [
        "Using Light Pipeline:"
      ]
    },
    {
      "cell_type": "code",
      "metadata": {
        "colab": {
          "base_uri": "https://localhost:8080/"
        },
        "id": "X-JrKzW3GHSU",
        "outputId": "ba64a09d-1844-4344-d9bc-723fe5053871"
      },
      "source": [
        "for r in res:\n",
        "    print(f\"{r['documents'][0].result} => {r['T5'][0].result}\\n\")\n",
        "    print(\"----------------------------------------------\\n\")"
      ],
      "execution_count": 10,
      "outputs": [
        {
          "output_type": "stream",
          "text": [
            "\n",
            "                        What does increased oxygen concentrations in the patient’s lungs displace? \n",
            "                        context: Hyperbaric (high-pressure) medicine uses special oxygen chambers to increase the partial pressure of O 2 around the patient and, when needed, the medical staff. Carbon monoxide poisoning, gas gangrene, and decompression sickness (the ’bends’) are sometimes treated using these devices. Increased O 2 concentration in the lungs helps to displace carbon monoxide from the heme group of hemoglobin. Oxygen gas is poisonous to the anaerobic bacteria that cause gas gangrene, so increasing its partial pressure helps kill them. Decompression sickness occurs in divers who decompress too quickly after a dive, resulting in bubbles of inert gas, mostly nitrogen and helium, forming in their blood. Increasing the pressure of O 2 as soon as possible is part of the treatment.\n",
            "                         => carbon monoxide\n",
            "\n",
            "----------------------------------------------\n",
            "\n"
          ],
          "name": "stdout"
        }
      ]
    },
    {
      "cell_type": "markdown",
      "metadata": {
        "id": "BNzAXVC9GHSV"
      },
      "source": [
        "Using pipeline model:"
      ]
    },
    {
      "cell_type": "code",
      "metadata": {
        "colab": {
          "base_uri": "https://localhost:8080/"
        },
        "id": "qjRQCrwQGHSX",
        "outputId": "1e710f43-4b60-4f39-fec3-0323ad1ddded"
      },
      "source": [
        "result.select('text', 'T5.result').show(truncate=100)"
      ],
      "execution_count": 11,
      "outputs": [
        {
          "output_type": "stream",
          "text": [
            "+----------------------------------------------------------------------------------------------------+-----------------+\n",
            "|                                                                                                text|           result|\n",
            "+----------------------------------------------------------------------------------------------------+-----------------+\n",
            "|\n",
            "                        What does increased oxygen concentrations in the patient’s lungs displac...|[carbon monoxide]|\n",
            "+----------------------------------------------------------------------------------------------------+-----------------+\n",
            "\n"
          ],
          "name": "stdout"
        }
      ]
    }
  ]
}
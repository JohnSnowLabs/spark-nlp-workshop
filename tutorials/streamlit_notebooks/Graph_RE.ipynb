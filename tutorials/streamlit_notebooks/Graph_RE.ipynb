{
  "nbformat": 4,
  "nbformat_minor": 0,
  "metadata": {
    "colab": {
      "name": "Graph_public.ipynb",
      "provenance": [],
      "collapsed_sections": []
    },
    "kernelspec": {
      "display_name": "Environment (conda_tensorflow2_p36)",
      "language": "python",
      "name": "conda_tensorflow2_p36"
    },
    "language_info": {
      "codemirror_mode": {
        "name": "ipython",
        "version": 3
      },
      "file_extension": ".py",
      "mimetype": "text/x-python",
      "name": "python",
      "nbconvert_exporter": "python",
      "pygments_lexer": "ipython3",
      "version": "3.6.10"
    }
  },
  "cells": [
    {
      "cell_type": "code",
      "metadata": {
        "colab": {
          "resources": {
            "http://localhost:8080/nbextensions/google.colab/files.js": {
              "data": "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",
              "ok": true,
              "headers": [
                [
                  "content-type",
                  "application/javascript"
                ]
              ],
              "status": 200,
              "status_text": ""
            }
          },
          "base_uri": "https://localhost:8080/",
          "height": 74
        },
        "id": "kJBZTmfCnuo3",
        "outputId": "e9a915d4-19bb-4a9c-9a48-577477eacc8b"
      },
      "source": [
        "import json\n",
        "import os\n",
        "\n",
        "from google.colab import files\n",
        "\n",
        "license_keys = files.upload()\n",
        "\n",
        "with open(list(license_keys.keys())[0]) as f:\n",
        "    license_keys = json.load(f)\n",
        "\n",
        "# with open('/content/public_332_jsl_332.json', 'rb') as f:\n",
        "#     license_keys = json.load(f)\n",
        "# Defining license key-value pairs as local variables\n",
        "locals().update(license_keys)\n",
        "\n",
        "# Adding license key-value pairs to environment variables\n",
        "os.environ.update(license_keys)"
      ],
      "execution_count": 1,
      "outputs": [
        {
          "output_type": "display_data",
          "data": {
            "text/html": [
              "\n",
              "     <input type=\"file\" id=\"files-d0caf4e8-723b-4771-84f0-690c0cc841a3\" name=\"files[]\" multiple disabled\n",
              "        style=\"border:none\" />\n",
              "     <output id=\"result-d0caf4e8-723b-4771-84f0-690c0cc841a3\">\n",
              "      Upload widget is only available when the cell has been executed in the\n",
              "      current browser session. Please rerun this cell to enable.\n",
              "      </output>\n",
              "      <script src=\"/nbextensions/google.colab/files.js\"></script> "
            ],
            "text/plain": [
              "<IPython.core.display.HTML object>"
            ]
          },
          "metadata": {}
        },
        {
          "output_type": "stream",
          "name": "stdout",
          "text": [
            "Saving public_332_jsl_332.json to public_332_jsl_332.json\n"
          ]
        }
      ]
    },
    {
      "cell_type": "code",
      "metadata": {
        "colab": {
          "base_uri": "https://localhost:8080/"
        },
        "id": "xxlM8owInxcD",
        "outputId": "b8ebeb83-967f-41c6-b01c-acf80c1fcede"
      },
      "source": [
        "# Installing pyspark and spark-nlp\n",
        "! pip install --upgrade -q pyspark==3.1.2 spark-nlp==$PUBLIC_VERSION\n",
        "\n",
        "# Installing Spark NLP Healthcare\n",
        "! pip install --upgrade -q spark-nlp-jsl==$JSL_VERSION  --extra-index-url https://pypi.johnsnowlabs.com/$SECRET\n",
        "\n",
        "# Installing Spark NLP Display Library for visualization\n",
        "! pip install -q spark-nlp-display"
      ],
      "execution_count": 2,
      "outputs": [
        {
          "output_type": "stream",
          "name": "stdout",
          "text": [
            "\u001b[K     |████████████████████████████████| 212.4 MB 68 kB/s \n",
            "\u001b[K     |████████████████████████████████| 130 kB 52.0 MB/s \n",
            "\u001b[K     |████████████████████████████████| 198 kB 50.8 MB/s \n",
            "\u001b[?25h  Building wheel for pyspark (setup.py) ... \u001b[?25l\u001b[?25hdone\n",
            "\u001b[K     |████████████████████████████████| 136 kB 2.6 MB/s \n",
            "\u001b[K     |████████████████████████████████| 95 kB 2.0 MB/s \n",
            "\u001b[K     |████████████████████████████████| 66 kB 4.2 MB/s \n",
            "\u001b[?25h"
          ]
        }
      ]
    },
    {
      "cell_type": "code",
      "metadata": {
        "colab": {
          "base_uri": "https://localhost:8080/",
          "height": 254
        },
        "id": "278iBDvxnXCs",
        "outputId": "d6a057fe-5145-4fa4-ab10-aabb14e6133a"
      },
      "source": [
        "import json\n",
        "import os\n",
        "from pyspark.ml import Pipeline,PipelineModel\n",
        "from pyspark.sql import SparkSession\n",
        "from pyspark.sql import functions as F\n",
        "\n",
        "from sparknlp.annotator import *\n",
        "from sparknlp_jsl.annotator import *\n",
        "from sparknlp.base import *\n",
        "import sparknlp_jsl\n",
        "import sparknlp\n",
        "\n",
        "import warnings\n",
        "warnings.filterwarnings('ignore')\n",
        "\n",
        "params = {\"spark.driver.memory\":\"16G\", \n",
        "          \"spark.kryoserializer.buffer.max\":\"2000M\", \n",
        "          \"spark.driver.maxResultSize\":\"2000M\"} \n",
        "\n",
        "print (\"Spark NLP Version :\", sparknlp.version())\n",
        "print (\"Spark NLP_JSL Version :\", sparknlp_jsl.version())\n",
        "\n",
        "spark = sparknlp_jsl.start(license_keys['SECRET'],params=params)\n",
        "\n",
        "spark"
      ],
      "execution_count": 3,
      "outputs": [
        {
          "output_type": "stream",
          "name": "stdout",
          "text": [
            "Spark NLP Version : 3.3.2\n",
            "Spark NLP_JSL Version : 3.3.2\n"
          ]
        },
        {
          "output_type": "execute_result",
          "data": {
            "text/html": [
              "\n",
              "            <div>\n",
              "                <p><b>SparkSession - in-memory</b></p>\n",
              "                \n",
              "        <div>\n",
              "            <p><b>SparkContext</b></p>\n",
              "\n",
              "            <p><a href=\"http://ff6b6e1172bf:4040\">Spark UI</a></p>\n",
              "\n",
              "            <dl>\n",
              "              <dt>Version</dt>\n",
              "                <dd><code>v3.1.2</code></dd>\n",
              "              <dt>Master</dt>\n",
              "                <dd><code>local[*]</code></dd>\n",
              "              <dt>AppName</dt>\n",
              "                <dd><code>Spark NLP Licensed</code></dd>\n",
              "            </dl>\n",
              "        </div>\n",
              "        \n",
              "            </div>\n",
              "        "
            ],
            "text/plain": [
              "<pyspark.sql.session.SparkSession at 0x7ff14bf36c50>"
            ]
          },
          "metadata": {},
          "execution_count": 3
        }
      ]
    },
    {
      "cell_type": "markdown",
      "metadata": {
        "id": "BML7XhginXCu"
      },
      "source": [
        "# Graph Extraction (Workshop)"
      ]
    },
    {
      "cell_type": "code",
      "metadata": {
        "colab": {
          "base_uri": "https://localhost:8080/"
        },
        "id": "ZccNDlhNnXCv",
        "outputId": "67875bb7-4652-4df2-cd10-2145206901e8"
      },
      "source": [
        "documentAssembler = DocumentAssembler() \\\n",
        "    .setInputCol(\"text\") \\\n",
        "    .setOutputCol(\"document\")\n",
        "\n",
        "sentence = SentenceDetector() \\\n",
        "    .setInputCols([\"document\"]) \\\n",
        "    .setOutputCol(\"sentence\")\n",
        "\n",
        "tokenizer = Tokenizer() \\\n",
        "    .setInputCols([\"sentence\"]) \\\n",
        "    .setOutputCol(\"token\")\n",
        "\n",
        "embeddings = WordEmbeddingsModel.pretrained() \\\n",
        "    .setInputCols([\"sentence\", \"token\"]) \\\n",
        "    .setOutputCol(\"embeddings\")\n",
        "\n",
        "ner_tagger = NerDLModel.pretrained() \\\n",
        "    .setInputCols([\"document\", \"token\", \"embeddings\"]) \\\n",
        "    .setOutputCol(\"ner\")   \n",
        "\n",
        "ner_chunker = NerConverterInternal()\\\n",
        "    .setInputCols([\"sentence\", \"token\", \"ner\"])\\\n",
        "    .setOutputCol(\"ner_chunk\")\n",
        "\n",
        "\n",
        "graph_extraction = GraphExtraction()\\\n",
        "    .setInputCols([\"sentence\", \"token\", \"ner\"]) \\\n",
        "    .setOutputCol(\"graph\") \\\n",
        "    .setMergeEntities(True)\\\n",
        "    .setExplodeEntities(True)\\\n",
        "#    .setEntityTypes([\"DRUG-DOSAGE\"])\\\n",
        "#    .setRelationshipTypes([\"prefer-LOC\"])\n",
        "\n",
        "all_pipeline = Pipeline().setStages([\n",
        "    documentAssembler,\n",
        "    sentence,\n",
        "    tokenizer,\n",
        "    embeddings,\n",
        "    ner_tagger,\n",
        "    ner_chunker,\n",
        "    graph_extraction\n",
        "])\n",
        "\n",
        "empty_data = spark.createDataFrame([[\"\"]]).toDF(\"text\")\n",
        "\n",
        "all_model = all_pipeline.fit(empty_data)"
      ],
      "execution_count": 4,
      "outputs": [
        {
          "output_type": "stream",
          "name": "stdout",
          "text": [
            "glove_100d download started this may take some time.\n",
            "Approximate size to download 145.3 MB\n",
            "[OK!]\n",
            "ner_dl download started this may take some time.\n",
            "Approximate size to download 13.6 MB\n",
            "[OK!]\n",
            "pos_anc download started this may take some time.\n",
            "Approximate size to download 3.9 MB\n",
            "[OK!]\n",
            "dependency_conllu download started this may take some time.\n",
            "Approximate size to download 16.7 MB\n",
            "[OK!]\n",
            "dependency_typed_conllu download started this may take some time.\n",
            "Approximate size to download 2.3 MB\n",
            "[OK!]\n"
          ]
        }
      ]
    },
    {
      "cell_type": "code",
      "metadata": {
        "id": "mOrO80jZnXCv"
      },
      "source": [
        "def get_graph_result(result):\n",
        "    result_pd = result.select('id', 'graph').toPandas()\n",
        "    result_pd = result_pd.explode('graph')\n",
        "\n",
        "    result_pd.graph = result_pd.graph.apply(lambda x : {\"graph\" : x[3], \n",
        "                                                        \"entities\": x[4]['entities'],\n",
        "                                                        \"right_path\" : x[4]['right_path'].split(\",\"),\n",
        "                                                        \"left_path\" : x[4]['left_path'].split(\",\")} \n",
        "                                                       )\n",
        "\n",
        "    df_graph = pd.DataFrame()\n",
        "    df_graph['graph'] = result_pd['graph'].apply(lambda x:x['graph'])\n",
        "    df_graph['relation'] = result_pd['graph'].apply(lambda x:x['entities'])\n",
        "    df_graph['entity1'] = result_pd['graph'].apply(lambda x:x['entities'].split(\",\")[-1])\n",
        "    df_graph['chunk1'] = result_pd['graph'].apply(lambda x:x['left_path'][-1])\n",
        "    df_graph['chunk2'] = result_pd['graph'].apply(lambda x:x['right_path'][-1])\n",
        "    df_graph['right_path'] = result_pd['graph'].apply(lambda x:x['right_path'])\n",
        "    df_graph['left_path'] = result_pd['graph'].apply(lambda x:x['left_path'])\n",
        "    df_graph['length_left_path'] = result_pd['graph'].apply(lambda x:len(x['left_path']))\n",
        "    df_graph['entity2'] = result_pd['graph'].apply(lambda x:x['entities'].split(\",\")[0])\n",
        "\n",
        "    \n",
        "    #display(result_pd.head())\n",
        "    #display(df_graph.head())\n",
        "\n",
        "    return df_graph.reset_index()"
      ],
      "execution_count": 5,
      "outputs": []
    },
    {
      "cell_type": "code",
      "metadata": {
        "id": "Xshe4OnTnXCw"
      },
      "source": [
        "import pandas as pd\n",
        "\n",
        "text = [\"John Snow was born in England. John Snow lives in New York.\",\n",
        "        \"Peter lives in New York. Peter works at Microsoft\",\n",
        "        \"Mary was born in Paris. Mary works in Google\",\n",
        "        \"Google is based on US\",\n",
        "        \"Mike works in Washington.\",\n",
        "        \"Washington is the capital of US\",\n",
        "        \"England is located in Europe\",\n",
        "        \"Paris is the capital of France\",\n",
        "        \"US is located in North America\"\n",
        "       ]\n",
        "\n",
        "ids =  list(range(1, len(text)+1))\n",
        "\n",
        "df = spark.createDataFrame(pd.DataFrame({\"id\": ids, \"text\" : text }))"
      ],
      "execution_count": 6,
      "outputs": []
    },
    {
      "cell_type": "code",
      "metadata": {
        "id": "ibn3-RX0nXCx"
      },
      "source": [
        "results = all_model.transform(df)\n",
        "# results.select('graph').show(truncate=False, vertical = True)"
      ],
      "execution_count": 7,
      "outputs": []
    },
    {
      "cell_type": "code",
      "metadata": {
        "jupyter": {
          "outputs_hidden": true
        },
        "tags": [],
        "colab": {
          "base_uri": "https://localhost:8080/"
        },
        "id": "aaUTBCcmnXCx",
        "outputId": "3d63003e-9892-45f4-86d3-45131c691546"
      },
      "source": [
        "results.show()"
      ],
      "execution_count": 9,
      "outputs": [
        {
          "output_type": "stream",
          "name": "stdout",
          "text": [
            "+---+--------------------+--------------------+--------------------+--------------------+--------------------+--------------------+--------------------+--------------------+--------------------+--------------------+--------------------+\n",
            "| id|                text|            document|            sentence|               token|          embeddings|                 ner|           ner_chunk|                 pos|          dependency|     dependency_type|               graph|\n",
            "+---+--------------------+--------------------+--------------------+--------------------+--------------------+--------------------+--------------------+--------------------+--------------------+--------------------+--------------------+\n",
            "|  1|John Snow was bor...|[{document, 0, 58...|[{document, 0, 29...|[{token, 0, 3, Jo...|[{word_embeddings...|[{named_entity, 0...|[{chunk, 0, 8, Jo...|[{pos, 0, 3, NNP,...|[{dependency, 0, ...|[{labeled_depende...|[{node, 14, 17, b...|\n",
            "|  2|Peter lives in Ne...|[{document, 0, 48...|[{document, 0, 23...|[{token, 0, 4, Pe...|[{word_embeddings...|[{named_entity, 0...|[{chunk, 0, 4, Pe...|[{pos, 0, 4, NNP,...|[{dependency, 0, ...|[{labeled_depende...|[{node, 6, 10, li...|\n",
            "|  3|Mary was born in ...|[{document, 0, 43...|[{document, 0, 22...|[{token, 0, 3, Ma...|[{word_embeddings...|[{named_entity, 0...|[{chunk, 0, 3, Ma...|[{pos, 0, 3, NNP,...|[{dependency, 0, ...|[{labeled_depende...|[{node, 9, 12, bo...|\n",
            "|  4|Google is based o...|[{document, 0, 20...|[{document, 0, 20...|[{token, 0, 5, Go...|[{word_embeddings...|[{named_entity, 0...|[{chunk, 0, 5, Go...|[{pos, 0, 5, NNP,...|[{dependency, 0, ...|[{labeled_depende...|[{node, 10, 14, b...|\n",
            "|  5|Mike works in Was...|[{document, 0, 24...|[{document, 0, 24...|[{token, 0, 3, Mi...|[{word_embeddings...|[{named_entity, 0...|[{chunk, 0, 3, Mi...|[{pos, 0, 3, NNP,...|[{dependency, 0, ...|[{labeled_depende...|[{node, 5, 9, wor...|\n",
            "|  6|Washington is the...|[{document, 0, 30...|[{document, 0, 30...|[{token, 0, 9, Wa...|[{word_embeddings...|[{named_entity, 0...|[{chunk, 0, 9, Wa...|[{pos, 0, 9, NNP,...|[{dependency, 0, ...|[{labeled_depende...|[{node, 18, 24, c...|\n",
            "|  7|England is locate...|[{document, 0, 27...|[{document, 0, 27...|[{token, 0, 6, En...|[{word_embeddings...|[{named_entity, 0...|[{chunk, 0, 6, En...|[{pos, 0, 6, NNP,...|[{dependency, 0, ...|[{labeled_depende...|[{node, 11, 17, l...|\n",
            "|  8|Paris is the capi...|[{document, 0, 29...|[{document, 0, 29...|[{token, 0, 4, Pa...|[{word_embeddings...|[{named_entity, 0...|[{chunk, 0, 4, Pa...|[{pos, 0, 4, NNP,...|[{dependency, 0, ...|[{labeled_depende...|[{node, 13, 19, c...|\n",
            "|  9|US is located in ...|[{document, 0, 29...|[{document, 0, 29...|[{token, 0, 1, US...|[{word_embeddings...|[{named_entity, 0...|[{chunk, 0, 1, US...|[{pos, 0, 1, NNP,...|[{dependency, 0, ...|[{labeled_depende...|[{node, 6, 12, lo...|\n",
            "+---+--------------------+--------------------+--------------------+--------------------+--------------------+--------------------+--------------------+--------------------+--------------------+--------------------+--------------------+\n",
            "\n"
          ]
        }
      ]
    },
    {
      "cell_type": "code",
      "metadata": {
        "tags": [],
        "colab": {
          "base_uri": "https://localhost:8080/",
          "height": 741
        },
        "id": "NejBtB5dnXCy",
        "outputId": "53a01811-771f-41cc-b385-94fcc03316eb"
      },
      "source": [
        "results_pd = get_graph_result(results)\n",
        "results_pd"
      ],
      "execution_count": 8,
      "outputs": [
        {
          "output_type": "execute_result",
          "data": {
            "text/html": [
              "<div>\n",
              "<style scoped>\n",
              "    .dataframe tbody tr th:only-of-type {\n",
              "        vertical-align: middle;\n",
              "    }\n",
              "\n",
              "    .dataframe tbody tr th {\n",
              "        vertical-align: top;\n",
              "    }\n",
              "\n",
              "    .dataframe thead th {\n",
              "        text-align: right;\n",
              "    }\n",
              "</style>\n",
              "<table border=\"1\" class=\"dataframe\">\n",
              "  <thead>\n",
              "    <tr style=\"text-align: right;\">\n",
              "      <th></th>\n",
              "      <th>index</th>\n",
              "      <th>graph</th>\n",
              "      <th>relation</th>\n",
              "      <th>entity1</th>\n",
              "      <th>chunk1</th>\n",
              "      <th>chunk2</th>\n",
              "      <th>right_path</th>\n",
              "      <th>left_path</th>\n",
              "      <th>length_left_path</th>\n",
              "      <th>entity2</th>\n",
              "    </tr>\n",
              "  </thead>\n",
              "  <tbody>\n",
              "    <tr>\n",
              "      <th>0</th>\n",
              "      <td>0</td>\n",
              "      <td>born</td>\n",
              "      <td>PER,LOC</td>\n",
              "      <td>LOC</td>\n",
              "      <td>John Snow</td>\n",
              "      <td>England</td>\n",
              "      <td>[born, flat, England]</td>\n",
              "      <td>[born, flat, John Snow]</td>\n",
              "      <td>3</td>\n",
              "      <td>PER</td>\n",
              "    </tr>\n",
              "    <tr>\n",
              "      <th>1</th>\n",
              "      <td>0</td>\n",
              "      <td>lives</td>\n",
              "      <td>PER,LOC</td>\n",
              "      <td>LOC</td>\n",
              "      <td>John Snow</td>\n",
              "      <td>New York</td>\n",
              "      <td>[lives, flat, New York]</td>\n",
              "      <td>[lives, flat, John Snow]</td>\n",
              "      <td>3</td>\n",
              "      <td>PER</td>\n",
              "    </tr>\n",
              "    <tr>\n",
              "      <th>2</th>\n",
              "      <td>1</td>\n",
              "      <td>lives</td>\n",
              "      <td>PER,LOC</td>\n",
              "      <td>LOC</td>\n",
              "      <td>Peter</td>\n",
              "      <td>New York</td>\n",
              "      <td>[lives, flat, New York]</td>\n",
              "      <td>[lives, flat, Peter]</td>\n",
              "      <td>3</td>\n",
              "      <td>PER</td>\n",
              "    </tr>\n",
              "    <tr>\n",
              "      <th>3</th>\n",
              "      <td>1</td>\n",
              "      <td>works</td>\n",
              "      <td>PER,ORG</td>\n",
              "      <td>ORG</td>\n",
              "      <td>Peter</td>\n",
              "      <td>Microsoft</td>\n",
              "      <td>[works, nsubj, Microsoft]</td>\n",
              "      <td>[works, nsubj, Peter]</td>\n",
              "      <td>3</td>\n",
              "      <td>PER</td>\n",
              "    </tr>\n",
              "    <tr>\n",
              "      <th>4</th>\n",
              "      <td>2</td>\n",
              "      <td>born</td>\n",
              "      <td>PER,LOC</td>\n",
              "      <td>LOC</td>\n",
              "      <td>Mary</td>\n",
              "      <td>Paris</td>\n",
              "      <td>[born, flat, Paris]</td>\n",
              "      <td>[born, flat, Mary]</td>\n",
              "      <td>3</td>\n",
              "      <td>PER</td>\n",
              "    </tr>\n",
              "    <tr>\n",
              "      <th>5</th>\n",
              "      <td>2</td>\n",
              "      <td>works</td>\n",
              "      <td>PER,ORG</td>\n",
              "      <td>ORG</td>\n",
              "      <td>Mary</td>\n",
              "      <td>Google</td>\n",
              "      <td>[works, nsubj, Google]</td>\n",
              "      <td>[works, nsubj, Mary]</td>\n",
              "      <td>3</td>\n",
              "      <td>PER</td>\n",
              "    </tr>\n",
              "    <tr>\n",
              "      <th>6</th>\n",
              "      <td>3</td>\n",
              "      <td>based</td>\n",
              "      <td>ORG,LOC</td>\n",
              "      <td>LOC</td>\n",
              "      <td>Google</td>\n",
              "      <td>US</td>\n",
              "      <td>[based, flat, US]</td>\n",
              "      <td>[based, flat, Google]</td>\n",
              "      <td>3</td>\n",
              "      <td>ORG</td>\n",
              "    </tr>\n",
              "    <tr>\n",
              "      <th>7</th>\n",
              "      <td>4</td>\n",
              "      <td>works</td>\n",
              "      <td>PER,LOC</td>\n",
              "      <td>LOC</td>\n",
              "      <td>Mike</td>\n",
              "      <td>Washington</td>\n",
              "      <td>[works, nsubj, Washington]</td>\n",
              "      <td>[works, nsubj, Mike]</td>\n",
              "      <td>3</td>\n",
              "      <td>PER</td>\n",
              "    </tr>\n",
              "    <tr>\n",
              "      <th>8</th>\n",
              "      <td>5</td>\n",
              "      <td>capital</td>\n",
              "      <td>LOC,LOC</td>\n",
              "      <td>LOC</td>\n",
              "      <td>Washington</td>\n",
              "      <td>US</td>\n",
              "      <td>[capital, flat, US]</td>\n",
              "      <td>[capital, flat, Washington]</td>\n",
              "      <td>3</td>\n",
              "      <td>LOC</td>\n",
              "    </tr>\n",
              "    <tr>\n",
              "      <th>9</th>\n",
              "      <td>6</td>\n",
              "      <td>located</td>\n",
              "      <td>LOC,LOC</td>\n",
              "      <td>LOC</td>\n",
              "      <td>England</td>\n",
              "      <td>Europe</td>\n",
              "      <td>[located, flat, Europe]</td>\n",
              "      <td>[located, flat, England]</td>\n",
              "      <td>3</td>\n",
              "      <td>LOC</td>\n",
              "    </tr>\n",
              "    <tr>\n",
              "      <th>10</th>\n",
              "      <td>7</td>\n",
              "      <td>capital</td>\n",
              "      <td>LOC,LOC</td>\n",
              "      <td>LOC</td>\n",
              "      <td>Paris</td>\n",
              "      <td>France</td>\n",
              "      <td>[capital, flat, France]</td>\n",
              "      <td>[capital, flat, Paris]</td>\n",
              "      <td>3</td>\n",
              "      <td>LOC</td>\n",
              "    </tr>\n",
              "    <tr>\n",
              "      <th>11</th>\n",
              "      <td>8</td>\n",
              "      <td>located</td>\n",
              "      <td>LOC,LOC</td>\n",
              "      <td>LOC</td>\n",
              "      <td>US</td>\n",
              "      <td>North America</td>\n",
              "      <td>[located, flat, North America]</td>\n",
              "      <td>[located, flat, US]</td>\n",
              "      <td>3</td>\n",
              "      <td>LOC</td>\n",
              "    </tr>\n",
              "  </tbody>\n",
              "</table>\n",
              "</div>"
            ],
            "text/plain": [
              "    index    graph  ... length_left_path entity2\n",
              "0       0     born  ...                3     PER\n",
              "1       0    lives  ...                3     PER\n",
              "2       1    lives  ...                3     PER\n",
              "3       1    works  ...                3     PER\n",
              "4       2     born  ...                3     PER\n",
              "5       2    works  ...                3     PER\n",
              "6       3    based  ...                3     ORG\n",
              "7       4    works  ...                3     PER\n",
              "8       5  capital  ...                3     LOC\n",
              "9       6  located  ...                3     LOC\n",
              "10      7  capital  ...                3     LOC\n",
              "11      8  located  ...                3     LOC\n",
              "\n",
              "[12 rows x 10 columns]"
            ]
          },
          "metadata": {},
          "execution_count": 8
        }
      ]
    },
    {
      "cell_type": "code",
      "metadata": {
        "colab": {
          "base_uri": "https://localhost:8080/"
        },
        "id": "ocImwMLJnXCy",
        "outputId": "feffd269-5f99-4fd7-c08a-9ea5db699d56"
      },
      "source": [
        "x = results_pd.right_path[0]\n",
        "\n",
        "def ac(x):\n",
        "    liste = []\n",
        "    for a in range(0, len(x)-2, 2):\n",
        "        liste.append((x[a], x[a+1], x[a+2]))\n",
        "    return liste\n",
        "\n",
        "ac(x)"
      ],
      "execution_count": 9,
      "outputs": [
        {
          "output_type": "execute_result",
          "data": {
            "text/plain": [
              "[('born', 'flat', 'England')]"
            ]
          },
          "metadata": {},
          "execution_count": 9
        }
      ]
    },
    {
      "cell_type": "code",
      "metadata": {
        "tags": [],
        "id": "XQe4c3UsnXCy"
      },
      "source": [
        "rel_df = pd.DataFrame()\n",
        "rel_df[\"n1\"] = results_pd.chunk1\n",
        "rel_df[\"relation\"] = results_pd.right_path.apply(ac).explode().apply(lambda x : x[0])\n",
        "rel_df[\"relation_type\"] = results_pd.right_path.apply(ac).explode().apply(lambda x : x[1])\n",
        "rel_df[\"n2\"] = results_pd.right_path.apply(ac).explode().apply(lambda x : x[2])"
      ],
      "execution_count": 10,
      "outputs": []
    },
    {
      "cell_type": "code",
      "metadata": {
        "colab": {
          "base_uri": "https://localhost:8080/",
          "height": 426
        },
        "id": "WcfFnJ1ZnXCy",
        "outputId": "bb73cdf2-177b-4568-feff-8caf7c7a4f44"
      },
      "source": [
        "rel_df"
      ],
      "execution_count": 11,
      "outputs": [
        {
          "output_type": "execute_result",
          "data": {
            "text/html": [
              "<div>\n",
              "<style scoped>\n",
              "    .dataframe tbody tr th:only-of-type {\n",
              "        vertical-align: middle;\n",
              "    }\n",
              "\n",
              "    .dataframe tbody tr th {\n",
              "        vertical-align: top;\n",
              "    }\n",
              "\n",
              "    .dataframe thead th {\n",
              "        text-align: right;\n",
              "    }\n",
              "</style>\n",
              "<table border=\"1\" class=\"dataframe\">\n",
              "  <thead>\n",
              "    <tr style=\"text-align: right;\">\n",
              "      <th></th>\n",
              "      <th>n1</th>\n",
              "      <th>relation</th>\n",
              "      <th>relation_type</th>\n",
              "      <th>n2</th>\n",
              "    </tr>\n",
              "  </thead>\n",
              "  <tbody>\n",
              "    <tr>\n",
              "      <th>0</th>\n",
              "      <td>John Snow</td>\n",
              "      <td>born</td>\n",
              "      <td>flat</td>\n",
              "      <td>England</td>\n",
              "    </tr>\n",
              "    <tr>\n",
              "      <th>1</th>\n",
              "      <td>John Snow</td>\n",
              "      <td>lives</td>\n",
              "      <td>flat</td>\n",
              "      <td>New York</td>\n",
              "    </tr>\n",
              "    <tr>\n",
              "      <th>2</th>\n",
              "      <td>Peter</td>\n",
              "      <td>lives</td>\n",
              "      <td>flat</td>\n",
              "      <td>New York</td>\n",
              "    </tr>\n",
              "    <tr>\n",
              "      <th>3</th>\n",
              "      <td>Peter</td>\n",
              "      <td>works</td>\n",
              "      <td>nsubj</td>\n",
              "      <td>Microsoft</td>\n",
              "    </tr>\n",
              "    <tr>\n",
              "      <th>4</th>\n",
              "      <td>Mary</td>\n",
              "      <td>born</td>\n",
              "      <td>flat</td>\n",
              "      <td>Paris</td>\n",
              "    </tr>\n",
              "    <tr>\n",
              "      <th>5</th>\n",
              "      <td>Mary</td>\n",
              "      <td>works</td>\n",
              "      <td>nsubj</td>\n",
              "      <td>Google</td>\n",
              "    </tr>\n",
              "    <tr>\n",
              "      <th>6</th>\n",
              "      <td>Google</td>\n",
              "      <td>based</td>\n",
              "      <td>flat</td>\n",
              "      <td>US</td>\n",
              "    </tr>\n",
              "    <tr>\n",
              "      <th>7</th>\n",
              "      <td>Mike</td>\n",
              "      <td>works</td>\n",
              "      <td>nsubj</td>\n",
              "      <td>Washington</td>\n",
              "    </tr>\n",
              "    <tr>\n",
              "      <th>8</th>\n",
              "      <td>Washington</td>\n",
              "      <td>capital</td>\n",
              "      <td>flat</td>\n",
              "      <td>US</td>\n",
              "    </tr>\n",
              "    <tr>\n",
              "      <th>9</th>\n",
              "      <td>England</td>\n",
              "      <td>located</td>\n",
              "      <td>flat</td>\n",
              "      <td>Europe</td>\n",
              "    </tr>\n",
              "    <tr>\n",
              "      <th>10</th>\n",
              "      <td>Paris</td>\n",
              "      <td>capital</td>\n",
              "      <td>flat</td>\n",
              "      <td>France</td>\n",
              "    </tr>\n",
              "    <tr>\n",
              "      <th>11</th>\n",
              "      <td>US</td>\n",
              "      <td>located</td>\n",
              "      <td>flat</td>\n",
              "      <td>North America</td>\n",
              "    </tr>\n",
              "  </tbody>\n",
              "</table>\n",
              "</div>"
            ],
            "text/plain": [
              "            n1 relation relation_type             n2\n",
              "0    John Snow     born          flat        England\n",
              "1    John Snow    lives          flat       New York\n",
              "2        Peter    lives          flat       New York\n",
              "3        Peter    works         nsubj      Microsoft\n",
              "4         Mary     born          flat          Paris\n",
              "5         Mary    works         nsubj         Google\n",
              "6       Google    based          flat             US\n",
              "7         Mike    works         nsubj     Washington\n",
              "8   Washington  capital          flat             US\n",
              "9      England  located          flat         Europe\n",
              "10       Paris  capital          flat         France\n",
              "11          US  located          flat  North America"
            ]
          },
          "metadata": {},
          "execution_count": 11
        }
      ]
    },
    {
      "cell_type": "code",
      "metadata": {
        "id": "f0i01p9-nXCz"
      },
      "source": [
        "rel_df.to_csv('relation_df.csv', index=False)"
      ],
      "execution_count": 12,
      "outputs": []
    },
    {
      "cell_type": "code",
      "metadata": {
        "id": "RkWz9oQ4nXCz"
      },
      "source": [
        "import pandas as pd\n",
        "\n",
        "rel_df = pd.read_csv('rel_df.csv')"
      ],
      "execution_count": null,
      "outputs": []
    },
    {
      "cell_type": "code",
      "metadata": {
        "id": "9kjmg9_ynXCz"
      },
      "source": [
        "rel_df"
      ],
      "execution_count": null,
      "outputs": []
    }
  ]
}
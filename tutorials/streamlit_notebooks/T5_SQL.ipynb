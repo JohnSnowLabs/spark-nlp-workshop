{
  "nbformat": 4,
  "nbformat_minor": 0,
  "metadata": {
    "colab": {
      "name": "T5_SQL.ipynb",
      "provenance": [],
      "collapsed_sections": []
    },
    "kernelspec": {
      "name": "python3",
      "display_name": "Python 3"
    },
    "language_info": {
      "name": "python"
    }
  },
  "cells": [
    {
      "cell_type": "markdown",
      "source": [
        "\n",
        "\n",
        "![JohnSnowLabs](https://nlp.johnsnowlabs.com/assets/images/logo.png)\n",
        "\n",
        "[![Open In Colab](https://colab.research.google.com/assets/colab-badge.svg)](https://githubtocolab.com/JohnSnowLabs/spark-nlp-workshop/blob/master/tutorials/streamlit_notebooks/T5_SQL.ipynb)\n",
        "\n",
        "\n"
      ],
      "metadata": {
        "id": "hs-xcz2deMDq"
      }
    },
    {
      "cell_type": "markdown",
      "source": [
        "### Spark NLP documentation and instructions:\n",
        "https://nlp.johnsnowlabs.com/docs/en/quickstart\n",
        "\n",
        "### Spark NLP Google T5 Article \t\n",
        "https://towardsdatascience.com/hands-on-googles-text-to-text-transfer-transformer-t5-with-spark-nlp-6f7db75cecff\n",
        "\n",
        "### For T5 models:\n",
        "https://nlp.johnsnowlabs.com/models?q=T5\n",
        "\n",
        "### You can find details about Spark NLP models here:\n",
        "https://nlp.johnsnowlabs.com/models\n",
        "\n"
      ],
      "metadata": {
        "id": "ifkFG9AKePsM"
      }
    },
    {
      "cell_type": "markdown",
      "source": [
        "## 1. Colab Setup"
      ],
      "metadata": {
        "id": "_pstwf6UeSwa"
      }
    },
    {
      "cell_type": "code",
      "source": [
        "# Install PySpark and Spark NLP\n",
        "! pip install -q pyspark==3.1.2 spark-nlp"
      ],
      "metadata": {
        "colab": {
          "base_uri": "https://localhost:8080/"
        },
        "id": "Ser3fedfSwic",
        "outputId": "4b938577-0dba-4853-be24-16f90aaf3e1e"
      },
      "execution_count": 5,
      "outputs": [
        {
          "output_type": "stream",
          "name": "stdout",
          "text": [
            "\u001b[K     |████████████████████████████████| 212.4 MB 67 kB/s \n",
            "\u001b[K     |████████████████████████████████| 140 kB 49.7 MB/s \n",
            "\u001b[K     |████████████████████████████████| 198 kB 55.5 MB/s \n",
            "\u001b[?25h  Building wheel for pyspark (setup.py) ... \u001b[?25l\u001b[?25hdone\n"
          ]
        }
      ]
    },
    {
      "cell_type": "markdown",
      "source": [
        "# 2. Start the Spark session"
      ],
      "metadata": {
        "id": "M-_lOGQYfCBu"
      }
    },
    {
      "cell_type": "code",
      "source": [
        "import pandas as pd\n",
        "import sparknlp\n",
        "from sparknlp.base import *\n",
        "from sparknlp.annotator import *\n",
        "spark = sparknlp.start()"
      ],
      "metadata": {
        "id": "P7NOSR6vfCik"
      },
      "execution_count": 6,
      "outputs": []
    },
    {
      "cell_type": "markdown",
      "source": [
        "# Choose a sample text"
      ],
      "metadata": {
        "id": "JN7qzCx60XJ2"
      }
    },
    {
      "cell_type": "code",
      "source": [
        "text_list = [\"\"\"How many customers have ordered more than 2 items?\"\"\",\"\"\"How many players were with the school or club team La Salle?\"\"\",\"\"\"When the scoring rank was 117, what was the best\n",
        "finish?\"\"\",\"\"\"When the best finish was T69, how many people came in 2nd?\"\"\",\"\"\"How many wins were there when the money list rank was 183?\"\"\",\"\"\"When did the Metrostars have their first Rookie of the Year winner?\"\"\",\"\"\"What college did the Rookie of the Year from the\n",
        "Columbus Crew attend?\"\"\"]"
      ],
      "metadata": {
        "id": "U98f6V7C0kzK"
      },
      "execution_count": 7,
      "outputs": []
    },
    {
      "cell_type": "markdown",
      "source": [
        "# T5 for SQL Query generation"
      ],
      "metadata": {
        "id": "Fc6JqTM8e0Ff"
      }
    },
    {
      "cell_type": "code",
      "execution_count": 8,
      "metadata": {
        "id": "QAZ3vOX_SW7B",
        "colab": {
          "base_uri": "https://localhost:8080/"
        },
        "outputId": "e9d6185e-6d28-4634-ac46-36eb87afab0b"
      },
      "outputs": [
        {
          "output_type": "stream",
          "name": "stdout",
          "text": [
            "t5_small_wikiSQL download started this may take some time.\n",
            "Approximate size to download 249.9 MB\n",
            "[OK!]\n"
          ]
        }
      ],
      "source": [
        "documentAssembler = DocumentAssembler() \\\n",
        "    .setInputCol(\"text\") \\\n",
        "    .setOutputCol(\"documents\")\n",
        "t5 = T5Transformer.pretrained(\"t5_small_wikiSQL\") \\\n",
        "    .setTask(\"translate English to SQL:\") \\\n",
        "    .setInputCols([\"documents\"]) \\\n",
        "    .setMaxOutputLength(200) \\\n",
        "    .setOutputCol(\"sql\")\n",
        "pipeline = Pipeline().setStages([documentAssembler, t5])\n"
      ]
    },
    {
      "cell_type": "code",
      "source": [
        "df = spark.createDataFrame(pd.DataFrame(text_list)).toDF(\"text\")\n",
        "\n",
        "result = pipeline.fit(df).transform(df)"
      ],
      "metadata": {
        "id": "HsZgbeJa_iYB"
      },
      "execution_count": 12,
      "outputs": []
    },
    {
      "cell_type": "code",
      "source": [
        "\n",
        "result.select(\"text\",\"sql.result\").show(truncate=False)"
      ],
      "metadata": {
        "colab": {
          "base_uri": "https://localhost:8080/"
        },
        "id": "czGYJYZR86-O",
        "outputId": "22ac358f-c7fc-40b0-b6fd-7a01cc76ad1d"
      },
      "execution_count": 16,
      "outputs": [
        {
          "output_type": "stream",
          "name": "stdout",
          "text": [
            "+----------------------------------------------------------------------+---------------------------------------------------------------------+\n",
            "|text                                                                  |result                                                               |\n",
            "+----------------------------------------------------------------------+---------------------------------------------------------------------+\n",
            "|How many customers have ordered more than 2 items?                    |[SELECT COUNT Customers FROM table WHERE Orders > 2]                 |\n",
            "|How many players were with the school or club team La Salle?          |[SELECT COUNT Player FROM table WHERE School/Club Team = La Salle]   |\n",
            "|When the scoring rank was 117, what was the best\n",
            "finish?              |[SELECT Best finish FROM table WHERE Scored = 117]                   |\n",
            "|When the best finish was T69, how many people came in 2nd?            |[SELECT COUNT 2nd FROM table WHERE Best finish = t69]                |\n",
            "|How many wins were there when the money list rank was 183?            |[SELECT Wins FROM table WHERE Money list rank = 183]                 |\n",
            "|When did the Metrostars have their first Rookie of the Year winner?   |[SELECT Date FROM table WHERE Rookie of the Year Winner = metrostars]|\n",
            "|What college did the Rookie of the Year from the\n",
            "Columbus Crew attend?|[SELECT College FROM table WHERE Rookie of the Year = columbus crew] |\n",
            "+----------------------------------------------------------------------+---------------------------------------------------------------------+\n",
            "\n"
          ]
        }
      ]
    },
    {
      "cell_type": "code",
      "source": [
        ""
      ],
      "metadata": {
        "id": "YqZfl38y30Ci"
      },
      "execution_count": null,
      "outputs": []
    }
  ]
}
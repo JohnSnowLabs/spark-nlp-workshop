{
  "nbformat": 4,
  "nbformat_minor": 0,
  "metadata": {
    "colab": {
      "name": "T5_LINGUISTIC.ipynb",
      "provenance": [],
      "collapsed_sections": []
    },
    "kernelspec": {
      "name": "python3",
      "display_name": "Python 3"
    },
    "language_info": {
      "name": "python"
    },
    "accelerator": "GPU"
  },
  "cells": [
    {
      "cell_type": "markdown",
      "source": [
        "\n",
        "\n",
        "![JohnSnowLabs](https://nlp.johnsnowlabs.com/assets/images/logo.png)\n",
        "\n",
        "[![Open In Colab](https://colab.research.google.com/assets/colab-badge.svg)](https://githubtocolab.com/JohnSnowLabs/spark-nlp-workshop/blob/master/tutorials/streamlit_notebooks/T5_LINGUISTIC.ipynb)\n",
        "\n",
        "\n"
      ],
      "metadata": {
        "id": "hs-xcz2deMDq"
      }
    },
    {
      "cell_type": "markdown",
      "source": [
        "### Spark NLP documentation and instructions:\n",
        "https://nlp.johnsnowlabs.com/docs/en/quickstart\n",
        "\n",
        "### Spark NLP Google T5 Article \t\n",
        "https://towardsdatascience.com/hands-on-googles-text-to-text-transfer-transformer-t5-with-spark-nlp-6f7db75cecff\n",
        "\n",
        "### For T5 models:\n",
        "https://nlp.johnsnowlabs.com/models?q=T5\n",
        "\n",
        "### You can find details about Spark NLP models here:\n",
        "https://nlp.johnsnowlabs.com/models\n",
        "\n"
      ],
      "metadata": {
        "id": "ifkFG9AKePsM"
      }
    },
    {
      "cell_type": "markdown",
      "source": [
        "## 1. Colab Setup"
      ],
      "metadata": {
        "id": "_pstwf6UeSwa"
      }
    },
    {
      "cell_type": "code",
      "source": [
        "# Install PySpark and Spark NLP\n",
        "! pip install -q pyspark==3.1.2 spark-nlp"
      ],
      "metadata": {
        "colab": {
          "base_uri": "https://localhost:8080/"
        },
        "id": "Ser3fedfSwic",
        "outputId": "df055570-2ef7-4335-9200-f346cb7f5f7d"
      },
      "execution_count": 1,
      "outputs": [
        {
          "output_type": "stream",
          "name": "stdout",
          "text": [
            "\u001b[K     |████████████████████████████████| 212.4 MB 72 kB/s \n",
            "\u001b[K     |████████████████████████████████| 140 kB 45.7 MB/s \n",
            "\u001b[K     |████████████████████████████████| 198 kB 46.1 MB/s \n",
            "\u001b[?25h  Building wheel for pyspark (setup.py) ... \u001b[?25l\u001b[?25hdone\n"
          ]
        }
      ]
    },
    {
      "cell_type": "markdown",
      "source": [
        "# 2. Start the Spark session"
      ],
      "metadata": {
        "id": "M-_lOGQYfCBu"
      }
    },
    {
      "cell_type": "code",
      "source": [
        "import pandas as pd\n",
        "import sparknlp\n",
        "from sparknlp.base import *\n",
        "from sparknlp.annotator import *\n",
        "spark = sparknlp.start()"
      ],
      "metadata": {
        "id": "P7NOSR6vfCik"
      },
      "execution_count": 2,
      "outputs": []
    },
    {
      "cell_type": "markdown",
      "source": [
        "# T5 for grammar error correction"
      ],
      "metadata": {
        "id": "Fc6JqTM8e0Ff"
      }
    },
    {
      "cell_type": "code",
      "execution_count": 4,
      "metadata": {
        "id": "QAZ3vOX_SW7B",
        "colab": {
          "base_uri": "https://localhost:8080/"
        },
        "outputId": "83773a94-7360-4809-8d50-66b91a0a757a"
      },
      "outputs": [
        {
          "output_type": "stream",
          "name": "stdout",
          "text": [
            "t5_grammar_error_corrector download started this may take some time.\n",
            "Approximate size to download 883.3 MB\n",
            "[OK!]\n"
          ]
        }
      ],
      "source": [
        "\n",
        "documentAssembler = DocumentAssembler() \\\n",
        "    .setInputCol(\"text\") \\\n",
        "    .setOutputCol(\"documents\")\n",
        "t5 = T5Transformer.pretrained(\"t5_grammar_error_corrector\") \\\n",
        "    .setTask(\"gec:\") \\\n",
        "    .setInputCols([\"documents\"]) \\\n",
        "    .setMaxOutputLength(200) \\\n",
        "    .setOutputCol(\"corrections\")\n",
        "pipeline = Pipeline().setStages([documentAssembler, t5])\n"
      ]
    },
    {
      "cell_type": "code",
      "source": [
        "empty_df = spark.createDataFrame([['']]).toDF('text')\n",
        "pipeline_model = pipeline.fit(empty_df)\n",
        "T5model = LightPipeline(pipeline_model)\n",
        "\n",
        "example_txt = \"\"\"\n",
        "\n",
        "Anna and Mike is going skiing and they is liked is\n",
        "\"\"\"\n",
        "\n",
        "res = T5model.fullAnnotate(example_txt)[0]\n",
        "\n",
        "\n",
        "print ('Prediction:', res['corrections'][0].result)"
      ],
      "metadata": {
        "id": "_bZPPSOGN9OK",
        "colab": {
          "base_uri": "https://localhost:8080/"
        },
        "outputId": "192b6015-66bb-45d2-cb37-b1b8d7705a74"
      },
      "execution_count": 5,
      "outputs": [
        {
          "output_type": "stream",
          "name": "stdout",
          "text": [
            "Prediction: Anna and Mike are going skiing and they like it.\n"
          ]
        }
      ]
    },
    {
      "cell_type": "markdown",
      "source": [
        "# T5 for Informal to Formal Style Transfer"
      ],
      "metadata": {
        "id": "uVBXHgEVhoHV"
      }
    },
    {
      "cell_type": "code",
      "source": [
        "documentAssembler = DocumentAssembler() \\\n",
        "    .setInputCol(\"text\") \\\n",
        "    .setOutputCol(\"documents\")\n",
        "\n",
        "t5 = T5Transformer.pretrained(\"t5_informal_to_formal_styletransfer\") \\\n",
        "    .setTask(\"transfer Casual to Formal:\") \\\n",
        "    .setInputCols([\"documents\"]) \\\n",
        "    .setMaxOutputLength(200) \\\n",
        "    .setOutputCol(\"transfers\")\n",
        "\n",
        "pipeline = Pipeline().setStages([documentAssembler, t5])\n"
      ],
      "metadata": {
        "colab": {
          "base_uri": "https://localhost:8080/"
        },
        "id": "CUBT1oDAUQS-",
        "outputId": "78d6e3b2-ef11-4f90-a572-cbf2e218ac5a"
      },
      "execution_count": 3,
      "outputs": [
        {
          "output_type": "stream",
          "name": "stdout",
          "text": [
            "t5_informal_to_formal_styletransfer download started this may take some time.\n",
            "Approximate size to download 881.2 MB\n",
            "[OK!]\n"
          ]
        }
      ]
    },
    {
      "cell_type": "code",
      "source": [
        "empty_df = spark.createDataFrame([['']]).toDF('text')\n",
        "pipeline_model = pipeline.fit(empty_df)\n",
        "T5model = LightPipeline(pipeline_model)\n",
        "\n",
        "example_txt = \"\"\"\n",
        "\n",
        "btw - ur looks familiar.\n",
        "\"\"\"\n",
        "\n",
        "res = T5model.fullAnnotate(example_txt)[0]\n",
        "\n",
        "\n",
        "print ('Prediction:', res['transfers'][0].result)"
      ],
      "metadata": {
        "id": "h7prHk91V13r",
        "colab": {
          "base_uri": "https://localhost:8080/"
        },
        "outputId": "266f1a25-b0aa-442a-82b6-5872bb87dc58"
      },
      "execution_count": 4,
      "outputs": [
        {
          "output_type": "stream",
          "name": "stdout",
          "text": [
            "Prediction: By the way, your appearance is familiar.\n"
          ]
        }
      ]
    },
    {
      "cell_type": "markdown",
      "source": [
        "# T5 for Passive to Active Style Transfer"
      ],
      "metadata": {
        "id": "1C1ryWo1lfhs"
      }
    },
    {
      "cell_type": "code",
      "source": [
        "documentAssembler = DocumentAssembler() \\\n",
        "    .setInputCol(\"text\") \\\n",
        "    .setOutputCol(\"documents\")\n",
        "\n",
        "t5 = T5Transformer.pretrained(\"t5_passive_to_active_styletransfer\") \\\n",
        "    .setTask(\"transfer Passive to Active:\") \\\n",
        "    .setInputCols([\"documents\"]) \\\n",
        "    .setMaxOutputLength(200) \\\n",
        "    .setOutputCol(\"transfers\")\n",
        "\n",
        "pipeline = Pipeline().setStages([documentAssembler, t5])\n"
      ],
      "metadata": {
        "colab": {
          "base_uri": "https://localhost:8080/"
        },
        "id": "goYx_n2XiUEe",
        "outputId": "be2faa4a-7039-4ab0-f69e-dbef23ded5c0"
      },
      "execution_count": 5,
      "outputs": [
        {
          "output_type": "stream",
          "name": "stdout",
          "text": [
            "t5_passive_to_active_styletransfer download started this may take some time.\n",
            "Approximate size to download 252.8 MB\n",
            "[OK!]\n"
          ]
        }
      ]
    },
    {
      "cell_type": "code",
      "source": [
        "empty_df = spark.createDataFrame([['']]).toDF('text')\n",
        "pipeline_model = pipeline.fit(empty_df)\n",
        "T5model = LightPipeline(pipeline_model)\n",
        "\n",
        "example_txt = \"\"\"\n",
        "\n",
        "The flat tire was changed by Sue.\n",
        "\"\"\"\n",
        "\n",
        "res = T5model.fullAnnotate(example_txt)[0]\n",
        "\n",
        "\n",
        "print ('Prediction:', res['transfers'][0].result)"
      ],
      "metadata": {
        "colab": {
          "base_uri": "https://localhost:8080/"
        },
        "id": "GKaiL0G8gVeL",
        "outputId": "1fc6e753-3bd2-4818-e727-3ad7a8c283f0"
      },
      "execution_count": 7,
      "outputs": [
        {
          "output_type": "stream",
          "name": "stdout",
          "text": [
            "Prediction: Sue changed the flat tire.\n"
          ]
        }
      ]
    },
    {
      "cell_type": "code",
      "source": [
        ""
      ],
      "metadata": {
        "id": "9swqD9rDluv_"
      },
      "execution_count": null,
      "outputs": []
    }
  ]
}
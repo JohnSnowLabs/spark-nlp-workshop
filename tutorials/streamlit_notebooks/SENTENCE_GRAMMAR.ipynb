{
  "cells": [
    {
      "cell_type": "markdown",
      "metadata": {
        "id": "fYh5IIU9HiGW"
      },
      "source": [
        "\n",
        "\n",
        "![JohnSnowLabs](https://nlp.johnsnowlabs.com/assets/images/logo.png)\n",
        "\n",
        "[![Open In Colab](https://colab.research.google.com/assets/colab-badge.svg)](https://githubtocolab.com/JohnSnowLabs/spark-nlp-workshop/blob/master/tutorials/streamlit_notebooks/SENTENCE_GRAMMAR.ipynb)\n",
        "\n"
      ]
    },
    {
      "cell_type": "markdown",
      "metadata": {
        "id": "ix3SFqH3HiGf"
      },
      "source": [
        "# **Evaluate Sentence Grammar**"
      ]
    },
    {
      "cell_type": "markdown",
      "metadata": {
        "id": "IxtLDESgHiGh"
      },
      "source": [
        "## 1. Colab Setup"
      ]
    },
    {
      "cell_type": "code",
      "execution_count": 1,
      "metadata": {
        "colab": {
          "base_uri": "https://localhost:8080/"
        },
        "id": "jKbWBRSQHiGi",
        "outputId": "ee90d15b-b2c7-4bf1-eeb8-2e1fa44a837e"
      },
      "outputs": [],
      "source": [
        "# Install PySpark and Spark NLP\n",
        "! pip install -q pyspark==3.1.2 spark-nlp"
      ]
    },
    {
      "cell_type": "code",
      "execution_count": 2,
      "metadata": {
        "id": "mnxLyqnSHiGm"
      },
      "outputs": [],
      "source": [
        "import pandas as pd\n",
        "import numpy as np\n",
        "import json\n",
        "from pyspark.ml import Pipeline\n",
        "from pyspark.sql import SparkSession\n",
        "import pyspark.sql.functions as F\n",
        "from sparknlp.annotator import *\n",
        "from sparknlp.base import *\n",
        "import sparknlp\n",
        "from sparknlp.pretrained import PretrainedPipeline"
      ]
    },
    {
      "cell_type": "markdown",
      "metadata": {
        "id": "oQiESM5JHiGq"
      },
      "source": [
        "## 2. Start Spark Session"
      ]
    },
    {
      "cell_type": "code",
      "execution_count": 3,
      "metadata": {
        "id": "5FWtHC6nHiGr"
      },
      "outputs": [],
      "source": [
        "spark = sparknlp.start()"
      ]
    },
    {
      "cell_type": "markdown",
      "metadata": {
        "id": "IYrCKtZnHiGt"
      },
      "source": [
        "## 3. Select the model to use"
      ]
    },
    {
      "cell_type": "code",
      "execution_count": 4,
      "metadata": {
        "id": "ZsB2E2EgHiGu"
      },
      "outputs": [],
      "source": [
        "#MODEL_NAME = 't5_small'\n",
        "MODEL_NAME = 't5_base'"
      ]
    },
    {
      "cell_type": "markdown",
      "metadata": {
        "id": "yuAeevR0HiGw"
      },
      "source": [
        "## 4 Examples to try on the model"
      ]
    },
    {
      "cell_type": "code",
      "execution_count": 5,
      "metadata": {
        "id": "O09gwivoHiGx"
      },
      "outputs": [],
      "source": [
        "text_list = ['Anna and Mike is going skiing and they is liked is', 'Anna and Mike like to dance']"
      ]
    },
    {
      "cell_type": "markdown",
      "metadata": {
        "id": "z1KfPRGgHiGz"
      },
      "source": [
        "## 5. Define the Spark NLP pipeline"
      ]
    },
    {
      "cell_type": "markdown",
      "metadata": {
        "id": "hW8XwHkQHiG3"
      },
      "source": [
        "The `T5 Transformer` model is able to perform 18 different tasks (ref.: [this paper](https://arxiv.org/abs/1910.10683)). To check the grammar in a sentence, we use the prefix `cola sentence:` in the model."
      ]
    },
    {
      "cell_type": "code",
      "execution_count": 6,
      "metadata": {
        "id": "SbPr97XdHiG4"
      },
      "outputs": [],
      "source": [
        "# Prefix to be used on the T5Transformer().setTask(<<prefix>>)\n",
        "task_prefix = 'cola sentence:'"
      ]
    },
    {
      "cell_type": "code",
      "execution_count": 7,
      "metadata": {
        "colab": {
          "base_uri": "https://localhost:8080/"
        },
        "id": "HvfrQB4KHiG5",
        "outputId": "c9b62a40-70e3-4294-b71b-7c09ac5fb2d9"
      },
      "outputs": [
        {
          "name": "stdout",
          "output_type": "stream",
          "text": [
            "t5_base download started this may take some time.\n",
            "Approximate size to download 446 MB\n",
            "[OK!]\n"
          ]
        }
      ],
      "source": [
        "document_assembler = DocumentAssembler()\\\n",
        "    .setInputCol(\"text\")\\\n",
        "    .setOutputCol(\"documents\")\n",
        "\n",
        "t5 = T5Transformer() \\\n",
        "    .pretrained(MODEL_NAME) \\\n",
        "    .setTask(task_prefix)\\\n",
        "    .setMaxOutputLength(200)\\\n",
        "    .setInputCols([\"documents\"]) \\\n",
        "    .setOutputCol(\"T5\")\n",
        "\n",
        "pipeline = Pipeline(stages=[document_assembler, t5])"
      ]
    },
    {
      "cell_type": "markdown",
      "metadata": {
        "id": "J6ybagtcHiG6"
      },
      "source": [
        "## 6. Run the pipeline"
      ]
    },
    {
      "cell_type": "code",
      "execution_count": 8,
      "metadata": {
        "id": "fJUb7cqTHiG7"
      },
      "outputs": [],
      "source": [
        "# Fit on empty data frame (model is pretrained)\n",
        "empty_df = spark.createDataFrame([['']]).toDF('text')\n",
        "pipeline_model = pipeline.fit(empty_df)\n",
        "\n",
        "# Create Light Pipeline\n",
        "lmodel = LightPipeline(pipeline_model)\n",
        "\n",
        "# Use the model to make predictions\n",
        "res = lmodel.fullAnnotate(text_list)"
      ]
    },
    {
      "cell_type": "markdown",
      "metadata": {
        "id": "JNOEgryOHiG7"
      },
      "source": [
        "## 7. Visualize the results"
      ]
    },
    {
      "cell_type": "markdown",
      "metadata": {
        "id": "Pioyl037HiG7"
      },
      "source": [
        "Using Light Pipeline:"
      ]
    },
    {
      "cell_type": "code",
      "execution_count": 9,
      "metadata": {
        "colab": {
          "base_uri": "https://localhost:8080/"
        },
        "id": "8Yx5Ax21HiG8",
        "outputId": "c6e26766-6377-4b9d-c304-b0f9b8adba85"
      },
      "outputs": [
        {
          "name": "stdout",
          "output_type": "stream",
          "text": [
            "Anna and Mike is going skiing and they is liked is => Grammar: unacceptable\n",
            "Anna and Mike like to dance => Grammar: acceptable\n"
          ]
        }
      ],
      "source": [
        "for r in res:\n",
        "    print(f\"{r['documents'][0].result} => Grammar: {r['T5'][0].result}\")"
      ]
    },
    {
      "cell_type": "markdown",
      "metadata": {
        "id": "O0HjUk75HiG8"
      },
      "source": [
        "Using pipeline model:"
      ]
    },
    {
      "cell_type": "code",
      "execution_count": 10,
      "metadata": {
        "id": "HuagdW8VHiG9"
      },
      "outputs": [],
      "source": [
        "# Send example texts to spark data frame\n",
        "text_df = spark.createDataFrame(pd.DataFrame({'text': text_list}))\n",
        "\n",
        "# Predict with the model\n",
        "result = pipeline_model.transform(text_df)"
      ]
    },
    {
      "cell_type": "code",
      "execution_count": 11,
      "metadata": {
        "colab": {
          "base_uri": "https://localhost:8080/"
        },
        "id": "qMTvm6K_HiG-",
        "outputId": "56bd1f73-c3dc-4d77-8e25-76caaecf0749"
      },
      "outputs": [
        {
          "name": "stdout",
          "output_type": "stream",
          "text": [
            "+--------------------------------------------------+--------------+\n",
            "|text                                              |result        |\n",
            "+--------------------------------------------------+--------------+\n",
            "|Anna and Mike is going skiing and they is liked is|[unacceptable]|\n",
            "|Anna and Mike like to dance                       |[acceptable]  |\n",
            "+--------------------------------------------------+--------------+\n",
            "\n"
          ]
        }
      ],
      "source": [
        "result.select('text', 'T5.result').show(truncate=False)"
      ]
    }
  ],
  "metadata": {
    "colab": {
      "name": "SENTENCE_GRAMMAR.ipynb",
      "provenance": []
    },
    "interpreter": {
      "hash": "45150093197569bb3a58481dcd32cd1adb45462fa3448719e8ac38ada6166aca"
    },
    "kernelspec": {
      "display_name": "Python 3.6.10 64-bit ('tensorflow2_p36': conda)",
      "name": "python3"
    },
    "language_info": {
      "codemirror_mode": {
        "name": "ipython",
        "version": 3
      },
      "file_extension": ".py",
      "mimetype": "text/x-python",
      "name": "python",
      "nbconvert_exporter": "python",
      "pygments_lexer": "ipython3",
      "version": "3.6.10"
    }
  },
  "nbformat": 4,
  "nbformat_minor": 0
}

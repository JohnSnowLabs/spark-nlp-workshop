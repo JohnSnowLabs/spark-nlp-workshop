{
  "cells": [
    {
      "cell_type": "markdown",
      "metadata": {
        "id": "-BXISP_nPkXv"
      },
      "source": [
        "\n",
        "\n",
        "![JohnSnowLabs](https://nlp.johnsnowlabs.com/assets/images/logo.png)\n",
        "\n",
        "[![Open In Colab](https://colab.research.google.com/assets/colab-badge.svg)](https://githubtocolab.com/JohnSnowLabs/spark-nlp-workshop/blob/master/tutorials/streamlit_notebooks/SENTIMENT_EN_EMOTION.ipynb)\n",
        "\n",
        "\n"
      ]
    },
    {
      "cell_type": "markdown",
      "metadata": {
        "id": "xhxAXE9lPpOT"
      },
      "source": [
        "# **Detect Emotions in text**"
      ]
    },
    {
      "cell_type": "markdown",
      "metadata": {
        "id": "S-9_bq38PvAw"
      },
      "source": [
        "## 1. Colab Setup"
      ]
    },
    {
      "cell_type": "code",
      "execution_count": 1,
      "metadata": {
        "colab": {
          "base_uri": "https://localhost:8080/"
        },
        "id": "w6o8-g0tEqNz",
        "outputId": "b8ad05c7-81d6-416b-82c4-5b6184a40b44"
      },
      "outputs": [],
      "source": [
        "# Install PySpark and Spark NLP\n",
        "! pip install -q pyspark==3.1.2 spark-nlp"
      ]
    },
    {
      "cell_type": "code",
      "execution_count": 2,
      "metadata": {
        "id": "yMmT9S6mE0ad"
      },
      "outputs": [],
      "source": [
        "import pandas as pd\n",
        "import numpy as np\n",
        "import json\n",
        "from pyspark.ml import Pipeline\n",
        "from pyspark.sql import SparkSession\n",
        "import pyspark.sql.functions as F\n",
        "from sparknlp.annotator import *\n",
        "from sparknlp.base import *\n",
        "import sparknlp\n",
        "from sparknlp.pretrained import PretrainedPipeline"
      ]
    },
    {
      "cell_type": "markdown",
      "metadata": {
        "id": "_ktr6NgiPyGw"
      },
      "source": [
        "## 2. Start Spark Session"
      ]
    },
    {
      "cell_type": "code",
      "execution_count": 3,
      "metadata": {
        "id": "4zBXbY_vE2ss"
      },
      "outputs": [],
      "source": [
        "spark = sparknlp.start()"
      ]
    },
    {
      "cell_type": "markdown",
      "metadata": {
        "id": "PgWQ_R2aP0UQ"
      },
      "source": [
        "## 3. Select the DL model"
      ]
    },
    {
      "cell_type": "code",
      "execution_count": 4,
      "metadata": {
        "id": "1XxHWemdE5hX"
      },
      "outputs": [],
      "source": [
        "MODEL_NAME='classifierdl_use_emotion'"
      ]
    },
    {
      "cell_type": "markdown",
      "metadata": {
        "id": "OMH_l9VYP6_C"
      },
      "source": [
        "## 4. Some sample examples"
      ]
    },
    {
      "cell_type": "code",
      "execution_count": 5,
      "metadata": {
        "id": "GJ7GCD0pFDvP"
      },
      "outputs": [],
      "source": [
        "text_list = [\n",
        "            \"\"\"I am SO happy the news came out in time for my birthday this weekend! My inner 7-year-old cannot WAIT!\"\"\",\n",
        "            \"\"\"That moment when you see your friend in a commercial. Hahahaha!\"\"\",\n",
        "            \"\"\"My soul has just been pierced by the most evil look from @rickosborneorg. A mini panic attack &amp; chill in bones followed soon after.\"\"\",\n",
        "            \"\"\"For some reason I woke up thinkin it was Friday then I got to school and realized its really Monday -_-\"\"\",\n",
        "            \"\"\"I'd probably explode into a jillion pieces from the inablility to contain all of my if I had a Whataburger patty melt right now. #drool\"\"\",\n",
        "            \"\"\"These are not emotions. They are simply irrational thoughts feeding off of an emotion\"\"\",\n",
        "            \"\"\"Found out im gonna be with sarah bo barah in ny for one day!!! Eggcitement :)\"\"\",\n",
        "            \"\"\"That awkward moment when you find a perfume box full of sensors!\"\"\",\n",
        "            \"\"\"Just home from group celebration - dinner at Trattoria Gianni, then Hershey Felder's performance - AMAZING!!\"\"\",\n",
        "            \"\"\"Nooooo! My dad turned off the internet so I can't listen to band music!\"\"\",\n",
        "            ]\n"
      ]
    },
    {
      "cell_type": "markdown",
      "metadata": {
        "id": "j60-zWEAP-7G"
      },
      "source": [
        "## 5. Define Spark NLP pipeline"
      ]
    },
    {
      "cell_type": "code",
      "execution_count": 6,
      "metadata": {
        "colab": {
          "base_uri": "https://localhost:8080/"
        },
        "id": "IiYxv0mOFIcX",
        "outputId": "0f423692-37a9-4646-c52d-a275318f5654"
      },
      "outputs": [
        {
          "name": "stdout",
          "output_type": "stream",
          "text": [
            "tfhub_use download started this may take some time.\n",
            "Approximate size to download 923.7 MB\n",
            "[OK!]\n",
            "classifierdl_use_emotion download started this may take some time.\n",
            "Approximate size to download 21.3 MB\n",
            "[OK!]\n"
          ]
        }
      ],
      "source": [
        "documentAssembler = DocumentAssembler()\\\n",
        "    .setInputCol(\"text\")\\\n",
        "    .setOutputCol(\"document\")\n",
        "    \n",
        "use = UniversalSentenceEncoder.pretrained(name=\"tfhub_use\", lang=\"en\")\\\n",
        " .setInputCols([\"document\"])\\\n",
        " .setOutputCol(\"sentence_embeddings\")\n",
        "\n",
        "\n",
        "sentimentdl = ClassifierDLModel.pretrained(name=MODEL_NAME)\\\n",
        "    .setInputCols([\"sentence_embeddings\"])\\\n",
        "    .setOutputCol(\"sentiment\")\n",
        "\n",
        "nlpPipeline = Pipeline(\n",
        "      stages = [\n",
        "          documentAssembler,\n",
        "          use,\n",
        "          sentimentdl\n",
        "      ])\n"
      ]
    },
    {
      "cell_type": "markdown",
      "metadata": {
        "id": "IvMYmMRQQFiJ"
      },
      "source": [
        "## 6. Run the pipeline"
      ]
    },
    {
      "cell_type": "code",
      "execution_count": 7,
      "metadata": {
        "id": "IwQEsWpHQDls"
      },
      "outputs": [],
      "source": [
        "empty_df = spark.createDataFrame([['']]).toDF(\"text\")\n",
        "\n",
        "pipelineModel = nlpPipeline.fit(empty_df)\n",
        "df = spark.createDataFrame(pd.DataFrame({\"text\":text_list}))\n",
        "result = pipelineModel.transform(df)"
      ]
    },
    {
      "cell_type": "markdown",
      "metadata": {
        "id": "WbtEasLxQIxI"
      },
      "source": [
        "## 7. Visualize results"
      ]
    },
    {
      "cell_type": "code",
      "execution_count": 8,
      "metadata": {
        "colab": {
          "base_uri": "https://localhost:8080/"
        },
        "id": "TzJSQhTnFix5",
        "outputId": "7da1e751-922e-4be2-c9c9-2d476c5b1f54"
      },
      "outputs": [
        {
          "name": "stdout",
          "output_type": "stream",
          "text": [
            "+---------------------------------------------------------------------------------------------------------------------------------------+---------+\n",
            "|document                                                                                                                               |sentiment|\n",
            "+---------------------------------------------------------------------------------------------------------------------------------------+---------+\n",
            "|I am SO happy the news came out in time for my birthday this weekend! My inner 7-year-old cannot WAIT!                                 |surprise |\n",
            "|That moment when you see your friend in a commercial. Hahahaha!                                                                        |surprise |\n",
            "|My soul has just been pierced by the most evil look from @rickosborneorg. A mini panic attack &amp; chill in bones followed soon after.|fear     |\n",
            "|For some reason I woke up thinkin it was Friday then I got to school and realized its really Monday -_-                                |sadness  |\n",
            "|I'd probably explode into a jillion pieces from the inablility to contain all of my if I had a Whataburger patty melt right now. #drool|sadness  |\n",
            "|These are not emotions. They are simply irrational thoughts feeding off of an emotion                                                  |fear     |\n",
            "|Found out im gonna be with sarah bo barah in ny for one day!!! Eggcitement :)                                                          |surprise |\n",
            "|That awkward moment when you find a perfume box full of sensors!                                                                       |surprise |\n",
            "|Just home from group celebration - dinner at Trattoria Gianni, then Hershey Felder's performance - AMAZING!!                           |joy      |\n",
            "|Nooooo! My dad turned off the internet so I can't listen to band music!                                                                |sadness  |\n",
            "+---------------------------------------------------------------------------------------------------------------------------------------+---------+\n",
            "\n"
          ]
        }
      ],
      "source": [
        "\n",
        "result.select(F.explode(F.arrays_zip('document.result', 'sentiment.result')).alias(\"cols\")) \\\n",
        ".select(F.expr(\"cols['0']\").alias(\"document\"),\n",
        "        F.expr(\"cols['1']\").alias(\"sentiment\")).show(truncate=False)"
      ]
    }
  ],
  "metadata": {
    "colab": {
      "collapsed_sections": [],
      "name": "SENTIMENT_EN_EMOTION.ipynb",
      "provenance": [],
      "toc_visible": true
    },
    "interpreter": {
      "hash": "45150093197569bb3a58481dcd32cd1adb45462fa3448719e8ac38ada6166aca"
    },
    "kernelspec": {
      "display_name": "Python 3.6.10 64-bit ('tensorflow2_p36': conda)",
      "name": "python3"
    },
    "language_info": {
      "codemirror_mode": {
        "name": "ipython",
        "version": 3
      },
      "file_extension": ".py",
      "mimetype": "text/x-python",
      "name": "python",
      "nbconvert_exporter": "python",
      "pygments_lexer": "ipython3",
      "version": "3.6.10"
    }
  },
  "nbformat": 4,
  "nbformat_minor": 0
}

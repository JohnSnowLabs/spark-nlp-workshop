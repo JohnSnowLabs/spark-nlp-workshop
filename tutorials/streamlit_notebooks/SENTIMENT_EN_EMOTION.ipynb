{
  "nbformat": 4,
  "nbformat_minor": 0,
  "metadata": {
    "colab": {
      "name": "SENTIMENT_EN_EMOTION.ipynb",
      "provenance": [],
      "collapsed_sections": [],
      "toc_visible": true
    },
    "kernelspec": {
      "name": "python3",
      "display_name": "Python 3"
    }
  },
  "cells": [
    {
      "cell_type": "markdown",
      "metadata": {
        "id": "-BXISP_nPkXv"
      },
      "source": [
        "\n",
        "\n",
        "![JohnSnowLabs](https://nlp.johnsnowlabs.com/assets/images/logo.png)\n",
        "\n",
        "[![Open In Colab](https://colab.research.google.com/assets/colab-badge.svg)](https://githubtocolab.com/JohnSnowLabs/spark-nlp-workshop/blob/master/tutorials/streamlit_notebooks/SENTIMENT_EN_EMOTION.ipynb)\n",
        "\n",
        "\n"
      ]
    },
    {
      "cell_type": "markdown",
      "metadata": {
        "id": "xhxAXE9lPpOT"
      },
      "source": [
        "# **Detect Emotions in text**"
      ]
    },
    {
      "cell_type": "markdown",
      "metadata": {
        "id": "S-9_bq38PvAw"
      },
      "source": [
        "## 1. Colab Setup"
      ]
    },
    {
      "cell_type": "code",
      "metadata": {
        "id": "w6o8-g0tEqNz",
        "colab": {
          "base_uri": "https://localhost:8080/"
        },
        "outputId": "b8ad05c7-81d6-416b-82c4-5b6184a40b44"
      },
      "source": [
        "!wget http://setup.johnsnowlabs.com/colab.sh -O - | bash\n",
        "# !bash colab.sh\n",
        "# -p is for pyspark\n",
        "# -s is for spark-nlp\n",
        "# !bash colab.sh -p 3.1.1 -s 3.0.1\n",
        "# by default they are set to the latest"
      ],
      "execution_count": 1,
      "outputs": [
        {
          "output_type": "stream",
          "text": [
            "openjdk version \"11.0.10\" 2021-01-19\n",
            "OpenJDK Runtime Environment (build 11.0.10+9-Ubuntu-0ubuntu1.18.04)\n",
            "OpenJDK 64-Bit Server VM (build 11.0.10+9-Ubuntu-0ubuntu1.18.04, mixed mode, sharing)\n",
            "setup Colab for PySpark 3.1.1 and Spark NLP 3.0.0\n",
            "\u001b[K     |████████████████████████████████| 212.3MB 70kB/s \n",
            "\u001b[K     |████████████████████████████████| 143kB 55.1MB/s \n",
            "\u001b[K     |████████████████████████████████| 204kB 55.4MB/s \n",
            "\u001b[?25h  Building wheel for pyspark (setup.py) ... \u001b[?25l\u001b[?25hdone\n"
          ],
          "name": "stdout"
        }
      ]
    },
    {
      "cell_type": "code",
      "metadata": {
        "id": "yMmT9S6mE0ad"
      },
      "source": [
        "import pandas as pd\n",
        "import numpy as np\n",
        "import json\n",
        "from pyspark.ml import Pipeline\n",
        "from pyspark.sql import SparkSession\n",
        "import pyspark.sql.functions as F\n",
        "from sparknlp.annotator import *\n",
        "from sparknlp.base import *\n",
        "import sparknlp\n",
        "from sparknlp.pretrained import PretrainedPipeline"
      ],
      "execution_count": 2,
      "outputs": []
    },
    {
      "cell_type": "markdown",
      "metadata": {
        "id": "_ktr6NgiPyGw"
      },
      "source": [
        "## 2. Start Spark Session"
      ]
    },
    {
      "cell_type": "code",
      "metadata": {
        "id": "4zBXbY_vE2ss"
      },
      "source": [
        "spark = sparknlp.start()"
      ],
      "execution_count": 3,
      "outputs": []
    },
    {
      "cell_type": "markdown",
      "metadata": {
        "id": "PgWQ_R2aP0UQ"
      },
      "source": [
        "## 3. Select the DL model"
      ]
    },
    {
      "cell_type": "code",
      "metadata": {
        "id": "1XxHWemdE5hX"
      },
      "source": [
        "MODEL_NAME='classifierdl_use_emotion'"
      ],
      "execution_count": 4,
      "outputs": []
    },
    {
      "cell_type": "markdown",
      "metadata": {
        "id": "OMH_l9VYP6_C"
      },
      "source": [
        "## 4. Some sample examples"
      ]
    },
    {
      "cell_type": "code",
      "metadata": {
        "id": "GJ7GCD0pFDvP"
      },
      "source": [
        "text_list = [\n",
        "            \"\"\"I am SO happy the news came out in time for my birthday this weekend! My inner 7-year-old cannot WAIT!\"\"\",\n",
        "            \"\"\"That moment when you see your friend in a commercial. Hahahaha!\"\"\",\n",
        "            \"\"\"My soul has just been pierced by the most evil look from @rickosborneorg. A mini panic attack &amp; chill in bones followed soon after.\"\"\",\n",
        "            \"\"\"For some reason I woke up thinkin it was Friday then I got to school and realized its really Monday -_-\"\"\",\n",
        "            \"\"\"I'd probably explode into a jillion pieces from the inablility to contain all of my if I had a Whataburger patty melt right now. #drool\"\"\",\n",
        "            \"\"\"These are not emotions. They are simply irrational thoughts feeding off of an emotion\"\"\",\n",
        "            \"\"\"Found out im gonna be with sarah bo barah in ny for one day!!! Eggcitement :)\"\"\",\n",
        "            \"\"\"That awkward moment when you find a perfume box full of sensors!\"\"\",\n",
        "            \"\"\"Just home from group celebration - dinner at Trattoria Gianni, then Hershey Felder's performance - AMAZING!!\"\"\",\n",
        "            \"\"\"Nooooo! My dad turned off the internet so I can't listen to band music!\"\"\",\n",
        "            ]\n"
      ],
      "execution_count": 5,
      "outputs": []
    },
    {
      "cell_type": "markdown",
      "metadata": {
        "id": "j60-zWEAP-7G"
      },
      "source": [
        "## 5. Define Spark NLP pipeline"
      ]
    },
    {
      "cell_type": "code",
      "metadata": {
        "id": "IiYxv0mOFIcX",
        "colab": {
          "base_uri": "https://localhost:8080/"
        },
        "outputId": "0f423692-37a9-4646-c52d-a275318f5654"
      },
      "source": [
        "documentAssembler = DocumentAssembler()\\\n",
        "    .setInputCol(\"text\")\\\n",
        "    .setOutputCol(\"document\")\n",
        "    \n",
        "use = UniversalSentenceEncoder.pretrained(name=\"tfhub_use\", lang=\"en\")\\\n",
        " .setInputCols([\"document\"])\\\n",
        " .setOutputCol(\"sentence_embeddings\")\n",
        "\n",
        "\n",
        "sentimentdl = ClassifierDLModel.pretrained(name=MODEL_NAME)\\\n",
        "    .setInputCols([\"sentence_embeddings\"])\\\n",
        "    .setOutputCol(\"sentiment\")\n",
        "\n",
        "nlpPipeline = Pipeline(\n",
        "      stages = [\n",
        "          documentAssembler,\n",
        "          use,\n",
        "          sentimentdl\n",
        "      ])\n"
      ],
      "execution_count": 6,
      "outputs": [
        {
          "output_type": "stream",
          "text": [
            "tfhub_use download started this may take some time.\n",
            "Approximate size to download 923.7 MB\n",
            "[OK!]\n",
            "classifierdl_use_emotion download started this may take some time.\n",
            "Approximate size to download 21.3 MB\n",
            "[OK!]\n"
          ],
          "name": "stdout"
        }
      ]
    },
    {
      "cell_type": "markdown",
      "metadata": {
        "id": "IvMYmMRQQFiJ"
      },
      "source": [
        "## 6. Run the pipeline"
      ]
    },
    {
      "cell_type": "code",
      "metadata": {
        "id": "IwQEsWpHQDls"
      },
      "source": [
        "empty_df = spark.createDataFrame([['']]).toDF(\"text\")\n",
        "\n",
        "pipelineModel = nlpPipeline.fit(empty_df)\n",
        "df = spark.createDataFrame(pd.DataFrame({\"text\":text_list}))\n",
        "result = pipelineModel.transform(df)"
      ],
      "execution_count": 7,
      "outputs": []
    },
    {
      "cell_type": "markdown",
      "metadata": {
        "id": "WbtEasLxQIxI"
      },
      "source": [
        "## 7. Visualize results"
      ]
    },
    {
      "cell_type": "code",
      "metadata": {
        "id": "TzJSQhTnFix5",
        "colab": {
          "base_uri": "https://localhost:8080/"
        },
        "outputId": "7da1e751-922e-4be2-c9c9-2d476c5b1f54"
      },
      "source": [
        "\n",
        "result.select(F.explode(F.arrays_zip('document.result', 'sentiment.result')).alias(\"cols\")) \\\n",
        ".select(F.expr(\"cols['0']\").alias(\"document\"),\n",
        "        F.expr(\"cols['1']\").alias(\"sentiment\")).show(truncate=False)"
      ],
      "execution_count": 8,
      "outputs": [
        {
          "output_type": "stream",
          "text": [
            "+---------------------------------------------------------------------------------------------------------------------------------------+---------+\n",
            "|document                                                                                                                               |sentiment|\n",
            "+---------------------------------------------------------------------------------------------------------------------------------------+---------+\n",
            "|I am SO happy the news came out in time for my birthday this weekend! My inner 7-year-old cannot WAIT!                                 |surprise |\n",
            "|That moment when you see your friend in a commercial. Hahahaha!                                                                        |surprise |\n",
            "|My soul has just been pierced by the most evil look from @rickosborneorg. A mini panic attack &amp; chill in bones followed soon after.|fear     |\n",
            "|For some reason I woke up thinkin it was Friday then I got to school and realized its really Monday -_-                                |sadness  |\n",
            "|I'd probably explode into a jillion pieces from the inablility to contain all of my if I had a Whataburger patty melt right now. #drool|sadness  |\n",
            "|These are not emotions. They are simply irrational thoughts feeding off of an emotion                                                  |fear     |\n",
            "|Found out im gonna be with sarah bo barah in ny for one day!!! Eggcitement :)                                                          |surprise |\n",
            "|That awkward moment when you find a perfume box full of sensors!                                                                       |surprise |\n",
            "|Just home from group celebration - dinner at Trattoria Gianni, then Hershey Felder's performance - AMAZING!!                           |joy      |\n",
            "|Nooooo! My dad turned off the internet so I can't listen to band music!                                                                |sadness  |\n",
            "+---------------------------------------------------------------------------------------------------------------------------------------+---------+\n",
            "\n"
          ],
          "name": "stdout"
        }
      ]
    }
  ]
}
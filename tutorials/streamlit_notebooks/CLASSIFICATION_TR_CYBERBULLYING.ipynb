{
  "cells": [
    {
      "cell_type": "markdown",
      "metadata": {
        "id": "Wcq6iO7eQXB9"
      },
      "source": [
        "\n",
        "\n",
        "![JohnSnowLabs](https://nlp.johnsnowlabs.com/assets/images/logo.png)\n",
        "\n",
        "[![Open In Colab](https://colab.research.google.com/assets/colab-badge.svg)](https://githubtocolab.com/JohnSnowLabs/spark-nlp-workshop/blob/master/tutorials/streamlit_notebooks/SENTIMENT_EN_CYBERBULLYING.ipynb)\n",
        "\n",
        "\n"
      ]
    },
    {
      "cell_type": "markdown",
      "metadata": {
        "id": "69nlbFfSQbtI"
      },
      "source": [
        "# **Detect bullying in tweets**"
      ]
    },
    {
      "cell_type": "markdown",
      "metadata": {
        "id": "At_1tTpNQ4xa"
      },
      "source": [
        "## 1. Colab Setup"
      ]
    },
    {
      "cell_type": "code",
      "execution_count": null,
      "metadata": {
        "colab": {
          "base_uri": "https://localhost:8080/"
        },
        "id": "w6o8-g0tEqNz",
        "outputId": "6d986660-de36-4592-ef69-a7b7cf96b49d"
      },
      "outputs": [],
      "source": [
        "# Install PySpark and Spark NLP\n",
        "! pip install -q pyspark==3.1.2 spark-nlp"
      ]
    },
    {
      "cell_type": "code",
      "execution_count": 2,
      "metadata": {
        "id": "yMmT9S6mE0ad"
      },
      "outputs": [],
      "source": [
        "import pandas as pd\n",
        "import numpy as np\n",
        "import json\n",
        "from pyspark.ml import Pipeline\n",
        "from pyspark.sql import SparkSession\n",
        "import pyspark.sql.functions as F\n",
        "from sparknlp.annotator import *\n",
        "from sparknlp.base import *\n",
        "import sparknlp\n",
        "from sparknlp.pretrained import PretrainedPipeline"
      ]
    },
    {
      "cell_type": "markdown",
      "metadata": {
        "id": "ohBO_O8IQ7Ib"
      },
      "source": [
        "## 2. Start Spark Session"
      ]
    },
    {
      "cell_type": "code",
      "execution_count": 3,
      "metadata": {
        "id": "4zBXbY_vE2ss"
      },
      "outputs": [],
      "source": [
        "spark = sparknlp.start()"
      ]
    },
    {
      "cell_type": "markdown",
      "metadata": {
        "id": "XdltrQa6Q98p"
      },
      "source": [
        "## 3. Select the DL model"
      ]
    },
    {
      "cell_type": "code",
      "execution_count": 4,
      "metadata": {
        "id": "1XxHWemdE5hX"
      },
      "outputs": [],
      "source": [
        "MODEL_NAME='classifierdl_berturk_cyberbullying'"
      ]
    },
    {
      "cell_type": "markdown",
      "metadata": {
        "id": "lNL-WnVoRCOr"
      },
      "source": [
        "## 4. Some sample examples"
      ]
    },
    {
      "cell_type": "code",
      "execution_count": 5,
      "metadata": {
        "id": "GJ7GCD0pFDvP"
      },
      "outputs": [],
      "source": [
        "text_list = [\"\"\"Gidişin olsun, dönüşün olmasın inşallah senin..\"\"\",\n",
        "         \"\"\"Gidişin ile dönüşün çok sürmez inşallah senin.\"\"\",\n",
        "         \"\"\"Geberesice sırtlan soyu seni.\"\"\",\n",
        "         \"\"\"Sırtlanların çölde geberdiğini görünce üzülen bir insandım.\"\"\",\n",
        "         \"\"\"Bu ne aptal bir adam böyle.\"\"\"]"
      ]
    },
    {
      "cell_type": "markdown",
      "metadata": {
        "id": "wKvXxQhsRFSh"
      },
      "source": [
        "## 5. Define Spark NLP pipeline"
      ]
    },
    {
      "cell_type": "code",
      "execution_count": 6,
      "metadata": {
        "colab": {
          "base_uri": "https://localhost:8080/"
        },
        "id": "IiYxv0mOFIcX",
        "outputId": "6d7c656c-2d8a-4efa-fe62-fadd6118ba3d"
      },
      "outputs": [
        {
          "name": "stdout",
          "output_type": "stream",
          "text": [
            "lemma_antbnc download started this may take some time.\n",
            "Approximate size to download 907.6 KB\n",
            "[OK!]\n",
            "bert_base_turkish_uncased download started this may take some time.\n",
            "Approximate size to download 395.8 MB\n",
            "[OK!]\n",
            "classifierdl_berturk_cyberbullying download started this may take some time.\n",
            "Approximate size to download 22.5 MB\n",
            "[OK!]\n"
          ]
        }
      ],
      "source": [
        "documentAssembler = DocumentAssembler()\\\n",
        "    .setInputCol(\"text\")\\\n",
        "    .setOutputCol(\"document\")\n",
        "\n",
        "\n",
        "tokenizer = Tokenizer() \\\n",
        "    .setInputCols([\"document\"]) \\\n",
        "    .setOutputCol(\"token\")\n",
        "      \n",
        "normalizer = Normalizer() \\\n",
        "    .setInputCols([\"token\"]) \\\n",
        "    .setOutputCol(\"normalized\")\n",
        "\n",
        "stopwords_cleaner = StopWordsCleaner()\\\n",
        "    .setInputCols(\"normalized\")\\\n",
        "    .setOutputCol(\"cleanTokens\")\\\n",
        "    .setCaseSensitive(False)\n",
        "\n",
        "lemma = LemmatizerModel.pretrained('lemma_antbnc') \\\n",
        "    .setInputCols([\"cleanTokens\"]) \\\n",
        "    .setOutputCol(\"lemma\")\n",
        "    \n",
        "berturk_embeddings = BertEmbeddings.pretrained(\"bert_base_turkish_uncased\", \"tr\") \\\n",
        "      .setInputCols(\"document\", \"lemma\") \\\n",
        "      .setOutputCol(\"embeddings\")\n",
        "\n",
        "embeddingsSentence = SentenceEmbeddings() \\\n",
        "      .setInputCols([\"document\", \"embeddings\"]) \\\n",
        "      .setOutputCol(\"sentence_embeddings\") \\\n",
        "      .setPoolingStrategy(\"AVERAGE\")\n",
        "\n",
        "document_classifier = ClassifierDLModel.pretrained(MODEL_NAME, 'tr') \\\n",
        "  .setInputCols([\"document\", \"sentence_embeddings\"]) \\\n",
        "  .setOutputCol(\"class\")\n",
        "\n",
        "nlpPipeline = Pipeline(\n",
        "      stages = [\n",
        "         documentAssembler, tokenizer, normalizer, stopwords_cleaner, lemma, berturk_embeddings, embeddingsSentence, document_classifier\n",
        "      ])\n"
      ]
    },
    {
      "cell_type": "markdown",
      "metadata": {
        "id": "xHX_4kmDRIYG"
      },
      "source": [
        "## 6. Run the pipeline"
      ]
    },
    {
      "cell_type": "code",
      "execution_count": 7,
      "metadata": {
        "id": "mu8-zrx8RP6h"
      },
      "outputs": [],
      "source": [
        "empty_df = spark.createDataFrame([['']]).toDF(\"text\")\n",
        "pipelineModel = nlpPipeline.fit(empty_df)\n",
        "df = spark.createDataFrame(pd.DataFrame({\"text\":text_list}))\n",
        "result = pipelineModel.transform(df)"
      ]
    },
    {
      "cell_type": "code",
      "execution_count": 8,
      "metadata": {
        "colab": {
          "base_uri": "https://localhost:8080/"
        },
        "id": "AXmvL5VQcXii",
        "outputId": "204d8ba8-30b5-4f71-e2e4-f13d7244e378"
      },
      "outputs": [
        {
          "name": "stdout",
          "output_type": "stream",
          "text": [
            "+--------------------+--------------------+--------------------+--------------------+--------------------+--------------------+--------------------+--------------------+--------------------+\n",
            "|                text|            document|               token|          normalized|         cleanTokens|               lemma|          embeddings| sentence_embeddings|               class|\n",
            "+--------------------+--------------------+--------------------+--------------------+--------------------+--------------------+--------------------+--------------------+--------------------+\n",
            "|Gidişin olsun, dö...|[{document, 0, 46...|[{token, 0, 6, Gi...|[{token, 0, 6, Gi...|[{token, 0, 6, Gi...|[{token, 0, 6, Gi...|[{word_embeddings...|[{sentence_embedd...|[{category, 0, 46...|\n",
            "|Gidişin ile dönüş...|[{document, 0, 45...|[{token, 0, 6, Gi...|[{token, 0, 6, Gi...|[{token, 0, 6, Gi...|[{token, 0, 6, Gi...|[{word_embeddings...|[{sentence_embedd...|[{category, 0, 45...|\n",
            "|Geberesice sırtla...|[{document, 0, 28...|[{token, 0, 9, Ge...|[{token, 0, 9, Ge...|[{token, 0, 9, Ge...|[{token, 0, 9, Ge...|[{word_embeddings...|[{sentence_embedd...|[{category, 0, 28...|\n",
            "|Sırtlanların çöld...|[{document, 0, 58...|[{token, 0, 11, S...|[{token, 0, 11, S...|[{token, 0, 11, S...|[{token, 0, 11, S...|[{word_embeddings...|[{sentence_embedd...|[{category, 0, 58...|\n",
            "|Bu ne aptal bir a...|[{document, 0, 26...|[{token, 0, 1, Bu...|[{token, 0, 1, Bu...|[{token, 0, 1, Bu...|[{token, 0, 1, Bu...|[{word_embeddings...|[{sentence_embedd...|[{category, 0, 26...|\n",
            "+--------------------+--------------------+--------------------+--------------------+--------------------+--------------------+--------------------+--------------------+--------------------+\n",
            "\n"
          ]
        }
      ],
      "source": [
        "result.show()"
      ]
    },
    {
      "cell_type": "code",
      "execution_count": 9,
      "metadata": {
        "colab": {
          "base_uri": "https://localhost:8080/"
        },
        "id": "vJk3fJljc04x",
        "outputId": "60e9ffd8-f387-4fed-c5e6-f45ddac97094"
      },
      "outputs": [
        {
          "data": {
            "text/plain": [
              "[Row(class=[Row(annotatorType='category', begin=0, end=46, result='Pozitif', metadata={'sentence': '0', 'Negatif': '2.1142867E-5', 'Pozitif': '0.9999789'}, embeddings=[])]),\n",
              " Row(class=[Row(annotatorType='category', begin=0, end=45, result='Pozitif', metadata={'sentence': '0', 'Negatif': '1.9658038E-4', 'Pozitif': '0.9998035'}, embeddings=[])]),\n",
              " Row(class=[Row(annotatorType='category', begin=0, end=28, result='Negatif', metadata={'sentence': '0', 'Negatif': '0.9805546', 'Pozitif': '0.019445416'}, embeddings=[])]),\n",
              " Row(class=[Row(annotatorType='category', begin=0, end=58, result='Pozitif', metadata={'sentence': '0', 'Negatif': '1.4278975E-4', 'Pozitif': '0.9998572'}, embeddings=[])]),\n",
              " Row(class=[Row(annotatorType='category', begin=0, end=26, result='Negatif', metadata={'sentence': '0', 'Negatif': '0.9543243', 'Pozitif': '0.04567564'}, embeddings=[])])]"
            ]
          },
          "execution_count": 9,
          "metadata": {},
          "output_type": "execute_result"
        }
      ],
      "source": [
        "result.select(\"class\").collect()"
      ]
    },
    {
      "cell_type": "markdown",
      "metadata": {
        "id": "huwbT786RKuY"
      },
      "source": [
        "## 7. Visualize results"
      ]
    },
    {
      "cell_type": "code",
      "execution_count": 10,
      "metadata": {
        "colab": {
          "base_uri": "https://localhost:8080/"
        },
        "id": "_ZhzQGwjCySL",
        "outputId": "239e463b-c096-4120-9de2-e86d92b9569a"
      },
      "outputs": [
        {
          "name": "stdout",
          "output_type": "stream",
          "text": [
            "+-----------------------------------------------------------+-------+\n",
            "|document                                                   |class  |\n",
            "+-----------------------------------------------------------+-------+\n",
            "|Gidişin olsun, dönüşün olmasın inşallah senin..            |Pozitif|\n",
            "|Gidişin ile dönüşün çok sürmez inşallah senin.             |Pozitif|\n",
            "|Geberesice sırtlan soyu seni.                              |Negatif|\n",
            "|Sırtlanların çölde geberdiğini görünce üzülen bir insandım.|Pozitif|\n",
            "|Bu ne aptal bir adam böyle.                                |Negatif|\n",
            "+-----------------------------------------------------------+-------+\n",
            "\n"
          ]
        }
      ],
      "source": [
        "result.select(F.explode(F.arrays_zip('document.result', 'class.result')).alias(\"cols\")) \\\n",
        ".select(F.expr(\"cols['0']\").alias(\"document\"),\n",
        "        F.expr(\"cols['1']\").alias(\"class\")).show(truncate=False)"
      ]
    },
    {
      "cell_type": "code",
      "execution_count": null,
      "metadata": {
        "id": "o24k2CpLVwxE"
      },
      "outputs": [],
      "source": []
    }
  ],
  "metadata": {
    "colab": {
      "collapsed_sections": [],
      "name": "CLASSIFICATION_TR_CYBERBULLYING.ipynb",
      "provenance": []
    },
    "interpreter": {
      "hash": "60af5c81ffa00bed911704ff054405489da13f9503e86373e95cf9267d593cbf"
    },
    "kernelspec": {
      "display_name": "Python 3.6.10 64-bit ('tensorflow_p36': conda)",
      "name": "python3"
    },
    "language_info": {
      "codemirror_mode": {
        "name": "ipython",
        "version": 3
      },
      "file_extension": ".py",
      "mimetype": "text/x-python",
      "name": "python",
      "nbconvert_exporter": "python",
      "pygments_lexer": "ipython3",
      "version": "3.6.10"
    }
  },
  "nbformat": 4,
  "nbformat_minor": 0
}

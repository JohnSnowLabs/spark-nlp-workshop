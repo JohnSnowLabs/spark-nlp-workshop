{
  "cells": [
    {
      "cell_type": "markdown",
      "metadata": {
        "id": "TA21Jo5d9SVq"
      },
      "source": [
        "\n",
        "\n",
        "![JohnSnowLabs](https://nlp.johnsnowlabs.com/assets/images/logo.png)\n",
        "\n",
        "[![Open In Colab](https://colab.research.google.com/assets/colab-badge.svg)](https://githubtocolab.com/JohnSnowLabs/spark-nlp-workshop/blob/master/tutorials/streamlit_notebooks/DATE_MATCHER.ipynb)\n",
        "\n",
        "\n"
      ]
    },
    {
      "cell_type": "markdown",
      "metadata": {
        "id": "CzIdjHkAW8TB"
      },
      "source": [
        "# **Spark NLP Date Matcher**"
      ]
    },
    {
      "cell_type": "markdown",
      "metadata": {
        "id": "IPkP_ghy4Wj_"
      },
      "source": [
        "### Spark NLP documentation and instructions:\n",
        "https://nlp.johnsnowlabs.com/docs/en/quickstart\n",
        "\n",
        "### You can find details about Spark NLP annotators here:\n",
        "https://nlp.johnsnowlabs.com/docs/en/annotators\n",
        "\n",
        "### You can find details about Spark NLP models here:\n",
        "https://nlp.johnsnowlabs.com/models\n"
      ]
    },
    {
      "cell_type": "markdown",
      "metadata": {
        "id": "wIeCOiJNW-88"
      },
      "source": [
        "## 1. Colab Setup"
      ]
    },
    {
      "cell_type": "code",
      "execution_count": null,
      "metadata": {
        "colab": {
          "base_uri": "https://localhost:8080/"
        },
        "id": "CGJktFHdHL1n",
        "outputId": "8260c5e3-e454-4ec1-c98b-df563cf345ed"
      },
      "outputs": [],
      "source": [
        "# Install PySpark and Spark NLP\n",
        "! pip install -q pyspark==3.1.2 spark-nlp"
      ]
    },
    {
      "cell_type": "markdown",
      "metadata": {
        "id": "eCIT5VLxS3I1"
      },
      "source": [
        "## 2. Start the Spark session"
      ]
    },
    {
      "cell_type": "markdown",
      "metadata": {
        "id": "khjM-z9ORFU3"
      },
      "source": [
        "Import dependencies and start Spark session."
      ]
    },
    {
      "cell_type": "code",
      "execution_count": 7,
      "metadata": {
        "id": "sw-t1zxlHTB7"
      },
      "outputs": [],
      "source": [
        "import json\n",
        "import pandas as pd\n",
        "import numpy as np\n",
        "\n",
        "from pyspark.ml import Pipeline\n",
        "from pyspark.sql import SparkSession\n",
        "import pyspark.sql.functions as F\n",
        "from sparknlp.annotator import *\n",
        "from sparknlp.base import *\n",
        "import sparknlp\n",
        "from sparknlp.pretrained import PretrainedPipeline\n",
        "\n",
        "spark = sparknlp.start()"
      ]
    },
    {
      "cell_type": "markdown",
      "metadata": {
        "id": "D8E-vYDd1jT0"
      },
      "source": [
        "##3. Build Pipeline"
      ]
    },
    {
      "cell_type": "code",
      "execution_count": 8,
      "metadata": {
        "id": "gz_naMHK1ik2"
      },
      "outputs": [],
      "source": [
        "document_assembler = DocumentAssembler()\\\n",
        "    .setInputCol(\"text\")\\\n",
        "    .setOutputCol(\"document\")\n",
        "\n",
        "sentence_detector = SentenceDetector().setInputCols(\"document\")\\\n",
        "    .setOutputCol(\"sentence\")\n",
        "\n",
        "date_matcher = DateMatcher() \\\n",
        "    .setInputCols('sentence')\\\n",
        "    .setOutputCol(\"date\") \\\n",
        "    .setDateFormat(\"yyyy/MM/dd\")\n",
        "\n",
        "pipeline1= Pipeline(stages=[ document_assembler, \n",
        "                                 sentence_detector,\n",
        "                                 date_matcher,\n",
        "                                 ])\n",
        "\n",
        "empty_df = spark.createDataFrame([['']]).toDF(\"text\")\n",
        "\n",
        "date_pp = pipeline1.fit(empty_df)\n",
        "date_model = LightPipeline(date_pp)"
      ]
    },
    {
      "cell_type": "markdown",
      "metadata": {
        "id": "3wwbB08A1ocE"
      },
      "source": [
        "##4. Run & Visualize"
      ]
    },
    {
      "cell_type": "code",
      "execution_count": 9,
      "metadata": {
        "id": "3ID8yd871xaZ"
      },
      "outputs": [],
      "source": [
        "input_list = [\n",
        "    \"\"\"David visited the restaurant yesterday with his family. \n",
        "He also visited and the day before, but at that time he was alone.\n",
        "David again visited today with his colleagues.\n",
        "He and his friends really liked the food and hoped to visit again tomorrow.\"\"\",]"
      ]
    },
    {
      "cell_type": "code",
      "execution_count": 10,
      "metadata": {
        "colab": {
          "base_uri": "https://localhost:8080/"
        },
        "id": "J-0gsWLh1rfF",
        "outputId": "349f4d32-5df0-4417-c1e6-22f0039f0eb9"
      },
      "outputs": [
        {
          "name": "stdout",
          "output_type": "stream",
          "text": [
            "text/chunk yesterday | mapped_date: 2022/01/07\n",
            "text/chunk  day before | mapped_date: 2022/01/07\n",
            "text/chunk today | mapped_date: 2022/01/08\n",
            "text/chunk tomorrow | mapped_date: 2022/01/09\n"
          ]
        }
      ],
      "source": [
        "\n",
        "tres = date_model.fullAnnotate(input_list)[0]\n",
        "for dte in tres['date']:\n",
        "    sent = tres['sentence'][int(dte.metadata['sentence'])]\n",
        "    print (f'text/chunk {sent.result[dte.begin:dte.end+1]} | mapped_date: {dte.result}')"
      ]
    }
  ],
  "metadata": {
    "colab": {
      "collapsed_sections": [],
      "name": "DATE_MATCHER.ipynb",
      "provenance": [],
      "toc_visible": true
    },
    "interpreter": {
      "hash": "60af5c81ffa00bed911704ff054405489da13f9503e86373e95cf9267d593cbf"
    },
    "kernelspec": {
      "display_name": "Python 3.6.10 64-bit ('tensorflow_p36': conda)",
      "name": "python3"
    },
    "language_info": {
      "codemirror_mode": {
        "name": "ipython",
        "version": 3
      },
      "file_extension": ".py",
      "mimetype": "text/x-python",
      "name": "python",
      "nbconvert_exporter": "python",
      "pygments_lexer": "ipython3",
      "version": "3.6.10"
    }
  },
  "nbformat": 4,
  "nbformat_minor": 0
}

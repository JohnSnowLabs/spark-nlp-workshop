{
  "nbformat": 4,
  "nbformat_minor": 0,
  "metadata": {
    "kernelspec": {
      "display_name": "Environment (conda_tensorflow_p36)",
      "language": "python",
      "name": "conda_tensorflow_p36"
    },
    "language_info": {
      "codemirror_mode": {
        "name": "ipython",
        "version": 3
      },
      "file_extension": ".py",
      "mimetype": "text/x-python",
      "name": "python",
      "nbconvert_exporter": "python",
      "pygments_lexer": "ipython3",
      "version": "3.6.10"
    },
    "colab": {
      "name": "NER_TR.ipynb",
      "provenance": []
    }
  },
  "cells": [
    {
      "cell_type": "markdown",
      "metadata": {
        "id": "tpHEo2r-pDFj"
      },
      "source": [
        "\n",
        "\n",
        "![JohnSnowLabs](https://nlp.johnsnowlabs.com/assets/images/logo.png)\n",
        "\n",
        "[![Open In Colab](https://colab.research.google.com/assets/colab-badge.svg)](https://githubtocolab.com/JohnSnowLabs/spark-nlp-workshop/blob/master/tutorials/streamlit_notebooks/NER_TR.ipynb)"
      ]
    },
    {
      "cell_type": "markdown",
      "metadata": {
        "id": "UCJHkUupDnCW"
      },
      "source": [
        "# **Detect entities in Turkish text**"
      ]
    },
    {
      "cell_type": "markdown",
      "metadata": {
        "id": "x1LR2yPQDnCu"
      },
      "source": [
        "## 1. Colab Setup, loading necassary libraries"
      ]
    },
    {
      "cell_type": "code",
      "metadata": {
        "colab": {
          "base_uri": "https://localhost:8080/",
          "height": 1000
        },
        "id": "zNnGtqYEDnDA",
        "outputId": "30ddd0c8-9c31-4fde-f826-d590d49a53f3"
      },
      "source": [
        "!wget http://setup.johnsnowlabs.com/colab.sh -O - | bash\n",
        "# !bash colab.sh\n",
        "# -p is for pyspark\n",
        "# -s is for spark-nlp\n",
        "# !bash colab.sh -p 3.1.1 -s 3.0.1\n",
        "# by default they are set to the latest\n",
        "\n",
        "# Install Spark NLP Display for visualization\n",
        "!pip install --ignore-installed spark-nlp-display"
      ],
      "execution_count": 1,
      "outputs": [
        {
          "output_type": "stream",
          "text": [
            "openjdk version \"11.0.10\" 2021-01-19\n",
            "OpenJDK Runtime Environment (build 11.0.10+9-Ubuntu-0ubuntu1.18.04)\n",
            "OpenJDK 64-Bit Server VM (build 11.0.10+9-Ubuntu-0ubuntu1.18.04, mixed mode, sharing)\n",
            "--2021-04-05 10:16:28--  http://setup.johnsnowlabs.com/colab.sh\n",
            "Resolving setup.johnsnowlabs.com (setup.johnsnowlabs.com)... 51.158.130.26\n",
            "Connecting to setup.johnsnowlabs.com (setup.johnsnowlabs.com)|51.158.130.26|:80... connected.\n",
            "HTTP request sent, awaiting response... 302 Moved Temporarily\n",
            "Location: https://raw.githubusercontent.com/JohnSnowLabs/spark-nlp/master/scripts/colab_setup.sh [following]\n",
            "--2021-04-05 10:16:29--  https://raw.githubusercontent.com/JohnSnowLabs/spark-nlp/master/scripts/colab_setup.sh\n",
            "Resolving raw.githubusercontent.com (raw.githubusercontent.com)... 185.199.110.133, 185.199.109.133, 185.199.108.133, ...\n",
            "Connecting to raw.githubusercontent.com (raw.githubusercontent.com)|185.199.110.133|:443... connected.\n",
            "HTTP request sent, awaiting response... 200 OK\n",
            "Length: 1593 (1.6K) [text/plain]\n",
            "Saving to: ‘STDOUT’\n",
            "\n",
            "setup Colab for PySpark 3.1.1 and Spark NLP 3.0.1\n",
            "-                   100%[===================>]   1.56K  --.-KB/s    in 0s      \n",
            "\n",
            "2021-04-05 10:16:29 (52.7 MB/s) - written to stdout [1593/1593]\n",
            "\n",
            "\u001b[K     |████████████████████████████████| 212.3MB 71kB/s \n",
            "\u001b[K     |████████████████████████████████| 153kB 47.4MB/s \n",
            "\u001b[K     |████████████████████████████████| 204kB 21.9MB/s \n",
            "\u001b[?25h  Building wheel for pyspark (setup.py) ... \u001b[?25l\u001b[?25hdone\n",
            "bash: colab.sh: No such file or directory\n",
            "Collecting spark-nlp-display\n",
            "\u001b[?25l  Downloading https://files.pythonhosted.org/packages/cf/6a/e822cccbbc480e7140128836fda52bf56d131adc4f7f83ee1dd71afe7797/spark_nlp_display-1.5-py3-none-any.whl (94kB)\n",
            "\u001b[K     |████████████████████████████████| 102kB 5.2MB/s \n",
            "\u001b[?25hCollecting spark-nlp\n",
            "  Using cached https://files.pythonhosted.org/packages/e5/31/6e0f5cff049aa1f5b9bf06754001d9986211b45ca9165938adc8bed2fdf6/spark_nlp-3.0.1-py2.py3-none-any.whl\n",
            "Collecting ipython\n",
            "\u001b[?25l  Downloading https://files.pythonhosted.org/packages/c9/b1/82cbe2b856386f44f37fdae54d9b425813bd86fe33385c9d658d64826098/ipython-7.22.0-py3-none-any.whl (785kB)\n",
            "\u001b[K     |████████████████████████████████| 788kB 13.1MB/s \n",
            "\u001b[?25hCollecting svgwrite==1.4\n",
            "\u001b[?25l  Downloading https://files.pythonhosted.org/packages/1c/85/1dc25b36c3ac4f3fe285d33065fc0f2ea7bdfb9209d6369e01a3e8ef6252/svgwrite-1.4-py3-none-any.whl (66kB)\n",
            "\u001b[K     |████████████████████████████████| 71kB 8.1MB/s \n",
            "\u001b[?25hCollecting pandas\n",
            "\u001b[?25l  Downloading https://files.pythonhosted.org/packages/f3/d4/3fe3b5bf9886912b64ef040040aec356fa48825e5a829a84c2667afdf952/pandas-1.2.3-cp37-cp37m-manylinux1_x86_64.whl (9.9MB)\n",
            "\u001b[K     |████████████████████████████████| 9.9MB 13.1MB/s \n",
            "\u001b[33mWARNING: Retrying (Retry(total=4, connect=None, read=None, redirect=None, status=None)) after connection broken by 'ProtocolError('Connection aborted.', ConnectionResetError(104, 'Connection reset by peer'))': /simple/numpy/\u001b[0m\n",
            "\u001b[?25hCollecting numpy\n",
            "\u001b[33m  WARNING: Retrying (Retry(total=4, connect=None, read=None, redirect=None, status=None)) after connection broken by 'ProtocolError('Connection aborted.', ConnectionResetError(104, 'Connection reset by peer'))': /packages/73/ef/8967d406f3f85018ceb5efab50431e901683188f1741ceb053efcab26c87/numpy-1.20.2-cp37-cp37m-manylinux2010_x86_64.whl\u001b[0m\n",
            "\u001b[?25l  Downloading https://files.pythonhosted.org/packages/73/ef/8967d406f3f85018ceb5efab50431e901683188f1741ceb053efcab26c87/numpy-1.20.2-cp37-cp37m-manylinux2010_x86_64.whl (15.3MB)\n",
            "\u001b[K     |████████████████████████████████| 15.3MB 334kB/s \n",
            "\u001b[?25hCollecting decorator\n",
            "  Downloading https://files.pythonhosted.org/packages/3e/c4/80311bb66f2a772e9e9d76c54933d0fdbf3202ad194c6282b4c8687ddb32/decorator-5.0.5-py3-none-any.whl\n",
            "Collecting pickleshare\n",
            "  Downloading https://files.pythonhosted.org/packages/9a/41/220f49aaea88bc6fa6cba8d05ecf24676326156c23b991e80b3f2fc24c77/pickleshare-0.7.5-py2.py3-none-any.whl\n",
            "Collecting backcall\n",
            "  Downloading https://files.pythonhosted.org/packages/4c/1c/ff6546b6c12603d8dd1070aa3c3d273ad4c07f5771689a7b69a550e8c951/backcall-0.2.0-py2.py3-none-any.whl\n",
            "Collecting prompt-toolkit!=3.0.0,!=3.0.1,<3.1.0,>=2.0.0\n",
            "\u001b[?25l  Downloading https://files.pythonhosted.org/packages/eb/e6/4b4ca4fa94462d4560ba2f4e62e62108ab07be2e16a92e594e43b12d3300/prompt_toolkit-3.0.18-py3-none-any.whl (367kB)\n",
            "\u001b[K     |████████████████████████████████| 368kB 49.9MB/s \n",
            "\u001b[?25hCollecting setuptools>=18.5\n",
            "\u001b[?25l  Downloading https://files.pythonhosted.org/packages/9e/d4/b99a960314121a003e9f39c61dfde01a1010bb47661e193a7722f7f32d52/setuptools-54.2.0-py3-none-any.whl (785kB)\n",
            "\u001b[K     |████████████████████████████████| 788kB 50.2MB/s \n",
            "\u001b[?25hCollecting traitlets>=4.2\n",
            "\u001b[?25l  Downloading https://files.pythonhosted.org/packages/f6/7d/3ecb0ebd0ce8dcdfa7bd47ab85c1d4a521e6770ef283d0824f5804994dfe/traitlets-5.0.5-py3-none-any.whl (100kB)\n",
            "\u001b[K     |████████████████████████████████| 102kB 11.0MB/s \n",
            "\u001b[?25hCollecting pexpect>4.3; sys_platform != \"win32\"\n",
            "\u001b[?25l  Downloading https://files.pythonhosted.org/packages/39/7b/88dbb785881c28a102619d46423cb853b46dbccc70d3ac362d99773a78ce/pexpect-4.8.0-py2.py3-none-any.whl (59kB)\n",
            "\u001b[K     |████████████████████████████████| 61kB 7.5MB/s \n",
            "\u001b[?25hCollecting pygments\n",
            "\u001b[?25l  Downloading https://files.pythonhosted.org/packages/3a/80/a52c0a7c5939737c6dca75a831e89658ecb6f590fb7752ac777d221937b9/Pygments-2.8.1-py3-none-any.whl (983kB)\n",
            "\u001b[K     |████████████████████████████████| 993kB 41.0MB/s \n",
            "\u001b[?25hCollecting jedi>=0.16\n",
            "\u001b[?25l  Downloading https://files.pythonhosted.org/packages/f9/36/7aa67ae2663025b49e8426ead0bad983fee1b73f472536e9790655da0277/jedi-0.18.0-py2.py3-none-any.whl (1.4MB)\n",
            "\u001b[K     |████████████████████████████████| 1.4MB 35.9MB/s \n",
            "\u001b[?25hCollecting pytz>=2017.3\n",
            "\u001b[?25l  Downloading https://files.pythonhosted.org/packages/70/94/784178ca5dd892a98f113cdd923372024dc04b8d40abe77ca76b5fb90ca6/pytz-2021.1-py2.py3-none-any.whl (510kB)\n",
            "\u001b[K     |████████████████████████████████| 512kB 34.2MB/s \n",
            "\u001b[?25hCollecting python-dateutil>=2.7.3\n",
            "\u001b[?25l  Downloading https://files.pythonhosted.org/packages/d4/70/d60450c3dd48ef87586924207ae8907090de0b306af2bce5d134d78615cb/python_dateutil-2.8.1-py2.py3-none-any.whl (227kB)\n",
            "\u001b[K     |████████████████████████████████| 235kB 54.5MB/s \n",
            "\u001b[?25hCollecting wcwidth\n",
            "  Downloading https://files.pythonhosted.org/packages/59/7c/e39aca596badaf1b78e8f547c807b04dae603a433d3e7a7e04d67f2ef3e5/wcwidth-0.2.5-py2.py3-none-any.whl\n",
            "Collecting ipython-genutils\n",
            "  Downloading https://files.pythonhosted.org/packages/fa/bc/9bd3b5c2b4774d5f33b2d544f1460be9df7df2fe42f352135381c347c69a/ipython_genutils-0.2.0-py2.py3-none-any.whl\n",
            "Collecting ptyprocess>=0.5\n",
            "  Downloading https://files.pythonhosted.org/packages/22/a6/858897256d0deac81a172289110f31629fc4cee19b6f01283303e18c8db3/ptyprocess-0.7.0-py2.py3-none-any.whl\n",
            "Collecting parso<0.9.0,>=0.8.0\n",
            "\u001b[?25l  Downloading https://files.pythonhosted.org/packages/a9/c4/d5476373088c120ffed82f34c74b266ccae31a68d665b837354d4d8dc8be/parso-0.8.2-py2.py3-none-any.whl (94kB)\n",
            "\u001b[K     |████████████████████████████████| 102kB 11.0MB/s \n",
            "\u001b[?25hCollecting six>=1.5\n",
            "  Downloading https://files.pythonhosted.org/packages/ee/ff/48bde5c0f013094d729fe4b0316ba2a24774b3ff1c52d924a8a4cb04078a/six-1.15.0-py2.py3-none-any.whl\n",
            "\u001b[31mERROR: tensorflow 2.4.1 has requirement numpy~=1.19.2, but you'll have numpy 1.20.2 which is incompatible.\u001b[0m\n",
            "\u001b[31mERROR: nbclient 0.5.3 has requirement jupyter-client>=6.1.5, but you'll have jupyter-client 5.3.5 which is incompatible.\u001b[0m\n",
            "\u001b[31mERROR: moviepy 0.2.3.5 has requirement decorator<5.0,>=4.0.2, but you'll have decorator 5.0.5 which is incompatible.\u001b[0m\n",
            "\u001b[31mERROR: jupyter-console 5.2.0 has requirement prompt-toolkit<2.0.0,>=1.0.0, but you'll have prompt-toolkit 3.0.18 which is incompatible.\u001b[0m\n",
            "\u001b[31mERROR: google-colab 1.0.0 has requirement ipython~=5.5.0, but you'll have ipython 7.22.0 which is incompatible.\u001b[0m\n",
            "\u001b[31mERROR: google-colab 1.0.0 has requirement pandas~=1.1.0; python_version >= \"3.0\", but you'll have pandas 1.2.3 which is incompatible.\u001b[0m\n",
            "\u001b[31mERROR: datascience 0.10.6 has requirement folium==0.2.1, but you'll have folium 0.8.3 which is incompatible.\u001b[0m\n",
            "\u001b[31mERROR: albumentations 0.1.12 has requirement imgaug<0.2.7,>=0.2.5, but you'll have imgaug 0.2.9 which is incompatible.\u001b[0m\n",
            "Installing collected packages: spark-nlp, decorator, pickleshare, backcall, wcwidth, prompt-toolkit, setuptools, ipython-genutils, traitlets, ptyprocess, pexpect, pygments, parso, jedi, ipython, svgwrite, numpy, pytz, six, python-dateutil, pandas, spark-nlp-display\n",
            "Successfully installed backcall-0.2.0 decorator-5.0.5 ipython-7.22.0 ipython-genutils-0.2.0 jedi-0.18.0 numpy-1.20.2 pandas-1.2.3 parso-0.8.2 pexpect-4.8.0 pickleshare-0.7.5 prompt-toolkit-3.0.18 ptyprocess-0.7.0 pygments-2.8.1 python-dateutil-2.8.1 pytz-2021.1 setuptools-54.2.0 six-1.15.0 spark-nlp-3.0.1 spark-nlp-display-1.5 svgwrite-1.4 traitlets-5.0.5 wcwidth-0.2.5\n"
          ],
          "name": "stdout"
        },
        {
          "output_type": "display_data",
          "data": {
            "application/vnd.colab-display-data+json": {
              "pip_warning": {
                "packages": [
                  "IPython",
                  "dateutil",
                  "decorator",
                  "ipython_genutils",
                  "numpy",
                  "pandas",
                  "pexpect",
                  "pickleshare",
                  "pkg_resources",
                  "prompt_toolkit",
                  "pygments",
                  "pytz",
                  "six",
                  "traitlets",
                  "wcwidth"
                ]
              }
            }
          },
          "metadata": {
            "tags": []
          }
        }
      ]
    },
    {
      "cell_type": "code",
      "metadata": {
        "id": "n2ngnJnGDnDS"
      },
      "source": [
        "import pandas as pd\n",
        "import numpy as np\n",
        "import json\n",
        "from pyspark.ml import Pipeline\n",
        "from pyspark.sql import SparkSession\n",
        "import pyspark.sql.functions as F\n",
        "from sparknlp.annotator import *\n",
        "from sparknlp.base import *\n",
        "import sparknlp\n",
        "from sparknlp.pretrained import PretrainedPipeline"
      ],
      "execution_count": 2,
      "outputs": []
    },
    {
      "cell_type": "markdown",
      "metadata": {
        "id": "lWXAONEyDnDX"
      },
      "source": [
        "## 2. Start the Spark session"
      ]
    },
    {
      "cell_type": "code",
      "metadata": {
        "id": "Evf8XX8YDnDa"
      },
      "source": [
        "spark = sparknlp.start()"
      ],
      "execution_count": 3,
      "outputs": []
    },
    {
      "cell_type": "code",
      "metadata": {
        "colab": {
          "base_uri": "https://localhost:8080/",
          "height": 36
        },
        "id": "8RJdL0TrDnDe",
        "outputId": "5a67d5c4-630d-48e3-b81d-387a9c0f710f"
      },
      "source": [
        "spark.version"
      ],
      "execution_count": 4,
      "outputs": [
        {
          "output_type": "execute_result",
          "data": {
            "application/vnd.google.colaboratory.intrinsic+json": {
              "type": "string"
            },
            "text/plain": [
              "'3.1.1'"
            ]
          },
          "metadata": {
            "tags": []
          },
          "execution_count": 4
        }
      ]
    },
    {
      "cell_type": "markdown",
      "metadata": {
        "id": "7-YcXfW3DnDh"
      },
      "source": [
        "## 3. Select the DL model"
      ]
    },
    {
      "cell_type": "code",
      "metadata": {
        "id": "pB6OYZlFDnDi"
      },
      "source": [
        "# If you change the model, re-run all the cells below.\n",
        "# Applicable embedding models: \"glove_840B_300\" and \"bert_multi_cased\"\n",
        "\n",
        "# MODEL_NAME = 'turkish_ner_840B_300'\n",
        "MODEL_NAME = 'turkish_ner_bert'"
      ],
      "execution_count": 5,
      "outputs": []
    },
    {
      "cell_type": "markdown",
      "metadata": {
        "id": "E8AdJZT1DnDj"
      },
      "source": [
        "## 4. Some sample examples"
      ]
    },
    {
      "cell_type": "code",
      "metadata": {
        "id": "CcSiNZJXDnDm"
      },
      "source": [
        "# Enter examples to be transformed as strings in this list\n",
        "\n",
        "text_list = [\"\"\"William Henry Gates III (28 Ekim 1955 doğumlu), Amerikalı bir iş adamı, \\\n",
        "yazılım geliştirici, yatırımcı ve hayırseverdir. En çok Microsoft şirketinin kurucu \\\n",
        "ortağı olarak bilinir. William Gates , Microsoft şirketindeki kariyeri boyunca başkan, \\\n",
        "icra kurulu başkanı, başkan ve yazılım mimarisi başkanı pozisyonlarında bulunmuş, \\\n",
        "aynı zamanda Mayıs 2014'e kadar en büyük bireysel hissedar olmuştur. O, 1970'lerin \\\n",
        "ve 1980'lerin mikrobilgisayar devriminin en tanınmış girişimcilerinden ve öncülerinden biridir. \\\n",
        "Seattle Washington'da doğup büyüyen William Gates, 1975'te New Mexico Albuquerque'de \\\n",
        "çocukluk arkadaşı Paul Allen ile Microsoft şirketini kurdu; dünyanın en büyük kişisel \\\n",
        "bilgisayar yazılım şirketi haline geldi. William Gates, Ocak 2000'de icra kurulu başkanı \\\n",
        "olarak istifa edene kadar şirketi başkan ve icra kurulu başkanı olarak yönetti ve \\\n",
        "daha sonra yazılım mimarisi başkanı oldu. 1990'ların sonlarında, William Gates rekabete \\\n",
        "aykırı olduğu düşünülen iş taktikleri nedeniyle eleştirilmişti. Bu görüş, çok sayıda \\\n",
        "mahkeme kararıyla onaylanmıştır. Haziran 2006'da William Gates, Microsoft şirketinde \\\n",
        "yarı zamanlı bir göreve ve 2000 yılında eşi Melinda Gates ile birlikte kurdukları özel \\\n",
        "hayır kurumu olan B&Melinda G. Vakfı'nda tam zamanlı çalışmaya geçeceğini duyurdu. \\\n",
        "Görevlerini kademeli olarak Ray Ozzie ve Craig Mundie'ye devretti. Şubat 2014'te \\\n",
        "Microsoft başkanlığından ayrıldı ve yeni atanan icra kurulu başkanı, Satya Nadella'yı \\\n",
        "desteklemek için teknoloji danışmanı olarak yeni bir göreve başladı.\"\"\",\n",
        "    \n",
        "\"Mona Lisa, Leonardo tarafından yaratılan 16. yüzyıldan kalma bir yağlı boya tablodur. \\\n",
        "Tablo, Paris'teki Louvre Müzesi'nde sergileniyor.\",\n",
        "             \n",
        "\"\"\"Facebook, 4 Şubat 2004 tarihinde TheFacebook adıyla başlatılan bir sosyal ağ hizmetidir. \\\n",
        "Mark Zuckerberg tarafından üniversite oda arkadaşları ve Harvard Üniversitesi öğrencileri \\\n",
        "Eduardo Saverin, Andrew McCollum, Dustin Moskovitz ve Chris Hughes ile birlikte kurulmuştur. \\\n",
        "Web sitesinin üyeliği başlangıçta kurucular tarafından Harvard öğrencileriyle sınırlıydı, ancak \\\n",
        "Boston bölgesindeki diğer kolejlere, Ivy-Ligine ve kademeli olarak ABD ve Kanada'daki çoğu üniversiteye genişletildi.\"\"\",\n",
        "            \n",
        "\"\"\"Geoffrey Everest Hinton, çoğu yapay sinir ağları üzerine yaptığı çalışmalarla tanınan \\\n",
        "İngiliz Kanadalı bir bilişsel psikolog ve bilgisayar bilimcisidir. 2013'ten beri zamanını \\\n",
        "Google ve Toronto Üniversitesi için ikiye ayırıyor. 2017 yılında, Toronto'da bulunan \\\n",
        "V. Enstitüsü'nün kurucu ortağı ve Bilimsel Konular Başdanışmanı oldu.\"\"\",\n",
        "             \n",
        "\"\"\"John Snow'a, Alaska'ya taşınmak istediğimi söylediğimde, orada bir Starbucks \\\n",
        "Cafe firması bulmakta zorlanacağım konusunda beni uyardı.\"\"\"\n",
        "            ]"
      ],
      "execution_count": 6,
      "outputs": []
    },
    {
      "cell_type": "markdown",
      "metadata": {
        "id": "Ea6bLOFpDnDr"
      },
      "source": [
        "## 5. Define Spark NLP pipeline"
      ]
    },
    {
      "cell_type": "code",
      "metadata": {
        "colab": {
          "base_uri": "https://localhost:8080/"
        },
        "id": "fr0VJ4ePDnDs",
        "outputId": "ab84cbba-7f35-480f-b0a3-4808d06a2578"
      },
      "source": [
        "documentAssembler = DocumentAssembler()\\\n",
        "    .setInputCol(\"text\")\\\n",
        "    .setOutputCol(\"document\")\n",
        "\n",
        "sentenceDetector = SentenceDetector()\\\n",
        "  .setInputCols([\"document\"])\\\n",
        "  .setOutputCol(\"sentence\")\n",
        "\n",
        "tokenizer = Tokenizer()\\\n",
        "  .setInputCols([\"sentence\"])\\\n",
        "  .setOutputCol(\"token\")\n",
        "\n",
        "embeddings = None\n",
        "public_ner = None\n",
        "\n",
        "if MODEL_NAME == 'turkish_ner_840B_300' :\n",
        "    embeddings = WordEmbeddingsModel.pretrained('glove_840B_300', \"xx\").\\\n",
        "                    setInputCols([\"sentence\", 'token']).\\\n",
        "                    setOutputCol(\"embeddings\").\\\n",
        "                    setCaseSensitive(True)\n",
        "\n",
        "    public_ner = NerDLModel.pretrained('turkish_ner_840B_300', 'tr') \\\n",
        "              .setInputCols([\"sentence\", \"token\", \"embeddings\"]) \\\n",
        "              .setOutputCol(\"ner\")\n",
        "    \n",
        "elif MODEL_NAME == 'turkish_ner_bert' :\n",
        "    embeddings = BertEmbeddings.pretrained('bert_multi_cased', 'xx') \\\n",
        "        .setInputCols([\"sentence\", \"token\"])\\\n",
        "        .setOutputCol(\"embeddings\")\n",
        "\n",
        "    public_ner = NerDLModel.pretrained('turkish_ner_bert', 'tr') \\\n",
        "              .setInputCols([\"sentence\", \"token\", \"embeddings\"]) \\\n",
        "              .setOutputCol(\"ner\")\n",
        "\n",
        "ner_converter = NerConverter() \\\n",
        "                .setInputCols([\"sentence\", \"token\", \"ner\"]) \\\n",
        "                  .setOutputCol(\"ner_chunk\")\n",
        "\n",
        "nlp_pipeline = Pipeline(stages=[ documentAssembler, sentenceDetector,\n",
        "                                 tokenizer,\n",
        "                                 embeddings,\n",
        "                                 public_ner,\n",
        "                                 ner_converter\n",
        "                                 ])"
      ],
      "execution_count": 7,
      "outputs": [
        {
          "output_type": "stream",
          "text": [
            "bert_multi_cased download started this may take some time.\n",
            "Approximate size to download 638.6 MB\n",
            "[OK!]\n",
            "turkish_ner_bert download started this may take some time.\n",
            "Approximate size to download 15.5 MB\n",
            "[OK!]\n"
          ],
          "name": "stdout"
        }
      ]
    },
    {
      "cell_type": "markdown",
      "metadata": {
        "id": "cpjQmee7DnDu"
      },
      "source": [
        "## 6. Run the pipeline"
      ]
    },
    {
      "cell_type": "code",
      "metadata": {
        "id": "Q4tpiJcgDnDv"
      },
      "source": [
        "empty_df = spark.createDataFrame([['']]).toDF('text')\n",
        "pipeline_model = nlp_pipeline.fit(empty_df)\n",
        "df = spark.createDataFrame(pd.DataFrame({'text': text_list}))\n",
        "result = pipeline_model.transform(df)"
      ],
      "execution_count": 8,
      "outputs": []
    },
    {
      "cell_type": "code",
      "metadata": {
        "colab": {
          "base_uri": "https://localhost:8080/",
          "height": 420
        },
        "id": "WftfXdM4DnDw",
        "outputId": "7a6c5f2a-667a-433b-d73b-7f213bf0a238"
      },
      "source": [
        "from sparknlp_display import NerVisualizer\n",
        "\n",
        "NerVisualizer().display(\n",
        "    result = result.collect()[0],\n",
        "    label_col = 'ner_chunk',\n",
        "    document_col = 'document'\n",
        ")"
      ],
      "execution_count": 9,
      "outputs": [
        {
          "output_type": "display_data",
          "data": {
            "text/html": [
              "\n",
              "<style>\n",
              "    @import url('https://fonts.googleapis.com/css2?family=Montserrat:wght@300;400;500;600;700&display=swap');\n",
              "    @import url('https://fonts.googleapis.com/css2?family=Vistol Regular:wght@300;400;500;600;700&display=swap');\n",
              "    \n",
              "    .spark-nlp-display-scroll-entities {\n",
              "        border: 1px solid #E7EDF0;\n",
              "        border-radius: 3px;\n",
              "        text-align: justify;\n",
              "        \n",
              "    }\n",
              "    .spark-nlp-display-scroll-entities span {  \n",
              "        font-size: 14px;\n",
              "        line-height: 24px;\n",
              "        color: #536B76;\n",
              "        font-family: 'Montserrat', sans-serif !important;\n",
              "    }\n",
              "    \n",
              "    .spark-nlp-display-entity-wrapper{\n",
              "    \n",
              "        display: inline-grid;\n",
              "        text-align: center;\n",
              "        border-radius: 4px;\n",
              "        margin: 0 2px 5px 2px;\n",
              "        padding: 1px\n",
              "    }\n",
              "    .spark-nlp-display-entity-name{\n",
              "        font-size: 14px;\n",
              "        line-height: 24px;\n",
              "        font-family: 'Montserrat', sans-serif !important;\n",
              "        \n",
              "        background: #f1f2f3;\n",
              "        border-width: medium;\n",
              "        text-align: center;\n",
              "        \n",
              "        font-weight: 400;\n",
              "        \n",
              "        border-radius: 5px;\n",
              "        padding: 2px 5px;\n",
              "        display: block;\n",
              "        margin: 3px 2px;\n",
              "    \n",
              "    }\n",
              "    .spark-nlp-display-entity-type{\n",
              "        font-size: 14px;\n",
              "        line-height: 24px;\n",
              "        color: #ffffff;\n",
              "        font-family: 'Montserrat', sans-serif !important;\n",
              "        \n",
              "        text-transform: uppercase;\n",
              "        \n",
              "        font-weight: 500;\n",
              "\n",
              "        display: block;\n",
              "        padding: 3px 5px;\n",
              "    }\n",
              "    \n",
              "    .spark-nlp-display-entity-resolution{\n",
              "        font-size: 14px;\n",
              "        line-height: 24px;\n",
              "        color: #ffffff;\n",
              "        font-family: 'Vistol Regular', sans-serif !important;\n",
              "        \n",
              "        text-transform: uppercase;\n",
              "        \n",
              "        font-weight: 500;\n",
              "\n",
              "        display: block;\n",
              "        padding: 3px 5px;\n",
              "    }\n",
              "    \n",
              "    .spark-nlp-display-others{\n",
              "        font-size: 14px;\n",
              "        line-height: 24px;\n",
              "        font-family: 'Montserrat', sans-serif !important;\n",
              "        \n",
              "        font-weight: 400;\n",
              "    }\n",
              "\n",
              "</style>\n",
              " <span class=\"spark-nlp-display-entity-wrapper\" style=\"background-color: #9F2A4C\"><span class=\"spark-nlp-display-entity-name\">William Henry Gates III </span><span class=\"spark-nlp-display-entity-type\">PER</span></span><span class=\"spark-nlp-display-others\" style=\"background-color: white\"> (28 Ekim 1955 doğumlu), Amerikalı bir iş adamı, yazılım geliştirici, yatırımcı ve hayırseverdir. En çok </span><span class=\"spark-nlp-display-entity-wrapper\" style=\"background-color: #348393\"><span class=\"spark-nlp-display-entity-name\">Microsoft </span><span class=\"spark-nlp-display-entity-type\">ORG</span></span><span class=\"spark-nlp-display-others\" style=\"background-color: white\"> şirketinin kurucu ortağı olarak bilinir. </span><span class=\"spark-nlp-display-entity-wrapper\" style=\"background-color: #9F2A4C\"><span class=\"spark-nlp-display-entity-name\">William Gates </span><span class=\"spark-nlp-display-entity-type\">PER</span></span><span class=\"spark-nlp-display-others\" style=\"background-color: white\"> , </span><span class=\"spark-nlp-display-entity-wrapper\" style=\"background-color: #348393\"><span class=\"spark-nlp-display-entity-name\">Microsoft </span><span class=\"spark-nlp-display-entity-type\">ORG</span></span><span class=\"spark-nlp-display-others\" style=\"background-color: white\"> şirketindeki kariyeri boyunca başkan, icra kurulu başkanı, başkan ve yazılım mimarisi başkanı pozisyonlarında bulunmuş, aynı zamanda Mayıs 2014'e kadar en büyük bireysel hissedar olmuştur. O, 1970'lerin ve 1980'lerin mikrobilgisayar devriminin en tanınmış girişimcilerinden ve öncülerinden biridir. </span><span class=\"spark-nlp-display-entity-wrapper\" style=\"background-color: #C3587C\"><span class=\"spark-nlp-display-entity-name\">Seattle Washington'da </span><span class=\"spark-nlp-display-entity-type\">LOC</span></span><span class=\"spark-nlp-display-others\" style=\"background-color: white\"> doğup büyüyen </span><span class=\"spark-nlp-display-entity-wrapper\" style=\"background-color: #9F2A4C\"><span class=\"spark-nlp-display-entity-name\">William Gates </span><span class=\"spark-nlp-display-entity-type\">PER</span></span><span class=\"spark-nlp-display-others\" style=\"background-color: white\">, 1975'te </span><span class=\"spark-nlp-display-entity-wrapper\" style=\"background-color: #C3587C\"><span class=\"spark-nlp-display-entity-name\">New Mexico Albuquerque'de </span><span class=\"spark-nlp-display-entity-type\">LOC</span></span><span class=\"spark-nlp-display-others\" style=\"background-color: white\"> çocukluk arkadaşı </span><span class=\"spark-nlp-display-entity-wrapper\" style=\"background-color: #9F2A4C\"><span class=\"spark-nlp-display-entity-name\">Paul Allen </span><span class=\"spark-nlp-display-entity-type\">PER</span></span><span class=\"spark-nlp-display-others\" style=\"background-color: white\"> ile </span><span class=\"spark-nlp-display-entity-wrapper\" style=\"background-color: #348393\"><span class=\"spark-nlp-display-entity-name\">Microsoft </span><span class=\"spark-nlp-display-entity-type\">ORG</span></span><span class=\"spark-nlp-display-others\" style=\"background-color: white\"> şirketini kurdu; dünyanın en büyük kişisel bilgisayar yazılım şirketi haline geldi. </span><span class=\"spark-nlp-display-entity-wrapper\" style=\"background-color: #9F2A4C\"><span class=\"spark-nlp-display-entity-name\">William Gates </span><span class=\"spark-nlp-display-entity-type\">PER</span></span><span class=\"spark-nlp-display-others\" style=\"background-color: white\">, Ocak 2000'de icra kurulu başkanı olarak istifa edene kadar şirketi başkan ve icra kurulu başkanı olarak yönetti ve daha sonra yazılım mimarisi başkanı oldu. 1990'ların sonlarında, </span><span class=\"spark-nlp-display-entity-wrapper\" style=\"background-color: #9F2A4C\"><span class=\"spark-nlp-display-entity-name\">William Gates </span><span class=\"spark-nlp-display-entity-type\">PER</span></span><span class=\"spark-nlp-display-others\" style=\"background-color: white\"> rekabete aykırı olduğu düşünülen iş taktikleri nedeniyle eleştirilmişti. Bu görüş, çok sayıda mahkeme kararıyla onaylanmıştır. Haziran 2006'da </span><span class=\"spark-nlp-display-entity-wrapper\" style=\"background-color: #9F2A4C\"><span class=\"spark-nlp-display-entity-name\">William Gates </span><span class=\"spark-nlp-display-entity-type\">PER</span></span><span class=\"spark-nlp-display-others\" style=\"background-color: white\">, </span><span class=\"spark-nlp-display-entity-wrapper\" style=\"background-color: #348393\"><span class=\"spark-nlp-display-entity-name\">Microsoft </span><span class=\"spark-nlp-display-entity-type\">ORG</span></span><span class=\"spark-nlp-display-others\" style=\"background-color: white\"> şirketinde yarı zamanlı bir göreve ve 2000 yılında eşi </span><span class=\"spark-nlp-display-entity-wrapper\" style=\"background-color: #9F2A4C\"><span class=\"spark-nlp-display-entity-name\">Melinda Gates </span><span class=\"spark-nlp-display-entity-type\">PER</span></span><span class=\"spark-nlp-display-others\" style=\"background-color: white\"> ile birlikte kurdukları özel hayır kurumu olan </span><span class=\"spark-nlp-display-entity-wrapper\" style=\"background-color: #348393\"><span class=\"spark-nlp-display-entity-name\">B&Melinda G. Vakfı'nda </span><span class=\"spark-nlp-display-entity-type\">ORG</span></span><span class=\"spark-nlp-display-others\" style=\"background-color: white\"> tam zamanlı çalışmaya geçeceğini duyurdu. Görevlerini kademeli olarak </span><span class=\"spark-nlp-display-entity-wrapper\" style=\"background-color: #9F2A4C\"><span class=\"spark-nlp-display-entity-name\">Ray Ozzie </span><span class=\"spark-nlp-display-entity-type\">PER</span></span><span class=\"spark-nlp-display-others\" style=\"background-color: white\"> ve </span><span class=\"spark-nlp-display-entity-wrapper\" style=\"background-color: #9F2A4C\"><span class=\"spark-nlp-display-entity-name\">Craig Mundie'ye </span><span class=\"spark-nlp-display-entity-type\">PER</span></span><span class=\"spark-nlp-display-others\" style=\"background-color: white\"> devretti. Şubat 2014'te </span><span class=\"spark-nlp-display-entity-wrapper\" style=\"background-color: #348393\"><span class=\"spark-nlp-display-entity-name\">Microsoft </span><span class=\"spark-nlp-display-entity-type\">ORG</span></span><span class=\"spark-nlp-display-others\" style=\"background-color: white\"> başkanlığından ayrıldı ve yeni atanan icra kurulu başkanı, </span><span class=\"spark-nlp-display-entity-wrapper\" style=\"background-color: #9F2A4C\"><span class=\"spark-nlp-display-entity-name\">Satya Nadella'yı </span><span class=\"spark-nlp-display-entity-type\">PER</span></span><span class=\"spark-nlp-display-others\" style=\"background-color: white\"> desteklemek için teknoloji danışmanı olarak yeni bir göreve başladı.</span></div>"
            ],
            "text/plain": [
              "<IPython.core.display.HTML object>"
            ]
          },
          "metadata": {
            "tags": []
          }
        }
      ]
    }
  ]
}
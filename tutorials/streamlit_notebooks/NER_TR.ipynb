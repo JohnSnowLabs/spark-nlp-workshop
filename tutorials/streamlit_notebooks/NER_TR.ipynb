{
  "cells": [
    {
      "cell_type": "markdown",
      "metadata": {
        "id": "tpHEo2r-pDFj"
      },
      "source": [
        "\n",
        "\n",
        "![JohnSnowLabs](https://nlp.johnsnowlabs.com/assets/images/logo.png)\n",
        "\n",
        "[![Open In Colab](https://colab.research.google.com/assets/colab-badge.svg)](https://githubtocolab.com/JohnSnowLabs/spark-nlp-workshop/blob/master/tutorials/streamlit_notebooks/NER_TR.ipynb)"
      ]
    },
    {
      "cell_type": "markdown",
      "metadata": {
        "id": "UCJHkUupDnCW"
      },
      "source": [
        "# **Detect entities in Turkish text**"
      ]
    },
    {
      "cell_type": "markdown",
      "metadata": {
        "id": "x1LR2yPQDnCu"
      },
      "source": [
        "## 1. Colab Setup, loading necassary libraries"
      ]
    },
    {
      "cell_type": "code",
      "execution_count": 1,
      "metadata": {
        "colab": {
          "base_uri": "https://localhost:8080/",
          "height": 1000
        },
        "id": "zNnGtqYEDnDA",
        "outputId": "30ddd0c8-9c31-4fde-f826-d590d49a53f3"
      },
      "outputs": [],
      "source": [
        "# Install PySpark and Spark NLP\n",
        "! pip install -q pyspark==3.1.2 spark-nlp\n",
        "\n",
        "# Install Spark NLP Display lib\n",
        "! pip install --upgrade -q spark-nlp-display"
      ]
    },
    {
      "cell_type": "code",
      "execution_count": 2,
      "metadata": {
        "id": "n2ngnJnGDnDS"
      },
      "outputs": [],
      "source": [
        "import pandas as pd\n",
        "import numpy as np\n",
        "import json\n",
        "from pyspark.ml import Pipeline\n",
        "from pyspark.sql import SparkSession\n",
        "import pyspark.sql.functions as F\n",
        "from sparknlp.annotator import *\n",
        "from sparknlp.base import *\n",
        "import sparknlp\n",
        "from sparknlp.pretrained import PretrainedPipeline"
      ]
    },
    {
      "cell_type": "markdown",
      "metadata": {
        "id": "lWXAONEyDnDX"
      },
      "source": [
        "## 2. Start the Spark session"
      ]
    },
    {
      "cell_type": "code",
      "execution_count": 3,
      "metadata": {
        "id": "Evf8XX8YDnDa"
      },
      "outputs": [],
      "source": [
        "spark = sparknlp.start()"
      ]
    },
    {
      "cell_type": "code",
      "execution_count": 4,
      "metadata": {
        "colab": {
          "base_uri": "https://localhost:8080/",
          "height": 36
        },
        "id": "8RJdL0TrDnDe",
        "outputId": "5a67d5c4-630d-48e3-b81d-387a9c0f710f"
      },
      "outputs": [
        {
          "data": {
            "text/plain": [
              "'3.1.2'"
            ]
          },
          "execution_count": 4,
          "metadata": {},
          "output_type": "execute_result"
        }
      ],
      "source": [
        "spark.version"
      ]
    },
    {
      "cell_type": "markdown",
      "metadata": {
        "id": "7-YcXfW3DnDh"
      },
      "source": [
        "## 3. Select the DL model"
      ]
    },
    {
      "cell_type": "code",
      "execution_count": 5,
      "metadata": {
        "id": "pB6OYZlFDnDi"
      },
      "outputs": [],
      "source": [
        "# If you change the model, re-run all the cells below.\n",
        "# Applicable embedding models: \"glove_840B_300\" and \"bert_multi_cased\"\n",
        "\n",
        "# MODEL_NAME = 'turkish_ner_840B_300'\n",
        "MODEL_NAME = 'turkish_ner_bert'"
      ]
    },
    {
      "cell_type": "markdown",
      "metadata": {
        "id": "E8AdJZT1DnDj"
      },
      "source": [
        "## 4. Some sample examples"
      ]
    },
    {
      "cell_type": "code",
      "execution_count": 6,
      "metadata": {
        "id": "CcSiNZJXDnDm"
      },
      "outputs": [],
      "source": [
        "# Enter examples to be transformed as strings in this list\n",
        "\n",
        "text_list = [\"\"\"William Henry Gates III (28 Ekim 1955 doğumlu), Amerikalı bir iş adamı, \\\n",
        "yazılım geliştirici, yatırımcı ve hayırseverdir. En çok Microsoft şirketinin kurucu \\\n",
        "ortağı olarak bilinir. William Gates , Microsoft şirketindeki kariyeri boyunca başkan, \\\n",
        "icra kurulu başkanı, başkan ve yazılım mimarisi başkanı pozisyonlarında bulunmuş, \\\n",
        "aynı zamanda Mayıs 2014'e kadar en büyük bireysel hissedar olmuştur. O, 1970'lerin \\\n",
        "ve 1980'lerin mikrobilgisayar devriminin en tanınmış girişimcilerinden ve öncülerinden biridir. \\\n",
        "Seattle Washington'da doğup büyüyen William Gates, 1975'te New Mexico Albuquerque'de \\\n",
        "çocukluk arkadaşı Paul Allen ile Microsoft şirketini kurdu; dünyanın en büyük kişisel \\\n",
        "bilgisayar yazılım şirketi haline geldi. William Gates, Ocak 2000'de icra kurulu başkanı \\\n",
        "olarak istifa edene kadar şirketi başkan ve icra kurulu başkanı olarak yönetti ve \\\n",
        "daha sonra yazılım mimarisi başkanı oldu. 1990'ların sonlarında, William Gates rekabete \\\n",
        "aykırı olduğu düşünülen iş taktikleri nedeniyle eleştirilmişti. Bu görüş, çok sayıda \\\n",
        "mahkeme kararıyla onaylanmıştır. Haziran 2006'da William Gates, Microsoft şirketinde \\\n",
        "yarı zamanlı bir göreve ve 2000 yılında eşi Melinda Gates ile birlikte kurdukları özel \\\n",
        "hayır kurumu olan B&Melinda G. Vakfı'nda tam zamanlı çalışmaya geçeceğini duyurdu. \\\n",
        "Görevlerini kademeli olarak Ray Ozzie ve Craig Mundie'ye devretti. Şubat 2014'te \\\n",
        "Microsoft başkanlığından ayrıldı ve yeni atanan icra kurulu başkanı, Satya Nadella'yı \\\n",
        "desteklemek için teknoloji danışmanı olarak yeni bir göreve başladı.\"\"\",\n",
        "    \n",
        "\"Mona Lisa, Leonardo tarafından yaratılan 16. yüzyıldan kalma bir yağlı boya tablodur. \\\n",
        "Tablo, Paris'teki Louvre Müzesi'nde sergileniyor.\",\n",
        "             \n",
        "\"\"\"Facebook, 4 Şubat 2004 tarihinde TheFacebook adıyla başlatılan bir sosyal ağ hizmetidir. \\\n",
        "Mark Zuckerberg tarafından üniversite oda arkadaşları ve Harvard Üniversitesi öğrencileri \\\n",
        "Eduardo Saverin, Andrew McCollum, Dustin Moskovitz ve Chris Hughes ile birlikte kurulmuştur. \\\n",
        "Web sitesinin üyeliği başlangıçta kurucular tarafından Harvard öğrencileriyle sınırlıydı, ancak \\\n",
        "Boston bölgesindeki diğer kolejlere, Ivy-Ligine ve kademeli olarak ABD ve Kanada'daki çoğu üniversiteye genişletildi.\"\"\",\n",
        "            \n",
        "\"\"\"Geoffrey Everest Hinton, çoğu yapay sinir ağları üzerine yaptığı çalışmalarla tanınan \\\n",
        "İngiliz Kanadalı bir bilişsel psikolog ve bilgisayar bilimcisidir. 2013'ten beri zamanını \\\n",
        "Google ve Toronto Üniversitesi için ikiye ayırıyor. 2017 yılında, Toronto'da bulunan \\\n",
        "V. Enstitüsü'nün kurucu ortağı ve Bilimsel Konular Başdanışmanı oldu.\"\"\",\n",
        "             \n",
        "\"\"\"John Snow'a, Alaska'ya taşınmak istediğimi söylediğimde, orada bir Starbucks \\\n",
        "Cafe firması bulmakta zorlanacağım konusunda beni uyardı.\"\"\"\n",
        "            ]"
      ]
    },
    {
      "cell_type": "markdown",
      "metadata": {
        "id": "Ea6bLOFpDnDr"
      },
      "source": [
        "## 5. Define Spark NLP pipeline"
      ]
    },
    {
      "cell_type": "code",
      "execution_count": 7,
      "metadata": {
        "colab": {
          "base_uri": "https://localhost:8080/"
        },
        "id": "fr0VJ4ePDnDs",
        "outputId": "ab84cbba-7f35-480f-b0a3-4808d06a2578"
      },
      "outputs": [
        {
          "name": "stdout",
          "output_type": "stream",
          "text": [
            "bert_multi_cased download started this may take some time.\n",
            "Approximate size to download 638.6 MB\n",
            "[OK!]\n",
            "turkish_ner_bert download started this may take some time.\n",
            "Approximate size to download 15.5 MB\n",
            "[OK!]\n"
          ]
        }
      ],
      "source": [
        "documentAssembler = DocumentAssembler()\\\n",
        "    .setInputCol(\"text\")\\\n",
        "    .setOutputCol(\"document\")\n",
        "\n",
        "sentenceDetector = SentenceDetector()\\\n",
        "  .setInputCols([\"document\"])\\\n",
        "  .setOutputCol(\"sentence\")\n",
        "\n",
        "tokenizer = Tokenizer()\\\n",
        "  .setInputCols([\"sentence\"])\\\n",
        "  .setOutputCol(\"token\")\n",
        "\n",
        "embeddings = None\n",
        "public_ner = None\n",
        "\n",
        "if MODEL_NAME == 'turkish_ner_840B_300' :\n",
        "    embeddings = WordEmbeddingsModel.pretrained('glove_840B_300', \"xx\").\\\n",
        "                    setInputCols([\"sentence\", 'token']).\\\n",
        "                    setOutputCol(\"embeddings\").\\\n",
        "                    setCaseSensitive(True)\n",
        "\n",
        "    public_ner = NerDLModel.pretrained('turkish_ner_840B_300', 'tr') \\\n",
        "              .setInputCols([\"sentence\", \"token\", \"embeddings\"]) \\\n",
        "              .setOutputCol(\"ner\")\n",
        "    \n",
        "elif MODEL_NAME == 'turkish_ner_bert' :\n",
        "    embeddings = BertEmbeddings.pretrained('bert_multi_cased', 'xx') \\\n",
        "        .setInputCols([\"sentence\", \"token\"])\\\n",
        "        .setOutputCol(\"embeddings\")\n",
        "\n",
        "    public_ner = NerDLModel.pretrained('turkish_ner_bert', 'tr') \\\n",
        "              .setInputCols([\"sentence\", \"token\", \"embeddings\"]) \\\n",
        "              .setOutputCol(\"ner\")\n",
        "\n",
        "ner_converter = NerConverter() \\\n",
        "                .setInputCols([\"sentence\", \"token\", \"ner\"]) \\\n",
        "                  .setOutputCol(\"ner_chunk\")\n",
        "\n",
        "nlp_pipeline = Pipeline(stages=[ documentAssembler, sentenceDetector,\n",
        "                                 tokenizer,\n",
        "                                 embeddings,\n",
        "                                 public_ner,\n",
        "                                 ner_converter\n",
        "                                 ])"
      ]
    },
    {
      "cell_type": "markdown",
      "metadata": {
        "id": "cpjQmee7DnDu"
      },
      "source": [
        "## 6. Run the pipeline"
      ]
    },
    {
      "cell_type": "code",
      "execution_count": 8,
      "metadata": {
        "id": "Q4tpiJcgDnDv"
      },
      "outputs": [],
      "source": [
        "empty_df = spark.createDataFrame([['']]).toDF('text')\n",
        "pipeline_model = nlp_pipeline.fit(empty_df)\n",
        "df = spark.createDataFrame(pd.DataFrame({'text': text_list}))\n",
        "result = pipeline_model.transform(df)"
      ]
    },
    {
      "cell_type": "code",
      "execution_count": 9,
      "metadata": {
        "colab": {
          "base_uri": "https://localhost:8080/",
          "height": 420
        },
        "id": "WftfXdM4DnDw",
        "outputId": "7a6c5f2a-667a-433b-d73b-7f213bf0a238"
      },
      "outputs": [
        {
          "data": {
            "text/html": [
              "\n",
              "<style>\n",
              "    @import url('https://fonts.googleapis.com/css2?family=Montserrat:wght@300;400;500;600;700&display=swap');\n",
              "    @import url('https://fonts.googleapis.com/css2?family=Vistol Regular:wght@300;400;500;600;700&display=swap');\n",
              "    \n",
              "    .spark-nlp-display-scroll-entities {\n",
              "        border: 1px solid #E7EDF0;\n",
              "        border-radius: 3px;\n",
              "        text-align: justify;\n",
              "        \n",
              "    }\n",
              "    .spark-nlp-display-scroll-entities span {  \n",
              "        font-size: 14px;\n",
              "        line-height: 24px;\n",
              "        color: #536B76;\n",
              "        font-family: 'Montserrat', sans-serif !important;\n",
              "    }\n",
              "    \n",
              "    .spark-nlp-display-entity-wrapper{\n",
              "    \n",
              "        display: inline-grid;\n",
              "        text-align: center;\n",
              "        border-radius: 4px;\n",
              "        margin: 0 2px 5px 2px;\n",
              "        padding: 1px\n",
              "    }\n",
              "    .spark-nlp-display-entity-name{\n",
              "        font-size: 14px;\n",
              "        line-height: 24px;\n",
              "        font-family: 'Montserrat', sans-serif !important;\n",
              "        \n",
              "        background: #f1f2f3;\n",
              "        border-width: medium;\n",
              "        text-align: center;\n",
              "        \n",
              "        font-weight: 400;\n",
              "        \n",
              "        border-radius: 5px;\n",
              "        padding: 2px 5px;\n",
              "        display: block;\n",
              "        margin: 3px 2px;\n",
              "    \n",
              "    }\n",
              "    .spark-nlp-display-entity-type{\n",
              "        font-size: 14px;\n",
              "        line-height: 24px;\n",
              "        color: #ffffff;\n",
              "        font-family: 'Montserrat', sans-serif !important;\n",
              "        \n",
              "        text-transform: uppercase;\n",
              "        \n",
              "        font-weight: 500;\n",
              "\n",
              "        display: block;\n",
              "        padding: 3px 5px;\n",
              "    }\n",
              "    \n",
              "    .spark-nlp-display-entity-resolution{\n",
              "        font-size: 14px;\n",
              "        line-height: 24px;\n",
              "        color: #ffffff;\n",
              "        font-family: 'Vistol Regular', sans-serif !important;\n",
              "        \n",
              "        text-transform: uppercase;\n",
              "        \n",
              "        font-weight: 500;\n",
              "\n",
              "        display: block;\n",
              "        padding: 3px 5px;\n",
              "    }\n",
              "    \n",
              "    .spark-nlp-display-others{\n",
              "        font-size: 14px;\n",
              "        line-height: 24px;\n",
              "        font-family: 'Montserrat', sans-serif !important;\n",
              "        \n",
              "        font-weight: 400;\n",
              "    }\n",
              "\n",
              "</style>\n",
              " <span class=\"spark-nlp-display-entity-wrapper\" style=\"background-color: #2F91C6\"><span class=\"spark-nlp-display-entity-name\">William Henry Gates III </span><span class=\"spark-nlp-display-entity-type\">PER</span></span><span class=\"spark-nlp-display-others\" style=\"background-color: white\"> (28 Ekim 1955 doğumlu), Amerikalı bir iş adamı, yazılım geliştirici, yatırımcı ve hayırseverdir. En çok </span><span class=\"spark-nlp-display-entity-wrapper\" style=\"background-color: #881CA6\"><span class=\"spark-nlp-display-entity-name\">Microsoft </span><span class=\"spark-nlp-display-entity-type\">ORG</span></span><span class=\"spark-nlp-display-others\" style=\"background-color: white\"> şirketinin kurucu ortağı olarak bilinir. </span><span class=\"spark-nlp-display-entity-wrapper\" style=\"background-color: #2F91C6\"><span class=\"spark-nlp-display-entity-name\">William Gates </span><span class=\"spark-nlp-display-entity-type\">PER</span></span><span class=\"spark-nlp-display-others\" style=\"background-color: white\"> , </span><span class=\"spark-nlp-display-entity-wrapper\" style=\"background-color: #881CA6\"><span class=\"spark-nlp-display-entity-name\">Microsoft </span><span class=\"spark-nlp-display-entity-type\">ORG</span></span><span class=\"spark-nlp-display-others\" style=\"background-color: white\"> şirketindeki kariyeri boyunca başkan, icra kurulu başkanı, başkan ve yazılım mimarisi başkanı pozisyonlarında bulunmuş, aynı zamanda Mayıs 2014'e kadar en büyük bireysel hissedar olmuştur. O, 1970'lerin ve 1980'lerin mikrobilgisayar devriminin en tanınmış girişimcilerinden ve öncülerinden biridir. </span><span class=\"spark-nlp-display-entity-wrapper\" style=\"background-color: #8AC82C\"><span class=\"spark-nlp-display-entity-name\">Seattle Washington'da </span><span class=\"spark-nlp-display-entity-type\">LOC</span></span><span class=\"spark-nlp-display-others\" style=\"background-color: white\"> doğup büyüyen </span><span class=\"spark-nlp-display-entity-wrapper\" style=\"background-color: #2F91C6\"><span class=\"spark-nlp-display-entity-name\">William Gates </span><span class=\"spark-nlp-display-entity-type\">PER</span></span><span class=\"spark-nlp-display-others\" style=\"background-color: white\">, 1975'te </span><span class=\"spark-nlp-display-entity-wrapper\" style=\"background-color: #8AC82C\"><span class=\"spark-nlp-display-entity-name\">New Mexico Albuquerque'de </span><span class=\"spark-nlp-display-entity-type\">LOC</span></span><span class=\"spark-nlp-display-others\" style=\"background-color: white\"> çocukluk arkadaşı </span><span class=\"spark-nlp-display-entity-wrapper\" style=\"background-color: #2F91C6\"><span class=\"spark-nlp-display-entity-name\">Paul Allen </span><span class=\"spark-nlp-display-entity-type\">PER</span></span><span class=\"spark-nlp-display-others\" style=\"background-color: white\"> ile </span><span class=\"spark-nlp-display-entity-wrapper\" style=\"background-color: #881CA6\"><span class=\"spark-nlp-display-entity-name\">Microsoft </span><span class=\"spark-nlp-display-entity-type\">ORG</span></span><span class=\"spark-nlp-display-others\" style=\"background-color: white\"> şirketini kurdu; dünyanın en büyük kişisel bilgisayar yazılım şirketi haline geldi. </span><span class=\"spark-nlp-display-entity-wrapper\" style=\"background-color: #2F91C6\"><span class=\"spark-nlp-display-entity-name\">William Gates </span><span class=\"spark-nlp-display-entity-type\">PER</span></span><span class=\"spark-nlp-display-others\" style=\"background-color: white\">, Ocak 2000'de icra kurulu başkanı olarak istifa edene kadar şirketi başkan ve icra kurulu başkanı olarak yönetti ve daha sonra yazılım mimarisi başkanı oldu. 1990'ların sonlarında, </span><span class=\"spark-nlp-display-entity-wrapper\" style=\"background-color: #2F91C6\"><span class=\"spark-nlp-display-entity-name\">William Gates </span><span class=\"spark-nlp-display-entity-type\">PER</span></span><span class=\"spark-nlp-display-others\" style=\"background-color: white\"> rekabete aykırı olduğu düşünülen iş taktikleri nedeniyle eleştirilmişti. Bu görüş, çok sayıda mahkeme kararıyla onaylanmıştır. Haziran 2006'da </span><span class=\"spark-nlp-display-entity-wrapper\" style=\"background-color: #2F91C6\"><span class=\"spark-nlp-display-entity-name\">William Gates </span><span class=\"spark-nlp-display-entity-type\">PER</span></span><span class=\"spark-nlp-display-others\" style=\"background-color: white\">, </span><span class=\"spark-nlp-display-entity-wrapper\" style=\"background-color: #881CA6\"><span class=\"spark-nlp-display-entity-name\">Microsoft </span><span class=\"spark-nlp-display-entity-type\">ORG</span></span><span class=\"spark-nlp-display-others\" style=\"background-color: white\"> şirketinde yarı zamanlı bir göreve ve 2000 yılında eşi </span><span class=\"spark-nlp-display-entity-wrapper\" style=\"background-color: #2F91C6\"><span class=\"spark-nlp-display-entity-name\">Melinda Gates </span><span class=\"spark-nlp-display-entity-type\">PER</span></span><span class=\"spark-nlp-display-others\" style=\"background-color: white\"> ile birlikte kurdukları özel hayır kurumu olan </span><span class=\"spark-nlp-display-entity-wrapper\" style=\"background-color: #881CA6\"><span class=\"spark-nlp-display-entity-name\">B&Melinda G. Vakfı'nda </span><span class=\"spark-nlp-display-entity-type\">ORG</span></span><span class=\"spark-nlp-display-others\" style=\"background-color: white\"> tam zamanlı çalışmaya geçeceğini duyurdu. Görevlerini kademeli olarak </span><span class=\"spark-nlp-display-entity-wrapper\" style=\"background-color: #2F91C6\"><span class=\"spark-nlp-display-entity-name\">Ray Ozzie </span><span class=\"spark-nlp-display-entity-type\">PER</span></span><span class=\"spark-nlp-display-others\" style=\"background-color: white\"> ve </span><span class=\"spark-nlp-display-entity-wrapper\" style=\"background-color: #2F91C6\"><span class=\"spark-nlp-display-entity-name\">Craig Mundie'ye </span><span class=\"spark-nlp-display-entity-type\">PER</span></span><span class=\"spark-nlp-display-others\" style=\"background-color: white\"> devretti. Şubat 2014'te </span><span class=\"spark-nlp-display-entity-wrapper\" style=\"background-color: #881CA6\"><span class=\"spark-nlp-display-entity-name\">Microsoft </span><span class=\"spark-nlp-display-entity-type\">ORG</span></span><span class=\"spark-nlp-display-others\" style=\"background-color: white\"> başkanlığından ayrıldı ve yeni atanan icra kurulu başkanı, </span><span class=\"spark-nlp-display-entity-wrapper\" style=\"background-color: #2F91C6\"><span class=\"spark-nlp-display-entity-name\">Satya Nadella'yı </span><span class=\"spark-nlp-display-entity-type\">PER</span></span><span class=\"spark-nlp-display-others\" style=\"background-color: white\"> desteklemek için teknoloji danışmanı olarak yeni bir göreve başladı.</span></div>"
            ],
            "text/plain": [
              "<IPython.core.display.HTML object>"
            ]
          },
          "metadata": {},
          "output_type": "display_data"
        }
      ],
      "source": [
        "from sparknlp_display import NerVisualizer\n",
        "\n",
        "NerVisualizer().display(\n",
        "    result = result.collect()[0],\n",
        "    label_col = 'ner_chunk',\n",
        "    document_col = 'document'\n",
        ")"
      ]
    }
  ],
  "metadata": {
    "colab": {
      "name": "NER_TR.ipynb",
      "provenance": []
    },
    "interpreter": {
      "hash": "45150093197569bb3a58481dcd32cd1adb45462fa3448719e8ac38ada6166aca"
    },
    "kernelspec": {
      "display_name": "Python 3.6.10 64-bit ('tensorflow2_p36': conda)",
      "name": "python3"
    },
    "language_info": {
      "codemirror_mode": {
        "name": "ipython",
        "version": 3
      },
      "file_extension": ".py",
      "mimetype": "text/x-python",
      "name": "python",
      "nbconvert_exporter": "python",
      "pygments_lexer": "ipython3",
      "version": "3.6.10"
    }
  },
  "nbformat": 4,
  "nbformat_minor": 0
}

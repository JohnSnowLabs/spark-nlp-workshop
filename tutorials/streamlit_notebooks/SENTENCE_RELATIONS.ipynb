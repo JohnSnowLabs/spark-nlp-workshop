{
  "cells": [
    {
      "cell_type": "markdown",
      "metadata": {
        "id": "eRckCZIhI7c0"
      },
      "source": [
        "\n",
        "\n",
        "![JohnSnowLabs](https://nlp.johnsnowlabs.com/assets/images/logo.png)\n",
        "\n",
        "[![Open In Colab](https://colab.research.google.com/assets/colab-badge.svg)](https://githubtocolab.com/JohnSnowLabs/spark-nlp-workshop/blob/master/tutorials/streamlit_notebooks/SENTENCE_RELATIONS.ipynb)\n",
        "\n"
      ]
    },
    {
      "cell_type": "markdown",
      "metadata": {
        "id": "nweeYNu3I7c_"
      },
      "source": [
        "# **Assess relationship between two sentences**"
      ]
    },
    {
      "cell_type": "markdown",
      "metadata": {
        "id": "Iwc2UbXkI7dF"
      },
      "source": [
        "Evaluate the relationship between two sentences or text fragments to identify things such as contradictions, entailments and premises & hypotheses."
      ]
    },
    {
      "cell_type": "markdown",
      "metadata": {
        "id": "K6VpR913I7dJ"
      },
      "source": [
        "## 1. Colab Setup"
      ]
    },
    {
      "cell_type": "code",
      "execution_count": 1,
      "metadata": {
        "colab": {
          "base_uri": "https://localhost:8080/"
        },
        "id": "yNx_SCHBI7dL",
        "outputId": "a4abea20-72da-4a49-845a-f2397e448aa2"
      },
      "outputs": [],
      "source": [
        "# Install PySpark and Spark NLP\n",
        "! pip install -q pyspark==3.1.2 spark-nlp"
      ]
    },
    {
      "cell_type": "code",
      "execution_count": 2,
      "metadata": {
        "id": "5_c1apvGI7dO"
      },
      "outputs": [],
      "source": [
        "import pandas as pd\n",
        "import numpy as np\n",
        "import json\n",
        "from pyspark.ml import Pipeline\n",
        "from pyspark.sql import SparkSession\n",
        "import pyspark.sql.functions as F\n",
        "from sparknlp.annotator import *\n",
        "from sparknlp.base import *\n",
        "import sparknlp\n",
        "from sparknlp.pretrained import PretrainedPipeline"
      ]
    },
    {
      "cell_type": "markdown",
      "metadata": {
        "id": "wA23bW3bI7dQ"
      },
      "source": [
        "## 2. Start Spark Session"
      ]
    },
    {
      "cell_type": "code",
      "execution_count": 3,
      "metadata": {
        "id": "PgTnDZI7I7dR"
      },
      "outputs": [],
      "source": [
        "spark = sparknlp.start()"
      ]
    },
    {
      "cell_type": "markdown",
      "metadata": {
        "id": "Z8RZC46ZI7dU"
      },
      "source": [
        "## 3. Select the model to use"
      ]
    },
    {
      "cell_type": "code",
      "execution_count": 4,
      "metadata": {
        "id": "9pnTGgKGI7dV"
      },
      "outputs": [],
      "source": [
        "#MODEL_NAME = 't5_small'\n",
        "MODEL_NAME = 't5_base'"
      ]
    },
    {
      "cell_type": "markdown",
      "metadata": {
        "id": "d_ZXeDvJI7dY"
      },
      "source": [
        "### 3.1 Select the task"
      ]
    },
    {
      "cell_type": "markdown",
      "metadata": {
        "id": "z3FeMBZeI7dc"
      },
      "source": [
        "The `T5 Transformer` model is able to perform 18 different tasks (ref.: [this paper](https://arxiv.org/abs/1910.10683)). To check the relations between sentences/texts, we can use the following tasks:\n",
        "\n",
        "- `rte`: Recognizing, given two text fragments, whether the meaning of one text can be inferred (entailed) from the other or not.\n",
        "- `mnli`: Classify for a hypothesis and premise whether they contradict or contradict each other or neither of both (3 classes).\n",
        "- `qnli`: Classify whether the answer to a question can be deducted from an answer candidate.\n",
        "- `cb`: Classify for a premise and a hypothesis whether they contradict each other or not (binary).\n",
        "- `copa`: Classify for a question, premise, and 2 choices which choice the correct choice is (binary).\n",
        "- `multirc`: Classify for a question, a paragraph of text, and an answer candidate, if the answer is correct (binary)."
      ]
    },
    {
      "cell_type": "code",
      "execution_count": 5,
      "metadata": {
        "id": "nGfvFo4NI7dd"
      },
      "outputs": [],
      "source": [
        "#TASK = 'rte'\n",
        "#TASK = 'mnli'\n",
        "#TASK = 'qnli'\n",
        "#TASK = 'cb'\n",
        "#TASK = 'copa'\n",
        "TASK = 'multirc'"
      ]
    },
    {
      "cell_type": "code",
      "execution_count": 6,
      "metadata": {
        "id": "p6cYyY6dI7dd"
      },
      "outputs": [],
      "source": [
        "# Prefix to be used on the T5Transformer().setTask(<<prefix>>)\n",
        "task_prefix = {\n",
        "                'rte': 'rte sentence1:', \n",
        "                'mnli': 'mnli hypothesis:',\n",
        "                'qnli': 'QNLI sentence1:', \n",
        "                'cb': 'cb hypothesis:', \n",
        "                'copa': 'copa choice1:', \n",
        "                'multirc': 'multirc questions:'    \n",
        "            }"
      ]
    },
    {
      "cell_type": "markdown",
      "metadata": {
        "id": "6Cg8n5r-I7de"
      },
      "source": [
        "## 4 Examples to try on the model"
      ]
    },
    {
      "cell_type": "code",
      "execution_count": 7,
      "metadata": {
        "id": "xZM3hBO3I7df"
      },
      "outputs": [],
      "source": [
        "text_lists = {\n",
        "            'rte':      [\"\"\"\n",
        "                        Kessler’s team conducted 60,643 interviews with adults in 14 countries.\n",
        "                        Sentence 2: Kessler’s team interviewed more than 60,000 adults in 14 countries\"\"\",\n",
        "                        \"\"\"\n",
        "                        Peter loves New York, it is his favorite city. \n",
        "                        Sentence 2: Peter loves new York.\n",
        "                        \"\"\",\n",
        "                        \"\"\"\n",
        "                        Recent report say Johnny makes he alot of money, he earned 10 million USD each year for the last 5 years. \n",
        "                        Sentence 2: Johnny is a millionare.\n",
        "                        \"\"\",\n",
        "                        \"\"\"\n",
        "                        Recent report say Johnny makes he alot of money, he earned 10 million USD each year for the last 5 years. \n",
        "                        Sentence 2: Johnny is a poor man.\n",
        "                        \"\"\",\n",
        "                        \"\"\"\n",
        "                        It was raining in England for the last 4 weeks. \n",
        "                        Sentence 2: England was very dry yesterday.\n",
        "                        \"\"\"],\n",
        "            'mnli':     [\"\"\"\n",
        "                        Recent report say Johnny makes he alot of money, he earned 10 million USD each year for the last 5 years.\n",
        "                        premise: Johnny is a poor man.\n",
        "                        \"\"\",\n",
        "                        \"\"\"\n",
        "                        It rained in England the last 4 weeks.\n",
        "                        premise: It was snowing in New York last week.\n",
        "                        \"\"\"],\n",
        "            'qnli':     [\"\"\"\n",
        "                        question: Where did Jebe die?\n",
        "                        sentence: Ghenkis Khan recalled Subtai back to Mongolia soon afterward, and Jebe died on the road back to Samarkand \t\n",
        "                        \"\"\",\n",
        "                        \"\"\"\n",
        "                        question: What does Steve like to eat?\t\n",
        "                        sentence: Steve watches TV all day.\n",
        "                        \"\"\"],\n",
        "            'cb':       [\"\"\"\n",
        "                        hypothesis: Recent report say Johnny makes he alot of money, he earned 10 million USD each year for the last 5 years.\n",
        "                        premise: Johnny is a poor man.\n",
        "                        \"\"\"],\n",
        "            'copa':     [\"\"\"\n",
        "                        choice1: He fell off the ladder    \n",
        "                        choice2: He climbed up the lader       \n",
        "                        premise: The man lost his balance on the ladder \n",
        "                        question: effect\n",
        "                        \"\"\"],\n",
        "            'multirc':  [\"\"\"\n",
        "                        questions: Why was Joey surprised the morning he woke up for breakfast?      \n",
        "                        answer: There was a T-REX in his garden.      \n",
        "                        paragraph:\n",
        "                        Sent 1: Once upon a time, there was a squirrel named Joey.      \n",
        "                        Sent 2: Joey loved to go outside and play with his cousin Jimmy.      \n",
        "                        Sent 3: Joey and Jimmy played silly games together, and were always laughing.      \n",
        "                        Sent 4: One day, Joey and Jimmy went swimming together 50 at their Aunt Julie’s pond.      \n",
        "                        Sent 5: Joey woke up early in the morning to eat some food before they left.      \n",
        "                        Sent 6: He couldn’t find anything to eat except for pie!      \n",
        "                        Sent 7: Usually, Joey would eat cereal, fruit (a pear), or oatmeal for breakfast.      \n",
        "                        Sent 8: After he ate, he and Jimmy went to the pond.      \n",
        "                        Sent 9: On their way there they saw their friend Jack Rabbit.      \n",
        "                        Sent 10: They dove into the water and swam for several hours.      \n",
        "                        Sent 11: The sun was out, but the breeze was cold.      \n",
        "                        Sent 12: Joey and Jimmy got out of the water and started walking home.      \n",
        "                        Sent 13: Their fur was wet, and the breeze chilled them.      \n",
        "                        Sent 14: When they got home, they dried off, and Jimmy put on his favorite purple shirt.      \n",
        "                        Sent 15: Joey put on a blue shirt with red and green dots.      \n",
        "                        Sent 16: The two squirrels ate some food that Joey’s mom, Jasmine, made and went off to bed.\n",
        "                        \"\"\",\n",
        "                        \"\"\"\n",
        "                        questions:  Why was Joey surprised the morning he woke up for breakfast?      \n",
        "                        answer:There was only pie for breakfast.      \n",
        "                        paragraph:\n",
        "                        Sent 1: Once upon a time, there was a squirrel named Joey.      \n",
        "                        Sent 2: Joey loved to go outside and play with his cousin Jimmy.      \n",
        "                        Sent 3: Joey and Jimmy played silly games together, and were always laughing.      \n",
        "                        Sent 4: One day, Joey and Jimmy went swimming together 50 at their Aunt Julie’s pond.      \n",
        "                        Sent 5: Joey woke up early in the morning to eat some food before they left.      \n",
        "                        Sent 6: He couldn’t find anything to eat except for pie!      \n",
        "                        Sent 7: Usually, Joey would eat cereal, fruit (a pear), or oatmeal for breakfast.      \n",
        "                        Sent 8: After he ate, he and Jimmy went to the pond.      \n",
        "                        Sent 9: On their way there they saw their friend Jack Rabbit.      \n",
        "                        Sent 10: They dove into the water and swam for several hours.      \n",
        "                        Sent 11: The sun was out, but the breeze was cold.      \n",
        "                        Sent 12: Joey and Jimmy got out of the water and started walking home.      \n",
        "                        Sent 13: Their fur was wet, and the breeze chilled them.      \n",
        "                        Sent 14: When they got home, they dried off, and Jimmy put on his favorite purple shirt.      \n",
        "                        Sent 15: Joey put on a blue shirt with red and green dots.      \n",
        "                        Sent 16: The two squirrels ate some food that Joey’s mom, Jasmine, made and went off to bed. \n",
        "                        \"\"\"]}"
      ]
    },
    {
      "cell_type": "markdown",
      "metadata": {
        "id": "gbRLcjvaI7dg"
      },
      "source": [
        "## 5. Define the Spark NLP pipeline"
      ]
    },
    {
      "cell_type": "code",
      "execution_count": 8,
      "metadata": {
        "colab": {
          "base_uri": "https://localhost:8080/"
        },
        "id": "lZ1Nh_BYI7dh",
        "outputId": "b6229659-3736-4375-ccf7-0928d65d6bd3"
      },
      "outputs": [
        {
          "name": "stdout",
          "output_type": "stream",
          "text": [
            "t5_base download started this may take some time.\n",
            "Approximate size to download 446 MB\n",
            "[OK!]\n"
          ]
        }
      ],
      "source": [
        "document_assembler = DocumentAssembler()\\\n",
        "    .setInputCol(\"text\")\\\n",
        "    .setOutputCol(\"documents\")\n",
        "\n",
        "t5 = T5Transformer() \\\n",
        "    .pretrained(MODEL_NAME) \\\n",
        "    .setTask(task_prefix[TASK])\\\n",
        "    .setMaxOutputLength(200)\\\n",
        "    .setInputCols([\"documents\"]) \\\n",
        "    .setOutputCol(\"T5\")\n",
        "\n",
        "pipeline = Pipeline(stages=[document_assembler, t5])"
      ]
    },
    {
      "cell_type": "markdown",
      "metadata": {
        "id": "xhSgk3yxI7dj"
      },
      "source": [
        "## 6. Run the pipeline"
      ]
    },
    {
      "cell_type": "code",
      "execution_count": 9,
      "metadata": {
        "id": "Y9eZnCT5I7dm"
      },
      "outputs": [],
      "source": [
        "# Fit on empty data frame (model is pretrained)\n",
        "empty_df = spark.createDataFrame([['']]).toDF('text')\n",
        "pipeline_model = pipeline.fit(empty_df)\n",
        "\n",
        "# Send example texts to spark data frame\n",
        "text_df = spark.createDataFrame(pd.DataFrame({'text': text_lists[TASK]}))\n",
        "\n",
        "# Predict with the Pipeline model\n",
        "result = pipeline_model.transform(text_df)\n",
        "\n",
        "# Create Light Pipeline\n",
        "lmodel = LightPipeline(pipeline_model)\n",
        "\n",
        "# Predict with then Ligh Pipeline model\n",
        "res = lmodel.fullAnnotate(text_lists[TASK])"
      ]
    },
    {
      "cell_type": "markdown",
      "metadata": {
        "id": "UIO5GGnKI7dn"
      },
      "source": [
        "## 7. Visualize the results"
      ]
    },
    {
      "cell_type": "markdown",
      "metadata": {
        "id": "I5x--YUTI7do"
      },
      "source": [
        "Using Light Pipeline:"
      ]
    },
    {
      "cell_type": "code",
      "execution_count": 10,
      "metadata": {
        "colab": {
          "base_uri": "https://localhost:8080/"
        },
        "id": "fO7N17rNI7dp",
        "outputId": "5b4658fc-99b0-43fc-b9c5-cf320cc1ecf7"
      },
      "outputs": [
        {
          "name": "stdout",
          "output_type": "stream",
          "text": [
            "\n",
            "                        questions: Why was Joey surprised the morning he woke up for breakfast?      \n",
            "                        answer: There was a T-REX in his garden.      \n",
            "                        paragraph:\n",
            "                        Sent 1: Once upon a time, there was a squirrel named Joey.      \n",
            "                        Sent 2: Joey loved to go outside and play with his cousin Jimmy.      \n",
            "                        Sent 3: Joey and Jimmy played silly games together, and were always laughing.      \n",
            "                        Sent 4: One day, Joey and Jimmy went swimming together 50 at their Aunt Julie’s pond.      \n",
            "                        Sent 5: Joey woke up early in the morning to eat some food before they left.      \n",
            "                        Sent 6: He couldn’t find anything to eat except for pie!      \n",
            "                        Sent 7: Usually, Joey would eat cereal, fruit (a pear), or oatmeal for breakfast.      \n",
            "                        Sent 8: After he ate, he and Jimmy went to the pond.      \n",
            "                        Sent 9: On their way there they saw their friend Jack Rabbit.      \n",
            "                        Sent 10: They dove into the water and swam for several hours.      \n",
            "                        Sent 11: The sun was out, but the breeze was cold.      \n",
            "                        Sent 12: Joey and Jimmy got out of the water and started walking home.      \n",
            "                        Sent 13: Their fur was wet, and the breeze chilled them.      \n",
            "                        Sent 14: When they got home, they dried off, and Jimmy put on his favorite purple shirt.      \n",
            "                        Sent 15: Joey put on a blue shirt with red and green dots.      \n",
            "                        Sent 16: The two squirrels ate some food that Joey’s mom, Jasmine, made and went off to bed.\n",
            "                         => False\n",
            "\n",
            "                        questions:  Why was Joey surprised the morning he woke up for breakfast?      \n",
            "                        answer:There was only pie for breakfast.      \n",
            "                        paragraph:\n",
            "                        Sent 1: Once upon a time, there was a squirrel named Joey.      \n",
            "                        Sent 2: Joey loved to go outside and play with his cousin Jimmy.      \n",
            "                        Sent 3: Joey and Jimmy played silly games together, and were always laughing.      \n",
            "                        Sent 4: One day, Joey and Jimmy went swimming together 50 at their Aunt Julie’s pond.      \n",
            "                        Sent 5: Joey woke up early in the morning to eat some food before they left.      \n",
            "                        Sent 6: He couldn’t find anything to eat except for pie!      \n",
            "                        Sent 7: Usually, Joey would eat cereal, fruit (a pear), or oatmeal for breakfast.      \n",
            "                        Sent 8: After he ate, he and Jimmy went to the pond.      \n",
            "                        Sent 9: On their way there they saw their friend Jack Rabbit.      \n",
            "                        Sent 10: They dove into the water and swam for several hours.      \n",
            "                        Sent 11: The sun was out, but the breeze was cold.      \n",
            "                        Sent 12: Joey and Jimmy got out of the water and started walking home.      \n",
            "                        Sent 13: Their fur was wet, and the breeze chilled them.      \n",
            "                        Sent 14: When they got home, they dried off, and Jimmy put on his favorite purple shirt.      \n",
            "                        Sent 15: Joey put on a blue shirt with red and green dots.      \n",
            "                        Sent 16: The two squirrels ate some food that Joey’s mom, Jasmine, made and went off to bed. \n",
            "                         => True\n"
          ]
        }
      ],
      "source": [
        "for r in res:\n",
        "    print(f\"{r['documents'][0].result} => {r['T5'][0].result}\")"
      ]
    },
    {
      "cell_type": "markdown",
      "metadata": {
        "id": "a7nkfRB6I7dr"
      },
      "source": [
        "Using pipeline model:"
      ]
    },
    {
      "cell_type": "code",
      "execution_count": 11,
      "metadata": {
        "colab": {
          "base_uri": "https://localhost:8080/"
        },
        "id": "Zu83WYCoI7dt",
        "outputId": "a2cd419c-0fc0-4b2c-8eb3-7bbe075bb98d"
      },
      "outputs": [
        {
          "name": "stdout",
          "output_type": "stream",
          "text": [
            "+--------------------------------------------------------------------------------+-------+\n",
            "|                                                                            text| result|\n",
            "+--------------------------------------------------------------------------------+-------+\n",
            "|\n",
            "                        questions: Why was Joey surprised the morning he wok...|[False]|\n",
            "|\n",
            "                        questions:  Why was Joey surprised the morning he wo...| [True]|\n",
            "+--------------------------------------------------------------------------------+-------+\n",
            "\n"
          ]
        }
      ],
      "source": [
        "result.select('text', 'T5.result').show(truncate=80)"
      ]
    }
  ],
  "metadata": {
    "colab": {
      "name": "SENTENCE_RELATIONS.ipynb",
      "provenance": []
    },
    "interpreter": {
      "hash": "45150093197569bb3a58481dcd32cd1adb45462fa3448719e8ac38ada6166aca"
    },
    "kernelspec": {
      "display_name": "Python 3.6.10 64-bit ('tensorflow2_p36': conda)",
      "name": "python3"
    },
    "language_info": {
      "codemirror_mode": {
        "name": "ipython",
        "version": 3
      },
      "file_extension": ".py",
      "mimetype": "text/x-python",
      "name": "python",
      "nbconvert_exporter": "python",
      "pygments_lexer": "ipython3",
      "version": "3.6.10"
    }
  },
  "nbformat": 4,
  "nbformat_minor": 0
}

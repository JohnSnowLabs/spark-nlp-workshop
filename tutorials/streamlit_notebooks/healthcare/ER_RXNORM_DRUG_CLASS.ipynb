{
  "nbformat": 4,
  "nbformat_minor": 0,
  "metadata": {
    "colab": {
      "name": "ER_RXNORM_DRUG_CLASS.ipynb",
      "provenance": [],
      "collapsed_sections": []
    },
    "kernelspec": {
      "name": "python3",
      "display_name": "Python 3"
    },
    "language_info": {
      "name": "python"
    }
  },
  "cells": [
    {
      "cell_type": "markdown",
      "source": [
        "![JohnSnowLabs](https://nlp.johnsnowlabs.com/assets/images/logo.png)\n",
        "\n",
        "[![Open In Colab](https://colab.research.google.com/assets/colab-badge.svg)](https://colab.research.google.com/github/JohnSnowLabs/spark-nlp-workshop/blob/master/tutorials/streamlit_notebooks/healthcare/ER_RXNORM_DRUG_CLASS.ipynb)"
      ],
      "metadata": {
        "id": "wWLwNF4iITCn"
      }
    },
    {
      "cell_type": "markdown",
      "source": [
        "# `sbiobertresolve_rxnorm_disposition` **Models**\n",
        "\n",
        "This model maps medication entities (like drugs/ingredients) to RxNorm codes and their dispositions using `sbiobert_base_cased_mli` Sentence Bert Embeddings."
      ],
      "metadata": {
        "id": "rIVVRWlyIaPW"
      }
    },
    {
      "cell_type": "markdown",
      "source": [
        "## 1. Colab Setup"
      ],
      "metadata": {
        "id": "Xa2MP5N2EyAN"
      }
    },
    {
      "cell_type": "markdown",
      "source": [
        "**Import license keys**"
      ],
      "metadata": {
        "id": "meFLU3CTE2S9"
      }
    },
    {
      "cell_type": "code",
      "execution_count": null,
      "metadata": {
        "id": "dnJ9X-mbEOMr"
      },
      "outputs": [],
      "source": [
        "import json\n",
        "import os\n",
        "\n",
        "from google.colab import files\n",
        "\n",
        "license_keys = files.upload()\n",
        "\n",
        "with open(list(license_keys.keys())[0]) as f:\n",
        "    license_keys = json.load(f)\n",
        "\n",
        "# Defining license key-value pairs as local variables\n",
        "locals().update(license_keys)\n",
        "\n",
        "# Adding license key-value pairs to environment variables\n",
        "os.environ.update(license_keys)"
      ]
    },
    {
      "cell_type": "markdown",
      "source": [
        "**Install dependencies**"
      ],
      "metadata": {
        "id": "MpFCD_gTFcyx"
      }
    },
    {
      "cell_type": "code",
      "source": [
        "# Installing pyspark and spark-nlp\n",
        "! pip install --upgrade -q pyspark==3.1.2 spark-nlp==$PUBLIC_VERSION\n",
        "\n",
        "# Installing Spark NLP Healthcare\n",
        "! pip install --upgrade -q spark-nlp-jsl==$JSL_VERSION  --extra-index-url https://pypi.johnsnowlabs.com/$SECRET\n",
        "\n",
        "# Installing Spark NLP Display Library for visualization\n",
        "! pip install -q spark-nlp-display"
      ],
      "metadata": {
        "id": "qeg3QosiFf5u"
      },
      "execution_count": null,
      "outputs": []
    },
    {
      "cell_type": "markdown",
      "source": [
        "## 2. Start Spark Session"
      ],
      "metadata": {
        "id": "WcrI5WVvGDvP"
      }
    },
    {
      "cell_type": "markdown",
      "source": [
        "**Import dependencies into Python and start the Spark session**"
      ],
      "metadata": {
        "id": "bEYvJIDaFxuM"
      }
    },
    {
      "cell_type": "code",
      "source": [
        "# Import sparknlp & sparknlp_jsl packages\n",
        "import sparknlp\n",
        "import sparknlp_jsl\n",
        "\n",
        "from sparknlp.base import *\n",
        "from sparknlp.common import *\n",
        "from sparknlp.annotator import *\n",
        "from sparknlp_jsl.annotator import *\n",
        "\n",
        "# Import Pyspark packages\n",
        "from pyspark.sql import SparkSession\n",
        "from pyspark.sql import functions as F \n",
        "from pyspark.ml import Pipeline, PipelineModel\n",
        "\n",
        "import pandas as pd\n",
        "import numpy as np \n",
        "\n",
        "spark = sparknlp_jsl.start(license_keys['SECRET'])\n",
        "\n",
        "print (\"Spark NLP Version :\", sparknlp.version())\n",
        "print (\"Spark NLP_JSL Version :\", sparknlp_jsl.version())\n",
        "\n",
        "spark"
      ],
      "metadata": {
        "colab": {
          "base_uri": "https://localhost:8080/",
          "height": 258
        },
        "id": "uh5IkMSuFwH0",
        "outputId": "8bb69a59-e0f3-49ef-a47e-9b4e50217517"
      },
      "execution_count": 3,
      "outputs": [
        {
          "output_type": "stream",
          "name": "stdout",
          "text": [
            "Spark NLP Version : 3.4.4\n",
            "Spark NLP_JSL Version : 3.5.2\n"
          ]
        },
        {
          "output_type": "execute_result",
          "data": {
            "text/plain": [
              "<pyspark.sql.session.SparkSession at 0x7f2348ab3290>"
            ],
            "text/html": [
              "\n",
              "            <div>\n",
              "                <p><b>SparkSession - in-memory</b></p>\n",
              "                \n",
              "        <div>\n",
              "            <p><b>SparkContext</b></p>\n",
              "\n",
              "            <p><a href=\"http://686c7ceda852:4040\">Spark UI</a></p>\n",
              "\n",
              "            <dl>\n",
              "              <dt>Version</dt>\n",
              "                <dd><code>v3.1.2</code></dd>\n",
              "              <dt>Master</dt>\n",
              "                <dd><code>local[*]</code></dd>\n",
              "              <dt>AppName</dt>\n",
              "                <dd><code>Spark NLP Licensed</code></dd>\n",
              "            </dl>\n",
              "        </div>\n",
              "        \n",
              "            </div>\n",
              "        "
            ]
          },
          "metadata": {},
          "execution_count": 3
        }
      ]
    },
    {
      "cell_type": "markdown",
      "source": [
        "## 3. Select the model and construct the pipeline"
      ],
      "metadata": {
        "id": "6unD_Wi4GHA2"
      }
    },
    {
      "cell_type": "code",
      "source": [
        "MODEL_NAME = \"sbiobertresolve_rxnorm_disposition\""
      ],
      "metadata": {
        "id": "aERdxMBiGL5b"
      },
      "execution_count": 4,
      "outputs": []
    },
    {
      "cell_type": "markdown",
      "source": [
        "**Create the pipeline**"
      ],
      "metadata": {
        "id": "6890ej79GVJl"
      }
    },
    {
      "cell_type": "code",
      "source": [
        "document_assembler = DocumentAssembler()\\\n",
        "    .setInputCol(\"text\")\\\n",
        "    .setOutputCol(\"document\")\n",
        "\n",
        "sentence_detector = SentenceDetector() \\\n",
        "    .setInputCols(['document'])\\\n",
        "    .setOutputCol('sentence')\n",
        "\n",
        "tokenizer = Tokenizer()\\\n",
        "    .setInputCols([\"sentence\"])\\\n",
        "    .setOutputCol(\"token\")\n",
        "\n",
        "word_embeddings = WordEmbeddingsModel.pretrained(\"embeddings_clinical\", \"en\", \"clinical/models\")\\\n",
        "    .setInputCols([\"sentence\", \"token\"])\\\n",
        "    .setOutputCol(\"embeddings\")\n",
        "\n",
        "ner = MedicalNerModel.pretrained(\"ner_posology\", \"en\", \"clinical/models\") \\\n",
        "    .setInputCols([\"sentence\", \"token\", \"embeddings\"]) \\\n",
        "    .setOutputCol(\"ner\")\n",
        "\n",
        "ner_converter = NerConverterInternal()\\\n",
        "    .setInputCols([\"sentence\", \"token\", \"ner\"])\\\n",
        "    .setOutputCol(\"ner_chunk\")\\\n",
        "    .setWhiteList([\"DRUG\"])\n",
        "\n",
        "c2doc = Chunk2Doc()\\\n",
        "    .setInputCols(\"ner_chunk\")\\\n",
        "    .setOutputCol(\"ner_chunk_doc\") \n",
        "\n",
        "sbert_embedder = BertSentenceEmbeddings.pretrained(\"sbiobert_base_cased_mli\",'en','clinical/models')\\\n",
        "    .setInputCols([\"ner_chunk_doc\"])\\\n",
        "    .setOutputCol(\"sbert_embeddings\")\\\n",
        "    .setCaseSensitive(False)\n",
        "\n",
        "resolver = SentenceEntityResolverModel.pretrained(MODEL_NAME, \"en\", \"clinical/models\") \\\n",
        "    .setInputCols([\"ner_chunk_doc\", \"sbert_embeddings\"]) \\\n",
        "    .setOutputCol(\"resolution\")\\\n",
        "    .setDistanceFunction(\"EUCLIDEAN\")\n",
        "\n",
        "\n",
        "nlp_pipeline = Pipeline(\n",
        "    stages = [\n",
        "        document_assembler,\n",
        "        sentence_detector,\n",
        "        tokenizer,\n",
        "        word_embeddings,\n",
        "        ner,\n",
        "        ner_converter,\n",
        "        c2doc,\n",
        "        sbert_embedder,\n",
        "        resolver\n",
        "  ])\n",
        "\n",
        "empty_df = spark.createDataFrame([[\"\"]]).toDF('text')\n",
        "\n",
        "model = nlp_pipeline.fit(empty_df)"
      ],
      "metadata": {
        "colab": {
          "base_uri": "https://localhost:8080/"
        },
        "id": "Vjo9u1N1Ga1W",
        "outputId": "52f2e1aa-c1ff-4e66-d738-1eeb7ff27ed4"
      },
      "execution_count": 5,
      "outputs": [
        {
          "output_type": "stream",
          "name": "stdout",
          "text": [
            "embeddings_clinical download started this may take some time.\n",
            "Approximate size to download 1.6 GB\n",
            "[OK!]\n",
            "ner_posology download started this may take some time.\n",
            "[OK!]\n",
            "sbiobert_base_cased_mli download started this may take some time.\n",
            "Approximate size to download 384.3 MB\n",
            "[OK!]\n",
            "sbiobertresolve_rxnorm_disposition download started this may take some time.\n",
            "[OK!]\n"
          ]
        }
      ]
    },
    {
      "cell_type": "markdown",
      "source": [
        "## 4. Create example inputs"
      ],
      "metadata": {
        "id": "K4CxF3U7HsCX"
      }
    },
    {
      "cell_type": "code",
      "source": [
        "sample_text = [\n",
        "\"\"\"Two weeks prior to presentation , she was treated with a five-day course of amoxicillin for a respiratory tract infection . She was on dapagliflozin for T2DM and atorvastatin for HTG . She had been on dapagliflozin for six months at the time of presentation .The patient was seen by the endocrinology service and she was discharged on 40 units of insulin glargine at night , 12 units of insulin lispro with meals. \"\"\",\n",
        "\"\"\"This 48-year-old woman returns in followup after a full-night sleep study performed to evaluate her for daytime fatigue and insomnia.,  PAST MEDICAL HISTORY:,1.  Depression.,2.  Hepatitis C.,3.  Hypertension.,4.  Inhaled and intravenous drug abuse history.,The patient has a history of smoking two packs per day of cigarettes for approximately 25 pounds.  She also has a history of recurrent atypical chest pain for which she has been evaluated.,MEDICATIONS: , Current medications include the following: Methadone 110 mg by mouth every day , Avalide (irbesartan)., Albuterol .\"\"\",\n",
        "\"\"\"The patient returns to the Pulmonary Medicine Clinic for followup evaluation of interstitial disease secondary to lupus pneumonitis.  She was last seen in the Pulmonary Medicine Clinic in January 2004.  Since that time, her respiratory status has been quite good.  She has had no major respiratory difficulties; however, starting yesterday she began with increasing back and joint pain and as a result a deep breath has caused some back discomfort.  She denies any problems with cough or sputum production.  No fevers or chills.  Recently, she has had a bit more problems with fatigue.  For the most part, she has had no pulmonary limitations to her activity.,CURRENT MEDICATIONS:, prednisone, she was 2.5 mg daily, but discontinued this on 06/16/2004, aspirin 81 mg daily.  She is also on calcium, vitamin D .,ALLERGIES:,  Penicillin and also intolerance to shellfish.\"\"\",\n",
        "\"\"\"CHIEF COMPLAINT:,  Leg pain.,HISTORY OF PRESENT ILLNESS:,  This is a 56-year-old female who has pain in her legs at nighttime and when she gets up it comes and goes, radiates from her buttocks to her legs, sometimes it is her ankle. She has had some night sweats occasionally.  She has had a little bit of fever and nausea.  She has noticed her blood sugars have been low.  She has lost over 30 pounds after exercising doing water aerobics at Genesis in Wichita.  She has noticed her fasting blood sugars have been ranging from 100 to 120.  Blood sugars one and a half hours after meals have been 185.  She is coming in for a diabetic checkup in one month and wants lab prior to that time.  She has been eating more meat recently and has not been on a diet for cholesterol.,CURRENT MEDICATIONS: Hydroxyzine pamoate 50 mg at h.s., aspirin 81 mg q.d.,  estradiol one mg q.d., and glucosamine 1000 mg q.d.,ALLERGIES: Cipro, Sulfac \"\"\",\n",
        "\"\"\"This is an extremely pleasant 64-year-old gentleman who I am following for essential thrombocytosis.  He was first diagnosed when he first saw a hematologist on 07/09/07.  At that time, his platelet count was 1,240,000.  He was initially started on Hydrea 1000 mg q.d.  On 07/11/07, he underwent a bone marrow biopsy, which showed essential thrombocytosis.  He was positive for the JAK-2 mutation.  On 11/06/07, his platelets were noted to be 766,000.  His current Hydrea dose is now 1500 mg on Mondays and Fridays and 1000 mg on all other days.  He moved to ABCD in December 2009 in an attempt to improve his wife's rheumatoid arthritis.,Overall, he is doing well.  He has a good energy level, and his ECOG performance status is 0.  He denies any fevers, chills, or night sweats.  No lymphadenopathy.  No nausea or vomiting.  No change in bowel or bladder habits.,CURRENT MEDICATIONS: , Hydrea 1500 mg on Mondays and Fridays and 1000 mg the other days of the week, vitamin D q.d , aspirin 81 mg q.d.,ALLERGIES: , No known drug allergies.,REVIEW OF SYSTEMS:,  As per the HPI, otherwise negative.,PAST MEDICAL HISTORY:,1.  He is status post an appendectomy.,2.  Status post a tonsillectomy and adenoidectomy.,3.  Status post bilateral cataract surgery.,4.  BPH.\"\"\",\n",
        "\"\"\"The patient is a 40-year-old white male who presents with a chief complaint of \"chest pain\". The patient is diabetic and has a prior history of coronary artery disease. The patient presents today stating that his chest pain started yesterday evening and has been somewhat intermittent. He has been advised Aspirin 81 milligrams QDay. HISTORY OF PRESENT ILLNESS: , This is a 66-year-old gentleman status post deceased donor kidney transplant in 12/07,  who has had recurrent urinary retention issues since that time.  Most recently, he was hospitalized on 02/04/08 for acute renal insufficiency,  which was probably secondary to dehydration.  He was seen by urology again at this visit for urinary retention.  He had been seen by urology during a previous hospitalization and he passed his voiding trial at the time of his stent removal on 01/22/08.  Cystoscopy showed at that time obstructive BPH. During the most recent readmission on 02/04/08, he went back into urinary retention and he had had a Foley placed at the outside hospital.,PAST MEDICAL HISTORY:,1. End-stage renal disease, now status post deceased donor kidney transplant in 12/07.,2.  Hypertension.,3.  History of nephrolithiasis.,4. Gout.,5.  BPH.,6.  DJD., HOME MEDICATIONS: Clonidine 0.2 mg, Allopurinol , Oxybutynin , Aspirin , Omeprazole , Prednisone , Ganciclovir , Nystatin swish and swallow , Dapsone , Finasteride .ALLERGIES: No known drug allergies.\"\"\",\n",
        "\"\"\"HISTORY OF PRESENT ILLNESS: , This is a 61-year-old woman with a history of polyarteritis nodosa, mononeuritis multiplex involving the lower extremities, and severe sleep apnea returns in followup following an overnight sleep study, on CPAP and oxygen to evaluate her for difficulty in initiating and maintaining sleep.  She returns today to review results of an inpatient study performed approximately two weeks ago.,In the meantime, the patient reports she continues on substantial doses of opiate medication to control leg pain from mononeuritis multiplex.,The patient reports that she generally initiates sleep on CPAP, but rips her mask off, tosses and turns throughout the night and has \"terrible quality sleep.\",MEDICATIONS: , Current medications are as previously noted.  Changes include reduction in prednisone from 9 to 6 mg by mouth every morning. Her an immediate release morphine preparation, 45 to 75 mg by mouth every 8 hours as needed.ASSESSMENT:,1.  Obesity hypoventilation syndrome.  The patient has evidence of a well-compensated respiratory acidosis, which is probably primarily related to severe obesity.  In addition, there may be contribution from large doses of opiates and standing doses of gabapentin.,2.  Severe central sleep apnea, on CPAP at 10 cmH2O and supplemental oxygen at 8 liters per minute.  The breathing pattern is that of cluster or Biot's breathing throughout sleep.  The primary etiology is probably opiate use, with contribution with further exacerbation by severe obesity which acts to lower the baseline oxyhemoglobin saturation, and worsen desaturations during apneic episodes.\"\"\"\n",
        "]"
      ],
      "metadata": {
        "id": "jZ8GQHOgHibp"
      },
      "execution_count": 11,
      "outputs": []
    },
    {
      "cell_type": "code",
      "source": [
        "from pyspark.sql.types import StringType, IntegerType\n",
        "\n",
        "df = spark.createDataFrame(sample_text,StringType()).toDF('text')\n",
        "\n",
        "df.show(truncate = 100)"
      ],
      "metadata": {
        "colab": {
          "base_uri": "https://localhost:8080/"
        },
        "id": "qvCvj1hBI_09",
        "outputId": "f689d5ea-a51f-4b52-ea75-99927dc67da3"
      },
      "execution_count": 12,
      "outputs": [
        {
          "output_type": "stream",
          "name": "stdout",
          "text": [
            "+----------------------------------------------------------------------------------------------------+\n",
            "|                                                                                                text|\n",
            "+----------------------------------------------------------------------------------------------------+\n",
            "|Two weeks prior to presentation , she was treated with a five-day course of amoxicillin for a res...|\n",
            "|This 48-year-old woman returns in followup after a full-night sleep study performed to evaluate h...|\n",
            "|The patient returns to the Pulmonary Medicine Clinic for followup evaluation of interstitial dise...|\n",
            "|CHIEF COMPLAINT:,  Leg pain.,HISTORY OF PRESENT ILLNESS:,  This is a 56-year-old female who has p...|\n",
            "|This is an extremely pleasant 64-year-old gentleman who I am following for essential thrombocytos...|\n",
            "|The patient is a 40-year-old white male who presents with a chief complaint of \"chest pain\". The ...|\n",
            "|HISTORY OF PRESENT ILLNESS: , This is a 61-year-old woman with a history of polyarteritis nodosa,...|\n",
            "+----------------------------------------------------------------------------------------------------+\n",
            "\n"
          ]
        }
      ]
    },
    {
      "cell_type": "markdown",
      "source": [
        "## 5. Use the pipeline to create outputs"
      ],
      "metadata": {
        "id": "JAJGT8UcH1Q4"
      }
    },
    {
      "cell_type": "code",
      "source": [
        "limited_df = df.limit(2)\n",
        "\n",
        "result = model.transform(limited_df)\n",
        "\n",
        "result.select(F.explode(F.arrays_zip(\"ner_chunk.result\", \n",
        "                                      \"ner_chunk.begin\", \n",
        "                                      \"ner_chunk.end\",\n",
        "                                      \"ner_chunk.metadata\",\n",
        "                                      \"resolution.result\",\n",
        "                                      \"resolution.metadata\",)).alias(\"cols\"))\\\n",
        "      .select(F.expr(\"cols['0']\").alias(\"chunk\"),\n",
        "              F.expr(\"cols['1']\").alias(\"begin\"),\n",
        "              F.expr(\"cols['2']\").alias(\"end\"),\n",
        "              F.expr(\"cols['3']['entity']\").alias(\"entity\"),\n",
        "              F.expr(\"cols['4']\").alias(\"UML_code\"),\n",
        "              F.expr(\"cols['5']['all_k_results']\").alias(\"all_codes\"),\n",
        "              F.expr(\"cols['5']['all_k_resolutions']\").alias(\"resolutions\"),\n",
        "              F.expr(\"cols['5']['all_k_aux_labels']\").alias(\"RxNorm_Drug_Class\"),).show(truncate=40)"
      ],
      "metadata": {
        "id": "N0zbrDnKIC9z",
        "colab": {
          "base_uri": "https://localhost:8080/"
        },
        "outputId": "9db65d64-62f5-4b51-d7dd-513fb9b13dab"
      },
      "execution_count": 13,
      "outputs": [
        {
          "output_type": "stream",
          "name": "stdout",
          "text": [
            "+----------------+-----+---+------+--------+----------------------------------------+----------------------------------------+----------------------------------------+\n",
            "|           chunk|begin|end|entity|UML_code|                               all_codes|                             resolutions|                       RxNorm_Drug_Class|\n",
            "+----------------+-----+---+------+--------+----------------------------------------+----------------------------------------+----------------------------------------+\n",
            "|     amoxicillin|   76| 86|  DRUG|     723|723:::540141:::437527:::1152900:::370...|amoxicillin:::amoxicillinan:::amoxici...|Antibacterial:::Antibacterial:::Antib...|\n",
            "|   dapagliflozin|  135|147|  DRUG| 1488564|1488564:::1545653:::1992672:::1488566...|dapagliflozin:::empagliflozin:::ertug...|Sodium glucose cotransporter subtype ...|\n",
            "|    atorvastatin|  162|173|  DRUG|   83367|83367:::1158285:::1158284:::301542:::...|atorvastatin:::atorvastatin pill:::at...|HMG-CoA reductase inhibitor|3-hydroxy...|\n",
            "|   dapagliflozin|  201|213|  DRUG| 1488564|1488564:::1545653:::1992672:::1488566...|dapagliflozin:::empagliflozin:::ertug...|Sodium glucose cotransporter subtype ...|\n",
            "|insulin glargine|  347|362|  DRUG|  274783|274783:::1157459:::378864:::1740938::...|insulin glargine:::insulin glargine i...|Pancreatic hormone:::-:::-:::Pancreat...|\n",
            "|  insulin lispro|  387|400|  DRUG|   86009|86009:::1157461:::378841:::1652643:::...|insulin lispro:::insulin lispro injec...|Pancreatic hormone:::-:::-:::-:::Panc...|\n",
            "|       Methadone|  504|512|  DRUG|    6813|6813:::152751:::1161622:::379533:::11...|methadone:::methadose:::methadone pil...|Hormone|Gonadal hormone|Androgen rece...|\n",
            "|         Avalide|  542|548|  DRUG|  261454|261454:::151357:::352449:::744843:::3...|avalide:::anquil:::avage:::isentress:...|-:::-:::-:::-:::-:::-:::-:::-:::-:::-...|\n",
            "|       Albuterol|  565|573|  DRUG|     435|435:::221142:::142153:::149:::1154605...|albuterol:::pirbuterol acetate:::albu...|Beta-2 adrenergic receptor agonist|Be...|\n",
            "+----------------+-----+---+------+--------+----------------------------------------+----------------------------------------+----------------------------------------+\n",
            "\n"
          ]
        }
      ]
    },
    {
      "cell_type": "markdown",
      "source": [
        "## 6. Visualize results"
      ],
      "metadata": {
        "id": "Ral7MlWELIOX"
      }
    },
    {
      "cell_type": "code",
      "source": [
        "from sparknlp_display import EntityResolverVisualizer\n",
        "\n",
        "resolver_viz = EntityResolverVisualizer()\n",
        "\n",
        "\n",
        "for j in range(limited_df.count()):\n",
        "    resolver_viz.display(result = result.collect()[j], label_col = \"ner_chunk\", resolution_col=\"resolution\")\n",
        "    print(\"\\n\\n\")"
      ],
      "metadata": {
        "colab": {
          "base_uri": "https://localhost:8080/",
          "height": 829
        },
        "id": "Arm5huqwKum8",
        "outputId": "054f9aad-9f0d-4c4e-b294-005b1fb24027"
      },
      "execution_count": 14,
      "outputs": [
        {
          "output_type": "display_data",
          "data": {
            "text/plain": [
              "<IPython.core.display.HTML object>"
            ],
            "text/html": [
              "\n",
              "<style>\n",
              "    @import url('https://fonts.googleapis.com/css2?family=Montserrat:wght@300;400;500;600;700&display=swap');\n",
              "    @import url('https://fonts.googleapis.com/css2?family=Vistol Regular:wght@300;400;500;600;700&display=swap');\n",
              "    \n",
              "    .spark-nlp-display-scroll-entities {\n",
              "        border: 1px solid #E7EDF0;\n",
              "        border-radius: 3px;\n",
              "        text-align: justify;\n",
              "        \n",
              "    }\n",
              "    .spark-nlp-display-scroll-entities span {  \n",
              "        font-size: 14px;\n",
              "        line-height: 24px;\n",
              "        color: #536B76;\n",
              "        font-family: 'Montserrat', sans-serif !important;\n",
              "    }\n",
              "    \n",
              "    .spark-nlp-display-entity-wrapper{\n",
              "    \n",
              "        display: inline-grid;\n",
              "        text-align: center;\n",
              "        border-radius: 4px;\n",
              "        margin: 0 2px 5px 2px;\n",
              "        padding: 1px\n",
              "    }\n",
              "    .spark-nlp-display-entity-name{\n",
              "        font-size: 14px;\n",
              "        line-height: 24px;\n",
              "        font-family: 'Montserrat', sans-serif !important;\n",
              "        \n",
              "        background: #f1f2f3;\n",
              "        border-width: medium;\n",
              "        text-align: center;\n",
              "        \n",
              "        font-weight: 400;\n",
              "        \n",
              "        border-radius: 5px;\n",
              "        padding: 2px 5px;\n",
              "        display: block;\n",
              "        margin: 3px 2px;\n",
              "    \n",
              "    }\n",
              "    .spark-nlp-display-entity-type{\n",
              "        font-size: 14px;\n",
              "        line-height: 24px;\n",
              "        color: #ffffff;\n",
              "        font-family: 'Montserrat', sans-serif !important;\n",
              "        \n",
              "        text-transform: uppercase;\n",
              "        \n",
              "        font-weight: 500;\n",
              "\n",
              "        display: block;\n",
              "        padding: 3px 5px;\n",
              "    }\n",
              "    \n",
              "    .spark-nlp-display-entity-resolution{\n",
              "        font-size: 14px;\n",
              "        line-height: 24px;\n",
              "        color: #ffffff;\n",
              "        font-family: 'Vistol Regular', sans-serif !important;\n",
              "        \n",
              "        text-transform: uppercase;\n",
              "        \n",
              "        font-weight: 500;\n",
              "\n",
              "        display: block;\n",
              "        padding: 3px 5px;\n",
              "    }\n",
              "    \n",
              "    .spark-nlp-display-others{\n",
              "        font-size: 14px;\n",
              "        line-height: 24px;\n",
              "        font-family: 'Montserrat', sans-serif !important;\n",
              "        \n",
              "        font-weight: 400;\n",
              "    }\n",
              "\n",
              "</style>\n",
              " <span class=\"spark-nlp-display-others\" style=\"background-color: white\">Two weeks prior to presentation , she was treated with a five-day course of </span><span class=\"spark-nlp-display-entity-wrapper\" style=\"background-color: #8B668BB3\"><span class=\"spark-nlp-display-entity-name\">amoxicillin </span><span class=\"spark-nlp-display-entity-type\">DRUG</span><span class=\"spark-nlp-display-entity-resolution\" style=\"background-color: #8B668BFF\">723 </span><span class=\"spark-nlp-display-entity-resolution\" style=\"background-color: #8B668BCC\">amoxicillin</span></span><span class=\"spark-nlp-display-others\" style=\"background-color: white\"> for a respiratory tract infection . She was on </span><span class=\"spark-nlp-display-entity-wrapper\" style=\"background-color: #8B668BB3\"><span class=\"spark-nlp-display-entity-name\">dapagliflozin </span><span class=\"spark-nlp-display-entity-type\">DRUG</span><span class=\"spark-nlp-display-entity-resolution\" style=\"background-color: #8B668BFF\">1488564 </span><span class=\"spark-nlp-display-entity-resolution\" style=\"background-color: #8B668BCC\">dapagliflozin</span></span><span class=\"spark-nlp-display-others\" style=\"background-color: white\"> for T2DM and </span><span class=\"spark-nlp-display-entity-wrapper\" style=\"background-color: #8B668BB3\"><span class=\"spark-nlp-display-entity-name\">atorvastatin </span><span class=\"spark-nlp-display-entity-type\">DRUG</span><span class=\"spark-nlp-display-entity-resolution\" style=\"background-color: #8B668BFF\">83367 </span><span class=\"spark-nlp-display-entity-resolution\" style=\"background-color: #8B668BCC\">atorvastatin</span></span><span class=\"spark-nlp-display-others\" style=\"background-color: white\"> for HTG . She had been on </span><span class=\"spark-nlp-display-entity-wrapper\" style=\"background-color: #8B668BB3\"><span class=\"spark-nlp-display-entity-name\">dapagliflozin </span><span class=\"spark-nlp-display-entity-type\">DRUG</span><span class=\"spark-nlp-display-entity-resolution\" style=\"background-color: #8B668BFF\">1488564 </span><span class=\"spark-nlp-display-entity-resolution\" style=\"background-color: #8B668BCC\">dapagliflozin</span></span><span class=\"spark-nlp-display-others\" style=\"background-color: white\"> for six months at the time of presentation .The patient was seen by the endocrinology service and she was discharged on 40 units of </span><span class=\"spark-nlp-display-entity-wrapper\" style=\"background-color: #8B668BB3\"><span class=\"spark-nlp-display-entity-name\">insulin glargine </span><span class=\"spark-nlp-display-entity-type\">DRUG</span><span class=\"spark-nlp-display-entity-resolution\" style=\"background-color: #8B668BFF\">274783 </span><span class=\"spark-nlp-display-entity-resolution\" style=\"background-color: #8B668BCC\">insulin glargine</span></span><span class=\"spark-nlp-display-others\" style=\"background-color: white\"> at night , 12 units of </span><span class=\"spark-nlp-display-entity-wrapper\" style=\"background-color: #8B668BB3\"><span class=\"spark-nlp-display-entity-name\">insulin lispro </span><span class=\"spark-nlp-display-entity-type\">DRUG</span><span class=\"spark-nlp-display-entity-resolution\" style=\"background-color: #8B668BFF\">86009 </span><span class=\"spark-nlp-display-entity-resolution\" style=\"background-color: #8B668BCC\">insulin lispro</span></span><span class=\"spark-nlp-display-others\" style=\"background-color: white\"> with meals. </span></div>"
            ]
          },
          "metadata": {}
        },
        {
          "output_type": "stream",
          "name": "stdout",
          "text": [
            "\n",
            "\n",
            "\n"
          ]
        },
        {
          "output_type": "display_data",
          "data": {
            "text/plain": [
              "<IPython.core.display.HTML object>"
            ],
            "text/html": [
              "\n",
              "<style>\n",
              "    @import url('https://fonts.googleapis.com/css2?family=Montserrat:wght@300;400;500;600;700&display=swap');\n",
              "    @import url('https://fonts.googleapis.com/css2?family=Vistol Regular:wght@300;400;500;600;700&display=swap');\n",
              "    \n",
              "    .spark-nlp-display-scroll-entities {\n",
              "        border: 1px solid #E7EDF0;\n",
              "        border-radius: 3px;\n",
              "        text-align: justify;\n",
              "        \n",
              "    }\n",
              "    .spark-nlp-display-scroll-entities span {  \n",
              "        font-size: 14px;\n",
              "        line-height: 24px;\n",
              "        color: #536B76;\n",
              "        font-family: 'Montserrat', sans-serif !important;\n",
              "    }\n",
              "    \n",
              "    .spark-nlp-display-entity-wrapper{\n",
              "    \n",
              "        display: inline-grid;\n",
              "        text-align: center;\n",
              "        border-radius: 4px;\n",
              "        margin: 0 2px 5px 2px;\n",
              "        padding: 1px\n",
              "    }\n",
              "    .spark-nlp-display-entity-name{\n",
              "        font-size: 14px;\n",
              "        line-height: 24px;\n",
              "        font-family: 'Montserrat', sans-serif !important;\n",
              "        \n",
              "        background: #f1f2f3;\n",
              "        border-width: medium;\n",
              "        text-align: center;\n",
              "        \n",
              "        font-weight: 400;\n",
              "        \n",
              "        border-radius: 5px;\n",
              "        padding: 2px 5px;\n",
              "        display: block;\n",
              "        margin: 3px 2px;\n",
              "    \n",
              "    }\n",
              "    .spark-nlp-display-entity-type{\n",
              "        font-size: 14px;\n",
              "        line-height: 24px;\n",
              "        color: #ffffff;\n",
              "        font-family: 'Montserrat', sans-serif !important;\n",
              "        \n",
              "        text-transform: uppercase;\n",
              "        \n",
              "        font-weight: 500;\n",
              "\n",
              "        display: block;\n",
              "        padding: 3px 5px;\n",
              "    }\n",
              "    \n",
              "    .spark-nlp-display-entity-resolution{\n",
              "        font-size: 14px;\n",
              "        line-height: 24px;\n",
              "        color: #ffffff;\n",
              "        font-family: 'Vistol Regular', sans-serif !important;\n",
              "        \n",
              "        text-transform: uppercase;\n",
              "        \n",
              "        font-weight: 500;\n",
              "\n",
              "        display: block;\n",
              "        padding: 3px 5px;\n",
              "    }\n",
              "    \n",
              "    .spark-nlp-display-others{\n",
              "        font-size: 14px;\n",
              "        line-height: 24px;\n",
              "        font-family: 'Montserrat', sans-serif !important;\n",
              "        \n",
              "        font-weight: 400;\n",
              "    }\n",
              "\n",
              "</style>\n",
              " <span class=\"spark-nlp-display-others\" style=\"background-color: white\">This 48-year-old woman returns in followup after a full-night sleep study performed to evaluate her for daytime fatigue and insomnia.,  PAST MEDICAL HISTORY:,1.  Depression.,2.  Hepatitis C.,3.  Hypertension.,4.  Inhaled and intravenous drug abuse history.,The patient has a history of smoking two packs per day of cigarettes for approximately 25 pounds.  She also has a history of recurrent atypical chest pain for which she has been evaluated.,MEDICATIONS: , Current medications include the following: </span><span class=\"spark-nlp-display-entity-wrapper\" style=\"background-color: #8B668BB3\"><span class=\"spark-nlp-display-entity-name\">Methadone </span><span class=\"spark-nlp-display-entity-type\">DRUG</span><span class=\"spark-nlp-display-entity-resolution\" style=\"background-color: #8B668BFF\">6813 </span><span class=\"spark-nlp-display-entity-resolution\" style=\"background-color: #8B668BCC\">methadone</span></span><span class=\"spark-nlp-display-others\" style=\"background-color: white\"> 110 mg by mouth every day , </span><span class=\"spark-nlp-display-entity-wrapper\" style=\"background-color: #8B668BB3\"><span class=\"spark-nlp-display-entity-name\">Avalide </span><span class=\"spark-nlp-display-entity-type\">DRUG</span><span class=\"spark-nlp-display-entity-resolution\" style=\"background-color: #8B668BFF\">261454 </span><span class=\"spark-nlp-display-entity-resolution\" style=\"background-color: #8B668BCC\">avalide</span></span><span class=\"spark-nlp-display-others\" style=\"background-color: white\"> (irbesartan)., </span><span class=\"spark-nlp-display-entity-wrapper\" style=\"background-color: #8B668BB3\"><span class=\"spark-nlp-display-entity-name\">Albuterol </span><span class=\"spark-nlp-display-entity-type\">DRUG</span><span class=\"spark-nlp-display-entity-resolution\" style=\"background-color: #8B668BFF\">435 </span><span class=\"spark-nlp-display-entity-resolution\" style=\"background-color: #8B668BCC\">albuterol</span></span><span class=\"spark-nlp-display-others\" style=\"background-color: white\"> .</span></div>"
            ]
          },
          "metadata": {}
        },
        {
          "output_type": "stream",
          "name": "stdout",
          "text": [
            "\n",
            "\n",
            "\n"
          ]
        }
      ]
    }
  ]
}
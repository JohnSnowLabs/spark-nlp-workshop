{
  "nbformat": 4,
  "nbformat_minor": 0,
  "metadata": {
    "colab": {
      "name": "ER_SNOMED.ipynb",
      "provenance": [],
      "collapsed_sections": []
    },
    "kernelspec": {
      "name": "python3",
      "display_name": "Python 3"
    },
    "language_info": {
      "name": "python"
    }
  },
  "cells": [
    {
      "cell_type": "markdown",
      "source": [
        "![JohnSnowLabs](https://nlp.johnsnowlabs.com/assets/images/logo.png)\n",
        "\n",
        "[![Open In Colab](https://colab.research.google.com/assets/colab-badge.svg)](https://colab.research.google.com/github/JohnSnowLabs/spark-nlp-workshop/blob/master/tutorials/streamlit_notebooks/healthcare/ER_SNOMED.ipynb)"
      ],
      "metadata": {
        "id": "DkewGjPcOx6I"
      }
    },
    {
      "cell_type": "markdown",
      "source": [
        "## **Resolve Clinical Health Information using the SNOMED taxonomy**"
      ],
      "metadata": {
        "id": "IS3_j-0iQdBV"
      }
    },
    {
      "cell_type": "markdown",
      "source": [
        "To run this yourself, you will need to upload your license keys to the notebook. Just Run The Cell Below in order to do that. Also You can open the file explorer on the left side of the screen and upload license_keys.json to the folder that opens. Otherwise, you can look at the example outputs at the bottom of the notebook."
      ],
      "metadata": {
        "id": "KDkzvQZ_Qamk"
      }
    },
    {
      "cell_type": "markdown",
      "source": [
        "## **Colab Setup**"
      ],
      "metadata": {
        "id": "J4B-wEgRbtvE"
      }
    },
    {
      "cell_type": "code",
      "source": [
        "import json\n",
        "import os\n",
        "\n",
        "from google.colab import files\n",
        "\n",
        "license_keys = files.upload()\n",
        "\n",
        "with open(list(license_keys.keys())[0]) as f:\n",
        "    license_keys = json.load(f)\n",
        "\n",
        "# Defining license key-value pairs as local variables\n",
        "locals().update(license_keys)\n",
        "\n",
        "# Adding license key-value pairs to environment variables\n",
        "os.environ.update(license_keys)"
      ],
      "metadata": {
        "id": "rx48KRRHQb1t"
      },
      "execution_count": null,
      "outputs": []
    },
    {
      "cell_type": "markdown",
      "source": [
        "## **Install dependencies**"
      ],
      "metadata": {
        "id": "GFIaJwf3b49x"
      }
    },
    {
      "cell_type": "code",
      "source": [
        "# Installing pyspark and spark-nlp\n",
        "! pip install --upgrade -q pyspark==3.1.2 spark-nlp==$PUBLIC_VERSION\n",
        "\n",
        "# Installing Spark NLP Healthcare\n",
        "! pip install --upgrade -q spark-nlp-jsl==$JSL_VERSION  --extra-index-url https://pypi.johnsnowlabs.com/$SECRET\n",
        "\n",
        "# Installing Spark NLP Display Library for visualization\n",
        "! pip install -q spark-nlp-display"
      ],
      "metadata": {
        "id": "M4-mJYqjb-eb"
      },
      "execution_count": null,
      "outputs": []
    },
    {
      "cell_type": "markdown",
      "source": [
        "## **Import dependencies into Python and start the Spark session**"
      ],
      "metadata": {
        "id": "7gKSyPtUcHHW"
      }
    },
    {
      "cell_type": "code",
      "source": [
        "import json\n",
        "import os\n",
        "\n",
        "from pyspark.ml import Pipeline, PipelineModel\n",
        "from pyspark.sql import SparkSession\n",
        "\n",
        "import sparknlp\n",
        "import sparknlp_jsl\n",
        "\n",
        "from sparknlp.annotator import *\n",
        "from sparknlp_jsl.annotator import *\n",
        "from sparknlp.base import *\n",
        "from sparknlp.util import *\n",
        "from sparknlp.pretrained import ResourceDownloader\n",
        "from pyspark.sql import functions as F\n",
        "\n",
        "from sparknlp_display import EntityResolverVisualizer\n",
        "\n",
        "import pandas as pd\n",
        "\n",
        "pd.set_option('display.max_columns', None)  \n",
        "pd.set_option('display.expand_frame_repr', False)\n",
        "pd.set_option('max_colwidth', None)\n",
        "\n",
        "import string\n",
        "import numpy as np\n",
        "\n",
        "params = {\"spark.driver.memory\":\"16G\",\n",
        "          \"spark.kryoserializer.buffer.max\":\"2000M\",\n",
        "          \"spark.driver.maxResultSize\":\"2000M\"}\n",
        "\n",
        "spark = sparknlp_jsl.start(secret = SECRET, params=params)\n",
        "\n",
        "print (\"Spark NLP Version :\", sparknlp.version())\n",
        "print (\"Spark NLP_JSL Version :\", sparknlp_jsl.version())\n",
        "\n",
        "spark"
      ],
      "metadata": {
        "colab": {
          "base_uri": "https://localhost:8080/",
          "height": 244
        },
        "id": "SjV0OjIrcAAH",
        "outputId": "d346ebbd-c150-4632-b5b5-fe6e0fcdd384"
      },
      "execution_count": 3,
      "outputs": [
        {
          "output_type": "stream",
          "name": "stdout",
          "text": [
            "Spark NLP Version : 3.4.4\n",
            "Spark NLP_JSL Version : 3.5.2\n"
          ]
        },
        {
          "output_type": "execute_result",
          "data": {
            "text/plain": [
              "<pyspark.sql.session.SparkSession at 0x7f5aad223710>"
            ],
            "text/html": [
              "\n",
              "            <div>\n",
              "                <p><b>SparkSession - in-memory</b></p>\n",
              "                \n",
              "        <div>\n",
              "            <p><b>SparkContext</b></p>\n",
              "\n",
              "            <p><a href=\"http://6da1424b425e:4040\">Spark UI</a></p>\n",
              "\n",
              "            <dl>\n",
              "              <dt>Version</dt>\n",
              "                <dd><code>v3.1.2</code></dd>\n",
              "              <dt>Master</dt>\n",
              "                <dd><code>local[*]</code></dd>\n",
              "              <dt>AppName</dt>\n",
              "                <dd><code>Spark NLP Licensed</code></dd>\n",
              "            </dl>\n",
              "        </div>\n",
              "        \n",
              "            </div>\n",
              "        "
            ]
          },
          "metadata": {},
          "execution_count": 3
        }
      ]
    },
    {
      "cell_type": "markdown",
      "source": [
        "# **🔎 For about models**"
      ],
      "metadata": {
        "id": "n4aVRb9ucNv_"
      }
    },
    {
      "cell_type": "markdown",
      "source": [
        "📌 **sbiobertresolve_clinical_snomed_procedures_measurements**--> *This model maps medical entities to SNOMED codes using sent_biobert_clinical_base_cased Sentence Bert Embeddings. The corpus of this model includes Procedures and Measurement domains.*\n",
        "\n",
        "\n",
        "📌 **sbiobertresolve_snomed_drug** --> *This model maps detected drug entities to SNOMED codes using sbiobert_base_cased_mli Sentence Bert Embeddings.*\n",
        "\n"
      ],
      "metadata": {
        "id": "pB2qHxOlcRo-"
      }
    },
    {
      "cell_type": "markdown",
      "source": [
        "📌"
      ],
      "metadata": {
        "id": "i46STfUsZfDS"
      }
    },
    {
      "cell_type": "markdown",
      "source": [
        "# **🔎 \"sbiobertresolve_clinical_snomed_procedures_measurements\" model**"
      ],
      "metadata": {
        "id": "5ujahtDoiJXy"
      }
    },
    {
      "cell_type": "markdown",
      "source": [
        "### **🔎Define Spark NLP pipeline**"
      ],
      "metadata": {
        "id": "6ysJAMTLfcnO"
      }
    },
    {
      "cell_type": "code",
      "source": [
        "documentAssembler = DocumentAssembler()\\\n",
        "      .setInputCol(\"text\")\\\n",
        "      .setOutputCol(\"document\")\n",
        "\n",
        "sentenceDetector = SentenceDetectorDLModel.pretrained(\"sentence_detector_dl_healthcare\",\"en\",\"clinical/models\")\\\n",
        "    .setInputCols([\"document\"])\\\n",
        "    .setOutputCol(\"sentence\")\n",
        "\n",
        "tokenizer = Tokenizer()\\\n",
        "      .setInputCols([\"sentence\"])\\\n",
        "      .setOutputCol(\"token\")\\\n",
        "\n",
        "word_embeddings = WordEmbeddingsModel.pretrained(\"embeddings_clinical\", \"en\", \"clinical/models\")\\\n",
        "      .setInputCols([\"sentence\", \"token\"])\\\n",
        "      .setOutputCol(\"embeddings\")\n",
        "\n",
        "\n",
        "clinical_ner = MedicalNerModel.pretrained('ner_clinical', \"en\", \"clinical/models\") \\\n",
        "      .setInputCols([\"sentence\", \"token\", \"embeddings\"]) \\\n",
        "      .setOutputCol(\"ner\")\n",
        "\n",
        "\n",
        "ner_converter = NerConverter() \\\n",
        "      .setInputCols([\"sentence\", \"token\", \"ner\"]) \\\n",
        "      .setOutputCol(\"ner_chunk\")\n",
        "\n",
        "c2doc = Chunk2Doc()\\\n",
        "      .setInputCols(\"ner_chunk\")\\\n",
        "      .setOutputCol(\"ner_chunk_doc\") \n",
        "\n",
        "sbert_embedder = BertSentenceEmbeddings\\\n",
        "      .pretrained('sent_biobert_clinical_base_cased','en')\\\n",
        "      .setInputCols([\"ner_chunk_doc\"])\\\n",
        "      .setOutputCol(\"sbert_embeddings\")\n",
        "\n",
        "snomed_resolver = SentenceEntityResolverModel.pretrained('sbiobertresolve_clinical_snomed_procedures_measurements', \"en\", 'clinical/models') \\\n",
        "        .setInputCols([\"ner_chunk\", \"sbert_embeddings\"]) \\\n",
        "        .setOutputCol(\"snomed_code\")\\\n",
        "        .setDistanceFunction(\"EUCLIDEAN\")\n",
        "\n",
        "resolver_pipeline = Pipeline(\n",
        "      stages = [\n",
        "          documentAssembler,\n",
        "          sentenceDetector,\n",
        "          tokenizer,\n",
        "          word_embeddings,\n",
        "          clinical_ner,\n",
        "          ner_converter,\n",
        "          c2doc,\n",
        "          sbert_embedder,\n",
        "          snomed_resolver])\n",
        "\n",
        "data_ner = spark.createDataFrame([[\"\"]]).toDF(\"text\")\n",
        "models = resolver_pipeline.fit(data_ner)\n",
        "light_model = LightPipeline(models)"
      ],
      "metadata": {
        "colab": {
          "base_uri": "https://localhost:8080/"
        },
        "id": "BDsHfpMEfZmR",
        "outputId": "637cb998-0d57-41d2-faca-c668ecb9d42c"
      },
      "execution_count": 15,
      "outputs": [
        {
          "output_type": "stream",
          "name": "stdout",
          "text": [
            "sentence_detector_dl_healthcare download started this may take some time.\n",
            "Approximate size to download 367.3 KB\n",
            "[OK!]\n",
            "embeddings_clinical download started this may take some time.\n",
            "Approximate size to download 1.6 GB\n",
            "[OK!]\n",
            "ner_clinical download started this may take some time.\n",
            "[OK!]\n",
            "sent_biobert_clinical_base_cased download started this may take some time.\n",
            "Approximate size to download 386.6 MB\n",
            "[OK!]\n",
            "sbiobertresolve_clinical_snomed_procedures_measurements download started this may take some time.\n",
            "[OK!]\n"
          ]
        }
      ]
    },
    {
      "cell_type": "code",
      "source": [
        "# returns spark df resolution results\n",
        "\n",
        "def get_codes_from_df(result_df, chunk, output_col, hcc= False):\n",
        "    \n",
        "    \n",
        "    if hcc:\n",
        "        \n",
        "        df = result_df.select(F.explode(F.arrays_zip(chunk+'.result', \n",
        "                                                           chunk+'.metadata', \n",
        "                                                           output_col+'.result', \n",
        "                                                           output_col+'.metadata')).alias(\"cols\")) \\\n",
        "                                     .select(F.expr(\"cols['1']['sentence']\").alias(\"sent_id\"),\n",
        "                                             F.expr(\"cols['0']\").alias(\"ner_chunk\"),\n",
        "                                             F.expr(\"cols['1']['entity']\").alias(\"entity\"), \n",
        "                                             F.expr(\"cols['2']\").alias(\"icd10_code\"),\n",
        "                                             F.expr(\"cols['3']['all_k_results']\").alias(\"all_codes\"),\n",
        "                                             F.expr(\"cols['3']['all_k_resolutions']\").alias(\"resolutions\"),\n",
        "                                             F.expr(\"cols['3']['all_k_aux_labels']\").alias(\"hcc_list\")).toPandas()\n",
        "\n",
        "\n",
        "\n",
        "        codes = []\n",
        "        resolutions = []\n",
        "        hcc_all = []\n",
        "\n",
        "        for code, resolution, hcc in zip(df['all_codes'], df['resolutions'], df['hcc_list']):\n",
        "\n",
        "            codes.append(code.split(':::'))\n",
        "            resolutions.append(resolution.split(':::'))\n",
        "            hcc_all.append(hcc.split(\":::\"))\n",
        "\n",
        "        df['all_codes'] = codes  \n",
        "        df['resolutions'] = resolutions\n",
        "        df['hcc_list'] = hcc_all\n",
        "        \n",
        "    else:\n",
        "                       \n",
        "        df = result_df.select(F.explode(F.arrays_zip(chunk+'.result', \n",
        "                                                           chunk+'.metadata', \n",
        "                                                           output_col+'.result', \n",
        "                                                           output_col+'.metadata')).alias(\"cols\")) \\\n",
        "                                     .select(F.expr(\"cols['1']['sentence']\").alias(\"sent_id\"),\n",
        "                                             F.expr(\"cols['0']\").alias(\"ner_chunk\"),\n",
        "                                             F.expr(\"cols['1']['entity']\").alias(\"entity\"), \n",
        "                                             F.expr(\"cols['2']\").alias(f\"{output_col}\"),\n",
        "                                             F.expr(\"cols['3']['all_k_results']\").alias(\"all_codes\"),\n",
        "                                             F.expr(\"cols['3']['all_k_resolutions']\").alias(\"resolutions\")).toPandas()\n",
        "\n",
        "\n",
        "\n",
        "        codes = []\n",
        "        resolutions = []\n",
        "\n",
        "        for code, resolution in zip(df['all_codes'], df['resolutions']):\n",
        "\n",
        "            codes.append(code.split(':::'))\n",
        "            resolutions.append(resolution.split(':::'))\n",
        "\n",
        "        df['all_codes'] = codes  \n",
        "        df['resolutions'] = resolutions\n",
        "        \n",
        "    \n",
        "    return df"
      ],
      "metadata": {
        "id": "F2Rx6WmtqsPH"
      },
      "execution_count": 10,
      "outputs": []
    },
    {
      "cell_type": "code",
      "source": [
        "sample_text = \"\"\"Nature and course of the diagnosis has been discussed with the patient. Based on her presentation without any history of obvious fall or trauma and past history of malignant melanoma. At the present time, I would recommend obtaining a bone scan and repeat x-rays, which will include AP pelvis, femur, hip including knee.  She denies any pain elsewhere , at the present time, this appears to be fracture.\n",
        "\n",
        "With the above fracture and presentation, she needs a left hip hemiarthroplasty versus cemented type. Indication, risk, and benefits of left hip hemiarthroplasty has been discussed with the patient, which includes, but not limited to bleeding, infection, blood vessel injury, dislocation early and late, persistent pain,  myositis ossificans, need for conversion to total hip replacement surgery, revision surgery, pulmonary embolism, risk of anesthesia, need for blood transfusion, and cardiac arrest. She understands above and is willing to undergo further procedure. The goal and the functional outcome have been explained. Further plan will be discussed with her once we obtain the bone scan and the radiographic studies. We will also await for the oncology feedback and clearance.\"\"\"\n",
        "    \n",
        "\n",
        "clinical_note_df = spark.createDataFrame([[sample_text]]).toDF(\"text\")\n",
        "\n",
        "snomed_result = models.transform(clinical_note_df)"
      ],
      "metadata": {
        "id": "Z69rUpeWqwxM"
      },
      "execution_count": 20,
      "outputs": []
    },
    {
      "cell_type": "code",
      "source": [
        "res_pd = get_codes_from_df(snomed_result, 'ner_chunk', 'snomed_code', hcc=False)"
      ],
      "metadata": {
        "id": "R2FtclDWrHwo"
      },
      "execution_count": 21,
      "outputs": []
    },
    {
      "cell_type": "code",
      "source": [
        "res_pd.head(10)"
      ],
      "metadata": {
        "colab": {
          "base_uri": "https://localhost:8080/",
          "height": 1000
        },
        "id": "-JYiv72Cs9O0",
        "outputId": "730158d4-63ff-4b38-9d37-3812ea71110f"
      },
      "execution_count": 22,
      "outputs": [
        {
          "output_type": "execute_result",
          "data": {
            "text/plain": [
              "  sent_id                             ner_chunk     entity      snomed_code                                                                                                                                                                                                                                                                            all_codes                                                                                                                                                                                                                                                                                                                                                                                                                                                                                                                                                                                                                                                                                                                                                                                                                                                                                                                                                                                                                                                                                                                                resolutions\n",
              "0       1                                trauma    PROBLEM        164315006                    [164315006, 105040009, 845791000000106, 386405009, 171350003, 52527007, 310486006, 6108008, 273993002, 273373001, 281116008, 178107009, 446391000124101, 848121000000104, 178106000, 397164006, 273883005, 723357000, 865926005, 252925009, 164307008, 273928003]                                                                                                                                                                                                                                                                                                                         [O/E - fever - fast fall-crisis, Heavy metal screen, Reinsch method, Black fracture index, Rape trauma treatment, Road traffic accident injury examination, Intelligence test/S-B, Limb exsanguination by gravity, Subdural tap through fontanel, infant, initial, Meninges operation, Cocaine abuse assessment profile, Health of the Nation Outcome Scale item 2 - non-accidental self injury, Aspiration of ganglion - foot, National Cancer Institute common terminology criteria for adverse events, Post-traumatic stress disorder impact of events scale, Aspiration of ganglion - ankle, Batch-Spittler-McFaddin amputation, Trauma index, Chapman reflex treatment method, Headache Impact Test-6, Stamey test - infection localization, O/E - fever - acute rise, Westmead Post-Traumatic Amnesia Scale]\n",
              "1       1                    malignant melanoma    PROBLEM        254347002                                                                                                                [254347002, 254325002, 254343003, 254349004, 254346006, 254345005, 254348007, 254324003, 254352007, 258284008, 258292004, 106246001, 254319001, 417957003, 396518001]                                                                                                                                                                                                                                                                                                                                                                                                                                                                                                  [TNM Malignant melanoma of iris staging, TNM Malignant melanoma of skin staging, TNM Malignant melanoma of eyelid staging, TNM Malignant melanoma of choroid staging, TNM Malignant melanoma of uvea staging, TNM Malignant melanoma of conjunctiva staging, TNM Malignant melanoma of ciliary body staging, TNM Carcinoma of skin tumor staging, TNM Lacrimal gland carcinoma staging, Stannards retinoblastoma stages, Lymph nodal tumor invasion status in retinoblastoma staging, FIGO staging system for vulvar melanoma, TNM Pleural mesothelioma tumor staging, Uveal metastasis, Distance of malignant melanoma from deep margin]\n",
              "2       2                           a bone scan       TEST         61553000  [61553000, 168654006, 1129461000000103, 113113000, 432635009, 241463004, 24737001, 281621005, 432056005, 241478006, 169238009, 168681006, 168775008, 169237004, 40701008, 1083711000000109, 168717009, 241511008, 241497006, 116152004, 427253008, 241490008, 431900006, 241472007]                                                                                                                                                                                                                                                                                                                                                                                                                                                   [Ophthalmic biometry by ultrasound echography, A-mode, Stress X-ray thumb, Automated ultrasonography of breast, Ophthalmic echography, A-mode, Ultrasonography of axilla, US scan of neck vessels, Echography of scrotum and contents, Cast dental study model, Radionuclide dynamic bone imaging, US scan of psoas, US skull scan, Stress X-ray knee, Soft tissue X-ray limbs, US brain scan, Echocardiography, Heel quantitative ultrasound scan T score, Soft tissue X-ray nose, US scan of leg lengthening, US scan of shoulder joint, Spiral computed tomography scan, US scan of lower leg, Infertility US scan, MRI guided marking of skin of spine, US scan of transplant liver]\n",
              "3       2                         repeat x-rays       TEST        168654006                   [168654006, 268428008, 171229005, 42075002, 168731009, 168637003, 168702005, 168717009, 303937007, 84492002, 168681006, 60619004, 168775008, 79760008, 241082003, 281616007, 312363006, 168729000, 312814004, 168770003, 168713008, 61553000, 241089007, 52221007]                                                                                                                                                                                                                                                                                                                                                                                                                                                                                                  [Stress X-ray thumb, Erect abdominal X-ray, Screening chest X-ray, Diagnostic radiography of skull, Standard chest X-ray, Plain X-ray radius, Plain X-ray abdomen, Soft tissue X-ray nose, Plain X-ray techniques, Radiography of nasal sinuses, Stress X-ray knee, Diagnostic radiography of finger, Soft tissue X-ray limbs, Radiography of spine, Hallux X-ray, Trunk soft tissue X-ray, Ultrasound scan of lower limb veins, Soft tissue X-ray tongue, Ultrasound scan of upper limb veins, Soft tissue X-ray kidney, Soft tissue X-ray face, Ophthalmic biometry by ultrasound echography, A-mode, Ilium X-ray, Radiography of foot]\n",
              "4       2  AP pelvis, femur, hip including knee       TEST   12311000087102                                                        [12311000087102, 40348008, 11541000087104, 11421000087107, 721043004, 21301000087103, 406451000119107, 431892005, 432672003, 15351000087106, 16731000087109, 15321000087104, 716679005, 702514009, 702513003, 14871000087107]                                                                                                                                                                                                                                                                                                                                                                                                                                        [MRI of pelvis and bilateral hips, Skeletal X-ray of pelvis and hip, MRI of pelvis and right hip, MRI of pelvis and left hip, Dual energy computed tomography of neck, thorax, abdomen and pelvis, MRI of pelvis and bilateral hips with contrast, Plain X-ray of pelvis, frog leg view, X-ray of lumbar spine and pelvis, MRI of pelvis and hip, CT of pelvis and bilateral hips with contrast, MRI of pelvis and lower extremity, CT of pelvis and bilateral hips, Plain x-ray of pelvis and lower extremity, Computed tomography of abdomen, pelvis and lumbar spine with contrast, Computed tomography of abdomen, pelvis and lumbar spine, CT angiography of abdomen, pelvis and lumbar spine]\n",
              "5       3                              any pain    PROBLEM        408950005           [408950005, 710855004, 494711000000101, 247375001, 763306003, 713131007, 423184003, 274796008, 709480005, 273685000, 444821009, 164299002, 810601000000106, 225784007, 273454004, 737899003, 770637008, 709264002, 197091000000103, 273538004, 273904000, 810621000000102]                                                                                                                                                                                                                                                                                                                                                                                                                            [Acute pain control, Assessment for sign of discomfort, Brief pain inventory, Arc of pain in joint, Abbey Pain Scale, Assessment of dizziness, Adult pain assessment, Examination of pain sensation, Assessment of hyperalgesia, Pain diary, Assessment of chest pain, O/E - level of fever, Self-completed Leeds assessment of neuropathic symptoms and signs pain scale, Preventing pain, Fear of AIDS scale, Management of counseling for change in body image, Assessment using Abbey Pain Scale, Assessment of allodynia, Lower back pain assessment, IOWA low back rating scale, Visual analog pain scale, Assessment using self-completed Leeds assessment of neuropathic symptoms and signs pain scale]\n",
              "6       3                              fracture    PROBLEM  845791000000106    [845791000000106, 179212005, 183668008, 179140008, 171745006, 179183002, 20781004, 178106000, 178107009, 229509005, 178102003, 178851002, 6108008, 252697005, 787795000, 38014004, 229435008, 70590006, 86665000, 304702006, 6082008, 178105001, 736953005, 266788000, 302361003]                                                                                                                                                                                                 [Black fracture index, Primary skeletal traction of fracture, Total avulsion of nail plate, Primary functional bracing of fracture, Freeing of spinal tether, Primary skin traction of fracture, Partial excision of nail and nail matrix, Aspiration of ganglion - ankle, Aspiration of ganglion - foot, Graduated compression bandaging, Aspiration of ganglion - wrist, Metacarpal support operation on carpus, Subdural tap through fontanel, infant, initial, Upper limb tension test, Lateral epicondylitis test, Disarticulation through wrist, reamputation, Lower limb neural tension test, Elevation of skull fracture fragments, Wedging of clubfoot cast, Traumatic incident reduction, Perforation of footplate, Aspiration of ganglion - knee, FRAX (fracture risk assessment tool) hip fracture probability assessment tool, Infixed bone pin traction, Cystoscopic extraction of ureteric calculus without disintegration]\n",
              "7       4                    the above fracture    PROBLEM        179183002                 [179183002, 229450004, 224591000000106, 78840003, 179212005, 171745006, 275176004, 229447002, 59875008, 179140008, 112740000, 90681004, 179184008, 179825009, 302382009, 8717008, 431986003, 2442008, 76177002, 439448004, 439875003, 257861006, 24433001, 63756002]  [Primary skin traction of fracture, Manipulation of the inferior radioulnar joint - non-surgical, Complex reduction of abnormal tissue to free spinal cord, Crushing of nasal septum, Primary skeletal traction of fracture, Freeing of spinal tether, MUA - Manipulation under anesthetic of fractured nasal bones, Manipulation of the superior radioulnar joint - non-surgical, Open reduction of open sternoclavicular dislocation, acute, Primary functional bracing of fracture, Open reduction of closed sternoclavicular dislocation, acute, Suture of spinal dura mater, Revision to skin traction of fracture, Stabilization of joint by repair of capsule, Breech extraction with internal podalic version, Reduction of open zygomatic arch fracture using a towel clip, MRI of sternoclavicular joint, Incision of lacrimal canaliculus, Dermabrasion of tattoo, Incision of clavicle without division, Incision of humerus without division, Hook elevation of zygomatic fracture, Manual reduction of closed fracture of greater tuberosity of humerus, Reduction of closed trimalleolar ankle fracture with manipulation]\n",
              "8       4           a left hip hemiarthroplasty  TREATMENT        723251002    [723251002, 785850002, 735196007, 735262008, 386649003, 248811000000107, 734003004, 735261001, 735194005, 239469004, 280469005, 280464000, 179423007, 47458005, 735193004, 179421009, 179321008, 63544001, 280460009, 448649009, 275177008, 15163009, 280462001, 448341000124106]                                                                                                                                                                                            [Hemiarthroplasty of left shoulder, Reverse prosthetic total arthroplasty of shoulder, Revision of left total hip arthroplasty, Revision of left total knee arthroplasty, Partial hip replacement by prosthesis, Conversion of hip arthroplasty, Revision of total arthroplasty of right shoulder, Revision of right total knee arthroplasty, Revision of right total hip arthroplasty, Prosthetic hemiarthroplasty of the shoulder, Revision of elbow arthroplasty, Revision of shoulder arthroplasty, Revision cemented hemiarthroplasty of shoulder, Repair of hip, Revision of total hip arthroplasty, Primary cemented hemiarthroplasty of shoulder, Revision cemented hemiarthroplasty of hip, Arthroplasty of finger, Revision of hip arthroplasty, Prosthetic hemiarthroplasty of articulation of bone, Forefoot arthroplasty, Total arthroplasty of hip, low friction, Revision of knee arthroplasty, Arthroplasty of right hip joint]\n",
              "9       4                         cemented type  TREATMENT         41294004                                   [41294004, 234803005, 53213008, 234797006, 78185000, 5016005, 10372006, 234798001, 76585002, 56159008, 19955001, 90564003, 39070008, 20882001, 14549001, 179406003, 42114005, 237561000000106, 83200007, 18057002, 234802000, 179402001, 13808002]                                                                                                                                                                                                                                [Silicate cement, per restoration, Fit veneer to tooth, Restoration, silicate, Final cementation of crown to tooth - laboratory constructed, Pontic cast, high noble metal, Pontic, resin with high noble metal, Pontic cast, predominantly base metal, Final cementation of crown to tooth - preformed, Crown, full cast predominantly base metal, Pontic, porcelain fused to high noble metal, Pontic, resin with predominantly base metal, Field block design and fabrication, Crown, resin with high noble metal, Crown, resin with predominantly base metal, Retainers, cast metal for acid etched fixed prosthesis, Conversion from cemented unicompartmental knee replacement, WR stage 1, Second stage attachment of fixtures for nasal prosthesis, WR stage 6, Crown, porcelain fused to predominantly base metal, Fit post core to tooth, Cemented unicompartmental knee replacement, WR stage 3]"
            ],
            "text/html": [
              "\n",
              "  <div id=\"df-32cb38bd-0e39-4d59-ae58-7ccd32ca5b18\">\n",
              "    <div class=\"colab-df-container\">\n",
              "      <div>\n",
              "<style scoped>\n",
              "    .dataframe tbody tr th:only-of-type {\n",
              "        vertical-align: middle;\n",
              "    }\n",
              "\n",
              "    .dataframe tbody tr th {\n",
              "        vertical-align: top;\n",
              "    }\n",
              "\n",
              "    .dataframe thead th {\n",
              "        text-align: right;\n",
              "    }\n",
              "</style>\n",
              "<table border=\"1\" class=\"dataframe\">\n",
              "  <thead>\n",
              "    <tr style=\"text-align: right;\">\n",
              "      <th></th>\n",
              "      <th>sent_id</th>\n",
              "      <th>ner_chunk</th>\n",
              "      <th>entity</th>\n",
              "      <th>snomed_code</th>\n",
              "      <th>all_codes</th>\n",
              "      <th>resolutions</th>\n",
              "    </tr>\n",
              "  </thead>\n",
              "  <tbody>\n",
              "    <tr>\n",
              "      <th>0</th>\n",
              "      <td>1</td>\n",
              "      <td>trauma</td>\n",
              "      <td>PROBLEM</td>\n",
              "      <td>164315006</td>\n",
              "      <td>[164315006, 105040009, 845791000000106, 386405009, 171350003, 52527007, 310486006, 6108008, 273993002, 273373001, 281116008, 178107009, 446391000124101, 848121000000104, 178106000, 397164006, 273883005, 723357000, 865926005, 252925009, 164307008, 273928003]</td>\n",
              "      <td>[O/E - fever - fast fall-crisis, Heavy metal screen, Reinsch method, Black fracture index, Rape trauma treatment, Road traffic accident injury examination, Intelligence test/S-B, Limb exsanguination by gravity, Subdural tap through fontanel, infant, initial, Meninges operation, Cocaine abuse assessment profile, Health of the Nation Outcome Scale item 2 - non-accidental self injury, Aspiration of ganglion - foot, National Cancer Institute common terminology criteria for adverse events, Post-traumatic stress disorder impact of events scale, Aspiration of ganglion - ankle, Batch-Spittler-McFaddin amputation, Trauma index, Chapman reflex treatment method, Headache Impact Test-6, Stamey test - infection localization, O/E - fever - acute rise, Westmead Post-Traumatic Amnesia Scale]</td>\n",
              "    </tr>\n",
              "    <tr>\n",
              "      <th>1</th>\n",
              "      <td>1</td>\n",
              "      <td>malignant melanoma</td>\n",
              "      <td>PROBLEM</td>\n",
              "      <td>254347002</td>\n",
              "      <td>[254347002, 254325002, 254343003, 254349004, 254346006, 254345005, 254348007, 254324003, 254352007, 258284008, 258292004, 106246001, 254319001, 417957003, 396518001]</td>\n",
              "      <td>[TNM Malignant melanoma of iris staging, TNM Malignant melanoma of skin staging, TNM Malignant melanoma of eyelid staging, TNM Malignant melanoma of choroid staging, TNM Malignant melanoma of uvea staging, TNM Malignant melanoma of conjunctiva staging, TNM Malignant melanoma of ciliary body staging, TNM Carcinoma of skin tumor staging, TNM Lacrimal gland carcinoma staging, Stannards retinoblastoma stages, Lymph nodal tumor invasion status in retinoblastoma staging, FIGO staging system for vulvar melanoma, TNM Pleural mesothelioma tumor staging, Uveal metastasis, Distance of malignant melanoma from deep margin]</td>\n",
              "    </tr>\n",
              "    <tr>\n",
              "      <th>2</th>\n",
              "      <td>2</td>\n",
              "      <td>a bone scan</td>\n",
              "      <td>TEST</td>\n",
              "      <td>61553000</td>\n",
              "      <td>[61553000, 168654006, 1129461000000103, 113113000, 432635009, 241463004, 24737001, 281621005, 432056005, 241478006, 169238009, 168681006, 168775008, 169237004, 40701008, 1083711000000109, 168717009, 241511008, 241497006, 116152004, 427253008, 241490008, 431900006, 241472007]</td>\n",
              "      <td>[Ophthalmic biometry by ultrasound echography, A-mode, Stress X-ray thumb, Automated ultrasonography of breast, Ophthalmic echography, A-mode, Ultrasonography of axilla, US scan of neck vessels, Echography of scrotum and contents, Cast dental study model, Radionuclide dynamic bone imaging, US scan of psoas, US skull scan, Stress X-ray knee, Soft tissue X-ray limbs, US brain scan, Echocardiography, Heel quantitative ultrasound scan T score, Soft tissue X-ray nose, US scan of leg lengthening, US scan of shoulder joint, Spiral computed tomography scan, US scan of lower leg, Infertility US scan, MRI guided marking of skin of spine, US scan of transplant liver]</td>\n",
              "    </tr>\n",
              "    <tr>\n",
              "      <th>3</th>\n",
              "      <td>2</td>\n",
              "      <td>repeat x-rays</td>\n",
              "      <td>TEST</td>\n",
              "      <td>168654006</td>\n",
              "      <td>[168654006, 268428008, 171229005, 42075002, 168731009, 168637003, 168702005, 168717009, 303937007, 84492002, 168681006, 60619004, 168775008, 79760008, 241082003, 281616007, 312363006, 168729000, 312814004, 168770003, 168713008, 61553000, 241089007, 52221007]</td>\n",
              "      <td>[Stress X-ray thumb, Erect abdominal X-ray, Screening chest X-ray, Diagnostic radiography of skull, Standard chest X-ray, Plain X-ray radius, Plain X-ray abdomen, Soft tissue X-ray nose, Plain X-ray techniques, Radiography of nasal sinuses, Stress X-ray knee, Diagnostic radiography of finger, Soft tissue X-ray limbs, Radiography of spine, Hallux X-ray, Trunk soft tissue X-ray, Ultrasound scan of lower limb veins, Soft tissue X-ray tongue, Ultrasound scan of upper limb veins, Soft tissue X-ray kidney, Soft tissue X-ray face, Ophthalmic biometry by ultrasound echography, A-mode, Ilium X-ray, Radiography of foot]</td>\n",
              "    </tr>\n",
              "    <tr>\n",
              "      <th>4</th>\n",
              "      <td>2</td>\n",
              "      <td>AP pelvis, femur, hip including knee</td>\n",
              "      <td>TEST</td>\n",
              "      <td>12311000087102</td>\n",
              "      <td>[12311000087102, 40348008, 11541000087104, 11421000087107, 721043004, 21301000087103, 406451000119107, 431892005, 432672003, 15351000087106, 16731000087109, 15321000087104, 716679005, 702514009, 702513003, 14871000087107]</td>\n",
              "      <td>[MRI of pelvis and bilateral hips, Skeletal X-ray of pelvis and hip, MRI of pelvis and right hip, MRI of pelvis and left hip, Dual energy computed tomography of neck, thorax, abdomen and pelvis, MRI of pelvis and bilateral hips with contrast, Plain X-ray of pelvis, frog leg view, X-ray of lumbar spine and pelvis, MRI of pelvis and hip, CT of pelvis and bilateral hips with contrast, MRI of pelvis and lower extremity, CT of pelvis and bilateral hips, Plain x-ray of pelvis and lower extremity, Computed tomography of abdomen, pelvis and lumbar spine with contrast, Computed tomography of abdomen, pelvis and lumbar spine, CT angiography of abdomen, pelvis and lumbar spine]</td>\n",
              "    </tr>\n",
              "    <tr>\n",
              "      <th>5</th>\n",
              "      <td>3</td>\n",
              "      <td>any pain</td>\n",
              "      <td>PROBLEM</td>\n",
              "      <td>408950005</td>\n",
              "      <td>[408950005, 710855004, 494711000000101, 247375001, 763306003, 713131007, 423184003, 274796008, 709480005, 273685000, 444821009, 164299002, 810601000000106, 225784007, 273454004, 737899003, 770637008, 709264002, 197091000000103, 273538004, 273904000, 810621000000102]</td>\n",
              "      <td>[Acute pain control, Assessment for sign of discomfort, Brief pain inventory, Arc of pain in joint, Abbey Pain Scale, Assessment of dizziness, Adult pain assessment, Examination of pain sensation, Assessment of hyperalgesia, Pain diary, Assessment of chest pain, O/E - level of fever, Self-completed Leeds assessment of neuropathic symptoms and signs pain scale, Preventing pain, Fear of AIDS scale, Management of counseling for change in body image, Assessment using Abbey Pain Scale, Assessment of allodynia, Lower back pain assessment, IOWA low back rating scale, Visual analog pain scale, Assessment using self-completed Leeds assessment of neuropathic symptoms and signs pain scale]</td>\n",
              "    </tr>\n",
              "    <tr>\n",
              "      <th>6</th>\n",
              "      <td>3</td>\n",
              "      <td>fracture</td>\n",
              "      <td>PROBLEM</td>\n",
              "      <td>845791000000106</td>\n",
              "      <td>[845791000000106, 179212005, 183668008, 179140008, 171745006, 179183002, 20781004, 178106000, 178107009, 229509005, 178102003, 178851002, 6108008, 252697005, 787795000, 38014004, 229435008, 70590006, 86665000, 304702006, 6082008, 178105001, 736953005, 266788000, 302361003]</td>\n",
              "      <td>[Black fracture index, Primary skeletal traction of fracture, Total avulsion of nail plate, Primary functional bracing of fracture, Freeing of spinal tether, Primary skin traction of fracture, Partial excision of nail and nail matrix, Aspiration of ganglion - ankle, Aspiration of ganglion - foot, Graduated compression bandaging, Aspiration of ganglion - wrist, Metacarpal support operation on carpus, Subdural tap through fontanel, infant, initial, Upper limb tension test, Lateral epicondylitis test, Disarticulation through wrist, reamputation, Lower limb neural tension test, Elevation of skull fracture fragments, Wedging of clubfoot cast, Traumatic incident reduction, Perforation of footplate, Aspiration of ganglion - knee, FRAX (fracture risk assessment tool) hip fracture probability assessment tool, Infixed bone pin traction, Cystoscopic extraction of ureteric calculus without disintegration]</td>\n",
              "    </tr>\n",
              "    <tr>\n",
              "      <th>7</th>\n",
              "      <td>4</td>\n",
              "      <td>the above fracture</td>\n",
              "      <td>PROBLEM</td>\n",
              "      <td>179183002</td>\n",
              "      <td>[179183002, 229450004, 224591000000106, 78840003, 179212005, 171745006, 275176004, 229447002, 59875008, 179140008, 112740000, 90681004, 179184008, 179825009, 302382009, 8717008, 431986003, 2442008, 76177002, 439448004, 439875003, 257861006, 24433001, 63756002]</td>\n",
              "      <td>[Primary skin traction of fracture, Manipulation of the inferior radioulnar joint - non-surgical, Complex reduction of abnormal tissue to free spinal cord, Crushing of nasal septum, Primary skeletal traction of fracture, Freeing of spinal tether, MUA - Manipulation under anesthetic of fractured nasal bones, Manipulation of the superior radioulnar joint - non-surgical, Open reduction of open sternoclavicular dislocation, acute, Primary functional bracing of fracture, Open reduction of closed sternoclavicular dislocation, acute, Suture of spinal dura mater, Revision to skin traction of fracture, Stabilization of joint by repair of capsule, Breech extraction with internal podalic version, Reduction of open zygomatic arch fracture using a towel clip, MRI of sternoclavicular joint, Incision of lacrimal canaliculus, Dermabrasion of tattoo, Incision of clavicle without division, Incision of humerus without division, Hook elevation of zygomatic fracture, Manual reduction of closed fracture of greater tuberosity of humerus, Reduction of closed trimalleolar ankle fracture with manipulation]</td>\n",
              "    </tr>\n",
              "    <tr>\n",
              "      <th>8</th>\n",
              "      <td>4</td>\n",
              "      <td>a left hip hemiarthroplasty</td>\n",
              "      <td>TREATMENT</td>\n",
              "      <td>723251002</td>\n",
              "      <td>[723251002, 785850002, 735196007, 735262008, 386649003, 248811000000107, 734003004, 735261001, 735194005, 239469004, 280469005, 280464000, 179423007, 47458005, 735193004, 179421009, 179321008, 63544001, 280460009, 448649009, 275177008, 15163009, 280462001, 448341000124106]</td>\n",
              "      <td>[Hemiarthroplasty of left shoulder, Reverse prosthetic total arthroplasty of shoulder, Revision of left total hip arthroplasty, Revision of left total knee arthroplasty, Partial hip replacement by prosthesis, Conversion of hip arthroplasty, Revision of total arthroplasty of right shoulder, Revision of right total knee arthroplasty, Revision of right total hip arthroplasty, Prosthetic hemiarthroplasty of the shoulder, Revision of elbow arthroplasty, Revision of shoulder arthroplasty, Revision cemented hemiarthroplasty of shoulder, Repair of hip, Revision of total hip arthroplasty, Primary cemented hemiarthroplasty of shoulder, Revision cemented hemiarthroplasty of hip, Arthroplasty of finger, Revision of hip arthroplasty, Prosthetic hemiarthroplasty of articulation of bone, Forefoot arthroplasty, Total arthroplasty of hip, low friction, Revision of knee arthroplasty, Arthroplasty of right hip joint]</td>\n",
              "    </tr>\n",
              "    <tr>\n",
              "      <th>9</th>\n",
              "      <td>4</td>\n",
              "      <td>cemented type</td>\n",
              "      <td>TREATMENT</td>\n",
              "      <td>41294004</td>\n",
              "      <td>[41294004, 234803005, 53213008, 234797006, 78185000, 5016005, 10372006, 234798001, 76585002, 56159008, 19955001, 90564003, 39070008, 20882001, 14549001, 179406003, 42114005, 237561000000106, 83200007, 18057002, 234802000, 179402001, 13808002]</td>\n",
              "      <td>[Silicate cement, per restoration, Fit veneer to tooth, Restoration, silicate, Final cementation of crown to tooth - laboratory constructed, Pontic cast, high noble metal, Pontic, resin with high noble metal, Pontic cast, predominantly base metal, Final cementation of crown to tooth - preformed, Crown, full cast predominantly base metal, Pontic, porcelain fused to high noble metal, Pontic, resin with predominantly base metal, Field block design and fabrication, Crown, resin with high noble metal, Crown, resin with predominantly base metal, Retainers, cast metal for acid etched fixed prosthesis, Conversion from cemented unicompartmental knee replacement, WR stage 1, Second stage attachment of fixtures for nasal prosthesis, WR stage 6, Crown, porcelain fused to predominantly base metal, Fit post core to tooth, Cemented unicompartmental knee replacement, WR stage 3]</td>\n",
              "    </tr>\n",
              "  </tbody>\n",
              "</table>\n",
              "</div>\n",
              "      <button class=\"colab-df-convert\" onclick=\"convertToInteractive('df-32cb38bd-0e39-4d59-ae58-7ccd32ca5b18')\"\n",
              "              title=\"Convert this dataframe to an interactive table.\"\n",
              "              style=\"display:none;\">\n",
              "        \n",
              "  <svg xmlns=\"http://www.w3.org/2000/svg\" height=\"24px\"viewBox=\"0 0 24 24\"\n",
              "       width=\"24px\">\n",
              "    <path d=\"M0 0h24v24H0V0z\" fill=\"none\"/>\n",
              "    <path d=\"M18.56 5.44l.94 2.06.94-2.06 2.06-.94-2.06-.94-.94-2.06-.94 2.06-2.06.94zm-11 1L8.5 8.5l.94-2.06 2.06-.94-2.06-.94L8.5 2.5l-.94 2.06-2.06.94zm10 10l.94 2.06.94-2.06 2.06-.94-2.06-.94-.94-2.06-.94 2.06-2.06.94z\"/><path d=\"M17.41 7.96l-1.37-1.37c-.4-.4-.92-.59-1.43-.59-.52 0-1.04.2-1.43.59L10.3 9.45l-7.72 7.72c-.78.78-.78 2.05 0 2.83L4 21.41c.39.39.9.59 1.41.59.51 0 1.02-.2 1.41-.59l7.78-7.78 2.81-2.81c.8-.78.8-2.07 0-2.86zM5.41 20L4 18.59l7.72-7.72 1.47 1.35L5.41 20z\"/>\n",
              "  </svg>\n",
              "      </button>\n",
              "      \n",
              "  <style>\n",
              "    .colab-df-container {\n",
              "      display:flex;\n",
              "      flex-wrap:wrap;\n",
              "      gap: 12px;\n",
              "    }\n",
              "\n",
              "    .colab-df-convert {\n",
              "      background-color: #E8F0FE;\n",
              "      border: none;\n",
              "      border-radius: 50%;\n",
              "      cursor: pointer;\n",
              "      display: none;\n",
              "      fill: #1967D2;\n",
              "      height: 32px;\n",
              "      padding: 0 0 0 0;\n",
              "      width: 32px;\n",
              "    }\n",
              "\n",
              "    .colab-df-convert:hover {\n",
              "      background-color: #E2EBFA;\n",
              "      box-shadow: 0px 1px 2px rgba(60, 64, 67, 0.3), 0px 1px 3px 1px rgba(60, 64, 67, 0.15);\n",
              "      fill: #174EA6;\n",
              "    }\n",
              "\n",
              "    [theme=dark] .colab-df-convert {\n",
              "      background-color: #3B4455;\n",
              "      fill: #D2E3FC;\n",
              "    }\n",
              "\n",
              "    [theme=dark] .colab-df-convert:hover {\n",
              "      background-color: #434B5C;\n",
              "      box-shadow: 0px 1px 3px 1px rgba(0, 0, 0, 0.15);\n",
              "      filter: drop-shadow(0px 1px 2px rgba(0, 0, 0, 0.3));\n",
              "      fill: #FFFFFF;\n",
              "    }\n",
              "  </style>\n",
              "\n",
              "      <script>\n",
              "        const buttonEl =\n",
              "          document.querySelector('#df-32cb38bd-0e39-4d59-ae58-7ccd32ca5b18 button.colab-df-convert');\n",
              "        buttonEl.style.display =\n",
              "          google.colab.kernel.accessAllowed ? 'block' : 'none';\n",
              "\n",
              "        async function convertToInteractive(key) {\n",
              "          const element = document.querySelector('#df-32cb38bd-0e39-4d59-ae58-7ccd32ca5b18');\n",
              "          const dataTable =\n",
              "            await google.colab.kernel.invokeFunction('convertToInteractive',\n",
              "                                                     [key], {});\n",
              "          if (!dataTable) return;\n",
              "\n",
              "          const docLinkHtml = 'Like what you see? Visit the ' +\n",
              "            '<a target=\"_blank\" href=https://colab.research.google.com/notebooks/data_table.ipynb>data table notebook</a>'\n",
              "            + ' to learn more about interactive tables.';\n",
              "          element.innerHTML = '';\n",
              "          dataTable['output_type'] = 'display_data';\n",
              "          await google.colab.output.renderOutput(dataTable, element);\n",
              "          const docLink = document.createElement('div');\n",
              "          docLink.innerHTML = docLinkHtml;\n",
              "          element.appendChild(docLink);\n",
              "        }\n",
              "      </script>\n",
              "    </div>\n",
              "  </div>\n",
              "  "
            ]
          },
          "metadata": {},
          "execution_count": 22
        }
      ]
    },
    {
      "cell_type": "code",
      "source": [
        "light_result = light_model.fullAnnotate(sample_text)\n",
        "\n",
        "er_vis = EntityResolverVisualizer()\n",
        "\n",
        "er_vis.display(light_result[0],\n",
        "               label_col='ner_chunk',\n",
        "               resolution_col = 'snomed_code',\n",
        "               document_col='document'\n",
        "               )"
      ],
      "metadata": {
        "colab": {
          "base_uri": "https://localhost:8080/",
          "height": 969
        },
        "id": "XIgNeWVdtuNN",
        "outputId": "ce4e2eb7-19f2-4707-d08b-de6032b6d545"
      },
      "execution_count": 23,
      "outputs": [
        {
          "output_type": "display_data",
          "data": {
            "text/plain": [
              "<IPython.core.display.HTML object>"
            ],
            "text/html": [
              "\n",
              "<style>\n",
              "    @import url('https://fonts.googleapis.com/css2?family=Montserrat:wght@300;400;500;600;700&display=swap');\n",
              "    @import url('https://fonts.googleapis.com/css2?family=Vistol Regular:wght@300;400;500;600;700&display=swap');\n",
              "    \n",
              "    .spark-nlp-display-scroll-entities {\n",
              "        border: 1px solid #E7EDF0;\n",
              "        border-radius: 3px;\n",
              "        text-align: justify;\n",
              "        \n",
              "    }\n",
              "    .spark-nlp-display-scroll-entities span {  \n",
              "        font-size: 14px;\n",
              "        line-height: 24px;\n",
              "        color: #536B76;\n",
              "        font-family: 'Montserrat', sans-serif !important;\n",
              "    }\n",
              "    \n",
              "    .spark-nlp-display-entity-wrapper{\n",
              "    \n",
              "        display: inline-grid;\n",
              "        text-align: center;\n",
              "        border-radius: 4px;\n",
              "        margin: 0 2px 5px 2px;\n",
              "        padding: 1px\n",
              "    }\n",
              "    .spark-nlp-display-entity-name{\n",
              "        font-size: 14px;\n",
              "        line-height: 24px;\n",
              "        font-family: 'Montserrat', sans-serif !important;\n",
              "        \n",
              "        background: #f1f2f3;\n",
              "        border-width: medium;\n",
              "        text-align: center;\n",
              "        \n",
              "        font-weight: 400;\n",
              "        \n",
              "        border-radius: 5px;\n",
              "        padding: 2px 5px;\n",
              "        display: block;\n",
              "        margin: 3px 2px;\n",
              "    \n",
              "    }\n",
              "    .spark-nlp-display-entity-type{\n",
              "        font-size: 14px;\n",
              "        line-height: 24px;\n",
              "        color: #ffffff;\n",
              "        font-family: 'Montserrat', sans-serif !important;\n",
              "        \n",
              "        text-transform: uppercase;\n",
              "        \n",
              "        font-weight: 500;\n",
              "\n",
              "        display: block;\n",
              "        padding: 3px 5px;\n",
              "    }\n",
              "    \n",
              "    .spark-nlp-display-entity-resolution{\n",
              "        font-size: 14px;\n",
              "        line-height: 24px;\n",
              "        color: #ffffff;\n",
              "        font-family: 'Vistol Regular', sans-serif !important;\n",
              "        \n",
              "        text-transform: uppercase;\n",
              "        \n",
              "        font-weight: 500;\n",
              "\n",
              "        display: block;\n",
              "        padding: 3px 5px;\n",
              "    }\n",
              "    \n",
              "    .spark-nlp-display-others{\n",
              "        font-size: 14px;\n",
              "        line-height: 24px;\n",
              "        font-family: 'Montserrat', sans-serif !important;\n",
              "        \n",
              "        font-weight: 400;\n",
              "    }\n",
              "\n",
              "</style>\n",
              " <span class=\"spark-nlp-display-others\" style=\"background-color: white\">Nature and course of the diagnosis has been discussed with the patient. Based on her presentation without any history of obvious fall or </span><span class=\"spark-nlp-display-entity-wrapper\" style=\"background-color: #800080B3\"><span class=\"spark-nlp-display-entity-name\">trauma </span><span class=\"spark-nlp-display-entity-type\">PROBLEM</span><span class=\"spark-nlp-display-entity-resolution\" style=\"background-color: #800080FF\">164315006 </span><span class=\"spark-nlp-display-entity-resolution\" style=\"background-color: #800080CC\">O/E - fever - fast fall-crisis</span></span><span class=\"spark-nlp-display-others\" style=\"background-color: white\"> and past history of </span><span class=\"spark-nlp-display-entity-wrapper\" style=\"background-color: #800080B3\"><span class=\"spark-nlp-display-entity-name\">malignant melanoma </span><span class=\"spark-nlp-display-entity-type\">PROBLEM</span><span class=\"spark-nlp-display-entity-resolution\" style=\"background-color: #800080FF\">254347002 </span><span class=\"spark-nlp-display-entity-resolution\" style=\"background-color: #800080CC\">TNM Malignant melanoma of iris staging</span></span><span class=\"spark-nlp-display-others\" style=\"background-color: white\">. At the present time, I would recommend obtaining </span><span class=\"spark-nlp-display-entity-wrapper\" style=\"background-color: #77b5feB3\"><span class=\"spark-nlp-display-entity-name\">a bone scan </span><span class=\"spark-nlp-display-entity-type\">TEST</span><span class=\"spark-nlp-display-entity-resolution\" style=\"background-color: #77b5feFF\">61553000 </span><span class=\"spark-nlp-display-entity-resolution\" style=\"background-color: #77b5feCC\">Ophthalmic biometry by ultrasound echography, A-mode</span></span><span class=\"spark-nlp-display-others\" style=\"background-color: white\"> and </span><span class=\"spark-nlp-display-entity-wrapper\" style=\"background-color: #77b5feB3\"><span class=\"spark-nlp-display-entity-name\">repeat x-rays </span><span class=\"spark-nlp-display-entity-type\">TEST</span><span class=\"spark-nlp-display-entity-resolution\" style=\"background-color: #77b5feFF\">168654006 </span><span class=\"spark-nlp-display-entity-resolution\" style=\"background-color: #77b5feCC\">Stress X-ray thumb</span></span><span class=\"spark-nlp-display-others\" style=\"background-color: white\">, which will include </span><span class=\"spark-nlp-display-entity-wrapper\" style=\"background-color: #77b5feB3\"><span class=\"spark-nlp-display-entity-name\">AP pelvis, femur, hip including knee </span><span class=\"spark-nlp-display-entity-type\">TEST</span><span class=\"spark-nlp-display-entity-resolution\" style=\"background-color: #77b5feFF\">12311000087102 </span><span class=\"spark-nlp-display-entity-resolution\" style=\"background-color: #77b5feCC\">MRI of pelvis and bilateral hips</span></span><span class=\"spark-nlp-display-others\" style=\"background-color: white\">.  She denies </span><span class=\"spark-nlp-display-entity-wrapper\" style=\"background-color: #800080B3\"><span class=\"spark-nlp-display-entity-name\">any pain </span><span class=\"spark-nlp-display-entity-type\">PROBLEM</span><span class=\"spark-nlp-display-entity-resolution\" style=\"background-color: #800080FF\">408950005 </span><span class=\"spark-nlp-display-entity-resolution\" style=\"background-color: #800080CC\">Acute pain control</span></span><span class=\"spark-nlp-display-others\" style=\"background-color: white\"> elsewhere , at the present time, this appears to be </span><span class=\"spark-nlp-display-entity-wrapper\" style=\"background-color: #800080B3\"><span class=\"spark-nlp-display-entity-name\">fracture </span><span class=\"spark-nlp-display-entity-type\">PROBLEM</span><span class=\"spark-nlp-display-entity-resolution\" style=\"background-color: #800080FF\">845791000000106 </span><span class=\"spark-nlp-display-entity-resolution\" style=\"background-color: #800080CC\">Black fracture index</span></span><span class=\"spark-nlp-display-others\" style=\"background-color: white\">.<br><br>With </span><span class=\"spark-nlp-display-entity-wrapper\" style=\"background-color: #800080B3\"><span class=\"spark-nlp-display-entity-name\">the above fracture </span><span class=\"spark-nlp-display-entity-type\">PROBLEM</span><span class=\"spark-nlp-display-entity-resolution\" style=\"background-color: #800080FF\">179183002 </span><span class=\"spark-nlp-display-entity-resolution\" style=\"background-color: #800080CC\">Primary skin traction of fracture</span></span><span class=\"spark-nlp-display-others\" style=\"background-color: white\"> and presentation, she needs </span><span class=\"spark-nlp-display-entity-wrapper\" style=\"background-color: #8b6673B3\"><span class=\"spark-nlp-display-entity-name\">a left hip hemiarthroplasty </span><span class=\"spark-nlp-display-entity-type\">TREATMENT</span><span class=\"spark-nlp-display-entity-resolution\" style=\"background-color: #8b6673FF\">723251002 </span><span class=\"spark-nlp-display-entity-resolution\" style=\"background-color: #8b6673CC\">Hemiarthroplasty of left shoulder</span></span><span class=\"spark-nlp-display-others\" style=\"background-color: white\"> versus </span><span class=\"spark-nlp-display-entity-wrapper\" style=\"background-color: #8b6673B3\"><span class=\"spark-nlp-display-entity-name\">cemented type </span><span class=\"spark-nlp-display-entity-type\">TREATMENT</span><span class=\"spark-nlp-display-entity-resolution\" style=\"background-color: #8b6673FF\">41294004 </span><span class=\"spark-nlp-display-entity-resolution\" style=\"background-color: #8b6673CC\">Silicate cement, per restoration</span></span><span class=\"spark-nlp-display-others\" style=\"background-color: white\">. Indication, risk, and benefits of </span><span class=\"spark-nlp-display-entity-wrapper\" style=\"background-color: #8b6673B3\"><span class=\"spark-nlp-display-entity-name\">left hip hemiarthroplasty </span><span class=\"spark-nlp-display-entity-type\">TREATMENT</span><span class=\"spark-nlp-display-entity-resolution\" style=\"background-color: #8b6673FF\">723251002 </span><span class=\"spark-nlp-display-entity-resolution\" style=\"background-color: #8b6673CC\">Hemiarthroplasty of left shoulder</span></span><span class=\"spark-nlp-display-others\" style=\"background-color: white\"> has been discussed with the patient, which includes, but not limited to </span><span class=\"spark-nlp-display-entity-wrapper\" style=\"background-color: #800080B3\"><span class=\"spark-nlp-display-entity-name\">bleeding </span><span class=\"spark-nlp-display-entity-type\">PROBLEM</span><span class=\"spark-nlp-display-entity-resolution\" style=\"background-color: #800080FF\">51587007 </span><span class=\"spark-nlp-display-entity-resolution\" style=\"background-color: #800080CC\">Bleeding time, template</span></span><span class=\"spark-nlp-display-others\" style=\"background-color: white\">, </span><span class=\"spark-nlp-display-entity-wrapper\" style=\"background-color: #800080B3\"><span class=\"spark-nlp-display-entity-name\">infection </span><span class=\"spark-nlp-display-entity-type\">PROBLEM</span><span class=\"spark-nlp-display-entity-resolution\" style=\"background-color: #800080FF\">164307008 </span><span class=\"spark-nlp-display-entity-resolution\" style=\"background-color: #800080CC\">O/E - fever - acute rise</span></span><span class=\"spark-nlp-display-others\" style=\"background-color: white\">, </span><span class=\"spark-nlp-display-entity-wrapper\" style=\"background-color: #800080B3\"><span class=\"spark-nlp-display-entity-name\">blood vessel injury </span><span class=\"spark-nlp-display-entity-type\">PROBLEM</span><span class=\"spark-nlp-display-entity-resolution\" style=\"background-color: #800080FF\">225081000000104 </span><span class=\"spark-nlp-display-entity-resolution\" style=\"background-color: #800080CC\">Mechanical embolic protection of blood vessel</span></span><span class=\"spark-nlp-display-others\" style=\"background-color: white\">, </span><span class=\"spark-nlp-display-entity-wrapper\" style=\"background-color: #800080B3\"><span class=\"spark-nlp-display-entity-name\">dislocation </span><span class=\"spark-nlp-display-entity-type\">PROBLEM</span><span class=\"spark-nlp-display-entity-resolution\" style=\"background-color: #800080FF\">288157009 </span><span class=\"spark-nlp-display-entity-resolution\" style=\"background-color: #800080CC\">Traction for dislocation</span></span><span class=\"spark-nlp-display-others\" style=\"background-color: white\"> early and </span><span class=\"spark-nlp-display-entity-wrapper\" style=\"background-color: #800080B3\"><span class=\"spark-nlp-display-entity-name\">late, persistent pain </span><span class=\"spark-nlp-display-entity-type\">PROBLEM</span><span class=\"spark-nlp-display-entity-resolution\" style=\"background-color: #800080FF\">494711000000101 </span><span class=\"spark-nlp-display-entity-resolution\" style=\"background-color: #800080CC\">Brief pain inventory</span></span><span class=\"spark-nlp-display-others\" style=\"background-color: white\">,  </span><span class=\"spark-nlp-display-entity-wrapper\" style=\"background-color: #800080B3\"><span class=\"spark-nlp-display-entity-name\">myositis ossificans </span><span class=\"spark-nlp-display-entity-type\">PROBLEM</span><span class=\"spark-nlp-display-entity-resolution\" style=\"background-color: #800080FF\">197045004 </span><span class=\"spark-nlp-display-entity-resolution\" style=\"background-color: #800080CC\">Excision of myositis ossificans</span></span><span class=\"spark-nlp-display-others\" style=\"background-color: white\">, need for conversion to </span><span class=\"spark-nlp-display-entity-wrapper\" style=\"background-color: #8b6673B3\"><span class=\"spark-nlp-display-entity-name\">total hip replacement surgery </span><span class=\"spark-nlp-display-entity-type\">TREATMENT</span><span class=\"spark-nlp-display-entity-resolution\" style=\"background-color: #8b6673FF\">450814005 </span><span class=\"spark-nlp-display-entity-resolution\" style=\"background-color: #8b6673CC\">Revision of hybrid total knee replacement</span></span><span class=\"spark-nlp-display-others\" style=\"background-color: white\">, </span><span class=\"spark-nlp-display-entity-wrapper\" style=\"background-color: #8b6673B3\"><span class=\"spark-nlp-display-entity-name\">revision surgery </span><span class=\"spark-nlp-display-entity-type\">TREATMENT</span><span class=\"spark-nlp-display-entity-resolution\" style=\"background-color: #8b6673FF\">118635009 </span><span class=\"spark-nlp-display-entity-resolution\" style=\"background-color: #8b6673CC\">Revision</span></span><span class=\"spark-nlp-display-others\" style=\"background-color: white\">, </span><span class=\"spark-nlp-display-entity-wrapper\" style=\"background-color: #800080B3\"><span class=\"spark-nlp-display-entity-name\">pulmonary embolism </span><span class=\"spark-nlp-display-entity-type\">PROBLEM</span><span class=\"spark-nlp-display-entity-resolution\" style=\"background-color: #800080FF\">233217004 </span><span class=\"spark-nlp-display-entity-resolution\" style=\"background-color: #800080CC\">Operation for pulmonary embolism</span></span><span class=\"spark-nlp-display-others\" style=\"background-color: white\">, risk of </span><span class=\"spark-nlp-display-entity-wrapper\" style=\"background-color: #8b6673B3\"><span class=\"spark-nlp-display-entity-name\">anesthesia </span><span class=\"spark-nlp-display-entity-type\">TREATMENT</span><span class=\"spark-nlp-display-entity-resolution\" style=\"background-color: #8b6673FF\">11285004 </span><span class=\"spark-nlp-display-entity-resolution\" style=\"background-color: #8b6673CC\">Diagnostic block anesthesia</span></span><span class=\"spark-nlp-display-others\" style=\"background-color: white\">, need for </span><span class=\"spark-nlp-display-entity-wrapper\" style=\"background-color: #8b6673B3\"><span class=\"spark-nlp-display-entity-name\">blood transfusion </span><span class=\"spark-nlp-display-entity-type\">TREATMENT</span><span class=\"spark-nlp-display-entity-resolution\" style=\"background-color: #8b6673FF\">116859006 </span><span class=\"spark-nlp-display-entity-resolution\" style=\"background-color: #8b6673CC\">Transfusion of blood product</span></span><span class=\"spark-nlp-display-others\" style=\"background-color: white\">, and </span><span class=\"spark-nlp-display-entity-wrapper\" style=\"background-color: #800080B3\"><span class=\"spark-nlp-display-entity-name\">cardiac arrest </span><span class=\"spark-nlp-display-entity-type\">PROBLEM</span><span class=\"spark-nlp-display-entity-resolution\" style=\"background-color: #800080FF\">8290005 </span><span class=\"spark-nlp-display-entity-resolution\" style=\"background-color: #800080CC\">Induced cardioplegia</span></span><span class=\"spark-nlp-display-others\" style=\"background-color: white\">. She understands above and is willing to undergo </span><span class=\"spark-nlp-display-entity-wrapper\" style=\"background-color: #8b6673B3\"><span class=\"spark-nlp-display-entity-name\">further procedure </span><span class=\"spark-nlp-display-entity-type\">TREATMENT</span><span class=\"spark-nlp-display-entity-resolution\" style=\"background-color: #8b6673FF\">225213006 </span><span class=\"spark-nlp-display-entity-resolution\" style=\"background-color: #8b6673CC\">Breakaway procedure</span></span><span class=\"spark-nlp-display-others\" style=\"background-color: white\">. The goal and the functional outcome have been explained. Further plan will be discussed with her once we obtain </span><span class=\"spark-nlp-display-entity-wrapper\" style=\"background-color: #77b5feB3\"><span class=\"spark-nlp-display-entity-name\">the bone scan </span><span class=\"spark-nlp-display-entity-type\">TEST</span><span class=\"spark-nlp-display-entity-resolution\" style=\"background-color: #77b5feFF\">41747008 </span><span class=\"spark-nlp-display-entity-resolution\" style=\"background-color: #77b5feCC\">Radioisotope scan of bone</span></span><span class=\"spark-nlp-display-others\" style=\"background-color: white\"> and </span><span class=\"spark-nlp-display-entity-wrapper\" style=\"background-color: #77b5feB3\"><span class=\"spark-nlp-display-entity-name\">the radiographic studies </span><span class=\"spark-nlp-display-entity-type\">TEST</span><span class=\"spark-nlp-display-entity-resolution\" style=\"background-color: #77b5feFF\">363680008 </span><span class=\"spark-nlp-display-entity-resolution\" style=\"background-color: #77b5feCC\">Radiographic imaging procedure</span></span><span class=\"spark-nlp-display-others\" style=\"background-color: white\">. We will also await for the oncology feedback and clearance.</span></div>"
            ]
          },
          "metadata": {}
        }
      ]
    },
    {
      "cell_type": "markdown",
      "source": [
        "# **🔎 \"sbiobertresolve_snomed_drug\" model**"
      ],
      "metadata": {
        "id": "PyBiX_ZDdQvY"
      }
    },
    {
      "cell_type": "markdown",
      "source": [
        "### **🔎Define Spark NLP pipeline**"
      ],
      "metadata": {
        "id": "Jp_91YEhaZjM"
      }
    },
    {
      "cell_type": "code",
      "source": [
        "clinical_ner = MedicalNerModel.pretrained('ner_posology', \"en\", \"clinical/models\") \\\n",
        "      .setInputCols([\"sentence\", \"token\", \"embeddings\"]) \\\n",
        "      .setOutputCol(\"ner\")\n",
        "\n",
        "ner_converter = NerConverter() \\\n",
        "      .setInputCols([\"sentence\", \"token\", \"ner\"]) \\\n",
        "      .setOutputCol(\"ner_chunk\")\\\n",
        "      .setWhiteList(['DRUG'])\n",
        "\n",
        "sbert_embedder = BertSentenceEmbeddings\\\n",
        "      .pretrained('sbiobert_base_cased_mli','en', \"clinical/models\")\\\n",
        "      .setInputCols([\"ner_chunk_doc\"])\\\n",
        "      .setOutputCol(\"sbert_embeddings\")\n",
        "\n",
        "snomed_resolver = SentenceEntityResolverModel.pretrained('sbiobertresolve_snomed_drug', \"en\", \"clinical/models\") \\\n",
        "        .setInputCols([\"ner_chunk\", \"sbert_embeddings\"]) \\\n",
        "        .setOutputCol(\"snomed_code\")\\\n",
        "        .setDistanceFunction(\"EUCLIDEAN\")\n",
        "\n",
        "resolver_pipeline = Pipeline(\n",
        "      stages = [\n",
        "          documentAssembler,\n",
        "          sentenceDetector,\n",
        "          tokenizer,\n",
        "          word_embeddings,\n",
        "          clinical_ner,\n",
        "          ner_converter,\n",
        "          c2doc,\n",
        "          sbert_embedder,\n",
        "          snomed_resolver])\n",
        "\n",
        "data_ner = spark.createDataFrame([[\"\"]]).toDF(\"text\")\n",
        "models = resolver_pipeline.fit(data_ner)\n",
        "light_model = LightPipeline(models)"
      ],
      "metadata": {
        "colab": {
          "base_uri": "https://localhost:8080/"
        },
        "id": "FVf_O7tBY5vT",
        "outputId": "dfd65ee0-07a0-4b4d-d8ef-8ac6a69cb692"
      },
      "execution_count": 26,
      "outputs": [
        {
          "output_type": "stream",
          "name": "stdout",
          "text": [
            "ner_posology download started this may take some time.\n",
            "[OK!]\n",
            "sbiobert_base_cased_mli download started this may take some time.\n",
            "Approximate size to download 384.3 MB\n",
            "[OK!]\n",
            "sbiobertresolve_snomed_drug download started this may take some time.\n",
            "[OK!]\n"
          ]
        }
      ]
    },
    {
      "cell_type": "code",
      "source": [
        "sample_text = \"\"\"She is given Fragmin 5000 units subcutaneously daily, OxyContin 30 mg p.o. q.12 h., folic acid 1 mg daily, levothyroxine 0.1 mg p.o. daily, aspirin 81 mg daily, magnesium citrate 1 bottle p.o. p.r.n., sliding scale coverage insulin.\"\"\"\n",
        "\n",
        "\n",
        "clinical_note_df = spark.createDataFrame([[sample_text]]).toDF(\"text\")\n",
        "snomed_sdf = models.transform(clinical_note_df)"
      ],
      "metadata": {
        "id": "kbi3luOUuc3E"
      },
      "execution_count": 27,
      "outputs": []
    },
    {
      "cell_type": "code",
      "source": [
        "res_pd = get_codes_from_df(snomed_sdf, 'ner_chunk', 'snomed_code', hcc=False)"
      ],
      "metadata": {
        "id": "KiPqVyueda9p"
      },
      "execution_count": 28,
      "outputs": []
    },
    {
      "cell_type": "code",
      "source": [
        "res_pd.head(10)"
      ],
      "metadata": {
        "colab": {
          "base_uri": "https://localhost:8080/",
          "height": 585
        },
        "id": "J0MSRh56ddJB",
        "outputId": "dee53631-100a-490f-8d83-5b8a4d9241e0"
      },
      "execution_count": 29,
      "outputs": [
        {
          "output_type": "execute_result",
          "data": {
            "text/plain": [
              "  sent_id          ner_chunk entity        snomed_code                                                                                                                                                                                                                                                     all_codes                                                                                                                                                                                                                                                                                                                                                                                                                                                                      resolutions\n",
              "0       0            Fragmin   DRUG   9487801000001106  [9487801000001106, 130752006, 9486501000001106, 9536201000001105, 9455401000001105, 9522301000001103, 9681001000001107, 83545007, 9486401000001107, 428726008, 9521501000001101, 13127501000001103, 62492006, 9499601000001100, 13017301000001108, 80994002]                                                                                                                                                                                                                                                    [Fragmin, Fragilysin (substance), Faverin, Froop (product), Frumil, frisium, Isopto Frin, Fumitremorgen, Faslodex, Denufosol, Felicium, FerroEss, Frangula (substance), Flamrase EC, Fiasp (product), Fampridine (substance)]\n",
              "1       0          OxyContin   DRUG   9296001000001100                                                                         [9296001000001100, 373470001, 27499006, 9296201000001106, 55452001, 96375007, 230091000001108, 112118000, 9237201000001100, 781644002, 9237601000001103, 12094501000001101, 25571003]                                                                                                                                                                                                                                                                         [OxyCONTIN, Oxychlorosene, Oxyphencyclimine, Oxymycin (product), Oxycodone (substance), Cyoctol, Oxyargin, Oxyntomodulin, Celectol, Omadacycline (substance), Celontin, Cleosensa (product), Clodantoin]\n",
              "2       0         folic acid   DRUG           63718003                                                                         [63718003, 6247001, 226316008, 432165000, 438451000124100, 9455001000001100, 418558000, 792796007, 43289005, 420207003, 419441003, 327452001, 418777000, 9454201000001105, 126224002]  [Folic acid, Folic acid-containing product, Folic acid supplement agent, L-methyl folic acid, Folate supplement, Folicare, Ferrous sulfate- and folic acid-containing product, Folate and folate derivative, Dihydrofolic acid, Ferrous fumarate- and folic acid-containing product, Ferrous gluconate- and folic acid-containing product, Folic acid- and iron-containing product, Ferric ammonium citrate- and folic acid-containing product, Ferrograd Folic, Sodium folate]\n",
              "3       0      levothyroxine   DRUG  10071011000001106                                                                                           [10071011000001106, 710809001, 768532006, 126202002, 768531004, 59170000, 73187006, 783637002, 847003, 61899008, 38076006, 60760000, 61275002, 86211008, 130608005]                                                                    [Levothyroxine, Levothyroxine (substance), Levothyroxine-containing product, Levothyroxine sodium, Levothyroxine- and liothyronine-containing product, Dextrothyroxine, Thyroxine, Levothyroxine sodium anhydrous (substance), Dextrothyroxine-containing product, Dextrothyroxine sodium, Thyroxine-containing product, Reverse triiodothyronine, Liothyronine, Free thyroxine (substance), Thyroliberinase]\n",
              "4       0            aspirin   DRUG          387458008                                                                       [387458008, 7947003, 5145711000001107, 426365001, 412566001, 25796002, 87303007, 319796006, 398767009, 785413006, 9515101000001102, 358427004, 735135008, 770875005, 28367311000001105]                               [Aspirin, Aspirin-containing product, Aspirin powder, Aspirin, buffered, Buffered aspirin-containing product, Aluminium aspirin, Cephapirin, Aspirin- and dipyridamole-containing product, Aspirin- and glycine-containing product, Aspirin-containing product in oromucosal dose form, Micropirin, Aspirin-containing product in oral dose form, Aspirin DL-lysine (substance), Aspirin- and isosorbide-containing product, Bisoprolol + Aspirin]\n",
              "5       0  magnesium citrate   DRUG           12495006                                                                             [12495006, 387401007, 21691008, 15531411000001106, 408112000, 387202002, 419458008, 7168001, 421128005, 420129007, 53691001, 60468008, 116125009, 768454005, 49399009, 373762005]                                                                                                [Magnesium citrate, Magnesium carbonate, Magnesium trisilicate, Magnesium chloride, Magnesium malate, Magnesium sulphate, Magnesium glycinate, Magnesium carbonate-containing product, Magnesium aspartate, Magnesium orotate, Calcium gluconate, Magnesium hydroxide, Magnesium supplement agent, Magnesium chloride-containing product, Magnesium salicylate, Disodium citrate]\n",
              "6       0            insulin   DRUG           67866001                                                                          [67866001, 325072002, 414515005, 39487003, 411530000, 771372005, 706973004, 66384003, 130734006, 77001006, 411529005, 4700006, 126210001, 417524005, 412210000, 96367001, 422346007]                                                                                                                                           [Insulin, Insulin aspart, Insulin detemir, Insulin-containing product, Insulin glulisine, Insulin antagonist, Bound insulin (substance), Isophane insulin, Insulin protease, Insulin reductase, Insulin glargine, Insulin bovine, Insulin human, Incretin, Insulin lispro, Human insulin (substance), Lente human insulin (substance)]"
            ],
            "text/html": [
              "\n",
              "  <div id=\"df-fe0670f2-719d-474d-9ba9-a348f98390c0\">\n",
              "    <div class=\"colab-df-container\">\n",
              "      <div>\n",
              "<style scoped>\n",
              "    .dataframe tbody tr th:only-of-type {\n",
              "        vertical-align: middle;\n",
              "    }\n",
              "\n",
              "    .dataframe tbody tr th {\n",
              "        vertical-align: top;\n",
              "    }\n",
              "\n",
              "    .dataframe thead th {\n",
              "        text-align: right;\n",
              "    }\n",
              "</style>\n",
              "<table border=\"1\" class=\"dataframe\">\n",
              "  <thead>\n",
              "    <tr style=\"text-align: right;\">\n",
              "      <th></th>\n",
              "      <th>sent_id</th>\n",
              "      <th>ner_chunk</th>\n",
              "      <th>entity</th>\n",
              "      <th>snomed_code</th>\n",
              "      <th>all_codes</th>\n",
              "      <th>resolutions</th>\n",
              "    </tr>\n",
              "  </thead>\n",
              "  <tbody>\n",
              "    <tr>\n",
              "      <th>0</th>\n",
              "      <td>0</td>\n",
              "      <td>Fragmin</td>\n",
              "      <td>DRUG</td>\n",
              "      <td>9487801000001106</td>\n",
              "      <td>[9487801000001106, 130752006, 9486501000001106, 9536201000001105, 9455401000001105, 9522301000001103, 9681001000001107, 83545007, 9486401000001107, 428726008, 9521501000001101, 13127501000001103, 62492006, 9499601000001100, 13017301000001108, 80994002]</td>\n",
              "      <td>[Fragmin, Fragilysin (substance), Faverin, Froop (product), Frumil, frisium, Isopto Frin, Fumitremorgen, Faslodex, Denufosol, Felicium, FerroEss, Frangula (substance), Flamrase EC, Fiasp (product), Fampridine (substance)]</td>\n",
              "    </tr>\n",
              "    <tr>\n",
              "      <th>1</th>\n",
              "      <td>0</td>\n",
              "      <td>OxyContin</td>\n",
              "      <td>DRUG</td>\n",
              "      <td>9296001000001100</td>\n",
              "      <td>[9296001000001100, 373470001, 27499006, 9296201000001106, 55452001, 96375007, 230091000001108, 112118000, 9237201000001100, 781644002, 9237601000001103, 12094501000001101, 25571003]</td>\n",
              "      <td>[OxyCONTIN, Oxychlorosene, Oxyphencyclimine, Oxymycin (product), Oxycodone (substance), Cyoctol, Oxyargin, Oxyntomodulin, Celectol, Omadacycline (substance), Celontin, Cleosensa (product), Clodantoin]</td>\n",
              "    </tr>\n",
              "    <tr>\n",
              "      <th>2</th>\n",
              "      <td>0</td>\n",
              "      <td>folic acid</td>\n",
              "      <td>DRUG</td>\n",
              "      <td>63718003</td>\n",
              "      <td>[63718003, 6247001, 226316008, 432165000, 438451000124100, 9455001000001100, 418558000, 792796007, 43289005, 420207003, 419441003, 327452001, 418777000, 9454201000001105, 126224002]</td>\n",
              "      <td>[Folic acid, Folic acid-containing product, Folic acid supplement agent, L-methyl folic acid, Folate supplement, Folicare, Ferrous sulfate- and folic acid-containing product, Folate and folate derivative, Dihydrofolic acid, Ferrous fumarate- and folic acid-containing product, Ferrous gluconate- and folic acid-containing product, Folic acid- and iron-containing product, Ferric ammonium citrate- and folic acid-containing product, Ferrograd Folic, Sodium folate]</td>\n",
              "    </tr>\n",
              "    <tr>\n",
              "      <th>3</th>\n",
              "      <td>0</td>\n",
              "      <td>levothyroxine</td>\n",
              "      <td>DRUG</td>\n",
              "      <td>10071011000001106</td>\n",
              "      <td>[10071011000001106, 710809001, 768532006, 126202002, 768531004, 59170000, 73187006, 783637002, 847003, 61899008, 38076006, 60760000, 61275002, 86211008, 130608005]</td>\n",
              "      <td>[Levothyroxine, Levothyroxine (substance), Levothyroxine-containing product, Levothyroxine sodium, Levothyroxine- and liothyronine-containing product, Dextrothyroxine, Thyroxine, Levothyroxine sodium anhydrous (substance), Dextrothyroxine-containing product, Dextrothyroxine sodium, Thyroxine-containing product, Reverse triiodothyronine, Liothyronine, Free thyroxine (substance), Thyroliberinase]</td>\n",
              "    </tr>\n",
              "    <tr>\n",
              "      <th>4</th>\n",
              "      <td>0</td>\n",
              "      <td>aspirin</td>\n",
              "      <td>DRUG</td>\n",
              "      <td>387458008</td>\n",
              "      <td>[387458008, 7947003, 5145711000001107, 426365001, 412566001, 25796002, 87303007, 319796006, 398767009, 785413006, 9515101000001102, 358427004, 735135008, 770875005, 28367311000001105]</td>\n",
              "      <td>[Aspirin, Aspirin-containing product, Aspirin powder, Aspirin, buffered, Buffered aspirin-containing product, Aluminium aspirin, Cephapirin, Aspirin- and dipyridamole-containing product, Aspirin- and glycine-containing product, Aspirin-containing product in oromucosal dose form, Micropirin, Aspirin-containing product in oral dose form, Aspirin DL-lysine (substance), Aspirin- and isosorbide-containing product, Bisoprolol + Aspirin]</td>\n",
              "    </tr>\n",
              "    <tr>\n",
              "      <th>5</th>\n",
              "      <td>0</td>\n",
              "      <td>magnesium citrate</td>\n",
              "      <td>DRUG</td>\n",
              "      <td>12495006</td>\n",
              "      <td>[12495006, 387401007, 21691008, 15531411000001106, 408112000, 387202002, 419458008, 7168001, 421128005, 420129007, 53691001, 60468008, 116125009, 768454005, 49399009, 373762005]</td>\n",
              "      <td>[Magnesium citrate, Magnesium carbonate, Magnesium trisilicate, Magnesium chloride, Magnesium malate, Magnesium sulphate, Magnesium glycinate, Magnesium carbonate-containing product, Magnesium aspartate, Magnesium orotate, Calcium gluconate, Magnesium hydroxide, Magnesium supplement agent, Magnesium chloride-containing product, Magnesium salicylate, Disodium citrate]</td>\n",
              "    </tr>\n",
              "    <tr>\n",
              "      <th>6</th>\n",
              "      <td>0</td>\n",
              "      <td>insulin</td>\n",
              "      <td>DRUG</td>\n",
              "      <td>67866001</td>\n",
              "      <td>[67866001, 325072002, 414515005, 39487003, 411530000, 771372005, 706973004, 66384003, 130734006, 77001006, 411529005, 4700006, 126210001, 417524005, 412210000, 96367001, 422346007]</td>\n",
              "      <td>[Insulin, Insulin aspart, Insulin detemir, Insulin-containing product, Insulin glulisine, Insulin antagonist, Bound insulin (substance), Isophane insulin, Insulin protease, Insulin reductase, Insulin glargine, Insulin bovine, Insulin human, Incretin, Insulin lispro, Human insulin (substance), Lente human insulin (substance)]</td>\n",
              "    </tr>\n",
              "  </tbody>\n",
              "</table>\n",
              "</div>\n",
              "      <button class=\"colab-df-convert\" onclick=\"convertToInteractive('df-fe0670f2-719d-474d-9ba9-a348f98390c0')\"\n",
              "              title=\"Convert this dataframe to an interactive table.\"\n",
              "              style=\"display:none;\">\n",
              "        \n",
              "  <svg xmlns=\"http://www.w3.org/2000/svg\" height=\"24px\"viewBox=\"0 0 24 24\"\n",
              "       width=\"24px\">\n",
              "    <path d=\"M0 0h24v24H0V0z\" fill=\"none\"/>\n",
              "    <path d=\"M18.56 5.44l.94 2.06.94-2.06 2.06-.94-2.06-.94-.94-2.06-.94 2.06-2.06.94zm-11 1L8.5 8.5l.94-2.06 2.06-.94-2.06-.94L8.5 2.5l-.94 2.06-2.06.94zm10 10l.94 2.06.94-2.06 2.06-.94-2.06-.94-.94-2.06-.94 2.06-2.06.94z\"/><path d=\"M17.41 7.96l-1.37-1.37c-.4-.4-.92-.59-1.43-.59-.52 0-1.04.2-1.43.59L10.3 9.45l-7.72 7.72c-.78.78-.78 2.05 0 2.83L4 21.41c.39.39.9.59 1.41.59.51 0 1.02-.2 1.41-.59l7.78-7.78 2.81-2.81c.8-.78.8-2.07 0-2.86zM5.41 20L4 18.59l7.72-7.72 1.47 1.35L5.41 20z\"/>\n",
              "  </svg>\n",
              "      </button>\n",
              "      \n",
              "  <style>\n",
              "    .colab-df-container {\n",
              "      display:flex;\n",
              "      flex-wrap:wrap;\n",
              "      gap: 12px;\n",
              "    }\n",
              "\n",
              "    .colab-df-convert {\n",
              "      background-color: #E8F0FE;\n",
              "      border: none;\n",
              "      border-radius: 50%;\n",
              "      cursor: pointer;\n",
              "      display: none;\n",
              "      fill: #1967D2;\n",
              "      height: 32px;\n",
              "      padding: 0 0 0 0;\n",
              "      width: 32px;\n",
              "    }\n",
              "\n",
              "    .colab-df-convert:hover {\n",
              "      background-color: #E2EBFA;\n",
              "      box-shadow: 0px 1px 2px rgba(60, 64, 67, 0.3), 0px 1px 3px 1px rgba(60, 64, 67, 0.15);\n",
              "      fill: #174EA6;\n",
              "    }\n",
              "\n",
              "    [theme=dark] .colab-df-convert {\n",
              "      background-color: #3B4455;\n",
              "      fill: #D2E3FC;\n",
              "    }\n",
              "\n",
              "    [theme=dark] .colab-df-convert:hover {\n",
              "      background-color: #434B5C;\n",
              "      box-shadow: 0px 1px 3px 1px rgba(0, 0, 0, 0.15);\n",
              "      filter: drop-shadow(0px 1px 2px rgba(0, 0, 0, 0.3));\n",
              "      fill: #FFFFFF;\n",
              "    }\n",
              "  </style>\n",
              "\n",
              "      <script>\n",
              "        const buttonEl =\n",
              "          document.querySelector('#df-fe0670f2-719d-474d-9ba9-a348f98390c0 button.colab-df-convert');\n",
              "        buttonEl.style.display =\n",
              "          google.colab.kernel.accessAllowed ? 'block' : 'none';\n",
              "\n",
              "        async function convertToInteractive(key) {\n",
              "          const element = document.querySelector('#df-fe0670f2-719d-474d-9ba9-a348f98390c0');\n",
              "          const dataTable =\n",
              "            await google.colab.kernel.invokeFunction('convertToInteractive',\n",
              "                                                     [key], {});\n",
              "          if (!dataTable) return;\n",
              "\n",
              "          const docLinkHtml = 'Like what you see? Visit the ' +\n",
              "            '<a target=\"_blank\" href=https://colab.research.google.com/notebooks/data_table.ipynb>data table notebook</a>'\n",
              "            + ' to learn more about interactive tables.';\n",
              "          element.innerHTML = '';\n",
              "          dataTable['output_type'] = 'display_data';\n",
              "          await google.colab.output.renderOutput(dataTable, element);\n",
              "          const docLink = document.createElement('div');\n",
              "          docLink.innerHTML = docLinkHtml;\n",
              "          element.appendChild(docLink);\n",
              "        }\n",
              "      </script>\n",
              "    </div>\n",
              "  </div>\n",
              "  "
            ]
          },
          "metadata": {},
          "execution_count": 29
        }
      ]
    },
    {
      "cell_type": "code",
      "source": [
        "light_result = light_model.fullAnnotate(sample_text)\n",
        "\n",
        "er_vis = EntityResolverVisualizer()\n",
        "\n",
        "er_vis.display(light_result[0],\n",
        "               label_col='ner_chunk',\n",
        "               resolution_col = 'snomed_code',\n",
        "               document_col='document'\n",
        "               )"
      ],
      "metadata": {
        "colab": {
          "base_uri": "https://localhost:8080/",
          "height": 145
        },
        "id": "C1ppOQm5dfJq",
        "outputId": "60b1b379-22a9-44c3-c26e-55196cac8b22"
      },
      "execution_count": 31,
      "outputs": [
        {
          "output_type": "display_data",
          "data": {
            "text/plain": [
              "<IPython.core.display.HTML object>"
            ],
            "text/html": [
              "\n",
              "<style>\n",
              "    @import url('https://fonts.googleapis.com/css2?family=Montserrat:wght@300;400;500;600;700&display=swap');\n",
              "    @import url('https://fonts.googleapis.com/css2?family=Vistol Regular:wght@300;400;500;600;700&display=swap');\n",
              "    \n",
              "    .spark-nlp-display-scroll-entities {\n",
              "        border: 1px solid #E7EDF0;\n",
              "        border-radius: 3px;\n",
              "        text-align: justify;\n",
              "        \n",
              "    }\n",
              "    .spark-nlp-display-scroll-entities span {  \n",
              "        font-size: 14px;\n",
              "        line-height: 24px;\n",
              "        color: #536B76;\n",
              "        font-family: 'Montserrat', sans-serif !important;\n",
              "    }\n",
              "    \n",
              "    .spark-nlp-display-entity-wrapper{\n",
              "    \n",
              "        display: inline-grid;\n",
              "        text-align: center;\n",
              "        border-radius: 4px;\n",
              "        margin: 0 2px 5px 2px;\n",
              "        padding: 1px\n",
              "    }\n",
              "    .spark-nlp-display-entity-name{\n",
              "        font-size: 14px;\n",
              "        line-height: 24px;\n",
              "        font-family: 'Montserrat', sans-serif !important;\n",
              "        \n",
              "        background: #f1f2f3;\n",
              "        border-width: medium;\n",
              "        text-align: center;\n",
              "        \n",
              "        font-weight: 400;\n",
              "        \n",
              "        border-radius: 5px;\n",
              "        padding: 2px 5px;\n",
              "        display: block;\n",
              "        margin: 3px 2px;\n",
              "    \n",
              "    }\n",
              "    .spark-nlp-display-entity-type{\n",
              "        font-size: 14px;\n",
              "        line-height: 24px;\n",
              "        color: #ffffff;\n",
              "        font-family: 'Montserrat', sans-serif !important;\n",
              "        \n",
              "        text-transform: uppercase;\n",
              "        \n",
              "        font-weight: 500;\n",
              "\n",
              "        display: block;\n",
              "        padding: 3px 5px;\n",
              "    }\n",
              "    \n",
              "    .spark-nlp-display-entity-resolution{\n",
              "        font-size: 14px;\n",
              "        line-height: 24px;\n",
              "        color: #ffffff;\n",
              "        font-family: 'Vistol Regular', sans-serif !important;\n",
              "        \n",
              "        text-transform: uppercase;\n",
              "        \n",
              "        font-weight: 500;\n",
              "\n",
              "        display: block;\n",
              "        padding: 3px 5px;\n",
              "    }\n",
              "    \n",
              "    .spark-nlp-display-others{\n",
              "        font-size: 14px;\n",
              "        line-height: 24px;\n",
              "        font-family: 'Montserrat', sans-serif !important;\n",
              "        \n",
              "        font-weight: 400;\n",
              "    }\n",
              "\n",
              "</style>\n",
              " <span class=\"spark-nlp-display-others\" style=\"background-color: white\">She is given </span><span class=\"spark-nlp-display-entity-wrapper\" style=\"background-color: #8B668BB3\"><span class=\"spark-nlp-display-entity-name\">Fragmin </span><span class=\"spark-nlp-display-entity-type\">DRUG</span><span class=\"spark-nlp-display-entity-resolution\" style=\"background-color: #8B668BFF\">9487801000001106 </span><span class=\"spark-nlp-display-entity-resolution\" style=\"background-color: #8B668BCC\">Fragmin</span></span><span class=\"spark-nlp-display-others\" style=\"background-color: white\"> 5000 units subcutaneously daily, </span><span class=\"spark-nlp-display-entity-wrapper\" style=\"background-color: #8B668BB3\"><span class=\"spark-nlp-display-entity-name\">OxyContin </span><span class=\"spark-nlp-display-entity-type\">DRUG</span><span class=\"spark-nlp-display-entity-resolution\" style=\"background-color: #8B668BFF\">9296001000001100 </span><span class=\"spark-nlp-display-entity-resolution\" style=\"background-color: #8B668BCC\">OxyCONTIN</span></span><span class=\"spark-nlp-display-others\" style=\"background-color: white\"> 30 mg p.o. q.12 h., </span><span class=\"spark-nlp-display-entity-wrapper\" style=\"background-color: #8B668BB3\"><span class=\"spark-nlp-display-entity-name\">folic acid </span><span class=\"spark-nlp-display-entity-type\">DRUG</span><span class=\"spark-nlp-display-entity-resolution\" style=\"background-color: #8B668BFF\">63718003 </span><span class=\"spark-nlp-display-entity-resolution\" style=\"background-color: #8B668BCC\">Folic acid</span></span><span class=\"spark-nlp-display-others\" style=\"background-color: white\"> 1 mg daily, </span><span class=\"spark-nlp-display-entity-wrapper\" style=\"background-color: #8B668BB3\"><span class=\"spark-nlp-display-entity-name\">levothyroxine </span><span class=\"spark-nlp-display-entity-type\">DRUG</span><span class=\"spark-nlp-display-entity-resolution\" style=\"background-color: #8B668BFF\">10071011000001106 </span><span class=\"spark-nlp-display-entity-resolution\" style=\"background-color: #8B668BCC\">Levothyroxine</span></span><span class=\"spark-nlp-display-others\" style=\"background-color: white\"> 0.1 mg p.o. daily, </span><span class=\"spark-nlp-display-entity-wrapper\" style=\"background-color: #8B668BB3\"><span class=\"spark-nlp-display-entity-name\">aspirin </span><span class=\"spark-nlp-display-entity-type\">DRUG</span><span class=\"spark-nlp-display-entity-resolution\" style=\"background-color: #8B668BFF\">387458008 </span><span class=\"spark-nlp-display-entity-resolution\" style=\"background-color: #8B668BCC\">Aspirin</span></span><span class=\"spark-nlp-display-others\" style=\"background-color: white\"> 81 mg daily, </span><span class=\"spark-nlp-display-entity-wrapper\" style=\"background-color: #8B668BB3\"><span class=\"spark-nlp-display-entity-name\">magnesium citrate </span><span class=\"spark-nlp-display-entity-type\">DRUG</span><span class=\"spark-nlp-display-entity-resolution\" style=\"background-color: #8B668BFF\">12495006 </span><span class=\"spark-nlp-display-entity-resolution\" style=\"background-color: #8B668BCC\">Magnesium citrate</span></span><span class=\"spark-nlp-display-others\" style=\"background-color: white\"> 1 bottle p.o. p.r.n., sliding scale coverage </span><span class=\"spark-nlp-display-entity-wrapper\" style=\"background-color: #8B668BB3\"><span class=\"spark-nlp-display-entity-name\">insulin </span><span class=\"spark-nlp-display-entity-type\">DRUG</span><span class=\"spark-nlp-display-entity-resolution\" style=\"background-color: #8B668BFF\">67866001 </span><span class=\"spark-nlp-display-entity-resolution\" style=\"background-color: #8B668BCC\">Insulin</span></span><span class=\"spark-nlp-display-others\" style=\"background-color: white\">.</span></div>"
            ]
          },
          "metadata": {}
        }
      ]
    }
  ]
}
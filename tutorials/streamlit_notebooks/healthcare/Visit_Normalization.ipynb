{
  "nbformat": 4,
  "nbformat_minor": 0,
  "metadata": {
    "colab": {
      "name": "Visit_Normalization_Colab.ipynb",
      "provenance": [],
      "collapsed_sections": []
    },
    "kernelspec": {
      "display_name": "Environment (conda_tensorflow_p36)",
      "language": "python",
      "name": "conda_tensorflow_p36"
    },
    "language_info": {
      "codemirror_mode": {
        "name": "ipython",
        "version": 3
      },
      "file_extension": ".py",
      "mimetype": "text/x-python",
      "name": "python",
      "nbconvert_exporter": "python",
      "pygments_lexer": "ipython3",
      "version": "3.6.10"
    }
  },
  "cells": [
    {
      "cell_type": "code",
      "metadata": {
        "colab": {
          "resources": {
            "http://localhost:8080/nbextensions/google.colab/files.js": {
              "data": "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",
              "ok": true,
              "headers": [
                [
                  "content-type",
                  "application/javascript"
                ]
              ],
              "status": 200,
              "status_text": ""
            }
          },
          "base_uri": "https://localhost:8080/",
          "height": 73
        },
        "id": "swFak06MUMGN",
        "outputId": "0ece349b-1457-4077-c346-959673452752"
      },
      "source": [
        "import json\n",
        "\n",
        "from google.colab import files\n",
        "\n",
        "license_keys = files.upload()\n",
        "\n",
        "with open(list(license_keys.keys())[0]) as f:\n",
        "    license_keys = json.load(f)"
      ],
      "execution_count": 1,
      "outputs": [
        {
          "output_type": "display_data",
          "data": {
            "text/html": [
              "\n",
              "     <input type=\"file\" id=\"files-36aa7deb-3657-4541-9cea-7438f06941cd\" name=\"files[]\" multiple disabled\n",
              "        style=\"border:none\" />\n",
              "     <output id=\"result-36aa7deb-3657-4541-9cea-7438f06941cd\">\n",
              "      Upload widget is only available when the cell has been executed in the\n",
              "      current browser session. Please rerun this cell to enable.\n",
              "      </output>\n",
              "      <script src=\"/nbextensions/google.colab/files.js\"></script> "
            ],
            "text/plain": [
              "<IPython.core.display.HTML object>"
            ]
          },
          "metadata": {}
        },
        {
          "output_type": "stream",
          "name": "stdout",
          "text": [
            "Saving public321_jsl321_ocr_370.json to public321_jsl321_ocr_370.json\n"
          ]
        }
      ]
    },
    {
      "cell_type": "code",
      "metadata": {
        "id": "JqwZPAUjUd-n"
      },
      "source": [
        "locals().update(license_keys)\n",
        "\n",
        "import os\n",
        "for k,v in license_keys.items():\n",
        "    os.environ[k] = v"
      ],
      "execution_count": 2,
      "outputs": []
    },
    {
      "cell_type": "code",
      "metadata": {
        "id": "e80O9g4lUUdQ"
      },
      "source": [
        "%%capture\n",
        "\n",
        "!wget https://raw.githubusercontent.com/JohnSnowLabs/spark-nlp-workshop/master/jsl_colab_setup.sh\n",
        "!bash jsl_colab_setup.sh\n",
        "\n",
        "! pip install spark-nlp-display"
      ],
      "execution_count": 3,
      "outputs": []
    },
    {
      "cell_type": "code",
      "metadata": {
        "colab": {
          "base_uri": "https://localhost:8080/"
        },
        "id": "RvxNLVuJUUEX",
        "outputId": "4634ac59-bafe-4c71-ec32-9db86010ff18"
      },
      "source": [
        "import json\n",
        "import os\n",
        "from pyspark.ml import Pipeline,PipelineModel\n",
        "from pyspark.sql import SparkSession\n",
        "\n",
        "from sparknlp.annotator import *\n",
        "from sparknlp_jsl.annotator import *\n",
        "from sparknlp.base import *\n",
        "import sparknlp_jsl\n",
        "import sparknlp\n",
        "\n",
        "from pyspark.sql import functions as F\n",
        "\n",
        "params = {\"spark.driver.memory\":\"16G\",\n",
        "\"spark.kryoserializer.buffer.max\":\"2000M\",\n",
        "\"spark.driver.maxResultSize\":\"2000M\"}\n",
        "\n",
        "spark = sparknlp_jsl.start(license_keys['SECRET'],params=params)\n",
        "\n",
        "print (\"Spark NLP Version :\", sparknlp.version())\n",
        "print (\"Spark NLP_JSL Version :\", sparknlp_jsl.version())"
      ],
      "execution_count": 4,
      "outputs": [
        {
          "output_type": "stream",
          "name": "stdout",
          "text": [
            "Spark NLP Version : 3.2.1\n",
            "Spark NLP_JSL Version : 3.2.1\n"
          ]
        }
      ]
    },
    {
      "cell_type": "code",
      "metadata": {
        "id": "fI_tI1vRUGM_"
      },
      "source": [
        "model = 'visit_normalization'"
      ],
      "execution_count": 5,
      "outputs": []
    },
    {
      "cell_type": "code",
      "metadata": {
        "id": "hp3kShVqUGM_"
      },
      "source": [
        "input_list = [\"\"\"Sample Name: Mesothelioma - Pleural Biopsy\n",
        "Description: Right pleural effusion and suspected malignant mesothelioma. (Medical Transcription Sample Report)\n",
        "PREOPERATIVE DIAGNOSIS:  Right pleural effusion and suspected malignant mesothelioma.\n",
        "POSTOPERATIVE DIAGNOSIS: Right pleural effusion, suspected malignant mesothelioma.\n",
        "PROCEDURE:  Right VATS pleurodesis and pleural biopsy.\n",
        "ANESTHESIA: General double-lumen endotracheal.\n",
        "DESCRIPTION OF FINDINGS:  Right pleural effusion, firm nodules, diffuse scattered throughout the right pleura and diaphragmatic surface.\n",
        "SPECIMEN:  Pleural biopsies for pathology and microbiology.\n",
        "INDICATIONS:  Briefly, this is a 66-year-old gentleman who has been transferred from an outside hospital after a pleural effusion had been drained and biopsies taken from the right chest that were thought to be consistent with mesothelioma. Upon transfer, he had a right pleural effusion demonstrated on x-ray as well as some shortness of breath and dyspnea on exertion. The risks, benefits, and alternatives to right VATS pleurodesis and pleural biopsy were discussed with the patient and his family and they wished to proceed.\n",
        "Dr. X was present for the entire procedure which was right VATS pleurodesis and pleural biopsies.The counts were correct x2 at the end of the case.\"\"\",\n",
        "             \"\"\"Sample Name: MediPort Placement\n",
        "Description: Rhabdomyosarcoma of the left orbit. Left subclavian vein MediPort placement. Needs chemotherapy. (Medical Transcription Sample Report)\n",
        "PREOPERATIVE DIAGNOSIS: Rhabdomyosarcoma of the left orbit.\n",
        "POSTOPERATIVE DIAGNOSIS: Rhabdomyosarcoma of the left orbit.\n",
        "PROCEDURE:  Left subclavian vein MediPort placement (7.5-French single-lumen).\n",
        "INDICATIONS FOR PROCEDURE:  This patient is a 16-year-old girl, with newly diagnosed rhabdomyosarcoma of the left orbit. The patient is being taken to the operating room for MediPort placement. She needs chemotherapy.\n",
        "DESCRIPTION OF PROCEDURE:  The patient was taken to the operating room, placed supine, put under general endotracheal anesthesia. The patient's neck, chest, and shoulders were prepped and draped in usual sterile fashion. An incision was made on the left shoulder area. The left subclavian vein was cannulated. The wire was passed, which was in good position under fluoro, using Seldinger Technique. Near wire incision site made a pocket above the fascia and sutured in a size 7.5-French single-lumen MediPort into the pocket in 4 places using 3-0 Nurolon. I then sized the catheter under fluoro and placed introducer and dilator over the wire, removed the wire and dilator, placed the catheter through the introducer and removed the introducer. The line tip was in good position under fluoro. It withdrew and flushed well. I then closed the incision using 4-0 Vicryl, 5-0 Monocryl for the skin, and dressed with Steri-Strips. Accessed the ports with a 1-inch 20-gauge Huber needle, and it withdrew and flushed well with final heparin flush. We secured this with Tegaderm. The patient is then to undergo bilateral bone marrow biopsy and lumbar puncture by Oncology.\"\"\",\n",
        "             \"\"\"Sample Name: Leiomyosarcoma\n",
        "Description: Discharge summary of patient with leiomyosarcoma and history of pulmonary embolism, subdural hematoma, pancytopenia, and pneumonia. (Medical Transcription Sample Report)\n",
        "ADMITTING DIAGNOSES: 1. Leiomyosarcoma.2. History of pulmonary embolism.3. History of subdural hematoma.4. Pancytopenia.5. History of pneumonia.\n",
        "PROCEDURES DURING HOSPITALIZATION: 1. Cycle six of CIVI-CAD (Cytoxan, Adriamycin, and DTIC) from 07/22/2008 to 07/29/2008.2. CTA, chest PE study showing no evidence for pulmonary embolism.\n",
        "3. Head CT showing no evidence of acute intracranial abnormalities.4. Sinus CT, normal mini-CT of the paranasal sinuses.\n",
        "HOSPITAL COURSE: 1. Leiomyosarcoma, the patient was admitted to Hem/Onco B Service under attending Dr. XYZ for cycle six of continuous IV infusion Cytoxan, Adriamycin, and DTIC, which she tolerated well.2. History of pulmonary embolism. Upon admission, the patient reported an approximate two-week history of dyspnea on exertion and some mild chest pain. She underwent a CTA, which showed no evidence of pulmonary embolism and the patient was started on prophylactic doses of Lovenox at 40 mg a day. She had no further complaints throughout the hospitalization with any shortness of breath or chest pain.3. History of subdural hematoma, also on admission the patient noted some mild intermittent headaches that were fleeting in nature, several a day that would resolve on their own. Her headaches were not responding to pain medication and so on 07/24/2008, we obtained a head CT that showed no evidence of acute intracranial abnormalities. The patient also had a history of sinusitis and so a sinus CT scan was obtained, which was normal.4. Pancytopenia. On admission, the patient's white blood count was 3.4, hemoglobin 11.3, platelet count 82, and ANC of 2400. The patient's counts were followed throughout admission. She did not require transfusion of red blood cells or platelets; however, on 07/26/2008 her ANC did dip to 900 and she was placed on neutropenic diet. At discharge her ANC is back up to 1100 and she is taken off neutropenic diet. Her white blood cell count at discharge was 1.4 and her hemoglobin was 11.2 with a platelet count of 140.\n",
        "5. History of pneumonia. During admission, the patient did not exhibit any signs or symptoms of pneumonia.\n",
        "DISPOSITION:  Home in stable condition.\n",
        "DIET:  Regular and less neutropenic.\n",
        "ACTIVITY:  Resume same activity.\n",
        "FOLLOWUP: The patient will have lab work at Dr. XYZ on 08/05/2008 and she will also return to the cancer center on 08/12/2008 at 10:20 a.m. The patient is also advised to monitor for any fevers greater than 100.5 and should she have any further problems in the meantime to please call in to be seen sooner.\"\"\",\n",
        "             \"\"\"Sample Name: Sickle Cell Anemia - ER Visit\n",
        "Description: A 19-year-old known male with sickle cell anemia comes to the emergency room on his own with 3-day history of back pain.\n",
        "(Medical Transcription Sample Report)\n",
        "HISTORY OF PRESENT ILLNESS:  This is a 19-year-old known male with sickle cell anemia. He comes to the emergency room on his own with 3-day history of back pain. He is on no medicines. He does live with a room mate. Appetite is decreased. No diarrhea, vomiting. Voiding well. Bowels have been regular. Denies any abdominal pain. Complains of a slight headaches, but his main concern is back ache that extends from above the lower T-spine to the lumbosacral spine. The patient is not sure of his immunizations. The patient does have sickle cell and hemoglobin is followed in the Hematology Clinic.\n",
        "ALLERGIES:  THE PATIENT IS ALLERGIC TO TYLENOL WITH CODEINE, but he states he can get morphine along with Benadryl.\n",
        "MEDICATIONS:  He was previously on folic acid. None at the present time.\n",
        "PAST SURGICAL HISTORY:  He has had no surgeries in the past.\n",
        "FAMILY HISTORY:  Positive for diabetes, hypertension and cancer.\n",
        "SOCIAL HISTORY:  He denies any smoking or drug usage.\n",
        "PHYSICAL EXAMINATION:  VITAL SIGNS: On examination, the patient has a temp of 37 degrees tympanic, pulse was recorded at 37 per minute, but subsequently it was noted to be 66 per minute, respiratory rate is 24 per minute and blood pressure is 149/66, recheck blood pressure was 132/72.\"\"\",\n",
        "             \"\"\"Sample Name: Consult - Breast Cancer - 1\n",
        "Description: The patient is a 57-year-old female with invasive ductal carcinoma of the left breast, T1c, Nx, M0 left breast carcinoma.\n",
        "(Medical Transcription Sample Report)\n",
        "CHIEF COMPLAINT:  Left breast cancer.\n",
        "MEDICATION: She is currently on omeprazole for reflux and indigestion.\n",
        "ALLERGIES: SHE HAS NO KNOWN DRUG ALLERGIES.\n",
        "REVIEW OF SYSTEMS: Negative for any recent febrile illnesses, chest pains or shortness of breath. Positive for restless leg syndrome. Negative for any unexplained weight loss and no change in bowel or bladder habits.\n",
        "FAMILY HISTORY: Positive for breast cancer in her mother and also mesothelioma from possible asbestosis or asbestos exposure.\n",
        "SOCIAL HISTORY: The patient works as a school teacher and teaching high school.\n",
        "PHYSICAL EXAMINATION: The patient is a white female, alert and oriented x 3, appears her stated age of 57. Head is atraumatic and normocephalic. Sclerae are anicteric. Regular rate and rhythm. \n",
        "RECOMMENDATIONS:  I have discussed with the patient in detail about the diagnosis of breast cancer and the surgical options, and medical oncologist has discussed with her issues about adjuvant or neoadjuvant chemotherapy. We have decided to recommend to the patient breast conservation surgery with left breast lumpectomy with preoperative sentinel lymph node injection and mapping and left axillary dissection. The possibility of further surgery requiring wider lumpectomy or even completion mastectomy was explained to the patient. The procedure and risks of the surgery were explained to include, but not limited to extra bleeding, infection, unsightly scar formation, the possibility of local recurrence, the possibility of left upper extremity lymphedema was explained. Local numbness, paresthesias or chronic pain was explained. The patient was given an educational brochure and several brochures about the diagnosis and treatment of breast cancers. She was certainly encouraged to obtain further surgical medical opinions prior to proceeding. I believe the patient has given full informed consent and desires to proceed with the above.\"\"\",\n",
        "             \"\"\"Sample Name: Consult - Breast Cancer - 1\n",
        "Description: A female with a history of peritoneal mesothelioma who has received prior intravenous chemotherapy.\n",
        "(Medical Transcription Sample Report)\n",
        "REASON FOR ADMISSION: Intraperitoneal chemotherapy.\n",
        "MEDICATIONS:  Norco 10 per 325 one to two p.o. q.4h. p.r.n. pain, atenolol 50 mg p.o. b.i.d., Levoxyl 75 mcg p.o. daily, Phenergan 25 mg p.o. q.4-6h. p.r.n. nausea, lorazepam 0.5 mg every 8 hours as needed for anxiety, Ventolin HFA 2 puffs q.6h. p.r.n., Plavix 75 mg p.o. daily, Norvasc 10 mg p.o. daily, Cymbalta 60 mg p.o. daily, and Restoril 30 mg at bedtime as needed for sleep.\n",
        "ALLERGIES:  THE PATIENT STATES THAT ON OCCASION LORAZEPAM DOSE PRODUCE HALLUCINATIONS, AND SHE HAD DIFFICULTY TOLERATING ATIVAN.\n",
        "PHYSICAL EXAMINATION: Vital Signs : The patient's height is 165 cm, weight is 77 kg. BSA is 1.8 sq m. The vital signs reveal blood pressure to be 158/75, heart rate 61 per minute with a regular sinus rhythm, temperature of 96.6 degrees, respiratory rate 18 with an SpO2 of 100% on room air. She is normally developed; well nourished; very cooperative; oriented to person, place, and time; and in no distress at this time. She is anicteric.\n",
        "DIAGNOSTIC IMPRESSION:\n",
        "1. Intraperitoneal mesothelioma, partial remission, as noted by CT scan of the abdomen.2. Presumed left lower pole kidney hemorrhagic cyst.3. History of hypertension.4. Type 1 bipolar disease.\n",
        "PLAN:  The patient will have appropriate laboratory studies done. A left renal ultrasound is requested to further delineate the possible hemorrhagic cyst in the lower left pole of the left kidney. Interventional radiology will access for ports in the abdomen. She will receive chemotherapy intraperitoneally. The plan will be to use intraperitoneal Taxol.\"\"\"]"
      ],
      "execution_count": 6,
      "outputs": []
    },
    {
      "cell_type": "code",
      "metadata": {
        "colab": {
          "base_uri": "https://localhost:8080/"
        },
        "id": "EPF7EV4tUGNI",
        "outputId": "27e7f645-b835-461c-9635-a7764b6b8f5f"
      },
      "source": [
        "documentAssembler = DocumentAssembler()\\\n",
        "      .setInputCol(\"text\")\\\n",
        "      .setOutputCol(\"document\")\n",
        " \n",
        "sentenceDetector = SentenceDetectorDLModel.pretrained()\\\n",
        "      .setInputCols([\"document\"])\\\n",
        "      .setOutputCol(\"sentence\")\n",
        " \n",
        "tokenizer = Tokenizer()\\\n",
        "      .setInputCols([\"sentence\"])\\\n",
        "      .setOutputCol(\"token\")\\\n",
        " \n",
        "word_embeddings = WordEmbeddingsModel.pretrained(\"embeddings_clinical\", \"en\", \"clinical/models\")\\\n",
        "      .setInputCols([\"sentence\", \"token\"])\\\n",
        "      .setOutputCol(\"embeddings\")\n",
        " \n",
        "c2doc = Chunk2Doc()\\\n",
        "      .setInputCols(\"ner_chunk\")\\\n",
        "      .setOutputCol(\"ner_chunk_doc\") \n",
        " \n",
        "clinical_ner = MedicalNerModel.pretrained(\"ner_jsl_slim\", \"en\", \"clinical/models\") \\\n",
        "      .setInputCols([\"sentence\", \"token\", \"embeddings\"]) \\\n",
        "      .setOutputCol(\"ner\")\n",
        " \n",
        "ner_converter = NerConverter() \\\n",
        "      .setInputCols([\"sentence\", \"token\", \"ner\"]) \\\n",
        "      .setOutputCol(\"ner_chunk\")\\\n",
        "      .setWhiteList([\"Header\"])\n",
        "\n",
        "pipeline = Pipeline(\n",
        "    stages = [\n",
        "        documentAssembler,\n",
        "        sentenceDetector,\n",
        "        tokenizer,\n",
        "        word_embeddings,\n",
        "        clinical_ner,\n",
        "        ner_converter\n",
        "    ])\n",
        " \n",
        "empty_df = spark.createDataFrame([[\"\"]]).toDF('text')\n",
        "pipeline_model = pipeline.fit(empty_df)"
      ],
      "execution_count": 7,
      "outputs": [
        {
          "output_type": "stream",
          "name": "stdout",
          "text": [
            "sentence_detector_dl download started this may take some time.\n",
            "Approximate size to download 354.6 KB\n",
            "[OK!]\n",
            "embeddings_clinical download started this may take some time.\n",
            "Approximate size to download 1.6 GB\n",
            "[OK!]\n",
            "ner_jsl_slim download started this may take some time.\n",
            "Approximate size to download 14.4 MB\n",
            "[OK!]\n"
          ]
        }
      ]
    },
    {
      "cell_type": "code",
      "metadata": {
        "id": "00g3XmF-UGNI"
      },
      "source": [
        "files = [f\"{i}.txt\" for i in (range(1, len(input_list)+1))]"
      ],
      "execution_count": 8,
      "outputs": []
    },
    {
      "cell_type": "code",
      "metadata": {
        "id": "ZRxv2WKjUGNJ"
      },
      "source": [
        "import pandas as pd\n",
        "\n",
        "df = spark.createDataFrame(pd.DataFrame({'text': input_list, 'file' : files}))"
      ],
      "execution_count": 9,
      "outputs": []
    },
    {
      "cell_type": "code",
      "metadata": {
        "id": "7AaKoK5sUGNJ"
      },
      "source": [
        "light_pipeline = LightPipeline(pipeline_model)"
      ],
      "execution_count": 10,
      "outputs": []
    },
    {
      "cell_type": "markdown",
      "metadata": {
        "id": "XjgpBmXmUGNK"
      },
      "source": [
        "# NER Visuzalization"
      ]
    },
    {
      "cell_type": "code",
      "metadata": {
        "colab": {
          "base_uri": "https://localhost:8080/"
        },
        "id": "Ev-y-FCOUGNL",
        "outputId": "5d2723b7-68c1-4cee-e1ba-301fce62d4d8"
      },
      "source": [
        "result_ner = pipeline_model.transform(df)\n",
        "result_ner.select(F.explode(F.arrays_zip('ner_chunk.result', 'ner_chunk.metadata')).alias(\"cols\")) \\\n",
        "      .select(F.expr(\"cols['0']\").alias(\"chunk\"),\n",
        "              F.expr(\"cols['1']['entity']\").alias(\"ner_label\"))\\\n",
        "      .show(truncate=False)\n",
        "result_ner = result_ner.toPandas()"
      ],
      "execution_count": 11,
      "outputs": [
        {
          "output_type": "stream",
          "name": "stdout",
          "text": [
            "+----------------------------------+---------+\n",
            "|chunk                             |ner_label|\n",
            "+----------------------------------+---------+\n",
            "|Description:                      |Header   |\n",
            "|PREOPERATIVE DIAGNOSIS:           |Header   |\n",
            "|POSTOPERATIVE DIAGNOSIS:          |Header   |\n",
            "|PROCEDURE:                        |Header   |\n",
            "|ANESTHESIA:                       |Header   |\n",
            "|DESCRIPTION OF FINDINGS:          |Header   |\n",
            "|SPECIMEN:                         |Header   |\n",
            "|INDICATIONS:                      |Header   |\n",
            "|Description:                      |Header   |\n",
            "|PREOPERATIVE DIAGNOSIS:           |Header   |\n",
            "|POSTOPERATIVE DIAGNOSIS:          |Header   |\n",
            "|PROCEDURE:                        |Header   |\n",
            "|INDICATIONS FOR PROCEDURE:        |Header   |\n",
            "|DESCRIPTION OF PROCEDURE:         |Header   |\n",
            "|Description:                      |Header   |\n",
            "|ADMITTING DIAGNOSES:              |Header   |\n",
            "|PROCEDURES DURING HOSPITALIZATION:|Header   |\n",
            "|HOSPITAL COURSE:                  |Header   |\n",
            "|DISPOSITION:                      |Header   |\n",
            "|DIET:                             |Header   |\n",
            "+----------------------------------+---------+\n",
            "only showing top 20 rows\n",
            "\n"
          ]
        }
      ]
    },
    {
      "cell_type": "code",
      "metadata": {
        "colab": {
          "base_uri": "https://localhost:8080/",
          "height": 733
        },
        "id": "wH9cWgJyUGNL",
        "outputId": "8d0d9a0a-108d-43e6-c06a-0b354a12fb9d"
      },
      "source": [
        "from sparknlp_display import NerVisualizer\n",
        "\n",
        "for i, sample in enumerate(input_list[:1]):\n",
        "    \n",
        "    print(\"*\"*30)\n",
        "    print(i+1)\n",
        "    print(\"*\"*30)\n",
        "    \n",
        "    light_result = light_pipeline.fullAnnotate(sample)\n",
        "    \n",
        "    visualiser = NerVisualizer()\n",
        "\n",
        "    visualiser.display(light_result[0], label_col='ner_chunk', document_col='document')"
      ],
      "execution_count": 12,
      "outputs": [
        {
          "output_type": "stream",
          "name": "stdout",
          "text": [
            "******************************\n",
            "1\n",
            "******************************\n"
          ]
        },
        {
          "output_type": "display_data",
          "data": {
            "text/html": [
              "\n",
              "<style>\n",
              "    @import url('https://fonts.googleapis.com/css2?family=Montserrat:wght@300;400;500;600;700&display=swap');\n",
              "    @import url('https://fonts.googleapis.com/css2?family=Vistol Regular:wght@300;400;500;600;700&display=swap');\n",
              "    \n",
              "    .spark-nlp-display-scroll-entities {\n",
              "        border: 1px solid #E7EDF0;\n",
              "        border-radius: 3px;\n",
              "        text-align: justify;\n",
              "        \n",
              "    }\n",
              "    .spark-nlp-display-scroll-entities span {  \n",
              "        font-size: 14px;\n",
              "        line-height: 24px;\n",
              "        color: #536B76;\n",
              "        font-family: 'Montserrat', sans-serif !important;\n",
              "    }\n",
              "    \n",
              "    .spark-nlp-display-entity-wrapper{\n",
              "    \n",
              "        display: inline-grid;\n",
              "        text-align: center;\n",
              "        border-radius: 4px;\n",
              "        margin: 0 2px 5px 2px;\n",
              "        padding: 1px\n",
              "    }\n",
              "    .spark-nlp-display-entity-name{\n",
              "        font-size: 14px;\n",
              "        line-height: 24px;\n",
              "        font-family: 'Montserrat', sans-serif !important;\n",
              "        \n",
              "        background: #f1f2f3;\n",
              "        border-width: medium;\n",
              "        text-align: center;\n",
              "        \n",
              "        font-weight: 400;\n",
              "        \n",
              "        border-radius: 5px;\n",
              "        padding: 2px 5px;\n",
              "        display: block;\n",
              "        margin: 3px 2px;\n",
              "    \n",
              "    }\n",
              "    .spark-nlp-display-entity-type{\n",
              "        font-size: 14px;\n",
              "        line-height: 24px;\n",
              "        color: #ffffff;\n",
              "        font-family: 'Montserrat', sans-serif !important;\n",
              "        \n",
              "        text-transform: uppercase;\n",
              "        \n",
              "        font-weight: 500;\n",
              "\n",
              "        display: block;\n",
              "        padding: 3px 5px;\n",
              "    }\n",
              "    \n",
              "    .spark-nlp-display-entity-resolution{\n",
              "        font-size: 14px;\n",
              "        line-height: 24px;\n",
              "        color: #ffffff;\n",
              "        font-family: 'Vistol Regular', sans-serif !important;\n",
              "        \n",
              "        text-transform: uppercase;\n",
              "        \n",
              "        font-weight: 500;\n",
              "\n",
              "        display: block;\n",
              "        padding: 3px 5px;\n",
              "    }\n",
              "    \n",
              "    .spark-nlp-display-others{\n",
              "        font-size: 14px;\n",
              "        line-height: 24px;\n",
              "        font-family: 'Montserrat', sans-serif !important;\n",
              "        \n",
              "        font-weight: 400;\n",
              "    }\n",
              "\n",
              "</style>\n",
              " <span class=\"spark-nlp-display-others\" style=\"background-color: white\">Sample Name: Mesothelioma - Pleural Biopsy<br></span><span class=\"spark-nlp-display-entity-wrapper\" style=\"background-color: #AD15B4\"><span class=\"spark-nlp-display-entity-name\">Description: </span><span class=\"spark-nlp-display-entity-type\">Header</span></span><span class=\"spark-nlp-display-others\" style=\"background-color: white\"> Right pleural effusion and suspected malignant mesothelioma. (Medical Transcription Sample Report)<br></span><span class=\"spark-nlp-display-entity-wrapper\" style=\"background-color: #AD15B4\"><span class=\"spark-nlp-display-entity-name\">PREOPERATIVE DIAGNOSIS: </span><span class=\"spark-nlp-display-entity-type\">Header</span></span><span class=\"spark-nlp-display-others\" style=\"background-color: white\">  Right pleural effusion and suspected malignant mesothelioma.<br></span><span class=\"spark-nlp-display-entity-wrapper\" style=\"background-color: #AD15B4\"><span class=\"spark-nlp-display-entity-name\">POSTOPERATIVE DIAGNOSIS: </span><span class=\"spark-nlp-display-entity-type\">Header</span></span><span class=\"spark-nlp-display-others\" style=\"background-color: white\"> Right pleural effusion, suspected malignant mesothelioma.<br></span><span class=\"spark-nlp-display-entity-wrapper\" style=\"background-color: #AD15B4\"><span class=\"spark-nlp-display-entity-name\">PROCEDURE: </span><span class=\"spark-nlp-display-entity-type\">Header</span></span><span class=\"spark-nlp-display-others\" style=\"background-color: white\">  Right VATS pleurodesis and pleural biopsy.<br></span><span class=\"spark-nlp-display-entity-wrapper\" style=\"background-color: #AD15B4\"><span class=\"spark-nlp-display-entity-name\">ANESTHESIA: </span><span class=\"spark-nlp-display-entity-type\">Header</span></span><span class=\"spark-nlp-display-others\" style=\"background-color: white\"> General double-lumen endotracheal.<br></span><span class=\"spark-nlp-display-entity-wrapper\" style=\"background-color: #AD15B4\"><span class=\"spark-nlp-display-entity-name\">DESCRIPTION OF FINDINGS: </span><span class=\"spark-nlp-display-entity-type\">Header</span></span><span class=\"spark-nlp-display-others\" style=\"background-color: white\">  Right pleural effusion, firm nodules, diffuse scattered throughout the right pleura and diaphragmatic surface.<br></span><span class=\"spark-nlp-display-entity-wrapper\" style=\"background-color: #AD15B4\"><span class=\"spark-nlp-display-entity-name\">SPECIMEN: </span><span class=\"spark-nlp-display-entity-type\">Header</span></span><span class=\"spark-nlp-display-others\" style=\"background-color: white\">  Pleural biopsies for pathology and microbiology.<br></span><span class=\"spark-nlp-display-entity-wrapper\" style=\"background-color: #AD15B4\"><span class=\"spark-nlp-display-entity-name\">INDICATIONS: </span><span class=\"spark-nlp-display-entity-type\">Header</span></span><span class=\"spark-nlp-display-others\" style=\"background-color: white\">  Briefly, this is a 66-year-old gentleman who has been transferred from an outside hospital after a pleural effusion had been drained and biopsies taken from the right chest that were thought to be consistent with mesothelioma. Upon transfer, he had a right pleural effusion demonstrated on x-ray as well as some shortness of breath and dyspnea on exertion. The risks, benefits, and alternatives to right VATS pleurodesis and pleural biopsy were discussed with the patient and his family and they wished to proceed.<br>Dr. X was present for the entire procedure which was right VATS pleurodesis and pleural biopsies.The counts were correct x2 at the end of the case.</span></div>"
            ],
            "text/plain": [
              "<IPython.core.display.HTML object>"
            ]
          },
          "metadata": {}
        }
      ]
    },
    {
      "cell_type": "markdown",
      "metadata": {
        "id": "gvnP_Vq4UGNN"
      },
      "source": [
        "# Sections"
      ]
    },
    {
      "cell_type": "code",
      "metadata": {
        "id": "ZYntH1h0UGNN"
      },
      "source": [
        "light_pipeline = LightPipeline(pipeline_model)\n",
        "\n",
        "result = light_pipeline.transform(df).toPandas()"
      ],
      "execution_count": 13,
      "outputs": []
    },
    {
      "cell_type": "code",
      "metadata": {
        "id": "I_yD937tUGNN"
      },
      "source": [
        "result_exploded = result[[\"text\", 'file', \"ner_chunk\"]].explode(\"ner_chunk\")"
      ],
      "execution_count": 14,
      "outputs": []
    },
    {
      "cell_type": "code",
      "metadata": {
        "id": "f9mj9TVkUGNO"
      },
      "source": [
        "result_exploded['start'] = result_exploded.ner_chunk.apply(lambda x: x[1])\n",
        "result_exploded['end'] = result_exploded.ner_chunk.apply(lambda x: x[2])\n",
        "result_exploded['section_header'] = result_exploded.ner_chunk.apply(lambda x: x[3])"
      ],
      "execution_count": 15,
      "outputs": []
    },
    {
      "cell_type": "code",
      "metadata": {
        "id": "bUMi6J84UGNO"
      },
      "source": [
        "def get_text(text,sta,end):\n",
        "    return text[sta:end]\n",
        "df = pd.DataFrame()\n",
        "for file, group in result_exploded.groupby(\"file\"):\n",
        "    group['section_start'] = group.end + 1\n",
        "    group['section_end'] = group.start.shift(-1).fillna(-1).astype(int)\n",
        "    group['section_text'] = group.apply(lambda x: get_text(x.text, x.section_start, x.section_end), axis=1)\n",
        "    df = df.append(group[['file', 'section_header', 'section_text']])\n",
        "    df.section_header = df.section_header.str.replace(\":\", \"\")"
      ],
      "execution_count": 16,
      "outputs": []
    },
    {
      "cell_type": "code",
      "metadata": {
        "id": "ktQmWXvfUGNO"
      },
      "source": [
        "#export results\n",
        "for file, group in df.groupby(\"file\"):\n",
        "    group.index = group.section_header\n",
        "    group[['section_text']].T.to_json(OUTPUT_FILE_PATH + \"HEADER_\" + file.split(\".\")[0] + \".json\")"
      ],
      "execution_count": 18,
      "outputs": []
    },
    {
      "cell_type": "code",
      "metadata": {
        "colab": {
          "base_uri": "https://localhost:8080/",
          "height": 133
        },
        "id": "Px9fgJnDfxuu",
        "outputId": "c6051d17-9e4b-474e-89bf-7a2319eb53e1"
      },
      "source": [
        "pd.read_json(OUTPUT_FILE_PATH + '/HEADER_1.json')"
      ],
      "execution_count": 20,
      "outputs": [
        {
          "output_type": "execute_result",
          "data": {
            "text/html": [
              "<div>\n",
              "<style scoped>\n",
              "    .dataframe tbody tr th:only-of-type {\n",
              "        vertical-align: middle;\n",
              "    }\n",
              "\n",
              "    .dataframe tbody tr th {\n",
              "        vertical-align: top;\n",
              "    }\n",
              "\n",
              "    .dataframe thead th {\n",
              "        text-align: right;\n",
              "    }\n",
              "</style>\n",
              "<table border=\"1\" class=\"dataframe\">\n",
              "  <thead>\n",
              "    <tr style=\"text-align: right;\">\n",
              "      <th></th>\n",
              "      <th>Description</th>\n",
              "      <th>PREOPERATIVE DIAGNOSIS</th>\n",
              "      <th>POSTOPERATIVE DIAGNOSIS</th>\n",
              "      <th>PROCEDURE</th>\n",
              "      <th>ANESTHESIA</th>\n",
              "      <th>DESCRIPTION OF FINDINGS</th>\n",
              "      <th>SPECIMEN</th>\n",
              "      <th>INDICATIONS</th>\n",
              "    </tr>\n",
              "  </thead>\n",
              "  <tbody>\n",
              "    <tr>\n",
              "      <th>section_text</th>\n",
              "      <td>Right pleural effusion and suspected malignan...</td>\n",
              "      <td>Right pleural effusion and suspected maligna...</td>\n",
              "      <td>Right pleural effusion, suspected malignant m...</td>\n",
              "      <td>Right VATS pleurodesis and pleural biopsy.\\n</td>\n",
              "      <td>General double-lumen endotracheal.\\n</td>\n",
              "      <td>Right pleural effusion, firm nodules, diffus...</td>\n",
              "      <td>Pleural biopsies for pathology and microbiol...</td>\n",
              "      <td>Briefly, this is a 66-year-old gentleman who...</td>\n",
              "    </tr>\n",
              "  </tbody>\n",
              "</table>\n",
              "</div>"
            ],
            "text/plain": [
              "                                                    Description  ...                                        INDICATIONS\n",
              "section_text   Right pleural effusion and suspected malignan...  ...    Briefly, this is a 66-year-old gentleman who...\n",
              "\n",
              "[1 rows x 8 columns]"
            ]
          },
          "metadata": {},
          "execution_count": 20
        }
      ]
    },
    {
      "cell_type": "code",
      "metadata": {
        "id": "KBZpOPyTgU7Q"
      },
      "source": [
        ""
      ],
      "execution_count": null,
      "outputs": []
    }
  ]
}
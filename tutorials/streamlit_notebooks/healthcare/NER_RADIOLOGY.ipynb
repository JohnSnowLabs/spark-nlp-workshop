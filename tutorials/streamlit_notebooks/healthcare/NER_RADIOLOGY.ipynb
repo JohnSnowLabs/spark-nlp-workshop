{
  "nbformat": 4,
  "nbformat_minor": 0,
  "metadata": {
    "colab": {
      "name": "NER_RADIOLOGY.ipynb",
      "provenance": [],
      "collapsed_sections": []
    },
    "kernelspec": {
      "name": "python3",
      "display_name": "Python 3"
    },
    "language_info": {
      "name": "python"
    }
  },
  "cells": [
    {
      "cell_type": "markdown",
      "source": [
        "![JohnSnowLabs](https://nlp.johnsnowlabs.com/assets/images/logo.png)\n",
        "\n",
        "[![Open In Colab](https://colab.research.google.com/assets/colab-badge.svg)](https://colab.research.google.com/github/JohnSnowLabs/spark-nlp-workshop/blob/master/tutorials/streamlit_notebooks/healthcare/NER_RADIOLOGY.ipynb)"
      ],
      "metadata": {
        "id": "wWLwNF4iITCn"
      }
    },
    {
      "cell_type": "markdown",
      "source": [
        "# `ner_radiology` **Models**\n",
        "\n",
        "Pretrained named entity recognition deep learning model for radiology related texts and reports."
      ],
      "metadata": {
        "id": "rIVVRWlyIaPW"
      }
    },
    {
      "cell_type": "markdown",
      "source": [
        "## 1. Colab Setup"
      ],
      "metadata": {
        "id": "Xa2MP5N2EyAN"
      }
    },
    {
      "cell_type": "markdown",
      "source": [
        "**Import license keys**"
      ],
      "metadata": {
        "id": "meFLU3CTE2S9"
      }
    },
    {
      "cell_type": "code",
      "execution_count": null,
      "metadata": {
        "id": "dnJ9X-mbEOMr"
      },
      "outputs": [],
      "source": [
        "import json\n",
        "import os\n",
        "\n",
        "from google.colab import files\n",
        "\n",
        "license_keys = files.upload()\n",
        "\n",
        "with open(list(license_keys.keys())[0]) as f:\n",
        "    license_keys = json.load(f)\n",
        "\n",
        "# Defining license key-value pairs as local variables\n",
        "locals().update(license_keys)\n",
        "\n",
        "# Adding license key-value pairs to environment variables\n",
        "os.environ.update(license_keys)"
      ]
    },
    {
      "cell_type": "markdown",
      "source": [
        "**Install dependencies**"
      ],
      "metadata": {
        "id": "MpFCD_gTFcyx"
      }
    },
    {
      "cell_type": "code",
      "source": [
        "# Installing pyspark and spark-nlp\n",
        "! pip install --upgrade -q pyspark==3.1.2 spark-nlp==$PUBLIC_VERSION\n",
        "\n",
        "# Installing Spark NLP Healthcare\n",
        "! pip install --upgrade -q spark-nlp-jsl==$JSL_VERSION  --extra-index-url https://pypi.johnsnowlabs.com/$SECRET\n",
        "\n",
        "# Installing Spark NLP Display Library for visualization\n",
        "! pip install -q spark-nlp-display"
      ],
      "metadata": {
        "id": "qeg3QosiFf5u"
      },
      "execution_count": null,
      "outputs": []
    },
    {
      "cell_type": "markdown",
      "source": [
        "## 2. Start Spark Session"
      ],
      "metadata": {
        "id": "WcrI5WVvGDvP"
      }
    },
    {
      "cell_type": "markdown",
      "source": [
        "**Import dependencies into Python and start the Spark session**"
      ],
      "metadata": {
        "id": "bEYvJIDaFxuM"
      }
    },
    {
      "cell_type": "code",
      "source": [
        "# Import sparknlp & sparknlp_jsl packages\n",
        "import sparknlp\n",
        "import sparknlp_jsl\n",
        "\n",
        "from sparknlp.base import *\n",
        "from sparknlp.common import *\n",
        "from sparknlp.annotator import *\n",
        "from sparknlp_jsl.annotator import *\n",
        "\n",
        "# Import Pyspark packages\n",
        "from pyspark.sql import SparkSession\n",
        "from pyspark.sql import functions as F \n",
        "from pyspark.ml import Pipeline, PipelineModel\n",
        "\n",
        "import pandas as pd\n",
        "import numpy as np \n",
        "\n",
        "spark = sparknlp_jsl.start(license_keys['SECRET'])\n",
        "\n",
        "print (\"Spark NLP Version :\", sparknlp.version())\n",
        "print (\"Spark NLP_JSL Version :\", sparknlp_jsl.version())\n",
        "\n",
        "spark"
      ],
      "metadata": {
        "colab": {
          "base_uri": "https://localhost:8080/",
          "height": 254
        },
        "id": "uh5IkMSuFwH0",
        "outputId": "4fef2def-bbd9-499d-c7bd-dddeee7b278d"
      },
      "execution_count": 3,
      "outputs": [
        {
          "output_type": "stream",
          "name": "stdout",
          "text": [
            "Spark NLP Version : 3.4.4\n",
            "Spark NLP_JSL Version : 3.5.2\n"
          ]
        },
        {
          "output_type": "execute_result",
          "data": {
            "text/plain": [
              "<pyspark.sql.session.SparkSession at 0x7fa1fbb56d90>"
            ],
            "text/html": [
              "\n",
              "            <div>\n",
              "                <p><b>SparkSession - in-memory</b></p>\n",
              "                \n",
              "        <div>\n",
              "            <p><b>SparkContext</b></p>\n",
              "\n",
              "            <p><a href=\"http://b1469b1ae046:4040\">Spark UI</a></p>\n",
              "\n",
              "            <dl>\n",
              "              <dt>Version</dt>\n",
              "                <dd><code>v3.1.2</code></dd>\n",
              "              <dt>Master</dt>\n",
              "                <dd><code>local[*]</code></dd>\n",
              "              <dt>AppName</dt>\n",
              "                <dd><code>Spark NLP Licensed</code></dd>\n",
              "            </dl>\n",
              "        </div>\n",
              "        \n",
              "            </div>\n",
              "        "
            ]
          },
          "metadata": {},
          "execution_count": 3
        }
      ]
    },
    {
      "cell_type": "markdown",
      "source": [
        "## 3. Select the model and construct the pipeline"
      ],
      "metadata": {
        "id": "6unD_Wi4GHA2"
      }
    },
    {
      "cell_type": "markdown",
      "source": [
        "**Create the pipeline**"
      ],
      "metadata": {
        "id": "6890ej79GVJl"
      }
    },
    {
      "cell_type": "code",
      "source": [
        "document_assembler = DocumentAssembler()\\\n",
        "      .setInputCol(\"text\")\\\n",
        "      .setOutputCol(\"document\")\n",
        "\n",
        "sentenceDetector = SentenceDetectorDLModel.pretrained() \\\n",
        "      .setInputCols([\"document\"]) \\\n",
        "      .setOutputCol(\"sentence\") \n",
        "\n",
        "tokenizer = Tokenizer()\\\n",
        "      .setInputCols([\"sentence\"])\\\n",
        "      .setOutputCol(\"token\")\n",
        "\n",
        "\n",
        "word_embeddings = WordEmbeddingsModel.pretrained(\"embeddings_clinical\", \"en\", \"clinical/models\")\\\n",
        "      .setInputCols([\"sentence\", \"token\"])\\\n",
        "      .setOutputCol(\"word_embeddings\")\n",
        "\n",
        "clinical_ner = MedicalNerModel.pretrained(\"ner_radiology\", \"en\", \"clinical/models\") \\\n",
        "      .setInputCols([\"sentence\", \"token\", \"word_embeddings\"]) \\\n",
        "      .setOutputCol(\"ner\")\n",
        "\n",
        "ner_converter = NerConverterInternal() \\\n",
        "      .setInputCols([\"sentence\", \"token\", \"ner\"]) \\\n",
        "      .setOutputCol(\"ner_chunk\")\\\n",
        "      .setGreedyMode(True)\n",
        "\n",
        "nlpPipeline = Pipeline(\n",
        "    stages = [\n",
        "        document_assembler,\n",
        "        sentenceDetector,\n",
        "        tokenizer,\n",
        "        word_embeddings,\n",
        "        clinical_ner,\n",
        "        ner_converter,\n",
        "  ])\n",
        "\n",
        "empty_data = spark.createDataFrame([[\"\"]]).toDF(\"text\")\n",
        "\n",
        "model = nlpPipeline.fit(empty_data)"
      ],
      "metadata": {
        "colab": {
          "base_uri": "https://localhost:8080/"
        },
        "id": "Vjo9u1N1Ga1W",
        "outputId": "dbc5db76-638a-489f-9afe-15f7d98a53f3"
      },
      "execution_count": 4,
      "outputs": [
        {
          "output_type": "stream",
          "name": "stdout",
          "text": [
            "sentence_detector_dl download started this may take some time.\n",
            "Approximate size to download 354.6 KB\n",
            "[OK!]\n",
            "embeddings_clinical download started this may take some time.\n",
            "Approximate size to download 1.6 GB\n",
            "[OK!]\n",
            "ner_radiology download started this may take some time.\n",
            "[OK!]\n"
          ]
        }
      ]
    },
    {
      "cell_type": "markdown",
      "source": [
        "## 4. Create example inputs"
      ],
      "metadata": {
        "id": "K4CxF3U7HsCX"
      }
    },
    {
      "cell_type": "code",
      "source": [
        "sample_text = [\n",
        "\"\"\"Bilateral breast ultrasound was subsequently performed, which demonstrated an ovoid mass measuring approximately 0.5 x 0.5 x 0.4 cm in diameter located within the anteromedial aspect of the left shoulder. This mass demonstrates isoechoic echotexture to the adjacent muscle, with no evidence of internal color flow. This may represent benign fibrous tissue or a lipoma.\"\"\",\n",
        "\n",
        "\"\"\" Cardiac size cannot be evaluated. Large left pleural effusion is new. Small right effusion is new.  The upper lungs are clear. Right lower lobe opacities are better seen in prior CT. There is no pneumothorax. There are mild degenerative changes in the thoracic spine\"\"\",\n",
        "\n",
        "# Acute fracture \n",
        "\"\"\" Clinical History: r/o acute process Report: LEFT WRIST AND LEFT FOREARM:  FINDINGS:  Three standard views of left wrist and two views of left forearm were obtained. The latter consists of lateral and oblique views without straight  AP view.  \n",
        "Impression: 1. There is what appears to be Smith’s fracture affecting the left wrist. It  consists of impacted comminuted fracture of distal left radial metaphysis having dorsal angulation at the fracture site as well as avulsion fracture of  ulnar styloid process. The fracture affects neighboring radiocarpal as well  as inferior radioulnar articulations.  \n",
        "2. Small cortical avulsion fracture is also noted on lateral view of wrist at carpo-metacarpal articulation, probably at 3rd carpometacarpal articulation. NOTE: Presence of an accessory ossicle dorsally opposing the triquetrum  or lunate. \n",
        "3. Low-grade osteoarthrosis at left 1st carpo-metacarpal articulation as  well as intermetacarpal articulation between 1st and 2nd.  \n",
        "4. The rest of radius and ulna are normal.\n",
        "Procedure: KNEE 3 VIEWS \"\"\",\n",
        "\n",
        "# Fracture negation \n",
        "\"\"\"Procedure: KNEE 3 VIEWS Clinical History: S/p fall from ladder with right hip fracture. Since then also with right knee swelling and knee that “gives out”. Prior films showed  effusion and narrowed joint space. Appreciate re-evaluation. \n",
        "Report: RIGHT KNEE THREE VIEWS, Impression: There is no acute fracture or dislocation. Mild patchy osteopenia. Probable small volume suprapatellar joint effusion. Mild patellar spurring.  \"\"\",\n",
        "\n",
        "# Negation of acute fraction by age of fracture\n",
        "\"\"\"Procedure: CALCANEOUS 2 VIEWS, Clinical History: SP FX CALCANEOUS, Report: See impression. Impression: Compared to the prior study of 1/12/99 there is no significant change in  the deformity of the calcaneus consistent with an old fracture which has undergone complete healing. The adjacent bony structures appear intact.  \"\"\",\n",
        "\n",
        "# Implicit negation \n",
        "\"\"\" Procedure: FOOT 3 OR MORE VIEWS, Clinical History: 49 yo b m w cc of bilateral foot pain. please eval thanks. Report: See Impression. Impression: BILATERAL FEET: No traumatic, arthritic, or developmental abnormality  is discernible. \"\"\"\n",
        "]"
      ],
      "metadata": {
        "id": "jZ8GQHOgHibp"
      },
      "execution_count": 16,
      "outputs": []
    },
    {
      "cell_type": "code",
      "source": [
        "from pyspark.sql.types import StringType, IntegerType\n",
        "\n",
        "df = spark.createDataFrame(sample_text,StringType()).toDF('text')\n",
        "\n",
        "df.show(truncate = 100)"
      ],
      "metadata": {
        "colab": {
          "base_uri": "https://localhost:8080/"
        },
        "id": "qvCvj1hBI_09",
        "outputId": "f374446e-5f1d-43b0-8e1e-3ffa9df6c683"
      },
      "execution_count": 17,
      "outputs": [
        {
          "output_type": "stream",
          "name": "stdout",
          "text": [
            "+----------------------------------------------------------------------------------------------------+\n",
            "|                                                                                                text|\n",
            "+----------------------------------------------------------------------------------------------------+\n",
            "|Bilateral breast ultrasound was subsequently performed, which demonstrated an ovoid mass measurin...|\n",
            "| Cardiac size cannot be evaluated. Large left pleural effusion is new. Small right effusion is ne...|\n",
            "| Clinical History: r/o acute process Report: LEFT WRIST AND LEFT FOREARM:  FINDINGS:  Three stand...|\n",
            "|Procedure: KNEE 3 VIEWS Clinical History: S/p fall from ladder with right hip fracture. Since the...|\n",
            "|Procedure: CALCANEOUS 2 VIEWS, Clinical History: SP FX CALCANEOUS, Report: See impression. Impres...|\n",
            "| Procedure: FOOT 3 OR MORE VIEWS, Clinical History: 49 yo b m w cc of bilateral foot pain. please...|\n",
            "+----------------------------------------------------------------------------------------------------+\n",
            "\n"
          ]
        }
      ]
    },
    {
      "cell_type": "markdown",
      "source": [
        "## 5. Use the pipeline to create outputs"
      ],
      "metadata": {
        "id": "JAJGT8UcH1Q4"
      }
    },
    {
      "cell_type": "code",
      "source": [
        "result = model.transform(df)"
      ],
      "metadata": {
        "id": "d1IOMyFG95dL"
      },
      "execution_count": 18,
      "outputs": []
    },
    {
      "cell_type": "code",
      "source": [
        "result.select(F.explode(F.arrays_zip(\"ner_chunk.result\", \n",
        "                                      \"ner_chunk.begin\", \n",
        "                                      \"ner_chunk.end\",\n",
        "                                      \"ner_chunk.metadata\", )).alias(\"cols\"))\\\n",
        "        .select(F.expr(\"cols['0']\").alias(\"chunk\"),\n",
        "                      F.expr(\"cols['1']\").alias(\"begin\"),\n",
        "                      F.expr(\"cols['2']\").alias(\"end\"),\n",
        "                      F.expr(\"cols['3']['entity']\").alias(\"entity\")).show()"
      ],
      "metadata": {
        "id": "N0zbrDnKIC9z",
        "colab": {
          "base_uri": "https://localhost:8080/"
        },
        "outputId": "4379acdd-6ee6-4fee-9f14-44ef43127af6"
      },
      "execution_count": 19,
      "outputs": [
        {
          "output_type": "stream",
          "name": "stdout",
          "text": [
            "+--------------------+-----+---+--------------------+\n",
            "|               chunk|begin|end|              entity|\n",
            "+--------------------+-----+---+--------------------+\n",
            "|    Bilateral breast|    0| 15|            BodyPart|\n",
            "|          ultrasound|   17| 26|         ImagingTest|\n",
            "|          ovoid mass|   78| 87|     ImagingFindings|\n",
            "|     0.5 x 0.5 x 0.4|  113|127|        Measurements|\n",
            "|                  cm|  129|130|               Units|\n",
            "|anteromedial aspe...|  163|202|            BodyPart|\n",
            "|                mass|  210|213|     ImagingFindings|\n",
            "|isoechoic echotex...|  228|248|     ImagingFindings|\n",
            "|              muscle|  266|271|            BodyPart|\n",
            "| internal color flow|  294|312|     ImagingFindings|\n",
            "|benign fibrous ti...|  334|354|     ImagingFindings|\n",
            "|              lipoma|  361|366|Disease_Syndrome_...|\n",
            "|        Cardiac size|    1| 12|     ImagingFindings|\n",
            "|                left|   41| 44|           Direction|\n",
            "|             pleural|   46| 52|            BodyPart|\n",
            "|            effusion|   54| 61|     ImagingFindings|\n",
            "|               right|   77| 81|           Direction|\n",
            "|            effusion|   83| 90|     ImagingFindings|\n",
            "|               upper|  105|109|           Direction|\n",
            "|               lungs|  111|115|            BodyPart|\n",
            "+--------------------+-----+---+--------------------+\n",
            "only showing top 20 rows\n",
            "\n"
          ]
        }
      ]
    },
    {
      "cell_type": "markdown",
      "source": [
        "## 6. Visualize results"
      ],
      "metadata": {
        "id": "Ral7MlWELIOX"
      }
    },
    {
      "cell_type": "code",
      "source": [
        "from sparknlp_display import NerVisualizer\n",
        "\n",
        "ner_viz = NerVisualizer()\n",
        "\n",
        "\n",
        "    \n",
        "for j in range(len(sample_text)):\n",
        "    ner_viz.display(result = result.collect()[j], label_col = \"ner_chunk\")\n",
        "    print(\"\\n\\n\")"
      ],
      "metadata": {
        "colab": {
          "base_uri": "https://localhost:8080/",
          "height": 1000
        },
        "id": "Arm5huqwKum8",
        "outputId": "6550483b-8c1c-4e51-bba6-ccd8e665f866"
      },
      "execution_count": 20,
      "outputs": [
        {
          "output_type": "display_data",
          "data": {
            "text/plain": [
              "<IPython.core.display.HTML object>"
            ],
            "text/html": [
              "\n",
              "<style>\n",
              "    @import url('https://fonts.googleapis.com/css2?family=Montserrat:wght@300;400;500;600;700&display=swap');\n",
              "    @import url('https://fonts.googleapis.com/css2?family=Vistol Regular:wght@300;400;500;600;700&display=swap');\n",
              "    \n",
              "    .spark-nlp-display-scroll-entities {\n",
              "        border: 1px solid #E7EDF0;\n",
              "        border-radius: 3px;\n",
              "        text-align: justify;\n",
              "        \n",
              "    }\n",
              "    .spark-nlp-display-scroll-entities span {  \n",
              "        font-size: 14px;\n",
              "        line-height: 24px;\n",
              "        color: #536B76;\n",
              "        font-family: 'Montserrat', sans-serif !important;\n",
              "    }\n",
              "    \n",
              "    .spark-nlp-display-entity-wrapper{\n",
              "    \n",
              "        display: inline-grid;\n",
              "        text-align: center;\n",
              "        border-radius: 4px;\n",
              "        margin: 0 2px 5px 2px;\n",
              "        padding: 1px\n",
              "    }\n",
              "    .spark-nlp-display-entity-name{\n",
              "        font-size: 14px;\n",
              "        line-height: 24px;\n",
              "        font-family: 'Montserrat', sans-serif !important;\n",
              "        \n",
              "        background: #f1f2f3;\n",
              "        border-width: medium;\n",
              "        text-align: center;\n",
              "        \n",
              "        font-weight: 400;\n",
              "        \n",
              "        border-radius: 5px;\n",
              "        padding: 2px 5px;\n",
              "        display: block;\n",
              "        margin: 3px 2px;\n",
              "    \n",
              "    }\n",
              "    .spark-nlp-display-entity-type{\n",
              "        font-size: 14px;\n",
              "        line-height: 24px;\n",
              "        color: #ffffff;\n",
              "        font-family: 'Montserrat', sans-serif !important;\n",
              "        \n",
              "        text-transform: uppercase;\n",
              "        \n",
              "        font-weight: 500;\n",
              "\n",
              "        display: block;\n",
              "        padding: 3px 5px;\n",
              "    }\n",
              "    \n",
              "    .spark-nlp-display-entity-resolution{\n",
              "        font-size: 14px;\n",
              "        line-height: 24px;\n",
              "        color: #ffffff;\n",
              "        font-family: 'Vistol Regular', sans-serif !important;\n",
              "        \n",
              "        text-transform: uppercase;\n",
              "        \n",
              "        font-weight: 500;\n",
              "\n",
              "        display: block;\n",
              "        padding: 3px 5px;\n",
              "    }\n",
              "    \n",
              "    .spark-nlp-display-others{\n",
              "        font-size: 14px;\n",
              "        line-height: 24px;\n",
              "        font-family: 'Montserrat', sans-serif !important;\n",
              "        \n",
              "        font-weight: 400;\n",
              "    }\n",
              "\n",
              "</style>\n",
              " <span class=\"spark-nlp-display-entity-wrapper\" style=\"background-color: #2D4344\"><span class=\"spark-nlp-display-entity-name\">Bilateral breast </span><span class=\"spark-nlp-display-entity-type\">BodyPart</span></span><span class=\"spark-nlp-display-others\" style=\"background-color: white\"> </span><span class=\"spark-nlp-display-entity-wrapper\" style=\"background-color: #15514A\"><span class=\"spark-nlp-display-entity-name\">ultrasound </span><span class=\"spark-nlp-display-entity-type\">ImagingTest</span></span><span class=\"spark-nlp-display-others\" style=\"background-color: white\"> was subsequently performed, which demonstrated an </span><span class=\"spark-nlp-display-entity-wrapper\" style=\"background-color: #54AB00\"><span class=\"spark-nlp-display-entity-name\">ovoid mass </span><span class=\"spark-nlp-display-entity-type\">ImagingFindings</span></span><span class=\"spark-nlp-display-others\" style=\"background-color: white\"> measuring approximately </span><span class=\"spark-nlp-display-entity-wrapper\" style=\"background-color: #6D5E2A\"><span class=\"spark-nlp-display-entity-name\">0.5 x 0.5 x 0.4 </span><span class=\"spark-nlp-display-entity-type\">Measurements</span></span><span class=\"spark-nlp-display-others\" style=\"background-color: white\"> </span><span class=\"spark-nlp-display-entity-wrapper\" style=\"background-color: #7D3731\"><span class=\"spark-nlp-display-entity-name\">cm </span><span class=\"spark-nlp-display-entity-type\">Units</span></span><span class=\"spark-nlp-display-others\" style=\"background-color: white\"> in diameter located within the </span><span class=\"spark-nlp-display-entity-wrapper\" style=\"background-color: #2D4344\"><span class=\"spark-nlp-display-entity-name\">anteromedial aspect of the left shoulder </span><span class=\"spark-nlp-display-entity-type\">BodyPart</span></span><span class=\"spark-nlp-display-others\" style=\"background-color: white\">. This </span><span class=\"spark-nlp-display-entity-wrapper\" style=\"background-color: #54AB00\"><span class=\"spark-nlp-display-entity-name\">mass </span><span class=\"spark-nlp-display-entity-type\">ImagingFindings</span></span><span class=\"spark-nlp-display-others\" style=\"background-color: white\"> demonstrates </span><span class=\"spark-nlp-display-entity-wrapper\" style=\"background-color: #54AB00\"><span class=\"spark-nlp-display-entity-name\">isoechoic echotexture </span><span class=\"spark-nlp-display-entity-type\">ImagingFindings</span></span><span class=\"spark-nlp-display-others\" style=\"background-color: white\"> to the adjacent </span><span class=\"spark-nlp-display-entity-wrapper\" style=\"background-color: #2D4344\"><span class=\"spark-nlp-display-entity-name\">muscle </span><span class=\"spark-nlp-display-entity-type\">BodyPart</span></span><span class=\"spark-nlp-display-others\" style=\"background-color: white\">, with no evidence of </span><span class=\"spark-nlp-display-entity-wrapper\" style=\"background-color: #54AB00\"><span class=\"spark-nlp-display-entity-name\">internal color flow </span><span class=\"spark-nlp-display-entity-type\">ImagingFindings</span></span><span class=\"spark-nlp-display-others\" style=\"background-color: white\">. This may represent </span><span class=\"spark-nlp-display-entity-wrapper\" style=\"background-color: #54AB00\"><span class=\"spark-nlp-display-entity-name\">benign fibrous tissue </span><span class=\"spark-nlp-display-entity-type\">ImagingFindings</span></span><span class=\"spark-nlp-display-others\" style=\"background-color: white\"> or a </span><span class=\"spark-nlp-display-entity-wrapper\" style=\"background-color: #AF350B\"><span class=\"spark-nlp-display-entity-name\">lipoma </span><span class=\"spark-nlp-display-entity-type\">Disease_Syndrome_Disorder</span></span><span class=\"spark-nlp-display-others\" style=\"background-color: white\">.</span></div>"
            ]
          },
          "metadata": {}
        },
        {
          "output_type": "stream",
          "name": "stdout",
          "text": [
            "\n",
            "\n",
            "\n"
          ]
        },
        {
          "output_type": "display_data",
          "data": {
            "text/plain": [
              "<IPython.core.display.HTML object>"
            ],
            "text/html": [
              "\n",
              "<style>\n",
              "    @import url('https://fonts.googleapis.com/css2?family=Montserrat:wght@300;400;500;600;700&display=swap');\n",
              "    @import url('https://fonts.googleapis.com/css2?family=Vistol Regular:wght@300;400;500;600;700&display=swap');\n",
              "    \n",
              "    .spark-nlp-display-scroll-entities {\n",
              "        border: 1px solid #E7EDF0;\n",
              "        border-radius: 3px;\n",
              "        text-align: justify;\n",
              "        \n",
              "    }\n",
              "    .spark-nlp-display-scroll-entities span {  \n",
              "        font-size: 14px;\n",
              "        line-height: 24px;\n",
              "        color: #536B76;\n",
              "        font-family: 'Montserrat', sans-serif !important;\n",
              "    }\n",
              "    \n",
              "    .spark-nlp-display-entity-wrapper{\n",
              "    \n",
              "        display: inline-grid;\n",
              "        text-align: center;\n",
              "        border-radius: 4px;\n",
              "        margin: 0 2px 5px 2px;\n",
              "        padding: 1px\n",
              "    }\n",
              "    .spark-nlp-display-entity-name{\n",
              "        font-size: 14px;\n",
              "        line-height: 24px;\n",
              "        font-family: 'Montserrat', sans-serif !important;\n",
              "        \n",
              "        background: #f1f2f3;\n",
              "        border-width: medium;\n",
              "        text-align: center;\n",
              "        \n",
              "        font-weight: 400;\n",
              "        \n",
              "        border-radius: 5px;\n",
              "        padding: 2px 5px;\n",
              "        display: block;\n",
              "        margin: 3px 2px;\n",
              "    \n",
              "    }\n",
              "    .spark-nlp-display-entity-type{\n",
              "        font-size: 14px;\n",
              "        line-height: 24px;\n",
              "        color: #ffffff;\n",
              "        font-family: 'Montserrat', sans-serif !important;\n",
              "        \n",
              "        text-transform: uppercase;\n",
              "        \n",
              "        font-weight: 500;\n",
              "\n",
              "        display: block;\n",
              "        padding: 3px 5px;\n",
              "    }\n",
              "    \n",
              "    .spark-nlp-display-entity-resolution{\n",
              "        font-size: 14px;\n",
              "        line-height: 24px;\n",
              "        color: #ffffff;\n",
              "        font-family: 'Vistol Regular', sans-serif !important;\n",
              "        \n",
              "        text-transform: uppercase;\n",
              "        \n",
              "        font-weight: 500;\n",
              "\n",
              "        display: block;\n",
              "        padding: 3px 5px;\n",
              "    }\n",
              "    \n",
              "    .spark-nlp-display-others{\n",
              "        font-size: 14px;\n",
              "        line-height: 24px;\n",
              "        font-family: 'Montserrat', sans-serif !important;\n",
              "        \n",
              "        font-weight: 400;\n",
              "    }\n",
              "\n",
              "</style>\n",
              " <span class=\"spark-nlp-display-others\" style=\"background-color: white\"> </span><span class=\"spark-nlp-display-entity-wrapper\" style=\"background-color: #B972A8\"><span class=\"spark-nlp-display-entity-name\">Cardiac size </span><span class=\"spark-nlp-display-entity-type\">ImagingFindings</span></span><span class=\"spark-nlp-display-others\" style=\"background-color: white\"> cannot be evaluated. Large </span><span class=\"spark-nlp-display-entity-wrapper\" style=\"background-color: #59B463\"><span class=\"spark-nlp-display-entity-name\">left </span><span class=\"spark-nlp-display-entity-type\">Direction</span></span><span class=\"spark-nlp-display-others\" style=\"background-color: white\"> </span><span class=\"spark-nlp-display-entity-wrapper\" style=\"background-color: #45509C\"><span class=\"spark-nlp-display-entity-name\">pleural </span><span class=\"spark-nlp-display-entity-type\">BodyPart</span></span><span class=\"spark-nlp-display-others\" style=\"background-color: white\"> </span><span class=\"spark-nlp-display-entity-wrapper\" style=\"background-color: #B972A8\"><span class=\"spark-nlp-display-entity-name\">effusion </span><span class=\"spark-nlp-display-entity-type\">ImagingFindings</span></span><span class=\"spark-nlp-display-others\" style=\"background-color: white\"> is new. Small </span><span class=\"spark-nlp-display-entity-wrapper\" style=\"background-color: #59B463\"><span class=\"spark-nlp-display-entity-name\">right </span><span class=\"spark-nlp-display-entity-type\">Direction</span></span><span class=\"spark-nlp-display-others\" style=\"background-color: white\"> </span><span class=\"spark-nlp-display-entity-wrapper\" style=\"background-color: #B972A8\"><span class=\"spark-nlp-display-entity-name\">effusion </span><span class=\"spark-nlp-display-entity-type\">ImagingFindings</span></span><span class=\"spark-nlp-display-others\" style=\"background-color: white\"> is new.  The </span><span class=\"spark-nlp-display-entity-wrapper\" style=\"background-color: #59B463\"><span class=\"spark-nlp-display-entity-name\">upper </span><span class=\"spark-nlp-display-entity-type\">Direction</span></span><span class=\"spark-nlp-display-others\" style=\"background-color: white\"> </span><span class=\"spark-nlp-display-entity-wrapper\" style=\"background-color: #45509C\"><span class=\"spark-nlp-display-entity-name\">lungs </span><span class=\"spark-nlp-display-entity-type\">BodyPart</span></span><span class=\"spark-nlp-display-others\" style=\"background-color: white\"> are </span><span class=\"spark-nlp-display-entity-wrapper\" style=\"background-color: #B972A8\"><span class=\"spark-nlp-display-entity-name\">clear </span><span class=\"spark-nlp-display-entity-type\">ImagingFindings</span></span><span class=\"spark-nlp-display-others\" style=\"background-color: white\">. </span><span class=\"spark-nlp-display-entity-wrapper\" style=\"background-color: #59B463\"><span class=\"spark-nlp-display-entity-name\">Right </span><span class=\"spark-nlp-display-entity-type\">Direction</span></span><span class=\"spark-nlp-display-others\" style=\"background-color: white\"> </span><span class=\"spark-nlp-display-entity-wrapper\" style=\"background-color: #45509C\"><span class=\"spark-nlp-display-entity-name\">lower lobe </span><span class=\"spark-nlp-display-entity-type\">BodyPart</span></span><span class=\"spark-nlp-display-others\" style=\"background-color: white\"> </span><span class=\"spark-nlp-display-entity-wrapper\" style=\"background-color: #B972A8\"><span class=\"spark-nlp-display-entity-name\">opacities </span><span class=\"spark-nlp-display-entity-type\">ImagingFindings</span></span><span class=\"spark-nlp-display-others\" style=\"background-color: white\"> are better seen in prior </span><span class=\"spark-nlp-display-entity-wrapper\" style=\"background-color: #643D7A\"><span class=\"spark-nlp-display-entity-name\">CT </span><span class=\"spark-nlp-display-entity-type\">ImagingTest</span></span><span class=\"spark-nlp-display-others\" style=\"background-color: white\">. There is no </span><span class=\"spark-nlp-display-entity-wrapper\" style=\"background-color: #B972A8\"><span class=\"spark-nlp-display-entity-name\">pneumothorax </span><span class=\"spark-nlp-display-entity-type\">ImagingFindings</span></span><span class=\"spark-nlp-display-others\" style=\"background-color: white\">. There are </span><span class=\"spark-nlp-display-entity-wrapper\" style=\"background-color: #B972A8\"><span class=\"spark-nlp-display-entity-name\">mild degenerative changes </span><span class=\"spark-nlp-display-entity-type\">ImagingFindings</span></span><span class=\"spark-nlp-display-others\" style=\"background-color: white\"> in the </span><span class=\"spark-nlp-display-entity-wrapper\" style=\"background-color: #45509C\"><span class=\"spark-nlp-display-entity-name\">thoracic spine </span><span class=\"spark-nlp-display-entity-type\">BodyPart</span></span></div>"
            ]
          },
          "metadata": {}
        },
        {
          "output_type": "stream",
          "name": "stdout",
          "text": [
            "\n",
            "\n",
            "\n"
          ]
        },
        {
          "output_type": "display_data",
          "data": {
            "text/plain": [
              "<IPython.core.display.HTML object>"
            ],
            "text/html": [
              "\n",
              "<style>\n",
              "    @import url('https://fonts.googleapis.com/css2?family=Montserrat:wght@300;400;500;600;700&display=swap');\n",
              "    @import url('https://fonts.googleapis.com/css2?family=Vistol Regular:wght@300;400;500;600;700&display=swap');\n",
              "    \n",
              "    .spark-nlp-display-scroll-entities {\n",
              "        border: 1px solid #E7EDF0;\n",
              "        border-radius: 3px;\n",
              "        text-align: justify;\n",
              "        \n",
              "    }\n",
              "    .spark-nlp-display-scroll-entities span {  \n",
              "        font-size: 14px;\n",
              "        line-height: 24px;\n",
              "        color: #536B76;\n",
              "        font-family: 'Montserrat', sans-serif !important;\n",
              "    }\n",
              "    \n",
              "    .spark-nlp-display-entity-wrapper{\n",
              "    \n",
              "        display: inline-grid;\n",
              "        text-align: center;\n",
              "        border-radius: 4px;\n",
              "        margin: 0 2px 5px 2px;\n",
              "        padding: 1px\n",
              "    }\n",
              "    .spark-nlp-display-entity-name{\n",
              "        font-size: 14px;\n",
              "        line-height: 24px;\n",
              "        font-family: 'Montserrat', sans-serif !important;\n",
              "        \n",
              "        background: #f1f2f3;\n",
              "        border-width: medium;\n",
              "        text-align: center;\n",
              "        \n",
              "        font-weight: 400;\n",
              "        \n",
              "        border-radius: 5px;\n",
              "        padding: 2px 5px;\n",
              "        display: block;\n",
              "        margin: 3px 2px;\n",
              "    \n",
              "    }\n",
              "    .spark-nlp-display-entity-type{\n",
              "        font-size: 14px;\n",
              "        line-height: 24px;\n",
              "        color: #ffffff;\n",
              "        font-family: 'Montserrat', sans-serif !important;\n",
              "        \n",
              "        text-transform: uppercase;\n",
              "        \n",
              "        font-weight: 500;\n",
              "\n",
              "        display: block;\n",
              "        padding: 3px 5px;\n",
              "    }\n",
              "    \n",
              "    .spark-nlp-display-entity-resolution{\n",
              "        font-size: 14px;\n",
              "        line-height: 24px;\n",
              "        color: #ffffff;\n",
              "        font-family: 'Vistol Regular', sans-serif !important;\n",
              "        \n",
              "        text-transform: uppercase;\n",
              "        \n",
              "        font-weight: 500;\n",
              "\n",
              "        display: block;\n",
              "        padding: 3px 5px;\n",
              "    }\n",
              "    \n",
              "    .spark-nlp-display-others{\n",
              "        font-size: 14px;\n",
              "        line-height: 24px;\n",
              "        font-family: 'Montserrat', sans-serif !important;\n",
              "        \n",
              "        font-weight: 400;\n",
              "    }\n",
              "\n",
              "</style>\n",
              " <span class=\"spark-nlp-display-others\" style=\"background-color: white\"> Clinical History: r/o acute process Report: LEFT WRIST AND LEFT FOREARM:  FINDINGS:  Three standard </span><span class=\"spark-nlp-display-entity-wrapper\" style=\"background-color: #A3A592\"><span class=\"spark-nlp-display-entity-name\">views </span><span class=\"spark-nlp-display-entity-type\">ImagingTest</span></span><span class=\"spark-nlp-display-others\" style=\"background-color: white\"> of </span><span class=\"spark-nlp-display-entity-wrapper\" style=\"background-color: #06AE45\"><span class=\"spark-nlp-display-entity-name\">left wrist </span><span class=\"spark-nlp-display-entity-type\">BodyPart</span></span><span class=\"spark-nlp-display-others\" style=\"background-color: white\"> and two views of </span><span class=\"spark-nlp-display-entity-wrapper\" style=\"background-color: #06AE45\"><span class=\"spark-nlp-display-entity-name\">left forearm </span><span class=\"spark-nlp-display-entity-type\">BodyPart</span></span><span class=\"spark-nlp-display-others\" style=\"background-color: white\"> were obtained. The latter consists of </span><span class=\"spark-nlp-display-entity-wrapper\" style=\"background-color: #018C47\"><span class=\"spark-nlp-display-entity-name\">lateral </span><span class=\"spark-nlp-display-entity-type\">Imaging_Technique</span></span><span class=\"spark-nlp-display-others\" style=\"background-color: white\"> and </span><span class=\"spark-nlp-display-entity-wrapper\" style=\"background-color: #018C47\"><span class=\"spark-nlp-display-entity-name\">oblique views without straight  AP view </span><span class=\"spark-nlp-display-entity-type\">Imaging_Technique</span></span><span class=\"spark-nlp-display-others\" style=\"background-color: white\">.  <br>Impression: 1. There is what appears to be Smith’s </span><span class=\"spark-nlp-display-entity-wrapper\" style=\"background-color: #B5B910\"><span class=\"spark-nlp-display-entity-name\">fracture </span><span class=\"spark-nlp-display-entity-type\">ImagingFindings</span></span><span class=\"spark-nlp-display-others\" style=\"background-color: white\"> affecting the </span><span class=\"spark-nlp-display-entity-wrapper\" style=\"background-color: #06AE45\"><span class=\"spark-nlp-display-entity-name\">left wrist </span><span class=\"spark-nlp-display-entity-type\">BodyPart</span></span><span class=\"spark-nlp-display-others\" style=\"background-color: white\">. It  consists of </span><span class=\"spark-nlp-display-entity-wrapper\" style=\"background-color: #B5B910\"><span class=\"spark-nlp-display-entity-name\">impacted comminuted fracture </span><span class=\"spark-nlp-display-entity-type\">ImagingFindings</span></span><span class=\"spark-nlp-display-others\" style=\"background-color: white\"> of </span><span class=\"spark-nlp-display-entity-wrapper\" style=\"background-color: #06AE45\"><span class=\"spark-nlp-display-entity-name\">distal left radial metaphysis </span><span class=\"spark-nlp-display-entity-type\">BodyPart</span></span><span class=\"spark-nlp-display-others\" style=\"background-color: white\"> having dorsal angulation at the </span><span class=\"spark-nlp-display-entity-wrapper\" style=\"background-color: #B5B910\"><span class=\"spark-nlp-display-entity-name\">fracture </span><span class=\"spark-nlp-display-entity-type\">ImagingFindings</span></span><span class=\"spark-nlp-display-others\" style=\"background-color: white\"> site as well as </span><span class=\"spark-nlp-display-entity-wrapper\" style=\"background-color: #A209C8\"><span class=\"spark-nlp-display-entity-name\">avulsion fracture </span><span class=\"spark-nlp-display-entity-type\">Disease_Syndrome_Disorder</span></span><span class=\"spark-nlp-display-others\" style=\"background-color: white\"> of  </span><span class=\"spark-nlp-display-entity-wrapper\" style=\"background-color: #06AE45\"><span class=\"spark-nlp-display-entity-name\">ulnar styloid </span><span class=\"spark-nlp-display-entity-type\">BodyPart</span></span><span class=\"spark-nlp-display-others\" style=\"background-color: white\"> process. The </span><span class=\"spark-nlp-display-entity-wrapper\" style=\"background-color: #B5B910\"><span class=\"spark-nlp-display-entity-name\">fracture </span><span class=\"spark-nlp-display-entity-type\">ImagingFindings</span></span><span class=\"spark-nlp-display-others\" style=\"background-color: white\"> affects neighboring </span><span class=\"spark-nlp-display-entity-wrapper\" style=\"background-color: #06AE45\"><span class=\"spark-nlp-display-entity-name\">radiocarpal </span><span class=\"spark-nlp-display-entity-type\">BodyPart</span></span><span class=\"spark-nlp-display-others\" style=\"background-color: white\"> as well  as </span><span class=\"spark-nlp-display-entity-wrapper\" style=\"background-color: #06AE45\"><span class=\"spark-nlp-display-entity-name\">inferior radioulnar articulations </span><span class=\"spark-nlp-display-entity-type\">BodyPart</span></span><span class=\"spark-nlp-display-others\" style=\"background-color: white\">.  <br>2. Small </span><span class=\"spark-nlp-display-entity-wrapper\" style=\"background-color: #B5B910\"><span class=\"spark-nlp-display-entity-name\">cortical avulsion fracture </span><span class=\"spark-nlp-display-entity-type\">ImagingFindings</span></span><span class=\"spark-nlp-display-others\" style=\"background-color: white\"> is also noted on </span><span class=\"spark-nlp-display-entity-wrapper\" style=\"background-color: #018C47\"><span class=\"spark-nlp-display-entity-name\">lateral </span><span class=\"spark-nlp-display-entity-type\">Imaging_Technique</span></span><span class=\"spark-nlp-display-others\" style=\"background-color: white\"> </span><span class=\"spark-nlp-display-entity-wrapper\" style=\"background-color: #A3A592\"><span class=\"spark-nlp-display-entity-name\">view </span><span class=\"spark-nlp-display-entity-type\">ImagingTest</span></span><span class=\"spark-nlp-display-others\" style=\"background-color: white\"> of </span><span class=\"spark-nlp-display-entity-wrapper\" style=\"background-color: #06AE45\"><span class=\"spark-nlp-display-entity-name\">wrist </span><span class=\"spark-nlp-display-entity-type\">BodyPart</span></span><span class=\"spark-nlp-display-others\" style=\"background-color: white\"> at </span><span class=\"spark-nlp-display-entity-wrapper\" style=\"background-color: #06AE45\"><span class=\"spark-nlp-display-entity-name\">carpo-metacarpal articulation </span><span class=\"spark-nlp-display-entity-type\">BodyPart</span></span><span class=\"spark-nlp-display-others\" style=\"background-color: white\">, probably at </span><span class=\"spark-nlp-display-entity-wrapper\" style=\"background-color: #06AE45\"><span class=\"spark-nlp-display-entity-name\">3rd carpometacarpal articulation </span><span class=\"spark-nlp-display-entity-type\">BodyPart</span></span><span class=\"spark-nlp-display-others\" style=\"background-color: white\">. NOTE: Presence of an </span><span class=\"spark-nlp-display-entity-wrapper\" style=\"background-color: #06AE45\"><span class=\"spark-nlp-display-entity-name\">accessory ossicle </span><span class=\"spark-nlp-display-entity-type\">BodyPart</span></span><span class=\"spark-nlp-display-others\" style=\"background-color: white\"> </span><span class=\"spark-nlp-display-entity-wrapper\" style=\"background-color: #541F14\"><span class=\"spark-nlp-display-entity-name\">dorsally </span><span class=\"spark-nlp-display-entity-type\">Direction</span></span><span class=\"spark-nlp-display-others\" style=\"background-color: white\"> opposing the </span><span class=\"spark-nlp-display-entity-wrapper\" style=\"background-color: #06AE45\"><span class=\"spark-nlp-display-entity-name\">triquetrum </span><span class=\"spark-nlp-display-entity-type\">BodyPart</span></span><span class=\"spark-nlp-display-others\" style=\"background-color: white\">  or </span><span class=\"spark-nlp-display-entity-wrapper\" style=\"background-color: #06AE45\"><span class=\"spark-nlp-display-entity-name\">lunate </span><span class=\"spark-nlp-display-entity-type\">BodyPart</span></span><span class=\"spark-nlp-display-others\" style=\"background-color: white\">. <br>3. Low-grade </span><span class=\"spark-nlp-display-entity-wrapper\" style=\"background-color: #A209C8\"><span class=\"spark-nlp-display-entity-name\">osteoarthrosis </span><span class=\"spark-nlp-display-entity-type\">Disease_Syndrome_Disorder</span></span><span class=\"spark-nlp-display-others\" style=\"background-color: white\"> at </span><span class=\"spark-nlp-display-entity-wrapper\" style=\"background-color: #06AE45\"><span class=\"spark-nlp-display-entity-name\">left 1st carpo-metacarpal articulation </span><span class=\"spark-nlp-display-entity-type\">BodyPart</span></span><span class=\"spark-nlp-display-others\" style=\"background-color: white\"> as  well as </span><span class=\"spark-nlp-display-entity-wrapper\" style=\"background-color: #06AE45\"><span class=\"spark-nlp-display-entity-name\">intermetacarpal articulation </span><span class=\"spark-nlp-display-entity-type\">BodyPart</span></span><span class=\"spark-nlp-display-others\" style=\"background-color: white\"> between </span><span class=\"spark-nlp-display-entity-wrapper\" style=\"background-color: #06AE45\"><span class=\"spark-nlp-display-entity-name\">1st </span><span class=\"spark-nlp-display-entity-type\">BodyPart</span></span><span class=\"spark-nlp-display-others\" style=\"background-color: white\"> and </span><span class=\"spark-nlp-display-entity-wrapper\" style=\"background-color: #06AE45\"><span class=\"spark-nlp-display-entity-name\">2nd </span><span class=\"spark-nlp-display-entity-type\">BodyPart</span></span><span class=\"spark-nlp-display-others\" style=\"background-color: white\">.  <br>4. The rest of </span><span class=\"spark-nlp-display-entity-wrapper\" style=\"background-color: #06AE45\"><span class=\"spark-nlp-display-entity-name\">radius </span><span class=\"spark-nlp-display-entity-type\">BodyPart</span></span><span class=\"spark-nlp-display-others\" style=\"background-color: white\"> and </span><span class=\"spark-nlp-display-entity-wrapper\" style=\"background-color: #06AE45\"><span class=\"spark-nlp-display-entity-name\">ulna </span><span class=\"spark-nlp-display-entity-type\">BodyPart</span></span><span class=\"spark-nlp-display-others\" style=\"background-color: white\"> are </span><span class=\"spark-nlp-display-entity-wrapper\" style=\"background-color: #B5B910\"><span class=\"spark-nlp-display-entity-name\">normal </span><span class=\"spark-nlp-display-entity-type\">ImagingFindings</span></span><span class=\"spark-nlp-display-others\" style=\"background-color: white\">.<br>Procedure: KNEE 3 VIEWS </span></div>"
            ]
          },
          "metadata": {}
        },
        {
          "output_type": "stream",
          "name": "stdout",
          "text": [
            "\n",
            "\n",
            "\n"
          ]
        },
        {
          "output_type": "display_data",
          "data": {
            "text/plain": [
              "<IPython.core.display.HTML object>"
            ],
            "text/html": [
              "\n",
              "<style>\n",
              "    @import url('https://fonts.googleapis.com/css2?family=Montserrat:wght@300;400;500;600;700&display=swap');\n",
              "    @import url('https://fonts.googleapis.com/css2?family=Vistol Regular:wght@300;400;500;600;700&display=swap');\n",
              "    \n",
              "    .spark-nlp-display-scroll-entities {\n",
              "        border: 1px solid #E7EDF0;\n",
              "        border-radius: 3px;\n",
              "        text-align: justify;\n",
              "        \n",
              "    }\n",
              "    .spark-nlp-display-scroll-entities span {  \n",
              "        font-size: 14px;\n",
              "        line-height: 24px;\n",
              "        color: #536B76;\n",
              "        font-family: 'Montserrat', sans-serif !important;\n",
              "    }\n",
              "    \n",
              "    .spark-nlp-display-entity-wrapper{\n",
              "    \n",
              "        display: inline-grid;\n",
              "        text-align: center;\n",
              "        border-radius: 4px;\n",
              "        margin: 0 2px 5px 2px;\n",
              "        padding: 1px\n",
              "    }\n",
              "    .spark-nlp-display-entity-name{\n",
              "        font-size: 14px;\n",
              "        line-height: 24px;\n",
              "        font-family: 'Montserrat', sans-serif !important;\n",
              "        \n",
              "        background: #f1f2f3;\n",
              "        border-width: medium;\n",
              "        text-align: center;\n",
              "        \n",
              "        font-weight: 400;\n",
              "        \n",
              "        border-radius: 5px;\n",
              "        padding: 2px 5px;\n",
              "        display: block;\n",
              "        margin: 3px 2px;\n",
              "    \n",
              "    }\n",
              "    .spark-nlp-display-entity-type{\n",
              "        font-size: 14px;\n",
              "        line-height: 24px;\n",
              "        color: #ffffff;\n",
              "        font-family: 'Montserrat', sans-serif !important;\n",
              "        \n",
              "        text-transform: uppercase;\n",
              "        \n",
              "        font-weight: 500;\n",
              "\n",
              "        display: block;\n",
              "        padding: 3px 5px;\n",
              "    }\n",
              "    \n",
              "    .spark-nlp-display-entity-resolution{\n",
              "        font-size: 14px;\n",
              "        line-height: 24px;\n",
              "        color: #ffffff;\n",
              "        font-family: 'Vistol Regular', sans-serif !important;\n",
              "        \n",
              "        text-transform: uppercase;\n",
              "        \n",
              "        font-weight: 500;\n",
              "\n",
              "        display: block;\n",
              "        padding: 3px 5px;\n",
              "    }\n",
              "    \n",
              "    .spark-nlp-display-others{\n",
              "        font-size: 14px;\n",
              "        line-height: 24px;\n",
              "        font-family: 'Montserrat', sans-serif !important;\n",
              "        \n",
              "        font-weight: 400;\n",
              "    }\n",
              "\n",
              "</style>\n",
              " <span class=\"spark-nlp-display-others\" style=\"background-color: white\">Procedure: KNEE 3 VIEWS Clinical History: S/p </span><span class=\"spark-nlp-display-entity-wrapper\" style=\"background-color: #9FAF50\"><span class=\"spark-nlp-display-entity-name\">fall from ladder </span><span class=\"spark-nlp-display-entity-type\">Disease_Syndrome_Disorder</span></span><span class=\"spark-nlp-display-others\" style=\"background-color: white\"> with </span><span class=\"spark-nlp-display-entity-wrapper\" style=\"background-color: #950971\"><span class=\"spark-nlp-display-entity-name\">right hip </span><span class=\"spark-nlp-display-entity-type\">BodyPart</span></span><span class=\"spark-nlp-display-others\" style=\"background-color: white\"> </span><span class=\"spark-nlp-display-entity-wrapper\" style=\"background-color: #72622B\"><span class=\"spark-nlp-display-entity-name\">fracture </span><span class=\"spark-nlp-display-entity-type\">Symptom</span></span><span class=\"spark-nlp-display-others\" style=\"background-color: white\">. Since then also with </span><span class=\"spark-nlp-display-entity-wrapper\" style=\"background-color: #950971\"><span class=\"spark-nlp-display-entity-name\">right knee </span><span class=\"spark-nlp-display-entity-type\">BodyPart</span></span><span class=\"spark-nlp-display-others\" style=\"background-color: white\"> </span><span class=\"spark-nlp-display-entity-wrapper\" style=\"background-color: #72622B\"><span class=\"spark-nlp-display-entity-name\">swelling </span><span class=\"spark-nlp-display-entity-type\">Symptom</span></span><span class=\"spark-nlp-display-others\" style=\"background-color: white\"> and </span><span class=\"spark-nlp-display-entity-wrapper\" style=\"background-color: #950971\"><span class=\"spark-nlp-display-entity-name\">knee </span><span class=\"spark-nlp-display-entity-type\">BodyPart</span></span><span class=\"spark-nlp-display-others\" style=\"background-color: white\"> </span><span class=\"spark-nlp-display-entity-wrapper\" style=\"background-color: #72622B\"><span class=\"spark-nlp-display-entity-name\">that “gives out” </span><span class=\"spark-nlp-display-entity-type\">Symptom</span></span><span class=\"spark-nlp-display-others\" style=\"background-color: white\">. Prior </span><span class=\"spark-nlp-display-entity-wrapper\" style=\"background-color: #7D28C8\"><span class=\"spark-nlp-display-entity-name\">films </span><span class=\"spark-nlp-display-entity-type\">ImagingTest</span></span><span class=\"spark-nlp-display-others\" style=\"background-color: white\"> showed  </span><span class=\"spark-nlp-display-entity-wrapper\" style=\"background-color: #3E9F26\"><span class=\"spark-nlp-display-entity-name\">effusion </span><span class=\"spark-nlp-display-entity-type\">ImagingFindings</span></span><span class=\"spark-nlp-display-others\" style=\"background-color: white\"> and </span><span class=\"spark-nlp-display-entity-wrapper\" style=\"background-color: #3E9F26\"><span class=\"spark-nlp-display-entity-name\">narrowed joint space </span><span class=\"spark-nlp-display-entity-type\">ImagingFindings</span></span><span class=\"spark-nlp-display-others\" style=\"background-color: white\">. Appreciate re-evaluation. <br>Report: </span><span class=\"spark-nlp-display-entity-wrapper\" style=\"background-color: #950971\"><span class=\"spark-nlp-display-entity-name\">RIGHT KNEE </span><span class=\"spark-nlp-display-entity-type\">BodyPart</span></span><span class=\"spark-nlp-display-others\" style=\"background-color: white\"> THREE VIEWS, Impression: There is no </span><span class=\"spark-nlp-display-entity-wrapper\" style=\"background-color: #3E9F26\"><span class=\"spark-nlp-display-entity-name\">acute fracture </span><span class=\"spark-nlp-display-entity-type\">ImagingFindings</span></span><span class=\"spark-nlp-display-others\" style=\"background-color: white\"> or </span><span class=\"spark-nlp-display-entity-wrapper\" style=\"background-color: #3E9F26\"><span class=\"spark-nlp-display-entity-name\">dislocation </span><span class=\"spark-nlp-display-entity-type\">ImagingFindings</span></span><span class=\"spark-nlp-display-others\" style=\"background-color: white\">. </span><span class=\"spark-nlp-display-entity-wrapper\" style=\"background-color: #3E9F26\"><span class=\"spark-nlp-display-entity-name\">Mild patchy osteopenia </span><span class=\"spark-nlp-display-entity-type\">ImagingFindings</span></span><span class=\"spark-nlp-display-others\" style=\"background-color: white\">. Probable small volume </span><span class=\"spark-nlp-display-entity-wrapper\" style=\"background-color: #950971\"><span class=\"spark-nlp-display-entity-name\">suprapatellar joint </span><span class=\"spark-nlp-display-entity-type\">BodyPart</span></span><span class=\"spark-nlp-display-others\" style=\"background-color: white\"> </span><span class=\"spark-nlp-display-entity-wrapper\" style=\"background-color: #3E9F26\"><span class=\"spark-nlp-display-entity-name\">effusion </span><span class=\"spark-nlp-display-entity-type\">ImagingFindings</span></span><span class=\"spark-nlp-display-others\" style=\"background-color: white\">. Mild </span><span class=\"spark-nlp-display-entity-wrapper\" style=\"background-color: #950971\"><span class=\"spark-nlp-display-entity-name\">patellar </span><span class=\"spark-nlp-display-entity-type\">BodyPart</span></span><span class=\"spark-nlp-display-others\" style=\"background-color: white\"> </span><span class=\"spark-nlp-display-entity-wrapper\" style=\"background-color: #3E9F26\"><span class=\"spark-nlp-display-entity-name\">spurring </span><span class=\"spark-nlp-display-entity-type\">ImagingFindings</span></span><span class=\"spark-nlp-display-others\" style=\"background-color: white\">.  </span></div>"
            ]
          },
          "metadata": {}
        },
        {
          "output_type": "stream",
          "name": "stdout",
          "text": [
            "\n",
            "\n",
            "\n"
          ]
        },
        {
          "output_type": "display_data",
          "data": {
            "text/plain": [
              "<IPython.core.display.HTML object>"
            ],
            "text/html": [
              "\n",
              "<style>\n",
              "    @import url('https://fonts.googleapis.com/css2?family=Montserrat:wght@300;400;500;600;700&display=swap');\n",
              "    @import url('https://fonts.googleapis.com/css2?family=Vistol Regular:wght@300;400;500;600;700&display=swap');\n",
              "    \n",
              "    .spark-nlp-display-scroll-entities {\n",
              "        border: 1px solid #E7EDF0;\n",
              "        border-radius: 3px;\n",
              "        text-align: justify;\n",
              "        \n",
              "    }\n",
              "    .spark-nlp-display-scroll-entities span {  \n",
              "        font-size: 14px;\n",
              "        line-height: 24px;\n",
              "        color: #536B76;\n",
              "        font-family: 'Montserrat', sans-serif !important;\n",
              "    }\n",
              "    \n",
              "    .spark-nlp-display-entity-wrapper{\n",
              "    \n",
              "        display: inline-grid;\n",
              "        text-align: center;\n",
              "        border-radius: 4px;\n",
              "        margin: 0 2px 5px 2px;\n",
              "        padding: 1px\n",
              "    }\n",
              "    .spark-nlp-display-entity-name{\n",
              "        font-size: 14px;\n",
              "        line-height: 24px;\n",
              "        font-family: 'Montserrat', sans-serif !important;\n",
              "        \n",
              "        background: #f1f2f3;\n",
              "        border-width: medium;\n",
              "        text-align: center;\n",
              "        \n",
              "        font-weight: 400;\n",
              "        \n",
              "        border-radius: 5px;\n",
              "        padding: 2px 5px;\n",
              "        display: block;\n",
              "        margin: 3px 2px;\n",
              "    \n",
              "    }\n",
              "    .spark-nlp-display-entity-type{\n",
              "        font-size: 14px;\n",
              "        line-height: 24px;\n",
              "        color: #ffffff;\n",
              "        font-family: 'Montserrat', sans-serif !important;\n",
              "        \n",
              "        text-transform: uppercase;\n",
              "        \n",
              "        font-weight: 500;\n",
              "\n",
              "        display: block;\n",
              "        padding: 3px 5px;\n",
              "    }\n",
              "    \n",
              "    .spark-nlp-display-entity-resolution{\n",
              "        font-size: 14px;\n",
              "        line-height: 24px;\n",
              "        color: #ffffff;\n",
              "        font-family: 'Vistol Regular', sans-serif !important;\n",
              "        \n",
              "        text-transform: uppercase;\n",
              "        \n",
              "        font-weight: 500;\n",
              "\n",
              "        display: block;\n",
              "        padding: 3px 5px;\n",
              "    }\n",
              "    \n",
              "    .spark-nlp-display-others{\n",
              "        font-size: 14px;\n",
              "        line-height: 24px;\n",
              "        font-family: 'Montserrat', sans-serif !important;\n",
              "        \n",
              "        font-weight: 400;\n",
              "    }\n",
              "\n",
              "</style>\n",
              " <span class=\"spark-nlp-display-others\" style=\"background-color: white\">Procedure: </span><span class=\"spark-nlp-display-entity-wrapper\" style=\"background-color: #956761\"><span class=\"spark-nlp-display-entity-name\">CALCANEOUS </span><span class=\"spark-nlp-display-entity-type\">BodyPart</span></span><span class=\"spark-nlp-display-others\" style=\"background-color: white\"> 2 VIEWS, Clinical History: SP FX </span><span class=\"spark-nlp-display-entity-wrapper\" style=\"background-color: #4CC092\"><span class=\"spark-nlp-display-entity-name\">CALCANEOUS </span><span class=\"spark-nlp-display-entity-type\">ImagingTest</span></span><span class=\"spark-nlp-display-others\" style=\"background-color: white\">, Report: See impression. Impression: Compared to the prior study of 1/12/99 there is no </span><span class=\"spark-nlp-display-entity-wrapper\" style=\"background-color: #75249D\"><span class=\"spark-nlp-display-entity-name\">significant change in  the deformity </span><span class=\"spark-nlp-display-entity-type\">ImagingFindings</span></span><span class=\"spark-nlp-display-others\" style=\"background-color: white\"> of the </span><span class=\"spark-nlp-display-entity-wrapper\" style=\"background-color: #956761\"><span class=\"spark-nlp-display-entity-name\">calcaneus </span><span class=\"spark-nlp-display-entity-type\">BodyPart</span></span><span class=\"spark-nlp-display-others\" style=\"background-color: white\"> consistent with an old </span><span class=\"spark-nlp-display-entity-wrapper\" style=\"background-color: #75249D\"><span class=\"spark-nlp-display-entity-name\">fracture </span><span class=\"spark-nlp-display-entity-type\">ImagingFindings</span></span><span class=\"spark-nlp-display-others\" style=\"background-color: white\"> which has undergone complete healing. The adjacent </span><span class=\"spark-nlp-display-entity-wrapper\" style=\"background-color: #956761\"><span class=\"spark-nlp-display-entity-name\">bony structures </span><span class=\"spark-nlp-display-entity-type\">BodyPart</span></span><span class=\"spark-nlp-display-others\" style=\"background-color: white\"> appear </span><span class=\"spark-nlp-display-entity-wrapper\" style=\"background-color: #75249D\"><span class=\"spark-nlp-display-entity-name\">intact </span><span class=\"spark-nlp-display-entity-type\">ImagingFindings</span></span><span class=\"spark-nlp-display-others\" style=\"background-color: white\">.  </span></div>"
            ]
          },
          "metadata": {}
        },
        {
          "output_type": "stream",
          "name": "stdout",
          "text": [
            "\n",
            "\n",
            "\n"
          ]
        },
        {
          "output_type": "display_data",
          "data": {
            "text/plain": [
              "<IPython.core.display.HTML object>"
            ],
            "text/html": [
              "\n",
              "<style>\n",
              "    @import url('https://fonts.googleapis.com/css2?family=Montserrat:wght@300;400;500;600;700&display=swap');\n",
              "    @import url('https://fonts.googleapis.com/css2?family=Vistol Regular:wght@300;400;500;600;700&display=swap');\n",
              "    \n",
              "    .spark-nlp-display-scroll-entities {\n",
              "        border: 1px solid #E7EDF0;\n",
              "        border-radius: 3px;\n",
              "        text-align: justify;\n",
              "        \n",
              "    }\n",
              "    .spark-nlp-display-scroll-entities span {  \n",
              "        font-size: 14px;\n",
              "        line-height: 24px;\n",
              "        color: #536B76;\n",
              "        font-family: 'Montserrat', sans-serif !important;\n",
              "    }\n",
              "    \n",
              "    .spark-nlp-display-entity-wrapper{\n",
              "    \n",
              "        display: inline-grid;\n",
              "        text-align: center;\n",
              "        border-radius: 4px;\n",
              "        margin: 0 2px 5px 2px;\n",
              "        padding: 1px\n",
              "    }\n",
              "    .spark-nlp-display-entity-name{\n",
              "        font-size: 14px;\n",
              "        line-height: 24px;\n",
              "        font-family: 'Montserrat', sans-serif !important;\n",
              "        \n",
              "        background: #f1f2f3;\n",
              "        border-width: medium;\n",
              "        text-align: center;\n",
              "        \n",
              "        font-weight: 400;\n",
              "        \n",
              "        border-radius: 5px;\n",
              "        padding: 2px 5px;\n",
              "        display: block;\n",
              "        margin: 3px 2px;\n",
              "    \n",
              "    }\n",
              "    .spark-nlp-display-entity-type{\n",
              "        font-size: 14px;\n",
              "        line-height: 24px;\n",
              "        color: #ffffff;\n",
              "        font-family: 'Montserrat', sans-serif !important;\n",
              "        \n",
              "        text-transform: uppercase;\n",
              "        \n",
              "        font-weight: 500;\n",
              "\n",
              "        display: block;\n",
              "        padding: 3px 5px;\n",
              "    }\n",
              "    \n",
              "    .spark-nlp-display-entity-resolution{\n",
              "        font-size: 14px;\n",
              "        line-height: 24px;\n",
              "        color: #ffffff;\n",
              "        font-family: 'Vistol Regular', sans-serif !important;\n",
              "        \n",
              "        text-transform: uppercase;\n",
              "        \n",
              "        font-weight: 500;\n",
              "\n",
              "        display: block;\n",
              "        padding: 3px 5px;\n",
              "    }\n",
              "    \n",
              "    .spark-nlp-display-others{\n",
              "        font-size: 14px;\n",
              "        line-height: 24px;\n",
              "        font-family: 'Montserrat', sans-serif !important;\n",
              "        \n",
              "        font-weight: 400;\n",
              "    }\n",
              "\n",
              "</style>\n",
              " <span class=\"spark-nlp-display-others\" style=\"background-color: white\"> Procedure: FOOT 3 OR MORE VIEWS, Clinical History: 49 yo b m w cc of </span><span class=\"spark-nlp-display-entity-wrapper\" style=\"background-color: #016F5D\"><span class=\"spark-nlp-display-entity-name\">bilateral foot </span><span class=\"spark-nlp-display-entity-type\">BodyPart</span></span><span class=\"spark-nlp-display-others\" style=\"background-color: white\"> </span><span class=\"spark-nlp-display-entity-wrapper\" style=\"background-color: #6FBF77\"><span class=\"spark-nlp-display-entity-name\">pain </span><span class=\"spark-nlp-display-entity-type\">Symptom</span></span><span class=\"spark-nlp-display-others\" style=\"background-color: white\">. please eval thanks. Report: See Impression. Impression: BILATERAL FEET: No </span><span class=\"spark-nlp-display-entity-wrapper\" style=\"background-color: #80B800\"><span class=\"spark-nlp-display-entity-name\">traumatic </span><span class=\"spark-nlp-display-entity-type\">Disease_Syndrome_Disorder</span></span><span class=\"spark-nlp-display-others\" style=\"background-color: white\">, </span><span class=\"spark-nlp-display-entity-wrapper\" style=\"background-color: #80B800\"><span class=\"spark-nlp-display-entity-name\">arthritic </span><span class=\"spark-nlp-display-entity-type\">Disease_Syndrome_Disorder</span></span><span class=\"spark-nlp-display-others\" style=\"background-color: white\">, or </span><span class=\"spark-nlp-display-entity-wrapper\" style=\"background-color: #534587\"><span class=\"spark-nlp-display-entity-name\">developmental abnormality </span><span class=\"spark-nlp-display-entity-type\">ImagingFindings</span></span><span class=\"spark-nlp-display-others\" style=\"background-color: white\">  is discernible. </span></div>"
            ]
          },
          "metadata": {}
        },
        {
          "output_type": "stream",
          "name": "stdout",
          "text": [
            "\n",
            "\n",
            "\n"
          ]
        }
      ]
    }
  ]
}
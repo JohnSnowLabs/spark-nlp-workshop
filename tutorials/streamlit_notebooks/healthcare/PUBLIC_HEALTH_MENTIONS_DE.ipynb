{
  "nbformat": 4,
  "nbformat_minor": 0,
  "metadata": {
    "colab": {
      "provenance": [],
      "collapsed_sections": []
    },
    "kernelspec": {
      "name": "python3",
      "display_name": "Python 3"
    },
    "language_info": {
      "name": "python"
    }
  },
  "cells": [
    {
      "cell_type": "markdown",
      "source": [
        "![JohnSnowLabs](https://nlp.johnsnowlabs.com/assets/images/logo.png)\n",
        "\n"
      ],
      "metadata": {
        "id": "UehJ6FLKAzAO"
      }
    },
    {
      "cell_type": "markdown",
      "source": [
        "[![Open In Colab](https://colab.research.google.com/assets/colab-badge.svg)](https://colab.research.google.com/github/JohnSnowLabs/spark-nlp-workshop/blob/master/tutorials/Certification_Trainings/Healthcare/1.Clinical_Named_Entity_Recognition_Model.ipynb)"
      ],
      "metadata": {
        "id": "01ra6-EqA4sm"
      }
    },
    {
      "cell_type": "markdown",
      "source": [
        "## **Classify Public Health Mentions in German**"
      ],
      "metadata": {
        "id": "PSBcVApURbMo"
      }
    },
    {
      "cell_type": "markdown",
      "source": [
        "## Colab Setup"
      ],
      "metadata": {
        "id": "cpAjUdJeLtlv"
      }
    },
    {
      "cell_type": "code",
      "source": [
        "# Install the johnsnowlabs library to access Spark-OCR and Spark-NLP for Healthcare, Finance, and Legal.\n",
        "! pip install -q johnsnowlabs "
      ],
      "metadata": {
        "id": "2r_2921hLu79"
      },
      "execution_count": null,
      "outputs": []
    },
    {
      "cell_type": "code",
      "source": [
        "from google.colab import files\n",
        "print('Please Upload your John Snow Labs License using the button below')\n",
        "license_keys = files.upload()"
      ],
      "metadata": {
        "colab": {
          "base_uri": "https://localhost:8080/",
          "height": 90
        },
        "id": "rMEJ9EX7LxHi",
        "outputId": "11334c07-fb0a-4ce6-99ba-0400621d5db8"
      },
      "execution_count": 2,
      "outputs": [
        {
          "output_type": "stream",
          "name": "stdout",
          "text": [
            "Please Upload your John Snow Labs License using the button below\n"
          ]
        },
        {
          "output_type": "display_data",
          "data": {
            "text/plain": [
              "<IPython.core.display.HTML object>"
            ],
            "text/html": [
              "\n",
              "     <input type=\"file\" id=\"files-2b034835-9ee6-4cd5-9532-c831453f8cf3\" name=\"files[]\" multiple disabled\n",
              "        style=\"border:none\" />\n",
              "     <output id=\"result-2b034835-9ee6-4cd5-9532-c831453f8cf3\">\n",
              "      Upload widget is only available when the cell has been executed in the\n",
              "      current browser session. Please rerun this cell to enable.\n",
              "      </output>\n",
              "      <script>// Copyright 2017 Google LLC\n",
              "//\n",
              "// Licensed under the Apache License, Version 2.0 (the \"License\");\n",
              "// you may not use this file except in compliance with the License.\n",
              "// You may obtain a copy of the License at\n",
              "//\n",
              "//      http://www.apache.org/licenses/LICENSE-2.0\n",
              "//\n",
              "// Unless required by applicable law or agreed to in writing, software\n",
              "// distributed under the License is distributed on an \"AS IS\" BASIS,\n",
              "// WITHOUT WARRANTIES OR CONDITIONS OF ANY KIND, either express or implied.\n",
              "// See the License for the specific language governing permissions and\n",
              "// limitations under the License.\n",
              "\n",
              "/**\n",
              " * @fileoverview Helpers for google.colab Python module.\n",
              " */\n",
              "(function(scope) {\n",
              "function span(text, styleAttributes = {}) {\n",
              "  const element = document.createElement('span');\n",
              "  element.textContent = text;\n",
              "  for (const key of Object.keys(styleAttributes)) {\n",
              "    element.style[key] = styleAttributes[key];\n",
              "  }\n",
              "  return element;\n",
              "}\n",
              "\n",
              "// Max number of bytes which will be uploaded at a time.\n",
              "const MAX_PAYLOAD_SIZE = 100 * 1024;\n",
              "\n",
              "function _uploadFiles(inputId, outputId) {\n",
              "  const steps = uploadFilesStep(inputId, outputId);\n",
              "  const outputElement = document.getElementById(outputId);\n",
              "  // Cache steps on the outputElement to make it available for the next call\n",
              "  // to uploadFilesContinue from Python.\n",
              "  outputElement.steps = steps;\n",
              "\n",
              "  return _uploadFilesContinue(outputId);\n",
              "}\n",
              "\n",
              "// This is roughly an async generator (not supported in the browser yet),\n",
              "// where there are multiple asynchronous steps and the Python side is going\n",
              "// to poll for completion of each step.\n",
              "// This uses a Promise to block the python side on completion of each step,\n",
              "// then passes the result of the previous step as the input to the next step.\n",
              "function _uploadFilesContinue(outputId) {\n",
              "  const outputElement = document.getElementById(outputId);\n",
              "  const steps = outputElement.steps;\n",
              "\n",
              "  const next = steps.next(outputElement.lastPromiseValue);\n",
              "  return Promise.resolve(next.value.promise).then((value) => {\n",
              "    // Cache the last promise value to make it available to the next\n",
              "    // step of the generator.\n",
              "    outputElement.lastPromiseValue = value;\n",
              "    return next.value.response;\n",
              "  });\n",
              "}\n",
              "\n",
              "/**\n",
              " * Generator function which is called between each async step of the upload\n",
              " * process.\n",
              " * @param {string} inputId Element ID of the input file picker element.\n",
              " * @param {string} outputId Element ID of the output display.\n",
              " * @return {!Iterable<!Object>} Iterable of next steps.\n",
              " */\n",
              "function* uploadFilesStep(inputId, outputId) {\n",
              "  const inputElement = document.getElementById(inputId);\n",
              "  inputElement.disabled = false;\n",
              "\n",
              "  const outputElement = document.getElementById(outputId);\n",
              "  outputElement.innerHTML = '';\n",
              "\n",
              "  const pickedPromise = new Promise((resolve) => {\n",
              "    inputElement.addEventListener('change', (e) => {\n",
              "      resolve(e.target.files);\n",
              "    });\n",
              "  });\n",
              "\n",
              "  const cancel = document.createElement('button');\n",
              "  inputElement.parentElement.appendChild(cancel);\n",
              "  cancel.textContent = 'Cancel upload';\n",
              "  const cancelPromise = new Promise((resolve) => {\n",
              "    cancel.onclick = () => {\n",
              "      resolve(null);\n",
              "    };\n",
              "  });\n",
              "\n",
              "  // Wait for the user to pick the files.\n",
              "  const files = yield {\n",
              "    promise: Promise.race([pickedPromise, cancelPromise]),\n",
              "    response: {\n",
              "      action: 'starting',\n",
              "    }\n",
              "  };\n",
              "\n",
              "  cancel.remove();\n",
              "\n",
              "  // Disable the input element since further picks are not allowed.\n",
              "  inputElement.disabled = true;\n",
              "\n",
              "  if (!files) {\n",
              "    return {\n",
              "      response: {\n",
              "        action: 'complete',\n",
              "      }\n",
              "    };\n",
              "  }\n",
              "\n",
              "  for (const file of files) {\n",
              "    const li = document.createElement('li');\n",
              "    li.append(span(file.name, {fontWeight: 'bold'}));\n",
              "    li.append(span(\n",
              "        `(${file.type || 'n/a'}) - ${file.size} bytes, ` +\n",
              "        `last modified: ${\n",
              "            file.lastModifiedDate ? file.lastModifiedDate.toLocaleDateString() :\n",
              "                                    'n/a'} - `));\n",
              "    const percent = span('0% done');\n",
              "    li.appendChild(percent);\n",
              "\n",
              "    outputElement.appendChild(li);\n",
              "\n",
              "    const fileDataPromise = new Promise((resolve) => {\n",
              "      const reader = new FileReader();\n",
              "      reader.onload = (e) => {\n",
              "        resolve(e.target.result);\n",
              "      };\n",
              "      reader.readAsArrayBuffer(file);\n",
              "    });\n",
              "    // Wait for the data to be ready.\n",
              "    let fileData = yield {\n",
              "      promise: fileDataPromise,\n",
              "      response: {\n",
              "        action: 'continue',\n",
              "      }\n",
              "    };\n",
              "\n",
              "    // Use a chunked sending to avoid message size limits. See b/62115660.\n",
              "    let position = 0;\n",
              "    do {\n",
              "      const length = Math.min(fileData.byteLength - position, MAX_PAYLOAD_SIZE);\n",
              "      const chunk = new Uint8Array(fileData, position, length);\n",
              "      position += length;\n",
              "\n",
              "      const base64 = btoa(String.fromCharCode.apply(null, chunk));\n",
              "      yield {\n",
              "        response: {\n",
              "          action: 'append',\n",
              "          file: file.name,\n",
              "          data: base64,\n",
              "        },\n",
              "      };\n",
              "\n",
              "      let percentDone = fileData.byteLength === 0 ?\n",
              "          100 :\n",
              "          Math.round((position / fileData.byteLength) * 100);\n",
              "      percent.textContent = `${percentDone}% done`;\n",
              "\n",
              "    } while (position < fileData.byteLength);\n",
              "  }\n",
              "\n",
              "  // All done.\n",
              "  yield {\n",
              "    response: {\n",
              "      action: 'complete',\n",
              "    }\n",
              "  };\n",
              "}\n",
              "\n",
              "scope.google = scope.google || {};\n",
              "scope.google.colab = scope.google.colab || {};\n",
              "scope.google.colab._files = {\n",
              "  _uploadFiles,\n",
              "  _uploadFilesContinue,\n",
              "};\n",
              "})(self);\n",
              "</script> "
            ]
          },
          "metadata": {}
        },
        {
          "output_type": "stream",
          "name": "stdout",
          "text": [
            "Saving 4.2.0.spark_nlp_for_healthcare.json to 4.2.0.spark_nlp_for_healthcare.json\n"
          ]
        }
      ]
    },
    {
      "cell_type": "code",
      "source": [
        "from johnsnowlabs import * \n",
        "\n",
        "# After uploading your license run this to install all licensed Python Wheels and pre-download Jars the Spark Session JVM\n",
        "jsl.install()"
      ],
      "metadata": {
        "colab": {
          "base_uri": "https://localhost:8080/"
        },
        "id": "unUt7PB4MCDo",
        "outputId": "46dbf783-28fc-4935-e1bd-099913461ead"
      },
      "execution_count": 3,
      "outputs": [
        {
          "output_type": "stream",
          "name": "stdout",
          "text": [
            "👌 Detected license file /content/4.2.0.spark_nlp_for_healthcare.json\n",
            "📋 Stored John Snow Labs License in /root/.johnsnowlabs/licenses/license_number_0_for_Spark-Healthcare_Spark-OCR.json\n",
            "👷 Setting up if John Snow Labs home exists in /root/.johnsnowlabs this might take a few minutes.\n",
            "Downloading 🐍+🚀 Python Library spark_nlp-4.2.0-py2.py3-none-any.whl\n",
            "Downloading 🐍+💊 Python Library spark_nlp_jsl-4.2.0-py3-none-any.whl\n",
            "Downloading 🐍+🕶 Python Library spark_ocr-4.1.0-py3-none-any.whl\n",
            "Downloading 🫘+🚀 Java Library spark-nlp-assembly-4.2.0.jar\n",
            "Downloading 🫘+💊 Java Library spark-nlp-jsl-4.2.0.jar\n",
            "Downloading 🫘+🕶 Java Library spark-ocr-assembly-4.1.0.jar\n",
            "🙆 JSL Home setup in /root/.johnsnowlabs\n",
            "👌 Detected license file /content/4.2.0.spark_nlp_for_healthcare.json\n",
            "Installing /root/.johnsnowlabs/py_installs/spark_nlp_jsl-4.2.0-py3-none-any.whl to /usr/bin/python3\n",
            "Running: /usr/bin/python3 -m pip install /root/.johnsnowlabs/py_installs/spark_nlp_jsl-4.2.0-py3-none-any.whl\n",
            "👌 Detected license file /content/4.2.0.spark_nlp_for_healthcare.json\n",
            "Installing /root/.johnsnowlabs/py_installs/spark_ocr-4.1.0-py3-none-any.whl to /usr/bin/python3\n",
            "Running: /usr/bin/python3 -m pip install /root/.johnsnowlabs/py_installs/spark_ocr-4.1.0-py3-none-any.whl\n",
            "👌 Detected license file /content/4.2.0.spark_nlp_for_healthcare.json\n",
            "Installing /root/.johnsnowlabs/py_installs/spark_nlp-4.2.0-py2.py3-none-any.whl to /usr/bin/python3\n",
            "Running: /usr/bin/python3 -m pip install /root/.johnsnowlabs/py_installs/spark_nlp-4.2.0-py2.py3-none-any.whl\n",
            "Installing pyspark to /usr/bin/python3\n",
            "Running: /usr/bin/python3 -m pip install pyspark\n",
            "Installed 3 products:\n",
            "💊 Spark-Healthcare==4.2.0 installed! ✅ Heal the planet with NLP! \n",
            "🕶 Spark-OCR==4.1.0 installed! ✅ Empower your NLP with a set of eyes \n",
            "🚀 Spark-NLP==4.2.0 installed! ✅ State of the art NLP at scale \n"
          ]
        }
      ]
    },
    {
      "cell_type": "code",
      "source": [
        "from johnsnowlabs import * \n",
        "import pandas as pd\n",
        "import warnings\n",
        "warnings.filterwarnings('ignore')\n",
        "\n",
        "# Automatically load license data and start a session with all jars user has access to\n",
        "spark = jsl.start(exclude_ocr = True)"
      ],
      "metadata": {
        "colab": {
          "base_uri": "https://localhost:8080/"
        },
        "id": "G58z0wliBcCU",
        "outputId": "c4ffb40e-d56e-4db4-ddce-d5345b2d1702"
      },
      "execution_count": 1,
      "outputs": [
        {
          "output_type": "stream",
          "name": "stdout",
          "text": [
            "👌 Detected license file /content/4.2.0.spark_nlp_for_healthcare.json\n",
            "👌 Launched \u001b[92mcpu-Optimized JVM\u001b[39m SparkSession with Jars for: 🚀Spark-NLP==4.2.0, 💊Spark-Healthcare==4.2.0, running on ⚡ PySpark==3.1.2\n"
          ]
        }
      ]
    },
    {
      "cell_type": "code",
      "source": [
        "text_list = [\"\"\"Die Schmerzen im Oberschenkel sind dann aber shcnell besser geworden, vielleicht war es auhc nur der Schrecke nach dem Stich.\"\"\",\n",
        "             \"\"\"Der roman handelt von einer mutter die ihre tochter sucht nachdem diese im urlaub verschwunden ist.\"\"\",\n",
        "             \"\"\"Der Orthopäde/ Chirurg bei dem ich zuerst war, wollte nicht operieren- er meinte die Probelmatik würde so nicht gelöst.\"\"\",\n",
        "             \"\"\"Wir waren bei einem Wine Tasting in der Steiermark.\"\"\",\n",
        "             \"\"\"Auch der Betriebsarzt ist zu der Diagnose gekommen und sich weitgehend sicher, dass ich Zuckerprobleme habe.\"\"\",  \n",
        "             \"\"\"Es dürfte dafür aber keine relativ einfache Lösung geben - man muss wohl nur die Lüftung austauschen.\"\"\"]"
      ],
      "metadata": {
        "id": "-tGOBbuRMLI1"
      },
      "execution_count": 2,
      "outputs": []
    },
    {
      "cell_type": "markdown",
      "source": [
        "## **bert_sequence_classifier_health_mentions_bert**"
      ],
      "metadata": {
        "id": "4OeEfBhVOFHR"
      }
    },
    {
      "cell_type": "code",
      "source": [
        "document_assembler = nlp.DocumentAssembler() \\\n",
        "    .setInputCol(\"text\") \\\n",
        "    .setOutputCol(\"document\")\n",
        "\n",
        "tokenizer = nlp.Tokenizer() \\\n",
        "    .setInputCols([\"document\"]) \\\n",
        "    .setOutputCol(\"token\")\n",
        "\n",
        "sequenceClassifier = medical.BertForSequenceClassification.pretrained(\"bert_sequence_classifier_health_mentions_bert\", \"de\", \"clinical/models\")\\\n",
        "    .setInputCols([\"document\",\"token\"])\\\n",
        "    .setOutputCol(\"class_\")\n",
        "\n",
        "pipeline = Pipeline(stages=[\n",
        "    document_assembler, \n",
        "    tokenizer,\n",
        "    sequenceClassifier    \n",
        "])\n"
      ],
      "metadata": {
        "colab": {
          "base_uri": "https://localhost:8080/"
        },
        "id": "DUmWqVIzMcd7",
        "outputId": "79932a70-8f8a-476e-988f-e3a0a9c53c01"
      },
      "execution_count": 12,
      "outputs": [
        {
          "output_type": "stream",
          "name": "stdout",
          "text": [
            "bert_sequence_classifier_health_mentions_bert download started this may take some time.\n",
            "[OK!]\n"
          ]
        }
      ]
    },
    {
      "cell_type": "code",
      "source": [
        "files = [i for i in (range(1, len(text_list)+1))]\n",
        "\n",
        "df = spark.createDataFrame(pd.DataFrame({'index' : files,'text': text_list}))"
      ],
      "metadata": {
        "id": "ipB2h6z9Mz7_"
      },
      "execution_count": 4,
      "outputs": []
    },
    {
      "cell_type": "code",
      "source": [
        "result = pipeline.fit(df).transform(df)"
      ],
      "metadata": {
        "id": "pPtOpzKxMiq_"
      },
      "execution_count": 5,
      "outputs": []
    },
    {
      "cell_type": "code",
      "source": [
        "result.select('index',F.explode(F.arrays_zip(result.document.result, \n",
        "                                             result.class_.result)).alias(\"col\"))\\\n",
        "      .select('index',F.expr(\"col['0']\").alias(\"sentence\"),\n",
        "                      F.expr(\"col['1']\").alias(\"prediction\")).show(truncate=100)"
      ],
      "metadata": {
        "colab": {
          "base_uri": "https://localhost:8080/"
        },
        "id": "wesnPHxWMit_",
        "outputId": "471857f4-cee6-44c8-ef1c-840b83c95303"
      },
      "execution_count": 6,
      "outputs": [
        {
          "output_type": "stream",
          "name": "stdout",
          "text": [
            "+-----+----------------------------------------------------------------------------------------------------+--------------+\n",
            "|index|                                                                                            sentence|    prediction|\n",
            "+-----+----------------------------------------------------------------------------------------------------+--------------+\n",
            "|    1|Die Schmerzen im Oberschenkel sind dann aber shcnell besser geworden, vielleicht war es auhc nur ...|health-related|\n",
            "|    2| Der roman handelt von einer mutter die ihre tochter sucht nachdem diese im urlaub verschwunden ist.|    non-health|\n",
            "|    3|Der Orthopäde/ Chirurg bei dem ich zuerst war, wollte nicht operieren- er meinte die Probelmatik ...|health-related|\n",
            "|    4|                                                 Wir waren bei einem Wine Tasting in der Steiermark.|    non-health|\n",
            "|    5|Auch der Betriebsarzt ist zu der Diagnose gekommen und sich weitgehend sicher, dass ich Zuckerpro...|health-related|\n",
            "|    6|Es dürfte dafür aber keine relativ einfache Lösung geben - man muss wohl nur die Lüftung austausc...|    non-health|\n",
            "+-----+----------------------------------------------------------------------------------------------------+--------------+\n",
            "\n"
          ]
        }
      ]
    },
    {
      "cell_type": "markdown",
      "source": [
        "## **bert_sequence_classifier_health_mentions_gbert**"
      ],
      "metadata": {
        "id": "ky-myL_aOQe7"
      }
    },
    {
      "cell_type": "code",
      "source": [
        "sequenceClassifier = medical.BertForSequenceClassification.pretrained(\"bert_sequence_classifier_health_mentions_gbert\", \"de\", \"clinical/models\")\\\n",
        "    .setInputCols([\"document\",\"token\"])\\\n",
        "    .setOutputCol(\"class_\")\n",
        "\n",
        "pipeline = Pipeline(stages=[\n",
        "    document_assembler, \n",
        "    tokenizer,\n",
        "    sequenceClassifier    \n",
        "])"
      ],
      "metadata": {
        "colab": {
          "base_uri": "https://localhost:8080/"
        },
        "id": "3OAGYwL1OTRv",
        "outputId": "8f8f405b-018b-4a90-cc04-cb77447d29d4"
      },
      "execution_count": 7,
      "outputs": [
        {
          "output_type": "stream",
          "name": "stdout",
          "text": [
            "bert_sequence_classifier_health_mentions_gbert download started this may take some time.\n",
            "[OK!]\n"
          ]
        }
      ]
    },
    {
      "cell_type": "code",
      "source": [
        "files = [i for i in (range(1, len(text_list)+1))]\n",
        "\n",
        "df = spark.createDataFrame(pd.DataFrame({'index' : files,'text': text_list}))"
      ],
      "metadata": {
        "id": "hc1aSW41OTaT"
      },
      "execution_count": 8,
      "outputs": []
    },
    {
      "cell_type": "code",
      "source": [
        "result = pipeline.fit(df).transform(df)"
      ],
      "metadata": {
        "id": "E5-_XATbOZqW"
      },
      "execution_count": 9,
      "outputs": []
    },
    {
      "cell_type": "code",
      "source": [
        "result.select('index',F.explode(F.arrays_zip(result.document.result, \n",
        "                                             result.class_.result)).alias(\"col\"))\\\n",
        "      .select('index',F.expr(\"col['0']\").alias(\"sentence\"),\n",
        "                      F.expr(\"col['1']\").alias(\"prediction\")).show(truncate=100)"
      ],
      "metadata": {
        "colab": {
          "base_uri": "https://localhost:8080/"
        },
        "id": "8AnFFbJKObX2",
        "outputId": "5f5d22e2-ff7d-4bd1-e7f7-e126f615aab8"
      },
      "execution_count": 10,
      "outputs": [
        {
          "output_type": "stream",
          "name": "stdout",
          "text": [
            "+-----+----------------------------------------------------------------------------------------------------+--------------+\n",
            "|index|                                                                                            sentence|    prediction|\n",
            "+-----+----------------------------------------------------------------------------------------------------+--------------+\n",
            "|    1|Die Schmerzen im Oberschenkel sind dann aber shcnell besser geworden, vielleicht war es auhc nur ...|health-related|\n",
            "|    2| Der roman handelt von einer mutter die ihre tochter sucht nachdem diese im urlaub verschwunden ist.|    non-health|\n",
            "|    3|Der Orthopäde/ Chirurg bei dem ich zuerst war, wollte nicht operieren- er meinte die Probelmatik ...|health-related|\n",
            "|    4|                                                 Wir waren bei einem Wine Tasting in der Steiermark.|    non-health|\n",
            "|    5|Auch der Betriebsarzt ist zu der Diagnose gekommen und sich weitgehend sicher, dass ich Zuckerpro...|health-related|\n",
            "|    6|Es dürfte dafür aber keine relativ einfache Lösung geben - man muss wohl nur die Lüftung austausc...|    non-health|\n",
            "+-----+----------------------------------------------------------------------------------------------------+--------------+\n",
            "\n"
          ]
        }
      ]
    },
    {
      "cell_type": "markdown",
      "source": [
        "## **bert_sequence_classifier_health_mentions_gbert_large**"
      ],
      "metadata": {
        "id": "jz-uU-1iNB8n"
      }
    },
    {
      "cell_type": "code",
      "source": [
        "sequenceClassifier = medical.BertForSequenceClassification.pretrained(\"bert_sequence_classifier_health_mentions_gbert_large\", \"de\", \"clinical/models\")\\\n",
        "    .setInputCols([\"document\",\"token\"])\\\n",
        "    .setOutputCol(\"class_\")\n",
        "\n",
        "pipeline = Pipeline(stages=[\n",
        "    document_assembler, \n",
        "    tokenizer,\n",
        "    sequenceClassifier    \n",
        "])"
      ],
      "metadata": {
        "colab": {
          "base_uri": "https://localhost:8080/"
        },
        "id": "B7OXJRQyMiwv",
        "outputId": "d31edf25-4536-4710-985a-c6150c992ec1"
      },
      "execution_count": 11,
      "outputs": [
        {
          "output_type": "stream",
          "name": "stdout",
          "text": [
            "bert_sequence_classifier_health_mentions_gbert_large download started this may take some time.\n",
            "[OK!]\n"
          ]
        }
      ]
    },
    {
      "cell_type": "code",
      "source": [
        "files = [i for i in (range(1, len(text_list)+1))]\n",
        "\n",
        "df = spark.createDataFrame(pd.DataFrame({'index' : files,'text': text_list}))"
      ],
      "metadata": {
        "id": "xqhvQzEfNTaU"
      },
      "execution_count": 12,
      "outputs": []
    },
    {
      "cell_type": "code",
      "source": [
        "result = pipeline.fit(df).transform(df)"
      ],
      "metadata": {
        "id": "IX818JqqNTdp"
      },
      "execution_count": 13,
      "outputs": []
    },
    {
      "cell_type": "code",
      "source": [
        "result.select('index',F.explode(F.arrays_zip(result.document.result, \n",
        "                                             result.class_.result)).alias(\"col\"))\\\n",
        "      .select('index',F.expr(\"col['0']\").alias(\"sentence\"),\n",
        "                      F.expr(\"col['1']\").alias(\"prediction\")).show(truncate=100)"
      ],
      "metadata": {
        "colab": {
          "base_uri": "https://localhost:8080/"
        },
        "id": "MW2wJOfZNTgy",
        "outputId": "30f360da-d8e1-47bc-d3f2-348bff5be785"
      },
      "execution_count": 14,
      "outputs": [
        {
          "output_type": "stream",
          "name": "stdout",
          "text": [
            "+-----+----------------------------------------------------------------------------------------------------+--------------+\n",
            "|index|                                                                                            sentence|    prediction|\n",
            "+-----+----------------------------------------------------------------------------------------------------+--------------+\n",
            "|    1|Die Schmerzen im Oberschenkel sind dann aber shcnell besser geworden, vielleicht war es auhc nur ...|health-related|\n",
            "|    2| Der roman handelt von einer mutter die ihre tochter sucht nachdem diese im urlaub verschwunden ist.|    non-health|\n",
            "|    3|Der Orthopäde/ Chirurg bei dem ich zuerst war, wollte nicht operieren- er meinte die Probelmatik ...|health-related|\n",
            "|    4|                                                 Wir waren bei einem Wine Tasting in der Steiermark.|    non-health|\n",
            "|    5|Auch der Betriebsarzt ist zu der Diagnose gekommen und sich weitgehend sicher, dass ich Zuckerpro...|health-related|\n",
            "|    6|Es dürfte dafür aber keine relativ einfache Lösung geben - man muss wohl nur die Lüftung austausc...|    non-health|\n",
            "+-----+----------------------------------------------------------------------------------------------------+--------------+\n",
            "\n"
          ]
        }
      ]
    },
    {
      "cell_type": "markdown",
      "source": [
        "## **bert_sequence_classifier_health_mentions_medbert**"
      ],
      "metadata": {
        "id": "ZkUwpuzvNciW"
      }
    },
    {
      "cell_type": "code",
      "source": [
        "sequenceClassifier = medical.BertForSequenceClassification.pretrained(\"bert_sequence_classifier_health_mentions_medbert\", \"de\", \"clinical/models\")\\\n",
        "    .setInputCols([\"document\",\"token\"])\\\n",
        "    .setOutputCol(\"class_\")\n",
        "\n",
        "pipeline = Pipeline(stages=[\n",
        "    document_assembler, \n",
        "    tokenizer,\n",
        "    sequenceClassifier    \n",
        "])"
      ],
      "metadata": {
        "colab": {
          "base_uri": "https://localhost:8080/"
        },
        "id": "6dCJBYC2NTjp",
        "outputId": "ea3d293b-1fde-47f8-dd19-db696eb85561"
      },
      "execution_count": 13,
      "outputs": [
        {
          "output_type": "stream",
          "name": "stdout",
          "text": [
            "bert_sequence_classifier_health_mentions_medbert download started this may take some time.\n",
            "[OK!]\n"
          ]
        }
      ]
    },
    {
      "cell_type": "code",
      "source": [
        "files = [i for i in (range(1, len(text_list)+1))]\n",
        "\n",
        "df = spark.createDataFrame(pd.DataFrame({'index' : files,'text': text_list}))"
      ],
      "metadata": {
        "id": "UyCHkT1bN1Y6"
      },
      "execution_count": 14,
      "outputs": []
    },
    {
      "cell_type": "code",
      "source": [
        "result = pipeline.fit(df).transform(df)"
      ],
      "metadata": {
        "id": "zNDtLVlFN1cb"
      },
      "execution_count": 15,
      "outputs": []
    },
    {
      "cell_type": "code",
      "source": [
        "result.select('index',F.explode(F.arrays_zip(result.document.result, \n",
        "                                             result.class_.result)).alias(\"col\"))\\\n",
        "      .select('index',F.expr(\"col['0']\").alias(\"sentence\"),\n",
        "                      F.expr(\"col['1']\").alias(\"prediction\")).show(truncate=100)"
      ],
      "metadata": {
        "colab": {
          "base_uri": "https://localhost:8080/"
        },
        "id": "HH0iAK5nN1fU",
        "outputId": "617d9347-834e-44a4-ce64-6a47ca812030"
      },
      "execution_count": 16,
      "outputs": [
        {
          "output_type": "stream",
          "name": "stdout",
          "text": [
            "+-----+----------------------------------------------------------------------------------------------------+--------------+\n",
            "|index|                                                                                            sentence|    prediction|\n",
            "+-----+----------------------------------------------------------------------------------------------------+--------------+\n",
            "|    1|Die Schmerzen im Oberschenkel sind dann aber shcnell besser geworden, vielleicht war es auhc nur ...|health-related|\n",
            "|    2| Der roman handelt von einer mutter die ihre tochter sucht nachdem diese im urlaub verschwunden ist.|    non-health|\n",
            "|    3|Der Orthopäde/ Chirurg bei dem ich zuerst war, wollte nicht operieren- er meinte die Probelmatik ...|health-related|\n",
            "|    4|                                                 Wir waren bei einem Wine Tasting in der Steiermark.|    non-health|\n",
            "|    5|Auch der Betriebsarzt ist zu der Diagnose gekommen und sich weitgehend sicher, dass ich Zuckerpro...|health-related|\n",
            "|    6|Es dürfte dafür aber keine relativ einfache Lösung geben - man muss wohl nur die Lüftung austausc...|    non-health|\n",
            "+-----+----------------------------------------------------------------------------------------------------+--------------+\n",
            "\n"
          ]
        }
      ]
    }
  ]
}
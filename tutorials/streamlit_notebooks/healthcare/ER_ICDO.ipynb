{
  "nbformat": 4,
  "nbformat_minor": 0,
  "metadata": {
    "colab": {
      "name": "ER_ICDO.ipynb",
      "provenance": [],
      "collapsed_sections": [],
      "toc_visible": true
    },
    "kernelspec": {
      "name": "python3",
      "display_name": "Python 3"
    }
  },
  "cells": [
    {
      "cell_type": "markdown",
      "metadata": {
        "id": "TA21Jo5d9SVq"
      },
      "source": [
        "\n",
        "\n",
        "![JohnSnowLabs](https://nlp.johnsnowlabs.com/assets/images/logo.png)\n",
        "\n",
        "[![Open In Colab](https://colab.research.google.com/assets/colab-badge.svg)](https://colab.research.google.com/github/JohnSnowLabs/spark-nlp-workshop/blob/master/tutorials/streamlit_notebooks/healthcare/ER_ICDO.ipynb)\n",
        "\n",
        "\n"
      ]
    },
    {
      "cell_type": "markdown",
      "metadata": {
        "id": "CzIdjHkAW8TB"
      },
      "source": [
        "# **ICDO coding**"
      ]
    },
    {
      "cell_type": "markdown",
      "metadata": {
        "id": "6uDmeHEFW7_h"
      },
      "source": [
        "To run this yourself, you will need to upload your license keys to the notebook. Just Run The Cell Below in order to do that. Also You can open the file explorer on the left side of the screen and upload `license_keys.json` to the folder that opens.\n",
        "Otherwise, you can look at the example outputs at the bottom of the notebook.\n",
        "\n"
      ]
    },
    {
      "cell_type": "markdown",
      "metadata": {
        "id": "wIeCOiJNW-88"
      },
      "source": [
        "## 1. Colab Setup"
      ]
    },
    {
      "cell_type": "markdown",
      "metadata": {
        "id": "HMIDv74CYN0d"
      },
      "source": [
        "Import license keys"
      ]
    },
    {
      "cell_type": "code",
      "metadata": {
        "id": "ttHPIV2JXbIM",
        "colab": {
          "resources": {
            "http://localhost:8080/nbextensions/google.colab/files.js": {
              "data": "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",
              "ok": true,
              "headers": [
                [
                  "content-type",
                  "application/javascript"
                ]
              ],
              "status": 200,
              "status_text": "OK"
            }
          },
          "base_uri": "https://localhost:8080/",
          "height": 113
        },
        "outputId": "a8dfaf51-f98d-4578-e986-7b7eff8e655f"
      },
      "source": [
        "import os\n",
        "import json\n",
        "\n",
        "from google.colab import files\n",
        "\n",
        "license_keys = files.upload()\n",
        "\n",
        "with open(list(license_keys.keys())[0]) as f:\n",
        "    license_keys = json.load(f)\n",
        "\n",
        "sparknlp_version = license_keys[\"PUBLIC_VERSION\"]\n",
        "jsl_version = license_keys[\"JSL_VERSION\"]\n",
        "\n",
        "print ('SparkNLP Version:', sparknlp_version)\n",
        "print ('SparkNLP-JSL Version:', jsl_version)"
      ],
      "execution_count": 1,
      "outputs": [
        {
          "output_type": "display_data",
          "data": {
            "text/html": [
              "\n",
              "     <input type=\"file\" id=\"files-d2700ef0-e584-473b-ae4e-34d5a527ff54\" name=\"files[]\" multiple disabled\n",
              "        style=\"border:none\" />\n",
              "     <output id=\"result-d2700ef0-e584-473b-ae4e-34d5a527ff54\">\n",
              "      Upload widget is only available when the cell has been executed in the\n",
              "      current browser session. Please rerun this cell to enable.\n",
              "      </output>\n",
              "      <script src=\"/nbextensions/google.colab/files.js\"></script> "
            ],
            "text/plain": [
              "<IPython.core.display.HTML object>"
            ]
          },
          "metadata": {
            "tags": []
          }
        },
        {
          "output_type": "stream",
          "text": [
            "Saving v3_spark_nlp_for_healthcare.json to v3_spark_nlp_for_healthcare.json\n",
            "SparkNLP Version: 3.0.1\n",
            "SparkNLP-JSL Version: 3.0.0\n"
          ],
          "name": "stdout"
        }
      ]
    },
    {
      "cell_type": "markdown",
      "metadata": {
        "id": "rQtc1CHaYQjU"
      },
      "source": [
        "Install dependencies"
      ]
    },
    {
      "cell_type": "code",
      "metadata": {
        "id": "CGJktFHdHL1n"
      },
      "source": [
        "%%capture\n",
        "for k,v in license_keys.items(): \n",
        "    %set_env $k=$v\n",
        "\n",
        "!wget https://raw.githubusercontent.com/JohnSnowLabs/spark-nlp-workshop/master/jsl_colab_setup.sh\n",
        "!bash jsl_colab_setup.sh"
      ],
      "execution_count": 2,
      "outputs": []
    },
    {
      "cell_type": "markdown",
      "metadata": {
        "id": "Hj5FRDV4YSXN"
      },
      "source": [
        "Import dependencies into Python"
      ]
    },
    {
      "cell_type": "code",
      "metadata": {
        "id": "qUWyj8c6JSPP"
      },
      "source": [
        "import pandas as pd\n",
        "from pyspark.ml import Pipeline\n",
        "from pyspark.sql import SparkSession\n",
        "import pyspark.sql.functions as F\n",
        "\n",
        "import sparknlp\n",
        "from sparknlp.annotator import *\n",
        "from sparknlp_jsl.annotator import *\n",
        "from sparknlp.base import *\n",
        "import sparknlp_jsl\n"
      ],
      "execution_count": 3,
      "outputs": []
    },
    {
      "cell_type": "markdown",
      "metadata": {
        "id": "ed6Htm7qDQB3"
      },
      "source": [
        "Start the Spark session"
      ]
    },
    {
      "cell_type": "code",
      "metadata": {
        "id": "eaSM8-xhDRa4"
      },
      "source": [
        "spark = sparknlp_jsl.start(license_keys['SECRET'])\n",
        "\n",
        "# manually start session\n",
        "# params = {\"spark.driver.memory\" : \"16G\",\n",
        "#           \"spark.kryoserializer.buffer.max\" : \"2000M\",\n",
        "#           \"spark.driver.maxResultSize\" : \"2000M\"}\n",
        "\n",
        "# spark = sparknlp_jsl.start(license_keys['SECRET'],params=params)"
      ],
      "execution_count": 4,
      "outputs": []
    },
    {
      "cell_type": "markdown",
      "metadata": {
        "id": "9RgiqfX5XDqb"
      },
      "source": [
        "## 2. Select the Entity Resolver model and construct the pipeline"
      ]
    },
    {
      "cell_type": "markdown",
      "metadata": {
        "id": "AVKr8C2SrkZQ"
      },
      "source": [
        "Select the models:\n",
        "\n",
        "**ICDO Entity Resolver models:**\n",
        "\n",
        "1.   **chunkresolve_icdo_clinical**\n",
        "\n",
        "**NER models that support neoplasms:**\n",
        "1.   **ner_bionlp**\n",
        "\n",
        "For more details: https://github.com/JohnSnowLabs/spark-nlp-models#pretrained-models---spark-nlp-for-healthcare"
      ]
    },
    {
      "cell_type": "code",
      "metadata": {
        "id": "cK9xxkkfrsLc"
      },
      "source": [
        "# Change this to the model you want to use and re-run the cells below.\n",
        "ER_MODEL_NAME = \"chunkresolve_icdo_clinical\"\n",
        "NER_MODEL_NAME = \"ner_bionlp\""
      ],
      "execution_count": 5,
      "outputs": []
    },
    {
      "cell_type": "markdown",
      "metadata": {
        "id": "zweiG2ilZqoR"
      },
      "source": [
        "Create the pipeline"
      ]
    },
    {
      "cell_type": "code",
      "metadata": {
        "id": "LLuDz_t40be4",
        "colab": {
          "base_uri": "https://localhost:8080/"
        },
        "outputId": "dde48d72-e9ec-4dec-a67e-8c8059b840f5"
      },
      "source": [
        "document_assembler = DocumentAssembler() \\\n",
        "    .setInputCol('text')\\\n",
        "    .setOutputCol('document')\n",
        "\n",
        "sentence_detector = SentenceDetector() \\\n",
        "    .setInputCols(['document'])\\\n",
        "    .setOutputCol('sentences')\n",
        "\n",
        "tokenizer = Tokenizer()\\\n",
        "    .setInputCols(['sentences']) \\\n",
        "    .setOutputCol('tokens')\n",
        "\n",
        "embeddings = WordEmbeddingsModel.pretrained('embeddings_clinical', 'en', 'clinical/models')\\\n",
        "    .setInputCols([\"sentences\", \"tokens\"])\\\n",
        "    .setOutputCol(\"embeddings\")\n",
        "\n",
        "clinical_ner_model = MedicalNerModel.pretrained(NER_MODEL_NAME, \"en\", \"clinical/models\") \\\n",
        "    .setInputCols([\"sentences\", \"tokens\", \"embeddings\"])\\\n",
        "    .setOutputCol(\"clinical_ner_tags\")\n",
        "\n",
        "# using whitelist to filter out entities\n",
        "clinical_ner_chunker = NerConverter()\\\n",
        "    .setInputCols([\"sentences\", \"tokens\", \"clinical_ner_tags\"])\\\n",
        "    .setOutputCol(\"ner_chunk\").setWhiteList(['Cancer'])\n",
        "\n",
        "chunk_embeddings = ChunkEmbeddings()\\\n",
        "    .setInputCols(\"ner_chunk\", \"embeddings\")\\\n",
        "    .setOutputCol(\"chunk_embeddings\")\n",
        "\n",
        "entity_resolver = \\\n",
        "    ChunkEntityResolverModel.pretrained(ER_MODEL_NAME,\"en\",\"clinical/models\")\\\n",
        "    .setInputCols(\"tokens\",\"chunk_embeddings\").setOutputCol(\"resolution\")\n",
        "\n",
        "pipeline = Pipeline(stages=[\n",
        "    document_assembler, \n",
        "    sentence_detector,\n",
        "    tokenizer,\n",
        "    embeddings,\n",
        "    clinical_ner_model,\n",
        "    clinical_ner_chunker,\n",
        "    chunk_embeddings,\n",
        "    entity_resolver])\n",
        "\n",
        "empty_df = spark.createDataFrame([['']]).toDF(\"text\")\n",
        "pipeline_model = pipeline.fit(empty_df)\n",
        "light_pipeline = LightPipeline(pipeline_model)"
      ],
      "execution_count": 6,
      "outputs": [
        {
          "output_type": "stream",
          "text": [
            "embeddings_clinical download started this may take some time.\n",
            "Approximate size to download 1.6 GB\n",
            "[OK!]\n",
            "ner_bionlp download started this may take some time.\n",
            "Approximate size to download 13.9 MB\n",
            "[OK!]\n",
            "chunkresolve_icdo_clinical download started this may take some time.\n",
            "Approximate size to download 8.2 MB\n",
            "[OK!]\n"
          ],
          "name": "stdout"
        }
      ]
    },
    {
      "cell_type": "markdown",
      "metadata": {
        "id": "2Y9GpdJhXIpD"
      },
      "source": [
        "## 3. Create example inputs"
      ]
    },
    {
      "cell_type": "code",
      "metadata": {
        "id": "vBOKkB2THdGI"
      },
      "source": [
        "# Enter examples as strings in this array\n",
        "input_list = [\n",
        "\"\"\"DIAGNOSIS: Left breast adenocarcinoma stage T3 N1b M0, stage IIIA.\n",
        "She has been found more recently to have stage IV disease with metastatic deposits and recurrence involving the chest wall and lower left neck lymph nodes.\n",
        "PHYSICAL EXAMINATION\n",
        "NECK: On physical examination palpable lymphadenopathy is present in the left lower neck and supraclavicular area. No other cervical lymphadenopathy or supraclavicular lymphadenopathy is present.\n",
        "RESPIRATORY: Good air entry bilaterally. Examination of the chest wall reveals a small lesion where the chest wall recurrence was resected. No lumps, bumps or evidence of disease involving the right breast is present.\n",
        "ABDOMEN: Normal bowel sounds, no hepatomegaly. No tenderness on deep palpation. She has just started her last cycle of chemotherapy today, and she wishes to visit her daughter in Brooklyn, New York. After this she will return in approximately 3 to 4 weeks and begin her radiotherapy treatment at that time.\"\"\",\n",
        "    ]"
      ],
      "execution_count": 7,
      "outputs": []
    },
    {
      "cell_type": "markdown",
      "metadata": {
        "id": "1gmrjqHSGcJx"
      },
      "source": [
        "# 4. Run the pipeline"
      ]
    },
    {
      "cell_type": "code",
      "metadata": {
        "id": "xdhgKutMHUoC"
      },
      "source": [
        "df = spark.createDataFrame(pd.DataFrame({\"text\": input_list}))\n",
        "result = pipeline_model.transform(df)\n",
        "light_result = light_pipeline.fullAnnotate(input_list[0])"
      ],
      "execution_count": 8,
      "outputs": []
    },
    {
      "cell_type": "markdown",
      "metadata": {
        "id": "UIVShVLhI68M"
      },
      "source": [
        "# 5. Visualize"
      ]
    },
    {
      "cell_type": "markdown",
      "metadata": {
        "id": "472iBPpK-FvF"
      },
      "source": [
        "Full Pipeline"
      ]
    },
    {
      "cell_type": "code",
      "metadata": {
        "id": "Qdh2BQaLI7tU",
        "colab": {
          "base_uri": "https://localhost:8080/"
        },
        "outputId": "ca9319c9-8158-4709-a985-672713d4424b"
      },
      "source": [
        "result.select(\n",
        "    F.explode(\n",
        "        F.arrays_zip('ner_chunk.result', \n",
        "                     'ner_chunk.begin',\n",
        "                     'ner_chunk.end',\n",
        "                     'ner_chunk.metadata',\n",
        "                     'resolution.metadata', 'resolution.result')\n",
        "    ).alias('cols')\n",
        ").select(\n",
        "    F.expr(\"cols['0']\").alias('chunk'),\n",
        "    F.expr(\"cols['1']\").alias('begin'),\n",
        "    F.expr(\"cols['2']\").alias('end'),\n",
        "    F.expr(\"cols['3']['entity']\").alias('entity'),\n",
        "    F.expr(\"cols['4']['resolved_text']\").alias('idco_description'),\n",
        "    F.expr(\"cols['5']\").alias('icdo_code'),\n",
        ").show(truncate=False)"
      ],
      "execution_count": 9,
      "outputs": [
        {
          "output_type": "stream",
          "text": [
            "+--------------------------+-----+---+------+-------------------------------------------+---------+\n",
            "|chunk                     |begin|end|entity|idco_description                           |icdo_code|\n",
            "+--------------------------+-----+---+------+-------------------------------------------+---------+\n",
            "|Left breast adenocarcinoma|11   |36 |Cancer|Intraductal carcinoma, noninfiltrating, NOS|8500/2   |\n",
            "|T3 N1b M0                 |44   |52 |Cancer|Kaposi sarcoma                             |9140/3   |\n",
            "+--------------------------+-----+---+------+-------------------------------------------+---------+\n",
            "\n"
          ],
          "name": "stdout"
        }
      ]
    },
    {
      "cell_type": "markdown",
      "metadata": {
        "id": "1w6-BQ0MFL9Y"
      },
      "source": [
        "Light Pipeline"
      ]
    },
    {
      "cell_type": "code",
      "metadata": {
        "id": "LSukuO5eE1cZ",
        "colab": {
          "base_uri": "https://localhost:8080/"
        },
        "outputId": "79a8c16d-5397-4d6c-8298-1f6057100439"
      },
      "source": [
        "light_result[0]['resolution']"
      ],
      "execution_count": 10,
      "outputs": [
        {
          "output_type": "execute_result",
          "data": {
            "text/plain": [
              "[Annotation(entity, 11, 36, 8500/2, {'chunk': '0', 'all_k_results': '8500/2:::8520/3:::8520/2:::8470/2:::8200/3:::8312/3:::8420/3:::8140/3:::8190/3:::8522/3:::8318/3:::8290/3:::8470/3:::8250/2:::8140/2:::9110/3:::8260/3:::8571/3:::8317/3:::8220/3:::8144/3:::8252/3:::8251/3:::8210/3:::8253/2', 'all_k_distances': '0.8382:::1.1008:::1.1222:::1.1223:::1.1351:::1.1533:::1.2024:::1.2106:::1.2129:::1.2205:::1.2537:::1.2595:::1.2679:::1.2887:::1.2887:::1.2995:::1.3195:::1.3262:::1.3327:::1.3340:::1.3490:::1.3564:::1.3564:::1.3617:::1.3650', 'confidence': '0.0595', 'all_k_cosine_distances': '0.1997:::0.2287:::0.2297:::0.1907:::0.2311:::0.2119:::0.2368:::0.2917:::0.2647:::0.2271:::0.2269:::0.2722:::0.2636:::0.2791:::0.2791:::0.2520:::0.2584:::0.2947:::0.2546:::0.2499:::0.2993:::0.2558:::0.2558:::0.2705:::0.2544', 'all_k_resolutions': 'Intraductal carcinoma, noninfiltrating, NOS:::Lobular carcinoma, NOS:::Lobular carcinoma in situ:::Mucinous cystadenocarcinoma, non-invasive:::Adenoid cystic carcinoma:::Renal cell carcinoma:::Ceruminous adenocarcinoma:::Adenocarcinoma, NOS:::Trabecular adenocarcinoma:::Infiltrating duct and lobular carcinoma:::Renal cell carcinoma, sarcomatoid:::Oxyphilic adenocarcinoma:::Mucinous cystadenocarcinoma, NOS:::Adenocarcinoma in situ, non-mucinous:::Adenocarcinoma in situ:::Mesonephroma, malignant:::Papillary adenocarcinoma, NOS:::Adenocarcinoma w cartilag. & oss. metaplas.:::Renal cell carcinoma, chromophobe type:::Adenocarcinoma in adenoma. polyposis coli:::Adenocarcinoma, intestinal type:::Bronchiolo-alveolar carcinoma, non-mucinous:::Alveolar adenocarcinoma:::Adenocarcinoma in adenomatous polyp:::Adenocarcinoma in situ, mucinous', 'target_text': 'Left breast adenocarcinoma', 'all_k_aux_labels': '', 'token': 'Left breast adenocarcinoma', 'resolved_text': 'Intraductal carcinoma, noninfiltrating, NOS', 'all_k_confidences': '0.0595:::0.0458:::0.0448:::0.0448:::0.0442:::0.0434:::0.0414:::0.0410:::0.0409:::0.0406:::0.0393:::0.0391:::0.0387:::0.0379:::0.0379:::0.0375:::0.0368:::0.0365:::0.0363:::0.0363:::0.0357:::0.0355:::0.0355:::0.0353:::0.0352', 'distance': '0.8382', 'sentence': '0'}),\n",
              " Annotation(entity, 44, 52, 9140/3, {'chunk': '1', 'all_k_results': '9140/3:::8141/3:::9591/3:::8000/0:::8000/3:::9533/0:::9490/0:::9492/0:::8832/3:::9831/3:::8972/3:::9522/3:::9523/3:::8162/3:::9540/3:::9170/3:::9082/3:::9071/3:::8541/3:::8571/3:::9698/3:::9691/3:::8931/3:::9590/3:::9871/3', 'all_k_distances': '1.5755:::1.5832:::1.5888:::1.5955:::1.5968:::1.6036:::1.6183:::1.6183:::1.6387:::1.6700:::1.6757:::1.6782:::1.6782:::1.6821:::1.7119:::1.7214:::1.7354:::1.7375:::1.7515:::1.7758:::1.7910:::1.7919:::1.7952:::1.7954:::1.8021', 'confidence': '0.0447', 'all_k_cosine_distances': '0.4773:::0.4862:::0.4300:::0.4519:::0.4637:::0.4837:::0.4878:::0.4878:::0.4921:::0.4840:::0.4937:::0.4997:::0.4997:::0.4537:::0.5036:::0.4738:::0.3958:::0.5163:::0.4917:::0.4335:::0.4542:::0.4488:::0.4646:::0.4586:::0.4937', 'all_k_resolutions': 'Kaposi sarcoma:::Scirrhous adenocarcinoma:::Malignant lymphoma, non-Hodgkin:::Neoplasm, benign:::Neoplasm, malignant:::Psammomatous meningioma:::Ganglioneuroma:::Gangliocytoma:::Dermatofibrosarcoma, NOS:::T-cell large granular lymphocytic leukemia:::Pulmonary blastoma:::Olfactory neuroblastoma:::Olfactory neuroepithelioma:::Klatskin tumor:::Malignant peripheral nerve sheath tumor:::Lymphangiosarcoma:::Malignant teratoma, undiff.:::Yolk sac tumor:::Paget dis. & infil. duct carcinoma:::Adenocarcinoma w cartilag. & oss. metaplas.:::Follicular lymphoma, grade 3:::Follicular lymphoma, grade 2:::Endometrial stromal sarcoma, low grade:::Malignant lymphoma, NOS:::Ac. myelomonocytic leuk. w abn. mar. eosinophils', 'target_text': 'T3 N1b M0', 'all_k_aux_labels': '', 'token': 'T3 N1b M0', 'resolved_text': 'Kaposi sarcoma', 'all_k_confidences': '0.0447:::0.0443:::0.0441:::0.0438:::0.0437:::0.0434:::0.0428:::0.0428:::0.0419:::0.0406:::0.0404:::0.0403:::0.0403:::0.0401:::0.0390:::0.0386:::0.0381:::0.0380:::0.0374:::0.0365:::0.0360:::0.0360:::0.0358:::0.0358:::0.0356', 'distance': '1.5755', 'sentence': '0'})]"
            ]
          },
          "metadata": {
            "tags": []
          },
          "execution_count": 10
        }
      ]
    }
  ]
}
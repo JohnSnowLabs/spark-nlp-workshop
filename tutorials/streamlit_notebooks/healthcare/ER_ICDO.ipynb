{
  "nbformat": 4,
  "nbformat_minor": 0,
  "metadata": {
    "colab": {
      "name": "ER_ICDO.ipynb",
      "provenance": [],
      "collapsed_sections": [],
      "toc_visible": true
    },
    "kernelspec": {
      "name": "python3",
      "display_name": "Python 3"
    },
    "language_info": {
      "name": "python"
    }
  },
  "cells": [
    {
      "cell_type": "markdown",
      "source": [
        "![JohnSnowLabs](https://nlp.johnsnowlabs.com/assets/images/logo.png)\n",
        "\n",
        "[![Open In Colab](https://colab.research.google.com/assets/colab-badge.svg)](https://colab.research.google.com/github/JohnSnowLabs/spark-nlp-workshop/blob/master/tutorials/streamlit_notebooks/healthcare/ER_ICDO.ipynb)"
      ],
      "metadata": {
        "id": "DkewGjPcOx6I"
      }
    },
    {
      "cell_type": "markdown",
      "source": [
        "## **Resolve Oncology terminology using the ICD-O taxonomy**"
      ],
      "metadata": {
        "id": "IS3_j-0iQdBV"
      }
    },
    {
      "cell_type": "markdown",
      "source": [
        "To run this yourself, you will need to upload your license keys to the notebook. Just Run The Cell Below in order to do that. Also You can open the file explorer on the left side of the screen and upload license_keys.json to the folder that opens. Otherwise, you can look at the example outputs at the bottom of the notebook."
      ],
      "metadata": {
        "id": "KDkzvQZ_Qamk"
      }
    },
    {
      "cell_type": "markdown",
      "source": [
        "## **Colab Setup**"
      ],
      "metadata": {
        "id": "J4B-wEgRbtvE"
      }
    },
    {
      "cell_type": "code",
      "source": [
        "import json\n",
        "import os\n",
        "\n",
        "from google.colab import files\n",
        "\n",
        "license_keys = files.upload()\n",
        "\n",
        "with open(list(license_keys.keys())[0]) as f:\n",
        "    license_keys = json.load(f)\n",
        "\n",
        "# Defining license key-value pairs as local variables\n",
        "locals().update(license_keys)\n",
        "\n",
        "# Adding license key-value pairs to environment variables\n",
        "os.environ.update(license_keys)"
      ],
      "metadata": {
        "id": "rx48KRRHQb1t"
      },
      "execution_count": null,
      "outputs": []
    },
    {
      "cell_type": "markdown",
      "source": [
        "## **Install dependencies**"
      ],
      "metadata": {
        "id": "GFIaJwf3b49x"
      }
    },
    {
      "cell_type": "code",
      "source": [
        "# Installing pyspark and spark-nlp\n",
        "! pip install --upgrade -q pyspark==3.1.2 spark-nlp==$PUBLIC_VERSION\n",
        "\n",
        "# Installing Spark NLP Healthcare\n",
        "! pip install --upgrade -q spark-nlp-jsl==$JSL_VERSION  --extra-index-url https://pypi.johnsnowlabs.com/$SECRET\n",
        "\n",
        "# Installing Spark NLP Display Library for visualization\n",
        "! pip install -q spark-nlp-display"
      ],
      "metadata": {
        "id": "M4-mJYqjb-eb"
      },
      "execution_count": null,
      "outputs": []
    },
    {
      "cell_type": "markdown",
      "source": [
        "## **Import dependencies into Python and start the Spark session**"
      ],
      "metadata": {
        "id": "7gKSyPtUcHHW"
      }
    },
    {
      "cell_type": "code",
      "source": [
        "import json\n",
        "import os\n",
        "\n",
        "from pyspark.ml import Pipeline, PipelineModel\n",
        "from pyspark.sql import SparkSession\n",
        "\n",
        "import sparknlp\n",
        "import sparknlp_jsl\n",
        "\n",
        "from sparknlp.annotator import *\n",
        "from sparknlp_jsl.annotator import *\n",
        "from sparknlp.base import *\n",
        "from sparknlp.util import *\n",
        "from sparknlp.pretrained import ResourceDownloader\n",
        "from pyspark.sql import functions as F\n",
        "\n",
        "from sparknlp_display import EntityResolverVisualizer\n",
        "\n",
        "import pandas as pd\n",
        "\n",
        "pd.set_option('display.max_columns', None)  \n",
        "pd.set_option('display.expand_frame_repr', False)\n",
        "pd.set_option('max_colwidth', None)\n",
        "\n",
        "import string\n",
        "import numpy as np\n",
        "\n",
        "params = {\"spark.driver.memory\":\"16G\",\n",
        "          \"spark.kryoserializer.buffer.max\":\"2000M\",\n",
        "          \"spark.driver.maxResultSize\":\"2000M\"}\n",
        "\n",
        "spark = sparknlp_jsl.start(secret = SECRET, params=params)\n",
        "\n",
        "print (\"Spark NLP Version :\", sparknlp.version())\n",
        "print (\"Spark NLP_JSL Version :\", sparknlp_jsl.version())\n",
        "\n",
        "spark"
      ],
      "metadata": {
        "colab": {
          "base_uri": "https://localhost:8080/",
          "height": 244
        },
        "id": "SjV0OjIrcAAH",
        "outputId": "411b612c-643d-4ac7-d1f2-cc19a3f41f28"
      },
      "execution_count": 3,
      "outputs": [
        {
          "output_type": "stream",
          "name": "stdout",
          "text": [
            "Spark NLP Version : 3.4.4\n",
            "Spark NLP_JSL Version : 3.5.2\n"
          ]
        },
        {
          "output_type": "execute_result",
          "data": {
            "text/plain": [
              "<pyspark.sql.session.SparkSession at 0x7fcbedf62d90>"
            ],
            "text/html": [
              "\n",
              "            <div>\n",
              "                <p><b>SparkSession - in-memory</b></p>\n",
              "                \n",
              "        <div>\n",
              "            <p><b>SparkContext</b></p>\n",
              "\n",
              "            <p><a href=\"http://b86e83477b5f:4040\">Spark UI</a></p>\n",
              "\n",
              "            <dl>\n",
              "              <dt>Version</dt>\n",
              "                <dd><code>v3.1.2</code></dd>\n",
              "              <dt>Master</dt>\n",
              "                <dd><code>local[*]</code></dd>\n",
              "              <dt>AppName</dt>\n",
              "                <dd><code>Spark NLP Licensed</code></dd>\n",
              "            </dl>\n",
              "        </div>\n",
              "        \n",
              "            </div>\n",
              "        "
            ]
          },
          "metadata": {},
          "execution_count": 3
        }
      ]
    },
    {
      "cell_type": "markdown",
      "source": [
        "### **🔎 For about models**"
      ],
      "metadata": {
        "id": "n4aVRb9ucNv_"
      }
    },
    {
      "cell_type": "markdown",
      "source": [
        "📌 **sbiobertresolve_icdo_augmented**--> *This model maps extracted clinical entities to ICD-O codes using sbiobert_base_cased_mli Sentence BERT Embeddings. Given an oncological entity found in the text (via NER models like ner_jsl), it returns top terms and resolutions along with the corresponding ICD-O codes to present more granularity with respect to body parts mentioned. It also returns the original Topography and Histology codes, and their descriptions.*\n",
        "\n",
        "\n",
        "\n",
        "\n"
      ],
      "metadata": {
        "id": "pB2qHxOlcRo-"
      }
    },
    {
      "cell_type": "markdown",
      "source": [
        "### **🔎 Helper Function**\n"
      ],
      "metadata": {
        "id": "nw0ehGNmfDYe"
      }
    },
    {
      "cell_type": "code",
      "source": [
        "# returns spark df resolution results\n",
        "\n",
        "def get_codes_from_df(result_df, chunk, output_col, hcc= False):\n",
        "    \n",
        "    \n",
        "    if hcc:\n",
        "        \n",
        "        df = result_df.select(F.explode(F.arrays_zip(chunk+'.result', \n",
        "                                                           chunk+'.metadata', \n",
        "                                                           output_col+'.result', \n",
        "                                                           output_col+'.metadata')).alias(\"cols\")) \\\n",
        "                                     .select(F.expr(\"cols['1']['sentence']\").alias(\"sent_id\"),\n",
        "                                             F.expr(\"cols['0']\").alias(\"ner_chunk\"),\n",
        "                                             F.expr(\"cols['1']['entity']\").alias(\"entity\"), \n",
        "                                             F.expr(\"cols['2']\").alias(\"icd10_code\"),\n",
        "                                             F.expr(\"cols['3']['all_k_results']\").alias(\"all_codes\"),\n",
        "                                             F.expr(\"cols['3']['all_k_resolutions']\").alias(\"resolutions\"),\n",
        "                                             F.expr(\"cols['3']['all_k_aux_labels']\").alias(\"hcc_list\")).toPandas()\n",
        "\n",
        "\n",
        "\n",
        "        codes = []\n",
        "        resolutions = []\n",
        "        hcc_all = []\n",
        "\n",
        "        for code, resolution, hcc in zip(df['all_codes'], df['resolutions'], df['hcc_list']):\n",
        "\n",
        "            codes.append(code.split(':::'))\n",
        "            resolutions.append(resolution.split(':::'))\n",
        "            hcc_all.append(hcc.split(\":::\"))\n",
        "\n",
        "        df['all_codes'] = codes  \n",
        "        df['resolutions'] = resolutions\n",
        "        df['hcc_list'] = hcc_all\n",
        "        \n",
        "    else:\n",
        "                       \n",
        "        df = result_df.select(F.explode(F.arrays_zip(chunk+'.result', \n",
        "                                                           chunk+'.metadata', \n",
        "                                                           output_col+'.result', \n",
        "                                                           output_col+'.metadata')).alias(\"cols\")) \\\n",
        "                                     .select(F.expr(\"cols['1']['sentence']\").alias(\"sent_id\"),\n",
        "                                             F.expr(\"cols['0']\").alias(\"ner_chunk\"),\n",
        "                                             F.expr(\"cols['1']['entity']\").alias(\"entity\"), \n",
        "                                             F.expr(\"cols['2']\").alias(f\"{output_col}\"),\n",
        "                                             F.expr(\"cols['3']['all_k_results']\").alias(\"all_codes\"),\n",
        "                                             F.expr(\"cols['3']['all_k_resolutions']\").alias(\"resolutions\")).toPandas()\n",
        "\n",
        "\n",
        "\n",
        "        codes = []\n",
        "        resolutions = []\n",
        "\n",
        "        for code, resolution in zip(df['all_codes'], df['resolutions']):\n",
        "\n",
        "            codes.append(code.split(':::'))\n",
        "            resolutions.append(resolution.split(':::'))\n",
        "\n",
        "        df['all_codes'] = codes  \n",
        "        df['resolutions'] = resolutions\n",
        "        \n",
        "    \n",
        "    return df"
      ],
      "metadata": {
        "id": "F2Rx6WmtqsPH"
      },
      "execution_count": 6,
      "outputs": []
    },
    {
      "cell_type": "markdown",
      "source": [
        "# **📌 \"sbiobertresolve_icdo_augmented\" model**"
      ],
      "metadata": {
        "id": "5ujahtDoiJXy"
      }
    },
    {
      "cell_type": "markdown",
      "source": [
        "### **🔎Define Spark NLP pipeline**"
      ],
      "metadata": {
        "id": "6ysJAMTLfcnO"
      }
    },
    {
      "cell_type": "code",
      "source": [
        "document_assembler = DocumentAssembler() \\\n",
        "        .setInputCol('text') \\\n",
        "        .setOutputCol('document')\n",
        "\n",
        "sentenceDetector = SentenceDetectorDLModel.pretrained()\\\n",
        "        .setInputCols([\"document\"])\\\n",
        "        .setOutputCol(\"sentence\")\n",
        "\n",
        "tokenizer = Tokenizer()\\\n",
        "        .setInputCols([\"sentence\"])\\\n",
        "        .setOutputCol(\"token\")\n",
        "\n",
        "word_embeddings = WordEmbeddingsModel.pretrained(\"embeddings_clinical\", \"en\", \"clinical/models\")\\\n",
        "        .setInputCols([\"sentence\", \"token\"])\\\n",
        "        .setOutputCol(\"embeddings\")\n",
        "\n",
        "ner_clinical = MedicalNerModel.pretrained(\"ner_jsl\", \"en\", \"clinical/models\")\\\n",
        "        .setInputCols([\"sentence\", \"token\", \"embeddings\"])\\\n",
        "        .setOutputCol(\"ner\")\n",
        "\n",
        "ner_converter = NerConverterInternal()\\\n",
        "        .setInputCols([\"sentence\", \"token\", \"ner\"])\\\n",
        "        .setOutputCol(\"ner_chunk\")\\\n",
        "        .setWhiteList([\"Oncological\"])\n",
        "\n",
        "c2doc = Chunk2Doc()\\\n",
        "        .setInputCols(\"ner_chunk\")\\\n",
        "        .setOutputCol(\"ner_chunk_doc\") \n",
        "\n",
        "sbert_embedder = BertSentenceEmbeddings\\\n",
        "        .pretrained(\"sbiobert_base_cased_mli\",'en','clinical/models')\\\n",
        "        .setInputCols([\"ner_chunk_doc\"])\\\n",
        "        .setOutputCol(\"sbert_embeddings\")\n",
        " \n",
        "icdo_resolver = SentenceEntityResolverModel\\\n",
        "        .pretrained(\"sbiobertresolve_icdo_augmented\",\"en\", \"clinical/models\") \\\n",
        "        .setInputCols([\"ner_chunk\", \"sbert_embeddings\"]) \\\n",
        "        .setOutputCol(\"icdo_code\")\\\n",
        "        .setDistanceFunction(\"EUCLIDEAN\")\n",
        "\n",
        "    \n",
        "pipeline = Pipeline(stages=[\n",
        "    document_assembler, \n",
        "    sentenceDetector,\n",
        "    tokenizer,\n",
        "    word_embeddings,\n",
        "    ner_clinical,\n",
        "    ner_converter,\n",
        "    c2doc,\n",
        "    sbert_embedder,\n",
        "    icdo_resolver\n",
        "])\n",
        "\n",
        "empty_df = spark.createDataFrame([[\"\"]]).toDF(\"text\")\n",
        "pipeline_model = pipeline.fit(empty_df)\n"
      ],
      "metadata": {
        "colab": {
          "base_uri": "https://localhost:8080/"
        },
        "id": "BDsHfpMEfZmR",
        "outputId": "11ca8b28-4126-492e-9bae-c9bc615a06c7"
      },
      "execution_count": 12,
      "outputs": [
        {
          "output_type": "stream",
          "name": "stdout",
          "text": [
            "sentence_detector_dl download started this may take some time.\n",
            "Approximate size to download 354.6 KB\n",
            "[OK!]\n",
            "embeddings_clinical download started this may take some time.\n",
            "Approximate size to download 1.6 GB\n",
            "[OK!]\n",
            "ner_jsl download started this may take some time.\n",
            "[OK!]\n",
            "sbiobert_base_cased_mli download started this may take some time.\n",
            "Approximate size to download 384.3 MB\n",
            "[OK!]\n",
            "sbiobertresolve_icdo_augmented download started this may take some time.\n",
            "[OK!]\n"
          ]
        }
      ]
    },
    {
      "cell_type": "code",
      "source": [
        "sample_text = \"\"\"TRAF6 is a putative oncogene in a variety of cancers including  bladder cancer , and skin cancer. WWP2 appears to regulate the expression of the well characterized tumor suppressor phosphatase and tensin homolog (PTEN)   in endometrial cancer   and squamous cell carcinoma.\"\"\"\n",
        "\n",
        "clinical_note_df = spark.createDataFrame([[sample_text]]).toDF(\"text\")\n",
        "\n",
        "icdo_result = pipeline_model.transform(clinical_note_df)"
      ],
      "metadata": {
        "id": "Z69rUpeWqwxM"
      },
      "execution_count": 13,
      "outputs": []
    },
    {
      "cell_type": "code",
      "source": [
        "res_pd = get_codes_from_df(icdo_result, 'ner_chunk', 'icdo_code')"
      ],
      "metadata": {
        "id": "R2FtclDWrHwo"
      },
      "execution_count": 14,
      "outputs": []
    },
    {
      "cell_type": "code",
      "source": [
        "res_pd.head(10)"
      ],
      "metadata": {
        "colab": {
          "base_uri": "https://localhost:8080/",
          "height": 851
        },
        "id": "-JYiv72Cs9O0",
        "outputId": "edc342a8-4d1f-4e88-f796-9b9e57a59b11"
      },
      "execution_count": 15,
      "outputs": [
        {
          "output_type": "execute_result",
          "data": {
            "text/plain": [
              "  sent_id                     ner_chunk       entity     icdo_code                                                                                                                                                                                                                                                                                                                                                 all_codes                                                                                                                                                                                                                                                                                                                                                                                                                                                                                                                                                                                                                                                                                                                                                                                                                                                                                                                                            resolutions\n",
              "0       0                       cancers  Oncological        8000/3                                                                                                       [8000/3, 8010/3, 8010/9, 800, 8420/3, 8140/3, 8010/3-C76.0, 8010/6, 8010/3-C44.5, 8010/3-C26.0, 8010/3-C76.1, 8000/1, 8240/3, 8010/3-C06.9, 8021/3, 8010/9-C44.9, 8530/3, 8550/3, 8001/1, 8010/3-C77.8, 8230/3, 8010/3-C21.0, 8070/3, 8010/3-C44.9]                                                                                                                                                                                                                                                                                                                                                                                                                                             [cancer, carcinoma, carcinomatosis, neoplasms, ceruminous carcinoma, adenocarcinoma, carcinoma, of head, face or neck, secondary carcinoma, carcinoma, of skin of trunk, carcinoma, of intestinal tract, carcinoma, of thorax, neoplasm, carcinoid, carcinoma, of mouth, carcinoma, anaplastic, carcinomatosis of skin, inflammatory carcinoma, acinar carcinoma, tumor cells, carcinoma, of lymph nodes of multiple regions, solid carcinoma, carcinoma, of anus, squamous carcinoma, carcinoma, of skin]\n",
              "1       0                bladder cancer  Oncological  8010/3-C67.9  [8010/3-C67.9, 8010/3-C67.5, 8230/3-C67.9, 8140/3-C67.9, 8441/3-C67.9, 8120/3-C67.9, 8070/3-C67.9, 8980/3-C67.9, 8140/3-C67.5, 8230/3-C67.5, 8051/3-C67.9, 8510/3-C67.9, 8050/3-C67.9, 8051/3-C67.5, 8560/3-C67.9, 8010/2-C67.9, 8070/3-C67.5, 8120/3-C67.5, 8010/3-C67.1, 8130/3-C67.9, 8120/2-C67.9, 8510/3-C67.5, 8050/3-C67.5, 8120/3, 8980/3-C67.5]                                                                      [carcinoma, of bladder, carcinoma, of bladder neck, solid carcinoma, of bladder, adenocarcinoma, of bladder, serous carcinoma, of bladder, transitional cell carcinoma, of bladder, squamous cell carcinoma, of bladder, carcinosarcoma, of bladder, adenocarcinoma, of bladder neck, solid carcinoma, of bladder neck, verrucous carcinoma, of bladder, medullary carcinoma, of bladder, papillary carcinoma, of bladder, verrucous carcinoma, of bladder neck, adenosquamous carcinoma of bladder, carcinoma in situ, of bladder, squamous cell carcinoma, of bladder neck, transitional cell carcinoma, of bladder neck, carcinoma, of dome of bladder, papillary urothelial carcinoma of bladder, urothelial carcinoma in situ of bladder, medullary carcinoma, of bladder neck, papillary carcinoma, of bladder neck, urothelial carcinoma, carcinosarcoma, of bladder neck]\n",
              "2       0                   skin cancer  Oncological  8010/3-C44.9                            [8010/3-C44.9, 8010/9-C44.9, 8070/3-C44.9, 8140/3-C44.9, 8980/3-C44.9, 8010/3-C44.5, 8409/3-C44.9, 8560/3-C44.9, 8051/3-C44.9, 8010/2-C44.9, 8201/3-C44.9, 8575/3-C44.9, 8390/3, 8230/3-C44.9, 8070/3, 8094/3-C44.9, 8410/3-C44.9, 8110/3-C44.9, 8010/3, 8070/3-C44.5, 8010/3-C44.4, 8051/3-C44.5, 8247/3-C44.9, 8440/3-C44.9]                                                                                                                                                                                                                                    [carcinoma, of skin, carcinomatosis of skin, squamous cell carcinoma, of skin, adenocarcinoma, of skin, carcinosarcoma, of skin, carcinoma, of skin of trunk, porocarcinoma, of skin, adenosquamous carcinoma of skin, verrucous carcinoma, of skin, carcinoma in situ, of skin, cribriform carcinoma, of skin, metaplastic carcinoma, of skin, skin appendage carcinoma, solid carcinoma, of skin, squamous carcinoma, basosquamous carcinoma of skin, sebaceous carcinoma of skin, pilomatrical carcinoma of skin, carcinoma, squamous cell carcinoma, of skin of trunk, carcinoma, of skin of scalp and neck, verrucous carcinoma, of skin of trunk, merkel cell carcinoma of skin, cystadenocarcinoma, of skin]\n",
              "3       1  tumor suppressor phosphatase  Oncological        9020/1                                                                             [9020/1, 8409/3, 8409/0, 8405/0, 8800/3-C16.4, 8010/3-C75.0, 9507/0, 8711/0-C16.4, 8022/3, 9064/3-C75.0, 8010/3-C76.3, 8001/3-C75.0, 8010/3-C16.4, 8980/3-C16.4, 8103/0, 8140/0-C75.0, 8140/3-C75.0, 9701/3-C71.3, 8010/3-C48.2, 8022/3-C75.0, 9719/3, C75.0, 8120/0, 8110/0]                                                                                                                                                                                                                                                                                                                              [phyllodes tumor, porocarcinoma, poroma, papillary hidradenoma, sarcoma, of pylorus, carcinoma, of parathyroid gland, pacinian tumor, glomus tumor, of pylorus, pleomorphic carcinoma, germinoma of parathyroid gland, carcinoma, of pelvis, tumor cells, malignant of parathyroid gland, carcinoma, of pylorus, carcinosarcoma, of pylorus, pilar tumor, adenoma, of parathyroid gland, adenocarcinoma, of parathyroid gland, sezary syndrome of parietal lobe, carcinoma, of peritoneum, pleomorphic carcinoma of parathyroid gland, polymorphic reticulosis, parathyroid gland, transitional papilloma, pilomatrixoma]\n",
              "4       1            endometrial cancer  Oncological        8380/3                [8380/3, 8010/3-C54.1, 8380/3-C57.9, 8575/3-C54.1, 8560/3-C54.1, 8441/3-C54.1, 8140/3-C54.1, 8051/3-C54.1, 8384/3-C54.1, 8230/3-C54.1, 8440/3-C54.1, 8021/3-C54.1, 8010/2-C54.1, 8070/3-C54.1, 8380/3-C53.0, 8262/3-C54.1, 8575/3-C53.0, 8201/3-C54.1, 8120/3-C54.1, 8980/3-C54.1, 8050/3-C54.1, 8380/3-C54.1, 8510/3-C54.1, 8140/2-C54.1]  [endometrioid carcinoma, carcinoma, of endometrium, endometrioid adenocarcinoma, of female genital tract, metaplastic carcinoma, of endometrium, adenosquamous carcinoma of endometrium, serous carcinoma, of endometrium, adenocarcinoma, of endometrium, verrucous carcinoma, of endometrium, adenocarcinoma, endocervical type, of endometrium, solid carcinoma, of endometrium, cystadenocarcinoma, of endometrium, carcinoma, anaplastic, of endometrium, carcinoma in situ, of endometrium, squamous cell carcinoma, of endometrium, endometrioid adenocarcinoma, of endocervix, villous adenocarcinoma of endometrium, metaplastic carcinoma, of endocervix, cribriform carcinoma, of endometrium, transitional cell carcinoma, of endometrium, carcinosarcoma, of endometrium, papillary carcinoma, of endometrium, endometrioid adenocarcinoma, of endometrium, medullary carcinoma, of endometrium, adenocarcinoma in situ, of endometrium]\n",
              "5       1       squamous cell carcinoma  Oncological        8070/3                                                                                                                     [8070/3, 8051/3, 8070/2, 8052/3, 8070/3-C44.5, 8075/3, 8560/3, 8070/3-C44.9, 8070/3-C76.1, 8075/3-C44.5, 8075/3-C44.9, 8070/3-C76.0, 805-808, 8094/3, 8070/3-C32.9, 8441/3, 8070/3-C77.9, 8074/3, 8074/3-C76.0, 8085/3, 8560/3-C44.9]                                                                                                                                                                   [squamous cell carcinoma, verrucous squamous cell carcinoma, squamous cell carcinoma in situ, papillary squamous cell carcinoma, squamous cell carcinoma, of skin of trunk, squamous cell carcinoma, adenoid, adenosquamous carcinoma, squamous cell carcinoma, of skin, squamous cell carcinoma, of thorax, squamous cell carcinoma, adenoid of skin of trunk, squamous cell carcinoma, adenoid of skin, squamous cell carcinoma, of head, face or neck, squamous cell neoplasms, basosquamous carcinoma, squamous cell carcinoma, of larynx, serous carcinoma, squamous cell carcinoma, of lymph node, squamous cell carcinoma, spindle cell, squamous cell carcinoma, spindle cell of head, face or neck, squamous cell carcinoma, hpv positive, adenosquamous carcinoma of skin]"
            ],
            "text/html": [
              "\n",
              "  <div id=\"df-fa894c58-06dd-40a3-94e0-69d1788d7f52\">\n",
              "    <div class=\"colab-df-container\">\n",
              "      <div>\n",
              "<style scoped>\n",
              "    .dataframe tbody tr th:only-of-type {\n",
              "        vertical-align: middle;\n",
              "    }\n",
              "\n",
              "    .dataframe tbody tr th {\n",
              "        vertical-align: top;\n",
              "    }\n",
              "\n",
              "    .dataframe thead th {\n",
              "        text-align: right;\n",
              "    }\n",
              "</style>\n",
              "<table border=\"1\" class=\"dataframe\">\n",
              "  <thead>\n",
              "    <tr style=\"text-align: right;\">\n",
              "      <th></th>\n",
              "      <th>sent_id</th>\n",
              "      <th>ner_chunk</th>\n",
              "      <th>entity</th>\n",
              "      <th>icdo_code</th>\n",
              "      <th>all_codes</th>\n",
              "      <th>resolutions</th>\n",
              "    </tr>\n",
              "  </thead>\n",
              "  <tbody>\n",
              "    <tr>\n",
              "      <th>0</th>\n",
              "      <td>0</td>\n",
              "      <td>cancers</td>\n",
              "      <td>Oncological</td>\n",
              "      <td>8000/3</td>\n",
              "      <td>[8000/3, 8010/3, 8010/9, 800, 8420/3, 8140/3, 8010/3-C76.0, 8010/6, 8010/3-C44.5, 8010/3-C26.0, 8010/3-C76.1, 8000/1, 8240/3, 8010/3-C06.9, 8021/3, 8010/9-C44.9, 8530/3, 8550/3, 8001/1, 8010/3-C77.8, 8230/3, 8010/3-C21.0, 8070/3, 8010/3-C44.9]</td>\n",
              "      <td>[cancer, carcinoma, carcinomatosis, neoplasms, ceruminous carcinoma, adenocarcinoma, carcinoma, of head, face or neck, secondary carcinoma, carcinoma, of skin of trunk, carcinoma, of intestinal tract, carcinoma, of thorax, neoplasm, carcinoid, carcinoma, of mouth, carcinoma, anaplastic, carcinomatosis of skin, inflammatory carcinoma, acinar carcinoma, tumor cells, carcinoma, of lymph nodes of multiple regions, solid carcinoma, carcinoma, of anus, squamous carcinoma, carcinoma, of skin]</td>\n",
              "    </tr>\n",
              "    <tr>\n",
              "      <th>1</th>\n",
              "      <td>0</td>\n",
              "      <td>bladder cancer</td>\n",
              "      <td>Oncological</td>\n",
              "      <td>8010/3-C67.9</td>\n",
              "      <td>[8010/3-C67.9, 8010/3-C67.5, 8230/3-C67.9, 8140/3-C67.9, 8441/3-C67.9, 8120/3-C67.9, 8070/3-C67.9, 8980/3-C67.9, 8140/3-C67.5, 8230/3-C67.5, 8051/3-C67.9, 8510/3-C67.9, 8050/3-C67.9, 8051/3-C67.5, 8560/3-C67.9, 8010/2-C67.9, 8070/3-C67.5, 8120/3-C67.5, 8010/3-C67.1, 8130/3-C67.9, 8120/2-C67.9, 8510/3-C67.5, 8050/3-C67.5, 8120/3, 8980/3-C67.5]</td>\n",
              "      <td>[carcinoma, of bladder, carcinoma, of bladder neck, solid carcinoma, of bladder, adenocarcinoma, of bladder, serous carcinoma, of bladder, transitional cell carcinoma, of bladder, squamous cell carcinoma, of bladder, carcinosarcoma, of bladder, adenocarcinoma, of bladder neck, solid carcinoma, of bladder neck, verrucous carcinoma, of bladder, medullary carcinoma, of bladder, papillary carcinoma, of bladder, verrucous carcinoma, of bladder neck, adenosquamous carcinoma of bladder, carcinoma in situ, of bladder, squamous cell carcinoma, of bladder neck, transitional cell carcinoma, of bladder neck, carcinoma, of dome of bladder, papillary urothelial carcinoma of bladder, urothelial carcinoma in situ of bladder, medullary carcinoma, of bladder neck, papillary carcinoma, of bladder neck, urothelial carcinoma, carcinosarcoma, of bladder neck]</td>\n",
              "    </tr>\n",
              "    <tr>\n",
              "      <th>2</th>\n",
              "      <td>0</td>\n",
              "      <td>skin cancer</td>\n",
              "      <td>Oncological</td>\n",
              "      <td>8010/3-C44.9</td>\n",
              "      <td>[8010/3-C44.9, 8010/9-C44.9, 8070/3-C44.9, 8140/3-C44.9, 8980/3-C44.9, 8010/3-C44.5, 8409/3-C44.9, 8560/3-C44.9, 8051/3-C44.9, 8010/2-C44.9, 8201/3-C44.9, 8575/3-C44.9, 8390/3, 8230/3-C44.9, 8070/3, 8094/3-C44.9, 8410/3-C44.9, 8110/3-C44.9, 8010/3, 8070/3-C44.5, 8010/3-C44.4, 8051/3-C44.5, 8247/3-C44.9, 8440/3-C44.9]</td>\n",
              "      <td>[carcinoma, of skin, carcinomatosis of skin, squamous cell carcinoma, of skin, adenocarcinoma, of skin, carcinosarcoma, of skin, carcinoma, of skin of trunk, porocarcinoma, of skin, adenosquamous carcinoma of skin, verrucous carcinoma, of skin, carcinoma in situ, of skin, cribriform carcinoma, of skin, metaplastic carcinoma, of skin, skin appendage carcinoma, solid carcinoma, of skin, squamous carcinoma, basosquamous carcinoma of skin, sebaceous carcinoma of skin, pilomatrical carcinoma of skin, carcinoma, squamous cell carcinoma, of skin of trunk, carcinoma, of skin of scalp and neck, verrucous carcinoma, of skin of trunk, merkel cell carcinoma of skin, cystadenocarcinoma, of skin]</td>\n",
              "    </tr>\n",
              "    <tr>\n",
              "      <th>3</th>\n",
              "      <td>1</td>\n",
              "      <td>tumor suppressor phosphatase</td>\n",
              "      <td>Oncological</td>\n",
              "      <td>9020/1</td>\n",
              "      <td>[9020/1, 8409/3, 8409/0, 8405/0, 8800/3-C16.4, 8010/3-C75.0, 9507/0, 8711/0-C16.4, 8022/3, 9064/3-C75.0, 8010/3-C76.3, 8001/3-C75.0, 8010/3-C16.4, 8980/3-C16.4, 8103/0, 8140/0-C75.0, 8140/3-C75.0, 9701/3-C71.3, 8010/3-C48.2, 8022/3-C75.0, 9719/3, C75.0, 8120/0, 8110/0]</td>\n",
              "      <td>[phyllodes tumor, porocarcinoma, poroma, papillary hidradenoma, sarcoma, of pylorus, carcinoma, of parathyroid gland, pacinian tumor, glomus tumor, of pylorus, pleomorphic carcinoma, germinoma of parathyroid gland, carcinoma, of pelvis, tumor cells, malignant of parathyroid gland, carcinoma, of pylorus, carcinosarcoma, of pylorus, pilar tumor, adenoma, of parathyroid gland, adenocarcinoma, of parathyroid gland, sezary syndrome of parietal lobe, carcinoma, of peritoneum, pleomorphic carcinoma of parathyroid gland, polymorphic reticulosis, parathyroid gland, transitional papilloma, pilomatrixoma]</td>\n",
              "    </tr>\n",
              "    <tr>\n",
              "      <th>4</th>\n",
              "      <td>1</td>\n",
              "      <td>endometrial cancer</td>\n",
              "      <td>Oncological</td>\n",
              "      <td>8380/3</td>\n",
              "      <td>[8380/3, 8010/3-C54.1, 8380/3-C57.9, 8575/3-C54.1, 8560/3-C54.1, 8441/3-C54.1, 8140/3-C54.1, 8051/3-C54.1, 8384/3-C54.1, 8230/3-C54.1, 8440/3-C54.1, 8021/3-C54.1, 8010/2-C54.1, 8070/3-C54.1, 8380/3-C53.0, 8262/3-C54.1, 8575/3-C53.0, 8201/3-C54.1, 8120/3-C54.1, 8980/3-C54.1, 8050/3-C54.1, 8380/3-C54.1, 8510/3-C54.1, 8140/2-C54.1]</td>\n",
              "      <td>[endometrioid carcinoma, carcinoma, of endometrium, endometrioid adenocarcinoma, of female genital tract, metaplastic carcinoma, of endometrium, adenosquamous carcinoma of endometrium, serous carcinoma, of endometrium, adenocarcinoma, of endometrium, verrucous carcinoma, of endometrium, adenocarcinoma, endocervical type, of endometrium, solid carcinoma, of endometrium, cystadenocarcinoma, of endometrium, carcinoma, anaplastic, of endometrium, carcinoma in situ, of endometrium, squamous cell carcinoma, of endometrium, endometrioid adenocarcinoma, of endocervix, villous adenocarcinoma of endometrium, metaplastic carcinoma, of endocervix, cribriform carcinoma, of endometrium, transitional cell carcinoma, of endometrium, carcinosarcoma, of endometrium, papillary carcinoma, of endometrium, endometrioid adenocarcinoma, of endometrium, medullary carcinoma, of endometrium, adenocarcinoma in situ, of endometrium]</td>\n",
              "    </tr>\n",
              "    <tr>\n",
              "      <th>5</th>\n",
              "      <td>1</td>\n",
              "      <td>squamous cell carcinoma</td>\n",
              "      <td>Oncological</td>\n",
              "      <td>8070/3</td>\n",
              "      <td>[8070/3, 8051/3, 8070/2, 8052/3, 8070/3-C44.5, 8075/3, 8560/3, 8070/3-C44.9, 8070/3-C76.1, 8075/3-C44.5, 8075/3-C44.9, 8070/3-C76.0, 805-808, 8094/3, 8070/3-C32.9, 8441/3, 8070/3-C77.9, 8074/3, 8074/3-C76.0, 8085/3, 8560/3-C44.9]</td>\n",
              "      <td>[squamous cell carcinoma, verrucous squamous cell carcinoma, squamous cell carcinoma in situ, papillary squamous cell carcinoma, squamous cell carcinoma, of skin of trunk, squamous cell carcinoma, adenoid, adenosquamous carcinoma, squamous cell carcinoma, of skin, squamous cell carcinoma, of thorax, squamous cell carcinoma, adenoid of skin of trunk, squamous cell carcinoma, adenoid of skin, squamous cell carcinoma, of head, face or neck, squamous cell neoplasms, basosquamous carcinoma, squamous cell carcinoma, of larynx, serous carcinoma, squamous cell carcinoma, of lymph node, squamous cell carcinoma, spindle cell, squamous cell carcinoma, spindle cell of head, face or neck, squamous cell carcinoma, hpv positive, adenosquamous carcinoma of skin]</td>\n",
              "    </tr>\n",
              "  </tbody>\n",
              "</table>\n",
              "</div>\n",
              "      <button class=\"colab-df-convert\" onclick=\"convertToInteractive('df-fa894c58-06dd-40a3-94e0-69d1788d7f52')\"\n",
              "              title=\"Convert this dataframe to an interactive table.\"\n",
              "              style=\"display:none;\">\n",
              "        \n",
              "  <svg xmlns=\"http://www.w3.org/2000/svg\" height=\"24px\"viewBox=\"0 0 24 24\"\n",
              "       width=\"24px\">\n",
              "    <path d=\"M0 0h24v24H0V0z\" fill=\"none\"/>\n",
              "    <path d=\"M18.56 5.44l.94 2.06.94-2.06 2.06-.94-2.06-.94-.94-2.06-.94 2.06-2.06.94zm-11 1L8.5 8.5l.94-2.06 2.06-.94-2.06-.94L8.5 2.5l-.94 2.06-2.06.94zm10 10l.94 2.06.94-2.06 2.06-.94-2.06-.94-.94-2.06-.94 2.06-2.06.94z\"/><path d=\"M17.41 7.96l-1.37-1.37c-.4-.4-.92-.59-1.43-.59-.52 0-1.04.2-1.43.59L10.3 9.45l-7.72 7.72c-.78.78-.78 2.05 0 2.83L4 21.41c.39.39.9.59 1.41.59.51 0 1.02-.2 1.41-.59l7.78-7.78 2.81-2.81c.8-.78.8-2.07 0-2.86zM5.41 20L4 18.59l7.72-7.72 1.47 1.35L5.41 20z\"/>\n",
              "  </svg>\n",
              "      </button>\n",
              "      \n",
              "  <style>\n",
              "    .colab-df-container {\n",
              "      display:flex;\n",
              "      flex-wrap:wrap;\n",
              "      gap: 12px;\n",
              "    }\n",
              "\n",
              "    .colab-df-convert {\n",
              "      background-color: #E8F0FE;\n",
              "      border: none;\n",
              "      border-radius: 50%;\n",
              "      cursor: pointer;\n",
              "      display: none;\n",
              "      fill: #1967D2;\n",
              "      height: 32px;\n",
              "      padding: 0 0 0 0;\n",
              "      width: 32px;\n",
              "    }\n",
              "\n",
              "    .colab-df-convert:hover {\n",
              "      background-color: #E2EBFA;\n",
              "      box-shadow: 0px 1px 2px rgba(60, 64, 67, 0.3), 0px 1px 3px 1px rgba(60, 64, 67, 0.15);\n",
              "      fill: #174EA6;\n",
              "    }\n",
              "\n",
              "    [theme=dark] .colab-df-convert {\n",
              "      background-color: #3B4455;\n",
              "      fill: #D2E3FC;\n",
              "    }\n",
              "\n",
              "    [theme=dark] .colab-df-convert:hover {\n",
              "      background-color: #434B5C;\n",
              "      box-shadow: 0px 1px 3px 1px rgba(0, 0, 0, 0.15);\n",
              "      filter: drop-shadow(0px 1px 2px rgba(0, 0, 0, 0.3));\n",
              "      fill: #FFFFFF;\n",
              "    }\n",
              "  </style>\n",
              "\n",
              "      <script>\n",
              "        const buttonEl =\n",
              "          document.querySelector('#df-fa894c58-06dd-40a3-94e0-69d1788d7f52 button.colab-df-convert');\n",
              "        buttonEl.style.display =\n",
              "          google.colab.kernel.accessAllowed ? 'block' : 'none';\n",
              "\n",
              "        async function convertToInteractive(key) {\n",
              "          const element = document.querySelector('#df-fa894c58-06dd-40a3-94e0-69d1788d7f52');\n",
              "          const dataTable =\n",
              "            await google.colab.kernel.invokeFunction('convertToInteractive',\n",
              "                                                     [key], {});\n",
              "          if (!dataTable) return;\n",
              "\n",
              "          const docLinkHtml = 'Like what you see? Visit the ' +\n",
              "            '<a target=\"_blank\" href=https://colab.research.google.com/notebooks/data_table.ipynb>data table notebook</a>'\n",
              "            + ' to learn more about interactive tables.';\n",
              "          element.innerHTML = '';\n",
              "          dataTable['output_type'] = 'display_data';\n",
              "          await google.colab.output.renderOutput(dataTable, element);\n",
              "          const docLink = document.createElement('div');\n",
              "          docLink.innerHTML = docLinkHtml;\n",
              "          element.appendChild(docLink);\n",
              "        }\n",
              "      </script>\n",
              "    </div>\n",
              "  </div>\n",
              "  "
            ]
          },
          "metadata": {},
          "execution_count": 15
        }
      ]
    },
    {
      "cell_type": "code",
      "source": [
        "light_model = LightPipeline(pipeline_model)\n",
        "light_result = light_model.fullAnnotate(sample_text)\n",
        "\n",
        "er_vis = EntityResolverVisualizer()\n",
        "\n",
        "er_vis.display(light_result[0],\n",
        "               label_col='ner_chunk',\n",
        "               resolution_col = 'icdo_code',\n",
        "               document_col='document'\n",
        "               )"
      ],
      "metadata": {
        "colab": {
          "base_uri": "https://localhost:8080/",
          "height": 275
        },
        "id": "XIgNeWVdtuNN",
        "outputId": "cee6daa6-303a-4600-ec4e-cb158849f8c4"
      },
      "execution_count": 16,
      "outputs": [
        {
          "output_type": "display_data",
          "data": {
            "text/plain": [
              "<IPython.core.display.HTML object>"
            ],
            "text/html": [
              "\n",
              "<style>\n",
              "    @import url('https://fonts.googleapis.com/css2?family=Montserrat:wght@300;400;500;600;700&display=swap');\n",
              "    @import url('https://fonts.googleapis.com/css2?family=Vistol Regular:wght@300;400;500;600;700&display=swap');\n",
              "    \n",
              "    .spark-nlp-display-scroll-entities {\n",
              "        border: 1px solid #E7EDF0;\n",
              "        border-radius: 3px;\n",
              "        text-align: justify;\n",
              "        \n",
              "    }\n",
              "    .spark-nlp-display-scroll-entities span {  \n",
              "        font-size: 14px;\n",
              "        line-height: 24px;\n",
              "        color: #536B76;\n",
              "        font-family: 'Montserrat', sans-serif !important;\n",
              "    }\n",
              "    \n",
              "    .spark-nlp-display-entity-wrapper{\n",
              "    \n",
              "        display: inline-grid;\n",
              "        text-align: center;\n",
              "        border-radius: 4px;\n",
              "        margin: 0 2px 5px 2px;\n",
              "        padding: 1px\n",
              "    }\n",
              "    .spark-nlp-display-entity-name{\n",
              "        font-size: 14px;\n",
              "        line-height: 24px;\n",
              "        font-family: 'Montserrat', sans-serif !important;\n",
              "        \n",
              "        background: #f1f2f3;\n",
              "        border-width: medium;\n",
              "        text-align: center;\n",
              "        \n",
              "        font-weight: 400;\n",
              "        \n",
              "        border-radius: 5px;\n",
              "        padding: 2px 5px;\n",
              "        display: block;\n",
              "        margin: 3px 2px;\n",
              "    \n",
              "    }\n",
              "    .spark-nlp-display-entity-type{\n",
              "        font-size: 14px;\n",
              "        line-height: 24px;\n",
              "        color: #ffffff;\n",
              "        font-family: 'Montserrat', sans-serif !important;\n",
              "        \n",
              "        text-transform: uppercase;\n",
              "        \n",
              "        font-weight: 500;\n",
              "\n",
              "        display: block;\n",
              "        padding: 3px 5px;\n",
              "    }\n",
              "    \n",
              "    .spark-nlp-display-entity-resolution{\n",
              "        font-size: 14px;\n",
              "        line-height: 24px;\n",
              "        color: #ffffff;\n",
              "        font-family: 'Vistol Regular', sans-serif !important;\n",
              "        \n",
              "        text-transform: uppercase;\n",
              "        \n",
              "        font-weight: 500;\n",
              "\n",
              "        display: block;\n",
              "        padding: 3px 5px;\n",
              "    }\n",
              "    \n",
              "    .spark-nlp-display-others{\n",
              "        font-size: 14px;\n",
              "        line-height: 24px;\n",
              "        font-family: 'Montserrat', sans-serif !important;\n",
              "        \n",
              "        font-weight: 400;\n",
              "    }\n",
              "\n",
              "</style>\n",
              " <span class=\"spark-nlp-display-others\" style=\"background-color: white\">TRAF6 is a putative oncogene in a variety of </span><span class=\"spark-nlp-display-entity-wrapper\" style=\"background-color: #3E17BEB3\"><span class=\"spark-nlp-display-entity-name\">cancers </span><span class=\"spark-nlp-display-entity-type\">Oncological</span><span class=\"spark-nlp-display-entity-resolution\" style=\"background-color: #3E17BEFF\">8000/3 </span><span class=\"spark-nlp-display-entity-resolution\" style=\"background-color: #3E17BECC\">cancer</span></span><span class=\"spark-nlp-display-others\" style=\"background-color: white\"> including  </span><span class=\"spark-nlp-display-entity-wrapper\" style=\"background-color: #3E17BEB3\"><span class=\"spark-nlp-display-entity-name\">bladder cancer </span><span class=\"spark-nlp-display-entity-type\">Oncological</span><span class=\"spark-nlp-display-entity-resolution\" style=\"background-color: #3E17BEFF\">8010/3-C67.9 </span><span class=\"spark-nlp-display-entity-resolution\" style=\"background-color: #3E17BECC\">carcinoma, of bladder</span></span><span class=\"spark-nlp-display-others\" style=\"background-color: white\"> , and </span><span class=\"spark-nlp-display-entity-wrapper\" style=\"background-color: #3E17BEB3\"><span class=\"spark-nlp-display-entity-name\">skin cancer </span><span class=\"spark-nlp-display-entity-type\">Oncological</span><span class=\"spark-nlp-display-entity-resolution\" style=\"background-color: #3E17BEFF\">8010/3-C44.9 </span><span class=\"spark-nlp-display-entity-resolution\" style=\"background-color: #3E17BECC\">carcinoma, of skin</span></span><span class=\"spark-nlp-display-others\" style=\"background-color: white\">. WWP2 appears to regulate the expression of the well characterized </span><span class=\"spark-nlp-display-entity-wrapper\" style=\"background-color: #3E17BEB3\"><span class=\"spark-nlp-display-entity-name\">tumor suppressor phosphatase </span><span class=\"spark-nlp-display-entity-type\">Oncological</span><span class=\"spark-nlp-display-entity-resolution\" style=\"background-color: #3E17BEFF\">9020/1 </span><span class=\"spark-nlp-display-entity-resolution\" style=\"background-color: #3E17BECC\">phyllodes tumor</span></span><span class=\"spark-nlp-display-others\" style=\"background-color: white\"> and tensin homolog (PTEN)   in </span><span class=\"spark-nlp-display-entity-wrapper\" style=\"background-color: #3E17BEB3\"><span class=\"spark-nlp-display-entity-name\">endometrial cancer </span><span class=\"spark-nlp-display-entity-type\">Oncological</span><span class=\"spark-nlp-display-entity-resolution\" style=\"background-color: #3E17BEFF\">8380/3 </span><span class=\"spark-nlp-display-entity-resolution\" style=\"background-color: #3E17BECC\">endometrioid carcinoma</span></span><span class=\"spark-nlp-display-others\" style=\"background-color: white\">   and </span><span class=\"spark-nlp-display-entity-wrapper\" style=\"background-color: #3E17BEB3\"><span class=\"spark-nlp-display-entity-name\">squamous cell carcinoma </span><span class=\"spark-nlp-display-entity-type\">Oncological</span><span class=\"spark-nlp-display-entity-resolution\" style=\"background-color: #3E17BEFF\">8070/3 </span><span class=\"spark-nlp-display-entity-resolution\" style=\"background-color: #3E17BECC\">squamous cell carcinoma</span></span><span class=\"spark-nlp-display-others\" style=\"background-color: white\">.</span></div>"
            ]
          },
          "metadata": {}
        }
      ]
    }
  ]
}
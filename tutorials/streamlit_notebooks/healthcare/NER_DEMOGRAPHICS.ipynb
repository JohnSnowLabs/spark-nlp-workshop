{
  "cells": [
    {
      "cell_type": "markdown",
      "metadata": {
        "id": "TA21Jo5d9SVq"
      },
      "source": [
        "\n",
        "\n",
        "![JohnSnowLabs](https://nlp.johnsnowlabs.com/assets/images/logo.png)\n",
        "\n",
        "[![Open In Colab](https://colab.research.google.com/assets/colab-badge.svg)](https://colab.research.google.com/github/JohnSnowLabs/spark-nlp-workshop/blob/master/tutorials/streamlit_notebooks/healthcare/NER_DEMOGRAPHICS.ipynb)\n"
      ]
    },
    {
      "cell_type": "markdown",
      "metadata": {
        "id": "CzIdjHkAW8TB"
      },
      "source": [
        "# **Detect PHI for Deidentification**"
      ]
    },
    {
      "cell_type": "markdown",
      "metadata": {
        "id": "6uDmeHEFW7_h"
      },
      "source": [
        "📌To run this yourself, you will need to upload your license keys to the notebook. Just Run The Cell Below in order to do that. Also You can open the file explorer on the left side of the screen and upload `license_keys.json` to the folder that opens.\n",
        "Otherwise, you can look at the example outputs at the bottom of the notebook."
      ]
    },
    {
      "cell_type": "markdown",
      "metadata": {
        "id": "wIeCOiJNW-88"
      },
      "source": [
        "## Colab Setup"
      ]
    },
    {
      "cell_type": "markdown",
      "metadata": {
        "id": "HMIDv74CYN0d"
      },
      "source": [
        "Import license keys"
      ]
    },
    {
      "cell_type": "code",
      "execution_count": 45,
      "metadata": {
        "id": "ttHPIV2JXbIM",
        "vscode": {
          "languageId": "python"
        }
      },
      "outputs": [],
      "source": [
        "import json, os\n",
        "from google.colab import files\n",
        "\n",
        "if 'spark_jsl.json' not in os.listdir():\n",
        "  license_keys = files.upload()\n",
        "  os.rename(list(license_keys.keys())[0], 'spark_jsl.json')\n",
        "\n",
        "with open('spark_jsl.json') as f:\n",
        "    license_keys = json.load(f)\n",
        "\n",
        "# Defining license key-value pairs as local variables\n",
        "locals().update(license_keys)\n",
        "os.environ.update(license_keys)"
      ]
    },
    {
      "cell_type": "code",
      "execution_count": 46,
      "metadata": {
        "id": "SE-wJaxMY_E0",
        "vscode": {
          "languageId": "python"
        }
      },
      "outputs": [],
      "source": [
        "# Installing pyspark and spark-nlp\n",
        "! pip install --upgrade -q pyspark==3.1.2 spark-nlp==$PUBLIC_VERSION\n",
        "\n",
        "# Installing Spark NLP Healthcare\n",
        "! pip install --upgrade -q spark-nlp-jsl==$JSL_VERSION  --extra-index-url https://pypi.johnsnowlabs.com/$SECRET\n",
        "\n",
        "# Installing Spark NLP Display Library for visualization\n",
        "! pip install -q spark-nlp-display"
      ]
    },
    {
      "cell_type": "code",
      "execution_count": 47,
      "metadata": {
        "id": "rw4FFXEyY_Hx",
        "vscode": {
          "languageId": "python"
        },
        "colab": {
          "base_uri": "https://localhost:8080/",
          "height": 270
        },
        "outputId": "5b4d6af6-85e8-4722-b16a-fd5e0d544685"
      },
      "outputs": [
        {
          "output_type": "stream",
          "name": "stdout",
          "text": [
            "Warning::Spark Session already created, some configs may not take.\n",
            "Spark NLP Version : 4.3.0\n",
            "Spark NLP_JSL Version : 4.3.0\n"
          ]
        },
        {
          "output_type": "execute_result",
          "data": {
            "text/plain": [
              "<pyspark.sql.session.SparkSession at 0x7f8f544aeb80>"
            ],
            "text/html": [
              "\n",
              "            <div>\n",
              "                <p><b>SparkSession - in-memory</b></p>\n",
              "                \n",
              "        <div>\n",
              "            <p><b>SparkContext</b></p>\n",
              "\n",
              "            <p><a href=\"http://a700a016b910:4040\">Spark UI</a></p>\n",
              "\n",
              "            <dl>\n",
              "              <dt>Version</dt>\n",
              "                <dd><code>v3.1.2</code></dd>\n",
              "              <dt>Master</dt>\n",
              "                <dd><code>local[*]</code></dd>\n",
              "              <dt>AppName</dt>\n",
              "                <dd><code>Spark NLP Licensed</code></dd>\n",
              "            </dl>\n",
              "        </div>\n",
              "        \n",
              "            </div>\n",
              "        "
            ]
          },
          "metadata": {},
          "execution_count": 47
        }
      ],
      "source": [
        "import sparknlp\n",
        "import sparknlp_jsl\n",
        "\n",
        "from sparknlp.base import *\n",
        "from sparknlp.annotator import *\n",
        "from sparknlp_jsl.annotator import *\n",
        "\n",
        "from pyspark.sql import SparkSession\n",
        "from pyspark.sql import functions as F\n",
        "from pyspark.ml import Pipeline,PipelineModel\n",
        "from pyspark.sql.types import StringType, IntegerType\n",
        "\n",
        "import pandas as pd\n",
        "pd.set_option('display.max_colwidth', 200)\n",
        "\n",
        "import warnings\n",
        "warnings.filterwarnings('ignore')\n",
        "\n",
        "params = {\"spark.driver.memory\":\"16G\", \n",
        "          \"spark.kryoserializer.buffer.max\":\"2000M\", \n",
        "          \"spark.driver.maxResultSize\":\"2000M\"} \n",
        "\n",
        "spark = sparknlp_jsl.start(license_keys['SECRET'],params=params)\n",
        "\n",
        "print(\"Spark NLP Version :\", sparknlp.version())\n",
        "print(\"Spark NLP_JSL Version :\", sparknlp_jsl.version())\n",
        "\n",
        "spark"
      ]
    },
    {
      "cell_type": "markdown",
      "metadata": {
        "id": "9RgiqfX5XDqb"
      },
      "source": [
        "## 🔎 Models"
      ]
    },
    {
      "cell_type": "markdown",
      "metadata": {
        "id": "MbWioxCasOXH"
      },
      "source": [
        "\n",
        "> * ### *`ner_deid_large`*\n",
        "> * ### *`ner_deid_generic_augmented`*\n",
        "> * ### *`ner_deid_subentity_augmented`*\n",
        "> * ### *`ner_deid_subentity_augmented_i2b2`*\n",
        "> * ### *`ner_deid_generic_glove`*\n",
        "> * ### *`ner_deid_subentity_glove`*\n",
        "\n",
        "\n",
        "**🔎You can find all these models and more [NLP Models Hub](https://nlp.johnsnowlabs.com/models?edition=Spark+NLP+for+Healthcare)**"
      ]
    },
    {
      "cell_type": "markdown",
      "source": [
        "# 📍 Detect PHI for Deidentification with `embeddings_clinical`"
      ],
      "metadata": {
        "id": "1AQNxmuNadKT"
      }
    },
    {
      "cell_type": "code",
      "source": [
        "from sparknlp_display import NerVisualizer\n",
        "\n",
        "documentAssembler = DocumentAssembler()\\\n",
        "  .setInputCol(\"text\")\\\n",
        "  .setOutputCol(\"document\")\n",
        "  \n",
        "sentenceDetector = SentenceDetectorDLModel.pretrained()\\\n",
        "  .setInputCols([\"document\"])\\\n",
        "  .setOutputCol(\"sentence\")\n",
        "  \n",
        "tokenizer = Tokenizer()\\\n",
        "  .setInputCols(\"sentence\")\\\n",
        "  .setOutputCol(\"token\")\n",
        "\n",
        "ner_converter = NerConverter() \\\n",
        "  .setInputCols([\"sentence\", \"token\", \"ner\"]) \\\n",
        "  .setOutputCol(\"ner_chunk\")\n",
        "\n",
        "def run_pipeline (model, text):\n",
        "\n",
        "  if model == \"ner_deid_subentity_glove\" or model == \"ner_deid_generic_glove\":\n",
        "    word_embeddings = WordEmbeddingsModel().pretrained(\"glove_100d\")\\\n",
        "      .setInputCols([\"sentence\", \"token\"]) \\\n",
        "      .setOutputCol(\"embeddings\")\n",
        "\n",
        "  else:\n",
        "    word_embeddings = WordEmbeddingsModel().pretrained(\"embeddings_clinical\", \"en\", \"clinical/models\")\\\n",
        "      .setInputCols([\"sentence\", \"token\"]) \\\n",
        "      .setOutputCol(\"embeddings\")\n",
        "\n",
        "  ner = MedicalNerModel.pretrained(model, \"en\", \"clinical/models\") \\\n",
        "    .setInputCols([\"sentence\", \"token\", \"embeddings\"]) \\\n",
        "    .setOutputCol(\"ner\")\n",
        "    \n",
        "  pipeline =  Pipeline(\n",
        "      stages=[\n",
        "          documentAssembler,\n",
        "          sentenceDetector,\n",
        "          tokenizer,\n",
        "          word_embeddings,\n",
        "          ner,\n",
        "          ner_converter\n",
        "          ])\n",
        "\n",
        "  df = spark.createDataFrame(text, StringType()).toDF(\"text\")\n",
        "  result = pipeline.fit(df).transform(df)\n",
        "  \n",
        "  print(\"\\n\")\n",
        "  print(\"<----------------- MODEL NAME:\",\"\\033[1m\" + model + \"\\033[0m\",\" ----------------- >\")\n",
        "  print(\"\\n\")\n",
        "\n",
        "  result.select(F.explode(F.arrays_zip(result.ner_chunk.result, \n",
        "                                       result.ner_chunk.metadata)).alias(\"cols\")) \\\n",
        "        .select(F.expr(\"cols['0']\").alias(\"chunk\"),\n",
        "                F.expr(\"cols['1']['entity']\").alias(\"ner_label\")).show(truncate=False)\n",
        "\n",
        "  print(\"\\n\")\n",
        "  \n",
        "  for i in range(len(text)):\n",
        "    NerVisualizer().display(\n",
        "      result = result.collect()[i],\n",
        "      label_col = 'ner_chunk',\n",
        "      document_col = 'document'\n",
        "  )"
      ],
      "metadata": {
        "colab": {
          "base_uri": "https://localhost:8080/"
        },
        "id": "tlm-n0bxazN5",
        "outputId": "93fad324-85db-4850-9e60-c6f89caabf1f"
      },
      "execution_count": 48,
      "outputs": [
        {
          "output_type": "stream",
          "name": "stdout",
          "text": [
            "sentence_detector_dl download started this may take some time.\n",
            "Approximate size to download 354.6 KB\n",
            "[OK!]\n"
          ]
        }
      ]
    },
    {
      "cell_type": "markdown",
      "source": [
        "## **🚩 ner_deid_large**"
      ],
      "metadata": {
        "id": "8OHV8LZ3awsj"
      }
    },
    {
      "cell_type": "code",
      "source": [
        "model = 'ner_deid_large'"
      ],
      "metadata": {
        "id": "1bsX6sPVcAfr"
      },
      "execution_count": 49,
      "outputs": []
    },
    {
      "cell_type": "code",
      "execution_count": 50,
      "metadata": {
        "id": "LLuDz_t40be4",
        "vscode": {
          "languageId": "python"
        }
      },
      "outputs": [],
      "source": [
        "sample_texts = [\n",
        "\"\"\"Record date: 02-07-2003. MR: 5247840. HISTORY OF PRESENT ILLNESS: Mr. John Smith is a 60 years old white male veteran with multiple comorbidities, who has a history of bladder cancer diagnosed on 23/03/2001 by the Mount Sinai Hospital. He work as a teacher. Mr. John Smith  underwent a resection there. He was to be admitted to the NYU Langone Hospital for cystectomy. The patient was seen in Urology Clinic and Radiology Clinic on 02/04/2003. HOSPITAL COURSE:  Mr. John Smith presented to the Mount Sinai Hospital in anticipation for Urology surgery. On evaluation, EKG, echocardiogram was abnormal, a Cardiology consult was obtained.  Mr. John  Smith underwent a left heart catheterization, which revealed two vessel coronary artery disease.  Following intervention, Mr. John Smith was admitted to Cardiology Service the direction of Dr. Oliver Hart.  He was stable for discharge home on 02/07/2003 with instructions to take Plavix daily for one month and Urology is aware of the same. Mount Sinai Hospital, Madison Ave, New York, United States. Phone: (212)-455-1500.\"\"\"]\n"
      ]
    },
    {
      "cell_type": "code",
      "source": [
        "run_pipeline(model, sample_texts)"
      ],
      "metadata": {
        "colab": {
          "base_uri": "https://localhost:8080/",
          "height": 958
        },
        "id": "nzXPhi2VcVLV",
        "outputId": "24c9317d-92bd-428a-b034-650fc4869482"
      },
      "execution_count": 51,
      "outputs": [
        {
          "output_type": "stream",
          "name": "stdout",
          "text": [
            "embeddings_clinical download started this may take some time.\n",
            "Approximate size to download 1.6 GB\n",
            "[OK!]\n",
            "ner_deid_large download started this may take some time.\n",
            "[OK!]\n",
            "\n",
            "\n",
            "<----------------- MODEL NAME: \u001b[1mner_deid_large\u001b[0m  ----------------- >\n",
            "\n",
            "\n",
            "+--------------------+----------+\n",
            "|chunk               |ner_label |\n",
            "+--------------------+----------+\n",
            "|02-07-2003          |DATE      |\n",
            "|5247840             |ID        |\n",
            "|John Smith          |NAME      |\n",
            "|60                  |AGE       |\n",
            "|23/03/2001          |DATE      |\n",
            "|Mount Sinai Hospital|LOCATION  |\n",
            "|teacher             |PROFESSION|\n",
            "|John Smith          |NAME      |\n",
            "|NYU Langone Hospital|LOCATION  |\n",
            "|02/04/2003          |DATE      |\n",
            "|John Smith          |NAME      |\n",
            "|Mount Sinai Hospital|LOCATION  |\n",
            "|John  Smith         |NAME      |\n",
            "|John Smith          |NAME      |\n",
            "|Oliver Hart         |NAME      |\n",
            "|02/07/2003          |DATE      |\n",
            "|Mount Sinai Hospital|LOCATION  |\n",
            "|Madison Ave         |LOCATION  |\n",
            "|New York            |LOCATION  |\n",
            "|United States       |LOCATION  |\n",
            "+--------------------+----------+\n",
            "only showing top 20 rows\n",
            "\n",
            "\n",
            "\n"
          ]
        },
        {
          "output_type": "display_data",
          "data": {
            "text/plain": [
              "<IPython.core.display.HTML object>"
            ],
            "text/html": [
              "\n",
              "<style>\n",
              "    @import url('https://fonts.googleapis.com/css2?family=Montserrat:wght@300;400;500;600;700&display=swap');\n",
              "    @import url('https://fonts.googleapis.com/css2?family=Vistol Regular:wght@300;400;500;600;700&display=swap');\n",
              "    \n",
              "    .spark-nlp-display-scroll-entities {\n",
              "        border: 1px solid #E7EDF0;\n",
              "        border-radius: 3px;\n",
              "        text-align: justify;\n",
              "        \n",
              "    }\n",
              "    .spark-nlp-display-scroll-entities span {  \n",
              "        font-size: 14px;\n",
              "        line-height: 24px;\n",
              "        color: #536B76;\n",
              "        font-family: 'Montserrat', sans-serif !important;\n",
              "    }\n",
              "    \n",
              "    .spark-nlp-display-entity-wrapper{\n",
              "    \n",
              "        display: inline-grid;\n",
              "        text-align: center;\n",
              "        border-radius: 4px;\n",
              "        margin: 0 2px 5px 2px;\n",
              "        padding: 1px\n",
              "    }\n",
              "    .spark-nlp-display-entity-name{\n",
              "        font-size: 14px;\n",
              "        line-height: 24px;\n",
              "        font-family: 'Montserrat', sans-serif !important;\n",
              "        \n",
              "        background: #f1f2f3;\n",
              "        border-width: medium;\n",
              "        text-align: center;\n",
              "        \n",
              "        font-weight: 400;\n",
              "        \n",
              "        border-radius: 5px;\n",
              "        padding: 2px 5px;\n",
              "        display: block;\n",
              "        margin: 3px 2px;\n",
              "    \n",
              "    }\n",
              "    .spark-nlp-display-entity-type{\n",
              "        font-size: 14px;\n",
              "        line-height: 24px;\n",
              "        color: #ffffff;\n",
              "        font-family: 'Montserrat', sans-serif !important;\n",
              "        \n",
              "        text-transform: uppercase;\n",
              "        \n",
              "        font-weight: 500;\n",
              "\n",
              "        display: block;\n",
              "        padding: 3px 5px;\n",
              "    }\n",
              "    \n",
              "    .spark-nlp-display-entity-resolution{\n",
              "        font-size: 14px;\n",
              "        line-height: 24px;\n",
              "        color: #ffffff;\n",
              "        font-family: 'Vistol Regular', sans-serif !important;\n",
              "        \n",
              "        text-transform: uppercase;\n",
              "        \n",
              "        font-weight: 500;\n",
              "\n",
              "        display: block;\n",
              "        padding: 3px 5px;\n",
              "    }\n",
              "    \n",
              "    .spark-nlp-display-others{\n",
              "        font-size: 14px;\n",
              "        line-height: 24px;\n",
              "        font-family: 'Montserrat', sans-serif !important;\n",
              "        \n",
              "        font-weight: 400;\n",
              "    }\n",
              "\n",
              "</style>\n",
              " <span class=\"spark-nlp-display-others\" style=\"background-color: white\">Record date: </span><span class=\"spark-nlp-display-entity-wrapper\" style=\"background-color: #a6b1e1\"><span class=\"spark-nlp-display-entity-name\">02-07-2003 </span><span class=\"spark-nlp-display-entity-type\">DATE</span></span><span class=\"spark-nlp-display-others\" style=\"background-color: white\">. MR: </span><span class=\"spark-nlp-display-entity-wrapper\" style=\"background-color: #815654\"><span class=\"spark-nlp-display-entity-name\">5247840 </span><span class=\"spark-nlp-display-entity-type\">ID</span></span><span class=\"spark-nlp-display-others\" style=\"background-color: white\">. HISTORY OF PRESENT ILLNESS: Mr. </span><span class=\"spark-nlp-display-entity-wrapper\" style=\"background-color: #C0FF3E\"><span class=\"spark-nlp-display-entity-name\">John Smith </span><span class=\"spark-nlp-display-entity-type\">NAME</span></span><span class=\"spark-nlp-display-others\" style=\"background-color: white\"> is a </span><span class=\"spark-nlp-display-entity-wrapper\" style=\"background-color: #ffe0ac\"><span class=\"spark-nlp-display-entity-name\">60 </span><span class=\"spark-nlp-display-entity-type\">AGE</span></span><span class=\"spark-nlp-display-others\" style=\"background-color: white\"> years old white male veteran with multiple comorbidities, who has a history of bladder cancer diagnosed on </span><span class=\"spark-nlp-display-entity-wrapper\" style=\"background-color: #a6b1e1\"><span class=\"spark-nlp-display-entity-name\">23/03/2001 </span><span class=\"spark-nlp-display-entity-type\">DATE</span></span><span class=\"spark-nlp-display-others\" style=\"background-color: white\"> by the </span><span class=\"spark-nlp-display-entity-wrapper\" style=\"background-color: #4BC226\"><span class=\"spark-nlp-display-entity-name\">Mount Sinai Hospital </span><span class=\"spark-nlp-display-entity-type\">LOCATION</span></span><span class=\"spark-nlp-display-others\" style=\"background-color: white\">. He work as a </span><span class=\"spark-nlp-display-entity-wrapper\" style=\"background-color: #A21B37\"><span class=\"spark-nlp-display-entity-name\">teacher </span><span class=\"spark-nlp-display-entity-type\">PROFESSION</span></span><span class=\"spark-nlp-display-others\" style=\"background-color: white\">. Mr. </span><span class=\"spark-nlp-display-entity-wrapper\" style=\"background-color: #C0FF3E\"><span class=\"spark-nlp-display-entity-name\">John Smith </span><span class=\"spark-nlp-display-entity-type\">NAME</span></span><span class=\"spark-nlp-display-others\" style=\"background-color: white\">  underwent a resection there. He was to be admitted to the </span><span class=\"spark-nlp-display-entity-wrapper\" style=\"background-color: #4BC226\"><span class=\"spark-nlp-display-entity-name\">NYU Langone Hospital </span><span class=\"spark-nlp-display-entity-type\">LOCATION</span></span><span class=\"spark-nlp-display-others\" style=\"background-color: white\"> for cystectomy. The patient was seen in Urology Clinic and Radiology Clinic on </span><span class=\"spark-nlp-display-entity-wrapper\" style=\"background-color: #a6b1e1\"><span class=\"spark-nlp-display-entity-name\">02/04/2003 </span><span class=\"spark-nlp-display-entity-type\">DATE</span></span><span class=\"spark-nlp-display-others\" style=\"background-color: white\">. HOSPITAL COURSE:  Mr. </span><span class=\"spark-nlp-display-entity-wrapper\" style=\"background-color: #C0FF3E\"><span class=\"spark-nlp-display-entity-name\">John Smith </span><span class=\"spark-nlp-display-entity-type\">NAME</span></span><span class=\"spark-nlp-display-others\" style=\"background-color: white\"> presented to the </span><span class=\"spark-nlp-display-entity-wrapper\" style=\"background-color: #4BC226\"><span class=\"spark-nlp-display-entity-name\">Mount Sinai Hospital </span><span class=\"spark-nlp-display-entity-type\">LOCATION</span></span><span class=\"spark-nlp-display-others\" style=\"background-color: white\"> in anticipation for Urology surgery. On evaluation, EKG, echocardiogram was abnormal, a Cardiology consult was obtained.  Mr. </span><span class=\"spark-nlp-display-entity-wrapper\" style=\"background-color: #C0FF3E\"><span class=\"spark-nlp-display-entity-name\">John  Smith </span><span class=\"spark-nlp-display-entity-type\">NAME</span></span><span class=\"spark-nlp-display-others\" style=\"background-color: white\"> underwent a left heart catheterization, which revealed two vessel coronary artery disease.  Following intervention, Mr. </span><span class=\"spark-nlp-display-entity-wrapper\" style=\"background-color: #C0FF3E\"><span class=\"spark-nlp-display-entity-name\">John Smith </span><span class=\"spark-nlp-display-entity-type\">NAME</span></span><span class=\"spark-nlp-display-others\" style=\"background-color: white\"> was admitted to Cardiology Service the direction of Dr. </span><span class=\"spark-nlp-display-entity-wrapper\" style=\"background-color: #C0FF3E\"><span class=\"spark-nlp-display-entity-name\">Oliver Hart </span><span class=\"spark-nlp-display-entity-type\">NAME</span></span><span class=\"spark-nlp-display-others\" style=\"background-color: white\">.  He was stable for discharge home on </span><span class=\"spark-nlp-display-entity-wrapper\" style=\"background-color: #a6b1e1\"><span class=\"spark-nlp-display-entity-name\">02/07/2003 </span><span class=\"spark-nlp-display-entity-type\">DATE</span></span><span class=\"spark-nlp-display-others\" style=\"background-color: white\"> with instructions to take Plavix daily for one month and Urology is aware of the same. </span><span class=\"spark-nlp-display-entity-wrapper\" style=\"background-color: #4BC226\"><span class=\"spark-nlp-display-entity-name\">Mount Sinai Hospital </span><span class=\"spark-nlp-display-entity-type\">LOCATION</span></span><span class=\"spark-nlp-display-others\" style=\"background-color: white\">, </span><span class=\"spark-nlp-display-entity-wrapper\" style=\"background-color: #4BC226\"><span class=\"spark-nlp-display-entity-name\">Madison Ave </span><span class=\"spark-nlp-display-entity-type\">LOCATION</span></span><span class=\"spark-nlp-display-others\" style=\"background-color: white\">, </span><span class=\"spark-nlp-display-entity-wrapper\" style=\"background-color: #4BC226\"><span class=\"spark-nlp-display-entity-name\">New York </span><span class=\"spark-nlp-display-entity-type\">LOCATION</span></span><span class=\"spark-nlp-display-others\" style=\"background-color: white\">, </span><span class=\"spark-nlp-display-entity-wrapper\" style=\"background-color: #4BC226\"><span class=\"spark-nlp-display-entity-name\">United States </span><span class=\"spark-nlp-display-entity-type\">LOCATION</span></span><span class=\"spark-nlp-display-others\" style=\"background-color: white\">. Phone: </span><span class=\"spark-nlp-display-entity-wrapper\" style=\"background-color: #1430A4\"><span class=\"spark-nlp-display-entity-name\">(212)-455-1500 </span><span class=\"spark-nlp-display-entity-type\">CONTACT</span></span><span class=\"spark-nlp-display-others\" style=\"background-color: white\">.</span></div>"
            ]
          },
          "metadata": {}
        }
      ]
    },
    {
      "cell_type": "markdown",
      "source": [
        "## **🚩 ner_deid_generic_augmented**"
      ],
      "metadata": {
        "id": "kO37IaPacwSY"
      }
    },
    {
      "cell_type": "code",
      "source": [
        "model = 'ner_deid_generic_augmented'"
      ],
      "metadata": {
        "id": "-GAvhkFwdWug"
      },
      "execution_count": 52,
      "outputs": []
    },
    {
      "cell_type": "code",
      "source": [
        "sample_texts = [\n",
        "\"\"\"Record date: 08-24-2007. MSW : 5067003218. Mrs. Liam Davis is a 61-year-old , born in Los Angeles, white female status post right total knee replacement secondary to degenerative joint disease performed by Dr. Anderson Johnson and Dr. Amelia Martinez at Emory University Hospital on 08/21/2007. The patient was transfused with 2 units of autologous blood postoperatively. She received DVT prophylaxis with a combination of Coumadin, Lovenox, SCD boots, and TED stockings. The remainder of her postoperative course was uneventful. Mrs. Liam Davis was discharged on 08/24/2007 from Emory University Hospital. The patient reports that her last bowel movement was on 08/24/2007 just prior to her discharge from Emory University Hospital. She denies any urological symptoms such as dysuria, incomplete bladder emptying or other voiding difficulties. Mrs. Liam Davis reports having some right knee pain, which is most intense at a \"certain position\". Mrs. Liam Davis is unable to elaborate on which \"certain position\" causes her the most discomfort. Emory University Hospital. 75 Francis St, Boston. Phone: 617-732-5500\"\"\"\n",
        "]"
      ],
      "metadata": {
        "id": "hzMhansFdWrz"
      },
      "execution_count": 53,
      "outputs": []
    },
    {
      "cell_type": "code",
      "source": [
        "run_pipeline(model, sample_texts)"
      ],
      "metadata": {
        "colab": {
          "base_uri": "https://localhost:8080/",
          "height": 994
        },
        "id": "cOYYz9dLdWpF",
        "outputId": "877ac3eb-62c8-44ce-c1cb-369234c26dc4"
      },
      "execution_count": 54,
      "outputs": [
        {
          "output_type": "stream",
          "name": "stdout",
          "text": [
            "embeddings_clinical download started this may take some time.\n",
            "Approximate size to download 1.6 GB\n",
            "[OK!]\n",
            "ner_deid_generic_augmented download started this may take some time.\n",
            "[OK!]\n",
            "\n",
            "\n",
            "<----------------- MODEL NAME: \u001b[1mner_deid_generic_augmented\u001b[0m  ----------------- >\n",
            "\n",
            "\n",
            "+----------------------------------------+---------+\n",
            "|chunk                                   |ner_label|\n",
            "+----------------------------------------+---------+\n",
            "|08-24-2007                              |DATE     |\n",
            "|5067003218                              |ID       |\n",
            "|Liam Davis                              |NAME     |\n",
            "|61-year-old                             |AGE      |\n",
            "|Los Angeles                             |LOCATION |\n",
            "|Anderson Johnson                        |NAME     |\n",
            "|Amelia Martinez                         |NAME     |\n",
            "|Emory University Hospital               |LOCATION |\n",
            "|08/21/2007                              |DATE     |\n",
            "|Liam Davis                              |NAME     |\n",
            "|08/24/2007                              |DATE     |\n",
            "|Emory University Hospital               |LOCATION |\n",
            "|08/24/2007                              |DATE     |\n",
            "|Emory University Hospital               |LOCATION |\n",
            "|Liam Davis                              |NAME     |\n",
            "|Liam Davis                              |NAME     |\n",
            "|Emory University Hospital. 75 Francis St|LOCATION |\n",
            "|Boston                                  |LOCATION |\n",
            "|617-732-5500                            |CONTACT  |\n",
            "+----------------------------------------+---------+\n",
            "\n",
            "\n",
            "\n"
          ]
        },
        {
          "output_type": "display_data",
          "data": {
            "text/plain": [
              "<IPython.core.display.HTML object>"
            ],
            "text/html": [
              "\n",
              "<style>\n",
              "    @import url('https://fonts.googleapis.com/css2?family=Montserrat:wght@300;400;500;600;700&display=swap');\n",
              "    @import url('https://fonts.googleapis.com/css2?family=Vistol Regular:wght@300;400;500;600;700&display=swap');\n",
              "    \n",
              "    .spark-nlp-display-scroll-entities {\n",
              "        border: 1px solid #E7EDF0;\n",
              "        border-radius: 3px;\n",
              "        text-align: justify;\n",
              "        \n",
              "    }\n",
              "    .spark-nlp-display-scroll-entities span {  \n",
              "        font-size: 14px;\n",
              "        line-height: 24px;\n",
              "        color: #536B76;\n",
              "        font-family: 'Montserrat', sans-serif !important;\n",
              "    }\n",
              "    \n",
              "    .spark-nlp-display-entity-wrapper{\n",
              "    \n",
              "        display: inline-grid;\n",
              "        text-align: center;\n",
              "        border-radius: 4px;\n",
              "        margin: 0 2px 5px 2px;\n",
              "        padding: 1px\n",
              "    }\n",
              "    .spark-nlp-display-entity-name{\n",
              "        font-size: 14px;\n",
              "        line-height: 24px;\n",
              "        font-family: 'Montserrat', sans-serif !important;\n",
              "        \n",
              "        background: #f1f2f3;\n",
              "        border-width: medium;\n",
              "        text-align: center;\n",
              "        \n",
              "        font-weight: 400;\n",
              "        \n",
              "        border-radius: 5px;\n",
              "        padding: 2px 5px;\n",
              "        display: block;\n",
              "        margin: 3px 2px;\n",
              "    \n",
              "    }\n",
              "    .spark-nlp-display-entity-type{\n",
              "        font-size: 14px;\n",
              "        line-height: 24px;\n",
              "        color: #ffffff;\n",
              "        font-family: 'Montserrat', sans-serif !important;\n",
              "        \n",
              "        text-transform: uppercase;\n",
              "        \n",
              "        font-weight: 500;\n",
              "\n",
              "        display: block;\n",
              "        padding: 3px 5px;\n",
              "    }\n",
              "    \n",
              "    .spark-nlp-display-entity-resolution{\n",
              "        font-size: 14px;\n",
              "        line-height: 24px;\n",
              "        color: #ffffff;\n",
              "        font-family: 'Vistol Regular', sans-serif !important;\n",
              "        \n",
              "        text-transform: uppercase;\n",
              "        \n",
              "        font-weight: 500;\n",
              "\n",
              "        display: block;\n",
              "        padding: 3px 5px;\n",
              "    }\n",
              "    \n",
              "    .spark-nlp-display-others{\n",
              "        font-size: 14px;\n",
              "        line-height: 24px;\n",
              "        font-family: 'Montserrat', sans-serif !important;\n",
              "        \n",
              "        font-weight: 400;\n",
              "    }\n",
              "\n",
              "</style>\n",
              " <span class=\"spark-nlp-display-others\" style=\"background-color: white\">Record date: </span><span class=\"spark-nlp-display-entity-wrapper\" style=\"background-color: #a6b1e1\"><span class=\"spark-nlp-display-entity-name\">08-24-2007 </span><span class=\"spark-nlp-display-entity-type\">DATE</span></span><span class=\"spark-nlp-display-others\" style=\"background-color: white\">. MSW : </span><span class=\"spark-nlp-display-entity-wrapper\" style=\"background-color: #80BA54\"><span class=\"spark-nlp-display-entity-name\">5067003218 </span><span class=\"spark-nlp-display-entity-type\">ID</span></span><span class=\"spark-nlp-display-others\" style=\"background-color: white\">. Mrs. </span><span class=\"spark-nlp-display-entity-wrapper\" style=\"background-color: #C0FF3E\"><span class=\"spark-nlp-display-entity-name\">Liam Davis </span><span class=\"spark-nlp-display-entity-type\">NAME</span></span><span class=\"spark-nlp-display-others\" style=\"background-color: white\"> is a </span><span class=\"spark-nlp-display-entity-wrapper\" style=\"background-color: #ffe0ac\"><span class=\"spark-nlp-display-entity-name\">61-year-old </span><span class=\"spark-nlp-display-entity-type\">AGE</span></span><span class=\"spark-nlp-display-others\" style=\"background-color: white\"> , born in </span><span class=\"spark-nlp-display-entity-wrapper\" style=\"background-color: #900F1D\"><span class=\"spark-nlp-display-entity-name\">Los Angeles </span><span class=\"spark-nlp-display-entity-type\">LOCATION</span></span><span class=\"spark-nlp-display-others\" style=\"background-color: white\">, white female status post right total knee replacement secondary to degenerative joint disease performed by Dr. </span><span class=\"spark-nlp-display-entity-wrapper\" style=\"background-color: #C0FF3E\"><span class=\"spark-nlp-display-entity-name\">Anderson Johnson </span><span class=\"spark-nlp-display-entity-type\">NAME</span></span><span class=\"spark-nlp-display-others\" style=\"background-color: white\"> and Dr. </span><span class=\"spark-nlp-display-entity-wrapper\" style=\"background-color: #C0FF3E\"><span class=\"spark-nlp-display-entity-name\">Amelia Martinez </span><span class=\"spark-nlp-display-entity-type\">NAME</span></span><span class=\"spark-nlp-display-others\" style=\"background-color: white\"> at </span><span class=\"spark-nlp-display-entity-wrapper\" style=\"background-color: #900F1D\"><span class=\"spark-nlp-display-entity-name\">Emory University Hospital </span><span class=\"spark-nlp-display-entity-type\">LOCATION</span></span><span class=\"spark-nlp-display-others\" style=\"background-color: white\"> on </span><span class=\"spark-nlp-display-entity-wrapper\" style=\"background-color: #a6b1e1\"><span class=\"spark-nlp-display-entity-name\">08/21/2007 </span><span class=\"spark-nlp-display-entity-type\">DATE</span></span><span class=\"spark-nlp-display-others\" style=\"background-color: white\">. The patient was transfused with 2 units of autologous blood postoperatively. She received DVT prophylaxis with a combination of Coumadin, Lovenox, SCD boots, and TED stockings. The remainder of her postoperative course was uneventful. Mrs. </span><span class=\"spark-nlp-display-entity-wrapper\" style=\"background-color: #C0FF3E\"><span class=\"spark-nlp-display-entity-name\">Liam Davis </span><span class=\"spark-nlp-display-entity-type\">NAME</span></span><span class=\"spark-nlp-display-others\" style=\"background-color: white\"> was discharged on </span><span class=\"spark-nlp-display-entity-wrapper\" style=\"background-color: #a6b1e1\"><span class=\"spark-nlp-display-entity-name\">08/24/2007 </span><span class=\"spark-nlp-display-entity-type\">DATE</span></span><span class=\"spark-nlp-display-others\" style=\"background-color: white\"> from </span><span class=\"spark-nlp-display-entity-wrapper\" style=\"background-color: #900F1D\"><span class=\"spark-nlp-display-entity-name\">Emory University Hospital </span><span class=\"spark-nlp-display-entity-type\">LOCATION</span></span><span class=\"spark-nlp-display-others\" style=\"background-color: white\">. The patient reports that her last bowel movement was on </span><span class=\"spark-nlp-display-entity-wrapper\" style=\"background-color: #a6b1e1\"><span class=\"spark-nlp-display-entity-name\">08/24/2007 </span><span class=\"spark-nlp-display-entity-type\">DATE</span></span><span class=\"spark-nlp-display-others\" style=\"background-color: white\"> just prior to her discharge from </span><span class=\"spark-nlp-display-entity-wrapper\" style=\"background-color: #900F1D\"><span class=\"spark-nlp-display-entity-name\">Emory University Hospital </span><span class=\"spark-nlp-display-entity-type\">LOCATION</span></span><span class=\"spark-nlp-display-others\" style=\"background-color: white\">. She denies any urological symptoms such as dysuria, incomplete bladder emptying or other voiding difficulties. Mrs. </span><span class=\"spark-nlp-display-entity-wrapper\" style=\"background-color: #C0FF3E\"><span class=\"spark-nlp-display-entity-name\">Liam Davis </span><span class=\"spark-nlp-display-entity-type\">NAME</span></span><span class=\"spark-nlp-display-others\" style=\"background-color: white\"> reports having some right knee pain, which is most intense at a \"certain position\". Mrs. </span><span class=\"spark-nlp-display-entity-wrapper\" style=\"background-color: #C0FF3E\"><span class=\"spark-nlp-display-entity-name\">Liam Davis </span><span class=\"spark-nlp-display-entity-type\">NAME</span></span><span class=\"spark-nlp-display-others\" style=\"background-color: white\"> is unable to elaborate on which \"certain position\" causes her the most discomfort. </span><span class=\"spark-nlp-display-entity-wrapper\" style=\"background-color: #900F1D\"><span class=\"spark-nlp-display-entity-name\">Emory University Hospital. 75 Francis St </span><span class=\"spark-nlp-display-entity-type\">LOCATION</span></span><span class=\"spark-nlp-display-others\" style=\"background-color: white\">, </span><span class=\"spark-nlp-display-entity-wrapper\" style=\"background-color: #900F1D\"><span class=\"spark-nlp-display-entity-name\">Boston </span><span class=\"spark-nlp-display-entity-type\">LOCATION</span></span><span class=\"spark-nlp-display-others\" style=\"background-color: white\">. Phone: </span><span class=\"spark-nlp-display-entity-wrapper\" style=\"background-color: #410534\"><span class=\"spark-nlp-display-entity-name\">617-732-5500 </span><span class=\"spark-nlp-display-entity-type\">CONTACT</span></span></div>"
            ]
          },
          "metadata": {}
        }
      ]
    },
    {
      "cell_type": "markdown",
      "source": [
        "## 🚩 **ner_deid_subentity_augmented**"
      ],
      "metadata": {
        "id": "OPJpofLsdlcv"
      }
    },
    {
      "cell_type": "code",
      "source": [
        "model = \"ner_deid_subentity_augmented\""
      ],
      "metadata": {
        "id": "fTgSrFUldp_E"
      },
      "execution_count": 55,
      "outputs": []
    },
    {
      "cell_type": "code",
      "source": [
        "sample_text = [\n",
        "\"\"\"Record date: 02-07-2003. MR: 5247840. HISTORY OF PRESENT ILLNESS: Mr. John Smith is a 60-year-old white male veteran with multiple comorbidities, who has a history of bladder cancer diagnosed on 23/03/2001 by the Mount Sinai Hospital.  He underwent a resection there. The patient was to be admitted to the NYU Langone Hospital for cystectomy. He was seen in Urology Clinic and Radiology Clinic on 02/04/2003. HOSPITAL COURSE:  Mr. John Smith presented to the Mount Sinai Hospital in anticipation for Urology surgery. On evaluation, EKG, echocardiogram was abnormal, a Cardiology consult was obtained.  The patient underwent a left heart catheterization, which revealed two vessel coronary artery disease.  Following intervention, Mr. John Smith was admitted to Cardiology Service the direction of Dr. Oliver Hart.  He  was stable for discharge home on 02/07/2003 with instructions to take Plavix daily for one month and Urology is aware of the same. Mount Sinai Hospital 1468 Madison Ave, New York, United States. Phone: 212-241-6500. Email: jdoe@mountsinai.org.\"\"\"\n",
        "]"
      ],
      "metadata": {
        "id": "lTH10dL-dp8_"
      },
      "execution_count": 56,
      "outputs": []
    },
    {
      "cell_type": "code",
      "source": [
        "run_pipeline(model, sample_text)"
      ],
      "metadata": {
        "colab": {
          "base_uri": "https://localhost:8080/",
          "height": 924
        },
        "id": "OQDx-g1Ldp6E",
        "outputId": "1778762d-981c-4abe-963f-c10d876abd9b"
      },
      "execution_count": 57,
      "outputs": [
        {
          "output_type": "stream",
          "name": "stdout",
          "text": [
            "embeddings_clinical download started this may take some time.\n",
            "Approximate size to download 1.6 GB\n",
            "[OK!]\n",
            "ner_deid_subentity_augmented download started this may take some time.\n",
            "[OK!]\n",
            "\n",
            "\n",
            "<----------------- MODEL NAME: \u001b[1mner_deid_subentity_augmented\u001b[0m  ----------------- >\n",
            "\n",
            "\n",
            "+--------------------+-------------+\n",
            "|chunk               |ner_label    |\n",
            "+--------------------+-------------+\n",
            "|02-07-2003          |DATE         |\n",
            "|5247840             |MEDICALRECORD|\n",
            "|John Smith          |PATIENT      |\n",
            "|60-year-old         |AGE          |\n",
            "|23/03/2001          |DATE         |\n",
            "|Mount Sinai Hospital|HOSPITAL     |\n",
            "|NYU Langone Hospital|HOSPITAL     |\n",
            "|02/04/2003          |DATE         |\n",
            "|John Smith          |PATIENT      |\n",
            "|Mount Sinai Hospital|HOSPITAL     |\n",
            "|John Smith          |PATIENT      |\n",
            "|Oliver Hart         |DOCTOR       |\n",
            "|02/07/2003          |DATE         |\n",
            "|Mount Sinai Hospital|HOSPITAL     |\n",
            "|1468 Madison Ave    |STREET       |\n",
            "|New York            |CITY         |\n",
            "|United States       |COUNTRY      |\n",
            "|212-241-6500        |PHONE        |\n",
            "|jdoe@mountsinai.org |EMAIL        |\n",
            "+--------------------+-------------+\n",
            "\n",
            "\n",
            "\n"
          ]
        },
        {
          "output_type": "display_data",
          "data": {
            "text/plain": [
              "<IPython.core.display.HTML object>"
            ],
            "text/html": [
              "\n",
              "<style>\n",
              "    @import url('https://fonts.googleapis.com/css2?family=Montserrat:wght@300;400;500;600;700&display=swap');\n",
              "    @import url('https://fonts.googleapis.com/css2?family=Vistol Regular:wght@300;400;500;600;700&display=swap');\n",
              "    \n",
              "    .spark-nlp-display-scroll-entities {\n",
              "        border: 1px solid #E7EDF0;\n",
              "        border-radius: 3px;\n",
              "        text-align: justify;\n",
              "        \n",
              "    }\n",
              "    .spark-nlp-display-scroll-entities span {  \n",
              "        font-size: 14px;\n",
              "        line-height: 24px;\n",
              "        color: #536B76;\n",
              "        font-family: 'Montserrat', sans-serif !important;\n",
              "    }\n",
              "    \n",
              "    .spark-nlp-display-entity-wrapper{\n",
              "    \n",
              "        display: inline-grid;\n",
              "        text-align: center;\n",
              "        border-radius: 4px;\n",
              "        margin: 0 2px 5px 2px;\n",
              "        padding: 1px\n",
              "    }\n",
              "    .spark-nlp-display-entity-name{\n",
              "        font-size: 14px;\n",
              "        line-height: 24px;\n",
              "        font-family: 'Montserrat', sans-serif !important;\n",
              "        \n",
              "        background: #f1f2f3;\n",
              "        border-width: medium;\n",
              "        text-align: center;\n",
              "        \n",
              "        font-weight: 400;\n",
              "        \n",
              "        border-radius: 5px;\n",
              "        padding: 2px 5px;\n",
              "        display: block;\n",
              "        margin: 3px 2px;\n",
              "    \n",
              "    }\n",
              "    .spark-nlp-display-entity-type{\n",
              "        font-size: 14px;\n",
              "        line-height: 24px;\n",
              "        color: #ffffff;\n",
              "        font-family: 'Montserrat', sans-serif !important;\n",
              "        \n",
              "        text-transform: uppercase;\n",
              "        \n",
              "        font-weight: 500;\n",
              "\n",
              "        display: block;\n",
              "        padding: 3px 5px;\n",
              "    }\n",
              "    \n",
              "    .spark-nlp-display-entity-resolution{\n",
              "        font-size: 14px;\n",
              "        line-height: 24px;\n",
              "        color: #ffffff;\n",
              "        font-family: 'Vistol Regular', sans-serif !important;\n",
              "        \n",
              "        text-transform: uppercase;\n",
              "        \n",
              "        font-weight: 500;\n",
              "\n",
              "        display: block;\n",
              "        padding: 3px 5px;\n",
              "    }\n",
              "    \n",
              "    .spark-nlp-display-others{\n",
              "        font-size: 14px;\n",
              "        line-height: 24px;\n",
              "        font-family: 'Montserrat', sans-serif !important;\n",
              "        \n",
              "        font-weight: 400;\n",
              "    }\n",
              "\n",
              "</style>\n",
              " <span class=\"spark-nlp-display-others\" style=\"background-color: white\">Record date: </span><span class=\"spark-nlp-display-entity-wrapper\" style=\"background-color: #a6b1e1\"><span class=\"spark-nlp-display-entity-name\">02-07-2003 </span><span class=\"spark-nlp-display-entity-type\">DATE</span></span><span class=\"spark-nlp-display-others\" style=\"background-color: white\">. MR: </span><span class=\"spark-nlp-display-entity-wrapper\" style=\"background-color: #256FB4\"><span class=\"spark-nlp-display-entity-name\">5247840 </span><span class=\"spark-nlp-display-entity-type\">MEDICALRECORD</span></span><span class=\"spark-nlp-display-others\" style=\"background-color: white\">. HISTORY OF PRESENT ILLNESS: Mr. </span><span class=\"spark-nlp-display-entity-wrapper\" style=\"background-color: #07B25B\"><span class=\"spark-nlp-display-entity-name\">John Smith </span><span class=\"spark-nlp-display-entity-type\">PATIENT</span></span><span class=\"spark-nlp-display-others\" style=\"background-color: white\"> is a </span><span class=\"spark-nlp-display-entity-wrapper\" style=\"background-color: #ffe0ac\"><span class=\"spark-nlp-display-entity-name\">60-year-old </span><span class=\"spark-nlp-display-entity-type\">AGE</span></span><span class=\"spark-nlp-display-others\" style=\"background-color: white\"> white male veteran with multiple comorbidities, who has a history of bladder cancer diagnosed on </span><span class=\"spark-nlp-display-entity-wrapper\" style=\"background-color: #a6b1e1\"><span class=\"spark-nlp-display-entity-name\">23/03/2001 </span><span class=\"spark-nlp-display-entity-type\">DATE</span></span><span class=\"spark-nlp-display-others\" style=\"background-color: white\"> by the </span><span class=\"spark-nlp-display-entity-wrapper\" style=\"background-color: #AD6AC7\"><span class=\"spark-nlp-display-entity-name\">Mount Sinai Hospital </span><span class=\"spark-nlp-display-entity-type\">HOSPITAL</span></span><span class=\"spark-nlp-display-others\" style=\"background-color: white\">.  He underwent a resection there. The patient was to be admitted to the </span><span class=\"spark-nlp-display-entity-wrapper\" style=\"background-color: #AD6AC7\"><span class=\"spark-nlp-display-entity-name\">NYU Langone Hospital </span><span class=\"spark-nlp-display-entity-type\">HOSPITAL</span></span><span class=\"spark-nlp-display-others\" style=\"background-color: white\"> for cystectomy. He was seen in Urology Clinic and Radiology Clinic on </span><span class=\"spark-nlp-display-entity-wrapper\" style=\"background-color: #a6b1e1\"><span class=\"spark-nlp-display-entity-name\">02/04/2003 </span><span class=\"spark-nlp-display-entity-type\">DATE</span></span><span class=\"spark-nlp-display-others\" style=\"background-color: white\">. HOSPITAL COURSE:  Mr. </span><span class=\"spark-nlp-display-entity-wrapper\" style=\"background-color: #07B25B\"><span class=\"spark-nlp-display-entity-name\">John Smith </span><span class=\"spark-nlp-display-entity-type\">PATIENT</span></span><span class=\"spark-nlp-display-others\" style=\"background-color: white\"> presented to the </span><span class=\"spark-nlp-display-entity-wrapper\" style=\"background-color: #AD6AC7\"><span class=\"spark-nlp-display-entity-name\">Mount Sinai Hospital </span><span class=\"spark-nlp-display-entity-type\">HOSPITAL</span></span><span class=\"spark-nlp-display-others\" style=\"background-color: white\"> in anticipation for Urology surgery. On evaluation, EKG, echocardiogram was abnormal, a Cardiology consult was obtained.  The patient underwent a left heart catheterization, which revealed two vessel coronary artery disease.  Following intervention, Mr. </span><span class=\"spark-nlp-display-entity-wrapper\" style=\"background-color: #07B25B\"><span class=\"spark-nlp-display-entity-name\">John Smith </span><span class=\"spark-nlp-display-entity-type\">PATIENT</span></span><span class=\"spark-nlp-display-others\" style=\"background-color: white\"> was admitted to Cardiology Service the direction of Dr. </span><span class=\"spark-nlp-display-entity-wrapper\" style=\"background-color: #C56D26\"><span class=\"spark-nlp-display-entity-name\">Oliver Hart </span><span class=\"spark-nlp-display-entity-type\">DOCTOR</span></span><span class=\"spark-nlp-display-others\" style=\"background-color: white\">.  He  was stable for discharge home on </span><span class=\"spark-nlp-display-entity-wrapper\" style=\"background-color: #a6b1e1\"><span class=\"spark-nlp-display-entity-name\">02/07/2003 </span><span class=\"spark-nlp-display-entity-type\">DATE</span></span><span class=\"spark-nlp-display-others\" style=\"background-color: white\"> with instructions to take Plavix daily for one month and Urology is aware of the same. </span><span class=\"spark-nlp-display-entity-wrapper\" style=\"background-color: #AD6AC7\"><span class=\"spark-nlp-display-entity-name\">Mount Sinai Hospital </span><span class=\"spark-nlp-display-entity-type\">HOSPITAL</span></span><span class=\"spark-nlp-display-others\" style=\"background-color: white\"> </span><span class=\"spark-nlp-display-entity-wrapper\" style=\"background-color: #60718E\"><span class=\"spark-nlp-display-entity-name\">1468 Madison Ave </span><span class=\"spark-nlp-display-entity-type\">STREET</span></span><span class=\"spark-nlp-display-others\" style=\"background-color: white\">, </span><span class=\"spark-nlp-display-entity-wrapper\" style=\"background-color: #336401\"><span class=\"spark-nlp-display-entity-name\">New York </span><span class=\"spark-nlp-display-entity-type\">CITY</span></span><span class=\"spark-nlp-display-others\" style=\"background-color: white\">, </span><span class=\"spark-nlp-display-entity-wrapper\" style=\"background-color: #71915A\"><span class=\"spark-nlp-display-entity-name\">United States </span><span class=\"spark-nlp-display-entity-type\">COUNTRY</span></span><span class=\"spark-nlp-display-others\" style=\"background-color: white\">. Phone: </span><span class=\"spark-nlp-display-entity-wrapper\" style=\"background-color: #903E73\"><span class=\"spark-nlp-display-entity-name\">212-241-6500 </span><span class=\"spark-nlp-display-entity-type\">PHONE</span></span><span class=\"spark-nlp-display-others\" style=\"background-color: white\">. Email: </span><span class=\"spark-nlp-display-entity-wrapper\" style=\"background-color: #C39457\"><span class=\"spark-nlp-display-entity-name\">jdoe@mountsinai.org </span><span class=\"spark-nlp-display-entity-type\">EMAIL</span></span><span class=\"spark-nlp-display-others\" style=\"background-color: white\">.</span></div>"
            ]
          },
          "metadata": {}
        }
      ]
    },
    {
      "cell_type": "markdown",
      "source": [
        "## 🚩 **ner_deid_subentity_augmented_i2b2**"
      ],
      "metadata": {
        "id": "tc9iaPuDd2g2"
      }
    },
    {
      "cell_type": "code",
      "source": [
        "model = \"ner_deid_subentity_augmented_i2b2\""
      ],
      "metadata": {
        "id": "7A6Ecp37d8cl"
      },
      "execution_count": 58,
      "outputs": []
    },
    {
      "cell_type": "code",
      "source": [
        "sample_text = [\n",
        "\"\"\"Record date: 19-08-2014. MSW : 647390883. Mr. Noah Lee is a 48 year old, born in Houston, male with stage IV chronic kidney disease, likely secondary to HIV nephropathy who presents to clinic for followup having missed prior clinic appointments. He was last seen in the Northwestern Memorial Hospital on 05/29/2007 by Dr. Monroe Thompson. \n",
        "This is the first time that I have met the patient. The patient's history of renal insufficiency dates back to 06/2006 when he was hospitalized for an HIV-associated complication. He is unclear of the exact reason for his hospitalization at that time, but he was diagnosed with renal insufficiency and was followed in our Renal Clinic for approximately one year. \n",
        "Mr. Noah Lee had a baseline creatinine during that time of between 3.2 to 3.3. When he was initially diagnosed with renal insufficiency, he had been noncompliant with his HAART regimen. Since that time, he has been very compliant with treatment for his HIV and is seeing Dr. Jones Davis in our Scripps Memorial Hospital. Mr. Noah Lee is currently on three-drug antiretroviral therapy. His last CD4 count in 03/2008 was 350.  The latest blood work that I have is from 06/11/2008 and shows a serum creatinine of 3.8, which represents a GFR of 22 and a potassium of 5.9. \n",
        "The only complaint that the patient has at this time is some difficulty sleeping. He was given Ambien by Dr. Mia Wilson, but this has not helped significantly with his difficulty sleeping. Mr. Noah Lee says that he has trouble getting to sleep. The Ambien will allow him to sleep for about two hours, and then he is awake again. The patient is tired during the day, but is not taking any daytime naps. He has no history of excessive snoring or apneic periods. Mr. Noah Lee has no history of falling asleep at work or while driving. He has never had a formal sleep study. Mr. Noah Lee does continue to work in sales . Scripps Memorial Hospital. 9888 Genesee Ave,  USA . Phone: (858)-834-1798\"\"\"\n",
        "]"
      ],
      "metadata": {
        "id": "O_nY95LYd8aS"
      },
      "execution_count": 59,
      "outputs": []
    },
    {
      "cell_type": "code",
      "source": [
        "run_pipeline(model, sample_text)"
      ],
      "metadata": {
        "colab": {
          "base_uri": "https://localhost:8080/",
          "height": 1000
        },
        "id": "hKDmh6Wud8Xx",
        "outputId": "db4f9261-c89d-4a05-bde3-d41065127ebd"
      },
      "execution_count": 60,
      "outputs": [
        {
          "output_type": "stream",
          "name": "stdout",
          "text": [
            "embeddings_clinical download started this may take some time.\n",
            "Approximate size to download 1.6 GB\n",
            "[OK!]\n",
            "ner_deid_subentity_augmented_i2b2 download started this may take some time.\n",
            "[OK!]\n",
            "\n",
            "\n",
            "<----------------- MODEL NAME: \u001b[1mner_deid_subentity_augmented_i2b2\u001b[0m  ----------------- >\n",
            "\n",
            "\n",
            "+------------------------------+----------+\n",
            "|chunk                         |ner_label |\n",
            "+------------------------------+----------+\n",
            "|19-08-2014                    |DATE      |\n",
            "|647390883                     |IDNUM     |\n",
            "|Noah Lee                      |PATIENT   |\n",
            "|48                            |AGE       |\n",
            "|Houston                       |STATE     |\n",
            "|Northwestern Memorial Hospital|HOSPITAL  |\n",
            "|05/29/2007                    |DATE      |\n",
            "|Monroe Thompson               |DOCTOR    |\n",
            "|06/2006                       |DATE      |\n",
            "|Noah Lee                      |PATIENT   |\n",
            "|Jones Davis                   |DOCTOR    |\n",
            "|Scripps Memorial Hospital     |HOSPITAL  |\n",
            "|Noah Lee                      |PATIENT   |\n",
            "|03/2008                       |DATE      |\n",
            "|06/11/2008                    |DATE      |\n",
            "|Mia Wilson                    |DOCTOR    |\n",
            "|Noah Lee                      |PATIENT   |\n",
            "|Noah Lee                      |PATIENT   |\n",
            "|Noah Lee                      |PATIENT   |\n",
            "|sales                         |PROFESSION|\n",
            "+------------------------------+----------+\n",
            "only showing top 20 rows\n",
            "\n",
            "\n",
            "\n"
          ]
        },
        {
          "output_type": "display_data",
          "data": {
            "text/plain": [
              "<IPython.core.display.HTML object>"
            ],
            "text/html": [
              "\n",
              "<style>\n",
              "    @import url('https://fonts.googleapis.com/css2?family=Montserrat:wght@300;400;500;600;700&display=swap');\n",
              "    @import url('https://fonts.googleapis.com/css2?family=Vistol Regular:wght@300;400;500;600;700&display=swap');\n",
              "    \n",
              "    .spark-nlp-display-scroll-entities {\n",
              "        border: 1px solid #E7EDF0;\n",
              "        border-radius: 3px;\n",
              "        text-align: justify;\n",
              "        \n",
              "    }\n",
              "    .spark-nlp-display-scroll-entities span {  \n",
              "        font-size: 14px;\n",
              "        line-height: 24px;\n",
              "        color: #536B76;\n",
              "        font-family: 'Montserrat', sans-serif !important;\n",
              "    }\n",
              "    \n",
              "    .spark-nlp-display-entity-wrapper{\n",
              "    \n",
              "        display: inline-grid;\n",
              "        text-align: center;\n",
              "        border-radius: 4px;\n",
              "        margin: 0 2px 5px 2px;\n",
              "        padding: 1px\n",
              "    }\n",
              "    .spark-nlp-display-entity-name{\n",
              "        font-size: 14px;\n",
              "        line-height: 24px;\n",
              "        font-family: 'Montserrat', sans-serif !important;\n",
              "        \n",
              "        background: #f1f2f3;\n",
              "        border-width: medium;\n",
              "        text-align: center;\n",
              "        \n",
              "        font-weight: 400;\n",
              "        \n",
              "        border-radius: 5px;\n",
              "        padding: 2px 5px;\n",
              "        display: block;\n",
              "        margin: 3px 2px;\n",
              "    \n",
              "    }\n",
              "    .spark-nlp-display-entity-type{\n",
              "        font-size: 14px;\n",
              "        line-height: 24px;\n",
              "        color: #ffffff;\n",
              "        font-family: 'Montserrat', sans-serif !important;\n",
              "        \n",
              "        text-transform: uppercase;\n",
              "        \n",
              "        font-weight: 500;\n",
              "\n",
              "        display: block;\n",
              "        padding: 3px 5px;\n",
              "    }\n",
              "    \n",
              "    .spark-nlp-display-entity-resolution{\n",
              "        font-size: 14px;\n",
              "        line-height: 24px;\n",
              "        color: #ffffff;\n",
              "        font-family: 'Vistol Regular', sans-serif !important;\n",
              "        \n",
              "        text-transform: uppercase;\n",
              "        \n",
              "        font-weight: 500;\n",
              "\n",
              "        display: block;\n",
              "        padding: 3px 5px;\n",
              "    }\n",
              "    \n",
              "    .spark-nlp-display-others{\n",
              "        font-size: 14px;\n",
              "        line-height: 24px;\n",
              "        font-family: 'Montserrat', sans-serif !important;\n",
              "        \n",
              "        font-weight: 400;\n",
              "    }\n",
              "\n",
              "</style>\n",
              " <span class=\"spark-nlp-display-others\" style=\"background-color: white\">Record date: </span><span class=\"spark-nlp-display-entity-wrapper\" style=\"background-color: #a6b1e1\"><span class=\"spark-nlp-display-entity-name\">19-08-2014 </span><span class=\"spark-nlp-display-entity-type\">DATE</span></span><span class=\"spark-nlp-display-others\" style=\"background-color: white\">. MSW : </span><span class=\"spark-nlp-display-entity-wrapper\" style=\"background-color: #349F2C\"><span class=\"spark-nlp-display-entity-name\">647390883 </span><span class=\"spark-nlp-display-entity-type\">IDNUM</span></span><span class=\"spark-nlp-display-others\" style=\"background-color: white\">. Mr. </span><span class=\"spark-nlp-display-entity-wrapper\" style=\"background-color: #6CA95B\"><span class=\"spark-nlp-display-entity-name\">Noah Lee </span><span class=\"spark-nlp-display-entity-type\">PATIENT</span></span><span class=\"spark-nlp-display-others\" style=\"background-color: white\"> is a </span><span class=\"spark-nlp-display-entity-wrapper\" style=\"background-color: #ffe0ac\"><span class=\"spark-nlp-display-entity-name\">48 </span><span class=\"spark-nlp-display-entity-type\">AGE</span></span><span class=\"spark-nlp-display-others\" style=\"background-color: white\"> year old, born in </span><span class=\"spark-nlp-display-entity-wrapper\" style=\"background-color: #3B3289\"><span class=\"spark-nlp-display-entity-name\">Houston </span><span class=\"spark-nlp-display-entity-type\">STATE</span></span><span class=\"spark-nlp-display-others\" style=\"background-color: white\">, male with stage IV chronic kidney disease, likely secondary to HIV nephropathy who presents to clinic for followup having missed prior clinic appointments. He was last seen in the </span><span class=\"spark-nlp-display-entity-wrapper\" style=\"background-color: #BD9CAB\"><span class=\"spark-nlp-display-entity-name\">Northwestern Memorial Hospital </span><span class=\"spark-nlp-display-entity-type\">HOSPITAL</span></span><span class=\"spark-nlp-display-others\" style=\"background-color: white\"> on </span><span class=\"spark-nlp-display-entity-wrapper\" style=\"background-color: #a6b1e1\"><span class=\"spark-nlp-display-entity-name\">05/29/2007 </span><span class=\"spark-nlp-display-entity-type\">DATE</span></span><span class=\"spark-nlp-display-others\" style=\"background-color: white\"> by Dr. </span><span class=\"spark-nlp-display-entity-wrapper\" style=\"background-color: #B52A81\"><span class=\"spark-nlp-display-entity-name\">Monroe Thompson </span><span class=\"spark-nlp-display-entity-type\">DOCTOR</span></span><span class=\"spark-nlp-display-others\" style=\"background-color: white\">. <br>This is the first time that I have met the patient. The patient's history of renal insufficiency dates back to </span><span class=\"spark-nlp-display-entity-wrapper\" style=\"background-color: #a6b1e1\"><span class=\"spark-nlp-display-entity-name\">06/2006 </span><span class=\"spark-nlp-display-entity-type\">DATE</span></span><span class=\"spark-nlp-display-others\" style=\"background-color: white\"> when he was hospitalized for an HIV-associated complication. He is unclear of the exact reason for his hospitalization at that time, but he was diagnosed with renal insufficiency and was followed in our Renal Clinic for approximately one year. <br>Mr. </span><span class=\"spark-nlp-display-entity-wrapper\" style=\"background-color: #6CA95B\"><span class=\"spark-nlp-display-entity-name\">Noah Lee </span><span class=\"spark-nlp-display-entity-type\">PATIENT</span></span><span class=\"spark-nlp-display-others\" style=\"background-color: white\"> had a baseline creatinine during that time of between 3.2 to 3.3. When he was initially diagnosed with renal insufficiency, he had been noncompliant with his HAART regimen. Since that time, he has been very compliant with treatment for his HIV and is seeing Dr. </span><span class=\"spark-nlp-display-entity-wrapper\" style=\"background-color: #B52A81\"><span class=\"spark-nlp-display-entity-name\">Jones Davis </span><span class=\"spark-nlp-display-entity-type\">DOCTOR</span></span><span class=\"spark-nlp-display-others\" style=\"background-color: white\"> in our </span><span class=\"spark-nlp-display-entity-wrapper\" style=\"background-color: #BD9CAB\"><span class=\"spark-nlp-display-entity-name\">Scripps Memorial Hospital </span><span class=\"spark-nlp-display-entity-type\">HOSPITAL</span></span><span class=\"spark-nlp-display-others\" style=\"background-color: white\">. Mr. </span><span class=\"spark-nlp-display-entity-wrapper\" style=\"background-color: #6CA95B\"><span class=\"spark-nlp-display-entity-name\">Noah Lee </span><span class=\"spark-nlp-display-entity-type\">PATIENT</span></span><span class=\"spark-nlp-display-others\" style=\"background-color: white\"> is currently on three-drug antiretroviral therapy. His last CD4 count in </span><span class=\"spark-nlp-display-entity-wrapper\" style=\"background-color: #a6b1e1\"><span class=\"spark-nlp-display-entity-name\">03/2008 </span><span class=\"spark-nlp-display-entity-type\">DATE</span></span><span class=\"spark-nlp-display-others\" style=\"background-color: white\"> was 350.  The latest blood work that I have is from </span><span class=\"spark-nlp-display-entity-wrapper\" style=\"background-color: #a6b1e1\"><span class=\"spark-nlp-display-entity-name\">06/11/2008 </span><span class=\"spark-nlp-display-entity-type\">DATE</span></span><span class=\"spark-nlp-display-others\" style=\"background-color: white\"> and shows a serum creatinine of 3.8, which represents a GFR of 22 and a potassium of 5.9. <br>The only complaint that the patient has at this time is some difficulty sleeping. He was given Ambien by Dr. </span><span class=\"spark-nlp-display-entity-wrapper\" style=\"background-color: #B52A81\"><span class=\"spark-nlp-display-entity-name\">Mia Wilson </span><span class=\"spark-nlp-display-entity-type\">DOCTOR</span></span><span class=\"spark-nlp-display-others\" style=\"background-color: white\">, but this has not helped significantly with his difficulty sleeping. Mr. </span><span class=\"spark-nlp-display-entity-wrapper\" style=\"background-color: #6CA95B\"><span class=\"spark-nlp-display-entity-name\">Noah Lee </span><span class=\"spark-nlp-display-entity-type\">PATIENT</span></span><span class=\"spark-nlp-display-others\" style=\"background-color: white\"> says that he has trouble getting to sleep. The Ambien will allow him to sleep for about two hours, and then he is awake again. The patient is tired during the day, but is not taking any daytime naps. He has no history of excessive snoring or apneic periods. Mr. </span><span class=\"spark-nlp-display-entity-wrapper\" style=\"background-color: #6CA95B\"><span class=\"spark-nlp-display-entity-name\">Noah Lee </span><span class=\"spark-nlp-display-entity-type\">PATIENT</span></span><span class=\"spark-nlp-display-others\" style=\"background-color: white\"> has no history of falling asleep at work or while driving. He has never had a formal sleep study. Mr. </span><span class=\"spark-nlp-display-entity-wrapper\" style=\"background-color: #6CA95B\"><span class=\"spark-nlp-display-entity-name\">Noah Lee </span><span class=\"spark-nlp-display-entity-type\">PATIENT</span></span><span class=\"spark-nlp-display-others\" style=\"background-color: white\"> does continue to work in </span><span class=\"spark-nlp-display-entity-wrapper\" style=\"background-color: #43C8C1\"><span class=\"spark-nlp-display-entity-name\">sales </span><span class=\"spark-nlp-display-entity-type\">PROFESSION</span></span><span class=\"spark-nlp-display-others\" style=\"background-color: white\"> . </span><span class=\"spark-nlp-display-entity-wrapper\" style=\"background-color: #BD9CAB\"><span class=\"spark-nlp-display-entity-name\">Scripps Memorial Hospital </span><span class=\"spark-nlp-display-entity-type\">HOSPITAL</span></span><span class=\"spark-nlp-display-others\" style=\"background-color: white\">. </span><span class=\"spark-nlp-display-entity-wrapper\" style=\"background-color: #487830\"><span class=\"spark-nlp-display-entity-name\">9888 Genesee Ave </span><span class=\"spark-nlp-display-entity-type\">STREET</span></span><span class=\"spark-nlp-display-others\" style=\"background-color: white\">,  </span><span class=\"spark-nlp-display-entity-wrapper\" style=\"background-color: #3B3289\"><span class=\"spark-nlp-display-entity-name\">USA </span><span class=\"spark-nlp-display-entity-type\">STATE</span></span><span class=\"spark-nlp-display-others\" style=\"background-color: white\"> . Phone: </span><span class=\"spark-nlp-display-entity-wrapper\" style=\"background-color: #4DA6BE\"><span class=\"spark-nlp-display-entity-name\">(858)-834-1798 </span><span class=\"spark-nlp-display-entity-type\">PHONE</span></span></div>"
            ]
          },
          "metadata": {}
        }
      ]
    },
    {
      "cell_type": "markdown",
      "source": [
        "# 📍 Detect PHI for Deidentification with `glove_100d`"
      ],
      "metadata": {
        "id": "1OBfSHsIecnF"
      }
    },
    {
      "cell_type": "markdown",
      "source": [
        "## **🚩 ner_deid_generic_glove**"
      ],
      "metadata": {
        "id": "-thLCff0empA"
      }
    },
    {
      "cell_type": "code",
      "source": [
        "model = \"ner_deid_generic_glove\""
      ],
      "metadata": {
        "id": "Mmgys8BBelyY"
      },
      "execution_count": 61,
      "outputs": []
    },
    {
      "cell_type": "code",
      "source": [
        "sample_text = [\n",
        "\"\"\"Record date: 02-07-2003. MR: 5247840. HISTORY OF PRESENT ILLNESS: Mr. John Smith is a 60 year old white male, who has a history of bladder cancer diagnosed on 23/03/2001 by the Mount Sinai Hospital.  He underwent a resection there. He work as a journalist. The patient was to be admitted to the NYU Langone Hospital for cystectomy. He was seen in Urology Clinic and Radiology Clinic on 02/04/2003. HOSPITAL COURSE:  Mr. John Smith presented to the Mount Sinai Hospital in anticipation for Urology surgery. On evaluation, EKG, echocardiogram was abnormal, a Cardiology consult was obtained.  He underwent a left heart catheterization, which revealed two vessel coronary artery disease.  Following intervention, He was admitted to Cardiology Service the direction of Dr. Oliver Hart.  Mr. John Smith  was stable for discharge home on 02/07/2003 with instructions to take Plavix daily for one month and Urology is aware of the same. Mount Sinai Hospital 1468 Madison Ave, New York, USA. Phone : (212) 241-6500.\"\"\"\n",
        "]"
      ],
      "metadata": {
        "id": "L6VseTOPelve"
      },
      "execution_count": 62,
      "outputs": []
    },
    {
      "cell_type": "code",
      "source": [
        "run_pipeline(model, sample_text)"
      ],
      "metadata": {
        "colab": {
          "base_uri": "https://localhost:8080/",
          "height": 924
        },
        "id": "nb-pY2rZelmF",
        "outputId": "c22b3fb4-e07b-4d64-dcf3-c6284b7ae611"
      },
      "execution_count": 63,
      "outputs": [
        {
          "output_type": "stream",
          "name": "stdout",
          "text": [
            "glove_100d download started this may take some time.\n",
            "Approximate size to download 145.3 MB\n",
            "[OK!]\n",
            "ner_deid_generic_glove download started this may take some time.\n",
            "[OK!]\n",
            "\n",
            "\n",
            "<----------------- MODEL NAME: \u001b[1mner_deid_generic_glove\u001b[0m  ----------------- >\n",
            "\n",
            "\n",
            "+--------------------+----------+\n",
            "|chunk               |ner_label |\n",
            "+--------------------+----------+\n",
            "|02-07-2003          |DATE      |\n",
            "|5247840             |ID        |\n",
            "|John Smith          |NAME      |\n",
            "|60                  |AGE       |\n",
            "|23/03/2001          |DATE      |\n",
            "|Mount Sinai Hospital|LOCATION  |\n",
            "|journalist          |PROFESSION|\n",
            "|NYU Langone Hospital|LOCATION  |\n",
            "|02/04/2003          |DATE      |\n",
            "|John Smith          |NAME      |\n",
            "|Mount Sinai Hospital|LOCATION  |\n",
            "|Oliver Hart         |NAME      |\n",
            "|John Smith          |NAME      |\n",
            "|02/07/2003          |DATE      |\n",
            "|Mount Sinai Hospital|LOCATION  |\n",
            "|1468 Madison Ave    |LOCATION  |\n",
            "|New York            |LOCATION  |\n",
            "|USA                 |LOCATION  |\n",
            "|(212) 241-6500      |CONTACT   |\n",
            "+--------------------+----------+\n",
            "\n",
            "\n",
            "\n"
          ]
        },
        {
          "output_type": "display_data",
          "data": {
            "text/plain": [
              "<IPython.core.display.HTML object>"
            ],
            "text/html": [
              "\n",
              "<style>\n",
              "    @import url('https://fonts.googleapis.com/css2?family=Montserrat:wght@300;400;500;600;700&display=swap');\n",
              "    @import url('https://fonts.googleapis.com/css2?family=Vistol Regular:wght@300;400;500;600;700&display=swap');\n",
              "    \n",
              "    .spark-nlp-display-scroll-entities {\n",
              "        border: 1px solid #E7EDF0;\n",
              "        border-radius: 3px;\n",
              "        text-align: justify;\n",
              "        \n",
              "    }\n",
              "    .spark-nlp-display-scroll-entities span {  \n",
              "        font-size: 14px;\n",
              "        line-height: 24px;\n",
              "        color: #536B76;\n",
              "        font-family: 'Montserrat', sans-serif !important;\n",
              "    }\n",
              "    \n",
              "    .spark-nlp-display-entity-wrapper{\n",
              "    \n",
              "        display: inline-grid;\n",
              "        text-align: center;\n",
              "        border-radius: 4px;\n",
              "        margin: 0 2px 5px 2px;\n",
              "        padding: 1px\n",
              "    }\n",
              "    .spark-nlp-display-entity-name{\n",
              "        font-size: 14px;\n",
              "        line-height: 24px;\n",
              "        font-family: 'Montserrat', sans-serif !important;\n",
              "        \n",
              "        background: #f1f2f3;\n",
              "        border-width: medium;\n",
              "        text-align: center;\n",
              "        \n",
              "        font-weight: 400;\n",
              "        \n",
              "        border-radius: 5px;\n",
              "        padding: 2px 5px;\n",
              "        display: block;\n",
              "        margin: 3px 2px;\n",
              "    \n",
              "    }\n",
              "    .spark-nlp-display-entity-type{\n",
              "        font-size: 14px;\n",
              "        line-height: 24px;\n",
              "        color: #ffffff;\n",
              "        font-family: 'Montserrat', sans-serif !important;\n",
              "        \n",
              "        text-transform: uppercase;\n",
              "        \n",
              "        font-weight: 500;\n",
              "\n",
              "        display: block;\n",
              "        padding: 3px 5px;\n",
              "    }\n",
              "    \n",
              "    .spark-nlp-display-entity-resolution{\n",
              "        font-size: 14px;\n",
              "        line-height: 24px;\n",
              "        color: #ffffff;\n",
              "        font-family: 'Vistol Regular', sans-serif !important;\n",
              "        \n",
              "        text-transform: uppercase;\n",
              "        \n",
              "        font-weight: 500;\n",
              "\n",
              "        display: block;\n",
              "        padding: 3px 5px;\n",
              "    }\n",
              "    \n",
              "    .spark-nlp-display-others{\n",
              "        font-size: 14px;\n",
              "        line-height: 24px;\n",
              "        font-family: 'Montserrat', sans-serif !important;\n",
              "        \n",
              "        font-weight: 400;\n",
              "    }\n",
              "\n",
              "</style>\n",
              " <span class=\"spark-nlp-display-others\" style=\"background-color: white\">Record date: </span><span class=\"spark-nlp-display-entity-wrapper\" style=\"background-color: #a6b1e1\"><span class=\"spark-nlp-display-entity-name\">02-07-2003 </span><span class=\"spark-nlp-display-entity-type\">DATE</span></span><span class=\"spark-nlp-display-others\" style=\"background-color: white\">. MR: </span><span class=\"spark-nlp-display-entity-wrapper\" style=\"background-color: #6D6D9D\"><span class=\"spark-nlp-display-entity-name\">5247840 </span><span class=\"spark-nlp-display-entity-type\">ID</span></span><span class=\"spark-nlp-display-others\" style=\"background-color: white\">. HISTORY OF PRESENT ILLNESS: Mr. </span><span class=\"spark-nlp-display-entity-wrapper\" style=\"background-color: #C0FF3E\"><span class=\"spark-nlp-display-entity-name\">John Smith </span><span class=\"spark-nlp-display-entity-type\">NAME</span></span><span class=\"spark-nlp-display-others\" style=\"background-color: white\"> is a </span><span class=\"spark-nlp-display-entity-wrapper\" style=\"background-color: #ffe0ac\"><span class=\"spark-nlp-display-entity-name\">60 </span><span class=\"spark-nlp-display-entity-type\">AGE</span></span><span class=\"spark-nlp-display-others\" style=\"background-color: white\"> year old white male, who has a history of bladder cancer diagnosed on </span><span class=\"spark-nlp-display-entity-wrapper\" style=\"background-color: #a6b1e1\"><span class=\"spark-nlp-display-entity-name\">23/03/2001 </span><span class=\"spark-nlp-display-entity-type\">DATE</span></span><span class=\"spark-nlp-display-others\" style=\"background-color: white\"> by the </span><span class=\"spark-nlp-display-entity-wrapper\" style=\"background-color: #58BB7C\"><span class=\"spark-nlp-display-entity-name\">Mount Sinai Hospital </span><span class=\"spark-nlp-display-entity-type\">LOCATION</span></span><span class=\"spark-nlp-display-others\" style=\"background-color: white\">.  He underwent a resection there. He work as a </span><span class=\"spark-nlp-display-entity-wrapper\" style=\"background-color: #A36E06\"><span class=\"spark-nlp-display-entity-name\">journalist </span><span class=\"spark-nlp-display-entity-type\">PROFESSION</span></span><span class=\"spark-nlp-display-others\" style=\"background-color: white\">. The patient was to be admitted to the </span><span class=\"spark-nlp-display-entity-wrapper\" style=\"background-color: #58BB7C\"><span class=\"spark-nlp-display-entity-name\">NYU Langone Hospital </span><span class=\"spark-nlp-display-entity-type\">LOCATION</span></span><span class=\"spark-nlp-display-others\" style=\"background-color: white\"> for cystectomy. He was seen in Urology Clinic and Radiology Clinic on </span><span class=\"spark-nlp-display-entity-wrapper\" style=\"background-color: #a6b1e1\"><span class=\"spark-nlp-display-entity-name\">02/04/2003 </span><span class=\"spark-nlp-display-entity-type\">DATE</span></span><span class=\"spark-nlp-display-others\" style=\"background-color: white\">. HOSPITAL COURSE:  Mr. </span><span class=\"spark-nlp-display-entity-wrapper\" style=\"background-color: #C0FF3E\"><span class=\"spark-nlp-display-entity-name\">John Smith </span><span class=\"spark-nlp-display-entity-type\">NAME</span></span><span class=\"spark-nlp-display-others\" style=\"background-color: white\"> presented to the </span><span class=\"spark-nlp-display-entity-wrapper\" style=\"background-color: #58BB7C\"><span class=\"spark-nlp-display-entity-name\">Mount Sinai Hospital </span><span class=\"spark-nlp-display-entity-type\">LOCATION</span></span><span class=\"spark-nlp-display-others\" style=\"background-color: white\"> in anticipation for Urology surgery. On evaluation, EKG, echocardiogram was abnormal, a Cardiology consult was obtained.  He underwent a left heart catheterization, which revealed two vessel coronary artery disease.  Following intervention, He was admitted to Cardiology Service the direction of Dr. </span><span class=\"spark-nlp-display-entity-wrapper\" style=\"background-color: #C0FF3E\"><span class=\"spark-nlp-display-entity-name\">Oliver Hart </span><span class=\"spark-nlp-display-entity-type\">NAME</span></span><span class=\"spark-nlp-display-others\" style=\"background-color: white\">.  Mr. </span><span class=\"spark-nlp-display-entity-wrapper\" style=\"background-color: #C0FF3E\"><span class=\"spark-nlp-display-entity-name\">John Smith </span><span class=\"spark-nlp-display-entity-type\">NAME</span></span><span class=\"spark-nlp-display-others\" style=\"background-color: white\">  was stable for discharge home on </span><span class=\"spark-nlp-display-entity-wrapper\" style=\"background-color: #a6b1e1\"><span class=\"spark-nlp-display-entity-name\">02/07/2003 </span><span class=\"spark-nlp-display-entity-type\">DATE</span></span><span class=\"spark-nlp-display-others\" style=\"background-color: white\"> with instructions to take Plavix daily for one month and Urology is aware of the same. </span><span class=\"spark-nlp-display-entity-wrapper\" style=\"background-color: #58BB7C\"><span class=\"spark-nlp-display-entity-name\">Mount Sinai Hospital </span><span class=\"spark-nlp-display-entity-type\">LOCATION</span></span><span class=\"spark-nlp-display-others\" style=\"background-color: white\"> </span><span class=\"spark-nlp-display-entity-wrapper\" style=\"background-color: #58BB7C\"><span class=\"spark-nlp-display-entity-name\">1468 Madison Ave </span><span class=\"spark-nlp-display-entity-type\">LOCATION</span></span><span class=\"spark-nlp-display-others\" style=\"background-color: white\">, </span><span class=\"spark-nlp-display-entity-wrapper\" style=\"background-color: #58BB7C\"><span class=\"spark-nlp-display-entity-name\">New York </span><span class=\"spark-nlp-display-entity-type\">LOCATION</span></span><span class=\"spark-nlp-display-others\" style=\"background-color: white\">, </span><span class=\"spark-nlp-display-entity-wrapper\" style=\"background-color: #58BB7C\"><span class=\"spark-nlp-display-entity-name\">USA </span><span class=\"spark-nlp-display-entity-type\">LOCATION</span></span><span class=\"spark-nlp-display-others\" style=\"background-color: white\">. Phone : </span><span class=\"spark-nlp-display-entity-wrapper\" style=\"background-color: #8F3298\"><span class=\"spark-nlp-display-entity-name\">(212) 241-6500 </span><span class=\"spark-nlp-display-entity-type\">CONTACT</span></span><span class=\"spark-nlp-display-others\" style=\"background-color: white\">.</span></div>"
            ]
          },
          "metadata": {}
        }
      ]
    },
    {
      "cell_type": "markdown",
      "source": [
        "## **🚩 ner_deid_subentity_glove**"
      ],
      "metadata": {
        "id": "DSYcS8EbghZl"
      }
    },
    {
      "cell_type": "code",
      "source": [
        "model = \"ner_deid_subentity_glove\""
      ],
      "metadata": {
        "id": "C9EKPLz9fbRM"
      },
      "execution_count": 64,
      "outputs": []
    },
    {
      "cell_type": "code",
      "source": [
        "sample_text = [\n",
        "\"\"\"Record date: 02-07-2003. MR: 5247840. HISTORY OF PRESENT ILLNESS: Mr. John Smith is a 60 year old white male, who has a history of bladder cancer diagnosed on 23/03/2001 by the Mount Sinai Hospital.  The patient  underwent a resection there. He work as a journalist. He was to be admitted to the NYU Langone Hospital for cystectomy. He was seen in Urology Clinic and Radiology Clinic on 02/04/2003. HOSPITAL COURSE:  Mr. John Smith presented to the Mount Sinai Hospital in anticipation for Urology surgery. On evaluation, EKG, echocardiogram was abnormal, a Cardiology consult was obtained.  Mr. John  Smith underwent a left heart catheterization, which revealed two vessel coronary artery disease.  Following intervention, The patient was admitted to Cardiology Service the direction of Dr. Oliver Hart.  Mr. John Smith  was stable for discharge home on 02/07/2003 with instructions to take Plavix daily for one month and Urology is aware of the same. Mount Sinai Hospital 1468 Madison Ave, New York, USA. Phone : (212) 241-6500.\"\"\",\n",
        "]"
      ],
      "metadata": {
        "id": "7GcpVBTVfdFD"
      },
      "execution_count": 65,
      "outputs": []
    },
    {
      "cell_type": "code",
      "source": [
        "run_pipeline(model, sample_text)"
      ],
      "metadata": {
        "colab": {
          "base_uri": "https://localhost:8080/",
          "height": 941
        },
        "id": "XWGqlzXjfdCI",
        "outputId": "9960b0e5-a8ab-4eed-a5ab-76245a1e4a22"
      },
      "execution_count": 66,
      "outputs": [
        {
          "output_type": "stream",
          "name": "stdout",
          "text": [
            "glove_100d download started this may take some time.\n",
            "Approximate size to download 145.3 MB\n",
            "[OK!]\n",
            "ner_deid_subentity_glove download started this may take some time.\n",
            "[OK!]\n",
            "\n",
            "\n",
            "<----------------- MODEL NAME: \u001b[1mner_deid_subentity_glove\u001b[0m  ----------------- >\n",
            "\n",
            "\n",
            "+--------------------+-------------+\n",
            "|chunk               |ner_label    |\n",
            "+--------------------+-------------+\n",
            "|02-07-2003          |DATE         |\n",
            "|5247840             |MEDICALRECORD|\n",
            "|John Smith          |PATIENT      |\n",
            "|60                  |AGE          |\n",
            "|23/03/2001          |DATE         |\n",
            "|Mount Sinai Hospital|HOSPITAL     |\n",
            "|journalist          |PROFESSION   |\n",
            "|NYU Langone Hospital|HOSPITAL     |\n",
            "|02/04/2003          |DATE         |\n",
            "|John Smith          |PATIENT      |\n",
            "|Mount Sinai Hospital|HOSPITAL     |\n",
            "|John  Smith         |PATIENT      |\n",
            "|Oliver Hart         |DOCTOR       |\n",
            "|John Smith          |PATIENT      |\n",
            "|02/07/2003          |DATE         |\n",
            "|Mount Sinai Hospital|HOSPITAL     |\n",
            "|1468 Madison Ave    |STREET       |\n",
            "|New York            |CITY         |\n",
            "|USA                 |STATE        |\n",
            "|(212) 241-6500      |PHONE        |\n",
            "+--------------------+-------------+\n",
            "\n",
            "\n",
            "\n"
          ]
        },
        {
          "output_type": "display_data",
          "data": {
            "text/plain": [
              "<IPython.core.display.HTML object>"
            ],
            "text/html": [
              "\n",
              "<style>\n",
              "    @import url('https://fonts.googleapis.com/css2?family=Montserrat:wght@300;400;500;600;700&display=swap');\n",
              "    @import url('https://fonts.googleapis.com/css2?family=Vistol Regular:wght@300;400;500;600;700&display=swap');\n",
              "    \n",
              "    .spark-nlp-display-scroll-entities {\n",
              "        border: 1px solid #E7EDF0;\n",
              "        border-radius: 3px;\n",
              "        text-align: justify;\n",
              "        \n",
              "    }\n",
              "    .spark-nlp-display-scroll-entities span {  \n",
              "        font-size: 14px;\n",
              "        line-height: 24px;\n",
              "        color: #536B76;\n",
              "        font-family: 'Montserrat', sans-serif !important;\n",
              "    }\n",
              "    \n",
              "    .spark-nlp-display-entity-wrapper{\n",
              "    \n",
              "        display: inline-grid;\n",
              "        text-align: center;\n",
              "        border-radius: 4px;\n",
              "        margin: 0 2px 5px 2px;\n",
              "        padding: 1px\n",
              "    }\n",
              "    .spark-nlp-display-entity-name{\n",
              "        font-size: 14px;\n",
              "        line-height: 24px;\n",
              "        font-family: 'Montserrat', sans-serif !important;\n",
              "        \n",
              "        background: #f1f2f3;\n",
              "        border-width: medium;\n",
              "        text-align: center;\n",
              "        \n",
              "        font-weight: 400;\n",
              "        \n",
              "        border-radius: 5px;\n",
              "        padding: 2px 5px;\n",
              "        display: block;\n",
              "        margin: 3px 2px;\n",
              "    \n",
              "    }\n",
              "    .spark-nlp-display-entity-type{\n",
              "        font-size: 14px;\n",
              "        line-height: 24px;\n",
              "        color: #ffffff;\n",
              "        font-family: 'Montserrat', sans-serif !important;\n",
              "        \n",
              "        text-transform: uppercase;\n",
              "        \n",
              "        font-weight: 500;\n",
              "\n",
              "        display: block;\n",
              "        padding: 3px 5px;\n",
              "    }\n",
              "    \n",
              "    .spark-nlp-display-entity-resolution{\n",
              "        font-size: 14px;\n",
              "        line-height: 24px;\n",
              "        color: #ffffff;\n",
              "        font-family: 'Vistol Regular', sans-serif !important;\n",
              "        \n",
              "        text-transform: uppercase;\n",
              "        \n",
              "        font-weight: 500;\n",
              "\n",
              "        display: block;\n",
              "        padding: 3px 5px;\n",
              "    }\n",
              "    \n",
              "    .spark-nlp-display-others{\n",
              "        font-size: 14px;\n",
              "        line-height: 24px;\n",
              "        font-family: 'Montserrat', sans-serif !important;\n",
              "        \n",
              "        font-weight: 400;\n",
              "    }\n",
              "\n",
              "</style>\n",
              " <span class=\"spark-nlp-display-others\" style=\"background-color: white\">Record date: </span><span class=\"spark-nlp-display-entity-wrapper\" style=\"background-color: #a6b1e1\"><span class=\"spark-nlp-display-entity-name\">02-07-2003 </span><span class=\"spark-nlp-display-entity-type\">DATE</span></span><span class=\"spark-nlp-display-others\" style=\"background-color: white\">. MR: </span><span class=\"spark-nlp-display-entity-wrapper\" style=\"background-color: #176940\"><span class=\"spark-nlp-display-entity-name\">5247840 </span><span class=\"spark-nlp-display-entity-type\">MEDICALRECORD</span></span><span class=\"spark-nlp-display-others\" style=\"background-color: white\">. HISTORY OF PRESENT ILLNESS: Mr. </span><span class=\"spark-nlp-display-entity-wrapper\" style=\"background-color: #6C0479\"><span class=\"spark-nlp-display-entity-name\">John Smith </span><span class=\"spark-nlp-display-entity-type\">PATIENT</span></span><span class=\"spark-nlp-display-others\" style=\"background-color: white\"> is a </span><span class=\"spark-nlp-display-entity-wrapper\" style=\"background-color: #ffe0ac\"><span class=\"spark-nlp-display-entity-name\">60 </span><span class=\"spark-nlp-display-entity-type\">AGE</span></span><span class=\"spark-nlp-display-others\" style=\"background-color: white\"> year old white male, who has a history of bladder cancer diagnosed on </span><span class=\"spark-nlp-display-entity-wrapper\" style=\"background-color: #a6b1e1\"><span class=\"spark-nlp-display-entity-name\">23/03/2001 </span><span class=\"spark-nlp-display-entity-type\">DATE</span></span><span class=\"spark-nlp-display-others\" style=\"background-color: white\"> by the </span><span class=\"spark-nlp-display-entity-wrapper\" style=\"background-color: #1C699C\"><span class=\"spark-nlp-display-entity-name\">Mount Sinai Hospital </span><span class=\"spark-nlp-display-entity-type\">HOSPITAL</span></span><span class=\"spark-nlp-display-others\" style=\"background-color: white\">.  The patient  underwent a resection there. He work as a </span><span class=\"spark-nlp-display-entity-wrapper\" style=\"background-color: #462158\"><span class=\"spark-nlp-display-entity-name\">journalist </span><span class=\"spark-nlp-display-entity-type\">PROFESSION</span></span><span class=\"spark-nlp-display-others\" style=\"background-color: white\">. He was to be admitted to the </span><span class=\"spark-nlp-display-entity-wrapper\" style=\"background-color: #1C699C\"><span class=\"spark-nlp-display-entity-name\">NYU Langone Hospital </span><span class=\"spark-nlp-display-entity-type\">HOSPITAL</span></span><span class=\"spark-nlp-display-others\" style=\"background-color: white\"> for cystectomy. He was seen in Urology Clinic and Radiology Clinic on </span><span class=\"spark-nlp-display-entity-wrapper\" style=\"background-color: #a6b1e1\"><span class=\"spark-nlp-display-entity-name\">02/04/2003 </span><span class=\"spark-nlp-display-entity-type\">DATE</span></span><span class=\"spark-nlp-display-others\" style=\"background-color: white\">. HOSPITAL COURSE:  Mr. </span><span class=\"spark-nlp-display-entity-wrapper\" style=\"background-color: #6C0479\"><span class=\"spark-nlp-display-entity-name\">John Smith </span><span class=\"spark-nlp-display-entity-type\">PATIENT</span></span><span class=\"spark-nlp-display-others\" style=\"background-color: white\"> presented to the </span><span class=\"spark-nlp-display-entity-wrapper\" style=\"background-color: #1C699C\"><span class=\"spark-nlp-display-entity-name\">Mount Sinai Hospital </span><span class=\"spark-nlp-display-entity-type\">HOSPITAL</span></span><span class=\"spark-nlp-display-others\" style=\"background-color: white\"> in anticipation for Urology surgery. On evaluation, EKG, echocardiogram was abnormal, a Cardiology consult was obtained.  Mr. </span><span class=\"spark-nlp-display-entity-wrapper\" style=\"background-color: #6C0479\"><span class=\"spark-nlp-display-entity-name\">John  Smith </span><span class=\"spark-nlp-display-entity-type\">PATIENT</span></span><span class=\"spark-nlp-display-others\" style=\"background-color: white\"> underwent a left heart catheterization, which revealed two vessel coronary artery disease.  Following intervention, The patient was admitted to Cardiology Service the direction of Dr. </span><span class=\"spark-nlp-display-entity-wrapper\" style=\"background-color: #5DB84A\"><span class=\"spark-nlp-display-entity-name\">Oliver Hart </span><span class=\"spark-nlp-display-entity-type\">DOCTOR</span></span><span class=\"spark-nlp-display-others\" style=\"background-color: white\">.  Mr. </span><span class=\"spark-nlp-display-entity-wrapper\" style=\"background-color: #6C0479\"><span class=\"spark-nlp-display-entity-name\">John Smith </span><span class=\"spark-nlp-display-entity-type\">PATIENT</span></span><span class=\"spark-nlp-display-others\" style=\"background-color: white\">  was stable for discharge home on </span><span class=\"spark-nlp-display-entity-wrapper\" style=\"background-color: #a6b1e1\"><span class=\"spark-nlp-display-entity-name\">02/07/2003 </span><span class=\"spark-nlp-display-entity-type\">DATE</span></span><span class=\"spark-nlp-display-others\" style=\"background-color: white\"> with instructions to take Plavix daily for one month and Urology is aware of the same. </span><span class=\"spark-nlp-display-entity-wrapper\" style=\"background-color: #1C699C\"><span class=\"spark-nlp-display-entity-name\">Mount Sinai Hospital </span><span class=\"spark-nlp-display-entity-type\">HOSPITAL</span></span><span class=\"spark-nlp-display-others\" style=\"background-color: white\"> </span><span class=\"spark-nlp-display-entity-wrapper\" style=\"background-color: #BBA2A3\"><span class=\"spark-nlp-display-entity-name\">1468 Madison Ave </span><span class=\"spark-nlp-display-entity-type\">STREET</span></span><span class=\"spark-nlp-display-others\" style=\"background-color: white\">, </span><span class=\"spark-nlp-display-entity-wrapper\" style=\"background-color: #63A468\"><span class=\"spark-nlp-display-entity-name\">New York </span><span class=\"spark-nlp-display-entity-type\">CITY</span></span><span class=\"spark-nlp-display-others\" style=\"background-color: white\">, </span><span class=\"spark-nlp-display-entity-wrapper\" style=\"background-color: #4E5C9E\"><span class=\"spark-nlp-display-entity-name\">USA </span><span class=\"spark-nlp-display-entity-type\">STATE</span></span><span class=\"spark-nlp-display-others\" style=\"background-color: white\">. Phone : </span><span class=\"spark-nlp-display-entity-wrapper\" style=\"background-color: #4D656A\"><span class=\"spark-nlp-display-entity-name\">(212) 241-6500 </span><span class=\"spark-nlp-display-entity-type\">PHONE</span></span><span class=\"spark-nlp-display-others\" style=\"background-color: white\">.</span></div>"
            ]
          },
          "metadata": {}
        }
      ]
    }
  ],
  "metadata": {
    "colab": {
      "provenance": [],
      "toc_visible": true
    },
    "kernelspec": {
      "display_name": "Python 3",
      "name": "python3"
    }
  },
  "nbformat": 4,
  "nbformat_minor": 0
}
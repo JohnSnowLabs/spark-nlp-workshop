{
  "nbformat": 4,
  "nbformat_minor": 0,
  "metadata": {
    "colab": {
      "name": "ER_LOINC.ipynb",
      "provenance": [],
      "collapsed_sections": []
    },
    "kernelspec": {
      "name": "python3",
      "display_name": "Python 3"
    },
    "language_info": {
      "name": "python"
    }
  },
  "cells": [
    {
      "cell_type": "markdown",
      "source": [
        "![JohnSnowLabs](https://nlp.johnsnowlabs.com/assets/images/logo.png)\n",
        "\n",
        "[![Open In Colab](https://colab.research.google.com/assets/colab-badge.svg)](https://colab.research.google.com/github/JohnSnowLabs/spark-nlp-workshop/blob/master/tutorials/streamlit_notebooks/healthcare/ER_HPO.ipynb)"
      ],
      "metadata": {
        "id": "wWLwNF4iITCn"
      }
    },
    {
      "cell_type": "markdown",
      "source": [
        "# `sbiobertresolve_loinc_augmented` **Models**\n",
        "\n",
        "This model maps extracted clinical NER entities to LOINC codes using `sbiobert_base_cased_mli` Sentence Bert Embeddings. It trained on the augmented version of the dataset which is used in previous LOINC resolver models."
      ],
      "metadata": {
        "id": "rIVVRWlyIaPW"
      }
    },
    {
      "cell_type": "markdown",
      "source": [
        "## 1. Colab Setup"
      ],
      "metadata": {
        "id": "Xa2MP5N2EyAN"
      }
    },
    {
      "cell_type": "markdown",
      "source": [
        "**Import license keys**"
      ],
      "metadata": {
        "id": "meFLU3CTE2S9"
      }
    },
    {
      "cell_type": "code",
      "execution_count": null,
      "metadata": {
        "id": "dnJ9X-mbEOMr"
      },
      "outputs": [],
      "source": [
        "import json\n",
        "import os\n",
        "\n",
        "from google.colab import files\n",
        "\n",
        "license_keys = files.upload()\n",
        "\n",
        "with open(list(license_keys.keys())[0]) as f:\n",
        "    license_keys = json.load(f)\n",
        "\n",
        "# Defining license key-value pairs as local variables\n",
        "locals().update(license_keys)\n",
        "\n",
        "# Adding license key-value pairs to environment variables\n",
        "os.environ.update(license_keys)"
      ]
    },
    {
      "cell_type": "markdown",
      "source": [
        "**Install dependencies**"
      ],
      "metadata": {
        "id": "MpFCD_gTFcyx"
      }
    },
    {
      "cell_type": "code",
      "source": [
        "# Installing pyspark and spark-nlp\n",
        "! pip install --upgrade -q pyspark==3.1.2 spark-nlp==$PUBLIC_VERSION\n",
        "\n",
        "# Installing Spark NLP Healthcare\n",
        "! pip install --upgrade -q spark-nlp-jsl==$JSL_VERSION  --extra-index-url https://pypi.johnsnowlabs.com/$SECRET\n",
        "\n",
        "# Installing Spark NLP Display Library for visualization\n",
        "! pip install -q spark-nlp-display"
      ],
      "metadata": {
        "id": "qeg3QosiFf5u"
      },
      "execution_count": null,
      "outputs": []
    },
    {
      "cell_type": "markdown",
      "source": [
        "## 2. Start Spark Session"
      ],
      "metadata": {
        "id": "WcrI5WVvGDvP"
      }
    },
    {
      "cell_type": "markdown",
      "source": [
        "**Import dependencies into Python and start the Spark session**"
      ],
      "metadata": {
        "id": "bEYvJIDaFxuM"
      }
    },
    {
      "cell_type": "code",
      "source": [
        "# Import sparknlp & sparknlp_jsl packages\n",
        "import sparknlp\n",
        "import sparknlp_jsl\n",
        "\n",
        "from sparknlp.base import *\n",
        "from sparknlp.common import *\n",
        "from sparknlp.annotator import *\n",
        "from sparknlp_jsl.annotator import *\n",
        "\n",
        "# Import Pyspark packages\n",
        "from pyspark.sql import SparkSession\n",
        "from pyspark.sql import functions as F \n",
        "from pyspark.ml import Pipeline, PipelineModel\n",
        "\n",
        "import pandas as pd\n",
        "import numpy as np \n",
        "\n",
        "spark = sparknlp_jsl.start(license_keys['SECRET'])\n",
        "\n",
        "print (\"Spark NLP Version :\", sparknlp.version())\n",
        "print (\"Spark NLP_JSL Version :\", sparknlp_jsl.version())\n",
        "\n",
        "spark"
      ],
      "metadata": {
        "colab": {
          "base_uri": "https://localhost:8080/",
          "height": 258
        },
        "id": "uh5IkMSuFwH0",
        "outputId": "1c7af778-b626-4638-c9df-1bedd932c98e"
      },
      "execution_count": 3,
      "outputs": [
        {
          "output_type": "stream",
          "name": "stdout",
          "text": [
            "Spark NLP Version : 3.4.4\n",
            "Spark NLP_JSL Version : 3.5.2\n"
          ]
        },
        {
          "output_type": "execute_result",
          "data": {
            "text/plain": [
              "<pyspark.sql.session.SparkSession at 0x7f5fa4569dd0>"
            ],
            "text/html": [
              "\n",
              "            <div>\n",
              "                <p><b>SparkSession - in-memory</b></p>\n",
              "                \n",
              "        <div>\n",
              "            <p><b>SparkContext</b></p>\n",
              "\n",
              "            <p><a href=\"http://4cd2f8577822:4040\">Spark UI</a></p>\n",
              "\n",
              "            <dl>\n",
              "              <dt>Version</dt>\n",
              "                <dd><code>v3.1.2</code></dd>\n",
              "              <dt>Master</dt>\n",
              "                <dd><code>local[*]</code></dd>\n",
              "              <dt>AppName</dt>\n",
              "                <dd><code>Spark NLP Licensed</code></dd>\n",
              "            </dl>\n",
              "        </div>\n",
              "        \n",
              "            </div>\n",
              "        "
            ]
          },
          "metadata": {},
          "execution_count": 3
        }
      ]
    },
    {
      "cell_type": "markdown",
      "source": [
        "## 3. Select the model and construct the pipeline"
      ],
      "metadata": {
        "id": "6unD_Wi4GHA2"
      }
    },
    {
      "cell_type": "code",
      "source": [
        "# Alternative usage\n",
        "# NER_MODEL_NAME = \"clinical_ner\"  # setWhiteList([\"Test\"])\n",
        "\n",
        "NER_MODEL_NAME = \"ner_jsl\"  \n",
        "WhiteList = [\"Test\",\"BMI\",\"HDL\",\"LDL\",\"Medical_Device\",\"Temperature\",\"Total_Cholesterol\",\"Triglycerides\",\"Blood_Pressure\", \"ImagingFindings\"]\n",
        "\n",
        "RESOLVER_MODEL_NAME = \"sbiobertresolve_loinc_augmented\""
      ],
      "metadata": {
        "id": "aERdxMBiGL5b"
      },
      "execution_count": 20,
      "outputs": []
    },
    {
      "cell_type": "markdown",
      "source": [
        "**Create the pipeline**"
      ],
      "metadata": {
        "id": "6890ej79GVJl"
      }
    },
    {
      "cell_type": "code",
      "source": [
        "document_assembler = DocumentAssembler()\\\n",
        "    .setInputCol(\"text\")\\\n",
        "    .setOutputCol(\"document\")\n",
        "\n",
        "sentence_detector = SentenceDetector() \\\n",
        "    .setInputCols(['document'])\\\n",
        "    .setOutputCol('sentence')\n",
        "\n",
        "tokenizer = Tokenizer()\\\n",
        "    .setInputCols([\"sentence\"])\\\n",
        "    .setOutputCol(\"token\")\n",
        "\n",
        "word_embeddings = WordEmbeddingsModel.pretrained(\"embeddings_clinical\", \"en\", \"clinical/models\")\\\n",
        "    .setInputCols([\"sentence\", \"token\"])\\\n",
        "    .setOutputCol(\"embeddings\")\n",
        "\n",
        "ner = MedicalNerModel.pretrained(NER_MODEL_NAME, \"en\", \"clinical/models\") \\\n",
        "    .setInputCols([\"sentence\", \"token\", \"embeddings\"]) \\\n",
        "    .setOutputCol(\"ner\")\n",
        "\n",
        "ner_converter = NerConverterInternal()\\\n",
        "    .setInputCols([\"sentence\", \"token\", \"ner\"])\\\n",
        "    .setOutputCol(\"ner_chunk\")\\\n",
        "    .setWhiteList(WhiteList)\n",
        "\n",
        "c2doc = Chunk2Doc()\\\n",
        "    .setInputCols(\"ner_chunk\")\\\n",
        "    .setOutputCol(\"ner_chunk_doc\") \n",
        "\n",
        "sbert_embedder = BertSentenceEmbeddings.pretrained(\"sbiobert_base_cased_mli\",'en','clinical/models')\\\n",
        "    .setInputCols([\"ner_chunk_doc\"])\\\n",
        "    .setOutputCol(\"sbert_embeddings\")\\\n",
        "    .setCaseSensitive(False)\n",
        "\n",
        "resolver = SentenceEntityResolverModel.pretrained(RESOLVER_MODEL_NAME, \"en\", \"clinical/models\") \\\n",
        "    .setInputCols([\"ner_chunk_doc\", \"sbert_embeddings\"]) \\\n",
        "    .setOutputCol(\"resolution\")\n",
        "\n",
        "\n",
        "nlp_pipeline = Pipeline(\n",
        "    stages = [\n",
        "        document_assembler,\n",
        "        sentence_detector,\n",
        "        tokenizer,\n",
        "        word_embeddings,\n",
        "        ner,\n",
        "        ner_converter,\n",
        "        c2doc,\n",
        "        sbert_embedder,\n",
        "        resolver\n",
        "  ])\n",
        "\n",
        "empty_df = spark.createDataFrame([[\"\"]]).toDF('text')\n",
        "\n",
        "model = nlp_pipeline.fit(empty_df)"
      ],
      "metadata": {
        "colab": {
          "base_uri": "https://localhost:8080/"
        },
        "id": "Vjo9u1N1Ga1W",
        "outputId": "9d8ecc76-6742-461f-b7c3-f34a7ee4b57e"
      },
      "execution_count": 21,
      "outputs": [
        {
          "output_type": "stream",
          "name": "stdout",
          "text": [
            "embeddings_clinical download started this may take some time.\n",
            "Approximate size to download 1.6 GB\n",
            "[OK!]\n",
            "ner_jsl download started this may take some time.\n",
            "[OK!]\n",
            "sbiobert_base_cased_mli download started this may take some time.\n",
            "Approximate size to download 384.3 MB\n",
            "[OK!]\n",
            "sbiobertresolve_loinc_augmented download started this may take some time.\n",
            "[OK!]\n"
          ]
        }
      ]
    },
    {
      "cell_type": "markdown",
      "source": [
        "## 4. Create example inputs"
      ],
      "metadata": {
        "id": "K4CxF3U7HsCX"
      }
    },
    {
      "cell_type": "code",
      "source": [
        "sample_text = [\n",
        "        \n",
        "\"\"\"DATABASE: Bilateral lower lobe pneumonia, greater on the right. Arterial blood gases on 2 L of oxygen, pH 7.48, pO2 79, and pCO2 35. BLOOD STUDIES: Hematocrit is 43, WBC 59,300 with a left shift, and platelet count 394,000. Sodium is 130, potassium 3.8, chloride 97, bicarbonate 24, BUN 14, creatinine 0.8, random blood sugar 147, and calcium 9.4.\"\"\",\n",
        "\n",
        "\"\"\"A 66 years old male  was admited to Gastroenterology Clinic by elective hospital admission. His symptoms that lasted for the last 2 months: Asthenia, fatigue, increase of abdominal circumference, RUQ disconfort and jaundice. His lab results are as following: Hemoglobin – 12,1 g/dl MCV – 125 fL AST (GOT) – 102 U/L ALT (GPT) – 91 U/L GGT – 143 U/L BiT (total Bilirubin) – 1,92 g/dl Albumin – 3,9 g/dl   Triglycerides - 205 mg/dl Total cholesterol - 189 mg/dl.\"\"\",\n",
        "\n",
        "\"\"\"The patient is a 35 years old, male, admitted on 04/09/2019. He accidentally discovered to be infected with hepatitis B virus on 26/08/ 2019. He has no symptoms at the moment of examination. Past medical history: laparoscopic cholecystectomy due to gallstones. Personal history: active smoker, 1 pack/day, moderate alcohol intake.\n",
        "Serological markers on 26.08.2020\n",
        "•            HBV DNA = 2700 Ul/mL (> 2000 UI/ml)\n",
        "•            HBsAg = Positive\n",
        "•            HB envelope Ag = Negative\n",
        "•            HB envelope antibody = Positive\n",
        "\n",
        "Other lab results:\n",
        "•         Haptoglobin 1.68 g/L\n",
        "•         GGT 184 U/L\n",
        "•         Blood glucose 96.5 mg/dL\"\"\",\n",
        "\n",
        "\"\"\"The 62 years old woman was admitted to Internal Medicine Department following chest pain, dyspnoea and diarrhea in the last three weeks. At admission, her blood pressure was 156/88 mmHg, with a pulse of 89 bpm. The temperature was 36.3 C. The lab results showed a Hemoglobin of 9.2 g/dL, a total cholesterol level of 239 mg/dL, Serum albumin of 5.4 g/dL. An ECG was performed and it showed normal sinus rhytm.\"\"\",\n",
        "\n",
        "\"\"\"Final diagnosis:  FLT3 gene mutation analysis: DNA was extracted from the peripheral blood specimen and a polymerase chain reaction (PCR)-based assay performed that is designed to detect the presence of two separate mutations in the FLT3 gene: (1) internal tandem duplication within a susceptible region that includes coding sequence for the intracellular juxtamembrane domain and (2) point mutations in the codon for ASP835.   Negative. Neither expansion of the region susceptible to internal tandem duplication nor changes consistent with mutation of the codon for ASP835 were identified.\"\"\"\n",
        "\n",
        "]"
      ],
      "metadata": {
        "id": "jZ8GQHOgHibp"
      },
      "execution_count": 22,
      "outputs": []
    },
    {
      "cell_type": "code",
      "source": [
        "from pyspark.sql.types import StringType, IntegerType\n",
        "\n",
        "df = spark.createDataFrame(sample_text,StringType()).toDF('text')\n",
        "\n",
        "df.show(truncate = 100)"
      ],
      "metadata": {
        "colab": {
          "base_uri": "https://localhost:8080/"
        },
        "id": "qvCvj1hBI_09",
        "outputId": "85098bcc-a3b4-4ef2-89a4-5ab7e20d0f65"
      },
      "execution_count": 23,
      "outputs": [
        {
          "output_type": "stream",
          "name": "stdout",
          "text": [
            "+----------------------------------------------------------------------------------------------------+\n",
            "|                                                                                                text|\n",
            "+----------------------------------------------------------------------------------------------------+\n",
            "|DATABASE: Bilateral lower lobe pneumonia, greater on the right. Arterial blood gases on 2 L of ox...|\n",
            "|A 66 years old male  was admited to Gastroenterology Clinic by elective hospital admission. His s...|\n",
            "|The patient is a 35 years old, male, admitted on 04/09/2019. He accidentally discovered to be inf...|\n",
            "|The 62 years old woman was admitted to Internal Medicine Department following chest pain, dyspnoe...|\n",
            "|Final diagnosis:  FLT3 gene mutation analysis: DNA was extracted from the peripheral blood specim...|\n",
            "+----------------------------------------------------------------------------------------------------+\n",
            "\n"
          ]
        }
      ]
    },
    {
      "cell_type": "markdown",
      "source": [
        "## 5. Use the pipeline to create outputs"
      ],
      "metadata": {
        "id": "JAJGT8UcH1Q4"
      }
    },
    {
      "cell_type": "code",
      "source": [
        "result = model.transform(df)\n",
        "\n",
        "result.select(F.explode(F.arrays_zip(\"ner_chunk.result\", \n",
        "                                      \"ner_chunk.begin\", \n",
        "                                      \"ner_chunk.end\",\n",
        "                                      \"ner_chunk.metadata\",\n",
        "                                      \"resolution.result\",\n",
        "                                      \"resolution.metadata\",)).alias(\"cols\"))\\\n",
        "                  .select(F.expr(\"cols['0']\").alias(\"chunk\"),\n",
        "                          F.expr(\"cols['1']\").alias(\"begin\"),\n",
        "                          F.expr(\"cols['2']\").alias(\"end\"),\n",
        "                          F.expr(\"cols['3']['entity']\").alias(\"entity\"),\n",
        "                          F.expr(\"cols['4']\").alias(\"LOINC_code\"),\n",
        "                          F.expr(\"cols['5']['resolved_text']\").alias(\"description\"),\n",
        "                          F.expr(\"cols['5']['all_k_results']\").alias(\"all_codes\"),\n",
        "                          F.expr(\"cols['5']['all_k_resolutions']\").alias(\"resolutions\"),\n",
        "                         ).show(truncate=40)"
      ],
      "metadata": {
        "id": "N0zbrDnKIC9z",
        "colab": {
          "base_uri": "https://localhost:8080/"
        },
        "outputId": "197e5a29-8944-41ce-f75f-e1fb2ae85248"
      },
      "execution_count": 24,
      "outputs": [
        {
          "output_type": "stream",
          "name": "stdout",
          "text": [
            "+--------------------+-----+---+------+-----------+--------------------+----------------------------------------+----------------------------------------+\n",
            "|               chunk|begin|end|entity| LOINC_code|         description|                               all_codes|                             resolutions|\n",
            "+--------------------+-----+---+------+-----------+--------------------+----------------------------------------+----------------------------------------+\n",
            "|Arterial blood gases|   64| 83|  Test|   LA9488-3|arterial blood gases|LA9488-3:::24336-0:::2708-6:::60835-6...|arterial blood gases::: blood gases::...|\n",
            "|              oxygen|   95|100|  Test|  LA25411-2|              oxygen|LA25411-2:::LP30884-8:::LP100008-4:::...|oxygen:::oxygen content:::oxygen capa...|\n",
            "|                  pH|  103|104|  Test|  LA22405-7|                  ph|LA22405-7:::49014-4:::44261-6:::LP949...|ph::: ph::: phq:::phq::: pd::: pl:::p...|\n",
            "|                 pO2|  112|114|  Test|    11556-8|                 po2|11556-8:::75390-5:::53725-8:::11557-6...| po2::: pn2::: peo2::: pco2::: ap2:::...|\n",
            "|                pCO2|  124|127|  Test|    11557-6|                pco2|11557-6:::32306-3:::2018-0:::19980-2:...| pco2:::pco2 ur:::pco2 amn::: ptco2::...|\n",
            "|          Hematocrit|  148|157|  Test|  LP15101-6|          hematocrit|LP15101-6:::LP308151-2:::32354-3:::20...|hematocrit:::hematocrit/hemoglobin:::...|\n",
            "|                 WBC|  166|168|  Test|    10327-5|                 wbc|10327-5:::LP7720-8:::10331-7:::30405-...| wbc:::wbc::: wb:::wbc # ur::: wfsl::...|\n",
            "|      platelet count|  200|213|  Test|    13056-7|      platelet count|13056-7:::51637-7:::LP16772-3:::10412...| platelet count::: plateletocrit:::pl...|\n",
            "|              Sodium|  224|229|  Test|  LP15099-2|              sodium|LP15099-2:::LP73369-8:::9086-0:::LP30...|sodium:::sodium intake:::sodium intak...|\n",
            "|           potassium|  239|247|  Test|  LP15098-4|           potassium|LP15098-4:::LP73135-3:::9073-8:::LP30...|potassium:::potassium intake:::potass...|\n",
            "|            chloride|  254|261|  Test|  LP15483-8|            chloride|LP15483-8:::39357-9:::LP203244-1:::43...|chloride::: chloride number:::chlorid...|\n",
            "|         bicarbonate|  267|277|  Test|  LP15441-6|         bicarbonate|LP15441-6:::LP307352-7:::16459-0:::16...|bicarbonate:::bicarbonate^^standard::...|\n",
            "|                 BUN|  283|285|  Test|    2108629|                 bun|2108629:::11064-3:::179708:::2808124:...|bun::: bun:::bunn:::boms:::bunne::: b...|\n",
            "|          creatinine|  291|300|  Test|  LP14355-9|          creatinine|LP14355-9:::LP286943-8:::LP286453-8::...|creatinine:::protein/creatinine:::lys...|\n",
            "|         blood sugar|  314|324|  Test|    50016-5|          sugar dose|50016-5:::6883-3:::LA19766-7:::LP7393...|sugar dose::: pb glucose:::glucose mo...|\n",
            "|             calcium|  335|341|  Test|  LP15257-6|             calcium|LP15257-6:::LP72204-8:::61512-0:::LP1...|calcium:::calcium intake:::calcium ph...|\n",
            "|                 lab|  229|231|  Test|OMOP4976929|                 lab|OMOP4976929:::18716-1:::5011691:::130...|lab::: lab:::labby:::labette:::labège...|\n",
            "|          Hemoglobin|  259|268|  Test|  LP14449-0|          hemoglobin|LP14449-0:::LP30929-1:::LP16455-5:::3...|hemoglobin:::hemoglobin g:::hemoglobi...|\n",
            "|                 MCV|  282|284|  Test|    11272-2|                 mcv|11272-2:::11641-8:::28542-9:::72853-5...| mcv::: mv::: mpv::: mbv:::mvv::: mvv...|\n",
            "|                 AST|  295|297|  Test|      100-8|                 ast|100-8:::18769-0:::13711-7:::14410-5::...| ast:::ast:::asp::: asp::: asc::: asn...|\n",
            "+--------------------+-----+---+------+-----------+--------------------+----------------------------------------+----------------------------------------+\n",
            "only showing top 20 rows\n",
            "\n"
          ]
        }
      ]
    },
    {
      "cell_type": "markdown",
      "source": [
        "## 6. Visualize results"
      ],
      "metadata": {
        "id": "Ral7MlWELIOX"
      }
    },
    {
      "cell_type": "code",
      "source": [
        "from sparknlp_display import EntityResolverVisualizer\n",
        "\n",
        "resolver_viz = EntityResolverVisualizer()\n",
        "\n",
        "\n",
        "for j in range(df.count()):\n",
        "    resolver_viz.display(result = result.collect()[j], label_col = \"ner_chunk\", resolution_col=\"resolution\")\n",
        "    print(\"\\n\\n\")"
      ],
      "metadata": {
        "colab": {
          "base_uri": "https://localhost:8080/",
          "height": 1000
        },
        "id": "Arm5huqwKum8",
        "outputId": "ade716f3-a0ab-4285-fa7a-a607bee1f276"
      },
      "execution_count": 25,
      "outputs": [
        {
          "output_type": "display_data",
          "data": {
            "text/plain": [
              "<IPython.core.display.HTML object>"
            ],
            "text/html": [
              "\n",
              "<style>\n",
              "    @import url('https://fonts.googleapis.com/css2?family=Montserrat:wght@300;400;500;600;700&display=swap');\n",
              "    @import url('https://fonts.googleapis.com/css2?family=Vistol Regular:wght@300;400;500;600;700&display=swap');\n",
              "    \n",
              "    .spark-nlp-display-scroll-entities {\n",
              "        border: 1px solid #E7EDF0;\n",
              "        border-radius: 3px;\n",
              "        text-align: justify;\n",
              "        \n",
              "    }\n",
              "    .spark-nlp-display-scroll-entities span {  \n",
              "        font-size: 14px;\n",
              "        line-height: 24px;\n",
              "        color: #536B76;\n",
              "        font-family: 'Montserrat', sans-serif !important;\n",
              "    }\n",
              "    \n",
              "    .spark-nlp-display-entity-wrapper{\n",
              "    \n",
              "        display: inline-grid;\n",
              "        text-align: center;\n",
              "        border-radius: 4px;\n",
              "        margin: 0 2px 5px 2px;\n",
              "        padding: 1px\n",
              "    }\n",
              "    .spark-nlp-display-entity-name{\n",
              "        font-size: 14px;\n",
              "        line-height: 24px;\n",
              "        font-family: 'Montserrat', sans-serif !important;\n",
              "        \n",
              "        background: #f1f2f3;\n",
              "        border-width: medium;\n",
              "        text-align: center;\n",
              "        \n",
              "        font-weight: 400;\n",
              "        \n",
              "        border-radius: 5px;\n",
              "        padding: 2px 5px;\n",
              "        display: block;\n",
              "        margin: 3px 2px;\n",
              "    \n",
              "    }\n",
              "    .spark-nlp-display-entity-type{\n",
              "        font-size: 14px;\n",
              "        line-height: 24px;\n",
              "        color: #ffffff;\n",
              "        font-family: 'Montserrat', sans-serif !important;\n",
              "        \n",
              "        text-transform: uppercase;\n",
              "        \n",
              "        font-weight: 500;\n",
              "\n",
              "        display: block;\n",
              "        padding: 3px 5px;\n",
              "    }\n",
              "    \n",
              "    .spark-nlp-display-entity-resolution{\n",
              "        font-size: 14px;\n",
              "        line-height: 24px;\n",
              "        color: #ffffff;\n",
              "        font-family: 'Vistol Regular', sans-serif !important;\n",
              "        \n",
              "        text-transform: uppercase;\n",
              "        \n",
              "        font-weight: 500;\n",
              "\n",
              "        display: block;\n",
              "        padding: 3px 5px;\n",
              "    }\n",
              "    \n",
              "    .spark-nlp-display-others{\n",
              "        font-size: 14px;\n",
              "        line-height: 24px;\n",
              "        font-family: 'Montserrat', sans-serif !important;\n",
              "        \n",
              "        font-weight: 400;\n",
              "    }\n",
              "\n",
              "</style>\n",
              " <span class=\"spark-nlp-display-others\" style=\"background-color: white\">DATABASE: Bilateral lower lobe pneumonia, greater on the right. </span><span class=\"spark-nlp-display-entity-wrapper\" style=\"background-color: #77b5feB3\"><span class=\"spark-nlp-display-entity-name\">Arterial blood gases </span><span class=\"spark-nlp-display-entity-type\">Test</span><span class=\"spark-nlp-display-entity-resolution\" style=\"background-color: #77b5feFF\">LA9488-3 </span><span class=\"spark-nlp-display-entity-resolution\" style=\"background-color: #77b5feCC\">arterial blood gases</span></span><span class=\"spark-nlp-display-others\" style=\"background-color: white\"> on 2 L of </span><span class=\"spark-nlp-display-entity-wrapper\" style=\"background-color: #77b5feB3\"><span class=\"spark-nlp-display-entity-name\">oxygen </span><span class=\"spark-nlp-display-entity-type\">Test</span><span class=\"spark-nlp-display-entity-resolution\" style=\"background-color: #77b5feFF\">LA25411-2 </span><span class=\"spark-nlp-display-entity-resolution\" style=\"background-color: #77b5feCC\">oxygen</span></span><span class=\"spark-nlp-display-others\" style=\"background-color: white\">, </span><span class=\"spark-nlp-display-entity-wrapper\" style=\"background-color: #77b5feB3\"><span class=\"spark-nlp-display-entity-name\">pH </span><span class=\"spark-nlp-display-entity-type\">Test</span><span class=\"spark-nlp-display-entity-resolution\" style=\"background-color: #77b5feFF\">LA22405-7 </span><span class=\"spark-nlp-display-entity-resolution\" style=\"background-color: #77b5feCC\">ph</span></span><span class=\"spark-nlp-display-others\" style=\"background-color: white\"> 7.48, </span><span class=\"spark-nlp-display-entity-wrapper\" style=\"background-color: #77b5feB3\"><span class=\"spark-nlp-display-entity-name\">pO2 </span><span class=\"spark-nlp-display-entity-type\">Test</span><span class=\"spark-nlp-display-entity-resolution\" style=\"background-color: #77b5feFF\">11556-8 </span><span class=\"spark-nlp-display-entity-resolution\" style=\"background-color: #77b5feCC\"> po2</span></span><span class=\"spark-nlp-display-others\" style=\"background-color: white\"> 79, and </span><span class=\"spark-nlp-display-entity-wrapper\" style=\"background-color: #77b5feB3\"><span class=\"spark-nlp-display-entity-name\">pCO2 </span><span class=\"spark-nlp-display-entity-type\">Test</span><span class=\"spark-nlp-display-entity-resolution\" style=\"background-color: #77b5feFF\">11557-6 </span><span class=\"spark-nlp-display-entity-resolution\" style=\"background-color: #77b5feCC\"> pco2</span></span><span class=\"spark-nlp-display-others\" style=\"background-color: white\"> 35. BLOOD STUDIES: </span><span class=\"spark-nlp-display-entity-wrapper\" style=\"background-color: #77b5feB3\"><span class=\"spark-nlp-display-entity-name\">Hematocrit </span><span class=\"spark-nlp-display-entity-type\">Test</span><span class=\"spark-nlp-display-entity-resolution\" style=\"background-color: #77b5feFF\">LP15101-6 </span><span class=\"spark-nlp-display-entity-resolution\" style=\"background-color: #77b5feCC\">hematocrit</span></span><span class=\"spark-nlp-display-others\" style=\"background-color: white\"> is 43, </span><span class=\"spark-nlp-display-entity-wrapper\" style=\"background-color: #77b5feB3\"><span class=\"spark-nlp-display-entity-name\">WBC </span><span class=\"spark-nlp-display-entity-type\">Test</span><span class=\"spark-nlp-display-entity-resolution\" style=\"background-color: #77b5feFF\">10327-5 </span><span class=\"spark-nlp-display-entity-resolution\" style=\"background-color: #77b5feCC\"> wbc</span></span><span class=\"spark-nlp-display-others\" style=\"background-color: white\"> 59,300 with a left shift, and </span><span class=\"spark-nlp-display-entity-wrapper\" style=\"background-color: #77b5feB3\"><span class=\"spark-nlp-display-entity-name\">platelet count </span><span class=\"spark-nlp-display-entity-type\">Test</span><span class=\"spark-nlp-display-entity-resolution\" style=\"background-color: #77b5feFF\">13056-7 </span><span class=\"spark-nlp-display-entity-resolution\" style=\"background-color: #77b5feCC\"> platelet count</span></span><span class=\"spark-nlp-display-others\" style=\"background-color: white\"> 394,000. </span><span class=\"spark-nlp-display-entity-wrapper\" style=\"background-color: #77b5feB3\"><span class=\"spark-nlp-display-entity-name\">Sodium </span><span class=\"spark-nlp-display-entity-type\">Test</span><span class=\"spark-nlp-display-entity-resolution\" style=\"background-color: #77b5feFF\">LP15099-2 </span><span class=\"spark-nlp-display-entity-resolution\" style=\"background-color: #77b5feCC\">sodium</span></span><span class=\"spark-nlp-display-others\" style=\"background-color: white\"> is 130, </span><span class=\"spark-nlp-display-entity-wrapper\" style=\"background-color: #77b5feB3\"><span class=\"spark-nlp-display-entity-name\">potassium </span><span class=\"spark-nlp-display-entity-type\">Test</span><span class=\"spark-nlp-display-entity-resolution\" style=\"background-color: #77b5feFF\">LP15098-4 </span><span class=\"spark-nlp-display-entity-resolution\" style=\"background-color: #77b5feCC\">potassium</span></span><span class=\"spark-nlp-display-others\" style=\"background-color: white\"> 3.8, </span><span class=\"spark-nlp-display-entity-wrapper\" style=\"background-color: #77b5feB3\"><span class=\"spark-nlp-display-entity-name\">chloride </span><span class=\"spark-nlp-display-entity-type\">Test</span><span class=\"spark-nlp-display-entity-resolution\" style=\"background-color: #77b5feFF\">LP15483-8 </span><span class=\"spark-nlp-display-entity-resolution\" style=\"background-color: #77b5feCC\">chloride</span></span><span class=\"spark-nlp-display-others\" style=\"background-color: white\"> 97, </span><span class=\"spark-nlp-display-entity-wrapper\" style=\"background-color: #77b5feB3\"><span class=\"spark-nlp-display-entity-name\">bicarbonate </span><span class=\"spark-nlp-display-entity-type\">Test</span><span class=\"spark-nlp-display-entity-resolution\" style=\"background-color: #77b5feFF\">LP15441-6 </span><span class=\"spark-nlp-display-entity-resolution\" style=\"background-color: #77b5feCC\">bicarbonate</span></span><span class=\"spark-nlp-display-others\" style=\"background-color: white\"> 24, </span><span class=\"spark-nlp-display-entity-wrapper\" style=\"background-color: #77b5feB3\"><span class=\"spark-nlp-display-entity-name\">BUN </span><span class=\"spark-nlp-display-entity-type\">Test</span><span class=\"spark-nlp-display-entity-resolution\" style=\"background-color: #77b5feFF\">2108629 </span><span class=\"spark-nlp-display-entity-resolution\" style=\"background-color: #77b5feCC\">bun</span></span><span class=\"spark-nlp-display-others\" style=\"background-color: white\"> 14, </span><span class=\"spark-nlp-display-entity-wrapper\" style=\"background-color: #77b5feB3\"><span class=\"spark-nlp-display-entity-name\">creatinine </span><span class=\"spark-nlp-display-entity-type\">Test</span><span class=\"spark-nlp-display-entity-resolution\" style=\"background-color: #77b5feFF\">LP14355-9 </span><span class=\"spark-nlp-display-entity-resolution\" style=\"background-color: #77b5feCC\">creatinine</span></span><span class=\"spark-nlp-display-others\" style=\"background-color: white\"> 0.8, random </span><span class=\"spark-nlp-display-entity-wrapper\" style=\"background-color: #77b5feB3\"><span class=\"spark-nlp-display-entity-name\">blood sugar </span><span class=\"spark-nlp-display-entity-type\">Test</span><span class=\"spark-nlp-display-entity-resolution\" style=\"background-color: #77b5feFF\">50016-5 </span><span class=\"spark-nlp-display-entity-resolution\" style=\"background-color: #77b5feCC\">sugar dose</span></span><span class=\"spark-nlp-display-others\" style=\"background-color: white\"> 147, and </span><span class=\"spark-nlp-display-entity-wrapper\" style=\"background-color: #77b5feB3\"><span class=\"spark-nlp-display-entity-name\">calcium </span><span class=\"spark-nlp-display-entity-type\">Test</span><span class=\"spark-nlp-display-entity-resolution\" style=\"background-color: #77b5feFF\">LP15257-6 </span><span class=\"spark-nlp-display-entity-resolution\" style=\"background-color: #77b5feCC\">calcium</span></span><span class=\"spark-nlp-display-others\" style=\"background-color: white\"> 9.4.</span></div>"
            ]
          },
          "metadata": {}
        },
        {
          "output_type": "stream",
          "name": "stdout",
          "text": [
            "\n",
            "\n",
            "\n"
          ]
        },
        {
          "output_type": "display_data",
          "data": {
            "text/plain": [
              "<IPython.core.display.HTML object>"
            ],
            "text/html": [
              "\n",
              "<style>\n",
              "    @import url('https://fonts.googleapis.com/css2?family=Montserrat:wght@300;400;500;600;700&display=swap');\n",
              "    @import url('https://fonts.googleapis.com/css2?family=Vistol Regular:wght@300;400;500;600;700&display=swap');\n",
              "    \n",
              "    .spark-nlp-display-scroll-entities {\n",
              "        border: 1px solid #E7EDF0;\n",
              "        border-radius: 3px;\n",
              "        text-align: justify;\n",
              "        \n",
              "    }\n",
              "    .spark-nlp-display-scroll-entities span {  \n",
              "        font-size: 14px;\n",
              "        line-height: 24px;\n",
              "        color: #536B76;\n",
              "        font-family: 'Montserrat', sans-serif !important;\n",
              "    }\n",
              "    \n",
              "    .spark-nlp-display-entity-wrapper{\n",
              "    \n",
              "        display: inline-grid;\n",
              "        text-align: center;\n",
              "        border-radius: 4px;\n",
              "        margin: 0 2px 5px 2px;\n",
              "        padding: 1px\n",
              "    }\n",
              "    .spark-nlp-display-entity-name{\n",
              "        font-size: 14px;\n",
              "        line-height: 24px;\n",
              "        font-family: 'Montserrat', sans-serif !important;\n",
              "        \n",
              "        background: #f1f2f3;\n",
              "        border-width: medium;\n",
              "        text-align: center;\n",
              "        \n",
              "        font-weight: 400;\n",
              "        \n",
              "        border-radius: 5px;\n",
              "        padding: 2px 5px;\n",
              "        display: block;\n",
              "        margin: 3px 2px;\n",
              "    \n",
              "    }\n",
              "    .spark-nlp-display-entity-type{\n",
              "        font-size: 14px;\n",
              "        line-height: 24px;\n",
              "        color: #ffffff;\n",
              "        font-family: 'Montserrat', sans-serif !important;\n",
              "        \n",
              "        text-transform: uppercase;\n",
              "        \n",
              "        font-weight: 500;\n",
              "\n",
              "        display: block;\n",
              "        padding: 3px 5px;\n",
              "    }\n",
              "    \n",
              "    .spark-nlp-display-entity-resolution{\n",
              "        font-size: 14px;\n",
              "        line-height: 24px;\n",
              "        color: #ffffff;\n",
              "        font-family: 'Vistol Regular', sans-serif !important;\n",
              "        \n",
              "        text-transform: uppercase;\n",
              "        \n",
              "        font-weight: 500;\n",
              "\n",
              "        display: block;\n",
              "        padding: 3px 5px;\n",
              "    }\n",
              "    \n",
              "    .spark-nlp-display-others{\n",
              "        font-size: 14px;\n",
              "        line-height: 24px;\n",
              "        font-family: 'Montserrat', sans-serif !important;\n",
              "        \n",
              "        font-weight: 400;\n",
              "    }\n",
              "\n",
              "</style>\n",
              " <span class=\"spark-nlp-display-others\" style=\"background-color: white\">A 66 years old male  was admited to Gastroenterology Clinic by elective hospital admission. His symptoms that lasted for the last 2 months: Asthenia, fatigue, increase of abdominal circumference, RUQ disconfort and jaundice. His </span><span class=\"spark-nlp-display-entity-wrapper\" style=\"background-color: #77b5feB3\"><span class=\"spark-nlp-display-entity-name\">lab </span><span class=\"spark-nlp-display-entity-type\">Test</span><span class=\"spark-nlp-display-entity-resolution\" style=\"background-color: #77b5feFF\">OMOP4976929 </span><span class=\"spark-nlp-display-entity-resolution\" style=\"background-color: #77b5feCC\">lab</span></span><span class=\"spark-nlp-display-others\" style=\"background-color: white\"> results are as following: </span><span class=\"spark-nlp-display-entity-wrapper\" style=\"background-color: #77b5feB3\"><span class=\"spark-nlp-display-entity-name\">Hemoglobin </span><span class=\"spark-nlp-display-entity-type\">Test</span><span class=\"spark-nlp-display-entity-resolution\" style=\"background-color: #77b5feFF\">LP14449-0 </span><span class=\"spark-nlp-display-entity-resolution\" style=\"background-color: #77b5feCC\">hemoglobin</span></span><span class=\"spark-nlp-display-others\" style=\"background-color: white\"> – 12,1 g/dl </span><span class=\"spark-nlp-display-entity-wrapper\" style=\"background-color: #77b5feB3\"><span class=\"spark-nlp-display-entity-name\">MCV </span><span class=\"spark-nlp-display-entity-type\">Test</span><span class=\"spark-nlp-display-entity-resolution\" style=\"background-color: #77b5feFF\">11272-2 </span><span class=\"spark-nlp-display-entity-resolution\" style=\"background-color: #77b5feCC\"> mcv</span></span><span class=\"spark-nlp-display-others\" style=\"background-color: white\"> – 125 fL </span><span class=\"spark-nlp-display-entity-wrapper\" style=\"background-color: #77b5feB3\"><span class=\"spark-nlp-display-entity-name\">AST </span><span class=\"spark-nlp-display-entity-type\">Test</span><span class=\"spark-nlp-display-entity-resolution\" style=\"background-color: #77b5feFF\">100-8 </span><span class=\"spark-nlp-display-entity-resolution\" style=\"background-color: #77b5feCC\"> ast</span></span><span class=\"spark-nlp-display-others\" style=\"background-color: white\"> (</span><span class=\"spark-nlp-display-entity-wrapper\" style=\"background-color: #77b5feB3\"><span class=\"spark-nlp-display-entity-name\">GOT </span><span class=\"spark-nlp-display-entity-type\">Test</span><span class=\"spark-nlp-display-entity-resolution\" style=\"background-color: #77b5feFF\">2322407 </span><span class=\"spark-nlp-display-entity-resolution\" style=\"background-color: #77b5feCC\">came</span></span><span class=\"spark-nlp-display-others\" style=\"background-color: white\">) – 102 U/L </span><span class=\"spark-nlp-display-entity-wrapper\" style=\"background-color: #77b5feB3\"><span class=\"spark-nlp-display-entity-name\">ALT </span><span class=\"spark-nlp-display-entity-type\">Test</span><span class=\"spark-nlp-display-entity-resolution\" style=\"background-color: #77b5feFF\">16324-6 </span><span class=\"spark-nlp-display-entity-resolution\" style=\"background-color: #77b5feCC\"> alt</span></span><span class=\"spark-nlp-display-others\" style=\"background-color: white\"> (</span><span class=\"spark-nlp-display-entity-wrapper\" style=\"background-color: #77b5feB3\"><span class=\"spark-nlp-display-entity-name\">GPT </span><span class=\"spark-nlp-display-entity-type\">Test</span><span class=\"spark-nlp-display-entity-resolution\" style=\"background-color: #77b5feFF\">2367-1 </span><span class=\"spark-nlp-display-entity-resolution\" style=\"background-color: #77b5feCC\"> gdh</span></span><span class=\"spark-nlp-display-others\" style=\"background-color: white\">) – 91 U/L </span><span class=\"spark-nlp-display-entity-wrapper\" style=\"background-color: #77b5feB3\"><span class=\"spark-nlp-display-entity-name\">GGT </span><span class=\"spark-nlp-display-entity-type\">Test</span><span class=\"spark-nlp-display-entity-resolution\" style=\"background-color: #77b5feFF\">17858-2 </span><span class=\"spark-nlp-display-entity-resolution\" style=\"background-color: #77b5feCC\"> ggt</span></span><span class=\"spark-nlp-display-others\" style=\"background-color: white\"> – 143 U/L BiT (</span><span class=\"spark-nlp-display-entity-wrapper\" style=\"background-color: #77b5feB3\"><span class=\"spark-nlp-display-entity-name\">total Bilirubin </span><span class=\"spark-nlp-display-entity-type\">Test</span><span class=\"spark-nlp-display-entity-resolution\" style=\"background-color: #77b5feFF\">LP285100-6 </span><span class=\"spark-nlp-display-entity-resolution\" style=\"background-color: #77b5feCC\">bilirubin/total</span></span><span class=\"spark-nlp-display-others\" style=\"background-color: white\">) – 1,92 g/dl </span><span class=\"spark-nlp-display-entity-wrapper\" style=\"background-color: #77b5feB3\"><span class=\"spark-nlp-display-entity-name\">Albumin </span><span class=\"spark-nlp-display-entity-type\">Test</span><span class=\"spark-nlp-display-entity-resolution\" style=\"background-color: #77b5feFF\">LP6118-6 </span><span class=\"spark-nlp-display-entity-resolution\" style=\"background-color: #77b5feCC\">albumin</span></span><span class=\"spark-nlp-display-others\" style=\"background-color: white\"> – 3,9 g/dl   </span><span class=\"spark-nlp-display-entity-wrapper\" style=\"background-color: #77b5feB3\"><span class=\"spark-nlp-display-entity-name\">Triglycerides </span><span class=\"spark-nlp-display-entity-type\">Test</span><span class=\"spark-nlp-display-entity-resolution\" style=\"background-color: #77b5feFF\">12228-3 </span><span class=\"spark-nlp-display-entity-resolution\" style=\"background-color: #77b5feCC\"> triglycerides</span></span><span class=\"spark-nlp-display-others\" style=\"background-color: white\"> - 205 mg/dl </span><span class=\"spark-nlp-display-entity-wrapper\" style=\"background-color: #77b5feB3\"><span class=\"spark-nlp-display-entity-name\">Total cholesterol </span><span class=\"spark-nlp-display-entity-type\">Test</span><span class=\"spark-nlp-display-entity-resolution\" style=\"background-color: #77b5feFF\">LP18020-5 </span><span class=\"spark-nlp-display-entity-resolution\" style=\"background-color: #77b5feCC\">cholesterol.total</span></span><span class=\"spark-nlp-display-others\" style=\"background-color: white\"> - 189 mg/dl.</span></div>"
            ]
          },
          "metadata": {}
        },
        {
          "output_type": "stream",
          "name": "stdout",
          "text": [
            "\n",
            "\n",
            "\n"
          ]
        },
        {
          "output_type": "display_data",
          "data": {
            "text/plain": [
              "<IPython.core.display.HTML object>"
            ],
            "text/html": [
              "\n",
              "<style>\n",
              "    @import url('https://fonts.googleapis.com/css2?family=Montserrat:wght@300;400;500;600;700&display=swap');\n",
              "    @import url('https://fonts.googleapis.com/css2?family=Vistol Regular:wght@300;400;500;600;700&display=swap');\n",
              "    \n",
              "    .spark-nlp-display-scroll-entities {\n",
              "        border: 1px solid #E7EDF0;\n",
              "        border-radius: 3px;\n",
              "        text-align: justify;\n",
              "        \n",
              "    }\n",
              "    .spark-nlp-display-scroll-entities span {  \n",
              "        font-size: 14px;\n",
              "        line-height: 24px;\n",
              "        color: #536B76;\n",
              "        font-family: 'Montserrat', sans-serif !important;\n",
              "    }\n",
              "    \n",
              "    .spark-nlp-display-entity-wrapper{\n",
              "    \n",
              "        display: inline-grid;\n",
              "        text-align: center;\n",
              "        border-radius: 4px;\n",
              "        margin: 0 2px 5px 2px;\n",
              "        padding: 1px\n",
              "    }\n",
              "    .spark-nlp-display-entity-name{\n",
              "        font-size: 14px;\n",
              "        line-height: 24px;\n",
              "        font-family: 'Montserrat', sans-serif !important;\n",
              "        \n",
              "        background: #f1f2f3;\n",
              "        border-width: medium;\n",
              "        text-align: center;\n",
              "        \n",
              "        font-weight: 400;\n",
              "        \n",
              "        border-radius: 5px;\n",
              "        padding: 2px 5px;\n",
              "        display: block;\n",
              "        margin: 3px 2px;\n",
              "    \n",
              "    }\n",
              "    .spark-nlp-display-entity-type{\n",
              "        font-size: 14px;\n",
              "        line-height: 24px;\n",
              "        color: #ffffff;\n",
              "        font-family: 'Montserrat', sans-serif !important;\n",
              "        \n",
              "        text-transform: uppercase;\n",
              "        \n",
              "        font-weight: 500;\n",
              "\n",
              "        display: block;\n",
              "        padding: 3px 5px;\n",
              "    }\n",
              "    \n",
              "    .spark-nlp-display-entity-resolution{\n",
              "        font-size: 14px;\n",
              "        line-height: 24px;\n",
              "        color: #ffffff;\n",
              "        font-family: 'Vistol Regular', sans-serif !important;\n",
              "        \n",
              "        text-transform: uppercase;\n",
              "        \n",
              "        font-weight: 500;\n",
              "\n",
              "        display: block;\n",
              "        padding: 3px 5px;\n",
              "    }\n",
              "    \n",
              "    .spark-nlp-display-others{\n",
              "        font-size: 14px;\n",
              "        line-height: 24px;\n",
              "        font-family: 'Montserrat', sans-serif !important;\n",
              "        \n",
              "        font-weight: 400;\n",
              "    }\n",
              "\n",
              "</style>\n",
              " <span class=\"spark-nlp-display-others\" style=\"background-color: white\">The patient is a 35 years old, male, admitted on 04/09/2019. He accidentally discovered to be infected with hepatitis B virus on 26/08/ 2019. He has no symptoms at the moment of examination. Past medical history: laparoscopic cholecystectomy due to gallstones. Personal history: active smoker, 1 pack/day, moderate alcohol intake.<br></span><span class=\"spark-nlp-display-entity-wrapper\" style=\"background-color: #77b5feB3\"><span class=\"spark-nlp-display-entity-name\">Serological markers </span><span class=\"spark-nlp-display-entity-type\">Test</span><span class=\"spark-nlp-display-entity-resolution\" style=\"background-color: #77b5feFF\">LP32742-6 </span><span class=\"spark-nlp-display-entity-resolution\" style=\"background-color: #77b5feCC\">serology</span></span><span class=\"spark-nlp-display-others\" style=\"background-color: white\"> on 26.08.2020<br>•            </span><span class=\"spark-nlp-display-entity-wrapper\" style=\"background-color: #77b5feB3\"><span class=\"spark-nlp-display-entity-name\">HBV DNA </span><span class=\"spark-nlp-display-entity-type\">Test</span><span class=\"spark-nlp-display-entity-resolution\" style=\"background-color: #77b5feFF\">95147-5 </span><span class=\"spark-nlp-display-entity-resolution\" style=\"background-color: #77b5feCC\"> hbv dna pnl</span></span><span class=\"spark-nlp-display-others\" style=\"background-color: white\"> = 2700 Ul/mL (> 2000 </span><span class=\"spark-nlp-display-entity-wrapper\" style=\"background-color: #77b5feB3\"><span class=\"spark-nlp-display-entity-name\">UI/ml </span><span class=\"spark-nlp-display-entity-type\">Test</span><span class=\"spark-nlp-display-entity-resolution\" style=\"background-color: #77b5feFF\">1766-5 </span><span class=\"spark-nlp-display-entity-resolution\" style=\"background-color: #77b5feCC\"> mlr</span></span><span class=\"spark-nlp-display-others\" style=\"background-color: white\">)<br>•            </span><span class=\"spark-nlp-display-entity-wrapper\" style=\"background-color: #77b5feB3\"><span class=\"spark-nlp-display-entity-name\">HBsAg </span><span class=\"spark-nlp-display-entity-type\">Test</span><span class=\"spark-nlp-display-entity-resolution\" style=\"background-color: #77b5feFF\">10674-0 </span><span class=\"spark-nlp-display-entity-resolution\" style=\"background-color: #77b5feCC\"> hbsag</span></span><span class=\"spark-nlp-display-others\" style=\"background-color: white\"> = Positive<br>•            </span><span class=\"spark-nlp-display-entity-wrapper\" style=\"background-color: #77b5feB3\"><span class=\"spark-nlp-display-entity-name\">HB envelope </span><span class=\"spark-nlp-display-entity-type\">Test</span><span class=\"spark-nlp-display-entity-resolution\" style=\"background-color: #77b5feFF\">13953-5 </span><span class=\"spark-nlp-display-entity-resolution\" style=\"background-color: #77b5feCC\"> hbv e</span></span><span class=\"spark-nlp-display-others\" style=\"background-color: white\"> Ag = Negative<br>•            </span><span class=\"spark-nlp-display-entity-wrapper\" style=\"background-color: #77b5feB3\"><span class=\"spark-nlp-display-entity-name\">HB envelope antibody </span><span class=\"spark-nlp-display-entity-type\">Test</span><span class=\"spark-nlp-display-entity-resolution\" style=\"background-color: #77b5feFF\">LP171375-1 </span><span class=\"spark-nlp-display-entity-resolution\" style=\"background-color: #77b5feCC\">hna ab panel</span></span><span class=\"spark-nlp-display-others\" style=\"background-color: white\"> = Positive<br><br>Other lab results:<br>•         </span><span class=\"spark-nlp-display-entity-wrapper\" style=\"background-color: #77b5feB3\"><span class=\"spark-nlp-display-entity-name\">Haptoglobin </span><span class=\"spark-nlp-display-entity-type\">Test</span><span class=\"spark-nlp-display-entity-resolution\" style=\"background-color: #77b5feFF\">LP16411-8 </span><span class=\"spark-nlp-display-entity-resolution\" style=\"background-color: #77b5feCC\">haptoglobin</span></span><span class=\"spark-nlp-display-others\" style=\"background-color: white\"> 1.68 g/L<br>•         </span><span class=\"spark-nlp-display-entity-wrapper\" style=\"background-color: #77b5feB3\"><span class=\"spark-nlp-display-entity-name\">GGT </span><span class=\"spark-nlp-display-entity-type\">Test</span><span class=\"spark-nlp-display-entity-resolution\" style=\"background-color: #77b5feFF\">17858-2 </span><span class=\"spark-nlp-display-entity-resolution\" style=\"background-color: #77b5feCC\"> ggt</span></span><span class=\"spark-nlp-display-others\" style=\"background-color: white\"> 184 U/L<br>•         </span><span class=\"spark-nlp-display-entity-wrapper\" style=\"background-color: #77b5feB3\"><span class=\"spark-nlp-display-entity-name\">Blood glucose </span><span class=\"spark-nlp-display-entity-type\">Test</span><span class=\"spark-nlp-display-entity-resolution\" style=\"background-color: #77b5feFF\">LA19766-7 </span><span class=\"spark-nlp-display-entity-resolution\" style=\"background-color: #77b5feCC\">glucose monitor</span></span><span class=\"spark-nlp-display-others\" style=\"background-color: white\"> 96.5 mg/dL</span></div>"
            ]
          },
          "metadata": {}
        },
        {
          "output_type": "stream",
          "name": "stdout",
          "text": [
            "\n",
            "\n",
            "\n"
          ]
        },
        {
          "output_type": "display_data",
          "data": {
            "text/plain": [
              "<IPython.core.display.HTML object>"
            ],
            "text/html": [
              "\n",
              "<style>\n",
              "    @import url('https://fonts.googleapis.com/css2?family=Montserrat:wght@300;400;500;600;700&display=swap');\n",
              "    @import url('https://fonts.googleapis.com/css2?family=Vistol Regular:wght@300;400;500;600;700&display=swap');\n",
              "    \n",
              "    .spark-nlp-display-scroll-entities {\n",
              "        border: 1px solid #E7EDF0;\n",
              "        border-radius: 3px;\n",
              "        text-align: justify;\n",
              "        \n",
              "    }\n",
              "    .spark-nlp-display-scroll-entities span {  \n",
              "        font-size: 14px;\n",
              "        line-height: 24px;\n",
              "        color: #536B76;\n",
              "        font-family: 'Montserrat', sans-serif !important;\n",
              "    }\n",
              "    \n",
              "    .spark-nlp-display-entity-wrapper{\n",
              "    \n",
              "        display: inline-grid;\n",
              "        text-align: center;\n",
              "        border-radius: 4px;\n",
              "        margin: 0 2px 5px 2px;\n",
              "        padding: 1px\n",
              "    }\n",
              "    .spark-nlp-display-entity-name{\n",
              "        font-size: 14px;\n",
              "        line-height: 24px;\n",
              "        font-family: 'Montserrat', sans-serif !important;\n",
              "        \n",
              "        background: #f1f2f3;\n",
              "        border-width: medium;\n",
              "        text-align: center;\n",
              "        \n",
              "        font-weight: 400;\n",
              "        \n",
              "        border-radius: 5px;\n",
              "        padding: 2px 5px;\n",
              "        display: block;\n",
              "        margin: 3px 2px;\n",
              "    \n",
              "    }\n",
              "    .spark-nlp-display-entity-type{\n",
              "        font-size: 14px;\n",
              "        line-height: 24px;\n",
              "        color: #ffffff;\n",
              "        font-family: 'Montserrat', sans-serif !important;\n",
              "        \n",
              "        text-transform: uppercase;\n",
              "        \n",
              "        font-weight: 500;\n",
              "\n",
              "        display: block;\n",
              "        padding: 3px 5px;\n",
              "    }\n",
              "    \n",
              "    .spark-nlp-display-entity-resolution{\n",
              "        font-size: 14px;\n",
              "        line-height: 24px;\n",
              "        color: #ffffff;\n",
              "        font-family: 'Vistol Regular', sans-serif !important;\n",
              "        \n",
              "        text-transform: uppercase;\n",
              "        \n",
              "        font-weight: 500;\n",
              "\n",
              "        display: block;\n",
              "        padding: 3px 5px;\n",
              "    }\n",
              "    \n",
              "    .spark-nlp-display-others{\n",
              "        font-size: 14px;\n",
              "        line-height: 24px;\n",
              "        font-family: 'Montserrat', sans-serif !important;\n",
              "        \n",
              "        font-weight: 400;\n",
              "    }\n",
              "\n",
              "</style>\n",
              " <span class=\"spark-nlp-display-others\" style=\"background-color: white\">The 62 years old woman was admitted to Internal Medicine Department following chest pain, dyspnoea and diarrhea in the last three weeks. At admission, her </span><span class=\"spark-nlp-display-entity-wrapper\" style=\"background-color: #89AB23B3\"><span class=\"spark-nlp-display-entity-name\">blood pressure was 156/88 mmHg </span><span class=\"spark-nlp-display-entity-type\">Blood_Pressure</span><span class=\"spark-nlp-display-entity-resolution\" style=\"background-color: #89AB23FF\">LG49901-8 </span><span class=\"spark-nlp-display-entity-resolution\" style=\"background-color: #89AB23CC\">glucose|pt|water|180.156 g/mole</span></span><span class=\"spark-nlp-display-others\" style=\"background-color: white\">, with a pulse of 89 bpm. The </span><span class=\"spark-nlp-display-entity-wrapper\" style=\"background-color: #7C995DB3\"><span class=\"spark-nlp-display-entity-name\">temperature was 36.3 C </span><span class=\"spark-nlp-display-entity-type\">Temperature</span><span class=\"spark-nlp-display-entity-resolution\" style=\"background-color: #7C995DFF\">LA31263-9 </span><span class=\"spark-nlp-display-entity-resolution\" style=\"background-color: #7C995DCC\">36kd</span></span><span class=\"spark-nlp-display-others\" style=\"background-color: white\">. The lab results showed a </span><span class=\"spark-nlp-display-entity-wrapper\" style=\"background-color: #77b5feB3\"><span class=\"spark-nlp-display-entity-name\">Hemoglobin </span><span class=\"spark-nlp-display-entity-type\">Test</span><span class=\"spark-nlp-display-entity-resolution\" style=\"background-color: #77b5feFF\">LP14449-0 </span><span class=\"spark-nlp-display-entity-resolution\" style=\"background-color: #77b5feCC\">hemoglobin</span></span><span class=\"spark-nlp-display-others\" style=\"background-color: white\"> of 9.2 g/dL, a </span><span class=\"spark-nlp-display-entity-wrapper\" style=\"background-color: #77b5feB3\"><span class=\"spark-nlp-display-entity-name\">total cholesterol level </span><span class=\"spark-nlp-display-entity-type\">Test</span><span class=\"spark-nlp-display-entity-resolution\" style=\"background-color: #77b5feFF\">11054-4 </span><span class=\"spark-nlp-display-entity-resolution\" style=\"background-color: #77b5feCC\"> cholesterol total</span></span><span class=\"spark-nlp-display-others\" style=\"background-color: white\"> of 239 mg/dL, </span><span class=\"spark-nlp-display-entity-wrapper\" style=\"background-color: #77b5feB3\"><span class=\"spark-nlp-display-entity-name\">Serum albumin </span><span class=\"spark-nlp-display-entity-type\">Test</span><span class=\"spark-nlp-display-entity-resolution\" style=\"background-color: #77b5feFF\">LP6118-6 </span><span class=\"spark-nlp-display-entity-resolution\" style=\"background-color: #77b5feCC\">albumin</span></span><span class=\"spark-nlp-display-others\" style=\"background-color: white\"> of 5.4 g/dL. An </span><span class=\"spark-nlp-display-entity-wrapper\" style=\"background-color: #77b5feB3\"><span class=\"spark-nlp-display-entity-name\">ECG </span><span class=\"spark-nlp-display-entity-type\">Test</span><span class=\"spark-nlp-display-entity-resolution\" style=\"background-color: #77b5feFF\">LP149975-7 </span><span class=\"spark-nlp-display-entity-resolution\" style=\"background-color: #77b5feCC\">ecg</span></span><span class=\"spark-nlp-display-others\" style=\"background-color: white\"> was performed and it showed normal sinus rhytm.</span></div>"
            ]
          },
          "metadata": {}
        },
        {
          "output_type": "stream",
          "name": "stdout",
          "text": [
            "\n",
            "\n",
            "\n"
          ]
        },
        {
          "output_type": "display_data",
          "data": {
            "text/plain": [
              "<IPython.core.display.HTML object>"
            ],
            "text/html": [
              "\n",
              "<style>\n",
              "    @import url('https://fonts.googleapis.com/css2?family=Montserrat:wght@300;400;500;600;700&display=swap');\n",
              "    @import url('https://fonts.googleapis.com/css2?family=Vistol Regular:wght@300;400;500;600;700&display=swap');\n",
              "    \n",
              "    .spark-nlp-display-scroll-entities {\n",
              "        border: 1px solid #E7EDF0;\n",
              "        border-radius: 3px;\n",
              "        text-align: justify;\n",
              "        \n",
              "    }\n",
              "    .spark-nlp-display-scroll-entities span {  \n",
              "        font-size: 14px;\n",
              "        line-height: 24px;\n",
              "        color: #536B76;\n",
              "        font-family: 'Montserrat', sans-serif !important;\n",
              "    }\n",
              "    \n",
              "    .spark-nlp-display-entity-wrapper{\n",
              "    \n",
              "        display: inline-grid;\n",
              "        text-align: center;\n",
              "        border-radius: 4px;\n",
              "        margin: 0 2px 5px 2px;\n",
              "        padding: 1px\n",
              "    }\n",
              "    .spark-nlp-display-entity-name{\n",
              "        font-size: 14px;\n",
              "        line-height: 24px;\n",
              "        font-family: 'Montserrat', sans-serif !important;\n",
              "        \n",
              "        background: #f1f2f3;\n",
              "        border-width: medium;\n",
              "        text-align: center;\n",
              "        \n",
              "        font-weight: 400;\n",
              "        \n",
              "        border-radius: 5px;\n",
              "        padding: 2px 5px;\n",
              "        display: block;\n",
              "        margin: 3px 2px;\n",
              "    \n",
              "    }\n",
              "    .spark-nlp-display-entity-type{\n",
              "        font-size: 14px;\n",
              "        line-height: 24px;\n",
              "        color: #ffffff;\n",
              "        font-family: 'Montserrat', sans-serif !important;\n",
              "        \n",
              "        text-transform: uppercase;\n",
              "        \n",
              "        font-weight: 500;\n",
              "\n",
              "        display: block;\n",
              "        padding: 3px 5px;\n",
              "    }\n",
              "    \n",
              "    .spark-nlp-display-entity-resolution{\n",
              "        font-size: 14px;\n",
              "        line-height: 24px;\n",
              "        color: #ffffff;\n",
              "        font-family: 'Vistol Regular', sans-serif !important;\n",
              "        \n",
              "        text-transform: uppercase;\n",
              "        \n",
              "        font-weight: 500;\n",
              "\n",
              "        display: block;\n",
              "        padding: 3px 5px;\n",
              "    }\n",
              "    \n",
              "    .spark-nlp-display-others{\n",
              "        font-size: 14px;\n",
              "        line-height: 24px;\n",
              "        font-family: 'Montserrat', sans-serif !important;\n",
              "        \n",
              "        font-weight: 400;\n",
              "    }\n",
              "\n",
              "</style>\n",
              " <span class=\"spark-nlp-display-others\" style=\"background-color: white\">Final diagnosis:  </span><span class=\"spark-nlp-display-entity-wrapper\" style=\"background-color: #77b5feB3\"><span class=\"spark-nlp-display-entity-name\">FLT3 gene mutation analysis </span><span class=\"spark-nlp-display-entity-type\">Test</span><span class=\"spark-nlp-display-entity-resolution\" style=\"background-color: #77b5feFF\">LP228450-5 </span><span class=\"spark-nlp-display-entity-resolution\" style=\"background-color: #77b5feCC\">flt3 gene targeted mutation analysis</span></span><span class=\"spark-nlp-display-others\" style=\"background-color: white\">: </span><span class=\"spark-nlp-display-entity-wrapper\" style=\"background-color: #77b5feB3\"><span class=\"spark-nlp-display-entity-name\">DNA </span><span class=\"spark-nlp-display-entity-type\">Test</span><span class=\"spark-nlp-display-entity-resolution\" style=\"background-color: #77b5feFF\">21551-7 </span><span class=\"spark-nlp-display-entity-resolution\" style=\"background-color: #77b5feCC\"> dna</span></span><span class=\"spark-nlp-display-others\" style=\"background-color: white\"> was extracted from the </span><span class=\"spark-nlp-display-entity-wrapper\" style=\"background-color: #77b5feB3\"><span class=\"spark-nlp-display-entity-name\">peripheral blood specimen </span><span class=\"spark-nlp-display-entity-type\">Test</span><span class=\"spark-nlp-display-entity-resolution\" style=\"background-color: #77b5feFF\">LP7072-4 </span><span class=\"spark-nlp-display-entity-resolution\" style=\"background-color: #77b5feCC\">blood peripheral</span></span><span class=\"spark-nlp-display-others\" style=\"background-color: white\"> and a </span><span class=\"spark-nlp-display-entity-wrapper\" style=\"background-color: #77b5feB3\"><span class=\"spark-nlp-display-entity-name\">polymerase chain reaction </span><span class=\"spark-nlp-display-entity-type\">Test</span><span class=\"spark-nlp-display-entity-resolution\" style=\"background-color: #77b5feFF\">11011-4 </span><span class=\"spark-nlp-display-entity-resolution\" style=\"background-color: #77b5feCC\"> polymerase chain reaction</span></span><span class=\"spark-nlp-display-others\" style=\"background-color: white\"> (</span><span class=\"spark-nlp-display-entity-wrapper\" style=\"background-color: #77b5feB3\"><span class=\"spark-nlp-display-entity-name\">PCR)-based assay </span><span class=\"spark-nlp-display-entity-type\">Test</span><span class=\"spark-nlp-display-entity-resolution\" style=\"background-color: #77b5feFF\">48596-1 </span><span class=\"spark-nlp-display-entity-resolution\" style=\"background-color: #77b5feCC\"> apcr pnl</span></span><span class=\"spark-nlp-display-others\" style=\"background-color: white\"> performed that is designed to detect the presence of two separate mutations in the </span><span class=\"spark-nlp-display-entity-wrapper\" style=\"background-color: #77b5feB3\"><span class=\"spark-nlp-display-entity-name\">FLT3 gene </span><span class=\"spark-nlp-display-entity-type\">Test</span><span class=\"spark-nlp-display-entity-resolution\" style=\"background-color: #77b5feFF\">LP61778-4 </span><span class=\"spark-nlp-display-entity-resolution\" style=\"background-color: #77b5feCC\">flt3 gene</span></span><span class=\"spark-nlp-display-others\" style=\"background-color: white\">: (1) internal tandem duplication within a susceptible region that includes coding sequence for the intracellular juxtamembrane domain and (2) point mutations in the codon for </span><span class=\"spark-nlp-display-entity-wrapper\" style=\"background-color: #77b5feB3\"><span class=\"spark-nlp-display-entity-name\">ASP835 </span><span class=\"spark-nlp-display-entity-type\">Test</span><span class=\"spark-nlp-display-entity-resolution\" style=\"background-color: #77b5feFF\">40345-1 </span><span class=\"spark-nlp-display-entity-resolution\" style=\"background-color: #77b5feCC\"> t8356gc</span></span><span class=\"spark-nlp-display-others\" style=\"background-color: white\">.   Negative. Neither expansion of the region susceptible to internal tandem duplication nor changes consistent with mutation of the codon for </span><span class=\"spark-nlp-display-entity-wrapper\" style=\"background-color: #77b5feB3\"><span class=\"spark-nlp-display-entity-name\">ASP835 </span><span class=\"spark-nlp-display-entity-type\">Test</span><span class=\"spark-nlp-display-entity-resolution\" style=\"background-color: #77b5feFF\">40345-1 </span><span class=\"spark-nlp-display-entity-resolution\" style=\"background-color: #77b5feCC\"> t8356gc</span></span><span class=\"spark-nlp-display-others\" style=\"background-color: white\"> were identified.</span></div>"
            ]
          },
          "metadata": {}
        },
        {
          "output_type": "stream",
          "name": "stdout",
          "text": [
            "\n",
            "\n",
            "\n"
          ]
        }
      ]
    }
  ]
}
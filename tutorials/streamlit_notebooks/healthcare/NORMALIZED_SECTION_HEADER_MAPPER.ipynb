{
  "cells": [
    {
      "cell_type": "markdown",
      "metadata": {
        "id": "N4bAsOG64nZL"
      },
      "source": [
        "![JohnSnowLabs](https://nlp.johnsnowlabs.com/assets/images/logo.png)\n",
        "\n",
        "[![Open In Colab](https://colab.research.google.com/assets/colab-badge.svg)](https://colab.research.google.com/github/JohnSnowLabs/spark-nlp-workshop/blob/master/tutorials/streamlit_notebooks/healthcare/NORMALIZED_SECTION_HEADER_MAPPER.ipynb)"
      ]
    },
    {
      "cell_type": "markdown",
      "metadata": {
        "id": "04rkpbqyBXuA"
      },
      "source": [
        "# **`normalized_section_header_mapper` model**"
      ]
    },
    {
      "cell_type": "markdown",
      "metadata": {
        "id": "ISNyGR4K4Y_P"
      },
      "source": [
        "# **Colab Setup**"
      ]
    },
    {
      "cell_type": "code",
      "execution_count": null,
      "metadata": {
        "id": "dnJ9X-mbEOMr"
      },
      "outputs": [],
      "source": [
        "import json, os\n",
        "from google.colab import files\n",
        "\n",
        "if 'spark_jsl.json' not in os.listdir():\n",
        "  license_keys = files.upload()\n",
        "  os.rename(list(license_keys.keys())[0], 'spark_jsl.json')\n",
        "\n",
        "with open('spark_jsl.json') as f:\n",
        "    license_keys = json.load(f)\n",
        "\n",
        "# Defining license key-value pairs as local variables\n",
        "locals().update(license_keys)\n",
        "os.environ.update(license_keys)"
      ]
    },
    {
      "cell_type": "code",
      "execution_count": null,
      "metadata": {
        "id": "qeg3QosiFf5u"
      },
      "outputs": [],
      "source": [
        "# Installing pyspark and spark-nlp\n",
        "! pip install --upgrade -q pyspark==3.1.2 spark-nlp==$PUBLIC_VERSION\n",
        "\n",
        "# Installing Spark NLP Healthcare\n",
        "! pip install --upgrade -q spark-nlp-jsl==$JSL_VERSION  --extra-index-url https://pypi.johnsnowlabs.com/$SECRET\n",
        "\n",
        "# Installing Spark NLP Display Library for visualization\n",
        "! pip install -q spark-nlp-display"
      ]
    },
    {
      "cell_type": "code",
      "execution_count": 3,
      "metadata": {
        "id": "JK4D8yjTPlgJ",
        "colab": {
          "base_uri": "https://localhost:8080/",
          "height": 259
        },
        "outputId": "9df02254-d431-4224-903d-01d685d91871"
      },
      "outputs": [
        {
          "output_type": "stream",
          "name": "stdout",
          "text": [
            "Spark NLP Version : 5.0.1\n",
            "Spark NLP_JSL Version : 5.0.1\n"
          ]
        },
        {
          "output_type": "execute_result",
          "data": {
            "text/plain": [
              "<pyspark.sql.session.SparkSession at 0x7c0bb0171720>"
            ],
            "text/html": [
              "\n",
              "            <div>\n",
              "                <p><b>SparkSession - in-memory</b></p>\n",
              "                \n",
              "        <div>\n",
              "            <p><b>SparkContext</b></p>\n",
              "\n",
              "            <p><a href=\"http://81316d6424c7:4040\">Spark UI</a></p>\n",
              "\n",
              "            <dl>\n",
              "              <dt>Version</dt>\n",
              "                <dd><code>v3.1.2</code></dd>\n",
              "              <dt>Master</dt>\n",
              "                <dd><code>local[*]</code></dd>\n",
              "              <dt>AppName</dt>\n",
              "                <dd><code>Spark NLP Licensed</code></dd>\n",
              "            </dl>\n",
              "        </div>\n",
              "        \n",
              "            </div>\n",
              "        "
            ]
          },
          "metadata": {},
          "execution_count": 3
        }
      ],
      "source": [
        "import sparknlp\n",
        "import sparknlp_jsl\n",
        "\n",
        "from sparknlp.base import *\n",
        "from sparknlp.annotator import *\n",
        "from sparknlp_jsl.annotator import *\n",
        "\n",
        "from pyspark.sql import SparkSession\n",
        "from pyspark.sql import functions as F\n",
        "from pyspark.ml import Pipeline,PipelineModel\n",
        "from pyspark.sql.types import StringType, IntegerType\n",
        "\n",
        "import pandas as pd\n",
        "pd.set_option('display.max_colwidth', 200)\n",
        "\n",
        "import warnings\n",
        "warnings.filterwarnings('ignore')\n",
        "\n",
        "params = {\"spark.driver.memory\":\"16G\",\n",
        "          \"spark.kryoserializer.buffer.max\":\"2000M\",\n",
        "          \"spark.driver.maxResultSize\":\"2000M\"}\n",
        "\n",
        "spark = sparknlp_jsl.start(license_keys['SECRET'],params=params)\n",
        "\n",
        "print(\"Spark NLP Version :\", sparknlp.version())\n",
        "print(\"Spark NLP_JSL Version :\", sparknlp_jsl.version())\n",
        "\n",
        "spark"
      ]
    },
    {
      "cell_type": "markdown",
      "metadata": {
        "id": "mitty7tK1Lux"
      },
      "source": [
        "# **🔎 For about models**"
      ]
    },
    {
      "cell_type": "markdown",
      "metadata": {
        "id": "h48IlU5V1QJl"
      },
      "source": [
        "### 📌 **normalized_section_header_mapper**\n",
        "\n",
        "This pretrained pipeline normalizes the section headers in clinical notes. It returns two levels of normalization called level_1 and level_2."
      ]
    },
    {
      "cell_type": "markdown",
      "metadata": {
        "id": "Ay08hTB11pLM"
      },
      "source": [
        "# **🔎Define Spark NLP pipeline**"
      ]
    },
    {
      "cell_type": "code",
      "execution_count": null,
      "metadata": {
        "colab": {
          "base_uri": "https://localhost:8080/"
        },
        "id": "dJxBdHQa0iey",
        "outputId": "118ea31c-31f5-40d8-992a-e3c2eb076949"
      },
      "outputs": [
        {
          "output_type": "stream",
          "name": "stdout",
          "text": [
            "embeddings_clinical download started this may take some time.\n",
            "Approximate size to download 1.6 GB\n",
            "[OK!]\n",
            "ner_jsl_slim download started this may take some time.\n",
            "[OK!]\n",
            "normalized_section_header_mapper download started this may take some time.\n",
            "[OK!]\n"
          ]
        }
      ],
      "source": [
        "document_assembler = DocumentAssembler()\\\n",
        "      .setInputCol('text')\\\n",
        "      .setOutputCol('document')\n",
        "\n",
        "sentence_detector = SentenceDetector()\\\n",
        "      .setInputCols([\"document\"])\\\n",
        "      .setOutputCol(\"sentence\")\n",
        "\n",
        "tokenizer = Tokenizer()\\\n",
        "      .setInputCols(\"sentence\")\\\n",
        "      .setOutputCol(\"token\")\n",
        "\n",
        "embeddings = WordEmbeddingsModel.pretrained(\"embeddings_clinical\", \"en\",\"clinical/models\")\\\n",
        "      .setInputCols([\"sentence\", \"token\"])\\\n",
        "      .setOutputCol(\"word_embeddings\")\n",
        "\n",
        "clinical_ner = MedicalNerModel.pretrained(\"ner_jsl_slim\", \"en\", \"clinical/models\")\\\n",
        "      .setInputCols([\"sentence\",\"token\", \"word_embeddings\"])\\\n",
        "      .setOutputCol(\"ner\")\n",
        "\n",
        "ner_converter = NerConverterInternal()\\\n",
        "      .setInputCols([\"sentence\", \"token\", \"ner\"])\\\n",
        "      .setOutputCol(\"ner_chunk\")\\\n",
        "      .setWhiteList([\"Header\"])\n",
        "\n",
        "chunkerMapper = ChunkMapperModel.pretrained(\"normalized_section_header_mapper\", \"en\", \"clinical/models\") \\\n",
        "      .setInputCols(\"ner_chunk\")\\\n",
        "      .setOutputCol(\"mappings\")\\\n",
        "      .setRel(\"level_1\") #or level_2\n",
        "\n",
        "pipeline = Pipeline().setStages([\n",
        "    document_assembler,\n",
        "    sentence_detector,\n",
        "    tokenizer,\n",
        "    embeddings,\n",
        "    clinical_ner,\n",
        "    ner_converter,\n",
        "    chunkerMapper])\n",
        "\n"
      ]
    },
    {
      "cell_type": "markdown",
      "metadata": {
        "id": "8G-YK3gs2PpT"
      },
      "source": [
        "# **🔎Sample Text**"
      ]
    },
    {
      "cell_type": "code",
      "execution_count": null,
      "metadata": {
        "colab": {
          "base_uri": "https://localhost:8080/"
        },
        "id": "MvxK0aIH25qk",
        "outputId": "0c4b198b-d2ee-4abf-c68a-38be2c21dd02"
      },
      "outputs": [
        {
          "output_type": "stream",
          "name": "stdout",
          "text": [
            "+-----------------------------------------------------------------------------------------------------------------------------------------------------------------------------------------------------------------------------------------------------------------------------------------------------------------------------------------------------------------------------------------------------------------------------------------------------------------------------------------------------------------------------------------------------------------------------------------------------------------------------------------------------------------------------------------------------------------------------------------------------------------------------------------------------------------------------------------------------------------------------------------------------------------------------------------------------------------------------------------------------------------------------------------------------------------------------------------------------------------------------------------------------------------------------------------------------------------------------------------------------------------------------------------------------------------------------------------------------------------------------------------------------------------------------------------------------------------------------------------------------------------------------------------------------------------------------------------------------------------------------------------------------------------------------------------------------------------------------------------------------------------------------------------------------------------------------------------------------------------------------------------------------------------------------------------------------------------------------------------------------------------------------------------------------------------------------------------------------------------------------------------------------------------------------------------------------------------------------------------------------------------------------------------------------------------------------------------------------------------------------------------------+\n",
            "|text                                                                                                                                                                                                                                                                                                                                                                                                                                                                                                                                                                                                                                                                                                                                                                                                                                                                                                                                                                                                                                                                                                                                                                                                                                                                                                                                                                                                                                                                                                                                                                                                                                                                                                                                                                                                                                                                                                                                                                                                                                                                                                                                                                                                                                                                                                                                                                                           |\n",
            "+-----------------------------------------------------------------------------------------------------------------------------------------------------------------------------------------------------------------------------------------------------------------------------------------------------------------------------------------------------------------------------------------------------------------------------------------------------------------------------------------------------------------------------------------------------------------------------------------------------------------------------------------------------------------------------------------------------------------------------------------------------------------------------------------------------------------------------------------------------------------------------------------------------------------------------------------------------------------------------------------------------------------------------------------------------------------------------------------------------------------------------------------------------------------------------------------------------------------------------------------------------------------------------------------------------------------------------------------------------------------------------------------------------------------------------------------------------------------------------------------------------------------------------------------------------------------------------------------------------------------------------------------------------------------------------------------------------------------------------------------------------------------------------------------------------------------------------------------------------------------------------------------------------------------------------------------------------------------------------------------------------------------------------------------------------------------------------------------------------------------------------------------------------------------------------------------------------------------------------------------------------------------------------------------------------------------------------------------------------------------------------------------------+\n",
            "|ADMISSION DIAGNOSIS Upper respiratory illness with apnea, possible pertussis.\n",
            "DISCHARGE DIAGNOSIS Upper respiratory illness with apnea, possible pertussis.\n",
            "PATIENT HISTORY This is a one plus-month-old female with respiratory symptoms for approximately a week prior to admission.  This involved cough, post-tussive emesis, questionable fever, but only 99.7.  Their usual doctor prescribed amoxicillin over the phone.  The coughing persisted and worsened.  She went to the ER, where sats were normal at baseline, but dropped into the 80s with coughing spells.  They did witness some apnea.  They gave some Rocephin, did some labs, and the patient was transferred to hospital.\n",
            "GENERAL HISTORY AND PHYSICAL On admission. there was some nasal discharge. Remainder of the HEENT was normal.Had few rhonchi,  No retractions,  No significant coughing or apnea during the admission physical. abdomen  benign.  \n",
            "RADIOGRAPHIC STUDIES She had a CBC done Garberville, which showed a white count of 12.4, with a differential of 10 segs, 82 lymphs, 8 monos, hemoglobin of 15, hematocrit 42, platelets 296,000, and a normal BMP.  An x-ray was done and I do not have an official interpretation, but to the admitting physician, Dr. X it showed no significant infiltrate.  Well at hospital, she had a rapid influenza swab done, which was negative.  She had a rapid RSV done, which is still not in the chart, but I believe I was told that it was negative.  She also had a pertussis PCR swab done and a pertussis culture done, neither of which has result in the chart.  I do know that the pertussis culture proved to be negative.\n",
            "HOSPITAL COURSE The baby was afebrile.  Required no oxygen in the hospital.  Actually fed reasonably well.  Did have one episode of coughing with slight emesis.  Appeared basically quite well between episodes.  Had no apnea witnessed and after overnight observation, the parents were anxious to go home.  The patient was started on Zithromax in the hospital.\n",
            "DISCHARGE CONDITION The patient was in stable condition and good condition on exam at the time and was discharged home on Zithromax to be followed up in the office within a week.\n",
            "DISCHARGE INSTRUCTIONS Include usual diet and to follow up within a week, but certainly sooner if the coughing is worse and there is cyanosis or apnea again.|\n",
            "+-----------------------------------------------------------------------------------------------------------------------------------------------------------------------------------------------------------------------------------------------------------------------------------------------------------------------------------------------------------------------------------------------------------------------------------------------------------------------------------------------------------------------------------------------------------------------------------------------------------------------------------------------------------------------------------------------------------------------------------------------------------------------------------------------------------------------------------------------------------------------------------------------------------------------------------------------------------------------------------------------------------------------------------------------------------------------------------------------------------------------------------------------------------------------------------------------------------------------------------------------------------------------------------------------------------------------------------------------------------------------------------------------------------------------------------------------------------------------------------------------------------------------------------------------------------------------------------------------------------------------------------------------------------------------------------------------------------------------------------------------------------------------------------------------------------------------------------------------------------------------------------------------------------------------------------------------------------------------------------------------------------------------------------------------------------------------------------------------------------------------------------------------------------------------------------------------------------------------------------------------------------------------------------------------------------------------------------------------------------------------------------------------+\n",
            "\n"
          ]
        }
      ],
      "source": [
        "sample_text = \"\"\"ADMISSION DIAGNOSIS Upper respiratory illness with apnea, possible pertussis.\n",
        "DISCHARGE DIAGNOSIS Upper respiratory illness with apnea, possible pertussis.\n",
        "PATIENT HISTORY This is a one plus-month-old female with respiratory symptoms for approximately a week prior to admission.  This involved cough, post-tussive emesis, questionable fever, but only 99.7.  Their usual doctor prescribed amoxicillin over the phone.  The coughing persisted and worsened.  She went to the ER, where sats were normal at baseline, but dropped into the 80s with coughing spells.  They did witness some apnea.  They gave some Rocephin, did some labs, and the patient was transferred to hospital.\n",
        "GENERAL HISTORY AND PHYSICAL On admission. there was some nasal discharge. Remainder of the HEENT was normal.Had few rhonchi,  No retractions,  No significant coughing or apnea during the admission physical. abdomen  benign.\n",
        "RADIOGRAPHIC STUDIES She had a CBC done Garberville, which showed a white count of 12.4, with a differential of 10 segs, 82 lymphs, 8 monos, hemoglobin of 15, hematocrit 42, platelets 296,000, and a normal BMP.  An x-ray was done and I do not have an official interpretation, but to the admitting physician, Dr. X it showed no significant infiltrate.  Well at hospital, she had a rapid influenza swab done, which was negative.  She had a rapid RSV done, which is still not in the chart, but I believe I was told that it was negative.  She also had a pertussis PCR swab done and a pertussis culture done, neither of which has result in the chart.  I do know that the pertussis culture proved to be negative.\n",
        "HOSPITAL COURSE The baby was afebrile.  Required no oxygen in the hospital.  Actually fed reasonably well.  Did have one episode of coughing with slight emesis.  Appeared basically quite well between episodes.  Had no apnea witnessed and after overnight observation, the parents were anxious to go home.  The patient was started on Zithromax in the hospital.\n",
        "DISCHARGE CONDITION The patient was in stable condition and good condition on exam at the time and was discharged home on Zithromax to be followed up in the office within a week.\n",
        "DISCHARGE INSTRUCTIONS Include usual diet and to follow up within a week, but certainly sooner if the coughing is worse and there is cyanosis or apnea again.\"\"\"\n",
        "\n",
        "\n",
        "df = spark.createDataFrame([[sample_text]]).toDF('text')\n",
        "df.show(truncate = False)"
      ]
    },
    {
      "cell_type": "markdown",
      "metadata": {
        "id": "cHRkkFpV3cGZ"
      },
      "source": [
        "# **🔎Run the pipeline**"
      ]
    },
    {
      "cell_type": "code",
      "execution_count": null,
      "metadata": {
        "id": "1LtasCE0P0_8"
      },
      "outputs": [],
      "source": [
        "result = pipeline.fit(df).transform(df)"
      ]
    },
    {
      "cell_type": "code",
      "execution_count": null,
      "metadata": {
        "colab": {
          "base_uri": "https://localhost:8080/"
        },
        "id": "A6ejXY0o3chf",
        "outputId": "601eb710-75c8-4a70-bbb8-f28ca2d00b17"
      },
      "outputs": [
        {
          "output_type": "stream",
          "name": "stdout",
          "text": [
            "+----------------------+-----------------------------+\n",
            "|ner_chunk             |normalized_headers           |\n",
            "+----------------------+-----------------------------+\n",
            "|ADMISSION DIAGNOSIS   |DIAGNOSIS                    |\n",
            "|DISCHARGE DIAGNOSIS   |ADMISSION DIAGNOSIS          |\n",
            "|PATIENT HISTORY       |DIAGNOSIS                    |\n",
            "|GENERAL HISTORY AND   |DISCHARGE DIAGNOSIS          |\n",
            "|RADIOGRAPHIC STUDIES  |HISTORY                      |\n",
            "|HOSPITAL COURSE       |EXPOSURE HISTORY             |\n",
            "|DISCHARGE CONDITION   |NONE                         |\n",
            "|DISCHARGE INSTRUCTIONS|LABORATORY AND RADIOLOGY DATA|\n",
            "|null                  |MAGNETIC RESONANCE IMAGING   |\n",
            "|null                  |COURSE TYPE                  |\n",
            "|null                  |HOSPITAL COURSE              |\n",
            "|null                  |DISCHARGE RELATED            |\n",
            "|null                  |DISCHARGE CONDITION          |\n",
            "|null                  |DISCHARGE RELATED            |\n",
            "|null                  |DISCHARGE INSTRUCTIONS       |\n",
            "+----------------------+-----------------------------+\n",
            "\n"
          ]
        }
      ],
      "source": [
        "result.select(F.explode(F.arrays_zip(result.ner_chunk.result,\n",
        "                                     result.mappings.result)).alias(\"col\"))\\\n",
        "      .select(F.expr(\"col['0']\").alias(\"ner_chunk\"),\n",
        "              F.expr(\"col['1']\").alias(\"normalized_headers\")).show(truncate=False)"
      ]
    },
    {
      "cell_type": "markdown",
      "source": [
        "# 📌 ner_section_header_diagnosis"
      ],
      "metadata": {
        "id": "SX5u_B7KfiNb"
      }
    },
    {
      "cell_type": "markdown",
      "metadata": {
        "id": "x8div-Fjfbyi"
      },
      "source": [
        "# **🔎Sample Text**"
      ]
    },
    {
      "cell_type": "code",
      "source": [
        "final_input_list = ['''\n",
        "Patient Name: Samantha Johnson\n",
        "Age: 52\n",
        "Gender: Female\n",
        "Patient Info:\n",
        "Name: Samantha Johnson\n",
        "Age: 52\n",
        "Gender: Female\n",
        "Medical History:\n",
        "Patient has a history of Chronic respiratory disease.\n",
        "Clinical History:\n",
        "Patient presented with shortness of breath and chest pain.\n",
        "Chief Complaint:\n",
        "Patient complained of chest pain and difficulty breathing.\n",
        "History of Present Illness:\n",
        "Patient has been experiencing chest pain and shortness of breath for the past week. Symptoms were relieved by medication at first but became worse over time.\n",
        "Past Medical History:\n",
        "Patient has a history of Asthma and was previously diagnosed with Bronchitis.\n",
        "Medications:\n",
        "Patient is currently taking Albuterol, Singulair, and Advair for respiratory issues.\n",
        "Allergies:\n",
        "Patient has a documented allergy to Penicillin.\n",
        "Physical Examination:\n",
        "Patient had diffuse wheezing and decreased breath sounds on lung auscultation. Heart rate and rhythm were regular.\n",
        "Laboratory Results:\n",
        "Pulmonary function test results showed a decrease in Forced Expiratory Volume in one second (FEV1).\n",
        "Imaging Studies:\n",
        "Chest x-ray showed bilateral infiltrates consistent with Chronic obstructive pulmonary disease (COPD).\n",
        "Diagnosis:\n",
        "The patient was diagnosed with COPD exacerbation.\n",
        "Treatment Plan:\n",
        "The patient was managed with nebulized bronchodilators, steroid therapy, and oxygen as needed. The patient was discharged with instructions to continue bronchodilator and steroid therapy and to follow up with primary care physician in two weeks.\n",
        "''',\n",
        "\"\"\"ADMISSION DIAGNOSIS Upper respiratory illness with apnea, possible pertussis.\n",
        "DISCHARGE DIAGNOSIS Upper respiratory illness with apnea, possible pertussis.\n",
        "PATIENT HISTORY This is a one plus-month-old female with respiratory symptoms for approximately a week prior to admission.  This involved cough, post-tussive emesis, questionable fever, but only 99.7.  Their usual doctor prescribed amoxicillin over the phone.  The coughing persisted and worsened.  She went to the ER, where sats were normal at baseline, but dropped into the 80s with coughing spells.  They did witness some apnea.  They gave some Rocephin, did some labs, and the patient was transferred to hospital.\n",
        "GENERAL HISTORY AND PHYSICAL On admission. there was some nasal discharge. Remainder of the HEENT was normal.Had few rhonchi,  No retractions,  No significant coughing or apnea during the admission physical. abdomen  benign.\n",
        "RADIOGRAPHIC STUDIES She had a CBC done Garberville, which showed a white count of 12.4, with a differential of 10 segs, 82 lymphs, 8 monos, hemoglobin of 15, hematocrit 42, platelets 296,000, and a normal BMP.  An x-ray was done and I do not have an official interpretation, but to the admitting physician, Dr. X it showed no significant infiltrate.  Well at hospital, she had a rapid influenza swab done, which was negative.  She had a rapid RSV done, which is still not in the chart, but I believe I was told that it was negative.  She also had a pertussis PCR swab done and a pertussis culture done, neither of which has result in the chart.  I do know that the pertussis culture proved to be negative.\n",
        "HOSPITAL COURSE The baby was afebrile.  Required no oxygen in the hospital.  Actually fed reasonably well.  Did have one episode of coughing with slight emesis.  Appeared basically quite well between episodes.  Had no apnea witnessed and after overnight observation, the parents were anxious to go home.  The patient was started on Zithromax in the hospital.\n",
        "DISCHARGE CONDITION The patient was in stable condition and good condition on exam at the time and was discharged home on Zithromax to be followed up in the office within a week.\n",
        "DISCHARGE INSTRUCTIONS Include usual diet and to follow up within a week, but certainly sooner if the coughing is worse and there is cyanosis or apnea again.\"\"\",\n",
        "\"\"\"PATIENT HISTORY The patient is a 56-year-old female with a history of systemic lupus erythematosus, who was last seen in rheumatology clinic approximately 4 months ago for bilateral hand discomfort, left greater than right.  The patient was seen on 10/30/07.  She had the same complaint.  She was given a trial of Elavil at bedtime because the thought was to see that represented ulnar or radial neuropathy.  She was also given a prescription for Zostrix cream but was unable to get it filled because of insurance coverage.  The patient reports some worsening of the symptoms especially involving at the dorsum of the left hand, and she points to the area that actually involves the dorsal aspect of the second, third, and fourth digits.  The patient recently has developed what sounds like an upper respiratory problem with a nonproductive cough for 3 days, although she reports that she has had subjective fevers for the past 3 or 4 days, but has not actually taken the temperature.  She has not had any night sweats or chills.  She has had no recent problems with chest pain, chest discomfort, shortness of breath or problems with GU or GI complaints.  She is returning today for routine followup evaluation.\n",
        "REVIEW OF SYSTEMS Noncontributory except for what was noted in the HPI and the remainder or complete review of systems is unremarkable.\n",
        "VITAL SIGNS  blood pressure 155/84, pulse 87, weight 223 pounds, and temperature 99.2. She is a well-developed, well-nourished female appearing her staged age.  She is alert, oriented, and cooperative. Normocephalic and atraumatic.  There is no facial rash.  No oral lesions.  lungs;  Clear to auscultation.\n",
        "LABORATORY DATA wbc 5100, hemoglobin 11.1, hematocrit 32.8, and platelets 200,000.  Westergren sedimentation rate of 47.  Urinalysis is negative for protein and blood.  Lupus serology is pending.\n",
        "DISCHARGE INSTRUCTIONS The patient will have a trial of a resting wrist splint at night for the next 4 to 6 weeks.  If there is no improvement, the patient will return for corticosteroid injection of her carpal tunnel.,2.  Azithromycin 5-day dose pack.,3.  Robitussin Cough and Cold Flu to be taken twice a day.,4.  Atarax 25 mg at bedtime for sleep.,5.  The patient will return to the rheumatology clinic for a routine followup evaluation in 4 months.\"\"\",\n",
        "\"\"\"ADMISSION DIAGNOSIS  Intractable migraine with aura.\n",
        "FINAL DIAGNOSIS  Bipolar disorder.,iron deficiency anemia., anxiety disorder., history of tubal ligation.\n",
        "PATIENT HISTORY   The patient is a 25-year-old right-handed Caucasian female who presented to the emergency department with sudden onset of headache occurring at approximately 11 a.m. on the morning of the July 31, 2008.  She described the headache as worse in her life and it was also accompanied by blurry vision and scotoma.  The patient also perceived some swelling in her face.  Once in the Emergency Department, the patient underwent a very thorough evaluation and examination.  She was given the migraine cocktail.  Also was given morphine a total of 8 mg while in the Emergency Department.  For full details on the history of present illness, please see the previous history and physical.\n",
        "HOSPITAL COURSE   The patient was admitted to the neurological service after her headache felt to be removed with the headache cocktail.  The patient was brought up to 4 or more early in the a.m. on the August 1, 2008 and was given the dihydroergotamine IV, which did allow some minimal resolution in her headache immediately.  At the time of examination this morning, the patient was feeling better and desired going home.  She states the headache had for the most part resolved though she continues to have some diffuse trigger point pain.\"\"\",\n",
        "\"\"\"PATIENT HISTORY A 14-day-old was seen by private doctor because of blister.  On Friday, she was noted to have a small blister near her umbilicus.  They went to their doctor on Saturday, culture was drawn.  It came back today, growing MRSA.  She has been doing well.  They put her on bacitracin ointment near the umbilicus.  That has about healed up.  However today, they noticed a small blister on her left temporal area.  They called the private doctor.  They direct called the Infectious Disease doctor here and was asked that they come into the hospital.  Mom states she has been diagnosed with MRSA on her buttocks as well and is on some medications.  The child has not had any fever.  She has not been lethargic or irritable.  She has been eating well up to 2 ounces every feed.  Eating well and sleeping well.  No other changes have been noted.\n",
        "PAST MEDICAL HISTORY She was born full term.  No complications.  Home with mom.  No hospitalization, surgeries, allergies.\n",
        "FAMILY AND SOCIAL HISTORY Negative, No ill contacts.  No travel or changes in living condition.\n",
        "REVIEW OF SYSTEMS Ten systems were asked, all of them were negative except as noted above.\n",
        "EMERGENCY DEPARTMENT COURSE  I spoke with Infectious Disease, Dr. X.  He states, we should treat for MRSA with Bactrim p.o.  There has been no evidence of jaundice with this little girl.  Hibiclens and Bactroban.  I spoke with Dr. X's associate to call back after Dr. X recommended a Herpes culture be done, just for completeness and that was done.  Blood culture was done here to make sure she did not have MRSA in her blood, which clinically, she does not appear to have.  She was discharged in stable condition.\"\"\",\n",
        "\"\"\"ADMISSION DIAGNOSIS Symptomatic thyroid goiter.\n",
        "DISCHARGE DIAGNOSIS Symptomatic thyroid goiter.\n",
        "PRINCIPAL PROCEDURES  Total thyroidectomy.\n",
        "HOSPITAL COURSE The patient underwent total thyroidectomy on 09/22/08, which she tolerated very well and remained stable in the postoperative period.  On postoperative day #1, she was tolerating her diet, began on thyroid hormone replacement, and remained afebrile with stable vital signs.  She required intravenous narcotics for pain control.  She was judged stable for discharge home on 09/25/08, tolerating a diet well, having no fever, stable vital signs, and good pain control.  The wound was clean and dry.  The drain was removed.  She was instructed to follow up in the surgical office within one week after discharge.  She was given prescription for Vicodin for pain and Synthroid thyroid hormone, and otherwise the appropriate wound care instructions per my routine wound care sheet.\"\"\"\n",
        "]"
      ],
      "metadata": {
        "id": "F5WiVtVBfd-x"
      },
      "execution_count": 4,
      "outputs": []
    },
    {
      "cell_type": "code",
      "source": [
        "documentAssembler = DocumentAssembler()\\\n",
        "    .setInputCol(\"text\")\\\n",
        "    .setOutputCol(\"document\")\n",
        "\n",
        "sentenceDetector = SentenceDetector()\\\n",
        "    .setInputCols([\"document\"])\\\n",
        "    .setOutputCol(\"sentence\")\n",
        "\n",
        "tokenizer = Tokenizer()\\\n",
        "    .setInputCols([\"sentence\"])\\\n",
        "    .setOutputCol(\"token\")\n",
        "\n",
        "word_embeddings = WordEmbeddingsModel.pretrained(\"embeddings_clinical\",\"en\",\"clinical/models\")\\\n",
        "    .setInputCols([\"sentence\",\"token\"])\\\n",
        "    .setOutputCol(\"embeddings\")\n",
        "\n",
        "clinical_ner = MedicalNerModel.pretrained(\"ner_section_header_diagnosis\", \"en\",\"clinical/models\")\\\n",
        "    .setInputCols([\"sentence\",\"token\",\"embeddings\"])\\\n",
        "    .setOutputCol(\"ner\")\\\n",
        "    .setLabelCasing(\"upper\") #decide if we want to return the tags in upper or lower case\n",
        "\n",
        "ner_converter = NerConverterInternal()\\\n",
        "    .setInputCols([\"sentence\",\"token\",\"ner\"])\\\n",
        "    .setOutputCol(\"ner_chunk\")\n",
        "\n",
        "nlpPipeline = Pipeline(stages=[\n",
        "        documentAssembler,\n",
        "        sentenceDetector,\n",
        "        tokenizer,\n",
        "        word_embeddings,\n",
        "        clinical_ner,\n",
        "        ner_converter])\n",
        "\n",
        "model = nlpPipeline.fit(spark.createDataFrame([['']]).toDF(\"text\"))"
      ],
      "metadata": {
        "colab": {
          "base_uri": "https://localhost:8080/"
        },
        "id": "PQQBZ8JVfd3E",
        "outputId": "80db7b15-497d-4852-a7b0-64d0381a3974"
      },
      "execution_count": 5,
      "outputs": [
        {
          "output_type": "stream",
          "name": "stdout",
          "text": [
            "embeddings_clinical download started this may take some time.\n",
            "Approximate size to download 1.6 GB\n",
            "[OK!]\n",
            "ner_section_header_diagnosis download started this may take some time.\n",
            "[OK!]\n"
          ]
        }
      ]
    },
    {
      "cell_type": "markdown",
      "metadata": {
        "id": "JA2OHCDTfdRg"
      },
      "source": [
        "# **🔎Run the pipeline**"
      ]
    },
    {
      "cell_type": "code",
      "source": [
        "df= spark.createDataFrame(pd.DataFrame({\"text\": final_input_list}))\n",
        "result = model.transform(df)"
      ],
      "metadata": {
        "id": "866WrIJbfrks"
      },
      "execution_count": 6,
      "outputs": []
    },
    {
      "cell_type": "code",
      "source": [
        "result = result.select(F.explode(F.arrays_zip(result.ner_chunk.result, result.ner_chunk.metadata)).alias(\"cols\")) \\\n",
        "    .select(F.expr(\"cols['0']\").alias(\"chunk\"),\n",
        "            F.expr(\"cols['1']['entity']\").alias(\"ner_label\")).show(truncate=False)"
      ],
      "metadata": {
        "colab": {
          "base_uri": "https://localhost:8080/"
        },
        "id": "8-djmnEzfrdf",
        "outputId": "e67e0ad5-b874-4e1e-c2df-06786f0ac410"
      },
      "execution_count": 7,
      "outputs": [
        {
          "output_type": "stream",
          "name": "stdout",
          "text": [
            "+-------------------------------------+--------------------------+\n",
            "|chunk                                |ner_label                 |\n",
            "+-------------------------------------+--------------------------+\n",
            "|Patient Info                         |PATIENT_INFO_HEADER       |\n",
            "|Medical History                      |MEDICAL_HISTORY_HEADER    |\n",
            "|Chronic respiratory disease          |RESPIRATORY_DISEASE       |\n",
            "|Clinical History                     |CLINICAL_HISTORY_HEADER   |\n",
            "|Chief Complaint                      |CHIEF_COMPLAINT_HEADER    |\n",
            "|History of Present Illness           |HISTORY_PRES_ILNESS_HEADER|\n",
            "|Past Medical History                 |MEDICAL_HISTORY_HEADER    |\n",
            "|Asthma                               |RESPIRATORY_DISEASE       |\n",
            "|Bronchitis                           |RESPIRATORY_DISEASE       |\n",
            "|Medications                          |MEDICATIONS_HEADER        |\n",
            "|Allergies                            |ALLERGIES_HEADER          |\n",
            "|Laboratory Results                   |LAB_RESULTS_HEADER        |\n",
            "|Imaging Studies                      |IMAGING_HEADER            |\n",
            "|Chronic obstructive pulmonary disease|RESPIRATORY_DISEASE       |\n",
            "|COPD                                 |RESPIRATORY_DISEASE       |\n",
            "|Diagnosis                            |DIAGNOSIS_HEADER          |\n",
            "|COPD exacerbation                    |RESPIRATORY_DISEASE       |\n",
            "|Treatment Plan                       |TREATMENT_PLAN_HEADER     |\n",
            "|DIAGNOSIS                            |DIAGNOSIS_HEADER          |\n",
            "|apnea                                |RESPIRATORY_DISEASE       |\n",
            "+-------------------------------------+--------------------------+\n",
            "only showing top 20 rows\n",
            "\n"
          ]
        }
      ]
    },
    {
      "cell_type": "code",
      "source": [],
      "metadata": {
        "id": "5IJcWAsWkfNG"
      },
      "execution_count": null,
      "outputs": []
    }
  ],
  "metadata": {
    "colab": {
      "provenance": []
    },
    "kernelspec": {
      "display_name": "Python 3",
      "name": "python3"
    },
    "language_info": {
      "name": "python"
    }
  },
  "nbformat": 4,
  "nbformat_minor": 0
}
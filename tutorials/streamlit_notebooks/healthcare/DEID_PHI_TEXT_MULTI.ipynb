{
  "nbformat": 4,
  "nbformat_minor": 0,
  "metadata": {
    "colab": {
      "name": "DEID_PHI_TEXT_MULTI.ipynb",
      "provenance": [],
      "collapsed_sections": []
    },
    "kernelspec": {
      "name": "python3",
      "display_name": "Python 3"
    },
    "language_info": {
      "name": "python"
    }
  },
  "cells": [
    {
      "cell_type": "markdown",
      "source": [
        "![JohnSnowLabs](https://nlp.johnsnowlabs.com/assets/images/logo.png)\n",
        "\n",
        "[![Open In Colab](https://colab.research.google.com/assets/colab-badge.svg)](https://colab.research.google.com/github/JohnSnowLabs/spark-nlp-workshop/blob/master/tutorials/streamlit_notebooks/healthcare/DEID_PHI_TEXT_MULTI.ipynb)"
      ],
      "metadata": {
        "id": "wjEUhdTGshoA"
      }
    },
    {
      "cell_type": "markdown",
      "source": [
        "## **Deidentification Model for Different Languages**"
      ],
      "metadata": {
        "id": "H76Wes2Zsumn"
      }
    },
    {
      "cell_type": "markdown",
      "source": [
        "To run this yourself, you will need to upload your license keys to the notebook. Just Run The Cell Below in order to do that. Also You can open the file explorer on the left side of the screen and upload license_keys.json to the folder that opens. Otherwise, you can look at the example outputs at the bottom of the notebook."
      ],
      "metadata": {
        "id": "JhIq7mnFw2Dw"
      }
    },
    {
      "cell_type": "markdown",
      "source": [
        "## **Colab Setup**"
      ],
      "metadata": {
        "id": "jPQxH932w8Bm"
      }
    },
    {
      "cell_type": "code",
      "execution_count": null,
      "metadata": {
        "id": "HCAy-i8QsDO_"
      },
      "outputs": [],
      "source": [
        "import json\n",
        "import os\n",
        "\n",
        "from google.colab import files\n",
        "\n",
        "license_keys = files.upload()\n",
        "\n",
        "with open(list(license_keys.keys())[0]) as f:\n",
        "    license_keys = json.load(f)\n",
        "\n",
        "# Defining license key-value pairs as local variables\n",
        "locals().update(license_keys)\n",
        "\n",
        "# Adding license key-value pairs to environment variables\n",
        "os.environ.update(license_keys)"
      ]
    },
    {
      "cell_type": "markdown",
      "source": [
        "## **Install dependencies**"
      ],
      "metadata": {
        "id": "zN2F8gvZxJeD"
      }
    },
    {
      "cell_type": "code",
      "source": [
        "# Installing pyspark and spark-nlp\n",
        "! pip install --upgrade -q pyspark==3.1.2 spark-nlp==$PUBLIC_VERSION\n",
        "\n",
        "# Installing Spark NLP Healthcare\n",
        "! pip install --upgrade -q spark-nlp-jsl==$JSL_VERSION  --extra-index-url https://pypi.johnsnowlabs.com/$SECRET\n",
        "\n",
        "# Installing Spark NLP Display Library for visualization\n",
        "! pip install -q spark-nlp-display"
      ],
      "metadata": {
        "id": "59HH0YLUxMXi"
      },
      "execution_count": null,
      "outputs": []
    },
    {
      "cell_type": "markdown",
      "source": [
        "## **Import dependencies into Python and start the Spark session**"
      ],
      "metadata": {
        "id": "x0yqCM_Myy0y"
      }
    },
    {
      "cell_type": "code",
      "source": [
        "import json\n",
        "import os\n",
        "\n",
        "from pyspark.ml import Pipeline, PipelineModel\n",
        "from pyspark.sql import SparkSession\n",
        "\n",
        "import sparknlp\n",
        "import sparknlp_jsl\n",
        "\n",
        "from sparknlp.annotator import *\n",
        "from sparknlp_jsl.annotator import *\n",
        "from sparknlp.base import *\n",
        "from sparknlp.util import *\n",
        "from sparknlp.pretrained import ResourceDownloader\n",
        "from pyspark.sql import functions as F\n",
        "\n",
        "from sparknlp_display import EntityResolverVisualizer\n",
        "from sparknlp.pretrained import PretrainedPipeline\n",
        "import pandas as pd\n",
        "\n",
        "\n",
        "pd.set_option('display.max_columns', None)  \n",
        "pd.set_option('display.expand_frame_repr', False)\n",
        "pd.set_option('max_colwidth', None)\n",
        "\n",
        "import string\n",
        "import numpy as np\n",
        "\n",
        "params = {\"spark.driver.memory\":\"16G\",\n",
        "          \"spark.kryoserializer.buffer.max\":\"2000M\",\n",
        "          \"spark.driver.maxResultSize\":\"2000M\"}\n",
        "\n",
        "spark = sparknlp_jsl.start(secret = SECRET, params=params)\n",
        "\n",
        "print (\"Spark NLP Version :\", sparknlp.version())\n",
        "print (\"Spark NLP_JSL Version :\", sparknlp_jsl.version())\n",
        "\n",
        "spark"
      ],
      "metadata": {
        "colab": {
          "base_uri": "https://localhost:8080/",
          "height": 271
        },
        "id": "eyxbLvaUyzU0",
        "outputId": "f62d9519-e158-4697-deeb-b095b9bcaef5"
      },
      "execution_count": 7,
      "outputs": [
        {
          "output_type": "stream",
          "name": "stdout",
          "text": [
            "Warning::Spark Session already created, some configs may not take.\n",
            "Spark NLP Version : 3.4.4\n",
            "Spark NLP_JSL Version : 3.5.2\n"
          ]
        },
        {
          "output_type": "execute_result",
          "data": {
            "text/plain": [
              "<pyspark.sql.session.SparkSession at 0x7fde9220e450>"
            ],
            "text/html": [
              "\n",
              "            <div>\n",
              "                <p><b>SparkSession - in-memory</b></p>\n",
              "                \n",
              "        <div>\n",
              "            <p><b>SparkContext</b></p>\n",
              "\n",
              "            <p><a href=\"http://278411f00191:4040\">Spark UI</a></p>\n",
              "\n",
              "            <dl>\n",
              "              <dt>Version</dt>\n",
              "                <dd><code>v3.1.2</code></dd>\n",
              "              <dt>Master</dt>\n",
              "                <dd><code>local[*]</code></dd>\n",
              "              <dt>AppName</dt>\n",
              "                <dd><code>Spark NLP Licensed</code></dd>\n",
              "            </dl>\n",
              "        </div>\n",
              "        \n",
              "            </div>\n",
              "        "
            ]
          },
          "metadata": {},
          "execution_count": 7
        }
      ]
    },
    {
      "cell_type": "markdown",
      "source": [
        "## **Sample Examples for Different languages**"
      ],
      "metadata": {
        "id": "EPXjKvHBzALd"
      }
    },
    {
      "cell_type": "code",
      "source": [
        "text_english = [\"\"\"Record date: 2069-04-07\n",
        "Mr. Villegas is seen today.  I have not seen him since November. \n",
        "About three weeks ago he stopped his Prednisone on his own because\n",
        "he was gaining weight.  He does feel that his shoulders are\n",
        "definitely improved.\n",
        "On examination today, BP 120/80.  His joint examination is much\n",
        "improved with better ROM of the shoulders and no peripheral joint\n",
        "synovitis.  \n",
        "Clinical Impression:\n",
        "1:  Inflammatory arthritis - possibly RA - with response noted to\n",
        "Hydroxychloroquine along with Prednisone.  He has stopped the\n",
        "Prednisone, and I would not restart it yet.  \n",
        "2:  New onset of symptoms suspicious for right-sided carotid\n",
        "disease.  Will arrange for carotid ultrasound studies.  Patient\n",
        "advised to call me if he develops any worsening symptoms.\n",
        "Xzavian G. Tavares, M.D.\n",
        "XGT:holmes\n",
        "DD: 04/07/69\n",
        "DT: 04/15/69\n",
        "DV: 04/07/69\"\"\"]\n",
        "\n",
        "\n",
        "\n",
        "text_german = [\"\"\"Zusammenfassung : Michael Berger wird am Morgen des 12 Dezember 2018 ins St.Elisabeth Krankenhaus eingeliefert. \n",
        "Herr Michael Berger ist 76 Jahre alt und hat zu viel Wasser in den Beinen.Persönliche Daten :ID-Nummer: T0110053F Platte A-BC124 Kontonummer: DE89370400440532013000 SSN : 13110587M565 Lizenznummer: B072RRE2I55 Adresse : St.Johann-Straße 13 19300\n",
        "\"\"\"]\n",
        "\n",
        "\n",
        "text_spanish = [\"\"\"Nombre: Danilo.\n",
        "Apellidos: Ramos Portillo.\n",
        "NHC: 4376372.\n",
        "NASS: 35 61051794 56.\n",
        "Domicilio: Calle Fernando Higueras, 27, 7B.\n",
        "Localidad/ Provincia: Madrid.\n",
        "CP: Madrid 2805528055.\n",
        "Datos asistenciales.\n",
        "Fecha de nacimiento: 15/07/1979.\n",
        "País: España.\n",
        "Edad: 38 años Sexo: H.\n",
        "Fecha de Ingreso: 04/03/2014.\n",
        "Episodio: 82034567902.\n",
        "Médico: Fabio Jiménez Borrero NºCol: 28 28 57986.\n",
        "Informe clínico del paciente.\n",
        "Historia Actual: Paciente varón de 38 años, valorado en consulta por coxalgia derecha de año y medio de evolución, de características mecánicas. Refiere dolor con práctica de ejercicio físico y leve limitación de la movilidad en ciertas posturas. Mecánico de profesión, en su tiempo libre realizaba bicicleta (40 km diarios en fines de semana), carrera 3 veces por semana durante 50 minutos y marcha de una hora los días que no realizaba carrera. El dolor se ha ido incrementando progresivamente, realizando, en la actualidad, solamente marcha.\n",
        "Exploración física: A la exploración física destaca un dolor a la palpación en tercio medio de la región inguinal derecha con dolor a la flexión, aducción y rotaciones sobre todo interna (maniobra de choque positiva). El balance articular de caderas es de flexión 110o bilateral, rotación interna de 10o derecha, 40o izquierda y rotación externa de 30o derecha, 40o izquierda. El balance muscular en la escala de Daniels es de 5/5 global bilateral. No presenta dolor a la palpación de puntos ciáticos y las maniobras de Valleix, Fabere, Lasegue y Bragard son negativas. Tampoco presenta dolor a la palpación en la cintilla iliotibial y el test de Ober es negativo. En la exploración de la marcha observamos ausencia de claudicación y el apoyo monopodal alterno derecho-izquierdo es estable, con Trendelenburg negativo. Presenta dolor para la marcha con flexión forzada de cadera y rodilla.\n",
        "Pruebas complementarias: La radiología simple anteroposterior (AP) presentaba una deformidad en forma de joroba en región cérvico-cefálica femoral derecha. La analítica solicitada con hemograma, bioquímica, hormonas tiroideas, anticuerpos y reactantes de fase aguda era normal.\n",
        "Ante estos hallazgos se solicita resonancia magnética de cadera en la que se visualiza leve alteración subcondral, con edema óseo en cadera derecha, con irregularidad cortical y leve sinovitis en interlínea articular, con distensión de la bursa ilio-psoas. La cabeza femoral presenta un pequeño islote óseo y el ángulo alfa es mayor de 50o. La artrografía muestra un pinzamiento de la interlinea articular antero-superior y posteroinferior, un incipiente collar osteofitario femoral con pequeñas lesiones subcondrales antero-superiores de cabeza femoral y pequeños focos de edema en acetábulo anterosuperior. No se visualiza necrosis avascular ni lesiones en el labrum. También se visualiza una lesión quística yuxtaarticular en relación con trocánter mayor.\n",
        "Evolución: Con el diagnóstico de síndrome de pinzamiento femoroacetabular tipo LEVA (también conocido por CAM) se le prescribe al paciente tratamiento con magnetoterapia (15 sesiones), para mejorar la clínica del dolor y el trofismo óseo.\n",
        "Se remite a unidad de artroscopia del servicio de traumatología para valoración de cirugía artroscópica.\n",
        "Diagnóstico Principal: síndrome de pinzamiento femoroacetabular tipo LEVA\n",
        "Tratamiento: Se pauta tratamiento farmacológico con asociación de sulfato de glucosamina-condroitin sulfato oral 400 mg cada 12 horas durante 3 meses y antiinflamatorios no esteroideos a demanda si presenta dolor. Se le indica reposo deportivo para evitar choque en la articulación, con actividad física activa controlada, recomendando no sobrepasar los 90 grados de flexión de la cadera y evitar las rotaciones. Acudir a cita para revisión una vez terminados los sulfatos de glucosamina-condroitin para ver la mejoría clínica, deberá llamar al numero de atención y citas previas de hospital 914 90 66 60\n",
        "Remitido por: Dr. Fabio Jiménez Borrero. Hospital Universitario La Paz. Paseo de la Castellana, 261, 28046 Madrid. Teléfono: 917 27 70 00. Correo electrónico: fabio_jimenezb@salud.madrid.org \n",
        "\"\"\"]\n",
        "\n",
        "\n",
        "\n",
        "text_italian = [\"\"\"PZ: Giancarlo Binaghi\n",
        "CODICE FISCALE: MVANSK92F09W408A\n",
        "INDIRIZZO: Viale Burcardo 7\n",
        "CITTÀ : Napoli\n",
        "CODICE POSTALE: 80139\n",
        "DATA DI NASCITA: 03/03/1946\n",
        "ETÀ: 70 anni \n",
        "SESSO: M\n",
        "EMAIL: gcbinaghi@tim.it\n",
        "DATA DI AMMISSIONE: 12/12/2016\n",
        "DOTTORE: Eva Viviani\n",
        "RAPPORTO CLINICO: 70 anni, pensionato, senza allergie farmacologiche note, che presenta la seguente storia: ex incidente sul lavoro con fratture vertebrali e costali; operato per la malattia di Dupuytren alla mano destra e un bypass ileo-femorale sinistro; diabete di tipo II, ipercolesterolemia e iperuricemia; alcolismo attivo, fuma 20 sigarette/giorno.\n",
        "È stato indirizzato a noi perché ha presentato un'ematuria macroscopica post-evacuazione in un'occasione e una microematuria persistente in seguito, con un'evacuazione normale.\n",
        "L'esame fisico ha mostrato buone condizioni generali, con addome e genitali normali; l'esame digitale rettale era coerente con un adenoma prostatico di grado I/IV.\n",
        "L'analisi delle urine ha mostrato 4 globuli rossi/campo e 0-5 leucociti/campo; il resto del sedimento era normale.\n",
        "L'emocromo è normale; la biochimica ha mostrato una glicemia di 169 mg/dl e trigliceridi 456 mg/dl; la funzione epatica e renale sono normali. PSA di 1,16 ng/ml.\n",
        "INDIRIZZATO A: Dott. Bruno Ferrabosco - ASL Napoli 1 Centro, Dipartimento di Endocrinologia e Nutrizione - Stretto Scamarcio 320, 80138 Napoli\n",
        "EMAIL: bferrabosco@poste.it\n",
        "\"\"\"]\n",
        "\n",
        "\n",
        "text_french = [\"\"\"PRENOM : Jean\n",
        "NOM : Dubois\n",
        "NUMÉRO DE SÉCURITÉ SOCIALE : 1780160471058\n",
        "ADRESSE : 18 Avenue Matabiau\n",
        "VILLE : Grenoble\n",
        "CODE POSTAL : 38000\n",
        "DATE DE NAISSANCE : 03/03/1946\n",
        "Âge : 70 ans \n",
        "Sexe : H\n",
        "COURRIEL : jdubois@hotmail.fr\n",
        "DATE D'ADMISSION : 12/12/2016\n",
        "MÉDÉCIN : Dr Michel Renaud\n",
        "RAPPORT CLINIQUE : 70 ans, retraité, sans allergie médicamenteuse connue, qui présente comme antécédents : ancien accident du travail avec fractures vertébrales et des côtes ; opéré de la maladie de Dupuytren à la main droite et d'un pontage ilio-fémoral gauche ; diabète de type II, hypercholestérolémie et hyperuricémie ; alcoolisme actif, fume 20 cigarettes / jour.\n",
        "Il nous a été adressé car il présentait une hématurie macroscopique postmictionnelle à une occasion et une microhématurie persistante par la suite, avec une miction normale.\n",
        "L'examen physique a montré un bon état général, avec un abdomen et des organes génitaux normaux ; le toucher rectal était compatible avec un adénome de la prostate de grade I/IV.\n",
        "L'analyse d'urine a montré 4 globules rouges/champ et 0-5 leucocytes/champ ; le reste du sédiment était normal.\n",
        "Hémogramme normal ; la biochimie a montré une glycémie de 169 mg/dl et des triglycérides de 456 mg/dl ; les fonctions hépatiques et rénales étaient normales. PSA de 1,16 ng/ml.\n",
        "ADDRESSÉ À : Dre Marie Breton - Centre Hospitalier de Bellevue Service D'Endocrinologie et de Nutrition - Rue Paulin Bussières, 38000 Grenoble\n",
        "COURRIEL : mariebreton@chb.fr\n",
        "\"\"\"]\n",
        "\n",
        "\n",
        "text_portuguese = [\"\"\"Dados do paciente.\n",
        "Nome: Mauro.\n",
        "Apelido: Gonçalves.\n",
        "NISS: 26 63514095.\n",
        "Endereço: Calle Miguel Benitez 90.\n",
        "CÓDIGO POSTAL: 28016.\n",
        "Dados de cuidados.\n",
        "Data de nascimento: 03/03/1946.\n",
        "País: Portugal.\n",
        "Idade: 70 anos Sexo: M.\n",
        "Data de admissão: 12/12/2016.\n",
        "Doutor: Ignacio Navarro Cuéllar NºCol: 28 28 70973.\n",
        "Relatório clínico do paciente: Paciente de 70 anos, mineiro reformado, sem alergias medicamentosas conhecidas, que apresenta como história pessoal: acidente de trabalho antigo com fracturas vertebrais e das costelas; operado por doença de Dupuytren na mão direita e iliofemoral esquerda; Diabetes Mellitus tipo II, hipercolesterolemia e hiperuricemia; alcoolismo activo, fumador de 20 cigarros / dia.\n",
        "Foi encaminhado dos cuidados primários porque apresentou uma vez hematúria macroscópica pós-morte e depois microhaematúria persistente, com micturição normal.\n",
        "O exame físico mostrou um bom estado geral, com abdómen e genitália normais; o exame rectal foi compatível com adenoma de próstata de grau I/IV.\n",
        "A urinálise mostrou 4 glóbulos vermelhos/campo e 0-5 leucócitos/campo; o resto do sedimento estava normal.\n",
        "Hemograma normal; a bioquímica mostrou glicemia de 169 mg/dl e triglicéridos de 456 mg/dl; função hepática e renal normal. PSA de 1,16 ng/ml.\n",
        "A citologia da urina era repetidamente desconfiada por malignidade.\n",
        "A radiografia simples abdominal mostra alterações degenerativas na coluna lombar e calcificações vasculares tanto no hipocôndrio como na pélvis.\n",
        "A ecografia urológica revelou cistos corticais simples no rim direito, uma bexiga inalterada com boa capacidade e uma próstata com 30g de peso.\n",
        "O IVUS mostrou normofuncionalismo renal bilateral, calcificações na silhueta renal direita e ureteres artrosados com imagens de adição no terço superior de ambos os ureteres, relacionadas com pseudodiverticulose ureteral. O cistograma mostra uma bexiga com boa capacidade, mas com paredes trabeculadas em relação à bexiga de stress. A tomografia computorizada abdominal é normal.\n",
        "A cistoscopia revelou a existência de pequenos tumores na bexiga, e a ressecção transuretral foi realizada com o resultado anatomopatológico do carcinoma urotelial superficial da bexiga.\n",
        "Referido por: Miguel Santos - Avenida dos Aliados, 22 Portugal E-mail: nnavcu@hotmail.com.\n",
        "\"\"\"]"
      ],
      "metadata": {
        "id": "kL3g_-g2y2cc"
      },
      "execution_count": 14,
      "outputs": []
    },
    {
      "cell_type": "markdown",
      "source": [
        "# **🔎Define Spark NLP pipeline**"
      ],
      "metadata": {
        "id": "oEsH0Dn4z1nN"
      }
    },
    {
      "cell_type": "code",
      "source": [
        "lang_dict = {\"en\" : text_english,\n",
        "             \"de\" : text_german,\n",
        "             \"es\" : text_spanish,\n",
        "             \"it\" : text_italian,\n",
        "             \"fr\" : text_french,\n",
        "             \"pt\" : text_portuguese\n",
        "             }"
      ],
      "metadata": {
        "id": "be_z9kGmz2Pj"
      },
      "execution_count": 15,
      "outputs": []
    },
    {
      "cell_type": "code",
      "source": [
        "for  lang, text in lang_dict.items():\n",
        "    if lang == \"es\":\n",
        "        deid_pipeline = PretrainedPipeline(\"clinical_deidentification_augmented\", \"es\", \"clinical/models\")\n",
        "        deid_res = deid_pipeline.annotate(text)[0]\n",
        "        df= pd.DataFrame(list(zip(deid_res[\"sentence\"], deid_res[\"masked\"], deid_res[\"masked_with_chars\"], deid_res[\"masked_fixed_length_chars\"], deid_res[\"obfuscated\"])),\n",
        "                 columns= [\"Sentence\", \"Masked\", \"Masked with Chars\", \"Masked with Fixed Chars\", \"Obfuscated\"])\n",
        "        print(df.head(), \"\\n\")\n",
        "    else:\n",
        "        deid_pipeline = PretrainedPipeline(\"clinical_deidentification\", lang, \"clinical/models\")\n",
        "        deid_res = deid_pipeline.annotate(text)[0]\n",
        "        df= pd.DataFrame(list(zip(deid_res[\"sentence\"], deid_res[\"masked\"],\n",
        "                          deid_res[\"masked_with_chars\"], deid_res[\"masked_fixed_length_chars\"], deid_res[\"obfuscated\"])),\n",
        "                 columns= [\"Sentence\", \"Masked\", \"Masked with Chars\", \"Masked with Fixed Chars\", \"Obfuscated\"])\n",
        "        print(df.head(), \"\\n\") "
      ],
      "metadata": {
        "colab": {
          "base_uri": "https://localhost:8080/"
        },
        "id": "der9dcHCz_zp",
        "outputId": "ba9156f0-99c7-4842-bc27-d8a163b16583"
      },
      "execution_count": 17,
      "outputs": [
        {
          "output_type": "stream",
          "name": "stdout",
          "text": [
            "clinical_deidentification download started this may take some time.\n",
            "Approx size to download 1.6 GB\n",
            "[OK!]\n",
            "                                                                                     Sentence                                                                                      Masked                                                                           Masked with Chars                                                                     Masked with Fixed Chars                                                                                  Obfuscated\n",
            "0                                        Record date: 2069-04-07\\nMr. Villegas is seen today.                                           Record date: <DATE>\\nMr. <PATIENT> is seen today.                                        Record date: [********]\\nMr. [******] is seen today.                                                  Record date: ****\\nMr. **** is seen today.                                     Record date: 2069-05-22\\nMr. Lucetta End is seen today.\n",
            "1                                                         I have not seen him since November.                                                           I have not seen him since <DATE>.                                                         I have not seen him since [******].                                                             I have not seen him since ****.                                                       I have not seen him since 01-02-1998.\n",
            "2  About three weeks ago he stopped his Prednisone on his own because\\nhe was gaining weight.  About three weeks ago he stopped his Prednisone on his own because\\nhe was gaining weight.  About three weeks ago he stopped his Prednisone on his own because\\nhe was gaining weight.  About three weeks ago he stopped his Prednisone on his own because\\nhe was gaining weight.  About three weeks ago he stopped his Prednisone on his own because\\nhe was gaining weight.\n",
            "3                                   He does feel that his shoulders are\\ndefinitely improved.                                   He does feel that his shoulders are\\ndefinitely improved.                                   He does feel that his shoulders are\\ndefinitely improved.                                   He does feel that his shoulders are\\ndefinitely improved.                                   He does feel that his shoulders are\\ndefinitely improved.\n",
            "4                                                            On examination today, BP 120/80.                                                            On examination today, BP 120/80.                                                            On examination today, BP 120/80.                                                            On examination today, BP 120/80.                                                            On examination today, BP 120/80. \n",
            "\n",
            "clinical_deidentification download started this may take some time.\n",
            "Approx size to download 1.2 GB\n",
            "[OK!]\n",
            "                                                                                                                                                                      Sentence                                                                                                                             Masked                                                                                                                                                            Masked with Chars                                                                                             Masked with Fixed Chars                                                                                                                                                         Obfuscated\n",
            "0                                                              Zusammenfassung : Michael Berger wird am Morgen des 12 Dezember 2018 ins St.Elisabeth Krankenhaus eingeliefert.                                                 Zusammenfassung : <PATIENT> wird am Morgen des <DATE> ins <HOSPITAL> eingeliefert.                                                              Zusammenfassung : [************] wird am Morgen des [**************] ins [**********************] eingeliefert.                                               Zusammenfassung : **** wird am Morgen des **** ins **** eingeliefert.                                            Zusammenfassung : Hollmann Burmeister wird am Morgen des 11-01-1970 ins FRANKLIN WOODS COMMUNITY HOSPITAL eingeliefert.\n",
            "1                                                                                                   Herr Michael Berger ist 76 Jahre alt und hat zu viel Wasser in den Beinen.                                                           Herr <PATIENT> ist <AGE> Jahre alt und hat zu viel Wasser in den Beinen.                                                                                                   Herr [************] ist ** Jahre alt und hat zu viel Wasser in den Beinen.                                                  Herr **** ist **** Jahre alt und hat zu viel Wasser in den Beinen.                                                                                     Herr Hollmann Burmeister ist 0 Jahre alt und hat zu viel Wasser in den Beinen.\n",
            "2  Persönliche Daten :ID-Nummer: T0110053F Platte A-BC124 Kontonummer: DE89370400440532013000 SSN : 13110587M565 Lizenznummer: B072RRE2I55 Adresse : St.Johann-Straße 13 19300  Persönliche Daten :ID-Nummer: <ID> Platte <PLATE> Kontonummer: <ACCOUNT> SSN : <SSN> Lizenznummer: <DLN> Adresse : <STREET> <ZIP>  Persönliche Daten :ID-Nummer: [*******] Platte [*****] Kontonummer: [********************] SSN : [**********] Lizenznummer: [*********] Adresse : [*****************] [***]  Persönliche Daten :ID-Nummer: **** Platte **** Kontonummer: **** SSN : **** Lizenznummer: **** Adresse : **** ****  Persönliche Daten :ID-Nummer: L6043236 Platte QA348G Kontonummer: 192837465738 SSN : 999-30-4262 Lizenznummer: S99913378 Adresse : Guntram-Hofmann-Gasse 6 31%05d \n",
            "\n",
            "clinical_deidentification_augmented download started this may take some time.\n",
            "Approx size to download 268.2 MB\n",
            "[OK!]\n",
            "                                                             Sentence                                         Masked                                                   Masked with Chars                  Masked with Fixed Chars                                                   Obfuscated\n",
            "0                                                     Nombre: Danilo.                             Nombre: <PATIENT>.                                                     Nombre: [****].                            Nombre: ****.                                 Nombre: Aurora Garrido Paez.\n",
            "1                                          Apellidos: Ramos Portillo.                          Apellidos: <PATIENT>.                                          Apellidos: [************].                         Apellidos: ****.                          Apellidos: Antonio González Cuevas.\n",
            "2                                                       NHC: 4376372.                                    NHC: <SSN>.                                                       NHC: [*****].                               NHC: ****.                                       NHC: BBBBBBBBQR648597.\n",
            "3  NASS: 35 61051794 56.\\nDomicilio: Calle Fernando Higueras, 27, 7B.  NASS: <ID>.\\nDomicilio: <PATIENT>, <AGE>, 7B.  NASS: [************].\\nDomicilio: [*********************], **, 7B.  NASS: ****.\\nDomicilio: ****, ****, 7B.  NASS: 48.124.111S.\\nDomicilio: Aurora Garrido Paez, 36, 7B.\n",
            "4                                       Localidad/ Provincia: Madrid.                  Localidad/ Provincia: <CITY>.                                       Localidad/ Provincia: [****].              Localidad/ Provincia: ****.                              Localidad/ Provincia: Alicante. \n",
            "\n",
            "clinical_deidentification download started this may take some time.\n",
            "Approx size to download 1.2 GB\n",
            "[OK!]\n",
            "                                                           Sentence                                                        Masked                                              Masked with Chars                                   Masked with Fixed Chars                                                    Obfuscated\n",
            "0                                                               PZ:                                                           PZ:                                                            PZ:                                                       PZ:                                                           PZ:\n",
            "1                                                 Giancarlo Binaghi                                                      <DOCTOR>                                              [***************]                                                      ****                                         Germana Maglio-Dovara\n",
            "2                                  CODICE FISCALE: MVANSK92F09W408A                                         CODICE FISCALE: <SSN>                               CODICE FISCALE: [**************]                                      CODICE FISCALE: ****                             CODICE FISCALE: ECI-QLN77G15L455Y\n",
            "3                       INDIRIZZO: Viale Burcardo 7\\nCITTÀ : Napoli                           INDIRIZZO: <STREET>\\nCITTÀ : <CITY>                    INDIRIZZO: [**************]\\nCITTÀ : [****]                             INDIRIZZO: ****\\nCITTÀ : ****          INDIRIZZO: Viale Orlando 808\\nCITTÀ : Sesto Raimondo\n",
            "4  CODICE POSTALE: 80139\\nDATA DI NASCITA: 03/03/1946\\nETÀ: 70 anni  CODICE POSTALE: <ZIP>DATA DI NASCITA: <DATE>\\nETÀ: <AGE>anni  CODICE POSTALE: [***]DATA DI NASCITA: [********]\\nETÀ: **anni  CODICE POSTALE: ****DATA DI NASCITA: ****\\nETÀ: ****anni  CODICE POSTALE: 53581DATA DI NASCITA: 06/03/1946\\nETÀ: 5anni \n",
            "\n",
            "clinical_deidentification download started this may take some time.\n",
            "Approx size to download 1.2 GB\n",
            "[OK!]\n",
            "                                     Sentence                              Masked                           Masked with Chars            Masked with Fixed Chars                                    Obfuscated\n",
            "0                               PRENOM : Jean                  PRENOM : <PATIENT>                               PRENOM : [**]                      PRENOM : ****                         PRENOM : Mme Ollivier\n",
            "1                                NOM : Dubois                     NOM : <PATIENT>                                NOM : [****]                         NOM : ****                              NOM : Mme Traore\n",
            "2  NUMÉRO DE SÉCURITÉ SOCIALE : 1780160471058  NUMÉRO DE SÉCURITÉ SOCIALE : <SSN>  NUMÉRO DE SÉCURITÉ SOCIALE : [***********]  NUMÉRO DE SÉCURITÉ SOCIALE : ****  NUMÉRO DE SÉCURITÉ SOCIALE : 164033818514436\n",
            "3                ADRESSE : 18 Avenue Matabiau                  ADRESSE : <STREET>                ADRESSE : [****************]                     ADRESSE : ****           ADRESSE : 731, boulevard de Legrand\n",
            "4                            VILLE : Grenoble                      VILLE : <CITY>                            VILLE : [******]                       VILLE : ****                        VILLE : Sainte Antoine \n",
            "\n",
            "clinical_deidentification download started this may take some time.\n",
            "Approx size to download 1.2 GB\n",
            "[OK!]\n",
            "                                                    Sentence                                      Masked                                          Masked with Chars                Masked with Fixed Chars                                                Obfuscated\n",
            "0                                         Dados do paciente.                          Dados do paciente.                                         Dados do paciente.                     Dados do paciente.                                        Dados do paciente.\n",
            "1                                               Nome: Mauro.                            Nome: <PATIENT>.                                               Nome: [***].                            Nome: ****.                                       Nome: Marcos Alves.\n",
            "2                                        Apelido: Gonçalves.                         Apelido: <PATIENT>.                                        Apelido: [*******].                         Apelido: ****.                                    Apelido: Tiago Santos.\n",
            "3                                         NISS: 26 63514095.                                 NISS: <ID>.                                         NISS: **********].                            NISS: ****.                               NISS+351611767899134544332.\n",
            "4  Endereço: Calle Miguel Benitez 90.\\nCÓDIGO POSTAL: 28016.  Endereço: <STREET>.\\nCÓDIGO POSTAL: <ZIP>.  Endereço: [*********************].\\nCÓDIGO POSTAL: [***].  Endereço: ****.\\nCÓDIGO POSTAL: ****.  Endereço: Rua de Santa María, 100.\\nCÓDIGO POSTAL: 4099. \n",
            "\n"
          ]
        }
      ]
    }
  ]
}
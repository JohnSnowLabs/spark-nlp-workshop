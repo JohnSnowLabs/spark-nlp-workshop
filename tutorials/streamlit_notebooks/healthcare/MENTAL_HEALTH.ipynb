{
  "cells": [
    {
      "cell_type": "markdown",
      "metadata": {
        "id": "lokVHWdvaz-W"
      },
      "source": [
        "![JohnSnowLabs](https://nlp.johnsnowlabs.com/assets/images/logo.png)\n",
        "\n",
        "[![Open In Colab](https://colab.research.google.com/assets/colab-badge.svg)](https://colab.research.google.com/github/JohnSnowLabs/spark-nlp-workshop/blob/master/tutorials/streamlit_notebooks/healthcare/MENTAL_HEALTH.ipynb)"
      ]
    },
    {
      "cell_type": "markdown",
      "source": [
        "## **Mental Health Models**"
      ],
      "metadata": {
        "id": "fVHKZG19lAUH"
      }
    },
    {
      "cell_type": "markdown",
      "metadata": {
        "id": "U-UAcTkUbjzm"
      },
      "source": [
        "## **Colab Setup**"
      ]
    },
    {
      "cell_type": "code",
      "execution_count": null,
      "metadata": {
        "id": "5GlpBHUvcWup"
      },
      "outputs": [],
      "source": [
        "import json, os\n",
        "from google.colab import files\n",
        "\n",
        "if 'spark_jsl.json' not in os.listdir():\n",
        "  license_keys = files.upload()\n",
        "  os.rename(list(license_keys.keys())[0], 'spark_jsl.json')\n",
        "\n",
        "with open('spark_jsl.json') as f:\n",
        "    license_keys = json.load(f)\n",
        "\n",
        "# Defining license key-value pairs as local variables\n",
        "locals().update(license_keys)\n",
        "os.environ.update(license_keys)"
      ]
    },
    {
      "cell_type": "code",
      "execution_count": null,
      "metadata": {
        "id": "v6ROKz8c0f8k"
      },
      "outputs": [],
      "source": [
        "# Installing pyspark and spark-nlp\n",
        "! pip install --upgrade -q pyspark==3.1.2 spark-nlp==$PUBLIC_VERSION\n",
        "\n",
        "# Installing Spark NLP Healthcare\n",
        "! pip install --upgrade -q spark-nlp-jsl==$JSL_VERSION  --extra-index-url https://pypi.johnsnowlabs.com/$SECRET\n",
        "\n",
        "# Installing Spark NLP Display Library for visualization\n",
        "! pip install -q spark-nlp-display"
      ]
    },
    {
      "cell_type": "code",
      "execution_count": 3,
      "metadata": {
        "id": "bV2hYhB50gAw",
        "outputId": "d649da04-ecbd-4bb8-e462-c3d5786f45bf",
        "colab": {
          "base_uri": "https://localhost:8080/",
          "height": 254
        }
      },
      "outputs": [
        {
          "output_type": "stream",
          "name": "stdout",
          "text": [
            "Spark NLP Version : 5.1.1\n",
            "Spark NLP_JSL Version : 5.1.1\n"
          ]
        },
        {
          "output_type": "execute_result",
          "data": {
            "text/plain": [
              "<pyspark.sql.session.SparkSession at 0x79f6f21e6c20>"
            ],
            "text/html": [
              "\n",
              "            <div>\n",
              "                <p><b>SparkSession - in-memory</b></p>\n",
              "                \n",
              "        <div>\n",
              "            <p><b>SparkContext</b></p>\n",
              "\n",
              "            <p><a href=\"http://0a17ffe7f2fe:4040\">Spark UI</a></p>\n",
              "\n",
              "            <dl>\n",
              "              <dt>Version</dt>\n",
              "                <dd><code>v3.1.2</code></dd>\n",
              "              <dt>Master</dt>\n",
              "                <dd><code>local[*]</code></dd>\n",
              "              <dt>AppName</dt>\n",
              "                <dd><code>Spark NLP Licensed</code></dd>\n",
              "            </dl>\n",
              "        </div>\n",
              "        \n",
              "            </div>\n",
              "        "
            ]
          },
          "metadata": {},
          "execution_count": 3
        }
      ],
      "source": [
        "import sparknlp\n",
        "import sparknlp_jsl\n",
        "\n",
        "from sparknlp.base import *\n",
        "from sparknlp.annotator import *\n",
        "from sparknlp_jsl.annotator import *\n",
        "\n",
        "from pyspark.sql import SparkSession\n",
        "from pyspark.sql import functions as F\n",
        "from pyspark.ml import Pipeline,PipelineModel\n",
        "from pyspark.sql.types import StringType, IntegerType\n",
        "\n",
        "import pandas as pd\n",
        "pd.set_option('display.max_colwidth', 200)\n",
        "\n",
        "import warnings\n",
        "warnings.filterwarnings('ignore')\n",
        "\n",
        "params = {\"spark.driver.memory\":\"16G\",\n",
        "          \"spark.kryoserializer.buffer.max\":\"2000M\",\n",
        "          \"spark.driver.maxResultSize\":\"2000M\"}\n",
        "\n",
        "spark = sparknlp_jsl.start(license_keys['SECRET'],params=params)\n",
        "\n",
        "print(\"Spark NLP Version :\", sparknlp.version())\n",
        "print(\"Spark NLP_JSL Version :\", sparknlp_jsl.version())\n",
        "\n",
        "spark"
      ]
    },
    {
      "cell_type": "markdown",
      "metadata": {
        "id": "ELr5bVqXdDFt"
      },
      "source": [
        "# **General Function for MedicalBertForSequenceClassification Pipeline**\n",
        "\n",
        "\n",
        "\n"
      ]
    },
    {
      "cell_type": "code",
      "execution_count": 4,
      "metadata": {
        "id": "gIUWeolKFjZe"
      },
      "outputs": [],
      "source": [
        "def run_pipeline(model, text, lang = 'en'):\n",
        "  document_assembler = DocumentAssembler() \\\n",
        "    .setInputCol(\"text\") \\\n",
        "    .setOutputCol(\"document\")\n",
        "\n",
        "  tokenizer = Tokenizer() \\\n",
        "    .setInputCols(\"document\") \\\n",
        "    .setOutputCol(\"token\")\n",
        "\n",
        "  sequenceClassifier = MedicalBertForSequenceClassification.pretrained(model, lang, \"clinical/models\")\\\n",
        "    .setInputCols([\"document\",\"token\"])\\\n",
        "    .setOutputCol(\"class_\")\n",
        "\n",
        "  pipeline = Pipeline(\n",
        "      stages=[\n",
        "          document_assembler,\n",
        "          tokenizer,\n",
        "          sequenceClassifier\n",
        "      ])\n",
        "\n",
        "  df = spark.createDataFrame(text, StringType()).toDF(\"text\")\n",
        "  result = pipeline.fit(df).transform(df)\n",
        "\n",
        "  print(\"\\n\")\n",
        "  print(\"<----------------- MODEL NAME:\",\"\\033[1m\" + model + \"\\033[0m\",\" ----------------- >\")\n",
        "\n",
        "  res = result.select(F.explode(F.arrays_zip(result.document.result,\n",
        "                                             result.class_.result,\n",
        "                                             result.class_.metadata)).alias(\"col\"))\\\n",
        "               .select(F.expr(\"col['1']\").alias(\"prediction\"),\n",
        "                       F.expr(\"col['2']\").alias(\"confidence\"),\n",
        "                       F.expr(\"col['0']\").alias(\"sentence\"))\n",
        "\n",
        "  if res.count()>1:\n",
        "    udf_func = F.udf(lambda x,y:  x[\"Some(\"+str(y)+\")\"])\n",
        "    print(\"\\n\",model,\"\\n\")\n",
        "    res.withColumn('confidence', udf_func(res.confidence, res.prediction)).show(truncate=False)"
      ]
    },
    {
      "cell_type": "markdown",
      "metadata": {
        "id": "Zzp_f1FcHhr8"
      },
      "source": [
        "# **MODELS**"
      ]
    },
    {
      "cell_type": "markdown",
      "source": [
        "## **bert_sequence_classifier_depression**"
      ],
      "metadata": {
        "id": "Wtj7e1HyJa5t"
      }
    },
    {
      "cell_type": "code",
      "source": [
        "model = \"bert_sequence_classifier_depression\""
      ],
      "metadata": {
        "id": "6gQVRCPZJeCy"
      },
      "execution_count": 5,
      "outputs": []
    },
    {
      "cell_type": "code",
      "source": [
        "sample_texts = [\n",
        "\"\"\"I definitely know my karaoke song now so hmu and it's by Britney shocking\"\"\",\n",
        "\"\"\"Johnny Cash going on day three sleeping in my bed. I must be severely depressed cus he can sense it.\"\"\",\n",
        "\"\"\"My mom said she was going to take me to the hospital so I started freaking out. Threw up on the living room floor.  Not much the hospital can do for me so what’s the point of going?\"\"\",\n",
        "\"\"\"wow i’m  but i have so many good things happening in the next few months i just gotta hang in there.......\"\"\",\n",
        "\"\"\"Feeling okish one minute then ?? for no reason what's so ever. Psychiatrist was right chronic depression gives no warnings, mood just dips when it feels like it.  Top it off anxiety is at a high too.  \"\"\"]"
      ],
      "metadata": {
        "id": "QxbZ-Le-Jjx2"
      },
      "execution_count": 6,
      "outputs": []
    },
    {
      "cell_type": "code",
      "source": [
        "run_pipeline(model, sample_texts)"
      ],
      "metadata": {
        "id": "gtaEazl-J2WV",
        "outputId": "4a8f51d6-87dc-43d4-ef15-1fbe5f883d1d",
        "colab": {
          "base_uri": "https://localhost:8080/"
        }
      },
      "execution_count": 7,
      "outputs": [
        {
          "output_type": "stream",
          "name": "stdout",
          "text": [
            "bert_sequence_classifier_depression download started this may take some time.\n",
            "[OK!]\n",
            "\n",
            "\n",
            "<----------------- MODEL NAME: \u001b[1mbert_sequence_classifier_depression\u001b[0m  ----------------- >\n",
            "\n",
            " bert_sequence_classifier_depression \n",
            "\n",
            "+---------------+----------+---------------------------------------------------------------------------------------------------------------------------------------------------------------------------------------------------------+\n",
            "|prediction     |confidence|sentence                                                                                                                                                                                                 |\n",
            "+---------------+----------+---------------------------------------------------------------------------------------------------------------------------------------------------------------------------------------------------------+\n",
            "|no-depression  |0.9999039 |I definitely know my karaoke song now so hmu and it's by Britney shocking                                                                                                                                |\n",
            "|high-depression|0.999463  |Johnny Cash going on day three sleeping in my bed. I must be severely depressed cus he can sense it.                                                                                                     |\n",
            "|minimum        |0.9975789 |My mom said she was going to take me to the hospital so I started freaking out. Threw up on the living room floor.  Not much the hospital can do for me so what’s the point of going?                    |\n",
            "|no-depression  |0.9999276 |wow i’m  but i have so many good things happening in the next few months i just gotta hang in there.......                                                                                               |\n",
            "|high-depression|0.99947625|Feeling okish one minute then ?? for no reason what's so ever. Psychiatrist was right chronic depression gives no warnings, mood just dips when it feels like it.  Top it off anxiety is at a high too.  |\n",
            "+---------------+----------+---------------------------------------------------------------------------------------------------------------------------------------------------------------------------------------------------------+\n",
            "\n"
          ]
        }
      ]
    },
    {
      "cell_type": "markdown",
      "source": [
        "## **bert_sequence_classifier_depression_binary**"
      ],
      "metadata": {
        "id": "ZSiINi8cKsPK"
      }
    },
    {
      "cell_type": "code",
      "source": [
        "model = \"bert_sequence_classifier_depression_binary\""
      ],
      "metadata": {
        "id": "ODPFJOloJ24T"
      },
      "execution_count": 8,
      "outputs": []
    },
    {
      "cell_type": "code",
      "source": [
        "sample_texts = [\n",
        "\"\"\"I definitely know my karaoke song now so hmu and it's by Britney shocking\"\"\",\n",
        "\"\"\"Johnny Cash going on day three sleeping in my bed. I must be severely depressed cus he can sense it.\"\"\",\n",
        "\"\"\"My mom said she was going to take me to the hospital so I started freaking out. Threw up on the living room floor.  Not much the hospital can do for me so what’s the point of going?\"\"\",\n",
        "\"\"\"wow i’m  but i have so many good things happening in the next few months i just gotta hang in there.......\"\"\",\n",
        "\"\"\"Feeling okish one minute then ?? for no reason what's so ever. Psychiatrist was right chronic depression gives no warnings, mood just dips when it feels like it.  Top it off anxiety is at a high too.  \"\"\"]\n"
      ],
      "metadata": {
        "id": "-nxXPdGlK-Xr"
      },
      "execution_count": 9,
      "outputs": []
    },
    {
      "cell_type": "code",
      "source": [
        "run_pipeline(model, sample_texts)"
      ],
      "metadata": {
        "id": "q8dRK2djLGLK",
        "outputId": "996c7899-34f0-48e2-b27c-09be1f74819b",
        "colab": {
          "base_uri": "https://localhost:8080/"
        }
      },
      "execution_count": 10,
      "outputs": [
        {
          "output_type": "stream",
          "name": "stdout",
          "text": [
            "bert_sequence_classifier_depression_binary download started this may take some time.\n",
            "[OK!]\n",
            "\n",
            "\n",
            "<----------------- MODEL NAME: \u001b[1mbert_sequence_classifier_depression_binary\u001b[0m  ----------------- >\n",
            "\n",
            " bert_sequence_classifier_depression_binary \n",
            "\n",
            "+-------------+----------+---------------------------------------------------------------------------------------------------------------------------------------------------------------------------------------------------------+\n",
            "|prediction   |confidence|sentence                                                                                                                                                                                                 |\n",
            "+-------------+----------+---------------------------------------------------------------------------------------------------------------------------------------------------------------------------------------------------------+\n",
            "|no-depression|0.99752676|I definitely know my karaoke song now so hmu and it's by Britney shocking                                                                                                                                |\n",
            "|depression   |0.98543066|Johnny Cash going on day three sleeping in my bed. I must be severely depressed cus he can sense it.                                                                                                     |\n",
            "|depression   |0.99037576|My mom said she was going to take me to the hospital so I started freaking out. Threw up on the living room floor.  Not much the hospital can do for me so what’s the point of going?                    |\n",
            "|no-depression|0.99757993|wow i’m  but i have so many good things happening in the next few months i just gotta hang in there.......                                                                                               |\n",
            "|depression   |0.988201  |Feeling okish one minute then ?? for no reason what's so ever. Psychiatrist was right chronic depression gives no warnings, mood just dips when it feels like it.  Top it off anxiety is at a high too.  |\n",
            "+-------------+----------+---------------------------------------------------------------------------------------------------------------------------------------------------------------------------------------------------------+\n",
            "\n"
          ]
        }
      ]
    },
    {
      "cell_type": "markdown",
      "source": [
        "## **bert_sequence_classifier_depression_twitter**"
      ],
      "metadata": {
        "id": "aJDIJc1JLfeq"
      }
    },
    {
      "cell_type": "code",
      "source": [
        "model = \"bert_sequence_classifier_depression_twitter\""
      ],
      "metadata": {
        "id": "FzeFPIKyLICt"
      },
      "execution_count": 11,
      "outputs": []
    },
    {
      "cell_type": "code",
      "source": [
        "sample_texts = [\n",
        "\"\"\"I definitely know my karaoke song now so hmu and it's by Britney shocking\"\"\",\n",
        "\"\"\"With ageing populations at risk of  and  (and depression's myriad health effects so higher healthcare costs), as well as rising childcare costs, approaches like intergenerational care seem beautifully cost efficient and solve 1 problem with another problem. pic.twitter.com/QouBTSRhR6\"\"\",\n",
        "\"\"\"My mom said she was going to take me to the hospital so I started freaking out. Threw up on the living room floor.  Not much the hospital can do for me so what’s the point of going?\"\"\",\n",
        "\"\"\"wow i’m  but i have so many good things happening in the next few months i just gotta hang in there.......\"\"\",\n",
        "\"\"\"Feeling okish one minute then ?? for no reason what's so ever. Psychiatrist was right chronic depression gives no warnings, mood just dips when it feels like it.  Top it off anxiety is at a high too.  \"\"\"]"
      ],
      "metadata": {
        "id": "nMPjbjfsLq8f"
      },
      "execution_count": 12,
      "outputs": []
    },
    {
      "cell_type": "code",
      "source": [
        "run_pipeline(model, sample_texts)"
      ],
      "metadata": {
        "id": "RTLS0Rn0LyKJ",
        "outputId": "c2b06780-0440-4e74-acd9-1945331748b1",
        "colab": {
          "base_uri": "https://localhost:8080/"
        }
      },
      "execution_count": 13,
      "outputs": [
        {
          "output_type": "stream",
          "name": "stdout",
          "text": [
            "bert_sequence_classifier_depression_twitter download started this may take some time.\n",
            "[OK!]\n",
            "\n",
            "\n",
            "<----------------- MODEL NAME: \u001b[1mbert_sequence_classifier_depression_twitter\u001b[0m  ----------------- >\n",
            "\n",
            " bert_sequence_classifier_depression_twitter \n",
            "\n",
            "+-------------+----------+--------------------------------------------------------------------------------------------------------------------------------------------------------------------------------------------------------------------------------------------------------------------------------------------+\n",
            "|prediction   |confidence|sentence                                                                                                                                                                                                                                                                                    |\n",
            "+-------------+----------+--------------------------------------------------------------------------------------------------------------------------------------------------------------------------------------------------------------------------------------------------------------------------------------------+\n",
            "|no-depression|0.99998087|I definitely know my karaoke song now so hmu and it's by Britney shocking                                                                                                                                                                                                                   |\n",
            "|no-depression|0.999292  |With ageing populations at risk of  and  (and depression's myriad health effects so higher healthcare costs), as well as rising childcare costs, approaches like intergenerational care seem beautifully cost efficient and solve 1 problem with another problem. pic.twitter.com/QouBTSRhR6|\n",
            "|depression   |0.99995136|My mom said she was going to take me to the hospital so I started freaking out. Threw up on the living room floor.  Not much the hospital can do for me so what’s the point of going?                                                                                                       |\n",
            "|no-depression|0.99997663|wow i’m  but i have so many good things happening in the next few months i just gotta hang in there.......                                                                                                                                                                                  |\n",
            "|depression   |0.9997449 |Feeling okish one minute then ?? for no reason what's so ever. Psychiatrist was right chronic depression gives no warnings, mood just dips when it feels like it.  Top it off anxiety is at a high too.                                                                                     |\n",
            "+-------------+----------+--------------------------------------------------------------------------------------------------------------------------------------------------------------------------------------------------------------------------------------------------------------------------------------------+\n",
            "\n"
          ]
        }
      ]
    },
    {
      "cell_type": "markdown",
      "source": [
        "## **multiclassifierdl_mental_disorder**"
      ],
      "metadata": {
        "id": "UmJYddVOnevs"
      }
    },
    {
      "cell_type": "code",
      "source": [
        "model_list = [\"multiclassifierdl_mental_disorder\"]"
      ],
      "metadata": {
        "id": "XxoN8fr-nkI4"
      },
      "execution_count": 14,
      "outputs": []
    },
    {
      "cell_type": "code",
      "source": [
        "text_list = [\n",
        "    \"\"\"The patient verbalizes feelings of worthlessness and recurrent thoughts of death, necessitating immediate intervention for severe depression.\"\"\",\n",
        "    \"\"\"Monitoring the patient for potential side effects of lithium therapy, initiated to manage the mood fluctuations of bipolar disorder.\"\"\",\n",
        "    \"\"\"Commenced CBT to equip the patient with coping strategies for persistent irrational fears and nervousness stemming from their anxiety disorder.\"\"\",\n",
        "    \"\"\"Michael Anderson takes medications for schizophrenia, hypertension, hyperlipidemia, and migraines.\"\"\",\n",
        "    \"\"\"With a clinical presentation of persistent wheezing and respiratory discomfort, the patient has been conclusively diagnosed with Asthma, necessitating immediate commencement of anti-inflammatory medications.\"\"\",\n",
        "    \"\"\"Current episode characterized by a marked increase in goal-directed activity and restlessness, indicative of a manic phase within the bipolar disorder.\"\"\",\n",
        "    \"\"\"During the evaluation, the patient exhibited a pattern of extreme mood swings that oscillated from periods of intense euphoria and heightened irritability to episodes of significant despair, aligning with a diagnosis of bipolar disorder.\"\"\",\n",
        "    \"\"\"Observed behavioral avoidance in scenarios that don't present apparent danger, common in individuals suffering from anxiety disorders.\"\"\",\n",
        "    \"\"\"Patient reports a history of episodic, intense depressive symptoms, followed by stages of excessive euphoria, consistent with bipolar disorder.\"\"\"\n",
        "]"
      ],
      "metadata": {
        "id": "INqYfPTsn0pY"
      },
      "execution_count": 15,
      "outputs": []
    },
    {
      "cell_type": "code",
      "source": [
        "document_assembler = DocumentAssembler()\\\n",
        "    .setInputCol(\"text\")\\\n",
        "    .setOutputCol(\"document\")\n",
        "\n",
        "tokenizer = Tokenizer()\\\n",
        "    .setInputCols([\"document\"])\\\n",
        "    .setOutputCol(\"token\")\n",
        "\n",
        "word_embeddings = WordEmbeddingsModel.pretrained(\"embeddings_clinical\", \"en\", \"clinical/models\")\\\n",
        "    .setInputCols([\"document\", \"token\"])\\\n",
        "    .setOutputCol(\"word_embeddings\")\n",
        "\n",
        "sentence_embeddings = SentenceEmbeddings()\\\n",
        "    .setInputCols([\"document\", \"word_embeddings\"])\\\n",
        "    .setOutputCol(\"sentence_embeddings\")\\\n",
        "    .setPoolingStrategy(\"AVERAGE\")\n",
        "\n",
        "multi_classifier_dl = MultiClassifierDLModel.pretrained(\"multiclassifierdl_mental_disorder\", \"en\", \"clinical/models\")\\\n",
        "    .setInputCols([\"sentence_embeddings\"])\\\n",
        "    .setOutputCol(\"prediction\")\\\n",
        "    .setThreshold(0.999)\n",
        "\n",
        "pipeline = Pipeline(\n",
        "    stages = [\n",
        "        document_assembler,\n",
        "        tokenizer,\n",
        "        word_embeddings,\n",
        "        sentence_embeddings,\n",
        "        multi_classifier_dl\n",
        "    ])\n",
        "\n",
        "\n",
        "pipeline_model = pipeline.fit(spark.createDataFrame([[\"\"]]).toDF(\"text\"))\n",
        "light_model = LightPipeline(pipeline_model)"
      ],
      "metadata": {
        "colab": {
          "base_uri": "https://localhost:8080/"
        },
        "id": "1Wz1VWPUnpQa",
        "outputId": "9a0368d8-69c5-453c-a1b3-a03570b6ced3"
      },
      "execution_count": 16,
      "outputs": [
        {
          "output_type": "stream",
          "name": "stdout",
          "text": [
            "embeddings_clinical download started this may take some time.\n",
            "Approximate size to download 1.6 GB\n",
            "[OK!]\n",
            "multiclassifierdl_mental_disorder download started this may take some time.\n",
            "Approximate size to download 83.7 MB\n",
            "[OK!]\n"
          ]
        }
      ]
    },
    {
      "cell_type": "code",
      "source": [
        "data = spark.createDataFrame(text_list, StringType()).toDF(\"text\")"
      ],
      "metadata": {
        "id": "NIgYLlxBntup"
      },
      "execution_count": 17,
      "outputs": []
    },
    {
      "cell_type": "code",
      "source": [
        "result = pipeline.fit(data).transform(data)\n",
        "result.selectExpr(\"text\", \"prediction.result\" ).show(truncate=150)"
      ],
      "metadata": {
        "colab": {
          "base_uri": "https://localhost:8080/"
        },
        "id": "Ja3xFUlzntqG",
        "outputId": "6dd2a502-a274-48f6-bc07-5c7b2d47edcd"
      },
      "execution_count": 19,
      "outputs": [
        {
          "output_type": "stream",
          "name": "stdout",
          "text": [
            "+------------------------------------------------------------------------------------------------------------------------------------------------------+------------------+\n",
            "|                                                                                                                                                  text|            result|\n",
            "+------------------------------------------------------------------------------------------------------------------------------------------------------+------------------+\n",
            "|         The patient verbalizes feelings of worthlessness and recurrent thoughts of death, necessitating immediate intervention for severe depression.|      [Depression]|\n",
            "|                  Monitoring the patient for potential side effects of lithium therapy, initiated to manage the mood fluctuations of bipolar disorder.|[Bipolar disorder]|\n",
            "|       Commenced CBT to equip the patient with coping strategies for persistent irrational fears and nervousness stemming from their anxiety disorder.|[Anxiety disorder]|\n",
            "|                                                    Michael Anderson takes medications for schizophrenia, hypertension, hyperlipidemia, and migraines.|   [Schizophrenia]|\n",
            "|With a clinical presentation of persistent wheezing and respiratory discomfort, the patient has been conclusively diagnosed with Asthma, necessitat...|              [No]|\n",
            "|Current episode characterized by a marked increase in goal-directed activity and restlessness, indicative of a manic phase within the bipolar disor...|[Bipolar disorder]|\n",
            "|During the evaluation, the patient exhibited a pattern of extreme mood swings that oscillated from periods of intense euphoria and heightened irrit...|[Bipolar disorder]|\n",
            "|                Observed behavioral avoidance in scenarios that don't present apparent danger, common in individuals suffering from anxiety disorders.|[Anxiety disorder]|\n",
            "|       Patient reports a history of episodic, intense depressive symptoms, followed by stages of excessive euphoria, consistent with bipolar disorder.|[Bipolar disorder]|\n",
            "+------------------------------------------------------------------------------------------------------------------------------------------------------+------------------+\n",
            "\n"
          ]
        }
      ]
    },
    {
      "cell_type": "code",
      "source": [],
      "metadata": {
        "id": "0wspVwoQntnw"
      },
      "execution_count": null,
      "outputs": []
    },
    {
      "cell_type": "code",
      "source": [],
      "metadata": {
        "id": "bL3qEeAMntkG"
      },
      "execution_count": null,
      "outputs": []
    },
    {
      "cell_type": "code",
      "source": [],
      "metadata": {
        "id": "YGWIYHLbntc_"
      },
      "execution_count": null,
      "outputs": []
    }
  ],
  "metadata": {
    "colab": {
      "machine_shape": "hm",
      "provenance": [],
      "toc_visible": true,
      "gpuClass": "premium"
    },
    "kernelspec": {
      "display_name": "Python 3",
      "name": "python3"
    },
    "language_info": {
      "codemirror_mode": {
        "name": "ipython",
        "version": 3
      },
      "file_extension": ".py",
      "mimetype": "text/x-python",
      "name": "python",
      "nbconvert_exporter": "python",
      "pygments_lexer": "ipython3",
      "version": "3.10.7"
    },
    "vscode": {
      "interpreter": {
        "hash": "369f2c481f4da34e4445cda3fffd2e751bd1c4d706f27375911949ba6bb62e1c"
      }
    }
  },
  "nbformat": 4,
  "nbformat_minor": 0
}
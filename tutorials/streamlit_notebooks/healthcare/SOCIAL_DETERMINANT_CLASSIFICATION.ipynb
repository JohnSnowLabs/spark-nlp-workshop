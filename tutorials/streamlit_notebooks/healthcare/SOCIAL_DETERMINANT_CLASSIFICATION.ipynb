{
  "cells": [
    {
      "cell_type": "markdown",
      "metadata": {
        "id": "lokVHWdvaz-W"
      },
      "source": [
        "![JohnSnowLabs](https://nlp.johnsnowlabs.com/assets/images/logo.png)\n",
        "\n",
        "[![Open In Colab](https://colab.research.google.com/assets/colab-badge.svg)](https://colab.research.google.com/github/JohnSnowLabs/spark-nlp-workshop/blob/master/tutorials/streamlit_notebooks/healthcare/SOCIAL_DETERMINANT_CLASSIFICATION.ipynb)"
      ]
    },
    {
      "cell_type": "markdown",
      "metadata": {
        "id": "Oex6UyiHHpJS"
      },
      "source": [
        "# **Social Determinants of Health-Classification**"
      ]
    },
    {
      "cell_type": "markdown",
      "metadata": {
        "id": "dmJXAqSxHWxX"
      },
      "source": [
        "📌To run this yourself, you will need to upload your license keys to the notebook. Just Run The Cell Below in order to do that. Also You can open the file explorer on the left side of the screen and upload `license_keys.json` to the folder that opens.\n",
        "Otherwise, you can look at the example outputs at the bottom of the notebook."
      ]
    },
    {
      "cell_type": "markdown",
      "metadata": {
        "id": "U-UAcTkUbjzm"
      },
      "source": [
        "# **Colab Setup**"
      ]
    },
    {
      "cell_type": "code",
      "execution_count": null,
      "metadata": {
        "id": "dnJ9X-mbEOMr"
      },
      "outputs": [],
      "source": [
        "import json, os\n",
        "from google.colab import files\n",
        "\n",
        "if 'spark_jsl.json' not in os.listdir():\n",
        "  license_keys = files.upload()\n",
        "  os.rename(list(license_keys.keys())[0], 'spark_jsl.json')\n",
        "\n",
        "with open('spark_jsl.json') as f:\n",
        "    license_keys = json.load(f)\n",
        "\n",
        "# Defining license key-value pairs as local variables\n",
        "locals().update(license_keys)\n",
        "os.environ.update(license_keys)"
      ]
    },
    {
      "cell_type": "code",
      "execution_count": null,
      "metadata": {
        "id": "qeg3QosiFf5u"
      },
      "outputs": [],
      "source": [
        "# Installing pyspark and spark-nlp\n",
        "! pip install --upgrade -q pyspark==3.1.2 spark-nlp==$PUBLIC_VERSION\n",
        "\n",
        "# Installing Spark NLP Healthcare\n",
        "! pip install --upgrade -q spark-nlp-jsl==$JSL_VERSION  --extra-index-url https://pypi.johnsnowlabs.com/$SECRET\n",
        "\n",
        "# Installing Spark NLP Display Library for visualization\n",
        "! pip install -q spark-nlp-display"
      ]
    },
    {
      "cell_type": "code",
      "execution_count": null,
      "metadata": {
        "id": "JK4D8yjTPlgJ",
        "colab": {
          "base_uri": "https://localhost:8080/",
          "height": 259
        },
        "outputId": "38a4b3e8-1cf2-4ab3-ac09-91ac5dce3c33"
      },
      "outputs": [
        {
          "output_type": "stream",
          "name": "stdout",
          "text": [
            "Spark NLP Version : 5.1.0\n",
            "Spark NLP_JSL Version : 5.1.0\n"
          ]
        },
        {
          "output_type": "execute_result",
          "data": {
            "text/plain": [
              "<pyspark.sql.session.SparkSession at 0x78d9ae4d2950>"
            ],
            "text/html": [
              "\n",
              "            <div>\n",
              "                <p><b>SparkSession - in-memory</b></p>\n",
              "                \n",
              "        <div>\n",
              "            <p><b>SparkContext</b></p>\n",
              "\n",
              "            <p><a href=\"http://313aaa13d0f7:4040\">Spark UI</a></p>\n",
              "\n",
              "            <dl>\n",
              "              <dt>Version</dt>\n",
              "                <dd><code>v3.1.2</code></dd>\n",
              "              <dt>Master</dt>\n",
              "                <dd><code>local[*]</code></dd>\n",
              "              <dt>AppName</dt>\n",
              "                <dd><code>Spark NLP Licensed</code></dd>\n",
              "            </dl>\n",
              "        </div>\n",
              "        \n",
              "            </div>\n",
              "        "
            ]
          },
          "metadata": {},
          "execution_count": 3
        }
      ],
      "source": [
        "import sparknlp\n",
        "import sparknlp_jsl\n",
        "\n",
        "from sparknlp.base import *\n",
        "from sparknlp.annotator import *\n",
        "from sparknlp_jsl.annotator import *\n",
        "\n",
        "from pyspark.sql import SparkSession\n",
        "from pyspark.sql import functions as F\n",
        "from pyspark.ml import Pipeline,PipelineModel\n",
        "from pyspark.sql.types import StringType, IntegerType\n",
        "\n",
        "import pandas as pd\n",
        "pd.set_option('display.max_colwidth', 200)\n",
        "\n",
        "import warnings\n",
        "warnings.filterwarnings('ignore')\n",
        "\n",
        "params = {\"spark.driver.memory\":\"16G\",\n",
        "          \"spark.kryoserializer.buffer.max\":\"2000M\",\n",
        "          \"spark.driver.maxResultSize\":\"2000M\"}\n",
        "\n",
        "spark = sparknlp_jsl.start(license_keys['SECRET'],params=params)\n",
        "\n",
        "print(\"Spark NLP Version :\", sparknlp.version())\n",
        "print(\"Spark NLP_JSL Version :\", sparknlp_jsl.version())\n",
        "\n",
        "spark"
      ]
    },
    {
      "cell_type": "markdown",
      "metadata": {
        "id": "Zzp_f1FcHhr8"
      },
      "source": [
        "# 🔎 MODELS"
      ]
    },
    {
      "cell_type": "markdown",
      "metadata": {
        "id": "6WTJFHBsK_KP"
      },
      "source": [
        "### Sequence Classifier :\n",
        "|                       Model Name                       |                                                        Description                                                       |   Language  |\n",
        "|:------------------------------------------------------:|:------------------------------------------------------------------------------------------------------------------------:|:-----------:|\n",
        "| bert_sequence_classifier_sdoh_community_present_status | This model classifies related to social support such as a family member or friend in the clinical documents.             | True, False |\n",
        "| bert_sequence_classifier_sdoh_community_absent_status  | This model classifies related to the loss of social support such as a family member or friend in the clinical documents. | True, False |\n",
        "\n",
        "### Generic Classifier :\n",
        "|                              Model Name                             |                                                                    Description                                                                    |                              Language                              |\n",
        "|:-------------------------------------------------------------------:|:-------------------------------------------------------------------------------------------------------------------------------------------------:|:------------------------------------------------------------------:|\n",
        "| genericclassifier_sdoh_alcohol_usage_sbiobert_cased_mli             | This Generic Classifier model is intended for detecting alcohol use in clinical notes and trained by using GenericClassifierApproach annotator.   | Present, Past, Never, None                                         |\n",
        "| genericclassifier_sdoh_tobacco_usage_sbiobert_cased_mli             | This Generic Classifier model is intended for detecting tobacco use in clinical notes and trained by using GenericClassifierApproach annotator.   | Present, Past, Never, None                                         |\n",
        "| genericclassifier_sdoh_substance_usage_binary_sbiobert_cased_mli    | This Generic Classifier model is intended for detecting substance use in clinical notes and trained by using GenericClassifierApproach annotator. | Present, None                                                      |\n",
        "| genericclassifier_sdoh_alcohol_usage_binary_sbiobert_cased_mli      | This Generic Classifier model is intended for detecting alcohol use in clinical notes and trained by using GenericClassifierApproach annotator.   | Present, Never, None                                               |\n",
        "| genericclassifier_sdoh_economics_binary_sbiobert_cased_mli          | This model classifies related to social economics status in the clinical documents and trained by using GenericClassifierApproach annotator.      | True, False                                                        |\n",
        "| genericclassifier_sdoh_transportation_insecurity_sbiobert_cased_mli | The transportation insecurity classifier employs BERT embeddings within a generic classifier framework.                                           | Transportation_Insecurity, No_Transportation_Insecurity_Or_Unknown |\n",
        "\n",
        "\n",
        "\n",
        "\n",
        "\n",
        "**🔎You can find all these models and more [NLP Models Hub](https://nlp.johnsnowlabs.com/models?task=Named+Entity+Recognition&edition=Spark+NLP+for+Healthcare)**"
      ]
    },
    {
      "cell_type": "markdown",
      "metadata": {
        "id": "taaK6AJ6myFW"
      },
      "source": [
        "# 📌 Sequence Classifier"
      ]
    },
    {
      "cell_type": "markdown",
      "source": [
        "### **`bert_sequence_classifier_sdoh_community_present_status`**"
      ],
      "metadata": {
        "id": "uqj4r25AQy9h"
      }
    },
    {
      "cell_type": "code",
      "execution_count": null,
      "metadata": {
        "id": "uodENcIfKvSU"
      },
      "outputs": [],
      "source": [
        "text_list = [\n",
        "\" Patient with history of lupus, lupus nephritis with ESRD on peritoneal dialysis on transplant list, hx of PE/Antiphopholipid antibody on coumadin, mitral regurg, presents with 4-6 month history of cough, worse in the morning, one week of trace blood, now producing bright red blood over last couple days. Patient states that the amount of blood she has been coughing has been increasing and is now almost hourly, aprroximately 1 teaspoon bright red blood. Patient states that the cough produced primarily yellow sputum until it turned to blood. Patient denies any other symptoms such as dizziness or lightheadedness.  Married with three children,Worked as an accountant until health declined in early 2002. No tobacco, ethanol or drug use. Centrilobular nodules and ground glass opacities throughout both lungs, with a basilar predominance, with associated mild bronchiectasis, compatible with chronic collagen vascular disease, progressed since 2002. There is no advanced fibrosis. Superimposed infection cannot be excluded by imaging alone. Ground glass opacities could also represent hemorrhage. 3. Chronic left lower segmental pulmonary arterial PE, unchanged since 2191. No new acute PE detected to the subsegmental levels.\",\n",
        "\" This is an 87 year old man status post motor vehicle accident in Month (only) 956 who was recently discharged from Hospital1 18 status post left radical nephrectomy for renal oncocytoma, who returned to Hospital1 18 on 3-22 for outpatient followup CT scan of the head. Patient was found to have a left subdural hematoma and was transported to the emergency department for workup. Currently patient does not complain of fever, chills, nausea, vomiting, chest pain, shortness of breath. No known drug allergies.The patient is a retired priest. Denies history of tobacco or alcohol use. Patient currently lives at Hospital3 2558.\",\n",
        "]"
      ]
    },
    {
      "cell_type": "code",
      "execution_count": null,
      "metadata": {
        "colab": {
          "base_uri": "https://localhost:8080/"
        },
        "id": "Cr2eBf1Rm9RM",
        "outputId": "6501a69f-74d9-4d43-d29d-0144a1417c4c"
      },
      "outputs": [
        {
          "output_type": "stream",
          "name": "stdout",
          "text": [
            "bert_sequence_classifier_sdoh_community_present_status download started this may take some time.\n",
            "[OK!]\n"
          ]
        }
      ],
      "source": [
        "documentAssembler = DocumentAssembler()\\\n",
        "        .setInputCol(\"text\")\\\n",
        "        .setOutputCol(\"document\")\n",
        "\n",
        "tokenizer = Tokenizer()\\\n",
        "    .setInputCols([\"document\"])\\\n",
        "    .setOutputCol(\"token\")\n",
        "\n",
        "sequenceClassifier = MedicalBertForSequenceClassification.pretrained(\"bert_sequence_classifier_sdoh_community_present_status\", \"en\", \"clinical/models\")\\\n",
        "    .setInputCols([\"document\",\"token\"])\\\n",
        "    .setOutputCol(\"class_\")\n",
        "\n",
        "\n",
        "pipeline = Pipeline(stages=[\n",
        "                        documentAssembler,\n",
        "                        tokenizer,\n",
        "                        sequenceClassifier])\n",
        "\n",
        "\n",
        "df = spark.createDataFrame(text_list, StringType()).toDF(\"text\")\n",
        "results = pipeline.fit(df).transform(df)"
      ]
    },
    {
      "cell_type": "code",
      "execution_count": null,
      "metadata": {
        "colab": {
          "base_uri": "https://localhost:8080/"
        },
        "id": "mdiSHcL1m9Mr",
        "outputId": "25ec0efe-b89b-47f5-e5d3-b4c1767180c4"
      },
      "outputs": [
        {
          "output_type": "stream",
          "name": "stdout",
          "text": [
            "+----------+----------+------------------------------------------------------------------------------------------------------------------------------------------------------+\n",
            "|prediction|confidence|                                                                                                                                              sentence|\n",
            "+----------+----------+------------------------------------------------------------------------------------------------------------------------------------------------------+\n",
            "|      True| 0.9982032| Patient with history of lupus, lupus nephritis with ESRD on peritoneal dialysis on transplant list, hx of PE/Antiphopholipid antibody on coumadin,...|\n",
            "|     False|0.78874034| This is an 87 year old man status post motor vehicle accident in Month (only) 956 who was recently discharged from Hospital1 18 status post left r...|\n",
            "+----------+----------+------------------------------------------------------------------------------------------------------------------------------------------------------+\n",
            "\n"
          ]
        }
      ],
      "source": [
        "res = results.select(F.explode(F.arrays_zip(results.document.result,\n",
        "                                             results.class_.result,\n",
        "                                             results.class_.metadata)).alias(\"col\"))\\\n",
        "               .select(F.expr(\"col['1']\").alias(\"prediction\"),\n",
        "                       F.expr(\"col['2']\").alias(\"confidence\"),\n",
        "                       F.expr(\"col['0']\").alias(\"sentence\"))\n",
        "\n",
        "if res.count()>1:\n",
        "  udf_func = F.udf(lambda x,y:  x[\"Some(\"+str(y)+\")\"])\n",
        "  res.withColumn('confidence', udf_func(res.confidence, res.prediction)).show(truncate=150)"
      ]
    },
    {
      "cell_type": "markdown",
      "metadata": {
        "id": "Z7DY6UBZm2ph"
      },
      "source": [
        "### **`bert_sequence_classifier_sdoh_community_absent_status`**"
      ]
    },
    {
      "cell_type": "code",
      "execution_count": null,
      "metadata": {
        "id": "HD9N1NVIKwEU"
      },
      "outputs": [],
      "source": [
        "text_list = [\n",
        "\"She has two adult sons. She is a widow. She was employed with housework. She quit smoking 20 to 30 years ago, but smoked two packs per day for 20 to 30 years. She drinks one glass of wine occasionally. She avoids salt in her diet. \",\n",
        "\"65 year old male presented with several days of vice like chest pain. He states that he felt like his chest was being crushed from back to the front. Lives with spouse and two sons moved to US 1 month ago.\",\n",
        "]"
      ]
    },
    {
      "cell_type": "code",
      "execution_count": null,
      "metadata": {
        "colab": {
          "base_uri": "https://localhost:8080/"
        },
        "id": "kTJM1PxCm-Qp",
        "outputId": "6b6c4082-7eb6-43bb-d95c-82935b305fd4"
      },
      "outputs": [
        {
          "output_type": "stream",
          "name": "stdout",
          "text": [
            "bert_sequence_classifier_sdoh_community_absent_status download started this may take some time.\n",
            "[OK!]\n"
          ]
        }
      ],
      "source": [
        "sequenceClassifier = MedicalBertForSequenceClassification.pretrained(\"bert_sequence_classifier_sdoh_community_absent_status\", \"en\", \"clinical/models\")\\\n",
        "    .setInputCols([\"document\",\"token\"])\\\n",
        "    .setOutputCol(\"class_\")\n",
        "\n",
        "\n",
        "pipeline = Pipeline(stages=[\n",
        "                      documentAssembler,\n",
        "                      tokenizer,\n",
        "                      sequenceClassifier])\n",
        "\n",
        "\n",
        "df = spark.createDataFrame(text_list, StringType()).toDF(\"text\")\n",
        "results = pipeline.fit(df).transform(df)"
      ]
    },
    {
      "cell_type": "code",
      "execution_count": null,
      "metadata": {
        "colab": {
          "base_uri": "https://localhost:8080/"
        },
        "id": "XhLCxp3w2Hhs",
        "outputId": "19241d83-ebb0-4382-951f-7d0d2c7fafc9"
      },
      "outputs": [
        {
          "output_type": "stream",
          "name": "stdout",
          "text": [
            "+----------+----------+------------------------------------------------------------------------------------------------------------------------------------------------------+\n",
            "|prediction|confidence|                                                                                                                                              sentence|\n",
            "+----------+----------+------------------------------------------------------------------------------------------------------------------------------------------------------+\n",
            "|      True| 0.9894813|She has two adult sons. She is a widow. She was employed with housework. She quit smoking 20 to 30 years ago, but smoked two packs per day for 20 t...|\n",
            "|     False|0.72528476|65 year old male presented with several days of vice like chest pain. He states that he felt like his chest was being crushed from back to the fron...|\n",
            "+----------+----------+------------------------------------------------------------------------------------------------------------------------------------------------------+\n",
            "\n"
          ]
        }
      ],
      "source": [
        "res = results.select(F.explode(F.arrays_zip(results.document.result,\n",
        "                                             results.class_.result,\n",
        "                                             results.class_.metadata)).alias(\"col\"))\\\n",
        "               .select(F.expr(\"col['1']\").alias(\"prediction\"),\n",
        "                       F.expr(\"col['2']\").alias(\"confidence\"),\n",
        "                       F.expr(\"col['0']\").alias(\"sentence\"))\n",
        "\n",
        "if res.count()>1:\n",
        "  udf_func = F.udf(lambda x,y:  x[\"Some(\"+str(y)+\")\"])\n",
        "  res.withColumn('confidence', udf_func(res.confidence, res.prediction)).show(truncate=150)"
      ]
    },
    {
      "cell_type": "markdown",
      "source": [
        "# 📌 Generic Classifier"
      ],
      "metadata": {
        "id": "VGzhdMF8hPbK"
      }
    },
    {
      "cell_type": "markdown",
      "source": [
        "### **`genericclassifier_sdoh_tobacco_usage_sbiobert_cased_mli`**"
      ],
      "metadata": {
        "id": "98VUXoFAhXUM"
      }
    },
    {
      "cell_type": "code",
      "source": [
        "text_list = [\"Retired schoolteacher, now substitutes. Lives with wife in location 1439. Has a 27 yo son and a 25 yo daughter. He uses alcohol and cigarettes\",\n",
        "             \"The patient quit smoking approximately two years ago with an approximately a 40 pack year history, mostly cigar use. He also reports 'heavy alcohol use', quit 15 months ago.\",\n",
        "             \"The patient denies any history of smoking or alcohol abuse. She lives with her one daughter.\",\n",
        "             \"She was previously employed as a hairdresser, though says she hasnt worked in 4 years. Not reported by patient, but there is apparently a history of alochol abuse.\"\n",
        "             ]\n",
        "\n",
        "df = spark.createDataFrame(text_list, StringType()).toDF(\"text\")"
      ],
      "metadata": {
        "id": "0ISdnUjihSPB"
      },
      "execution_count": null,
      "outputs": []
    },
    {
      "cell_type": "code",
      "source": [
        "document_assembler = DocumentAssembler()\\\n",
        "    .setInputCol(\"text\")\\\n",
        "    .setOutputCol(\"document\")\n",
        "\n",
        "sentence_embeddings = BertSentenceEmbeddings.pretrained(\"sbiobert_base_cased_mli\", 'en','clinical/models')\\\n",
        "    .setInputCols([\"document\"])\\\n",
        "    .setOutputCol(\"sentence_embeddings\")\n",
        "\n",
        "features_asm = FeaturesAssembler()\\\n",
        "    .setInputCols([\"sentence_embeddings\"])\\\n",
        "    .setOutputCol(\"features\")\n",
        "\n",
        "generic_classifier = GenericClassifierModel.pretrained(\"genericclassifier_sdoh_tobacco_usage_sbiobert_cased_mli\", 'en', 'clinical/models')\\\n",
        "    .setInputCols([\"features\"])\\\n",
        "    .setOutputCol(\"class_\")\n",
        "\n",
        "pipeline = Pipeline(stages=[\n",
        "    document_assembler,\n",
        "    sentence_embeddings,\n",
        "    features_asm,\n",
        "    generic_classifier\n",
        "])\n",
        "\n",
        "results = pipeline.fit(df).transform(df)"
      ],
      "metadata": {
        "colab": {
          "base_uri": "https://localhost:8080/"
        },
        "id": "Bgbs8UhshSVy",
        "outputId": "2b83fdf0-8f74-4a3f-825c-993d9ffbe70c"
      },
      "execution_count": null,
      "outputs": [
        {
          "output_type": "stream",
          "name": "stdout",
          "text": [
            "sbiobert_base_cased_mli download started this may take some time.\n",
            "Approximate size to download 384.3 MB\n",
            "[OK!]\n",
            "genericclassifier_sdoh_tobacco_usage_sbiobert_cased_mli download started this may take some time.\n",
            "[OK!]\n"
          ]
        }
      ]
    },
    {
      "cell_type": "code",
      "source": [
        "res = results.select(F.explode(F.arrays_zip(results.document.result,\n",
        "                                             results.class_.result,\n",
        "                                             results.class_.metadata)).alias(\"col\"))\\\n",
        "               .select(F.expr(\"col['1']\").alias(\"prediction\"),\n",
        "                       F.expr(\"col['2']['confidence']\").alias(\"confidence\"),\n",
        "                       F.expr(\"col['0']\").alias(\"sentence\"))\n",
        "\n",
        "res.show(truncate=150)"
      ],
      "metadata": {
        "colab": {
          "base_uri": "https://localhost:8080/"
        },
        "id": "wYlO_LZMhoXB",
        "outputId": "61bbe17f-c580-4c72-cc60-c638a856fe07"
      },
      "execution_count": null,
      "outputs": [
        {
          "output_type": "stream",
          "name": "stdout",
          "text": [
            "+----------+----------+------------------------------------------------------------------------------------------------------------------------------------------------------+\n",
            "|prediction|confidence|                                                                                                                                              sentence|\n",
            "+----------+----------+------------------------------------------------------------------------------------------------------------------------------------------------------+\n",
            "|   Present|0.65745443|        Retired schoolteacher, now substitutes. Lives with wife in location 1439. Has a 27 yo son and a 25 yo daughter. He uses alcohol and cigarettes|\n",
            "|      Past|0.98161787|The patient quit smoking approximately two years ago with an approximately a 40 pack year history, mostly cigar use. He also reports 'heavy alcohol...|\n",
            "|     Never| 0.9825732|                                                          The patient denies any history of smoking or alcohol abuse. She lives with her one daughter.|\n",
            "|      None| 0.7491366|She was previously employed as a hairdresser, though says she hasnt worked in 4 years. Not reported by patient, but there is apparently a history o...|\n",
            "+----------+----------+------------------------------------------------------------------------------------------------------------------------------------------------------+\n",
            "\n"
          ]
        }
      ]
    },
    {
      "cell_type": "markdown",
      "source": [
        "### **`genericclassifier_sdoh_alcohol_usage_sbiobert_cased_mli`**"
      ],
      "metadata": {
        "id": "w0xm0zvWh0VK"
      }
    },
    {
      "cell_type": "code",
      "source": [
        "text_list = [\"Retired schoolteacher, now substitutes. Lives with wife in location 1439. Has a 27 yo son and a 25 yo daughter. He uses alcohol and cigarettes\",\n",
        "             \"The patient quit smoking approximately two years ago with an approximately a 40 pack year history, mostly cigar use. He also reports 'heavy alcohol use', quit 15 months ago.\",\n",
        "             \"Employee in neuro departmentin at the Center Hospital 18. Widower since 2001. Current smoker since 20 years. No EtOH or illicits.\",\n",
        "             \"Patient smoked 4 ppd x 37 years, quitting 22 years ago. He is widowed, lives alone, has three children.\"\n",
        "             ]\n",
        "\n",
        "df = spark.createDataFrame(text_list, StringType()).toDF(\"text\")"
      ],
      "metadata": {
        "id": "K9cULfkkh3N0"
      },
      "execution_count": null,
      "outputs": []
    },
    {
      "cell_type": "code",
      "source": [
        "generic_classifier = GenericClassifierModel.pretrained(\"genericclassifier_sdoh_alcohol_usage_sbiobert_cased_mli\", 'en', 'clinical/models')\\\n",
        "    .setInputCols([\"features\"])\\\n",
        "    .setOutputCol(\"class_\")\n",
        "\n",
        "pipeline = Pipeline(stages=[\n",
        "    document_assembler,\n",
        "    sentence_embeddings,\n",
        "    features_asm,\n",
        "    generic_classifier\n",
        "])\n",
        "\n",
        "results = pipeline.fit(df).transform(df)\n"
      ],
      "metadata": {
        "id": "5s-ruN0miDrz"
      },
      "execution_count": null,
      "outputs": []
    },
    {
      "cell_type": "code",
      "source": [
        "res = results.select(F.explode(F.arrays_zip(results.document.result,\n",
        "                                             results.class_.result,\n",
        "                                             results.class_.metadata)).alias(\"col\"))\\\n",
        "               .select(F.expr(\"col['1']\").alias(\"prediction\"),\n",
        "                       F.expr(\"col['2']['confidence']\").alias(\"confidence\"),\n",
        "                       F.expr(\"col['0']\").alias(\"sentence\"))\n",
        "\n",
        "res.show(truncate=150)"
      ],
      "metadata": {
        "colab": {
          "base_uri": "https://localhost:8080/"
        },
        "id": "lj5B6-C1jUqr",
        "outputId": "c8c2843f-eea0-4a12-b803-c1099be4bbec"
      },
      "execution_count": null,
      "outputs": [
        {
          "output_type": "stream",
          "name": "stdout",
          "text": [
            "+----------+----------+------------------------------------------------------------------------------------------------------------------------------------------------------+\n",
            "|prediction|confidence|                                                                                                                                              sentence|\n",
            "+----------+----------+------------------------------------------------------------------------------------------------------------------------------------------------------+\n",
            "|   Present|0.65745443|        Retired schoolteacher, now substitutes. Lives with wife in location 1439. Has a 27 yo son and a 25 yo daughter. He uses alcohol and cigarettes|\n",
            "|      Past|0.98161787|The patient quit smoking approximately two years ago with an approximately a 40 pack year history, mostly cigar use. He also reports 'heavy alcohol...|\n",
            "|     Never| 0.9825732|                                                          The patient denies any history of smoking or alcohol abuse. She lives with her one daughter.|\n",
            "|      None| 0.7491366|She was previously employed as a hairdresser, though says she hasnt worked in 4 years. Not reported by patient, but there is apparently a history o...|\n",
            "+----------+----------+------------------------------------------------------------------------------------------------------------------------------------------------------+\n",
            "\n"
          ]
        }
      ]
    },
    {
      "cell_type": "markdown",
      "source": [
        "### **`genericclassifier_sdoh_transportation_insecurity_sbiobert_cased_mli`**"
      ],
      "metadata": {
        "id": "RreOH0D1o5nk"
      }
    },
    {
      "cell_type": "code",
      "source": [
        "text_list =[\n",
        "\"Patient B is a 40-year-old female who was diagnosed with breast cancer. She has received a treatment plan that includes surgery, chemotherapy, and radiation therapy. She is alone and can not drive a car or can not use public bus.\",\n",
        "\"Emily, a 30-year-old woman, had been struggling to manage her chronic condition due to transportation problems. She often missed medical appointments and couldn't obtain her prescribed medications regularly. Recognizing the impact of transportation barriers on her health, her healthcare provider worked to find solutions. They helped her arrange rides through community programs and provided her with information about telehealth options. By addressing her transportation challenges, Emily's healthcare provider ensured that she could better manage her health and receive the necessary care.\",\n",
        "\"\"\"Patient John is a 60-year-old man who presents to a primary care clinic for a routine check-up. He reports feeling generally healthy, with no significant medical concerns. However, he reveals that he is a smoker and drinks alcohol on a regular basis. The patient also mentions that he has a history of working long hours and has limited time for physical activity and social interactions.\n",
        "\n",
        "\n",
        "\n",
        "Based on this information, it appears that Patient John's overall health may be affected by several social determinants of health, including tobacco and alcohol use, lack of physical activity, and social isolation. To address these issues, the healthcare provider may recommend a comprehensive physical exam and develop a treatment plan that includes lifestyle modifications, such as smoking cessation and reduction of alcohol intake. Additionally, the patient may benefit from referrals to local organizations that provide resources for physical activity and social engagement. The healthcare provider may also recommend strategies to reduce work-related stress and promote work-life balance. By addressing these social determinants of health, healthcare providers can help promote Patient John's overall health and prevent future health problems.\n",
        "\n",
        "Additionally, The distance to the hospital from the John's home is considerable, and there are no available train services.\"\"\",\n",
        "\"Ms. Klnum is a 69y/o lady with COPD, ulcerative colitis, diverticulosis s/p partial colectomy, and 2 PE's in the past on chronic Warfarin with IVC filter who presented to the ED for chest pain and was found to have PEs and pneumonia. Cough productive of yellow sputum and has been ongoing for weeks, no acute change.  She is divorced. Her 2 daughters died of drug use. She is close with her sister who is her HCP, as well as a brother. -Tobacco: Smoked ~2ppd from age 13 until 5 years ago. -EtOH: former heavy use, reports drinking two 6 packs per day for 2 yrs; quit 27 yrs ago. -Illicits: None. Family History: Daughter - colitis. Had 6 siblings. One sister died, 35, ovarian CA. Brother, died at 48, stroke.\",\n",
        "\"Mark, a 35-year-old man, sought medical help for symptoms of attention-deficit/hyperactivity disorder (ADHD), a neurodevelopmental disorder characterized by inattention, hyperactivity, and impulsivity. After a comprehensive evaluation, Mark was diagnosed with ADHD, and his healthcare provider recommended a multimodal treatment approach. \",\n",
        "\"Michael, a 25-year-old man, sought medical advice for concerns related to stress and difficulty managing everyday pressures. After a thorough evaluation, it was determined that Michael did not meet the criteria for any specific mental disorder. However, his healthcare provider acknowledged the impact of stress on his well-being and recommended implementing stress management techniques. They discussed strategies such as regular exercise, relaxation techniques, and engaging in activities that bring him joy and relaxation. \"\n",
        "\"John, a 45-year-old man, was diagnosed with bipolar disorder, a mental disorder characterized by alternating periods of elevated mood (mania) and depression. His treatment plan involved a combination of mood stabilizing medication and regular therapy sessions. With proper management and support, John learned to better understand and cope with his condition, leading to improved stability and overall well-being.\",\n",
        "],\n",
        "\n",
        "df = spark.createDataFrame(text_list, StringType()).toDF(\"text\")"
      ],
      "metadata": {
        "id": "FMM076w6o9Sv"
      },
      "execution_count": null,
      "outputs": []
    },
    {
      "cell_type": "code",
      "source": [
        "document_assembler = DocumentAssembler()\\\n",
        "    .setInputCol(\"text\")\\\n",
        "    .setOutputCol(\"document\")\n",
        "\n",
        "sentence_embeddings = BertSentenceEmbeddings.pretrained(\"sbiobert_base_cased_mli\", 'en','clinical/models')\\\n",
        "    .setInputCols([\"document\"])\\\n",
        "    .setOutputCol(\"sentence_embeddings\")\n",
        "\n",
        "features_asm = FeaturesAssembler()\\\n",
        "    .setInputCols([\"sentence_embeddings\"])\\\n",
        "    .setOutputCol(\"features\")\n",
        "\n",
        "generic_classifier = GenericClassifierModel.pretrained(\"genericclassifier_sdoh_transportation_insecurity_sbiobert_cased_mli\", 'en', 'clinical/models')\\\n",
        "    .setInputCols([\"features\"])\\\n",
        "    .setOutputCol(\"class_\")\n",
        "\n",
        "pipeline = Pipeline(stages=[\n",
        "    document_assembler,\n",
        "    sentence_embeddings,\n",
        "    features_asm,\n",
        "    generic_classifier\n",
        "])"
      ],
      "metadata": {
        "id": "oMjfCe-Kpifs"
      },
      "execution_count": null,
      "outputs": []
    },
    {
      "cell_type": "code",
      "source": [
        "results = pipeline.fit(df).transform(df)"
      ],
      "metadata": {
        "id": "77pwbYNup42a"
      },
      "execution_count": null,
      "outputs": []
    },
    {
      "cell_type": "code",
      "source": [
        "res = results.select(F.explode(F.arrays_zip(results.document.result,\n",
        "                                             results.class_.result,\n",
        "                                             results.class_.metadata)).alias(\"col\"))\\\n",
        "               .select(F.expr(\"col['1']\").alias(\"prediction\"),\n",
        "                       F.expr(\"col['2']['confidence']\").alias(\"confidence\"),\n",
        "                       F.expr(\"col['0']\").alias(\"sentence\"))\n",
        "\n",
        "res.show(truncate=150)"
      ],
      "metadata": {
        "colab": {
          "base_uri": "https://localhost:8080/"
        },
        "id": "6d3fBk-HqJ6O",
        "outputId": "6cd1092a-1f76-45aa-a37b-ff230bb2c73e"
      },
      "execution_count": null,
      "outputs": [
        {
          "output_type": "stream",
          "name": "stdout",
          "text": [
            "+-------------------------+----------+------------------------------------------------------------------------------------------------------------------------------------------------------+\n",
            "|               prediction|confidence|                                                                                                                                              sentence|\n",
            "+-------------------------+----------+------------------------------------------------------------------------------------------------------------------------------------------------------+\n",
            "|Transportation_Insecurity| 0.9798329|[Patient B is a 40-year-old female who was diagnosed with breast cancer. She has received a treatment plan that includes surgery, chemotherapy, and...|\n",
            "+-------------------------+----------+------------------------------------------------------------------------------------------------------------------------------------------------------+\n",
            "\n"
          ]
        }
      ]
    }
  ],
  "metadata": {
    "colab": {
      "provenance": [],
      "toc_visible": true,
      "name": "SOCIAL_DETERMINANT_CLASSIFICATION.ipynb"
    },
    "kernelspec": {
      "display_name": "Python 3.9.2 64-bit ('3.9.2')",
      "language": "python",
      "name": "python3"
    },
    "language_info": {
      "codemirror_mode": {
        "name": "ipython",
        "version": 3
      },
      "file_extension": ".py",
      "mimetype": "text/x-python",
      "name": "python",
      "nbconvert_exporter": "python",
      "pygments_lexer": "ipython3",
      "version": "3.9.2"
    },
    "vscode": {
      "interpreter": {
        "hash": "a6cfde16737151ae49a327430a5fbb48432a976136d1f3391213c81bbed9fca8"
      }
    }
  },
  "nbformat": 4,
  "nbformat_minor": 0
}
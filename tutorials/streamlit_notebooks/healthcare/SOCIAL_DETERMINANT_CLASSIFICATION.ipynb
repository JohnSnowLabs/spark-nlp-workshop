{
  "cells": [
    {
      "cell_type": "markdown",
      "metadata": {
        "id": "lokVHWdvaz-W"
      },
      "source": [
        "![JohnSnowLabs](https://nlp.johnsnowlabs.com/assets/images/logo.png)\n",
        "\n",
        "[![Open In Colab](https://colab.research.google.com/assets/colab-badge.svg)](https://colab.research.google.com/github/JohnSnowLabs/spark-nlp-workshop/blob/master/tutorials/streamlit_notebooks/healthcare/SOCIAL_DETERMINANT_CLASSIFICATION.ipynb)"
      ]
    },
    {
      "cell_type": "markdown",
      "metadata": {
        "id": "Oex6UyiHHpJS"
      },
      "source": [
        "# **Social Determinants of Health-Classification**"
      ]
    },
    {
      "cell_type": "markdown",
      "metadata": {
        "id": "dmJXAqSxHWxX"
      },
      "source": [
        "📌To run this yourself, you will need to upload your license keys to the notebook. Just Run The Cell Below in order to do that. Also You can open the file explorer on the left side of the screen and upload `license_keys.json` to the folder that opens.\n",
        "Otherwise, you can look at the example outputs at the bottom of the notebook."
      ]
    },
    {
      "cell_type": "markdown",
      "metadata": {
        "id": "U-UAcTkUbjzm"
      },
      "source": [
        "# **Colab Setup**"
      ]
    },
    {
      "cell_type": "code",
      "execution_count": null,
      "metadata": {
        "id": "dnJ9X-mbEOMr"
      },
      "outputs": [],
      "source": [
        "import json, os\n",
        "from google.colab import files\n",
        "\n",
        "if 'spark_jsl.json' not in os.listdir():\n",
        "  license_keys = files.upload()\n",
        "  os.rename(list(license_keys.keys())[0], 'spark_jsl.json')\n",
        "\n",
        "with open('spark_jsl.json') as f:\n",
        "    license_keys = json.load(f)\n",
        "\n",
        "# Defining license key-value pairs as local variables\n",
        "locals().update(license_keys)\n",
        "os.environ.update(license_keys)"
      ]
    },
    {
      "cell_type": "code",
      "execution_count": null,
      "metadata": {
        "id": "qeg3QosiFf5u"
      },
      "outputs": [],
      "source": [
        "# Installing pyspark and spark-nlp\n",
        "! pip install --upgrade -q pyspark==3.1.2 spark-nlp==$PUBLIC_VERSION\n",
        "\n",
        "# Installing Spark NLP Healthcare\n",
        "! pip install --upgrade -q spark-nlp-jsl==$JSL_VERSION  --extra-index-url https://pypi.johnsnowlabs.com/$SECRET\n",
        "\n",
        "# Installing Spark NLP Display Library for visualization\n",
        "! pip install -q spark-nlp-display"
      ]
    },
    {
      "cell_type": "code",
      "execution_count": 3,
      "metadata": {
        "id": "JK4D8yjTPlgJ",
        "colab": {
          "base_uri": "https://localhost:8080/",
          "height": 253
        },
        "outputId": "f82e4bd4-82ed-4df9-c42e-28869cfdf5da"
      },
      "outputs": [
        {
          "output_type": "stream",
          "name": "stdout",
          "text": [
            "Spark NLP Version : 4.3.0\n",
            "Spark NLP_JSL Version : 4.3.0\n"
          ]
        },
        {
          "output_type": "execute_result",
          "data": {
            "text/plain": [
              "<pyspark.sql.session.SparkSession at 0x7f7607e353a0>"
            ],
            "text/html": [
              "\n",
              "            <div>\n",
              "                <p><b>SparkSession - in-memory</b></p>\n",
              "                \n",
              "        <div>\n",
              "            <p><b>SparkContext</b></p>\n",
              "\n",
              "            <p><a href=\"http://05a28e3b9a77:4040\">Spark UI</a></p>\n",
              "\n",
              "            <dl>\n",
              "              <dt>Version</dt>\n",
              "                <dd><code>v3.1.2</code></dd>\n",
              "              <dt>Master</dt>\n",
              "                <dd><code>local[*]</code></dd>\n",
              "              <dt>AppName</dt>\n",
              "                <dd><code>Spark NLP Licensed</code></dd>\n",
              "            </dl>\n",
              "        </div>\n",
              "        \n",
              "            </div>\n",
              "        "
            ]
          },
          "metadata": {},
          "execution_count": 3
        }
      ],
      "source": [
        "import sparknlp\n",
        "import sparknlp_jsl\n",
        "\n",
        "from sparknlp.base import *\n",
        "from sparknlp.annotator import *\n",
        "from sparknlp_jsl.annotator import *\n",
        "\n",
        "from pyspark.sql import SparkSession\n",
        "from pyspark.sql import functions as F\n",
        "from pyspark.ml import Pipeline,PipelineModel\n",
        "from pyspark.sql.types import StringType, IntegerType\n",
        "\n",
        "import pandas as pd\n",
        "pd.set_option('display.max_colwidth', 200)\n",
        "\n",
        "import warnings\n",
        "warnings.filterwarnings('ignore')\n",
        "\n",
        "params = {\"spark.driver.memory\":\"16G\", \n",
        "          \"spark.kryoserializer.buffer.max\":\"2000M\", \n",
        "          \"spark.driver.maxResultSize\":\"2000M\"} \n",
        "\n",
        "spark = sparknlp_jsl.start(license_keys['SECRET'],params=params)\n",
        "\n",
        "print(\"Spark NLP Version :\", sparknlp.version())\n",
        "print(\"Spark NLP_JSL Version :\", sparknlp_jsl.version())\n",
        "\n",
        "spark"
      ]
    },
    {
      "cell_type": "markdown",
      "metadata": {
        "id": "Zzp_f1FcHhr8"
      },
      "source": [
        "# 🔎 MODELS "
      ]
    },
    {
      "cell_type": "markdown",
      "metadata": {
        "id": "6WTJFHBsK_KP"
      },
      "source": [
        "### Sequence Classifier : \n",
        "> * ### *`bert_sequence_classifier_sdoh_community_present_status`*\n",
        "> * ### *`bert_sequence_classifier_sdoh_community_absent_status`*\n",
        "\n",
        "### Generic Classifier : \n",
        "> * ### *`genericclassifier_sdoh_tobacco_usage_sbiobert_cased_mli`*\n",
        "> * ### *`genericclassifier_sdoh_alcohol_usage_sbiobert_cased_mli`*\n",
        "\n",
        "\n",
        "**🔎You can find all these models and more [NLP Models Hub](https://nlp.johnsnowlabs.com/models?task=Named+Entity+Recognition&edition=Spark+NLP+for+Healthcare)**"
      ]
    },
    {
      "cell_type": "markdown",
      "metadata": {
        "id": "taaK6AJ6myFW"
      },
      "source": [
        "# 📌 Sequence Classifier"
      ]
    },
    {
      "cell_type": "markdown",
      "source": [
        "### **`bert_sequence_classifier_sdoh_community_present_status`**"
      ],
      "metadata": {
        "id": "uqj4r25AQy9h"
      }
    },
    {
      "cell_type": "code",
      "execution_count": 4,
      "metadata": {
        "id": "uodENcIfKvSU"
      },
      "outputs": [],
      "source": [
        "text_list = [\n",
        "\" Patient with history of lupus, lupus nephritis with ESRD on peritoneal dialysis on transplant list, hx of PE/Antiphopholipid antibody on coumadin, mitral regurg, presents with 4-6 month history of cough, worse in the morning, one week of trace blood, now producing bright red blood over last couple days. Patient states that the amount of blood she has been coughing has been increasing and is now almost hourly, aprroximately 1 teaspoon bright red blood. Patient states that the cough produced primarily yellow sputum until it turned to blood. Patient denies any other symptoms such as dizziness or lightheadedness.  Married with three children,Worked as an accountant until health declined in early 2002. No tobacco, ethanol or drug use. Centrilobular nodules and ground glass opacities throughout both lungs, with a basilar predominance, with associated mild bronchiectasis, compatible with chronic collagen vascular disease, progressed since 2002. There is no advanced fibrosis. Superimposed infection cannot be excluded by imaging alone. Ground glass opacities could also represent hemorrhage. 3. Chronic left lower segmental pulmonary arterial PE, unchanged since 2191. No new acute PE detected to the subsegmental levels.\",\n",
        "\" This is an 87 year old man status post motor vehicle accident in Month (only) 956 who was recently discharged from Hospital1 18 status post left radical nephrectomy for renal oncocytoma, who returned to Hospital1 18 on 3-22 for outpatient followup CT scan of the head. Patient was found to have a left subdural hematoma and was transported to the emergency department for workup. Currently patient does not complain of fever, chills, nausea, vomiting, chest pain, shortness of breath. No known drug allergies.The patient is a retired priest. Denies history of tobacco or alcohol use. Patient currently lives at Hospital3 2558.\",\n",
        "]"
      ]
    },
    {
      "cell_type": "code",
      "execution_count": 5,
      "metadata": {
        "colab": {
          "base_uri": "https://localhost:8080/"
        },
        "id": "Cr2eBf1Rm9RM",
        "outputId": "6501a69f-74d9-4d43-d29d-0144a1417c4c"
      },
      "outputs": [
        {
          "output_type": "stream",
          "name": "stdout",
          "text": [
            "bert_sequence_classifier_sdoh_community_present_status download started this may take some time.\n",
            "[OK!]\n"
          ]
        }
      ],
      "source": [
        "documentAssembler = DocumentAssembler()\\\n",
        "        .setInputCol(\"text\")\\\n",
        "        .setOutputCol(\"document\")\n",
        "\n",
        "tokenizer = Tokenizer()\\\n",
        "    .setInputCols([\"document\"])\\\n",
        "    .setOutputCol(\"token\")\n",
        "    \n",
        "sequenceClassifier = MedicalBertForSequenceClassification.pretrained(\"bert_sequence_classifier_sdoh_community_present_status\", \"en\", \"clinical/models\")\\\n",
        "    .setInputCols([\"document\",\"token\"])\\\n",
        "    .setOutputCol(\"class_\")\n",
        "        \n",
        "\n",
        "pipeline = Pipeline(stages=[\n",
        "                        documentAssembler, \n",
        "                        tokenizer,\n",
        "                        sequenceClassifier])\n",
        "    \n",
        "\n",
        "df = spark.createDataFrame(text_list, StringType()).toDF(\"text\")\n",
        "results = pipeline.fit(df).transform(df)"
      ]
    },
    {
      "cell_type": "code",
      "execution_count": 6,
      "metadata": {
        "colab": {
          "base_uri": "https://localhost:8080/"
        },
        "id": "mdiSHcL1m9Mr",
        "outputId": "25ec0efe-b89b-47f5-e5d3-b4c1767180c4"
      },
      "outputs": [
        {
          "output_type": "stream",
          "name": "stdout",
          "text": [
            "+----------+----------+------------------------------------------------------------------------------------------------------------------------------------------------------+\n",
            "|prediction|confidence|                                                                                                                                              sentence|\n",
            "+----------+----------+------------------------------------------------------------------------------------------------------------------------------------------------------+\n",
            "|      True| 0.9982032| Patient with history of lupus, lupus nephritis with ESRD on peritoneal dialysis on transplant list, hx of PE/Antiphopholipid antibody on coumadin,...|\n",
            "|     False|0.78874034| This is an 87 year old man status post motor vehicle accident in Month (only) 956 who was recently discharged from Hospital1 18 status post left r...|\n",
            "+----------+----------+------------------------------------------------------------------------------------------------------------------------------------------------------+\n",
            "\n"
          ]
        }
      ],
      "source": [
        "res = results.select(F.explode(F.arrays_zip(results.document.result, \n",
        "                                             results.class_.result,\n",
        "                                             results.class_.metadata)).alias(\"col\"))\\\n",
        "               .select(F.expr(\"col['1']\").alias(\"prediction\"),\n",
        "                       F.expr(\"col['2']\").alias(\"confidence\"),\n",
        "                       F.expr(\"col['0']\").alias(\"sentence\"))\n",
        "                  \n",
        "if res.count()>1:\n",
        "  udf_func = F.udf(lambda x,y:  x[\"Some(\"+str(y)+\")\"])\n",
        "  res.withColumn('confidence', udf_func(res.confidence, res.prediction)).show(truncate=150)"
      ]
    },
    {
      "cell_type": "markdown",
      "metadata": {
        "id": "Z7DY6UBZm2ph"
      },
      "source": [
        "### **`bert_sequence_classifier_sdoh_community_absent_status`**"
      ]
    },
    {
      "cell_type": "code",
      "execution_count": 7,
      "metadata": {
        "id": "HD9N1NVIKwEU"
      },
      "outputs": [],
      "source": [
        "text_list = [\n",
        "\"She has two adult sons. She is a widow. She was employed with housework. She quit smoking 20 to 30 years ago, but smoked two packs per day for 20 to 30 years. She drinks one glass of wine occasionally. She avoids salt in her diet. \",\n",
        "\"65 year old male presented with several days of vice like chest pain. He states that he felt like his chest was being crushed from back to the front. Lives with spouse and two sons moved to US 1 month ago.\",\n",
        "]"
      ]
    },
    {
      "cell_type": "code",
      "execution_count": 8,
      "metadata": {
        "colab": {
          "base_uri": "https://localhost:8080/"
        },
        "id": "kTJM1PxCm-Qp",
        "outputId": "6b6c4082-7eb6-43bb-d95c-82935b305fd4"
      },
      "outputs": [
        {
          "output_type": "stream",
          "name": "stdout",
          "text": [
            "bert_sequence_classifier_sdoh_community_absent_status download started this may take some time.\n",
            "[OK!]\n"
          ]
        }
      ],
      "source": [
        "sequenceClassifier = MedicalBertForSequenceClassification.pretrained(\"bert_sequence_classifier_sdoh_community_absent_status\", \"en\", \"clinical/models\")\\\n",
        "    .setInputCols([\"document\",\"token\"])\\\n",
        "    .setOutputCol(\"class_\")\n",
        "        \n",
        "\n",
        "pipeline = Pipeline(stages=[\n",
        "                      documentAssembler, \n",
        "                      tokenizer,\n",
        "                      sequenceClassifier])\n",
        "    \n",
        "\n",
        "df = spark.createDataFrame(text_list, StringType()).toDF(\"text\")\n",
        "results = pipeline.fit(df).transform(df)"
      ]
    },
    {
      "cell_type": "code",
      "execution_count": 9,
      "metadata": {
        "colab": {
          "base_uri": "https://localhost:8080/"
        },
        "id": "XhLCxp3w2Hhs",
        "outputId": "19241d83-ebb0-4382-951f-7d0d2c7fafc9"
      },
      "outputs": [
        {
          "output_type": "stream",
          "name": "stdout",
          "text": [
            "+----------+----------+------------------------------------------------------------------------------------------------------------------------------------------------------+\n",
            "|prediction|confidence|                                                                                                                                              sentence|\n",
            "+----------+----------+------------------------------------------------------------------------------------------------------------------------------------------------------+\n",
            "|      True| 0.9894813|She has two adult sons. She is a widow. She was employed with housework. She quit smoking 20 to 30 years ago, but smoked two packs per day for 20 t...|\n",
            "|     False|0.72528476|65 year old male presented with several days of vice like chest pain. He states that he felt like his chest was being crushed from back to the fron...|\n",
            "+----------+----------+------------------------------------------------------------------------------------------------------------------------------------------------------+\n",
            "\n"
          ]
        }
      ],
      "source": [
        "res = results.select(F.explode(F.arrays_zip(results.document.result, \n",
        "                                             results.class_.result,\n",
        "                                             results.class_.metadata)).alias(\"col\"))\\\n",
        "               .select(F.expr(\"col['1']\").alias(\"prediction\"),\n",
        "                       F.expr(\"col['2']\").alias(\"confidence\"),\n",
        "                       F.expr(\"col['0']\").alias(\"sentence\"))\n",
        "                  \n",
        "if res.count()>1:\n",
        "  udf_func = F.udf(lambda x,y:  x[\"Some(\"+str(y)+\")\"])\n",
        "  res.withColumn('confidence', udf_func(res.confidence, res.prediction)).show(truncate=150)"
      ]
    },
    {
      "cell_type": "markdown",
      "source": [
        "# 📌 Generic Classifier"
      ],
      "metadata": {
        "id": "VGzhdMF8hPbK"
      }
    },
    {
      "cell_type": "markdown",
      "source": [
        "### **`genericclassifier_sdoh_tobacco_usage_sbiobert_cased_mli`**"
      ],
      "metadata": {
        "id": "98VUXoFAhXUM"
      }
    },
    {
      "cell_type": "code",
      "source": [
        "text_list = [\"Retired schoolteacher, now substitutes. Lives with wife in location 1439. Has a 27 yo son and a 25 yo daughter. He uses alcohol and cigarettes\",\n",
        "             \"The patient quit smoking approximately two years ago with an approximately a 40 pack year history, mostly cigar use. He also reports 'heavy alcohol use', quit 15 months ago.\",\n",
        "             \"The patient denies any history of smoking or alcohol abuse. She lives with her one daughter.\",\n",
        "             \"She was previously employed as a hairdresser, though says she hasnt worked in 4 years. Not reported by patient, but there is apparently a history of alochol abuse.\"\n",
        "             ]\n",
        "\n",
        "df = spark.createDataFrame(text_list, StringType()).toDF(\"text\")"
      ],
      "metadata": {
        "id": "0ISdnUjihSPB"
      },
      "execution_count": 19,
      "outputs": []
    },
    {
      "cell_type": "code",
      "source": [
        "document_assembler = DocumentAssembler()\\\n",
        "    .setInputCol(\"text\")\\\n",
        "    .setOutputCol(\"document\")\n",
        "        \n",
        "sentence_embeddings = BertSentenceEmbeddings.pretrained(\"sbiobert_base_cased_mli\", 'en','clinical/models')\\\n",
        "    .setInputCols([\"document\"])\\\n",
        "    .setOutputCol(\"sentence_embeddings\")\n",
        "\n",
        "features_asm = FeaturesAssembler()\\\n",
        "    .setInputCols([\"sentence_embeddings\"])\\\n",
        "    .setOutputCol(\"features\")\n",
        "\n",
        "generic_classifier = GenericClassifierModel.pretrained(\"genericclassifier_sdoh_tobacco_usage_sbiobert_cased_mli\", 'en', 'clinical/models')\\\n",
        "    .setInputCols([\"features\"])\\\n",
        "    .setOutputCol(\"class_\")\n",
        "\n",
        "pipeline = Pipeline(stages=[\n",
        "    document_assembler,\n",
        "    sentence_embeddings,\n",
        "    features_asm,\n",
        "    generic_classifier    \n",
        "])\n",
        "\n",
        "results = pipeline.fit(df).transform(df)"
      ],
      "metadata": {
        "colab": {
          "base_uri": "https://localhost:8080/"
        },
        "id": "Bgbs8UhshSVy",
        "outputId": "2b83fdf0-8f74-4a3f-825c-993d9ffbe70c"
      },
      "execution_count": 20,
      "outputs": [
        {
          "output_type": "stream",
          "name": "stdout",
          "text": [
            "sbiobert_base_cased_mli download started this may take some time.\n",
            "Approximate size to download 384.3 MB\n",
            "[OK!]\n",
            "genericclassifier_sdoh_tobacco_usage_sbiobert_cased_mli download started this may take some time.\n",
            "[OK!]\n"
          ]
        }
      ]
    },
    {
      "cell_type": "code",
      "source": [
        "res = results.select(F.explode(F.arrays_zip(results.document.result, \n",
        "                                             results.class_.result,\n",
        "                                             results.class_.metadata)).alias(\"col\"))\\\n",
        "               .select(F.expr(\"col['1']\").alias(\"prediction\"),\n",
        "                       F.expr(\"col['2']['confidence']\").alias(\"confidence\"),\n",
        "                       F.expr(\"col['0']\").alias(\"sentence\"))\n",
        "               \n",
        "res.show(truncate=150)"
      ],
      "metadata": {
        "colab": {
          "base_uri": "https://localhost:8080/"
        },
        "id": "wYlO_LZMhoXB",
        "outputId": "61bbe17f-c580-4c72-cc60-c638a856fe07"
      },
      "execution_count": 21,
      "outputs": [
        {
          "output_type": "stream",
          "name": "stdout",
          "text": [
            "+----------+----------+------------------------------------------------------------------------------------------------------------------------------------------------------+\n",
            "|prediction|confidence|                                                                                                                                              sentence|\n",
            "+----------+----------+------------------------------------------------------------------------------------------------------------------------------------------------------+\n",
            "|   Present|0.65745443|        Retired schoolteacher, now substitutes. Lives with wife in location 1439. Has a 27 yo son and a 25 yo daughter. He uses alcohol and cigarettes|\n",
            "|      Past|0.98161787|The patient quit smoking approximately two years ago with an approximately a 40 pack year history, mostly cigar use. He also reports 'heavy alcohol...|\n",
            "|     Never| 0.9825732|                                                          The patient denies any history of smoking or alcohol abuse. She lives with her one daughter.|\n",
            "|      None| 0.7491366|She was previously employed as a hairdresser, though says she hasnt worked in 4 years. Not reported by patient, but there is apparently a history o...|\n",
            "+----------+----------+------------------------------------------------------------------------------------------------------------------------------------------------------+\n",
            "\n"
          ]
        }
      ]
    },
    {
      "cell_type": "markdown",
      "source": [
        "### **`genericclassifier_sdoh_alcohol_usage_sbiobert_cased_mli`**"
      ],
      "metadata": {
        "id": "w0xm0zvWh0VK"
      }
    },
    {
      "cell_type": "code",
      "source": [
        "text_list = [\"Retired schoolteacher, now substitutes. Lives with wife in location 1439. Has a 27 yo son and a 25 yo daughter. He uses alcohol and cigarettes\",\n",
        "             \"The patient quit smoking approximately two years ago with an approximately a 40 pack year history, mostly cigar use. He also reports 'heavy alcohol use', quit 15 months ago.\",\n",
        "             \"Employee in neuro departmentin at the Center Hospital 18. Widower since 2001. Current smoker since 20 years. No EtOH or illicits.\",\n",
        "             \"Patient smoked 4 ppd x 37 years, quitting 22 years ago. He is widowed, lives alone, has three children.\"\n",
        "             ]         \n",
        "            \n",
        "df = spark.createDataFrame(text_list, StringType()).toDF(\"text\")"
      ],
      "metadata": {
        "id": "K9cULfkkh3N0"
      },
      "execution_count": 22,
      "outputs": []
    },
    {
      "cell_type": "code",
      "source": [
        "generic_classifier = GenericClassifierModel.pretrained(\"genericclassifier_sdoh_alcohol_usage_sbiobert_cased_mli\", 'en', 'clinical/models')\\\n",
        "    .setInputCols([\"features\"])\\\n",
        "    .setOutputCol(\"class_\")\n",
        "\n",
        "pipeline = Pipeline(stages=[\n",
        "    document_assembler,\n",
        "    sentence_embeddings,\n",
        "    features_asm,\n",
        "    generic_classifier    \n",
        "])\n"
      ],
      "metadata": {
        "colab": {
          "base_uri": "https://localhost:8080/"
        },
        "id": "5s-ruN0miDrz",
        "outputId": "813f8d61-d940-403e-8dc2-a5d6ab04c5d3"
      },
      "execution_count": 24,
      "outputs": [
        {
          "output_type": "stream",
          "name": "stdout",
          "text": [
            "genericclassifier_sdoh_alcohol_usage_sbiobert_cased_mli download started this may take some time.\n",
            "[OK!]\n"
          ]
        }
      ]
    },
    {
      "cell_type": "code",
      "source": [
        "res = results.select(F.explode(F.arrays_zip(results.document.result, \n",
        "                                             results.class_.result,\n",
        "                                             results.class_.metadata)).alias(\"col\"))\\\n",
        "               .select(F.expr(\"col['1']\").alias(\"prediction\"),\n",
        "                       F.expr(\"col['2']['confidence']\").alias(\"confidence\"),\n",
        "                       F.expr(\"col['0']\").alias(\"sentence\"))\n",
        "               \n",
        "res.show(truncate=150)"
      ],
      "metadata": {
        "colab": {
          "base_uri": "https://localhost:8080/"
        },
        "id": "lj5B6-C1jUqr",
        "outputId": "c8c2843f-eea0-4a12-b803-c1099be4bbec"
      },
      "execution_count": 25,
      "outputs": [
        {
          "output_type": "stream",
          "name": "stdout",
          "text": [
            "+----------+----------+------------------------------------------------------------------------------------------------------------------------------------------------------+\n",
            "|prediction|confidence|                                                                                                                                              sentence|\n",
            "+----------+----------+------------------------------------------------------------------------------------------------------------------------------------------------------+\n",
            "|   Present|0.65745443|        Retired schoolteacher, now substitutes. Lives with wife in location 1439. Has a 27 yo son and a 25 yo daughter. He uses alcohol and cigarettes|\n",
            "|      Past|0.98161787|The patient quit smoking approximately two years ago with an approximately a 40 pack year history, mostly cigar use. He also reports 'heavy alcohol...|\n",
            "|     Never| 0.9825732|                                                          The patient denies any history of smoking or alcohol abuse. She lives with her one daughter.|\n",
            "|      None| 0.7491366|She was previously employed as a hairdresser, though says she hasnt worked in 4 years. Not reported by patient, but there is apparently a history o...|\n",
            "+----------+----------+------------------------------------------------------------------------------------------------------------------------------------------------------+\n",
            "\n"
          ]
        }
      ]
    }
  ],
  "metadata": {
    "colab": {
      "provenance": [],
      "toc_visible": true
    },
    "kernelspec": {
      "display_name": "Python 3.9.2 64-bit ('3.9.2')",
      "language": "python",
      "name": "python3"
    },
    "language_info": {
      "codemirror_mode": {
        "name": "ipython",
        "version": 3
      },
      "file_extension": ".py",
      "mimetype": "text/x-python",
      "name": "python",
      "nbconvert_exporter": "python",
      "pygments_lexer": "ipython3",
      "version": "3.9.2"
    },
    "vscode": {
      "interpreter": {
        "hash": "a6cfde16737151ae49a327430a5fbb48432a976136d1f3391213c81bbed9fca8"
      }
    }
  },
  "nbformat": 4,
  "nbformat_minor": 0
}
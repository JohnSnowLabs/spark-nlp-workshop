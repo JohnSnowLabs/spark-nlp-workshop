{
  "nbformat": 4,
  "nbformat_minor": 0,
  "metadata": {
    "colab": {
      "provenance": [],
      "gpuType": "T4",
      "machine_shape": "hm",
      "toc_visible": true
    },
    "kernelspec": {
      "name": "python3",
      "display_name": "Python 3"
    },
    "language_info": {
      "name": "python"
    },
    "accelerator": "TPU",
    "gpuClass": "standard"
  },
  "cells": [
    {
      "cell_type": "markdown",
      "source": [
        "![JohnSnowLabs](https://nlp.johnsnowlabs.com/assets/images/logo.png)\n",
        "\n",
        "[![Open In Colab](https://colab.research.google.com/assets/colab-badge.svg)](https://colab.research.google.com/github/JohnSnowLabs/spark-nlp-workshop/blob/master/tutorials/streamlit_notebooks/healthcare/CLINICAL_TEXT_SUMMARIZATION_ES.ipynb)"
      ],
      "metadata": {
        "id": "dRQyovGD7Z3c"
      }
    },
    {
      "cell_type": "markdown",
      "source": [
        "# Colab Setup"
      ],
      "metadata": {
        "id": "ZvUDa_SufEFw"
      }
    },
    {
      "cell_type": "code",
      "source": [
        "import json, os\n",
        "from google.colab import files\n",
        "\n",
        "if 'spark_jsl.json' not in os.listdir():\n",
        "  license_keys = files.upload()\n",
        "  os.rename(list(license_keys.keys())[0], 'spark_jsl.json')\n",
        "\n",
        "with open('spark_jsl.json') as f:\n",
        "    license_keys = json.load(f)\n",
        "\n",
        "# Defining license key-value pairs as local variables\n",
        "locals().update(license_keys)\n",
        "os.environ.update(license_keys)"
      ],
      "metadata": {
        "id": "cDRYI3otfAQ1"
      },
      "execution_count": null,
      "outputs": []
    },
    {
      "cell_type": "code",
      "source": [
        "# Installing pyspark and spark-nlp\n",
        "! pip install --upgrade -q pyspark==3.1.2  spark-nlp==$PUBLIC_VERSION\n",
        "\n",
        "# Installing Spark NLP Healthcare\n",
        "! pip install --upgrade -q spark-nlp-jsl==$JSL_VERSION  --extra-index-url https://pypi.johnsnowlabs.com/$SECRET\n",
        "\n",
        "# Installing Spark NLP Display Library for visualization\n",
        "! pip install -q spark-nlp-display"
      ],
      "metadata": {
        "id": "Cc1wXL5x_ryZ"
      },
      "execution_count": null,
      "outputs": []
    },
    {
      "cell_type": "code",
      "source": [
        "import json\n",
        "import os\n",
        "\n",
        "import sparknlp\n",
        "import sparknlp_jsl\n",
        "\n",
        "from sparknlp.base import *\n",
        "from sparknlp.common import *\n",
        "from sparknlp.training import *\n",
        "from sparknlp.annotator import *\n",
        "\n",
        "from sparknlp_jsl.base import *\n",
        "from sparknlp_jsl.annotator import *\n",
        "\n",
        "from pyspark.ml import Pipeline\n",
        "import pyspark.sql.functions as F\n",
        "import pyspark.sql.types as T\n",
        "\n",
        "import functools \n",
        "import numpy as np\n",
        "import pandas as pd\n",
        "from scipy import spatial\n",
        "\n",
        "spark = sparknlp_jsl.start(license_keys['SECRET']) \n",
        "\n",
        "print(\"Spark NLP Version :\", sparknlp.version())\n",
        "print(\"Spark NLP_JSL Version :\", sparknlp_jsl.version())\n",
        "\n",
        "spark"
      ],
      "metadata": {
        "id": "h4QO4-B-_wE-",
        "colab": {
          "base_uri": "https://localhost:8080/",
          "height": 253
        },
        "outputId": "8da7c122-d76e-44a9-9401-b0061023c92d"
      },
      "execution_count": 4,
      "outputs": [
        {
          "output_type": "stream",
          "name": "stdout",
          "text": [
            "Spark NLP Version : 4.4.1\n",
            "Spark NLP_JSL Version : 4.4.1\n"
          ]
        },
        {
          "output_type": "execute_result",
          "data": {
            "text/plain": [
              "<pyspark.sql.session.SparkSession at 0x7fcd0fa07820>"
            ],
            "text/html": [
              "\n",
              "            <div>\n",
              "                <p><b>SparkSession - in-memory</b></p>\n",
              "                \n",
              "        <div>\n",
              "            <p><b>SparkContext</b></p>\n",
              "\n",
              "            <p><a href=\"http://b32401f8cb7f:4040\">Spark UI</a></p>\n",
              "\n",
              "            <dl>\n",
              "              <dt>Version</dt>\n",
              "                <dd><code>v3.1.2</code></dd>\n",
              "              <dt>Master</dt>\n",
              "                <dd><code>local[*]</code></dd>\n",
              "              <dt>AppName</dt>\n",
              "                <dd><code>Spark NLP Licensed</code></dd>\n",
              "            </dl>\n",
              "        </div>\n",
              "        \n",
              "            </div>\n",
              "        "
            ]
          },
          "metadata": {},
          "execution_count": 4
        }
      ]
    },
    {
      "cell_type": "markdown",
      "source": [
        "# summarizer_clinical_jsl_augmented"
      ],
      "metadata": {
        "id": "VdzSr1dFfLhA"
      }
    },
    {
      "cell_type": "markdown",
      "source": [
        "📌 This model is a modified version of Flan-T5 (LLM) based summarization model that is at first finetuned with natural instructions and then finetuned with clinical notes, encounters, critical care notes, discharge notes, reports, curated  by John Snow Labs. This model is further optimized by augmenting the training methodology, and dataset. It can generate summaries from clinical notes up to 512 tokens given the input text (max 1024 tokens).\n",
        "\n",
        "⛓️ https://nlp.johnsnowlabs.com/2023/03/30/summarizer_clinical_jsl_augmented_en.html"
      ],
      "metadata": {
        "id": "OxFZ_YqnfU73"
      }
    },
    {
      "cell_type": "code",
      "source": [
        "document = DocumentAssembler()\\\n",
        "    .setInputCol(\"text\")\\\n",
        "    .setOutputCol(\"document\")\n",
        "\n",
        "summarizer = MedicalSummarizer()\\\n",
        "    .pretrained(\"summarizer_clinical_jsl_augmented\", \"en\", \"clinical/models\")\\\n",
        "    .setInputCols(\"document\")\\\n",
        "    .setOutputCol(\"english_summary\")\\\n",
        "    .setMaxTextLength(512)\\\n",
        "    .setMaxNewTokens(512)\n",
        "\n",
        "sentencerDL = SentenceDetectorDLModel.pretrained(\"sentence_detector_dl\", \"xx\")\\\n",
        "    .setInputCols([\"english_summary\"])\\\n",
        "    .setOutputCol(\"sentences\")\n",
        "\n",
        "marian_transformer = MarianTransformer.pretrained(\"opus_mt_en_es\", \"xx\")\\\n",
        "    .setInputCols([\"sentences\"])\\\n",
        "    .setOutputCol(\"spanish_summary\")\n",
        "    \n",
        "pipeline_summary = Pipeline(stages=[document, \n",
        "                                    summarizer, \n",
        "                                    sentencerDL, \n",
        "                                    marian_transformer])\n",
        "\n",
        "model_summary= pipeline_summary.fit(spark.createDataFrame([[\"\"]]).toDF(\"text\"))\n",
        "\n",
        "light_model_summary = LightPipeline(model_summary)"
      ],
      "metadata": {
        "id": "Ms68w4OpMGLW",
        "colab": {
          "base_uri": "https://localhost:8080/"
        },
        "outputId": "0458afb2-dc21-4051-e54a-01f3bf007ced"
      },
      "execution_count": 5,
      "outputs": [
        {
          "output_type": "stream",
          "name": "stdout",
          "text": [
            "summarizer_clinical_jsl_augmented download started this may take some time.\n",
            "[OK!]\n",
            "sentence_detector_dl download started this may take some time.\n",
            "Approximate size to download 514.9 KB\n",
            "[OK!]\n",
            "opus_mt_en_es download started this may take some time.\n",
            "Approximate size to download 398.8 MB\n",
            "[OK!]\n"
          ]
        }
      ]
    },
    {
      "cell_type": "code",
      "source": [
        "text = '''\n",
        "Fecha: 5 de mayo de 2023\n",
        "\n",
        "Paciente: Juan Pérez\n",
        "\n",
        "Edad: 45 años\n",
        "\n",
        "Motivo de consulta: Dolor abdominal\n",
        "\n",
        "Antecedentes médicos relevantes: El paciente tiene antecedentes de hipertensión arterial y diabetes tipo 2. Además, ha sido diagnosticado con enfermedad renal crónica en estadio 3.\n",
        "\n",
        "Examen físico: El paciente se presenta con dolor abdominal difuso, leve sensibilidad a la palpación en la región epigástrica y una presión arterial de 140/90 mmHg.\n",
        "\n",
        "Resultados de los exámenes: Los resultados de la prueba de hemoglobina glicosilada (HbA1c) son de 7,2%, lo que indica un control adecuado de la diabetes. Sin embargo, se observa una elevación de la creatinina sérica a 1,8 mg/dL, lo que indica un deterioro de la función renal.\n",
        "\n",
        "Diagnóstico: El paciente presenta dolor abdominal de origen desconocido, pero se debe tener en cuenta la posibilidad de una afección gastrointestinal o renal. Además, el deterioro de la función renal es un hallazgo preocupante que requiere seguimiento y posible ajuste en la terapia farmacológica.\n",
        "\n",
        "Tratamiento: Se ordenó una ecografía abdominal para descartar una afección gastrointestinal o renal. Además, se realizarán ajustes en la terapia farmacológica para mejorar el control de la presión arterial y el control de la diabetes. Se recomienda una dieta baja en sodio y una ingesta adecuada de líquidos para mejorar la función renal.\n",
        "\n",
        "Plan de seguimiento: Se programó una cita de seguimiento en dos semanas para revisar los resultados de la ecografía abdominal y evaluar la respuesta al tratamiento. Además, se monitoreará la función renal y se realizarán ajustes en la terapia farmacológica según sea necesario.\n",
        "\n",
        "Firma:\n",
        "Dr. Juan García\n",
        "'''\n",
        "\n",
        "light_result = light_model_summary.annotate(text)\n",
        "light_result\n"
      ],
      "metadata": {
        "id": "InrAFibSAvoJ",
        "colab": {
          "base_uri": "https://localhost:8080/"
        },
        "outputId": "efc246ff-7bcf-41e4-dac5-5a157bdbb571"
      },
      "execution_count": null,
      "outputs": [
        {
          "output_type": "execute_result",
          "data": {
            "text/plain": [
              "{'document': ['\\nFecha: 5 de mayo de 2023\\n\\nPaciente: Juan Pérez\\n\\nEdad: 45 años\\n\\nMotivo de consulta: Dolor abdominal\\n\\nAntecedentes médicos relevantes: El paciente tiene antecedentes de hipertensión arterial y diabetes tipo 2. Además, ha sido diagnosticado con enfermedad renal crónica en estadio 3.\\n\\nExamen físico: El paciente se presenta con dolor abdominal difuso, leve sensibilidad a la palpación en la región epigástrica y una presión arterial de 140/90 mmHg.\\n\\nResultados de los exámenes: Los resultados de la prueba de hemoglobina glicosilada (HbA1c) son de 7,2%, lo que indica un control adecuado de la diabetes. Sin embargo, se observa una elevación de la creatinina sérica a 1,8 mg/dL, lo que indica un deterioro de la función renal.\\n\\nDiagnóstico: El paciente presenta dolor abdominal de origen desconocido, pero se debe tener en cuenta la posibilidad de una afección gastrointestinal o renal. Además, el deterioro de la función renal es un hallazgo preocupante que requiere seguimiento y posible ajuste en la terapia farmacológica.\\n\\nTratamiento: Se ordenó una ecografía abdominal para descartar una afección gastrointestinal o renal. Además, se realizarán ajustes en la terapia farmacológica para mejorar el control de la presión arterial y el control de la diabetes. Se recomienda una dieta baja en sodio y una ingesta adecuada de líquidos para mejorar la función renal.\\n\\nPlan de seguimiento: Se programó una cita de seguimiento en dos semanas para revisar los resultados de la ecografía abdominal y evaluar la respuesta al tratamiento. Además, se monitoreará la función renal y se realizarán ajustes en la terapia farmacológica según sea necesario.\\n\\nFirma:\\nDr. Juan García\\n'],\n",
              " 'english_summary': ['The patient is 45 years old with a history of hipertension arterial and diabetes type 2. He has been diagnosed with renal crónica in the state and has a history of hipertension and arterial hypertension. The patient presents with abdominal pain, low peripheral vascular pressure, and a high arterial pressure. The hemoglobin glicosilada test results are of 7.2%, which indicates adequate control of diabetes. However, an elevation in creatinine levels indicates a deterioro of renal function. The treatment includes an abdominal ultrasound to descartar a gastrointestinal or renal adección, adjustments in a pharmacologic therapy to improve control of presión arterial and diabetes, and a diet of low sodium and adequate l ⁇ quidos for improved renal function. A follow-up appointment was scheduled to review the results and evaluate the response to treatment.'],\n",
              " 'sentences': ['The patient is 45 years old with a history of hipertension arterial and diabetes type 2.',\n",
              "  'He has been diagnosed with renal crónica in the state and has a history of hipertension and arterial hypertension.',\n",
              "  'The patient presents with abdominal pain, low peripheral vascular pressure, and a high arterial pressure.',\n",
              "  'The hemoglobin glicosilada test results are of 7.2%, which indicates adequate control of diabetes.',\n",
              "  'However, an elevation in creatinine levels indicates a deterioro of renal function.',\n",
              "  'The treatment includes an abdominal ultrasound to descartar a gastrointestinal or renal adección, adjustments in a pharmacologic therapy to improve control of presión arterial and diabetes, and a diet of low sodium and adequate l ⁇ quidos for improved renal function.',\n",
              "  'A follow-up appointment was scheduled to review the results and evaluate the response to treatment.'],\n",
              " 'spanish_summary': ['El paciente tiene 45 años con antecedentes de hipertensión arterial y diabetes tipo 2.',\n",
              "  'Se le ha diagnosticado crónica renal en el estado y tiene antecedentes de hipertensión arterial y de hipertensión arterial.',\n",
              "  'El paciente presenta dolor abdominal, baja presión vascular periférica y alta presión arterial.',\n",
              "  'Los resultados de la prueba de hemoglobina glicosilada son de 7,2%, lo que indica un control adecuado de la diabetes.',\n",
              "  'Sin embargo, una elevación en los niveles de creatinina indica un determinoro de la función renal.',\n",
              "  'El tratamiento incluye una ecografía abdominal para descartar una adección gastrointestinal o renal, ajustes en una terapia farmacológica para mejorar el control de la presión arterial y',\n",
              "  'Se programó una cita de seguimiento para revisar los resultados y evaluar la respuesta al tratamiento.']}"
            ]
          },
          "metadata": {},
          "execution_count": 11
        }
      ]
    },
    {
      "cell_type": "code",
      "source": [
        "spanish_summary = \"\".join(light_result[\"spanish_summary\"])\n",
        "spanish_summary"
      ],
      "metadata": {
        "colab": {
          "base_uri": "https://localhost:8080/",
          "height": 88
        },
        "id": "GVRl9X7A6nOr",
        "outputId": "921d390b-8628-4628-e0fa-d8778be6f31f"
      },
      "execution_count": null,
      "outputs": [
        {
          "output_type": "execute_result",
          "data": {
            "text/plain": [
              "'El paciente tiene 45 años con antecedentes de hipertensión arterial y diabetes tipo 2.Se le ha diagnosticado crónica renal en el estado y tiene antecedentes de hipertensión arterial y de hipertensión arterial.El paciente presenta dolor abdominal, baja presión vascular periférica y alta presión arterial.Los resultados de la prueba de hemoglobina glicosilada son de 7,2%, lo que indica un control adecuado de la diabetes.Sin embargo, una elevación en los niveles de creatinina indica un determinoro de la función renal.El tratamiento incluye una ecografía abdominal para descartar una adección gastrointestinal o renal, ajustes en una terapia farmacológica para mejorar el control de la presión arterial ySe programó una cita de seguimiento para revisar los resultados y evaluar la respuesta al tratamiento.'"
            ],
            "application/vnd.google.colaboratory.intrinsic+json": {
              "type": "string"
            }
          },
          "metadata": {},
          "execution_count": 14
        }
      ]
    },
    {
      "cell_type": "code",
      "source": [
        "text = '''\n",
        "Paciente: Ana Pérez\n",
        "Edad: 10 meses\n",
        "Género: Femenino\n",
        "Motivo de consulta: Fiebre y diarrea\n",
        "\n",
        "Historia clínica:\n",
        "La paciente Ana Pérez fue llevada a la consulta médica por su madre debido a que presentaba fiebre y diarrea desde hace dos días. La fiebre había estado en torno a los 38ºC y se había mantenido constante, mientras que la diarrea era acuosa y se producía con frecuencia. La paciente también había estado vomitando y no había querido comer.\n",
        "\n",
        "Antecedentes médicos:\n",
        "La paciente no tiene antecedentes médicos significativos y estaba recibiendo alimentación materna exclusiva hasta el momento.\n",
        "\n",
        "Examen físico:\n",
        "Al examen físico, se observó que la paciente tenía una temperatura de 38.5ºC, y se evidenció deshidratación moderada. El abdomen estaba distendido y sensible a la palpación, y se observó una diarrea acuosa en el pañal.\n",
        "\n",
        "Diagnóstico:\n",
        "Basándonos en los síntomas y el examen físico, se sospecha una infección gastrointestinal aguda. Se recomienda realizar un análisis de heces para detectar la presencia de bacterias o parásitos causantes de la infección.\n",
        "\n",
        "Plan de tratamiento:\n",
        "Se prescribirá un tratamiento de rehidratación oral con soluciones de sales y líquidos, y se recomendará a la madre que continúe alimentando a la paciente con leche materna. Se prescribirá un medicamento antipirético para controlar la fiebre y se indicará una dieta blanda, evitando alimentos que puedan empeorar la diarrea. Se tomarán muestras de heces para análisis y se prescribirá un tratamiento antibiótico si se detecta la presencia de bacterias patógenas. Se recomendará a la madre seguir de cerca la evolución de la paciente y volver a la consulta si la fiebre persiste o si hay signos de empeoramiento.\n",
        "'''\n",
        "\n",
        "light_result = light_model_summary.annotate(text)\n",
        "light_result"
      ],
      "metadata": {
        "colab": {
          "base_uri": "https://localhost:8080/"
        },
        "id": "3slgUZyx6aju",
        "outputId": "f2fffb5b-d0bd-4ac9-8b5a-9523ef7d3ed4"
      },
      "execution_count": null,
      "outputs": [
        {
          "output_type": "execute_result",
          "data": {
            "text/plain": [
              "{'document': ['\\nPaciente: Ana Pérez\\nEdad: 10 meses\\nGénero: Femenino\\nMotivo de consulta: Fiebre y diarrea\\n\\nHistoria clínica:\\nLa paciente Ana Pérez fue llevada a la consulta médica por su madre debido a que presentaba fiebre y diarrea desde hace dos días. La fiebre había estado en torno a los 38ºC y se había mantenido constante, mientras que la diarrea era acuosa y se producía con frecuencia. La paciente también había estado vomitando y no había querido comer.\\n\\nAntecedentes médicos:\\nLa paciente no tiene antecedentes médicos significativos y estaba recibiendo alimentación materna exclusiva hasta el momento.\\n\\nExamen físico:\\nAl examen físico, se observó que la paciente tenía una temperatura de 38.5ºC, y se evidenció deshidratación moderada. El abdomen estaba distendido y sensible a la palpación, y se observó una diarrea acuosa en el pañal.\\n\\nDiagnóstico:\\nBasándonos en los síntomas y el examen físico, se sospecha una infección gastrointestinal aguda. Se recomienda realizar un análisis de heces para detectar la presencia de bacterias o parásitos causantes de la infección.\\n\\nPlan de tratamiento:\\nSe prescribirá un tratamiento de rehidratación oral con soluciones de sales y líquidos, y se recomendará a la madre que continúe alimentando a la paciente con leche materna. Se prescribirá un medicamento antipirético para controlar la fiebre y se indicará una dieta blanda, evitando alimentos que puedan empeorar la diarrea. Se tomarán muestras de heces para análisis y se prescribirá un tratamiento antibiótico si se detecta la presencia de bacterias patógenas. Se recomendará a la madre seguir de cerca la evolución de la paciente y volver a la consulta si la fiebre persiste o si hay signos de empeoramiento.\\n'],\n",
              " 'english_summary': [\"The patient, Ana Pérez, had fever and diarrhoea for 10 days. She had been experiencing fever and diarrhoea for two days, which had been kept constant while the diarrhoea was acuosa and produced frequently. The patient had no significant medical history and was receiving only maternal feeding. Physical examination revealed a dehydration moderation, and a diarrhoea was observed in the paulal area. The plan of treatment included rehydration oral with medications, a medication for bacterial control, and a diet that was mild, avoiding foods that could empeorize the diarrhoea. Samples of heces were taken for analysis, and a antibiotic treatment was prescribed if the fever persists or there are signs of empeoramiento. The mother was advised to follow up with the patient's evolution and return if the fever persists or there are signs of empeoramiento.\"],\n",
              " 'sentences': ['The patient, Ana Pérez, had fever and diarrhoea for 10 days.',\n",
              "  'She had been experiencing fever and diarrhoea for two days, which had been kept constant while the diarrhoea was acuosa and produced frequently.',\n",
              "  'The patient had no significant medical history and was receiving only maternal feeding.',\n",
              "  'Physical examination revealed a dehydration moderation, and a diarrhoea was observed in the paulal area.',\n",
              "  'The plan of treatment included rehydration oral with medications, a medication for bacterial control, and a diet that was mild, avoiding foods that could empeorize the diarrhoea.',\n",
              "  'Samples of heces were taken for analysis, and a antibiotic treatment was prescribed if the fever persists or there are signs of empeoramiento.',\n",
              "  \"The mother was advised to follow up with the patient's evolution and return if the fever persists or there are signs of empeoramiento.\"],\n",
              " 'spanish_summary': ['La paciente, Ana Pérez, tuvo fiebre y diarrea durante 10 días.',\n",
              "  'Llevaba dos días sufriendo fiebre y diarrea, que se mantenía constante mientras la diarrea era acuosa y se producía con frecuencia.',\n",
              "  'El paciente no tenía antecedentes médicos significativos y sólo recibía alimentación materna.',\n",
              "  'El examen físico reveló una moderación deshidratante y se observó diarrea en el área paulal.',\n",
              "  'El plan de tratamiento incluía rehidratación oral con medicamentos, un medicamento para el control bacteriano y una dieta suave, evitando alimentos que pudieran empeoorizar la diarrea.',\n",
              "  'Se tomaron muestras de heces para su análisis, y se prescribió un tratamiento antibiótico si la fiebre persiste o si hay signos de empeooración.',\n",
              "  'Se aconsejó a la madre que siguiera la evolución del paciente y regresara si la fiebre persiste o si hay signos de empeooramiento.']}"
            ]
          },
          "metadata": {},
          "execution_count": 15
        }
      ]
    },
    {
      "cell_type": "code",
      "source": [
        "spanish_summary = \"\".join(light_result[\"spanish_summary\"])\n",
        "spanish_summary"
      ],
      "metadata": {
        "colab": {
          "base_uri": "https://localhost:8080/",
          "height": 88
        },
        "id": "6OaEN_V-7FrX",
        "outputId": "8ff0d430-f4f9-4785-864f-43b8e1077259"
      },
      "execution_count": null,
      "outputs": [
        {
          "output_type": "execute_result",
          "data": {
            "text/plain": [
              "'La paciente, Ana Pérez, tuvo fiebre y diarrea durante 10 días.Llevaba dos días sufriendo fiebre y diarrea, que se mantenía constante mientras la diarrea era acuosa y se producía con frecuencia.El paciente no tenía antecedentes médicos significativos y sólo recibía alimentación materna.El examen físico reveló una moderación deshidratante y se observó diarrea en el área paulal.El plan de tratamiento incluía rehidratación oral con medicamentos, un medicamento para el control bacteriano y una dieta suave, evitando alimentos que pudieran empeoorizar la diarrea.Se tomaron muestras de heces para su análisis, y se prescribió un tratamiento antibiótico si la fiebre persiste o si hay signos de empeooración.Se aconsejó a la madre que siguiera la evolución del paciente y regresara si la fiebre persiste o si hay signos de empeooramiento.'"
            ],
            "application/vnd.google.colaboratory.intrinsic+json": {
              "type": "string"
            }
          },
          "metadata": {},
          "execution_count": 16
        }
      ]
    }
  ]
}
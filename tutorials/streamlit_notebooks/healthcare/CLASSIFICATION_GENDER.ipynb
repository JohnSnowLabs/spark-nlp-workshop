{
  "nbformat": 4,
  "nbformat_minor": 0,
  "metadata": {
    "colab": {
      "name": "CLASSIFICATION_GENDER.ipynb",
      "provenance": [],
      "collapsed_sections": []
    },
    "kernelspec": {
      "name": "python3",
      "display_name": "Python 3"
    },
    "language_info": {
      "name": "python"
    }
  },
  "cells": [
    {
      "cell_type": "markdown",
      "source": [
        "\n",
        "![JohnSnowLabs](https://nlp.johnsnowlabs.com/assets/images/logo.png)\n",
        "\n",
        "[![Open In Colab](https://colab.research.google.com/assets/colab-badge.svg)](https://colab.research.google.com/github/JohnSnowLabs/spark-nlp-workshop/blob/master/tutorials/streamlit_notebooks/healthcare/CLASSIFICATION_GENDER.ipynb)"
      ],
      "metadata": {
        "id": "eZU4hmc4IK9G"
      }
    },
    {
      "cell_type": "markdown",
      "source": [
        "# **Detects the Gender of the Patient in the Clinical Document**"
      ],
      "metadata": {
        "id": "iu-P9dPHJ6iX"
      }
    },
    {
      "cell_type": "markdown",
      "source": [
        "To run this yourself, you will need to upload your license keys to the notebook. Just Run The Cell Below in order to do that. Also You can open the file explorer on the left side of the screen and upload license_keys.json to the folder that opens. Otherwise, you can look at the example outputs at the bottom of the notebook."
      ],
      "metadata": {
        "id": "fGwKhyO_J5B-"
      }
    },
    {
      "cell_type": "markdown",
      "source": [
        "# **Colab Setup**"
      ],
      "metadata": {
        "id": "8e0HUE_QH3_I"
      }
    },
    {
      "cell_type": "code",
      "execution_count": null,
      "metadata": {
        "id": "mcPe-BmbvijG"
      },
      "outputs": [],
      "source": [
        "import json\n",
        "import os\n",
        "\n",
        "from google.colab import files\n",
        "\n",
        "license_keys = files.upload()\n",
        "\n",
        "with open(list(license_keys.keys())[0]) as f:\n",
        "    license_keys = json.load(f)\n",
        "\n",
        "# Defining license key-value pairs as local variables\n",
        "locals().update(license_keys)\n",
        "\n",
        "# Adding license key-value pairs to environment variables\n",
        "os.environ.update(license_keys)"
      ]
    },
    {
      "cell_type": "markdown",
      "source": [
        "# **Install dependencies**"
      ],
      "metadata": {
        "id": "yLtlJDZpHykb"
      }
    },
    {
      "cell_type": "code",
      "source": [
        "# Installing pyspark and spark-nlp\n",
        "! pip install --upgrade -q pyspark==3.1.2 spark-nlp==$PUBLIC_VERSION\n",
        "\n",
        "# Installing Spark NLP Healthcare\n",
        "! pip install --upgrade -q spark-nlp-jsl==$JSL_VERSION  --extra-index-url https://pypi.johnsnowlabs.com/$SECRET\n",
        "\n",
        "# Installing Spark NLP Display Library for visualization\n",
        "! pip install -q spark-nlp-display"
      ],
      "metadata": {
        "id": "NN2vmxS1v-O_"
      },
      "execution_count": null,
      "outputs": []
    },
    {
      "cell_type": "markdown",
      "source": [
        "# **Import dependencies into Python and start the Spark session**"
      ],
      "metadata": {
        "id": "Oyszm0lfKLgF"
      }
    },
    {
      "cell_type": "code",
      "source": [
        "import json\n",
        "import os\n",
        "\n",
        "from pyspark.ml import Pipeline, PipelineModel\n",
        "from pyspark.sql import SparkSession\n",
        "\n",
        "import sparknlp\n",
        "import sparknlp_jsl\n",
        "\n",
        "from sparknlp.annotator import *\n",
        "from sparknlp_jsl.annotator import *\n",
        "from sparknlp.base import *\n",
        "from sparknlp.util import *\n",
        "from sparknlp.pretrained import ResourceDownloader\n",
        "from pyspark.sql import functions as F\n",
        "\n",
        "import pandas as pd\n",
        "\n",
        "pd.set_option('display.max_columns', None)  \n",
        "pd.set_option('display.expand_frame_repr', False)\n",
        "pd.set_option('max_colwidth', None)\n",
        "\n",
        "import string\n",
        "import numpy as np\n",
        "\n",
        "params = {\"spark.driver.memory\":\"16G\",\n",
        "          \"spark.kryoserializer.buffer.max\":\"2000M\",\n",
        "          \"spark.driver.maxResultSize\":\"2000M\"}\n",
        "\n",
        "spark = sparknlp_jsl.start(secret = SECRET, params=params)\n",
        "\n",
        "print (\"Spark NLP Version :\", sparknlp.version())\n",
        "print (\"Spark NLP_JSL Version :\", sparknlp_jsl.version())\n",
        "\n",
        "spark"
      ],
      "metadata": {
        "colab": {
          "base_uri": "https://localhost:8080/",
          "height": 261
        },
        "id": "FkIDVLZlwJZH",
        "outputId": "a09b2697-aab3-4359-bbdb-c1d36b344854"
      },
      "execution_count": 4,
      "outputs": [
        {
          "output_type": "stream",
          "name": "stdout",
          "text": [
            "Warning::Spark Session already created, some configs may not take.\n",
            "Spark NLP Version : 3.4.4\n",
            "Spark NLP_JSL Version : 3.5.3\n"
          ]
        },
        {
          "output_type": "execute_result",
          "data": {
            "text/plain": [
              "<pyspark.sql.session.SparkSession at 0x7f559409b490>"
            ],
            "text/html": [
              "\n",
              "            <div>\n",
              "                <p><b>SparkSession - in-memory</b></p>\n",
              "                \n",
              "        <div>\n",
              "            <p><b>SparkContext</b></p>\n",
              "\n",
              "            <p><a href=\"http://17130e845f31:4040\">Spark UI</a></p>\n",
              "\n",
              "            <dl>\n",
              "              <dt>Version</dt>\n",
              "                <dd><code>v3.1.2</code></dd>\n",
              "              <dt>Master</dt>\n",
              "                <dd><code>local[*]</code></dd>\n",
              "              <dt>AppName</dt>\n",
              "                <dd><code>Spark NLP Licensed</code></dd>\n",
              "            </dl>\n",
              "        </div>\n",
              "        \n",
              "            </div>\n",
              "        "
            ]
          },
          "metadata": {},
          "execution_count": 4
        }
      ]
    },
    {
      "cell_type": "markdown",
      "source": [
        "# **🔎 For about models**"
      ],
      "metadata": {
        "id": "zdkipZ63LY9-"
      }
    },
    {
      "cell_type": "markdown",
      "source": [
        "\n",
        "📌 **\"classifierdl_gender_sbert\"**--> *This model classifies the gender of the patient in the clinical document using context.*\n",
        "\n",
        "*   Predicted Entities => **Female, Male, Unknown**\n",
        "\n",
        "📌 **classifierdl_gender_biobert** --> *This model classifies the gender of the patient in the clinical document using context.*\n",
        "\n",
        "*   Predicted Entities => **Female, Male, Unknown**\n",
        "\n",
        "📌 **bert_sequence_classifier_gender_biobert** --> *This model classifies the gender of a patient in a clinical document using context. This model is a BioBERT-based classifier.*\n",
        "\n",
        "*   Predicted Entities => **Female, Male, Unknown**\n"
      ],
      "metadata": {
        "id": "Hm8RnxGNJptO"
      }
    },
    {
      "cell_type": "markdown",
      "source": [
        "# **🔎Sample Text**"
      ],
      "metadata": {
        "id": "J_C_iy96JROE"
      }
    },
    {
      "cell_type": "code",
      "source": [
        "text_list = [\"\"\"HISTORY: The patient is a 57-year-old female, who I initially saw in the office on 12/27/07, as a referral from the Tomball Breast Center. On 12/21/07, the patient underwent image-guided needle core biopsy of a 1.5 cm lesion at the 7 o'clock position of the left breast (inferomedial). The biopsy returned showing infiltrating ductal carcinoma high histologic grade. The patient stated that she had recently felt and her physician had felt a palpable mass in that area prior to her breast imaging.\"\"\",\n",
        "\"\"\"The patient states that she has been overweight for approximately 35 years and has tried multiple weight loss modalities in the past including Weight Watchers, NutriSystem, Jenny Craig, TOPS, cabbage diet, grape fruit diet, Slim-Fast, Richard Simmons, as well as over-the-counter  measures without any long-term sustainable weight loss. At the time of presentation to the practice, xx is 5 feet 6 inches tall with a weight of 285.4 pounds and a body mass index of 46. She has obesity-related comorbidities, which includes hypertension and hypercholesterolemia.\"\"\",\n",
        "\"\"\"Prostate gland showing moderately differentiated infiltrating adenocarcinoma, Gleason 3 + 2 extending to the apex involving both lobes of the prostate, mainly right.\"\"\",\n",
        "\"\"\"SKIN: The patient has significant subcutaneous emphysema of the upper chest and  anterior neck area although he states that the subcutaneous emphysema has improved significantly since yesterday.\"\"\",\n",
        "\"\"\"Procedure in detail: after obtaining informed consent from the patient, including a thorough explanation of the risks and benefits of the aforementioned procedure, the patient was taken to the operating room and general endotracheal anesthesia was administered.\"\"\"\n",
        "]\n"
      ],
      "metadata": {
        "id": "G2m3gUpZJXqB"
      },
      "execution_count": 22,
      "outputs": []
    },
    {
      "cell_type": "code",
      "source": [
        "df = spark.createDataFrame([[text_list[0]]]).toDF('text')"
      ],
      "metadata": {
        "id": "ubDGgt65MHhz"
      },
      "execution_count": 23,
      "outputs": []
    },
    {
      "cell_type": "markdown",
      "source": [
        "# **🔎Define Spark NLP pipeline**"
      ],
      "metadata": {
        "id": "STkeDskc4RCY"
      }
    },
    {
      "cell_type": "markdown",
      "source": [
        "### **classifierdl_gender_sbert**"
      ],
      "metadata": {
        "id": "YQKlE6SfEeKr"
      }
    },
    {
      "cell_type": "code",
      "source": [
        "document_assembler = DocumentAssembler()\\\n",
        "    .setInputCol(\"text\")\\\n",
        "    .setOutputCol(\"document\")\n",
        "\n",
        "\n",
        "sbert_embedder = BertSentenceEmbeddings\\\n",
        "     .pretrained(\"sbiobert_base_cased_mli\", 'en', 'clinical/models')\\\n",
        "     .setInputCols([\"document\"])\\\n",
        "     .setOutputCol(\"sentence_embeddings\")\n",
        "\n",
        "\n",
        "gender_classifier = ClassifierDLModel.pretrained( 'classifierdl_gender_sbert', 'en', 'clinical/models')\\\n",
        "      .setInputCols([\"document\", \"sentence_embeddings\"]) \\\n",
        "      .setOutputCol(\"gender\")\n",
        "\n",
        "pipeline = Pipeline(stages=[\n",
        "                            document_assembler, \n",
        "                            sbert_embedder, \n",
        "                            gender_classifier\n",
        "                            ])\n",
        "\n",
        "\n",
        "sbert_model = pipeline.fit(spark.createDataFrame([['']]).toDF(\"text\"))\n"
      ],
      "metadata": {
        "colab": {
          "base_uri": "https://localhost:8080/"
        },
        "id": "nXfyk5IjCAjS",
        "outputId": "eee7d2d2-c6e2-478a-d7d3-4597b9710db8"
      },
      "execution_count": 37,
      "outputs": [
        {
          "output_type": "stream",
          "name": "stdout",
          "text": [
            "sbiobert_base_cased_mli download started this may take some time.\n",
            "Approximate size to download 384.3 MB\n",
            "[OK!]\n",
            "classifierdl_gender_sbert download started this may take some time.\n",
            "Approximate size to download 22.2 MB\n",
            "[OK!]\n"
          ]
        }
      ]
    },
    {
      "cell_type": "code",
      "source": [
        "result   = sbert_model.transform(df)\n",
        "\n",
        "result.select(F.explode(F.arrays_zip('document.result', 'gender.result')).alias(\"cols\")) \\\n",
        "               .select( F.expr(\"cols['0']\").alias(\"Text\"),\n",
        "                        F.expr(\"cols['1']\").alias(\"Gender\")).show(truncate=80)"
      ],
      "metadata": {
        "colab": {
          "base_uri": "https://localhost:8080/"
        },
        "id": "dhOvRTF9L6EU",
        "outputId": "f9ed5743-a4d7-4a65-e552-aec8083d491a"
      },
      "execution_count": 38,
      "outputs": [
        {
          "output_type": "stream",
          "name": "stdout",
          "text": [
            "+--------------------------------------------------------------------------------+------+\n",
            "|                                                                            Text|Gender|\n",
            "+--------------------------------------------------------------------------------+------+\n",
            "|HISTORY: The patient is a 57-year-old female, who I initially saw in the offi...|Female|\n",
            "+--------------------------------------------------------------------------------+------+\n",
            "\n"
          ]
        }
      ]
    },
    {
      "cell_type": "markdown",
      "source": [
        "### **classifierdl_gender_biobert**"
      ],
      "metadata": {
        "id": "vcojMbmBEkF0"
      }
    },
    {
      "cell_type": "code",
      "source": [
        "document_assembler = DocumentAssembler()\\\n",
        "    .setInputCol(\"text\")\\\n",
        "    .setOutputCol(\"document\")\n",
        "\n",
        "\n",
        "tokenizer = Tokenizer()\\\n",
        "    .setInputCols(['document'])\\\n",
        "    .setOutputCol('token')\n",
        "\n",
        "\n",
        "biobert_embeddings = BertEmbeddings().pretrained('biobert_pubmed_base_cased') \\\n",
        "        .setInputCols([\"document\",'token'])\\\n",
        "        .setOutputCol(\"bert_embeddings\")\n",
        "\n",
        "\n",
        "sentence_embeddings = SentenceEmbeddings() \\\n",
        "     .setInputCols([\"document\", \"bert_embeddings\"]) \\\n",
        "     .setOutputCol(\"sentence_bert_embeddings\") \\\n",
        "     .setPoolingStrategy(\"AVERAGE\")\n",
        "\n",
        "\n",
        "genderClassifier = ClassifierDLModel.pretrained('classifierdl_gender_biobert', 'en', 'clinical/models') \\\n",
        "       .setInputCols([\"document\", \"sentence_bert_embeddings\"]) \\\n",
        "       .setOutputCol(\"gender\")\n",
        "\n",
        "\n",
        "pipeline = Pipeline(stages=[document_assembler, \n",
        "                                tokenizer, \n",
        "                                biobert_embeddings, \n",
        "                                sentence_embeddings, \n",
        "                                genderClassifier])\n",
        "\n",
        "\n",
        "biobert_model = pipeline.fit(spark.createDataFrame([['']]).toDF(\"text\"))\n"
      ],
      "metadata": {
        "colab": {
          "base_uri": "https://localhost:8080/"
        },
        "id": "7iWG8iSCCp0c",
        "outputId": "c92ab5c5-6274-4905-8b42-2ce92c52bd6b"
      },
      "execution_count": 32,
      "outputs": [
        {
          "output_type": "stream",
          "name": "stdout",
          "text": [
            "biobert_pubmed_base_cased download started this may take some time.\n",
            "Approximate size to download 386.4 MB\n",
            "[OK!]\n",
            "classifierdl_gender_biobert download started this may take some time.\n",
            "Approximate size to download 21 MB\n",
            "[OK!]\n"
          ]
        }
      ]
    },
    {
      "cell_type": "code",
      "source": [
        "result   = biobert_model.transform(df)\n",
        "\n",
        "result.select(F.explode(F.arrays_zip('document.result', 'gender.result')).alias(\"cols\")) \\\n",
        "               .select( F.expr(\"cols['0']\").alias(\"Text\"),\n",
        "                        F.expr(\"cols['1']\").alias(\"Gender\")).show(truncate=80)\n",
        "\n"
      ],
      "metadata": {
        "colab": {
          "base_uri": "https://localhost:8080/"
        },
        "id": "9VGPfZrnLgKm",
        "outputId": "09023cb8-742f-4581-a748-4dd4294ac081"
      },
      "execution_count": 33,
      "outputs": [
        {
          "output_type": "stream",
          "name": "stdout",
          "text": [
            "+--------------------------------------------------------------------------------+------+\n",
            "|                                                                            Text|Gender|\n",
            "+--------------------------------------------------------------------------------+------+\n",
            "|HISTORY: The patient is a 57-year-old female, who I initially saw in the offi...|Female|\n",
            "+--------------------------------------------------------------------------------+------+\n",
            "\n"
          ]
        }
      ]
    },
    {
      "cell_type": "markdown",
      "source": [
        "### **bert_sequence_classifier_gender**"
      ],
      "metadata": {
        "id": "OxgDl9y5EpwR"
      }
    },
    {
      "cell_type": "code",
      "source": [
        "document_assembler = DocumentAssembler()\\\n",
        "    .setInputCol(\"text\")\\\n",
        "    .setOutputCol(\"document\")\n",
        "\n",
        "tokenizer = Tokenizer()\\\n",
        "    .setInputCols([\"document\"])\\\n",
        "    .setOutputCol(\"token\")\n",
        "\n",
        "sequenceClassifier = MedicalBertForSequenceClassification.pretrained(\"bert_sequence_classifier_gender_biobert\", \"en\", \"clinical/models\")\\\n",
        "    .setInputCols([\"document\",\"token\"])\\\n",
        "    .setOutputCol(\"gender\")\\\n",
        "    .setCaseSensitive(True)\\\n",
        "    .setMaxSentenceLength(512)\n",
        "\n",
        "pipeline = Pipeline(stages=[\n",
        "    document_assembler, \n",
        "    tokenizer,\n",
        "    sequenceClassifier    \n",
        "])\n",
        "\n",
        "\n",
        "bert_model= pipeline.fit(spark.createDataFrame([[\"\"]]).toDF(\"text\"))\n"
      ],
      "metadata": {
        "colab": {
          "base_uri": "https://localhost:8080/"
        },
        "id": "ZuUVv0eOGjnQ",
        "outputId": "e694c485-082f-407c-b416-89276870252c"
      },
      "execution_count": 34,
      "outputs": [
        {
          "output_type": "stream",
          "name": "stdout",
          "text": [
            "bert_sequence_classifier_gender_biobert download started this may take some time.\n",
            "[OK!]\n"
          ]
        }
      ]
    },
    {
      "cell_type": "code",
      "source": [
        "result   = bert_model.transform(df)\n",
        "\n",
        "result.select(F.explode(F.arrays_zip('document.result', 'gender.result')).alias(\"cols\")) \\\n",
        "               .select( F.expr(\"cols['0']\").alias(\"Text\"),\n",
        "                        F.expr(\"cols['1']\").alias(\"Gender\")).show(truncate=80)\n",
        "\n"
      ],
      "metadata": {
        "colab": {
          "base_uri": "https://localhost:8080/"
        },
        "id": "ZYFx4zgxKQr1",
        "outputId": "0a5fd069-e240-46c1-c989-323fe9d94fa0"
      },
      "execution_count": 36,
      "outputs": [
        {
          "output_type": "stream",
          "name": "stdout",
          "text": [
            "+--------------------------------------------------------------------------------+------+\n",
            "|                                                                            Text|Gender|\n",
            "+--------------------------------------------------------------------------------+------+\n",
            "|HISTORY: The patient is a 57-year-old female, who I initially saw in the offi...|Female|\n",
            "+--------------------------------------------------------------------------------+------+\n",
            "\n"
          ]
        }
      ]
    }
  ]
}
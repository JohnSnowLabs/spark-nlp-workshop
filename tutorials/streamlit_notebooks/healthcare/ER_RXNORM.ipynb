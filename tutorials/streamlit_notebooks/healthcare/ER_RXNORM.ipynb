{
  "nbformat": 4,
  "nbformat_minor": 0,
  "metadata": {
    "colab": {
      "name": "ER_RXNORM.ipynb",
      "provenance": [],
      "collapsed_sections": []
    },
    "kernelspec": {
      "name": "python3",
      "display_name": "Python 3"
    }
  },
  "cells": [
    {
      "cell_type": "markdown",
      "metadata": {
        "id": "TA21Jo5d9SVq"
      },
      "source": [
        "\n",
        "\n",
        "![JohnSnowLabs](https://nlp.johnsnowlabs.com/assets/images/logo.png)\n",
        "\n",
        "[![Open In Colab](https://colab.research.google.com/assets/colab-badge.svg)](https://colab.research.google.com/github/JohnSnowLabs/spark-nlp-workshop/blob/master/tutorials/streamlit_notebooks/healthcare/ER_RXNORM.ipynb)\n",
        "\n",
        "\n"
      ]
    },
    {
      "cell_type": "markdown",
      "metadata": {
        "id": "CzIdjHkAW8TB"
      },
      "source": [
        "# **RxNorm coding**"
      ]
    },
    {
      "cell_type": "markdown",
      "metadata": {
        "id": "6uDmeHEFW7_h"
      },
      "source": [
        "To run this yourself, you will need to upload your license keys to the notebook. Just Run The Cell Below in order to do that. Also You can open the file explorer on the left side of the screen and upload `license_keys.json` to the folder that opens.\n",
        "Otherwise, you can look at the example outputs at the bottom of the notebook.\n",
        "\n"
      ]
    },
    {
      "cell_type": "markdown",
      "metadata": {
        "id": "wIeCOiJNW-88"
      },
      "source": [
        "## 1. Colab Setup"
      ]
    },
    {
      "cell_type": "markdown",
      "metadata": {
        "id": "HMIDv74CYN0d"
      },
      "source": [
        "Import license keys"
      ]
    },
    {
      "cell_type": "code",
      "metadata": {
        "id": "ttHPIV2JXbIM",
        "colab": {
          "resources": {
            "http://localhost:8080/nbextensions/google.colab/files.js": {
              "data": "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",
              "ok": true,
              "headers": [
                [
                  "content-type",
                  "application/javascript"
                ]
              ],
              "status": 200,
              "status_text": "OK"
            }
          },
          "base_uri": "https://localhost:8080/",
          "height": 113
        },
        "outputId": "87838c0d-645c-4ee9-b89f-eb1ef474614f"
      },
      "source": [
        "import os\n",
        "import json\n",
        "\n",
        "from google.colab import files\n",
        "\n",
        "license_keys = files.upload()\n",
        "\n",
        "with open(list(license_keys.keys())[0]) as f:\n",
        "    license_keys = json.load(f)\n",
        "\n",
        "sparknlp_version = license_keys[\"PUBLIC_VERSION\"]\n",
        "jsl_version = license_keys[\"JSL_VERSION\"]\n",
        "\n",
        "print ('SparkNLP Version:', sparknlp_version)\n",
        "print ('SparkNLP-JSL Version:', jsl_version)"
      ],
      "execution_count": 1,
      "outputs": [
        {
          "output_type": "display_data",
          "data": {
            "text/html": [
              "\n",
              "     <input type=\"file\" id=\"files-13c35be7-b55e-4632-9269-1fdfd22e0164\" name=\"files[]\" multiple disabled\n",
              "        style=\"border:none\" />\n",
              "     <output id=\"result-13c35be7-b55e-4632-9269-1fdfd22e0164\">\n",
              "      Upload widget is only available when the cell has been executed in the\n",
              "      current browser session. Please rerun this cell to enable.\n",
              "      </output>\n",
              "      <script src=\"/nbextensions/google.colab/files.js\"></script> "
            ],
            "text/plain": [
              "<IPython.core.display.HTML object>"
            ]
          },
          "metadata": {
            "tags": []
          }
        },
        {
          "output_type": "stream",
          "text": [
            "Saving v3_spark_nlp_for_healthcare.json to v3_spark_nlp_for_healthcare.json\n",
            "SparkNLP Version: 3.0.1\n",
            "SparkNLP-JSL Version: 3.0.0\n"
          ],
          "name": "stdout"
        }
      ]
    },
    {
      "cell_type": "markdown",
      "metadata": {
        "id": "rQtc1CHaYQjU"
      },
      "source": [
        "Install dependencies"
      ]
    },
    {
      "cell_type": "code",
      "metadata": {
        "id": "CGJktFHdHL1n"
      },
      "source": [
        "%%capture\n",
        "for k,v in license_keys.items(): \n",
        "    %set_env $k=$v\n",
        "\n",
        "!wget https://raw.githubusercontent.com/JohnSnowLabs/spark-nlp-workshop/master/jsl_colab_setup.sh\n",
        "!bash jsl_colab_setup.sh\n",
        "\n",
        "# Install Spark NLP Display for visualization\n",
        "!pip install --ignore-installed spark-nlp-display"
      ],
      "execution_count": 2,
      "outputs": []
    },
    {
      "cell_type": "markdown",
      "metadata": {
        "id": "Hj5FRDV4YSXN"
      },
      "source": [
        "Import dependencies into Python"
      ]
    },
    {
      "cell_type": "code",
      "metadata": {
        "id": "qUWyj8c6JSPP"
      },
      "source": [
        "import pandas as pd\n",
        "from pyspark.ml import Pipeline\n",
        "from pyspark.sql import SparkSession\n",
        "import pyspark.sql.functions as F\n",
        "\n",
        "import sparknlp\n",
        "from sparknlp.annotator import *\n",
        "from sparknlp_jsl.annotator import *\n",
        "from sparknlp.base import *\n",
        "import sparknlp_jsl\n"
      ],
      "execution_count": 3,
      "outputs": []
    },
    {
      "cell_type": "markdown",
      "metadata": {
        "id": "ed6Htm7qDQB3"
      },
      "source": [
        "Start the Spark session"
      ]
    },
    {
      "cell_type": "code",
      "metadata": {
        "id": "eaSM8-xhDRa4"
      },
      "source": [
        "spark = sparknlp_jsl.start(license_keys['SECRET'])\n",
        "\n",
        "# manually configure the session\n",
        "# params = {\"spark.driver.memory\" : \"16G\",\n",
        "#           \"spark.kryoserializer.buffer.max\" : \"2000M\",\n",
        "#           \"spark.driver.maxResultSize\" : \"2000M\"}\n",
        "\n",
        "# spark = sparknlp_jsl.start(license_keys['SECRET'],params=params)"
      ],
      "execution_count": 4,
      "outputs": []
    },
    {
      "cell_type": "markdown",
      "metadata": {
        "id": "9RgiqfX5XDqb"
      },
      "source": [
        "## 2. Select the Entity Resolver model and construct the pipeline"
      ]
    },
    {
      "cell_type": "markdown",
      "metadata": {
        "id": "AVKr8C2SrkZQ"
      },
      "source": [
        "Select the models:\n",
        "\n",
        "**RxNorm Entity Resolver models:**\n",
        "\n",
        "1.   **chunkresolve_rxnorm_cd_clinical**\n",
        "2.   **chunkresolve_rxnorm_sbd_clinical**\n",
        "3.   **chunkresolve_rxnorm_scd_clinical**\n",
        "\n",
        "\n",
        "\n",
        "\n",
        "\n",
        "\n",
        "For more details: https://github.com/JohnSnowLabs/spark-nlp-models#pretrained-models---spark-nlp-for-healthcare"
      ]
    },
    {
      "cell_type": "code",
      "metadata": {
        "id": "cK9xxkkfrsLc"
      },
      "source": [
        "## important: You can change NER models and whitelist entities according to your own requirements\n",
        "\n",
        "# ner and entity resolver mapping dict\n",
        "ner_er_dict = {'chunkresolve_rxnorm_scd_clinical': 'ner_posology',\n",
        "              'chunkresolve_rxnorm_cd_clinical': 'ner_posology',\n",
        "              'chunkresolve_rxnorm_sbd_clinical': 'ner_clinical'}\n",
        "# entities to whitelist, so resolver works on only required entities\n",
        "wl_er_dict = {'chunkresolve_rxnorm_scd_clinical': ['DRUG'],\n",
        "             'chunkresolve_rxnorm_cd_clinical': ['DRUG'],\n",
        "             'chunkresolve_rxnorm_sbd_clinical': ['TREATMENT']}\n",
        "# Change this to the model you want to use and re-run the cells below.\n",
        "model = 'chunkresolve_rxnorm_sbd_clinical'"
      ],
      "execution_count": 5,
      "outputs": []
    },
    {
      "cell_type": "markdown",
      "metadata": {
        "id": "zweiG2ilZqoR"
      },
      "source": [
        "Create the pipeline"
      ]
    },
    {
      "cell_type": "code",
      "metadata": {
        "id": "LLuDz_t40be4",
        "colab": {
          "base_uri": "https://localhost:8080/"
        },
        "outputId": "1ecc1806-3389-4345-fbfd-192b5ee182a6"
      },
      "source": [
        "document_assembler = DocumentAssembler() \\\n",
        "    .setInputCol('text')\\\n",
        "    .setOutputCol('document')\n",
        "\n",
        "sentence_detector = SentenceDetector() \\\n",
        "    .setInputCols(['document'])\\\n",
        "    .setOutputCol('sentences')\n",
        "\n",
        "tokenizer = Tokenizer()\\\n",
        "    .setInputCols(['sentences']) \\\n",
        "    .setOutputCol('tokens')\n",
        "\n",
        "embeddings = WordEmbeddingsModel.pretrained('embeddings_clinical', 'en', 'clinical/models')\\\n",
        "    .setInputCols([\"sentences\", \"tokens\"])\\\n",
        "    .setOutputCol(\"embeddings\")\n",
        "\n",
        "ner_model = MedicalNerModel.pretrained(ner_er_dict[model], \"en\", \"clinical/models\") \\\n",
        "    .setInputCols([\"sentences\", \"tokens\", \"embeddings\"])\\\n",
        "    .setOutputCol(\"ner_tags\")   \n",
        "\n",
        "ner_chunker = NerConverter()\\\n",
        "    .setInputCols([\"sentences\", \"tokens\", \"ner_tags\"])\\\n",
        "    .setOutputCol(\"ner_chunk\").setWhiteList(wl_er_dict[model])\n",
        "\n",
        "chunk_embeddings = ChunkEmbeddings()\\\n",
        "    .setInputCols(\"ner_chunk\", \"embeddings\")\\\n",
        "    .setOutputCol(\"chunk_embeddings\")\n",
        "\n",
        "entity_resolver = \\\n",
        "    ChunkEntityResolverModel.pretrained(model,\"en\",\"clinical/models\")\\\n",
        "    .setInputCols(\"tokens\",\"chunk_embeddings\").setOutputCol(\"resolution\")\n",
        "    \n",
        "pipeline = Pipeline(stages=[\n",
        "    document_assembler, \n",
        "    sentence_detector,\n",
        "    tokenizer,\n",
        "    embeddings,\n",
        "    ner_model,\n",
        "    ner_chunker,\n",
        "    chunk_embeddings,\n",
        "    entity_resolver])\n",
        "\n",
        "empty_df = spark.createDataFrame([['']]).toDF(\"text\")\n",
        "pipeline_model = pipeline.fit(empty_df)\n",
        "\n",
        "light_pipeline = sparknlp.base.LightPipeline(pipeline_model)"
      ],
      "execution_count": 6,
      "outputs": [
        {
          "output_type": "stream",
          "text": [
            "embeddings_clinical download started this may take some time.\n",
            "Approximate size to download 1.6 GB\n",
            "[OK!]\n",
            "ner_clinical download started this may take some time.\n",
            "Approximate size to download 13.9 MB\n",
            "[OK!]\n",
            "chunkresolve_rxnorm_sbd_clinical download started this may take some time.\n",
            "Approximate size to download 17.9 MB\n",
            "[OK!]\n"
          ],
          "name": "stdout"
        }
      ]
    },
    {
      "cell_type": "markdown",
      "metadata": {
        "id": "2Y9GpdJhXIpD"
      },
      "source": [
        "## 3. Create example inputs"
      ]
    },
    {
      "cell_type": "code",
      "metadata": {
        "id": "vBOKkB2THdGI"
      },
      "source": [
        "# Enter examples as strings in this array\n",
        "input_list = [\n",
        "\"\"\"The patient is a 40-year-old white male who presents with a chief complaint of \"chest pain\". The patient is diabetic and has a prior history of coronary artery disease. The patient presents today stating that his chest pain started yesterday evening and has been somewhat intermittent. He has been advised Aspirin 81 milligrams QDay. Humulin N. insulin 50 units in a.m. HCTZ 50 mg QDay. Nitroglycerin 1/150 sublingually PRN chest pain.\"\"\",\n",
        "]"
      ],
      "execution_count": 7,
      "outputs": []
    },
    {
      "cell_type": "markdown",
      "metadata": {
        "id": "1gmrjqHSGcJx"
      },
      "source": [
        "# 4. Run the pipeline"
      ]
    },
    {
      "cell_type": "code",
      "metadata": {
        "id": "xdhgKutMHUoC"
      },
      "source": [
        "df = spark.createDataFrame(pd.DataFrame({\"text\": input_list}))\n",
        "result = pipeline_model.transform(df)\n",
        "light_result = light_pipeline.fullAnnotate(input_list[0])"
      ],
      "execution_count": 8,
      "outputs": []
    },
    {
      "cell_type": "markdown",
      "metadata": {
        "id": "UIVShVLhI68M"
      },
      "source": [
        "# 5. Visualize"
      ]
    },
    {
      "cell_type": "code",
      "metadata": {
        "id": "Qdh2BQaLI7tU",
        "colab": {
          "base_uri": "https://localhost:8080/"
        },
        "outputId": "3a73bd47-8b89-42a0-c112-f2a78938ee55"
      },
      "source": [
        "result.select(\n",
        "    F.explode(\n",
        "        F.arrays_zip('ner_chunk.result', \n",
        "                     'ner_chunk.begin',\n",
        "                     'ner_chunk.end',\n",
        "                     'ner_chunk.metadata',\n",
        "                     'resolution.metadata', 'resolution.result')\n",
        "    ).alias('cols')\n",
        ").select(\n",
        "    F.expr(\"cols['0']\").alias('chunk'),\n",
        "    F.expr(\"cols['1']\").alias('begin'),\n",
        "    F.expr(\"cols['2']\").alias('end'),\n",
        "    F.expr(\"cols['3']['entity']\").alias('entity'),\n",
        "    F.expr(\"cols['4']['resolved_text']\").alias('RxNorm_description'),\n",
        "    F.expr(\"cols['5']\").alias('RxNorm_code'),\n",
        ").show(truncate=False)"
      ],
      "execution_count": 23,
      "outputs": [
        {
          "output_type": "stream",
          "text": [
            "+-------------+-----+---+---------+----------------------------------------------------+-----------+\n",
            "|chunk        |begin|end|entity   |RxNorm_description                                  |RxNorm_code|\n",
            "+-------------+-----+---+---------+----------------------------------------------------+-----------+\n",
            "|Aspirin      |306  |312|TREATMENT|Aspirin 325 MG Oral Tablet [Buffex]                 |260848     |\n",
            "|Humulin N    |334  |342|TREATMENT|insulin isophane 100 UNT/ML Pen Injector [Novolin N]|2206101    |\n",
            "|insulin      |345  |351|TREATMENT|Oxytocin 10 UNT/ML Injection [Pitocin]              |1791725    |\n",
            "|HCTZ         |370  |373|TREATMENT|Hydrochlorothiazide 50 MG Oral Tablet [Loqua]       |207946     |\n",
            "|Nitroglycerin|387  |399|TREATMENT|Nitroglycerin 0.3 MG Sublingual Tablet [GTN]        |104430     |\n",
            "+-------------+-----+---+---------+----------------------------------------------------+-----------+\n",
            "\n"
          ],
          "name": "stdout"
        }
      ]
    },
    {
      "cell_type": "code",
      "metadata": {
        "colab": {
          "base_uri": "https://localhost:8080/",
          "height": 303
        },
        "id": "vo1cVbwdT3nN",
        "outputId": "cd4bc122-6dd0-45e0-a7f9-a9e1ddf4cb2b"
      },
      "source": [
        "from sparknlp_display import EntityResolverVisualizer\n",
        "\n",
        "vis = EntityResolverVisualizer()\n",
        "\n",
        "## To set custom label colors:\n",
        "vis.set_label_colors({'TREATMENT':'#800080', 'PROBLEM':'#77b5fe'})\n",
        "\n",
        "vis.display(light_result[0], 'ner_chunk', 'resolution', 'document')"
      ],
      "execution_count": 19,
      "outputs": [
        {
          "output_type": "display_data",
          "data": {
            "text/html": [
              "\n",
              "<style>\n",
              "    @import url('https://fonts.googleapis.com/css2?family=Montserrat:wght@300;400;500;600;700&display=swap');\n",
              "    @import url('https://fonts.googleapis.com/css2?family=Vistol Regular:wght@300;400;500;600;700&display=swap');\n",
              "    \n",
              "    .spark-nlp-display-scroll-entities {\n",
              "        border: 1px solid #E7EDF0;\n",
              "        border-radius: 3px;\n",
              "        text-align: justify;\n",
              "        \n",
              "    }\n",
              "    .spark-nlp-display-scroll-entities span {  \n",
              "        font-size: 14px;\n",
              "        line-height: 24px;\n",
              "        color: #536B76;\n",
              "        font-family: 'Montserrat', sans-serif !important;\n",
              "    }\n",
              "    \n",
              "    .spark-nlp-display-entity-wrapper{\n",
              "    \n",
              "        display: inline-grid;\n",
              "        text-align: center;\n",
              "        border-radius: 4px;\n",
              "        margin: 0 2px 5px 2px;\n",
              "        padding: 1px\n",
              "    }\n",
              "    .spark-nlp-display-entity-name{\n",
              "        font-size: 14px;\n",
              "        line-height: 24px;\n",
              "        font-family: 'Montserrat', sans-serif !important;\n",
              "        \n",
              "        background: #f1f2f3;\n",
              "        border-width: medium;\n",
              "        text-align: center;\n",
              "        \n",
              "        font-weight: 400;\n",
              "        \n",
              "        border-radius: 5px;\n",
              "        padding: 2px 5px;\n",
              "        display: block;\n",
              "        margin: 3px 2px;\n",
              "    \n",
              "    }\n",
              "    .spark-nlp-display-entity-type{\n",
              "        font-size: 14px;\n",
              "        line-height: 24px;\n",
              "        color: #ffffff;\n",
              "        font-family: 'Montserrat', sans-serif !important;\n",
              "        \n",
              "        text-transform: uppercase;\n",
              "        \n",
              "        font-weight: 500;\n",
              "\n",
              "        display: block;\n",
              "        padding: 3px 5px;\n",
              "    }\n",
              "    \n",
              "    .spark-nlp-display-entity-resolution{\n",
              "        font-size: 14px;\n",
              "        line-height: 24px;\n",
              "        color: #ffffff;\n",
              "        font-family: 'Vistol Regular', sans-serif !important;\n",
              "        \n",
              "        text-transform: uppercase;\n",
              "        \n",
              "        font-weight: 500;\n",
              "\n",
              "        display: block;\n",
              "        padding: 3px 5px;\n",
              "    }\n",
              "    \n",
              "    .spark-nlp-display-others{\n",
              "        font-size: 14px;\n",
              "        line-height: 24px;\n",
              "        font-family: 'Montserrat', sans-serif !important;\n",
              "        \n",
              "        font-weight: 400;\n",
              "    }\n",
              "\n",
              "</style>\n",
              " <span class=\"spark-nlp-display-others\" style=\"background-color: white\">The patient is a 40-year-old white male who presents with a chief complaint of \"chest pain\". The patient is diabetic and has a prior history of coronary artery disease. The patient presents today stating that his chest pain started yesterday evening and has been somewhat intermittent. He has been advised </span><span class=\"spark-nlp-display-entity-wrapper\" style=\"background-color: #800080B3\"><span class=\"spark-nlp-display-entity-name\">Aspirin </span><span class=\"spark-nlp-display-entity-type\">TREATMENT</span><span class=\"spark-nlp-display-entity-resolution\" style=\"background-color: #800080FF\">260848 </span><span class=\"spark-nlp-display-entity-resolution\" style=\"background-color: #800080CC\">Aspirin 325 MG Oral Tablet [Buffex]</span></span><span class=\"spark-nlp-display-others\" style=\"background-color: white\"> 81 milligrams QDay. </span><span class=\"spark-nlp-display-entity-wrapper\" style=\"background-color: #800080B3\"><span class=\"spark-nlp-display-entity-name\">Humulin N </span><span class=\"spark-nlp-display-entity-type\">TREATMENT</span><span class=\"spark-nlp-display-entity-resolution\" style=\"background-color: #800080FF\">2206101 </span><span class=\"spark-nlp-display-entity-resolution\" style=\"background-color: #800080CC\">insulin isophane 100 UNT/ML Pen Injector [Novolin N]</span></span><span class=\"spark-nlp-display-others\" style=\"background-color: white\">. </span><span class=\"spark-nlp-display-entity-wrapper\" style=\"background-color: #800080B3\"><span class=\"spark-nlp-display-entity-name\">insulin </span><span class=\"spark-nlp-display-entity-type\">TREATMENT</span><span class=\"spark-nlp-display-entity-resolution\" style=\"background-color: #800080FF\">1791725 </span><span class=\"spark-nlp-display-entity-resolution\" style=\"background-color: #800080CC\">Oxytocin 10 UNT/ML Injection [Pitocin]</span></span><span class=\"spark-nlp-display-others\" style=\"background-color: white\"> 50 units in a.m. </span><span class=\"spark-nlp-display-entity-wrapper\" style=\"background-color: #800080B3\"><span class=\"spark-nlp-display-entity-name\">HCTZ </span><span class=\"spark-nlp-display-entity-type\">TREATMENT</span><span class=\"spark-nlp-display-entity-resolution\" style=\"background-color: #800080FF\">207946 </span><span class=\"spark-nlp-display-entity-resolution\" style=\"background-color: #800080CC\">Hydrochlorothiazide 50 MG Oral Tablet [Loqua]</span></span><span class=\"spark-nlp-display-others\" style=\"background-color: white\"> 50 mg QDay. </span><span class=\"spark-nlp-display-entity-wrapper\" style=\"background-color: #800080B3\"><span class=\"spark-nlp-display-entity-name\">Nitroglycerin </span><span class=\"spark-nlp-display-entity-type\">TREATMENT</span><span class=\"spark-nlp-display-entity-resolution\" style=\"background-color: #800080FF\">104430 </span><span class=\"spark-nlp-display-entity-resolution\" style=\"background-color: #800080CC\">Nitroglycerin 0.3 MG Sublingual Tablet [GTN]</span></span><span class=\"spark-nlp-display-others\" style=\"background-color: white\"> 1/150 sublingually PRN chest pain.</span></div>"
            ],
            "text/plain": [
              "<IPython.core.display.HTML object>"
            ]
          },
          "metadata": {
            "tags": []
          }
        }
      ]
    }
  ]
}
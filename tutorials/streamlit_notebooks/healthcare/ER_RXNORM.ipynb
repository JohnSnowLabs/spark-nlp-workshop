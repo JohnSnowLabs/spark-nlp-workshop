{
  "nbformat": 4,
  "nbformat_minor": 0,
  "metadata": {
    "colab": {
      "name": "ER_RXNORM.ipynb",
      "provenance": [],
      "collapsed_sections": [],
      "toc_visible": true
    },
    "kernelspec": {
      "name": "python3",
      "display_name": "Python 3"
    },
    "language_info": {
      "name": "python"
    }
  },
  "cells": [
    {
      "cell_type": "markdown",
      "source": [
        "![JohnSnowLabs](https://nlp.johnsnowlabs.com/assets/images/logo.png)\n",
        "\n",
        "[![Open In Colab](https://colab.research.google.com/assets/colab-badge.svg)](https://colab.research.google.com/github/JohnSnowLabs/spark-nlp-workshop/blob/master/tutorials/streamlit_notebooks/healthcare/ER_RXNORM.ipynb)"
      ],
      "metadata": {
        "id": "DkewGjPcOx6I"
      }
    },
    {
      "cell_type": "markdown",
      "source": [
        "## **Resolve Drugs using the RxNorm taxonomy**"
      ],
      "metadata": {
        "id": "IS3_j-0iQdBV"
      }
    },
    {
      "cell_type": "markdown",
      "source": [
        "To run this yourself, you will need to upload your license keys to the notebook. Just Run The Cell Below in order to do that. Also You can open the file explorer on the left side of the screen and upload license_keys.json to the folder that opens. Otherwise, you can look at the example outputs at the bottom of the notebook."
      ],
      "metadata": {
        "id": "KDkzvQZ_Qamk"
      }
    },
    {
      "cell_type": "markdown",
      "source": [
        "## **Colab Setup**"
      ],
      "metadata": {
        "id": "J4B-wEgRbtvE"
      }
    },
    {
      "cell_type": "code",
      "source": [
        "import json\n",
        "import os\n",
        "\n",
        "from google.colab import files\n",
        "\n",
        "license_keys = files.upload()\n",
        "\n",
        "with open(list(license_keys.keys())[0]) as f:\n",
        "    license_keys = json.load(f)\n",
        "\n",
        "# Defining license key-value pairs as local variables\n",
        "locals().update(license_keys)\n",
        "\n",
        "# Adding license key-value pairs to environment variables\n",
        "os.environ.update(license_keys)"
      ],
      "metadata": {
        "id": "rx48KRRHQb1t"
      },
      "execution_count": null,
      "outputs": []
    },
    {
      "cell_type": "markdown",
      "source": [
        "## **Install dependencies**"
      ],
      "metadata": {
        "id": "GFIaJwf3b49x"
      }
    },
    {
      "cell_type": "code",
      "source": [
        "# Installing pyspark and spark-nlp\n",
        "! pip install --upgrade -q pyspark==3.1.2 spark-nlp==$PUBLIC_VERSION\n",
        "\n",
        "# Installing Spark NLP Healthcare\n",
        "! pip install --upgrade -q spark-nlp-jsl==$JSL_VERSION  --extra-index-url https://pypi.johnsnowlabs.com/$SECRET\n",
        "\n",
        "# Installing Spark NLP Display Library for visualization\n",
        "! pip install -q spark-nlp-display"
      ],
      "metadata": {
        "id": "M4-mJYqjb-eb"
      },
      "execution_count": 3,
      "outputs": []
    },
    {
      "cell_type": "markdown",
      "source": [
        "## **Import dependencies into Python and start the Spark session**"
      ],
      "metadata": {
        "id": "7gKSyPtUcHHW"
      }
    },
    {
      "cell_type": "code",
      "source": [
        "import json\n",
        "import os\n",
        "\n",
        "from pyspark.ml import Pipeline, PipelineModel\n",
        "from pyspark.sql import SparkSession\n",
        "\n",
        "import sparknlp\n",
        "import sparknlp_jsl\n",
        "\n",
        "from sparknlp.annotator import *\n",
        "from sparknlp_jsl.annotator import *\n",
        "from sparknlp.base import *\n",
        "from sparknlp.util import *\n",
        "from sparknlp.pretrained import ResourceDownloader\n",
        "from pyspark.sql import functions as F\n",
        "\n",
        "from sparknlp_display import EntityResolverVisualizer\n",
        "\n",
        "import pandas as pd\n",
        "\n",
        "pd.set_option('display.max_columns', None)  \n",
        "pd.set_option('display.expand_frame_repr', False)\n",
        "pd.set_option('max_colwidth', None)\n",
        "\n",
        "import string\n",
        "import numpy as np\n",
        "\n",
        "params = {\"spark.driver.memory\":\"16G\",\n",
        "          \"spark.kryoserializer.buffer.max\":\"2000M\",\n",
        "          \"spark.driver.maxResultSize\":\"2000M\"}\n",
        "\n",
        "spark = sparknlp_jsl.start(secret = SECRET, params=params)\n",
        "\n",
        "print (\"Spark NLP Version :\", sparknlp.version())\n",
        "print (\"Spark NLP_JSL Version :\", sparknlp_jsl.version())\n",
        "\n",
        "spark"
      ],
      "metadata": {
        "colab": {
          "base_uri": "https://localhost:8080/",
          "height": 244
        },
        "id": "SjV0OjIrcAAH",
        "outputId": "cb02b612-dbf3-4a99-8128-aa1526051276"
      },
      "execution_count": 4,
      "outputs": [
        {
          "output_type": "stream",
          "name": "stdout",
          "text": [
            "Spark NLP Version : 3.4.4\n",
            "Spark NLP_JSL Version : 3.5.2\n"
          ]
        },
        {
          "output_type": "execute_result",
          "data": {
            "text/plain": [
              "<pyspark.sql.session.SparkSession at 0x7f8536ae5b10>"
            ],
            "text/html": [
              "\n",
              "            <div>\n",
              "                <p><b>SparkSession - in-memory</b></p>\n",
              "                \n",
              "        <div>\n",
              "            <p><b>SparkContext</b></p>\n",
              "\n",
              "            <p><a href=\"http://dfb53b998fee:4040\">Spark UI</a></p>\n",
              "\n",
              "            <dl>\n",
              "              <dt>Version</dt>\n",
              "                <dd><code>v3.1.2</code></dd>\n",
              "              <dt>Master</dt>\n",
              "                <dd><code>local[*]</code></dd>\n",
              "              <dt>AppName</dt>\n",
              "                <dd><code>Spark NLP Licensed</code></dd>\n",
              "            </dl>\n",
              "        </div>\n",
              "        \n",
              "            </div>\n",
              "        "
            ]
          },
          "metadata": {},
          "execution_count": 4
        }
      ]
    },
    {
      "cell_type": "markdown",
      "source": [
        "### **🔎 For about models**"
      ],
      "metadata": {
        "id": "n4aVRb9ucNv_"
      }
    },
    {
      "cell_type": "markdown",
      "source": [
        "📌 **sbiobertresolve_rxnorm**--> *This model maps clinical entities and concepts (like drugs/ingredients) to RxNorm codes using sbiobert_base_cased_mli Sentence Bert Embeddings.*\n",
        "\n",
        "\n",
        "📌 **sbiobertresolve_rxnorm_disposition** --> *This model maps medication entities (like drugs/ingredients) to RxNorm codes and their dispositions using sbiobert_base_cased_mli Sentence Bert Embeddings.sbiobertresolve_rxnorm_disposition resolver model must be used with sbiobert_base_cased_mli as embeddings ner_posology as NER model. DRUG set in .setWhiteList().*\n",
        "\n",
        "📌 **sbiobertresolve_rxnorm_augmented_re** --> *This model maps clinical entities and concepts (like drugs/ingredients) to RxNorm codes without specifying the relations between the entities (relations are calculated on the fly inside the annotator) using sbiobert_base_cased_mli Sentence Bert Embeddings (EntityChunkEmbeddings). Embeddings used in this model are calculated with following weights : {\"DRUG\": 0.8, \"STRENGTH\": 0.2, \"ROUTE\": 0.2, \"FORM\": 0.2} . EntityChunkEmbeddings with those weights are required in the pipeline to get best result.*\n",
        "\n"
      ],
      "metadata": {
        "id": "pB2qHxOlcRo-"
      }
    },
    {
      "cell_type": "markdown",
      "source": [
        "### **🔎 Helper Function**\n"
      ],
      "metadata": {
        "id": "nw0ehGNmfDYe"
      }
    },
    {
      "cell_type": "code",
      "source": [
        "# returns spark df resolution results\n",
        "\n",
        "def get_codes_from_df(result_df, chunk, output_col, hcc= False):\n",
        "    \n",
        "    \n",
        "    if hcc:\n",
        "        \n",
        "        df = result_df.select(F.explode(F.arrays_zip(chunk+'.result', \n",
        "                                                           chunk+'.metadata', \n",
        "                                                           output_col+'.result', \n",
        "                                                           output_col+'.metadata')).alias(\"cols\")) \\\n",
        "                                     .select(F.expr(\"cols['1']['sentence']\").alias(\"sent_id\"),\n",
        "                                             F.expr(\"cols['0']\").alias(\"ner_chunk\"),\n",
        "                                             F.expr(\"cols['1']['entity']\").alias(\"entity\"), \n",
        "                                             F.expr(\"cols['2']\").alias(\"icd10_code\"),\n",
        "                                             F.expr(\"cols['3']['all_k_results']\").alias(\"all_codes\"),\n",
        "                                             F.expr(\"cols['3']['all_k_resolutions']\").alias(\"resolutions\"),\n",
        "                                             F.expr(\"cols['3']['all_k_aux_labels']\").alias(\"hcc_list\")).toPandas()\n",
        "\n",
        "\n",
        "\n",
        "        codes = []\n",
        "        resolutions = []\n",
        "        hcc_all = []\n",
        "\n",
        "        for code, resolution, hcc in zip(df['all_codes'], df['resolutions'], df['hcc_list']):\n",
        "\n",
        "            codes.append(code.split(':::'))\n",
        "            resolutions.append(resolution.split(':::'))\n",
        "            hcc_all.append(hcc.split(\":::\"))\n",
        "\n",
        "        df['all_codes'] = codes  \n",
        "        df['resolutions'] = resolutions\n",
        "        df['hcc_list'] = hcc_all\n",
        "        \n",
        "    else:\n",
        "                       \n",
        "        df = result_df.select(F.explode(F.arrays_zip(chunk+'.result', \n",
        "                                                           chunk+'.metadata', \n",
        "                                                           output_col+'.result', \n",
        "                                                           output_col+'.metadata')).alias(\"cols\")) \\\n",
        "                                     .select(F.expr(\"cols['1']['sentence']\").alias(\"sent_id\"),\n",
        "                                             F.expr(\"cols['0']\").alias(\"ner_chunk\"),\n",
        "                                             F.expr(\"cols['1']['entity']\").alias(\"entity\"), \n",
        "                                             F.expr(\"cols['2']\").alias(f\"{output_col}\"),\n",
        "                                             F.expr(\"cols['3']['all_k_results']\").alias(\"all_codes\"),\n",
        "                                             F.expr(\"cols['3']['all_k_resolutions']\").alias(\"resolutions\")).toPandas()\n",
        "\n",
        "\n",
        "\n",
        "        codes = []\n",
        "        resolutions = []\n",
        "\n",
        "        for code, resolution in zip(df['all_codes'], df['resolutions']):\n",
        "\n",
        "            codes.append(code.split(':::'))\n",
        "            resolutions.append(resolution.split(':::'))\n",
        "\n",
        "        df['all_codes'] = codes  \n",
        "        df['resolutions'] = resolutions\n",
        "        \n",
        "    \n",
        "    return df"
      ],
      "metadata": {
        "id": "F2Rx6WmtqsPH"
      },
      "execution_count": 5,
      "outputs": []
    },
    {
      "cell_type": "markdown",
      "source": [
        "# **📌 \"sbiobertresolve_rxnorm\" model**"
      ],
      "metadata": {
        "id": "5ujahtDoiJXy"
      }
    },
    {
      "cell_type": "markdown",
      "source": [
        "### **🔎Define Spark NLP pipeline**"
      ],
      "metadata": {
        "id": "6ysJAMTLfcnO"
      }
    },
    {
      "cell_type": "code",
      "source": [
        "documentAssembler = DocumentAssembler()\\\n",
        "      .setInputCol(\"text\")\\\n",
        "      .setOutputCol(\"document\")\n",
        "'''\n",
        "drug_normalizer = DrugNormalizer() \\\n",
        "      .setInputCols(\"document\") \\\n",
        "      .setOutputCol(\"drug_normalized\") \\\n",
        "      .setPolicy('all')'''\n",
        "\n",
        "sentenceDetector = SentenceDetectorDLModel.pretrained()\\\n",
        "      .setInputCols([\"document\"])\\\n",
        "      .setOutputCol(\"sentence\")\n",
        "\n",
        "tokenizer = Tokenizer()\\\n",
        "      .setInputCols([\"sentence\"])\\\n",
        "      .setOutputCol(\"token\")\\\n",
        "\n",
        "word_embeddings = WordEmbeddingsModel.pretrained(\"embeddings_clinical\", \"en\", \"clinical/models\")\\\n",
        "      .setInputCols([\"sentence\", \"token\"])\\\n",
        "      .setOutputCol(\"embeddings\")\n",
        "\n",
        "posology_ner = MedicalNerModel.pretrained(\"ner_posology\", \"en\", \"clinical/models\") \\\n",
        "      .setInputCols([\"sentence\", \"token\", \"embeddings\"]) \\\n",
        "      .setOutputCol(\"ner\")\n",
        "\n",
        "ner_converter = NerConverter() \\\n",
        "      .setInputCols([\"sentence\", \"token\", \"ner\"]) \\\n",
        "      .setOutputCol(\"ner_chunk\")\\\n",
        "      .setWhiteList(['DRUG'])\n",
        "\n",
        "c2doc = Chunk2Doc()\\\n",
        "      .setInputCols(\"ner_chunk\")\\\n",
        "      .setOutputCol(\"ner_chunk_doc\") \n",
        "\n",
        "sbert_embedder = BertSentenceEmbeddings\\\n",
        "      .pretrained(\"sbiobert_base_cased_mli\",'en','clinical/models')\\\n",
        "      .setInputCols([\"ner_chunk_doc\"])\\\n",
        "      .setOutputCol(\"sbert_embeddings\")\n",
        "\n",
        "rxnorm_resolver = SentenceEntityResolverModel.pretrained(\"sbiobertresolve_rxnorm\",\"en\", \"clinical/models\") \\\n",
        "      .setInputCols([\"ner_chunk_doc\", \"sbert_embeddings\"]) \\\n",
        "      .setOutputCol(\"rxnorm_code\")\\\n",
        "      .setDistanceFunction(\"EUCLIDEAN\")\n",
        "\n",
        "resolver_pipeline = Pipeline(\n",
        "    stages = [\n",
        "        documentAssembler,\n",
        "        #drug_normalizer,\n",
        "        sentenceDetector,\n",
        "        tokenizer,\n",
        "        word_embeddings,\n",
        "        posology_ner,\n",
        "        ner_converter,\n",
        "        c2doc,\n",
        "        sbert_embedder,\n",
        "        rxnorm_resolver])\n",
        "\n",
        "data_ner = spark.createDataFrame([[\"\"]]).toDF(\"text\")\n",
        "\n",
        "model = resolver_pipeline.fit(data_ner)"
      ],
      "metadata": {
        "colab": {
          "base_uri": "https://localhost:8080/"
        },
        "id": "BDsHfpMEfZmR",
        "outputId": "d4adf069-cb3c-43e3-8b22-b0a3f011b118"
      },
      "execution_count": 5,
      "outputs": [
        {
          "output_type": "stream",
          "name": "stdout",
          "text": [
            "sentence_detector_dl download started this may take some time.\n",
            "Approximate size to download 354.6 KB\n",
            "[OK!]\n",
            "embeddings_clinical download started this may take some time.\n",
            "Approximate size to download 1.6 GB\n",
            "[OK!]\n",
            "ner_posology download started this may take some time.\n",
            "[OK!]\n",
            "sbiobert_base_cased_mli download started this may take some time.\n",
            "Approximate size to download 384.3 MB\n",
            "[OK!]\n",
            "sbiobertresolve_rxnorm download started this may take some time.\n",
            "[OK!]\n"
          ]
        }
      ]
    },
    {
      "cell_type": "code",
      "source": [
        "sample_text = \"\"\"The patient is a 40-year-old white male who presents with a chief complaint of \"chest pain\". The patient is diabetic and has a prior history of coronary artery disease. The patient presents today stating that his chest pain started yesterday evening and has been somewhat intermittent. He has been advised Aspirin 81 milligrams QDay. Humulin N. insulin 50 units in a.m. Hydrochlorothiazide 50 mg QDay. Nitroglycerin 1/150 sublingually PRN chest pain.\"\"\"\n",
        "\n",
        "clinical_note_df = spark.createDataFrame([[sample_text]]).toDF(\"text\")\n",
        "\n",
        "rxnorm_result = model.transform(clinical_note_df)"
      ],
      "metadata": {
        "id": "Z69rUpeWqwxM"
      },
      "execution_count": 6,
      "outputs": []
    },
    {
      "cell_type": "code",
      "source": [
        "res_pd = get_codes_from_df(rxnorm_result, 'ner_chunk', 'rxnorm_code', hcc=False)"
      ],
      "metadata": {
        "id": "R2FtclDWrHwo"
      },
      "execution_count": 7,
      "outputs": []
    },
    {
      "cell_type": "code",
      "source": [
        "res_pd.head(10)"
      ],
      "metadata": {
        "colab": {
          "base_uri": "https://localhost:8080/",
          "height": 640
        },
        "id": "-JYiv72Cs9O0",
        "outputId": "c5e32328-e176-4733-f7a6-488b0f5f6ba5"
      },
      "execution_count": 8,
      "outputs": [
        {
          "output_type": "execute_result",
          "data": {
            "text/plain": [
              "  sent_id            ner_chunk entity rxnorm_code                                                                                                                                                                                                    all_codes                                                                                                                                                                                                                                                                                                                                                                                                                                                                                                                                                                                                                                                                                                       resolutions\n",
              "0       3              Aspirin   DRUG        1191  [1191, 405403, 218266, 215448, 215568, 1154070, 215803, 1154069, 215436, 216110, 215444, 202547, 724441, 1535483, 375972, 370941, 1182756, 1186642, 215452, 1294937, 1154068, 215434, 1363743, 379497, 611]                                                                                                                                                                                                                                          [aspirin, ysp aspirin, med aspirin, aspirin-antacid, bayer aspirin, aspirin pill, ctd aspirin, aspirin oral product, buffered aspirin, coated aspirin, aspirin lo-dose, empirin, anacin aspirin regimen, aspirin oral strip, aspirin oral solution, aspirin injectable solution, med aspirin oral product, ysp aspirin oral product, aspirtab, aspirin chewable product, aspirin oral liquid product, aspir-trin, flanax aspirin, aspirin oral powder, aluminum aspirin]\n",
              "1       4            Humulin N   DRUG       92880        [92880, 218686, 92879, 261588, 92881, 1372744, 1720602, 1723758, 539898, 892767, 7550, 227449, 657414, 218621, 218741, 1099270, 218644, 542008, 152098, 218589, 31538, 89721, 218564, 134802, 353501]                                                                                                                                                                                                                                                                                                                                                                                                                                                               [humulin n, neotricin hc, humulin l, nabi-hb, humulin r, humulin, nucala, ninlaro, nudal hd, nauzene, nubain, navane, nariz hc, nasarel, nilandron, nulecit, navogan, numonyl, natrilix, nallpen, naringin, nitromersol, naftin, naropin, neulasta]\n",
              "2       4              insulin   DRUG        5856        [5856, 484319, 139825, 1740938, 274783, 86009, 1605101, 5924, 1670007, 314683, 542029, 51428, 92972, 400008, 1086383, 9627, 221110, 1160696, 1157461, 485206, 485207, 84959, 631657, 1803887, 202559]                                                                                                                                                                                                                           [insulin, insulin detemir, insulin detemir, insulin argine, insulin glargine, insulin lispro, insulin isophane, inulin, insulin degludec, lente insulin, human, insulase, insulin aspart, human, insta-glucose, insulin glulisine, human, enfamil glucose, secretin, ultralente insulin, human, insulin detemir injectable product, insulin lispro injectable product, insulin, glulisine, human, insulin, glulisine, human, imiglucerase, insulin human, rdna origin, adlyxin, imuran]\n",
              "3       5  Hydrochlorothiazide   DRUG        5487      [5487, 1162786, 2396, 91217, 203165, 82027, 1162785, 1360720, 1162787, 91135, 297716, 235450, 1731061, 2197879, 1311672, 370637, 236679, 48928, 235752, 235726, 154987, 292726, 221126, 235765, 236297]  [hydrochlorothiazide, hydrochlorothiazide oral product, chlorothiazide, chlorothiazide sodium, thioridazine hydrochloride, hydralazine hydrochloride, hydrochlorothiazide oral liquid product, thonzylamine hydrochloride, hydrochlorothiazide pill, thiothixene hydrochloride, phendimetrazine hydrochloride, tolazoline hydrochloride, chlorothiazide injection, pitolisant hydrochloride, indeloxazine hydrochloride, hydrochlorothiazide oral solution, morazone hydrochloride, detomidine hydrochloride, bepridil hydrochloride, isothipendyl hydrochloride, hydroxyzine hydrochloride, phenylhydrazine hydrochloride, moricizine hydrochloride, benserazide hydrochloride, chlorproethazine hydrochloride]\n",
              "4       6        Nitroglycerin   DRUG        4917     [4917, 360398, 1868493, 1159827, 1159829, 379759, 1159830, 1159826, 377109, 218753, 1295349, 1295590, 202516, 202525, 7393, 705128, 7441, 151175, 218750, 379731, 1159828, 218734, 378657, 7476, 202508]                                                                                                                               [nitroglycerin, able brand of nitroglycerin, nitroglycerin injection, nitroglycerin mucosal product, nitroglycerin oral product, nitromin brand of nitroglycerin, nitroglycerin pill, nitroglycerin injectable product, nitroglycerin injectable solution, nitropress, nitroglycerin chewable product, nitroglycerin buccal product, nitro-bid, nitrostat, niacin, nitroglycerin mucosal spray, nitrendipine, nitrocine, nitrogard, nitroglycerin injectable solution [nitrocine], nitroglycerin oral liquid product, nicotrol, nitroglycerin oral spray, nitroprusside, nitro-dur]"
            ],
            "text/html": [
              "\n",
              "  <div id=\"df-ce36d2f4-989d-481d-8d5f-aedf11c4dcc2\">\n",
              "    <div class=\"colab-df-container\">\n",
              "      <div>\n",
              "<style scoped>\n",
              "    .dataframe tbody tr th:only-of-type {\n",
              "        vertical-align: middle;\n",
              "    }\n",
              "\n",
              "    .dataframe tbody tr th {\n",
              "        vertical-align: top;\n",
              "    }\n",
              "\n",
              "    .dataframe thead th {\n",
              "        text-align: right;\n",
              "    }\n",
              "</style>\n",
              "<table border=\"1\" class=\"dataframe\">\n",
              "  <thead>\n",
              "    <tr style=\"text-align: right;\">\n",
              "      <th></th>\n",
              "      <th>sent_id</th>\n",
              "      <th>ner_chunk</th>\n",
              "      <th>entity</th>\n",
              "      <th>rxnorm_code</th>\n",
              "      <th>all_codes</th>\n",
              "      <th>resolutions</th>\n",
              "    </tr>\n",
              "  </thead>\n",
              "  <tbody>\n",
              "    <tr>\n",
              "      <th>0</th>\n",
              "      <td>3</td>\n",
              "      <td>Aspirin</td>\n",
              "      <td>DRUG</td>\n",
              "      <td>1191</td>\n",
              "      <td>[1191, 405403, 218266, 215448, 215568, 1154070, 215803, 1154069, 215436, 216110, 215444, 202547, 724441, 1535483, 375972, 370941, 1182756, 1186642, 215452, 1294937, 1154068, 215434, 1363743, 379497, 611]</td>\n",
              "      <td>[aspirin, ysp aspirin, med aspirin, aspirin-antacid, bayer aspirin, aspirin pill, ctd aspirin, aspirin oral product, buffered aspirin, coated aspirin, aspirin lo-dose, empirin, anacin aspirin regimen, aspirin oral strip, aspirin oral solution, aspirin injectable solution, med aspirin oral product, ysp aspirin oral product, aspirtab, aspirin chewable product, aspirin oral liquid product, aspir-trin, flanax aspirin, aspirin oral powder, aluminum aspirin]</td>\n",
              "    </tr>\n",
              "    <tr>\n",
              "      <th>1</th>\n",
              "      <td>4</td>\n",
              "      <td>Humulin N</td>\n",
              "      <td>DRUG</td>\n",
              "      <td>92880</td>\n",
              "      <td>[92880, 218686, 92879, 261588, 92881, 1372744, 1720602, 1723758, 539898, 892767, 7550, 227449, 657414, 218621, 218741, 1099270, 218644, 542008, 152098, 218589, 31538, 89721, 218564, 134802, 353501]</td>\n",
              "      <td>[humulin n, neotricin hc, humulin l, nabi-hb, humulin r, humulin, nucala, ninlaro, nudal hd, nauzene, nubain, navane, nariz hc, nasarel, nilandron, nulecit, navogan, numonyl, natrilix, nallpen, naringin, nitromersol, naftin, naropin, neulasta]</td>\n",
              "    </tr>\n",
              "    <tr>\n",
              "      <th>2</th>\n",
              "      <td>4</td>\n",
              "      <td>insulin</td>\n",
              "      <td>DRUG</td>\n",
              "      <td>5856</td>\n",
              "      <td>[5856, 484319, 139825, 1740938, 274783, 86009, 1605101, 5924, 1670007, 314683, 542029, 51428, 92972, 400008, 1086383, 9627, 221110, 1160696, 1157461, 485206, 485207, 84959, 631657, 1803887, 202559]</td>\n",
              "      <td>[insulin, insulin detemir, insulin detemir, insulin argine, insulin glargine, insulin lispro, insulin isophane, inulin, insulin degludec, lente insulin, human, insulase, insulin aspart, human, insta-glucose, insulin glulisine, human, enfamil glucose, secretin, ultralente insulin, human, insulin detemir injectable product, insulin lispro injectable product, insulin, glulisine, human, insulin, glulisine, human, imiglucerase, insulin human, rdna origin, adlyxin, imuran]</td>\n",
              "    </tr>\n",
              "    <tr>\n",
              "      <th>3</th>\n",
              "      <td>5</td>\n",
              "      <td>Hydrochlorothiazide</td>\n",
              "      <td>DRUG</td>\n",
              "      <td>5487</td>\n",
              "      <td>[5487, 1162786, 2396, 91217, 203165, 82027, 1162785, 1360720, 1162787, 91135, 297716, 235450, 1731061, 2197879, 1311672, 370637, 236679, 48928, 235752, 235726, 154987, 292726, 221126, 235765, 236297]</td>\n",
              "      <td>[hydrochlorothiazide, hydrochlorothiazide oral product, chlorothiazide, chlorothiazide sodium, thioridazine hydrochloride, hydralazine hydrochloride, hydrochlorothiazide oral liquid product, thonzylamine hydrochloride, hydrochlorothiazide pill, thiothixene hydrochloride, phendimetrazine hydrochloride, tolazoline hydrochloride, chlorothiazide injection, pitolisant hydrochloride, indeloxazine hydrochloride, hydrochlorothiazide oral solution, morazone hydrochloride, detomidine hydrochloride, bepridil hydrochloride, isothipendyl hydrochloride, hydroxyzine hydrochloride, phenylhydrazine hydrochloride, moricizine hydrochloride, benserazide hydrochloride, chlorproethazine hydrochloride]</td>\n",
              "    </tr>\n",
              "    <tr>\n",
              "      <th>4</th>\n",
              "      <td>6</td>\n",
              "      <td>Nitroglycerin</td>\n",
              "      <td>DRUG</td>\n",
              "      <td>4917</td>\n",
              "      <td>[4917, 360398, 1868493, 1159827, 1159829, 379759, 1159830, 1159826, 377109, 218753, 1295349, 1295590, 202516, 202525, 7393, 705128, 7441, 151175, 218750, 379731, 1159828, 218734, 378657, 7476, 202508]</td>\n",
              "      <td>[nitroglycerin, able brand of nitroglycerin, nitroglycerin injection, nitroglycerin mucosal product, nitroglycerin oral product, nitromin brand of nitroglycerin, nitroglycerin pill, nitroglycerin injectable product, nitroglycerin injectable solution, nitropress, nitroglycerin chewable product, nitroglycerin buccal product, nitro-bid, nitrostat, niacin, nitroglycerin mucosal spray, nitrendipine, nitrocine, nitrogard, nitroglycerin injectable solution [nitrocine], nitroglycerin oral liquid product, nicotrol, nitroglycerin oral spray, nitroprusside, nitro-dur]</td>\n",
              "    </tr>\n",
              "  </tbody>\n",
              "</table>\n",
              "</div>\n",
              "      <button class=\"colab-df-convert\" onclick=\"convertToInteractive('df-ce36d2f4-989d-481d-8d5f-aedf11c4dcc2')\"\n",
              "              title=\"Convert this dataframe to an interactive table.\"\n",
              "              style=\"display:none;\">\n",
              "        \n",
              "  <svg xmlns=\"http://www.w3.org/2000/svg\" height=\"24px\"viewBox=\"0 0 24 24\"\n",
              "       width=\"24px\">\n",
              "    <path d=\"M0 0h24v24H0V0z\" fill=\"none\"/>\n",
              "    <path d=\"M18.56 5.44l.94 2.06.94-2.06 2.06-.94-2.06-.94-.94-2.06-.94 2.06-2.06.94zm-11 1L8.5 8.5l.94-2.06 2.06-.94-2.06-.94L8.5 2.5l-.94 2.06-2.06.94zm10 10l.94 2.06.94-2.06 2.06-.94-2.06-.94-.94-2.06-.94 2.06-2.06.94z\"/><path d=\"M17.41 7.96l-1.37-1.37c-.4-.4-.92-.59-1.43-.59-.52 0-1.04.2-1.43.59L10.3 9.45l-7.72 7.72c-.78.78-.78 2.05 0 2.83L4 21.41c.39.39.9.59 1.41.59.51 0 1.02-.2 1.41-.59l7.78-7.78 2.81-2.81c.8-.78.8-2.07 0-2.86zM5.41 20L4 18.59l7.72-7.72 1.47 1.35L5.41 20z\"/>\n",
              "  </svg>\n",
              "      </button>\n",
              "      \n",
              "  <style>\n",
              "    .colab-df-container {\n",
              "      display:flex;\n",
              "      flex-wrap:wrap;\n",
              "      gap: 12px;\n",
              "    }\n",
              "\n",
              "    .colab-df-convert {\n",
              "      background-color: #E8F0FE;\n",
              "      border: none;\n",
              "      border-radius: 50%;\n",
              "      cursor: pointer;\n",
              "      display: none;\n",
              "      fill: #1967D2;\n",
              "      height: 32px;\n",
              "      padding: 0 0 0 0;\n",
              "      width: 32px;\n",
              "    }\n",
              "\n",
              "    .colab-df-convert:hover {\n",
              "      background-color: #E2EBFA;\n",
              "      box-shadow: 0px 1px 2px rgba(60, 64, 67, 0.3), 0px 1px 3px 1px rgba(60, 64, 67, 0.15);\n",
              "      fill: #174EA6;\n",
              "    }\n",
              "\n",
              "    [theme=dark] .colab-df-convert {\n",
              "      background-color: #3B4455;\n",
              "      fill: #D2E3FC;\n",
              "    }\n",
              "\n",
              "    [theme=dark] .colab-df-convert:hover {\n",
              "      background-color: #434B5C;\n",
              "      box-shadow: 0px 1px 3px 1px rgba(0, 0, 0, 0.15);\n",
              "      filter: drop-shadow(0px 1px 2px rgba(0, 0, 0, 0.3));\n",
              "      fill: #FFFFFF;\n",
              "    }\n",
              "  </style>\n",
              "\n",
              "      <script>\n",
              "        const buttonEl =\n",
              "          document.querySelector('#df-ce36d2f4-989d-481d-8d5f-aedf11c4dcc2 button.colab-df-convert');\n",
              "        buttonEl.style.display =\n",
              "          google.colab.kernel.accessAllowed ? 'block' : 'none';\n",
              "\n",
              "        async function convertToInteractive(key) {\n",
              "          const element = document.querySelector('#df-ce36d2f4-989d-481d-8d5f-aedf11c4dcc2');\n",
              "          const dataTable =\n",
              "            await google.colab.kernel.invokeFunction('convertToInteractive',\n",
              "                                                     [key], {});\n",
              "          if (!dataTable) return;\n",
              "\n",
              "          const docLinkHtml = 'Like what you see? Visit the ' +\n",
              "            '<a target=\"_blank\" href=https://colab.research.google.com/notebooks/data_table.ipynb>data table notebook</a>'\n",
              "            + ' to learn more about interactive tables.';\n",
              "          element.innerHTML = '';\n",
              "          dataTable['output_type'] = 'display_data';\n",
              "          await google.colab.output.renderOutput(dataTable, element);\n",
              "          const docLink = document.createElement('div');\n",
              "          docLink.innerHTML = docLinkHtml;\n",
              "          element.appendChild(docLink);\n",
              "        }\n",
              "      </script>\n",
              "    </div>\n",
              "  </div>\n",
              "  "
            ]
          },
          "metadata": {},
          "execution_count": 8
        }
      ]
    },
    {
      "cell_type": "code",
      "source": [
        "light_model = LightPipeline(model)\n",
        "light_result = light_model.fullAnnotate(sample_text)\n",
        "\n",
        "er_vis = EntityResolverVisualizer()\n",
        "\n",
        "er_vis.display(light_result[0],\n",
        "               label_col='ner_chunk',\n",
        "               resolution_col = 'rxnorm_code',\n",
        "               document_col='document'\n",
        "               )"
      ],
      "metadata": {
        "colab": {
          "base_uri": "https://localhost:8080/",
          "height": 192
        },
        "id": "XIgNeWVdtuNN",
        "outputId": "586620ab-d188-47a6-9b16-5c9ba69b29b4"
      },
      "execution_count": 9,
      "outputs": [
        {
          "output_type": "display_data",
          "data": {
            "text/plain": [
              "<IPython.core.display.HTML object>"
            ],
            "text/html": [
              "\n",
              "<style>\n",
              "    @import url('https://fonts.googleapis.com/css2?family=Montserrat:wght@300;400;500;600;700&display=swap');\n",
              "    @import url('https://fonts.googleapis.com/css2?family=Vistol Regular:wght@300;400;500;600;700&display=swap');\n",
              "    \n",
              "    .spark-nlp-display-scroll-entities {\n",
              "        border: 1px solid #E7EDF0;\n",
              "        border-radius: 3px;\n",
              "        text-align: justify;\n",
              "        \n",
              "    }\n",
              "    .spark-nlp-display-scroll-entities span {  \n",
              "        font-size: 14px;\n",
              "        line-height: 24px;\n",
              "        color: #536B76;\n",
              "        font-family: 'Montserrat', sans-serif !important;\n",
              "    }\n",
              "    \n",
              "    .spark-nlp-display-entity-wrapper{\n",
              "    \n",
              "        display: inline-grid;\n",
              "        text-align: center;\n",
              "        border-radius: 4px;\n",
              "        margin: 0 2px 5px 2px;\n",
              "        padding: 1px\n",
              "    }\n",
              "    .spark-nlp-display-entity-name{\n",
              "        font-size: 14px;\n",
              "        line-height: 24px;\n",
              "        font-family: 'Montserrat', sans-serif !important;\n",
              "        \n",
              "        background: #f1f2f3;\n",
              "        border-width: medium;\n",
              "        text-align: center;\n",
              "        \n",
              "        font-weight: 400;\n",
              "        \n",
              "        border-radius: 5px;\n",
              "        padding: 2px 5px;\n",
              "        display: block;\n",
              "        margin: 3px 2px;\n",
              "    \n",
              "    }\n",
              "    .spark-nlp-display-entity-type{\n",
              "        font-size: 14px;\n",
              "        line-height: 24px;\n",
              "        color: #ffffff;\n",
              "        font-family: 'Montserrat', sans-serif !important;\n",
              "        \n",
              "        text-transform: uppercase;\n",
              "        \n",
              "        font-weight: 500;\n",
              "\n",
              "        display: block;\n",
              "        padding: 3px 5px;\n",
              "    }\n",
              "    \n",
              "    .spark-nlp-display-entity-resolution{\n",
              "        font-size: 14px;\n",
              "        line-height: 24px;\n",
              "        color: #ffffff;\n",
              "        font-family: 'Vistol Regular', sans-serif !important;\n",
              "        \n",
              "        text-transform: uppercase;\n",
              "        \n",
              "        font-weight: 500;\n",
              "\n",
              "        display: block;\n",
              "        padding: 3px 5px;\n",
              "    }\n",
              "    \n",
              "    .spark-nlp-display-others{\n",
              "        font-size: 14px;\n",
              "        line-height: 24px;\n",
              "        font-family: 'Montserrat', sans-serif !important;\n",
              "        \n",
              "        font-weight: 400;\n",
              "    }\n",
              "\n",
              "</style>\n",
              " <span class=\"spark-nlp-display-others\" style=\"background-color: white\">The patient is a 40-year-old white male who presents with a chief complaint of \"chest pain\". The patient is diabetic and has a prior history of coronary artery disease. The patient presents today stating that his chest pain started yesterday evening and has been somewhat intermittent. He has been advised </span><span class=\"spark-nlp-display-entity-wrapper\" style=\"background-color: #8B668BB3\"><span class=\"spark-nlp-display-entity-name\">Aspirin </span><span class=\"spark-nlp-display-entity-type\">DRUG</span><span class=\"spark-nlp-display-entity-resolution\" style=\"background-color: #8B668BFF\">1191 </span><span class=\"spark-nlp-display-entity-resolution\" style=\"background-color: #8B668BCC\">aspirin</span></span><span class=\"spark-nlp-display-others\" style=\"background-color: white\"> 81 milligrams QDay. </span><span class=\"spark-nlp-display-entity-wrapper\" style=\"background-color: #8B668BB3\"><span class=\"spark-nlp-display-entity-name\">Humulin N </span><span class=\"spark-nlp-display-entity-type\">DRUG</span><span class=\"spark-nlp-display-entity-resolution\" style=\"background-color: #8B668BFF\">92880 </span><span class=\"spark-nlp-display-entity-resolution\" style=\"background-color: #8B668BCC\">humulin n</span></span><span class=\"spark-nlp-display-others\" style=\"background-color: white\">. </span><span class=\"spark-nlp-display-entity-wrapper\" style=\"background-color: #8B668BB3\"><span class=\"spark-nlp-display-entity-name\">insulin </span><span class=\"spark-nlp-display-entity-type\">DRUG</span><span class=\"spark-nlp-display-entity-resolution\" style=\"background-color: #8B668BFF\">5856 </span><span class=\"spark-nlp-display-entity-resolution\" style=\"background-color: #8B668BCC\">insulin</span></span><span class=\"spark-nlp-display-others\" style=\"background-color: white\"> 50 units in a.m. </span><span class=\"spark-nlp-display-entity-wrapper\" style=\"background-color: #8B668BB3\"><span class=\"spark-nlp-display-entity-name\">Hydrochlorothiazide </span><span class=\"spark-nlp-display-entity-type\">DRUG</span><span class=\"spark-nlp-display-entity-resolution\" style=\"background-color: #8B668BFF\">5487 </span><span class=\"spark-nlp-display-entity-resolution\" style=\"background-color: #8B668BCC\">hydrochlorothiazide</span></span><span class=\"spark-nlp-display-others\" style=\"background-color: white\"> 50 mg QDay. </span><span class=\"spark-nlp-display-entity-wrapper\" style=\"background-color: #8B668BB3\"><span class=\"spark-nlp-display-entity-name\">Nitroglycerin </span><span class=\"spark-nlp-display-entity-type\">DRUG</span><span class=\"spark-nlp-display-entity-resolution\" style=\"background-color: #8B668BFF\">4917 </span><span class=\"spark-nlp-display-entity-resolution\" style=\"background-color: #8B668BCC\">nitroglycerin</span></span><span class=\"spark-nlp-display-others\" style=\"background-color: white\"> 1/150 sublingually PRN chest pain.</span></div>"
            ]
          },
          "metadata": {}
        }
      ]
    },
    {
      "cell_type": "markdown",
      "source": [
        "# **📌 \"sbiobertresolve_rxnorm_disposition\" model**"
      ],
      "metadata": {
        "id": "PyBiX_ZDdQvY"
      }
    },
    {
      "cell_type": "markdown",
      "source": [
        "### **🔎Define Spark NLP pipeline**"
      ],
      "metadata": {
        "id": "Jp_91YEhaZjM"
      }
    },
    {
      "cell_type": "code",
      "source": [
        "rxnorm_resolver = SentenceEntityResolverModel.pretrained('sbiobertresolve_rxnorm_disposition', \"en\", \"clinical/models\") \\\n",
        "        .setInputCols([\"ner_chunk\", \"sbert_embeddings\"]) \\\n",
        "        .setOutputCol(\"rxnorm_code\")\\\n",
        "        .setDistanceFunction(\"EUCLIDEAN\")\n",
        "\n",
        "resolver_pipeline = Pipeline(stages = [\n",
        "              documentAssembler,\n",
        "              sentenceDetector,\n",
        "              tokenizer,\n",
        "              word_embeddings,\n",
        "              posology_ner,\n",
        "              ner_converter,\n",
        "              c2doc,\n",
        "              sbert_embedder,\n",
        "              rxnorm_resolver])\n",
        "\n",
        "data_ner = spark.createDataFrame([[\"\"]]).toDF(\"text\")\n",
        "model = resolver_pipeline.fit(data_ner)\n",
        "light_model = LightPipeline(model)"
      ],
      "metadata": {
        "colab": {
          "base_uri": "https://localhost:8080/"
        },
        "id": "FVf_O7tBY5vT",
        "outputId": "7379ba11-7c47-4424-efe8-d068c62cbe50"
      },
      "execution_count": 10,
      "outputs": [
        {
          "output_type": "stream",
          "name": "stdout",
          "text": [
            "sbiobertresolve_rxnorm_disposition download started this may take some time.\n",
            "[OK!]\n"
          ]
        }
      ]
    },
    {
      "cell_type": "code",
      "source": [
        "sample_text = \"\"\"The patient is a 40-year-old white male who presents with a chief complaint of \"chest pain\". The patient is diabetic and has a prior history of coronary artery disease. The patient presents today stating that his chest pain started yesterday evening and has been somewhat intermittent. He has been advised Aspirin 81 milligrams QDay. Humulin N. insulin 50 units in a.m. Hydrochlorothiazide 50 mg QDay. Nitroglycerin 1/150 sublingually PRN chest pain.\"\"\"\n",
        "\n",
        "\n",
        "clinical_note_df = spark.createDataFrame([[sample_text]]).toDF(\"text\")\n",
        "rxnorm_sdf = model.transform(clinical_note_df)"
      ],
      "metadata": {
        "id": "kbi3luOUuc3E"
      },
      "execution_count": 11,
      "outputs": []
    },
    {
      "cell_type": "code",
      "source": [
        "res_pd = get_codes_from_df(rxnorm_sdf, 'ner_chunk', 'rxnorm_code', hcc=False)"
      ],
      "metadata": {
        "id": "KiPqVyueda9p"
      },
      "execution_count": 12,
      "outputs": []
    },
    {
      "cell_type": "code",
      "source": [
        "res_pd.head(10)"
      ],
      "metadata": {
        "colab": {
          "base_uri": "https://localhost:8080/",
          "height": 640
        },
        "id": "J0MSRh56ddJB",
        "outputId": "c604dfed-f265-4fae-f08a-3ee9a48b3232"
      },
      "execution_count": 13,
      "outputs": [
        {
          "output_type": "execute_result",
          "data": {
            "text/plain": [
              "  sent_id            ner_chunk entity rxnorm_code                                                                                                                                                                                                    all_codes                                                                                                                                                                                                                                                                                                                                                                                                                                                                                                                                                                                                                                                                                                       resolutions\n",
              "0       3              Aspirin   DRUG        1191  [1191, 405403, 218266, 215448, 215568, 1154070, 215803, 1154069, 215436, 216110, 215444, 202547, 724441, 1535483, 375972, 370941, 1182756, 1186642, 215452, 1294937, 1154068, 215434, 1363743, 379497, 611]                                                                                                                                                                                                                                          [aspirin, ysp aspirin, med aspirin, aspirin-antacid, bayer aspirin, aspirin pill, ctd aspirin, aspirin oral product, buffered aspirin, coated aspirin, aspirin lo-dose, empirin, anacin aspirin regimen, aspirin oral strip, aspirin oral solution, aspirin injectable solution, med aspirin oral product, ysp aspirin oral product, aspirtab, aspirin chewable product, aspirin oral liquid product, aspir-trin, flanax aspirin, aspirin oral powder, aluminum aspirin]\n",
              "1       4            Humulin N   DRUG       92880        [92880, 218686, 92879, 261588, 92881, 1372744, 1720602, 1723758, 539898, 892767, 7550, 227449, 657414, 218621, 218741, 1099270, 218644, 542008, 152098, 218589, 31538, 89721, 218564, 134802, 353501]                                                                                                                                                                                                                                                                                                                                                                                                                                                               [humulin n, neotricin hc, humulin l, nabi-hb, humulin r, humulin, nucala, ninlaro, nudal hd, nauzene, nubain, navane, nariz hc, nasarel, nilandron, nulecit, navogan, numonyl, natrilix, nallpen, naringin, nitromersol, naftin, naropin, neulasta]\n",
              "2       4              insulin   DRUG        5856        [5856, 484319, 139825, 1740938, 274783, 86009, 1605101, 5924, 1670007, 314683, 542029, 51428, 92972, 400008, 1086383, 9627, 221110, 1160696, 1157461, 485206, 485207, 84959, 631657, 1803887, 202559]                                                                                                                                                                                                                           [insulin, insulin detemir, insulin detemir, insulin argine, insulin glargine, insulin lispro, insulin isophane, inulin, insulin degludec, lente insulin, human, insulase, insulin aspart, human, insta-glucose, insulin glulisine, human, enfamil glucose, secretin, ultralente insulin, human, insulin detemir injectable product, insulin lispro injectable product, insulin, glulisine, human, insulin, glulisine, human, imiglucerase, insulin human, rdna origin, adlyxin, imuran]\n",
              "3       5  Hydrochlorothiazide   DRUG        5487      [5487, 1162786, 2396, 91217, 203165, 82027, 1162785, 1360720, 1162787, 91135, 297716, 235450, 1731061, 2197879, 1311672, 370637, 236679, 48928, 235752, 235726, 154987, 292726, 221126, 235765, 236297]  [hydrochlorothiazide, hydrochlorothiazide oral product, chlorothiazide, chlorothiazide sodium, thioridazine hydrochloride, hydralazine hydrochloride, hydrochlorothiazide oral liquid product, thonzylamine hydrochloride, hydrochlorothiazide pill, thiothixene hydrochloride, phendimetrazine hydrochloride, tolazoline hydrochloride, chlorothiazide injection, pitolisant hydrochloride, indeloxazine hydrochloride, hydrochlorothiazide oral solution, morazone hydrochloride, detomidine hydrochloride, bepridil hydrochloride, isothipendyl hydrochloride, hydroxyzine hydrochloride, phenylhydrazine hydrochloride, moricizine hydrochloride, benserazide hydrochloride, chlorproethazine hydrochloride]\n",
              "4       6        Nitroglycerin   DRUG        4917     [4917, 360398, 1868493, 1159827, 1159829, 379759, 1159830, 1159826, 377109, 218753, 1295349, 1295590, 202516, 202525, 7393, 705128, 7441, 151175, 218750, 379731, 1159828, 218734, 378657, 7476, 202508]                                                                                                                               [nitroglycerin, able brand of nitroglycerin, nitroglycerin injection, nitroglycerin mucosal product, nitroglycerin oral product, nitromin brand of nitroglycerin, nitroglycerin pill, nitroglycerin injectable product, nitroglycerin injectable solution, nitropress, nitroglycerin chewable product, nitroglycerin buccal product, nitro-bid, nitrostat, niacin, nitroglycerin mucosal spray, nitrendipine, nitrocine, nitrogard, nitroglycerin injectable solution [nitrocine], nitroglycerin oral liquid product, nicotrol, nitroglycerin oral spray, nitroprusside, nitro-dur]"
            ],
            "text/html": [
              "\n",
              "  <div id=\"df-84cacfd9-3f18-4474-ae44-fe85055cb7f1\">\n",
              "    <div class=\"colab-df-container\">\n",
              "      <div>\n",
              "<style scoped>\n",
              "    .dataframe tbody tr th:only-of-type {\n",
              "        vertical-align: middle;\n",
              "    }\n",
              "\n",
              "    .dataframe tbody tr th {\n",
              "        vertical-align: top;\n",
              "    }\n",
              "\n",
              "    .dataframe thead th {\n",
              "        text-align: right;\n",
              "    }\n",
              "</style>\n",
              "<table border=\"1\" class=\"dataframe\">\n",
              "  <thead>\n",
              "    <tr style=\"text-align: right;\">\n",
              "      <th></th>\n",
              "      <th>sent_id</th>\n",
              "      <th>ner_chunk</th>\n",
              "      <th>entity</th>\n",
              "      <th>rxnorm_code</th>\n",
              "      <th>all_codes</th>\n",
              "      <th>resolutions</th>\n",
              "    </tr>\n",
              "  </thead>\n",
              "  <tbody>\n",
              "    <tr>\n",
              "      <th>0</th>\n",
              "      <td>3</td>\n",
              "      <td>Aspirin</td>\n",
              "      <td>DRUG</td>\n",
              "      <td>1191</td>\n",
              "      <td>[1191, 405403, 218266, 215448, 215568, 1154070, 215803, 1154069, 215436, 216110, 215444, 202547, 724441, 1535483, 375972, 370941, 1182756, 1186642, 215452, 1294937, 1154068, 215434, 1363743, 379497, 611]</td>\n",
              "      <td>[aspirin, ysp aspirin, med aspirin, aspirin-antacid, bayer aspirin, aspirin pill, ctd aspirin, aspirin oral product, buffered aspirin, coated aspirin, aspirin lo-dose, empirin, anacin aspirin regimen, aspirin oral strip, aspirin oral solution, aspirin injectable solution, med aspirin oral product, ysp aspirin oral product, aspirtab, aspirin chewable product, aspirin oral liquid product, aspir-trin, flanax aspirin, aspirin oral powder, aluminum aspirin]</td>\n",
              "    </tr>\n",
              "    <tr>\n",
              "      <th>1</th>\n",
              "      <td>4</td>\n",
              "      <td>Humulin N</td>\n",
              "      <td>DRUG</td>\n",
              "      <td>92880</td>\n",
              "      <td>[92880, 218686, 92879, 261588, 92881, 1372744, 1720602, 1723758, 539898, 892767, 7550, 227449, 657414, 218621, 218741, 1099270, 218644, 542008, 152098, 218589, 31538, 89721, 218564, 134802, 353501]</td>\n",
              "      <td>[humulin n, neotricin hc, humulin l, nabi-hb, humulin r, humulin, nucala, ninlaro, nudal hd, nauzene, nubain, navane, nariz hc, nasarel, nilandron, nulecit, navogan, numonyl, natrilix, nallpen, naringin, nitromersol, naftin, naropin, neulasta]</td>\n",
              "    </tr>\n",
              "    <tr>\n",
              "      <th>2</th>\n",
              "      <td>4</td>\n",
              "      <td>insulin</td>\n",
              "      <td>DRUG</td>\n",
              "      <td>5856</td>\n",
              "      <td>[5856, 484319, 139825, 1740938, 274783, 86009, 1605101, 5924, 1670007, 314683, 542029, 51428, 92972, 400008, 1086383, 9627, 221110, 1160696, 1157461, 485206, 485207, 84959, 631657, 1803887, 202559]</td>\n",
              "      <td>[insulin, insulin detemir, insulin detemir, insulin argine, insulin glargine, insulin lispro, insulin isophane, inulin, insulin degludec, lente insulin, human, insulase, insulin aspart, human, insta-glucose, insulin glulisine, human, enfamil glucose, secretin, ultralente insulin, human, insulin detemir injectable product, insulin lispro injectable product, insulin, glulisine, human, insulin, glulisine, human, imiglucerase, insulin human, rdna origin, adlyxin, imuran]</td>\n",
              "    </tr>\n",
              "    <tr>\n",
              "      <th>3</th>\n",
              "      <td>5</td>\n",
              "      <td>Hydrochlorothiazide</td>\n",
              "      <td>DRUG</td>\n",
              "      <td>5487</td>\n",
              "      <td>[5487, 1162786, 2396, 91217, 203165, 82027, 1162785, 1360720, 1162787, 91135, 297716, 235450, 1731061, 2197879, 1311672, 370637, 236679, 48928, 235752, 235726, 154987, 292726, 221126, 235765, 236297]</td>\n",
              "      <td>[hydrochlorothiazide, hydrochlorothiazide oral product, chlorothiazide, chlorothiazide sodium, thioridazine hydrochloride, hydralazine hydrochloride, hydrochlorothiazide oral liquid product, thonzylamine hydrochloride, hydrochlorothiazide pill, thiothixene hydrochloride, phendimetrazine hydrochloride, tolazoline hydrochloride, chlorothiazide injection, pitolisant hydrochloride, indeloxazine hydrochloride, hydrochlorothiazide oral solution, morazone hydrochloride, detomidine hydrochloride, bepridil hydrochloride, isothipendyl hydrochloride, hydroxyzine hydrochloride, phenylhydrazine hydrochloride, moricizine hydrochloride, benserazide hydrochloride, chlorproethazine hydrochloride]</td>\n",
              "    </tr>\n",
              "    <tr>\n",
              "      <th>4</th>\n",
              "      <td>6</td>\n",
              "      <td>Nitroglycerin</td>\n",
              "      <td>DRUG</td>\n",
              "      <td>4917</td>\n",
              "      <td>[4917, 360398, 1868493, 1159827, 1159829, 379759, 1159830, 1159826, 377109, 218753, 1295349, 1295590, 202516, 202525, 7393, 705128, 7441, 151175, 218750, 379731, 1159828, 218734, 378657, 7476, 202508]</td>\n",
              "      <td>[nitroglycerin, able brand of nitroglycerin, nitroglycerin injection, nitroglycerin mucosal product, nitroglycerin oral product, nitromin brand of nitroglycerin, nitroglycerin pill, nitroglycerin injectable product, nitroglycerin injectable solution, nitropress, nitroglycerin chewable product, nitroglycerin buccal product, nitro-bid, nitrostat, niacin, nitroglycerin mucosal spray, nitrendipine, nitrocine, nitrogard, nitroglycerin injectable solution [nitrocine], nitroglycerin oral liquid product, nicotrol, nitroglycerin oral spray, nitroprusside, nitro-dur]</td>\n",
              "    </tr>\n",
              "  </tbody>\n",
              "</table>\n",
              "</div>\n",
              "      <button class=\"colab-df-convert\" onclick=\"convertToInteractive('df-84cacfd9-3f18-4474-ae44-fe85055cb7f1')\"\n",
              "              title=\"Convert this dataframe to an interactive table.\"\n",
              "              style=\"display:none;\">\n",
              "        \n",
              "  <svg xmlns=\"http://www.w3.org/2000/svg\" height=\"24px\"viewBox=\"0 0 24 24\"\n",
              "       width=\"24px\">\n",
              "    <path d=\"M0 0h24v24H0V0z\" fill=\"none\"/>\n",
              "    <path d=\"M18.56 5.44l.94 2.06.94-2.06 2.06-.94-2.06-.94-.94-2.06-.94 2.06-2.06.94zm-11 1L8.5 8.5l.94-2.06 2.06-.94-2.06-.94L8.5 2.5l-.94 2.06-2.06.94zm10 10l.94 2.06.94-2.06 2.06-.94-2.06-.94-.94-2.06-.94 2.06-2.06.94z\"/><path d=\"M17.41 7.96l-1.37-1.37c-.4-.4-.92-.59-1.43-.59-.52 0-1.04.2-1.43.59L10.3 9.45l-7.72 7.72c-.78.78-.78 2.05 0 2.83L4 21.41c.39.39.9.59 1.41.59.51 0 1.02-.2 1.41-.59l7.78-7.78 2.81-2.81c.8-.78.8-2.07 0-2.86zM5.41 20L4 18.59l7.72-7.72 1.47 1.35L5.41 20z\"/>\n",
              "  </svg>\n",
              "      </button>\n",
              "      \n",
              "  <style>\n",
              "    .colab-df-container {\n",
              "      display:flex;\n",
              "      flex-wrap:wrap;\n",
              "      gap: 12px;\n",
              "    }\n",
              "\n",
              "    .colab-df-convert {\n",
              "      background-color: #E8F0FE;\n",
              "      border: none;\n",
              "      border-radius: 50%;\n",
              "      cursor: pointer;\n",
              "      display: none;\n",
              "      fill: #1967D2;\n",
              "      height: 32px;\n",
              "      padding: 0 0 0 0;\n",
              "      width: 32px;\n",
              "    }\n",
              "\n",
              "    .colab-df-convert:hover {\n",
              "      background-color: #E2EBFA;\n",
              "      box-shadow: 0px 1px 2px rgba(60, 64, 67, 0.3), 0px 1px 3px 1px rgba(60, 64, 67, 0.15);\n",
              "      fill: #174EA6;\n",
              "    }\n",
              "\n",
              "    [theme=dark] .colab-df-convert {\n",
              "      background-color: #3B4455;\n",
              "      fill: #D2E3FC;\n",
              "    }\n",
              "\n",
              "    [theme=dark] .colab-df-convert:hover {\n",
              "      background-color: #434B5C;\n",
              "      box-shadow: 0px 1px 3px 1px rgba(0, 0, 0, 0.15);\n",
              "      filter: drop-shadow(0px 1px 2px rgba(0, 0, 0, 0.3));\n",
              "      fill: #FFFFFF;\n",
              "    }\n",
              "  </style>\n",
              "\n",
              "      <script>\n",
              "        const buttonEl =\n",
              "          document.querySelector('#df-84cacfd9-3f18-4474-ae44-fe85055cb7f1 button.colab-df-convert');\n",
              "        buttonEl.style.display =\n",
              "          google.colab.kernel.accessAllowed ? 'block' : 'none';\n",
              "\n",
              "        async function convertToInteractive(key) {\n",
              "          const element = document.querySelector('#df-84cacfd9-3f18-4474-ae44-fe85055cb7f1');\n",
              "          const dataTable =\n",
              "            await google.colab.kernel.invokeFunction('convertToInteractive',\n",
              "                                                     [key], {});\n",
              "          if (!dataTable) return;\n",
              "\n",
              "          const docLinkHtml = 'Like what you see? Visit the ' +\n",
              "            '<a target=\"_blank\" href=https://colab.research.google.com/notebooks/data_table.ipynb>data table notebook</a>'\n",
              "            + ' to learn more about interactive tables.';\n",
              "          element.innerHTML = '';\n",
              "          dataTable['output_type'] = 'display_data';\n",
              "          await google.colab.output.renderOutput(dataTable, element);\n",
              "          const docLink = document.createElement('div');\n",
              "          docLink.innerHTML = docLinkHtml;\n",
              "          element.appendChild(docLink);\n",
              "        }\n",
              "      </script>\n",
              "    </div>\n",
              "  </div>\n",
              "  "
            ]
          },
          "metadata": {},
          "execution_count": 13
        }
      ]
    },
    {
      "cell_type": "code",
      "source": [
        "light_result = light_model.fullAnnotate(sample_text)\n",
        "\n",
        "er_vis = EntityResolverVisualizer()\n",
        "\n",
        "er_vis.display(light_result[0],\n",
        "               label_col='ner_chunk',\n",
        "               resolution_col = 'rxnorm_code',\n",
        "               document_col='document'\n",
        "               )"
      ],
      "metadata": {
        "colab": {
          "base_uri": "https://localhost:8080/",
          "height": 192
        },
        "id": "C1ppOQm5dfJq",
        "outputId": "ae0a2030-65be-463e-c6b6-93118fa0429f"
      },
      "execution_count": 14,
      "outputs": [
        {
          "output_type": "display_data",
          "data": {
            "text/plain": [
              "<IPython.core.display.HTML object>"
            ],
            "text/html": [
              "\n",
              "<style>\n",
              "    @import url('https://fonts.googleapis.com/css2?family=Montserrat:wght@300;400;500;600;700&display=swap');\n",
              "    @import url('https://fonts.googleapis.com/css2?family=Vistol Regular:wght@300;400;500;600;700&display=swap');\n",
              "    \n",
              "    .spark-nlp-display-scroll-entities {\n",
              "        border: 1px solid #E7EDF0;\n",
              "        border-radius: 3px;\n",
              "        text-align: justify;\n",
              "        \n",
              "    }\n",
              "    .spark-nlp-display-scroll-entities span {  \n",
              "        font-size: 14px;\n",
              "        line-height: 24px;\n",
              "        color: #536B76;\n",
              "        font-family: 'Montserrat', sans-serif !important;\n",
              "    }\n",
              "    \n",
              "    .spark-nlp-display-entity-wrapper{\n",
              "    \n",
              "        display: inline-grid;\n",
              "        text-align: center;\n",
              "        border-radius: 4px;\n",
              "        margin: 0 2px 5px 2px;\n",
              "        padding: 1px\n",
              "    }\n",
              "    .spark-nlp-display-entity-name{\n",
              "        font-size: 14px;\n",
              "        line-height: 24px;\n",
              "        font-family: 'Montserrat', sans-serif !important;\n",
              "        \n",
              "        background: #f1f2f3;\n",
              "        border-width: medium;\n",
              "        text-align: center;\n",
              "        \n",
              "        font-weight: 400;\n",
              "        \n",
              "        border-radius: 5px;\n",
              "        padding: 2px 5px;\n",
              "        display: block;\n",
              "        margin: 3px 2px;\n",
              "    \n",
              "    }\n",
              "    .spark-nlp-display-entity-type{\n",
              "        font-size: 14px;\n",
              "        line-height: 24px;\n",
              "        color: #ffffff;\n",
              "        font-family: 'Montserrat', sans-serif !important;\n",
              "        \n",
              "        text-transform: uppercase;\n",
              "        \n",
              "        font-weight: 500;\n",
              "\n",
              "        display: block;\n",
              "        padding: 3px 5px;\n",
              "    }\n",
              "    \n",
              "    .spark-nlp-display-entity-resolution{\n",
              "        font-size: 14px;\n",
              "        line-height: 24px;\n",
              "        color: #ffffff;\n",
              "        font-family: 'Vistol Regular', sans-serif !important;\n",
              "        \n",
              "        text-transform: uppercase;\n",
              "        \n",
              "        font-weight: 500;\n",
              "\n",
              "        display: block;\n",
              "        padding: 3px 5px;\n",
              "    }\n",
              "    \n",
              "    .spark-nlp-display-others{\n",
              "        font-size: 14px;\n",
              "        line-height: 24px;\n",
              "        font-family: 'Montserrat', sans-serif !important;\n",
              "        \n",
              "        font-weight: 400;\n",
              "    }\n",
              "\n",
              "</style>\n",
              " <span class=\"spark-nlp-display-others\" style=\"background-color: white\">The patient is a 40-year-old white male who presents with a chief complaint of \"chest pain\". The patient is diabetic and has a prior history of coronary artery disease. The patient presents today stating that his chest pain started yesterday evening and has been somewhat intermittent. He has been advised </span><span class=\"spark-nlp-display-entity-wrapper\" style=\"background-color: #8B668BB3\"><span class=\"spark-nlp-display-entity-name\">Aspirin </span><span class=\"spark-nlp-display-entity-type\">DRUG</span><span class=\"spark-nlp-display-entity-resolution\" style=\"background-color: #8B668BFF\">1191 </span><span class=\"spark-nlp-display-entity-resolution\" style=\"background-color: #8B668BCC\">aspirin</span></span><span class=\"spark-nlp-display-others\" style=\"background-color: white\"> 81 milligrams QDay. </span><span class=\"spark-nlp-display-entity-wrapper\" style=\"background-color: #8B668BB3\"><span class=\"spark-nlp-display-entity-name\">Humulin N </span><span class=\"spark-nlp-display-entity-type\">DRUG</span><span class=\"spark-nlp-display-entity-resolution\" style=\"background-color: #8B668BFF\">92880 </span><span class=\"spark-nlp-display-entity-resolution\" style=\"background-color: #8B668BCC\">humulin n</span></span><span class=\"spark-nlp-display-others\" style=\"background-color: white\">. </span><span class=\"spark-nlp-display-entity-wrapper\" style=\"background-color: #8B668BB3\"><span class=\"spark-nlp-display-entity-name\">insulin </span><span class=\"spark-nlp-display-entity-type\">DRUG</span><span class=\"spark-nlp-display-entity-resolution\" style=\"background-color: #8B668BFF\">5856 </span><span class=\"spark-nlp-display-entity-resolution\" style=\"background-color: #8B668BCC\">insulin</span></span><span class=\"spark-nlp-display-others\" style=\"background-color: white\"> 50 units in a.m. </span><span class=\"spark-nlp-display-entity-wrapper\" style=\"background-color: #8B668BB3\"><span class=\"spark-nlp-display-entity-name\">Hydrochlorothiazide </span><span class=\"spark-nlp-display-entity-type\">DRUG</span><span class=\"spark-nlp-display-entity-resolution\" style=\"background-color: #8B668BFF\">5487 </span><span class=\"spark-nlp-display-entity-resolution\" style=\"background-color: #8B668BCC\">hydrochlorothiazide</span></span><span class=\"spark-nlp-display-others\" style=\"background-color: white\"> 50 mg QDay. </span><span class=\"spark-nlp-display-entity-wrapper\" style=\"background-color: #8B668BB3\"><span class=\"spark-nlp-display-entity-name\">Nitroglycerin </span><span class=\"spark-nlp-display-entity-type\">DRUG</span><span class=\"spark-nlp-display-entity-resolution\" style=\"background-color: #8B668BFF\">4917 </span><span class=\"spark-nlp-display-entity-resolution\" style=\"background-color: #8B668BCC\">nitroglycerin</span></span><span class=\"spark-nlp-display-others\" style=\"background-color: white\"> 1/150 sublingually PRN chest pain.</span></div>"
            ]
          },
          "metadata": {}
        }
      ]
    },
    {
      "cell_type": "markdown",
      "source": [
        "# **📌 \"sbiobertresolve_rxnorm_augmented_re\" model**"
      ],
      "metadata": {
        "id": "BciIQe58b0BS"
      }
    },
    {
      "cell_type": "markdown",
      "source": [
        "***🔎Check here for more information.***\n",
        "\n",
        "-->https://colab.research.google.com/github/JohnSnowLabs/spark-nlp-workshop/blob/master/tutorials/Certification_Trainings/Healthcare/3.2.Sentence_Entity_Resolvers_with_EntityChunkEmbeddings.ipynb"
      ],
      "metadata": {
        "id": "95u2PxP8rRRe"
      }
    },
    {
      "cell_type": "markdown",
      "source": [
        "### **🔎Define Spark NLP pipeline**"
      ],
      "metadata": {
        "id": "KuSX01pub66a"
      }
    },
    {
      "cell_type": "code",
      "source": [
        "documenter = DocumentAssembler() \\\n",
        "    .setInputCol(\"text\") \\\n",
        "    .setOutputCol(\"document\")\n",
        "\n",
        "sentence_detector = SentenceDetector() \\\n",
        "    .setInputCols(\"document\") \\\n",
        "    .setOutputCol(\"sentence\")\n",
        "\n",
        "tokenizer = Tokenizer() \\\n",
        "    .setInputCols(\"sentence\") \\\n",
        "    .setOutputCol(\"token\")\n",
        "\n",
        "embeddings = WordEmbeddingsModel() \\\n",
        "    .pretrained(\"embeddings_clinical\", \"en\", \"clinical/models\")\\\n",
        "    .setInputCols([\"sentence\", \"token\"])\\\n",
        "    .setOutputCol(\"embeddings\")\n",
        "\n",
        "posology_ner_model = MedicalNerModel()\\\n",
        "    .pretrained(\"ner_posology_large\", \"en\", \"clinical/models\")\\\n",
        "    .setInputCols([\"sentence\", \"token\", \"embeddings\"])\\\n",
        "    .setOutputCol(\"ner\")\n",
        "\n",
        "ner_converter = NerConverterInternal()\\\n",
        "    .setInputCols(\"sentence\", \"token\", \"ner\")\\\n",
        "    .setOutputCol(\"ner_chunk\")\n",
        "\n",
        "pos_tager = PerceptronModel()\\\n",
        "    .pretrained(\"pos_clinical\", \"en\", \"clinical/models\")\\\n",
        "    .setInputCols(\"sentence\", \"token\")\\\n",
        "    .setOutputCol(\"pos_tag\")\n",
        "\n",
        "dependency_parser = DependencyParserModel()\\\n",
        "    .pretrained(\"dependency_conllu\", \"en\")\\\n",
        "    .setInputCols([\"sentence\", \"pos_tag\", \"token\"])\\\n",
        "    .setOutputCol(\"dependencies\")\n",
        "\n",
        "drug_chunk_embeddings = EntityChunkEmbeddings()\\\n",
        "    .pretrained(\"sbiobert_base_cased_mli\",\"en\",\"clinical/models\")\\\n",
        "    .setInputCols([\"ner_chunk\", \"dependencies\"])\\\n",
        "    .setOutputCol(\"drug_chunk_embeddings\")\\\n",
        "    .setMaxSyntacticDistance(5)\\\n",
        "    .setTargetEntities({\"DRUG\": [\"STRENGTH\", \"ROUTE\", \"FORM\"]})\\\n",
        "    .setEntityWeights({\"DRUG\": 0.8, \"STRENGTH\": 0.2, \"ROUTE\": 0.2, \"FORM\": 0.2})\n",
        "\n",
        "rxnorm_re = SentenceEntityResolverModel\\\n",
        "      .pretrained(\"sbiobertresolve_rxnorm_augmented_re\", \"en\",\"clinical/models\")\\\n",
        "      .setInputCols([\"ner_chunk\",\"drug_chunk_embeddings\"])\\\n",
        "      .setOutputCol(\"rxnorm_code\")\\\n",
        "      .setDistanceFunction(\"EUCLIDEAN\")\n",
        "\n",
        "rxnorm_pipeline_re = Pipeline(\n",
        "    stages = [\n",
        "        documenter,\n",
        "        sentence_detector,\n",
        "        tokenizer,\n",
        "        embeddings,\n",
        "        posology_ner_model,\n",
        "        ner_converter,\n",
        "        pos_tager,\n",
        "        dependency_parser,\n",
        "        drug_chunk_embeddings,\n",
        "        rxnorm_re\n",
        "        ])\n",
        "\n",
        "emty_data = spark.createDataFrame([[\"\"]]).toDF(\"text\")\n",
        "model = rxnorm_pipeline_re.fit(emty_data)"
      ],
      "metadata": {
        "colab": {
          "base_uri": "https://localhost:8080/"
        },
        "id": "NVm862MYb9Ng",
        "outputId": "1e0bc432-bcf4-4764-b06a-8ecfbbb325be"
      },
      "execution_count": 6,
      "outputs": [
        {
          "output_type": "stream",
          "name": "stdout",
          "text": [
            "embeddings_clinical download started this may take some time.\n",
            "Approximate size to download 1.6 GB\n",
            "[OK!]\n",
            "ner_posology_large download started this may take some time.\n",
            "[OK!]\n",
            "pos_clinical download started this may take some time.\n",
            "Approximate size to download 1.5 MB\n",
            "[OK!]\n",
            "dependency_conllu download started this may take some time.\n",
            "Approximate size to download 16.7 MB\n",
            "[OK!]\n",
            "sbiobert_base_cased_mli download started this may take some time.\n",
            "[OK!]\n",
            "sbiobertresolve_rxnorm_augmented_re download started this may take some time.\n",
            "[OK!]\n"
          ]
        }
      ]
    },
    {
      "cell_type": "code",
      "source": [
        "sample_text = \"\"\"The patient is a 40-year-old white male who presents with a chief complaint of \"chest pain\". The patient is diabetic and has a prior history of coronary artery disease. The patient presents today stating that his chest pain started yesterday evening and has been somewhat intermittent. He has been advised Aspirin 81 milligrams QDay. Humulin N. insulin 50 units in a.m. Hydrochlorothiazide 50 mg QDay. Nitroglycerin 1/150 sublingually PRN chest pain.\"\"\"\n",
        "\n",
        "\n",
        "clinical_note_df = spark.createDataFrame([[sample_text]]).toDF(\"text\")\n",
        "rxnorm_sdf = model.transform(clinical_note_df)"
      ],
      "metadata": {
        "id": "LF87ZoUOdV-K"
      },
      "execution_count": 7,
      "outputs": []
    },
    {
      "cell_type": "code",
      "source": [
        "rxnorm_sdf.select('rxnorm_code.metadata').show(truncate = 200)"
      ],
      "metadata": {
        "colab": {
          "base_uri": "https://localhost:8080/"
        },
        "id": "sA8qhvYz0usn",
        "outputId": "727da9bc-0cd5-499d-9874-0a6b204a65c8"
      },
      "execution_count": 12,
      "outputs": [
        {
          "output_type": "stream",
          "name": "stdout",
          "text": [
            "+--------------------------------------------------------------------------------------------------------------------------------------------------------------------------------------------------------+\n",
            "|                                                                                                                                                                                                metadata|\n",
            "+--------------------------------------------------------------------------------------------------------------------------------------------------------------------------------------------------------+\n",
            "|[{all_k_results -> 1535484:::434451:::247138:::315431:::243670:::252857:::318272:::211830:::211832:::404658, all_k_distances -> 3.2895:::3.3071:::3.3071:::3.3071:::3.3071:::3.3071:::3.3071:::3.3071...|\n",
            "+--------------------------------------------------------------------------------------------------------------------------------------------------------------------------------------------------------+\n",
            "\n"
          ]
        }
      ]
    },
    {
      "cell_type": "code",
      "source": [
        "rxnorm_df = rxnorm_sdf.select(F.explode(F.arrays_zip(rxnorm_sdf.drug_chunk_embeddings.result, \n",
        "                                                           rxnorm_sdf.drug_chunk_embeddings.begin,\n",
        "                                                           rxnorm_sdf.drug_chunk_embeddings.end,\n",
        "                                                           rxnorm_sdf.rxnorm_code.result, \n",
        "                                                           rxnorm_sdf.rxnorm_code.metadata,\n",
        "                                                           rxnorm_sdf.drug_chunk_embeddings.metadata).alias(\"col\")))\\\n",
        "                .select( \n",
        "                        F.expr(\"col['0']\").alias(\"chunk\"),\n",
        "                        F.expr(\"col['1']\").alias(\"begin\"),\n",
        "                        F.expr(\"col['2']\").alias(\"end\"),\n",
        "                        F.expr(\"col['5']['target_entity']\").alias(\"entity_type\"),\n",
        "                        F.expr(\"col['3']\").alias(\"RxNorm_code\"),\n",
        "                        F.expr(\"col['4']['all_k_resolutions']\").alias(\"all_k_resolutions\") ,\n",
        "                        F.expr(\"col['4']['all_k_results']\").alias(\"all_k_codes\"),\n",
        "                        F.expr(\"col['4']['all_k_aux_labels']\").alias(\"all_k_labels\")\n",
        "                        ).toPandas()"
      ],
      "metadata": {
        "id": "tieXheNl197Y"
      },
      "execution_count": 14,
      "outputs": []
    },
    {
      "cell_type": "code",
      "source": [
        "rxnorm_df"
      ],
      "metadata": {
        "colab": {
          "base_uri": "https://localhost:8080/",
          "height": 1000
        },
        "id": "-gnKoUfY2Stx",
        "outputId": "276e7b33-09da-44c0-c705-83a0855795b3"
      },
      "execution_count": 15,
      "outputs": [
        {
          "output_type": "execute_result",
          "data": {
            "text/plain": [
              "                              chunk  begin  end entity_type RxNorm_code                                                                                                                                                                                                                                                                                                                                                                                                                                                                                                                                                                                                                                                                                                                                                                                                                                                                                                                                                                                                                                                                                                                                                                                                                                                                                                                        all_k_resolutions                                                                                                                                                                                                                  all_k_codes                                                                                                                                                                                                                                                                                                                                                                                                                                                                     all_k_labels\n",
              "0             Aspirin 81 milligrams    306  326        DRUG     1535484                                                                                                                                                                                                                                                                                                                                                                                                                                                                                                                                                                                                                                                                                                                                                                                                                                                                                                                                                                                aspirin 81 MG Oral Film:::aspirin 130 MG Oral Lozenge:::aspirin 850 MG Oral Powder:::aspirin 81 MG:::aspirin 81 MG Oral Tablet:::aspirin 81 MG Oral Capsule:::aspirin 81 MG Chewable Tablet:::aspirin 81 MG Chewable Tablet [Med Aspirin]:::aspirin 81 MG Chewable Tablet [St. Joseph Aspirin]:::aspirin 81 MG Delayed Release Oral Capsule [YSP Aspirin]                                                                                                                                     1535484:::434451:::247138:::315431:::243670:::252857:::318272:::211830:::211832:::404658                                                                                                                                                                                                                                                                                                                  Clinical Drug:::Clinical Drug:::Clinical Drug:::Clinical Drug Comp:::Clinical Drug:::Clinical Drug:::Clinical Drug:::Branded Drug:::Branded Drug:::Branded Drug\n",
              "1                           Humulin    334  340        DRUG     1359720  insulin isophane, human 70 UNT/ML / insulin, regular, human 30 UNT/ML Prefilled Syringe [Humulin]:::insulin isophane, human 70 UNT/ML / insulin, regular, human 30 UNT/ML Injectable Suspension [Humulin]:::insulin isophane, human 70 UNT/ML / insulin, regular, human 30 UNT/ML Pen Injector [Humulin]:::insulin isophane, human 80 UNT/ML / insulin, regular, human 20 UNT/ML Injectable Suspension [Humulin]:::insulin isophane / insulin, regular, human Pen Injector [Humulin]:::insulin isophane / insulin, regular, human Prefilled Syringe [Humulin]:::insulin isophane, human 60 UNT/ML / insulin, regular, human 40 UNT/ML Injectable Suspension [Humulin]:::3 ML insulin isophane, human 70 UNT/ML / insulin, regular, human 30 UNT/ML Pen Injector [Humulin]:::1.5 ML insulin isophane, human 70 UNT/ML / insulin, regular, human 30 UNT/ML Prefilled Syringe [Humulin]:::insulin, regular, human Pen Injector [Humulin R]:::insulin isophane, human 100 UNT/ML Injectable Suspension [Humulin I]:::lente insulin, human Injectable Suspension [Humulin L]:::lente insulin, human 100 UNT/ML Injectable Suspension [Humulin L]:::ultralente insulin, human 100 UNT/ML Injectable Suspension [Humulin U Ultralente]:::insulin isophane, human 90 UNT/ML / insulin, regular, human 10 UNT/ML Injectable Suspension [Humulin]                                                                                     1359720:::106892:::1654858:::106900:::1654855:::847188:::106901:::847189:::847343:::1731316:::150979:::365694:::311019:::314045:::106899                                                                                                                                                                                                                   Branded Drug:::Branded Drug:::Branded Drug:::Branded Drug:::Branded Drug Form:::Branded Drug Form:::Branded Drug:::Quant Branded Drug:::Quant Branded Drug:::Branded Drug Form:::Branded Drug:::Branded Drug Form:::Branded Drug:::Branded Drug:::Branded Drug\n",
              "2                           insulin    345  351        DRUG     2179743                                                                                                                                                                                                                                                                                                                                                                              insulin, regular, human Injection:::insulin, regular, human 1 UNT/ML Injection:::insulin, regular, beef-pork 100 UNT/ML Injectable Solution:::insulin, regular, beef-pork 80 UNT/ML Injectable Solution:::insulin, regular, human Inhalant Product:::insulin, regular, pork 100 UNT/ML Injectable Solution:::insulin, regular, human 40 UNT/ML Injectable Solution:::insulin, regular, human 4 UNT/ML:::insulin, regular, beef-pork 40 UNT/ML:::insulin, regular, human 8 UNT Inhalation Powder:::insulin, regular, pork 40 UNT/ML Injectable Solution:::insulin, regular, human Pen Injector:::insulin, regular, human 4 UNT Inhalation Powder:::insulin, regular, pork 30 UNT/ML:::insulin, regular, pork 80 UNT/ML Injectable Solution:::insulin, regular, pork 500 UNT/ML:::insulin, regular, beef 80 UNT/ML:::insulin, pork:::insulin, regular, pork:::insulin, regular, human 500 UNT/ML:::insulin, regular, human 8 UNT/ML:::insulin, regular, human                   2179743:::2179750:::311054:::415061:::1543200:::311057:::249026:::451439:::340286:::1544488:::311058:::1731314:::1543202:::343084:::249028:::340296:::343497:::1309342:::221109:::340327:::451437:::253182                                                                          Clinical Drug Form:::Clinical Drug:::Clinical Drug:::Clinical Drug:::Clinical Dose Group:::Clinical Drug:::Clinical Drug:::Clinical Drug Comp:::Clinical Drug Comp:::Clinical Drug:::Clinical Drug:::Clinical Drug Form:::Clinical Drug:::Clinical Drug Comp:::Clinical Drug:::Clinical Drug Comp:::Clinical Drug Comp:::Ingredient:::Ingredient:::Clinical Drug Comp:::Clinical Drug Comp:::Ingredient\n",
              "3         Hydrochlorothiazide 50 mg    370  394        DRUG      316051                                                                                                                                                                                                                                                                                                                                                                                                                                                                                                                                                                                                                                                                                                                                                                                                                          hydrochlorothiazide 50 MG:::hydrochlorothiazide 50 MG Oral Tablet:::hydrochlorothiazide 5 MG:::hydrochlorothiazide 25 MG:::hydrochlorothiazide 25 MG Oral Tablet:::hydrochlorothiazide 30 MG:::hydrochlorothiazide 12.5 MG:::hydrochlorothiazide 12.5 MG Oral Capsule:::hydrochlorothiazide 6.25 MG:::hydrochlorothiazide 20 MG:::hydrochlorothiazide 100 MG:::hydrochlorothiazide 100 MG Oral Tablet:::hydrochlorothiazide 100 MG/ML Oral Solution:::hydrochlorothiazide 100 MG/ML:::hydrochlorothiazide 10 MG                                                                                         316051:::197770:::438741:::316049:::310798:::316050:::316047:::199903:::316052:::451208:::316045:::197769:::314020:::316046:::439014                                                                                                                                                                                  Clinical Drug Comp:::Clinical Drug:::Clinical Drug Comp:::Clinical Drug Comp:::Clinical Drug:::Clinical Drug Comp:::Clinical Drug Comp:::Clinical Drug:::Clinical Drug Comp:::Clinical Drug Comp:::Clinical Drug Comp:::Clinical Drug:::Clinical Drug:::Clinical Drug Comp:::Clinical Drug Comp\n",
              "4  Nitroglycerin 1/150 sublingually    402  433        DRUG      446769                                                                                                                                                                                                                                                                                                                                              nitroglycerin 0.15 MG/ACTUAT:::nitroglycerin 0.15 MG/ACTUAT Oral Spray:::nitroglycerin Sublingual Product:::24 HR nitroglycerin 0.6 MG/HR Transdermal System:::24 HR nitroglycerin 0.2 MG/HR Transdermal System:::nitroglycerin Topical Product:::24 HR nitroglycerin 0.1 MG/HR Transdermal System:::nitroglycerin 0.2 MG/HR Transdermal System:::nitroglycerin 0.4 MG/ACTUAT [Nitromin brand of nitroglycerin]:::24 HR nitroglycerin 0.4 MG/HR Transdermal System:::nitroglycerin 0.4 MG/ACTUAT:::nitroglycerin 0.4 MG/ACTUAT Mucosal Spray:::nitroglycerin 5 MG Oral Capsule:::nitroglycerin 5 MG:::24 HR nitroglycerin 0.8 MG/HR Transdermal System:::nitroglycerin Rectal Product:::nitroglycerin 1.5 MG/ML:::nitroglycerin 1.5 MG/ML Injectable Solution:::nitroglycerin 0.1 MG/HR Transdermal System:::nitroglycerin 1.5 MG Sustained Release Buccal Tablet:::nitroglycerin 1.5 MG:::nitroglycerin 5 MG/ML Injection:::nitroglycerin 5 MG/ML:::nitroglycerin 0.5 MG Sublingual Tablet  446769:::409008:::1295706:::486146:::486148:::1159832:::861657:::1360391:::565161:::486152:::330744:::705129:::102341:::316378:::899703:::1159831:::446777:::412764:::1360389:::312010:::316371:::1868503:::316379:::249767  Clinical Drug Comp:::Clinical Drug:::Clinical Dose Group:::Quant Clinical Drug:::Quant Clinical Drug:::Clinical Dose Group:::Quant Clinical Drug:::Clinical Drug:::Branded Drug Comp:::Quant Clinical Drug:::Clinical Drug Comp:::Clinical Drug:::Clinical Drug:::Clinical Drug Comp:::Quant Clinical Drug:::Clinical Dose Group:::Clinical Drug Comp:::Clinical Drug:::Clinical Drug:::Clinical Drug:::Clinical Drug Comp:::Clinical Drug:::Clinical Drug Comp:::Clinical Drug"
            ],
            "text/html": [
              "\n",
              "  <div id=\"df-8a1ffd8c-11e7-4825-8a24-d79d6b54f609\">\n",
              "    <div class=\"colab-df-container\">\n",
              "      <div>\n",
              "<style scoped>\n",
              "    .dataframe tbody tr th:only-of-type {\n",
              "        vertical-align: middle;\n",
              "    }\n",
              "\n",
              "    .dataframe tbody tr th {\n",
              "        vertical-align: top;\n",
              "    }\n",
              "\n",
              "    .dataframe thead th {\n",
              "        text-align: right;\n",
              "    }\n",
              "</style>\n",
              "<table border=\"1\" class=\"dataframe\">\n",
              "  <thead>\n",
              "    <tr style=\"text-align: right;\">\n",
              "      <th></th>\n",
              "      <th>chunk</th>\n",
              "      <th>begin</th>\n",
              "      <th>end</th>\n",
              "      <th>entity_type</th>\n",
              "      <th>RxNorm_code</th>\n",
              "      <th>all_k_resolutions</th>\n",
              "      <th>all_k_codes</th>\n",
              "      <th>all_k_labels</th>\n",
              "    </tr>\n",
              "  </thead>\n",
              "  <tbody>\n",
              "    <tr>\n",
              "      <th>0</th>\n",
              "      <td>Aspirin 81 milligrams</td>\n",
              "      <td>306</td>\n",
              "      <td>326</td>\n",
              "      <td>DRUG</td>\n",
              "      <td>1535484</td>\n",
              "      <td>aspirin 81 MG Oral Film:::aspirin 130 MG Oral Lozenge:::aspirin 850 MG Oral Powder:::aspirin 81 MG:::aspirin 81 MG Oral Tablet:::aspirin 81 MG Oral Capsule:::aspirin 81 MG Chewable Tablet:::aspirin 81 MG Chewable Tablet [Med Aspirin]:::aspirin 81 MG Chewable Tablet [St. Joseph Aspirin]:::aspirin 81 MG Delayed Release Oral Capsule [YSP Aspirin]</td>\n",
              "      <td>1535484:::434451:::247138:::315431:::243670:::252857:::318272:::211830:::211832:::404658</td>\n",
              "      <td>Clinical Drug:::Clinical Drug:::Clinical Drug:::Clinical Drug Comp:::Clinical Drug:::Clinical Drug:::Clinical Drug:::Branded Drug:::Branded Drug:::Branded Drug</td>\n",
              "    </tr>\n",
              "    <tr>\n",
              "      <th>1</th>\n",
              "      <td>Humulin</td>\n",
              "      <td>334</td>\n",
              "      <td>340</td>\n",
              "      <td>DRUG</td>\n",
              "      <td>1359720</td>\n",
              "      <td>insulin isophane, human 70 UNT/ML / insulin, regular, human 30 UNT/ML Prefilled Syringe [Humulin]:::insulin isophane, human 70 UNT/ML / insulin, regular, human 30 UNT/ML Injectable Suspension [Humulin]:::insulin isophane, human 70 UNT/ML / insulin, regular, human 30 UNT/ML Pen Injector [Humulin]:::insulin isophane, human 80 UNT/ML / insulin, regular, human 20 UNT/ML Injectable Suspension [Humulin]:::insulin isophane / insulin, regular, human Pen Injector [Humulin]:::insulin isophane / insulin, regular, human Prefilled Syringe [Humulin]:::insulin isophane, human 60 UNT/ML / insulin, regular, human 40 UNT/ML Injectable Suspension [Humulin]:::3 ML insulin isophane, human 70 UNT/ML / insulin, regular, human 30 UNT/ML Pen Injector [Humulin]:::1.5 ML insulin isophane, human 70 UNT/ML / insulin, regular, human 30 UNT/ML Prefilled Syringe [Humulin]:::insulin, regular, human Pen Injector [Humulin R]:::insulin isophane, human 100 UNT/ML Injectable Suspension [Humulin I]:::lente insulin, human Injectable Suspension [Humulin L]:::lente insulin, human 100 UNT/ML Injectable Suspension [Humulin L]:::ultralente insulin, human 100 UNT/ML Injectable Suspension [Humulin U Ultralente]:::insulin isophane, human 90 UNT/ML / insulin, regular, human 10 UNT/ML Injectable Suspension [Humulin]</td>\n",
              "      <td>1359720:::106892:::1654858:::106900:::1654855:::847188:::106901:::847189:::847343:::1731316:::150979:::365694:::311019:::314045:::106899</td>\n",
              "      <td>Branded Drug:::Branded Drug:::Branded Drug:::Branded Drug:::Branded Drug Form:::Branded Drug Form:::Branded Drug:::Quant Branded Drug:::Quant Branded Drug:::Branded Drug Form:::Branded Drug:::Branded Drug Form:::Branded Drug:::Branded Drug:::Branded Drug</td>\n",
              "    </tr>\n",
              "    <tr>\n",
              "      <th>2</th>\n",
              "      <td>insulin</td>\n",
              "      <td>345</td>\n",
              "      <td>351</td>\n",
              "      <td>DRUG</td>\n",
              "      <td>2179743</td>\n",
              "      <td>insulin, regular, human Injection:::insulin, regular, human 1 UNT/ML Injection:::insulin, regular, beef-pork 100 UNT/ML Injectable Solution:::insulin, regular, beef-pork 80 UNT/ML Injectable Solution:::insulin, regular, human Inhalant Product:::insulin, regular, pork 100 UNT/ML Injectable Solution:::insulin, regular, human 40 UNT/ML Injectable Solution:::insulin, regular, human 4 UNT/ML:::insulin, regular, beef-pork 40 UNT/ML:::insulin, regular, human 8 UNT Inhalation Powder:::insulin, regular, pork 40 UNT/ML Injectable Solution:::insulin, regular, human Pen Injector:::insulin, regular, human 4 UNT Inhalation Powder:::insulin, regular, pork 30 UNT/ML:::insulin, regular, pork 80 UNT/ML Injectable Solution:::insulin, regular, pork 500 UNT/ML:::insulin, regular, beef 80 UNT/ML:::insulin, pork:::insulin, regular, pork:::insulin, regular, human 500 UNT/ML:::insulin, regular, human 8 UNT/ML:::insulin, regular, human</td>\n",
              "      <td>2179743:::2179750:::311054:::415061:::1543200:::311057:::249026:::451439:::340286:::1544488:::311058:::1731314:::1543202:::343084:::249028:::340296:::343497:::1309342:::221109:::340327:::451437:::253182</td>\n",
              "      <td>Clinical Drug Form:::Clinical Drug:::Clinical Drug:::Clinical Drug:::Clinical Dose Group:::Clinical Drug:::Clinical Drug:::Clinical Drug Comp:::Clinical Drug Comp:::Clinical Drug:::Clinical Drug:::Clinical Drug Form:::Clinical Drug:::Clinical Drug Comp:::Clinical Drug:::Clinical Drug Comp:::Clinical Drug Comp:::Ingredient:::Ingredient:::Clinical Drug Comp:::Clinical Drug Comp:::Ingredient</td>\n",
              "    </tr>\n",
              "    <tr>\n",
              "      <th>3</th>\n",
              "      <td>Hydrochlorothiazide 50 mg</td>\n",
              "      <td>370</td>\n",
              "      <td>394</td>\n",
              "      <td>DRUG</td>\n",
              "      <td>316051</td>\n",
              "      <td>hydrochlorothiazide 50 MG:::hydrochlorothiazide 50 MG Oral Tablet:::hydrochlorothiazide 5 MG:::hydrochlorothiazide 25 MG:::hydrochlorothiazide 25 MG Oral Tablet:::hydrochlorothiazide 30 MG:::hydrochlorothiazide 12.5 MG:::hydrochlorothiazide 12.5 MG Oral Capsule:::hydrochlorothiazide 6.25 MG:::hydrochlorothiazide 20 MG:::hydrochlorothiazide 100 MG:::hydrochlorothiazide 100 MG Oral Tablet:::hydrochlorothiazide 100 MG/ML Oral Solution:::hydrochlorothiazide 100 MG/ML:::hydrochlorothiazide 10 MG</td>\n",
              "      <td>316051:::197770:::438741:::316049:::310798:::316050:::316047:::199903:::316052:::451208:::316045:::197769:::314020:::316046:::439014</td>\n",
              "      <td>Clinical Drug Comp:::Clinical Drug:::Clinical Drug Comp:::Clinical Drug Comp:::Clinical Drug:::Clinical Drug Comp:::Clinical Drug Comp:::Clinical Drug:::Clinical Drug Comp:::Clinical Drug Comp:::Clinical Drug Comp:::Clinical Drug:::Clinical Drug:::Clinical Drug Comp:::Clinical Drug Comp</td>\n",
              "    </tr>\n",
              "    <tr>\n",
              "      <th>4</th>\n",
              "      <td>Nitroglycerin 1/150 sublingually</td>\n",
              "      <td>402</td>\n",
              "      <td>433</td>\n",
              "      <td>DRUG</td>\n",
              "      <td>446769</td>\n",
              "      <td>nitroglycerin 0.15 MG/ACTUAT:::nitroglycerin 0.15 MG/ACTUAT Oral Spray:::nitroglycerin Sublingual Product:::24 HR nitroglycerin 0.6 MG/HR Transdermal System:::24 HR nitroglycerin 0.2 MG/HR Transdermal System:::nitroglycerin Topical Product:::24 HR nitroglycerin 0.1 MG/HR Transdermal System:::nitroglycerin 0.2 MG/HR Transdermal System:::nitroglycerin 0.4 MG/ACTUAT [Nitromin brand of nitroglycerin]:::24 HR nitroglycerin 0.4 MG/HR Transdermal System:::nitroglycerin 0.4 MG/ACTUAT:::nitroglycerin 0.4 MG/ACTUAT Mucosal Spray:::nitroglycerin 5 MG Oral Capsule:::nitroglycerin 5 MG:::24 HR nitroglycerin 0.8 MG/HR Transdermal System:::nitroglycerin Rectal Product:::nitroglycerin 1.5 MG/ML:::nitroglycerin 1.5 MG/ML Injectable Solution:::nitroglycerin 0.1 MG/HR Transdermal System:::nitroglycerin 1.5 MG Sustained Release Buccal Tablet:::nitroglycerin 1.5 MG:::nitroglycerin 5 MG/ML Injection:::nitroglycerin 5 MG/ML:::nitroglycerin 0.5 MG Sublingual Tablet</td>\n",
              "      <td>446769:::409008:::1295706:::486146:::486148:::1159832:::861657:::1360391:::565161:::486152:::330744:::705129:::102341:::316378:::899703:::1159831:::446777:::412764:::1360389:::312010:::316371:::1868503:::316379:::249767</td>\n",
              "      <td>Clinical Drug Comp:::Clinical Drug:::Clinical Dose Group:::Quant Clinical Drug:::Quant Clinical Drug:::Clinical Dose Group:::Quant Clinical Drug:::Clinical Drug:::Branded Drug Comp:::Quant Clinical Drug:::Clinical Drug Comp:::Clinical Drug:::Clinical Drug:::Clinical Drug Comp:::Quant Clinical Drug:::Clinical Dose Group:::Clinical Drug Comp:::Clinical Drug:::Clinical Drug:::Clinical Drug:::Clinical Drug Comp:::Clinical Drug:::Clinical Drug Comp:::Clinical Drug</td>\n",
              "    </tr>\n",
              "  </tbody>\n",
              "</table>\n",
              "</div>\n",
              "      <button class=\"colab-df-convert\" onclick=\"convertToInteractive('df-8a1ffd8c-11e7-4825-8a24-d79d6b54f609')\"\n",
              "              title=\"Convert this dataframe to an interactive table.\"\n",
              "              style=\"display:none;\">\n",
              "        \n",
              "  <svg xmlns=\"http://www.w3.org/2000/svg\" height=\"24px\"viewBox=\"0 0 24 24\"\n",
              "       width=\"24px\">\n",
              "    <path d=\"M0 0h24v24H0V0z\" fill=\"none\"/>\n",
              "    <path d=\"M18.56 5.44l.94 2.06.94-2.06 2.06-.94-2.06-.94-.94-2.06-.94 2.06-2.06.94zm-11 1L8.5 8.5l.94-2.06 2.06-.94-2.06-.94L8.5 2.5l-.94 2.06-2.06.94zm10 10l.94 2.06.94-2.06 2.06-.94-2.06-.94-.94-2.06-.94 2.06-2.06.94z\"/><path d=\"M17.41 7.96l-1.37-1.37c-.4-.4-.92-.59-1.43-.59-.52 0-1.04.2-1.43.59L10.3 9.45l-7.72 7.72c-.78.78-.78 2.05 0 2.83L4 21.41c.39.39.9.59 1.41.59.51 0 1.02-.2 1.41-.59l7.78-7.78 2.81-2.81c.8-.78.8-2.07 0-2.86zM5.41 20L4 18.59l7.72-7.72 1.47 1.35L5.41 20z\"/>\n",
              "  </svg>\n",
              "      </button>\n",
              "      \n",
              "  <style>\n",
              "    .colab-df-container {\n",
              "      display:flex;\n",
              "      flex-wrap:wrap;\n",
              "      gap: 12px;\n",
              "    }\n",
              "\n",
              "    .colab-df-convert {\n",
              "      background-color: #E8F0FE;\n",
              "      border: none;\n",
              "      border-radius: 50%;\n",
              "      cursor: pointer;\n",
              "      display: none;\n",
              "      fill: #1967D2;\n",
              "      height: 32px;\n",
              "      padding: 0 0 0 0;\n",
              "      width: 32px;\n",
              "    }\n",
              "\n",
              "    .colab-df-convert:hover {\n",
              "      background-color: #E2EBFA;\n",
              "      box-shadow: 0px 1px 2px rgba(60, 64, 67, 0.3), 0px 1px 3px 1px rgba(60, 64, 67, 0.15);\n",
              "      fill: #174EA6;\n",
              "    }\n",
              "\n",
              "    [theme=dark] .colab-df-convert {\n",
              "      background-color: #3B4455;\n",
              "      fill: #D2E3FC;\n",
              "    }\n",
              "\n",
              "    [theme=dark] .colab-df-convert:hover {\n",
              "      background-color: #434B5C;\n",
              "      box-shadow: 0px 1px 3px 1px rgba(0, 0, 0, 0.15);\n",
              "      filter: drop-shadow(0px 1px 2px rgba(0, 0, 0, 0.3));\n",
              "      fill: #FFFFFF;\n",
              "    }\n",
              "  </style>\n",
              "\n",
              "      <script>\n",
              "        const buttonEl =\n",
              "          document.querySelector('#df-8a1ffd8c-11e7-4825-8a24-d79d6b54f609 button.colab-df-convert');\n",
              "        buttonEl.style.display =\n",
              "          google.colab.kernel.accessAllowed ? 'block' : 'none';\n",
              "\n",
              "        async function convertToInteractive(key) {\n",
              "          const element = document.querySelector('#df-8a1ffd8c-11e7-4825-8a24-d79d6b54f609');\n",
              "          const dataTable =\n",
              "            await google.colab.kernel.invokeFunction('convertToInteractive',\n",
              "                                                     [key], {});\n",
              "          if (!dataTable) return;\n",
              "\n",
              "          const docLinkHtml = 'Like what you see? Visit the ' +\n",
              "            '<a target=\"_blank\" href=https://colab.research.google.com/notebooks/data_table.ipynb>data table notebook</a>'\n",
              "            + ' to learn more about interactive tables.';\n",
              "          element.innerHTML = '';\n",
              "          dataTable['output_type'] = 'display_data';\n",
              "          await google.colab.output.renderOutput(dataTable, element);\n",
              "          const docLink = document.createElement('div');\n",
              "          docLink.innerHTML = docLinkHtml;\n",
              "          element.appendChild(docLink);\n",
              "        }\n",
              "      </script>\n",
              "    </div>\n",
              "  </div>\n",
              "  "
            ]
          },
          "metadata": {},
          "execution_count": 15
        }
      ]
    },
    {
      "cell_type": "code",
      "source": [
        "light_model = LightPipeline(model)\n",
        "light_result = light_model.fullAnnotate(sample_text)\n",
        "\n",
        "er_vis = EntityResolverVisualizer()\n",
        "\n",
        "er_vis.display(light_result[0],\n",
        "               label_col='ner_chunk',\n",
        "               resolution_col = 'rxnorm_code',\n",
        "               document_col='document'\n",
        "               )"
      ],
      "metadata": {
        "colab": {
          "base_uri": "https://localhost:8080/",
          "height": 428
        },
        "id": "S0ZNyJPoeBmS",
        "outputId": "6b2d2c46-3655-4d98-e2e5-54b07a142673"
      },
      "execution_count": 16,
      "outputs": [
        {
          "output_type": "display_data",
          "data": {
            "text/plain": [
              "<IPython.core.display.HTML object>"
            ],
            "text/html": [
              "\n",
              "<style>\n",
              "    @import url('https://fonts.googleapis.com/css2?family=Montserrat:wght@300;400;500;600;700&display=swap');\n",
              "    @import url('https://fonts.googleapis.com/css2?family=Vistol Regular:wght@300;400;500;600;700&display=swap');\n",
              "    \n",
              "    .spark-nlp-display-scroll-entities {\n",
              "        border: 1px solid #E7EDF0;\n",
              "        border-radius: 3px;\n",
              "        text-align: justify;\n",
              "        \n",
              "    }\n",
              "    .spark-nlp-display-scroll-entities span {  \n",
              "        font-size: 14px;\n",
              "        line-height: 24px;\n",
              "        color: #536B76;\n",
              "        font-family: 'Montserrat', sans-serif !important;\n",
              "    }\n",
              "    \n",
              "    .spark-nlp-display-entity-wrapper{\n",
              "    \n",
              "        display: inline-grid;\n",
              "        text-align: center;\n",
              "        border-radius: 4px;\n",
              "        margin: 0 2px 5px 2px;\n",
              "        padding: 1px\n",
              "    }\n",
              "    .spark-nlp-display-entity-name{\n",
              "        font-size: 14px;\n",
              "        line-height: 24px;\n",
              "        font-family: 'Montserrat', sans-serif !important;\n",
              "        \n",
              "        background: #f1f2f3;\n",
              "        border-width: medium;\n",
              "        text-align: center;\n",
              "        \n",
              "        font-weight: 400;\n",
              "        \n",
              "        border-radius: 5px;\n",
              "        padding: 2px 5px;\n",
              "        display: block;\n",
              "        margin: 3px 2px;\n",
              "    \n",
              "    }\n",
              "    .spark-nlp-display-entity-type{\n",
              "        font-size: 14px;\n",
              "        line-height: 24px;\n",
              "        color: #ffffff;\n",
              "        font-family: 'Montserrat', sans-serif !important;\n",
              "        \n",
              "        text-transform: uppercase;\n",
              "        \n",
              "        font-weight: 500;\n",
              "\n",
              "        display: block;\n",
              "        padding: 3px 5px;\n",
              "    }\n",
              "    \n",
              "    .spark-nlp-display-entity-resolution{\n",
              "        font-size: 14px;\n",
              "        line-height: 24px;\n",
              "        color: #ffffff;\n",
              "        font-family: 'Vistol Regular', sans-serif !important;\n",
              "        \n",
              "        text-transform: uppercase;\n",
              "        \n",
              "        font-weight: 500;\n",
              "\n",
              "        display: block;\n",
              "        padding: 3px 5px;\n",
              "    }\n",
              "    \n",
              "    .spark-nlp-display-others{\n",
              "        font-size: 14px;\n",
              "        line-height: 24px;\n",
              "        font-family: 'Montserrat', sans-serif !important;\n",
              "        \n",
              "        font-weight: 400;\n",
              "    }\n",
              "\n",
              "</style>\n",
              " <span class=\"spark-nlp-display-others\" style=\"background-color: white\">The patient is a 40-year-old white male who presents with a chief complaint of \"chest pain\". The patient is diabetic and has a prior history of coronary artery disease. The patient presents today stating that his chest pain started yesterday evening and has been somewhat intermittent. He has been advised </span><span class=\"spark-nlp-display-entity-wrapper\" style=\"background-color: #8B668BB3\"><span class=\"spark-nlp-display-entity-name\">Aspirin </span><span class=\"spark-nlp-display-entity-type\">DRUG</span><span class=\"spark-nlp-display-entity-resolution\" style=\"background-color: #8B668BFF\">1535484 </span><span class=\"spark-nlp-display-entity-resolution\" style=\"background-color: #8B668BCC\">aspirin 81 MG Oral Film</span></span><span class=\"spark-nlp-display-others\" style=\"background-color: white\"> </span><span class=\"spark-nlp-display-entity-wrapper\" style=\"background-color: #7F0D45B3\"><span class=\"spark-nlp-display-entity-name\">81 milligrams </span><span class=\"spark-nlp-display-entity-type\">STRENGTH</span></span><span class=\"spark-nlp-display-others\" style=\"background-color: white\"> </span><span class=\"spark-nlp-display-entity-wrapper\" style=\"background-color: #1D7803B3\"><span class=\"spark-nlp-display-entity-name\">QDay </span><span class=\"spark-nlp-display-entity-type\">FREQUENCY</span></span><span class=\"spark-nlp-display-others\" style=\"background-color: white\">. </span><span class=\"spark-nlp-display-entity-wrapper\" style=\"background-color: #8B668BB3\"><span class=\"spark-nlp-display-entity-name\">Humulin </span><span class=\"spark-nlp-display-entity-type\">DRUG</span><span class=\"spark-nlp-display-entity-resolution\" style=\"background-color: #8B668BFF\">1359720 </span><span class=\"spark-nlp-display-entity-resolution\" style=\"background-color: #8B668BCC\">insulin isophane, human 70 UNT/ML / insulin, regular, human 30 UNT/ML Prefilled Syringe [Humulin]</span></span><span class=\"spark-nlp-display-others\" style=\"background-color: white\"> N. </span><span class=\"spark-nlp-display-entity-wrapper\" style=\"background-color: #8B668BB3\"><span class=\"spark-nlp-display-entity-name\">insulin </span><span class=\"spark-nlp-display-entity-type\">DRUG</span><span class=\"spark-nlp-display-entity-resolution\" style=\"background-color: #8B668BFF\">2179743 </span><span class=\"spark-nlp-display-entity-resolution\" style=\"background-color: #8B668BCC\">insulin, regular, human Injection</span></span><span class=\"spark-nlp-display-others\" style=\"background-color: white\"> </span><span class=\"spark-nlp-display-entity-wrapper\" style=\"background-color: #C50C71B3\"><span class=\"spark-nlp-display-entity-name\">50 units </span><span class=\"spark-nlp-display-entity-type\">DOSAGE</span></span><span class=\"spark-nlp-display-others\" style=\"background-color: white\"> in a.m. </span><span class=\"spark-nlp-display-entity-wrapper\" style=\"background-color: #8B668BB3\"><span class=\"spark-nlp-display-entity-name\">Hydrochlorothiazide </span><span class=\"spark-nlp-display-entity-type\">DRUG</span><span class=\"spark-nlp-display-entity-resolution\" style=\"background-color: #8B668BFF\">316051 </span><span class=\"spark-nlp-display-entity-resolution\" style=\"background-color: #8B668BCC\">hydrochlorothiazide 50 MG</span></span><span class=\"spark-nlp-display-others\" style=\"background-color: white\"> </span><span class=\"spark-nlp-display-entity-wrapper\" style=\"background-color: #7F0D45B3\"><span class=\"spark-nlp-display-entity-name\">50 mg </span><span class=\"spark-nlp-display-entity-type\">STRENGTH</span></span><span class=\"spark-nlp-display-others\" style=\"background-color: white\"> </span><span class=\"spark-nlp-display-entity-wrapper\" style=\"background-color: #1D7803B3\"><span class=\"spark-nlp-display-entity-name\">QDay </span><span class=\"spark-nlp-display-entity-type\">FREQUENCY</span></span><span class=\"spark-nlp-display-others\" style=\"background-color: white\">. </span><span class=\"spark-nlp-display-entity-wrapper\" style=\"background-color: #8B668BB3\"><span class=\"spark-nlp-display-entity-name\">Nitroglycerin </span><span class=\"spark-nlp-display-entity-type\">DRUG</span><span class=\"spark-nlp-display-entity-resolution\" style=\"background-color: #8B668BFF\">446769 </span><span class=\"spark-nlp-display-entity-resolution\" style=\"background-color: #8B668BCC\">nitroglycerin 0.15 MG/ACTUAT</span></span><span class=\"spark-nlp-display-others\" style=\"background-color: white\"> </span><span class=\"spark-nlp-display-entity-wrapper\" style=\"background-color: #7F0D45B3\"><span class=\"spark-nlp-display-entity-name\">1/150 </span><span class=\"spark-nlp-display-entity-type\">STRENGTH</span></span><span class=\"spark-nlp-display-others\" style=\"background-color: white\"> </span><span class=\"spark-nlp-display-entity-wrapper\" style=\"background-color: #6CC585B3\"><span class=\"spark-nlp-display-entity-name\">sublingually </span><span class=\"spark-nlp-display-entity-type\">ROUTE</span></span><span class=\"spark-nlp-display-others\" style=\"background-color: white\"> </span><span class=\"spark-nlp-display-entity-wrapper\" style=\"background-color: #1D7803B3\"><span class=\"spark-nlp-display-entity-name\">PRN </span><span class=\"spark-nlp-display-entity-type\">FREQUENCY</span></span><span class=\"spark-nlp-display-others\" style=\"background-color: white\"> chest pain.</span></div>"
            ]
          },
          "metadata": {}
        }
      ]
    }
  ]
}
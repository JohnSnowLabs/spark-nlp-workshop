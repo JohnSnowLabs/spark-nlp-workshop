{
  "nbformat": 4,
  "nbformat_minor": 0,
  "metadata": {
    "colab": {
      "name": "NER_CHEMPROT_CLINICAL.ipynb",
      "provenance": [],
      "collapsed_sections": [],
      "toc_visible": true
    },
    "kernelspec": {
      "name": "python3",
      "display_name": "Python 3"
    }
  },
  "cells": [
    {
      "cell_type": "markdown",
      "metadata": {
        "id": "TA21Jo5d9SVq",
        "colab_type": "text"
      },
      "source": [
        "\n",
        "\n",
        "![JohnSnowLabs](https://nlp.johnsnowlabs.com/assets/images/logo.png)\n",
        "\n",
        "[![Open In Colab](https://colab.research.google.com/assets/colab-badge.svg)](https://colab.research.google.com/github/JohnSnowLabs/spark-nlp-workshop/blob/master/tutorials/streamlit_notebooks/healthcare/NER_CHEMPROT_CLINICAL.ipynb)\n",
        "\n",
        "\n"
      ]
    },
    {
      "cell_type": "markdown",
      "metadata": {
        "id": "CzIdjHkAW8TB",
        "colab_type": "text"
      },
      "source": [
        "# **Detect chemical compounds and genes**"
      ]
    },
    {
      "cell_type": "markdown",
      "metadata": {
        "id": "6uDmeHEFW7_h",
        "colab_type": "text"
      },
      "source": [
        "To run this yourself, you will need to upload your license keys to the notebook. Otherwise, you can look at the example outputs at the bottom of the notebook. To upload license keys, open the file explorer on the left side of the screen and upload `workshop_license_keys.json` to the folder that opens."
      ]
    },
    {
      "cell_type": "markdown",
      "metadata": {
        "id": "wIeCOiJNW-88",
        "colab_type": "text"
      },
      "source": [
        "## 1. Colab Setup"
      ]
    },
    {
      "cell_type": "markdown",
      "metadata": {
        "id": "HMIDv74CYN0d",
        "colab_type": "text"
      },
      "source": [
        "Import license keys"
      ]
    },
    {
      "cell_type": "code",
      "metadata": {
        "id": "ttHPIV2JXbIM",
        "colab_type": "code",
        "colab": {
          "base_uri": "https://localhost:8080/",
          "height": 51
        },
        "outputId": "999d93a1-d9f9-4c5d-8fc7-4f1449ea05e3"
      },
      "source": [
        "import os\n",
        "import json\n",
        "\n",
        "with open('/content/spark_nlp_for_healthcare.json', 'r') as f:\n",
        "    license_keys = json.load(f)\n",
        "\n",
        "license_keys.keys()\n",
        "\n",
        "secret = license_keys['SECRET']\n",
        "os.environ['SPARK_NLP_LICENSE'] = license_keys['SPARK_NLP_LICENSE']\n",
        "os.environ['AWS_ACCESS_KEY_ID'] = license_keys['AWS_ACCESS_KEY_ID']\n",
        "os.environ['AWS_SECRET_ACCESS_KEY'] = license_keys['AWS_SECRET_ACCESS_KEY']\n",
        "sparknlp_version = license_keys[\"PUBLIC_VERSION\"]\n",
        "jsl_version = license_keys[\"JSL_VERSION\"]\n",
        "\n",
        "print ('SparkNLP Version:', sparknlp_version)\n",
        "print ('SparkNLP-JSL Version:', jsl_version)"
      ],
      "execution_count": 2,
      "outputs": [
        {
          "output_type": "stream",
          "text": [
            "SparkNLP Version: 2.6.0\n",
            "SparkNLP-JSL Version: 2.6.0\n"
          ],
          "name": "stdout"
        }
      ]
    },
    {
      "cell_type": "markdown",
      "metadata": {
        "id": "rQtc1CHaYQjU",
        "colab_type": "text"
      },
      "source": [
        "Install dependencies"
      ]
    },
    {
      "cell_type": "code",
      "metadata": {
        "id": "CGJktFHdHL1n",
        "colab_type": "code",
        "colab": {
          "base_uri": "https://localhost:8080/",
          "height": 326
        },
        "outputId": "86343214-dc2d-48af-8d84-1f6fc97b5d3e"
      },
      "source": [
        "# Install Java\n",
        "! apt-get update -qq\n",
        "! apt-get install -y openjdk-8-jdk-headless -qq > /dev/null\n",
        "! java -version\n",
        "\n",
        "# Install pyspark\n",
        "! pip install --ignore-installed -q pyspark==2.4.4\n",
        "\n",
        "# Install Spark NLP\n",
        "! pip install --ignore-installed spark-nlp==$sparknlp_version\n",
        "! python -m pip install --upgrade spark-nlp-jsl==$jsl_version --extra-index-url https://pypi.johnsnowlabs.com/$secret"
      ],
      "execution_count": 3,
      "outputs": [
        {
          "output_type": "stream",
          "text": [
            "openjdk version \"11.0.8\" 2020-07-14\n",
            "OpenJDK Runtime Environment (build 11.0.8+10-post-Ubuntu-0ubuntu118.04.1)\n",
            "OpenJDK 64-Bit Server VM (build 11.0.8+10-post-Ubuntu-0ubuntu118.04.1, mixed mode, sharing)\n",
            "\u001b[K     |████████████████████████████████| 215.7MB 81kB/s \n",
            "\u001b[K     |████████████████████████████████| 204kB 27.5MB/s \n",
            "\u001b[?25h  Building wheel for pyspark (setup.py) ... \u001b[?25l\u001b[?25hdone\n",
            "Collecting spark-nlp==2.6.0\n",
            "\u001b[?25l  Downloading https://files.pythonhosted.org/packages/e4/30/1bd0abcc97caed518efe527b9146897255dffcf71c4708586a82ea9eb29a/spark_nlp-2.6.0-py2.py3-none-any.whl (125kB)\n",
            "\u001b[K     |████████████████████████████████| 133kB 9.0MB/s \n",
            "\u001b[?25hInstalling collected packages: spark-nlp\n",
            "Successfully installed spark-nlp-2.6.0\n",
            "Looking in indexes: https://pypi.org/simple, https://pypi.johnsnowlabs.com/2.6.0-8388813d58b67fa25bf9cf603393363af96dba16\n",
            "Collecting spark-nlp-jsl==2.6.0\n",
            "Requirement already satisfied, skipping upgrade: spark-nlp==2.6.0 in /usr/local/lib/python3.6/dist-packages (from spark-nlp-jsl==2.6.0) (2.6.0)\n",
            "Installing collected packages: spark-nlp-jsl\n",
            "Successfully installed spark-nlp-jsl-2.6.0\n"
          ],
          "name": "stdout"
        }
      ]
    },
    {
      "cell_type": "markdown",
      "metadata": {
        "id": "Hj5FRDV4YSXN",
        "colab_type": "text"
      },
      "source": [
        "Import dependencies into Python and start the Spark session"
      ]
    },
    {
      "cell_type": "code",
      "metadata": {
        "id": "sw-t1zxlHTB7",
        "colab_type": "code",
        "colab": {}
      },
      "source": [
        "os.environ['JAVA_HOME'] = \"/usr/lib/jvm/java-8-openjdk-amd64\"\n",
        "os.environ['PATH'] = os.environ['JAVA_HOME'] + \"/bin:\" + os.environ['PATH']\n",
        "\n",
        "import pandas as pd\n",
        "from pyspark.ml import Pipeline\n",
        "from pyspark.sql import SparkSession\n",
        "import pyspark.sql.functions as F\n",
        "\n",
        "import sparknlp\n",
        "from sparknlp.annotator import *\n",
        "from sparknlp_jsl.annotator import *\n",
        "from sparknlp.base import *\n",
        "import sparknlp_jsl\n",
        "\n",
        "spark = sparknlp_jsl.start(secret)"
      ],
      "execution_count": 4,
      "outputs": []
    },
    {
      "cell_type": "markdown",
      "metadata": {
        "id": "9RgiqfX5XDqb",
        "colab_type": "text"
      },
      "source": [
        "## 2. Select the NER model and construct the pipeline"
      ]
    },
    {
      "cell_type": "markdown",
      "metadata": {
        "id": "xnLg84PduCRf",
        "colab_type": "text"
      },
      "source": [
        "Select the NER model\n",
        "\n",
        "For more details: https://github.com/JohnSnowLabs/spark-nlp-models#pretrained-models---spark-nlp-for-healthcare"
      ]
    },
    {
      "cell_type": "code",
      "metadata": {
        "id": "UvT2PxSquGlQ",
        "colab_type": "code",
        "colab": {}
      },
      "source": [
        "MODEL_NAME = \"ner_chemprot_clinical\""
      ],
      "execution_count": 5,
      "outputs": []
    },
    {
      "cell_type": "markdown",
      "metadata": {
        "id": "zweiG2ilZqoR",
        "colab_type": "text"
      },
      "source": [
        "Create the pipeline"
      ]
    },
    {
      "cell_type": "code",
      "metadata": {
        "id": "LLuDz_t40be4",
        "colab_type": "code",
        "colab": {
          "base_uri": "https://localhost:8080/",
          "height": 119
        },
        "outputId": "ad607d6e-9e6f-4503-da45-4bd85928fd3a"
      },
      "source": [
        "document_assembler = DocumentAssembler() \\\n",
        "    .setInputCol('text')\\\n",
        "    .setOutputCol('document')\n",
        "\n",
        "sentence_detector = SentenceDetector() \\\n",
        "    .setInputCols(['document'])\\\n",
        "    .setOutputCol('sentence')\n",
        "\n",
        "tokenizer = Tokenizer()\\\n",
        "    .setInputCols(['sentence']) \\\n",
        "    .setOutputCol('token')\n",
        "\n",
        "word_embeddings = WordEmbeddingsModel.pretrained('embeddings_clinical', 'en', 'clinical/models') \\\n",
        "    .setInputCols(['sentence', 'token']) \\\n",
        "    .setOutputCol('embeddings')\n",
        "\n",
        "clinical_ner = NerDLModel.pretrained(MODEL_NAME, 'en', 'clinical/models') \\\n",
        "    .setInputCols(['sentence', 'token', 'embeddings']) \\\n",
        "    .setOutputCol('ner')\n",
        "\n",
        "ner_converter = NerConverter()\\\n",
        "    .setInputCols(['sentence', 'token', 'ner']) \\\n",
        "    .setOutputCol('ner_chunk')\n",
        "\n",
        "nlp_pipeline = Pipeline(stages=[\n",
        "    document_assembler, \n",
        "    sentence_detector,\n",
        "    tokenizer,\n",
        "    word_embeddings,\n",
        "    clinical_ner,\n",
        "    ner_converter])\n",
        "\n",
        "empty_df = spark.createDataFrame([['']]).toDF(\"text\")\n",
        "pipeline_model = nlp_pipeline.fit(empty_df)\n",
        "light_pipeline = LightPipeline(pipeline_model)"
      ],
      "execution_count": 6,
      "outputs": [
        {
          "output_type": "stream",
          "text": [
            "embeddings_clinical download started this may take some time.\n",
            "Approximate size to download 1.6 GB\n",
            "[OK!]\n",
            "ner_chemprot_clinical download started this may take some time.\n",
            "Approximate size to download 15.2 MB\n",
            "[OK!]\n"
          ],
          "name": "stdout"
        }
      ]
    },
    {
      "cell_type": "markdown",
      "metadata": {
        "id": "2Y9GpdJhXIpD",
        "colab_type": "text"
      },
      "source": [
        "## 3. Create example inputs"
      ]
    },
    {
      "cell_type": "code",
      "metadata": {
        "id": "vBOKkB2THdGI",
        "colab_type": "code",
        "colab": {}
      },
      "source": [
        "# Enter examples as strings in this array\n",
        "input_list = [\n",
        "    \"\"\"Emerging role of epidermal growth factor receptor inhibition in therapy for advanced malignancy: focus on NSCLC. Combination chemotherapy regimens have emerged as the standard approach in advanced non-small-cell lung cancer. Meta-analyses have demonstrated a 2-month increase in median survival after platinum-based therapy vs. best supportive care, and an absolute 10% improvement in the 1-year survival rate. Just as importantly, cytotoxic therapy has produced benefits in symptom control and quality of life. Newer agents, including the taxanes, vinorelbine, gemcitabine, and irinotecan, have expanded our therapeutic options in the treatment of advanced non-small-cell lung cancer. Despite their contributions, we have reached a therapeutic plateau, with response rates seldom exceeding 30-40% in cooperative group studies and 1-year survival rates stable between 30% and 40%. It is doubtful that substituting one agent for another in various combinations will lead to any further improvement in these rates. The thrust of current research has focused on targeted therapy, and epidermal growth factor receptor inhibition is one of the most promising clinical strategies. Epidermal growth factor receptor inhibitors currently under investigation include the small molecules gefitinib (Iressa, ZD1839) and erlotinib (Tarceva, OSI-774), as well as monoclonal antibodies such as cetuximab (IMC-225, Erbitux). Agents that have only begun to undergo clinical evaluation include CI-1033, an irreversible pan-erbB tyrosine kinase inhibitor, and PKI166 and GW572016, both examples of dual kinase inhibitors (inhibiting epidermal growth factor receptor and Her2). Preclinical models have demonstrated synergy for all these agents in combination with either chemotherapy or radiotherapy, leading to great enthusiasm regarding their ultimate contribution to lung cancer therapy. However, serious clinical challenges persist. These include the identification of the optimal dose(s); the proper integration of these agents into popular, established cytotoxic regimens; and the selection of the optimal setting(s) in which to test these compounds. Both gefitinib and erlotinib have shown clinical activity in pretreated, advanced non-small-cell lung cancer, but placebo-controlled randomized Phase III studies evaluating gefitinib in combination with standard cytotoxic therapy, to our chagrin, have failed to demonstrate a survival advantage compared with chemotherapy alone.\"\"\",\n",
        "]"
      ],
      "execution_count": 7,
      "outputs": []
    },
    {
      "cell_type": "markdown",
      "metadata": {
        "id": "mv0abcwhXWC-",
        "colab_type": "text"
      },
      "source": [
        "## 4. Use the pipeline to create outputs"
      ]
    },
    {
      "cell_type": "code",
      "metadata": {
        "id": "TK1DB9JZaPs3",
        "colab_type": "code",
        "colab": {}
      },
      "source": [
        "df = spark.createDataFrame(pd.DataFrame({\"text\": input_list}))\n",
        "result = pipeline_model.transform(df)"
      ],
      "execution_count": 8,
      "outputs": []
    },
    {
      "cell_type": "markdown",
      "metadata": {
        "id": "UQY8tAP6XZJL",
        "colab_type": "text"
      },
      "source": [
        "## 5. Visualize results"
      ]
    },
    {
      "cell_type": "markdown",
      "metadata": {
        "id": "hnsMLq9gctSq",
        "colab_type": "text"
      },
      "source": [
        "Visualize outputs as data frame"
      ]
    },
    {
      "cell_type": "code",
      "metadata": {
        "id": "Ar32BZu7J79X",
        "colab_type": "code",
        "colab": {
          "base_uri": "https://localhost:8080/",
          "height": 459
        },
        "outputId": "1d68eb1a-30a1-4f3a-ea7c-08fd30b4ff2c"
      },
      "source": [
        "exploded = F.explode(F.arrays_zip('ner_chunk.result', 'ner_chunk.metadata'))\n",
        "select_expression_0 = F.expr(\"cols['0']\").alias(\"chunk\")\n",
        "select_expression_1 = F.expr(\"cols['1']['entity']\").alias(\"ner_label\")\n",
        "result.select(exploded.alias(\"cols\")) \\\n",
        "    .select(select_expression_0, select_expression_1).show(truncate=False)\n",
        "result = result.toPandas()"
      ],
      "execution_count": 9,
      "outputs": [
        {
          "output_type": "stream",
          "text": [
            "+--------------------------------+---------+\n",
            "|chunk                           |ner_label|\n",
            "+--------------------------------+---------+\n",
            "|epidermal growth factor receptor|GENE-Y   |\n",
            "|taxanes                         |CHEMICAL |\n",
            "|vinorelbine                     |CHEMICAL |\n",
            "|gemcitabine                     |CHEMICAL |\n",
            "|irinotecan                      |CHEMICAL |\n",
            "|epidermal growth factor receptor|GENE-Y   |\n",
            "|Epidermal growth factor receptor|GENE-Y   |\n",
            "|gefitinib                       |CHEMICAL |\n",
            "|Iressa                          |CHEMICAL |\n",
            "|ZD1839                          |CHEMICAL |\n",
            "|erlotinib                       |CHEMICAL |\n",
            "|Tarceva                         |CHEMICAL |\n",
            "|OSI-774                         |CHEMICAL |\n",
            "|cetuximab                       |CHEMICAL |\n",
            "|IMC-225                         |CHEMICAL |\n",
            "|Erbitux                         |CHEMICAL |\n",
            "|CI-1033                         |CHEMICAL |\n",
            "|tyrosine kinase                 |GENE-N   |\n",
            "|PKI166                          |CHEMICAL |\n",
            "|GW572016                        |CHEMICAL |\n",
            "+--------------------------------+---------+\n",
            "only showing top 20 rows\n",
            "\n"
          ],
          "name": "stdout"
        }
      ]
    },
    {
      "cell_type": "markdown",
      "metadata": {
        "id": "1wdVmoUcdnAk",
        "colab_type": "text"
      },
      "source": [
        "Functions to display outputs as HTML"
      ]
    },
    {
      "cell_type": "code",
      "metadata": {
        "id": "tFeu7loodcQQ",
        "colab_type": "code",
        "colab": {}
      },
      "source": [
        "from IPython.display import HTML, display\n",
        "import random\n",
        "\n",
        "def get_color():\n",
        "    r = lambda: random.randint(128,255)\n",
        "    return \"#%02x%02x%02x\" % (r(), r(), r())\n",
        "\n",
        "def annotation_to_html(full_annotation):\n",
        "    ner_chunks = full_annotation[0]['ner_chunk']\n",
        "    text = full_annotation[0]['document'][0].result\n",
        "    label_color = {}\n",
        "    for chunk in ner_chunks:\n",
        "        label_color[chunk.metadata['entity']] = get_color()\n",
        "\n",
        "    html_output = \"<div>\"\n",
        "    pos = 0\n",
        "\n",
        "    for n in ner_chunks:\n",
        "        if pos < n.begin and pos < len(text):\n",
        "            html_output += f\"<span class=\\\"others\\\">{text[pos:n.begin]}</span>\"\n",
        "        pos = n.end + 1\n",
        "        html_output += f\"<span class=\\\"entity-wrapper\\\" style=\\\"color: black; background-color: {label_color[n.metadata['entity']]}\\\"> <span class=\\\"entity-name\\\">{n.result}</span> <span class=\\\"entity-type\\\">[{n.metadata['entity']}]</span></span>\"\n",
        "\n",
        "    if pos < len(text):\n",
        "        html_output += f\"<span class=\\\"others\\\">{text[pos:]}</span>\"\n",
        "\n",
        "    html_output += \"</div>\"\n",
        "    display(HTML(html_output))"
      ],
      "execution_count": 10,
      "outputs": []
    },
    {
      "cell_type": "markdown",
      "metadata": {
        "id": "-piHygJ6dpEa",
        "colab_type": "text"
      },
      "source": [
        "Display example outputs as HTML"
      ]
    },
    {
      "cell_type": "code",
      "metadata": {
        "id": "AtbhE24VeG_C",
        "colab_type": "code",
        "colab": {
          "base_uri": "https://localhost:8080/",
          "height": 323
        },
        "outputId": "c2f0db2d-5a34-4288-b39c-491069800286"
      },
      "source": [
        "for example in input_list:\n",
        "    annotation_to_html(light_pipeline.fullAnnotate(example))"
      ],
      "execution_count": 11,
      "outputs": [
        {
          "output_type": "display_data",
          "data": {
            "text/html": [
              "<div><span class=\"others\">Emerging role of </span><span class=\"entity-wrapper\" style=\"color: black; background-color: #d5ac88\"> <span class=\"entity-name\">epidermal growth factor receptor</span> <span class=\"entity-type\">[GENE-Y]</span></span><span class=\"others\"> inhibition in therapy for advanced malignancy: focus on NSCLC. Combination chemotherapy regimens have emerged as the standard approach in advanced non-small-cell lung cancer. Meta-analyses have demonstrated a 2-month increase in median survival after platinum-based therapy vs. best supportive care, and an absolute 10% improvement in the 1-year survival rate. Just as importantly, cytotoxic therapy has produced benefits in symptom control and quality of life. Newer agents, including the </span><span class=\"entity-wrapper\" style=\"color: black; background-color: #d9b094\"> <span class=\"entity-name\">taxanes</span> <span class=\"entity-type\">[CHEMICAL]</span></span><span class=\"others\">, </span><span class=\"entity-wrapper\" style=\"color: black; background-color: #d9b094\"> <span class=\"entity-name\">vinorelbine</span> <span class=\"entity-type\">[CHEMICAL]</span></span><span class=\"others\">, </span><span class=\"entity-wrapper\" style=\"color: black; background-color: #d9b094\"> <span class=\"entity-name\">gemcitabine</span> <span class=\"entity-type\">[CHEMICAL]</span></span><span class=\"others\">, and </span><span class=\"entity-wrapper\" style=\"color: black; background-color: #d9b094\"> <span class=\"entity-name\">irinotecan</span> <span class=\"entity-type\">[CHEMICAL]</span></span><span class=\"others\">, have expanded our therapeutic options in the treatment of advanced non-small-cell lung cancer. Despite their contributions, we have reached a therapeutic plateau, with response rates seldom exceeding 30-40% in cooperative group studies and 1-year survival rates stable between 30% and 40%. It is doubtful that substituting one agent for another in various combinations will lead to any further improvement in these rates. The thrust of current research has focused on targeted therapy, and </span><span class=\"entity-wrapper\" style=\"color: black; background-color: #d5ac88\"> <span class=\"entity-name\">epidermal growth factor receptor</span> <span class=\"entity-type\">[GENE-Y]</span></span><span class=\"others\"> inhibition is one of the most promising clinical strategies. </span><span class=\"entity-wrapper\" style=\"color: black; background-color: #d5ac88\"> <span class=\"entity-name\">Epidermal growth factor receptor</span> <span class=\"entity-type\">[GENE-Y]</span></span><span class=\"others\"> inhibitors currently under investigation include the small molecules </span><span class=\"entity-wrapper\" style=\"color: black; background-color: #d9b094\"> <span class=\"entity-name\">gefitinib</span> <span class=\"entity-type\">[CHEMICAL]</span></span><span class=\"others\"> (</span><span class=\"entity-wrapper\" style=\"color: black; background-color: #d9b094\"> <span class=\"entity-name\">Iressa</span> <span class=\"entity-type\">[CHEMICAL]</span></span><span class=\"others\">, </span><span class=\"entity-wrapper\" style=\"color: black; background-color: #d9b094\"> <span class=\"entity-name\">ZD1839</span> <span class=\"entity-type\">[CHEMICAL]</span></span><span class=\"others\">) and </span><span class=\"entity-wrapper\" style=\"color: black; background-color: #d9b094\"> <span class=\"entity-name\">erlotinib</span> <span class=\"entity-type\">[CHEMICAL]</span></span><span class=\"others\"> (</span><span class=\"entity-wrapper\" style=\"color: black; background-color: #d9b094\"> <span class=\"entity-name\">Tarceva</span> <span class=\"entity-type\">[CHEMICAL]</span></span><span class=\"others\">, </span><span class=\"entity-wrapper\" style=\"color: black; background-color: #d9b094\"> <span class=\"entity-name\">OSI-774</span> <span class=\"entity-type\">[CHEMICAL]</span></span><span class=\"others\">), as well as monoclonal antibodies such as </span><span class=\"entity-wrapper\" style=\"color: black; background-color: #d9b094\"> <span class=\"entity-name\">cetuximab</span> <span class=\"entity-type\">[CHEMICAL]</span></span><span class=\"others\"> (</span><span class=\"entity-wrapper\" style=\"color: black; background-color: #d9b094\"> <span class=\"entity-name\">IMC-225</span> <span class=\"entity-type\">[CHEMICAL]</span></span><span class=\"others\">, </span><span class=\"entity-wrapper\" style=\"color: black; background-color: #d9b094\"> <span class=\"entity-name\">Erbitux</span> <span class=\"entity-type\">[CHEMICAL]</span></span><span class=\"others\">). Agents that have only begun to undergo clinical evaluation include </span><span class=\"entity-wrapper\" style=\"color: black; background-color: #d9b094\"> <span class=\"entity-name\">CI-1033</span> <span class=\"entity-type\">[CHEMICAL]</span></span><span class=\"others\">, an irreversible pan-erbB </span><span class=\"entity-wrapper\" style=\"color: black; background-color: #84eed3\"> <span class=\"entity-name\">tyrosine kinase</span> <span class=\"entity-type\">[GENE-N]</span></span><span class=\"others\"> inhibitor, and </span><span class=\"entity-wrapper\" style=\"color: black; background-color: #d9b094\"> <span class=\"entity-name\">PKI166</span> <span class=\"entity-type\">[CHEMICAL]</span></span><span class=\"others\"> and </span><span class=\"entity-wrapper\" style=\"color: black; background-color: #d9b094\"> <span class=\"entity-name\">GW572016</span> <span class=\"entity-type\">[CHEMICAL]</span></span><span class=\"others\">, both examples of dual </span><span class=\"entity-wrapper\" style=\"color: black; background-color: #84eed3\"> <span class=\"entity-name\">kinase</span> <span class=\"entity-type\">[GENE-N]</span></span><span class=\"others\"> inhibitors (inhibiting </span><span class=\"entity-wrapper\" style=\"color: black; background-color: #d5ac88\"> <span class=\"entity-name\">epidermal growth factor receptor</span> <span class=\"entity-type\">[GENE-Y]</span></span><span class=\"others\"> and </span><span class=\"entity-wrapper\" style=\"color: black; background-color: #d5ac88\"> <span class=\"entity-name\">Her2</span> <span class=\"entity-type\">[GENE-Y]</span></span><span class=\"others\">). Preclinical models have demonstrated synergy for all these agents in combination with either chemotherapy or radiotherapy, leading to great enthusiasm regarding their ultimate contribution to lung cancer therapy. However, serious clinical challenges persist. These include the identification of the optimal dose(s); the proper integration of these agents into popular, established cytotoxic regimens; and the selection of the optimal setting(s) in which to test these compounds. Both </span><span class=\"entity-wrapper\" style=\"color: black; background-color: #d9b094\"> <span class=\"entity-name\">gefitinib</span> <span class=\"entity-type\">[CHEMICAL]</span></span><span class=\"others\"> and </span><span class=\"entity-wrapper\" style=\"color: black; background-color: #d9b094\"> <span class=\"entity-name\">erlotinib</span> <span class=\"entity-type\">[CHEMICAL]</span></span><span class=\"others\"> have shown clinical activity in pretreated, advanced non-small-cell lung cancer, but placebo-controlled randomized Phase III studies evaluating </span><span class=\"entity-wrapper\" style=\"color: black; background-color: #d9b094\"> <span class=\"entity-name\">gefitinib</span> <span class=\"entity-type\">[CHEMICAL]</span></span><span class=\"others\"> in combination with standard cytotoxic therapy, to our chagrin, have failed to demonstrate a survival advantage compared with chemotherapy alone.</span></div>"
            ],
            "text/plain": [
              "<IPython.core.display.HTML object>"
            ]
          },
          "metadata": {
            "tags": []
          }
        }
      ]
    }
  ]
}
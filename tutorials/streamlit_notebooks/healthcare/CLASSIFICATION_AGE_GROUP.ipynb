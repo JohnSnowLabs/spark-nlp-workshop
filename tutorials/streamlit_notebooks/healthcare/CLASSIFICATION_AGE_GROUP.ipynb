{
  "cells": [
    {
      "cell_type": "markdown",
      "metadata": {
        "id": "lokVHWdvaz-W"
      },
      "source": [
        "![JohnSnowLabs](https://nlp.johnsnowlabs.com/assets/images/logo.png)\n",
        "\n",
        "[![Open In Colab](https://colab.research.google.com/assets/colab-badge.svg)](https://colab.research.google.com/github/JohnSnowLabs/spark-nlp-workshop/blob/master/tutorials/streamlit_notebooks/healthcare/CLASSIFICATION_AGE_GROUP.ipynb)"
      ]
    },
    {
      "cell_type": "markdown",
      "source": [
        "## **CLASSIFICATION AGE GROUP**"
      ],
      "metadata": {
        "id": "fVHKZG19lAUH"
      }
    },
    {
      "cell_type": "markdown",
      "metadata": {
        "id": "U-UAcTkUbjzm"
      },
      "source": [
        "## **Colab Setup**"
      ]
    },
    {
      "cell_type": "code",
      "execution_count": null,
      "metadata": {
        "id": "5GlpBHUvcWup"
      },
      "outputs": [],
      "source": [
        "import json, os\n",
        "from google.colab import files\n",
        "\n",
        "if 'spark_jsl.json' not in os.listdir():\n",
        "  license_keys = files.upload()\n",
        "  os.rename(list(license_keys.keys())[0], 'spark_jsl.json')\n",
        "\n",
        "with open('spark_jsl.json') as f:\n",
        "    license_keys = json.load(f)\n",
        "\n",
        "# Defining license key-value pairs as local variables\n",
        "locals().update(license_keys)\n",
        "os.environ.update(license_keys)"
      ]
    },
    {
      "cell_type": "code",
      "execution_count": null,
      "metadata": {
        "id": "v6ROKz8c0f8k"
      },
      "outputs": [],
      "source": [
        "# Installing pyspark and spark-nlp\n",
        "! pip install --upgrade -q pyspark==3.1.2 spark-nlp==$PUBLIC_VERSION\n",
        "\n",
        "# Installing Spark NLP Healthcare\n",
        "! pip install --upgrade -q spark-nlp-jsl==$JSL_VERSION  --extra-index-url https://pypi.johnsnowlabs.com/$SECRET\n",
        "\n",
        "# Installing Spark NLP Display Library for visualization\n",
        "! pip install -q spark-nlp-display"
      ]
    },
    {
      "cell_type": "code",
      "execution_count": null,
      "metadata": {
        "id": "bV2hYhB50gAw",
        "outputId": "4b383a17-926a-481e-8917-598c6fc49547",
        "colab": {
          "base_uri": "https://localhost:8080/",
          "height": 258
        }
      },
      "outputs": [
        {
          "output_type": "stream",
          "name": "stdout",
          "text": [
            "Spark NLP Version : 5.0.1\n",
            "Spark NLP_JSL Version : 5.0.1\n"
          ]
        },
        {
          "output_type": "execute_result",
          "data": {
            "text/plain": [
              "<pyspark.sql.session.SparkSession at 0x7a0caf5c2fb0>"
            ],
            "text/html": [
              "\n",
              "            <div>\n",
              "                <p><b>SparkSession - in-memory</b></p>\n",
              "                \n",
              "        <div>\n",
              "            <p><b>SparkContext</b></p>\n",
              "\n",
              "            <p><a href=\"http://b5fbd6466749:4040\">Spark UI</a></p>\n",
              "\n",
              "            <dl>\n",
              "              <dt>Version</dt>\n",
              "                <dd><code>v3.1.2</code></dd>\n",
              "              <dt>Master</dt>\n",
              "                <dd><code>local[*]</code></dd>\n",
              "              <dt>AppName</dt>\n",
              "                <dd><code>Spark NLP Licensed</code></dd>\n",
              "            </dl>\n",
              "        </div>\n",
              "        \n",
              "            </div>\n",
              "        "
            ]
          },
          "metadata": {},
          "execution_count": 3
        }
      ],
      "source": [
        "import sparknlp\n",
        "import sparknlp_jsl\n",
        "\n",
        "from sparknlp.base import *\n",
        "from sparknlp.annotator import *\n",
        "from sparknlp_jsl.annotator import *\n",
        "\n",
        "from pyspark.sql import SparkSession\n",
        "from pyspark.sql import functions as F\n",
        "from pyspark.ml import Pipeline,PipelineModel\n",
        "from pyspark.sql.types import StringType, IntegerType\n",
        "\n",
        "import pandas as pd\n",
        "pd.set_option('display.max_colwidth', 200)\n",
        "\n",
        "import warnings\n",
        "warnings.filterwarnings('ignore')\n",
        "\n",
        "params = {\"spark.driver.memory\":\"16G\",\n",
        "          \"spark.kryoserializer.buffer.max\":\"2000M\",\n",
        "          \"spark.driver.maxResultSize\":\"2000M\"}\n",
        "\n",
        "spark = sparknlp_jsl.start(license_keys['SECRET'],params=params)\n",
        "\n",
        "print(\"Spark NLP Version :\", sparknlp.version())\n",
        "print(\"Spark NLP_JSL Version :\", sparknlp_jsl.version())\n",
        "\n",
        "spark"
      ]
    },
    {
      "cell_type": "markdown",
      "source": [
        "## **bert_sequence_classifier_age_group**"
      ],
      "metadata": {
        "id": "CcnKxL-06HzI"
      }
    },
    {
      "cell_type": "code",
      "execution_count": null,
      "metadata": {
        "id": "gIUWeolKFjZe"
      },
      "outputs": [],
      "source": [
        "text_list = [\"\"\"I'm only 25 and was prescribed lisnopril for high blood pressure. I also suffer from frequent headaches and migraines. Now the lisnopril actually did help with my headaches but the side effects are just too much. (Difficulty speaking, not myself, weakness) I made the decision to stop taking them. It's been 7 days and I literally can barely talk without my voice squeaking and sounding retarded. Im like on the verge of losing my job fuxk these poison pills like wtf do they give out to people.\"\"\",\n",
        "\"\"\"Hi, wondering if anyone has had a similar situation. My 1 year old daughter has the following; loose stools/ pale stools, elevated liver enzymes, low iron.  5 months and still no answers from drs.\"\"\",\n",
        "\"\"\"Patient was brought to the hospital due to lethargy, feeding difficulties, and difficulty breathing. Upon examination, patient was found to have a high-grade fever and increased respiratory rate. Lab results showed a high white blood cell count and chest X-ray revealed pneumonia. The patient was immediately started on intravenous antibiotics and oxygen therapy. Due to the severity of the infection, the treatment was continued for several days until the patient's fever subsided and oxygen saturation levels improved. The patient was also given nebulized bronchodilators to ease breathing difficulties. After a week, patient was discharged from the hospital with a prescription for oral antibiotics, which was continued at home for a few more days. The patient's parents were counseled on proper hygiene measures such as handwashing and avoiding close contact with sick individuals to prevent future infections.\"\"\",\n",
        "\"\"\"A child patient presents to the emergency room with complaints of fever, cough, and difficulty breathing. Upon examination, the child is found to have an elevated heart rate and low oxygen saturation levels. The child is diagnosed with pneumonia and is started on oral antibiotics immediately. Additionally, the child is given a nebulizer treatment with albuterol, a bronchodilator, to help with breathing. The family is told to monitor the child's condition closely and bring them back to the hospital if the symptoms worsen or do not improve within a few days.\"\"\",\n",
        "\"\"\"Patient presents with symptoms of severe anxiety and depression. They report difficulty sleeping, loss of appetite, and a lack of interest in activities they previously enjoyed. Upon further discussion, it is discovered that the patient has been regularly abusing prescription drugs, specifically benzodiazepines and opioids. The patient is referred to a specialist to address their substance abuse and provided with therapy and medication for their mental health issues.\"\"\",\n",
        "\"\"\"I have been taking Alendronic Acid for 2 years after breaking my femur and was diagnosed with Osteoporosis, I know drugs have side effects but I was not told about coming off them and the effects, getting some problems with it and would love a herbal or natural alternative I am 65 soon. My recent scan was good but I would prefer not to take this drug. How do I wean myself off this drug or can I just quit. help please thank you.\"\"\"\n",
        "]"
      ]
    },
    {
      "cell_type": "code",
      "source": [
        "document_assembler = DocumentAssembler()\\\n",
        "    .setInputCol(\"text\")\\\n",
        "    .setOutputCol(\"document\")\n",
        "\n",
        "tokenizer = Tokenizer() \\\n",
        "    .setInputCols([\"document\"]) \\\n",
        "    .setOutputCol(\"token\")\n",
        "\n",
        "sequenceClassifier = MedicalBertForSequenceClassification.pretrained(\"bert_sequence_classifier_age_group\", \"en\", \"clinical/models\")\\\n",
        "    .setInputCols([\"document\",'token'])\\\n",
        "    .setOutputCol(\"prediction\")\n",
        "\n",
        "clf_Pipeline = Pipeline(stages=[\n",
        "    document_assembler,\n",
        "    tokenizer,\n",
        "    sequenceClassifier])\n",
        "\n",
        "\n",
        "pipeline_model = clf_Pipeline.fit(spark.createDataFrame([[\"\"]]).toDF(\"text\"))"
      ],
      "metadata": {
        "id": "xE_o69860p6U",
        "outputId": "58960180-7aef-4351-c4e9-dc929ebffc0f",
        "colab": {
          "base_uri": "https://localhost:8080/"
        }
      },
      "execution_count": null,
      "outputs": [
        {
          "output_type": "stream",
          "name": "stdout",
          "text": [
            "bert_sequence_classifier_age_group download started this may take some time.\n",
            "[OK!]\n"
          ]
        }
      ]
    },
    {
      "cell_type": "code",
      "source": [
        "df = spark.createDataFrame(pd.DataFrame({\"text\" : text_list}))\n",
        "\n",
        "result = pipeline_model.transform(df)"
      ],
      "metadata": {
        "id": "pAZruv_Q01-J"
      },
      "execution_count": null,
      "outputs": []
    },
    {
      "cell_type": "code",
      "source": [
        "x = result.select(\"document.result\", \"prediction.result\")\n",
        "df = x.toDF('text', 'class')\n",
        "df.show(truncate=100)"
      ],
      "metadata": {
        "colab": {
          "base_uri": "https://localhost:8080/"
        },
        "id": "icplFhmX6dcw",
        "outputId": "3c3bf68d-8d78-410b-a474-c07ac102549a"
      },
      "execution_count": null,
      "outputs": [
        {
          "output_type": "stream",
          "name": "stdout",
          "text": [
            "+----------------------------------------------------------------------------------------------------+---------+\n",
            "|                                                                                                text|    class|\n",
            "+----------------------------------------------------------------------------------------------------+---------+\n",
            "|[I'm only 25 and was prescribed lisnopril for high blood pressure. I also suffer from frequent he...|  [Adult]|\n",
            "|[Hi, wondering if anyone has had a similar situation. My 1 year old daughter has the following; l...|  [Child]|\n",
            "|[Patient was brought to the hospital due to lethargy, feeding difficulties, and difficulty breath...|[Unknown]|\n",
            "|[A child patient presents to the emergency room with complaints of fever, cough, and difficulty b...|  [Child]|\n",
            "|[Patient presents with symptoms of severe anxiety and depression. They report difficulty sleeping...|[Unknown]|\n",
            "|[I have been taking Alendronic Acid for 2 years after breaking my femur and was diagnosed with Os...|  [Adult]|\n",
            "+----------------------------------------------------------------------------------------------------+---------+\n",
            "\n"
          ]
        }
      ]
    },
    {
      "cell_type": "markdown",
      "source": [
        "## **genericclassifier_age_group_sbiobert_cased_mli**"
      ],
      "metadata": {
        "id": "exuacRVr6mIl"
      }
    },
    {
      "cell_type": "code",
      "source": [
        "text_list = [\"\"\"Hi, wondering if anyone has had a similar situation. My 1 year old daughter has the following; loose stools/ pale stools, elevated liver enzymes, low iron.  5 months and still no answers from drs.\"\"\",\n",
        "\"\"\"Patient was brought to the hospital due to lethargy, feeding difficulties, and difficulty breathing. Upon examination, patient was found to have a high-grade fever and increased respiratory rate. Lab results showed a high white blood cell count and chest X-ray revealed pneumonia. The patient was immediately started on intravenous antibiotics and oxygen therapy. Due to the severity of the infection, the treatment was continued for several days until the patient's fever subsided and oxygen saturation levels improved. The patient was also given nebulized bronchodilators to ease breathing difficulties. After a week, patient was discharged from the hospital with a prescription for oral antibiotics, which was continued at home for a few more days. The patient's parents were counseled on proper hygiene measures such as handwashing and avoiding close contact with sick individuals to prevent future infections.\"\"\",\n",
        "\"\"\"A child patient presents to the emergency room with complaints of fever, cough, and difficulty breathing. Upon examination, the child is found to have an elevated heart rate and low oxygen saturation levels. The child is diagnosed with pneumonia and is started on oral antibiotics immediately. Additionally, the child is given a nebulizer treatment with albuterol, a bronchodilator, to help with breathing. The family is told to monitor the child's condition closely and bring them back to the hospital if the symptoms worsen or do not improve within a few days.\"\"\",\n",
        "\"\"\"Patient presents with symptoms of severe anxiety and depression. They report difficulty sleeping, loss of appetite, and a lack of interest in activities they previously enjoyed. Upon further discussion, it is discovered that the patient has been regularly abusing prescription drugs, specifically benzodiazepines and opioids. The patient is referred to a specialist to address their substance abuse and provided with therapy and medication for their mental health issues.\"\"\",\n",
        "\"\"\"I have been taking Alendronic Acid for 2 years after breaking my femur and was diagnosed with Osteoporosis, I know drugs have side effects but I was not told about coming off them and the effects, getting some problems with it and would love a herbal or natural alternative I am 65 soon. My recent scan was good but I would prefer not to take this drug. How do I wean myself off this drug or can I just quit. help please thank you.\"\"\"\n",
        "]"
      ],
      "metadata": {
        "id": "kY8BidEu79Di"
      },
      "execution_count": null,
      "outputs": []
    },
    {
      "cell_type": "code",
      "source": [
        "document_assembler = DocumentAssembler()\\\n",
        "    .setInputCol(\"text\")\\\n",
        "    .setOutputCol(\"document\")\n",
        "\n",
        "sentence_embeddings = BertSentenceEmbeddings.pretrained(\"sbiobert_base_cased_mli\", 'en','clinical/models')\\\n",
        "    .setInputCols([\"document\"])\\\n",
        "    .setOutputCol(\"sentence_embeddings\")\n",
        "\n",
        "features_asm = FeaturesAssembler()\\\n",
        "    .setInputCols([\"sentence_embeddings\"])\\\n",
        "    .setOutputCol(\"features\")\n",
        "\n",
        "generic_classifier = GenericClassifierModel.pretrained(\"genericclassifier_age_group_sbiobert_cased_mli\", \"en\", \"clinical/models\")\\\n",
        "    .setInputCols([\"features\"])\\\n",
        "    .setOutputCol(\"prediction\")\n",
        "\n",
        "pipeline = Pipeline(stages=[\n",
        "    document_assembler,\n",
        "    sentence_embeddings,\n",
        "    features_asm,\n",
        "    generic_classifier\n",
        "])\n",
        "\n",
        "\n",
        "pipeline_model = pipeline.fit(spark.createDataFrame([[\"\"]]).toDF(\"text\"))"
      ],
      "metadata": {
        "id": "-_ub1OCx26jC",
        "colab": {
          "base_uri": "https://localhost:8080/"
        },
        "outputId": "f74825d7-e084-4927-9bfb-97617f703f55"
      },
      "execution_count": null,
      "outputs": [
        {
          "output_type": "stream",
          "name": "stdout",
          "text": [
            "sbiobert_base_cased_mli download started this may take some time.\n",
            "Approximate size to download 384.3 MB\n",
            "[OK!]\n",
            "genericclassifier_age_group_sbiobert_cased_mli download started this may take some time.\n",
            "[OK!]\n"
          ]
        }
      ]
    },
    {
      "cell_type": "code",
      "source": [
        "df = spark.createDataFrame(pd.DataFrame({\"text\" : text_list}))\n",
        "\n",
        "result = pipeline_model.transform(df)"
      ],
      "metadata": {
        "id": "lrvN3Dg867fb"
      },
      "execution_count": null,
      "outputs": []
    },
    {
      "cell_type": "code",
      "source": [
        "x = result.select(\"document.result\", \"prediction.result\")\n",
        "df = x.toDF('text', 'class')\n",
        "df.show(truncate=100)"
      ],
      "metadata": {
        "colab": {
          "base_uri": "https://localhost:8080/"
        },
        "id": "krCvsy-p6-Zu",
        "outputId": "5b9a9b95-a5f4-4d2e-990a-3ecfce8eb606"
      },
      "execution_count": null,
      "outputs": [
        {
          "output_type": "stream",
          "name": "stdout",
          "text": [
            "+----------------------------------------------------------------------------------------------------+---------+\n",
            "|                                                                                                text|    class|\n",
            "+----------------------------------------------------------------------------------------------------+---------+\n",
            "|[Hi, wondering if anyone has had a similar situation. My 1 year old daughter has the following; l...|  [Child]|\n",
            "|[Patient was brought to the hospital due to lethargy, feeding difficulties, and difficulty breath...|[Unknown]|\n",
            "|[A child patient presents to the emergency room with complaints of fever, cough, and difficulty b...|  [Child]|\n",
            "|[Patient presents with symptoms of severe anxiety and depression. They report difficulty sleeping...|[Unknown]|\n",
            "|[I have been taking Alendronic Acid for 2 years after breaking my femur and was diagnosed with Os...|  [Adult]|\n",
            "+----------------------------------------------------------------------------------------------------+---------+\n",
            "\n"
          ]
        }
      ]
    },
    {
      "cell_type": "markdown",
      "source": [
        "## **few_shot_classifier_age_group_sbiobert_cased_mli**"
      ],
      "metadata": {
        "id": "zFmqHHn47PK5"
      }
    },
    {
      "cell_type": "code",
      "source": [
        "text_list = [\"\"\"Hi, wondering if anyone has had a similar situation. My 1 year old daughter has the following; loose stools/ pale stools, elevated liver enzymes, low iron.  5 months and still no answers from drs.\"\"\",\n",
        "\"\"\"Patient was brought to the hospital due to lethargy, feeding difficulties, and difficulty breathing. Upon examination, patient was found to have a high-grade fever and increased respiratory rate. Lab results showed a high white blood cell count and chest X-ray revealed pneumonia. The patient was immediately started on intravenous antibiotics and oxygen therapy. Due to the severity of the infection, the treatment was continued for several days until the patient's fever subsided and oxygen saturation levels improved. The patient was also given nebulized bronchodilators to ease breathing difficulties. After a week, patient was discharged from the hospital with a prescription for oral antibiotics, which was continued at home for a few more days. The patient's parents were counseled on proper hygiene measures such as handwashing and avoiding close contact with sick individuals to prevent future infections.\"\"\",\n",
        "\"\"\"A child patient presents to the emergency room with complaints of fever, cough, and difficulty breathing. Upon examination, the child is found to have an elevated heart rate and low oxygen saturation levels. The child is diagnosed with pneumonia and is started on oral antibiotics immediately. Additionally, the child is given a nebulizer treatment with albuterol, a bronchodilator, to help with breathing. The family is told to monitor the child's condition closely and bring them back to the hospital if the symptoms worsen or do not improve within a few days.\"\"\",\n",
        "\"\"\"Patient presents with symptoms of severe anxiety and depression. They report difficulty sleeping, loss of appetite, and a lack of interest in activities they previously enjoyed. Upon further discussion, it is discovered that the patient has been regularly abusing prescription drugs, specifically benzodiazepines and opioids. The patient is referred to a specialist to address their substance abuse and provided with therapy and medication for their mental health issues.\"\"\"\n",
        "]"
      ],
      "metadata": {
        "id": "qUj4wv8o8KBs"
      },
      "execution_count": null,
      "outputs": []
    },
    {
      "cell_type": "code",
      "source": [
        "document_assembler = DocumentAssembler()\\\n",
        "    .setInputCol(\"text\")\\\n",
        "    .setOutputCol(\"document\")\n",
        "\n",
        "bert_sent = BertSentenceEmbeddings.pretrained(\"sbiobert_base_cased_mli\", \"en\", \"clinical/models\")\\\n",
        "    .setInputCols([\"document\"])\\\n",
        "    .setOutputCol(\"sentence_embeddings\")\n",
        "\n",
        "few_shot_classifier = FewShotClassifierModel.pretrained(\"few_shot_classifier_age_group_sbiobert_cased_mli\", \"en\", \"clinical/models\")\\\n",
        "    .setInputCols([\"sentence_embeddings\"])\\\n",
        "    .setOutputCol(\"prediction\")\n",
        "\n",
        "clf_Pipeline = Pipeline(stages=[\n",
        "    document_assembler,\n",
        "    bert_sent,\n",
        "    few_shot_classifier\n",
        "])\n",
        "\n",
        "pipeline_model = clf_Pipeline.fit(spark.createDataFrame([[\"\"]]).toDF(\"text\"))"
      ],
      "metadata": {
        "colab": {
          "base_uri": "https://localhost:8080/"
        },
        "id": "HJQ2Ls9E7REx",
        "outputId": "bd017adc-ffa5-46de-a290-d4613e89b970"
      },
      "execution_count": null,
      "outputs": [
        {
          "output_type": "stream",
          "name": "stdout",
          "text": [
            "sbiobert_base_cased_mli download started this may take some time.\n",
            "Approximate size to download 384.3 MB\n",
            "[OK!]\n",
            "few_shot_classifier_age_group_sbiobert_cased_mli download started this may take some time.\n",
            "[OK!]\n"
          ]
        }
      ]
    },
    {
      "cell_type": "code",
      "source": [
        "df = spark.createDataFrame(pd.DataFrame({\"text\" : text_list}))\n",
        "\n",
        "result = pipeline_model.transform(df)"
      ],
      "metadata": {
        "id": "pd0OhDC27Yvd"
      },
      "execution_count": null,
      "outputs": []
    },
    {
      "cell_type": "code",
      "source": [
        "x = result.select(\"document.result\", \"prediction.result\")\n",
        "df = x.toDF('text', 'class')\n",
        "df.show(truncate=100)"
      ],
      "metadata": {
        "colab": {
          "base_uri": "https://localhost:8080/"
        },
        "id": "zQkQtvIr7ZdE",
        "outputId": "0c3b8242-3d6d-4f12-dd67-4e3d332e3fdf"
      },
      "execution_count": null,
      "outputs": [
        {
          "output_type": "stream",
          "name": "stdout",
          "text": [
            "+----------------------------------------------------------------------------------------------------+---------+\n",
            "|                                                                                                text|    class|\n",
            "+----------------------------------------------------------------------------------------------------+---------+\n",
            "|[Hi, wondering if anyone has had a similar situation. My 1 year old daughter has the following; l...|  [Child]|\n",
            "|[Patient was brought to the hospital due to lethargy, feeding difficulties, and difficulty breath...|[Unknown]|\n",
            "|[A child patient presents to the emergency room with complaints of fever, cough, and difficulty b...|  [Child]|\n",
            "|[Patient presents with symptoms of severe anxiety and depression. They report difficulty sleeping...|[Unknown]|\n",
            "+----------------------------------------------------------------------------------------------------+---------+\n",
            "\n"
          ]
        }
      ]
    },
    {
      "cell_type": "code",
      "source": [],
      "metadata": {
        "id": "8FD1wcO_8N3f"
      },
      "execution_count": null,
      "outputs": []
    }
  ],
  "metadata": {
    "accelerator": "GPU",
    "colab": {
      "machine_shape": "hm",
      "provenance": [],
      "gpuClass": "premium"
    },
    "gpuClass": "premium",
    "kernelspec": {
      "display_name": "Python 3.10.7 64-bit",
      "language": "python",
      "name": "python3"
    },
    "language_info": {
      "codemirror_mode": {
        "name": "ipython",
        "version": 3
      },
      "file_extension": ".py",
      "mimetype": "text/x-python",
      "name": "python",
      "nbconvert_exporter": "python",
      "pygments_lexer": "ipython3",
      "version": "3.10.7"
    },
    "vscode": {
      "interpreter": {
        "hash": "369f2c481f4da34e4445cda3fffd2e751bd1c4d706f27375911949ba6bb62e1c"
      }
    }
  },
  "nbformat": 4,
  "nbformat_minor": 0
}
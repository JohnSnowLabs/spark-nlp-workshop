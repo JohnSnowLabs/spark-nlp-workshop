{
  "nbformat": 4,
  "nbformat_minor": 0,
  "metadata": {
    "colab": {
      "name": "NER_HUMAN_PHENOTYPE_GENE_CLINICAL.ipynb",
      "provenance": [],
      "collapsed_sections": [],
      "toc_visible": true
    },
    "kernelspec": {
      "name": "python3",
      "display_name": "Python 3"
    }
  },
  "cells": [
    {
      "cell_type": "markdown",
      "metadata": {
        "id": "TA21Jo5d9SVq",
        "colab_type": "text"
      },
      "source": [
        "\n",
        "\n",
        "![JohnSnowLabs](https://nlp.johnsnowlabs.com/assets/images/logo.png)\n",
        "\n",
        "[![Open In Colab](https://colab.research.google.com/assets/colab-badge.svg)](https://colab.research.google.com/github/JohnSnowLabs/spark-nlp-workshop/blob/master/tutorials/streamlit_notebooks/healthcare/NER_HUMAN_PHENOTYPE_GENE_CLINICAL.ipynb)\n",
        "\n",
        "\n"
      ]
    },
    {
      "cell_type": "markdown",
      "metadata": {
        "id": "CzIdjHkAW8TB",
        "colab_type": "text"
      },
      "source": [
        "# **Detect genes and human phenotypes**"
      ]
    },
    {
      "cell_type": "markdown",
      "metadata": {
        "id": "6uDmeHEFW7_h",
        "colab_type": "text"
      },
      "source": [
        "To run this yourself, you will need to upload your license keys to the notebook. Otherwise, you can look at the example outputs at the bottom of the notebook. To upload license keys, open the file explorer on the left side of the screen and upload `workshop_license_keys.json` to the folder that opens."
      ]
    },
    {
      "cell_type": "markdown",
      "metadata": {
        "id": "wIeCOiJNW-88",
        "colab_type": "text"
      },
      "source": [
        "## 1. Colab Setup"
      ]
    },
    {
      "cell_type": "markdown",
      "metadata": {
        "id": "HMIDv74CYN0d",
        "colab_type": "text"
      },
      "source": [
        "Import license keys"
      ]
    },
    {
      "cell_type": "code",
      "metadata": {
        "id": "ttHPIV2JXbIM",
        "colab_type": "code",
        "colab": {
          "base_uri": "https://localhost:8080/",
          "height": 51
        },
        "outputId": "15431905-addc-4f27-d6ad-1ec6360f635e"
      },
      "source": [
        "import os\n",
        "import json\n",
        "\n",
        "with open('/content/spark_nlp_for_healthcare.json', 'r') as f:\n",
        "    license_keys = json.load(f)\n",
        "\n",
        "license_keys.keys()\n",
        "\n",
        "secret = license_keys['SECRET']\n",
        "os.environ['SPARK_NLP_LICENSE'] = license_keys['SPARK_NLP_LICENSE']\n",
        "os.environ['AWS_ACCESS_KEY_ID'] = license_keys['AWS_ACCESS_KEY_ID']\n",
        "os.environ['AWS_SECRET_ACCESS_KEY'] = license_keys['AWS_SECRET_ACCESS_KEY']\n",
        "sparknlp_version = license_keys[\"PUBLIC_VERSION\"]\n",
        "jsl_version = license_keys[\"JSL_VERSION\"]\n",
        "\n",
        "print ('SparkNLP Version:', sparknlp_version)\n",
        "print ('SparkNLP-JSL Version:', jsl_version)"
      ],
      "execution_count": 1,
      "outputs": [
        {
          "output_type": "stream",
          "text": [
            "SparkNLP Version: 2.6.0\n",
            "SparkNLP-JSL Version: 2.6.0\n"
          ],
          "name": "stdout"
        }
      ]
    },
    {
      "cell_type": "markdown",
      "metadata": {
        "id": "rQtc1CHaYQjU",
        "colab_type": "text"
      },
      "source": [
        "Install dependencies"
      ]
    },
    {
      "cell_type": "code",
      "metadata": {
        "id": "CGJktFHdHL1n",
        "colab_type": "code",
        "colab": {
          "base_uri": "https://localhost:8080/",
          "height": 326
        },
        "outputId": "5e15d532-63ef-4225-98a4-467d4b0c31e7"
      },
      "source": [
        "# Install Java\n",
        "! apt-get update -qq\n",
        "! apt-get install -y openjdk-8-jdk-headless -qq > /dev/null\n",
        "! java -version\n",
        "\n",
        "# Install pyspark\n",
        "! pip install --ignore-installed -q pyspark==2.4.4\n",
        "\n",
        "# Install Spark NLP\n",
        "! pip install --ignore-installed spark-nlp==$sparknlp_version\n",
        "! python -m pip install --upgrade spark-nlp-jsl==$jsl_version --extra-index-url https://pypi.johnsnowlabs.com/$secret"
      ],
      "execution_count": 2,
      "outputs": [
        {
          "output_type": "stream",
          "text": [
            "openjdk version \"11.0.8\" 2020-07-14\n",
            "OpenJDK Runtime Environment (build 11.0.8+10-post-Ubuntu-0ubuntu118.04.1)\n",
            "OpenJDK 64-Bit Server VM (build 11.0.8+10-post-Ubuntu-0ubuntu118.04.1, mixed mode, sharing)\n",
            "\u001b[K     |████████████████████████████████| 215.7MB 70kB/s \n",
            "\u001b[K     |████████████████████████████████| 204kB 23.5MB/s \n",
            "\u001b[?25h  Building wheel for pyspark (setup.py) ... \u001b[?25l\u001b[?25hdone\n",
            "Collecting spark-nlp==2.6.0\n",
            "\u001b[?25l  Downloading https://files.pythonhosted.org/packages/e4/30/1bd0abcc97caed518efe527b9146897255dffcf71c4708586a82ea9eb29a/spark_nlp-2.6.0-py2.py3-none-any.whl (125kB)\n",
            "\u001b[K     |████████████████████████████████| 133kB 2.7MB/s \n",
            "\u001b[?25hInstalling collected packages: spark-nlp\n",
            "Successfully installed spark-nlp-2.6.0\n",
            "Looking in indexes: https://pypi.org/simple, https://pypi.johnsnowlabs.com/2.6.0-8388813d58b67fa25bf9cf603393363af96dba16\n",
            "Collecting spark-nlp-jsl==2.6.0\n",
            "Requirement already satisfied, skipping upgrade: spark-nlp==2.6.0 in /usr/local/lib/python3.6/dist-packages (from spark-nlp-jsl==2.6.0) (2.6.0)\n",
            "Installing collected packages: spark-nlp-jsl\n",
            "Successfully installed spark-nlp-jsl-2.6.0\n"
          ],
          "name": "stdout"
        }
      ]
    },
    {
      "cell_type": "markdown",
      "metadata": {
        "id": "Hj5FRDV4YSXN",
        "colab_type": "text"
      },
      "source": [
        "Import dependencies into Python and start the Spark session"
      ]
    },
    {
      "cell_type": "code",
      "metadata": {
        "id": "sw-t1zxlHTB7",
        "colab_type": "code",
        "colab": {}
      },
      "source": [
        "os.environ['JAVA_HOME'] = \"/usr/lib/jvm/java-8-openjdk-amd64\"\n",
        "os.environ['PATH'] = os.environ['JAVA_HOME'] + \"/bin:\" + os.environ['PATH']\n",
        "\n",
        "import pandas as pd\n",
        "from pyspark.ml import Pipeline\n",
        "from pyspark.sql import SparkSession\n",
        "import pyspark.sql.functions as F\n",
        "\n",
        "import sparknlp\n",
        "from sparknlp.annotator import *\n",
        "from sparknlp_jsl.annotator import *\n",
        "from sparknlp.base import *\n",
        "import sparknlp_jsl\n",
        "\n",
        "spark = sparknlp_jsl.start(secret)"
      ],
      "execution_count": 3,
      "outputs": []
    },
    {
      "cell_type": "markdown",
      "metadata": {
        "id": "9RgiqfX5XDqb",
        "colab_type": "text"
      },
      "source": [
        "## 2. Select the NER model and construct the pipeline"
      ]
    },
    {
      "cell_type": "markdown",
      "metadata": {
        "id": "xnLg84PduCRf",
        "colab_type": "text"
      },
      "source": [
        "Select the NER model\n",
        "\n",
        "For more details: https://github.com/JohnSnowLabs/spark-nlp-models#pretrained-models---spark-nlp-for-healthcare"
      ]
    },
    {
      "cell_type": "code",
      "metadata": {
        "id": "UvT2PxSquGlQ",
        "colab_type": "code",
        "colab": {}
      },
      "source": [
        "MODEL_NAME = \"ner_human_phenotype_gene_clinical\""
      ],
      "execution_count": 4,
      "outputs": []
    },
    {
      "cell_type": "markdown",
      "metadata": {
        "id": "zweiG2ilZqoR",
        "colab_type": "text"
      },
      "source": [
        "Create the pipeline"
      ]
    },
    {
      "cell_type": "code",
      "metadata": {
        "id": "LLuDz_t40be4",
        "colab_type": "code",
        "colab": {
          "base_uri": "https://localhost:8080/",
          "height": 119
        },
        "outputId": "5047fa30-b2f7-448b-d519-34a9aeaf29c6"
      },
      "source": [
        "document_assembler = DocumentAssembler() \\\n",
        "    .setInputCol('text')\\\n",
        "    .setOutputCol('document')\n",
        "\n",
        "sentence_detector = SentenceDetector() \\\n",
        "    .setInputCols(['document'])\\\n",
        "    .setOutputCol('sentence')\n",
        "\n",
        "tokenizer = Tokenizer()\\\n",
        "    .setInputCols(['sentence']) \\\n",
        "    .setOutputCol('token')\n",
        "\n",
        "word_embeddings = WordEmbeddingsModel.pretrained('embeddings_clinical', 'en', 'clinical/models') \\\n",
        "    .setInputCols(['sentence', 'token']) \\\n",
        "    .setOutputCol('embeddings')\n",
        "\n",
        "clinical_ner = NerDLModel.pretrained(MODEL_NAME, 'en', 'clinical/models') \\\n",
        "    .setInputCols(['sentence', 'token', 'embeddings']) \\\n",
        "    .setOutputCol('ner')\n",
        "\n",
        "ner_converter = NerConverter()\\\n",
        "    .setInputCols(['sentence', 'token', 'ner']) \\\n",
        "    .setOutputCol('ner_chunk')\n",
        "\n",
        "nlp_pipeline = Pipeline(stages=[\n",
        "    document_assembler, \n",
        "    sentence_detector,\n",
        "    tokenizer,\n",
        "    word_embeddings,\n",
        "    clinical_ner,\n",
        "    ner_converter])\n",
        "\n",
        "empty_df = spark.createDataFrame([['']]).toDF(\"text\")\n",
        "pipeline_model = nlp_pipeline.fit(empty_df)\n",
        "light_pipeline = LightPipeline(pipeline_model)"
      ],
      "execution_count": 5,
      "outputs": [
        {
          "output_type": "stream",
          "text": [
            "embeddings_clinical download started this may take some time.\n",
            "Approximate size to download 1.6 GB\n",
            "[OK!]\n",
            "ner_human_phenotype_gene_clinical download started this may take some time.\n",
            "Approximate size to download 13.9 MB\n",
            "[OK!]\n"
          ],
          "name": "stdout"
        }
      ]
    },
    {
      "cell_type": "markdown",
      "metadata": {
        "id": "2Y9GpdJhXIpD",
        "colab_type": "text"
      },
      "source": [
        "## 3. Create example inputs"
      ]
    },
    {
      "cell_type": "code",
      "metadata": {
        "id": "vBOKkB2THdGI",
        "colab_type": "code",
        "colab": {}
      },
      "source": [
        "# Enter examples as strings in this array\n",
        "input_list = [\n",
        "    \"\"\"Herein, we report a third patient (not related to the previously reported family) with bilateral colobomatous microphthalmia and developmental delay in whom genetic studies identified a homozygous TENM3 splicing mutation c.2968-2AAAAAT (p.Val990Cysfs*13). This report supports the association of TENM3 mutations with colobomatous microphthalmia and expands the phenotypic spectrum associated with mutations in this gene. A third proband was doubly heterozygous for inherited rare variants in additional components of complex I, NDUFAF2 and NDUFB9, confirming that Histiocytoid CM is genetically heterogeneous. Our data indicate that 5-hmC might serve as a metastasis marker for cancer and that the decreased expression of LSH is likely one of the mechanisms of genome instability underlying 5-hmC loss in cancer Forty unique IFNGR1 mutations have been reported and they exert either an autosomal dominant or an autosomal recessive effect. We examined the diagnostic and prognostic value of altered reticulin framework and the immunoprofile of biomarkers including IGF-2, proteins involved in cell proliferation and mitotic spindle regulation (Ki67, p53, BUB1B, HURP, NEK2), DNA damage repair (PBK, -H2AX), telomere regulation (DAX, ATRX), wnt-signaling pathway (beta-catenin) and PI3K signaling pathway (PTEN, phospho-mTOR) in a tissue microarray of 50 adenomas and 43 carcinomas that were characterized for angioinvasion as defined by strict criteria, Weiss score, and mitotic rate-based tumor grade. IGF-2 and proteins involved in cell proliferation and mitotic spindle regulation (Ki67, p53, BUB1B, HURP, NEK2), DNA damage proteins (PBK, -H2AX), regulators of telomeres (DAXX, ATRX), and beta-catenin revealed characteristic expression profiles enabling the distinction of carcinomas from adenomas. Angioinvasion defined as tumor cells invading through a vessel wall and intravascular tumor cells admixed with thrombus proved to be the best prognostic parameter, predicting adverse outcome in the entire cohort as well as within low-grade ACCs. Low mitotic tumor grade, Weiss score, global loss of DAXX expression, and high phospho-mTOR expression correlated with disease-free survival, but Weiss score and biomarkers failed to predict adverse outcome in low-grade disease.\"\"\",\n",
        "]"
      ],
      "execution_count": 6,
      "outputs": []
    },
    {
      "cell_type": "markdown",
      "metadata": {
        "id": "mv0abcwhXWC-",
        "colab_type": "text"
      },
      "source": [
        "## 4. Use the pipeline to create outputs"
      ]
    },
    {
      "cell_type": "code",
      "metadata": {
        "id": "TK1DB9JZaPs3",
        "colab_type": "code",
        "colab": {}
      },
      "source": [
        "df = spark.createDataFrame(pd.DataFrame({\"text\": input_list}))\n",
        "result = pipeline_model.transform(df)"
      ],
      "execution_count": 7,
      "outputs": []
    },
    {
      "cell_type": "markdown",
      "metadata": {
        "id": "UQY8tAP6XZJL",
        "colab_type": "text"
      },
      "source": [
        "## 5. Visualize results"
      ]
    },
    {
      "cell_type": "markdown",
      "metadata": {
        "id": "hnsMLq9gctSq",
        "colab_type": "text"
      },
      "source": [
        "Visualize outputs as data frame"
      ]
    },
    {
      "cell_type": "code",
      "metadata": {
        "id": "Ar32BZu7J79X",
        "colab_type": "code",
        "colab": {
          "base_uri": "https://localhost:8080/",
          "height": 459
        },
        "outputId": "018bc6a6-261d-4c09-ecc0-2268f5d2c55d"
      },
      "source": [
        "exploded = F.explode(F.arrays_zip('ner_chunk.result', 'ner_chunk.metadata'))\n",
        "select_expression_0 = F.expr(\"cols['0']\").alias(\"chunk\")\n",
        "select_expression_1 = F.expr(\"cols['1']['entity']\").alias(\"ner_label\")\n",
        "result.select(exploded.alias(\"cols\")) \\\n",
        "    .select(select_expression_0, select_expression_1).show(truncate=False)\n",
        "result = result.toPandas()"
      ],
      "execution_count": 8,
      "outputs": [
        {
          "output_type": "stream",
          "text": [
            "+-------------------+---------+\n",
            "|chunk              |ner_label|\n",
            "+-------------------+---------+\n",
            "|bilateral          |HP       |\n",
            "|microphthalmia     |HP       |\n",
            "|developmental delay|HP       |\n",
            "|TENM3              |GENE     |\n",
            "|TENM3              |GENE     |\n",
            "|microphthalmia     |HP       |\n",
            "|NDUFAF2            |GENE     |\n",
            "|NDUFB9             |GENE     |\n",
            "|heterogeneous      |HP       |\n",
            "|cancer             |HP       |\n",
            "|LSH                |GENE     |\n",
            "|IFNGR1             |GENE     |\n",
            "|autosomal recessive|HP       |\n",
            "|BUB1B              |GENE     |\n",
            "|HURP               |GENE     |\n",
            "|NEK2               |GENE     |\n",
            "|damage             |GENE     |\n",
            "|PBK                |GENE     |\n",
            "|ATRX               |GENE     |\n",
            "|beta-catenin       |GENE     |\n",
            "+-------------------+---------+\n",
            "only showing top 20 rows\n",
            "\n"
          ],
          "name": "stdout"
        }
      ]
    },
    {
      "cell_type": "markdown",
      "metadata": {
        "id": "1wdVmoUcdnAk",
        "colab_type": "text"
      },
      "source": [
        "Functions to display outputs as HTML"
      ]
    },
    {
      "cell_type": "code",
      "metadata": {
        "id": "tFeu7loodcQQ",
        "colab_type": "code",
        "colab": {}
      },
      "source": [
        "from IPython.display import HTML, display\n",
        "import random\n",
        "\n",
        "def get_color():\n",
        "    r = lambda: random.randint(128,255)\n",
        "    return \"#%02x%02x%02x\" % (r(), r(), r())\n",
        "\n",
        "def annotation_to_html(full_annotation):\n",
        "    ner_chunks = full_annotation[0]['ner_chunk']\n",
        "    text = full_annotation[0]['document'][0].result\n",
        "    label_color = {}\n",
        "    for chunk in ner_chunks:\n",
        "        label_color[chunk.metadata['entity']] = get_color()\n",
        "\n",
        "    html_output = \"<div>\"\n",
        "    pos = 0\n",
        "\n",
        "    for n in ner_chunks:\n",
        "        if pos < n.begin and pos < len(text):\n",
        "            html_output += f\"<span class=\\\"others\\\">{text[pos:n.begin]}</span>\"\n",
        "        pos = n.end + 1\n",
        "        html_output += f\"<span class=\\\"entity-wrapper\\\" style=\\\"color: black; background-color: {label_color[n.metadata['entity']]}\\\"> <span class=\\\"entity-name\\\">{n.result}</span> <span class=\\\"entity-type\\\">[{n.metadata['entity']}]</span></span>\"\n",
        "\n",
        "    if pos < len(text):\n",
        "        html_output += f\"<span class=\\\"others\\\">{text[pos:]}</span>\"\n",
        "\n",
        "    html_output += \"</div>\"\n",
        "    display(HTML(html_output))"
      ],
      "execution_count": 9,
      "outputs": []
    },
    {
      "cell_type": "markdown",
      "metadata": {
        "id": "-piHygJ6dpEa",
        "colab_type": "text"
      },
      "source": [
        "Display example outputs as HTML"
      ]
    },
    {
      "cell_type": "code",
      "metadata": {
        "id": "AtbhE24VeG_C",
        "colab_type": "code",
        "colab": {
          "base_uri": "https://localhost:8080/",
          "height": 289
        },
        "outputId": "ad2129b6-27ef-49c7-f3b4-5fee56ee2d54"
      },
      "source": [
        "for example in input_list:\n",
        "    annotation_to_html(light_pipeline.fullAnnotate(example))"
      ],
      "execution_count": 10,
      "outputs": [
        {
          "output_type": "display_data",
          "data": {
            "text/html": [
              "<div><span class=\"others\">Herein, we report a third patient (not related to the previously reported family) with </span><span class=\"entity-wrapper\" style=\"color: black; background-color: #df8085\"> <span class=\"entity-name\">bilateral</span> <span class=\"entity-type\">[HP]</span></span><span class=\"others\"> colobomatous </span><span class=\"entity-wrapper\" style=\"color: black; background-color: #df8085\"> <span class=\"entity-name\">microphthalmia</span> <span class=\"entity-type\">[HP]</span></span><span class=\"others\"> and </span><span class=\"entity-wrapper\" style=\"color: black; background-color: #df8085\"> <span class=\"entity-name\">developmental delay</span> <span class=\"entity-type\">[HP]</span></span><span class=\"others\"> in whom genetic studies identified a homozygous </span><span class=\"entity-wrapper\" style=\"color: black; background-color: #da98ab\"> <span class=\"entity-name\">TENM3</span> <span class=\"entity-type\">[GENE]</span></span><span class=\"others\"> splicing mutation c.2968-2AAAAAT (p.Val990Cysfs*13). This report supports the association of </span><span class=\"entity-wrapper\" style=\"color: black; background-color: #da98ab\"> <span class=\"entity-name\">TENM3</span> <span class=\"entity-type\">[GENE]</span></span><span class=\"others\"> mutations with colobomatous </span><span class=\"entity-wrapper\" style=\"color: black; background-color: #df8085\"> <span class=\"entity-name\">microphthalmia</span> <span class=\"entity-type\">[HP]</span></span><span class=\"others\"> and expands the phenotypic spectrum associated with mutations in this gene. A third proband was doubly heterozygous for inherited rare variants in additional components of complex I, </span><span class=\"entity-wrapper\" style=\"color: black; background-color: #da98ab\"> <span class=\"entity-name\">NDUFAF2</span> <span class=\"entity-type\">[GENE]</span></span><span class=\"others\"> and </span><span class=\"entity-wrapper\" style=\"color: black; background-color: #da98ab\"> <span class=\"entity-name\">NDUFB9</span> <span class=\"entity-type\">[GENE]</span></span><span class=\"others\">, confirming that Histiocytoid CM is genetically </span><span class=\"entity-wrapper\" style=\"color: black; background-color: #df8085\"> <span class=\"entity-name\">heterogeneous</span> <span class=\"entity-type\">[HP]</span></span><span class=\"others\">. Our data indicate that 5-hmC might serve as a metastasis marker for </span><span class=\"entity-wrapper\" style=\"color: black; background-color: #df8085\"> <span class=\"entity-name\">cancer</span> <span class=\"entity-type\">[HP]</span></span><span class=\"others\"> and that the decreased expression of </span><span class=\"entity-wrapper\" style=\"color: black; background-color: #da98ab\"> <span class=\"entity-name\">LSH</span> <span class=\"entity-type\">[GENE]</span></span><span class=\"others\"> is likely one of the mechanisms of genome instability underlying 5-hmC loss in cancer Forty unique </span><span class=\"entity-wrapper\" style=\"color: black; background-color: #da98ab\"> <span class=\"entity-name\">IFNGR1</span> <span class=\"entity-type\">[GENE]</span></span><span class=\"others\"> mutations have been reported and they exert either an autosomal dominant or an </span><span class=\"entity-wrapper\" style=\"color: black; background-color: #df8085\"> <span class=\"entity-name\">autosomal recessive</span> <span class=\"entity-type\">[HP]</span></span><span class=\"others\"> effect. We examined the diagnostic and prognostic value of altered reticulin framework and the immunoprofile of biomarkers including IGF-2, proteins involved in cell proliferation and mitotic spindle regulation (Ki67, p53, </span><span class=\"entity-wrapper\" style=\"color: black; background-color: #da98ab\"> <span class=\"entity-name\">BUB1B</span> <span class=\"entity-type\">[GENE]</span></span><span class=\"others\">, </span><span class=\"entity-wrapper\" style=\"color: black; background-color: #da98ab\"> <span class=\"entity-name\">HURP</span> <span class=\"entity-type\">[GENE]</span></span><span class=\"others\">, </span><span class=\"entity-wrapper\" style=\"color: black; background-color: #da98ab\"> <span class=\"entity-name\">NEK2</span> <span class=\"entity-type\">[GENE]</span></span><span class=\"others\">), DNA </span><span class=\"entity-wrapper\" style=\"color: black; background-color: #da98ab\"> <span class=\"entity-name\">damage</span> <span class=\"entity-type\">[GENE]</span></span><span class=\"others\"> repair (</span><span class=\"entity-wrapper\" style=\"color: black; background-color: #da98ab\"> <span class=\"entity-name\">PBK</span> <span class=\"entity-type\">[GENE]</span></span><span class=\"others\">, -H2AX), telomere regulation (DAX, </span><span class=\"entity-wrapper\" style=\"color: black; background-color: #da98ab\"> <span class=\"entity-name\">ATRX</span> <span class=\"entity-type\">[GENE]</span></span><span class=\"others\">), wnt-signaling pathway (</span><span class=\"entity-wrapper\" style=\"color: black; background-color: #da98ab\"> <span class=\"entity-name\">beta-catenin</span> <span class=\"entity-type\">[GENE]</span></span><span class=\"others\">) and PI3K signaling pathway (</span><span class=\"entity-wrapper\" style=\"color: black; background-color: #da98ab\"> <span class=\"entity-name\">PTEN</span> <span class=\"entity-type\">[GENE]</span></span><span class=\"others\">, phospho-mTOR) in a tissue microarray of 50 adenomas and 43 carcinomas that were characterized for angioinvasion as defined by strict criteria, Weiss score, and mitotic rate-based </span><span class=\"entity-wrapper\" style=\"color: black; background-color: #df8085\"> <span class=\"entity-name\">tumor</span> <span class=\"entity-type\">[HP]</span></span><span class=\"others\"> grade. IGF-2 and proteins involved in cell proliferation and mitotic spindle regulation (Ki67, p53, </span><span class=\"entity-wrapper\" style=\"color: black; background-color: #da98ab\"> <span class=\"entity-name\">BUB1B</span> <span class=\"entity-type\">[GENE]</span></span><span class=\"others\">, </span><span class=\"entity-wrapper\" style=\"color: black; background-color: #da98ab\"> <span class=\"entity-name\">HURP</span> <span class=\"entity-type\">[GENE]</span></span><span class=\"others\">, </span><span class=\"entity-wrapper\" style=\"color: black; background-color: #da98ab\"> <span class=\"entity-name\">NEK2</span> <span class=\"entity-type\">[GENE]</span></span><span class=\"others\">), DNA </span><span class=\"entity-wrapper\" style=\"color: black; background-color: #da98ab\"> <span class=\"entity-name\">damage</span> <span class=\"entity-type\">[GENE]</span></span><span class=\"others\"> proteins (</span><span class=\"entity-wrapper\" style=\"color: black; background-color: #da98ab\"> <span class=\"entity-name\">PBK</span> <span class=\"entity-type\">[GENE]</span></span><span class=\"others\">, -H2AX), regulators of telomeres (</span><span class=\"entity-wrapper\" style=\"color: black; background-color: #da98ab\"> <span class=\"entity-name\">DAXX</span> <span class=\"entity-type\">[GENE]</span></span><span class=\"others\">, </span><span class=\"entity-wrapper\" style=\"color: black; background-color: #da98ab\"> <span class=\"entity-name\">ATRX</span> <span class=\"entity-type\">[GENE]</span></span><span class=\"others\">), and </span><span class=\"entity-wrapper\" style=\"color: black; background-color: #da98ab\"> <span class=\"entity-name\">beta-catenin</span> <span class=\"entity-type\">[GENE]</span></span><span class=\"others\"> revealed characteristic expression profiles enabling the distinction of </span><span class=\"entity-wrapper\" style=\"color: black; background-color: #df8085\"> <span class=\"entity-name\">carcinomas</span> <span class=\"entity-type\">[HP]</span></span><span class=\"others\"> from adenomas. Angioinvasion defined as </span><span class=\"entity-wrapper\" style=\"color: black; background-color: #df8085\"> <span class=\"entity-name\">tumor</span> <span class=\"entity-type\">[HP]</span></span><span class=\"others\"> cells invading through a vessel wall and intravascular tumor cells admixed with thrombus proved to be the </span><span class=\"entity-wrapper\" style=\"color: black; background-color: #da98ab\"> <span class=\"entity-name\">best</span> <span class=\"entity-type\">[GENE]</span></span><span class=\"others\"> prognostic parameter, predicting adverse outcome in the entire cohort as well as within low-grade ACCs. Low mitotic </span><span class=\"entity-wrapper\" style=\"color: black; background-color: #df8085\"> <span class=\"entity-name\">tumor</span> <span class=\"entity-type\">[HP]</span></span><span class=\"others\"> grade, Weiss score, global loss of </span><span class=\"entity-wrapper\" style=\"color: black; background-color: #da98ab\"> <span class=\"entity-name\">DAXX</span> <span class=\"entity-type\">[GENE]</span></span><span class=\"others\"> expression, and high phospho-mTOR expression correlated with disease-free survival, but Weiss score and biomarkers failed to predict adverse outcome in low-grade disease.</span></div>"
            ],
            "text/plain": [
              "<IPython.core.display.HTML object>"
            ]
          },
          "metadata": {
            "tags": []
          }
        }
      ]
    }
  ]
}
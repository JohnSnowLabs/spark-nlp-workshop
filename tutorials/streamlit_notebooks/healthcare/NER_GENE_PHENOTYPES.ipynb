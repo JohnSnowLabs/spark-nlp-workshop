{
  "cells": [
    {
      "cell_type": "markdown",
      "metadata": {
        "id": "XxEAqNVxRCZy"
      },
      "source": [
        "![JohnSnowLabs](https://nlp.johnsnowlabs.com/assets/images/logo.png)"
      ]
    },
    {
      "cell_type": "markdown",
      "metadata": {
        "id": "1H52i4GfRL7t"
      },
      "source": [
        "[![Open In Colab](https://colab.research.google.com/assets/colab-badge.svg)](https://colab.research.google.com/github/JohnSnowLabs/spark-nlp-workshop/blob/master/tutorials/streamlit_notebooks/healthcare/NER_GENE_PHENOTYPES.ipynb)"
      ]
    },
    {
      "cell_type": "markdown",
      "metadata": {
        "id": "gboVy8yfGgUB"
      },
      "source": [
        "## Setup"
      ]
    },
    {
      "cell_type": "code",
      "execution_count": null,
      "metadata": {
        "id": "gfREMi3HFlZc"
      },
      "outputs": [],
      "source": [
        "import json\n",
        "import os\n",
        "\n",
        "from google.colab import files\n",
        "\n",
        "license_keys = files.upload()\n",
        "\n",
        "with open(list(license_keys.keys())[0]) as f:\n",
        "    license_keys = json.load(f)\n",
        "\n",
        "locals().update(license_keys)\n",
        "\n",
        "os.environ.update(license_keys)"
      ]
    },
    {
      "cell_type": "code",
      "execution_count": null,
      "metadata": {
        "id": "-o4xlmCVF6BE"
      },
      "outputs": [],
      "source": [
        "# Installing pyspark and spark-nlp\n",
        "! pip install --upgrade -q pyspark==3.1.2 spark-nlp==$PUBLIC_VERSION\n",
        "\n",
        "# Installing Spark NLP Healthcare\n",
        "! pip install --upgrade -q spark-nlp-jsl==$JSL_VERSION  --extra-index-url https://pypi.johnsnowlabs.com/$SECRET\n",
        "\n",
        "# Installing Spark NLP Display Library for visualization\n",
        "! pip install -q spark-nlp-display"
      ]
    },
    {
      "cell_type": "code",
      "execution_count": 3,
      "metadata": {
        "id": "61oipq76GdDh",
        "colab": {
          "base_uri": "https://localhost:8080/",
          "height": 254
        },
        "outputId": "ed129e3e-1af0-4f89-99a7-9c3d39f61f39"
      },
      "outputs": [
        {
          "output_type": "stream",
          "name": "stdout",
          "text": [
            "Spark NLP Version : 5.5.1\n",
            "Spark NLP_JSL Version : 5.5.1\n"
          ]
        },
        {
          "output_type": "execute_result",
          "data": {
            "text/plain": [
              "<pyspark.sql.session.SparkSession at 0x79a9cee8f880>"
            ],
            "text/html": [
              "\n",
              "            <div>\n",
              "                <p><b>SparkSession - in-memory</b></p>\n",
              "                \n",
              "        <div>\n",
              "            <p><b>SparkContext</b></p>\n",
              "\n",
              "            <p><a href=\"http://2491a9e46ddf:4040\">Spark UI</a></p>\n",
              "\n",
              "            <dl>\n",
              "              <dt>Version</dt>\n",
              "                <dd><code>v3.1.2</code></dd>\n",
              "              <dt>Master</dt>\n",
              "                <dd><code>local[*]</code></dd>\n",
              "              <dt>AppName</dt>\n",
              "                <dd><code>Spark NLP Licensed</code></dd>\n",
              "            </dl>\n",
              "        </div>\n",
              "        \n",
              "            </div>\n",
              "        "
            ]
          },
          "metadata": {},
          "execution_count": 3
        }
      ],
      "source": [
        "import sparknlp\n",
        "import sparknlp_jsl\n",
        "\n",
        "from sparknlp.base import *\n",
        "from sparknlp.annotator import *\n",
        "from sparknlp_jsl.annotator import *\n",
        "from sparknlp_jsl.pretrained import InternalResourceDownloader\n",
        "\n",
        "from pyspark.sql import SparkSession\n",
        "from pyspark.sql import functions as F\n",
        "from pyspark.ml import Pipeline,PipelineModel\n",
        "\n",
        "import pandas as pd\n",
        "pd.set_option('display.max_colwidth', 200)\n",
        "\n",
        "import warnings\n",
        "warnings.filterwarnings('ignore')\n",
        "\n",
        "params = {\"spark.driver.memory\":\"16G\",\n",
        "          \"spark.kryoserializer.buffer.max\":\"2000M\",\n",
        "          \"spark.driver.maxResultSize\":\"2000M\"}\n",
        "\n",
        "print(\"Spark NLP Version :\", sparknlp.version())\n",
        "print(\"Spark NLP_JSL Version :\", sparknlp_jsl.version())\n",
        "\n",
        "spark = sparknlp_jsl.start(license_keys['SECRET'],params=params)\n",
        "\n",
        "spark"
      ]
    },
    {
      "cell_type": "markdown",
      "source": [
        "# ner_genes_phenotypes"
      ],
      "metadata": {
        "id": "G5azFxL4fhre"
      }
    },
    {
      "cell_type": "code",
      "execution_count": 4,
      "metadata": {
        "id": "Me28aFZNGVes",
        "colab": {
          "base_uri": "https://localhost:8080/"
        },
        "outputId": "a27ce47a-9c1b-446a-9672-02c19ccadaf2"
      },
      "outputs": [
        {
          "output_type": "stream",
          "name": "stdout",
          "text": [
            "sentence_detector_dl_healthcare download started this may take some time.\n",
            "Approximate size to download 367.3 KB\n",
            "[OK!]\n",
            "embeddings_clinical download started this may take some time.\n",
            "Approximate size to download 1.6 GB\n",
            "[OK!]\n",
            "ner_genes_phenotypes download started this may take some time.\n",
            "[OK!]\n"
          ]
        }
      ],
      "source": [
        "document_assembler = DocumentAssembler()\\\n",
        "    .setInputCol(\"text\")\\\n",
        "    .setOutputCol(\"document\")\n",
        "\n",
        "sentenceDetector = SentenceDetectorDLModel.pretrained(\"sentence_detector_dl_healthcare\",\"en\",\"clinical/models\")\\\n",
        "    .setInputCols([\"document\"])\\\n",
        "    .setOutputCol(\"sentence\")\n",
        "\n",
        "tokenizer = Tokenizer()\\\n",
        "    .setInputCols([\"sentence\"])\\\n",
        "    .setOutputCol(\"token\")\n",
        "\n",
        "clinical_embeddings = WordEmbeddingsModel.pretrained(\"embeddings_clinical\", \"en\", \"clinical/models\")\\\n",
        "    .setInputCols([\"sentence\", \"token\"])\\\n",
        "    .setOutputCol(\"embeddings\")\n",
        "\n",
        "ner_model = MedicalNerModel.pretrained(\"ner_genes_phenotypes\", \"en\", \"clinical/models\")\\\n",
        "    .setInputCols([\"sentence\", \"token\",\"embeddings\"])\\\n",
        "    .setOutputCol(\"ner\")\n",
        "\n",
        "ner_converter = NerConverterInternal()\\\n",
        "    .setInputCols([\"sentence\", \"token\", \"ner\"])\\\n",
        "    .setOutputCol(\"ner_chunk\")\n",
        "\n",
        "pipeline = Pipeline(stages=[\n",
        "    document_assembler,\n",
        "    sentenceDetector,\n",
        "    tokenizer,\n",
        "    clinical_embeddings,\n",
        "    ner_model,\n",
        "    ner_converter\n",
        "    ])"
      ]
    },
    {
      "cell_type": "code",
      "source": [
        "from pyspark.sql.types import StringType\n",
        "\n",
        "sample_texts = [\"\"\"\n",
        "The G6PD gene provides instructions for glucose-6-phosphate dehydrogenase, crucial for protecting cells from oxidative stress.\n",
        "\n",
        "Mutations in the G6PD gene cause G6PD deficiency, an X-linked recessive disorder affecting red blood cells.\n",
        "\n",
        "Over 400 variants have been identified, with the G6PD A- variant common in African populations.\n",
        "\n",
        "The variant G6PD protein results in reduced enzyme activity.\n",
        "\n",
        "Clinical presentations of G6PD deficiency include hemolytic anemia triggered by certain medications, foods (e.g., fava beans), or infections.\n",
        "\n",
        "Symptoms during hemolytic episodes include jaundice, fatigue, and dark urine.\n",
        "\n",
        "Gene-environment interactions are significant, with G6PD deficiency conferring some protection against malaria.\n",
        "\n",
        "Diagnosis involves enzyme activity assays and genetic testing. Management focuses on avoiding triggers and providing supportive care during hemolytic episodes.\n",
        "\n",
        "In severe cases, blood transfusions may be necessary. Patient education about trigger avoidance is crucial for preventing complications.\n",
        "\n",
        "The global prevalence of G6PD deficiency is estimated at 4.9%, with higher rates in malaria-endemic regions.\n",
        "\n",
        "\"\"\"]\n",
        "\n",
        "data = spark.createDataFrame(sample_texts, StringType()).toDF(\"text\")\n",
        "\n",
        "result = pipeline.fit(data).transform(data)"
      ],
      "metadata": {
        "id": "7atkb7bIgAka"
      },
      "execution_count": 15,
      "outputs": []
    },
    {
      "cell_type": "code",
      "source": [
        "result.select(F.explode(F.arrays_zip(result.ner_chunk.result,\n",
        "                                                        result.ner_chunk.begin,\n",
        "                                                        result.ner_chunk.end,\n",
        "                                                        result.ner_chunk.metadata)).alias(\"cols\"))\\\n",
        "                .select(F.expr(\"cols['0']\").alias(\"ner_chunk\"),\n",
        "                        F.expr(\"cols['1']\").alias(\"begin\"),\n",
        "                        F.expr(\"cols['2']\").alias(\"end\"),\n",
        "                        F.expr(\"cols['3']['entity']\").alias(\"ner_label\")).show(60,truncate=False)"
      ],
      "metadata": {
        "colab": {
          "base_uri": "https://localhost:8080/"
        },
        "id": "k25-n7kmgI_P",
        "outputId": "1a0c6922-549b-44a3-bd45-520f173ebf68"
      },
      "execution_count": 18,
      "outputs": [
        {
          "output_type": "stream",
          "name": "stdout",
          "text": [
            "+--------------------------------------+-----+----+---------------------+\n",
            "|ner_chunk                             |begin|end |ner_label            |\n",
            "+--------------------------------------+-----+----+---------------------+\n",
            "|G6PD gene                             |5    |13  |MPG                  |\n",
            "|glucose-6-phosphate dehydrogenase     |41   |73  |MPG                  |\n",
            "|protecting cells from oxidative stress|88   |125 |Gene_Function        |\n",
            "|G6PD gene                             |147  |155 |MPG                  |\n",
            "|G6PD deficiency                       |163  |177 |Phenotype_Disease    |\n",
            "|X-linked recessive                    |183  |200 |Inheritance_Pattern  |\n",
            "|G6PD A                                |289  |294 |Phenotype_Disease    |\n",
            "|African populations                   |315  |333 |Prevalence           |\n",
            "|G6PD protein                          |350  |361 |MPG                  |\n",
            "|G6PD deficiency                       |427  |441 |Phenotype_Disease    |\n",
            "|hemolytic anemia                      |451  |466 |Other_Disease        |\n",
            "|fava beans                            |515  |524 |Gene_Interaction     |\n",
            "|infections                            |531  |540 |Other_Disease        |\n",
            "|hemolytic episodes                    |561  |578 |Clinical_Presentation|\n",
            "|jaundice                              |588  |595 |Clinical_Presentation|\n",
            "|fatigue                               |598  |604 |Clinical_Presentation|\n",
            "|dark urine                            |611  |620 |Clinical_Presentation|\n",
            "|G6PD deficiency                       |677  |691 |Phenotype_Disease    |\n",
            "|malaria                               |728  |734 |Other_Disease        |\n",
            "|hemolytic episodes                    |879  |896 |Clinical_Presentation|\n",
            "|blood transfusions                    |918  |935 |Treatment            |\n",
            "|G6PD deficiency                       |1065 |1079|Phenotype_Disease    |\n",
            "+--------------------------------------+-----+----+---------------------+\n",
            "\n"
          ]
        }
      ]
    },
    {
      "cell_type": "code",
      "source": [
        "light_model = LightPipeline(pipeline.fit(data))\n",
        "\n",
        "light_result = light_model.fullAnnotate(sample_texts)"
      ],
      "metadata": {
        "id": "qxWkcLLqXZ_J"
      },
      "execution_count": 19,
      "outputs": []
    },
    {
      "cell_type": "code",
      "source": [
        "from sparknlp_display import NerVisualizer\n",
        "\n",
        "visualiser = NerVisualizer()\n",
        "\n",
        "visualiser.display(light_result[0], label_col='ner_chunk', document_col='document', save_path=\"display_result.html\")"
      ],
      "metadata": {
        "colab": {
          "base_uri": "https://localhost:8080/",
          "height": 1000
        },
        "id": "87OvadkwXgha",
        "outputId": "abf37814-ae70-4ea1-94e5-4572fd599072"
      },
      "execution_count": 20,
      "outputs": [
        {
          "output_type": "display_data",
          "data": {
            "text/plain": [
              "<IPython.core.display.HTML object>"
            ],
            "text/html": [
              "\n",
              "<style>\n",
              "    @import url('https://fonts.googleapis.com/css2?family=Montserrat:wght@300;400;500;600;700&display=swap');\n",
              "    @import url('https://fonts.googleapis.com/css2?family=Vistol Regular:wght@300;400;500;600;700&display=swap');\n",
              "    \n",
              "    .spark-nlp-display-scroll-entities {\n",
              "        border: 1px solid #E7EDF0;\n",
              "        border-radius: 3px;\n",
              "        text-align: justify;\n",
              "        \n",
              "    }\n",
              "    .spark-nlp-display-scroll-entities span {  \n",
              "        font-size: 14px;\n",
              "        line-height: 24px;\n",
              "        color: #536B76;\n",
              "        font-family: 'Montserrat', sans-serif !important;\n",
              "    }\n",
              "    \n",
              "    .spark-nlp-display-entity-wrapper{\n",
              "    \n",
              "        display: inline-grid;\n",
              "        text-align: center;\n",
              "        border-radius: 4px;\n",
              "        margin: 0 2px 5px 2px;\n",
              "        padding: 1px\n",
              "    }\n",
              "    .spark-nlp-display-entity-name{\n",
              "        font-size: 14px;\n",
              "        line-height: 24px;\n",
              "        font-family: 'Montserrat', sans-serif !important;\n",
              "        \n",
              "        background: #f1f2f3;\n",
              "        border-width: medium;\n",
              "        text-align: center;\n",
              "        \n",
              "        font-weight: 400;\n",
              "        \n",
              "        border-radius: 5px;\n",
              "        padding: 2px 5px;\n",
              "        display: block;\n",
              "        margin: 3px 2px;\n",
              "    \n",
              "    }\n",
              "    .spark-nlp-display-entity-type{\n",
              "        font-size: 14px;\n",
              "        line-height: 24px;\n",
              "        color: #ffffff;\n",
              "        font-family: 'Montserrat', sans-serif !important;\n",
              "        \n",
              "        text-transform: uppercase;\n",
              "        \n",
              "        font-weight: 500;\n",
              "\n",
              "        display: block;\n",
              "        padding: 3px 5px;\n",
              "    }\n",
              "    \n",
              "    .spark-nlp-display-entity-resolution{\n",
              "        font-size: 14px;\n",
              "        line-height: 24px;\n",
              "        color: #ffffff;\n",
              "        font-family: 'Vistol Regular', sans-serif !important;\n",
              "        \n",
              "        text-transform: uppercase;\n",
              "        \n",
              "        font-weight: 500;\n",
              "\n",
              "        display: block;\n",
              "        padding: 3px 5px;\n",
              "    }\n",
              "    \n",
              "    .spark-nlp-display-others{\n",
              "        font-size: 14px;\n",
              "        line-height: 24px;\n",
              "        font-family: 'Montserrat', sans-serif !important;\n",
              "        \n",
              "        font-weight: 400;\n",
              "    }\n",
              "\n",
              "</style>\n",
              " <span class=\"spark-nlp-display-others\" style=\"background-color: white\"><br>The </span><span class=\"spark-nlp-display-entity-wrapper\" style=\"background-color: #AF7465\"><span class=\"spark-nlp-display-entity-name\">G6PD gene </span><span class=\"spark-nlp-display-entity-type\">MPG</span></span><span class=\"spark-nlp-display-others\" style=\"background-color: white\"> provides instructions for </span><span class=\"spark-nlp-display-entity-wrapper\" style=\"background-color: #AF7465\"><span class=\"spark-nlp-display-entity-name\">glucose-6-phosphate dehydrogenase </span><span class=\"spark-nlp-display-entity-type\">MPG</span></span><span class=\"spark-nlp-display-others\" style=\"background-color: white\">, crucial for </span><span class=\"spark-nlp-display-entity-wrapper\" style=\"background-color: #301DAD\"><span class=\"spark-nlp-display-entity-name\">protecting cells from oxidative stress </span><span class=\"spark-nlp-display-entity-type\">Gene_Function</span></span><span class=\"spark-nlp-display-others\" style=\"background-color: white\">. <br><br>Mutations in the </span><span class=\"spark-nlp-display-entity-wrapper\" style=\"background-color: #AF7465\"><span class=\"spark-nlp-display-entity-name\">G6PD gene </span><span class=\"spark-nlp-display-entity-type\">MPG</span></span><span class=\"spark-nlp-display-others\" style=\"background-color: white\"> cause </span><span class=\"spark-nlp-display-entity-wrapper\" style=\"background-color: #1F7D12\"><span class=\"spark-nlp-display-entity-name\">G6PD deficiency </span><span class=\"spark-nlp-display-entity-type\">Phenotype_Disease</span></span><span class=\"spark-nlp-display-others\" style=\"background-color: white\">, an </span><span class=\"spark-nlp-display-entity-wrapper\" style=\"background-color: #618B0B\"><span class=\"spark-nlp-display-entity-name\">X-linked recessive </span><span class=\"spark-nlp-display-entity-type\">Inheritance_Pattern</span></span><span class=\"spark-nlp-display-others\" style=\"background-color: white\"> disorder affecting red blood cells. <br><br>Over 400 variants have been identified, with the </span><span class=\"spark-nlp-display-entity-wrapper\" style=\"background-color: #1F7D12\"><span class=\"spark-nlp-display-entity-name\">G6PD A </span><span class=\"spark-nlp-display-entity-type\">Phenotype_Disease</span></span><span class=\"spark-nlp-display-others\" style=\"background-color: white\">- variant common in </span><span class=\"spark-nlp-display-entity-wrapper\" style=\"background-color: #AA3E1D\"><span class=\"spark-nlp-display-entity-name\">African populations </span><span class=\"spark-nlp-display-entity-type\">Prevalence</span></span><span class=\"spark-nlp-display-others\" style=\"background-color: white\">. <br><br>The variant </span><span class=\"spark-nlp-display-entity-wrapper\" style=\"background-color: #AF7465\"><span class=\"spark-nlp-display-entity-name\">G6PD protein </span><span class=\"spark-nlp-display-entity-type\">MPG</span></span><span class=\"spark-nlp-display-others\" style=\"background-color: white\"> results in reduced enzyme activity. <br><br>Clinical presentations of </span><span class=\"spark-nlp-display-entity-wrapper\" style=\"background-color: #1F7D12\"><span class=\"spark-nlp-display-entity-name\">G6PD deficiency </span><span class=\"spark-nlp-display-entity-type\">Phenotype_Disease</span></span><span class=\"spark-nlp-display-others\" style=\"background-color: white\"> include </span><span class=\"spark-nlp-display-entity-wrapper\" style=\"background-color: #8AA349\"><span class=\"spark-nlp-display-entity-name\">hemolytic anemia </span><span class=\"spark-nlp-display-entity-type\">Other_Disease</span></span><span class=\"spark-nlp-display-others\" style=\"background-color: white\"> triggered by certain medications, foods (e.g., </span><span class=\"spark-nlp-display-entity-wrapper\" style=\"background-color: #102A70\"><span class=\"spark-nlp-display-entity-name\">fava beans </span><span class=\"spark-nlp-display-entity-type\">Gene_Interaction</span></span><span class=\"spark-nlp-display-others\" style=\"background-color: white\">), or </span><span class=\"spark-nlp-display-entity-wrapper\" style=\"background-color: #8AA349\"><span class=\"spark-nlp-display-entity-name\">infections </span><span class=\"spark-nlp-display-entity-type\">Other_Disease</span></span><span class=\"spark-nlp-display-others\" style=\"background-color: white\">. <br><br>Symptoms during </span><span class=\"spark-nlp-display-entity-wrapper\" style=\"background-color: #930777\"><span class=\"spark-nlp-display-entity-name\">hemolytic episodes </span><span class=\"spark-nlp-display-entity-type\">Clinical_Presentation</span></span><span class=\"spark-nlp-display-others\" style=\"background-color: white\"> include </span><span class=\"spark-nlp-display-entity-wrapper\" style=\"background-color: #930777\"><span class=\"spark-nlp-display-entity-name\">jaundice </span><span class=\"spark-nlp-display-entity-type\">Clinical_Presentation</span></span><span class=\"spark-nlp-display-others\" style=\"background-color: white\">, </span><span class=\"spark-nlp-display-entity-wrapper\" style=\"background-color: #930777\"><span class=\"spark-nlp-display-entity-name\">fatigue </span><span class=\"spark-nlp-display-entity-type\">Clinical_Presentation</span></span><span class=\"spark-nlp-display-others\" style=\"background-color: white\">, and </span><span class=\"spark-nlp-display-entity-wrapper\" style=\"background-color: #930777\"><span class=\"spark-nlp-display-entity-name\">dark urine </span><span class=\"spark-nlp-display-entity-type\">Clinical_Presentation</span></span><span class=\"spark-nlp-display-others\" style=\"background-color: white\">. <br><br>Gene-environment interactions are significant, with </span><span class=\"spark-nlp-display-entity-wrapper\" style=\"background-color: #1F7D12\"><span class=\"spark-nlp-display-entity-name\">G6PD deficiency </span><span class=\"spark-nlp-display-entity-type\">Phenotype_Disease</span></span><span class=\"spark-nlp-display-others\" style=\"background-color: white\"> conferring some protection against </span><span class=\"spark-nlp-display-entity-wrapper\" style=\"background-color: #8AA349\"><span class=\"spark-nlp-display-entity-name\">malaria </span><span class=\"spark-nlp-display-entity-type\">Other_Disease</span></span><span class=\"spark-nlp-display-others\" style=\"background-color: white\">. <br><br>Diagnosis involves enzyme activity assays and genetic testing. Management focuses on avoiding triggers and providing supportive care during </span><span class=\"spark-nlp-display-entity-wrapper\" style=\"background-color: #930777\"><span class=\"spark-nlp-display-entity-name\">hemolytic episodes </span><span class=\"spark-nlp-display-entity-type\">Clinical_Presentation</span></span><span class=\"spark-nlp-display-others\" style=\"background-color: white\">. <br><br>In severe cases, </span><span class=\"spark-nlp-display-entity-wrapper\" style=\"background-color: #8b6673\"><span class=\"spark-nlp-display-entity-name\">blood transfusions </span><span class=\"spark-nlp-display-entity-type\">Treatment</span></span><span class=\"spark-nlp-display-others\" style=\"background-color: white\"> may be necessary. Patient education about trigger avoidance is crucial for preventing complications. <br><br>The global prevalence of </span><span class=\"spark-nlp-display-entity-wrapper\" style=\"background-color: #1F7D12\"><span class=\"spark-nlp-display-entity-name\">G6PD deficiency </span><span class=\"spark-nlp-display-entity-type\">Phenotype_Disease</span></span><span class=\"spark-nlp-display-others\" style=\"background-color: white\"> is estimated at 4.9%, with higher rates in malaria-endemic regions.<br><br></span></div>"
            ]
          },
          "metadata": {}
        }
      ]
    }
  ],
  "metadata": {
    "colab": {
      "provenance": [],
      "toc_visible": true,
      "machine_shape": "hm"
    },
    "kernelspec": {
      "display_name": "Python 3",
      "name": "python3"
    },
    "language_info": {
      "codemirror_mode": {
        "name": "ipython",
        "version": 3
      },
      "file_extension": ".py",
      "mimetype": "text/x-python",
      "name": "python",
      "nbconvert_exporter": "python",
      "pygments_lexer": "ipython3",
      "version": "3.10.9"
    }
  },
  "nbformat": 4,
  "nbformat_minor": 0
}
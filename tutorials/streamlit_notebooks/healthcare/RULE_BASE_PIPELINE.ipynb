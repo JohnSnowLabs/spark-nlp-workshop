{
  "cells": [
    {
      "cell_type": "markdown",
      "metadata": {
        "id": "eVLAFDcYwzCs"
      },
      "source": [
        "![JohnSnowLabs](https://nlp.johnsnowlabs.com/assets/images/logo.png)"
      ]
    },
    {
      "cell_type": "markdown",
      "metadata": {
        "id": "lGu6GyR8uTmE"
      },
      "source": [
        "# Rule Based NER and Assertion Models\n",
        "This notebook demonstrates the use of rule-based Named Entity Recognition (NER) combined with assertion detection models for structured information extraction from text.\n",
        "Here we demo a series of Text Matcher models, each designed to identify and extract entities of interest, such as states, cities, and drugs, using pre-defined dictionaries and linguistic patterns. By applying these targeted matchers, we can ensure high precision in entity identification, especially in specialized contexts where standard models may underperform.\n",
        "\n",
        "Beyond entity detection, the notebook also integrates Contextual Assertion Models, which determine the status of an entity in context. For example, whether a drug is mentioned as being possibly used (Detect Possible Assertion) or conditionally prescribed (Detect Conditional Assertion).\n"
      ]
    },
    {
      "cell_type": "markdown",
      "metadata": {
        "id": "F3y-4CRcw-GS"
      },
      "source": [
        "## **🎬 Colab Setup**"
      ]
    },
    {
      "cell_type": "code",
      "execution_count": null,
      "metadata": {
        "id": "ltXTfuG-WZ-B"
      },
      "outputs": [],
      "source": [
        "# import johnsnowlabs library\n",
        "!pip install -q johnsnowlabs"
      ]
    },
    {
      "cell_type": "code",
      "execution_count": null,
      "metadata": {
        "id": "MATjEDqWW3qL"
      },
      "outputs": [],
      "source": [
        "# Upload license key for healthcare NLP\n",
        "from google.colab import files\n",
        "print('Please Upload your John Snow Labs License using the button below')\n",
        "license_keys = files.upload()"
      ]
    },
    {
      "cell_type": "code",
      "execution_count": null,
      "metadata": {
        "id": "xWpo7EWIy7Zm"
      },
      "outputs": [],
      "source": [
        "from johnsnowlabs import nlp, medical\n",
        "nlp.settings.enforce_versions=True\n",
        "nlp.install(refresh_install=True)"
      ]
    },
    {
      "cell_type": "code",
      "execution_count": null,
      "metadata": {
        "id": "hATfV8oIW53Q"
      },
      "outputs": [],
      "source": [
        "# import Spark NLP and Spark NLP for Healthcare from  johnsnowlabs library\n",
        "from johnsnowlabs import nlp, medical\n",
        "\n",
        "nlp.install()"
      ]
    },
    {
      "cell_type": "code",
      "execution_count": null,
      "metadata": {
        "id": "uWM6-MHhXPSL"
      },
      "outputs": [],
      "source": [
        "# import required modules\n",
        "from sparknlp.base import *\n",
        "from pyspark.ml import Pipeline\n",
        "\n",
        "spark = nlp.start()"
      ]
    },
    {
      "cell_type": "markdown",
      "metadata": {
        "id": "M3mzYaSTyeqY"
      },
      "source": [
        "# 🔎 MODELS\n",
        "Models used in this pipeline and the entities they extract."
      ]
    },
    {
      "cell_type": "markdown",
      "metadata": {
        "id": "2H9XO0i9ycNQ"
      },
      "source": [
        "| Index | Model | Entities |\n",
        "|---:|:------------------------|:-|\n",
        "|  1 | [country_matcher](https://nlp.johnsnowlabs.com/2024/10/23/country_matcher_en.html) | Country |\n",
        "|  2 | [state_matcher](https://nlp.johnsnowlabs.com/2024/09/11/state_matcher_en.html) | State |\n",
        "|  3 | [city_matcher](https://nlp.johnsnowlabs.com/2024/07/02/city_matcher_en.html) | City |\n",
        "|  4 | [drug_matcher](https://nlp.johnsnowlabs.com/2024/03/19/drug_matcher_en.html) | Drug |\n",
        "|  5 | [biomarker_matcher](https://nlp.johnsnowlabs.com/2024/03/06/biomarker_matcher_en.html) | Biomarker |\n",
        "|  6 | [cancer_diagnosis_matcher](https://nlp.johnsnowlabs.com/2024/06/17/cancer_diagnosis_matcher_en.html) | Cancer_dx |\n",
        "|  7 | [contextual_assertion_conditional](https://nlp.johnsnowlabs.com/2025/03/12/contextual_assertion_conditional_en.html) | Conditional |\n",
        "|  8 | [contextual_assertion_possible](https://nlp.johnsnowlabs.com/2025/03/12/contextual_assertion_possible_en.html) | Possible |\n",
        "|  9 | [contextual_assertion_someone_else](https://nlp.johnsnowlabs.com/2025/03/12/contextual_assertion_someone_else_en.html) | Someone_else |\n",
        "| 10 | [contextual_assertion_absent](https://nlp.johnsnowlabs.com/2025/03/12/contextual_assertion_absent_en.html) | Absent |\n",
        "| 11 | [contextual_assertion_past](https://nlp.johnsnowlabs.com/2025/03/12/contextual_assertion_past_en.html) | Past |"
      ]
    },
    {
      "cell_type": "markdown",
      "metadata": {
        "id": "ZrTceG5Lrwcl"
      },
      "source": [
        "# Rule-based Pipeline with Separated Entity Processing\n",
        "This pipeline combines rule-based NER models and assertion models"
      ]
    },
    {
      "cell_type": "code",
      "execution_count": null,
      "metadata": {
        "colab": {
          "base_uri": "https://localhost:8080/"
        },
        "id": "zEoZUN40M8lK",
        "outputId": "ee979008-e618-4374-fc9f-5e1cfbc39283"
      },
      "outputs": [
        {
          "name": "stdout",
          "output_type": "stream",
          "text": [
            "sentence_detector_dl_healthcare download started this may take some time.\n",
            "Approximate size to download 367.3 KB\n",
            "[OK!]\n",
            "country_matcher download started this may take some time.\n",
            "Approximate size to download 10.2 KB\n",
            "[OK!]\n",
            "state_matcher download started this may take some time.\n",
            "Approximate size to download 6.1 KB\n",
            "[OK!]\n",
            "city_matcher download started this may take some time.\n",
            "Approximate size to download 180.3 KB\n",
            "[OK!]\n",
            "drug_matcher download started this may take some time.\n",
            "Approximate size to download 5.5 MB\n",
            "[OK!]\n",
            "biomarker_matcher download started this may take some time.\n",
            "Approximate size to download 25.6 KB\n",
            "[OK!]\n",
            "cancer_diagnosis_matcher download started this may take some time.\n",
            "Approximate size to download 42.8 KB\n",
            "[OK!]\n",
            "contextual_assertion_conditional download started this may take some time.\n",
            "Approximate size to download 1.3 KB\n",
            "[OK!]\n",
            "contextual_assertion_possible download started this may take some time.\n",
            "Approximate size to download 1.7 KB\n",
            "[OK!]\n",
            "contextual_assertion_someone_else download started this may take some time.\n",
            "Approximate size to download 1.5 KB\n",
            "[OK!]\n",
            "contextual_assertion_absent download started this may take some time.\n",
            "Approximate size to download 1.3 KB\n",
            "[OK!]\n",
            "contextual_assertion_past download started this may take some time.\n",
            "Approximate size to download 1.5 KB\n",
            "[OK!]\n"
          ]
        }
      ],
      "source": [
        "document_assembler = nlp.DocumentAssembler()\\\n",
        "    .setInputCol(\"text\")\\\n",
        "    .setOutputCol(\"document\")\n",
        "\n",
        "sentence_detector = nlp.SentenceDetectorDLModel.pretrained(\"sentence_detector_dl_healthcare\", \"en\", \"clinical/models\")\\\n",
        "    .setInputCols([\"document\"])\\\n",
        "    .setOutputCol(\"sentence\")\n",
        "\n",
        "tokenizer = nlp.Tokenizer()\\\n",
        "    .setInputCols([\"sentence\"])\\\n",
        "    .setOutputCol(\"token\")\n",
        "\n",
        "country_matcher = medical.TextMatcherModel.pretrained(\"country_matcher\", \"en\", \"clinical/models\")\\\n",
        "    .setInputCols([\"sentence\", \"token\"])\\\n",
        "    .setOutputCol(\"country\")\\\n",
        "    .setMergeOverlapping(True)\n",
        "\n",
        "state_matcher = medical.TextMatcherModel.pretrained(\"state_matcher\", \"en\", \"clinical/models\")\\\n",
        "    .setInputCols([\"sentence\", \"token\"])\\\n",
        "    .setOutputCol(\"state\")\\\n",
        "    .setMergeOverlapping(True)\n",
        "\n",
        "city_matcher = medical.TextMatcherModel.pretrained(\"city_matcher\", \"en\", \"clinical/models\")\\\n",
        "    .setInputCols([\"sentence\", \"token\"])\\\n",
        "    .setOutputCol(\"city\")\\\n",
        "    .setMergeOverlapping(True)\n",
        "\n",
        "drug_matcher = medical.TextMatcherModel.pretrained(\"drug_matcher\", \"en\", \"clinical/models\")\\\n",
        "    .setInputCols([\"sentence\", \"token\"])\\\n",
        "    .setOutputCol(\"drug\")\n",
        "\n",
        "biomarker_matcher = medical.TextMatcherModel.pretrained(\"biomarker_matcher\", \"en\", \"clinical/models\")\\\n",
        "    .setInputCols([\"sentence\", \"token\"])\\\n",
        "    .setOutputCol(\"biomarker\")\n",
        "\n",
        "cancer_diagnosis_matcher = medical.TextMatcherModel.pretrained(\"cancer_diagnosis_matcher\", \"en\", \"clinical/models\")\\\n",
        "    .setInputCols([\"sentence\", \"token\"])\\\n",
        "    .setOutputCol(\"cancer_dx\")\\\n",
        "    .setMergeOverlapping(True)\n",
        "\n",
        "# Merge all NER entities\n",
        "chunk_merger = medical.ChunkMergeApproach()\\\n",
        "    .setInputCols([\"drug\", \"biomarker\", \"cancer_dx\",\"country\", \"state\", \"city\"])\\\n",
        "    .setOutputCol(\"ner_chunk\")\\\n",
        "    .setSelectionStrategy(\"Sequential\")\n",
        "\n",
        "# Merge clinical entities (for assertions)\n",
        "clinical_merger = medical.ChunkMergeApproach()\\\n",
        "    .setInputCols([\"drug\", \"biomarker\", \"cancer_dx\"])\\\n",
        "    .setOutputCol(\"clinical_entities\")\\\n",
        "    .setSelectionStrategy(\"DiverseLonger\")\\\n",
        "    .setOrderingFeatures([\"ChunkLength\"])\n",
        "\n",
        "# Assertion models (only for clinical entities)\n",
        "contextual_assertion_conditional = medical.ContextualAssertion.pretrained(\"contextual_assertion_conditional\", \"en\", \"clinical/models\")\\\n",
        "    .setInputCols([\"sentence\", \"token\", \"clinical_entities\"])\\\n",
        "    .setOutputCol(\"assertion_conditional\")\n",
        "\n",
        "contextual_assertion_possible = medical.ContextualAssertion.pretrained(\"contextual_assertion_possible\", \"en\", \"clinical/models\")\\\n",
        "    .setInputCols([\"sentence\", \"token\", \"clinical_entities\"])\\\n",
        "    .setOutputCol(\"assertion_possible\")\n",
        "\n",
        "contextual_assertion_someone_else = medical.ContextualAssertion.pretrained(\"contextual_assertion_someone_else\", \"en\", \"clinical/models\")\\\n",
        "    .setInputCols([\"sentence\", \"token\", \"clinical_entities\"])\\\n",
        "    .setOutputCol(\"assertion_someone_else\")\n",
        "\n",
        "contextual_assertion_absent = medical.ContextualAssertion.pretrained(\"contextual_assertion_absent\", \"en\", \"clinical/models\")\\\n",
        "    .setInputCols([\"sentence\", \"token\", \"clinical_entities\"])\\\n",
        "    .setOutputCol(\"assertion_absent\")\n",
        "\n",
        "contextual_assertion_past = medical.ContextualAssertion.pretrained(\"contextual_assertion_past\", \"en\", \"clinical/models\")\\\n",
        "    .setInputCols([\"sentence\", \"token\", \"clinical_entities\"])\\\n",
        "    .setOutputCol(\"assertion_past\")\n",
        "\n",
        "assertion_merger = medical.AssertionMerger()\\\n",
        "    .setInputCols([\"assertion_conditional\", \"assertion_possible\", \"assertion_someone_else\", \"assertion_absent\", \"assertion_past\"])\\\n",
        "    .setOutputCol(\"clinical_assertions\")\\\n",
        "    .setMergeOverlapping(True)\\\n",
        "    .setSelectionStrategy(\"sequential\")\\\n",
        "    .setAssertionSourcePrecedence(\"assertion_conditional, assertion_possible, assertion_someone_else, assertion_absent, assertion_past\")\\\n",
        "    .setCaseSensitive(False)\n",
        "\n",
        "pipeline = nlp.Pipeline(stages=[\n",
        "    document_assembler,\n",
        "    sentence_detector,\n",
        "    tokenizer,\n",
        "    country_matcher,\n",
        "    state_matcher,\n",
        "    city_matcher,\n",
        "    drug_matcher,\n",
        "    biomarker_matcher,\n",
        "    cancer_diagnosis_matcher,\n",
        "    chunk_merger,\n",
        "    clinical_merger,\n",
        "    contextual_assertion_conditional,\n",
        "    contextual_assertion_possible,\n",
        "    contextual_assertion_someone_else,\n",
        "    contextual_assertion_absent,\n",
        "    contextual_assertion_past,\n",
        "    assertion_merger\n",
        "])\n"
      ]
    },
    {
      "cell_type": "markdown",
      "metadata": {
        "id": "NTJoOM-hhGNm"
      },
      "source": [
        "# Fit the Pipeline"
      ]
    },
    {
      "cell_type": "code",
      "execution_count": null,
      "metadata": {
        "id": "DF_wapDLOB6j"
      },
      "outputs": [],
      "source": [
        "empty_data = spark.createDataFrame([[\"\"]]).toDF(\"text\")\n",
        "fitted_pipeline = pipeline.fit(empty_data)"
      ]
    },
    {
      "cell_type": "markdown",
      "metadata": {
        "id": "ZMS3oL1bhLhz"
      },
      "source": [
        "# Sample Text to Tryout the Pipeline"
      ]
    },
    {
      "cell_type": "code",
      "execution_count": null,
      "metadata": {
        "id": "q3jvHLA9lcFZ"
      },
      "outputs": [],
      "source": [
        "sample_texts = [\n",
        "    \"\"\"Name: Patel, Rina  Record Date: 2095-11-03  MR: 781093\n",
        "Dr. Sofia Chen, IP: 172.16.254.12\n",
        "She is a 48-year-old female admitted to Unity Health Institute in Toronto\n",
        "for thyroidectomy on 11/03/95.\n",
        "Patient's VIN: JH4KA8270MC012345, SSN: 333-22-7777, Driver’s License: P987654F\n",
        "Phone: +1 (647) 555-1122, Address: 789 Queen Street, Toronto, Canada,\n",
        "Email: rina.patel@caremail.org\n",
        "In the past 18 months, the patient has traveled to India, Germany, Brazil,\n",
        "South Korea, Morocco, and Australia for both business and leisure.\n",
        "She reported brief stays in Mexico City and Cairo as well.\n",
        "All travel occurred prior to surgery, and she denied any symptoms during or after her trips.\"\"\",\n",
        "\n",
        "    \"\"\"Patient Summary Report\n",
        "Name: Green, Thomas L.  DOB: 08/14/2040  Sex: Male  MRN: 559882\n",
        "Date of Encounter: 2094-08-30  Facility: St. Margaret’s Medical Center, Atlanta, Georgia\n",
        "Physician: Dr. Rebecca Allen, MD – Internal Medicine\n",
        "Chief Complaint: Persistent abdominal pain and fatigue for 2 weeks.\n",
        "History of Present Illness: Mr. Green is a 54-year-old male who presented\n",
        "to the emergency department in Atlanta, GA, with abdominal discomfort\n",
        "described as a dull ache localized to the left lower quadrant.\n",
        "He reports the pain began during a work trip to Texas and progressively\n",
        "worsened while traveling through Nevada and Illinois.\n",
        "The patient states he had similar episodes in the past during visits to Florida,\n",
        "but those resolved spontaneously. He recently returned from a family reunion\n",
        "in New York, where he experienced nausea and loss of appetite.\"\"\",\n",
        "\n",
        "    \"\"\"Name: Laura Martinez  Record Date: 2094-06-15  MR: 927384\n",
        "Dr. Anthony Kim, IP: 10.0.0.45\n",
        "She is a 62-year-old female admitted to Metropolitan Medical Center\n",
        "in San Francisco for a knee replacement on 06/15/94.\n",
        "Patient's VIN: 1N4AL11D75C678901, SSN: 555-66-9999, Driver's license no: D456321K\n",
        "Phone: (415) 555-6723, 1122 Pine Avenue, Chicago, IL, USA,\n",
        "E-mail: laura.martinez@healthmail.org\n",
        "Patient has traveled to Rome, Dubai, and Cape Town in the past 12 months.\"\"\",\n",
        "\n",
        "    \"\"\"Maria’s physician prescribed clopidogrel for her cardiovascular risk,\n",
        "along with ibuprofen for muscle pain, azithromycin for her sinus infection,\n",
        "and omeprazole to manage her acid reflux on 2024-07-18.\"\"\",\n",
        "\n",
        "    \"\"\"In the bone marrow (BM) aspirate, blasts comprised 91.3% of nucleated cells,\n",
        "expressing CD10, CD19, CD34, CD45, CD117, CD123, HLA-DR, and TdT by flow cytometric analysis.\n",
        "Serum tumor marker evaluation revealed elevated levels of carcinoembryonic antigen (CEA: 6.42 ng/mL),\n",
        "alpha-fetoprotein (AFP: 11.75 ng/mL), and pro-gastrin-releasing peptide (ProGRP: 85.3 pg/mL).\"\"\",\n",
        "\n",
        "    \"\"\"A 65-year-old woman had a history of debulking surgery, bilateral oophorectomy with omentectomy,\n",
        "total anterior hysterectomy with radical pelvic lymph nodes dissection due to ovarian carcinoma\n",
        "(mucinous-type carcinoma, stage Ic) 1 year ago. The patient's medical compliance was poor and failed\n",
        "to complete her chemotherapy (cyclophosphamide 750 mg/m2, carboplatin 300 mg/m2).\n",
        "Recently, she noted a palpable right breast mass, 15 cm in size which nearly occupied the whole right breast\n",
        "in 2 months. Core needle biopsy revealed metaplastic carcinoma.\n",
        "Neoadjuvant chemotherapy with the regimens of Taxotere (75 mg/m2), Epirubicin (75 mg/m2),\n",
        "and Cyclophosphamide (500 mg/m2) was given for 6 cycles with poor response,\n",
        "followed by a modified radical mastectomy (MRM) with dissection of axillary lymph nodes and skin grafting.\n",
        "Postoperatively, radiotherapy was done with 5000 cGy in 25 fractions.\n",
        "The histopathologic examination revealed a metaplastic carcinoma with squamous differentiation\n",
        "associated with adenomyoepithelioma.\n",
        "Immunohistochemistry study showed that the tumor cells are positive for epithelial markers\n",
        "(cytokeratin AE1/AE3), and myoepithelial markers, including CK 5/6, p63, and S100.\n",
        "Expressions of hormone receptors, including ER, PR, and Her-2/Neu, were all negative.\"\"\",\n",
        "\n",
        "    \"\"\"Patient has a family history of diabetes. Father diagnosed with heart failure last year.\n",
        "Sister and brother both have asthma. Grandfather had cancer in his late 70s.\n",
        "No known family history of substance abuse. Family history of autoimmune diseases is also noted.\"\"\",\n",
        "\n",
        "    \"\"\"Patient resting in bed. Patient given azithromycin without any difficulty.\n",
        "Patient has audible wheezing, states chest tightness.\n",
        "No evidence of hypertension. Patient denies nausea at this time. Zofran declined.\n",
        "Patient is also having intermittent sweating associated with pneumonia.\"\"\",\n",
        "\n",
        "    \"\"\"The patient presents with symptoms suggestive of pneumonia, including fever, productive cough,\n",
        "and mild dyspnea. Chest X-ray findings are compatible with a possible early-stage infection,\n",
        "though bacterial pneumonia cannot be entirely excluded.\"\"\",\n",
        "\n",
        "    \"\"\"The patient reports intermittent chest pain when engaging in physical activity,\n",
        "particularly on exertion. Symptoms appear to be contingent upon increased stress levels and heavy meals.\"\"\",\n",
        "\n",
        "    \"\"\"History of Present Illness: The patient reports a history of influenza with high fever\n",
        "(up to 41 °C) approximately two months ago. He now presents again with flu-like symptoms,\n",
        "including fever, but denies productive cough.\n",
        "Family History: Father with a history of lung cancer.\"\"\"\n",
        "]\n"
      ]
    },
    {
      "cell_type": "markdown",
      "metadata": {
        "id": "NydYOOBEhYoF"
      },
      "source": [
        "# Apply the Pipeline to Sample Texts"
      ]
    },
    {
      "cell_type": "code",
      "execution_count": null,
      "metadata": {
        "id": "9o6SeibHWssx"
      },
      "outputs": [],
      "source": [
        "data = spark.createDataFrame([[text] for text in sample_texts]).toDF(\"text\")\n",
        "result = fitted_pipeline.transform(data)"
      ]
    },
    {
      "cell_type": "markdown",
      "metadata": {
        "id": "tvklRLZihkP0"
      },
      "source": [
        "# Print the Results for NER"
      ]
    },
    {
      "cell_type": "code",
      "execution_count": null,
      "metadata": {
        "colab": {
          "base_uri": "https://localhost:8080/"
        },
        "id": "laI4cuMZT_5N",
        "outputId": "8ecc2e81-83c3-4c73-cef7-8456f5c51f90"
      },
      "outputs": [
        {
          "name": "stdout",
          "output_type": "stream",
          "text": [
            "NER entities\n",
            "+-----------------------------+-----+----+---------+\n",
            "|result                       |begin|end |entity   |\n",
            "+-----------------------------+-----+----+---------+\n",
            "|Toronto                      |155  |161 |City     |\n",
            "|Toronto                      |326  |332 |City     |\n",
            "|Canada                       |335  |340 |COUNTRY  |\n",
            "|India                        |425  |429 |COUNTRY  |\n",
            "|Germany                      |432  |438 |COUNTRY  |\n",
            "|Brazil                       |441  |446 |COUNTRY  |\n",
            "|South Korea                  |449  |459 |COUNTRY  |\n",
            "|Morocco                      |462  |468 |COUNTRY  |\n",
            "|Australia                    |475  |483 |COUNTRY  |\n",
            "|Mexico                       |544  |549 |COUNTRY  |\n",
            "|Cairo                        |560  |564 |City     |\n",
            "|Thomas                       |36   |41  |DRUG     |\n",
            "|Atlanta                      |159  |165 |City     |\n",
            "|Georgia                      |168  |174 |COUNTRY  |\n",
            "|Atlanta                      |402  |408 |City     |\n",
            "|Texas                        |552  |556 |STATE    |\n",
            "|Nevada                       |609  |614 |STATE    |\n",
            "|Illinois                     |620  |627 |STATE    |\n",
            "|Florida                      |702  |708 |STATE    |\n",
            "|reunion                      |780  |786 |COUNTRY  |\n",
            "|New York                     |791  |798 |STATE    |\n",
            "|Laura                        |6    |10  |DRUG     |\n",
            "|San Francisco                |160  |172 |City     |\n",
            "|Chicago                      |333  |339 |City     |\n",
            "|USA                          |346  |348 |COUNTRY  |\n",
            "|laura                        |359  |363 |DRUG     |\n",
            "|Rome                         |413  |416 |City     |\n",
            "|Dubai                        |419  |423 |City     |\n",
            "|clopidogrel                  |29   |39  |DRUG     |\n",
            "|ibuprofen                    |81   |89  |DRUG     |\n",
            "|azithromycin                 |108  |119 |DRUG     |\n",
            "|omeprazole                   |150  |159 |DRUG     |\n",
            "|CD10                         |88   |91  |Biomarker|\n",
            "|CD19                         |94   |97  |Biomarker|\n",
            "|CD34                         |100  |103 |Biomarker|\n",
            "|CD45                         |106  |109 |Biomarker|\n",
            "|CD117                        |112  |116 |Biomarker|\n",
            "|CD123                        |119  |123 |Biomarker|\n",
            "|HLA-DR                       |126  |131 |Biomarker|\n",
            "|TdT                          |138  |140 |Biomarker|\n",
            "|carcinoembryonic antigen     |229  |252 |Biomarker|\n",
            "|CEA                          |255  |257 |Biomarker|\n",
            "|alpha-fetoprotein            |273  |289 |Biomarker|\n",
            "|AFP                          |292  |294 |Biomarker|\n",
            "|pro-gastrin-releasing peptide|315  |343 |Biomarker|\n",
            "|ProGRP                       |346  |351 |Biomarker|\n",
            "|ovarian carcinoma            |175  |191 |Cancer_dx|\n",
            "|mucinous-type carcinoma      |194  |216 |Cancer_dx|\n",
            "|cyclophosphamide             |324  |339 |DRUG     |\n",
            "|carboplatin                  |352  |362 |DRUG     |\n",
            "|metaplastic carcinoma        |526  |546 |Cancer_dx|\n",
            "|Taxotere                     |595  |602 |DRUG     |\n",
            "|Epirubicin                   |616  |625 |DRUG     |\n",
            "|Cyclophosphamide             |643  |658 |DRUG     |\n",
            "|metaplastic carcinoma        |935  |955 |Cancer_dx|\n",
            "|adenomyoepithelioma          |1003 |1021|Cancer_dx|\n",
            "|cytokeratin AE1/AE3          |1116 |1134|Biomarker|\n",
            "|myoepithelial markers        |1142 |1162|Biomarker|\n",
            "|CK 5/6                       |1175 |1180|Biomarker|\n",
            "|p63                          |1183 |1185|Biomarker|\n",
            "|S100                         |1192 |1195|Biomarker|\n",
            "|ER                           |1242 |1243|Biomarker|\n",
            "|PR                           |1246 |1247|Biomarker|\n",
            "|Her-2/Neu                    |1254 |1262|Biomarker|\n",
            "|cancer                       |142  |147 |Cancer_dx|\n",
            "|azithromycin                 |38   |49  |DRUG     |\n",
            "|Zofran                       |194  |199 |DRUG     |\n",
            "|lung cancer                  |264  |274 |Cancer_dx|\n",
            "+-----------------------------+-----+----+---------+\n",
            "\n"
          ]
        }
      ],
      "source": [
        "# Print results for all NER entities\n",
        "print(\"NER entities\")\n",
        "result.selectExpr(\"explode(ner_chunk)\").select(\"col.result\", \"col.begin\", \"col.end\", \"col.metadata.entity\").show(100, truncate=False)"
      ]
    },
    {
      "cell_type": "markdown",
      "metadata": {
        "id": "ZXdXHRvLhu8J"
      },
      "source": [
        "# Print Results for Assertions"
      ]
    },
    {
      "cell_type": "code",
      "execution_count": null,
      "metadata": {
        "colab": {
          "base_uri": "https://localhost:8080/"
        },
        "id": "07E49VsIUXNZ",
        "outputId": "c0f7f892-75cd-4875-85d4-3a05b487fd90"
      },
      "outputs": [
        {
          "name": "stdout",
          "output_type": "stream",
          "text": [
            "Assertions\n",
            "+-----------------------+-----+----+----------------------------+\n",
            "|ner_chunk              |begin|end |result                      |\n",
            "+-----------------------+-----+----+----------------------------+\n",
            "|ovarian carcinoma      |175  |191 |Past                        |\n",
            "|mucinous-type carcinoma|194  |216 |Past                        |\n",
            "|cyclophosphamide       |324  |339 |Past                        |\n",
            "|carboplatin            |352  |362 |Past                        |\n",
            "|Taxotere               |595  |602 |Past                        |\n",
            "|Epirubicin             |616  |625 |Past                        |\n",
            "|Cyclophosphamide       |643  |658 |Past                        |\n",
            "|metaplastic carcinoma  |935  |955 |conditional                 |\n",
            "|cytokeratin AE1/AE3    |1116 |1134|Past                        |\n",
            "|myoepithelial markers  |1142 |1162|Past                        |\n",
            "|CK 5/6                 |1175 |1180|Past                        |\n",
            "|p63                    |1183 |1185|Past                        |\n",
            "|S100                   |1192 |1195|Past                        |\n",
            "|ER                     |1242 |1243|absent                      |\n",
            "|PR                     |1246 |1247|absent                      |\n",
            "|Her-2/Neu              |1254 |1262|absent                      |\n",
            "|cancer                 |142  |147 |associated_with_someone_else|\n",
            "|Zofran                 |194  |199 |absent                      |\n",
            "|lung cancer            |264  |274 |associated_with_someone_else|\n",
            "+-----------------------+-----+----+----------------------------+\n",
            "\n"
          ]
        }
      ],
      "source": [
        "# Assertions (only for clinical entities: Drug, Biomarker, Cancer_dx)\n",
        "print(\"Assertions\")\n",
        "result.selectExpr(\"explode(clinical_assertions)\").select(\"col.metadata.ner_chunk\", \"col.begin\", \"col.end\", \"col.result\").show(100, truncate=False)"
      ]
    },
    {
      "cell_type": "markdown",
      "metadata": {
        "id": "rCPFs8I5mmEy"
      },
      "source": [
        "# Entity and Assertion Visualization"
      ]
    },
    {
      "cell_type": "code",
      "execution_count": null,
      "metadata": {
        "colab": {
          "base_uri": "https://localhost:8080/",
          "height": 1000
        },
        "id": "MYELOqmlgiD9",
        "outputId": "2d8b1cc6-dba9-4124-cd6f-025d9d0104c0"
      },
      "outputs": [
        {
          "name": "stdout",
          "output_type": "stream",
          "text": [
            "Ner Result Entities \n"
          ]
        },
        {
          "data": {
            "text/html": [
              "\n",
              "<style>\n",
              "    @import url('https://fonts.googleapis.com/css2?family=Montserrat:wght@300;400;500;600;700&display=swap');\n",
              "    @import url('https://fonts.googleapis.com/css2?family=Vistol Regular:wght@300;400;500;600;700&display=swap');\n",
              "    \n",
              "    .spark-nlp-display-scroll-entities {\n",
              "        border: 1px solid #E7EDF0;\n",
              "        border-radius: 3px;\n",
              "        text-align: justify;\n",
              "        \n",
              "    }\n",
              "    .spark-nlp-display-scroll-entities span {  \n",
              "        font-size: 14px;\n",
              "        line-height: 24px;\n",
              "        color: #536B76;\n",
              "        font-family: 'Montserrat', sans-serif !important;\n",
              "    }\n",
              "    \n",
              "    .spark-nlp-display-entity-wrapper{\n",
              "    \n",
              "        display: inline-grid;\n",
              "        text-align: center;\n",
              "        border-radius: 4px;\n",
              "        margin: 0 2px 5px 2px;\n",
              "        padding: 1px\n",
              "    }\n",
              "    .spark-nlp-display-entity-name{\n",
              "        font-size: 14px;\n",
              "        line-height: 24px;\n",
              "        font-family: 'Montserrat', sans-serif !important;\n",
              "        \n",
              "        background: #f1f2f3;\n",
              "        border-width: medium;\n",
              "        text-align: center;\n",
              "        \n",
              "        font-weight: 400;\n",
              "        \n",
              "        border-radius: 5px;\n",
              "        padding: 2px 5px;\n",
              "        display: block;\n",
              "        margin: 3px 2px;\n",
              "    \n",
              "    }\n",
              "    .spark-nlp-display-entity-type{\n",
              "        font-size: 14px;\n",
              "        line-height: 24px;\n",
              "        color: #ffffff;\n",
              "        font-family: 'Montserrat', sans-serif !important;\n",
              "        \n",
              "        text-transform: uppercase;\n",
              "        \n",
              "        font-weight: 500;\n",
              "\n",
              "        display: block;\n",
              "        padding: 3px 5px;\n",
              "    }\n",
              "    \n",
              "    .spark-nlp-display-entity-resolution{\n",
              "        font-size: 14px;\n",
              "        line-height: 24px;\n",
              "        color: #ffffff;\n",
              "        font-family: 'Vistol Regular', sans-serif !important;\n",
              "        \n",
              "        text-transform: uppercase;\n",
              "        \n",
              "        font-weight: 500;\n",
              "\n",
              "        display: block;\n",
              "        padding: 3px 5px;\n",
              "    }\n",
              "    \n",
              "    .spark-nlp-display-others{\n",
              "        font-size: 14px;\n",
              "        line-height: 24px;\n",
              "        font-family: 'Montserrat', sans-serif !important;\n",
              "        \n",
              "        font-weight: 400;\n",
              "    }\n",
              "\n",
              "</style>\n",
              " <span class=\"spark-nlp-display-others\" style=\"background-color: white\">Name: Patel, Rina  Record Date: 2095-11-03  MR: 781093<br>Dr. Sofia Chen, IP: 172.16.254.12<br>She is a 48-year-old female admitted to Unity Health Institute in </span><span class=\"spark-nlp-display-entity-wrapper\" style=\"background-color: #4E8C75\"><span class=\"spark-nlp-display-entity-name\">Toronto </span><span class=\"spark-nlp-display-entity-type\">City</span></span><span class=\"spark-nlp-display-others\" style=\"background-color: white\"><br>for thyroidectomy on 11/03/95.<br>Patient's VIN: JH4KA8270MC012345, SSN: 333-22-7777, Driver’s License: P987654F<br>Phone: +1 (647) 555-1122, Address: 789 Queen Street, </span><span class=\"spark-nlp-display-entity-wrapper\" style=\"background-color: #4E8C75\"><span class=\"spark-nlp-display-entity-name\">Toronto </span><span class=\"spark-nlp-display-entity-type\">City</span></span><span class=\"spark-nlp-display-others\" style=\"background-color: white\">, </span><span class=\"spark-nlp-display-entity-wrapper\" style=\"background-color: #675A20\"><span class=\"spark-nlp-display-entity-name\">Canada </span><span class=\"spark-nlp-display-entity-type\">COUNTRY</span></span><span class=\"spark-nlp-display-others\" style=\"background-color: white\">,<br>Email: rina.patel@caremail.org<br>In the past 18 months, the patient has traveled to </span><span class=\"spark-nlp-display-entity-wrapper\" style=\"background-color: #675A20\"><span class=\"spark-nlp-display-entity-name\">India </span><span class=\"spark-nlp-display-entity-type\">COUNTRY</span></span><span class=\"spark-nlp-display-others\" style=\"background-color: white\">, </span><span class=\"spark-nlp-display-entity-wrapper\" style=\"background-color: #675A20\"><span class=\"spark-nlp-display-entity-name\">Germany </span><span class=\"spark-nlp-display-entity-type\">COUNTRY</span></span><span class=\"spark-nlp-display-others\" style=\"background-color: white\">, </span><span class=\"spark-nlp-display-entity-wrapper\" style=\"background-color: #675A20\"><span class=\"spark-nlp-display-entity-name\">Brazil </span><span class=\"spark-nlp-display-entity-type\">COUNTRY</span></span><span class=\"spark-nlp-display-others\" style=\"background-color: white\">,<br></span><span class=\"spark-nlp-display-entity-wrapper\" style=\"background-color: #675A20\"><span class=\"spark-nlp-display-entity-name\">South Korea </span><span class=\"spark-nlp-display-entity-type\">COUNTRY</span></span><span class=\"spark-nlp-display-others\" style=\"background-color: white\">, </span><span class=\"spark-nlp-display-entity-wrapper\" style=\"background-color: #675A20\"><span class=\"spark-nlp-display-entity-name\">Morocco </span><span class=\"spark-nlp-display-entity-type\">COUNTRY</span></span><span class=\"spark-nlp-display-others\" style=\"background-color: white\">, and </span><span class=\"spark-nlp-display-entity-wrapper\" style=\"background-color: #675A20\"><span class=\"spark-nlp-display-entity-name\">Australia </span><span class=\"spark-nlp-display-entity-type\">COUNTRY</span></span><span class=\"spark-nlp-display-others\" style=\"background-color: white\"> for both business and leisure.<br>She reported brief stays in </span><span class=\"spark-nlp-display-entity-wrapper\" style=\"background-color: #675A20\"><span class=\"spark-nlp-display-entity-name\">Mexico </span><span class=\"spark-nlp-display-entity-type\">COUNTRY</span></span><span class=\"spark-nlp-display-others\" style=\"background-color: white\"> City and </span><span class=\"spark-nlp-display-entity-wrapper\" style=\"background-color: #4E8C75\"><span class=\"spark-nlp-display-entity-name\">Cairo </span><span class=\"spark-nlp-display-entity-type\">City</span></span><span class=\"spark-nlp-display-others\" style=\"background-color: white\"> as well.<br>All travel occurred prior to surgery, and she denied any symptoms during or after her trips.</span></div>"
            ],
            "text/plain": [
              "<IPython.core.display.HTML object>"
            ]
          },
          "metadata": {},
          "output_type": "display_data"
        },
        {
          "name": "stdout",
          "output_type": "stream",
          "text": [
            "\n",
            "\n",
            " Clinical Entities\n"
          ]
        },
        {
          "data": {
            "text/html": [
              "\n",
              "<style>\n",
              "    @import url('https://fonts.googleapis.com/css2?family=Montserrat:wght@300;400;500;600;700&display=swap');\n",
              "    @import url('https://fonts.googleapis.com/css2?family=Vistol Regular:wght@300;400;500;600;700&display=swap');\n",
              "    \n",
              "    .spark-nlp-display-scroll-entities {\n",
              "        border: 1px solid #E7EDF0;\n",
              "        border-radius: 3px;\n",
              "        text-align: justify;\n",
              "        \n",
              "    }\n",
              "    .spark-nlp-display-scroll-entities span {  \n",
              "        font-size: 14px;\n",
              "        line-height: 24px;\n",
              "        color: #536B76;\n",
              "        font-family: 'Montserrat', sans-serif !important;\n",
              "    }\n",
              "    \n",
              "    .spark-nlp-display-entity-wrapper{\n",
              "    \n",
              "        display: inline-grid;\n",
              "        text-align: center;\n",
              "        border-radius: 4px;\n",
              "        margin: 0 2px 5px 2px;\n",
              "        padding: 1px\n",
              "    }\n",
              "    .spark-nlp-display-entity-name{\n",
              "        font-size: 14px;\n",
              "        line-height: 24px;\n",
              "        font-family: 'Montserrat', sans-serif !important;\n",
              "        \n",
              "        background: #f1f2f3;\n",
              "        border-width: medium;\n",
              "        text-align: center;\n",
              "        \n",
              "        font-weight: 400;\n",
              "        \n",
              "        border-radius: 5px;\n",
              "        padding: 2px 5px;\n",
              "        display: block;\n",
              "        margin: 3px 2px;\n",
              "    \n",
              "    }\n",
              "    .spark-nlp-display-entity-type{\n",
              "        font-size: 14px;\n",
              "        line-height: 24px;\n",
              "        color: #ffffff;\n",
              "        font-family: 'Montserrat', sans-serif !important;\n",
              "        \n",
              "        text-transform: uppercase;\n",
              "        \n",
              "        font-weight: 500;\n",
              "\n",
              "        display: block;\n",
              "        padding: 3px 5px;\n",
              "    }\n",
              "    \n",
              "    .spark-nlp-display-entity-resolution{\n",
              "        font-size: 14px;\n",
              "        line-height: 24px;\n",
              "        color: #ffffff;\n",
              "        font-family: 'Vistol Regular', sans-serif !important;\n",
              "        \n",
              "        text-transform: uppercase;\n",
              "        \n",
              "        font-weight: 500;\n",
              "\n",
              "        display: block;\n",
              "        padding: 3px 5px;\n",
              "    }\n",
              "    \n",
              "    .spark-nlp-display-others{\n",
              "        font-size: 14px;\n",
              "        line-height: 24px;\n",
              "        font-family: 'Montserrat', sans-serif !important;\n",
              "        \n",
              "        font-weight: 400;\n",
              "    }\n",
              "\n",
              "</style>\n",
              " <span class=\"spark-nlp-display-others\" style=\"background-color: white\">A 65-year-old woman had a history of debulking surgery, bilateral oophorectomy with omentectomy,<br>total anterior hysterectomy with radical pelvic lymph nodes dissection due to </span><span class=\"spark-nlp-display-entity-wrapper\" style=\"background-color: #547A0FB3\"><span class=\"spark-nlp-display-entity-name\">ovarian carcinoma </span><span class=\"spark-nlp-display-entity-type\">Cancer_dx</span><span class=\"spark-nlp-display-entity-resolution\" style=\"background-color: #547A0FFF\">Past </span></span><span class=\"spark-nlp-display-others\" style=\"background-color: white\"><br>(</span><span class=\"spark-nlp-display-entity-wrapper\" style=\"background-color: #547A0FB3\"><span class=\"spark-nlp-display-entity-name\">mucinous-type carcinoma </span><span class=\"spark-nlp-display-entity-type\">Cancer_dx</span><span class=\"spark-nlp-display-entity-resolution\" style=\"background-color: #547A0FFF\">Past </span></span><span class=\"spark-nlp-display-others\" style=\"background-color: white\">, stage Ic) 1 year ago. The patient's medical compliance was poor and failed<br>to complete her chemotherapy (</span><span class=\"spark-nlp-display-entity-wrapper\" style=\"background-color: #8B668BB3\"><span class=\"spark-nlp-display-entity-name\">cyclophosphamide </span><span class=\"spark-nlp-display-entity-type\">DRUG</span><span class=\"spark-nlp-display-entity-resolution\" style=\"background-color: #8B668BFF\">Past </span></span><span class=\"spark-nlp-display-others\" style=\"background-color: white\"> 750 mg/m2, </span><span class=\"spark-nlp-display-entity-wrapper\" style=\"background-color: #8B668BB3\"><span class=\"spark-nlp-display-entity-name\">carboplatin </span><span class=\"spark-nlp-display-entity-type\">DRUG</span><span class=\"spark-nlp-display-entity-resolution\" style=\"background-color: #8B668BFF\">Past </span></span><span class=\"spark-nlp-display-others\" style=\"background-color: white\"> 300 mg/m2).<br>Recently, she noted a palpable right breast mass, 15 cm in size which nearly occupied the whole right breast<br>in 2 months. Core needle biopsy revealed </span><span class=\"spark-nlp-display-entity-wrapper\" style=\"background-color: #547A0FB3\"><span class=\"spark-nlp-display-entity-name\">metaplastic carcinoma </span><span class=\"spark-nlp-display-entity-type\">Cancer_dx</span></span><span class=\"spark-nlp-display-others\" style=\"background-color: white\">.<br>Neoadjuvant chemotherapy with the regimens of </span><span class=\"spark-nlp-display-entity-wrapper\" style=\"background-color: #8B668BB3\"><span class=\"spark-nlp-display-entity-name\">Taxotere </span><span class=\"spark-nlp-display-entity-type\">DRUG</span><span class=\"spark-nlp-display-entity-resolution\" style=\"background-color: #8B668BFF\">Past </span></span><span class=\"spark-nlp-display-others\" style=\"background-color: white\"> (75 mg/m2), </span><span class=\"spark-nlp-display-entity-wrapper\" style=\"background-color: #8B668BB3\"><span class=\"spark-nlp-display-entity-name\">Epirubicin </span><span class=\"spark-nlp-display-entity-type\">DRUG</span><span class=\"spark-nlp-display-entity-resolution\" style=\"background-color: #8B668BFF\">Past </span></span><span class=\"spark-nlp-display-others\" style=\"background-color: white\"> (75 mg/m2),<br>and </span><span class=\"spark-nlp-display-entity-wrapper\" style=\"background-color: #8B668BB3\"><span class=\"spark-nlp-display-entity-name\">Cyclophosphamide </span><span class=\"spark-nlp-display-entity-type\">DRUG</span><span class=\"spark-nlp-display-entity-resolution\" style=\"background-color: #8B668BFF\">Past </span></span><span class=\"spark-nlp-display-others\" style=\"background-color: white\"> (500 mg/m2) was given for 6 cycles with poor response,<br>followed by a modified radical mastectomy (MRM) with dissection of axillary lymph nodes and skin grafting.<br>Postoperatively, radiotherapy was done with 5000 cGy in 25 fractions.<br>The histopathologic examination revealed a </span><span class=\"spark-nlp-display-entity-wrapper\" style=\"background-color: #547A0FB3\"><span class=\"spark-nlp-display-entity-name\">metaplastic carcinoma </span><span class=\"spark-nlp-display-entity-type\">Cancer_dx</span><span class=\"spark-nlp-display-entity-resolution\" style=\"background-color: #547A0FFF\">conditional </span></span><span class=\"spark-nlp-display-others\" style=\"background-color: white\"> with squamous differentiation<br>associated with </span><span class=\"spark-nlp-display-entity-wrapper\" style=\"background-color: #547A0FB3\"><span class=\"spark-nlp-display-entity-name\">adenomyoepithelioma </span><span class=\"spark-nlp-display-entity-type\">Cancer_dx</span></span><span class=\"spark-nlp-display-others\" style=\"background-color: white\">.<br>Immunohistochemistry study showed that the tumor cells are positive for epithelial markers<br>(</span><span class=\"spark-nlp-display-entity-wrapper\" style=\"background-color: #44269FB3\"><span class=\"spark-nlp-display-entity-name\">cytokeratin AE1/AE3 </span><span class=\"spark-nlp-display-entity-type\">Biomarker</span><span class=\"spark-nlp-display-entity-resolution\" style=\"background-color: #44269FFF\">Past </span></span><span class=\"spark-nlp-display-others\" style=\"background-color: white\">), and </span><span class=\"spark-nlp-display-entity-wrapper\" style=\"background-color: #44269FB3\"><span class=\"spark-nlp-display-entity-name\">myoepithelial markers </span><span class=\"spark-nlp-display-entity-type\">Biomarker</span><span class=\"spark-nlp-display-entity-resolution\" style=\"background-color: #44269FFF\">Past </span></span><span class=\"spark-nlp-display-others\" style=\"background-color: white\">, including </span><span class=\"spark-nlp-display-entity-wrapper\" style=\"background-color: #44269FB3\"><span class=\"spark-nlp-display-entity-name\">CK 5/6 </span><span class=\"spark-nlp-display-entity-type\">Biomarker</span><span class=\"spark-nlp-display-entity-resolution\" style=\"background-color: #44269FFF\">Past </span></span><span class=\"spark-nlp-display-others\" style=\"background-color: white\">, </span><span class=\"spark-nlp-display-entity-wrapper\" style=\"background-color: #44269FB3\"><span class=\"spark-nlp-display-entity-name\">p63 </span><span class=\"spark-nlp-display-entity-type\">Biomarker</span><span class=\"spark-nlp-display-entity-resolution\" style=\"background-color: #44269FFF\">Past </span></span><span class=\"spark-nlp-display-others\" style=\"background-color: white\">, and </span><span class=\"spark-nlp-display-entity-wrapper\" style=\"background-color: #44269FB3\"><span class=\"spark-nlp-display-entity-name\">S100 </span><span class=\"spark-nlp-display-entity-type\">Biomarker</span><span class=\"spark-nlp-display-entity-resolution\" style=\"background-color: #44269FFF\">Past </span></span><span class=\"spark-nlp-display-others\" style=\"background-color: white\">.<br>Expressions of hormone receptors, including </span><span class=\"spark-nlp-display-entity-wrapper\" style=\"background-color: #44269FB3\"><span class=\"spark-nlp-display-entity-name\">ER </span><span class=\"spark-nlp-display-entity-type\">Biomarker</span><span class=\"spark-nlp-display-entity-resolution\" style=\"background-color: #44269FFF\">absent </span></span><span class=\"spark-nlp-display-others\" style=\"background-color: white\">, </span><span class=\"spark-nlp-display-entity-wrapper\" style=\"background-color: #44269FB3\"><span class=\"spark-nlp-display-entity-name\">PR </span><span class=\"spark-nlp-display-entity-type\">Biomarker</span><span class=\"spark-nlp-display-entity-resolution\" style=\"background-color: #44269FFF\">absent </span></span><span class=\"spark-nlp-display-others\" style=\"background-color: white\">, and </span><span class=\"spark-nlp-display-entity-wrapper\" style=\"background-color: #44269FB3\"><span class=\"spark-nlp-display-entity-name\">Her-2/Neu </span><span class=\"spark-nlp-display-entity-type\">Biomarker</span><span class=\"spark-nlp-display-entity-resolution\" style=\"background-color: #44269FFF\">absent </span></span><span class=\"spark-nlp-display-others\" style=\"background-color: white\">, were all negative.</span></div>"
            ],
            "text/plain": [
              "<IPython.core.display.HTML object>"
            ]
          },
          "metadata": {},
          "output_type": "display_data"
        }
      ],
      "source": [
        "# Visualize NER entities (without assertions)\n",
        "print(\"Ner Result Entities \")\n",
        "nlp.viz.NerVisualizer().display(result.collect()[0], 'ner_chunk')\n",
        "\n",
        "# Visualize clinical entities with their assertions\n",
        "print(\"\\n\\n Clinical Entities\")\n",
        "nlp.viz.AssertionVisualizer().display(result.collect()[5], 'clinical_entities', 'clinical_assertions')\n"
      ]
    }
  ],
  "metadata": {
    "colab": {
      "provenance": []
    },
    "kernelspec": {
      "display_name": "Python 3",
      "name": "python3"
    },
    "language_info": {
      "name": "python"
    }
  },
  "nbformat": 4,
  "nbformat_minor": 0
}

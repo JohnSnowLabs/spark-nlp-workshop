{
  "nbformat": 4,
  "nbformat_minor": 0,
  "metadata": {
    "colab": {
      "name": "NER_DRUGS_DEVELOPMENT_TRIALS.ipynb",
      "provenance": [],
      "collapsed_sections": []
    },
    "kernelspec": {
      "name": "python3",
      "display_name": "Python 3"
    },
    "language_info": {
      "name": "python"
    }
  },
  "cells": [
    {
      "cell_type": "markdown",
      "source": [
        "![JohnSnowLabs](https://nlp.johnsnowlabs.com/assets/images/logo.png)\n",
        "\n",
        "[![Open In Colab](https://colab.research.google.com/assets/colab-badge.svg)](https://colab.research.google.com/github/JohnSnowLabs/spark-nlp-workshop/blob/master/tutorials/streamlit_notebooks/healthcare/NER_DRUGS_DEVELOPMENT_TRIALS.ipynb)"
      ],
      "metadata": {
        "id": "N4bAsOG64nZL"
      }
    },
    {
      "cell_type": "markdown",
      "source": [
        "# **Colab Setup**"
      ],
      "metadata": {
        "id": "ISNyGR4K4Y_P"
      }
    },
    {
      "cell_type": "code",
      "source": [
        "import json\n",
        "import os\n",
        "\n",
        "from google.colab import files\n",
        "\n",
        "if 'spark_jsl.json' not in os.listdir():\n",
        "  license_keys = files.upload()\n",
        "  os.rename(list(license_keys.keys())[0], 'spark_jsl.json')\n",
        "\n",
        "with open('spark_jsl.json') as f:\n",
        "    license_keys = json.load(f)\n",
        "\n",
        "# Defining license key-value pairs as local variables\n",
        "locals().update(license_keys)\n",
        "os.environ.update(license_keys)"
      ],
      "metadata": {
        "id": "et-o7PQP0Sjf"
      },
      "execution_count": 17,
      "outputs": []
    },
    {
      "cell_type": "code",
      "execution_count": 18,
      "metadata": {
        "id": "zXF9kBOB0Caz"
      },
      "outputs": [],
      "source": [
        "# Installing pyspark and spark-nlp\n",
        "! pip install --upgrade -q pyspark==3.1.2 spark-nlp==$PUBLIC_VERSION\n",
        "\n",
        "# Installing Spark NLP Healthcare\n",
        "! pip install --upgrade -q spark-nlp-jsl==$JSL_VERSION  --extra-index-url https://pypi.johnsnowlabs.com/$SECRET\n",
        "\n",
        "# Installing Spark NLP Display Library for visualization\n",
        "! pip install -q spark-nlp-display"
      ]
    },
    {
      "cell_type": "markdown",
      "source": [
        "# **Start the Spark session**"
      ],
      "metadata": {
        "id": "Y6YKz2y64ugj"
      }
    },
    {
      "cell_type": "code",
      "source": [
        "import json\n",
        "import os\n",
        "\n",
        "import sparknlp\n",
        "import sparknlp_jsl\n",
        "\n",
        "from sparknlp.base import *\n",
        "from sparknlp.annotator import *\n",
        "from sparknlp_jsl.annotator import *\n",
        "\n",
        "from pyspark.sql import SparkSession\n",
        "from pyspark.sql import functions as F\n",
        "from pyspark.ml import Pipeline,PipelineModel\n",
        "\n",
        "import warnings\n",
        "warnings.filterwarnings('ignore')\n",
        "\n",
        "params = {\"spark.driver.memory\":\"16G\", \n",
        "          \"spark.kryoserializer.buffer.max\":\"2000M\", \n",
        "          \"spark.driver.maxResultSize\":\"2000M\"} \n",
        "\n",
        "print(\"Spark NLP Version :\", sparknlp.version())\n",
        "print(\"Spark NLP_JSL Version :\", sparknlp_jsl.version())\n",
        "\n",
        "spark = sparknlp_jsl.start(license_keys['SECRET'],params=params)\n",
        "\n",
        "spark"
      ],
      "metadata": {
        "colab": {
          "base_uri": "https://localhost:8080/",
          "height": 261
        },
        "id": "Rc2_m9JX0VZR",
        "outputId": "9c70f30c-93f7-4524-bfc0-060d251bb197"
      },
      "execution_count": 19,
      "outputs": [
        {
          "output_type": "stream",
          "name": "stdout",
          "text": [
            "Spark NLP Version : 3.4.4\n",
            "Spark NLP_JSL Version : 3.5.2\n",
            "Warning::Spark Session already created, some configs may not take.\n"
          ]
        },
        {
          "output_type": "execute_result",
          "data": {
            "text/plain": [
              "<pyspark.sql.session.SparkSession at 0x7f77f3129b10>"
            ],
            "text/html": [
              "\n",
              "            <div>\n",
              "                <p><b>SparkSession - in-memory</b></p>\n",
              "                \n",
              "        <div>\n",
              "            <p><b>SparkContext</b></p>\n",
              "\n",
              "            <p><a href=\"http://2f0d5413879e:4040\">Spark UI</a></p>\n",
              "\n",
              "            <dl>\n",
              "              <dt>Version</dt>\n",
              "                <dd><code>v3.1.2</code></dd>\n",
              "              <dt>Master</dt>\n",
              "                <dd><code>local[*]</code></dd>\n",
              "              <dt>AppName</dt>\n",
              "                <dd><code>Spark NLP Licensed</code></dd>\n",
              "            </dl>\n",
              "        </div>\n",
              "        \n",
              "            </div>\n",
              "        "
            ]
          },
          "metadata": {},
          "execution_count": 19
        }
      ]
    },
    {
      "cell_type": "markdown",
      "source": [
        "# **🔎 For about models**"
      ],
      "metadata": {
        "id": "mitty7tK1Lux"
      }
    },
    {
      "cell_type": "markdown",
      "source": [
        "### 📌 **bert_token_classifier_drug_development_trials**\n",
        "\n",
        "It is a BertForTokenClassification NER model to identify concepts related to drug development including **Trial Groups , End Points , Hazard Ratio and other** entities in free text."
      ],
      "metadata": {
        "id": "h48IlU5V1QJl"
      }
    },
    {
      "cell_type": "markdown",
      "source": [
        "# **🔎Define Spark NLP pipeline**"
      ],
      "metadata": {
        "id": "Ay08hTB11pLM"
      }
    },
    {
      "cell_type": "code",
      "source": [
        "documentAssembler = DocumentAssembler()\\\n",
        "    .setInputCol(\"text\")\\\n",
        "    .setOutputCol(\"document\")\n",
        "\n",
        "sentenceDetector = SentenceDetectorDLModel.pretrained() \\\n",
        "    .setInputCols([\"document\"]) \\\n",
        "    .setOutputCol(\"sentence\") \n",
        "\n",
        "tokenizer = Tokenizer()\\\n",
        "    .setInputCols(\"sentence\")\\\n",
        "    .setOutputCol(\"token\")\n",
        "\n",
        "tokenClassifier = MedicalBertForTokenClassifier.pretrained( \"bert_token_classifier_drug_development_trials\", \"en\", 'clinical/models')\\\n",
        "    .setInputCols(\"sentence\",\"token\")\\\n",
        "    .setOutputCol(\"ner\")\\\n",
        "    .setCaseSensitive(True)\n",
        "\n",
        "ner_converter = NerConverter()\\\n",
        "    .setInputCols([\"sentence\",\"token\",\"ner\"])\\\n",
        "    .setOutputCol(\"ner_chunk\")\n",
        "\n",
        "pipeline =  Pipeline(stages=[\n",
        "                documentAssembler,\n",
        "                sentenceDetector, \n",
        "                tokenizer, \n",
        "                tokenClassifier, \n",
        "                ner_converter])\n",
        "\n",
        "pipelineModel = pipeline.fit(spark.createDataFrame([['']]).toDF(\"text\"))\n"
      ],
      "metadata": {
        "colab": {
          "base_uri": "https://localhost:8080/"
        },
        "id": "dJxBdHQa0iey",
        "outputId": "c0bcb061-000f-4e4d-b06f-9b706f98f3b8"
      },
      "execution_count": 20,
      "outputs": [
        {
          "output_type": "stream",
          "name": "stdout",
          "text": [
            "sentence_detector_dl download started this may take some time.\n",
            "Approximate size to download 354.6 KB\n",
            "[OK!]\n",
            "bert_token_classifier_drug_development_trials download started this may take some time.\n",
            "[OK!]\n"
          ]
        }
      ]
    },
    {
      "cell_type": "markdown",
      "source": [
        "# **🔎Sample Text**"
      ],
      "metadata": {
        "id": "8G-YK3gs2PpT"
      }
    },
    {
      "cell_type": "code",
      "source": [
        "sample_text = \"In July 2018, final pfs analysis results were reported from 358 patients with relapsed/refractory follicular and marginal zone lymphoma showing that the trial met its primary endpoint, with a significant improvement in pfs compared with rituximab + placebo.   At that time, follow-up was to continue for the mature os results. The median pfs per irc assessment (primary endpoint) with lenalidomide + rituximab and rituximab + placebo was 39.4 and 14.1months, respectively \"\n",
        "\n",
        "data = spark.createDataFrame([[sample_text]]).toDF('text')"
      ],
      "metadata": {
        "id": "MvxK0aIH25qk"
      },
      "execution_count": 21,
      "outputs": []
    },
    {
      "cell_type": "code",
      "source": [
        "result = pipelineModel.transform(data)"
      ],
      "metadata": {
        "id": "YaxQbYZM3CTk"
      },
      "execution_count": 22,
      "outputs": []
    },
    {
      "cell_type": "markdown",
      "source": [
        "# **🔎Run the pipeline**"
      ],
      "metadata": {
        "id": "cHRkkFpV3cGZ"
      }
    },
    {
      "cell_type": "code",
      "source": [
        "light_result = LightPipeline(pipelineModel).fullAnnotate(sample_text)\n",
        "\n",
        "\n",
        "chunks = []\n",
        "entities = []\n",
        "sentence= []\n",
        "begin = []\n",
        "end = []\n",
        "\n",
        "for n in light_result[0]['ner_chunk']:\n",
        "        \n",
        "    begin.append(n.begin)\n",
        "    end.append(n.end)\n",
        "    chunks.append(n.result)\n",
        "    entities.append(n.metadata['entity']) \n",
        "    sentence.append(n.metadata['sentence'])\n",
        "    \n",
        "    \n",
        "import pandas as pd\n",
        "\n",
        "df = pd.DataFrame({'chunks':chunks, 'begin': begin, 'end':end, \n",
        "                   'sentence_id':sentence, 'entities':entities})\n",
        "\n",
        "df.head(20)"
      ],
      "metadata": {
        "colab": {
          "base_uri": "https://localhost:8080/",
          "height": 383
        },
        "id": "A6ejXY0o3chf",
        "outputId": "24f6d7e9-4dbb-4df9-8190-f19d79b6e965"
      },
      "execution_count": 23,
      "outputs": [
        {
          "output_type": "execute_result",
          "data": {
            "text/plain": [
              "                      chunks  begin  end sentence_id        entities\n",
              "0                        pfs     20   22           0       End_Point\n",
              "1               358 patients     60   71           0  Total_Patients\n",
              "2                        pfs    219  221           0       End_Point\n",
              "3        rituximab + placebo    237  255           0     Trial_Group\n",
              "4                         os    315  316           1       End_Point\n",
              "5                     median    331  336           2        Duration\n",
              "6                        pfs    338  340           2       End_Point\n",
              "7   lenalidomide + rituximab    385  408           2     Trial_Group\n",
              "8        rituximab + placebo    414  432           2     Trial_Group\n",
              "9                       39.4    438  441           2           Value\n",
              "10                14.1months    447  456           2           Value"
            ],
            "text/html": [
              "\n",
              "  <div id=\"df-175ed226-6df0-441e-84d3-9e054be830cb\">\n",
              "    <div class=\"colab-df-container\">\n",
              "      <div>\n",
              "<style scoped>\n",
              "    .dataframe tbody tr th:only-of-type {\n",
              "        vertical-align: middle;\n",
              "    }\n",
              "\n",
              "    .dataframe tbody tr th {\n",
              "        vertical-align: top;\n",
              "    }\n",
              "\n",
              "    .dataframe thead th {\n",
              "        text-align: right;\n",
              "    }\n",
              "</style>\n",
              "<table border=\"1\" class=\"dataframe\">\n",
              "  <thead>\n",
              "    <tr style=\"text-align: right;\">\n",
              "      <th></th>\n",
              "      <th>chunks</th>\n",
              "      <th>begin</th>\n",
              "      <th>end</th>\n",
              "      <th>sentence_id</th>\n",
              "      <th>entities</th>\n",
              "    </tr>\n",
              "  </thead>\n",
              "  <tbody>\n",
              "    <tr>\n",
              "      <th>0</th>\n",
              "      <td>pfs</td>\n",
              "      <td>20</td>\n",
              "      <td>22</td>\n",
              "      <td>0</td>\n",
              "      <td>End_Point</td>\n",
              "    </tr>\n",
              "    <tr>\n",
              "      <th>1</th>\n",
              "      <td>358 patients</td>\n",
              "      <td>60</td>\n",
              "      <td>71</td>\n",
              "      <td>0</td>\n",
              "      <td>Total_Patients</td>\n",
              "    </tr>\n",
              "    <tr>\n",
              "      <th>2</th>\n",
              "      <td>pfs</td>\n",
              "      <td>219</td>\n",
              "      <td>221</td>\n",
              "      <td>0</td>\n",
              "      <td>End_Point</td>\n",
              "    </tr>\n",
              "    <tr>\n",
              "      <th>3</th>\n",
              "      <td>rituximab + placebo</td>\n",
              "      <td>237</td>\n",
              "      <td>255</td>\n",
              "      <td>0</td>\n",
              "      <td>Trial_Group</td>\n",
              "    </tr>\n",
              "    <tr>\n",
              "      <th>4</th>\n",
              "      <td>os</td>\n",
              "      <td>315</td>\n",
              "      <td>316</td>\n",
              "      <td>1</td>\n",
              "      <td>End_Point</td>\n",
              "    </tr>\n",
              "    <tr>\n",
              "      <th>5</th>\n",
              "      <td>median</td>\n",
              "      <td>331</td>\n",
              "      <td>336</td>\n",
              "      <td>2</td>\n",
              "      <td>Duration</td>\n",
              "    </tr>\n",
              "    <tr>\n",
              "      <th>6</th>\n",
              "      <td>pfs</td>\n",
              "      <td>338</td>\n",
              "      <td>340</td>\n",
              "      <td>2</td>\n",
              "      <td>End_Point</td>\n",
              "    </tr>\n",
              "    <tr>\n",
              "      <th>7</th>\n",
              "      <td>lenalidomide + rituximab</td>\n",
              "      <td>385</td>\n",
              "      <td>408</td>\n",
              "      <td>2</td>\n",
              "      <td>Trial_Group</td>\n",
              "    </tr>\n",
              "    <tr>\n",
              "      <th>8</th>\n",
              "      <td>rituximab + placebo</td>\n",
              "      <td>414</td>\n",
              "      <td>432</td>\n",
              "      <td>2</td>\n",
              "      <td>Trial_Group</td>\n",
              "    </tr>\n",
              "    <tr>\n",
              "      <th>9</th>\n",
              "      <td>39.4</td>\n",
              "      <td>438</td>\n",
              "      <td>441</td>\n",
              "      <td>2</td>\n",
              "      <td>Value</td>\n",
              "    </tr>\n",
              "    <tr>\n",
              "      <th>10</th>\n",
              "      <td>14.1months</td>\n",
              "      <td>447</td>\n",
              "      <td>456</td>\n",
              "      <td>2</td>\n",
              "      <td>Value</td>\n",
              "    </tr>\n",
              "  </tbody>\n",
              "</table>\n",
              "</div>\n",
              "      <button class=\"colab-df-convert\" onclick=\"convertToInteractive('df-175ed226-6df0-441e-84d3-9e054be830cb')\"\n",
              "              title=\"Convert this dataframe to an interactive table.\"\n",
              "              style=\"display:none;\">\n",
              "        \n",
              "  <svg xmlns=\"http://www.w3.org/2000/svg\" height=\"24px\"viewBox=\"0 0 24 24\"\n",
              "       width=\"24px\">\n",
              "    <path d=\"M0 0h24v24H0V0z\" fill=\"none\"/>\n",
              "    <path d=\"M18.56 5.44l.94 2.06.94-2.06 2.06-.94-2.06-.94-.94-2.06-.94 2.06-2.06.94zm-11 1L8.5 8.5l.94-2.06 2.06-.94-2.06-.94L8.5 2.5l-.94 2.06-2.06.94zm10 10l.94 2.06.94-2.06 2.06-.94-2.06-.94-.94-2.06-.94 2.06-2.06.94z\"/><path d=\"M17.41 7.96l-1.37-1.37c-.4-.4-.92-.59-1.43-.59-.52 0-1.04.2-1.43.59L10.3 9.45l-7.72 7.72c-.78.78-.78 2.05 0 2.83L4 21.41c.39.39.9.59 1.41.59.51 0 1.02-.2 1.41-.59l7.78-7.78 2.81-2.81c.8-.78.8-2.07 0-2.86zM5.41 20L4 18.59l7.72-7.72 1.47 1.35L5.41 20z\"/>\n",
              "  </svg>\n",
              "      </button>\n",
              "      \n",
              "  <style>\n",
              "    .colab-df-container {\n",
              "      display:flex;\n",
              "      flex-wrap:wrap;\n",
              "      gap: 12px;\n",
              "    }\n",
              "\n",
              "    .colab-df-convert {\n",
              "      background-color: #E8F0FE;\n",
              "      border: none;\n",
              "      border-radius: 50%;\n",
              "      cursor: pointer;\n",
              "      display: none;\n",
              "      fill: #1967D2;\n",
              "      height: 32px;\n",
              "      padding: 0 0 0 0;\n",
              "      width: 32px;\n",
              "    }\n",
              "\n",
              "    .colab-df-convert:hover {\n",
              "      background-color: #E2EBFA;\n",
              "      box-shadow: 0px 1px 2px rgba(60, 64, 67, 0.3), 0px 1px 3px 1px rgba(60, 64, 67, 0.15);\n",
              "      fill: #174EA6;\n",
              "    }\n",
              "\n",
              "    [theme=dark] .colab-df-convert {\n",
              "      background-color: #3B4455;\n",
              "      fill: #D2E3FC;\n",
              "    }\n",
              "\n",
              "    [theme=dark] .colab-df-convert:hover {\n",
              "      background-color: #434B5C;\n",
              "      box-shadow: 0px 1px 3px 1px rgba(0, 0, 0, 0.15);\n",
              "      filter: drop-shadow(0px 1px 2px rgba(0, 0, 0, 0.3));\n",
              "      fill: #FFFFFF;\n",
              "    }\n",
              "  </style>\n",
              "\n",
              "      <script>\n",
              "        const buttonEl =\n",
              "          document.querySelector('#df-175ed226-6df0-441e-84d3-9e054be830cb button.colab-df-convert');\n",
              "        buttonEl.style.display =\n",
              "          google.colab.kernel.accessAllowed ? 'block' : 'none';\n",
              "\n",
              "        async function convertToInteractive(key) {\n",
              "          const element = document.querySelector('#df-175ed226-6df0-441e-84d3-9e054be830cb');\n",
              "          const dataTable =\n",
              "            await google.colab.kernel.invokeFunction('convertToInteractive',\n",
              "                                                     [key], {});\n",
              "          if (!dataTable) return;\n",
              "\n",
              "          const docLinkHtml = 'Like what you see? Visit the ' +\n",
              "            '<a target=\"_blank\" href=https://colab.research.google.com/notebooks/data_table.ipynb>data table notebook</a>'\n",
              "            + ' to learn more about interactive tables.';\n",
              "          element.innerHTML = '';\n",
              "          dataTable['output_type'] = 'display_data';\n",
              "          await google.colab.output.renderOutput(dataTable, element);\n",
              "          const docLink = document.createElement('div');\n",
              "          docLink.innerHTML = docLinkHtml;\n",
              "          element.appendChild(docLink);\n",
              "        }\n",
              "      </script>\n",
              "    </div>\n",
              "  </div>\n",
              "  "
            ]
          },
          "metadata": {},
          "execution_count": 23
        }
      ]
    },
    {
      "cell_type": "markdown",
      "source": [
        "# **🔎Visualize results**"
      ],
      "metadata": {
        "id": "ddXTeDVD_9o2"
      }
    },
    {
      "cell_type": "code",
      "source": [
        "from sparknlp_display import NerVisualizer\n",
        "\n",
        "visualiser = NerVisualizer()\n",
        "visualiser.display(result = light_result[0] ,label_col = 'ner_chunk', document_col = 'document')"
      ],
      "metadata": {
        "colab": {
          "base_uri": "https://localhost:8080/",
          "height": 181
        },
        "id": "RRS97Np94Ffl",
        "outputId": "3601b8da-0173-458d-855b-7c8ac609bfe5"
      },
      "execution_count": 24,
      "outputs": [
        {
          "output_type": "display_data",
          "data": {
            "text/plain": [
              "<IPython.core.display.HTML object>"
            ],
            "text/html": [
              "\n",
              "<style>\n",
              "    @import url('https://fonts.googleapis.com/css2?family=Montserrat:wght@300;400;500;600;700&display=swap');\n",
              "    @import url('https://fonts.googleapis.com/css2?family=Vistol Regular:wght@300;400;500;600;700&display=swap');\n",
              "    \n",
              "    .spark-nlp-display-scroll-entities {\n",
              "        border: 1px solid #E7EDF0;\n",
              "        border-radius: 3px;\n",
              "        text-align: justify;\n",
              "        \n",
              "    }\n",
              "    .spark-nlp-display-scroll-entities span {  \n",
              "        font-size: 14px;\n",
              "        line-height: 24px;\n",
              "        color: #536B76;\n",
              "        font-family: 'Montserrat', sans-serif !important;\n",
              "    }\n",
              "    \n",
              "    .spark-nlp-display-entity-wrapper{\n",
              "    \n",
              "        display: inline-grid;\n",
              "        text-align: center;\n",
              "        border-radius: 4px;\n",
              "        margin: 0 2px 5px 2px;\n",
              "        padding: 1px\n",
              "    }\n",
              "    .spark-nlp-display-entity-name{\n",
              "        font-size: 14px;\n",
              "        line-height: 24px;\n",
              "        font-family: 'Montserrat', sans-serif !important;\n",
              "        \n",
              "        background: #f1f2f3;\n",
              "        border-width: medium;\n",
              "        text-align: center;\n",
              "        \n",
              "        font-weight: 400;\n",
              "        \n",
              "        border-radius: 5px;\n",
              "        padding: 2px 5px;\n",
              "        display: block;\n",
              "        margin: 3px 2px;\n",
              "    \n",
              "    }\n",
              "    .spark-nlp-display-entity-type{\n",
              "        font-size: 14px;\n",
              "        line-height: 24px;\n",
              "        color: #ffffff;\n",
              "        font-family: 'Montserrat', sans-serif !important;\n",
              "        \n",
              "        text-transform: uppercase;\n",
              "        \n",
              "        font-weight: 500;\n",
              "\n",
              "        display: block;\n",
              "        padding: 3px 5px;\n",
              "    }\n",
              "    \n",
              "    .spark-nlp-display-entity-resolution{\n",
              "        font-size: 14px;\n",
              "        line-height: 24px;\n",
              "        color: #ffffff;\n",
              "        font-family: 'Vistol Regular', sans-serif !important;\n",
              "        \n",
              "        text-transform: uppercase;\n",
              "        \n",
              "        font-weight: 500;\n",
              "\n",
              "        display: block;\n",
              "        padding: 3px 5px;\n",
              "    }\n",
              "    \n",
              "    .spark-nlp-display-others{\n",
              "        font-size: 14px;\n",
              "        line-height: 24px;\n",
              "        font-family: 'Montserrat', sans-serif !important;\n",
              "        \n",
              "        font-weight: 400;\n",
              "    }\n",
              "\n",
              "</style>\n",
              " <span class=\"spark-nlp-display-others\" style=\"background-color: white\">In July 2018, final </span><span class=\"spark-nlp-display-entity-wrapper\" style=\"background-color: #670049\"><span class=\"spark-nlp-display-entity-name\">pfs </span><span class=\"spark-nlp-display-entity-type\">End_Point</span></span><span class=\"spark-nlp-display-others\" style=\"background-color: white\"> analysis results were reported from </span><span class=\"spark-nlp-display-entity-wrapper\" style=\"background-color: #0D7D34\"><span class=\"spark-nlp-display-entity-name\">358 patients </span><span class=\"spark-nlp-display-entity-type\">Total_Patients</span></span><span class=\"spark-nlp-display-others\" style=\"background-color: white\"> with relapsed/refractory follicular and marginal zone lymphoma showing that the trial met its primary endpoint, with a significant improvement in </span><span class=\"spark-nlp-display-entity-wrapper\" style=\"background-color: #670049\"><span class=\"spark-nlp-display-entity-name\">pfs </span><span class=\"spark-nlp-display-entity-type\">End_Point</span></span><span class=\"spark-nlp-display-others\" style=\"background-color: white\"> compared with </span><span class=\"spark-nlp-display-entity-wrapper\" style=\"background-color: #3A9127\"><span class=\"spark-nlp-display-entity-name\">rituximab + placebo </span><span class=\"spark-nlp-display-entity-type\">Trial_Group</span></span><span class=\"spark-nlp-display-others\" style=\"background-color: white\">.   At that time, follow-up was to continue for the mature </span><span class=\"spark-nlp-display-entity-wrapper\" style=\"background-color: #670049\"><span class=\"spark-nlp-display-entity-name\">os </span><span class=\"spark-nlp-display-entity-type\">End_Point</span></span><span class=\"spark-nlp-display-others\" style=\"background-color: white\"> results. The </span><span class=\"spark-nlp-display-entity-wrapper\" style=\"background-color: #1B3206\"><span class=\"spark-nlp-display-entity-name\">median </span><span class=\"spark-nlp-display-entity-type\">Duration</span></span><span class=\"spark-nlp-display-others\" style=\"background-color: white\"> </span><span class=\"spark-nlp-display-entity-wrapper\" style=\"background-color: #670049\"><span class=\"spark-nlp-display-entity-name\">pfs </span><span class=\"spark-nlp-display-entity-type\">End_Point</span></span><span class=\"spark-nlp-display-others\" style=\"background-color: white\"> per irc assessment (primary endpoint) with </span><span class=\"spark-nlp-display-entity-wrapper\" style=\"background-color: #3A9127\"><span class=\"spark-nlp-display-entity-name\">lenalidomide + rituximab </span><span class=\"spark-nlp-display-entity-type\">Trial_Group</span></span><span class=\"spark-nlp-display-others\" style=\"background-color: white\"> and </span><span class=\"spark-nlp-display-entity-wrapper\" style=\"background-color: #3A9127\"><span class=\"spark-nlp-display-entity-name\">rituximab + placebo </span><span class=\"spark-nlp-display-entity-type\">Trial_Group</span></span><span class=\"spark-nlp-display-others\" style=\"background-color: white\"> was </span><span class=\"spark-nlp-display-entity-wrapper\" style=\"background-color: #530965\"><span class=\"spark-nlp-display-entity-name\">39.4 </span><span class=\"spark-nlp-display-entity-type\">Value</span></span><span class=\"spark-nlp-display-others\" style=\"background-color: white\"> and </span><span class=\"spark-nlp-display-entity-wrapper\" style=\"background-color: #530965\"><span class=\"spark-nlp-display-entity-name\">14.1months </span><span class=\"spark-nlp-display-entity-type\">Value</span></span><span class=\"spark-nlp-display-others\" style=\"background-color: white\">, respectively </span></div>"
            ]
          },
          "metadata": {}
        }
      ]
    }
  ]
}
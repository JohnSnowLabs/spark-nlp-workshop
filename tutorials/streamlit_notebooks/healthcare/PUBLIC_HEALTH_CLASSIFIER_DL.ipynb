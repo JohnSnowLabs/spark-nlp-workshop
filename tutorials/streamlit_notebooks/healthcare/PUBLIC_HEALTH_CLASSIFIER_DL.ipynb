{
  "cells": [
    {
      "cell_type": "markdown",
      "metadata": {
        "id": "owDE4m_FyfJV"
      },
      "source": [
        "![JohnSnowLabs](https://nlp.johnsnowlabs.com/assets/images/logo.png)\n",
        "\n",
        "[![Open In Colab](https://colab.research.google.com/assets/colab-badge.svg)](https://colab.research.google.com/github/JohnSnowLabs/spark-nlp-workshop/blob/master/tutorials/streamlit_notebooks/healthcare/PUBLIC_HEALTH_CLASSIFIER_DL.ipynb)"
      ]
    },
    {
      "cell_type": "markdown",
      "metadata": {
        "id": "LJRtUrApybYA"
      },
      "source": [
        "# **Colab Setup**"
      ]
    },
    {
      "cell_type": "code",
      "execution_count": null,
      "metadata": {
        "colab": {
          "base_uri": "https://localhost:8080/",
          "height": 73
        },
        "id": "JDrQQLJHycAH",
        "outputId": "1dfa11e9-edb8-4316-e270-4081043ea41b"
      },
      "outputs": [],
      "source": [
        "import json, os\n",
        "from google.colab import files\n",
        "\n",
        "if 'spark_jsl.json' not in os.listdir():\n",
        "  license_keys = files.upload()\n",
        "  os.rename(list(license_keys.keys())[0], 'spark_jsl.json')\n",
        "\n",
        "with open('spark_jsl.json') as f:\n",
        "    license_keys = json.load(f)\n",
        "\n",
        "# Defining license key-value pairs as local variables\n",
        "locals().update(license_keys)\n",
        "os.environ.update(license_keys)"
      ]
    },
    {
      "cell_type": "markdown",
      "metadata": {
        "id": "yhppYdqEyjcA"
      },
      "source": [
        "# **Install dependencies**"
      ]
    },
    {
      "cell_type": "code",
      "execution_count": null,
      "metadata": {
        "id": "vhLNO5TByj4N"
      },
      "outputs": [],
      "source": [
        "# Installing pyspark and spark-nlp\n",
        "! pip install --upgrade -q pyspark==3.1.2 spark-nlp==$PUBLIC_VERSION\n",
        "\n",
        "# Installing Spark NLP Healthcare\n",
        "! pip install --upgrade -q spark-nlp-jsl==$JSL_VERSION  --extra-index-url https://pypi.johnsnowlabs.com/$SECRET\n",
        "\n",
        "# Installing Spark NLP Display Library for visualization\n",
        "! pip install -q spark-nlp-display"
      ]
    },
    {
      "cell_type": "markdown",
      "metadata": {
        "id": "xrydYR6j0cWh"
      },
      "source": [
        "# **Import dependencies into Python and start the Spark session**"
      ]
    },
    {
      "cell_type": "code",
      "execution_count": 3,
      "metadata": {
        "colab": {
          "base_uri": "https://localhost:8080/",
          "height": 254
        },
        "id": "V4nSTI3N0aed",
        "outputId": "0a1e827c-98a0-454b-a1b0-b959b8fe39ca"
      },
      "outputs": [
        {
          "name": "stdout",
          "output_type": "stream",
          "text": [
            "Spark NLP Version : 5.1.1\n",
            "Spark NLP_JSL Version : 5.1.1\n"
          ]
        },
        {
          "data": {
            "text/html": [
              "\n",
              "            <div>\n",
              "                <p><b>SparkSession - in-memory</b></p>\n",
              "                \n",
              "        <div>\n",
              "            <p><b>SparkContext</b></p>\n",
              "\n",
              "            <p><a href=\"http://c6395625430d:4040\">Spark UI</a></p>\n",
              "\n",
              "            <dl>\n",
              "              <dt>Version</dt>\n",
              "                <dd><code>v3.1.2</code></dd>\n",
              "              <dt>Master</dt>\n",
              "                <dd><code>local[*]</code></dd>\n",
              "              <dt>AppName</dt>\n",
              "                <dd><code>Spark NLP Licensed</code></dd>\n",
              "            </dl>\n",
              "        </div>\n",
              "        \n",
              "            </div>\n",
              "        "
            ],
            "text/plain": [
              "<pyspark.sql.session.SparkSession at 0x7b057f541420>"
            ]
          },
          "execution_count": 3,
          "metadata": {},
          "output_type": "execute_result"
        }
      ],
      "source": [
        "import sparknlp\n",
        "import sparknlp_jsl\n",
        "\n",
        "from sparknlp.base import *\n",
        "from sparknlp.annotator import *\n",
        "from sparknlp_jsl.annotator import *\n",
        "\n",
        "from pyspark.sql import SparkSession\n",
        "from pyspark.sql import functions as F\n",
        "from pyspark.ml import Pipeline,PipelineModel\n",
        "from pyspark.sql.types import StringType, IntegerType\n",
        "\n",
        "import pandas as pd\n",
        "pd.set_option('display.max_colwidth', 200)\n",
        "\n",
        "import warnings\n",
        "warnings.filterwarnings('ignore')\n",
        "\n",
        "params = {\"spark.driver.memory\":\"16G\",\n",
        "          \"spark.kryoserializer.buffer.max\":\"2000M\",\n",
        "          \"spark.driver.maxResultSize\":\"2000M\"}\n",
        "\n",
        "spark = sparknlp_jsl.start(license_keys['SECRET'],params=params)\n",
        "\n",
        "print(\"Spark NLP Version :\", sparknlp.version())\n",
        "print(\"Spark NLP_JSL Version :\", sparknlp_jsl.version())\n",
        "\n",
        "spark"
      ]
    },
    {
      "cell_type": "markdown",
      "metadata": {
        "id": "Xx9px1JN0uwp"
      },
      "source": [
        "# **MODELS**"
      ]
    },
    {
      "cell_type": "markdown",
      "metadata": {
        "id": "qJIdjEh30zmz"
      },
      "source": [
        "## **classifierdl_vaccine_sentiment**"
      ]
    },
    {
      "cell_type": "code",
      "execution_count": 4,
      "metadata": {
        "id": "DvmL5nr10vXA"
      },
      "outputs": [],
      "source": [
        "def run_pipeline(model, text, lang = 'en'):\n",
        "  document_assembler = DocumentAssembler() \\\n",
        "    .setInputCol(\"text\") \\\n",
        "    .setOutputCol(\"sentence\")\n",
        "\n",
        "  tokenizer = Tokenizer() \\\n",
        "    .setInputCols([\"sentence\"]) \\\n",
        "    .setOutputCol(\"token\")\n",
        "\n",
        "  bert_embeddings = BertEmbeddings.pretrained(\"bert_embeddings_phs_bert\", \"en\", \"public/models\")\\\n",
        "    .setInputCols([\"sentence\", \"token\"])\\\n",
        "    .setOutputCol(\"embeddings\")\\\n",
        "\n",
        "  embeddingsSentence = SentenceEmbeddings() \\\n",
        "    .setInputCols([\"sentence\", \"embeddings\"]) \\\n",
        "    .setOutputCol(\"sentence_embeddings\") \\\n",
        "    .setPoolingStrategy(\"AVERAGE\")\n",
        "\n",
        "  classifierdl = ClassifierDLModel.pretrained(model, \"en\", \"clinical/models\")\\\n",
        "    .setInputCols(['sentence_embeddings'])\\\n",
        "    .setOutputCol('class')\n",
        "\n",
        "  pipeline = Pipeline(\n",
        "    stages = [\n",
        "        document_assembler,\n",
        "        tokenizer,\n",
        "        bert_embeddings,\n",
        "        embeddingsSentence,\n",
        "        classifierdl\n",
        "    ])\n",
        "\n",
        "  df = spark.createDataFrame(text, StringType()).toDF(\"text\")\n",
        "  results = pipeline.fit(df).transform(df)\n",
        "\n",
        "  print(\"\\n\")\n",
        "  print(\"<----------------- MODEL NAME:\",\"\\033[1m\" + model + \"\\033[0m\",\" ----------------- >\")\n",
        "\n",
        "  res = results.select( F.explode(F.arrays_zip(\"sentence.result\",\n",
        "                                               \"class.result\",\n",
        "                                               \"class.metadata\")).alias(\"col\"))\\\n",
        "               .select( F.expr(\"col['1']\").alias(\"prediction\"),\n",
        "                        F.expr(\"col['2']\").alias(\"confidence\"),\n",
        "                        F.expr(\"col['0']\").alias(\"sentence\"))\n",
        "  if res.count()>1:\n",
        "    udf_func = F.udf(lambda x,y:  x[str(y)])\n",
        "    print(\"\\n\",model,\"\\n\")\n",
        "    res.withColumn('confidence', udf_func(res.confidence, res.prediction)).show(truncate=False)\n"
      ]
    },
    {
      "cell_type": "code",
      "execution_count": 5,
      "metadata": {
        "id": "7OseGP4H03xH"
      },
      "outputs": [],
      "source": [
        "model = \"classifierdl_vaccine_sentiment\""
      ]
    },
    {
      "cell_type": "code",
      "execution_count": 6,
      "metadata": {
        "id": "MeUBY0NU03z-"
      },
      "outputs": [],
      "source": [
        "sample_texts = [\"\"\" Perhaps when there s a  COVID 19 vaccine in the coming months  or years , it can help countries like   Pakistan increase national immunization stats if routine immunization is coupled with the virus jab drops.   Should the state, however, make vaccination a mandatory citizenship duty. \"\"\",\n",
        "\"\"\" Today  I received my second dose of the  COVID 19 vaccine. When it becomes available to you, don t wait   get vaccinated.  It s safe, easy, and it saves lives. \"\"\",\n",
        "\"\"\" I got my mom scheduled for the   Covid 19 vaccine.  A great relief to me, to be honest. \"\"\",\n",
        "\"\"\" It feels really exciting to have a personal connection to the province s vaccine numbers.   My step dad s 92 year old mother got her first dose yesterday.\"\"\",\n",
        "\"\"\" The current oxford vaccine is based off the work they did on the non mild coronavirus forms of  SARS and  MERS.   But since they were contained, the urgency to continue the work was reduced until  COVID 19. \"\"\",\n",
        "\"\"\" Got the covid vaccine tonight.... so far side effects for me. Super weak  exhausted. Injection site and arm hurts  AF Feel like  I smoked a fat. Other than that... feeling like a million bucks for doing my part. \"\"\"]"
      ]
    },
    {
      "cell_type": "code",
      "execution_count": 7,
      "metadata": {
        "colab": {
          "base_uri": "https://localhost:8080/"
        },
        "id": "QXRS6RxO06jK",
        "outputId": "aeece9c0-49f5-4e65-c7d8-634549127da1"
      },
      "outputs": [
        {
          "name": "stdout",
          "output_type": "stream",
          "text": [
            "bert_embeddings_phs_bert download started this may take some time.\n",
            "Approximate size to download 1.2 GB\n",
            "[OK!]\n",
            "classifierdl_vaccine_sentiment download started this may take some time.\n",
            "Approximate size to download 23.1 MB\n",
            "[OK!]\n",
            "\n",
            "\n",
            "<----------------- MODEL NAME: \u001b[1mclassifierdl_vaccine_sentiment\u001b[0m  ----------------- >\n",
            "\n",
            " classifierdl_vaccine_sentiment \n",
            "\n",
            "+----------+----------+-----------------------------------------------------------------------------------------------------------------------------------------------------------------------------------------------------------------------------------------------------------------------------------------------+\n",
            "|prediction|confidence|sentence                                                                                                                                                                                                                                                                                       |\n",
            "+----------+----------+-----------------------------------------------------------------------------------------------------------------------------------------------------------------------------------------------------------------------------------------------------------------------------------------------+\n",
            "|positive  |0.8198555 | Perhaps when there s a  COVID 19 vaccine in the coming months  or years , it can help countries like   Pakistan increase national immunization stats if routine immunization is coupled with the virus jab drops.   Should the state, however, make vaccination a mandatory citizenship duty. |\n",
            "|positive  |0.9995857 | Today  I received my second dose of the  COVID 19 vaccine. When it becomes available to you, don t wait   get vaccinated.  It s safe, easy, and it saves lives.                                                                                                                               |\n",
            "|positive  |0.9999976 | I got my mom scheduled for the   Covid 19 vaccine.  A great relief to me, to be honest.                                                                                                                                                                                                       |\n",
            "|positive  |0.9999896 | It feels really exciting to have a personal connection to the province s vaccine numbers.   My step dad s 92 year old mother got her first dose yesterday.                                                                                                                                    |\n",
            "|neutral   |0.46951422| The current oxford vaccine is based off the work they did on the non mild coronavirus forms of  SARS and  MERS.   But since they were contained, the urgency to continue the work was reduced until  COVID 19.                                                                                |\n",
            "|negative  |0.99580634| Got the covid vaccine tonight.... so far side effects for me. Super weak  exhausted. Injection site and arm hurts  AF Feel like  I smoked a fat. Other than that... feeling like a million bucks for doing my part.                                                                           |\n",
            "+----------+----------+-----------------------------------------------------------------------------------------------------------------------------------------------------------------------------------------------------------------------------------------------------------------------------------------------+\n",
            "\n"
          ]
        }
      ],
      "source": [
        "run_pipeline(model, sample_texts)"
      ]
    },
    {
      "cell_type": "markdown",
      "metadata": {
        "id": "wl_LKWin1JXt"
      },
      "source": [
        "## **classifierdl_health_mentions**"
      ]
    },
    {
      "cell_type": "code",
      "execution_count": 8,
      "metadata": {
        "id": "nEqWZVFP1J7P"
      },
      "outputs": [],
      "source": [
        "model = \"classifierdl_health_mentions\""
      ]
    },
    {
      "cell_type": "code",
      "execution_count": 9,
      "metadata": {
        "id": "W6T52qw-2EVP"
      },
      "outputs": [],
      "source": [
        "sample_texts = [\n",
        "\"\"\"Got sumatriptan for this week long migraine  I thought these were over as a kid  but I guess not  Thought I could just baby it a couple days with water and pedialyte and excedrin  Nope    Why am I so stubborn about continuing to  DO THINGA when I m obviously not well\"\"\",\n",
        "\"\"\"That Thunder trade alert just now from  almost gave me a heart attack  Was bracing myself to see THUNDER SENDS RUSS TO Wow That was the briefest emotional roller coaster ever\"\"\",\n",
        "\"\"\"The sickle cell clinic of  still goes on  It is even more for the next 2 months  Ever heard of childhood stroke  One of the leading causes of childhood stroke is sickle cell  Amidst cancer and other\"\"\",\n",
        "\"\"\"In 2015 I suffered a stroke  This prevented me from playing Rugby League again  It was difficult physically and mentally to recover from  bit four years later  here I am  about to embark on this   Read my story and please donate if you can\"\"\",\n",
        "\"\"\"i respect the fuck out of the lesbian who was in the bar bathroom  one holer  directly before me and dropped a gnarly rank dookie like make a raccoon cough type shit\"\"\",\n",
        "\"\"\"Many of us have witnessed the sad  steady march of Alzheimer s disease as it destroys memory and thinking ability  But what about the physical effects of Alzheimer s which also are significant  but which we tend not to think about as much\"\"\"\n",
        "]"
      ]
    },
    {
      "cell_type": "code",
      "execution_count": 10,
      "metadata": {
        "colab": {
          "base_uri": "https://localhost:8080/"
        },
        "id": "kmIqsTBv1Wd0",
        "outputId": "a1bbb71a-d3c6-41f1-b73b-0cfa6ffc07b3"
      },
      "outputs": [
        {
          "name": "stdout",
          "output_type": "stream",
          "text": [
            "bert_embeddings_phs_bert download started this may take some time.\n",
            "Approximate size to download 1.2 GB\n",
            "[OK!]\n",
            "classifierdl_health_mentions download started this may take some time.\n",
            "Approximate size to download 22.9 MB\n",
            "[OK!]\n",
            "\n",
            "\n",
            "<----------------- MODEL NAME: \u001b[1mclassifierdl_health_mentions\u001b[0m  ----------------- >\n",
            "\n",
            " classifierdl_health_mentions \n",
            "\n",
            "+------------------+----------+---------------------------------------------------------------------------------------------------------------------------------------------------------------------------------------------------------------------------------------------------------------------------+\n",
            "|prediction        |confidence|sentence                                                                                                                                                                                                                                                                   |\n",
            "+------------------+----------+---------------------------------------------------------------------------------------------------------------------------------------------------------------------------------------------------------------------------------------------------------------------------+\n",
            "|health_mention    |0.999987  |Got sumatriptan for this week long migraine  I thought these were over as a kid  but I guess not  Thought I could just baby it a couple days with water and pedialyte and excedrin  Nope    Why am I so stubborn about continuing to  DO THINGA when I m obviously not well|\n",
            "|figurative_mention|0.9999999 |That Thunder trade alert just now from  almost gave me a heart attack  Was bracing myself to see THUNDER SENDS RUSS TO Wow That was the briefest emotional roller coaster ever                                                                                             |\n",
            "|other_mention     |0.9992162 |The sickle cell clinic of  still goes on  It is even more for the next 2 months  Ever heard of childhood stroke  One of the leading causes of childhood stroke is sickle cell  Amidst cancer and other                                                                     |\n",
            "|health_mention    |0.9999814 |In 2015 I suffered a stroke  This prevented me from playing Rugby League again  It was difficult physically and mentally to recover from  bit four years later  here I am  about to embark on this   Read my story and please donate if you can                            |\n",
            "|figurative_mention|0.60502684|i respect the fuck out of the lesbian who was in the bar bathroom  one holer  directly before me and dropped a gnarly rank dookie like make a raccoon cough type shit                                                                                                      |\n",
            "|other_mention     |0.99998915|Many of us have witnessed the sad  steady march of Alzheimer s disease as it destroys memory and thinking ability  But what about the physical effects of Alzheimer s which also are significant  but which we tend not to think about as much                             |\n",
            "+------------------+----------+---------------------------------------------------------------------------------------------------------------------------------------------------------------------------------------------------------------------------------------------------------------------------+\n",
            "\n"
          ]
        }
      ],
      "source": [
        "run_pipeline(model, sample_texts)"
      ]
    },
    {
      "cell_type": "markdown",
      "metadata": {
        "id": "PpobDiBBXPwO"
      },
      "source": [
        "## **multiclassifierdl_respiratory_disease**"
      ]
    },
    {
      "cell_type": "code",
      "execution_count": 11,
      "metadata": {
        "id": "UeZjl3lnXUa1"
      },
      "outputs": [],
      "source": [
        "model_list = [\"multiclassifierdl_respiratory_disease\"]"
      ]
    },
    {
      "cell_type": "code",
      "execution_count": 12,
      "metadata": {
        "id": "m89o3NQtXaDN"
      },
      "outputs": [],
      "source": [
        "text_list = [\"\"\"The patient takes inhalers for COPD management, weight loss medications, and disease-modifying antirheumatic drugs (DMARDs) for rheumatoid arthritis.\"\"\",\n",
        "            \"\"\"The patient was on Metformin for DM2, mood stabilizers for Bipolar II Disorder, and inhaled corticosteroids for Asthma.\"\"\",\n",
        "            \"\"\"The patient was diagnosed with Chronic Bronchitis after a series of pulmonary function tests.\"\"\",\n",
        "            \"\"\"Chest CT imaging revealed significant bullae and airspace enlargement, consistent with a diagnosis of emphysema.\"\"\",\n",
        "            \"\"\"Mrs. Johnson was admitted due to an acute exacerbation of her chronic bronchitis, which she has managed for the past five years\"\"\",\n",
        "            \"\"\"Regular treatment for Asthma, Bipolar II Disorder, and DM2 should  be continued as per guidelines.\"\"\",\n",
        "            \"\"\"Chronic bronchitis is evident in the patient's productive cough that has persisted for over three months in two consecutive years.\"\"\",\n",
        "            \"\"\"Laura Rodriguez, a longtime smoker, is now on long-term oxygen therapy due to the progression of her emphysema.\"\"\",\n",
        "            \"\"\"The patient's barrel-chested appearance and pursed-lip breathing are characteristic manifestations of advanced emphysema.\"\"\",\n",
        "            \"\"\"Pulmonary function tests show evidence of severe airflow obstruction, consistent with chronic obstructive pulmonary disease (COPD).\"\"\",\n",
        "            \"\"\"Inhaled bronchodilators, inhaled corticosteroids, and oxygen therapy have been prescribed for COPD management.\"\"\",\n",
        "            \"\"\"The patient was advised to schedule a follow-up appointment in two weeks with his primary care physician to monitor his Asthma and to assess his overall cardiac health.\"\"\",\n",
        "\n",
        "]"
      ]
    },
    {
      "cell_type": "code",
      "execution_count": 13,
      "metadata": {
        "colab": {
          "base_uri": "https://localhost:8080/"
        },
        "id": "dyQJ-y57XeJV",
        "outputId": "228869dc-63b1-4bff-e09e-a87640de4a40"
      },
      "outputs": [
        {
          "name": "stdout",
          "output_type": "stream",
          "text": [
            "embeddings_clinical download started this may take some time.\n",
            "Approximate size to download 1.6 GB\n",
            "[OK!]\n",
            "multiclassifierdl_respiratory_disease download started this may take some time.\n",
            "Approximate size to download 83.8 MB\n",
            "[OK!]\n"
          ]
        }
      ],
      "source": [
        "document_assembler = DocumentAssembler()\\\n",
        "    .setInputCol(\"text\")\\\n",
        "    .setOutputCol(\"document\")\n",
        "\n",
        "tokenizer = Tokenizer()\\\n",
        "    .setInputCols([\"document\"])\\\n",
        "    .setOutputCol(\"token\")\n",
        "\n",
        "word_embeddings = WordEmbeddingsModel.pretrained(\"embeddings_clinical\", \"en\", \"clinical/models\")\\\n",
        "    .setInputCols([\"document\", \"token\"])\\\n",
        "    .setOutputCol(\"word_embeddings\")\n",
        "\n",
        "sentence_embeddings = SentenceEmbeddings()\\\n",
        "    .setInputCols([\"document\", \"word_embeddings\"])\\\n",
        "    .setOutputCol(\"sentence_embeddings\")\\\n",
        "    .setPoolingStrategy(\"AVERAGE\")\n",
        "\n",
        "multi_classifier_dl = MultiClassifierDLModel.pretrained(\"multiclassifierdl_respiratory_disease\", \"en\", \"clinical/models\")\\\n",
        "    .setInputCols([\"sentence_embeddings\"])\\\n",
        "    .setOutputCol(\"prediction\")\\\n",
        "    .setThreshold(0.999)\n",
        "\n",
        "pipeline = Pipeline(\n",
        "    stages = [\n",
        "        document_assembler,\n",
        "        tokenizer,\n",
        "        word_embeddings,\n",
        "        sentence_embeddings,\n",
        "        multi_classifier_dl\n",
        "    ])\n",
        "\n",
        "\n",
        "pipeline_model = pipeline.fit(spark.createDataFrame([[\"\"]]).toDF(\"text\"))\n",
        "light_model = LightPipeline(pipeline_model)"
      ]
    },
    {
      "cell_type": "code",
      "execution_count": 14,
      "metadata": {
        "id": "uqDqULI8Yhbd"
      },
      "outputs": [],
      "source": [
        "data = spark.createDataFrame(text_list, StringType()).toDF(\"text\")"
      ]
    },
    {
      "cell_type": "code",
      "execution_count": 15,
      "metadata": {
        "colab": {
          "base_uri": "https://localhost:8080/"
        },
        "id": "ISo6jlPvYhDQ",
        "outputId": "d1b46066-339c-49da-fae2-d99039bfd138"
      },
      "outputs": [
        {
          "name": "stdout",
          "output_type": "stream",
          "text": [
            "+--------------------+----------------------------------------------------------------------------------------------------+\n",
            "|              result|                                                                                                text|\n",
            "+--------------------+----------------------------------------------------------------------------------------------------+\n",
            "|              [COPD]|The patient takes inhalers for COPD management, weight loss medications, and disease-modifying an...|\n",
            "|            [Asthma]|The patient was on Metformin for DM2, mood stabilizers for Bipolar II Disorder, and inhaled corti...|\n",
            "|[Chronic bronchitis]|       The patient was diagnosed with Chronic Bronchitis after a series of pulmonary function tests.|\n",
            "|         [Emphysema]|Chest CT imaging revealed significant bullae and airspace enlargement, consistent with a diagnosi...|\n",
            "|[Chronic bronchitis]|Mrs. Johnson was admitted due to an acute exacerbation of her chronic bronchitis, which she has m...|\n",
            "|            [Asthma]|  Regular treatment for Asthma, Bipolar II Disorder, and DM2 should  be continued as per guidelines.|\n",
            "|[Chronic bronchitis]|Chronic bronchitis is evident in the patient's productive cough that has persisted for over three...|\n",
            "|         [Emphysema]|Laura Rodriguez, a longtime smoker, is now on long-term oxygen therapy due to the progression of ...|\n",
            "|         [Emphysema]|The patient's barrel-chested appearance and pursed-lip breathing are characteristic manifestation...|\n",
            "|              [COPD]|Pulmonary function tests show evidence of severe airflow obstruction, consistent with chronic obs...|\n",
            "|              [COPD]|Inhaled bronchodilators, inhaled corticosteroids, and oxygen therapy have been prescribed for COP...|\n",
            "|            [Asthma]|The patient was advised to schedule a follow-up appointment in two weeks with his primary care ph...|\n",
            "+--------------------+----------------------------------------------------------------------------------------------------+\n",
            "\n"
          ]
        }
      ],
      "source": [
        "result = pipeline.fit(data).transform(data)\n",
        "result.selectExpr(\"prediction.result\", \"text\").show(50,truncate=100)"
      ]
    },
    {
      "cell_type": "code",
      "execution_count": null,
      "metadata": {
        "id": "R7IPokm5XihG"
      },
      "outputs": [],
      "source": []
    }
  ],
  "metadata": {
    "colab": {
      "provenance": [],
      "toc_visible": true
    },
    "kernelspec": {
      "display_name": "Python 3.10.7 64-bit",
      "language": "python",
      "name": "python3"
    },
    "language_info": {
      "name": "python",
      "version": "3.10.7"
    },
    "vscode": {
      "interpreter": {
        "hash": "369f2c481f4da34e4445cda3fffd2e751bd1c4d706f27375911949ba6bb62e1c"
      }
    }
  },
  "nbformat": 4,
  "nbformat_minor": 0
}

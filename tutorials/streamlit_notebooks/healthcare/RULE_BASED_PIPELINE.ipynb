{
  "cells": [
    {
      "cell_type": "markdown",
      "metadata": {
        "id": "eVLAFDcYwzCs"
      },
      "source": [
        "![JohnSnowLabs](https://nlp.johnsnowlabs.com/assets/images/logo.png)"
      ]
    },
    {
      "cell_type": "markdown",
      "metadata": {
        "id": "lGu6GyR8uTmE"
      },
      "source": [
        "# Rule Based NER and Assertion Models\n",
        "This notebook demonstrates the use of rule-based Named Entity Recognition (NER) combined with assertion detection models for structured information extraction from text.\n",
        "Here we demo a series of Text Matcher models, each designed to identify and extract entities of interest, such as states, cities, and drugs, using pre-defined dictionaries and linguistic patterns. By applying these targeted matchers, we can ensure high precision in entity identification, especially in specialized contexts where standard models may underperform.\n",
        "\n",
        "Beyond entity detection, the notebook also integrates Contextual Assertion Models, which determine the status of an entity in context. For example, whether a drug is mentioned as being possibly used (Detect Possible Assertion) or conditionally prescribed (Detect Conditional Assertion).\n"
      ]
    },
    {
      "cell_type": "markdown",
      "metadata": {
        "id": "F3y-4CRcw-GS"
      },
      "source": [
        "## **🎬 Colab Setup**"
      ]
    },
    {
      "cell_type": "code",
      "execution_count": null,
      "metadata": {
        "id": "ltXTfuG-WZ-B",
        "collapsed": true
      },
      "outputs": [],
      "source": [
        "# import johnsnowlabs library\n",
        "!pip install -q johnsnowlabs"
      ]
    },
    {
      "cell_type": "code",
      "execution_count": null,
      "metadata": {
        "id": "MATjEDqWW3qL",
        "collapsed": true
      },
      "outputs": [],
      "source": [
        "# Upload license key for healthcare NLP\n",
        "from google.colab import files\n",
        "print('Please Upload your John Snow Labs License using the button below')\n",
        "license_keys = files.upload()"
      ]
    },
    {
      "cell_type": "code",
      "execution_count": null,
      "metadata": {
        "id": "xWpo7EWIy7Zm"
      },
      "outputs": [],
      "source": [
        "from johnsnowlabs import nlp, medical\n",
        "nlp.settings.enforce_versions=True\n",
        "nlp.install(refresh_install=True)"
      ]
    },
    {
      "cell_type": "code",
      "execution_count": null,
      "metadata": {
        "id": "hATfV8oIW53Q"
      },
      "outputs": [],
      "source": [
        "# import Spark NLP and Spark NLP for Healthcare from  johnsnowlabs library\n",
        "from johnsnowlabs import nlp, medical\n",
        "\n",
        "nlp.install()"
      ]
    },
    {
      "cell_type": "code",
      "execution_count": null,
      "metadata": {
        "id": "uWM6-MHhXPSL"
      },
      "outputs": [],
      "source": [
        "# import required modules\n",
        "from sparknlp.base import *\n",
        "from pyspark.ml import Pipeline\n",
        "\n",
        "spark = nlp.start()"
      ]
    },
    {
      "cell_type": "markdown",
      "metadata": {
        "id": "M3mzYaSTyeqY"
      },
      "source": [
        "# 🔎 MODELS\n",
        "Models used in this pipeline and the entities they extract."
      ]
    },
    {
      "cell_type": "markdown",
      "metadata": {
        "id": "2H9XO0i9ycNQ"
      },
      "source": [
        "| Index | Model | Entities |\n",
        "|---:|:------------------------|:-|\n",
        "|  1 | [country_matcher](https://nlp.johnsnowlabs.com/2024/10/23/country_matcher_en.html) | Country |\n",
        "|  2 | [state_matcher](https://nlp.johnsnowlabs.com/2024/09/11/state_matcher_en.html) | State |\n",
        "|  3 | [city_matcher](https://nlp.johnsnowlabs.com/2024/07/02/city_matcher_en.html) | City |\n",
        "|  4 | [drug_matcher](https://nlp.johnsnowlabs.com/2024/03/19/drug_matcher_en.html) | Drug |\n",
        "|  5 | [biomarker_matcher](https://nlp.johnsnowlabs.com/2024/03/06/biomarker_matcher_en.html) | Biomarker |\n",
        "|  6 | [cancer_diagnosis_matcher](https://nlp.johnsnowlabs.com/2024/06/17/cancer_diagnosis_matcher_en.html) | Cancer_dx |\n",
        "|  7 | [contextual_assertion_conditional](https://nlp.johnsnowlabs.com/2025/03/12/contextual_assertion_conditional_en.html) | Conditional |\n",
        "|  8 | [contextual_assertion_possible](https://nlp.johnsnowlabs.com/2025/03/12/contextual_assertion_possible_en.html) | Possible |\n",
        "|  9 | [contextual_assertion_someone_else](https://nlp.johnsnowlabs.com/2024/06/26/contextual_assertion_someone_else_en.html) | Someone_else |\n",
        "| 10 | [contextual_assertion_absent](https://nlp.johnsnowlabs.com/2024/07/03/contextual_assertion_absent_en.html) | Absent |\n",
        "| 11 | [contextual_assertion_past](https://nlp.johnsnowlabs.com/2024/07/04/contextual_assertion_past_en.html) | Past |"
      ]
    },
    {
      "cell_type": "markdown",
      "metadata": {
        "id": "ZrTceG5Lrwcl"
      },
      "source": [
        "# Rule-based Pipeline with Separated Entity Processing\n",
        "This pipeline combines rule-based NER models and assertion models"
      ]
    },
    {
      "cell_type": "code",
      "execution_count": 6,
      "metadata": {
        "colab": {
          "base_uri": "https://localhost:8080/"
        },
        "id": "zEoZUN40M8lK",
        "outputId": "80beef22-7208-4821-f4cf-a3e00f0cdf4b",
        "collapsed": true
      },
      "outputs": [
        {
          "output_type": "stream",
          "name": "stdout",
          "text": [
            "sentence_detector_dl_healthcare download started this may take some time.\n",
            "Approximate size to download 367.3 KB\n",
            "[OK!]\n",
            "country_matcher download started this may take some time.\n",
            "Approximate size to download 10.2 KB\n",
            "[OK!]\n",
            "state_matcher download started this may take some time.\n",
            "Approximate size to download 6.1 KB\n",
            "[OK!]\n",
            "city_matcher download started this may take some time.\n",
            "Approximate size to download 180.3 KB\n",
            "[OK!]\n",
            "drug_matcher download started this may take some time.\n",
            "Approximate size to download 5.5 MB\n",
            "[OK!]\n",
            "biomarker_matcher download started this may take some time.\n",
            "Approximate size to download 25.6 KB\n",
            "[OK!]\n",
            "cancer_diagnosis_matcher download started this may take some time.\n",
            "Approximate size to download 42.8 KB\n",
            "[OK!]\n",
            "contextual_assertion_conditional download started this may take some time.\n",
            "Approximate size to download 1.3 KB\n",
            "[OK!]\n",
            "contextual_assertion_possible download started this may take some time.\n",
            "Approximate size to download 1.7 KB\n",
            "[OK!]\n",
            "contextual_assertion_someone_else download started this may take some time.\n",
            "Approximate size to download 1.5 KB\n",
            "[OK!]\n",
            "contextual_assertion_absent download started this may take some time.\n",
            "Approximate size to download 1.3 KB\n",
            "[OK!]\n",
            "contextual_assertion_past download started this may take some time.\n",
            "Approximate size to download 1.5 KB\n",
            "[OK!]\n"
          ]
        }
      ],
      "source": [
        "document_assembler = nlp.DocumentAssembler()\\\n",
        "    .setInputCol(\"text\")\\\n",
        "    .setOutputCol(\"document\")\n",
        "\n",
        "sentence_detector = nlp.SentenceDetectorDLModel.pretrained(\"sentence_detector_dl_healthcare\", \"en\", \"clinical/models\")\\\n",
        "    .setInputCols([\"document\"])\\\n",
        "    .setOutputCol(\"sentence\")\n",
        "\n",
        "tokenizer = nlp.Tokenizer()\\\n",
        "    .setInputCols([\"sentence\"])\\\n",
        "    .setOutputCol(\"token\")\n",
        "\n",
        "country_matcher = medical.TextMatcherModel.pretrained(\"country_matcher\", \"en\", \"clinical/models\")\\\n",
        "    .setInputCols([\"sentence\", \"token\"])\\\n",
        "    .setOutputCol(\"country\")\\\n",
        "    .setMergeOverlapping(True)\n",
        "\n",
        "state_matcher = medical.TextMatcherModel.pretrained(\"state_matcher\", \"en\", \"clinical/models\")\\\n",
        "    .setInputCols([\"sentence\", \"token\"])\\\n",
        "    .setOutputCol(\"state\")\\\n",
        "    .setMergeOverlapping(True)\n",
        "\n",
        "city_matcher = medical.TextMatcherModel.pretrained(\"city_matcher\", \"en\", \"clinical/models\")\\\n",
        "    .setInputCols([\"sentence\", \"token\"])\\\n",
        "    .setOutputCol(\"city\")\\\n",
        "    .setMergeOverlapping(True)\n",
        "\n",
        "drug_matcher = medical.TextMatcherModel.pretrained(\"drug_matcher\", \"en\", \"clinical/models\")\\\n",
        "    .setInputCols([\"sentence\", \"token\"])\\\n",
        "    .setOutputCol(\"drug\")\n",
        "\n",
        "biomarker_matcher = medical.TextMatcherModel.pretrained(\"biomarker_matcher\", \"en\", \"clinical/models\")\\\n",
        "    .setInputCols([\"sentence\", \"token\"])\\\n",
        "    .setOutputCol(\"biomarker\")\n",
        "\n",
        "cancer_diagnosis_matcher = medical.TextMatcherModel.pretrained(\"cancer_diagnosis_matcher\", \"en\", \"clinical/models\")\\\n",
        "    .setInputCols([\"sentence\", \"token\"])\\\n",
        "    .setOutputCol(\"cancer_dx\")\\\n",
        "    .setMergeOverlapping(True)\n",
        "\n",
        "# Merge all NER entities\n",
        "chunk_merger = medical.ChunkMergeApproach()\\\n",
        "    .setInputCols([\"drug\", \"biomarker\", \"cancer_dx\",\"country\", \"state\", \"city\"])\\\n",
        "    .setOutputCol(\"ner_chunk\")\\\n",
        "    .setSelectionStrategy(\"Sequential\")\n",
        "\n",
        "# Merge clinical entities (for assertions)\n",
        "clinical_merger = medical.ChunkMergeApproach()\\\n",
        "    .setInputCols([\"drug\", \"biomarker\", \"cancer_dx\"])\\\n",
        "    .setOutputCol(\"clinical_entities\")\\\n",
        "    .setSelectionStrategy(\"DiverseLonger\")\\\n",
        "    .setOrderingFeatures([\"ChunkLength\"])\n",
        "\n",
        "# Assertion models (only for clinical entities)\n",
        "contextual_assertion_conditional = medical.ContextualAssertion.pretrained(\"contextual_assertion_conditional\", \"en\", \"clinical/models\")\\\n",
        "    .setInputCols([\"sentence\", \"token\", \"clinical_entities\"])\\\n",
        "    .setOutputCol(\"assertion_conditional\")\n",
        "\n",
        "contextual_assertion_possible = medical.ContextualAssertion.pretrained(\"contextual_assertion_possible\", \"en\", \"clinical/models\")\\\n",
        "    .setInputCols([\"sentence\", \"token\", \"clinical_entities\"])\\\n",
        "    .setOutputCol(\"assertion_possible\")\n",
        "\n",
        "contextual_assertion_someone_else = medical.ContextualAssertion.pretrained(\"contextual_assertion_someone_else\", \"en\", \"clinical/models\")\\\n",
        "    .setInputCols([\"sentence\", \"token\", \"clinical_entities\"])\\\n",
        "    .setOutputCol(\"assertion_someone_else\")\n",
        "\n",
        "contextual_assertion_absent = medical.ContextualAssertion.pretrained(\"contextual_assertion_absent\", \"en\", \"clinical/models\")\\\n",
        "    .setInputCols([\"sentence\", \"token\", \"clinical_entities\"])\\\n",
        "    .setOutputCol(\"assertion_absent\")\n",
        "\n",
        "contextual_assertion_past = medical.ContextualAssertion.pretrained(\"contextual_assertion_past\", \"en\", \"clinical/models\")\\\n",
        "    .setInputCols([\"sentence\", \"token\", \"clinical_entities\"])\\\n",
        "    .setOutputCol(\"assertion_past\")\n",
        "\n",
        "assertion_merger = medical.AssertionMerger()\\\n",
        "    .setInputCols([\"assertion_conditional\", \"assertion_possible\", \"assertion_someone_else\", \"assertion_absent\", \"assertion_past\"])\\\n",
        "    .setOutputCol(\"clinical_assertions\")\\\n",
        "    .setMergeOverlapping(True)\\\n",
        "    .setSelectionStrategy(\"sequential\")\\\n",
        "    .setAssertionSourcePrecedence(\"assertion_conditional, assertion_possible, assertion_someone_else, assertion_absent, assertion_past\")\\\n",
        "    .setCaseSensitive(False)\n",
        "\n",
        "pipeline = nlp.Pipeline(stages=[\n",
        "    document_assembler,\n",
        "    sentence_detector,\n",
        "    tokenizer,\n",
        "    country_matcher,\n",
        "    state_matcher,\n",
        "    city_matcher,\n",
        "    drug_matcher,\n",
        "    biomarker_matcher,\n",
        "    cancer_diagnosis_matcher,\n",
        "    chunk_merger,\n",
        "    clinical_merger,\n",
        "    contextual_assertion_conditional,\n",
        "    contextual_assertion_possible,\n",
        "    contextual_assertion_someone_else,\n",
        "    contextual_assertion_absent,\n",
        "    contextual_assertion_past,\n",
        "    assertion_merger\n",
        "])\n"
      ]
    },
    {
      "cell_type": "markdown",
      "source": [
        "# Fit the Pipeline"
      ],
      "metadata": {
        "id": "NTJoOM-hhGNm"
      }
    },
    {
      "cell_type": "code",
      "execution_count": 7,
      "metadata": {
        "id": "DF_wapDLOB6j"
      },
      "outputs": [],
      "source": [
        "empty_data = spark.createDataFrame([[\"\"]]).toDF(\"text\")\n",
        "fitted_pipeline = pipeline.fit(empty_data)"
      ]
    },
    {
      "cell_type": "markdown",
      "source": [
        "# Sample Clinical Notes to Tryout the Pipeline"
      ],
      "metadata": {
        "id": "ZMS3oL1bhLhz"
      }
    },
    {
      "cell_type": "code",
      "execution_count": 81,
      "metadata": {
        "id": "q3jvHLA9lcFZ"
      },
      "outputs": [],
      "source": [
        "sample_texts = [\n",
        "    \"\"\"\n",
        "Name: Patel, Rina  Record Date: 1996-11-03  MR: 781093\n",
        "\n",
        "Dr. Sofia Chen\n",
        "\n",
        "Presentation Summary\n",
        "A 48-year-old female admitted to Unity Health Institute in Toronto\n",
        "for thyroidectomy.\n",
        "\n",
        "PMH\n",
        "She takes clopidogrel for her cardiovascular risk.\n",
        "History of ibuprofen use for muscle pain and history of azithromycin for a sinus infection two months ago.\n",
        "Denies remote history of other types of cancer.\n",
        "She experiences mild gastric upset when taking ibuprofen, particularly if ingested without food.\n",
        "\n",
        "HPI\n",
        "Ms. Patel is a 48-year-old woman with a diagnosis of papillary thyroid carcinoma.\n",
        "Ultrasound showes a 2.6 cm TI-RADS 5 nodule; FNA confirmes malignancy. Pre-op labs revealed suppressed TSH (0.14 mIU/L), elevated thyroglobulin (135 ng/mL), and BRAF V600E mutation positivity.\n",
        "She underwent hemithyroidectomy with central neck dissection on 11/03/95. Pathology showed multifocal disease (largest 2.8 cm), capsular invasion, and 3/12 positive lymph nodes.\n",
        "Serum thyroglobulin are suggestive of rising during periods of noncompliance with levothyroxine therapy.\n",
        "\n",
        "Family History\n",
        "Sister and brother both have asthma. Grandfather had lung cancer in his late 70s.\n",
        "\n",
        "Social history\n",
        "No smoking, alcohol or drug use history.\n",
        "In the past 18 months, the patient has traveled to India, Germany and Brazil for both business and leisure.\n",
        "Two months ago she visited her sister in Los Angeles, California.\n",
        "She denies any symptoms during or after her trips.\n",
        "\n",
        "Review of Systems\n",
        "General: Denies fever, chills, unintended weight loss, or night sweats.\n",
        "Patient resting in bed. Patient given azithromycin without any difficulty.\n",
        "Patient denies nausea at this time. zofran declined.\n",
        "Cardiovascular: Reports intermittent chest pain on exertion, worse with stress and heavy meals. Denies palpitations, syncope, or orthopnea.\n",
        "Respiratory: Denies cough, hemoptysis, or shortness of breath at rest.\n",
        "\"\"\",\n",
        "\n",
        "\"\"\"\n",
        "Name: Johnson, Maria  Record Date: 2000-04-12  MR: 894562\n",
        "\n",
        "Dr. Daniel Romero\n",
        "\n",
        "Presentation Summary\n",
        "A 55-year-old female admitted to St. Mary’s Medical Center in Chicago for evaluation and surgical management of colorectal carcinoma.\n",
        "\n",
        "PMH\n",
        "She is currently on atorvastatin for hyperlipidemia.\n",
        "History of amoxicillin use for recurrent sinus infections and history of naproxen for joint pain one year ago.\n",
        "Denies prior history of breast or thyroid cancer.\n",
        "She experiences mild dizziness when taking amoxicillin, particularly if combined with alcohol.\n",
        "\n",
        "HPI\n",
        "Ms. Johnson is a 55-year-old woman with a recent diagnosis of colorectal adenocarcinoma. Colonoscopy revealed a 4.1 cm mass in the colon; biopsy confirmed malignancy. Pre-op biomarkers showed:\n",
        "CEA: 18.2 ng/mL (elevated)\n",
        "KRAS mutation: Positive\n",
        "TSH: 2.1 mIU/L (within normal range)\n",
        "CT scan of the abdomen demonstrated possible lymph node involvement. Findings were suggestive of early hepatic metastasis, though not definitive.\n",
        "She underwent subtotal colectomy with lymph node dissection on 04/10/96. Pathology shows moderately differentiated adenocarcinoma with 2/15 positive lymph nodes.\n",
        "\n",
        "Family History\n",
        "Sister diagnosed with type 2 diabetes.\n",
        "Brother has hypertension.\n",
        "Grandfather died of prostate cancer at age 82.\n",
        "Other family members reported history of cardiovascular disease.\n",
        "\n",
        "Social History\n",
        "No smoking or recreational drug use. Occasional alcohol.\n",
        "In the past 2 years, the patient has traveled to Spain, Mexico, and South Korea for work.\n",
        "Three months ago she stayed with her brother in Miami, Florida.\n",
        "She denies any gastrointestinal symptoms during or after her trips.\n",
        "\n",
        "Review of Systems\n",
        "General: Denies fever, chills, or unintended weight loss. Patient resting comfortably.\n",
        "GI: Repots intermittent abdominal pain, worse after large meals. Patient denies current nausea. Ondansetron declined when offered postoperatively.\n",
        "Cardiovascular: Reports intermittent palpitations, particularly if under stress. Denies syncope or chest pressure.\n",
        "Respiratory: Denies cough, hemoptysis, or shortness of breath.\n",
        "Medications/Drug exposures: Currently on atorvastatin. History of amoxicillin and naproxen use. Denies anticoagulant, opioid, or benzodiazepine use.\n",
        "\"\"\",\n",
        "\n",
        "\"\"\"\n",
        "Patient ID: MR-552341\n",
        "Name: Alvarez, David  Date: 2015-07-22\n",
        "Consulting Physician: Dr. Helen Matsuda\n",
        "\n",
        "Initial Encounter\n",
        "A 62-year-old male presented to Mercy Medical Center in Baltimore for evaluation of a persistent cough and unintentional weight loss.\n",
        "\n",
        "Medical Background\n",
        "Current therapy: Metoprolol for hypertension.\n",
        "History of prednisone use for bronchitis and history of doxycycline for pneumonia five years ago.\n",
        "Denies history of prior malignancy.\n",
        "Reports dizziness with metoprolol, particularly if taken on an empty stomach.\n",
        "\n",
        "Clinical Course\n",
        "Mr. Alvarez underwent CT chest, which revealed a 3.9 cm spiculated lesion in the right upper lobe. PET scan demonstrated increased uptake in hilar nodes, suggestive of lung cancer metastatic disease.\n",
        "Biopsy confirmed non–small cell lung carcinoma (NSCLC).\n",
        "Molecular markers included:\n",
        "EGFR mutation: Negative\n",
        "ALK rearrangement: Positive\n",
        "CEA: 12.5 ng/mL (elevated)\n",
        "The patient was counseled regarding targeted therapy options. He declined enrollment in a clinical trial but is considering ALK-inhibitor therapy.\n",
        "\n",
        "Family & Genetic History\n",
        "Sister has rheumatoid arthritis.\n",
        "Brother has COPD.\n",
        "Grandfather died of gastric cancer at age 79.\n",
        "Other family members with cardiovascular disease and stroke.\n",
        "\n",
        "Lifestyle & Exposures\n",
        "Denies tobacco or recreational drug use, but reports a 15-year past history of smoking, quit 20 years ago.\n",
        "Occasional alcohol intake.\n",
        "Recent travel to Japan, Canada, and Argentina for conferences.\n",
        "One month ago he went to a concert in Houston, Texas.\n",
        "He denies any respiratory symptoms during or after his travels.\n",
        "\n",
        "System Review\n",
        "General: Fatigue and 5 kg weight loss over 3 months. Denies fever or chills.\n",
        "Respiratory: Chronic cough with streaks of blood; denies wheezing at rest.\n",
        "Cardiac: Reports palpitations, particularly if walking uphill; denies syncope.\n",
        "GI: No abdominal pain, but appetite loss. Patient denies nausea; ondansetron declined when offered in ED.\n",
        "Neurological: Denies headaches or seizures.\n",
        "\"\"\"\n",
        "]\n"
      ]
    },
    {
      "cell_type": "markdown",
      "source": [
        "# Apply the Pipeline to Sample Texts"
      ],
      "metadata": {
        "id": "NydYOOBEhYoF"
      }
    },
    {
      "cell_type": "code",
      "execution_count": 82,
      "metadata": {
        "id": "9o6SeibHWssx"
      },
      "outputs": [],
      "source": [
        "data = spark.createDataFrame([[text] for text in sample_texts]).toDF(\"text\")\n",
        "result = fitted_pipeline.transform(data)"
      ]
    },
    {
      "cell_type": "markdown",
      "source": [
        "# Print the Results for NER"
      ],
      "metadata": {
        "id": "tvklRLZihkP0"
      }
    },
    {
      "cell_type": "code",
      "execution_count": 83,
      "metadata": {
        "colab": {
          "base_uri": "https://localhost:8080/"
        },
        "id": "laI4cuMZT_5N",
        "outputId": "0337bf1a-3acc-4575-e17a-efb37ffb9f91"
      },
      "outputs": [
        {
          "output_type": "stream",
          "name": "stdout",
          "text": [
            "NER entities\n",
            "+---------------------------+-----+----+---------+\n",
            "|result                     |begin|end |entity   |\n",
            "+---------------------------+-----+----+---------+\n",
            "|Toronto                    |153  |159 |City     |\n",
            "|clopidogrel                |195  |205 |DRUG     |\n",
            "|ibuprofen                  |247  |255 |DRUG     |\n",
            "|azithromycin               |292  |303 |DRUG     |\n",
            "|cancer                     |383  |388 |Cancer_dx|\n",
            "|ibuprofen                  |438  |446 |DRUG     |\n",
            "|papillary thyroid carcinoma|546  |572 |Cancer_dx|\n",
            "|malignancy                 |634  |643 |Cancer_dx|\n",
            "|TSH                        |678  |680 |Biomarker|\n",
            "|thyroglobulin              |705  |717 |Biomarker|\n",
            "|BRAF                       |736  |739 |Biomarker|\n",
            "|Serum thyroglobulin        |946  |964 |Biomarker|\n",
            "|levothyroxine              |1028 |1040|DRUG     |\n",
            "|lung cancer                |1120 |1130|Cancer_dx|\n",
            "|India                      |1257 |1261|COUNTRY  |\n",
            "|Germany                    |1264 |1270|COUNTRY  |\n",
            "|Brazil                     |1276 |1281|COUNTRY  |\n",
            "|Los Angeles                |1355 |1365|City     |\n",
            "|California                 |1368 |1377|STATE    |\n",
            "|azithromycin               |1561 |1572|DRUG     |\n",
            "|zofran                     |1634 |1639|DRUG     |\n",
            "|Chicago                    |162  |168 |City     |\n",
            "|colorectal carcinoma       |212  |231 |Cancer_dx|\n",
            "|atorvastatin               |259  |270 |DRUG     |\n",
            "|amoxicillin                |303  |313 |DRUG     |\n",
            "|naproxen                   |365  |372 |DRUG     |\n",
            "|thyroid cancer             |437  |450 |Cancer_dx|\n",
            "|amoxicillin                |496  |506 |DRUG     |\n",
            "|colorectal adenocarcinoma  |615  |639 |Cancer_dx|\n",
            "|malignancy                 |708  |717 |Cancer_dx|\n",
            "|CEA                        |746  |748 |Biomarker|\n",
            "|KRAS                       |773  |776 |Biomarker|\n",
            "|TSH                        |797  |799 |Biomarker|\n",
            "|adenocarcinoma             |1095 |1108|Cancer_dx|\n",
            "|prostate cancer            |1243 |1257|Cancer_dx|\n",
            "|Spain                      |1457 |1461|COUNTRY  |\n",
            "|Mexico                     |1464 |1469|COUNTRY  |\n",
            "|South Korea                |1476 |1486|COUNTRY  |\n",
            "|Miami                      |1546 |1550|City     |\n",
            "|Florida                    |1553 |1559|STATE    |\n",
            "|Ondansetron                |1832 |1842|DRUG     |\n",
            "|atorvastatin               |2102 |2113|DRUG     |\n",
            "|amoxicillin                |2127 |2137|DRUG     |\n",
            "|naproxen                   |2143 |2150|DRUG     |\n",
            "|Baltimore                  |177  |185 |City     |\n",
            "|prednisone                 |332  |341 |DRUG     |\n",
            "|doxycycline                |377  |387 |DRUG     |\n",
            "|malignancy                 |443  |452 |Cancer_dx|\n",
            "|lung cancer                |718  |728 |Cancer_dx|\n",
            "|lung carcinoma             |782  |795 |Cancer_dx|\n",
            "|NSCLC                      |798  |802 |Cancer_dx|\n",
            "|EGFR                       |834  |837 |Biomarker|\n",
            "|ALK                        |858  |860 |Biomarker|\n",
            "|CEA                        |886  |888 |Biomarker|\n",
            "|gastric cancer             |1157 |1170|Cancer_dx|\n",
            "|Japan                      |1418 |1422|COUNTRY  |\n",
            "|Canada                     |1425 |1430|COUNTRY  |\n",
            "|Argentina                  |1437 |1445|COUNTRY  |\n",
            "|Houston                    |1502 |1508|City     |\n",
            "|Texas                      |1511 |1515|STATE    |\n",
            "|ondansetron                |1893 |1903|DRUG     |\n",
            "+---------------------------+-----+----+---------+\n",
            "\n"
          ]
        }
      ],
      "source": [
        "# Print results for all NER entities\n",
        "print(\"NER entities\")\n",
        "result.selectExpr(\"explode(ner_chunk)\").select(\"col.result\", \"col.begin\", \"col.end\", \"col.metadata.entity\").show(100, truncate=False)"
      ]
    },
    {
      "cell_type": "markdown",
      "source": [
        "# Print Results for Assertions"
      ],
      "metadata": {
        "id": "ZXdXHRvLhu8J"
      }
    },
    {
      "cell_type": "code",
      "execution_count": 85,
      "metadata": {
        "colab": {
          "base_uri": "https://localhost:8080/"
        },
        "id": "07E49VsIUXNZ",
        "outputId": "8f7540bd-8c45-4387-af9a-4078ac6f486c"
      },
      "outputs": [
        {
          "output_type": "stream",
          "name": "stdout",
          "text": [
            "Assertions\n",
            "+-------------------+-----+----+----------------------------+\n",
            "|ner_chunk          |begin|end |result                      |\n",
            "+-------------------+-----+----+----------------------------+\n",
            "|ibuprofen          |247  |255 |Past                        |\n",
            "|azithromycin       |292  |303 |Past                        |\n",
            "|cancer             |383  |388 |absent                      |\n",
            "|ibuprofen          |438  |446 |conditional                 |\n",
            "|Serum thyroglobulin|946  |964 |possible                    |\n",
            "|levothyroxine      |1028 |1040|possible                    |\n",
            "|lung cancer        |1120 |1130|associated_with_someone_else|\n",
            "|zofran             |1634 |1639|absent                      |\n",
            "|amoxicillin        |303  |313 |Past                        |\n",
            "|naproxen           |365  |372 |Past                        |\n",
            "|thyroid cancer     |437  |450 |absent                      |\n",
            "|amoxicillin        |496  |506 |conditional                 |\n",
            "|prostate cancer    |1243 |1257|associated_with_someone_else|\n",
            "|Ondansetron        |1832 |1842|absent                      |\n",
            "|amoxicillin        |2127 |2137|Past                        |\n",
            "|naproxen           |2143 |2150|Past                        |\n",
            "|prednisone         |332  |341 |Past                        |\n",
            "|doxycycline        |377  |387 |Past                        |\n",
            "|malignancy         |443  |452 |absent                      |\n",
            "|lung cancer        |718  |728 |possible                    |\n",
            "|EGFR               |834  |837 |absent                      |\n",
            "|gastric cancer     |1157 |1170|associated_with_someone_else|\n",
            "|ondansetron        |1893 |1903|absent                      |\n",
            "+-------------------+-----+----+----------------------------+\n",
            "\n"
          ]
        }
      ],
      "source": [
        "# Assertions (only for clinical entities: Drug, Biomarker, Cancer_dx)\n",
        "print(\"Assertions\")\n",
        "result.selectExpr(\"explode(clinical_assertions)\").select(\"col.metadata.ner_chunk\", \"col.begin\", \"col.end\", \"col.result\").show(100, truncate=False)"
      ]
    },
    {
      "cell_type": "markdown",
      "metadata": {
        "id": "rCPFs8I5mmEy"
      },
      "source": [
        "# Entity and Assertion Visualization"
      ]
    },
    {
      "cell_type": "markdown",
      "source": [
        "## Visualize NER entities (without assertions)"
      ],
      "metadata": {
        "id": "AGQmW6ldOcTB"
      }
    },
    {
      "cell_type": "code",
      "execution_count": 86,
      "metadata": {
        "colab": {
          "base_uri": "https://localhost:8080/",
          "height": 1000
        },
        "id": "MYELOqmlgiD9",
        "outputId": "e8708bc2-c79f-4f23-f514-247adbf190d7"
      },
      "outputs": [
        {
          "output_type": "stream",
          "name": "stdout",
          "text": [
            "\n",
            "All Ner Result Entities (without assertions)\n",
            "\n",
            "\n"
          ]
        },
        {
          "output_type": "display_data",
          "data": {
            "text/plain": [
              "<IPython.core.display.HTML object>"
            ],
            "text/html": [
              "\n",
              "<style>\n",
              "    @import url('https://fonts.googleapis.com/css2?family=Montserrat:wght@300;400;500;600;700&display=swap');\n",
              "    @import url('https://fonts.googleapis.com/css2?family=Vistol Regular:wght@300;400;500;600;700&display=swap');\n",
              "    \n",
              "    .spark-nlp-display-scroll-entities {\n",
              "        border: 1px solid #E7EDF0;\n",
              "        border-radius: 3px;\n",
              "        text-align: justify;\n",
              "        \n",
              "    }\n",
              "    .spark-nlp-display-scroll-entities span {  \n",
              "        font-size: 14px;\n",
              "        line-height: 24px;\n",
              "        color: #536B76;\n",
              "        font-family: 'Montserrat', sans-serif !important;\n",
              "    }\n",
              "    \n",
              "    .spark-nlp-display-entity-wrapper{\n",
              "    \n",
              "        display: inline-grid;\n",
              "        text-align: center;\n",
              "        border-radius: 4px;\n",
              "        margin: 0 2px 5px 2px;\n",
              "        padding: 1px\n",
              "    }\n",
              "    .spark-nlp-display-entity-name{\n",
              "        font-size: 14px;\n",
              "        line-height: 24px;\n",
              "        font-family: 'Montserrat', sans-serif !important;\n",
              "        \n",
              "        background: #f1f2f3;\n",
              "        border-width: medium;\n",
              "        text-align: center;\n",
              "        \n",
              "        font-weight: 400;\n",
              "        \n",
              "        border-radius: 5px;\n",
              "        padding: 2px 5px;\n",
              "        display: block;\n",
              "        margin: 3px 2px;\n",
              "    \n",
              "    }\n",
              "    .spark-nlp-display-entity-type{\n",
              "        font-size: 14px;\n",
              "        line-height: 24px;\n",
              "        color: #ffffff;\n",
              "        font-family: 'Montserrat', sans-serif !important;\n",
              "        \n",
              "        text-transform: uppercase;\n",
              "        \n",
              "        font-weight: 500;\n",
              "\n",
              "        display: block;\n",
              "        padding: 3px 5px;\n",
              "    }\n",
              "    \n",
              "    .spark-nlp-display-entity-resolution{\n",
              "        font-size: 14px;\n",
              "        line-height: 24px;\n",
              "        color: #ffffff;\n",
              "        font-family: 'Vistol Regular', sans-serif !important;\n",
              "        \n",
              "        text-transform: uppercase;\n",
              "        \n",
              "        font-weight: 500;\n",
              "\n",
              "        display: block;\n",
              "        padding: 3px 5px;\n",
              "    }\n",
              "    \n",
              "    .spark-nlp-display-others{\n",
              "        font-size: 14px;\n",
              "        line-height: 24px;\n",
              "        font-family: 'Montserrat', sans-serif !important;\n",
              "        \n",
              "        font-weight: 400;\n",
              "    }\n",
              "\n",
              "</style>\n",
              " <span class=\"spark-nlp-display-others\" style=\"background-color: white\"><br>Name: Patel, Rina  Record Date: 1996-11-03  MR: 781093<br><br>Dr. Sofia Chen<br><br>Presentation Summary<br>A 48-year-old female admitted to Unity Health Institute in </span><span class=\"spark-nlp-display-entity-wrapper\" style=\"background-color: #4161AF\"><span class=\"spark-nlp-display-entity-name\">Toronto </span><span class=\"spark-nlp-display-entity-type\">City</span></span><span class=\"spark-nlp-display-others\" style=\"background-color: white\"><br>for thyroidectomy.<br><br>PMH<br>She takes </span><span class=\"spark-nlp-display-entity-wrapper\" style=\"background-color: #8B668B\"><span class=\"spark-nlp-display-entity-name\">clopidogrel </span><span class=\"spark-nlp-display-entity-type\">DRUG</span></span><span class=\"spark-nlp-display-others\" style=\"background-color: white\"> for her cardiovascular risk.<br>History of </span><span class=\"spark-nlp-display-entity-wrapper\" style=\"background-color: #8B668B\"><span class=\"spark-nlp-display-entity-name\">ibuprofen </span><span class=\"spark-nlp-display-entity-type\">DRUG</span></span><span class=\"spark-nlp-display-others\" style=\"background-color: white\"> use for muscle pain and history of </span><span class=\"spark-nlp-display-entity-wrapper\" style=\"background-color: #8B668B\"><span class=\"spark-nlp-display-entity-name\">azithromycin </span><span class=\"spark-nlp-display-entity-type\">DRUG</span></span><span class=\"spark-nlp-display-others\" style=\"background-color: white\"> for a sinus infection two months ago.<br>Denies remote history of other types of </span><span class=\"spark-nlp-display-entity-wrapper\" style=\"background-color: #2CB551\"><span class=\"spark-nlp-display-entity-name\">cancer </span><span class=\"spark-nlp-display-entity-type\">Cancer_dx</span></span><span class=\"spark-nlp-display-others\" style=\"background-color: white\">.<br>She experiences mild gastric upset when taking </span><span class=\"spark-nlp-display-entity-wrapper\" style=\"background-color: #8B668B\"><span class=\"spark-nlp-display-entity-name\">ibuprofen </span><span class=\"spark-nlp-display-entity-type\">DRUG</span></span><span class=\"spark-nlp-display-others\" style=\"background-color: white\">, particularly if ingested without food.<br><br>HPI<br>Ms. Patel is a 48-year-old woman with a diagnosis of </span><span class=\"spark-nlp-display-entity-wrapper\" style=\"background-color: #2CB551\"><span class=\"spark-nlp-display-entity-name\">papillary thyroid carcinoma </span><span class=\"spark-nlp-display-entity-type\">Cancer_dx</span></span><span class=\"spark-nlp-display-others\" style=\"background-color: white\">.<br>Ultrasound showes a 2.6 cm TI-RADS 5 nodule; FNA confirmes </span><span class=\"spark-nlp-display-entity-wrapper\" style=\"background-color: #2CB551\"><span class=\"spark-nlp-display-entity-name\">malignancy </span><span class=\"spark-nlp-display-entity-type\">Cancer_dx</span></span><span class=\"spark-nlp-display-others\" style=\"background-color: white\">. Pre-op labs revealed suppressed </span><span class=\"spark-nlp-display-entity-wrapper\" style=\"background-color: #14789A\"><span class=\"spark-nlp-display-entity-name\">TSH </span><span class=\"spark-nlp-display-entity-type\">Biomarker</span></span><span class=\"spark-nlp-display-others\" style=\"background-color: white\"> (0.14 mIU/L), elevated </span><span class=\"spark-nlp-display-entity-wrapper\" style=\"background-color: #14789A\"><span class=\"spark-nlp-display-entity-name\">thyroglobulin </span><span class=\"spark-nlp-display-entity-type\">Biomarker</span></span><span class=\"spark-nlp-display-others\" style=\"background-color: white\"> (135 ng/mL), and </span><span class=\"spark-nlp-display-entity-wrapper\" style=\"background-color: #14789A\"><span class=\"spark-nlp-display-entity-name\">BRAF </span><span class=\"spark-nlp-display-entity-type\">Biomarker</span></span><span class=\"spark-nlp-display-others\" style=\"background-color: white\"> V600E mutation positivity.<br>She underwent hemithyroidectomy with central neck dissection on 11/03/95. Pathology showed multifocal disease (largest 2.8 cm), capsular invasion, and 3/12 positive lymph nodes.<br></span><span class=\"spark-nlp-display-entity-wrapper\" style=\"background-color: #14789A\"><span class=\"spark-nlp-display-entity-name\">Serum thyroglobulin </span><span class=\"spark-nlp-display-entity-type\">Biomarker</span></span><span class=\"spark-nlp-display-others\" style=\"background-color: white\"> are suggestive of rising during periods of noncompliance with </span><span class=\"spark-nlp-display-entity-wrapper\" style=\"background-color: #8B668B\"><span class=\"spark-nlp-display-entity-name\">levothyroxine </span><span class=\"spark-nlp-display-entity-type\">DRUG</span></span><span class=\"spark-nlp-display-others\" style=\"background-color: white\"> therapy.<br><br>Family History<br>Sister and brother both have asthma. Grandfather had </span><span class=\"spark-nlp-display-entity-wrapper\" style=\"background-color: #2CB551\"><span class=\"spark-nlp-display-entity-name\">lung cancer </span><span class=\"spark-nlp-display-entity-type\">Cancer_dx</span></span><span class=\"spark-nlp-display-others\" style=\"background-color: white\"> in his late 70s.<br><br>Social history<br>No smoking, alcohol or drug use history.<br>In the past 18 months, the patient has traveled to </span><span class=\"spark-nlp-display-entity-wrapper\" style=\"background-color: #6EB725\"><span class=\"spark-nlp-display-entity-name\">India </span><span class=\"spark-nlp-display-entity-type\">COUNTRY</span></span><span class=\"spark-nlp-display-others\" style=\"background-color: white\">, </span><span class=\"spark-nlp-display-entity-wrapper\" style=\"background-color: #6EB725\"><span class=\"spark-nlp-display-entity-name\">Germany </span><span class=\"spark-nlp-display-entity-type\">COUNTRY</span></span><span class=\"spark-nlp-display-others\" style=\"background-color: white\"> and </span><span class=\"spark-nlp-display-entity-wrapper\" style=\"background-color: #6EB725\"><span class=\"spark-nlp-display-entity-name\">Brazil </span><span class=\"spark-nlp-display-entity-type\">COUNTRY</span></span><span class=\"spark-nlp-display-others\" style=\"background-color: white\"> for both business and leisure.<br>Two months ago she visited her sister in </span><span class=\"spark-nlp-display-entity-wrapper\" style=\"background-color: #4161AF\"><span class=\"spark-nlp-display-entity-name\">Los Angeles </span><span class=\"spark-nlp-display-entity-type\">City</span></span><span class=\"spark-nlp-display-others\" style=\"background-color: white\">, </span><span class=\"spark-nlp-display-entity-wrapper\" style=\"background-color: #92C77B\"><span class=\"spark-nlp-display-entity-name\">California </span><span class=\"spark-nlp-display-entity-type\">STATE</span></span><span class=\"spark-nlp-display-others\" style=\"background-color: white\">.<br>She denies any symptoms during or after her trips.<br><br>Review of Systems <br>General: Denies fever, chills, unintended weight loss, or night sweats.<br>Patient resting in bed. Patient given </span><span class=\"spark-nlp-display-entity-wrapper\" style=\"background-color: #8B668B\"><span class=\"spark-nlp-display-entity-name\">azithromycin </span><span class=\"spark-nlp-display-entity-type\">DRUG</span></span><span class=\"spark-nlp-display-others\" style=\"background-color: white\"> without any difficulty.<br>Patient denies nausea at this time. </span><span class=\"spark-nlp-display-entity-wrapper\" style=\"background-color: #8B668B\"><span class=\"spark-nlp-display-entity-name\">zofran </span><span class=\"spark-nlp-display-entity-type\">DRUG</span></span><span class=\"spark-nlp-display-others\" style=\"background-color: white\"> declined.<br>Cardiovascular: Reports intermittent chest pain on exertion, worse with stress and heavy meals. Denies palpitations, syncope, or orthopnea.<br>Respiratory: Denies cough, hemoptysis, or shortness of breath at rest.<br></span></div>"
            ]
          },
          "metadata": {}
        }
      ],
      "source": [
        "print(\"\\nAll Ner Result Entities (without assertions)\\n\\n\")\n",
        "# fist text sample\n",
        "nlp.viz.NerVisualizer().display(result.collect()[0], 'ner_chunk')"
      ]
    },
    {
      "cell_type": "markdown",
      "source": [
        "## Visualize Clinical Entities with their Assertions"
      ],
      "metadata": {
        "id": "AS6saBFtOPzI"
      }
    },
    {
      "cell_type": "code",
      "source": [
        "print(\"\\nOnly NER Clinical Entities with their assertions\\n\\n\")\n",
        "#fist text sample\n",
        "nlp.viz.AssertionVisualizer().display(result.collect()[0], 'clinical_entities', 'clinical_assertions')"
      ],
      "metadata": {
        "colab": {
          "base_uri": "https://localhost:8080/",
          "height": 1000
        },
        "id": "Cz4AC6vROCTn",
        "outputId": "f00d75c8-c274-4e76-e5ea-e92b8502bcb9"
      },
      "execution_count": 87,
      "outputs": [
        {
          "output_type": "stream",
          "name": "stdout",
          "text": [
            "\n",
            "Only NER Clinical Entities with their assertions\n",
            "\n",
            "\n"
          ]
        },
        {
          "output_type": "display_data",
          "data": {
            "text/plain": [
              "<IPython.core.display.HTML object>"
            ],
            "text/html": [
              "\n",
              "<style>\n",
              "    @import url('https://fonts.googleapis.com/css2?family=Montserrat:wght@300;400;500;600;700&display=swap');\n",
              "    @import url('https://fonts.googleapis.com/css2?family=Vistol Regular:wght@300;400;500;600;700&display=swap');\n",
              "    \n",
              "    .spark-nlp-display-scroll-entities {\n",
              "        border: 1px solid #E7EDF0;\n",
              "        border-radius: 3px;\n",
              "        text-align: justify;\n",
              "        \n",
              "    }\n",
              "    .spark-nlp-display-scroll-entities span {  \n",
              "        font-size: 14px;\n",
              "        line-height: 24px;\n",
              "        color: #536B76;\n",
              "        font-family: 'Montserrat', sans-serif !important;\n",
              "    }\n",
              "    \n",
              "    .spark-nlp-display-entity-wrapper{\n",
              "    \n",
              "        display: inline-grid;\n",
              "        text-align: center;\n",
              "        border-radius: 4px;\n",
              "        margin: 0 2px 5px 2px;\n",
              "        padding: 1px\n",
              "    }\n",
              "    .spark-nlp-display-entity-name{\n",
              "        font-size: 14px;\n",
              "        line-height: 24px;\n",
              "        font-family: 'Montserrat', sans-serif !important;\n",
              "        \n",
              "        background: #f1f2f3;\n",
              "        border-width: medium;\n",
              "        text-align: center;\n",
              "        \n",
              "        font-weight: 400;\n",
              "        \n",
              "        border-radius: 5px;\n",
              "        padding: 2px 5px;\n",
              "        display: block;\n",
              "        margin: 3px 2px;\n",
              "    \n",
              "    }\n",
              "    .spark-nlp-display-entity-type{\n",
              "        font-size: 14px;\n",
              "        line-height: 24px;\n",
              "        color: #ffffff;\n",
              "        font-family: 'Montserrat', sans-serif !important;\n",
              "        \n",
              "        text-transform: uppercase;\n",
              "        \n",
              "        font-weight: 500;\n",
              "\n",
              "        display: block;\n",
              "        padding: 3px 5px;\n",
              "    }\n",
              "    \n",
              "    .spark-nlp-display-entity-resolution{\n",
              "        font-size: 14px;\n",
              "        line-height: 24px;\n",
              "        color: #ffffff;\n",
              "        font-family: 'Vistol Regular', sans-serif !important;\n",
              "        \n",
              "        text-transform: uppercase;\n",
              "        \n",
              "        font-weight: 500;\n",
              "\n",
              "        display: block;\n",
              "        padding: 3px 5px;\n",
              "    }\n",
              "    \n",
              "    .spark-nlp-display-others{\n",
              "        font-size: 14px;\n",
              "        line-height: 24px;\n",
              "        font-family: 'Montserrat', sans-serif !important;\n",
              "        \n",
              "        font-weight: 400;\n",
              "    }\n",
              "\n",
              "</style>\n",
              " <span class=\"spark-nlp-display-others\" style=\"background-color: white\"><br>Name: Patel, Rina  Record Date: 1996-11-03  MR: 781093<br><br>Dr. Sofia Chen<br><br>Presentation Summary<br>A 48-year-old female admitted to Unity Health Institute in Toronto<br>for thyroidectomy.<br><br>PMH<br>She takes </span><span class=\"spark-nlp-display-entity-wrapper\" style=\"background-color: #8B668BB3\"><span class=\"spark-nlp-display-entity-name\">clopidogrel </span><span class=\"spark-nlp-display-entity-type\">DRUG</span></span><span class=\"spark-nlp-display-others\" style=\"background-color: white\"> for her cardiovascular risk.<br>History of </span><span class=\"spark-nlp-display-entity-wrapper\" style=\"background-color: #8B668BB3\"><span class=\"spark-nlp-display-entity-name\">ibuprofen </span><span class=\"spark-nlp-display-entity-type\">DRUG</span><span class=\"spark-nlp-display-entity-resolution\" style=\"background-color: #8B668BFF\">Past </span></span><span class=\"spark-nlp-display-others\" style=\"background-color: white\"> use for muscle pain and history of </span><span class=\"spark-nlp-display-entity-wrapper\" style=\"background-color: #8B668BB3\"><span class=\"spark-nlp-display-entity-name\">azithromycin </span><span class=\"spark-nlp-display-entity-type\">DRUG</span><span class=\"spark-nlp-display-entity-resolution\" style=\"background-color: #8B668BFF\">Past </span></span><span class=\"spark-nlp-display-others\" style=\"background-color: white\"> for a sinus infection two months ago.<br>Denies remote history of other types of </span><span class=\"spark-nlp-display-entity-wrapper\" style=\"background-color: #29B100B3\"><span class=\"spark-nlp-display-entity-name\">cancer </span><span class=\"spark-nlp-display-entity-type\">Cancer_dx</span><span class=\"spark-nlp-display-entity-resolution\" style=\"background-color: #29B100FF\">absent </span></span><span class=\"spark-nlp-display-others\" style=\"background-color: white\">.<br>She experiences mild gastric upset when taking </span><span class=\"spark-nlp-display-entity-wrapper\" style=\"background-color: #8B668BB3\"><span class=\"spark-nlp-display-entity-name\">ibuprofen </span><span class=\"spark-nlp-display-entity-type\">DRUG</span><span class=\"spark-nlp-display-entity-resolution\" style=\"background-color: #8B668BFF\">conditional </span></span><span class=\"spark-nlp-display-others\" style=\"background-color: white\">, particularly if ingested without food.<br><br>HPI<br>Ms. Patel is a 48-year-old woman with a diagnosis of </span><span class=\"spark-nlp-display-entity-wrapper\" style=\"background-color: #29B100B3\"><span class=\"spark-nlp-display-entity-name\">papillary thyroid carcinoma </span><span class=\"spark-nlp-display-entity-type\">Cancer_dx</span></span><span class=\"spark-nlp-display-others\" style=\"background-color: white\">.<br>Ultrasound showes a 2.6 cm TI-RADS 5 nodule; FNA confirmes </span><span class=\"spark-nlp-display-entity-wrapper\" style=\"background-color: #29B100B3\"><span class=\"spark-nlp-display-entity-name\">malignancy </span><span class=\"spark-nlp-display-entity-type\">Cancer_dx</span></span><span class=\"spark-nlp-display-others\" style=\"background-color: white\">. Pre-op labs revealed suppressed </span><span class=\"spark-nlp-display-entity-wrapper\" style=\"background-color: #1E9207B3\"><span class=\"spark-nlp-display-entity-name\">TSH </span><span class=\"spark-nlp-display-entity-type\">Biomarker</span></span><span class=\"spark-nlp-display-others\" style=\"background-color: white\"> (0.14 mIU/L), elevated </span><span class=\"spark-nlp-display-entity-wrapper\" style=\"background-color: #1E9207B3\"><span class=\"spark-nlp-display-entity-name\">thyroglobulin </span><span class=\"spark-nlp-display-entity-type\">Biomarker</span></span><span class=\"spark-nlp-display-others\" style=\"background-color: white\"> (135 ng/mL), and </span><span class=\"spark-nlp-display-entity-wrapper\" style=\"background-color: #1E9207B3\"><span class=\"spark-nlp-display-entity-name\">BRAF </span><span class=\"spark-nlp-display-entity-type\">Biomarker</span></span><span class=\"spark-nlp-display-others\" style=\"background-color: white\"> V600E mutation positivity.<br>She underwent hemithyroidectomy with central neck dissection on 11/03/95. Pathology showed multifocal disease (largest 2.8 cm), capsular invasion, and 3/12 positive lymph nodes.<br></span><span class=\"spark-nlp-display-entity-wrapper\" style=\"background-color: #1E9207B3\"><span class=\"spark-nlp-display-entity-name\">Serum thyroglobulin </span><span class=\"spark-nlp-display-entity-type\">Biomarker</span><span class=\"spark-nlp-display-entity-resolution\" style=\"background-color: #1E9207FF\">possible </span></span><span class=\"spark-nlp-display-others\" style=\"background-color: white\"> are suggestive of rising during periods of noncompliance with </span><span class=\"spark-nlp-display-entity-wrapper\" style=\"background-color: #8B668BB3\"><span class=\"spark-nlp-display-entity-name\">levothyroxine </span><span class=\"spark-nlp-display-entity-type\">DRUG</span><span class=\"spark-nlp-display-entity-resolution\" style=\"background-color: #8B668BFF\">possible </span></span><span class=\"spark-nlp-display-others\" style=\"background-color: white\"> therapy.<br><br>Family History<br>Sister and brother both have asthma. Grandfather had </span><span class=\"spark-nlp-display-entity-wrapper\" style=\"background-color: #29B100B3\"><span class=\"spark-nlp-display-entity-name\">lung cancer </span><span class=\"spark-nlp-display-entity-type\">Cancer_dx</span><span class=\"spark-nlp-display-entity-resolution\" style=\"background-color: #29B100FF\">associated_with_someone_else </span></span><span class=\"spark-nlp-display-others\" style=\"background-color: white\"> in his late 70s.<br><br>Social history<br>No smoking, alcohol or drug use history.<br>In the past 18 months, the patient has traveled to India, Germany and Brazil for both business and leisure.<br>Two months ago she visited her sister in Los Angeles, California.<br>She denies any symptoms during or after her trips.<br><br>Review of Systems <br>General: Denies fever, chills, unintended weight loss, or night sweats.<br>Patient resting in bed. Patient given </span><span class=\"spark-nlp-display-entity-wrapper\" style=\"background-color: #8B668BB3\"><span class=\"spark-nlp-display-entity-name\">azithromycin </span><span class=\"spark-nlp-display-entity-type\">DRUG</span></span><span class=\"spark-nlp-display-others\" style=\"background-color: white\"> without any difficulty.<br>Patient denies nausea at this time. </span><span class=\"spark-nlp-display-entity-wrapper\" style=\"background-color: #8B668BB3\"><span class=\"spark-nlp-display-entity-name\">zofran </span><span class=\"spark-nlp-display-entity-type\">DRUG</span><span class=\"spark-nlp-display-entity-resolution\" style=\"background-color: #8B668BFF\">absent </span></span><span class=\"spark-nlp-display-others\" style=\"background-color: white\"> declined.<br>Cardiovascular: Reports intermittent chest pain on exertion, worse with stress and heavy meals. Denies palpitations, syncope, or orthopnea.<br>Respiratory: Denies cough, hemoptysis, or shortness of breath at rest.<br></span></div>"
            ]
          },
          "metadata": {}
        }
      ]
    }
  ],
  "metadata": {
    "colab": {
      "provenance": []
    },
    "kernelspec": {
      "display_name": "Python 3",
      "name": "python3"
    },
    "language_info": {
      "name": "python"
    }
  },
  "nbformat": 4,
  "nbformat_minor": 0
}
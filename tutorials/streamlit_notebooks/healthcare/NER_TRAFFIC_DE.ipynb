{
  "cells": [
    {
      "cell_type": "markdown",
      "metadata": {
        "id": "TA21Jo5d9SVq"
      },
      "source": [
        "\n",
        "\n",
        "![JohnSnowLabs](https://nlp.johnsnowlabs.com/assets/images/logo.png)\n",
        "\n",
        "[![Open In Colab](https://colab.research.google.com/assets/colab-badge.svg)](https://colab.research.google.com/github/JohnSnowLabs/spark-nlp-workshop/blob/master/tutorials/streamlit_notebooks/healthcare/NER_TRAFFIC_DE.ipynb)\n",
        "\n",
        "\n"
      ]
    },
    {
      "cell_type": "markdown",
      "metadata": {
        "id": "CzIdjHkAW8TB"
      },
      "source": [
        "# **Detect entities related to road traffic using pretrained NER model.**"
      ]
    },
    {
      "cell_type": "markdown",
      "metadata": {
        "id": "6uDmeHEFW7_h"
      },
      "source": [
        "To run this yourself, you will need to upload your license keys to the notebook. Just Run The Cell Below in order to do that. Also You can open the file explorer on the left side of the screen and upload `license_keys.json` to the folder that opens.\n",
        "Otherwise, you can look at the example outputs at the bottom of the notebook.\n",
        "\n"
      ]
    },
    {
      "cell_type": "markdown",
      "metadata": {
        "id": "wIeCOiJNW-88"
      },
      "source": [
        "## 1. Colab Setup"
      ]
    },
    {
      "cell_type": "markdown",
      "metadata": {
        "id": "HMIDv74CYN0d"
      },
      "source": [
        "**Import license keys**"
      ]
    },
    {
      "cell_type": "code",
      "execution_count": null,
      "metadata": {
        "id": "ttHPIV2JXbIM"
      },
      "outputs": [],
      "source": [
        "import json\n",
        "import os\n",
        "\n",
        "from google.colab import files\n",
        "\n",
        "license_keys = files.upload()\n",
        "\n",
        "with open(list(license_keys.keys())[0]) as f:\n",
        "    license_keys = json.load(f)\n",
        "\n",
        "# Defining license key-value pairs as local variables\n",
        "locals().update(license_keys)\n",
        "\n",
        "# Adding license key-value pairs to environment variables\n",
        "os.environ.update(license_keys)"
      ]
    },
    {
      "cell_type": "markdown",
      "metadata": {
        "id": "rQtc1CHaYQjU"
      },
      "source": [
        "## 2. Install dependencies"
      ]
    },
    {
      "cell_type": "code",
      "execution_count": null,
      "metadata": {
        "id": "CGJktFHdHL1n"
      },
      "outputs": [],
      "source": [
        "# Installing pyspark and spark-nlp\n",
        "! pip install --upgrade -q pyspark==3.1.2 spark-nlp==$PUBLIC_VERSION\n",
        "\n",
        "# Installing Spark NLP Healthcare\n",
        "! pip install --upgrade -q spark-nlp-jsl==$JSL_VERSION  --extra-index-url https://pypi.johnsnowlabs.com/$SECRET\n",
        "\n",
        "# Installing Spark NLP Display Library for visualization\n",
        "! pip install -q spark-nlp-display"
      ]
    },
    {
      "cell_type": "markdown",
      "metadata": {
        "id": "Hj5FRDV4YSXN"
      },
      "source": [
        "**Import dependencies into Python and start the Spark session**"
      ]
    },
    {
      "cell_type": "code",
      "execution_count": 3,
      "metadata": {
        "id": "sw-t1zxlHTB7",
        "colab": {
          "base_uri": "https://localhost:8080/",
          "height": 254
        },
        "outputId": "c0ff831e-e193-4f1c-83a9-cbbe4f4a7261"
      },
      "outputs": [
        {
          "output_type": "stream",
          "name": "stdout",
          "text": [
            "Spark NLP Version : 3.4.4\n",
            "Spark NLP_JSL Version : 3.5.2\n"
          ]
        },
        {
          "output_type": "execute_result",
          "data": {
            "text/plain": [
              "<pyspark.sql.session.SparkSession at 0x7fdfef5bf050>"
            ],
            "text/html": [
              "\n",
              "            <div>\n",
              "                <p><b>SparkSession - in-memory</b></p>\n",
              "                \n",
              "        <div>\n",
              "            <p><b>SparkContext</b></p>\n",
              "\n",
              "            <p><a href=\"http://f1730d287100:4040\">Spark UI</a></p>\n",
              "\n",
              "            <dl>\n",
              "              <dt>Version</dt>\n",
              "                <dd><code>v3.1.2</code></dd>\n",
              "              <dt>Master</dt>\n",
              "                <dd><code>local[*]</code></dd>\n",
              "              <dt>AppName</dt>\n",
              "                <dd><code>Spark NLP Licensed</code></dd>\n",
              "            </dl>\n",
              "        </div>\n",
              "        \n",
              "            </div>\n",
              "        "
            ]
          },
          "metadata": {},
          "execution_count": 3
        }
      ],
      "source": [
        "# Import sparknlp & sparknlp_jsl packages\n",
        "import sparknlp\n",
        "import sparknlp_jsl\n",
        "\n",
        "from sparknlp.base import *\n",
        "from sparknlp.common import *\n",
        "from sparknlp.annotator import *\n",
        "from sparknlp_jsl.annotator import *\n",
        "\n",
        "# Import Pyspark packages\n",
        "from pyspark.sql import SparkSession\n",
        "from pyspark.sql import functions as F \n",
        "from pyspark.ml import Pipeline, PipelineModel\n",
        "\n",
        "import pandas as pd\n",
        "import numpy as np \n",
        "\n",
        "spark = sparknlp_jsl.start(license_keys['SECRET'])\n",
        "\n",
        "print (\"Spark NLP Version :\", sparknlp.version())\n",
        "print (\"Spark NLP_JSL Version :\", sparknlp_jsl.version())\n",
        "\n",
        "spark"
      ]
    },
    {
      "cell_type": "markdown",
      "metadata": {
        "id": "9RgiqfX5XDqb"
      },
      "source": [
        "## 3. Select the NER model and construct the pipeline"
      ]
    },
    {
      "cell_type": "code",
      "execution_count": 4,
      "metadata": {
        "id": "Y48aZkoSAZTY"
      },
      "outputs": [],
      "source": [
        "MODEL_NAME = \"ner_traffic\""
      ]
    },
    {
      "cell_type": "markdown",
      "metadata": {
        "id": "zweiG2ilZqoR"
      },
      "source": [
        "**Create the pipeline**"
      ]
    },
    {
      "cell_type": "code",
      "execution_count": 7,
      "metadata": {
        "colab": {
          "base_uri": "https://localhost:8080/"
        },
        "id": "LLuDz_t40be4",
        "outputId": "aa24be44-0b95-430d-ede0-6791d98ba449"
      },
      "outputs": [
        {
          "output_type": "stream",
          "name": "stdout",
          "text": [
            "w2v_cc_300d download started this may take some time.\n",
            "Approximate size to download 1.2 GB\n",
            "[OK!]\n",
            "ner_traffic download started this may take some time.\n",
            "[OK!]\n"
          ]
        }
      ],
      "source": [
        "document_assembler = DocumentAssembler() \\\n",
        "    .setInputCol('text')\\\n",
        "    .setOutputCol('document')\n",
        "\n",
        "sentence_detector = SentenceDetector() \\\n",
        "    .setInputCols(['document'])\\\n",
        "    .setOutputCol('sentence')\n",
        "\n",
        "tokenizer = Tokenizer()\\\n",
        "    .setInputCols(['sentence']) \\\n",
        "    .setOutputCol('token')\n",
        "\n",
        "word_embeddings = WordEmbeddingsModel.pretrained(\"w2v_cc_300d\", \"de\", \"clinical/models\") \\\n",
        "    .setInputCols(['sentence', 'token']) \\\n",
        "    .setOutputCol('embeddings')\n",
        "\n",
        "clinical_ner = MedicalNerModel.pretrained(MODEL_NAME, \"de\", \"clinical/models\") \\\n",
        "    .setInputCols([\"sentence\", \"token\", \"embeddings\"])\\\n",
        "    .setOutputCol(\"ner\")\n",
        "\n",
        "ner_converter = NerConverter()\\\n",
        "    .setInputCols(['sentence', 'token', 'ner']) \\\n",
        "    .setOutputCol('ner_chunk')\n",
        "\n",
        "nlp_pipeline = Pipeline(stages=[\n",
        "    document_assembler, \n",
        "    sentence_detector,\n",
        "    tokenizer,\n",
        "    word_embeddings,\n",
        "    clinical_ner,\n",
        "    ner_converter\n",
        "    ])\n",
        "\n",
        "empty_df = spark.createDataFrame([['']]).toDF('text')\n",
        "pipeline_model = nlp_pipeline.fit(empty_df)"
      ]
    },
    {
      "cell_type": "markdown",
      "metadata": {
        "id": "2Y9GpdJhXIpD"
      },
      "source": [
        "## 4. Create example inputs"
      ]
    },
    {
      "cell_type": "code",
      "execution_count": 13,
      "metadata": {
        "id": "vBOKkB2THdGI",
        "colab": {
          "base_uri": "https://localhost:8080/"
        },
        "outputId": "431924b1-f507-43a2-c8c6-5bc90aec50b8"
      },
      "outputs": [
        {
          "output_type": "stream",
          "name": "stdout",
          "text": [
            "+----------------------------------------------------------------------------------------------------+\n",
            "|                                                                                                text|\n",
            "+----------------------------------------------------------------------------------------------------+\n",
            "|herbert neubauer der handelskonzern spar, der von den wettbewerbshütern bereits das okay für die ...|\n",
            "|Serviceplan verteidigt die spitzenposition publips ist a den standorten madrid und valencia vertr...|\n",
            "|        a92 deggendorf richtung münchen zwischen altdorf und moosburg - nord 5 km stockender verkehr|\n",
            "|großartig, jetzt schon 15 min. verspätung - und es wird noch ein außerplanmäßiger halt eingeplant...|\n",
            "|Karlsruhe richtung stuttgart zwischen leonberg - west und dreieck leonberg gegenstände auf der fa...|\n",
            "+----------------------------------------------------------------------------------------------------+\n",
            "\n"
          ]
        }
      ],
      "source": [
        "sample_text = [\n",
        "    \"\"\"herbert neubauer der handelskonzern spar, der von den wettbewerbshütern bereits das okay für die übernahme von 27 ehemaligen zielpunkt - filialen erhalten hat , hat nach gesprächen mit den vermietern die übernahme von 25 filialen fixiert. dies sagte spar - vorstand hans reisch am dienstag am rande eines pressegespräches im gespräch mit der apa. der umbau wird - sobald wir die genehmigungen erhalten - schritt für schritt erfolgen, so reisch. bis jahresende soll der umbau aller übernommenen filialen abgeschlossen sein . die ungarn - tochter, die in den letzten jahren noch millionenverluste geschrieben hat, ist laut reisch im vergangenen jahr wieder in die schwarzen zahlen zurückgekehrt. das letzte jahr war operativ toll, sagte reisch. schuld a den millionenverlusten sei die vom ungarischen staat eingehobene kr.\"\"\",\n",
        "    \n",
        "    \"\"\"Serviceplan verteidigt die spitzenposition publips ist a den standorten madrid und valencia vertreten und beschäftigt insgesamt 60 mitarbeiter. In madrid soll langfristig auch ein haus der kommunikation mit den drei marken serviceplan, plan.net und mediaplus entstehen. Angaben zum kaufpreis und zum honorarvolumen der neuen agentur machen die verantwortlichen nicht. Zu den kunden von publips gehören die unternehmen ikea, amstel, makro und jack & jones. für metro / makro und bahlsen wurden bereits erste projekte zusammen mit der serviceplan - gruppe realisiert. gegenüber anderen spanischen agenturen dieser größe weist publips eine besonderheit auf: die von luis piquer geführte firma verfügt über ein eigenes regionales netzwerk mit standorten auf den balearen und kanaren, in katalonien sowie in andalusien. regionale aussteuerung ist in spanien sehr wichtig, erläutert markus noder, geschäftsführer bei serviceplan international, dies.\"\"\",\n",
        "    \n",
        "    \"\"\"a92 deggendorf richtung münchen zwischen altdorf und moosburg - nord 5 km stockender verkehr\"\"\",\n",
        "    \n",
        "    \"\"\"großartig, jetzt schon 15 min. verspätung - und es wird noch ein außerplanmäßiger halt eingeplant. soviel zu früher nachhause. #sbb\"\"\",\n",
        "    \n",
        "    \"\"\"Karlsruhe richtung stuttgart zwischen leonberg - west und dreieck leonberg gegenstände auf der fahrbahn -lrb- ein reifenmantel -rrb-\"\"\",    \n",
        "]\n",
        "df = spark.createDataFrame(pd.DataFrame({'text': sample_text}))\n",
        "df.show(truncate=100)"
      ]
    },
    {
      "cell_type": "markdown",
      "metadata": {
        "id": "mv0abcwhXWC-"
      },
      "source": [
        "## 5. Use the pipeline to create outputs"
      ]
    },
    {
      "cell_type": "code",
      "execution_count": 10,
      "metadata": {
        "id": "TK1DB9JZaPs3",
        "colab": {
          "base_uri": "https://localhost:8080/"
        },
        "outputId": "80258f05-a797-4614-ae98-9aad06266120"
      },
      "outputs": [
        {
          "output_type": "stream",
          "name": "stdout",
          "text": [
            "+----------------+--------------------+\n",
            "|chunk           |ner_label           |\n",
            "+----------------+--------------------+\n",
            "|herbert neubauer|PERSON              |\n",
            "|spar            |ORGANIZATION_COMPANY|\n",
            "|übernahme       |TRIGGER             |\n",
            "|27              |NUMBER              |\n",
            "|zielpunkt       |ORGANIZATION_COMPANY|\n",
            "|25              |NUMBER              |\n",
            "|spar            |ORGANIZATION_COMPANY|\n",
            "|vorstand        |ORG_POSITION        |\n",
            "|hans reisch     |PERSON              |\n",
            "|dienstag        |DATE                |\n",
            "|apa             |ORGANIZATION        |\n",
            "|jahresende      |DATE                |\n",
            "|ungarn          |LOCATION            |\n",
            "|reisch          |PERSON              |\n",
            "|vergangenen jahr|DATE                |\n",
            "|letzte jahr     |DATE                |\n",
            "|reisch          |PERSON              |\n",
            "|ungarischen     |LOCATION            |\n",
            "|Serviceplan     |ORGANIZATION_COMPANY|\n",
            "|publips         |ORGANIZATION_COMPANY|\n",
            "+----------------+--------------------+\n",
            "only showing top 20 rows\n",
            "\n"
          ]
        }
      ],
      "source": [
        "\n",
        "result = pipeline_model.transform(df)\n",
        "\n",
        "result.select(F.explode(F.arrays_zip(result.ner_chunk.result, \n",
        "                                     result.ner_chunk.metadata)).alias(\"cols\"))\\\n",
        "      .select(F.expr(\"cols['0']\").alias(\"chunk\"),\n",
        "              F.expr(\"cols['1']['entity']\").alias(\"ner_label\")).show(truncate=False)"
      ]
    },
    {
      "cell_type": "markdown",
      "metadata": {
        "id": "UQY8tAP6XZJL"
      },
      "source": [
        "## 6. Visualize results"
      ]
    },
    {
      "cell_type": "code",
      "source": [
        "sample_text[0]"
      ],
      "metadata": {
        "colab": {
          "base_uri": "https://localhost:8080/",
          "height": 105
        },
        "id": "F1BqFx8SpnfR",
        "outputId": "a4dd7a88-e032-4a9d-d09d-00a3cbd3afaa"
      },
      "execution_count": 16,
      "outputs": [
        {
          "output_type": "execute_result",
          "data": {
            "text/plain": [
              "'herbert neubauer der handelskonzern spar, der von den wettbewerbshütern bereits das okay für die übernahme von 27 ehemaligen zielpunkt - filialen erhalten hat , hat nach gesprächen mit den vermietern die übernahme von 25 filialen fixiert. dies sagte spar - vorstand hans reisch am dienstag am rande eines pressegespräches im gespräch mit der apa. der umbau wird - sobald wir die genehmigungen erhalten - schritt für schritt erfolgen, so reisch. bis jahresende soll der umbau aller übernommenen filialen abgeschlossen sein . die ungarn - tochter, die in den letzten jahren noch millionenverluste geschrieben hat, ist laut reisch im vergangenen jahr wieder in die schwarzen zahlen zurückgekehrt. das letzte jahr war operativ toll, sagte reisch. schuld a den millionenverlusten sei die vom ungarischen staat eingehobene kr.'"
            ],
            "application/vnd.google.colaboratory.intrinsic+json": {
              "type": "string"
            }
          },
          "metadata": {},
          "execution_count": 16
        }
      ]
    },
    {
      "cell_type": "code",
      "source": [
        "from sparknlp_display import NerVisualizer\n",
        "\n",
        "for i in range(result.count()):\n",
        "  print(\"\\n\\n\",\"*****\"*40)\n",
        "  print(\"\\n\",sample_text[i][:150],\"...\\n\\n\")\n",
        "  NerVisualizer().display(\n",
        "    result = result.collect()[i],\n",
        "    label_col = 'ner_chunk',\n",
        "    document_col = 'document'\n",
        "  ) "
      ],
      "metadata": {
        "colab": {
          "base_uri": "https://localhost:8080/",
          "height": 1000
        },
        "id": "ZbOJjLqnpsqC",
        "outputId": "71b0148d-bc7e-43a5-b3d4-f403566f0cfa"
      },
      "execution_count": 21,
      "outputs": [
        {
          "output_type": "stream",
          "name": "stdout",
          "text": [
            "\n",
            "\n",
            " ********************************************************************************************************************************************************************************************************\n",
            "\n",
            " herbert neubauer der handelskonzern spar, der von den wettbewerbshütern bereits das okay für die übernahme von 27 ehemaligen zielpunkt - filialen erha ...\n",
            "\n",
            "\n"
          ]
        },
        {
          "output_type": "display_data",
          "data": {
            "text/plain": [
              "<IPython.core.display.HTML object>"
            ],
            "text/html": [
              "\n",
              "<style>\n",
              "    @import url('https://fonts.googleapis.com/css2?family=Montserrat:wght@300;400;500;600;700&display=swap');\n",
              "    @import url('https://fonts.googleapis.com/css2?family=Vistol Regular:wght@300;400;500;600;700&display=swap');\n",
              "    \n",
              "    .spark-nlp-display-scroll-entities {\n",
              "        border: 1px solid #E7EDF0;\n",
              "        border-radius: 3px;\n",
              "        text-align: justify;\n",
              "        \n",
              "    }\n",
              "    .spark-nlp-display-scroll-entities span {  \n",
              "        font-size: 14px;\n",
              "        line-height: 24px;\n",
              "        color: #536B76;\n",
              "        font-family: 'Montserrat', sans-serif !important;\n",
              "    }\n",
              "    \n",
              "    .spark-nlp-display-entity-wrapper{\n",
              "    \n",
              "        display: inline-grid;\n",
              "        text-align: center;\n",
              "        border-radius: 4px;\n",
              "        margin: 0 2px 5px 2px;\n",
              "        padding: 1px\n",
              "    }\n",
              "    .spark-nlp-display-entity-name{\n",
              "        font-size: 14px;\n",
              "        line-height: 24px;\n",
              "        font-family: 'Montserrat', sans-serif !important;\n",
              "        \n",
              "        background: #f1f2f3;\n",
              "        border-width: medium;\n",
              "        text-align: center;\n",
              "        \n",
              "        font-weight: 400;\n",
              "        \n",
              "        border-radius: 5px;\n",
              "        padding: 2px 5px;\n",
              "        display: block;\n",
              "        margin: 3px 2px;\n",
              "    \n",
              "    }\n",
              "    .spark-nlp-display-entity-type{\n",
              "        font-size: 14px;\n",
              "        line-height: 24px;\n",
              "        color: #ffffff;\n",
              "        font-family: 'Montserrat', sans-serif !important;\n",
              "        \n",
              "        text-transform: uppercase;\n",
              "        \n",
              "        font-weight: 500;\n",
              "\n",
              "        display: block;\n",
              "        padding: 3px 5px;\n",
              "    }\n",
              "    \n",
              "    .spark-nlp-display-entity-resolution{\n",
              "        font-size: 14px;\n",
              "        line-height: 24px;\n",
              "        color: #ffffff;\n",
              "        font-family: 'Vistol Regular', sans-serif !important;\n",
              "        \n",
              "        text-transform: uppercase;\n",
              "        \n",
              "        font-weight: 500;\n",
              "\n",
              "        display: block;\n",
              "        padding: 3px 5px;\n",
              "    }\n",
              "    \n",
              "    .spark-nlp-display-others{\n",
              "        font-size: 14px;\n",
              "        line-height: 24px;\n",
              "        font-family: 'Montserrat', sans-serif !important;\n",
              "        \n",
              "        font-weight: 400;\n",
              "    }\n",
              "\n",
              "</style>\n",
              " <span class=\"spark-nlp-display-entity-wrapper\" style=\"background-color: #9441BF\"><span class=\"spark-nlp-display-entity-name\">herbert neubauer </span><span class=\"spark-nlp-display-entity-type\">PERSON</span></span><span class=\"spark-nlp-display-others\" style=\"background-color: white\"> der handelskonzern </span><span class=\"spark-nlp-display-entity-wrapper\" style=\"background-color: #85BAB1\"><span class=\"spark-nlp-display-entity-name\">spar </span><span class=\"spark-nlp-display-entity-type\">ORGANIZATION_COMPANY</span></span><span class=\"spark-nlp-display-others\" style=\"background-color: white\">, der von den wettbewerbshütern bereits das okay für die </span><span class=\"spark-nlp-display-entity-wrapper\" style=\"background-color: #598C55\"><span class=\"spark-nlp-display-entity-name\">übernahme </span><span class=\"spark-nlp-display-entity-type\">TRIGGER</span></span><span class=\"spark-nlp-display-others\" style=\"background-color: white\"> von </span><span class=\"spark-nlp-display-entity-wrapper\" style=\"background-color: #8A9235\"><span class=\"spark-nlp-display-entity-name\">27 </span><span class=\"spark-nlp-display-entity-type\">NUMBER</span></span><span class=\"spark-nlp-display-others\" style=\"background-color: white\"> ehemaligen </span><span class=\"spark-nlp-display-entity-wrapper\" style=\"background-color: #85BAB1\"><span class=\"spark-nlp-display-entity-name\">zielpunkt </span><span class=\"spark-nlp-display-entity-type\">ORGANIZATION_COMPANY</span></span><span class=\"spark-nlp-display-others\" style=\"background-color: white\"> - filialen erhalten hat , hat nach gesprächen mit den vermietern die übernahme von </span><span class=\"spark-nlp-display-entity-wrapper\" style=\"background-color: #8A9235\"><span class=\"spark-nlp-display-entity-name\">25 </span><span class=\"spark-nlp-display-entity-type\">NUMBER</span></span><span class=\"spark-nlp-display-others\" style=\"background-color: white\"> filialen fixiert. dies sagte </span><span class=\"spark-nlp-display-entity-wrapper\" style=\"background-color: #85BAB1\"><span class=\"spark-nlp-display-entity-name\">spar </span><span class=\"spark-nlp-display-entity-type\">ORGANIZATION_COMPANY</span></span><span class=\"spark-nlp-display-others\" style=\"background-color: white\"> - </span><span class=\"spark-nlp-display-entity-wrapper\" style=\"background-color: #21548C\"><span class=\"spark-nlp-display-entity-name\">vorstand </span><span class=\"spark-nlp-display-entity-type\">ORG_POSITION</span></span><span class=\"spark-nlp-display-others\" style=\"background-color: white\"> </span><span class=\"spark-nlp-display-entity-wrapper\" style=\"background-color: #9441BF\"><span class=\"spark-nlp-display-entity-name\">hans reisch </span><span class=\"spark-nlp-display-entity-type\">PERSON</span></span><span class=\"spark-nlp-display-others\" style=\"background-color: white\"> am </span><span class=\"spark-nlp-display-entity-wrapper\" style=\"background-color: #a6b1e1\"><span class=\"spark-nlp-display-entity-name\">dienstag </span><span class=\"spark-nlp-display-entity-type\">DATE</span></span><span class=\"spark-nlp-display-others\" style=\"background-color: white\"> am rande eines pressegespräches im gespräch mit der </span><span class=\"spark-nlp-display-entity-wrapper\" style=\"background-color: #55B2BF\"><span class=\"spark-nlp-display-entity-name\">apa </span><span class=\"spark-nlp-display-entity-type\">ORGANIZATION</span></span><span class=\"spark-nlp-display-others\" style=\"background-color: white\">. der umbau wird - sobald wir die genehmigungen erhalten - schritt für schritt erfolgen, so reisch. bis </span><span class=\"spark-nlp-display-entity-wrapper\" style=\"background-color: #a6b1e1\"><span class=\"spark-nlp-display-entity-name\">jahresende </span><span class=\"spark-nlp-display-entity-type\">DATE</span></span><span class=\"spark-nlp-display-others\" style=\"background-color: white\"> soll der umbau aller übernommenen filialen abgeschlossen sein . die </span><span class=\"spark-nlp-display-entity-wrapper\" style=\"background-color: #AC66A6\"><span class=\"spark-nlp-display-entity-name\">ungarn </span><span class=\"spark-nlp-display-entity-type\">LOCATION</span></span><span class=\"spark-nlp-display-others\" style=\"background-color: white\"> - tochter, die in den letzten jahren noch millionenverluste geschrieben hat, ist laut </span><span class=\"spark-nlp-display-entity-wrapper\" style=\"background-color: #9441BF\"><span class=\"spark-nlp-display-entity-name\">reisch </span><span class=\"spark-nlp-display-entity-type\">PERSON</span></span><span class=\"spark-nlp-display-others\" style=\"background-color: white\"> im </span><span class=\"spark-nlp-display-entity-wrapper\" style=\"background-color: #a6b1e1\"><span class=\"spark-nlp-display-entity-name\">vergangenen jahr </span><span class=\"spark-nlp-display-entity-type\">DATE</span></span><span class=\"spark-nlp-display-others\" style=\"background-color: white\"> wieder in die schwarzen zahlen zurückgekehrt. das </span><span class=\"spark-nlp-display-entity-wrapper\" style=\"background-color: #a6b1e1\"><span class=\"spark-nlp-display-entity-name\">letzte jahr </span><span class=\"spark-nlp-display-entity-type\">DATE</span></span><span class=\"spark-nlp-display-others\" style=\"background-color: white\"> war operativ toll, sagte </span><span class=\"spark-nlp-display-entity-wrapper\" style=\"background-color: #9441BF\"><span class=\"spark-nlp-display-entity-name\">reisch </span><span class=\"spark-nlp-display-entity-type\">PERSON</span></span><span class=\"spark-nlp-display-others\" style=\"background-color: white\">. schuld a den millionenverlusten sei die vom </span><span class=\"spark-nlp-display-entity-wrapper\" style=\"background-color: #AC66A6\"><span class=\"spark-nlp-display-entity-name\">ungarischen </span><span class=\"spark-nlp-display-entity-type\">LOCATION</span></span><span class=\"spark-nlp-display-others\" style=\"background-color: white\"> staat eingehobene kr.</span></div>"
            ]
          },
          "metadata": {}
        },
        {
          "output_type": "stream",
          "name": "stdout",
          "text": [
            "\n",
            "\n",
            " ********************************************************************************************************************************************************************************************************\n",
            "\n",
            " Serviceplan verteidigt die spitzenposition publips ist a den standorten madrid und valencia vertreten und beschäftigt insgesamt 60 mitarbeiter. In mad ...\n",
            "\n",
            "\n"
          ]
        },
        {
          "output_type": "display_data",
          "data": {
            "text/plain": [
              "<IPython.core.display.HTML object>"
            ],
            "text/html": [
              "\n",
              "<style>\n",
              "    @import url('https://fonts.googleapis.com/css2?family=Montserrat:wght@300;400;500;600;700&display=swap');\n",
              "    @import url('https://fonts.googleapis.com/css2?family=Vistol Regular:wght@300;400;500;600;700&display=swap');\n",
              "    \n",
              "    .spark-nlp-display-scroll-entities {\n",
              "        border: 1px solid #E7EDF0;\n",
              "        border-radius: 3px;\n",
              "        text-align: justify;\n",
              "        \n",
              "    }\n",
              "    .spark-nlp-display-scroll-entities span {  \n",
              "        font-size: 14px;\n",
              "        line-height: 24px;\n",
              "        color: #536B76;\n",
              "        font-family: 'Montserrat', sans-serif !important;\n",
              "    }\n",
              "    \n",
              "    .spark-nlp-display-entity-wrapper{\n",
              "    \n",
              "        display: inline-grid;\n",
              "        text-align: center;\n",
              "        border-radius: 4px;\n",
              "        margin: 0 2px 5px 2px;\n",
              "        padding: 1px\n",
              "    }\n",
              "    .spark-nlp-display-entity-name{\n",
              "        font-size: 14px;\n",
              "        line-height: 24px;\n",
              "        font-family: 'Montserrat', sans-serif !important;\n",
              "        \n",
              "        background: #f1f2f3;\n",
              "        border-width: medium;\n",
              "        text-align: center;\n",
              "        \n",
              "        font-weight: 400;\n",
              "        \n",
              "        border-radius: 5px;\n",
              "        padding: 2px 5px;\n",
              "        display: block;\n",
              "        margin: 3px 2px;\n",
              "    \n",
              "    }\n",
              "    .spark-nlp-display-entity-type{\n",
              "        font-size: 14px;\n",
              "        line-height: 24px;\n",
              "        color: #ffffff;\n",
              "        font-family: 'Montserrat', sans-serif !important;\n",
              "        \n",
              "        text-transform: uppercase;\n",
              "        \n",
              "        font-weight: 500;\n",
              "\n",
              "        display: block;\n",
              "        padding: 3px 5px;\n",
              "    }\n",
              "    \n",
              "    .spark-nlp-display-entity-resolution{\n",
              "        font-size: 14px;\n",
              "        line-height: 24px;\n",
              "        color: #ffffff;\n",
              "        font-family: 'Vistol Regular', sans-serif !important;\n",
              "        \n",
              "        text-transform: uppercase;\n",
              "        \n",
              "        font-weight: 500;\n",
              "\n",
              "        display: block;\n",
              "        padding: 3px 5px;\n",
              "    }\n",
              "    \n",
              "    .spark-nlp-display-others{\n",
              "        font-size: 14px;\n",
              "        line-height: 24px;\n",
              "        font-family: 'Montserrat', sans-serif !important;\n",
              "        \n",
              "        font-weight: 400;\n",
              "    }\n",
              "\n",
              "</style>\n",
              " <span class=\"spark-nlp-display-entity-wrapper\" style=\"background-color: #A72384\"><span class=\"spark-nlp-display-entity-name\">Serviceplan </span><span class=\"spark-nlp-display-entity-type\">ORGANIZATION_COMPANY</span></span><span class=\"spark-nlp-display-others\" style=\"background-color: white\"> verteidigt die spitzenposition </span><span class=\"spark-nlp-display-entity-wrapper\" style=\"background-color: #A72384\"><span class=\"spark-nlp-display-entity-name\">publips </span><span class=\"spark-nlp-display-entity-type\">ORGANIZATION_COMPANY</span></span><span class=\"spark-nlp-display-others\" style=\"background-color: white\"> ist a den standorten </span><span class=\"spark-nlp-display-entity-wrapper\" style=\"background-color: #6021C5\"><span class=\"spark-nlp-display-entity-name\">madrid </span><span class=\"spark-nlp-display-entity-type\">LOCATION_CITY</span></span><span class=\"spark-nlp-display-others\" style=\"background-color: white\"> und </span><span class=\"spark-nlp-display-entity-wrapper\" style=\"background-color: #6021C5\"><span class=\"spark-nlp-display-entity-name\">valencia </span><span class=\"spark-nlp-display-entity-type\">LOCATION_CITY</span></span><span class=\"spark-nlp-display-others\" style=\"background-color: white\"> vertreten und beschäftigt insgesamt </span><span class=\"spark-nlp-display-entity-wrapper\" style=\"background-color: #461FA3\"><span class=\"spark-nlp-display-entity-name\">60 </span><span class=\"spark-nlp-display-entity-type\">NUMBER</span></span><span class=\"spark-nlp-display-others\" style=\"background-color: white\"> mitarbeiter. In </span><span class=\"spark-nlp-display-entity-wrapper\" style=\"background-color: #6021C5\"><span class=\"spark-nlp-display-entity-name\">madrid </span><span class=\"spark-nlp-display-entity-type\">LOCATION_CITY</span></span><span class=\"spark-nlp-display-others\" style=\"background-color: white\"> soll langfristig auch ein haus der kommunikation mit den </span><span class=\"spark-nlp-display-entity-wrapper\" style=\"background-color: #461FA3\"><span class=\"spark-nlp-display-entity-name\">drei </span><span class=\"spark-nlp-display-entity-type\">NUMBER</span></span><span class=\"spark-nlp-display-others\" style=\"background-color: white\"> marken serviceplan, plan.net und mediaplus entstehen. Angaben zum kaufpreis und zum honorarvolumen der neuen agentur machen die verantwortlichen nicht. Zu den kunden von </span><span class=\"spark-nlp-display-entity-wrapper\" style=\"background-color: #A72384\"><span class=\"spark-nlp-display-entity-name\">publips </span><span class=\"spark-nlp-display-entity-type\">ORGANIZATION_COMPANY</span></span><span class=\"spark-nlp-display-others\" style=\"background-color: white\"> gehören die unternehmen </span><span class=\"spark-nlp-display-entity-wrapper\" style=\"background-color: #A72384\"><span class=\"spark-nlp-display-entity-name\">ikea, </span><span class=\"spark-nlp-display-entity-type\">ORGANIZATION_COMPANY</span></span><span class=\"spark-nlp-display-others\" style=\"background-color: white\"> </span><span class=\"spark-nlp-display-entity-wrapper\" style=\"background-color: #A72384\"><span class=\"spark-nlp-display-entity-name\">amstel, </span><span class=\"spark-nlp-display-entity-type\">ORGANIZATION_COMPANY</span></span><span class=\"spark-nlp-display-others\" style=\"background-color: white\"> </span><span class=\"spark-nlp-display-entity-wrapper\" style=\"background-color: #A72384\"><span class=\"spark-nlp-display-entity-name\">makro </span><span class=\"spark-nlp-display-entity-type\">ORGANIZATION_COMPANY</span></span><span class=\"spark-nlp-display-others\" style=\"background-color: white\"> und </span><span class=\"spark-nlp-display-entity-wrapper\" style=\"background-color: #A72384\"><span class=\"spark-nlp-display-entity-name\">jack & jones. </span><span class=\"spark-nlp-display-entity-type\">ORGANIZATION_COMPANY</span></span><span class=\"spark-nlp-display-others\" style=\"background-color: white\"> für </span><span class=\"spark-nlp-display-entity-wrapper\" style=\"background-color: #A72384\"><span class=\"spark-nlp-display-entity-name\">metro / makro </span><span class=\"spark-nlp-display-entity-type\">ORGANIZATION_COMPANY</span></span><span class=\"spark-nlp-display-others\" style=\"background-color: white\"> und </span><span class=\"spark-nlp-display-entity-wrapper\" style=\"background-color: #A72384\"><span class=\"spark-nlp-display-entity-name\">bahlsen </span><span class=\"spark-nlp-display-entity-type\">ORGANIZATION_COMPANY</span></span><span class=\"spark-nlp-display-others\" style=\"background-color: white\"> wurden bereits </span><span class=\"spark-nlp-display-entity-wrapper\" style=\"background-color: #461FA3\"><span class=\"spark-nlp-display-entity-name\">erste </span><span class=\"spark-nlp-display-entity-type\">NUMBER</span></span><span class=\"spark-nlp-display-others\" style=\"background-color: white\"> projekte zusammen mit der </span><span class=\"spark-nlp-display-entity-wrapper\" style=\"background-color: #A72384\"><span class=\"spark-nlp-display-entity-name\">serviceplan - gruppe </span><span class=\"spark-nlp-display-entity-type\">ORGANIZATION_COMPANY</span></span><span class=\"spark-nlp-display-others\" style=\"background-color: white\"> realisiert. gegenüber anderen </span><span class=\"spark-nlp-display-entity-wrapper\" style=\"background-color: #C3392E\"><span class=\"spark-nlp-display-entity-name\">spanischen </span><span class=\"spark-nlp-display-entity-type\">LOCATION</span></span><span class=\"spark-nlp-display-others\" style=\"background-color: white\"> agenturen dieser größe weist </span><span class=\"spark-nlp-display-entity-wrapper\" style=\"background-color: #A72384\"><span class=\"spark-nlp-display-entity-name\">publips </span><span class=\"spark-nlp-display-entity-type\">ORGANIZATION_COMPANY</span></span><span class=\"spark-nlp-display-others\" style=\"background-color: white\"> eine besonderheit auf: die von </span><span class=\"spark-nlp-display-entity-wrapper\" style=\"background-color: #1F2598\"><span class=\"spark-nlp-display-entity-name\">luis piquer </span><span class=\"spark-nlp-display-entity-type\">PERSON</span></span><span class=\"spark-nlp-display-others\" style=\"background-color: white\"> geführte firma verfügt über ein eigenes regionales netzwerk mit standorten auf den </span><span class=\"spark-nlp-display-entity-wrapper\" style=\"background-color: #C3392E\"><span class=\"spark-nlp-display-entity-name\">balearen </span><span class=\"spark-nlp-display-entity-type\">LOCATION</span></span><span class=\"spark-nlp-display-others\" style=\"background-color: white\"> und </span><span class=\"spark-nlp-display-entity-wrapper\" style=\"background-color: #C3392E\"><span class=\"spark-nlp-display-entity-name\">kanaren, </span><span class=\"spark-nlp-display-entity-type\">LOCATION</span></span><span class=\"spark-nlp-display-others\" style=\"background-color: white\"> in </span><span class=\"spark-nlp-display-entity-wrapper\" style=\"background-color: #C3392E\"><span class=\"spark-nlp-display-entity-name\">katalonien </span><span class=\"spark-nlp-display-entity-type\">LOCATION</span></span><span class=\"spark-nlp-display-others\" style=\"background-color: white\"> sowie in </span><span class=\"spark-nlp-display-entity-wrapper\" style=\"background-color: #C3392E\"><span class=\"spark-nlp-display-entity-name\">andalusien </span><span class=\"spark-nlp-display-entity-type\">LOCATION</span></span><span class=\"spark-nlp-display-others\" style=\"background-color: white\">. regionale aussteuerung ist in </span><span class=\"spark-nlp-display-entity-wrapper\" style=\"background-color: #C3392E\"><span class=\"spark-nlp-display-entity-name\">spanien </span><span class=\"spark-nlp-display-entity-type\">LOCATION</span></span><span class=\"spark-nlp-display-others\" style=\"background-color: white\"> sehr wichtig, erläutert </span><span class=\"spark-nlp-display-entity-wrapper\" style=\"background-color: #1F2598\"><span class=\"spark-nlp-display-entity-name\">markus noder </span><span class=\"spark-nlp-display-entity-type\">PERSON</span></span><span class=\"spark-nlp-display-others\" style=\"background-color: white\">, geschäftsführer bei </span><span class=\"spark-nlp-display-entity-wrapper\" style=\"background-color: #A72384\"><span class=\"spark-nlp-display-entity-name\">serviceplan international </span><span class=\"spark-nlp-display-entity-type\">ORGANIZATION_COMPANY</span></span><span class=\"spark-nlp-display-others\" style=\"background-color: white\">, dies.</span></div>"
            ]
          },
          "metadata": {}
        },
        {
          "output_type": "stream",
          "name": "stdout",
          "text": [
            "\n",
            "\n",
            " ********************************************************************************************************************************************************************************************************\n",
            "\n",
            " a92 deggendorf richtung münchen zwischen altdorf und moosburg - nord 5 km stockender verkehr ...\n",
            "\n",
            "\n"
          ]
        },
        {
          "output_type": "display_data",
          "data": {
            "text/plain": [
              "<IPython.core.display.HTML object>"
            ],
            "text/html": [
              "\n",
              "<style>\n",
              "    @import url('https://fonts.googleapis.com/css2?family=Montserrat:wght@300;400;500;600;700&display=swap');\n",
              "    @import url('https://fonts.googleapis.com/css2?family=Vistol Regular:wght@300;400;500;600;700&display=swap');\n",
              "    \n",
              "    .spark-nlp-display-scroll-entities {\n",
              "        border: 1px solid #E7EDF0;\n",
              "        border-radius: 3px;\n",
              "        text-align: justify;\n",
              "        \n",
              "    }\n",
              "    .spark-nlp-display-scroll-entities span {  \n",
              "        font-size: 14px;\n",
              "        line-height: 24px;\n",
              "        color: #536B76;\n",
              "        font-family: 'Montserrat', sans-serif !important;\n",
              "    }\n",
              "    \n",
              "    .spark-nlp-display-entity-wrapper{\n",
              "    \n",
              "        display: inline-grid;\n",
              "        text-align: center;\n",
              "        border-radius: 4px;\n",
              "        margin: 0 2px 5px 2px;\n",
              "        padding: 1px\n",
              "    }\n",
              "    .spark-nlp-display-entity-name{\n",
              "        font-size: 14px;\n",
              "        line-height: 24px;\n",
              "        font-family: 'Montserrat', sans-serif !important;\n",
              "        \n",
              "        background: #f1f2f3;\n",
              "        border-width: medium;\n",
              "        text-align: center;\n",
              "        \n",
              "        font-weight: 400;\n",
              "        \n",
              "        border-radius: 5px;\n",
              "        padding: 2px 5px;\n",
              "        display: block;\n",
              "        margin: 3px 2px;\n",
              "    \n",
              "    }\n",
              "    .spark-nlp-display-entity-type{\n",
              "        font-size: 14px;\n",
              "        line-height: 24px;\n",
              "        color: #ffffff;\n",
              "        font-family: 'Montserrat', sans-serif !important;\n",
              "        \n",
              "        text-transform: uppercase;\n",
              "        \n",
              "        font-weight: 500;\n",
              "\n",
              "        display: block;\n",
              "        padding: 3px 5px;\n",
              "    }\n",
              "    \n",
              "    .spark-nlp-display-entity-resolution{\n",
              "        font-size: 14px;\n",
              "        line-height: 24px;\n",
              "        color: #ffffff;\n",
              "        font-family: 'Vistol Regular', sans-serif !important;\n",
              "        \n",
              "        text-transform: uppercase;\n",
              "        \n",
              "        font-weight: 500;\n",
              "\n",
              "        display: block;\n",
              "        padding: 3px 5px;\n",
              "    }\n",
              "    \n",
              "    .spark-nlp-display-others{\n",
              "        font-size: 14px;\n",
              "        line-height: 24px;\n",
              "        font-family: 'Montserrat', sans-serif !important;\n",
              "        \n",
              "        font-weight: 400;\n",
              "    }\n",
              "\n",
              "</style>\n",
              " <span class=\"spark-nlp-display-entity-wrapper\" style=\"background-color: #39C040\"><span class=\"spark-nlp-display-entity-name\">a92 </span><span class=\"spark-nlp-display-entity-type\">LOCATION_STREET</span></span><span class=\"spark-nlp-display-others\" style=\"background-color: white\"> </span><span class=\"spark-nlp-display-entity-wrapper\" style=\"background-color: #5B47B6\"><span class=\"spark-nlp-display-entity-name\">deggendorf </span><span class=\"spark-nlp-display-entity-type\">LOCATION_CITY</span></span><span class=\"spark-nlp-display-others\" style=\"background-color: white\"> richtung </span><span class=\"spark-nlp-display-entity-wrapper\" style=\"background-color: #5B47B6\"><span class=\"spark-nlp-display-entity-name\">münchen </span><span class=\"spark-nlp-display-entity-type\">LOCATION_CITY</span></span><span class=\"spark-nlp-display-others\" style=\"background-color: white\"> zwischen </span><span class=\"spark-nlp-display-entity-wrapper\" style=\"background-color: #6B055F\"><span class=\"spark-nlp-display-entity-name\">altdorf </span><span class=\"spark-nlp-display-entity-type\">LOCATION</span></span><span class=\"spark-nlp-display-others\" style=\"background-color: white\"> und </span><span class=\"spark-nlp-display-entity-wrapper\" style=\"background-color: #6B055F\"><span class=\"spark-nlp-display-entity-name\">moosburg - nord </span><span class=\"spark-nlp-display-entity-type\">LOCATION</span></span><span class=\"spark-nlp-display-others\" style=\"background-color: white\"> </span><span class=\"spark-nlp-display-entity-wrapper\" style=\"background-color: #378C83\"><span class=\"spark-nlp-display-entity-name\">5 km </span><span class=\"spark-nlp-display-entity-type\">DISTANCE</span></span><span class=\"spark-nlp-display-others\" style=\"background-color: white\"> </span><span class=\"spark-nlp-display-entity-wrapper\" style=\"background-color: #748EA2\"><span class=\"spark-nlp-display-entity-name\">stockender verkehr </span><span class=\"spark-nlp-display-entity-type\">TRIGGER</span></span></div>"
            ]
          },
          "metadata": {}
        },
        {
          "output_type": "stream",
          "name": "stdout",
          "text": [
            "\n",
            "\n",
            " ********************************************************************************************************************************************************************************************************\n",
            "\n",
            " großartig, jetzt schon 15 min. verspätung - und es wird noch ein außerplanmäßiger halt eingeplant. soviel zu früher nachhause. #sbb ...\n",
            "\n",
            "\n"
          ]
        },
        {
          "output_type": "display_data",
          "data": {
            "text/plain": [
              "<IPython.core.display.HTML object>"
            ],
            "text/html": [
              "\n",
              "<style>\n",
              "    @import url('https://fonts.googleapis.com/css2?family=Montserrat:wght@300;400;500;600;700&display=swap');\n",
              "    @import url('https://fonts.googleapis.com/css2?family=Vistol Regular:wght@300;400;500;600;700&display=swap');\n",
              "    \n",
              "    .spark-nlp-display-scroll-entities {\n",
              "        border: 1px solid #E7EDF0;\n",
              "        border-radius: 3px;\n",
              "        text-align: justify;\n",
              "        \n",
              "    }\n",
              "    .spark-nlp-display-scroll-entities span {  \n",
              "        font-size: 14px;\n",
              "        line-height: 24px;\n",
              "        color: #536B76;\n",
              "        font-family: 'Montserrat', sans-serif !important;\n",
              "    }\n",
              "    \n",
              "    .spark-nlp-display-entity-wrapper{\n",
              "    \n",
              "        display: inline-grid;\n",
              "        text-align: center;\n",
              "        border-radius: 4px;\n",
              "        margin: 0 2px 5px 2px;\n",
              "        padding: 1px\n",
              "    }\n",
              "    .spark-nlp-display-entity-name{\n",
              "        font-size: 14px;\n",
              "        line-height: 24px;\n",
              "        font-family: 'Montserrat', sans-serif !important;\n",
              "        \n",
              "        background: #f1f2f3;\n",
              "        border-width: medium;\n",
              "        text-align: center;\n",
              "        \n",
              "        font-weight: 400;\n",
              "        \n",
              "        border-radius: 5px;\n",
              "        padding: 2px 5px;\n",
              "        display: block;\n",
              "        margin: 3px 2px;\n",
              "    \n",
              "    }\n",
              "    .spark-nlp-display-entity-type{\n",
              "        font-size: 14px;\n",
              "        line-height: 24px;\n",
              "        color: #ffffff;\n",
              "        font-family: 'Montserrat', sans-serif !important;\n",
              "        \n",
              "        text-transform: uppercase;\n",
              "        \n",
              "        font-weight: 500;\n",
              "\n",
              "        display: block;\n",
              "        padding: 3px 5px;\n",
              "    }\n",
              "    \n",
              "    .spark-nlp-display-entity-resolution{\n",
              "        font-size: 14px;\n",
              "        line-height: 24px;\n",
              "        color: #ffffff;\n",
              "        font-family: 'Vistol Regular', sans-serif !important;\n",
              "        \n",
              "        text-transform: uppercase;\n",
              "        \n",
              "        font-weight: 500;\n",
              "\n",
              "        display: block;\n",
              "        padding: 3px 5px;\n",
              "    }\n",
              "    \n",
              "    .spark-nlp-display-others{\n",
              "        font-size: 14px;\n",
              "        line-height: 24px;\n",
              "        font-family: 'Montserrat', sans-serif !important;\n",
              "        \n",
              "        font-weight: 400;\n",
              "    }\n",
              "\n",
              "</style>\n",
              " <span class=\"spark-nlp-display-others\" style=\"background-color: white\">großartig, jetzt schon </span><span class=\"spark-nlp-display-entity-wrapper\" style=\"background-color: #25816A\"><span class=\"spark-nlp-display-entity-name\">15 min. </span><span class=\"spark-nlp-display-entity-type\">DURATION</span></span><span class=\"spark-nlp-display-others\" style=\"background-color: white\"> verspätung - und es wird noch ein außerplanmäßiger halt eingeplant. soviel zu früher nachhause. </span><span class=\"spark-nlp-display-entity-wrapper\" style=\"background-color: #8E1F0D\"><span class=\"spark-nlp-display-entity-name\">#sbb </span><span class=\"spark-nlp-display-entity-type\">ORGANIZATION_COMPANY</span></span></div>"
            ]
          },
          "metadata": {}
        },
        {
          "output_type": "stream",
          "name": "stdout",
          "text": [
            "\n",
            "\n",
            " ********************************************************************************************************************************************************************************************************\n",
            "\n",
            " Karlsruhe richtung stuttgart zwischen leonberg - west und dreieck leonberg gegenstände auf der fahrbahn -lrb- ein reifenmantel -rrb- ...\n",
            "\n",
            "\n"
          ]
        },
        {
          "output_type": "display_data",
          "data": {
            "text/plain": [
              "<IPython.core.display.HTML object>"
            ],
            "text/html": [
              "\n",
              "<style>\n",
              "    @import url('https://fonts.googleapis.com/css2?family=Montserrat:wght@300;400;500;600;700&display=swap');\n",
              "    @import url('https://fonts.googleapis.com/css2?family=Vistol Regular:wght@300;400;500;600;700&display=swap');\n",
              "    \n",
              "    .spark-nlp-display-scroll-entities {\n",
              "        border: 1px solid #E7EDF0;\n",
              "        border-radius: 3px;\n",
              "        text-align: justify;\n",
              "        \n",
              "    }\n",
              "    .spark-nlp-display-scroll-entities span {  \n",
              "        font-size: 14px;\n",
              "        line-height: 24px;\n",
              "        color: #536B76;\n",
              "        font-family: 'Montserrat', sans-serif !important;\n",
              "    }\n",
              "    \n",
              "    .spark-nlp-display-entity-wrapper{\n",
              "    \n",
              "        display: inline-grid;\n",
              "        text-align: center;\n",
              "        border-radius: 4px;\n",
              "        margin: 0 2px 5px 2px;\n",
              "        padding: 1px\n",
              "    }\n",
              "    .spark-nlp-display-entity-name{\n",
              "        font-size: 14px;\n",
              "        line-height: 24px;\n",
              "        font-family: 'Montserrat', sans-serif !important;\n",
              "        \n",
              "        background: #f1f2f3;\n",
              "        border-width: medium;\n",
              "        text-align: center;\n",
              "        \n",
              "        font-weight: 400;\n",
              "        \n",
              "        border-radius: 5px;\n",
              "        padding: 2px 5px;\n",
              "        display: block;\n",
              "        margin: 3px 2px;\n",
              "    \n",
              "    }\n",
              "    .spark-nlp-display-entity-type{\n",
              "        font-size: 14px;\n",
              "        line-height: 24px;\n",
              "        color: #ffffff;\n",
              "        font-family: 'Montserrat', sans-serif !important;\n",
              "        \n",
              "        text-transform: uppercase;\n",
              "        \n",
              "        font-weight: 500;\n",
              "\n",
              "        display: block;\n",
              "        padding: 3px 5px;\n",
              "    }\n",
              "    \n",
              "    .spark-nlp-display-entity-resolution{\n",
              "        font-size: 14px;\n",
              "        line-height: 24px;\n",
              "        color: #ffffff;\n",
              "        font-family: 'Vistol Regular', sans-serif !important;\n",
              "        \n",
              "        text-transform: uppercase;\n",
              "        \n",
              "        font-weight: 500;\n",
              "\n",
              "        display: block;\n",
              "        padding: 3px 5px;\n",
              "    }\n",
              "    \n",
              "    .spark-nlp-display-others{\n",
              "        font-size: 14px;\n",
              "        line-height: 24px;\n",
              "        font-family: 'Montserrat', sans-serif !important;\n",
              "        \n",
              "        font-weight: 400;\n",
              "    }\n",
              "\n",
              "</style>\n",
              " <span class=\"spark-nlp-display-entity-wrapper\" style=\"background-color: #7E3D8E\"><span class=\"spark-nlp-display-entity-name\">Karlsruhe </span><span class=\"spark-nlp-display-entity-type\">LOCATION_CITY</span></span><span class=\"spark-nlp-display-others\" style=\"background-color: white\"> richtung </span><span class=\"spark-nlp-display-entity-wrapper\" style=\"background-color: #7E3D8E\"><span class=\"spark-nlp-display-entity-name\">stuttgart </span><span class=\"spark-nlp-display-entity-type\">LOCATION_CITY</span></span><span class=\"spark-nlp-display-others\" style=\"background-color: white\"> zwischen </span><span class=\"spark-nlp-display-entity-wrapper\" style=\"background-color: #0F005E\"><span class=\"spark-nlp-display-entity-name\">leonberg - west </span><span class=\"spark-nlp-display-entity-type\">LOCATION</span></span><span class=\"spark-nlp-display-others\" style=\"background-color: white\"> und </span><span class=\"spark-nlp-display-entity-wrapper\" style=\"background-color: #0F005E\"><span class=\"spark-nlp-display-entity-name\">dreieck leonberg </span><span class=\"spark-nlp-display-entity-type\">LOCATION</span></span><span class=\"spark-nlp-display-others\" style=\"background-color: white\"> gegenstände auf der fahrbahn -lrb- ein </span><span class=\"spark-nlp-display-entity-wrapper\" style=\"background-color: #9E452B\"><span class=\"spark-nlp-display-entity-name\">reifenmantel -rrb </span><span class=\"spark-nlp-display-entity-type\">ORGANIZATION_COMPANY</span></span><span class=\"spark-nlp-display-others\" style=\"background-color: white\">-</span></div>"
            ]
          },
          "metadata": {}
        }
      ]
    }
  ],
  "metadata": {
    "colab": {
      "collapsed_sections": [],
      "name": "NER_TRAFFIC_DE.ipynb",
      "provenance": []
    },
    "kernelspec": {
      "display_name": "Python 3",
      "name": "python3"
    },
    "language_info": {
      "codemirror_mode": {
        "name": "ipython",
        "version": 3
      },
      "file_extension": ".py",
      "mimetype": "text/x-python",
      "name": "python",
      "nbconvert_exporter": "python",
      "pygments_lexer": "ipython3",
      "version": "3.6.10"
    }
  },
  "nbformat": 4,
  "nbformat_minor": 0
}
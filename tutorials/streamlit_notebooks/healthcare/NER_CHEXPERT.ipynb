{
  "nbformat": 4,
  "nbformat_minor": 0,
  "metadata": {
    "colab": {
      "name": "NER_CHEXPERT.ipynb",
      "provenance": [],
      "collapsed_sections": []
    },
    "kernelspec": {
      "name": "python3",
      "display_name": "Python 3"
    },
    "language_info": {
      "name": "python"
    }
  },
  "cells": [
    {
      "cell_type": "markdown",
      "source": [
        "![JohnSnowLabs](https://nlp.johnsnowlabs.com/assets/images/logo.png)\n",
        "\n",
        "[![Open In Colab](https://colab.research.google.com/assets/colab-badge.svg)](https://colab.research.google.com/github/JohnSnowLabs/spark-nlp-workshop/blob/master/tutorials/streamlit_notebooks/healthcare/NER_CHEXPERT.ipynb)"
      ],
      "metadata": {
        "id": "wWLwNF4iITCn"
      }
    },
    {
      "cell_type": "markdown",
      "source": [
        "# `NER_CHEMD` **Models**\n",
        "\n",
        "This model extracts `Anatomical` and `Observation` entities from Chest Radiology Reports."
      ],
      "metadata": {
        "id": "rIVVRWlyIaPW"
      }
    },
    {
      "cell_type": "markdown",
      "source": [
        "## 1. Colab Setup"
      ],
      "metadata": {
        "id": "Xa2MP5N2EyAN"
      }
    },
    {
      "cell_type": "markdown",
      "source": [
        "**Import license keys**"
      ],
      "metadata": {
        "id": "meFLU3CTE2S9"
      }
    },
    {
      "cell_type": "code",
      "execution_count": null,
      "metadata": {
        "id": "dnJ9X-mbEOMr"
      },
      "outputs": [],
      "source": [
        "import json\n",
        "import os\n",
        "\n",
        "from google.colab import files\n",
        "\n",
        "license_keys = files.upload()\n",
        "\n",
        "with open(list(license_keys.keys())[0]) as f:\n",
        "    license_keys = json.load(f)\n",
        "\n",
        "# Defining license key-value pairs as local variables\n",
        "locals().update(license_keys)\n",
        "\n",
        "# Adding license key-value pairs to environment variables\n",
        "os.environ.update(license_keys)"
      ]
    },
    {
      "cell_type": "markdown",
      "source": [
        "**Install dependencies**"
      ],
      "metadata": {
        "id": "MpFCD_gTFcyx"
      }
    },
    {
      "cell_type": "code",
      "source": [
        "# Installing pyspark and spark-nlp\n",
        "! pip install --upgrade -q pyspark==3.1.2 spark-nlp==$PUBLIC_VERSION\n",
        "\n",
        "# Installing Spark NLP Healthcare\n",
        "! pip install --upgrade -q spark-nlp-jsl==$JSL_VERSION  --extra-index-url https://pypi.johnsnowlabs.com/$SECRET\n",
        "\n",
        "# Installing Spark NLP Display Library for visualization\n",
        "! pip install -q spark-nlp-display"
      ],
      "metadata": {
        "id": "qeg3QosiFf5u"
      },
      "execution_count": null,
      "outputs": []
    },
    {
      "cell_type": "markdown",
      "source": [
        "## 2. Start Spark Session"
      ],
      "metadata": {
        "id": "WcrI5WVvGDvP"
      }
    },
    {
      "cell_type": "markdown",
      "source": [
        "**Import dependencies into Python and start the Spark session**"
      ],
      "metadata": {
        "id": "bEYvJIDaFxuM"
      }
    },
    {
      "cell_type": "code",
      "source": [
        "# Import sparknlp & sparknlp_jsl packages\n",
        "import sparknlp\n",
        "import sparknlp_jsl\n",
        "\n",
        "from sparknlp.base import *\n",
        "from sparknlp.common import *\n",
        "from sparknlp.annotator import *\n",
        "from sparknlp_jsl.annotator import *\n",
        "\n",
        "# Import Pyspark packages\n",
        "from pyspark.sql import SparkSession\n",
        "from pyspark.sql import functions as F \n",
        "from pyspark.ml import Pipeline, PipelineModel\n",
        "\n",
        "import pandas as pd\n",
        "import numpy as np \n",
        "\n",
        "spark = sparknlp_jsl.start(license_keys['SECRET'])\n",
        "\n",
        "print (\"Spark NLP Version :\", sparknlp.version())\n",
        "print (\"Spark NLP_JSL Version :\", sparknlp_jsl.version())\n",
        "\n",
        "spark"
      ],
      "metadata": {
        "colab": {
          "base_uri": "https://localhost:8080/",
          "height": 254
        },
        "id": "uh5IkMSuFwH0",
        "outputId": "a2f42174-c7ac-4a4c-d92d-a9f9bb3acd85"
      },
      "execution_count": 3,
      "outputs": [
        {
          "output_type": "stream",
          "name": "stdout",
          "text": [
            "Spark NLP Version : 3.4.4\n",
            "Spark NLP_JSL Version : 3.5.2\n"
          ]
        },
        {
          "output_type": "execute_result",
          "data": {
            "text/plain": [
              "<pyspark.sql.session.SparkSession at 0x7f1504d85610>"
            ],
            "text/html": [
              "\n",
              "            <div>\n",
              "                <p><b>SparkSession - in-memory</b></p>\n",
              "                \n",
              "        <div>\n",
              "            <p><b>SparkContext</b></p>\n",
              "\n",
              "            <p><a href=\"http://e8221faef91e:4040\">Spark UI</a></p>\n",
              "\n",
              "            <dl>\n",
              "              <dt>Version</dt>\n",
              "                <dd><code>v3.1.2</code></dd>\n",
              "              <dt>Master</dt>\n",
              "                <dd><code>local[*]</code></dd>\n",
              "              <dt>AppName</dt>\n",
              "                <dd><code>Spark NLP Licensed</code></dd>\n",
              "            </dl>\n",
              "        </div>\n",
              "        \n",
              "            </div>\n",
              "        "
            ]
          },
          "metadata": {},
          "execution_count": 3
        }
      ]
    },
    {
      "cell_type": "markdown",
      "source": [
        "## 3. Select the model and construct the pipeline"
      ],
      "metadata": {
        "id": "6unD_Wi4GHA2"
      }
    },
    {
      "cell_type": "markdown",
      "source": [
        "**Create the pipeline**"
      ],
      "metadata": {
        "id": "6890ej79GVJl"
      }
    },
    {
      "cell_type": "code",
      "source": [
        "document_assembler = DocumentAssembler()\\\n",
        "      .setInputCol(\"text\")\\\n",
        "      .setOutputCol(\"document\")\n",
        "\n",
        "sentenceDetector = SentenceDetectorDLModel.pretrained() \\\n",
        "      .setInputCols([\"document\"]) \\\n",
        "      .setOutputCol(\"sentence\") \n",
        "\n",
        "tokenizer = Tokenizer()\\\n",
        "      .setInputCols([\"sentence\"])\\\n",
        "      .setOutputCol(\"token\")\n",
        "\n",
        "\n",
        "word_embeddings = WordEmbeddingsModel.pretrained(\"embeddings_clinical\", \"en\", \"clinical/models\")\\\n",
        "      .setInputCols([\"sentence\", \"token\"])\\\n",
        "      .setOutputCol(\"word_embeddings\")\n",
        "\n",
        "clinical_ner = MedicalNerModel.pretrained(\"ner_chexpert\", \"en\", \"clinical/models\") \\\n",
        "      .setInputCols([\"sentence\", \"token\", \"word_embeddings\"]) \\\n",
        "      .setOutputCol(\"ner\")\n",
        "\n",
        "ner_converter = NerConverterInternal() \\\n",
        "      .setInputCols([\"sentence\", \"token\", \"ner\"]) \\\n",
        "      .setOutputCol(\"ner_chunk\")\\\n",
        "      .setGreedyMode(True)\n",
        "\n",
        "nlpPipeline = Pipeline(\n",
        "    stages = [\n",
        "        document_assembler,\n",
        "        sentenceDetector,\n",
        "        tokenizer,\n",
        "        word_embeddings,\n",
        "        clinical_ner,\n",
        "        ner_converter,\n",
        "  ])\n",
        "\n",
        "empty_data = spark.createDataFrame([[\"\"]]).toDF(\"text\")\n",
        "\n",
        "model = nlpPipeline.fit(empty_data)"
      ],
      "metadata": {
        "colab": {
          "base_uri": "https://localhost:8080/"
        },
        "id": "Vjo9u1N1Ga1W",
        "outputId": "fdc54d0f-370d-4799-c894-a872c311ab7f"
      },
      "execution_count": 18,
      "outputs": [
        {
          "output_type": "stream",
          "name": "stdout",
          "text": [
            "sentence_detector_dl download started this may take some time.\n",
            "Approximate size to download 354.6 KB\n",
            "[OK!]\n",
            "embeddings_clinical download started this may take some time.\n",
            "Approximate size to download 1.6 GB\n",
            "[OK!]\n",
            "ner_chexpert download started this may take some time.\n",
            "[OK!]\n"
          ]
        }
      ]
    },
    {
      "cell_type": "markdown",
      "source": [
        "## 4. Create example inputs"
      ],
      "metadata": {
        "id": "K4CxF3U7HsCX"
      }
    },
    {
      "cell_type": "code",
      "source": [
        "sample_text = [\"\"\"FINAL REPORT HISTORY : Chest tube leak , to assess for pneumothorax . \n",
        "FINDINGS : In comparison with study of ___ , the endotracheal tube and Swan - Ganz catheter have been removed . Chest-tube remains in place and there is no evidence of pneumothorax. Mild atelectatic changes are seen at the left base.\"\"\",\n",
        "\n",
        "\"\"\"FINAL REPORT EXAMINATION: CHEST ( PORTABLE AP ).\n",
        "INDICATION : _ year old woman with SAH / / Fever workup Fever workup. \n",
        "IMPRESSION : Compared to chest radiographs _. Lungs are clear . Normal cardiomediastinal and hilar silhouettes and pleural surfaces .\"\"\",\n",
        "\n",
        "\"\"\"FINAL REPORT EXAMINATION : CHEST ( PORTABLE AP ). \n",
        "INDICATION : _ year old woman with OGT / / OGT placement OGT placement. \n",
        "IMPRESSION : In comparison with the earlier study of this date , the nasogastric tube is been pushed forward so that it extends at least to the mid portion of the body stomach were crosses the lower margin of the image . Side - port is definitely distal to the esophagogastric junction . Otherwise little change .\"\"\",\n",
        "\n",
        "\"\"\"TECHNIQUE : Chest PA and lateral.\n",
        "FINAL REPORT INDICATION : _ year old woman with OGT / / OGT placement  \n",
        "COMPARISON : Chest radiograph from _ from earlier today. \n",
        "FINDINGS : The lung volumes are stable . The mediastinal and hilar contours are normal . The pleural surfaces are normal . The ET tube terminates approximately 4.3cm from the carina . The NG tube is still malpositioned and is located closer to the distal esophagus / esophagogastric junction . \n",
        "IMPRESSION : ET tube is in appropriate position . The enteric tube is still malpositioned and should be advanced approximately 12 cm .\"\"\",\n",
        "\n",
        "\"\"\"FINAL REPORT EXAMINATION : CHEST ( PORTABLE AP ) \n",
        "INDICATION : _ year old woman with SAH in ICU . / / Interval pulm changes Interval pulm changes. \n",
        "IMPRESSION : In comparison with the study of _ , No evidence of acute cardiopulmonary-disease . No pneumonia , vascular-congestion , or pleural-effusion . _ sixth\"\"\",\n",
        "\n",
        "\"\"\"FINAL REPORT INDICATION : _ year old woman with SAH , intubated / / serial exam. \n",
        "TECHNIQUE : Chest PA and lateral COMPARISON : Chest radiograph from _ .\n",
        "FINDINGS : The lung volumes are stable . The cardiomediastinal and hilar contours are normal . The pleural surfaces are normal . The ET tube terminates approximately 1.8cm from the carina . The NG tube appears to be closer to the esophagogastric junction or scarcely in the proximal stomach and the side ports are approximately 12cm from the mid stomach . \n",
        "IMPRESSION : ET tube is closer to the carina and should be withdrawn approximately 3 cm . NG tube is malpositioned and should be advanced approximately 12cm .\"\"\"\n",
        "]"
      ],
      "metadata": {
        "id": "jZ8GQHOgHibp"
      },
      "execution_count": 19,
      "outputs": []
    },
    {
      "cell_type": "code",
      "source": [
        "from pyspark.sql.types import StringType, IntegerType\n",
        "\n",
        "df = spark.createDataFrame(sample_text,StringType()).toDF('text')\n",
        "\n",
        "df.show(truncate = 100)"
      ],
      "metadata": {
        "colab": {
          "base_uri": "https://localhost:8080/"
        },
        "id": "qvCvj1hBI_09",
        "outputId": "3ac6e764-0c6b-4c2b-8950-2799229ce94f"
      },
      "execution_count": 20,
      "outputs": [
        {
          "output_type": "stream",
          "name": "stdout",
          "text": [
            "+----------------------------------------------------------------------------------------------------+\n",
            "|                                                                                                text|\n",
            "+----------------------------------------------------------------------------------------------------+\n",
            "|FINAL REPORT HISTORY : Chest tube leak , to assess for pneumothorax . \n",
            "FINDINGS : In comparison w...|\n",
            "|FINAL REPORT EXAMINATION: CHEST ( PORTABLE AP ).\n",
            "INDICATION : _ year old woman with SAH / / Fever...|\n",
            "|FINAL REPORT EXAMINATION : CHEST ( PORTABLE AP ). \n",
            "INDICATION : _ year old woman with OGT / / OGT...|\n",
            "|TECHNIQUE : Chest PA and lateral.\n",
            "FINAL REPORT INDICATION : _ year old woman with OGT / / OGT pla...|\n",
            "|FINAL REPORT EXAMINATION : CHEST ( PORTABLE AP ) \n",
            "INDICATION : _ year old woman with SAH in ICU ....|\n",
            "|FINAL REPORT INDICATION : _ year old woman with SAH , intubated / / serial exam. \n",
            "TECHNIQUE : Che...|\n",
            "+----------------------------------------------------------------------------------------------------+\n",
            "\n"
          ]
        }
      ]
    },
    {
      "cell_type": "markdown",
      "source": [
        "## 5. Use the pipeline to create outputs"
      ],
      "metadata": {
        "id": "JAJGT8UcH1Q4"
      }
    },
    {
      "cell_type": "code",
      "source": [
        "result = model.transform(df)"
      ],
      "metadata": {
        "id": "d1IOMyFG95dL"
      },
      "execution_count": 21,
      "outputs": []
    },
    {
      "cell_type": "code",
      "source": [
        "result.select(F.explode(F.arrays_zip(\"ner_chunk.result\", \n",
        "                                      \"ner_chunk.begin\", \n",
        "                                      \"ner_chunk.end\",\n",
        "                                      \"ner_chunk.metadata\", )).alias(\"cols\"))\\\n",
        "        .select(F.expr(\"cols['0']\").alias(\"chunk\"),\n",
        "                      F.expr(\"cols['1']\").alias(\"begin\"),\n",
        "                      F.expr(\"cols['2']\").alias(\"end\"),\n",
        "                      F.expr(\"cols['3']['entity']\").alias(\"entity\")).show()"
      ],
      "metadata": {
        "id": "N0zbrDnKIC9z",
        "colab": {
          "base_uri": "https://localhost:8080/"
        },
        "outputId": "278a0c51-94bf-41c1-a378-1f506cc089d0"
      },
      "execution_count": 22,
      "outputs": [
        {
          "output_type": "stream",
          "name": "stdout",
          "text": [
            "+--------------------+-----+---+------+\n",
            "|               chunk|begin|end|entity|\n",
            "+--------------------+-----+---+------+\n",
            "|   endotracheal tube|  120|136|   OBS|\n",
            "|Swan - Ganz catheter|  142|161|   OBS|\n",
            "|          Chest-tube|  183|192|   OBS|\n",
            "|            in place|  202|209|   OBS|\n",
            "|        pneumothorax|  239|250|   OBS|\n",
            "|Mild atelectatic ...|  253|276|   OBS|\n",
            "|           left base|  294|302|  ANAT|\n",
            "|               Lungs|  166|170|  ANAT|\n",
            "|               clear|  176|180|   OBS|\n",
            "|              Normal|  184|189|   OBS|\n",
            "|   cardiomediastinal|  191|207|  ANAT|\n",
            "|   hilar silhouettes|  213|229|  ANAT|\n",
            "|    pleural surfaces|  235|250|  ANAT|\n",
            "|    nasogastric tube|  193|208|   OBS|\n",
            "|         mid portion|  268|278|  ANAT|\n",
            "|        body stomach|  287|298|  ANAT|\n",
            "|lower margin of t...|  317|341|   OBS|\n",
            "|         Side - port|  345|355|   OBS|\n",
            "|              distal|  371|376|  ANAT|\n",
            "|esophagogastric j...|  385|408|  ANAT|\n",
            "+--------------------+-----+---+------+\n",
            "only showing top 20 rows\n",
            "\n"
          ]
        }
      ]
    },
    {
      "cell_type": "markdown",
      "source": [
        "## 6. Visualize results"
      ],
      "metadata": {
        "id": "Ral7MlWELIOX"
      }
    },
    {
      "cell_type": "code",
      "source": [
        "from sparknlp_display import NerVisualizer\n",
        "\n",
        "ner_viz = NerVisualizer()\n",
        "\n",
        "\n",
        "    \n",
        "for j in range(len(sample_text)):\n",
        "    ner_viz.display(result = result.collect()[j], label_col = \"ner_chunk\")\n",
        "    print(\"\\n\\n\")"
      ],
      "metadata": {
        "colab": {
          "base_uri": "https://localhost:8080/",
          "height": 1000
        },
        "id": "Arm5huqwKum8",
        "outputId": "658a262e-e442-4489-8af0-041388b40b3e"
      },
      "execution_count": 23,
      "outputs": [
        {
          "output_type": "display_data",
          "data": {
            "text/plain": [
              "<IPython.core.display.HTML object>"
            ],
            "text/html": [
              "\n",
              "<style>\n",
              "    @import url('https://fonts.googleapis.com/css2?family=Montserrat:wght@300;400;500;600;700&display=swap');\n",
              "    @import url('https://fonts.googleapis.com/css2?family=Vistol Regular:wght@300;400;500;600;700&display=swap');\n",
              "    \n",
              "    .spark-nlp-display-scroll-entities {\n",
              "        border: 1px solid #E7EDF0;\n",
              "        border-radius: 3px;\n",
              "        text-align: justify;\n",
              "        \n",
              "    }\n",
              "    .spark-nlp-display-scroll-entities span {  \n",
              "        font-size: 14px;\n",
              "        line-height: 24px;\n",
              "        color: #536B76;\n",
              "        font-family: 'Montserrat', sans-serif !important;\n",
              "    }\n",
              "    \n",
              "    .spark-nlp-display-entity-wrapper{\n",
              "    \n",
              "        display: inline-grid;\n",
              "        text-align: center;\n",
              "        border-radius: 4px;\n",
              "        margin: 0 2px 5px 2px;\n",
              "        padding: 1px\n",
              "    }\n",
              "    .spark-nlp-display-entity-name{\n",
              "        font-size: 14px;\n",
              "        line-height: 24px;\n",
              "        font-family: 'Montserrat', sans-serif !important;\n",
              "        \n",
              "        background: #f1f2f3;\n",
              "        border-width: medium;\n",
              "        text-align: center;\n",
              "        \n",
              "        font-weight: 400;\n",
              "        \n",
              "        border-radius: 5px;\n",
              "        padding: 2px 5px;\n",
              "        display: block;\n",
              "        margin: 3px 2px;\n",
              "    \n",
              "    }\n",
              "    .spark-nlp-display-entity-type{\n",
              "        font-size: 14px;\n",
              "        line-height: 24px;\n",
              "        color: #ffffff;\n",
              "        font-family: 'Montserrat', sans-serif !important;\n",
              "        \n",
              "        text-transform: uppercase;\n",
              "        \n",
              "        font-weight: 500;\n",
              "\n",
              "        display: block;\n",
              "        padding: 3px 5px;\n",
              "    }\n",
              "    \n",
              "    .spark-nlp-display-entity-resolution{\n",
              "        font-size: 14px;\n",
              "        line-height: 24px;\n",
              "        color: #ffffff;\n",
              "        font-family: 'Vistol Regular', sans-serif !important;\n",
              "        \n",
              "        text-transform: uppercase;\n",
              "        \n",
              "        font-weight: 500;\n",
              "\n",
              "        display: block;\n",
              "        padding: 3px 5px;\n",
              "    }\n",
              "    \n",
              "    .spark-nlp-display-others{\n",
              "        font-size: 14px;\n",
              "        line-height: 24px;\n",
              "        font-family: 'Montserrat', sans-serif !important;\n",
              "        \n",
              "        font-weight: 400;\n",
              "    }\n",
              "\n",
              "</style>\n",
              " <span class=\"spark-nlp-display-others\" style=\"background-color: white\">FINAL REPORT HISTORY : Chest tube leak , to assess for pneumothorax . <br>FINDINGS : In comparison with study of ___ , the </span><span class=\"spark-nlp-display-entity-wrapper\" style=\"background-color: #271046\"><span class=\"spark-nlp-display-entity-name\">endotracheal tube </span><span class=\"spark-nlp-display-entity-type\">OBS</span></span><span class=\"spark-nlp-display-others\" style=\"background-color: white\"> and </span><span class=\"spark-nlp-display-entity-wrapper\" style=\"background-color: #271046\"><span class=\"spark-nlp-display-entity-name\">Swan - Ganz catheter </span><span class=\"spark-nlp-display-entity-type\">OBS</span></span><span class=\"spark-nlp-display-others\" style=\"background-color: white\"> have been removed . </span><span class=\"spark-nlp-display-entity-wrapper\" style=\"background-color: #271046\"><span class=\"spark-nlp-display-entity-name\">Chest-tube </span><span class=\"spark-nlp-display-entity-type\">OBS</span></span><span class=\"spark-nlp-display-others\" style=\"background-color: white\"> remains </span><span class=\"spark-nlp-display-entity-wrapper\" style=\"background-color: #271046\"><span class=\"spark-nlp-display-entity-name\">in place </span><span class=\"spark-nlp-display-entity-type\">OBS</span></span><span class=\"spark-nlp-display-others\" style=\"background-color: white\"> and there is no evidence of </span><span class=\"spark-nlp-display-entity-wrapper\" style=\"background-color: #271046\"><span class=\"spark-nlp-display-entity-name\">pneumothorax </span><span class=\"spark-nlp-display-entity-type\">OBS</span></span><span class=\"spark-nlp-display-others\" style=\"background-color: white\">. </span><span class=\"spark-nlp-display-entity-wrapper\" style=\"background-color: #271046\"><span class=\"spark-nlp-display-entity-name\">Mild atelectatic changes </span><span class=\"spark-nlp-display-entity-type\">OBS</span></span><span class=\"spark-nlp-display-others\" style=\"background-color: white\"> are seen at the </span><span class=\"spark-nlp-display-entity-wrapper\" style=\"background-color: #8D9100\"><span class=\"spark-nlp-display-entity-name\">left base </span><span class=\"spark-nlp-display-entity-type\">ANAT</span></span><span class=\"spark-nlp-display-others\" style=\"background-color: white\">.</span></div>"
            ]
          },
          "metadata": {}
        },
        {
          "output_type": "stream",
          "name": "stdout",
          "text": [
            "\n",
            "\n",
            "\n"
          ]
        },
        {
          "output_type": "display_data",
          "data": {
            "text/plain": [
              "<IPython.core.display.HTML object>"
            ],
            "text/html": [
              "\n",
              "<style>\n",
              "    @import url('https://fonts.googleapis.com/css2?family=Montserrat:wght@300;400;500;600;700&display=swap');\n",
              "    @import url('https://fonts.googleapis.com/css2?family=Vistol Regular:wght@300;400;500;600;700&display=swap');\n",
              "    \n",
              "    .spark-nlp-display-scroll-entities {\n",
              "        border: 1px solid #E7EDF0;\n",
              "        border-radius: 3px;\n",
              "        text-align: justify;\n",
              "        \n",
              "    }\n",
              "    .spark-nlp-display-scroll-entities span {  \n",
              "        font-size: 14px;\n",
              "        line-height: 24px;\n",
              "        color: #536B76;\n",
              "        font-family: 'Montserrat', sans-serif !important;\n",
              "    }\n",
              "    \n",
              "    .spark-nlp-display-entity-wrapper{\n",
              "    \n",
              "        display: inline-grid;\n",
              "        text-align: center;\n",
              "        border-radius: 4px;\n",
              "        margin: 0 2px 5px 2px;\n",
              "        padding: 1px\n",
              "    }\n",
              "    .spark-nlp-display-entity-name{\n",
              "        font-size: 14px;\n",
              "        line-height: 24px;\n",
              "        font-family: 'Montserrat', sans-serif !important;\n",
              "        \n",
              "        background: #f1f2f3;\n",
              "        border-width: medium;\n",
              "        text-align: center;\n",
              "        \n",
              "        font-weight: 400;\n",
              "        \n",
              "        border-radius: 5px;\n",
              "        padding: 2px 5px;\n",
              "        display: block;\n",
              "        margin: 3px 2px;\n",
              "    \n",
              "    }\n",
              "    .spark-nlp-display-entity-type{\n",
              "        font-size: 14px;\n",
              "        line-height: 24px;\n",
              "        color: #ffffff;\n",
              "        font-family: 'Montserrat', sans-serif !important;\n",
              "        \n",
              "        text-transform: uppercase;\n",
              "        \n",
              "        font-weight: 500;\n",
              "\n",
              "        display: block;\n",
              "        padding: 3px 5px;\n",
              "    }\n",
              "    \n",
              "    .spark-nlp-display-entity-resolution{\n",
              "        font-size: 14px;\n",
              "        line-height: 24px;\n",
              "        color: #ffffff;\n",
              "        font-family: 'Vistol Regular', sans-serif !important;\n",
              "        \n",
              "        text-transform: uppercase;\n",
              "        \n",
              "        font-weight: 500;\n",
              "\n",
              "        display: block;\n",
              "        padding: 3px 5px;\n",
              "    }\n",
              "    \n",
              "    .spark-nlp-display-others{\n",
              "        font-size: 14px;\n",
              "        line-height: 24px;\n",
              "        font-family: 'Montserrat', sans-serif !important;\n",
              "        \n",
              "        font-weight: 400;\n",
              "    }\n",
              "\n",
              "</style>\n",
              " <span class=\"spark-nlp-display-others\" style=\"background-color: white\">FINAL REPORT EXAMINATION: CHEST ( PORTABLE AP ).<br>INDICATION : _ year old woman with SAH / / Fever workup Fever workup. <br>IMPRESSION : Compared to chest radiographs _. </span><span class=\"spark-nlp-display-entity-wrapper\" style=\"background-color: #2A942D\"><span class=\"spark-nlp-display-entity-name\">Lungs </span><span class=\"spark-nlp-display-entity-type\">ANAT</span></span><span class=\"spark-nlp-display-others\" style=\"background-color: white\"> are </span><span class=\"spark-nlp-display-entity-wrapper\" style=\"background-color: #869244\"><span class=\"spark-nlp-display-entity-name\">clear </span><span class=\"spark-nlp-display-entity-type\">OBS</span></span><span class=\"spark-nlp-display-others\" style=\"background-color: white\"> . </span><span class=\"spark-nlp-display-entity-wrapper\" style=\"background-color: #869244\"><span class=\"spark-nlp-display-entity-name\">Normal </span><span class=\"spark-nlp-display-entity-type\">OBS</span></span><span class=\"spark-nlp-display-others\" style=\"background-color: white\"> </span><span class=\"spark-nlp-display-entity-wrapper\" style=\"background-color: #2A942D\"><span class=\"spark-nlp-display-entity-name\">cardiomediastinal </span><span class=\"spark-nlp-display-entity-type\">ANAT</span></span><span class=\"spark-nlp-display-others\" style=\"background-color: white\"> and </span><span class=\"spark-nlp-display-entity-wrapper\" style=\"background-color: #2A942D\"><span class=\"spark-nlp-display-entity-name\">hilar silhouettes </span><span class=\"spark-nlp-display-entity-type\">ANAT</span></span><span class=\"spark-nlp-display-others\" style=\"background-color: white\"> and </span><span class=\"spark-nlp-display-entity-wrapper\" style=\"background-color: #2A942D\"><span class=\"spark-nlp-display-entity-name\">pleural surfaces </span><span class=\"spark-nlp-display-entity-type\">ANAT</span></span><span class=\"spark-nlp-display-others\" style=\"background-color: white\"> .</span></div>"
            ]
          },
          "metadata": {}
        },
        {
          "output_type": "stream",
          "name": "stdout",
          "text": [
            "\n",
            "\n",
            "\n"
          ]
        },
        {
          "output_type": "display_data",
          "data": {
            "text/plain": [
              "<IPython.core.display.HTML object>"
            ],
            "text/html": [
              "\n",
              "<style>\n",
              "    @import url('https://fonts.googleapis.com/css2?family=Montserrat:wght@300;400;500;600;700&display=swap');\n",
              "    @import url('https://fonts.googleapis.com/css2?family=Vistol Regular:wght@300;400;500;600;700&display=swap');\n",
              "    \n",
              "    .spark-nlp-display-scroll-entities {\n",
              "        border: 1px solid #E7EDF0;\n",
              "        border-radius: 3px;\n",
              "        text-align: justify;\n",
              "        \n",
              "    }\n",
              "    .spark-nlp-display-scroll-entities span {  \n",
              "        font-size: 14px;\n",
              "        line-height: 24px;\n",
              "        color: #536B76;\n",
              "        font-family: 'Montserrat', sans-serif !important;\n",
              "    }\n",
              "    \n",
              "    .spark-nlp-display-entity-wrapper{\n",
              "    \n",
              "        display: inline-grid;\n",
              "        text-align: center;\n",
              "        border-radius: 4px;\n",
              "        margin: 0 2px 5px 2px;\n",
              "        padding: 1px\n",
              "    }\n",
              "    .spark-nlp-display-entity-name{\n",
              "        font-size: 14px;\n",
              "        line-height: 24px;\n",
              "        font-family: 'Montserrat', sans-serif !important;\n",
              "        \n",
              "        background: #f1f2f3;\n",
              "        border-width: medium;\n",
              "        text-align: center;\n",
              "        \n",
              "        font-weight: 400;\n",
              "        \n",
              "        border-radius: 5px;\n",
              "        padding: 2px 5px;\n",
              "        display: block;\n",
              "        margin: 3px 2px;\n",
              "    \n",
              "    }\n",
              "    .spark-nlp-display-entity-type{\n",
              "        font-size: 14px;\n",
              "        line-height: 24px;\n",
              "        color: #ffffff;\n",
              "        font-family: 'Montserrat', sans-serif !important;\n",
              "        \n",
              "        text-transform: uppercase;\n",
              "        \n",
              "        font-weight: 500;\n",
              "\n",
              "        display: block;\n",
              "        padding: 3px 5px;\n",
              "    }\n",
              "    \n",
              "    .spark-nlp-display-entity-resolution{\n",
              "        font-size: 14px;\n",
              "        line-height: 24px;\n",
              "        color: #ffffff;\n",
              "        font-family: 'Vistol Regular', sans-serif !important;\n",
              "        \n",
              "        text-transform: uppercase;\n",
              "        \n",
              "        font-weight: 500;\n",
              "\n",
              "        display: block;\n",
              "        padding: 3px 5px;\n",
              "    }\n",
              "    \n",
              "    .spark-nlp-display-others{\n",
              "        font-size: 14px;\n",
              "        line-height: 24px;\n",
              "        font-family: 'Montserrat', sans-serif !important;\n",
              "        \n",
              "        font-weight: 400;\n",
              "    }\n",
              "\n",
              "</style>\n",
              " <span class=\"spark-nlp-display-others\" style=\"background-color: white\">FINAL REPORT EXAMINATION : CHEST ( PORTABLE AP ). <br>INDICATION : _ year old woman with OGT / / OGT placement OGT placement. <br>IMPRESSION : In comparison with the earlier study of this date , the </span><span class=\"spark-nlp-display-entity-wrapper\" style=\"background-color: #AE4AAE\"><span class=\"spark-nlp-display-entity-name\">nasogastric tube </span><span class=\"spark-nlp-display-entity-type\">OBS</span></span><span class=\"spark-nlp-display-others\" style=\"background-color: white\"> is been pushed forward so that it extends at least to the </span><span class=\"spark-nlp-display-entity-wrapper\" style=\"background-color: #4EB76D\"><span class=\"spark-nlp-display-entity-name\">mid portion </span><span class=\"spark-nlp-display-entity-type\">ANAT</span></span><span class=\"spark-nlp-display-others\" style=\"background-color: white\"> of the </span><span class=\"spark-nlp-display-entity-wrapper\" style=\"background-color: #4EB76D\"><span class=\"spark-nlp-display-entity-name\">body stomach </span><span class=\"spark-nlp-display-entity-type\">ANAT</span></span><span class=\"spark-nlp-display-others\" style=\"background-color: white\"> were crosses the </span><span class=\"spark-nlp-display-entity-wrapper\" style=\"background-color: #AE4AAE\"><span class=\"spark-nlp-display-entity-name\">lower margin of the image </span><span class=\"spark-nlp-display-entity-type\">OBS</span></span><span class=\"spark-nlp-display-others\" style=\"background-color: white\"> . </span><span class=\"spark-nlp-display-entity-wrapper\" style=\"background-color: #AE4AAE\"><span class=\"spark-nlp-display-entity-name\">Side - port </span><span class=\"spark-nlp-display-entity-type\">OBS</span></span><span class=\"spark-nlp-display-others\" style=\"background-color: white\"> is definitely </span><span class=\"spark-nlp-display-entity-wrapper\" style=\"background-color: #4EB76D\"><span class=\"spark-nlp-display-entity-name\">distal </span><span class=\"spark-nlp-display-entity-type\">ANAT</span></span><span class=\"spark-nlp-display-others\" style=\"background-color: white\"> to the </span><span class=\"spark-nlp-display-entity-wrapper\" style=\"background-color: #4EB76D\"><span class=\"spark-nlp-display-entity-name\">esophagogastric junction </span><span class=\"spark-nlp-display-entity-type\">ANAT</span></span><span class=\"spark-nlp-display-others\" style=\"background-color: white\"> . Otherwise little change .</span></div>"
            ]
          },
          "metadata": {}
        },
        {
          "output_type": "stream",
          "name": "stdout",
          "text": [
            "\n",
            "\n",
            "\n"
          ]
        },
        {
          "output_type": "display_data",
          "data": {
            "text/plain": [
              "<IPython.core.display.HTML object>"
            ],
            "text/html": [
              "\n",
              "<style>\n",
              "    @import url('https://fonts.googleapis.com/css2?family=Montserrat:wght@300;400;500;600;700&display=swap');\n",
              "    @import url('https://fonts.googleapis.com/css2?family=Vistol Regular:wght@300;400;500;600;700&display=swap');\n",
              "    \n",
              "    .spark-nlp-display-scroll-entities {\n",
              "        border: 1px solid #E7EDF0;\n",
              "        border-radius: 3px;\n",
              "        text-align: justify;\n",
              "        \n",
              "    }\n",
              "    .spark-nlp-display-scroll-entities span {  \n",
              "        font-size: 14px;\n",
              "        line-height: 24px;\n",
              "        color: #536B76;\n",
              "        font-family: 'Montserrat', sans-serif !important;\n",
              "    }\n",
              "    \n",
              "    .spark-nlp-display-entity-wrapper{\n",
              "    \n",
              "        display: inline-grid;\n",
              "        text-align: center;\n",
              "        border-radius: 4px;\n",
              "        margin: 0 2px 5px 2px;\n",
              "        padding: 1px\n",
              "    }\n",
              "    .spark-nlp-display-entity-name{\n",
              "        font-size: 14px;\n",
              "        line-height: 24px;\n",
              "        font-family: 'Montserrat', sans-serif !important;\n",
              "        \n",
              "        background: #f1f2f3;\n",
              "        border-width: medium;\n",
              "        text-align: center;\n",
              "        \n",
              "        font-weight: 400;\n",
              "        \n",
              "        border-radius: 5px;\n",
              "        padding: 2px 5px;\n",
              "        display: block;\n",
              "        margin: 3px 2px;\n",
              "    \n",
              "    }\n",
              "    .spark-nlp-display-entity-type{\n",
              "        font-size: 14px;\n",
              "        line-height: 24px;\n",
              "        color: #ffffff;\n",
              "        font-family: 'Montserrat', sans-serif !important;\n",
              "        \n",
              "        text-transform: uppercase;\n",
              "        \n",
              "        font-weight: 500;\n",
              "\n",
              "        display: block;\n",
              "        padding: 3px 5px;\n",
              "    }\n",
              "    \n",
              "    .spark-nlp-display-entity-resolution{\n",
              "        font-size: 14px;\n",
              "        line-height: 24px;\n",
              "        color: #ffffff;\n",
              "        font-family: 'Vistol Regular', sans-serif !important;\n",
              "        \n",
              "        text-transform: uppercase;\n",
              "        \n",
              "        font-weight: 500;\n",
              "\n",
              "        display: block;\n",
              "        padding: 3px 5px;\n",
              "    }\n",
              "    \n",
              "    .spark-nlp-display-others{\n",
              "        font-size: 14px;\n",
              "        line-height: 24px;\n",
              "        font-family: 'Montserrat', sans-serif !important;\n",
              "        \n",
              "        font-weight: 400;\n",
              "    }\n",
              "\n",
              "</style>\n",
              " <span class=\"spark-nlp-display-others\" style=\"background-color: white\">TECHNIQUE : Chest PA and lateral.<br>FINAL REPORT INDICATION : _ year old woman with OGT / / OGT placement  <br>COMPARISON : Chest radiograph from _ from earlier today. <br>FINDINGS : The </span><span class=\"spark-nlp-display-entity-wrapper\" style=\"background-color: #22AB31\"><span class=\"spark-nlp-display-entity-name\">lung volumes </span><span class=\"spark-nlp-display-entity-type\">ANAT</span></span><span class=\"spark-nlp-display-others\" style=\"background-color: white\"> are </span><span class=\"spark-nlp-display-entity-wrapper\" style=\"background-color: #9A1200\"><span class=\"spark-nlp-display-entity-name\">stable </span><span class=\"spark-nlp-display-entity-type\">OBS</span></span><span class=\"spark-nlp-display-others\" style=\"background-color: white\"> . The </span><span class=\"spark-nlp-display-entity-wrapper\" style=\"background-color: #22AB31\"><span class=\"spark-nlp-display-entity-name\">mediastinal </span><span class=\"spark-nlp-display-entity-type\">ANAT</span></span><span class=\"spark-nlp-display-others\" style=\"background-color: white\"> and </span><span class=\"spark-nlp-display-entity-wrapper\" style=\"background-color: #22AB31\"><span class=\"spark-nlp-display-entity-name\">hilar contours </span><span class=\"spark-nlp-display-entity-type\">ANAT</span></span><span class=\"spark-nlp-display-others\" style=\"background-color: white\"> are </span><span class=\"spark-nlp-display-entity-wrapper\" style=\"background-color: #9A1200\"><span class=\"spark-nlp-display-entity-name\">normal </span><span class=\"spark-nlp-display-entity-type\">OBS</span></span><span class=\"spark-nlp-display-others\" style=\"background-color: white\"> . The </span><span class=\"spark-nlp-display-entity-wrapper\" style=\"background-color: #22AB31\"><span class=\"spark-nlp-display-entity-name\">pleural surfaces </span><span class=\"spark-nlp-display-entity-type\">ANAT</span></span><span class=\"spark-nlp-display-others\" style=\"background-color: white\"> are </span><span class=\"spark-nlp-display-entity-wrapper\" style=\"background-color: #9A1200\"><span class=\"spark-nlp-display-entity-name\">normal </span><span class=\"spark-nlp-display-entity-type\">OBS</span></span><span class=\"spark-nlp-display-others\" style=\"background-color: white\"> . The </span><span class=\"spark-nlp-display-entity-wrapper\" style=\"background-color: #9A1200\"><span class=\"spark-nlp-display-entity-name\">ET tube </span><span class=\"spark-nlp-display-entity-type\">OBS</span></span><span class=\"spark-nlp-display-others\" style=\"background-color: white\"> terminates approximately 4.3cm from the </span><span class=\"spark-nlp-display-entity-wrapper\" style=\"background-color: #22AB31\"><span class=\"spark-nlp-display-entity-name\">carina </span><span class=\"spark-nlp-display-entity-type\">ANAT</span></span><span class=\"spark-nlp-display-others\" style=\"background-color: white\"> . The </span><span class=\"spark-nlp-display-entity-wrapper\" style=\"background-color: #9A1200\"><span class=\"spark-nlp-display-entity-name\">NG tube </span><span class=\"spark-nlp-display-entity-type\">OBS</span></span><span class=\"spark-nlp-display-others\" style=\"background-color: white\"> is still </span><span class=\"spark-nlp-display-entity-wrapper\" style=\"background-color: #9A1200\"><span class=\"spark-nlp-display-entity-name\">malpositioned </span><span class=\"spark-nlp-display-entity-type\">OBS</span></span><span class=\"spark-nlp-display-others\" style=\"background-color: white\"> and is located closer to the </span><span class=\"spark-nlp-display-entity-wrapper\" style=\"background-color: #22AB31\"><span class=\"spark-nlp-display-entity-name\">distal esophagus </span><span class=\"spark-nlp-display-entity-type\">ANAT</span></span><span class=\"spark-nlp-display-others\" style=\"background-color: white\"> / </span><span class=\"spark-nlp-display-entity-wrapper\" style=\"background-color: #22AB31\"><span class=\"spark-nlp-display-entity-name\">esophagogastric junction </span><span class=\"spark-nlp-display-entity-type\">ANAT</span></span><span class=\"spark-nlp-display-others\" style=\"background-color: white\"> . <br>IMPRESSION : </span><span class=\"spark-nlp-display-entity-wrapper\" style=\"background-color: #9A1200\"><span class=\"spark-nlp-display-entity-name\">ET tube </span><span class=\"spark-nlp-display-entity-type\">OBS</span></span><span class=\"spark-nlp-display-others\" style=\"background-color: white\"> is in appropriate position . The </span><span class=\"spark-nlp-display-entity-wrapper\" style=\"background-color: #9A1200\"><span class=\"spark-nlp-display-entity-name\">enteric tube </span><span class=\"spark-nlp-display-entity-type\">OBS</span></span><span class=\"spark-nlp-display-others\" style=\"background-color: white\"> is still </span><span class=\"spark-nlp-display-entity-wrapper\" style=\"background-color: #9A1200\"><span class=\"spark-nlp-display-entity-name\">malpositioned </span><span class=\"spark-nlp-display-entity-type\">OBS</span></span><span class=\"spark-nlp-display-others\" style=\"background-color: white\"> and should be advanced approximately 12 cm .</span></div>"
            ]
          },
          "metadata": {}
        },
        {
          "output_type": "stream",
          "name": "stdout",
          "text": [
            "\n",
            "\n",
            "\n"
          ]
        },
        {
          "output_type": "display_data",
          "data": {
            "text/plain": [
              "<IPython.core.display.HTML object>"
            ],
            "text/html": [
              "\n",
              "<style>\n",
              "    @import url('https://fonts.googleapis.com/css2?family=Montserrat:wght@300;400;500;600;700&display=swap');\n",
              "    @import url('https://fonts.googleapis.com/css2?family=Vistol Regular:wght@300;400;500;600;700&display=swap');\n",
              "    \n",
              "    .spark-nlp-display-scroll-entities {\n",
              "        border: 1px solid #E7EDF0;\n",
              "        border-radius: 3px;\n",
              "        text-align: justify;\n",
              "        \n",
              "    }\n",
              "    .spark-nlp-display-scroll-entities span {  \n",
              "        font-size: 14px;\n",
              "        line-height: 24px;\n",
              "        color: #536B76;\n",
              "        font-family: 'Montserrat', sans-serif !important;\n",
              "    }\n",
              "    \n",
              "    .spark-nlp-display-entity-wrapper{\n",
              "    \n",
              "        display: inline-grid;\n",
              "        text-align: center;\n",
              "        border-radius: 4px;\n",
              "        margin: 0 2px 5px 2px;\n",
              "        padding: 1px\n",
              "    }\n",
              "    .spark-nlp-display-entity-name{\n",
              "        font-size: 14px;\n",
              "        line-height: 24px;\n",
              "        font-family: 'Montserrat', sans-serif !important;\n",
              "        \n",
              "        background: #f1f2f3;\n",
              "        border-width: medium;\n",
              "        text-align: center;\n",
              "        \n",
              "        font-weight: 400;\n",
              "        \n",
              "        border-radius: 5px;\n",
              "        padding: 2px 5px;\n",
              "        display: block;\n",
              "        margin: 3px 2px;\n",
              "    \n",
              "    }\n",
              "    .spark-nlp-display-entity-type{\n",
              "        font-size: 14px;\n",
              "        line-height: 24px;\n",
              "        color: #ffffff;\n",
              "        font-family: 'Montserrat', sans-serif !important;\n",
              "        \n",
              "        text-transform: uppercase;\n",
              "        \n",
              "        font-weight: 500;\n",
              "\n",
              "        display: block;\n",
              "        padding: 3px 5px;\n",
              "    }\n",
              "    \n",
              "    .spark-nlp-display-entity-resolution{\n",
              "        font-size: 14px;\n",
              "        line-height: 24px;\n",
              "        color: #ffffff;\n",
              "        font-family: 'Vistol Regular', sans-serif !important;\n",
              "        \n",
              "        text-transform: uppercase;\n",
              "        \n",
              "        font-weight: 500;\n",
              "\n",
              "        display: block;\n",
              "        padding: 3px 5px;\n",
              "    }\n",
              "    \n",
              "    .spark-nlp-display-others{\n",
              "        font-size: 14px;\n",
              "        line-height: 24px;\n",
              "        font-family: 'Montserrat', sans-serif !important;\n",
              "        \n",
              "        font-weight: 400;\n",
              "    }\n",
              "\n",
              "</style>\n",
              " <span class=\"spark-nlp-display-others\" style=\"background-color: white\">FINAL REPORT EXAMINATION : CHEST ( PORTABLE AP ) <br>INDICATION : _ year old woman with SAH in ICU . / / Interval pulm changes Interval pulm changes. <br>IMPRESSION : In comparison with the study of _ , No evidence of </span><span class=\"spark-nlp-display-entity-wrapper\" style=\"background-color: #1D573C\"><span class=\"spark-nlp-display-entity-name\">acute cardiopulmonary-disease </span><span class=\"spark-nlp-display-entity-type\">OBS</span></span><span class=\"spark-nlp-display-others\" style=\"background-color: white\"> . No </span><span class=\"spark-nlp-display-entity-wrapper\" style=\"background-color: #1D573C\"><span class=\"spark-nlp-display-entity-name\">pneumonia </span><span class=\"spark-nlp-display-entity-type\">OBS</span></span><span class=\"spark-nlp-display-others\" style=\"background-color: white\"> , </span><span class=\"spark-nlp-display-entity-wrapper\" style=\"background-color: #1D573C\"><span class=\"spark-nlp-display-entity-name\">vascular-congestion </span><span class=\"spark-nlp-display-entity-type\">OBS</span></span><span class=\"spark-nlp-display-others\" style=\"background-color: white\"> , or </span><span class=\"spark-nlp-display-entity-wrapper\" style=\"background-color: #1D573C\"><span class=\"spark-nlp-display-entity-name\">pleural-effusion </span><span class=\"spark-nlp-display-entity-type\">OBS</span></span><span class=\"spark-nlp-display-others\" style=\"background-color: white\"> . _ sixth</span></div>"
            ]
          },
          "metadata": {}
        },
        {
          "output_type": "stream",
          "name": "stdout",
          "text": [
            "\n",
            "\n",
            "\n"
          ]
        },
        {
          "output_type": "display_data",
          "data": {
            "text/plain": [
              "<IPython.core.display.HTML object>"
            ],
            "text/html": [
              "\n",
              "<style>\n",
              "    @import url('https://fonts.googleapis.com/css2?family=Montserrat:wght@300;400;500;600;700&display=swap');\n",
              "    @import url('https://fonts.googleapis.com/css2?family=Vistol Regular:wght@300;400;500;600;700&display=swap');\n",
              "    \n",
              "    .spark-nlp-display-scroll-entities {\n",
              "        border: 1px solid #E7EDF0;\n",
              "        border-radius: 3px;\n",
              "        text-align: justify;\n",
              "        \n",
              "    }\n",
              "    .spark-nlp-display-scroll-entities span {  \n",
              "        font-size: 14px;\n",
              "        line-height: 24px;\n",
              "        color: #536B76;\n",
              "        font-family: 'Montserrat', sans-serif !important;\n",
              "    }\n",
              "    \n",
              "    .spark-nlp-display-entity-wrapper{\n",
              "    \n",
              "        display: inline-grid;\n",
              "        text-align: center;\n",
              "        border-radius: 4px;\n",
              "        margin: 0 2px 5px 2px;\n",
              "        padding: 1px\n",
              "    }\n",
              "    .spark-nlp-display-entity-name{\n",
              "        font-size: 14px;\n",
              "        line-height: 24px;\n",
              "        font-family: 'Montserrat', sans-serif !important;\n",
              "        \n",
              "        background: #f1f2f3;\n",
              "        border-width: medium;\n",
              "        text-align: center;\n",
              "        \n",
              "        font-weight: 400;\n",
              "        \n",
              "        border-radius: 5px;\n",
              "        padding: 2px 5px;\n",
              "        display: block;\n",
              "        margin: 3px 2px;\n",
              "    \n",
              "    }\n",
              "    .spark-nlp-display-entity-type{\n",
              "        font-size: 14px;\n",
              "        line-height: 24px;\n",
              "        color: #ffffff;\n",
              "        font-family: 'Montserrat', sans-serif !important;\n",
              "        \n",
              "        text-transform: uppercase;\n",
              "        \n",
              "        font-weight: 500;\n",
              "\n",
              "        display: block;\n",
              "        padding: 3px 5px;\n",
              "    }\n",
              "    \n",
              "    .spark-nlp-display-entity-resolution{\n",
              "        font-size: 14px;\n",
              "        line-height: 24px;\n",
              "        color: #ffffff;\n",
              "        font-family: 'Vistol Regular', sans-serif !important;\n",
              "        \n",
              "        text-transform: uppercase;\n",
              "        \n",
              "        font-weight: 500;\n",
              "\n",
              "        display: block;\n",
              "        padding: 3px 5px;\n",
              "    }\n",
              "    \n",
              "    .spark-nlp-display-others{\n",
              "        font-size: 14px;\n",
              "        line-height: 24px;\n",
              "        font-family: 'Montserrat', sans-serif !important;\n",
              "        \n",
              "        font-weight: 400;\n",
              "    }\n",
              "\n",
              "</style>\n",
              " <span class=\"spark-nlp-display-others\" style=\"background-color: white\">FINAL REPORT INDICATION : _ year old woman with SAH , intubated / / serial exam. <br>TECHNIQUE : Chest PA and lateral COMPARISON : Chest radiograph from _ .<br>FINDINGS : The </span><span class=\"spark-nlp-display-entity-wrapper\" style=\"background-color: #24776B\"><span class=\"spark-nlp-display-entity-name\">lung volumes </span><span class=\"spark-nlp-display-entity-type\">ANAT</span></span><span class=\"spark-nlp-display-others\" style=\"background-color: white\"> are </span><span class=\"spark-nlp-display-entity-wrapper\" style=\"background-color: #65273E\"><span class=\"spark-nlp-display-entity-name\">stable </span><span class=\"spark-nlp-display-entity-type\">OBS</span></span><span class=\"spark-nlp-display-others\" style=\"background-color: white\"> . The </span><span class=\"spark-nlp-display-entity-wrapper\" style=\"background-color: #24776B\"><span class=\"spark-nlp-display-entity-name\">cardiomediastinal </span><span class=\"spark-nlp-display-entity-type\">ANAT</span></span><span class=\"spark-nlp-display-others\" style=\"background-color: white\"> and </span><span class=\"spark-nlp-display-entity-wrapper\" style=\"background-color: #24776B\"><span class=\"spark-nlp-display-entity-name\">hilar contours </span><span class=\"spark-nlp-display-entity-type\">ANAT</span></span><span class=\"spark-nlp-display-others\" style=\"background-color: white\"> are </span><span class=\"spark-nlp-display-entity-wrapper\" style=\"background-color: #65273E\"><span class=\"spark-nlp-display-entity-name\">normal </span><span class=\"spark-nlp-display-entity-type\">OBS</span></span><span class=\"spark-nlp-display-others\" style=\"background-color: white\"> . The </span><span class=\"spark-nlp-display-entity-wrapper\" style=\"background-color: #24776B\"><span class=\"spark-nlp-display-entity-name\">pleural surfaces </span><span class=\"spark-nlp-display-entity-type\">ANAT</span></span><span class=\"spark-nlp-display-others\" style=\"background-color: white\"> are </span><span class=\"spark-nlp-display-entity-wrapper\" style=\"background-color: #65273E\"><span class=\"spark-nlp-display-entity-name\">normal </span><span class=\"spark-nlp-display-entity-type\">OBS</span></span><span class=\"spark-nlp-display-others\" style=\"background-color: white\"> . The </span><span class=\"spark-nlp-display-entity-wrapper\" style=\"background-color: #65273E\"><span class=\"spark-nlp-display-entity-name\">ET tube </span><span class=\"spark-nlp-display-entity-type\">OBS</span></span><span class=\"spark-nlp-display-others\" style=\"background-color: white\"> terminates approximately 1.8cm from the </span><span class=\"spark-nlp-display-entity-wrapper\" style=\"background-color: #24776B\"><span class=\"spark-nlp-display-entity-name\">carina </span><span class=\"spark-nlp-display-entity-type\">ANAT</span></span><span class=\"spark-nlp-display-others\" style=\"background-color: white\"> . The </span><span class=\"spark-nlp-display-entity-wrapper\" style=\"background-color: #65273E\"><span class=\"spark-nlp-display-entity-name\">NG tube </span><span class=\"spark-nlp-display-entity-type\">OBS</span></span><span class=\"spark-nlp-display-others\" style=\"background-color: white\"> appears to be closer to the </span><span class=\"spark-nlp-display-entity-wrapper\" style=\"background-color: #24776B\"><span class=\"spark-nlp-display-entity-name\">esophagogastric junction </span><span class=\"spark-nlp-display-entity-type\">ANAT</span></span><span class=\"spark-nlp-display-others\" style=\"background-color: white\"> or scarcely in the </span><span class=\"spark-nlp-display-entity-wrapper\" style=\"background-color: #24776B\"><span class=\"spark-nlp-display-entity-name\">proximal stomach </span><span class=\"spark-nlp-display-entity-type\">ANAT</span></span><span class=\"spark-nlp-display-others\" style=\"background-color: white\"> and the </span><span class=\"spark-nlp-display-entity-wrapper\" style=\"background-color: #65273E\"><span class=\"spark-nlp-display-entity-name\">side ports </span><span class=\"spark-nlp-display-entity-type\">OBS</span></span><span class=\"spark-nlp-display-others\" style=\"background-color: white\"> are approximately 12cm from the </span><span class=\"spark-nlp-display-entity-wrapper\" style=\"background-color: #24776B\"><span class=\"spark-nlp-display-entity-name\">mid stomach </span><span class=\"spark-nlp-display-entity-type\">ANAT</span></span><span class=\"spark-nlp-display-others\" style=\"background-color: white\"> . <br>IMPRESSION : </span><span class=\"spark-nlp-display-entity-wrapper\" style=\"background-color: #65273E\"><span class=\"spark-nlp-display-entity-name\">ET tube </span><span class=\"spark-nlp-display-entity-type\">OBS</span></span><span class=\"spark-nlp-display-others\" style=\"background-color: white\"> is closer to the </span><span class=\"spark-nlp-display-entity-wrapper\" style=\"background-color: #24776B\"><span class=\"spark-nlp-display-entity-name\">carina </span><span class=\"spark-nlp-display-entity-type\">ANAT</span></span><span class=\"spark-nlp-display-others\" style=\"background-color: white\"> and should be withdrawn approximately 3 cm . </span><span class=\"spark-nlp-display-entity-wrapper\" style=\"background-color: #65273E\"><span class=\"spark-nlp-display-entity-name\">NG tube </span><span class=\"spark-nlp-display-entity-type\">OBS</span></span><span class=\"spark-nlp-display-others\" style=\"background-color: white\"> is </span><span class=\"spark-nlp-display-entity-wrapper\" style=\"background-color: #65273E\"><span class=\"spark-nlp-display-entity-name\">malpositioned </span><span class=\"spark-nlp-display-entity-type\">OBS</span></span><span class=\"spark-nlp-display-others\" style=\"background-color: white\"> and should be advanced approximately 12cm .</span></div>"
            ]
          },
          "metadata": {}
        },
        {
          "output_type": "stream",
          "name": "stdout",
          "text": [
            "\n",
            "\n",
            "\n"
          ]
        }
      ]
    }
  ]
}
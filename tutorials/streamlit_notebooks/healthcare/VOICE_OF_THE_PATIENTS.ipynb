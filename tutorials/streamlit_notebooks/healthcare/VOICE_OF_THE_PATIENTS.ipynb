{
  "nbformat": 4,
  "nbformat_minor": 0,
  "metadata": {
    "colab": {
      "provenance": [],
      "toc_visible": true
    },
    "kernelspec": {
      "name": "python3",
      "display_name": "Python 3"
    },
    "language_info": {
      "name": "python"
    }
  },
  "cells": [
    {
      "cell_type": "markdown",
      "source": [
        "![JohnSnowLabs](https://nlp.johnsnowlabs.com/assets/images/logo.png)\n",
        "\n",
        "[![Open In Colab](https://colab.research.google.com/assets/colab-badge.svg)](https://colab.research.google.com/github/JohnSnowLabs/spark-nlp-workshop/blob/master/tutorials/streamlit_notebooks/healthcare/VOICE_OF_THE_PATIENTS.ipynb)"
      ],
      "metadata": {
        "id": "iJ_FFtHZLRXv"
      }
    },
    {
      "cell_type": "markdown",
      "source": [
        "# **Voice of the Patients-NER**"
      ],
      "metadata": {
        "id": "sGIN87gULJgL"
      }
    },
    {
      "cell_type": "markdown",
      "source": [
        "📌To run this yourself, you will need to upload your license keys to the notebook. Just Run The Cell Below in order to do that. Also You can open the file explorer on the left side of the screen and upload license_keys.json to the folder that opens. Otherwise, you can look at the example outputs at the bottom of the notebook."
      ],
      "metadata": {
        "id": "E_4ZyvB-LGhI"
      }
    },
    {
      "cell_type": "code",
      "execution_count": null,
      "metadata": {
        "id": "YjkWRcUIKjBp"
      },
      "outputs": [],
      "source": [
        "import json, os\n",
        "from google.colab import files\n",
        "\n",
        "if 'spark_jsl.json' not in os.listdir():\n",
        "  license_keys = files.upload()\n",
        "  os.rename(list(license_keys.keys())[0], 'spark_jsl.json')\n",
        "\n",
        "with open('spark_jsl.json') as f:\n",
        "    license_keys = json.load(f)\n",
        "\n",
        "# Defining license key-value pairs as local variables\n",
        "locals().update(license_keys)\n",
        "os.environ.update(license_keys)"
      ]
    },
    {
      "cell_type": "code",
      "source": [
        "# Installing pyspark and spark-nlp\n",
        "! pip install --upgrade -q pyspark==3.1.2 spark-nlp==$PUBLIC_VERSION\n",
        "\n",
        "# Installing Spark NLP Healthcare\n",
        "! pip install --upgrade -q spark-nlp-jsl==$JSL_VERSION  --extra-index-url https://pypi.johnsnowlabs.com/$SECRET\n",
        "\n",
        "# Installing Spark NLP Display Library for visualization\n",
        "! pip install -q spark-nlp-display"
      ],
      "metadata": {
        "id": "QbBYtkA8LaCm"
      },
      "execution_count": null,
      "outputs": []
    },
    {
      "cell_type": "code",
      "source": [
        "import sparknlp\n",
        "import sparknlp_jsl\n",
        "\n",
        "from sparknlp.base import *\n",
        "from sparknlp.annotator import *\n",
        "from sparknlp_jsl.annotator import *\n",
        "\n",
        "from pyspark.sql import SparkSession\n",
        "from pyspark.sql import functions as F\n",
        "from pyspark.ml import Pipeline,PipelineModel\n",
        "from pyspark.sql.types import StringType, IntegerType\n",
        "\n",
        "import pandas as pd\n",
        "pd.set_option('display.max_colwidth', 200)\n",
        "\n",
        "import warnings\n",
        "warnings.filterwarnings('ignore')\n",
        "\n",
        "params = {\"spark.driver.memory\":\"16G\", \n",
        "          \"spark.kryoserializer.buffer.max\":\"2000M\", \n",
        "          \"spark.driver.maxResultSize\":\"2000M\"} \n",
        "\n",
        "spark = sparknlp_jsl.start(license_keys['SECRET'],params=params)\n",
        "\n",
        "print(\"Spark NLP Version :\", sparknlp.version())\n",
        "print(\"Spark NLP_JSL Version :\", sparknlp_jsl.version())\n",
        "\n",
        "spark"
      ],
      "metadata": {
        "colab": {
          "base_uri": "https://localhost:8080/",
          "height": 254
        },
        "id": "Bn1CFNGsLhZE",
        "outputId": "25908923-b594-46eb-a8fe-43e89ece3914"
      },
      "execution_count": 3,
      "outputs": [
        {
          "output_type": "stream",
          "name": "stdout",
          "text": [
            "Spark NLP Version : 4.3.1\n",
            "Spark NLP_JSL Version : 4.3.1\n"
          ]
        },
        {
          "output_type": "execute_result",
          "data": {
            "text/plain": [
              "<pyspark.sql.session.SparkSession at 0x7f897381a280>"
            ],
            "text/html": [
              "\n",
              "            <div>\n",
              "                <p><b>SparkSession - in-memory</b></p>\n",
              "                \n",
              "        <div>\n",
              "            <p><b>SparkContext</b></p>\n",
              "\n",
              "            <p><a href=\"http://e3a20e21f02c:4040\">Spark UI</a></p>\n",
              "\n",
              "            <dl>\n",
              "              <dt>Version</dt>\n",
              "                <dd><code>v3.1.2</code></dd>\n",
              "              <dt>Master</dt>\n",
              "                <dd><code>local[*]</code></dd>\n",
              "              <dt>AppName</dt>\n",
              "                <dd><code>Spark NLP Licensed</code></dd>\n",
              "            </dl>\n",
              "        </div>\n",
              "        \n",
              "            </div>\n",
              "        "
            ]
          },
          "metadata": {},
          "execution_count": 3
        }
      ]
    },
    {
      "cell_type": "markdown",
      "source": [
        "## **`ner_vop_slim_wip`**"
      ],
      "metadata": {
        "id": "RdszEHkTMKpF"
      }
    },
    {
      "cell_type": "code",
      "source": [
        "document_assembler = DocumentAssembler()\\\n",
        "    .setInputCol(\"text\")\\\n",
        "    .setOutputCol(\"document\")\n",
        "\n",
        "sentence_detector = SentenceDetectorDLModel.pretrained(\"sentence_detector_dl\", \"en\")\\\n",
        "    .setInputCols([\"document\"])\\\n",
        "    .setOutputCol(\"sentence\")\n",
        "\n",
        "tokenizer = Tokenizer()\\\n",
        "    .setInputCols([\"sentence\"])\\\n",
        "    .setOutputCol(\"token\")\n",
        "\n",
        "clinical_embeddings = WordEmbeddingsModel.pretrained(\"embeddings_clinical\", \"en\", \"clinical/models\")\\\n",
        "    .setInputCols([\"sentence\", \"token\"])\\\n",
        "    .setOutputCol(\"embeddings\")\n",
        "\n",
        "ner_model = MedicalNerModel.pretrained(\"ner_vop_slim_wip\", \"en\", \"clinical/models\")\\\n",
        "    .setInputCols([\"sentence\", \"token\",\"embeddings\"])\\\n",
        "    .setOutputCol(\"ner\")\n",
        "\n",
        "ner_converter = NerConverterInternal()\\\n",
        "    .setInputCols([\"sentence\", \"token\", \"ner\"])\\\n",
        "    .setOutputCol(\"ner_chunk\")\n",
        "\n",
        "pipeline = Pipeline(stages=[\n",
        "    document_assembler, \n",
        "    sentence_detector,\n",
        "    tokenizer,\n",
        "    clinical_embeddings,\n",
        "    ner_model,\n",
        "    ner_converter   \n",
        "    ])\n",
        "\n",
        "sample_texts = [\"Hi, Please I need your help! Two months ago I tested positive for H. Pylori however I have never experienced any pain or stomach discomfort in my life. My doctor (I am from an easter european country) insisted that I do an endoscopy. I was convinced that it is a very safe procedure and I agreed. However the same day after the upper endoscopy was performed I started to experience stomach burning, pain, and heartburn / chest pain. So bad that I had to go to the emergency. Endoscopy showed a chronic gastritis and duodenitis. However, my GI doctor did not think I need antibiotics since the gastritis was mild. I was taking PPI for 3-4 weeks but my symptoms were getting worse with no improvement, stomach pain was getting stabby and unbearable and it started to hurt a lot on the right side under the ribs. It also feels like something is swollen under right ribs and makes popping sound (ultrasound did not show anything). After PPI was not helping much I was put on Sucralfate (also called Carafate) and it helped a bit. Now it is been 2 months, I am back in Canada where I am residing permanently and doctors here have no idea what is going on. They sent me to redo the H.Pylori test and another theory they have is a bile reflux. I am really scared because for over 2 months I have not had a day without pain even on the better days, I eat very special diet and I lost some weight because I could not eat enough and underweight. I saw 3 GI doctors (one in Russia and 2 in Canada) and they all say that they have never seen a case like me... to get problems after endoscopy...\",\n",
        "\"Ok, I have bad teeth. I went finally to the dentist and he said I have an infection in my bone under my bad tooth. I have been referred for removal of the decayed tooth. They prescribed me antibiotics 500mg of amoxicillin three times a day but I can't sleep, eat, or really think. I am taking ibroprofen and cocodamol regularly. No effect really, I am using clove oil, not that it helps. Anyway I just need to know if this pain will stop anytime soon? I now have swelling on the inside of my mouth in the roof of my mouth, it hurts to touch. Should I go to a and e? Is there anything I can do? My dentist is not open till Monday now. He said the antibiotics should work over the weekend but I am scared I won't make it through the weekend\",\n",
        "\"Hi, Firstly I'd be grateful for any input from anyone, and understand that it won't be actual medical advice but I'm just looking at other options. Secondly, please don't pass me off simply telling me to go to a GP as many of you will be aware it's not that easy and certainly not for me. For around 2 years now I have been feeling more and more exhausting, tired, no matter how much I sleep, I never wake and feel like I've been asleep. The sleep is so intense even after say 12 hours of it I wake and feel utter rubbish, drained, and like I have been drinking all night, which I haven't. This has got so bad now I struggle to even see the day through without napping and still it's not enough. I've tried iron tablets, various other vitamins, etc, and noticed no difference, even taking Furrous Sulphate. For around a year now though at different, random times it seems I cannot swallow. I try but my body won't let me, I try and its like the signal from my brain isn't reaching my throat to swallow. As well as this I'm constantly zoned out, someone tries to talk to me but I can't process it or follow the conversation. I do have BPD, Autism and some other issues but I've had those my whole life while these new symptoms seem to be progressing. I'm really worried, and I know I will have to see a GP but I just wanted to see if anyone had any in put good or bad\",\n",
        "\"Hi, I am not sure if this is the correct section to cover all of this, but I have been going through a tuff time recently, as a whole and one of the stand-out things is I can't cope generally with things and just can't sleep very much only about 3 hours a night. I used to sleep really well, but what's changed is when getting to the point of dropping off to sleep it's like my body or brain is just trying to fight it all the time, like releasing adrenaline (like a charge through my body) or a massive jerk happens numerous times. I have been taking Nytol, but that only gets me about 2-3 hours before waking up, my whole system seems like in a high state of alert throughout the day. Would Antidepressants help me and restore some calm to my system? I have never taken them before, but I feel as if I need something now, as I can't continue like this. Thanks\",\n",
        "\"I'm only 25 and was prescribed lisnopril for high blood pressure. I also suffer from frequent headaches and migraines. Now the lisnopril actually did help with my headaches but the side effects are just too much. (Difficulty speaking, not myself, weakness) I made the decision to stop taking them. It's been 7 days and I literally can barely talk without my voice squeaking and sounding retarded. Im like on the verge of losing my job fuxk these poison pills like wtf do they give out to people. \"]\n",
        "\n",
        "\n",
        "data = spark.createDataFrame(sample_texts, StringType()).toDF(\"text\")\n",
        "\n",
        "result = pipeline.fit(data).transform(data)"
      ],
      "metadata": {
        "colab": {
          "base_uri": "https://localhost:8080/"
        },
        "id": "J5Rs_JR5MEzZ",
        "outputId": "4d014331-e386-493f-e5e5-b5654bd3882a"
      },
      "execution_count": 4,
      "outputs": [
        {
          "output_type": "stream",
          "name": "stdout",
          "text": [
            "sentence_detector_dl download started this may take some time.\n",
            "Approximate size to download 354.6 KB\n",
            "[OK!]\n",
            "embeddings_clinical download started this may take some time.\n",
            "Approximate size to download 1.6 GB\n",
            "[OK!]\n",
            "ner_vop_slim_wip download started this may take some time.\n",
            "[OK!]\n"
          ]
        }
      ]
    },
    {
      "cell_type": "code",
      "source": [
        "result.select(F.explode(F.arrays_zip(result.ner_chunk.result,\n",
        "                                     result.ner_chunk.begin,\n",
        "                                     result.ner_chunk.end,\n",
        "                                     result.ner_chunk.metadata)).alias(\"cols\"))\\\n",
        "      .select(F.expr(\"cols['0']\").alias(\"chunk\"),\n",
        "              F.expr(\"cols['1']\").alias(\"begin\"),\n",
        "              F.expr(\"cols['2']\").alias(\"end\"),\n",
        "              F.expr(\"cols['3']['entity']\").alias(\"ner_label\"),\n",
        "              F.expr(\"cols['3']['confidence']\").alias(\"confidence\")).show(30, truncate=False)"
      ],
      "metadata": {
        "colab": {
          "base_uri": "https://localhost:8080/"
        },
        "id": "5vqjev_qMa-m",
        "outputId": "d8f8ed24-9b7b-438a-80c8-dfa84a4a51dc"
      },
      "execution_count": 16,
      "outputs": [
        {
          "output_type": "stream",
          "name": "stdout",
          "text": [
            "+--------------+-----+---+------------+----------+\n",
            "|chunk         |begin|end|ner_label   |confidence|\n",
            "+--------------+-----+---+------------+----------+\n",
            "|Two months ago|29   |42 |DateTime    |0.8388667 |\n",
            "|H. Pylori     |66   |74 |Disease     |0.57053334|\n",
            "|pain          |113  |116|Symptom     |0.9948    |\n",
            "|stomach       |121  |127|BodyPart    |0.9129    |\n",
            "|discomfort    |129  |138|Symptom     |0.957     |\n",
            "|doctor        |155  |160|Employment  |0.9433    |\n",
            "|endoscopy     |223  |231|Procedure   |0.9962    |\n",
            "|same day after|309  |322|DateTime    |0.46706668|\n",
            "|upper         |328  |332|Laterality  |0.9321    |\n",
            "|endoscopy     |334  |342|Procedure   |0.9892    |\n",
            "|stomach       |382  |388|BodyPart    |0.8552    |\n",
            "|burning       |390  |396|Symptom     |0.9104    |\n",
            "|pain          |399  |402|Symptom     |0.9971    |\n",
            "|heartburn     |409  |417|Symptom     |0.9945    |\n",
            "|chest         |421  |425|BodyPart    |0.9506    |\n",
            "|pain          |427  |430|Symptom     |0.9762    |\n",
            "|emergency     |464  |472|ClinicalDept|0.8912    |\n",
            "|Endoscopy     |475  |483|Procedure   |0.9918    |\n",
            "|gastritis     |502  |510|Disease     |0.7694    |\n",
            "|duodenitis    |516  |525|Disease     |0.9504    |\n",
            "|GI doctor     |540  |548|Employment  |0.91855   |\n",
            "|antibiotics   |571  |581|Drug        |0.9942    |\n",
            "|gastritis     |593  |601|Disease     |0.9215    |\n",
            "|PPI           |626  |628|Drug        |0.9956    |\n",
            "|3-4 weeks     |634  |642|Duration    |0.67939997|\n",
            "|stomach       |700  |706|BodyPart    |0.9515    |\n",
            "|pain          |708  |711|Symptom     |0.9762    |\n",
            "|hurt          |765  |768|Symptom     |0.9841    |\n",
            "|right side    |783  |792|Laterality  |0.95185   |\n",
            "|under         |794  |798|Laterality  |0.9311    |\n",
            "+--------------+-----+---+------------+----------+\n",
            "only showing top 30 rows\n",
            "\n"
          ]
        }
      ]
    },
    {
      "cell_type": "code",
      "source": [
        "from sparknlp_display import NerVisualizer\n",
        "\n",
        "for i in range(len(sample_texts)):\n",
        "    NerVisualizer().display(\n",
        "        result = result.collect()[i],\n",
        "        label_col = 'ner_chunk',\n",
        "        document_col = 'document')\n",
        "    print(\"\\n\"*2)\n"
      ],
      "metadata": {
        "colab": {
          "base_uri": "https://localhost:8080/",
          "height": 1000
        },
        "id": "KYA4odfuMb46",
        "outputId": "679afd0b-e266-4adc-8f0b-e15f02ce58b6"
      },
      "execution_count": 6,
      "outputs": [
        {
          "output_type": "display_data",
          "data": {
            "text/plain": [
              "<IPython.core.display.HTML object>"
            ],
            "text/html": [
              "\n",
              "<style>\n",
              "    @import url('https://fonts.googleapis.com/css2?family=Montserrat:wght@300;400;500;600;700&display=swap');\n",
              "    @import url('https://fonts.googleapis.com/css2?family=Vistol Regular:wght@300;400;500;600;700&display=swap');\n",
              "    \n",
              "    .spark-nlp-display-scroll-entities {\n",
              "        border: 1px solid #E7EDF0;\n",
              "        border-radius: 3px;\n",
              "        text-align: justify;\n",
              "        \n",
              "    }\n",
              "    .spark-nlp-display-scroll-entities span {  \n",
              "        font-size: 14px;\n",
              "        line-height: 24px;\n",
              "        color: #536B76;\n",
              "        font-family: 'Montserrat', sans-serif !important;\n",
              "    }\n",
              "    \n",
              "    .spark-nlp-display-entity-wrapper{\n",
              "    \n",
              "        display: inline-grid;\n",
              "        text-align: center;\n",
              "        border-radius: 4px;\n",
              "        margin: 0 2px 5px 2px;\n",
              "        padding: 1px\n",
              "    }\n",
              "    .spark-nlp-display-entity-name{\n",
              "        font-size: 14px;\n",
              "        line-height: 24px;\n",
              "        font-family: 'Montserrat', sans-serif !important;\n",
              "        \n",
              "        background: #f1f2f3;\n",
              "        border-width: medium;\n",
              "        text-align: center;\n",
              "        \n",
              "        font-weight: 400;\n",
              "        \n",
              "        border-radius: 5px;\n",
              "        padding: 2px 5px;\n",
              "        display: block;\n",
              "        margin: 3px 2px;\n",
              "    \n",
              "    }\n",
              "    .spark-nlp-display-entity-type{\n",
              "        font-size: 14px;\n",
              "        line-height: 24px;\n",
              "        color: #ffffff;\n",
              "        font-family: 'Montserrat', sans-serif !important;\n",
              "        \n",
              "        text-transform: uppercase;\n",
              "        \n",
              "        font-weight: 500;\n",
              "\n",
              "        display: block;\n",
              "        padding: 3px 5px;\n",
              "    }\n",
              "    \n",
              "    .spark-nlp-display-entity-resolution{\n",
              "        font-size: 14px;\n",
              "        line-height: 24px;\n",
              "        color: #ffffff;\n",
              "        font-family: 'Vistol Regular', sans-serif !important;\n",
              "        \n",
              "        text-transform: uppercase;\n",
              "        \n",
              "        font-weight: 500;\n",
              "\n",
              "        display: block;\n",
              "        padding: 3px 5px;\n",
              "    }\n",
              "    \n",
              "    .spark-nlp-display-others{\n",
              "        font-size: 14px;\n",
              "        line-height: 24px;\n",
              "        font-family: 'Montserrat', sans-serif !important;\n",
              "        \n",
              "        font-weight: 400;\n",
              "    }\n",
              "\n",
              "</style>\n",
              " <span class=\"spark-nlp-display-others\" style=\"background-color: white\">Hi, Please I need your help! </span><span class=\"spark-nlp-display-entity-wrapper\" style=\"background-color: #A831C7\"><span class=\"spark-nlp-display-entity-name\">Two months ago </span><span class=\"spark-nlp-display-entity-type\">DateTime</span></span><span class=\"spark-nlp-display-others\" style=\"background-color: white\"> I tested positive for </span><span class=\"spark-nlp-display-entity-wrapper\" style=\"background-color: #01209D\"><span class=\"spark-nlp-display-entity-name\">H. Pylori </span><span class=\"spark-nlp-display-entity-type\">Disease</span></span><span class=\"spark-nlp-display-others\" style=\"background-color: white\"> however I have never experienced any </span><span class=\"spark-nlp-display-entity-wrapper\" style=\"background-color: #12305F\"><span class=\"spark-nlp-display-entity-name\">pain </span><span class=\"spark-nlp-display-entity-type\">Symptom</span></span><span class=\"spark-nlp-display-others\" style=\"background-color: white\"> or </span><span class=\"spark-nlp-display-entity-wrapper\" style=\"background-color: #A6488A\"><span class=\"spark-nlp-display-entity-name\">stomach </span><span class=\"spark-nlp-display-entity-type\">BodyPart</span></span><span class=\"spark-nlp-display-others\" style=\"background-color: white\"> </span><span class=\"spark-nlp-display-entity-wrapper\" style=\"background-color: #12305F\"><span class=\"spark-nlp-display-entity-name\">discomfort </span><span class=\"spark-nlp-display-entity-type\">Symptom</span></span><span class=\"spark-nlp-display-others\" style=\"background-color: white\"> in my life. My </span><span class=\"spark-nlp-display-entity-wrapper\" style=\"background-color: #74BF99\"><span class=\"spark-nlp-display-entity-name\">doctor </span><span class=\"spark-nlp-display-entity-type\">Employment</span></span><span class=\"spark-nlp-display-others\" style=\"background-color: white\"> (I am from an easter european country) insisted that I do an </span><span class=\"spark-nlp-display-entity-wrapper\" style=\"background-color: #0CC28A\"><span class=\"spark-nlp-display-entity-name\">endoscopy </span><span class=\"spark-nlp-display-entity-type\">Procedure</span></span><span class=\"spark-nlp-display-others\" style=\"background-color: white\">. I was convinced that it is a very safe procedure and I agreed. However the </span><span class=\"spark-nlp-display-entity-wrapper\" style=\"background-color: #A831C7\"><span class=\"spark-nlp-display-entity-name\">same day after </span><span class=\"spark-nlp-display-entity-type\">DateTime</span></span><span class=\"spark-nlp-display-others\" style=\"background-color: white\"> the </span><span class=\"spark-nlp-display-entity-wrapper\" style=\"background-color: #7D8A79\"><span class=\"spark-nlp-display-entity-name\">upper </span><span class=\"spark-nlp-display-entity-type\">Laterality</span></span><span class=\"spark-nlp-display-others\" style=\"background-color: white\"> </span><span class=\"spark-nlp-display-entity-wrapper\" style=\"background-color: #0CC28A\"><span class=\"spark-nlp-display-entity-name\">endoscopy </span><span class=\"spark-nlp-display-entity-type\">Procedure</span></span><span class=\"spark-nlp-display-others\" style=\"background-color: white\"> was performed I started to experience </span><span class=\"spark-nlp-display-entity-wrapper\" style=\"background-color: #A6488A\"><span class=\"spark-nlp-display-entity-name\">stomach </span><span class=\"spark-nlp-display-entity-type\">BodyPart</span></span><span class=\"spark-nlp-display-others\" style=\"background-color: white\"> </span><span class=\"spark-nlp-display-entity-wrapper\" style=\"background-color: #12305F\"><span class=\"spark-nlp-display-entity-name\">burning </span><span class=\"spark-nlp-display-entity-type\">Symptom</span></span><span class=\"spark-nlp-display-others\" style=\"background-color: white\">, </span><span class=\"spark-nlp-display-entity-wrapper\" style=\"background-color: #12305F\"><span class=\"spark-nlp-display-entity-name\">pain </span><span class=\"spark-nlp-display-entity-type\">Symptom</span></span><span class=\"spark-nlp-display-others\" style=\"background-color: white\">, and </span><span class=\"spark-nlp-display-entity-wrapper\" style=\"background-color: #12305F\"><span class=\"spark-nlp-display-entity-name\">heartburn </span><span class=\"spark-nlp-display-entity-type\">Symptom</span></span><span class=\"spark-nlp-display-others\" style=\"background-color: white\"> / </span><span class=\"spark-nlp-display-entity-wrapper\" style=\"background-color: #A6488A\"><span class=\"spark-nlp-display-entity-name\">chest </span><span class=\"spark-nlp-display-entity-type\">BodyPart</span></span><span class=\"spark-nlp-display-others\" style=\"background-color: white\"> </span><span class=\"spark-nlp-display-entity-wrapper\" style=\"background-color: #12305F\"><span class=\"spark-nlp-display-entity-name\">pain </span><span class=\"spark-nlp-display-entity-type\">Symptom</span></span><span class=\"spark-nlp-display-others\" style=\"background-color: white\">. So bad that I had to go to the </span><span class=\"spark-nlp-display-entity-wrapper\" style=\"background-color: #619682\"><span class=\"spark-nlp-display-entity-name\">emergency </span><span class=\"spark-nlp-display-entity-type\">ClinicalDept</span></span><span class=\"spark-nlp-display-others\" style=\"background-color: white\">. </span><span class=\"spark-nlp-display-entity-wrapper\" style=\"background-color: #0CC28A\"><span class=\"spark-nlp-display-entity-name\">Endoscopy </span><span class=\"spark-nlp-display-entity-type\">Procedure</span></span><span class=\"spark-nlp-display-others\" style=\"background-color: white\"> showed a chronic </span><span class=\"spark-nlp-display-entity-wrapper\" style=\"background-color: #01209D\"><span class=\"spark-nlp-display-entity-name\">gastritis </span><span class=\"spark-nlp-display-entity-type\">Disease</span></span><span class=\"spark-nlp-display-others\" style=\"background-color: white\"> and </span><span class=\"spark-nlp-display-entity-wrapper\" style=\"background-color: #01209D\"><span class=\"spark-nlp-display-entity-name\">duodenitis </span><span class=\"spark-nlp-display-entity-type\">Disease</span></span><span class=\"spark-nlp-display-others\" style=\"background-color: white\">. However, my </span><span class=\"spark-nlp-display-entity-wrapper\" style=\"background-color: #74BF99\"><span class=\"spark-nlp-display-entity-name\">GI doctor </span><span class=\"spark-nlp-display-entity-type\">Employment</span></span><span class=\"spark-nlp-display-others\" style=\"background-color: white\"> did not think I need </span><span class=\"spark-nlp-display-entity-wrapper\" style=\"background-color: #8B668B\"><span class=\"spark-nlp-display-entity-name\">antibiotics </span><span class=\"spark-nlp-display-entity-type\">Drug</span></span><span class=\"spark-nlp-display-others\" style=\"background-color: white\"> since the </span><span class=\"spark-nlp-display-entity-wrapper\" style=\"background-color: #01209D\"><span class=\"spark-nlp-display-entity-name\">gastritis </span><span class=\"spark-nlp-display-entity-type\">Disease</span></span><span class=\"spark-nlp-display-others\" style=\"background-color: white\"> was mild. I was taking </span><span class=\"spark-nlp-display-entity-wrapper\" style=\"background-color: #8B668B\"><span class=\"spark-nlp-display-entity-name\">PPI </span><span class=\"spark-nlp-display-entity-type\">Drug</span></span><span class=\"spark-nlp-display-others\" style=\"background-color: white\"> for </span><span class=\"spark-nlp-display-entity-wrapper\" style=\"background-color: #04B47F\"><span class=\"spark-nlp-display-entity-name\">3-4 weeks </span><span class=\"spark-nlp-display-entity-type\">Duration</span></span><span class=\"spark-nlp-display-others\" style=\"background-color: white\"> but my symptoms were getting worse with no improvement, </span><span class=\"spark-nlp-display-entity-wrapper\" style=\"background-color: #A6488A\"><span class=\"spark-nlp-display-entity-name\">stomach </span><span class=\"spark-nlp-display-entity-type\">BodyPart</span></span><span class=\"spark-nlp-display-others\" style=\"background-color: white\"> </span><span class=\"spark-nlp-display-entity-wrapper\" style=\"background-color: #12305F\"><span class=\"spark-nlp-display-entity-name\">pain </span><span class=\"spark-nlp-display-entity-type\">Symptom</span></span><span class=\"spark-nlp-display-others\" style=\"background-color: white\"> was getting stabby and unbearable and it started to </span><span class=\"spark-nlp-display-entity-wrapper\" style=\"background-color: #12305F\"><span class=\"spark-nlp-display-entity-name\">hurt </span><span class=\"spark-nlp-display-entity-type\">Symptom</span></span><span class=\"spark-nlp-display-others\" style=\"background-color: white\"> a lot on the </span><span class=\"spark-nlp-display-entity-wrapper\" style=\"background-color: #7D8A79\"><span class=\"spark-nlp-display-entity-name\">right side </span><span class=\"spark-nlp-display-entity-type\">Laterality</span></span><span class=\"spark-nlp-display-others\" style=\"background-color: white\"> </span><span class=\"spark-nlp-display-entity-wrapper\" style=\"background-color: #7D8A79\"><span class=\"spark-nlp-display-entity-name\">under </span><span class=\"spark-nlp-display-entity-type\">Laterality</span></span><span class=\"spark-nlp-display-others\" style=\"background-color: white\"> the </span><span class=\"spark-nlp-display-entity-wrapper\" style=\"background-color: #A6488A\"><span class=\"spark-nlp-display-entity-name\">ribs </span><span class=\"spark-nlp-display-entity-type\">BodyPart</span></span><span class=\"spark-nlp-display-others\" style=\"background-color: white\">. It also feels like something is </span><span class=\"spark-nlp-display-entity-wrapper\" style=\"background-color: #12305F\"><span class=\"spark-nlp-display-entity-name\">swollen </span><span class=\"spark-nlp-display-entity-type\">Symptom</span></span><span class=\"spark-nlp-display-others\" style=\"background-color: white\"> under </span><span class=\"spark-nlp-display-entity-wrapper\" style=\"background-color: #7D8A79\"><span class=\"spark-nlp-display-entity-name\">right </span><span class=\"spark-nlp-display-entity-type\">Laterality</span></span><span class=\"spark-nlp-display-others\" style=\"background-color: white\"> </span><span class=\"spark-nlp-display-entity-wrapper\" style=\"background-color: #A6488A\"><span class=\"spark-nlp-display-entity-name\">ribs </span><span class=\"spark-nlp-display-entity-type\">BodyPart</span></span><span class=\"spark-nlp-display-others\" style=\"background-color: white\"> and makes popping sound (</span><span class=\"spark-nlp-display-entity-wrapper\" style=\"background-color: #77b5fe\"><span class=\"spark-nlp-display-entity-name\">ultrasound </span><span class=\"spark-nlp-display-entity-type\">Test</span></span><span class=\"spark-nlp-display-others\" style=\"background-color: white\"> did not show anything). After </span><span class=\"spark-nlp-display-entity-wrapper\" style=\"background-color: #8B668B\"><span class=\"spark-nlp-display-entity-name\">PPI </span><span class=\"spark-nlp-display-entity-type\">Drug</span></span><span class=\"spark-nlp-display-others\" style=\"background-color: white\"> was not helping much I was put on </span><span class=\"spark-nlp-display-entity-wrapper\" style=\"background-color: #8B668B\"><span class=\"spark-nlp-display-entity-name\">Sucralfate </span><span class=\"spark-nlp-display-entity-type\">Drug</span></span><span class=\"spark-nlp-display-others\" style=\"background-color: white\"> (also called </span><span class=\"spark-nlp-display-entity-wrapper\" style=\"background-color: #8B668B\"><span class=\"spark-nlp-display-entity-name\">Carafate </span><span class=\"spark-nlp-display-entity-type\">Drug</span></span><span class=\"spark-nlp-display-others\" style=\"background-color: white\">) and it helped a bit. </span><span class=\"spark-nlp-display-entity-wrapper\" style=\"background-color: #A831C7\"><span class=\"spark-nlp-display-entity-name\">Now </span><span class=\"spark-nlp-display-entity-type\">DateTime</span></span><span class=\"spark-nlp-display-others\" style=\"background-color: white\"> it is been </span><span class=\"spark-nlp-display-entity-wrapper\" style=\"background-color: #04B47F\"><span class=\"spark-nlp-display-entity-name\">2 months </span><span class=\"spark-nlp-display-entity-type\">Duration</span></span><span class=\"spark-nlp-display-others\" style=\"background-color: white\">, I am back in Canada where I am residing permanently and </span><span class=\"spark-nlp-display-entity-wrapper\" style=\"background-color: #74BF99\"><span class=\"spark-nlp-display-entity-name\">doctors </span><span class=\"spark-nlp-display-entity-type\">Employment</span></span><span class=\"spark-nlp-display-others\" style=\"background-color: white\"> here have no idea what is going on. They sent me to redo the </span><span class=\"spark-nlp-display-entity-wrapper\" style=\"background-color: #77b5fe\"><span class=\"spark-nlp-display-entity-name\">H.Pylori test </span><span class=\"spark-nlp-display-entity-type\">Test</span></span><span class=\"spark-nlp-display-others\" style=\"background-color: white\"> and another theory they have is a </span><span class=\"spark-nlp-display-entity-wrapper\" style=\"background-color: #01209D\"><span class=\"spark-nlp-display-entity-name\">bile reflux </span><span class=\"spark-nlp-display-entity-type\">Disease</span></span><span class=\"spark-nlp-display-others\" style=\"background-color: white\">. I am really scared because for over </span><span class=\"spark-nlp-display-entity-wrapper\" style=\"background-color: #04B47F\"><span class=\"spark-nlp-display-entity-name\">2 months </span><span class=\"spark-nlp-display-entity-type\">Duration</span></span><span class=\"spark-nlp-display-others\" style=\"background-color: white\"> I have not had a day without </span><span class=\"spark-nlp-display-entity-wrapper\" style=\"background-color: #12305F\"><span class=\"spark-nlp-display-entity-name\">pain </span><span class=\"spark-nlp-display-entity-type\">Symptom</span></span><span class=\"spark-nlp-display-others\" style=\"background-color: white\"> even on the better days, I eat very special diet and I </span><span class=\"spark-nlp-display-entity-wrapper\" style=\"background-color: #12305F\"><span class=\"spark-nlp-display-entity-name\">lost some weight </span><span class=\"spark-nlp-display-entity-type\">Symptom</span></span><span class=\"spark-nlp-display-others\" style=\"background-color: white\"> because I could not eat enough and underweight. I saw 3 </span><span class=\"spark-nlp-display-entity-wrapper\" style=\"background-color: #74BF99\"><span class=\"spark-nlp-display-entity-name\">GI doctors </span><span class=\"spark-nlp-display-entity-type\">Employment</span></span><span class=\"spark-nlp-display-others\" style=\"background-color: white\"> (one in Russia and 2 in Canada) and they all say that they have never seen a case like me... to get problems after </span><span class=\"spark-nlp-display-entity-wrapper\" style=\"background-color: #0CC28A\"><span class=\"spark-nlp-display-entity-name\">endoscopy </span><span class=\"spark-nlp-display-entity-type\">Procedure</span></span><span class=\"spark-nlp-display-others\" style=\"background-color: white\">...</span></div>"
            ]
          },
          "metadata": {}
        },
        {
          "output_type": "stream",
          "name": "stdout",
          "text": [
            "\n",
            "\n",
            "\n"
          ]
        },
        {
          "output_type": "display_data",
          "data": {
            "text/plain": [
              "<IPython.core.display.HTML object>"
            ],
            "text/html": [
              "\n",
              "<style>\n",
              "    @import url('https://fonts.googleapis.com/css2?family=Montserrat:wght@300;400;500;600;700&display=swap');\n",
              "    @import url('https://fonts.googleapis.com/css2?family=Vistol Regular:wght@300;400;500;600;700&display=swap');\n",
              "    \n",
              "    .spark-nlp-display-scroll-entities {\n",
              "        border: 1px solid #E7EDF0;\n",
              "        border-radius: 3px;\n",
              "        text-align: justify;\n",
              "        \n",
              "    }\n",
              "    .spark-nlp-display-scroll-entities span {  \n",
              "        font-size: 14px;\n",
              "        line-height: 24px;\n",
              "        color: #536B76;\n",
              "        font-family: 'Montserrat', sans-serif !important;\n",
              "    }\n",
              "    \n",
              "    .spark-nlp-display-entity-wrapper{\n",
              "    \n",
              "        display: inline-grid;\n",
              "        text-align: center;\n",
              "        border-radius: 4px;\n",
              "        margin: 0 2px 5px 2px;\n",
              "        padding: 1px\n",
              "    }\n",
              "    .spark-nlp-display-entity-name{\n",
              "        font-size: 14px;\n",
              "        line-height: 24px;\n",
              "        font-family: 'Montserrat', sans-serif !important;\n",
              "        \n",
              "        background: #f1f2f3;\n",
              "        border-width: medium;\n",
              "        text-align: center;\n",
              "        \n",
              "        font-weight: 400;\n",
              "        \n",
              "        border-radius: 5px;\n",
              "        padding: 2px 5px;\n",
              "        display: block;\n",
              "        margin: 3px 2px;\n",
              "    \n",
              "    }\n",
              "    .spark-nlp-display-entity-type{\n",
              "        font-size: 14px;\n",
              "        line-height: 24px;\n",
              "        color: #ffffff;\n",
              "        font-family: 'Montserrat', sans-serif !important;\n",
              "        \n",
              "        text-transform: uppercase;\n",
              "        \n",
              "        font-weight: 500;\n",
              "\n",
              "        display: block;\n",
              "        padding: 3px 5px;\n",
              "    }\n",
              "    \n",
              "    .spark-nlp-display-entity-resolution{\n",
              "        font-size: 14px;\n",
              "        line-height: 24px;\n",
              "        color: #ffffff;\n",
              "        font-family: 'Vistol Regular', sans-serif !important;\n",
              "        \n",
              "        text-transform: uppercase;\n",
              "        \n",
              "        font-weight: 500;\n",
              "\n",
              "        display: block;\n",
              "        padding: 3px 5px;\n",
              "    }\n",
              "    \n",
              "    .spark-nlp-display-others{\n",
              "        font-size: 14px;\n",
              "        line-height: 24px;\n",
              "        font-family: 'Montserrat', sans-serif !important;\n",
              "        \n",
              "        font-weight: 400;\n",
              "    }\n",
              "\n",
              "</style>\n",
              " <span class=\"spark-nlp-display-others\" style=\"background-color: white\">Ok, I have bad </span><span class=\"spark-nlp-display-entity-wrapper\" style=\"background-color: #71B3A4\"><span class=\"spark-nlp-display-entity-name\">teeth </span><span class=\"spark-nlp-display-entity-type\">BodyPart</span></span><span class=\"spark-nlp-display-others\" style=\"background-color: white\">. I went finally to the </span><span class=\"spark-nlp-display-entity-wrapper\" style=\"background-color: #C7C1AF\"><span class=\"spark-nlp-display-entity-name\">dentist </span><span class=\"spark-nlp-display-entity-type\">Employment</span></span><span class=\"spark-nlp-display-others\" style=\"background-color: white\"> and </span><span class=\"spark-nlp-display-entity-wrapper\" style=\"background-color: #ffacb7\"><span class=\"spark-nlp-display-entity-name\">he </span><span class=\"spark-nlp-display-entity-type\">Gender</span></span><span class=\"spark-nlp-display-others\" style=\"background-color: white\"> said I have an </span><span class=\"spark-nlp-display-entity-wrapper\" style=\"background-color: #054B49\"><span class=\"spark-nlp-display-entity-name\">infection </span><span class=\"spark-nlp-display-entity-type\">Disease</span></span><span class=\"spark-nlp-display-others\" style=\"background-color: white\"> in my </span><span class=\"spark-nlp-display-entity-wrapper\" style=\"background-color: #71B3A4\"><span class=\"spark-nlp-display-entity-name\">bone </span><span class=\"spark-nlp-display-entity-type\">BodyPart</span></span><span class=\"spark-nlp-display-others\" style=\"background-color: white\"> under my bad </span><span class=\"spark-nlp-display-entity-wrapper\" style=\"background-color: #71B3A4\"><span class=\"spark-nlp-display-entity-name\">tooth </span><span class=\"spark-nlp-display-entity-type\">BodyPart</span></span><span class=\"spark-nlp-display-others\" style=\"background-color: white\">. I have been referred for removal of the decayed </span><span class=\"spark-nlp-display-entity-wrapper\" style=\"background-color: #71B3A4\"><span class=\"spark-nlp-display-entity-name\">tooth </span><span class=\"spark-nlp-display-entity-type\">BodyPart</span></span><span class=\"spark-nlp-display-others\" style=\"background-color: white\">. They prescribed me </span><span class=\"spark-nlp-display-entity-wrapper\" style=\"background-color: #8B668B\"><span class=\"spark-nlp-display-entity-name\">antibiotics </span><span class=\"spark-nlp-display-entity-type\">Drug</span></span><span class=\"spark-nlp-display-others\" style=\"background-color: white\"> </span><span class=\"spark-nlp-display-entity-wrapper\" style=\"background-color: #848937\"><span class=\"spark-nlp-display-entity-name\">500mg </span><span class=\"spark-nlp-display-entity-type\">Dosage_Strength</span></span><span class=\"spark-nlp-display-others\" style=\"background-color: white\"> of </span><span class=\"spark-nlp-display-entity-wrapper\" style=\"background-color: #8B668B\"><span class=\"spark-nlp-display-entity-name\">amoxicillin </span><span class=\"spark-nlp-display-entity-type\">Drug</span></span><span class=\"spark-nlp-display-others\" style=\"background-color: white\"> </span><span class=\"spark-nlp-display-entity-wrapper\" style=\"background-color: #849317\"><span class=\"spark-nlp-display-entity-name\">three times a day </span><span class=\"spark-nlp-display-entity-type\">Frequency</span></span><span class=\"spark-nlp-display-others\" style=\"background-color: white\"> but I </span><span class=\"spark-nlp-display-entity-wrapper\" style=\"background-color: #570C97\"><span class=\"spark-nlp-display-entity-name\">can't sleep </span><span class=\"spark-nlp-display-entity-type\">Symptom</span></span><span class=\"spark-nlp-display-others\" style=\"background-color: white\">, eat, or really think. I am taking </span><span class=\"spark-nlp-display-entity-wrapper\" style=\"background-color: #8B668B\"><span class=\"spark-nlp-display-entity-name\">ibroprofen </span><span class=\"spark-nlp-display-entity-type\">Drug</span></span><span class=\"spark-nlp-display-others\" style=\"background-color: white\"> and </span><span class=\"spark-nlp-display-entity-wrapper\" style=\"background-color: #8B668B\"><span class=\"spark-nlp-display-entity-name\">cocodamol </span><span class=\"spark-nlp-display-entity-type\">Drug</span></span><span class=\"spark-nlp-display-others\" style=\"background-color: white\"> </span><span class=\"spark-nlp-display-entity-wrapper\" style=\"background-color: #849317\"><span class=\"spark-nlp-display-entity-name\">regularly </span><span class=\"spark-nlp-display-entity-type\">Frequency</span></span><span class=\"spark-nlp-display-others\" style=\"background-color: white\">. No effect really, I am using clove oil, not that it helps. Anyway I just need to know if this </span><span class=\"spark-nlp-display-entity-wrapper\" style=\"background-color: #570C97\"><span class=\"spark-nlp-display-entity-name\">pain </span><span class=\"spark-nlp-display-entity-type\">Symptom</span></span><span class=\"spark-nlp-display-others\" style=\"background-color: white\"> will stop anytime soon? I </span><span class=\"spark-nlp-display-entity-wrapper\" style=\"background-color: #1EB57F\"><span class=\"spark-nlp-display-entity-name\">now </span><span class=\"spark-nlp-display-entity-type\">DateTime</span></span><span class=\"spark-nlp-display-others\" style=\"background-color: white\"> have </span><span class=\"spark-nlp-display-entity-wrapper\" style=\"background-color: #570C97\"><span class=\"spark-nlp-display-entity-name\">swelling </span><span class=\"spark-nlp-display-entity-type\">Symptom</span></span><span class=\"spark-nlp-display-others\" style=\"background-color: white\"> on the inside of my </span><span class=\"spark-nlp-display-entity-wrapper\" style=\"background-color: #71B3A4\"><span class=\"spark-nlp-display-entity-name\">mouth </span><span class=\"spark-nlp-display-entity-type\">BodyPart</span></span><span class=\"spark-nlp-display-others\" style=\"background-color: white\"> in the roof of my </span><span class=\"spark-nlp-display-entity-wrapper\" style=\"background-color: #71B3A4\"><span class=\"spark-nlp-display-entity-name\">mouth </span><span class=\"spark-nlp-display-entity-type\">BodyPart</span></span><span class=\"spark-nlp-display-others\" style=\"background-color: white\">, it </span><span class=\"spark-nlp-display-entity-wrapper\" style=\"background-color: #570C97\"><span class=\"spark-nlp-display-entity-name\">hurts </span><span class=\"spark-nlp-display-entity-type\">Symptom</span></span><span class=\"spark-nlp-display-others\" style=\"background-color: white\"> to touch. Should I go to a and e? Is there anything I can do? My </span><span class=\"spark-nlp-display-entity-wrapper\" style=\"background-color: #C7C1AF\"><span class=\"spark-nlp-display-entity-name\">dentist </span><span class=\"spark-nlp-display-entity-type\">Employment</span></span><span class=\"spark-nlp-display-others\" style=\"background-color: white\"> is not open till </span><span class=\"spark-nlp-display-entity-wrapper\" style=\"background-color: #1EB57F\"><span class=\"spark-nlp-display-entity-name\">Monday </span><span class=\"spark-nlp-display-entity-type\">DateTime</span></span><span class=\"spark-nlp-display-others\" style=\"background-color: white\"> </span><span class=\"spark-nlp-display-entity-wrapper\" style=\"background-color: #1EB57F\"><span class=\"spark-nlp-display-entity-name\">now </span><span class=\"spark-nlp-display-entity-type\">DateTime</span></span><span class=\"spark-nlp-display-others\" style=\"background-color: white\">. </span><span class=\"spark-nlp-display-entity-wrapper\" style=\"background-color: #ffacb7\"><span class=\"spark-nlp-display-entity-name\">He </span><span class=\"spark-nlp-display-entity-type\">Gender</span></span><span class=\"spark-nlp-display-others\" style=\"background-color: white\"> said the </span><span class=\"spark-nlp-display-entity-wrapper\" style=\"background-color: #8B668B\"><span class=\"spark-nlp-display-entity-name\">antibiotics </span><span class=\"spark-nlp-display-entity-type\">Drug</span></span><span class=\"spark-nlp-display-others\" style=\"background-color: white\"> should work </span><span class=\"spark-nlp-display-entity-wrapper\" style=\"background-color: #4BAA02\"><span class=\"spark-nlp-display-entity-name\">over the weekend </span><span class=\"spark-nlp-display-entity-type\">Duration</span></span><span class=\"spark-nlp-display-others\" style=\"background-color: white\"> but I am scared I won't make it </span><span class=\"spark-nlp-display-entity-wrapper\" style=\"background-color: #4BAA02\"><span class=\"spark-nlp-display-entity-name\">through the weekend </span><span class=\"spark-nlp-display-entity-type\">Duration</span></span></div>"
            ]
          },
          "metadata": {}
        },
        {
          "output_type": "stream",
          "name": "stdout",
          "text": [
            "\n",
            "\n",
            "\n"
          ]
        },
        {
          "output_type": "display_data",
          "data": {
            "text/plain": [
              "<IPython.core.display.HTML object>"
            ],
            "text/html": [
              "\n",
              "<style>\n",
              "    @import url('https://fonts.googleapis.com/css2?family=Montserrat:wght@300;400;500;600;700&display=swap');\n",
              "    @import url('https://fonts.googleapis.com/css2?family=Vistol Regular:wght@300;400;500;600;700&display=swap');\n",
              "    \n",
              "    .spark-nlp-display-scroll-entities {\n",
              "        border: 1px solid #E7EDF0;\n",
              "        border-radius: 3px;\n",
              "        text-align: justify;\n",
              "        \n",
              "    }\n",
              "    .spark-nlp-display-scroll-entities span {  \n",
              "        font-size: 14px;\n",
              "        line-height: 24px;\n",
              "        color: #536B76;\n",
              "        font-family: 'Montserrat', sans-serif !important;\n",
              "    }\n",
              "    \n",
              "    .spark-nlp-display-entity-wrapper{\n",
              "    \n",
              "        display: inline-grid;\n",
              "        text-align: center;\n",
              "        border-radius: 4px;\n",
              "        margin: 0 2px 5px 2px;\n",
              "        padding: 1px\n",
              "    }\n",
              "    .spark-nlp-display-entity-name{\n",
              "        font-size: 14px;\n",
              "        line-height: 24px;\n",
              "        font-family: 'Montserrat', sans-serif !important;\n",
              "        \n",
              "        background: #f1f2f3;\n",
              "        border-width: medium;\n",
              "        text-align: center;\n",
              "        \n",
              "        font-weight: 400;\n",
              "        \n",
              "        border-radius: 5px;\n",
              "        padding: 2px 5px;\n",
              "        display: block;\n",
              "        margin: 3px 2px;\n",
              "    \n",
              "    }\n",
              "    .spark-nlp-display-entity-type{\n",
              "        font-size: 14px;\n",
              "        line-height: 24px;\n",
              "        color: #ffffff;\n",
              "        font-family: 'Montserrat', sans-serif !important;\n",
              "        \n",
              "        text-transform: uppercase;\n",
              "        \n",
              "        font-weight: 500;\n",
              "\n",
              "        display: block;\n",
              "        padding: 3px 5px;\n",
              "    }\n",
              "    \n",
              "    .spark-nlp-display-entity-resolution{\n",
              "        font-size: 14px;\n",
              "        line-height: 24px;\n",
              "        color: #ffffff;\n",
              "        font-family: 'Vistol Regular', sans-serif !important;\n",
              "        \n",
              "        text-transform: uppercase;\n",
              "        \n",
              "        font-weight: 500;\n",
              "\n",
              "        display: block;\n",
              "        padding: 3px 5px;\n",
              "    }\n",
              "    \n",
              "    .spark-nlp-display-others{\n",
              "        font-size: 14px;\n",
              "        line-height: 24px;\n",
              "        font-family: 'Montserrat', sans-serif !important;\n",
              "        \n",
              "        font-weight: 400;\n",
              "    }\n",
              "\n",
              "</style>\n",
              " <span class=\"spark-nlp-display-others\" style=\"background-color: white\">Hi, Firstly I'd be grateful for any input from anyone, and understand that it won't be actual medical advice but I'm just looking at other options. Secondly, please don't pass me off simply telling me to go to a </span><span class=\"spark-nlp-display-entity-wrapper\" style=\"background-color: #562C30\"><span class=\"spark-nlp-display-entity-name\">GP </span><span class=\"spark-nlp-display-entity-type\">Employment</span></span><span class=\"spark-nlp-display-others\" style=\"background-color: white\"> as many of you will be aware it's not that easy and certainly not for me. For around </span><span class=\"spark-nlp-display-entity-wrapper\" style=\"background-color: #B11746\"><span class=\"spark-nlp-display-entity-name\">2 years </span><span class=\"spark-nlp-display-entity-type\">Duration</span></span><span class=\"spark-nlp-display-others\" style=\"background-color: white\"> </span><span class=\"spark-nlp-display-entity-wrapper\" style=\"background-color: #81A87A\"><span class=\"spark-nlp-display-entity-name\">now </span><span class=\"spark-nlp-display-entity-type\">DateTime</span></span><span class=\"spark-nlp-display-others\" style=\"background-color: white\"> I have been feeling more and more </span><span class=\"spark-nlp-display-entity-wrapper\" style=\"background-color: #A72728\"><span class=\"spark-nlp-display-entity-name\">exhausting </span><span class=\"spark-nlp-display-entity-type\">Symptom</span></span><span class=\"spark-nlp-display-others\" style=\"background-color: white\">, </span><span class=\"spark-nlp-display-entity-wrapper\" style=\"background-color: #A72728\"><span class=\"spark-nlp-display-entity-name\">tired </span><span class=\"spark-nlp-display-entity-type\">Symptom</span></span><span class=\"spark-nlp-display-others\" style=\"background-color: white\">, no matter how much I sleep, I never wake and feel like I've been asleep. The sleep is so intense even after say </span><span class=\"spark-nlp-display-entity-wrapper\" style=\"background-color: #B11746\"><span class=\"spark-nlp-display-entity-name\">12 hours </span><span class=\"spark-nlp-display-entity-type\">Duration</span></span><span class=\"spark-nlp-display-others\" style=\"background-color: white\"> of it I wake and feel utter rubbish, drained, and like I have been drinking </span><span class=\"spark-nlp-display-entity-wrapper\" style=\"background-color: #B11746\"><span class=\"spark-nlp-display-entity-name\">all night </span><span class=\"spark-nlp-display-entity-type\">Duration</span></span><span class=\"spark-nlp-display-others\" style=\"background-color: white\">, which I haven't. This has got so bad </span><span class=\"spark-nlp-display-entity-wrapper\" style=\"background-color: #81A87A\"><span class=\"spark-nlp-display-entity-name\">now </span><span class=\"spark-nlp-display-entity-type\">DateTime</span></span><span class=\"spark-nlp-display-others\" style=\"background-color: white\"> I struggle to even see the day through without napping and still it's not enough. I've tried </span><span class=\"spark-nlp-display-entity-wrapper\" style=\"background-color: #8B668B\"><span class=\"spark-nlp-display-entity-name\">iron </span><span class=\"spark-nlp-display-entity-type\">Drug</span></span><span class=\"spark-nlp-display-others\" style=\"background-color: white\"> </span><span class=\"spark-nlp-display-entity-wrapper\" style=\"background-color: #3A674F\"><span class=\"spark-nlp-display-entity-name\">tablets </span><span class=\"spark-nlp-display-entity-type\">Form</span></span><span class=\"spark-nlp-display-others\" style=\"background-color: white\">, various other </span><span class=\"spark-nlp-display-entity-wrapper\" style=\"background-color: #8B668B\"><span class=\"spark-nlp-display-entity-name\">vitamins </span><span class=\"spark-nlp-display-entity-type\">Drug</span></span><span class=\"spark-nlp-display-others\" style=\"background-color: white\">, etc, and noticed no difference, even taking </span><span class=\"spark-nlp-display-entity-wrapper\" style=\"background-color: #8B668B\"><span class=\"spark-nlp-display-entity-name\">Furrous Sulphate </span><span class=\"spark-nlp-display-entity-type\">Drug</span></span><span class=\"spark-nlp-display-others\" style=\"background-color: white\">. </span><span class=\"spark-nlp-display-entity-wrapper\" style=\"background-color: #B11746\"><span class=\"spark-nlp-display-entity-name\">For around a year </span><span class=\"spark-nlp-display-entity-type\">Duration</span></span><span class=\"spark-nlp-display-others\" style=\"background-color: white\"> </span><span class=\"spark-nlp-display-entity-wrapper\" style=\"background-color: #81A87A\"><span class=\"spark-nlp-display-entity-name\">now </span><span class=\"spark-nlp-display-entity-type\">DateTime</span></span><span class=\"spark-nlp-display-others\" style=\"background-color: white\"> though at different, random times it seems I </span><span class=\"spark-nlp-display-entity-wrapper\" style=\"background-color: #A72728\"><span class=\"spark-nlp-display-entity-name\">cannot swallow </span><span class=\"spark-nlp-display-entity-type\">Symptom</span></span><span class=\"spark-nlp-display-others\" style=\"background-color: white\">. I try but my </span><span class=\"spark-nlp-display-entity-wrapper\" style=\"background-color: #42C142\"><span class=\"spark-nlp-display-entity-name\">body </span><span class=\"spark-nlp-display-entity-type\">BodyPart</span></span><span class=\"spark-nlp-display-others\" style=\"background-color: white\"> won't let me, I try and its like the signal from my </span><span class=\"spark-nlp-display-entity-wrapper\" style=\"background-color: #42C142\"><span class=\"spark-nlp-display-entity-name\">brain </span><span class=\"spark-nlp-display-entity-type\">BodyPart</span></span><span class=\"spark-nlp-display-others\" style=\"background-color: white\"> isn't reaching my </span><span class=\"spark-nlp-display-entity-wrapper\" style=\"background-color: #42C142\"><span class=\"spark-nlp-display-entity-name\">throat </span><span class=\"spark-nlp-display-entity-type\">BodyPart</span></span><span class=\"spark-nlp-display-others\" style=\"background-color: white\"> to swallow. As well as this I'm constantly zoned out, someone tries to talk to me but I can't process it or follow the conversation. I do have </span><span class=\"spark-nlp-display-entity-wrapper\" style=\"background-color: #A7312F\"><span class=\"spark-nlp-display-entity-name\">BPD </span><span class=\"spark-nlp-display-entity-type\">Disease</span></span><span class=\"spark-nlp-display-others\" style=\"background-color: white\">, </span><span class=\"spark-nlp-display-entity-wrapper\" style=\"background-color: #85C549\"><span class=\"spark-nlp-display-entity-name\">Autism </span><span class=\"spark-nlp-display-entity-type\">PsychologicalCondition</span></span><span class=\"spark-nlp-display-others\" style=\"background-color: white\"> and some other issues but I've had those my whole life while these new symptoms seem to be progressing. I'm really worried, and I know I will have to see a </span><span class=\"spark-nlp-display-entity-wrapper\" style=\"background-color: #562C30\"><span class=\"spark-nlp-display-entity-name\">GP </span><span class=\"spark-nlp-display-entity-type\">Employment</span></span><span class=\"spark-nlp-display-others\" style=\"background-color: white\"> but I just wanted to see if anyone had any in put good or bad</span></div>"
            ]
          },
          "metadata": {}
        },
        {
          "output_type": "stream",
          "name": "stdout",
          "text": [
            "\n",
            "\n",
            "\n"
          ]
        },
        {
          "output_type": "display_data",
          "data": {
            "text/plain": [
              "<IPython.core.display.HTML object>"
            ],
            "text/html": [
              "\n",
              "<style>\n",
              "    @import url('https://fonts.googleapis.com/css2?family=Montserrat:wght@300;400;500;600;700&display=swap');\n",
              "    @import url('https://fonts.googleapis.com/css2?family=Vistol Regular:wght@300;400;500;600;700&display=swap');\n",
              "    \n",
              "    .spark-nlp-display-scroll-entities {\n",
              "        border: 1px solid #E7EDF0;\n",
              "        border-radius: 3px;\n",
              "        text-align: justify;\n",
              "        \n",
              "    }\n",
              "    .spark-nlp-display-scroll-entities span {  \n",
              "        font-size: 14px;\n",
              "        line-height: 24px;\n",
              "        color: #536B76;\n",
              "        font-family: 'Montserrat', sans-serif !important;\n",
              "    }\n",
              "    \n",
              "    .spark-nlp-display-entity-wrapper{\n",
              "    \n",
              "        display: inline-grid;\n",
              "        text-align: center;\n",
              "        border-radius: 4px;\n",
              "        margin: 0 2px 5px 2px;\n",
              "        padding: 1px\n",
              "    }\n",
              "    .spark-nlp-display-entity-name{\n",
              "        font-size: 14px;\n",
              "        line-height: 24px;\n",
              "        font-family: 'Montserrat', sans-serif !important;\n",
              "        \n",
              "        background: #f1f2f3;\n",
              "        border-width: medium;\n",
              "        text-align: center;\n",
              "        \n",
              "        font-weight: 400;\n",
              "        \n",
              "        border-radius: 5px;\n",
              "        padding: 2px 5px;\n",
              "        display: block;\n",
              "        margin: 3px 2px;\n",
              "    \n",
              "    }\n",
              "    .spark-nlp-display-entity-type{\n",
              "        font-size: 14px;\n",
              "        line-height: 24px;\n",
              "        color: #ffffff;\n",
              "        font-family: 'Montserrat', sans-serif !important;\n",
              "        \n",
              "        text-transform: uppercase;\n",
              "        \n",
              "        font-weight: 500;\n",
              "\n",
              "        display: block;\n",
              "        padding: 3px 5px;\n",
              "    }\n",
              "    \n",
              "    .spark-nlp-display-entity-resolution{\n",
              "        font-size: 14px;\n",
              "        line-height: 24px;\n",
              "        color: #ffffff;\n",
              "        font-family: 'Vistol Regular', sans-serif !important;\n",
              "        \n",
              "        text-transform: uppercase;\n",
              "        \n",
              "        font-weight: 500;\n",
              "\n",
              "        display: block;\n",
              "        padding: 3px 5px;\n",
              "    }\n",
              "    \n",
              "    .spark-nlp-display-others{\n",
              "        font-size: 14px;\n",
              "        line-height: 24px;\n",
              "        font-family: 'Montserrat', sans-serif !important;\n",
              "        \n",
              "        font-weight: 400;\n",
              "    }\n",
              "\n",
              "</style>\n",
              " <span class=\"spark-nlp-display-others\" style=\"background-color: white\">Hi, I am not sure if this is the correct section to cover all of this, but I have been going through a tuff time </span><span class=\"spark-nlp-display-entity-wrapper\" style=\"background-color: #2C99B5\"><span class=\"spark-nlp-display-entity-name\">recently </span><span class=\"spark-nlp-display-entity-type\">DateTime</span></span><span class=\"spark-nlp-display-others\" style=\"background-color: white\">, as a whole and one of the stand-out things is I can't cope generally with things and just </span><span class=\"spark-nlp-display-entity-wrapper\" style=\"background-color: #1B0B39\"><span class=\"spark-nlp-display-entity-name\">can't sleep </span><span class=\"spark-nlp-display-entity-type\">Symptom</span></span><span class=\"spark-nlp-display-others\" style=\"background-color: white\"> very much only about </span><span class=\"spark-nlp-display-entity-wrapper\" style=\"background-color: #439980\"><span class=\"spark-nlp-display-entity-name\">3 hours </span><span class=\"spark-nlp-display-entity-type\">Duration</span></span><span class=\"spark-nlp-display-others\" style=\"background-color: white\"> </span><span class=\"spark-nlp-display-entity-wrapper\" style=\"background-color: #0B7A0C\"><span class=\"spark-nlp-display-entity-name\">a night </span><span class=\"spark-nlp-display-entity-type\">Frequency</span></span><span class=\"spark-nlp-display-others\" style=\"background-color: white\">. I used to sleep really well, but what's changed is when getting to the point of dropping off to sleep it's like my </span><span class=\"spark-nlp-display-entity-wrapper\" style=\"background-color: #A10D48\"><span class=\"spark-nlp-display-entity-name\">body </span><span class=\"spark-nlp-display-entity-type\">BodyPart</span></span><span class=\"spark-nlp-display-others\" style=\"background-color: white\"> or </span><span class=\"spark-nlp-display-entity-wrapper\" style=\"background-color: #A10D48\"><span class=\"spark-nlp-display-entity-name\">brain </span><span class=\"spark-nlp-display-entity-type\">BodyPart</span></span><span class=\"spark-nlp-display-others\" style=\"background-color: white\"> is just trying to fight it all the time, like releasing </span><span class=\"spark-nlp-display-entity-wrapper\" style=\"background-color: #8B668B\"><span class=\"spark-nlp-display-entity-name\">adrenaline </span><span class=\"spark-nlp-display-entity-type\">Drug</span></span><span class=\"spark-nlp-display-others\" style=\"background-color: white\"> (like a charge through my </span><span class=\"spark-nlp-display-entity-wrapper\" style=\"background-color: #A10D48\"><span class=\"spark-nlp-display-entity-name\">body </span><span class=\"spark-nlp-display-entity-type\">BodyPart</span></span><span class=\"spark-nlp-display-others\" style=\"background-color: white\">) or a massive jerk happens numerous times. I have been taking </span><span class=\"spark-nlp-display-entity-wrapper\" style=\"background-color: #8B668B\"><span class=\"spark-nlp-display-entity-name\">Nytol </span><span class=\"spark-nlp-display-entity-type\">Drug</span></span><span class=\"spark-nlp-display-others\" style=\"background-color: white\">, but that only gets me about </span><span class=\"spark-nlp-display-entity-wrapper\" style=\"background-color: #439980\"><span class=\"spark-nlp-display-entity-name\">2-3 hours </span><span class=\"spark-nlp-display-entity-type\">Duration</span></span><span class=\"spark-nlp-display-others\" style=\"background-color: white\"> before waking up, my whole system seems like in a high state of alert </span><span class=\"spark-nlp-display-entity-wrapper\" style=\"background-color: #439980\"><span class=\"spark-nlp-display-entity-name\">throughout the day </span><span class=\"spark-nlp-display-entity-type\">Duration</span></span><span class=\"spark-nlp-display-others\" style=\"background-color: white\">. Would </span><span class=\"spark-nlp-display-entity-wrapper\" style=\"background-color: #8B668B\"><span class=\"spark-nlp-display-entity-name\">Antidepressants </span><span class=\"spark-nlp-display-entity-type\">Drug</span></span><span class=\"spark-nlp-display-others\" style=\"background-color: white\"> help me and restore some calm to my system? I have never taken them before, but I feel as if I need something </span><span class=\"spark-nlp-display-entity-wrapper\" style=\"background-color: #2C99B5\"><span class=\"spark-nlp-display-entity-name\">now </span><span class=\"spark-nlp-display-entity-type\">DateTime</span></span><span class=\"spark-nlp-display-others\" style=\"background-color: white\">, as I can't continue like this. Thanks</span></div>"
            ]
          },
          "metadata": {}
        },
        {
          "output_type": "stream",
          "name": "stdout",
          "text": [
            "\n",
            "\n",
            "\n"
          ]
        },
        {
          "output_type": "display_data",
          "data": {
            "text/plain": [
              "<IPython.core.display.HTML object>"
            ],
            "text/html": [
              "\n",
              "<style>\n",
              "    @import url('https://fonts.googleapis.com/css2?family=Montserrat:wght@300;400;500;600;700&display=swap');\n",
              "    @import url('https://fonts.googleapis.com/css2?family=Vistol Regular:wght@300;400;500;600;700&display=swap');\n",
              "    \n",
              "    .spark-nlp-display-scroll-entities {\n",
              "        border: 1px solid #E7EDF0;\n",
              "        border-radius: 3px;\n",
              "        text-align: justify;\n",
              "        \n",
              "    }\n",
              "    .spark-nlp-display-scroll-entities span {  \n",
              "        font-size: 14px;\n",
              "        line-height: 24px;\n",
              "        color: #536B76;\n",
              "        font-family: 'Montserrat', sans-serif !important;\n",
              "    }\n",
              "    \n",
              "    .spark-nlp-display-entity-wrapper{\n",
              "    \n",
              "        display: inline-grid;\n",
              "        text-align: center;\n",
              "        border-radius: 4px;\n",
              "        margin: 0 2px 5px 2px;\n",
              "        padding: 1px\n",
              "    }\n",
              "    .spark-nlp-display-entity-name{\n",
              "        font-size: 14px;\n",
              "        line-height: 24px;\n",
              "        font-family: 'Montserrat', sans-serif !important;\n",
              "        \n",
              "        background: #f1f2f3;\n",
              "        border-width: medium;\n",
              "        text-align: center;\n",
              "        \n",
              "        font-weight: 400;\n",
              "        \n",
              "        border-radius: 5px;\n",
              "        padding: 2px 5px;\n",
              "        display: block;\n",
              "        margin: 3px 2px;\n",
              "    \n",
              "    }\n",
              "    .spark-nlp-display-entity-type{\n",
              "        font-size: 14px;\n",
              "        line-height: 24px;\n",
              "        color: #ffffff;\n",
              "        font-family: 'Montserrat', sans-serif !important;\n",
              "        \n",
              "        text-transform: uppercase;\n",
              "        \n",
              "        font-weight: 500;\n",
              "\n",
              "        display: block;\n",
              "        padding: 3px 5px;\n",
              "    }\n",
              "    \n",
              "    .spark-nlp-display-entity-resolution{\n",
              "        font-size: 14px;\n",
              "        line-height: 24px;\n",
              "        color: #ffffff;\n",
              "        font-family: 'Vistol Regular', sans-serif !important;\n",
              "        \n",
              "        text-transform: uppercase;\n",
              "        \n",
              "        font-weight: 500;\n",
              "\n",
              "        display: block;\n",
              "        padding: 3px 5px;\n",
              "    }\n",
              "    \n",
              "    .spark-nlp-display-others{\n",
              "        font-size: 14px;\n",
              "        line-height: 24px;\n",
              "        font-family: 'Montserrat', sans-serif !important;\n",
              "        \n",
              "        font-weight: 400;\n",
              "    }\n",
              "\n",
              "</style>\n",
              " <span class=\"spark-nlp-display-others\" style=\"background-color: white\">I'm only </span><span class=\"spark-nlp-display-entity-wrapper\" style=\"background-color: #ffe0ac\"><span class=\"spark-nlp-display-entity-name\">25 </span><span class=\"spark-nlp-display-entity-type\">Age</span></span><span class=\"spark-nlp-display-others\" style=\"background-color: white\"> and was prescribed </span><span class=\"spark-nlp-display-entity-wrapper\" style=\"background-color: #8B668B\"><span class=\"spark-nlp-display-entity-name\">lisnopril </span><span class=\"spark-nlp-display-entity-type\">Drug</span></span><span class=\"spark-nlp-display-others\" style=\"background-color: white\"> for high </span><span class=\"spark-nlp-display-entity-wrapper\" style=\"background-color: #48A2B0\"><span class=\"spark-nlp-display-entity-name\">blood pressure </span><span class=\"spark-nlp-display-entity-type\">VitalTest</span></span><span class=\"spark-nlp-display-others\" style=\"background-color: white\">. I also suffer from frequent </span><span class=\"spark-nlp-display-entity-wrapper\" style=\"background-color: #28A795\"><span class=\"spark-nlp-display-entity-name\">headaches </span><span class=\"spark-nlp-display-entity-type\">Symptom</span></span><span class=\"spark-nlp-display-others\" style=\"background-color: white\"> and </span><span class=\"spark-nlp-display-entity-wrapper\" style=\"background-color: #B44014\"><span class=\"spark-nlp-display-entity-name\">migraines </span><span class=\"spark-nlp-display-entity-type\">Disease</span></span><span class=\"spark-nlp-display-others\" style=\"background-color: white\">. </span><span class=\"spark-nlp-display-entity-wrapper\" style=\"background-color: #94108D\"><span class=\"spark-nlp-display-entity-name\">Now </span><span class=\"spark-nlp-display-entity-type\">DateTime</span></span><span class=\"spark-nlp-display-others\" style=\"background-color: white\"> the </span><span class=\"spark-nlp-display-entity-wrapper\" style=\"background-color: #8B668B\"><span class=\"spark-nlp-display-entity-name\">lisnopril </span><span class=\"spark-nlp-display-entity-type\">Drug</span></span><span class=\"spark-nlp-display-others\" style=\"background-color: white\"> actually did help with my </span><span class=\"spark-nlp-display-entity-wrapper\" style=\"background-color: #28A795\"><span class=\"spark-nlp-display-entity-name\">headaches </span><span class=\"spark-nlp-display-entity-type\">Symptom</span></span><span class=\"spark-nlp-display-others\" style=\"background-color: white\"> but the side effects are just too much. (Difficulty speaking, not myself, </span><span class=\"spark-nlp-display-entity-wrapper\" style=\"background-color: #28A795\"><span class=\"spark-nlp-display-entity-name\">weakness </span><span class=\"spark-nlp-display-entity-type\">Symptom</span></span><span class=\"spark-nlp-display-others\" style=\"background-color: white\">) I made the decision to stop taking them. It's been </span><span class=\"spark-nlp-display-entity-wrapper\" style=\"background-color: #8A9F0E\"><span class=\"spark-nlp-display-entity-name\">7 days </span><span class=\"spark-nlp-display-entity-type\">Duration</span></span><span class=\"spark-nlp-display-others\" style=\"background-color: white\"> and I literally can barely talk without my </span><span class=\"spark-nlp-display-entity-wrapper\" style=\"background-color: #28A795\"><span class=\"spark-nlp-display-entity-name\">voice squeaking </span><span class=\"spark-nlp-display-entity-type\">Symptom</span></span><span class=\"spark-nlp-display-others\" style=\"background-color: white\"> and sounding retarded. Im like on the verge of losing my job fuxk these poison </span><span class=\"spark-nlp-display-entity-wrapper\" style=\"background-color: #3E4F13\"><span class=\"spark-nlp-display-entity-name\">pills </span><span class=\"spark-nlp-display-entity-type\">Form</span></span><span class=\"spark-nlp-display-others\" style=\"background-color: white\"> like wtf do they give out to people. </span></div>"
            ]
          },
          "metadata": {}
        },
        {
          "output_type": "stream",
          "name": "stdout",
          "text": [
            "\n",
            "\n",
            "\n"
          ]
        }
      ]
    },
    {
      "cell_type": "code",
      "source": [],
      "metadata": {
        "id": "Wz50n_IiyJ7S"
      },
      "execution_count": null,
      "outputs": []
    }
  ]
}
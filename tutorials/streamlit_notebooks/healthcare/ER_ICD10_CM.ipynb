{
  "nbformat": 4,
  "nbformat_minor": 0,
  "metadata": {
    "colab": {
      "name": "ER_ICD10_CM.ipynb",
      "provenance": [],
      "collapsed_sections": [],
      "toc_visible": true
    },
    "kernelspec": {
      "name": "python3",
      "display_name": "Python 3"
    }
  },
  "cells": [
    {
      "cell_type": "markdown",
      "metadata": {
        "id": "TA21Jo5d9SVq"
      },
      "source": [
        "\n",
        "\n",
        "![JohnSnowLabs](https://nlp.johnsnowlabs.com/assets/images/logo.png)\n",
        "\n",
        "[![Open In Colab](https://colab.research.google.com/assets/colab-badge.svg)](https://colab.research.google.com/github/JohnSnowLabs/spark-nlp-workshop/blob/master/tutorials/streamlit_notebooks/healthcare/ER_ICD10_CM.ipynb)\n",
        "\n",
        "\n"
      ]
    },
    {
      "cell_type": "markdown",
      "metadata": {
        "id": "CzIdjHkAW8TB"
      },
      "source": [
        "# **ICD10-CM coding**"
      ]
    },
    {
      "cell_type": "markdown",
      "metadata": {
        "id": "6uDmeHEFW7_h"
      },
      "source": [
        "To run this yourself, you will need to upload your license keys to the notebook. Just Run The Cell Below in order to do that. Also You can open the file explorer on the left side of the screen and upload `license_keys.json` to the folder that opens.\n",
        "Otherwise, you can look at the example outputs at the bottom of the notebook.\n",
        "\n"
      ]
    },
    {
      "cell_type": "markdown",
      "metadata": {
        "id": "wIeCOiJNW-88"
      },
      "source": [
        "## 1. Colab Setup"
      ]
    },
    {
      "cell_type": "markdown",
      "metadata": {
        "id": "HMIDv74CYN0d"
      },
      "source": [
        "Import license keys"
      ]
    },
    {
      "cell_type": "code",
      "metadata": {
        "id": "ttHPIV2JXbIM",
        "colab": {
          "resources": {
            "http://localhost:8080/nbextensions/google.colab/files.js": {
              "data": "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",
              "ok": true,
              "headers": [
                [
                  "content-type",
                  "application/javascript"
                ]
              ],
              "status": 200,
              "status_text": "OK"
            }
          },
          "base_uri": "https://localhost:8080/",
          "height": 113
        },
        "outputId": "58c5495f-5793-404f-d9c0-a768c414c4ac"
      },
      "source": [
        "import os\n",
        "import json\n",
        "\n",
        "from google.colab import files\n",
        "\n",
        "license_keys = files.upload()\n",
        "\n",
        "with open(list(license_keys.keys())[0]) as f:\n",
        "    license_keys = json.load(f)\n",
        "\n",
        "sparknlp_version = license_keys[\"PUBLIC_VERSION\"]\n",
        "jsl_version = license_keys[\"JSL_VERSION\"]\n",
        "\n",
        "print ('SparkNLP Version:', sparknlp_version)\n",
        "print ('SparkNLP-JSL Version:', jsl_version)"
      ],
      "execution_count": 1,
      "outputs": [
        {
          "output_type": "display_data",
          "data": {
            "text/html": [
              "\n",
              "     <input type=\"file\" id=\"files-46d77733-6623-4929-ba2d-b7ce563da710\" name=\"files[]\" multiple disabled\n",
              "        style=\"border:none\" />\n",
              "     <output id=\"result-46d77733-6623-4929-ba2d-b7ce563da710\">\n",
              "      Upload widget is only available when the cell has been executed in the\n",
              "      current browser session. Please rerun this cell to enable.\n",
              "      </output>\n",
              "      <script src=\"/nbextensions/google.colab/files.js\"></script> "
            ],
            "text/plain": [
              "<IPython.core.display.HTML object>"
            ]
          },
          "metadata": {
            "tags": []
          }
        },
        {
          "output_type": "stream",
          "text": [
            "Saving v3_spark_nlp_for_healthcare.json to v3_spark_nlp_for_healthcare.json\n",
            "SparkNLP Version: 3.0.1\n",
            "SparkNLP-JSL Version: 3.0.0\n"
          ],
          "name": "stdout"
        }
      ]
    },
    {
      "cell_type": "markdown",
      "metadata": {
        "id": "rQtc1CHaYQjU"
      },
      "source": [
        "Install dependencies"
      ]
    },
    {
      "cell_type": "code",
      "metadata": {
        "id": "CGJktFHdHL1n"
      },
      "source": [
        "%%capture\n",
        "for k,v in license_keys.items(): \n",
        "    %set_env $k=$v\n",
        "\n",
        "!wget https://raw.githubusercontent.com/JohnSnowLabs/spark-nlp-workshop/master/jsl_colab_setup.sh\n",
        "!bash jsl_colab_setup.sh\n",
        "\n",
        "# Install Spark NLP Display for visualization\n",
        "!pip install --ignore-installed spark-nlp-display"
      ],
      "execution_count": 2,
      "outputs": []
    },
    {
      "cell_type": "markdown",
      "metadata": {
        "id": "Hj5FRDV4YSXN"
      },
      "source": [
        "Import dependencies into Python"
      ]
    },
    {
      "cell_type": "code",
      "metadata": {
        "id": "qUWyj8c6JSPP"
      },
      "source": [
        "import pandas as pd\n",
        "from pyspark.ml import Pipeline\n",
        "from pyspark.sql import SparkSession\n",
        "import pyspark.sql.functions as F\n",
        "\n",
        "import sparknlp\n",
        "from sparknlp.annotator import *\n",
        "from sparknlp_jsl.annotator import *\n",
        "from sparknlp.base import *\n",
        "import sparknlp_jsl\n"
      ],
      "execution_count": 3,
      "outputs": []
    },
    {
      "cell_type": "markdown",
      "metadata": {
        "id": "ed6Htm7qDQB3"
      },
      "source": [
        "Start the Spark session"
      ]
    },
    {
      "cell_type": "code",
      "metadata": {
        "id": "eaSM8-xhDRa4"
      },
      "source": [
        "spark = sparknlp_jsl.start(license_keys['SECRET'])\n",
        "\n",
        "# manually start session\n",
        "# params = {\"spark.driver.memory\" : \"16G\",\n",
        "#           \"spark.kryoserializer.buffer.max\" : \"2000M\",\n",
        "#           \"spark.driver.maxResultSize\" : \"2000M\"}\n",
        "\n",
        "# spark = sparknlp_jsl.start(license_keys['SECRET'],params=params)"
      ],
      "execution_count": 4,
      "outputs": []
    },
    {
      "cell_type": "markdown",
      "metadata": {
        "id": "9RgiqfX5XDqb"
      },
      "source": [
        "## 2. Select the Entity Resolver model and construct the pipeline"
      ]
    },
    {
      "cell_type": "markdown",
      "metadata": {
        "id": "ItrhGBVvXOXI"
      },
      "source": [
        "**NOTE: The mapping below is an example of how ICD10 resolvers work with different NER models. You can choose different combinations  according to your input data and requirements.** "
      ]
    },
    {
      "cell_type": "markdown",
      "metadata": {
        "id": "AVKr8C2SrkZQ"
      },
      "source": [
        "\n",
        "\n",
        "Select the models:\n",
        "\n",
        "**ICD10 Entity Resolver models:**\n",
        "\n",
        "1.   **chunkresolve_icd10cm_clinical**\n",
        "2.   **chunkresolve_icd10cm_diseases_clinical**\n",
        "3.   **chunkresolve_icd10cm_injuries_clinical**\n",
        "4.   **chunkresolve_icd10cm_musculoskeletal_clinical**\n",
        "5.   **chunkresolve_icd10cm_neoplasms_clinical**\n",
        "6.   **chunkresolve_icd10cm_puerile_clinical**\n",
        "\n",
        "\n",
        "\n",
        "For more details: https://github.com/JohnSnowLabs/spark-nlp-models#pretrained-models---spark-nlp-for-healthcare"
      ]
    },
    {
      "cell_type": "code",
      "metadata": {
        "id": "cK9xxkkfrsLc"
      },
      "source": [
        "#ner and entity resolver mapping\n",
        "ner_er_dict = {'chunkresolve_icd10cm_clinical': 'ner_clinical',\n",
        "              'chunkresolve_icd10cm_diseases_clinical': 'ner_diseases',\n",
        "              'chunkresolve_icd10cm_injuries_clinical': 'ner_clinical',\n",
        "              'chunkresolve_icd10cm_musculoskeletal_clinical': 'ner_clinical',\n",
        "              'chunkresolve_icd10cm_neoplasms_clinical': 'ner_bionlp',\n",
        "              'chunkresolve_icd10cm_puerile_clinical': 'ner_jsl'}\n",
        "# ER models are specfic to the codes they are trained on, so we need to filter out entities that will cause noise.\n",
        "wl_er_dict = {'chunkresolve_icd10cm_clinical': ['PROBLEM'],\n",
        "              'chunkresolve_icd10cm_diseases_clinical': ['Disease'],\n",
        "              'chunkresolve_icd10cm_injuries_clinical': ['PROBLEM'],\n",
        "              'chunkresolve_icd10cm_musculoskeletal_clinical': ['PROBLEM'],\n",
        "              'chunkresolve_icd10cm_neoplasms_clinical': ['CANCER','PATHOLOGICAL_FORMATION'],\n",
        "              'chunkresolve_icd10cm_puerile_clinical': ['PROBLEM']}\n",
        "\n",
        "# Change this to the model you want to use and re-run the cells below.\n",
        "model = 'chunkresolve_icd10cm_clinical'"
      ],
      "execution_count": 5,
      "outputs": []
    },
    {
      "cell_type": "markdown",
      "metadata": {
        "id": "zweiG2ilZqoR"
      },
      "source": [
        "Create the pipeline"
      ]
    },
    {
      "cell_type": "code",
      "metadata": {
        "id": "LLuDz_t40be4",
        "colab": {
          "base_uri": "https://localhost:8080/"
        },
        "outputId": "06c0464a-c038-4ccf-eac5-0e54cdc87b6d"
      },
      "source": [
        "document_assembler = DocumentAssembler() \\\n",
        "    .setInputCol('text')\\\n",
        "    .setOutputCol('document')\n",
        "\n",
        "sentence_detector = SentenceDetector() \\\n",
        "    .setInputCols(['document'])\\\n",
        "    .setOutputCol('sentences')\n",
        "\n",
        "tokenizer = Tokenizer()\\\n",
        "    .setInputCols(['sentences']) \\\n",
        "    .setOutputCol('tokens')\n",
        "\n",
        "embeddings = WordEmbeddingsModel.pretrained('embeddings_clinical', 'en', 'clinical/models')\\\n",
        "    .setInputCols([\"sentences\", \"tokens\"])\\\n",
        "    .setOutputCol(\"embeddings\")\n",
        "\n",
        "ner_model = MedicalNerModel.pretrained(ner_er_dict[model], \"en\", \"clinical/models\") \\\n",
        "    .setInputCols([\"sentences\", \"tokens\", \"embeddings\"])\\\n",
        "    .setOutputCol(\"ner_tags\") \n",
        "\n",
        "#using defined whitelist. You can define your own as well.\n",
        "ner_chunker = NerConverter()\\\n",
        "    .setInputCols([\"sentences\", \"tokens\", \"ner_tags\"])\\\n",
        "    .setOutputCol(\"ner_chunk\").setWhiteList(wl_er_dict[model])\n",
        "\n",
        "chunk_embeddings = ChunkEmbeddings()\\\n",
        "    .setInputCols(\"ner_chunk\", \"embeddings\")\\\n",
        "    .setOutputCol(\"chunk_embeddings\")\n",
        "\n",
        "entity_resolver = \\\n",
        "    ChunkEntityResolverModel.pretrained(model,\"en\",\"clinical/models\")\\\n",
        "    .setInputCols(\"tokens\",\"chunk_embeddings\").setOutputCol(\"resolution\")\n",
        "    \n",
        "pipeline = Pipeline(stages=[\n",
        "    document_assembler, \n",
        "    sentence_detector,\n",
        "    tokenizer,\n",
        "    embeddings,\n",
        "    ner_model,\n",
        "    ner_chunker,\n",
        "    chunk_embeddings,\n",
        "    entity_resolver])\n",
        "\n",
        "empty_df = spark.createDataFrame([['']]).toDF(\"text\")\n",
        "pipeline_model = pipeline.fit(empty_df)\n",
        "\n",
        "light_pipeline = sparknlp.base.LightPipeline(pipeline_model)"
      ],
      "execution_count": 6,
      "outputs": [
        {
          "output_type": "stream",
          "text": [
            "embeddings_clinical download started this may take some time.\n",
            "Approximate size to download 1.6 GB\n",
            "[OK!]\n",
            "ner_clinical download started this may take some time.\n",
            "Approximate size to download 13.9 MB\n",
            "[OK!]\n",
            "chunkresolve_icd10cm_clinical download started this may take some time.\n",
            "Approximate size to download 166.2 MB\n",
            "[OK!]\n"
          ],
          "name": "stdout"
        }
      ]
    },
    {
      "cell_type": "markdown",
      "metadata": {
        "id": "2Y9GpdJhXIpD"
      },
      "source": [
        "## 3. Create example inputs"
      ]
    },
    {
      "cell_type": "code",
      "metadata": {
        "id": "vBOKkB2THdGI"
      },
      "source": [
        "# Enter examples as strings in this array\n",
        "input_list = [\n",
        "\"\"\"The patient is a 5-month-old infant who presented initially on Monday with a cold, cough, and runny nose for 2 days. Mom states she had no fever. Her appetite was good but she was spitting up a lot. She had no difficulty breathing and her cough was described as dry and hacky. At that time, physical exam showed a right TM, which was red. Left TM was okay. She was fairly congested but looked happy and playful. She was started on Amoxil and Aldex and we told to recheck in 2 weeks to recheck her ear. Mom returned to clinic again today because she got much worse overnight. She was having difficulty breathing. She was much more congested and her appetite had decreased significantly today. She also spiked a temperature yesterday of 102.6 and always having trouble sleeping secondary to congestion.\"\"\",\n",
        "             ]"
      ],
      "execution_count": 7,
      "outputs": []
    },
    {
      "cell_type": "markdown",
      "metadata": {
        "id": "1gmrjqHSGcJx"
      },
      "source": [
        "# 4. Run the pipeline"
      ]
    },
    {
      "cell_type": "code",
      "metadata": {
        "id": "xdhgKutMHUoC"
      },
      "source": [
        "df = spark.createDataFrame(pd.DataFrame({\"text\": input_list}))\n",
        "result = pipeline_model.transform(df)\n",
        "light_result = light_pipeline.fullAnnotate(input_list[0])"
      ],
      "execution_count": 8,
      "outputs": []
    },
    {
      "cell_type": "markdown",
      "metadata": {
        "id": "UIVShVLhI68M"
      },
      "source": [
        "# 5. Visualize"
      ]
    },
    {
      "cell_type": "markdown",
      "metadata": {
        "id": "472iBPpK-FvF"
      },
      "source": [
        "Full Pipeline"
      ]
    },
    {
      "cell_type": "code",
      "metadata": {
        "id": "Qdh2BQaLI7tU",
        "colab": {
          "base_uri": "https://localhost:8080/"
        },
        "outputId": "bf2382a8-20d3-4151-8a63-97e1bb559028"
      },
      "source": [
        "result.select(\n",
        "    F.explode(\n",
        "        F.arrays_zip('ner_chunk.result', \n",
        "                     'ner_chunk.begin',\n",
        "                     'ner_chunk.end',\n",
        "                     'ner_chunk.metadata',\n",
        "                     'resolution.metadata', 'resolution.result')\n",
        "    ).alias('cols')\n",
        ").select(\n",
        "    F.expr(\"cols['0']\").alias('chunk'),\n",
        "    F.expr(\"cols['1']\").alias('begin'),\n",
        "    F.expr(\"cols['2']\").alias('end'),\n",
        "    F.expr(\"cols['3']['entity']\").alias('entity'),\n",
        "    F.expr(\"cols['4']['resolved_text']\").alias('icd10_description'),\n",
        "    F.expr(\"cols['5']\").alias('icd10_code'),\n",
        ").show(truncate=False)"
      ],
      "execution_count": 17,
      "outputs": [
        {
          "output_type": "stream",
          "text": [
            "+--------------------+-----+---+-------+------------------------------------------------------+----------+\n",
            "|chunk               |begin|end|entity |icd10_description                                     |icd10_code|\n",
            "+--------------------+-----+---+-------+------------------------------------------------------+----------+\n",
            "|a cold, cough       |75   |87 |PROBLEM|Chronic obstructive pulmonary disease, unspecified    |J449      |\n",
            "|runny nose          |94   |103|PROBLEM|Nasal congestion                                      |R0981     |\n",
            "|fever               |139  |143|PROBLEM|O'nyong-nyong fever                                   |A921      |\n",
            "|difficulty breathing|210  |229|PROBLEM|Shortness of breath                                   |R0602     |\n",
            "|her cough           |235  |243|PROBLEM|Cough                                                 |R05       |\n",
            "|dry                 |262  |264|PROBLEM|Dry beriberi                                          |E5111     |\n",
            "|hacky               |270  |274|PROBLEM|Encounter for screening for malignant neoplasm of skin|Z1283     |\n",
            "|a right TM          |312  |321|PROBLEM|Pingueculitis, right eye                              |H10811    |\n",
            "|red                 |334  |336|PROBLEM|Leptospirosis, unspecified                            |A279      |\n",
            "|fairly congested    |365  |380|PROBLEM|Edema, unspecified                                    |R609      |\n",
            "|much worse overnight|553  |572|PROBLEM|Hypersomnia, unspecified                              |G4710     |\n",
            "|difficulty breathing|590  |609|PROBLEM|Shortness of breath                                   |R0602     |\n",
            "|much more congested |620  |638|PROBLEM|Hypersomnia, unspecified                              |G4710     |\n",
            "|trouble sleeping    |759  |774|PROBLEM|Activity, sleeping                                    |Y9384     |\n",
            "|congestion          |789  |798|PROBLEM|Nasal congestion                                      |R0981     |\n",
            "+--------------------+-----+---+-------+------------------------------------------------------+----------+\n",
            "\n"
          ],
          "name": "stdout"
        }
      ]
    },
    {
      "cell_type": "markdown",
      "metadata": {
        "id": "1w6-BQ0MFL9Y"
      },
      "source": [
        "Light Pipeline"
      ]
    },
    {
      "cell_type": "code",
      "metadata": {
        "id": "LSukuO5eE1cZ",
        "colab": {
          "base_uri": "https://localhost:8080/"
        },
        "outputId": "3cb549a5-fb8b-49c2-d0a5-faae99b2fe1b"
      },
      "source": [
        "light_result[0]['resolution']"
      ],
      "execution_count": 20,
      "outputs": [
        {
          "output_type": "execute_result",
          "data": {
            "text/plain": [
              "[Annotation(entity, 75, 87, J449, {'chunk': '0', 'all_k_results': 'J449:::R05:::J00:::P800:::L502:::J440:::J45991:::G4483:::T483X5S:::T483X5A:::A3791:::A90:::T483X2A:::T50A16S:::A011:::T483X4A:::T483X3A:::A3701:::T483X4D:::T483X3D:::T483X4S:::A3700:::T50A15D:::T50A13A:::F5221', 'all_k_distances': '1.0191:::1.0633:::1.1106:::1.2013:::1.2018:::1.2401:::1.2861:::1.2883:::1.3233:::1.3330:::1.3475:::1.3516:::1.3541:::1.3666:::1.3689:::1.3723:::1.3785:::1.3813:::1.3822:::1.3826:::1.3846:::1.4072:::1.4106:::1.4257:::1.4269', 'confidence': '0.0533', 'all_k_cosine_distances': '0.2588:::0.2379:::0.2812:::0.3276:::0.1878:::0.2292:::0.3362:::0.2893:::0.3013:::0.2671:::0.2467:::0.4483:::0.2444:::0.2319:::0.3157:::0.2505:::0.2532:::0.2383:::0.2554:::0.2633:::0.2869:::0.2387:::0.2220:::0.2137:::0.3210', 'all_k_resolutions': 'Chronic obstructive pulmonary disease, unspecified:::Cough:::Acute nasopharyngitis [common cold]:::Cold injury syndrome:::Urticaria due to cold and heat:::Chronic obstructive pulmonary disease with acute lower respiratory infection:::Cough variant asthma:::Primary cough headache:::Adverse effect of antitussives, sequela:::Adverse effect of antitussives, initial encounter:::Whooping cough, unspecified species with pneumonia:::Dengue fever [classical dengue]:::Poisoning by antitussives, intentional self-harm, initial encounter:::Underdosing of pertussis vaccine, including combinations with a pertussis component, sequela:::Paratyphoid fever A:::Poisoning by antitussives, undetermined, initial encounter:::Poisoning by antitussives, assault, initial encounter:::Whooping cough due to Bordetella pertussis with pneumonia:::Poisoning by antitussives, undetermined, subsequent encounter:::Poisoning by antitussives, assault, subsequent encounter:::Poisoning by antitussives, undetermined, sequela:::Whooping cough due to Bordetella pertussis without pneumonia:::Adverse effect of pertussis vaccine, including combinations with a pertussis component, subsequent encounter:::Poisoning by pertussis vaccine, including combinations with a pertussis component, assault, initial encounter:::Male erectile disorder', 'target_text': 'a cold, cough', 'all_k_aux_labels': '', 'token': 'a cold, cough', 'resolved_text': 'Chronic obstructive pulmonary disease, unspecified', 'all_k_confidences': '0.0533:::0.0510:::0.0486:::0.0444:::0.0444:::0.0427:::0.0408:::0.0407:::0.0393:::0.0389:::0.0384:::0.0382:::0.0381:::0.0376:::0.0376:::0.0374:::0.0372:::0.0371:::0.0371:::0.0370:::0.0370:::0.0361:::0.0360:::0.0355:::0.0354', 'distance': '1.0191', 'sentence': '0'}),\n",
              " Annotation(entity, 94, 103, R0981, {'chunk': '1', 'all_k_results': 'R0981:::R040:::J330:::J339:::A5057:::S0033XS:::S0031XS:::M950:::S0125XS:::T3302XS:::R110:::Q302:::L944:::J340:::S0037XS:::J349:::H9203:::K146:::K145:::R067:::J3489:::J384:::Q174:::J341:::J385', 'all_k_distances': '0.7189:::0.9020:::0.9652:::1.0681:::1.1207:::1.1327:::1.1692:::1.2017:::1.2552:::1.3068:::1.3380:::1.3652:::1.3694:::1.3843:::1.3977:::1.5284:::1.6177:::1.6237:::1.6248:::1.6406:::1.6410:::1.6479:::1.6564:::1.6586:::1.6653', 'confidence': '0.0731', 'all_k_cosine_distances': '0.0439:::0.1594:::0.2231:::0.2391:::0.2583:::0.2944:::0.2717:::0.3302:::0.3166:::0.3148:::0.4772:::0.2504:::0.4663:::0.3007:::0.3029:::0.2337:::0.3639:::0.3713:::0.3595:::0.2390:::0.2749:::0.3689:::0.3271:::0.2901:::0.3695', 'all_k_resolutions': \"Nasal congestion:::Epistaxis:::Polyp of nasal cavity:::Nasal polyp, unspecified:::Syphilitic saddle nose:::Contusion of nose, sequela:::Abrasion of nose, sequela:::Acquired deformity of nose:::Open bite of nose, sequela:::Superficial frostbite of nose, sequela:::Nausea:::Fissured, notched and cleft nose:::Gottron's papules:::Abscess, furuncle and carbuncle of nose:::Other superficial bite of nose, sequela:::Unspecified disorder of nose and nasal sinuses:::Otalgia, bilateral:::Glossodynia:::Plicated tongue:::Sneezing:::Other specified disorders of nose and nasal sinuses:::Edema of larynx:::Misplaced ear:::Cyst and mucocele of nose and nasal sinus:::Laryngeal spasm\", 'target_text': 'runny nose', 'all_k_aux_labels': '', 'token': 'runny nose', 'resolved_text': 'Nasal congestion', 'all_k_confidences': '0.0731:::0.0609:::0.0572:::0.0516:::0.0489:::0.0484:::0.0466:::0.0451:::0.0428:::0.0406:::0.0394:::0.0383:::0.0382:::0.0376:::0.0371:::0.0326:::0.0298:::0.0296:::0.0296:::0.0291:::0.0291:::0.0289:::0.0286:::0.0286:::0.0284', 'distance': '0.7189', 'sentence': '0'}),\n",
              " Annotation(entity, 139, 143, A921, {'chunk': '2', 'all_k_results': 'A921:::R5083:::A790:::A250:::B550:::A259:::R509:::R5082:::A681:::A680:::A980:::A962:::A78:::A931:::A202:::O85:::A961:::A239:::A90:::A94:::A929:::R502:::A960:::A99:::B559', 'all_k_distances': '0.0000:::0.4000:::0.4048:::0.4048:::0.4048:::0.4058:::0.4058:::0.5255:::0.5835:::0.5835:::0.5835:::0.5961:::0.5961:::0.6048:::0.6048:::0.6048:::0.6061:::0.6582:::0.7659:::0.7795:::0.7795:::0.7914:::0.8061:::0.8077:::0.8126', 'confidence': '0.0702', 'all_k_cosine_distances': '0.0000:::0.0700:::0.0000:::0.0000:::0.0000:::0.1591:::0.2421:::0.1279:::0.1132:::0.1132:::0.1046:::0.1094:::0.1285:::0.0706:::0.0368:::0.0722:::0.1502:::0.1591:::0.1357:::0.1638:::0.2273:::0.3121:::0.1603:::0.1711:::0.2490', 'all_k_resolutions': \"O'nyong-nyong fever:::Postvaccination fever:::Trench fever:::Spirillosis:::Visceral leishmaniasis:::Rat-bite fever, unspecified:::Fever, unspecified:::Postprocedural fever:::Tick-borne relapsing fever:::Louse-borne relapsing fever:::Crimean-Congo hemorrhagic fever:::Lassa fever:::Q fever:::Sandfly fever:::Pneumonic plague:::Puerperal sepsis:::Machupo hemorrhagic fever:::Brucellosis, unspecified:::Dengue fever [classical dengue]:::Unspecified arthropod-borne viral fever:::Mosquito-borne viral fever, unspecified:::Drug induced fever:::Junin hemorrhagic fever:::Unspecified viral hemorrhagic fever:::Leishmaniasis, unspecified\", 'target_text': 'fever', 'all_k_aux_labels': '', 'token': 'fever', 'resolved_text': \"O'nyong-nyong fever\", 'all_k_confidences': '0.0702:::0.0471:::0.0468:::0.0468:::0.0468:::0.0468:::0.0468:::0.0415:::0.0392:::0.0392:::0.0392:::0.0387:::0.0387:::0.0383:::0.0383:::0.0383:::0.0383:::0.0363:::0.0326:::0.0322:::0.0322:::0.0318:::0.0314:::0.0313:::0.0311', 'distance': '0.0000', 'sentence': '1'}),\n",
              " Annotation(entity, 210, 229, R0602, {'chunk': '3', 'all_k_results': 'R0602:::R0600:::R065:::R064:::R633:::R092:::R063:::G4732:::R0609:::Z603:::R069:::R0689:::R1311:::R1313:::R1312:::R071:::I69391:::G4730:::R0681:::I951:::I69991:::R262:::I69891:::R471:::F5221', 'all_k_distances': '0.0000:::0.2353:::0.9481:::0.9517:::0.9570:::0.9634:::1.0109:::1.0914:::1.1144:::1.1144:::1.1518:::1.1543:::1.1574:::1.1713:::1.1746:::1.2150:::1.2705:::1.2745:::1.3491:::1.3568:::1.3754:::1.3764:::1.3765:::1.3991:::1.4342', 'confidence': '0.1128', 'all_k_cosine_distances': '0.0000:::0.0819:::0.1884:::0.2076:::0.2306:::0.1984:::0.2338:::0.2533:::0.2270:::0.3340:::0.2599:::0.2893:::0.2432:::0.2204:::0.2111:::0.2500:::0.2913:::0.2165:::0.2918:::0.4039:::0.2692:::0.3216:::0.2626:::0.2521:::0.3118', 'all_k_resolutions': 'Shortness of breath:::Dyspnea, unspecified:::Mouth breathing:::Hyperventilation:::Feeding difficulties:::Respiratory arrest:::Periodic breathing:::High altitude periodic breathing:::Other forms of dyspnea:::Acculturation difficulty:::Unspecified abnormalities of breathing:::Other abnormalities of breathing:::Dysphagia, oral phase:::Dysphagia, pharyngeal phase:::Dysphagia, oropharyngeal phase:::Chest pain on breathing:::Dysphagia following cerebral infarction:::Sleep apnea, unspecified:::Apnea, not elsewhere classified:::Orthostatic hypotension:::Dysphagia following unspecified cerebrovascular disease:::Difficulty in walking, not elsewhere classified:::Dysphagia following other cerebrovascular disease:::Dysarthria and anarthria:::Male erectile disorder', 'target_text': 'difficulty breathing', 'all_k_aux_labels': '', 'token': 'difficulty breathing', 'resolved_text': 'Shortness of breath', 'all_k_confidences': '0.1128:::0.0891:::0.0437:::0.0435:::0.0433:::0.0430:::0.0410:::0.0379:::0.0370:::0.0370:::0.0356:::0.0356:::0.0354:::0.0350:::0.0348:::0.0335:::0.0317:::0.0315:::0.0293:::0.0290:::0.0285:::0.0285:::0.0285:::0.0278:::0.0269', 'distance': '0.0000', 'sentence': '3'}),\n",
              " Annotation(entity, 235, 243, R05, {'chunk': '4', 'all_k_results': 'R05:::G4483:::J45991:::A790:::A250:::B550:::A3791:::L944:::A3790:::T483X4S:::T483X4D:::T483X3D:::T483X4A:::T483X2A:::T483X3A:::A3700:::A3701:::O85:::A202:::H9203:::A962:::R1031:::R0981:::D501:::G4481', 'all_k_distances': '0.4000:::1.0710:::1.1403:::1.3180:::1.3180:::1.3180:::1.3922:::1.3965:::1.4060:::1.4077:::1.4330:::1.4336:::1.4490:::1.4493:::1.4496:::1.5274:::1.5299:::1.5790:::1.6091:::1.6111:::1.6118:::1.6290:::1.6410:::1.6450:::1.6562', 'confidence': '0.1061', 'all_k_cosine_distances': '0.1825:::0.2449:::0.3449:::0.3919:::0.3919:::0.3919:::0.2737:::0.4984:::0.2555:::0.3147:::0.2981:::0.3064:::0.2968:::0.2924:::0.3052:::0.2165:::0.2243:::0.3081:::0.3412:::0.3422:::0.3544:::0.3415:::0.3287:::0.3474:::0.3410', 'all_k_resolutions': \"Cough:::Primary cough headache:::Cough variant asthma:::Trench fever:::Spirillosis:::Visceral leishmaniasis:::Whooping cough, unspecified species with pneumonia:::Gottron's papules:::Whooping cough, unspecified species without pneumonia:::Poisoning by antitussives, undetermined, sequela:::Poisoning by antitussives, undetermined, subsequent encounter:::Poisoning by antitussives, assault, subsequent encounter:::Poisoning by antitussives, undetermined, initial encounter:::Poisoning by antitussives, intentional self-harm, initial encounter:::Poisoning by antitussives, assault, initial encounter:::Whooping cough due to Bordetella pertussis without pneumonia:::Whooping cough due to Bordetella pertussis with pneumonia:::Puerperal sepsis:::Pneumonic plague:::Otalgia, bilateral:::Lassa fever:::Right lower quadrant pain:::Nasal congestion:::Sideropenic dysphagia:::Hypnic headache\", 'target_text': 'her cough', 'all_k_aux_labels': '', 'token': 'her cough', 'resolved_text': 'Cough', 'all_k_confidences': '0.1061:::0.0543:::0.0506:::0.0424:::0.0424:::0.0424:::0.0394:::0.0392:::0.0388:::0.0387:::0.0378:::0.0378:::0.0372:::0.0372:::0.0372:::0.0344:::0.0343:::0.0326:::0.0317:::0.0316:::0.0316:::0.0311:::0.0307:::0.0306:::0.0302', 'distance': '0.4000', 'sentence': '3'}),\n",
              " Annotation(entity, 262, 264, E5111, {'chunk': '5', 'all_k_results': 'E5111:::N5314:::R682:::H11149:::H11141:::W9301XS:::W9302XS:::W9301XD:::W9301XA:::W9302XD:::W9302XA:::H16223:::E5112:::E860:::H04129:::H04122:::H04121:::H04123:::H16221:::H353132:::R231:::R0981:::R196:::G041:::L200', 'all_k_distances': '0.5473:::0.5568:::0.7748:::1.2162:::1.2353:::1.2640:::1.2862:::1.4753:::1.4766:::1.4980:::1.4990:::1.5191:::1.5206:::1.6813:::1.6958:::1.6969:::1.6969:::1.7178:::1.7439:::1.7537:::1.7854:::1.7910:::1.8039:::1.8227:::1.8256', 'confidence': '0.0935', 'all_k_cosine_distances': '0.1885:::0.2957:::0.2547:::0.3404:::0.3111:::0.3328:::0.3127:::0.3712:::0.3633:::0.3224:::0.3344:::0.3526:::0.3777:::0.5593:::0.4075:::0.3853:::0.4094:::0.4317:::0.3547:::0.4290:::0.5649:::0.4851:::0.6266:::0.6039:::0.6195', 'all_k_resolutions': \"Dry beriberi:::Retrograde ejaculation:::Dry mouth, unspecified:::Conjunctival xerosis, unspecified, unspecified eye:::Conjunctival xerosis, unspecified, right eye:::Contact with dry ice, sequela:::Inhalation of dry ice, sequela:::Contact with dry ice, subsequent encounter:::Contact with dry ice, initial encounter:::Inhalation of dry ice, subsequent encounter:::Inhalation of dry ice, initial encounter:::Keratoconjunctivitis sicca, not specified as Sjogren's, bilateral:::Wet beriberi:::Dehydration:::Dry eye syndrome of unspecified lacrimal gland:::Dry eye syndrome of left lacrimal gland:::Dry eye syndrome of right lacrimal gland:::Dry eye syndrome of bilateral lacrimal glands:::Keratoconjunctivitis sicca, not specified as Sjogren's, right eye:::Nonexudative age-related macular degeneration, bilateral, intermediate dry stage:::Pallor:::Nasal congestion:::Halitosis:::Tropical spastic paraplegia:::Besnier's prurigo\", 'target_text': 'dry', 'all_k_aux_labels': '', 'token': 'dry', 'resolved_text': 'Dry beriberi', 'all_k_confidences': '0.0935:::0.0926:::0.0745:::0.0479:::0.0470:::0.0457:::0.0447:::0.0370:::0.0369:::0.0361:::0.0361:::0.0354:::0.0353:::0.0301:::0.0297:::0.0296:::0.0296:::0.0290:::0.0283:::0.0280:::0.0271:::0.0270:::0.0266:::0.0261:::0.0260', 'distance': '0.5473', 'sentence': '3'}),\n",
              " Annotation(entity, 270, 274, Z1283, {'chunk': '6', 'all_k_results': 'Z1283:::C030:::D509:::A5053:::E2602:::E8352:::R293:::Q970:::R450:::L602:::F641:::Q794:::H5355:::Q5302:::R0602:::G243:::J00:::M9328:::F40241:::K224:::N810:::M65352:::K145:::H5201:::A925', 'all_k_distances': '1.0000:::1.0000:::1.0000:::1.0000:::1.0000:::1.0000:::1.0000:::1.0000:::1.0000:::1.0000:::1.0000:::1.0000:::1.0000:::1.0000:::1.0000:::1.0000:::1.0000:::1.0000:::1.0000:::1.0000:::1.0000:::1.0000:::1.0000:::1.0000:::1.0000', 'confidence': '0.0400', 'all_k_cosine_distances': '89884656743115790000000000000000000000000000000000000000000000000000000000000000000000000000000000000000000000000000000000000000000000000000000000000000000000000000000000000000000000000000000000000000000000000000000000000000000000000000000000000000000000000000000000000000000000000000000000000000000000000000.0000:::89884656743115790000000000000000000000000000000000000000000000000000000000000000000000000000000000000000000000000000000000000000000000000000000000000000000000000000000000000000000000000000000000000000000000000000000000000000000000000000000000000000000000000000000000000000000000000000000000000000000000000000.0000:::89884656743115790000000000000000000000000000000000000000000000000000000000000000000000000000000000000000000000000000000000000000000000000000000000000000000000000000000000000000000000000000000000000000000000000000000000000000000000000000000000000000000000000000000000000000000000000000000000000000000000000000.0000:::89884656743115790000000000000000000000000000000000000000000000000000000000000000000000000000000000000000000000000000000000000000000000000000000000000000000000000000000000000000000000000000000000000000000000000000000000000000000000000000000000000000000000000000000000000000000000000000000000000000000000000000.0000:::89884656743115790000000000000000000000000000000000000000000000000000000000000000000000000000000000000000000000000000000000000000000000000000000000000000000000000000000000000000000000000000000000000000000000000000000000000000000000000000000000000000000000000000000000000000000000000000000000000000000000000000.0000:::89884656743115790000000000000000000000000000000000000000000000000000000000000000000000000000000000000000000000000000000000000000000000000000000000000000000000000000000000000000000000000000000000000000000000000000000000000000000000000000000000000000000000000000000000000000000000000000000000000000000000000000.0000:::89884656743115790000000000000000000000000000000000000000000000000000000000000000000000000000000000000000000000000000000000000000000000000000000000000000000000000000000000000000000000000000000000000000000000000000000000000000000000000000000000000000000000000000000000000000000000000000000000000000000000000000.0000:::89884656743115790000000000000000000000000000000000000000000000000000000000000000000000000000000000000000000000000000000000000000000000000000000000000000000000000000000000000000000000000000000000000000000000000000000000000000000000000000000000000000000000000000000000000000000000000000000000000000000000000000.0000:::89884656743115790000000000000000000000000000000000000000000000000000000000000000000000000000000000000000000000000000000000000000000000000000000000000000000000000000000000000000000000000000000000000000000000000000000000000000000000000000000000000000000000000000000000000000000000000000000000000000000000000000.0000:::89884656743115790000000000000000000000000000000000000000000000000000000000000000000000000000000000000000000000000000000000000000000000000000000000000000000000000000000000000000000000000000000000000000000000000000000000000000000000000000000000000000000000000000000000000000000000000000000000000000000000000000.0000:::89884656743115790000000000000000000000000000000000000000000000000000000000000000000000000000000000000000000000000000000000000000000000000000000000000000000000000000000000000000000000000000000000000000000000000000000000000000000000000000000000000000000000000000000000000000000000000000000000000000000000000000.0000:::89884656743115790000000000000000000000000000000000000000000000000000000000000000000000000000000000000000000000000000000000000000000000000000000000000000000000000000000000000000000000000000000000000000000000000000000000000000000000000000000000000000000000000000000000000000000000000000000000000000000000000000.0000:::89884656743115790000000000000000000000000000000000000000000000000000000000000000000000000000000000000000000000000000000000000000000000000000000000000000000000000000000000000000000000000000000000000000000000000000000000000000000000000000000000000000000000000000000000000000000000000000000000000000000000000000.0000:::89884656743115790000000000000000000000000000000000000000000000000000000000000000000000000000000000000000000000000000000000000000000000000000000000000000000000000000000000000000000000000000000000000000000000000000000000000000000000000000000000000000000000000000000000000000000000000000000000000000000000000000.0000:::89884656743115790000000000000000000000000000000000000000000000000000000000000000000000000000000000000000000000000000000000000000000000000000000000000000000000000000000000000000000000000000000000000000000000000000000000000000000000000000000000000000000000000000000000000000000000000000000000000000000000000000.0000:::89884656743115790000000000000000000000000000000000000000000000000000000000000000000000000000000000000000000000000000000000000000000000000000000000000000000000000000000000000000000000000000000000000000000000000000000000000000000000000000000000000000000000000000000000000000000000000000000000000000000000000000.0000:::89884656743115790000000000000000000000000000000000000000000000000000000000000000000000000000000000000000000000000000000000000000000000000000000000000000000000000000000000000000000000000000000000000000000000000000000000000000000000000000000000000000000000000000000000000000000000000000000000000000000000000000.0000:::89884656743115790000000000000000000000000000000000000000000000000000000000000000000000000000000000000000000000000000000000000000000000000000000000000000000000000000000000000000000000000000000000000000000000000000000000000000000000000000000000000000000000000000000000000000000000000000000000000000000000000000.0000:::89884656743115790000000000000000000000000000000000000000000000000000000000000000000000000000000000000000000000000000000000000000000000000000000000000000000000000000000000000000000000000000000000000000000000000000000000000000000000000000000000000000000000000000000000000000000000000000000000000000000000000000.0000:::89884656743115790000000000000000000000000000000000000000000000000000000000000000000000000000000000000000000000000000000000000000000000000000000000000000000000000000000000000000000000000000000000000000000000000000000000000000000000000000000000000000000000000000000000000000000000000000000000000000000000000000.0000:::89884656743115790000000000000000000000000000000000000000000000000000000000000000000000000000000000000000000000000000000000000000000000000000000000000000000000000000000000000000000000000000000000000000000000000000000000000000000000000000000000000000000000000000000000000000000000000000000000000000000000000000.0000:::89884656743115790000000000000000000000000000000000000000000000000000000000000000000000000000000000000000000000000000000000000000000000000000000000000000000000000000000000000000000000000000000000000000000000000000000000000000000000000000000000000000000000000000000000000000000000000000000000000000000000000000.0000:::89884656743115790000000000000000000000000000000000000000000000000000000000000000000000000000000000000000000000000000000000000000000000000000000000000000000000000000000000000000000000000000000000000000000000000000000000000000000000000000000000000000000000000000000000000000000000000000000000000000000000000000.0000:::89884656743115790000000000000000000000000000000000000000000000000000000000000000000000000000000000000000000000000000000000000000000000000000000000000000000000000000000000000000000000000000000000000000000000000000000000000000000000000000000000000000000000000000000000000000000000000000000000000000000000000000.0000:::89884656743115790000000000000000000000000000000000000000000000000000000000000000000000000000000000000000000000000000000000000000000000000000000000000000000000000000000000000000000000000000000000000000000000000000000000000000000000000000000000000000000000000000000000000000000000000000000000000000000000000000.0000', 'all_k_resolutions': \"Encounter for screening for malignant neoplasm of skin:::Malignant neoplasm of upper gum:::Iron deficiency anemia, unspecified:::Hutchinson's triad:::Glucocorticoid-remediable aldosteronism:::Hypercalcemia:::Abnormal posture:::Karyotype 47, XXX:::Nervousness:::Onychogryphosis:::Dual role transvestism:::Prune belly syndrome:::Tritanomaly:::Ectopic testes, bilateral:::Shortness of breath:::Spasmodic torticollis:::Acute nasopharyngitis [common cold]:::Osteochondritis dissecans other site:::Acrophobia:::Dyskinesia of esophagus:::Urethrocele:::Trigger finger, left little finger:::Plicated tongue:::Hypermetropia, right eye:::Zika virus disease\", 'target_text': 'hacky', 'all_k_aux_labels': '', 'token': 'hacky', 'resolved_text': 'Encounter for screening for malignant neoplasm of skin', 'all_k_confidences': '0.0400:::0.0400:::0.0400:::0.0400:::0.0400:::0.0400:::0.0400:::0.0400:::0.0400:::0.0400:::0.0400:::0.0400:::0.0400:::0.0400:::0.0400:::0.0400:::0.0400:::0.0400:::0.0400:::0.0400:::0.0400:::0.0400:::0.0400:::0.0400:::0.0400', 'distance': '1.0000', 'sentence': '3'}),\n",
              " Annotation(entity, 312, 321, H10811, {'chunk': '7', 'all_k_results': 'H10811:::H5201:::H57051:::H30811:::H2701:::H50611:::H9191:::H9111:::H9311:::H16251:::H5211:::H16231:::M94231:::M21331:::H9211:::M94251:::M02151:::M94261:::M02161:::Q7161:::M21371:::M24674:::M11841:::H21521:::M93211', 'all_k_distances': '1.0822:::1.0828:::1.0828:::1.0838:::1.0838:::1.0838:::1.0904:::1.0904:::1.0913:::1.1015:::1.1017:::1.1023:::1.1060:::1.1092:::1.1094:::1.1166:::1.1174:::1.1209:::1.1216:::1.1633:::1.2088:::1.2088:::1.2140:::1.2338:::1.2546', 'confidence': '0.0418', 'all_k_cosine_distances': '0.2884:::0.2884:::0.2884:::0.2884:::0.2884:::0.2884:::0.2690:::0.2690:::0.2690:::0.2884:::0.2884:::0.2884:::0.2967:::0.2967:::0.2690:::0.3067:::0.3067:::0.2991:::0.2991:::0.2741:::0.2869:::0.2869:::0.2438:::0.2606:::0.2567', 'all_k_resolutions': \"Pingueculitis, right eye:::Hypermetropia, right eye:::Tonic pupil, right eye:::Harada's disease, right eye:::Aphakia, right eye:::Brown's sheath syndrome, right eye:::Unspecified hearing loss, right ear:::Presbycusis, right ear:::Tinnitus, right ear:::Phlyctenular keratoconjunctivitis, right eye:::Myopia, right eye:::Neurotrophic keratoconjunctivitis, right eye:::Chondromalacia, right wrist:::Wrist drop, right wrist:::Otorrhea, right ear:::Chondromalacia, right hip:::Postdysenteric arthropathy, right hip:::Chondromalacia, right knee:::Postdysenteric arthropathy, right knee:::Lobster-claw right hand:::Foot drop, right foot:::Ankylosis, right foot:::Other specified crystal arthropathies, right hand:::Goniosynechiae, right eye:::Osteochondritis dissecans, right shoulder\", 'target_text': 'a right TM', 'all_k_aux_labels': '', 'token': 'a right TM', 'resolved_text': 'Pingueculitis, right eye', 'all_k_confidences': '0.0418:::0.0417:::0.0417:::0.0417:::0.0417:::0.0417:::0.0414:::0.0414:::0.0414:::0.0410:::0.0409:::0.0409:::0.0408:::0.0406:::0.0406:::0.0403:::0.0403:::0.0402:::0.0401:::0.0385:::0.0368:::0.0368:::0.0366:::0.0359:::0.0351', 'distance': '1.0822', 'sentence': '4'}),\n",
              " Annotation(entity, 334, 336, A279, {'chunk': '8', 'all_k_results': 'A279:::L590:::A2789:::R718:::D609:::D600:::D601:::D608:::E8842:::H5351:::B363:::K920:::E530:::M6281:::D644:::Q332:::K50911:::B362:::E83111:::Q135:::L605:::R823:::D565:::B550:::A207', 'all_k_distances': '1.0352:::1.4099:::1.4998:::1.5026:::1.5492:::1.5540:::1.5649:::1.5659:::1.5748:::1.5974:::1.6169:::1.6572:::1.7205:::1.7255:::1.7331:::1.7402:::1.7659:::1.7848:::1.7911:::1.7926:::1.7950:::1.7967:::1.8147:::1.8169:::1.8169', 'confidence': '0.0727', 'all_k_cosine_distances': '0.3532:::0.4928:::0.3757:::0.3317:::0.3702:::0.3706:::0.3183:::0.3611:::0.4214:::0.5602:::0.4810:::0.5206:::0.5792:::0.6027:::0.5642:::0.6264:::0.3383:::0.5098:::0.3199:::0.4052:::0.4389:::0.4227:::0.4317:::0.5195:::0.5369', 'all_k_resolutions': \"Leptospirosis, unspecified:::Erythema ab igne [dermatitis ab igne]:::Other forms of leptospirosis:::Other abnormality of red blood cells:::Acquired pure red cell aplasia, unspecified:::Chronic acquired pure red cell aplasia:::Transient acquired pure red cell aplasia:::Other acquired pure red cell aplasias:::MERRF syndrome:::Achromatopsia:::Black piedra:::Hematemesis:::Riboflavin deficiency:::Muscle weakness (generalized):::Congenital dyserythropoietic anemia:::Sequestration of lung:::Crohn's disease, unspecified, with rectal bleeding:::White piedra:::Hemochromatosis due to repeated red blood cell transfusions:::Blue sclera:::Yellow nail syndrome:::Hemoglobinuria:::Hemoglobin E-beta thalassemia:::Visceral leishmaniasis:::Septicemic plague\", 'target_text': 'red', 'all_k_aux_labels': '', 'token': 'red', 'resolved_text': 'Leptospirosis, unspecified', 'all_k_confidences': '0.0727:::0.0500:::0.0457:::0.0455:::0.0435:::0.0433:::0.0428:::0.0427:::0.0424:::0.0414:::0.0406:::0.0390:::0.0366:::0.0364:::0.0362:::0.0359:::0.0350:::0.0343:::0.0341:::0.0341:::0.0340:::0.0339:::0.0333:::0.0333:::0.0333', 'distance': '1.0352', 'sentence': '4'}),\n",
              " Annotation(entity, 365, 380, R609, {'chunk': '9', 'all_k_results': 'R609:::R0981:::I517:::J9811:::Q171:::Q753:::J432:::R531:::Q51811:::P080:::L280:::Q02:::Q184:::R17:::K562:::K560:::H5703:::D1803:::M941:::N6482:::K145:::R0602:::N500:::R040:::I420', 'all_k_distances': '2.1267:::2.1480:::2.1728:::2.1756:::2.1874:::2.1897:::2.2099:::2.2133:::2.2147:::2.2282:::2.2383:::2.2430:::2.2436:::2.2508:::2.2524:::2.2524:::2.2626:::2.2657:::2.2810:::2.2895:::2.2966:::2.3029:::2.3078:::2.3080:::2.3085', 'confidence': '0.0447', 'all_k_cosine_distances': '0.4426:::0.5107:::0.4499:::0.4833:::0.4658:::0.4813:::0.4913:::0.4847:::0.4549:::0.4449:::0.4964:::0.4078:::0.4776:::0.4987:::0.4832:::0.4832:::0.4926:::0.4528:::0.5267:::0.4545:::0.5229:::0.4688:::0.5186:::0.4699:::0.5575', 'all_k_resolutions': 'Edema, unspecified:::Nasal congestion:::Cardiomegaly:::Atelectasis:::Macrotia:::Macrocephaly:::Centrilobular emphysema:::Weakness:::Hypoplasia of uterus:::Exceptionally large newborn baby:::Lichen simplex chronicus:::Microcephaly:::Macrostomia:::Unspecified jaundice:::Volvulus:::Paralytic ileus:::Miosis:::Hemangioma of intra-abdominal structures:::Relapsing polychondritis:::Hypoplasia of breast:::Plicated tongue:::Shortness of breath:::Atrophy of testis:::Epistaxis:::Dilated cardiomyopathy', 'target_text': 'fairly congested', 'all_k_aux_labels': '', 'token': 'fairly congested', 'resolved_text': 'Edema, unspecified', 'all_k_confidences': '0.0447:::0.0437:::0.0427:::0.0426:::0.0421:::0.0420:::0.0411:::0.0410:::0.0409:::0.0404:::0.0400:::0.0398:::0.0398:::0.0395:::0.0394:::0.0394:::0.0390:::0.0389:::0.0383:::0.0380:::0.0377:::0.0375:::0.0373:::0.0373:::0.0373', 'distance': '2.1267', 'sentence': '6'}),\n",
              " Annotation(entity, 553, 572, G4710, {'chunk': '10', 'all_k_results': 'G4710:::G4714:::F5113:::G4712:::G4711:::R110:::S060X1S:::R402113:::R402414:::R402434:::R402424:::R402213:::R402243:::R402144:::R402114:::R402214:::R402314:::R402254:::R402324:::R402134:::R402124:::S064X5S:::R402244:::R402224:::R402234', 'all_k_distances': '1.2363:::1.4270:::1.4978:::1.8186:::1.8756:::1.9446:::1.9819:::2.0059:::2.0486:::2.0486:::2.0486:::2.0519:::2.1269:::2.1568:::2.1568:::2.2210:::2.2210:::2.2235:::2.2235:::2.2235:::2.2235:::2.2594:::2.2902:::2.2902:::2.2902', 'confidence': '0.0852', 'all_k_cosine_distances': '0.3300:::0.2932:::0.3197:::0.3427:::0.3515:::0.3967:::0.2970:::0.3274:::0.2961:::0.2961:::0.2961:::0.3234:::0.3260:::0.2739:::0.2576:::0.2548:::0.2612:::0.2595:::0.2760:::0.2687:::0.2662:::0.2477:::0.2558:::0.2695:::0.2693', 'all_k_resolutions': 'Hypersomnia, unspecified:::Hypersomnia due to medical condition:::Hypersomnia due to other mental disorder:::Idiopathic hypersomnia without long sleep time:::Idiopathic hypersomnia with long sleep time:::Nausea:::Concussion with loss of consciousness of 30 minutes or less, sequela:::Coma scale, eyes open, never, at hospital admission:::Glasgow coma scale score 13-15, 24 hours or more after hospital admission:::Glasgow coma scale score 3-8, 24 hours or more after hospital admission:::Glasgow coma scale score 9-12, 24 hours or more after hospital admission:::Coma scale, best verbal response, none, at hospital admission:::Coma scale, best verbal response, confused conversation, at hospital admission:::Coma scale, eyes open, spontaneous, 24 hours or more after hospital admission:::Coma scale, eyes open, never, 24 hours or more after hospital admission:::Coma scale, best verbal response, none, 24 hours or more after hospital admission:::Coma scale, best motor response, none, 24 hours or more after hospital admission:::Coma scale, best verbal response, oriented, 24 hours or more after hospital admission:::Coma scale, best motor response, extension, 24 hours or more after hospital admission:::Coma scale, eyes open, to sound, 24 hours or more after hospital admission:::Coma scale, eyes open, to pain, 24 hours or more after hospital admission:::Epidural hemorrhage with loss of consciousness greater than 24 hours with return to pre-existing conscious level, sequela:::Coma scale, best verbal response, confused conversation, 24 hours or more after hospital admission:::Coma scale, best verbal response, incomprehensible words, 24 hours or more after hospital admission:::Coma scale, best verbal response, inappropriate words, 24 hours or more after hospital admission', 'target_text': 'much worse overnight', 'all_k_aux_labels': '', 'token': 'much worse overnight', 'resolved_text': 'Hypersomnia, unspecified', 'all_k_confidences': '0.0852:::0.0704:::0.0656:::0.0476:::0.0450:::0.0420:::0.0404:::0.0395:::0.0378:::0.0378:::0.0378:::0.0377:::0.0350:::0.0339:::0.0339:::0.0318:::0.0318:::0.0317:::0.0317:::0.0317:::0.0317:::0.0306:::0.0297:::0.0297:::0.0297', 'distance': '1.2363', 'sentence': '8'}),\n",
              " Annotation(entity, 590, 609, R0602, {'chunk': '11', 'all_k_results': 'R0602:::R0600:::R065:::R064:::R633:::R092:::R063:::G4732:::R0609:::Z603:::R069:::R0689:::R1311:::R1313:::R1312:::R071:::I69391:::G4730:::R0681:::I951:::I69991:::R262:::I69891:::R471:::F5221', 'all_k_distances': '0.0000:::0.2353:::0.9481:::0.9517:::0.9570:::0.9634:::1.0109:::1.0914:::1.1144:::1.1144:::1.1518:::1.1543:::1.1574:::1.1713:::1.1746:::1.2150:::1.2705:::1.2745:::1.3491:::1.3568:::1.3754:::1.3764:::1.3765:::1.3991:::1.4342', 'confidence': '0.1128', 'all_k_cosine_distances': '0.0000:::0.0819:::0.1884:::0.2076:::0.2306:::0.1984:::0.2338:::0.2533:::0.2270:::0.3340:::0.2599:::0.2893:::0.2432:::0.2204:::0.2111:::0.2500:::0.2913:::0.2165:::0.2918:::0.4039:::0.2692:::0.3216:::0.2626:::0.2521:::0.3118', 'all_k_resolutions': 'Shortness of breath:::Dyspnea, unspecified:::Mouth breathing:::Hyperventilation:::Feeding difficulties:::Respiratory arrest:::Periodic breathing:::High altitude periodic breathing:::Other forms of dyspnea:::Acculturation difficulty:::Unspecified abnormalities of breathing:::Other abnormalities of breathing:::Dysphagia, oral phase:::Dysphagia, pharyngeal phase:::Dysphagia, oropharyngeal phase:::Chest pain on breathing:::Dysphagia following cerebral infarction:::Sleep apnea, unspecified:::Apnea, not elsewhere classified:::Orthostatic hypotension:::Dysphagia following unspecified cerebrovascular disease:::Difficulty in walking, not elsewhere classified:::Dysphagia following other cerebrovascular disease:::Dysarthria and anarthria:::Male erectile disorder', 'target_text': 'difficulty breathing', 'all_k_aux_labels': '', 'token': 'difficulty breathing', 'resolved_text': 'Shortness of breath', 'all_k_confidences': '0.1128:::0.0891:::0.0437:::0.0435:::0.0433:::0.0430:::0.0410:::0.0379:::0.0370:::0.0370:::0.0356:::0.0356:::0.0354:::0.0350:::0.0348:::0.0335:::0.0317:::0.0315:::0.0293:::0.0290:::0.0285:::0.0285:::0.0285:::0.0278:::0.0269', 'distance': '0.0000', 'sentence': '9'}),\n",
              " Annotation(entity, 620, 638, G4710, {'chunk': '12', 'all_k_results': 'G4710:::G4714:::O99215:::F5113:::Q971:::Q981:::O99210:::H5201:::T320:::R160:::P580:::H34822:::S90415S:::S90414S:::S80811S:::I517:::S90415A:::R1111:::S98219S:::H34821:::S98212S:::S98211S:::T310:::Y900:::S98229S', 'all_k_distances': '1.1878:::1.4059:::1.4701:::1.4754:::1.4945:::1.5560:::1.5602:::1.6547:::1.6751:::1.7273:::1.7365:::1.7566:::1.7725:::1.7771:::1.7779:::1.7811:::1.7828:::1.7839:::1.7863:::1.7865:::1.7866:::1.7866:::1.7867:::1.7867:::1.7869', 'confidence': '0.0643', 'all_k_cosine_distances': '0.2810:::0.2902:::0.3234:::0.3141:::0.3486:::0.3628:::0.3872:::0.4001:::0.3146:::0.3657:::0.3992:::0.4534:::0.3928:::0.4096:::0.3990:::0.4479:::0.3575:::0.4361:::0.3576:::0.4513:::0.3499:::0.3488:::0.3065:::0.3586:::0.3644', 'all_k_resolutions': 'Hypersomnia, unspecified:::Hypersomnia due to medical condition:::Obesity complicating the puerperium:::Hypersomnia due to other mental disorder:::Female with more than three X chromosomes:::Klinefelter syndrome, male with more than two X chromosomes:::Obesity complicating pregnancy, unspecified trimester:::Hypermetropia, right eye:::Corrosions involving less than 10% of body surface:::Hepatomegaly, not elsewhere classified:::Neonatal jaundice due to bruising:::Venous engorgement, left eye:::Abrasion, left lesser toe(s), sequela:::Abrasion, right lesser toe(s), sequela:::Abrasion, right lower leg, sequela:::Cardiomegaly:::Abrasion, left lesser toe(s), initial encounter:::Vomiting without nausea:::Complete traumatic amputation of two or more unspecified lesser toes, sequela:::Venous engorgement, right eye:::Complete traumatic amputation of two or more left lesser toes, sequela:::Complete traumatic amputation of two or more right lesser toes, sequela:::Burns involving less than 10% of body surface:::Blood alcohol level of less than 20 mg/100 ml:::Partial traumatic amputation of two or more unspecified lesser toes, sequela', 'target_text': 'much more congested', 'all_k_aux_labels': '', 'token': 'much more congested', 'resolved_text': 'Hypersomnia, unspecified', 'all_k_confidences': '0.0643:::0.0517:::0.0485:::0.0482:::0.0473:::0.0445:::0.0443:::0.0403:::0.0395:::0.0375:::0.0371:::0.0364:::0.0358:::0.0356:::0.0356:::0.0355:::0.0354:::0.0354:::0.0353:::0.0353:::0.0353:::0.0353:::0.0353:::0.0353:::0.0353', 'distance': '1.1878', 'sentence': '10'}),\n",
              " Annotation(entity, 759, 774, Y9384, {'chunk': '13', 'all_k_results': 'Y9384:::G479:::G4710:::B569:::G4714:::A790:::A250:::B550:::R633:::R0602:::F514:::Z72820:::R110:::R0600:::R152:::N3281:::R3915:::R300:::M545:::R05:::R632:::O85:::Z603:::G4750:::G478', 'all_k_distances': '0.8621:::0.8784:::1.1315:::1.1483:::1.3356:::1.4069:::1.4069:::1.4069:::1.5877:::1.5908:::1.6146:::1.6254:::1.6784:::1.6908:::1.6912:::1.6930:::1.6930:::1.6960:::1.7013:::1.7028:::1.7144:::1.7169:::1.7266:::1.7290:::1.7290', 'confidence': '0.0748', 'all_k_cosine_distances': '0.3124:::0.2381:::0.2517:::0.2427:::0.3332:::0.5230:::0.5230:::0.5230:::0.3400:::0.3020:::0.3021:::0.3282:::0.2999:::0.2959:::0.4293:::0.4092:::0.4092:::0.3782:::0.3821:::0.3873:::0.4186:::0.4487:::0.4156:::0.3634:::0.3810', 'all_k_resolutions': 'Activity, sleeping:::Sleep disorder, unspecified:::Hypersomnia, unspecified:::African trypanosomiasis, unspecified:::Hypersomnia due to medical condition:::Trench fever:::Spirillosis:::Visceral leishmaniasis:::Feeding difficulties:::Shortness of breath:::Sleep terrors [night terrors]:::Sleep deprivation:::Nausea:::Dyspnea, unspecified:::Fecal urgency:::Overactive bladder:::Urgency of urination:::Dysuria:::Low back pain:::Cough:::Polyphagia:::Puerperal sepsis:::Acculturation difficulty:::Parasomnia, unspecified:::Other sleep disorders', 'target_text': 'trouble sleeping', 'all_k_aux_labels': '', 'token': 'trouble sleeping', 'resolved_text': 'Activity, sleeping', 'all_k_confidences': '0.0748:::0.0736:::0.0572:::0.0562:::0.0466:::0.0434:::0.0434:::0.0434:::0.0362:::0.0361:::0.0353:::0.0349:::0.0331:::0.0327:::0.0327:::0.0326:::0.0326:::0.0325:::0.0323:::0.0323:::0.0319:::0.0318:::0.0315:::0.0314:::0.0314', 'distance': '0.8621', 'sentence': '11'}),\n",
              " Annotation(entity, 789, 798, R0981, {'chunk': '14', 'all_k_results': 'R0981:::H34822:::H34821:::H34829:::N421:::H11432:::K761:::O720:::R0902:::R231:::R12:::R230:::J9811:::K920:::K921:::G450:::R042:::R609:::R601:::G936:::L03213:::H3581:::J432:::R067:::R110', 'all_k_distances': '0.4884:::0.9857:::0.9858:::1.0328:::1.2208:::1.2441:::1.2785:::1.5953:::1.5978:::1.6096:::1.6202:::1.6383:::1.6385:::1.6525:::1.6646:::1.6774:::1.6811:::1.6946:::1.6968:::1.6968:::1.6968:::1.6968:::1.7015:::1.7028:::1.7433', 'confidence': '0.1026', 'all_k_cosine_distances': '0.2404:::0.2442:::0.2474:::0.2627:::0.2727:::0.2781:::0.2739:::0.4102:::0.5053:::0.3757:::0.4703:::0.4291:::0.4070:::0.4715:::0.4760:::0.4983:::0.4501:::0.3540:::0.4131:::0.3529:::0.3612:::0.4378:::0.3504:::0.4458:::0.4867', 'all_k_resolutions': 'Nasal congestion:::Venous engorgement, left eye:::Venous engorgement, right eye:::Venous engorgement, unspecified eye:::Congestion and hemorrhage of prostate:::Conjunctival hyperemia, left eye:::Chronic passive congestion of liver:::Third-stage hemorrhage:::Hypoxemia:::Pallor:::Heartburn:::Cyanosis:::Atelectasis:::Hematemesis:::Melena:::Vertebro-basilar artery syndrome:::Hemoptysis:::Edema, unspecified:::Generalized edema:::Cerebral edema:::Periorbital cellulitis:::Retinal edema:::Centrilobular emphysema:::Sneezing:::Nausea', 'target_text': 'congestion', 'all_k_aux_labels': '', 'token': 'congestion', 'resolved_text': 'Nasal congestion', 'all_k_confidences': '0.1026:::0.0624:::0.0624:::0.0595:::0.0493:::0.0482:::0.0466:::0.0339:::0.0338:::0.0334:::0.0331:::0.0325:::0.0325:::0.0320:::0.0317:::0.0313:::0.0311:::0.0307:::0.0307:::0.0307:::0.0307:::0.0307:::0.0305:::0.0305:::0.0293', 'distance': '0.4884', 'sentence': '11'})]"
            ]
          },
          "metadata": {
            "tags": []
          },
          "execution_count": 20
        }
      ]
    }
  ]
}
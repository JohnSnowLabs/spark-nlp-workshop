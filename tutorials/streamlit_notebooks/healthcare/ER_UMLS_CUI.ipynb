{
  "cells": [
    {
      "cell_type": "markdown",
      "metadata": {
        "id": "wWLwNF4iITCn"
      },
      "source": [
        "![JohnSnowLabs](https://nlp.johnsnowlabs.com/assets/images/logo.png)\n",
        "\n",
        "[![Open In Colab](https://colab.research.google.com/assets/colab-badge.svg)](https://colab.research.google.com/github/JohnSnowLabs/spark-nlp-workshop/blob/master/tutorials/streamlit_notebooks/healthcare/ER_UMLS_CUI.ipynb)"
      ]
    },
    {
      "cell_type": "markdown",
      "metadata": {
        "id": "rIVVRWlyIaPW"
      },
      "source": [
        "# `sbiobertresolve_umls_findings` **Models**\n",
        "\n",
        "This model maps clinical findings to their corresponding UMLS Concept Unique Identifier (CUI) codes using Entity Resolvers."
      ]
    },
    {
      "cell_type": "markdown",
      "metadata": {
        "id": "Xa2MP5N2EyAN"
      },
      "source": [
        "## 1. Colab Setup"
      ]
    },
    {
      "cell_type": "markdown",
      "metadata": {
        "id": "meFLU3CTE2S9"
      },
      "source": [
        "**Import license keys**"
      ]
    },
    {
      "cell_type": "code",
      "execution_count": null,
      "metadata": {
        "id": "dnJ9X-mbEOMr"
      },
      "outputs": [],
      "source": [
        "import json\n",
        "import os\n",
        "\n",
        "from google.colab import files\n",
        "\n",
        "license_keys = files.upload()\n",
        "\n",
        "with open(list(license_keys.keys())[0]) as f:\n",
        "    license_keys = json.load(f)\n",
        "\n",
        "# Defining license key-value pairs as local variables\n",
        "locals().update(license_keys)\n",
        "\n",
        "# Adding license key-value pairs to environment variables\n",
        "os.environ.update(license_keys)"
      ]
    },
    {
      "cell_type": "markdown",
      "metadata": {
        "id": "MpFCD_gTFcyx"
      },
      "source": [
        "**Install dependencies**"
      ]
    },
    {
      "cell_type": "code",
      "execution_count": null,
      "metadata": {
        "colab": {
          "base_uri": "https://localhost:8080/"
        },
        "id": "qeg3QosiFf5u",
        "outputId": "a57e684d-351f-473b-ff33-3b9631f59b50"
      },
      "outputs": [],
      "source": [
        "# Installing pyspark and spark-nlp\n",
        "! pip install --upgrade -q pyspark==3.1.2 spark-nlp==$PUBLIC_VERSION\n",
        "\n",
        "# Installing Spark NLP Healthcare\n",
        "! pip install --upgrade -q spark-nlp-jsl==$JSL_VERSION  --extra-index-url https://pypi.johnsnowlabs.com/$SECRET\n",
        "\n",
        "# Installing Spark NLP Display Library for visualization\n",
        "! pip install -q spark-nlp-display"
      ]
    },
    {
      "cell_type": "markdown",
      "metadata": {
        "id": "WcrI5WVvGDvP"
      },
      "source": [
        "## 2. Start Spark Session"
      ]
    },
    {
      "cell_type": "markdown",
      "metadata": {
        "id": "bEYvJIDaFxuM"
      },
      "source": [
        "**Import dependencies into Python and start the Spark session**"
      ]
    },
    {
      "cell_type": "code",
      "execution_count": 3,
      "metadata": {
        "colab": {
          "base_uri": "https://localhost:8080/",
          "height": 258
        },
        "id": "uh5IkMSuFwH0",
        "outputId": "281b7ee4-17b2-4bfb-b88f-04e0d625f592"
      },
      "outputs": [
        {
          "name": "stdout",
          "output_type": "stream",
          "text": [
            "Spark NLP Version : 3.4.4\n",
            "Spark NLP_JSL Version : 3.5.2\n"
          ]
        },
        {
          "data": {
            "text/html": [
              "\n",
              "            <div>\n",
              "                <p><b>SparkSession - in-memory</b></p>\n",
              "                \n",
              "        <div>\n",
              "            <p><b>SparkContext</b></p>\n",
              "\n",
              "            <p><a href=\"http://b6d1d91f34d2:4040\">Spark UI</a></p>\n",
              "\n",
              "            <dl>\n",
              "              <dt>Version</dt>\n",
              "                <dd><code>v3.1.2</code></dd>\n",
              "              <dt>Master</dt>\n",
              "                <dd><code>local[*]</code></dd>\n",
              "              <dt>AppName</dt>\n",
              "                <dd><code>Spark NLP Licensed</code></dd>\n",
              "            </dl>\n",
              "        </div>\n",
              "        \n",
              "            </div>\n",
              "        "
            ],
            "text/plain": [
              "<pyspark.sql.session.SparkSession at 0x7f20dab32410>"
            ]
          },
          "execution_count": 3,
          "metadata": {},
          "output_type": "execute_result"
        }
      ],
      "source": [
        "# Import sparknlp & sparknlp_jsl packages\n",
        "import sparknlp\n",
        "import sparknlp_jsl\n",
        "\n",
        "from sparknlp.base import *\n",
        "from sparknlp.common import *\n",
        "from sparknlp.annotator import *\n",
        "from sparknlp_jsl.annotator import *\n",
        "\n",
        "# Import Pyspark packages\n",
        "from pyspark.sql import SparkSession\n",
        "from pyspark.sql import functions as F \n",
        "from pyspark.ml import Pipeline, PipelineModel\n",
        "\n",
        "import pandas as pd\n",
        "import numpy as np \n",
        "\n",
        "spark = sparknlp_jsl.start(license_keys['SECRET'])\n",
        "\n",
        "print (\"Spark NLP Version :\", sparknlp.version())\n",
        "print (\"Spark NLP_JSL Version :\", sparknlp_jsl.version())\n",
        "\n",
        "spark"
      ]
    },
    {
      "cell_type": "markdown",
      "metadata": {
        "id": "6unD_Wi4GHA2"
      },
      "source": [
        "## 3. Select the model and construct the pipeline"
      ]
    },
    {
      "cell_type": "code",
      "execution_count": 4,
      "metadata": {
        "id": "aERdxMBiGL5b"
      },
      "outputs": [],
      "source": [
        "MODEL_NAME = \"sbiobertresolve_umls_findings\""
      ]
    },
    {
      "cell_type": "markdown",
      "metadata": {
        "id": "6890ej79GVJl"
      },
      "source": [
        "**Create the pipeline**"
      ]
    },
    {
      "cell_type": "code",
      "execution_count": 11,
      "metadata": {
        "colab": {
          "base_uri": "https://localhost:8080/"
        },
        "id": "Vjo9u1N1Ga1W",
        "outputId": "2c87b0db-a8b0-46f3-cc93-8ce3f2847576"
      },
      "outputs": [
        {
          "name": "stdout",
          "output_type": "stream",
          "text": [
            "embeddings_clinical download started this may take some time.\n",
            "Approximate size to download 1.6 GB\n",
            "[OK!]\n",
            "ner_clinical download started this may take some time.\n",
            "[OK!]\n",
            "sbiobert_base_cased_mli download started this may take some time.\n",
            "Approximate size to download 384.3 MB\n",
            "[OK!]\n",
            "sbiobertresolve_umls_findings download started this may take some time.\n",
            "[OK!]\n"
          ]
        }
      ],
      "source": [
        "document_assembler = DocumentAssembler()\\\n",
        "    .setInputCol(\"text\")\\\n",
        "    .setOutputCol(\"document\")\n",
        "\n",
        "sentence_detector = SentenceDetector() \\\n",
        "    .setInputCols(['document'])\\\n",
        "    .setOutputCol('sentence')\n",
        "\n",
        "tokenizer = Tokenizer()\\\n",
        "    .setInputCols([\"sentence\"])\\\n",
        "    .setOutputCol(\"token\")\n",
        "\n",
        "word_embeddings = WordEmbeddingsModel.pretrained(\"embeddings_clinical\", \"en\", \"clinical/models\")\\\n",
        "    .setInputCols([\"sentence\", \"token\"])\\\n",
        "    .setOutputCol(\"embeddings\")\n",
        "\n",
        "ner = MedicalNerModel.pretrained(\"ner_clinical\", \"en\", \"clinical/models\") \\\n",
        "    .setInputCols([\"sentence\", \"token\", \"embeddings\"]) \\\n",
        "    .setOutputCol(\"ner\")\n",
        "\n",
        "ner_converter = NerConverterInternal()\\\n",
        "    .setInputCols([\"sentence\", \"token\", \"ner\"])\\\n",
        "    .setOutputCol(\"ner_chunk\")\\\n",
        "    .setWhiteList([\"PROBLEM\"])\n",
        "\n",
        "c2doc = Chunk2Doc()\\\n",
        "    .setInputCols(\"ner_chunk\")\\\n",
        "    .setOutputCol(\"ner_chunk_doc\") \n",
        "\n",
        "sbert_embedder = BertSentenceEmbeddings.pretrained(\"sbiobert_base_cased_mli\",'en','clinical/models')\\\n",
        "    .setInputCols([\"ner_chunk_doc\"])\\\n",
        "    .setOutputCol(\"sbert_embeddings\")\\\n",
        "    .setCaseSensitive(False)\n",
        "\n",
        "resolver = SentenceEntityResolverModel.pretrained(MODEL_NAME, \"en\", \"clinical/models\") \\\n",
        "    .setInputCols([\"ner_chunk_doc\", \"sbert_embeddings\"]) \\\n",
        "    .setOutputCol(\"resolution\")\n",
        "\n",
        "\n",
        "nlp_pipeline = Pipeline(\n",
        "    stages = [\n",
        "        document_assembler,\n",
        "        sentence_detector,\n",
        "        tokenizer,\n",
        "        word_embeddings,\n",
        "        ner,\n",
        "        ner_converter,\n",
        "        c2doc,\n",
        "        sbert_embedder,\n",
        "        resolver\n",
        "  ])\n",
        "\n",
        "empty_df = spark.createDataFrame([[\"\"]]).toDF('text')\n",
        "\n",
        "model = nlp_pipeline.fit(empty_df)"
      ]
    },
    {
      "cell_type": "markdown",
      "metadata": {
        "id": "K4CxF3U7HsCX"
      },
      "source": [
        "## 4. Create example inputs"
      ]
    },
    {
      "cell_type": "code",
      "execution_count": 12,
      "metadata": {
        "id": "jZ8GQHOgHibp"
      },
      "outputs": [],
      "source": [
        "sample_text = [\n",
        "            \n",
        "\"\"\"HPI: A 69-year-old white female with a history of depression, anxiety, admitted to the ABCD Hospital on February 6, 2007, for shortness of breath. The patient was consulted by Psychiatry for anxiety. I know this patient from a previous consult. During this recent admission, she was given Ativan 0.25 mg on a p.r.n. basis with relief after one to two hours. The patient was seen by Abc, MD, and Def, Ph.D. PAST MEDICAL HISTORY: The patient has a history of hypertension, hypothyroidism, cholelithiasis, Port-A-Cath placement, and hydronephrosis\"\"\",\n",
        "\n",
        "\"\"\"The patient is a 28-year-old, who is status post gastric bypass surgery nearly one year ago. He has lost about 200 pounds and was otherwise doing well until yesterday evening around 7:00-8:00 when he developed nausea and right upper quadrant pain, which apparently wrapped around toward his right side and back. He feels like he was on it but has not done so. He has overall malaise and a low-grade temperature of 100.3. His last normal bowel movement was yesterday. He denies any outright chills. PAST MEDICAL HISTORY: Significant for hypertension and morbid obesity, now resolved.\"\"\",\n",
        "\n",
        "\"\"\"The patient is a 51-year-old Caucasian female with past medical history of morbid obesity and chronic lower extremity lymphedema. She follows up at the wound care center at Hospital. Her lower extremity edema is being managed there. She has had multiple episodes of cellulitis of the lower extremities for which she has received treatment with oral Bactrim and ciprofloxacin in the past according to her. As her lymphedema was not improving on therapy at that facility, she was referred for admission to Long-Term Acute Care Facility for lymphedema management. She at present has a stage II ulcer on the lower part of the medial aspect of left leg. Her measurements for lymphedema wraps have been taken and in my opinion, it is going to be started in a day or two.\"\"\",\n",
        "\n",
        "\"\"\"HISTORY: The patient is a 78-year-old gentleman with no substantial past medical history. He denies diabetes including kidney disease, stroke, vision loss, or neuropathy. At this time, he has been admitted for anemia with hemoglobin of 7.1 and requiring transfusion. He reports that he has no signs or symptom of bleeding and had a blood transfusion approximately two months ago and actually several weeks before that blood transfusion, he had a transfusion for anemia. He has been placed on B12, oral iron, and Procrit. At this time, we are asked to evaluate him for further causes and treatment for his anemia. No fevers, rash, arthralgias, or myalgias.\"\"\",\n",
        "\n",
        "\"\"\"The patient is a 36-year-old gentleman admitted to the hospital because he passed out at home. Over the past week, he has been noticing increasing shortness of breath. He also started having some abdominal pain; however, he continued about his regular activity until the other day when he passed out at home. His wife called paramedics and he was brought to the emergency room. He has been started on heparin and we are asked to see him because of increasing BUN and creatinine. The patient has no past history of any renal problems. He feels that he has been in good health until this current episode. His appetite has been good. He denies swelling in his feet or ankles. He denies chest pain. He denies any unexplained weight loss. He denies any recent change in bowel habits.\"\"\"\n",
        "\n",
        "]"
      ]
    },
    {
      "cell_type": "code",
      "execution_count": 13,
      "metadata": {
        "colab": {
          "base_uri": "https://localhost:8080/"
        },
        "id": "qvCvj1hBI_09",
        "outputId": "1e053da6-fa6e-4116-cde3-3f55fd11fa60"
      },
      "outputs": [
        {
          "name": "stdout",
          "output_type": "stream",
          "text": [
            "+----------------------------------------------------------------------------------------------------+\n",
            "|                                                                                                text|\n",
            "+----------------------------------------------------------------------------------------------------+\n",
            "|HPI: A 69-year-old white female with a history of depression, anxiety, admitted to the ABCD Hospi...|\n",
            "|The patient is a 28-year-old, who is status post gastric bypass surgery nearly one year ago. He h...|\n",
            "|The patient is a 51-year-old Caucasian female with past medical history of morbid obesity and chr...|\n",
            "|HISTORY: The patient is a 78-year-old gentleman with no substantial past medical history. He deni...|\n",
            "|The patient is a 36-year-old gentleman admitted to the hospital because he passed out at home. Ov...|\n",
            "+----------------------------------------------------------------------------------------------------+\n",
            "\n"
          ]
        }
      ],
      "source": [
        "from pyspark.sql.types import StringType, IntegerType\n",
        "\n",
        "df = spark.createDataFrame(sample_text,StringType()).toDF('text')\n",
        "\n",
        "df.show(truncate = 100)"
      ]
    },
    {
      "cell_type": "markdown",
      "metadata": {
        "id": "JAJGT8UcH1Q4"
      },
      "source": [
        "## 5. Use the pipeline to create outputs"
      ]
    },
    {
      "cell_type": "code",
      "execution_count": 14,
      "metadata": {
        "colab": {
          "base_uri": "https://localhost:8080/"
        },
        "id": "N0zbrDnKIC9z",
        "outputId": "4b92e4a9-bf77-41a5-b1f0-9373fecca8d9"
      },
      "outputs": [
        {
          "name": "stdout",
          "output_type": "stream",
          "text": [
            "+-----------------------------------+-----+---+-------+--------+----------------------------------------+----------------------------------------+----------------------------------------+\n",
            "|                              chunk|begin|end| entity|UML_code|                             description|                               all_codes|                             resolutions|\n",
            "+-----------------------------------+-----+---+-------+--------+----------------------------------------+----------------------------------------+----------------------------------------+\n",
            "|                         depression|   50| 59|PROBLEM|C1999266|                              depression|C1999266:::C0549249:::C2121458:::C052...|depression:::depressed:::pr depressio...|\n",
            "|                            anxiety|   62| 68|PROBLEM|C4552735|                                 anxiety|C4552735:::C0233481:::C0700361:::C023...|anxiety:::anxious cognitions:::emotio...|\n",
            "|                shortness of breath|  126|144|PROBLEM|C4287837|                some shortness of breath|C4287837:::C4054481:::C4054523:::C429...|some shortness of breath:::moderate s...|\n",
            "|                            anxiety|  191|197|PROBLEM|C4552735|                                 anxiety|C4552735:::C0233481:::C0700361:::C023...|anxiety:::anxious cognitions:::emotio...|\n",
            "|                       hypertension|  457|468|PROBLEM|C1963138|                            hypertension|C1963138:::C5205099:::C3178811:::C023...|hypertension:::hypertension present::...|\n",
            "|                     hypothyroidism|  471|484|PROBLEM|C4553310|                          hypothyroidism|C4553310:::C4330381:::C4686785:::C468...|hypothyroidism:::hypothyroxinemia:::g...|\n",
            "|                     cholelithiasis|  487|500|PROBLEM|C4553186|                           cholecystitis|C4553186:::C4554013:::C0400991:::C054...|cholecystitis:::bile duct stenosis:::...|\n",
            "|                     hydronephrosis|  530|543|PROBLEM|C4055623|                       a1 hydronephrosis|C4055623:::C4054279:::C4054281:::C405...|a1 hydronephrosis:::p2 hydronephrosis...|\n",
            "|                             nausea|  210|215|PROBLEM|C4553767|                                  nausea|C4553767:::C1963281:::C4553115:::C000...|nausea:::vomiting:::bloating:::bloati...|\n",
            "|          right upper quadrant pain|  221|245|PROBLEM|C4685007|                  grade 1 abdominal pain|C4685007:::C0232488:::C4554125:::C155...|grade 1 abdominal pain:::colicky abdo...|\n",
            "|                    overall malaise|  367|381|PROBLEM|C4552989|                                 malaise|C4552989:::C4551939:::C3887612:::C455...|malaise:::restlessness:::restlessness...|\n",
            "|            a low-grade temperature|  387|409|PROBLEM|C0020672|                    body temperature low|C0020672:::C4321351:::C1851759:::C042...|body temperature low:::low level:::lo...|\n",
            "|                             chills|  490|495|PROBLEM|C4553185|                                  chills|C4553185:::C0038999:::C0036973:::C468...|chills:::swollen:::shiver:::grade 2 c...|\n",
            "|                       hypertension|  536|547|PROBLEM|C1963138|                            hypertension|C1963138:::C5205099:::C3178811:::C023...|hypertension:::hypertension present::...|\n",
            "|                     morbid obesity|  553|566|PROBLEM|C1963185|                                 obesity|C1963185:::C0311277:::C1281429:::C455...|obesity:::abdominal obesity:::common ...|\n",
            "|                     morbid obesity|   75| 88|PROBLEM|C1963185|                                 obesity|C1963185:::C0311277:::C1281429:::C455...|obesity:::abdominal obesity:::common ...|\n",
            "| chronic lower extremity lymphedema|   94|127|PROBLEM|C1835228|lymphedema, predominantly in the lowe...|C1835228:::C4553542:::C4685795:::C155...|lymphedema, predominantly in the lowe...|\n",
            "|          Her lower extremity edema|  183|207|PROBLEM|C0239340|                   lower extremity edema|C0239340:::C3839997:::C4554651:::C455...|lower extremity edema:::lower eyelid ...|\n",
            "|cellulitis of the lower extremities|  266|300|PROBLEM|C0239340|               oedema of lower extremity|C0239340:::C4552825:::C1847584:::C455...|oedema of lower extremity:::soft tiss...|\n",
            "|                     her lymphedema|  408|421|PROBLEM|C4553542|                              lymphedema|C4553542:::C4685795:::C1855480:::C155...|lymphedema:::grade 2 lymphedema:::pul...|\n",
            "+-----------------------------------+-----+---+-------+--------+----------------------------------------+----------------------------------------+----------------------------------------+\n",
            "only showing top 20 rows\n",
            "\n"
          ]
        }
      ],
      "source": [
        "result = model.transform(df)\n",
        "\n",
        "result.select(F.explode(F.arrays_zip(\"ner_chunk.result\", \n",
        "                                      \"ner_chunk.begin\", \n",
        "                                      \"ner_chunk.end\",\n",
        "                                      \"ner_chunk.metadata\",\n",
        "                                      \"resolution.result\",\n",
        "                                      \"resolution.metadata\",)).alias(\"cols\"))\\\n",
        "                  .select(F.expr(\"cols['0']\").alias(\"chunk\"),\n",
        "                          F.expr(\"cols['1']\").alias(\"begin\"),\n",
        "                          F.expr(\"cols['2']\").alias(\"end\"),\n",
        "                          F.expr(\"cols['3']['entity']\").alias(\"entity\"),\n",
        "                          F.expr(\"cols['4']\").alias(\"UML_code\"),\n",
        "                          F.expr(\"cols['5']['resolved_text']\").alias(\"description\"),\n",
        "                          F.expr(\"cols['5']['all_k_results']\").alias(\"all_codes\"),\n",
        "                          F.expr(\"cols['5']['all_k_resolutions']\").alias(\"resolutions\"),\n",
        "                          ).show(truncate=40)"
      ]
    },
    {
      "cell_type": "markdown",
      "metadata": {
        "id": "Ral7MlWELIOX"
      },
      "source": [
        "## 6. Visualize results"
      ]
    },
    {
      "cell_type": "code",
      "execution_count": 15,
      "metadata": {
        "colab": {
          "base_uri": "https://localhost:8080/",
          "height": 1000
        },
        "id": "Arm5huqwKum8",
        "outputId": "717324aa-be1a-48b3-9e52-373e4d81141f"
      },
      "outputs": [
        {
          "data": {
            "text/html": [
              "\n",
              "<style>\n",
              "    @import url('https://fonts.googleapis.com/css2?family=Montserrat:wght@300;400;500;600;700&display=swap');\n",
              "    @import url('https://fonts.googleapis.com/css2?family=Vistol Regular:wght@300;400;500;600;700&display=swap');\n",
              "    \n",
              "    .spark-nlp-display-scroll-entities {\n",
              "        border: 1px solid #E7EDF0;\n",
              "        border-radius: 3px;\n",
              "        text-align: justify;\n",
              "        \n",
              "    }\n",
              "    .spark-nlp-display-scroll-entities span {  \n",
              "        font-size: 14px;\n",
              "        line-height: 24px;\n",
              "        color: #536B76;\n",
              "        font-family: 'Montserrat', sans-serif !important;\n",
              "    }\n",
              "    \n",
              "    .spark-nlp-display-entity-wrapper{\n",
              "    \n",
              "        display: inline-grid;\n",
              "        text-align: center;\n",
              "        border-radius: 4px;\n",
              "        margin: 0 2px 5px 2px;\n",
              "        padding: 1px\n",
              "    }\n",
              "    .spark-nlp-display-entity-name{\n",
              "        font-size: 14px;\n",
              "        line-height: 24px;\n",
              "        font-family: 'Montserrat', sans-serif !important;\n",
              "        \n",
              "        background: #f1f2f3;\n",
              "        border-width: medium;\n",
              "        text-align: center;\n",
              "        \n",
              "        font-weight: 400;\n",
              "        \n",
              "        border-radius: 5px;\n",
              "        padding: 2px 5px;\n",
              "        display: block;\n",
              "        margin: 3px 2px;\n",
              "    \n",
              "    }\n",
              "    .spark-nlp-display-entity-type{\n",
              "        font-size: 14px;\n",
              "        line-height: 24px;\n",
              "        color: #ffffff;\n",
              "        font-family: 'Montserrat', sans-serif !important;\n",
              "        \n",
              "        text-transform: uppercase;\n",
              "        \n",
              "        font-weight: 500;\n",
              "\n",
              "        display: block;\n",
              "        padding: 3px 5px;\n",
              "    }\n",
              "    \n",
              "    .spark-nlp-display-entity-resolution{\n",
              "        font-size: 14px;\n",
              "        line-height: 24px;\n",
              "        color: #ffffff;\n",
              "        font-family: 'Vistol Regular', sans-serif !important;\n",
              "        \n",
              "        text-transform: uppercase;\n",
              "        \n",
              "        font-weight: 500;\n",
              "\n",
              "        display: block;\n",
              "        padding: 3px 5px;\n",
              "    }\n",
              "    \n",
              "    .spark-nlp-display-others{\n",
              "        font-size: 14px;\n",
              "        line-height: 24px;\n",
              "        font-family: 'Montserrat', sans-serif !important;\n",
              "        \n",
              "        font-weight: 400;\n",
              "    }\n",
              "\n",
              "</style>\n",
              " <span class=\"spark-nlp-display-others\" style=\"background-color: white\">HPI: A 69-year-old white female with a history of </span><span class=\"spark-nlp-display-entity-wrapper\" style=\"background-color: #800080B3\"><span class=\"spark-nlp-display-entity-name\">depression </span><span class=\"spark-nlp-display-entity-type\">PROBLEM</span><span class=\"spark-nlp-display-entity-resolution\" style=\"background-color: #800080FF\">C1999266 </span><span class=\"spark-nlp-display-entity-resolution\" style=\"background-color: #800080CC\">depression</span></span><span class=\"spark-nlp-display-others\" style=\"background-color: white\">, </span><span class=\"spark-nlp-display-entity-wrapper\" style=\"background-color: #800080B3\"><span class=\"spark-nlp-display-entity-name\">anxiety </span><span class=\"spark-nlp-display-entity-type\">PROBLEM</span><span class=\"spark-nlp-display-entity-resolution\" style=\"background-color: #800080FF\">C4552735 </span><span class=\"spark-nlp-display-entity-resolution\" style=\"background-color: #800080CC\">anxiety</span></span><span class=\"spark-nlp-display-others\" style=\"background-color: white\">, admitted to the ABCD Hospital on February 6, 2007, for </span><span class=\"spark-nlp-display-entity-wrapper\" style=\"background-color: #800080B3\"><span class=\"spark-nlp-display-entity-name\">shortness of breath </span><span class=\"spark-nlp-display-entity-type\">PROBLEM</span><span class=\"spark-nlp-display-entity-resolution\" style=\"background-color: #800080FF\">C4287837 </span><span class=\"spark-nlp-display-entity-resolution\" style=\"background-color: #800080CC\">some shortness of breath</span></span><span class=\"spark-nlp-display-others\" style=\"background-color: white\">. The patient was consulted by Psychiatry for </span><span class=\"spark-nlp-display-entity-wrapper\" style=\"background-color: #800080B3\"><span class=\"spark-nlp-display-entity-name\">anxiety </span><span class=\"spark-nlp-display-entity-type\">PROBLEM</span><span class=\"spark-nlp-display-entity-resolution\" style=\"background-color: #800080FF\">C4552735 </span><span class=\"spark-nlp-display-entity-resolution\" style=\"background-color: #800080CC\">anxiety</span></span><span class=\"spark-nlp-display-others\" style=\"background-color: white\">. I know this patient from a previous consult. During this recent admission, she was given Ativan 0.25 mg on a p.r.n. basis with relief after one to two hours. The patient was seen by Abc, MD, and Def, Ph.D. PAST MEDICAL HISTORY: The patient has a history of </span><span class=\"spark-nlp-display-entity-wrapper\" style=\"background-color: #800080B3\"><span class=\"spark-nlp-display-entity-name\">hypertension </span><span class=\"spark-nlp-display-entity-type\">PROBLEM</span><span class=\"spark-nlp-display-entity-resolution\" style=\"background-color: #800080FF\">C1963138 </span><span class=\"spark-nlp-display-entity-resolution\" style=\"background-color: #800080CC\">hypertension</span></span><span class=\"spark-nlp-display-others\" style=\"background-color: white\">, </span><span class=\"spark-nlp-display-entity-wrapper\" style=\"background-color: #800080B3\"><span class=\"spark-nlp-display-entity-name\">hypothyroidism </span><span class=\"spark-nlp-display-entity-type\">PROBLEM</span><span class=\"spark-nlp-display-entity-resolution\" style=\"background-color: #800080FF\">C4553310 </span><span class=\"spark-nlp-display-entity-resolution\" style=\"background-color: #800080CC\">hypothyroidism</span></span><span class=\"spark-nlp-display-others\" style=\"background-color: white\">, </span><span class=\"spark-nlp-display-entity-wrapper\" style=\"background-color: #800080B3\"><span class=\"spark-nlp-display-entity-name\">cholelithiasis </span><span class=\"spark-nlp-display-entity-type\">PROBLEM</span><span class=\"spark-nlp-display-entity-resolution\" style=\"background-color: #800080FF\">C4553186 </span><span class=\"spark-nlp-display-entity-resolution\" style=\"background-color: #800080CC\">cholecystitis</span></span><span class=\"spark-nlp-display-others\" style=\"background-color: white\">, Port-A-Cath placement, and </span><span class=\"spark-nlp-display-entity-wrapper\" style=\"background-color: #800080B3\"><span class=\"spark-nlp-display-entity-name\">hydronephrosis </span><span class=\"spark-nlp-display-entity-type\">PROBLEM</span><span class=\"spark-nlp-display-entity-resolution\" style=\"background-color: #800080FF\">C4055623 </span><span class=\"spark-nlp-display-entity-resolution\" style=\"background-color: #800080CC\">a1 hydronephrosis</span></span></div>"
            ],
            "text/plain": [
              "<IPython.core.display.HTML object>"
            ]
          },
          "metadata": {},
          "output_type": "display_data"
        },
        {
          "name": "stdout",
          "output_type": "stream",
          "text": [
            "\n",
            "\n",
            "\n"
          ]
        },
        {
          "data": {
            "text/html": [
              "\n",
              "<style>\n",
              "    @import url('https://fonts.googleapis.com/css2?family=Montserrat:wght@300;400;500;600;700&display=swap');\n",
              "    @import url('https://fonts.googleapis.com/css2?family=Vistol Regular:wght@300;400;500;600;700&display=swap');\n",
              "    \n",
              "    .spark-nlp-display-scroll-entities {\n",
              "        border: 1px solid #E7EDF0;\n",
              "        border-radius: 3px;\n",
              "        text-align: justify;\n",
              "        \n",
              "    }\n",
              "    .spark-nlp-display-scroll-entities span {  \n",
              "        font-size: 14px;\n",
              "        line-height: 24px;\n",
              "        color: #536B76;\n",
              "        font-family: 'Montserrat', sans-serif !important;\n",
              "    }\n",
              "    \n",
              "    .spark-nlp-display-entity-wrapper{\n",
              "    \n",
              "        display: inline-grid;\n",
              "        text-align: center;\n",
              "        border-radius: 4px;\n",
              "        margin: 0 2px 5px 2px;\n",
              "        padding: 1px\n",
              "    }\n",
              "    .spark-nlp-display-entity-name{\n",
              "        font-size: 14px;\n",
              "        line-height: 24px;\n",
              "        font-family: 'Montserrat', sans-serif !important;\n",
              "        \n",
              "        background: #f1f2f3;\n",
              "        border-width: medium;\n",
              "        text-align: center;\n",
              "        \n",
              "        font-weight: 400;\n",
              "        \n",
              "        border-radius: 5px;\n",
              "        padding: 2px 5px;\n",
              "        display: block;\n",
              "        margin: 3px 2px;\n",
              "    \n",
              "    }\n",
              "    .spark-nlp-display-entity-type{\n",
              "        font-size: 14px;\n",
              "        line-height: 24px;\n",
              "        color: #ffffff;\n",
              "        font-family: 'Montserrat', sans-serif !important;\n",
              "        \n",
              "        text-transform: uppercase;\n",
              "        \n",
              "        font-weight: 500;\n",
              "\n",
              "        display: block;\n",
              "        padding: 3px 5px;\n",
              "    }\n",
              "    \n",
              "    .spark-nlp-display-entity-resolution{\n",
              "        font-size: 14px;\n",
              "        line-height: 24px;\n",
              "        color: #ffffff;\n",
              "        font-family: 'Vistol Regular', sans-serif !important;\n",
              "        \n",
              "        text-transform: uppercase;\n",
              "        \n",
              "        font-weight: 500;\n",
              "\n",
              "        display: block;\n",
              "        padding: 3px 5px;\n",
              "    }\n",
              "    \n",
              "    .spark-nlp-display-others{\n",
              "        font-size: 14px;\n",
              "        line-height: 24px;\n",
              "        font-family: 'Montserrat', sans-serif !important;\n",
              "        \n",
              "        font-weight: 400;\n",
              "    }\n",
              "\n",
              "</style>\n",
              " <span class=\"spark-nlp-display-others\" style=\"background-color: white\">The patient is a 28-year-old, who is status post gastric bypass surgery nearly one year ago. He has lost about 200 pounds and was otherwise doing well until yesterday evening around 7:00-8:00 when he developed </span><span class=\"spark-nlp-display-entity-wrapper\" style=\"background-color: #800080B3\"><span class=\"spark-nlp-display-entity-name\">nausea </span><span class=\"spark-nlp-display-entity-type\">PROBLEM</span><span class=\"spark-nlp-display-entity-resolution\" style=\"background-color: #800080FF\">C4553767 </span><span class=\"spark-nlp-display-entity-resolution\" style=\"background-color: #800080CC\">nausea</span></span><span class=\"spark-nlp-display-others\" style=\"background-color: white\"> and </span><span class=\"spark-nlp-display-entity-wrapper\" style=\"background-color: #800080B3\"><span class=\"spark-nlp-display-entity-name\">right upper quadrant pain </span><span class=\"spark-nlp-display-entity-type\">PROBLEM</span><span class=\"spark-nlp-display-entity-resolution\" style=\"background-color: #800080FF\">C4685007 </span><span class=\"spark-nlp-display-entity-resolution\" style=\"background-color: #800080CC\">grade 1 abdominal pain</span></span><span class=\"spark-nlp-display-others\" style=\"background-color: white\">, which apparently wrapped around toward his right side and back. He feels like he was on it but has not done so. He has </span><span class=\"spark-nlp-display-entity-wrapper\" style=\"background-color: #800080B3\"><span class=\"spark-nlp-display-entity-name\">overall malaise </span><span class=\"spark-nlp-display-entity-type\">PROBLEM</span><span class=\"spark-nlp-display-entity-resolution\" style=\"background-color: #800080FF\">C4552989 </span><span class=\"spark-nlp-display-entity-resolution\" style=\"background-color: #800080CC\">malaise</span></span><span class=\"spark-nlp-display-others\" style=\"background-color: white\"> and </span><span class=\"spark-nlp-display-entity-wrapper\" style=\"background-color: #800080B3\"><span class=\"spark-nlp-display-entity-name\">a low-grade temperature </span><span class=\"spark-nlp-display-entity-type\">PROBLEM</span><span class=\"spark-nlp-display-entity-resolution\" style=\"background-color: #800080FF\">C0020672 </span><span class=\"spark-nlp-display-entity-resolution\" style=\"background-color: #800080CC\">body temperature low</span></span><span class=\"spark-nlp-display-others\" style=\"background-color: white\"> of 100.3. His last normal bowel movement was yesterday. He denies any outright </span><span class=\"spark-nlp-display-entity-wrapper\" style=\"background-color: #800080B3\"><span class=\"spark-nlp-display-entity-name\">chills </span><span class=\"spark-nlp-display-entity-type\">PROBLEM</span><span class=\"spark-nlp-display-entity-resolution\" style=\"background-color: #800080FF\">C4553185 </span><span class=\"spark-nlp-display-entity-resolution\" style=\"background-color: #800080CC\">chills</span></span><span class=\"spark-nlp-display-others\" style=\"background-color: white\">. PAST MEDICAL HISTORY: Significant for </span><span class=\"spark-nlp-display-entity-wrapper\" style=\"background-color: #800080B3\"><span class=\"spark-nlp-display-entity-name\">hypertension </span><span class=\"spark-nlp-display-entity-type\">PROBLEM</span><span class=\"spark-nlp-display-entity-resolution\" style=\"background-color: #800080FF\">C1963138 </span><span class=\"spark-nlp-display-entity-resolution\" style=\"background-color: #800080CC\">hypertension</span></span><span class=\"spark-nlp-display-others\" style=\"background-color: white\"> and </span><span class=\"spark-nlp-display-entity-wrapper\" style=\"background-color: #800080B3\"><span class=\"spark-nlp-display-entity-name\">morbid obesity </span><span class=\"spark-nlp-display-entity-type\">PROBLEM</span><span class=\"spark-nlp-display-entity-resolution\" style=\"background-color: #800080FF\">C1963185 </span><span class=\"spark-nlp-display-entity-resolution\" style=\"background-color: #800080CC\">obesity</span></span><span class=\"spark-nlp-display-others\" style=\"background-color: white\">, now resolved.</span></div>"
            ],
            "text/plain": [
              "<IPython.core.display.HTML object>"
            ]
          },
          "metadata": {},
          "output_type": "display_data"
        },
        {
          "name": "stdout",
          "output_type": "stream",
          "text": [
            "\n",
            "\n",
            "\n"
          ]
        },
        {
          "data": {
            "text/html": [
              "\n",
              "<style>\n",
              "    @import url('https://fonts.googleapis.com/css2?family=Montserrat:wght@300;400;500;600;700&display=swap');\n",
              "    @import url('https://fonts.googleapis.com/css2?family=Vistol Regular:wght@300;400;500;600;700&display=swap');\n",
              "    \n",
              "    .spark-nlp-display-scroll-entities {\n",
              "        border: 1px solid #E7EDF0;\n",
              "        border-radius: 3px;\n",
              "        text-align: justify;\n",
              "        \n",
              "    }\n",
              "    .spark-nlp-display-scroll-entities span {  \n",
              "        font-size: 14px;\n",
              "        line-height: 24px;\n",
              "        color: #536B76;\n",
              "        font-family: 'Montserrat', sans-serif !important;\n",
              "    }\n",
              "    \n",
              "    .spark-nlp-display-entity-wrapper{\n",
              "    \n",
              "        display: inline-grid;\n",
              "        text-align: center;\n",
              "        border-radius: 4px;\n",
              "        margin: 0 2px 5px 2px;\n",
              "        padding: 1px\n",
              "    }\n",
              "    .spark-nlp-display-entity-name{\n",
              "        font-size: 14px;\n",
              "        line-height: 24px;\n",
              "        font-family: 'Montserrat', sans-serif !important;\n",
              "        \n",
              "        background: #f1f2f3;\n",
              "        border-width: medium;\n",
              "        text-align: center;\n",
              "        \n",
              "        font-weight: 400;\n",
              "        \n",
              "        border-radius: 5px;\n",
              "        padding: 2px 5px;\n",
              "        display: block;\n",
              "        margin: 3px 2px;\n",
              "    \n",
              "    }\n",
              "    .spark-nlp-display-entity-type{\n",
              "        font-size: 14px;\n",
              "        line-height: 24px;\n",
              "        color: #ffffff;\n",
              "        font-family: 'Montserrat', sans-serif !important;\n",
              "        \n",
              "        text-transform: uppercase;\n",
              "        \n",
              "        font-weight: 500;\n",
              "\n",
              "        display: block;\n",
              "        padding: 3px 5px;\n",
              "    }\n",
              "    \n",
              "    .spark-nlp-display-entity-resolution{\n",
              "        font-size: 14px;\n",
              "        line-height: 24px;\n",
              "        color: #ffffff;\n",
              "        font-family: 'Vistol Regular', sans-serif !important;\n",
              "        \n",
              "        text-transform: uppercase;\n",
              "        \n",
              "        font-weight: 500;\n",
              "\n",
              "        display: block;\n",
              "        padding: 3px 5px;\n",
              "    }\n",
              "    \n",
              "    .spark-nlp-display-others{\n",
              "        font-size: 14px;\n",
              "        line-height: 24px;\n",
              "        font-family: 'Montserrat', sans-serif !important;\n",
              "        \n",
              "        font-weight: 400;\n",
              "    }\n",
              "\n",
              "</style>\n",
              " <span class=\"spark-nlp-display-others\" style=\"background-color: white\">The patient is a 51-year-old Caucasian female with past medical history of </span><span class=\"spark-nlp-display-entity-wrapper\" style=\"background-color: #800080B3\"><span class=\"spark-nlp-display-entity-name\">morbid obesity </span><span class=\"spark-nlp-display-entity-type\">PROBLEM</span><span class=\"spark-nlp-display-entity-resolution\" style=\"background-color: #800080FF\">C1963185 </span><span class=\"spark-nlp-display-entity-resolution\" style=\"background-color: #800080CC\">obesity</span></span><span class=\"spark-nlp-display-others\" style=\"background-color: white\"> and </span><span class=\"spark-nlp-display-entity-wrapper\" style=\"background-color: #800080B3\"><span class=\"spark-nlp-display-entity-name\">chronic lower extremity lymphedema </span><span class=\"spark-nlp-display-entity-type\">PROBLEM</span><span class=\"spark-nlp-display-entity-resolution\" style=\"background-color: #800080FF\">C1835228 </span><span class=\"spark-nlp-display-entity-resolution\" style=\"background-color: #800080CC\">lymphedema, predominantly in the lower limbs</span></span><span class=\"spark-nlp-display-others\" style=\"background-color: white\">. She follows up at the wound care center at Hospital. </span><span class=\"spark-nlp-display-entity-wrapper\" style=\"background-color: #800080B3\"><span class=\"spark-nlp-display-entity-name\">Her lower extremity edema </span><span class=\"spark-nlp-display-entity-type\">PROBLEM</span><span class=\"spark-nlp-display-entity-resolution\" style=\"background-color: #800080FF\">C0239340 </span><span class=\"spark-nlp-display-entity-resolution\" style=\"background-color: #800080CC\">lower extremity edema</span></span><span class=\"spark-nlp-display-others\" style=\"background-color: white\"> is being managed there. She has had multiple episodes of </span><span class=\"spark-nlp-display-entity-wrapper\" style=\"background-color: #800080B3\"><span class=\"spark-nlp-display-entity-name\">cellulitis of the lower extremities </span><span class=\"spark-nlp-display-entity-type\">PROBLEM</span><span class=\"spark-nlp-display-entity-resolution\" style=\"background-color: #800080FF\">C0239340 </span><span class=\"spark-nlp-display-entity-resolution\" style=\"background-color: #800080CC\">oedema of lower extremity</span></span><span class=\"spark-nlp-display-others\" style=\"background-color: white\"> for which she has received treatment with oral Bactrim and ciprofloxacin in the past according to her. As </span><span class=\"spark-nlp-display-entity-wrapper\" style=\"background-color: #800080B3\"><span class=\"spark-nlp-display-entity-name\">her lymphedema </span><span class=\"spark-nlp-display-entity-type\">PROBLEM</span><span class=\"spark-nlp-display-entity-resolution\" style=\"background-color: #800080FF\">C4553542 </span><span class=\"spark-nlp-display-entity-resolution\" style=\"background-color: #800080CC\">lymphedema</span></span><span class=\"spark-nlp-display-others\" style=\"background-color: white\"> was not improving on therapy at that facility, she was referred for admission to Long-Term Acute Care Facility for lymphedema management. She at present has </span><span class=\"spark-nlp-display-entity-wrapper\" style=\"background-color: #800080B3\"><span class=\"spark-nlp-display-entity-name\">a stage II ulcer </span><span class=\"spark-nlp-display-entity-type\">PROBLEM</span><span class=\"spark-nlp-display-entity-resolution\" style=\"background-color: #800080FF\">C1559184 </span><span class=\"spark-nlp-display-entity-resolution\" style=\"background-color: #800080CC\">grade 2 ulceration</span></span><span class=\"spark-nlp-display-others\" style=\"background-color: white\"> on the lower part of the medial aspect of left leg. Her measurements for lymphedema wraps have been taken and in my opinion, it is going to be started in a day or two.</span></div>"
            ],
            "text/plain": [
              "<IPython.core.display.HTML object>"
            ]
          },
          "metadata": {},
          "output_type": "display_data"
        },
        {
          "name": "stdout",
          "output_type": "stream",
          "text": [
            "\n",
            "\n",
            "\n"
          ]
        },
        {
          "data": {
            "text/html": [
              "\n",
              "<style>\n",
              "    @import url('https://fonts.googleapis.com/css2?family=Montserrat:wght@300;400;500;600;700&display=swap');\n",
              "    @import url('https://fonts.googleapis.com/css2?family=Vistol Regular:wght@300;400;500;600;700&display=swap');\n",
              "    \n",
              "    .spark-nlp-display-scroll-entities {\n",
              "        border: 1px solid #E7EDF0;\n",
              "        border-radius: 3px;\n",
              "        text-align: justify;\n",
              "        \n",
              "    }\n",
              "    .spark-nlp-display-scroll-entities span {  \n",
              "        font-size: 14px;\n",
              "        line-height: 24px;\n",
              "        color: #536B76;\n",
              "        font-family: 'Montserrat', sans-serif !important;\n",
              "    }\n",
              "    \n",
              "    .spark-nlp-display-entity-wrapper{\n",
              "    \n",
              "        display: inline-grid;\n",
              "        text-align: center;\n",
              "        border-radius: 4px;\n",
              "        margin: 0 2px 5px 2px;\n",
              "        padding: 1px\n",
              "    }\n",
              "    .spark-nlp-display-entity-name{\n",
              "        font-size: 14px;\n",
              "        line-height: 24px;\n",
              "        font-family: 'Montserrat', sans-serif !important;\n",
              "        \n",
              "        background: #f1f2f3;\n",
              "        border-width: medium;\n",
              "        text-align: center;\n",
              "        \n",
              "        font-weight: 400;\n",
              "        \n",
              "        border-radius: 5px;\n",
              "        padding: 2px 5px;\n",
              "        display: block;\n",
              "        margin: 3px 2px;\n",
              "    \n",
              "    }\n",
              "    .spark-nlp-display-entity-type{\n",
              "        font-size: 14px;\n",
              "        line-height: 24px;\n",
              "        color: #ffffff;\n",
              "        font-family: 'Montserrat', sans-serif !important;\n",
              "        \n",
              "        text-transform: uppercase;\n",
              "        \n",
              "        font-weight: 500;\n",
              "\n",
              "        display: block;\n",
              "        padding: 3px 5px;\n",
              "    }\n",
              "    \n",
              "    .spark-nlp-display-entity-resolution{\n",
              "        font-size: 14px;\n",
              "        line-height: 24px;\n",
              "        color: #ffffff;\n",
              "        font-family: 'Vistol Regular', sans-serif !important;\n",
              "        \n",
              "        text-transform: uppercase;\n",
              "        \n",
              "        font-weight: 500;\n",
              "\n",
              "        display: block;\n",
              "        padding: 3px 5px;\n",
              "    }\n",
              "    \n",
              "    .spark-nlp-display-others{\n",
              "        font-size: 14px;\n",
              "        line-height: 24px;\n",
              "        font-family: 'Montserrat', sans-serif !important;\n",
              "        \n",
              "        font-weight: 400;\n",
              "    }\n",
              "\n",
              "</style>\n",
              " <span class=\"spark-nlp-display-others\" style=\"background-color: white\">HISTORY: The patient is a 78-year-old gentleman with no substantial past medical history. He denies </span><span class=\"spark-nlp-display-entity-wrapper\" style=\"background-color: #800080B3\"><span class=\"spark-nlp-display-entity-name\">diabetes </span><span class=\"spark-nlp-display-entity-type\">PROBLEM</span><span class=\"spark-nlp-display-entity-resolution\" style=\"background-color: #800080FF\">C0151671 </span><span class=\"spark-nlp-display-entity-resolution\" style=\"background-color: #800080CC\">impaired glucose tolerance</span></span><span class=\"spark-nlp-display-others\" style=\"background-color: white\"> including </span><span class=\"spark-nlp-display-entity-wrapper\" style=\"background-color: #800080B3\"><span class=\"spark-nlp-display-entity-name\">kidney disease </span><span class=\"spark-nlp-display-entity-type\">PROBLEM</span><span class=\"spark-nlp-display-entity-resolution\" style=\"background-color: #800080FF\">C4553188 </span><span class=\"spark-nlp-display-entity-resolution\" style=\"background-color: #800080CC\">chronic kidney disease</span></span><span class=\"spark-nlp-display-others\" style=\"background-color: white\">, </span><span class=\"spark-nlp-display-entity-wrapper\" style=\"background-color: #800080B3\"><span class=\"spark-nlp-display-entity-name\">stroke </span><span class=\"spark-nlp-display-entity-type\">PROBLEM</span><span class=\"spark-nlp-display-entity-resolution\" style=\"background-color: #800080FF\">C4554100 </span><span class=\"spark-nlp-display-entity-resolution\" style=\"background-color: #800080CC\">stroke</span></span><span class=\"spark-nlp-display-others\" style=\"background-color: white\">, </span><span class=\"spark-nlp-display-entity-wrapper\" style=\"background-color: #800080B3\"><span class=\"spark-nlp-display-entity-name\">vision loss </span><span class=\"spark-nlp-display-entity-type\">PROBLEM</span><span class=\"spark-nlp-display-entity-resolution\" style=\"background-color: #800080FF\">C3665347 </span><span class=\"spark-nlp-display-entity-resolution\" style=\"background-color: #800080CC\">vision loss</span></span><span class=\"spark-nlp-display-others\" style=\"background-color: white\">, or </span><span class=\"spark-nlp-display-entity-wrapper\" style=\"background-color: #800080B3\"><span class=\"spark-nlp-display-entity-name\">neuropathy </span><span class=\"spark-nlp-display-entity-type\">PROBLEM</span><span class=\"spark-nlp-display-entity-resolution\" style=\"background-color: #800080FF\">C1842587 </span><span class=\"spark-nlp-display-entity-resolution\" style=\"background-color: #800080CC\">sensory axonal neuropathy</span></span><span class=\"spark-nlp-display-others\" style=\"background-color: white\">. At this time, he has been admitted for </span><span class=\"spark-nlp-display-entity-wrapper\" style=\"background-color: #800080B3\"><span class=\"spark-nlp-display-entity-name\">anemia </span><span class=\"spark-nlp-display-entity-type\">PROBLEM</span><span class=\"spark-nlp-display-entity-resolution\" style=\"background-color: #800080FF\">C4554633 </span><span class=\"spark-nlp-display-entity-resolution\" style=\"background-color: #800080CC\">anemia</span></span><span class=\"spark-nlp-display-others\" style=\"background-color: white\"> with hemoglobin of 7.1 and requiring transfusion. He reports that he has no signs or symptom of </span><span class=\"spark-nlp-display-entity-wrapper\" style=\"background-color: #800080B3\"><span class=\"spark-nlp-display-entity-name\">bleeding </span><span class=\"spark-nlp-display-entity-type\">PROBLEM</span><span class=\"spark-nlp-display-entity-resolution\" style=\"background-color: #800080FF\">C0424561 </span><span class=\"spark-nlp-display-entity-resolution\" style=\"background-color: #800080CC\">excessive bleeding</span></span><span class=\"spark-nlp-display-others\" style=\"background-color: white\"> and had a blood transfusion approximately two months ago and actually several weeks before that blood transfusion, he had a transfusion for </span><span class=\"spark-nlp-display-entity-wrapper\" style=\"background-color: #800080B3\"><span class=\"spark-nlp-display-entity-name\">anemia </span><span class=\"spark-nlp-display-entity-type\">PROBLEM</span><span class=\"spark-nlp-display-entity-resolution\" style=\"background-color: #800080FF\">C4554633 </span><span class=\"spark-nlp-display-entity-resolution\" style=\"background-color: #800080CC\">anemia</span></span><span class=\"spark-nlp-display-others\" style=\"background-color: white\">. He has been placed on B12, oral iron, and Procrit. At this time, we are asked to evaluate him for further causes and treatment for </span><span class=\"spark-nlp-display-entity-wrapper\" style=\"background-color: #800080B3\"><span class=\"spark-nlp-display-entity-name\">his anemia </span><span class=\"spark-nlp-display-entity-type\">PROBLEM</span><span class=\"spark-nlp-display-entity-resolution\" style=\"background-color: #800080FF\">C4554633 </span><span class=\"spark-nlp-display-entity-resolution\" style=\"background-color: #800080CC\">anemia</span></span><span class=\"spark-nlp-display-others\" style=\"background-color: white\">. No </span><span class=\"spark-nlp-display-entity-wrapper\" style=\"background-color: #800080B3\"><span class=\"spark-nlp-display-entity-name\">fevers </span><span class=\"spark-nlp-display-entity-type\">PROBLEM</span><span class=\"spark-nlp-display-entity-resolution\" style=\"background-color: #800080FF\">C4552740 </span><span class=\"spark-nlp-display-entity-resolution\" style=\"background-color: #800080CC\">fever</span></span><span class=\"spark-nlp-display-others\" style=\"background-color: white\">, </span><span class=\"spark-nlp-display-entity-wrapper\" style=\"background-color: #800080B3\"><span class=\"spark-nlp-display-entity-name\">rash </span><span class=\"spark-nlp-display-entity-type\">PROBLEM</span><span class=\"spark-nlp-display-entity-resolution\" style=\"background-color: #800080FF\">C0497365 </span><span class=\"spark-nlp-display-entity-resolution\" style=\"background-color: #800080CC\">rash over</span></span><span class=\"spark-nlp-display-others\" style=\"background-color: white\">, </span><span class=\"spark-nlp-display-entity-wrapper\" style=\"background-color: #800080B3\"><span class=\"spark-nlp-display-entity-name\">arthralgias </span><span class=\"spark-nlp-display-entity-type\">PROBLEM</span><span class=\"spark-nlp-display-entity-resolution\" style=\"background-color: #800080FF\">C4551938 </span><span class=\"spark-nlp-display-entity-resolution\" style=\"background-color: #800080CC\">arthralgia</span></span><span class=\"spark-nlp-display-others\" style=\"background-color: white\">, or </span><span class=\"spark-nlp-display-entity-wrapper\" style=\"background-color: #800080B3\"><span class=\"spark-nlp-display-entity-name\">myalgias </span><span class=\"spark-nlp-display-entity-type\">PROBLEM</span><span class=\"spark-nlp-display-entity-resolution\" style=\"background-color: #800080FF\">C4552646 </span><span class=\"spark-nlp-display-entity-resolution\" style=\"background-color: #800080CC\">myalgia</span></span><span class=\"spark-nlp-display-others\" style=\"background-color: white\">.</span></div>"
            ],
            "text/plain": [
              "<IPython.core.display.HTML object>"
            ]
          },
          "metadata": {},
          "output_type": "display_data"
        },
        {
          "name": "stdout",
          "output_type": "stream",
          "text": [
            "\n",
            "\n",
            "\n"
          ]
        },
        {
          "data": {
            "text/html": [
              "\n",
              "<style>\n",
              "    @import url('https://fonts.googleapis.com/css2?family=Montserrat:wght@300;400;500;600;700&display=swap');\n",
              "    @import url('https://fonts.googleapis.com/css2?family=Vistol Regular:wght@300;400;500;600;700&display=swap');\n",
              "    \n",
              "    .spark-nlp-display-scroll-entities {\n",
              "        border: 1px solid #E7EDF0;\n",
              "        border-radius: 3px;\n",
              "        text-align: justify;\n",
              "        \n",
              "    }\n",
              "    .spark-nlp-display-scroll-entities span {  \n",
              "        font-size: 14px;\n",
              "        line-height: 24px;\n",
              "        color: #536B76;\n",
              "        font-family: 'Montserrat', sans-serif !important;\n",
              "    }\n",
              "    \n",
              "    .spark-nlp-display-entity-wrapper{\n",
              "    \n",
              "        display: inline-grid;\n",
              "        text-align: center;\n",
              "        border-radius: 4px;\n",
              "        margin: 0 2px 5px 2px;\n",
              "        padding: 1px\n",
              "    }\n",
              "    .spark-nlp-display-entity-name{\n",
              "        font-size: 14px;\n",
              "        line-height: 24px;\n",
              "        font-family: 'Montserrat', sans-serif !important;\n",
              "        \n",
              "        background: #f1f2f3;\n",
              "        border-width: medium;\n",
              "        text-align: center;\n",
              "        \n",
              "        font-weight: 400;\n",
              "        \n",
              "        border-radius: 5px;\n",
              "        padding: 2px 5px;\n",
              "        display: block;\n",
              "        margin: 3px 2px;\n",
              "    \n",
              "    }\n",
              "    .spark-nlp-display-entity-type{\n",
              "        font-size: 14px;\n",
              "        line-height: 24px;\n",
              "        color: #ffffff;\n",
              "        font-family: 'Montserrat', sans-serif !important;\n",
              "        \n",
              "        text-transform: uppercase;\n",
              "        \n",
              "        font-weight: 500;\n",
              "\n",
              "        display: block;\n",
              "        padding: 3px 5px;\n",
              "    }\n",
              "    \n",
              "    .spark-nlp-display-entity-resolution{\n",
              "        font-size: 14px;\n",
              "        line-height: 24px;\n",
              "        color: #ffffff;\n",
              "        font-family: 'Vistol Regular', sans-serif !important;\n",
              "        \n",
              "        text-transform: uppercase;\n",
              "        \n",
              "        font-weight: 500;\n",
              "\n",
              "        display: block;\n",
              "        padding: 3px 5px;\n",
              "    }\n",
              "    \n",
              "    .spark-nlp-display-others{\n",
              "        font-size: 14px;\n",
              "        line-height: 24px;\n",
              "        font-family: 'Montserrat', sans-serif !important;\n",
              "        \n",
              "        font-weight: 400;\n",
              "    }\n",
              "\n",
              "</style>\n",
              " <span class=\"spark-nlp-display-others\" style=\"background-color: white\">The patient is a 36-year-old gentleman admitted to the hospital because he passed out at home. Over the past week, he has been noticing </span><span class=\"spark-nlp-display-entity-wrapper\" style=\"background-color: #800080B3\"><span class=\"spark-nlp-display-entity-name\">increasing shortness of breath </span><span class=\"spark-nlp-display-entity-type\">PROBLEM</span><span class=\"spark-nlp-display-entity-resolution\" style=\"background-color: #800080FF\">C4054481 </span><span class=\"spark-nlp-display-entity-resolution\" style=\"background-color: #800080CC\">moderate shortness of breath</span></span><span class=\"spark-nlp-display-others\" style=\"background-color: white\">. He also started having </span><span class=\"spark-nlp-display-entity-wrapper\" style=\"background-color: #800080B3\"><span class=\"spark-nlp-display-entity-name\">some abdominal pain </span><span class=\"spark-nlp-display-entity-type\">PROBLEM</span><span class=\"spark-nlp-display-entity-resolution\" style=\"background-color: #800080FF\">C4554323 </span><span class=\"spark-nlp-display-entity-resolution\" style=\"background-color: #800080CC\">abdominal pain</span></span><span class=\"spark-nlp-display-others\" style=\"background-color: white\">; however, he continued about his regular activity until the other day when he passed out at home. His wife called paramedics and he was brought to the emergency room. He has been started on heparin and we are asked to see him because of </span><span class=\"spark-nlp-display-entity-wrapper\" style=\"background-color: #800080B3\"><span class=\"spark-nlp-display-entity-name\">increasing BUN </span><span class=\"spark-nlp-display-entity-type\">PROBLEM</span><span class=\"spark-nlp-display-entity-resolution\" style=\"background-color: #800080FF\">C0151539 </span><span class=\"spark-nlp-display-entity-resolution\" style=\"background-color: #800080CC\">increased bun</span></span><span class=\"spark-nlp-display-others\" style=\"background-color: white\"> and creatinine. The patient has no past history of </span><span class=\"spark-nlp-display-entity-wrapper\" style=\"background-color: #800080B3\"><span class=\"spark-nlp-display-entity-name\">any renal problems </span><span class=\"spark-nlp-display-entity-type\">PROBLEM</span><span class=\"spark-nlp-display-entity-resolution\" style=\"background-color: #800080FF\">C0184571 </span><span class=\"spark-nlp-display-entity-resolution\" style=\"background-color: #800080CC\">renal alteration</span></span><span class=\"spark-nlp-display-others\" style=\"background-color: white\">. He feels that he has been in good health until </span><span class=\"spark-nlp-display-entity-wrapper\" style=\"background-color: #800080B3\"><span class=\"spark-nlp-display-entity-name\">this current episode </span><span class=\"spark-nlp-display-entity-type\">PROBLEM</span><span class=\"spark-nlp-display-entity-resolution\" style=\"background-color: #800080FF\">C5204308 </span><span class=\"spark-nlp-display-entity-resolution\" style=\"background-color: #800080CC\">currently receiving</span></span><span class=\"spark-nlp-display-others\" style=\"background-color: white\">. His appetite has been good. He denies </span><span class=\"spark-nlp-display-entity-wrapper\" style=\"background-color: #800080B3\"><span class=\"spark-nlp-display-entity-name\">swelling in his feet or ankles </span><span class=\"spark-nlp-display-entity-type\">PROBLEM</span><span class=\"spark-nlp-display-entity-resolution\" style=\"background-color: #800080FF\">C1837407 </span><span class=\"spark-nlp-display-entity-resolution\" style=\"background-color: #800080CC\">contractures of the ankles</span></span><span class=\"spark-nlp-display-others\" style=\"background-color: white\">. He denies </span><span class=\"spark-nlp-display-entity-wrapper\" style=\"background-color: #800080B3\"><span class=\"spark-nlp-display-entity-name\">chest pain </span><span class=\"spark-nlp-display-entity-type\">PROBLEM</span><span class=\"spark-nlp-display-entity-resolution\" style=\"background-color: #800080FF\">C4553184 </span><span class=\"spark-nlp-display-entity-resolution\" style=\"background-color: #800080CC\">chest wall pain</span></span><span class=\"spark-nlp-display-others\" style=\"background-color: white\">. He denies </span><span class=\"spark-nlp-display-entity-wrapper\" style=\"background-color: #800080B3\"><span class=\"spark-nlp-display-entity-name\">any unexplained weight loss </span><span class=\"spark-nlp-display-entity-type\">PROBLEM</span><span class=\"spark-nlp-display-entity-resolution\" style=\"background-color: #800080FF\">C1262477 </span><span class=\"spark-nlp-display-entity-resolution\" style=\"background-color: #800080CC\">loss of weight</span></span><span class=\"spark-nlp-display-others\" style=\"background-color: white\">. He denies </span><span class=\"spark-nlp-display-entity-wrapper\" style=\"background-color: #800080B3\"><span class=\"spark-nlp-display-entity-name\">any recent change in bowel habits </span><span class=\"spark-nlp-display-entity-type\">PROBLEM</span><span class=\"spark-nlp-display-entity-resolution\" style=\"background-color: #800080FF\">C1998633 </span><span class=\"spark-nlp-display-entity-resolution\" style=\"background-color: #800080CC\">bowel elimination alteration</span></span><span class=\"spark-nlp-display-others\" style=\"background-color: white\">.</span></div>"
            ],
            "text/plain": [
              "<IPython.core.display.HTML object>"
            ]
          },
          "metadata": {},
          "output_type": "display_data"
        },
        {
          "name": "stdout",
          "output_type": "stream",
          "text": [
            "\n",
            "\n",
            "\n"
          ]
        }
      ],
      "source": [
        "from sparknlp_display import EntityResolverVisualizer\n",
        "\n",
        "resolver_viz = EntityResolverVisualizer()\n",
        "\n",
        "\n",
        "for j in range(df.count()):\n",
        "    resolver_viz.display(result = result.collect()[j], label_col = \"ner_chunk\", resolution_col=\"resolution\")\n",
        "    print(\"\\n\\n\")"
      ]
    }
  ],
  "metadata": {
    "colab": {
      "collapsed_sections": [],
      "name": "ER_UMLS_CUI.ipynb",
      "provenance": []
    },
    "kernelspec": {
      "display_name": "Python 3",
      "name": "python3"
    },
    "language_info": {
      "name": "python"
    }
  },
  "nbformat": 4,
  "nbformat_minor": 0
}

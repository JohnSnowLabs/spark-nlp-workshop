{
  "nbformat": 4,
  "nbformat_minor": 0,
  "metadata": {
    "colab": {
      "name": "ER_ICD10_GM_DE.ipynb",
      "provenance": [],
      "collapsed_sections": [],
      "toc_visible": true
    },
    "kernelspec": {
      "name": "python3",
      "display_name": "Python 3"
    },
    "language_info": {
      "name": "python"
    }
  },
  "cells": [
    {
      "cell_type": "markdown",
      "source": [
        "![JohnSnowLabs](https://nlp.johnsnowlabs.com/assets/images/logo.png)\n",
        "\n",
        "[![Open In Colab](https://colab.research.google.com/assets/colab-badge.svg)](https://colab.research.google.com/github/JohnSnowLabs/spark-nlp-workshop/blob/master/tutorials/streamlit_notebooks/healthcare/ER_ICD10_GM_DE.ipynb)"
      ],
      "metadata": {
        "id": "wWLwNF4iITCn"
      }
    },
    {
      "cell_type": "markdown",
      "source": [
        "# `sbertresolve_icd10gm` **Models**\n",
        "\n",
        "This model maps clinical findings to their corresponding ICD-10-GM code in healthcare records using Entity Resolvers."
      ],
      "metadata": {
        "id": "rIVVRWlyIaPW"
      }
    },
    {
      "cell_type": "markdown",
      "source": [
        "## 1. Colab Setup"
      ],
      "metadata": {
        "id": "Xa2MP5N2EyAN"
      }
    },
    {
      "cell_type": "markdown",
      "source": [
        "**Import license keys**"
      ],
      "metadata": {
        "id": "meFLU3CTE2S9"
      }
    },
    {
      "cell_type": "code",
      "execution_count": null,
      "metadata": {
        "id": "dnJ9X-mbEOMr"
      },
      "outputs": [],
      "source": [
        "import json\n",
        "import os\n",
        "\n",
        "from google.colab import files\n",
        "\n",
        "license_keys = files.upload()\n",
        "\n",
        "with open(list(license_keys.keys())[0]) as f:\n",
        "    license_keys = json.load(f)\n",
        "\n",
        "# Defining license key-value pairs as local variables\n",
        "locals().update(license_keys)\n",
        "\n",
        "# Adding license key-value pairs to environment variables\n",
        "os.environ.update(license_keys)"
      ]
    },
    {
      "cell_type": "markdown",
      "source": [
        "**Install dependencies**"
      ],
      "metadata": {
        "id": "MpFCD_gTFcyx"
      }
    },
    {
      "cell_type": "code",
      "source": [
        "# Installing pyspark and spark-nlp\n",
        "! pip install --upgrade -q pyspark==3.1.2 spark-nlp==$PUBLIC_VERSION\n",
        "\n",
        "# Installing Spark NLP Healthcare\n",
        "! pip install --upgrade -q spark-nlp-jsl==$JSL_VERSION  --extra-index-url https://pypi.johnsnowlabs.com/$SECRET\n",
        "\n",
        "# Installing Spark NLP Display Library for visualization\n",
        "! pip install -q spark-nlp-display"
      ],
      "metadata": {
        "id": "qeg3QosiFf5u"
      },
      "execution_count": null,
      "outputs": []
    },
    {
      "cell_type": "markdown",
      "source": [
        "## 2. Start Spark Session"
      ],
      "metadata": {
        "id": "WcrI5WVvGDvP"
      }
    },
    {
      "cell_type": "markdown",
      "source": [
        "**Import dependencies into Python and start the Spark session**"
      ],
      "metadata": {
        "id": "bEYvJIDaFxuM"
      }
    },
    {
      "cell_type": "code",
      "source": [
        "# Import sparknlp & sparknlp_jsl packages\n",
        "import sparknlp\n",
        "import sparknlp_jsl\n",
        "\n",
        "from sparknlp.base import *\n",
        "from sparknlp.common import *\n",
        "from sparknlp.annotator import *\n",
        "from sparknlp_jsl.annotator import *\n",
        "\n",
        "# Import Pyspark packages\n",
        "from pyspark.sql import SparkSession\n",
        "from pyspark.sql import functions as F \n",
        "from pyspark.ml import Pipeline, PipelineModel\n",
        "\n",
        "import pandas as pd\n",
        "import numpy as np \n",
        "\n",
        "spark = sparknlp_jsl.start(license_keys['SECRET'])\n",
        "\n",
        "print (\"Spark NLP Version :\", sparknlp.version())\n",
        "print (\"Spark NLP_JSL Version :\", sparknlp_jsl.version())\n",
        "\n",
        "spark"
      ],
      "metadata": {
        "colab": {
          "base_uri": "https://localhost:8080/",
          "height": 254
        },
        "id": "uh5IkMSuFwH0",
        "outputId": "e6e2c209-93e9-498c-ca9f-411eb0f352e6"
      },
      "execution_count": 3,
      "outputs": [
        {
          "output_type": "stream",
          "name": "stdout",
          "text": [
            "Spark NLP Version : 3.4.4\n",
            "Spark NLP_JSL Version : 3.5.2\n"
          ]
        },
        {
          "output_type": "execute_result",
          "data": {
            "text/plain": [
              "<pyspark.sql.session.SparkSession at 0x7ff400737d50>"
            ],
            "text/html": [
              "\n",
              "            <div>\n",
              "                <p><b>SparkSession - in-memory</b></p>\n",
              "                \n",
              "        <div>\n",
              "            <p><b>SparkContext</b></p>\n",
              "\n",
              "            <p><a href=\"http://edf2ed91dffe:4040\">Spark UI</a></p>\n",
              "\n",
              "            <dl>\n",
              "              <dt>Version</dt>\n",
              "                <dd><code>v3.1.2</code></dd>\n",
              "              <dt>Master</dt>\n",
              "                <dd><code>local[*]</code></dd>\n",
              "              <dt>AppName</dt>\n",
              "                <dd><code>Spark NLP Licensed</code></dd>\n",
              "            </dl>\n",
              "        </div>\n",
              "        \n",
              "            </div>\n",
              "        "
            ]
          },
          "metadata": {},
          "execution_count": 3
        }
      ]
    },
    {
      "cell_type": "markdown",
      "source": [
        "## 3. Select the model and construct the pipeline"
      ],
      "metadata": {
        "id": "6unD_Wi4GHA2"
      }
    },
    {
      "cell_type": "code",
      "source": [
        "MODEL_NAME = [\"sbertresolve_icd10gm \"]"
      ],
      "metadata": {
        "id": "aERdxMBiGL5b"
      },
      "execution_count": 4,
      "outputs": []
    },
    {
      "cell_type": "markdown",
      "source": [
        "**Create the pipeline**"
      ],
      "metadata": {
        "id": "6890ej79GVJl"
      }
    },
    {
      "cell_type": "code",
      "source": [
        "document_assembler = DocumentAssembler()\\\n",
        "    .setInputCol(\"text\")\\\n",
        "    .setOutputCol(\"document\")\n",
        "\n",
        "sentence_detector = SentenceDetector() \\\n",
        "    .setInputCols(['document'])\\\n",
        "    .setOutputCol('sentence')\n",
        "\n",
        "tokenizer = Tokenizer()\\\n",
        "    .setInputCols([\"sentence\"])\\\n",
        "    .setOutputCol(\"token\")\n",
        "\n",
        "embeddings = WordEmbeddingsModel.pretrained('w2v_cc_300d','de', 'clinical/models') \\\n",
        "    .setInputCols([\"sentence\", 'token'])\\\n",
        "    .setOutputCol(\"embeddings\")\n",
        "\n",
        "ner = MedicalNerModel.pretrained('ner_healthcare','de', 'clinical/models') \\\n",
        "    .setInputCols([\"sentence\", \"token\", \"embeddings\"]) \\\n",
        "    .setOutputCol(\"ner\")\n",
        "\n",
        "ner_converter = NerConverterInternal() \\\n",
        "    .setInputCols([\"sentence\", \"token\", \"ner\"]) \\\n",
        "    .setOutputCol(\"ner_chunk\")\\\n",
        "\n",
        "c2doc = Chunk2Doc()\\\n",
        "    .setInputCols(\"ner_chunk\")\\\n",
        "    .setOutputCol(\"ner_chunk_doc\") \n",
        "\n",
        "sbert_embedder = BertSentenceEmbeddings.pretrained(\"sent_bert_base_cased\", \"de\")\\\n",
        "    .setInputCols([\"ner_chunk_doc\"])\\\n",
        "    .setOutputCol(\"sbert_embeddings\")\n",
        "\n",
        "icd10gm_resolver = SentenceEntityResolverModel.pretrained(\"sbertresolve_icd10gm\", \"de\", \"clinical/models\") \\\n",
        "    .setInputCols([\"ner_chunk\", \"sbert_embeddings\"]) \\\n",
        "    .setOutputCol(\"icd10gm_code\")\n",
        "\n",
        "\n",
        "nlp_pipeline = Pipeline(\n",
        "    stages = [\n",
        "        document_assembler,\n",
        "        sentence_detector,\n",
        "        tokenizer,\n",
        "        embeddings,\n",
        "        ner,\n",
        "        ner_converter,\n",
        "        c2doc,\n",
        "        sbert_embedder,\n",
        "        icd10gm_resolver\n",
        "  ])\n",
        "\n",
        "empty_df = spark.createDataFrame([[\"\"]]).toDF('text')\n",
        "\n",
        "model = nlp_pipeline.fit(empty_df)"
      ],
      "metadata": {
        "colab": {
          "base_uri": "https://localhost:8080/"
        },
        "id": "Vjo9u1N1Ga1W",
        "outputId": "4da3e767-eed1-4016-ca27-60c84d595d12"
      },
      "execution_count": 11,
      "outputs": [
        {
          "output_type": "stream",
          "name": "stdout",
          "text": [
            "w2v_cc_300d download started this may take some time.\n",
            "Approximate size to download 1.2 GB\n",
            "[OK!]\n",
            "ner_healthcare download started this may take some time.\n",
            "[OK!]\n",
            "sent_bert_base_cased download started this may take some time.\n",
            "Approximate size to download 390.2 MB\n",
            "[OK!]\n",
            "sbertresolve_icd10gm download started this may take some time.\n",
            "[OK!]\n"
          ]
        }
      ]
    },
    {
      "cell_type": "markdown",
      "source": [
        "## 4. Create example inputs"
      ],
      "metadata": {
        "id": "K4CxF3U7HsCX"
      }
    },
    {
      "cell_type": "code",
      "source": [
        "sample_text = [\n",
        "\"\"\"Hallo. Ich habe folgendes Problem. Ich leide seit Jahren unter chronischen polypen. Ich habe sie mir bisher schon einmal operativ entfernen lassen, nach Monaten waren sie wieder da. Da ich seit gut einem Jahr auch nichts mehr riechen und schmecken kann, suche ich mach einer Lösung. Jetzt war ich beim Spezialisten und habe mir sagen lassen ,dass es eine neue Methode und zwar mit der Antikörper Therapie sollen die polypen unterdrückt werden bzw. Sie sollen sich zurück bilden. Hatte da jemand Erfahrungen mit gemacht? Wie läuft das genau ab? Muss ich mir dann mein Leben lang antikörper spritzen lassen? Ich war beim Arzt zu aufgeregt um alles zu fragen.\n",
        "@katharina. finde es einfadh nur heftig das der arzt gleich mit einer 100 er dosis anfängt , man sollte doch langsam steigern, und das allmälich.. ich selbst hatte anfangs einen tsh von 3,75 jetzt bin ich bei 0,87 also voll in der norm. und ich nehm gerade mal 50µ.... vllt solltestd u ml zu einem anderen artz gehen???\n",
        "ich will dir nur aufzeigen, dass gegenseitiges verständnis auch ein stück weit dazu führen kann, dass die ganze beziehung zwischen euch drei etwas weniger anstrengend für ihn wird. und ja, das ist doof, weil er kein verständnis für euch aufbringt, ihr aber für ihn. aber so ist das leben mit einem autisten nunmal - er hat sich seinen autismus ebenso wenig ausgesucht, wie ihr.\"\"\",\n",
        "\n",
        "\"\"\"Nach der Einnahme von Symbioflor2 (1992) entwickelte sich dann dieser Fäkalgeruch bei mir, den ich seit dem nicht mehr losgeworden bin. Vom Symbioflor2 bekam ich dann auch immer stärkere körperliche Beschwerden, so daß ich es mit der Angst zu tun bekam und meinen Arzt bat mir Cotrim zuverschreiben (das zweitemal nach 1983). Die Folge war leider, daß ich starken Fußschweiß bekam mit entsprechendem Geruch. Auch meine Hände fingen stark an zu riechen.\n",
        "Ich war im Schlaflabor. Nur eine Auffälligkeit. In der ersten Nacht dort trat ich verfrüht in den Traumschlaf ein, was ein Kriterium für Narkolepsie ist. Bluttest und Gentest aber waren negativ. Meine Lungen sind super, mein MRT unauffällig. Jetzt bin ich in einer neurologischen Spezialklinik. Der Arzt meinte, dass eine sehr geringe Wahrscheinlichkeit besteht, dass ich doch an Narkolepsie leide. Ich soll in einem halben Jahr nochmal dort ins Schlaflabor. Medikamente gegen die Müdigkeit will er mir nicht verschreiben. Antidepressiva wären es, aber die müsste ich mir abgewöhnen, bevor ich in das Schlaflabor gehe. Also lieber \"clean\" bleiben.\n",
        "Ich glaube mittlerweile, dass das Problem ganz woanders liegt... obwohl ich als Kind laut Aussagen meiner Eltern immer recht schnell dabei war, was laufen, Fahrradfahren etc. angeht, habe ich jetzt gerade als Erwachsener gemerkt, dass ich sehr langsam dabei bin, komplexe Bewegungen einzulernen und richtig auszuführen, sei es z.B. Tanzen oder Kampfsport. Wobei das sicherlich was ist, was mit der Zeit und Training schon deutlich besser geworden ist.\"\"\",\n",
        "\n",
        "\"\"\"Ja das ist bekannt gewesen. Und die haben sich danach gerichtet. Hatte das Gefühl das er sich schon sehr wohl da gefühlt. Haben das auch von den Betreuern als Rückmeldung erhalten. Er ist zwar immer furchtbar aufgeregt wenn es dann los geht, aber wenn er dann da ist, freut er sich doch. Müssen zwar dann auch meist er sehr lange Autofahrt in Kauf nehmen da es das nicht in unserer Gegend gibt. Aber wenn er wenigstens daran eine Freude, warum nicht.\n",
        "Leute, lest euch diesen Beitrag vollständig durch! Cosma und ich, wir haben unsere Erlebnisse gut dokumentiert. Wir waren am Anfang genauso ratlos, wie du (und noch andere, die hier dieselben Fragen stellem), die Diagnose ist für solche Sachen entweder Depressionen oder Burnout bzw. beides (wenn nichts Körperliches vorliegt). Manche haben noch zusätzlich Angstzustände oder Panikattacken. Die Diagnose sollte allerdings ein Neurologe/Psychiater stellen.\"\"\",\n",
        "\n",
        "\"\"\"Das ist doch immer eine Überlegung wert. Bis vor kurzem war das sogar noch die Strategie ganzer Länder, u. a. GB. Also ich bin zum Besispiel einer von den süßen Opis, die derzeit bloß nicht an den Eiern gedrückt werden sollen. Ich würde mir tatsächlich eine Ansteckung mit einem einigermaßen moderaten Verlauf wünschen. Dann hätte ich, nach allem was man weiß, u. a. von Rhesusaffen, eine Grundimmunität und könnte rausgehen und meinen Mitmenschen unter die Arme greifen. Ich bin halt alt, aber net unbedingt schwach. Rüstiger Greis, sozusagen\"\"\"]\n"
      ],
      "metadata": {
        "id": "jZ8GQHOgHibp"
      },
      "execution_count": 12,
      "outputs": []
    },
    {
      "cell_type": "code",
      "source": [
        "from pyspark.sql.types import StringType, IntegerType\n",
        "\n",
        "df = spark.createDataFrame(sample_text,StringType()).toDF('text')\n",
        "\n",
        "df.show(truncate = 100)"
      ],
      "metadata": {
        "colab": {
          "base_uri": "https://localhost:8080/"
        },
        "id": "qvCvj1hBI_09",
        "outputId": "8d78eacf-441b-4f2a-b35e-48c896610055"
      },
      "execution_count": 13,
      "outputs": [
        {
          "output_type": "stream",
          "name": "stdout",
          "text": [
            "+----------------------------------------------------------------------------------------------------+\n",
            "|                                                                                                text|\n",
            "+----------------------------------------------------------------------------------------------------+\n",
            "|Das Kleinzellige Bronchialkarzinom (Kleinzelliger Lungenkrebs, SCLC) ist ein hochmalignes broncho...|\n",
            "|Hallo. Ich habe folgendes Problem. Ich leide seit Jahren unter chronischen polypen. Ich habe sie ...|\n",
            "|Nach der Einnahme von Symbioflor2 (1992) entwickelte sich dann dieser Fäkalgeruch bei mir, den ic...|\n",
            "|Ja das ist bekannt gewesen. Und die haben sich danach gerichtet. Hatte das Gefühl das er sich sch...|\n",
            "|Das ist doch immer eine Überlegung wert. Bis vor kurzem war das sogar noch die Strategie ganzer L...|\n",
            "+----------------------------------------------------------------------------------------------------+\n",
            "\n"
          ]
        }
      ]
    },
    {
      "cell_type": "markdown",
      "source": [
        "## 5. Use the pipeline to create outputs"
      ],
      "metadata": {
        "id": "JAJGT8UcH1Q4"
      }
    },
    {
      "cell_type": "code",
      "source": [
        "# returns spark df resolution results\n",
        "\n",
        "def get_codes_from_df(result_df, chunk, output_col, hcc= False):\n",
        "    \n",
        "    \n",
        "    if hcc:\n",
        "        \n",
        "        df = result_df.select(F.explode(F.arrays_zip(chunk+'.result', \n",
        "                                                           chunk+'.metadata', \n",
        "                                                           output_col+'.result', \n",
        "                                                           output_col+'.metadata')).alias(\"cols\")) \\\n",
        "                                     .select(F.expr(\"cols['1']['sentence']\").alias(\"sent_id\"),\n",
        "                                             F.expr(\"cols['0']\").alias(\"ner_chunk\"),\n",
        "                                             F.expr(\"cols['1']['entity']\").alias(\"entity\"), \n",
        "                                             F.expr(\"cols['2']\").alias(\"icd10_code\"),\n",
        "                                             F.expr(\"cols['3']['all_k_results']\").alias(\"all_codes\"),\n",
        "                                             F.expr(\"cols['3']['all_k_resolutions']\").alias(\"resolutions\"),\n",
        "                                             F.expr(\"cols['3']['all_k_aux_labels']\").alias(\"hcc_list\")).toPandas()\n",
        "\n",
        "\n",
        "\n",
        "        codes = []\n",
        "        resolutions = []\n",
        "        hcc_all = []\n",
        "\n",
        "        for code, resolution, hcc in zip(df['all_codes'], df['resolutions'], df['hcc_list']):\n",
        "\n",
        "            codes.append(code.split(':::'))\n",
        "            resolutions.append(resolution.split(':::'))\n",
        "            hcc_all.append(hcc.split(\":::\"))\n",
        "\n",
        "        df['all_codes'] = codes  \n",
        "        df['resolutions'] = resolutions\n",
        "        df['hcc_list'] = hcc_all\n",
        "        \n",
        "    else:\n",
        "                       \n",
        "        df = result_df.select(F.explode(F.arrays_zip(chunk+'.result', \n",
        "                                                           chunk+'.metadata', \n",
        "                                                           output_col+'.result', \n",
        "                                                           output_col+'.metadata')).alias(\"cols\")) \\\n",
        "                                     .select(F.expr(\"cols['1']['sentence']\").alias(\"sent_id\"),\n",
        "                                             F.expr(\"cols['0']\").alias(\"ner_chunk\"),\n",
        "                                             F.expr(\"cols['1']['entity']\").alias(\"entity\"), \n",
        "                                             F.expr(\"cols['2']\").alias(f\"{output_col}\"),\n",
        "                                             F.expr(\"cols['3']['all_k_results']\").alias(\"all_codes\"),\n",
        "                                             F.expr(\"cols['3']['all_k_resolutions']\").alias(\"resolutions\")).toPandas()\n",
        "\n",
        "\n",
        "\n",
        "        codes = []\n",
        "        resolutions = []\n",
        "\n",
        "        for code, resolution in zip(df['all_codes'], df['resolutions']):\n",
        "\n",
        "            codes.append(code.split(':::'))\n",
        "            resolutions.append(resolution.split(':::'))\n",
        "\n",
        "        df['all_codes'] = codes  \n",
        "        df['resolutions'] = resolutions\n",
        "        \n",
        "    \n",
        "    return df"
      ],
      "metadata": {
        "id": "vrEBDOMkWJFM"
      },
      "execution_count": 15,
      "outputs": []
    },
    {
      "cell_type": "code",
      "source": [
        "result = model.transform(df)\n",
        "\n",
        "result.select(F.explode(F.arrays_zip(\"ner_chunk.result\", \n",
        "                                      \"ner_chunk.begin\", \n",
        "                                      \"ner_chunk.end\",\n",
        "                                      \"ner_chunk.metadata\",\n",
        "                                      \"icd10gm_code.result\",\n",
        "                                      \"icd10gm_code.metadata\",)).alias(\"cols\"))\\\n",
        "                  .select(F.expr(\"cols['0']\").alias(\"chunk\"),\n",
        "                                F.expr(\"cols['1']\").alias(\"begin\"),\n",
        "                                F.expr(\"cols['2']\").alias(\"end\"),\n",
        "                                F.expr(\"cols['3']['entity']\").alias(\"entity\"),\n",
        "                                F.expr(\"cols['4']\").alias(\"icd10_code\"),\n",
        "                                F.expr(\"cols['5']['all_k_results']\").alias(\"all_codes\"),\n",
        "                                F.expr(\"cols['5']['all_k_resolutions']\").alias(\"resolutions\")).show(truncate=30)"
      ],
      "metadata": {
        "id": "N0zbrDnKIC9z",
        "colab": {
          "base_uri": "https://localhost:8080/"
        },
        "outputId": "02359621-917b-411b-d2c4-393af0c82bdb"
      },
      "execution_count": 24,
      "outputs": [
        {
          "output_type": "stream",
          "name": "stdout",
          "text": [
            "+------------------------------+-----+---+-----------------+----------+------------------------------+------------------------------+\n",
            "|                         chunk|begin|end|           entity|icd10_code|                     all_codes|                   resolutions|\n",
            "+------------------------------+-----+---+-----------------+----------+------------------------------+------------------------------+\n",
            "|                  Kleinzellige|    4| 15|      MEASUREMENT|       I49|I49:::H26:::A67.3:::H11:::G...|Sonstige kardiale Arrhythmi...|\n",
            "|             Bronchialkarzinom|   17| 33|MEDICAL_CONDITION|     C22.0|C22.0:::C83.5:::I87.0:::Q23...|Leberzellkarzinom:::Lymphob...|\n",
            "|                   Lungenkrebs|   50| 60|MEDICAL_CONDITION|       I50|I50:::R51:::R45.5:::Z01.7::...|Herzinsuffizienz:::Kopfschm...|\n",
            "|                          SCLC|   63| 66|MEDICAL_CONDITION|     J63.4|J63.4:::A97:::M67.4:::K63.3...|Siderose:::Dengue:::Ganglio...|\n",
            "|hochmalignes bronchogenes K...|   77|110|MEDICAL_CONDITION|     C22.1|C22.1:::N17.2:::A98.5:::P07...|Intrahepatisches Gallengang...|\n",
            "|                         Lunge|  144|148|        BODY_PART|     O92.3|O92.3:::Q17.2:::H27.0:::K90...|Agalaktie:::Mikrotie:::Apha...|\n",
            "|                 Hauptbronchus|  160|172|        BODY_PART|       N82|N82:::A41.0:::G41:::Q03:::D...|Fisteln mit Beteiligung des...|\n",
            "|                      mittlere|  188|195|      MEASUREMENT|       I50|I50:::J45.8:::I46:::R51:::R...|Herzinsuffizienz:::Mischfor...|\n",
            "|                     Prävalenz|  197|205|MEDICAL_CONDITION|       I50|I50:::Z54:::I86.0:::S39.80:...|Herzinsuffizienz:::Rekonval...|\n",
            "|                          SCLC|  240|243|DIAGLAB_PROCEDURE|     J63.4|J63.4:::A97:::M67.4:::K63.3...|Siderose:::Dengue:::Ganglio...|\n",
            "|                   27-66 Jahre|  290|300|      MEASUREMENT|     N18.8|N18.8:::U09:::M10.4:::F78.9...|Sonstige chronische Nierenk...|\n",
            "|               Raucheranamnese|  307|321|       MEDICATION|       B58|B58:::B39:::I51.7:::P35.1::...|Toxoplasmose:::Histoplasmos...|\n",
            "|                           70%|  339|341|      MEASUREMENT|     C26.1|C26.1:::R09.2:::F78.9:::T40...|Bösartige Neubildung: Milz:...|\n",
            "|                     Patienten|  347|355|           PERSON|       M92|M92:::M25.3:::M86.1:::I69.3...|Sonstige juvenile Osteochon...|\n",
            "|                          SCLC|  361|364|       MEDICATION|     J63.4|J63.4:::A97:::M67.4:::K63.3...|Siderose:::Dengue:::Ganglio...|\n",
            "|                      Diagnose|  389|396|DIAGLAB_PROCEDURE|     Z01.7|Z01.7:::I50:::Z29.28:::Z29....|Laboruntersuchung:::Herzins...|\n",
            "|                      Symptome|  420|427|MEDICAL_CONDITION|       M48|M48:::G40.8:::Z30:::M72.8::...|Sonstige Spondylopathien:::...|\n",
            "|                     Symptomen|  437|445|MEDICAL_CONDITION|     T50.8|T50.8:::I42.88:::I42.8:::K1...|Vergiftung: Diagnostika:::S...|\n",
            "|                 Thoraxschmerz|  455|467|MEDICAL_CONDITION|     G50.1|G50.1:::G91.2:::N36.2:::K60...|Atypischer Gesichtsschmerz:...|\n",
            "|                       Dyspnoe|  470|476|MEDICAL_CONDITION|     R06.0|R06.0:::G47.3:::R49.0:::A51...|Dyspnoe:::Schlafapnoe:::Dys...|\n",
            "+------------------------------+-----+---+-----------------+----------+------------------------------+------------------------------+\n",
            "only showing top 20 rows\n",
            "\n"
          ]
        }
      ]
    },
    {
      "cell_type": "markdown",
      "source": [
        "## 6. Visualize results"
      ],
      "metadata": {
        "id": "Ral7MlWELIOX"
      }
    },
    {
      "cell_type": "code",
      "source": [
        "from sparknlp_display import EntityResolverVisualizer\n",
        "\n",
        "resolver_viz = EntityResolverVisualizer()\n",
        "\n",
        "\n",
        "for j in range(len(sample_text)):\n",
        "    resolver_viz.display(result = result.collect()[j], label_col = \"ner_chunk\", resolution_col=\"icd10gm_code\")\n",
        "    print(\"\\n\\n\")"
      ],
      "metadata": {
        "colab": {
          "base_uri": "https://localhost:8080/",
          "height": 1000
        },
        "id": "Arm5huqwKum8",
        "outputId": "29ed2e8d-5787-422e-d642-65d053008d2d"
      },
      "execution_count": 25,
      "outputs": [
        {
          "output_type": "display_data",
          "data": {
            "text/plain": [
              "<IPython.core.display.HTML object>"
            ],
            "text/html": [
              "\n",
              "<style>\n",
              "    @import url('https://fonts.googleapis.com/css2?family=Montserrat:wght@300;400;500;600;700&display=swap');\n",
              "    @import url('https://fonts.googleapis.com/css2?family=Vistol Regular:wght@300;400;500;600;700&display=swap');\n",
              "    \n",
              "    .spark-nlp-display-scroll-entities {\n",
              "        border: 1px solid #E7EDF0;\n",
              "        border-radius: 3px;\n",
              "        text-align: justify;\n",
              "        \n",
              "    }\n",
              "    .spark-nlp-display-scroll-entities span {  \n",
              "        font-size: 14px;\n",
              "        line-height: 24px;\n",
              "        color: #536B76;\n",
              "        font-family: 'Montserrat', sans-serif !important;\n",
              "    }\n",
              "    \n",
              "    .spark-nlp-display-entity-wrapper{\n",
              "    \n",
              "        display: inline-grid;\n",
              "        text-align: center;\n",
              "        border-radius: 4px;\n",
              "        margin: 0 2px 5px 2px;\n",
              "        padding: 1px\n",
              "    }\n",
              "    .spark-nlp-display-entity-name{\n",
              "        font-size: 14px;\n",
              "        line-height: 24px;\n",
              "        font-family: 'Montserrat', sans-serif !important;\n",
              "        \n",
              "        background: #f1f2f3;\n",
              "        border-width: medium;\n",
              "        text-align: center;\n",
              "        \n",
              "        font-weight: 400;\n",
              "        \n",
              "        border-radius: 5px;\n",
              "        padding: 2px 5px;\n",
              "        display: block;\n",
              "        margin: 3px 2px;\n",
              "    \n",
              "    }\n",
              "    .spark-nlp-display-entity-type{\n",
              "        font-size: 14px;\n",
              "        line-height: 24px;\n",
              "        color: #ffffff;\n",
              "        font-family: 'Montserrat', sans-serif !important;\n",
              "        \n",
              "        text-transform: uppercase;\n",
              "        \n",
              "        font-weight: 500;\n",
              "\n",
              "        display: block;\n",
              "        padding: 3px 5px;\n",
              "    }\n",
              "    \n",
              "    .spark-nlp-display-entity-resolution{\n",
              "        font-size: 14px;\n",
              "        line-height: 24px;\n",
              "        color: #ffffff;\n",
              "        font-family: 'Vistol Regular', sans-serif !important;\n",
              "        \n",
              "        text-transform: uppercase;\n",
              "        \n",
              "        font-weight: 500;\n",
              "\n",
              "        display: block;\n",
              "        padding: 3px 5px;\n",
              "    }\n",
              "    \n",
              "    .spark-nlp-display-others{\n",
              "        font-size: 14px;\n",
              "        line-height: 24px;\n",
              "        font-family: 'Montserrat', sans-serif !important;\n",
              "        \n",
              "        font-weight: 400;\n",
              "    }\n",
              "\n",
              "</style>\n",
              " <span class=\"spark-nlp-display-others\" style=\"background-color: white\">Das </span><span class=\"spark-nlp-display-entity-wrapper\" style=\"background-color: #AF712FB3\"><span class=\"spark-nlp-display-entity-name\">Kleinzellige </span><span class=\"spark-nlp-display-entity-type\">MEASUREMENT</span><span class=\"spark-nlp-display-entity-resolution\" style=\"background-color: #AF712FFF\">I49 </span><span class=\"spark-nlp-display-entity-resolution\" style=\"background-color: #AF712FCC\">Sonstige kardiale Arrhythmien</span></span><span class=\"spark-nlp-display-others\" style=\"background-color: white\"> </span><span class=\"spark-nlp-display-entity-wrapper\" style=\"background-color: #76A859B3\"><span class=\"spark-nlp-display-entity-name\">Bronchialkarzinom </span><span class=\"spark-nlp-display-entity-type\">MEDICAL_CONDITION</span><span class=\"spark-nlp-display-entity-resolution\" style=\"background-color: #76A859FF\">C22.0 </span><span class=\"spark-nlp-display-entity-resolution\" style=\"background-color: #76A859CC\">Leberzellkarzinom</span></span><span class=\"spark-nlp-display-others\" style=\"background-color: white\"> (Kleinzelliger </span><span class=\"spark-nlp-display-entity-wrapper\" style=\"background-color: #76A859B3\"><span class=\"spark-nlp-display-entity-name\">Lungenkrebs </span><span class=\"spark-nlp-display-entity-type\">MEDICAL_CONDITION</span><span class=\"spark-nlp-display-entity-resolution\" style=\"background-color: #76A859FF\">I50 </span><span class=\"spark-nlp-display-entity-resolution\" style=\"background-color: #76A859CC\">Herzinsuffizienz</span></span><span class=\"spark-nlp-display-others\" style=\"background-color: white\">, </span><span class=\"spark-nlp-display-entity-wrapper\" style=\"background-color: #76A859B3\"><span class=\"spark-nlp-display-entity-name\">SCLC </span><span class=\"spark-nlp-display-entity-type\">MEDICAL_CONDITION</span><span class=\"spark-nlp-display-entity-resolution\" style=\"background-color: #76A859FF\">J63.4 </span><span class=\"spark-nlp-display-entity-resolution\" style=\"background-color: #76A859CC\">Siderose</span></span><span class=\"spark-nlp-display-others\" style=\"background-color: white\">) ist ein </span><span class=\"spark-nlp-display-entity-wrapper\" style=\"background-color: #76A859B3\"><span class=\"spark-nlp-display-entity-name\">hochmalignes bronchogenes Karzinom </span><span class=\"spark-nlp-display-entity-type\">MEDICAL_CONDITION</span><span class=\"spark-nlp-display-entity-resolution\" style=\"background-color: #76A859FF\">C22.1 </span><span class=\"spark-nlp-display-entity-resolution\" style=\"background-color: #76A859CC\">Intrahepatisches Gallengangskarzinom</span></span><span class=\"spark-nlp-display-others\" style=\"background-color: white\">, das überwiegend im Zentrum der </span><span class=\"spark-nlp-display-entity-wrapper\" style=\"background-color: #2B287FB3\"><span class=\"spark-nlp-display-entity-name\">Lunge </span><span class=\"spark-nlp-display-entity-type\">BODY_PART</span><span class=\"spark-nlp-display-entity-resolution\" style=\"background-color: #2B287FFF\">O92.3 </span><span class=\"spark-nlp-display-entity-resolution\" style=\"background-color: #2B287FCC\">Agalaktie</span></span><span class=\"spark-nlp-display-others\" style=\"background-color: white\">, in einem </span><span class=\"spark-nlp-display-entity-wrapper\" style=\"background-color: #2B287FB3\"><span class=\"spark-nlp-display-entity-name\">Hauptbronchus </span><span class=\"spark-nlp-display-entity-type\">BODY_PART</span><span class=\"spark-nlp-display-entity-resolution\" style=\"background-color: #2B287FFF\">N82 </span><span class=\"spark-nlp-display-entity-resolution\" style=\"background-color: #2B287FCC\">Fisteln mit Beteiligung des weiblichen Genitaltraktes</span></span><span class=\"spark-nlp-display-others\" style=\"background-color: white\"> entsteht. Die </span><span class=\"spark-nlp-display-entity-wrapper\" style=\"background-color: #AF712FB3\"><span class=\"spark-nlp-display-entity-name\">mittlere </span><span class=\"spark-nlp-display-entity-type\">MEASUREMENT</span><span class=\"spark-nlp-display-entity-resolution\" style=\"background-color: #AF712FFF\">I50 </span><span class=\"spark-nlp-display-entity-resolution\" style=\"background-color: #AF712FCC\">Herzinsuffizienz</span></span><span class=\"spark-nlp-display-others\" style=\"background-color: white\"> </span><span class=\"spark-nlp-display-entity-wrapper\" style=\"background-color: #76A859B3\"><span class=\"spark-nlp-display-entity-name\">Prävalenz </span><span class=\"spark-nlp-display-entity-type\">MEDICAL_CONDITION</span><span class=\"spark-nlp-display-entity-resolution\" style=\"background-color: #76A859FF\">I50 </span><span class=\"spark-nlp-display-entity-resolution\" style=\"background-color: #76A859CC\">Herzinsuffizienz</span></span><span class=\"spark-nlp-display-others\" style=\"background-color: white\"> wird auf 1/20.000 geschätzt. Vom </span><span class=\"spark-nlp-display-entity-wrapper\" style=\"background-color: #925261B3\"><span class=\"spark-nlp-display-entity-name\">SCLC </span><span class=\"spark-nlp-display-entity-type\">DIAGLAB_PROCEDURE</span><span class=\"spark-nlp-display-entity-resolution\" style=\"background-color: #925261FF\">J63.4 </span><span class=\"spark-nlp-display-entity-resolution\" style=\"background-color: #925261CC\">Siderose</span></span><span class=\"spark-nlp-display-others\" style=\"background-color: white\"> sind hauptsächlich Peronen mittleren Alters (</span><span class=\"spark-nlp-display-entity-wrapper\" style=\"background-color: #AF712FB3\"><span class=\"spark-nlp-display-entity-name\">27-66 Jahre </span><span class=\"spark-nlp-display-entity-type\">MEASUREMENT</span><span class=\"spark-nlp-display-entity-resolution\" style=\"background-color: #AF712FFF\">N18.8 </span><span class=\"spark-nlp-display-entity-resolution\" style=\"background-color: #AF712FCC\">Sonstige chronische Nierenkrankheit</span></span><span class=\"spark-nlp-display-others\" style=\"background-color: white\">) mit </span><span class=\"spark-nlp-display-entity-wrapper\" style=\"background-color: #041954B3\"><span class=\"spark-nlp-display-entity-name\">Raucheranamnese </span><span class=\"spark-nlp-display-entity-type\">MEDICATION</span><span class=\"spark-nlp-display-entity-resolution\" style=\"background-color: #041954FF\">B58 </span><span class=\"spark-nlp-display-entity-resolution\" style=\"background-color: #041954CC\">Toxoplasmose</span></span><span class=\"spark-nlp-display-others\" style=\"background-color: white\"> betroffen. Etwa </span><span class=\"spark-nlp-display-entity-wrapper\" style=\"background-color: #AF712FB3\"><span class=\"spark-nlp-display-entity-name\">70% </span><span class=\"spark-nlp-display-entity-type\">MEASUREMENT</span><span class=\"spark-nlp-display-entity-resolution\" style=\"background-color: #AF712FFF\">C26.1 </span><span class=\"spark-nlp-display-entity-resolution\" style=\"background-color: #AF712FCC\">Bösartige Neubildung: Milz</span></span><span class=\"spark-nlp-display-others\" style=\"background-color: white\"> der </span><span class=\"spark-nlp-display-entity-wrapper\" style=\"background-color: #573D22B3\"><span class=\"spark-nlp-display-entity-name\">Patienten </span><span class=\"spark-nlp-display-entity-type\">PERSON</span><span class=\"spark-nlp-display-entity-resolution\" style=\"background-color: #573D22FF\">M92 </span><span class=\"spark-nlp-display-entity-resolution\" style=\"background-color: #573D22CC\">Sonstige juvenile Osteochondrosen</span></span><span class=\"spark-nlp-display-others\" style=\"background-color: white\"> mit </span><span class=\"spark-nlp-display-entity-wrapper\" style=\"background-color: #041954B3\"><span class=\"spark-nlp-display-entity-name\">SCLC </span><span class=\"spark-nlp-display-entity-type\">MEDICATION</span><span class=\"spark-nlp-display-entity-resolution\" style=\"background-color: #041954FF\">J63.4 </span><span class=\"spark-nlp-display-entity-resolution\" style=\"background-color: #041954CC\">Siderose</span></span><span class=\"spark-nlp-display-others\" style=\"background-color: white\"> haben bei Stellung der </span><span class=\"spark-nlp-display-entity-wrapper\" style=\"background-color: #925261B3\"><span class=\"spark-nlp-display-entity-name\">Diagnose </span><span class=\"spark-nlp-display-entity-type\">DIAGLAB_PROCEDURE</span><span class=\"spark-nlp-display-entity-resolution\" style=\"background-color: #925261FF\">Z01.7 </span><span class=\"spark-nlp-display-entity-resolution\" style=\"background-color: #925261CC\">Laboruntersuchung</span></span><span class=\"spark-nlp-display-others\" style=\"background-color: white\"> schon extra-thorakale </span><span class=\"spark-nlp-display-entity-wrapper\" style=\"background-color: #76A859B3\"><span class=\"spark-nlp-display-entity-name\">Symptome </span><span class=\"spark-nlp-display-entity-type\">MEDICAL_CONDITION</span><span class=\"spark-nlp-display-entity-resolution\" style=\"background-color: #76A859FF\">M48 </span><span class=\"spark-nlp-display-entity-resolution\" style=\"background-color: #76A859CC\">Sonstige Spondylopathien</span></span><span class=\"spark-nlp-display-others\" style=\"background-color: white\">. Zu den </span><span class=\"spark-nlp-display-entity-wrapper\" style=\"background-color: #76A859B3\"><span class=\"spark-nlp-display-entity-name\">Symptomen </span><span class=\"spark-nlp-display-entity-type\">MEDICAL_CONDITION</span><span class=\"spark-nlp-display-entity-resolution\" style=\"background-color: #76A859FF\">T50.8 </span><span class=\"spark-nlp-display-entity-resolution\" style=\"background-color: #76A859CC\">Vergiftung: Diagnostika</span></span><span class=\"spark-nlp-display-others\" style=\"background-color: white\"> gehören </span><span class=\"spark-nlp-display-entity-wrapper\" style=\"background-color: #76A859B3\"><span class=\"spark-nlp-display-entity-name\">Thoraxschmerz </span><span class=\"spark-nlp-display-entity-type\">MEDICAL_CONDITION</span><span class=\"spark-nlp-display-entity-resolution\" style=\"background-color: #76A859FF\">G50.1 </span><span class=\"spark-nlp-display-entity-resolution\" style=\"background-color: #76A859CC\">Atypischer Gesichtsschmerz</span></span><span class=\"spark-nlp-display-others\" style=\"background-color: white\">, </span><span class=\"spark-nlp-display-entity-wrapper\" style=\"background-color: #76A859B3\"><span class=\"spark-nlp-display-entity-name\">Dyspnoe </span><span class=\"spark-nlp-display-entity-type\">MEDICAL_CONDITION</span><span class=\"spark-nlp-display-entity-resolution\" style=\"background-color: #76A859FF\">R06.0 </span><span class=\"spark-nlp-display-entity-resolution\" style=\"background-color: #76A859CC\">Dyspnoe</span></span><span class=\"spark-nlp-display-others\" style=\"background-color: white\">, </span><span class=\"spark-nlp-display-entity-wrapper\" style=\"background-color: #76A859B3\"><span class=\"spark-nlp-display-entity-name\">Husten </span><span class=\"spark-nlp-display-entity-type\">MEDICAL_CONDITION</span><span class=\"spark-nlp-display-entity-resolution\" style=\"background-color: #76A859FF\">R05 </span><span class=\"spark-nlp-display-entity-resolution\" style=\"background-color: #76A859CC\">Husten</span></span><span class=\"spark-nlp-display-others\" style=\"background-color: white\"> und </span><span class=\"spark-nlp-display-entity-wrapper\" style=\"background-color: #76A859B3\"><span class=\"spark-nlp-display-entity-name\">pfeifende </span><span class=\"spark-nlp-display-entity-type\">MEDICAL_CONDITION</span><span class=\"spark-nlp-display-entity-resolution\" style=\"background-color: #76A859FF\">L66.8 </span><span class=\"spark-nlp-display-entity-resolution\" style=\"background-color: #76A859CC\">Sonstige narbige Alopezie</span></span><span class=\"spark-nlp-display-others\" style=\"background-color: white\"> </span><span class=\"spark-nlp-display-entity-wrapper\" style=\"background-color: #9730B2B3\"><span class=\"spark-nlp-display-entity-name\">Atmung </span><span class=\"spark-nlp-display-entity-type\">PROCESS</span><span class=\"spark-nlp-display-entity-resolution\" style=\"background-color: #9730B2FF\">R06.5 </span><span class=\"spark-nlp-display-entity-resolution\" style=\"background-color: #9730B2CC\">Mundatmung</span></span><span class=\"spark-nlp-display-others\" style=\"background-color: white\">. Die Beteiligung benachbarter Bereiche verursacht </span><span class=\"spark-nlp-display-entity-wrapper\" style=\"background-color: #76A859B3\"><span class=\"spark-nlp-display-entity-name\">Heiserkeit </span><span class=\"spark-nlp-display-entity-type\">MEDICAL_CONDITION</span><span class=\"spark-nlp-display-entity-resolution\" style=\"background-color: #76A859FF\">A36 </span><span class=\"spark-nlp-display-entity-resolution\" style=\"background-color: #76A859CC\">Diphtherie</span></span><span class=\"spark-nlp-display-others\" style=\"background-color: white\">, </span><span class=\"spark-nlp-display-entity-wrapper\" style=\"background-color: #76A859B3\"><span class=\"spark-nlp-display-entity-name\">Dysphagie </span><span class=\"spark-nlp-display-entity-type\">MEDICAL_CONDITION</span><span class=\"spark-nlp-display-entity-resolution\" style=\"background-color: #76A859FF\">R13 </span><span class=\"spark-nlp-display-entity-resolution\" style=\"background-color: #76A859CC\">Dysphagie</span></span><span class=\"spark-nlp-display-others\" style=\"background-color: white\"> und </span><span class=\"spark-nlp-display-entity-wrapper\" style=\"background-color: #75536EB3\"><span class=\"spark-nlp-display-entity-name\">Oberes </span><span class=\"spark-nlp-display-entity-type\">LOCAL_SPECIFICATION</span><span class=\"spark-nlp-display-entity-resolution\" style=\"background-color: #75536EFF\">R60.0 </span><span class=\"spark-nlp-display-entity-resolution\" style=\"background-color: #75536ECC\">Umschriebenes Ödem</span></span><span class=\"spark-nlp-display-others\" style=\"background-color: white\"> </span><span class=\"spark-nlp-display-entity-wrapper\" style=\"background-color: #76A859B3\"><span class=\"spark-nlp-display-entity-name\">Vena-cava-Syndrom </span><span class=\"spark-nlp-display-entity-type\">MEDICAL_CONDITION</span><span class=\"spark-nlp-display-entity-resolution\" style=\"background-color: #76A859FF\">J95.4 </span><span class=\"spark-nlp-display-entity-resolution\" style=\"background-color: #76A859CC\">Mendelson-Syndrom</span></span><span class=\"spark-nlp-display-others\" style=\"background-color: white\"> (</span><span class=\"spark-nlp-display-entity-wrapper\" style=\"background-color: #76A859B3\"><span class=\"spark-nlp-display-entity-name\">Obstruktion </span><span class=\"spark-nlp-display-entity-type\">MEDICAL_CONDITION</span><span class=\"spark-nlp-display-entity-resolution\" style=\"background-color: #76A859FF\">J67.3 </span><span class=\"spark-nlp-display-entity-resolution\" style=\"background-color: #76A859CC\">Suberose</span></span><span class=\"spark-nlp-display-others\" style=\"background-color: white\"> des </span><span class=\"spark-nlp-display-entity-wrapper\" style=\"background-color: #9730B2B3\"><span class=\"spark-nlp-display-entity-name\">Blutflusses </span><span class=\"spark-nlp-display-entity-type\">PROCESS</span><span class=\"spark-nlp-display-entity-resolution\" style=\"background-color: #9730B2FF\">A36 </span><span class=\"spark-nlp-display-entity-resolution\" style=\"background-color: #9730B2CC\">Diphtherie</span></span><span class=\"spark-nlp-display-others\" style=\"background-color: white\"> durch die </span><span class=\"spark-nlp-display-entity-wrapper\" style=\"background-color: #2B287FB3\"><span class=\"spark-nlp-display-entity-name\">Vena </span><span class=\"spark-nlp-display-entity-type\">BODY_PART</span><span class=\"spark-nlp-display-entity-resolution\" style=\"background-color: #2B287FFF\">A97 </span><span class=\"spark-nlp-display-entity-resolution\" style=\"background-color: #2B287FCC\">Dengue</span></span><span class=\"spark-nlp-display-others\" style=\"background-color: white\"> </span><span class=\"spark-nlp-display-entity-wrapper\" style=\"background-color: #76A859B3\"><span class=\"spark-nlp-display-entity-name\">cava </span><span class=\"spark-nlp-display-entity-type\">MEDICAL_CONDITION</span><span class=\"spark-nlp-display-entity-resolution\" style=\"background-color: #76A859FF\">F98.00 </span><span class=\"spark-nlp-display-entity-resolution\" style=\"background-color: #76A859CC\">Enuresis nocturna</span></span><span class=\"spark-nlp-display-others\" style=\"background-color: white\"> </span><span class=\"spark-nlp-display-entity-wrapper\" style=\"background-color: #75536EB3\"><span class=\"spark-nlp-display-entity-name\">superior </span><span class=\"spark-nlp-display-entity-type\">LOCAL_SPECIFICATION</span><span class=\"spark-nlp-display-entity-resolution\" style=\"background-color: #75536EFF\">A97 </span><span class=\"spark-nlp-display-entity-resolution\" style=\"background-color: #75536ECC\">Dengue</span></span><span class=\"spark-nlp-display-others\" style=\"background-color: white\">). Zusätzliche </span><span class=\"spark-nlp-display-entity-wrapper\" style=\"background-color: #76A859B3\"><span class=\"spark-nlp-display-entity-name\">Symptome </span><span class=\"spark-nlp-display-entity-type\">MEDICAL_CONDITION</span><span class=\"spark-nlp-display-entity-resolution\" style=\"background-color: #76A859FF\">M48 </span><span class=\"spark-nlp-display-entity-resolution\" style=\"background-color: #76A859CC\">Sonstige Spondylopathien</span></span><span class=\"spark-nlp-display-others\" style=\"background-color: white\"> als Folge einer </span><span class=\"spark-nlp-display-entity-wrapper\" style=\"background-color: #76A859B3\"><span class=\"spark-nlp-display-entity-name\">Fernmetastasierung </span><span class=\"spark-nlp-display-entity-type\">MEDICAL_CONDITION</span><span class=\"spark-nlp-display-entity-resolution\" style=\"background-color: #76A859FF\">K08.81 </span><span class=\"spark-nlp-display-entity-resolution\" style=\"background-color: #76A859CC\">Pathologische Zahnfraktur</span></span><span class=\"spark-nlp-display-others\" style=\"background-color: white\"> sind ebenfalls möglich. </span><span class=\"spark-nlp-display-entity-wrapper\" style=\"background-color: #9730B2B3\"><span class=\"spark-nlp-display-entity-name\">Rauchen </span><span class=\"spark-nlp-display-entity-type\">PROCESS</span><span class=\"spark-nlp-display-entity-resolution\" style=\"background-color: #9730B2FF\">R05 </span><span class=\"spark-nlp-display-entity-resolution\" style=\"background-color: #9730B2CC\">Husten</span></span><span class=\"spark-nlp-display-others\" style=\"background-color: white\"> und </span><span class=\"spark-nlp-display-entity-wrapper\" style=\"background-color: #76A859B3\"><span class=\"spark-nlp-display-entity-name\">Strahlenexposition </span><span class=\"spark-nlp-display-entity-type\">MEDICAL_CONDITION</span><span class=\"spark-nlp-display-entity-resolution\" style=\"background-color: #76A859FF\">Z30.3 </span><span class=\"spark-nlp-display-entity-resolution\" style=\"background-color: #76A859CC\">Auslösung der Menstruation</span></span><span class=\"spark-nlp-display-others\" style=\"background-color: white\"> sind </span><span class=\"spark-nlp-display-entity-wrapper\" style=\"background-color: #041954B3\"><span class=\"spark-nlp-display-entity-name\">synergistisch </span><span class=\"spark-nlp-display-entity-type\">MEDICATION</span><span class=\"spark-nlp-display-entity-resolution\" style=\"background-color: #041954FF\">H26 </span><span class=\"spark-nlp-display-entity-resolution\" style=\"background-color: #041954CC\">Sonstige Kataraktformen</span></span><span class=\"spark-nlp-display-others\" style=\"background-color: white\"> wirkende </span><span class=\"spark-nlp-display-entity-wrapper\" style=\"background-color: #76A859B3\"><span class=\"spark-nlp-display-entity-name\">Risikofaktoren </span><span class=\"spark-nlp-display-entity-type\">MEDICAL_CONDITION</span><span class=\"spark-nlp-display-entity-resolution\" style=\"background-color: #76A859FF\">Z30 </span><span class=\"spark-nlp-display-entity-resolution\" style=\"background-color: #76A859CC\">Kontrazeptive Maßnahmen</span></span><span class=\"spark-nlp-display-others\" style=\"background-color: white\">. Die </span><span class=\"spark-nlp-display-entity-wrapper\" style=\"background-color: #613F67B3\"><span class=\"spark-nlp-display-entity-name\">industrielle </span><span class=\"spark-nlp-display-entity-type\">MEDICAL_SPECIFICATION</span><span class=\"spark-nlp-display-entity-resolution\" style=\"background-color: #613F67FF\">Z51 </span><span class=\"spark-nlp-display-entity-resolution\" style=\"background-color: #613F67CC\">Sonstige medizinische Behandlung</span></span><span class=\"spark-nlp-display-others\" style=\"background-color: white\"> </span><span class=\"spark-nlp-display-entity-wrapper\" style=\"background-color: #76A859B3\"><span class=\"spark-nlp-display-entity-name\">Exposition </span><span class=\"spark-nlp-display-entity-type\">MEDICAL_CONDITION</span><span class=\"spark-nlp-display-entity-resolution\" style=\"background-color: #76A859FF\">Z29.1 </span><span class=\"spark-nlp-display-entity-resolution\" style=\"background-color: #76A859CC\">Immunprophylaxe</span></span><span class=\"spark-nlp-display-others\" style=\"background-color: white\"> mit Bis (</span><span class=\"spark-nlp-display-entity-wrapper\" style=\"background-color: #76A859B3\"><span class=\"spark-nlp-display-entity-name\">Chlormethyläther </span><span class=\"spark-nlp-display-entity-type\">MEDICAL_CONDITION</span><span class=\"spark-nlp-display-entity-resolution\" style=\"background-color: #76A859FF\">L72.1 </span><span class=\"spark-nlp-display-entity-resolution\" style=\"background-color: #76A859CC\">Trichilemmalzyste</span></span><span class=\"spark-nlp-display-others\" style=\"background-color: white\">) ist ein weiterer </span><span class=\"spark-nlp-display-entity-wrapper\" style=\"background-color: #76A859B3\"><span class=\"spark-nlp-display-entity-name\">Risikofaktor </span><span class=\"spark-nlp-display-entity-type\">MEDICAL_CONDITION</span><span class=\"spark-nlp-display-entity-resolution\" style=\"background-color: #76A859FF\">Z54 </span><span class=\"spark-nlp-display-entity-resolution\" style=\"background-color: #76A859CC\">Rekonvaleszenz</span></span><span class=\"spark-nlp-display-others\" style=\"background-color: white\">. </span><span class=\"spark-nlp-display-entity-wrapper\" style=\"background-color: #925261B3\"><span class=\"spark-nlp-display-entity-name\">Röntgenaufnahmen </span><span class=\"spark-nlp-display-entity-type\">DIAGLAB_PROCEDURE</span><span class=\"spark-nlp-display-entity-resolution\" style=\"background-color: #925261FF\">E74.1 </span><span class=\"spark-nlp-display-entity-resolution\" style=\"background-color: #925261CC\">Störungen des Fruktosestoffwechsels</span></span><span class=\"spark-nlp-display-others\" style=\"background-color: white\"> des </span><span class=\"spark-nlp-display-entity-wrapper\" style=\"background-color: #2B287FB3\"><span class=\"spark-nlp-display-entity-name\">Thorax </span><span class=\"spark-nlp-display-entity-type\">BODY_PART</span><span class=\"spark-nlp-display-entity-resolution\" style=\"background-color: #2B287FFF\">R51 </span><span class=\"spark-nlp-display-entity-resolution\" style=\"background-color: #2B287FCC\">Kopfschmerz</span></span><span class=\"spark-nlp-display-others\" style=\"background-color: white\"> sind nicht ausreichend </span><span class=\"spark-nlp-display-entity-wrapper\" style=\"background-color: #AF712FB3\"><span class=\"spark-nlp-display-entity-name\">empfindlich </span><span class=\"spark-nlp-display-entity-type\">MEASUREMENT</span><span class=\"spark-nlp-display-entity-resolution\" style=\"background-color: #AF712FFF\">D84 </span><span class=\"spark-nlp-display-entity-resolution\" style=\"background-color: #AF712FCC\">Sonstige Immundefekte</span></span><span class=\"spark-nlp-display-others\" style=\"background-color: white\">, um einen </span><span class=\"spark-nlp-display-entity-wrapper\" style=\"background-color: #925261B3\"><span class=\"spark-nlp-display-entity-name\">SCLC </span><span class=\"spark-nlp-display-entity-type\">DIAGLAB_PROCEDURE</span><span class=\"spark-nlp-display-entity-resolution\" style=\"background-color: #925261FF\">J63.4 </span><span class=\"spark-nlp-display-entity-resolution\" style=\"background-color: #925261CC\">Siderose</span></span><span class=\"spark-nlp-display-others\" style=\"background-color: white\"> frühzeitig zu erkennen. </span><span class=\"spark-nlp-display-entity-wrapper\" style=\"background-color: #925261B3\"><span class=\"spark-nlp-display-entity-name\">Röntgenologischen </span><span class=\"spark-nlp-display-entity-type\">DIAGLAB_PROCEDURE</span><span class=\"spark-nlp-display-entity-resolution\" style=\"background-color: #925261FF\">L70 </span><span class=\"spark-nlp-display-entity-resolution\" style=\"background-color: #925261CC\">Akne</span></span><span class=\"spark-nlp-display-others\" style=\"background-color: white\"> Auffälligkeiten muß weiter nachgegangen werden, meist mit </span><span class=\"spark-nlp-display-entity-wrapper\" style=\"background-color: #8b6673B3\"><span class=\"spark-nlp-display-entity-name\">Computertomographie </span><span class=\"spark-nlp-display-entity-type\">TREATMENT</span><span class=\"spark-nlp-display-entity-resolution\" style=\"background-color: #8b6673FF\">D53.2 </span><span class=\"spark-nlp-display-entity-resolution\" style=\"background-color: #8b6673CC\">Skorbutanämie</span></span><span class=\"spark-nlp-display-others\" style=\"background-color: white\">. Die </span><span class=\"spark-nlp-display-entity-wrapper\" style=\"background-color: #925261B3\"><span class=\"spark-nlp-display-entity-name\">Diagnose </span><span class=\"spark-nlp-display-entity-type\">DIAGLAB_PROCEDURE</span><span class=\"spark-nlp-display-entity-resolution\" style=\"background-color: #925261FF\">Z01.7 </span><span class=\"spark-nlp-display-entity-resolution\" style=\"background-color: #925261CC\">Laboruntersuchung</span></span><span class=\"spark-nlp-display-others\" style=\"background-color: white\"> wird bioptisch gesichert. </span><span class=\"spark-nlp-display-entity-wrapper\" style=\"background-color: #573D22B3\"><span class=\"spark-nlp-display-entity-name\">Patienten </span><span class=\"spark-nlp-display-entity-type\">PERSON</span><span class=\"spark-nlp-display-entity-resolution\" style=\"background-color: #573D22FF\">M92 </span><span class=\"spark-nlp-display-entity-resolution\" style=\"background-color: #573D22CC\">Sonstige juvenile Osteochondrosen</span></span><span class=\"spark-nlp-display-others\" style=\"background-color: white\"> mit SCLC erhalten meist </span><span class=\"spark-nlp-display-entity-wrapper\" style=\"background-color: #8b6673B3\"><span class=\"spark-nlp-display-entity-name\">Bestrahlung </span><span class=\"spark-nlp-display-entity-type\">TREATMENT</span><span class=\"spark-nlp-display-entity-resolution\" style=\"background-color: #8b6673FF\">T71 </span><span class=\"spark-nlp-display-entity-resolution\" style=\"background-color: #8b6673CC\">Erstickung</span></span><span class=\"spark-nlp-display-others\" style=\"background-color: white\"> und/oder </span><span class=\"spark-nlp-display-entity-wrapper\" style=\"background-color: #8b6673B3\"><span class=\"spark-nlp-display-entity-name\">Chemotherapie </span><span class=\"spark-nlp-display-entity-type\">TREATMENT</span><span class=\"spark-nlp-display-entity-resolution\" style=\"background-color: #8b6673FF\">H53.2 </span><span class=\"spark-nlp-display-entity-resolution\" style=\"background-color: #8b6673CC\">Diplopie</span></span><span class=\"spark-nlp-display-others\" style=\"background-color: white\">. In Hinblick auf eine </span><span class=\"spark-nlp-display-entity-wrapper\" style=\"background-color: #647783B3\"><span class=\"spark-nlp-display-entity-name\">Verbesserung </span><span class=\"spark-nlp-display-entity-type\">STATE_OF_HEALTH</span><span class=\"spark-nlp-display-entity-resolution\" style=\"background-color: #647783FF\">Z30.8 </span><span class=\"spark-nlp-display-entity-resolution\" style=\"background-color: #647783CC\">Sonstige kontrazeptive Maßnahmen</span></span><span class=\"spark-nlp-display-others\" style=\"background-color: white\"> der Überlebenschancen der </span><span class=\"spark-nlp-display-entity-wrapper\" style=\"background-color: #573D22B3\"><span class=\"spark-nlp-display-entity-name\">Patienten </span><span class=\"spark-nlp-display-entity-type\">PERSON</span><span class=\"spark-nlp-display-entity-resolution\" style=\"background-color: #573D22FF\">M92 </span><span class=\"spark-nlp-display-entity-resolution\" style=\"background-color: #573D22CC\">Sonstige juvenile Osteochondrosen</span></span><span class=\"spark-nlp-display-others\" style=\"background-color: white\"> ist sowohl bei ausgedehnten und bei begrenzten SCLC eine kombinierte </span><span class=\"spark-nlp-display-entity-wrapper\" style=\"background-color: #8b6673B3\"><span class=\"spark-nlp-display-entity-name\">Chemotherapie </span><span class=\"spark-nlp-display-entity-type\">TREATMENT</span><span class=\"spark-nlp-display-entity-resolution\" style=\"background-color: #8b6673FF\">H53.2 </span><span class=\"spark-nlp-display-entity-resolution\" style=\"background-color: #8b6673CC\">Diplopie</span></span><span class=\"spark-nlp-display-others\" style=\"background-color: white\"> wirksamer als die </span><span class=\"spark-nlp-display-entity-wrapper\" style=\"background-color: #8b6673B3\"><span class=\"spark-nlp-display-entity-name\">Behandlung </span><span class=\"spark-nlp-display-entity-type\">TREATMENT</span><span class=\"spark-nlp-display-entity-resolution\" style=\"background-color: #8b6673FF\">Z51 </span><span class=\"spark-nlp-display-entity-resolution\" style=\"background-color: #8b6673CC\">Sonstige medizinische Behandlung</span></span><span class=\"spark-nlp-display-others\" style=\"background-color: white\"> mit </span><span class=\"spark-nlp-display-entity-wrapper\" style=\"background-color: #041954B3\"><span class=\"spark-nlp-display-entity-name\">Einzelsubstanzen </span><span class=\"spark-nlp-display-entity-type\">MEDICATION</span><span class=\"spark-nlp-display-entity-resolution\" style=\"background-color: #041954FF\">H26 </span><span class=\"spark-nlp-display-entity-resolution\" style=\"background-color: #041954CC\">Sonstige Kataraktformen</span></span><span class=\"spark-nlp-display-others\" style=\"background-color: white\">. Es kann auch eine </span><span class=\"spark-nlp-display-entity-wrapper\" style=\"background-color: #8b6673B3\"><span class=\"spark-nlp-display-entity-name\">prophylaktische Bestrahlung </span><span class=\"spark-nlp-display-entity-type\">TREATMENT</span><span class=\"spark-nlp-display-entity-resolution\" style=\"background-color: #8b6673FF\">F32.2 </span><span class=\"spark-nlp-display-entity-resolution\" style=\"background-color: #8b6673CC\">Schwere depressive Episode ohne psychotische Symptome</span></span><span class=\"spark-nlp-display-others\" style=\"background-color: white\"> des </span><span class=\"spark-nlp-display-entity-wrapper\" style=\"background-color: #2B287FB3\"><span class=\"spark-nlp-display-entity-name\">Schädels </span><span class=\"spark-nlp-display-entity-type\">BODY_PART</span><span class=\"spark-nlp-display-entity-resolution\" style=\"background-color: #2B287FFF\">B03 </span><span class=\"spark-nlp-display-entity-resolution\" style=\"background-color: #2B287FCC\">Pocken</span></span><span class=\"spark-nlp-display-others\" style=\"background-color: white\"> erwogen werden, da innerhalb von 2-3 Jahren nach </span><span class=\"spark-nlp-display-entity-wrapper\" style=\"background-color: #8b6673B3\"><span class=\"spark-nlp-display-entity-name\">Behandlungsbeginn </span><span class=\"spark-nlp-display-entity-type\">TREATMENT</span><span class=\"spark-nlp-display-entity-resolution\" style=\"background-color: #8b6673FF\">M43.26 </span><span class=\"spark-nlp-display-entity-resolution\" style=\"background-color: #8b6673CC\">Sonstige Wirbelfusion: Lumbalbereich</span></span><span class=\"spark-nlp-display-others\" style=\"background-color: white\"> ein </span><span class=\"spark-nlp-display-entity-wrapper\" style=\"background-color: #AF712FB3\"><span class=\"spark-nlp-display-entity-name\">hohes </span><span class=\"spark-nlp-display-entity-type\">MEASUREMENT</span><span class=\"spark-nlp-display-entity-resolution\" style=\"background-color: #AF712FFF\">I46 </span><span class=\"spark-nlp-display-entity-resolution\" style=\"background-color: #AF712FCC\">Herzstillstand</span></span><span class=\"spark-nlp-display-others\" style=\"background-color: white\"> </span><span class=\"spark-nlp-display-entity-wrapper\" style=\"background-color: #76A859B3\"><span class=\"spark-nlp-display-entity-name\">Risiko </span><span class=\"spark-nlp-display-entity-type\">MEDICAL_CONDITION</span><span class=\"spark-nlp-display-entity-resolution\" style=\"background-color: #76A859FF\">Z54 </span><span class=\"spark-nlp-display-entity-resolution\" style=\"background-color: #76A859CC\">Rekonvaleszenz</span></span><span class=\"spark-nlp-display-others\" style=\"background-color: white\"> für </span><span class=\"spark-nlp-display-entity-wrapper\" style=\"background-color: #613F67B3\"><span class=\"spark-nlp-display-entity-name\">zentralnervöse </span><span class=\"spark-nlp-display-entity-type\">MEDICAL_SPECIFICATION</span><span class=\"spark-nlp-display-entity-resolution\" style=\"background-color: #613F67FF\">O43.20 </span><span class=\"spark-nlp-display-entity-resolution\" style=\"background-color: #613F67CC\">Placenta accreta</span></span><span class=\"spark-nlp-display-others\" style=\"background-color: white\"> </span><span class=\"spark-nlp-display-entity-wrapper\" style=\"background-color: #76A859B3\"><span class=\"spark-nlp-display-entity-name\">Metastasen </span><span class=\"spark-nlp-display-entity-type\">MEDICAL_CONDITION</span><span class=\"spark-nlp-display-entity-resolution\" style=\"background-color: #76A859FF\">Z30 </span><span class=\"spark-nlp-display-entity-resolution\" style=\"background-color: #76A859CC\">Kontrazeptive Maßnahmen</span></span><span class=\"spark-nlp-display-others\" style=\"background-color: white\"> besteht. Das </span><span class=\"spark-nlp-display-entity-wrapper\" style=\"background-color: #AF712FB3\"><span class=\"spark-nlp-display-entity-name\">Kleinzellige </span><span class=\"spark-nlp-display-entity-type\">MEASUREMENT</span><span class=\"spark-nlp-display-entity-resolution\" style=\"background-color: #AF712FFF\">I49 </span><span class=\"spark-nlp-display-entity-resolution\" style=\"background-color: #AF712FCC\">Sonstige kardiale Arrhythmien</span></span><span class=\"spark-nlp-display-others\" style=\"background-color: white\"> </span><span class=\"spark-nlp-display-entity-wrapper\" style=\"background-color: #76A859B3\"><span class=\"spark-nlp-display-entity-name\">Bronchialkarzinom </span><span class=\"spark-nlp-display-entity-type\">MEDICAL_CONDITION</span><span class=\"spark-nlp-display-entity-resolution\" style=\"background-color: #76A859FF\">C22.0 </span><span class=\"spark-nlp-display-entity-resolution\" style=\"background-color: #76A859CC\">Leberzellkarzinom</span></span><span class=\"spark-nlp-display-others\" style=\"background-color: white\"> ist der aggressivste </span><span class=\"spark-nlp-display-entity-wrapper\" style=\"background-color: #76A859B3\"><span class=\"spark-nlp-display-entity-name\">Lungentumor </span><span class=\"spark-nlp-display-entity-type\">MEDICAL_CONDITION</span><span class=\"spark-nlp-display-entity-resolution\" style=\"background-color: #76A859FF\">I63 </span><span class=\"spark-nlp-display-entity-resolution\" style=\"background-color: #76A859CC\">Hirninfarkt</span></span><span class=\"spark-nlp-display-others\" style=\"background-color: white\">: Die 5-Jahres-Überlebensrate beträgt </span><span class=\"spark-nlp-display-entity-wrapper\" style=\"background-color: #AF712FB3\"><span class=\"spark-nlp-display-entity-name\">1-5% </span><span class=\"spark-nlp-display-entity-type\">MEASUREMENT</span><span class=\"spark-nlp-display-entity-resolution\" style=\"background-color: #AF712FFF\">T40.3 </span><span class=\"spark-nlp-display-entity-resolution\" style=\"background-color: #AF712FCC\">Vergiftung: Methadon</span></span><span class=\"spark-nlp-display-others\" style=\"background-color: white\">, der Median des gesamten Überlebens liegt bei etwa </span><span class=\"spark-nlp-display-entity-wrapper\" style=\"background-color: #A34A18B3\"><span class=\"spark-nlp-display-entity-name\">6 bis 10 Monaten </span><span class=\"spark-nlp-display-entity-type\">TIME_INFORMATION</span><span class=\"spark-nlp-display-entity-resolution\" style=\"background-color: #A34A18FF\">M43.26 </span><span class=\"spark-nlp-display-entity-resolution\" style=\"background-color: #A34A18CC\">Sonstige Wirbelfusion: Lumbalbereich</span></span><span class=\"spark-nlp-display-others\" style=\"background-color: white\">.</span></div>"
            ]
          },
          "metadata": {}
        },
        {
          "output_type": "stream",
          "name": "stdout",
          "text": [
            "\n",
            "\n",
            "\n"
          ]
        },
        {
          "output_type": "display_data",
          "data": {
            "text/plain": [
              "<IPython.core.display.HTML object>"
            ],
            "text/html": [
              "\n",
              "<style>\n",
              "    @import url('https://fonts.googleapis.com/css2?family=Montserrat:wght@300;400;500;600;700&display=swap');\n",
              "    @import url('https://fonts.googleapis.com/css2?family=Vistol Regular:wght@300;400;500;600;700&display=swap');\n",
              "    \n",
              "    .spark-nlp-display-scroll-entities {\n",
              "        border: 1px solid #E7EDF0;\n",
              "        border-radius: 3px;\n",
              "        text-align: justify;\n",
              "        \n",
              "    }\n",
              "    .spark-nlp-display-scroll-entities span {  \n",
              "        font-size: 14px;\n",
              "        line-height: 24px;\n",
              "        color: #536B76;\n",
              "        font-family: 'Montserrat', sans-serif !important;\n",
              "    }\n",
              "    \n",
              "    .spark-nlp-display-entity-wrapper{\n",
              "    \n",
              "        display: inline-grid;\n",
              "        text-align: center;\n",
              "        border-radius: 4px;\n",
              "        margin: 0 2px 5px 2px;\n",
              "        padding: 1px\n",
              "    }\n",
              "    .spark-nlp-display-entity-name{\n",
              "        font-size: 14px;\n",
              "        line-height: 24px;\n",
              "        font-family: 'Montserrat', sans-serif !important;\n",
              "        \n",
              "        background: #f1f2f3;\n",
              "        border-width: medium;\n",
              "        text-align: center;\n",
              "        \n",
              "        font-weight: 400;\n",
              "        \n",
              "        border-radius: 5px;\n",
              "        padding: 2px 5px;\n",
              "        display: block;\n",
              "        margin: 3px 2px;\n",
              "    \n",
              "    }\n",
              "    .spark-nlp-display-entity-type{\n",
              "        font-size: 14px;\n",
              "        line-height: 24px;\n",
              "        color: #ffffff;\n",
              "        font-family: 'Montserrat', sans-serif !important;\n",
              "        \n",
              "        text-transform: uppercase;\n",
              "        \n",
              "        font-weight: 500;\n",
              "\n",
              "        display: block;\n",
              "        padding: 3px 5px;\n",
              "    }\n",
              "    \n",
              "    .spark-nlp-display-entity-resolution{\n",
              "        font-size: 14px;\n",
              "        line-height: 24px;\n",
              "        color: #ffffff;\n",
              "        font-family: 'Vistol Regular', sans-serif !important;\n",
              "        \n",
              "        text-transform: uppercase;\n",
              "        \n",
              "        font-weight: 500;\n",
              "\n",
              "        display: block;\n",
              "        padding: 3px 5px;\n",
              "    }\n",
              "    \n",
              "    .spark-nlp-display-others{\n",
              "        font-size: 14px;\n",
              "        line-height: 24px;\n",
              "        font-family: 'Montserrat', sans-serif !important;\n",
              "        \n",
              "        font-weight: 400;\n",
              "    }\n",
              "\n",
              "</style>\n",
              " <span class=\"spark-nlp-display-others\" style=\"background-color: white\">Hallo. Ich habe folgendes Problem. Ich leide </span><span class=\"spark-nlp-display-entity-wrapper\" style=\"background-color: #AA077DB3\"><span class=\"spark-nlp-display-entity-name\">seit Jahren </span><span class=\"spark-nlp-display-entity-type\">TIME_INFORMATION</span><span class=\"spark-nlp-display-entity-resolution\" style=\"background-color: #AA077DFF\">M83.8 </span><span class=\"spark-nlp-display-entity-resolution\" style=\"background-color: #AA077DCC\">Sonstige Osteomalazie im Erwachsenenalter</span></span><span class=\"spark-nlp-display-others\" style=\"background-color: white\"> unter </span><span class=\"spark-nlp-display-entity-wrapper\" style=\"background-color: #08776BB3\"><span class=\"spark-nlp-display-entity-name\">chronischen polypen </span><span class=\"spark-nlp-display-entity-type\">MEDICAL_CONDITION</span><span class=\"spark-nlp-display-entity-resolution\" style=\"background-color: #08776BFF\">I83 </span><span class=\"spark-nlp-display-entity-resolution\" style=\"background-color: #08776BCC\">Varizen der unteren Extremitäten</span></span><span class=\"spark-nlp-display-others\" style=\"background-color: white\">. Ich habe sie mir bisher schon einmal </span><span class=\"spark-nlp-display-entity-wrapper\" style=\"background-color: #BD4D5DB3\"><span class=\"spark-nlp-display-entity-name\">operativ </span><span class=\"spark-nlp-display-entity-type\">MEDICAL_DEVICE</span><span class=\"spark-nlp-display-entity-resolution\" style=\"background-color: #BD4D5DFF\">B35.8 </span><span class=\"spark-nlp-display-entity-resolution\" style=\"background-color: #BD4D5DCC\">Sonstige Dermatophytosen</span></span><span class=\"spark-nlp-display-others\" style=\"background-color: white\"> </span><span class=\"spark-nlp-display-entity-wrapper\" style=\"background-color: #8b6673B3\"><span class=\"spark-nlp-display-entity-name\">entfernen </span><span class=\"spark-nlp-display-entity-type\">TREATMENT</span><span class=\"spark-nlp-display-entity-resolution\" style=\"background-color: #8b6673FF\">R50.80 </span><span class=\"spark-nlp-display-entity-resolution\" style=\"background-color: #8b6673CC\">Fieber unbekannter Ursache</span></span><span class=\"spark-nlp-display-others\" style=\"background-color: white\"> lassen, </span><span class=\"spark-nlp-display-entity-wrapper\" style=\"background-color: #AA077DB3\"><span class=\"spark-nlp-display-entity-name\">nach Monaten </span><span class=\"spark-nlp-display-entity-type\">TIME_INFORMATION</span><span class=\"spark-nlp-display-entity-resolution\" style=\"background-color: #AA077DFF\">M83.8 </span><span class=\"spark-nlp-display-entity-resolution\" style=\"background-color: #AA077DCC\">Sonstige Osteomalazie im Erwachsenenalter</span></span><span class=\"spark-nlp-display-others\" style=\"background-color: white\"> waren sie wieder da. Da ich seit gut </span><span class=\"spark-nlp-display-entity-wrapper\" style=\"background-color: #AA077DB3\"><span class=\"spark-nlp-display-entity-name\">einem Jahr </span><span class=\"spark-nlp-display-entity-type\">TIME_INFORMATION</span><span class=\"spark-nlp-display-entity-resolution\" style=\"background-color: #AA077DFF\">Z50.1 </span><span class=\"spark-nlp-display-entity-resolution\" style=\"background-color: #AA077DCC\">Sonstige Physiotherapie</span></span><span class=\"spark-nlp-display-others\" style=\"background-color: white\"> auch nichts mehr riechen und schmecken kann, suche ich mach einer Lösung. </span><span class=\"spark-nlp-display-entity-wrapper\" style=\"background-color: #AA077DB3\"><span class=\"spark-nlp-display-entity-name\">Jetzt </span><span class=\"spark-nlp-display-entity-type\">TIME_INFORMATION</span><span class=\"spark-nlp-display-entity-resolution\" style=\"background-color: #AA077DFF\">Z75.2 </span><span class=\"spark-nlp-display-entity-resolution\" style=\"background-color: #AA077DCC\">Wartezeit auf eine Untersuchung oder Behandlung</span></span><span class=\"spark-nlp-display-others\" style=\"background-color: white\"> war ich beim </span><span class=\"spark-nlp-display-entity-wrapper\" style=\"background-color: #6FA794B3\"><span class=\"spark-nlp-display-entity-name\">Spezialisten </span><span class=\"spark-nlp-display-entity-type\">PERSON</span><span class=\"spark-nlp-display-entity-resolution\" style=\"background-color: #6FA794FF\">K09.2 </span><span class=\"spark-nlp-display-entity-resolution\" style=\"background-color: #6FA794CC\">Sonstige Kieferzysten</span></span><span class=\"spark-nlp-display-others\" style=\"background-color: white\"> und habe mir sagen lassen ,dass es eine neue Methode und zwar mit der </span><span class=\"spark-nlp-display-entity-wrapper\" style=\"background-color: #BD4E5CB3\"><span class=\"spark-nlp-display-entity-name\">Antikörper </span><span class=\"spark-nlp-display-entity-type\">MEDICATION</span><span class=\"spark-nlp-display-entity-resolution\" style=\"background-color: #BD4E5CFF\">Q17.2 </span><span class=\"spark-nlp-display-entity-resolution\" style=\"background-color: #BD4E5CCC\">Mikrotie</span></span><span class=\"spark-nlp-display-others\" style=\"background-color: white\"> </span><span class=\"spark-nlp-display-entity-wrapper\" style=\"background-color: #8b6673B3\"><span class=\"spark-nlp-display-entity-name\">Therapie </span><span class=\"spark-nlp-display-entity-type\">TREATMENT</span><span class=\"spark-nlp-display-entity-resolution\" style=\"background-color: #8b6673FF\">Z51.2 </span><span class=\"spark-nlp-display-entity-resolution\" style=\"background-color: #8b6673CC\">Andere Chemotherapie</span></span><span class=\"spark-nlp-display-others\" style=\"background-color: white\"> sollen die </span><span class=\"spark-nlp-display-entity-wrapper\" style=\"background-color: #08776BB3\"><span class=\"spark-nlp-display-entity-name\">polypen </span><span class=\"spark-nlp-display-entity-type\">MEDICAL_CONDITION</span><span class=\"spark-nlp-display-entity-resolution\" style=\"background-color: #08776BFF\">M17.5 </span><span class=\"spark-nlp-display-entity-resolution\" style=\"background-color: #08776BCC\">Sonstige sekundäre Gonarthrose</span></span><span class=\"spark-nlp-display-others\" style=\"background-color: white\"> unterdrückt werden bzw. Sie sollen sich zurück bilden. Hatte da </span><span class=\"spark-nlp-display-entity-wrapper\" style=\"background-color: #6FA794B3\"><span class=\"spark-nlp-display-entity-name\">jemand </span><span class=\"spark-nlp-display-entity-type\">PERSON</span><span class=\"spark-nlp-display-entity-resolution\" style=\"background-color: #6FA794FF\">B48.2 </span><span class=\"spark-nlp-display-entity-resolution\" style=\"background-color: #6FA794CC\">Allescheriose</span></span><span class=\"spark-nlp-display-others\" style=\"background-color: white\"> Erfahrungen mit gemacht? Wie läuft das genau ab? Muss ich mir dann mein Leben lang </span><span class=\"spark-nlp-display-entity-wrapper\" style=\"background-color: #BD4E5CB3\"><span class=\"spark-nlp-display-entity-name\">antikörper </span><span class=\"spark-nlp-display-entity-type\">MEDICATION</span><span class=\"spark-nlp-display-entity-resolution\" style=\"background-color: #BD4E5CFF\">D03 </span><span class=\"spark-nlp-display-entity-resolution\" style=\"background-color: #BD4E5CCC\">Melanoma in situ</span></span><span class=\"spark-nlp-display-others\" style=\"background-color: white\"> </span><span class=\"spark-nlp-display-entity-wrapper\" style=\"background-color: #8b6673B3\"><span class=\"spark-nlp-display-entity-name\">spritzen </span><span class=\"spark-nlp-display-entity-type\">TREATMENT</span><span class=\"spark-nlp-display-entity-resolution\" style=\"background-color: #8b6673FF\">T27.6 </span><span class=\"spark-nlp-display-entity-resolution\" style=\"background-color: #8b6673CC\">Verätzung sonstiger Teile der Atemwege</span></span><span class=\"spark-nlp-display-others\" style=\"background-color: white\"> lassen? Ich war beim </span><span class=\"spark-nlp-display-entity-wrapper\" style=\"background-color: #6FA794B3\"><span class=\"spark-nlp-display-entity-name\">Arzt </span><span class=\"spark-nlp-display-entity-type\">PERSON</span><span class=\"spark-nlp-display-entity-resolution\" style=\"background-color: #6FA794FF\">R40.1 </span><span class=\"spark-nlp-display-entity-resolution\" style=\"background-color: #6FA794CC\">Sopor</span></span><span class=\"spark-nlp-display-others\" style=\"background-color: white\"> zu aufgeregt um alles zu fragen.<br>@katharina. finde es einfadh nur heftig das der </span><span class=\"spark-nlp-display-entity-wrapper\" style=\"background-color: #6FA794B3\"><span class=\"spark-nlp-display-entity-name\">arzt </span><span class=\"spark-nlp-display-entity-type\">PERSON</span><span class=\"spark-nlp-display-entity-resolution\" style=\"background-color: #6FA794FF\">R18 </span><span class=\"spark-nlp-display-entity-resolution\" style=\"background-color: #6FA794CC\">Aszites</span></span><span class=\"spark-nlp-display-others\" style=\"background-color: white\"> gleich mit einer </span><span class=\"spark-nlp-display-entity-wrapper\" style=\"background-color: #0824B5B3\"><span class=\"spark-nlp-display-entity-name\">100 er dosis </span><span class=\"spark-nlp-display-entity-type\">DOSING</span><span class=\"spark-nlp-display-entity-resolution\" style=\"background-color: #0824B5FF\">D03 </span><span class=\"spark-nlp-display-entity-resolution\" style=\"background-color: #0824B5CC\">Melanoma in situ</span></span><span class=\"spark-nlp-display-others\" style=\"background-color: white\"> anfängt , man sollte doch langsam steigern, und das allmälich.. ich selbst hatte anfangs einen </span><span class=\"spark-nlp-display-entity-wrapper\" style=\"background-color: #AD4A79B3\"><span class=\"spark-nlp-display-entity-name\">tsh </span><span class=\"spark-nlp-display-entity-type\">BIOLOGICAL_PARAMETER</span><span class=\"spark-nlp-display-entity-resolution\" style=\"background-color: #AD4A79FF\">R50.80 </span><span class=\"spark-nlp-display-entity-resolution\" style=\"background-color: #AD4A79CC\">Fieber unbekannter Ursache</span></span><span class=\"spark-nlp-display-others\" style=\"background-color: white\"> von 3,75 </span><span class=\"spark-nlp-display-entity-wrapper\" style=\"background-color: #AA077DB3\"><span class=\"spark-nlp-display-entity-name\">jetzt </span><span class=\"spark-nlp-display-entity-type\">TIME_INFORMATION</span><span class=\"spark-nlp-display-entity-resolution\" style=\"background-color: #AA077DFF\">S62.15 </span><span class=\"spark-nlp-display-entity-resolution\" style=\"background-color: #AA077DCC\">Fraktur: Os trapezoideum</span></span><span class=\"spark-nlp-display-others\" style=\"background-color: white\"> bin ich bei 0,87 also voll in der norm. und ich nehm gerade mal </span><span class=\"spark-nlp-display-entity-wrapper\" style=\"background-color: #8D9446B3\"><span class=\"spark-nlp-display-entity-name\">50µ </span><span class=\"spark-nlp-display-entity-type\">MEASUREMENT</span><span class=\"spark-nlp-display-entity-resolution\" style=\"background-color: #8D9446FF\">Q66.7 </span><span class=\"spark-nlp-display-entity-resolution\" style=\"background-color: #8D9446CC\">Pes cavus</span></span><span class=\"spark-nlp-display-others\" style=\"background-color: white\">.... vllt </span><span class=\"spark-nlp-display-entity-wrapper\" style=\"background-color: #8D9446B3\"><span class=\"spark-nlp-display-entity-name\">solltestd u ml </span><span class=\"spark-nlp-display-entity-type\">MEASUREMENT</span><span class=\"spark-nlp-display-entity-resolution\" style=\"background-color: #8D9446FF\">F98.01 </span><span class=\"spark-nlp-display-entity-resolution\" style=\"background-color: #8D9446CC\">Enuresis diurna</span></span><span class=\"spark-nlp-display-others\" style=\"background-color: white\"> zu einem anderen </span><span class=\"spark-nlp-display-entity-wrapper\" style=\"background-color: #6FA794B3\"><span class=\"spark-nlp-display-entity-name\">artz </span><span class=\"spark-nlp-display-entity-type\">PERSON</span><span class=\"spark-nlp-display-entity-resolution\" style=\"background-color: #6FA794FF\">S36.41 </span><span class=\"spark-nlp-display-entity-resolution\" style=\"background-color: #6FA794CC\">Verletzung: Duodenum</span></span><span class=\"spark-nlp-display-others\" style=\"background-color: white\"> gehen???<br>ich will dir nur aufzeigen, dass gegenseitiges verständnis auch ein stück weit dazu führen kann, dass die ganze beziehung zwischen euch drei etwas weniger anstrengend für ihn wird. und ja, das ist doof, weil er kein verständnis für euch aufbringt, ihr aber für ihn. aber so ist das leben mit einem </span><span class=\"spark-nlp-display-entity-wrapper\" style=\"background-color: #08776BB3\"><span class=\"spark-nlp-display-entity-name\">autisten </span><span class=\"spark-nlp-display-entity-type\">MEDICAL_CONDITION</span><span class=\"spark-nlp-display-entity-resolution\" style=\"background-color: #08776BFF\">R18 </span><span class=\"spark-nlp-display-entity-resolution\" style=\"background-color: #08776BCC\">Aszites</span></span><span class=\"spark-nlp-display-others\" style=\"background-color: white\"> nunmal - er hat sich seinen </span><span class=\"spark-nlp-display-entity-wrapper\" style=\"background-color: #08776BB3\"><span class=\"spark-nlp-display-entity-name\">autismus </span><span class=\"spark-nlp-display-entity-type\">MEDICAL_CONDITION</span><span class=\"spark-nlp-display-entity-resolution\" style=\"background-color: #08776BFF\">R51 </span><span class=\"spark-nlp-display-entity-resolution\" style=\"background-color: #08776BCC\">Kopfschmerz</span></span><span class=\"spark-nlp-display-others\" style=\"background-color: white\"> ebenso wenig ausgesucht, wie ihr.</span></div>"
            ]
          },
          "metadata": {}
        },
        {
          "output_type": "stream",
          "name": "stdout",
          "text": [
            "\n",
            "\n",
            "\n"
          ]
        },
        {
          "output_type": "display_data",
          "data": {
            "text/plain": [
              "<IPython.core.display.HTML object>"
            ],
            "text/html": [
              "\n",
              "<style>\n",
              "    @import url('https://fonts.googleapis.com/css2?family=Montserrat:wght@300;400;500;600;700&display=swap');\n",
              "    @import url('https://fonts.googleapis.com/css2?family=Vistol Regular:wght@300;400;500;600;700&display=swap');\n",
              "    \n",
              "    .spark-nlp-display-scroll-entities {\n",
              "        border: 1px solid #E7EDF0;\n",
              "        border-radius: 3px;\n",
              "        text-align: justify;\n",
              "        \n",
              "    }\n",
              "    .spark-nlp-display-scroll-entities span {  \n",
              "        font-size: 14px;\n",
              "        line-height: 24px;\n",
              "        color: #536B76;\n",
              "        font-family: 'Montserrat', sans-serif !important;\n",
              "    }\n",
              "    \n",
              "    .spark-nlp-display-entity-wrapper{\n",
              "    \n",
              "        display: inline-grid;\n",
              "        text-align: center;\n",
              "        border-radius: 4px;\n",
              "        margin: 0 2px 5px 2px;\n",
              "        padding: 1px\n",
              "    }\n",
              "    .spark-nlp-display-entity-name{\n",
              "        font-size: 14px;\n",
              "        line-height: 24px;\n",
              "        font-family: 'Montserrat', sans-serif !important;\n",
              "        \n",
              "        background: #f1f2f3;\n",
              "        border-width: medium;\n",
              "        text-align: center;\n",
              "        \n",
              "        font-weight: 400;\n",
              "        \n",
              "        border-radius: 5px;\n",
              "        padding: 2px 5px;\n",
              "        display: block;\n",
              "        margin: 3px 2px;\n",
              "    \n",
              "    }\n",
              "    .spark-nlp-display-entity-type{\n",
              "        font-size: 14px;\n",
              "        line-height: 24px;\n",
              "        color: #ffffff;\n",
              "        font-family: 'Montserrat', sans-serif !important;\n",
              "        \n",
              "        text-transform: uppercase;\n",
              "        \n",
              "        font-weight: 500;\n",
              "\n",
              "        display: block;\n",
              "        padding: 3px 5px;\n",
              "    }\n",
              "    \n",
              "    .spark-nlp-display-entity-resolution{\n",
              "        font-size: 14px;\n",
              "        line-height: 24px;\n",
              "        color: #ffffff;\n",
              "        font-family: 'Vistol Regular', sans-serif !important;\n",
              "        \n",
              "        text-transform: uppercase;\n",
              "        \n",
              "        font-weight: 500;\n",
              "\n",
              "        display: block;\n",
              "        padding: 3px 5px;\n",
              "    }\n",
              "    \n",
              "    .spark-nlp-display-others{\n",
              "        font-size: 14px;\n",
              "        line-height: 24px;\n",
              "        font-family: 'Montserrat', sans-serif !important;\n",
              "        \n",
              "        font-weight: 400;\n",
              "    }\n",
              "\n",
              "</style>\n",
              " <span class=\"spark-nlp-display-entity-wrapper\" style=\"background-color: #0C2DA7B3\"><span class=\"spark-nlp-display-entity-name\">Nach der Einnahme </span><span class=\"spark-nlp-display-entity-type\">TIME_INFORMATION</span><span class=\"spark-nlp-display-entity-resolution\" style=\"background-color: #0C2DA7FF\">O75.1 </span><span class=\"spark-nlp-display-entity-resolution\" style=\"background-color: #0C2DA7CC\">Schock während oder nach Wehentätigkeit und Entbindung</span></span><span class=\"spark-nlp-display-others\" style=\"background-color: white\"> von </span><span class=\"spark-nlp-display-entity-wrapper\" style=\"background-color: #6923B7B3\"><span class=\"spark-nlp-display-entity-name\">Symbioflor2 </span><span class=\"spark-nlp-display-entity-type\">MEDICATION</span><span class=\"spark-nlp-display-entity-resolution\" style=\"background-color: #6923B7FF\">R18 </span><span class=\"spark-nlp-display-entity-resolution\" style=\"background-color: #6923B7CC\">Aszites</span></span><span class=\"spark-nlp-display-others\" style=\"background-color: white\"> (</span><span class=\"spark-nlp-display-entity-wrapper\" style=\"background-color: #8C7D79B3\"><span class=\"spark-nlp-display-entity-name\">1992 </span><span class=\"spark-nlp-display-entity-type\">MEASUREMENT</span><span class=\"spark-nlp-display-entity-resolution\" style=\"background-color: #8C7D79FF\">A95 </span><span class=\"spark-nlp-display-entity-resolution\" style=\"background-color: #8C7D79CC\">Gelbfieber</span></span><span class=\"spark-nlp-display-others\" style=\"background-color: white\">) entwickelte sich dann dieser </span><span class=\"spark-nlp-display-entity-wrapper\" style=\"background-color: #6923B7B3\"><span class=\"spark-nlp-display-entity-name\">Fäkalgeruch </span><span class=\"spark-nlp-display-entity-type\">MEDICATION</span><span class=\"spark-nlp-display-entity-resolution\" style=\"background-color: #6923B7FF\">I77.1 </span><span class=\"spark-nlp-display-entity-resolution\" style=\"background-color: #6923B7CC\">Arterienstriktur</span></span><span class=\"spark-nlp-display-others\" style=\"background-color: white\"> bei mir, den ich seit dem nicht mehr losgeworden bin. Vom </span><span class=\"spark-nlp-display-entity-wrapper\" style=\"background-color: #7EAFA6B3\"><span class=\"spark-nlp-display-entity-name\">Symbioflor2 </span><span class=\"spark-nlp-display-entity-type\">PERSON</span><span class=\"spark-nlp-display-entity-resolution\" style=\"background-color: #7EAFA6FF\">R18 </span><span class=\"spark-nlp-display-entity-resolution\" style=\"background-color: #7EAFA6CC\">Aszites</span></span><span class=\"spark-nlp-display-others\" style=\"background-color: white\"> bekam ich dann auch immer </span><span class=\"spark-nlp-display-entity-wrapper\" style=\"background-color: #8C7D79B3\"><span class=\"spark-nlp-display-entity-name\">stärkere </span><span class=\"spark-nlp-display-entity-type\">MEASUREMENT</span><span class=\"spark-nlp-display-entity-resolution\" style=\"background-color: #8C7D79FF\">N91.4 </span><span class=\"spark-nlp-display-entity-resolution\" style=\"background-color: #8C7D79CC\">Sekundäre Oligomenorrhoe</span></span><span class=\"spark-nlp-display-others\" style=\"background-color: white\"> </span><span class=\"spark-nlp-display-entity-wrapper\" style=\"background-color: #9E1297B3\"><span class=\"spark-nlp-display-entity-name\">körperliche Beschwerden </span><span class=\"spark-nlp-display-entity-type\">MEDICAL_CONDITION</span><span class=\"spark-nlp-display-entity-resolution\" style=\"background-color: #9E1297FF\">R11 </span><span class=\"spark-nlp-display-entity-resolution\" style=\"background-color: #9E1297CC\">Übelkeit und Erbrechen</span></span><span class=\"spark-nlp-display-others\" style=\"background-color: white\">, so daß ich es mit der </span><span class=\"spark-nlp-display-entity-wrapper\" style=\"background-color: #9E1297B3\"><span class=\"spark-nlp-display-entity-name\">Angst </span><span class=\"spark-nlp-display-entity-type\">MEDICAL_CONDITION</span><span class=\"spark-nlp-display-entity-resolution\" style=\"background-color: #9E1297FF\">A20 </span><span class=\"spark-nlp-display-entity-resolution\" style=\"background-color: #9E1297CC\">Pest</span></span><span class=\"spark-nlp-display-others\" style=\"background-color: white\"> zu tun bekam und meinen </span><span class=\"spark-nlp-display-entity-wrapper\" style=\"background-color: #7EAFA6B3\"><span class=\"spark-nlp-display-entity-name\">Arzt </span><span class=\"spark-nlp-display-entity-type\">PERSON</span><span class=\"spark-nlp-display-entity-resolution\" style=\"background-color: #7EAFA6FF\">R40.1 </span><span class=\"spark-nlp-display-entity-resolution\" style=\"background-color: #7EAFA6CC\">Sopor</span></span><span class=\"spark-nlp-display-others\" style=\"background-color: white\"> bat mir </span><span class=\"spark-nlp-display-entity-wrapper\" style=\"background-color: #6923B7B3\"><span class=\"spark-nlp-display-entity-name\">Cotrim </span><span class=\"spark-nlp-display-entity-type\">MEDICATION</span><span class=\"spark-nlp-display-entity-resolution\" style=\"background-color: #6923B7FF\">R06.1 </span><span class=\"spark-nlp-display-entity-resolution\" style=\"background-color: #6923B7CC\">Stridor</span></span><span class=\"spark-nlp-display-others\" style=\"background-color: white\"> zuverschreiben (das zweitemal nach </span><span class=\"spark-nlp-display-entity-wrapper\" style=\"background-color: #8C7D79B3\"><span class=\"spark-nlp-display-entity-name\">1983 </span><span class=\"spark-nlp-display-entity-type\">MEASUREMENT</span><span class=\"spark-nlp-display-entity-resolution\" style=\"background-color: #8C7D79FF\">M23.3 </span><span class=\"spark-nlp-display-entity-resolution\" style=\"background-color: #8C7D79CC\">Sonstige Meniskusschädigungen</span></span><span class=\"spark-nlp-display-others\" style=\"background-color: white\">). Die Folge war leider, daß ich </span><span class=\"spark-nlp-display-entity-wrapper\" style=\"background-color: #8C7D79B3\"><span class=\"spark-nlp-display-entity-name\">starken </span><span class=\"spark-nlp-display-entity-type\">MEASUREMENT</span><span class=\"spark-nlp-display-entity-resolution\" style=\"background-color: #8C7D79FF\">R63.5 </span><span class=\"spark-nlp-display-entity-resolution\" style=\"background-color: #8C7D79CC\">Abnorme Gewichtszunahme</span></span><span class=\"spark-nlp-display-others\" style=\"background-color: white\"> </span><span class=\"spark-nlp-display-entity-wrapper\" style=\"background-color: #9E1297B3\"><span class=\"spark-nlp-display-entity-name\">Fußschweiß </span><span class=\"spark-nlp-display-entity-type\">MEDICAL_CONDITION</span><span class=\"spark-nlp-display-entity-resolution\" style=\"background-color: #9E1297FF\">R19.6 </span><span class=\"spark-nlp-display-entity-resolution\" style=\"background-color: #9E1297CC\">Mundgeruch</span></span><span class=\"spark-nlp-display-others\" style=\"background-color: white\"> bekam mit entsprechendem Geruch. Auch meine </span><span class=\"spark-nlp-display-entity-wrapper\" style=\"background-color: #0E3A7FB3\"><span class=\"spark-nlp-display-entity-name\">Hände </span><span class=\"spark-nlp-display-entity-type\">BODY_PART</span><span class=\"spark-nlp-display-entity-resolution\" style=\"background-color: #0E3A7FFF\">A32 </span><span class=\"spark-nlp-display-entity-resolution\" style=\"background-color: #0E3A7FCC\">Listeriose</span></span><span class=\"spark-nlp-display-others\" style=\"background-color: white\"> fingen stark an zu riechen.<br>Ich war im Schlaflabor. Nur eine Auffälligkeit. </span><span class=\"spark-nlp-display-entity-wrapper\" style=\"background-color: #0C2DA7B3\"><span class=\"spark-nlp-display-entity-name\">In der ersten Nacht </span><span class=\"spark-nlp-display-entity-type\">TIME_INFORMATION</span><span class=\"spark-nlp-display-entity-resolution\" style=\"background-color: #0C2DA7FF\">R49 </span><span class=\"spark-nlp-display-entity-resolution\" style=\"background-color: #0C2DA7CC\">Störungen der Stimme</span></span><span class=\"spark-nlp-display-others\" style=\"background-color: white\"> dort trat ich verfrüht in den Traumschlaf ein, was ein Kriterium für </span><span class=\"spark-nlp-display-entity-wrapper\" style=\"background-color: #9E1297B3\"><span class=\"spark-nlp-display-entity-name\">Narkolepsie </span><span class=\"spark-nlp-display-entity-type\">MEDICAL_CONDITION</span><span class=\"spark-nlp-display-entity-resolution\" style=\"background-color: #9E1297FF\">K02.4 </span><span class=\"spark-nlp-display-entity-resolution\" style=\"background-color: #9E1297CC\">Odontoklasie</span></span><span class=\"spark-nlp-display-others\" style=\"background-color: white\"> ist. </span><span class=\"spark-nlp-display-entity-wrapper\" style=\"background-color: #25399BB3\"><span class=\"spark-nlp-display-entity-name\">Bluttest </span><span class=\"spark-nlp-display-entity-type\">DIAGLAB_PROCEDURE</span><span class=\"spark-nlp-display-entity-resolution\" style=\"background-color: #25399BFF\">G47.3 </span><span class=\"spark-nlp-display-entity-resolution\" style=\"background-color: #25399BCC\">Schlafapnoe</span></span><span class=\"spark-nlp-display-others\" style=\"background-color: white\"> und Gentest aber waren </span><span class=\"spark-nlp-display-entity-wrapper\" style=\"background-color: #8C7D79B3\"><span class=\"spark-nlp-display-entity-name\">negativ </span><span class=\"spark-nlp-display-entity-type\">MEASUREMENT</span><span class=\"spark-nlp-display-entity-resolution\" style=\"background-color: #8C7D79FF\">R46.5 </span><span class=\"spark-nlp-display-entity-resolution\" style=\"background-color: #8C7D79CC\">Misstrauen oder ausweichendes Verhalten</span></span><span class=\"spark-nlp-display-others\" style=\"background-color: white\">. Meine </span><span class=\"spark-nlp-display-entity-wrapper\" style=\"background-color: #0E3A7FB3\"><span class=\"spark-nlp-display-entity-name\">Lungen </span><span class=\"spark-nlp-display-entity-type\">BODY_PART</span><span class=\"spark-nlp-display-entity-resolution\" style=\"background-color: #0E3A7FFF\">B48.2 </span><span class=\"spark-nlp-display-entity-resolution\" style=\"background-color: #0E3A7FCC\">Allescheriose</span></span><span class=\"spark-nlp-display-others\" style=\"background-color: white\"> sind super, mein MRT unauffällig. </span><span class=\"spark-nlp-display-entity-wrapper\" style=\"background-color: #0C2DA7B3\"><span class=\"spark-nlp-display-entity-name\">Jetzt </span><span class=\"spark-nlp-display-entity-type\">TIME_INFORMATION</span><span class=\"spark-nlp-display-entity-resolution\" style=\"background-color: #0C2DA7FF\">Z75.2 </span><span class=\"spark-nlp-display-entity-resolution\" style=\"background-color: #0C2DA7CC\">Wartezeit auf eine Untersuchung oder Behandlung</span></span><span class=\"spark-nlp-display-others\" style=\"background-color: white\"> bin ich in einer neurologischen Spezialklinik. Der </span><span class=\"spark-nlp-display-entity-wrapper\" style=\"background-color: #7EAFA6B3\"><span class=\"spark-nlp-display-entity-name\">Arzt </span><span class=\"spark-nlp-display-entity-type\">PERSON</span><span class=\"spark-nlp-display-entity-resolution\" style=\"background-color: #7EAFA6FF\">R40.1 </span><span class=\"spark-nlp-display-entity-resolution\" style=\"background-color: #7EAFA6CC\">Sopor</span></span><span class=\"spark-nlp-display-others\" style=\"background-color: white\"> meinte, dass eine sehr </span><span class=\"spark-nlp-display-entity-wrapper\" style=\"background-color: #8C7D79B3\"><span class=\"spark-nlp-display-entity-name\">geringe </span><span class=\"spark-nlp-display-entity-type\">MEASUREMENT</span><span class=\"spark-nlp-display-entity-resolution\" style=\"background-color: #8C7D79FF\">I50 </span><span class=\"spark-nlp-display-entity-resolution\" style=\"background-color: #8C7D79CC\">Herzinsuffizienz</span></span><span class=\"spark-nlp-display-others\" style=\"background-color: white\"> Wahrscheinlichkeit besteht, dass ich doch an </span><span class=\"spark-nlp-display-entity-wrapper\" style=\"background-color: #9E1297B3\"><span class=\"spark-nlp-display-entity-name\">Narkolepsie </span><span class=\"spark-nlp-display-entity-type\">MEDICAL_CONDITION</span><span class=\"spark-nlp-display-entity-resolution\" style=\"background-color: #9E1297FF\">K02.4 </span><span class=\"spark-nlp-display-entity-resolution\" style=\"background-color: #9E1297CC\">Odontoklasie</span></span><span class=\"spark-nlp-display-others\" style=\"background-color: white\"> leide. Ich soll </span><span class=\"spark-nlp-display-entity-wrapper\" style=\"background-color: #0C2DA7B3\"><span class=\"spark-nlp-display-entity-name\">in einem halben Jahr </span><span class=\"spark-nlp-display-entity-type\">TIME_INFORMATION</span><span class=\"spark-nlp-display-entity-resolution\" style=\"background-color: #0C2DA7FF\">S36.59 </span><span class=\"spark-nlp-display-entity-resolution\" style=\"background-color: #0C2DA7CC\">Verletzung: Sonstige und mehrere Teile des Dickdarmes</span></span><span class=\"spark-nlp-display-others\" style=\"background-color: white\"> nochmal dort ins Schlaflabor. </span><span class=\"spark-nlp-display-entity-wrapper\" style=\"background-color: #6923B7B3\"><span class=\"spark-nlp-display-entity-name\">Medikamente </span><span class=\"spark-nlp-display-entity-type\">MEDICATION</span><span class=\"spark-nlp-display-entity-resolution\" style=\"background-color: #6923B7FF\">R06.5 </span><span class=\"spark-nlp-display-entity-resolution\" style=\"background-color: #6923B7CC\">Mundatmung</span></span><span class=\"spark-nlp-display-others\" style=\"background-color: white\"> gegen die </span><span class=\"spark-nlp-display-entity-wrapper\" style=\"background-color: #9E1297B3\"><span class=\"spark-nlp-display-entity-name\">Müdigkeit </span><span class=\"spark-nlp-display-entity-type\">MEDICAL_CONDITION</span><span class=\"spark-nlp-display-entity-resolution\" style=\"background-color: #9E1297FF\">H11.3 </span><span class=\"spark-nlp-display-entity-resolution\" style=\"background-color: #9E1297CC\">Blutung der Konjunktiva</span></span><span class=\"spark-nlp-display-others\" style=\"background-color: white\"> will er mir nicht verschreiben. </span><span class=\"spark-nlp-display-entity-wrapper\" style=\"background-color: #6923B7B3\"><span class=\"spark-nlp-display-entity-name\">Antidepressiva </span><span class=\"spark-nlp-display-entity-type\">MEDICATION</span><span class=\"spark-nlp-display-entity-resolution\" style=\"background-color: #6923B7FF\">I35 </span><span class=\"spark-nlp-display-entity-resolution\" style=\"background-color: #6923B7CC\">Nichtrheumatische Aortenklappenkrankheiten</span></span><span class=\"spark-nlp-display-others\" style=\"background-color: white\"> wären es, aber die müsste ich mir abgewöhnen, bevor ich in das Schlaflabor gehe. Also lieber \"clean\" bleiben.<br>Ich glaube mittlerweile, dass das Problem ganz woanders liegt... obwohl ich als </span><span class=\"spark-nlp-display-entity-wrapper\" style=\"background-color: #7EAFA6B3\"><span class=\"spark-nlp-display-entity-name\">Kind </span><span class=\"spark-nlp-display-entity-type\">PERSON</span><span class=\"spark-nlp-display-entity-resolution\" style=\"background-color: #7EAFA6FF\">Z37 </span><span class=\"spark-nlp-display-entity-resolution\" style=\"background-color: #7EAFA6CC\">Resultat der Entbindung</span></span><span class=\"spark-nlp-display-others\" style=\"background-color: white\"> laut Aussagen meiner </span><span class=\"spark-nlp-display-entity-wrapper\" style=\"background-color: #7EAFA6B3\"><span class=\"spark-nlp-display-entity-name\">Eltern </span><span class=\"spark-nlp-display-entity-type\">PERSON</span><span class=\"spark-nlp-display-entity-resolution\" style=\"background-color: #7EAFA6FF\">T90 </span><span class=\"spark-nlp-display-entity-resolution\" style=\"background-color: #7EAFA6CC\">Folgen von Verletzungen des Kopfes</span></span><span class=\"spark-nlp-display-others\" style=\"background-color: white\"> immer recht schnell dabei war, was laufen, Fahrradfahren etc. angeht, habe ich </span><span class=\"spark-nlp-display-entity-wrapper\" style=\"background-color: #0C2DA7B3\"><span class=\"spark-nlp-display-entity-name\">jetzt </span><span class=\"spark-nlp-display-entity-type\">TIME_INFORMATION</span><span class=\"spark-nlp-display-entity-resolution\" style=\"background-color: #0C2DA7FF\">S62.15 </span><span class=\"spark-nlp-display-entity-resolution\" style=\"background-color: #0C2DA7CC\">Fraktur: Os trapezoideum</span></span><span class=\"spark-nlp-display-others\" style=\"background-color: white\"> gerade als </span><span class=\"spark-nlp-display-entity-wrapper\" style=\"background-color: #7EAFA6B3\"><span class=\"spark-nlp-display-entity-name\">Erwachsener </span><span class=\"spark-nlp-display-entity-type\">PERSON</span><span class=\"spark-nlp-display-entity-resolution\" style=\"background-color: #7EAFA6FF\">F30 </span><span class=\"spark-nlp-display-entity-resolution\" style=\"background-color: #7EAFA6CC\">Manische Episode</span></span><span class=\"spark-nlp-display-others\" style=\"background-color: white\"> gemerkt, dass ich sehr langsam dabei bin, komplexe Bewegungen einzulernen und richtig auszuführen, sei es z.B. Tanzen oder Kampfsport. Wobei das sicherlich was ist, was mit der Zeit und Training schon deutlich </span><span class=\"spark-nlp-display-entity-wrapper\" style=\"background-color: #667958B3\"><span class=\"spark-nlp-display-entity-name\">besser </span><span class=\"spark-nlp-display-entity-type\">STATE_OF_HEALTH</span><span class=\"spark-nlp-display-entity-resolution\" style=\"background-color: #667958FF\">R09.2 </span><span class=\"spark-nlp-display-entity-resolution\" style=\"background-color: #667958CC\">Atemstillstand</span></span><span class=\"spark-nlp-display-others\" style=\"background-color: white\"> geworden ist.</span></div>"
            ]
          },
          "metadata": {}
        },
        {
          "output_type": "stream",
          "name": "stdout",
          "text": [
            "\n",
            "\n",
            "\n"
          ]
        },
        {
          "output_type": "display_data",
          "data": {
            "text/plain": [
              "<IPython.core.display.HTML object>"
            ],
            "text/html": [
              "\n",
              "<style>\n",
              "    @import url('https://fonts.googleapis.com/css2?family=Montserrat:wght@300;400;500;600;700&display=swap');\n",
              "    @import url('https://fonts.googleapis.com/css2?family=Vistol Regular:wght@300;400;500;600;700&display=swap');\n",
              "    \n",
              "    .spark-nlp-display-scroll-entities {\n",
              "        border: 1px solid #E7EDF0;\n",
              "        border-radius: 3px;\n",
              "        text-align: justify;\n",
              "        \n",
              "    }\n",
              "    .spark-nlp-display-scroll-entities span {  \n",
              "        font-size: 14px;\n",
              "        line-height: 24px;\n",
              "        color: #536B76;\n",
              "        font-family: 'Montserrat', sans-serif !important;\n",
              "    }\n",
              "    \n",
              "    .spark-nlp-display-entity-wrapper{\n",
              "    \n",
              "        display: inline-grid;\n",
              "        text-align: center;\n",
              "        border-radius: 4px;\n",
              "        margin: 0 2px 5px 2px;\n",
              "        padding: 1px\n",
              "    }\n",
              "    .spark-nlp-display-entity-name{\n",
              "        font-size: 14px;\n",
              "        line-height: 24px;\n",
              "        font-family: 'Montserrat', sans-serif !important;\n",
              "        \n",
              "        background: #f1f2f3;\n",
              "        border-width: medium;\n",
              "        text-align: center;\n",
              "        \n",
              "        font-weight: 400;\n",
              "        \n",
              "        border-radius: 5px;\n",
              "        padding: 2px 5px;\n",
              "        display: block;\n",
              "        margin: 3px 2px;\n",
              "    \n",
              "    }\n",
              "    .spark-nlp-display-entity-type{\n",
              "        font-size: 14px;\n",
              "        line-height: 24px;\n",
              "        color: #ffffff;\n",
              "        font-family: 'Montserrat', sans-serif !important;\n",
              "        \n",
              "        text-transform: uppercase;\n",
              "        \n",
              "        font-weight: 500;\n",
              "\n",
              "        display: block;\n",
              "        padding: 3px 5px;\n",
              "    }\n",
              "    \n",
              "    .spark-nlp-display-entity-resolution{\n",
              "        font-size: 14px;\n",
              "        line-height: 24px;\n",
              "        color: #ffffff;\n",
              "        font-family: 'Vistol Regular', sans-serif !important;\n",
              "        \n",
              "        text-transform: uppercase;\n",
              "        \n",
              "        font-weight: 500;\n",
              "\n",
              "        display: block;\n",
              "        padding: 3px 5px;\n",
              "    }\n",
              "    \n",
              "    .spark-nlp-display-others{\n",
              "        font-size: 14px;\n",
              "        line-height: 24px;\n",
              "        font-family: 'Montserrat', sans-serif !important;\n",
              "        \n",
              "        font-weight: 400;\n",
              "    }\n",
              "\n",
              "</style>\n",
              " <span class=\"spark-nlp-display-others\" style=\"background-color: white\">Ja das ist bekannt gewesen. Und die haben sich danach gerichtet. Hatte das Gefühl das er sich schon sehr wohl da gefühlt. Haben das auch von den Betreuern als Rückmeldung erhalten. Er ist zwar immer furchtbar aufgeregt wenn es dann los geht, aber wenn er dann da ist, freut er sich doch. Müssen zwar dann auch meist er sehr lange Autofahrt in Kauf nehmen da es das nicht in unserer Gegend gibt. Aber wenn er wenigstens daran eine Freude, warum nicht.<br>Leute, lest euch diesen Beitrag vollständig durch! </span><span class=\"spark-nlp-display-entity-wrapper\" style=\"background-color: #09841EB3\"><span class=\"spark-nlp-display-entity-name\">Cosma </span><span class=\"spark-nlp-display-entity-type\">MEDICATION</span><span class=\"spark-nlp-display-entity-resolution\" style=\"background-color: #09841EFF\">G43 </span><span class=\"spark-nlp-display-entity-resolution\" style=\"background-color: #09841ECC\">Migräne</span></span><span class=\"spark-nlp-display-others\" style=\"background-color: white\"> und ich, wir haben unsere Erlebnisse gut dokumentiert. Wir waren am Anfang genauso ratlos, wie du (und noch andere, die hier dieselben Fragen stellem), die Diagnose ist für solche Sachen entweder </span><span class=\"spark-nlp-display-entity-wrapper\" style=\"background-color: #B4C124B3\"><span class=\"spark-nlp-display-entity-name\">Depressionen </span><span class=\"spark-nlp-display-entity-type\">MEDICAL_CONDITION</span><span class=\"spark-nlp-display-entity-resolution\" style=\"background-color: #B4C124FF\">J67.3 </span><span class=\"spark-nlp-display-entity-resolution\" style=\"background-color: #B4C124CC\">Suberose</span></span><span class=\"spark-nlp-display-others\" style=\"background-color: white\"> oder </span><span class=\"spark-nlp-display-entity-wrapper\" style=\"background-color: #B4C124B3\"><span class=\"spark-nlp-display-entity-name\">Burnout </span><span class=\"spark-nlp-display-entity-type\">MEDICAL_CONDITION</span><span class=\"spark-nlp-display-entity-resolution\" style=\"background-color: #B4C124FF\">B86 </span><span class=\"spark-nlp-display-entity-resolution\" style=\"background-color: #B4C124CC\">Skabies</span></span><span class=\"spark-nlp-display-others\" style=\"background-color: white\"> bzw. beides (wenn nichts Körperliches vorliegt). Manche haben noch zusätzlich </span><span class=\"spark-nlp-display-entity-wrapper\" style=\"background-color: #B4C124B3\"><span class=\"spark-nlp-display-entity-name\">Angstzustände </span><span class=\"spark-nlp-display-entity-type\">MEDICAL_CONDITION</span><span class=\"spark-nlp-display-entity-resolution\" style=\"background-color: #B4C124FF\">J47 </span><span class=\"spark-nlp-display-entity-resolution\" style=\"background-color: #B4C124CC\">Bronchiektasen</span></span><span class=\"spark-nlp-display-others\" style=\"background-color: white\"> oder </span><span class=\"spark-nlp-display-entity-wrapper\" style=\"background-color: #B4C124B3\"><span class=\"spark-nlp-display-entity-name\">Panikattacken </span><span class=\"spark-nlp-display-entity-type\">MEDICAL_CONDITION</span><span class=\"spark-nlp-display-entity-resolution\" style=\"background-color: #B4C124FF\">R23.0 </span><span class=\"spark-nlp-display-entity-resolution\" style=\"background-color: #B4C124CC\">Zyanose</span></span><span class=\"spark-nlp-display-others\" style=\"background-color: white\">. Die </span><span class=\"spark-nlp-display-entity-wrapper\" style=\"background-color: #5D412DB3\"><span class=\"spark-nlp-display-entity-name\">Diagnose </span><span class=\"spark-nlp-display-entity-type\">DIAGLAB_PROCEDURE</span><span class=\"spark-nlp-display-entity-resolution\" style=\"background-color: #5D412DFF\">Z01.7 </span><span class=\"spark-nlp-display-entity-resolution\" style=\"background-color: #5D412DCC\">Laboruntersuchung</span></span><span class=\"spark-nlp-display-others\" style=\"background-color: white\"> sollte allerdings ein Neurologe/Psychiater stellen.</span></div>"
            ]
          },
          "metadata": {}
        },
        {
          "output_type": "stream",
          "name": "stdout",
          "text": [
            "\n",
            "\n",
            "\n"
          ]
        },
        {
          "output_type": "display_data",
          "data": {
            "text/plain": [
              "<IPython.core.display.HTML object>"
            ],
            "text/html": [
              "\n",
              "<style>\n",
              "    @import url('https://fonts.googleapis.com/css2?family=Montserrat:wght@300;400;500;600;700&display=swap');\n",
              "    @import url('https://fonts.googleapis.com/css2?family=Vistol Regular:wght@300;400;500;600;700&display=swap');\n",
              "    \n",
              "    .spark-nlp-display-scroll-entities {\n",
              "        border: 1px solid #E7EDF0;\n",
              "        border-radius: 3px;\n",
              "        text-align: justify;\n",
              "        \n",
              "    }\n",
              "    .spark-nlp-display-scroll-entities span {  \n",
              "        font-size: 14px;\n",
              "        line-height: 24px;\n",
              "        color: #536B76;\n",
              "        font-family: 'Montserrat', sans-serif !important;\n",
              "    }\n",
              "    \n",
              "    .spark-nlp-display-entity-wrapper{\n",
              "    \n",
              "        display: inline-grid;\n",
              "        text-align: center;\n",
              "        border-radius: 4px;\n",
              "        margin: 0 2px 5px 2px;\n",
              "        padding: 1px\n",
              "    }\n",
              "    .spark-nlp-display-entity-name{\n",
              "        font-size: 14px;\n",
              "        line-height: 24px;\n",
              "        font-family: 'Montserrat', sans-serif !important;\n",
              "        \n",
              "        background: #f1f2f3;\n",
              "        border-width: medium;\n",
              "        text-align: center;\n",
              "        \n",
              "        font-weight: 400;\n",
              "        \n",
              "        border-radius: 5px;\n",
              "        padding: 2px 5px;\n",
              "        display: block;\n",
              "        margin: 3px 2px;\n",
              "    \n",
              "    }\n",
              "    .spark-nlp-display-entity-type{\n",
              "        font-size: 14px;\n",
              "        line-height: 24px;\n",
              "        color: #ffffff;\n",
              "        font-family: 'Montserrat', sans-serif !important;\n",
              "        \n",
              "        text-transform: uppercase;\n",
              "        \n",
              "        font-weight: 500;\n",
              "\n",
              "        display: block;\n",
              "        padding: 3px 5px;\n",
              "    }\n",
              "    \n",
              "    .spark-nlp-display-entity-resolution{\n",
              "        font-size: 14px;\n",
              "        line-height: 24px;\n",
              "        color: #ffffff;\n",
              "        font-family: 'Vistol Regular', sans-serif !important;\n",
              "        \n",
              "        text-transform: uppercase;\n",
              "        \n",
              "        font-weight: 500;\n",
              "\n",
              "        display: block;\n",
              "        padding: 3px 5px;\n",
              "    }\n",
              "    \n",
              "    .spark-nlp-display-others{\n",
              "        font-size: 14px;\n",
              "        line-height: 24px;\n",
              "        font-family: 'Montserrat', sans-serif !important;\n",
              "        \n",
              "        font-weight: 400;\n",
              "    }\n",
              "\n",
              "</style>\n",
              " <span class=\"spark-nlp-display-others\" style=\"background-color: white\">Das ist doch immer eine Überlegung wert. </span><span class=\"spark-nlp-display-entity-wrapper\" style=\"background-color: #B6ADACB3\"><span class=\"spark-nlp-display-entity-name\">Bis vor kurzem </span><span class=\"spark-nlp-display-entity-type\">TIME_INFORMATION</span><span class=\"spark-nlp-display-entity-resolution\" style=\"background-color: #B6ADACFF\">U55.1 </span><span class=\"spark-nlp-display-entity-resolution\" style=\"background-color: #B6ADACCC\">Erfolgte Registrierung zur Herztransplantation</span></span><span class=\"spark-nlp-display-others\" style=\"background-color: white\"> war das sogar noch die Strategie ganzer Länder, u. a. GB. Also ich bin zum Besispiel einer von den süßen Opis, die derzeit bloß nicht an den Eiern gedrückt werden sollen. Ich würde mir tatsächlich eine </span><span class=\"spark-nlp-display-entity-wrapper\" style=\"background-color: #BF7211B3\"><span class=\"spark-nlp-display-entity-name\">Ansteckung </span><span class=\"spark-nlp-display-entity-type\">MEDICAL_CONDITION</span><span class=\"spark-nlp-display-entity-resolution\" style=\"background-color: #BF7211FF\">Z54.4 </span><span class=\"spark-nlp-display-entity-resolution\" style=\"background-color: #BF7211CC\">Rekonvaleszenz nach Frakturbehandlung</span></span><span class=\"spark-nlp-display-others\" style=\"background-color: white\"> mit einem einigermaßen moderaten Verlauf wünschen. Dann hätte ich, nach allem was man weiß, u. a. von Rhesusaffen, eine </span><span class=\"spark-nlp-display-entity-wrapper\" style=\"background-color: #BF7211B3\"><span class=\"spark-nlp-display-entity-name\">Grundimmunität </span><span class=\"spark-nlp-display-entity-type\">MEDICAL_CONDITION</span><span class=\"spark-nlp-display-entity-resolution\" style=\"background-color: #BF7211FF\">K06.0 </span><span class=\"spark-nlp-display-entity-resolution\" style=\"background-color: #BF7211CC\">Gingivaretraktion</span></span><span class=\"spark-nlp-display-others\" style=\"background-color: white\"> und könnte rausgehen und meinen Mitmenschen unter die </span><span class=\"spark-nlp-display-entity-wrapper\" style=\"background-color: #83A9B9B3\"><span class=\"spark-nlp-display-entity-name\">Arme </span><span class=\"spark-nlp-display-entity-type\">BODY_PART</span><span class=\"spark-nlp-display-entity-resolution\" style=\"background-color: #83A9B9FF\">O62.3 </span><span class=\"spark-nlp-display-entity-resolution\" style=\"background-color: #83A9B9CC\">Überstürzte Geburt</span></span><span class=\"spark-nlp-display-others\" style=\"background-color: white\"> greifen. Ich bin halt alt, aber net unbedingt schwach. Rüstiger Greis, sozusagen</span></div>"
            ]
          },
          "metadata": {}
        },
        {
          "output_type": "stream",
          "name": "stdout",
          "text": [
            "\n",
            "\n",
            "\n"
          ]
        }
      ]
    }
  ]
}
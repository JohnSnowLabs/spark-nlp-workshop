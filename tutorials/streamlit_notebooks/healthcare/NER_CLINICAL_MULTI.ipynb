{
  "nbformat": 4,
  "nbformat_minor": 0,
  "metadata": {
    "colab": {
      "provenance": []
    },
    "kernelspec": {
      "name": "python3",
      "display_name": "Python 3"
    },
    "language_info": {
      "name": "python"
    }
  },
  "cells": [
    {
      "cell_type": "markdown",
      "source": [
        "![JohnSnowLabs](https://nlp.johnsnowlabs.com/assets/images/logo.png)"
      ],
      "metadata": {
        "id": "XxEAqNVxRCZy"
      }
    },
    {
      "cell_type": "markdown",
      "source": [
        "[![Open In Colab](https://colab.research.google.com/assets/colab-badge.svg)](https://colab.research.google.com/github/JohnSnowLabs/spark-nlp-workshop/blob/master/tutorials/streamlit_notebooks/healthcare/NER_CLINICAL_MULTI.ipynb)"
      ],
      "metadata": {
        "id": "1H52i4GfRL7t"
      }
    },
    {
      "cell_type": "markdown",
      "source": [
        "## Setup"
      ],
      "metadata": {
        "id": "gboVy8yfGgUB"
      }
    },
    {
      "cell_type": "code",
      "execution_count": null,
      "metadata": {
        "id": "gfREMi3HFlZc"
      },
      "outputs": [],
      "source": [
        "import json\n",
        "import os\n",
        "\n",
        "from google.colab import files\n",
        "\n",
        "license_keys = files.upload()\n",
        "\n",
        "with open(list(license_keys.keys())[0]) as f:\n",
        "    license_keys = json.load(f)\n",
        "\n",
        "locals().update(license_keys)\n",
        "\n",
        "os.environ.update(license_keys)"
      ]
    },
    {
      "cell_type": "code",
      "source": [
        "# Installing pyspark and spark-nlp\n",
        "! pip install --upgrade -q pyspark==3.1.2 spark-nlp==$PUBLIC_VERSION\n",
        "\n",
        "# Installing Spark NLP Healthcare\n",
        "! pip install --upgrade -q spark-nlp-jsl==$JSL_VERSION  --extra-index-url https://pypi.johnsnowlabs.com/$SECRET\n",
        "\n",
        "# Installing Spark NLP Display Library for visualization\n",
        "! pip install -q spark-nlp-display"
      ],
      "metadata": {
        "id": "-o4xlmCVF6BE"
      },
      "execution_count": null,
      "outputs": []
    },
    {
      "cell_type": "code",
      "source": [
        "import sparknlp\n",
        "import sparknlp_jsl\n",
        "\n",
        "from sparknlp.base import *\n",
        "from sparknlp.annotator import *\n",
        "from sparknlp_jsl.annotator import *\n",
        "from sparknlp_jsl.pretrained import InternalResourceDownloader\n",
        "\n",
        "from pyspark.sql import SparkSession\n",
        "from pyspark.sql import functions as F\n",
        "from pyspark.ml import Pipeline,PipelineModel\n",
        "\n",
        "import pandas as pd\n",
        "pd.set_option('display.max_colwidth', 200)\n",
        "\n",
        "import warnings\n",
        "warnings.filterwarnings('ignore')\n",
        "\n",
        "params = {\"spark.driver.memory\":\"16G\",\n",
        "          \"spark.kryoserializer.buffer.max\":\"2000M\",\n",
        "          \"spark.driver.maxResultSize\":\"2000M\"}\n",
        "\n",
        "print(\"Spark NLP Version :\", sparknlp.version())\n",
        "print(\"Spark NLP_JSL Version :\", sparknlp_jsl.version())\n",
        "\n",
        "spark = sparknlp_jsl.start(license_keys['SECRET'],params=params)\n",
        "\n",
        "spark"
      ],
      "metadata": {
        "colab": {
          "base_uri": "https://localhost:8080/",
          "height": 254
        },
        "id": "61oipq76GdDh",
        "outputId": "77c1d250-3ab7-4a12-dce3-9934a7329aa7"
      },
      "execution_count": 3,
      "outputs": [
        {
          "output_type": "stream",
          "name": "stdout",
          "text": [
            "Spark NLP Version : 5.0.2\n",
            "Spark NLP_JSL Version : 5.0.2\n"
          ]
        },
        {
          "output_type": "execute_result",
          "data": {
            "text/plain": [
              "<pyspark.sql.session.SparkSession at 0x7b026b2e20b0>"
            ],
            "text/html": [
              "\n",
              "            <div>\n",
              "                <p><b>SparkSession - in-memory</b></p>\n",
              "                \n",
              "        <div>\n",
              "            <p><b>SparkContext</b></p>\n",
              "\n",
              "            <p><a href=\"http://6620456a23db:4040\">Spark UI</a></p>\n",
              "\n",
              "            <dl>\n",
              "              <dt>Version</dt>\n",
              "                <dd><code>v3.1.2</code></dd>\n",
              "              <dt>Master</dt>\n",
              "                <dd><code>local[*]</code></dd>\n",
              "              <dt>AppName</dt>\n",
              "                <dd><code>Spark NLP Licensed</code></dd>\n",
              "            </dl>\n",
              "        </div>\n",
              "        \n",
              "            </div>\n",
              "        "
            ]
          },
          "metadata": {},
          "execution_count": 3
        }
      ]
    },
    {
      "cell_type": "code",
      "source": [
        "text_dict = {\n",
        "\n",
        "    \"ner_clinical_pt\": [\n",
        "        \"\"\"Uma mulher de 50 anos veio à clínica ortopédica com queixas de dor persistente, inchaço e limitação da amplitude de movimentos no joelho direito. A doente referia uma história de osteoartrite e uma lesão anterior no joelho. Foi efectuado um exame clínico e radiografias que revelaram um estreitamento do espaço articular, formação de osteófitos e sinais de degeneração da cartilagem. Para confirmar o diagnóstico e avaliar a gravidade, foi pedida uma ressonância magnética. A RM mostrou uma perda extensa de cartilagem e alterações ósseas consistentes com osteoartrite avançada. Depois de considerar a condição e as preferências do doente, foi discutido um plano de tratamento que envolvia o controlo da dor, fisioterapia e a possibilidade de cirurgia de substituição da articulação.\"\"\",\n",
        "        \"\"\"Um homem de 45 anos apresentou-se na clínica com falta de ar persistente e desconforto no peito. A história clínica do doente revelava hipertensão e uma história familiar de doença cardiovascular. Um exame físico inicial indicou uma tensão arterial elevada e sons cardíacos irregulares. Para avaliar melhor a condição, foram realizados um eletrocardiograma (ECG), um ecocardiograma e uma prova de esforço. O ECG revelou sinais de arritmia cardíaca, enquanto o ecocardiograma mostrou uma função ventricular esquerda reduzida. O teste de esforço indicou isquemia miocárdica induzida pelo exercício, confirmando a presença de doença arterial coronariana (DAC).\"\"\",\n",
        "    ],\n",
        "    \"ner_clinical_tr\": [\n",
        "        \"\"\"50 yaşında bir kadın hasta ortopedi kliniğine sağ dizinde sürekli ağrı, şişlik ve hareket kısıtlılığı şikâyetleriyle başvurdu. Hasta osteoartrit ve daha önce geçirilmiş diz yaralanması öyküsü bildirdi. Klinik muayene ve çekilen röntgenlerde eklem aralığında daralma, osteofit oluşumu ve kıkırdak dejenerasyonu bulguları tespit edildi. Tanıyı doğrulamak ve ciddiyetini değerlendirmek için bir MR taraması istendi. MRG, ileri osteoartrit ile uyumlu yoğun kıkırdak kaybı ve kemik değişiklikleri gösterdi. Hastanın durumu ve tercihleri göz önünde bulundurulduktan sonra  fizik tedavi ve eklem replasmanı ameliyatı olasılığını içeren bir tedavi planı tartışıldı.\"\"\",\n",
        "        \"\"\"45 yaşında bir erkek hasta kliniğe sürekli nefes darlığı ve göğüs rahatsızlığı şikâyetiyle başvurdu. Hastanın tıbbi geçmişinde hipertansiyon ve ailede kardiyovasküler hastalık öyküsü vardı. İlk fizik muayenede yüksek kan basıncı ve düzensiz kalp sesleri tespit edildi. Durumu daha iyi değerlendirmek için elektrokardiyogram (EKG), ekokardiyogram ve efor testi yapıldı. EKG'de kardiyak aritmi belirtileri görülürken, ekokardiyogramda sol ventrikül fonksiyonunun azaldığı görüldü. Efor testi egzersize bağlı miyokardiyal iskemiyi göstererek koroner arter hastalığının (KAH) varlığını doğrulamıştır.\"\"\",\n",
        "    ],\n",
        "    \"ner_clinical_pl\": [\n",
        "        \"\"\"50-letnia kobieta zgłosiła się do kliniki ortopedycznej skarżąc się na uporczywy ból, obrzęk i ograniczony zakres ruchu w prawym kolanie. Pacjentka zgłosiła historię choroby zwyrodnieniowej stawów i wcześniejszy uraz kolana. Przeprowadzono badanie kliniczne i wykonano zdjęcia rentgenowskie, które wykazały zwężenie przestrzeni stawowej, tworzenie się osteofitów i oznaki zwyrodnienia chrząstki. Aby potwierdzić diagnozę i ocenić stopień zaawansowania, zlecono rezonans magnetyczny. Rezonans magnetyczny wykazał rozległą utratę chrząstki i zmiany kostne odpowiadające zaawansowanej chorobie zwyrodnieniowej stawów. Po rozważeniu stanu pacjenta i jego preferencji, omówiono plan leczenia, który obejmował kontrolę bólu, fizjoterapię i możliwość operacji wymiany stawu.\"\"\",\n",
        "        \"\"\"45-letni mężczyzna zgłosił się do kliniki z uporczywą dusznością i dyskomfortem w klatce piersiowej. Historia medyczna pacjenta ujawniła nadciśnienie tętnicze i rodzinną historię chorób sercowo-naczyniowych. Wstępne badanie fizykalne wykazało wysokie ciśnienie krwi i nieregularne dźwięki serca. W celu dalszej oceny stanu pacjenta wykonano elektrokardiogram (EKG), echokardiogram i test wysiłkowy. EKG ujawniło oznaki arytmii serca, podczas gdy echokardiogram wykazał zmniejszoną czynność lewej komory. Test wysiłkowy wykazał niedokrwienie mięśnia sercowego wywołane wysiłkiem fizycznym, potwierdzając obecność choroby wieńcowej (CAD).\"\"\",\n",
        "    ],\n",
        "    \"ner_clinical_es\": [\n",
        "        \"\"\"Una mujer de 50 años acudió a la clínica ortopédica quejándose de dolor persistente, inflamación y limitación de la amplitud de movimiento en la rodilla derecha. La paciente refería antecedentes de artrosis y una lesión previa de rodilla. Se realizó un examen clínico y radiografías que revelaron un estrechamiento del espacio articular, formación de osteofitos y signos de degeneración del cartílago. Para confirmar el diagnóstico y evaluar la gravedad, se solicitó una resonancia magnética. La resonancia mostró una gran pérdida de cartílago y cambios óseos compatibles con una artrosis avanzada. Tras considerar el estado y las preferencias del paciente, se discutió un plan de tratamiento que incluía control del dolor, fisioterapia y la posibilidad de una cirugía de sustitución articular.\"\"\",\n",
        "        \"\"\"Un hombre de 45 años acudió a la consulta con disnea persistente y molestias torácicas. La historia clínica del paciente revelaba hipertensión y antecedentes familiares de enfermedad cardiovascular. Un examen físico inicial indicó hipertensión arterial y ruidos cardíacos irregulares. Para evaluar mejor su estado, se le practicaron un electrocardiograma (ECG), un ecocardiograma y una prueba de esfuerzo. El ECG reveló signos de arritmia cardiaca, mientras que el ecocardiograma mostró una función ventricular izquierda reducida. La prueba de esfuerzo indicó isquemia miocárdica inducida por el ejercicio, confirmando la presencia de enfermedad arterial coronaria (EAC)\"\"\",\n",
        "    ],\n",
        "    \"ner_clinical_it\": [\n",
        "        \"\"\"Una donna di 50 anni si è presentata alla clinica ortopedica lamentando dolore persistente, gonfiore e limitata capacità di movimento del ginocchio destro. La paziente ha riferito un'anamnesi di osteoartrite e un precedente infortunio al ginocchio. Sono stati eseguiti un esame clinico e delle radiografie che hanno rivelato un restringimento dello spazio articolare, la formazione di osteofiti e segni di degenerazione della cartilagine. Per confermare la diagnosi e valutarne la gravità, è stata ordinata una risonanza magnetica. La risonanza magnetica ha mostrato un'estesa perdita di cartilagine e alterazioni ossee coerenti con un'osteoartrite avanzata. Dopo aver considerato le condizioni e le preferenze del paziente, è stato discusso un piano di trattamento che prevedeva il controllo del dolore, la fisioterapia e la possibilità di un intervento di sostituzione dell'articolazione.\"\"\",\n",
        "        \"\"\"Un uomo di 45 anni si è presentato in clinica con una persistente mancanza di respiro e un fastidio al petto. L'anamnesi del paziente rivelava ipertensione e una storia familiare di malattie cardiovascolari. Un esame fisico iniziale indicava pressione alta e suoni cardiaci irregolari. Per valutare ulteriormente la condizione, sono stati eseguiti un elettrocardiogramma (ECG), un ecocardiogramma e un test da sforzo. L'ECG ha rivelato segni di aritmia cardiaca, mentre l'ecocardiogramma ha evidenziato una ridotta funzionalità del ventricolo sinistro. Il test da sforzo ha indicato un'ischemia miocardica indotta dall'esercizio, confermando la presenza di coronaropatia (CAD).\"\"\",\n",
        "    ],\n",
        "    \"ner_clinical_fr\": [\n",
        "        \"\"\"Une femme de 50 ans s'est présentée à la clinique orthopédique en se plaignant d'une douleur persistante, d'un gonflement et d'une limitation de l'amplitude de mouvement de son genou droit. La patiente a déclaré avoir des antécédents d'arthrose et s'être déjà blessée au genou. L'examen clinique et les radiographies effectuées ont révélé un rétrécissement de l'espace articulaire, la formation d'ostéophytes et des signes de dégénérescence du cartilage. Pour confirmer le diagnostic et en évaluer la gravité, une IRM a été demandée. L'IRM a montré une perte importante de cartilage et des modifications osseuses correspondant à une arthrose avancée. Après avoir pris en compte l'état de santé et les préférences du patient, un plan de traitement comprenant la prise en charge de la douleur, la kinésithérapie et la possibilité d'une arthroplastie a été discuté.\"\"\",\n",
        "        \"\"\"Un homme de 45 ans s'est présenté à la clinique avec un essoufflement persistant et une gêne thoracique. Les antécédents médicaux du patient révèlent une hypertension et des antécédents familiaux de maladies cardiovasculaires. L'examen physique initial a révélé une tension artérielle élevée et des bruits cardiaques irréguliers. Pour mieux évaluer la situation, un électrocardiogramme (ECG), un échocardiogramme et une épreuve d'effort ont été réalisés. L'ECG a révélé des signes d'arythmie cardiaque, tandis que l'échocardiographie a montré une réduction de la fonction ventriculaire gauche. L'épreuve d'effort a révélé une ischémie myocardique induite par l'exercice, confirmant la présence d'une maladie coronarienne.\"\"\",\n",
        "    ],\n",
        "}"
      ],
      "metadata": {
        "id": "Me28aFZNGVes"
      },
      "execution_count": 46,
      "outputs": []
    },
    {
      "cell_type": "markdown",
      "source": [
        "# ner_clinical_tr"
      ],
      "metadata": {
        "id": "G6uRReWhF8K5"
      }
    },
    {
      "cell_type": "code",
      "source": [
        "model_name = \"ner_clinical_tr\""
      ],
      "metadata": {
        "id": "6HCUKNg9F2cR"
      },
      "execution_count": 24,
      "outputs": []
    },
    {
      "cell_type": "code",
      "source": [
        "document_assembler = DocumentAssembler()\\\n",
        "    .setInputCol(\"text\")\\\n",
        "    .setOutputCol(\"document\")\n",
        "\n",
        "sentence_detector = SentenceDetectorDLModel.pretrained(\"sentence_detector_dl\", \"xx\")\\\n",
        "    .setInputCols([\"document\"])\\\n",
        "    .setOutputCol(\"sentence\")\n",
        "\n",
        "tokenizer = Tokenizer() \\\n",
        "    .setInputCols([\"sentence\"]) \\\n",
        "    .setOutputCol(\"token\")\\\n",
        "    .setSplitChars(['-'])\n",
        "\n",
        "embeddings = WordEmbeddingsModel.pretrained(\"w2v_cc_300d\",\"tr\") \\\n",
        "    .setInputCols([\"sentence\", \"token\"]) \\\n",
        "    .setOutputCol(\"embeddings\")\n",
        "\n",
        "ner = MedicalNerModel.pretrained(\"ner_clinical\", \"tr\", \"clinical/models\") \\\n",
        "    .setInputCols([\"sentence\", \"token\", \"embeddings\"]) \\\n",
        "    .setOutputCol(\"ner\")\n",
        "\n",
        "ner_converter = NerConverter() \\\n",
        "    .setInputCols([\"sentence\", \"token\", \"ner\"]) \\\n",
        "    .setOutputCol(\"ner_chunk\")\n",
        "\n",
        "pipeline = Pipeline(stages=[document_assembler,\n",
        "                        sentence_detector,\n",
        "                        tokenizer,\n",
        "                        embeddings,\n",
        "                        ner,\n",
        "                        ner_converter])\n",
        "\n"
      ],
      "metadata": {
        "colab": {
          "base_uri": "https://localhost:8080/"
        },
        "id": "IhaNr5ZMGQxN",
        "outputId": "45fe5e83-9218-480b-d7c7-1f993cee0c26"
      },
      "execution_count": 25,
      "outputs": [
        {
          "output_type": "stream",
          "name": "stdout",
          "text": [
            "sentence_detector_dl download started this may take some time.\n",
            "Approximate size to download 514.9 KB\n",
            "[OK!]\n",
            "w2v_cc_300d download started this may take some time.\n",
            "Approximate size to download 1.1 GB\n",
            "[OK!]\n",
            "ner_clinical download started this may take some time.\n",
            "[OK!]\n"
          ]
        }
      ]
    },
    {
      "cell_type": "code",
      "source": [
        "df = spark.createDataFrame(pd.DataFrame({'text':text_dict[model_name]}))\n",
        "result = pipeline.fit(df).transform(df)\n",
        "result.show\n",
        "\n",
        "\n",
        "result.select(F.explode(F.arrays_zip(\"ner_chunk.result\", \"ner_chunk.metadata\")).alias(\"cols\"))\\\n",
        "        .select(F.expr(\"cols['0']\").alias(\"chunk\"),\n",
        "                F.expr(\"cols['1']['entity']\").alias(\"ner_label\")).show(truncate=False)"
      ],
      "metadata": {
        "colab": {
          "base_uri": "https://localhost:8080/"
        },
        "id": "Ox7TX6a0R0rk",
        "outputId": "86865a35-f98f-4e7f-946b-ca4fcf804484"
      },
      "execution_count": 26,
      "outputs": [
        {
          "output_type": "stream",
          "name": "stdout",
          "text": [
            "+--------------------------------+---------+\n",
            "|chunk                           |ner_label|\n",
            "+--------------------------------+---------+\n",
            "|sürekli ağrı                    |PROBLEM  |\n",
            "|şişlik                          |PROBLEM  |\n",
            "|hareket kısıtlılığı             |PROBLEM  |\n",
            "|osteoartrit                     |PROBLEM  |\n",
            "|geçirilmiş diz yaralanması      |PROBLEM  |\n",
            "|eklem aralığında daralma        |PROBLEM  |\n",
            "|osteofit oluşumu                |PROBLEM  |\n",
            "|kıkırdak dejenerasyonu bulguları|PROBLEM  |\n",
            "|bir MR taraması                 |TEST     |\n",
            "|MRG                             |TEST     |\n",
            "|ileri osteoartrit               |PROBLEM  |\n",
            "|yoğun kıkırdak kaybı            |PROBLEM  |\n",
            "|kemik değişiklikleri            |PROBLEM  |\n",
            "|fizik tedavi                    |TREATMENT|\n",
            "|eklem replasmanı ameliyatı      |TREATMENT|\n",
            "|sürekli nefes darlığı           |PROBLEM  |\n",
            "|göğüs rahatsızlığı              |PROBLEM  |\n",
            "|hipertansiyon                   |PROBLEM  |\n",
            "|kardiyovasküler hastalık        |PROBLEM  |\n",
            "|İlk fizik muayenede             |TEST     |\n",
            "+--------------------------------+---------+\n",
            "only showing top 20 rows\n",
            "\n"
          ]
        }
      ]
    },
    {
      "cell_type": "code",
      "source": [
        "from sparknlp_display import NerVisualizer\n",
        "\n",
        "df = spark.createDataFrame(pd.DataFrame({'text': text_dict[model_name]}))\n",
        "result = pipeline.fit(df).transform(df)\n",
        "\n",
        "visualiser = NerVisualizer()\n",
        "\n",
        "for i in range(len(text_dict[model_name])):\n",
        "  visualiser.display(result = result.collect()[i] ,label_col = 'ner_chunk', document_col = 'document')\n",
        "  print(\"\\n\\n\")"
      ],
      "metadata": {
        "colab": {
          "base_uri": "https://localhost:8080/",
          "height": 547
        },
        "id": "kdoe0jVXSH2M",
        "outputId": "fe2f82da-bfb2-4f04-e38b-e2403e0f89c5"
      },
      "execution_count": 27,
      "outputs": [
        {
          "output_type": "display_data",
          "data": {
            "text/plain": [
              "<IPython.core.display.HTML object>"
            ],
            "text/html": [
              "\n",
              "<style>\n",
              "    @import url('https://fonts.googleapis.com/css2?family=Montserrat:wght@300;400;500;600;700&display=swap');\n",
              "    @import url('https://fonts.googleapis.com/css2?family=Vistol Regular:wght@300;400;500;600;700&display=swap');\n",
              "    \n",
              "    .spark-nlp-display-scroll-entities {\n",
              "        border: 1px solid #E7EDF0;\n",
              "        border-radius: 3px;\n",
              "        text-align: justify;\n",
              "        \n",
              "    }\n",
              "    .spark-nlp-display-scroll-entities span {  \n",
              "        font-size: 14px;\n",
              "        line-height: 24px;\n",
              "        color: #536B76;\n",
              "        font-family: 'Montserrat', sans-serif !important;\n",
              "    }\n",
              "    \n",
              "    .spark-nlp-display-entity-wrapper{\n",
              "    \n",
              "        display: inline-grid;\n",
              "        text-align: center;\n",
              "        border-radius: 4px;\n",
              "        margin: 0 2px 5px 2px;\n",
              "        padding: 1px\n",
              "    }\n",
              "    .spark-nlp-display-entity-name{\n",
              "        font-size: 14px;\n",
              "        line-height: 24px;\n",
              "        font-family: 'Montserrat', sans-serif !important;\n",
              "        \n",
              "        background: #f1f2f3;\n",
              "        border-width: medium;\n",
              "        text-align: center;\n",
              "        \n",
              "        font-weight: 400;\n",
              "        \n",
              "        border-radius: 5px;\n",
              "        padding: 2px 5px;\n",
              "        display: block;\n",
              "        margin: 3px 2px;\n",
              "    \n",
              "    }\n",
              "    .spark-nlp-display-entity-type{\n",
              "        font-size: 14px;\n",
              "        line-height: 24px;\n",
              "        color: #ffffff;\n",
              "        font-family: 'Montserrat', sans-serif !important;\n",
              "        \n",
              "        text-transform: uppercase;\n",
              "        \n",
              "        font-weight: 500;\n",
              "\n",
              "        display: block;\n",
              "        padding: 3px 5px;\n",
              "    }\n",
              "    \n",
              "    .spark-nlp-display-entity-resolution{\n",
              "        font-size: 14px;\n",
              "        line-height: 24px;\n",
              "        color: #ffffff;\n",
              "        font-family: 'Vistol Regular', sans-serif !important;\n",
              "        \n",
              "        text-transform: uppercase;\n",
              "        \n",
              "        font-weight: 500;\n",
              "\n",
              "        display: block;\n",
              "        padding: 3px 5px;\n",
              "    }\n",
              "    \n",
              "    .spark-nlp-display-others{\n",
              "        font-size: 14px;\n",
              "        line-height: 24px;\n",
              "        font-family: 'Montserrat', sans-serif !important;\n",
              "        \n",
              "        font-weight: 400;\n",
              "    }\n",
              "\n",
              "</style>\n",
              " <span class=\"spark-nlp-display-others\" style=\"background-color: white\">50 yaşında bir kadın hasta ortopedi kliniğine sağ dizinde </span><span class=\"spark-nlp-display-entity-wrapper\" style=\"background-color: #800080\"><span class=\"spark-nlp-display-entity-name\">sürekli ağrı </span><span class=\"spark-nlp-display-entity-type\">PROBLEM</span></span><span class=\"spark-nlp-display-others\" style=\"background-color: white\">, </span><span class=\"spark-nlp-display-entity-wrapper\" style=\"background-color: #800080\"><span class=\"spark-nlp-display-entity-name\">şişlik </span><span class=\"spark-nlp-display-entity-type\">PROBLEM</span></span><span class=\"spark-nlp-display-others\" style=\"background-color: white\"> ve </span><span class=\"spark-nlp-display-entity-wrapper\" style=\"background-color: #800080\"><span class=\"spark-nlp-display-entity-name\">hareket kısıtlılığı </span><span class=\"spark-nlp-display-entity-type\">PROBLEM</span></span><span class=\"spark-nlp-display-others\" style=\"background-color: white\"> şikâyetleriyle başvurdu. Hasta </span><span class=\"spark-nlp-display-entity-wrapper\" style=\"background-color: #800080\"><span class=\"spark-nlp-display-entity-name\">osteoartrit </span><span class=\"spark-nlp-display-entity-type\">PROBLEM</span></span><span class=\"spark-nlp-display-others\" style=\"background-color: white\"> ve daha önce </span><span class=\"spark-nlp-display-entity-wrapper\" style=\"background-color: #800080\"><span class=\"spark-nlp-display-entity-name\">geçirilmiş diz yaralanması </span><span class=\"spark-nlp-display-entity-type\">PROBLEM</span></span><span class=\"spark-nlp-display-others\" style=\"background-color: white\"> öyküsü bildirdi. Klinik muayene ve çekilen röntgenlerde </span><span class=\"spark-nlp-display-entity-wrapper\" style=\"background-color: #800080\"><span class=\"spark-nlp-display-entity-name\">eklem aralığında daralma </span><span class=\"spark-nlp-display-entity-type\">PROBLEM</span></span><span class=\"spark-nlp-display-others\" style=\"background-color: white\">, </span><span class=\"spark-nlp-display-entity-wrapper\" style=\"background-color: #800080\"><span class=\"spark-nlp-display-entity-name\">osteofit oluşumu </span><span class=\"spark-nlp-display-entity-type\">PROBLEM</span></span><span class=\"spark-nlp-display-others\" style=\"background-color: white\"> ve </span><span class=\"spark-nlp-display-entity-wrapper\" style=\"background-color: #800080\"><span class=\"spark-nlp-display-entity-name\">kıkırdak dejenerasyonu bulguları </span><span class=\"spark-nlp-display-entity-type\">PROBLEM</span></span><span class=\"spark-nlp-display-others\" style=\"background-color: white\"> tespit edildi. Tanıyı doğrulamak ve ciddiyetini değerlendirmek için </span><span class=\"spark-nlp-display-entity-wrapper\" style=\"background-color: #77b5fe\"><span class=\"spark-nlp-display-entity-name\">bir MR taraması </span><span class=\"spark-nlp-display-entity-type\">TEST</span></span><span class=\"spark-nlp-display-others\" style=\"background-color: white\"> istendi. </span><span class=\"spark-nlp-display-entity-wrapper\" style=\"background-color: #77b5fe\"><span class=\"spark-nlp-display-entity-name\">MRG </span><span class=\"spark-nlp-display-entity-type\">TEST</span></span><span class=\"spark-nlp-display-others\" style=\"background-color: white\">, </span><span class=\"spark-nlp-display-entity-wrapper\" style=\"background-color: #800080\"><span class=\"spark-nlp-display-entity-name\">ileri osteoartrit </span><span class=\"spark-nlp-display-entity-type\">PROBLEM</span></span><span class=\"spark-nlp-display-others\" style=\"background-color: white\"> ile uyumlu </span><span class=\"spark-nlp-display-entity-wrapper\" style=\"background-color: #800080\"><span class=\"spark-nlp-display-entity-name\">yoğun kıkırdak kaybı </span><span class=\"spark-nlp-display-entity-type\">PROBLEM</span></span><span class=\"spark-nlp-display-others\" style=\"background-color: white\"> ve </span><span class=\"spark-nlp-display-entity-wrapper\" style=\"background-color: #800080\"><span class=\"spark-nlp-display-entity-name\">kemik değişiklikleri </span><span class=\"spark-nlp-display-entity-type\">PROBLEM</span></span><span class=\"spark-nlp-display-others\" style=\"background-color: white\"> gösterdi. Hastanın durumu ve tercihleri göz önünde bulundurulduktan sonra  </span><span class=\"spark-nlp-display-entity-wrapper\" style=\"background-color: #8b6673\"><span class=\"spark-nlp-display-entity-name\">fizik tedavi </span><span class=\"spark-nlp-display-entity-type\">TREATMENT</span></span><span class=\"spark-nlp-display-others\" style=\"background-color: white\"> ve </span><span class=\"spark-nlp-display-entity-wrapper\" style=\"background-color: #8b6673\"><span class=\"spark-nlp-display-entity-name\">eklem replasmanı ameliyatı </span><span class=\"spark-nlp-display-entity-type\">TREATMENT</span></span><span class=\"spark-nlp-display-others\" style=\"background-color: white\"> olasılığını içeren bir tedavi planı tartışıldı.</span></div>"
            ]
          },
          "metadata": {}
        },
        {
          "output_type": "stream",
          "name": "stdout",
          "text": [
            "\n",
            "\n",
            "\n"
          ]
        },
        {
          "output_type": "display_data",
          "data": {
            "text/plain": [
              "<IPython.core.display.HTML object>"
            ],
            "text/html": [
              "\n",
              "<style>\n",
              "    @import url('https://fonts.googleapis.com/css2?family=Montserrat:wght@300;400;500;600;700&display=swap');\n",
              "    @import url('https://fonts.googleapis.com/css2?family=Vistol Regular:wght@300;400;500;600;700&display=swap');\n",
              "    \n",
              "    .spark-nlp-display-scroll-entities {\n",
              "        border: 1px solid #E7EDF0;\n",
              "        border-radius: 3px;\n",
              "        text-align: justify;\n",
              "        \n",
              "    }\n",
              "    .spark-nlp-display-scroll-entities span {  \n",
              "        font-size: 14px;\n",
              "        line-height: 24px;\n",
              "        color: #536B76;\n",
              "        font-family: 'Montserrat', sans-serif !important;\n",
              "    }\n",
              "    \n",
              "    .spark-nlp-display-entity-wrapper{\n",
              "    \n",
              "        display: inline-grid;\n",
              "        text-align: center;\n",
              "        border-radius: 4px;\n",
              "        margin: 0 2px 5px 2px;\n",
              "        padding: 1px\n",
              "    }\n",
              "    .spark-nlp-display-entity-name{\n",
              "        font-size: 14px;\n",
              "        line-height: 24px;\n",
              "        font-family: 'Montserrat', sans-serif !important;\n",
              "        \n",
              "        background: #f1f2f3;\n",
              "        border-width: medium;\n",
              "        text-align: center;\n",
              "        \n",
              "        font-weight: 400;\n",
              "        \n",
              "        border-radius: 5px;\n",
              "        padding: 2px 5px;\n",
              "        display: block;\n",
              "        margin: 3px 2px;\n",
              "    \n",
              "    }\n",
              "    .spark-nlp-display-entity-type{\n",
              "        font-size: 14px;\n",
              "        line-height: 24px;\n",
              "        color: #ffffff;\n",
              "        font-family: 'Montserrat', sans-serif !important;\n",
              "        \n",
              "        text-transform: uppercase;\n",
              "        \n",
              "        font-weight: 500;\n",
              "\n",
              "        display: block;\n",
              "        padding: 3px 5px;\n",
              "    }\n",
              "    \n",
              "    .spark-nlp-display-entity-resolution{\n",
              "        font-size: 14px;\n",
              "        line-height: 24px;\n",
              "        color: #ffffff;\n",
              "        font-family: 'Vistol Regular', sans-serif !important;\n",
              "        \n",
              "        text-transform: uppercase;\n",
              "        \n",
              "        font-weight: 500;\n",
              "\n",
              "        display: block;\n",
              "        padding: 3px 5px;\n",
              "    }\n",
              "    \n",
              "    .spark-nlp-display-others{\n",
              "        font-size: 14px;\n",
              "        line-height: 24px;\n",
              "        font-family: 'Montserrat', sans-serif !important;\n",
              "        \n",
              "        font-weight: 400;\n",
              "    }\n",
              "\n",
              "</style>\n",
              " <span class=\"spark-nlp-display-others\" style=\"background-color: white\">45 yaşında bir erkek hasta kliniğe </span><span class=\"spark-nlp-display-entity-wrapper\" style=\"background-color: #800080\"><span class=\"spark-nlp-display-entity-name\">sürekli nefes darlığı </span><span class=\"spark-nlp-display-entity-type\">PROBLEM</span></span><span class=\"spark-nlp-display-others\" style=\"background-color: white\"> ve </span><span class=\"spark-nlp-display-entity-wrapper\" style=\"background-color: #800080\"><span class=\"spark-nlp-display-entity-name\">göğüs rahatsızlığı </span><span class=\"spark-nlp-display-entity-type\">PROBLEM</span></span><span class=\"spark-nlp-display-others\" style=\"background-color: white\"> şikâyetiyle başvurdu. Hastanın tıbbi geçmişinde </span><span class=\"spark-nlp-display-entity-wrapper\" style=\"background-color: #800080\"><span class=\"spark-nlp-display-entity-name\">hipertansiyon </span><span class=\"spark-nlp-display-entity-type\">PROBLEM</span></span><span class=\"spark-nlp-display-others\" style=\"background-color: white\"> ve ailede </span><span class=\"spark-nlp-display-entity-wrapper\" style=\"background-color: #800080\"><span class=\"spark-nlp-display-entity-name\">kardiyovasküler hastalık </span><span class=\"spark-nlp-display-entity-type\">PROBLEM</span></span><span class=\"spark-nlp-display-others\" style=\"background-color: white\"> öyküsü vardı. </span><span class=\"spark-nlp-display-entity-wrapper\" style=\"background-color: #77b5fe\"><span class=\"spark-nlp-display-entity-name\">İlk fizik muayenede </span><span class=\"spark-nlp-display-entity-type\">TEST</span></span><span class=\"spark-nlp-display-others\" style=\"background-color: white\"> </span><span class=\"spark-nlp-display-entity-wrapper\" style=\"background-color: #800080\"><span class=\"spark-nlp-display-entity-name\">yüksek kan basıncı </span><span class=\"spark-nlp-display-entity-type\">PROBLEM</span></span><span class=\"spark-nlp-display-others\" style=\"background-color: white\"> ve </span><span class=\"spark-nlp-display-entity-wrapper\" style=\"background-color: #800080\"><span class=\"spark-nlp-display-entity-name\">düzensiz kalp sesleri </span><span class=\"spark-nlp-display-entity-type\">PROBLEM</span></span><span class=\"spark-nlp-display-others\" style=\"background-color: white\"> tespit edildi. Durumu daha iyi değerlendirmek için </span><span class=\"spark-nlp-display-entity-wrapper\" style=\"background-color: #77b5fe\"><span class=\"spark-nlp-display-entity-name\">elektrokardiyogram </span><span class=\"spark-nlp-display-entity-type\">TEST</span></span><span class=\"spark-nlp-display-others\" style=\"background-color: white\"> (</span><span class=\"spark-nlp-display-entity-wrapper\" style=\"background-color: #77b5fe\"><span class=\"spark-nlp-display-entity-name\">EKG </span><span class=\"spark-nlp-display-entity-type\">TEST</span></span><span class=\"spark-nlp-display-others\" style=\"background-color: white\">), </span><span class=\"spark-nlp-display-entity-wrapper\" style=\"background-color: #77b5fe\"><span class=\"spark-nlp-display-entity-name\">ekokardiyogram </span><span class=\"spark-nlp-display-entity-type\">TEST</span></span><span class=\"spark-nlp-display-others\" style=\"background-color: white\"> ve </span><span class=\"spark-nlp-display-entity-wrapper\" style=\"background-color: #77b5fe\"><span class=\"spark-nlp-display-entity-name\">efor testi </span><span class=\"spark-nlp-display-entity-type\">TEST</span></span><span class=\"spark-nlp-display-others\" style=\"background-color: white\"> yapıldı. EKG'de </span><span class=\"spark-nlp-display-entity-wrapper\" style=\"background-color: #800080\"><span class=\"spark-nlp-display-entity-name\">kardiyak aritmi belirtileri </span><span class=\"spark-nlp-display-entity-type\">PROBLEM</span></span><span class=\"spark-nlp-display-others\" style=\"background-color: white\"> görülürken, ekokardiyogramda sol ventrikül fonksiyonunun azaldığı görüldü. Efor testi egzersize bağlı </span><span class=\"spark-nlp-display-entity-wrapper\" style=\"background-color: #800080\"><span class=\"spark-nlp-display-entity-name\">miyokardiyal iskemiyi </span><span class=\"spark-nlp-display-entity-type\">PROBLEM</span></span><span class=\"spark-nlp-display-others\" style=\"background-color: white\"> göstererek </span><span class=\"spark-nlp-display-entity-wrapper\" style=\"background-color: #800080\"><span class=\"spark-nlp-display-entity-name\">koroner arter </span><span class=\"spark-nlp-display-entity-type\">PROBLEM</span></span><span class=\"spark-nlp-display-others\" style=\"background-color: white\"> hastalığının (</span><span class=\"spark-nlp-display-entity-wrapper\" style=\"background-color: #800080\"><span class=\"spark-nlp-display-entity-name\">KAH </span><span class=\"spark-nlp-display-entity-type\">PROBLEM</span></span><span class=\"spark-nlp-display-others\" style=\"background-color: white\">) varlığını doğrulamıştır.</span></div>"
            ]
          },
          "metadata": {}
        },
        {
          "output_type": "stream",
          "name": "stdout",
          "text": [
            "\n",
            "\n",
            "\n"
          ]
        }
      ]
    },
    {
      "cell_type": "markdown",
      "source": [
        "# ner_clinical_pt"
      ],
      "metadata": {
        "id": "wKWtV5y3SP-N"
      }
    },
    {
      "cell_type": "code",
      "source": [
        "model_name = \"ner_clinical_pt\""
      ],
      "metadata": {
        "id": "ZB1NXfKmSQhM"
      },
      "execution_count": 28,
      "outputs": []
    },
    {
      "cell_type": "code",
      "source": [
        "document_assembler = DocumentAssembler()\\\n",
        "    .setInputCol(\"text\")\\\n",
        "    .setOutputCol(\"document\")\n",
        "\n",
        "sentence_detector = SentenceDetectorDLModel.pretrained(\"sentence_detector_dl\", \"xx\")\\\n",
        "    .setInputCols([\"document\"])\\\n",
        "    .setOutputCol(\"sentence\")\n",
        "\n",
        "tokenizer = Tokenizer() \\\n",
        "    .setInputCols([\"sentence\"]) \\\n",
        "    .setOutputCol(\"token\")\\\n",
        "    .setSplitChars(['-'])\n",
        "\n",
        "embeddings = WordEmbeddingsModel.pretrained(\"w2v_cc_300d\",\"pt\") \\\n",
        "    .setInputCols([\"sentence\", \"token\"]) \\\n",
        "    .setOutputCol(\"embeddings\")\n",
        "\n",
        "ner = MedicalNerModel.pretrained(\"ner_clinical\", \"pt\", \"clinical/models\") \\\n",
        "    .setInputCols([\"sentence\", \"token\", \"embeddings\"]) \\\n",
        "    .setOutputCol(\"ner\")\n",
        "\n",
        "ner_converter = NerConverter() \\\n",
        "    .setInputCols([\"sentence\", \"token\", \"ner\"]) \\\n",
        "    .setOutputCol(\"ner_chunk\")\n",
        "\n",
        "pipeline = Pipeline(stages=[document_assembler,\n",
        "                        sentence_detector,\n",
        "                        tokenizer,\n",
        "                        embeddings,\n",
        "                        ner,\n",
        "                        ner_converter])\n",
        "\n"
      ],
      "metadata": {
        "colab": {
          "base_uri": "https://localhost:8080/"
        },
        "id": "PQorhQ9xSW67",
        "outputId": "d11a78a5-5c9d-4187-8612-32d477f55578"
      },
      "execution_count": 29,
      "outputs": [
        {
          "output_type": "stream",
          "name": "stdout",
          "text": [
            "sentence_detector_dl download started this may take some time.\n",
            "Approximate size to download 514.9 KB\n",
            "[OK!]\n",
            "w2v_cc_300d download started this may take some time.\n",
            "Approximate size to download 1.1 GB\n",
            "[OK!]\n",
            "ner_clinical download started this may take some time.\n",
            "[OK!]\n"
          ]
        }
      ]
    },
    {
      "cell_type": "code",
      "source": [
        "df = spark.createDataFrame(pd.DataFrame({'text':text_dict[model_name]}))\n",
        "result = pipeline.fit(df).transform(df)\n",
        "result.show\n",
        "\n",
        "\n",
        "result.select(F.explode(F.arrays_zip(\"ner_chunk.result\", \"ner_chunk.metadata\")).alias(\"cols\"))\\\n",
        "        .select(F.expr(\"cols['0']\").alias(\"chunk\"),\n",
        "                F.expr(\"cols['1']['entity']\").alias(\"ner_label\")).show(truncate=False)"
      ],
      "metadata": {
        "colab": {
          "base_uri": "https://localhost:8080/"
        },
        "id": "oQBjy98mSaJu",
        "outputId": "3e839543-7514-4bd0-fe1e-9aae07527bd7"
      },
      "execution_count": 30,
      "outputs": [
        {
          "output_type": "stream",
          "name": "stdout",
          "text": [
            "+------------------------------------------------------+---------+\n",
            "|chunk                                                 |ner_label|\n",
            "+------------------------------------------------------+---------+\n",
            "|dor persistente                                       |PROBLEM  |\n",
            "|inchaço                                               |PROBLEM  |\n",
            "|limitação da amplitude de movimentos no joelho direito|PROBLEM  |\n",
            "|osteoartrite                                          |PROBLEM  |\n",
            "|uma lesão anterior no joelho                          |PROBLEM  |\n",
            "|exame clínico                                         |TEST     |\n",
            "|radiografias                                          |TEST     |\n",
            "|estreitamento do espaço articular                     |PROBLEM  |\n",
            "|osteófitos                                            |PROBLEM  |\n",
            "|sinais de degeneração da cartilagem                   |PROBLEM  |\n",
            "|uma ressonância magnética                             |TEST     |\n",
            "|A RM                                                  |TEST     |\n",
            "|perda extensa de cartilagem                           |PROBLEM  |\n",
            "|alterações ósseas                                     |PROBLEM  |\n",
            "|osteoartrite avançada                                 |PROBLEM  |\n",
            "|dor                                                   |PROBLEM  |\n",
            "|fisioterapia                                          |TREATMENT|\n",
            "|cirurgia de substituição da articulação               |TREATMENT|\n",
            "|falta de ar persistente                               |PROBLEM  |\n",
            "|desconforto no peito                                  |PROBLEM  |\n",
            "+------------------------------------------------------+---------+\n",
            "only showing top 20 rows\n",
            "\n"
          ]
        }
      ]
    },
    {
      "cell_type": "code",
      "source": [
        "from sparknlp_display import NerVisualizer\n",
        "\n",
        "df = spark.createDataFrame(pd.DataFrame({'text': text_dict[model_name]}))\n",
        "result = pipeline.fit(df).transform(df)\n",
        "\n",
        "visualiser = NerVisualizer()\n",
        "\n",
        "for i in range(len(text_dict[model_name])):\n",
        "  visualiser.display(result = result.collect()[i] ,label_col = 'ner_chunk', document_col = 'document')\n",
        "  print(\"\\n\\n\")"
      ],
      "metadata": {
        "colab": {
          "base_uri": "https://localhost:8080/",
          "height": 618
        },
        "id": "ERAKxXc8SaJu",
        "outputId": "b4280e83-b201-4a2c-ed02-9cd7f3a78589"
      },
      "execution_count": 31,
      "outputs": [
        {
          "output_type": "display_data",
          "data": {
            "text/plain": [
              "<IPython.core.display.HTML object>"
            ],
            "text/html": [
              "\n",
              "<style>\n",
              "    @import url('https://fonts.googleapis.com/css2?family=Montserrat:wght@300;400;500;600;700&display=swap');\n",
              "    @import url('https://fonts.googleapis.com/css2?family=Vistol Regular:wght@300;400;500;600;700&display=swap');\n",
              "    \n",
              "    .spark-nlp-display-scroll-entities {\n",
              "        border: 1px solid #E7EDF0;\n",
              "        border-radius: 3px;\n",
              "        text-align: justify;\n",
              "        \n",
              "    }\n",
              "    .spark-nlp-display-scroll-entities span {  \n",
              "        font-size: 14px;\n",
              "        line-height: 24px;\n",
              "        color: #536B76;\n",
              "        font-family: 'Montserrat', sans-serif !important;\n",
              "    }\n",
              "    \n",
              "    .spark-nlp-display-entity-wrapper{\n",
              "    \n",
              "        display: inline-grid;\n",
              "        text-align: center;\n",
              "        border-radius: 4px;\n",
              "        margin: 0 2px 5px 2px;\n",
              "        padding: 1px\n",
              "    }\n",
              "    .spark-nlp-display-entity-name{\n",
              "        font-size: 14px;\n",
              "        line-height: 24px;\n",
              "        font-family: 'Montserrat', sans-serif !important;\n",
              "        \n",
              "        background: #f1f2f3;\n",
              "        border-width: medium;\n",
              "        text-align: center;\n",
              "        \n",
              "        font-weight: 400;\n",
              "        \n",
              "        border-radius: 5px;\n",
              "        padding: 2px 5px;\n",
              "        display: block;\n",
              "        margin: 3px 2px;\n",
              "    \n",
              "    }\n",
              "    .spark-nlp-display-entity-type{\n",
              "        font-size: 14px;\n",
              "        line-height: 24px;\n",
              "        color: #ffffff;\n",
              "        font-family: 'Montserrat', sans-serif !important;\n",
              "        \n",
              "        text-transform: uppercase;\n",
              "        \n",
              "        font-weight: 500;\n",
              "\n",
              "        display: block;\n",
              "        padding: 3px 5px;\n",
              "    }\n",
              "    \n",
              "    .spark-nlp-display-entity-resolution{\n",
              "        font-size: 14px;\n",
              "        line-height: 24px;\n",
              "        color: #ffffff;\n",
              "        font-family: 'Vistol Regular', sans-serif !important;\n",
              "        \n",
              "        text-transform: uppercase;\n",
              "        \n",
              "        font-weight: 500;\n",
              "\n",
              "        display: block;\n",
              "        padding: 3px 5px;\n",
              "    }\n",
              "    \n",
              "    .spark-nlp-display-others{\n",
              "        font-size: 14px;\n",
              "        line-height: 24px;\n",
              "        font-family: 'Montserrat', sans-serif !important;\n",
              "        \n",
              "        font-weight: 400;\n",
              "    }\n",
              "\n",
              "</style>\n",
              " <span class=\"spark-nlp-display-others\" style=\"background-color: white\">Uma mulher de 50 anos veio à clínica ortopédica com queixas de </span><span class=\"spark-nlp-display-entity-wrapper\" style=\"background-color: #800080\"><span class=\"spark-nlp-display-entity-name\">dor persistente </span><span class=\"spark-nlp-display-entity-type\">PROBLEM</span></span><span class=\"spark-nlp-display-others\" style=\"background-color: white\">, </span><span class=\"spark-nlp-display-entity-wrapper\" style=\"background-color: #800080\"><span class=\"spark-nlp-display-entity-name\">inchaço </span><span class=\"spark-nlp-display-entity-type\">PROBLEM</span></span><span class=\"spark-nlp-display-others\" style=\"background-color: white\"> e </span><span class=\"spark-nlp-display-entity-wrapper\" style=\"background-color: #800080\"><span class=\"spark-nlp-display-entity-name\">limitação da amplitude de movimentos no joelho direito </span><span class=\"spark-nlp-display-entity-type\">PROBLEM</span></span><span class=\"spark-nlp-display-others\" style=\"background-color: white\">. A doente referia uma história de </span><span class=\"spark-nlp-display-entity-wrapper\" style=\"background-color: #800080\"><span class=\"spark-nlp-display-entity-name\">osteoartrite </span><span class=\"spark-nlp-display-entity-type\">PROBLEM</span></span><span class=\"spark-nlp-display-others\" style=\"background-color: white\"> e </span><span class=\"spark-nlp-display-entity-wrapper\" style=\"background-color: #800080\"><span class=\"spark-nlp-display-entity-name\">uma lesão anterior no joelho </span><span class=\"spark-nlp-display-entity-type\">PROBLEM</span></span><span class=\"spark-nlp-display-others\" style=\"background-color: white\">. Foi efectuado um </span><span class=\"spark-nlp-display-entity-wrapper\" style=\"background-color: #77b5fe\"><span class=\"spark-nlp-display-entity-name\">exame clínico </span><span class=\"spark-nlp-display-entity-type\">TEST</span></span><span class=\"spark-nlp-display-others\" style=\"background-color: white\"> e </span><span class=\"spark-nlp-display-entity-wrapper\" style=\"background-color: #77b5fe\"><span class=\"spark-nlp-display-entity-name\">radiografias </span><span class=\"spark-nlp-display-entity-type\">TEST</span></span><span class=\"spark-nlp-display-others\" style=\"background-color: white\"> que revelaram um </span><span class=\"spark-nlp-display-entity-wrapper\" style=\"background-color: #800080\"><span class=\"spark-nlp-display-entity-name\">estreitamento do espaço articular </span><span class=\"spark-nlp-display-entity-type\">PROBLEM</span></span><span class=\"spark-nlp-display-others\" style=\"background-color: white\">, formação de </span><span class=\"spark-nlp-display-entity-wrapper\" style=\"background-color: #800080\"><span class=\"spark-nlp-display-entity-name\">osteófitos </span><span class=\"spark-nlp-display-entity-type\">PROBLEM</span></span><span class=\"spark-nlp-display-others\" style=\"background-color: white\"> e </span><span class=\"spark-nlp-display-entity-wrapper\" style=\"background-color: #800080\"><span class=\"spark-nlp-display-entity-name\">sinais de degeneração da cartilagem </span><span class=\"spark-nlp-display-entity-type\">PROBLEM</span></span><span class=\"spark-nlp-display-others\" style=\"background-color: white\">. Para confirmar o diagnóstico e avaliar a gravidade, foi pedida </span><span class=\"spark-nlp-display-entity-wrapper\" style=\"background-color: #77b5fe\"><span class=\"spark-nlp-display-entity-name\">uma ressonância magnética </span><span class=\"spark-nlp-display-entity-type\">TEST</span></span><span class=\"spark-nlp-display-others\" style=\"background-color: white\">. </span><span class=\"spark-nlp-display-entity-wrapper\" style=\"background-color: #77b5fe\"><span class=\"spark-nlp-display-entity-name\">A RM </span><span class=\"spark-nlp-display-entity-type\">TEST</span></span><span class=\"spark-nlp-display-others\" style=\"background-color: white\"> mostrou uma </span><span class=\"spark-nlp-display-entity-wrapper\" style=\"background-color: #800080\"><span class=\"spark-nlp-display-entity-name\">perda extensa de cartilagem </span><span class=\"spark-nlp-display-entity-type\">PROBLEM</span></span><span class=\"spark-nlp-display-others\" style=\"background-color: white\"> e </span><span class=\"spark-nlp-display-entity-wrapper\" style=\"background-color: #800080\"><span class=\"spark-nlp-display-entity-name\">alterações ósseas </span><span class=\"spark-nlp-display-entity-type\">PROBLEM</span></span><span class=\"spark-nlp-display-others\" style=\"background-color: white\"> consistentes com </span><span class=\"spark-nlp-display-entity-wrapper\" style=\"background-color: #800080\"><span class=\"spark-nlp-display-entity-name\">osteoartrite avançada </span><span class=\"spark-nlp-display-entity-type\">PROBLEM</span></span><span class=\"spark-nlp-display-others\" style=\"background-color: white\">. Depois de considerar a condição e as preferências do doente, foi discutido um plano de tratamento que envolvia o controlo da </span><span class=\"spark-nlp-display-entity-wrapper\" style=\"background-color: #800080\"><span class=\"spark-nlp-display-entity-name\">dor </span><span class=\"spark-nlp-display-entity-type\">PROBLEM</span></span><span class=\"spark-nlp-display-others\" style=\"background-color: white\">, </span><span class=\"spark-nlp-display-entity-wrapper\" style=\"background-color: #8b6673\"><span class=\"spark-nlp-display-entity-name\">fisioterapia </span><span class=\"spark-nlp-display-entity-type\">TREATMENT</span></span><span class=\"spark-nlp-display-others\" style=\"background-color: white\"> e a possibilidade de </span><span class=\"spark-nlp-display-entity-wrapper\" style=\"background-color: #8b6673\"><span class=\"spark-nlp-display-entity-name\">cirurgia de substituição da articulação </span><span class=\"spark-nlp-display-entity-type\">TREATMENT</span></span><span class=\"spark-nlp-display-others\" style=\"background-color: white\">.</span></div>"
            ]
          },
          "metadata": {}
        },
        {
          "output_type": "stream",
          "name": "stdout",
          "text": [
            "\n",
            "\n",
            "\n"
          ]
        },
        {
          "output_type": "display_data",
          "data": {
            "text/plain": [
              "<IPython.core.display.HTML object>"
            ],
            "text/html": [
              "\n",
              "<style>\n",
              "    @import url('https://fonts.googleapis.com/css2?family=Montserrat:wght@300;400;500;600;700&display=swap');\n",
              "    @import url('https://fonts.googleapis.com/css2?family=Vistol Regular:wght@300;400;500;600;700&display=swap');\n",
              "    \n",
              "    .spark-nlp-display-scroll-entities {\n",
              "        border: 1px solid #E7EDF0;\n",
              "        border-radius: 3px;\n",
              "        text-align: justify;\n",
              "        \n",
              "    }\n",
              "    .spark-nlp-display-scroll-entities span {  \n",
              "        font-size: 14px;\n",
              "        line-height: 24px;\n",
              "        color: #536B76;\n",
              "        font-family: 'Montserrat', sans-serif !important;\n",
              "    }\n",
              "    \n",
              "    .spark-nlp-display-entity-wrapper{\n",
              "    \n",
              "        display: inline-grid;\n",
              "        text-align: center;\n",
              "        border-radius: 4px;\n",
              "        margin: 0 2px 5px 2px;\n",
              "        padding: 1px\n",
              "    }\n",
              "    .spark-nlp-display-entity-name{\n",
              "        font-size: 14px;\n",
              "        line-height: 24px;\n",
              "        font-family: 'Montserrat', sans-serif !important;\n",
              "        \n",
              "        background: #f1f2f3;\n",
              "        border-width: medium;\n",
              "        text-align: center;\n",
              "        \n",
              "        font-weight: 400;\n",
              "        \n",
              "        border-radius: 5px;\n",
              "        padding: 2px 5px;\n",
              "        display: block;\n",
              "        margin: 3px 2px;\n",
              "    \n",
              "    }\n",
              "    .spark-nlp-display-entity-type{\n",
              "        font-size: 14px;\n",
              "        line-height: 24px;\n",
              "        color: #ffffff;\n",
              "        font-family: 'Montserrat', sans-serif !important;\n",
              "        \n",
              "        text-transform: uppercase;\n",
              "        \n",
              "        font-weight: 500;\n",
              "\n",
              "        display: block;\n",
              "        padding: 3px 5px;\n",
              "    }\n",
              "    \n",
              "    .spark-nlp-display-entity-resolution{\n",
              "        font-size: 14px;\n",
              "        line-height: 24px;\n",
              "        color: #ffffff;\n",
              "        font-family: 'Vistol Regular', sans-serif !important;\n",
              "        \n",
              "        text-transform: uppercase;\n",
              "        \n",
              "        font-weight: 500;\n",
              "\n",
              "        display: block;\n",
              "        padding: 3px 5px;\n",
              "    }\n",
              "    \n",
              "    .spark-nlp-display-others{\n",
              "        font-size: 14px;\n",
              "        line-height: 24px;\n",
              "        font-family: 'Montserrat', sans-serif !important;\n",
              "        \n",
              "        font-weight: 400;\n",
              "    }\n",
              "\n",
              "</style>\n",
              " <span class=\"spark-nlp-display-others\" style=\"background-color: white\">Um homem de 45 anos apresentou-se na clínica com </span><span class=\"spark-nlp-display-entity-wrapper\" style=\"background-color: #800080\"><span class=\"spark-nlp-display-entity-name\">falta de ar persistente </span><span class=\"spark-nlp-display-entity-type\">PROBLEM</span></span><span class=\"spark-nlp-display-others\" style=\"background-color: white\"> e </span><span class=\"spark-nlp-display-entity-wrapper\" style=\"background-color: #800080\"><span class=\"spark-nlp-display-entity-name\">desconforto no peito </span><span class=\"spark-nlp-display-entity-type\">PROBLEM</span></span><span class=\"spark-nlp-display-others\" style=\"background-color: white\">. A história clínica do doente revelava </span><span class=\"spark-nlp-display-entity-wrapper\" style=\"background-color: #800080\"><span class=\"spark-nlp-display-entity-name\">hipertensão </span><span class=\"spark-nlp-display-entity-type\">PROBLEM</span></span><span class=\"spark-nlp-display-others\" style=\"background-color: white\"> e uma história familiar de </span><span class=\"spark-nlp-display-entity-wrapper\" style=\"background-color: #800080\"><span class=\"spark-nlp-display-entity-name\">doença cardiovascular </span><span class=\"spark-nlp-display-entity-type\">PROBLEM</span></span><span class=\"spark-nlp-display-others\" style=\"background-color: white\">. </span><span class=\"spark-nlp-display-entity-wrapper\" style=\"background-color: #77b5fe\"><span class=\"spark-nlp-display-entity-name\">Um exame físico inicial </span><span class=\"spark-nlp-display-entity-type\">TEST</span></span><span class=\"spark-nlp-display-others\" style=\"background-color: white\"> indicou uma </span><span class=\"spark-nlp-display-entity-wrapper\" style=\"background-color: #800080\"><span class=\"spark-nlp-display-entity-name\">tensão arterial elevada </span><span class=\"spark-nlp-display-entity-type\">PROBLEM</span></span><span class=\"spark-nlp-display-others\" style=\"background-color: white\"> e </span><span class=\"spark-nlp-display-entity-wrapper\" style=\"background-color: #800080\"><span class=\"spark-nlp-display-entity-name\">sons cardíacos irregulares </span><span class=\"spark-nlp-display-entity-type\">PROBLEM</span></span><span class=\"spark-nlp-display-others\" style=\"background-color: white\">. Para avaliar melhor a condição, foram realizados um </span><span class=\"spark-nlp-display-entity-wrapper\" style=\"background-color: #77b5fe\"><span class=\"spark-nlp-display-entity-name\">eletrocardiograma </span><span class=\"spark-nlp-display-entity-type\">TEST</span></span><span class=\"spark-nlp-display-others\" style=\"background-color: white\"> (</span><span class=\"spark-nlp-display-entity-wrapper\" style=\"background-color: #77b5fe\"><span class=\"spark-nlp-display-entity-name\">ECG </span><span class=\"spark-nlp-display-entity-type\">TEST</span></span><span class=\"spark-nlp-display-others\" style=\"background-color: white\">), um </span><span class=\"spark-nlp-display-entity-wrapper\" style=\"background-color: #77b5fe\"><span class=\"spark-nlp-display-entity-name\">ecocardiograma </span><span class=\"spark-nlp-display-entity-type\">TEST</span></span><span class=\"spark-nlp-display-others\" style=\"background-color: white\"> e </span><span class=\"spark-nlp-display-entity-wrapper\" style=\"background-color: #77b5fe\"><span class=\"spark-nlp-display-entity-name\">uma prova de esforço </span><span class=\"spark-nlp-display-entity-type\">TEST</span></span><span class=\"spark-nlp-display-others\" style=\"background-color: white\">. </span><span class=\"spark-nlp-display-entity-wrapper\" style=\"background-color: #77b5fe\"><span class=\"spark-nlp-display-entity-name\">O ECG </span><span class=\"spark-nlp-display-entity-type\">TEST</span></span><span class=\"spark-nlp-display-others\" style=\"background-color: white\"> revelou sinais de </span><span class=\"spark-nlp-display-entity-wrapper\" style=\"background-color: #800080\"><span class=\"spark-nlp-display-entity-name\">arritmia cardíaca </span><span class=\"spark-nlp-display-entity-type\">PROBLEM</span></span><span class=\"spark-nlp-display-others\" style=\"background-color: white\">, enquanto o </span><span class=\"spark-nlp-display-entity-wrapper\" style=\"background-color: #77b5fe\"><span class=\"spark-nlp-display-entity-name\">ecocardiograma </span><span class=\"spark-nlp-display-entity-type\">TEST</span></span><span class=\"spark-nlp-display-others\" style=\"background-color: white\"> mostrou </span><span class=\"spark-nlp-display-entity-wrapper\" style=\"background-color: #77b5fe\"><span class=\"spark-nlp-display-entity-name\">uma função ventricular esquerda reduzida </span><span class=\"spark-nlp-display-entity-type\">TEST</span></span><span class=\"spark-nlp-display-others\" style=\"background-color: white\">. O </span><span class=\"spark-nlp-display-entity-wrapper\" style=\"background-color: #77b5fe\"><span class=\"spark-nlp-display-entity-name\">teste de esforço </span><span class=\"spark-nlp-display-entity-type\">TEST</span></span><span class=\"spark-nlp-display-others\" style=\"background-color: white\"> indicou </span><span class=\"spark-nlp-display-entity-wrapper\" style=\"background-color: #800080\"><span class=\"spark-nlp-display-entity-name\">isquemia miocárdica induzida </span><span class=\"spark-nlp-display-entity-type\">PROBLEM</span></span><span class=\"spark-nlp-display-others\" style=\"background-color: white\"> pelo exercício, confirmando a presença de </span><span class=\"spark-nlp-display-entity-wrapper\" style=\"background-color: #800080\"><span class=\"spark-nlp-display-entity-name\">doença arterial coronariana </span><span class=\"spark-nlp-display-entity-type\">PROBLEM</span></span><span class=\"spark-nlp-display-others\" style=\"background-color: white\"> (</span><span class=\"spark-nlp-display-entity-wrapper\" style=\"background-color: #800080\"><span class=\"spark-nlp-display-entity-name\">DAC </span><span class=\"spark-nlp-display-entity-type\">PROBLEM</span></span><span class=\"spark-nlp-display-others\" style=\"background-color: white\">).</span></div>"
            ]
          },
          "metadata": {}
        },
        {
          "output_type": "stream",
          "name": "stdout",
          "text": [
            "\n",
            "\n",
            "\n"
          ]
        }
      ]
    },
    {
      "cell_type": "markdown",
      "source": [
        "# ner_clinical_pl"
      ],
      "metadata": {
        "id": "Lyz0rikzShYt"
      }
    },
    {
      "cell_type": "code",
      "source": [
        "model_name = \"ner_clinical_pl\""
      ],
      "metadata": {
        "id": "Sp-ksrV4Sokz"
      },
      "execution_count": 32,
      "outputs": []
    },
    {
      "cell_type": "code",
      "source": [
        "document_assembler = DocumentAssembler()\\\n",
        "    .setInputCol(\"text\")\\\n",
        "    .setOutputCol(\"document\")\n",
        "\n",
        "sentence_detector = SentenceDetectorDLModel.pretrained(\"sentence_detector_dl\", \"xx\")\\\n",
        "    .setInputCols([\"document\"])\\\n",
        "    .setOutputCol(\"sentence\")\n",
        "\n",
        "tokenizer = Tokenizer() \\\n",
        "    .setInputCols([\"sentence\"]) \\\n",
        "    .setOutputCol(\"token\")\\\n",
        "    .setSplitChars(['-'])\n",
        "\n",
        "embeddings = WordEmbeddingsModel.pretrained(\"w2v_cc_300d\",\"pl\") \\\n",
        "    .setInputCols([\"sentence\", \"token\"]) \\\n",
        "    .setOutputCol(\"embeddings\")\n",
        "\n",
        "ner = MedicalNerModel.pretrained(\"ner_clinical\", \"pl\", \"clinical/models\") \\\n",
        "    .setInputCols([\"sentence\", \"token\", \"embeddings\"]) \\\n",
        "    .setOutputCol(\"ner\")\n",
        "\n",
        "ner_converter = NerConverter() \\\n",
        "    .setInputCols([\"sentence\", \"token\", \"ner\"]) \\\n",
        "    .setOutputCol(\"ner_chunk\")\n",
        "\n",
        "pipeline = Pipeline(stages=[document_assembler,\n",
        "                        sentence_detector,\n",
        "                        tokenizer,\n",
        "                        embeddings,\n",
        "                        ner,\n",
        "                        ner_converter])\n",
        "\n"
      ],
      "metadata": {
        "colab": {
          "base_uri": "https://localhost:8080/"
        },
        "id": "IOBA6IFmSsWP",
        "outputId": "f80f3051-fc7a-44c5-9c07-1975e3841ed6"
      },
      "execution_count": 33,
      "outputs": [
        {
          "output_type": "stream",
          "name": "stdout",
          "text": [
            "sentence_detector_dl download started this may take some time.\n",
            "Approximate size to download 514.9 KB\n",
            "[OK!]\n",
            "w2v_cc_300d download started this may take some time.\n",
            "Approximate size to download 1.1 GB\n",
            "[OK!]\n",
            "ner_clinical download started this may take some time.\n",
            "[OK!]\n"
          ]
        }
      ]
    },
    {
      "cell_type": "code",
      "source": [
        "df = spark.createDataFrame(pd.DataFrame({'text':text_dict[model_name]}))\n",
        "result = pipeline.fit(df).transform(df)\n",
        "result.show\n",
        "\n",
        "\n",
        "result.select(F.explode(F.arrays_zip(\"ner_chunk.result\", \"ner_chunk.metadata\")).alias(\"cols\"))\\\n",
        "        .select(F.expr(\"cols['0']\").alias(\"chunk\"),\n",
        "                F.expr(\"cols['1']['entity']\").alias(\"ner_label\")).show(truncate=False)"
      ],
      "metadata": {
        "colab": {
          "base_uri": "https://localhost:8080/"
        },
        "id": "Kd3L_BDQS1Jk",
        "outputId": "29677131-80fb-4dd3-a790-4b212d1344a7"
      },
      "execution_count": 34,
      "outputs": [
        {
          "output_type": "stream",
          "name": "stdout",
          "text": [
            "+-------------------------------------------------------------------------+---------+\n",
            "|chunk                                                                    |ner_label|\n",
            "+-------------------------------------------------------------------------+---------+\n",
            "|uporczywy ból                                                            |PROBLEM  |\n",
            "|obrzęk                                                                   |PROBLEM  |\n",
            "|ograniczony zakres ruchu w prawym kolanie                                |PROBLEM  |\n",
            "|choroby zwyrodnieniowej stawów                                           |PROBLEM  |\n",
            "|wcześniejszy uraz kolana                                                 |PROBLEM  |\n",
            "|badanie kliniczne                                                        |TEST     |\n",
            "|zdjęcia rentgenowskie                                                    |TEST     |\n",
            "|zwężenie przestrzeni stawowej                                            |PROBLEM  |\n",
            "|tworzenie się osteofitów                                                 |PROBLEM  |\n",
            "|oznaki zwyrodnienia chrząstki                                            |PROBLEM  |\n",
            "|rezonans magnetyczny                                                     |TEST     |\n",
            "|Rezonans magnetyczny                                                     |TEST     |\n",
            "|zmiany kostne odpowiadające zaawansowanej chorobie zwyrodnieniowej stawów|PROBLEM  |\n",
            "|fizjoterapię                                                             |TREATMENT|\n",
            "|operacji wymiany stawu                                                   |TREATMENT|\n",
            "|uporczywą dusznością                                                     |PROBLEM  |\n",
            "|dyskomfortem w klatce piersiowej                                         |PROBLEM  |\n",
            "|nadciśnienie tętnicze                                                    |PROBLEM  |\n",
            "|chorób sercowo-naczyniowych                                              |PROBLEM  |\n",
            "|badanie fizykalne                                                        |TEST     |\n",
            "+-------------------------------------------------------------------------+---------+\n",
            "only showing top 20 rows\n",
            "\n"
          ]
        }
      ]
    },
    {
      "cell_type": "code",
      "source": [
        "from sparknlp_display import NerVisualizer\n",
        "\n",
        "df = spark.createDataFrame(pd.DataFrame({'text': text_dict[model_name]}))\n",
        "result = pipeline.fit(df).transform(df)\n",
        "\n",
        "visualiser = NerVisualizer()\n",
        "\n",
        "for i in range(len(text_dict[model_name])):\n",
        "  visualiser.display(result = result.collect()[i] ,label_col = 'ner_chunk', document_col = 'document')\n",
        "  print(\"\\n\\n\")"
      ],
      "metadata": {
        "colab": {
          "base_uri": "https://localhost:8080/",
          "height": 618
        },
        "id": "zm9ONmOlS1Jl",
        "outputId": "e932af17-8608-4258-83db-771f87cc2f05"
      },
      "execution_count": 35,
      "outputs": [
        {
          "output_type": "display_data",
          "data": {
            "text/plain": [
              "<IPython.core.display.HTML object>"
            ],
            "text/html": [
              "\n",
              "<style>\n",
              "    @import url('https://fonts.googleapis.com/css2?family=Montserrat:wght@300;400;500;600;700&display=swap');\n",
              "    @import url('https://fonts.googleapis.com/css2?family=Vistol Regular:wght@300;400;500;600;700&display=swap');\n",
              "    \n",
              "    .spark-nlp-display-scroll-entities {\n",
              "        border: 1px solid #E7EDF0;\n",
              "        border-radius: 3px;\n",
              "        text-align: justify;\n",
              "        \n",
              "    }\n",
              "    .spark-nlp-display-scroll-entities span {  \n",
              "        font-size: 14px;\n",
              "        line-height: 24px;\n",
              "        color: #536B76;\n",
              "        font-family: 'Montserrat', sans-serif !important;\n",
              "    }\n",
              "    \n",
              "    .spark-nlp-display-entity-wrapper{\n",
              "    \n",
              "        display: inline-grid;\n",
              "        text-align: center;\n",
              "        border-radius: 4px;\n",
              "        margin: 0 2px 5px 2px;\n",
              "        padding: 1px\n",
              "    }\n",
              "    .spark-nlp-display-entity-name{\n",
              "        font-size: 14px;\n",
              "        line-height: 24px;\n",
              "        font-family: 'Montserrat', sans-serif !important;\n",
              "        \n",
              "        background: #f1f2f3;\n",
              "        border-width: medium;\n",
              "        text-align: center;\n",
              "        \n",
              "        font-weight: 400;\n",
              "        \n",
              "        border-radius: 5px;\n",
              "        padding: 2px 5px;\n",
              "        display: block;\n",
              "        margin: 3px 2px;\n",
              "    \n",
              "    }\n",
              "    .spark-nlp-display-entity-type{\n",
              "        font-size: 14px;\n",
              "        line-height: 24px;\n",
              "        color: #ffffff;\n",
              "        font-family: 'Montserrat', sans-serif !important;\n",
              "        \n",
              "        text-transform: uppercase;\n",
              "        \n",
              "        font-weight: 500;\n",
              "\n",
              "        display: block;\n",
              "        padding: 3px 5px;\n",
              "    }\n",
              "    \n",
              "    .spark-nlp-display-entity-resolution{\n",
              "        font-size: 14px;\n",
              "        line-height: 24px;\n",
              "        color: #ffffff;\n",
              "        font-family: 'Vistol Regular', sans-serif !important;\n",
              "        \n",
              "        text-transform: uppercase;\n",
              "        \n",
              "        font-weight: 500;\n",
              "\n",
              "        display: block;\n",
              "        padding: 3px 5px;\n",
              "    }\n",
              "    \n",
              "    .spark-nlp-display-others{\n",
              "        font-size: 14px;\n",
              "        line-height: 24px;\n",
              "        font-family: 'Montserrat', sans-serif !important;\n",
              "        \n",
              "        font-weight: 400;\n",
              "    }\n",
              "\n",
              "</style>\n",
              " <span class=\"spark-nlp-display-others\" style=\"background-color: white\">50-letnia kobieta zgłosiła się do kliniki ortopedycznej skarżąc się na </span><span class=\"spark-nlp-display-entity-wrapper\" style=\"background-color: #800080\"><span class=\"spark-nlp-display-entity-name\">uporczywy ból </span><span class=\"spark-nlp-display-entity-type\">PROBLEM</span></span><span class=\"spark-nlp-display-others\" style=\"background-color: white\">, </span><span class=\"spark-nlp-display-entity-wrapper\" style=\"background-color: #800080\"><span class=\"spark-nlp-display-entity-name\">obrzęk </span><span class=\"spark-nlp-display-entity-type\">PROBLEM</span></span><span class=\"spark-nlp-display-others\" style=\"background-color: white\"> i </span><span class=\"spark-nlp-display-entity-wrapper\" style=\"background-color: #800080\"><span class=\"spark-nlp-display-entity-name\">ograniczony zakres ruchu w prawym kolanie </span><span class=\"spark-nlp-display-entity-type\">PROBLEM</span></span><span class=\"spark-nlp-display-others\" style=\"background-color: white\">. Pacjentka zgłosiła historię </span><span class=\"spark-nlp-display-entity-wrapper\" style=\"background-color: #800080\"><span class=\"spark-nlp-display-entity-name\">choroby zwyrodnieniowej stawów </span><span class=\"spark-nlp-display-entity-type\">PROBLEM</span></span><span class=\"spark-nlp-display-others\" style=\"background-color: white\"> i </span><span class=\"spark-nlp-display-entity-wrapper\" style=\"background-color: #800080\"><span class=\"spark-nlp-display-entity-name\">wcześniejszy uraz kolana </span><span class=\"spark-nlp-display-entity-type\">PROBLEM</span></span><span class=\"spark-nlp-display-others\" style=\"background-color: white\">. Przeprowadzono </span><span class=\"spark-nlp-display-entity-wrapper\" style=\"background-color: #77b5fe\"><span class=\"spark-nlp-display-entity-name\">badanie kliniczne </span><span class=\"spark-nlp-display-entity-type\">TEST</span></span><span class=\"spark-nlp-display-others\" style=\"background-color: white\"> i wykonano </span><span class=\"spark-nlp-display-entity-wrapper\" style=\"background-color: #77b5fe\"><span class=\"spark-nlp-display-entity-name\">zdjęcia rentgenowskie </span><span class=\"spark-nlp-display-entity-type\">TEST</span></span><span class=\"spark-nlp-display-others\" style=\"background-color: white\">, które wykazały </span><span class=\"spark-nlp-display-entity-wrapper\" style=\"background-color: #800080\"><span class=\"spark-nlp-display-entity-name\">zwężenie przestrzeni stawowej </span><span class=\"spark-nlp-display-entity-type\">PROBLEM</span></span><span class=\"spark-nlp-display-others\" style=\"background-color: white\">, </span><span class=\"spark-nlp-display-entity-wrapper\" style=\"background-color: #800080\"><span class=\"spark-nlp-display-entity-name\">tworzenie się osteofitów </span><span class=\"spark-nlp-display-entity-type\">PROBLEM</span></span><span class=\"spark-nlp-display-others\" style=\"background-color: white\"> i </span><span class=\"spark-nlp-display-entity-wrapper\" style=\"background-color: #800080\"><span class=\"spark-nlp-display-entity-name\">oznaki zwyrodnienia chrząstki </span><span class=\"spark-nlp-display-entity-type\">PROBLEM</span></span><span class=\"spark-nlp-display-others\" style=\"background-color: white\">. Aby potwierdzić diagnozę i ocenić stopień zaawansowania, zlecono </span><span class=\"spark-nlp-display-entity-wrapper\" style=\"background-color: #77b5fe\"><span class=\"spark-nlp-display-entity-name\">rezonans magnetyczny </span><span class=\"spark-nlp-display-entity-type\">TEST</span></span><span class=\"spark-nlp-display-others\" style=\"background-color: white\">. </span><span class=\"spark-nlp-display-entity-wrapper\" style=\"background-color: #77b5fe\"><span class=\"spark-nlp-display-entity-name\">Rezonans magnetyczny </span><span class=\"spark-nlp-display-entity-type\">TEST</span></span><span class=\"spark-nlp-display-others\" style=\"background-color: white\"> wykazał rozległą utratę chrząstki i </span><span class=\"spark-nlp-display-entity-wrapper\" style=\"background-color: #800080\"><span class=\"spark-nlp-display-entity-name\">zmiany kostne odpowiadające zaawansowanej chorobie zwyrodnieniowej stawów </span><span class=\"spark-nlp-display-entity-type\">PROBLEM</span></span><span class=\"spark-nlp-display-others\" style=\"background-color: white\">. Po rozważeniu stanu pacjenta i jego preferencji, omówiono plan leczenia, który obejmował kontrolę bólu, </span><span class=\"spark-nlp-display-entity-wrapper\" style=\"background-color: #8b6673\"><span class=\"spark-nlp-display-entity-name\">fizjoterapię </span><span class=\"spark-nlp-display-entity-type\">TREATMENT</span></span><span class=\"spark-nlp-display-others\" style=\"background-color: white\"> i możliwość </span><span class=\"spark-nlp-display-entity-wrapper\" style=\"background-color: #8b6673\"><span class=\"spark-nlp-display-entity-name\">operacji wymiany stawu </span><span class=\"spark-nlp-display-entity-type\">TREATMENT</span></span><span class=\"spark-nlp-display-others\" style=\"background-color: white\">.</span></div>"
            ]
          },
          "metadata": {}
        },
        {
          "output_type": "stream",
          "name": "stdout",
          "text": [
            "\n",
            "\n",
            "\n"
          ]
        },
        {
          "output_type": "display_data",
          "data": {
            "text/plain": [
              "<IPython.core.display.HTML object>"
            ],
            "text/html": [
              "\n",
              "<style>\n",
              "    @import url('https://fonts.googleapis.com/css2?family=Montserrat:wght@300;400;500;600;700&display=swap');\n",
              "    @import url('https://fonts.googleapis.com/css2?family=Vistol Regular:wght@300;400;500;600;700&display=swap');\n",
              "    \n",
              "    .spark-nlp-display-scroll-entities {\n",
              "        border: 1px solid #E7EDF0;\n",
              "        border-radius: 3px;\n",
              "        text-align: justify;\n",
              "        \n",
              "    }\n",
              "    .spark-nlp-display-scroll-entities span {  \n",
              "        font-size: 14px;\n",
              "        line-height: 24px;\n",
              "        color: #536B76;\n",
              "        font-family: 'Montserrat', sans-serif !important;\n",
              "    }\n",
              "    \n",
              "    .spark-nlp-display-entity-wrapper{\n",
              "    \n",
              "        display: inline-grid;\n",
              "        text-align: center;\n",
              "        border-radius: 4px;\n",
              "        margin: 0 2px 5px 2px;\n",
              "        padding: 1px\n",
              "    }\n",
              "    .spark-nlp-display-entity-name{\n",
              "        font-size: 14px;\n",
              "        line-height: 24px;\n",
              "        font-family: 'Montserrat', sans-serif !important;\n",
              "        \n",
              "        background: #f1f2f3;\n",
              "        border-width: medium;\n",
              "        text-align: center;\n",
              "        \n",
              "        font-weight: 400;\n",
              "        \n",
              "        border-radius: 5px;\n",
              "        padding: 2px 5px;\n",
              "        display: block;\n",
              "        margin: 3px 2px;\n",
              "    \n",
              "    }\n",
              "    .spark-nlp-display-entity-type{\n",
              "        font-size: 14px;\n",
              "        line-height: 24px;\n",
              "        color: #ffffff;\n",
              "        font-family: 'Montserrat', sans-serif !important;\n",
              "        \n",
              "        text-transform: uppercase;\n",
              "        \n",
              "        font-weight: 500;\n",
              "\n",
              "        display: block;\n",
              "        padding: 3px 5px;\n",
              "    }\n",
              "    \n",
              "    .spark-nlp-display-entity-resolution{\n",
              "        font-size: 14px;\n",
              "        line-height: 24px;\n",
              "        color: #ffffff;\n",
              "        font-family: 'Vistol Regular', sans-serif !important;\n",
              "        \n",
              "        text-transform: uppercase;\n",
              "        \n",
              "        font-weight: 500;\n",
              "\n",
              "        display: block;\n",
              "        padding: 3px 5px;\n",
              "    }\n",
              "    \n",
              "    .spark-nlp-display-others{\n",
              "        font-size: 14px;\n",
              "        line-height: 24px;\n",
              "        font-family: 'Montserrat', sans-serif !important;\n",
              "        \n",
              "        font-weight: 400;\n",
              "    }\n",
              "\n",
              "</style>\n",
              " <span class=\"spark-nlp-display-others\" style=\"background-color: white\">45-letni mężczyzna zgłosił się do kliniki z </span><span class=\"spark-nlp-display-entity-wrapper\" style=\"background-color: #800080\"><span class=\"spark-nlp-display-entity-name\">uporczywą dusznością </span><span class=\"spark-nlp-display-entity-type\">PROBLEM</span></span><span class=\"spark-nlp-display-others\" style=\"background-color: white\"> i </span><span class=\"spark-nlp-display-entity-wrapper\" style=\"background-color: #800080\"><span class=\"spark-nlp-display-entity-name\">dyskomfortem w klatce piersiowej </span><span class=\"spark-nlp-display-entity-type\">PROBLEM</span></span><span class=\"spark-nlp-display-others\" style=\"background-color: white\">. Historia medyczna pacjenta ujawniła </span><span class=\"spark-nlp-display-entity-wrapper\" style=\"background-color: #800080\"><span class=\"spark-nlp-display-entity-name\">nadciśnienie tętnicze </span><span class=\"spark-nlp-display-entity-type\">PROBLEM</span></span><span class=\"spark-nlp-display-others\" style=\"background-color: white\"> i rodzinną historię </span><span class=\"spark-nlp-display-entity-wrapper\" style=\"background-color: #800080\"><span class=\"spark-nlp-display-entity-name\">chorób sercowo-naczyniowych </span><span class=\"spark-nlp-display-entity-type\">PROBLEM</span></span><span class=\"spark-nlp-display-others\" style=\"background-color: white\">. Wstępne </span><span class=\"spark-nlp-display-entity-wrapper\" style=\"background-color: #77b5fe\"><span class=\"spark-nlp-display-entity-name\">badanie fizykalne </span><span class=\"spark-nlp-display-entity-type\">TEST</span></span><span class=\"spark-nlp-display-others\" style=\"background-color: white\"> wykazało </span><span class=\"spark-nlp-display-entity-wrapper\" style=\"background-color: #77b5fe\"><span class=\"spark-nlp-display-entity-name\">wysokie ciśnienie krwi </span><span class=\"spark-nlp-display-entity-type\">TEST</span></span><span class=\"spark-nlp-display-others\" style=\"background-color: white\"> i </span><span class=\"spark-nlp-display-entity-wrapper\" style=\"background-color: #800080\"><span class=\"spark-nlp-display-entity-name\">nieregularne dźwięki serca </span><span class=\"spark-nlp-display-entity-type\">PROBLEM</span></span><span class=\"spark-nlp-display-others\" style=\"background-color: white\">. W celu dalszej oceny stanu pacjenta wykonano </span><span class=\"spark-nlp-display-entity-wrapper\" style=\"background-color: #77b5fe\"><span class=\"spark-nlp-display-entity-name\">elektrokardiogram </span><span class=\"spark-nlp-display-entity-type\">TEST</span></span><span class=\"spark-nlp-display-others\" style=\"background-color: white\"> (</span><span class=\"spark-nlp-display-entity-wrapper\" style=\"background-color: #77b5fe\"><span class=\"spark-nlp-display-entity-name\">EKG </span><span class=\"spark-nlp-display-entity-type\">TEST</span></span><span class=\"spark-nlp-display-others\" style=\"background-color: white\">), </span><span class=\"spark-nlp-display-entity-wrapper\" style=\"background-color: #77b5fe\"><span class=\"spark-nlp-display-entity-name\">echokardiogram </span><span class=\"spark-nlp-display-entity-type\">TEST</span></span><span class=\"spark-nlp-display-others\" style=\"background-color: white\"> i </span><span class=\"spark-nlp-display-entity-wrapper\" style=\"background-color: #77b5fe\"><span class=\"spark-nlp-display-entity-name\">test wysiłkowy </span><span class=\"spark-nlp-display-entity-type\">TEST</span></span><span class=\"spark-nlp-display-others\" style=\"background-color: white\">. </span><span class=\"spark-nlp-display-entity-wrapper\" style=\"background-color: #77b5fe\"><span class=\"spark-nlp-display-entity-name\">EKG </span><span class=\"spark-nlp-display-entity-type\">TEST</span></span><span class=\"spark-nlp-display-others\" style=\"background-color: white\"> ujawniło </span><span class=\"spark-nlp-display-entity-wrapper\" style=\"background-color: #800080\"><span class=\"spark-nlp-display-entity-name\">oznaki arytmii serca </span><span class=\"spark-nlp-display-entity-type\">PROBLEM</span></span><span class=\"spark-nlp-display-others\" style=\"background-color: white\">, podczas gdy </span><span class=\"spark-nlp-display-entity-wrapper\" style=\"background-color: #77b5fe\"><span class=\"spark-nlp-display-entity-name\">echokardiogram </span><span class=\"spark-nlp-display-entity-type\">TEST</span></span><span class=\"spark-nlp-display-others\" style=\"background-color: white\"> wykazał </span><span class=\"spark-nlp-display-entity-wrapper\" style=\"background-color: #800080\"><span class=\"spark-nlp-display-entity-name\">zmniejszoną czynność lewej komory </span><span class=\"spark-nlp-display-entity-type\">PROBLEM</span></span><span class=\"spark-nlp-display-others\" style=\"background-color: white\">. </span><span class=\"spark-nlp-display-entity-wrapper\" style=\"background-color: #77b5fe\"><span class=\"spark-nlp-display-entity-name\">Test wysiłkowy </span><span class=\"spark-nlp-display-entity-type\">TEST</span></span><span class=\"spark-nlp-display-others\" style=\"background-color: white\"> wykazał </span><span class=\"spark-nlp-display-entity-wrapper\" style=\"background-color: #800080\"><span class=\"spark-nlp-display-entity-name\">niedokrwienie mięśnia sercowego wywołane wysiłkiem fizycznym </span><span class=\"spark-nlp-display-entity-type\">PROBLEM</span></span><span class=\"spark-nlp-display-others\" style=\"background-color: white\">, potwierdzając obecność choroby wieńcowej (</span><span class=\"spark-nlp-display-entity-wrapper\" style=\"background-color: #800080\"><span class=\"spark-nlp-display-entity-name\">CAD </span><span class=\"spark-nlp-display-entity-type\">PROBLEM</span></span><span class=\"spark-nlp-display-others\" style=\"background-color: white\">).</span></div>"
            ]
          },
          "metadata": {}
        },
        {
          "output_type": "stream",
          "name": "stdout",
          "text": [
            "\n",
            "\n",
            "\n"
          ]
        }
      ]
    },
    {
      "cell_type": "markdown",
      "source": [
        "# ner_clinical_es"
      ],
      "metadata": {
        "id": "QXXuFr20Tx82"
      }
    },
    {
      "cell_type": "code",
      "source": [
        "model_name = \"ner_clinical_es\""
      ],
      "metadata": {
        "id": "uP75aKjJT47q"
      },
      "execution_count": 36,
      "outputs": []
    },
    {
      "cell_type": "code",
      "source": [
        "document_assembler = DocumentAssembler()\\\n",
        "    .setInputCol(\"text\")\\\n",
        "    .setOutputCol(\"document\")\n",
        "\n",
        "sentence_detector = SentenceDetectorDLModel.pretrained(\"sentence_detector_dl\", \"xx\")\\\n",
        "    .setInputCols([\"document\"])\\\n",
        "    .setOutputCol(\"sentence\")\n",
        "\n",
        "tokenizer = Tokenizer() \\\n",
        "    .setInputCols([\"sentence\"]) \\\n",
        "    .setOutputCol(\"token\")\\\n",
        "    .setSplitChars(['-'])\n",
        "\n",
        "embeddings = WordEmbeddingsModel.pretrained(\"w2v_cc_300d\",\"es\") \\\n",
        "    .setInputCols([\"sentence\", \"token\"]) \\\n",
        "    .setOutputCol(\"embeddings\")\n",
        "\n",
        "ner = MedicalNerModel.pretrained(\"ner_clinical\", \"es\", \"clinical/models\") \\\n",
        "    .setInputCols([\"sentence\", \"token\", \"embeddings\"]) \\\n",
        "    .setOutputCol(\"ner\")\n",
        "\n",
        "ner_converter = NerConverter() \\\n",
        "    .setInputCols([\"sentence\", \"token\", \"ner\"]) \\\n",
        "    .setOutputCol(\"ner_chunk\")\n",
        "\n",
        "pipeline = Pipeline(stages=[document_assembler,\n",
        "                        sentence_detector,\n",
        "                        tokenizer,\n",
        "                        embeddings,\n",
        "                        ner,\n",
        "                        ner_converter])"
      ],
      "metadata": {
        "colab": {
          "base_uri": "https://localhost:8080/"
        },
        "id": "09Tb4VmBT6i8",
        "outputId": "77efa812-dfa0-48c7-b0f4-cd8b596a4c95"
      },
      "execution_count": 37,
      "outputs": [
        {
          "output_type": "stream",
          "name": "stdout",
          "text": [
            "sentence_detector_dl download started this may take some time.\n",
            "Approximate size to download 514.9 KB\n",
            "[OK!]\n",
            "w2v_cc_300d download started this may take some time.\n",
            "Approximate size to download 1.2 GB\n",
            "[OK!]\n",
            "ner_clinical download started this may take some time.\n",
            "[OK!]\n"
          ]
        }
      ]
    },
    {
      "cell_type": "code",
      "source": [
        "df = spark.createDataFrame(pd.DataFrame({'text':text_dict[model_name]}))\n",
        "result = pipeline.fit(df).transform(df)\n",
        "result.show\n",
        "\n",
        "\n",
        "result.select(F.explode(F.arrays_zip(\"ner_chunk.result\", \"ner_chunk.metadata\")).alias(\"cols\"))\\\n",
        "        .select(F.expr(\"cols['0']\").alias(\"chunk\"),\n",
        "                F.expr(\"cols['1']['entity']\").alias(\"ner_label\")).show(truncate=False)"
      ],
      "metadata": {
        "colab": {
          "base_uri": "https://localhost:8080/"
        },
        "id": "SalaCpWmT_GC",
        "outputId": "35fe6280-599b-4e09-e385-b54b9bb2a5ed"
      },
      "execution_count": 42,
      "outputs": [
        {
          "output_type": "stream",
          "name": "stdout",
          "text": [
            "+-------------------------------------------------------------+---------+\n",
            "|chunk                                                        |ner_label|\n",
            "+-------------------------------------------------------------+---------+\n",
            "|clínica ortopédica                                           |TREATMENT|\n",
            "|dolor persistente                                            |PROBLEM  |\n",
            "|inflamación                                                  |PROBLEM  |\n",
            "|limitación de la amplitud de movimiento en la rodilla derecha|PROBLEM  |\n",
            "|artrosis                                                     |PROBLEM  |\n",
            "|una lesión previa de rodilla                                 |PROBLEM  |\n",
            "|examen clínico y radiografías                                |TEST     |\n",
            "|estrechamiento del espacio articular                         |PROBLEM  |\n",
            "|formación de osteofitos                                      |PROBLEM  |\n",
            "|signos de degeneración del cartílago                         |PROBLEM  |\n",
            "|una resonancia magnética                                     |TEST     |\n",
            "|resonancia                                                   |TEST     |\n",
            "|pérdida de cartílago                                         |PROBLEM  |\n",
            "|cambios óseos compatibles                                    |PROBLEM  |\n",
            "|una artrosis avanzada                                        |PROBLEM  |\n",
            "|tratamiento                                                  |TREATMENT|\n",
            "|control                                                      |TREATMENT|\n",
            "|dolor                                                        |PROBLEM  |\n",
            "|fisioterapia                                                 |TREATMENT|\n",
            "|cirugía de sustitución articular                             |TREATMENT|\n",
            "+-------------------------------------------------------------+---------+\n",
            "only showing top 20 rows\n",
            "\n"
          ]
        }
      ]
    },
    {
      "cell_type": "code",
      "source": [
        "from sparknlp_display import NerVisualizer\n",
        "\n",
        "df = spark.createDataFrame(pd.DataFrame({'text': text_dict[model_name]}))\n",
        "result = pipeline.fit(df).transform(df)\n",
        "\n",
        "visualiser = NerVisualizer()\n",
        "\n",
        "for i in range(len(text_dict[model_name])):\n",
        "  visualiser.display(result = result.collect()[i] ,label_col = 'ner_chunk', document_col = 'document')\n",
        "  print(\"\\n\\n\")"
      ],
      "metadata": {
        "colab": {
          "base_uri": "https://localhost:8080/",
          "height": 618
        },
        "id": "m89hxC4xT_GD",
        "outputId": "fa8bcf8b-3825-4245-85bb-579be4b3aa87"
      },
      "execution_count": 43,
      "outputs": [
        {
          "output_type": "display_data",
          "data": {
            "text/plain": [
              "<IPython.core.display.HTML object>"
            ],
            "text/html": [
              "\n",
              "<style>\n",
              "    @import url('https://fonts.googleapis.com/css2?family=Montserrat:wght@300;400;500;600;700&display=swap');\n",
              "    @import url('https://fonts.googleapis.com/css2?family=Vistol Regular:wght@300;400;500;600;700&display=swap');\n",
              "    \n",
              "    .spark-nlp-display-scroll-entities {\n",
              "        border: 1px solid #E7EDF0;\n",
              "        border-radius: 3px;\n",
              "        text-align: justify;\n",
              "        \n",
              "    }\n",
              "    .spark-nlp-display-scroll-entities span {  \n",
              "        font-size: 14px;\n",
              "        line-height: 24px;\n",
              "        color: #536B76;\n",
              "        font-family: 'Montserrat', sans-serif !important;\n",
              "    }\n",
              "    \n",
              "    .spark-nlp-display-entity-wrapper{\n",
              "    \n",
              "        display: inline-grid;\n",
              "        text-align: center;\n",
              "        border-radius: 4px;\n",
              "        margin: 0 2px 5px 2px;\n",
              "        padding: 1px\n",
              "    }\n",
              "    .spark-nlp-display-entity-name{\n",
              "        font-size: 14px;\n",
              "        line-height: 24px;\n",
              "        font-family: 'Montserrat', sans-serif !important;\n",
              "        \n",
              "        background: #f1f2f3;\n",
              "        border-width: medium;\n",
              "        text-align: center;\n",
              "        \n",
              "        font-weight: 400;\n",
              "        \n",
              "        border-radius: 5px;\n",
              "        padding: 2px 5px;\n",
              "        display: block;\n",
              "        margin: 3px 2px;\n",
              "    \n",
              "    }\n",
              "    .spark-nlp-display-entity-type{\n",
              "        font-size: 14px;\n",
              "        line-height: 24px;\n",
              "        color: #ffffff;\n",
              "        font-family: 'Montserrat', sans-serif !important;\n",
              "        \n",
              "        text-transform: uppercase;\n",
              "        \n",
              "        font-weight: 500;\n",
              "\n",
              "        display: block;\n",
              "        padding: 3px 5px;\n",
              "    }\n",
              "    \n",
              "    .spark-nlp-display-entity-resolution{\n",
              "        font-size: 14px;\n",
              "        line-height: 24px;\n",
              "        color: #ffffff;\n",
              "        font-family: 'Vistol Regular', sans-serif !important;\n",
              "        \n",
              "        text-transform: uppercase;\n",
              "        \n",
              "        font-weight: 500;\n",
              "\n",
              "        display: block;\n",
              "        padding: 3px 5px;\n",
              "    }\n",
              "    \n",
              "    .spark-nlp-display-others{\n",
              "        font-size: 14px;\n",
              "        line-height: 24px;\n",
              "        font-family: 'Montserrat', sans-serif !important;\n",
              "        \n",
              "        font-weight: 400;\n",
              "    }\n",
              "\n",
              "</style>\n",
              " <span class=\"spark-nlp-display-others\" style=\"background-color: white\">Una mujer de 50 años acudió a la </span><span class=\"spark-nlp-display-entity-wrapper\" style=\"background-color: #8b6673\"><span class=\"spark-nlp-display-entity-name\">clínica ortopédica </span><span class=\"spark-nlp-display-entity-type\">TREATMENT</span></span><span class=\"spark-nlp-display-others\" style=\"background-color: white\"> quejándose de </span><span class=\"spark-nlp-display-entity-wrapper\" style=\"background-color: #800080\"><span class=\"spark-nlp-display-entity-name\">dolor persistente </span><span class=\"spark-nlp-display-entity-type\">PROBLEM</span></span><span class=\"spark-nlp-display-others\" style=\"background-color: white\">, </span><span class=\"spark-nlp-display-entity-wrapper\" style=\"background-color: #800080\"><span class=\"spark-nlp-display-entity-name\">inflamación </span><span class=\"spark-nlp-display-entity-type\">PROBLEM</span></span><span class=\"spark-nlp-display-others\" style=\"background-color: white\"> y </span><span class=\"spark-nlp-display-entity-wrapper\" style=\"background-color: #800080\"><span class=\"spark-nlp-display-entity-name\">limitación de la amplitud de movimiento en la rodilla derecha </span><span class=\"spark-nlp-display-entity-type\">PROBLEM</span></span><span class=\"spark-nlp-display-others\" style=\"background-color: white\">. La paciente refería antecedentes de </span><span class=\"spark-nlp-display-entity-wrapper\" style=\"background-color: #800080\"><span class=\"spark-nlp-display-entity-name\">artrosis </span><span class=\"spark-nlp-display-entity-type\">PROBLEM</span></span><span class=\"spark-nlp-display-others\" style=\"background-color: white\"> y </span><span class=\"spark-nlp-display-entity-wrapper\" style=\"background-color: #800080\"><span class=\"spark-nlp-display-entity-name\">una lesión previa de rodilla </span><span class=\"spark-nlp-display-entity-type\">PROBLEM</span></span><span class=\"spark-nlp-display-others\" style=\"background-color: white\">. Se realizó un </span><span class=\"spark-nlp-display-entity-wrapper\" style=\"background-color: #77b5fe\"><span class=\"spark-nlp-display-entity-name\">examen clínico y radiografías </span><span class=\"spark-nlp-display-entity-type\">TEST</span></span><span class=\"spark-nlp-display-others\" style=\"background-color: white\"> que revelaron un </span><span class=\"spark-nlp-display-entity-wrapper\" style=\"background-color: #800080\"><span class=\"spark-nlp-display-entity-name\">estrechamiento del espacio articular </span><span class=\"spark-nlp-display-entity-type\">PROBLEM</span></span><span class=\"spark-nlp-display-others\" style=\"background-color: white\">, </span><span class=\"spark-nlp-display-entity-wrapper\" style=\"background-color: #800080\"><span class=\"spark-nlp-display-entity-name\">formación de osteofitos </span><span class=\"spark-nlp-display-entity-type\">PROBLEM</span></span><span class=\"spark-nlp-display-others\" style=\"background-color: white\"> y </span><span class=\"spark-nlp-display-entity-wrapper\" style=\"background-color: #800080\"><span class=\"spark-nlp-display-entity-name\">signos de degeneración del cartílago </span><span class=\"spark-nlp-display-entity-type\">PROBLEM</span></span><span class=\"spark-nlp-display-others\" style=\"background-color: white\">. Para confirmar el diagnóstico y evaluar la gravedad, se solicitó </span><span class=\"spark-nlp-display-entity-wrapper\" style=\"background-color: #77b5fe\"><span class=\"spark-nlp-display-entity-name\">una resonancia magnética </span><span class=\"spark-nlp-display-entity-type\">TEST</span></span><span class=\"spark-nlp-display-others\" style=\"background-color: white\">. La </span><span class=\"spark-nlp-display-entity-wrapper\" style=\"background-color: #77b5fe\"><span class=\"spark-nlp-display-entity-name\">resonancia </span><span class=\"spark-nlp-display-entity-type\">TEST</span></span><span class=\"spark-nlp-display-others\" style=\"background-color: white\"> mostró una gran </span><span class=\"spark-nlp-display-entity-wrapper\" style=\"background-color: #800080\"><span class=\"spark-nlp-display-entity-name\">pérdida de cartílago </span><span class=\"spark-nlp-display-entity-type\">PROBLEM</span></span><span class=\"spark-nlp-display-others\" style=\"background-color: white\"> y </span><span class=\"spark-nlp-display-entity-wrapper\" style=\"background-color: #800080\"><span class=\"spark-nlp-display-entity-name\">cambios óseos compatibles </span><span class=\"spark-nlp-display-entity-type\">PROBLEM</span></span><span class=\"spark-nlp-display-others\" style=\"background-color: white\"> con </span><span class=\"spark-nlp-display-entity-wrapper\" style=\"background-color: #800080\"><span class=\"spark-nlp-display-entity-name\">una artrosis avanzada </span><span class=\"spark-nlp-display-entity-type\">PROBLEM</span></span><span class=\"spark-nlp-display-others\" style=\"background-color: white\">. Tras considerar el estado y las preferencias del paciente, se discutió un plan de </span><span class=\"spark-nlp-display-entity-wrapper\" style=\"background-color: #8b6673\"><span class=\"spark-nlp-display-entity-name\">tratamiento </span><span class=\"spark-nlp-display-entity-type\">TREATMENT</span></span><span class=\"spark-nlp-display-others\" style=\"background-color: white\"> que incluía </span><span class=\"spark-nlp-display-entity-wrapper\" style=\"background-color: #8b6673\"><span class=\"spark-nlp-display-entity-name\">control </span><span class=\"spark-nlp-display-entity-type\">TREATMENT</span></span><span class=\"spark-nlp-display-others\" style=\"background-color: white\"> del </span><span class=\"spark-nlp-display-entity-wrapper\" style=\"background-color: #800080\"><span class=\"spark-nlp-display-entity-name\">dolor </span><span class=\"spark-nlp-display-entity-type\">PROBLEM</span></span><span class=\"spark-nlp-display-others\" style=\"background-color: white\">, </span><span class=\"spark-nlp-display-entity-wrapper\" style=\"background-color: #8b6673\"><span class=\"spark-nlp-display-entity-name\">fisioterapia </span><span class=\"spark-nlp-display-entity-type\">TREATMENT</span></span><span class=\"spark-nlp-display-others\" style=\"background-color: white\"> y la posibilidad de una </span><span class=\"spark-nlp-display-entity-wrapper\" style=\"background-color: #8b6673\"><span class=\"spark-nlp-display-entity-name\">cirugía de sustitución articular </span><span class=\"spark-nlp-display-entity-type\">TREATMENT</span></span><span class=\"spark-nlp-display-others\" style=\"background-color: white\">.</span></div>"
            ]
          },
          "metadata": {}
        },
        {
          "output_type": "stream",
          "name": "stdout",
          "text": [
            "\n",
            "\n",
            "\n"
          ]
        },
        {
          "output_type": "display_data",
          "data": {
            "text/plain": [
              "<IPython.core.display.HTML object>"
            ],
            "text/html": [
              "\n",
              "<style>\n",
              "    @import url('https://fonts.googleapis.com/css2?family=Montserrat:wght@300;400;500;600;700&display=swap');\n",
              "    @import url('https://fonts.googleapis.com/css2?family=Vistol Regular:wght@300;400;500;600;700&display=swap');\n",
              "    \n",
              "    .spark-nlp-display-scroll-entities {\n",
              "        border: 1px solid #E7EDF0;\n",
              "        border-radius: 3px;\n",
              "        text-align: justify;\n",
              "        \n",
              "    }\n",
              "    .spark-nlp-display-scroll-entities span {  \n",
              "        font-size: 14px;\n",
              "        line-height: 24px;\n",
              "        color: #536B76;\n",
              "        font-family: 'Montserrat', sans-serif !important;\n",
              "    }\n",
              "    \n",
              "    .spark-nlp-display-entity-wrapper{\n",
              "    \n",
              "        display: inline-grid;\n",
              "        text-align: center;\n",
              "        border-radius: 4px;\n",
              "        margin: 0 2px 5px 2px;\n",
              "        padding: 1px\n",
              "    }\n",
              "    .spark-nlp-display-entity-name{\n",
              "        font-size: 14px;\n",
              "        line-height: 24px;\n",
              "        font-family: 'Montserrat', sans-serif !important;\n",
              "        \n",
              "        background: #f1f2f3;\n",
              "        border-width: medium;\n",
              "        text-align: center;\n",
              "        \n",
              "        font-weight: 400;\n",
              "        \n",
              "        border-radius: 5px;\n",
              "        padding: 2px 5px;\n",
              "        display: block;\n",
              "        margin: 3px 2px;\n",
              "    \n",
              "    }\n",
              "    .spark-nlp-display-entity-type{\n",
              "        font-size: 14px;\n",
              "        line-height: 24px;\n",
              "        color: #ffffff;\n",
              "        font-family: 'Montserrat', sans-serif !important;\n",
              "        \n",
              "        text-transform: uppercase;\n",
              "        \n",
              "        font-weight: 500;\n",
              "\n",
              "        display: block;\n",
              "        padding: 3px 5px;\n",
              "    }\n",
              "    \n",
              "    .spark-nlp-display-entity-resolution{\n",
              "        font-size: 14px;\n",
              "        line-height: 24px;\n",
              "        color: #ffffff;\n",
              "        font-family: 'Vistol Regular', sans-serif !important;\n",
              "        \n",
              "        text-transform: uppercase;\n",
              "        \n",
              "        font-weight: 500;\n",
              "\n",
              "        display: block;\n",
              "        padding: 3px 5px;\n",
              "    }\n",
              "    \n",
              "    .spark-nlp-display-others{\n",
              "        font-size: 14px;\n",
              "        line-height: 24px;\n",
              "        font-family: 'Montserrat', sans-serif !important;\n",
              "        \n",
              "        font-weight: 400;\n",
              "    }\n",
              "\n",
              "</style>\n",
              " <span class=\"spark-nlp-display-others\" style=\"background-color: white\">Un hombre de 45 años acudió a la consulta con </span><span class=\"spark-nlp-display-entity-wrapper\" style=\"background-color: #800080\"><span class=\"spark-nlp-display-entity-name\">disnea persistente </span><span class=\"spark-nlp-display-entity-type\">PROBLEM</span></span><span class=\"spark-nlp-display-others\" style=\"background-color: white\"> y </span><span class=\"spark-nlp-display-entity-wrapper\" style=\"background-color: #800080\"><span class=\"spark-nlp-display-entity-name\">molestias torácicas </span><span class=\"spark-nlp-display-entity-type\">PROBLEM</span></span><span class=\"spark-nlp-display-others\" style=\"background-color: white\">. La historia clínica del paciente revelaba </span><span class=\"spark-nlp-display-entity-wrapper\" style=\"background-color: #800080\"><span class=\"spark-nlp-display-entity-name\">hipertensión </span><span class=\"spark-nlp-display-entity-type\">PROBLEM</span></span><span class=\"spark-nlp-display-others\" style=\"background-color: white\"> y antecedentes familiares de </span><span class=\"spark-nlp-display-entity-wrapper\" style=\"background-color: #800080\"><span class=\"spark-nlp-display-entity-name\">enfermedad cardiovascular </span><span class=\"spark-nlp-display-entity-type\">PROBLEM</span></span><span class=\"spark-nlp-display-others\" style=\"background-color: white\">. </span><span class=\"spark-nlp-display-entity-wrapper\" style=\"background-color: #77b5fe\"><span class=\"spark-nlp-display-entity-name\">Un examen físico inicial </span><span class=\"spark-nlp-display-entity-type\">TEST</span></span><span class=\"spark-nlp-display-others\" style=\"background-color: white\"> indicó </span><span class=\"spark-nlp-display-entity-wrapper\" style=\"background-color: #800080\"><span class=\"spark-nlp-display-entity-name\">hipertensión arterial </span><span class=\"spark-nlp-display-entity-type\">PROBLEM</span></span><span class=\"spark-nlp-display-others\" style=\"background-color: white\"> y </span><span class=\"spark-nlp-display-entity-wrapper\" style=\"background-color: #800080\"><span class=\"spark-nlp-display-entity-name\">ruidos cardíacos irregulares </span><span class=\"spark-nlp-display-entity-type\">PROBLEM</span></span><span class=\"spark-nlp-display-others\" style=\"background-color: white\">. Para evaluar mejor su estado, se le practicaron </span><span class=\"spark-nlp-display-entity-wrapper\" style=\"background-color: #77b5fe\"><span class=\"spark-nlp-display-entity-name\">un electrocardiograma </span><span class=\"spark-nlp-display-entity-type\">TEST</span></span><span class=\"spark-nlp-display-others\" style=\"background-color: white\"> (</span><span class=\"spark-nlp-display-entity-wrapper\" style=\"background-color: #77b5fe\"><span class=\"spark-nlp-display-entity-name\">ECG </span><span class=\"spark-nlp-display-entity-type\">TEST</span></span><span class=\"spark-nlp-display-others\" style=\"background-color: white\">), </span><span class=\"spark-nlp-display-entity-wrapper\" style=\"background-color: #77b5fe\"><span class=\"spark-nlp-display-entity-name\">un ecocardiograma </span><span class=\"spark-nlp-display-entity-type\">TEST</span></span><span class=\"spark-nlp-display-others\" style=\"background-color: white\"> y </span><span class=\"spark-nlp-display-entity-wrapper\" style=\"background-color: #77b5fe\"><span class=\"spark-nlp-display-entity-name\">una prueba de esfuerzo </span><span class=\"spark-nlp-display-entity-type\">TEST</span></span><span class=\"spark-nlp-display-others\" style=\"background-color: white\">. </span><span class=\"spark-nlp-display-entity-wrapper\" style=\"background-color: #77b5fe\"><span class=\"spark-nlp-display-entity-name\">El </span><span class=\"spark-nlp-display-entity-type\">TEST</span></span><span class=\"spark-nlp-display-others\" style=\"background-color: white\"> </span><span class=\"spark-nlp-display-entity-wrapper\" style=\"background-color: #77b5fe\"><span class=\"spark-nlp-display-entity-name\">ECG </span><span class=\"spark-nlp-display-entity-type\">TEST</span></span><span class=\"spark-nlp-display-others\" style=\"background-color: white\"> reveló signos de </span><span class=\"spark-nlp-display-entity-wrapper\" style=\"background-color: #800080\"><span class=\"spark-nlp-display-entity-name\">arritmia cardiaca </span><span class=\"spark-nlp-display-entity-type\">PROBLEM</span></span><span class=\"spark-nlp-display-others\" style=\"background-color: white\">, mientras que el </span><span class=\"spark-nlp-display-entity-wrapper\" style=\"background-color: #77b5fe\"><span class=\"spark-nlp-display-entity-name\">ecocardiograma </span><span class=\"spark-nlp-display-entity-type\">TEST</span></span><span class=\"spark-nlp-display-others\" style=\"background-color: white\"> mostró una </span><span class=\"spark-nlp-display-entity-wrapper\" style=\"background-color: #77b5fe\"><span class=\"spark-nlp-display-entity-name\">función ventricular izquierda </span><span class=\"spark-nlp-display-entity-type\">TEST</span></span><span class=\"spark-nlp-display-others\" style=\"background-color: white\"> reducida. La prueba de esfuerzo indicó </span><span class=\"spark-nlp-display-entity-wrapper\" style=\"background-color: #800080\"><span class=\"spark-nlp-display-entity-name\">isquemia miocárdica inducida por el ejercicio </span><span class=\"spark-nlp-display-entity-type\">PROBLEM</span></span><span class=\"spark-nlp-display-others\" style=\"background-color: white\">, confirmando la presencia de </span><span class=\"spark-nlp-display-entity-wrapper\" style=\"background-color: #800080\"><span class=\"spark-nlp-display-entity-name\">enfermedad arterial coronaria </span><span class=\"spark-nlp-display-entity-type\">PROBLEM</span></span><span class=\"spark-nlp-display-others\" style=\"background-color: white\"> (EAC)</span></div>"
            ]
          },
          "metadata": {}
        },
        {
          "output_type": "stream",
          "name": "stdout",
          "text": [
            "\n",
            "\n",
            "\n"
          ]
        }
      ]
    },
    {
      "cell_type": "markdown",
      "source": [
        "# ner_clinical_it"
      ],
      "metadata": {
        "id": "VxTkVkD3VGRR"
      }
    },
    {
      "cell_type": "code",
      "source": [
        "model_name = \"ner_clinical_it\""
      ],
      "metadata": {
        "id": "Kkv8zIbzUQ4x"
      },
      "execution_count": 45,
      "outputs": []
    },
    {
      "cell_type": "code",
      "source": [
        "document_assembler = DocumentAssembler()\\\n",
        "    .setInputCol(\"text\")\\\n",
        "    .setOutputCol(\"document\")\n",
        "\n",
        "sentence_detector = SentenceDetectorDLModel.pretrained(\"sentence_detector_dl\", \"xx\")\\\n",
        "    .setInputCols([\"document\"])\\\n",
        "    .setOutputCol(\"sentence\")\n",
        "\n",
        "tokenizer = Tokenizer() \\\n",
        "    .setInputCols([\"sentence\"]) \\\n",
        "    .setOutputCol(\"token\")\\\n",
        "    .setSplitChars(['-'])\n",
        "\n",
        "embeddings = WordEmbeddingsModel.pretrained(\"w2v_cc_300d\",\"it\") \\\n",
        "    .setInputCols([\"sentence\", \"token\"]) \\\n",
        "    .setOutputCol(\"embeddings\")\n",
        "\n",
        "ner = MedicalNerModel.pretrained(\"ner_clinical\", \"it\", \"clinical/models\") \\\n",
        "    .setInputCols([\"sentence\", \"token\", \"embeddings\"]) \\\n",
        "    .setOutputCol(\"ner\")\n",
        "\n",
        "ner_converter = NerConverter() \\\n",
        "    .setInputCols([\"sentence\", \"token\", \"ner\"]) \\\n",
        "    .setOutputCol(\"ner_chunk\")\n",
        "\n",
        "pipeline = Pipeline(stages=[document_assembler,\n",
        "                        sentence_detector,\n",
        "                        tokenizer,\n",
        "                        embeddings,\n",
        "                        ner,\n",
        "                        ner_converter])"
      ],
      "metadata": {
        "colab": {
          "base_uri": "https://localhost:8080/"
        },
        "id": "oKnF3EHHUSCZ",
        "outputId": "a868f2b8-8384-4e17-8125-bc4b94712986"
      },
      "execution_count": 44,
      "outputs": [
        {
          "output_type": "stream",
          "name": "stdout",
          "text": [
            "sentence_detector_dl download started this may take some time.\n",
            "Approximate size to download 514.9 KB\n",
            "[OK!]\n",
            "w2v_cc_300d download started this may take some time.\n",
            "Approximate size to download 1.2 GB\n",
            "[OK!]\n",
            "ner_clinical download started this may take some time.\n",
            "[OK!]\n"
          ]
        }
      ]
    },
    {
      "cell_type": "code",
      "source": [
        "df = spark.createDataFrame(pd.DataFrame({'text':text_dict[model_name]}))\n",
        "result = pipeline.fit(df).transform(df)\n",
        "result.show\n",
        "\n",
        "\n",
        "result.select(F.explode(F.arrays_zip(\"ner_chunk.result\", \"ner_chunk.metadata\")).alias(\"cols\"))\\\n",
        "        .select(F.expr(\"cols['0']\").alias(\"chunk\"),\n",
        "                F.expr(\"cols['1']['entity']\").alias(\"ner_label\")).show(truncate=False)"
      ],
      "metadata": {
        "colab": {
          "base_uri": "https://localhost:8080/"
        },
        "outputId": "35fe6280-599b-4e09-e385-b54b9bb2a5ed",
        "id": "PbvIUSI-VO40"
      },
      "execution_count": null,
      "outputs": [
        {
          "output_type": "stream",
          "name": "stdout",
          "text": [
            "+-------------------------------------------------------------+---------+\n",
            "|chunk                                                        |ner_label|\n",
            "+-------------------------------------------------------------+---------+\n",
            "|clínica ortopédica                                           |TREATMENT|\n",
            "|dolor persistente                                            |PROBLEM  |\n",
            "|inflamación                                                  |PROBLEM  |\n",
            "|limitación de la amplitud de movimiento en la rodilla derecha|PROBLEM  |\n",
            "|artrosis                                                     |PROBLEM  |\n",
            "|una lesión previa de rodilla                                 |PROBLEM  |\n",
            "|examen clínico y radiografías                                |TEST     |\n",
            "|estrechamiento del espacio articular                         |PROBLEM  |\n",
            "|formación de osteofitos                                      |PROBLEM  |\n",
            "|signos de degeneración del cartílago                         |PROBLEM  |\n",
            "|una resonancia magnética                                     |TEST     |\n",
            "|resonancia                                                   |TEST     |\n",
            "|pérdida de cartílago                                         |PROBLEM  |\n",
            "|cambios óseos compatibles                                    |PROBLEM  |\n",
            "|una artrosis avanzada                                        |PROBLEM  |\n",
            "|tratamiento                                                  |TREATMENT|\n",
            "|control                                                      |TREATMENT|\n",
            "|dolor                                                        |PROBLEM  |\n",
            "|fisioterapia                                                 |TREATMENT|\n",
            "|cirugía de sustitución articular                             |TREATMENT|\n",
            "+-------------------------------------------------------------+---------+\n",
            "only showing top 20 rows\n",
            "\n"
          ]
        }
      ]
    },
    {
      "cell_type": "code",
      "source": [
        "from sparknlp_display import NerVisualizer\n",
        "\n",
        "df = spark.createDataFrame(pd.DataFrame({'text': text_dict[model_name]}))\n",
        "result = pipeline.fit(df).transform(df)\n",
        "\n",
        "visualiser = NerVisualizer()\n",
        "\n",
        "for i in range(len(text_dict[model_name])):\n",
        "  visualiser.display(result = result.collect()[i] ,label_col = 'ner_chunk', document_col = 'document')\n",
        "  print(\"\\n\\n\")"
      ],
      "metadata": {
        "colab": {
          "base_uri": "https://localhost:8080/",
          "height": 618
        },
        "outputId": "fa8bcf8b-3825-4245-85bb-579be4b3aa87",
        "id": "QgXkXlbPVO41"
      },
      "execution_count": null,
      "outputs": [
        {
          "output_type": "display_data",
          "data": {
            "text/plain": [
              "<IPython.core.display.HTML object>"
            ],
            "text/html": [
              "\n",
              "<style>\n",
              "    @import url('https://fonts.googleapis.com/css2?family=Montserrat:wght@300;400;500;600;700&display=swap');\n",
              "    @import url('https://fonts.googleapis.com/css2?family=Vistol Regular:wght@300;400;500;600;700&display=swap');\n",
              "    \n",
              "    .spark-nlp-display-scroll-entities {\n",
              "        border: 1px solid #E7EDF0;\n",
              "        border-radius: 3px;\n",
              "        text-align: justify;\n",
              "        \n",
              "    }\n",
              "    .spark-nlp-display-scroll-entities span {  \n",
              "        font-size: 14px;\n",
              "        line-height: 24px;\n",
              "        color: #536B76;\n",
              "        font-family: 'Montserrat', sans-serif !important;\n",
              "    }\n",
              "    \n",
              "    .spark-nlp-display-entity-wrapper{\n",
              "    \n",
              "        display: inline-grid;\n",
              "        text-align: center;\n",
              "        border-radius: 4px;\n",
              "        margin: 0 2px 5px 2px;\n",
              "        padding: 1px\n",
              "    }\n",
              "    .spark-nlp-display-entity-name{\n",
              "        font-size: 14px;\n",
              "        line-height: 24px;\n",
              "        font-family: 'Montserrat', sans-serif !important;\n",
              "        \n",
              "        background: #f1f2f3;\n",
              "        border-width: medium;\n",
              "        text-align: center;\n",
              "        \n",
              "        font-weight: 400;\n",
              "        \n",
              "        border-radius: 5px;\n",
              "        padding: 2px 5px;\n",
              "        display: block;\n",
              "        margin: 3px 2px;\n",
              "    \n",
              "    }\n",
              "    .spark-nlp-display-entity-type{\n",
              "        font-size: 14px;\n",
              "        line-height: 24px;\n",
              "        color: #ffffff;\n",
              "        font-family: 'Montserrat', sans-serif !important;\n",
              "        \n",
              "        text-transform: uppercase;\n",
              "        \n",
              "        font-weight: 500;\n",
              "\n",
              "        display: block;\n",
              "        padding: 3px 5px;\n",
              "    }\n",
              "    \n",
              "    .spark-nlp-display-entity-resolution{\n",
              "        font-size: 14px;\n",
              "        line-height: 24px;\n",
              "        color: #ffffff;\n",
              "        font-family: 'Vistol Regular', sans-serif !important;\n",
              "        \n",
              "        text-transform: uppercase;\n",
              "        \n",
              "        font-weight: 500;\n",
              "\n",
              "        display: block;\n",
              "        padding: 3px 5px;\n",
              "    }\n",
              "    \n",
              "    .spark-nlp-display-others{\n",
              "        font-size: 14px;\n",
              "        line-height: 24px;\n",
              "        font-family: 'Montserrat', sans-serif !important;\n",
              "        \n",
              "        font-weight: 400;\n",
              "    }\n",
              "\n",
              "</style>\n",
              " <span class=\"spark-nlp-display-others\" style=\"background-color: white\">Una mujer de 50 años acudió a la </span><span class=\"spark-nlp-display-entity-wrapper\" style=\"background-color: #8b6673\"><span class=\"spark-nlp-display-entity-name\">clínica ortopédica </span><span class=\"spark-nlp-display-entity-type\">TREATMENT</span></span><span class=\"spark-nlp-display-others\" style=\"background-color: white\"> quejándose de </span><span class=\"spark-nlp-display-entity-wrapper\" style=\"background-color: #800080\"><span class=\"spark-nlp-display-entity-name\">dolor persistente </span><span class=\"spark-nlp-display-entity-type\">PROBLEM</span></span><span class=\"spark-nlp-display-others\" style=\"background-color: white\">, </span><span class=\"spark-nlp-display-entity-wrapper\" style=\"background-color: #800080\"><span class=\"spark-nlp-display-entity-name\">inflamación </span><span class=\"spark-nlp-display-entity-type\">PROBLEM</span></span><span class=\"spark-nlp-display-others\" style=\"background-color: white\"> y </span><span class=\"spark-nlp-display-entity-wrapper\" style=\"background-color: #800080\"><span class=\"spark-nlp-display-entity-name\">limitación de la amplitud de movimiento en la rodilla derecha </span><span class=\"spark-nlp-display-entity-type\">PROBLEM</span></span><span class=\"spark-nlp-display-others\" style=\"background-color: white\">. La paciente refería antecedentes de </span><span class=\"spark-nlp-display-entity-wrapper\" style=\"background-color: #800080\"><span class=\"spark-nlp-display-entity-name\">artrosis </span><span class=\"spark-nlp-display-entity-type\">PROBLEM</span></span><span class=\"spark-nlp-display-others\" style=\"background-color: white\"> y </span><span class=\"spark-nlp-display-entity-wrapper\" style=\"background-color: #800080\"><span class=\"spark-nlp-display-entity-name\">una lesión previa de rodilla </span><span class=\"spark-nlp-display-entity-type\">PROBLEM</span></span><span class=\"spark-nlp-display-others\" style=\"background-color: white\">. Se realizó un </span><span class=\"spark-nlp-display-entity-wrapper\" style=\"background-color: #77b5fe\"><span class=\"spark-nlp-display-entity-name\">examen clínico y radiografías </span><span class=\"spark-nlp-display-entity-type\">TEST</span></span><span class=\"spark-nlp-display-others\" style=\"background-color: white\"> que revelaron un </span><span class=\"spark-nlp-display-entity-wrapper\" style=\"background-color: #800080\"><span class=\"spark-nlp-display-entity-name\">estrechamiento del espacio articular </span><span class=\"spark-nlp-display-entity-type\">PROBLEM</span></span><span class=\"spark-nlp-display-others\" style=\"background-color: white\">, </span><span class=\"spark-nlp-display-entity-wrapper\" style=\"background-color: #800080\"><span class=\"spark-nlp-display-entity-name\">formación de osteofitos </span><span class=\"spark-nlp-display-entity-type\">PROBLEM</span></span><span class=\"spark-nlp-display-others\" style=\"background-color: white\"> y </span><span class=\"spark-nlp-display-entity-wrapper\" style=\"background-color: #800080\"><span class=\"spark-nlp-display-entity-name\">signos de degeneración del cartílago </span><span class=\"spark-nlp-display-entity-type\">PROBLEM</span></span><span class=\"spark-nlp-display-others\" style=\"background-color: white\">. Para confirmar el diagnóstico y evaluar la gravedad, se solicitó </span><span class=\"spark-nlp-display-entity-wrapper\" style=\"background-color: #77b5fe\"><span class=\"spark-nlp-display-entity-name\">una resonancia magnética </span><span class=\"spark-nlp-display-entity-type\">TEST</span></span><span class=\"spark-nlp-display-others\" style=\"background-color: white\">. La </span><span class=\"spark-nlp-display-entity-wrapper\" style=\"background-color: #77b5fe\"><span class=\"spark-nlp-display-entity-name\">resonancia </span><span class=\"spark-nlp-display-entity-type\">TEST</span></span><span class=\"spark-nlp-display-others\" style=\"background-color: white\"> mostró una gran </span><span class=\"spark-nlp-display-entity-wrapper\" style=\"background-color: #800080\"><span class=\"spark-nlp-display-entity-name\">pérdida de cartílago </span><span class=\"spark-nlp-display-entity-type\">PROBLEM</span></span><span class=\"spark-nlp-display-others\" style=\"background-color: white\"> y </span><span class=\"spark-nlp-display-entity-wrapper\" style=\"background-color: #800080\"><span class=\"spark-nlp-display-entity-name\">cambios óseos compatibles </span><span class=\"spark-nlp-display-entity-type\">PROBLEM</span></span><span class=\"spark-nlp-display-others\" style=\"background-color: white\"> con </span><span class=\"spark-nlp-display-entity-wrapper\" style=\"background-color: #800080\"><span class=\"spark-nlp-display-entity-name\">una artrosis avanzada </span><span class=\"spark-nlp-display-entity-type\">PROBLEM</span></span><span class=\"spark-nlp-display-others\" style=\"background-color: white\">. Tras considerar el estado y las preferencias del paciente, se discutió un plan de </span><span class=\"spark-nlp-display-entity-wrapper\" style=\"background-color: #8b6673\"><span class=\"spark-nlp-display-entity-name\">tratamiento </span><span class=\"spark-nlp-display-entity-type\">TREATMENT</span></span><span class=\"spark-nlp-display-others\" style=\"background-color: white\"> que incluía </span><span class=\"spark-nlp-display-entity-wrapper\" style=\"background-color: #8b6673\"><span class=\"spark-nlp-display-entity-name\">control </span><span class=\"spark-nlp-display-entity-type\">TREATMENT</span></span><span class=\"spark-nlp-display-others\" style=\"background-color: white\"> del </span><span class=\"spark-nlp-display-entity-wrapper\" style=\"background-color: #800080\"><span class=\"spark-nlp-display-entity-name\">dolor </span><span class=\"spark-nlp-display-entity-type\">PROBLEM</span></span><span class=\"spark-nlp-display-others\" style=\"background-color: white\">, </span><span class=\"spark-nlp-display-entity-wrapper\" style=\"background-color: #8b6673\"><span class=\"spark-nlp-display-entity-name\">fisioterapia </span><span class=\"spark-nlp-display-entity-type\">TREATMENT</span></span><span class=\"spark-nlp-display-others\" style=\"background-color: white\"> y la posibilidad de una </span><span class=\"spark-nlp-display-entity-wrapper\" style=\"background-color: #8b6673\"><span class=\"spark-nlp-display-entity-name\">cirugía de sustitución articular </span><span class=\"spark-nlp-display-entity-type\">TREATMENT</span></span><span class=\"spark-nlp-display-others\" style=\"background-color: white\">.</span></div>"
            ]
          },
          "metadata": {}
        },
        {
          "output_type": "stream",
          "name": "stdout",
          "text": [
            "\n",
            "\n",
            "\n"
          ]
        },
        {
          "output_type": "display_data",
          "data": {
            "text/plain": [
              "<IPython.core.display.HTML object>"
            ],
            "text/html": [
              "\n",
              "<style>\n",
              "    @import url('https://fonts.googleapis.com/css2?family=Montserrat:wght@300;400;500;600;700&display=swap');\n",
              "    @import url('https://fonts.googleapis.com/css2?family=Vistol Regular:wght@300;400;500;600;700&display=swap');\n",
              "    \n",
              "    .spark-nlp-display-scroll-entities {\n",
              "        border: 1px solid #E7EDF0;\n",
              "        border-radius: 3px;\n",
              "        text-align: justify;\n",
              "        \n",
              "    }\n",
              "    .spark-nlp-display-scroll-entities span {  \n",
              "        font-size: 14px;\n",
              "        line-height: 24px;\n",
              "        color: #536B76;\n",
              "        font-family: 'Montserrat', sans-serif !important;\n",
              "    }\n",
              "    \n",
              "    .spark-nlp-display-entity-wrapper{\n",
              "    \n",
              "        display: inline-grid;\n",
              "        text-align: center;\n",
              "        border-radius: 4px;\n",
              "        margin: 0 2px 5px 2px;\n",
              "        padding: 1px\n",
              "    }\n",
              "    .spark-nlp-display-entity-name{\n",
              "        font-size: 14px;\n",
              "        line-height: 24px;\n",
              "        font-family: 'Montserrat', sans-serif !important;\n",
              "        \n",
              "        background: #f1f2f3;\n",
              "        border-width: medium;\n",
              "        text-align: center;\n",
              "        \n",
              "        font-weight: 400;\n",
              "        \n",
              "        border-radius: 5px;\n",
              "        padding: 2px 5px;\n",
              "        display: block;\n",
              "        margin: 3px 2px;\n",
              "    \n",
              "    }\n",
              "    .spark-nlp-display-entity-type{\n",
              "        font-size: 14px;\n",
              "        line-height: 24px;\n",
              "        color: #ffffff;\n",
              "        font-family: 'Montserrat', sans-serif !important;\n",
              "        \n",
              "        text-transform: uppercase;\n",
              "        \n",
              "        font-weight: 500;\n",
              "\n",
              "        display: block;\n",
              "        padding: 3px 5px;\n",
              "    }\n",
              "    \n",
              "    .spark-nlp-display-entity-resolution{\n",
              "        font-size: 14px;\n",
              "        line-height: 24px;\n",
              "        color: #ffffff;\n",
              "        font-family: 'Vistol Regular', sans-serif !important;\n",
              "        \n",
              "        text-transform: uppercase;\n",
              "        \n",
              "        font-weight: 500;\n",
              "\n",
              "        display: block;\n",
              "        padding: 3px 5px;\n",
              "    }\n",
              "    \n",
              "    .spark-nlp-display-others{\n",
              "        font-size: 14px;\n",
              "        line-height: 24px;\n",
              "        font-family: 'Montserrat', sans-serif !important;\n",
              "        \n",
              "        font-weight: 400;\n",
              "    }\n",
              "\n",
              "</style>\n",
              " <span class=\"spark-nlp-display-others\" style=\"background-color: white\">Un hombre de 45 años acudió a la consulta con </span><span class=\"spark-nlp-display-entity-wrapper\" style=\"background-color: #800080\"><span class=\"spark-nlp-display-entity-name\">disnea persistente </span><span class=\"spark-nlp-display-entity-type\">PROBLEM</span></span><span class=\"spark-nlp-display-others\" style=\"background-color: white\"> y </span><span class=\"spark-nlp-display-entity-wrapper\" style=\"background-color: #800080\"><span class=\"spark-nlp-display-entity-name\">molestias torácicas </span><span class=\"spark-nlp-display-entity-type\">PROBLEM</span></span><span class=\"spark-nlp-display-others\" style=\"background-color: white\">. La historia clínica del paciente revelaba </span><span class=\"spark-nlp-display-entity-wrapper\" style=\"background-color: #800080\"><span class=\"spark-nlp-display-entity-name\">hipertensión </span><span class=\"spark-nlp-display-entity-type\">PROBLEM</span></span><span class=\"spark-nlp-display-others\" style=\"background-color: white\"> y antecedentes familiares de </span><span class=\"spark-nlp-display-entity-wrapper\" style=\"background-color: #800080\"><span class=\"spark-nlp-display-entity-name\">enfermedad cardiovascular </span><span class=\"spark-nlp-display-entity-type\">PROBLEM</span></span><span class=\"spark-nlp-display-others\" style=\"background-color: white\">. </span><span class=\"spark-nlp-display-entity-wrapper\" style=\"background-color: #77b5fe\"><span class=\"spark-nlp-display-entity-name\">Un examen físico inicial </span><span class=\"spark-nlp-display-entity-type\">TEST</span></span><span class=\"spark-nlp-display-others\" style=\"background-color: white\"> indicó </span><span class=\"spark-nlp-display-entity-wrapper\" style=\"background-color: #800080\"><span class=\"spark-nlp-display-entity-name\">hipertensión arterial </span><span class=\"spark-nlp-display-entity-type\">PROBLEM</span></span><span class=\"spark-nlp-display-others\" style=\"background-color: white\"> y </span><span class=\"spark-nlp-display-entity-wrapper\" style=\"background-color: #800080\"><span class=\"spark-nlp-display-entity-name\">ruidos cardíacos irregulares </span><span class=\"spark-nlp-display-entity-type\">PROBLEM</span></span><span class=\"spark-nlp-display-others\" style=\"background-color: white\">. Para evaluar mejor su estado, se le practicaron </span><span class=\"spark-nlp-display-entity-wrapper\" style=\"background-color: #77b5fe\"><span class=\"spark-nlp-display-entity-name\">un electrocardiograma </span><span class=\"spark-nlp-display-entity-type\">TEST</span></span><span class=\"spark-nlp-display-others\" style=\"background-color: white\"> (</span><span class=\"spark-nlp-display-entity-wrapper\" style=\"background-color: #77b5fe\"><span class=\"spark-nlp-display-entity-name\">ECG </span><span class=\"spark-nlp-display-entity-type\">TEST</span></span><span class=\"spark-nlp-display-others\" style=\"background-color: white\">), </span><span class=\"spark-nlp-display-entity-wrapper\" style=\"background-color: #77b5fe\"><span class=\"spark-nlp-display-entity-name\">un ecocardiograma </span><span class=\"spark-nlp-display-entity-type\">TEST</span></span><span class=\"spark-nlp-display-others\" style=\"background-color: white\"> y </span><span class=\"spark-nlp-display-entity-wrapper\" style=\"background-color: #77b5fe\"><span class=\"spark-nlp-display-entity-name\">una prueba de esfuerzo </span><span class=\"spark-nlp-display-entity-type\">TEST</span></span><span class=\"spark-nlp-display-others\" style=\"background-color: white\">. </span><span class=\"spark-nlp-display-entity-wrapper\" style=\"background-color: #77b5fe\"><span class=\"spark-nlp-display-entity-name\">El </span><span class=\"spark-nlp-display-entity-type\">TEST</span></span><span class=\"spark-nlp-display-others\" style=\"background-color: white\"> </span><span class=\"spark-nlp-display-entity-wrapper\" style=\"background-color: #77b5fe\"><span class=\"spark-nlp-display-entity-name\">ECG </span><span class=\"spark-nlp-display-entity-type\">TEST</span></span><span class=\"spark-nlp-display-others\" style=\"background-color: white\"> reveló signos de </span><span class=\"spark-nlp-display-entity-wrapper\" style=\"background-color: #800080\"><span class=\"spark-nlp-display-entity-name\">arritmia cardiaca </span><span class=\"spark-nlp-display-entity-type\">PROBLEM</span></span><span class=\"spark-nlp-display-others\" style=\"background-color: white\">, mientras que el </span><span class=\"spark-nlp-display-entity-wrapper\" style=\"background-color: #77b5fe\"><span class=\"spark-nlp-display-entity-name\">ecocardiograma </span><span class=\"spark-nlp-display-entity-type\">TEST</span></span><span class=\"spark-nlp-display-others\" style=\"background-color: white\"> mostró una </span><span class=\"spark-nlp-display-entity-wrapper\" style=\"background-color: #77b5fe\"><span class=\"spark-nlp-display-entity-name\">función ventricular izquierda </span><span class=\"spark-nlp-display-entity-type\">TEST</span></span><span class=\"spark-nlp-display-others\" style=\"background-color: white\"> reducida. La prueba de esfuerzo indicó </span><span class=\"spark-nlp-display-entity-wrapper\" style=\"background-color: #800080\"><span class=\"spark-nlp-display-entity-name\">isquemia miocárdica inducida por el ejercicio </span><span class=\"spark-nlp-display-entity-type\">PROBLEM</span></span><span class=\"spark-nlp-display-others\" style=\"background-color: white\">, confirmando la presencia de </span><span class=\"spark-nlp-display-entity-wrapper\" style=\"background-color: #800080\"><span class=\"spark-nlp-display-entity-name\">enfermedad arterial coronaria </span><span class=\"spark-nlp-display-entity-type\">PROBLEM</span></span><span class=\"spark-nlp-display-others\" style=\"background-color: white\"> (EAC)</span></div>"
            ]
          },
          "metadata": {}
        },
        {
          "output_type": "stream",
          "name": "stdout",
          "text": [
            "\n",
            "\n",
            "\n"
          ]
        }
      ]
    },
    {
      "cell_type": "markdown",
      "source": [
        "# ner_clinical_fr"
      ],
      "metadata": {
        "id": "3_KcjMV_VVWA"
      }
    },
    {
      "cell_type": "code",
      "source": [
        "model_name = \"ner_clinical_fr\""
      ],
      "metadata": {
        "id": "ym2dp4hQVki2"
      },
      "execution_count": 47,
      "outputs": []
    },
    {
      "cell_type": "code",
      "source": [
        "document_assembler = DocumentAssembler()\\\n",
        "    .setInputCol(\"text\")\\\n",
        "    .setOutputCol(\"document\")\n",
        "\n",
        "sentence_detector = SentenceDetectorDLModel.pretrained(\"sentence_detector_dl\", \"xx\")\\\n",
        "    .setInputCols([\"document\"])\\\n",
        "    .setOutputCol(\"sentence\")\n",
        "\n",
        "tokenizer = Tokenizer() \\\n",
        "    .setInputCols([\"sentence\"]) \\\n",
        "    .setOutputCol(\"token\")\\\n",
        "    .setSplitChars(['-'])\n",
        "\n",
        "embeddings = WordEmbeddingsModel.pretrained(\"w2v_cc_300d\",\"fr\") \\\n",
        "    .setInputCols([\"sentence\", \"token\"]) \\\n",
        "    .setOutputCol(\"embeddings\")\n",
        "\n",
        "ner = MedicalNerModel.pretrained(\"ner_clinical\", \"fr\", \"clinical/models\") \\\n",
        "    .setInputCols([\"sentence\", \"token\", \"embeddings\"]) \\\n",
        "    .setOutputCol(\"ner\")\n",
        "\n",
        "ner_converter = NerConverter() \\\n",
        "    .setInputCols([\"sentence\", \"token\", \"ner\"]) \\\n",
        "    .setOutputCol(\"ner_chunk\")\n",
        "\n",
        "pipeline = Pipeline(stages=[document_assembler,\n",
        "                        sentence_detector,\n",
        "                        tokenizer,\n",
        "                        embeddings,\n",
        "                        ner,\n",
        "                        ner_converter])"
      ],
      "metadata": {
        "colab": {
          "base_uri": "https://localhost:8080/"
        },
        "id": "Bh9yQYNqVqTa",
        "outputId": "6a1e604b-b79b-4813-f295-ba366cb8f02d"
      },
      "execution_count": 49,
      "outputs": [
        {
          "output_type": "stream",
          "name": "stdout",
          "text": [
            "sentence_detector_dl download started this may take some time.\n",
            "Approximate size to download 514.9 KB\n",
            "[OK!]\n",
            "w2v_cc_300d download started this may take some time.\n",
            "Approximate size to download 1.2 GB\n",
            "[OK!]\n",
            "ner_clinical download started this may take some time.\n",
            "[OK!]\n"
          ]
        }
      ]
    },
    {
      "cell_type": "code",
      "source": [
        "df = spark.createDataFrame(pd.DataFrame({'text':text_dict[model_name]}))\n",
        "result = pipeline.fit(df).transform(df)\n",
        "result.show\n",
        "\n",
        "\n",
        "result.select(F.explode(F.arrays_zip(\"ner_chunk.result\", \"ner_chunk.metadata\")).alias(\"cols\"))\\\n",
        "        .select(F.expr(\"cols['0']\").alias(\"chunk\"),\n",
        "                F.expr(\"cols['1']['entity']\").alias(\"ner_label\")).show(truncate=False)"
      ],
      "metadata": {
        "colab": {
          "base_uri": "https://localhost:8080/"
        },
        "id": "ek00V4E1Vu38",
        "outputId": "ee989210-4b5f-4897-8cef-3fa55df0ceaa"
      },
      "execution_count": 50,
      "outputs": [
        {
          "output_type": "stream",
          "name": "stdout",
          "text": [
            "+--------------------------------------+---------+\n",
            "|chunk                                 |ner_label|\n",
            "+--------------------------------------+---------+\n",
            "|douleur persistante                   |PROBLEM  |\n",
            "|gonflement                            |PROBLEM  |\n",
            "|mouvement de son genou droit          |PROBLEM  |\n",
            "|antécédents d'arthrose                |PROBLEM  |\n",
            "|blessée au genou                      |PROBLEM  |\n",
            "|L'examen clinique                     |TEST     |\n",
            "|les radiographies                     |TEST     |\n",
            "|rétrécissement de l'espace articulaire|PROBLEM  |\n",
            "|signes de dégénérescence du cartilage |PROBLEM  |\n",
            "|gravité                               |PROBLEM  |\n",
            "|une IRM                               |TEST     |\n",
            "|L'IRM                                 |TEST     |\n",
            "|perte importante de cartilage         |PROBLEM  |\n",
            "|osseuses correspondant                |PROBLEM  |\n",
            "|arthrose avancée                      |PROBLEM  |\n",
            "|douleur                               |PROBLEM  |\n",
            "|arthroplastie                         |TREATMENT|\n",
            "|essoufflement persistant              |PROBLEM  |\n",
            "|gêne thoracique                       |PROBLEM  |\n",
            "|hypertension                          |PROBLEM  |\n",
            "+--------------------------------------+---------+\n",
            "only showing top 20 rows\n",
            "\n"
          ]
        }
      ]
    },
    {
      "cell_type": "code",
      "source": [
        "from sparknlp_display import NerVisualizer\n",
        "\n",
        "df = spark.createDataFrame(pd.DataFrame({'text': text_dict[model_name]}))\n",
        "result = pipeline.fit(df).transform(df)\n",
        "\n",
        "visualiser = NerVisualizer()\n",
        "\n",
        "for i in range(len(text_dict[model_name])):\n",
        "  visualiser.display(result = result.collect()[i] ,label_col = 'ner_chunk', document_col = 'document')\n",
        "  print(\"\\n\\n\")"
      ],
      "metadata": {
        "colab": {
          "base_uri": "https://localhost:8080/",
          "height": 689
        },
        "id": "7x2vrHkLVwo8",
        "outputId": "842c0692-3cea-409e-dfeb-84a9cef9f6c6"
      },
      "execution_count": 51,
      "outputs": [
        {
          "output_type": "display_data",
          "data": {
            "text/plain": [
              "<IPython.core.display.HTML object>"
            ],
            "text/html": [
              "\n",
              "<style>\n",
              "    @import url('https://fonts.googleapis.com/css2?family=Montserrat:wght@300;400;500;600;700&display=swap');\n",
              "    @import url('https://fonts.googleapis.com/css2?family=Vistol Regular:wght@300;400;500;600;700&display=swap');\n",
              "    \n",
              "    .spark-nlp-display-scroll-entities {\n",
              "        border: 1px solid #E7EDF0;\n",
              "        border-radius: 3px;\n",
              "        text-align: justify;\n",
              "        \n",
              "    }\n",
              "    .spark-nlp-display-scroll-entities span {  \n",
              "        font-size: 14px;\n",
              "        line-height: 24px;\n",
              "        color: #536B76;\n",
              "        font-family: 'Montserrat', sans-serif !important;\n",
              "    }\n",
              "    \n",
              "    .spark-nlp-display-entity-wrapper{\n",
              "    \n",
              "        display: inline-grid;\n",
              "        text-align: center;\n",
              "        border-radius: 4px;\n",
              "        margin: 0 2px 5px 2px;\n",
              "        padding: 1px\n",
              "    }\n",
              "    .spark-nlp-display-entity-name{\n",
              "        font-size: 14px;\n",
              "        line-height: 24px;\n",
              "        font-family: 'Montserrat', sans-serif !important;\n",
              "        \n",
              "        background: #f1f2f3;\n",
              "        border-width: medium;\n",
              "        text-align: center;\n",
              "        \n",
              "        font-weight: 400;\n",
              "        \n",
              "        border-radius: 5px;\n",
              "        padding: 2px 5px;\n",
              "        display: block;\n",
              "        margin: 3px 2px;\n",
              "    \n",
              "    }\n",
              "    .spark-nlp-display-entity-type{\n",
              "        font-size: 14px;\n",
              "        line-height: 24px;\n",
              "        color: #ffffff;\n",
              "        font-family: 'Montserrat', sans-serif !important;\n",
              "        \n",
              "        text-transform: uppercase;\n",
              "        \n",
              "        font-weight: 500;\n",
              "\n",
              "        display: block;\n",
              "        padding: 3px 5px;\n",
              "    }\n",
              "    \n",
              "    .spark-nlp-display-entity-resolution{\n",
              "        font-size: 14px;\n",
              "        line-height: 24px;\n",
              "        color: #ffffff;\n",
              "        font-family: 'Vistol Regular', sans-serif !important;\n",
              "        \n",
              "        text-transform: uppercase;\n",
              "        \n",
              "        font-weight: 500;\n",
              "\n",
              "        display: block;\n",
              "        padding: 3px 5px;\n",
              "    }\n",
              "    \n",
              "    .spark-nlp-display-others{\n",
              "        font-size: 14px;\n",
              "        line-height: 24px;\n",
              "        font-family: 'Montserrat', sans-serif !important;\n",
              "        \n",
              "        font-weight: 400;\n",
              "    }\n",
              "\n",
              "</style>\n",
              " <span class=\"spark-nlp-display-others\" style=\"background-color: white\">Une femme de 50 ans s'est présentée à la clinique orthopédique en se plaignant d'une </span><span class=\"spark-nlp-display-entity-wrapper\" style=\"background-color: #800080\"><span class=\"spark-nlp-display-entity-name\">douleur persistante </span><span class=\"spark-nlp-display-entity-type\">PROBLEM</span></span><span class=\"spark-nlp-display-others\" style=\"background-color: white\">, d'un </span><span class=\"spark-nlp-display-entity-wrapper\" style=\"background-color: #800080\"><span class=\"spark-nlp-display-entity-name\">gonflement </span><span class=\"spark-nlp-display-entity-type\">PROBLEM</span></span><span class=\"spark-nlp-display-others\" style=\"background-color: white\"> et d'une limitation de l'amplitude de </span><span class=\"spark-nlp-display-entity-wrapper\" style=\"background-color: #800080\"><span class=\"spark-nlp-display-entity-name\">mouvement de son genou droit </span><span class=\"spark-nlp-display-entity-type\">PROBLEM</span></span><span class=\"spark-nlp-display-others\" style=\"background-color: white\">. La patiente a déclaré avoir des </span><span class=\"spark-nlp-display-entity-wrapper\" style=\"background-color: #800080\"><span class=\"spark-nlp-display-entity-name\">antécédents d'arthrose </span><span class=\"spark-nlp-display-entity-type\">PROBLEM</span></span><span class=\"spark-nlp-display-others\" style=\"background-color: white\"> et s'être déjà </span><span class=\"spark-nlp-display-entity-wrapper\" style=\"background-color: #800080\"><span class=\"spark-nlp-display-entity-name\">blessée au genou </span><span class=\"spark-nlp-display-entity-type\">PROBLEM</span></span><span class=\"spark-nlp-display-others\" style=\"background-color: white\">. </span><span class=\"spark-nlp-display-entity-wrapper\" style=\"background-color: #77b5fe\"><span class=\"spark-nlp-display-entity-name\">L'examen clinique </span><span class=\"spark-nlp-display-entity-type\">TEST</span></span><span class=\"spark-nlp-display-others\" style=\"background-color: white\"> et </span><span class=\"spark-nlp-display-entity-wrapper\" style=\"background-color: #77b5fe\"><span class=\"spark-nlp-display-entity-name\">les radiographies </span><span class=\"spark-nlp-display-entity-type\">TEST</span></span><span class=\"spark-nlp-display-others\" style=\"background-color: white\"> effectuées ont révélé un </span><span class=\"spark-nlp-display-entity-wrapper\" style=\"background-color: #800080\"><span class=\"spark-nlp-display-entity-name\">rétrécissement de l'espace articulaire </span><span class=\"spark-nlp-display-entity-type\">PROBLEM</span></span><span class=\"spark-nlp-display-others\" style=\"background-color: white\">, la formation d'ostéophytes et des </span><span class=\"spark-nlp-display-entity-wrapper\" style=\"background-color: #800080\"><span class=\"spark-nlp-display-entity-name\">signes de dégénérescence du cartilage </span><span class=\"spark-nlp-display-entity-type\">PROBLEM</span></span><span class=\"spark-nlp-display-others\" style=\"background-color: white\">. Pour confirmer le diagnostic et en évaluer la </span><span class=\"spark-nlp-display-entity-wrapper\" style=\"background-color: #800080\"><span class=\"spark-nlp-display-entity-name\">gravité </span><span class=\"spark-nlp-display-entity-type\">PROBLEM</span></span><span class=\"spark-nlp-display-others\" style=\"background-color: white\">, </span><span class=\"spark-nlp-display-entity-wrapper\" style=\"background-color: #77b5fe\"><span class=\"spark-nlp-display-entity-name\">une IRM </span><span class=\"spark-nlp-display-entity-type\">TEST</span></span><span class=\"spark-nlp-display-others\" style=\"background-color: white\"> a été demandée. </span><span class=\"spark-nlp-display-entity-wrapper\" style=\"background-color: #77b5fe\"><span class=\"spark-nlp-display-entity-name\">L'IRM </span><span class=\"spark-nlp-display-entity-type\">TEST</span></span><span class=\"spark-nlp-display-others\" style=\"background-color: white\"> a montré une </span><span class=\"spark-nlp-display-entity-wrapper\" style=\"background-color: #800080\"><span class=\"spark-nlp-display-entity-name\">perte importante de cartilage </span><span class=\"spark-nlp-display-entity-type\">PROBLEM</span></span><span class=\"spark-nlp-display-others\" style=\"background-color: white\"> et des modifications </span><span class=\"spark-nlp-display-entity-wrapper\" style=\"background-color: #800080\"><span class=\"spark-nlp-display-entity-name\">osseuses correspondant </span><span class=\"spark-nlp-display-entity-type\">PROBLEM</span></span><span class=\"spark-nlp-display-others\" style=\"background-color: white\"> à une </span><span class=\"spark-nlp-display-entity-wrapper\" style=\"background-color: #800080\"><span class=\"spark-nlp-display-entity-name\">arthrose avancée </span><span class=\"spark-nlp-display-entity-type\">PROBLEM</span></span><span class=\"spark-nlp-display-others\" style=\"background-color: white\">. Après avoir pris en compte l'état de santé et les préférences du patient, un plan de traitement comprenant la prise en charge de la </span><span class=\"spark-nlp-display-entity-wrapper\" style=\"background-color: #800080\"><span class=\"spark-nlp-display-entity-name\">douleur </span><span class=\"spark-nlp-display-entity-type\">PROBLEM</span></span><span class=\"spark-nlp-display-others\" style=\"background-color: white\">, la kinésithérapie et la possibilité d'une </span><span class=\"spark-nlp-display-entity-wrapper\" style=\"background-color: #8b6673\"><span class=\"spark-nlp-display-entity-name\">arthroplastie </span><span class=\"spark-nlp-display-entity-type\">TREATMENT</span></span><span class=\"spark-nlp-display-others\" style=\"background-color: white\"> a été discuté.</span></div>"
            ]
          },
          "metadata": {}
        },
        {
          "output_type": "stream",
          "name": "stdout",
          "text": [
            "\n",
            "\n",
            "\n"
          ]
        },
        {
          "output_type": "display_data",
          "data": {
            "text/plain": [
              "<IPython.core.display.HTML object>"
            ],
            "text/html": [
              "\n",
              "<style>\n",
              "    @import url('https://fonts.googleapis.com/css2?family=Montserrat:wght@300;400;500;600;700&display=swap');\n",
              "    @import url('https://fonts.googleapis.com/css2?family=Vistol Regular:wght@300;400;500;600;700&display=swap');\n",
              "    \n",
              "    .spark-nlp-display-scroll-entities {\n",
              "        border: 1px solid #E7EDF0;\n",
              "        border-radius: 3px;\n",
              "        text-align: justify;\n",
              "        \n",
              "    }\n",
              "    .spark-nlp-display-scroll-entities span {  \n",
              "        font-size: 14px;\n",
              "        line-height: 24px;\n",
              "        color: #536B76;\n",
              "        font-family: 'Montserrat', sans-serif !important;\n",
              "    }\n",
              "    \n",
              "    .spark-nlp-display-entity-wrapper{\n",
              "    \n",
              "        display: inline-grid;\n",
              "        text-align: center;\n",
              "        border-radius: 4px;\n",
              "        margin: 0 2px 5px 2px;\n",
              "        padding: 1px\n",
              "    }\n",
              "    .spark-nlp-display-entity-name{\n",
              "        font-size: 14px;\n",
              "        line-height: 24px;\n",
              "        font-family: 'Montserrat', sans-serif !important;\n",
              "        \n",
              "        background: #f1f2f3;\n",
              "        border-width: medium;\n",
              "        text-align: center;\n",
              "        \n",
              "        font-weight: 400;\n",
              "        \n",
              "        border-radius: 5px;\n",
              "        padding: 2px 5px;\n",
              "        display: block;\n",
              "        margin: 3px 2px;\n",
              "    \n",
              "    }\n",
              "    .spark-nlp-display-entity-type{\n",
              "        font-size: 14px;\n",
              "        line-height: 24px;\n",
              "        color: #ffffff;\n",
              "        font-family: 'Montserrat', sans-serif !important;\n",
              "        \n",
              "        text-transform: uppercase;\n",
              "        \n",
              "        font-weight: 500;\n",
              "\n",
              "        display: block;\n",
              "        padding: 3px 5px;\n",
              "    }\n",
              "    \n",
              "    .spark-nlp-display-entity-resolution{\n",
              "        font-size: 14px;\n",
              "        line-height: 24px;\n",
              "        color: #ffffff;\n",
              "        font-family: 'Vistol Regular', sans-serif !important;\n",
              "        \n",
              "        text-transform: uppercase;\n",
              "        \n",
              "        font-weight: 500;\n",
              "\n",
              "        display: block;\n",
              "        padding: 3px 5px;\n",
              "    }\n",
              "    \n",
              "    .spark-nlp-display-others{\n",
              "        font-size: 14px;\n",
              "        line-height: 24px;\n",
              "        font-family: 'Montserrat', sans-serif !important;\n",
              "        \n",
              "        font-weight: 400;\n",
              "    }\n",
              "\n",
              "</style>\n",
              " <span class=\"spark-nlp-display-others\" style=\"background-color: white\">Un homme de 45 ans s'est présenté à la clinique avec un </span><span class=\"spark-nlp-display-entity-wrapper\" style=\"background-color: #800080\"><span class=\"spark-nlp-display-entity-name\">essoufflement persistant </span><span class=\"spark-nlp-display-entity-type\">PROBLEM</span></span><span class=\"spark-nlp-display-others\" style=\"background-color: white\"> et une </span><span class=\"spark-nlp-display-entity-wrapper\" style=\"background-color: #800080\"><span class=\"spark-nlp-display-entity-name\">gêne thoracique </span><span class=\"spark-nlp-display-entity-type\">PROBLEM</span></span><span class=\"spark-nlp-display-others\" style=\"background-color: white\">. Les antécédents médicaux du patient révèlent une </span><span class=\"spark-nlp-display-entity-wrapper\" style=\"background-color: #800080\"><span class=\"spark-nlp-display-entity-name\">hypertension </span><span class=\"spark-nlp-display-entity-type\">PROBLEM</span></span><span class=\"spark-nlp-display-others\" style=\"background-color: white\"> et des antécédents familiaux de </span><span class=\"spark-nlp-display-entity-wrapper\" style=\"background-color: #800080\"><span class=\"spark-nlp-display-entity-name\">maladies cardiovasculaires </span><span class=\"spark-nlp-display-entity-type\">PROBLEM</span></span><span class=\"spark-nlp-display-others\" style=\"background-color: white\">. </span><span class=\"spark-nlp-display-entity-wrapper\" style=\"background-color: #77b5fe\"><span class=\"spark-nlp-display-entity-name\">L'examen physique initial </span><span class=\"spark-nlp-display-entity-type\">TEST</span></span><span class=\"spark-nlp-display-others\" style=\"background-color: white\"> a révélé une </span><span class=\"spark-nlp-display-entity-wrapper\" style=\"background-color: #800080\"><span class=\"spark-nlp-display-entity-name\">tension artérielle élevée </span><span class=\"spark-nlp-display-entity-type\">PROBLEM</span></span><span class=\"spark-nlp-display-others\" style=\"background-color: white\"> et des </span><span class=\"spark-nlp-display-entity-wrapper\" style=\"background-color: #800080\"><span class=\"spark-nlp-display-entity-name\">bruits cardiaques irréguliers </span><span class=\"spark-nlp-display-entity-type\">PROBLEM</span></span><span class=\"spark-nlp-display-others\" style=\"background-color: white\">. Pour mieux évaluer la situation, un </span><span class=\"spark-nlp-display-entity-wrapper\" style=\"background-color: #77b5fe\"><span class=\"spark-nlp-display-entity-name\">électrocardiogramme </span><span class=\"spark-nlp-display-entity-type\">TEST</span></span><span class=\"spark-nlp-display-others\" style=\"background-color: white\"> (</span><span class=\"spark-nlp-display-entity-wrapper\" style=\"background-color: #77b5fe\"><span class=\"spark-nlp-display-entity-name\">ECG </span><span class=\"spark-nlp-display-entity-type\">TEST</span></span><span class=\"spark-nlp-display-others\" style=\"background-color: white\">), </span><span class=\"spark-nlp-display-entity-wrapper\" style=\"background-color: #77b5fe\"><span class=\"spark-nlp-display-entity-name\">un échocardiogramme </span><span class=\"spark-nlp-display-entity-type\">TEST</span></span><span class=\"spark-nlp-display-others\" style=\"background-color: white\"> et </span><span class=\"spark-nlp-display-entity-wrapper\" style=\"background-color: #77b5fe\"><span class=\"spark-nlp-display-entity-name\">une épreuve d'effort </span><span class=\"spark-nlp-display-entity-type\">TEST</span></span><span class=\"spark-nlp-display-others\" style=\"background-color: white\"> ont été réalisés. L'ECG a révélé des </span><span class=\"spark-nlp-display-entity-wrapper\" style=\"background-color: #800080\"><span class=\"spark-nlp-display-entity-name\">signes d'arythmie cardiaque </span><span class=\"spark-nlp-display-entity-type\">PROBLEM</span></span><span class=\"spark-nlp-display-others\" style=\"background-color: white\">, tandis que l'échocardiographie a montré une </span><span class=\"spark-nlp-display-entity-wrapper\" style=\"background-color: #8b6673\"><span class=\"spark-nlp-display-entity-name\">réduction de la fonction ventriculaire gauche </span><span class=\"spark-nlp-display-entity-type\">TREATMENT</span></span><span class=\"spark-nlp-display-others\" style=\"background-color: white\">. </span><span class=\"spark-nlp-display-entity-wrapper\" style=\"background-color: #77b5fe\"><span class=\"spark-nlp-display-entity-name\">L'épreuve d'effort </span><span class=\"spark-nlp-display-entity-type\">TEST</span></span><span class=\"spark-nlp-display-others\" style=\"background-color: white\"> a révélé une </span><span class=\"spark-nlp-display-entity-wrapper\" style=\"background-color: #800080\"><span class=\"spark-nlp-display-entity-name\">ischémie myocardique induite par l'exercice </span><span class=\"spark-nlp-display-entity-type\">PROBLEM</span></span><span class=\"spark-nlp-display-others\" style=\"background-color: white\">, confirmant la présence d'une </span><span class=\"spark-nlp-display-entity-wrapper\" style=\"background-color: #800080\"><span class=\"spark-nlp-display-entity-name\">maladie coronarienne </span><span class=\"spark-nlp-display-entity-type\">PROBLEM</span></span><span class=\"spark-nlp-display-others\" style=\"background-color: white\">.</span></div>"
            ]
          },
          "metadata": {}
        },
        {
          "output_type": "stream",
          "name": "stdout",
          "text": [
            "\n",
            "\n",
            "\n"
          ]
        }
      ]
    }
  ]
}
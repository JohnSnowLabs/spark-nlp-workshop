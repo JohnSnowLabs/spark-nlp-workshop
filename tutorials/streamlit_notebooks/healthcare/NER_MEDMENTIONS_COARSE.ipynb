{
  "nbformat": 4,
  "nbformat_minor": 0,
  "metadata": {
    "colab": {
      "name": "NER_MEDMENTIONS_COARSE.ipynb",
      "provenance": [],
      "collapsed_sections": []
    },
    "kernelspec": {
      "name": "python3",
      "display_name": "Python 3"
    },
    "language_info": {
      "name": "python"
    },
    "accelerator": "GPU",
    "gpuClass": "standard"
  },
  "cells": [
    {
      "cell_type": "markdown",
      "source": [
        "![JohnSnowLabs](https://nlp.johnsnowlabs.com/assets/images/logo.png)\n",
        "\n",
        "[![Open In Colab](https://colab.research.google.com/assets/colab-badge.svg)](https://colab.research.google.com/github/JohnSnowLabs/spark-nlp-workshop/blob/master/tutorials/streamlit_notebooks/healthcare/NER_MEDMENTIONS_COARSE.ipynb)"
      ],
      "metadata": {
        "id": "TVLM7ICfdLAb"
      }
    },
    {
      "cell_type": "markdown",
      "source": [
        "## **Detect Mentions of General Medical Terms**"
      ],
      "metadata": {
        "id": "kk2AH6uleOmc"
      }
    },
    {
      "cell_type": "markdown",
      "source": [
        "To run this yourself, you will need to upload your license keys to the notebook. Just Run The Cell Below in order to do that. Also You can open the file explorer on the left side of the screen and upload license_keys.json to the folder that opens. Otherwise, you can look at the example outputs at the bottom of the notebook."
      ],
      "metadata": {
        "id": "YI4PyEl7ectJ"
      }
    },
    {
      "cell_type": "markdown",
      "source": [
        "## **Colab Setup**"
      ],
      "metadata": {
        "id": "GJ_ljd3lefOj"
      }
    },
    {
      "cell_type": "code",
      "execution_count": null,
      "metadata": {
        "id": "g4FyJxLnag7_"
      },
      "outputs": [],
      "source": [
        "import json\n",
        "import os\n",
        "\n",
        "from google.colab import files\n",
        "\n",
        "license_keys = files.upload()\n",
        "\n",
        "with open(list(license_keys.keys())[0]) as f:\n",
        "    license_keys = json.load(f)\n",
        "\n",
        "# Defining license key-value pairs as local variables\n",
        "locals().update(license_keys)\n",
        "\n",
        "# Adding license key-value pairs to environment variables\n",
        "os.environ.update(license_keys)"
      ]
    },
    {
      "cell_type": "markdown",
      "source": [
        "## **Install dependencies**"
      ],
      "metadata": {
        "id": "HlJLcqmteuoL"
      }
    },
    {
      "cell_type": "code",
      "source": [
        "# Installing pyspark and spark-nlp\n",
        "! pip install --upgrade -q pyspark==3.1.2 spark-nlp==$PUBLIC_VERSION\n",
        "\n",
        "# Installing Spark NLP Healthcare\n",
        "! pip install --upgrade -q spark-nlp-jsl==$JSL_VERSION  --extra-index-url https://pypi.johnsnowlabs.com/$SECRET\n",
        "\n",
        "# Installing Spark NLP Display Library for visualization\n",
        "! pip install -q spark-nlp-display"
      ],
      "metadata": {
        "id": "ErxNUanEewye"
      },
      "execution_count": null,
      "outputs": []
    },
    {
      "cell_type": "markdown",
      "source": [
        "## **Import dependencies into Python and start the Spark session**"
      ],
      "metadata": {
        "id": "K5C7P3p9jOc-"
      }
    },
    {
      "cell_type": "code",
      "source": [
        "import json\n",
        "import os\n",
        "\n",
        "from pyspark.ml import Pipeline, PipelineModel\n",
        "from pyspark.sql import SparkSession\n",
        "\n",
        "import sparknlp\n",
        "import sparknlp_jsl\n",
        "\n",
        "from sparknlp.annotator import *\n",
        "from sparknlp_jsl.annotator import *\n",
        "from sparknlp.base import *\n",
        "from sparknlp.util import *\n",
        "from sparknlp.pretrained import ResourceDownloader\n",
        "from pyspark.sql import functions as F\n",
        "\n",
        "from sparknlp_display import EntityResolverVisualizer\n",
        "\n",
        "import pandas as pd\n",
        "\n",
        "pd.set_option('display.max_columns', None)  \n",
        "pd.set_option('display.expand_frame_repr', False)\n",
        "pd.set_option('max_colwidth', None)\n",
        "\n",
        "import string\n",
        "import numpy as np\n",
        "\n",
        "params = {\"spark.driver.memory\":\"16G\",\n",
        "          \"spark.kryoserializer.buffer.max\":\"2000M\",\n",
        "          \"spark.driver.maxResultSize\":\"2000M\"}\n",
        "\n",
        "spark = sparknlp_jsl.start(secret = SECRET, params=params)\n",
        "\n",
        "print (\"Spark NLP Version :\", sparknlp.version())\n",
        "print (\"Spark NLP_JSL Version :\", sparknlp_jsl.version())\n",
        "\n",
        "spark"
      ],
      "metadata": {
        "colab": {
          "base_uri": "https://localhost:8080/",
          "height": 254
        },
        "id": "rd49bzh-i9hB",
        "outputId": "9f1feb3c-2c66-40fb-9d16-65b77c2f41f8"
      },
      "execution_count": 3,
      "outputs": [
        {
          "output_type": "stream",
          "name": "stdout",
          "text": [
            "Spark NLP Version : 4.0.2\n",
            "Spark NLP_JSL Version : 4.0.2\n"
          ]
        },
        {
          "output_type": "execute_result",
          "data": {
            "text/plain": [
              "<pyspark.sql.session.SparkSession at 0x7f350ef86cd0>"
            ],
            "text/html": [
              "\n",
              "            <div>\n",
              "                <p><b>SparkSession - in-memory</b></p>\n",
              "                \n",
              "        <div>\n",
              "            <p><b>SparkContext</b></p>\n",
              "\n",
              "            <p><a href=\"http://70d645206b02:4040\">Spark UI</a></p>\n",
              "\n",
              "            <dl>\n",
              "              <dt>Version</dt>\n",
              "                <dd><code>v3.1.2</code></dd>\n",
              "              <dt>Master</dt>\n",
              "                <dd><code>local[*]</code></dd>\n",
              "              <dt>AppName</dt>\n",
              "                <dd><code>Spark NLP Licensed</code></dd>\n",
              "            </dl>\n",
              "        </div>\n",
              "        \n",
              "            </div>\n",
              "        "
            ]
          },
          "metadata": {},
          "execution_count": 3
        }
      ]
    },
    {
      "cell_type": "markdown",
      "source": [
        "# **🔎Define Spark NLP pipeline**"
      ],
      "metadata": {
        "id": "owbpvcbIlkIa"
      }
    },
    {
      "cell_type": "code",
      "source": [
        "documentAssembler = DocumentAssembler() \\\n",
        "    .setInputCol('text')\\\n",
        "    .setOutputCol('document')\n",
        "\n",
        "sentenceDetector = SentenceDetector() \\\n",
        "    .setInputCols(['document'])\\\n",
        "    .setOutputCol('sentence')\n",
        "\n",
        "tokenizer = Tokenizer()\\\n",
        "    .setInputCols(['sentence']) \\\n",
        "    .setOutputCol('token')\n",
        "\n",
        "embeddings_clinical = WordEmbeddingsModel.pretrained(\"embeddings_clinical\", \"en\", \"clinical/models\")\\\n",
        "    .setInputCols([\"sentence\", \"token\"])\\\n",
        "    .setOutputCol(\"embeddings\")\n",
        "\n",
        "clinical_ner = MedicalNerModel.pretrained(\"ner_medmentions_coarse\", \"en\", \"clinical/models\")\\\n",
        "    .setInputCols([\"sentence\", \"token\", \"embeddings\"])\\\n",
        "    .setOutputCol(\"ner\")\n",
        "\n",
        "ner_converter = NerConverter() \\\n",
        "    .setInputCols(['sentence', 'token', 'ner']) \\\n",
        "    .setOutputCol('ner_chunk')\n",
        "\n",
        "nlpPipeline = Pipeline(stages=[\n",
        "    documentAssembler, \n",
        "    sentenceDetector,\n",
        "    tokenizer,\n",
        "    embeddings_clinical,\n",
        "    clinical_ner,\n",
        "    ner_converter])\n",
        "\n",
        "empty_df = spark.createDataFrame([['']]).toDF(\"text\")\n",
        "pipelineModel = nlpPipeline.fit(empty_df)"
      ],
      "metadata": {
        "colab": {
          "base_uri": "https://localhost:8080/"
        },
        "id": "fx1l-L9WliM7",
        "outputId": "9e7d43be-2041-4fe4-f311-e1fa7ada9781"
      },
      "execution_count": 4,
      "outputs": [
        {
          "output_type": "stream",
          "name": "stdout",
          "text": [
            "embeddings_clinical download started this may take some time.\n",
            "Approximate size to download 1.6 GB\n",
            "[OK!]\n",
            "ner_medmentions_coarse download started this may take some time.\n",
            "[OK!]\n"
          ]
        }
      ]
    },
    {
      "cell_type": "markdown",
      "source": [
        "## **Create example inputs**"
      ],
      "metadata": {
        "id": "g86zoYF1n-tq"
      }
    },
    {
      "cell_type": "code",
      "source": [
        "sample_text = [\"\"\"Combining electrostatic powder with an insecticide : effect on stored-product beetles. The opportunity to reduce the amount of pirimiphos-methyl applied to grain by formulating it in an electrostatic powder was investigated .\"\"\"]"
      ],
      "metadata": {
        "id": "a80yvHuToFkQ"
      },
      "execution_count": 5,
      "outputs": []
    },
    {
      "cell_type": "markdown",
      "source": [
        "## **Use the pipeline to create outputs**"
      ],
      "metadata": {
        "id": "qrjKJFRComKI"
      }
    },
    {
      "cell_type": "code",
      "source": [
        "df = spark.createDataFrame(pd.DataFrame({'text': sample_text}))\n",
        "\n",
        "result = pipelineModel.transform(df)\n",
        "\n",
        "result.select(F.explode(F.arrays_zip(result.ner_chunk.result, result.ner_chunk.metadata)).alias(\"cols\"))\\\n",
        "      .select(F.expr(\"cols['0']\").alias(\"chunk\"),\n",
        "              F.expr(\"cols['1']['entity']\").alias(\"ner_label\")).show(30, truncate=False)"
      ],
      "metadata": {
        "colab": {
          "base_uri": "https://localhost:8080/"
        },
        "id": "PdHXq7_8op5B",
        "outputId": "7a0a2f32-0aa8-4fa5-c97c-587710b5d756"
      },
      "execution_count": 6,
      "outputs": [
        {
          "output_type": "stream",
          "name": "stdout",
          "text": [
            "+----------------------+--------------------+\n",
            "|chunk                 |ner_label           |\n",
            "+----------------------+--------------------+\n",
            "|electrostatic powder  |Substance           |\n",
            "|insecticide           |Chemical            |\n",
            "|effect                |Qualitative_Concept |\n",
            "|stored-product beetles|Eukaryote           |\n",
            "|amount                |Quantitative_Concept|\n",
            "|pirimiphos-methyl     |Organic_Chemical    |\n",
            "|grain                 |Food                |\n",
            "|electrostatic powder  |Substance           |\n",
            "+----------------------+--------------------+\n",
            "\n"
          ]
        }
      ]
    },
    {
      "cell_type": "markdown",
      "source": [
        "## **Visualize results**"
      ],
      "metadata": {
        "id": "A3cxttPKowHT"
      }
    },
    {
      "cell_type": "code",
      "source": [
        "from sparknlp_display import NerVisualizer\n",
        "\n",
        "NerVisualizer().display(\n",
        "    result = result.collect()[0],\n",
        "    label_col = 'ner_chunk',\n",
        "    document_col = 'document'\n",
        ")"
      ],
      "metadata": {
        "colab": {
          "base_uri": "https://localhost:8080/",
          "height": 159
        },
        "id": "MXk5IPmCo0D3",
        "outputId": "956688a8-f533-49db-f257-871648462c4e"
      },
      "execution_count": 7,
      "outputs": [
        {
          "output_type": "display_data",
          "data": {
            "text/plain": [
              "<IPython.core.display.HTML object>"
            ],
            "text/html": [
              "\n",
              "<style>\n",
              "    @import url('https://fonts.googleapis.com/css2?family=Montserrat:wght@300;400;500;600;700&display=swap');\n",
              "    @import url('https://fonts.googleapis.com/css2?family=Vistol Regular:wght@300;400;500;600;700&display=swap');\n",
              "    \n",
              "    .spark-nlp-display-scroll-entities {\n",
              "        border: 1px solid #E7EDF0;\n",
              "        border-radius: 3px;\n",
              "        text-align: justify;\n",
              "        \n",
              "    }\n",
              "    .spark-nlp-display-scroll-entities span {  \n",
              "        font-size: 14px;\n",
              "        line-height: 24px;\n",
              "        color: #536B76;\n",
              "        font-family: 'Montserrat', sans-serif !important;\n",
              "    }\n",
              "    \n",
              "    .spark-nlp-display-entity-wrapper{\n",
              "    \n",
              "        display: inline-grid;\n",
              "        text-align: center;\n",
              "        border-radius: 4px;\n",
              "        margin: 0 2px 5px 2px;\n",
              "        padding: 1px\n",
              "    }\n",
              "    .spark-nlp-display-entity-name{\n",
              "        font-size: 14px;\n",
              "        line-height: 24px;\n",
              "        font-family: 'Montserrat', sans-serif !important;\n",
              "        \n",
              "        background: #f1f2f3;\n",
              "        border-width: medium;\n",
              "        text-align: center;\n",
              "        \n",
              "        font-weight: 400;\n",
              "        \n",
              "        border-radius: 5px;\n",
              "        padding: 2px 5px;\n",
              "        display: block;\n",
              "        margin: 3px 2px;\n",
              "    \n",
              "    }\n",
              "    .spark-nlp-display-entity-type{\n",
              "        font-size: 14px;\n",
              "        line-height: 24px;\n",
              "        color: #ffffff;\n",
              "        font-family: 'Montserrat', sans-serif !important;\n",
              "        \n",
              "        text-transform: uppercase;\n",
              "        \n",
              "        font-weight: 500;\n",
              "\n",
              "        display: block;\n",
              "        padding: 3px 5px;\n",
              "    }\n",
              "    \n",
              "    .spark-nlp-display-entity-resolution{\n",
              "        font-size: 14px;\n",
              "        line-height: 24px;\n",
              "        color: #ffffff;\n",
              "        font-family: 'Vistol Regular', sans-serif !important;\n",
              "        \n",
              "        text-transform: uppercase;\n",
              "        \n",
              "        font-weight: 500;\n",
              "\n",
              "        display: block;\n",
              "        padding: 3px 5px;\n",
              "    }\n",
              "    \n",
              "    .spark-nlp-display-others{\n",
              "        font-size: 14px;\n",
              "        line-height: 24px;\n",
              "        font-family: 'Montserrat', sans-serif !important;\n",
              "        \n",
              "        font-weight: 400;\n",
              "    }\n",
              "\n",
              "</style>\n",
              " <span class=\"spark-nlp-display-others\" style=\"background-color: white\">Combining </span><span class=\"spark-nlp-display-entity-wrapper\" style=\"background-color: #9A3963\"><span class=\"spark-nlp-display-entity-name\">electrostatic powder </span><span class=\"spark-nlp-display-entity-type\">Substance</span></span><span class=\"spark-nlp-display-others\" style=\"background-color: white\"> with an </span><span class=\"spark-nlp-display-entity-wrapper\" style=\"background-color: #6154B5\"><span class=\"spark-nlp-display-entity-name\">insecticide </span><span class=\"spark-nlp-display-entity-type\">Chemical</span></span><span class=\"spark-nlp-display-others\" style=\"background-color: white\"> : </span><span class=\"spark-nlp-display-entity-wrapper\" style=\"background-color: #51339F\"><span class=\"spark-nlp-display-entity-name\">effect </span><span class=\"spark-nlp-display-entity-type\">Qualitative_Concept</span></span><span class=\"spark-nlp-display-others\" style=\"background-color: white\"> on </span><span class=\"spark-nlp-display-entity-wrapper\" style=\"background-color: #448736\"><span class=\"spark-nlp-display-entity-name\">stored-product beetles </span><span class=\"spark-nlp-display-entity-type\">Eukaryote</span></span><span class=\"spark-nlp-display-others\" style=\"background-color: white\">. The opportunity to reduce the </span><span class=\"spark-nlp-display-entity-wrapper\" style=\"background-color: #782D03\"><span class=\"spark-nlp-display-entity-name\">amount </span><span class=\"spark-nlp-display-entity-type\">Quantitative_Concept</span></span><span class=\"spark-nlp-display-others\" style=\"background-color: white\"> of </span><span class=\"spark-nlp-display-entity-wrapper\" style=\"background-color: #153F8E\"><span class=\"spark-nlp-display-entity-name\">pirimiphos-methyl </span><span class=\"spark-nlp-display-entity-type\">Organic_Chemical</span></span><span class=\"spark-nlp-display-others\" style=\"background-color: white\"> applied to </span><span class=\"spark-nlp-display-entity-wrapper\" style=\"background-color: #272E30\"><span class=\"spark-nlp-display-entity-name\">grain </span><span class=\"spark-nlp-display-entity-type\">Food</span></span><span class=\"spark-nlp-display-others\" style=\"background-color: white\"> by formulating it in an </span><span class=\"spark-nlp-display-entity-wrapper\" style=\"background-color: #9A3963\"><span class=\"spark-nlp-display-entity-name\">electrostatic powder </span><span class=\"spark-nlp-display-entity-type\">Substance</span></span><span class=\"spark-nlp-display-others\" style=\"background-color: white\"> was investigated .</span></div>"
            ]
          },
          "metadata": {}
        }
      ]
    }
  ]
}
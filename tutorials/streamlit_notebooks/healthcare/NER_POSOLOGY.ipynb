{
  "nbformat": 4,
  "nbformat_minor": 0,
  "metadata": {
    "colab": {
      "provenance": [],
      "collapsed_sections": [
        "Oyszm0lfKLgF",
        "cTR2NkbfMTDt",
        "J_C_iy96JROE",
        "9BVg6IFQbLvy",
        "kpMoYHt4bU7P",
        "gQa66WlqbiKX",
        "4_rA-1tzbiDT",
        "zAVa59DdbiAM",
        "_znIXfnrb7M7",
        "vs89AQOZb7KF",
        "FJqbHKMlb7Hm",
        "7F8MtsT4b7Eo",
        "OzrjPvlLcSuL",
        "TlZ163rjcX2F"
      ],
      "toc_visible": true
    },
    "kernelspec": {
      "name": "python3",
      "display_name": "Python 3"
    },
    "language_info": {
      "name": "python"
    }
  },
  "cells": [
    {
      "cell_type": "markdown",
      "source": [
        "\n",
        "![JohnSnowLabs](https://nlp.johnsnowlabs.com/assets/images/logo.png)\n",
        "\n",
        "[![Open In Colab](https://colab.research.google.com/assets/colab-badge.svg)](https://colab.research.google.com/github/JohnSnowLabs/spark-nlp-workshop/blob/master/tutorials/streamlit_notebooks/healthcare/NER_POSOLOGY.ipynb)"
      ],
      "metadata": {
        "id": "eZU4hmc4IK9G"
      }
    },
    {
      "cell_type": "markdown",
      "source": [
        "# **Detect drugs and prescriptions**"
      ],
      "metadata": {
        "id": "iu-P9dPHJ6iX"
      }
    },
    {
      "cell_type": "markdown",
      "source": [
        "To run this yourself, you will need to upload your license keys to the notebook. Just Run The Cell Below in order to do that. Also You can open the file explorer on the left side of the screen and upload license_keys.json to the folder that opens. Otherwise, you can look at the example outputs at the bottom of the notebook."
      ],
      "metadata": {
        "id": "fGwKhyO_J5B-"
      }
    },
    {
      "cell_type": "markdown",
      "source": [
        "# **Colab Setup**"
      ],
      "metadata": {
        "id": "8e0HUE_QH3_I"
      }
    },
    {
      "cell_type": "code",
      "execution_count": null,
      "metadata": {
        "id": "mcPe-BmbvijG"
      },
      "outputs": [],
      "source": [
        "import json\n",
        "import os\n",
        "\n",
        "from google.colab import files\n",
        "\n",
        "license_keys = files.upload()\n",
        "\n",
        "with open(list(license_keys.keys())[0]) as f:\n",
        "    license_keys = json.load(f)\n",
        "\n",
        "# Defining license key-value pairs as local variables\n",
        "locals().update(license_keys)\n",
        "\n",
        "# Adding license key-value pairs to environment variables\n",
        "os.environ.update(license_keys)"
      ]
    },
    {
      "cell_type": "markdown",
      "source": [
        "# **Install dependencies**"
      ],
      "metadata": {
        "id": "yLtlJDZpHykb"
      }
    },
    {
      "cell_type": "code",
      "source": [
        "# Installing pyspark and spark-nlp\n",
        "! pip install --upgrade -q pyspark==3.1.2 spark-nlp==$PUBLIC_VERSION\n",
        "\n",
        "# Installing Spark NLP Healthcare\n",
        "! pip install --upgrade -q spark-nlp-jsl==$JSL_VERSION  --extra-index-url https://pypi.johnsnowlabs.com/$SECRET\n",
        "\n",
        "# Installing Spark NLP Display Library for visualization\n",
        "! pip install -q spark-nlp-display"
      ],
      "metadata": {
        "id": "NN2vmxS1v-O_"
      },
      "execution_count": null,
      "outputs": []
    },
    {
      "cell_type": "markdown",
      "source": [
        "# **Import dependencies into Python and start the Spark session**"
      ],
      "metadata": {
        "id": "Oyszm0lfKLgF"
      }
    },
    {
      "cell_type": "code",
      "source": [
        "import json\n",
        "import os\n",
        "\n",
        "from pyspark.ml import Pipeline, PipelineModel\n",
        "from pyspark.sql import SparkSession\n",
        "\n",
        "import sparknlp\n",
        "import sparknlp_jsl\n",
        "\n",
        "from sparknlp.annotator import *\n",
        "from sparknlp_jsl.annotator import *\n",
        "from sparknlp.base import *\n",
        "from sparknlp.util import *\n",
        "from sparknlp.pretrained import ResourceDownloader\n",
        "from pyspark.sql import functions as F\n",
        "from sparknlp_display import NerVisualizer\n",
        "\n",
        "import pandas as pd\n",
        "\n",
        "pd.set_option('display.max_columns', None)  \n",
        "pd.set_option('display.expand_frame_repr', False)\n",
        "pd.set_option('max_colwidth', None)\n",
        "\n",
        "import string\n",
        "import numpy as np\n",
        "\n",
        "params = {\"spark.driver.memory\":\"16G\",\n",
        "          \"spark.kryoserializer.buffer.max\":\"2000M\",\n",
        "          \"spark.driver.maxResultSize\":\"2000M\"}\n",
        "\n",
        "spark = sparknlp_jsl.start(secret = SECRET, params=params)\n",
        "\n",
        "print (\"Spark NLP Version :\", sparknlp.version())\n",
        "print (\"Spark NLP_JSL Version :\", sparknlp_jsl.version())\n",
        "\n",
        "spark"
      ],
      "metadata": {
        "colab": {
          "base_uri": "https://localhost:8080/",
          "height": 244
        },
        "id": "FkIDVLZlwJZH",
        "outputId": "a07d89a1-dbd0-4a7a-c904-034701763d61"
      },
      "execution_count": null,
      "outputs": [
        {
          "output_type": "stream",
          "name": "stdout",
          "text": [
            "Spark NLP Version : 4.0.2\n",
            "Spark NLP_JSL Version : 4.0.2\n"
          ]
        },
        {
          "output_type": "execute_result",
          "data": {
            "text/plain": [
              "<pyspark.sql.session.SparkSession at 0x7fa5bb15e810>"
            ],
            "text/html": [
              "\n",
              "            <div>\n",
              "                <p><b>SparkSession - in-memory</b></p>\n",
              "                \n",
              "        <div>\n",
              "            <p><b>SparkContext</b></p>\n",
              "\n",
              "            <p><a href=\"http://f3e0b7fbc8ed:4040\">Spark UI</a></p>\n",
              "\n",
              "            <dl>\n",
              "              <dt>Version</dt>\n",
              "                <dd><code>v3.1.2</code></dd>\n",
              "              <dt>Master</dt>\n",
              "                <dd><code>local[*]</code></dd>\n",
              "              <dt>AppName</dt>\n",
              "                <dd><code>Spark NLP Licensed</code></dd>\n",
              "            </dl>\n",
              "        </div>\n",
              "        \n",
              "            </div>\n",
              "        "
            ]
          },
          "metadata": {},
          "execution_count": 3
        }
      ]
    },
    {
      "cell_type": "markdown",
      "source": [
        "📌**Models:**\n",
        "\n",
        "\n",
        "```\n",
        "ner_posology\n",
        "ner_posology_small\n",
        "ner_posology_large\n",
        "ner_posology_greedy\n",
        "ner_posology_experimental\n",
        "\n",
        "ner_drugs_large\n",
        "ner_drugs_greedy\n",
        "\n",
        "ner_jsl\n",
        "ner_jsl_enriched\n",
        "\n",
        "ner_clinical\n",
        "ner_clinical_large\n",
        "\n",
        "```\n",
        "\n"
      ],
      "metadata": {
        "id": "wkRgcc2ZLbMF"
      }
    },
    {
      "cell_type": "markdown",
      "source": [
        "# **Define Spark NLP pipeline**"
      ],
      "metadata": {
        "id": "cTR2NkbfMTDt"
      }
    },
    {
      "cell_type": "code",
      "source": [
        "model_list = ['ner_posology',\n",
        "              'ner_posology_small', \n",
        "              'ner_posology_large', \n",
        "              'ner_posology_greedy',\n",
        "              \"ner_posology_experimental\",\n",
        "              'ner_drugs_large', \n",
        "              'ner_drugs_greedy',\n",
        "              'ner_jsl',\n",
        "              'ner_jsl_enriched', \n",
        "              'ner_clinical',\n",
        "              'ner_clinical_large'\n",
        "             ]"
      ],
      "metadata": {
        "id": "B8XSKJNuYqKH"
      },
      "execution_count": null,
      "outputs": []
    },
    {
      "cell_type": "code",
      "source": [
        "#basic_stages👇🏻\n",
        "\n",
        "documentAssembler = DocumentAssembler() \\\n",
        "    .setInputCol('text')\\\n",
        "    .setOutputCol('document')\n",
        "\n",
        "sentenceDetector = SentenceDetectorDLModel.pretrained(\"sentence_detector_dl_healthcare\",\"en\",\"clinical/models\")\\\n",
        "    .setInputCols(['document'])\\\n",
        "    .setOutputCol('sentence')\n",
        "\n",
        "tokenizer = Tokenizer()\\\n",
        "    .setInputCols(['sentence']) \\\n",
        "    .setOutputCol('token')\n",
        "\n",
        "word_embeddings = WordEmbeddingsModel.pretrained('embeddings_clinical', 'en', 'clinical/models') \\\n",
        "    .setInputCols(['sentence', 'token']) \\\n",
        "    .setOutputCol('embeddings')\n",
        "    \n",
        "ner_converter = NerConverter() \\\n",
        "    .setInputCols(['sentence', 'token', 'ner']) \\\n",
        "    .setOutputCol('ner_chunk')\n",
        "    \n",
        "#select_ner_models👇🏻\n",
        "\n",
        "def pipeline(model_name): \n",
        "    clinical_ner = MedicalNerModel.pretrained(model_name, 'en', 'clinical/models') \\\n",
        "        .setInputCols(['sentence', 'token', 'embeddings']) \\\n",
        "        .setOutputCol('ner')\n",
        "    \n",
        "    if model_name == \"ner_clinical\" or model_name == \"ner_clinical_large\":\n",
        "        ner_converter = NerConverter() \\\n",
        "            .setInputCols(['sentence', 'token', 'ner']) \\\n",
        "            .setOutputCol('ner_chunk')\\\n",
        "            .setWhiteList(['TREATMENT'])\n",
        "            \n",
        "    elif model_name == 'ner_jsl':\n",
        "        ner_converter = NerConverter() \\\n",
        "            .setInputCols(['sentence', 'token', 'ner']) \\\n",
        "            .setOutputCol('ner_chunk')\\\n",
        "            .setWhiteList([\"Drug_BrandName\", \"Drug_Ingredient\", \"Dosage\", \"Frequency\", \"Route\", \"Strength\"])\n",
        "            \n",
        "    elif model_name == 'ner_jsl_enriched':\n",
        "        ner_converter = NerConverter() \\\n",
        "            .setInputCols(['sentence', 'token', 'ner']) \\\n",
        "            .setOutputCol('ner_chunk')\\\n",
        "            .setWhiteList([\"Drug_BrandName\", \"Duration\", \"Frequency\", \"Treatment\", \"Dosage\", \"Route\", \"Strength\", \"Drug_Ingredient\", \"Form\"])\n",
        "        \n",
        "    else:\n",
        "        ner_converter = NerConverter() \\\n",
        "            .setInputCols(['sentence', 'token', 'ner']) \\\n",
        "            .setOutputCol('ner_chunk')\n",
        "            \n",
        "\n",
        "    nlpPipeline = Pipeline(stages=[\n",
        "        documentAssembler, \n",
        "        sentenceDetector,\n",
        "        tokenizer,\n",
        "        word_embeddings,\n",
        "        clinical_ner,\n",
        "        ner_converter])\n",
        "\n",
        "    pipelineModel = nlpPipeline.fit(spark.createDataFrame([['']]).toDF(\"text\"))\n",
        "    return pipelineModel"
      ],
      "metadata": {
        "colab": {
          "base_uri": "https://localhost:8080/"
        },
        "id": "bGLcqiryYZyg",
        "outputId": "f8fa58f3-30c8-4706-b4df-49ab83fb4077"
      },
      "execution_count": null,
      "outputs": [
        {
          "output_type": "stream",
          "name": "stdout",
          "text": [
            "sentence_detector_dl_healthcare download started this may take some time.\n",
            "Approximate size to download 367.3 KB\n",
            "[OK!]\n",
            "embeddings_clinical download started this may take some time.\n",
            "Approximate size to download 1.6 GB\n",
            "[OK!]\n"
          ]
        }
      ]
    },
    {
      "cell_type": "markdown",
      "source": [
        "# **Sample Text**"
      ],
      "metadata": {
        "id": "J_C_iy96JROE"
      }
    },
    {
      "cell_type": "code",
      "source": [
        "sample_texts = \"\"\"The patient is a 30-year-old female with a long history of diabetes, type 2; coronary artery disease; chronic renal insufficiency; peripheral vascular disease, also secondary to diabetes; who was originally admitted to an outside hospital for what appeared to be acute paraplegia, lower extremities. She did receive a course of Bactrim for 14 days for UTI. Evidently, at some point in time, the patient was noted to develop a pressure-type wound on the sole of her left foot and left great toe. She was also noted to have a large sacral wound; this is in a similar location with previous laminectomy, and this continues to receive daily care. The patient was transferred secondary to inability to participate in full physical and occupational therapy and continue medical management of her diabetes, the sacral decubitus, left foot pressure wound, and associated complications of diabetes. She is given Fragmin 5000 units subcutaneously daily, OxyContin 30 mg p.o. q.12 h., folic acid 1 mg daily, levothyroxine 0.1 mg p.o. , Prevacid 30 mg daily, Avandia 4 mg daily, Norvasc 10 mg daily, Lexapro 20 mg daily, aspirin 81 mg daily, Senna 2 tablets p.o. q.a.m., Neurontin 400 mg p.o. t.i.d., magnesium citrate 1 bottle p.o , Wellbutrin 100 mg p.o. daily, and Bactrim DS b.i.d.\"\"\"\n"
      ],
      "metadata": {
        "id": "G2m3gUpZJXqB"
      },
      "execution_count": null,
      "outputs": []
    },
    {
      "cell_type": "code",
      "source": [
        "df = spark.createDataFrame([[sample_texts]]).toDF(\"text\")\n",
        "df.show(truncate = 100)"
      ],
      "metadata": {
        "colab": {
          "base_uri": "https://localhost:8080/"
        },
        "id": "DyyBkef0ciMy",
        "outputId": "7ab557b0-25ac-40ec-82d8-e745e21a982c"
      },
      "execution_count": null,
      "outputs": [
        {
          "output_type": "stream",
          "name": "stdout",
          "text": [
            "+----------------------------------------------------------------------------------------------------+\n",
            "|                                                                                                text|\n",
            "+----------------------------------------------------------------------------------------------------+\n",
            "|The patient is a 30-year-old female with a long history of diabetes, type 2; coronary artery dise...|\n",
            "+----------------------------------------------------------------------------------------------------+\n",
            "\n"
          ]
        }
      ]
    },
    {
      "cell_type": "markdown",
      "source": [
        "# **Models**"
      ],
      "metadata": {
        "id": "564PokTwju10"
      }
    },
    {
      "cell_type": "markdown",
      "source": [
        "## 🔎`ner_posology`"
      ],
      "metadata": {
        "id": "9BVg6IFQbLvy"
      }
    },
    {
      "cell_type": "code",
      "source": [
        "result = pipeline(\"ner_posology\").transform(df)"
      ],
      "metadata": {
        "colab": {
          "base_uri": "https://localhost:8080/"
        },
        "id": "amEde6d4dRq1",
        "outputId": "592e2c82-4824-4eb1-e4bd-98944e2e3192"
      },
      "execution_count": null,
      "outputs": [
        {
          "output_type": "stream",
          "name": "stdout",
          "text": [
            "ner_posology download started this may take some time.\n",
            "[OK!]\n"
          ]
        }
      ]
    },
    {
      "cell_type": "code",
      "source": [
        "result.select(F.explode(F.arrays_zip('ner_chunk.result', 'ner_chunk.metadata')).alias(\"cols\"))\\\n",
        "      .select(F.expr(\"cols['0']\").alias(\"chunk\"),\n",
        "              F.expr(\"cols['1']['entity']\").alias(\"ner_label\")).show(15,truncate=False)\n",
        "    \n"
      ],
      "metadata": {
        "colab": {
          "base_uri": "https://localhost:8080/"
        },
        "id": "o7aCvaMkcdeN",
        "outputId": "e2755589-97ef-4875-a507-893cd51e29f4"
      },
      "execution_count": null,
      "outputs": [
        {
          "output_type": "stream",
          "name": "stdout",
          "text": [
            "+--------------+---------+\n",
            "|chunk         |ner_label|\n",
            "+--------------+---------+\n",
            "|Bactrim       |DRUG     |\n",
            "|for 14 days   |DURATION |\n",
            "|Fragmin       |DRUG     |\n",
            "|5000 units    |DOSAGE   |\n",
            "|subcutaneously|ROUTE    |\n",
            "|daily         |FREQUENCY|\n",
            "|OxyContin     |DRUG     |\n",
            "|30 mg         |STRENGTH |\n",
            "|p.o           |ROUTE    |\n",
            "|q.12 h        |FREQUENCY|\n",
            "|folic acid    |DRUG     |\n",
            "|1 mg          |STRENGTH |\n",
            "|daily         |FREQUENCY|\n",
            "|levothyroxine |DRUG     |\n",
            "|0.1 mg        |STRENGTH |\n",
            "+--------------+---------+\n",
            "only showing top 15 rows\n",
            "\n"
          ]
        }
      ]
    },
    {
      "cell_type": "code",
      "source": [
        "visualiser = NerVisualizer()\n",
        "\n",
        "visualiser.display(result = result.collect()[0] ,label_col = 'ner_chunk', document_col = 'document')"
      ],
      "metadata": {
        "colab": {
          "base_uri": "https://localhost:8080/",
          "height": 369
        },
        "id": "JW-6aSTJdEmX",
        "outputId": "70b0d650-8bbd-45de-adba-d417e981deeb"
      },
      "execution_count": null,
      "outputs": [
        {
          "output_type": "display_data",
          "data": {
            "text/plain": [
              "<IPython.core.display.HTML object>"
            ],
            "text/html": [
              "\n",
              "<style>\n",
              "    @import url('https://fonts.googleapis.com/css2?family=Montserrat:wght@300;400;500;600;700&display=swap');\n",
              "    @import url('https://fonts.googleapis.com/css2?family=Vistol Regular:wght@300;400;500;600;700&display=swap');\n",
              "    \n",
              "    .spark-nlp-display-scroll-entities {\n",
              "        border: 1px solid #E7EDF0;\n",
              "        border-radius: 3px;\n",
              "        text-align: justify;\n",
              "        \n",
              "    }\n",
              "    .spark-nlp-display-scroll-entities span {  \n",
              "        font-size: 14px;\n",
              "        line-height: 24px;\n",
              "        color: #536B76;\n",
              "        font-family: 'Montserrat', sans-serif !important;\n",
              "    }\n",
              "    \n",
              "    .spark-nlp-display-entity-wrapper{\n",
              "    \n",
              "        display: inline-grid;\n",
              "        text-align: center;\n",
              "        border-radius: 4px;\n",
              "        margin: 0 2px 5px 2px;\n",
              "        padding: 1px\n",
              "    }\n",
              "    .spark-nlp-display-entity-name{\n",
              "        font-size: 14px;\n",
              "        line-height: 24px;\n",
              "        font-family: 'Montserrat', sans-serif !important;\n",
              "        \n",
              "        background: #f1f2f3;\n",
              "        border-width: medium;\n",
              "        text-align: center;\n",
              "        \n",
              "        font-weight: 400;\n",
              "        \n",
              "        border-radius: 5px;\n",
              "        padding: 2px 5px;\n",
              "        display: block;\n",
              "        margin: 3px 2px;\n",
              "    \n",
              "    }\n",
              "    .spark-nlp-display-entity-type{\n",
              "        font-size: 14px;\n",
              "        line-height: 24px;\n",
              "        color: #ffffff;\n",
              "        font-family: 'Montserrat', sans-serif !important;\n",
              "        \n",
              "        text-transform: uppercase;\n",
              "        \n",
              "        font-weight: 500;\n",
              "\n",
              "        display: block;\n",
              "        padding: 3px 5px;\n",
              "    }\n",
              "    \n",
              "    .spark-nlp-display-entity-resolution{\n",
              "        font-size: 14px;\n",
              "        line-height: 24px;\n",
              "        color: #ffffff;\n",
              "        font-family: 'Vistol Regular', sans-serif !important;\n",
              "        \n",
              "        text-transform: uppercase;\n",
              "        \n",
              "        font-weight: 500;\n",
              "\n",
              "        display: block;\n",
              "        padding: 3px 5px;\n",
              "    }\n",
              "    \n",
              "    .spark-nlp-display-others{\n",
              "        font-size: 14px;\n",
              "        line-height: 24px;\n",
              "        font-family: 'Montserrat', sans-serif !important;\n",
              "        \n",
              "        font-weight: 400;\n",
              "    }\n",
              "\n",
              "</style>\n",
              " <span class=\"spark-nlp-display-others\" style=\"background-color: white\">The patient is a 30-year-old female with a long history of diabetes, type 2; coronary artery disease; chronic renal insufficiency; peripheral vascular disease, also secondary to diabetes; who was originally admitted to an outside hospital for what appeared to be acute paraplegia, lower extremities. She did receive a course of </span><span class=\"spark-nlp-display-entity-wrapper\" style=\"background-color: #8B668B\"><span class=\"spark-nlp-display-entity-name\">Bactrim </span><span class=\"spark-nlp-display-entity-type\">DRUG</span></span><span class=\"spark-nlp-display-others\" style=\"background-color: white\"> </span><span class=\"spark-nlp-display-entity-wrapper\" style=\"background-color: #49C438\"><span class=\"spark-nlp-display-entity-name\">for 14 days </span><span class=\"spark-nlp-display-entity-type\">DURATION</span></span><span class=\"spark-nlp-display-others\" style=\"background-color: white\"> for UTI. Evidently, at some point in time, the patient was noted to develop a pressure-type wound on the sole of her left foot and left great toe. She was also noted to have a large sacral wound; this is in a similar location with previous laminectomy, and this continues to receive daily care. The patient was transferred secondary to inability to participate in full physical and occupational therapy and continue medical management of her diabetes, the sacral decubitus, left foot pressure wound, and associated complications of diabetes. She is given </span><span class=\"spark-nlp-display-entity-wrapper\" style=\"background-color: #8B668B\"><span class=\"spark-nlp-display-entity-name\">Fragmin </span><span class=\"spark-nlp-display-entity-type\">DRUG</span></span><span class=\"spark-nlp-display-others\" style=\"background-color: white\"> </span><span class=\"spark-nlp-display-entity-wrapper\" style=\"background-color: #462033\"><span class=\"spark-nlp-display-entity-name\">5000 units </span><span class=\"spark-nlp-display-entity-type\">DOSAGE</span></span><span class=\"spark-nlp-display-others\" style=\"background-color: white\"> </span><span class=\"spark-nlp-display-entity-wrapper\" style=\"background-color: #965126\"><span class=\"spark-nlp-display-entity-name\">subcutaneously </span><span class=\"spark-nlp-display-entity-type\">ROUTE</span></span><span class=\"spark-nlp-display-others\" style=\"background-color: white\"> </span><span class=\"spark-nlp-display-entity-wrapper\" style=\"background-color: #33493A\"><span class=\"spark-nlp-display-entity-name\">daily </span><span class=\"spark-nlp-display-entity-type\">FREQUENCY</span></span><span class=\"spark-nlp-display-others\" style=\"background-color: white\">, </span><span class=\"spark-nlp-display-entity-wrapper\" style=\"background-color: #8B668B\"><span class=\"spark-nlp-display-entity-name\">OxyContin </span><span class=\"spark-nlp-display-entity-type\">DRUG</span></span><span class=\"spark-nlp-display-others\" style=\"background-color: white\"> </span><span class=\"spark-nlp-display-entity-wrapper\" style=\"background-color: #883804\"><span class=\"spark-nlp-display-entity-name\">30 mg </span><span class=\"spark-nlp-display-entity-type\">STRENGTH</span></span><span class=\"spark-nlp-display-others\" style=\"background-color: white\"> </span><span class=\"spark-nlp-display-entity-wrapper\" style=\"background-color: #965126\"><span class=\"spark-nlp-display-entity-name\">p.o </span><span class=\"spark-nlp-display-entity-type\">ROUTE</span></span><span class=\"spark-nlp-display-others\" style=\"background-color: white\">. </span><span class=\"spark-nlp-display-entity-wrapper\" style=\"background-color: #33493A\"><span class=\"spark-nlp-display-entity-name\">q.12 h </span><span class=\"spark-nlp-display-entity-type\">FREQUENCY</span></span><span class=\"spark-nlp-display-others\" style=\"background-color: white\">., </span><span class=\"spark-nlp-display-entity-wrapper\" style=\"background-color: #8B668B\"><span class=\"spark-nlp-display-entity-name\">folic acid </span><span class=\"spark-nlp-display-entity-type\">DRUG</span></span><span class=\"spark-nlp-display-others\" style=\"background-color: white\"> </span><span class=\"spark-nlp-display-entity-wrapper\" style=\"background-color: #883804\"><span class=\"spark-nlp-display-entity-name\">1 mg </span><span class=\"spark-nlp-display-entity-type\">STRENGTH</span></span><span class=\"spark-nlp-display-others\" style=\"background-color: white\"> </span><span class=\"spark-nlp-display-entity-wrapper\" style=\"background-color: #33493A\"><span class=\"spark-nlp-display-entity-name\">daily </span><span class=\"spark-nlp-display-entity-type\">FREQUENCY</span></span><span class=\"spark-nlp-display-others\" style=\"background-color: white\">, </span><span class=\"spark-nlp-display-entity-wrapper\" style=\"background-color: #8B668B\"><span class=\"spark-nlp-display-entity-name\">levothyroxine </span><span class=\"spark-nlp-display-entity-type\">DRUG</span></span><span class=\"spark-nlp-display-others\" style=\"background-color: white\"> </span><span class=\"spark-nlp-display-entity-wrapper\" style=\"background-color: #883804\"><span class=\"spark-nlp-display-entity-name\">0.1 mg </span><span class=\"spark-nlp-display-entity-type\">STRENGTH</span></span><span class=\"spark-nlp-display-others\" style=\"background-color: white\"> </span><span class=\"spark-nlp-display-entity-wrapper\" style=\"background-color: #965126\"><span class=\"spark-nlp-display-entity-name\">p.o </span><span class=\"spark-nlp-display-entity-type\">ROUTE</span></span><span class=\"spark-nlp-display-others\" style=\"background-color: white\">. , </span><span class=\"spark-nlp-display-entity-wrapper\" style=\"background-color: #8B668B\"><span class=\"spark-nlp-display-entity-name\">Prevacid </span><span class=\"spark-nlp-display-entity-type\">DRUG</span></span><span class=\"spark-nlp-display-others\" style=\"background-color: white\"> </span><span class=\"spark-nlp-display-entity-wrapper\" style=\"background-color: #883804\"><span class=\"spark-nlp-display-entity-name\">30 mg </span><span class=\"spark-nlp-display-entity-type\">STRENGTH</span></span><span class=\"spark-nlp-display-others\" style=\"background-color: white\"> </span><span class=\"spark-nlp-display-entity-wrapper\" style=\"background-color: #33493A\"><span class=\"spark-nlp-display-entity-name\">daily </span><span class=\"spark-nlp-display-entity-type\">FREQUENCY</span></span><span class=\"spark-nlp-display-others\" style=\"background-color: white\">, </span><span class=\"spark-nlp-display-entity-wrapper\" style=\"background-color: #8B668B\"><span class=\"spark-nlp-display-entity-name\">Avandia </span><span class=\"spark-nlp-display-entity-type\">DRUG</span></span><span class=\"spark-nlp-display-others\" style=\"background-color: white\"> </span><span class=\"spark-nlp-display-entity-wrapper\" style=\"background-color: #883804\"><span class=\"spark-nlp-display-entity-name\">4 mg </span><span class=\"spark-nlp-display-entity-type\">STRENGTH</span></span><span class=\"spark-nlp-display-others\" style=\"background-color: white\"> </span><span class=\"spark-nlp-display-entity-wrapper\" style=\"background-color: #33493A\"><span class=\"spark-nlp-display-entity-name\">daily </span><span class=\"spark-nlp-display-entity-type\">FREQUENCY</span></span><span class=\"spark-nlp-display-others\" style=\"background-color: white\">, </span><span class=\"spark-nlp-display-entity-wrapper\" style=\"background-color: #8B668B\"><span class=\"spark-nlp-display-entity-name\">Norvasc </span><span class=\"spark-nlp-display-entity-type\">DRUG</span></span><span class=\"spark-nlp-display-others\" style=\"background-color: white\"> </span><span class=\"spark-nlp-display-entity-wrapper\" style=\"background-color: #883804\"><span class=\"spark-nlp-display-entity-name\">10 mg </span><span class=\"spark-nlp-display-entity-type\">STRENGTH</span></span><span class=\"spark-nlp-display-others\" style=\"background-color: white\"> </span><span class=\"spark-nlp-display-entity-wrapper\" style=\"background-color: #33493A\"><span class=\"spark-nlp-display-entity-name\">daily </span><span class=\"spark-nlp-display-entity-type\">FREQUENCY</span></span><span class=\"spark-nlp-display-others\" style=\"background-color: white\">, </span><span class=\"spark-nlp-display-entity-wrapper\" style=\"background-color: #8B668B\"><span class=\"spark-nlp-display-entity-name\">Lexapro </span><span class=\"spark-nlp-display-entity-type\">DRUG</span></span><span class=\"spark-nlp-display-others\" style=\"background-color: white\"> </span><span class=\"spark-nlp-display-entity-wrapper\" style=\"background-color: #883804\"><span class=\"spark-nlp-display-entity-name\">20 mg </span><span class=\"spark-nlp-display-entity-type\">STRENGTH</span></span><span class=\"spark-nlp-display-others\" style=\"background-color: white\"> </span><span class=\"spark-nlp-display-entity-wrapper\" style=\"background-color: #33493A\"><span class=\"spark-nlp-display-entity-name\">daily </span><span class=\"spark-nlp-display-entity-type\">FREQUENCY</span></span><span class=\"spark-nlp-display-others\" style=\"background-color: white\">, </span><span class=\"spark-nlp-display-entity-wrapper\" style=\"background-color: #8B668B\"><span class=\"spark-nlp-display-entity-name\">aspirin </span><span class=\"spark-nlp-display-entity-type\">DRUG</span></span><span class=\"spark-nlp-display-others\" style=\"background-color: white\"> </span><span class=\"spark-nlp-display-entity-wrapper\" style=\"background-color: #883804\"><span class=\"spark-nlp-display-entity-name\">81 mg </span><span class=\"spark-nlp-display-entity-type\">STRENGTH</span></span><span class=\"spark-nlp-display-others\" style=\"background-color: white\"> </span><span class=\"spark-nlp-display-entity-wrapper\" style=\"background-color: #33493A\"><span class=\"spark-nlp-display-entity-name\">daily </span><span class=\"spark-nlp-display-entity-type\">FREQUENCY</span></span><span class=\"spark-nlp-display-others\" style=\"background-color: white\">, </span><span class=\"spark-nlp-display-entity-wrapper\" style=\"background-color: #8B668B\"><span class=\"spark-nlp-display-entity-name\">Senna </span><span class=\"spark-nlp-display-entity-type\">DRUG</span></span><span class=\"spark-nlp-display-others\" style=\"background-color: white\"> </span><span class=\"spark-nlp-display-entity-wrapper\" style=\"background-color: #462033\"><span class=\"spark-nlp-display-entity-name\">2 </span><span class=\"spark-nlp-display-entity-type\">DOSAGE</span></span><span class=\"spark-nlp-display-others\" style=\"background-color: white\"> </span><span class=\"spark-nlp-display-entity-wrapper\" style=\"background-color: #9D6E71\"><span class=\"spark-nlp-display-entity-name\">tablets </span><span class=\"spark-nlp-display-entity-type\">FORM</span></span><span class=\"spark-nlp-display-others\" style=\"background-color: white\"> </span><span class=\"spark-nlp-display-entity-wrapper\" style=\"background-color: #965126\"><span class=\"spark-nlp-display-entity-name\">p.o </span><span class=\"spark-nlp-display-entity-type\">ROUTE</span></span><span class=\"spark-nlp-display-others\" style=\"background-color: white\">. </span><span class=\"spark-nlp-display-entity-wrapper\" style=\"background-color: #33493A\"><span class=\"spark-nlp-display-entity-name\">q.a.m </span><span class=\"spark-nlp-display-entity-type\">FREQUENCY</span></span><span class=\"spark-nlp-display-others\" style=\"background-color: white\">., </span><span class=\"spark-nlp-display-entity-wrapper\" style=\"background-color: #8B668B\"><span class=\"spark-nlp-display-entity-name\">Neurontin </span><span class=\"spark-nlp-display-entity-type\">DRUG</span></span><span class=\"spark-nlp-display-others\" style=\"background-color: white\"> </span><span class=\"spark-nlp-display-entity-wrapper\" style=\"background-color: #883804\"><span class=\"spark-nlp-display-entity-name\">400 mg </span><span class=\"spark-nlp-display-entity-type\">STRENGTH</span></span><span class=\"spark-nlp-display-others\" style=\"background-color: white\"> </span><span class=\"spark-nlp-display-entity-wrapper\" style=\"background-color: #965126\"><span class=\"spark-nlp-display-entity-name\">p.o </span><span class=\"spark-nlp-display-entity-type\">ROUTE</span></span><span class=\"spark-nlp-display-others\" style=\"background-color: white\">. </span><span class=\"spark-nlp-display-entity-wrapper\" style=\"background-color: #33493A\"><span class=\"spark-nlp-display-entity-name\">t.i.d </span><span class=\"spark-nlp-display-entity-type\">FREQUENCY</span></span><span class=\"spark-nlp-display-others\" style=\"background-color: white\">., </span><span class=\"spark-nlp-display-entity-wrapper\" style=\"background-color: #8B668B\"><span class=\"spark-nlp-display-entity-name\">magnesium citrate </span><span class=\"spark-nlp-display-entity-type\">DRUG</span></span><span class=\"spark-nlp-display-others\" style=\"background-color: white\"> </span><span class=\"spark-nlp-display-entity-wrapper\" style=\"background-color: #462033\"><span class=\"spark-nlp-display-entity-name\">1 </span><span class=\"spark-nlp-display-entity-type\">DOSAGE</span></span><span class=\"spark-nlp-display-others\" style=\"background-color: white\"> </span><span class=\"spark-nlp-display-entity-wrapper\" style=\"background-color: #9D6E71\"><span class=\"spark-nlp-display-entity-name\">bottle </span><span class=\"spark-nlp-display-entity-type\">FORM</span></span><span class=\"spark-nlp-display-others\" style=\"background-color: white\"> </span><span class=\"spark-nlp-display-entity-wrapper\" style=\"background-color: #965126\"><span class=\"spark-nlp-display-entity-name\">p.o </span><span class=\"spark-nlp-display-entity-type\">ROUTE</span></span><span class=\"spark-nlp-display-others\" style=\"background-color: white\"> , </span><span class=\"spark-nlp-display-entity-wrapper\" style=\"background-color: #8B668B\"><span class=\"spark-nlp-display-entity-name\">Wellbutrin </span><span class=\"spark-nlp-display-entity-type\">DRUG</span></span><span class=\"spark-nlp-display-others\" style=\"background-color: white\"> </span><span class=\"spark-nlp-display-entity-wrapper\" style=\"background-color: #883804\"><span class=\"spark-nlp-display-entity-name\">100 mg </span><span class=\"spark-nlp-display-entity-type\">STRENGTH</span></span><span class=\"spark-nlp-display-others\" style=\"background-color: white\"> </span><span class=\"spark-nlp-display-entity-wrapper\" style=\"background-color: #965126\"><span class=\"spark-nlp-display-entity-name\">p.o </span><span class=\"spark-nlp-display-entity-type\">ROUTE</span></span><span class=\"spark-nlp-display-others\" style=\"background-color: white\">. </span><span class=\"spark-nlp-display-entity-wrapper\" style=\"background-color: #33493A\"><span class=\"spark-nlp-display-entity-name\">daily </span><span class=\"spark-nlp-display-entity-type\">FREQUENCY</span></span><span class=\"spark-nlp-display-others\" style=\"background-color: white\">, and </span><span class=\"spark-nlp-display-entity-wrapper\" style=\"background-color: #8B668B\"><span class=\"spark-nlp-display-entity-name\">Bactrim DS </span><span class=\"spark-nlp-display-entity-type\">DRUG</span></span><span class=\"spark-nlp-display-others\" style=\"background-color: white\"> </span><span class=\"spark-nlp-display-entity-wrapper\" style=\"background-color: #33493A\"><span class=\"spark-nlp-display-entity-name\">b.i.d </span><span class=\"spark-nlp-display-entity-type\">FREQUENCY</span></span><span class=\"spark-nlp-display-others\" style=\"background-color: white\">.</span></div>"
            ]
          },
          "metadata": {}
        }
      ]
    },
    {
      "cell_type": "markdown",
      "source": [
        "## 🔎`ner_posology_small`"
      ],
      "metadata": {
        "id": "kpMoYHt4bU7P"
      }
    },
    {
      "cell_type": "code",
      "source": [
        "result = pipeline(\"ner_posology_small\").transform(df)"
      ],
      "metadata": {
        "colab": {
          "base_uri": "https://localhost:8080/"
        },
        "id": "a6qu2wfLdzcx",
        "outputId": "51b309b2-ba25-463f-bdb2-ae6b3aa712a0"
      },
      "execution_count": null,
      "outputs": [
        {
          "output_type": "stream",
          "name": "stdout",
          "text": [
            "ner_posology_small download started this may take some time.\n",
            "[OK!]\n"
          ]
        }
      ]
    },
    {
      "cell_type": "code",
      "source": [
        "result.select(F.explode(F.arrays_zip('ner_chunk.result', 'ner_chunk.metadata')).alias(\"cols\"))\\\n",
        "      .select(F.expr(\"cols['0']\").alias(\"chunk\"),\n",
        "              F.expr(\"cols['1']['entity']\").alias(\"ner_label\")).show(15,truncate=False)\n",
        "    \n"
      ],
      "metadata": {
        "colab": {
          "base_uri": "https://localhost:8080/"
        },
        "id": "Qrer3K-Bdy9y",
        "outputId": "118a9751-cdcf-4977-d843-ef0c341f047c"
      },
      "execution_count": null,
      "outputs": [
        {
          "output_type": "stream",
          "name": "stdout",
          "text": [
            "+--------------+---------+\n",
            "|chunk         |ner_label|\n",
            "+--------------+---------+\n",
            "|Bactrim       |DRUG     |\n",
            "|for 14 days   |DURATION |\n",
            "|Fragmin       |DRUG     |\n",
            "|5000 units    |DOSAGE   |\n",
            "|subcutaneously|ROUTE    |\n",
            "|daily         |FREQUENCY|\n",
            "|OxyContin     |DRUG     |\n",
            "|30 mg         |STRENGTH |\n",
            "|p.o           |ROUTE    |\n",
            "|q.12 h.,      |FREQUENCY|\n",
            "|folic acid    |DRUG     |\n",
            "|1 mg          |STRENGTH |\n",
            "|daily         |FREQUENCY|\n",
            "|levothyroxine |DRUG     |\n",
            "|0.1 mg        |STRENGTH |\n",
            "+--------------+---------+\n",
            "only showing top 15 rows\n",
            "\n"
          ]
        }
      ]
    },
    {
      "cell_type": "code",
      "source": [
        "visualiser = NerVisualizer()\n",
        "\n",
        "visualiser.display(result = result.collect()[0] ,label_col = 'ner_chunk', document_col = 'document')"
      ],
      "metadata": {
        "colab": {
          "base_uri": "https://localhost:8080/",
          "height": 369
        },
        "id": "snbHMpDady1x",
        "outputId": "eee6a525-8cbb-4c5f-d262-277d86cc392e"
      },
      "execution_count": null,
      "outputs": [
        {
          "output_type": "display_data",
          "data": {
            "text/plain": [
              "<IPython.core.display.HTML object>"
            ],
            "text/html": [
              "\n",
              "<style>\n",
              "    @import url('https://fonts.googleapis.com/css2?family=Montserrat:wght@300;400;500;600;700&display=swap');\n",
              "    @import url('https://fonts.googleapis.com/css2?family=Vistol Regular:wght@300;400;500;600;700&display=swap');\n",
              "    \n",
              "    .spark-nlp-display-scroll-entities {\n",
              "        border: 1px solid #E7EDF0;\n",
              "        border-radius: 3px;\n",
              "        text-align: justify;\n",
              "        \n",
              "    }\n",
              "    .spark-nlp-display-scroll-entities span {  \n",
              "        font-size: 14px;\n",
              "        line-height: 24px;\n",
              "        color: #536B76;\n",
              "        font-family: 'Montserrat', sans-serif !important;\n",
              "    }\n",
              "    \n",
              "    .spark-nlp-display-entity-wrapper{\n",
              "    \n",
              "        display: inline-grid;\n",
              "        text-align: center;\n",
              "        border-radius: 4px;\n",
              "        margin: 0 2px 5px 2px;\n",
              "        padding: 1px\n",
              "    }\n",
              "    .spark-nlp-display-entity-name{\n",
              "        font-size: 14px;\n",
              "        line-height: 24px;\n",
              "        font-family: 'Montserrat', sans-serif !important;\n",
              "        \n",
              "        background: #f1f2f3;\n",
              "        border-width: medium;\n",
              "        text-align: center;\n",
              "        \n",
              "        font-weight: 400;\n",
              "        \n",
              "        border-radius: 5px;\n",
              "        padding: 2px 5px;\n",
              "        display: block;\n",
              "        margin: 3px 2px;\n",
              "    \n",
              "    }\n",
              "    .spark-nlp-display-entity-type{\n",
              "        font-size: 14px;\n",
              "        line-height: 24px;\n",
              "        color: #ffffff;\n",
              "        font-family: 'Montserrat', sans-serif !important;\n",
              "        \n",
              "        text-transform: uppercase;\n",
              "        \n",
              "        font-weight: 500;\n",
              "\n",
              "        display: block;\n",
              "        padding: 3px 5px;\n",
              "    }\n",
              "    \n",
              "    .spark-nlp-display-entity-resolution{\n",
              "        font-size: 14px;\n",
              "        line-height: 24px;\n",
              "        color: #ffffff;\n",
              "        font-family: 'Vistol Regular', sans-serif !important;\n",
              "        \n",
              "        text-transform: uppercase;\n",
              "        \n",
              "        font-weight: 500;\n",
              "\n",
              "        display: block;\n",
              "        padding: 3px 5px;\n",
              "    }\n",
              "    \n",
              "    .spark-nlp-display-others{\n",
              "        font-size: 14px;\n",
              "        line-height: 24px;\n",
              "        font-family: 'Montserrat', sans-serif !important;\n",
              "        \n",
              "        font-weight: 400;\n",
              "    }\n",
              "\n",
              "</style>\n",
              " <span class=\"spark-nlp-display-others\" style=\"background-color: white\">The patient is a 30-year-old female with a long history of diabetes, type 2; coronary artery disease; chronic renal insufficiency; peripheral vascular disease, also secondary to diabetes; who was originally admitted to an outside hospital for what appeared to be acute paraplegia, lower extremities. She did receive a course of </span><span class=\"spark-nlp-display-entity-wrapper\" style=\"background-color: #8B668B\"><span class=\"spark-nlp-display-entity-name\">Bactrim </span><span class=\"spark-nlp-display-entity-type\">DRUG</span></span><span class=\"spark-nlp-display-others\" style=\"background-color: white\"> </span><span class=\"spark-nlp-display-entity-wrapper\" style=\"background-color: #1C238F\"><span class=\"spark-nlp-display-entity-name\">for 14 days </span><span class=\"spark-nlp-display-entity-type\">DURATION</span></span><span class=\"spark-nlp-display-others\" style=\"background-color: white\"> for UTI. Evidently, at some point in time, the patient was noted to develop a pressure-type wound on the sole of her left foot and left great toe. She was also noted to have a large sacral wound; this is in a similar location with previous laminectomy, and this continues to receive daily care. The patient was transferred secondary to inability to participate in full physical and occupational therapy and continue medical management of her diabetes, the sacral decubitus, left foot pressure wound, and associated complications of diabetes. She is given </span><span class=\"spark-nlp-display-entity-wrapper\" style=\"background-color: #8B668B\"><span class=\"spark-nlp-display-entity-name\">Fragmin </span><span class=\"spark-nlp-display-entity-type\">DRUG</span></span><span class=\"spark-nlp-display-others\" style=\"background-color: white\"> </span><span class=\"spark-nlp-display-entity-wrapper\" style=\"background-color: #49433F\"><span class=\"spark-nlp-display-entity-name\">5000 units </span><span class=\"spark-nlp-display-entity-type\">DOSAGE</span></span><span class=\"spark-nlp-display-others\" style=\"background-color: white\"> </span><span class=\"spark-nlp-display-entity-wrapper\" style=\"background-color: #73B197\"><span class=\"spark-nlp-display-entity-name\">subcutaneously </span><span class=\"spark-nlp-display-entity-type\">ROUTE</span></span><span class=\"spark-nlp-display-others\" style=\"background-color: white\"> </span><span class=\"spark-nlp-display-entity-wrapper\" style=\"background-color: #A59E30\"><span class=\"spark-nlp-display-entity-name\">daily </span><span class=\"spark-nlp-display-entity-type\">FREQUENCY</span></span><span class=\"spark-nlp-display-others\" style=\"background-color: white\">, </span><span class=\"spark-nlp-display-entity-wrapper\" style=\"background-color: #8B668B\"><span class=\"spark-nlp-display-entity-name\">OxyContin </span><span class=\"spark-nlp-display-entity-type\">DRUG</span></span><span class=\"spark-nlp-display-others\" style=\"background-color: white\"> </span><span class=\"spark-nlp-display-entity-wrapper\" style=\"background-color: #46673C\"><span class=\"spark-nlp-display-entity-name\">30 mg </span><span class=\"spark-nlp-display-entity-type\">STRENGTH</span></span><span class=\"spark-nlp-display-others\" style=\"background-color: white\"> </span><span class=\"spark-nlp-display-entity-wrapper\" style=\"background-color: #73B197\"><span class=\"spark-nlp-display-entity-name\">p.o </span><span class=\"spark-nlp-display-entity-type\">ROUTE</span></span><span class=\"spark-nlp-display-others\" style=\"background-color: white\">. </span><span class=\"spark-nlp-display-entity-wrapper\" style=\"background-color: #A59E30\"><span class=\"spark-nlp-display-entity-name\">q.12 h., </span><span class=\"spark-nlp-display-entity-type\">FREQUENCY</span></span><span class=\"spark-nlp-display-others\" style=\"background-color: white\"> </span><span class=\"spark-nlp-display-entity-wrapper\" style=\"background-color: #8B668B\"><span class=\"spark-nlp-display-entity-name\">folic acid </span><span class=\"spark-nlp-display-entity-type\">DRUG</span></span><span class=\"spark-nlp-display-others\" style=\"background-color: white\"> </span><span class=\"spark-nlp-display-entity-wrapper\" style=\"background-color: #46673C\"><span class=\"spark-nlp-display-entity-name\">1 mg </span><span class=\"spark-nlp-display-entity-type\">STRENGTH</span></span><span class=\"spark-nlp-display-others\" style=\"background-color: white\"> </span><span class=\"spark-nlp-display-entity-wrapper\" style=\"background-color: #A59E30\"><span class=\"spark-nlp-display-entity-name\">daily </span><span class=\"spark-nlp-display-entity-type\">FREQUENCY</span></span><span class=\"spark-nlp-display-others\" style=\"background-color: white\">, </span><span class=\"spark-nlp-display-entity-wrapper\" style=\"background-color: #8B668B\"><span class=\"spark-nlp-display-entity-name\">levothyroxine </span><span class=\"spark-nlp-display-entity-type\">DRUG</span></span><span class=\"spark-nlp-display-others\" style=\"background-color: white\"> </span><span class=\"spark-nlp-display-entity-wrapper\" style=\"background-color: #46673C\"><span class=\"spark-nlp-display-entity-name\">0.1 mg </span><span class=\"spark-nlp-display-entity-type\">STRENGTH</span></span><span class=\"spark-nlp-display-others\" style=\"background-color: white\"> </span><span class=\"spark-nlp-display-entity-wrapper\" style=\"background-color: #73B197\"><span class=\"spark-nlp-display-entity-name\">p.o </span><span class=\"spark-nlp-display-entity-type\">ROUTE</span></span><span class=\"spark-nlp-display-others\" style=\"background-color: white\">. , </span><span class=\"spark-nlp-display-entity-wrapper\" style=\"background-color: #8B668B\"><span class=\"spark-nlp-display-entity-name\">Prevacid </span><span class=\"spark-nlp-display-entity-type\">DRUG</span></span><span class=\"spark-nlp-display-others\" style=\"background-color: white\"> </span><span class=\"spark-nlp-display-entity-wrapper\" style=\"background-color: #46673C\"><span class=\"spark-nlp-display-entity-name\">30 mg </span><span class=\"spark-nlp-display-entity-type\">STRENGTH</span></span><span class=\"spark-nlp-display-others\" style=\"background-color: white\"> </span><span class=\"spark-nlp-display-entity-wrapper\" style=\"background-color: #A59E30\"><span class=\"spark-nlp-display-entity-name\">daily </span><span class=\"spark-nlp-display-entity-type\">FREQUENCY</span></span><span class=\"spark-nlp-display-others\" style=\"background-color: white\">, </span><span class=\"spark-nlp-display-entity-wrapper\" style=\"background-color: #8B668B\"><span class=\"spark-nlp-display-entity-name\">Avandia </span><span class=\"spark-nlp-display-entity-type\">DRUG</span></span><span class=\"spark-nlp-display-others\" style=\"background-color: white\"> </span><span class=\"spark-nlp-display-entity-wrapper\" style=\"background-color: #46673C\"><span class=\"spark-nlp-display-entity-name\">4 mg </span><span class=\"spark-nlp-display-entity-type\">STRENGTH</span></span><span class=\"spark-nlp-display-others\" style=\"background-color: white\"> </span><span class=\"spark-nlp-display-entity-wrapper\" style=\"background-color: #A59E30\"><span class=\"spark-nlp-display-entity-name\">daily </span><span class=\"spark-nlp-display-entity-type\">FREQUENCY</span></span><span class=\"spark-nlp-display-others\" style=\"background-color: white\">, </span><span class=\"spark-nlp-display-entity-wrapper\" style=\"background-color: #8B668B\"><span class=\"spark-nlp-display-entity-name\">Norvasc </span><span class=\"spark-nlp-display-entity-type\">DRUG</span></span><span class=\"spark-nlp-display-others\" style=\"background-color: white\"> </span><span class=\"spark-nlp-display-entity-wrapper\" style=\"background-color: #46673C\"><span class=\"spark-nlp-display-entity-name\">10 mg </span><span class=\"spark-nlp-display-entity-type\">STRENGTH</span></span><span class=\"spark-nlp-display-others\" style=\"background-color: white\"> </span><span class=\"spark-nlp-display-entity-wrapper\" style=\"background-color: #A59E30\"><span class=\"spark-nlp-display-entity-name\">daily </span><span class=\"spark-nlp-display-entity-type\">FREQUENCY</span></span><span class=\"spark-nlp-display-others\" style=\"background-color: white\">, </span><span class=\"spark-nlp-display-entity-wrapper\" style=\"background-color: #8B668B\"><span class=\"spark-nlp-display-entity-name\">Lexapro </span><span class=\"spark-nlp-display-entity-type\">DRUG</span></span><span class=\"spark-nlp-display-others\" style=\"background-color: white\"> </span><span class=\"spark-nlp-display-entity-wrapper\" style=\"background-color: #46673C\"><span class=\"spark-nlp-display-entity-name\">20 mg </span><span class=\"spark-nlp-display-entity-type\">STRENGTH</span></span><span class=\"spark-nlp-display-others\" style=\"background-color: white\"> </span><span class=\"spark-nlp-display-entity-wrapper\" style=\"background-color: #A59E30\"><span class=\"spark-nlp-display-entity-name\">daily </span><span class=\"spark-nlp-display-entity-type\">FREQUENCY</span></span><span class=\"spark-nlp-display-others\" style=\"background-color: white\">, </span><span class=\"spark-nlp-display-entity-wrapper\" style=\"background-color: #8B668B\"><span class=\"spark-nlp-display-entity-name\">aspirin </span><span class=\"spark-nlp-display-entity-type\">DRUG</span></span><span class=\"spark-nlp-display-others\" style=\"background-color: white\"> </span><span class=\"spark-nlp-display-entity-wrapper\" style=\"background-color: #46673C\"><span class=\"spark-nlp-display-entity-name\">81 mg </span><span class=\"spark-nlp-display-entity-type\">STRENGTH</span></span><span class=\"spark-nlp-display-others\" style=\"background-color: white\"> </span><span class=\"spark-nlp-display-entity-wrapper\" style=\"background-color: #A59E30\"><span class=\"spark-nlp-display-entity-name\">daily </span><span class=\"spark-nlp-display-entity-type\">FREQUENCY</span></span><span class=\"spark-nlp-display-others\" style=\"background-color: white\">, </span><span class=\"spark-nlp-display-entity-wrapper\" style=\"background-color: #8B668B\"><span class=\"spark-nlp-display-entity-name\">Senna </span><span class=\"spark-nlp-display-entity-type\">DRUG</span></span><span class=\"spark-nlp-display-others\" style=\"background-color: white\"> </span><span class=\"spark-nlp-display-entity-wrapper\" style=\"background-color: #49433F\"><span class=\"spark-nlp-display-entity-name\">2 </span><span class=\"spark-nlp-display-entity-type\">DOSAGE</span></span><span class=\"spark-nlp-display-others\" style=\"background-color: white\"> </span><span class=\"spark-nlp-display-entity-wrapper\" style=\"background-color: #218140\"><span class=\"spark-nlp-display-entity-name\">tablets </span><span class=\"spark-nlp-display-entity-type\">FORM</span></span><span class=\"spark-nlp-display-others\" style=\"background-color: white\"> </span><span class=\"spark-nlp-display-entity-wrapper\" style=\"background-color: #73B197\"><span class=\"spark-nlp-display-entity-name\">p.o. </span><span class=\"spark-nlp-display-entity-type\">ROUTE</span></span><span class=\"spark-nlp-display-others\" style=\"background-color: white\"> </span><span class=\"spark-nlp-display-entity-wrapper\" style=\"background-color: #A59E30\"><span class=\"spark-nlp-display-entity-name\">q.a.m., </span><span class=\"spark-nlp-display-entity-type\">FREQUENCY</span></span><span class=\"spark-nlp-display-others\" style=\"background-color: white\"> </span><span class=\"spark-nlp-display-entity-wrapper\" style=\"background-color: #8B668B\"><span class=\"spark-nlp-display-entity-name\">Neurontin </span><span class=\"spark-nlp-display-entity-type\">DRUG</span></span><span class=\"spark-nlp-display-others\" style=\"background-color: white\"> </span><span class=\"spark-nlp-display-entity-wrapper\" style=\"background-color: #46673C\"><span class=\"spark-nlp-display-entity-name\">400 mg </span><span class=\"spark-nlp-display-entity-type\">STRENGTH</span></span><span class=\"spark-nlp-display-others\" style=\"background-color: white\"> </span><span class=\"spark-nlp-display-entity-wrapper\" style=\"background-color: #73B197\"><span class=\"spark-nlp-display-entity-name\">p.o </span><span class=\"spark-nlp-display-entity-type\">ROUTE</span></span><span class=\"spark-nlp-display-others\" style=\"background-color: white\">. </span><span class=\"spark-nlp-display-entity-wrapper\" style=\"background-color: #A59E30\"><span class=\"spark-nlp-display-entity-name\">t.i.d., </span><span class=\"spark-nlp-display-entity-type\">FREQUENCY</span></span><span class=\"spark-nlp-display-others\" style=\"background-color: white\"> </span><span class=\"spark-nlp-display-entity-wrapper\" style=\"background-color: #8B668B\"><span class=\"spark-nlp-display-entity-name\">magnesium citrate </span><span class=\"spark-nlp-display-entity-type\">DRUG</span></span><span class=\"spark-nlp-display-others\" style=\"background-color: white\"> </span><span class=\"spark-nlp-display-entity-wrapper\" style=\"background-color: #49433F\"><span class=\"spark-nlp-display-entity-name\">1 </span><span class=\"spark-nlp-display-entity-type\">DOSAGE</span></span><span class=\"spark-nlp-display-others\" style=\"background-color: white\"> </span><span class=\"spark-nlp-display-entity-wrapper\" style=\"background-color: #218140\"><span class=\"spark-nlp-display-entity-name\">bottle </span><span class=\"spark-nlp-display-entity-type\">FORM</span></span><span class=\"spark-nlp-display-others\" style=\"background-color: white\"> </span><span class=\"spark-nlp-display-entity-wrapper\" style=\"background-color: #73B197\"><span class=\"spark-nlp-display-entity-name\">p.o </span><span class=\"spark-nlp-display-entity-type\">ROUTE</span></span><span class=\"spark-nlp-display-others\" style=\"background-color: white\"> , </span><span class=\"spark-nlp-display-entity-wrapper\" style=\"background-color: #8B668B\"><span class=\"spark-nlp-display-entity-name\">Wellbutrin </span><span class=\"spark-nlp-display-entity-type\">DRUG</span></span><span class=\"spark-nlp-display-others\" style=\"background-color: white\"> </span><span class=\"spark-nlp-display-entity-wrapper\" style=\"background-color: #46673C\"><span class=\"spark-nlp-display-entity-name\">100 mg </span><span class=\"spark-nlp-display-entity-type\">STRENGTH</span></span><span class=\"spark-nlp-display-others\" style=\"background-color: white\"> </span><span class=\"spark-nlp-display-entity-wrapper\" style=\"background-color: #73B197\"><span class=\"spark-nlp-display-entity-name\">p.o. </span><span class=\"spark-nlp-display-entity-type\">ROUTE</span></span><span class=\"spark-nlp-display-others\" style=\"background-color: white\"> </span><span class=\"spark-nlp-display-entity-wrapper\" style=\"background-color: #A59E30\"><span class=\"spark-nlp-display-entity-name\">daily </span><span class=\"spark-nlp-display-entity-type\">FREQUENCY</span></span><span class=\"spark-nlp-display-others\" style=\"background-color: white\">, and </span><span class=\"spark-nlp-display-entity-wrapper\" style=\"background-color: #8B668B\"><span class=\"spark-nlp-display-entity-name\">Bactrim </span><span class=\"spark-nlp-display-entity-type\">DRUG</span></span><span class=\"spark-nlp-display-others\" style=\"background-color: white\"> </span><span class=\"spark-nlp-display-entity-wrapper\" style=\"background-color: #46673C\"><span class=\"spark-nlp-display-entity-name\">DS </span><span class=\"spark-nlp-display-entity-type\">STRENGTH</span></span><span class=\"spark-nlp-display-others\" style=\"background-color: white\"> </span><span class=\"spark-nlp-display-entity-wrapper\" style=\"background-color: #A59E30\"><span class=\"spark-nlp-display-entity-name\">b.i.d </span><span class=\"spark-nlp-display-entity-type\">FREQUENCY</span></span><span class=\"spark-nlp-display-others\" style=\"background-color: white\">.</span></div>"
            ]
          },
          "metadata": {}
        }
      ]
    },
    {
      "cell_type": "markdown",
      "source": [
        "## 🔎`ner_posology_large`"
      ],
      "metadata": {
        "id": "gQa66WlqbiKX"
      }
    },
    {
      "cell_type": "code",
      "source": [
        "result = pipeline(\"ner_posology_large\").transform(df)"
      ],
      "metadata": {
        "colab": {
          "base_uri": "https://localhost:8080/"
        },
        "id": "GZp-csJZd_EC",
        "outputId": "52f0bb6c-6d6a-4a00-86dd-bfdbbfc062ef"
      },
      "execution_count": null,
      "outputs": [
        {
          "output_type": "stream",
          "name": "stdout",
          "text": [
            "ner_posology_large download started this may take some time.\n",
            "[OK!]\n"
          ]
        }
      ]
    },
    {
      "cell_type": "code",
      "source": [
        "result.select(F.explode(F.arrays_zip('ner_chunk.result', 'ner_chunk.metadata')).alias(\"cols\"))\\\n",
        "      .select(F.expr(\"cols['0']\").alias(\"chunk\"),\n",
        "              F.expr(\"cols['1']['entity']\").alias(\"ner_label\")).show(15,truncate=False)\n",
        "    \n"
      ],
      "metadata": {
        "colab": {
          "base_uri": "https://localhost:8080/"
        },
        "id": "4WIxE5eGeB2L",
        "outputId": "aab85557-4d50-47ee-bd6e-97412f716139"
      },
      "execution_count": null,
      "outputs": [
        {
          "output_type": "stream",
          "name": "stdout",
          "text": [
            "+--------------+---------+\n",
            "|chunk         |ner_label|\n",
            "+--------------+---------+\n",
            "|Bactrim       |DRUG     |\n",
            "|for 14 days   |DURATION |\n",
            "|Fragmin       |DRUG     |\n",
            "|5000 units    |DOSAGE   |\n",
            "|subcutaneously|ROUTE    |\n",
            "|daily         |FREQUENCY|\n",
            "|OxyContin     |DRUG     |\n",
            "|30 mg         |STRENGTH |\n",
            "|p.o.          |ROUTE    |\n",
            "|q.12 h        |FREQUENCY|\n",
            "|folic acid    |DRUG     |\n",
            "|1 mg          |STRENGTH |\n",
            "|daily         |FREQUENCY|\n",
            "|levothyroxine |DRUG     |\n",
            "|0.1 mg        |STRENGTH |\n",
            "+--------------+---------+\n",
            "only showing top 15 rows\n",
            "\n"
          ]
        }
      ]
    },
    {
      "cell_type": "code",
      "source": [
        "visualiser = NerVisualizer()\n",
        "\n",
        "visualiser.display(result = result.collect()[0] ,label_col = 'ner_chunk', document_col = 'document')"
      ],
      "metadata": {
        "colab": {
          "base_uri": "https://localhost:8080/",
          "height": 369
        },
        "id": "2tHFzOq4eBpn",
        "outputId": "547370d8-88a2-40a9-8201-54271fe611f6"
      },
      "execution_count": null,
      "outputs": [
        {
          "output_type": "display_data",
          "data": {
            "text/plain": [
              "<IPython.core.display.HTML object>"
            ],
            "text/html": [
              "\n",
              "<style>\n",
              "    @import url('https://fonts.googleapis.com/css2?family=Montserrat:wght@300;400;500;600;700&display=swap');\n",
              "    @import url('https://fonts.googleapis.com/css2?family=Vistol Regular:wght@300;400;500;600;700&display=swap');\n",
              "    \n",
              "    .spark-nlp-display-scroll-entities {\n",
              "        border: 1px solid #E7EDF0;\n",
              "        border-radius: 3px;\n",
              "        text-align: justify;\n",
              "        \n",
              "    }\n",
              "    .spark-nlp-display-scroll-entities span {  \n",
              "        font-size: 14px;\n",
              "        line-height: 24px;\n",
              "        color: #536B76;\n",
              "        font-family: 'Montserrat', sans-serif !important;\n",
              "    }\n",
              "    \n",
              "    .spark-nlp-display-entity-wrapper{\n",
              "    \n",
              "        display: inline-grid;\n",
              "        text-align: center;\n",
              "        border-radius: 4px;\n",
              "        margin: 0 2px 5px 2px;\n",
              "        padding: 1px\n",
              "    }\n",
              "    .spark-nlp-display-entity-name{\n",
              "        font-size: 14px;\n",
              "        line-height: 24px;\n",
              "        font-family: 'Montserrat', sans-serif !important;\n",
              "        \n",
              "        background: #f1f2f3;\n",
              "        border-width: medium;\n",
              "        text-align: center;\n",
              "        \n",
              "        font-weight: 400;\n",
              "        \n",
              "        border-radius: 5px;\n",
              "        padding: 2px 5px;\n",
              "        display: block;\n",
              "        margin: 3px 2px;\n",
              "    \n",
              "    }\n",
              "    .spark-nlp-display-entity-type{\n",
              "        font-size: 14px;\n",
              "        line-height: 24px;\n",
              "        color: #ffffff;\n",
              "        font-family: 'Montserrat', sans-serif !important;\n",
              "        \n",
              "        text-transform: uppercase;\n",
              "        \n",
              "        font-weight: 500;\n",
              "\n",
              "        display: block;\n",
              "        padding: 3px 5px;\n",
              "    }\n",
              "    \n",
              "    .spark-nlp-display-entity-resolution{\n",
              "        font-size: 14px;\n",
              "        line-height: 24px;\n",
              "        color: #ffffff;\n",
              "        font-family: 'Vistol Regular', sans-serif !important;\n",
              "        \n",
              "        text-transform: uppercase;\n",
              "        \n",
              "        font-weight: 500;\n",
              "\n",
              "        display: block;\n",
              "        padding: 3px 5px;\n",
              "    }\n",
              "    \n",
              "    .spark-nlp-display-others{\n",
              "        font-size: 14px;\n",
              "        line-height: 24px;\n",
              "        font-family: 'Montserrat', sans-serif !important;\n",
              "        \n",
              "        font-weight: 400;\n",
              "    }\n",
              "\n",
              "</style>\n",
              " <span class=\"spark-nlp-display-others\" style=\"background-color: white\">The patient is a 30-year-old female with a long history of diabetes, type 2; coronary artery disease; chronic renal insufficiency; peripheral vascular disease, also secondary to diabetes; who was originally admitted to an outside hospital for what appeared to be acute paraplegia, lower extremities. She did receive a course of </span><span class=\"spark-nlp-display-entity-wrapper\" style=\"background-color: #8B668B\"><span class=\"spark-nlp-display-entity-name\">Bactrim </span><span class=\"spark-nlp-display-entity-type\">DRUG</span></span><span class=\"spark-nlp-display-others\" style=\"background-color: white\"> </span><span class=\"spark-nlp-display-entity-wrapper\" style=\"background-color: #2A189B\"><span class=\"spark-nlp-display-entity-name\">for 14 days </span><span class=\"spark-nlp-display-entity-type\">DURATION</span></span><span class=\"spark-nlp-display-others\" style=\"background-color: white\"> for UTI. Evidently, at some point in time, the patient was noted to develop a pressure-type wound on the sole of her left foot and left great toe. She was also noted to have a large sacral wound; this is in a similar location with previous laminectomy, and this continues to receive daily care. The patient was transferred secondary to inability to participate in full physical and occupational therapy and continue medical management of her diabetes, the sacral decubitus, left foot pressure wound, and associated complications of diabetes. She is given </span><span class=\"spark-nlp-display-entity-wrapper\" style=\"background-color: #8B668B\"><span class=\"spark-nlp-display-entity-name\">Fragmin </span><span class=\"spark-nlp-display-entity-type\">DRUG</span></span><span class=\"spark-nlp-display-others\" style=\"background-color: white\"> </span><span class=\"spark-nlp-display-entity-wrapper\" style=\"background-color: #3B8D83\"><span class=\"spark-nlp-display-entity-name\">5000 units </span><span class=\"spark-nlp-display-entity-type\">DOSAGE</span></span><span class=\"spark-nlp-display-others\" style=\"background-color: white\"> </span><span class=\"spark-nlp-display-entity-wrapper\" style=\"background-color: #A308C5\"><span class=\"spark-nlp-display-entity-name\">subcutaneously </span><span class=\"spark-nlp-display-entity-type\">ROUTE</span></span><span class=\"spark-nlp-display-others\" style=\"background-color: white\"> </span><span class=\"spark-nlp-display-entity-wrapper\" style=\"background-color: #17AB7A\"><span class=\"spark-nlp-display-entity-name\">daily </span><span class=\"spark-nlp-display-entity-type\">FREQUENCY</span></span><span class=\"spark-nlp-display-others\" style=\"background-color: white\">, </span><span class=\"spark-nlp-display-entity-wrapper\" style=\"background-color: #8B668B\"><span class=\"spark-nlp-display-entity-name\">OxyContin </span><span class=\"spark-nlp-display-entity-type\">DRUG</span></span><span class=\"spark-nlp-display-others\" style=\"background-color: white\"> </span><span class=\"spark-nlp-display-entity-wrapper\" style=\"background-color: #36B0BF\"><span class=\"spark-nlp-display-entity-name\">30 mg </span><span class=\"spark-nlp-display-entity-type\">STRENGTH</span></span><span class=\"spark-nlp-display-others\" style=\"background-color: white\"> </span><span class=\"spark-nlp-display-entity-wrapper\" style=\"background-color: #A308C5\"><span class=\"spark-nlp-display-entity-name\">p.o. </span><span class=\"spark-nlp-display-entity-type\">ROUTE</span></span><span class=\"spark-nlp-display-others\" style=\"background-color: white\"> </span><span class=\"spark-nlp-display-entity-wrapper\" style=\"background-color: #17AB7A\"><span class=\"spark-nlp-display-entity-name\">q.12 h </span><span class=\"spark-nlp-display-entity-type\">FREQUENCY</span></span><span class=\"spark-nlp-display-others\" style=\"background-color: white\">., </span><span class=\"spark-nlp-display-entity-wrapper\" style=\"background-color: #8B668B\"><span class=\"spark-nlp-display-entity-name\">folic acid </span><span class=\"spark-nlp-display-entity-type\">DRUG</span></span><span class=\"spark-nlp-display-others\" style=\"background-color: white\"> </span><span class=\"spark-nlp-display-entity-wrapper\" style=\"background-color: #36B0BF\"><span class=\"spark-nlp-display-entity-name\">1 mg </span><span class=\"spark-nlp-display-entity-type\">STRENGTH</span></span><span class=\"spark-nlp-display-others\" style=\"background-color: white\"> </span><span class=\"spark-nlp-display-entity-wrapper\" style=\"background-color: #17AB7A\"><span class=\"spark-nlp-display-entity-name\">daily </span><span class=\"spark-nlp-display-entity-type\">FREQUENCY</span></span><span class=\"spark-nlp-display-others\" style=\"background-color: white\">, </span><span class=\"spark-nlp-display-entity-wrapper\" style=\"background-color: #8B668B\"><span class=\"spark-nlp-display-entity-name\">levothyroxine </span><span class=\"spark-nlp-display-entity-type\">DRUG</span></span><span class=\"spark-nlp-display-others\" style=\"background-color: white\"> </span><span class=\"spark-nlp-display-entity-wrapper\" style=\"background-color: #36B0BF\"><span class=\"spark-nlp-display-entity-name\">0.1 mg </span><span class=\"spark-nlp-display-entity-type\">STRENGTH</span></span><span class=\"spark-nlp-display-others\" style=\"background-color: white\"> </span><span class=\"spark-nlp-display-entity-wrapper\" style=\"background-color: #A308C5\"><span class=\"spark-nlp-display-entity-name\">p.o </span><span class=\"spark-nlp-display-entity-type\">ROUTE</span></span><span class=\"spark-nlp-display-others\" style=\"background-color: white\">. , </span><span class=\"spark-nlp-display-entity-wrapper\" style=\"background-color: #8B668B\"><span class=\"spark-nlp-display-entity-name\">Prevacid </span><span class=\"spark-nlp-display-entity-type\">DRUG</span></span><span class=\"spark-nlp-display-others\" style=\"background-color: white\"> </span><span class=\"spark-nlp-display-entity-wrapper\" style=\"background-color: #36B0BF\"><span class=\"spark-nlp-display-entity-name\">30 mg </span><span class=\"spark-nlp-display-entity-type\">STRENGTH</span></span><span class=\"spark-nlp-display-others\" style=\"background-color: white\"> </span><span class=\"spark-nlp-display-entity-wrapper\" style=\"background-color: #17AB7A\"><span class=\"spark-nlp-display-entity-name\">daily </span><span class=\"spark-nlp-display-entity-type\">FREQUENCY</span></span><span class=\"spark-nlp-display-others\" style=\"background-color: white\">, </span><span class=\"spark-nlp-display-entity-wrapper\" style=\"background-color: #8B668B\"><span class=\"spark-nlp-display-entity-name\">Avandia </span><span class=\"spark-nlp-display-entity-type\">DRUG</span></span><span class=\"spark-nlp-display-others\" style=\"background-color: white\"> </span><span class=\"spark-nlp-display-entity-wrapper\" style=\"background-color: #36B0BF\"><span class=\"spark-nlp-display-entity-name\">4 mg </span><span class=\"spark-nlp-display-entity-type\">STRENGTH</span></span><span class=\"spark-nlp-display-others\" style=\"background-color: white\"> </span><span class=\"spark-nlp-display-entity-wrapper\" style=\"background-color: #17AB7A\"><span class=\"spark-nlp-display-entity-name\">daily </span><span class=\"spark-nlp-display-entity-type\">FREQUENCY</span></span><span class=\"spark-nlp-display-others\" style=\"background-color: white\">, </span><span class=\"spark-nlp-display-entity-wrapper\" style=\"background-color: #8B668B\"><span class=\"spark-nlp-display-entity-name\">Norvasc </span><span class=\"spark-nlp-display-entity-type\">DRUG</span></span><span class=\"spark-nlp-display-others\" style=\"background-color: white\"> </span><span class=\"spark-nlp-display-entity-wrapper\" style=\"background-color: #36B0BF\"><span class=\"spark-nlp-display-entity-name\">10 mg </span><span class=\"spark-nlp-display-entity-type\">STRENGTH</span></span><span class=\"spark-nlp-display-others\" style=\"background-color: white\"> </span><span class=\"spark-nlp-display-entity-wrapper\" style=\"background-color: #17AB7A\"><span class=\"spark-nlp-display-entity-name\">daily </span><span class=\"spark-nlp-display-entity-type\">FREQUENCY</span></span><span class=\"spark-nlp-display-others\" style=\"background-color: white\">, </span><span class=\"spark-nlp-display-entity-wrapper\" style=\"background-color: #8B668B\"><span class=\"spark-nlp-display-entity-name\">Lexapro </span><span class=\"spark-nlp-display-entity-type\">DRUG</span></span><span class=\"spark-nlp-display-others\" style=\"background-color: white\"> </span><span class=\"spark-nlp-display-entity-wrapper\" style=\"background-color: #36B0BF\"><span class=\"spark-nlp-display-entity-name\">20 mg </span><span class=\"spark-nlp-display-entity-type\">STRENGTH</span></span><span class=\"spark-nlp-display-others\" style=\"background-color: white\"> </span><span class=\"spark-nlp-display-entity-wrapper\" style=\"background-color: #17AB7A\"><span class=\"spark-nlp-display-entity-name\">daily </span><span class=\"spark-nlp-display-entity-type\">FREQUENCY</span></span><span class=\"spark-nlp-display-others\" style=\"background-color: white\">, </span><span class=\"spark-nlp-display-entity-wrapper\" style=\"background-color: #8B668B\"><span class=\"spark-nlp-display-entity-name\">aspirin </span><span class=\"spark-nlp-display-entity-type\">DRUG</span></span><span class=\"spark-nlp-display-others\" style=\"background-color: white\"> </span><span class=\"spark-nlp-display-entity-wrapper\" style=\"background-color: #36B0BF\"><span class=\"spark-nlp-display-entity-name\">81 mg </span><span class=\"spark-nlp-display-entity-type\">STRENGTH</span></span><span class=\"spark-nlp-display-others\" style=\"background-color: white\"> </span><span class=\"spark-nlp-display-entity-wrapper\" style=\"background-color: #17AB7A\"><span class=\"spark-nlp-display-entity-name\">daily </span><span class=\"spark-nlp-display-entity-type\">FREQUENCY</span></span><span class=\"spark-nlp-display-others\" style=\"background-color: white\">, </span><span class=\"spark-nlp-display-entity-wrapper\" style=\"background-color: #8B668B\"><span class=\"spark-nlp-display-entity-name\">Senna </span><span class=\"spark-nlp-display-entity-type\">DRUG</span></span><span class=\"spark-nlp-display-others\" style=\"background-color: white\"> </span><span class=\"spark-nlp-display-entity-wrapper\" style=\"background-color: #3B8D83\"><span class=\"spark-nlp-display-entity-name\">2 </span><span class=\"spark-nlp-display-entity-type\">DOSAGE</span></span><span class=\"spark-nlp-display-others\" style=\"background-color: white\"> </span><span class=\"spark-nlp-display-entity-wrapper\" style=\"background-color: #7C983C\"><span class=\"spark-nlp-display-entity-name\">tablets </span><span class=\"spark-nlp-display-entity-type\">FORM</span></span><span class=\"spark-nlp-display-others\" style=\"background-color: white\"> </span><span class=\"spark-nlp-display-entity-wrapper\" style=\"background-color: #A308C5\"><span class=\"spark-nlp-display-entity-name\">p.o </span><span class=\"spark-nlp-display-entity-type\">ROUTE</span></span><span class=\"spark-nlp-display-others\" style=\"background-color: white\">. </span><span class=\"spark-nlp-display-entity-wrapper\" style=\"background-color: #17AB7A\"><span class=\"spark-nlp-display-entity-name\">q.a.m </span><span class=\"spark-nlp-display-entity-type\">FREQUENCY</span></span><span class=\"spark-nlp-display-others\" style=\"background-color: white\">., </span><span class=\"spark-nlp-display-entity-wrapper\" style=\"background-color: #8B668B\"><span class=\"spark-nlp-display-entity-name\">Neurontin </span><span class=\"spark-nlp-display-entity-type\">DRUG</span></span><span class=\"spark-nlp-display-others\" style=\"background-color: white\"> </span><span class=\"spark-nlp-display-entity-wrapper\" style=\"background-color: #36B0BF\"><span class=\"spark-nlp-display-entity-name\">400 mg </span><span class=\"spark-nlp-display-entity-type\">STRENGTH</span></span><span class=\"spark-nlp-display-others\" style=\"background-color: white\"> </span><span class=\"spark-nlp-display-entity-wrapper\" style=\"background-color: #A308C5\"><span class=\"spark-nlp-display-entity-name\">p.o </span><span class=\"spark-nlp-display-entity-type\">ROUTE</span></span><span class=\"spark-nlp-display-others\" style=\"background-color: white\">. </span><span class=\"spark-nlp-display-entity-wrapper\" style=\"background-color: #17AB7A\"><span class=\"spark-nlp-display-entity-name\">t.i.d </span><span class=\"spark-nlp-display-entity-type\">FREQUENCY</span></span><span class=\"spark-nlp-display-others\" style=\"background-color: white\">., </span><span class=\"spark-nlp-display-entity-wrapper\" style=\"background-color: #8B668B\"><span class=\"spark-nlp-display-entity-name\">magnesium citrate </span><span class=\"spark-nlp-display-entity-type\">DRUG</span></span><span class=\"spark-nlp-display-others\" style=\"background-color: white\"> </span><span class=\"spark-nlp-display-entity-wrapper\" style=\"background-color: #3B8D83\"><span class=\"spark-nlp-display-entity-name\">1 </span><span class=\"spark-nlp-display-entity-type\">DOSAGE</span></span><span class=\"spark-nlp-display-others\" style=\"background-color: white\"> </span><span class=\"spark-nlp-display-entity-wrapper\" style=\"background-color: #7C983C\"><span class=\"spark-nlp-display-entity-name\">bottle </span><span class=\"spark-nlp-display-entity-type\">FORM</span></span><span class=\"spark-nlp-display-others\" style=\"background-color: white\"> </span><span class=\"spark-nlp-display-entity-wrapper\" style=\"background-color: #A308C5\"><span class=\"spark-nlp-display-entity-name\">p.o </span><span class=\"spark-nlp-display-entity-type\">ROUTE</span></span><span class=\"spark-nlp-display-others\" style=\"background-color: white\"> , </span><span class=\"spark-nlp-display-entity-wrapper\" style=\"background-color: #8B668B\"><span class=\"spark-nlp-display-entity-name\">Wellbutrin </span><span class=\"spark-nlp-display-entity-type\">DRUG</span></span><span class=\"spark-nlp-display-others\" style=\"background-color: white\"> </span><span class=\"spark-nlp-display-entity-wrapper\" style=\"background-color: #36B0BF\"><span class=\"spark-nlp-display-entity-name\">100 mg </span><span class=\"spark-nlp-display-entity-type\">STRENGTH</span></span><span class=\"spark-nlp-display-others\" style=\"background-color: white\"> </span><span class=\"spark-nlp-display-entity-wrapper\" style=\"background-color: #A308C5\"><span class=\"spark-nlp-display-entity-name\">p.o </span><span class=\"spark-nlp-display-entity-type\">ROUTE</span></span><span class=\"spark-nlp-display-others\" style=\"background-color: white\">. </span><span class=\"spark-nlp-display-entity-wrapper\" style=\"background-color: #17AB7A\"><span class=\"spark-nlp-display-entity-name\">daily </span><span class=\"spark-nlp-display-entity-type\">FREQUENCY</span></span><span class=\"spark-nlp-display-others\" style=\"background-color: white\">, and </span><span class=\"spark-nlp-display-entity-wrapper\" style=\"background-color: #8B668B\"><span class=\"spark-nlp-display-entity-name\">Bactrim DS </span><span class=\"spark-nlp-display-entity-type\">DRUG</span></span><span class=\"spark-nlp-display-others\" style=\"background-color: white\"> </span><span class=\"spark-nlp-display-entity-wrapper\" style=\"background-color: #17AB7A\"><span class=\"spark-nlp-display-entity-name\">b.i.d. </span><span class=\"spark-nlp-display-entity-type\">FREQUENCY</span></span></div>"
            ]
          },
          "metadata": {}
        }
      ]
    },
    {
      "cell_type": "markdown",
      "source": [
        "## 🔎`ner_posology_greedy`"
      ],
      "metadata": {
        "id": "4_rA-1tzbiDT"
      }
    },
    {
      "cell_type": "code",
      "source": [
        "result = pipeline(\"ner_posology_greedy\").transform(df)"
      ],
      "metadata": {
        "colab": {
          "base_uri": "https://localhost:8080/"
        },
        "id": "Ltj5WGdteLir",
        "outputId": "3e1cf744-6dc0-445b-9256-bfadbeeb6fbc"
      },
      "execution_count": null,
      "outputs": [
        {
          "output_type": "stream",
          "name": "stdout",
          "text": [
            "ner_posology_greedy download started this may take some time.\n",
            "[OK!]\n"
          ]
        }
      ]
    },
    {
      "cell_type": "code",
      "source": [
        "result.select(F.explode(F.arrays_zip('ner_chunk.result', 'ner_chunk.metadata')).alias(\"cols\"))\\\n",
        "      .select(F.expr(\"cols['0']\").alias(\"chunk\"),\n",
        "              F.expr(\"cols['1']['entity']\").alias(\"ner_label\")).show(15,truncate=False)\n",
        "  "
      ],
      "metadata": {
        "colab": {
          "base_uri": "https://localhost:8080/"
        },
        "id": "3d4-bbCAeLaW",
        "outputId": "34478608-2acb-4a99-f135-efe2438d2ded"
      },
      "execution_count": null,
      "outputs": [
        {
          "output_type": "stream",
          "name": "stdout",
          "text": [
            "+---------------------------------+---------+\n",
            "|chunk                            |ner_label|\n",
            "+---------------------------------+---------+\n",
            "|Bactrim                          |DRUG     |\n",
            "|for 14 days                      |DURATION |\n",
            "|Fragmin 5000 units subcutaneously|DRUG     |\n",
            "|daily                            |FREQUENCY|\n",
            "|OxyContin 30 mg p.o              |DRUG     |\n",
            "|q.12 h                           |FREQUENCY|\n",
            "|folic acid 1 mg                  |DRUG     |\n",
            "|daily                            |FREQUENCY|\n",
            "|levothyroxine 0.1 mg p.o         |DRUG     |\n",
            "|Prevacid 30 mg                   |DRUG     |\n",
            "|daily                            |FREQUENCY|\n",
            "|Avandia 4 mg                     |DRUG     |\n",
            "|daily                            |FREQUENCY|\n",
            "|Norvasc 10 mg                    |DRUG     |\n",
            "|daily                            |FREQUENCY|\n",
            "+---------------------------------+---------+\n",
            "only showing top 15 rows\n",
            "\n"
          ]
        }
      ]
    },
    {
      "cell_type": "code",
      "source": [
        "visualiser = NerVisualizer()\n",
        "\n",
        "visualiser.display(result = result.collect()[0] ,label_col = 'ner_chunk', document_col = 'document')"
      ],
      "metadata": {
        "colab": {
          "base_uri": "https://localhost:8080/",
          "height": 369
        },
        "id": "WIqClr7heLQg",
        "outputId": "7ba3b3d0-2165-4bca-de6c-44e7463a41c0"
      },
      "execution_count": null,
      "outputs": [
        {
          "output_type": "display_data",
          "data": {
            "text/plain": [
              "<IPython.core.display.HTML object>"
            ],
            "text/html": [
              "\n",
              "<style>\n",
              "    @import url('https://fonts.googleapis.com/css2?family=Montserrat:wght@300;400;500;600;700&display=swap');\n",
              "    @import url('https://fonts.googleapis.com/css2?family=Vistol Regular:wght@300;400;500;600;700&display=swap');\n",
              "    \n",
              "    .spark-nlp-display-scroll-entities {\n",
              "        border: 1px solid #E7EDF0;\n",
              "        border-radius: 3px;\n",
              "        text-align: justify;\n",
              "        \n",
              "    }\n",
              "    .spark-nlp-display-scroll-entities span {  \n",
              "        font-size: 14px;\n",
              "        line-height: 24px;\n",
              "        color: #536B76;\n",
              "        font-family: 'Montserrat', sans-serif !important;\n",
              "    }\n",
              "    \n",
              "    .spark-nlp-display-entity-wrapper{\n",
              "    \n",
              "        display: inline-grid;\n",
              "        text-align: center;\n",
              "        border-radius: 4px;\n",
              "        margin: 0 2px 5px 2px;\n",
              "        padding: 1px\n",
              "    }\n",
              "    .spark-nlp-display-entity-name{\n",
              "        font-size: 14px;\n",
              "        line-height: 24px;\n",
              "        font-family: 'Montserrat', sans-serif !important;\n",
              "        \n",
              "        background: #f1f2f3;\n",
              "        border-width: medium;\n",
              "        text-align: center;\n",
              "        \n",
              "        font-weight: 400;\n",
              "        \n",
              "        border-radius: 5px;\n",
              "        padding: 2px 5px;\n",
              "        display: block;\n",
              "        margin: 3px 2px;\n",
              "    \n",
              "    }\n",
              "    .spark-nlp-display-entity-type{\n",
              "        font-size: 14px;\n",
              "        line-height: 24px;\n",
              "        color: #ffffff;\n",
              "        font-family: 'Montserrat', sans-serif !important;\n",
              "        \n",
              "        text-transform: uppercase;\n",
              "        \n",
              "        font-weight: 500;\n",
              "\n",
              "        display: block;\n",
              "        padding: 3px 5px;\n",
              "    }\n",
              "    \n",
              "    .spark-nlp-display-entity-resolution{\n",
              "        font-size: 14px;\n",
              "        line-height: 24px;\n",
              "        color: #ffffff;\n",
              "        font-family: 'Vistol Regular', sans-serif !important;\n",
              "        \n",
              "        text-transform: uppercase;\n",
              "        \n",
              "        font-weight: 500;\n",
              "\n",
              "        display: block;\n",
              "        padding: 3px 5px;\n",
              "    }\n",
              "    \n",
              "    .spark-nlp-display-others{\n",
              "        font-size: 14px;\n",
              "        line-height: 24px;\n",
              "        font-family: 'Montserrat', sans-serif !important;\n",
              "        \n",
              "        font-weight: 400;\n",
              "    }\n",
              "\n",
              "</style>\n",
              " <span class=\"spark-nlp-display-others\" style=\"background-color: white\">The patient is a 30-year-old female with a long history of diabetes, type 2; coronary artery disease; chronic renal insufficiency; peripheral vascular disease, also secondary to diabetes; who was originally admitted to an outside hospital for what appeared to be acute paraplegia, lower extremities. She did receive a course of </span><span class=\"spark-nlp-display-entity-wrapper\" style=\"background-color: #8B668B\"><span class=\"spark-nlp-display-entity-name\">Bactrim </span><span class=\"spark-nlp-display-entity-type\">DRUG</span></span><span class=\"spark-nlp-display-others\" style=\"background-color: white\"> </span><span class=\"spark-nlp-display-entity-wrapper\" style=\"background-color: #C86302\"><span class=\"spark-nlp-display-entity-name\">for 14 days </span><span class=\"spark-nlp-display-entity-type\">DURATION</span></span><span class=\"spark-nlp-display-others\" style=\"background-color: white\"> for UTI. Evidently, at some point in time, the patient was noted to develop a pressure-type wound on the sole of her left foot and left great toe. She was also noted to have a large sacral wound; this is in a similar location with previous laminectomy, and this continues to receive daily care. The patient was transferred secondary to inability to participate in full physical and occupational therapy and continue medical management of her diabetes, the sacral decubitus, left foot pressure wound, and associated complications of diabetes. She is given </span><span class=\"spark-nlp-display-entity-wrapper\" style=\"background-color: #8B668B\"><span class=\"spark-nlp-display-entity-name\">Fragmin 5000 units subcutaneously </span><span class=\"spark-nlp-display-entity-type\">DRUG</span></span><span class=\"spark-nlp-display-others\" style=\"background-color: white\"> </span><span class=\"spark-nlp-display-entity-wrapper\" style=\"background-color: #B52430\"><span class=\"spark-nlp-display-entity-name\">daily </span><span class=\"spark-nlp-display-entity-type\">FREQUENCY</span></span><span class=\"spark-nlp-display-others\" style=\"background-color: white\">, </span><span class=\"spark-nlp-display-entity-wrapper\" style=\"background-color: #8B668B\"><span class=\"spark-nlp-display-entity-name\">OxyContin 30 mg p.o </span><span class=\"spark-nlp-display-entity-type\">DRUG</span></span><span class=\"spark-nlp-display-others\" style=\"background-color: white\">. </span><span class=\"spark-nlp-display-entity-wrapper\" style=\"background-color: #B52430\"><span class=\"spark-nlp-display-entity-name\">q.12 h </span><span class=\"spark-nlp-display-entity-type\">FREQUENCY</span></span><span class=\"spark-nlp-display-others\" style=\"background-color: white\">., </span><span class=\"spark-nlp-display-entity-wrapper\" style=\"background-color: #8B668B\"><span class=\"spark-nlp-display-entity-name\">folic acid 1 mg </span><span class=\"spark-nlp-display-entity-type\">DRUG</span></span><span class=\"spark-nlp-display-others\" style=\"background-color: white\"> </span><span class=\"spark-nlp-display-entity-wrapper\" style=\"background-color: #B52430\"><span class=\"spark-nlp-display-entity-name\">daily </span><span class=\"spark-nlp-display-entity-type\">FREQUENCY</span></span><span class=\"spark-nlp-display-others\" style=\"background-color: white\">, </span><span class=\"spark-nlp-display-entity-wrapper\" style=\"background-color: #8B668B\"><span class=\"spark-nlp-display-entity-name\">levothyroxine 0.1 mg p.o </span><span class=\"spark-nlp-display-entity-type\">DRUG</span></span><span class=\"spark-nlp-display-others\" style=\"background-color: white\">. , </span><span class=\"spark-nlp-display-entity-wrapper\" style=\"background-color: #8B668B\"><span class=\"spark-nlp-display-entity-name\">Prevacid 30 mg </span><span class=\"spark-nlp-display-entity-type\">DRUG</span></span><span class=\"spark-nlp-display-others\" style=\"background-color: white\"> </span><span class=\"spark-nlp-display-entity-wrapper\" style=\"background-color: #B52430\"><span class=\"spark-nlp-display-entity-name\">daily </span><span class=\"spark-nlp-display-entity-type\">FREQUENCY</span></span><span class=\"spark-nlp-display-others\" style=\"background-color: white\">, </span><span class=\"spark-nlp-display-entity-wrapper\" style=\"background-color: #8B668B\"><span class=\"spark-nlp-display-entity-name\">Avandia 4 mg </span><span class=\"spark-nlp-display-entity-type\">DRUG</span></span><span class=\"spark-nlp-display-others\" style=\"background-color: white\"> </span><span class=\"spark-nlp-display-entity-wrapper\" style=\"background-color: #B52430\"><span class=\"spark-nlp-display-entity-name\">daily </span><span class=\"spark-nlp-display-entity-type\">FREQUENCY</span></span><span class=\"spark-nlp-display-others\" style=\"background-color: white\">, </span><span class=\"spark-nlp-display-entity-wrapper\" style=\"background-color: #8B668B\"><span class=\"spark-nlp-display-entity-name\">Norvasc 10 mg </span><span class=\"spark-nlp-display-entity-type\">DRUG</span></span><span class=\"spark-nlp-display-others\" style=\"background-color: white\"> </span><span class=\"spark-nlp-display-entity-wrapper\" style=\"background-color: #B52430\"><span class=\"spark-nlp-display-entity-name\">daily </span><span class=\"spark-nlp-display-entity-type\">FREQUENCY</span></span><span class=\"spark-nlp-display-others\" style=\"background-color: white\">, </span><span class=\"spark-nlp-display-entity-wrapper\" style=\"background-color: #8B668B\"><span class=\"spark-nlp-display-entity-name\">Lexapro 20 mg </span><span class=\"spark-nlp-display-entity-type\">DRUG</span></span><span class=\"spark-nlp-display-others\" style=\"background-color: white\"> </span><span class=\"spark-nlp-display-entity-wrapper\" style=\"background-color: #B52430\"><span class=\"spark-nlp-display-entity-name\">daily </span><span class=\"spark-nlp-display-entity-type\">FREQUENCY</span></span><span class=\"spark-nlp-display-others\" style=\"background-color: white\">, </span><span class=\"spark-nlp-display-entity-wrapper\" style=\"background-color: #8B668B\"><span class=\"spark-nlp-display-entity-name\">aspirin 81 mg </span><span class=\"spark-nlp-display-entity-type\">DRUG</span></span><span class=\"spark-nlp-display-others\" style=\"background-color: white\"> </span><span class=\"spark-nlp-display-entity-wrapper\" style=\"background-color: #B52430\"><span class=\"spark-nlp-display-entity-name\">daily </span><span class=\"spark-nlp-display-entity-type\">FREQUENCY</span></span><span class=\"spark-nlp-display-others\" style=\"background-color: white\">, </span><span class=\"spark-nlp-display-entity-wrapper\" style=\"background-color: #8B668B\"><span class=\"spark-nlp-display-entity-name\">Senna 2 tablets p.o </span><span class=\"spark-nlp-display-entity-type\">DRUG</span></span><span class=\"spark-nlp-display-others\" style=\"background-color: white\">. </span><span class=\"spark-nlp-display-entity-wrapper\" style=\"background-color: #B52430\"><span class=\"spark-nlp-display-entity-name\">q.a.m </span><span class=\"spark-nlp-display-entity-type\">FREQUENCY</span></span><span class=\"spark-nlp-display-others\" style=\"background-color: white\">., </span><span class=\"spark-nlp-display-entity-wrapper\" style=\"background-color: #8B668B\"><span class=\"spark-nlp-display-entity-name\">Neurontin 400 mg p.o </span><span class=\"spark-nlp-display-entity-type\">DRUG</span></span><span class=\"spark-nlp-display-others\" style=\"background-color: white\">. </span><span class=\"spark-nlp-display-entity-wrapper\" style=\"background-color: #B52430\"><span class=\"spark-nlp-display-entity-name\">t.i.d </span><span class=\"spark-nlp-display-entity-type\">FREQUENCY</span></span><span class=\"spark-nlp-display-others\" style=\"background-color: white\">., </span><span class=\"spark-nlp-display-entity-wrapper\" style=\"background-color: #8B668B\"><span class=\"spark-nlp-display-entity-name\">magnesium citrate 1 bottle p.o </span><span class=\"spark-nlp-display-entity-type\">DRUG</span></span><span class=\"spark-nlp-display-others\" style=\"background-color: white\"> , </span><span class=\"spark-nlp-display-entity-wrapper\" style=\"background-color: #8B668B\"><span class=\"spark-nlp-display-entity-name\">Wellbutrin 100 mg p.o </span><span class=\"spark-nlp-display-entity-type\">DRUG</span></span><span class=\"spark-nlp-display-others\" style=\"background-color: white\">. </span><span class=\"spark-nlp-display-entity-wrapper\" style=\"background-color: #B52430\"><span class=\"spark-nlp-display-entity-name\">daily </span><span class=\"spark-nlp-display-entity-type\">FREQUENCY</span></span><span class=\"spark-nlp-display-others\" style=\"background-color: white\">, and </span><span class=\"spark-nlp-display-entity-wrapper\" style=\"background-color: #8B668B\"><span class=\"spark-nlp-display-entity-name\">Bactrim DS </span><span class=\"spark-nlp-display-entity-type\">DRUG</span></span><span class=\"spark-nlp-display-others\" style=\"background-color: white\"> </span><span class=\"spark-nlp-display-entity-wrapper\" style=\"background-color: #B52430\"><span class=\"spark-nlp-display-entity-name\">b.i.d </span><span class=\"spark-nlp-display-entity-type\">FREQUENCY</span></span><span class=\"spark-nlp-display-others\" style=\"background-color: white\">.</span></div>"
            ]
          },
          "metadata": {}
        }
      ]
    },
    {
      "cell_type": "markdown",
      "source": [
        "## 🔎`ner_posology_experimental`"
      ],
      "metadata": {
        "id": "zAVa59DdbiAM"
      }
    },
    {
      "cell_type": "code",
      "source": [
        "result = pipeline(\"ner_posology_experimental\").transform(df)"
      ],
      "metadata": {
        "colab": {
          "base_uri": "https://localhost:8080/"
        },
        "id": "8YoflbnSeTWu",
        "outputId": "5153b8ca-2ca7-46a0-f24c-6dc7842f94c6"
      },
      "execution_count": null,
      "outputs": [
        {
          "output_type": "stream",
          "name": "stdout",
          "text": [
            "ner_posology_experimental download started this may take some time.\n",
            "[OK!]\n"
          ]
        }
      ]
    },
    {
      "cell_type": "code",
      "source": [
        "result.select(F.explode(F.arrays_zip('ner_chunk.result', 'ner_chunk.metadata')).alias(\"cols\"))\\\n",
        "      .select(F.expr(\"cols['0']\").alias(\"chunk\"),\n",
        "              F.expr(\"cols['1']['entity']\").alias(\"ner_label\")).show(15,truncate=False)\n",
        "  "
      ],
      "metadata": {
        "colab": {
          "base_uri": "https://localhost:8080/"
        },
        "id": "YgV3k6I2eWg0",
        "outputId": "758db061-88a9-4605-d3c8-c7a4d7656602"
      },
      "execution_count": null,
      "outputs": [
        {
          "output_type": "stream",
          "name": "stdout",
          "text": [
            "+--------------+---------+\n",
            "|chunk         |ner_label|\n",
            "+--------------+---------+\n",
            "|Bactrim       |Drug     |\n",
            "|for 14 days   |Duration |\n",
            "|Fragmin       |Drug     |\n",
            "|5000 units    |Strength |\n",
            "|subcutaneously|Route    |\n",
            "|daily         |Frequency|\n",
            "|OxyContin     |Drug     |\n",
            "|30 mg         |Strength |\n",
            "|p.o           |Route    |\n",
            "|q.12 h        |Frequency|\n",
            "|folic acid    |Drug     |\n",
            "|1 mg          |Strength |\n",
            "|daily         |Frequency|\n",
            "|levothyroxine |Drug     |\n",
            "|0.1 mg        |Strength |\n",
            "+--------------+---------+\n",
            "only showing top 15 rows\n",
            "\n"
          ]
        }
      ]
    },
    {
      "cell_type": "code",
      "source": [
        "visualiser = NerVisualizer()\n",
        "\n",
        "visualiser.display(result = result.collect()[0] ,label_col = 'ner_chunk', document_col = 'document')"
      ],
      "metadata": {
        "colab": {
          "base_uri": "https://localhost:8080/",
          "height": 369
        },
        "id": "7MVI62WOeWca",
        "outputId": "97f20c23-99dd-4005-e1d8-2abd0022a5e5"
      },
      "execution_count": null,
      "outputs": [
        {
          "output_type": "display_data",
          "data": {
            "text/plain": [
              "<IPython.core.display.HTML object>"
            ],
            "text/html": [
              "\n",
              "<style>\n",
              "    @import url('https://fonts.googleapis.com/css2?family=Montserrat:wght@300;400;500;600;700&display=swap');\n",
              "    @import url('https://fonts.googleapis.com/css2?family=Vistol Regular:wght@300;400;500;600;700&display=swap');\n",
              "    \n",
              "    .spark-nlp-display-scroll-entities {\n",
              "        border: 1px solid #E7EDF0;\n",
              "        border-radius: 3px;\n",
              "        text-align: justify;\n",
              "        \n",
              "    }\n",
              "    .spark-nlp-display-scroll-entities span {  \n",
              "        font-size: 14px;\n",
              "        line-height: 24px;\n",
              "        color: #536B76;\n",
              "        font-family: 'Montserrat', sans-serif !important;\n",
              "    }\n",
              "    \n",
              "    .spark-nlp-display-entity-wrapper{\n",
              "    \n",
              "        display: inline-grid;\n",
              "        text-align: center;\n",
              "        border-radius: 4px;\n",
              "        margin: 0 2px 5px 2px;\n",
              "        padding: 1px\n",
              "    }\n",
              "    .spark-nlp-display-entity-name{\n",
              "        font-size: 14px;\n",
              "        line-height: 24px;\n",
              "        font-family: 'Montserrat', sans-serif !important;\n",
              "        \n",
              "        background: #f1f2f3;\n",
              "        border-width: medium;\n",
              "        text-align: center;\n",
              "        \n",
              "        font-weight: 400;\n",
              "        \n",
              "        border-radius: 5px;\n",
              "        padding: 2px 5px;\n",
              "        display: block;\n",
              "        margin: 3px 2px;\n",
              "    \n",
              "    }\n",
              "    .spark-nlp-display-entity-type{\n",
              "        font-size: 14px;\n",
              "        line-height: 24px;\n",
              "        color: #ffffff;\n",
              "        font-family: 'Montserrat', sans-serif !important;\n",
              "        \n",
              "        text-transform: uppercase;\n",
              "        \n",
              "        font-weight: 500;\n",
              "\n",
              "        display: block;\n",
              "        padding: 3px 5px;\n",
              "    }\n",
              "    \n",
              "    .spark-nlp-display-entity-resolution{\n",
              "        font-size: 14px;\n",
              "        line-height: 24px;\n",
              "        color: #ffffff;\n",
              "        font-family: 'Vistol Regular', sans-serif !important;\n",
              "        \n",
              "        text-transform: uppercase;\n",
              "        \n",
              "        font-weight: 500;\n",
              "\n",
              "        display: block;\n",
              "        padding: 3px 5px;\n",
              "    }\n",
              "    \n",
              "    .spark-nlp-display-others{\n",
              "        font-size: 14px;\n",
              "        line-height: 24px;\n",
              "        font-family: 'Montserrat', sans-serif !important;\n",
              "        \n",
              "        font-weight: 400;\n",
              "    }\n",
              "\n",
              "</style>\n",
              " <span class=\"spark-nlp-display-others\" style=\"background-color: white\">The patient is a 30-year-old female with a long history of diabetes, type 2; coronary artery disease; chronic renal insufficiency; peripheral vascular disease, also secondary to diabetes; who was originally admitted to an outside hospital for what appeared to be acute paraplegia, lower extremities. She did receive a course of </span><span class=\"spark-nlp-display-entity-wrapper\" style=\"background-color: #8B668B\"><span class=\"spark-nlp-display-entity-name\">Bactrim </span><span class=\"spark-nlp-display-entity-type\">Drug</span></span><span class=\"spark-nlp-display-others\" style=\"background-color: white\"> </span><span class=\"spark-nlp-display-entity-wrapper\" style=\"background-color: #18C383\"><span class=\"spark-nlp-display-entity-name\">for 14 days </span><span class=\"spark-nlp-display-entity-type\">Duration</span></span><span class=\"spark-nlp-display-others\" style=\"background-color: white\"> for UTI. Evidently, at some point in time, the patient was noted to develop a pressure-type wound on the sole of her left foot and left great toe. She was also noted to have a large sacral wound; this is in a similar location with previous laminectomy, and this continues to receive daily care. The patient was transferred secondary to inability to participate in full physical and occupational therapy and continue medical management of her diabetes, the sacral decubitus, left foot pressure wound, and associated complications of diabetes. She is given </span><span class=\"spark-nlp-display-entity-wrapper\" style=\"background-color: #8B668B\"><span class=\"spark-nlp-display-entity-name\">Fragmin </span><span class=\"spark-nlp-display-entity-type\">Drug</span></span><span class=\"spark-nlp-display-others\" style=\"background-color: white\"> </span><span class=\"spark-nlp-display-entity-wrapper\" style=\"background-color: #616734\"><span class=\"spark-nlp-display-entity-name\">5000 units </span><span class=\"spark-nlp-display-entity-type\">Strength</span></span><span class=\"spark-nlp-display-others\" style=\"background-color: white\"> </span><span class=\"spark-nlp-display-entity-wrapper\" style=\"background-color: #96564C\"><span class=\"spark-nlp-display-entity-name\">subcutaneously </span><span class=\"spark-nlp-display-entity-type\">Route</span></span><span class=\"spark-nlp-display-others\" style=\"background-color: white\"> </span><span class=\"spark-nlp-display-entity-wrapper\" style=\"background-color: #643FB8\"><span class=\"spark-nlp-display-entity-name\">daily </span><span class=\"spark-nlp-display-entity-type\">Frequency</span></span><span class=\"spark-nlp-display-others\" style=\"background-color: white\">, </span><span class=\"spark-nlp-display-entity-wrapper\" style=\"background-color: #8B668B\"><span class=\"spark-nlp-display-entity-name\">OxyContin </span><span class=\"spark-nlp-display-entity-type\">Drug</span></span><span class=\"spark-nlp-display-others\" style=\"background-color: white\"> </span><span class=\"spark-nlp-display-entity-wrapper\" style=\"background-color: #616734\"><span class=\"spark-nlp-display-entity-name\">30 mg </span><span class=\"spark-nlp-display-entity-type\">Strength</span></span><span class=\"spark-nlp-display-others\" style=\"background-color: white\"> </span><span class=\"spark-nlp-display-entity-wrapper\" style=\"background-color: #96564C\"><span class=\"spark-nlp-display-entity-name\">p.o </span><span class=\"spark-nlp-display-entity-type\">Route</span></span><span class=\"spark-nlp-display-others\" style=\"background-color: white\">. </span><span class=\"spark-nlp-display-entity-wrapper\" style=\"background-color: #643FB8\"><span class=\"spark-nlp-display-entity-name\">q.12 h </span><span class=\"spark-nlp-display-entity-type\">Frequency</span></span><span class=\"spark-nlp-display-others\" style=\"background-color: white\">., </span><span class=\"spark-nlp-display-entity-wrapper\" style=\"background-color: #8B668B\"><span class=\"spark-nlp-display-entity-name\">folic acid </span><span class=\"spark-nlp-display-entity-type\">Drug</span></span><span class=\"spark-nlp-display-others\" style=\"background-color: white\"> </span><span class=\"spark-nlp-display-entity-wrapper\" style=\"background-color: #616734\"><span class=\"spark-nlp-display-entity-name\">1 mg </span><span class=\"spark-nlp-display-entity-type\">Strength</span></span><span class=\"spark-nlp-display-others\" style=\"background-color: white\"> </span><span class=\"spark-nlp-display-entity-wrapper\" style=\"background-color: #643FB8\"><span class=\"spark-nlp-display-entity-name\">daily </span><span class=\"spark-nlp-display-entity-type\">Frequency</span></span><span class=\"spark-nlp-display-others\" style=\"background-color: white\">, </span><span class=\"spark-nlp-display-entity-wrapper\" style=\"background-color: #8B668B\"><span class=\"spark-nlp-display-entity-name\">levothyroxine </span><span class=\"spark-nlp-display-entity-type\">Drug</span></span><span class=\"spark-nlp-display-others\" style=\"background-color: white\"> </span><span class=\"spark-nlp-display-entity-wrapper\" style=\"background-color: #616734\"><span class=\"spark-nlp-display-entity-name\">0.1 mg </span><span class=\"spark-nlp-display-entity-type\">Strength</span></span><span class=\"spark-nlp-display-others\" style=\"background-color: white\"> </span><span class=\"spark-nlp-display-entity-wrapper\" style=\"background-color: #96564C\"><span class=\"spark-nlp-display-entity-name\">p.o </span><span class=\"spark-nlp-display-entity-type\">Route</span></span><span class=\"spark-nlp-display-others\" style=\"background-color: white\">. , </span><span class=\"spark-nlp-display-entity-wrapper\" style=\"background-color: #8B668B\"><span class=\"spark-nlp-display-entity-name\">Prevacid </span><span class=\"spark-nlp-display-entity-type\">Drug</span></span><span class=\"spark-nlp-display-others\" style=\"background-color: white\"> </span><span class=\"spark-nlp-display-entity-wrapper\" style=\"background-color: #616734\"><span class=\"spark-nlp-display-entity-name\">30 mg </span><span class=\"spark-nlp-display-entity-type\">Strength</span></span><span class=\"spark-nlp-display-others\" style=\"background-color: white\"> </span><span class=\"spark-nlp-display-entity-wrapper\" style=\"background-color: #643FB8\"><span class=\"spark-nlp-display-entity-name\">daily </span><span class=\"spark-nlp-display-entity-type\">Frequency</span></span><span class=\"spark-nlp-display-others\" style=\"background-color: white\">, </span><span class=\"spark-nlp-display-entity-wrapper\" style=\"background-color: #8B668B\"><span class=\"spark-nlp-display-entity-name\">Avandia </span><span class=\"spark-nlp-display-entity-type\">Drug</span></span><span class=\"spark-nlp-display-others\" style=\"background-color: white\"> </span><span class=\"spark-nlp-display-entity-wrapper\" style=\"background-color: #616734\"><span class=\"spark-nlp-display-entity-name\">4 mg </span><span class=\"spark-nlp-display-entity-type\">Strength</span></span><span class=\"spark-nlp-display-others\" style=\"background-color: white\"> </span><span class=\"spark-nlp-display-entity-wrapper\" style=\"background-color: #643FB8\"><span class=\"spark-nlp-display-entity-name\">daily </span><span class=\"spark-nlp-display-entity-type\">Frequency</span></span><span class=\"spark-nlp-display-others\" style=\"background-color: white\">, </span><span class=\"spark-nlp-display-entity-wrapper\" style=\"background-color: #8B668B\"><span class=\"spark-nlp-display-entity-name\">Norvasc </span><span class=\"spark-nlp-display-entity-type\">Drug</span></span><span class=\"spark-nlp-display-others\" style=\"background-color: white\"> </span><span class=\"spark-nlp-display-entity-wrapper\" style=\"background-color: #616734\"><span class=\"spark-nlp-display-entity-name\">10 mg </span><span class=\"spark-nlp-display-entity-type\">Strength</span></span><span class=\"spark-nlp-display-others\" style=\"background-color: white\"> </span><span class=\"spark-nlp-display-entity-wrapper\" style=\"background-color: #643FB8\"><span class=\"spark-nlp-display-entity-name\">daily </span><span class=\"spark-nlp-display-entity-type\">Frequency</span></span><span class=\"spark-nlp-display-others\" style=\"background-color: white\">, </span><span class=\"spark-nlp-display-entity-wrapper\" style=\"background-color: #8B668B\"><span class=\"spark-nlp-display-entity-name\">Lexapro </span><span class=\"spark-nlp-display-entity-type\">Drug</span></span><span class=\"spark-nlp-display-others\" style=\"background-color: white\"> </span><span class=\"spark-nlp-display-entity-wrapper\" style=\"background-color: #616734\"><span class=\"spark-nlp-display-entity-name\">20 mg </span><span class=\"spark-nlp-display-entity-type\">Strength</span></span><span class=\"spark-nlp-display-others\" style=\"background-color: white\"> </span><span class=\"spark-nlp-display-entity-wrapper\" style=\"background-color: #643FB8\"><span class=\"spark-nlp-display-entity-name\">daily </span><span class=\"spark-nlp-display-entity-type\">Frequency</span></span><span class=\"spark-nlp-display-others\" style=\"background-color: white\">, </span><span class=\"spark-nlp-display-entity-wrapper\" style=\"background-color: #8B668B\"><span class=\"spark-nlp-display-entity-name\">aspirin </span><span class=\"spark-nlp-display-entity-type\">Drug</span></span><span class=\"spark-nlp-display-others\" style=\"background-color: white\"> </span><span class=\"spark-nlp-display-entity-wrapper\" style=\"background-color: #616734\"><span class=\"spark-nlp-display-entity-name\">81 mg </span><span class=\"spark-nlp-display-entity-type\">Strength</span></span><span class=\"spark-nlp-display-others\" style=\"background-color: white\"> </span><span class=\"spark-nlp-display-entity-wrapper\" style=\"background-color: #643FB8\"><span class=\"spark-nlp-display-entity-name\">daily </span><span class=\"spark-nlp-display-entity-type\">Frequency</span></span><span class=\"spark-nlp-display-others\" style=\"background-color: white\">, </span><span class=\"spark-nlp-display-entity-wrapper\" style=\"background-color: #8B668B\"><span class=\"spark-nlp-display-entity-name\">Senna </span><span class=\"spark-nlp-display-entity-type\">Drug</span></span><span class=\"spark-nlp-display-others\" style=\"background-color: white\"> </span><span class=\"spark-nlp-display-entity-wrapper\" style=\"background-color: #1D7BBE\"><span class=\"spark-nlp-display-entity-name\">2 </span><span class=\"spark-nlp-display-entity-type\">Dosage</span></span><span class=\"spark-nlp-display-others\" style=\"background-color: white\"> </span><span class=\"spark-nlp-display-entity-wrapper\" style=\"background-color: #9D7049\"><span class=\"spark-nlp-display-entity-name\">tablets </span><span class=\"spark-nlp-display-entity-type\">Form</span></span><span class=\"spark-nlp-display-others\" style=\"background-color: white\"> </span><span class=\"spark-nlp-display-entity-wrapper\" style=\"background-color: #96564C\"><span class=\"spark-nlp-display-entity-name\">p.o </span><span class=\"spark-nlp-display-entity-type\">Route</span></span><span class=\"spark-nlp-display-others\" style=\"background-color: white\">. </span><span class=\"spark-nlp-display-entity-wrapper\" style=\"background-color: #643FB8\"><span class=\"spark-nlp-display-entity-name\">q.a.m </span><span class=\"spark-nlp-display-entity-type\">Frequency</span></span><span class=\"spark-nlp-display-others\" style=\"background-color: white\">., </span><span class=\"spark-nlp-display-entity-wrapper\" style=\"background-color: #8B668B\"><span class=\"spark-nlp-display-entity-name\">Neurontin </span><span class=\"spark-nlp-display-entity-type\">Drug</span></span><span class=\"spark-nlp-display-others\" style=\"background-color: white\"> </span><span class=\"spark-nlp-display-entity-wrapper\" style=\"background-color: #616734\"><span class=\"spark-nlp-display-entity-name\">400 mg </span><span class=\"spark-nlp-display-entity-type\">Strength</span></span><span class=\"spark-nlp-display-others\" style=\"background-color: white\"> </span><span class=\"spark-nlp-display-entity-wrapper\" style=\"background-color: #96564C\"><span class=\"spark-nlp-display-entity-name\">p.o </span><span class=\"spark-nlp-display-entity-type\">Route</span></span><span class=\"spark-nlp-display-others\" style=\"background-color: white\">. </span><span class=\"spark-nlp-display-entity-wrapper\" style=\"background-color: #643FB8\"><span class=\"spark-nlp-display-entity-name\">t.i.d </span><span class=\"spark-nlp-display-entity-type\">Frequency</span></span><span class=\"spark-nlp-display-others\" style=\"background-color: white\">., </span><span class=\"spark-nlp-display-entity-wrapper\" style=\"background-color: #8B668B\"><span class=\"spark-nlp-display-entity-name\">magnesium citrate </span><span class=\"spark-nlp-display-entity-type\">Drug</span></span><span class=\"spark-nlp-display-others\" style=\"background-color: white\"> </span><span class=\"spark-nlp-display-entity-wrapper\" style=\"background-color: #1D7BBE\"><span class=\"spark-nlp-display-entity-name\">1 </span><span class=\"spark-nlp-display-entity-type\">Dosage</span></span><span class=\"spark-nlp-display-others\" style=\"background-color: white\"> </span><span class=\"spark-nlp-display-entity-wrapper\" style=\"background-color: #9D7049\"><span class=\"spark-nlp-display-entity-name\">bottle </span><span class=\"spark-nlp-display-entity-type\">Form</span></span><span class=\"spark-nlp-display-others\" style=\"background-color: white\"> </span><span class=\"spark-nlp-display-entity-wrapper\" style=\"background-color: #96564C\"><span class=\"spark-nlp-display-entity-name\">p.o </span><span class=\"spark-nlp-display-entity-type\">Route</span></span><span class=\"spark-nlp-display-others\" style=\"background-color: white\"> , </span><span class=\"spark-nlp-display-entity-wrapper\" style=\"background-color: #8B668B\"><span class=\"spark-nlp-display-entity-name\">Wellbutrin </span><span class=\"spark-nlp-display-entity-type\">Drug</span></span><span class=\"spark-nlp-display-others\" style=\"background-color: white\"> </span><span class=\"spark-nlp-display-entity-wrapper\" style=\"background-color: #616734\"><span class=\"spark-nlp-display-entity-name\">100 mg </span><span class=\"spark-nlp-display-entity-type\">Strength</span></span><span class=\"spark-nlp-display-others\" style=\"background-color: white\"> </span><span class=\"spark-nlp-display-entity-wrapper\" style=\"background-color: #96564C\"><span class=\"spark-nlp-display-entity-name\">p.o </span><span class=\"spark-nlp-display-entity-type\">Route</span></span><span class=\"spark-nlp-display-others\" style=\"background-color: white\">. </span><span class=\"spark-nlp-display-entity-wrapper\" style=\"background-color: #643FB8\"><span class=\"spark-nlp-display-entity-name\">daily </span><span class=\"spark-nlp-display-entity-type\">Frequency</span></span><span class=\"spark-nlp-display-others\" style=\"background-color: white\">, and </span><span class=\"spark-nlp-display-entity-wrapper\" style=\"background-color: #8B668B\"><span class=\"spark-nlp-display-entity-name\">Bactrim DS </span><span class=\"spark-nlp-display-entity-type\">Drug</span></span><span class=\"spark-nlp-display-others\" style=\"background-color: white\"> </span><span class=\"spark-nlp-display-entity-wrapper\" style=\"background-color: #643FB8\"><span class=\"spark-nlp-display-entity-name\">b.i.d </span><span class=\"spark-nlp-display-entity-type\">Frequency</span></span><span class=\"spark-nlp-display-others\" style=\"background-color: white\">.</span></div>"
            ]
          },
          "metadata": {}
        }
      ]
    },
    {
      "cell_type": "markdown",
      "source": [
        "## 🔎`ner_drugs_large`"
      ],
      "metadata": {
        "id": "_znIXfnrb7M7"
      }
    },
    {
      "cell_type": "code",
      "source": [
        "result = pipeline(\"ner_drugs_large\").transform(df)"
      ],
      "metadata": {
        "colab": {
          "base_uri": "https://localhost:8080/"
        },
        "id": "3_4FPJAyeeex",
        "outputId": "7d45c8d9-bd37-4349-c780-3389209c7830"
      },
      "execution_count": null,
      "outputs": [
        {
          "output_type": "stream",
          "name": "stdout",
          "text": [
            "ner_drugs_large download started this may take some time.\n",
            "[OK!]\n"
          ]
        }
      ]
    },
    {
      "cell_type": "code",
      "source": [
        "result.select(F.explode(F.arrays_zip('ner_chunk.result', 'ner_chunk.metadata')).alias(\"cols\"))\\\n",
        "      .select(F.expr(\"cols['0']\").alias(\"chunk\"),\n",
        "              F.expr(\"cols['1']['entity']\").alias(\"ner_label\")).show(15,truncate=False)\n",
        "  "
      ],
      "metadata": {
        "colab": {
          "base_uri": "https://localhost:8080/"
        },
        "id": "bnpJUE90egbB",
        "outputId": "942ffd94-7170-4f84-da38-fc77bfe4f311"
      },
      "execution_count": null,
      "outputs": [
        {
          "output_type": "stream",
          "name": "stdout",
          "text": [
            "+---------------------------------+---------+\n",
            "|chunk                            |ner_label|\n",
            "+---------------------------------+---------+\n",
            "|Bactrim                          |DRUG     |\n",
            "|Fragmin 5000 units subcutaneously|DRUG     |\n",
            "|OxyContin 30 mg p.o              |DRUG     |\n",
            "|folic acid 1 mg                  |DRUG     |\n",
            "|levothyroxine 0.1 mg p.o         |DRUG     |\n",
            "|Prevacid 30 mg                   |DRUG     |\n",
            "|Avandia 4 mg                     |DRUG     |\n",
            "|Norvasc 10 mg                    |DRUG     |\n",
            "|Lexapro 20 mg                    |DRUG     |\n",
            "|aspirin 81 mg                    |DRUG     |\n",
            "|Senna 2 tablets p.o              |DRUG     |\n",
            "|Neurontin 400 mg p.o             |DRUG     |\n",
            "|magnesium citrate 1 bottle p.o   |DRUG     |\n",
            "|Wellbutrin 100 mg p.o            |DRUG     |\n",
            "|Bactrim DS                       |DRUG     |\n",
            "+---------------------------------+---------+\n",
            "\n"
          ]
        }
      ]
    },
    {
      "cell_type": "code",
      "source": [
        "visualiser = NerVisualizer()\n",
        "\n",
        "visualiser.display(result = result.collect()[0] ,label_col = 'ner_chunk', document_col = 'document')"
      ],
      "metadata": {
        "colab": {
          "base_uri": "https://localhost:8080/",
          "height": 298
        },
        "id": "UiI4JFTOehea",
        "outputId": "d5b32ac3-2adb-4185-bd1c-e875664ffaf8"
      },
      "execution_count": null,
      "outputs": [
        {
          "output_type": "display_data",
          "data": {
            "text/plain": [
              "<IPython.core.display.HTML object>"
            ],
            "text/html": [
              "\n",
              "<style>\n",
              "    @import url('https://fonts.googleapis.com/css2?family=Montserrat:wght@300;400;500;600;700&display=swap');\n",
              "    @import url('https://fonts.googleapis.com/css2?family=Vistol Regular:wght@300;400;500;600;700&display=swap');\n",
              "    \n",
              "    .spark-nlp-display-scroll-entities {\n",
              "        border: 1px solid #E7EDF0;\n",
              "        border-radius: 3px;\n",
              "        text-align: justify;\n",
              "        \n",
              "    }\n",
              "    .spark-nlp-display-scroll-entities span {  \n",
              "        font-size: 14px;\n",
              "        line-height: 24px;\n",
              "        color: #536B76;\n",
              "        font-family: 'Montserrat', sans-serif !important;\n",
              "    }\n",
              "    \n",
              "    .spark-nlp-display-entity-wrapper{\n",
              "    \n",
              "        display: inline-grid;\n",
              "        text-align: center;\n",
              "        border-radius: 4px;\n",
              "        margin: 0 2px 5px 2px;\n",
              "        padding: 1px\n",
              "    }\n",
              "    .spark-nlp-display-entity-name{\n",
              "        font-size: 14px;\n",
              "        line-height: 24px;\n",
              "        font-family: 'Montserrat', sans-serif !important;\n",
              "        \n",
              "        background: #f1f2f3;\n",
              "        border-width: medium;\n",
              "        text-align: center;\n",
              "        \n",
              "        font-weight: 400;\n",
              "        \n",
              "        border-radius: 5px;\n",
              "        padding: 2px 5px;\n",
              "        display: block;\n",
              "        margin: 3px 2px;\n",
              "    \n",
              "    }\n",
              "    .spark-nlp-display-entity-type{\n",
              "        font-size: 14px;\n",
              "        line-height: 24px;\n",
              "        color: #ffffff;\n",
              "        font-family: 'Montserrat', sans-serif !important;\n",
              "        \n",
              "        text-transform: uppercase;\n",
              "        \n",
              "        font-weight: 500;\n",
              "\n",
              "        display: block;\n",
              "        padding: 3px 5px;\n",
              "    }\n",
              "    \n",
              "    .spark-nlp-display-entity-resolution{\n",
              "        font-size: 14px;\n",
              "        line-height: 24px;\n",
              "        color: #ffffff;\n",
              "        font-family: 'Vistol Regular', sans-serif !important;\n",
              "        \n",
              "        text-transform: uppercase;\n",
              "        \n",
              "        font-weight: 500;\n",
              "\n",
              "        display: block;\n",
              "        padding: 3px 5px;\n",
              "    }\n",
              "    \n",
              "    .spark-nlp-display-others{\n",
              "        font-size: 14px;\n",
              "        line-height: 24px;\n",
              "        font-family: 'Montserrat', sans-serif !important;\n",
              "        \n",
              "        font-weight: 400;\n",
              "    }\n",
              "\n",
              "</style>\n",
              " <span class=\"spark-nlp-display-others\" style=\"background-color: white\">The patient is a 30-year-old female with a long history of diabetes, type 2; coronary artery disease; chronic renal insufficiency; peripheral vascular disease, also secondary to diabetes; who was originally admitted to an outside hospital for what appeared to be acute paraplegia, lower extremities. She did receive a course of </span><span class=\"spark-nlp-display-entity-wrapper\" style=\"background-color: #8B668B\"><span class=\"spark-nlp-display-entity-name\">Bactrim </span><span class=\"spark-nlp-display-entity-type\">DRUG</span></span><span class=\"spark-nlp-display-others\" style=\"background-color: white\"> for 14 days for UTI. Evidently, at some point in time, the patient was noted to develop a pressure-type wound on the sole of her left foot and left great toe. She was also noted to have a large sacral wound; this is in a similar location with previous laminectomy, and this continues to receive daily care. The patient was transferred secondary to inability to participate in full physical and occupational therapy and continue medical management of her diabetes, the sacral decubitus, left foot pressure wound, and associated complications of diabetes. She is given </span><span class=\"spark-nlp-display-entity-wrapper\" style=\"background-color: #8B668B\"><span class=\"spark-nlp-display-entity-name\">Fragmin 5000 units subcutaneously </span><span class=\"spark-nlp-display-entity-type\">DRUG</span></span><span class=\"spark-nlp-display-others\" style=\"background-color: white\"> daily, </span><span class=\"spark-nlp-display-entity-wrapper\" style=\"background-color: #8B668B\"><span class=\"spark-nlp-display-entity-name\">OxyContin 30 mg p.o </span><span class=\"spark-nlp-display-entity-type\">DRUG</span></span><span class=\"spark-nlp-display-others\" style=\"background-color: white\">. q.12 h., </span><span class=\"spark-nlp-display-entity-wrapper\" style=\"background-color: #8B668B\"><span class=\"spark-nlp-display-entity-name\">folic acid 1 mg </span><span class=\"spark-nlp-display-entity-type\">DRUG</span></span><span class=\"spark-nlp-display-others\" style=\"background-color: white\"> daily, </span><span class=\"spark-nlp-display-entity-wrapper\" style=\"background-color: #8B668B\"><span class=\"spark-nlp-display-entity-name\">levothyroxine 0.1 mg p.o </span><span class=\"spark-nlp-display-entity-type\">DRUG</span></span><span class=\"spark-nlp-display-others\" style=\"background-color: white\">. , </span><span class=\"spark-nlp-display-entity-wrapper\" style=\"background-color: #8B668B\"><span class=\"spark-nlp-display-entity-name\">Prevacid 30 mg </span><span class=\"spark-nlp-display-entity-type\">DRUG</span></span><span class=\"spark-nlp-display-others\" style=\"background-color: white\"> daily, </span><span class=\"spark-nlp-display-entity-wrapper\" style=\"background-color: #8B668B\"><span class=\"spark-nlp-display-entity-name\">Avandia 4 mg </span><span class=\"spark-nlp-display-entity-type\">DRUG</span></span><span class=\"spark-nlp-display-others\" style=\"background-color: white\"> daily, </span><span class=\"spark-nlp-display-entity-wrapper\" style=\"background-color: #8B668B\"><span class=\"spark-nlp-display-entity-name\">Norvasc 10 mg </span><span class=\"spark-nlp-display-entity-type\">DRUG</span></span><span class=\"spark-nlp-display-others\" style=\"background-color: white\"> daily, </span><span class=\"spark-nlp-display-entity-wrapper\" style=\"background-color: #8B668B\"><span class=\"spark-nlp-display-entity-name\">Lexapro 20 mg </span><span class=\"spark-nlp-display-entity-type\">DRUG</span></span><span class=\"spark-nlp-display-others\" style=\"background-color: white\"> daily, </span><span class=\"spark-nlp-display-entity-wrapper\" style=\"background-color: #8B668B\"><span class=\"spark-nlp-display-entity-name\">aspirin 81 mg </span><span class=\"spark-nlp-display-entity-type\">DRUG</span></span><span class=\"spark-nlp-display-others\" style=\"background-color: white\"> daily, </span><span class=\"spark-nlp-display-entity-wrapper\" style=\"background-color: #8B668B\"><span class=\"spark-nlp-display-entity-name\">Senna 2 tablets p.o </span><span class=\"spark-nlp-display-entity-type\">DRUG</span></span><span class=\"spark-nlp-display-others\" style=\"background-color: white\">. q.a.m., </span><span class=\"spark-nlp-display-entity-wrapper\" style=\"background-color: #8B668B\"><span class=\"spark-nlp-display-entity-name\">Neurontin 400 mg p.o </span><span class=\"spark-nlp-display-entity-type\">DRUG</span></span><span class=\"spark-nlp-display-others\" style=\"background-color: white\">. t.i.d., </span><span class=\"spark-nlp-display-entity-wrapper\" style=\"background-color: #8B668B\"><span class=\"spark-nlp-display-entity-name\">magnesium citrate 1 bottle p.o </span><span class=\"spark-nlp-display-entity-type\">DRUG</span></span><span class=\"spark-nlp-display-others\" style=\"background-color: white\"> , </span><span class=\"spark-nlp-display-entity-wrapper\" style=\"background-color: #8B668B\"><span class=\"spark-nlp-display-entity-name\">Wellbutrin 100 mg p.o </span><span class=\"spark-nlp-display-entity-type\">DRUG</span></span><span class=\"spark-nlp-display-others\" style=\"background-color: white\">. daily, and </span><span class=\"spark-nlp-display-entity-wrapper\" style=\"background-color: #8B668B\"><span class=\"spark-nlp-display-entity-name\">Bactrim DS </span><span class=\"spark-nlp-display-entity-type\">DRUG</span></span><span class=\"spark-nlp-display-others\" style=\"background-color: white\"> b.i.d.</span></div>"
            ]
          },
          "metadata": {}
        }
      ]
    },
    {
      "cell_type": "markdown",
      "source": [
        "## 🔎`ner_drugs_greedy`"
      ],
      "metadata": {
        "id": "vs89AQOZb7KF"
      }
    },
    {
      "cell_type": "code",
      "source": [
        "result = pipeline(\"ner_drugs_greedy\").transform(df)"
      ],
      "metadata": {
        "colab": {
          "base_uri": "https://localhost:8080/"
        },
        "id": "SmvoDRdjemAA",
        "outputId": "56256388-96bf-4d79-8a38-6a3201d0c2a4"
      },
      "execution_count": null,
      "outputs": [
        {
          "output_type": "stream",
          "name": "stdout",
          "text": [
            "ner_drugs_greedy download started this may take some time.\n",
            "[OK!]\n"
          ]
        }
      ]
    },
    {
      "cell_type": "code",
      "source": [
        "result.select(F.explode(F.arrays_zip('ner_chunk.result', 'ner_chunk.metadata')).alias(\"cols\"))\\\n",
        "      .select(F.expr(\"cols['0']\").alias(\"chunk\"),\n",
        "              F.expr(\"cols['1']['entity']\").alias(\"ner_label\")).show(15,truncate=False)\n",
        "  "
      ],
      "metadata": {
        "colab": {
          "base_uri": "https://localhost:8080/"
        },
        "id": "OP6VPJX0emn1",
        "outputId": "dcfa7e93-707e-4827-c3eb-09d283042e52"
      },
      "execution_count": null,
      "outputs": [
        {
          "output_type": "stream",
          "name": "stdout",
          "text": [
            "+---------------------------------+---------+\n",
            "|chunk                            |ner_label|\n",
            "+---------------------------------+---------+\n",
            "|Bactrim                          |DRUG     |\n",
            "|Fragmin 5000 units subcutaneously|DRUG     |\n",
            "|OxyContin 30 mg p.o              |DRUG     |\n",
            "|folic acid 1 mg                  |DRUG     |\n",
            "|levothyroxine 0.1 mg p.o         |DRUG     |\n",
            "|Prevacid 30 mg                   |DRUG     |\n",
            "|Avandia 4 mg                     |DRUG     |\n",
            "|Norvasc 10 mg                    |DRUG     |\n",
            "|Lexapro 20 mg                    |DRUG     |\n",
            "|aspirin 81 mg                    |DRUG     |\n",
            "|Senna 2 tablets p.o              |DRUG     |\n",
            "|Neurontin 400 mg p.o             |DRUG     |\n",
            "|magnesium citrate 1 bottle p.o   |DRUG     |\n",
            "|Wellbutrin 100 mg p.o            |DRUG     |\n",
            "|Bactrim DS                       |DRUG     |\n",
            "+---------------------------------+---------+\n",
            "\n"
          ]
        }
      ]
    },
    {
      "cell_type": "code",
      "source": [
        "visualiser = NerVisualizer()\n",
        "\n",
        "visualiser.display(result = result.collect()[0] ,label_col = 'ner_chunk', document_col = 'document')"
      ],
      "metadata": {
        "colab": {
          "base_uri": "https://localhost:8080/",
          "height": 298
        },
        "id": "7QEzYx0vemff",
        "outputId": "5e4a5117-f142-4c2f-99cc-f38797a1ea5d"
      },
      "execution_count": null,
      "outputs": [
        {
          "output_type": "display_data",
          "data": {
            "text/plain": [
              "<IPython.core.display.HTML object>"
            ],
            "text/html": [
              "\n",
              "<style>\n",
              "    @import url('https://fonts.googleapis.com/css2?family=Montserrat:wght@300;400;500;600;700&display=swap');\n",
              "    @import url('https://fonts.googleapis.com/css2?family=Vistol Regular:wght@300;400;500;600;700&display=swap');\n",
              "    \n",
              "    .spark-nlp-display-scroll-entities {\n",
              "        border: 1px solid #E7EDF0;\n",
              "        border-radius: 3px;\n",
              "        text-align: justify;\n",
              "        \n",
              "    }\n",
              "    .spark-nlp-display-scroll-entities span {  \n",
              "        font-size: 14px;\n",
              "        line-height: 24px;\n",
              "        color: #536B76;\n",
              "        font-family: 'Montserrat', sans-serif !important;\n",
              "    }\n",
              "    \n",
              "    .spark-nlp-display-entity-wrapper{\n",
              "    \n",
              "        display: inline-grid;\n",
              "        text-align: center;\n",
              "        border-radius: 4px;\n",
              "        margin: 0 2px 5px 2px;\n",
              "        padding: 1px\n",
              "    }\n",
              "    .spark-nlp-display-entity-name{\n",
              "        font-size: 14px;\n",
              "        line-height: 24px;\n",
              "        font-family: 'Montserrat', sans-serif !important;\n",
              "        \n",
              "        background: #f1f2f3;\n",
              "        border-width: medium;\n",
              "        text-align: center;\n",
              "        \n",
              "        font-weight: 400;\n",
              "        \n",
              "        border-radius: 5px;\n",
              "        padding: 2px 5px;\n",
              "        display: block;\n",
              "        margin: 3px 2px;\n",
              "    \n",
              "    }\n",
              "    .spark-nlp-display-entity-type{\n",
              "        font-size: 14px;\n",
              "        line-height: 24px;\n",
              "        color: #ffffff;\n",
              "        font-family: 'Montserrat', sans-serif !important;\n",
              "        \n",
              "        text-transform: uppercase;\n",
              "        \n",
              "        font-weight: 500;\n",
              "\n",
              "        display: block;\n",
              "        padding: 3px 5px;\n",
              "    }\n",
              "    \n",
              "    .spark-nlp-display-entity-resolution{\n",
              "        font-size: 14px;\n",
              "        line-height: 24px;\n",
              "        color: #ffffff;\n",
              "        font-family: 'Vistol Regular', sans-serif !important;\n",
              "        \n",
              "        text-transform: uppercase;\n",
              "        \n",
              "        font-weight: 500;\n",
              "\n",
              "        display: block;\n",
              "        padding: 3px 5px;\n",
              "    }\n",
              "    \n",
              "    .spark-nlp-display-others{\n",
              "        font-size: 14px;\n",
              "        line-height: 24px;\n",
              "        font-family: 'Montserrat', sans-serif !important;\n",
              "        \n",
              "        font-weight: 400;\n",
              "    }\n",
              "\n",
              "</style>\n",
              " <span class=\"spark-nlp-display-others\" style=\"background-color: white\">The patient is a 30-year-old female with a long history of diabetes, type 2; coronary artery disease; chronic renal insufficiency; peripheral vascular disease, also secondary to diabetes; who was originally admitted to an outside hospital for what appeared to be acute paraplegia, lower extremities. She did receive a course of </span><span class=\"spark-nlp-display-entity-wrapper\" style=\"background-color: #8B668B\"><span class=\"spark-nlp-display-entity-name\">Bactrim </span><span class=\"spark-nlp-display-entity-type\">DRUG</span></span><span class=\"spark-nlp-display-others\" style=\"background-color: white\"> for 14 days for UTI. Evidently, at some point in time, the patient was noted to develop a pressure-type wound on the sole of her left foot and left great toe. She was also noted to have a large sacral wound; this is in a similar location with previous laminectomy, and this continues to receive daily care. The patient was transferred secondary to inability to participate in full physical and occupational therapy and continue medical management of her diabetes, the sacral decubitus, left foot pressure wound, and associated complications of diabetes. She is given </span><span class=\"spark-nlp-display-entity-wrapper\" style=\"background-color: #8B668B\"><span class=\"spark-nlp-display-entity-name\">Fragmin 5000 units subcutaneously </span><span class=\"spark-nlp-display-entity-type\">DRUG</span></span><span class=\"spark-nlp-display-others\" style=\"background-color: white\"> daily, </span><span class=\"spark-nlp-display-entity-wrapper\" style=\"background-color: #8B668B\"><span class=\"spark-nlp-display-entity-name\">OxyContin 30 mg p.o </span><span class=\"spark-nlp-display-entity-type\">DRUG</span></span><span class=\"spark-nlp-display-others\" style=\"background-color: white\">. q.12 h., </span><span class=\"spark-nlp-display-entity-wrapper\" style=\"background-color: #8B668B\"><span class=\"spark-nlp-display-entity-name\">folic acid 1 mg </span><span class=\"spark-nlp-display-entity-type\">DRUG</span></span><span class=\"spark-nlp-display-others\" style=\"background-color: white\"> daily, </span><span class=\"spark-nlp-display-entity-wrapper\" style=\"background-color: #8B668B\"><span class=\"spark-nlp-display-entity-name\">levothyroxine 0.1 mg p.o </span><span class=\"spark-nlp-display-entity-type\">DRUG</span></span><span class=\"spark-nlp-display-others\" style=\"background-color: white\">. , </span><span class=\"spark-nlp-display-entity-wrapper\" style=\"background-color: #8B668B\"><span class=\"spark-nlp-display-entity-name\">Prevacid 30 mg </span><span class=\"spark-nlp-display-entity-type\">DRUG</span></span><span class=\"spark-nlp-display-others\" style=\"background-color: white\"> daily, </span><span class=\"spark-nlp-display-entity-wrapper\" style=\"background-color: #8B668B\"><span class=\"spark-nlp-display-entity-name\">Avandia 4 mg </span><span class=\"spark-nlp-display-entity-type\">DRUG</span></span><span class=\"spark-nlp-display-others\" style=\"background-color: white\"> daily, </span><span class=\"spark-nlp-display-entity-wrapper\" style=\"background-color: #8B668B\"><span class=\"spark-nlp-display-entity-name\">Norvasc 10 mg </span><span class=\"spark-nlp-display-entity-type\">DRUG</span></span><span class=\"spark-nlp-display-others\" style=\"background-color: white\"> daily, </span><span class=\"spark-nlp-display-entity-wrapper\" style=\"background-color: #8B668B\"><span class=\"spark-nlp-display-entity-name\">Lexapro 20 mg </span><span class=\"spark-nlp-display-entity-type\">DRUG</span></span><span class=\"spark-nlp-display-others\" style=\"background-color: white\"> daily, </span><span class=\"spark-nlp-display-entity-wrapper\" style=\"background-color: #8B668B\"><span class=\"spark-nlp-display-entity-name\">aspirin 81 mg </span><span class=\"spark-nlp-display-entity-type\">DRUG</span></span><span class=\"spark-nlp-display-others\" style=\"background-color: white\"> daily, </span><span class=\"spark-nlp-display-entity-wrapper\" style=\"background-color: #8B668B\"><span class=\"spark-nlp-display-entity-name\">Senna 2 tablets p.o </span><span class=\"spark-nlp-display-entity-type\">DRUG</span></span><span class=\"spark-nlp-display-others\" style=\"background-color: white\">. q.a.m., </span><span class=\"spark-nlp-display-entity-wrapper\" style=\"background-color: #8B668B\"><span class=\"spark-nlp-display-entity-name\">Neurontin 400 mg p.o </span><span class=\"spark-nlp-display-entity-type\">DRUG</span></span><span class=\"spark-nlp-display-others\" style=\"background-color: white\">. t.i.d., </span><span class=\"spark-nlp-display-entity-wrapper\" style=\"background-color: #8B668B\"><span class=\"spark-nlp-display-entity-name\">magnesium citrate 1 bottle p.o </span><span class=\"spark-nlp-display-entity-type\">DRUG</span></span><span class=\"spark-nlp-display-others\" style=\"background-color: white\"> , </span><span class=\"spark-nlp-display-entity-wrapper\" style=\"background-color: #8B668B\"><span class=\"spark-nlp-display-entity-name\">Wellbutrin 100 mg p.o </span><span class=\"spark-nlp-display-entity-type\">DRUG</span></span><span class=\"spark-nlp-display-others\" style=\"background-color: white\">. daily, and </span><span class=\"spark-nlp-display-entity-wrapper\" style=\"background-color: #8B668B\"><span class=\"spark-nlp-display-entity-name\">Bactrim DS </span><span class=\"spark-nlp-display-entity-type\">DRUG</span></span><span class=\"spark-nlp-display-others\" style=\"background-color: white\"> b.i.d.</span></div>"
            ]
          },
          "metadata": {}
        }
      ]
    },
    {
      "cell_type": "markdown",
      "source": [
        "## 🔎`ner_jsl`"
      ],
      "metadata": {
        "id": "FJqbHKMlb7Hm"
      }
    },
    {
      "cell_type": "code",
      "source": [
        "result = pipeline(\"ner_jsl\").transform(df)"
      ],
      "metadata": {
        "colab": {
          "base_uri": "https://localhost:8080/"
        },
        "id": "0E0L2BZHeuEG",
        "outputId": "3066b750-fbd0-4e0f-a6cc-b693167c9db4"
      },
      "execution_count": null,
      "outputs": [
        {
          "output_type": "stream",
          "name": "stdout",
          "text": [
            "ner_jsl download started this may take some time.\n",
            "[OK!]\n"
          ]
        }
      ]
    },
    {
      "cell_type": "code",
      "source": [
        "result.select(F.explode(F.arrays_zip('ner_chunk.result', 'ner_chunk.metadata')).alias(\"cols\"))\\\n",
        "      .select(F.expr(\"cols['0']\").alias(\"chunk\"),\n",
        "              F.expr(\"cols['1']['entity']\").alias(\"ner_label\")).show(15,truncate=False)\n",
        "  "
      ],
      "metadata": {
        "colab": {
          "base_uri": "https://localhost:8080/"
        },
        "id": "_mYTOqlkevdS",
        "outputId": "1a7c688e-fe7b-41fe-de8f-8e30093039bf"
      },
      "execution_count": null,
      "outputs": [
        {
          "output_type": "stream",
          "name": "stdout",
          "text": [
            "+--------------+---------------+\n",
            "|chunk         |ner_label      |\n",
            "+--------------+---------------+\n",
            "|Bactrim       |Drug_BrandName |\n",
            "|daily         |Frequency      |\n",
            "|Fragmin       |Drug_BrandName |\n",
            "|5000 units    |Dosage         |\n",
            "|subcutaneously|Route          |\n",
            "|daily         |Frequency      |\n",
            "|OxyContin     |Drug_BrandName |\n",
            "|30 mg         |Strength       |\n",
            "|p.o           |Route          |\n",
            "|q.12 h        |Frequency      |\n",
            "|folic acid    |Drug_Ingredient|\n",
            "|1 mg          |Strength       |\n",
            "|daily         |Frequency      |\n",
            "|levothyroxine |Drug_Ingredient|\n",
            "|0.1 mg        |Strength       |\n",
            "+--------------+---------------+\n",
            "only showing top 15 rows\n",
            "\n"
          ]
        }
      ]
    },
    {
      "cell_type": "code",
      "source": [
        "visualiser = NerVisualizer()\n",
        "\n",
        "visualiser.display(result = result.collect()[0] ,label_col = 'ner_chunk', document_col = 'document')"
      ],
      "metadata": {
        "colab": {
          "base_uri": "https://localhost:8080/",
          "height": 487
        },
        "id": "dLrpZum7evSj",
        "outputId": "8c815078-da80-44d6-814d-4d81d6caeec6"
      },
      "execution_count": null,
      "outputs": [
        {
          "output_type": "display_data",
          "data": {
            "text/plain": [
              "<IPython.core.display.HTML object>"
            ],
            "text/html": [
              "\n",
              "<style>\n",
              "    @import url('https://fonts.googleapis.com/css2?family=Montserrat:wght@300;400;500;600;700&display=swap');\n",
              "    @import url('https://fonts.googleapis.com/css2?family=Vistol Regular:wght@300;400;500;600;700&display=swap');\n",
              "    \n",
              "    .spark-nlp-display-scroll-entities {\n",
              "        border: 1px solid #E7EDF0;\n",
              "        border-radius: 3px;\n",
              "        text-align: justify;\n",
              "        \n",
              "    }\n",
              "    .spark-nlp-display-scroll-entities span {  \n",
              "        font-size: 14px;\n",
              "        line-height: 24px;\n",
              "        color: #536B76;\n",
              "        font-family: 'Montserrat', sans-serif !important;\n",
              "    }\n",
              "    \n",
              "    .spark-nlp-display-entity-wrapper{\n",
              "    \n",
              "        display: inline-grid;\n",
              "        text-align: center;\n",
              "        border-radius: 4px;\n",
              "        margin: 0 2px 5px 2px;\n",
              "        padding: 1px\n",
              "    }\n",
              "    .spark-nlp-display-entity-name{\n",
              "        font-size: 14px;\n",
              "        line-height: 24px;\n",
              "        font-family: 'Montserrat', sans-serif !important;\n",
              "        \n",
              "        background: #f1f2f3;\n",
              "        border-width: medium;\n",
              "        text-align: center;\n",
              "        \n",
              "        font-weight: 400;\n",
              "        \n",
              "        border-radius: 5px;\n",
              "        padding: 2px 5px;\n",
              "        display: block;\n",
              "        margin: 3px 2px;\n",
              "    \n",
              "    }\n",
              "    .spark-nlp-display-entity-type{\n",
              "        font-size: 14px;\n",
              "        line-height: 24px;\n",
              "        color: #ffffff;\n",
              "        font-family: 'Montserrat', sans-serif !important;\n",
              "        \n",
              "        text-transform: uppercase;\n",
              "        \n",
              "        font-weight: 500;\n",
              "\n",
              "        display: block;\n",
              "        padding: 3px 5px;\n",
              "    }\n",
              "    \n",
              "    .spark-nlp-display-entity-resolution{\n",
              "        font-size: 14px;\n",
              "        line-height: 24px;\n",
              "        color: #ffffff;\n",
              "        font-family: 'Vistol Regular', sans-serif !important;\n",
              "        \n",
              "        text-transform: uppercase;\n",
              "        \n",
              "        font-weight: 500;\n",
              "\n",
              "        display: block;\n",
              "        padding: 3px 5px;\n",
              "    }\n",
              "    \n",
              "    .spark-nlp-display-others{\n",
              "        font-size: 14px;\n",
              "        line-height: 24px;\n",
              "        font-family: 'Montserrat', sans-serif !important;\n",
              "        \n",
              "        font-weight: 400;\n",
              "    }\n",
              "\n",
              "</style>\n",
              " <span class=\"spark-nlp-display-others\" style=\"background-color: white\">The patient is a 30-year-old female with a long history of diabetes, type 2; coronary artery disease; chronic renal insufficiency; peripheral vascular disease, also secondary to diabetes; who was originally admitted to an outside hospital for what appeared to be acute paraplegia, lower extremities. She did receive a course of </span><span class=\"spark-nlp-display-entity-wrapper\" style=\"background-color: #36C67B\"><span class=\"spark-nlp-display-entity-name\">Bactrim </span><span class=\"spark-nlp-display-entity-type\">Drug_BrandName</span></span><span class=\"spark-nlp-display-others\" style=\"background-color: white\"> for 14 days for UTI. Evidently, at some point in time, the patient was noted to develop a pressure-type wound on the sole of her left foot and left great toe. She was also noted to have a large sacral wound; this is in a similar location with previous laminectomy, and this continues to receive </span><span class=\"spark-nlp-display-entity-wrapper\" style=\"background-color: #BC1DC2\"><span class=\"spark-nlp-display-entity-name\">daily </span><span class=\"spark-nlp-display-entity-type\">Frequency</span></span><span class=\"spark-nlp-display-others\" style=\"background-color: white\"> care. The patient was transferred secondary to inability to participate in full physical and occupational therapy and continue medical management of her diabetes, the sacral decubitus, left foot pressure wound, and associated complications of diabetes. She is given </span><span class=\"spark-nlp-display-entity-wrapper\" style=\"background-color: #36C67B\"><span class=\"spark-nlp-display-entity-name\">Fragmin </span><span class=\"spark-nlp-display-entity-type\">Drug_BrandName</span></span><span class=\"spark-nlp-display-others\" style=\"background-color: white\"> </span><span class=\"spark-nlp-display-entity-wrapper\" style=\"background-color: #4DB09A\"><span class=\"spark-nlp-display-entity-name\">5000 units </span><span class=\"spark-nlp-display-entity-type\">Dosage</span></span><span class=\"spark-nlp-display-others\" style=\"background-color: white\"> </span><span class=\"spark-nlp-display-entity-wrapper\" style=\"background-color: #7A03C4\"><span class=\"spark-nlp-display-entity-name\">subcutaneously </span><span class=\"spark-nlp-display-entity-type\">Route</span></span><span class=\"spark-nlp-display-others\" style=\"background-color: white\"> </span><span class=\"spark-nlp-display-entity-wrapper\" style=\"background-color: #BC1DC2\"><span class=\"spark-nlp-display-entity-name\">daily </span><span class=\"spark-nlp-display-entity-type\">Frequency</span></span><span class=\"spark-nlp-display-others\" style=\"background-color: white\">, </span><span class=\"spark-nlp-display-entity-wrapper\" style=\"background-color: #36C67B\"><span class=\"spark-nlp-display-entity-name\">OxyContin </span><span class=\"spark-nlp-display-entity-type\">Drug_BrandName</span></span><span class=\"spark-nlp-display-others\" style=\"background-color: white\"> </span><span class=\"spark-nlp-display-entity-wrapper\" style=\"background-color: #4E2E32\"><span class=\"spark-nlp-display-entity-name\">30 mg </span><span class=\"spark-nlp-display-entity-type\">Strength</span></span><span class=\"spark-nlp-display-others\" style=\"background-color: white\"> </span><span class=\"spark-nlp-display-entity-wrapper\" style=\"background-color: #7A03C4\"><span class=\"spark-nlp-display-entity-name\">p.o </span><span class=\"spark-nlp-display-entity-type\">Route</span></span><span class=\"spark-nlp-display-others\" style=\"background-color: white\">. </span><span class=\"spark-nlp-display-entity-wrapper\" style=\"background-color: #BC1DC2\"><span class=\"spark-nlp-display-entity-name\">q.12 h </span><span class=\"spark-nlp-display-entity-type\">Frequency</span></span><span class=\"spark-nlp-display-others\" style=\"background-color: white\">., </span><span class=\"spark-nlp-display-entity-wrapper\" style=\"background-color: #4621B2\"><span class=\"spark-nlp-display-entity-name\">folic acid </span><span class=\"spark-nlp-display-entity-type\">Drug_Ingredient</span></span><span class=\"spark-nlp-display-others\" style=\"background-color: white\"> </span><span class=\"spark-nlp-display-entity-wrapper\" style=\"background-color: #4E2E32\"><span class=\"spark-nlp-display-entity-name\">1 mg </span><span class=\"spark-nlp-display-entity-type\">Strength</span></span><span class=\"spark-nlp-display-others\" style=\"background-color: white\"> </span><span class=\"spark-nlp-display-entity-wrapper\" style=\"background-color: #BC1DC2\"><span class=\"spark-nlp-display-entity-name\">daily </span><span class=\"spark-nlp-display-entity-type\">Frequency</span></span><span class=\"spark-nlp-display-others\" style=\"background-color: white\">, </span><span class=\"spark-nlp-display-entity-wrapper\" style=\"background-color: #4621B2\"><span class=\"spark-nlp-display-entity-name\">levothyroxine </span><span class=\"spark-nlp-display-entity-type\">Drug_Ingredient</span></span><span class=\"spark-nlp-display-others\" style=\"background-color: white\"> </span><span class=\"spark-nlp-display-entity-wrapper\" style=\"background-color: #4E2E32\"><span class=\"spark-nlp-display-entity-name\">0.1 mg </span><span class=\"spark-nlp-display-entity-type\">Strength</span></span><span class=\"spark-nlp-display-others\" style=\"background-color: white\"> </span><span class=\"spark-nlp-display-entity-wrapper\" style=\"background-color: #7A03C4\"><span class=\"spark-nlp-display-entity-name\">p.o </span><span class=\"spark-nlp-display-entity-type\">Route</span></span><span class=\"spark-nlp-display-others\" style=\"background-color: white\">. , </span><span class=\"spark-nlp-display-entity-wrapper\" style=\"background-color: #36C67B\"><span class=\"spark-nlp-display-entity-name\">Prevacid </span><span class=\"spark-nlp-display-entity-type\">Drug_BrandName</span></span><span class=\"spark-nlp-display-others\" style=\"background-color: white\"> </span><span class=\"spark-nlp-display-entity-wrapper\" style=\"background-color: #4E2E32\"><span class=\"spark-nlp-display-entity-name\">30 mg </span><span class=\"spark-nlp-display-entity-type\">Strength</span></span><span class=\"spark-nlp-display-others\" style=\"background-color: white\"> </span><span class=\"spark-nlp-display-entity-wrapper\" style=\"background-color: #BC1DC2\"><span class=\"spark-nlp-display-entity-name\">daily </span><span class=\"spark-nlp-display-entity-type\">Frequency</span></span><span class=\"spark-nlp-display-others\" style=\"background-color: white\">, </span><span class=\"spark-nlp-display-entity-wrapper\" style=\"background-color: #36C67B\"><span class=\"spark-nlp-display-entity-name\">Avandia </span><span class=\"spark-nlp-display-entity-type\">Drug_BrandName</span></span><span class=\"spark-nlp-display-others\" style=\"background-color: white\"> </span><span class=\"spark-nlp-display-entity-wrapper\" style=\"background-color: #4E2E32\"><span class=\"spark-nlp-display-entity-name\">4 mg </span><span class=\"spark-nlp-display-entity-type\">Strength</span></span><span class=\"spark-nlp-display-others\" style=\"background-color: white\"> </span><span class=\"spark-nlp-display-entity-wrapper\" style=\"background-color: #BC1DC2\"><span class=\"spark-nlp-display-entity-name\">daily </span><span class=\"spark-nlp-display-entity-type\">Frequency</span></span><span class=\"spark-nlp-display-others\" style=\"background-color: white\">, </span><span class=\"spark-nlp-display-entity-wrapper\" style=\"background-color: #36C67B\"><span class=\"spark-nlp-display-entity-name\">Norvasc </span><span class=\"spark-nlp-display-entity-type\">Drug_BrandName</span></span><span class=\"spark-nlp-display-others\" style=\"background-color: white\"> </span><span class=\"spark-nlp-display-entity-wrapper\" style=\"background-color: #4E2E32\"><span class=\"spark-nlp-display-entity-name\">10 mg </span><span class=\"spark-nlp-display-entity-type\">Strength</span></span><span class=\"spark-nlp-display-others\" style=\"background-color: white\"> </span><span class=\"spark-nlp-display-entity-wrapper\" style=\"background-color: #BC1DC2\"><span class=\"spark-nlp-display-entity-name\">daily </span><span class=\"spark-nlp-display-entity-type\">Frequency</span></span><span class=\"spark-nlp-display-others\" style=\"background-color: white\">, </span><span class=\"spark-nlp-display-entity-wrapper\" style=\"background-color: #36C67B\"><span class=\"spark-nlp-display-entity-name\">Lexapro </span><span class=\"spark-nlp-display-entity-type\">Drug_BrandName</span></span><span class=\"spark-nlp-display-others\" style=\"background-color: white\"> </span><span class=\"spark-nlp-display-entity-wrapper\" style=\"background-color: #4E2E32\"><span class=\"spark-nlp-display-entity-name\">20 mg </span><span class=\"spark-nlp-display-entity-type\">Strength</span></span><span class=\"spark-nlp-display-others\" style=\"background-color: white\"> </span><span class=\"spark-nlp-display-entity-wrapper\" style=\"background-color: #BC1DC2\"><span class=\"spark-nlp-display-entity-name\">daily </span><span class=\"spark-nlp-display-entity-type\">Frequency</span></span><span class=\"spark-nlp-display-others\" style=\"background-color: white\">, </span><span class=\"spark-nlp-display-entity-wrapper\" style=\"background-color: #4621B2\"><span class=\"spark-nlp-display-entity-name\">aspirin </span><span class=\"spark-nlp-display-entity-type\">Drug_Ingredient</span></span><span class=\"spark-nlp-display-others\" style=\"background-color: white\"> </span><span class=\"spark-nlp-display-entity-wrapper\" style=\"background-color: #4E2E32\"><span class=\"spark-nlp-display-entity-name\">81 mg </span><span class=\"spark-nlp-display-entity-type\">Strength</span></span><span class=\"spark-nlp-display-others\" style=\"background-color: white\"> </span><span class=\"spark-nlp-display-entity-wrapper\" style=\"background-color: #BC1DC2\"><span class=\"spark-nlp-display-entity-name\">daily </span><span class=\"spark-nlp-display-entity-type\">Frequency</span></span><span class=\"spark-nlp-display-others\" style=\"background-color: white\">, </span><span class=\"spark-nlp-display-entity-wrapper\" style=\"background-color: #4621B2\"><span class=\"spark-nlp-display-entity-name\">Senna </span><span class=\"spark-nlp-display-entity-type\">Drug_Ingredient</span></span><span class=\"spark-nlp-display-others\" style=\"background-color: white\"> </span><span class=\"spark-nlp-display-entity-wrapper\" style=\"background-color: #4DB09A\"><span class=\"spark-nlp-display-entity-name\">2 </span><span class=\"spark-nlp-display-entity-type\">Dosage</span></span><span class=\"spark-nlp-display-others\" style=\"background-color: white\"> tablets </span><span class=\"spark-nlp-display-entity-wrapper\" style=\"background-color: #7A03C4\"><span class=\"spark-nlp-display-entity-name\">p.o </span><span class=\"spark-nlp-display-entity-type\">Route</span></span><span class=\"spark-nlp-display-others\" style=\"background-color: white\">. </span><span class=\"spark-nlp-display-entity-wrapper\" style=\"background-color: #BC1DC2\"><span class=\"spark-nlp-display-entity-name\">q.a.m </span><span class=\"spark-nlp-display-entity-type\">Frequency</span></span><span class=\"spark-nlp-display-others\" style=\"background-color: white\">., </span><span class=\"spark-nlp-display-entity-wrapper\" style=\"background-color: #36C67B\"><span class=\"spark-nlp-display-entity-name\">Neurontin </span><span class=\"spark-nlp-display-entity-type\">Drug_BrandName</span></span><span class=\"spark-nlp-display-others\" style=\"background-color: white\"> </span><span class=\"spark-nlp-display-entity-wrapper\" style=\"background-color: #4E2E32\"><span class=\"spark-nlp-display-entity-name\">400 mg </span><span class=\"spark-nlp-display-entity-type\">Strength</span></span><span class=\"spark-nlp-display-others\" style=\"background-color: white\"> </span><span class=\"spark-nlp-display-entity-wrapper\" style=\"background-color: #7A03C4\"><span class=\"spark-nlp-display-entity-name\">p.o </span><span class=\"spark-nlp-display-entity-type\">Route</span></span><span class=\"spark-nlp-display-others\" style=\"background-color: white\">. </span><span class=\"spark-nlp-display-entity-wrapper\" style=\"background-color: #BC1DC2\"><span class=\"spark-nlp-display-entity-name\">t.i.d </span><span class=\"spark-nlp-display-entity-type\">Frequency</span></span><span class=\"spark-nlp-display-others\" style=\"background-color: white\">., </span><span class=\"spark-nlp-display-entity-wrapper\" style=\"background-color: #4621B2\"><span class=\"spark-nlp-display-entity-name\">magnesium citrate </span><span class=\"spark-nlp-display-entity-type\">Drug_Ingredient</span></span><span class=\"spark-nlp-display-others\" style=\"background-color: white\"> </span><span class=\"spark-nlp-display-entity-wrapper\" style=\"background-color: #4DB09A\"><span class=\"spark-nlp-display-entity-name\">1 </span><span class=\"spark-nlp-display-entity-type\">Dosage</span></span><span class=\"spark-nlp-display-others\" style=\"background-color: white\"> bottle </span><span class=\"spark-nlp-display-entity-wrapper\" style=\"background-color: #7A03C4\"><span class=\"spark-nlp-display-entity-name\">p.o </span><span class=\"spark-nlp-display-entity-type\">Route</span></span><span class=\"spark-nlp-display-others\" style=\"background-color: white\"> , </span><span class=\"spark-nlp-display-entity-wrapper\" style=\"background-color: #36C67B\"><span class=\"spark-nlp-display-entity-name\">Wellbutrin </span><span class=\"spark-nlp-display-entity-type\">Drug_BrandName</span></span><span class=\"spark-nlp-display-others\" style=\"background-color: white\"> </span><span class=\"spark-nlp-display-entity-wrapper\" style=\"background-color: #4E2E32\"><span class=\"spark-nlp-display-entity-name\">100 mg </span><span class=\"spark-nlp-display-entity-type\">Strength</span></span><span class=\"spark-nlp-display-others\" style=\"background-color: white\"> </span><span class=\"spark-nlp-display-entity-wrapper\" style=\"background-color: #7A03C4\"><span class=\"spark-nlp-display-entity-name\">p.o </span><span class=\"spark-nlp-display-entity-type\">Route</span></span><span class=\"spark-nlp-display-others\" style=\"background-color: white\">. </span><span class=\"spark-nlp-display-entity-wrapper\" style=\"background-color: #BC1DC2\"><span class=\"spark-nlp-display-entity-name\">daily </span><span class=\"spark-nlp-display-entity-type\">Frequency</span></span><span class=\"spark-nlp-display-others\" style=\"background-color: white\">, and </span><span class=\"spark-nlp-display-entity-wrapper\" style=\"background-color: #36C67B\"><span class=\"spark-nlp-display-entity-name\">Bactrim DS </span><span class=\"spark-nlp-display-entity-type\">Drug_BrandName</span></span><span class=\"spark-nlp-display-others\" style=\"background-color: white\"> </span><span class=\"spark-nlp-display-entity-wrapper\" style=\"background-color: #BC1DC2\"><span class=\"spark-nlp-display-entity-name\">b.i.d. </span><span class=\"spark-nlp-display-entity-type\">Frequency</span></span></div>"
            ]
          },
          "metadata": {}
        }
      ]
    },
    {
      "cell_type": "markdown",
      "source": [
        "## 🔎`ner_jsl_enriched`"
      ],
      "metadata": {
        "id": "7F8MtsT4b7Eo"
      }
    },
    {
      "cell_type": "code",
      "source": [
        "result = pipeline(\"ner_jsl_enriched\").transform(df)"
      ],
      "metadata": {
        "colab": {
          "base_uri": "https://localhost:8080/"
        },
        "id": "Jz4lhEYUe3GU",
        "outputId": "6857278b-04c9-4abd-ea85-0617066242b4"
      },
      "execution_count": null,
      "outputs": [
        {
          "output_type": "stream",
          "name": "stdout",
          "text": [
            "ner_jsl_enriched download started this may take some time.\n",
            "[OK!]\n"
          ]
        }
      ]
    },
    {
      "cell_type": "code",
      "source": [
        "result.select(F.explode(F.arrays_zip('ner_chunk.result', 'ner_chunk.metadata')).alias(\"cols\"))\\\n",
        "      .select(F.expr(\"cols['0']\").alias(\"chunk\"),\n",
        "              F.expr(\"cols['1']['entity']\").alias(\"ner_label\")).show(15,truncate=False)\n",
        "  "
      ],
      "metadata": {
        "colab": {
          "base_uri": "https://localhost:8080/"
        },
        "id": "xrVWBsK9e35k",
        "outputId": "f14c8a92-ac6d-4984-e468-594919461848"
      },
      "execution_count": null,
      "outputs": [
        {
          "output_type": "stream",
          "name": "stdout",
          "text": [
            "+--------------------+---------------+\n",
            "|chunk               |ner_label      |\n",
            "+--------------------+---------------+\n",
            "|Bactrim             |Drug_BrandName |\n",
            "|for 14 days         |Duration       |\n",
            "|daily               |Frequency      |\n",
            "|occupational therapy|Treatment      |\n",
            "|Fragmin             |Drug_BrandName |\n",
            "|5000 units          |Dosage         |\n",
            "|subcutaneously      |Route          |\n",
            "|daily               |Frequency      |\n",
            "|OxyContin           |Drug_BrandName |\n",
            "|30 mg               |Strength       |\n",
            "|p.o                 |Route          |\n",
            "|q.12 h              |Frequency      |\n",
            "|folic acid          |Drug_Ingredient|\n",
            "|1 mg                |Strength       |\n",
            "|daily               |Frequency      |\n",
            "+--------------------+---------------+\n",
            "only showing top 15 rows\n",
            "\n"
          ]
        }
      ]
    },
    {
      "cell_type": "code",
      "source": [
        "visualiser = NerVisualizer()\n",
        "\n",
        "visualiser.display(result = result.collect()[0] ,label_col = 'ner_chunk', document_col = 'document')"
      ],
      "metadata": {
        "colab": {
          "base_uri": "https://localhost:8080/",
          "height": 534
        },
        "id": "oGVHzbO4e3sk",
        "outputId": "86dba2fc-fc1c-49e8-e93c-9802f0294e3c"
      },
      "execution_count": null,
      "outputs": [
        {
          "output_type": "display_data",
          "data": {
            "text/plain": [
              "<IPython.core.display.HTML object>"
            ],
            "text/html": [
              "\n",
              "<style>\n",
              "    @import url('https://fonts.googleapis.com/css2?family=Montserrat:wght@300;400;500;600;700&display=swap');\n",
              "    @import url('https://fonts.googleapis.com/css2?family=Vistol Regular:wght@300;400;500;600;700&display=swap');\n",
              "    \n",
              "    .spark-nlp-display-scroll-entities {\n",
              "        border: 1px solid #E7EDF0;\n",
              "        border-radius: 3px;\n",
              "        text-align: justify;\n",
              "        \n",
              "    }\n",
              "    .spark-nlp-display-scroll-entities span {  \n",
              "        font-size: 14px;\n",
              "        line-height: 24px;\n",
              "        color: #536B76;\n",
              "        font-family: 'Montserrat', sans-serif !important;\n",
              "    }\n",
              "    \n",
              "    .spark-nlp-display-entity-wrapper{\n",
              "    \n",
              "        display: inline-grid;\n",
              "        text-align: center;\n",
              "        border-radius: 4px;\n",
              "        margin: 0 2px 5px 2px;\n",
              "        padding: 1px\n",
              "    }\n",
              "    .spark-nlp-display-entity-name{\n",
              "        font-size: 14px;\n",
              "        line-height: 24px;\n",
              "        font-family: 'Montserrat', sans-serif !important;\n",
              "        \n",
              "        background: #f1f2f3;\n",
              "        border-width: medium;\n",
              "        text-align: center;\n",
              "        \n",
              "        font-weight: 400;\n",
              "        \n",
              "        border-radius: 5px;\n",
              "        padding: 2px 5px;\n",
              "        display: block;\n",
              "        margin: 3px 2px;\n",
              "    \n",
              "    }\n",
              "    .spark-nlp-display-entity-type{\n",
              "        font-size: 14px;\n",
              "        line-height: 24px;\n",
              "        color: #ffffff;\n",
              "        font-family: 'Montserrat', sans-serif !important;\n",
              "        \n",
              "        text-transform: uppercase;\n",
              "        \n",
              "        font-weight: 500;\n",
              "\n",
              "        display: block;\n",
              "        padding: 3px 5px;\n",
              "    }\n",
              "    \n",
              "    .spark-nlp-display-entity-resolution{\n",
              "        font-size: 14px;\n",
              "        line-height: 24px;\n",
              "        color: #ffffff;\n",
              "        font-family: 'Vistol Regular', sans-serif !important;\n",
              "        \n",
              "        text-transform: uppercase;\n",
              "        \n",
              "        font-weight: 500;\n",
              "\n",
              "        display: block;\n",
              "        padding: 3px 5px;\n",
              "    }\n",
              "    \n",
              "    .spark-nlp-display-others{\n",
              "        font-size: 14px;\n",
              "        line-height: 24px;\n",
              "        font-family: 'Montserrat', sans-serif !important;\n",
              "        \n",
              "        font-weight: 400;\n",
              "    }\n",
              "\n",
              "</style>\n",
              " <span class=\"spark-nlp-display-others\" style=\"background-color: white\">The patient is a 30-year-old female with a long history of diabetes, type 2; coronary artery disease; chronic renal insufficiency; peripheral vascular disease, also secondary to diabetes; who was originally admitted to an outside hospital for what appeared to be acute paraplegia, lower extremities. She did receive a course of </span><span class=\"spark-nlp-display-entity-wrapper\" style=\"background-color: #A71014\"><span class=\"spark-nlp-display-entity-name\">Bactrim </span><span class=\"spark-nlp-display-entity-type\">Drug_BrandName</span></span><span class=\"spark-nlp-display-others\" style=\"background-color: white\"> </span><span class=\"spark-nlp-display-entity-wrapper\" style=\"background-color: #8DA0AE\"><span class=\"spark-nlp-display-entity-name\">for 14 days </span><span class=\"spark-nlp-display-entity-type\">Duration</span></span><span class=\"spark-nlp-display-others\" style=\"background-color: white\"> for UTI. Evidently, at some point in time, the patient was noted to develop a pressure-type wound on the sole of her left foot and left great toe. She was also noted to have a large sacral wound; this is in a similar location with previous laminectomy, and this continues to receive </span><span class=\"spark-nlp-display-entity-wrapper\" style=\"background-color: #8BA6B2\"><span class=\"spark-nlp-display-entity-name\">daily </span><span class=\"spark-nlp-display-entity-type\">Frequency</span></span><span class=\"spark-nlp-display-others\" style=\"background-color: white\"> care. The patient was transferred secondary to inability to participate in full physical and </span><span class=\"spark-nlp-display-entity-wrapper\" style=\"background-color: #8b6673\"><span class=\"spark-nlp-display-entity-name\">occupational therapy </span><span class=\"spark-nlp-display-entity-type\">Treatment</span></span><span class=\"spark-nlp-display-others\" style=\"background-color: white\"> and continue medical management of her diabetes, the sacral decubitus, left foot pressure wound, and associated complications of diabetes. She is given </span><span class=\"spark-nlp-display-entity-wrapper\" style=\"background-color: #A71014\"><span class=\"spark-nlp-display-entity-name\">Fragmin </span><span class=\"spark-nlp-display-entity-type\">Drug_BrandName</span></span><span class=\"spark-nlp-display-others\" style=\"background-color: white\"> </span><span class=\"spark-nlp-display-entity-wrapper\" style=\"background-color: #6D173A\"><span class=\"spark-nlp-display-entity-name\">5000 units </span><span class=\"spark-nlp-display-entity-type\">Dosage</span></span><span class=\"spark-nlp-display-others\" style=\"background-color: white\"> </span><span class=\"spark-nlp-display-entity-wrapper\" style=\"background-color: #17721F\"><span class=\"spark-nlp-display-entity-name\">subcutaneously </span><span class=\"spark-nlp-display-entity-type\">Route</span></span><span class=\"spark-nlp-display-others\" style=\"background-color: white\"> </span><span class=\"spark-nlp-display-entity-wrapper\" style=\"background-color: #8BA6B2\"><span class=\"spark-nlp-display-entity-name\">daily </span><span class=\"spark-nlp-display-entity-type\">Frequency</span></span><span class=\"spark-nlp-display-others\" style=\"background-color: white\">, </span><span class=\"spark-nlp-display-entity-wrapper\" style=\"background-color: #A71014\"><span class=\"spark-nlp-display-entity-name\">OxyContin </span><span class=\"spark-nlp-display-entity-type\">Drug_BrandName</span></span><span class=\"spark-nlp-display-others\" style=\"background-color: white\"> </span><span class=\"spark-nlp-display-entity-wrapper\" style=\"background-color: #91561F\"><span class=\"spark-nlp-display-entity-name\">30 mg </span><span class=\"spark-nlp-display-entity-type\">Strength</span></span><span class=\"spark-nlp-display-others\" style=\"background-color: white\"> </span><span class=\"spark-nlp-display-entity-wrapper\" style=\"background-color: #17721F\"><span class=\"spark-nlp-display-entity-name\">p.o </span><span class=\"spark-nlp-display-entity-type\">Route</span></span><span class=\"spark-nlp-display-others\" style=\"background-color: white\">. </span><span class=\"spark-nlp-display-entity-wrapper\" style=\"background-color: #8BA6B2\"><span class=\"spark-nlp-display-entity-name\">q.12 h </span><span class=\"spark-nlp-display-entity-type\">Frequency</span></span><span class=\"spark-nlp-display-others\" style=\"background-color: white\">., </span><span class=\"spark-nlp-display-entity-wrapper\" style=\"background-color: #BB5FA3\"><span class=\"spark-nlp-display-entity-name\">folic acid </span><span class=\"spark-nlp-display-entity-type\">Drug_Ingredient</span></span><span class=\"spark-nlp-display-others\" style=\"background-color: white\"> </span><span class=\"spark-nlp-display-entity-wrapper\" style=\"background-color: #91561F\"><span class=\"spark-nlp-display-entity-name\">1 mg </span><span class=\"spark-nlp-display-entity-type\">Strength</span></span><span class=\"spark-nlp-display-others\" style=\"background-color: white\"> </span><span class=\"spark-nlp-display-entity-wrapper\" style=\"background-color: #8BA6B2\"><span class=\"spark-nlp-display-entity-name\">daily </span><span class=\"spark-nlp-display-entity-type\">Frequency</span></span><span class=\"spark-nlp-display-others\" style=\"background-color: white\">, </span><span class=\"spark-nlp-display-entity-wrapper\" style=\"background-color: #BB5FA3\"><span class=\"spark-nlp-display-entity-name\">levothyroxine </span><span class=\"spark-nlp-display-entity-type\">Drug_Ingredient</span></span><span class=\"spark-nlp-display-others\" style=\"background-color: white\"> </span><span class=\"spark-nlp-display-entity-wrapper\" style=\"background-color: #91561F\"><span class=\"spark-nlp-display-entity-name\">0.1 mg </span><span class=\"spark-nlp-display-entity-type\">Strength</span></span><span class=\"spark-nlp-display-others\" style=\"background-color: white\"> </span><span class=\"spark-nlp-display-entity-wrapper\" style=\"background-color: #17721F\"><span class=\"spark-nlp-display-entity-name\">p.o </span><span class=\"spark-nlp-display-entity-type\">Route</span></span><span class=\"spark-nlp-display-others\" style=\"background-color: white\">. , </span><span class=\"spark-nlp-display-entity-wrapper\" style=\"background-color: #A71014\"><span class=\"spark-nlp-display-entity-name\">Prevacid </span><span class=\"spark-nlp-display-entity-type\">Drug_BrandName</span></span><span class=\"spark-nlp-display-others\" style=\"background-color: white\"> </span><span class=\"spark-nlp-display-entity-wrapper\" style=\"background-color: #91561F\"><span class=\"spark-nlp-display-entity-name\">30 mg </span><span class=\"spark-nlp-display-entity-type\">Strength</span></span><span class=\"spark-nlp-display-others\" style=\"background-color: white\"> </span><span class=\"spark-nlp-display-entity-wrapper\" style=\"background-color: #8BA6B2\"><span class=\"spark-nlp-display-entity-name\">daily </span><span class=\"spark-nlp-display-entity-type\">Frequency</span></span><span class=\"spark-nlp-display-others\" style=\"background-color: white\">, </span><span class=\"spark-nlp-display-entity-wrapper\" style=\"background-color: #A71014\"><span class=\"spark-nlp-display-entity-name\">Avandia </span><span class=\"spark-nlp-display-entity-type\">Drug_BrandName</span></span><span class=\"spark-nlp-display-others\" style=\"background-color: white\"> </span><span class=\"spark-nlp-display-entity-wrapper\" style=\"background-color: #91561F\"><span class=\"spark-nlp-display-entity-name\">4 mg </span><span class=\"spark-nlp-display-entity-type\">Strength</span></span><span class=\"spark-nlp-display-others\" style=\"background-color: white\"> </span><span class=\"spark-nlp-display-entity-wrapper\" style=\"background-color: #8BA6B2\"><span class=\"spark-nlp-display-entity-name\">daily </span><span class=\"spark-nlp-display-entity-type\">Frequency</span></span><span class=\"spark-nlp-display-others\" style=\"background-color: white\">, </span><span class=\"spark-nlp-display-entity-wrapper\" style=\"background-color: #A71014\"><span class=\"spark-nlp-display-entity-name\">Norvasc </span><span class=\"spark-nlp-display-entity-type\">Drug_BrandName</span></span><span class=\"spark-nlp-display-others\" style=\"background-color: white\"> </span><span class=\"spark-nlp-display-entity-wrapper\" style=\"background-color: #91561F\"><span class=\"spark-nlp-display-entity-name\">10 mg </span><span class=\"spark-nlp-display-entity-type\">Strength</span></span><span class=\"spark-nlp-display-others\" style=\"background-color: white\"> </span><span class=\"spark-nlp-display-entity-wrapper\" style=\"background-color: #8BA6B2\"><span class=\"spark-nlp-display-entity-name\">daily </span><span class=\"spark-nlp-display-entity-type\">Frequency</span></span><span class=\"spark-nlp-display-others\" style=\"background-color: white\">, </span><span class=\"spark-nlp-display-entity-wrapper\" style=\"background-color: #A71014\"><span class=\"spark-nlp-display-entity-name\">Lexapro </span><span class=\"spark-nlp-display-entity-type\">Drug_BrandName</span></span><span class=\"spark-nlp-display-others\" style=\"background-color: white\"> </span><span class=\"spark-nlp-display-entity-wrapper\" style=\"background-color: #91561F\"><span class=\"spark-nlp-display-entity-name\">20 mg </span><span class=\"spark-nlp-display-entity-type\">Strength</span></span><span class=\"spark-nlp-display-others\" style=\"background-color: white\"> </span><span class=\"spark-nlp-display-entity-wrapper\" style=\"background-color: #8BA6B2\"><span class=\"spark-nlp-display-entity-name\">daily </span><span class=\"spark-nlp-display-entity-type\">Frequency</span></span><span class=\"spark-nlp-display-others\" style=\"background-color: white\">, </span><span class=\"spark-nlp-display-entity-wrapper\" style=\"background-color: #BB5FA3\"><span class=\"spark-nlp-display-entity-name\">aspirin </span><span class=\"spark-nlp-display-entity-type\">Drug_Ingredient</span></span><span class=\"spark-nlp-display-others\" style=\"background-color: white\"> </span><span class=\"spark-nlp-display-entity-wrapper\" style=\"background-color: #91561F\"><span class=\"spark-nlp-display-entity-name\">81 mg </span><span class=\"spark-nlp-display-entity-type\">Strength</span></span><span class=\"spark-nlp-display-others\" style=\"background-color: white\"> </span><span class=\"spark-nlp-display-entity-wrapper\" style=\"background-color: #8BA6B2\"><span class=\"spark-nlp-display-entity-name\">daily </span><span class=\"spark-nlp-display-entity-type\">Frequency</span></span><span class=\"spark-nlp-display-others\" style=\"background-color: white\">, </span><span class=\"spark-nlp-display-entity-wrapper\" style=\"background-color: #A71014\"><span class=\"spark-nlp-display-entity-name\">Senna </span><span class=\"spark-nlp-display-entity-type\">Drug_BrandName</span></span><span class=\"spark-nlp-display-others\" style=\"background-color: white\"> </span><span class=\"spark-nlp-display-entity-wrapper\" style=\"background-color: #6D173A\"><span class=\"spark-nlp-display-entity-name\">2 </span><span class=\"spark-nlp-display-entity-type\">Dosage</span></span><span class=\"spark-nlp-display-others\" style=\"background-color: white\"> </span><span class=\"spark-nlp-display-entity-wrapper\" style=\"background-color: #368698\"><span class=\"spark-nlp-display-entity-name\">tablets </span><span class=\"spark-nlp-display-entity-type\">Form</span></span><span class=\"spark-nlp-display-others\" style=\"background-color: white\"> </span><span class=\"spark-nlp-display-entity-wrapper\" style=\"background-color: #17721F\"><span class=\"spark-nlp-display-entity-name\">p.o </span><span class=\"spark-nlp-display-entity-type\">Route</span></span><span class=\"spark-nlp-display-others\" style=\"background-color: white\">. </span><span class=\"spark-nlp-display-entity-wrapper\" style=\"background-color: #8BA6B2\"><span class=\"spark-nlp-display-entity-name\">q.a.m </span><span class=\"spark-nlp-display-entity-type\">Frequency</span></span><span class=\"spark-nlp-display-others\" style=\"background-color: white\">., </span><span class=\"spark-nlp-display-entity-wrapper\" style=\"background-color: #A71014\"><span class=\"spark-nlp-display-entity-name\">Neurontin </span><span class=\"spark-nlp-display-entity-type\">Drug_BrandName</span></span><span class=\"spark-nlp-display-others\" style=\"background-color: white\"> </span><span class=\"spark-nlp-display-entity-wrapper\" style=\"background-color: #91561F\"><span class=\"spark-nlp-display-entity-name\">400 mg </span><span class=\"spark-nlp-display-entity-type\">Strength</span></span><span class=\"spark-nlp-display-others\" style=\"background-color: white\"> </span><span class=\"spark-nlp-display-entity-wrapper\" style=\"background-color: #17721F\"><span class=\"spark-nlp-display-entity-name\">p.o </span><span class=\"spark-nlp-display-entity-type\">Route</span></span><span class=\"spark-nlp-display-others\" style=\"background-color: white\">. </span><span class=\"spark-nlp-display-entity-wrapper\" style=\"background-color: #8BA6B2\"><span class=\"spark-nlp-display-entity-name\">t.i.d </span><span class=\"spark-nlp-display-entity-type\">Frequency</span></span><span class=\"spark-nlp-display-others\" style=\"background-color: white\">., </span><span class=\"spark-nlp-display-entity-wrapper\" style=\"background-color: #BB5FA3\"><span class=\"spark-nlp-display-entity-name\">magnesium citrate </span><span class=\"spark-nlp-display-entity-type\">Drug_Ingredient</span></span><span class=\"spark-nlp-display-others\" style=\"background-color: white\"> </span><span class=\"spark-nlp-display-entity-wrapper\" style=\"background-color: #6D173A\"><span class=\"spark-nlp-display-entity-name\">1 bottle </span><span class=\"spark-nlp-display-entity-type\">Dosage</span></span><span class=\"spark-nlp-display-others\" style=\"background-color: white\"> </span><span class=\"spark-nlp-display-entity-wrapper\" style=\"background-color: #17721F\"><span class=\"spark-nlp-display-entity-name\">p.o </span><span class=\"spark-nlp-display-entity-type\">Route</span></span><span class=\"spark-nlp-display-others\" style=\"background-color: white\"> , </span><span class=\"spark-nlp-display-entity-wrapper\" style=\"background-color: #A71014\"><span class=\"spark-nlp-display-entity-name\">Wellbutrin </span><span class=\"spark-nlp-display-entity-type\">Drug_BrandName</span></span><span class=\"spark-nlp-display-others\" style=\"background-color: white\"> </span><span class=\"spark-nlp-display-entity-wrapper\" style=\"background-color: #91561F\"><span class=\"spark-nlp-display-entity-name\">100 mg </span><span class=\"spark-nlp-display-entity-type\">Strength</span></span><span class=\"spark-nlp-display-others\" style=\"background-color: white\"> </span><span class=\"spark-nlp-display-entity-wrapper\" style=\"background-color: #17721F\"><span class=\"spark-nlp-display-entity-name\">p.o </span><span class=\"spark-nlp-display-entity-type\">Route</span></span><span class=\"spark-nlp-display-others\" style=\"background-color: white\">. </span><span class=\"spark-nlp-display-entity-wrapper\" style=\"background-color: #8BA6B2\"><span class=\"spark-nlp-display-entity-name\">daily </span><span class=\"spark-nlp-display-entity-type\">Frequency</span></span><span class=\"spark-nlp-display-others\" style=\"background-color: white\">, and </span><span class=\"spark-nlp-display-entity-wrapper\" style=\"background-color: #A71014\"><span class=\"spark-nlp-display-entity-name\">Bactrim DS </span><span class=\"spark-nlp-display-entity-type\">Drug_BrandName</span></span><span class=\"spark-nlp-display-others\" style=\"background-color: white\"> </span><span class=\"spark-nlp-display-entity-wrapper\" style=\"background-color: #8BA6B2\"><span class=\"spark-nlp-display-entity-name\">b.i.d </span><span class=\"spark-nlp-display-entity-type\">Frequency</span></span><span class=\"spark-nlp-display-others\" style=\"background-color: white\">.</span></div>"
            ]
          },
          "metadata": {}
        }
      ]
    },
    {
      "cell_type": "markdown",
      "source": [
        "## 🔎`ner_clinical`"
      ],
      "metadata": {
        "id": "OzrjPvlLcSuL"
      }
    },
    {
      "cell_type": "code",
      "source": [
        "result = pipeline(\"ner_clinical\").transform(df)"
      ],
      "metadata": {
        "colab": {
          "base_uri": "https://localhost:8080/"
        },
        "id": "ZCT643sze91j",
        "outputId": "66b7de9c-f156-408a-85bc-17201d7eec75"
      },
      "execution_count": null,
      "outputs": [
        {
          "output_type": "stream",
          "name": "stdout",
          "text": [
            "ner_clinical download started this may take some time.\n",
            "[OK!]\n"
          ]
        }
      ]
    },
    {
      "cell_type": "code",
      "source": [
        "result.select(F.explode(F.arrays_zip('ner_chunk.result', 'ner_chunk.metadata')).alias(\"cols\"))\\\n",
        "      .select(F.expr(\"cols['0']\").alias(\"chunk\"),\n",
        "              F.expr(\"cols['1']['entity']\").alias(\"ner_label\")).show(15,truncate=False)\n",
        "  "
      ],
      "metadata": {
        "colab": {
          "base_uri": "https://localhost:8080/"
        },
        "id": "4UFziMHFe-VV",
        "outputId": "0d76f80f-2958-4ad8-fc81-6729a087fb7d"
      },
      "execution_count": null,
      "outputs": [
        {
          "output_type": "stream",
          "name": "stdout",
          "text": [
            "+--------------------------------------+---------+\n",
            "|chunk                                 |ner_label|\n",
            "+--------------------------------------+---------+\n",
            "|Bactrim                               |TREATMENT|\n",
            "|previous laminectomy                  |TREATMENT|\n",
            "|full physical and occupational therapy|TREATMENT|\n",
            "|medical management                    |TREATMENT|\n",
            "|Fragmin                               |TREATMENT|\n",
            "|OxyContin                             |TREATMENT|\n",
            "|folic acid                            |TREATMENT|\n",
            "|levothyroxine                         |TREATMENT|\n",
            "|Prevacid                              |TREATMENT|\n",
            "|Avandia                               |TREATMENT|\n",
            "|Norvasc                               |TREATMENT|\n",
            "|Lexapro                               |TREATMENT|\n",
            "|aspirin                               |TREATMENT|\n",
            "|Senna                                 |TREATMENT|\n",
            "|Neurontin                             |TREATMENT|\n",
            "+--------------------------------------+---------+\n",
            "only showing top 15 rows\n",
            "\n"
          ]
        }
      ]
    },
    {
      "cell_type": "code",
      "source": [
        "visualiser = NerVisualizer()\n",
        "\n",
        "visualiser.display(result = result.collect()[0] ,label_col = 'ner_chunk', document_col = 'document')"
      ],
      "metadata": {
        "colab": {
          "base_uri": "https://localhost:8080/",
          "height": 392
        },
        "id": "CxYs0litfAPL",
        "outputId": "5ea5f6bc-7432-40b2-e86c-e378edbf4409"
      },
      "execution_count": null,
      "outputs": [
        {
          "output_type": "display_data",
          "data": {
            "text/plain": [
              "<IPython.core.display.HTML object>"
            ],
            "text/html": [
              "\n",
              "<style>\n",
              "    @import url('https://fonts.googleapis.com/css2?family=Montserrat:wght@300;400;500;600;700&display=swap');\n",
              "    @import url('https://fonts.googleapis.com/css2?family=Vistol Regular:wght@300;400;500;600;700&display=swap');\n",
              "    \n",
              "    .spark-nlp-display-scroll-entities {\n",
              "        border: 1px solid #E7EDF0;\n",
              "        border-radius: 3px;\n",
              "        text-align: justify;\n",
              "        \n",
              "    }\n",
              "    .spark-nlp-display-scroll-entities span {  \n",
              "        font-size: 14px;\n",
              "        line-height: 24px;\n",
              "        color: #536B76;\n",
              "        font-family: 'Montserrat', sans-serif !important;\n",
              "    }\n",
              "    \n",
              "    .spark-nlp-display-entity-wrapper{\n",
              "    \n",
              "        display: inline-grid;\n",
              "        text-align: center;\n",
              "        border-radius: 4px;\n",
              "        margin: 0 2px 5px 2px;\n",
              "        padding: 1px\n",
              "    }\n",
              "    .spark-nlp-display-entity-name{\n",
              "        font-size: 14px;\n",
              "        line-height: 24px;\n",
              "        font-family: 'Montserrat', sans-serif !important;\n",
              "        \n",
              "        background: #f1f2f3;\n",
              "        border-width: medium;\n",
              "        text-align: center;\n",
              "        \n",
              "        font-weight: 400;\n",
              "        \n",
              "        border-radius: 5px;\n",
              "        padding: 2px 5px;\n",
              "        display: block;\n",
              "        margin: 3px 2px;\n",
              "    \n",
              "    }\n",
              "    .spark-nlp-display-entity-type{\n",
              "        font-size: 14px;\n",
              "        line-height: 24px;\n",
              "        color: #ffffff;\n",
              "        font-family: 'Montserrat', sans-serif !important;\n",
              "        \n",
              "        text-transform: uppercase;\n",
              "        \n",
              "        font-weight: 500;\n",
              "\n",
              "        display: block;\n",
              "        padding: 3px 5px;\n",
              "    }\n",
              "    \n",
              "    .spark-nlp-display-entity-resolution{\n",
              "        font-size: 14px;\n",
              "        line-height: 24px;\n",
              "        color: #ffffff;\n",
              "        font-family: 'Vistol Regular', sans-serif !important;\n",
              "        \n",
              "        text-transform: uppercase;\n",
              "        \n",
              "        font-weight: 500;\n",
              "\n",
              "        display: block;\n",
              "        padding: 3px 5px;\n",
              "    }\n",
              "    \n",
              "    .spark-nlp-display-others{\n",
              "        font-size: 14px;\n",
              "        line-height: 24px;\n",
              "        font-family: 'Montserrat', sans-serif !important;\n",
              "        \n",
              "        font-weight: 400;\n",
              "    }\n",
              "\n",
              "</style>\n",
              " <span class=\"spark-nlp-display-others\" style=\"background-color: white\">The patient is a 30-year-old female with a long history of diabetes, type 2; coronary artery disease; chronic renal insufficiency; peripheral vascular disease, also secondary to diabetes; who was originally admitted to an outside hospital for what appeared to be acute paraplegia, lower extremities. She did receive a course of </span><span class=\"spark-nlp-display-entity-wrapper\" style=\"background-color: #8b6673\"><span class=\"spark-nlp-display-entity-name\">Bactrim </span><span class=\"spark-nlp-display-entity-type\">TREATMENT</span></span><span class=\"spark-nlp-display-others\" style=\"background-color: white\"> for 14 days for UTI. Evidently, at some point in time, the patient was noted to develop a pressure-type wound on the sole of her left foot and left great toe. She was also noted to have a large sacral wound; this is in a similar location with </span><span class=\"spark-nlp-display-entity-wrapper\" style=\"background-color: #8b6673\"><span class=\"spark-nlp-display-entity-name\">previous laminectomy </span><span class=\"spark-nlp-display-entity-type\">TREATMENT</span></span><span class=\"spark-nlp-display-others\" style=\"background-color: white\">, and this continues to receive daily care. The patient was transferred secondary to inability to participate in </span><span class=\"spark-nlp-display-entity-wrapper\" style=\"background-color: #8b6673\"><span class=\"spark-nlp-display-entity-name\">full physical and occupational therapy </span><span class=\"spark-nlp-display-entity-type\">TREATMENT</span></span><span class=\"spark-nlp-display-others\" style=\"background-color: white\"> and continue </span><span class=\"spark-nlp-display-entity-wrapper\" style=\"background-color: #8b6673\"><span class=\"spark-nlp-display-entity-name\">medical management </span><span class=\"spark-nlp-display-entity-type\">TREATMENT</span></span><span class=\"spark-nlp-display-others\" style=\"background-color: white\"> of her diabetes, the sacral decubitus, left foot pressure wound, and associated complications of diabetes. She is given </span><span class=\"spark-nlp-display-entity-wrapper\" style=\"background-color: #8b6673\"><span class=\"spark-nlp-display-entity-name\">Fragmin </span><span class=\"spark-nlp-display-entity-type\">TREATMENT</span></span><span class=\"spark-nlp-display-others\" style=\"background-color: white\"> 5000 units subcutaneously daily, </span><span class=\"spark-nlp-display-entity-wrapper\" style=\"background-color: #8b6673\"><span class=\"spark-nlp-display-entity-name\">OxyContin </span><span class=\"spark-nlp-display-entity-type\">TREATMENT</span></span><span class=\"spark-nlp-display-others\" style=\"background-color: white\"> 30 mg p.o. q.12 h., </span><span class=\"spark-nlp-display-entity-wrapper\" style=\"background-color: #8b6673\"><span class=\"spark-nlp-display-entity-name\">folic acid </span><span class=\"spark-nlp-display-entity-type\">TREATMENT</span></span><span class=\"spark-nlp-display-others\" style=\"background-color: white\"> 1 mg daily, </span><span class=\"spark-nlp-display-entity-wrapper\" style=\"background-color: #8b6673\"><span class=\"spark-nlp-display-entity-name\">levothyroxine </span><span class=\"spark-nlp-display-entity-type\">TREATMENT</span></span><span class=\"spark-nlp-display-others\" style=\"background-color: white\"> 0.1 mg p.o. , </span><span class=\"spark-nlp-display-entity-wrapper\" style=\"background-color: #8b6673\"><span class=\"spark-nlp-display-entity-name\">Prevacid </span><span class=\"spark-nlp-display-entity-type\">TREATMENT</span></span><span class=\"spark-nlp-display-others\" style=\"background-color: white\"> 30 mg daily, </span><span class=\"spark-nlp-display-entity-wrapper\" style=\"background-color: #8b6673\"><span class=\"spark-nlp-display-entity-name\">Avandia </span><span class=\"spark-nlp-display-entity-type\">TREATMENT</span></span><span class=\"spark-nlp-display-others\" style=\"background-color: white\"> 4 mg daily, </span><span class=\"spark-nlp-display-entity-wrapper\" style=\"background-color: #8b6673\"><span class=\"spark-nlp-display-entity-name\">Norvasc </span><span class=\"spark-nlp-display-entity-type\">TREATMENT</span></span><span class=\"spark-nlp-display-others\" style=\"background-color: white\"> 10 mg daily, </span><span class=\"spark-nlp-display-entity-wrapper\" style=\"background-color: #8b6673\"><span class=\"spark-nlp-display-entity-name\">Lexapro </span><span class=\"spark-nlp-display-entity-type\">TREATMENT</span></span><span class=\"spark-nlp-display-others\" style=\"background-color: white\"> 20 mg daily, </span><span class=\"spark-nlp-display-entity-wrapper\" style=\"background-color: #8b6673\"><span class=\"spark-nlp-display-entity-name\">aspirin </span><span class=\"spark-nlp-display-entity-type\">TREATMENT</span></span><span class=\"spark-nlp-display-others\" style=\"background-color: white\"> 81 mg daily, </span><span class=\"spark-nlp-display-entity-wrapper\" style=\"background-color: #8b6673\"><span class=\"spark-nlp-display-entity-name\">Senna </span><span class=\"spark-nlp-display-entity-type\">TREATMENT</span></span><span class=\"spark-nlp-display-others\" style=\"background-color: white\"> 2 tablets p.o. q.a.m., </span><span class=\"spark-nlp-display-entity-wrapper\" style=\"background-color: #8b6673\"><span class=\"spark-nlp-display-entity-name\">Neurontin </span><span class=\"spark-nlp-display-entity-type\">TREATMENT</span></span><span class=\"spark-nlp-display-others\" style=\"background-color: white\"> 400 mg p.o. t.i.d., </span><span class=\"spark-nlp-display-entity-wrapper\" style=\"background-color: #8b6673\"><span class=\"spark-nlp-display-entity-name\">magnesium citrate </span><span class=\"spark-nlp-display-entity-type\">TREATMENT</span></span><span class=\"spark-nlp-display-others\" style=\"background-color: white\"> 1 bottle p.o , </span><span class=\"spark-nlp-display-entity-wrapper\" style=\"background-color: #8b6673\"><span class=\"spark-nlp-display-entity-name\">Wellbutrin </span><span class=\"spark-nlp-display-entity-type\">TREATMENT</span></span><span class=\"spark-nlp-display-others\" style=\"background-color: white\"> 100 mg p.o. daily, and </span><span class=\"spark-nlp-display-entity-wrapper\" style=\"background-color: #8b6673\"><span class=\"spark-nlp-display-entity-name\">Bactrim DS </span><span class=\"spark-nlp-display-entity-type\">TREATMENT</span></span><span class=\"spark-nlp-display-others\" style=\"background-color: white\"> b.i.d.</span></div>"
            ]
          },
          "metadata": {}
        }
      ]
    },
    {
      "cell_type": "markdown",
      "source": [
        "## 🔎`ner_clinical_large`"
      ],
      "metadata": {
        "id": "TlZ163rjcX2F"
      }
    },
    {
      "cell_type": "code",
      "source": [
        "result = pipeline(\"ner_clinical_large\").transform(df)"
      ],
      "metadata": {
        "colab": {
          "base_uri": "https://localhost:8080/"
        },
        "id": "suNRiM5jbA9E",
        "outputId": "eeab5769-6784-4f5f-d7da-b666a7eb4f9c"
      },
      "execution_count": null,
      "outputs": [
        {
          "output_type": "stream",
          "name": "stdout",
          "text": [
            "ner_clinical_large download started this may take some time.\n",
            "[OK!]\n"
          ]
        }
      ]
    },
    {
      "cell_type": "code",
      "source": [
        "result.select(F.explode(F.arrays_zip('ner_chunk.result', 'ner_chunk.metadata')).alias(\"cols\"))\\\n",
        "      .select(F.expr(\"cols['0']\").alias(\"chunk\"),\n",
        "              F.expr(\"cols['1']['entity']\").alias(\"ner_label\")).show(15,truncate=False)\n",
        "  "
      ],
      "metadata": {
        "colab": {
          "base_uri": "https://localhost:8080/"
        },
        "id": "Nsu0ZxFJfR8y",
        "outputId": "77c5aec4-5c0d-458f-fe10-33fe20095e53"
      },
      "execution_count": null,
      "outputs": [
        {
          "output_type": "stream",
          "name": "stdout",
          "text": [
            "+--------------------------------------+---------+\n",
            "|chunk                                 |ner_label|\n",
            "+--------------------------------------+---------+\n",
            "|Bactrim                               |TREATMENT|\n",
            "|previous laminectomy                  |TREATMENT|\n",
            "|full physical and occupational therapy|TREATMENT|\n",
            "|medical management                    |TREATMENT|\n",
            "|Fragmin                               |TREATMENT|\n",
            "|OxyContin                             |TREATMENT|\n",
            "|folic acid                            |TREATMENT|\n",
            "|levothyroxine                         |TREATMENT|\n",
            "|Prevacid                              |TREATMENT|\n",
            "|Avandia                               |TREATMENT|\n",
            "|Norvasc                               |TREATMENT|\n",
            "|Lexapro                               |TREATMENT|\n",
            "|aspirin                               |TREATMENT|\n",
            "|Senna                                 |TREATMENT|\n",
            "|Neurontin                             |TREATMENT|\n",
            "+--------------------------------------+---------+\n",
            "only showing top 15 rows\n",
            "\n"
          ]
        }
      ]
    },
    {
      "cell_type": "code",
      "source": [
        "visualiser = NerVisualizer()\n",
        "\n",
        "visualiser.display(result = result.collect()[0] ,label_col = 'ner_chunk', document_col = 'document')"
      ],
      "metadata": {
        "colab": {
          "base_uri": "https://localhost:8080/",
          "height": 392
        },
        "id": "A4LPd3AqfSYI",
        "outputId": "39d9fec2-7105-41cd-cde9-5686096b3da5"
      },
      "execution_count": null,
      "outputs": [
        {
          "output_type": "display_data",
          "data": {
            "text/plain": [
              "<IPython.core.display.HTML object>"
            ],
            "text/html": [
              "\n",
              "<style>\n",
              "    @import url('https://fonts.googleapis.com/css2?family=Montserrat:wght@300;400;500;600;700&display=swap');\n",
              "    @import url('https://fonts.googleapis.com/css2?family=Vistol Regular:wght@300;400;500;600;700&display=swap');\n",
              "    \n",
              "    .spark-nlp-display-scroll-entities {\n",
              "        border: 1px solid #E7EDF0;\n",
              "        border-radius: 3px;\n",
              "        text-align: justify;\n",
              "        \n",
              "    }\n",
              "    .spark-nlp-display-scroll-entities span {  \n",
              "        font-size: 14px;\n",
              "        line-height: 24px;\n",
              "        color: #536B76;\n",
              "        font-family: 'Montserrat', sans-serif !important;\n",
              "    }\n",
              "    \n",
              "    .spark-nlp-display-entity-wrapper{\n",
              "    \n",
              "        display: inline-grid;\n",
              "        text-align: center;\n",
              "        border-radius: 4px;\n",
              "        margin: 0 2px 5px 2px;\n",
              "        padding: 1px\n",
              "    }\n",
              "    .spark-nlp-display-entity-name{\n",
              "        font-size: 14px;\n",
              "        line-height: 24px;\n",
              "        font-family: 'Montserrat', sans-serif !important;\n",
              "        \n",
              "        background: #f1f2f3;\n",
              "        border-width: medium;\n",
              "        text-align: center;\n",
              "        \n",
              "        font-weight: 400;\n",
              "        \n",
              "        border-radius: 5px;\n",
              "        padding: 2px 5px;\n",
              "        display: block;\n",
              "        margin: 3px 2px;\n",
              "    \n",
              "    }\n",
              "    .spark-nlp-display-entity-type{\n",
              "        font-size: 14px;\n",
              "        line-height: 24px;\n",
              "        color: #ffffff;\n",
              "        font-family: 'Montserrat', sans-serif !important;\n",
              "        \n",
              "        text-transform: uppercase;\n",
              "        \n",
              "        font-weight: 500;\n",
              "\n",
              "        display: block;\n",
              "        padding: 3px 5px;\n",
              "    }\n",
              "    \n",
              "    .spark-nlp-display-entity-resolution{\n",
              "        font-size: 14px;\n",
              "        line-height: 24px;\n",
              "        color: #ffffff;\n",
              "        font-family: 'Vistol Regular', sans-serif !important;\n",
              "        \n",
              "        text-transform: uppercase;\n",
              "        \n",
              "        font-weight: 500;\n",
              "\n",
              "        display: block;\n",
              "        padding: 3px 5px;\n",
              "    }\n",
              "    \n",
              "    .spark-nlp-display-others{\n",
              "        font-size: 14px;\n",
              "        line-height: 24px;\n",
              "        font-family: 'Montserrat', sans-serif !important;\n",
              "        \n",
              "        font-weight: 400;\n",
              "    }\n",
              "\n",
              "</style>\n",
              " <span class=\"spark-nlp-display-others\" style=\"background-color: white\">The patient is a 30-year-old female with a long history of diabetes, type 2; coronary artery disease; chronic renal insufficiency; peripheral vascular disease, also secondary to diabetes; who was originally admitted to an outside hospital for what appeared to be acute paraplegia, lower extremities. She did receive a course of </span><span class=\"spark-nlp-display-entity-wrapper\" style=\"background-color: #8b6673\"><span class=\"spark-nlp-display-entity-name\">Bactrim </span><span class=\"spark-nlp-display-entity-type\">TREATMENT</span></span><span class=\"spark-nlp-display-others\" style=\"background-color: white\"> for 14 days for UTI. Evidently, at some point in time, the patient was noted to develop a pressure-type wound on the sole of her left foot and left great toe. She was also noted to have a large sacral wound; this is in a similar location with </span><span class=\"spark-nlp-display-entity-wrapper\" style=\"background-color: #8b6673\"><span class=\"spark-nlp-display-entity-name\">previous laminectomy </span><span class=\"spark-nlp-display-entity-type\">TREATMENT</span></span><span class=\"spark-nlp-display-others\" style=\"background-color: white\">, and this continues to receive daily care. The patient was transferred secondary to inability to participate in </span><span class=\"spark-nlp-display-entity-wrapper\" style=\"background-color: #8b6673\"><span class=\"spark-nlp-display-entity-name\">full physical and occupational therapy </span><span class=\"spark-nlp-display-entity-type\">TREATMENT</span></span><span class=\"spark-nlp-display-others\" style=\"background-color: white\"> and continue </span><span class=\"spark-nlp-display-entity-wrapper\" style=\"background-color: #8b6673\"><span class=\"spark-nlp-display-entity-name\">medical management </span><span class=\"spark-nlp-display-entity-type\">TREATMENT</span></span><span class=\"spark-nlp-display-others\" style=\"background-color: white\"> of her diabetes, the sacral decubitus, left foot pressure wound, and associated complications of diabetes. She is given </span><span class=\"spark-nlp-display-entity-wrapper\" style=\"background-color: #8b6673\"><span class=\"spark-nlp-display-entity-name\">Fragmin </span><span class=\"spark-nlp-display-entity-type\">TREATMENT</span></span><span class=\"spark-nlp-display-others\" style=\"background-color: white\"> 5000 units subcutaneously daily, </span><span class=\"spark-nlp-display-entity-wrapper\" style=\"background-color: #8b6673\"><span class=\"spark-nlp-display-entity-name\">OxyContin </span><span class=\"spark-nlp-display-entity-type\">TREATMENT</span></span><span class=\"spark-nlp-display-others\" style=\"background-color: white\"> 30 mg p.o. q.12 h., </span><span class=\"spark-nlp-display-entity-wrapper\" style=\"background-color: #8b6673\"><span class=\"spark-nlp-display-entity-name\">folic acid </span><span class=\"spark-nlp-display-entity-type\">TREATMENT</span></span><span class=\"spark-nlp-display-others\" style=\"background-color: white\"> 1 mg daily, </span><span class=\"spark-nlp-display-entity-wrapper\" style=\"background-color: #8b6673\"><span class=\"spark-nlp-display-entity-name\">levothyroxine </span><span class=\"spark-nlp-display-entity-type\">TREATMENT</span></span><span class=\"spark-nlp-display-others\" style=\"background-color: white\"> 0.1 mg p.o. , </span><span class=\"spark-nlp-display-entity-wrapper\" style=\"background-color: #8b6673\"><span class=\"spark-nlp-display-entity-name\">Prevacid </span><span class=\"spark-nlp-display-entity-type\">TREATMENT</span></span><span class=\"spark-nlp-display-others\" style=\"background-color: white\"> 30 mg daily, </span><span class=\"spark-nlp-display-entity-wrapper\" style=\"background-color: #8b6673\"><span class=\"spark-nlp-display-entity-name\">Avandia </span><span class=\"spark-nlp-display-entity-type\">TREATMENT</span></span><span class=\"spark-nlp-display-others\" style=\"background-color: white\"> 4 mg daily, </span><span class=\"spark-nlp-display-entity-wrapper\" style=\"background-color: #8b6673\"><span class=\"spark-nlp-display-entity-name\">Norvasc </span><span class=\"spark-nlp-display-entity-type\">TREATMENT</span></span><span class=\"spark-nlp-display-others\" style=\"background-color: white\"> 10 mg daily, </span><span class=\"spark-nlp-display-entity-wrapper\" style=\"background-color: #8b6673\"><span class=\"spark-nlp-display-entity-name\">Lexapro </span><span class=\"spark-nlp-display-entity-type\">TREATMENT</span></span><span class=\"spark-nlp-display-others\" style=\"background-color: white\"> 20 mg daily, </span><span class=\"spark-nlp-display-entity-wrapper\" style=\"background-color: #8b6673\"><span class=\"spark-nlp-display-entity-name\">aspirin </span><span class=\"spark-nlp-display-entity-type\">TREATMENT</span></span><span class=\"spark-nlp-display-others\" style=\"background-color: white\"> 81 mg daily, </span><span class=\"spark-nlp-display-entity-wrapper\" style=\"background-color: #8b6673\"><span class=\"spark-nlp-display-entity-name\">Senna </span><span class=\"spark-nlp-display-entity-type\">TREATMENT</span></span><span class=\"spark-nlp-display-others\" style=\"background-color: white\"> 2 tablets p.o. q.a.m., </span><span class=\"spark-nlp-display-entity-wrapper\" style=\"background-color: #8b6673\"><span class=\"spark-nlp-display-entity-name\">Neurontin </span><span class=\"spark-nlp-display-entity-type\">TREATMENT</span></span><span class=\"spark-nlp-display-others\" style=\"background-color: white\"> 400 mg p.o. t.i.d., </span><span class=\"spark-nlp-display-entity-wrapper\" style=\"background-color: #8b6673\"><span class=\"spark-nlp-display-entity-name\">magnesium citrate </span><span class=\"spark-nlp-display-entity-type\">TREATMENT</span></span><span class=\"spark-nlp-display-others\" style=\"background-color: white\"> 1 bottle p.o , </span><span class=\"spark-nlp-display-entity-wrapper\" style=\"background-color: #8b6673\"><span class=\"spark-nlp-display-entity-name\">Wellbutrin </span><span class=\"spark-nlp-display-entity-type\">TREATMENT</span></span><span class=\"spark-nlp-display-others\" style=\"background-color: white\"> 100 mg p.o. daily, and </span><span class=\"spark-nlp-display-entity-wrapper\" style=\"background-color: #8b6673\"><span class=\"spark-nlp-display-entity-name\">Bactrim DS </span><span class=\"spark-nlp-display-entity-type\">TREATMENT</span></span><span class=\"spark-nlp-display-others\" style=\"background-color: white\"> b.i.d.</span></div>"
            ]
          },
          "metadata": {}
        }
      ]
    }
  ]
}
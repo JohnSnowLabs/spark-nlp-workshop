{
  "nbformat": 4,
  "nbformat_minor": 0,
  "metadata": {
    "colab": {
      "name": "DEID_EHR_DATA.ipynb",
      "provenance": [],
      "collapsed_sections": []
    },
    "kernelspec": {
      "name": "python3",
      "display_name": "Python 3"
    }
  },
  "cells": [
    {
      "cell_type": "markdown",
      "metadata": {
        "id": "TA21Jo5d9SVq"
      },
      "source": [
        "\n",
        "\n",
        "![JohnSnowLabs](https://nlp.johnsnowlabs.com/assets/images/logo.png)\n",
        "\n",
        "[![Open In Colab](https://colab.research.google.com/assets/colab-badge.svg)](https://colab.research.google.com/github/JohnSnowLabs/spark-nlp-workshop/blob/master/tutorials/streamlit_notebooks/healthcare/DEID_EHR_DATA.ipynb)\n",
        "\n",
        "\n"
      ]
    },
    {
      "cell_type": "markdown",
      "metadata": {
        "id": "CzIdjHkAW8TB"
      },
      "source": [
        "# **De-identify Structured Data**"
      ]
    },
    {
      "cell_type": "markdown",
      "metadata": {
        "id": "6uDmeHEFW7_h"
      },
      "source": [
        "To run this yourself, you will need to upload your license keys to the notebook. Just Run The Cell Below in order to do that. Also You can open the file explorer on the left side of the screen and upload `license_keys.json` to the folder that opens.\n",
        "Otherwise, you can look at the example outputs at the bottom of the notebook.\n",
        "\n"
      ]
    },
    {
      "cell_type": "markdown",
      "metadata": {
        "id": "wIeCOiJNW-88"
      },
      "source": [
        "## 1. Colab Setup"
      ]
    },
    {
      "cell_type": "markdown",
      "metadata": {
        "id": "HMIDv74CYN0d"
      },
      "source": [
        "Import license keys"
      ]
    },
    {
      "cell_type": "code",
      "metadata": {
        "id": "ttHPIV2JXbIM"
      },
      "source": [
        "import json\n",
        "import os\n",
        "\n",
        "from google.colab import files\n",
        "\n",
        "license_keys = files.upload()\n",
        "\n",
        "with open(list(license_keys.keys())[0]) as f:\n",
        "    license_keys = json.load(f)\n",
        "\n",
        "# Defining license key-value pairs as local variables\n",
        "locals().update(license_keys)\n",
        "\n",
        "# Adding license key-value pairs to environment variables\n",
        "os.environ.update(license_keys)"
      ],
      "execution_count": null,
      "outputs": []
    },
    {
      "cell_type": "markdown",
      "metadata": {
        "id": "rQtc1CHaYQjU"
      },
      "source": [
        "Install dependencies"
      ]
    },
    {
      "cell_type": "code",
      "metadata": {
        "id": "CGJktFHdHL1n"
      },
      "source": [
        "# Installing pyspark and spark-nlp\n",
        "! pip install --upgrade -q pyspark==3.1.2 spark-nlp==$PUBLIC_VERSION\n",
        "\n",
        "# Installing Spark NLP Healthcare\n",
        "! pip install --upgrade -q spark-nlp-jsl==$JSL_VERSION  --extra-index-url https://pypi.johnsnowlabs.com/$SECRET"
      ],
      "execution_count": null,
      "outputs": []
    },
    {
      "cell_type": "markdown",
      "metadata": {
        "id": "Hj5FRDV4YSXN"
      },
      "source": [
        "Import dependencies into Python"
      ]
    },
    {
      "cell_type": "code",
      "metadata": {
        "id": "qUWyj8c6JSPP"
      },
      "source": [
        "import pandas as pd\n",
        "from pyspark.ml import Pipeline\n",
        "from pyspark.sql import SparkSession\n",
        "import pyspark.sql.functions as F\n",
        "from tabulate import tabulate\n",
        "import sparknlp\n",
        "from sparknlp.annotator import *\n",
        "from sparknlp_jsl.annotator import *\n",
        "from sparknlp.base import *\n",
        "import sparknlp_jsl"
      ],
      "execution_count": 3,
      "outputs": []
    },
    {
      "cell_type": "markdown",
      "metadata": {
        "id": "ed6Htm7qDQB3"
      },
      "source": [
        "Start the Spark session"
      ]
    },
    {
      "cell_type": "code",
      "metadata": {
        "id": "eaSM8-xhDRa4",
        "outputId": "a32c2047-23d5-474c-cf47-156dec4509f0",
        "colab": {
          "base_uri": "https://localhost:8080/",
          "height": 254
        }
      },
      "source": [
        "# manually start session\n",
        "# params = {\"spark.driver.memory\" : \"16G\",\n",
        "#           \"spark.kryoserializer.buffer.max\" : \"2000M\",\n",
        "#           \"spark.driver.maxResultSize\" : \"2000M\"}\n",
        "\n",
        "# spark = sparknlp_jsl.start(license_keys['SECRET'],params=params)\n",
        "\n",
        "print (\"Spark NLP Version :\", sparknlp.version())\n",
        "print (\"Spark NLP_JSL Version :\", sparknlp_jsl.version())\n",
        "\n",
        "spark = sparknlp_jsl.start(license_keys['SECRET'])\n",
        "\n",
        "spark"
      ],
      "execution_count": 4,
      "outputs": [
        {
          "output_type": "stream",
          "name": "stdout",
          "text": [
            "Spark NLP Version : 3.4.0\n",
            "Spark NLP_JSL Version : 3.4.0\n"
          ]
        },
        {
          "output_type": "execute_result",
          "data": {
            "text/html": [
              "\n",
              "            <div>\n",
              "                <p><b>SparkSession - in-memory</b></p>\n",
              "                \n",
              "        <div>\n",
              "            <p><b>SparkContext</b></p>\n",
              "\n",
              "            <p><a href=\"http://43d38c497b01:4040\">Spark UI</a></p>\n",
              "\n",
              "            <dl>\n",
              "              <dt>Version</dt>\n",
              "                <dd><code>v3.1.2</code></dd>\n",
              "              <dt>Master</dt>\n",
              "                <dd><code>local[*]</code></dd>\n",
              "              <dt>AppName</dt>\n",
              "                <dd><code>Spark NLP Licensed</code></dd>\n",
              "            </dl>\n",
              "        </div>\n",
              "        \n",
              "            </div>\n",
              "        "
            ],
            "text/plain": [
              "<pyspark.sql.session.SparkSession at 0x7faf6112c310>"
            ]
          },
          "metadata": {},
          "execution_count": 4
        }
      ]
    },
    {
      "cell_type": "markdown",
      "metadata": {
        "id": "tGmN8zv1Zcdf"
      },
      "source": [
        "## 2. Download Structured PHI Data and Create a `DataFrame`"
      ]
    },
    {
      "cell_type": "code",
      "metadata": {
        "id": "XnbZdOsNlDhu"
      },
      "source": [
        "!wget -q https://raw.githubusercontent.com/JohnSnowLabs/spark-nlp-workshop/master/tutorials/Certification_Trainings/Healthcare/data/hipaa-table-001.txt"
      ],
      "execution_count": 5,
      "outputs": []
    },
    {
      "cell_type": "code",
      "metadata": {
        "colab": {
          "base_uri": "https://localhost:8080/"
        },
        "id": "Bj1Z2G7Tk7NI",
        "outputId": "fc19fbe2-adb0-461f-c79a-4e754207a0e0"
      },
      "source": [
        "df = spark.read.format(\"csv\") \\\n",
        "    .option(\"sep\", \"\\t\") \\\n",
        "    .option(\"inferSchema\", \"true\") \\\n",
        "    .option(\"header\", \"true\") \\\n",
        "    .load(\"hipaa-table-001.txt\")\n",
        "\n",
        "df = df.withColumnRenamed(\"PATIENT\",\"NAME\")\n",
        "df.show(truncate=False)"
      ],
      "execution_count": 6,
      "outputs": [
        {
          "output_type": "stream",
          "name": "stdout",
          "text": [
            "+---------------+----------+---+----------------------------------------------------+-------+--------------+---+---+\n",
            "|NAME           |DOB       |AGE|ADDRESS                                             |ZIPCODE|TEL           |SBP|DBP|\n",
            "+---------------+----------+---+----------------------------------------------------+-------+--------------+---+---+\n",
            "|Cecilia Chapman|04/02/1935|83 |711-2880 Nulla St. Mankato Mississippi              |69200  |(257) 563-7401|101|42 |\n",
            "|Iris Watson    |03/10/2009|9  |P.O. Box 283 8562 Fusce Rd. Frederick Nebraska      |20620  |(372) 587-2335|159|122|\n",
            "|Bryar Pitts    |11/01/1921|98 |5543 Aliquet St. Fort Dodge GA                      |20783  |(717) 450-4729|149|52 |\n",
            "|Theodore Lowe  |13/02/2002|16 |Ap #867-859 Sit Rd. Azusa New York                  |39531  |(793) 151-6230|134|115|\n",
            "|Calista Wise   |20/08/1942|76 |7292 Dictum Av. San Antonio MI                      |47096  |(492) 709-6392|139|78 |\n",
            "|Kyla Olsen     |12/05/1973|45 |Ap #651-8679 Sodales Av. Tamuning PA                |10855  |(654) 393-5734|120|112|\n",
            "|Forrest Ray    |11/01/1991|27 |191-103 Integer Rd. Corona New Mexico               |8219   |(404) 960-3807|143|126|\n",
            "|Hiroko Potter  |18/11/1937|81 |P.O. Box 887 2508 Dolor. Av. Muskegon KY            |12482  |(314) 244-6306|147|75 |\n",
            "|Celeste Slater |12/05/1980|38 |606-3727 Ullamcorper. Street Roseville NH           |11523  |(786) 713-8616|147|123|\n",
            "|Nyssa Vazquez  |24/09/1956|62 |511-5762 At Rd. Chelsea MI                          |67708  |(947) 278-5929|129|50 |\n",
            "|Lawrence Moreno|26/12/1906|112|935-9940 Tortor. Street Santa Rosa MN               |98804  |(684) 579-1879|133|102|\n",
            "|Ina Moran      |26/10/1983|35 |P.O. Box 929 4189 Nunc Road Lebanon KY              |69409  |(389) 737-2852|101|67 |\n",
            "|Aaron Hawkins  |26/09/2009|9  |5587 Nunc. Avenue Erie Rhode Island                 |24975  |(660) 663-4518|87 |81 |\n",
            "|Hedy Greene    |03/10/1920|98 |Ap #696-3279 Viverra. Avenue Latrobe DE             |38100  |(608) 265-2215|128|123|\n",
            "|Melvin Porter  |14/08/1911|107|P.O. Box 132 1599 Curabitur Rd. Bandera South Dakota|45149  |(959) 119-8364|83 |43 |\n",
            "|Keefe Sellers  |16/05/1937|81 |347-7666 Iaculis St. Woodruff SC                    |49854  |(468) 353-2641|148|109|\n",
            "|Joan Romero    |08/12/2004|14 |666-4366 Lacinia Avenue Idaho Falls Ohio            |19253  |(248) 675-4007|75 |53 |\n",
            "|Davis Patrick  |09/01/1956|63 |P.O. Box 147 2546 Sociosqu Rd. Bethlehem Utah       |2913   |(939) 353-1107|142|62 |\n",
            "|Leilani Boyer  |18/10/1934|84 |557-6308 Lacinia Road San Bernardino ND             |9289   |(570) 873-7090|137|48 |\n",
            "|Colby Bernard  |02/10/1905|113|Ap #285-7193 Ullamcorper Avenue Amesbury HI         |93373  |(302) 259-2375|84 |41 |\n",
            "+---------------+----------+---+----------------------------------------------------+-------+--------------+---+---+\n",
            "only showing top 20 rows\n",
            "\n"
          ]
        }
      ]
    },
    {
      "cell_type": "markdown",
      "metadata": {
        "id": "1gmrjqHSGcJx"
      },
      "source": [
        "## 3. De-identify using Obfuscation Method"
      ]
    },
    {
      "cell_type": "code",
      "metadata": {
        "id": "ZBfKNzlWldBj"
      },
      "source": [
        "from sparknlp_jsl.structured_deidentification import StructuredDeidentification"
      ],
      "execution_count": 7,
      "outputs": []
    },
    {
      "cell_type": "markdown",
      "metadata": {
        "id": "Sw_IqjgicEPY"
      },
      "source": [
        "We will obfuscate `NAME` column as `PATIENT`, `AGE` column as `AGE` and `TEL` column as `PHONE`."
      ]
    },
    {
      "cell_type": "markdown",
      "source": [
        "We can shift n days in the structured deidentification through \"days\" parameter when the column is a Date."
      ],
      "metadata": {
        "id": "2z6FZ5qluWNM"
      }
    },
    {
      "cell_type": "code",
      "metadata": {
        "id": "VztWV7pCoi8r"
      },
      "source": [
        "obfuscator = StructuredDeidentification(spark,{\"NAME\" : \"PATIENT\", \"AGE\" : \"AGE\", \"TEL\" : \"PHONE\"}, \n",
        "                                        obfuscateRefSource='faker', \n",
        "                                        columnsSeed={\"NAME\": 23, \"DOB\": 23},\n",
        "                                        days=5)\n",
        "\n",
        "obfuscator_df = obfuscator.obfuscateColumns(df)"
      ],
      "execution_count": 8,
      "outputs": []
    },
    {
      "cell_type": "code",
      "metadata": {
        "colab": {
          "base_uri": "https://localhost:8080/"
        },
        "id": "KbbnDrfhd25M",
        "outputId": "cbdaff2f-bbcc-4210-a844-f015f564195c"
      },
      "source": [
        "obfuscator_df.select(\"NAME\", \"AGE\", \"TEL\").show(truncate=False)"
      ],
      "execution_count": 9,
      "outputs": [
        {
          "output_type": "stream",
          "name": "stdout",
          "text": [
            "+--------------------+----+----------------+\n",
            "|NAME                |AGE |TEL             |\n",
            "+--------------------+----+----------------+\n",
            "|[Teofilo Dynes]     |[31]|[(029) 7003-275]|\n",
            "|[Osa Forget]        |[5] |[046 406 6044]  |\n",
            "|[Maryland Drown]    |[19]|[493 68 821]    |\n",
            "|[Kristopher Mattock]|[80]|[439 8853]      |\n",
            "|[Myron Milliner]    |[29]|[31-70-28-28]   |\n",
            "|[Sabina Merles]     |[36]|[03.48.72.77.73]|\n",
            "|[Madalyn Ground]    |[5] |[077 4749 3624] |\n",
            "|[David Age]         |[35]|[02.74.68.06.67]|\n",
            "|[Darene Squibb]     |[1] |[0487 23 46 71] |\n",
            "|[Barrington Coder]  |[18]|[081 850 53 42] |\n",
            "|[Vonita Reasoner]   |[7] |[(11) 9998-3425]|\n",
            "|[Collene Chime]     |[21]|[02.94.22.49.05]|\n",
            "|[Marcelyn Saunas]   |[5] |[22 630958]     |\n",
            "|[Alvis Bach]        |[19]|[453 2590]      |\n",
            "|[Hallie Georgis]    |[12]|[78 427 062]    |\n",
            "|[Marilyne Smiling]  |[35]|[083 985 2904]  |\n",
            "|[Atlee Shearer]     |[32]|[032 433 92 68] |\n",
            "|[Darrow Blocker]    |[6] |[06-90066747]   |\n",
            "|[Janis Ghazi]       |[54]|[082 125 8210]  |\n",
            "|[Shayne Pel]        |[48]|[077 0285 6162] |\n",
            "+--------------------+----+----------------+\n",
            "only showing top 20 rows\n",
            "\n"
          ]
        }
      ]
    },
    {
      "cell_type": "markdown",
      "metadata": {
        "id": "jT9xz9big4I3"
      },
      "source": [
        "The annotator does not have fake `DATE` chunks by default. Let's do it manually. We can create a `faker` dictionary for `DOB` column as `DATE` label then we obfuscate `DOB` column as well."
      ]
    },
    {
      "cell_type": "code",
      "metadata": {
        "id": "wSs270YjocHi"
      },
      "source": [
        "obfuscator_unique_ref_test = '''2022-11-1#DATE\n",
        "2033-10-30#DATE\n",
        "2011-8-22#DATE\n",
        "2005-11-1#DATE\n",
        "2008-10-30#DATE\n",
        "2044-8-22#DATE\n",
        "2022-04-1#DATE\n",
        "2033-05-30#DATE\n",
        "2011-09-22#DATE\n",
        "2005-12-1#DATE\n",
        "2008-02-30#DATE\n",
        "2044-03-22#DATE\n",
        "2055-11-1#DATE\n",
        "2066-10-30#DATE\n",
        "2077-8-22#DATE\n",
        "2088-11-1#DATE\n",
        "2099-10-30#DATE\n",
        "2100-8-22#DATE\n",
        "2111-04-1#DATE\n",
        "2122-05-30#DATE\n",
        "2133-09-22#DATE\n",
        "2144-12-1#DATE\n",
        "2155-02-30#DATE\n",
        "2166-03-22#DATE'''\n",
        "\n",
        "with open('obfuscator_unique_ref_test.txt', 'w') as f:\n",
        "  f.write(obfuscator_unique_ref_test)"
      ],
      "execution_count": 10,
      "outputs": []
    },
    {
      "cell_type": "code",
      "metadata": {
        "id": "gqFtN0x5leZF"
      },
      "source": [
        "obfuscator = StructuredDeidentification(spark,{\"NAME\":\"PATIENT\",\"AGE\":\"AGE\", \"DOB\":\"DATE\", \"TEL\":\"PHONE\"}, obfuscateRefFile=\"/content/obfuscator_unique_ref_test.txt\")\n",
        "obfuscator_df = obfuscator.obfuscateColumns(df)\n"
      ],
      "execution_count": 11,
      "outputs": []
    },
    {
      "cell_type": "code",
      "metadata": {
        "colab": {
          "base_uri": "https://localhost:8080/"
        },
        "id": "QDNY4d8FgSyt",
        "outputId": "0b537967-2f68-420e-8839-71be633b4acb"
      },
      "source": [
        "obfuscator_df.select(\"NAME\", \"DOB\", \"AGE\", \"TEL\").show(truncate=False)"
      ],
      "execution_count": 12,
      "outputs": [
        {
          "output_type": "stream",
          "name": "stdout",
          "text": [
            "+------------------+------------+----+----------------+\n",
            "|NAME              |DOB         |AGE |TEL             |\n",
            "+------------------+------------+----+----------------+\n",
            "|[Aneta Hobby]     |[01/03/1935]|[31]|[085 773 3897]  |\n",
            "|[Sherley Mccreedy]|[01/12/2009]|[72]|[958 08 922]    |\n",
            "|[Bret Penta]      |[22/02/1921]|[31]|[031-276-790]   |\n",
            "|[Marian Davenport]|[14/04/2002]|[76]|[0328 0152557]  |\n",
            "|[Linnette Box]    |[08/09/1942]|[44]|[75 713 369]    |\n",
            "|[Oliver Chaco]    |[15/05/1973]|[41]|[306-323-0194]  |\n",
            "|[Lindsey Sandifer]|[22/01/1991]|[69]|[31 62 12]      |\n",
            "|[Cain Mari]       |[06/12/1937]|[84]|[601 189 903]   |\n",
            "|[Anselmo Rasher]  |[25/05/1980]|[24]|[(32) 8164-5542]|\n",
            "|[Eli Economy]     |[15/11/1956]|[21]|[26 590425]     |\n",
            "|[Denna Ghazi]     |[30/01/1907]|[4] |[081 207 11 16] |\n",
            "|[Willodean Dunker]|[31/10/1983]|[85]|[(19) 9327-6940]|\n",
            "|[Ranee Im]        |[20/10/2009]|[72]|[72 350 932]    |\n",
            "|[Edmond Champagne]|[13/11/1920]|[31]|[04.44.34.41.79]|\n",
            "|[Monta Rick]      |[28/08/1911]|[24]|[32 56 02]      |\n",
            "|[Arnie Leer]      |[21/05/1937]|[84]|[0171-5201763]  |\n",
            "|[Marshall Gehrig] |[26/12/2004]|[15]|[(026) 2488-096]|\n",
            "|[Ruthanna Bracken]|[04/02/1956]|[17]|[077 5138 5842] |\n",
            "|[Shelli Masters]  |[16/11/1934]|[24]|[67 488 45 07]  |\n",
            "|[Cris Haggard]    |[19/10/1905]|[80]|[52-98-89-23]   |\n",
            "+------------------+------------+----+----------------+\n",
            "only showing top 20 rows\n",
            "\n"
          ]
        }
      ]
    }
  ]
}
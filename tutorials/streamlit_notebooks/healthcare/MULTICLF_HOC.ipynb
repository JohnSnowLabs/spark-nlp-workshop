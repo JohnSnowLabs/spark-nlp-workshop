{
  "cells": [
    {
      "cell_type": "markdown",
      "metadata": {
        "id": "lokVHWdvaz-W"
      },
      "source": [
        "![JohnSnowLabs](https://nlp.johnsnowlabs.com/assets/images/logo.png)\n",
        "\n",
        "[![Open In Colab](https://colab.research.google.com/assets/colab-badge.svg)](https://colab.research.google.com/github/JohnSnowLabs/spark-nlp-workshop/blob/master/tutorials/streamlit_notebooks/healthcare/MULTICLF_HOC.ipynb)"
      ]
    },
    {
      "cell_type": "markdown",
      "source": [
        "## **Multilabel Classification For Hallmarks of Cancer**"
      ],
      "metadata": {
        "id": "fVHKZG19lAUH"
      }
    },
    {
      "cell_type": "markdown",
      "metadata": {
        "id": "U-UAcTkUbjzm"
      },
      "source": [
        "## **Colab Setup**"
      ]
    },
    {
      "cell_type": "code",
      "execution_count": null,
      "metadata": {
        "id": "5GlpBHUvcWup"
      },
      "outputs": [],
      "source": [
        "import json, os\n",
        "from google.colab import files\n",
        "\n",
        "if 'spark_jsl.json' not in os.listdir():\n",
        "  license_keys = files.upload()\n",
        "  os.rename(list(license_keys.keys())[0], 'spark_jsl.json')\n",
        "\n",
        "with open('spark_jsl.json') as f:\n",
        "    license_keys = json.load(f)\n",
        "\n",
        "# Defining license key-value pairs as local variables\n",
        "locals().update(license_keys)\n",
        "os.environ.update(license_keys)"
      ]
    },
    {
      "cell_type": "code",
      "execution_count": null,
      "metadata": {
        "id": "v6ROKz8c0f8k"
      },
      "outputs": [],
      "source": [
        "# Installing pyspark and spark-nlp\n",
        "! pip install --upgrade -q pyspark==3.1.2 spark-nlp==$PUBLIC_VERSION\n",
        "\n",
        "# Installing Spark NLP Healthcare\n",
        "! pip install --upgrade -q spark-nlp-jsl==$JSL_VERSION  --extra-index-url https://pypi.johnsnowlabs.com/$SECRET\n",
        "\n",
        "# Installing Spark NLP Display Library for visualization\n",
        "! pip install -q spark-nlp-display"
      ]
    },
    {
      "cell_type": "code",
      "execution_count": 3,
      "metadata": {
        "id": "bV2hYhB50gAw",
        "outputId": "3adad2d4-5331-4bb2-b0d7-5410f4e8eaf3",
        "colab": {
          "base_uri": "https://localhost:8080/",
          "height": 254
        }
      },
      "outputs": [
        {
          "output_type": "stream",
          "name": "stdout",
          "text": [
            "Spark NLP Version : 5.0.2\n",
            "Spark NLP_JSL Version : 5.0.2\n"
          ]
        },
        {
          "output_type": "execute_result",
          "data": {
            "text/plain": [
              "<pyspark.sql.session.SparkSession at 0x7f7942cb3f70>"
            ],
            "text/html": [
              "\n",
              "            <div>\n",
              "                <p><b>SparkSession - in-memory</b></p>\n",
              "                \n",
              "        <div>\n",
              "            <p><b>SparkContext</b></p>\n",
              "\n",
              "            <p><a href=\"http://dff9773f86d6:4040\">Spark UI</a></p>\n",
              "\n",
              "            <dl>\n",
              "              <dt>Version</dt>\n",
              "                <dd><code>v3.1.2</code></dd>\n",
              "              <dt>Master</dt>\n",
              "                <dd><code>local[*]</code></dd>\n",
              "              <dt>AppName</dt>\n",
              "                <dd><code>Spark NLP Licensed</code></dd>\n",
              "            </dl>\n",
              "        </div>\n",
              "        \n",
              "            </div>\n",
              "        "
            ]
          },
          "metadata": {},
          "execution_count": 3
        }
      ],
      "source": [
        "import sparknlp\n",
        "import sparknlp_jsl\n",
        "\n",
        "from sparknlp.base import *\n",
        "from sparknlp.annotator import *\n",
        "from sparknlp_jsl.annotator import *\n",
        "\n",
        "from pyspark.sql import SparkSession\n",
        "from pyspark.sql import functions as F\n",
        "from pyspark.ml import Pipeline,PipelineModel\n",
        "from pyspark.sql.types import StringType, IntegerType\n",
        "\n",
        "import pandas as pd\n",
        "pd.set_option('display.max_colwidth', 200)\n",
        "\n",
        "import warnings\n",
        "warnings.filterwarnings('ignore')\n",
        "\n",
        "params = {\"spark.driver.memory\":\"16G\",\n",
        "          \"spark.kryoserializer.buffer.max\":\"2000M\",\n",
        "          \"spark.driver.maxResultSize\":\"2000M\"}\n",
        "\n",
        "spark = sparknlp_jsl.start(license_keys['SECRET'],params=params)\n",
        "\n",
        "print(\"Spark NLP Version :\", sparknlp.version())\n",
        "print(\"Spark NLP_JSL Version :\", sparknlp_jsl.version())\n",
        "\n",
        "spark"
      ]
    },
    {
      "cell_type": "markdown",
      "metadata": {
        "id": "ELr5bVqXdDFt"
      },
      "source": [
        "# **multiclassifierdl_hoc**\n",
        "\n",
        "\n",
        "\n"
      ]
    },
    {
      "cell_type": "code",
      "execution_count": 4,
      "metadata": {
        "id": "gIUWeolKFjZe"
      },
      "outputs": [],
      "source": [
        "text_list = [\n",
        "\n",
        "\"\"\"Ghrelin was identified in the stomach as an endogenous ligand specific for the growth hormone secretagogue receptor ( GHS-R ) . GHS-R is found in various tissues , but its function is unknown . Here we show that GHS-R is found in hepatoma cells . Exposure of these cells to ghrelin caused up-regulation of several insulin-induced activities including tyrosine phosphorylation of insulin receptor substrate-1 ( IRS-1 ) , association of the adapter molecule growth factor receptor-bound protein 2 with IRS-1 , mitogen-activated protein kinase activity , and cell proliferation . Unlike insulin , ghrelin inhibited Akt kinase activity as well as up-regulated gluconeogenesis . These findings raise the possibility that ghrelin modulates insulin activities in humans .\"\"\",\n",
        "\n",
        "\"\"\"Clones of mortal chicken fibroblasts and erythroblasts transformed by temperature-sensitive v-src and v-erb B oncoproteins have been developed into immortal cell lines that retain the conditional transformed phenotype . The expressions of two tumor suppressor genes , the retinoblastoma ( Rb ) gene and the p53 gene , were investigated during senescence , crisis , and cell line establishment . In temperature-sensitive ( ts)-v-erb B erythroblasts and ts-v-src fibroblasts ( as well as in v-myc macrophages ) , loss of p53 mRNA or expression of a mutated p53 gene invariably occurred in the early phase of immortalization . In contrast , expression of the Rb gene was unchanged at all stages of immortalization . Inactivation of the original temperature-sensitive oncogene led to loss of the transformed phenotype in fibroblasts and to differentiation in erythroblasts , even in lines that were immortal and lacked p53 . The results demonstrate that the process of immortalization is distinct from cell transformation , probably requiring different mutational events \"\"\",\n",
        "\n",
        "\"\"\"The immune system has an important role in tumor appearance and spreading . One of the most efficient subpopulations of cytotoxic cells in the destruction of tumors are NK cells . NK cells are activated and increase their cytotoxic potential and modulate their cytokine production after treatment with IFNgamma , IL-12 , TNFalpha and IL-2 . The investigation of the activity of NK cells was performed on peripheral blood lymphocytes ( PBL ) of 16 healthy controls and of 40 patients with metastatic breast carcinoma . Modulation of NK cells was performed with IL-2 , IL-7 , IL-12 , TNFalpha , monoclonal antibodies ( mAb ) for TNFalpha and TNFalpha receptors type I and II , as well as with sera of healthy controls and patients with breast cancer in different clinical stages . Modulating effect of the applied factors after in vitro treatment of PBL was evaluated by the cytotoxic assay using 51chromium . Our results indicate that IL-2 significantly increased the activity of NK cells of controls and breast cancer patients . The sera of patients with advanced breast cancer significantly reduced NK cell activity . IL-7 , IL-12 and mAb for TNFalpha do not significantly change the activity of NK cells . The presence of anti-TNFalpha mAb did not change the inhibitory effect of the sera of breast cancer patients with advanced disease on the activity of NK cells of controls and patients with breast cancer . Blocking of TNFalpha Rcs with mAbs decrease the reactivity of NK cells for IL-2 . The treatment of breast cancer patients with advanced clinical stage of breast cancer with IL-2 , as an additional therapy , could be advantageous , as NK cells after this treatment increase their cytotoxic activity against tumor cells and can improve therapeutical results \"\"\",\n",
        "\n",
        "\"\"\"Many human cellular and tissue compartments are supersaturated with respect to calcium oxyanion salts . In order to prevent the formation of injurious crystals efficient anti-crystallization protective mechanisms must be necessary . We suggest that depletion of such systems , particularly in ageing organisms and under conditions of oxidative stress , plays an important role in degenerative and inflammatory diseases , including cancer .\"\"\"\n",
        "\n",
        "\"\"\"BACKGROUND Matrix metalloproteinases ( MMP ) are a gene family of zinc enzymes capable of degrading almost all of the extracellular matrix macromolecules in vivo . Their enzymic activities are believed to be responsible for tumor invasion and metastasis . METHODS In this study , using peroxidase-antiperoxidase method , monospecific antisera against MMP-1 ( tissue collagenase ) , MMP-2 ( type IV collagenase/72-kilodalton [ KD ] gelatinase ) , and MMP-3 ( stromelysin ) were applied to 29 squamous cell carcinomas and normal epithelium of the esophagus to identify cells synthesizing and secreting these enzymes . RESULTS Immunoreactivity of MMP-1 , -2 , and -3 was observed in small cancer nests of the deeply invasive or marginal portion of the tumor . Among the 29 patients studied , the presence of at least one MMP was observed in 17 ( 58.6% ) . All three enzymes were observed in six ( 20.6% ) patients , MMP-2 and -3 in five ( 17.2% ) patients , only MMP-2 in three ( 10.3% ) patients , and MMP-3 alone in three ( 10.3% ) patients . There was a good correlation among histologic stage and tumor invasion , lymph node metastasis , and MMP expression . In particular , expression of MMP-2 and -3 was closely related to lymph node metastasis and vascular invasion . CONCLUSIONS These results suggest that MMP , especially MMP-2 and -3 , play an important role in tumor invasion and metastasis and that analysis of MMP-2 and -3 production is useful for evaluation of malignant potential in esophageal carcinoma. \"\"\",\n",
        "\n",
        "\"\"\"A number of cancer chemotherapeutic drugs designed to have cytotoxic actions on tumor cells have recently been shown to also have antiangiogenic activities . Endothelial cell migration and proliferation are key components of tumor angiogenesis , and agents that target the microtubule cytoskeleton can interfere with these processes . In this study , the effect on endothelial cell functions of the microtubule-stabilizing drugs Taxotere and Taxol were evaluated in three in vitro assays : a chemokinetic migration assay , an angiogenesis factor-mediated chemotactic migration assay , and a three-dimensional Matrigel tubule formation assay , using rat fat pad endothelial cells ( RFPECs ) and/or human umbilical vein endothelial cells ( HUVECs ) . Taxotere was active in all three assays at concentrations that were not cytotoxic and did not inhibit endothelial cell proliferation . In the RFPEC chemokinetic migration and in vitro tubule formation assays , the IC50 values were approximately 10(-9) M for both Taxotere and Taxol . HUVEC migration , however , was more sensitive to Taxotere , with an observed IC50 of 10(-12) M in a chemokinetic assay . In a Boyden chamber assay , HUVEC chemotaxis stimulated by either of two angiogenic factors , thymidine phosphorylase or vascular endothelial growth factor , was inhibited by Taxotere with an IC50 of 10(-11) M and was ablated at 10(-9) M. Taxotere was also up to 1000-fold more potent than Taxol in inhibiting either chemokinetic or chemotactic migration . When the microtubule cytoskeleton was visualized using immunofluorescence staining of alpha-tubulin , there were no gross morphological changes observed in HUVECs or RFPECs treated with Taxotere at concentrations that inhibited endothelial cell migration but not proliferation . The effects of Taxotere on migration were associated with a reduction in the reorientation of the cell's centrosome , at concentrations that did not affect gross microtubule morphology or proliferation . Reorientation of the centrosome , which acts as the microtubule organizing center , in the intended direction of movement is a critical early step in the stabilization of directed cell migration . These data indicate that endothelial cell migration correlates more closely with changes in microtubule plasticity than with microtubule gross structure . The antiangiogenic activity of Taxotere in vivo was assessed in a Matrigel plug assay . In this assay , the angiogenic response to fibroblast growth factor 2 was inhibited in vivo by Taxotere with an ID50 of 5.4 mg/kg when injected twice weekly over a 14-day period , and angiogenesis was completely blocked in mice that received 10 mg/kg Taxotere . The in vivo data further suggested that Taxotere had selectivity for endothelial cell migration and/or microvessel formation because infiltration of inflammatory cells into the Matrigel plug was much less sensitive to inhibition by Taxotere . In conclusion , Taxotere is a potent and potentially specific inhibitor of endothelial cell migration in vitro and angiogenesis in vitro and in vivo .\"\"\",\n",
        "\n",
        "\"\"\"Ataxia-telangiectasia mutated ( ATM ) is a high molecular weight protein serine/threonine kinase that plays a central role in the maintenance of genomic integrity by activating cell cycle checkpoints and promoting repair of DNA double-strand breaks . Little is known about the regulatory mechanisms for ATM expression itself . MicroRNAs are naturally existing regulators that modulate gene expression in a sequence-specific manner . Here , we show that a human microRNA , miR-421 , suppresses ATM expression by targeting the 3'-untranslated region ( 3'UTR ) of ATM transcripts . Ectopic expression of miR-421 resulted in S-phase cell cycle checkpoint changes and an increased sensitivity to ionizing radiation , creating a cellular phenotype similar to that of cells derived from ataxia-telangiectasia ( A-T ) patients . Blocking the interaction between miR-421 and ATM 3'UTR with an antisense morpholino oligonucleotide rescued the defective phenotype caused by miR-421 overexpression , indicating that ATM mediates the effect of miR-421 on cell cycle checkpoint and radiosensitivity . Overexpression of the N-Myc transcription factor , an oncogene frequently amplified in neuroblastoma , induced miR-421 expression , which , in turn , down-regulated ATM expression , establishing a linear signaling pathway that may contribute to N-Myc-induced tumorigenesis in neuroblastoma . Taken together , our findings implicate a previously undescribed regulatory mechanism for ATM expression and ATM-dependent DNA damage response and provide several potential targets for treating neuroblastoma and perhaps A-T .\"\"\",\n",
        "\n",
        "\"\"\"PTEN loss of function enhances proliferation , but effects on cellular energy metabolism are less well characterized . We used an inducible PTEN expression vector in a PTEN-null glioma cell line to examine this issue . While proliferation of PTEN-positive cells was insensitive to increases in glucose concentration beyond 2.5mM , PTEN-null cells significantly increased proliferation with increasing glucose concentration across the normal physiologic range to approximately 10mM , coinciding with a shift to glycolysis and \"\" glucose addiction \"\" . This demonstrates that the impact of loss of function of PTEN is modified by glucose concentration , and may be relevant to epidemiologic results linking hyperglycemia to cancer risk and cancer mortality .\"\"\"\n",
        "]"
      ]
    },
    {
      "cell_type": "code",
      "source": [
        "document_assembler = DocumentAssembler()\\\n",
        "    .setInputCol(\"text\")\\\n",
        "    .setOutputCol(\"document\")\n",
        "\n",
        "tokenizer = Tokenizer()\\\n",
        "    .setInputCols([\"document\"])\\\n",
        "    .setOutputCol(\"token\")\n",
        "\n",
        "word_embeddings = WordEmbeddingsModel.pretrained(\"embeddings_clinical\", \"en\", \"clinical/models\")\\\n",
        "    .setInputCols([\"document\", \"token\"])\\\n",
        "    .setOutputCol(\"word_embeddings\")\n",
        "\n",
        "sentence_embeddings = SentenceEmbeddings()\\\n",
        "    .setInputCols([\"document\", \"word_embeddings\"])\\\n",
        "    .setOutputCol(\"sentence_embeddings\")\\\n",
        "    .setPoolingStrategy(\"AVERAGE\")\n",
        "\n",
        "multi_classifier_dl = MultiClassifierDLModel.pretrained(\"multiclassifierdl_hoc\", \"en\", \"clinical/models\")\\\n",
        "    .setInputCols([\"sentence_embeddings\"])\\\n",
        "    .setOutputCol(\"class\")\n",
        "\n",
        "pipeline = Pipeline(\n",
        "    stages = [\n",
        "        document_assembler,\n",
        "        tokenizer,\n",
        "        word_embeddings,\n",
        "        sentence_embeddings,\n",
        "        multi_classifier_dl\n",
        "    ])\n",
        "\n",
        "\n",
        "pipeline_model = pipeline.fit(spark.createDataFrame([[\"\"]]).toDF(\"text\"))\n",
        "light_model = LightPipeline(pipeline_model)\n"
      ],
      "metadata": {
        "id": "xE_o69860p6U",
        "outputId": "d6eaad85-cee6-4909-f1d0-7873422bc123",
        "colab": {
          "base_uri": "https://localhost:8080/"
        }
      },
      "execution_count": 5,
      "outputs": [
        {
          "output_type": "stream",
          "name": "stdout",
          "text": [
            "embeddings_clinical download started this may take some time.\n",
            "Approximate size to download 1.6 GB\n",
            "[OK!]\n",
            "multiclassifierdl_hoc download started this may take some time.\n",
            "Approximate size to download 11.2 MB\n",
            "[OK!]\n"
          ]
        }
      ]
    },
    {
      "cell_type": "code",
      "source": [
        "df = spark.createDataFrame(pd.DataFrame({\"text\" : text_list}))\n",
        "\n",
        "result = pipeline_model.transform(df)"
      ],
      "metadata": {
        "id": "pAZruv_Q01-J"
      },
      "execution_count": 6,
      "outputs": []
    },
    {
      "cell_type": "code",
      "source": [
        "x = result.select(\"document.result\", \"class.result\")\n",
        "df = x.toDF('text', 'class')\n",
        "df.show(truncate=100)"
      ],
      "metadata": {
        "id": "ZizTzmlN1KcI",
        "outputId": "d6d57ba5-e465-4fb3-bf8b-ada9eaed19f1",
        "colab": {
          "base_uri": "https://localhost:8080/"
        }
      },
      "execution_count": 7,
      "outputs": [
        {
          "output_type": "stream",
          "name": "stdout",
          "text": [
            "+----------------------------------------------------------------------------------------------------+------------------------------------------------------------------------------------------------+\n",
            "|                                                                                                text|                                                                                           class|\n",
            "+----------------------------------------------------------------------------------------------------+------------------------------------------------------------------------------------------------+\n",
            "|[Ghrelin was identified in the stomach as an endogenous ligand specific for the growth hormone se...|                                                            [Sustaining_Proliferative_Signaling]|\n",
            "|[Clones of mortal chicken fibroblasts and erythroblasts transformed by temperature-sensitive v-sr...|[Genomic_Instability_And_Mutation, Evading_Growth_Suppressors, Enabling_Replicative_Immortality]|\n",
            "|[The immune system has an important role in tumor appearance and spreading . One of the most effi...|                                                                   [Avoiding_Immune_Destruction]|\n",
            "|[Many human cellular and tissue compartments are supersaturated with respect to calcium oxyanion ...|                              [Activating_Invasion_And_Metastasis, Tumor_Promoting_Inflammation]|\n",
            "|[A number of cancer chemotherapeutic drugs designed to have cytotoxic actions on tumor cells have...|                                                                         [Inducing_Angiogenesis]|\n",
            "|[Ataxia-telangiectasia mutated ( ATM ) is a high molecular weight protein serine/threonine kinase...|                                  [Genomic_Instability_And_Mutation, Evading_Growth_Suppressors]|\n",
            "|[PTEN loss of function enhances proliferation , but effects on cellular energy metabolism are les...|                                                                           [Cellular_Energetics]|\n",
            "+----------------------------------------------------------------------------------------------------+------------------------------------------------------------------------------------------------+\n",
            "\n"
          ]
        }
      ]
    },
    {
      "cell_type": "code",
      "source": [],
      "metadata": {
        "id": "-_ub1OCx26jC"
      },
      "execution_count": null,
      "outputs": []
    }
  ],
  "metadata": {
    "accelerator": "GPU",
    "colab": {
      "machine_shape": "hm",
      "provenance": [],
      "gpuClass": "premium"
    },
    "gpuClass": "premium",
    "kernelspec": {
      "display_name": "Python 3.10.7 64-bit",
      "language": "python",
      "name": "python3"
    },
    "language_info": {
      "codemirror_mode": {
        "name": "ipython",
        "version": 3
      },
      "file_extension": ".py",
      "mimetype": "text/x-python",
      "name": "python",
      "nbconvert_exporter": "python",
      "pygments_lexer": "ipython3",
      "version": "3.10.7"
    },
    "vscode": {
      "interpreter": {
        "hash": "369f2c481f4da34e4445cda3fffd2e751bd1c4d706f27375911949ba6bb62e1c"
      }
    }
  },
  "nbformat": 4,
  "nbformat_minor": 0
}
{
  "cells": [
    {
      "cell_type": "markdown",
      "metadata": {
        "id": "fRYYaO_qzHaS"
      },
      "source": [
        "\n",
        "\n",
        "![JohnSnowLabs](https://nlp.johnsnowlabs.com/assets/images/logo.png)\n",
        "\n",
        "[![Open In Colab](https://colab.research.google.com/assets/colab-badge.svg)](https://colab.research.google.com/github/JohnSnowLabs/spark-nlp-workshop/blob/master/tutorials/streamlit_notebooks/healthcare/CLASSIFICATION_BIOMARKER.ipynb)\n"
      ]
    },
    {
      "cell_type": "markdown",
      "metadata": {
        "id": "EZR7sQ1JzHaY"
      },
      "source": [
        "# Bert For Sequence Classification (Biomarker)\n",
        "\n",
        "This model is a sentence classification system based on `BioBERT` that is capable of identifying if clinical sentences contain terms associated with biomarkers.\n",
        "\n",
        "| Label | Meaning                                 |\n",
        "|-------|-----------------------------------------|\n",
        "| 1     | Contains biomarker related terms        |\n",
        "| 0     | Doesn't contain biomarker related terms |\n",
        "\n",
        "-----------------\n",
        "\n",
        "> 📌To run this yourself, you will need to upload your license keys to the notebook. Just Run The Cell Below in order to do that. Also You can open the file explorer on the left side of the screen and upload `license_keys.json` to the folder that opens. Otherwise, you can look at the example outputs at the bottom of the notebook."
      ]
    },
    {
      "cell_type": "markdown",
      "metadata": {
        "id": "9wbsIVyvzHaY"
      },
      "source": [
        "## 🔧1. Colab Setup\n",
        "\n",
        "- Import License Keys"
      ]
    },
    {
      "cell_type": "code",
      "execution_count": null,
      "metadata": {
        "id": "IP6XHxJhzHaZ"
      },
      "outputs": [],
      "source": [
        "import json, os\n",
        "from google.colab import files\n",
        "\n",
        "if 'spark_jsl.json' not in os.listdir():\n",
        "  license_keys = files.upload()\n",
        "  os.rename(list(license_keys.keys())[0], 'spark_jsl.json')\n",
        "\n",
        "with open('spark_jsl.json') as f:\n",
        "    license_keys = json.load(f)\n",
        "\n",
        "# Defining license key-value pairs as local variables\n",
        "locals().update(license_keys)\n",
        "os.environ.update(license_keys)"
      ]
    },
    {
      "cell_type": "code",
      "execution_count": null,
      "metadata": {
        "id": "Jm-1e5cTzHaa"
      },
      "outputs": [],
      "source": [
        "# Installing pyspark and spark-nlp\n",
        "! pip install --upgrade -q pyspark==3.1.2 spark-nlp==$PUBLIC_VERSION\n",
        "\n",
        "# Installing Spark NLP Healthcare\n",
        "! pip install --upgrade -q spark-nlp-jsl==$JSL_VERSION  --extra-index-url https://pypi.johnsnowlabs.com/$SECRET\n",
        "\n",
        "# Installing Spark NLP Display Library for visualization\n",
        "! pip install -q spark-nlp-display"
      ]
    },
    {
      "cell_type": "code",
      "execution_count": 3,
      "metadata": {
        "colab": {
          "base_uri": "https://localhost:8080/",
          "height": 254
        },
        "id": "5dmZH68rzHaa",
        "outputId": "e450a2af-33fe-489f-ec24-491f3b8a2225"
      },
      "outputs": [
        {
          "name": "stdout",
          "output_type": "stream",
          "text": [
            "Spark NLP Version : 5.2.2\n",
            "Spark NLP_JSL Version : 5.2.1\n"
          ]
        },
        {
          "data": {
            "text/html": [
              "\n",
              "            <div>\n",
              "                <p><b>SparkSession - in-memory</b></p>\n",
              "                \n",
              "        <div>\n",
              "            <p><b>SparkContext</b></p>\n",
              "\n",
              "            <p><a href=\"http://b35d6c36c432:4040\">Spark UI</a></p>\n",
              "\n",
              "            <dl>\n",
              "              <dt>Version</dt>\n",
              "                <dd><code>v3.1.2</code></dd>\n",
              "              <dt>Master</dt>\n",
              "                <dd><code>local[*]</code></dd>\n",
              "              <dt>AppName</dt>\n",
              "                <dd><code>Spark NLP Licensed</code></dd>\n",
              "            </dl>\n",
              "        </div>\n",
              "        \n",
              "            </div>\n",
              "        "
            ],
            "text/plain": [
              "<pyspark.sql.session.SparkSession at 0x7f74787e3010>"
            ]
          },
          "execution_count": 3,
          "metadata": {},
          "output_type": "execute_result"
        }
      ],
      "source": [
        "import sparknlp\n",
        "import sparknlp_jsl\n",
        "\n",
        "from sparknlp.base import *\n",
        "from sparknlp.annotator import *\n",
        "from sparknlp_jsl.annotator import *\n",
        "\n",
        "from pyspark.sql import SparkSession\n",
        "from pyspark.sql import functions as F\n",
        "from pyspark.ml import Pipeline,PipelineModel\n",
        "from pyspark.sql.types import StringType, IntegerType\n",
        "\n",
        "import pandas as pd\n",
        "pd.set_option('display.max_colwidth', 200)\n",
        "\n",
        "import warnings\n",
        "warnings.filterwarnings('ignore')\n",
        "\n",
        "params = {\"spark.driver.memory\":\"16G\",\n",
        "          \"spark.kryoserializer.buffer.max\":\"2000M\",\n",
        "          \"spark.driver.maxResultSize\":\"2000M\"}\n",
        "\n",
        "spark = sparknlp_jsl.start(license_keys['SECRET'],params=params)\n",
        "\n",
        "print(\"Spark NLP Version :\", sparknlp.version())\n",
        "print(\"Spark NLP_JSL Version :\", sparknlp_jsl.version())\n",
        "\n",
        "spark"
      ]
    },
    {
      "cell_type": "markdown",
      "metadata": {
        "id": "y7pt7eWHzHab"
      },
      "source": [
        "## 🔍2. Select the model `bert_sequence_classifier_biomarker` and construct the pipeline\n",
        "\n",
        "**🔎You can find all these models and more [NLP Models Hub](https://nlp.johnsnowlabs.com/models?edition=Spark+NLP+for+Healthcare)**"
      ]
    },
    {
      "cell_type": "code",
      "execution_count": 37,
      "metadata": {
        "colab": {
          "base_uri": "https://localhost:8080/"
        },
        "id": "D63fdCLCzHab",
        "outputId": "555cf741-fa61-4405-de62-311db190029f"
      },
      "outputs": [
        {
          "name": "stdout",
          "output_type": "stream",
          "text": [
            "sentence_detector_dl_healthcare download started this may take some time.\n",
            "Approximate size to download 367.3 KB\n",
            "[OK!]\n",
            "bert_sequence_classifier_biomarker download started this may take some time.\n",
            "[OK!]\n"
          ]
        }
      ],
      "source": [
        "document_assembler = DocumentAssembler() \\\n",
        "    .setInputCol('text') \\\n",
        "    .setOutputCol('document')\n",
        "\n",
        "sentence_detector = SentenceDetectorDLModel.pretrained(\"sentence_detector_dl_healthcare\",\"en\",\"clinical/models\") \\\n",
        "    .setInputCols([\"document\"]) \\\n",
        "    .setOutputCol(\"sentence\")\n",
        "\n",
        "tokenizer = Tokenizer() \\\n",
        "    .setInputCols(['sentence']) \\\n",
        "    .setOutputCol('token')\n",
        "\n",
        "sequenceClassifier = MedicalBertForSequenceClassification.pretrained(\"bert_sequence_classifier_biomarker\",\"en\",\"clinical/models\")\\\n",
        "    .setInputCols([\"sentence\",'token'])\\\n",
        "    .setOutputCol(\"class_\")\n",
        "\n",
        "pipeline = Pipeline(stages=[\n",
        "    document_assembler,\n",
        "    sentence_detector,\n",
        "    tokenizer,\n",
        "    sequenceClassifier\n",
        "])\n"
      ]
    },
    {
      "cell_type": "markdown",
      "metadata": {
        "id": "2ctCTsMozHac"
      },
      "source": [
        "## 📝3. Create example inputs"
      ]
    },
    {
      "cell_type": "code",
      "execution_count": 38,
      "metadata": {
        "id": "FqhYcybnzHac"
      },
      "outputs": [],
      "source": [
        "text_list = [\n",
        "    \"\"\"In the realm of cancer research, several biomarkers have emerged as crucial indicators of disease progression and treatment response.\"\"\",\n",
        "    \"\"\"For instance, the expression levels of HER2/neu, a protein receptor, have been linked to aggressive forms of breast cancer.\"\"\",\n",
        "    \"\"\"Additionally, the presence of prostate-specific antigen (PSA) is often monitored to track the progression of prostate cancer.\"\"\",\n",
        "    \"\"\"Moreover, in cardiovascular health, high-sensitivity C-reactive protein (hs-CRP) serves as a biomarker for inflammation and potential risk of heart disease.\"\"\",\n",
        "    \"\"\"Meanwhile, elevated levels of troponin T are indicative of myocardial damage, commonly observed in acute coronary syndrome.\"\"\",\n",
        "    \"\"\"In the field of diabetes management, glycated hemoglobin is a widely used to assess long-term blood sugar control.\"\"\",\n",
        "    \"\"\"Its levels reflect the average blood glucose concentration over the past two to three months, offering valuable insights into disease management strategies.\"\"\"\n",
        "]"
      ]
    },
    {
      "cell_type": "markdown",
      "metadata": {
        "id": "mlo90VvlzHac"
      },
      "source": [
        "## 🚀4. Run the pipeline to get the labels"
      ]
    },
    {
      "cell_type": "markdown",
      "metadata": {
        "id": "b7x6FRHg-M0t"
      },
      "source": [
        "| Label | Meaning                                 |\n",
        "|-------|-----------------------------------------|\n",
        "| 1     | Contains biomarker related terms        |\n",
        "| 0     | Doesn't contain biomarker related terms |\n"
      ]
    },
    {
      "cell_type": "code",
      "execution_count": 39,
      "metadata": {
        "colab": {
          "base_uri": "https://localhost:8080/"
        },
        "id": "sbH8aWAM83cP",
        "outputId": "250eb7b5-c16f-4dd0-8c65-d356bfd2b2d8"
      },
      "outputs": [
        {
          "name": "stdout",
          "output_type": "stream",
          "text": [
            "+----------+----------+------------------------------------------------------------------------------------------------------------------------------------------------------+\n",
            "|prediction|confidence|                                                                                                                                              sentence|\n",
            "+----------+----------+------------------------------------------------------------------------------------------------------------------------------------------------------+\n",
            "|         0|0.99979603|                 In the realm of cancer research, several biomarkers have emerged as crucial indicators of disease progression and treatment response.|\n",
            "|         1| 0.9732248|                           For instance, the expression levels of HER2/neu, a protein receptor, have been linked to aggressive forms of breast cancer.|\n",
            "|         1| 0.9997541|                         Additionally, the presence of prostate-specific antigen (PSA) is often monitored to track the progression of prostate cancer.|\n",
            "|         1| 0.9982574|Moreover, in cardiovascular health, high-sensitivity C-reactive protein (hs-CRP) serves as a biomarker for inflammation and potential risk of heart...|\n",
            "|         0| 0.9998871|                           Meanwhile, elevated levels of troponin T are indicative of myocardial damage, commonly observed in acute coronary syndrome.|\n",
            "|         0| 0.9999803|                                    In the field of diabetes management, glycated hemoglobin is a widely used to assess long-term blood sugar control.|\n",
            "|         0| 0.9999781|Its levels reflect the average blood glucose concentration over the past two to three months, offering valuable insights into disease management st...|\n",
            "+----------+----------+------------------------------------------------------------------------------------------------------------------------------------------------------+\n",
            "\n"
          ]
        }
      ],
      "source": [
        "df = spark.createDataFrame(text_list, StringType()).toDF(\"text\")\n",
        "results = pipeline.fit(df).transform(df)\n",
        "\n",
        "res = results.select(F.explode(F.arrays_zip(results.document.result,\n",
        "                                             results.class_.result,\n",
        "                                             results.class_.metadata)).alias(\"col\"))\\\n",
        "               .select(F.expr(\"col['1']\").alias(\"prediction\"),\n",
        "                       F.expr(\"col['2']\").alias(\"confidence\"),\n",
        "                       F.expr(\"col['0']\").alias(\"sentence\"))\n",
        "\n",
        "if res.count()>1:\n",
        "  udf_func = F.udf(lambda x,y:  x[\"Some(\"+str(y)+\")\"])\n",
        "  res.withColumn('confidence', udf_func(res.confidence, res.prediction)).show(truncate=150)"
      ]
    }
  ],
  "metadata": {
    "colab": {
      "provenance": []
    },
    "kernelspec": {
      "display_name": ".venv",
      "language": "python",
      "name": "python3"
    },
    "language_info": {
      "codemirror_mode": {
        "name": "ipython",
        "version": 3
      },
      "file_extension": ".py",
      "mimetype": "text/x-python",
      "name": "python",
      "nbconvert_exporter": "python",
      "pygments_lexer": "ipython3",
      "version": "3.7.6"
    }
  },
  "nbformat": 4,
  "nbformat_minor": 0
}

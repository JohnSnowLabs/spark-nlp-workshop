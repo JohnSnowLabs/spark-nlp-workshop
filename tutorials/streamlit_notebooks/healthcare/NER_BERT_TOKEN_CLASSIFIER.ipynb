{
  "nbformat": 4,
  "nbformat_minor": 0,
  "metadata": {
    "colab": {
      "name": "NER_BERT_TOKEN_CLASSIFIER.ipynb",
      "provenance": [],
      "collapsed_sections": []
    },
    "kernelspec": {
      "name": "python3",
      "display_name": "Python 3"
    },
    "language_info": {
      "name": "python"
    }
  },
  "cells": [
    {
      "cell_type": "markdown",
      "metadata": {
        "id": "lokVHWdvaz-W"
      },
      "source": [
        "![JohnSnowLabs](https://nlp.johnsnowlabs.com/assets/images/logo.png)\n",
        "\n",
        "[![Open In Colab](https://colab.research.google.com/assets/colab-badge.svg)](https://colab.research.google.com/github/JohnSnowLabs/spark-nlp-workshop/blob/master/tutorials/streamlit_notebooks/healthcare/NER_BERT_TOKEN_CLASSIFIER.ipynb)"
      ]
    },
    {
      "cell_type": "markdown",
      "metadata": {
        "id": "xNWy5NGZa9Qh"
      },
      "source": [
        "To run this yourself, you will need to upload your license keys to the notebook. Just Run The Cell Below in order to do that. Also You can open the file explorer on the left side of the screen and upload license_keys.json to the folder that opens. Otherwise, you can look at the example outputs at the bottom of the notebook."
      ]
    },
    {
      "cell_type": "markdown",
      "metadata": {
        "id": "U-UAcTkUbjzm"
      },
      "source": [
        "## 1. Colab Setup"
      ]
    },
    {
      "cell_type": "markdown",
      "metadata": {
        "id": "pGXPkGF0bpd6"
      },
      "source": [
        "Import license keys"
      ]
    },
    {
      "cell_type": "code",
      "metadata": {
        "id": "DS7FbXsLaptn"
      },
      "source": [
        "%%capture\n",
        "import os\n",
        "import json\n",
        "\n",
        "with open(r'/content/spark_nlp_for_healthcare.json') as f:\n",
        "    license_keys = json.load(f)\n",
        "    \n",
        "locals().update(license_keys)\n",
        "\n",
        "for k,v in license_keys.items(): \n",
        "    %set_env $k=$v"
      ],
      "execution_count": null,
      "outputs": []
    },
    {
      "cell_type": "code",
      "metadata": {
        "colab": {
          "base_uri": "https://localhost:8080/",
          "height": 35
        },
        "id": "H171UyvVb7br",
        "outputId": "78d68222-fad2-4c1e-e1d2-6c319891ddb6"
      },
      "source": [
        "license_keys['PUBLIC_VERSION']"
      ],
      "execution_count": null,
      "outputs": [
        {
          "output_type": "execute_result",
          "data": {
            "application/vnd.google.colaboratory.intrinsic+json": {
              "type": "string"
            },
            "text/plain": [
              "'3.2.3'"
            ]
          },
          "metadata": {},
          "execution_count": 2
        }
      ]
    },
    {
      "cell_type": "code",
      "metadata": {
        "id": "5GlpBHUvcWup"
      },
      "source": [
        "%%capture\n",
        "\n",
        "!wget https://raw.githubusercontent.com/JohnSnowLabs/spark-nlp-workshop/master/jsl_colab_setup.sh\n",
        "!bash jsl_colab_setup.sh"
      ],
      "execution_count": null,
      "outputs": []
    },
    {
      "cell_type": "code",
      "metadata": {
        "id": "3Ytzw_HUcZM_"
      },
      "source": [
        "import os \n",
        "\n",
        "os.environ[\"SPARK_NLP_LICENSE\"] = SPARK_NLP_LICENSE    \n",
        "os.environ[\"SECRET\"] = SECRET\n",
        "os.environ[\"AWS_ACCESS_KEY_ID\"] = AWS_ACCESS_KEY_ID     \n",
        "os.environ[\"AWS_SECRET_ACCESS_KEY\"] = AWS_SECRET_ACCESS_KEY"
      ],
      "execution_count": null,
      "outputs": []
    },
    {
      "cell_type": "code",
      "metadata": {
        "id": "t7dc0LUDccIq"
      },
      "source": [
        "%%capture\n",
        "! pip install --upgrade spark-nlp==$PUBLIC_VERSION findspark\n",
        "! pip install --upgrade spark-nlp-jsl==$JSL_VERSION  --extra-index-url https://pypi.johnsnowlabs.com/$SECRET\n",
        "! pip install --ignore-installed spark-nlp-display"
      ],
      "execution_count": null,
      "outputs": []
    },
    {
      "cell_type": "code",
      "metadata": {
        "colab": {
          "base_uri": "https://localhost:8080/"
        },
        "id": "1k1zBYWVcnOu",
        "outputId": "54344734-9dad-4511-f939-be2bb0881629"
      },
      "source": [
        "# Install java\n",
        "! sudo apt-get install -y openjdk-8-jdk-headless -qq > /dev/null\n",
        "! java -version\n",
        "\n",
        "os.environ['JAVA_HOME'] = \"/usr/lib/jvm/java-8-openjdk-amd64\"\n",
        "os.environ['PATH'] = os.environ['JAVA_HOME'] + \"/bin:\" + os.environ['PATH']"
      ],
      "execution_count": null,
      "outputs": [
        {
          "output_type": "stream",
          "name": "stdout",
          "text": [
            "openjdk version \"1.8.0_292\"\n",
            "OpenJDK Runtime Environment (build 1.8.0_292-8u292-b10-0ubuntu1~18.04-b10)\n",
            "OpenJDK 64-Bit Server VM (build 25.292-b10, mixed mode)\n"
          ]
        }
      ]
    },
    {
      "cell_type": "code",
      "metadata": {
        "colab": {
          "base_uri": "https://localhost:8080/"
        },
        "id": "emQDF6lDc33M",
        "outputId": "9868fc66-268d-439c-8957-6513c9a7c93e"
      },
      "source": [
        "import sparknlp\n",
        "\n",
        "print (f\"sparknlp version: {sparknlp.version()}\")\n",
        "import pandas as pd\n",
        "import json\n",
        "import os\n",
        "from pyspark.ml import Pipeline\n",
        "from pyspark.sql import SparkSession\n",
        "\n",
        "from sparknlp.annotator import *\n",
        "\n",
        "from sparknlp.base import *\n",
        "import pyspark.sql.functions as F\n",
        "\n",
        "# import internal package\n",
        "import sparknlp_jsl\n",
        "from sparknlp_jsl.annotator import *\n",
        "\n",
        "print (f\"sparknlp-jsl version: {sparknlp.version()}\")\n",
        "\n",
        "spark = sparknlp_jsl.start(license_keys['SECRET'])"
      ],
      "execution_count": null,
      "outputs": [
        {
          "output_type": "stream",
          "name": "stdout",
          "text": [
            "sparknlp version: 3.3.0\n",
            "sparknlp-jsl version: 3.3.0\n"
          ]
        }
      ]
    },
    {
      "cell_type": "markdown",
      "metadata": {
        "id": "zRoqgg0yjPuO"
      },
      "source": [
        "## 2. Create example inputs"
      ]
    },
    {
      "cell_type": "code",
      "metadata": {
        "id": "hPv_x3Ssc6EG"
      },
      "source": [
        "text_list_jsl = [\n",
        "             \"\"\"The patient is a 30-year-old female with a long history of insulin dependent diabetes, type 2; coronary artery disease; chronic renal insufficiency; peripheral vascular disease, also secondary to diabetes; who was originally admitted to an outside hospital for what appeared to be acute paraplegia, lower extremities. She did receive a course of Bactrim for 14 days for UTI. Evidently, at some point in time, the patient was noted to develop a pressure-type wound on the sole of her left foot and left great toe. She was also noted to have a large sacral wound; this is in a similar location with her previous laminectomy, and this continues to receive daily care. The patient was transferred secondary to inability to participate in full physical and occupational therapy and continue medical management of her diabetes, the sacral decubitus, left foot pressure wound, and associated complications of diabetes. She is given Fragmin 5000 units subcutaneously daily, Xenaderm to wounds topically b.i.d., Lantus 40 units subcutaneously at bedtime, OxyContin 30 mg p.o. q.12 h., folic acid 1 mg daily, levothyroxine 0.1 mg p.o. daily, Prevacid 30 mg daily, Avandia 4 mg daily, Norvasc 10 mg daily, Lexapro 20 mg daily, aspirin 81 mg daily, Senna 2 tablets p.o. q.a.m., Neurontin 400 mg p.o. t.i.d., Percocet 5/325 mg 2 tablets q.4 h. p.r.n., magnesium citrate 1 bottle p.o. p.r.n., sliding scale coverage insulin, Wellbutrin 100 mg p.o. daily, and Bactrim DS b.i.d.\"\"\"]"
      ],
      "execution_count": null,
      "outputs": []
    },
    {
      "cell_type": "code",
      "metadata": {
        "id": "schwjlMDh4sY"
      },
      "source": [
        "text_list_drug = [\n",
        "    \"The human KCNJ9 (Kir 3.3, GIRK3) is a member of the G-protein-activated inwardly rectifying potassium (GIRK) channel family. Here we describe the genomic organization of the KCNJ9 locus on chromosome 1q21-23 as a candidate gene for type II diabetes mellitus in the Pima Indian population. The gene spans approximately 7.6 kb and contains one noncoding and two coding exons separated by approximately 2.2 and approximately 2.6 kb introns, respectively. We identified14 single nucleotide polymorphisms (SNPs), including one that predicts aVal366Ala substitution, and an 8 base-pair (bp) insertion/deletion. Our expression studies revealed the presence of the transcript in various human tissues including the pancreas, and two major insulin-responsive tissues: fat and skeletal muscle. The characterization of the KCNJ9 gene should facilitate further studies on the function of the KCNJ9 protein and allow evaluation of the potential role of the locus in Type II diabetes.BACKGROUND: At present, it is one of the most important issues for the treatment of breast cancer to develop the standard therapy for patients previously treated with anthracyclines and taxanes. With the objective of determining the usefulness of vinorelbine monotherapy in patients with advanced or recurrent breast cancer after standard therapy, we evaluated the efficacy and safety of vinorelbine in patients previously treated with anthracyclines and taxanes.\"]"
      ],
      "execution_count": null,
      "outputs": []
    },
    {
      "cell_type": "code",
      "metadata": {
        "id": "dQh9mkgJhnf3"
      },
      "source": [
        "text_list_deid = [\n",
        "    \"\"\"HISTORY OF PRESENT ILLNESS: Mr. Smith is a 60-year-old white male veteran with multiple comorbidities, who has a history of bladder cancer diagnosed approximately two years ago by the VA Hospital. He underwent a resection there. He was to be admitted to the Day Hospital for cystectomy. He was seen in Urology Clinic and Radiology Clinic on 02/04/2003.\n",
        "\n",
        "HOSPITAL COURSE: Mr. Smith presented to the Day Hospital in anticipation for Urology surgery. On evaluation, EKG, echocardiogram was abnormal, a Cardiology consult was obtained. A cardiac adenosine stress MRI was then proceeded, same was positive for inducible ischemia, mild-to-moderate inferolateral subendocardial infarction with peri-infarct ischemia. In addition, inducible ischemia seen in the inferior lateral septum. Mr. Smith underwent a left heart catheterization, which revealed two vessel coronary artery disease. The RCA, proximal was 95% stenosed and the distal 80% stenosed. The mid LAD was 85% stenosed and the distal LAD was 85% stenosed. There was four Multi-Link Vision bare metal stents placed to decrease all four lesions to 0%. Following intervention, Mr. Smith was admitted to 7 Ardmore Tower under Cardiology Service under the direction of Dr. Hart. Mr. Smith had a noncomplicated post-intervention hospital course. He was stable for discharge home on 02/07/2003 with instructions to take Plavix daily for one month and Urology is aware of the same.\"\"\"]"
      ],
      "execution_count": null,
      "outputs": []
    },
    {
      "cell_type": "markdown",
      "metadata": {
        "id": "ELr5bVqXdDFt"
      },
      "source": [
        "## 3. Select the NER model, construct the pipeline and visualize the results."
      ]
    },
    {
      "cell_type": "markdown",
      "metadata": {
        "id": "bRsfpYVUdMKt"
      },
      "source": [
        "Select the NER model - Models: **'bert_token_classifier_ner_jsl', 'bert_token_classifier_ner_drugs', 'bert_token_classifier_ner_deid'**\n",
        "\n",
        "For more details: https://github.com/JohnSnowLabs/spark-nlp-models#pretrained-models---spark-nlp-for-healthcare"
      ]
    },
    {
      "cell_type": "code",
      "metadata": {
        "id": "jsCbGRiiiAMN"
      },
      "source": [
        "model_list = ['bert_token_classifier_ner_jsl','bert_token_classifier_ner_drugs','bert_token_classifier_ner_deid']"
      ],
      "execution_count": null,
      "outputs": []
    },
    {
      "cell_type": "code",
      "metadata": {
        "colab": {
          "base_uri": "https://localhost:8080/",
          "height": 1000
        },
        "id": "GGYEuN5JiDhu",
        "outputId": "72dd5715-4217-4d1b-c81a-5ea81abd41f2"
      },
      "source": [
        "from sparknlp_display import NerVisualizer\n",
        "for MODEL_NAME in model_list:\n",
        "\n",
        "    documentAssembler = DocumentAssembler()\\\n",
        "      .setInputCol(\"text\")\\\n",
        "      .setOutputCol(\"document\")\n",
        "\n",
        "    sentenceDetector = SentenceDetectorDLModel.pretrained() \\\n",
        "          .setInputCols([\"document\"]) \\\n",
        "          .setOutputCol(\"sentence\") \n",
        "\n",
        "    tokenizer = Tokenizer()\\\n",
        "      .setInputCols(\"sentence\")\\\n",
        "      .setOutputCol(\"token\")\n",
        "      \n",
        "    tokenClassifier = BertForTokenClassification.pretrained( MODEL_NAME, \"en\", 'clinical/models')\\\n",
        "      .setInputCols(\"sentence\",\"token\")\\\n",
        "      .setOutputCol(\"ner\")\\\n",
        "      .setCaseSensitive(True)\n",
        "\n",
        "    ner_converter = NerConverter()\\\n",
        "      .setInputCols([\"sentence\",\"token\",\"ner\"])\\\n",
        "      .setOutputCol(\"ner_chunk\")\n",
        "\n",
        "    pipeline =  Pipeline(stages=[documentAssembler,sentenceDetector, tokenizer, tokenClassifier, ner_converter])\n",
        "    pipelineModel = pipeline.fit(spark.createDataFrame([['']]).toDF(\"text\"))\n",
        "    \n",
        "    if MODEL_NAME == \"bert_token_classifier_ner_jsl\":\n",
        "      df = spark.createDataFrame(pd.DataFrame({\"text\": text_list_jsl}))\n",
        "    elif MODEL_NAME == \"bert_token_classifier_ner_drugs\":\n",
        "      df = spark.createDataFrame(pd.DataFrame({\"text\": text_list_drug}))\n",
        "    elif MODEL_NAME == \"bert_token_classifier_ner_deid\":\n",
        "      df = spark.createDataFrame(pd.DataFrame({\"text\": text_list_deid}))\n",
        "    print(\"<----------------- MODEL NAME:\",\"\\033[1m\" + MODEL_NAME + \"\\033[0m\",\" ----------------- >\")\n",
        "    result = pipelineModel.transform(df)\n",
        "    result.select(F.explode(F.arrays_zip('ner_chunk.result', 'ner_chunk.metadata')).alias(\"cols\")) \\\n",
        "          .select(F.expr(\"cols['0']\").alias(\"chunk\"),\n",
        "                  F.expr(\"cols['1']['entity']\").alias(\"ner_label\"))\\\n",
        "          .show(truncate=False)\n",
        "\n",
        "    NerVisualizer().display(\n",
        "        result = result.collect()[0],\n",
        "        label_col = 'ner_chunk',\n",
        "        document_col = 'document'\n",
        "    )"
      ],
      "execution_count": null,
      "outputs": [
        {
          "output_type": "stream",
          "name": "stdout",
          "text": [
            "sentence_detector_dl download started this may take some time.\n",
            "Approximate size to download 354.6 KB\n",
            "[OK!]\n",
            "bert_token_classifier_ner_jsl download started this may take some time.\n",
            "Approximate size to download 385.8 MB\n",
            "[OK!]\n",
            "<----------------- MODEL NAME: \u001b[1mbert_token_classifier_ner_jsl\u001b[0m  ----------------- >\n",
            "+---------------------------+----------------------------+\n",
            "|chunk                      |ner_label                   |\n",
            "+---------------------------+----------------------------+\n",
            "|30-year-old                |Age                         |\n",
            "|female                     |Gender                      |\n",
            "|insulin dependent          |Diabetes                    |\n",
            "|diabetes                   |Diabetes                    |\n",
            "|type 2                     |Diabetes                    |\n",
            "|coronary artery disease    |Heart_Disease               |\n",
            "|chronic renal insufficiency|Kidney_Disease              |\n",
            "|peripheral vascular disease|Disease_Syndrome_Disorder   |\n",
            "|diabetes                   |Diabetes                    |\n",
            "|admitted                   |Admission_Discharge         |\n",
            "|hospital                   |Clinical_Dept               |\n",
            "|acute                      |Modifier                    |\n",
            "|paraplegia                 |Symptom                     |\n",
            "|lower extremities          |External_body_part_or_region|\n",
            "|She                        |Gender                      |\n",
            "|Bactrim                    |Drug_BrandName              |\n",
            "|for 14 days                |Duration                    |\n",
            "|UTI                        |Disease_Syndrome_Disorder   |\n",
            "|pressure-type wound        |Symptom                     |\n",
            "|sole                       |External_body_part_or_region|\n",
            "+---------------------------+----------------------------+\n",
            "only showing top 20 rows\n",
            "\n"
          ]
        },
        {
          "output_type": "display_data",
          "data": {
            "text/html": [
              "\n",
              "<style>\n",
              "    @import url('https://fonts.googleapis.com/css2?family=Montserrat:wght@300;400;500;600;700&display=swap');\n",
              "    @import url('https://fonts.googleapis.com/css2?family=Vistol Regular:wght@300;400;500;600;700&display=swap');\n",
              "    \n",
              "    .spark-nlp-display-scroll-entities {\n",
              "        border: 1px solid #E7EDF0;\n",
              "        border-radius: 3px;\n",
              "        text-align: justify;\n",
              "        \n",
              "    }\n",
              "    .spark-nlp-display-scroll-entities span {  \n",
              "        font-size: 14px;\n",
              "        line-height: 24px;\n",
              "        color: #536B76;\n",
              "        font-family: 'Montserrat', sans-serif !important;\n",
              "    }\n",
              "    \n",
              "    .spark-nlp-display-entity-wrapper{\n",
              "    \n",
              "        display: inline-grid;\n",
              "        text-align: center;\n",
              "        border-radius: 4px;\n",
              "        margin: 0 2px 5px 2px;\n",
              "        padding: 1px\n",
              "    }\n",
              "    .spark-nlp-display-entity-name{\n",
              "        font-size: 14px;\n",
              "        line-height: 24px;\n",
              "        font-family: 'Montserrat', sans-serif !important;\n",
              "        \n",
              "        background: #f1f2f3;\n",
              "        border-width: medium;\n",
              "        text-align: center;\n",
              "        \n",
              "        font-weight: 400;\n",
              "        \n",
              "        border-radius: 5px;\n",
              "        padding: 2px 5px;\n",
              "        display: block;\n",
              "        margin: 3px 2px;\n",
              "    \n",
              "    }\n",
              "    .spark-nlp-display-entity-type{\n",
              "        font-size: 14px;\n",
              "        line-height: 24px;\n",
              "        color: #ffffff;\n",
              "        font-family: 'Montserrat', sans-serif !important;\n",
              "        \n",
              "        text-transform: uppercase;\n",
              "        \n",
              "        font-weight: 500;\n",
              "\n",
              "        display: block;\n",
              "        padding: 3px 5px;\n",
              "    }\n",
              "    \n",
              "    .spark-nlp-display-entity-resolution{\n",
              "        font-size: 14px;\n",
              "        line-height: 24px;\n",
              "        color: #ffffff;\n",
              "        font-family: 'Vistol Regular', sans-serif !important;\n",
              "        \n",
              "        text-transform: uppercase;\n",
              "        \n",
              "        font-weight: 500;\n",
              "\n",
              "        display: block;\n",
              "        padding: 3px 5px;\n",
              "    }\n",
              "    \n",
              "    .spark-nlp-display-others{\n",
              "        font-size: 14px;\n",
              "        line-height: 24px;\n",
              "        font-family: 'Montserrat', sans-serif !important;\n",
              "        \n",
              "        font-weight: 400;\n",
              "    }\n",
              "\n",
              "</style>\n",
              " <span class=\"spark-nlp-display-others\" style=\"background-color: white\">The patient is a </span><span class=\"spark-nlp-display-entity-wrapper\" style=\"background-color: #ffe0ac\"><span class=\"spark-nlp-display-entity-name\">30-year-old </span><span class=\"spark-nlp-display-entity-type\">Age</span></span><span class=\"spark-nlp-display-others\" style=\"background-color: white\"> </span><span class=\"spark-nlp-display-entity-wrapper\" style=\"background-color: #ffacb7\"><span class=\"spark-nlp-display-entity-name\">female </span><span class=\"spark-nlp-display-entity-type\">Gender</span></span><span class=\"spark-nlp-display-others\" style=\"background-color: white\"> with a long history of </span><span class=\"spark-nlp-display-entity-wrapper\" style=\"background-color: #09BB23\"><span class=\"spark-nlp-display-entity-name\">insulin dependent </span><span class=\"spark-nlp-display-entity-type\">Diabetes</span></span><span class=\"spark-nlp-display-others\" style=\"background-color: white\"> </span><span class=\"spark-nlp-display-entity-wrapper\" style=\"background-color: #09BB23\"><span class=\"spark-nlp-display-entity-name\">diabetes </span><span class=\"spark-nlp-display-entity-type\">Diabetes</span></span><span class=\"spark-nlp-display-others\" style=\"background-color: white\">, </span><span class=\"spark-nlp-display-entity-wrapper\" style=\"background-color: #09BB23\"><span class=\"spark-nlp-display-entity-name\">type 2 </span><span class=\"spark-nlp-display-entity-type\">Diabetes</span></span><span class=\"spark-nlp-display-others\" style=\"background-color: white\">; </span><span class=\"spark-nlp-display-entity-wrapper\" style=\"background-color: #B1806A\"><span class=\"spark-nlp-display-entity-name\">coronary artery disease </span><span class=\"spark-nlp-display-entity-type\">Heart_Disease</span></span><span class=\"spark-nlp-display-others\" style=\"background-color: white\">; </span><span class=\"spark-nlp-display-entity-wrapper\" style=\"background-color: #0AC085\"><span class=\"spark-nlp-display-entity-name\">chronic renal insufficiency </span><span class=\"spark-nlp-display-entity-type\">Kidney_Disease</span></span><span class=\"spark-nlp-display-others\" style=\"background-color: white\">; </span><span class=\"spark-nlp-display-entity-wrapper\" style=\"background-color: #095D27\"><span class=\"spark-nlp-display-entity-name\">peripheral vascular disease </span><span class=\"spark-nlp-display-entity-type\">Disease_Syndrome_Disorder</span></span><span class=\"spark-nlp-display-others\" style=\"background-color: white\">, also secondary to </span><span class=\"spark-nlp-display-entity-wrapper\" style=\"background-color: #09BB23\"><span class=\"spark-nlp-display-entity-name\">diabetes </span><span class=\"spark-nlp-display-entity-type\">Diabetes</span></span><span class=\"spark-nlp-display-others\" style=\"background-color: white\">; who was originally </span><span class=\"spark-nlp-display-entity-wrapper\" style=\"background-color: #C5AA41\"><span class=\"spark-nlp-display-entity-name\">admitted </span><span class=\"spark-nlp-display-entity-type\">Admission_Discharge</span></span><span class=\"spark-nlp-display-others\" style=\"background-color: white\"> to an outside </span><span class=\"spark-nlp-display-entity-wrapper\" style=\"background-color: #692F84\"><span class=\"spark-nlp-display-entity-name\">hospital </span><span class=\"spark-nlp-display-entity-type\">Clinical_Dept</span></span><span class=\"spark-nlp-display-others\" style=\"background-color: white\"> for what appeared to be </span><span class=\"spark-nlp-display-entity-wrapper\" style=\"background-color: #8B475D\"><span class=\"spark-nlp-display-entity-name\">acute </span><span class=\"spark-nlp-display-entity-type\">Modifier</span></span><span class=\"spark-nlp-display-others\" style=\"background-color: white\"> </span><span class=\"spark-nlp-display-entity-wrapper\" style=\"background-color: #46C12E\"><span class=\"spark-nlp-display-entity-name\">paraplegia </span><span class=\"spark-nlp-display-entity-type\">Symptom</span></span><span class=\"spark-nlp-display-others\" style=\"background-color: white\">, </span><span class=\"spark-nlp-display-entity-wrapper\" style=\"background-color: #5C652E\"><span class=\"spark-nlp-display-entity-name\">lower extremities </span><span class=\"spark-nlp-display-entity-type\">External_body_part_or_region</span></span><span class=\"spark-nlp-display-others\" style=\"background-color: white\">. </span><span class=\"spark-nlp-display-entity-wrapper\" style=\"background-color: #ffacb7\"><span class=\"spark-nlp-display-entity-name\">She </span><span class=\"spark-nlp-display-entity-type\">Gender</span></span><span class=\"spark-nlp-display-others\" style=\"background-color: white\"> did receive a course of </span><span class=\"spark-nlp-display-entity-wrapper\" style=\"background-color: #3E4D1D\"><span class=\"spark-nlp-display-entity-name\">Bactrim </span><span class=\"spark-nlp-display-entity-type\">Drug_BrandName</span></span><span class=\"spark-nlp-display-others\" style=\"background-color: white\"> </span><span class=\"spark-nlp-display-entity-wrapper\" style=\"background-color: #939DAE\"><span class=\"spark-nlp-display-entity-name\">for 14 days </span><span class=\"spark-nlp-display-entity-type\">Duration</span></span><span class=\"spark-nlp-display-others\" style=\"background-color: white\"> for </span><span class=\"spark-nlp-display-entity-wrapper\" style=\"background-color: #095D27\"><span class=\"spark-nlp-display-entity-name\">UTI </span><span class=\"spark-nlp-display-entity-type\">Disease_Syndrome_Disorder</span></span><span class=\"spark-nlp-display-others\" style=\"background-color: white\">. Evidently, at some point in time, the patient was noted to develop a </span><span class=\"spark-nlp-display-entity-wrapper\" style=\"background-color: #46C12E\"><span class=\"spark-nlp-display-entity-name\">pressure-type wound </span><span class=\"spark-nlp-display-entity-type\">Symptom</span></span><span class=\"spark-nlp-display-others\" style=\"background-color: white\"> on the </span><span class=\"spark-nlp-display-entity-wrapper\" style=\"background-color: #5C652E\"><span class=\"spark-nlp-display-entity-name\">sole </span><span class=\"spark-nlp-display-entity-type\">External_body_part_or_region</span></span><span class=\"spark-nlp-display-others\" style=\"background-color: white\"> of </span><span class=\"spark-nlp-display-entity-wrapper\" style=\"background-color: #ffacb7\"><span class=\"spark-nlp-display-entity-name\">her </span><span class=\"spark-nlp-display-entity-type\">Gender</span></span><span class=\"spark-nlp-display-others\" style=\"background-color: white\"> </span><span class=\"spark-nlp-display-entity-wrapper\" style=\"background-color: #A44537\"><span class=\"spark-nlp-display-entity-name\">left </span><span class=\"spark-nlp-display-entity-type\">Direction</span></span><span class=\"spark-nlp-display-others\" style=\"background-color: white\"> </span><span class=\"spark-nlp-display-entity-wrapper\" style=\"background-color: #5C652E\"><span class=\"spark-nlp-display-entity-name\">foot </span><span class=\"spark-nlp-display-entity-type\">External_body_part_or_region</span></span><span class=\"spark-nlp-display-others\" style=\"background-color: white\"> and </span><span class=\"spark-nlp-display-entity-wrapper\" style=\"background-color: #A44537\"><span class=\"spark-nlp-display-entity-name\">left </span><span class=\"spark-nlp-display-entity-type\">Direction</span></span><span class=\"spark-nlp-display-others\" style=\"background-color: white\"> </span><span class=\"spark-nlp-display-entity-wrapper\" style=\"background-color: #5C652E\"><span class=\"spark-nlp-display-entity-name\">great toe </span><span class=\"spark-nlp-display-entity-type\">External_body_part_or_region</span></span><span class=\"spark-nlp-display-others\" style=\"background-color: white\">. </span><span class=\"spark-nlp-display-entity-wrapper\" style=\"background-color: #ffacb7\"><span class=\"spark-nlp-display-entity-name\">She </span><span class=\"spark-nlp-display-entity-type\">Gender</span></span><span class=\"spark-nlp-display-others\" style=\"background-color: white\"> was also noted to have a </span><span class=\"spark-nlp-display-entity-wrapper\" style=\"background-color: #8B475D\"><span class=\"spark-nlp-display-entity-name\">large </span><span class=\"spark-nlp-display-entity-type\">Modifier</span></span><span class=\"spark-nlp-display-others\" style=\"background-color: white\"> </span><span class=\"spark-nlp-display-entity-wrapper\" style=\"background-color: #46C12E\"><span class=\"spark-nlp-display-entity-name\">sacral wound </span><span class=\"spark-nlp-display-entity-type\">Symptom</span></span><span class=\"spark-nlp-display-others\" style=\"background-color: white\">; this is in a similar location with </span><span class=\"spark-nlp-display-entity-wrapper\" style=\"background-color: #ffacb7\"><span class=\"spark-nlp-display-entity-name\">her </span><span class=\"spark-nlp-display-entity-type\">Gender</span></span><span class=\"spark-nlp-display-others\" style=\"background-color: white\"> previous </span><span class=\"spark-nlp-display-entity-wrapper\" style=\"background-color: #C87677\"><span class=\"spark-nlp-display-entity-name\">laminectomy </span><span class=\"spark-nlp-display-entity-type\">Procedure</span></span><span class=\"spark-nlp-display-others\" style=\"background-color: white\">, and this continues to receive </span><span class=\"spark-nlp-display-entity-wrapper\" style=\"background-color: #BA6803\"><span class=\"spark-nlp-display-entity-name\">daily </span><span class=\"spark-nlp-display-entity-type\">Frequency</span></span><span class=\"spark-nlp-display-others\" style=\"background-color: white\"> care. The patient was transferred secondary to inability to participate in full physical and occupational </span><span class=\"spark-nlp-display-entity-wrapper\" style=\"background-color: #8b6673\"><span class=\"spark-nlp-display-entity-name\">therapy </span><span class=\"spark-nlp-display-entity-type\">Treatment</span></span><span class=\"spark-nlp-display-others\" style=\"background-color: white\"> and continue medical management of </span><span class=\"spark-nlp-display-entity-wrapper\" style=\"background-color: #ffacb7\"><span class=\"spark-nlp-display-entity-name\">her </span><span class=\"spark-nlp-display-entity-type\">Gender</span></span><span class=\"spark-nlp-display-others\" style=\"background-color: white\"> </span><span class=\"spark-nlp-display-entity-wrapper\" style=\"background-color: #09BB23\"><span class=\"spark-nlp-display-entity-name\">diabetes </span><span class=\"spark-nlp-display-entity-type\">Diabetes</span></span><span class=\"spark-nlp-display-others\" style=\"background-color: white\">, the </span><span class=\"spark-nlp-display-entity-wrapper\" style=\"background-color: #095D27\"><span class=\"spark-nlp-display-entity-name\">sacral decubitus </span><span class=\"spark-nlp-display-entity-type\">Disease_Syndrome_Disorder</span></span><span class=\"spark-nlp-display-others\" style=\"background-color: white\">, </span><span class=\"spark-nlp-display-entity-wrapper\" style=\"background-color: #A44537\"><span class=\"spark-nlp-display-entity-name\">left </span><span class=\"spark-nlp-display-entity-type\">Direction</span></span><span class=\"spark-nlp-display-others\" style=\"background-color: white\"> </span><span class=\"spark-nlp-display-entity-wrapper\" style=\"background-color: #46C12E\"><span class=\"spark-nlp-display-entity-name\">foot pressure wound </span><span class=\"spark-nlp-display-entity-type\">Symptom</span></span><span class=\"spark-nlp-display-others\" style=\"background-color: white\">, and associated complications of </span><span class=\"spark-nlp-display-entity-wrapper\" style=\"background-color: #09BB23\"><span class=\"spark-nlp-display-entity-name\">diabetes </span><span class=\"spark-nlp-display-entity-type\">Diabetes</span></span><span class=\"spark-nlp-display-others\" style=\"background-color: white\">. </span><span class=\"spark-nlp-display-entity-wrapper\" style=\"background-color: #ffacb7\"><span class=\"spark-nlp-display-entity-name\">She </span><span class=\"spark-nlp-display-entity-type\">Gender</span></span><span class=\"spark-nlp-display-others\" style=\"background-color: white\"> is given </span><span class=\"spark-nlp-display-entity-wrapper\" style=\"background-color: #3E4D1D\"><span class=\"spark-nlp-display-entity-name\">Fragmin </span><span class=\"spark-nlp-display-entity-type\">Drug_BrandName</span></span><span class=\"spark-nlp-display-others\" style=\"background-color: white\"> </span><span class=\"spark-nlp-display-entity-wrapper\" style=\"background-color: #14A756\"><span class=\"spark-nlp-display-entity-name\">5000 units </span><span class=\"spark-nlp-display-entity-type\">Dosage</span></span><span class=\"spark-nlp-display-others\" style=\"background-color: white\"> </span><span class=\"spark-nlp-display-entity-wrapper\" style=\"background-color: #181C7B\"><span class=\"spark-nlp-display-entity-name\">subcutaneously </span><span class=\"spark-nlp-display-entity-type\">Route</span></span><span class=\"spark-nlp-display-others\" style=\"background-color: white\"> </span><span class=\"spark-nlp-display-entity-wrapper\" style=\"background-color: #BA6803\"><span class=\"spark-nlp-display-entity-name\">daily </span><span class=\"spark-nlp-display-entity-type\">Frequency</span></span><span class=\"spark-nlp-display-others\" style=\"background-color: white\">, </span><span class=\"spark-nlp-display-entity-wrapper\" style=\"background-color: #3E4D1D\"><span class=\"spark-nlp-display-entity-name\">Xenaderm </span><span class=\"spark-nlp-display-entity-type\">Drug_BrandName</span></span><span class=\"spark-nlp-display-others\" style=\"background-color: white\"> to </span><span class=\"spark-nlp-display-entity-wrapper\" style=\"background-color: #46C12E\"><span class=\"spark-nlp-display-entity-name\">wounds </span><span class=\"spark-nlp-display-entity-type\">Symptom</span></span><span class=\"spark-nlp-display-others\" style=\"background-color: white\"> </span><span class=\"spark-nlp-display-entity-wrapper\" style=\"background-color: #181C7B\"><span class=\"spark-nlp-display-entity-name\">topically </span><span class=\"spark-nlp-display-entity-type\">Route</span></span><span class=\"spark-nlp-display-others\" style=\"background-color: white\"> b.i.d., </span><span class=\"spark-nlp-display-entity-wrapper\" style=\"background-color: #3E4D1D\"><span class=\"spark-nlp-display-entity-name\">Lantus </span><span class=\"spark-nlp-display-entity-type\">Drug_BrandName</span></span><span class=\"spark-nlp-display-others\" style=\"background-color: white\"> </span><span class=\"spark-nlp-display-entity-wrapper\" style=\"background-color: #14A756\"><span class=\"spark-nlp-display-entity-name\">40 units </span><span class=\"spark-nlp-display-entity-type\">Dosage</span></span><span class=\"spark-nlp-display-others\" style=\"background-color: white\"> </span><span class=\"spark-nlp-display-entity-wrapper\" style=\"background-color: #181C7B\"><span class=\"spark-nlp-display-entity-name\">subcutaneously </span><span class=\"spark-nlp-display-entity-type\">Route</span></span><span class=\"spark-nlp-display-others\" style=\"background-color: white\"> </span><span class=\"spark-nlp-display-entity-wrapper\" style=\"background-color: #BA6803\"><span class=\"spark-nlp-display-entity-name\">at bedtime </span><span class=\"spark-nlp-display-entity-type\">Frequency</span></span><span class=\"spark-nlp-display-others\" style=\"background-color: white\">, </span><span class=\"spark-nlp-display-entity-wrapper\" style=\"background-color: #3E4D1D\"><span class=\"spark-nlp-display-entity-name\">OxyContin </span><span class=\"spark-nlp-display-entity-type\">Drug_BrandName</span></span><span class=\"spark-nlp-display-others\" style=\"background-color: white\"> </span><span class=\"spark-nlp-display-entity-wrapper\" style=\"background-color: #3B7A72\"><span class=\"spark-nlp-display-entity-name\">30 mg </span><span class=\"spark-nlp-display-entity-type\">Strength</span></span><span class=\"spark-nlp-display-others\" style=\"background-color: white\"> </span><span class=\"spark-nlp-display-entity-wrapper\" style=\"background-color: #181C7B\"><span class=\"spark-nlp-display-entity-name\">p.o. </span><span class=\"spark-nlp-display-entity-type\">Route</span></span><span class=\"spark-nlp-display-others\" style=\"background-color: white\"> </span><span class=\"spark-nlp-display-entity-wrapper\" style=\"background-color: #BA6803\"><span class=\"spark-nlp-display-entity-name\">q.12 h </span><span class=\"spark-nlp-display-entity-type\">Frequency</span></span><span class=\"spark-nlp-display-others\" style=\"background-color: white\">., </span><span class=\"spark-nlp-display-entity-wrapper\" style=\"background-color: #323B28\"><span class=\"spark-nlp-display-entity-name\">folic acid </span><span class=\"spark-nlp-display-entity-type\">Drug_Ingredient</span></span><span class=\"spark-nlp-display-others\" style=\"background-color: white\"> </span><span class=\"spark-nlp-display-entity-wrapper\" style=\"background-color: #3B7A72\"><span class=\"spark-nlp-display-entity-name\">1 mg </span><span class=\"spark-nlp-display-entity-type\">Strength</span></span><span class=\"spark-nlp-display-others\" style=\"background-color: white\"> </span><span class=\"spark-nlp-display-entity-wrapper\" style=\"background-color: #BA6803\"><span class=\"spark-nlp-display-entity-name\">daily </span><span class=\"spark-nlp-display-entity-type\">Frequency</span></span><span class=\"spark-nlp-display-others\" style=\"background-color: white\">, </span><span class=\"spark-nlp-display-entity-wrapper\" style=\"background-color: #323B28\"><span class=\"spark-nlp-display-entity-name\">levothyroxine </span><span class=\"spark-nlp-display-entity-type\">Drug_Ingredient</span></span><span class=\"spark-nlp-display-others\" style=\"background-color: white\"> </span><span class=\"spark-nlp-display-entity-wrapper\" style=\"background-color: #3B7A72\"><span class=\"spark-nlp-display-entity-name\">0.1 mg </span><span class=\"spark-nlp-display-entity-type\">Strength</span></span><span class=\"spark-nlp-display-others\" style=\"background-color: white\"> </span><span class=\"spark-nlp-display-entity-wrapper\" style=\"background-color: #181C7B\"><span class=\"spark-nlp-display-entity-name\">p.o. </span><span class=\"spark-nlp-display-entity-type\">Route</span></span><span class=\"spark-nlp-display-others\" style=\"background-color: white\"> </span><span class=\"spark-nlp-display-entity-wrapper\" style=\"background-color: #BA6803\"><span class=\"spark-nlp-display-entity-name\">daily </span><span class=\"spark-nlp-display-entity-type\">Frequency</span></span><span class=\"spark-nlp-display-others\" style=\"background-color: white\">, </span><span class=\"spark-nlp-display-entity-wrapper\" style=\"background-color: #3E4D1D\"><span class=\"spark-nlp-display-entity-name\">Prevacid </span><span class=\"spark-nlp-display-entity-type\">Drug_BrandName</span></span><span class=\"spark-nlp-display-others\" style=\"background-color: white\"> </span><span class=\"spark-nlp-display-entity-wrapper\" style=\"background-color: #3B7A72\"><span class=\"spark-nlp-display-entity-name\">30 mg </span><span class=\"spark-nlp-display-entity-type\">Strength</span></span><span class=\"spark-nlp-display-others\" style=\"background-color: white\"> </span><span class=\"spark-nlp-display-entity-wrapper\" style=\"background-color: #BA6803\"><span class=\"spark-nlp-display-entity-name\">daily </span><span class=\"spark-nlp-display-entity-type\">Frequency</span></span><span class=\"spark-nlp-display-others\" style=\"background-color: white\">, </span><span class=\"spark-nlp-display-entity-wrapper\" style=\"background-color: #3E4D1D\"><span class=\"spark-nlp-display-entity-name\">Avandia </span><span class=\"spark-nlp-display-entity-type\">Drug_BrandName</span></span><span class=\"spark-nlp-display-others\" style=\"background-color: white\"> </span><span class=\"spark-nlp-display-entity-wrapper\" style=\"background-color: #3B7A72\"><span class=\"spark-nlp-display-entity-name\">4 mg </span><span class=\"spark-nlp-display-entity-type\">Strength</span></span><span class=\"spark-nlp-display-others\" style=\"background-color: white\"> </span><span class=\"spark-nlp-display-entity-wrapper\" style=\"background-color: #BA6803\"><span class=\"spark-nlp-display-entity-name\">daily </span><span class=\"spark-nlp-display-entity-type\">Frequency</span></span><span class=\"spark-nlp-display-others\" style=\"background-color: white\">, </span><span class=\"spark-nlp-display-entity-wrapper\" style=\"background-color: #3E4D1D\"><span class=\"spark-nlp-display-entity-name\">Norvasc </span><span class=\"spark-nlp-display-entity-type\">Drug_BrandName</span></span><span class=\"spark-nlp-display-others\" style=\"background-color: white\"> </span><span class=\"spark-nlp-display-entity-wrapper\" style=\"background-color: #3B7A72\"><span class=\"spark-nlp-display-entity-name\">10 mg </span><span class=\"spark-nlp-display-entity-type\">Strength</span></span><span class=\"spark-nlp-display-others\" style=\"background-color: white\"> </span><span class=\"spark-nlp-display-entity-wrapper\" style=\"background-color: #BA6803\"><span class=\"spark-nlp-display-entity-name\">daily </span><span class=\"spark-nlp-display-entity-type\">Frequency</span></span><span class=\"spark-nlp-display-others\" style=\"background-color: white\">, </span><span class=\"spark-nlp-display-entity-wrapper\" style=\"background-color: #3E4D1D\"><span class=\"spark-nlp-display-entity-name\">Lexapro </span><span class=\"spark-nlp-display-entity-type\">Drug_BrandName</span></span><span class=\"spark-nlp-display-others\" style=\"background-color: white\"> </span><span class=\"spark-nlp-display-entity-wrapper\" style=\"background-color: #3B7A72\"><span class=\"spark-nlp-display-entity-name\">20 mg </span><span class=\"spark-nlp-display-entity-type\">Strength</span></span><span class=\"spark-nlp-display-others\" style=\"background-color: white\"> </span><span class=\"spark-nlp-display-entity-wrapper\" style=\"background-color: #BA6803\"><span class=\"spark-nlp-display-entity-name\">daily </span><span class=\"spark-nlp-display-entity-type\">Frequency</span></span><span class=\"spark-nlp-display-others\" style=\"background-color: white\">, </span><span class=\"spark-nlp-display-entity-wrapper\" style=\"background-color: #323B28\"><span class=\"spark-nlp-display-entity-name\">aspirin </span><span class=\"spark-nlp-display-entity-type\">Drug_Ingredient</span></span><span class=\"spark-nlp-display-others\" style=\"background-color: white\"> </span><span class=\"spark-nlp-display-entity-wrapper\" style=\"background-color: #3B7A72\"><span class=\"spark-nlp-display-entity-name\">81 mg </span><span class=\"spark-nlp-display-entity-type\">Strength</span></span><span class=\"spark-nlp-display-others\" style=\"background-color: white\"> </span><span class=\"spark-nlp-display-entity-wrapper\" style=\"background-color: #BA6803\"><span class=\"spark-nlp-display-entity-name\">daily </span><span class=\"spark-nlp-display-entity-type\">Frequency</span></span><span class=\"spark-nlp-display-others\" style=\"background-color: white\">, </span><span class=\"spark-nlp-display-entity-wrapper\" style=\"background-color: #3E4D1D\"><span class=\"spark-nlp-display-entity-name\">Senna </span><span class=\"spark-nlp-display-entity-type\">Drug_BrandName</span></span><span class=\"spark-nlp-display-others\" style=\"background-color: white\"> </span><span class=\"spark-nlp-display-entity-wrapper\" style=\"background-color: #14A756\"><span class=\"spark-nlp-display-entity-name\">2 </span><span class=\"spark-nlp-display-entity-type\">Dosage</span></span><span class=\"spark-nlp-display-others\" style=\"background-color: white\"> </span><span class=\"spark-nlp-display-entity-wrapper\" style=\"background-color: #0B4CB2\"><span class=\"spark-nlp-display-entity-name\">tablets </span><span class=\"spark-nlp-display-entity-type\">Form</span></span><span class=\"spark-nlp-display-others\" style=\"background-color: white\"> </span><span class=\"spark-nlp-display-entity-wrapper\" style=\"background-color: #181C7B\"><span class=\"spark-nlp-display-entity-name\">p.o. q.a.m </span><span class=\"spark-nlp-display-entity-type\">Route</span></span><span class=\"spark-nlp-display-others\" style=\"background-color: white\">., </span><span class=\"spark-nlp-display-entity-wrapper\" style=\"background-color: #3E4D1D\"><span class=\"spark-nlp-display-entity-name\">Neurontin </span><span class=\"spark-nlp-display-entity-type\">Drug_BrandName</span></span><span class=\"spark-nlp-display-others\" style=\"background-color: white\"> </span><span class=\"spark-nlp-display-entity-wrapper\" style=\"background-color: #3B7A72\"><span class=\"spark-nlp-display-entity-name\">400 mg </span><span class=\"spark-nlp-display-entity-type\">Strength</span></span><span class=\"spark-nlp-display-others\" style=\"background-color: white\"> </span><span class=\"spark-nlp-display-entity-wrapper\" style=\"background-color: #181C7B\"><span class=\"spark-nlp-display-entity-name\">p.o. t.i.d </span><span class=\"spark-nlp-display-entity-type\">Route</span></span><span class=\"spark-nlp-display-others\" style=\"background-color: white\">., </span><span class=\"spark-nlp-display-entity-wrapper\" style=\"background-color: #3E4D1D\"><span class=\"spark-nlp-display-entity-name\">Percocet </span><span class=\"spark-nlp-display-entity-type\">Drug_BrandName</span></span><span class=\"spark-nlp-display-others\" style=\"background-color: white\"> </span><span class=\"spark-nlp-display-entity-wrapper\" style=\"background-color: #3B7A72\"><span class=\"spark-nlp-display-entity-name\">5/325 mg </span><span class=\"spark-nlp-display-entity-type\">Strength</span></span><span class=\"spark-nlp-display-others\" style=\"background-color: white\"> </span><span class=\"spark-nlp-display-entity-wrapper\" style=\"background-color: #14A756\"><span class=\"spark-nlp-display-entity-name\">2 </span><span class=\"spark-nlp-display-entity-type\">Dosage</span></span><span class=\"spark-nlp-display-others\" style=\"background-color: white\"> </span><span class=\"spark-nlp-display-entity-wrapper\" style=\"background-color: #0B4CB2\"><span class=\"spark-nlp-display-entity-name\">tablets </span><span class=\"spark-nlp-display-entity-type\">Form</span></span><span class=\"spark-nlp-display-others\" style=\"background-color: white\"> </span><span class=\"spark-nlp-display-entity-wrapper\" style=\"background-color: #BA6803\"><span class=\"spark-nlp-display-entity-name\">q.4 h. </span><span class=\"spark-nlp-display-entity-type\">Frequency</span></span><span class=\"spark-nlp-display-others\" style=\"background-color: white\"> </span><span class=\"spark-nlp-display-entity-wrapper\" style=\"background-color: #BA6803\"><span class=\"spark-nlp-display-entity-name\">p.r.n </span><span class=\"spark-nlp-display-entity-type\">Frequency</span></span><span class=\"spark-nlp-display-others\" style=\"background-color: white\">., </span><span class=\"spark-nlp-display-entity-wrapper\" style=\"background-color: #323B28\"><span class=\"spark-nlp-display-entity-name\">magnesium citrate </span><span class=\"spark-nlp-display-entity-type\">Drug_Ingredient</span></span><span class=\"spark-nlp-display-others\" style=\"background-color: white\"> </span><span class=\"spark-nlp-display-entity-wrapper\" style=\"background-color: #14A756\"><span class=\"spark-nlp-display-entity-name\">1 bottle </span><span class=\"spark-nlp-display-entity-type\">Dosage</span></span><span class=\"spark-nlp-display-others\" style=\"background-color: white\"> </span><span class=\"spark-nlp-display-entity-wrapper\" style=\"background-color: #181C7B\"><span class=\"spark-nlp-display-entity-name\">p.o. p.r.n </span><span class=\"spark-nlp-display-entity-type\">Route</span></span><span class=\"spark-nlp-display-others\" style=\"background-color: white\">., </span><span class=\"spark-nlp-display-entity-wrapper\" style=\"background-color: #14A756\"><span class=\"spark-nlp-display-entity-name\">sliding scale </span><span class=\"spark-nlp-display-entity-type\">Dosage</span></span><span class=\"spark-nlp-display-others\" style=\"background-color: white\"> coverage </span><span class=\"spark-nlp-display-entity-wrapper\" style=\"background-color: #323B28\"><span class=\"spark-nlp-display-entity-name\">insulin </span><span class=\"spark-nlp-display-entity-type\">Drug_Ingredient</span></span><span class=\"spark-nlp-display-others\" style=\"background-color: white\">, </span><span class=\"spark-nlp-display-entity-wrapper\" style=\"background-color: #3E4D1D\"><span class=\"spark-nlp-display-entity-name\">Wellbutrin </span><span class=\"spark-nlp-display-entity-type\">Drug_BrandName</span></span><span class=\"spark-nlp-display-others\" style=\"background-color: white\"> </span><span class=\"spark-nlp-display-entity-wrapper\" style=\"background-color: #3B7A72\"><span class=\"spark-nlp-display-entity-name\">100 mg </span><span class=\"spark-nlp-display-entity-type\">Strength</span></span><span class=\"spark-nlp-display-others\" style=\"background-color: white\"> </span><span class=\"spark-nlp-display-entity-wrapper\" style=\"background-color: #181C7B\"><span class=\"spark-nlp-display-entity-name\">p.o. </span><span class=\"spark-nlp-display-entity-type\">Route</span></span><span class=\"spark-nlp-display-others\" style=\"background-color: white\"> </span><span class=\"spark-nlp-display-entity-wrapper\" style=\"background-color: #BA6803\"><span class=\"spark-nlp-display-entity-name\">daily </span><span class=\"spark-nlp-display-entity-type\">Frequency</span></span><span class=\"spark-nlp-display-others\" style=\"background-color: white\">, and </span><span class=\"spark-nlp-display-entity-wrapper\" style=\"background-color: #3E4D1D\"><span class=\"spark-nlp-display-entity-name\">Bactrim DS </span><span class=\"spark-nlp-display-entity-type\">Drug_BrandName</span></span><span class=\"spark-nlp-display-others\" style=\"background-color: white\"> </span><span class=\"spark-nlp-display-entity-wrapper\" style=\"background-color: #BA6803\"><span class=\"spark-nlp-display-entity-name\">b.i.d </span><span class=\"spark-nlp-display-entity-type\">Frequency</span></span><span class=\"spark-nlp-display-others\" style=\"background-color: white\">.</span></div>"
            ],
            "text/plain": [
              "<IPython.core.display.HTML object>"
            ]
          },
          "metadata": {}
        },
        {
          "output_type": "stream",
          "name": "stdout",
          "text": [
            "sentence_detector_dl download started this may take some time.\n",
            "Approximate size to download 354.6 KB\n",
            "[OK!]\n",
            "bert_token_classifier_ner_drugs download started this may take some time.\n",
            "Approximate size to download 385.3 MB\n",
            "[OK!]\n",
            "<----------------- MODEL NAME: \u001b[1mbert_token_classifier_ner_drugs\u001b[0m  ----------------- >\n",
            "+--------------+---------+\n",
            "|chunk         |ner_label|\n",
            "+--------------+---------+\n",
            "|potassium     |DrugChem |\n",
            "|nucleotide    |DrugChem |\n",
            "|anthracyclines|DrugChem |\n",
            "|taxanes       |DrugChem |\n",
            "|vinorelbine   |DrugChem |\n",
            "|vinorelbine   |DrugChem |\n",
            "|anthracyclines|DrugChem |\n",
            "|taxanes       |DrugChem |\n",
            "+--------------+---------+\n",
            "\n"
          ]
        },
        {
          "output_type": "display_data",
          "data": {
            "text/html": [
              "\n",
              "<style>\n",
              "    @import url('https://fonts.googleapis.com/css2?family=Montserrat:wght@300;400;500;600;700&display=swap');\n",
              "    @import url('https://fonts.googleapis.com/css2?family=Vistol Regular:wght@300;400;500;600;700&display=swap');\n",
              "    \n",
              "    .spark-nlp-display-scroll-entities {\n",
              "        border: 1px solid #E7EDF0;\n",
              "        border-radius: 3px;\n",
              "        text-align: justify;\n",
              "        \n",
              "    }\n",
              "    .spark-nlp-display-scroll-entities span {  \n",
              "        font-size: 14px;\n",
              "        line-height: 24px;\n",
              "        color: #536B76;\n",
              "        font-family: 'Montserrat', sans-serif !important;\n",
              "    }\n",
              "    \n",
              "    .spark-nlp-display-entity-wrapper{\n",
              "    \n",
              "        display: inline-grid;\n",
              "        text-align: center;\n",
              "        border-radius: 4px;\n",
              "        margin: 0 2px 5px 2px;\n",
              "        padding: 1px\n",
              "    }\n",
              "    .spark-nlp-display-entity-name{\n",
              "        font-size: 14px;\n",
              "        line-height: 24px;\n",
              "        font-family: 'Montserrat', sans-serif !important;\n",
              "        \n",
              "        background: #f1f2f3;\n",
              "        border-width: medium;\n",
              "        text-align: center;\n",
              "        \n",
              "        font-weight: 400;\n",
              "        \n",
              "        border-radius: 5px;\n",
              "        padding: 2px 5px;\n",
              "        display: block;\n",
              "        margin: 3px 2px;\n",
              "    \n",
              "    }\n",
              "    .spark-nlp-display-entity-type{\n",
              "        font-size: 14px;\n",
              "        line-height: 24px;\n",
              "        color: #ffffff;\n",
              "        font-family: 'Montserrat', sans-serif !important;\n",
              "        \n",
              "        text-transform: uppercase;\n",
              "        \n",
              "        font-weight: 500;\n",
              "\n",
              "        display: block;\n",
              "        padding: 3px 5px;\n",
              "    }\n",
              "    \n",
              "    .spark-nlp-display-entity-resolution{\n",
              "        font-size: 14px;\n",
              "        line-height: 24px;\n",
              "        color: #ffffff;\n",
              "        font-family: 'Vistol Regular', sans-serif !important;\n",
              "        \n",
              "        text-transform: uppercase;\n",
              "        \n",
              "        font-weight: 500;\n",
              "\n",
              "        display: block;\n",
              "        padding: 3px 5px;\n",
              "    }\n",
              "    \n",
              "    .spark-nlp-display-others{\n",
              "        font-size: 14px;\n",
              "        line-height: 24px;\n",
              "        font-family: 'Montserrat', sans-serif !important;\n",
              "        \n",
              "        font-weight: 400;\n",
              "    }\n",
              "\n",
              "</style>\n",
              " <span class=\"spark-nlp-display-others\" style=\"background-color: white\">The human KCNJ9 (Kir 3.3, GIRK3) is a member of the G-protein-activated inwardly rectifying </span><span class=\"spark-nlp-display-entity-wrapper\" style=\"background-color: #6E565E\"><span class=\"spark-nlp-display-entity-name\">potassium </span><span class=\"spark-nlp-display-entity-type\">DrugChem</span></span><span class=\"spark-nlp-display-others\" style=\"background-color: white\"> (GIRK) channel family. Here we describe the genomic organization of the KCNJ9 locus on chromosome 1q21-23 as a candidate gene for type II diabetes mellitus in the Pima Indian population. The gene spans approximately 7.6 kb and contains one noncoding and two coding exons separated by approximately 2.2 and approximately 2.6 kb introns, respectively. We identified14 single </span><span class=\"spark-nlp-display-entity-wrapper\" style=\"background-color: #6E565E\"><span class=\"spark-nlp-display-entity-name\">nucleotide </span><span class=\"spark-nlp-display-entity-type\">DrugChem</span></span><span class=\"spark-nlp-display-others\" style=\"background-color: white\"> polymorphisms (SNPs), including one that predicts aVal366Ala substitution, and an 8 base-pair (bp) insertion/deletion. Our expression studies revealed the presence of the transcript in various human tissues including the pancreas, and two major insulin-responsive tissues: fat and skeletal muscle. The characterization of the KCNJ9 gene should facilitate further studies on the function of the KCNJ9 protein and allow evaluation of the potential role of the locus in Type II diabetes.BACKGROUND: At present, it is one of the most important issues for the treatment of breast cancer to develop the standard therapy for patients previously treated with </span><span class=\"spark-nlp-display-entity-wrapper\" style=\"background-color: #6E565E\"><span class=\"spark-nlp-display-entity-name\">anthracyclines </span><span class=\"spark-nlp-display-entity-type\">DrugChem</span></span><span class=\"spark-nlp-display-others\" style=\"background-color: white\"> and </span><span class=\"spark-nlp-display-entity-wrapper\" style=\"background-color: #6E565E\"><span class=\"spark-nlp-display-entity-name\">taxanes </span><span class=\"spark-nlp-display-entity-type\">DrugChem</span></span><span class=\"spark-nlp-display-others\" style=\"background-color: white\">. With the objective of determining the usefulness of </span><span class=\"spark-nlp-display-entity-wrapper\" style=\"background-color: #6E565E\"><span class=\"spark-nlp-display-entity-name\">vinorelbine </span><span class=\"spark-nlp-display-entity-type\">DrugChem</span></span><span class=\"spark-nlp-display-others\" style=\"background-color: white\"> monotherapy in patients with advanced or recurrent breast cancer after standard therapy, we evaluated the efficacy and safety of </span><span class=\"spark-nlp-display-entity-wrapper\" style=\"background-color: #6E565E\"><span class=\"spark-nlp-display-entity-name\">vinorelbine </span><span class=\"spark-nlp-display-entity-type\">DrugChem</span></span><span class=\"spark-nlp-display-others\" style=\"background-color: white\"> in patients previously treated with </span><span class=\"spark-nlp-display-entity-wrapper\" style=\"background-color: #6E565E\"><span class=\"spark-nlp-display-entity-name\">anthracyclines </span><span class=\"spark-nlp-display-entity-type\">DrugChem</span></span><span class=\"spark-nlp-display-others\" style=\"background-color: white\"> and </span><span class=\"spark-nlp-display-entity-wrapper\" style=\"background-color: #6E565E\"><span class=\"spark-nlp-display-entity-name\">taxanes </span><span class=\"spark-nlp-display-entity-type\">DrugChem</span></span><span class=\"spark-nlp-display-others\" style=\"background-color: white\">.</span></div>"
            ],
            "text/plain": [
              "<IPython.core.display.HTML object>"
            ]
          },
          "metadata": {}
        },
        {
          "output_type": "stream",
          "name": "stdout",
          "text": [
            "sentence_detector_dl download started this may take some time.\n",
            "Approximate size to download 354.6 KB\n",
            "[OK!]\n",
            "bert_token_classifier_ner_deid download started this may take some time.\n",
            "Approximate size to download 385.4 MB\n",
            "[OK!]\n",
            "<----------------- MODEL NAME: \u001b[1mbert_token_classifier_ner_deid\u001b[0m  ----------------- >\n",
            "+---------------+---------+\n",
            "|chunk          |ner_label|\n",
            "+---------------+---------+\n",
            "|Smith          |PATIENT  |\n",
            "|60-year-old    |AGE      |\n",
            "|VA Hospital    |HOSPITAL |\n",
            "|Day Hospital   |HOSPITAL |\n",
            "|02/04/2003     |DATE     |\n",
            "|Smith          |PATIENT  |\n",
            "|Day Hospital   |HOSPITAL |\n",
            "|Smith          |PATIENT  |\n",
            "|Smith          |PATIENT  |\n",
            "|7 Ardmore Tower|STREET   |\n",
            "|Hart           |DOCTOR   |\n",
            "|Smith          |PATIENT  |\n",
            "|02/07/2003     |DATE     |\n",
            "+---------------+---------+\n",
            "\n"
          ]
        },
        {
          "output_type": "display_data",
          "data": {
            "text/html": [
              "\n",
              "<style>\n",
              "    @import url('https://fonts.googleapis.com/css2?family=Montserrat:wght@300;400;500;600;700&display=swap');\n",
              "    @import url('https://fonts.googleapis.com/css2?family=Vistol Regular:wght@300;400;500;600;700&display=swap');\n",
              "    \n",
              "    .spark-nlp-display-scroll-entities {\n",
              "        border: 1px solid #E7EDF0;\n",
              "        border-radius: 3px;\n",
              "        text-align: justify;\n",
              "        \n",
              "    }\n",
              "    .spark-nlp-display-scroll-entities span {  \n",
              "        font-size: 14px;\n",
              "        line-height: 24px;\n",
              "        color: #536B76;\n",
              "        font-family: 'Montserrat', sans-serif !important;\n",
              "    }\n",
              "    \n",
              "    .spark-nlp-display-entity-wrapper{\n",
              "    \n",
              "        display: inline-grid;\n",
              "        text-align: center;\n",
              "        border-radius: 4px;\n",
              "        margin: 0 2px 5px 2px;\n",
              "        padding: 1px\n",
              "    }\n",
              "    .spark-nlp-display-entity-name{\n",
              "        font-size: 14px;\n",
              "        line-height: 24px;\n",
              "        font-family: 'Montserrat', sans-serif !important;\n",
              "        \n",
              "        background: #f1f2f3;\n",
              "        border-width: medium;\n",
              "        text-align: center;\n",
              "        \n",
              "        font-weight: 400;\n",
              "        \n",
              "        border-radius: 5px;\n",
              "        padding: 2px 5px;\n",
              "        display: block;\n",
              "        margin: 3px 2px;\n",
              "    \n",
              "    }\n",
              "    .spark-nlp-display-entity-type{\n",
              "        font-size: 14px;\n",
              "        line-height: 24px;\n",
              "        color: #ffffff;\n",
              "        font-family: 'Montserrat', sans-serif !important;\n",
              "        \n",
              "        text-transform: uppercase;\n",
              "        \n",
              "        font-weight: 500;\n",
              "\n",
              "        display: block;\n",
              "        padding: 3px 5px;\n",
              "    }\n",
              "    \n",
              "    .spark-nlp-display-entity-resolution{\n",
              "        font-size: 14px;\n",
              "        line-height: 24px;\n",
              "        color: #ffffff;\n",
              "        font-family: 'Vistol Regular', sans-serif !important;\n",
              "        \n",
              "        text-transform: uppercase;\n",
              "        \n",
              "        font-weight: 500;\n",
              "\n",
              "        display: block;\n",
              "        padding: 3px 5px;\n",
              "    }\n",
              "    \n",
              "    .spark-nlp-display-others{\n",
              "        font-size: 14px;\n",
              "        line-height: 24px;\n",
              "        font-family: 'Montserrat', sans-serif !important;\n",
              "        \n",
              "        font-weight: 400;\n",
              "    }\n",
              "\n",
              "</style>\n",
              " <span class=\"spark-nlp-display-others\" style=\"background-color: white\">HISTORY OF PRESENT ILLNESS: Mr. </span><span class=\"spark-nlp-display-entity-wrapper\" style=\"background-color: #7E8526\"><span class=\"spark-nlp-display-entity-name\">Smith </span><span class=\"spark-nlp-display-entity-type\">PATIENT</span></span><span class=\"spark-nlp-display-others\" style=\"background-color: white\"> is a </span><span class=\"spark-nlp-display-entity-wrapper\" style=\"background-color: #ffe0ac\"><span class=\"spark-nlp-display-entity-name\">60-year-old </span><span class=\"spark-nlp-display-entity-type\">AGE</span></span><span class=\"spark-nlp-display-others\" style=\"background-color: white\"> white male veteran with multiple comorbidities, who has a history of bladder cancer diagnosed approximately two years ago by the </span><span class=\"spark-nlp-display-entity-wrapper\" style=\"background-color: #9F5E11\"><span class=\"spark-nlp-display-entity-name\">VA Hospital </span><span class=\"spark-nlp-display-entity-type\">HOSPITAL</span></span><span class=\"spark-nlp-display-others\" style=\"background-color: white\">. He underwent a resection there. He was to be admitted to the </span><span class=\"spark-nlp-display-entity-wrapper\" style=\"background-color: #9F5E11\"><span class=\"spark-nlp-display-entity-name\">Day Hospital </span><span class=\"spark-nlp-display-entity-type\">HOSPITAL</span></span><span class=\"spark-nlp-display-others\" style=\"background-color: white\"> for cystectomy. He was seen in Urology Clinic and Radiology Clinic on </span><span class=\"spark-nlp-display-entity-wrapper\" style=\"background-color: #a6b1e1\"><span class=\"spark-nlp-display-entity-name\">02/04/2003 </span><span class=\"spark-nlp-display-entity-type\">DATE</span></span><span class=\"spark-nlp-display-others\" style=\"background-color: white\">.<br><br>HOSPITAL COURSE: Mr. </span><span class=\"spark-nlp-display-entity-wrapper\" style=\"background-color: #7E8526\"><span class=\"spark-nlp-display-entity-name\">Smith </span><span class=\"spark-nlp-display-entity-type\">PATIENT</span></span><span class=\"spark-nlp-display-others\" style=\"background-color: white\"> presented to the </span><span class=\"spark-nlp-display-entity-wrapper\" style=\"background-color: #9F5E11\"><span class=\"spark-nlp-display-entity-name\">Day Hospital </span><span class=\"spark-nlp-display-entity-type\">HOSPITAL</span></span><span class=\"spark-nlp-display-others\" style=\"background-color: white\"> in anticipation for Urology surgery. On evaluation, EKG, echocardiogram was abnormal, a Cardiology consult was obtained. A cardiac adenosine stress MRI was then proceeded, same was positive for inducible ischemia, mild-to-moderate inferolateral subendocardial infarction with peri-infarct ischemia. In addition, inducible ischemia seen in the inferior lateral septum. Mr. </span><span class=\"spark-nlp-display-entity-wrapper\" style=\"background-color: #7E8526\"><span class=\"spark-nlp-display-entity-name\">Smith </span><span class=\"spark-nlp-display-entity-type\">PATIENT</span></span><span class=\"spark-nlp-display-others\" style=\"background-color: white\"> underwent a left heart catheterization, which revealed two vessel coronary artery disease. The RCA, proximal was 95% stenosed and the distal 80% stenosed. The mid LAD was 85% stenosed and the distal LAD was 85% stenosed. There was four Multi-Link Vision bare metal stents placed to decrease all four lesions to 0%. Following intervention, Mr. </span><span class=\"spark-nlp-display-entity-wrapper\" style=\"background-color: #7E8526\"><span class=\"spark-nlp-display-entity-name\">Smith </span><span class=\"spark-nlp-display-entity-type\">PATIENT</span></span><span class=\"spark-nlp-display-others\" style=\"background-color: white\"> was admitted to </span><span class=\"spark-nlp-display-entity-wrapper\" style=\"background-color: #818D59\"><span class=\"spark-nlp-display-entity-name\">7 Ardmore Tower </span><span class=\"spark-nlp-display-entity-type\">STREET</span></span><span class=\"spark-nlp-display-others\" style=\"background-color: white\"> under Cardiology Service under the direction of Dr. </span><span class=\"spark-nlp-display-entity-wrapper\" style=\"background-color: #03AC25\"><span class=\"spark-nlp-display-entity-name\">Hart </span><span class=\"spark-nlp-display-entity-type\">DOCTOR</span></span><span class=\"spark-nlp-display-others\" style=\"background-color: white\">. Mr. </span><span class=\"spark-nlp-display-entity-wrapper\" style=\"background-color: #7E8526\"><span class=\"spark-nlp-display-entity-name\">Smith </span><span class=\"spark-nlp-display-entity-type\">PATIENT</span></span><span class=\"spark-nlp-display-others\" style=\"background-color: white\"> had a noncomplicated post-intervention hospital course. He was stable for discharge home on </span><span class=\"spark-nlp-display-entity-wrapper\" style=\"background-color: #a6b1e1\"><span class=\"spark-nlp-display-entity-name\">02/07/2003 </span><span class=\"spark-nlp-display-entity-type\">DATE</span></span><span class=\"spark-nlp-display-others\" style=\"background-color: white\"> with instructions to take Plavix daily for one month and Urology is aware of the same.</span></div>"
            ],
            "text/plain": [
              "<IPython.core.display.HTML object>"
            ]
          },
          "metadata": {}
        }
      ]
    },
    {
      "cell_type": "code",
      "metadata": {
        "id": "H5lQXIeftPLJ"
      },
      "source": [
        ""
      ],
      "execution_count": null,
      "outputs": []
    }
  ]
}
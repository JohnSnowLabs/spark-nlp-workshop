{
  "nbformat": 4,
  "nbformat_minor": 0,
  "metadata": {
    "colab": {
      "name": "NER_BERT_TOKEN_CLASSIFIER.ipynb",
      "provenance": [],
      "collapsed_sections": []
    },
    "kernelspec": {
      "name": "python3",
      "display_name": "Python 3"
    },
    "language_info": {
      "name": "python"
    },
    "accelerator": "GPU"
  },
  "cells": [
    {
      "cell_type": "markdown",
      "metadata": {
        "id": "lokVHWdvaz-W"
      },
      "source": [
        "![JohnSnowLabs](https://nlp.johnsnowlabs.com/assets/images/logo.png)\n",
        "\n",
        "[![Open In Colab](https://colab.research.google.com/assets/colab-badge.svg)](https://colab.research.google.com/github/JohnSnowLabs/spark-nlp-workshop/blob/master/tutorials/streamlit_notebooks/healthcare/NER_BERT_TOKEN_CLASSIFIER.ipynb)"
      ]
    },
    {
      "cell_type": "markdown",
      "metadata": {
        "id": "xNWy5NGZa9Qh"
      },
      "source": [
        "To run this yourself, you will need to upload your license keys to the notebook. Just Run The Cell Below in order to do that. Also You can open the file explorer on the left side of the screen and upload license_keys.json to the folder that opens. Otherwise, you can look at the example outputs at the bottom of the notebook."
      ]
    },
    {
      "cell_type": "markdown",
      "metadata": {
        "id": "U-UAcTkUbjzm"
      },
      "source": [
        "## 1. Colab Setup"
      ]
    },
    {
      "cell_type": "markdown",
      "metadata": {
        "id": "pGXPkGF0bpd6"
      },
      "source": [
        "Import license keys"
      ]
    },
    {
      "cell_type": "code",
      "metadata": {
        "id": "DS7FbXsLaptn"
      },
      "source": [
        "%%capture\n",
        "import os\n",
        "import json\n",
        "\n",
        "with open(r'/content/spark_nlp_for_healthcare.json') as f:\n",
        "    license_keys = json.load(f)\n",
        "    \n",
        "locals().update(license_keys)\n",
        "\n",
        "for k,v in license_keys.items(): \n",
        "    %set_env $k=$v"
      ],
      "execution_count": null,
      "outputs": []
    },
    {
      "cell_type": "code",
      "metadata": {
        "colab": {
          "base_uri": "https://localhost:8080/",
          "height": 35
        },
        "id": "H171UyvVb7br",
        "outputId": "de22d8b7-e3db-4b2a-d387-97c0335a0340"
      },
      "source": [
        "license_keys['PUBLIC_VERSION']"
      ],
      "execution_count": null,
      "outputs": [
        {
          "output_type": "execute_result",
          "data": {
            "application/vnd.google.colaboratory.intrinsic+json": {
              "type": "string"
            },
            "text/plain": [
              "'3.2.3'"
            ]
          },
          "metadata": {},
          "execution_count": 2
        }
      ]
    },
    {
      "cell_type": "code",
      "metadata": {
        "id": "5GlpBHUvcWup"
      },
      "source": [
        "%%capture\n",
        "\n",
        "!wget https://raw.githubusercontent.com/JohnSnowLabs/spark-nlp-workshop/master/jsl_colab_setup.sh\n",
        "!bash jsl_colab_setup.sh"
      ],
      "execution_count": null,
      "outputs": []
    },
    {
      "cell_type": "code",
      "metadata": {
        "id": "3Ytzw_HUcZM_"
      },
      "source": [
        "import os \n",
        "\n",
        "os.environ[\"SPARK_NLP_LICENSE\"] = SPARK_NLP_LICENSE    \n",
        "os.environ[\"SECRET\"] = SECRET\n",
        "os.environ[\"AWS_ACCESS_KEY_ID\"] = AWS_ACCESS_KEY_ID     \n",
        "os.environ[\"AWS_SECRET_ACCESS_KEY\"] = AWS_SECRET_ACCESS_KEY"
      ],
      "execution_count": null,
      "outputs": []
    },
    {
      "cell_type": "code",
      "metadata": {
        "id": "t7dc0LUDccIq"
      },
      "source": [
        "%%capture\n",
        "! pip install --upgrade spark-nlp==$PUBLIC_VERSION findspark\n",
        "! pip install --upgrade spark-nlp-jsl==$JSL_VERSION  --extra-index-url https://pypi.johnsnowlabs.com/$SECRET\n",
        "! pip install --ignore-installed spark-nlp-display"
      ],
      "execution_count": null,
      "outputs": []
    },
    {
      "cell_type": "code",
      "metadata": {
        "colab": {
          "base_uri": "https://localhost:8080/"
        },
        "id": "1k1zBYWVcnOu",
        "outputId": "33fc13d8-d04b-486d-b789-06fad4e9566e"
      },
      "source": [
        "# Install java\n",
        "! sudo apt-get install -y openjdk-8-jdk-headless -qq > /dev/null\n",
        "! java -version\n",
        "\n",
        "os.environ['JAVA_HOME'] = \"/usr/lib/jvm/java-8-openjdk-amd64\"\n",
        "os.environ['PATH'] = os.environ['JAVA_HOME'] + \"/bin:\" + os.environ['PATH']"
      ],
      "execution_count": null,
      "outputs": [
        {
          "output_type": "stream",
          "name": "stdout",
          "text": [
            "openjdk version \"1.8.0_292\"\n",
            "OpenJDK Runtime Environment (build 1.8.0_292-8u292-b10-0ubuntu1~18.04-b10)\n",
            "OpenJDK 64-Bit Server VM (build 25.292-b10, mixed mode)\n"
          ]
        }
      ]
    },
    {
      "cell_type": "code",
      "metadata": {
        "colab": {
          "base_uri": "https://localhost:8080/"
        },
        "id": "emQDF6lDc33M",
        "outputId": "a56dd2f8-2b6d-4ae1-8ca9-9da68d7d0595"
      },
      "source": [
        "import sparknlp\n",
        "\n",
        "print (f\"sparknlp version: {sparknlp.version()}\")\n",
        "import pandas as pd\n",
        "import json\n",
        "import os\n",
        "from pyspark.ml import Pipeline\n",
        "from pyspark.sql import SparkSession\n",
        "\n",
        "from sparknlp.annotator import *\n",
        "\n",
        "from sparknlp.base import *\n",
        "import pyspark.sql.functions as F\n",
        "\n",
        "# import internal package\n",
        "import sparknlp_jsl\n",
        "from sparknlp_jsl.annotator import *\n",
        "\n",
        "print (f\"sparknlp-jsl version: {sparknlp.version()}\")\n",
        "\n",
        "spark = sparknlp_jsl.start(license_keys['SECRET'])"
      ],
      "execution_count": null,
      "outputs": [
        {
          "output_type": "stream",
          "name": "stdout",
          "text": [
            "sparknlp version: 3.3.1\n",
            "sparknlp-jsl version: 3.3.1\n"
          ]
        }
      ]
    },
    {
      "cell_type": "markdown",
      "metadata": {
        "id": "zRoqgg0yjPuO"
      },
      "source": [
        "## 2. Create example inputs"
      ]
    },
    {
      "cell_type": "code",
      "metadata": {
        "id": "hPv_x3Ssc6EG"
      },
      "source": [
        "text_list_jsl = [\n",
        "             \"\"\"The patient is a 30-year-old female with a long history of insulin dependent diabetes, type 2; coronary artery disease; chronic renal insufficiency; peripheral vascular disease, also secondary to diabetes; who was originally admitted to an outside hospital for what appeared to be acute paraplegia, lower extremities. She did receive a course of Bactrim for 14 days for UTI. Evidently, at some point in time, the patient was noted to develop a pressure-type wound on the sole of her left foot and left great toe. She was also noted to have a large sacral wound; this is in a similar location with her previous laminectomy, and this continues to receive daily care. The patient was transferred secondary to inability to participate in full physical and occupational therapy and continue medical management of her diabetes, the sacral decubitus, left foot pressure wound, and associated complications of diabetes. She is given Fragmin 5000 units subcutaneously daily, Xenaderm to wounds topically b.i.d., Lantus 40 units subcutaneously at bedtime, OxyContin 30 mg p.o. q.12 h., folic acid 1 mg daily, levothyroxine 0.1 mg p.o. daily, Prevacid 30 mg daily, Avandia 4 mg daily, Norvasc 10 mg daily, Lexapro 20 mg daily, aspirin 81 mg daily, Senna 2 tablets p.o. q.a.m., Neurontin 400 mg p.o. t.i.d., Percocet 5/325 mg 2 tablets q.4 h. p.r.n., magnesium citrate 1 bottle p.o. p.r.n., sliding scale coverage insulin, Wellbutrin 100 mg p.o. daily, and Bactrim DS b.i.d.\"\"\"]"
      ],
      "execution_count": null,
      "outputs": []
    },
    {
      "cell_type": "code",
      "metadata": {
        "id": "schwjlMDh4sY"
      },
      "source": [
        "text_list_drug = [\n",
        "    \"The human KCNJ9 (Kir 3.3, GIRK3) is a member of the G-protein-activated inwardly rectifying potassium (GIRK) channel family. Here we describe the genomic organization of the KCNJ9 locus on chromosome 1q21-23 as a candidate gene for type II diabetes mellitus in the Pima Indian population. The gene spans approximately 7.6 kb and contains one noncoding and two coding exons separated by approximately 2.2 and approximately 2.6 kb introns, respectively. We identified14 single nucleotide polymorphisms (SNPs), including one that predicts aVal366Ala substitution, and an 8 base-pair (bp) insertion/deletion. Our expression studies revealed the presence of the transcript in various human tissues including the pancreas, and two major insulin-responsive tissues: fat and skeletal muscle. The characterization of the KCNJ9 gene should facilitate further studies on the function of the KCNJ9 protein and allow evaluation of the potential role of the locus in Type II diabetes.BACKGROUND: At present, it is one of the most important issues for the treatment of breast cancer to develop the standard therapy for patients previously treated with anthracyclines and taxanes. With the objective of determining the usefulness of vinorelbine monotherapy in patients with advanced or recurrent breast cancer after standard therapy, we evaluated the efficacy and safety of vinorelbine in patients previously treated with anthracyclines and taxanes.\"]"
      ],
      "execution_count": null,
      "outputs": []
    },
    {
      "cell_type": "code",
      "metadata": {
        "id": "dQh9mkgJhnf3"
      },
      "source": [
        "text_list_deid = [\n",
        "    \"\"\"HISTORY OF PRESENT ILLNESS: Mr. Smith is a 60-year-old white male veteran with multiple comorbidities, who has a history of bladder cancer diagnosed approximately two years ago by the VA Hospital. He underwent a resection there. He was to be admitted to the Day Hospital for cystectomy. He was seen in Urology Clinic and Radiology Clinic on 02/04/2003.\n",
        "\n",
        "HOSPITAL COURSE: Mr. Smith presented to the Day Hospital in anticipation for Urology surgery. On evaluation, EKG, echocardiogram was abnormal, a Cardiology consult was obtained. A cardiac adenosine stress MRI was then proceeded, same was positive for inducible ischemia, mild-to-moderate inferolateral subendocardial infarction with peri-infarct ischemia. In addition, inducible ischemia seen in the inferior lateral septum. Mr. Smith underwent a left heart catheterization, which revealed two vessel coronary artery disease. The RCA, proximal was 95% stenosed and the distal 80% stenosed. The mid LAD was 85% stenosed and the distal LAD was 85% stenosed. There was four Multi-Link Vision bare metal stents placed to decrease all four lesions to 0%. Following intervention, Mr. Smith was admitted to 7 Ardmore Tower under Cardiology Service under the direction of Dr. Hart. Mr. Smith had a noncomplicated post-intervention hospital course. He was stable for discharge home on 02/07/2003 with instructions to take Plavix daily for one month and Urology is aware of the same.\"\"\"]"
      ],
      "execution_count": null,
      "outputs": []
    },
    {
      "cell_type": "code",
      "metadata": {
        "id": "SAHYyo2oOion"
      },
      "source": [
        "text_list_jsl_slim = [\"\"\"HPI: A 69-year-old white female with a history of metastatic breast cancer, depression, anxiety, recent UTI, and obstructive uropathy, admitted to the ABCD Hospital on February 6, 2007, for lightheadedness, weakness, and shortness of breath. The patient was consulted by Psychiatry for anxiety. I know this patient from a previous consult. During this recent admission, the patient has experienced anxiety and had a panic attack yesterday with \"syncopal episodes.\" She was given Ativan 0.25 mg on a p.r.n. basis with relief after one to two hours. The patient was seen by Abc, MD, and Def, Ph.D. The laboratories were reviewed and were positive for UTI, and anemia is also present. The TSH level was within normal limits. She previously responded well to trazodone for depression, poor appetite, and decreased sleep and anxiety. A low dose of Klonopin was also helpful for sedation.\n",
        "\n",
        "PAST MEDICAL HISTORY: Metastatic breast cancer to bone. The patient also has a history of hypertension, hypothyroidism, recurrent UTI secondary to obstruction of left ureteropelvic junction, cholelithiasis, chronic renal insufficiency, Port-A-Cath placement, and hydronephrosis.\n",
        "\n",
        "PAST PSYCHIATRIC HISTORY: The patient has a history of depression and anxiety. She was taking Remeron 15 mg q.h.s., Ambien 5 mg q.h.s. on a p.r.n. basis, Ativan 0.25 mg every 6 hours on a p.r.n. basis, and Klonopin 0.25 mg at night while she was at home.\"\"\",\n",
        " \"\"\"The patient is a 21-day-old Caucasian male here for 2 days of congestion - mom has been suctioning yellow discharge from the patient's nares, plus she has noticed some mild problems with his breathing while feeding (but negative for any perioral cyanosis or retractions). One day ago, mom also noticed a tactile temperature and gave the patient Tylenol. Baby also has had some decreased p.o. intake. His normal breast-feeding is down from 20 minutes q.2h. to 5 to 10 minutes secondary to his respiratory congestion. He sleeps well, but has been more tired and has been fussy over the past 2 days. The parents noticed no improvement with albuterol treatments given in the ER. His urine output has also decreased; normally he has 8 to 10 wet and 5 dirty diapers per 24 hours, now he has down to 4 wet diapers per 24 hours. Mom denies any diarrhea. His bowel movements are yellow colored and soft in nature.\"\"\",\n",
        " \"\"\" The patient is a 40-year-old white male who presents with a chief complaint of \"chest pain\". The patient is diabetic and has a prior history of coronary artery disease. The patient presents today stating that his chest pain started yesterday evening and has been somewhat intermittent. He has been advised Aspirin 81 milligrams QDay. Humulin N. insulin 50 units in a.m. HCTZ 50 mg QDay. Nitroglycerin 1/150 sublingually PRN chest pain.\"\"\",\n",
        " \"\"\" HISTORY OF PRESENT ILLNESS: The patient is a 68-year-old Korean gentleman with a history of coronary artery disease, hypertension, diabetes and stage III CKD with a creatinine of 1.8 in May 2006 corresponding with the GFR of 40-41 mL/min. The patient had blood work done at Dr. XYZ's office on June 01, 2006, which revealed an elevation in his creatinine up to 2.3. He was asked to come in to see a nephrologist for further evaluation. I am therefore asked by Dr. XYZ to see this patient in consultation for evaluation of acute on chronic kidney failure. The patient states that he was actually taking up to 12 to 13 pills of Chinese herbs and dietary supplements for the past year. He only stopped about two or three weeks ago. He also states that TriCor was added about one or two months ago but he is not sure of the date. He has not had an ultrasound but has been diagnosed with prostatic hypertrophy by his primary care doctor and placed on Flomax. He states that his urinary dribbling and weak stream had not improved since doing this. For the past couple of weeks, he has had dizziness in the morning. This is then associated with low glucose. However the patient's blood glucose this morning was 123 and he still was dizzy. This was worse on standing. He states that he has been checking his blood pressure regularly at home because he has felt so bad and that he has gotten under 100/60 on several occasions. His pulses remained in the 60s.\n",
        "\n",
        "ALLERGIES: None.\n",
        "\n",
        "MEDICATIONS: Imdur 20 mg two to three times daily, nitroglycerin p.r.n., insulin 70/30 40/45 units daily, Zetia 10 mg daily, ? Triglide 50 mg daily, Prevacid 30 mg daily, Plavix 75 mg daily, potassium 10 mEq daily, Lasix 60 mg daily, folate 1 mg b.i.d., Niaspan 500 mg daily, atenolol 50 mg daily, enalapril 10 mg b.i.d., glyburide 10 mg b.i.d., Xanax 0.25 mg b.i.d., aspirin 325 mg daily, Tylenol p.r.n., Zantac 150 mg b.i.d., Crestor 5 mg daily, TriCor 145 mg daily, Digitek 0.125 mg daily, Celexa 20 mg daily, and Flomax 0.4 mg daily.\"\"\",\n",
        " \"\"\"Mr. ABC is a 60-year-old gentleman who had a markedly abnormal stress test earlier today in my office with severe chest pain after 5 minutes of exercise on the standard Bruce with horizontal ST depressions and moderate apical ischemia on stress imaging only. He required 3 sublingual nitroglycerin in total (please see also admission history and physical for full details). \n",
        "\n",
        "The patient underwent cardiac catheterization with myself today which showed mild-to-moderate left main distal disease of 30%, moderate proximal LAD with a severe mid-LAD lesion of 99%, and a mid-left circumflex lesion of 80% with normal LV function and some mild luminal irregularities in the right coronary artery with some moderate stenosis seen in the mid to distal right PDA.\n",
        "\n",
        "I discussed these results with the patient, and he had been relating to me that he was having rest anginal symptoms, as well as nocturnal anginal symptoms, and especially given the severity of the mid left anterior descending lesion, with a markedly abnormal stress test, I felt he was best suited for transfer for PCI. I discussed the case with Dr. X at Medical Center who has kindly accepted the patient in transfer.\n",
        "\n",
        "CONDITION ON TRANSFER: Stable but guarded. The patient is pain-free at this time.\n",
        "\n",
        "MEDICATIONS ON TRANSFER:\n",
        "1. Aspirin 325 mg once a day.\n",
        "2. Metoprolol 50 mg once a day, but we have had to hold it because of relative bradycardia which he apparently has a history of.\n",
        "3. Nexium 40 mg once a day.\n",
        "4. Zocor 40 mg once a day, and there is a fasting lipid profile pending at the time of this dictation. I see that his LDL was 136 on May 3, 2002.\n",
        "5. Plavix 600 mg p.o. x1 which I am giving him tonight.\"\"\"]"
      ],
      "execution_count": null,
      "outputs": []
    },
    {
      "cell_type": "code",
      "metadata": {
        "id": "TtSwu8scDfvy"
      },
      "source": [
        "text_list_bacteria = [\"\"\"Based on these genetic and phenotypic properties, we propose that strain SMSP (T) represents \\\n",
        "a novel species of the genus Methanoregula, for which we propose the name Methanoregula formicica \\\n",
        "sp. nov., with the type strain SMSP (T) (= NBRC 105244 (T) = DSM 22288 (T)).\"\"\"]"
      ],
      "execution_count": null,
      "outputs": []
    },
    {
      "cell_type": "code",
      "metadata": {
        "id": "JR5Vi3LnDf4w"
      },
      "source": [
        "text_list_ade = [\"\"\"Been taking Lipitor for 15 years , have experienced severe fatigue a lot!!! . Doctor moved me to voltaren 2 months ago , so far , have only experienced cramps\"\"\"]"
      ],
      "execution_count": null,
      "outputs": []
    },
    {
      "cell_type": "code",
      "metadata": {
        "id": "ZXY24WA-DgBB"
      },
      "source": [
        "text_list_anatomy = [\"\"\"This is an 11-year-old female who comes in for two different things. 1. She was seen by the allergist. No allergies present, so she stopped her Allegra, but she is still real congested and does a lot of snorting. They do not notice a lot of snoring at night though, but she seems to be always like that. 2. On her right great toe, she has got some redness and erythema. Her skin is kind of peeling a little bit, but it has been like that for about a week and a half now.\\nGeneral: Well-developed female, in no acute distress, afebrile.\\nHEENT: Sclerae and conjunctivae clear. Extraocular muscles intact. TMs clear. Nares patent. A little bit of swelling of the turbinates on the left. Oropharynx is essentially clear. Mucous membranes are moist.\\nNeck: No lymphadenopathy.\\nChest: Clear.\\nAbdomen: Positive bowel sounds and soft.\\nDermatologic: She has got redness along her right great toe, but no bleeding or oozing. Some dryness of her skin. Her toenails themselves are very short and even on her left foot and her left great toe the toenails are very short.\"\"\"]"
      ],
      "execution_count": null,
      "outputs": []
    },
    {
      "cell_type": "code",
      "metadata": {
        "id": "0wi1OYrEDgK7"
      },
      "source": [
        "text_list_chemicals = [\"\"\"The results have shown that the product p - choloroaniline is not a significant factor in chlorhexidine - digluconate associated erosive cystitis. \"A high percentage of kanamycin - colistin and povidone - iodine irrigations were associated with erosive cystitis.\"\"\"]"
      ],
      "execution_count": null,
      "outputs": []
    },
    {
      "cell_type": "code",
      "metadata": {
        "id": "0T3w-HzYDgSH"
      },
      "source": [
        "text_list_chemprot = [\"Keratinocyte growth factor and acidic fibroblast growth factor are mitogens for primary cultures of mammary epithelium.\"]"
      ],
      "execution_count": null,
      "outputs": []
    },
    {
      "cell_type": "code",
      "metadata": {
        "id": "wy7NpcVzLYjB"
      },
      "source": [
        "text_list_ner_bionlp = [\"\"\"The human KCNJ9 (Kir 3.3, GIRK3) is a member of the G-protein-activated inwardly rectifying potassium (GIRK) channel family. Here we describe the genomicorganization of the KCNJ9 locus on chromosome 1q21-23 as a candidate gene forType II diabetes mellitus in the Pima Indian population. The gene spansapproximately 7.6 kb and contains one noncoding and two coding exons separated byapproximately 2.2 and approximately 2.6 kb introns, respectively. We identified14 single nucleotide polymorphisms (SNPs), including one that predicts aVal366Ala substitution, and an 8 base-pair (bp) insertion/deletion. Ourexpression studies revealed the presence of the transcript in various humantissues including pancreas, and two major insulin-responsive tissues: fat andskeletal muscle. The characterization of the KCNJ9 gene should facilitate furtherstudies on the function of the KCNJ9 protein and allow evaluation of thepotential role of the locus in Type II diabetes.\"\"\"]"
      ],
      "execution_count": null,
      "outputs": []
    },
    {
      "cell_type": "markdown",
      "metadata": {
        "id": "ELr5bVqXdDFt"
      },
      "source": [
        "## 3. Select the NER model, construct the pipeline and visualize the results."
      ]
    },
    {
      "cell_type": "markdown",
      "metadata": {
        "id": "bRsfpYVUdMKt"
      },
      "source": [
        "Select the NER model - Models: **'bert_token_classifier_ner_jsl', 'bert_token_classifier_ner_drugs', 'bert_token_classifier_ner_deid', 'bert_token_classifier_ner_bacteria','bert_token_classifier_ner_ade','bert_token_classifier_ner_anatomy', 'bert_token_classifier_ner_chemicals','bert_token_classifier_ner_chemprot','bert_token_classifier_ner_bionlp'**\n",
        "\n",
        "For more details: https://github.com/JohnSnowLabs/spark-nlp-models#pretrained-models---spark-nlp-for-healthcare"
      ]
    },
    {
      "cell_type": "code",
      "metadata": {
        "id": "jsCbGRiiiAMN"
      },
      "source": [
        "model_list = ['bert_token_classifier_ner_jsl','bert_token_classifier_ner_drugs','bert_token_classifier_ner_deid','bert_token_classifier_ner_bacteria','bert_token_classifier_ner_ade','bert_token_classifier_ner_anatomy', 'bert_token_classifier_ner_chemicals','bert_token_classifier_ner_chemprot', 'bert_token_classifier_ner_bionlp']\n"
      ],
      "execution_count": null,
      "outputs": []
    },
    {
      "cell_type": "code",
      "metadata": {
        "colab": {
          "base_uri": "https://localhost:8080/",
          "height": 1000
        },
        "id": "GGYEuN5JiDhu",
        "outputId": "757fc964-45b8-4341-c623-ff96f610a143"
      },
      "source": [
        "from sparknlp_display import NerVisualizer\n",
        "for MODEL_NAME in model_list:\n",
        "\n",
        "    documentAssembler = DocumentAssembler()\\\n",
        "      .setInputCol(\"text\")\\\n",
        "      .setOutputCol(\"document\")\n",
        "\n",
        "    sentenceDetector = SentenceDetectorDLModel.pretrained() \\\n",
        "          .setInputCols([\"document\"]) \\\n",
        "          .setOutputCol(\"sentence\") \n",
        "\n",
        "    tokenizer = Tokenizer()\\\n",
        "      .setInputCols(\"sentence\")\\\n",
        "      .setOutputCol(\"token\")\n",
        "      \n",
        "    tokenClassifier = BertForTokenClassification.pretrained( MODEL_NAME, \"en\", 'clinical/models')\\\n",
        "      .setInputCols(\"sentence\",\"token\")\\\n",
        "      .setOutputCol(\"ner\")\\\n",
        "      .setCaseSensitive(True)\n",
        "\n",
        "    ner_converter = NerConverter()\\\n",
        "      .setInputCols([\"sentence\",\"token\",\"ner\"])\\\n",
        "      .setOutputCol(\"ner_chunk\")\n",
        "\n",
        "    pipeline =  Pipeline(stages=[documentAssembler,sentenceDetector, tokenizer, tokenClassifier, ner_converter])\n",
        "    pipelineModel = pipeline.fit(spark.createDataFrame([['']]).toDF(\"text\"))\n",
        "    \n",
        "    if MODEL_NAME == \"bert_token_classifier_ner_jsl\":\n",
        "      df = spark.createDataFrame(pd.DataFrame({\"text\": text_list_jsl}))\n",
        "    elif MODEL_NAME == \"bert_token_classifier_ner_drugs\":\n",
        "      df = spark.createDataFrame(pd.DataFrame({\"text\": text_list_drug}))\n",
        "    elif MODEL_NAME == \"bert_token_classifier_ner_deid\":\n",
        "      df = spark.createDataFrame(pd.DataFrame({\"text\": text_list_deid}))\n",
        "    elif MODEL_NAME == \"bert_token_classififer_ner_bacteria\":\n",
        "      df = spark.createDataFrame(pd.DataFrame({\"text\": text_list_bacteria}))\n",
        "    elif MODEL_NAME == \"bert_token_classifier_ner_jsl_slim\":\n",
        "      df = spark.createDataFrame(pd.DataFrame({\"text\": text_list_jsl_slim}))\n",
        "    elif MODEL_NAME == \"bert_token_classifier_ner_ade\":\n",
        "      df = spark.createDataFrame(pd.DataFrame({\"text\": text_list_ade}))\n",
        "    elif MODEL_NAME == \"bert_token_classifier_ner_anatomy\":\n",
        "      df = spark.createDataFrame(pd.DataFrame({\"text\": text_list_anatomy}))\n",
        "    elif MODEL_NAME == \"bert_token_classifier_ner_chemicals\":\n",
        "      df = spark.createDataFrame(pd.DataFrame({\"text\": text_list_chemicals}))\n",
        "    elif MODEL_NAME == \"bert_token_classifier_ner_bionlp\":\n",
        "      df = spark.createDataFrame(pd.DataFrame({\"text\": text_list_ner_bionlp}))\n",
        "    elif MODEL_NAME == \"bert_token_classifier_ner_chemprot\":\n",
        "      df = spark.createDataFrame(pd.DataFrame({\"text\": text_list_chemprot}))\n",
        "\n",
        "\n",
        "    print(\"<----------------- MODEL NAME:\",\"\\033[1m\" + MODEL_NAME + \"\\033[0m\",\" ----------------- >\")\n",
        "    result = pipelineModel.transform(df)\n",
        "    result.select(F.explode(F.arrays_zip('ner_chunk.result', 'ner_chunk.metadata')).alias(\"cols\")) \\\n",
        "          .select(F.expr(\"cols['0']\").alias(\"chunk\"),\n",
        "                  F.expr(\"cols['1']['entity']\").alias(\"ner_label\"))\\\n",
        "          .show(truncate=False)\n",
        "\n",
        "    NerVisualizer().display(\n",
        "        result = result.collect()[0],\n",
        "        label_col = 'ner_chunk',\n",
        "        document_col = 'document'\n",
        "    )"
      ],
      "execution_count": null,
      "outputs": [
        {
          "output_type": "stream",
          "name": "stdout",
          "text": [
            "sentence_detector_dl download started this may take some time.\n",
            "Approximate size to download 354.6 KB\n",
            "[OK!]\n",
            "bert_token_classifier_ner_jsl download started this may take some time.\n",
            "Approximate size to download 385.8 MB\n",
            "[OK!]\n",
            "<----------------- MODEL NAME: \u001b[1mbert_token_classifier_ner_jsl\u001b[0m  ----------------- >\n",
            "+---------------------------+----------------------------+\n",
            "|chunk                      |ner_label                   |\n",
            "+---------------------------+----------------------------+\n",
            "|30-year-old                |Age                         |\n",
            "|female                     |Gender                      |\n",
            "|insulin dependent          |Diabetes                    |\n",
            "|diabetes                   |Diabetes                    |\n",
            "|type 2                     |Diabetes                    |\n",
            "|coronary artery disease    |Heart_Disease               |\n",
            "|chronic renal insufficiency|Kidney_Disease              |\n",
            "|peripheral vascular disease|Disease_Syndrome_Disorder   |\n",
            "|diabetes                   |Diabetes                    |\n",
            "|admitted                   |Admission_Discharge         |\n",
            "|hospital                   |Clinical_Dept               |\n",
            "|acute                      |Modifier                    |\n",
            "|paraplegia                 |Symptom                     |\n",
            "|lower extremities          |External_body_part_or_region|\n",
            "|She                        |Gender                      |\n",
            "|Bactrim                    |Drug_BrandName              |\n",
            "|for 14 days                |Duration                    |\n",
            "|UTI                        |Disease_Syndrome_Disorder   |\n",
            "|pressure-type wound        |Symptom                     |\n",
            "|sole                       |External_body_part_or_region|\n",
            "+---------------------------+----------------------------+\n",
            "only showing top 20 rows\n",
            "\n"
          ]
        },
        {
          "output_type": "display_data",
          "data": {
            "text/html": [
              "\n",
              "<style>\n",
              "    @import url('https://fonts.googleapis.com/css2?family=Montserrat:wght@300;400;500;600;700&display=swap');\n",
              "    @import url('https://fonts.googleapis.com/css2?family=Vistol Regular:wght@300;400;500;600;700&display=swap');\n",
              "    \n",
              "    .spark-nlp-display-scroll-entities {\n",
              "        border: 1px solid #E7EDF0;\n",
              "        border-radius: 3px;\n",
              "        text-align: justify;\n",
              "        \n",
              "    }\n",
              "    .spark-nlp-display-scroll-entities span {  \n",
              "        font-size: 14px;\n",
              "        line-height: 24px;\n",
              "        color: #536B76;\n",
              "        font-family: 'Montserrat', sans-serif !important;\n",
              "    }\n",
              "    \n",
              "    .spark-nlp-display-entity-wrapper{\n",
              "    \n",
              "        display: inline-grid;\n",
              "        text-align: center;\n",
              "        border-radius: 4px;\n",
              "        margin: 0 2px 5px 2px;\n",
              "        padding: 1px\n",
              "    }\n",
              "    .spark-nlp-display-entity-name{\n",
              "        font-size: 14px;\n",
              "        line-height: 24px;\n",
              "        font-family: 'Montserrat', sans-serif !important;\n",
              "        \n",
              "        background: #f1f2f3;\n",
              "        border-width: medium;\n",
              "        text-align: center;\n",
              "        \n",
              "        font-weight: 400;\n",
              "        \n",
              "        border-radius: 5px;\n",
              "        padding: 2px 5px;\n",
              "        display: block;\n",
              "        margin: 3px 2px;\n",
              "    \n",
              "    }\n",
              "    .spark-nlp-display-entity-type{\n",
              "        font-size: 14px;\n",
              "        line-height: 24px;\n",
              "        color: #ffffff;\n",
              "        font-family: 'Montserrat', sans-serif !important;\n",
              "        \n",
              "        text-transform: uppercase;\n",
              "        \n",
              "        font-weight: 500;\n",
              "\n",
              "        display: block;\n",
              "        padding: 3px 5px;\n",
              "    }\n",
              "    \n",
              "    .spark-nlp-display-entity-resolution{\n",
              "        font-size: 14px;\n",
              "        line-height: 24px;\n",
              "        color: #ffffff;\n",
              "        font-family: 'Vistol Regular', sans-serif !important;\n",
              "        \n",
              "        text-transform: uppercase;\n",
              "        \n",
              "        font-weight: 500;\n",
              "\n",
              "        display: block;\n",
              "        padding: 3px 5px;\n",
              "    }\n",
              "    \n",
              "    .spark-nlp-display-others{\n",
              "        font-size: 14px;\n",
              "        line-height: 24px;\n",
              "        font-family: 'Montserrat', sans-serif !important;\n",
              "        \n",
              "        font-weight: 400;\n",
              "    }\n",
              "\n",
              "</style>\n",
              " <span class=\"spark-nlp-display-others\" style=\"background-color: white\">The patient is a </span><span class=\"spark-nlp-display-entity-wrapper\" style=\"background-color: #ffe0ac\"><span class=\"spark-nlp-display-entity-name\">30-year-old </span><span class=\"spark-nlp-display-entity-type\">Age</span></span><span class=\"spark-nlp-display-others\" style=\"background-color: white\"> </span><span class=\"spark-nlp-display-entity-wrapper\" style=\"background-color: #ffacb7\"><span class=\"spark-nlp-display-entity-name\">female </span><span class=\"spark-nlp-display-entity-type\">Gender</span></span><span class=\"spark-nlp-display-others\" style=\"background-color: white\"> with a long history of </span><span class=\"spark-nlp-display-entity-wrapper\" style=\"background-color: #9E0033\"><span class=\"spark-nlp-display-entity-name\">insulin dependent </span><span class=\"spark-nlp-display-entity-type\">Diabetes</span></span><span class=\"spark-nlp-display-others\" style=\"background-color: white\"> </span><span class=\"spark-nlp-display-entity-wrapper\" style=\"background-color: #9E0033\"><span class=\"spark-nlp-display-entity-name\">diabetes </span><span class=\"spark-nlp-display-entity-type\">Diabetes</span></span><span class=\"spark-nlp-display-others\" style=\"background-color: white\">, </span><span class=\"spark-nlp-display-entity-wrapper\" style=\"background-color: #9E0033\"><span class=\"spark-nlp-display-entity-name\">type 2 </span><span class=\"spark-nlp-display-entity-type\">Diabetes</span></span><span class=\"spark-nlp-display-others\" style=\"background-color: white\">; </span><span class=\"spark-nlp-display-entity-wrapper\" style=\"background-color: #845816\"><span class=\"spark-nlp-display-entity-name\">coronary artery disease </span><span class=\"spark-nlp-display-entity-type\">Heart_Disease</span></span><span class=\"spark-nlp-display-others\" style=\"background-color: white\">; </span><span class=\"spark-nlp-display-entity-wrapper\" style=\"background-color: #153A34\"><span class=\"spark-nlp-display-entity-name\">chronic renal insufficiency </span><span class=\"spark-nlp-display-entity-type\">Kidney_Disease</span></span><span class=\"spark-nlp-display-others\" style=\"background-color: white\">; </span><span class=\"spark-nlp-display-entity-wrapper\" style=\"background-color: #C28966\"><span class=\"spark-nlp-display-entity-name\">peripheral vascular disease </span><span class=\"spark-nlp-display-entity-type\">Disease_Syndrome_Disorder</span></span><span class=\"spark-nlp-display-others\" style=\"background-color: white\">, also secondary to </span><span class=\"spark-nlp-display-entity-wrapper\" style=\"background-color: #9E0033\"><span class=\"spark-nlp-display-entity-name\">diabetes </span><span class=\"spark-nlp-display-entity-type\">Diabetes</span></span><span class=\"spark-nlp-display-others\" style=\"background-color: white\">; who was originally </span><span class=\"spark-nlp-display-entity-wrapper\" style=\"background-color: #B4B63E\"><span class=\"spark-nlp-display-entity-name\">admitted </span><span class=\"spark-nlp-display-entity-type\">Admission_Discharge</span></span><span class=\"spark-nlp-display-others\" style=\"background-color: white\"> to an outside </span><span class=\"spark-nlp-display-entity-wrapper\" style=\"background-color: #4D3788\"><span class=\"spark-nlp-display-entity-name\">hospital </span><span class=\"spark-nlp-display-entity-type\">Clinical_Dept</span></span><span class=\"spark-nlp-display-others\" style=\"background-color: white\"> for what appeared to be </span><span class=\"spark-nlp-display-entity-wrapper\" style=\"background-color: #8B475D\"><span class=\"spark-nlp-display-entity-name\">acute </span><span class=\"spark-nlp-display-entity-type\">Modifier</span></span><span class=\"spark-nlp-display-others\" style=\"background-color: white\"> </span><span class=\"spark-nlp-display-entity-wrapper\" style=\"background-color: #B625BD\"><span class=\"spark-nlp-display-entity-name\">paraplegia </span><span class=\"spark-nlp-display-entity-type\">Symptom</span></span><span class=\"spark-nlp-display-others\" style=\"background-color: white\">, </span><span class=\"spark-nlp-display-entity-wrapper\" style=\"background-color: #1B6F5F\"><span class=\"spark-nlp-display-entity-name\">lower extremities </span><span class=\"spark-nlp-display-entity-type\">External_body_part_or_region</span></span><span class=\"spark-nlp-display-others\" style=\"background-color: white\">. </span><span class=\"spark-nlp-display-entity-wrapper\" style=\"background-color: #ffacb7\"><span class=\"spark-nlp-display-entity-name\">She </span><span class=\"spark-nlp-display-entity-type\">Gender</span></span><span class=\"spark-nlp-display-others\" style=\"background-color: white\"> did receive a course of </span><span class=\"spark-nlp-display-entity-wrapper\" style=\"background-color: #AC4F5C\"><span class=\"spark-nlp-display-entity-name\">Bactrim </span><span class=\"spark-nlp-display-entity-type\">Drug_BrandName</span></span><span class=\"spark-nlp-display-others\" style=\"background-color: white\"> </span><span class=\"spark-nlp-display-entity-wrapper\" style=\"background-color: #9691AD\"><span class=\"spark-nlp-display-entity-name\">for 14 days </span><span class=\"spark-nlp-display-entity-type\">Duration</span></span><span class=\"spark-nlp-display-others\" style=\"background-color: white\"> for </span><span class=\"spark-nlp-display-entity-wrapper\" style=\"background-color: #C28966\"><span class=\"spark-nlp-display-entity-name\">UTI </span><span class=\"spark-nlp-display-entity-type\">Disease_Syndrome_Disorder</span></span><span class=\"spark-nlp-display-others\" style=\"background-color: white\">. Evidently, at some point in time, the patient was noted to develop a </span><span class=\"spark-nlp-display-entity-wrapper\" style=\"background-color: #B625BD\"><span class=\"spark-nlp-display-entity-name\">pressure-type wound </span><span class=\"spark-nlp-display-entity-type\">Symptom</span></span><span class=\"spark-nlp-display-others\" style=\"background-color: white\"> on the </span><span class=\"spark-nlp-display-entity-wrapper\" style=\"background-color: #1B6F5F\"><span class=\"spark-nlp-display-entity-name\">sole </span><span class=\"spark-nlp-display-entity-type\">External_body_part_or_region</span></span><span class=\"spark-nlp-display-others\" style=\"background-color: white\"> of </span><span class=\"spark-nlp-display-entity-wrapper\" style=\"background-color: #ffacb7\"><span class=\"spark-nlp-display-entity-name\">her </span><span class=\"spark-nlp-display-entity-type\">Gender</span></span><span class=\"spark-nlp-display-others\" style=\"background-color: white\"> </span><span class=\"spark-nlp-display-entity-wrapper\" style=\"background-color: #60228D\"><span class=\"spark-nlp-display-entity-name\">left </span><span class=\"spark-nlp-display-entity-type\">Direction</span></span><span class=\"spark-nlp-display-others\" style=\"background-color: white\"> </span><span class=\"spark-nlp-display-entity-wrapper\" style=\"background-color: #1B6F5F\"><span class=\"spark-nlp-display-entity-name\">foot </span><span class=\"spark-nlp-display-entity-type\">External_body_part_or_region</span></span><span class=\"spark-nlp-display-others\" style=\"background-color: white\"> and </span><span class=\"spark-nlp-display-entity-wrapper\" style=\"background-color: #60228D\"><span class=\"spark-nlp-display-entity-name\">left </span><span class=\"spark-nlp-display-entity-type\">Direction</span></span><span class=\"spark-nlp-display-others\" style=\"background-color: white\"> </span><span class=\"spark-nlp-display-entity-wrapper\" style=\"background-color: #1B6F5F\"><span class=\"spark-nlp-display-entity-name\">great toe </span><span class=\"spark-nlp-display-entity-type\">External_body_part_or_region</span></span><span class=\"spark-nlp-display-others\" style=\"background-color: white\">. </span><span class=\"spark-nlp-display-entity-wrapper\" style=\"background-color: #ffacb7\"><span class=\"spark-nlp-display-entity-name\">She </span><span class=\"spark-nlp-display-entity-type\">Gender</span></span><span class=\"spark-nlp-display-others\" style=\"background-color: white\"> was also noted to have a </span><span class=\"spark-nlp-display-entity-wrapper\" style=\"background-color: #8B475D\"><span class=\"spark-nlp-display-entity-name\">large </span><span class=\"spark-nlp-display-entity-type\">Modifier</span></span><span class=\"spark-nlp-display-others\" style=\"background-color: white\"> </span><span class=\"spark-nlp-display-entity-wrapper\" style=\"background-color: #B625BD\"><span class=\"spark-nlp-display-entity-name\">sacral wound </span><span class=\"spark-nlp-display-entity-type\">Symptom</span></span><span class=\"spark-nlp-display-others\" style=\"background-color: white\">; this is in a similar location with </span><span class=\"spark-nlp-display-entity-wrapper\" style=\"background-color: #ffacb7\"><span class=\"spark-nlp-display-entity-name\">her </span><span class=\"spark-nlp-display-entity-type\">Gender</span></span><span class=\"spark-nlp-display-others\" style=\"background-color: white\"> previous </span><span class=\"spark-nlp-display-entity-wrapper\" style=\"background-color: #A20478\"><span class=\"spark-nlp-display-entity-name\">laminectomy </span><span class=\"spark-nlp-display-entity-type\">Procedure</span></span><span class=\"spark-nlp-display-others\" style=\"background-color: white\">, and this continues to receive </span><span class=\"spark-nlp-display-entity-wrapper\" style=\"background-color: #BA342E\"><span class=\"spark-nlp-display-entity-name\">daily </span><span class=\"spark-nlp-display-entity-type\">Frequency</span></span><span class=\"spark-nlp-display-others\" style=\"background-color: white\"> care. The patient was transferred secondary to inability to participate in full physical and occupational </span><span class=\"spark-nlp-display-entity-wrapper\" style=\"background-color: #8b6673\"><span class=\"spark-nlp-display-entity-name\">therapy </span><span class=\"spark-nlp-display-entity-type\">Treatment</span></span><span class=\"spark-nlp-display-others\" style=\"background-color: white\"> and continue medical management of </span><span class=\"spark-nlp-display-entity-wrapper\" style=\"background-color: #ffacb7\"><span class=\"spark-nlp-display-entity-name\">her </span><span class=\"spark-nlp-display-entity-type\">Gender</span></span><span class=\"spark-nlp-display-others\" style=\"background-color: white\"> </span><span class=\"spark-nlp-display-entity-wrapper\" style=\"background-color: #9E0033\"><span class=\"spark-nlp-display-entity-name\">diabetes </span><span class=\"spark-nlp-display-entity-type\">Diabetes</span></span><span class=\"spark-nlp-display-others\" style=\"background-color: white\">, the </span><span class=\"spark-nlp-display-entity-wrapper\" style=\"background-color: #C28966\"><span class=\"spark-nlp-display-entity-name\">sacral decubitus </span><span class=\"spark-nlp-display-entity-type\">Disease_Syndrome_Disorder</span></span><span class=\"spark-nlp-display-others\" style=\"background-color: white\">, </span><span class=\"spark-nlp-display-entity-wrapper\" style=\"background-color: #60228D\"><span class=\"spark-nlp-display-entity-name\">left </span><span class=\"spark-nlp-display-entity-type\">Direction</span></span><span class=\"spark-nlp-display-others\" style=\"background-color: white\"> </span><span class=\"spark-nlp-display-entity-wrapper\" style=\"background-color: #B625BD\"><span class=\"spark-nlp-display-entity-name\">foot pressure wound </span><span class=\"spark-nlp-display-entity-type\">Symptom</span></span><span class=\"spark-nlp-display-others\" style=\"background-color: white\">, and associated complications of </span><span class=\"spark-nlp-display-entity-wrapper\" style=\"background-color: #9E0033\"><span class=\"spark-nlp-display-entity-name\">diabetes </span><span class=\"spark-nlp-display-entity-type\">Diabetes</span></span><span class=\"spark-nlp-display-others\" style=\"background-color: white\">. </span><span class=\"spark-nlp-display-entity-wrapper\" style=\"background-color: #ffacb7\"><span class=\"spark-nlp-display-entity-name\">She </span><span class=\"spark-nlp-display-entity-type\">Gender</span></span><span class=\"spark-nlp-display-others\" style=\"background-color: white\"> is given </span><span class=\"spark-nlp-display-entity-wrapper\" style=\"background-color: #AC4F5C\"><span class=\"spark-nlp-display-entity-name\">Fragmin </span><span class=\"spark-nlp-display-entity-type\">Drug_BrandName</span></span><span class=\"spark-nlp-display-others\" style=\"background-color: white\"> </span><span class=\"spark-nlp-display-entity-wrapper\" style=\"background-color: #1A6083\"><span class=\"spark-nlp-display-entity-name\">5000 units </span><span class=\"spark-nlp-display-entity-type\">Dosage</span></span><span class=\"spark-nlp-display-others\" style=\"background-color: white\"> </span><span class=\"spark-nlp-display-entity-wrapper\" style=\"background-color: #021F77\"><span class=\"spark-nlp-display-entity-name\">subcutaneously </span><span class=\"spark-nlp-display-entity-type\">Route</span></span><span class=\"spark-nlp-display-others\" style=\"background-color: white\"> </span><span class=\"spark-nlp-display-entity-wrapper\" style=\"background-color: #BA342E\"><span class=\"spark-nlp-display-entity-name\">daily </span><span class=\"spark-nlp-display-entity-type\">Frequency</span></span><span class=\"spark-nlp-display-others\" style=\"background-color: white\">, </span><span class=\"spark-nlp-display-entity-wrapper\" style=\"background-color: #AC4F5C\"><span class=\"spark-nlp-display-entity-name\">Xenaderm </span><span class=\"spark-nlp-display-entity-type\">Drug_BrandName</span></span><span class=\"spark-nlp-display-others\" style=\"background-color: white\"> to </span><span class=\"spark-nlp-display-entity-wrapper\" style=\"background-color: #B625BD\"><span class=\"spark-nlp-display-entity-name\">wounds </span><span class=\"spark-nlp-display-entity-type\">Symptom</span></span><span class=\"spark-nlp-display-others\" style=\"background-color: white\"> </span><span class=\"spark-nlp-display-entity-wrapper\" style=\"background-color: #021F77\"><span class=\"spark-nlp-display-entity-name\">topically </span><span class=\"spark-nlp-display-entity-type\">Route</span></span><span class=\"spark-nlp-display-others\" style=\"background-color: white\"> b.i.d., </span><span class=\"spark-nlp-display-entity-wrapper\" style=\"background-color: #AC4F5C\"><span class=\"spark-nlp-display-entity-name\">Lantus </span><span class=\"spark-nlp-display-entity-type\">Drug_BrandName</span></span><span class=\"spark-nlp-display-others\" style=\"background-color: white\"> </span><span class=\"spark-nlp-display-entity-wrapper\" style=\"background-color: #1A6083\"><span class=\"spark-nlp-display-entity-name\">40 units </span><span class=\"spark-nlp-display-entity-type\">Dosage</span></span><span class=\"spark-nlp-display-others\" style=\"background-color: white\"> </span><span class=\"spark-nlp-display-entity-wrapper\" style=\"background-color: #021F77\"><span class=\"spark-nlp-display-entity-name\">subcutaneously </span><span class=\"spark-nlp-display-entity-type\">Route</span></span><span class=\"spark-nlp-display-others\" style=\"background-color: white\"> </span><span class=\"spark-nlp-display-entity-wrapper\" style=\"background-color: #BA342E\"><span class=\"spark-nlp-display-entity-name\">at bedtime </span><span class=\"spark-nlp-display-entity-type\">Frequency</span></span><span class=\"spark-nlp-display-others\" style=\"background-color: white\">, </span><span class=\"spark-nlp-display-entity-wrapper\" style=\"background-color: #AC4F5C\"><span class=\"spark-nlp-display-entity-name\">OxyContin </span><span class=\"spark-nlp-display-entity-type\">Drug_BrandName</span></span><span class=\"spark-nlp-display-others\" style=\"background-color: white\"> </span><span class=\"spark-nlp-display-entity-wrapper\" style=\"background-color: #5E6384\"><span class=\"spark-nlp-display-entity-name\">30 mg </span><span class=\"spark-nlp-display-entity-type\">Strength</span></span><span class=\"spark-nlp-display-others\" style=\"background-color: white\"> </span><span class=\"spark-nlp-display-entity-wrapper\" style=\"background-color: #021F77\"><span class=\"spark-nlp-display-entity-name\">p.o. </span><span class=\"spark-nlp-display-entity-type\">Route</span></span><span class=\"spark-nlp-display-others\" style=\"background-color: white\"> </span><span class=\"spark-nlp-display-entity-wrapper\" style=\"background-color: #BA342E\"><span class=\"spark-nlp-display-entity-name\">q.12 h </span><span class=\"spark-nlp-display-entity-type\">Frequency</span></span><span class=\"spark-nlp-display-others\" style=\"background-color: white\">., </span><span class=\"spark-nlp-display-entity-wrapper\" style=\"background-color: #0D0407\"><span class=\"spark-nlp-display-entity-name\">folic acid </span><span class=\"spark-nlp-display-entity-type\">Drug_Ingredient</span></span><span class=\"spark-nlp-display-others\" style=\"background-color: white\"> </span><span class=\"spark-nlp-display-entity-wrapper\" style=\"background-color: #5E6384\"><span class=\"spark-nlp-display-entity-name\">1 mg </span><span class=\"spark-nlp-display-entity-type\">Strength</span></span><span class=\"spark-nlp-display-others\" style=\"background-color: white\"> </span><span class=\"spark-nlp-display-entity-wrapper\" style=\"background-color: #BA342E\"><span class=\"spark-nlp-display-entity-name\">daily </span><span class=\"spark-nlp-display-entity-type\">Frequency</span></span><span class=\"spark-nlp-display-others\" style=\"background-color: white\">, </span><span class=\"spark-nlp-display-entity-wrapper\" style=\"background-color: #0D0407\"><span class=\"spark-nlp-display-entity-name\">levothyroxine </span><span class=\"spark-nlp-display-entity-type\">Drug_Ingredient</span></span><span class=\"spark-nlp-display-others\" style=\"background-color: white\"> </span><span class=\"spark-nlp-display-entity-wrapper\" style=\"background-color: #5E6384\"><span class=\"spark-nlp-display-entity-name\">0.1 mg </span><span class=\"spark-nlp-display-entity-type\">Strength</span></span><span class=\"spark-nlp-display-others\" style=\"background-color: white\"> </span><span class=\"spark-nlp-display-entity-wrapper\" style=\"background-color: #021F77\"><span class=\"spark-nlp-display-entity-name\">p.o. </span><span class=\"spark-nlp-display-entity-type\">Route</span></span><span class=\"spark-nlp-display-others\" style=\"background-color: white\"> </span><span class=\"spark-nlp-display-entity-wrapper\" style=\"background-color: #BA342E\"><span class=\"spark-nlp-display-entity-name\">daily </span><span class=\"spark-nlp-display-entity-type\">Frequency</span></span><span class=\"spark-nlp-display-others\" style=\"background-color: white\">, </span><span class=\"spark-nlp-display-entity-wrapper\" style=\"background-color: #AC4F5C\"><span class=\"spark-nlp-display-entity-name\">Prevacid </span><span class=\"spark-nlp-display-entity-type\">Drug_BrandName</span></span><span class=\"spark-nlp-display-others\" style=\"background-color: white\"> </span><span class=\"spark-nlp-display-entity-wrapper\" style=\"background-color: #5E6384\"><span class=\"spark-nlp-display-entity-name\">30 mg </span><span class=\"spark-nlp-display-entity-type\">Strength</span></span><span class=\"spark-nlp-display-others\" style=\"background-color: white\"> </span><span class=\"spark-nlp-display-entity-wrapper\" style=\"background-color: #BA342E\"><span class=\"spark-nlp-display-entity-name\">daily </span><span class=\"spark-nlp-display-entity-type\">Frequency</span></span><span class=\"spark-nlp-display-others\" style=\"background-color: white\">, </span><span class=\"spark-nlp-display-entity-wrapper\" style=\"background-color: #AC4F5C\"><span class=\"spark-nlp-display-entity-name\">Avandia </span><span class=\"spark-nlp-display-entity-type\">Drug_BrandName</span></span><span class=\"spark-nlp-display-others\" style=\"background-color: white\"> </span><span class=\"spark-nlp-display-entity-wrapper\" style=\"background-color: #5E6384\"><span class=\"spark-nlp-display-entity-name\">4 mg </span><span class=\"spark-nlp-display-entity-type\">Strength</span></span><span class=\"spark-nlp-display-others\" style=\"background-color: white\"> </span><span class=\"spark-nlp-display-entity-wrapper\" style=\"background-color: #BA342E\"><span class=\"spark-nlp-display-entity-name\">daily </span><span class=\"spark-nlp-display-entity-type\">Frequency</span></span><span class=\"spark-nlp-display-others\" style=\"background-color: white\">, </span><span class=\"spark-nlp-display-entity-wrapper\" style=\"background-color: #AC4F5C\"><span class=\"spark-nlp-display-entity-name\">Norvasc </span><span class=\"spark-nlp-display-entity-type\">Drug_BrandName</span></span><span class=\"spark-nlp-display-others\" style=\"background-color: white\"> </span><span class=\"spark-nlp-display-entity-wrapper\" style=\"background-color: #5E6384\"><span class=\"spark-nlp-display-entity-name\">10 mg </span><span class=\"spark-nlp-display-entity-type\">Strength</span></span><span class=\"spark-nlp-display-others\" style=\"background-color: white\"> </span><span class=\"spark-nlp-display-entity-wrapper\" style=\"background-color: #BA342E\"><span class=\"spark-nlp-display-entity-name\">daily </span><span class=\"spark-nlp-display-entity-type\">Frequency</span></span><span class=\"spark-nlp-display-others\" style=\"background-color: white\">, </span><span class=\"spark-nlp-display-entity-wrapper\" style=\"background-color: #AC4F5C\"><span class=\"spark-nlp-display-entity-name\">Lexapro </span><span class=\"spark-nlp-display-entity-type\">Drug_BrandName</span></span><span class=\"spark-nlp-display-others\" style=\"background-color: white\"> </span><span class=\"spark-nlp-display-entity-wrapper\" style=\"background-color: #5E6384\"><span class=\"spark-nlp-display-entity-name\">20 mg </span><span class=\"spark-nlp-display-entity-type\">Strength</span></span><span class=\"spark-nlp-display-others\" style=\"background-color: white\"> </span><span class=\"spark-nlp-display-entity-wrapper\" style=\"background-color: #BA342E\"><span class=\"spark-nlp-display-entity-name\">daily </span><span class=\"spark-nlp-display-entity-type\">Frequency</span></span><span class=\"spark-nlp-display-others\" style=\"background-color: white\">, </span><span class=\"spark-nlp-display-entity-wrapper\" style=\"background-color: #0D0407\"><span class=\"spark-nlp-display-entity-name\">aspirin </span><span class=\"spark-nlp-display-entity-type\">Drug_Ingredient</span></span><span class=\"spark-nlp-display-others\" style=\"background-color: white\"> </span><span class=\"spark-nlp-display-entity-wrapper\" style=\"background-color: #5E6384\"><span class=\"spark-nlp-display-entity-name\">81 mg </span><span class=\"spark-nlp-display-entity-type\">Strength</span></span><span class=\"spark-nlp-display-others\" style=\"background-color: white\"> </span><span class=\"spark-nlp-display-entity-wrapper\" style=\"background-color: #BA342E\"><span class=\"spark-nlp-display-entity-name\">daily </span><span class=\"spark-nlp-display-entity-type\">Frequency</span></span><span class=\"spark-nlp-display-others\" style=\"background-color: white\">, </span><span class=\"spark-nlp-display-entity-wrapper\" style=\"background-color: #AC4F5C\"><span class=\"spark-nlp-display-entity-name\">Senna </span><span class=\"spark-nlp-display-entity-type\">Drug_BrandName</span></span><span class=\"spark-nlp-display-others\" style=\"background-color: white\"> </span><span class=\"spark-nlp-display-entity-wrapper\" style=\"background-color: #1A6083\"><span class=\"spark-nlp-display-entity-name\">2 </span><span class=\"spark-nlp-display-entity-type\">Dosage</span></span><span class=\"spark-nlp-display-others\" style=\"background-color: white\"> </span><span class=\"spark-nlp-display-entity-wrapper\" style=\"background-color: #3A1652\"><span class=\"spark-nlp-display-entity-name\">tablets </span><span class=\"spark-nlp-display-entity-type\">Form</span></span><span class=\"spark-nlp-display-others\" style=\"background-color: white\"> </span><span class=\"spark-nlp-display-entity-wrapper\" style=\"background-color: #021F77\"><span class=\"spark-nlp-display-entity-name\">p.o. q.a.m </span><span class=\"spark-nlp-display-entity-type\">Route</span></span><span class=\"spark-nlp-display-others\" style=\"background-color: white\">., </span><span class=\"spark-nlp-display-entity-wrapper\" style=\"background-color: #AC4F5C\"><span class=\"spark-nlp-display-entity-name\">Neurontin </span><span class=\"spark-nlp-display-entity-type\">Drug_BrandName</span></span><span class=\"spark-nlp-display-others\" style=\"background-color: white\"> </span><span class=\"spark-nlp-display-entity-wrapper\" style=\"background-color: #5E6384\"><span class=\"spark-nlp-display-entity-name\">400 mg </span><span class=\"spark-nlp-display-entity-type\">Strength</span></span><span class=\"spark-nlp-display-others\" style=\"background-color: white\"> </span><span class=\"spark-nlp-display-entity-wrapper\" style=\"background-color: #021F77\"><span class=\"spark-nlp-display-entity-name\">p.o. t.i.d </span><span class=\"spark-nlp-display-entity-type\">Route</span></span><span class=\"spark-nlp-display-others\" style=\"background-color: white\">., </span><span class=\"spark-nlp-display-entity-wrapper\" style=\"background-color: #AC4F5C\"><span class=\"spark-nlp-display-entity-name\">Percocet </span><span class=\"spark-nlp-display-entity-type\">Drug_BrandName</span></span><span class=\"spark-nlp-display-others\" style=\"background-color: white\"> </span><span class=\"spark-nlp-display-entity-wrapper\" style=\"background-color: #5E6384\"><span class=\"spark-nlp-display-entity-name\">5/325 mg </span><span class=\"spark-nlp-display-entity-type\">Strength</span></span><span class=\"spark-nlp-display-others\" style=\"background-color: white\"> </span><span class=\"spark-nlp-display-entity-wrapper\" style=\"background-color: #1A6083\"><span class=\"spark-nlp-display-entity-name\">2 </span><span class=\"spark-nlp-display-entity-type\">Dosage</span></span><span class=\"spark-nlp-display-others\" style=\"background-color: white\"> </span><span class=\"spark-nlp-display-entity-wrapper\" style=\"background-color: #3A1652\"><span class=\"spark-nlp-display-entity-name\">tablets </span><span class=\"spark-nlp-display-entity-type\">Form</span></span><span class=\"spark-nlp-display-others\" style=\"background-color: white\"> </span><span class=\"spark-nlp-display-entity-wrapper\" style=\"background-color: #BA342E\"><span class=\"spark-nlp-display-entity-name\">q.4 h. </span><span class=\"spark-nlp-display-entity-type\">Frequency</span></span><span class=\"spark-nlp-display-others\" style=\"background-color: white\"> </span><span class=\"spark-nlp-display-entity-wrapper\" style=\"background-color: #BA342E\"><span class=\"spark-nlp-display-entity-name\">p.r.n </span><span class=\"spark-nlp-display-entity-type\">Frequency</span></span><span class=\"spark-nlp-display-others\" style=\"background-color: white\">., </span><span class=\"spark-nlp-display-entity-wrapper\" style=\"background-color: #0D0407\"><span class=\"spark-nlp-display-entity-name\">magnesium citrate </span><span class=\"spark-nlp-display-entity-type\">Drug_Ingredient</span></span><span class=\"spark-nlp-display-others\" style=\"background-color: white\"> </span><span class=\"spark-nlp-display-entity-wrapper\" style=\"background-color: #1A6083\"><span class=\"spark-nlp-display-entity-name\">1 bottle </span><span class=\"spark-nlp-display-entity-type\">Dosage</span></span><span class=\"spark-nlp-display-others\" style=\"background-color: white\"> </span><span class=\"spark-nlp-display-entity-wrapper\" style=\"background-color: #021F77\"><span class=\"spark-nlp-display-entity-name\">p.o. p.r.n </span><span class=\"spark-nlp-display-entity-type\">Route</span></span><span class=\"spark-nlp-display-others\" style=\"background-color: white\">., </span><span class=\"spark-nlp-display-entity-wrapper\" style=\"background-color: #1A6083\"><span class=\"spark-nlp-display-entity-name\">sliding scale </span><span class=\"spark-nlp-display-entity-type\">Dosage</span></span><span class=\"spark-nlp-display-others\" style=\"background-color: white\"> coverage </span><span class=\"spark-nlp-display-entity-wrapper\" style=\"background-color: #0D0407\"><span class=\"spark-nlp-display-entity-name\">insulin </span><span class=\"spark-nlp-display-entity-type\">Drug_Ingredient</span></span><span class=\"spark-nlp-display-others\" style=\"background-color: white\">, </span><span class=\"spark-nlp-display-entity-wrapper\" style=\"background-color: #AC4F5C\"><span class=\"spark-nlp-display-entity-name\">Wellbutrin </span><span class=\"spark-nlp-display-entity-type\">Drug_BrandName</span></span><span class=\"spark-nlp-display-others\" style=\"background-color: white\"> </span><span class=\"spark-nlp-display-entity-wrapper\" style=\"background-color: #5E6384\"><span class=\"spark-nlp-display-entity-name\">100 mg </span><span class=\"spark-nlp-display-entity-type\">Strength</span></span><span class=\"spark-nlp-display-others\" style=\"background-color: white\"> </span><span class=\"spark-nlp-display-entity-wrapper\" style=\"background-color: #021F77\"><span class=\"spark-nlp-display-entity-name\">p.o. </span><span class=\"spark-nlp-display-entity-type\">Route</span></span><span class=\"spark-nlp-display-others\" style=\"background-color: white\"> </span><span class=\"spark-nlp-display-entity-wrapper\" style=\"background-color: #BA342E\"><span class=\"spark-nlp-display-entity-name\">daily </span><span class=\"spark-nlp-display-entity-type\">Frequency</span></span><span class=\"spark-nlp-display-others\" style=\"background-color: white\">, and </span><span class=\"spark-nlp-display-entity-wrapper\" style=\"background-color: #AC4F5C\"><span class=\"spark-nlp-display-entity-name\">Bactrim DS </span><span class=\"spark-nlp-display-entity-type\">Drug_BrandName</span></span><span class=\"spark-nlp-display-others\" style=\"background-color: white\"> </span><span class=\"spark-nlp-display-entity-wrapper\" style=\"background-color: #BA342E\"><span class=\"spark-nlp-display-entity-name\">b.i.d </span><span class=\"spark-nlp-display-entity-type\">Frequency</span></span><span class=\"spark-nlp-display-others\" style=\"background-color: white\">.</span></div>"
            ],
            "text/plain": [
              "<IPython.core.display.HTML object>"
            ]
          },
          "metadata": {}
        },
        {
          "output_type": "stream",
          "name": "stdout",
          "text": [
            "sentence_detector_dl download started this may take some time.\n",
            "Approximate size to download 354.6 KB\n",
            "[OK!]\n",
            "bert_token_classifier_ner_drugs download started this may take some time.\n",
            "Approximate size to download 385.3 MB\n",
            "[OK!]\n",
            "<----------------- MODEL NAME: \u001b[1mbert_token_classifier_ner_drugs\u001b[0m  ----------------- >\n",
            "+--------------+---------+\n",
            "|chunk         |ner_label|\n",
            "+--------------+---------+\n",
            "|potassium     |DrugChem |\n",
            "|nucleotide    |DrugChem |\n",
            "|anthracyclines|DrugChem |\n",
            "|taxanes       |DrugChem |\n",
            "|vinorelbine   |DrugChem |\n",
            "|vinorelbine   |DrugChem |\n",
            "|anthracyclines|DrugChem |\n",
            "|taxanes       |DrugChem |\n",
            "+--------------+---------+\n",
            "\n"
          ]
        },
        {
          "output_type": "display_data",
          "data": {
            "text/html": [
              "\n",
              "<style>\n",
              "    @import url('https://fonts.googleapis.com/css2?family=Montserrat:wght@300;400;500;600;700&display=swap');\n",
              "    @import url('https://fonts.googleapis.com/css2?family=Vistol Regular:wght@300;400;500;600;700&display=swap');\n",
              "    \n",
              "    .spark-nlp-display-scroll-entities {\n",
              "        border: 1px solid #E7EDF0;\n",
              "        border-radius: 3px;\n",
              "        text-align: justify;\n",
              "        \n",
              "    }\n",
              "    .spark-nlp-display-scroll-entities span {  \n",
              "        font-size: 14px;\n",
              "        line-height: 24px;\n",
              "        color: #536B76;\n",
              "        font-family: 'Montserrat', sans-serif !important;\n",
              "    }\n",
              "    \n",
              "    .spark-nlp-display-entity-wrapper{\n",
              "    \n",
              "        display: inline-grid;\n",
              "        text-align: center;\n",
              "        border-radius: 4px;\n",
              "        margin: 0 2px 5px 2px;\n",
              "        padding: 1px\n",
              "    }\n",
              "    .spark-nlp-display-entity-name{\n",
              "        font-size: 14px;\n",
              "        line-height: 24px;\n",
              "        font-family: 'Montserrat', sans-serif !important;\n",
              "        \n",
              "        background: #f1f2f3;\n",
              "        border-width: medium;\n",
              "        text-align: center;\n",
              "        \n",
              "        font-weight: 400;\n",
              "        \n",
              "        border-radius: 5px;\n",
              "        padding: 2px 5px;\n",
              "        display: block;\n",
              "        margin: 3px 2px;\n",
              "    \n",
              "    }\n",
              "    .spark-nlp-display-entity-type{\n",
              "        font-size: 14px;\n",
              "        line-height: 24px;\n",
              "        color: #ffffff;\n",
              "        font-family: 'Montserrat', sans-serif !important;\n",
              "        \n",
              "        text-transform: uppercase;\n",
              "        \n",
              "        font-weight: 500;\n",
              "\n",
              "        display: block;\n",
              "        padding: 3px 5px;\n",
              "    }\n",
              "    \n",
              "    .spark-nlp-display-entity-resolution{\n",
              "        font-size: 14px;\n",
              "        line-height: 24px;\n",
              "        color: #ffffff;\n",
              "        font-family: 'Vistol Regular', sans-serif !important;\n",
              "        \n",
              "        text-transform: uppercase;\n",
              "        \n",
              "        font-weight: 500;\n",
              "\n",
              "        display: block;\n",
              "        padding: 3px 5px;\n",
              "    }\n",
              "    \n",
              "    .spark-nlp-display-others{\n",
              "        font-size: 14px;\n",
              "        line-height: 24px;\n",
              "        font-family: 'Montserrat', sans-serif !important;\n",
              "        \n",
              "        font-weight: 400;\n",
              "    }\n",
              "\n",
              "</style>\n",
              " <span class=\"spark-nlp-display-others\" style=\"background-color: white\">The human KCNJ9 (Kir 3.3, GIRK3) is a member of the G-protein-activated inwardly rectifying </span><span class=\"spark-nlp-display-entity-wrapper\" style=\"background-color: #3FC2C6\"><span class=\"spark-nlp-display-entity-name\">potassium </span><span class=\"spark-nlp-display-entity-type\">DrugChem</span></span><span class=\"spark-nlp-display-others\" style=\"background-color: white\"> (GIRK) channel family. Here we describe the genomic organization of the KCNJ9 locus on chromosome 1q21-23 as a candidate gene for type II diabetes mellitus in the Pima Indian population. The gene spans approximately 7.6 kb and contains one noncoding and two coding exons separated by approximately 2.2 and approximately 2.6 kb introns, respectively. We identified14 single </span><span class=\"spark-nlp-display-entity-wrapper\" style=\"background-color: #3FC2C6\"><span class=\"spark-nlp-display-entity-name\">nucleotide </span><span class=\"spark-nlp-display-entity-type\">DrugChem</span></span><span class=\"spark-nlp-display-others\" style=\"background-color: white\"> polymorphisms (SNPs), including one that predicts aVal366Ala substitution, and an 8 base-pair (bp) insertion/deletion. Our expression studies revealed the presence of the transcript in various human tissues including the pancreas, and two major insulin-responsive tissues: fat and skeletal muscle. The characterization of the KCNJ9 gene should facilitate further studies on the function of the KCNJ9 protein and allow evaluation of the potential role of the locus in Type II diabetes.BACKGROUND: At present, it is one of the most important issues for the treatment of breast cancer to develop the standard therapy for patients previously treated with </span><span class=\"spark-nlp-display-entity-wrapper\" style=\"background-color: #3FC2C6\"><span class=\"spark-nlp-display-entity-name\">anthracyclines </span><span class=\"spark-nlp-display-entity-type\">DrugChem</span></span><span class=\"spark-nlp-display-others\" style=\"background-color: white\"> and </span><span class=\"spark-nlp-display-entity-wrapper\" style=\"background-color: #3FC2C6\"><span class=\"spark-nlp-display-entity-name\">taxanes </span><span class=\"spark-nlp-display-entity-type\">DrugChem</span></span><span class=\"spark-nlp-display-others\" style=\"background-color: white\">. With the objective of determining the usefulness of </span><span class=\"spark-nlp-display-entity-wrapper\" style=\"background-color: #3FC2C6\"><span class=\"spark-nlp-display-entity-name\">vinorelbine </span><span class=\"spark-nlp-display-entity-type\">DrugChem</span></span><span class=\"spark-nlp-display-others\" style=\"background-color: white\"> monotherapy in patients with advanced or recurrent breast cancer after standard therapy, we evaluated the efficacy and safety of </span><span class=\"spark-nlp-display-entity-wrapper\" style=\"background-color: #3FC2C6\"><span class=\"spark-nlp-display-entity-name\">vinorelbine </span><span class=\"spark-nlp-display-entity-type\">DrugChem</span></span><span class=\"spark-nlp-display-others\" style=\"background-color: white\"> in patients previously treated with </span><span class=\"spark-nlp-display-entity-wrapper\" style=\"background-color: #3FC2C6\"><span class=\"spark-nlp-display-entity-name\">anthracyclines </span><span class=\"spark-nlp-display-entity-type\">DrugChem</span></span><span class=\"spark-nlp-display-others\" style=\"background-color: white\"> and </span><span class=\"spark-nlp-display-entity-wrapper\" style=\"background-color: #3FC2C6\"><span class=\"spark-nlp-display-entity-name\">taxanes </span><span class=\"spark-nlp-display-entity-type\">DrugChem</span></span><span class=\"spark-nlp-display-others\" style=\"background-color: white\">.</span></div>"
            ],
            "text/plain": [
              "<IPython.core.display.HTML object>"
            ]
          },
          "metadata": {}
        },
        {
          "output_type": "stream",
          "name": "stdout",
          "text": [
            "sentence_detector_dl download started this may take some time.\n",
            "Approximate size to download 354.6 KB\n",
            "[OK!]\n",
            "bert_token_classifier_ner_deid download started this may take some time.\n",
            "Approximate size to download 385.4 MB\n",
            "[OK!]\n",
            "<----------------- MODEL NAME: \u001b[1mbert_token_classifier_ner_deid\u001b[0m  ----------------- >\n",
            "+---------------+---------+\n",
            "|chunk          |ner_label|\n",
            "+---------------+---------+\n",
            "|Smith          |PATIENT  |\n",
            "|60-year-old    |AGE      |\n",
            "|VA Hospital    |HOSPITAL |\n",
            "|Day Hospital   |HOSPITAL |\n",
            "|02/04/2003     |DATE     |\n",
            "|Smith          |PATIENT  |\n",
            "|Day Hospital   |HOSPITAL |\n",
            "|Smith          |PATIENT  |\n",
            "|Smith          |PATIENT  |\n",
            "|7 Ardmore Tower|STREET   |\n",
            "|Hart           |DOCTOR   |\n",
            "|Smith          |PATIENT  |\n",
            "|02/07/2003     |DATE     |\n",
            "+---------------+---------+\n",
            "\n"
          ]
        },
        {
          "output_type": "display_data",
          "data": {
            "text/html": [
              "\n",
              "<style>\n",
              "    @import url('https://fonts.googleapis.com/css2?family=Montserrat:wght@300;400;500;600;700&display=swap');\n",
              "    @import url('https://fonts.googleapis.com/css2?family=Vistol Regular:wght@300;400;500;600;700&display=swap');\n",
              "    \n",
              "    .spark-nlp-display-scroll-entities {\n",
              "        border: 1px solid #E7EDF0;\n",
              "        border-radius: 3px;\n",
              "        text-align: justify;\n",
              "        \n",
              "    }\n",
              "    .spark-nlp-display-scroll-entities span {  \n",
              "        font-size: 14px;\n",
              "        line-height: 24px;\n",
              "        color: #536B76;\n",
              "        font-family: 'Montserrat', sans-serif !important;\n",
              "    }\n",
              "    \n",
              "    .spark-nlp-display-entity-wrapper{\n",
              "    \n",
              "        display: inline-grid;\n",
              "        text-align: center;\n",
              "        border-radius: 4px;\n",
              "        margin: 0 2px 5px 2px;\n",
              "        padding: 1px\n",
              "    }\n",
              "    .spark-nlp-display-entity-name{\n",
              "        font-size: 14px;\n",
              "        line-height: 24px;\n",
              "        font-family: 'Montserrat', sans-serif !important;\n",
              "        \n",
              "        background: #f1f2f3;\n",
              "        border-width: medium;\n",
              "        text-align: center;\n",
              "        \n",
              "        font-weight: 400;\n",
              "        \n",
              "        border-radius: 5px;\n",
              "        padding: 2px 5px;\n",
              "        display: block;\n",
              "        margin: 3px 2px;\n",
              "    \n",
              "    }\n",
              "    .spark-nlp-display-entity-type{\n",
              "        font-size: 14px;\n",
              "        line-height: 24px;\n",
              "        color: #ffffff;\n",
              "        font-family: 'Montserrat', sans-serif !important;\n",
              "        \n",
              "        text-transform: uppercase;\n",
              "        \n",
              "        font-weight: 500;\n",
              "\n",
              "        display: block;\n",
              "        padding: 3px 5px;\n",
              "    }\n",
              "    \n",
              "    .spark-nlp-display-entity-resolution{\n",
              "        font-size: 14px;\n",
              "        line-height: 24px;\n",
              "        color: #ffffff;\n",
              "        font-family: 'Vistol Regular', sans-serif !important;\n",
              "        \n",
              "        text-transform: uppercase;\n",
              "        \n",
              "        font-weight: 500;\n",
              "\n",
              "        display: block;\n",
              "        padding: 3px 5px;\n",
              "    }\n",
              "    \n",
              "    .spark-nlp-display-others{\n",
              "        font-size: 14px;\n",
              "        line-height: 24px;\n",
              "        font-family: 'Montserrat', sans-serif !important;\n",
              "        \n",
              "        font-weight: 400;\n",
              "    }\n",
              "\n",
              "</style>\n",
              " <span class=\"spark-nlp-display-others\" style=\"background-color: white\">HISTORY OF PRESENT ILLNESS: Mr. </span><span class=\"spark-nlp-display-entity-wrapper\" style=\"background-color: #6D6587\"><span class=\"spark-nlp-display-entity-name\">Smith </span><span class=\"spark-nlp-display-entity-type\">PATIENT</span></span><span class=\"spark-nlp-display-others\" style=\"background-color: white\"> is a </span><span class=\"spark-nlp-display-entity-wrapper\" style=\"background-color: #ffe0ac\"><span class=\"spark-nlp-display-entity-name\">60-year-old </span><span class=\"spark-nlp-display-entity-type\">AGE</span></span><span class=\"spark-nlp-display-others\" style=\"background-color: white\"> white male veteran with multiple comorbidities, who has a history of bladder cancer diagnosed approximately two years ago by the </span><span class=\"spark-nlp-display-entity-wrapper\" style=\"background-color: #BBACB1\"><span class=\"spark-nlp-display-entity-name\">VA Hospital </span><span class=\"spark-nlp-display-entity-type\">HOSPITAL</span></span><span class=\"spark-nlp-display-others\" style=\"background-color: white\">. He underwent a resection there. He was to be admitted to the </span><span class=\"spark-nlp-display-entity-wrapper\" style=\"background-color: #BBACB1\"><span class=\"spark-nlp-display-entity-name\">Day Hospital </span><span class=\"spark-nlp-display-entity-type\">HOSPITAL</span></span><span class=\"spark-nlp-display-others\" style=\"background-color: white\"> for cystectomy. He was seen in Urology Clinic and Radiology Clinic on </span><span class=\"spark-nlp-display-entity-wrapper\" style=\"background-color: #a6b1e1\"><span class=\"spark-nlp-display-entity-name\">02/04/2003 </span><span class=\"spark-nlp-display-entity-type\">DATE</span></span><span class=\"spark-nlp-display-others\" style=\"background-color: white\">.<br><br>HOSPITAL COURSE: Mr. </span><span class=\"spark-nlp-display-entity-wrapper\" style=\"background-color: #6D6587\"><span class=\"spark-nlp-display-entity-name\">Smith </span><span class=\"spark-nlp-display-entity-type\">PATIENT</span></span><span class=\"spark-nlp-display-others\" style=\"background-color: white\"> presented to the </span><span class=\"spark-nlp-display-entity-wrapper\" style=\"background-color: #BBACB1\"><span class=\"spark-nlp-display-entity-name\">Day Hospital </span><span class=\"spark-nlp-display-entity-type\">HOSPITAL</span></span><span class=\"spark-nlp-display-others\" style=\"background-color: white\"> in anticipation for Urology surgery. On evaluation, EKG, echocardiogram was abnormal, a Cardiology consult was obtained. A cardiac adenosine stress MRI was then proceeded, same was positive for inducible ischemia, mild-to-moderate inferolateral subendocardial infarction with peri-infarct ischemia. In addition, inducible ischemia seen in the inferior lateral septum. Mr. </span><span class=\"spark-nlp-display-entity-wrapper\" style=\"background-color: #6D6587\"><span class=\"spark-nlp-display-entity-name\">Smith </span><span class=\"spark-nlp-display-entity-type\">PATIENT</span></span><span class=\"spark-nlp-display-others\" style=\"background-color: white\"> underwent a left heart catheterization, which revealed two vessel coronary artery disease. The RCA, proximal was 95% stenosed and the distal 80% stenosed. The mid LAD was 85% stenosed and the distal LAD was 85% stenosed. There was four Multi-Link Vision bare metal stents placed to decrease all four lesions to 0%. Following intervention, Mr. </span><span class=\"spark-nlp-display-entity-wrapper\" style=\"background-color: #6D6587\"><span class=\"spark-nlp-display-entity-name\">Smith </span><span class=\"spark-nlp-display-entity-type\">PATIENT</span></span><span class=\"spark-nlp-display-others\" style=\"background-color: white\"> was admitted to </span><span class=\"spark-nlp-display-entity-wrapper\" style=\"background-color: #B3B59F\"><span class=\"spark-nlp-display-entity-name\">7 Ardmore Tower </span><span class=\"spark-nlp-display-entity-type\">STREET</span></span><span class=\"spark-nlp-display-others\" style=\"background-color: white\"> under Cardiology Service under the direction of Dr. </span><span class=\"spark-nlp-display-entity-wrapper\" style=\"background-color: #988562\"><span class=\"spark-nlp-display-entity-name\">Hart </span><span class=\"spark-nlp-display-entity-type\">DOCTOR</span></span><span class=\"spark-nlp-display-others\" style=\"background-color: white\">. Mr. </span><span class=\"spark-nlp-display-entity-wrapper\" style=\"background-color: #6D6587\"><span class=\"spark-nlp-display-entity-name\">Smith </span><span class=\"spark-nlp-display-entity-type\">PATIENT</span></span><span class=\"spark-nlp-display-others\" style=\"background-color: white\"> had a noncomplicated post-intervention hospital course. He was stable for discharge home on </span><span class=\"spark-nlp-display-entity-wrapper\" style=\"background-color: #a6b1e1\"><span class=\"spark-nlp-display-entity-name\">02/07/2003 </span><span class=\"spark-nlp-display-entity-type\">DATE</span></span><span class=\"spark-nlp-display-others\" style=\"background-color: white\"> with instructions to take Plavix daily for one month and Urology is aware of the same.</span></div>"
            ],
            "text/plain": [
              "<IPython.core.display.HTML object>"
            ]
          },
          "metadata": {}
        }
      ]
    },
    {
      "cell_type": "code",
      "metadata": {
        "id": "0xlJbGcF_j_b"
      },
      "source": [
        ""
      ],
      "execution_count": null,
      "outputs": []
    }
  ]
}
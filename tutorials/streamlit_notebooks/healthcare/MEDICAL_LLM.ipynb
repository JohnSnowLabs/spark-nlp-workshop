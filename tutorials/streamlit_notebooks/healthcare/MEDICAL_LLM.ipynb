{
  "nbformat": 4,
  "nbformat_minor": 0,
  "metadata": {
    "colab": {
      "provenance": [],
      "machine_shape": "hm",
      "gpuType": "T4"
    },
    "kernelspec": {
      "name": "python3",
      "display_name": "Python 3"
    },
    "language_info": {
      "name": "python"
    },
    "accelerator": "GPU"
  },
  "cells": [
    {
      "cell_type": "markdown",
      "source": [
        "![JohnSnowLabs](https://nlp.johnsnowlabs.com/assets/images/logo.png)\n",
        "\n",
        "[![Open In Colab](https://colab.research.google.com/assets/colab-badge.svg)](https://colab.research.google.com/github/JohnSnowLabs/spark-nlp-workshop/blob/master/tutorials/streamlit_notebooks/healthcare/MEDICAL_LLM.ipynb)"
      ],
      "metadata": {
        "id": "1vwjYPT5OXUH"
      }
    },
    {
      "cell_type": "markdown",
      "source": [
        "# **MEDICAL_LLM**"
      ],
      "metadata": {
        "id": "k8NCNppzOnVf"
      }
    },
    {
      "cell_type": "code",
      "execution_count": null,
      "metadata": {
        "id": "a6V-EFjVOIKF"
      },
      "outputs": [],
      "source": [
        "import json, os\n",
        "from google.colab import files\n",
        "\n",
        "if 'spark_jsl.json' not in os.listdir():\n",
        "  license_keys = files.upload()\n",
        "  os.rename(list(license_keys.keys())[0], 'spark_jsl.json')\n",
        "\n",
        "with open('spark_jsl.json') as f:\n",
        "    license_keys = json.load(f)\n",
        "\n",
        "# Defining license key-value pairs as local variables\n",
        "locals().update(license_keys)\n",
        "os.environ.update(license_keys)"
      ]
    },
    {
      "cell_type": "code",
      "source": [
        "# Installing pyspark and spark-nlp\n",
        "! pip install --upgrade -q pyspark==3.1.2 spark-nlp==$PUBLIC_VERSION\n",
        "\n",
        "# Installing Spark NLP Healthcare\n",
        "! pip install --upgrade -q spark-nlp-jsl==$JSL_VERSION  --extra-index-url https://pypi.johnsnowlabs.com/$SECRET\n",
        "\n",
        "# Installing Spark NLP Display Library for visualization\n",
        "! pip install -q spark-nlp-display"
      ],
      "metadata": {
        "id": "h433HTctOj2K"
      },
      "execution_count": null,
      "outputs": []
    },
    {
      "cell_type": "code",
      "source": [
        "import sparknlp\n",
        "import sparknlp_jsl\n",
        "\n",
        "from sparknlp.base import *\n",
        "from sparknlp.annotator import *\n",
        "from sparknlp_jsl.annotator import *\n",
        "\n",
        "from pyspark.sql import SparkSession\n",
        "from pyspark.sql import functions as F\n",
        "from pyspark.ml import Pipeline,PipelineModel\n",
        "from pyspark.sql.types import StringType, IntegerType\n",
        "\n",
        "import pandas as pd\n",
        "pd.set_option('display.max_colwidth', 200)\n",
        "\n",
        "import warnings\n",
        "warnings.filterwarnings('ignore')\n",
        "\n",
        "params = {\"spark.driver.memory\":\"16G\",\n",
        "          \"spark.kryoserializer.buffer.max\":\"2000M\",\n",
        "          \"spark.driver.maxResultSize\":\"2000M\"}\n",
        "\n",
        "spark = sparknlp_jsl.start(license_keys['SECRET'],params=params)\n",
        "\n",
        "print(\"Spark NLP Version :\", sparknlp.version())\n",
        "print(\"Spark NLP_JSL Version :\", sparknlp_jsl.version())\n",
        "\n",
        "spark"
      ],
      "metadata": {
        "colab": {
          "base_uri": "https://localhost:8080/",
          "height": 254
        },
        "id": "dQKIo7viOjyp",
        "outputId": "0abda3bc-a6f0-4ba5-c1b5-0240095e56f7"
      },
      "execution_count": null,
      "outputs": [
        {
          "output_type": "stream",
          "name": "stdout",
          "text": [
            "Spark NLP Version : 4.4.4\n",
            "Spark NLP_JSL Version : 4.4.4\n"
          ]
        },
        {
          "output_type": "execute_result",
          "data": {
            "text/plain": [
              "<pyspark.sql.session.SparkSession at 0x7f2c9e76ee90>"
            ],
            "text/html": [
              "\n",
              "            <div>\n",
              "                <p><b>SparkSession - in-memory</b></p>\n",
              "                \n",
              "        <div>\n",
              "            <p><b>SparkContext</b></p>\n",
              "\n",
              "            <p><a href=\"http://672b3d5621f5:4040\">Spark UI</a></p>\n",
              "\n",
              "            <dl>\n",
              "              <dt>Version</dt>\n",
              "                <dd><code>v3.1.2</code></dd>\n",
              "              <dt>Master</dt>\n",
              "                <dd><code>local[*]</code></dd>\n",
              "              <dt>AppName</dt>\n",
              "                <dd><code>Spark NLP Licensed</code></dd>\n",
              "            </dl>\n",
              "        </div>\n",
              "        \n",
              "            </div>\n",
              "        "
            ]
          },
          "metadata": {},
          "execution_count": 3
        }
      ]
    },
    {
      "cell_type": "markdown",
      "source": [
        "# **Medical Question Answering**"
      ],
      "metadata": {
        "id": "8bcJPfXHOsm9"
      }
    },
    {
      "cell_type": "markdown",
      "source": [
        "**Welcoming BioGPT (Generative Pre-Trained Transformer For Biomedical Text Generation and Mining) to Spark NLP**\n",
        "\n",
        "BioGPT is a domain-specific generative pre-trained Transformer language model for biomedical text generation and mining. BioGPT follows the Transformer language model backbone, and is pre-trained on 15M PubMed abstracts from scratch. Experiments demonstrate that BioGPT achieves better performance compared with baseline methods and other well-performing methods across all the tasks. Read more at [the official paper.](https://arxiv.org/abs/2210.10341)\n",
        "\n",
        "We ported BioGPT (`BioGPT-QA-PubMedQA-BioGPT`) into Spark NLP for Healthcare with better inference speed and memory optimization, that enable us to get 20x faster results with less memory compared to the HuggingFace version.\n"
      ],
      "metadata": {
        "id": "BFT28YQfOw_U"
      }
    },
    {
      "cell_type": "markdown",
      "source": [
        "# 🔎 MODELS"
      ],
      "metadata": {
        "id": "7zRo5GzwPKE-"
      }
    },
    {
      "cell_type": "markdown",
      "source": [
        "<div align=\"center\">\n",
        "\n",
        "| **Index** | **Question Answer Models**        |\n",
        "|---------------|----------------------|\n",
        "| 1        | [medical_qa_biogpt](https://nlp.johnsnowlabs.com/2023/05/17/medical_qa_biogpt_en.html)     |\n",
        "| 2          | [flan_t5_base_jsl_qa](https://nlp.johnsnowlabs.com/2023/05/15/flan_t5_base_jsl_qa_en.html)       |\n",
        "| 3          | [clinical_notes_qa_large](https://nlp.johnsnowlabs.com/2023/07/06/clinical_notes_qa_base.html)       |\n",
        "| 4          | [clinical_notes_qa_base](https://nlp.johnsnowlabs.com/2023/07/06/clinical_notes_qa_large.html)       |\n",
        "\n",
        "\n",
        "</div>"
      ],
      "metadata": {
        "id": "TJdGNGTrPIFc"
      }
    },
    {
      "cell_type": "code",
      "source": [
        "paper_abstract = [\n",
        "    \"We have previously reported the feasibility of diagnostic and therapeutic peritoneoscopy including liver biopsy, gastrojejunostomy, and tubal ligation by an oral transgastric approach. We present results of per-oral transgastric splenectomy in a porcine model. The goal of this study was to determine the technical feasibility of per-oral transgastric splenectomy using a flexible endoscope. We performed acute experiments on 50-kg pigs. All animals were fed liquids for 3 days prior to procedure. The procedures were performed under general anesthesia with endotracheal intubation. The flexible endoscope was passed per orally into the stomach and puncture of the gastric wall was performed with a needle knife. The puncture was extended to create a 1.5-cm incision using a pull-type sphincterotome, and a double-channel endoscope was advanced into the peritoneal cavity. The peritoneal cavity was insufflated with air through the endoscope. The spleen was visualized. The splenic vessels were ligated with endoscopic loops and clips, and then mesentery was dissected using electrocautery. Endoscopic splenectomy was performed on six pigs. There were no complications during gastric incision and entrance into the peritoneal cavity. Visualization of the spleen and other intraperitoneal organs was very good. Ligation of the splenic vessels and mobilization of the spleen were achieved using commercially available devices and endoscopic accessories.\",\n",
        "    \"To evaluate the degree to which histologic chorioamnionitis, a frequent finding in placentas submitted for histopathologic evaluation, correlates with clinical indicators of infection in the mother. A retrospective review was performed on 52 cases with a histologic diagnosis of acute chorioamnionitis from 2,051 deliveries at University Hospital, Newark, from January 2003 to July 2003. Third-trimester placentas without histologic chorioamnionitis (n = 52) served as controls. Cases and controls were selected sequentially. Maternal medical records were reviewed for indicators of maternal infection. Histologic chorioamnionitis was significantly associated with the usage of antibiotics (p = 0.0095) and a higher mean white blood cell count (p = 0.018). The presence of 1 or more clinical indicators was significantly associated with the presence of histologic chorioamnionitis (p = 0.019).\",\n",
        "    \"In patients with Los Angeles (LA) grade C or D oesophagitis, a positive relationship has been established between the duration of intragastric acid suppression and healing.AIM: To determine whether there is an apparent optimal time of intragastric acid suppression for maximal healing of reflux oesophagitis. Post hoc analysis of data from a proof-of-concept, double-blind, randomized study of 134 adult patients treated with esomeprazole (10 or 40 mg od for 4 weeks) for LA grade C or D oesophagitis. A curve was fitted to pooled 24-h intragastric pH (day 5) and endoscopically assessed healing (4 weeks) data using piecewise quadratic logistic regression. Maximal reflux oesophagitis healing rates were achieved when intragastric pH>4 was achieved for approximately 50-70% (12-17 h) of the 24-h period. Acid suppression above this threshold did not yield further increases in healing rates.\"\n",
        "                  ]\n",
        "\n",
        "question = [\n",
        "    \"Transgastric endoscopic splenectomy: is it possible?\",\n",
        "    \"Does histologic chorioamnionitis correspond to clinical chorioamnionitis?\",\n",
        "    \"Is there an optimal time of acid suppression for maximal healing?\"\n",
        "          ]\n",
        "\n",
        "data = spark.createDataFrame(\n",
        "    [\n",
        "        [paper_abstract[0],  question[0]],\n",
        "        [paper_abstract[1],  question[1]],\n",
        "        [paper_abstract[2],  question[2]],\n",
        "    ]\n",
        ").toDF(\"context\",\"question\")\n",
        "\n",
        "data.show(truncate = 60)"
      ],
      "metadata": {
        "colab": {
          "base_uri": "https://localhost:8080/"
        },
        "id": "eMOkqceROjvd",
        "outputId": "9d89fe02-a611-4323-caf7-f975da3a73b4"
      },
      "execution_count": null,
      "outputs": [
        {
          "output_type": "stream",
          "name": "stdout",
          "text": [
            "+------------------------------------------------------------+------------------------------------------------------------+\n",
            "|                                                     context|                                                    question|\n",
            "+------------------------------------------------------------+------------------------------------------------------------+\n",
            "|We have previously reported the feasibility of diagnostic...|        Transgastric endoscopic splenectomy: is it possible?|\n",
            "|To evaluate the degree to which histologic chorioamnionit...|Does histologic chorioamnionitis correspond to clinical c...|\n",
            "|In patients with Los Angeles (LA) grade C or D oesophagit...|Is there an optimal time of acid suppression for maximal ...|\n",
            "+------------------------------------------------------------+------------------------------------------------------------+\n",
            "\n"
          ]
        }
      ]
    },
    {
      "cell_type": "markdown",
      "source": [
        "## medical_qa_biogpt"
      ],
      "metadata": {
        "id": "fz5wpODPIneG"
      }
    },
    {
      "cell_type": "markdown",
      "metadata": {
        "id": "C0N6wrU0rgSg"
      },
      "source": [
        "### **Short answer**"
      ]
    },
    {
      "cell_type": "markdown",
      "metadata": {
        "id": "yz9TfQ5RfIzc"
      },
      "source": [
        " `Short` answers usually consist of brief and concise responses such as \"yes\" or \"no\", and they are typically given as yes/no responses to do/does, is/are, or other question words."
      ]
    },
    {
      "cell_type": "code",
      "execution_count": null,
      "metadata": {
        "id": "QUanLWZ0qy7N",
        "colab": {
          "base_uri": "https://localhost:8080/"
        },
        "outputId": "378457e3-62a0-4d77-f378-c778c2009196"
      },
      "outputs": [
        {
          "output_type": "stream",
          "name": "stdout",
          "text": [
            "medical_qa_biogpt download started this may take some time.\n",
            "[OK!]\n"
          ]
        }
      ],
      "source": [
        "document_assembler = MultiDocumentAssembler()\\\n",
        "    .setInputCols(\"question\", \"context\")\\\n",
        "    .setOutputCols(\"document_question\", \"document_context\")\n",
        "\n",
        "med_qa = MedicalQuestionAnswering.pretrained(\"medical_qa_biogpt\",\"en\",\"clinical/models\")\\\n",
        "    .setInputCols([\"document_question\", \"document_context\"])\\\n",
        "    .setOutputCol(\"answer\")\\\n",
        "    .setMaxNewTokens(30)\\\n",
        "    .setTopK(1)\\\n",
        "    .setQuestionType(\"short\") # \"long\"\n",
        "\n",
        "pipeline = Pipeline(stages=[document_assembler, med_qa])\n",
        "\n",
        "empty_data = spark.createDataFrame([[\"\",\"\"]]).toDF(\"question\", \"context\")\n",
        "\n",
        "model = pipeline.fit(empty_data)"
      ]
    },
    {
      "cell_type": "code",
      "execution_count": null,
      "metadata": {
        "id": "iqNPhW3AVeul",
        "colab": {
          "base_uri": "https://localhost:8080/"
        },
        "outputId": "c14e3370-82b6-4fa8-d22b-776f1110d8a4"
      },
      "outputs": [
        {
          "output_type": "stream",
          "name": "stdout",
          "text": [
            "+---------------------------------------------------------------------------+------------+\n",
            "|Question                                                                   |Short_Answer|\n",
            "+---------------------------------------------------------------------------+------------+\n",
            "|[Transgastric endoscopic splenectomy: is it possible?]                     |[yes]       |\n",
            "|[Does histologic chorioamnionitis correspond to clinical chorioamnionitis?]|[yes]       |\n",
            "|[Is there an optimal time of acid suppression for maximal healing?]        |[no]        |\n",
            "+---------------------------------------------------------------------------+------------+\n",
            "\n"
          ]
        }
      ],
      "source": [
        "model.transform(data)\\\n",
        "  .selectExpr(\"document_question.result as Question\", \"answer.result as Short_Answer\")\\\n",
        "  .show(truncate=False)"
      ]
    },
    {
      "cell_type": "markdown",
      "metadata": {
        "id": "qrssZMYozT_U"
      },
      "source": [
        "**LightPipelines**"
      ]
    },
    {
      "cell_type": "code",
      "execution_count": null,
      "metadata": {
        "id": "sT_PHXXTxtV3",
        "colab": {
          "base_uri": "https://localhost:8080/"
        },
        "outputId": "11ac744b-1f2d-4cb5-cbf9-9f046b4c400e"
      },
      "outputs": [
        {
          "output_type": "execute_result",
          "data": {
            "text/plain": [
              "[{'document_question': ['Transgastric endoscopic splenectomy: is it possible?'],\n",
              "  'document_context': ['We have previously reported the feasibility of diagnostic and therapeutic peritoneoscopy including liver biopsy, gastrojejunostomy, and tubal ligation by an oral transgastric approach. We present results of per-oral transgastric splenectomy in a porcine model. The goal of this study was to determine the technical feasibility of per-oral transgastric splenectomy using a flexible endoscope. We performed acute experiments on 50-kg pigs. All animals were fed liquids for 3 days prior to procedure. The procedures were performed under general anesthesia with endotracheal intubation. The flexible endoscope was passed per orally into the stomach and puncture of the gastric wall was performed with a needle knife. The puncture was extended to create a 1.5-cm incision using a pull-type sphincterotome, and a double-channel endoscope was advanced into the peritoneal cavity. The peritoneal cavity was insufflated with air through the endoscope. The spleen was visualized. The splenic vessels were ligated with endoscopic loops and clips, and then mesentery was dissected using electrocautery. Endoscopic splenectomy was performed on six pigs. There were no complications during gastric incision and entrance into the peritoneal cavity. Visualization of the spleen and other intraperitoneal organs was very good. Ligation of the splenic vessels and mobilization of the spleen were achieved using commercially available devices and endoscopic accessories.'],\n",
              "  'answer': ['yes']}]"
            ]
          },
          "metadata": {},
          "execution_count": 7
        }
      ],
      "source": [
        "context =\"We have previously reported the feasibility of diagnostic and therapeutic peritoneoscopy including liver biopsy, gastrojejunostomy, and tubal ligation by an oral transgastric approach. We present results of per-oral transgastric splenectomy in a porcine model. The goal of this study was to determine the technical feasibility of per-oral transgastric splenectomy using a flexible endoscope. We performed acute experiments on 50-kg pigs. All animals were fed liquids for 3 days prior to procedure. The procedures were performed under general anesthesia with endotracheal intubation. The flexible endoscope was passed per orally into the stomach and puncture of the gastric wall was performed with a needle knife. The puncture was extended to create a 1.5-cm incision using a pull-type sphincterotome, and a double-channel endoscope was advanced into the peritoneal cavity. The peritoneal cavity was insufflated with air through the endoscope. The spleen was visualized. The splenic vessels were ligated with endoscopic loops and clips, and then mesentery was dissected using electrocautery. Endoscopic splenectomy was performed on six pigs. There were no complications during gastric incision and entrance into the peritoneal cavity. Visualization of the spleen and other intraperitoneal organs was very good. Ligation of the splenic vessels and mobilization of the spleen were achieved using commercially available devices and endoscopic accessories.\"\n",
        "question = \"Transgastric endoscopic splenectomy: is it possible?\"\n",
        "\n",
        "light_model = LightPipeline(model)\n",
        "\n",
        "light_result = light_model.annotate([question],[context])\n",
        "\n",
        "light_result"
      ]
    },
    {
      "cell_type": "code",
      "execution_count": null,
      "metadata": {
        "colab": {
          "base_uri": "https://localhost:8080/"
        },
        "id": "rv8i66Edy7TT",
        "outputId": "e1310861-7c8f-4cee-8ce0-2a11969e2f30"
      },
      "outputs": [
        {
          "output_type": "execute_result",
          "data": {
            "text/plain": [
              "['yes']"
            ]
          },
          "metadata": {},
          "execution_count": 8
        }
      ],
      "source": [
        "light_result[0][\"answer\"]"
      ]
    },
    {
      "cell_type": "markdown",
      "metadata": {
        "id": "mVpgshECrlpA"
      },
      "source": [
        "### **Long answer**\n",
        "A `long` answer is a response that goes into more detail and provides a more comprehensive explanation than a `short` answer. `Long` answers typically involve more elaboration, examples, and supporting evidence to provide a thorough understanding of a particular topic or question."
      ]
    },
    {
      "cell_type": "code",
      "execution_count": null,
      "metadata": {
        "colab": {
          "base_uri": "https://localhost:8080/"
        },
        "id": "qnIGlNRerntz",
        "outputId": "cdc6317e-7972-40d9-b414-4e6241965c2e"
      },
      "outputs": [
        {
          "output_type": "stream",
          "name": "stdout",
          "text": [
            "medical_qa_biogpt download started this may take some time.\n",
            "[OK!]\n"
          ]
        }
      ],
      "source": [
        "document_assembler = MultiDocumentAssembler()\\\n",
        "    .setInputCols(\"question\", \"context\")\\\n",
        "    .setOutputCols(\"document_question\", \"document_context\")\n",
        "\n",
        "med_qa = MedicalQuestionAnswering.pretrained(\"medical_qa_biogpt\",\"en\",\"clinical/models\")\\\n",
        "    .setInputCols([\"document_question\", \"document_context\"])\\\n",
        "    .setOutputCol(\"answer\")\\\n",
        "    .setMaxNewTokens(30)\\\n",
        "    .setTopK(1)\\\n",
        "    .setQuestionType(\"long\") # \"short\"\n",
        "\n",
        "pipeline = Pipeline(stages=[document_assembler, med_qa])\n",
        "\n",
        "empty_data = spark.createDataFrame([[\"\"]]).toDF(\"text\")\n",
        "\n",
        "model = pipeline.fit(empty_data)"
      ]
    },
    {
      "cell_type": "code",
      "execution_count": null,
      "metadata": {
        "colab": {
          "base_uri": "https://localhost:8080/"
        },
        "id": "j9-RNHXxSJ9u",
        "outputId": "13f06ca5-1cad-4d65-eec9-07557e6e3f02"
      },
      "outputs": [
        {
          "output_type": "stream",
          "name": "stdout",
          "text": [
            "+---------------------------------------------------------------------------+--------------------------------------------------------------------------------------------------------------------------------------------------------------------------------------------------------+\n",
            "|Question                                                                   |Long_Answer                                                                                                                                                                                             |\n",
            "+---------------------------------------------------------------------------+--------------------------------------------------------------------------------------------------------------------------------------------------------------------------------------------------------+\n",
            "|[Transgastric endoscopic splenectomy: is it possible?]                     |[per - oral transgastric splenectomy was technically feasible in a porcine model. further studies are necessary to determine the safety and efficacy of this procedure in]                              |\n",
            "|[Does histologic chorioamnionitis correspond to clinical chorioamnionitis?]|[histologic chorioamnionitis is significantly associated with indicators of maternal infection. histologic chorioamnionitis may be a useful adjunct to clinical indicators in the diagnosis of maternal]|\n",
            "|[Is there an optimal time of acid suppression for maximal healing?]        |[in patients with reflux oesophagitis, maximal healing rates are obtained when intragastric pH is achieved for approximately 50 - 70 % ( 12 - 17 h )]                                                   |\n",
            "+---------------------------------------------------------------------------+--------------------------------------------------------------------------------------------------------------------------------------------------------------------------------------------------------+\n",
            "\n"
          ]
        }
      ],
      "source": [
        "model.transform(data)\\\n",
        "  .selectExpr(\"document_question.result as Question\", \"answer.result as Long_Answer\")\\\n",
        "  .show(truncate=False)"
      ]
    },
    {
      "cell_type": "markdown",
      "metadata": {
        "id": "GkZQyrhEzXxO"
      },
      "source": [
        "**LightPipelines**"
      ]
    },
    {
      "cell_type": "code",
      "execution_count": null,
      "metadata": {
        "colab": {
          "base_uri": "https://localhost:8080/"
        },
        "id": "5jQrB4dmzYI4",
        "outputId": "25256a91-3bbc-4b26-dc55-8e3492e915e0"
      },
      "outputs": [
        {
          "output_type": "execute_result",
          "data": {
            "text/plain": [
              "[{'document_question': ['Transgastric endoscopic splenectomy: is it possible?'],\n",
              "  'document_context': ['We have previously reported the feasibility of diagnostic and therapeutic peritoneoscopy including liver biopsy, gastrojejunostomy, and tubal ligation by an oral transgastric approach. We present results of per-oral transgastric splenectomy in a porcine model. The goal of this study was to determine the technical feasibility of per-oral transgastric splenectomy using a flexible endoscope. We performed acute experiments on 50-kg pigs. All animals were fed liquids for 3 days prior to procedure. The procedures were performed under general anesthesia with endotracheal intubation. The flexible endoscope was passed per orally into the stomach and puncture of the gastric wall was performed with a needle knife. The puncture was extended to create a 1.5-cm incision using a pull-type sphincterotome, and a double-channel endoscope was advanced into the peritoneal cavity. The peritoneal cavity was insufflated with air through the endoscope. The spleen was visualized. The splenic vessels were ligated with endoscopic loops and clips, and then mesentery was dissected using electrocautery. Endoscopic splenectomy was performed on six pigs. There were no complications during gastric incision and entrance into the peritoneal cavity. Visualization of the spleen and other intraperitoneal organs was very good. Ligation of the splenic vessels and mobilization of the spleen were achieved using commercially available devices and endoscopic accessories.'],\n",
              "  'answer': ['per - oral transgastric splenectomy was technically feasible in a porcine model. further studies are necessary to determine the safety and efficacy of this procedure in']}]"
            ]
          },
          "metadata": {},
          "execution_count": 11
        }
      ],
      "source": [
        "context =\"We have previously reported the feasibility of diagnostic and therapeutic peritoneoscopy including liver biopsy, gastrojejunostomy, and tubal ligation by an oral transgastric approach. We present results of per-oral transgastric splenectomy in a porcine model. The goal of this study was to determine the technical feasibility of per-oral transgastric splenectomy using a flexible endoscope. We performed acute experiments on 50-kg pigs. All animals were fed liquids for 3 days prior to procedure. The procedures were performed under general anesthesia with endotracheal intubation. The flexible endoscope was passed per orally into the stomach and puncture of the gastric wall was performed with a needle knife. The puncture was extended to create a 1.5-cm incision using a pull-type sphincterotome, and a double-channel endoscope was advanced into the peritoneal cavity. The peritoneal cavity was insufflated with air through the endoscope. The spleen was visualized. The splenic vessels were ligated with endoscopic loops and clips, and then mesentery was dissected using electrocautery. Endoscopic splenectomy was performed on six pigs. There were no complications during gastric incision and entrance into the peritoneal cavity. Visualization of the spleen and other intraperitoneal organs was very good. Ligation of the splenic vessels and mobilization of the spleen were achieved using commercially available devices and endoscopic accessories.\"\n",
        "question = \"Transgastric endoscopic splenectomy: is it possible?\"\n",
        "\n",
        "light_model = LightPipeline(model)\n",
        "\n",
        "light_result = light_model.annotate([question],[context])\n",
        "\n",
        "light_result"
      ]
    },
    {
      "cell_type": "code",
      "execution_count": null,
      "metadata": {
        "colab": {
          "base_uri": "https://localhost:8080/"
        },
        "id": "4gAvcFCvzlcV",
        "outputId": "f1fc4b18-c01a-45f8-f215-b82f6d0a1940"
      },
      "outputs": [
        {
          "output_type": "execute_result",
          "data": {
            "text/plain": [
              "['per - oral transgastric splenectomy was technically feasible in a porcine model. further studies are necessary to determine the safety and efficacy of this procedure in']"
            ]
          },
          "metadata": {},
          "execution_count": 12
        }
      ],
      "source": [
        "light_result[0][\"answer\"]"
      ]
    },
    {
      "cell_type": "markdown",
      "source": [
        "## clinical_notes_qa_base"
      ],
      "metadata": {
        "id": "f_OzSYu5KC8W"
      }
    },
    {
      "cell_type": "code",
      "source": [
        "document_assembler = MultiDocumentAssembler()\\\n",
        "    .setInputCols(\"question\", \"context\")\\\n",
        "    .setOutputCols(\"document_question\", \"document_context\")\n",
        "\n",
        "med_qa  = sparknlp_jsl.annotators.MedicalQuestionAnswering()\\\n",
        "    .pretrained(\"clinical_notes_qa_base\", \"en\", \"clinical/models\")\\\n",
        "    .setInputCols([\"document_question\", \"document_context\"])\\\n",
        "    .setCustomPrompt(\"Context: {context} \\n Question: {question} \\n Answer: \")\\\n",
        "    .setOutputCol(\"answer\")\\\n",
        "\n",
        "pipeline = Pipeline(stages=[document_assembler, med_qa])\n",
        "\n",
        "note_text = \"I am asked to see the patient today with ongoing issues around her diabetic control. We have been fairly aggressively, downwardly adjusting her insulins, both the Lantus insulin, which we had been giving at night as well as her sliding scale Humalog insulin prior to meals. Despite frequent decreases in her insulin regimen, she continues to have somewhat low blood glucoses, most notably in the morning when the glucoses have been in the 70s despite decreasing her Lantus insulin from around 84 units down to 60 units, which is a considerable change. What I cannot explain is why her glucoses have not really climbed at all despite the decrease in insulin. The staff reports to me that her appetite is good and that she is eating as well as ever. I talked to Anna today. She feels a little fatigued. Otherwise, she is doing well.\"\n",
        "\n",
        "question = \"How much has the Lantus insulin dosage been reduced?\"\n",
        "\n",
        "empty_data = spark.createDataFrame([[\"\"]]).toDF(\"text\")\n",
        "\n",
        "model = pipeline.fit(empty_data)\n",
        "\n",
        "data = spark.createDataFrame([[question, note_text]]).toDF(\"question\", \"context\")\n",
        "\n",
        "result = model.transform(data)"
      ],
      "metadata": {
        "id": "XX0xh5BZKJ-F",
        "outputId": "32e00c48-8626-4a54-8616-6cad069f58d2",
        "colab": {
          "base_uri": "https://localhost:8080/"
        }
      },
      "execution_count": null,
      "outputs": [
        {
          "output_type": "stream",
          "name": "stdout",
          "text": [
            "clinical_notes_qa_base download started this may take some time.\n",
            "[OK!]\n"
          ]
        }
      ]
    },
    {
      "cell_type": "code",
      "source": [
        "result.selectExpr(\"document_question.result as Question\", \"answer.result as Answer\")\\\n",
        "  .show(truncate=False)"
      ],
      "metadata": {
        "id": "1GAF0SgXWbdG",
        "outputId": "1ac06c6e-685c-41ec-e347-6f66d4b95894",
        "colab": {
          "base_uri": "https://localhost:8080/"
        }
      },
      "execution_count": null,
      "outputs": [
        {
          "output_type": "stream",
          "name": "stdout",
          "text": [
            "+------------------------------------------------------+-----------------------------------------------------------------------------------+\n",
            "|Question                                              |Answer                                                                             |\n",
            "+------------------------------------------------------+-----------------------------------------------------------------------------------+\n",
            "|[How much has the Lantus insulin dosage been reduced?]|[The Lantus insulin dosage has been reduced from around 84 units down to 60 units.]|\n",
            "+------------------------------------------------------+-----------------------------------------------------------------------------------+\n",
            "\n"
          ]
        }
      ]
    },
    {
      "cell_type": "code",
      "source": [
        "context =\"I am asked to see the patient today with ongoing issues around her diabetic control. We have been fairly aggressively, downwardly adjusting her insulins, both the Lantus insulin, which we had been giving at night as well as her sliding scale Humalog insulin prior to meals. Despite frequent decreases in her insulin regimen, she continues to have somewhat low blood glucoses, most notably in the morning when the glucoses have been in the 70s despite decreasing her Lantus insulin from around 84 units down to 60 units, which is a considerable change. What I cannot explain is why her glucoses have not really climbed at all despite the decrease in insulin. The staff reports to me that her appetite is good and that she is eating as well as ever. I talked to Anna today. She feels a little fatigued. Otherwise, she is doing well.\"\n",
        "question = \"How much has the Lantus insulin dosage been reduced?\"\n",
        "\n",
        "light_model = LightPipeline(model)\n",
        "\n",
        "light_result = light_model.annotate([question],[context])\n",
        "\n",
        "light_result"
      ],
      "metadata": {
        "id": "I0Z447knXaI8",
        "outputId": "58c886e3-e616-4648-ee3e-3f7378db0498",
        "colab": {
          "base_uri": "https://localhost:8080/"
        }
      },
      "execution_count": null,
      "outputs": [
        {
          "output_type": "execute_result",
          "data": {
            "text/plain": [
              "[{'document_question': ['How much has the Lantus insulin dosage been reduced?'],\n",
              "  'document_context': ['I am asked to see the patient today with ongoing issues around her diabetic control. We have been fairly aggressively, downwardly adjusting her insulins, both the Lantus insulin, which we had been giving at night as well as her sliding scale Humalog insulin prior to meals. Despite frequent decreases in her insulin regimen, she continues to have somewhat low blood glucoses, most notably in the morning when the glucoses have been in the 70s despite decreasing her Lantus insulin from around 84 units down to 60 units, which is a considerable change. What I cannot explain is why her glucoses have not really climbed at all despite the decrease in insulin. The staff reports to me that her appetite is good and that she is eating as well as ever. I talked to Anna today. She feels a little fatigued. Otherwise, she is doing well.'],\n",
              "  'answer': ['The Lantus insulin dosage has been reduced from around 84 units down to 60 units.']}]"
            ]
          },
          "metadata": {},
          "execution_count": 16
        }
      ]
    },
    {
      "cell_type": "markdown",
      "source": [
        "## clinical_notes_qa_large"
      ],
      "metadata": {
        "id": "gca_3HVfJ7DA"
      }
    },
    {
      "cell_type": "code",
      "source": [
        "document_assembler = MultiDocumentAssembler()\\\n",
        "    .setInputCols(\"question\", \"context\")\\\n",
        "    .setOutputCols(\"document_question\", \"document_context\")\n",
        "\n",
        "med_qa  = sparknlp_jsl.annotators.MedicalQuestionAnswering()\\\n",
        "    .pretrained(\"clinical_notes_qa_large\", \"en\", \"clinical/models\")\\\n",
        "    .setInputCols([\"document_question\", \"document_context\"])\\\n",
        "    .setCustomPrompt(\"Context: {context} \\n Question: {question} \\n Answer: \")\\\n",
        "    .setOutputCol(\"answer\")\\\n",
        "\n",
        "pipeline = Pipeline(stages=[document_assembler, med_qa])\n",
        "\n",
        "note_text = \"his is a 14-month-old with history of chronic recurrent episodes of otitis media, totalling 6 bouts, requiring antibiotics since birth. There is also associated chronic nasal congestion. There had been no bouts of spontaneous tympanic membrane perforation, but there had been elevations of temperature up to 102 during the acute infection. He is being admitted at this time for myringotomy and tube insertion under general facemask anesthesia.\"\n",
        "\n",
        "question = \"How many bouts of otitis media has the patient experienced?\"\n",
        "\n",
        "empty_data = spark.createDataFrame([[\"\"]]).toDF(\"text\")\n",
        "\n",
        "model = pipeline.fit(empty_data)\n",
        "\n",
        "data = spark.createDataFrame([[question, note_text]]).toDF(\"question\", \"context\")\n",
        "\n",
        "result = model.transform(data)"
      ],
      "metadata": {
        "id": "uulpWgfRKBu5",
        "outputId": "7a16f63d-2960-448a-d225-d161975149c9",
        "colab": {
          "base_uri": "https://localhost:8080/"
        }
      },
      "execution_count": null,
      "outputs": [
        {
          "output_type": "stream",
          "name": "stdout",
          "text": [
            "clinical_notes_qa_large download started this may take some time.\n",
            "[OK!]\n"
          ]
        }
      ]
    },
    {
      "cell_type": "code",
      "source": [
        "result.selectExpr(\"document_question.result as Question\", \"answer.result as Answer\")\\\n",
        "  .show(truncate=False)"
      ],
      "metadata": {
        "id": "a7vFz21wV-Kk",
        "outputId": "0d789c0d-62e7-4c4a-b3ce-ec6809f03021",
        "colab": {
          "base_uri": "https://localhost:8080/"
        }
      },
      "execution_count": null,
      "outputs": [
        {
          "output_type": "stream",
          "name": "stdout",
          "text": [
            "+-------------------------------------------------------------+------------------------------------------------------+\n",
            "|Question                                                     |Answer                                                |\n",
            "+-------------------------------------------------------------+------------------------------------------------------+\n",
            "|[How many bouts of otitis media has the patient experienced?]|[The patient has experienced 6 bouts of otitis media.]|\n",
            "+-------------------------------------------------------------+------------------------------------------------------+\n",
            "\n"
          ]
        }
      ]
    },
    {
      "cell_type": "code",
      "source": [
        "context =\"his is a 14-month-old with history of chronic recurrent episodes of otitis media, totalling 6 bouts, requiring antibiotics since birth. There is also associated chronic nasal congestion. There had been no bouts of spontaneous tympanic membrane perforation, but there had been elevations of temperature up to 102 during the acute infection. He is being admitted at this time for myringotomy and tube insertion under general facemask anesthesia.\"\n",
        "question = \"How many bouts of otitis media has the patient experienced?\"\n",
        "\n",
        "light_model = LightPipeline(model)\n",
        "\n",
        "light_result = light_model.annotate([question],[context])\n",
        "\n",
        "light_result"
      ],
      "metadata": {
        "id": "XPtiO7fhXYp-",
        "outputId": "f579710c-7fb7-4419-8ab0-219696591d6c",
        "colab": {
          "base_uri": "https://localhost:8080/"
        }
      },
      "execution_count": null,
      "outputs": [
        {
          "output_type": "execute_result",
          "data": {
            "text/plain": [
              "[{'document_question': ['How many bouts of otitis media has the patient experienced?'],\n",
              "  'document_context': ['his is a 14-month-old with history of chronic recurrent episodes of otitis media, totalling 6 bouts, requiring antibiotics since birth. There is also associated chronic nasal congestion. There had been no bouts of spontaneous tympanic membrane perforation, but there had been elevations of temperature up to 102 during the acute infection. He is being admitted at this time for myringotomy and tube insertion under general facemask anesthesia.'],\n",
              "  'answer': ['The patient has experienced 6 bouts of otitis media.']}]"
            ]
          },
          "metadata": {},
          "execution_count": 13
        }
      ]
    },
    {
      "cell_type": "markdown",
      "source": [
        "# **Medical Text Summarization**"
      ],
      "metadata": {
        "id": "7dE92l49PWhp"
      }
    },
    {
      "cell_type": "markdown",
      "source": [
        "![IMAGE](https://github.com/JohnSnowLabs/spark-nlp-workshop/blob/master/databricks/python/data/Automated_Summarization_Clinical_Notes.png?raw=true)"
      ],
      "metadata": {
        "id": "DssAkQbFP9r4"
      }
    },
    {
      "cell_type": "markdown",
      "source": [
        "🔎 Text Summarization is a natural language processing (NLP) task that involves condensing a lengthy text document into a shorter, more compact version while still retaining the most important information and meaning. The goal is to produce a summary that accurately represents the content of the original text in a concise form.\n",
        "\n",
        "🔎There are `different approaches` to text summarization, including `extractive methods that` identify and extract important sentences or phrases from the text, and `abstractive methods` that generate new text based on the content of the original text."
      ],
      "metadata": {
        "id": "BJWvyd0HQBBf"
      }
    },
    {
      "cell_type": "markdown",
      "source": [
        "![IMAGE](https://github.com/JohnSnowLabs/spark-nlp-workshop/blob/master/databricks/python/data/Summarization_Methods_vs_Quality_Dimensions.png?raw=true)"
      ],
      "metadata": {
        "id": "mxgJIUmvQDHB"
      }
    },
    {
      "cell_type": "markdown",
      "source": [
        "🔎 MedicalSummarizer annotator that uses a type of transformative model, the T5 model, to create a concise summary of medical text given in a clinical context. This annotator helps to quickly summarize complex medical information."
      ],
      "metadata": {
        "id": "qIxxnkq4QGHT"
      }
    },
    {
      "cell_type": "markdown",
      "metadata": {
        "id": "vIxF-i1bxBgz"
      },
      "source": [
        "### 🔎 Models"
      ]
    },
    {
      "cell_type": "markdown",
      "metadata": {
        "id": "QhHVdYyexBgz"
      },
      "source": [
        "<div align=\"center\">\n",
        "\n",
        "| **Index** | **Summarizer Models**        |\n",
        "|---------------|----------------------|\n",
        "| 1        | [summarizer_clinical_jsl](https://nlp.johnsnowlabs.com/2023/03/25/summarizer_clinical_jsl.html)     |\n",
        "| 2          | [summarizer_clinical_jsl_augmented](https://nlp.johnsnowlabs.com/2023/03/30/summarizer_clinical_jsl_augmented_en.html)       |\n",
        "| 3      | [summarizer_biomedical_pubmed](https://nlp.johnsnowlabs.com/2023/04/03/summarizer_biomedical_pubmed_en.html)    |\n",
        "| 4      | [summarizer_generic_jsl](https://nlp.johnsnowlabs.com/2023/03/30/summarizer_generic_jsl_en.html)    |\n",
        "| 5    | [summarizer_clinical_questions](https://nlp.johnsnowlabs.com/2023/04/03/summarizer_clinical_questions_en.html) |\n",
        "| 6    | [summarizer_radiology](https://nlp.johnsnowlabs.com/2023/04/23/summarizer_jsl_radiology_en.html) |\n",
        "| 7    | [summarizer_clinical_guidelines_large](https://nlp.johnsnowlabs.com/2023/05/08/summarizer_clinical_guidelines_large_en.html) |\n",
        "| 8    | [summarizer_clinical_laymen](https://nlp.johnsnowlabs.com/2023/05/31/summarizer_clinical_laymen_en.html) |\n",
        "</div>"
      ]
    },
    {
      "cell_type": "markdown",
      "source": [
        "## 📍Benchmark Report\n",
        "\n",
        "Our clinical summarizer models with only 250M parameters perform 30-35% better than non-clinical SOTA text summarizers with 500M parameters, in terms of Bleu and Rouge benchmarks. That is, we achieve 30% better with half of the parameters that other LLMs have. See the details below.\n",
        "\n",
        "\n",
        "### 🔎Benchmark on Samsum Dataset\n",
        "\n",
        "| model_name | model_size | rouge | bleu | bertscore_precision | bertscore_recall: | bertscore_f1 |\n",
        "|--|--|--|--|--|--|--|\n",
        "philschmid/flan-t5-base-samsum | 240M | 0.2734 | 0.1813 | 0.8938 | 0.9133 | 0.9034 |\n",
        "linydub/bart-large-samsum | 500M | 0.3060 | 0.2168 | 0.8961 | 0.9065 | 0.9013 |\n",
        "philschmid/bart-large-cnn-samsum | 500M | 0.3794 | 0.1262 | 0.8599 | 0.9153 | 0.8867 |\n",
        "transformersbook/pegasus-samsum | 570M | 0.3049 | 0.1543 | 0.8942 | 0.9183 | 0.9061 |\n",
        "summarizer_generic_jsl | 240M | 0.2703 | 0.1932 | 0.8944 | 0.9161 | 0.9051 |\n",
        "\n",
        "\n",
        "### 🔎Benchmark on MtSamples Summarization Dataset\n",
        "\n",
        "| model_name | model_size | rouge | bleu | bertscore_precision | bertscore_recall: | bertscore_f1 |\n",
        "|--|--|--|--|--|--|--|\n",
        "philschmid/flan-t5-base-samsum | 250M | 0.1919 | 0.1124 | 0.8409 | 0.8964 | 0.8678 |\n",
        "linydub/bart-large-samsum | 500M | 0.1586 | 0.0732 | 0.8747 | 0.8184 | 0.8456 |\n",
        "philschmid/bart-large-cnn-samsum |  500M | 0.2170 | 0.1299 | 0.8846 | 0.8436 | 0.8636 |\n",
        "transformersbook/pegasus-samsum | 500M | 0.1924 | 0.0965 | 0.8920 | 0.8149 | 0.8517 |\n",
        "summarizer_clinical_jsl | 250M | 0.4836 | 0.4188 | 0.9041 | 0.9374 | 0.9204 |\n",
        "summarizer_clinical_jsl_augmented | 250M | 0.5119 | 0.4545 | 0.9282 | 0.9526 | 0.9402 |\n",
        "\n",
        "\n",
        "### 🔎Benchmark on MIMIC Summarization Dataset\n",
        "\n",
        "| model_name | model_size | rouge | bleu | bertscore_precision | bertscore_recall: | bertscore_f1 |\n",
        "|--|--|--|--|--|--|--|\n",
        "philschmid/flan-t5-base-samsum | 250M | 0.1910 | 0.1037 | 0.8708 | 0.9056 | 0.8879 |\n",
        "linydub/bart-large-samsum | 500M | 0.1252 | 0.0382 | 0.8933 | 0.8440 | 0.8679 |\n",
        "philschmid/bart-large-cnn-samsum | 500M | 0.1795 | 0.0889 | 0.9172 | 0.8978 | 0.9074 |\n",
        "transformersbook/pegasus-samsum | 570M | 0.1425 | 0.0582 | 0.9171 | 0.8682 | 0.8920 |\n",
        "summarizer_clinical_jsl | 250M | 0.395 | 0.2962 | 0.895 | 0.9316 | 0.913 |\n",
        "summarizer_clinical_jsl_augmented | 250M | 0.3964 | 0.307 | 0.9109 | 0.9452 | 0.9227 |"
      ],
      "metadata": {
        "id": "f-Cf9jPfQOTZ"
      }
    },
    {
      "cell_type": "markdown",
      "metadata": {
        "id": "EUP83I58lxPD"
      },
      "source": [
        "## 📃 summarizer_clinical_jsl\n",
        "\n",
        "This summarization model can quickly summarize clinical notes, encounters, critical care notes, discharge notes, reports, etc. It is based on a large language model that is finetuned with healthcare-specific additional data curated by medical doctors at John Snow Labs. It can generate summaries up to 512 tokens given an input text (max 1024 tokens)."
      ]
    },
    {
      "cell_type": "code",
      "execution_count": null,
      "metadata": {
        "colab": {
          "base_uri": "https://localhost:8080/"
        },
        "id": "zCAJbr5re3f2",
        "outputId": "aebd88fa-71e5-4a0b-ea95-2211f221c4b2"
      },
      "outputs": [
        {
          "output_type": "stream",
          "name": "stdout",
          "text": [
            "+------------------------------------------------------------+\n",
            "|                                                        text|\n",
            "+------------------------------------------------------------+\n",
            "| Patient with hypertension, syncope, and spinal stenosis ...|\n",
            "+------------------------------------------------------------+\n",
            "\n"
          ]
        }
      ],
      "source": [
        "text = \"\"\" Patient with hypertension, syncope, and spinal stenosis - for recheck.\n",
        " (Medical Transcription Sample Report)\n",
        " SUBJECTIVE:\n",
        " The patient is a 78-year-old female who returns for recheck. She has hypertension. She denies difficulty with chest pain, palpations, orthopnea, nocturnal dyspnea, or edema.\n",
        " PAST MEDICAL HISTORY / SURGERY / HOSPITALIZATIONS:\n",
        " Reviewed and unchanged from the dictation on 12/03/2003.\n",
        " MEDICATIONS:\n",
        " Atenolol 50 mg daily, Premarin 0.625 mg daily, calcium with vitamin D two to three pills daily, multivitamin daily, aspirin as needed, and TriViFlor 25 mg two pills daily. She also has Elocon cream 0.1% and Synalar cream 0.01% that she uses as needed for rash.\"\"\"\n",
        "\n",
        "\n",
        "data = spark.createDataFrame([[text]]).toDF(\"text\")\n",
        "data.show(truncate = 60)"
      ]
    },
    {
      "cell_type": "code",
      "execution_count": null,
      "metadata": {
        "colab": {
          "base_uri": "https://localhost:8080/"
        },
        "id": "FY7jlMeXtq-G",
        "outputId": "8013d9b5-7b94-4460-fcfd-73325b593f1c"
      },
      "outputs": [
        {
          "output_type": "stream",
          "name": "stdout",
          "text": [
            "summarizer_clinical_jsl download started this may take some time.\n",
            "[OK!]\n",
            "+--------------------+--------------------+--------------------+\n",
            "|                text|            document|             summary|\n",
            "+--------------------+--------------------+--------------------+\n",
            "| Patient with hyp...|[{document, 0, 68...|[{document, 0, 24...|\n",
            "+--------------------+--------------------+--------------------+\n",
            "\n"
          ]
        }
      ],
      "source": [
        "document_assembler = DocumentAssembler()\\\n",
        "            .setInputCol('text')\\\n",
        "            .setOutputCol('document')\n",
        "\n",
        "summarizer = MedicalSummarizer.pretrained(\"summarizer_clinical_jsl\", \"en\", \"clinical/models\")\\\n",
        "            .setInputCols(['document'])\\\n",
        "            .setOutputCol('summary')\\\n",
        "            .setMaxTextLength(512)\\\n",
        "            .setMaxNewTokens(512)\n",
        "\n",
        "pipeline = Pipeline(stages=[\n",
        "            document_assembler,\n",
        "            summarizer])\n",
        "\n",
        "model = pipeline.fit(spark.createDataFrame([[\"\"]]).toDF(\"text\"))\n",
        "\n",
        "result = model.transform(data)\n",
        "\n",
        "result.show()"
      ]
    },
    {
      "cell_type": "code",
      "execution_count": null,
      "metadata": {
        "colab": {
          "base_uri": "https://localhost:8080/"
        },
        "id": "UmMxbWByfWg2",
        "outputId": "cf088163-1f36-4722-f397-6955829909f5"
      },
      "outputs": [
        {
          "output_type": "stream",
          "name": "stdout",
          "text": [
            "+------------------------------------------------------------------------------------------------------------------------------------------------------------------------------------------------------------------------------------------------------+\n",
            "|result                                                                                                                                                                                                                                                |\n",
            "+------------------------------------------------------------------------------------------------------------------------------------------------------------------------------------------------------------------------------------------------------+\n",
            "|[A 78-year-old female with hypertension, syncope, and spinal stenosis returns for recheck. She denies chest pain, palpations, orthopnea, nocturnal dyspnea, or edema. She is on multiple medications and has Elocon cream and Synalar cream for rash.]|\n",
            "+------------------------------------------------------------------------------------------------------------------------------------------------------------------------------------------------------------------------------------------------------+\n",
            "\n"
          ]
        }
      ],
      "source": [
        "result.select(\"summary.result\").show(truncate=False)"
      ]
    },
    {
      "cell_type": "markdown",
      "metadata": {
        "id": "RJLKEoMKQS7A"
      },
      "source": [
        "### 📍 LightPipelines"
      ]
    },
    {
      "cell_type": "code",
      "source": [
        "import textwrap"
      ],
      "metadata": {
        "id": "oo7LDEYqYBw0"
      },
      "execution_count": null,
      "outputs": []
    },
    {
      "cell_type": "code",
      "execution_count": null,
      "metadata": {
        "colab": {
          "base_uri": "https://localhost:8080/"
        },
        "outputId": "031c339a-2f1b-44f2-d841-28b7e91fa825",
        "id": "qYFHFIbsQS7A"
      },
      "outputs": [
        {
          "output_type": "stream",
          "name": "stdout",
          "text": [
            "➤ Document :\n",
            "The patient is a pleasant 17-year-old gentleman who was playing basketball today in gym. Two hours prior to\n",
            "presentation, he started to fall and someone stepped on his ankle and kind of twisted his right ankle and he cannot bear\n",
            "weight on it now. It hurts to move or bear weight. No other injuries noted. He does not think he has had injuries to his\n",
            "ankle in the past. SOCIAL HISTORY: He does not drink or smoke. MEDICAL DECISION MAKING: He had an x-ray of his ankle\n",
            "that showed a small ossicle versus avulsion fracture of the talonavicular joint on the lateral view. He has had no pain\n",
            "over the metatarsals themselves. This may be a fracture based upon his exam. He does want to have me to put him in a\n",
            "splint. He was given Motrin here. He will be discharged home to follow up with Dr. X from Orthopedics. DISPOSITION:\n",
            "Crutches and splint were administered here. I gave him a prescription for Motrin and some Darvocet if he needs to length\n",
            "his sleep and if he has continued pain to follow up with Dr. X. Return if any worsening problems.\n",
            "\n",
            "\n",
            "➤ Summary : \n",
            "A 17-year-old man fell and twisted his right ankle, causing pain to move or bear weight. An x-ray showed a small ossicle\n",
            "or avulsion fracture of the talonavicular joint on the lateral view, which may be a fracture based upon his exam. He was\n",
            "given Motrin and discharged home with crutches and a prescription for Motrin and Darvocet. He was advised to follow up\n",
            "with his doctor if pain worsens and return if any worsening problems worsen.\n",
            "\n",
            "\n"
          ]
        }
      ],
      "source": [
        "text = \"\"\"The patient is a pleasant 17-year-old gentleman who was playing basketball today in gym. Two hours prior to presentation, he started to fall and someone stepped on his ankle and kind of twisted his right ankle and he cannot bear weight on it now. It hurts to move or bear weight. No other injuries noted. He does not think he has had injuries to his ankle in the past.\n",
        "SOCIAL HISTORY: He does not drink or smoke.\n",
        "MEDICAL DECISION MAKING:\n",
        "He had an x-ray of his ankle that showed a small ossicle versus avulsion fracture of the talonavicular joint on the lateral view. He has had no pain over the metatarsals themselves. This may be a fracture based upon his exam. He does want to have me to put him in a splint. He was given Motrin here. He will be discharged home to follow up with Dr. X from Orthopedics.\n",
        "DISPOSITION: Crutches and splint were administered here. I gave him a prescription for Motrin and some Darvocet if he needs to length his sleep and if he has continued pain to follow up with Dr. X. Return if any worsening problems.\"\"\"\n",
        "\n",
        "light_model = LightPipeline(model)\n",
        "light_result = light_model.annotate(text)\n",
        "\n",
        "document_text = textwrap.fill(light_result['document'][0], width=120)\n",
        "summary_text = textwrap.fill(light_result['summary'][0], width=120)\n",
        "\n",
        "print(\"➤ Document :\\n{}\".format(document_text))\n",
        "print(\"\\n\")\n",
        "print(\"➤ Summary : \\n{}\".format(summary_text))\n",
        "print(\"\\n\")"
      ]
    },
    {
      "cell_type": "markdown",
      "metadata": {
        "id": "Bi-kpVjOpJX8"
      },
      "source": [
        "### 🚩 summaries from paragraphs in text"
      ]
    },
    {
      "cell_type": "code",
      "execution_count": null,
      "metadata": {
        "colab": {
          "base_uri": "https://localhost:8080/"
        },
        "id": "HGV_eUhWhPqX",
        "outputId": "a627445f-ac23-4c2e-ea0e-8b01e51f8b25"
      },
      "outputs": [
        {
          "output_type": "stream",
          "name": "stdout",
          "text": [
            "Approximate size to download 367.3 KB\n",
            "[OK!]\n",
            "summarizer_clinical_jsl download started this may take some time.\n",
            "[OK!]\n"
          ]
        }
      ],
      "source": [
        "document_assembler = DocumentAssembler()\\\n",
        "            .setInputCol('text')\\\n",
        "            .setOutputCol('document')\n",
        "\n",
        "sentenceDetector = SentenceDetectorDLModel\\\n",
        "            .pretrained(\"sentence_detector_dl_healthcare\",\"en\",\"clinical/models\")\\\n",
        "            .setInputCols([\"document\"])\\\n",
        "            .setOutputCol(\"sentence\")\\\n",
        "            .setCustomBounds([\"\\n\"])\\\n",
        "            .setUseCustomBoundsOnly(True)\n",
        "\n",
        "summarizer = MedicalSummarizer\\\n",
        "            .pretrained(\"summarizer_clinical_jsl\")\\\n",
        "            .setInputCols(['sentence'])\\\n",
        "            .setOutputCol('summary')\\\n",
        "            .setMaxTextLength(512)\\\n",
        "            .setMaxNewTokens(512)\n",
        "\n",
        "pipeline = Pipeline(stages=[\n",
        "            document_assembler,\n",
        "            sentenceDetector,\n",
        "            summarizer])\n",
        "\n",
        "model = pipeline.fit(spark.createDataFrame([[\"\"]]).toDF(\"text\"))"
      ]
    },
    {
      "cell_type": "code",
      "execution_count": null,
      "metadata": {
        "id": "yygOStZlnieC"
      },
      "outputs": [],
      "source": [
        "text = \"\"\"PRESENT ILLNESS: The patient is a 28-year-old, who is status post gastric bypass surgery nearly one year ago. He has lost about 200 pounds and was otherwise doing well until yesterday evening around 7:00-8:00 when he developed nausea and right upper quadrant pain, which apparently wrapped around toward his right side and back. He feels like he was on it but has not done so. He has overall malaise and a low-grade temperature of 100.3. He denies any prior similar or lesser symptoms. His last normal bowel movement was yesterday. He denies any outright chills or blood per rectum.\n",
        "\n",
        "PHYSICAL EXAMINATION: His temperature is 100.3, blood pressure 129/59, respirations 16, heart rate 84. He is drowsy, but easily arousable and appropriate with conversation. He is oriented to person, place, and situation. He is normocephalic, atraumatic. His sclerae are anicteric. His mucous membranes are somewhat tacky. His neck is supple and symmetric. His respirations are unlabored and clear. He has a regular rate and rhythm. His abdomen is soft. He has diffuse right upper quadrant tenderness, worse focally, but no rebound or guarding. He otherwise has no organomegaly, masses, or abdominal hernias evident. His extremities are symmetrical with no edema. His posterior tibial pulses are palpable and symmetric. He is grossly nonfocal neurologically.\n",
        "\n",
        "PLAN: He will be admitted and placed on IV antibiotics. We will get an ultrasound this morning. He will need his gallbladder out, probably with intraoperative cholangiogram. Hopefully, the stone will pass this way. Due to his anatomy, an ERCP would prove quite difficult if not impossible unless laparoscopic assisted. Dr. X will see him later this morning and discuss the plan further. The patient understands.\"\"\"\n",
        "\n",
        "light_model = LightPipeline(model)\n",
        "light_result = light_model.annotate(text)"
      ]
    },
    {
      "cell_type": "code",
      "execution_count": null,
      "metadata": {
        "colab": {
          "base_uri": "https://localhost:8080/"
        },
        "id": "eXASK1OKsDHp",
        "outputId": "ed94fb38-ea86-450d-f814-650ca26d43ae"
      },
      "outputs": [
        {
          "output_type": "stream",
          "name": "stdout",
          "text": [
            "➤ Document 1: \n",
            "PRESENT ILLNESS: The patient is a 28-year-old, who is status post gastric bypass surgery nearly one year ago. He has\n",
            "lost about 200 pounds and was otherwise doing well until yesterday evening around 7:00-8:00 when he developed nausea and\n",
            "right upper quadrant pain, which apparently wrapped around toward his right side and back. He feels like he was on it\n",
            "but has not done so. He has overall malaise and a low-grade temperature of 100.3. He denies any prior similar or lesser\n",
            "symptoms. His last normal bowel movement was yesterday. He denies any outright chills or blood per rectum.\n",
            "\n",
            "\n",
            "➤ Summary 1: \n",
            "A 28-year-old patient who had gastric bypass surgery nearly one year ago developed nausea and right upper quadrant pain,\n",
            "which wrapped around his right side and back. He has malaise and a low-grade temperature of 100.3. He denies any\n",
            "previous symptoms and has no other symptoms.\n",
            "\n",
            "\n",
            "➤ Document 2: \n",
            "PHYSICAL EXAMINATION: His temperature is 100.3, blood pressure 129/59, respirations 16, heart rate 84. He is drowsy, but\n",
            "easily arousable and appropriate with conversation. He is oriented to person, place, and situation. He is normocephalic,\n",
            "atraumatic. His sclerae are anicteric. His mucous membranes are somewhat tacky. His neck is supple and symmetric. His\n",
            "respirations are unlabored and clear. He has a regular rate and rhythm. His abdomen is soft. He has diffuse right upper\n",
            "quadrant tenderness, worse focally, but no rebound or guarding. He otherwise has no organomegaly, masses, or abdominal\n",
            "hernias evident. His extremities are symmetrical with no edema. His posterior tibial pulses are palpable and symmetric.\n",
            "He is grossly nonfocal neurologically.\n",
            "\n",
            "\n",
            "➤ Summary 2: \n",
            "The patient has a temperature of 100.3, blood pressure of 129/59, respirations of 16, and heart rate of 84. He is drowsy\n",
            "but oriented to person, place, and situation. He has normalocephalic, atraumatic, and supple and symmetric neck. His\n",
            "respiratory rhythm is unlabored and clear, and his abdomen is soft. He has diffuse right upper quadrant tenderness,\n",
            "worse focally, but no rebound or guarding. He has no organomegaly, masses, or abdominal hernias evident. His extremities\n",
            "are symmetrical with no edema, and his posterior tibial pulses are palpable and symmetric. He is grossly nonfocal\n",
            "neurologically.\n",
            "\n",
            "\n",
            "➤ Document 3: \n",
            "PLAN: He will be admitted and placed on IV antibiotics. We will get an ultrasound this morning. He will need his\n",
            "gallbladder out, probably with intraoperative cholangiogram. Hopefully, the stone will pass this way. Due to his\n",
            "anatomy, an ERCP would prove quite difficult if not impossible unless laparoscopic assisted. Dr. X will see him later\n",
            "this morning and discuss the plan further. The patient understands.\n",
            "\n",
            "\n",
            "➤ Summary 3: \n",
            "The patient will be admitted and placed on IV antibiotics. An ultrasound will be done to remove the gallbladder, which\n",
            "will be done with intraoperative cholangiogram. The stone will pass through the gallbladder, and an ERCP is difficult\n",
            "due to the patient's anatomy. The plan will be discussed with the patient later this morning.\n",
            "\n",
            "\n"
          ]
        }
      ],
      "source": [
        "for i in range(len(light_result['sentence'])):\n",
        "    document_text = textwrap.fill(light_result['sentence'][i], width=120)\n",
        "    summary_text = textwrap.fill(light_result['summary'][i], width=120)\n",
        "\n",
        "    print(\"➤ Document {}: \\n{}\".format(i+1, document_text))\n",
        "    print(\"\\n\")\n",
        "    print(\"➤ Summary {}: \\n{}\".format(i+1, summary_text))\n",
        "    print(\"\\n\")"
      ]
    },
    {
      "cell_type": "markdown",
      "metadata": {
        "id": "6zwkcb6LxBg2"
      },
      "source": [
        "### 🚩 setRefineSummary"
      ]
    },
    {
      "cell_type": "markdown",
      "metadata": {
        "id": "gT9XzLXMxBg2"
      },
      "source": [
        "**We've Made Significant Enhancements To Our Text Summarization Method, Which Now Utilizes A Map-Reduce Approach For Section-Wise Summarization.**\n",
        "\n",
        "We are excited to announce the integration of new parameters into our `MedicalSummarizer` annotator, empowering users to overcome token limitations and attain heightened flexibility in their medical summarization endeavors. These advanced parameters significantly augment the annotator's functionality, enabling users to generate more accurate and comprehensive summaries of medical documents. By employing a map-reduce approach, the `MedicalSummarizer` efficiently condenses distinct text segments until the desired length is achieved.\n",
        "\n",
        "The following parameters have been introduced:\n",
        "\n",
        "- `setRefineSummary`: Set to True for refined summarization with increased computational cost.\n",
        "- `setRefineSummaryTargetLength`: Define the target length of summarizations in tokens (delimited by whitespace). Effective only when setRefineSummary=True.\n",
        "- `setRefineChunkSize`: Specify the desired size of refined chunks. Should correspond to the LLM context window size in tokens. Effective only when - `setRefineSummary=True`.\n",
        "- `setRefineMaxAttempts`: Determine the number of attempts for re-summarizing chunks exceeding the setRefineSummaryTargetLength before discontinuing. Effective only when `setRefineSummary=True`.\n",
        "\n",
        "These enhancements to the MedicalSummarizer annotator represent our ongoing commitment to providing state-of-the-art tools for healthcare professionals and researchers, facilitating more efficient and accurate medical text analysis."
      ]
    },
    {
      "cell_type": "code",
      "execution_count": null,
      "metadata": {
        "colab": {
          "base_uri": "https://localhost:8080/"
        },
        "id": "8vGahRzjxBg2",
        "outputId": "a3ecb5e2-512c-4b5d-9252-0a4eadcaa884"
      },
      "outputs": [
        {
          "output_type": "stream",
          "name": "stdout",
          "text": [
            "summarizer_clinical_jsl download started this may take some time.\n",
            "[OK!]\n"
          ]
        }
      ],
      "source": [
        "document_assembler = DocumentAssembler()\\\n",
        "            .setInputCol('text')\\\n",
        "            .setOutputCol('document')\n",
        "\n",
        "summarizer = MedicalSummarizer.pretrained(\"summarizer_clinical_jsl\", \"en\", \"clinical/models\")\\\n",
        "            .setInputCols([\"document\"])\\\n",
        "            .setOutputCol(\"summary\")\\\n",
        "            .setMaxTextLength(512)\\\n",
        "            .setMaxNewTokens(512)\\\n",
        "            .setDoSample(True)\\\n",
        "            .setRefineSummary(True)\\\n",
        "            .setRefineSummaryTargetLength(100)\\\n",
        "            .setRefineMaxAttempts(3)\\\n",
        "            .setRefineChunkSize(512)\\\n",
        "\n",
        "pipeline = Pipeline(stages=[\n",
        "            document_assembler,\n",
        "            summarizer])\n",
        "\n",
        "model = pipeline.fit(spark.createDataFrame([[\"\"]]).toDF(\"text\"))"
      ]
    },
    {
      "cell_type": "code",
      "execution_count": null,
      "metadata": {
        "id": "VEppMhrCxBg2"
      },
      "outputs": [],
      "source": [
        "text = \"\"\"The patient is a pleasant 17-year-old gentleman who was playing basketball today in gym. Two hours prior to presentation, he started to fall and someone stepped on his ankle and kind of twisted his right ankle and he cannot bear weight on it now. It hurts to move or bear weight. No other injuries noted. He does not think he has had injuries to his ankle in the past.\n",
        "SOCIAL HISTORY: He does not drink or smoke.\n",
        "MEDICAL DECISION MAKING:\n",
        "He had an x-ray of his ankle that showed a small ossicle versus avulsion fracture of the talonavicular joint on the lateral view. He has had no pain over the metatarsals themselves. This may be a fracture based upon his exam. He does want to have me to put him in a splint. He was given Motrin here. He will be discharged home to follow up with Dr. X from Orthopedics.\n",
        "DISPOSITION: Crutches and splint were administered here. I gave him a prescription for Motrin and some Darvocet if he needs to length his sleep and if he has continued pain to follow up with Dr. X. Return if any worsening problems.\"\"\"\n",
        "\n",
        "light_model = LightPipeline(model)\n",
        "light_result = light_model.annotate(text)"
      ]
    },
    {
      "cell_type": "code",
      "execution_count": null,
      "metadata": {
        "colab": {
          "base_uri": "https://localhost:8080/"
        },
        "id": "9GwjzNBFxBg2",
        "outputId": "be3b4ada-32f4-4592-f1fa-462b747100c8"
      },
      "outputs": [
        {
          "output_type": "execute_result",
          "data": {
            "text/plain": [
              "['An x-ray showed spondylolisis of the ankle in a 17, 17, and 17-months old man who was playing basketball in the gym after slipping. He has no other injury notes, but an anx ray revealed small fracture of the ankle. He requested Moritinos for pain and he was discharged with crutes and Motrinos. The physician gave his sprates & tuxet for resting. He also gave him Motrines, if pain worsenes and advised him on returning for followup.']"
            ]
          },
          "metadata": {},
          "execution_count": 25
        }
      ],
      "source": [
        "light_result[\"summary\"]"
      ]
    },
    {
      "cell_type": "code",
      "execution_count": null,
      "metadata": {
        "colab": {
          "base_uri": "https://localhost:8080/"
        },
        "id": "4JifDMHExBg2",
        "outputId": "89f4cedd-5c5d-4098-ffdf-cc1ec833f5d9"
      },
      "outputs": [
        {
          "output_type": "stream",
          "name": "stdout",
          "text": [
            "➤ Document 1: \n",
            "The patient is a pleasant 17-year-old gentleman who was playing basketball today in gym. Two hours prior to\n",
            "presentation, he started to fall and someone stepped on his ankle and kind of twisted his right ankle and he cannot bear\n",
            "weight on it now. It hurts to move or bear weight. No other injuries noted. He does not think he has had injuries to his\n",
            "ankle in the past. SOCIAL HISTORY: He does not drink or smoke. MEDICAL DECISION MAKING: He had an x-ray of his ankle\n",
            "that showed a small ossicle versus avulsion fracture of the talonavicular joint on the lateral view. He has had no pain\n",
            "over the metatarsals themselves. This may be a fracture based upon his exam. He does want to have me to put him in a\n",
            "splint. He was given Motrin here. He will be discharged home to follow up with Dr. X from Orthopedics. DISPOSITION:\n",
            "Crutches and splint were administered here. I gave him a prescription for Motrin and some Darvocet if he needs to length\n",
            "his sleep and if he has continued pain to follow up with Dr. X. Return if any worsening problems.\n",
            "\n",
            "\n",
            "➤ Summary 1: \n",
            "An x-ray showed spondylolisis of the ankle in a 17, 17, and 17-months old man who was playing basketball in the gym\n",
            "after slipping. He has no other injury notes, but an anx ray revealed small fracture of the ankle. He requested\n",
            "Moritinos for pain and he was discharged with crutes and Motrinos. The physician gave his sprates & tuxet for resting.\n",
            "He also gave him Motrines, if pain worsenes and advised him on returning for followup.\n",
            "\n",
            "\n"
          ]
        }
      ],
      "source": [
        "for i in range(len(light_result['document'])):\n",
        "    document_text = textwrap.fill(light_result['document'][i], width=120)\n",
        "    summary_text = textwrap.fill(light_result['summary'][i], width=120)\n",
        "\n",
        "    print(\"➤ Document {}: \\n{}\".format(i+1, document_text))\n",
        "    print(\"\\n\")\n",
        "    print(\"➤ Summary {}: \\n{}\".format(i+1, summary_text))\n",
        "    print(\"\\n\")"
      ]
    },
    {
      "cell_type": "code",
      "execution_count": null,
      "metadata": {
        "id": "o9s5EwR5xBg3"
      },
      "outputs": [],
      "source": [
        "text = \"\"\"To determine whether a course of low-dose indomethacin therapy, when initiated within 24 hours of birth, would decrease ductal shunting in premature infants who received prophylactic surfactant in the delivery room. Ninety infants, with birth weights of 600 to 1250 gm, were entered into a prospective, randomized, controlled trial to receive either indomethacin, 0.1 mg/kg per dose, or placebo less than 24 hours and again every 24 hours for six doses. Echocardiography was performed on day 1 before treatment and on day 7, 24 hours after treatment. A hemodynamically significant patent ductus arteriosus (PDA) was confirmed with an out-of-study echocardiogram, and the nonresponders were treated with standard indomethacin or ligation. Forty-three infants received indomethacin (birth weight, 915 +/- 209 gm; gestational age, 26.4 +/- 1.6 weeks; 25 boys), and 47 received placebo (birth weight, 879 +/- 202 gm; gestational age, 26.4 +/- 1.8 weeks; 22 boys) (P = not significant). Of 90 infants, 77 (86%) had a PDA by echocardiogram on the first day of life before study treatment; 84% of these PDAs were moderate or large in size in the indomethacin-treated group compared with 93% in the placebo group. Nine of forty indomethacin-treated infants (21%) were study-dose nonresponders compared with 22 (47%) of 47 placebo-treated infants (p < 0.018). There were no significant differences between both groups in any of the long-term outcome variables, including intraventricular hemorrhage, duration of oxygen therapy, endotracheal intubation, duration of stay in neonatal intensive care unit, time to regain birth weight or reach full caloric intake, incidence of bronchopulmonary dysplasia, and survival. No significant differences were noted in the incidence of oliguria, elevated plasma creatinine concentration, thrombocytopenia, pulmonary hemorrhage, or necrotizing enterocolitis. The prophylactic use of low doses of indomethacin, when initiated in the first 24 hours of life in low birth weight infants who receive prophylactic surfactant in the delivery room, decreases the incidence of left-to-right shunting at the level of the ductus arteriosus.\"\"\"\n",
        "\n",
        "light_result = light_model.annotate(text)"
      ]
    },
    {
      "cell_type": "code",
      "execution_count": null,
      "metadata": {
        "colab": {
          "base_uri": "https://localhost:8080/"
        },
        "id": "euCPEo_oxBg3",
        "outputId": "e78cb9b6-c934-4141-fba2-2868485ff472"
      },
      "outputs": [
        {
          "output_type": "execute_result",
          "data": {
            "text/plain": [
              "[\"A trial was performed on 90 newborn babies with low birthweight babies who received 0.1mg/kg pro dose indomethadiain or placebo less less then 24 hours for sixdosed. A hemodynamicly significant brevet duplex (DPA), was confirmated by echocordogram, with 47 of the infant'' nonrespirators treated. There was a no significant change from the placebo-controlled study group to re-intravenously-treated newborn infants who had PPAs.\"]"
            ]
          },
          "metadata": {},
          "execution_count": 28
        }
      ],
      "source": [
        "light_result[\"summary\"]"
      ]
    },
    {
      "cell_type": "markdown",
      "source": [
        "# **Medical Text Generation**"
      ],
      "metadata": {
        "id": "nkutN7gYQxTC"
      }
    },
    {
      "cell_type": "markdown",
      "source": [
        "The objective of this notebook is to explore the Biomedical Generative Pre-trained Transformer (BioGPT) models - `biogpt_chat_jsl` and `biogpt_chat_jsl_conversational_en`, for closed book question answering. These models are pre-trained on large biomedical text data and can generate coherent and relevant responses to biomedical questions.\n",
        "\n",
        "📖 Learning Objectives:\n",
        "\n",
        "- Learn how to use the BioGPT models in Spark NLP for closed book question answering tasks, including loading pre-trained models and configuring the pipeline.\n",
        "\n",
        "- Understand the parameters and options available for the BioGPT models to customize the text generation process based on specific use cases."
      ],
      "metadata": {
        "id": "l2plAzfvQ1gP"
      }
    },
    {
      "cell_type": "markdown",
      "source": [
        "# 🔎 MODELS"
      ],
      "metadata": {
        "id": "TgaMWkVSUWxQ"
      }
    },
    {
      "cell_type": "markdown",
      "source": [
        "<div align=\"center\">\n",
        "\n",
        "| **Index** | **Summarizer Models**        |\n",
        "|---------------|----------------------|\n",
        "| 1        | [biogpt_chat_jsl](https://nlp.johnsnowlabs.com/2023/04/12/biogpt_chat_jsl_en.html)     |\n",
        "| 2          | [biogpt_chat_jsl_conversational](https://nlp.johnsnowlabs.com/2023/04/18/biogpt_chat_jsl_conversational_en.html)       |\n",
        "| 3      | [biogpt_chat_jsl_conditions](https://nlp.johnsnowlabs.com/2023/05/11/biogpt_chat_jsl_conditions_en.html)    |\n",
        "\n",
        "</div>"
      ],
      "metadata": {
        "id": "R8NuAAv8USJs"
      }
    },
    {
      "cell_type": "markdown",
      "metadata": {
        "id": "-62Qs6RAIC1V"
      },
      "source": [
        "# \t📎🏥 `biogpt_chat_jsl`"
      ]
    },
    {
      "cell_type": "markdown",
      "metadata": {
        "id": "twxRx_PGIGm7"
      },
      "source": [
        "This model is based on BioGPT finetuned with medical conversations happening in a clinical settings and can answer clinical questions related to symptoms, drugs, tests, and diseases."
      ]
    },
    {
      "cell_type": "code",
      "execution_count": null,
      "metadata": {
        "colab": {
          "base_uri": "https://localhost:8080/"
        },
        "id": "DCFN2tYF3X-Z",
        "outputId": "16c19704-93a8-4113-fa76-8f2e9d65ea74"
      },
      "outputs": [
        {
          "output_type": "stream",
          "name": "stdout",
          "text": [
            "biogpt_chat_jsl download started this may take some time.\n",
            "[OK!]\n"
          ]
        }
      ],
      "source": [
        "document_assembler = DocumentAssembler() \\\n",
        "    .setInputCol(\"text\") \\\n",
        "    .setOutputCol(\"documents\")\n",
        "\n",
        "gpt_qa = MedicalTextGenerator().pretrained(\"biogpt_chat_jsl\", \"en\", \"clinical/models\")\\\n",
        "    .setInputCols(\"documents\")\\\n",
        "    .setOutputCol(\"answer\")\\\n",
        "    .setMaxNewTokens(299)\\\n",
        "    .setStopAtEos(True)\\\n",
        "    .setDoSample(False)\\\n",
        "    .setTopK(3)\\\n",
        "    .setRandomSeed(42)\\\n",
        "    .setCustomPrompt(\"question: {DOCUMENT} answer:\")\n",
        "\n",
        "pipeline = Pipeline().setStages([document_assembler, gpt_qa])\n",
        "\n",
        "empty_data = spark.createDataFrame([[\"\"]]).toDF(\"text\")\n",
        "\n",
        "model = pipeline.fit(empty_data)"
      ]
    },
    {
      "cell_type": "code",
      "source": [
        "TEXT = \"What medications are commonly used to treat emphysema?\"\n",
        "\n",
        "data = spark.createDataFrame([[TEXT]]).toDF(\"text\")\n",
        "\n",
        "result = model.transform(data)\n",
        "\n",
        "result.show(truncate=False)"
      ],
      "metadata": {
        "id": "PAm5xeqfjcQo",
        "outputId": "b334f1c0-22ea-4a92-ec90-046ce3905207",
        "colab": {
          "base_uri": "https://localhost:8080/"
        }
      },
      "execution_count": null,
      "outputs": [
        {
          "output_type": "stream",
          "name": "stdout",
          "text": [
            "+------------------------------------------------------+------------------------------------------------------------------------------------------------+-------------------------------------------------------------------------------------------------------------------------------------------------------------------------------------------------------------------------------------------------------------------------------------------------------------------------------------------------------------------------------------------------------------------------------------------------------------------------------------------------------------------------------------------------------------------------------------------------------------------------------------------------------------------------------------------------------------------------------------------------------------------------------------------------------------------------------------------------------------------------------------------------------------------------------------------------------------------------------------------------------------------------------+\n",
            "|text                                                  |documents                                                                                       |answer                                                                                                                                                                                                                                                                                                                                                                                                                                                                                                                                                                                                                                                                                                                                                                                                                                                                                                                                                                                                                         |\n",
            "+------------------------------------------------------+------------------------------------------------------------------------------------------------+-------------------------------------------------------------------------------------------------------------------------------------------------------------------------------------------------------------------------------------------------------------------------------------------------------------------------------------------------------------------------------------------------------------------------------------------------------------------------------------------------------------------------------------------------------------------------------------------------------------------------------------------------------------------------------------------------------------------------------------------------------------------------------------------------------------------------------------------------------------------------------------------------------------------------------------------------------------------------------------------------------------------------------+\n",
            "|What medications are commonly used to treat emphysema?|[{document, 0, 53, What medications are commonly used to treat emphysema?, {sentence -> 0}, []}]|[{chunk, 0, 963, question: What medications are commonly used to treat emphysema ? answer: Hello, There are two types of medications to treat emphysema: 1. Alpha agonists ( like albuterol or albuterol / levosalbutamol ) are used to treat symptoms of shortness of breath ( SOB ) and tightness in the chest ( tightness in chest ). These meds cause a mild to moderate increase in heart rate ( tachycardia ). 2. Beta blockers ( like propranolol or metoprolol ) are used to treat or to prevent symptoms of heart failure ( ejection fraction is 20 % or less ). These medications cause or worsen shortness of breath, tightness in chest, heart rate. You can take a combination of these medications. The combination that you will work best is a two - pill combination of albuterol and propranolol ( half tablet twice a day ). This will reduce or eliminate the need for albuterol and albuterol / levosalbutamol in your case. The other medications are used in consultation with your physician., {}, []}]|\n",
            "+------------------------------------------------------+------------------------------------------------------------------------------------------------+-------------------------------------------------------------------------------------------------------------------------------------------------------------------------------------------------------------------------------------------------------------------------------------------------------------------------------------------------------------------------------------------------------------------------------------------------------------------------------------------------------------------------------------------------------------------------------------------------------------------------------------------------------------------------------------------------------------------------------------------------------------------------------------------------------------------------------------------------------------------------------------------------------------------------------------------------------------------------------------------------------------------------------+\n",
            "\n"
          ]
        }
      ]
    },
    {
      "cell_type": "code",
      "source": [
        "result.select(\"answer.result\").show(truncate=False)"
      ],
      "metadata": {
        "colab": {
          "base_uri": "https://localhost:8080/"
        },
        "id": "Ov56x4ueAten",
        "outputId": "3903cf43-7c23-4730-8f34-3605f25cbbcf"
      },
      "execution_count": null,
      "outputs": [
        {
          "output_type": "stream",
          "name": "stdout",
          "text": [
            "+------------------------------------------------------------------------------------------------------------------------------------------------------------------------------------------------------------------------------------------------------------------------------------------------------------------------------------------------------------------------------------------------------------------------------------------------------------------------------------------------------------------------------------------------------------------------------------------------------------------------------------------------------------------------------------------------------------------------------------------------------------------------------------------------------------------------------------------------------------------------------------------------------------------------------------------------------------------------------------------------------+\n",
            "|result                                                                                                                                                                                                                                                                                                                                                                                                                                                                                                                                                                                                                                                                                                                                                                                                                                                                                                                                                                                                |\n",
            "+------------------------------------------------------------------------------------------------------------------------------------------------------------------------------------------------------------------------------------------------------------------------------------------------------------------------------------------------------------------------------------------------------------------------------------------------------------------------------------------------------------------------------------------------------------------------------------------------------------------------------------------------------------------------------------------------------------------------------------------------------------------------------------------------------------------------------------------------------------------------------------------------------------------------------------------------------------------------------------------------------+\n",
            "|[question: What medications are commonly used to treat emphysema ? answer: Hello, There are two types of medications to treat emphysema: 1. Alpha agonists ( like albuterol or albuterol / levosalbutamol ) are used to treat symptoms of shortness of breath ( SOB ) and tightness in the chest ( tightness in chest ). These meds cause a mild to moderate increase in heart rate ( tachycardia ). 2. Beta blockers ( like propranolol or metoprolol ) are used to treat or to prevent symptoms of heart failure ( ejection fraction is 20 % or less ). These medications cause or worsen shortness of breath, tightness in chest, heart rate. You can take a combination of these medications. The combination that you will work best is a two - pill combination of albuterol and propranolol ( half tablet twice a day ). This will reduce or eliminate the need for albuterol and albuterol / levosalbutamol in your case. The other medications are used in consultation with your physician.]|\n",
            "+------------------------------------------------------------------------------------------------------------------------------------------------------------------------------------------------------------------------------------------------------------------------------------------------------------------------------------------------------------------------------------------------------------------------------------------------------------------------------------------------------------------------------------------------------------------------------------------------------------------------------------------------------------------------------------------------------------------------------------------------------------------------------------------------------------------------------------------------------------------------------------------------------------------------------------------------------------------------------------------------------+\n",
            "\n"
          ]
        }
      ]
    },
    {
      "cell_type": "markdown",
      "metadata": {
        "id": "Dv3a3Mm8aTh6"
      },
      "source": [
        "## **📍 LightPipeline**"
      ]
    },
    {
      "cell_type": "code",
      "execution_count": null,
      "metadata": {
        "id": "YSfsStyhCUKa"
      },
      "outputs": [],
      "source": [
        "TEXT = \"What are the risk factors for developing heart disease?\"\n",
        "\n",
        "light_model = LightPipeline(model)\n",
        "\n",
        "light_result = light_model.annotate(TEXT)\n",
        "\n",
        "result_text = light_result[\"answer\"]"
      ]
    },
    {
      "cell_type": "code",
      "source": [
        "result_text[0].split(\" answer: \")"
      ],
      "metadata": {
        "id": "_ohm3KQyoqXp",
        "outputId": "ef78409f-78fc-43a3-8e9e-5afa32dc0127",
        "colab": {
          "base_uri": "https://localhost:8080/"
        }
      },
      "execution_count": null,
      "outputs": [
        {
          "output_type": "execute_result",
          "data": {
            "text/plain": [
              "['question: What are the risk factors for developing heart disease ?',\n",
              " 'Hello, There are several factors that are responsible for the development of heart disease. One of the most important is your cholesterol level. High cholesterol levels are responsible for the development of coronary artery disease. The other factors are blood pressure and smoking. The goal of treatment is to reduce the total and low - density lipoprotein ( LDL ) cholesterol levels. Statins are good cholesterol lowering medications. They help reduce the risk of coronary artery disease by preventing the formation of blood clots. The goal of blood pressure treatment is to reduce the average blood pressure. Regular exercises, weight loss, fruits, vegetables, fish once or twice a week, avoid smoking. The goal of the cholesterol treatment is to bring the LDL level to normal ( less than 100 mg / DL ). The goal of the smoking treatment is to bring the smoking cessation to a significant extent. You should also get your cholesterol and LDL levels checked once a year to monitor the progress of the disease.']"
            ]
          },
          "metadata": {},
          "execution_count": 8
        }
      ]
    },
    {
      "cell_type": "code",
      "source": [
        "print(\"➤ Question: \\n{}\".format(TEXT))\n",
        "print(\"\\n\")\n",
        "\n",
        "# Format the text into paragraphs\n",
        "wrapped_text = textwrap.fill(result_text[0].split(\" answer: \")[1], width=120)\n",
        "\n",
        "print(\"➤ Answer: \\n{}\".format(wrapped_text))\n",
        "print(\"\\n\")"
      ],
      "metadata": {
        "id": "3_A9J0m4vy1Z",
        "outputId": "dd5824a5-eb64-423a-ce41-175441b99ab1",
        "colab": {
          "base_uri": "https://localhost:8080/"
        }
      },
      "execution_count": null,
      "outputs": [
        {
          "output_type": "stream",
          "name": "stdout",
          "text": [
            "➤ Question: \n",
            "What are the risk factors for developing heart disease?\n",
            "\n",
            "\n",
            "➤ Answer: \n",
            "Hello, There are several factors that are responsible for the development of heart disease. One of the most important is\n",
            "your cholesterol level. High cholesterol levels are responsible for the development of coronary artery disease. The\n",
            "other factors are blood pressure and smoking. The goal of treatment is to reduce the total and low - density lipoprotein\n",
            "( LDL ) cholesterol levels. Statins are good cholesterol lowering medications. They help reduce the risk of coronary\n",
            "artery disease by preventing the formation of blood clots. The goal of blood pressure treatment is to reduce the average\n",
            "blood pressure. Regular exercises, weight loss, fruits, vegetables, fish once or twice a week, avoid smoking. The goal\n",
            "of the cholesterol treatment is to bring the LDL level to normal ( less than 100 mg / DL ). The goal of the smoking\n",
            "treatment is to bring the smoking cessation to a significant extent. You should also get your cholesterol and LDL levels\n",
            "checked once a year to monitor the progress of the disease.\n",
            "\n",
            "\n"
          ]
        }
      ]
    },
    {
      "cell_type": "markdown",
      "metadata": {
        "id": "Ta3HNysnaYy4"
      },
      "source": [
        "## 🚩 `setMaxNewTokens`"
      ]
    },
    {
      "cell_type": "markdown",
      "metadata": {
        "id": "Fpp0aiEzbH37"
      },
      "source": [
        "- This parameter sets the maximum number of new tokens that the GPT model will generate for the output, constraining the length of the generated response and managing the computational cost."
      ]
    },
    {
      "cell_type": "markdown",
      "metadata": {
        "id": "RrdPu1wK8-Pw"
      },
      "source": [
        "Pipeline with `setMaxNewTokens(128)` and `setMaxNewTokens(299)`"
      ]
    },
    {
      "cell_type": "code",
      "execution_count": null,
      "metadata": {
        "colab": {
          "base_uri": "https://localhost:8080/"
        },
        "id": "3jbbh6hy_w11",
        "outputId": "f14e69ef-d3c8-4950-f707-b5f7cf3d103e"
      },
      "outputs": [
        {
          "output_type": "stream",
          "name": "stdout",
          "text": [
            "biogpt_chat_jsl download started this may take some time.\n",
            "[OK!]\n",
            "\n",
            "Question: How can asthma be treated?\n",
            "Parameters:\n",
            "setMaxNewTokens(128):\n",
            "➤ Answer:\n",
            "Hello, Asthma is itself an allergic disease due to cold or dust or pollen or grass etc. irrespective of the triggering\n",
            "factor. You are not able to get rid from it without taking any medication. You are not able to get control from outside\n",
            "as it is the only way. You can try the following measures: 1. Improve your air quality by avoiding fine particles (\n",
            "dust, mite, pollen ). 2. Sugar cane may be the best food to feed your child. 3. Keep your house clean and warm. 4. Use\n",
            "loose bins / grinders / double joiners / oil skim\n",
            "Number of tokens used: 109\n",
            "----------------------------------------\n",
            "\n",
            "Question: How can asthma be treated?\n",
            "Parameters:\n",
            "setMaxNewTokens(299):\n",
            "➤ Answer:\n",
            "Hello, Asthma is itself an allergic disease due to cold or dust or pollen or grass etc. irrespective of the triggering\n",
            "factor. You are not able to get rid from it without taking any medication. You are not able to get control from outside\n",
            "as it is the only way. You can try the following measures: 1. Improve your air quality by avoiding fine particles (\n",
            "dust, mite, pollen ). 2. Sugar cane may be the best food to feed your child. 3. Keep your house clean and warm. 4. Use\n",
            "loose bins / grinders / double joiners / oil skimmed milk to put all the above - mentioned molds and bacteria into your\n",
            "nostrils and gums. 5. Use a mask at all times, 6. Eat plenty of fresh fruits and green vegetables. 7. Take a shower at\n",
            "the end of the day. and 8. Take fresh juices and fluids. 9. Take fresh air to outside at home. 10. Take the following\n",
            "medicines regularly and do not take any delay in getting treatment. These measures will be helpful in improving your\n",
            "asthma.\n",
            "Number of tokens used: 190\n",
            "----------------------------------------\n"
          ]
        }
      ],
      "source": [
        "# Default parameters\n",
        "gpt_qa = MedicalTextGenerator().pretrained(\"biogpt_chat_jsl\", \"en\", \"clinical/models\") \\\n",
        "    .setInputCols(\"documents\") \\\n",
        "    .setOutputCol(\"answer\") \\\n",
        "    .setStopAtEos(True)\\\n",
        "    .setDoSample(False)\\\n",
        "    .setTopK(3) \\\n",
        "    .setRandomSeed(42)\\\n",
        "    .setStopAtEos(True)\\\n",
        "    .setCustomPrompt(\"question: {DOCUMENT} answer:\")\n",
        "\n",
        "MaxNewTokens = [128, 299]\n",
        "\n",
        "\n",
        "# Sample question\n",
        "TEXT = \"How can asthma be treated?\"\n",
        "\n",
        "\n",
        "for j in MaxNewTokens:\n",
        "    print(\"\\nQuestion:\", TEXT)\n",
        "    print(\"Parameters:\")\n",
        "    print(f\"setMaxNewTokens({j}):\")\n",
        "\n",
        "    gpt_qa.setMaxNewTokens(j)\n",
        "    pipeline = Pipeline().setStages([document_assembler, gpt_qa])\n",
        "\n",
        "    light_model = LightPipeline(pipeline.fit(spark.createDataFrame([[\"\"]]).toDF(\"text\")))\n",
        "\n",
        "    result_text = light_model.annotate(TEXT)[\"answer\"][0]\n",
        "\n",
        "    answer_text = result_text.split(\" answer: \")[1]\n",
        "    wrapped_text = textwrap.fill(answer_text, width=120)\n",
        "    token_count = len(result_text.split())\n",
        "\n",
        "    print(\"➤ Answer:\")\n",
        "    print(wrapped_text)\n",
        "    print(f\"Number of tokens used: {token_count}\")\n",
        "    print(\"-\" * 40)  # Separator line\n",
        "\n",
        "\n"
      ]
    },
    {
      "cell_type": "markdown",
      "source": [
        "<b><h1><font color='darkred'>!!! ATTENTION !!! </font><h1><b>\n",
        "\n",
        "<b>before running the following cells, <font color='darkred'>RESTART the COLAB RUNTIME </font> than start your session and go ahead.<b>"
      ],
      "metadata": {
        "id": "M6sjuM3NW-ZS"
      }
    }
  ]
}
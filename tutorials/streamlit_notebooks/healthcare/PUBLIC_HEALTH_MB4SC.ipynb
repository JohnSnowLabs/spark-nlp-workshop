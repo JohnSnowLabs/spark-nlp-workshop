{
  "cells": [
    {
      "cell_type": "markdown",
      "metadata": {
        "id": "lokVHWdvaz-W"
      },
      "source": [
        "![JohnSnowLabs](https://nlp.johnsnowlabs.com/assets/images/logo.png)\n",
        "\n",
        "[![Open In Colab](https://colab.research.google.com/assets/colab-badge.svg)](https://colab.research.google.com/github/JohnSnowLabs/spark-nlp-workshop/blob/master/tutorials/streamlit_notebooks/healthcare/PUBLIC_HEALTH_MB4SC.ipynb)"
      ]
    },
    {
      "cell_type": "markdown",
      "metadata": {
        "id": "Oex6UyiHHpJS"
      },
      "source": [
        "# `Medical Bert For Sequence Classification` for **Public Health Models**"
      ]
    },
    {
      "cell_type": "markdown",
      "metadata": {
        "id": "U-UAcTkUbjzm"
      },
      "source": [
        "# **Colab Setup**"
      ]
    },
    {
      "cell_type": "code",
      "execution_count": null,
      "metadata": {
        "id": "5GlpBHUvcWup"
      },
      "outputs": [],
      "source": [
        "import json\n",
        "import os\n",
        "\n",
        "from google.colab import files\n",
        "\n",
        "license_keys = files.upload()\n",
        "\n",
        "with open(list(license_keys.keys())[0]) as f:\n",
        "    license_keys = json.load(f)\n",
        "\n",
        "# Defining license key-value pairs as local variables\n",
        "locals().update(license_keys)\n",
        "\n",
        "# Adding license key-value pairs to environment variables\n",
        "os.environ.update(license_keys)"
      ]
    },
    {
      "cell_type": "markdown",
      "source": [
        "# **Install dependencies**"
      ],
      "metadata": {
        "id": "j_6oU-alKz3e"
      }
    },
    {
      "cell_type": "code",
      "source": [
        "# Installing pyspark and spark-nlp\n",
        "! pip install --upgrade -q pyspark==3.1.2 spark-nlp==$PUBLIC_VERSION\n",
        "\n",
        "# Installing Spark NLP Healthcare\n",
        "! pip install --upgrade -q spark-nlp-jsl==$JSL_VERSION  --extra-index-url https://pypi.johnsnowlabs.com/$SECRET\n",
        "\n",
        "# Installing Spark NLP Display Library for visualization\n",
        "! pip install -q spark-nlp-display"
      ],
      "metadata": {
        "id": "COP6jvxkKwz5"
      },
      "execution_count": null,
      "outputs": []
    },
    {
      "cell_type": "markdown",
      "source": [
        "# **Import dependencies into Python and start the Spark session**"
      ],
      "metadata": {
        "id": "5lXpEF3cK5xW"
      }
    },
    {
      "cell_type": "code",
      "source": [
        "import json\n",
        "import os\n",
        "\n",
        "import sparknlp\n",
        "import sparknlp_jsl\n",
        "\n",
        "from sparknlp.base import *\n",
        "from sparknlp.util import *\n",
        "from sparknlp.annotator import *\n",
        "from sparknlp_jsl.annotator import *\n",
        "from sparknlp.pretrained import ResourceDownloader\n",
        "\n",
        "from pyspark.sql import SparkSession\n",
        "from pyspark.sql import functions as F\n",
        "from pyspark.sql.types import StringType, IntegerType\n",
        "from pyspark.ml import Pipeline, PipelineModel\n",
        "\n",
        "import pandas as pd\n",
        "pd.set_option('display.max_columns', None)  \n",
        "pd.set_option('display.expand_frame_repr', False)\n",
        "pd.set_option('max_colwidth', None)\n",
        "\n",
        "import string\n",
        "import numpy as np\n",
        "\n",
        "params = {\"spark.driver.memory\":\"16G\",\n",
        "          \"spark.kryoserializer.buffer.max\":\"2000M\",\n",
        "          \"spark.driver.maxResultSize\":\"2000M\"}\n",
        "\n",
        "spark = sparknlp_jsl.start(secret = SECRET, params=params)\n",
        "\n",
        "print (\"Spark NLP Version :\", sparknlp.version())\n",
        "print (\"Spark NLP_JSL Version :\", sparknlp_jsl.version())\n",
        "\n",
        "spark"
      ],
      "metadata": {
        "id": "gY2iy25_K7y_"
      },
      "execution_count": null,
      "outputs": []
    },
    {
      "cell_type": "markdown",
      "metadata": {
        "id": "ELr5bVqXdDFt"
      },
      "source": [
        "# **General Function for MedicalBertForTokenClassifier Pipeline**\n",
        "\n",
        "\n",
        "\n"
      ]
    },
    {
      "cell_type": "code",
      "source": [
        "def run_pipeline(model, text, lang = 'en'):  \n",
        "  document_assembler = DocumentAssembler() \\\n",
        "    .setInputCol(\"text\") \\\n",
        "    .setOutputCol(\"document\")\n",
        "\n",
        "  tokenizer = Tokenizer() \\\n",
        "    .setInputCols(\"document\") \\\n",
        "    .setOutputCol(\"token\")\n",
        "\n",
        "  sequenceClassifier = MedicalBertForSequenceClassification.pretrained(model, lang, \"clinical/models\")\\\n",
        "    .setInputCols([\"document\",\"token\"])\\\n",
        "    .setOutputCol(\"class\")\n",
        "\n",
        "  pipeline = Pipeline(stages=[\n",
        "    document_assembler, \n",
        "    tokenizer,\n",
        "    sequenceClassifier\n",
        "    ])\n",
        "\n",
        "  df = spark.createDataFrame(text, StringType()).toDF(\"text\")\n",
        "  results = pipeline.fit(df).transform(df)\n",
        "   \n",
        "  print(\"\\n\")\n",
        "  print(\"<----------------- MODEL NAME:\",\"\\033[1m\" + model + \"\\033[0m\",\" ----------------- >\")\n",
        "  \n",
        "  res = results.select(F.explode(F.arrays_zip(\"document.result\", \"class.result\",\"class.metadata\")).alias(\"col\"))\\\n",
        "               .select(F.expr(\"col['1']\").alias(\"prediction\"),\n",
        "                       F.expr(\"col['2']\").alias(\"confidence\"),\n",
        "                       F.expr(\"col['0']\").alias(\"sentence\"))\n",
        "                  \n",
        "  if res.count()>1:\n",
        "    udf_func = F.udf(lambda x,y:  x[\"Some(\"+str(y)+\")\"])\n",
        "    print(\"\\n\",model,\"\\n\") \n",
        "    res.withColumn('confidence', udf_func(res.confidence, res.prediction)).show(truncate=False)"
      ],
      "metadata": {
        "id": "gIUWeolKFjZe"
      },
      "execution_count": 4,
      "outputs": []
    },
    {
      "cell_type": "markdown",
      "source": [
        "# **MODELS**"
      ],
      "metadata": {
        "id": "Zzp_f1FcHhr8"
      }
    },
    {
      "cell_type": "markdown",
      "source": [
        "## **bert_sequence_classifier_ade_augmented**"
      ],
      "metadata": {
        "id": "KptA2tsxHkcx"
      }
    },
    {
      "cell_type": "code",
      "source": [
        "model = \"bert_sequence_classifier_ade_augmented\""
      ],
      "metadata": {
        "id": "W8IAYp8oHru5"
      },
      "execution_count": null,
      "outputs": []
    },
    {
      "cell_type": "code",
      "execution_count": null,
      "metadata": {
        "id": "JHleRuSGJqd5"
      },
      "outputs": [],
      "source": [
        "sample_texts = [\n",
        "\"\"\"I'm so fine today. increasing zyprexa,my condisition is became so good. it has a side effect that increase my weight. i must care about it.\"\"\",\n",
        "\"\"\"Actually, also loving it because it is a medicine for bipolar disorder and they named it Latuda.\"\"\",\n",
        "\"\"\"Yeah,it can be caused by swelling from around a nerve from ra,but the effexor causes shaking like ur cold(shivering)\"\"\",\n",
        "\"\"\"Day three of #nonsmoking - 90% of my thoughts revolve around cigs. The nicotine lozenges I have taste like cherry infused with ashtray.\"\"\",\n",
        "\"\"\"I just had a look buddy, and my medication (Seroquel) does affect tolerance to the sun.\"\"\",\n",
        "\"\"\"Many new physicians have been identified and added to the Buprenorphine Certified Physicians and Treatment Providers directory!\"\"\",\n",
        "\"\"\"I started out with lyrica but i could no longer afford it. it made me bloated. tried cymbalta , my heart was beating wicked fast.\"\"\"\n",
        "]"
      ]
    },
    {
      "cell_type": "code",
      "source": [
        "run_pipeline(model, sample_texts)"
      ],
      "metadata": {
        "colab": {
          "base_uri": "https://localhost:8080/"
        },
        "id": "Nv9OWqgbJMSB",
        "outputId": "fe817615-7874-4631-e9f3-c263d57da6f5"
      },
      "execution_count": null,
      "outputs": [
        {
          "output_type": "stream",
          "name": "stdout",
          "text": [
            "bert_sequence_classifier_ade_augmented download started this may take some time.\n",
            "[OK!]\n",
            "\n",
            "\n",
            "<----------------- MODEL NAME: \u001b[1mbert_sequence_classifier_ade_augmented\u001b[0m  ----------------- >\n",
            "\n",
            " bert_sequence_classifier_ade_augmented \n",
            "\n",
            "+----------+----------+-------------------------------------------------------------------------------------------------------------------------------------------+\n",
            "|prediction|confidence|sentence                                                                                                                                   |\n",
            "+----------+----------+-------------------------------------------------------------------------------------------------------------------------------------------+\n",
            "|ADE       |0.99947673|I'm so fine today. increasing zyprexa,my condisition is became so good. it has a side effect that increase my weight. i must care about it.|\n",
            "|noADE     |0.99999017|Actually, also loving it because it is a medicine for bipolar disorder and they named it Latuda.                                           |\n",
            "|ADE       |0.99976945|Yeah,it can be caused by swelling from around a nerve from ra,but the effexor causes shaking like ur cold(shivering)                       |\n",
            "|noADE     |0.99998194|Day three of #nonsmoking - 90% of my thoughts revolve around cigs. The nicotine lozenges I have taste like cherry infused with ashtray.    |\n",
            "|ADE       |0.999016  |I just had a look buddy, and my medication (Seroquel) does affect tolerance to the sun.                                                    |\n",
            "|noADE     |0.9999899 |Many new physicians have been identified and added to the Buprenorphine Certified Physicians and Treatment Providers directory!            |\n",
            "|ADE       |0.9999849 |I started out with lyrica but i could no longer afford it. it made me bloated. tried cymbalta , my heart was beating wicked fast.          |\n",
            "+----------+----------+-------------------------------------------------------------------------------------------------------------------------------------------+\n",
            "\n"
          ]
        }
      ]
    },
    {
      "cell_type": "markdown",
      "source": [
        "## **bert_sequence_classifier_self_reported_age_tweet**"
      ],
      "metadata": {
        "id": "taaK6AJ6myFW"
      }
    },
    {
      "cell_type": "code",
      "source": [
        "model = \"bert_sequence_classifier_self_reported_age_tweet\""
      ],
      "metadata": {
        "id": "Cr2eBf1Rm9RM"
      },
      "execution_count": null,
      "outputs": []
    },
    {
      "cell_type": "code",
      "source": [
        "sample_texts = [\n",
        "\"\"\"Who knew I would spend my Saturday mornings at 21 still watching Disney channel\"\"\",\n",
        "\"\"\"My girl, Fancy, just turned 17. She’s getting up there, but she still has the energy of a puppy\"\"\",\n",
        "\"\"\"You are my hero! I am 18 years old and have an 8 month old daughter! You and mckayla are so awesome! You and mckayla are such an inspiration to me! I have been watching mckayla since her first video announcing she was pregnant! I love you guys so much!\"\"\",\n",
        "\"\"\"Karla, from Flushing visits the office of RepGraceMeng and stresses for a change in the age of entry requirement from 16 years old to 18 years old — \"At 16 we are considered a minor and should still be protected\" \"\"\",\n",
        "\"\"\"Happy new year!  May you continue to be blessed and I was going to tell you on December 24 shout me out for my birthday but I party so hard and didn't realize turning 46 you have to workout before partying. Was to sore to text.\"\"\",\n",
        "\"\"\"His name is Kostata age 68. He's the son of Chief Eneas, grandson of Chief Bapsiste, who signed the treaty of Hell Gate, 1855, btwn U.S. and the Allied Tribes of the Flashead Reservation.\"\"\",\n",
        "]"
      ],
      "metadata": {
        "id": "9uz18b_Zm9Oz"
      },
      "execution_count": null,
      "outputs": []
    },
    {
      "cell_type": "code",
      "source": [
        "run_pipeline(model, sample_texts)"
      ],
      "metadata": {
        "id": "mdiSHcL1m9Mr",
        "outputId": "64d9f001-2016-497c-e057-9b8c4e3cabaf",
        "colab": {
          "base_uri": "https://localhost:8080/"
        }
      },
      "execution_count": null,
      "outputs": [
        {
          "output_type": "stream",
          "name": "stdout",
          "text": [
            "bert_sequence_classifier_self_reported_age_tweet download started this may take some time.\n",
            "[OK!]\n",
            "\n",
            "\n",
            "<----------------- MODEL NAME: \u001b[1mbert_sequence_classifier_self_reported_age_tweet\u001b[0m  ----------------- >\n",
            "\n",
            " bert_sequence_classifier_self_reported_age_tweet \n",
            "\n",
            "+---------------+----------+------------------------------------------------------------------------------------------------------------------------------------------------------------------------------------------------------------------------------------------------------------+\n",
            "|prediction     |confidence|sentence                                                                                                                                                                                                                                                    |\n",
            "+---------------+----------+------------------------------------------------------------------------------------------------------------------------------------------------------------------------------------------------------------------------------------------------------------+\n",
            "|self_report_age|0.99997234|Who knew I would spend my Saturday mornings at 21 still watching Disney channel                                                                                                                                                                             |\n",
            "|no_report      |0.9999877 |My girl, Fancy, just turned 17. She’s getting up there, but she still has the energy of a puppy                                                                                                                                                             |\n",
            "|self_report_age|0.99996054|You are my hero! I am 18 years old and have an 8 month old daughter! You and mckayla are so awesome! You and mckayla are such an inspiration to me! I have been watching mckayla since her first video announcing she was pregnant! I love you guys so much!|\n",
            "|no_report      |0.9999854 |Karla, from Flushing visits the office of RepGraceMeng and stresses for a change in the age of entry requirement from 16 years old to 18 years old — \"At 16 we are considered a minor and should still be protected\"                                        |\n",
            "|self_report_age|0.9999588 |Happy new year!  May you continue to be blessed and I was going to tell you on December 24 shout me out for my birthday but I party so hard and didn't realize turning 46 you have to workout before partying. Was to sore to text.                         |\n",
            "|no_report      |0.9999817 |His name is Kostata age 68. He's the son of Chief Eneas, grandson of Chief Bapsiste, who signed the treaty of Hell Gate, 1855, btwn U.S. and the Allied Tribes of the Flashead Reservation.                                                                 |\n",
            "+---------------+----------+------------------------------------------------------------------------------------------------------------------------------------------------------------------------------------------------------------------------------------------------------------+\n",
            "\n"
          ]
        }
      ]
    },
    {
      "cell_type": "markdown",
      "source": [
        "## **bert_sequence_classifier_exact_age_reddit**"
      ],
      "metadata": {
        "id": "Z7DY6UBZm2ph"
      }
    },
    {
      "cell_type": "code",
      "source": [
        "model = \"bert_sequence_classifier_exact_age_reddit\""
      ],
      "metadata": {
        "id": "kTJM1PxCm-Qp"
      },
      "execution_count": null,
      "outputs": []
    },
    {
      "cell_type": "code",
      "source": [
        "sample_texts = [\n",
        "\"\"\"I recently learned that Soerens is a progressive systemic disease. I now walk with a cane and occasionally rent a wheelchair for trips to places like Disney. I'm 41 and have slowly been getting worse due to autonomic nervous system issues because of Soerens. I had to fire my original rheumatologist and find someone more familiar with the disease to learn more about it.\"\"\",\n",
        "\"\"\"Well we know autoimmunes are a bit of a sliding scale and everyone with Sjogrens has a slightly different set of symptoms. I was diagnosed over 10 years ago and apart from slow saliva production I'm still healthy and relatively symptom free. So yes, it seems odd but maybe it's possible for someone to technically be diagnosed but have no noticeable symptoms?\"\"\",\n",
        "\"\"\"Man. That's so scary and must've been so incredibly difficult not getting answers for so long. I'm happy that you finally got your results and began treatment. I'm only 18 and the aches and constant irritation is almost unbearable. I'm genuinely terrified to wait years like this.\"\"\",\n",
        "\"\"\"I had usable vision immediately after the transplant. Before leaving the hospital, my opthalmogist came to check my eye pressure. The pressure increased during surgery. When he removed the gauze covering, I noticed a HUGE improvement in my vision in the right eye. Even with 18 stitches in my eye. \"\"\",\n",
        "\"\"\"You need to go to a real dry eye specialist who has a Lipiview machine, who does an inflammadry test, and who offers lipiflow/IPL. These things are how you can identify a specialist. Take it from a 22 year old that has seen over 10 doctors in two years.\"\"\",\n",
        "\"\"\"I'm from Canada and have worked in optical for 10 years before Optometry school. I know the laws and I can assure you, PD is still not a part of the Rx. She gave it to you for free even though it is a chargeable service.\"\"\",\n",
        "]"
      ],
      "metadata": {
        "id": "cYqI-BKkm-N1"
      },
      "execution_count": null,
      "outputs": []
    },
    {
      "cell_type": "code",
      "source": [
        "run_pipeline(model, sample_texts)"
      ],
      "metadata": {
        "id": "06belUGBm-Jq",
        "outputId": "1cecb583-c60d-4a27-e264-e850b009a603",
        "colab": {
          "base_uri": "https://localhost:8080/"
        }
      },
      "execution_count": null,
      "outputs": [
        {
          "output_type": "stream",
          "name": "stdout",
          "text": [
            "bert_sequence_classifier_exact_age_reddit download started this may take some time.\n",
            "[OK!]\n",
            "\n",
            "\n",
            "<----------------- MODEL NAME: \u001b[1mbert_sequence_classifier_exact_age_reddit\u001b[0m  ----------------- >\n",
            "\n",
            " bert_sequence_classifier_exact_age_reddit \n",
            "\n",
            "+---------------+----------+-----------------------------------------------------------------------------------------------------------------------------------------------------------------------------------------------------------------------------------------------------------------------------------------------------------------------------------------------------------------------------------+\n",
            "|prediction     |confidence|sentence                                                                                                                                                                                                                                                                                                                                                                           |\n",
            "+---------------+----------+-----------------------------------------------------------------------------------------------------------------------------------------------------------------------------------------------------------------------------------------------------------------------------------------------------------------------------------------------------------------------------------+\n",
            "|self_report_age|0.9999777 |I recently learned that Soerens is a progressive systemic disease. I now walk with a cane and occasionally rent a wheelchair for trips to places like Disney. I'm 41 and have slowly been getting worse due to autonomic nervous system issues because of Soerens. I had to fire my original rheumatologist and find someone more familiar with the disease to learn more about it.|\n",
            "|no_report      |0.9999932 |Well we know autoimmunes are a bit of a sliding scale and everyone with Sjogrens has a slightly different set of symptoms. I was diagnosed over 10 years ago and apart from slow saliva production I'm still healthy and relatively symptom free. So yes, it seems odd but maybe it's possible for someone to technically be diagnosed but have no noticeable symptoms?            |\n",
            "|self_report_age|0.9999708 |Man. That's so scary and must've been so incredibly difficult not getting answers for so long. I'm happy that you finally got your results and began treatment. I'm only 18 and the aches and constant irritation is almost unbearable. I'm genuinely terrified to wait years like this.                                                                                           |\n",
            "|no_report      |0.9999862 |I had usable vision immediately after the transplant. Before leaving the hospital, my opthalmogist came to check my eye pressure. The pressure increased during surgery. When he removed the gauze covering, I noticed a HUGE improvement in my vision in the right eye. Even with 18 stitches in my eye.                                                                          |\n",
            "|self_report_age|0.99998325|You need to go to a real dry eye specialist who has a Lipiview machine, who does an inflammadry test, and who offers lipiflow/IPL. These things are how you can identify a specialist. Take it from a 22 year old that has seen over 10 doctors in two years.                                                                                                                      |\n",
            "|no_report      |0.99999404|I'm from Canada and have worked in optical for 10 years before Optometry school. I know the laws and I can assure you, PD is still not a part of the Rx. She gave it to you for free even though it is a chargeable service.                                                                                                                                                       |\n",
            "+---------------+----------+-----------------------------------------------------------------------------------------------------------------------------------------------------------------------------------------------------------------------------------------------------------------------------------------------------------------------------------------------------------------------------------+\n",
            "\n"
          ]
        }
      ]
    },
    {
      "cell_type": "markdown",
      "source": [
        "## **bert_sequence_classifier_self_reported_symptoms_tweet**\n"
      ],
      "metadata": {
        "id": "iOKpDZ_LoXXY"
      }
    },
    {
      "cell_type": "code",
      "source": [
        "model = \"bert_sequence_classifier_self_reported_symptoms_tweet\" "
      ],
      "metadata": {
        "id": "3CU11Dd5m-G4"
      },
      "execution_count": null,
      "outputs": []
    },
    {
      "cell_type": "code",
      "source": [
        "sample_texts = [\n",
        "\"\"\"Las vacunas 3 y hablamos inminidad vivo  Son bichito vivo dentro de lÃ­quido de la vacuna suelen tener reacciones alÃorgicas si que sepan.\"\"\",\n",
        "\"\"\"Yo pense que me estaba dando el  coronavirus porque cuando me levante  casi no podia respirar pero que si era que tenia la nariz topada de mocos.\"\"\",\n",
        "\"\"\"Tos, dolor de garganta y fiebre, los síntomas más reportados por los porteños con coronavirus.\"\"\",\n",
        "\"\"\"Los pacientes y contactos asintomáticos pueden hacerse lavados nasales con hipoclorito de sodio o gárgaras de sal, de acuerdo a los galenos.\"\"\",\n",
        "\"\"\"Enseguida empiezo a meterle por la cabeza con un ladrillo al que me diga que tengo coronavirus por estar con mocos\"\"\",\n",
        "\"\"\"Las Jordan de Aliexpress no producen efectos secundarios, no son hipotéticamente capaces de dejarme estéril, causarme muerte súbita, parálisis, mielitis transversa irreversible o daños neurológicos. Creo que existe una gran diferencia. Digo yo, no sé\"\"\"\n",
        "]"
      ],
      "metadata": {
        "id": "zWpZMcDXocX5"
      },
      "execution_count": null,
      "outputs": []
    },
    {
      "cell_type": "code",
      "source": [
        "run_pipeline(model, sample_texts, lang = 'es')"
      ],
      "metadata": {
        "colab": {
          "base_uri": "https://localhost:8080/"
        },
        "id": "iTXqXRaXojAa",
        "outputId": "810120ca-2e14-4b4b-bd6a-d24e389cff4b"
      },
      "execution_count": null,
      "outputs": [
        {
          "output_type": "stream",
          "name": "stdout",
          "text": [
            "bert_sequence_classifier_self_reported_symptoms_tweet download started this may take some time.\n",
            "[OK!]\n",
            "\n",
            "\n",
            "<----------------- MODEL NAME: \u001b[1mbert_sequence_classifier_self_reported_symptoms_tweet\u001b[0m  ----------------- >\n",
            "\n",
            " bert_sequence_classifier_self_reported_symptoms_tweet \n",
            "\n",
            "+--------------------+----------+----------------------------------------------------------------------------------------------------------------------------------------------------------------------------------------------------------------------------------------------------------+\n",
            "|prediction          |confidence|sentence                                                                                                                                                                                                                                                  |\n",
            "+--------------------+----------+----------------------------------------------------------------------------------------------------------------------------------------------------------------------------------------------------------------------------------------------------------+\n",
            "|non-personal_reports|0.99919873|Las vacunas 3 y hablamos inminidad vivo  Son bichito vivo dentro de lÃ­quido de la vacuna suelen tener reacciones alÃorgicas si que sepan.                                                                                                                |\n",
            "|Self_reports        |0.99977714|Yo pense que me estaba dando el  coronavirus porque cuando me levante  casi no podia respirar pero que si era que tenia la nariz topada de mocos.                                                                                                         |\n",
            "|Lit-News_mentions   |0.9999527 |Tos, dolor de garganta y fiebre, los síntomas más reportados por los porteños con coronavirus.                                                                                                                                                            |\n",
            "|Lit-News_mentions   |0.9999533 |Los pacientes y contactos asintomáticos pueden hacerse lavados nasales con hipoclorito de sodio o gárgaras de sal, de acuerdo a los galenos.                                                                                                              |\n",
            "|Self_reports        |0.9999068 |Enseguida empiezo a meterle por la cabeza con un ladrillo al que me diga que tengo coronavirus por estar con mocos                                                                                                                                        |\n",
            "|non-personal_reports|0.99991506|Las Jordan de Aliexpress no producen efectos secundarios, no son hipotéticamente capaces de dejarme estéril, causarme muerte súbita, parálisis, mielitis transversa irreversible o daños neurológicos. Creo que existe una gran diferencia. Digo yo, no sé|\n",
            "+--------------------+----------+----------------------------------------------------------------------------------------------------------------------------------------------------------------------------------------------------------------------------------------------------------+\n",
            "\n"
          ]
        }
      ]
    },
    {
      "cell_type": "markdown",
      "source": [
        "## **bert_sequence_classifier_health_mandates_stance_tweet**"
      ],
      "metadata": {
        "id": "StvtS9W3pHWv"
      }
    },
    {
      "cell_type": "code",
      "source": [
        "model = \"bert_sequence_classifier_health_mandates_stance_tweet\""
      ],
      "metadata": {
        "id": "iGU1oyUxolCi"
      },
      "execution_count": null,
      "outputs": []
    },
    {
      "cell_type": "code",
      "source": [
        "sample_texts = [\n",
        "\"\"\"It's too dangerous to hold the RNC, but let's send students and teachers back to school.\"\"\",\n",
        "\"\"\"So is the flu and pneumonia what are their s stop the Media Manipulation covid has treatments Youre Speaker Pelosi nephew so stop the agenda LIES.\"\"\",\n",
        "\"\"\"Just a quick update to my U.S. followers, I'll be making a stop in all 50 states this spring!  No tickets needed, just don't wash your hands, cough on each other.\"\"\",\n",
        "\"\"\"Go to a restaurant no mask Do a food shop wear a mask INCONSISTENT No Masks No Masks.\"\"\",\n",
        "\"\"\"But if schools close who is gonna occupy those graves Cause politiciansprotected smokers protected drunkardsprotected school kids amp teachers\"\"\",\n",
        "\"\"\"New title Maskhole I think Im going to use this very soon coronavirus.\"\"\"\n",
        "]"
      ],
      "metadata": {
        "id": "3-5k-buspVo6"
      },
      "execution_count": null,
      "outputs": []
    },
    {
      "cell_type": "code",
      "source": [
        "run_pipeline(model, sample_texts)"
      ],
      "metadata": {
        "colab": {
          "base_uri": "https://localhost:8080/"
        },
        "id": "TMnCwMCMpXzf",
        "outputId": "15c8de63-448f-4920-a533-dd07e036c4eb"
      },
      "execution_count": null,
      "outputs": [
        {
          "output_type": "stream",
          "name": "stdout",
          "text": [
            "bert_sequence_classifier_health_mandates_stance_tweet download started this may take some time.\n",
            "[OK!]\n",
            "\n",
            "\n",
            "<----------------- MODEL NAME: \u001b[1mbert_sequence_classifier_health_mandates_stance_tweet\u001b[0m  ----------------- >\n",
            "\n",
            " bert_sequence_classifier_health_mandates_stance_tweet \n",
            "\n",
            "+----------+----------+------------------------------------------------------------------------------------------------------------------------------------------------------------------+\n",
            "|prediction|confidence|sentence                                                                                                                                                          |\n",
            "+----------+----------+------------------------------------------------------------------------------------------------------------------------------------------------------------------+\n",
            "|FAVOR     |0.99996823|It's too dangerous to hold the RNC, but let's send students and teachers back to school.                                                                          |\n",
            "|AGAINST   |0.99994653|So is the flu and pneumonia what are their s stop the Media Manipulation covid has treatments Youre Speaker Pelosi nephew so stop the agenda LIES.                |\n",
            "|NONE      |0.99993134|Just a quick update to my U.S. followers, I'll be making a stop in all 50 states this spring!  No tickets needed, just don't wash your hands, cough on each other.|\n",
            "|AGAINST   |0.99994534|Go to a restaurant no mask Do a food shop wear a mask INCONSISTENT No Masks No Masks.                                                                             |\n",
            "|FAVOR     |0.99997336|But if schools close who is gonna occupy those graves Cause politiciansprotected smokers protected drunkardsprotected school kids amp teachers                    |\n",
            "|NONE      |0.9999646 |New title Maskhole I think Im going to use this very soon coronavirus.                                                                                            |\n",
            "+----------+----------+------------------------------------------------------------------------------------------------------------------------------------------------------------------+\n",
            "\n"
          ]
        }
      ]
    },
    {
      "cell_type": "markdown",
      "source": [
        "## **bert_sequence_classifier_health_mandates_premise_tweet**\n"
      ],
      "metadata": {
        "id": "_u0x9VNfpbT9"
      }
    },
    {
      "cell_type": "code",
      "source": [
        "model = \"bert_sequence_classifier_health_mandates_premise_tweet\""
      ],
      "metadata": {
        "id": "NI86TD_HpZzX"
      },
      "execution_count": null,
      "outputs": []
    },
    {
      "cell_type": "code",
      "source": [
        "sample_texts = [\n",
        "\"\"\"It's too dangerous to hold the RNC, but let's send students and teachers back to school.\"\"\",\n",
        "\"\"\"So is the flu and pneumonia what are their s stop the Media Manipulation covid has treatments Youre Speaker Pelosi nephew so stop the agenda LIES.\"\"\",\n",
        "\"\"\"Just a quick update to my U.S. followers, I'll be making a stop in all 50 states this spring!  No tickets needed, just don't wash your hands, cough on each other.\"\"\",\n",
        "\"\"\"Go to a restaurant no mask Do a food shop wear a mask INCONSISTENT No Masks No Masks.\"\"\",\n",
        "\"\"\"But if schools close who is gonna occupy those graves Cause politiciansprotected smokers protected drunkardsprotected school kids amp teachers\"\"\",\n",
        "\"\"\"New title Maskhole I think Im going to use this very soon coronavirus.\"\"\"\n",
        "]"
      ],
      "metadata": {
        "id": "CqD3Ak2dpvzf"
      },
      "execution_count": null,
      "outputs": []
    },
    {
      "cell_type": "code",
      "source": [
        "run_pipeline(model, sample_texts)"
      ],
      "metadata": {
        "colab": {
          "base_uri": "https://localhost:8080/"
        },
        "id": "33OojpQHpvrt",
        "outputId": "67eea163-ed4e-4091-baf1-da2db90f11e9"
      },
      "execution_count": null,
      "outputs": [
        {
          "output_type": "stream",
          "name": "stdout",
          "text": [
            "bert_sequence_classifier_health_mandates_premise_tweet download started this may take some time.\n",
            "[OK!]\n",
            "\n",
            "\n",
            "<----------------- MODEL NAME: \u001b[1mbert_sequence_classifier_health_mandates_premise_tweet\u001b[0m  ----------------- >\n",
            "\n",
            " bert_sequence_classifier_health_mandates_premise_tweet \n",
            "\n",
            "+--------------+----------+------------------------------------------------------------------------------------------------------------------------------------------------------------------+\n",
            "|prediction    |confidence|sentence                                                                                                                                                          |\n",
            "+--------------+----------+------------------------------------------------------------------------------------------------------------------------------------------------------------------+\n",
            "|has_premise   |0.9987241 |It's too dangerous to hold the RNC, but let's send students and teachers back to school.                                                                          |\n",
            "|has_premise   |0.9999632 |So is the flu and pneumonia what are their s stop the Media Manipulation covid has treatments Youre Speaker Pelosi nephew so stop the agenda LIES.                |\n",
            "|has_no_premise|0.999975  |Just a quick update to my U.S. followers, I'll be making a stop in all 50 states this spring!  No tickets needed, just don't wash your hands, cough on each other.|\n",
            "|has_no_premise|0.9999777 |Go to a restaurant no mask Do a food shop wear a mask INCONSISTENT No Masks No Masks.                                                                             |\n",
            "|has_premise   |0.99995315|But if schools close who is gonna occupy those graves Cause politiciansprotected smokers protected drunkardsprotected school kids amp teachers                    |\n",
            "|has_no_premise|0.99998003|New title Maskhole I think Im going to use this very soon coronavirus.                                                                                            |\n",
            "+--------------+----------+------------------------------------------------------------------------------------------------------------------------------------------------------------------+\n",
            "\n"
          ]
        }
      ]
    },
    {
      "cell_type": "code",
      "source": [
        ""
      ],
      "metadata": {
        "id": "XePZkPPKV3Tc"
      },
      "execution_count": null,
      "outputs": []
    },
    {
      "cell_type": "markdown",
      "source": [
        "## **bert_sequence_classifier_self_reported_stress_tweet**\n"
      ],
      "metadata": {
        "id": "5gW0KlwlV3uh"
      }
    },
    {
      "cell_type": "code",
      "source": [
        "model = \"bert_sequence_classifier_self_reported_stress_tweet\""
      ],
      "metadata": {
        "id": "_IZn6nwUV3uh"
      },
      "execution_count": null,
      "outputs": []
    },
    {
      "cell_type": "code",
      "source": [
        "sample_texts = [\n",
        "\"\"\"I need a constant reminder that the world is only temporary. I shouldn't be so stressed abt it. Things in this world are meant to hurt me.\"\"\",\n",
        "\"\"\"I lost a lot of weight and hair. I am constantly stressed, I hate this. I am battling on many fronts and I hate this.\"\"\",\n",
        "\"\"\"The last years of his life were troubled by a new period of storm and stress which called for his highest powers of calculation and self-control.\"\"\",\n",
        "\"\"\"My back hurts, I'm breaking out, I'm constantly crying.. I am so stressed out and there's no help to help me out 😞\"\"\",\n",
        "\"\"\"I’m going to have to start turning my phone off when I’m trying to relax. I’m not trying to be constantly stressed.\"\"\"\n",
        "]"
      ],
      "metadata": {
        "id": "HFiKq3DKV3uh"
      },
      "execution_count": null,
      "outputs": []
    },
    {
      "cell_type": "code",
      "source": [
        "run_pipeline(model, sample_texts)"
      ],
      "metadata": {
        "colab": {
          "base_uri": "https://localhost:8080/"
        },
        "outputId": "5d362c98-c5ce-46fd-9bc2-eac1e3e09698",
        "id": "EHBAbd5pV3uh"
      },
      "execution_count": null,
      "outputs": [
        {
          "output_type": "stream",
          "name": "stdout",
          "text": [
            "bert_sequence_classifier_self_reported_stress_tweet download started this may take some time.\n",
            "[OK!]\n",
            "\n",
            "\n",
            "<----------------- MODEL NAME: \u001b[1mbert_sequence_classifier_self_reported_stress_tweet\u001b[0m  ----------------- >\n",
            "\n",
            " bert_sequence_classifier_self_reported_stress_tweet \n",
            "\n",
            "+------------+----------+-------------------------------------------------------------------------------------------------------------------------------------------------+\n",
            "|prediction  |confidence|sentence                                                                                                                                         |\n",
            "+------------+----------+-------------------------------------------------------------------------------------------------------------------------------------------------+\n",
            "|not-stressed|0.9329752 |I need a constant reminder that the world is only temporary. I shouldn't be so stressed abt it. Things in this world are meant to hurt me.       |\n",
            "|stressed    |0.5380772 |I lost a lot of weight and hair. I am constantly stressed, I hate this. I am battling on many fronts and I hate this.                            |\n",
            "|not-stressed|0.94829303|The last years of his life were troubled by a new period of storm and stress which called for his highest powers of calculation and self-control.|\n",
            "|stressed    |0.9046247 |My back hurts, I'm breaking out, I'm constantly crying.. I am so stressed out and there's no help to help me out 😞                              |\n",
            "|not-stressed|0.90078264|I’m going to have to start turning my phone off when I’m trying to relax. I’m not trying to be constantly stressed.                              |\n",
            "+------------+----------+-------------------------------------------------------------------------------------------------------------------------------------------------+\n",
            "\n"
          ]
        }
      ]
    },
    {
      "cell_type": "markdown",
      "source": [
        "## **bert_sequence_classifier_stress**\n"
      ],
      "metadata": {
        "id": "AwI8nscPWLSZ"
      }
    },
    {
      "cell_type": "code",
      "source": [
        "model = \"bert_sequence_classifier_stress\""
      ],
      "metadata": {
        "id": "MUrxP5YHWLSa"
      },
      "execution_count": null,
      "outputs": []
    },
    {
      "cell_type": "code",
      "source": [
        "sample_texts = [\n",
        "\"\"\"No place in my city has shelter space for us, and I won't put my baby on the literal street. What cities have good shelter programs for homeless mothers and children?\"\"\",\n",
        "\"\"\"Sometimes I hate being such an over achiever because I’m in constant stress to do good and be perfect ALL the time\"\"\",\n",
        "\"\"\"The last years of his life were troubled by a new period of storm and stress which called for his highest powers of calculation and self-control.\"\"\",\n",
        "\"\"\"My back hurts, I'm breaking out, I'm constantly crying.. I am so stressed out and there's no help to help me out 😞\"\"\",\n",
        "\"\"\"I lost a lot of weight and hair. I am constantly stressed, I hate this. I am battling on many fronts and I hate this.\"\"\"\n",
        "]"
      ],
      "metadata": {
        "id": "rDXFTzmTWLSa"
      },
      "execution_count": null,
      "outputs": []
    },
    {
      "cell_type": "code",
      "source": [
        "run_pipeline(model, sample_texts)"
      ],
      "metadata": {
        "colab": {
          "base_uri": "https://localhost:8080/"
        },
        "outputId": "236dbce1-7573-4732-8a11-8d48ed4b00c5",
        "id": "ao0fwDsiWLSa"
      },
      "execution_count": null,
      "outputs": [
        {
          "output_type": "stream",
          "name": "stdout",
          "text": [
            "bert_sequence_classifier_stress download started this may take some time.\n",
            "[OK!]\n",
            "\n",
            "\n",
            "<----------------- MODEL NAME: \u001b[1mbert_sequence_classifier_stress\u001b[0m  ----------------- >\n",
            "\n",
            " bert_sequence_classifier_stress \n",
            "\n",
            "+----------+----------+----------------------------------------------------------------------------------------------------------------------------------------------------------------------+\n",
            "|prediction|confidence|sentence                                                                                                                                                              |\n",
            "+----------+----------+----------------------------------------------------------------------------------------------------------------------------------------------------------------------+\n",
            "|stress    |0.9984272 |No place in my city has shelter space for us, and I won't put my baby on the literal street. What cities have good shelter programs for homeless mothers and children?|\n",
            "|no stress |0.6518241 |Sometimes I hate being such an over achiever because I’m in constant stress to do good and be perfect ALL the time                                                    |\n",
            "|no stress |0.99943924|The last years of his life were troubled by a new period of storm and stress which called for his highest powers of calculation and self-control.                     |\n",
            "|stress    |0.9997339 |My back hurts, I'm breaking out, I'm constantly crying.. I am so stressed out and there's no help to help me out 😞                                                   |\n",
            "|stress    |0.9997395 |I lost a lot of weight and hair. I am constantly stressed, I hate this. I am battling on many fronts and I hate this.                                                 |\n",
            "+----------+----------+----------------------------------------------------------------------------------------------------------------------------------------------------------------------+\n",
            "\n"
          ]
        }
      ]
    },
    {
      "cell_type": "markdown",
      "source": [
        "## **bert_sequence_classifier_stressor**\n"
      ],
      "metadata": {
        "id": "dzvzLYagWMJi"
      }
    },
    {
      "cell_type": "code",
      "source": [
        "model = \"bert_sequence_classifier_stressor\""
      ],
      "metadata": {
        "id": "WccyTfBVWMJi"
      },
      "execution_count": null,
      "outputs": []
    },
    {
      "cell_type": "code",
      "source": [
        "sample_texts = [\n",
        "\"\"\"No place in my city has shelter space for us, and I won't put my baby on the literal street. What cities have good shelter programs for homeless mothers and children?\"\"\",\n",
        "\"\"\"I just started working a new job after 2 years and I’m worried about messing up. I am not sure about the company will understand my position.\"\"\",\n",
        "\"\"\"The last years of his life were troubled by a new period of storm and stress which called for his highest powers of calculation and self-control.\"\"\",\n",
        "\"\"\"My back hurts, I'm breaking out, I'm constantly crying.. I am so stressed out and there's no help to help me out 😞\"\"\",\n",
        "\"\"\"this advanced stats class really got me dying less than 2 weeks in I’m constantly sweating at the stress of not knowing wtf is happening 😰\"\"\"\n",
        "]"
      ],
      "metadata": {
        "id": "8TMl3lQuWMJj"
      },
      "execution_count": null,
      "outputs": []
    },
    {
      "cell_type": "code",
      "source": [
        "run_pipeline(model, sample_texts)"
      ],
      "metadata": {
        "colab": {
          "base_uri": "https://localhost:8080/"
        },
        "outputId": "144111ba-84ac-4010-ab7b-bd487f7f81af",
        "id": "7btUAFQEWMJj"
      },
      "execution_count": null,
      "outputs": [
        {
          "output_type": "stream",
          "name": "stdout",
          "text": [
            "bert_sequence_classifier_stressor download started this may take some time.\n",
            "[OK!]\n",
            "\n",
            "\n",
            "<----------------- MODEL NAME: \u001b[1mbert_sequence_classifier_stressor\u001b[0m  ----------------- >\n",
            "\n",
            " bert_sequence_classifier_stressor \n",
            "\n",
            "+---------------------------------+----------+----------------------------------------------------------------------------------------------------------------------------------------------------------------------+\n",
            "|prediction                       |confidence|sentence                                                                                                                                                              |\n",
            "+---------------------------------+----------+----------------------------------------------------------------------------------------------------------------------------------------------------------------------+\n",
            "|Family Issues                    |0.61599123|No place in my city has shelter space for us, and I won't put my baby on the literal street. What cities have good shelter programs for homeless mothers and children?|\n",
            "|Work                             |0.97460634|I just started working a new job after 2 years and I’m worried about messing up. I am not sure about the company will understand my position.                         |\n",
            "|Other                            |0.8674048 |The last years of his life were troubled by a new period of storm and stress which called for his highest powers of calculation and self-control.                     |\n",
            "|Health, Fatigue, or Physical Pain|0.963476  |My back hurts, I'm breaking out, I'm constantly crying.. I am so stressed out and there's no help to help me out 😞                                                   |\n",
            "|School                           |0.8955667 |this advanced stats class really got me dying less than 2 weeks in I’m constantly sweating at the stress of not knowing wtf is happening 😰                           |\n",
            "+---------------------------------+----------+----------------------------------------------------------------------------------------------------------------------------------------------------------------------+\n",
            "\n"
          ]
        }
      ]
    },
    {
      "cell_type": "markdown",
      "source": [
        "##bert_sequence_classifier_self_reported_partner_violence_tweet"
      ],
      "metadata": {
        "id": "t2t_kQaAWv32"
      }
    },
    {
      "cell_type": "code",
      "source": [
        "model = \"bert_sequence_classifier_self_reported_partner_violence_tweet\""
      ],
      "metadata": {
        "id": "D6rpFb8ZXAJt"
      },
      "execution_count": 5,
      "outputs": []
    },
    {
      "cell_type": "code",
      "source": [
        "sample_texts = [\n",
        "    \"\"\" It s tempting to think of my abusive relationship as this discrete period of time, blocked off from the rest of my life.   But in reality  I think it s far more that in the 18 years leading up to it  I was being primed for it, and in the 17 years since  I ve been reinsured repeatedly.\"\"\",\n",
        "    \"\"\" After reading through that the end   People will say anything to please the wome world.   Anything at all.  I hear the police invited him over for domestic violence.   If that child goes without a father they d have accomplished their goal right \"\"\",\n",
        "    \"\"\" That twigs article is really hard to read and even harder when  I can relate to so many of her struggles about being in an abusive relationship. but the most heartbreaking part for me is the overwhelming amount of women the story is resonating with.\"\"\",\n",
        "    \"\"\" I absolutely never said that. I did mention it s all about a balanced outlook on the situation.   You need to think about those suffering mental illness, domestic violence, potential job loss etc...but simultaneously it would be heartless to discredit the vulnerable   elderly \"\"\",\n",
        "    \"\"\" Seriously    You are part of the problem.   Remember when  I broke my silence regarding the abusive   Relationship w    Keith   Ellison    You were supportive of abuse, lying to the public, corruption   smears.   This isn t justice.   You are part of the problem \"\"\",\n",
        "    \"\"\" How could  I possibly tell that a male character is a piece of shit if there isn t an incredibly graphic domestic violence sequence   I m clearly the asshole here \"\"\" \n",
        "               ]"
      ],
      "metadata": {
        "id": "I4xCl4C4XIgn"
      },
      "execution_count": 6,
      "outputs": []
    },
    {
      "cell_type": "code",
      "source": [
        "run_pipeline(model, sample_texts)"
      ],
      "metadata": {
        "colab": {
          "base_uri": "https://localhost:8080/"
        },
        "id": "upPGXcqeYC6u",
        "outputId": "ab3e39c7-d221-4b2f-9b8c-de74572e3dbd"
      },
      "execution_count": 7,
      "outputs": [
        {
          "output_type": "stream",
          "name": "stdout",
          "text": [
            "bert_sequence_classifier_self_reported_partner_violence_tweet download started this may take some time.\n",
            "[OK!]\n",
            "\n",
            "\n",
            "<----------------- MODEL NAME: \u001b[1mbert_sequence_classifier_self_reported_partner_violence_tweet\u001b[0m  ----------------- >\n",
            "\n",
            " bert_sequence_classifier_self_reported_partner_violence_tweet \n",
            "\n",
            "+-----------------------------+----------+----------------------------------------------------------------------------------------------------------------------------------------------------------------------------------------------------------------------------------------------------------------------------------------------+\n",
            "|prediction                   |confidence|sentence                                                                                                                                                                                                                                                                                      |\n",
            "+-----------------------------+----------+----------------------------------------------------------------------------------------------------------------------------------------------------------------------------------------------------------------------------------------------------------------------------------------------+\n",
            "|intimate_partner_violence    |0.9999801 | It s tempting to think of my abusive relationship as this discrete period of time, blocked off from the rest of my life.   But in reality  I think it s far more that in the 18 years leading up to it  I was being primed for it, and in the 17 years since  I ve been reinsured repeatedly.|\n",
            "|non-intimate_partner_violence|0.999969  | After reading through that the end   People will say anything to please the wome world.   Anything at all.  I hear the police invited him over for domestic violence.   If that child goes without a father they d have accomplished their goal right                                        |\n",
            "|intimate_partner_violence    |0.9999773 | That twigs article is really hard to read and even harder when  I can relate to so many of her struggles about being in an abusive relationship. but the most heartbreaking part for me is the overwhelming amount of women the story is resonating with.                                    |\n",
            "|non-intimate_partner_violence|0.999969  | I absolutely never said that. I did mention it s all about a balanced outlook on the situation.   You need to think about those suffering mental illness, domestic violence, potential job loss etc...but simultaneously it would be heartless to discredit the vulnerable   elderly         |\n",
            "|intimate_partner_violence    |0.9932504 | Seriously    You are part of the problem.   Remember when  I broke my silence regarding the abusive   Relationship w    Keith   Ellison    You were supportive of abuse, lying to the public, corruption   smears.   This isn t justice.   You are part of the problem                       |\n",
            "|non-intimate_partner_violence|0.99997085| How could  I possibly tell that a male character is a piece of shit if there isn t an incredibly graphic domestic violence sequence   I m clearly the asshole here                                                                                                                           |\n",
            "+-----------------------------+----------+----------------------------------------------------------------------------------------------------------------------------------------------------------------------------------------------------------------------------------------------------------------------------------------------+\n",
            "\n"
          ]
        }
      ]
    },
    {
      "cell_type": "markdown",
      "source": [
        "##bert_sequence_classifier_self_reported_vaccine_status_tweet"
      ],
      "metadata": {
        "id": "J9hsLYqHYwsK"
      }
    },
    {
      "cell_type": "code",
      "source": [
        "model = \"bert_sequence_classifier_self_reported_vaccine_status_tweet\""
      ],
      "metadata": {
        "id": "JB9W3yOZY9ba"
      },
      "execution_count": 8,
      "outputs": []
    },
    {
      "cell_type": "code",
      "source": [
        "sample_texts = [\n",
        "    \"\"\" Perhaps when there s a  COVID 19 vaccine in the coming months  or years , it can help countries like   Pakistan increase national immunization stats if routine immunization is coupled with the virus jab drops.   Should the state, however, make vaccination a mandatory citizenship duty. \"\"\",\n",
        "    \"\"\" Today  I received my second dose of the  COVID 19 vaccine. When it becomes available to you, don t wait   get vaccinated.  It s safe, easy, and it saves lives. \"\"\",\n",
        "    \"\"\" I got my mom scheduled for the   Covid 19 vaccine.  A great relief to me, to be honest. \"\"\",\n",
        "    \"\"\" It feels really exciting to have a personal connection to the province s vaccine numbers.   My step dad s 92 year old mother got her first dose yesterday. \"\"\",\n",
        "    \"\"\" The current oxford vaccine is based off the work they did on the non mild coronavirus forms of  SARS and  MERS.   But since they were contained, the urgency to continue the work was reduced until  COVID 19. \"\"\",\n",
        "    \"\"\" Got the covid vaccine tonight.... so far side effects for me. Super weak  exhausted. Injection site and arm hurts  AF Feel like  I smoked a fat. Other than that... feeling like a million bucks for doing my part. \"\"\"\n",
        "]\n"
      ],
      "metadata": {
        "id": "Kumw6IdVZFh3"
      },
      "execution_count": 9,
      "outputs": []
    },
    {
      "cell_type": "code",
      "source": [
        "run_pipeline(model, sample_texts)"
      ],
      "metadata": {
        "colab": {
          "base_uri": "https://localhost:8080/"
        },
        "id": "EieKze1yaRCt",
        "outputId": "31e0e1e6-69b3-44ac-eff2-ffa14c23fb04"
      },
      "execution_count": 10,
      "outputs": [
        {
          "output_type": "stream",
          "name": "stdout",
          "text": [
            "bert_sequence_classifier_self_reported_vaccine_status_tweet download started this may take some time.\n",
            "[OK!]\n",
            "\n",
            "\n",
            "<----------------- MODEL NAME: \u001b[1mbert_sequence_classifier_self_reported_vaccine_status_tweet\u001b[0m  ----------------- >\n",
            "\n",
            " bert_sequence_classifier_self_reported_vaccine_status_tweet \n",
            "\n",
            "+---------------+----------+-----------------------------------------------------------------------------------------------------------------------------------------------------------------------------------------------------------------------------------------------------------------------------------------------+\n",
            "|prediction     |confidence|sentence                                                                                                                                                                                                                                                                                       |\n",
            "+---------------+----------+-----------------------------------------------------------------------------------------------------------------------------------------------------------------------------------------------------------------------------------------------------------------------------------------------+\n",
            "|Vaccine_chatter|0.99999064| Perhaps when there s a  COVID 19 vaccine in the coming months  or years , it can help countries like   Pakistan increase national immunization stats if routine immunization is coupled with the virus jab drops.   Should the state, however, make vaccination a mandatory citizenship duty. |\n",
            "|Self_reports   |0.99996626| Today  I received my second dose of the  COVID 19 vaccine. When it becomes available to you, don t wait   get vaccinated.  It s safe, easy, and it saves lives.                                                                                                                               |\n",
            "|Vaccine_chatter|0.9997221 | I got my mom scheduled for the   Covid 19 vaccine.  A great relief to me, to be honest.                                                                                                                                                                                                       |\n",
            "|Self_reports   |0.9999778 | It feels really exciting to have a personal connection to the province s vaccine numbers.   My step dad s 92 year old mother got her first dose yesterday.                                                                                                                                    |\n",
            "|Vaccine_chatter|0.9999899 | The current oxford vaccine is based off the work they did on the non mild coronavirus forms of  SARS and  MERS.   But since they were contained, the urgency to continue the work was reduced until  COVID 19.                                                                                |\n",
            "|Self_reports   |0.99882793| Got the covid vaccine tonight.... so far side effects for me. Super weak  exhausted. Injection site and arm hurts  AF Feel like  I smoked a fat. Other than that... feeling like a million bucks for doing my part.                                                                           |\n",
            "+---------------+----------+-----------------------------------------------------------------------------------------------------------------------------------------------------------------------------------------------------------------------------------------------------------------------------------------------+\n",
            "\n"
          ]
        }
      ]
    }
  ],
  "metadata": {
    "colab": {
      "collapsed_sections": [],
      "name": "PUBLIC_HEALTH_MB4SC.ipynb",
      "provenance": [],
      "toc_visible": true
    },
    "kernelspec": {
      "display_name": "Python 3",
      "name": "python3"
    },
    "language_info": {
      "codemirror_mode": {
        "name": "ipython",
        "version": 3
      },
      "file_extension": ".py",
      "mimetype": "text/x-python",
      "name": "python",
      "nbconvert_exporter": "python",
      "pygments_lexer": "ipython3",
      "version": "3.6.10"
    }
  },
  "nbformat": 4,
  "nbformat_minor": 0
}
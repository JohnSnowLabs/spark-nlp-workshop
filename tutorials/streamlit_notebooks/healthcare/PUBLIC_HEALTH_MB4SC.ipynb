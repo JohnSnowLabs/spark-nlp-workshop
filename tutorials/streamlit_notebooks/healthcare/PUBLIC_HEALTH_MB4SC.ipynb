{
  "cells": [
    {
      "cell_type": "markdown",
      "metadata": {
        "id": "lokVHWdvaz-W"
      },
      "source": [
        "![JohnSnowLabs](https://nlp.johnsnowlabs.com/assets/images/logo.png)\n",
        "\n",
        "[![Open In Colab](https://colab.research.google.com/assets/colab-badge.svg)](https://colab.research.google.com/github/JohnSnowLabs/spark-nlp-workshop/blob/master/tutorials/streamlit_notebooks/healthcare/PUBLIC_HEALTH_MB4SC.ipynb)"
      ]
    },
    {
      "cell_type": "markdown",
      "metadata": {
        "id": "Oex6UyiHHpJS"
      },
      "source": [
        "# `Medical Bert For Sequence Classification` for **Public Health Models**"
      ]
    },
    {
      "cell_type": "markdown",
      "metadata": {
        "id": "U-UAcTkUbjzm"
      },
      "source": [
        "# **Colab Setup**"
      ]
    },
    {
      "cell_type": "code",
      "execution_count": null,
      "metadata": {
        "id": "5GlpBHUvcWup"
      },
      "outputs": [],
      "source": [
        "import json\n",
        "import os\n",
        "\n",
        "from google.colab import files\n",
        "\n",
        "license_keys = files.upload()\n",
        "\n",
        "with open(list(license_keys.keys())[0]) as f:\n",
        "    license_keys = json.load(f)\n",
        "\n",
        "# Defining license key-value pairs as local variables\n",
        "locals().update(license_keys)\n",
        "\n",
        "# Adding license key-value pairs to environment variables\n",
        "os.environ.update(license_keys)"
      ]
    },
    {
      "cell_type": "markdown",
      "source": [
        "# **Install dependencies**"
      ],
      "metadata": {
        "id": "j_6oU-alKz3e"
      }
    },
    {
      "cell_type": "code",
      "source": [
        "# Installing pyspark and spark-nlp\n",
        "! pip install --upgrade -q pyspark==3.1.2 spark-nlp==$PUBLIC_VERSION\n",
        "\n",
        "# Installing Spark NLP Healthcare\n",
        "! pip install --upgrade -q spark-nlp-jsl==$JSL_VERSION  --extra-index-url https://pypi.johnsnowlabs.com/$SECRET\n",
        "\n",
        "# Installing Spark NLP Display Library for visualization\n",
        "! pip install -q spark-nlp-display"
      ],
      "metadata": {
        "id": "COP6jvxkKwz5"
      },
      "execution_count": null,
      "outputs": []
    },
    {
      "cell_type": "markdown",
      "source": [
        "# **Import dependencies into Python and start the Spark session**"
      ],
      "metadata": {
        "id": "5lXpEF3cK5xW"
      }
    },
    {
      "cell_type": "code",
      "source": [
        "import json\n",
        "import os\n",
        "\n",
        "import sparknlp\n",
        "import sparknlp_jsl\n",
        "\n",
        "from sparknlp.base import *\n",
        "from sparknlp.util import *\n",
        "from sparknlp.annotator import *\n",
        "from sparknlp_jsl.annotator import *\n",
        "from sparknlp.pretrained import ResourceDownloader\n",
        "\n",
        "from pyspark.sql import SparkSession\n",
        "from pyspark.sql import functions as F\n",
        "from pyspark.sql.types import StringType, IntegerType\n",
        "from pyspark.ml import Pipeline, PipelineModel\n",
        "\n",
        "import pandas as pd\n",
        "pd.set_option('display.max_columns', None)  \n",
        "pd.set_option('display.expand_frame_repr', False)\n",
        "pd.set_option('max_colwidth', None)\n",
        "\n",
        "import string\n",
        "import numpy as np\n",
        "\n",
        "params = {\"spark.driver.memory\":\"16G\",\n",
        "          \"spark.kryoserializer.buffer.max\":\"2000M\",\n",
        "          \"spark.driver.maxResultSize\":\"2000M\"}\n",
        "\n",
        "spark = sparknlp_jsl.start(secret = SECRET, params=params)\n",
        "\n",
        "print (\"Spark NLP Version :\", sparknlp.version())\n",
        "print (\"Spark NLP_JSL Version :\", sparknlp_jsl.version())\n",
        "\n",
        "spark"
      ],
      "metadata": {
        "colab": {
          "base_uri": "https://localhost:8080/",
          "height": 257
        },
        "id": "gY2iy25_K7y_",
        "outputId": "ac217c33-a937-480b-de80-cc4e258909ea"
      },
      "execution_count": null,
      "outputs": [
        {
          "output_type": "stream",
          "name": "stdout",
          "text": [
            "Spark NLP Version : 4.0.2\n",
            "Spark NLP_JSL Version : 4.0.2\n"
          ]
        },
        {
          "output_type": "execute_result",
          "data": {
            "text/plain": [
              "<pyspark.sql.session.SparkSession at 0x7f31e20da490>"
            ],
            "text/html": [
              "\n",
              "            <div>\n",
              "                <p><b>SparkSession - in-memory</b></p>\n",
              "                \n",
              "        <div>\n",
              "            <p><b>SparkContext</b></p>\n",
              "\n",
              "            <p><a href=\"http://a07bb785d3cd:4040\">Spark UI</a></p>\n",
              "\n",
              "            <dl>\n",
              "              <dt>Version</dt>\n",
              "                <dd><code>v3.1.2</code></dd>\n",
              "              <dt>Master</dt>\n",
              "                <dd><code>local[*]</code></dd>\n",
              "              <dt>AppName</dt>\n",
              "                <dd><code>Spark NLP Licensed</code></dd>\n",
              "            </dl>\n",
              "        </div>\n",
              "        \n",
              "            </div>\n",
              "        "
            ]
          },
          "metadata": {},
          "execution_count": 3
        }
      ]
    },
    {
      "cell_type": "markdown",
      "metadata": {
        "id": "ELr5bVqXdDFt"
      },
      "source": [
        "# **General Function for MedicalBertForTokenClassifier Pipeline**\n",
        "\n",
        "\n",
        "\n"
      ]
    },
    {
      "cell_type": "code",
      "source": [
        "def run_pipeline(model, text, lang = 'en'):  \n",
        "  document_assembler = DocumentAssembler() \\\n",
        "    .setInputCol(\"text\") \\\n",
        "    .setOutputCol(\"document\")\n",
        "\n",
        "  tokenizer = Tokenizer() \\\n",
        "    .setInputCols(\"document\") \\\n",
        "    .setOutputCol(\"token\")\n",
        "\n",
        "  sequenceClassifier = MedicalBertForSequenceClassification.pretrained(model, lang, \"clinical/models\")\\\n",
        "    .setInputCols([\"document\",\"token\"])\\\n",
        "    .setOutputCol(\"class\")\n",
        "\n",
        "  pipeline = Pipeline(stages=[\n",
        "    document_assembler, \n",
        "    tokenizer,\n",
        "    sequenceClassifier\n",
        "    ])\n",
        "\n",
        "  df = spark.createDataFrame(text, StringType()).toDF(\"text\")\n",
        "  results = pipeline.fit(df).transform(df)\n",
        "   \n",
        "  print(\"\\n\")\n",
        "  print(\"<----------------- MODEL NAME:\",\"\\033[1m\" + model + \"\\033[0m\",\" ----------------- >\")\n",
        "  \n",
        "  res = results.select(F.explode(F.arrays_zip(\"document.result\", \"class.result\",\"class.metadata\")).alias(\"col\"))\\\n",
        "               .select(F.expr(\"col['1']\").alias(\"prediction\"),\n",
        "                       F.expr(\"col['2']\").alias(\"confidence\"),\n",
        "                       F.expr(\"col['0']\").alias(\"sentence\"))\n",
        "                  \n",
        "  if res.count()>1:\n",
        "    udf_func = F.udf(lambda x,y:  x[\"Some(\"+str(y)+\")\"])\n",
        "    print(\"\\n\",model,\"\\n\") \n",
        "    res.withColumn('confidence', udf_func(res.confidence, res.prediction)).show(truncate=False)"
      ],
      "metadata": {
        "id": "gIUWeolKFjZe"
      },
      "execution_count": null,
      "outputs": []
    },
    {
      "cell_type": "markdown",
      "source": [
        "# **MODELS**"
      ],
      "metadata": {
        "id": "Zzp_f1FcHhr8"
      }
    },
    {
      "cell_type": "markdown",
      "source": [
        "## **bert_sequence_classifier_ade_augmented**"
      ],
      "metadata": {
        "id": "KptA2tsxHkcx"
      }
    },
    {
      "cell_type": "code",
      "source": [
        "model = \"bert_sequence_classifier_ade_augmented\""
      ],
      "metadata": {
        "id": "W8IAYp8oHru5"
      },
      "execution_count": null,
      "outputs": []
    },
    {
      "cell_type": "code",
      "execution_count": null,
      "metadata": {
        "id": "JHleRuSGJqd5"
      },
      "outputs": [],
      "source": [
        "sample_texts = [\n",
        "\"\"\"I'm so fine today. increasing zyprexa,my condisition is became so good. it has a side effect that increase my weight. i must care about it.\"\"\",\n",
        "\"\"\"Actually, also loving it because it is a medicine for bipolar disorder and they named it Latuda.\"\"\",\n",
        "\"\"\"Yeah,it can be caused by swelling from around a nerve from ra,but the effexor causes shaking like ur cold(shivering)\"\"\",\n",
        "\"\"\"Day three of #nonsmoking - 90% of my thoughts revolve around cigs. The nicotine lozenges I have taste like cherry infused with ashtray.\"\"\",\n",
        "\"\"\"I just had a look buddy, and my medication (Seroquel) does affect tolerance to the sun.\"\"\",\n",
        "\"\"\"Many new physicians have been identified and added to the Buprenorphine Certified Physicians and Treatment Providers directory!\"\"\",\n",
        "\"\"\"I started out with lyrica but i could no longer afford it. it made me bloated. tried cymbalta , my heart was beating wicked fast.\"\"\"\n",
        "]"
      ]
    },
    {
      "cell_type": "code",
      "source": [
        "run_pipeline(model, sample_texts)"
      ],
      "metadata": {
        "colab": {
          "base_uri": "https://localhost:8080/"
        },
        "id": "Nv9OWqgbJMSB",
        "outputId": "d0b7f598-1dce-435c-ab14-233268eaeb8a"
      },
      "execution_count": null,
      "outputs": [
        {
          "output_type": "stream",
          "name": "stdout",
          "text": [
            "bert_sequence_classifier_ade_augmented download started this may take some time.\n",
            "[OK!]\n",
            "\n",
            "\n",
            "<----------------- MODEL NAME: \u001b[1mbert_sequence_classifier_ade_augmented\u001b[0m  ----------------- >\n",
            "\n",
            " bert_sequence_classifier_ade_augmented \n",
            "\n",
            "+----------+----------+-------------------------------------------------------------------------------------------------------------------------------------------+\n",
            "|prediction|confidence|sentence                                                                                                                                   |\n",
            "+----------+----------+-------------------------------------------------------------------------------------------------------------------------------------------+\n",
            "|ADE       |0.99947673|I'm so fine today. increasing zyprexa,my condisition is became so good. it has a side effect that increase my weight. i must care about it.|\n",
            "|noADE     |0.99999017|Actually, also loving it because it is a medicine for bipolar disorder and they named it Latuda.                                           |\n",
            "|ADE       |0.99976945|Yeah,it can be caused by swelling from around a nerve from ra,but the effexor causes shaking like ur cold(shivering)                       |\n",
            "|noADE     |0.99998194|Day three of #nonsmoking - 90% of my thoughts revolve around cigs. The nicotine lozenges I have taste like cherry infused with ashtray.    |\n",
            "|ADE       |0.999016  |I just had a look buddy, and my medication (Seroquel) does affect tolerance to the sun.                                                    |\n",
            "|noADE     |0.9999899 |Many new physicians have been identified and added to the Buprenorphine Certified Physicians and Treatment Providers directory!            |\n",
            "|ADE       |0.9999849 |I started out with lyrica but i could no longer afford it. it made me bloated. tried cymbalta , my heart was beating wicked fast.          |\n",
            "+----------+----------+-------------------------------------------------------------------------------------------------------------------------------------------+\n",
            "\n"
          ]
        }
      ]
    },
    {
      "cell_type": "markdown",
      "source": [
        "## **bert_sequence_classifier_self_reported_age_tweet**"
      ],
      "metadata": {
        "id": "taaK6AJ6myFW"
      }
    },
    {
      "cell_type": "code",
      "source": [
        "model = \"bert_sequence_classifier_self_reported_age_tweet\""
      ],
      "metadata": {
        "id": "Cr2eBf1Rm9RM"
      },
      "execution_count": null,
      "outputs": []
    },
    {
      "cell_type": "code",
      "source": [
        "sample_texts = [\n",
        "\"\"\"Who knew I would spend my Saturday mornings at 21 still watching Disney channel\"\"\",\n",
        "\"\"\"My girl, Fancy, just turned 17. She’s getting up there, but she still has the energy of a puppy\"\"\",\n",
        "\"\"\"You are my hero! I am 18 years old and have an 8 month old daughter! You and mckayla are so awesome! You and mckayla are such an inspiration to me! I have been watching mckayla since her first video announcing she was pregnant! I love you guys so much!\"\"\",\n",
        "\"\"\"Karla, from Flushing visits the office of RepGraceMeng and stresses for a change in the age of entry requirement from 16 years old to 18 years old — \"At 16 we are considered a minor and should still be protected\" \"\"\",\n",
        "\"\"\"Happy new year!  May you continue to be blessed and I was going to tell you on December 24 shout me out for my birthday but I party so hard and didn't realize turning 46 you have to workout before partying. Was to sore to text.\"\"\",\n",
        "\"\"\"His name is Kostata age 68. He's the son of Chief Eneas, grandson of Chief Bapsiste, who signed the treaty of Hell Gate, 1855, btwn U.S. and the Allied Tribes of the Flashead Reservation.\"\"\",\n",
        "]"
      ],
      "metadata": {
        "id": "9uz18b_Zm9Oz"
      },
      "execution_count": null,
      "outputs": []
    },
    {
      "cell_type": "code",
      "source": [
        "run_pipeline(model, sample_texts)"
      ],
      "metadata": {
        "id": "mdiSHcL1m9Mr",
        "outputId": "b8b24aef-0214-4df6-e9c3-60c610895c3b",
        "colab": {
          "base_uri": "https://localhost:8080/"
        }
      },
      "execution_count": null,
      "outputs": [
        {
          "output_type": "stream",
          "name": "stdout",
          "text": [
            "bert_sequence_classifier_self_reported_age_tweet download started this may take some time.\n",
            "[OK!]\n",
            "\n",
            "\n",
            "<----------------- MODEL NAME: \u001b[1mbert_sequence_classifier_self_reported_age_tweet\u001b[0m  ----------------- >\n",
            "\n",
            " bert_sequence_classifier_self_reported_age_tweet \n",
            "\n",
            "+---------------+----------+------------------------------------------------------------------------------------------------------------------------------------------------------------------------------------------------------------------------------------------------------------+\n",
            "|prediction     |confidence|sentence                                                                                                                                                                                                                                                    |\n",
            "+---------------+----------+------------------------------------------------------------------------------------------------------------------------------------------------------------------------------------------------------------------------------------------------------------+\n",
            "|self_report_age|0.99997234|Who knew I would spend my Saturday mornings at 21 still watching Disney channel                                                                                                                                                                             |\n",
            "|no_report      |0.9999877 |My girl, Fancy, just turned 17. She’s getting up there, but she still has the energy of a puppy                                                                                                                                                             |\n",
            "|self_report_age|0.99996054|You are my hero! I am 18 years old and have an 8 month old daughter! You and mckayla are so awesome! You and mckayla are such an inspiration to me! I have been watching mckayla since her first video announcing she was pregnant! I love you guys so much!|\n",
            "|no_report      |0.9999854 |Karla, from Flushing visits the office of RepGraceMeng and stresses for a change in the age of entry requirement from 16 years old to 18 years old — \"At 16 we are considered a minor and should still be protected\"                                        |\n",
            "|self_report_age|0.9999588 |Happy new year!  May you continue to be blessed and I was going to tell you on December 24 shout me out for my birthday but I party so hard and didn't realize turning 46 you have to workout before partying. Was to sore to text.                         |\n",
            "|no_report      |0.9999817 |His name is Kostata age 68. He's the son of Chief Eneas, grandson of Chief Bapsiste, who signed the treaty of Hell Gate, 1855, btwn U.S. and the Allied Tribes of the Flashead Reservation.                                                                 |\n",
            "+---------------+----------+------------------------------------------------------------------------------------------------------------------------------------------------------------------------------------------------------------------------------------------------------------+\n",
            "\n"
          ]
        }
      ]
    },
    {
      "cell_type": "markdown",
      "source": [
        "## **bert_sequence_classifier_exact_age_reddit**"
      ],
      "metadata": {
        "id": "Z7DY6UBZm2ph"
      }
    },
    {
      "cell_type": "code",
      "source": [
        "model = \"bert_sequence_classifier_exact_age_reddit\""
      ],
      "metadata": {
        "id": "kTJM1PxCm-Qp"
      },
      "execution_count": null,
      "outputs": []
    },
    {
      "cell_type": "code",
      "source": [
        "sample_texts = [\n",
        "\"\"\"I recently learned that Soerens is a progressive systemic disease. I now walk with a cane and occasionally rent a wheelchair for trips to places like Disney. I'm 41 and have slowly been getting worse due to autonomic nervous system issues because of Soerens. I had to fire my original rheumatologist and find someone more familiar with the disease to learn more about it.\"\"\",\n",
        "\"\"\"Well we know autoimmunes are a bit of a sliding scale and everyone with Sjogrens has a slightly different set of symptoms. I was diagnosed over 10 years ago and apart from slow saliva production I'm still healthy and relatively symptom free. So yes, it seems odd but maybe it's possible for someone to technically be diagnosed but have no noticeable symptoms?\"\"\",\n",
        "\"\"\"Man. That's so scary and must've been so incredibly difficult not getting answers for so long. I'm happy that you finally got your results and began treatment. I'm only 18 and the aches and constant irritation is almost unbearable. I'm genuinely terrified to wait years like this.\"\"\",\n",
        "\"\"\"I had usable vision immediately after the transplant. Before leaving the hospital, my opthalmogist came to check my eye pressure. The pressure increased during surgery. When he removed the gauze covering, I noticed a HUGE improvement in my vision in the right eye. Even with 18 stitches in my eye. \"\"\",\n",
        "\"\"\"You need to go to a real dry eye specialist who has a Lipiview machine, who does an inflammadry test, and who offers lipiflow/IPL. These things are how you can identify a specialist. Take it from a 22 year old that has seen over 10 doctors in two years.\"\"\",\n",
        "\"\"\"I'm from Canada and have worked in optical for 10 years before Optometry school. I know the laws and I can assure you, PD is still not a part of the Rx. She gave it to you for free even though it is a chargeable service.\"\"\",\n",
        "]"
      ],
      "metadata": {
        "id": "cYqI-BKkm-N1"
      },
      "execution_count": null,
      "outputs": []
    },
    {
      "cell_type": "code",
      "source": [
        "run_pipeline(model, sample_texts)"
      ],
      "metadata": {
        "id": "06belUGBm-Jq",
        "outputId": "ff190f09-12fd-426e-f82b-9ac0f09d79a9",
        "colab": {
          "base_uri": "https://localhost:8080/"
        }
      },
      "execution_count": null,
      "outputs": [
        {
          "output_type": "stream",
          "name": "stdout",
          "text": [
            "bert_sequence_classifier_exact_age_reddit download started this may take some time.\n",
            "[OK!]\n",
            "\n",
            "\n",
            "<----------------- MODEL NAME: \u001b[1mbert_sequence_classifier_exact_age_reddit\u001b[0m  ----------------- >\n",
            "\n",
            " bert_sequence_classifier_exact_age_reddit \n",
            "\n",
            "+---------------+----------+-----------------------------------------------------------------------------------------------------------------------------------------------------------------------------------------------------------------------------------------------------------------------------------------------------------------------------------------------------------------------------------+\n",
            "|prediction     |confidence|sentence                                                                                                                                                                                                                                                                                                                                                                           |\n",
            "+---------------+----------+-----------------------------------------------------------------------------------------------------------------------------------------------------------------------------------------------------------------------------------------------------------------------------------------------------------------------------------------------------------------------------------+\n",
            "|self_report_age|0.9999777 |I recently learned that Soerens is a progressive systemic disease. I now walk with a cane and occasionally rent a wheelchair for trips to places like Disney. I'm 41 and have slowly been getting worse due to autonomic nervous system issues because of Soerens. I had to fire my original rheumatologist and find someone more familiar with the disease to learn more about it.|\n",
            "|no_report      |0.9999932 |Well we know autoimmunes are a bit of a sliding scale and everyone with Sjogrens has a slightly different set of symptoms. I was diagnosed over 10 years ago and apart from slow saliva production I'm still healthy and relatively symptom free. So yes, it seems odd but maybe it's possible for someone to technically be diagnosed but have no noticeable symptoms?            |\n",
            "|self_report_age|0.9999708 |Man. That's so scary and must've been so incredibly difficult not getting answers for so long. I'm happy that you finally got your results and began treatment. I'm only 18 and the aches and constant irritation is almost unbearable. I'm genuinely terrified to wait years like this.                                                                                           |\n",
            "|no_report      |0.9999862 |I had usable vision immediately after the transplant. Before leaving the hospital, my opthalmogist came to check my eye pressure. The pressure increased during surgery. When he removed the gauze covering, I noticed a HUGE improvement in my vision in the right eye. Even with 18 stitches in my eye.                                                                          |\n",
            "|self_report_age|0.99998325|You need to go to a real dry eye specialist who has a Lipiview machine, who does an inflammadry test, and who offers lipiflow/IPL. These things are how you can identify a specialist. Take it from a 22 year old that has seen over 10 doctors in two years.                                                                                                                      |\n",
            "|no_report      |0.99999404|I'm from Canada and have worked in optical for 10 years before Optometry school. I know the laws and I can assure you, PD is still not a part of the Rx. She gave it to you for free even though it is a chargeable service.                                                                                                                                                       |\n",
            "+---------------+----------+-----------------------------------------------------------------------------------------------------------------------------------------------------------------------------------------------------------------------------------------------------------------------------------------------------------------------------------------------------------------------------------+\n",
            "\n"
          ]
        }
      ]
    },
    {
      "cell_type": "markdown",
      "source": [
        "## **bert_sequence_classifier_self_reported_symptoms_tweet**\n"
      ],
      "metadata": {
        "id": "iOKpDZ_LoXXY"
      }
    },
    {
      "cell_type": "code",
      "source": [
        "model = \"bert_sequence_classifier_self_reported_symptoms_tweet\" "
      ],
      "metadata": {
        "id": "3CU11Dd5m-G4"
      },
      "execution_count": null,
      "outputs": []
    },
    {
      "cell_type": "code",
      "source": [
        "sample_texts = [\n",
        "\"\"\"Las vacunas 3 y hablamos inminidad vivo  Son bichito vivo dentro de lÃ­quido de la vacuna suelen tener reacciones alÃorgicas si que sepan.\"\"\",\n",
        "\"\"\"Yo pense que me estaba dando el  coronavirus porque cuando me levante  casi no podia respirar pero que si era que tenia la nariz topada de mocos.\"\"\",\n",
        "\"\"\"Tos, dolor de garganta y fiebre, los síntomas más reportados por los porteños con coronavirus.\"\"\",\n",
        "\"\"\"Los pacientes y contactos asintomáticos pueden hacerse lavados nasales con hipoclorito de sodio o gárgaras de sal, de acuerdo a los galenos.\"\"\",\n",
        "\"\"\"Enseguida empiezo a meterle por la cabeza con un ladrillo al que me diga que tengo coronavirus por estar con mocos\"\"\",\n",
        "\"\"\"Las Jordan de Aliexpress no producen efectos secundarios, no son hipotéticamente capaces de dejarme estéril, causarme muerte súbita, parálisis, mielitis transversa irreversible o daños neurológicos. Creo que existe una gran diferencia. Digo yo, no sé\"\"\"\n",
        "]"
      ],
      "metadata": {
        "id": "zWpZMcDXocX5"
      },
      "execution_count": null,
      "outputs": []
    },
    {
      "cell_type": "code",
      "source": [
        "run_pipeline(model, sample_texts, lang = 'es')"
      ],
      "metadata": {
        "colab": {
          "base_uri": "https://localhost:8080/"
        },
        "id": "iTXqXRaXojAa",
        "outputId": "40d77c00-099f-405b-db82-5f40fc1da84a"
      },
      "execution_count": null,
      "outputs": [
        {
          "output_type": "stream",
          "name": "stdout",
          "text": [
            "bert_sequence_classifier_self_reported_symptoms_tweet download started this may take some time.\n",
            "[OK!]\n",
            "\n",
            "\n",
            "<----------------- MODEL NAME: \u001b[1mbert_sequence_classifier_self_reported_symptoms_tweet\u001b[0m  ----------------- >\n",
            "\n",
            " bert_sequence_classifier_self_reported_symptoms_tweet \n",
            "\n",
            "+--------------------+----------+----------------------------------------------------------------------------------------------------------------------------------------------------------------------------------------------------------------------------------------------------------+\n",
            "|prediction          |confidence|sentence                                                                                                                                                                                                                                                  |\n",
            "+--------------------+----------+----------------------------------------------------------------------------------------------------------------------------------------------------------------------------------------------------------------------------------------------------------+\n",
            "|non-personal_reports|0.99919873|Las vacunas 3 y hablamos inminidad vivo  Son bichito vivo dentro de lÃ­quido de la vacuna suelen tener reacciones alÃorgicas si que sepan.                                                                                                                |\n",
            "|Self_reports        |0.99977714|Yo pense que me estaba dando el  coronavirus porque cuando me levante  casi no podia respirar pero que si era que tenia la nariz topada de mocos.                                                                                                         |\n",
            "|Lit-News_mentions   |0.9999527 |Tos, dolor de garganta y fiebre, los síntomas más reportados por los porteños con coronavirus.                                                                                                                                                            |\n",
            "|Lit-News_mentions   |0.9999533 |Los pacientes y contactos asintomáticos pueden hacerse lavados nasales con hipoclorito de sodio o gárgaras de sal, de acuerdo a los galenos.                                                                                                              |\n",
            "|Self_reports        |0.9999068 |Enseguida empiezo a meterle por la cabeza con un ladrillo al que me diga que tengo coronavirus por estar con mocos                                                                                                                                        |\n",
            "|non-personal_reports|0.99991506|Las Jordan de Aliexpress no producen efectos secundarios, no son hipotéticamente capaces de dejarme estéril, causarme muerte súbita, parálisis, mielitis transversa irreversible o daños neurológicos. Creo que existe una gran diferencia. Digo yo, no sé|\n",
            "+--------------------+----------+----------------------------------------------------------------------------------------------------------------------------------------------------------------------------------------------------------------------------------------------------------+\n",
            "\n"
          ]
        }
      ]
    },
    {
      "cell_type": "markdown",
      "source": [
        "## **bert_sequence_classifier_health_mandates_stance_tweet**"
      ],
      "metadata": {
        "id": "StvtS9W3pHWv"
      }
    },
    {
      "cell_type": "code",
      "source": [
        "model = \"bert_sequence_classifier_health_mandates_stance_tweet\""
      ],
      "metadata": {
        "id": "iGU1oyUxolCi"
      },
      "execution_count": null,
      "outputs": []
    },
    {
      "cell_type": "code",
      "source": [
        "sample_texts = [\n",
        "\"\"\"It's too dangerous to hold the RNC, but let's send students and teachers back to school.\"\"\",\n",
        "\"\"\"So is the flu and pneumonia what are their s stop the Media Manipulation covid has treatments Youre Speaker Pelosi nephew so stop the agenda LIES.\"\"\",\n",
        "\"\"\"Just a quick update to my U.S. followers, I'll be making a stop in all 50 states this spring!  No tickets needed, just don't wash your hands, cough on each other.\"\"\",\n",
        "\"\"\"Go to a restaurant no mask Do a food shop wear a mask INCONSISTENT No Masks No Masks.\"\"\",\n",
        "\"\"\"But if schools close who is gonna occupy those graves Cause politiciansprotected smokers protected drunkardsprotected school kids amp teachers\"\"\",\n",
        "\"\"\"New title Maskhole I think Im going to use this very soon coronavirus.\"\"\"\n",
        "]"
      ],
      "metadata": {
        "id": "3-5k-buspVo6"
      },
      "execution_count": null,
      "outputs": []
    },
    {
      "cell_type": "code",
      "source": [
        "run_pipeline(model, sample_texts)"
      ],
      "metadata": {
        "colab": {
          "base_uri": "https://localhost:8080/"
        },
        "id": "TMnCwMCMpXzf",
        "outputId": "9b578fb4-fbff-4fab-d34f-af71ba55edfa"
      },
      "execution_count": null,
      "outputs": [
        {
          "output_type": "stream",
          "name": "stdout",
          "text": [
            "bert_sequence_classifier_health_mandates_stance_tweet download started this may take some time.\n",
            "[OK!]\n",
            "\n",
            "\n",
            "<----------------- MODEL NAME: \u001b[1mbert_sequence_classifier_health_mandates_stance_tweet\u001b[0m  ----------------- >\n",
            "\n",
            " bert_sequence_classifier_health_mandates_stance_tweet \n",
            "\n",
            "+----------+----------+------------------------------------------------------------------------------------------------------------------------------------------------------------------+\n",
            "|prediction|confidence|sentence                                                                                                                                                          |\n",
            "+----------+----------+------------------------------------------------------------------------------------------------------------------------------------------------------------------+\n",
            "|FAVOR     |0.99996823|It's too dangerous to hold the RNC, but let's send students and teachers back to school.                                                                          |\n",
            "|AGAINST   |0.99994653|So is the flu and pneumonia what are their s stop the Media Manipulation covid has treatments Youre Speaker Pelosi nephew so stop the agenda LIES.                |\n",
            "|NONE      |0.99993134|Just a quick update to my U.S. followers, I'll be making a stop in all 50 states this spring!  No tickets needed, just don't wash your hands, cough on each other.|\n",
            "|AGAINST   |0.99994534|Go to a restaurant no mask Do a food shop wear a mask INCONSISTENT No Masks No Masks.                                                                             |\n",
            "|FAVOR     |0.99997336|But if schools close who is gonna occupy those graves Cause politiciansprotected smokers protected drunkardsprotected school kids amp teachers                    |\n",
            "|NONE      |0.9999646 |New title Maskhole I think Im going to use this very soon coronavirus.                                                                                            |\n",
            "+----------+----------+------------------------------------------------------------------------------------------------------------------------------------------------------------------+\n",
            "\n"
          ]
        }
      ]
    },
    {
      "cell_type": "markdown",
      "source": [
        "## **bert_sequence_classifier_health_mandates_premise_tweet**\n"
      ],
      "metadata": {
        "id": "_u0x9VNfpbT9"
      }
    },
    {
      "cell_type": "code",
      "source": [
        "model = \"bert_sequence_classifier_health_mandates_premise_tweet\""
      ],
      "metadata": {
        "id": "NI86TD_HpZzX"
      },
      "execution_count": null,
      "outputs": []
    },
    {
      "cell_type": "code",
      "source": [
        "sample_texts = [\n",
        "\"\"\"It's too dangerous to hold the RNC, but let's send students and teachers back to school.\"\"\",\n",
        "\"\"\"So is the flu and pneumonia what are their s stop the Media Manipulation covid has treatments Youre Speaker Pelosi nephew so stop the agenda LIES.\"\"\",\n",
        "\"\"\"Just a quick update to my U.S. followers, I'll be making a stop in all 50 states this spring!  No tickets needed, just don't wash your hands, cough on each other.\"\"\",\n",
        "\"\"\"Go to a restaurant no mask Do a food shop wear a mask INCONSISTENT No Masks No Masks.\"\"\",\n",
        "\"\"\"But if schools close who is gonna occupy those graves Cause politiciansprotected smokers protected drunkardsprotected school kids amp teachers\"\"\",\n",
        "\"\"\"New title Maskhole I think Im going to use this very soon coronavirus.\"\"\"\n",
        "]"
      ],
      "metadata": {
        "id": "CqD3Ak2dpvzf"
      },
      "execution_count": null,
      "outputs": []
    },
    {
      "cell_type": "code",
      "source": [
        "run_pipeline(model, sample_texts)"
      ],
      "metadata": {
        "colab": {
          "base_uri": "https://localhost:8080/"
        },
        "id": "33OojpQHpvrt",
        "outputId": "caa794e9-07d5-4cef-c12c-a348efbfda25"
      },
      "execution_count": null,
      "outputs": [
        {
          "output_type": "stream",
          "name": "stdout",
          "text": [
            "bert_sequence_classifier_health_mandates_premise_tweet download started this may take some time.\n",
            "[OK!]\n",
            "\n",
            "\n",
            "<----------------- MODEL NAME: \u001b[1mbert_sequence_classifier_health_mandates_premise_tweet\u001b[0m  ----------------- >\n",
            "\n",
            " bert_sequence_classifier_health_mandates_premise_tweet \n",
            "\n",
            "+--------------+----------+------------------------------------------------------------------------------------------------------------------------------------------------------------------+\n",
            "|prediction    |confidence|sentence                                                                                                                                                          |\n",
            "+--------------+----------+------------------------------------------------------------------------------------------------------------------------------------------------------------------+\n",
            "|has_premise   |0.9987241 |It's too dangerous to hold the RNC, but let's send students and teachers back to school.                                                                          |\n",
            "|has_premise   |0.9999632 |So is the flu and pneumonia what are their s stop the Media Manipulation covid has treatments Youre Speaker Pelosi nephew so stop the agenda LIES.                |\n",
            "|has_no_premise|0.999975  |Just a quick update to my U.S. followers, I'll be making a stop in all 50 states this spring!  No tickets needed, just don't wash your hands, cough on each other.|\n",
            "|has_no_premise|0.9999777 |Go to a restaurant no mask Do a food shop wear a mask INCONSISTENT No Masks No Masks.                                                                             |\n",
            "|has_premise   |0.99995315|But if schools close who is gonna occupy those graves Cause politiciansprotected smokers protected drunkardsprotected school kids amp teachers                    |\n",
            "|has_no_premise|0.99998003|New title Maskhole I think Im going to use this very soon coronavirus.                                                                                            |\n",
            "+--------------+----------+------------------------------------------------------------------------------------------------------------------------------------------------------------------+\n",
            "\n"
          ]
        }
      ]
    }
  ],
  "metadata": {
    "colab": {
      "collapsed_sections": [],
      "name": "PUBLIC_HEALTH_MB4SC(1).ipynb",
      "provenance": [],
      "toc_visible": true
    },
    "kernelspec": {
      "display_name": "Python 3",
      "name": "python3"
    },
    "language_info": {
      "codemirror_mode": {
        "name": "ipython",
        "version": 3
      },
      "file_extension": ".py",
      "mimetype": "text/x-python",
      "name": "python",
      "nbconvert_exporter": "python",
      "pygments_lexer": "ipython3",
      "version": "3.6.10"
    }
  },
  "nbformat": 4,
  "nbformat_minor": 0
}
{
  "nbformat": 4,
  "nbformat_minor": 0,
  "metadata": {
    "colab": {
      "name": "GRAMMAR_EN.ipynb",
      "provenance": [],
      "collapsed_sections": []
    },
    "kernelspec": {
      "name": "python3",
      "display_name": "Python 3"
    }
  },
  "cells": [
    {
      "cell_type": "markdown",
      "metadata": {
        "id": "hb-VyZjNYsNu",
        "colab_type": "text"
      },
      "source": [
        "\n",
        "\n",
        "![JohnSnowLabs](https://nlp.johnsnowlabs.com/assets/images/logo.png)\n",
        "\n",
        "[![Open In Colab](https://colab.research.google.com/assets/colab-badge.svg)](https://colab.research.google.com/github/JohnSnowLabs/spark-nlp-workshop/blob/master/tutorials/streamlit_notebooks/GRAMMAR_EN.ipynb)\n"
      ]
    },
    {
      "cell_type": "markdown",
      "metadata": {
        "id": "syePZ-1gYyj3",
        "colab_type": "text"
      },
      "source": [
        "# **Extract Part of speech tags and perform dependency parsing on a text**"
      ]
    },
    {
      "cell_type": "markdown",
      "metadata": {
        "id": "wDJCr8UTZAqg",
        "colab_type": "text"
      },
      "source": [
        "## 0. Colab Setup"
      ]
    },
    {
      "cell_type": "code",
      "metadata": {
        "id": "w6o8-g0tEqNz",
        "colab_type": "code",
        "colab": {}
      },
      "source": [
        "!sudo apt-get install openjdk-8-jdk\n",
        "!java -version\n",
        "!pip install --ignore-installed -q pyspark==2.4.4\n",
        "!pip install spark-nlp"
      ],
      "execution_count": null,
      "outputs": []
    },
    {
      "cell_type": "code",
      "metadata": {
        "id": "yMmT9S6mE0ad",
        "colab_type": "code",
        "colab": {}
      },
      "source": [
        "import pandas as pd\n",
        "import numpy as np\n",
        "import os\n",
        "os.environ[\"JAVA_HOME\"] = \"/usr/lib/jvm/java-8-openjdk-amd64\"\n",
        "import json\n",
        "from sklearn.model_selection import train_test_split\n",
        "from sklearn.metrics import classification_report, accuracy_score\n",
        "from pyspark.ml import Pipeline\n",
        "from pyspark.sql import SparkSession\n",
        "import pyspark.sql.functions as F\n",
        "from sparknlp.annotator import *\n",
        "from sparknlp.base import *\n",
        "import sparknlp\n",
        "from sparknlp.pretrained import PretrainedPipeline\n",
        "#import svgwrite"
      ],
      "execution_count": null,
      "outputs": []
    },
    {
      "cell_type": "markdown",
      "metadata": {
        "id": "f0fyw4cTZDMp",
        "colab_type": "text"
      },
      "source": [
        "## 1. Start Spark Session"
      ]
    },
    {
      "cell_type": "code",
      "metadata": {
        "id": "4zBXbY_vE2ss",
        "colab_type": "code",
        "colab": {}
      },
      "source": [
        "spark = sparknlp.start()"
      ],
      "execution_count": null,
      "outputs": []
    },
    {
      "cell_type": "markdown",
      "metadata": {
        "id": "ODFvrTAgZGGw",
        "colab_type": "text"
      },
      "source": [
        "## 2. Select the DL model"
      ]
    },
    {
      "cell_type": "code",
      "metadata": {
        "id": "1XxHWemdE5hX",
        "colab_type": "code",
        "colab": {}
      },
      "source": [
        "\n",
        "MODEL_NAME='dependency_typed_conllu'"
      ],
      "execution_count": null,
      "outputs": []
    },
    {
      "cell_type": "markdown",
      "metadata": {
        "id": "s-HM1On1ZJ4L",
        "colab_type": "text"
      },
      "source": [
        "## 3. Some sample examples"
      ]
    },
    {
      "cell_type": "code",
      "metadata": {
        "id": "GJ7GCD0pFDvP",
        "colab_type": "code",
        "colab": {}
      },
      "source": [
        "## Generating Example Files ##\n",
        "text_list = [\n",
        "             \"\"\"John Snow is a good man. He knows a lot about science.\"\"\",\n",
        "             \"\"\"In what country is the WTO headquartered?\"\"\",\n",
        "             \"\"\"I was wearing my dark blue shirt and tie.\"\"\",\n",
        "             \"\"\"The Geneva Motor Show is the most popular car show of the year.\"\"\",\n",
        "             \"\"\"Bill Gates and Steve Jobs had periods of civility.\"\"\",\n",
        "]\n"
      ],
      "execution_count": null,
      "outputs": []
    },
    {
      "cell_type": "markdown",
      "metadata": {
        "id": "b_FMM_GLZMjX",
        "colab_type": "text"
      },
      "source": [
        "## 4. Define Spark NLP pipeline"
      ]
    },
    {
      "cell_type": "code",
      "metadata": {
        "id": "IiYxv0mOFIcX",
        "colab_type": "code",
        "colab": {}
      },
      "source": [
        "documentAssembler = DocumentAssembler()\\\n",
        "    .setInputCol(\"text\")\\\n",
        "    .setOutputCol(\"document\")\n",
        "\n",
        "tokenizer = Tokenizer() \\\n",
        "    .setInputCols([\"document\"]) \\\n",
        "    .setOutputCol(\"token\")\n",
        "\n",
        "pos = PerceptronModel.pretrained(\"pos_anc\", 'en')\\\n",
        "        .setInputCols(\"document\", \"token\")\\\n",
        "        .setOutputCol(\"pos\")\n",
        "\n",
        "dep_parser = DependencyParserModel.pretrained('dependency_conllu')\\\n",
        "        .setInputCols([\"document\", \"pos\", \"token\"])\\\n",
        "        .setOutputCol(\"dependency\")\n",
        "\n",
        "\n",
        "typed_dep_parser = TypedDependencyParserModel.pretrained('dependency_typed_conllu')\\\n",
        "        .setInputCols([\"token\", \"pos\", \"dependency\"])\\\n",
        "        .setOutputCol(\"dependency_type\")\n",
        "\n",
        "\n",
        "nlpPipeline = Pipeline(\n",
        "      stages = [\n",
        "          documentAssembler,\n",
        "          tokenizer,\n",
        "          pos,\n",
        "          chunker,\n",
        "          dep_parser,\n",
        "          typed_dep_parser\n",
        "      ])\n",
        "\n"
      ],
      "execution_count": null,
      "outputs": []
    },
    {
      "cell_type": "markdown",
      "metadata": {
        "id": "2zMXh_skZPvR",
        "colab_type": "text"
      },
      "source": [
        "## 5. Select the example to test"
      ]
    },
    {
      "cell_type": "code",
      "metadata": {
        "id": "gQmz-XHWZX1N",
        "colab_type": "code",
        "colab": {}
      },
      "source": [
        "index=0"
      ],
      "execution_count": null,
      "outputs": []
    },
    {
      "cell_type": "markdown",
      "metadata": {
        "id": "9ipT3X2sZeBq",
        "colab_type": "text"
      },
      "source": [
        "## 6. Run the pipeline on selected example"
      ]
    },
    {
      "cell_type": "code",
      "metadata": {
        "id": "7O34pc7d27-j",
        "colab_type": "code",
        "colab": {}
      },
      "source": [
        "empty_df = spark.createDataFrame([['']]).toDF(\"text\")\n",
        "pipelineModel = nlpPipeline.fit(empty_df)\n",
        "\n",
        "df = spark.createDataFrame(pd.DataFrame({\"text\":[text_list[index]]}))\n",
        "result = pipelineModel.transform(df)\n"
      ],
      "execution_count": null,
      "outputs": []
    },
    {
      "cell_type": "markdown",
      "metadata": {
        "id": "tBr9mBDXZUTX",
        "colab_type": "text"
      },
      "source": [
        "## 7. Visualize results"
      ]
    },
    {
      "cell_type": "code",
      "metadata": {
        "id": "TzJSQhTnFix5",
        "colab_type": "code",
        "colab": {}
      },
      "source": [
        "\n",
        "result.select(F.explode(F.arrays_zip('token.result',\n",
        "                                     'token.begin',\n",
        "                                     'token.end', \n",
        "                                     'pos.result', \n",
        "                                     'dependency.result', \n",
        "                                                  'dependency.metadata',\n",
        "                                                  'dependency_type.result')).alias(\"cols\"))\\\n",
        "                                                  .select(F.expr(\"cols['0']\").alias(\"chunk\"),\n",
        "                                                          F.expr(\"cols['1']\").alias(\"begin\"),\n",
        "                                                          F.expr(\"cols['2']\").alias(\"end\"),\n",
        "                                                          F.expr(\"cols['3']\").alias(\"pos\"),\n",
        "                                                          F.expr(\"cols['4']\").alias(\"dependency\"),\n",
        "                                                          F.expr(\"cols['5']\").alias(\"dependency_start\"),\n",
        "                                                          F.expr(\"cols['6']\").alias(\"dependency_type\")).toPandas()\n"
      ],
      "execution_count": null,
      "outputs": []
    }
  ]
}
{
  "nbformat": 4,
  "nbformat_minor": 0,
  "metadata": {
    "colab": {
      "name": "CLASSIFICATION_TR_NEWS.ipynb",
      "provenance": [],
      "toc_visible": true
    },
    "kernelspec": {
      "name": "python3",
      "display_name": "Python 3"
    },
    "language_info": {
      "name": "python"
    }
  },
  "cells": [
    {
      "cell_type": "markdown",
      "metadata": {
        "id": "vas1PNJwZp2U"
      },
      "source": [
        "\n",
        "\n",
        "![JohnSnowLabs](https://nlp.johnsnowlabs.com/assets/images/logo.png)\n",
        "\n",
        "[![Open In Colab](https://colab.research.google.com/assets/colab-badge.svg)](https://githubtocolab.com/JohnSnowLabs/spark-nlp-workshop/blob/master/tutorials/streamlit_notebooks/CLASSIFICATION_TR_NEWS.ipynb)\n",
        "\n",
        "\n"
      ]
    },
    {
      "cell_type": "markdown",
      "metadata": {
        "id": "E2lonApkZwJP"
      },
      "source": [
        "# **Classify Turkish News**"
      ]
    },
    {
      "cell_type": "markdown",
      "metadata": {
        "id": "kMURhBz4ZwM6"
      },
      "source": [
        "## 1. Colab Setup"
      ]
    },
    {
      "cell_type": "code",
      "metadata": {
        "id": "qyYMEtv59sox"
      },
      "source": [
        "# Install PySpark and Spark NLP\n",
        "! pip install -q pyspark==3.1.2 spark-nlp"
      ],
      "execution_count": null,
      "outputs": []
    },
    {
      "cell_type": "code",
      "metadata": {
        "id": "b_zcj8Y89zxI"
      },
      "source": [
        "import pandas as pd\n",
        "import numpy as np\n",
        "import json\n",
        "from pyspark.ml import Pipeline\n",
        "from pyspark.sql import SparkSession\n",
        "import pyspark.sql.functions as F\n",
        "from sparknlp.annotator import *\n",
        "from sparknlp.base import *\n",
        "import sparknlp\n",
        "from sparknlp.pretrained import PretrainedPipeline"
      ],
      "execution_count": 2,
      "outputs": []
    },
    {
      "cell_type": "markdown",
      "metadata": {
        "id": "PKf4YBDBZ9x7"
      },
      "source": [
        "## 2. Start Spark Session"
      ]
    },
    {
      "cell_type": "code",
      "metadata": {
        "id": "MGBQWrkf-Tlv"
      },
      "source": [
        "spark = sparknlp.start()"
      ],
      "execution_count": 3,
      "outputs": []
    },
    {
      "cell_type": "markdown",
      "metadata": {
        "id": "bXA24WIYaACJ"
      },
      "source": [
        "## 3. Select the DL model and re-run all the cells below"
      ]
    },
    {
      "cell_type": "code",
      "metadata": {
        "id": "ZgfRvkhLBGwh"
      },
      "source": [
        "model_name = \"classifierdl_bert_news\""
      ],
      "execution_count": 4,
      "outputs": []
    },
    {
      "cell_type": "markdown",
      "metadata": {
        "id": "m_-O5I9BaF08"
      },
      "source": [
        "## 4. Some sample examples"
      ]
    },
    {
      "cell_type": "code",
      "metadata": {
        "id": "S0-Axxuz-V95"
      },
      "source": [
        "text_list = [\n",
        "\"\"\"JSL Erzurumgücü Futbol Şube Sorumlusu Ahmet Mehmet, yaklaşan genel kurul öncesinde açıklamalarda bulundu. JSL Erzurumgücü Kulübü'nün 20 Mayıs perşembe günü yapılacak olağan genel kurulunda başkanlığa kesinlikle aday olmayacağını ifade eden Ahmet Mehmet, yaşanan süreç ile ilgili detayları anlattı.\"\"\",\n",
        "\"\"\"Tek kadınlarda elde ettiği 23 zaferle Margeret Court'un ardından en fazla grand slam turnuvası kazanan tenisçi konumundaki 39 yaşındaki Williams, tek erkeklerde dünyanın en iyisi olarak Federer'i gördüğünü söyledi.\"\"\",\n",
        "\"\"\"AB Komisyonu, üye ülkelerin çok uluslu şirketlere farklı vergi uygulamalarını önlemek amacıyla hazırladığı yol haritasını yayımladı. Buna göre, AB ülkelerinde verimli ve adil kurumlar vergisi sistemi kurulması teşvik edilecek.\"\"\",\n",
        "\"\"\"Bugün ABD Kongresi’nde yapacağı konuşma metnine göre, Yellen Biden hükümetinin önerdiği paketin şirketlerin net karlılılığını ve küresel rekabet gücünü artıracağını belirterek “umuyoruz ki iş dünyası liderleri bunu göz önünde bulundurarak İstihdam Planı’nı destekler” ifadesini kullanacak.\"\"\",\n",
        "\"\"\"Karadeniz Teknik Üniversitesinden (KTÜ) yapılan açıklamaya göre, 14 yaşındaki kız çocuğu, sırtında ve belinde uzun zamandır var olan ağrı, dengesizlik, vücudunda şekil ve duruş bozukluğu şikayetleri dolayısıyla KTÜ Farabi Hastanesine başvurdu.\"\"\",\n",
        "\"\"\"Koronavirüs bazı kişilerde ağır belirtiler verirken, bazı kişilerde de belirti göstermiyor. Popular Science'de yer alan habere göre İngiltere'de son yapılan araştırma, belirtsiz korona geçirenlerin şüphelerini gidermek için önemli ipuçları verdi.\"\"\",\n",
        "\"\"\"24 Mayıs-21 Haziran tarihleri arasında yapılacak ve Covid-19 salgını nedeniyle bu yıl kısıtlı sayıda izleyicinin ağırlanacağı 22. Sabancı Uluslararası Adana Tiyatro Festivali'nde 18 oyun sahnelenecek. Festivalin biletleri online olarak satışa çıktı.\"\"\",\n",
        "\"\"\"Karadeniz’de üzerinde insan yerleşimi bulunmuş nadir adalardan olan Giresun Adası’nda Eylül ve Ekim aylarında arkeolog ve sanat tarihçilerinde oluşan uzman ekip tarafından kurtarma kazısı yapılacak.\"\"\",\n",
        "\"\"\"Yapay zekanın yaşadığı iletişim sorunlarını çözmek isteyen Google, LaMDA isimli yapay zeka algoritmasını 18 Mayıs’ta düzenlenen I/O etkinliğinde tanıttı.\"\"\",\n",
        "\"\"\"Türk geliştiricilerin oyunu 50 milyondan fazla indirme ile dünyanın en çok indirilen mobil oyunu oldu. 2021 yılının Ocak ayında kurulan Türk oyun şirketi Gargamel Games’in ilk oyunu Bridge Face,  Nisan ayında dünyada en çok indirilen mobil oyun olmayı başardı.\"\"\",\n",
        "\"\"\"Cumhurbaşkanı Yardımcısı Sarı Selim, Meclis'te grubu bulunan partilere \"Anayasayı uzlaşmayla hazırlayalım\" çağrısı yaptı. Selim muhalefetin uzlaşmaya yanaşmaması halinde, 2023'te kendi çalışmalarıyla millete gideceklerini söyledi.\"\"\",\n",
        "\"\"\"Güzellikler Partisi Genel Başkanı Seval Şeker JSLTV televizyonunda yaptığı söyleşide erken seçime hazır olduklarını söyledi. Adayın henüz belirlenmemiş olmasının bir çelişki yaratmadığını savundu.\"\"\"\n",
        "]"
      ],
      "execution_count": 5,
      "outputs": []
    },
    {
      "cell_type": "markdown",
      "metadata": {
        "id": "ULKvemZpaNal"
      },
      "source": [
        "## 5. Define Spark NLP pipeline"
      ]
    },
    {
      "cell_type": "code",
      "metadata": {
        "colab": {
          "base_uri": "https://localhost:8080/"
        },
        "id": "-Y7GcAse-2Ie",
        "outputId": "484bdb16-cf7d-4874-a83e-1323bcf2903b"
      },
      "source": [
        "document = DocumentAssembler()\\\n",
        "    .setInputCol(\"text\")\\\n",
        "    .setOutputCol(\"document\")\n",
        "\n",
        "embeddings = BertSentenceEmbeddings\\\n",
        "    .pretrained('labse', 'xx') \\\n",
        "    .setInputCols([\"document\"])\\\n",
        "    .setOutputCol(\"sentence_embeddings\")\n",
        "\n",
        "document_classifier = ClassifierDLModel.pretrained(model_name, \"tr\") \\\n",
        "  .setInputCols([\"document\", \"sentence_embeddings\"]) \\\n",
        "  .setOutputCol(\"class\")    \n",
        "     \n",
        "nlpPipeline = Pipeline(stages=[\n",
        " document, \n",
        " embeddings,\n",
        " document_classifier\n",
        " ])"
      ],
      "execution_count": 6,
      "outputs": [
        {
          "output_type": "stream",
          "name": "stdout",
          "text": [
            "labse download started this may take some time.\n",
            "Approximate size to download 1.7 GB\n",
            "[OK!]\n",
            "classifierdl_bert_news download started this may take some time.\n",
            "Approximate size to download 22 MB\n",
            "[OK!]\n"
          ]
        }
      ]
    },
    {
      "cell_type": "markdown",
      "metadata": {
        "id": "hZtgPiQPafLR"
      },
      "source": [
        "## 6. Run the pipeline"
      ]
    },
    {
      "cell_type": "code",
      "metadata": {
        "id": "DZIJCK75_AeC"
      },
      "source": [
        "empty_df = spark.createDataFrame([['']]).toDF(\"text\")\n",
        "\n",
        "pipelineModel = nlpPipeline.fit(empty_df)\n",
        "df = spark.createDataFrame(pd.DataFrame({\"text\":text_list}))\n",
        "result = pipelineModel.transform(df)"
      ],
      "execution_count": 7,
      "outputs": []
    },
    {
      "cell_type": "markdown",
      "metadata": {
        "id": "GM8GfPB5aSCu"
      },
      "source": [
        "## 7. Visualize results"
      ]
    },
    {
      "cell_type": "code",
      "metadata": {
        "colab": {
          "base_uri": "https://localhost:8080/"
        },
        "id": "qeDbR4Gd_uo0",
        "outputId": "80abb77c-0c3c-4314-c752-d16fce2abf37"
      },
      "source": [
        "\n",
        "result.select(F.explode(F.arrays_zip('document.result', 'class.result')).alias(\"cols\")) \\\n",
        ".select(F.expr(\"cols['0']\").alias(\"document\"),\n",
        "        F.expr(\"cols['1']\").alias(\"class\")).show(truncate=False)"
      ],
      "execution_count": 8,
      "outputs": [
        {
          "output_type": "stream",
          "name": "stdout",
          "text": [
            "+---------------------------------------------------------------------------------------------------------------------------------------------------------------------------------------------------------------------------------------------------------------------------------------------------------+---------+\n",
            "|document                                                                                                                                                                                                                                                                                                 |class    |\n",
            "+---------------------------------------------------------------------------------------------------------------------------------------------------------------------------------------------------------------------------------------------------------------------------------------------------------+---------+\n",
            "|JSL Erzurumgücü Futbol Şube Sorumlusu Ahmet Mehmet, yaklaşan genel kurul öncesinde açıklamalarda bulundu. JSL Erzurumgücü Kulübü'nün 20 Mayıs perşembe günü yapılacak olağan genel kurulunda başkanlığa kesinlikle aday olmayacağını ifade eden Ahmet Mehmet, yaşanan süreç ile ilgili detayları anlattı.|spor     |\n",
            "|Tek kadınlarda elde ettiği 23 zaferle Margeret Court'un ardından en fazla grand slam turnuvası kazanan tenisçi konumundaki 39 yaşındaki Williams, tek erkeklerde dünyanın en iyisi olarak Federer'i gördüğünü söyledi.                                                                                   |spor     |\n",
            "|AB Komisyonu, üye ülkelerin çok uluslu şirketlere farklı vergi uygulamalarını önlemek amacıyla hazırladığı yol haritasını yayımladı. Buna göre, AB ülkelerinde verimli ve adil kurumlar vergisi sistemi kurulması teşvik edilecek.                                                                       |ekonomi  |\n",
            "|Bugün ABD Kongresi’nde yapacağı konuşma metnine göre, Yellen Biden hükümetinin önerdiği paketin şirketlerin net karlılılığını ve küresel rekabet gücünü artıracağını belirterek “umuyoruz ki iş dünyası liderleri bunu göz önünde bulundurarak İstihdam Planı’nı destekler” ifadesini kullanacak.        |ekonomi  |\n",
            "|Karadeniz Teknik Üniversitesinden (KTÜ) yapılan açıklamaya göre, 14 yaşındaki kız çocuğu, sırtında ve belinde uzun zamandır var olan ağrı, dengesizlik, vücudunda şekil ve duruş bozukluğu şikayetleri dolayısıyla KTÜ Farabi Hastanesine başvurdu.                                                      |saglik   |\n",
            "|Koronavirüs bazı kişilerde ağır belirtiler verirken, bazı kişilerde de belirti göstermiyor. Popular Science'de yer alan habere göre İngiltere'de son yapılan araştırma, belirtsiz korona geçirenlerin şüphelerini gidermek için önemli ipuçları verdi.                                                   |saglik   |\n",
            "|24 Mayıs-21 Haziran tarihleri arasında yapılacak ve Covid-19 salgını nedeniyle bu yıl kısıtlı sayıda izleyicinin ağırlanacağı 22. Sabancı Uluslararası Adana Tiyatro Festivali'nde 18 oyun sahnelenecek. Festivalin biletleri online olarak satışa çıktı.                                                |kultur   |\n",
            "|Karadeniz’de üzerinde insan yerleşimi bulunmuş nadir adalardan olan Giresun Adası’nda Eylül ve Ekim aylarında arkeolog ve sanat tarihçilerinde oluşan uzman ekip tarafından kurtarma kazısı yapılacak.                                                                                                   |kultur   |\n",
            "|Yapay zekanın yaşadığı iletişim sorunlarını çözmek isteyen Google, LaMDA isimli yapay zeka algoritmasını 18 Mayıs’ta düzenlenen I/O etkinliğinde tanıttı.                                                                                                                                                |teknoloji|\n",
            "|Türk geliştiricilerin oyunu 50 milyondan fazla indirme ile dünyanın en çok indirilen mobil oyunu oldu. 2021 yılının Ocak ayında kurulan Türk oyun şirketi Gargamel Games’in ilk oyunu Bridge Face,  Nisan ayında dünyada en çok indirilen mobil oyun olmayı başardı.                                     |teknoloji|\n",
            "|Cumhurbaşkanı Yardımcısı Sarı Selim, Meclis'te grubu bulunan partilere \"Anayasayı uzlaşmayla hazırlayalım\" çağrısı yaptı. Selim muhalefetin uzlaşmaya yanaşmaması halinde, 2023'te kendi çalışmalarıyla millete gideceklerini söyledi.                                                                   |siyaset  |\n",
            "|Güzellikler Partisi Genel Başkanı Seval Şeker JSLTV televizyonunda yaptığı söyleşide erken seçime hazır olduklarını söyledi. Adayın henüz belirlenmemiş olmasının bir çelişki yaratmadığını savundu.                                                                                                     |siyaset  |\n",
            "+---------------------------------------------------------------------------------------------------------------------------------------------------------------------------------------------------------------------------------------------------------------------------------------------------------+---------+\n",
            "\n"
          ]
        }
      ]
    },
    {
      "cell_type": "code",
      "metadata": {
        "id": "ualVYC2U_xp0"
      },
      "source": [
        ""
      ],
      "execution_count": 8,
      "outputs": []
    }
  ]
}
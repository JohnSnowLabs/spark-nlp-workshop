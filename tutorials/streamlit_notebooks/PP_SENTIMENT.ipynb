{
  "cells": [
    {
      "cell_type": "markdown",
      "metadata": {
        "id": "TA21Jo5d9SVq"
      },
      "source": [
        "\n",
        "\n",
        "![JohnSnowLabs](https://nlp.johnsnowlabs.com/assets/images/logo.png)\n",
        "\n",
        "[![Open In Colab](https://colab.research.google.com/assets/colab-badge.svg)](https://githubtocolab.com/JohnSnowLabs/spark-nlp-workshop/blob/master/tutorials/streamlit_notebooks/PP_SENTIMENT.ipynb)\n",
        "\n",
        "\n"
      ]
    },
    {
      "cell_type": "markdown",
      "metadata": {
        "id": "CzIdjHkAW8TB"
      },
      "source": [
        "# **Sentiment Analysis using pre-trained pipelines**"
      ]
    },
    {
      "cell_type": "markdown",
      "metadata": {
        "id": "wIeCOiJNW-88"
      },
      "source": [
        "## 1. Colab Setup"
      ]
    },
    {
      "cell_type": "code",
      "execution_count": 1,
      "metadata": {
        "colab": {
          "base_uri": "https://localhost:8080/"
        },
        "id": "CGJktFHdHL1n",
        "outputId": "43894e31-ed60-4d02-b2f3-125cf0c2050e"
      },
      "outputs": [],
      "source": [
        "# Install PySpark and Spark NLP\n",
        "! pip install -q pyspark==3.1.2 spark-nlp"
      ]
    },
    {
      "cell_type": "markdown",
      "metadata": {
        "id": "eCIT5VLxS3I1"
      },
      "source": [
        "## 2. Start the Spark session"
      ]
    },
    {
      "cell_type": "markdown",
      "metadata": {
        "id": "khjM-z9ORFU3"
      },
      "source": [
        "Import dependencies and start Spark session."
      ]
    },
    {
      "cell_type": "code",
      "execution_count": 2,
      "metadata": {
        "id": "sw-t1zxlHTB7"
      },
      "outputs": [],
      "source": [
        "import json\n",
        "import pandas as pd\n",
        "import numpy as np\n",
        "\n",
        "from pyspark.ml import Pipeline\n",
        "from pyspark.sql import SparkSession\n",
        "import pyspark.sql.functions as F\n",
        "from sparknlp.annotator import *\n",
        "from sparknlp.base import *\n",
        "import sparknlp\n",
        "from sparknlp.pretrained import PretrainedPipeline\n",
        "\n",
        "spark = sparknlp.start()"
      ]
    },
    {
      "cell_type": "markdown",
      "metadata": {
        "id": "9RgiqfX5XDqb"
      },
      "source": [
        "## 3. Select & load the pretrained pipeline"
      ]
    },
    {
      "cell_type": "markdown",
      "metadata": {
        "id": "aJm2kFwv1zLE"
      },
      "source": [
        "**Available Sentiment Analysis Pretrained Pipelines:**\n",
        "\n",
        "1. **analyze_sentiment**\n",
        "2. **analyze_sentimentdl_use_imdb**\n",
        "3. **analyze_sentimentdl_use_twitter**"
      ]
    },
    {
      "cell_type": "markdown",
      "metadata": {
        "id": "-QZfrI-eZ5zZ"
      },
      "source": [
        "\n",
        "\n",
        "\n",
        "For complete pipeline list:\n",
        "\n",
        "https://github.com/JohnSnowLabs/spark-nlp-models#english---pipelines"
      ]
    },
    {
      "cell_type": "markdown",
      "metadata": {
        "id": "FVPfvtUW2YvC"
      },
      "source": [
        "**Load the Pipeline**"
      ]
    },
    {
      "cell_type": "code",
      "execution_count": 3,
      "metadata": {
        "colab": {
          "base_uri": "https://localhost:8080/"
        },
        "id": "LLuDz_t40be4",
        "outputId": "7ef8b8a9-dd4b-4e36-f819-5d0d71429583"
      },
      "outputs": [
        {
          "name": "stdout",
          "output_type": "stream",
          "text": [
            "analyze_sentimentdl_use_imdb download started this may take some time.\n",
            "Approx size to download 935.7 MB\n",
            "[OK!]\n"
          ]
        }
      ],
      "source": [
        "pipeline = PretrainedPipeline('analyze_sentimentdl_use_imdb', lang='en')"
      ]
    },
    {
      "cell_type": "markdown",
      "metadata": {
        "id": "2Y9GpdJhXIpD"
      },
      "source": [
        "## 4. Run the pipeline on examples"
      ]
    },
    {
      "cell_type": "markdown",
      "metadata": {
        "id": "V3NgE15X20Os"
      },
      "source": [
        "**Sample Examples**"
      ]
    },
    {
      "cell_type": "code",
      "execution_count": 4,
      "metadata": {
        "id": "vBOKkB2THdGI"
      },
      "outputs": [],
      "source": [
        "text_list = [\n",
        "    \"\"\"There have been very few films I have not been able to sit through. I made it through Battle Field Earth no problem. But this, This is one of the single worst films EVER to be made.\"\"\",\n",
        "    \"\"\"I always thought this would be a long and boring Talking-Heads flick full of static interior takes, dude, I was wrong. \"Election\" is a highly fascinating and thoroughly captivating thriller-drama, taking a deep and realistic view behind the origins of Triads-Rituals.\"\"\",\n",
        "]"
      ]
    },
    {
      "cell_type": "markdown",
      "metadata": {
        "id": "hSMF5DrS22WQ"
      },
      "source": [
        "**Run the Pipeline**"
      ]
    },
    {
      "cell_type": "code",
      "execution_count": 5,
      "metadata": {
        "id": "gaC1Iv2Z21tL"
      },
      "outputs": [],
      "source": [
        "res = pipeline.fullAnnotate(text_list)"
      ]
    },
    {
      "cell_type": "markdown",
      "metadata": {
        "id": "XftYgju4XOw_"
      },
      "source": [
        "## 5. Process and visualize results\n",
        "\n"
      ]
    },
    {
      "cell_type": "markdown",
      "metadata": {
        "id": "AYWzpusf3BKf"
      },
      "source": [
        "**Raw result**"
      ]
    },
    {
      "cell_type": "code",
      "execution_count": 6,
      "metadata": {
        "colab": {
          "base_uri": "https://localhost:8080/"
        },
        "id": "p0wwC5Mc3DUj",
        "outputId": "6acb1aa6-8957-429a-e2e8-e318470bac0f"
      },
      "outputs": [
        {
          "data": {
            "text/plain": [
              "[{'document': [Annotation(document, 0, 180, There have been very few films I have not been able to sit through. I made it through Battle Field Earth no problem. But this, This is one of the single worst films EVER to be made., {})],\n",
              "  'sentence_embeddings': [Annotation(sentence_embeddings, 0, 180, There have been very few films I have not been able to sit through. I made it through Battle Field Earth no problem. But this, This is one of the single worst films EVER to be made., {'sentence': '0', 'token': 'There have been very few films I have not been able to sit through. I made it through Battle Field Earth no problem. But this, This is one of the single worst films EVER to be made.', 'pieceId': '-1', 'isWordStart': 'true'})],\n",
              "  'sentiment': [Annotation(category, 0, 180, neg, {'sentence': '0', 'pos': '7.53545E-7', 'neg': '0.9999993'})]},\n",
              " {'document': [Annotation(document, 0, 266, I always thought this would be a long and boring Talking-Heads flick full of static interior takes, dude, I was wrong. \"Election\" is a highly fascinating and thoroughly captivating thriller-drama, taking a deep and realistic view behind the origins of Triads-Rituals., {})],\n",
              "  'sentence_embeddings': [Annotation(sentence_embeddings, 0, 266, I always thought this would be a long and boring Talking-Heads flick full of static interior takes, dude, I was wrong. \"Election\" is a highly fascinating and thoroughly captivating thriller-drama, taking a deep and realistic view behind the origins of Triads-Rituals., {'sentence': '0', 'token': 'I always thought this would be a long and boring Talking-Heads flick full of static interior takes, dude, I was wrong. \"Election\" is a highly fascinating and thoroughly captivating thriller-drama, taking a deep and realistic view behind the origins of Triads-Rituals.', 'pieceId': '-1', 'isWordStart': 'true'})],\n",
              "  'sentiment': [Annotation(category, 0, 266, neg, {'sentence': '0', 'pos': '0.014070942', 'neg': '0.9859291'})]}]"
            ]
          },
          "execution_count": 6,
          "metadata": {},
          "output_type": "execute_result"
        }
      ],
      "source": [
        "res"
      ]
    },
    {
      "cell_type": "markdown",
      "metadata": {
        "id": "8k6AKZPn3D8P"
      },
      "source": [
        "**Print sentiments of all examples**"
      ]
    },
    {
      "cell_type": "code",
      "execution_count": 7,
      "metadata": {
        "colab": {
          "base_uri": "https://localhost:8080/"
        },
        "id": "SyigCRiA3FKC",
        "outputId": "d6a6341c-e826-435c-fb46-40064c4e8e4b"
      },
      "outputs": [
        {
          "name": "stdout",
          "output_type": "stream",
          "text": [
            "Text: \n",
            " There have been very few films I have not been able to sit through. I made it through Battle Field Earth no problem. But this, This is one of the single worst films EVER to be made.\n",
            "Sentiment:  neg\n",
            " ==== ==== ==== ==== ==== ====\n",
            "Text: \n",
            " I always thought this would be a long and boring Talking-Heads flick full of static interior takes, dude, I was wrong. \"Election\" is a highly fascinating and thoroughly captivating thriller-drama, taking a deep and realistic view behind the origins of Triads-Rituals.\n",
            "Sentiment:  neg\n",
            " ==== ==== ==== ==== ==== ====\n"
          ]
        }
      ],
      "source": [
        "for example in res:\n",
        "  print ('Text: \\n', example['document'][0].result)\n",
        "  print ('Sentiment: ', example['sentiment'][0].result)\n",
        "  print (' ==== ==== ==== ==== ==== ====')"
      ]
    }
  ],
  "metadata": {
    "colab": {
      "collapsed_sections": [],
      "name": "PP_SENTIMENT.ipynb",
      "provenance": [],
      "toc_visible": true
    },
    "interpreter": {
      "hash": "45150093197569bb3a58481dcd32cd1adb45462fa3448719e8ac38ada6166aca"
    },
    "kernelspec": {
      "display_name": "Python 3.6.10 64-bit ('tensorflow2_p36': conda)",
      "name": "python3"
    },
    "language_info": {
      "codemirror_mode": {
        "name": "ipython",
        "version": 3
      },
      "file_extension": ".py",
      "mimetype": "text/x-python",
      "name": "python",
      "nbconvert_exporter": "python",
      "pygments_lexer": "ipython3",
      "version": "3.6.10"
    }
  },
  "nbformat": 4,
  "nbformat_minor": 0
}

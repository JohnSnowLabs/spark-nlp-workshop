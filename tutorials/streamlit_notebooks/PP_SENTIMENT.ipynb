{
 "cells": [
  {
   "cell_type": "markdown",
   "metadata": {
    "id": "TA21Jo5d9SVq"
   },
   "source": [
    "\n",
    "\n",
    "![JohnSnowLabs](https://nlp.johnsnowlabs.com/assets/images/logo.png)\n",
    "\n",
    "[![Open In Colab](https://colab.research.google.com/assets/colab-badge.svg)](https://colab.research.google.com/github/JohnSnowLabs/spark-nlp-workshop/blob/master/tutorials/streamlit_notebooks/PP_SENTIMENT.ipynb)\n",
    "\n",
    "\n"
   ]
  },
  {
   "cell_type": "markdown",
   "metadata": {
    "id": "CzIdjHkAW8TB"
   },
   "source": [
    "# **Sentiment Analysis using pre-trained pipelines**"
   ]
  },
  {
   "cell_type": "markdown",
   "metadata": {
    "id": "wIeCOiJNW-88"
   },
   "source": [
    "## 1. Colab Setup"
   ]
  },
  {
   "cell_type": "code",
   "execution_count": 1,
   "metadata": {
    "colab": {
     "base_uri": "https://localhost:8080/"
    },
    "id": "CGJktFHdHL1n",
    "outputId": "09f5a104-bc39-46c2-baa8-297a27dded10"
   },
   "outputs": [
    {
     "name": "stdout",
     "output_type": "stream",
     "text": [
      "openjdk version \"11.0.9\" 2020-10-20\n",
      "OpenJDK Runtime Environment (build 11.0.9+11-Ubuntu-0ubuntu1.18.04.1)\n",
      "OpenJDK 64-Bit Server VM (build 11.0.9+11-Ubuntu-0ubuntu1.18.04.1, mixed mode, sharing)\n",
      "\u001b[K     |████████████████████████████████| 215.7MB 52kB/s \n",
      "\u001b[K     |████████████████████████████████| 204kB 44.6MB/s \n",
      "\u001b[?25h  Building wheel for pyspark (setup.py) ... \u001b[?25l\u001b[?25hdone\n",
      "Collecting spark-nlp\n",
      "\u001b[?25l  Downloading https://files.pythonhosted.org/packages/84/84/3f15673db521fbc4e8e0ec3677a019ba1458b2cb70f0f7738c221511ef32/spark_nlp-2.6.3-py2.py3-none-any.whl (129kB)\n",
      "\u001b[K     |████████████████████████████████| 133kB 2.7MB/s \n",
      "\u001b[?25hInstalling collected packages: spark-nlp\n",
      "Successfully installed spark-nlp-2.6.3\n"
     ]
    }
   ],
   "source": [
    "# Install java\n",
    "!apt-get update -qq\n",
    "!apt-get install -y openjdk-8-jdk-headless -qq > /dev/null\n",
    "!java -version\n",
    "\n",
    "# Install pyspark\n",
    "!pip install --ignore-installed -q pyspark==2.4.4\n",
    "\n",
    "# Install Sparknlp\n",
    "!pip install --ignore-installed spark-nlp"
   ]
  },
  {
   "cell_type": "markdown",
   "metadata": {
    "id": "eCIT5VLxS3I1"
   },
   "source": [
    "## 2. Start the Spark session"
   ]
  },
  {
   "cell_type": "markdown",
   "metadata": {
    "id": "khjM-z9ORFU3"
   },
   "source": [
    "Import dependencies and start Spark session."
   ]
  },
  {
   "cell_type": "code",
   "execution_count": 2,
   "metadata": {
    "id": "sw-t1zxlHTB7"
   },
   "outputs": [],
   "source": [
    "import os\n",
    "import json\n",
    "os.environ['JAVA_HOME'] = \"/usr/lib/jvm/java-8-openjdk-amd64\"\n",
    "\n",
    "import pandas as pd\n",
    "import numpy as np\n",
    "\n",
    "from pyspark.ml import Pipeline\n",
    "from pyspark.sql import SparkSession\n",
    "import pyspark.sql.functions as F\n",
    "from sparknlp.annotator import *\n",
    "from sparknlp.base import *\n",
    "import sparknlp\n",
    "from sparknlp.pretrained import PretrainedPipeline\n",
    "\n",
    "spark = sparknlp.start()"
   ]
  },
  {
   "cell_type": "markdown",
   "metadata": {
    "id": "9RgiqfX5XDqb"
   },
   "source": [
    "## 3. Select & load the pretrained pipeline"
   ]
  },
  {
   "cell_type": "markdown",
   "metadata": {
    "id": "aJm2kFwv1zLE"
   },
   "source": [
    "**Available Sentiment Analysis Pretrained Pipelines:**\n",
    "\n",
    "1. **analyze_sentiment**\n",
    "2. **analyze_sentimentdl_use_imdb**\n",
    "3. **analyze_sentimentdl_use_twitter**"
   ]
  },
  {
   "cell_type": "markdown",
   "metadata": {
    "id": "-QZfrI-eZ5zZ"
   },
   "source": [
    "\n",
    "\n",
    "\n",
    "For complete pipeline list:\n",
    "\n",
    "https://github.com/JohnSnowLabs/spark-nlp-models#english---pipelines"
   ]
  },
  {
   "cell_type": "markdown",
   "metadata": {
    "id": "FVPfvtUW2YvC"
   },
   "source": [
    "**Load the Pipeline**"
   ]
  },
  {
   "cell_type": "code",
   "execution_count": 13,
   "metadata": {
    "colab": {
     "base_uri": "https://localhost:8080/"
    },
    "id": "LLuDz_t40be4",
    "outputId": "4e3c271d-d38e-4131-faf5-a5f18f0a9b26"
   },
   "outputs": [
    {
     "name": "stdout",
     "output_type": "stream",
     "text": [
      "analyze_sentimentdl_use_imdb download started this may take some time.\n",
      "Approx size to download 935.8 MB\n",
      "[OK!]\n"
     ]
    }
   ],
   "source": [
    "pipeline = PretrainedPipeline('analyze_sentimentdl_use_imdb', lang='en')"
   ]
  },
  {
   "cell_type": "markdown",
   "metadata": {
    "id": "2Y9GpdJhXIpD"
   },
   "source": [
    "## 4. Run the pipeline on examples"
   ]
  },
  {
   "cell_type": "markdown",
   "metadata": {
    "id": "V3NgE15X20Os"
   },
   "source": [
    "**Sample Examples**"
   ]
  },
  {
   "cell_type": "code",
   "execution_count": 14,
   "metadata": {
    "id": "vBOKkB2THdGI"
   },
   "outputs": [],
   "source": [
    "text_list = [\n",
    "    \"\"\"There have been very few films I have not been able to sit through. I made it through Battle Field Earth no problem. But this, This is one of the single worst films EVER to be made.\"\"\",\n",
    "    \"\"\"I always thought this would be a long and boring Talking-Heads flick full of static interior takes, dude, I was wrong. \"Election\" is a highly fascinating and thoroughly captivating thriller-drama, taking a deep and realistic view behind the origins of Triads-Rituals.\"\"\",\n",
    "]"
   ]
  },
  {
   "cell_type": "markdown",
   "metadata": {
    "id": "hSMF5DrS22WQ"
   },
   "source": [
    "**Run the Pipeline**"
   ]
  },
  {
   "cell_type": "code",
   "execution_count": 15,
   "metadata": {
    "id": "gaC1Iv2Z21tL"
   },
   "outputs": [],
   "source": [
    "res = pipeline.fullAnnotate(text_list)"
   ]
  },
  {
   "cell_type": "markdown",
   "metadata": {
    "id": "XftYgju4XOw_"
   },
   "source": [
    "## 5. Process and visualize results\n",
    "\n"
   ]
  },
  {
   "cell_type": "markdown",
   "metadata": {
    "id": "AYWzpusf3BKf"
   },
   "source": [
    "**Raw result**"
   ]
  },
  {
   "cell_type": "code",
   "execution_count": 16,
   "metadata": {
    "colab": {
     "base_uri": "https://localhost:8080/"
    },
    "id": "p0wwC5Mc3DUj",
    "outputId": "a49c9503-512a-4124-dccc-7e5f32e5560a"
   },
   "outputs": [
    {
     "data": {
      "text/plain": [
       "[{'document': [Annotation(document, 0, 180, There have been very few films I have not been able to sit through. I made it through Battle Field Earth no problem. But this, This is one of the single worst films EVER to be made., {})],\n",
       "  'sentence_embeddings': [Annotation(sentence_embeddings, 0, 180, There have been very few films I have not been able to sit through. I made it through Battle Field Earth no problem. But this, This is one of the single worst films EVER to be made., {'sentence': '0', 'token': 'There have been very few films I have not been able to sit through. I made it through Battle Field Earth no problem. But this, This is one of the single worst films EVER to be made.', 'pieceId': '-1', 'isWordStart': 'true'})],\n",
       "  'sentiment': [Annotation(category, 0, 180, negative, {'sentence': '0', 'positive': '1.4854466E-8', 'negative': '1.0'})]},\n",
       " {'document': [Annotation(document, 0, 266, I always thought this would be a long and boring Talking-Heads flick full of static interior takes, dude, I was wrong. \"Election\" is a highly fascinating and thoroughly captivating thriller-drama, taking a deep and realistic view behind the origins of Triads-Rituals., {})],\n",
       "  'sentence_embeddings': [Annotation(sentence_embeddings, 0, 266, I always thought this would be a long and boring Talking-Heads flick full of static interior takes, dude, I was wrong. \"Election\" is a highly fascinating and thoroughly captivating thriller-drama, taking a deep and realistic view behind the origins of Triads-Rituals., {'sentence': '0', 'token': 'I always thought this would be a long and boring Talking-Heads flick full of static interior takes, dude, I was wrong. \"Election\" is a highly fascinating and thoroughly captivating thriller-drama, taking a deep and realistic view behind the origins of Triads-Rituals.', 'pieceId': '-1', 'isWordStart': 'true'})],\n",
       "  'sentiment': [Annotation(category, 0, 266, positive, {'sentence': '0', 'positive': '1.0', 'negative': '1.9704322E-8'})]}]"
      ]
     },
     "execution_count": 16,
     "metadata": {
      "tags": []
     },
     "output_type": "execute_result"
    }
   ],
   "source": [
    "res"
   ]
  },
  {
   "cell_type": "markdown",
   "metadata": {
    "id": "8k6AKZPn3D8P"
   },
   "source": [
    "**Print sentiments of all examples**"
   ]
  },
  {
   "cell_type": "code",
   "execution_count": 18,
   "metadata": {
    "colab": {
     "base_uri": "https://localhost:8080/"
    },
    "id": "SyigCRiA3FKC",
    "outputId": "b39b9dc6-d5f4-41db-b4f1-145b1be045d3"
   },
   "outputs": [
    {
     "name": "stdout",
     "output_type": "stream",
     "text": [
      "Text: \n",
      " There have been very few films I have not been able to sit through. I made it through Battle Field Earth no problem. But this, This is one of the single worst films EVER to be made.\n",
      "Sentiment:  negative\n",
      " ==== ==== ==== ==== ==== ====\n",
      "Text: \n",
      " I always thought this would be a long and boring Talking-Heads flick full of static interior takes, dude, I was wrong. \"Election\" is a highly fascinating and thoroughly captivating thriller-drama, taking a deep and realistic view behind the origins of Triads-Rituals.\n",
      "Sentiment:  positive\n",
      " ==== ==== ==== ==== ==== ====\n"
     ]
    }
   ],
   "source": [
    "for example in res:\n",
    "  print ('Text: \\n', example['document'][0].result)\n",
    "  print ('Sentiment: ', example['sentiment'][0].result)\n",
    "  print (' ==== ==== ==== ==== ==== ====')"
   ]
  }
 ],
 "metadata": {
  "colab": {
   "collapsed_sections": [],
   "name": "PP_SENTIMENT.ipynb",
   "provenance": [],
   "toc_visible": true
  },
  "kernelspec": {
   "display_name": "Python 3",
   "name": "python3"
  }
 },
 "nbformat": 4,
 "nbformat_minor": 0
}

{
  "nbformat": 4,
  "nbformat_minor": 0,
  "metadata": {
    "colab": {
      "name": "CLASSIFICATION_RU_TOXIC.ipynb",
      "provenance": [],
      "collapsed_sections": []
    },
    "kernelspec": {
      "name": "python3",
      "display_name": "Python 3"
    },
    "language_info": {
      "name": "python"
    },
    "accelerator": "GPU"
  },
  "cells": [
    {
      "cell_type": "markdown",
      "source": [
        "\n",
        "\n",
        "![JohnSnowLabs](https://nlp.johnsnowlabs.com/assets/images/logo.png)\n",
        "\n",
        "[![Open In Colab](https://colab.research.google.com/assets/colab-badge.svg)](https://colab.research.google.com/github/JohnSnowLabs/spark-nlp-workshop/blob/master/tutorials/streamlit_notebooks/CLASSIFICATION_RU_TOXIC.ipynb)\n",
        "\n",
        "\n",
        "\n",
        "\n"
      ],
      "metadata": {
        "id": "BmzCWrXddU3q"
      }
    },
    {
      "cell_type": "markdown",
      "source": [
        "## **Toxic content classifier for Russian**\n"
      ],
      "metadata": {
        "id": "GtlWsaCuddX2"
      }
    },
    {
      "cell_type": "markdown",
      "metadata": {
        "id": "kMURhBz4ZwM6"
      },
      "source": [
        "## 1. Colab Setup"
      ]
    },
    {
      "cell_type": "code",
      "execution_count": null,
      "metadata": {
        "id": "qyYMEtv59sox",
        "colab": {
          "base_uri": "https://localhost:8080/"
        },
        "outputId": "381f88c8-b1aa-4ec0-f547-772e466a48af"
      },
      "outputs": [
        {
          "output_type": "stream",
          "name": "stdout",
          "text": [
            "\u001b[K     |████████████████████████████████| 212.4 MB 66 kB/s \n",
            "\u001b[K     |████████████████████████████████| 140 kB 47.5 MB/s \n",
            "\u001b[K     |████████████████████████████████| 198 kB 55.8 MB/s \n",
            "\u001b[?25h  Building wheel for pyspark (setup.py) ... \u001b[?25l\u001b[?25hdone\n"
          ]
        }
      ],
      "source": [
        "# Install PySpark and Spark NLP\n",
        "! pip install -q pyspark==3.1.2 spark-nlp"
      ]
    },
    {
      "cell_type": "code",
      "metadata": {
        "id": "o78aqL2VTOFU"
      },
      "source": [
        "import pandas as pd\n",
        "import numpy as np\n",
        "import json\n",
        "from pyspark.ml import Pipeline\n",
        "from pyspark.sql import SparkSession\n",
        "import pyspark.sql.functions as F\n",
        "from sparknlp.annotator import *\n",
        "from sparknlp.base import *\n",
        "import sparknlp\n",
        "from sparknlp.pretrained import PretrainedPipeline"
      ],
      "execution_count": null,
      "outputs": []
    },
    {
      "cell_type": "markdown",
      "source": [
        "## 2. Start Spark Session"
      ],
      "metadata": {
        "id": "HoF0DUrkdyJZ"
      }
    },
    {
      "cell_type": "code",
      "source": [
        "spark = sparknlp.start()"
      ],
      "metadata": {
        "id": "u3-L6X0gdqCc"
      },
      "execution_count": null,
      "outputs": []
    },
    {
      "cell_type": "markdown",
      "source": [
        "## 3. Sample Examples texts."
      ],
      "metadata": {
        "id": "uINFwZwhd03P"
      }
    },
    {
      "cell_type": "code",
      "source": [
        "TEXT_LIST = [\"\"\"но ведь многие бросают свою половину из-за бездетности.А он нет-значит любил.Конечно-он при жизни мог завещание сделать.\"\"\",\"\"\"Ненавижу тебя, идиот.\"\"\",\"\"\"Согласна. Сама думаю, какую площадь приспособить и гараж ну никак не вписывается.\"\"\",\"\"\"Вот ты хуйню какую-то на пикабу постишь, а в это время враг боевые навыки совершенствует\"\"\",\"\"\"У нас почему-то только по холодам такие мероприятия. Так что к осени\"\"\",\"\"\"Никчёмный народец получивший славу только потому что Батый не вырезал их сразу а ставил первыми шеренгами или живым щитом перед своими же войсками. Выживаемость ноль\"\"\",\"\"\"Не думаю что его выгодно делать ,так как я видел эти телефоны новые с рук по 5к\"\"\",\"\"\"И хитлара, и сралина считаются одинаково усатыми идиотами.\"\"\"]"
      ],
      "metadata": {
        "id": "9yT0YT_2UNF8"
      },
      "execution_count": null,
      "outputs": []
    },
    {
      "cell_type": "markdown",
      "source": [
        "## 4. Define Spark NLP pipeline\n"
      ],
      "metadata": {
        "id": "wzQ9GIy7eBve"
      }
    },
    {
      "cell_type": "code",
      "source": [
        "document_assembler = DocumentAssembler() \\\n",
        "    .setInputCol('text') \\\n",
        "    .setOutputCol('document')\n",
        "\n",
        "tokenizer = Tokenizer() \\\n",
        "    .setInputCols(['document']) \\\n",
        "    .setOutputCol('token')\n",
        "\n",
        "sequenceClassifier = BertForSequenceClassification \\\n",
        "      .pretrained('bert_sequence_classifier_toxicity', 'ru') \\\n",
        "      .setInputCols(['token', 'document']) \\\n",
        "      .setOutputCol('class')\n",
        "\n",
        "russian_pipeline = Pipeline(stages=[document_assembler, tokenizer, sequenceClassifier])"
      ],
      "metadata": {
        "id": "BAXa8iGyeGlG",
        "colab": {
          "base_uri": "https://localhost:8080/"
        },
        "outputId": "1b6432ae-0226-463a-8e7b-22ba10c0a4be"
      },
      "execution_count": null,
      "outputs": [
        {
          "output_type": "stream",
          "name": "stdout",
          "text": [
            "bert_sequence_classifier_toxicity download started this may take some time.\n",
            "Approximate size to download 634.3 MB\n",
            "[OK!]\n"
          ]
        }
      ]
    },
    {
      "cell_type": "markdown",
      "source": [
        "## 5. Run the pipeline"
      ],
      "metadata": {
        "id": "smc42S5RtAEC"
      }
    },
    {
      "cell_type": "code",
      "source": [
        "pipeline = russian_pipeline.fit(spark.createDataFrame([['']]).toDF(\"text\"))\n",
        "df = spark.createDataFrame(pd.DataFrame({\"text\":TEXT_LIST}))\n",
        "result = pipeline.transform(df)"
      ],
      "metadata": {
        "id": "ZXcHI9mCqkiv"
      },
      "execution_count": null,
      "outputs": []
    },
    {
      "cell_type": "markdown",
      "source": [
        "## 6. Visualize results\n"
      ],
      "metadata": {
        "id": "LRY_YRV9qSJB"
      }
    },
    {
      "cell_type": "code",
      "source": [
        "\n",
        "result.select(F.explode(F.arrays_zip('document.result', 'class.result')).alias(\"cols\")) \\\n",
        ".select(F.expr(\"cols['0']\").alias(\"document\"),\n",
        "        F.expr(\"cols['1']\").alias(\"class\")).show(truncate=False)"
      ],
      "metadata": {
        "colab": {
          "base_uri": "https://localhost:8080/"
        },
        "id": "Y1o9Q9kCqYBj",
        "outputId": "7f591da8-51cf-4b1d-cff4-d967bd7c8dd3"
      },
      "execution_count": null,
      "outputs": [
        {
          "output_type": "stream",
          "name": "stdout",
          "text": [
            "+---------------------------------------------------------------------------------------------------------------------------------------------------------------------+-------+\n",
            "|document                                                                                                                                                             |class  |\n",
            "+---------------------------------------------------------------------------------------------------------------------------------------------------------------------+-------+\n",
            "|но ведь многие бросают свою половину из-за бездетности.А он нет-значит любил.Конечно-он при жизни мог завещание сделать.                                             |neutral|\n",
            "|Ненавижу тебя, идиот.                                                                                                                                                |toxic  |\n",
            "|Согласна. Сама думаю, какую площадь приспособить и гараж ну никак не вписывается.                                                                                    |neutral|\n",
            "|Вот ты хуйню какую-то на пикабу постишь, а в это время враг боевые навыки совершенствует                                                                             |toxic  |\n",
            "|У нас почему-то только по холодам такие мероприятия. Так что к осени                                                                                                 |neutral|\n",
            "|Никчёмный народец получивший славу только потому что Батый не вырезал их сразу а ставил первыми шеренгами или живым щитом перед своими же войсками. Выживаемость ноль|toxic  |\n",
            "|Не думаю что его выгодно делать ,так как я видел эти телефоны новые с рук по 5к                                                                                      |neutral|\n",
            "|И хитлара, и сралина считаются одинаково усатыми идиотами.                                                                                                           |toxic  |\n",
            "+---------------------------------------------------------------------------------------------------------------------------------------------------------------------+-------+\n",
            "\n"
          ]
        }
      ]
    }
  ]
}
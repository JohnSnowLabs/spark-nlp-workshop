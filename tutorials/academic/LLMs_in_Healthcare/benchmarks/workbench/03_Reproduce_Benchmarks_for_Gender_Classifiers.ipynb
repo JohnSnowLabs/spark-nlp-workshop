{
 "cells": [
  {
   "attachments": {},
   "cell_type": "markdown",
   "metadata": {},
   "source": [
    "# 1. Gender Classifier"
   ]
  },
  {
   "attachments": {},
   "cell_type": "markdown",
   "metadata": {},
   "source": [
    "## 1.1 Load Dataset"
   ]
  },
  {
   "cell_type": "code",
   "execution_count": 1,
   "metadata": {},
   "outputs": [
    {
     "name": "stdout",
     "output_type": "stream",
     "text": [
      "Raw data path: ../data/gender_dataset.csv\n"
     ]
    },
    {
     "data": {
      "text/html": [
       "<div>\n",
       "<style scoped>\n",
       "    .dataframe tbody tr th:only-of-type {\n",
       "        vertical-align: middle;\n",
       "    }\n",
       "\n",
       "    .dataframe tbody tr th {\n",
       "        vertical-align: top;\n",
       "    }\n",
       "\n",
       "    .dataframe thead th {\n",
       "        text-align: right;\n",
       "    }\n",
       "</style>\n",
       "<table border=\"1\" class=\"dataframe\">\n",
       "  <thead>\n",
       "    <tr style=\"text-align: right;\">\n",
       "      <th></th>\n",
       "      <th>index</th>\n",
       "      <th>text</th>\n",
       "      <th>Gender</th>\n",
       "    </tr>\n",
       "  </thead>\n",
       "  <tbody>\n",
       "    <tr>\n",
       "      <th>0</th>\n",
       "      <td>0</td>\n",
       "      <td>she is on oxygen 24/7 over the past 3 years .n...</td>\n",
       "      <td>Female</td>\n",
       "    </tr>\n",
       "  </tbody>\n",
       "</table>\n",
       "</div>"
      ],
      "text/plain": [
       "   index                                               text  Gender\n",
       "0      0  she is on oxygen 24/7 over the past 3 years .n...  Female"
      ]
     },
     "execution_count": 1,
     "metadata": {},
     "output_type": "execute_result"
    }
   ],
   "source": [
    "import os\n",
    "import pandas as pd\n",
    "\n",
    "file_name = 'gender_dataset.csv'\n",
    "data_path = os.path.join('..', 'data', file_name )\n",
    "print(\"Raw data path:\", data_path)\n",
    "data_df = pd.read_csv(data_path)\n",
    "data_df.head(1)"
   ]
  },
  {
   "attachments": {},
   "cell_type": "markdown",
   "metadata": {},
   "source": [
    "## 1.2. Prepare Dataset"
   ]
  },
  {
   "cell_type": "code",
   "execution_count": 2,
   "metadata": {},
   "outputs": [
    {
     "data": {
      "text/html": [
       "<div>\n",
       "<style scoped>\n",
       "    .dataframe tbody tr th:only-of-type {\n",
       "        vertical-align: middle;\n",
       "    }\n",
       "\n",
       "    .dataframe tbody tr th {\n",
       "        vertical-align: top;\n",
       "    }\n",
       "\n",
       "    .dataframe thead th {\n",
       "        text-align: right;\n",
       "    }\n",
       "</style>\n",
       "<table border=\"1\" class=\"dataframe\">\n",
       "  <thead>\n",
       "    <tr style=\"text-align: right;\">\n",
       "      <th></th>\n",
       "      <th>index</th>\n",
       "      <th>text</th>\n",
       "      <th>Gender</th>\n",
       "      <th>predictions</th>\n",
       "    </tr>\n",
       "  </thead>\n",
       "  <tbody>\n",
       "    <tr>\n",
       "      <th>0</th>\n",
       "      <td>1736</td>\n",
       "      <td>she denies any chest pain .she has had a 20-po...</td>\n",
       "      <td>Female</td>\n",
       "      <td>NA</td>\n",
       "    </tr>\n",
       "    <tr>\n",
       "      <th>1</th>\n",
       "      <td>101</td>\n",
       "      <td>elsee from sound ** addr hospitalist team for ...</td>\n",
       "      <td>Female</td>\n",
       "      <td>NA</td>\n",
       "    </tr>\n",
       "    <tr>\n",
       "      <th>2</th>\n",
       "      <td>34</td>\n",
       "      <td>﻿sample type / medical specialty: letters samp...</td>\n",
       "      <td>Male</td>\n",
       "      <td>NA</td>\n",
       "    </tr>\n",
       "    <tr>\n",
       "      <th>3</th>\n",
       "      <td>614</td>\n",
       "      <td>she is doing well .she feels good .no complain...</td>\n",
       "      <td>Female</td>\n",
       "      <td>NA</td>\n",
       "    </tr>\n",
       "    <tr>\n",
       "      <th>4</th>\n",
       "      <td>1804</td>\n",
       "      <td>﻿sample type / medical specialty: general medi...</td>\n",
       "      <td>Male</td>\n",
       "      <td>NA</td>\n",
       "    </tr>\n",
       "  </tbody>\n",
       "</table>\n",
       "</div>"
      ],
      "text/plain": [
       "   index                                               text  Gender  \\\n",
       "0   1736  she denies any chest pain .she has had a 20-po...  Female   \n",
       "1    101  elsee from sound ** addr hospitalist team for ...  Female   \n",
       "2     34  ﻿sample type / medical specialty: letters samp...    Male   \n",
       "3    614  she is doing well .she feels good .no complain...  Female   \n",
       "4   1804  ﻿sample type / medical specialty: general medi...    Male   \n",
       "\n",
       "  predictions  \n",
       "0          NA  \n",
       "1          NA  \n",
       "2          NA  \n",
       "3          NA  \n",
       "4          NA  "
      ]
     },
     "execution_count": 2,
     "metadata": {},
     "output_type": "execute_result"
    }
   ],
   "source": [
    "# Select Random x samples for each gender to get predictions\n",
    "number_of_samples_for_prediction = 10\n",
    "\n",
    "df = data_df.copy()\n",
    "df = df.sample(frac=1).reset_index(drop=True)\n",
    "# Drop duplicates, if any\n",
    "df = df.drop_duplicates()\n",
    "\n",
    "# Create a new DataFrame with only x rows, x/2 with \"Male\" as the gender and x/2 with \"Female\" as the gender\n",
    "filtered_gender_df = pd.concat([df[df[\"Gender\"] == \"Male\"].head(number_of_samples_for_prediction), df[df[\"Gender\"] == \"Female\"].head(number_of_samples_for_prediction)])\n",
    "\n",
    "# Reset the index of the final data set\n",
    "filtered_gender_df = filtered_gender_df.sample(frac=1).reset_index(drop=True)\n",
    "\n",
    "# !!! Save the final data set to a CSV file to get predictions on JSL models\n",
    "#filtered_gender_df.to_csv(\"gender_100_rows.csv\", sep=\"\\t\", index=False)\n",
    "filtered_gender_df.loc[:, 'predictions'] = [\"NA\" for _ in range(len(filtered_gender_df))]\n",
    "\n",
    "filtered_gender_df.head(5)"
   ]
  },
  {
   "attachments": {},
   "cell_type": "markdown",
   "metadata": {},
   "source": [
    "# 2. GPT Predictions "
   ]
  },
  {
   "attachments": {},
   "cell_type": "markdown",
   "metadata": {},
   "source": [
    "## 2.1 Load Prompt and Initiate Classifier"
   ]
  },
  {
   "cell_type": "code",
   "execution_count": 3,
   "metadata": {},
   "outputs": [],
   "source": [
    "from modules import GPTClassifier "
   ]
  },
  {
   "cell_type": "code",
   "execution_count": 4,
   "metadata": {},
   "outputs": [
    {
     "name": "stdout",
     "output_type": "stream",
     "text": [
      "Prompt for [Gender Classification] task: (./prompts/09_03_Gender_Classifier.txt)\n",
      "PROMPT:\n",
      "\n",
      "You are a highly experienced, skilled and helpful medical annotator who have been working on medical and clinical texts.\n",
      "\n",
      "\n",
      "\n",
      "I will provide you a a clinical text belonging to a patient, determine the gender of the patient.\n",
      "\n",
      "\n",
      "\n",
      "Example Clinical Text:\n",
      "\n",
      "\n",
      "\n",
      "    history of present illness : ms . tad arganda is resting in the bed .she reports that she received her chemotherapy on ** day and then began having shortness of breath on ** day .during that hospitalization , she was again reported to have shortness of breath the day following her chemotherapy .general : this is a well-nourished 78-year-old female who appears to be dyspneic .the patient is alert and oriented times 4 .50 . she remains very dyspneic and has difficult time completing 1 sentence .\n",
      "\n",
      "\n",
      "\n",
      "    What is the gender of the patient mentioned in the clinical text?\n",
      "\n",
      "\n",
      "\n",
      "    'Female'\n",
      "\n",
      "\n",
      "\n",
      "Another Example Clinical Text:\n",
      "\n",
      "\n",
      "\n",
      "    critical care medicine consultation .he was admitted to the intensive care unit for sepsis secondary to a urinary tract infection .this is an elderly male in no apparent distress at rest , acutely ill with vital signs showing blood pressure of 139/68 , pulse rate 98 , respiratory rate 22 , temperaturesepsis secondary to urinary tract infection .septic squamous cell ca of the bladder ._____ copd , active smoker .\n",
      "\n",
      "\n",
      "\n",
      "    What is the gender of the patient mentioned in the clinical text?\n",
      "\n",
      "\n",
      "\n",
      "    'Male'\n",
      "\n",
      "\n",
      "\n",
      "Very important !!! If you are not sure about the answer do not make any additional explanation and return \"Not Found\" as answer\n",
      "\n",
      "\n",
      "\n",
      "Task :\n",
      "\n",
      "\n",
      "\n",
      "Now I want you to classify the gender of patient in this sentence , please return the answer short and precise as one of these three responses without any other words or explanations: 'Male', 'Female' or 'Not Found'\n",
      "\n"
     ]
    }
   ],
   "source": [
    "\n",
    "prompt_file = \"09_03_Gender_Classifier.txt\"\n",
    "\n",
    "prompt_file_path = os.path.join('.', 'prompts', prompt_file)\n",
    "print(f\"Prompt for [Gender Classification] task: ({prompt_file_path})\")\n",
    "\n",
    "with open(prompt_file_path, 'r') as file:\n",
    "    print(\"PROMPT:\\n\")\n",
    "    for line in file:\n",
    "        print(line)\n",
    "        \n",
    "gender_classifier = GPTClassifier.Classifier(prompt_file_path)"
   ]
  },
  {
   "attachments": {},
   "cell_type": "markdown",
   "metadata": {},
   "source": [
    "## 2.2 Get Predictions"
   ]
  },
  {
   "cell_type": "code",
   "execution_count": 5,
   "metadata": {},
   "outputs": [
    {
     "name": "stdout",
     "output_type": "stream",
     "text": [
      "0 predicted_gender: Female gt: Female\n",
      "1 predicted_gender: Female gt: Female\n",
      "2 predicted_gender: Male gt: Male\n",
      "3 predicted_gender: Female gt: Female\n",
      "4 predicted_gender: Male gt: Male\n",
      "5 predicted_gender: Male gt: Male\n",
      "6 predicted_gender: Male gt: Male\n",
      "7 predicted_gender: 'Male' gt: Male\n",
      "8 predicted_gender: Female gt: Female\n",
      "9 predicted_gender: Male gt: Male\n",
      "10 predicted_gender: 'Male' gt: Male\n",
      "11 predicted_gender: Female gt: Female\n",
      "12 predicted_gender: Female gt: Female\n",
      "13 predicted_gender: Male gt: Male\n",
      "14 predicted_gender: Female gt: Female\n",
      "15 predicted_gender: Male gt: Male\n",
      "16 predicted_gender: Female gt: Female\n",
      "17 predicted_gender: Female gt: Female\n",
      "18 predicted_gender: Male gt: Male\n",
      "19 predicted_gender: Female gt: Female\n"
     ]
    }
   ],
   "source": [
    "import datetime\n",
    "\n",
    "# Assing auto name to save prediction data as csv and excel\n",
    "now = datetime.datetime.now()\n",
    "file_name = f\"Gender_Classifier_preds_{now.strftime('%m%d_%H%M')}\"\n",
    "processed_data_path = os.path.join('.', 'processed_data', file_name)\n",
    "\n",
    "\n",
    "for idx, row in filtered_gender_df.iterrows():\n",
    "    sentence = row['text']\n",
    "    result = gender_classifier.do_query(sentence)\n",
    "    predicted_gender = result['choices'][0]['message']['content']\n",
    "    filtered_gender_df.at[idx, \"predictions\"] = gender_classifier.gender_fix_output_typo(predicted_gender)\n",
    "    print(idx, \"predicted_gender:\", predicted_gender, \"gt:\", row[\"Gender\"])\n",
    "\n",
    "filtered_gender_df.to_csv(processed_data_path)"
   ]
  },
  {
   "cell_type": "code",
   "execution_count": 6,
   "metadata": {},
   "outputs": [
    {
     "data": {
      "text/html": [
       "<div>\n",
       "<style scoped>\n",
       "    .dataframe tbody tr th:only-of-type {\n",
       "        vertical-align: middle;\n",
       "    }\n",
       "\n",
       "    .dataframe tbody tr th {\n",
       "        vertical-align: top;\n",
       "    }\n",
       "\n",
       "    .dataframe thead th {\n",
       "        text-align: right;\n",
       "    }\n",
       "</style>\n",
       "<table border=\"1\" class=\"dataframe\">\n",
       "  <thead>\n",
       "    <tr style=\"text-align: right;\">\n",
       "      <th></th>\n",
       "      <th>index</th>\n",
       "      <th>text</th>\n",
       "      <th>Gender</th>\n",
       "      <th>predictions</th>\n",
       "    </tr>\n",
       "  </thead>\n",
       "  <tbody>\n",
       "    <tr>\n",
       "      <th>0</th>\n",
       "      <td>1736</td>\n",
       "      <td>she denies any chest pain .she has had a 20-po...</td>\n",
       "      <td>Female</td>\n",
       "      <td>Female</td>\n",
       "    </tr>\n",
       "    <tr>\n",
       "      <th>1</th>\n",
       "      <td>101</td>\n",
       "      <td>elsee from sound ** addr hospitalist team for ...</td>\n",
       "      <td>Female</td>\n",
       "      <td>Female</td>\n",
       "    </tr>\n",
       "    <tr>\n",
       "      <th>2</th>\n",
       "      <td>34</td>\n",
       "      <td>﻿sample type / medical specialty: letters samp...</td>\n",
       "      <td>Male</td>\n",
       "      <td>Male</td>\n",
       "    </tr>\n",
       "    <tr>\n",
       "      <th>3</th>\n",
       "      <td>614</td>\n",
       "      <td>she is doing well .she feels good .no complain...</td>\n",
       "      <td>Female</td>\n",
       "      <td>Female</td>\n",
       "    </tr>\n",
       "    <tr>\n",
       "      <th>4</th>\n",
       "      <td>1804</td>\n",
       "      <td>﻿sample type / medical specialty: general medi...</td>\n",
       "      <td>Male</td>\n",
       "      <td>Male</td>\n",
       "    </tr>\n",
       "    <tr>\n",
       "      <th>5</th>\n",
       "      <td>470</td>\n",
       "      <td>the patient is doing quite healthy .he lives a...</td>\n",
       "      <td>Male</td>\n",
       "      <td>Male</td>\n",
       "    </tr>\n",
       "    <tr>\n",
       "      <th>6</th>\n",
       "      <td>647</td>\n",
       "      <td>he presented with hoarseness of voice and diff...</td>\n",
       "      <td>Male</td>\n",
       "      <td>Male</td>\n",
       "    </tr>\n",
       "    <tr>\n",
       "      <th>7</th>\n",
       "      <td>1862</td>\n",
       "      <td>﻿sample type / medical specialty: urology samp...</td>\n",
       "      <td>Male</td>\n",
       "      <td>Male</td>\n",
       "    </tr>\n",
       "    <tr>\n",
       "      <th>8</th>\n",
       "      <td>35</td>\n",
       "      <td>﻿sample type / medical specialty: surgery samp...</td>\n",
       "      <td>Female</td>\n",
       "      <td>Female</td>\n",
       "    </tr>\n",
       "    <tr>\n",
       "      <th>9</th>\n",
       "      <td>872</td>\n",
       "      <td>he was noted to have a rapid decline in his en...</td>\n",
       "      <td>Male</td>\n",
       "      <td>Male</td>\n",
       "    </tr>\n",
       "    <tr>\n",
       "      <th>10</th>\n",
       "      <td>1342</td>\n",
       "      <td>﻿sample type / medical specialty: surgery samp...</td>\n",
       "      <td>Male</td>\n",
       "      <td>Male</td>\n",
       "    </tr>\n",
       "    <tr>\n",
       "      <th>11</th>\n",
       "      <td>1206</td>\n",
       "      <td>﻿sample type / medical specialty: orthopedic s...</td>\n",
       "      <td>Female</td>\n",
       "      <td>Female</td>\n",
       "    </tr>\n",
       "    <tr>\n",
       "      <th>12</th>\n",
       "      <td>1967</td>\n",
       "      <td>she denies having any associated neurologic de...</td>\n",
       "      <td>Female</td>\n",
       "      <td>Female</td>\n",
       "    </tr>\n",
       "    <tr>\n",
       "      <th>13</th>\n",
       "      <td>1062</td>\n",
       "      <td>he remains quite short of breath and can only ...</td>\n",
       "      <td>Male</td>\n",
       "      <td>Male</td>\n",
       "    </tr>\n",
       "    <tr>\n",
       "      <th>14</th>\n",
       "      <td>2181</td>\n",
       "      <td>general general : : she she is is awake awake ...</td>\n",
       "      <td>Female</td>\n",
       "      <td>Female</td>\n",
       "    </tr>\n",
       "    <tr>\n",
       "      <th>15</th>\n",
       "      <td>1029</td>\n",
       "      <td>the patient came in with 1 week onset of incre...</td>\n",
       "      <td>Male</td>\n",
       "      <td>Male</td>\n",
       "    </tr>\n",
       "    <tr>\n",
       "      <th>16</th>\n",
       "      <td>2164</td>\n",
       "      <td>no progressive neurological symptoms including...</td>\n",
       "      <td>Female</td>\n",
       "      <td>Female</td>\n",
       "    </tr>\n",
       "    <tr>\n",
       "      <th>17</th>\n",
       "      <td>1570</td>\n",
       "      <td>﻿sample type / medical specialty: neurology sa...</td>\n",
       "      <td>Female</td>\n",
       "      <td>Female</td>\n",
       "    </tr>\n",
       "    <tr>\n",
       "      <th>18</th>\n",
       "      <td>1052</td>\n",
       "      <td>after completing this therapy , the patient re...</td>\n",
       "      <td>Male</td>\n",
       "      <td>Male</td>\n",
       "    </tr>\n",
       "    <tr>\n",
       "      <th>19</th>\n",
       "      <td>596</td>\n",
       "      <td>she has no shortness of breath .her appetite i...</td>\n",
       "      <td>Female</td>\n",
       "      <td>Female</td>\n",
       "    </tr>\n",
       "  </tbody>\n",
       "</table>\n",
       "</div>"
      ],
      "text/plain": [
       "    index                                               text  Gender  \\\n",
       "0    1736  she denies any chest pain .she has had a 20-po...  Female   \n",
       "1     101  elsee from sound ** addr hospitalist team for ...  Female   \n",
       "2      34  ﻿sample type / medical specialty: letters samp...    Male   \n",
       "3     614  she is doing well .she feels good .no complain...  Female   \n",
       "4    1804  ﻿sample type / medical specialty: general medi...    Male   \n",
       "5     470  the patient is doing quite healthy .he lives a...    Male   \n",
       "6     647  he presented with hoarseness of voice and diff...    Male   \n",
       "7    1862  ﻿sample type / medical specialty: urology samp...    Male   \n",
       "8      35  ﻿sample type / medical specialty: surgery samp...  Female   \n",
       "9     872  he was noted to have a rapid decline in his en...    Male   \n",
       "10   1342  ﻿sample type / medical specialty: surgery samp...    Male   \n",
       "11   1206  ﻿sample type / medical specialty: orthopedic s...  Female   \n",
       "12   1967  she denies having any associated neurologic de...  Female   \n",
       "13   1062  he remains quite short of breath and can only ...    Male   \n",
       "14   2181  general general : : she she is is awake awake ...  Female   \n",
       "15   1029  the patient came in with 1 week onset of incre...    Male   \n",
       "16   2164  no progressive neurological symptoms including...  Female   \n",
       "17   1570  ﻿sample type / medical specialty: neurology sa...  Female   \n",
       "18   1052  after completing this therapy , the patient re...    Male   \n",
       "19    596  she has no shortness of breath .her appetite i...  Female   \n",
       "\n",
       "   predictions  \n",
       "0       Female  \n",
       "1       Female  \n",
       "2         Male  \n",
       "3       Female  \n",
       "4         Male  \n",
       "5         Male  \n",
       "6         Male  \n",
       "7         Male  \n",
       "8       Female  \n",
       "9         Male  \n",
       "10        Male  \n",
       "11      Female  \n",
       "12      Female  \n",
       "13        Male  \n",
       "14      Female  \n",
       "15        Male  \n",
       "16      Female  \n",
       "17      Female  \n",
       "18        Male  \n",
       "19      Female  "
      ]
     },
     "execution_count": 6,
     "metadata": {},
     "output_type": "execute_result"
    }
   ],
   "source": [
    "filtered_gender_df"
   ]
  },
  {
   "attachments": {},
   "cell_type": "markdown",
   "metadata": {},
   "source": [
    "# 3. Evaluation"
   ]
  },
  {
   "cell_type": "code",
   "execution_count": 7,
   "metadata": {},
   "outputs": [],
   "source": [
    "evaluation_data = list(zip(filtered_gender_df['Gender'],filtered_gender_df['predictions']))"
   ]
  },
  {
   "cell_type": "code",
   "execution_count": 8,
   "metadata": {},
   "outputs": [
    {
     "data": {
      "text/plain": [
       "{'Version': 'Gender_Classifier_preds_0404_2134',\n",
       " 'Male Accuracy': 1.0,\n",
       " 'Male Not Found': 0,\n",
       " 'Male False Positive': 0,\n",
       " 'Female Accuracy': 1.0,\n",
       " 'Female Not Found': 0,\n",
       " 'Female False Positive': 0,\n",
       " 'Data Distribution': '10F-10M'}"
      ]
     },
     "execution_count": 8,
     "metadata": {},
     "output_type": "execute_result"
    }
   ],
   "source": [
    "evaluation_result = gender_classifier.gender_metrics(evaluation_data, file_name)\n",
    "evaluation_result"
   ]
  },
  {
   "cell_type": "code",
   "execution_count": 9,
   "metadata": {},
   "outputs": [
    {
     "name": "stdout",
     "output_type": "stream",
     "text": [
      "Results appended to file: eval_results/classifier_eval_result.json\n"
     ]
    }
   ],
   "source": [
    "import json\n",
    "# create folder if it doesn't exist\n",
    "if not os.path.exists('eval_results'):\n",
    "    os.makedirs('eval_results')\n",
    "    \n",
    "# write result to JSON file\n",
    "with open('eval_results/classifier_eval_result.json', 'a') as f:\n",
    "    json.dump(evaluation_result, f)\n",
    "    print(\"Results appended to file: eval_results/classifier_eval_result.json\")"
   ]
  }
 ],
 "metadata": {
  "kernelspec": {
   "display_name": "Python 3",
   "language": "python",
   "name": "python3"
  },
  "language_info": {
   "codemirror_mode": {
    "name": "ipython",
    "version": 3
   },
   "file_extension": ".py",
   "mimetype": "text/x-python",
   "name": "python",
   "nbconvert_exporter": "python",
   "pygments_lexer": "ipython3",
   "version": "3.8.10"
  },
  "orig_nbformat": 4,
  "vscode": {
   "interpreter": {
    "hash": "31f2aee4e71d21fbe5cf8b01ff0e069b9275f58929596ceb00d14d90e3e16cd6"
   }
  }
 },
 "nbformat": 4,
 "nbformat_minor": 2
}

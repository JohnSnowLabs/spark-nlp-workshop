{
 "cells": [
  {
   "attachments": {},
   "cell_type": "markdown",
   "metadata": {},
   "source": [
    "# 1. ADE Classifier"
   ]
  },
  {
   "attachments": {},
   "cell_type": "markdown",
   "metadata": {},
   "source": [
    "## 1.1 Load Datasets"
   ]
  },
  {
   "cell_type": "code",
   "execution_count": 1,
   "metadata": {},
   "outputs": [],
   "source": [
    "import os\n",
    "import pandas as pd"
   ]
  },
  {
   "cell_type": "code",
   "execution_count": 2,
   "metadata": {},
   "outputs": [
    {
     "name": "stdout",
     "output_type": "stream",
     "text": [
      "Raw data path: ../data/DRUG-AE.rel\n"
     ]
    },
    {
     "data": {
      "text/html": [
       "<div>\n",
       "<style scoped>\n",
       "    .dataframe tbody tr th:only-of-type {\n",
       "        vertical-align: middle;\n",
       "    }\n",
       "\n",
       "    .dataframe tbody tr th {\n",
       "        vertical-align: top;\n",
       "    }\n",
       "\n",
       "    .dataframe thead th {\n",
       "        text-align: right;\n",
       "    }\n",
       "</style>\n",
       "<table border=\"1\" class=\"dataframe\">\n",
       "  <thead>\n",
       "    <tr style=\"text-align: right;\">\n",
       "      <th></th>\n",
       "      <th>description</th>\n",
       "      <th>category</th>\n",
       "    </tr>\n",
       "  </thead>\n",
       "  <tbody>\n",
       "    <tr>\n",
       "      <th>0</th>\n",
       "      <td>He was started on digoxin, 0.25 mg daily, beca...</td>\n",
       "      <td>POSITIVE</td>\n",
       "    </tr>\n",
       "    <tr>\n",
       "      <th>1</th>\n",
       "      <td>The latter form (Macrodantin) is reported to e...</td>\n",
       "      <td>POSITIVE</td>\n",
       "    </tr>\n",
       "    <tr>\n",
       "      <th>2</th>\n",
       "      <td>A patient with rheumatoid arthritis developed ...</td>\n",
       "      <td>POSITIVE</td>\n",
       "    </tr>\n",
       "    <tr>\n",
       "      <th>3</th>\n",
       "      <td>A wide variety of adverse central nervous syst...</td>\n",
       "      <td>POSITIVE</td>\n",
       "    </tr>\n",
       "    <tr>\n",
       "      <th>4</th>\n",
       "      <td>CONCLUSIONS: We report this case of the concom...</td>\n",
       "      <td>POSITIVE</td>\n",
       "    </tr>\n",
       "  </tbody>\n",
       "</table>\n",
       "</div>"
      ],
      "text/plain": [
       "                                         description  category\n",
       "0  He was started on digoxin, 0.25 mg daily, beca...  POSITIVE\n",
       "1  The latter form (Macrodantin) is reported to e...  POSITIVE\n",
       "2  A patient with rheumatoid arthritis developed ...  POSITIVE\n",
       "3  A wide variety of adverse central nervous syst...  POSITIVE\n",
       "4  CONCLUSIONS: We report this case of the concom...  POSITIVE"
      ]
     },
     "execution_count": 2,
     "metadata": {},
     "output_type": "execute_result"
    }
   ],
   "source": [
    "# ADE Positive Dataset\n",
    "\n",
    "file_name = 'DRUG-AE.rel'\n",
    "data_path = os.path.join('..', 'data', file_name)\n",
    "print(\"Raw data path:\", data_path)\n",
    "\n",
    "df = pd.read_csv(data_path, header=None, delimiter=\"|\")\n",
    "df = df.sample(frac=1).reset_index(drop=True)\n",
    "# Drop duplicates, if any\n",
    "df = df.drop_duplicates()\n",
    "df[[\"category\"]]= \"POSITIVE\"\n",
    "df.rename(columns={1: \"description\"}, inplace=True)\n",
    "df = df[[\"description\", \"category\"]]\n",
    "df_pos = df.copy()\n",
    "df_pos.head(5)"
   ]
  },
  {
   "cell_type": "code",
   "execution_count": 3,
   "metadata": {},
   "outputs": [
    {
     "name": "stdout",
     "output_type": "stream",
     "text": [
      "Raw data path: ../data/ADE-NEG.txt\n",
      "(16688, 2)\n"
     ]
    },
    {
     "data": {
      "text/html": [
       "<div>\n",
       "<style scoped>\n",
       "    .dataframe tbody tr th:only-of-type {\n",
       "        vertical-align: middle;\n",
       "    }\n",
       "\n",
       "    .dataframe tbody tr th {\n",
       "        vertical-align: top;\n",
       "    }\n",
       "\n",
       "    .dataframe thead th {\n",
       "        text-align: right;\n",
       "    }\n",
       "</style>\n",
       "<table border=\"1\" class=\"dataframe\">\n",
       "  <thead>\n",
       "    <tr style=\"text-align: right;\">\n",
       "      <th></th>\n",
       "      <th>description</th>\n",
       "      <th>category</th>\n",
       "    </tr>\n",
       "  </thead>\n",
       "  <tbody>\n",
       "    <tr>\n",
       "      <th>0</th>\n",
       "      <td>After clonidine was initiated, the patient's ...</td>\n",
       "      <td>NEGATIVE</td>\n",
       "    </tr>\n",
       "    <tr>\n",
       "      <th>1</th>\n",
       "      <td>Despite maximal anti-glaucomatous medication,...</td>\n",
       "      <td>NEGATIVE</td>\n",
       "    </tr>\n",
       "    <tr>\n",
       "      <th>2</th>\n",
       "      <td>METHODS: We present the clinical findings, pe...</td>\n",
       "      <td>NEGATIVE</td>\n",
       "    </tr>\n",
       "    <tr>\n",
       "      <th>3</th>\n",
       "      <td>Plasma drug concentrations were largely kept ...</td>\n",
       "      <td>NEGATIVE</td>\n",
       "    </tr>\n",
       "    <tr>\n",
       "      <th>4</th>\n",
       "      <td>A 51-year-old male with a huge chondrosarcoma...</td>\n",
       "      <td>NEGATIVE</td>\n",
       "    </tr>\n",
       "  </tbody>\n",
       "</table>\n",
       "</div>"
      ],
      "text/plain": [
       "                                         description  category\n",
       "0   After clonidine was initiated, the patient's ...  NEGATIVE\n",
       "1   Despite maximal anti-glaucomatous medication,...  NEGATIVE\n",
       "2   METHODS: We present the clinical findings, pe...  NEGATIVE\n",
       "3   Plasma drug concentrations were largely kept ...  NEGATIVE\n",
       "4   A 51-year-old male with a huge chondrosarcoma...  NEGATIVE"
      ]
     },
     "execution_count": 3,
     "metadata": {},
     "output_type": "execute_result"
    }
   ],
   "source": [
    "# ADE Negative Dataset\n",
    "\n",
    "file_name = 'ADE-NEG.txt'\n",
    "data_path = os.path.join('..', 'data', file_name)\n",
    "print(\"Raw data path:\", data_path)\n",
    "\n",
    "df = pd.read_csv(data_path, header=None, delimiter=\"\\t\", names=[\"col1\"])\n",
    "df = df.sample(frac=1).reset_index(drop=True)\n",
    "# Drop duplicates, if any\n",
    "df = df.drop_duplicates()\n",
    "df['description'] =  df.col1.str.split('NEG').str[1]\n",
    "df[\"category\"] = \"NEGATIVE\"\n",
    "df= df[[\"description\", \"category\"]]\n",
    "df_neg = df.copy()\n",
    "print(df_neg.shape)\n",
    "df_neg.head()\n",
    "\n"
   ]
  },
  {
   "attachments": {},
   "cell_type": "markdown",
   "metadata": {},
   "source": [
    "## 1.2. Prepare Dataset"
   ]
  },
  {
   "cell_type": "code",
   "execution_count": 10,
   "metadata": {},
   "outputs": [
    {
     "data": {
      "text/html": [
       "<div>\n",
       "<style scoped>\n",
       "    .dataframe tbody tr th:only-of-type {\n",
       "        vertical-align: middle;\n",
       "    }\n",
       "\n",
       "    .dataframe tbody tr th {\n",
       "        vertical-align: top;\n",
       "    }\n",
       "\n",
       "    .dataframe thead th {\n",
       "        text-align: right;\n",
       "    }\n",
       "</style>\n",
       "<table border=\"1\" class=\"dataframe\">\n",
       "  <thead>\n",
       "    <tr style=\"text-align: right;\">\n",
       "      <th></th>\n",
       "      <th>description</th>\n",
       "      <th>category</th>\n",
       "      <th>predictions</th>\n",
       "    </tr>\n",
       "  </thead>\n",
       "  <tbody>\n",
       "    <tr>\n",
       "      <th>3354</th>\n",
       "      <td>Visual hallucinations associated with zonisamide.</td>\n",
       "      <td>POSITIVE</td>\n",
       "      <td>NA</td>\n",
       "    </tr>\n",
       "    <tr>\n",
       "      <th>736</th>\n",
       "      <td>These cases suggest the possibility that, in s...</td>\n",
       "      <td>POSITIVE</td>\n",
       "      <td>NA</td>\n",
       "    </tr>\n",
       "    <tr>\n",
       "      <th>2582</th>\n",
       "      <td>In this case, discontinuing piroxicam, a nonst...</td>\n",
       "      <td>POSITIVE</td>\n",
       "      <td>NA</td>\n",
       "    </tr>\n",
       "    <tr>\n",
       "      <th>8768</th>\n",
       "      <td>Inflammatory myopathy has been associated wit...</td>\n",
       "      <td>NEGATIVE</td>\n",
       "      <td>NA</td>\n",
       "    </tr>\n",
       "  </tbody>\n",
       "</table>\n",
       "</div>"
      ],
      "text/plain": [
       "                                            description  category predictions\n",
       "3354  Visual hallucinations associated with zonisamide.  POSITIVE          NA\n",
       "736   These cases suggest the possibility that, in s...  POSITIVE          NA\n",
       "2582  In this case, discontinuing piroxicam, a nonst...  POSITIVE          NA\n",
       "8768   Inflammatory myopathy has been associated wit...  NEGATIVE          NA"
      ]
     },
     "execution_count": 10,
     "metadata": {},
     "output_type": "execute_result"
    }
   ],
   "source": [
    "# Select x samples from positive and negative dataset\n",
    "number_of_samples = 20\n",
    "df_1 = df_neg.sample(number_of_samples)\n",
    "df_2 = df_pos.sample(number_of_samples)\n",
    "ade_df = pd.concat([df_1, df_2])\n",
    "ade_df.loc[:, 'predictions'] = [\"NA\" for _ in range(len(ade_df))]\n",
    "ade_df.sample(4)"
   ]
  },
  {
   "attachments": {},
   "cell_type": "markdown",
   "metadata": {},
   "source": [
    "# 2. GPT Predictions "
   ]
  },
  {
   "attachments": {},
   "cell_type": "markdown",
   "metadata": {},
   "source": [
    "## 2.1 Load Prompt and Initiate Classifier"
   ]
  },
  {
   "cell_type": "code",
   "execution_count": 11,
   "metadata": {},
   "outputs": [],
   "source": [
    "from modules import GPTClassifier "
   ]
  },
  {
   "cell_type": "code",
   "execution_count": 12,
   "metadata": {},
   "outputs": [
    {
     "name": "stdout",
     "output_type": "stream",
     "text": [
      "Prompt for [Gender Classification] task: (./prompts/10_01_ADE_Classifier.txt)\n",
      "PROMPT:\n",
      "\n",
      "You are a highly experienced, skilled and helpful medical annotator who have been working on medical and clinical texts.\n",
      "\n",
      "An adverse drug event (ADE) refers to any harm or negative reaction that occurs due to the use of a medication, regardless of whether it is caused by a mistake or error in use.\n",
      "\n",
      "I will provide you a clinical texts related to possible Adverse Drug Events (ADE) and you will classify them as ADE POSITIVE or ADE NEGATIVE\n",
      "\n",
      "\n",
      "\n",
      "Example ADE NEGATIVE Sentences:\n",
      "\n",
      "\n",
      "\n",
      "    A 42-year-old woman had uneventful bilateral laser-assisted subepithelial keratectomy (LASEK) to correct myopia.\n",
      "\n",
      "    We present a case report of a cytomegalovirus (CMV)-seronegative, 58-year-old male who received a CMV-seropositive donor liver transplant without CMV prophylaxis.\n",
      "\n",
      "    His dibucaine number was 21, and the Michaelis constant was 5.5 times that of normal sera.\n",
      "\n",
      "    Medical treatment of a grossly enlarged adenomyotic uterus with the levonorgestrel-releasing intrauterine system.\n",
      "\n",
      "    This is the first described case of acute gouty arthritis after RFA for a HCC lesion in a patient with underlying chronic renal insufficiency.\n",
      "\n",
      "\n",
      "\n",
      "Example ADE POSITIVE Sentences:\n",
      "\n",
      "\n",
      "\n",
      "    In one case, the readministration of riluzole was followed by the relapse of hepatitis.\n",
      "\n",
      "    Hypersensitivity to aspirin can be manifested as acute asthma, urticaria and/or angioedema, or a systemic anaphylactoid reaction.\n",
      "\n",
      "    We report a case of acute hyperphosphatemia secondary to rectal administration of sodium phosphate and sodium biphosphate (Fleet enema).\n",
      "\n",
      "    A review of the literature revealed two other cases of hepatic angiosarcoma in patients after long-term cyclophosphamide treatment.\n",
      "\n",
      "    We report a patient with pulmonary adenocarcinoma complicated by the syndrome of inappropriate secretion of antidiuretic hormone (SIADH) following systemic chemotherapy with cisplatin (CDDP) and vindesine (VDS).\n",
      "\n",
      "\n",
      "\n",
      "Task :\n",
      "\n",
      "\n",
      "\n",
      "Now I want you to classify ADE in given sentence, please return the answer short and precise as one of these two responses without any other words or explanations: 'POSITIVE', 'NEGATIVE'\n",
      "\n"
     ]
    }
   ],
   "source": [
    "prompt_file = \"10_01_ADE_Classifier.txt\"\n",
    "\n",
    "prompt_file_path = os.path.join('.', 'prompts', prompt_file)\n",
    "print(f\"Prompt for [Gender Classification] task: ({prompt_file_path})\")\n",
    "\n",
    "with open(prompt_file_path, 'r') as file:\n",
    "    print(\"PROMPT:\\n\")\n",
    "    for line in file:\n",
    "        print(line)\n",
    "        \n",
    "ade_classifier = GPTClassifier.Classifier(prompt_file_path)"
   ]
  },
  {
   "attachments": {},
   "cell_type": "markdown",
   "metadata": {},
   "source": [
    "## 2.2 Get Predictions"
   ]
  },
  {
   "cell_type": "code",
   "execution_count": 13,
   "metadata": {},
   "outputs": [
    {
     "name": "stdout",
     "output_type": "stream",
     "text": [
      "3417 prediction:  NEGATIVE gt:  NEGATIVE\n",
      "12420 prediction:  POSITIVE gt:  NEGATIVE\n",
      "14168 prediction:  NEGATIVE gt:  NEGATIVE\n",
      "8131 prediction:  POSITIVE gt:  NEGATIVE\n",
      "7007 prediction:  POSITIVE gt:  NEGATIVE\n",
      "683 prediction:  POSITIVE gt:  NEGATIVE\n",
      "8768 prediction:  NEGATIVE gt:  NEGATIVE\n",
      "4013 prediction:  POSITIVE gt:  NEGATIVE\n",
      "2054 prediction:  POSITIVE gt:  NEGATIVE\n",
      "15809 prediction:  NEGATIVE gt:  NEGATIVE\n",
      "6850 prediction:  NEGATIVE gt:  NEGATIVE\n",
      "10289 prediction:  POSITIVE gt:  NEGATIVE\n",
      "2302 prediction:  POSITIVE. gt:  NEGATIVE\n",
      "9001 prediction:  POSITIVE gt:  NEGATIVE\n",
      "11004 prediction:  NEGATIVE gt:  NEGATIVE\n",
      "1252 prediction:  NEGATIVE gt:  NEGATIVE\n",
      "9830 prediction:  NEGATIVE gt:  NEGATIVE\n",
      "4057 prediction:  POSITIVE gt:  NEGATIVE\n",
      "8774 prediction:  POSITIVE gt:  NEGATIVE\n",
      "13132 prediction:  POSITIVE gt:  NEGATIVE\n",
      "2582 prediction:  POSITIVE gt:  POSITIVE\n",
      "2878 prediction:  POSITIVE gt:  POSITIVE\n",
      "3354 prediction:  POSITIVE gt:  POSITIVE\n",
      "3080 prediction:  POSITIVE gt:  POSITIVE\n",
      "1603 prediction:  POSITIVE gt:  POSITIVE\n",
      "4386 prediction:  POSITIVE gt:  POSITIVE\n",
      "4857 prediction:  POSITIVE gt:  POSITIVE\n",
      "5927 prediction:  POSITIVE gt:  POSITIVE\n",
      "3635 prediction:  POSITIVE gt:  POSITIVE\n",
      "6698 prediction:  POSITIVE gt:  POSITIVE\n",
      "5916 prediction:  POSITIVE gt:  POSITIVE\n",
      "736 prediction:  POSITIVE. gt:  POSITIVE\n",
      "2081 prediction:  POSITIVE gt:  POSITIVE\n",
      "6310 prediction:  POSITIVE gt:  POSITIVE\n",
      "6155 prediction:  POSITIVE gt:  POSITIVE\n",
      "2020 prediction:  POSITIVE gt:  POSITIVE\n",
      "499 prediction:  POSITIVE gt:  POSITIVE\n",
      "5918 prediction:  POSITIVE gt:  POSITIVE\n",
      "5697 prediction:  POSITIVE gt:  POSITIVE\n",
      "4467 prediction:  POSITIVE gt:  POSITIVE\n"
     ]
    }
   ],
   "source": [
    "import datetime\n",
    "\n",
    "# Assing auto name to save prediction data as csv and excel\n",
    "now = datetime.datetime.now()\n",
    "file_name = f\"ADE_Classifier_preds_{now.strftime('%m%d_%H%M')}\"\n",
    "processed_data_path = os.path.join('.', 'processed_data', file_name)\n",
    "\n",
    "for idx, row in ade_df.iterrows():\n",
    "    sentence = row['description']\n",
    "    result = ade_classifier.do_query(sentence)\n",
    "    predicted_ade = result['choices'][0]['message']['content']\n",
    "    ade_df.at[idx, \"predictions\"] = ade_classifier.ade_fix_output_typo(predicted_ade)\n",
    "    print(idx, \"prediction: \", predicted_ade, \"gt: \", row[\"category\"])\n",
    "    \n",
    "ade_df.to_csv(processed_data_path)"
   ]
  },
  {
   "attachments": {},
   "cell_type": "markdown",
   "metadata": {},
   "source": [
    "# 3. Evaluation"
   ]
  },
  {
   "cell_type": "code",
   "execution_count": 14,
   "metadata": {},
   "outputs": [],
   "source": [
    "evaluation_data = list(zip(ade_df['category'],ade_df['predictions']))"
   ]
  },
  {
   "cell_type": "code",
   "execution_count": 15,
   "metadata": {},
   "outputs": [
    {
     "data": {
      "text/plain": [
       "{'Version': 'ADE_Classifier_preds_0404_2132',\n",
       " 'Positive Accuracy': 1.0,\n",
       " 'Negative Accuracy': 0.4,\n",
       " 'Positive Not Found': 0,\n",
       " 'Negative Not Found': 0,\n",
       " 'Positive False Positives': 0,\n",
       " 'Negative False Positives': 12}"
      ]
     },
     "execution_count": 15,
     "metadata": {},
     "output_type": "execute_result"
    }
   ],
   "source": [
    "evaluation_result = ade_classifier.ade_metrics(evaluation_data, file_name)\n",
    "evaluation_result"
   ]
  },
  {
   "cell_type": "code",
   "execution_count": 17,
   "metadata": {},
   "outputs": [
    {
     "name": "stdout",
     "output_type": "stream",
     "text": [
      "Results appended to file: eval_results/ade_eval_result.json\n"
     ]
    }
   ],
   "source": [
    "import json\n",
    "# create folder if it doesn't exist\n",
    "if not os.path.exists('eval_results'):\n",
    "    os.makedirs('eval_results')\n",
    "    \n",
    "# write result to JSON file\n",
    "with open('eval_results/ade_eval_result.json', 'a') as f:\n",
    "    json.dump(evaluation_result, f)\n",
    "    print(\"Results appended to file: eval_results/ade_eval_result.json\")"
   ]
  }
 ],
 "metadata": {
  "kernelspec": {
   "display_name": "Python 3",
   "language": "python",
   "name": "python3"
  },
  "language_info": {
   "codemirror_mode": {
    "name": "ipython",
    "version": 3
   },
   "file_extension": ".py",
   "mimetype": "text/x-python",
   "name": "python",
   "nbconvert_exporter": "python",
   "pygments_lexer": "ipython3",
   "version": "3.8.10"
  },
  "orig_nbformat": 4,
  "vscode": {
   "interpreter": {
    "hash": "31f2aee4e71d21fbe5cf8b01ff0e069b9275f58929596ceb00d14d90e3e16cd6"
   }
  }
 },
 "nbformat": 4,
 "nbformat_minor": 2
}

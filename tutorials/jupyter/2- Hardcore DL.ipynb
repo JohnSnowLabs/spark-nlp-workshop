{
 "cells": [
  {
   "cell_type": "markdown",
   "metadata": {},
   "source": [
    "![JohnSnowLabs](https://nlp.johnsnowlabs.com/assets/images/logo.png)"
   ]
  },
  {
   "cell_type": "markdown",
   "metadata": {},
   "source": [
    "# Hardcore DL by Spark NLP"
   ]
  },
  {
   "cell_type": "markdown",
   "metadata": {},
   "source": [
    "## Explain Documents with Deep Learning"
   ]
  },
  {
   "cell_type": "code",
   "execution_count": 2,
   "metadata": {},
   "outputs": [],
   "source": [
    "import sys\n",
    "import time\n",
    "\n",
    "#Spark ML and SQL\n",
    "from pyspark.ml import Pipeline, PipelineModel\n",
    "from pyspark.sql.functions import array_contains\n",
    "from pyspark.sql import SparkSession\n",
    "from pyspark.sql.types import StructType, StructField, IntegerType, StringType\n",
    "#Spark NLP\n",
    "import sparknlp\n",
    "from sparknlp.pretrained import PretrainedPipeline\n",
    "from sparknlp.annotator import *\n",
    "from sparknlp.common import RegexRule\n",
    "from sparknlp.base import *"
   ]
  },
  {
   "cell_type": "markdown",
   "metadata": {},
   "source": [
    "### Let's create a Spark Session for our app"
   ]
  },
  {
   "cell_type": "markdown",
   "metadata": {},
   "source": [
    "Let's take a look at what's behind `sparknlp.start()` function:"
   ]
  },
  {
   "cell_type": "code",
   "execution_count": 3,
   "metadata": {},
   "outputs": [
    {
     "name": "stdout",
     "output_type": "stream",
     "text": [
      "Spark NLP version:  2.4.0\n",
      "Apache Spark version:  2.4.4\n"
     ]
    }
   ],
   "source": [
    "spark = sparknlp.start()\n",
    "\n",
    "print(\"Spark NLP version: \", sparknlp.version())\n",
    "print(\"Apache Spark version: \", spark.version)"
   ]
  },
  {
   "cell_type": "code",
   "execution_count": 4,
   "metadata": {},
   "outputs": [
    {
     "name": "stdout",
     "output_type": "stream",
     "text": [
      "explain_document_dl download started this may take some time.\n",
      "Approx size to download 168.4 MB\n",
      "[OK!]\n"
     ]
    }
   ],
   "source": [
    "pipeline = PretrainedPipeline('explain_document_dl', lang='en')"
   ]
  },
  {
   "cell_type": "markdown",
   "metadata": {},
   "source": [
    "We simply send the text we want to transform and the pipeline does the work."
   ]
  },
  {
   "cell_type": "code",
   "execution_count": 5,
   "metadata": {},
   "outputs": [],
   "source": [
    "text = 'He would love to visit many beautful cities wth you. He lives in an amazing country like Germany or Pakistan.'\n",
    "result = pipeline.annotate(text)"
   ]
  },
  {
   "cell_type": "markdown",
   "metadata": {},
   "source": [
    "We can see the output of each annotator below. This one is doing so many things at once!"
   ]
  },
  {
   "cell_type": "code",
   "execution_count": 6,
   "metadata": {},
   "outputs": [
    {
     "data": {
      "text/plain": [
       "['entities',\n",
       " 'stem',\n",
       " 'checked',\n",
       " 'lemma',\n",
       " 'document',\n",
       " 'pos',\n",
       " 'token',\n",
       " 'ner',\n",
       " 'embeddings',\n",
       " 'sentence']"
      ]
     },
     "execution_count": 6,
     "metadata": {},
     "output_type": "execute_result"
    }
   ],
   "source": [
    "list(result.keys())"
   ]
  },
  {
   "cell_type": "code",
   "execution_count": 7,
   "metadata": {
    "scrolled": true
   },
   "outputs": [
    {
     "data": {
      "text/plain": [
       "['He would love to visit many beautful cities wth you.',\n",
       " 'He lives in an amazing country like Germany.']"
      ]
     },
     "execution_count": 7,
     "metadata": {},
     "output_type": "execute_result"
    }
   ],
   "source": [
    "result['sentence']"
   ]
  },
  {
   "cell_type": "code",
   "execution_count": 11,
   "metadata": {
    "scrolled": true
   },
   "outputs": [
    {
     "data": {
      "text/plain": [
       "['He',\n",
       " 'would',\n",
       " 'love',\n",
       " 'to',\n",
       " 'visit',\n",
       " 'many',\n",
       " 'beautiful',\n",
       " 'city',\n",
       " 'wth',\n",
       " 'you',\n",
       " '.',\n",
       " 'He',\n",
       " 'life',\n",
       " 'in',\n",
       " 'an',\n",
       " 'amazing',\n",
       " 'country',\n",
       " 'like',\n",
       " 'Germany',\n",
       " '.']"
      ]
     },
     "execution_count": 11,
     "metadata": {},
     "output_type": "execute_result"
    }
   ],
   "source": [
    "result['lemma']"
   ]
  },
  {
   "cell_type": "code",
   "execution_count": 9,
   "metadata": {},
   "outputs": [
    {
     "data": {
      "text/plain": [
       "[('He', 'PRP'),\n",
       " ('would', 'MD'),\n",
       " ('love', 'VB'),\n",
       " ('to', 'TO'),\n",
       " ('visit', 'VB'),\n",
       " ('many', 'JJ'),\n",
       " ('beautiful', 'JJ'),\n",
       " ('cities', 'NNS'),\n",
       " ('wth', 'NN'),\n",
       " ('you', 'PRP'),\n",
       " ('.', '.'),\n",
       " ('He', 'PRP'),\n",
       " ('lives', 'VBZ'),\n",
       " ('in', 'IN'),\n",
       " ('an', 'DT'),\n",
       " ('amazing', 'JJ'),\n",
       " ('country', 'NN'),\n",
       " ('like', 'IN'),\n",
       " ('Germany', 'NNP'),\n",
       " ('.', '.')]"
      ]
     },
     "execution_count": 9,
     "metadata": {},
     "output_type": "execute_result"
    }
   ],
   "source": [
    "list(zip(result['checked'], result['pos']))"
   ]
  },
  {
   "cell_type": "code",
   "execution_count": 10,
   "metadata": {},
   "outputs": [
    {
     "data": {
      "text/plain": [
       "{'entities': ['Germany'],\n",
       " 'stem': ['he',\n",
       "  'would',\n",
       "  'love',\n",
       "  'to',\n",
       "  'visit',\n",
       "  'mani',\n",
       "  'beauti',\n",
       "  'citi',\n",
       "  'wth',\n",
       "  'you',\n",
       "  '.',\n",
       "  'he',\n",
       "  'live',\n",
       "  'in',\n",
       "  'an',\n",
       "  'amaz',\n",
       "  'countri',\n",
       "  'like',\n",
       "  'germani',\n",
       "  '.'],\n",
       " 'checked': ['He',\n",
       "  'would',\n",
       "  'love',\n",
       "  'to',\n",
       "  'visit',\n",
       "  'many',\n",
       "  'beautiful',\n",
       "  'cities',\n",
       "  'wth',\n",
       "  'you',\n",
       "  '.',\n",
       "  'He',\n",
       "  'lives',\n",
       "  'in',\n",
       "  'an',\n",
       "  'amazing',\n",
       "  'country',\n",
       "  'like',\n",
       "  'Germany',\n",
       "  '.'],\n",
       " 'lemma': ['He',\n",
       "  'would',\n",
       "  'love',\n",
       "  'to',\n",
       "  'visit',\n",
       "  'many',\n",
       "  'beautiful',\n",
       "  'city',\n",
       "  'wth',\n",
       "  'you',\n",
       "  '.',\n",
       "  'He',\n",
       "  'life',\n",
       "  'in',\n",
       "  'an',\n",
       "  'amazing',\n",
       "  'country',\n",
       "  'like',\n",
       "  'Germany',\n",
       "  '.'],\n",
       " 'document': ['He would love to visit many beautful cities wth you. He lives in an amazing country like Germany.'],\n",
       " 'pos': ['PRP',\n",
       "  'MD',\n",
       "  'VB',\n",
       "  'TO',\n",
       "  'VB',\n",
       "  'JJ',\n",
       "  'JJ',\n",
       "  'NNS',\n",
       "  'NN',\n",
       "  'PRP',\n",
       "  '.',\n",
       "  'PRP',\n",
       "  'VBZ',\n",
       "  'IN',\n",
       "  'DT',\n",
       "  'JJ',\n",
       "  'NN',\n",
       "  'IN',\n",
       "  'NNP',\n",
       "  '.'],\n",
       " 'token': ['He',\n",
       "  'would',\n",
       "  'love',\n",
       "  'to',\n",
       "  'visit',\n",
       "  'many',\n",
       "  'beautful',\n",
       "  'cities',\n",
       "  'wth',\n",
       "  'you',\n",
       "  '.',\n",
       "  'He',\n",
       "  'lives',\n",
       "  'in',\n",
       "  'an',\n",
       "  'amazing',\n",
       "  'country',\n",
       "  'like',\n",
       "  'Germany',\n",
       "  '.'],\n",
       " 'ner': ['O',\n",
       "  'O',\n",
       "  'O',\n",
       "  'O',\n",
       "  'O',\n",
       "  'O',\n",
       "  'O',\n",
       "  'O',\n",
       "  'O',\n",
       "  'O',\n",
       "  'O',\n",
       "  'O',\n",
       "  'O',\n",
       "  'O',\n",
       "  'O',\n",
       "  'O',\n",
       "  'O',\n",
       "  'O',\n",
       "  'I-LOC',\n",
       "  'O'],\n",
       " 'embeddings': ['He',\n",
       "  'would',\n",
       "  'love',\n",
       "  'to',\n",
       "  'visit',\n",
       "  'many',\n",
       "  'beautful',\n",
       "  'cities',\n",
       "  'wth',\n",
       "  'you',\n",
       "  '.',\n",
       "  'He',\n",
       "  'lives',\n",
       "  'in',\n",
       "  'an',\n",
       "  'amazing',\n",
       "  'country',\n",
       "  'like',\n",
       "  'Germany',\n",
       "  '.'],\n",
       " 'sentence': ['He would love to visit many beautful cities wth you.',\n",
       "  'He lives in an amazing country like Germany.']}"
      ]
     },
     "execution_count": 10,
     "metadata": {},
     "output_type": "execute_result"
    }
   ],
   "source": [
    "result"
   ]
  }
 ],
 "metadata": {
  "kernelspec": {
   "display_name": "Python 3",
   "language": "python",
   "name": "python3"
  },
  "language_info": {
   "codemirror_mode": {
    "name": "ipython",
    "version": 3
   },
   "file_extension": ".py",
   "mimetype": "text/x-python",
   "name": "python",
   "nbconvert_exporter": "python",
   "pygments_lexer": "ipython3",
   "version": "3.7.6"
  }
 },
 "nbformat": 4,
 "nbformat_minor": 4
}

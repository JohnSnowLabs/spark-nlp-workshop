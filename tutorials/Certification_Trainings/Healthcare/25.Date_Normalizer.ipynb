{
  "nbformat": 4,
  "nbformat_minor": 0,
  "metadata": {
    "colab": {
      "name": "25.Date_Normalizer.ipynb",
      "provenance": [],
      "collapsed_sections": [],
      "toc_visible": true
    },
    "kernelspec": {
      "display_name": "Python 3",
      "language": "python",
      "name": "python3"
    },
    "language_info": {
      "codemirror_mode": {
        "name": "ipython",
        "version": 3
      },
      "file_extension": ".py",
      "mimetype": "text/x-python",
      "name": "python",
      "nbconvert_exporter": "python",
      "pygments_lexer": "ipython3",
      "version": "3.7.6"
    }
  },
  "cells": [
    {
      "cell_type": "markdown",
      "metadata": {
        "id": "I08sFJYCxR0Z"
      },
      "source": [
        "![JohnSnowLabs](https://nlp.johnsnowlabs.com/assets/images/logo.png)"
      ]
    },
    {
      "cell_type": "markdown",
      "metadata": {
        "id": "LKI5K1wQrSe9"
      },
      "source": [
        "[![Open In Colab](https://colab.research.google.com/assets/colab-badge.svg)](https://colab.research.google.com/github/JohnSnowLabs/spark-nlp-workshop/blob/master/tutorials/Certification_Trainings/Healthcare/25.Date_Normalizer.ipynb)"
      ]
    },
    {
      "cell_type": "markdown",
      "metadata": {
        "id": "okhT7AcXxben"
      },
      "source": [
        "## Colab Setup"
      ]
    },
    {
      "cell_type": "code",
      "metadata": {
        "id": "I8Ytt2LLp2rj"
      },
      "source": [
        "import json, os\n",
        "from google.colab import files\n",
        "\n",
        "license_keys = files.upload()\n",
        "\n",
        "with open(list(license_keys.keys())[0]) as f:\n",
        "    license_keys = json.load(f)\n",
        "\n",
        "# Defining license key-value pairs as local variables\n",
        "locals().update(license_keys)\n",
        "\n",
        "# Adding license key-value pairs to environment variables\n",
        "os.environ.update(license_keys)"
      ],
      "execution_count": null,
      "outputs": []
    },
    {
      "cell_type": "code",
      "metadata": {
        "id": "9-PzVG9KYfxa"
      },
      "source": [
        "# Installing pyspark and spark-nlp\n",
        "! pip install --upgrade -q pyspark==3.1.2 spark-nlp==$PUBLIC_VERSION\n",
        "\n",
        "# Installing Spark NLP Healthcare\n",
        "! pip install --upgrade -q spark-nlp-jsl==$JSL_VERSION  --extra-index-url https://pypi.johnsnowlabs.com/$SECRET"
      ],
      "execution_count": null,
      "outputs": []
    },
    {
      "cell_type": "code",
      "metadata": {
        "id": "VtLIEJtPf88T"
      },
      "source": [
        "\n",
        "import json\n",
        "import os\n",
        "from pyspark.ml import Pipeline, PipelineModel\n",
        "from pyspark.sql import SparkSession\n",
        "\n",
        "from sparknlp.annotator import *\n",
        "from sparknlp_jsl.annotator import *\n",
        "from sparknlp.base import *\n",
        "import sparknlp_jsl\n",
        "import sparknlp\n",
        "\n",
        "from sparknlp.util import *\n",
        "from sparknlp.pretrained import ResourceDownloader\n",
        "from pyspark.sql import functions as F\n",
        "\n",
        "import pandas as pd"
      ],
      "execution_count": null,
      "outputs": []
    },
    {
      "cell_type": "code",
      "metadata": {
        "id": "GQQkrnRoApmw"
      },
      "source": [
        "spark = sparknlp_jsl.start(license_keys['SECRET'])"
      ],
      "execution_count": null,
      "outputs": []
    },
    {
      "cell_type": "code",
      "metadata": {
        "colab": {
          "base_uri": "https://localhost:8080/",
          "height": 208
        },
        "id": "Qwi67EWT1eLd",
        "outputId": "bd26486d-51de-43b7-e492-3dac853327f7"
      },
      "source": [
        "spark"
      ],
      "execution_count": null,
      "outputs": [
        {
          "output_type": "execute_result",
          "data": {
            "text/html": [
              "\n",
              "            <div>\n",
              "                <p><b>SparkSession - in-memory</b></p>\n",
              "                \n",
              "        <div>\n",
              "            <p><b>SparkContext</b></p>\n",
              "\n",
              "            <p><a href=\"http://e7fe3f070823:4040\">Spark UI</a></p>\n",
              "\n",
              "            <dl>\n",
              "              <dt>Version</dt>\n",
              "                <dd><code>v3.1.2</code></dd>\n",
              "              <dt>Master</dt>\n",
              "                <dd><code>local[*]</code></dd>\n",
              "              <dt>AppName</dt>\n",
              "                <dd><code>Spark NLP Licensed</code></dd>\n",
              "            </dl>\n",
              "        </div>\n",
              "        \n",
              "            </div>\n",
              "        "
            ],
            "text/plain": [
              "<pyspark.sql.session.SparkSession at 0x7f8e32e0d750>"
            ]
          },
          "metadata": {},
          "execution_count": 5
        }
      ]
    },
    {
      "cell_type": "markdown",
      "metadata": {
        "id": "kqlcNe7FJr31"
      },
      "source": [
        "# **Date Normalizer**\n",
        "\n",
        "New Annotator that transforms chunks Dates to a normalized Date with format YYYY/MM/DD. This annotator identifies dates in chunk annotations and transforms those dates to the format YYYY/MM/DD. \n",
        "\n"
      ]
    },
    {
      "cell_type": "markdown",
      "metadata": {
        "id": "YPvA603jL3TV"
      },
      "source": [
        "We going to create a chunks dates with different formats:"
      ]
    },
    {
      "cell_type": "code",
      "metadata": {
        "id": "Cnf_s2yFLpXC"
      },
      "source": [
        "dates = [\n",
        "'08/02/2018',\n",
        "'11/2018',\n",
        "'11/01/2018',\n",
        "'12Mar2021',\n",
        "'Jan 30, 2018',\n",
        "'13.04.1999', \n",
        "'3April 2020',\n",
        "'next monday',\n",
        "'today',\n",
        "'next week'\n",
        "]\n",
        "\n"
      ],
      "execution_count": null,
      "outputs": []
    },
    {
      "cell_type": "code",
      "metadata": {
        "id": "SW-ND2BjONF_"
      },
      "source": [
        "from pyspark.sql.types import StringType\n",
        "df_dates = spark.createDataFrame(dates,StringType()).toDF('ner_chunk')"
      ],
      "execution_count": null,
      "outputs": []
    },
    {
      "cell_type": "markdown",
      "metadata": {
        "id": "JiIqDdHDPkQV"
      },
      "source": [
        "We going to transform that text to documents in spark-nlp."
      ]
    },
    {
      "cell_type": "code",
      "metadata": {
        "id": "13wTh48FPcG-"
      },
      "source": [
        "document_assembler = DocumentAssembler().setInputCol('ner_chunk').setOutputCol('document')\n",
        "documents_DF = document_assembler.transform(df_dates)"
      ],
      "execution_count": null,
      "outputs": []
    },
    {
      "cell_type": "markdown",
      "metadata": {
        "id": "VelhLulcPxbx"
      },
      "source": [
        "After that we going to transform that documents to chunks."
      ]
    },
    {
      "cell_type": "code",
      "metadata": {
        "id": "lR6bSlXTPvqK"
      },
      "source": [
        "from sparknlp.functions import map_annotations_col\n",
        "\n",
        "chunks_df = map_annotations_col(documents_DF.select(\"document\",\"ner_chunk\"),\n",
        "                    lambda x: [Annotation('chunk', a.begin, a.end, a.result, a.metadata, a.embeddings) for a in x], \"document\",\n",
        "                    \"chunk_date\", \"chunk\")"
      ],
      "execution_count": null,
      "outputs": []
    },
    {
      "cell_type": "code",
      "metadata": {
        "colab": {
          "base_uri": "https://localhost:8080/"
        },
        "id": "3NqyhuNCQWC2",
        "outputId": "c409f249-115d-440d-a5ce-26d83805e5d3"
      },
      "source": [
        "chunks_df.select('chunk_date').show(truncate=False)"
      ],
      "execution_count": null,
      "outputs": [
        {
          "output_type": "stream",
          "name": "stdout",
          "text": [
            "+---------------------------------------------------+\n",
            "|chunk_date                                         |\n",
            "+---------------------------------------------------+\n",
            "|[{chunk, 0, 9, 08/02/2018, {sentence -> 0}, []}]   |\n",
            "|[{chunk, 0, 6, 11/2018, {sentence -> 0}, []}]      |\n",
            "|[{chunk, 0, 9, 11/01/2018, {sentence -> 0}, []}]   |\n",
            "|[{chunk, 0, 8, 12Mar2021, {sentence -> 0}, []}]    |\n",
            "|[{chunk, 0, 11, Jan 30, 2018, {sentence -> 0}, []}]|\n",
            "|[{chunk, 0, 9, 13.04.1999, {sentence -> 0}, []}]   |\n",
            "|[{chunk, 0, 10, 3April 2020, {sentence -> 0}, []}] |\n",
            "|[{chunk, 0, 10, next monday, {sentence -> 0}, []}] |\n",
            "|[{chunk, 0, 4, today, {sentence -> 0}, []}]        |\n",
            "|[{chunk, 0, 8, next week, {sentence -> 0}, []}]    |\n",
            "+---------------------------------------------------+\n",
            "\n"
          ]
        }
      ]
    },
    {
      "cell_type": "markdown",
      "metadata": {
        "id": "iE1wA-Y1QyeI"
      },
      "source": [
        "Now we going to normalize that chunks using the DateNormalizer."
      ]
    },
    {
      "cell_type": "code",
      "metadata": {
        "id": "k9E0T8mjQo0Y"
      },
      "source": [
        "date_normalizer = DateNormalizer().setInputCols('chunk_date').setOutputCol('date')"
      ],
      "execution_count": null,
      "outputs": []
    },
    {
      "cell_type": "code",
      "metadata": {
        "id": "JVX_QlglR9yR"
      },
      "source": [
        "date_normaliced_df = date_normalizer.transform(chunks_df)"
      ],
      "execution_count": null,
      "outputs": []
    },
    {
      "cell_type": "markdown",
      "metadata": {
        "id": "L8IxAZxXRihE"
      },
      "source": [
        "We going to show how the date is normalized."
      ]
    },
    {
      "cell_type": "code",
      "metadata": {
        "colab": {
          "base_uri": "https://localhost:8080/"
        },
        "id": "LB2yoHDqRVy-",
        "outputId": "74d870a3-bc6b-4851-9905-d12431a0b9c0"
      },
      "source": [
        "dateNormalizedClean = date_normaliced_df.selectExpr(\"ner_chunk\",\"date.result as dateresult\",\"date.metadata as metadata\")\n",
        "\n",
        "dateNormalizedClean.withColumn(\"dateresult\", dateNormalizedClean[\"dateresult\"]\n",
        "                               .getItem(0)).withColumn(\"metadata\", dateNormalizedClean[\"metadata\"]\n",
        "                                                       .getItem(0)['normalized']).show(truncate=False)"
      ],
      "execution_count": null,
      "outputs": [
        {
          "output_type": "stream",
          "name": "stdout",
          "text": [
            "+------------+----------+--------+\n",
            "|ner_chunk   |dateresult|metadata|\n",
            "+------------+----------+--------+\n",
            "|08/02/2018  |2018/08/02|true    |\n",
            "|11/2018     |2018/11/DD|true    |\n",
            "|11/01/2018  |2018/11/01|true    |\n",
            "|12Mar2021   |2021/03/12|true    |\n",
            "|Jan 30, 2018|2018/01/30|true    |\n",
            "|13.04.1999  |1999/04/13|true    |\n",
            "|3April 2020 |2020/04/03|true    |\n",
            "|next monday |2021/09/18|true    |\n",
            "|today       |2021/09/17|true    |\n",
            "|next week   |2021/09/24|true    |\n",
            "+------------+----------+--------+\n",
            "\n"
          ]
        }
      ]
    },
    {
      "cell_type": "markdown",
      "metadata": {
        "id": "dwgt4QtgSf6g"
      },
      "source": [
        "We can configure the `anchorDateYear`,`anchorDateMonth` and `anchorDateDay` for the relatives dates."
      ]
    },
    {
      "cell_type": "markdown",
      "metadata": {
        "id": "-WrTv3SLTIe7"
      },
      "source": [
        "In the following example we will use as a relative date 2021/02/22, to make that possible we need to set up the `anchorDateYear` to 2020, the `anchorDateMonth` to 2 and the `anchorDateDay` to 27. I will show you the configuration with the following example."
      ]
    },
    {
      "cell_type": "code",
      "metadata": {
        "id": "zttFZDgJSdZi"
      },
      "source": [
        "date_normalizer = DateNormalizer().setInputCols('chunk_date').setOutputCol('date')\\\n",
        "            .setAnchorDateDay(27)\\\n",
        "            .setAnchorDateMonth(2)\\\n",
        "            .setAnchorDateYear(2021)"
      ],
      "execution_count": null,
      "outputs": []
    },
    {
      "cell_type": "code",
      "metadata": {
        "colab": {
          "base_uri": "https://localhost:8080/"
        },
        "id": "HvBFcvVnUge3",
        "outputId": "b2eb260c-95bd-4791-e2f9-991ec56562c7"
      },
      "source": [
        "date_normaliced_df = date_normalizer.transform(chunks_df)\n",
        "dateNormalizedClean = date_normaliced_df.selectExpr(\"ner_chunk\",\"date.result as dateresult\",\"date.metadata as metadata\")\n",
        "dateNormalizedClean.withColumn(\"dateresult\", dateNormalizedClean[\"dateresult\"]\n",
        "                               .getItem(0)).withColumn(\"metadata\", dateNormalizedClean[\"metadata\"]\n",
        "                                                       .getItem(0)['normalized']).show(truncate=False)\n"
      ],
      "execution_count": null,
      "outputs": [
        {
          "output_type": "stream",
          "name": "stdout",
          "text": [
            "+------------+----------+--------+\n",
            "|ner_chunk   |dateresult|metadata|\n",
            "+------------+----------+--------+\n",
            "|08/02/2018  |2018/08/02|true    |\n",
            "|11/2018     |2018/11/DD|true    |\n",
            "|11/01/2018  |2018/11/01|true    |\n",
            "|12Mar2021   |2021/03/12|true    |\n",
            "|Jan 30, 2018|2018/01/30|true    |\n",
            "|13.04.1999  |1999/04/13|true    |\n",
            "|3April 2020 |2020/04/03|true    |\n",
            "|next monday |2021/02/29|true    |\n",
            "|today       |2021/02/27|true    |\n",
            "|next week   |2021/03/03|true    |\n",
            "+------------+----------+--------+\n",
            "\n"
          ]
        }
      ]
    },
    {
      "cell_type": "markdown",
      "metadata": {
        "id": "HiQke1C2VGuH"
      },
      "source": [
        "As you see the relatives dates like `next monday` , `today` and `next week` takes the `2021/02/22` as reference date.\n"
      ]
    }
  ]
}
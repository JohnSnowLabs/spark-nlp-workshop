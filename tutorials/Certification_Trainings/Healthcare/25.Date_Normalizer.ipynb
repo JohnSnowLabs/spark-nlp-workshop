{
  "nbformat": 4,
  "nbformat_minor": 0,
  "metadata": {
    "colab": {
      "provenance": [],
      "collapsed_sections": []
    },
    "kernelspec": {
      "display_name": "Python 3",
      "language": "python",
      "name": "python3"
    },
    "language_info": {
      "codemirror_mode": {
        "name": "ipython",
        "version": 3
      },
      "file_extension": ".py",
      "mimetype": "text/x-python",
      "name": "python",
      "nbconvert_exporter": "python",
      "pygments_lexer": "ipython3",
      "version": "3.7.6"
    }
  },
  "cells": [
    {
      "cell_type": "markdown",
      "metadata": {
        "id": "I08sFJYCxR0Z"
      },
      "source": [
        "![JohnSnowLabs](https://nlp.johnsnowlabs.com/assets/images/logo.png)"
      ]
    },
    {
      "cell_type": "markdown",
      "metadata": {
        "id": "LKI5K1wQrSe9"
      },
      "source": [
        "[![Open In Colab](https://colab.research.google.com/assets/colab-badge.svg)](https://colab.research.google.com/github/JohnSnowLabs/spark-nlp-workshop/blob/master/tutorials/Certification_Trainings/Healthcare/25.Date_Normalizer.ipynb)"
      ]
    },
    {
      "cell_type": "markdown",
      "source": [
        "# 25. Date Normalizer"
      ],
      "metadata": {
        "id": "YiRjfE_SHmQI"
      }
    },
    {
      "cell_type": "markdown",
      "metadata": {
        "id": "okhT7AcXxben"
      },
      "source": [
        "## Colab Setup"
      ]
    },
    {
      "cell_type": "code",
      "metadata": {
        "id": "I8Ytt2LLp2rj",
        "outputId": "ec2d3c49-f283-424a-9319-d9d0dd4a827e",
        "colab": {
          "base_uri": "https://localhost:8080/",
          "height": 73
        }
      },
      "source": [
        "import json, os\n",
        "from google.colab import files\n",
        "\n",
        "if 'spark_jsl.json' not in os.listdir():\n",
        "  license_keys = files.upload()\n",
        "  os.rename(list(license_keys.keys())[0], 'spark_jsl.json')\n",
        "\n",
        "with open('spark_jsl.json') as f:\n",
        "    license_keys = json.load(f)\n",
        "\n",
        "# Defining license key-value pairs as local variables\n",
        "locals().update(license_keys)\n",
        "os.environ.update(license_keys)"
      ],
      "execution_count": 1,
      "outputs": [
        {
          "output_type": "display_data",
          "data": {
            "text/plain": [
              "<IPython.core.display.HTML object>"
            ],
            "text/html": [
              "\n",
              "     <input type=\"file\" id=\"files-c6c8ba3e-7188-45e8-b1a0-19fc33e35f3b\" name=\"files[]\" multiple disabled\n",
              "        style=\"border:none\" />\n",
              "     <output id=\"result-c6c8ba3e-7188-45e8-b1a0-19fc33e35f3b\">\n",
              "      Upload widget is only available when the cell has been executed in the\n",
              "      current browser session. Please rerun this cell to enable.\n",
              "      </output>\n",
              "      <script>// Copyright 2017 Google LLC\n",
              "//\n",
              "// Licensed under the Apache License, Version 2.0 (the \"License\");\n",
              "// you may not use this file except in compliance with the License.\n",
              "// You may obtain a copy of the License at\n",
              "//\n",
              "//      http://www.apache.org/licenses/LICENSE-2.0\n",
              "//\n",
              "// Unless required by applicable law or agreed to in writing, software\n",
              "// distributed under the License is distributed on an \"AS IS\" BASIS,\n",
              "// WITHOUT WARRANTIES OR CONDITIONS OF ANY KIND, either express or implied.\n",
              "// See the License for the specific language governing permissions and\n",
              "// limitations under the License.\n",
              "\n",
              "/**\n",
              " * @fileoverview Helpers for google.colab Python module.\n",
              " */\n",
              "(function(scope) {\n",
              "function span(text, styleAttributes = {}) {\n",
              "  const element = document.createElement('span');\n",
              "  element.textContent = text;\n",
              "  for (const key of Object.keys(styleAttributes)) {\n",
              "    element.style[key] = styleAttributes[key];\n",
              "  }\n",
              "  return element;\n",
              "}\n",
              "\n",
              "// Max number of bytes which will be uploaded at a time.\n",
              "const MAX_PAYLOAD_SIZE = 100 * 1024;\n",
              "\n",
              "function _uploadFiles(inputId, outputId) {\n",
              "  const steps = uploadFilesStep(inputId, outputId);\n",
              "  const outputElement = document.getElementById(outputId);\n",
              "  // Cache steps on the outputElement to make it available for the next call\n",
              "  // to uploadFilesContinue from Python.\n",
              "  outputElement.steps = steps;\n",
              "\n",
              "  return _uploadFilesContinue(outputId);\n",
              "}\n",
              "\n",
              "// This is roughly an async generator (not supported in the browser yet),\n",
              "// where there are multiple asynchronous steps and the Python side is going\n",
              "// to poll for completion of each step.\n",
              "// This uses a Promise to block the python side on completion of each step,\n",
              "// then passes the result of the previous step as the input to the next step.\n",
              "function _uploadFilesContinue(outputId) {\n",
              "  const outputElement = document.getElementById(outputId);\n",
              "  const steps = outputElement.steps;\n",
              "\n",
              "  const next = steps.next(outputElement.lastPromiseValue);\n",
              "  return Promise.resolve(next.value.promise).then((value) => {\n",
              "    // Cache the last promise value to make it available to the next\n",
              "    // step of the generator.\n",
              "    outputElement.lastPromiseValue = value;\n",
              "    return next.value.response;\n",
              "  });\n",
              "}\n",
              "\n",
              "/**\n",
              " * Generator function which is called between each async step of the upload\n",
              " * process.\n",
              " * @param {string} inputId Element ID of the input file picker element.\n",
              " * @param {string} outputId Element ID of the output display.\n",
              " * @return {!Iterable<!Object>} Iterable of next steps.\n",
              " */\n",
              "function* uploadFilesStep(inputId, outputId) {\n",
              "  const inputElement = document.getElementById(inputId);\n",
              "  inputElement.disabled = false;\n",
              "\n",
              "  const outputElement = document.getElementById(outputId);\n",
              "  outputElement.innerHTML = '';\n",
              "\n",
              "  const pickedPromise = new Promise((resolve) => {\n",
              "    inputElement.addEventListener('change', (e) => {\n",
              "      resolve(e.target.files);\n",
              "    });\n",
              "  });\n",
              "\n",
              "  const cancel = document.createElement('button');\n",
              "  inputElement.parentElement.appendChild(cancel);\n",
              "  cancel.textContent = 'Cancel upload';\n",
              "  const cancelPromise = new Promise((resolve) => {\n",
              "    cancel.onclick = () => {\n",
              "      resolve(null);\n",
              "    };\n",
              "  });\n",
              "\n",
              "  // Wait for the user to pick the files.\n",
              "  const files = yield {\n",
              "    promise: Promise.race([pickedPromise, cancelPromise]),\n",
              "    response: {\n",
              "      action: 'starting',\n",
              "    }\n",
              "  };\n",
              "\n",
              "  cancel.remove();\n",
              "\n",
              "  // Disable the input element since further picks are not allowed.\n",
              "  inputElement.disabled = true;\n",
              "\n",
              "  if (!files) {\n",
              "    return {\n",
              "      response: {\n",
              "        action: 'complete',\n",
              "      }\n",
              "    };\n",
              "  }\n",
              "\n",
              "  for (const file of files) {\n",
              "    const li = document.createElement('li');\n",
              "    li.append(span(file.name, {fontWeight: 'bold'}));\n",
              "    li.append(span(\n",
              "        `(${file.type || 'n/a'}) - ${file.size} bytes, ` +\n",
              "        `last modified: ${\n",
              "            file.lastModifiedDate ? file.lastModifiedDate.toLocaleDateString() :\n",
              "                                    'n/a'} - `));\n",
              "    const percent = span('0% done');\n",
              "    li.appendChild(percent);\n",
              "\n",
              "    outputElement.appendChild(li);\n",
              "\n",
              "    const fileDataPromise = new Promise((resolve) => {\n",
              "      const reader = new FileReader();\n",
              "      reader.onload = (e) => {\n",
              "        resolve(e.target.result);\n",
              "      };\n",
              "      reader.readAsArrayBuffer(file);\n",
              "    });\n",
              "    // Wait for the data to be ready.\n",
              "    let fileData = yield {\n",
              "      promise: fileDataPromise,\n",
              "      response: {\n",
              "        action: 'continue',\n",
              "      }\n",
              "    };\n",
              "\n",
              "    // Use a chunked sending to avoid message size limits. See b/62115660.\n",
              "    let position = 0;\n",
              "    do {\n",
              "      const length = Math.min(fileData.byteLength - position, MAX_PAYLOAD_SIZE);\n",
              "      const chunk = new Uint8Array(fileData, position, length);\n",
              "      position += length;\n",
              "\n",
              "      const base64 = btoa(String.fromCharCode.apply(null, chunk));\n",
              "      yield {\n",
              "        response: {\n",
              "          action: 'append',\n",
              "          file: file.name,\n",
              "          data: base64,\n",
              "        },\n",
              "      };\n",
              "\n",
              "      let percentDone = fileData.byteLength === 0 ?\n",
              "          100 :\n",
              "          Math.round((position / fileData.byteLength) * 100);\n",
              "      percent.textContent = `${percentDone}% done`;\n",
              "\n",
              "    } while (position < fileData.byteLength);\n",
              "  }\n",
              "\n",
              "  // All done.\n",
              "  yield {\n",
              "    response: {\n",
              "      action: 'complete',\n",
              "    }\n",
              "  };\n",
              "}\n",
              "\n",
              "scope.google = scope.google || {};\n",
              "scope.google.colab = scope.google.colab || {};\n",
              "scope.google.colab._files = {\n",
              "  _uploadFiles,\n",
              "  _uploadFilesContinue,\n",
              "};\n",
              "})(self);\n",
              "</script> "
            ]
          },
          "metadata": {}
        },
        {
          "output_type": "stream",
          "name": "stdout",
          "text": [
            "Saving 4.2.0.spark_nlp_for_healthcare.json to 4.2.0.spark_nlp_for_healthcare.json\n"
          ]
        }
      ]
    },
    {
      "cell_type": "code",
      "metadata": {
        "id": "9-PzVG9KYfxa",
        "outputId": "b5679a21-ac14-4f76-a54d-7ab962f062da",
        "colab": {
          "base_uri": "https://localhost:8080/"
        }
      },
      "source": [
        "# Installing pyspark and spark-nlp\n",
        "! pip install --upgrade -q pyspark==3.1.2 spark-nlp==$PUBLIC_VERSION\n",
        "\n",
        "# Installing Spark NLP Healthcare\n",
        "! pip install --upgrade -q spark-nlp-jsl==$JSL_VERSION  --extra-index-url https://pypi.johnsnowlabs.com/$SECRET"
      ],
      "execution_count": 2,
      "outputs": [
        {
          "output_type": "stream",
          "name": "stdout",
          "text": [
            "\u001b[?25h  Building wheel for pyspark (setup.py) ... \u001b[?25l\u001b[?25hdone\n",
            "\u001b[K     |████████████████████████████████| 281 kB 2.7 MB/s \n",
            "\u001b[?25h"
          ]
        }
      ]
    },
    {
      "cell_type": "code",
      "metadata": {
        "id": "VtLIEJtPf88T",
        "colab": {
          "base_uri": "https://localhost:8080/",
          "height": 254
        },
        "outputId": "232899ab-8521-4c95-d12a-950d236f8a79"
      },
      "source": [
        "import json\n",
        "import os\n",
        "import pandas as pd\n",
        "\n",
        "from pyspark.ml import Pipeline, PipelineModel\n",
        "from pyspark.sql import SparkSession\n",
        "from pyspark.sql import functions as F\n",
        "\n",
        "import sparknlp_jsl\n",
        "import sparknlp\n",
        "\n",
        "from sparknlp.annotator import *\n",
        "from sparknlp_jsl.annotator import *\n",
        "from sparknlp.base import *\n",
        "from sparknlp.util import *\n",
        "from sparknlp.pretrained import ResourceDownloader\n",
        "\n",
        "\n",
        "spark = sparknlp_jsl.start(license_keys['SECRET'])\n",
        "\n",
        "print (\"Spark NLP Version :\", sparknlp.version())\n",
        "print (\"Spark NLP_JSL Version :\", sparknlp_jsl.version())\n",
        "\n",
        "spark"
      ],
      "execution_count": 3,
      "outputs": [
        {
          "output_type": "stream",
          "name": "stdout",
          "text": [
            "Spark NLP Version : 4.2.0\n",
            "Spark NLP_JSL Version : 4.2.0\n"
          ]
        },
        {
          "output_type": "execute_result",
          "data": {
            "text/plain": [
              "<pyspark.sql.session.SparkSession at 0x7f57812a3450>"
            ],
            "text/html": [
              "\n",
              "            <div>\n",
              "                <p><b>SparkSession - in-memory</b></p>\n",
              "                \n",
              "        <div>\n",
              "            <p><b>SparkContext</b></p>\n",
              "\n",
              "            <p><a href=\"http://af0f654d7416:4040\">Spark UI</a></p>\n",
              "\n",
              "            <dl>\n",
              "              <dt>Version</dt>\n",
              "                <dd><code>v3.1.2</code></dd>\n",
              "              <dt>Master</dt>\n",
              "                <dd><code>local[*]</code></dd>\n",
              "              <dt>AppName</dt>\n",
              "                <dd><code>Spark NLP Licensed</code></dd>\n",
              "            </dl>\n",
              "        </div>\n",
              "        \n",
              "            </div>\n",
              "        "
            ]
          },
          "metadata": {},
          "execution_count": 3
        }
      ]
    },
    {
      "cell_type": "markdown",
      "metadata": {
        "id": "kqlcNe7FJr31"
      },
      "source": [
        "## **Date Normalizer**\n",
        "\n",
        "New Annotator that transforms chunks Dates to a normalized Date with format YYYY/MM/DD. This annotator identifies dates in chunk annotations and transforms those dates to the format YYYY/MM/DD. \n",
        "\n"
      ]
    },
    {
      "cell_type": "markdown",
      "metadata": {
        "id": "YPvA603jL3TV"
      },
      "source": [
        "We are going to create a chunks dates with different formats:"
      ]
    },
    {
      "cell_type": "code",
      "metadata": {
        "colab": {
          "base_uri": "https://localhost:8080/"
        },
        "id": "EADXi0Rz-VFd",
        "outputId": "bf292b4f-eedf-4aad-913a-dffacc0dbdbd"
      },
      "source": [
        "dates = [\n",
        "'She has a history of pericarditis and pericardectomy on 08/02/2018 and developed a cough with right-sided chest pain.' ,\n",
        "'She has been receiving gemcitabine and she receives three cycles of this with the last one being given on 11/2018. ',\n",
        "'She was last seen in the clinic on 11/01/2018by Dr. Y.',\n",
        "'Chris Brown was discharged on 12Mar2021',\n",
        "'Last INR was on Tuesday, Jan 30, 2018, and her INR was 2.3. 2. Amiodarone 100 mg p.o. daily. ',\n",
        "'We reviewed the pathology obtained from the pericardectomy on 13.04.1999, which was diagnostic of mesothelioma', \n",
        "'A review of her CT scan on 3 April2020 prior to her pericardectomy, already shows bilateral plural effusions. ',\n",
        "]\n",
        "\n",
        "from pyspark.sql.types import StructType, IntegerType, StringType\n",
        "df_dates = spark.createDataFrame(dates,StringType()).toDF('text')\n",
        "\n",
        "df_dates.show(truncate=100)"
      ],
      "execution_count": 5,
      "outputs": [
        {
          "output_type": "stream",
          "name": "stdout",
          "text": [
            "+----------------------------------------------------------------------------------------------------+\n",
            "|                                                                                                text|\n",
            "+----------------------------------------------------------------------------------------------------+\n",
            "|She has a history of pericarditis and pericardectomy on 08/02/2018 and developed a cough with rig...|\n",
            "|She has been receiving gemcitabine and she receives three cycles of this with the last one being ...|\n",
            "|                                              She was last seen in the clinic on 11/01/2018by Dr. Y.|\n",
            "|                                                             Chris Brown was discharged on 12Mar2021|\n",
            "|       Last INR was on Tuesday, Jan 30, 2018, and her INR was 2.3. 2. Amiodarone 100 mg p.o. daily. |\n",
            "|We reviewed the pathology obtained from the pericardectomy on 13.04.1999, which was diagnostic of...|\n",
            "|A review of her CT scan on 3 April2020 prior to her pericardectomy, already shows bilateral plura...|\n",
            "+----------------------------------------------------------------------------------------------------+\n",
            "\n"
          ]
        }
      ]
    },
    {
      "cell_type": "code",
      "source": [
        "documentAssembler = DocumentAssembler()\\\n",
        "    .setInputCol(\"text\")\\\n",
        "    .setOutputCol(\"document\")\n",
        "\n",
        "# Sentence Detector annotator, processes various sentences per line\n",
        "sentenceDetector = SentenceDetector()\\\n",
        "    .setInputCols([\"document\"])\\\n",
        "    .setOutputCol(\"sentence\")\n",
        "\n",
        "# Tokenizer splits words in a relevant format for NLP\n",
        "tokenizer = Tokenizer()\\\n",
        "    .setInputCols([\"sentence\"])\\\n",
        "    .setOutputCol(\"token\")\n",
        "\n",
        "# Clinical word embeddings trained on PubMED dataset\n",
        "word_embeddings = WordEmbeddingsModel.pretrained(\"embeddings_clinical\", \"en\", \"clinical/models\")\\\n",
        "    .setInputCols([\"sentence\", \"token\"])\\\n",
        "    .setOutputCol(\"embeddings\")\n",
        "\n",
        "# NER model trained on n2c2 (de-identification and Heart Disease Risk Factors Challenge) datasets)\n",
        "clinical_ner = MedicalNerModel.pretrained(\"ner_deid_generic_augmented\", \"en\", \"clinical/models\") \\\n",
        "    .setInputCols([\"sentence\", \"token\", \"embeddings\"]) \\\n",
        "    .setOutputCol(\"ner\")\n",
        "\n",
        "ner_converter = NerConverterInternal()\\\n",
        "    .setInputCols([\"sentence\", \"token\", \"ner\"])\\\n",
        "    .setOutputCol(\"date_chunk\")\\\n",
        "    .setWhiteList([\"DATE\"])\n",
        "\n",
        "date_normalizer = DateNormalizer()\\\n",
        "    .setInputCols('date_chunk')\\\n",
        "    .setOutputCol('normalized_date')\n",
        "\n",
        "nlpPipeline = Pipeline(stages=[\n",
        "      documentAssembler, \n",
        "      sentenceDetector,\n",
        "      tokenizer,\n",
        "      word_embeddings,\n",
        "      clinical_ner,\n",
        "      ner_converter,\n",
        "      date_normalizer])\n",
        "\n",
        "empty_data = spark.createDataFrame([[\"\"]]).toDF(\"text\")\n",
        "\n",
        "model = nlpPipeline.fit(empty_data)"
      ],
      "metadata": {
        "colab": {
          "base_uri": "https://localhost:8080/"
        },
        "id": "YjvjuoC1J09P",
        "outputId": "6f3f5915-1d76-4e26-9187-2e4539c20837"
      },
      "execution_count": 7,
      "outputs": [
        {
          "output_type": "stream",
          "name": "stdout",
          "text": [
            "embeddings_clinical download started this may take some time.\n",
            "Approximate size to download 1.6 GB\n",
            "[OK!]\n",
            "ner_deid_generic_augmented download started this may take some time.\n",
            "[OK!]\n"
          ]
        }
      ]
    },
    {
      "cell_type": "code",
      "source": [
        "result = model.transform(df_dates)"
      ],
      "metadata": {
        "id": "xBPUjxUeK1kx"
      },
      "execution_count": 8,
      "outputs": []
    },
    {
      "cell_type": "code",
      "source": [
        "result_df = result.select(\"text\",F.explode(F.arrays_zip(result.date_chunk.result, \n",
        "                                                        result.normalized_date.result)).alias(\"cols\")) \\\n",
        "                  .select(\"text\",F.expr(\"cols['0']\").alias(\"date_chunk\"),\n",
        "                                 F.expr(\"cols['1']\").alias(\"normalized_date\"))\n",
        "                  \n",
        "result_df.show(truncate=False)"
      ],
      "metadata": {
        "colab": {
          "base_uri": "https://localhost:8080/"
        },
        "id": "OpuSgqPSK1fq",
        "outputId": "461e142d-b265-43fb-fa71-8326007a8ffb"
      },
      "execution_count": 9,
      "outputs": [
        {
          "output_type": "stream",
          "name": "stdout",
          "text": [
            "+---------------------------------------------------------------------------------------------------------------------+---------------------+---------------+\n",
            "|text                                                                                                                 |date_chunk           |normalized_date|\n",
            "+---------------------------------------------------------------------------------------------------------------------+---------------------+---------------+\n",
            "|She has a history of pericarditis and pericardectomy on 08/02/2018 and developed a cough with right-sided chest pain.|08/02/2018           |2018/08/02     |\n",
            "|She has been receiving gemcitabine and she receives three cycles of this with the last one being given on 11/2018.   |11/2018              |2018/11/DD     |\n",
            "|She was last seen in the clinic on 11/01/2018by Dr. Y.                                                               |11/01/2018by         |2018/11/01     |\n",
            "|Chris Brown was discharged on 12Mar2021                                                                              |12Mar2021            |2021/03/12     |\n",
            "|Last INR was on Tuesday, Jan 30, 2018, and her INR was 2.3. 2. Amiodarone 100 mg p.o. daily.                         |Tuesday, Jan 30, 2018|2018/01/30     |\n",
            "|We reviewed the pathology obtained from the pericardectomy on 13.04.1999, which was diagnostic of mesothelioma       |13.04.1999           |1999/04/13     |\n",
            "|A review of her CT scan on 3 April2020 prior to her pericardectomy, already shows bilateral plural effusions.        |3 April2020          |2020/04/03     |\n",
            "+---------------------------------------------------------------------------------------------------------------------+---------------------+---------------+\n",
            "\n"
          ]
        }
      ]
    },
    {
      "cell_type": "markdown",
      "metadata": {
        "id": "QIG5ZjP3L3tn"
      },
      "source": [
        "### Only date chunk\n"
      ]
    },
    {
      "cell_type": "markdown",
      "source": [
        "We are going to create a chunks dates with different formats:"
      ],
      "metadata": {
        "id": "mAc7BtgCMnAn"
      }
    },
    {
      "cell_type": "code",
      "metadata": {
        "id": "Cnf_s2yFLpXC"
      },
      "source": [
        "dates = [\n",
        "'08/02/2018',\n",
        "'11/2018',\n",
        "'11/01/2018',\n",
        "'12Mar2021',\n",
        "'Jan 30, 2018',\n",
        "'13.04.1999', \n",
        "'3April 2020',\n",
        "]\n",
        "\n"
      ],
      "execution_count": 10,
      "outputs": []
    },
    {
      "cell_type": "code",
      "metadata": {
        "id": "SW-ND2BjONF_"
      },
      "source": [
        "from pyspark.sql.types import StringType\n",
        "df_dates = spark.createDataFrame(dates,StringType()).toDF('ner_chunk')"
      ],
      "execution_count": 11,
      "outputs": []
    },
    {
      "cell_type": "markdown",
      "metadata": {
        "id": "JiIqDdHDPkQV"
      },
      "source": [
        "We are going to transform that text to documents in spark-nlp."
      ]
    },
    {
      "cell_type": "code",
      "metadata": {
        "id": "13wTh48FPcG-"
      },
      "source": [
        "document_assembler = DocumentAssembler().setInputCol('ner_chunk').setOutputCol('document')\n",
        "documents_DF = document_assembler.transform(df_dates)"
      ],
      "execution_count": 12,
      "outputs": []
    },
    {
      "cell_type": "markdown",
      "metadata": {
        "id": "VelhLulcPxbx"
      },
      "source": [
        "After that we are going to transform that documents to chunks."
      ]
    },
    {
      "cell_type": "code",
      "metadata": {
        "id": "lR6bSlXTPvqK"
      },
      "source": [
        "from sparknlp.functions import map_annotations_col\n",
        "\n",
        "chunks_df = map_annotations_col(documents_DF.select(\"document\",\"ner_chunk\"),\n",
        "                    lambda x: [Annotation('chunk', a.begin, a.end, a.result, a.metadata, a.embeddings) for a in x], \"document\",\n",
        "                    \"chunk_date\", \"chunk\")"
      ],
      "execution_count": 13,
      "outputs": []
    },
    {
      "cell_type": "code",
      "metadata": {
        "colab": {
          "base_uri": "https://localhost:8080/"
        },
        "id": "3NqyhuNCQWC2",
        "outputId": "85962f3f-b0d9-4817-8896-394c6e2b7fd8"
      },
      "source": [
        "chunks_df.select('chunk_date').show(truncate=False)"
      ],
      "execution_count": 14,
      "outputs": [
        {
          "output_type": "stream",
          "name": "stdout",
          "text": [
            "+---------------------------------------------------+\n",
            "|chunk_date                                         |\n",
            "+---------------------------------------------------+\n",
            "|[{chunk, 0, 9, 08/02/2018, {sentence -> 0}, []}]   |\n",
            "|[{chunk, 0, 6, 11/2018, {sentence -> 0}, []}]      |\n",
            "|[{chunk, 0, 9, 11/01/2018, {sentence -> 0}, []}]   |\n",
            "|[{chunk, 0, 8, 12Mar2021, {sentence -> 0}, []}]    |\n",
            "|[{chunk, 0, 11, Jan 30, 2018, {sentence -> 0}, []}]|\n",
            "|[{chunk, 0, 9, 13.04.1999, {sentence -> 0}, []}]   |\n",
            "|[{chunk, 0, 10, 3April 2020, {sentence -> 0}, []}] |\n",
            "+---------------------------------------------------+\n",
            "\n"
          ]
        }
      ]
    },
    {
      "cell_type": "markdown",
      "metadata": {
        "id": "iE1wA-Y1QyeI"
      },
      "source": [
        "Now we are going to normalize those chunks using the DateNormalizer."
      ]
    },
    {
      "cell_type": "code",
      "metadata": {
        "id": "k9E0T8mjQo0Y"
      },
      "source": [
        "date_normalizer = DateNormalizer().setInputCols('chunk_date').setOutputCol('date')"
      ],
      "execution_count": 15,
      "outputs": []
    },
    {
      "cell_type": "code",
      "metadata": {
        "id": "JVX_QlglR9yR"
      },
      "source": [
        "date_normalized_df = date_normalizer.transform(chunks_df)"
      ],
      "execution_count": 16,
      "outputs": []
    },
    {
      "cell_type": "markdown",
      "metadata": {
        "id": "L8IxAZxXRihE"
      },
      "source": [
        "We are going to show how the date is normalized."
      ]
    },
    {
      "cell_type": "code",
      "metadata": {
        "colab": {
          "base_uri": "https://localhost:8080/"
        },
        "id": "LB2yoHDqRVy-",
        "outputId": "7f228691-56f8-491c-cdee-a2b1ce0a1af9"
      },
      "source": [
        "dateNormalizedClean = date_normalized_df.selectExpr(\"ner_chunk\",\"date.result as dateresult\",\"date.metadata as metadata\")\n",
        "\n",
        "dateNormalizedClean.withColumn(\"dateresult\", dateNormalizedClean[\"dateresult\"]\n",
        "                               .getItem(0)).withColumn(\"metadata\", dateNormalizedClean[\"metadata\"]\n",
        "                                                       .getItem(0)['normalized']).show(truncate=False)"
      ],
      "execution_count": 17,
      "outputs": [
        {
          "output_type": "stream",
          "name": "stdout",
          "text": [
            "+------------+----------+--------+\n",
            "|ner_chunk   |dateresult|metadata|\n",
            "+------------+----------+--------+\n",
            "|08/02/2018  |2018/08/02|true    |\n",
            "|11/2018     |2018/11/DD|true    |\n",
            "|11/01/2018  |2018/11/01|true    |\n",
            "|12Mar2021   |2021/03/12|true    |\n",
            "|Jan 30, 2018|2018/01/30|true    |\n",
            "|13.04.1999  |1999/04/13|true    |\n",
            "|3April 2020 |2020/04/03|true    |\n",
            "+------------+----------+--------+\n",
            "\n"
          ]
        }
      ]
    },
    {
      "cell_type": "markdown",
      "metadata": {
        "id": "dwgt4QtgSf6g"
      },
      "source": [
        "## Relative Date\n",
        "\n",
        "We can configure the `anchorDateYear`,`anchorDateMonth` and `anchorDateDay` for the relatives dates."
      ]
    },
    {
      "cell_type": "code",
      "metadata": {
        "id": "gxHErp-K7ssl"
      },
      "source": [
        "rel_dates = [\n",
        "'next monday',\n",
        "'today',\n",
        "'next week'\n",
        "]\n",
        "\n",
        "rel_dates_df = spark.createDataFrame(rel_dates,StringType()).toDF('ner_chunk')"
      ],
      "execution_count": 18,
      "outputs": []
    },
    {
      "cell_type": "code",
      "metadata": {
        "id": "JN4QVnrD7ssu"
      },
      "source": [
        "rel_documents_DF = document_assembler.transform(rel_dates_df)\n",
        "\n",
        "rel_chunks_df = map_annotations_col(rel_documents_DF.select(\"document\",\"ner_chunk\"),\n",
        "                    lambda x: [Annotation('chunk', a.begin, a.end, a.result, a.metadata, a.embeddings) for a in x], \"document\",\n",
        "                    \"chunk_date\", \"chunk\")"
      ],
      "execution_count": 19,
      "outputs": []
    },
    {
      "cell_type": "code",
      "metadata": {
        "colab": {
          "base_uri": "https://localhost:8080/"
        },
        "outputId": "9460d1ce-a09d-4e8e-a331-4b664c6e80d2",
        "id": "QYnWQMSj7ssw"
      },
      "source": [
        "rel_chunks_df.select('chunk_date').show(truncate=False)"
      ],
      "execution_count": 20,
      "outputs": [
        {
          "output_type": "stream",
          "name": "stdout",
          "text": [
            "+--------------------------------------------------+\n",
            "|chunk_date                                        |\n",
            "+--------------------------------------------------+\n",
            "|[{chunk, 0, 10, next monday, {sentence -> 0}, []}]|\n",
            "|[{chunk, 0, 4, today, {sentence -> 0}, []}]       |\n",
            "|[{chunk, 0, 8, next week, {sentence -> 0}, []}]   |\n",
            "+--------------------------------------------------+\n",
            "\n"
          ]
        }
      ]
    },
    {
      "cell_type": "markdown",
      "metadata": {
        "id": "-WrTv3SLTIe7"
      },
      "source": [
        "In the following example we will use as a relative date 2021/02/16, to make that possible we need to set up the `anchorDateYear` to 2021, the `anchorDateMonth` to 2 and the `anchorDateDay` to 16. We will show you the configuration with the following example."
      ]
    },
    {
      "cell_type": "code",
      "metadata": {
        "id": "zttFZDgJSdZi"
      },
      "source": [
        "rel_date_normalizer = DateNormalizer()\\\n",
        "                        .setInputCols('chunk_date')\\\n",
        "                        .setOutputCol('date')\\\n",
        "                        .setAnchorDateDay(16)\\\n",
        "                        .setAnchorDateMonth(2)\\\n",
        "                        .setAnchorDateYear(2021)"
      ],
      "execution_count": 21,
      "outputs": []
    },
    {
      "cell_type": "code",
      "metadata": {
        "colab": {
          "base_uri": "https://localhost:8080/"
        },
        "id": "HvBFcvVnUge3",
        "outputId": "a4b448c2-5c25-4db3-c224-bc3f14be1356"
      },
      "source": [
        "rel_date_normalized_df = rel_date_normalizer.transform(rel_chunks_df)\n",
        "relDateNormalizedClean = rel_date_normalized_df.selectExpr(\"ner_chunk\",\"date.result as dateresult\",\"date.metadata as metadata\")\n",
        "relDateNormalizedClean.withColumn(\"dateresult\", relDateNormalizedClean[\"dateresult\"].getItem(0))\\\n",
        "                      .withColumn(\"metadata\", relDateNormalizedClean[\"metadata\"].getItem(0)['normalized']).show(truncate=False)"
      ],
      "execution_count": 22,
      "outputs": [
        {
          "output_type": "stream",
          "name": "stdout",
          "text": [
            "+-----------+----------+--------+\n",
            "|ner_chunk  |dateresult|metadata|\n",
            "+-----------+----------+--------+\n",
            "|next monday|2021/02/22|true    |\n",
            "|today      |2021/02/16|true    |\n",
            "|next week  |2021/02/23|true    |\n",
            "+-----------+----------+--------+\n",
            "\n"
          ]
        }
      ]
    },
    {
      "cell_type": "markdown",
      "metadata": {
        "id": "HiQke1C2VGuH"
      },
      "source": [
        "As you see the relatives dates like `next monday` , `today` and `next week` takes the `2021/02/16` as reference date.\n"
      ]
    }
  ]
}
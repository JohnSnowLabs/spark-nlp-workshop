{
  "nbformat": 4,
  "nbformat_minor": 0,
  "metadata": {
    "colab": {
      "name": "25.Date_Normalizer.ipynb",
      "provenance": [],
      "collapsed_sections": [],
      "toc_visible": true
    },
    "kernelspec": {
      "display_name": "Python 3",
      "language": "python",
      "name": "python3"
    },
    "language_info": {
      "codemirror_mode": {
        "name": "ipython",
        "version": 3
      },
      "file_extension": ".py",
      "mimetype": "text/x-python",
      "name": "python",
      "nbconvert_exporter": "python",
      "pygments_lexer": "ipython3",
      "version": "3.7.6"
    }
  },
  "cells": [
    {
      "cell_type": "markdown",
      "metadata": {
        "id": "I08sFJYCxR0Z"
      },
      "source": [
        "![JohnSnowLabs](https://nlp.johnsnowlabs.com/assets/images/logo.png)"
      ]
    },
    {
      "cell_type": "markdown",
      "metadata": {
        "id": "LKI5K1wQrSe9"
      },
      "source": [
        "[![Open In Colab](https://colab.research.google.com/assets/colab-badge.svg)](https://colab.research.google.com/github/JohnSnowLabs/spark-nlp-workshop/blob/master/tutorials/Certification_Trainings/Healthcare/25.Date_Normalizer.ipynb)"
      ]
    },
    {
      "cell_type": "markdown",
      "metadata": {
        "id": "okhT7AcXxben"
      },
      "source": [
        "## Colab Setup"
      ]
    },
    {
      "cell_type": "code",
      "metadata": {
        "id": "I8Ytt2LLp2rj"
      },
      "source": [
        "import json\n",
        "\n",
        "from google.colab import files\n",
        "\n",
        "license_keys = files.upload()\n",
        "\n",
        "with open(list(license_keys.keys())[0]) as f:\n",
        "    license_keys = json.load(f)"
      ],
      "execution_count": null,
      "outputs": []
    },
    {
      "cell_type": "code",
      "metadata": {
        "colab": {
          "base_uri": "https://localhost:8080/",
          "height": 35
        },
        "id": "iYPLeCFGf88G",
        "outputId": "ee474268-3b73-4593-8f67-ebce6bba02da"
      },
      "source": [
        "license_keys['JSL_VERSION']"
      ],
      "execution_count": null,
      "outputs": [
        {
          "output_type": "execute_result",
          "data": {
            "application/vnd.google.colaboratory.intrinsic+json": {
              "type": "string"
            },
            "text/plain": [
              "'3.1.2rc1'"
            ]
          },
          "metadata": {
            "tags": []
          },
          "execution_count": 8
        }
      ]
    },
    {
      "cell_type": "code",
      "metadata": {
        "id": "9-PzVG9KYfxa"
      },
      "source": [
        "\n",
        "%%capture\n",
        "for k,v in license_keys.items(): \n",
        "    %set_env $k=$v\n",
        "\n",
        "!wget https://raw.githubusercontent.com/JohnSnowLabs/spark-nlp-workshop/master/jsl_colab_setup.sh\n",
        "!bash jsl_colab_setup.sh\n",
        "\n"
      ],
      "execution_count": null,
      "outputs": []
    },
    {
      "cell_type": "code",
      "metadata": {
        "id": "VtLIEJtPf88T"
      },
      "source": [
        "\n",
        "import json\n",
        "import os\n",
        "from pyspark.ml import Pipeline, PipelineModel\n",
        "from pyspark.sql import SparkSession\n",
        "\n",
        "from sparknlp.annotator import *\n",
        "from sparknlp_jsl.annotator import *\n",
        "from sparknlp.base import *\n",
        "import sparknlp_jsl\n",
        "import sparknlp\n",
        "\n",
        "from sparknlp.util import *\n",
        "from sparknlp.pretrained import ResourceDownloader\n",
        "from pyspark.sql import functions as F\n",
        "\n",
        "import pandas as pd\n",
        "      \n"
      ],
      "execution_count": null,
      "outputs": []
    },
    {
      "cell_type": "code",
      "metadata": {
        "id": "GQQkrnRoApmw"
      },
      "source": [
        "spark = sparknlp_jsl.start(license_keys['SECRET'])"
      ],
      "execution_count": null,
      "outputs": []
    },
    {
      "cell_type": "code",
      "metadata": {
        "colab": {
          "base_uri": "https://localhost:8080/",
          "height": 219
        },
        "id": "Qwi67EWT1eLd",
        "outputId": "5613d5e5-2440-4214-d30c-74830c96e347"
      },
      "source": [
        "spark"
      ],
      "execution_count": null,
      "outputs": [
        {
          "output_type": "execute_result",
          "data": {
            "text/html": [
              "\n",
              "            <div>\n",
              "                <p><b>SparkSession - in-memory</b></p>\n",
              "                \n",
              "        <div>\n",
              "            <p><b>SparkContext</b></p>\n",
              "\n",
              "            <p><a href=\"http://48eb6f76b6e3:4040\">Spark UI</a></p>\n",
              "\n",
              "            <dl>\n",
              "              <dt>Version</dt>\n",
              "                <dd><code>v3.1.1</code></dd>\n",
              "              <dt>Master</dt>\n",
              "                <dd><code>local[*]</code></dd>\n",
              "              <dt>AppName</dt>\n",
              "                <dd><code>Spark NLP Licensed</code></dd>\n",
              "            </dl>\n",
              "        </div>\n",
              "        \n",
              "            </div>\n",
              "        "
            ],
            "text/plain": [
              "<pyspark.sql.session.SparkSession at 0x7f01e5fb20d0>"
            ]
          },
          "metadata": {
            "tags": []
          },
          "execution_count": 15
        }
      ]
    },
    {
      "cell_type": "markdown",
      "metadata": {
        "id": "kqlcNe7FJr31"
      },
      "source": [
        "# **Date Normalizer**\n",
        "\n",
        "New Annotator that transforms chunks Dates to a normalized Date with format YYYY/MM/DD. This annotator identifies dates in chunk annotations and transforms those dates to the format YYYY/MM/DD. \n",
        "\n"
      ]
    },
    {
      "cell_type": "markdown",
      "metadata": {
        "id": "YPvA603jL3TV"
      },
      "source": [
        "We going to create a chunks dates with different formats:"
      ]
    },
    {
      "cell_type": "code",
      "metadata": {
        "id": "Cnf_s2yFLpXC"
      },
      "source": [
        "dates = [\n",
        "'08/02/2018',\n",
        "'11/2018',\n",
        "'11/01/2018',\n",
        "'12Mar2021',\n",
        "'Jan 30, 2018',\n",
        "'13.04.1999', \n",
        "'3April 2020',\n",
        "'next monday',\n",
        "'today',\n",
        "'next week'\n",
        "]\n",
        "\n"
      ],
      "execution_count": null,
      "outputs": []
    },
    {
      "cell_type": "code",
      "metadata": {
        "id": "SW-ND2BjONF_"
      },
      "source": [
        "from pyspark.sql.types import StringType\n",
        "df_dates = spark.createDataFrame(dates,StringType()).toDF('ner_chunk')"
      ],
      "execution_count": null,
      "outputs": []
    },
    {
      "cell_type": "markdown",
      "metadata": {
        "id": "JiIqDdHDPkQV"
      },
      "source": [
        "We going to transform that text to documents in spark-nlp."
      ]
    },
    {
      "cell_type": "code",
      "metadata": {
        "id": "13wTh48FPcG-"
      },
      "source": [
        "document_assembler = DocumentAssembler().setInputCol('ner_chunk').setOutputCol('document')\n",
        "documents_DF = document_assembler.transform(df_dates)"
      ],
      "execution_count": null,
      "outputs": []
    },
    {
      "cell_type": "markdown",
      "metadata": {
        "id": "VelhLulcPxbx"
      },
      "source": [
        "After that we going to transform that documents to chunks."
      ]
    },
    {
      "cell_type": "code",
      "metadata": {
        "id": "lR6bSlXTPvqK"
      },
      "source": [
        "from sparknlp.functions import map_annotations_col\n",
        "\n",
        "chunks_df = map_annotations_col(documents_DF.select(\"document\",\"ner_chunk\"),\n",
        "                    lambda x: [Annotation('chunk', a.begin, a.end, a.result, a.metadata, a.embeddings) for a in x], \"document\",\n",
        "                    \"chunk_date\", \"chunk\")"
      ],
      "execution_count": null,
      "outputs": []
    },
    {
      "cell_type": "code",
      "metadata": {
        "colab": {
          "base_uri": "https://localhost:8080/"
        },
        "id": "3NqyhuNCQWC2",
        "outputId": "03393055-e4fa-4734-9129-ceb353d865ff"
      },
      "source": [
        "chunks_df.select('chunk_date').show(truncate=False)"
      ],
      "execution_count": null,
      "outputs": [
        {
          "output_type": "stream",
          "text": [
            "+---------------------------------------------------+\n",
            "|chunk_date                                         |\n",
            "+---------------------------------------------------+\n",
            "|[{chunk, 0, 9, 08/02/2018, {sentence -> 0}, []}]   |\n",
            "|[{chunk, 0, 6, 11/2018, {sentence -> 0}, []}]      |\n",
            "|[{chunk, 0, 9, 11/01/2018, {sentence -> 0}, []}]   |\n",
            "|[{chunk, 0, 8, 12Mar2021, {sentence -> 0}, []}]    |\n",
            "|[{chunk, 0, 11, Jan 30, 2018, {sentence -> 0}, []}]|\n",
            "|[{chunk, 0, 9, 13.04.1999, {sentence -> 0}, []}]   |\n",
            "|[{chunk, 0, 10, 3April 2020, {sentence -> 0}, []}] |\n",
            "|[{chunk, 0, 10, next monday, {sentence -> 0}, []}] |\n",
            "|[{chunk, 0, 4, today, {sentence -> 0}, []}]        |\n",
            "|[{chunk, 0, 8, next week, {sentence -> 0}, []}]    |\n",
            "+---------------------------------------------------+\n",
            "\n"
          ],
          "name": "stdout"
        }
      ]
    },
    {
      "cell_type": "markdown",
      "metadata": {
        "id": "iE1wA-Y1QyeI"
      },
      "source": [
        "Now we going to normalize that chunks using the DateNormalizer."
      ]
    },
    {
      "cell_type": "code",
      "metadata": {
        "id": "k9E0T8mjQo0Y"
      },
      "source": [
        "date_normalizer = DateNormalizer().setInputCols('chunk_date').setOutputCol('date')\n"
      ],
      "execution_count": null,
      "outputs": []
    },
    {
      "cell_type": "code",
      "metadata": {
        "id": "JVX_QlglR9yR"
      },
      "source": [
        "date_normaliced_df = date_normalizer.transform(chunks_df)"
      ],
      "execution_count": null,
      "outputs": []
    },
    {
      "cell_type": "markdown",
      "metadata": {
        "id": "L8IxAZxXRihE"
      },
      "source": [
        "We going to show how the date is normalized."
      ]
    },
    {
      "cell_type": "code",
      "metadata": {
        "colab": {
          "base_uri": "https://localhost:8080/"
        },
        "id": "LB2yoHDqRVy-",
        "outputId": "6964ef38-7c88-4cc4-8bd2-bd4dc84b132a"
      },
      "source": [
        "dateNormalizedClean = date_normaliced_df.selectExpr(\"ner_chunk\",\"date.result as dateresult\",\"date.metadata as metadata\")\n",
        "\n",
        "dateNormalizedClean.withColumn(\"dateresult\", dateNormalizedClean[\"dateresult\"]\n",
        "                               .getItem(0)).withColumn(\"metadata\", dateNormalizedClean[\"metadata\"]\n",
        "                                                       .getItem(0)['normalized']).show(truncate=False)"
      ],
      "execution_count": null,
      "outputs": [
        {
          "output_type": "stream",
          "text": [
            "+------------+----------+--------+\n",
            "|ner_chunk   |dateresult|metadata|\n",
            "+------------+----------+--------+\n",
            "|08/02/2018  |2018/08/02|true    |\n",
            "|11/2018     |2018/11/DD|true    |\n",
            "|11/01/2018  |2018/11/01|true    |\n",
            "|12Mar2021   |2021/03/12|true    |\n",
            "|Jan 30, 2018|2018/01/30|true    |\n",
            "|13.04.1999  |1999/04/13|true    |\n",
            "|3April 2020 |2020/04/03|true    |\n",
            "|next monday |2021/06/19|true    |\n",
            "|today       |2021/06/13|true    |\n",
            "|next week   |2021/06/20|true    |\n",
            "+------------+----------+--------+\n",
            "\n"
          ],
          "name": "stdout"
        }
      ]
    },
    {
      "cell_type": "markdown",
      "metadata": {
        "id": "dwgt4QtgSf6g"
      },
      "source": [
        "We can configure the `anchorDateYear`,`anchorDateMonth` and `anchorDateDay` for the relatives dates."
      ]
    },
    {
      "cell_type": "markdown",
      "metadata": {
        "id": "-WrTv3SLTIe7"
      },
      "source": [
        "In the following example we will use as a relative date 2021/02/22, to make that possible we need to set up the `anchorDateYear` to 2020, the `anchorDateMonth` to 2 and the `anchorDateDay` to 27. I will show you the configuration with the following example."
      ]
    },
    {
      "cell_type": "code",
      "metadata": {
        "id": "zttFZDgJSdZi"
      },
      "source": [
        "date_normalizer = DateNormalizer().setInputCols('chunk_date').setOutputCol('date')\\\n",
        "            .setAnchorDateDay(27)\\\n",
        "            .setAnchorDateMonth(2)\\\n",
        "            .setAnchorDateYear(2021)"
      ],
      "execution_count": null,
      "outputs": []
    },
    {
      "cell_type": "code",
      "metadata": {
        "colab": {
          "base_uri": "https://localhost:8080/"
        },
        "id": "HvBFcvVnUge3",
        "outputId": "e4467dc2-0a87-4274-f3be-6438759f5e18"
      },
      "source": [
        "date_normaliced_df = date_normalizer.transform(chunks_df)\n",
        "dateNormalizedClean = date_normaliced_df.selectExpr(\"ner_chunk\",\"date.result as dateresult\",\"date.metadata as metadata\")\n",
        "dateNormalizedClean.withColumn(\"dateresult\", dateNormalizedClean[\"dateresult\"]\n",
        "                               .getItem(0)).withColumn(\"metadata\", dateNormalizedClean[\"metadata\"]\n",
        "                                                       .getItem(0)['normalized']).show(truncate=False)\n"
      ],
      "execution_count": null,
      "outputs": [
        {
          "output_type": "stream",
          "text": [
            "+------------+----------+--------+\n",
            "|ner_chunk   |dateresult|metadata|\n",
            "+------------+----------+--------+\n",
            "|08/02/2018  |2018/08/02|true    |\n",
            "|11/2018     |2018/11/DD|true    |\n",
            "|11/01/2018  |2018/11/01|true    |\n",
            "|12Mar2021   |2021/03/12|true    |\n",
            "|Jan 30, 2018|2018/01/30|true    |\n",
            "|13.04.1999  |1999/04/13|true    |\n",
            "|3April 2020 |2020/04/03|true    |\n",
            "|next monday |2021/02/29|true    |\n",
            "|today       |2021/02/27|true    |\n",
            "|next week   |2021/03/03|true    |\n",
            "+------------+----------+--------+\n",
            "\n"
          ],
          "name": "stdout"
        }
      ]
    },
    {
      "cell_type": "markdown",
      "metadata": {
        "id": "HiQke1C2VGuH"
      },
      "source": [
        "As you see the relatives dates like `next monday` , `today` and `next week` takes the `2021/02/22` as reference date.\n"
      ]
    }
  ]
}
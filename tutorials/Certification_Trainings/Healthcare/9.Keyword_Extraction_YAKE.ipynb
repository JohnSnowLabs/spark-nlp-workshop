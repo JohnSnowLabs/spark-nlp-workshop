{
 "cells": [
  {
   "cell_type": "markdown",
   "metadata": {},
   "source": [
    "![JohnSnowLabs](https://nlp.johnsnowlabs.com/assets/images/logo.png)"
   ]
  },
  {
   "cell_type": "markdown",
   "metadata": {},
   "source": [
    "[![Open In Colab](https://colab.research.google.com/assets/colab-badge.svg)](https://colab.research.google.com/github/JohnSnowLabs/spark-nlp-workshop/blob/master/tutorials/Certification_Trainings/Healthcare/9.Keyword_Extraction_YAKE.ipynb)"
   ]
  },
  {
   "cell_type": "code",
   "execution_count": 1,
   "metadata": {},
   "outputs": [
    {
     "data": {
      "text/plain": [
       "dict_keys(['JSL_VERSION', 'PUBLIC_VERSION', 'SECRET', 'SPARK_NLP_LICENSE', 'AWS_ACCESS_KEY_ID', 'AWS_SECRET_ACCESS_KEY', 'JSL_OCR_SECRET', 'SPARK_OCR_LICENSE'])"
      ]
     },
     "execution_count": 1,
     "metadata": {},
     "output_type": "execute_result"
    }
   ],
   "source": [
    "import json\n",
    "\n",
    "with open('workshop_license_keys_Aug2020.json') as f:\n",
    "    license_keys = json.load(f)\n",
    "\n",
    "license_keys.keys()\n"
   ]
  },
  {
   "cell_type": "code",
   "execution_count": 2,
   "metadata": {},
   "outputs": [
    {
     "data": {
      "text/plain": [
       "'2.5.4rc3'"
      ]
     },
     "execution_count": 2,
     "metadata": {},
     "output_type": "execute_result"
    }
   ],
   "source": [
    "license_keys['JSL_VERSION']"
   ]
  },
  {
   "cell_type": "code",
   "execution_count": 3,
   "metadata": {},
   "outputs": [
    {
     "data": {
      "text/plain": [
       "{'JSL_VERSION': 'jjj',\n",
       " 'PUBLIC_VERSION': 'vvv',\n",
       " 'SECRET': 'xxx',\n",
       " 'SPARK_NLP_LICENSE': 'aaa',\n",
       " 'JSL_OCR_LICENSE': 'bbb',\n",
       " 'AWS_ACCESS_KEY_ID': 'ccc',\n",
       " 'AWS_SECRET_ACCESS_KEY': 'ddd',\n",
       " 'JSL_OCR_SECRET': 'eee'}"
      ]
     },
     "execution_count": 3,
     "metadata": {},
     "output_type": "execute_result"
    }
   ],
   "source": [
    "# template for license_key.json\n",
    "\n",
    "{'JSL_VERSION':'jjj',\n",
    "'PUBLIC_VERSION':'vvv',\n",
    "'SECRET':\"xxx\",\n",
    "'SPARK_NLP_LICENSE': 'aaa',\n",
    "'JSL_OCR_LICENSE': 'bbb',\n",
    "'AWS_ACCESS_KEY_ID':\"ccc\",\n",
    "'AWS_SECRET_ACCESS_KEY':\"ddd\",\n",
    "'JSL_OCR_SECRET':\"eee\"}"
   ]
  },
  {
   "cell_type": "code",
   "execution_count": 2,
   "metadata": {},
   "outputs": [],
   "source": [
    "import os\n",
    "\n",
    "# Install java\n",
    "! apt-get install -y openjdk-8-jdk-headless -qq > /dev/null\n",
    "os.environ[\"JAVA_HOME\"] = \"/usr/lib/jvm/java-8-openjdk-amd64\"\n",
    "os.environ[\"PATH\"] = os.environ[\"JAVA_HOME\"] + \"/bin:\" + os.environ[\"PATH\"]\n",
    "! java -version\n",
    "\n",
    "secret = license_keys['SECRET']\n",
    "\n",
    "os.environ['SPARK_NLP_LICENSE'] = license_keys['SPARK_NLP_LICENSE']\n",
    "os.environ['JSL_OCR_LICENSE'] = license_keys['JSL_OCR_LICENSE']\n",
    "os.environ['AWS_ACCESS_KEY_ID']= license_keys['AWS_ACCESS_KEY_ID']\n",
    "os.environ['AWS_SECRET_ACCESS_KEY'] = license_keys['AWS_SECRET_ACCESS_KEY']\n",
    "jsl_version = license_keys['JSL_VERSION']\n",
    "version = license_keys['PUBLIC_VERSION']\n",
    "\n",
    "! pip install --ignore-installed -q pyspark==2.4.4\n",
    "\n",
    "! python -m pip install --upgrade spark-nlp-jsl==$jsl_version  --extra-index-url https://pypi.johnsnowlabs.com/$secret\n",
    "\n",
    "! pip install --ignore-installed -q spark-nlp==$version\n",
    "\n",
    "import sparknlp\n",
    "\n",
    "print (sparknlp.version())\n",
    "\n",
    "import json\n",
    "import os\n",
    "from pyspark.ml import Pipeline\n",
    "from pyspark.sql import SparkSession\n",
    "\n",
    "\n",
    "from sparknlp.annotator import *\n",
    "from sparknlp_jsl.annotator import *\n",
    "from sparknlp.base import *\n",
    "import sparknlp_jsl\n",
    "\n",
    "spark = sparknlp_jsl.start(secret)"
   ]
  },
  {
   "cell_type": "code",
   "execution_count": null,
   "metadata": {},
   "outputs": [],
   "source": [
    " # if you want to start the session with custom params as in start function above\n",
    "\n",
    "def start(secret):\n",
    "    builder = SparkSession.builder \\\n",
    "        .appName(\"Spark NLP Licensed\") \\\n",
    "        .master(\"local[*]\") \\\n",
    "        .config(\"spark.driver.memory\", \"16G\") \\\n",
    "        .config(\"spark.serializer\", \"org.apache.spark.serializer.KryoSerializer\") \\\n",
    "        .config(\"spark.kryoserializer.buffer.max\", \"2000M\") \\\n",
    "        .config(\"spark.jars.packages\", \"com.johnsnowlabs.nlp:spark-nlp_2.11:\"+version) \\\n",
    "        .config(\"spark.jars\", \"https://pypi.johnsnowlabs.com/\"+secret+\"/spark-nlp-jsl-\"+jsl_version+\".jar\")\n",
    "      \n",
    "    return builder.getOrCreate()\n",
    "\n",
    "\n",
    "#spark = start(secret)"
   ]
  },
  {
   "cell_type": "code",
   "execution_count": 2,
   "metadata": {},
   "outputs": [
    {
     "name": "stdout",
     "output_type": "stream",
     "text": [
      "2.5.2\n"
     ]
    }
   ],
   "source": [
    "import sparknlp\n",
    "\n",
    "print (sparknlp.version())\n",
    "\n",
    "import json\n",
    "import os\n",
    "from pyspark.ml import Pipeline\n",
    "from pyspark.sql import SparkSession\n",
    "\n",
    "\n",
    "from sparknlp.annotator import *\n",
    "from sparknlp_jsl.annotator import *\n",
    "from sparknlp.base import *\n",
    "import sparknlp_jsl\n",
    "\n",
    "\n",
    "def start(secret):\n",
    "    builder = SparkSession.builder \\\n",
    "        .appName(\"Spark NLP Licensed\") \\\n",
    "        .master(\"local[*]\") \\\n",
    "        .config(\"spark.driver.memory\", \"8G\") \\\n",
    "        .config(\"spark.serializer\", \"org.apache.spark.serializer.KryoSerializer\") \\\n",
    "        .config(\"spark.kryoserializer.buffer.max\", \"2000M\") \\\n",
    "        .config(\"spark.jars.packages\", \"com.johnsnowlabs.nlp:spark-nlp_2.11:2.5.2\") \\\n",
    "        .config(\"spark.jars\", \"https://pypi.johnsnowlabs.com/\"+secret+\"/spark-nlp-jsl-2.5.3rc0.jar\")\n",
    "      \n",
    "    return builder.getOrCreate()\n",
    "\n",
    "\n",
    "#spark = start(secret)\n"
   ]
  },
  {
   "cell_type": "code",
   "execution_count": 3,
   "metadata": {},
   "outputs": [],
   "source": [
    "from pyspark.sql import functions as F\n",
    "from pyspark.sql.functions import lit\n",
    "from pyspark.sql.types import StringType, DataType,ArrayType\n",
    "from sparknlp_jsl.annotator import YakeModel\n",
    "from pyspark.sql.functions import udf, struct\n",
    "from IPython.core.display import display, HTML\n",
    "import re"
   ]
  },
  {
   "cell_type": "code",
   "execution_count": 4,
   "metadata": {},
   "outputs": [],
   "source": [
    "! wget -q https://s3.amazonaws.com/auxdata.johnsnowlabs.com/public/resources/en/pubmed/pubmed_sample_text_small.csv\n"
   ]
  },
  {
   "cell_type": "code",
   "execution_count": null,
   "metadata": {},
   "outputs": [],
   "source": [
    "import pyspark.sql.functions as F\n",
    "\n",
    "df = spark.read\\\n",
    "                .option(\"header\", \"true\")\\\n",
    "                .csv(\"pubmed_sample_text_small.csv\")\\\n",
    "                \n",
    "df.show(truncate=50)"
   ]
  },
  {
   "cell_type": "code",
   "execution_count": 38,
   "metadata": {},
   "outputs": [],
   "source": [
    "stop = [\"0o\", \"0s\", \"3a\", \"3b\", \"3d\", \"6b\", \"6o\", \"a\", \"a1\", \"a2\", \"a3\", \"a4\", \"ab\", \"able\", \"about\", \"above\", \"abst\", \"ac\", \"accordance\", \"according\", \"accordingly\", \"across\", \"act\", \"actually\", \"ad\", \"added\", \"adj\", \"ae\", \"af\", \"affected\", \"affecting\", \"affects\", \"after\", \"afterwards\", \"ag\", \"again\", \"against\", \"ah\", \"ain\", \"ain't\", \"aj\", \"al\", \"all\", \"allow\", \"allows\", \"almost\", \"alone\", \"along\", \"already\", \"also\", \"although\", \"always\", \"am\", \"among\", \"amongst\", \"amoungst\", \"amount\", \"an\", \"and\", \"announce\", \"another\", \"any\", \"anybody\", \"anyhow\", \"anymore\", \"anyone\", \"anything\", \"anyway\", \"anyways\", \"anywhere\", \"ao\", \"ap\", \"apart\", \"apparently\", \"appear\", \"appreciate\", \"appropriate\", \"approximately\", \"ar\", \"are\", \"aren\", \"arent\", \"aren't\", \"arise\", \"around\", \"as\", \"a's\", \"aside\", \"ask\", \"asking\", \"associated\", \"at\", \"au\", \"auth\", \"av\", \"available\", \"aw\", \"away\", \"awfully\", \"ax\", \"ay\", \"az\", \"b\", \"b1\", \"b2\", \"b3\", \"ba\", \"back\", \"bc\", \"bd\", \"be\", \"became\", \"because\", \"become\", \"becomes\", \"becoming\", \"been\", \"before\", \"beforehand\", \"begin\", \"beginning\", \"beginnings\", \"begins\", \"behind\", \"being\", \"believe\", \"below\", \"beside\", \"besides\", \"best\", \"better\", \"between\", \"beyond\", \"bi\", \"bill\", \"biol\", \"bj\", \"bk\", \"bl\", \"bn\", \"both\", \"bottom\", \"bp\", \"br\", \"brief\", \"briefly\", \"bs\", \"bt\", \"bu\", \"but\", \"bx\", \"by\", \"c\", \"c1\", \"c2\", \"c3\", \"ca\", \"call\", \"came\", \"can\", \"cannot\", \"cant\", \"can't\", \"cause\", \"causes\", \"cc\", \"cd\", \"ce\", \"certain\", \"certainly\", \"cf\", \"cg\", \"ch\", \"changes\", \"ci\", \"cit\", \"cj\", \"cl\", \"clearly\", \"cm\", \"c'mon\", \"cn\", \"co\", \"com\", \"come\", \"comes\", \"con\", \"concerning\", \"consequently\", \"consider\", \"considering\", \"contain\", \"containing\", \"contains\", \"corresponding\", \"could\", \"couldn\", \"couldnt\", \"couldn't\", \"course\", \"cp\", \"cq\", \"cr\", \"cry\", \"cs\", \"c's\", \"ct\", \"cu\", \"currently\", \"cv\", \"cx\", \"cy\", \"cz\", \"d\", \"d2\", \"da\", \"date\", \"dc\", \"dd\", \"de\", \"definitely\", \"describe\", \"described\", \"despite\", \"detail\", \"df\", \"di\", \"did\", \"didn\", \"didn't\", \"different\", \"dj\", \"dk\", \"dl\", \"do\", \"does\", \"doesn\", \"doesn't\", \"doing\", \"don\", \"done\", \"don't\", \"down\", \"downwards\", \"dp\", \"dr\", \"ds\", \"dt\", \"du\", \"due\", \"during\", \"dx\", \"dy\", \"e\", \"e2\", \"e3\", \"ea\", \"each\", \"ec\", \"ed\", \"edu\", \"ee\", \"ef\", \"effect\", \"eg\", \"ei\", \"eight\", \"eighty\", \"either\", \"ej\", \"el\", \"eleven\", \"else\", \"elsewhere\", \"em\", \"empty\", \"en\", \"end\", \"ending\", \"enough\", \"entirely\", \"eo\", \"ep\", \"eq\", \"er\", \"es\", \"especially\", \"est\", \"et\", \"et-al\", \"etc\", \"eu\", \"ev\", \"even\", \"ever\", \"every\", \"everybody\", \"everyone\", \"everything\", \"everywhere\", \"ex\", \"exactly\", \"example\", \"except\", \"ey\", \"f\", \"f2\", \"fa\", \"far\", \"fc\", \"few\", \"ff\", \"fi\", \"fifteen\", \"fifth\", \"fify\", \"fill\", \"find\", \"fire\", \"first\", \"five\", \"fix\", \"fj\", \"fl\", \"fn\", \"fo\", \"followed\", \"following\", \"follows\", \"for\", \"former\", \"formerly\", \"forth\", \"forty\", \"found\", \"four\", \"fr\", \"from\", \"front\", \"fs\", \"ft\", \"fu\", \"full\", \"further\", \"furthermore\", \"fy\", \"g\", \"ga\", \"gave\", \"ge\", \"get\", \"gets\", \"getting\", \"gi\", \"give\", \"given\", \"gives\", \"giving\", \"gj\", \"gl\", \"go\", \"goes\", \"going\", \"gone\", \"got\", \"gotten\", \"gr\", \"greetings\", \"gs\", \"gy\", \"h\", \"h2\", \"h3\", \"had\", \"hadn\", \"hadn't\", \"happens\", \"hardly\", \"has\", \"hasn\", \"hasnt\", \"hasn't\", \"have\", \"haven\", \"haven't\", \"having\", \"he\", \"hed\", \"he'd\", \"he'll\", \"hello\", \"help\", \"hence\", \"her\", \"here\", \"hereafter\", \"hereby\", \"herein\", \"heres\", \"here's\", \"hereupon\", \"hers\", \"herself\", \"hes\", \"he's\", \"hh\", \"hi\", \"hid\", \"him\", \"himself\", \"his\", \"hither\", \"hj\", \"ho\", \"home\", \"hopefully\", \"how\", \"howbeit\", \"however\", \"how's\", \"hr\", \"hs\", \"http\", \"hu\", \"hundred\", \"hy\", \"i\", \"i2\", \"i3\", \"i4\", \"i6\", \"i7\", \"i8\", \"ia\", \"ib\", \"ibid\", \"ic\", \"id\", \"i'd\", \"ie\", \"if\", \"ig\", \"ignored\", \"ih\", \"ii\", \"ij\", \"il\", \"i'll\", \"im\", \"i'm\", \"immediate\", \"immediately\", \"importance\", \"important\", \"in\", \"inasmuch\", \"inc\", \"indeed\", \"index\", \"indicate\", \"indicated\", \"indicates\", \"information\", \"inner\", \"insofar\", \"instead\", \"interest\", \"into\", \"invention\", \"inward\", \"io\", \"ip\", \"iq\", \"ir\", \"is\", \"isn\", \"isn't\", \"it\", \"itd\", \"it'd\", \"it'll\", \"its\", \"it's\", \"itself\", \"iv\", \"i've\", \"ix\", \"iy\", \"iz\", \"j\", \"jj\", \"jr\", \"js\", \"jt\", \"ju\", \"just\", \"k\", \"ke\", \"keep\", \"keeps\", \"kept\", \"kg\", \"kj\", \"km\", \"know\", \"known\", \"knows\", \"ko\", \"l\", \"l2\", \"la\", \"largely\", \"last\", \"lately\", \"later\", \"latter\", \"latterly\", \"lb\", \"lc\", \"le\", \"least\", \"les\", \"less\", \"lest\", \"let\", \"lets\", \"let's\", \"lf\", \"like\", \"liked\", \"likely\", \"line\", \"little\", \"lj\", \"ll\", \"ll\", \"ln\", \"lo\", \"look\", \"looking\", \"looks\", \"los\", \"lr\", \"ls\", \"lt\", \"ltd\", \"m\", \"m2\", \"ma\", \"made\", \"mainly\", \"make\", \"makes\", \"many\", \"may\", \"maybe\", \"me\", \"mean\", \"means\", \"meantime\", \"meanwhile\", \"merely\", \"mg\", \"might\", \"mightn\", \"mightn't\", \"mill\", \"million\", \"mine\", \"miss\", \"ml\", \"mn\", \"mo\", \"more\", \"moreover\", \"most\", \"mostly\", \"move\", \"mr\", \"mrs\", \"ms\", \"mt\", \"mu\", \"much\", \"mug\", \"must\", \"mustn\", \"mustn't\", \"my\", \"myself\", \"n\", \"n2\", \"na\", \"name\", \"namely\", \"nay\", \"nc\", \"nd\", \"ne\", \"near\", \"nearly\", \"necessarily\", \"necessary\", \"need\", \"needn\", \"needn't\", \"needs\", \"neither\", \"never\", \"nevertheless\", \"new\", \"next\", \"ng\", \"ni\", \"nine\", \"ninety\", \"nj\", \"nl\", \"nn\", \"no\", \"nobody\", \"non\", \"none\", \"nonetheless\", \"noone\", \"nor\", \"normally\", \"nos\", \"not\", \"noted\", \"nothing\", \"novel\", \"now\", \"nowhere\", \"nr\", \"ns\", \"nt\", \"ny\", \"o\", \"oa\", \"ob\", \"obtain\", \"obtained\", \"obviously\", \"oc\", \"od\", \"of\", \"off\", \"often\", \"og\", \"oh\", \"oi\", \"oj\", \"ok\", \"okay\", \"ol\", \"old\", \"om\", \"omitted\", \"on\", \"once\", \"one\", \"ones\", \"only\", \"onto\", \"oo\", \"op\", \"oq\", \"or\", \"ord\", \"os\", \"ot\", \"other\", \"others\", \"otherwise\", \"ou\", \"ought\", \"our\", \"ours\", \"ourselves\", \"out\", \"outside\", \"over\", \"overall\", \"ow\", \"owing\", \"own\", \"ox\", \"oz\", \"p\", \"p1\", \"p2\", \"p3\", \"page\", \"pagecount\", \"pages\", \"par\", \"part\", \"particular\", \"particularly\", \"pas\", \"past\", \"pc\", \"pd\", \"pe\", \"per\", \"perhaps\", \"pf\", \"ph\", \"pi\", \"pj\", \"pk\", \"pl\", \"placed\", \"please\", \"plus\", \"pm\", \"pn\", \"po\", \"poorly\", \"possible\", \"possibly\", \"potentially\", \"pp\", \"pq\", \"pr\", \"predominantly\", \"present\", \"presumably\", \"previously\", \"primarily\", \"probably\", \"promptly\", \"proud\", \"provides\", \"ps\", \"pt\", \"pu\", \"put\", \"py\", \"q\", \"qj\", \"qu\", \"que\", \"quickly\", \"quite\", \"qv\", \"r\", \"r2\", \"ra\", \"ran\", \"rather\", \"rc\", \"rd\", \"re\", \"readily\", \"really\", \"reasonably\", \"recent\", \"recently\", \"ref\", \"refs\", \"regarding\", \"regardless\", \"regards\", \"related\", \"relatively\", \"research\", \"research-articl\", \"respectively\", \"resulted\", \"resulting\", \"results\", \"rf\", \"rh\", \"ri\", \"right\", \"rj\", \"rl\", \"rm\", \"rn\", \"ro\", \"rq\", \"rr\", \"rs\", \"rt\", \"ru\", \"run\", \"rv\", \"ry\", \"s\", \"s2\", \"sa\", \"said\", \"same\", \"saw\", \"say\", \"saying\", \"says\", \"sc\", \"sd\", \"se\", \"sec\", \"second\", \"secondly\", \"section\", \"see\", \"seeing\", \"seem\", \"seemed\", \"seeming\", \"seems\", \"seen\", \"self\", \"selves\", \"sensible\", \"sent\", \"serious\", \"seriously\", \"seven\", \"several\", \"sf\", \"shall\", \"shan\", \"shan't\", \"she\", \"shed\", \"she'd\", \"she'll\", \"shes\", \"she's\", \"should\", \"shouldn\", \"shouldn't\", \"should've\", \"show\", \"showed\", \"shown\", \"showns\", \"shows\", \"si\", \"side\", \"significant\", \"significantly\", \"similar\", \"similarly\", \"since\", \"sincere\", \"six\", \"sixty\", \"sj\", \"sl\", \"slightly\", \"sm\", \"sn\", \"so\", \"some\", \"somebody\", \"somehow\", \"someone\", \"somethan\", \"something\", \"sometime\", \"sometimes\", \"somewhat\", \"somewhere\", \"soon\", \"sorry\", \"sp\", \"specifically\", \"specified\", \"specify\", \"specifying\", \"sq\", \"sr\", \"ss\", \"st\", \"still\", \"stop\", \"strongly\", \"sub\", \"substantially\", \"successfully\", \"such\", \"sufficiently\", \"suggest\", \"sup\", \"sure\", \"sy\", \"system\", \"sz\", \"t\", \"t1\", \"t2\", \"t3\", \"take\", \"taken\", \"taking\", \"tb\", \"tc\", \"td\", \"te\", \"tell\", \"ten\", \"tends\", \"tf\", \"th\", \"than\", \"thank\", \"thanks\", \"thanx\", \"that\", \"that'll\", \"thats\", \"that's\", \"that've\", \"the\", \"their\", \"theirs\", \"them\", \"themselves\", \"then\", \"thence\", \"there\", \"thereafter\", \"thereby\", \"thered\", \"therefore\", \"therein\", \"there'll\", \"thereof\", \"therere\", \"theres\", \"there's\", \"thereto\", \"thereupon\", \"there've\", \"these\", \"they\", \"theyd\", \"they'd\", \"they'll\", \"theyre\", \"they're\", \"they've\", \"thickv\", \"thin\", \"think\", \"third\", \"this\", \"thorough\", \"thoroughly\", \"those\", \"thou\", \"though\", \"thoughh\", \"thousand\", \"three\", \"throug\", \"through\", \"throughout\", \"thru\", \"thus\", \"ti\", \"til\", \"tip\", \"tj\", \"tl\", \"tm\", \"tn\", \"to\", \"together\", \"too\", \"took\", \"top\", \"toward\", \"towards\", \"tp\", \"tq\", \"tr\", \"tried\", \"tries\", \"truly\", \"try\", \"trying\", \"ts\", \"t's\", \"tt\", \"tv\", \"twelve\", \"twenty\", \"twice\", \"two\", \"tx\", \"u\", \"u201d\", \"ue\", \"ui\", \"uj\", \"uk\", \"um\", \"un\", \"under\", \"unfortunately\", \"unless\", \"unlike\", \"unlikely\", \"until\", \"unto\", \"uo\", \"up\", \"upon\", \"ups\", \"ur\", \"us\", \"use\", \"used\", \"useful\", \"usefully\", \"usefulness\", \"uses\", \"using\", \"usually\", \"ut\", \"v\", \"va\", \"value\", \"various\", \"vd\", \"ve\", \"ve\", \"very\", \"via\", \"viz\", \"vj\", \"vo\", \"vol\", \"vols\", \"volumtype\", \"vq\", \"vs\", \"vt\", \"vu\", \"w\", \"wa\", \"want\", \"wants\", \"was\", \"wasn\", \"wasnt\", \"wasn't\", \"way\", \"we\", \"wed\", \"we'd\", \"welcome\", \"well\", \"we'll\", \"well-b\", \"went\", \"were\", \"we're\", \"weren\", \"werent\", \"weren't\", \"we've\", \"what\", \"whatever\", \"what'll\", \"whats\", \"what's\", \"when\", \"whence\", \"whenever\", \"when's\", \"where\", \"whereafter\", \"whereas\", \"whereby\", \"wherein\", \"wheres\", \"where's\", \"whereupon\", \"wherever\", \"whether\", \"which\", \"while\", \"whim\", \"whither\", \"who\", \"whod\", \"whoever\", \"whole\", \"who'll\", \"whom\", \"whomever\", \"whos\", \"who's\", \"whose\", \"why\", \"why's\", \"wi\", \"widely\", \"will\", \"willing\", \"wish\", \"with\", \"within\", \"without\", \"wo\", \"won\", \"wonder\", \"wont\", \"won't\", \"words\", \"world\", \"would\", \"wouldn\", \"wouldnt\", \"wouldn't\", \"www\", \"x\", \"x1\", \"x2\", \"x3\", \"xf\", \"xi\", \"xj\", \"xk\", \"xl\", \"xn\", \"xo\", \"xs\", \"xt\", \"xv\", \"xx\", \"y\", \"y2\", \"yes\", \"yet\", \"yj\", \"yl\", \"you\", \"youd\", \"you'd\", \"you'll\", \"your\", \"youre\", \"you're\", \"yours\", \"yourself\", \"yourselves\", \"you've\", \"yr\", \"ys\", \"yt\", \"z\", \"zero\", \"zi\", \"zz\"]"
   ]
  },
  {
   "cell_type": "code",
   "execution_count": 43,
   "metadata": {},
   "outputs": [],
   "source": [
    "document = DocumentAssembler() \\\n",
    "            .setInputCol(\"text\") \\\n",
    "            .setOutputCol(\"document\")\n",
    "\n",
    "sentenceDetector = SentenceDetector() \\\n",
    "    .setInputCols(\"document\") \\\n",
    "    .setOutputCol(\"sentence\")\n",
    "\n",
    "token = Tokenizer() \\\n",
    "    .setInputCols(\"sentence\") \\\n",
    "    .setOutputCol(\"token\") \\\n",
    "    .setContextChars([\"(\", \")\", \"?\", \"!\", \".\", \",\"])\n",
    "\n",
    "keywords = YakeModel() \\\n",
    "    .setInputCols(\"token\") \\\n",
    "    .setOutputCol(\"keywords\") \\\n",
    "    .setMinNGrams(1) \\\n",
    "    .setMaxNGrams(3)\\\n",
    "    .setNKeywords(20)\\\n",
    "    .setStopWords(stop)\n",
    "finisher = Finisher() \\\n",
    "    .setInputCols([\"keywords\"]) \\\n",
    "    .setIncludeMetadata(False)\n",
    "pipeline = Pipeline(stages=[document, sentenceDetector, token, keywords,finisher])\n",
    "\n",
    "result = pipeline.fit(df).transform(df)"
   ]
  },
  {
   "cell_type": "code",
   "execution_count": 44,
   "metadata": {},
   "outputs": [],
   "source": [
    "result = result.withColumn('unique_keywords',F.array_distinct(\"finished_keywords\"))"
   ]
  },
  {
   "cell_type": "code",
   "execution_count": 34,
   "metadata": {},
   "outputs": [],
   "source": [
    "def highlight(text,keywords):\n",
    "    for k in keywords:\n",
    "        text = (re.sub(r'(\\b%s\\b)'%k, r'<span style=\"background-color: yellow;\">\\1</span>', text, flags=re.IGNORECASE))\n",
    "    return text"
   ]
  },
  {
   "cell_type": "code",
   "execution_count": 35,
   "metadata": {},
   "outputs": [],
   "source": [
    "highlight_udf = udf(highlight, StringType())\n"
   ]
  },
  {
   "cell_type": "code",
   "execution_count": 45,
   "metadata": {},
   "outputs": [],
   "source": [
    "result = result.withColumn(\"highlighted_keywords\",highlight_udf('text','unique_keywords'))"
   ]
  },
  {
   "cell_type": "code",
   "execution_count": 46,
   "metadata": {},
   "outputs": [
    {
     "data": {
      "text/html": [
       "Most <span style=\"background-color: yellow;\">fragile</span> X <span style=\"background-color: yellow;\">patients</span> have a significant <span style=\"background-color: yellow;\">increase</span> in the <span style=\"background-color: yellow;\">number</span> of <span style=\"background-color: yellow;\">CGG</span> <span style=\"background-color: yellow;\">repeats</span> in the FMR1 <span style=\"background-color: yellow;\">gene</span>. Two <span style=\"background-color: yellow;\">patients</span> were described with a <span style=\"background-color: yellow;\">deletion</span> and one <span style=\"background-color: yellow;\">patient</span> with a <span style=\"background-color: yellow;\">point</span> <span style=\"background-color: yellow;\">mutation</span> in the FMR1 <span style=\"background-color: yellow;\">gene</span>. We describe 5 <span style=\"background-color: yellow;\">patients</span> with a <span style=\"background-color: yellow;\">fragile</span> X or Martin-Bell <span style=\"background-color: yellow;\">phenotype</span>. Two brothers were <span style=\"background-color: yellow;\">discordant</span> for the <span style=\"background-color: yellow;\">region</span> containing the FMR1 <span style=\"background-color: yellow;\">gene</span>; if there is a <span style=\"background-color: yellow;\">common</span> cause for the mental <span style=\"background-color: yellow;\">retardation</span> this is not <span style=\"background-color: yellow;\">located</span> in the FMR1 <span style=\"background-color: yellow;\">gene</span>. In the other 3 <span style=\"background-color: yellow;\">patients</span> the expression of the FMR1 <span style=\"background-color: yellow;\">gene</span> was found to be normal and no abnormalities were noted in the FMR1 mRNA. No amplification was found in the <span style=\"background-color: yellow;\">GCC</span> repeat which is associated with the <span style=\"background-color: yellow;\">fragile</span> site <span style=\"background-color: yellow;\">FRAXE</span>. We conclude that the Martin-Bell <span style=\"background-color: yellow;\">phenotype</span> can also be caused by mutations outside the FMR1 <span style=\"background-color: yellow;\">gene</span>."
      ],
      "text/plain": [
       "<IPython.core.display.HTML object>"
      ]
     },
     "metadata": {},
     "output_type": "display_data"
    },
    {
     "name": "stdout",
     "output_type": "stream",
     "text": [
      "\n",
      "\n",
      "\n"
     ]
    },
    {
     "data": {
      "text/html": [
       "In this study, young <span style=\"background-color: yellow;\">females</span> with the fragile X [fra(X)] full <span style=\"background-color: yellow;\">mutation</span> (<span style=\"background-color: yellow;\">fM</span>) were assessed using quantitative <span style=\"background-color: yellow;\">measures</span> of <span style=\"background-color: yellow;\">mutation</span> amplification size (<span style=\"background-color: yellow;\">Amp</span>) as well as the ratio of active <span style=\"background-color: yellow;\">normal</span> X <span style=\"background-color: yellow;\">chromosome</span> to total <span style=\"background-color: yellow;\">normal</span> X <span style=\"background-color: yellow;\">chromosome</span> (activation ratio-AR). Neurobehavioral assessments of <span style=\"background-color: yellow;\">females</span> with the <span style=\"background-color: yellow;\">fM</span> were performed and included <span style=\"background-color: yellow;\">specific</span> and general <span style=\"background-color: yellow;\">measures</span> of <span style=\"background-color: yellow;\">cognitive</span> and behavioral/developmental <span style=\"background-color: yellow;\">functioning</span>. To investigate <span style=\"background-color: yellow;\">molecular</span>-behavioral <span style=\"background-color: yellow;\">associations</span>, <span style=\"background-color: yellow;\">Amp</span> and AR were used as independent <span style=\"background-color: yellow;\">variables</span>, while <span style=\"background-color: yellow;\">cognitive</span> and behavioral <span style=\"background-color: yellow;\">scores</span> were used as dependent <span style=\"background-color: yellow;\">variables</span>. Significant <span style=\"background-color: yellow;\">correlations</span> were <span style=\"background-color: yellow;\">observed</span> between both <span style=\"background-color: yellow;\">molecular</span> <span style=\"background-color: yellow;\">variables</span> (<span style=\"background-color: yellow;\">Amp</span> and AR) and <span style=\"background-color: yellow;\">measures</span> of <span style=\"background-color: yellow;\">cognitive</span> <span style=\"background-color: yellow;\">functioning</span>, with AR showing the most <span style=\"background-color: yellow;\">consistent</span> and robust <span style=\"background-color: yellow;\">correlations</span>. As AR <span style=\"background-color: yellow;\">increased</span>, overall IQ and <span style=\"background-color: yellow;\">specific</span> <span style=\"background-color: yellow;\">subtest</span> and <span style=\"background-color: yellow;\">area</span> <span style=\"background-color: yellow;\">scores</span> from the <span style=\"background-color: yellow;\">cognitive</span> tests <span style=\"background-color: yellow;\">increased</span>. Conversely, as <span style=\"background-color: yellow;\">Amp</span> <span style=\"background-color: yellow;\">increased</span>, the overall IQ and <span style=\"background-color: yellow;\">specific</span> <span style=\"background-color: yellow;\">subtest</span> and <span style=\"background-color: yellow;\">area</span> <span style=\"background-color: yellow;\">cognitive</span> <span style=\"background-color: yellow;\">scores</span> decreased. No significant <span style=\"background-color: yellow;\">associations</span> were <span style=\"background-color: yellow;\">observed</span> between AR or <span style=\"background-color: yellow;\">Amp</span> and <span style=\"background-color: yellow;\">measures</span> of behavior or development. The <span style=\"background-color: yellow;\">molecular</span>-<span style=\"background-color: yellow;\">cognitive</span> <span style=\"background-color: yellow;\">associations</span> were generally <span style=\"background-color: yellow;\">consistent</span> with the <span style=\"background-color: yellow;\">cognitive</span> profile previously described in studies comparing <span style=\"background-color: yellow;\">females</span> with fra(X) to age-matched controls. <span style=\"background-color: yellow;\">Amp</span> and AR were not associated with one another, nor were they associated with the same cluster of <span style=\"background-color: yellow;\">cognitive</span> <span style=\"background-color: yellow;\">measures</span>. Though this report does not conclusively show that AR and <span style=\"background-color: yellow;\">Amp</span> can be used to clinically assess the risk of a female with the <span style=\"background-color: yellow;\">fM</span> for <span style=\"background-color: yellow;\">cognitive</span> disability, the evidence presented does suggest that these <span style=\"background-color: yellow;\">molecular</span> <span style=\"background-color: yellow;\">variables</span>, especially AR, reflect important underlying genetic factors contributing to the fra(X) phenotype."
      ],
      "text/plain": [
       "<IPython.core.display.HTML object>"
      ]
     },
     "metadata": {},
     "output_type": "display_data"
    },
    {
     "name": "stdout",
     "output_type": "stream",
     "text": [
      "\n",
      "\n",
      "\n"
     ]
    },
    {
     "data": {
      "text/html": [
       "Both <span style=\"background-color: yellow;\">fragile</span> X <span style=\"background-color: yellow;\">females</span> and <span style=\"background-color: yellow;\">mosaic</span> <span style=\"background-color: yellow;\">males</span> <span style=\"background-color: yellow;\">carry</span> a <span style=\"background-color: yellow;\">methylated</span> FMR1 <span style=\"background-color: yellow;\">allele</span> in some <span style=\"background-color: yellow;\">cells</span> and an <span style=\"background-color: yellow;\">unmethylated</span> <span style=\"background-color: yellow;\">allele</span> in other <span style=\"background-color: yellow;\">cells</span>. Due to FMR1 protein produced in <span style=\"background-color: yellow;\">cells</span> with an <span style=\"background-color: yellow;\">unmethylated</span> <span style=\"background-color: yellow;\">allele</span>, these <span style=\"background-color: yellow;\">individuals</span> are <span style=\"background-color: yellow;\">expected</span> to display a less severe <span style=\"background-color: yellow;\">cognitive</span> phenotype than non-<span style=\"background-color: yellow;\">mosaic</span> affected <span style=\"background-color: yellow;\">males</span>. A larger range in <span style=\"background-color: yellow;\">cognitive</span> abilities is <span style=\"background-color: yellow;\">expected</span> for these <span style=\"background-color: yellow;\">individuals</span> due to individual variation in X-inactivation or <span style=\"background-color: yellow;\">mosaicism</span> <span style=\"background-color: yellow;\">ratios</span>. These <span style=\"background-color: yellow;\">cognitive</span> <span style=\"background-color: yellow;\">effects</span> are well documented for <span style=\"background-color: yellow;\">females</span> and have been suggested for <span style=\"background-color: yellow;\">mosaic</span> <span style=\"background-color: yellow;\">males</span>. <span style=\"background-color: yellow;\">Data</span> on <span style=\"background-color: yellow;\">fragile</span> X <span style=\"background-color: yellow;\">females</span> suggest an approximately linear decrease in mean IQ <span style=\"background-color: yellow;\">score</span> as a function of the fraction of <span style=\"background-color: yellow;\">cells</span> with the mutation carried on the active X <span style=\"background-color: yellow;\">chromosome</span>. Analysis of these <span style=\"background-color: yellow;\">data</span> suggests that threshold <span style=\"background-color: yellow;\">effects</span> in the relationship between IQ <span style=\"background-color: yellow;\">score</span> and X-inactivation <span style=\"background-color: yellow;\">ratios</span> are negligible, and that X-inactivation occurs randomly (with no preferential inactivation of either X <span style=\"background-color: yellow;\">chromosome</span>) at a stage when the embryo consists of approximately 5 <span style=\"background-color: yellow;\">cells</span>. A similar analysis of future <span style=\"background-color: yellow;\">data</span> on <span style=\"background-color: yellow;\">mosaic</span> <span style=\"background-color: yellow;\">males</span> could yield estimates of the probability that a given cell will <span style=\"background-color: yellow;\">carry</span> a <span style=\"background-color: yellow;\">methylated</span> FMR1 <span style=\"background-color: yellow;\">allele</span> and of the number of embryonic <span style=\"background-color: yellow;\">cells</span> at the time that <span style=\"background-color: yellow;\">mosaicism</span> is established. Distributions of IQ scores among a population of heterozygotes or <span style=\"background-color: yellow;\">mosaic</span> male are predicted for several values of these parameters. These distributions include random contributions to IQ scores due to non-<span style=\"background-color: yellow;\">fragile</span>-X-related <span style=\"background-color: yellow;\">effects</span>, as well as X-inactivation or <span style=\"background-color: yellow;\">mosaicism</span> <span style=\"background-color: yellow;\">ratios</span> that vary from one individual to another."
      ],
      "text/plain": [
       "<IPython.core.display.HTML object>"
      ]
     },
     "metadata": {},
     "output_type": "display_data"
    },
    {
     "name": "stdout",
     "output_type": "stream",
     "text": [
      "\n",
      "\n",
      "\n"
     ]
    },
    {
     "data": {
      "text/html": [
       "Until recently, fragile X [fra(X)] <span style=\"background-color: yellow;\">syndrome</span> was diagnosed by cytogenetic techniques and/or linkage analysis. Investigation of the mutation at the molecular level has shown that amplification of a polymorphic trinucleotide <span style=\"background-color: yellow;\">repeat</span> (<span style=\"background-color: yellow;\">CGG</span>) is diagnostic of this <span style=\"background-color: yellow;\">syndrome</span>. Fu et al. [1991] observed that between 6-54 <span style=\"background-color: yellow;\">copies</span> of the <span style=\"background-color: yellow;\">repeat</span> were associated with <span style=\"background-color: yellow;\">alleles</span> found in the <span style=\"background-color: yellow;\">general</span> <span style=\"background-color: yellow;\">population</span>, whereas 50-200 <span style=\"background-color: yellow;\">copies</span> were associated with the <span style=\"background-color: yellow;\">premutation</span>. In <span style=\"background-color: yellow;\">general</span>, differences in copy <span style=\"background-color: yellow;\">number</span> between the <span style=\"background-color: yellow;\">normal</span> and premutated states are sufficiently large so that the <span style=\"background-color: yellow;\">probability</span> of misclassification is, for all practical purposes, zero. However, there is a grey area in which members from both populations overlap. The purpose of our study was to determine the <span style=\"background-color: yellow;\">probability</span> of misclassifying an <span style=\"background-color: yellow;\">individual</span> from either the <span style=\"background-color: yellow;\">general</span> or <span style=\"background-color: yellow;\">premutation</span> <span style=\"background-color: yellow;\">population</span>. DNA obtained from the <span style=\"background-color: yellow;\">general</span> <span style=\"background-color: yellow;\">population</span> and transmitting fra(X) females were analyzed from 3 centers in North America: <span style=\"background-color: yellow;\">Houston</span>, Texas; <span style=\"background-color: yellow;\">Rochester</span>, Minnesota; and <span style=\"background-color: yellow;\">Kingston</span>, Ontario. The <span style=\"background-color: yellow;\">distribution</span> of <span style=\"background-color: yellow;\">normal</span> <span style=\"background-color: yellow;\">alleles</span> from <span style=\"background-color: yellow;\">Houston</span> was not significantly different from those obtained from <span style=\"background-color: yellow;\">Rochester</span>. Therefore, these 2 samples were combined and the <span style=\"background-color: yellow;\">pooled</span> <span style=\"background-color: yellow;\">distribution</span> of <span style=\"background-color: yellow;\">normal</span> <span style=\"background-color: yellow;\">alleles</span> was compared with the <span style=\"background-color: yellow;\">pooled</span> <span style=\"background-color: yellow;\">distribution</span> of premutations. Results indicated that if 50 <span style=\"background-color: yellow;\">repeats</span> were used as the <span style=\"background-color: yellow;\">cutoff</span> <span style=\"background-color: yellow;\">criterion</span>, sensitivity is 100%, specificity is 99.6%, and the <span style=\"background-color: yellow;\">probability</span> that an <span style=\"background-color: yellow;\">individual</span> has the fra(X) <span style=\"background-color: yellow;\">premutation</span> given that the <span style=\"background-color: yellow;\">number</span> of <span style=\"background-color: yellow;\">repeats</span> is greater than 50 is 95%. Other <span style=\"background-color: yellow;\">cutoff</span> criteria (45, 55, 60, 65) employed produced like findings, although 55 <span style=\"background-color: yellow;\">repeats</span> appears to be a marginally superior <span style=\"background-color: yellow;\">criterion</span> to 50. An independent sample from <span style=\"background-color: yellow;\">Kingston</span> was used to verify the original assessments.(ABSTRACT TRUNCATED AT 250 WORDS)"
      ],
      "text/plain": [
       "<IPython.core.display.HTML object>"
      ]
     },
     "metadata": {},
     "output_type": "display_data"
    },
    {
     "name": "stdout",
     "output_type": "stream",
     "text": [
      "\n",
      "\n",
      "\n"
     ]
    },
    {
     "data": {
      "text/html": [
       "In addition to mental retardation (MR), fragile X [fra(X)] syndrome has been associated with various psychopathologies, although it appears that the link is secondary to MR. It has been proposed that individuals with the full mutation be classified as a subcategory of pervasive <span style=\"background-color: yellow;\">developmental</span> disorders (<span style=\"background-color: yellow;\">PDD</span>). If fra(X) <span style=\"background-color: yellow;\">males</span> are to be categorized as <span style=\"background-color: yellow;\">PDD</span>, how do they <span style=\"background-color: yellow;\">compare</span> with other types of <span style=\"background-color: yellow;\">developmental</span> disabilities? We examined 27 fra(X) <span style=\"background-color: yellow;\">males</span> aged 3-14 years, from 4 sites in <span style=\"background-color: yellow;\">North</span> <span style=\"background-color: yellow;\">America</span>. Measures of <span style=\"background-color: yellow;\">cognitive</span> <span style=\"background-color: yellow;\">abilities</span> were obtained from the Stanford-Binet <span style=\"background-color: yellow;\">Fourth Edition</span> (SBFE), while levels of <span style=\"background-color: yellow;\">adaptive</span> <span style=\"background-color: yellow;\">behavior</span> were evaluated using the Vineland <span style=\"background-color: yellow;\">Adaptive</span> <span style=\"background-color: yellow;\">Behavior</span> Scales (VABS). <span style=\"background-color: yellow;\">Control</span> <span style=\"background-color: yellow;\">subjects</span> were sex-, age-, and IQ matched children and adolescents ascertained from the <span style=\"background-color: yellow;\">Developmental</span> Evaluation Clinic (<span style=\"background-color: yellow;\">DEC</span>) at Kings County Hospital. At the <span style=\"background-color: yellow;\">DEC</span>, <span style=\"background-color: yellow;\">control</span> <span style=\"background-color: yellow;\">subjects</span> were diagnosed as either MR (n = 43) or autistic disorder (AD; n = 22). To <span style=\"background-color: yellow;\">compare</span> <span style=\"background-color: yellow;\">subjects</span>' <span style=\"background-color: yellow;\">adaptive</span> <span style=\"background-color: yellow;\">behavior</span> (SQ) with their <span style=\"background-color: yellow;\">cognitive</span> <span style=\"background-color: yellow;\">abilities</span> (IQ), a <span style=\"background-color: yellow;\">ratio</span> of [(SQ/IQ) x 100] was computed. Results graphed as cumulative distribution functions (<span style=\"background-color: yellow;\">cdf</span>) revealed that the <span style=\"background-color: yellow;\">cdf</span> for AD <span style=\"background-color: yellow;\">males</span>, who by definition are socially impaired, was <span style=\"background-color: yellow;\">positioned</span> to the left of the <span style=\"background-color: yellow;\">cdf</span> for MR <span style=\"background-color: yellow;\">controls</span>, as expected. Mean <span style=\"background-color: yellow;\">ratio</span> for AD <span style=\"background-color: yellow;\">males</span> (70) was lower than for MR <span style=\"background-color: yellow;\">males</span> (84). On the other hand, the <span style=\"background-color: yellow;\">cdf</span> for fra(X) <span style=\"background-color: yellow;\">males</span> was <span style=\"background-color: yellow;\">positioned</span> far to the right of either AD or MR <span style=\"background-color: yellow;\">controls</span> (mean <span style=\"background-color: yellow;\">ratio</span> = 125). Statistical tests showed that SQ of fra(X) <span style=\"background-color: yellow;\">males</span> was significantly higher than <span style=\"background-color: yellow;\">controls</span>.(ABSTRACT TRUNCATED AT 250 WORDS)"
      ],
      "text/plain": [
       "<IPython.core.display.HTML object>"
      ]
     },
     "metadata": {},
     "output_type": "display_data"
    },
    {
     "name": "stdout",
     "output_type": "stream",
     "text": [
      "\n",
      "\n",
      "\n"
     ]
    },
    {
     "data": {
      "text/html": [
       "<span style=\"background-color: yellow;\">Longitudinal</span> declines in IQ among fragile X [fra(X)] <span style=\"background-color: yellow;\">males</span> have been reported previously by several investigators. Remarkably little is known about <span style=\"background-color: yellow;\">longitudinal</span> changes in IQ <span style=\"background-color: yellow;\">scores</span> among fra(X) <span style=\"background-color: yellow;\">females</span>. Previously, one cross-sectional <span style=\"background-color: yellow;\">study</span> showed a significant negative correlation between <span style=\"background-color: yellow;\">age</span> and IQ <span style=\"background-color: yellow;\">scores</span>. However, a recent investigation of girls with fra(X) syndrome noted <span style=\"background-color: yellow;\">longitudinal</span> <span style=\"background-color: yellow;\">increases</span> in IQ <span style=\"background-color: yellow;\">scores</span> in 8 of 11 individuals. Therefore, the purpose of this preliminary multicenter <span style=\"background-color: yellow;\">study</span> was to determine: (1) the characteristics of <span style=\"background-color: yellow;\">longitudinal</span> changes in IQ among fra(X) <span style=\"background-color: yellow;\">females</span>; and (2) whether these changes were comparable to those which have been <span style=\"background-color: yellow;\">observed</span> among fra(X) <span style=\"background-color: yellow;\">males</span>. IQ test and retest <span style=\"background-color: yellow;\">scores</span> for 11 fra(X) <span style=\"background-color: yellow;\">females</span> were obtained from 3 centers: <span style=\"background-color: yellow;\">Greenwood</span>, <span style=\"background-color: yellow;\">South</span> Carolina; Ibaraki, Japan; and Leuven, <span style=\"background-color: yellow;\">Belgium</span>. To ensure high reliability, only test-retest <span style=\"background-color: yellow;\">scores</span> from the <span style=\"background-color: yellow;\">Wechsler</span> and Stanford-Binet tests were used. <span style=\"background-color: yellow;\">Age</span> of <span style=\"background-color: yellow;\">subjects</span> at <span style=\"background-color: yellow;\">initial</span> testing ranged from 5 to 35 <span style=\"background-color: yellow;\">years</span>. Mean intertest interval was 4.5 <span style=\"background-color: yellow;\">years</span>. In contrast to a <span style=\"background-color: yellow;\">report</span> of <span style=\"background-color: yellow;\">longitudinal</span> <span style=\"background-color: yellow;\">increases</span>, we found 9/11 (82%) <span style=\"background-color: yellow;\">subjects</span> demonstrated <span style=\"background-color: yellow;\">decreases</span> in IQ <span style=\"background-color: yellow;\">scores</span>. Mean decline was 9 points. <span style=\"background-color: yellow;\">Females</span> over 18 <span style=\"background-color: yellow;\">years</span> of <span style=\"background-color: yellow;\">age</span> showed little or no <span style=\"background-color: yellow;\">change</span> in IQ <span style=\"background-color: yellow;\">scores</span>. <span style=\"background-color: yellow;\">Decreases</span> in <span style=\"background-color: yellow;\">scores</span> appeared to be related to <span style=\"background-color: yellow;\">initial</span> IQ <span style=\"background-color: yellow;\">score</span>. <span style=\"background-color: yellow;\">Females</span> in the earlier <span style=\"background-color: yellow;\">longitudinal</span> <span style=\"background-color: yellow;\">report</span> were higher functioning than those in our <span style=\"background-color: yellow;\">study</span>, which may account for the <span style=\"background-color: yellow;\">observed</span> difference in direction of <span style=\"background-color: yellow;\">change</span>; or, <span style=\"background-color: yellow;\">change</span> in IQ <span style=\"background-color: yellow;\">score</span> may be related to size of the fra(X) mutation.(ABSTRACT TRUNCATED AT 250 WORDS)"
      ],
      "text/plain": [
       "<IPython.core.display.HTML object>"
      ]
     },
     "metadata": {},
     "output_type": "display_data"
    },
    {
     "name": "stdout",
     "output_type": "stream",
     "text": [
      "\n",
      "\n",
      "\n"
     ]
    },
    {
     "data": {
      "text/html": [
       "The recent <span style=\"background-color: yellow;\">claims</span> for a <span style=\"background-color: yellow;\">decline</span> in <span style=\"background-color: yellow;\">intelligence</span> <span style=\"background-color: yellow;\">test</span> <span style=\"background-color: yellow;\">performance</span> in <span style=\"background-color: yellow;\">males</span> and <span style=\"background-color: yellow;\">females</span> with fragile-X (fra(X)) syndrome have <span style=\"background-color: yellow;\">implications</span> both <span style=\"background-color: yellow;\">clinically</span> and in <span style=\"background-color: yellow;\">evaluating</span> the <span style=\"background-color: yellow;\">underlying</span> <span style=\"background-color: yellow;\">neurological</span> <span style=\"background-color: yellow;\">basis</span>. This commentary identifies three key issues in <span style=\"background-color: yellow;\">evaluating</span> evidence for a <span style=\"background-color: yellow;\">decline</span> and in planning future, more co-ordinated efforts. These are (1) <span style=\"background-color: yellow;\">problems</span> in combining data across different <span style=\"background-color: yellow;\">intelligence</span> <span style=\"background-color: yellow;\">tests</span> and/or different <span style=\"background-color: yellow;\">ages</span> with potentially incompatible norms, <span style=\"background-color: yellow;\">task</span> <span style=\"background-color: yellow;\">demands</span>, and models of the structure of <span style=\"background-color: yellow;\">intelligence</span>; (2) limitations in applying to low <span style=\"background-color: yellow;\">ability</span> persons <span style=\"background-color: yellow;\">tests</span> designed to discriminate best around the population average; and (3) specific cognitive deficits and behavioral <span style=\"background-color: yellow;\">problems</span> in fra(X) individuals which may be confounded with the <span style=\"background-color: yellow;\">task</span> <span style=\"background-color: yellow;\">demands</span> of particular IQ <span style=\"background-color: yellow;\">tests</span> at particular <span style=\"background-color: yellow;\">ages</span>. While the <span style=\"background-color: yellow;\">decline</span> in <span style=\"background-color: yellow;\">ability</span> may be a real phenomenon rather than an artifact, recommendations are made about the psychometric requirements for a larger and more definitive collaborative study."
      ],
      "text/plain": [
       "<IPython.core.display.HTML object>"
      ]
     },
     "metadata": {},
     "output_type": "display_data"
    },
    {
     "name": "stdout",
     "output_type": "stream",
     "text": [
      "\n",
      "\n",
      "\n"
     ]
    },
    {
     "data": {
      "text/html": [
       "<span style=\"background-color: yellow;\">Mothers</span> of 60 <span style=\"background-color: yellow;\">girls</span> with fragile X [fra(X)] and 58 controls were <span style=\"background-color: yellow;\">asked</span> to fill out the Conners' Parent's <span style=\"background-color: yellow;\">Questionnaire</span> to <span style=\"background-color: yellow;\">determine</span> if this <span style=\"background-color: yellow;\">commonly</span> used <span style=\"background-color: yellow;\">checklist</span> would <span style=\"background-color: yellow;\">detect</span> <span style=\"background-color: yellow;\">behavior</span> <span style=\"background-color: yellow;\">problems</span> in <span style=\"background-color: yellow;\">young</span> <span style=\"background-color: yellow;\">girls</span> with fra(X). The mean T-scores were significantly different between the 2 groups of <span style=\"background-color: yellow;\">girls</span> on 5 of the 6 <span style=\"background-color: yellow;\">factors</span> on the Conners' Parent's <span style=\"background-color: yellow;\">Questionnaire</span> and the <span style=\"background-color: yellow;\">girls</span> with fra(X) had mean T-scores that were above the average range on both the <span style=\"background-color: yellow;\">Anxiety</span> <span style=\"background-color: yellow;\">factor</span> and the <span style=\"background-color: yellow;\">Hyperactivity</span> Index <span style=\"background-color: yellow;\">factor</span>. Significantly more <span style=\"background-color: yellow;\">girls</span> had T-scores <span style=\"background-color: yellow;\">greater</span> than 70 (> 98th centile) on 3 of the 6 <span style=\"background-color: yellow;\">factors</span>. Twenty-three percent of the <span style=\"background-color: yellow;\">girls</span> had T-scores <span style=\"background-color: yellow;\">greater</span> than 70 on the <span style=\"background-color: yellow;\">Anxiety</span> <span style=\"background-color: yellow;\">factor</span> and 38% of the <span style=\"background-color: yellow;\">girls</span> had T-scores <span style=\"background-color: yellow;\">greater</span> than 70 on the <span style=\"background-color: yellow;\">Hyperactivity</span> Index <span style=\"background-color: yellow;\">factor</span>. This study suggests that some <span style=\"background-color: yellow;\">behavior</span> <span style=\"background-color: yellow;\">problems</span> will be reported frequently in <span style=\"background-color: yellow;\">young</span> <span style=\"background-color: yellow;\">girls</span> with fra(X) and should not be difficult for clinicians to <span style=\"background-color: yellow;\">detect</span>."
      ],
      "text/plain": [
       "<IPython.core.display.HTML object>"
      ]
     },
     "metadata": {},
     "output_type": "display_data"
    },
    {
     "name": "stdout",
     "output_type": "stream",
     "text": [
      "\n",
      "\n",
      "\n"
     ]
    },
    {
     "data": {
      "text/html": [
       "To assess if the higher incidence of psychiatric morbidity in <span style=\"background-color: yellow;\">fragile</span> X <span style=\"background-color: yellow;\">carriers</span> is related to a particular <span style=\"background-color: yellow;\">pathological</span> <span style=\"background-color: yellow;\">personality</span> <span style=\"background-color: yellow;\">profile</span>, we obtained a <span style=\"background-color: yellow;\">Minnesota</span> <span style=\"background-color: yellow;\">Multiphasic</span> <span style=\"background-color: yellow;\">Personality</span> <span style=\"background-color: yellow;\">Profile</span> from 11 normally <span style=\"background-color: yellow;\">intelligent</span> (female) <span style=\"background-color: yellow;\">fragile</span> X <span style=\"background-color: yellow;\">carriers</span>. The sample mean for the clinical and <span style=\"background-color: yellow;\">validity</span> <span style=\"background-color: yellow;\">scales</span> all fell within the normal range. Although no <span style=\"background-color: yellow;\">pathological</span> <span style=\"background-color: yellow;\">profile</span> was found, some unexpected results emerged: low scores for the <span style=\"background-color: yellow;\">scales</span> \"schizophrenia\" and \"social introversion\" and a so-called faking-good <span style=\"background-color: yellow;\">profile</span> on the <span style=\"background-color: yellow;\">validity</span> <span style=\"background-color: yellow;\">scales</span>. This combination suggests that the subjects might not be aware of some <span style=\"background-color: yellow;\">personality</span> characteristics in these areas. Implications for further research are discussed."
      ],
      "text/plain": [
       "<IPython.core.display.HTML object>"
      ]
     },
     "metadata": {},
     "output_type": "display_data"
    },
    {
     "name": "stdout",
     "output_type": "stream",
     "text": [
      "\n",
      "\n",
      "\n"
     ]
    },
    {
     "data": {
      "text/html": [
       "<span style=\"background-color: yellow;\">Eighteen</span> normally <span style=\"background-color: yellow;\">intelligent</span> adult <span style=\"background-color: yellow;\">female</span> <span style=\"background-color: yellow;\">fragile</span> X <span style=\"background-color: yellow;\">carriers</span> were tested with the \"de <span style=\"background-color: yellow;\">Sonneville</span> <span style=\"background-color: yellow;\">Visual</span> <span style=\"background-color: yellow;\">Attention</span> Tasks,\" a computer-based <span style=\"background-color: yellow;\">set</span> of <span style=\"background-color: yellow;\">reaction</span>-time <span style=\"background-color: yellow;\">experiments</span>, in <span style=\"background-color: yellow;\">order</span> to assess different aspects of their <span style=\"background-color: yellow;\">attention</span> capacity. The subject <span style=\"background-color: yellow;\">group</span> was compared with a <span style=\"background-color: yellow;\">group</span> of 48 adults, who were not known to be <span style=\"background-color: yellow;\">fragile</span> X <span style=\"background-color: yellow;\">carriers</span>. We publish preliminary results of this study. These show that the <span style=\"background-color: yellow;\">fragile</span> X <span style=\"background-color: yellow;\">carriers</span> have significantly <span style=\"background-color: yellow;\">faster</span> <span style=\"background-color: yellow;\">reaction</span> times at a substantial number of the tests. This suggests that normally <span style=\"background-color: yellow;\">intelligent</span> <span style=\"background-color: yellow;\">female</span> <span style=\"background-color: yellow;\">fragile</span> X <span style=\"background-color: yellow;\">carriers</span> might process simple <span style=\"background-color: yellow;\">visual</span> information, such as the targets offered in these <span style=\"background-color: yellow;\">reaction</span> time <span style=\"background-color: yellow;\">experiments</span>, at a <span style=\"background-color: yellow;\">faster</span> rate than control women."
      ],
      "text/plain": [
       "<IPython.core.display.HTML object>"
      ]
     },
     "metadata": {},
     "output_type": "display_data"
    },
    {
     "name": "stdout",
     "output_type": "stream",
     "text": [
      "\n",
      "\n",
      "\n"
     ]
    }
   ],
   "source": [
    "for r in result.select(\"highlighted_keywords\").collect():\n",
    "    display(HTML(r.highlighted_keywords))\n",
    "    print(\"\\n\\n\")"
   ]
  }
 ],
 "metadata": {
  "kernelspec": {
   "display_name": "Python 3",
   "language": "python",
   "name": "python3"
  },
  "language_info": {
   "codemirror_mode": {
    "name": "ipython",
    "version": 3
   },
   "file_extension": ".py",
   "mimetype": "text/x-python",
   "name": "python",
   "nbconvert_exporter": "python",
   "pygments_lexer": "ipython3",
   "version": "3.7.4"
  }
 },
 "nbformat": 4,
 "nbformat_minor": 4
}

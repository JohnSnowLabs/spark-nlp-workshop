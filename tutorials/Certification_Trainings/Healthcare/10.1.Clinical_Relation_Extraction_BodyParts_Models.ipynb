{
 "cells": [
  {
   "cell_type": "markdown",
   "metadata": {
    "id": "zHHjQL_MhT_s"
   },
   "source": [
    "![JohnSnowLabs](https://nlp.johnsnowlabs.com/assets/images/logo.png)"
   ]
  },
  {
   "cell_type": "markdown",
   "metadata": {
    "id": "VVL1jdg3hXfb"
   },
   "source": [
    "[![Open In Colab](https://colab.research.google.com/assets/colab-badge.svg)](https://colab.research.google.com/github/JohnSnowLabs/spark-nlp-workshop/blob/master/tutorials/Certification_Trainings/Healthcare/10.1.Clinical_Relation_Extraction_BodyParts_Models.ipynb)"
   ]
  },
  {
   "cell_type": "markdown",
   "metadata": {
    "id": "PSk7NM6_hXOs"
   },
   "source": [
    "# 10.1 Clinical Relation Extraction BodyPart Models\n",
    "\n",
    "(requires Spark NLP 2.7.1 and Spark NLP Healthcare 2.7.2))"
   ]
  },
  {
   "cell_type": "code",
   "execution_count": null,
   "metadata": {
    "id": "hrAioo44hey6"
   },
   "outputs": [],
   "source": [
    "import json\n",
    "\n",
    "from google.colab import files\n",
    "\n",
    "license_keys = files.upload()\n",
    "\n",
    "with open(list(license_keys.keys())[0]) as f:\n",
    "    license_keys = json.load(f)\n",
    "\n",
    "license_keys.keys()"
   ]
  },
  {
   "cell_type": "code",
   "execution_count": null,
   "metadata": {
    "id": "FxQcHW3mhjrF"
   },
   "outputs": [],
   "source": [
    "import os\n",
    "\n",
    "# Install java\n",
    "! apt-get update -qq\n",
    "! apt-get install -y openjdk-8-jdk-headless -qq > /dev/null\n",
    "\n",
    "os.environ[\"JAVA_HOME\"] = \"/usr/lib/jvm/java-8-openjdk-amd64\"\n",
    "os.environ[\"PATH\"] = os.environ[\"JAVA_HOME\"] + \"/bin:\" + os.environ[\"PATH\"]\n",
    "! java -version\n",
    "\n",
    "secret = license_keys['SECRET']\n",
    "\n",
    "os.environ['SPARK_NLP_LICENSE'] = license_keys['SPARK_NLP_LICENSE']\n",
    "os.environ['AWS_ACCESS_KEY_ID']= license_keys['AWS_ACCESS_KEY_ID']\n",
    "os.environ['AWS_SECRET_ACCESS_KEY'] = license_keys['AWS_SECRET_ACCESS_KEY']\n",
    "version = license_keys['PUBLIC_VERSION']\n",
    "jsl_version = license_keys['JSL_VERSION']\n",
    "\n",
    "! pip install --ignore-installed -q pyspark==2.4.4\n",
    "\n",
    "! python -m pip install --upgrade spark-nlp-jsl==$jsl_version  --extra-index-url https://pypi.johnsnowlabs.com/$secret\n",
    "\n",
    "! pip install --ignore-installed -q spark-nlp==$version\n",
    "\n",
    "import sparknlp\n",
    "\n",
    "print (sparknlp.version())\n",
    "\n",
    "import json\n",
    "import os\n",
    "from pyspark.ml import Pipeline\n",
    "from pyspark.sql import SparkSession\n",
    "\n",
    "from sparknlp.annotator import *\n",
    "from sparknlp_jsl.annotator import *\n",
    "from sparknlp.base import *\n",
    "import sparknlp_jsl\n",
    "\n",
    "params = {\"spark.driver.memory\":\"16G\",\n",
    "\"spark.kryoserializer.buffer.max\":\"2000M\",\n",
    "\"spark.driver.maxResultSize\":\"2000M\"}\n",
    "spark = sparknlp_jsl.start(secret, params=params)"
   ]
  },
  {
   "cell_type": "code",
   "execution_count": null,
   "metadata": {
    "id": "NDLcNaDyhN6J",
    "outputId": "c2df99c1-172c-4e21-c2b2-d4801e524b80"
   },
   "outputs": [
    {
     "data": {
      "text/html": [
       "\n",
       "            <div>\n",
       "                <p><b>SparkSession - in-memory</b></p>\n",
       "                \n",
       "        <div>\n",
       "            <p><b>SparkContext</b></p>\n",
       "\n",
       "            <p><a href=\"http://ip-172-31-41-113.us-east-2.compute.internal:4049\">Spark UI</a></p>\n",
       "\n",
       "            <dl>\n",
       "              <dt>Version</dt>\n",
       "                <dd><code>v2.4.4</code></dd>\n",
       "              <dt>Master</dt>\n",
       "                <dd><code>local[*]</code></dd>\n",
       "              <dt>AppName</dt>\n",
       "                <dd><code>Spark NLP Licensed</code></dd>\n",
       "            </dl>\n",
       "        </div>\n",
       "        \n",
       "            </div>\n",
       "        "
      ],
      "text/plain": [
       "<pyspark.sql.session.SparkSession at 0x7ff40ca70b38>"
      ]
     },
     "execution_count": 2,
     "metadata": {
      "tags": []
     },
     "output_type": "execute_result"
    }
   ],
   "source": [
    "spark"
   ]
  },
  {
   "cell_type": "markdown",
   "metadata": {
    "id": "52YRfABhhN6K"
   },
   "source": [
    "# Prediction Pipeline for Clinical Binary Relation Models"
   ]
  },
  {
   "cell_type": "code",
   "execution_count": null,
   "metadata": {
    "id": "lAlCqbA2hN6M"
   },
   "outputs": [],
   "source": [
    "import pandas as pd\n",
    "\n",
    "# This function will be utilized to show prediction results in a dataframe\n",
    "def get_relations_df (results, col='relations'):\n",
    "    rel_pairs=[]\n",
    "    for rel in results[0][col]:\n",
    "        rel_pairs.append((\n",
    "          rel.result, \n",
    "          rel.metadata['entity1'], \n",
    "          rel.metadata['entity1_begin'],\n",
    "          rel.metadata['entity1_end'],\n",
    "          rel.metadata['chunk1'], \n",
    "          rel.metadata['entity2'],\n",
    "          rel.metadata['entity2_begin'],\n",
    "          rel.metadata['entity2_end'],\n",
    "          rel.metadata['chunk2'], \n",
    "          rel.metadata['confidence']\n",
    "        ))\n",
    "\n",
    "    rel_df = pd.DataFrame(rel_pairs, columns=['relations',\n",
    "                                              'entity1','entity1_begin','entity1_end','chunk1',\n",
    "                                              'entity2','entity2_end','entity2_end','chunk2', \n",
    "                                              'confidence'])\n",
    "    # limit df columns to get entity and chunks with results only\n",
    "    rel_df = rel_df.iloc[:,[0,1,4,5,8,9]]\n",
    "    \n",
    "    return rel_df"
   ]
  },
  {
   "cell_type": "code",
   "execution_count": null,
   "metadata": {
    "id": "mnyPwdRIhN6M",
    "outputId": "2bed3cc5-5019-4acb-adca-0fe0ac5b9422"
   },
   "outputs": [
    {
     "name": "stdout",
     "output_type": "stream",
     "text": [
      "embeddings_clinical download started this may take some time.\n",
      "Approximate size to download 1.6 GB\n",
      "[OK!]\n",
      "pos_clinical download started this may take some time.\n",
      "Approximate size to download 1.7 MB\n",
      "[OK!]\n",
      "dependency_conllu download started this may take some time.\n",
      "Approximate size to download 16.6 MB\n",
      "[OK!]\n",
      "jsl_ner_wip_greedy_clinical download started this may take some time.\n",
      "Approximate size to download 14.5 MB\n",
      "[OK!]\n",
      "re_bodypart_problem download started this may take some time.\n",
      "Approximate size to download 9.2 MB\n",
      "[OK!]\n"
     ]
    }
   ],
   "source": [
    "# run only once\n",
    "documenter = DocumentAssembler()\\\n",
    "    .setInputCol(\"text\")\\\n",
    "    .setOutputCol(\"document\")\n",
    "\n",
    "sentencer = SentenceDetector()\\\n",
    "    .setInputCols([\"document\"])\\\n",
    "    .setOutputCol(\"sentences\")\n",
    "\n",
    "tokenizer = sparknlp.annotators.Tokenizer()\\\n",
    "    .setInputCols([\"sentences\"])\\\n",
    "    .setOutputCol(\"tokens\")\\\n",
    "\n",
    "words_embedder = WordEmbeddingsModel()\\\n",
    "    .pretrained(\"embeddings_clinical\", \"en\", \"clinical/models\")\\\n",
    "    .setInputCols([\"sentences\", \"tokens\"])\\\n",
    "    .setOutputCol(\"embeddings\")\n",
    "\n",
    "pos_tagger = PerceptronModel()\\\n",
    "    .pretrained(\"pos_clinical\", \"en\", \"clinical/models\") \\\n",
    "    .setInputCols([\"sentences\", \"tokens\"])\\\n",
    "    .setOutputCol(\"pos_tags\")\n",
    "    \n",
    "dependency_parser = sparknlp.annotators.DependencyParserModel()\\\n",
    "    .pretrained(\"dependency_conllu\", \"en\")\\\n",
    "    .setInputCols([\"sentences\", \"pos_tags\", \"tokens\"])\\\n",
    "    .setOutputCol(\"dependencies\")\n",
    "\n",
    "# get pretrained ner model \n",
    "clinical_ner_tagger = sparknlp.annotators.NerDLModel()\\\n",
    "    .pretrained('jsl_ner_wip_greedy_clinical','en','clinical/models')\\\n",
    "    .setInputCols(\"sentences\", \"tokens\", \"embeddings\")\\\n",
    "    .setOutputCol(\"ner_tags\")    \n",
    "\n",
    "ner_chunker = NerConverter()\\\n",
    "    .setInputCols([\"sentences\", \"tokens\", \"ner_tags\"])\\\n",
    "    .setOutputCol(\"ner_chunks\")\n",
    "\n",
    "\n",
    "\n"
   ]
  },
  {
   "cell_type": "code",
   "execution_count": null,
   "metadata": {
    "id": "SSkP-5aKhN6N"
   },
   "outputs": [],
   "source": [
    "# example pairs for relation entities\n",
    "# bodypart entities >> ['external_body_part_or_region', 'internal_organ_or_component']\n",
    "\n",
    "# 1. bodypart vs problem\n",
    "pair1 = ['symptom-external_body_part_or_region', 'external_body_part_or_region-symptom']\n",
    "\n",
    "# 2. bodypart vs procedure and test\n",
    "pair2 = ['internal_organ_or_component-imagingtest',\n",
    " 'imagingtest-internal_organ_or_component',\n",
    " 'internal_organ_or_component-procedure',\n",
    " 'procedure-internal_organ_or_component',\n",
    " 'internal_organ_or_component-test',\n",
    " 'test-internal_organ_or_component',\n",
    " 'external_body_part_or_region-imagingtest',\n",
    " 'imagingtest-external_body_part_or_region',\n",
    " 'external_body_part_or_region-procedure',\n",
    " 'procedure-external_body_part_or_region',\n",
    " 'external_body_part_or_region-test',\n",
    " 'test-external_body_part_or_region']\n",
    "\n",
    "# 3. bodypart vs direction\n",
    "pair3 = ['direction-external_body_part_or_region', 'external_body_part_or_region-direction',\n",
    "        'internal_organ_or_component-direction','direction-internal_organ_or_component']\n",
    "\n",
    "# 4. date vs other clinical entities\n",
    "# date entities >> ['Date', 'RelativeDate', 'Duration', 'RelativeTime', 'Time']\n",
    "pair4 = ['symptom-date', 'date-procedure', 'delativedate-test']"
   ]
  },
  {
   "cell_type": "markdown",
   "metadata": {
    "id": "6g_Rw2_0hN6N"
   },
   "source": [
    " **Pretrained relation model names**; use this names in `RelationExtractionModel()` ;  \n",
    " \n",
    " + `re_bodypart_problem`  \n",
    " \n",
    " + `re_bodypart_directions`  \n",
    " \n",
    " + `re_bodypart_proceduretest`  \n",
    " \n",
    " + `re_date_clinical`  "
   ]
  },
  {
   "cell_type": "code",
   "execution_count": null,
   "metadata": {
    "id": "O-0YDDdwhN6O",
    "outputId": "2793da6d-9a89-446e-edda-f13f2d97013c"
   },
   "outputs": [
    {
     "name": "stdout",
     "output_type": "stream",
     "text": [
      "re_bodypart_directions download started this may take some time.\n",
      "Approximate size to download 9.2 MB\n",
      "[OK!]\n"
     ]
    }
   ],
   "source": [
    "# get pretained relation model ; \n",
    "\n",
    "re_model = RelationExtractionModel()\\\n",
    "    .pretrained(\"re_bodypart_directions\", \"en\", 'clinical/models')\\\n",
    "    .setInputCols([\"embeddings\", \"pos_tags\", \"ner_chunks\", \"dependencies\"])\\\n",
    "    .setOutputCol(\"relations\")\\\n",
    "    .setRelationPairs(['direction-external_body_part_or_region', \n",
    "                       'external_body_part_or_region-direction',\n",
    "                       'direction-internal_organ_or_component',\n",
    "                       'internal_organ_or_component-direction'\n",
    "                      ])\\\n",
    "    .setMaxSyntacticDistance(3)\\\n",
    "    .setPredictionThreshold(0.9)\n",
    "\n",
    "trained_pipeline = Pipeline(stages=[\n",
    "    documenter,\n",
    "    sentencer,\n",
    "    tokenizer, \n",
    "    words_embedder, \n",
    "    pos_tagger, \n",
    "    clinical_ner_tagger,\n",
    "    ner_chunker,\n",
    "    dependency_parser,\n",
    "    re_model\n",
    "])\n",
    "\n",
    "empty_data = spark.createDataFrame([[\"\"]]).toDF(\"text\")\n",
    "\n",
    "loaded_re_model = trained_pipeline.fit(empty_data)"
   ]
  },
  {
   "cell_type": "markdown",
   "metadata": {
    "id": "A0HO7NYlhN6O"
   },
   "source": [
    "## Sample clinical tetxs"
   ]
  },
  {
   "cell_type": "code",
   "execution_count": null,
   "metadata": {
    "id": "dHAWmLXkhN6P"
   },
   "outputs": [],
   "source": [
    "# bodypart vs problem \n",
    "text1 = '''No neurologic deficits other than some numbness in his left hand.'''\n",
    "\n",
    "# bodypart  vs procedure and test\n",
    "#text2 = 'Common bile duct was noted to be 10 mm in size on that ultrasound.'\n",
    "#text2 = 'Biopsies of the distal duodenum, gastric antrum, distalesophagus were taken and sent for pathological evaluation.'\n",
    "text2 = 'TECHNIQUE IN DETAIL: After informed consent was obtained from the patient and his mother, the chest was scanned with portable ultrasound.'\n",
    "\n",
    "# bodypart direction\n",
    "text3 = '''MRI demonstrated infarction in the upper brain stem , left cerebellum and  right basil ganglia'''\n",
    "\n",
    "# date vs other clinical entities\n",
    "text4 = '''This 73 y/o patient had CT  on 1/12/95, with progressive memory and cognitive decline since 8/11/94.'''"
   ]
  },
  {
   "cell_type": "markdown",
   "metadata": {
    "id": "RmTkYtm9hN6P"
   },
   "source": [
    "**Get Single Prediction** with `LightPipeline()`"
   ]
  },
  {
   "cell_type": "code",
   "execution_count": null,
   "metadata": {
    "id": "9tuTJp81hN6Q",
    "outputId": "a4466d7a-2be6-4e9f-8dae-ec86110be1cb"
   },
   "outputs": [
    {
     "name": "stdout",
     "output_type": "stream",
     "text": [
      "\n",
      " MRI demonstrated infarction in the upper brain stem , left cerebellum and  right basil ganglia\n"
     ]
    },
    {
     "data": {
      "text/html": [
       "<div>\n",
       "<style scoped>\n",
       "    .dataframe tbody tr th:only-of-type {\n",
       "        vertical-align: middle;\n",
       "    }\n",
       "\n",
       "    .dataframe tbody tr th {\n",
       "        vertical-align: top;\n",
       "    }\n",
       "\n",
       "    .dataframe thead th {\n",
       "        text-align: right;\n",
       "    }\n",
       "</style>\n",
       "<table border=\"1\" class=\"dataframe\">\n",
       "  <thead>\n",
       "    <tr style=\"text-align: right;\">\n",
       "      <th></th>\n",
       "      <th>relations</th>\n",
       "      <th>entity1</th>\n",
       "      <th>chunk1</th>\n",
       "      <th>entity2</th>\n",
       "      <th>chunk2</th>\n",
       "      <th>confidence</th>\n",
       "    </tr>\n",
       "  </thead>\n",
       "  <tbody>\n",
       "    <tr>\n",
       "      <th>0</th>\n",
       "      <td>1</td>\n",
       "      <td>Direction</td>\n",
       "      <td>upper</td>\n",
       "      <td>Internal_organ_or_component</td>\n",
       "      <td>brain stem</td>\n",
       "      <td>0.9999989</td>\n",
       "    </tr>\n",
       "    <tr>\n",
       "      <th>4</th>\n",
       "      <td>1</td>\n",
       "      <td>Direction</td>\n",
       "      <td>left</td>\n",
       "      <td>Internal_organ_or_component</td>\n",
       "      <td>cerebellum</td>\n",
       "      <td>1.0</td>\n",
       "    </tr>\n",
       "    <tr>\n",
       "      <th>7</th>\n",
       "      <td>1</td>\n",
       "      <td>Direction</td>\n",
       "      <td>right</td>\n",
       "      <td>Internal_organ_or_component</td>\n",
       "      <td>basil ganglia</td>\n",
       "      <td>1.0</td>\n",
       "    </tr>\n",
       "  </tbody>\n",
       "</table>\n",
       "</div>"
      ],
      "text/plain": [
       "  relations    entity1 chunk1                      entity2         chunk2 confidence\n",
       "0         1  Direction  upper  Internal_organ_or_component     brain stem  0.9999989\n",
       "4         1  Direction   left  Internal_organ_or_component     cerebellum        1.0\n",
       "7         1  Direction  right  Internal_organ_or_component  basil ganglia        1.0"
      ]
     },
     "execution_count": 62,
     "metadata": {
      "tags": []
     },
     "output_type": "execute_result"
    }
   ],
   "source": [
    "# choose one of the sample texts depending on the pretrained relation model you want to use\n",
    "text = text3\n",
    "\n",
    "loaded_re_model_light = LightPipeline(loaded_re_model)\n",
    "annotations = loaded_re_model_light.fullAnnotate(text)\n",
    "\n",
    "\n",
    "rel_df = get_relations_df(annotations) # << get_relations_df() is the function defined in the 3rd cell\n",
    "\n",
    "print('\\n',text)\n",
    "\n",
    "rel_df[rel_df.relations!=\"0\"]\n",
    "#rel_df\n",
    "\n"
   ]
  },
  {
   "cell_type": "code",
   "execution_count": null,
   "metadata": {
    "id": "f7ag4qtShN6R"
   },
   "outputs": [],
   "source": []
  },
  {
   "cell_type": "code",
   "execution_count": null,
   "metadata": {
    "id": "bDVfQ7pmhN6R"
   },
   "outputs": [],
   "source": [
    "# Previous cell content is merged in this function to get quick predictions, for custom cases please check parameters \n",
    "# in RelationExtractionModel()\n",
    "def relation_exraction(model_name, pairs, text):\n",
    "    \n",
    "    re_model = RelationExtractionModel()\\\n",
    "        .pretrained(model_name, \"en\", 'clinical/models')\\\n",
    "        .setInputCols([\"embeddings\", \"pos_tags\", \"ner_chunks\", \"dependencies\"])\\\n",
    "        .setOutputCol(\"relations\")\\\n",
    "        .setRelationPairs(pairs)\\\n",
    "        .setMaxSyntacticDistance(4)\\\n",
    "        .setPredictionThreshold(0.9)\n",
    "\n",
    "    trained_pipeline = Pipeline(stages=[\n",
    "        documenter,\n",
    "        sentencer,\n",
    "        tokenizer, \n",
    "        words_embedder, \n",
    "        pos_tagger, \n",
    "        clinical_ner_tagger,\n",
    "        ner_chunker,\n",
    "        dependency_parser,\n",
    "        re_model\n",
    "    ])\n",
    "\n",
    "    empty_data = spark.createDataFrame([[\"\"]]).toDF(\"text\")\n",
    "\n",
    "    loaded_re_model = trained_pipeline.fit(empty_data)\n",
    "    \n",
    "    loaded_re_model_light = LightPipeline(loaded_re_model)\n",
    "    annotations = loaded_re_model_light.fullAnnotate(text)\n",
    "\n",
    "    rel_df = get_relations_df(annotations) # << get_relations_df() is the function defined in the 3rd cell\n",
    "\n",
    "    print('\\n',text)\n",
    "\n",
    "    #rel_df\n",
    "    return rel_df[rel_df.relations!=\"0\"]\n",
    "    \n",
    "\n"
   ]
  },
  {
   "cell_type": "code",
   "execution_count": null,
   "metadata": {
    "id": "TBfM2LXVhN6R",
    "outputId": "93e7f65d-8163-4b79-c5b5-0d490be91d49"
   },
   "outputs": [
    {
     "name": "stdout",
     "output_type": "stream",
     "text": [
      "re_bodypart_problem download started this may take some time.\n",
      "Approximate size to download 9.2 MB\n",
      "[OK!]\n",
      "\n",
      " No neurologic deficits other than some numbness in his left hand.\n"
     ]
    },
    {
     "data": {
      "text/html": [
       "<div>\n",
       "<style scoped>\n",
       "    .dataframe tbody tr th:only-of-type {\n",
       "        vertical-align: middle;\n",
       "    }\n",
       "\n",
       "    .dataframe tbody tr th {\n",
       "        vertical-align: top;\n",
       "    }\n",
       "\n",
       "    .dataframe thead th {\n",
       "        text-align: right;\n",
       "    }\n",
       "</style>\n",
       "<table border=\"1\" class=\"dataframe\">\n",
       "  <thead>\n",
       "    <tr style=\"text-align: right;\">\n",
       "      <th></th>\n",
       "      <th>relations</th>\n",
       "      <th>entity1</th>\n",
       "      <th>chunk1</th>\n",
       "      <th>entity2</th>\n",
       "      <th>chunk2</th>\n",
       "      <th>confidence</th>\n",
       "    </tr>\n",
       "  </thead>\n",
       "  <tbody>\n",
       "    <tr>\n",
       "      <th>0</th>\n",
       "      <td>1</td>\n",
       "      <td>Symptom</td>\n",
       "      <td>numbness</td>\n",
       "      <td>External_body_part_or_region</td>\n",
       "      <td>hand</td>\n",
       "      <td>1.0</td>\n",
       "    </tr>\n",
       "  </tbody>\n",
       "</table>\n",
       "</div>"
      ],
      "text/plain": [
       "  relations  entity1    chunk1                       entity2 chunk2 confidence\n",
       "0         1  Symptom  numbness  External_body_part_or_region   hand        1.0"
      ]
     },
     "execution_count": 69,
     "metadata": {
      "tags": []
     },
     "output_type": "execute_result"
    }
   ],
   "source": [
    "# bodypart vs problem \n",
    "model_name =  're_bodypart_problem'\n",
    "pairs =  ['symptom-external_body_part_or_region', 'external_body_part_or_region-symptom']\n",
    "\n",
    "text = text1\n",
    "\n",
    "relation_exraction(model_name, pairs, text)\n"
   ]
  },
  {
   "cell_type": "code",
   "execution_count": null,
   "metadata": {
    "id": "PqywwOKZhN6S",
    "outputId": "d665d568-fc6b-4275-9f8c-c77fe06dd700"
   },
   "outputs": [
    {
     "name": "stdout",
     "output_type": "stream",
     "text": [
      "re_bodypart_proceduretest download started this may take some time.\n",
      "Approximate size to download 9.2 MB\n",
      "[OK!]\n",
      "\n",
      " TECHNIQUE IN DETAIL: After informed consent was obtained from the patient and his mother, the chest was scanned with portable ultrasound.\n"
     ]
    },
    {
     "data": {
      "text/html": [
       "<div>\n",
       "<style scoped>\n",
       "    .dataframe tbody tr th:only-of-type {\n",
       "        vertical-align: middle;\n",
       "    }\n",
       "\n",
       "    .dataframe tbody tr th {\n",
       "        vertical-align: top;\n",
       "    }\n",
       "\n",
       "    .dataframe thead th {\n",
       "        text-align: right;\n",
       "    }\n",
       "</style>\n",
       "<table border=\"1\" class=\"dataframe\">\n",
       "  <thead>\n",
       "    <tr style=\"text-align: right;\">\n",
       "      <th></th>\n",
       "      <th>relations</th>\n",
       "      <th>entity1</th>\n",
       "      <th>chunk1</th>\n",
       "      <th>entity2</th>\n",
       "      <th>chunk2</th>\n",
       "      <th>confidence</th>\n",
       "    </tr>\n",
       "  </thead>\n",
       "  <tbody>\n",
       "    <tr>\n",
       "      <th>0</th>\n",
       "      <td>1</td>\n",
       "      <td>External_body_part_or_region</td>\n",
       "      <td>chest</td>\n",
       "      <td>Test</td>\n",
       "      <td>portable ultrasound</td>\n",
       "      <td>1.0</td>\n",
       "    </tr>\n",
       "  </tbody>\n",
       "</table>\n",
       "</div>"
      ],
      "text/plain": [
       "  relations                       entity1 chunk1 entity2               chunk2 confidence\n",
       "0         1  External_body_part_or_region  chest    Test  portable ultrasound        1.0"
      ]
     },
     "execution_count": 70,
     "metadata": {
      "tags": []
     },
     "output_type": "execute_result"
    }
   ],
   "source": [
    "# bodypart vs procedure and test \n",
    "model_name =  're_bodypart_proceduretest'\n",
    "pairs = pair2\n",
    "text = text2\n",
    "\n",
    "relation_exraction(model_name, pairs, text)\n"
   ]
  },
  {
   "cell_type": "code",
   "execution_count": null,
   "metadata": {
    "id": "QSLzQFY2hN6T",
    "outputId": "45ef00a6-efac-47cb-fa09-8e8d5a83885b"
   },
   "outputs": [
    {
     "name": "stdout",
     "output_type": "stream",
     "text": [
      "re_bodypart_directions download started this may take some time.\n",
      "Approximate size to download 9.2 MB\n",
      "[OK!]\n",
      "\n",
      " MRI demonstrated infarction in the upper brain stem , left cerebellum and  right basil ganglia\n"
     ]
    },
    {
     "data": {
      "text/html": [
       "<div>\n",
       "<style scoped>\n",
       "    .dataframe tbody tr th:only-of-type {\n",
       "        vertical-align: middle;\n",
       "    }\n",
       "\n",
       "    .dataframe tbody tr th {\n",
       "        vertical-align: top;\n",
       "    }\n",
       "\n",
       "    .dataframe thead th {\n",
       "        text-align: right;\n",
       "    }\n",
       "</style>\n",
       "<table border=\"1\" class=\"dataframe\">\n",
       "  <thead>\n",
       "    <tr style=\"text-align: right;\">\n",
       "      <th></th>\n",
       "      <th>relations</th>\n",
       "      <th>entity1</th>\n",
       "      <th>chunk1</th>\n",
       "      <th>entity2</th>\n",
       "      <th>chunk2</th>\n",
       "      <th>confidence</th>\n",
       "    </tr>\n",
       "  </thead>\n",
       "  <tbody>\n",
       "    <tr>\n",
       "      <th>0</th>\n",
       "      <td>1</td>\n",
       "      <td>Direction</td>\n",
       "      <td>upper</td>\n",
       "      <td>Internal_organ_or_component</td>\n",
       "      <td>brain stem</td>\n",
       "      <td>0.9999989</td>\n",
       "    </tr>\n",
       "    <tr>\n",
       "      <th>4</th>\n",
       "      <td>1</td>\n",
       "      <td>Direction</td>\n",
       "      <td>left</td>\n",
       "      <td>Internal_organ_or_component</td>\n",
       "      <td>cerebellum</td>\n",
       "      <td>1.0</td>\n",
       "    </tr>\n",
       "    <tr>\n",
       "      <th>7</th>\n",
       "      <td>1</td>\n",
       "      <td>Direction</td>\n",
       "      <td>right</td>\n",
       "      <td>Internal_organ_or_component</td>\n",
       "      <td>basil ganglia</td>\n",
       "      <td>1.0</td>\n",
       "    </tr>\n",
       "  </tbody>\n",
       "</table>\n",
       "</div>"
      ],
      "text/plain": [
       "  relations    entity1 chunk1                      entity2         chunk2 confidence\n",
       "0         1  Direction  upper  Internal_organ_or_component     brain stem  0.9999989\n",
       "4         1  Direction   left  Internal_organ_or_component     cerebellum        1.0\n",
       "7         1  Direction  right  Internal_organ_or_component  basil ganglia        1.0"
      ]
     },
     "execution_count": 71,
     "metadata": {
      "tags": []
     },
     "output_type": "execute_result"
    }
   ],
   "source": [
    "# bodypart vs directions\n",
    "model_name =  're_bodypart_directions'\n",
    "pairs = pair3\n",
    "text = text3\n",
    "\n",
    "relation_exraction(model_name, pairs, text)\n"
   ]
  },
  {
   "cell_type": "code",
   "execution_count": null,
   "metadata": {
    "id": "SBEyTj4MhN6T",
    "outputId": "81694b8f-c8e4-45e8-8163-48f8a5f3c88f"
   },
   "outputs": [
    {
     "name": "stdout",
     "output_type": "stream",
     "text": [
      "re_date_clinical download started this may take some time.\n",
      "Approximate size to download 9.2 MB\n",
      "[OK!]\n",
      "\n",
      " This 73 y/o patient had CT  on 1/12/95, with progressive memory and cognitive decline since 8/11/94.\n"
     ]
    },
    {
     "data": {
      "text/html": [
       "<div>\n",
       "<style scoped>\n",
       "    .dataframe tbody tr th:only-of-type {\n",
       "        vertical-align: middle;\n",
       "    }\n",
       "\n",
       "    .dataframe tbody tr th {\n",
       "        vertical-align: top;\n",
       "    }\n",
       "\n",
       "    .dataframe thead th {\n",
       "        text-align: right;\n",
       "    }\n",
       "</style>\n",
       "<table border=\"1\" class=\"dataframe\">\n",
       "  <thead>\n",
       "    <tr style=\"text-align: right;\">\n",
       "      <th></th>\n",
       "      <th>relations</th>\n",
       "      <th>entity1</th>\n",
       "      <th>chunk1</th>\n",
       "      <th>entity2</th>\n",
       "      <th>chunk2</th>\n",
       "      <th>confidence</th>\n",
       "    </tr>\n",
       "  </thead>\n",
       "  <tbody>\n",
       "    <tr>\n",
       "      <th>0</th>\n",
       "      <td>1</td>\n",
       "      <td>Date</td>\n",
       "      <td>1/12/95</td>\n",
       "      <td>Symptom</td>\n",
       "      <td>progressive memory and cognitive decline</td>\n",
       "      <td>1.0</td>\n",
       "    </tr>\n",
       "    <tr>\n",
       "      <th>1</th>\n",
       "      <td>1</td>\n",
       "      <td>Symptom</td>\n",
       "      <td>progressive memory and cognitive decline</td>\n",
       "      <td>Date</td>\n",
       "      <td>8/11/94</td>\n",
       "      <td>1.0</td>\n",
       "    </tr>\n",
       "  </tbody>\n",
       "</table>\n",
       "</div>"
      ],
      "text/plain": [
       "  relations  entity1                                    chunk1  entity2                                    chunk2 confidence\n",
       "0         1     Date                                   1/12/95  Symptom  progressive memory and cognitive decline        1.0\n",
       "1         1  Symptom  progressive memory and cognitive decline     Date                                   8/11/94        1.0"
      ]
     },
     "execution_count": 76,
     "metadata": {
      "tags": []
     },
     "output_type": "execute_result"
    }
   ],
   "source": [
    "# date vs clinical date entities\n",
    "model_name =  're_date_clinical'\n",
    "pairs = pair4\n",
    "text = text4\n",
    "\n",
    "relation_exraction(model_name, pairs, text)\n"
   ]
  },
  {
   "cell_type": "code",
   "execution_count": null,
   "metadata": {
    "id": "okoxjU-ghN6T"
   },
   "outputs": [],
   "source": []
  }
 ],
 "metadata": {
  "colab": {
   "collapsed_sections": [],
   "name": "10.1.Clinical_Relation_Extraction_BodyParts_Models",
   "provenance": []
  },
  "kernelspec": {
   "display_name": "Python 3",
   "language": "python",
   "name": "python3"
  },
  "language_info": {
   "codemirror_mode": {
    "name": "ipython",
    "version": 3
   },
   "file_extension": ".py",
   "mimetype": "text/x-python",
   "name": "python",
   "nbconvert_exporter": "python",
   "pygments_lexer": "ipython3",
   "version": "3.7.6"
  }
 },
 "nbformat": 4,
 "nbformat_minor": 4
}

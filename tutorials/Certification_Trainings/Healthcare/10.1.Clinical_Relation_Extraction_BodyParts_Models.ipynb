{
  "nbformat": 4,
  "nbformat_minor": 0,
  "metadata": {
    "colab": {
      "name": "10.1.Clinical_Relation_Extraction_BodyParts_Models.ipynb",
      "provenance": [],
      "collapsed_sections": []
    },
    "kernelspec": {
      "display_name": "Python 3",
      "language": "python",
      "name": "python3"
    },
    "language_info": {
      "codemirror_mode": {
        "name": "ipython",
        "version": 3
      },
      "file_extension": ".py",
      "mimetype": "text/x-python",
      "name": "python",
      "nbconvert_exporter": "python",
      "pygments_lexer": "ipython3",
      "version": "3.7.6"
    }
  },
  "cells": [
    {
      "cell_type": "markdown",
      "metadata": {
        "id": "zHHjQL_MhT_s"
      },
      "source": [
        "![JohnSnowLabs](https://nlp.johnsnowlabs.com/assets/images/logo.png)"
      ]
    },
    {
      "cell_type": "markdown",
      "metadata": {
        "id": "VVL1jdg3hXfb"
      },
      "source": [
        "[![Open In Colab](https://colab.research.google.com/assets/colab-badge.svg)](https://colab.research.google.com/github/JohnSnowLabs/spark-nlp-workshop/blob/master/tutorials/Certification_Trainings/Healthcare/10.1.Clinical_Relation_Extraction_BodyParts_Models.ipynb)"
      ]
    },
    {
      "cell_type": "markdown",
      "metadata": {
        "id": "PSk7NM6_hXOs"
      },
      "source": [
        "# 10.1 Clinical Relation Extraction BodyPart Models\n",
        "\n",
        "(requires Spark NLP 2.7.1 and Spark NLP Healthcare 2.7.2 and above)"
      ]
    },
    {
      "cell_type": "code",
      "metadata": {
        "id": "hrAioo44hey6"
      },
      "source": [
        "import json\n",
        "\n",
        "from google.colab import files\n",
        "\n",
        "license_keys = files.upload()\n",
        "\n",
        "with open(list(license_keys.keys())[0]) as f:\n",
        "    license_keys = json.load(f)\n",
        "\n",
        "# Defining license key-value pairs as local variables\n",
        "locals().update(license_keys)\n",
        "\n",
        "# Adding license key-value pairs to environment variables\n",
        "import os\n",
        "os.environ.update(license_keys)"
      ],
      "execution_count": null,
      "outputs": []
    },
    {
      "cell_type": "code",
      "metadata": {
        "id": "6Yr81i2yc4td"
      },
      "source": [
        "# Installing pyspark and spark-nlp\n",
        "! pip install --upgrade -q pyspark==3.1.2 spark-nlp==$PUBLIC_VERSION\n",
        "\n",
        "# Installing Spark NLP Healthcare\n",
        "! pip install --upgrade -q spark-nlp-jsl==$JSL_VERSION  --extra-index-url https://pypi.johnsnowlabs.com/$SECRET\n",
        "\n",
        "# Installing Spark NLP Display Library for visualization\n",
        "! pip install -q spark-nlp-display"
      ],
      "execution_count": null,
      "outputs": []
    },
    {
      "cell_type": "code",
      "metadata": {
        "id": "v2QJSWNVFDrH",
        "colab": {
          "base_uri": "https://localhost:8080/"
        },
        "outputId": "86ba2a4d-6a48-4555-9c9c-0a452fd10bfb"
      },
      "source": [
        "import json\n",
        "import os\n",
        "from pyspark.ml import Pipeline\n",
        "from pyspark.sql import SparkSession\n",
        "\n",
        "from sparknlp.annotator import *\n",
        "from sparknlp_jsl.annotator import *\n",
        "from sparknlp.base import *\n",
        "import sparknlp_jsl\n",
        "import sparknlp\n",
        "\n",
        "params = {\"spark.driver.memory\":\"16G\",\n",
        "\"spark.kryoserializer.buffer.max\":\"2000M\",\n",
        "\"spark.driver.maxResultSize\":\"2000M\"}\n",
        "\n",
        "spark = sparknlp_jsl.start(license_keys['SECRET'],params=params)\n",
        "\n",
        "print (sparknlp.version())\n",
        "print (sparknlp_jsl.version())"
      ],
      "execution_count": null,
      "outputs": [
        {
          "output_type": "stream",
          "name": "stdout",
          "text": [
            "3.3.0\n",
            "3.3.0\n"
          ]
        }
      ]
    },
    {
      "cell_type": "code",
      "metadata": {
        "colab": {
          "base_uri": "https://localhost:8080/",
          "height": 216
        },
        "id": "NDLcNaDyhN6J",
        "outputId": "36e88abe-25fe-44bb-b949-49a7d121fdcd"
      },
      "source": [
        "spark"
      ],
      "execution_count": null,
      "outputs": [
        {
          "output_type": "execute_result",
          "data": {
            "text/html": [
              "\n",
              "            <div>\n",
              "                <p><b>SparkSession - in-memory</b></p>\n",
              "                \n",
              "        <div>\n",
              "            <p><b>SparkContext</b></p>\n",
              "\n",
              "            <p><a href=\"http://cc56f1f17b58:4040\">Spark UI</a></p>\n",
              "\n",
              "            <dl>\n",
              "              <dt>Version</dt>\n",
              "                <dd><code>v3.1.2</code></dd>\n",
              "              <dt>Master</dt>\n",
              "                <dd><code>local[*]</code></dd>\n",
              "              <dt>AppName</dt>\n",
              "                <dd><code>Spark NLP Licensed</code></dd>\n",
              "            </dl>\n",
              "        </div>\n",
              "        \n",
              "            </div>\n",
              "        "
            ],
            "text/plain": [
              "<pyspark.sql.session.SparkSession at 0x7fb6d1408550>"
            ]
          },
          "metadata": {},
          "execution_count": 4
        }
      ]
    },
    {
      "cell_type": "markdown",
      "metadata": {
        "id": "52YRfABhhN6K"
      },
      "source": [
        "## 1. Prediction Pipeline for Clinical Binary Relation Models"
      ]
    },
    {
      "cell_type": "markdown",
      "metadata": {
        "id": "JOob76OLZNHt"
      },
      "source": [
        "Basic Pipeline without Re Models. Run it once and we can add custom Re models to the same pipeline"
      ]
    },
    {
      "cell_type": "code",
      "metadata": {
        "colab": {
          "base_uri": "https://localhost:8080/"
        },
        "id": "mnyPwdRIhN6M",
        "outputId": "c43e6859-86d9-455e-91ef-2c8b75d9f86d"
      },
      "source": [
        "documenter = DocumentAssembler()\\\n",
        "    .setInputCol(\"text\")\\\n",
        "    .setOutputCol(\"document\")\n",
        "\n",
        "sentencer = SentenceDetector()\\\n",
        "    .setInputCols([\"document\"])\\\n",
        "    .setOutputCol(\"sentences\")\n",
        "\n",
        "tokenizer = Tokenizer()\\\n",
        "    .setInputCols([\"sentences\"])\\\n",
        "    .setOutputCol(\"tokens\")\\\n",
        "\n",
        "words_embedder = WordEmbeddingsModel()\\\n",
        "    .pretrained(\"embeddings_clinical\", \"en\", \"clinical/models\")\\\n",
        "    .setInputCols([\"sentences\", \"tokens\"])\\\n",
        "    .setOutputCol(\"embeddings\")\n",
        "\n",
        "pos_tagger = PerceptronModel()\\\n",
        "    .pretrained(\"pos_clinical\", \"en\", \"clinical/models\") \\\n",
        "    .setInputCols([\"sentences\", \"tokens\"])\\\n",
        "    .setOutputCol(\"pos_tags\")\n",
        "    \n",
        "dependency_parser = DependencyParserModel()\\\n",
        "    .pretrained(\"dependency_conllu\", \"en\")\\\n",
        "    .setInputCols([\"sentences\", \"pos_tags\", \"tokens\"])\\\n",
        "    .setOutputCol(\"dependencies\")\n",
        "\n",
        "# get pretrained ner model \n",
        "clinical_ner_tagger = MedicalNerModel()\\\n",
        "    .pretrained('jsl_ner_wip_greedy_clinical','en','clinical/models')\\\n",
        "    .setInputCols(\"sentences\", \"tokens\", \"embeddings\")\\\n",
        "    .setOutputCol(\"ner_tags\")    \n",
        "\n",
        "ner_chunker = NerConverter()\\\n",
        "    .setInputCols([\"sentences\", \"tokens\", \"ner_tags\"])\\\n",
        "    .setOutputCol(\"ner_chunks\")\n",
        "    "
      ],
      "execution_count": null,
      "outputs": [
        {
          "output_type": "stream",
          "name": "stdout",
          "text": [
            "embeddings_clinical download started this may take some time.\n",
            "Approximate size to download 1.6 GB\n",
            "[OK!]\n",
            "pos_clinical download started this may take some time.\n",
            "Approximate size to download 1.5 MB\n",
            "[OK!]\n",
            "dependency_conllu download started this may take some time.\n",
            "Approximate size to download 16.7 MB\n",
            "[OK!]\n",
            "jsl_ner_wip_greedy_clinical download started this may take some time.\n",
            "Approximate size to download 14.5 MB\n",
            "[OK!]\n"
          ]
        }
      ]
    },
    {
      "cell_type": "code",
      "metadata": {
        "id": "pAmatZ3dAF4n"
      },
      "source": [
        "import pandas as pd\n",
        "\n",
        "# This function will be utilized to show prediction results in a dataframe\n",
        "def get_relations_df (results, col='relations'):\n",
        "    rel_pairs=[]\n",
        "    for rel in results[0][col]:\n",
        "        rel_pairs.append((\n",
        "          rel.result, \n",
        "          rel.metadata['entity1'], \n",
        "          rel.metadata['entity1_begin'],\n",
        "          rel.metadata['entity1_end'],\n",
        "          rel.metadata['chunk1'], \n",
        "          rel.metadata['entity2'],\n",
        "          rel.metadata['entity2_begin'],\n",
        "          rel.metadata['entity2_end'],\n",
        "          rel.metadata['chunk2'], \n",
        "          rel.metadata['confidence']\n",
        "        ))\n",
        "\n",
        "    rel_df = pd.DataFrame(rel_pairs, columns=['relations',\n",
        "                                              'entity1','entity1_begin','entity1_end','chunk1',\n",
        "                                              'entity2','entity2_end','entity2_end','chunk2', \n",
        "                                              'confidence'])\n",
        "    # limit df columns to get entity and chunks with results only\n",
        "    rel_df = rel_df.iloc[:,[0,1,4,5,8,9]]\n",
        "    \n",
        "    return rel_df"
      ],
      "execution_count": null,
      "outputs": []
    },
    {
      "cell_type": "markdown",
      "metadata": {
        "id": "Wa00p42s-1vj"
      },
      "source": [
        "### Example pairs for relation entities"
      ]
    },
    {
      "cell_type": "code",
      "metadata": {
        "id": "SSkP-5aKhN6N"
      },
      "source": [
        "\n",
        "# bodypart entities >> ['external_body_part_or_region', 'internal_organ_or_component']\n",
        "\n",
        "# 1. bodypart vs problem\n",
        "pair1 = ['symptom-external_body_part_or_region', 'external_body_part_or_region-symptom']\n",
        "\n",
        "# 2. bodypart vs procedure and test\n",
        "pair2 = ['internal_organ_or_component-imagingtest',\n",
        " 'imagingtest-internal_organ_or_component',\n",
        " 'internal_organ_or_component-procedure',\n",
        " 'procedure-internal_organ_or_component',\n",
        " 'internal_organ_or_component-test',\n",
        " 'test-internal_organ_or_component',\n",
        " 'external_body_part_or_region-imagingtest',\n",
        " 'imagingtest-external_body_part_or_region',\n",
        " 'external_body_part_or_region-procedure',\n",
        " 'procedure-external_body_part_or_region',\n",
        " 'external_body_part_or_region-test',\n",
        " 'test-external_body_part_or_region']\n",
        "\n",
        "# 3. bodypart vs direction\n",
        "pair3 = ['direction-external_body_part_or_region', 'external_body_part_or_region-direction',\n",
        "        'internal_organ_or_component-direction','direction-internal_organ_or_component']\n",
        "\n",
        "# 4. date vs other clinical entities\n",
        "# date entities >> ['Date', 'RelativeDate', 'Duration', 'RelativeTime', 'Time']\n",
        "pair4 = ['symptom-date', 'date-procedure', 'relativedate-test', 'test-date']"
      ],
      "execution_count": null,
      "outputs": []
    },
    {
      "cell_type": "markdown",
      "metadata": {
        "id": "6g_Rw2_0hN6N"
      },
      "source": [
        " **Pretrained relation model names**; use this names in `RelationExtractionModel()` ;  \n",
        " \n",
        " + `re_bodypart_problem`  \n",
        " \n",
        " + `re_bodypart_directions`  \n",
        " \n",
        " + `re_bodypart_proceduretest`  \n",
        " \n",
        " + `re_date_clinical`  "
      ]
    },
    {
      "cell_type": "markdown",
      "metadata": {
        "id": "szA2kg2B-9TG"
      },
      "source": [
        "## 2. Example of how custom RE models can be added to the same pipeline"
      ]
    },
    {
      "cell_type": "markdown",
      "metadata": {
        "id": "FyAR5U18ZNHz"
      },
      "source": [
        "### 2.1 Relation Extraction Model"
      ]
    },
    {
      "cell_type": "code",
      "metadata": {
        "colab": {
          "base_uri": "https://localhost:8080/"
        },
        "id": "O-0YDDdwhN6O",
        "outputId": "10c740f4-1dcf-41ca-ff36-e80077bcf875"
      },
      "source": [
        "re_model = RelationExtractionModel()\\\n",
        "    .pretrained(\"re_bodypart_directions\", \"en\", 'clinical/models')\\\n",
        "    .setInputCols([\"embeddings\", \"pos_tags\", \"ner_chunks\", \"dependencies\"])\\\n",
        "    .setOutputCol(\"relations\")\\\n",
        "    .setRelationPairs(['direction-external_body_part_or_region', \n",
        "                       'external_body_part_or_region-direction',\n",
        "                       'direction-internal_organ_or_component',\n",
        "                       'internal_organ_or_component-direction'\n",
        "                      ])\\\n",
        "    .setMaxSyntacticDistance(4)\\\n",
        "    .setPredictionThreshold(0.9)\n",
        "\n",
        "trained_pipeline = Pipeline(stages=[\n",
        "    documenter,\n",
        "    sentencer,\n",
        "    tokenizer, \n",
        "    words_embedder, \n",
        "    pos_tagger, \n",
        "    clinical_ner_tagger,\n",
        "    ner_chunker,\n",
        "    dependency_parser,\n",
        "    re_model\n",
        "])\n",
        "\n",
        "empty_data = spark.createDataFrame([[\"\"]]).toDF(\"text\")\n",
        "\n",
        "loaded_re_model = trained_pipeline.fit(empty_data)"
      ],
      "execution_count": null,
      "outputs": [
        {
          "output_type": "stream",
          "name": "stdout",
          "text": [
            "re_bodypart_directions download started this may take some time.\n",
            "Approximate size to download 9.2 MB\n",
            "[OK!]\n"
          ]
        }
      ]
    },
    {
      "cell_type": "markdown",
      "metadata": {
        "id": "NDLzlhI9ZNH1"
      },
      "source": [
        "### 2.2 ReDL Model - based on end-to-end trained Bert Model"
      ]
    },
    {
      "cell_type": "code",
      "metadata": {
        "id": "28ICav0cZNH2",
        "colab": {
          "base_uri": "https://localhost:8080/"
        },
        "outputId": "a7cab223-dde0-427f-8f2f-6b01b9610131"
      },
      "source": [
        "re_ner_chunk_filter = RENerChunksFilter() \\\n",
        "    .setInputCols([\"ner_chunks\", \"dependencies\"])\\\n",
        "    .setOutputCol(\"re_ner_chunks\")\\\n",
        "    .setMaxSyntacticDistance(4)\\\n",
        "    .setRelationPairs(['direction-external_body_part_or_region', \n",
        "                       'external_body_part_or_region-direction',\n",
        "                       'direction-internal_organ_or_component',\n",
        "                       'internal_organ_or_component-direction'\n",
        "                      ])\n",
        "    \n",
        "re_model = RelationExtractionDLModel() \\\n",
        "    .pretrained('redl_bodypart_direction_biobert', \"en\", \"clinical/models\")\\\n",
        "    .setPredictionThreshold(0.5)\\\n",
        "    .setInputCols([\"re_ner_chunks\", \"sentences\"]) \\\n",
        "    .setOutputCol(\"relations\")\n",
        "\n",
        "trained_pipeline = Pipeline(stages=[\n",
        "    documenter,\n",
        "    sentencer,\n",
        "    tokenizer, \n",
        "    words_embedder, \n",
        "    pos_tagger, \n",
        "    clinical_ner_tagger,\n",
        "    ner_chunker,\n",
        "    dependency_parser,\n",
        "    re_ner_chunk_filter,\n",
        "    re_model\n",
        "])\n",
        "\n",
        "empty_data = spark.createDataFrame([[\"\"]]).toDF(\"text\")\n",
        "\n",
        "loaded_redl_model = trained_pipeline.fit(empty_data)"
      ],
      "execution_count": null,
      "outputs": [
        {
          "output_type": "stream",
          "name": "stdout",
          "text": [
            "redl_bodypart_direction_biobert download started this may take some time.\n",
            "Approximate size to download 383.4 MB\n",
            "[OK!]\n"
          ]
        }
      ]
    },
    {
      "cell_type": "markdown",
      "metadata": {
        "id": "A0HO7NYlhN6O"
      },
      "source": [
        "## 3. Sample clinical tetxs"
      ]
    },
    {
      "cell_type": "code",
      "metadata": {
        "id": "dHAWmLXkhN6P"
      },
      "source": [
        "# bodypart vs problem \n",
        "text1 = '''No neurologic deficits other than some numbness in his left hand.'''\n",
        "\n",
        "# bodypart  vs procedure and test\n",
        "#text2 = 'Common bile duct was noted to be 10 mm in size on that ultrasound.'\n",
        "#text2 = 'Biopsies of the distal duodenum, gastric antrum, distalesophagus were taken and sent for pathological evaluation.'\n",
        "text2 = 'TECHNIQUE IN DETAIL: After informed consent was obtained from the patient and his mother, the chest was scanned with portable ultrasound.'\n",
        "\n",
        "# bodypart direction\n",
        "text3 = '''MRI demonstrated infarction in the upper brain stem , left cerebellum and  right basil ganglia'''\n",
        "\n",
        "# date vs other clinical entities\n",
        "text4 = ''' This 73 y/o patient had Brain CT on 1/12/95, with progressive memory and cognitive decline since 8/11/94.'''"
      ],
      "execution_count": null,
      "outputs": []
    },
    {
      "cell_type": "markdown",
      "metadata": {
        "id": "RmTkYtm9hN6P"
      },
      "source": [
        "**Get Single Prediction** with `LightPipeline()`"
      ]
    },
    {
      "cell_type": "markdown",
      "metadata": {
        "id": "e5P-pPuBZNH5"
      },
      "source": [
        "### 3. 1 Using Relation Extraction Model"
      ]
    },
    {
      "cell_type": "code",
      "metadata": {
        "colab": {
          "base_uri": "https://localhost:8080/",
          "height": 176
        },
        "id": "9tuTJp81hN6Q",
        "outputId": "fc66a266-3e07-4b89-c4ad-318ec605a552"
      },
      "source": [
        "# choose one of the sample texts depending on the pretrained relation model you want to use\n",
        "text = text3\n",
        "\n",
        "loaded_re_model_light = LightPipeline(loaded_re_model)\n",
        "annotations = loaded_re_model_light.fullAnnotate(text)\n",
        "\n",
        "\n",
        "rel_df = get_relations_df(annotations) # << get_relations_df() is the function defined in the 3rd cell\n",
        "\n",
        "print('\\n',text)\n",
        "\n",
        "rel_df[rel_df.relations!=\"0\"]\n",
        "#rel_df\n"
      ],
      "execution_count": null,
      "outputs": [
        {
          "output_type": "stream",
          "name": "stdout",
          "text": [
            "\n",
            " MRI demonstrated infarction in the upper brain stem , left cerebellum and  right basil ganglia\n"
          ]
        },
        {
          "output_type": "execute_result",
          "data": {
            "text/html": [
              "<div>\n",
              "<style scoped>\n",
              "    .dataframe tbody tr th:only-of-type {\n",
              "        vertical-align: middle;\n",
              "    }\n",
              "\n",
              "    .dataframe tbody tr th {\n",
              "        vertical-align: top;\n",
              "    }\n",
              "\n",
              "    .dataframe thead th {\n",
              "        text-align: right;\n",
              "    }\n",
              "</style>\n",
              "<table border=\"1\" class=\"dataframe\">\n",
              "  <thead>\n",
              "    <tr style=\"text-align: right;\">\n",
              "      <th></th>\n",
              "      <th>relations</th>\n",
              "      <th>entity1</th>\n",
              "      <th>chunk1</th>\n",
              "      <th>entity2</th>\n",
              "      <th>chunk2</th>\n",
              "      <th>confidence</th>\n",
              "    </tr>\n",
              "  </thead>\n",
              "  <tbody>\n",
              "    <tr>\n",
              "      <th>0</th>\n",
              "      <td>1</td>\n",
              "      <td>Direction</td>\n",
              "      <td>upper</td>\n",
              "      <td>Internal_organ_or_component</td>\n",
              "      <td>brain stem</td>\n",
              "      <td>0.9999989</td>\n",
              "    </tr>\n",
              "    <tr>\n",
              "      <th>5</th>\n",
              "      <td>1</td>\n",
              "      <td>Direction</td>\n",
              "      <td>left</td>\n",
              "      <td>Internal_organ_or_component</td>\n",
              "      <td>cerebellum</td>\n",
              "      <td>1.0</td>\n",
              "    </tr>\n",
              "    <tr>\n",
              "      <th>8</th>\n",
              "      <td>1</td>\n",
              "      <td>Direction</td>\n",
              "      <td>right</td>\n",
              "      <td>Internal_organ_or_component</td>\n",
              "      <td>basil ganglia</td>\n",
              "      <td>1.0</td>\n",
              "    </tr>\n",
              "  </tbody>\n",
              "</table>\n",
              "</div>"
            ],
            "text/plain": [
              "  relations    entity1  ...         chunk2 confidence\n",
              "0         1  Direction  ...     brain stem  0.9999989\n",
              "5         1  Direction  ...     cerebellum        1.0\n",
              "8         1  Direction  ...  basil ganglia        1.0\n",
              "\n",
              "[3 rows x 6 columns]"
            ]
          },
          "metadata": {},
          "execution_count": 11
        }
      ]
    },
    {
      "cell_type": "markdown",
      "metadata": {
        "id": "mkYhDW9lZNH7"
      },
      "source": [
        "### 3.2 Using Relation Extraction DL Model"
      ]
    },
    {
      "cell_type": "code",
      "metadata": {
        "id": "VUeWINUCZNH7",
        "colab": {
          "base_uri": "https://localhost:8080/",
          "height": 176
        },
        "outputId": "94fef72f-18bc-4006-a171-dd15c0d70de7"
      },
      "source": [
        "# choose one of the sample texts depending on the pretrained relation model you want to use\n",
        "text = text3\n",
        "\n",
        "loaded_re_model_light = LightPipeline(loaded_redl_model)\n",
        "annotations = loaded_re_model_light.fullAnnotate(text)\n",
        "\n",
        "\n",
        "rel_df = get_relations_df(annotations) # << get_relations_df() is the function defined in the 3rd cell\n",
        "\n",
        "print('\\n',text)\n",
        "\n",
        "rel_df[rel_df.relations!=\"0\"]\n",
        "#rel_df\n"
      ],
      "execution_count": null,
      "outputs": [
        {
          "output_type": "stream",
          "name": "stdout",
          "text": [
            "\n",
            " MRI demonstrated infarction in the upper brain stem , left cerebellum and  right basil ganglia\n"
          ]
        },
        {
          "output_type": "execute_result",
          "data": {
            "text/html": [
              "<div>\n",
              "<style scoped>\n",
              "    .dataframe tbody tr th:only-of-type {\n",
              "        vertical-align: middle;\n",
              "    }\n",
              "\n",
              "    .dataframe tbody tr th {\n",
              "        vertical-align: top;\n",
              "    }\n",
              "\n",
              "    .dataframe thead th {\n",
              "        text-align: right;\n",
              "    }\n",
              "</style>\n",
              "<table border=\"1\" class=\"dataframe\">\n",
              "  <thead>\n",
              "    <tr style=\"text-align: right;\">\n",
              "      <th></th>\n",
              "      <th>relations</th>\n",
              "      <th>entity1</th>\n",
              "      <th>chunk1</th>\n",
              "      <th>entity2</th>\n",
              "      <th>chunk2</th>\n",
              "      <th>confidence</th>\n",
              "    </tr>\n",
              "  </thead>\n",
              "  <tbody>\n",
              "    <tr>\n",
              "      <th>0</th>\n",
              "      <td>1</td>\n",
              "      <td>Direction</td>\n",
              "      <td>upper</td>\n",
              "      <td>Internal_organ_or_component</td>\n",
              "      <td>brain stem</td>\n",
              "      <td>0.9997279</td>\n",
              "    </tr>\n",
              "    <tr>\n",
              "      <th>5</th>\n",
              "      <td>1</td>\n",
              "      <td>Direction</td>\n",
              "      <td>left</td>\n",
              "      <td>Internal_organ_or_component</td>\n",
              "      <td>cerebellum</td>\n",
              "      <td>0.9983004</td>\n",
              "    </tr>\n",
              "    <tr>\n",
              "      <th>8</th>\n",
              "      <td>1</td>\n",
              "      <td>Direction</td>\n",
              "      <td>right</td>\n",
              "      <td>Internal_organ_or_component</td>\n",
              "      <td>basil ganglia</td>\n",
              "      <td>0.9981027</td>\n",
              "    </tr>\n",
              "  </tbody>\n",
              "</table>\n",
              "</div>"
            ],
            "text/plain": [
              "  relations    entity1  ...         chunk2 confidence\n",
              "0         1  Direction  ...     brain stem  0.9997279\n",
              "5         1  Direction  ...     cerebellum  0.9983004\n",
              "8         1  Direction  ...  basil ganglia  0.9981027\n",
              "\n",
              "[3 rows x 6 columns]"
            ]
          },
          "metadata": {},
          "execution_count": 12
        }
      ]
    },
    {
      "cell_type": "markdown",
      "metadata": {
        "id": "jLUZZSIL_Kzt"
      },
      "source": [
        "## Custom Function"
      ]
    },
    {
      "cell_type": "code",
      "metadata": {
        "id": "bDVfQ7pmhN6R"
      },
      "source": [
        "# Previous cell content is merged in this custom function to get quick predictions, for custom cases please check parameters in RelationExtractionModel()\n",
        "def relation_exraction(model_name, pairs, text):\n",
        "    \n",
        "    re_model = RelationExtractionModel()\\\n",
        "        .pretrained(model_name, \"en\", 'clinical/models')\\\n",
        "        .setInputCols([\"embeddings\", \"pos_tags\", \"ner_chunks\", \"dependencies\"])\\\n",
        "        .setOutputCol(\"relations\")\\\n",
        "        .setRelationPairs(pairs)\\\n",
        "        .setMaxSyntacticDistance(3)\\\n",
        "        .setPredictionThreshold(0.9)\n",
        "\n",
        "    trained_pipeline = Pipeline(stages=[\n",
        "        documenter,\n",
        "        sentencer,\n",
        "        tokenizer, \n",
        "        words_embedder, \n",
        "        pos_tagger, \n",
        "        clinical_ner_tagger,\n",
        "        ner_chunker,\n",
        "        dependency_parser,\n",
        "        re_model\n",
        "    ])\n",
        "\n",
        "    empty_data = spark.createDataFrame([[\"\"]]).toDF(\"text\")\n",
        "\n",
        "    loaded_re_model = trained_pipeline.fit(empty_data)\n",
        "    \n",
        "    loaded_re_model_light = LightPipeline(loaded_re_model)\n",
        "    annotations = loaded_re_model_light.fullAnnotate(text)\n",
        "\n",
        "    rel_df = get_relations_df(annotations) # << get_relations_df() is the function defined in the 3rd cell\n",
        "\n",
        "    print('\\n','Target Text : ',text, '\\n')\n",
        "\n",
        "    #rel_df\n",
        "    return rel_df[rel_df.relations!=\"0\"]\n",
        "\n",
        "def relation_exraction_dl(model_name, pairs, text):\n",
        "    \n",
        "    re_ner_chunk_filter = RENerChunksFilter() \\\n",
        "        .setInputCols([\"ner_chunks\", \"dependencies\"])\\\n",
        "        .setOutputCol(\"re_ner_chunks\")\\\n",
        "        .setRelationPairs(pairs)\n",
        "    \n",
        "    re_model = RelationExtractionDLModel() \\\n",
        "        .pretrained(model_name, \"en\", \"clinical/models\")\\\n",
        "        .setPredictionThreshold(0.0)\\\n",
        "        .setInputCols([\"re_ner_chunks\", \"sentences\"]) \\\n",
        "        .setOutputCol(\"relations\")\n",
        "\n",
        "    trained_pipeline = Pipeline(stages=[\n",
        "        documenter,\n",
        "        sentencer,\n",
        "        tokenizer, \n",
        "        words_embedder, \n",
        "        pos_tagger, \n",
        "        clinical_ner_tagger,\n",
        "        ner_chunker,\n",
        "        dependency_parser,\n",
        "        re_ner_chunk_filter,\n",
        "        re_model\n",
        "    ])\n",
        "\n",
        "    empty_data = spark.createDataFrame([[\"\"]]).toDF(\"text\")\n",
        "\n",
        "    loaded_re_model = trained_pipeline.fit(empty_data)\n",
        "    \n",
        "    loaded_re_model_light = LightPipeline(loaded_re_model)\n",
        "    annotations = loaded_re_model_light.fullAnnotate(text)\n",
        "\n",
        "    rel_df = get_relations_df(annotations) # << get_relations_df() is the function defined in the 3rd cell\n",
        "\n",
        "    print('\\n','Target Text : ',text, '\\n')\n",
        "\n",
        "    #rel_df\n",
        "    return rel_df[rel_df.relations!=\"0\"]\n",
        "    "
      ],
      "execution_count": null,
      "outputs": []
    },
    {
      "cell_type": "markdown",
      "metadata": {
        "id": "T6jxxTJS_Q6i"
      },
      "source": [
        "## Predictions with Custom Function"
      ]
    },
    {
      "cell_type": "markdown",
      "metadata": {
        "id": "1iA1uHynZNH9"
      },
      "source": [
        "### 4.1 Bodypart vs Problem - RelationExtractionModel"
      ]
    },
    {
      "cell_type": "code",
      "metadata": {
        "colab": {
          "base_uri": "https://localhost:8080/",
          "height": 182
        },
        "id": "TBfM2LXVhN6R",
        "outputId": "9105c88f-9cfa-411d-9429-e62ff828591a"
      },
      "source": [
        "# bodypart vs problem \n",
        "model_name =  're_bodypart_problem'\n",
        "pairs =  ['symptom-external_body_part_or_region', 'external_body_part_or_region-symptom']\n",
        "\n",
        "text = \"Some numbness in his left hand noted, no other neurologic deficts.\"\n",
        "\n",
        "relation_exraction(model_name, pairs, text)\n"
      ],
      "execution_count": null,
      "outputs": [
        {
          "output_type": "stream",
          "name": "stdout",
          "text": [
            "re_bodypart_problem download started this may take some time.\n",
            "Approximate size to download 9.2 MB\n",
            "[OK!]\n",
            "\n",
            " Target Text :  Some numbness in his left hand noted, no other neurologic deficts. \n",
            "\n"
          ]
        },
        {
          "output_type": "execute_result",
          "data": {
            "text/html": [
              "<div>\n",
              "<style scoped>\n",
              "    .dataframe tbody tr th:only-of-type {\n",
              "        vertical-align: middle;\n",
              "    }\n",
              "\n",
              "    .dataframe tbody tr th {\n",
              "        vertical-align: top;\n",
              "    }\n",
              "\n",
              "    .dataframe thead th {\n",
              "        text-align: right;\n",
              "    }\n",
              "</style>\n",
              "<table border=\"1\" class=\"dataframe\">\n",
              "  <thead>\n",
              "    <tr style=\"text-align: right;\">\n",
              "      <th></th>\n",
              "      <th>relations</th>\n",
              "      <th>entity1</th>\n",
              "      <th>chunk1</th>\n",
              "      <th>entity2</th>\n",
              "      <th>chunk2</th>\n",
              "      <th>confidence</th>\n",
              "    </tr>\n",
              "  </thead>\n",
              "  <tbody>\n",
              "    <tr>\n",
              "      <th>0</th>\n",
              "      <td>1</td>\n",
              "      <td>Symptom</td>\n",
              "      <td>numbness</td>\n",
              "      <td>External_body_part_or_region</td>\n",
              "      <td>hand</td>\n",
              "      <td>1.0</td>\n",
              "    </tr>\n",
              "  </tbody>\n",
              "</table>\n",
              "</div>"
            ],
            "text/plain": [
              "  relations  entity1    chunk1                       entity2 chunk2 confidence\n",
              "0         1  Symptom  numbness  External_body_part_or_region   hand        1.0"
            ]
          },
          "metadata": {},
          "execution_count": 14
        }
      ]
    },
    {
      "cell_type": "markdown",
      "metadata": {
        "id": "fOFg3sabZNH-"
      },
      "source": [
        "### 4.2 Bodypart vs Problem - RelationExtractionDLModel"
      ]
    },
    {
      "cell_type": "code",
      "metadata": {
        "id": "Aac4wUI1ZNH-",
        "colab": {
          "base_uri": "https://localhost:8080/",
          "height": 182
        },
        "outputId": "800074e0-b792-456c-c02b-0e454da931cf"
      },
      "source": [
        "# bodypart vs problem \n",
        "model_name =  'redl_bodypart_problem_biobert'\n",
        "pairs =  ['symptom-external_body_part_or_region', 'external_body_part_or_region-symptom']\n",
        "\n",
        "text = \"Some numbness in his left hand noted, no other neurologic deficts.\"\n",
        "\n",
        "relation_exraction_dl(model_name, pairs, text)\n"
      ],
      "execution_count": null,
      "outputs": [
        {
          "output_type": "stream",
          "name": "stdout",
          "text": [
            "redl_bodypart_problem_biobert download started this may take some time.\n",
            "Approximate size to download 383.4 MB\n",
            "[OK!]\n",
            "\n",
            " Target Text :  Some numbness in his left hand noted, no other neurologic deficts. \n",
            "\n"
          ]
        },
        {
          "output_type": "execute_result",
          "data": {
            "text/html": [
              "<div>\n",
              "<style scoped>\n",
              "    .dataframe tbody tr th:only-of-type {\n",
              "        vertical-align: middle;\n",
              "    }\n",
              "\n",
              "    .dataframe tbody tr th {\n",
              "        vertical-align: top;\n",
              "    }\n",
              "\n",
              "    .dataframe thead th {\n",
              "        text-align: right;\n",
              "    }\n",
              "</style>\n",
              "<table border=\"1\" class=\"dataframe\">\n",
              "  <thead>\n",
              "    <tr style=\"text-align: right;\">\n",
              "      <th></th>\n",
              "      <th>relations</th>\n",
              "      <th>entity1</th>\n",
              "      <th>chunk1</th>\n",
              "      <th>entity2</th>\n",
              "      <th>chunk2</th>\n",
              "      <th>confidence</th>\n",
              "    </tr>\n",
              "  </thead>\n",
              "  <tbody>\n",
              "    <tr>\n",
              "      <th>0</th>\n",
              "      <td>1</td>\n",
              "      <td>Symptom</td>\n",
              "      <td>numbness</td>\n",
              "      <td>External_body_part_or_region</td>\n",
              "      <td>hand</td>\n",
              "      <td>0.9987514</td>\n",
              "    </tr>\n",
              "  </tbody>\n",
              "</table>\n",
              "</div>"
            ],
            "text/plain": [
              "  relations  entity1    chunk1                       entity2 chunk2 confidence\n",
              "0         1  Symptom  numbness  External_body_part_or_region   hand  0.9987514"
            ]
          },
          "metadata": {},
          "execution_count": 15
        }
      ]
    },
    {
      "cell_type": "markdown",
      "metadata": {
        "id": "QHeHj2xmZNH_"
      },
      "source": [
        "### 5.1 Bodypart vs Procedure & Test - RelationExtractionModel"
      ]
    },
    {
      "cell_type": "code",
      "metadata": {
        "colab": {
          "base_uri": "https://localhost:8080/",
          "height": 182
        },
        "id": "PqywwOKZhN6S",
        "outputId": "a520f91a-9fc5-4aa9-f311-42891c6f6f8c"
      },
      "source": [
        "# bodypart vs procedure and test \n",
        "model_name =  're_bodypart_proceduretest'\n",
        "pairs = pair2\n",
        "text = text2\n",
        "\n",
        "relation_exraction(model_name, pairs, text)\n"
      ],
      "execution_count": null,
      "outputs": [
        {
          "output_type": "stream",
          "name": "stdout",
          "text": [
            "re_bodypart_proceduretest download started this may take some time.\n",
            "Approximate size to download 9.2 MB\n",
            "[OK!]\n",
            "\n",
            " Target Text :  TECHNIQUE IN DETAIL: After informed consent was obtained from the patient and his mother, the chest was scanned with portable ultrasound. \n",
            "\n"
          ]
        },
        {
          "output_type": "execute_result",
          "data": {
            "text/html": [
              "<div>\n",
              "<style scoped>\n",
              "    .dataframe tbody tr th:only-of-type {\n",
              "        vertical-align: middle;\n",
              "    }\n",
              "\n",
              "    .dataframe tbody tr th {\n",
              "        vertical-align: top;\n",
              "    }\n",
              "\n",
              "    .dataframe thead th {\n",
              "        text-align: right;\n",
              "    }\n",
              "</style>\n",
              "<table border=\"1\" class=\"dataframe\">\n",
              "  <thead>\n",
              "    <tr style=\"text-align: right;\">\n",
              "      <th></th>\n",
              "      <th>relations</th>\n",
              "      <th>entity1</th>\n",
              "      <th>chunk1</th>\n",
              "      <th>entity2</th>\n",
              "      <th>chunk2</th>\n",
              "      <th>confidence</th>\n",
              "    </tr>\n",
              "  </thead>\n",
              "  <tbody>\n",
              "    <tr>\n",
              "      <th>0</th>\n",
              "      <td>1</td>\n",
              "      <td>External_body_part_or_region</td>\n",
              "      <td>chest</td>\n",
              "      <td>Test</td>\n",
              "      <td>portable ultrasound</td>\n",
              "      <td>1.0</td>\n",
              "    </tr>\n",
              "  </tbody>\n",
              "</table>\n",
              "</div>"
            ],
            "text/plain": [
              "  relations                       entity1  ...               chunk2 confidence\n",
              "0         1  External_body_part_or_region  ...  portable ultrasound        1.0\n",
              "\n",
              "[1 rows x 6 columns]"
            ]
          },
          "metadata": {},
          "execution_count": 16
        }
      ]
    },
    {
      "cell_type": "markdown",
      "metadata": {
        "id": "9j3lVFtAZNIA"
      },
      "source": [
        "### 5.2 Bodypart vs Procedure & Test - RelationExtractionDLModel"
      ]
    },
    {
      "cell_type": "code",
      "metadata": {
        "id": "nRa7_pYxZNIA",
        "colab": {
          "base_uri": "https://localhost:8080/",
          "height": 182
        },
        "outputId": "1e00ee7f-f0ad-4e08-c299-13a27ee0cf2a"
      },
      "source": [
        "# bodypart vs procedure and test \n",
        "model_name =  'redl_bodypart_procedure_test_biobert'\n",
        "pairs = pair2\n",
        "text = text2\n",
        "\n",
        "relation_exraction_dl(model_name, pairs, text)\n"
      ],
      "execution_count": null,
      "outputs": [
        {
          "output_type": "stream",
          "name": "stdout",
          "text": [
            "redl_bodypart_procedure_test_biobert download started this may take some time.\n",
            "Approximate size to download 386.4 MB\n",
            "[OK!]\n",
            "\n",
            " Target Text :  TECHNIQUE IN DETAIL: After informed consent was obtained from the patient and his mother, the chest was scanned with portable ultrasound. \n",
            "\n"
          ]
        },
        {
          "output_type": "execute_result",
          "data": {
            "text/html": [
              "<div>\n",
              "<style scoped>\n",
              "    .dataframe tbody tr th:only-of-type {\n",
              "        vertical-align: middle;\n",
              "    }\n",
              "\n",
              "    .dataframe tbody tr th {\n",
              "        vertical-align: top;\n",
              "    }\n",
              "\n",
              "    .dataframe thead th {\n",
              "        text-align: right;\n",
              "    }\n",
              "</style>\n",
              "<table border=\"1\" class=\"dataframe\">\n",
              "  <thead>\n",
              "    <tr style=\"text-align: right;\">\n",
              "      <th></th>\n",
              "      <th>relations</th>\n",
              "      <th>entity1</th>\n",
              "      <th>chunk1</th>\n",
              "      <th>entity2</th>\n",
              "      <th>chunk2</th>\n",
              "      <th>confidence</th>\n",
              "    </tr>\n",
              "  </thead>\n",
              "  <tbody>\n",
              "    <tr>\n",
              "      <th>0</th>\n",
              "      <td>1</td>\n",
              "      <td>External_body_part_or_region</td>\n",
              "      <td>chest</td>\n",
              "      <td>Test</td>\n",
              "      <td>portable ultrasound</td>\n",
              "      <td>0.9998367</td>\n",
              "    </tr>\n",
              "  </tbody>\n",
              "</table>\n",
              "</div>"
            ],
            "text/plain": [
              "  relations                       entity1  ...               chunk2 confidence\n",
              "0         1  External_body_part_or_region  ...  portable ultrasound  0.9998367\n",
              "\n",
              "[1 rows x 6 columns]"
            ]
          },
          "metadata": {},
          "execution_count": 17
        }
      ]
    },
    {
      "cell_type": "markdown",
      "metadata": {
        "id": "RBLGvr1aZNIA"
      },
      "source": [
        "### 6.1 Bodypart vs Directions -  RelationExtractionModel"
      ]
    },
    {
      "cell_type": "code",
      "metadata": {
        "colab": {
          "base_uri": "https://localhost:8080/",
          "height": 244
        },
        "id": "QSLzQFY2hN6T",
        "outputId": "d0e3c476-588e-48bd-a727-79e9e5d1aedb"
      },
      "source": [
        "# bodypart vs directions\n",
        "model_name =  're_bodypart_directions'\n",
        "pairs = pair3\n",
        "text = text3\n",
        "\n",
        "relation_exraction(model_name, pairs, text)\n"
      ],
      "execution_count": null,
      "outputs": [
        {
          "output_type": "stream",
          "name": "stdout",
          "text": [
            "re_bodypart_directions download started this may take some time.\n",
            "Approximate size to download 9.2 MB\n",
            "[OK!]\n",
            "\n",
            " Target Text :  MRI demonstrated infarction in the upper brain stem , left cerebellum and  right basil ganglia \n",
            "\n"
          ]
        },
        {
          "output_type": "execute_result",
          "data": {
            "text/html": [
              "<div>\n",
              "<style scoped>\n",
              "    .dataframe tbody tr th:only-of-type {\n",
              "        vertical-align: middle;\n",
              "    }\n",
              "\n",
              "    .dataframe tbody tr th {\n",
              "        vertical-align: top;\n",
              "    }\n",
              "\n",
              "    .dataframe thead th {\n",
              "        text-align: right;\n",
              "    }\n",
              "</style>\n",
              "<table border=\"1\" class=\"dataframe\">\n",
              "  <thead>\n",
              "    <tr style=\"text-align: right;\">\n",
              "      <th></th>\n",
              "      <th>relations</th>\n",
              "      <th>entity1</th>\n",
              "      <th>chunk1</th>\n",
              "      <th>entity2</th>\n",
              "      <th>chunk2</th>\n",
              "      <th>confidence</th>\n",
              "    </tr>\n",
              "  </thead>\n",
              "  <tbody>\n",
              "    <tr>\n",
              "      <th>0</th>\n",
              "      <td>1</td>\n",
              "      <td>Direction</td>\n",
              "      <td>upper</td>\n",
              "      <td>Internal_organ_or_component</td>\n",
              "      <td>brain stem</td>\n",
              "      <td>0.9999989</td>\n",
              "    </tr>\n",
              "    <tr>\n",
              "      <th>4</th>\n",
              "      <td>1</td>\n",
              "      <td>Direction</td>\n",
              "      <td>left</td>\n",
              "      <td>Internal_organ_or_component</td>\n",
              "      <td>cerebellum</td>\n",
              "      <td>1.0</td>\n",
              "    </tr>\n",
              "    <tr>\n",
              "      <th>7</th>\n",
              "      <td>1</td>\n",
              "      <td>Direction</td>\n",
              "      <td>right</td>\n",
              "      <td>Internal_organ_or_component</td>\n",
              "      <td>basil ganglia</td>\n",
              "      <td>1.0</td>\n",
              "    </tr>\n",
              "  </tbody>\n",
              "</table>\n",
              "</div>"
            ],
            "text/plain": [
              "  relations    entity1  ...         chunk2 confidence\n",
              "0         1  Direction  ...     brain stem  0.9999989\n",
              "4         1  Direction  ...     cerebellum        1.0\n",
              "7         1  Direction  ...  basil ganglia        1.0\n",
              "\n",
              "[3 rows x 6 columns]"
            ]
          },
          "metadata": {},
          "execution_count": 18
        }
      ]
    },
    {
      "cell_type": "markdown",
      "metadata": {
        "id": "7RRWfsVzZNIB"
      },
      "source": [
        "### 6.2 Bodypart vs Directions - RelationExtractionDLModel"
      ]
    },
    {
      "cell_type": "code",
      "metadata": {
        "id": "_p3dO7vRZNIC",
        "colab": {
          "base_uri": "https://localhost:8080/",
          "height": 244
        },
        "outputId": "b6aec43e-606c-4ec1-ce20-085d405fdbbe"
      },
      "source": [
        "# bodypart vs directions\n",
        "model_name =  'redl_bodypart_direction_biobert'\n",
        "pairs = pair3\n",
        "text = text3\n",
        "\n",
        "relation_exraction_dl(model_name, pairs, text)\n"
      ],
      "execution_count": null,
      "outputs": [
        {
          "output_type": "stream",
          "name": "stdout",
          "text": [
            "redl_bodypart_direction_biobert download started this may take some time.\n",
            "Approximate size to download 383.4 MB\n",
            "[OK!]\n",
            "\n",
            " Target Text :  MRI demonstrated infarction in the upper brain stem , left cerebellum and  right basil ganglia \n",
            "\n"
          ]
        },
        {
          "output_type": "execute_result",
          "data": {
            "text/html": [
              "<div>\n",
              "<style scoped>\n",
              "    .dataframe tbody tr th:only-of-type {\n",
              "        vertical-align: middle;\n",
              "    }\n",
              "\n",
              "    .dataframe tbody tr th {\n",
              "        vertical-align: top;\n",
              "    }\n",
              "\n",
              "    .dataframe thead th {\n",
              "        text-align: right;\n",
              "    }\n",
              "</style>\n",
              "<table border=\"1\" class=\"dataframe\">\n",
              "  <thead>\n",
              "    <tr style=\"text-align: right;\">\n",
              "      <th></th>\n",
              "      <th>relations</th>\n",
              "      <th>entity1</th>\n",
              "      <th>chunk1</th>\n",
              "      <th>entity2</th>\n",
              "      <th>chunk2</th>\n",
              "      <th>confidence</th>\n",
              "    </tr>\n",
              "  </thead>\n",
              "  <tbody>\n",
              "    <tr>\n",
              "      <th>0</th>\n",
              "      <td>1</td>\n",
              "      <td>Direction</td>\n",
              "      <td>upper</td>\n",
              "      <td>Internal_organ_or_component</td>\n",
              "      <td>brain stem</td>\n",
              "      <td>0.99918705</td>\n",
              "    </tr>\n",
              "    <tr>\n",
              "      <th>5</th>\n",
              "      <td>1</td>\n",
              "      <td>Direction</td>\n",
              "      <td>left</td>\n",
              "      <td>Internal_organ_or_component</td>\n",
              "      <td>cerebellum</td>\n",
              "      <td>0.9989447</td>\n",
              "    </tr>\n",
              "    <tr>\n",
              "      <th>8</th>\n",
              "      <td>1</td>\n",
              "      <td>Direction</td>\n",
              "      <td>right</td>\n",
              "      <td>Internal_organ_or_component</td>\n",
              "      <td>basil ganglia</td>\n",
              "      <td>0.9983779</td>\n",
              "    </tr>\n",
              "  </tbody>\n",
              "</table>\n",
              "</div>"
            ],
            "text/plain": [
              "  relations    entity1  ...         chunk2  confidence\n",
              "0         1  Direction  ...     brain stem  0.99918705\n",
              "5         1  Direction  ...     cerebellum   0.9989447\n",
              "8         1  Direction  ...  basil ganglia   0.9983779\n",
              "\n",
              "[3 rows x 6 columns]"
            ]
          },
          "metadata": {},
          "execution_count": 19
        }
      ]
    },
    {
      "cell_type": "markdown",
      "metadata": {
        "id": "Iv4OGxWZZNIC"
      },
      "source": [
        "### 7.1 Date vs Clinical Entities - RelationExtractionModel"
      ]
    },
    {
      "cell_type": "code",
      "metadata": {
        "id": "SBEyTj4MhN6T",
        "colab": {
          "base_uri": "https://localhost:8080/",
          "height": 213
        },
        "outputId": "3a87e6f9-1ad1-4195-e0a6-a761dedb67c0"
      },
      "source": [
        "# date vs clinical date entities\n",
        "model_name =  're_date_clinical'\n",
        "pairs = pair4\n",
        "text = text4\n",
        "\n",
        "relation_exraction(model_name, pairs, text)\n"
      ],
      "execution_count": null,
      "outputs": [
        {
          "output_type": "stream",
          "name": "stdout",
          "text": [
            "re_date_clinical download started this may take some time.\n",
            "Approximate size to download 9.2 MB\n",
            "[OK!]\n",
            "\n",
            " Target Text :   This 73 y/o patient had Brain CT on 1/12/95, with progressive memory and cognitive decline since 8/11/94. \n",
            "\n"
          ]
        },
        {
          "output_type": "execute_result",
          "data": {
            "text/html": [
              "<div>\n",
              "<style scoped>\n",
              "    .dataframe tbody tr th:only-of-type {\n",
              "        vertical-align: middle;\n",
              "    }\n",
              "\n",
              "    .dataframe tbody tr th {\n",
              "        vertical-align: top;\n",
              "    }\n",
              "\n",
              "    .dataframe thead th {\n",
              "        text-align: right;\n",
              "    }\n",
              "</style>\n",
              "<table border=\"1\" class=\"dataframe\">\n",
              "  <thead>\n",
              "    <tr style=\"text-align: right;\">\n",
              "      <th></th>\n",
              "      <th>relations</th>\n",
              "      <th>entity1</th>\n",
              "      <th>chunk1</th>\n",
              "      <th>entity2</th>\n",
              "      <th>chunk2</th>\n",
              "      <th>confidence</th>\n",
              "    </tr>\n",
              "  </thead>\n",
              "  <tbody>\n",
              "    <tr>\n",
              "      <th>0</th>\n",
              "      <td>1</td>\n",
              "      <td>Test</td>\n",
              "      <td>Brain CT</td>\n",
              "      <td>Date</td>\n",
              "      <td>1/12/95</td>\n",
              "      <td>1.0</td>\n",
              "    </tr>\n",
              "    <tr>\n",
              "      <th>1</th>\n",
              "      <td>1</td>\n",
              "      <td>Symptom</td>\n",
              "      <td>progressive memory and cognitive decline</td>\n",
              "      <td>Date</td>\n",
              "      <td>8/11/94</td>\n",
              "      <td>1.0</td>\n",
              "    </tr>\n",
              "  </tbody>\n",
              "</table>\n",
              "</div>"
            ],
            "text/plain": [
              "  relations  entity1  ...   chunk2 confidence\n",
              "0         1     Test  ...  1/12/95        1.0\n",
              "1         1  Symptom  ...  8/11/94        1.0\n",
              "\n",
              "[2 rows x 6 columns]"
            ]
          },
          "metadata": {},
          "execution_count": 20
        }
      ]
    },
    {
      "cell_type": "markdown",
      "metadata": {
        "id": "7-m6k94_ZNID"
      },
      "source": [
        "### 7.2 Date vs Clinical Entities - RelationExtractionDLModel"
      ]
    },
    {
      "cell_type": "code",
      "metadata": {
        "id": "3nHeUDt1HFwh",
        "colab": {
          "base_uri": "https://localhost:8080/",
          "height": 275
        },
        "outputId": "d69baeab-ec5c-48b9-906c-cf38b4714854"
      },
      "source": [
        "# date vs clinical date entities\n",
        "model_name =  'redl_date_clinical_biobert'\n",
        "pairs = pair4\n",
        "text = text4\n",
        "\n",
        "relation_exraction_dl(model_name, pairs, text)\n"
      ],
      "execution_count": null,
      "outputs": [
        {
          "output_type": "stream",
          "name": "stdout",
          "text": [
            "redl_date_clinical_biobert download started this may take some time.\n",
            "Approximate size to download 383.4 MB\n",
            "[OK!]\n",
            "\n",
            " Target Text :   This 73 y/o patient had Brain CT on 1/12/95, with progressive memory and cognitive decline since 8/11/94. \n",
            "\n"
          ]
        },
        {
          "output_type": "execute_result",
          "data": {
            "text/html": [
              "<div>\n",
              "<style scoped>\n",
              "    .dataframe tbody tr th:only-of-type {\n",
              "        vertical-align: middle;\n",
              "    }\n",
              "\n",
              "    .dataframe tbody tr th {\n",
              "        vertical-align: top;\n",
              "    }\n",
              "\n",
              "    .dataframe thead th {\n",
              "        text-align: right;\n",
              "    }\n",
              "</style>\n",
              "<table border=\"1\" class=\"dataframe\">\n",
              "  <thead>\n",
              "    <tr style=\"text-align: right;\">\n",
              "      <th></th>\n",
              "      <th>relations</th>\n",
              "      <th>entity1</th>\n",
              "      <th>chunk1</th>\n",
              "      <th>entity2</th>\n",
              "      <th>chunk2</th>\n",
              "      <th>confidence</th>\n",
              "    </tr>\n",
              "  </thead>\n",
              "  <tbody>\n",
              "    <tr>\n",
              "      <th>0</th>\n",
              "      <td>1</td>\n",
              "      <td>Test</td>\n",
              "      <td>Brain CT</td>\n",
              "      <td>Date</td>\n",
              "      <td>1/12/95</td>\n",
              "      <td>0.99996364</td>\n",
              "    </tr>\n",
              "    <tr>\n",
              "      <th>1</th>\n",
              "      <td>1</td>\n",
              "      <td>Test</td>\n",
              "      <td>Brain CT</td>\n",
              "      <td>Date</td>\n",
              "      <td>8/11/94</td>\n",
              "      <td>0.9999224</td>\n",
              "    </tr>\n",
              "    <tr>\n",
              "      <th>2</th>\n",
              "      <td>1</td>\n",
              "      <td>Date</td>\n",
              "      <td>1/12/95</td>\n",
              "      <td>Symptom</td>\n",
              "      <td>progressive memory and cognitive decline</td>\n",
              "      <td>0.9998858</td>\n",
              "    </tr>\n",
              "    <tr>\n",
              "      <th>3</th>\n",
              "      <td>1</td>\n",
              "      <td>Symptom</td>\n",
              "      <td>progressive memory and cognitive decline</td>\n",
              "      <td>Date</td>\n",
              "      <td>8/11/94</td>\n",
              "      <td>0.9998667</td>\n",
              "    </tr>\n",
              "  </tbody>\n",
              "</table>\n",
              "</div>"
            ],
            "text/plain": [
              "  relations  entity1  ...                                    chunk2  confidence\n",
              "0         1     Test  ...                                   1/12/95  0.99996364\n",
              "1         1     Test  ...                                   8/11/94   0.9999224\n",
              "2         1     Date  ...  progressive memory and cognitive decline   0.9998858\n",
              "3         1  Symptom  ...                                   8/11/94   0.9998667\n",
              "\n",
              "[4 rows x 6 columns]"
            ]
          },
          "metadata": {},
          "execution_count": 21
        }
      ]
    }
  ]
}
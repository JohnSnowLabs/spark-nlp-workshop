{
  "nbformat": 4,
  "nbformat_minor": 0,
  "metadata": {
    "colab": {
      "name": "27.Oncology_Model.ipynb",
      "provenance": [],
      "collapsed_sections": []
    },
    "kernelspec": {
      "name": "python3",
      "display_name": "Python 3"
    },
    "language_info": {
      "name": "python"
    }
  },
  "cells": [
    {
      "cell_type": "markdown",
      "source": [
        "# Setup"
      ],
      "metadata": {
        "id": "ilNixLITXggX"
      }
    },
    {
      "cell_type": "code",
      "source": [
        "import pandas as pd"
      ],
      "metadata": {
        "id": "QhmKnSsKaGiI"
      },
      "execution_count": 7,
      "outputs": []
    },
    {
      "cell_type": "code",
      "execution_count": 1,
      "metadata": {
        "colab": {
          "resources": {
            "http://localhost:8080/nbextensions/google.colab/files.js": {
              "data": "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",
              "ok": true,
              "headers": [
                [
                  "content-type",
                  "application/javascript"
                ]
              ],
              "status": 200,
              "status_text": ""
            }
          },
          "base_uri": "https://localhost:8080/",
          "height": 73
        },
        "id": "6Q7nbtpNWylS",
        "outputId": "e777749b-fdfa-4943-901f-2ea1d1e617a8"
      },
      "outputs": [
        {
          "output_type": "display_data",
          "data": {
            "text/plain": [
              "<IPython.core.display.HTML object>"
            ],
            "text/html": [
              "\n",
              "     <input type=\"file\" id=\"files-733b6fb9-b07a-4658-bd41-c8b5c7cc8a17\" name=\"files[]\" multiple disabled\n",
              "        style=\"border:none\" />\n",
              "     <output id=\"result-733b6fb9-b07a-4658-bd41-c8b5c7cc8a17\">\n",
              "      Upload widget is only available when the cell has been executed in the\n",
              "      current browser session. Please rerun this cell to enable.\n",
              "      </output>\n",
              "      <script src=\"/nbextensions/google.colab/files.js\"></script> "
            ]
          },
          "metadata": {}
        },
        {
          "output_type": "stream",
          "name": "stdout",
          "text": [
            "Saving public344_jsl352.json to public344_jsl352.json\n"
          ]
        }
      ],
      "source": [
        "import json\n",
        "import os\n",
        "\n",
        "from google.colab import files\n",
        "\n",
        "license_keys = files.upload()\n",
        "\n",
        "with open(list(license_keys.keys())[0]) as f:\n",
        "    license_keys = json.load(f)\n",
        "\n",
        "# Defining license key-value pairs as local variables\n",
        "locals().update(license_keys)\n",
        "\n",
        "# Adding license key-value pairs to environment variables\n",
        "os.environ.update(license_keys)"
      ]
    },
    {
      "cell_type": "code",
      "source": [
        "license_keys['JSL_VERSION']"
      ],
      "metadata": {
        "colab": {
          "base_uri": "https://localhost:8080/",
          "height": 35
        },
        "id": "Jr8R8ta-Xr9f",
        "outputId": "e602a039-90da-41af-8f9c-af6c96a43911"
      },
      "execution_count": 3,
      "outputs": [
        {
          "output_type": "execute_result",
          "data": {
            "text/plain": [
              "'4.0.0'"
            ],
            "application/vnd.google.colaboratory.intrinsic+json": {
              "type": "string"
            }
          },
          "metadata": {},
          "execution_count": 3
        }
      ]
    },
    {
      "cell_type": "code",
      "source": [
        "license_keys['PUBLIC_VERSION']"
      ],
      "metadata": {
        "colab": {
          "base_uri": "https://localhost:8080/",
          "height": 35
        },
        "id": "ux2kR-IhXsLw",
        "outputId": "6d7696cf-3260-4de1-b77e-4ab980b02e29"
      },
      "execution_count": 4,
      "outputs": [
        {
          "output_type": "execute_result",
          "data": {
            "text/plain": [
              "'4.0.0'"
            ],
            "application/vnd.google.colaboratory.intrinsic+json": {
              "type": "string"
            }
          },
          "metadata": {},
          "execution_count": 4
        }
      ]
    },
    {
      "cell_type": "code",
      "source": [
        "# Installing pyspark and spark-nlp\n",
        "! pip install --upgrade -q pyspark==3.1.2 spark-nlp==$PUBLIC_VERSION\n",
        "\n",
        "# Installing Spark NLP Healthcare\n",
        "! pip install --upgrade -q spark-nlp-jsl==$JSL_VERSION  --extra-index-url https://pypi.johnsnowlabs.com/$SECRET\n",
        "\n",
        "# Installing Spark NLP Display Library for visualization\n",
        "! pip install -q spark-nlp-display"
      ],
      "metadata": {
        "colab": {
          "base_uri": "https://localhost:8080/"
        },
        "id": "JgJUIasHXsTC",
        "outputId": "633a02f5-3d09-4353-baa7-abd259356206"
      },
      "execution_count": 4,
      "outputs": [
        {
          "output_type": "stream",
          "name": "stdout",
          "text": [
            "\u001b[K     |████████████████████████████████| 212.4 MB 70 kB/s \n",
            "\u001b[K     |████████████████████████████████| 145 kB 69.4 MB/s \n",
            "\u001b[K     |████████████████████████████████| 198 kB 71.8 MB/s \n",
            "\u001b[?25h  Building wheel for pyspark (setup.py) ... \u001b[?25l\u001b[?25hdone\n",
            "\u001b[K     |████████████████████████████████| 151 kB 36.6 MB/s \n",
            "\u001b[K     |████████████████████████████████| 95 kB 4.3 MB/s \n",
            "\u001b[K     |████████████████████████████████| 66 kB 5.3 MB/s \n",
            "\u001b[?25h"
          ]
        }
      ]
    },
    {
      "cell_type": "code",
      "source": [
        "import json\n",
        "import os\n",
        "\n",
        "import sparknlp\n",
        "import sparknlp_jsl\n",
        "\n",
        "from sparknlp.base import *\n",
        "from sparknlp.annotator import *\n",
        "from sparknlp_jsl.annotator import *\n",
        "\n",
        "from pyspark.sql import SparkSession\n",
        "from pyspark.sql import functions as F\n",
        "from pyspark.ml import Pipeline,PipelineModel\n",
        "\n",
        "import warnings\n",
        "warnings.filterwarnings('ignore')\n",
        "\n",
        "params = {\"spark.driver.memory\":\"16G\", \n",
        "          \"spark.kryoserializer.buffer.max\":\"2000M\", \n",
        "          \"spark.driver.maxResultSize\":\"2000M\"} \n",
        "\n",
        "print(\"Spark NLP Version :\", sparknlp.version())\n",
        "print(\"Spark NLP_JSL Version :\", sparknlp_jsl.version())\n",
        "\n",
        "spark = sparknlp_jsl.start(license_keys['SECRET'],params=params)\n",
        "\n",
        "spark"
      ],
      "metadata": {
        "colab": {
          "base_uri": "https://localhost:8080/",
          "height": 254
        },
        "id": "tmVXN4wcXshJ",
        "outputId": "198591f8-e83a-424a-cb4b-f34c8c9a0dab"
      },
      "execution_count": 5,
      "outputs": [
        {
          "output_type": "stream",
          "name": "stdout",
          "text": [
            "Spark NLP Version : 3.4.4\n",
            "Spark NLP_JSL Version : 3.5.2\n"
          ]
        },
        {
          "output_type": "execute_result",
          "data": {
            "text/plain": [
              "<pyspark.sql.session.SparkSession at 0x7f3c82541310>"
            ],
            "text/html": [
              "\n",
              "            <div>\n",
              "                <p><b>SparkSession - in-memory</b></p>\n",
              "                \n",
              "        <div>\n",
              "            <p><b>SparkContext</b></p>\n",
              "\n",
              "            <p><a href=\"http://7f483de22448:4040\">Spark UI</a></p>\n",
              "\n",
              "            <dl>\n",
              "              <dt>Version</dt>\n",
              "                <dd><code>v3.1.2</code></dd>\n",
              "              <dt>Master</dt>\n",
              "                <dd><code>local[*]</code></dd>\n",
              "              <dt>AppName</dt>\n",
              "                <dd><code>Spark NLP Licensed</code></dd>\n",
              "            </dl>\n",
              "        </div>\n",
              "        \n",
              "            </div>\n",
              "        "
            ]
          },
          "metadata": {},
          "execution_count": 5
        }
      ]
    },
    {
      "cell_type": "markdown",
      "source": [
        "# Sample data"
      ],
      "metadata": {
        "id": "HLqfYmL4Zg0l"
      }
    },
    {
      "cell_type": "code",
      "source": [
        "sample_data_1 = '''A 65-year-old Taiwanese woman had a history of debulking surgery, bilateral oophorectomy with omentectomy, total anterior hysterectomy with radical pelvic lymph nodes dissection due to ovarian carcinoma (mucinous-type carcinoma, stage Ic) 1 year ago. Patient's medical compliance was poor and failed to complete her chemotherapy (cyclophosphamide 750 mg/m2, carboplatin 300 mg/m2). Recently, she noted a palpable right breast mass, which enlarged rapidly to about 15 cm in size and nearly occupied the whole right breast in 2 months. Core needle biopsy revealed metaplastic carcinoma. Neoadjuvant chemotherapy with the regimens of Taxotere (75 mg/m2), Epirubicin (75 mg/m2), and Cyclophosphamide (500 mg/m2) was given for 6 cycles with poor response, followed by a modified radical mastectomy (MRM) with dissection of axillary lymph nodes and skin grafting. Postoperatively, radiotherapy was done with 5000 cGy in 25 fractions. The histopathologic examination revealed a metaplastic carcinoma with myoepithelial and squamous differentiation associated with adenomyoepithelioma (Figure 1A-C). Immunohistochemistry study showed that the tumor cells are positive for epithelial markers-cytokeratin (AE1/AE3) stain, and myoepithelial markers, including cytokeratin 5/6 (CK 5/6), p63, and S100 stains (Figure 2A-E). Expressions of hormone receptors, including ER, PR, and Her-2/Neu, were all negative (Figure 3A-D). The dissected axillary lymph nodes showed metastastic carcinoma with hormone triple-negative in 3 out of 26 nodes. The patient was staged as pT3N1aM0, with histologic tumor grade III.\n",
        "\n",
        "Seven months later, the patient complained about pain and numbness over left forearm, right lower back, and bilateral lower extremities. Fentanyl patch (2.5 mg/q72h) was used for pain control. Sonography of left forearm revealed a tumor with hypervascularity and cystic component, measuring about 6 x 5 cm in size. Positron emission tomography/computed tomography (PET/C) scan showed hypermetabolic masses in the left proximal forearm, right psoas, and quadratus lumborum muscles (Figure 4). Surgical excision of left forearm mass (Figure 5) was performed for symptomatic relief of intractable pain. However, excision for the right psoas and quadratus lumborum muscles lesion was not feasible due to high risks of morbidities. Histopathologic examination of left forearm tumor revealed metastatic carcinoma, similar to previous breast cancer with negative ER, PR, and Her-2/Neu immunostaining (Figure 3E-H), positive for epithelial markers-cytokeratin (AE1/AE3) stain, and myoepithelial markers as p63 (Figure 2F-H). Further boosted radiotherapy was added, but the metastatic tumors in the right psoas and quadratus lumborum muscles progressed in size. Eventually, lung metastasis occurred 10 months and she died 12 months later after MRM. The informed consent was obtained from the relative.'''"
      ],
      "metadata": {
        "id": "aCLXAxA3dRXC"
      },
      "execution_count": 8,
      "outputs": []
    },
    {
      "cell_type": "code",
      "source": [
        "sample_data_2 = '''A chest radiograph revealed a large, well circumscribed mass projected over the right hilum, the so called hilum overlay sign. A subsequent computed tomography (CT) -thorax with intra-venous contrast confirmed a 9.0 x 5.5 cm mass arising from the apical segment of the right lower lobe. It demonstrated homogenous contrast enhancement with no evidence of calcifications or necrosis. The mass abutted the pleura with no sign of invasion. There was no evidence of lymphadenopathy, pleural effusions or osseous metastases. The liver and adrenal glands appeared normal. A positron emission tomography-CT (PET-CT) demonstrated increased fludeoxyglucose (FDG) uptake within the mass with standardized uptake value (SUV max 22.1) and no evidence of nodal involvement or distant metastases.\n",
        "\n",
        "A CT-guided biopsy showed a non-small cell primary lung carcinoma with marked necrosis and poor cell differentiation. The subtype could not be more accurately determined. Mediastinoscopy for nodal sampling was negative for nodal metastases. A right pneumenectomy revealed a 9 cm large necrotic mass replacing most of the medial and posterior segments of the right lower lobe. It was a biphasic tumour composed of malignant glandular tissue with sub-nuclear vacuoles, associated with a pleomorphic stromal malignant blastematous component.'''"
      ],
      "metadata": {
        "id": "qDpWhtB3db58"
      },
      "execution_count": 9,
      "outputs": []
    },
    {
      "cell_type": "markdown",
      "source": [
        "# Pipeline"
      ],
      "metadata": {
        "id": "R7J2D5sXaa-s"
      }
    },
    {
      "cell_type": "code",
      "source": [
        "documentAssembler = DocumentAssembler()\\\n",
        "  .setInputCol(\"text\")\\\n",
        "  .setOutputCol(\"document\")\n",
        "\n",
        "sentenceDetector = SentenceDetectorDLModel.pretrained(\"sentence_detector_dl_healthcare\",\"en\",\"clinical/models\")\\\n",
        "  .setInputCols([\"document\"])\\\n",
        "  .setOutputCol(\"sentence\")\n",
        "\n",
        "tokenizer = Tokenizer() \\\n",
        "    .setInputCols([\"sentence\"]) \\\n",
        "    .setOutputCol(\"token\")\n",
        "\n",
        "word_embeddings = WordEmbeddingsModel().pretrained('embeddings_clinical', 'en', 'clinical/models')\\\n",
        "    .setInputCols([\"sentence\", 'token']) \\\n",
        "    .setOutputCol(\"embeddings\")\n",
        "\n",
        "ner_oncology = MedicalNerModel.pretrained('ner_oncology_wip', 'en', 'clinical/models')\\\n",
        "                    .setInputCols([\"sentence\", \"token\", \"embeddings\"])\\\n",
        "                    .setOutputCol(\"ner\")\n",
        "\n",
        "ner_converter = NerConverter()\\\n",
        "    .setInputCols([\"sentence\", \"token\", \"ner\"])\\\n",
        "    .setOutputCol(\"chunk\")\n",
        "\n",
        "# White lists for assertion model (not all the entity types should have an assertion status)\n",
        "\n",
        "assertion_wl = ['Imaging_Test', 'Tumor_Finding', 'Pathology_Result', 'Chemotherapy', 'Oncogene', 'Metastasis',\n",
        "                'Cancer_Dx', 'Targeted_Therapy', 'Pathology_Test', 'Biomarker', 'Hormonal_Therapy', 'Invasion',\n",
        "                'Smoking_Status', 'Radiotherapy', 'Cancer_Surgery', 'Immunotherapy', 'Histological_Type', 'Unspecific_Therapy']\n",
        "\n",
        "ner_assertion_converter = NerConverter()\\\n",
        "    .setInputCols([\"sentence\", \"token\", \"ner\"])\\\n",
        "    .setOutputCol(\"assertion_chunk\")\\\n",
        "    .setWhiteList(assertion_wl)\n",
        "\n",
        "# White lists for entity resolution model (not all the entity types should have a normalized icdo term)\n",
        "\n",
        "resolution_wl = ['Anatomical_Site', 'Histological_Type', 'Tumor_Finding', 'Pathology_Result', 'Oncogene',\n",
        "                 'Metastasis', 'Cancer_Dx', 'Site_Lymph_Node', 'Invasion']\n",
        "\n",
        "ner_resolution_converter = NerConverter()\\\n",
        "    .setInputCols([\"sentence\", \"token\", \"ner\"])\\\n",
        "    .setOutputCol(\"resolution_chunk\")\\\n",
        "    .setWhiteList(resolution_wl)\n",
        "\n",
        "clinical_assertion = AssertionDLModel.pretrained(\"assertion_dl_large\", \"en\", \"clinical/models\") \\\n",
        "    .setInputCols([\"sentence\", \"assertion_chunk\", \"embeddings\"]) \\\n",
        "    .setOutputCol(\"assertion\")\n",
        "\n",
        "c2doc = Chunk2Doc()\\\n",
        "    .setInputCols(\"resolution_chunk\")\\\n",
        "    .setOutputCol(\"chunk_doc\") \n",
        "\n",
        "sbert_embedder = BertSentenceEmbeddings.pretrained(\"sbiobert_base_cased_mli\", \"en\", \"clinical/models\")\\\n",
        "    .setInputCols([\"chunk_doc\"])\\\n",
        "    .setOutputCol(\"sentence_embeddings\")\n",
        "    \n",
        "resolver = SentenceEntityResolverModel.pretrained(\"sbiobertresolve_icdo_augmented\", \"en\", \"clinical/models\") \\\n",
        "    .setInputCols([\"resolution_chunk\", \"sentence_embeddings\"]) \\\n",
        "    .setOutputCol(\"resolution\")\\\n",
        "    .setDistanceFunction(\"EUCLIDEAN\")\n",
        "\n",
        "\n",
        "ner_pipeline = Pipeline(stages=[documentAssembler,\n",
        "                                sentenceDetector,\n",
        "                                tokenizer,\n",
        "                                word_embeddings, \n",
        "                                ner_oncology,\n",
        "                                ner_converter,\n",
        "                                ner_assertion_converter,\n",
        "                                ner_resolution_converter,\n",
        "                                clinical_assertion,\n",
        "                                c2doc,\n",
        "                                sbert_embedder,\n",
        "                                resolver])\n",
        "\n",
        "empty_dataframe = spark.createDataFrame([[\"\"]]).toDF(\"text\")\n",
        "\n",
        "ner_model = ner_pipeline.fit(empty_dataframe)"
      ],
      "metadata": {
        "colab": {
          "base_uri": "https://localhost:8080/"
        },
        "id": "N14BDH4DgM6Y",
        "outputId": "b4c71f1b-a747-490d-e325-19b877acf6a0"
      },
      "execution_count": 14,
      "outputs": [
        {
          "output_type": "stream",
          "name": "stdout",
          "text": [
            "sentence_detector_dl_healthcare download started this may take some time.\n",
            "Approximate size to download 367.3 KB\n",
            "[OK!]\n",
            "embeddings_clinical download started this may take some time.\n",
            "Approximate size to download 1.6 GB\n",
            "[OK!]\n",
            "ner_oncology_wip download started this may take some time.\n",
            "[OK!]\n",
            "assertion_dl_large download started this may take some time.\n",
            "[OK!]\n",
            "sbiobert_base_cased_mli download started this may take some time.\n",
            "Approximate size to download 384.3 MB\n",
            "[OK!]\n",
            "sbiobertresolve_icdo_augmented download started this may take some time.\n",
            "[OK!]\n"
          ]
        }
      ]
    },
    {
      "cell_type": "code",
      "source": [
        "light_model = LightPipeline(ner_model)"
      ],
      "metadata": {
        "id": "PEUPdzqrYctB"
      },
      "execution_count": 15,
      "outputs": []
    },
    {
      "cell_type": "code",
      "source": [
        "annotated_samples = light_model.fullAnnotate([sample_data_1, sample_data_2])"
      ],
      "metadata": {
        "id": "Kk2yBCcyh15w"
      },
      "execution_count": 27,
      "outputs": []
    },
    {
      "cell_type": "markdown",
      "source": [
        "# Data visualization"
      ],
      "metadata": {
        "id": "fHimflFKiKfE"
      }
    },
    {
      "cell_type": "code",
      "source": [
        "from sparknlp_display import AssertionVisualizer, EntityResolverVisualizer"
      ],
      "metadata": {
        "id": "Hb_6n8qahKkH"
      },
      "execution_count": 18,
      "outputs": []
    },
    {
      "cell_type": "code",
      "source": [
        "er_vis = EntityResolverVisualizer()\n",
        "\n",
        "assertion_vis = AssertionVisualizer()"
      ],
      "metadata": {
        "id": "_U3gbhyFlQHu"
      },
      "execution_count": 19,
      "outputs": []
    },
    {
      "cell_type": "code",
      "source": [
        "# Entities included in the NER model:\n",
        "\n",
        "entities = []\n",
        "for entity in ner_oncology.getClasses():\n",
        "  entities.append(entity.split('-')[-1])\n",
        "\n",
        "set(entities)"
      ],
      "metadata": {
        "colab": {
          "base_uri": "https://localhost:8080/"
        },
        "id": "tqC-x32eMJRy",
        "outputId": "90aa017e-7649-48f5-8428-8e503d567dcb"
      },
      "execution_count": 20,
      "outputs": [
        {
          "output_type": "execute_result",
          "data": {
            "text/plain": [
              "{'Age',\n",
              " 'Anatomical_Site',\n",
              " 'Biomarker',\n",
              " 'Biomarker_Result',\n",
              " 'Cancer_Dx',\n",
              " 'Cancer_Surgery',\n",
              " 'Chemotherapy',\n",
              " 'Cycle_Day',\n",
              " 'Cycle_Number',\n",
              " 'Date',\n",
              " 'Direction',\n",
              " 'Dosage',\n",
              " 'Duration',\n",
              " 'Frequency',\n",
              " 'Gender',\n",
              " 'Grade',\n",
              " 'Histological_Type',\n",
              " 'Hormonal_Therapy',\n",
              " 'Imaging_Test',\n",
              " 'Immunotherapy',\n",
              " 'Invasion',\n",
              " 'Line_Of_Therapy',\n",
              " 'Metastasis',\n",
              " 'O',\n",
              " 'Oncogene',\n",
              " 'Pathology_Result',\n",
              " 'Pathology_Test',\n",
              " 'Performance_Status',\n",
              " 'Race_Ethnicity',\n",
              " 'Radiation_Dose',\n",
              " 'Radiotherapy',\n",
              " 'Relative_Date',\n",
              " 'Response_To_Treatment',\n",
              " 'Route',\n",
              " 'Site_Lymph_Node',\n",
              " 'Smoking_Status',\n",
              " 'Staging',\n",
              " 'Targeted_Therapy',\n",
              " 'Tumor_Finding',\n",
              " 'Tumor_Size',\n",
              " 'Unspecific_Therapy'}"
            ]
          },
          "metadata": {},
          "execution_count": 20
        }
      ]
    },
    {
      "cell_type": "markdown",
      "source": [
        "## NER + Entity Resolution"
      ],
      "metadata": {
        "id": "HPtvfSfzqyYO"
      }
    },
    {
      "cell_type": "code",
      "source": [
        "er_vis.display(annotated_samples[0], label_col='chunk', resolution_col = 'resolution')"
      ],
      "metadata": {
        "colab": {
          "base_uri": "https://localhost:8080/",
          "height": 1000
        },
        "id": "UaBcD_FdkwdH",
        "outputId": "fddef951-fe93-48d4-9d4e-48dbf535ae51"
      },
      "execution_count": 28,
      "outputs": [
        {
          "output_type": "display_data",
          "data": {
            "text/plain": [
              "<IPython.core.display.HTML object>"
            ],
            "text/html": [
              "\n",
              "<style>\n",
              "    @import url('https://fonts.googleapis.com/css2?family=Montserrat:wght@300;400;500;600;700&display=swap');\n",
              "    @import url('https://fonts.googleapis.com/css2?family=Vistol Regular:wght@300;400;500;600;700&display=swap');\n",
              "    \n",
              "    .spark-nlp-display-scroll-entities {\n",
              "        border: 1px solid #E7EDF0;\n",
              "        border-radius: 3px;\n",
              "        text-align: justify;\n",
              "        \n",
              "    }\n",
              "    .spark-nlp-display-scroll-entities span {  \n",
              "        font-size: 14px;\n",
              "        line-height: 24px;\n",
              "        color: #536B76;\n",
              "        font-family: 'Montserrat', sans-serif !important;\n",
              "    }\n",
              "    \n",
              "    .spark-nlp-display-entity-wrapper{\n",
              "    \n",
              "        display: inline-grid;\n",
              "        text-align: center;\n",
              "        border-radius: 4px;\n",
              "        margin: 0 2px 5px 2px;\n",
              "        padding: 1px\n",
              "    }\n",
              "    .spark-nlp-display-entity-name{\n",
              "        font-size: 14px;\n",
              "        line-height: 24px;\n",
              "        font-family: 'Montserrat', sans-serif !important;\n",
              "        \n",
              "        background: #f1f2f3;\n",
              "        border-width: medium;\n",
              "        text-align: center;\n",
              "        \n",
              "        font-weight: 400;\n",
              "        \n",
              "        border-radius: 5px;\n",
              "        padding: 2px 5px;\n",
              "        display: block;\n",
              "        margin: 3px 2px;\n",
              "    \n",
              "    }\n",
              "    .spark-nlp-display-entity-type{\n",
              "        font-size: 14px;\n",
              "        line-height: 24px;\n",
              "        color: #ffffff;\n",
              "        font-family: 'Montserrat', sans-serif !important;\n",
              "        \n",
              "        text-transform: uppercase;\n",
              "        \n",
              "        font-weight: 500;\n",
              "\n",
              "        display: block;\n",
              "        padding: 3px 5px;\n",
              "    }\n",
              "    \n",
              "    .spark-nlp-display-entity-resolution{\n",
              "        font-size: 14px;\n",
              "        line-height: 24px;\n",
              "        color: #ffffff;\n",
              "        font-family: 'Vistol Regular', sans-serif !important;\n",
              "        \n",
              "        text-transform: uppercase;\n",
              "        \n",
              "        font-weight: 500;\n",
              "\n",
              "        display: block;\n",
              "        padding: 3px 5px;\n",
              "    }\n",
              "    \n",
              "    .spark-nlp-display-others{\n",
              "        font-size: 14px;\n",
              "        line-height: 24px;\n",
              "        font-family: 'Montserrat', sans-serif !important;\n",
              "        \n",
              "        font-weight: 400;\n",
              "    }\n",
              "\n",
              "</style>\n",
              " <span class=\"spark-nlp-display-others\" style=\"background-color: white\">A 65-year-old Taiwanese </span><span class=\"spark-nlp-display-entity-wrapper\" style=\"background-color: #ffacb7B3\"><span class=\"spark-nlp-display-entity-name\">woman </span><span class=\"spark-nlp-display-entity-type\">Gender</span></span><span class=\"spark-nlp-display-others\" style=\"background-color: white\"> had a history of </span><span class=\"spark-nlp-display-entity-wrapper\" style=\"background-color: #237470B3\"><span class=\"spark-nlp-display-entity-name\">debulking surgery </span><span class=\"spark-nlp-display-entity-type\">Cancer_Surgery</span></span><span class=\"spark-nlp-display-others\" style=\"background-color: white\">, </span><span class=\"spark-nlp-display-entity-wrapper\" style=\"background-color: #BB720AB3\"><span class=\"spark-nlp-display-entity-name\">bilateral </span><span class=\"spark-nlp-display-entity-type\">Direction</span></span><span class=\"spark-nlp-display-others\" style=\"background-color: white\"> </span><span class=\"spark-nlp-display-entity-wrapper\" style=\"background-color: #237470B3\"><span class=\"spark-nlp-display-entity-name\">oophorectomy </span><span class=\"spark-nlp-display-entity-type\">Cancer_Surgery</span></span><span class=\"spark-nlp-display-others\" style=\"background-color: white\"> with </span><span class=\"spark-nlp-display-entity-wrapper\" style=\"background-color: #237470B3\"><span class=\"spark-nlp-display-entity-name\">omentectomy </span><span class=\"spark-nlp-display-entity-type\">Cancer_Surgery</span></span><span class=\"spark-nlp-display-others\" style=\"background-color: white\">, </span><span class=\"spark-nlp-display-entity-wrapper\" style=\"background-color: #237470B3\"><span class=\"spark-nlp-display-entity-name\">total anterior hysterectomy </span><span class=\"spark-nlp-display-entity-type\">Cancer_Surgery</span></span><span class=\"spark-nlp-display-others\" style=\"background-color: white\"> with </span><span class=\"spark-nlp-display-entity-wrapper\" style=\"background-color: #237470B3\"><span class=\"spark-nlp-display-entity-name\">radical pelvic lymph nodes dissection </span><span class=\"spark-nlp-display-entity-type\">Cancer_Surgery</span></span><span class=\"spark-nlp-display-others\" style=\"background-color: white\"> due to </span><span class=\"spark-nlp-display-entity-wrapper\" style=\"background-color: #B21C5DB3\"><span class=\"spark-nlp-display-entity-name\">ovarian carcinoma </span><span class=\"spark-nlp-display-entity-type\">Cancer_Dx</span><span class=\"spark-nlp-display-entity-resolution\" style=\"background-color: #B21C5DFF\">8441/3-C56.9 </span><span class=\"spark-nlp-display-entity-resolution\" style=\"background-color: #B21C5DCC\">serous carcinoma, of ovary</span></span><span class=\"spark-nlp-display-others\" style=\"background-color: white\"> (</span><span class=\"spark-nlp-display-entity-wrapper\" style=\"background-color: #12959BB3\"><span class=\"spark-nlp-display-entity-name\">mucinous-type </span><span class=\"spark-nlp-display-entity-type\">Histological_Type</span><span class=\"spark-nlp-display-entity-resolution\" style=\"background-color: #12959BFF\">C06.0 </span><span class=\"spark-nlp-display-entity-resolution\" style=\"background-color: #12959BCC\">cheeck mucosa</span></span><span class=\"spark-nlp-display-others\" style=\"background-color: white\"> </span><span class=\"spark-nlp-display-entity-wrapper\" style=\"background-color: #B21C5DB3\"><span class=\"spark-nlp-display-entity-name\">carcinoma </span><span class=\"spark-nlp-display-entity-type\">Cancer_Dx</span><span class=\"spark-nlp-display-entity-resolution\" style=\"background-color: #B21C5DFF\">8010/3 </span><span class=\"spark-nlp-display-entity-resolution\" style=\"background-color: #B21C5DCC\">carcinoma</span></span><span class=\"spark-nlp-display-others\" style=\"background-color: white\">, </span><span class=\"spark-nlp-display-entity-wrapper\" style=\"background-color: #2D1271B3\"><span class=\"spark-nlp-display-entity-name\">stage Ic </span><span class=\"spark-nlp-display-entity-type\">Staging</span></span><span class=\"spark-nlp-display-others\" style=\"background-color: white\">) </span><span class=\"spark-nlp-display-entity-wrapper\" style=\"background-color: #ACBF8CB3\"><span class=\"spark-nlp-display-entity-name\">1 year ago </span><span class=\"spark-nlp-display-entity-type\">Relative_Date</span></span><span class=\"spark-nlp-display-others\" style=\"background-color: white\">. Patient's medical compliance was poor and failed to complete </span><span class=\"spark-nlp-display-entity-wrapper\" style=\"background-color: #ffacb7B3\"><span class=\"spark-nlp-display-entity-name\">her </span><span class=\"spark-nlp-display-entity-type\">Gender</span></span><span class=\"spark-nlp-display-others\" style=\"background-color: white\"> </span><span class=\"spark-nlp-display-entity-wrapper\" style=\"background-color: #C89D3CB3\"><span class=\"spark-nlp-display-entity-name\">chemotherapy </span><span class=\"spark-nlp-display-entity-type\">Chemotherapy</span></span><span class=\"spark-nlp-display-others\" style=\"background-color: white\"> (</span><span class=\"spark-nlp-display-entity-wrapper\" style=\"background-color: #C89D3CB3\"><span class=\"spark-nlp-display-entity-name\">cyclophosphamide 750 mg/m2 </span><span class=\"spark-nlp-display-entity-type\">Chemotherapy</span></span><span class=\"spark-nlp-display-others\" style=\"background-color: white\">, </span><span class=\"spark-nlp-display-entity-wrapper\" style=\"background-color: #C89D3CB3\"><span class=\"spark-nlp-display-entity-name\">carboplatin 300 mg/m2 </span><span class=\"spark-nlp-display-entity-type\">Chemotherapy</span></span><span class=\"spark-nlp-display-others\" style=\"background-color: white\">). Recently, </span><span class=\"spark-nlp-display-entity-wrapper\" style=\"background-color: #ffacb7B3\"><span class=\"spark-nlp-display-entity-name\">she </span><span class=\"spark-nlp-display-entity-type\">Gender</span></span><span class=\"spark-nlp-display-others\" style=\"background-color: white\"> noted a palpable </span><span class=\"spark-nlp-display-entity-wrapper\" style=\"background-color: #BB720AB3\"><span class=\"spark-nlp-display-entity-name\">right </span><span class=\"spark-nlp-display-entity-type\">Direction</span></span><span class=\"spark-nlp-display-others\" style=\"background-color: white\"> </span><span class=\"spark-nlp-display-entity-wrapper\" style=\"background-color: #896055B3\"><span class=\"spark-nlp-display-entity-name\">breast </span><span class=\"spark-nlp-display-entity-type\">Anatomical_Site</span><span class=\"spark-nlp-display-entity-resolution\" style=\"background-color: #896055FF\">C50 </span><span class=\"spark-nlp-display-entity-resolution\" style=\"background-color: #896055CC\">breast</span></span><span class=\"spark-nlp-display-others\" style=\"background-color: white\"> </span><span class=\"spark-nlp-display-entity-wrapper\" style=\"background-color: #A159A9B3\"><span class=\"spark-nlp-display-entity-name\">mass </span><span class=\"spark-nlp-display-entity-type\">Tumor_Finding</span><span class=\"spark-nlp-display-entity-resolution\" style=\"background-color: #A159A9FF\">9765/1 </span><span class=\"spark-nlp-display-entity-resolution\" style=\"background-color: #A159A9CC\">mgus</span></span><span class=\"spark-nlp-display-others\" style=\"background-color: white\">, which enlarged rapidly to about </span><span class=\"spark-nlp-display-entity-wrapper\" style=\"background-color: #C28B07B3\"><span class=\"spark-nlp-display-entity-name\">15 cm </span><span class=\"spark-nlp-display-entity-type\">Tumor_Size</span></span><span class=\"spark-nlp-display-others\" style=\"background-color: white\"> in size and nearly occupied the whole </span><span class=\"spark-nlp-display-entity-wrapper\" style=\"background-color: #BB720AB3\"><span class=\"spark-nlp-display-entity-name\">right </span><span class=\"spark-nlp-display-entity-type\">Direction</span></span><span class=\"spark-nlp-display-others\" style=\"background-color: white\"> </span><span class=\"spark-nlp-display-entity-wrapper\" style=\"background-color: #896055B3\"><span class=\"spark-nlp-display-entity-name\">breast </span><span class=\"spark-nlp-display-entity-type\">Anatomical_Site</span><span class=\"spark-nlp-display-entity-resolution\" style=\"background-color: #896055FF\">C50 </span><span class=\"spark-nlp-display-entity-resolution\" style=\"background-color: #896055CC\">breast</span></span><span class=\"spark-nlp-display-others\" style=\"background-color: white\"> </span><span class=\"spark-nlp-display-entity-wrapper\" style=\"background-color: #20B307B3\"><span class=\"spark-nlp-display-entity-name\">in 2 months </span><span class=\"spark-nlp-display-entity-type\">Duration</span></span><span class=\"spark-nlp-display-others\" style=\"background-color: white\">. </span><span class=\"spark-nlp-display-entity-wrapper\" style=\"background-color: #365157B3\"><span class=\"spark-nlp-display-entity-name\">Core needle biopsy </span><span class=\"spark-nlp-display-entity-type\">Pathology_Test</span></span><span class=\"spark-nlp-display-others\" style=\"background-color: white\"> revealed </span><span class=\"spark-nlp-display-entity-wrapper\" style=\"background-color: #12959BB3\"><span class=\"spark-nlp-display-entity-name\">metaplastic </span><span class=\"spark-nlp-display-entity-type\">Histological_Type</span><span class=\"spark-nlp-display-entity-resolution\" style=\"background-color: #12959BFF\">8895/0 </span><span class=\"spark-nlp-display-entity-resolution\" style=\"background-color: #12959BCC\">myoma</span></span><span class=\"spark-nlp-display-others\" style=\"background-color: white\"> </span><span class=\"spark-nlp-display-entity-wrapper\" style=\"background-color: #B21C5DB3\"><span class=\"spark-nlp-display-entity-name\">carcinoma </span><span class=\"spark-nlp-display-entity-type\">Cancer_Dx</span><span class=\"spark-nlp-display-entity-resolution\" style=\"background-color: #B21C5DFF\">8010/3 </span><span class=\"spark-nlp-display-entity-resolution\" style=\"background-color: #B21C5DCC\">carcinoma</span></span><span class=\"spark-nlp-display-others\" style=\"background-color: white\">. </span><span class=\"spark-nlp-display-entity-wrapper\" style=\"background-color: #C89D3CB3\"><span class=\"spark-nlp-display-entity-name\">Neoadjuvant chemotherapy </span><span class=\"spark-nlp-display-entity-type\">Chemotherapy</span></span><span class=\"spark-nlp-display-others\" style=\"background-color: white\"> with the regimens of </span><span class=\"spark-nlp-display-entity-wrapper\" style=\"background-color: #C89D3CB3\"><span class=\"spark-nlp-display-entity-name\">Taxotere </span><span class=\"spark-nlp-display-entity-type\">Chemotherapy</span></span><span class=\"spark-nlp-display-others\" style=\"background-color: white\"> (</span><span class=\"spark-nlp-display-entity-wrapper\" style=\"background-color: #C89D3CB3\"><span class=\"spark-nlp-display-entity-name\">75 mg/m2 </span><span class=\"spark-nlp-display-entity-type\">Chemotherapy</span></span><span class=\"spark-nlp-display-others\" style=\"background-color: white\">), </span><span class=\"spark-nlp-display-entity-wrapper\" style=\"background-color: #C89D3CB3\"><span class=\"spark-nlp-display-entity-name\">Epirubicin </span><span class=\"spark-nlp-display-entity-type\">Chemotherapy</span></span><span class=\"spark-nlp-display-others\" style=\"background-color: white\"> (</span><span class=\"spark-nlp-display-entity-wrapper\" style=\"background-color: #C89D3CB3\"><span class=\"spark-nlp-display-entity-name\">75 mg/m2 </span><span class=\"spark-nlp-display-entity-type\">Chemotherapy</span></span><span class=\"spark-nlp-display-others\" style=\"background-color: white\">), and </span><span class=\"spark-nlp-display-entity-wrapper\" style=\"background-color: #C89D3CB3\"><span class=\"spark-nlp-display-entity-name\">Cyclophosphamide </span><span class=\"spark-nlp-display-entity-type\">Chemotherapy</span></span><span class=\"spark-nlp-display-others\" style=\"background-color: white\"> (</span><span class=\"spark-nlp-display-entity-wrapper\" style=\"background-color: #C89D3CB3\"><span class=\"spark-nlp-display-entity-name\">500 mg/m2 </span><span class=\"spark-nlp-display-entity-type\">Chemotherapy</span></span><span class=\"spark-nlp-display-others\" style=\"background-color: white\">) was given for </span><span class=\"spark-nlp-display-entity-wrapper\" style=\"background-color: #B439A7B3\"><span class=\"spark-nlp-display-entity-name\">6 cycles </span><span class=\"spark-nlp-display-entity-type\">Cycle_Number</span></span><span class=\"spark-nlp-display-others\" style=\"background-color: white\"> with </span><span class=\"spark-nlp-display-entity-wrapper\" style=\"background-color: #3B756EB3\"><span class=\"spark-nlp-display-entity-name\">poor response </span><span class=\"spark-nlp-display-entity-type\">Response_To_Treatment</span></span><span class=\"spark-nlp-display-others\" style=\"background-color: white\">, followed by a </span><span class=\"spark-nlp-display-entity-wrapper\" style=\"background-color: #237470B3\"><span class=\"spark-nlp-display-entity-name\">modified radical mastectomy </span><span class=\"spark-nlp-display-entity-type\">Cancer_Surgery</span></span><span class=\"spark-nlp-display-others\" style=\"background-color: white\"> (</span><span class=\"spark-nlp-display-entity-wrapper\" style=\"background-color: #237470B3\"><span class=\"spark-nlp-display-entity-name\">MRM </span><span class=\"spark-nlp-display-entity-type\">Cancer_Surgery</span></span><span class=\"spark-nlp-display-others\" style=\"background-color: white\">) with </span><span class=\"spark-nlp-display-entity-wrapper\" style=\"background-color: #237470B3\"><span class=\"spark-nlp-display-entity-name\">dissection of axillary lymph nodes </span><span class=\"spark-nlp-display-entity-type\">Cancer_Surgery</span></span><span class=\"spark-nlp-display-others\" style=\"background-color: white\"> and </span><span class=\"spark-nlp-display-entity-wrapper\" style=\"background-color: #237470B3\"><span class=\"spark-nlp-display-entity-name\">skin grafting </span><span class=\"spark-nlp-display-entity-type\">Cancer_Surgery</span></span><span class=\"spark-nlp-display-others\" style=\"background-color: white\">. Postoperatively, </span><span class=\"spark-nlp-display-entity-wrapper\" style=\"background-color: #A8431CB3\"><span class=\"spark-nlp-display-entity-name\">radiotherapy </span><span class=\"spark-nlp-display-entity-type\">Radiotherapy</span></span><span class=\"spark-nlp-display-others\" style=\"background-color: white\"> was done with </span><span class=\"spark-nlp-display-entity-wrapper\" style=\"background-color: #219A05B3\"><span class=\"spark-nlp-display-entity-name\">5000 cGy </span><span class=\"spark-nlp-display-entity-type\">Radiation_Dose</span></span><span class=\"spark-nlp-display-others\" style=\"background-color: white\"> in </span><span class=\"spark-nlp-display-entity-wrapper\" style=\"background-color: #B439A7B3\"><span class=\"spark-nlp-display-entity-name\">25 fractions </span><span class=\"spark-nlp-display-entity-type\">Cycle_Number</span></span><span class=\"spark-nlp-display-others\" style=\"background-color: white\">. The </span><span class=\"spark-nlp-display-entity-wrapper\" style=\"background-color: #365157B3\"><span class=\"spark-nlp-display-entity-name\">histopathologic examination </span><span class=\"spark-nlp-display-entity-type\">Pathology_Test</span></span><span class=\"spark-nlp-display-others\" style=\"background-color: white\"> revealed a </span><span class=\"spark-nlp-display-entity-wrapper\" style=\"background-color: #12959BB3\"><span class=\"spark-nlp-display-entity-name\">metaplastic </span><span class=\"spark-nlp-display-entity-type\">Histological_Type</span><span class=\"spark-nlp-display-entity-resolution\" style=\"background-color: #12959BFF\">8895/0 </span><span class=\"spark-nlp-display-entity-resolution\" style=\"background-color: #12959BCC\">myoma</span></span><span class=\"spark-nlp-display-others\" style=\"background-color: white\"> </span><span class=\"spark-nlp-display-entity-wrapper\" style=\"background-color: #B21C5DB3\"><span class=\"spark-nlp-display-entity-name\">carcinoma </span><span class=\"spark-nlp-display-entity-type\">Cancer_Dx</span><span class=\"spark-nlp-display-entity-resolution\" style=\"background-color: #B21C5DFF\">8010/3 </span><span class=\"spark-nlp-display-entity-resolution\" style=\"background-color: #B21C5DCC\">carcinoma</span></span><span class=\"spark-nlp-display-others\" style=\"background-color: white\"> with myoepithelial and </span><span class=\"spark-nlp-display-entity-wrapper\" style=\"background-color: #21285BB3\"><span class=\"spark-nlp-display-entity-name\">squamous differentiation </span><span class=\"spark-nlp-display-entity-type\">Pathology_Result</span><span class=\"spark-nlp-display-entity-resolution\" style=\"background-color: #21285BFF\">C08.1 </span><span class=\"spark-nlp-display-entity-resolution\" style=\"background-color: #21285BCC\">sublingual gland</span></span><span class=\"spark-nlp-display-others\" style=\"background-color: white\"> associated with </span><span class=\"spark-nlp-display-entity-wrapper\" style=\"background-color: #B21C5DB3\"><span class=\"spark-nlp-display-entity-name\">adenomyoepithelioma </span><span class=\"spark-nlp-display-entity-type\">Cancer_Dx</span><span class=\"spark-nlp-display-entity-resolution\" style=\"background-color: #B21C5DFF\">8983/0 </span><span class=\"spark-nlp-display-entity-resolution\" style=\"background-color: #B21C5DCC\">adenomyoepithelioma</span></span><span class=\"spark-nlp-display-others\" style=\"background-color: white\"> (Figure 1A-C). </span><span class=\"spark-nlp-display-entity-wrapper\" style=\"background-color: #365157B3\"><span class=\"spark-nlp-display-entity-name\">Immunohistochemistry study </span><span class=\"spark-nlp-display-entity-type\">Pathology_Test</span></span><span class=\"spark-nlp-display-others\" style=\"background-color: white\"> showed that the </span><span class=\"spark-nlp-display-entity-wrapper\" style=\"background-color: #21285BB3\"><span class=\"spark-nlp-display-entity-name\">tumor cells </span><span class=\"spark-nlp-display-entity-type\">Pathology_Result</span><span class=\"spark-nlp-display-entity-resolution\" style=\"background-color: #21285BFF\">8001/1 </span><span class=\"spark-nlp-display-entity-resolution\" style=\"background-color: #21285BCC\">tumor cells</span></span><span class=\"spark-nlp-display-others\" style=\"background-color: white\"> are </span><span class=\"spark-nlp-display-entity-wrapper\" style=\"background-color: #4E2824B3\"><span class=\"spark-nlp-display-entity-name\">positive </span><span class=\"spark-nlp-display-entity-type\">Biomarker_Result</span></span><span class=\"spark-nlp-display-others\" style=\"background-color: white\"> for </span><span class=\"spark-nlp-display-entity-wrapper\" style=\"background-color: #73AD36B3\"><span class=\"spark-nlp-display-entity-name\">epithelial markers-cytokeratin </span><span class=\"spark-nlp-display-entity-type\">Biomarker</span></span><span class=\"spark-nlp-display-others\" style=\"background-color: white\"> (</span><span class=\"spark-nlp-display-entity-wrapper\" style=\"background-color: #73AD36B3\"><span class=\"spark-nlp-display-entity-name\">AE1/AE3 </span><span class=\"spark-nlp-display-entity-type\">Biomarker</span></span><span class=\"spark-nlp-display-others\" style=\"background-color: white\">) stain, and </span><span class=\"spark-nlp-display-entity-wrapper\" style=\"background-color: #73AD36B3\"><span class=\"spark-nlp-display-entity-name\">myoepithelial markers </span><span class=\"spark-nlp-display-entity-type\">Biomarker</span></span><span class=\"spark-nlp-display-others\" style=\"background-color: white\">, including </span><span class=\"spark-nlp-display-entity-wrapper\" style=\"background-color: #73AD36B3\"><span class=\"spark-nlp-display-entity-name\">cytokeratin 5/6 </span><span class=\"spark-nlp-display-entity-type\">Biomarker</span></span><span class=\"spark-nlp-display-others\" style=\"background-color: white\"> (</span><span class=\"spark-nlp-display-entity-wrapper\" style=\"background-color: #73AD36B3\"><span class=\"spark-nlp-display-entity-name\">CK 5/6 </span><span class=\"spark-nlp-display-entity-type\">Biomarker</span></span><span class=\"spark-nlp-display-others\" style=\"background-color: white\">), </span><span class=\"spark-nlp-display-entity-wrapper\" style=\"background-color: #73AD36B3\"><span class=\"spark-nlp-display-entity-name\">p63 </span><span class=\"spark-nlp-display-entity-type\">Biomarker</span></span><span class=\"spark-nlp-display-others\" style=\"background-color: white\">, and </span><span class=\"spark-nlp-display-entity-wrapper\" style=\"background-color: #73AD36B3\"><span class=\"spark-nlp-display-entity-name\">S100 stains </span><span class=\"spark-nlp-display-entity-type\">Biomarker</span></span><span class=\"spark-nlp-display-others\" style=\"background-color: white\"> (Figure 2A-E). Expressions of </span><span class=\"spark-nlp-display-entity-wrapper\" style=\"background-color: #73AD36B3\"><span class=\"spark-nlp-display-entity-name\">hormone receptors </span><span class=\"spark-nlp-display-entity-type\">Biomarker</span></span><span class=\"spark-nlp-display-others\" style=\"background-color: white\">, including </span><span class=\"spark-nlp-display-entity-wrapper\" style=\"background-color: #73AD36B3\"><span class=\"spark-nlp-display-entity-name\">ER </span><span class=\"spark-nlp-display-entity-type\">Biomarker</span></span><span class=\"spark-nlp-display-others\" style=\"background-color: white\">, </span><span class=\"spark-nlp-display-entity-wrapper\" style=\"background-color: #73AD36B3\"><span class=\"spark-nlp-display-entity-name\">PR </span><span class=\"spark-nlp-display-entity-type\">Biomarker</span></span><span class=\"spark-nlp-display-others\" style=\"background-color: white\">, and </span><span class=\"spark-nlp-display-entity-wrapper\" style=\"background-color: #73AD36B3\"><span class=\"spark-nlp-display-entity-name\">Her-2/Neu </span><span class=\"spark-nlp-display-entity-type\">Biomarker</span></span><span class=\"spark-nlp-display-others\" style=\"background-color: white\">, were all </span><span class=\"spark-nlp-display-entity-wrapper\" style=\"background-color: #4E2824B3\"><span class=\"spark-nlp-display-entity-name\">negative </span><span class=\"spark-nlp-display-entity-type\">Biomarker_Result</span></span><span class=\"spark-nlp-display-others\" style=\"background-color: white\"> (Figure 3A-D). The </span><span class=\"spark-nlp-display-entity-wrapper\" style=\"background-color: #798969B3\"><span class=\"spark-nlp-display-entity-name\">dissected axillary lymph nodes </span><span class=\"spark-nlp-display-entity-type\">Site_Lymph_Node</span><span class=\"spark-nlp-display-entity-resolution\" style=\"background-color: #798969FF\">C77.3 </span><span class=\"spark-nlp-display-entity-resolution\" style=\"background-color: #798969CC\">lymph nodes of axilla or arm</span></span><span class=\"spark-nlp-display-others\" style=\"background-color: white\"> showed </span><span class=\"spark-nlp-display-entity-wrapper\" style=\"background-color: #11346CB3\"><span class=\"spark-nlp-display-entity-name\">metastastic </span><span class=\"spark-nlp-display-entity-type\">Metastasis</span><span class=\"spark-nlp-display-entity-resolution\" style=\"background-color: #11346CFF\">8000/6 </span><span class=\"spark-nlp-display-entity-resolution\" style=\"background-color: #11346CCC\">tumor, metastatic</span></span><span class=\"spark-nlp-display-others\" style=\"background-color: white\"> </span><span class=\"spark-nlp-display-entity-wrapper\" style=\"background-color: #B21C5DB3\"><span class=\"spark-nlp-display-entity-name\">carcinoma </span><span class=\"spark-nlp-display-entity-type\">Cancer_Dx</span><span class=\"spark-nlp-display-entity-resolution\" style=\"background-color: #B21C5DFF\">8010/3 </span><span class=\"spark-nlp-display-entity-resolution\" style=\"background-color: #B21C5DCC\">carcinoma</span></span><span class=\"spark-nlp-display-others\" style=\"background-color: white\"> with </span><span class=\"spark-nlp-display-entity-wrapper\" style=\"background-color: #73AD36B3\"><span class=\"spark-nlp-display-entity-name\">hormone triple-negative </span><span class=\"spark-nlp-display-entity-type\">Biomarker</span></span><span class=\"spark-nlp-display-others\" style=\"background-color: white\"> in 3 out of </span><span class=\"spark-nlp-display-entity-wrapper\" style=\"background-color: #798969B3\"><span class=\"spark-nlp-display-entity-name\">26 nodes </span><span class=\"spark-nlp-display-entity-type\">Site_Lymph_Node</span><span class=\"spark-nlp-display-entity-resolution\" style=\"background-color: #798969FF\">C14.2 </span><span class=\"spark-nlp-display-entity-resolution\" style=\"background-color: #798969CC\">waldeyer ring</span></span><span class=\"spark-nlp-display-others\" style=\"background-color: white\">. The patient was staged as </span><span class=\"spark-nlp-display-entity-wrapper\" style=\"background-color: #2D1271B3\"><span class=\"spark-nlp-display-entity-name\">pT3N1aM0 </span><span class=\"spark-nlp-display-entity-type\">Staging</span></span><span class=\"spark-nlp-display-others\" style=\"background-color: white\">, with </span><span class=\"spark-nlp-display-entity-wrapper\" style=\"background-color: #21285BB3\"><span class=\"spark-nlp-display-entity-name\">histologic tumor grade III </span><span class=\"spark-nlp-display-entity-type\">Pathology_Result</span><span class=\"spark-nlp-display-entity-resolution\" style=\"background-color: #21285BFF\">8003/3-C05.0 </span><span class=\"spark-nlp-display-entity-resolution\" style=\"background-color: #21285BCC\">malignant tumor, giant cell type of hard palate</span></span><span class=\"spark-nlp-display-others\" style=\"background-color: white\">.<br><br></span><span class=\"spark-nlp-display-entity-wrapper\" style=\"background-color: #ACBF8CB3\"><span class=\"spark-nlp-display-entity-name\">Seven months later </span><span class=\"spark-nlp-display-entity-type\">Relative_Date</span></span><span class=\"spark-nlp-display-others\" style=\"background-color: white\">, the patient complained about pain and numbness over </span><span class=\"spark-nlp-display-entity-wrapper\" style=\"background-color: #BB720AB3\"><span class=\"spark-nlp-display-entity-name\">left </span><span class=\"spark-nlp-display-entity-type\">Direction</span></span><span class=\"spark-nlp-display-others\" style=\"background-color: white\"> </span><span class=\"spark-nlp-display-entity-wrapper\" style=\"background-color: #896055B3\"><span class=\"spark-nlp-display-entity-name\">forearm </span><span class=\"spark-nlp-display-entity-type\">Anatomical_Site</span><span class=\"spark-nlp-display-entity-resolution\" style=\"background-color: #896055FF\">C44 </span><span class=\"spark-nlp-display-entity-resolution\" style=\"background-color: #896055CC\">skin</span></span><span class=\"spark-nlp-display-others\" style=\"background-color: white\">, </span><span class=\"spark-nlp-display-entity-wrapper\" style=\"background-color: #BB720AB3\"><span class=\"spark-nlp-display-entity-name\">right </span><span class=\"spark-nlp-display-entity-type\">Direction</span></span><span class=\"spark-nlp-display-others\" style=\"background-color: white\"> </span><span class=\"spark-nlp-display-entity-wrapper\" style=\"background-color: #896055B3\"><span class=\"spark-nlp-display-entity-name\">lower back </span><span class=\"spark-nlp-display-entity-type\">Anatomical_Site</span><span class=\"spark-nlp-display-entity-resolution\" style=\"background-color: #896055FF\">C76.5 </span><span class=\"spark-nlp-display-entity-resolution\" style=\"background-color: #896055CC\">lower limb</span></span><span class=\"spark-nlp-display-others\" style=\"background-color: white\">, and </span><span class=\"spark-nlp-display-entity-wrapper\" style=\"background-color: #BB720AB3\"><span class=\"spark-nlp-display-entity-name\">bilateral </span><span class=\"spark-nlp-display-entity-type\">Direction</span></span><span class=\"spark-nlp-display-others\" style=\"background-color: white\"> </span><span class=\"spark-nlp-display-entity-wrapper\" style=\"background-color: #896055B3\"><span class=\"spark-nlp-display-entity-name\">lower extremities </span><span class=\"spark-nlp-display-entity-type\">Anatomical_Site</span><span class=\"spark-nlp-display-entity-resolution\" style=\"background-color: #896055FF\">C76.5 </span><span class=\"spark-nlp-display-entity-resolution\" style=\"background-color: #896055CC\">lower limb</span></span><span class=\"spark-nlp-display-others\" style=\"background-color: white\">. Fentanyl patch (2.5 mg/q72h) was used for pain control. </span><span class=\"spark-nlp-display-entity-wrapper\" style=\"background-color: #8F7570B3\"><span class=\"spark-nlp-display-entity-name\">Sonography </span><span class=\"spark-nlp-display-entity-type\">Imaging_Test</span></span><span class=\"spark-nlp-display-others\" style=\"background-color: white\"> of </span><span class=\"spark-nlp-display-entity-wrapper\" style=\"background-color: #BB720AB3\"><span class=\"spark-nlp-display-entity-name\">left </span><span class=\"spark-nlp-display-entity-type\">Direction</span></span><span class=\"spark-nlp-display-others\" style=\"background-color: white\"> </span><span class=\"spark-nlp-display-entity-wrapper\" style=\"background-color: #896055B3\"><span class=\"spark-nlp-display-entity-name\">forearm </span><span class=\"spark-nlp-display-entity-type\">Anatomical_Site</span><span class=\"spark-nlp-display-entity-resolution\" style=\"background-color: #896055FF\">C44 </span><span class=\"spark-nlp-display-entity-resolution\" style=\"background-color: #896055CC\">skin</span></span><span class=\"spark-nlp-display-others\" style=\"background-color: white\"> revealed a </span><span class=\"spark-nlp-display-entity-wrapper\" style=\"background-color: #A159A9B3\"><span class=\"spark-nlp-display-entity-name\">tumor </span><span class=\"spark-nlp-display-entity-type\">Tumor_Finding</span><span class=\"spark-nlp-display-entity-resolution\" style=\"background-color: #A159A9FF\">8000/1 </span><span class=\"spark-nlp-display-entity-resolution\" style=\"background-color: #A159A9CC\">tumor</span></span><span class=\"spark-nlp-display-others\" style=\"background-color: white\"> with hypervascularity and cystic component, measuring about </span><span class=\"spark-nlp-display-entity-wrapper\" style=\"background-color: #C28B07B3\"><span class=\"spark-nlp-display-entity-name\">6 x 5 cm </span><span class=\"spark-nlp-display-entity-type\">Tumor_Size</span></span><span class=\"spark-nlp-display-others\" style=\"background-color: white\"> in size. </span><span class=\"spark-nlp-display-entity-wrapper\" style=\"background-color: #8F7570B3\"><span class=\"spark-nlp-display-entity-name\">Positron emission tomography/computed tomography </span><span class=\"spark-nlp-display-entity-type\">Imaging_Test</span></span><span class=\"spark-nlp-display-others\" style=\"background-color: white\"> (</span><span class=\"spark-nlp-display-entity-wrapper\" style=\"background-color: #A8431CB3\"><span class=\"spark-nlp-display-entity-name\">PET/C </span><span class=\"spark-nlp-display-entity-type\">Radiotherapy</span></span><span class=\"spark-nlp-display-others\" style=\"background-color: white\">) scan showed hypermetabolic </span><span class=\"spark-nlp-display-entity-wrapper\" style=\"background-color: #A159A9B3\"><span class=\"spark-nlp-display-entity-name\">masses </span><span class=\"spark-nlp-display-entity-type\">Tumor_Finding</span><span class=\"spark-nlp-display-entity-resolution\" style=\"background-color: #A159A9FF\">C76.1 </span><span class=\"spark-nlp-display-entity-resolution\" style=\"background-color: #A159A9CC\">thorax</span></span><span class=\"spark-nlp-display-others\" style=\"background-color: white\"> in the </span><span class=\"spark-nlp-display-entity-wrapper\" style=\"background-color: #BB720AB3\"><span class=\"spark-nlp-display-entity-name\">left </span><span class=\"spark-nlp-display-entity-type\">Direction</span></span><span class=\"spark-nlp-display-others\" style=\"background-color: white\"> </span><span class=\"spark-nlp-display-entity-wrapper\" style=\"background-color: #896055B3\"><span class=\"spark-nlp-display-entity-name\">proximal forearm </span><span class=\"spark-nlp-display-entity-type\">Anatomical_Site</span><span class=\"spark-nlp-display-entity-resolution\" style=\"background-color: #896055FF\">C76.4 </span><span class=\"spark-nlp-display-entity-resolution\" style=\"background-color: #896055CC\">upper limb</span></span><span class=\"spark-nlp-display-others\" style=\"background-color: white\">, </span><span class=\"spark-nlp-display-entity-wrapper\" style=\"background-color: #BB720AB3\"><span class=\"spark-nlp-display-entity-name\">right </span><span class=\"spark-nlp-display-entity-type\">Direction</span></span><span class=\"spark-nlp-display-others\" style=\"background-color: white\"> </span><span class=\"spark-nlp-display-entity-wrapper\" style=\"background-color: #896055B3\"><span class=\"spark-nlp-display-entity-name\">psoas </span><span class=\"spark-nlp-display-entity-type\">Anatomical_Site</span><span class=\"spark-nlp-display-entity-resolution\" style=\"background-color: #896055FF\">9971/1 </span><span class=\"spark-nlp-display-entity-resolution\" style=\"background-color: #896055CC\">ptld</span></span><span class=\"spark-nlp-display-others\" style=\"background-color: white\">, and </span><span class=\"spark-nlp-display-entity-wrapper\" style=\"background-color: #896055B3\"><span class=\"spark-nlp-display-entity-name\">quadratus lumborum muscles </span><span class=\"spark-nlp-display-entity-type\">Anatomical_Site</span><span class=\"spark-nlp-display-entity-resolution\" style=\"background-color: #896055FF\">9383/1-C72.9 </span><span class=\"spark-nlp-display-entity-resolution\" style=\"background-color: #896055CC\">subependymoma of nervous system</span></span><span class=\"spark-nlp-display-others\" style=\"background-color: white\"> (Figure 4). </span><span class=\"spark-nlp-display-entity-wrapper\" style=\"background-color: #237470B3\"><span class=\"spark-nlp-display-entity-name\">Surgical excision </span><span class=\"spark-nlp-display-entity-type\">Cancer_Surgery</span></span><span class=\"spark-nlp-display-others\" style=\"background-color: white\"> of </span><span class=\"spark-nlp-display-entity-wrapper\" style=\"background-color: #BB720AB3\"><span class=\"spark-nlp-display-entity-name\">left </span><span class=\"spark-nlp-display-entity-type\">Direction</span></span><span class=\"spark-nlp-display-others\" style=\"background-color: white\"> </span><span class=\"spark-nlp-display-entity-wrapper\" style=\"background-color: #896055B3\"><span class=\"spark-nlp-display-entity-name\">forearm </span><span class=\"spark-nlp-display-entity-type\">Anatomical_Site</span><span class=\"spark-nlp-display-entity-resolution\" style=\"background-color: #896055FF\">C44 </span><span class=\"spark-nlp-display-entity-resolution\" style=\"background-color: #896055CC\">skin</span></span><span class=\"spark-nlp-display-others\" style=\"background-color: white\"> </span><span class=\"spark-nlp-display-entity-wrapper\" style=\"background-color: #A159A9B3\"><span class=\"spark-nlp-display-entity-name\">mass </span><span class=\"spark-nlp-display-entity-type\">Tumor_Finding</span><span class=\"spark-nlp-display-entity-resolution\" style=\"background-color: #A159A9FF\">9765/1 </span><span class=\"spark-nlp-display-entity-resolution\" style=\"background-color: #A159A9CC\">mgus</span></span><span class=\"spark-nlp-display-others\" style=\"background-color: white\"> (Figure 5) was performed for symptomatic relief of intractable pain. However, </span><span class=\"spark-nlp-display-entity-wrapper\" style=\"background-color: #237470B3\"><span class=\"spark-nlp-display-entity-name\">excision </span><span class=\"spark-nlp-display-entity-type\">Cancer_Surgery</span></span><span class=\"spark-nlp-display-others\" style=\"background-color: white\"> for the </span><span class=\"spark-nlp-display-entity-wrapper\" style=\"background-color: #BB720AB3\"><span class=\"spark-nlp-display-entity-name\">right </span><span class=\"spark-nlp-display-entity-type\">Direction</span></span><span class=\"spark-nlp-display-others\" style=\"background-color: white\"> </span><span class=\"spark-nlp-display-entity-wrapper\" style=\"background-color: #896055B3\"><span class=\"spark-nlp-display-entity-name\">psoas </span><span class=\"spark-nlp-display-entity-type\">Anatomical_Site</span><span class=\"spark-nlp-display-entity-resolution\" style=\"background-color: #896055FF\">9971/1 </span><span class=\"spark-nlp-display-entity-resolution\" style=\"background-color: #896055CC\">ptld</span></span><span class=\"spark-nlp-display-others\" style=\"background-color: white\"> and </span><span class=\"spark-nlp-display-entity-wrapper\" style=\"background-color: #896055B3\"><span class=\"spark-nlp-display-entity-name\">quadratus lumborum muscles </span><span class=\"spark-nlp-display-entity-type\">Anatomical_Site</span><span class=\"spark-nlp-display-entity-resolution\" style=\"background-color: #896055FF\">9383/1-C72.9 </span><span class=\"spark-nlp-display-entity-resolution\" style=\"background-color: #896055CC\">subependymoma of nervous system</span></span><span class=\"spark-nlp-display-others\" style=\"background-color: white\"> </span><span class=\"spark-nlp-display-entity-wrapper\" style=\"background-color: #A159A9B3\"><span class=\"spark-nlp-display-entity-name\">lesion </span><span class=\"spark-nlp-display-entity-type\">Tumor_Finding</span><span class=\"spark-nlp-display-entity-resolution\" style=\"background-color: #A159A9FF\">C76.8 </span><span class=\"spark-nlp-display-entity-resolution\" style=\"background-color: #A159A9CC\">overlapping lesion of ill-defined sites</span></span><span class=\"spark-nlp-display-others\" style=\"background-color: white\"> was not feasible due to high risks of morbidities. </span><span class=\"spark-nlp-display-entity-wrapper\" style=\"background-color: #365157B3\"><span class=\"spark-nlp-display-entity-name\">Histopathologic examination </span><span class=\"spark-nlp-display-entity-type\">Pathology_Test</span></span><span class=\"spark-nlp-display-others\" style=\"background-color: white\"> of </span><span class=\"spark-nlp-display-entity-wrapper\" style=\"background-color: #BB720AB3\"><span class=\"spark-nlp-display-entity-name\">left </span><span class=\"spark-nlp-display-entity-type\">Direction</span></span><span class=\"spark-nlp-display-others\" style=\"background-color: white\"> </span><span class=\"spark-nlp-display-entity-wrapper\" style=\"background-color: #896055B3\"><span class=\"spark-nlp-display-entity-name\">forearm </span><span class=\"spark-nlp-display-entity-type\">Anatomical_Site</span><span class=\"spark-nlp-display-entity-resolution\" style=\"background-color: #896055FF\">C44 </span><span class=\"spark-nlp-display-entity-resolution\" style=\"background-color: #896055CC\">skin</span></span><span class=\"spark-nlp-display-others\" style=\"background-color: white\"> </span><span class=\"spark-nlp-display-entity-wrapper\" style=\"background-color: #A159A9B3\"><span class=\"spark-nlp-display-entity-name\">tumor </span><span class=\"spark-nlp-display-entity-type\">Tumor_Finding</span><span class=\"spark-nlp-display-entity-resolution\" style=\"background-color: #A159A9FF\">8000/1 </span><span class=\"spark-nlp-display-entity-resolution\" style=\"background-color: #A159A9CC\">tumor</span></span><span class=\"spark-nlp-display-others\" style=\"background-color: white\"> revealed </span><span class=\"spark-nlp-display-entity-wrapper\" style=\"background-color: #11346CB3\"><span class=\"spark-nlp-display-entity-name\">metastatic </span><span class=\"spark-nlp-display-entity-type\">Metastasis</span><span class=\"spark-nlp-display-entity-resolution\" style=\"background-color: #11346CFF\">8000/6 </span><span class=\"spark-nlp-display-entity-resolution\" style=\"background-color: #11346CCC\">tumor, metastatic</span></span><span class=\"spark-nlp-display-others\" style=\"background-color: white\"> </span><span class=\"spark-nlp-display-entity-wrapper\" style=\"background-color: #B21C5DB3\"><span class=\"spark-nlp-display-entity-name\">carcinoma </span><span class=\"spark-nlp-display-entity-type\">Cancer_Dx</span><span class=\"spark-nlp-display-entity-resolution\" style=\"background-color: #B21C5DFF\">8010/3 </span><span class=\"spark-nlp-display-entity-resolution\" style=\"background-color: #B21C5DCC\">carcinoma</span></span><span class=\"spark-nlp-display-others\" style=\"background-color: white\">, similar to previous </span><span class=\"spark-nlp-display-entity-wrapper\" style=\"background-color: #B21C5DB3\"><span class=\"spark-nlp-display-entity-name\">breast cancer </span><span class=\"spark-nlp-display-entity-type\">Cancer_Dx</span><span class=\"spark-nlp-display-entity-resolution\" style=\"background-color: #B21C5DFF\">8010/3-C50.9 </span><span class=\"spark-nlp-display-entity-resolution\" style=\"background-color: #B21C5DCC\">carcinoma, of breast</span></span><span class=\"spark-nlp-display-others\" style=\"background-color: white\"> with </span><span class=\"spark-nlp-display-entity-wrapper\" style=\"background-color: #4E2824B3\"><span class=\"spark-nlp-display-entity-name\">negative </span><span class=\"spark-nlp-display-entity-type\">Biomarker_Result</span></span><span class=\"spark-nlp-display-others\" style=\"background-color: white\"> </span><span class=\"spark-nlp-display-entity-wrapper\" style=\"background-color: #73AD36B3\"><span class=\"spark-nlp-display-entity-name\">ER </span><span class=\"spark-nlp-display-entity-type\">Biomarker</span></span><span class=\"spark-nlp-display-others\" style=\"background-color: white\">, </span><span class=\"spark-nlp-display-entity-wrapper\" style=\"background-color: #73AD36B3\"><span class=\"spark-nlp-display-entity-name\">PR </span><span class=\"spark-nlp-display-entity-type\">Biomarker</span></span><span class=\"spark-nlp-display-others\" style=\"background-color: white\">, and </span><span class=\"spark-nlp-display-entity-wrapper\" style=\"background-color: #1D9607B3\"><span class=\"spark-nlp-display-entity-name\">Her-2/Neu </span><span class=\"spark-nlp-display-entity-type\">Oncogene</span><span class=\"spark-nlp-display-entity-resolution\" style=\"background-color: #1D9607FF\">C53.0 </span><span class=\"spark-nlp-display-entity-resolution\" style=\"background-color: #1D9607CC\">endocervix</span></span><span class=\"spark-nlp-display-others\" style=\"background-color: white\"> </span><span class=\"spark-nlp-display-entity-wrapper\" style=\"background-color: #365157B3\"><span class=\"spark-nlp-display-entity-name\">immunostaining </span><span class=\"spark-nlp-display-entity-type\">Pathology_Test</span></span><span class=\"spark-nlp-display-others\" style=\"background-color: white\"> (Figure 3E-H), </span><span class=\"spark-nlp-display-entity-wrapper\" style=\"background-color: #4E2824B3\"><span class=\"spark-nlp-display-entity-name\">positive </span><span class=\"spark-nlp-display-entity-type\">Biomarker_Result</span></span><span class=\"spark-nlp-display-others\" style=\"background-color: white\"> for </span><span class=\"spark-nlp-display-entity-wrapper\" style=\"background-color: #73AD36B3\"><span class=\"spark-nlp-display-entity-name\">epithelial markers-cytokeratin </span><span class=\"spark-nlp-display-entity-type\">Biomarker</span></span><span class=\"spark-nlp-display-others\" style=\"background-color: white\"> (</span><span class=\"spark-nlp-display-entity-wrapper\" style=\"background-color: #73AD36B3\"><span class=\"spark-nlp-display-entity-name\">AE1/AE3 </span><span class=\"spark-nlp-display-entity-type\">Biomarker</span></span><span class=\"spark-nlp-display-others\" style=\"background-color: white\">) stain, and </span><span class=\"spark-nlp-display-entity-wrapper\" style=\"background-color: #73AD36B3\"><span class=\"spark-nlp-display-entity-name\">myoepithelial markers </span><span class=\"spark-nlp-display-entity-type\">Biomarker</span></span><span class=\"spark-nlp-display-others\" style=\"background-color: white\"> as </span><span class=\"spark-nlp-display-entity-wrapper\" style=\"background-color: #73AD36B3\"><span class=\"spark-nlp-display-entity-name\">p63 </span><span class=\"spark-nlp-display-entity-type\">Biomarker</span></span><span class=\"spark-nlp-display-others\" style=\"background-color: white\"> (Figure 2F-H). Further boosted </span><span class=\"spark-nlp-display-entity-wrapper\" style=\"background-color: #A8431CB3\"><span class=\"spark-nlp-display-entity-name\">radiotherapy </span><span class=\"spark-nlp-display-entity-type\">Radiotherapy</span></span><span class=\"spark-nlp-display-others\" style=\"background-color: white\"> was added, but the </span><span class=\"spark-nlp-display-entity-wrapper\" style=\"background-color: #11346CB3\"><span class=\"spark-nlp-display-entity-name\">metastatic </span><span class=\"spark-nlp-display-entity-type\">Metastasis</span><span class=\"spark-nlp-display-entity-resolution\" style=\"background-color: #11346CFF\">8000/6 </span><span class=\"spark-nlp-display-entity-resolution\" style=\"background-color: #11346CCC\">tumor, metastatic</span></span><span class=\"spark-nlp-display-others\" style=\"background-color: white\"> </span><span class=\"spark-nlp-display-entity-wrapper\" style=\"background-color: #A159A9B3\"><span class=\"spark-nlp-display-entity-name\">tumors </span><span class=\"spark-nlp-display-entity-type\">Tumor_Finding</span><span class=\"spark-nlp-display-entity-resolution\" style=\"background-color: #A159A9FF\">8000/1 </span><span class=\"spark-nlp-display-entity-resolution\" style=\"background-color: #A159A9CC\">tumor</span></span><span class=\"spark-nlp-display-others\" style=\"background-color: white\"> in the </span><span class=\"spark-nlp-display-entity-wrapper\" style=\"background-color: #BB720AB3\"><span class=\"spark-nlp-display-entity-name\">right </span><span class=\"spark-nlp-display-entity-type\">Direction</span></span><span class=\"spark-nlp-display-others\" style=\"background-color: white\"> </span><span class=\"spark-nlp-display-entity-wrapper\" style=\"background-color: #896055B3\"><span class=\"spark-nlp-display-entity-name\">psoas </span><span class=\"spark-nlp-display-entity-type\">Anatomical_Site</span><span class=\"spark-nlp-display-entity-resolution\" style=\"background-color: #896055FF\">9971/1 </span><span class=\"spark-nlp-display-entity-resolution\" style=\"background-color: #896055CC\">ptld</span></span><span class=\"spark-nlp-display-others\" style=\"background-color: white\"> and </span><span class=\"spark-nlp-display-entity-wrapper\" style=\"background-color: #896055B3\"><span class=\"spark-nlp-display-entity-name\">quadratus lumborum muscles </span><span class=\"spark-nlp-display-entity-type\">Anatomical_Site</span><span class=\"spark-nlp-display-entity-resolution\" style=\"background-color: #896055FF\">9383/1-C72.9 </span><span class=\"spark-nlp-display-entity-resolution\" style=\"background-color: #896055CC\">subependymoma of nervous system</span></span><span class=\"spark-nlp-display-others\" style=\"background-color: white\"> </span><span class=\"spark-nlp-display-entity-wrapper\" style=\"background-color: #3B756EB3\"><span class=\"spark-nlp-display-entity-name\">progressed in size </span><span class=\"spark-nlp-display-entity-type\">Response_To_Treatment</span></span><span class=\"spark-nlp-display-others\" style=\"background-color: white\">. Eventually, </span><span class=\"spark-nlp-display-entity-wrapper\" style=\"background-color: #896055B3\"><span class=\"spark-nlp-display-entity-name\">lung </span><span class=\"spark-nlp-display-entity-type\">Anatomical_Site</span><span class=\"spark-nlp-display-entity-resolution\" style=\"background-color: #896055FF\">C34.9 </span><span class=\"spark-nlp-display-entity-resolution\" style=\"background-color: #896055CC\">lung</span></span><span class=\"spark-nlp-display-others\" style=\"background-color: white\"> </span><span class=\"spark-nlp-display-entity-wrapper\" style=\"background-color: #11346CB3\"><span class=\"spark-nlp-display-entity-name\">metastasis </span><span class=\"spark-nlp-display-entity-type\">Metastasis</span><span class=\"spark-nlp-display-entity-resolution\" style=\"background-color: #11346CFF\">8000/6 </span><span class=\"spark-nlp-display-entity-resolution\" style=\"background-color: #11346CCC\">tumor, metastatic</span></span><span class=\"spark-nlp-display-others\" style=\"background-color: white\"> occurred </span><span class=\"spark-nlp-display-entity-wrapper\" style=\"background-color: #ACBF8CB3\"><span class=\"spark-nlp-display-entity-name\">10 months </span><span class=\"spark-nlp-display-entity-type\">Relative_Date</span></span><span class=\"spark-nlp-display-others\" style=\"background-color: white\"> and </span><span class=\"spark-nlp-display-entity-wrapper\" style=\"background-color: #ffacb7B3\"><span class=\"spark-nlp-display-entity-name\">she </span><span class=\"spark-nlp-display-entity-type\">Gender</span></span><span class=\"spark-nlp-display-others\" style=\"background-color: white\"> died </span><span class=\"spark-nlp-display-entity-wrapper\" style=\"background-color: #ACBF8CB3\"><span class=\"spark-nlp-display-entity-name\">12 months later after </span><span class=\"spark-nlp-display-entity-type\">Relative_Date</span></span><span class=\"spark-nlp-display-others\" style=\"background-color: white\"> </span><span class=\"spark-nlp-display-entity-wrapper\" style=\"background-color: #237470B3\"><span class=\"spark-nlp-display-entity-name\">MRM </span><span class=\"spark-nlp-display-entity-type\">Cancer_Surgery</span></span><span class=\"spark-nlp-display-others\" style=\"background-color: white\">. The informed consent was obtained from the relative.</span></div>"
            ]
          },
          "metadata": {}
        }
      ]
    },
    {
      "cell_type": "markdown",
      "source": [
        "## NER + Assertion"
      ],
      "metadata": {
        "id": "2T5XnJRLq5YG"
      }
    },
    {
      "cell_type": "code",
      "source": [
        "assertion_vis.display(annotated_samples[1], label_col = 'chunk', assertion_col = 'assertion')"
      ],
      "metadata": {
        "colab": {
          "base_uri": "https://localhost:8080/",
          "height": 1000
        },
        "id": "iWBOWeRVhKpI",
        "outputId": "8da04840-b472-4a23-f0bb-da1dfb7585aa"
      },
      "execution_count": 30,
      "outputs": [
        {
          "output_type": "display_data",
          "data": {
            "text/plain": [
              "<IPython.core.display.HTML object>"
            ],
            "text/html": [
              "\n",
              "<style>\n",
              "    @import url('https://fonts.googleapis.com/css2?family=Montserrat:wght@300;400;500;600;700&display=swap');\n",
              "    @import url('https://fonts.googleapis.com/css2?family=Vistol Regular:wght@300;400;500;600;700&display=swap');\n",
              "    \n",
              "    .spark-nlp-display-scroll-entities {\n",
              "        border: 1px solid #E7EDF0;\n",
              "        border-radius: 3px;\n",
              "        text-align: justify;\n",
              "        \n",
              "    }\n",
              "    .spark-nlp-display-scroll-entities span {  \n",
              "        font-size: 14px;\n",
              "        line-height: 24px;\n",
              "        color: #536B76;\n",
              "        font-family: 'Montserrat', sans-serif !important;\n",
              "    }\n",
              "    \n",
              "    .spark-nlp-display-entity-wrapper{\n",
              "    \n",
              "        display: inline-grid;\n",
              "        text-align: center;\n",
              "        border-radius: 4px;\n",
              "        margin: 0 2px 5px 2px;\n",
              "        padding: 1px\n",
              "    }\n",
              "    .spark-nlp-display-entity-name{\n",
              "        font-size: 14px;\n",
              "        line-height: 24px;\n",
              "        font-family: 'Montserrat', sans-serif !important;\n",
              "        \n",
              "        background: #f1f2f3;\n",
              "        border-width: medium;\n",
              "        text-align: center;\n",
              "        \n",
              "        font-weight: 400;\n",
              "        \n",
              "        border-radius: 5px;\n",
              "        padding: 2px 5px;\n",
              "        display: block;\n",
              "        margin: 3px 2px;\n",
              "    \n",
              "    }\n",
              "    .spark-nlp-display-entity-type{\n",
              "        font-size: 14px;\n",
              "        line-height: 24px;\n",
              "        color: #ffffff;\n",
              "        font-family: 'Montserrat', sans-serif !important;\n",
              "        \n",
              "        text-transform: uppercase;\n",
              "        \n",
              "        font-weight: 500;\n",
              "\n",
              "        display: block;\n",
              "        padding: 3px 5px;\n",
              "    }\n",
              "    \n",
              "    .spark-nlp-display-entity-resolution{\n",
              "        font-size: 14px;\n",
              "        line-height: 24px;\n",
              "        color: #ffffff;\n",
              "        font-family: 'Vistol Regular', sans-serif !important;\n",
              "        \n",
              "        text-transform: uppercase;\n",
              "        \n",
              "        font-weight: 500;\n",
              "\n",
              "        display: block;\n",
              "        padding: 3px 5px;\n",
              "    }\n",
              "    \n",
              "    .spark-nlp-display-others{\n",
              "        font-size: 14px;\n",
              "        line-height: 24px;\n",
              "        font-family: 'Montserrat', sans-serif !important;\n",
              "        \n",
              "        font-weight: 400;\n",
              "    }\n",
              "\n",
              "</style>\n",
              " <span class=\"spark-nlp-display-others\" style=\"background-color: white\">A </span><span class=\"spark-nlp-display-entity-wrapper\" style=\"background-color: #9A6B8EB3\"><span class=\"spark-nlp-display-entity-name\">chest radiograph </span><span class=\"spark-nlp-display-entity-type\">Imaging_Test</span><span class=\"spark-nlp-display-entity-resolution\" style=\"background-color: #9A6B8EFF\">present </span></span><span class=\"spark-nlp-display-others\" style=\"background-color: white\"> revealed a large, well circumscribed </span><span class=\"spark-nlp-display-entity-wrapper\" style=\"background-color: #9D4E06B3\"><span class=\"spark-nlp-display-entity-name\">mass </span><span class=\"spark-nlp-display-entity-type\">Tumor_Finding</span><span class=\"spark-nlp-display-entity-resolution\" style=\"background-color: #9D4E06FF\">present </span></span><span class=\"spark-nlp-display-others\" style=\"background-color: white\"> projected over the </span><span class=\"spark-nlp-display-entity-wrapper\" style=\"background-color: #383DBDB3\"><span class=\"spark-nlp-display-entity-name\">right </span><span class=\"spark-nlp-display-entity-type\">Direction</span></span><span class=\"spark-nlp-display-others\" style=\"background-color: white\"> </span><span class=\"spark-nlp-display-entity-wrapper\" style=\"background-color: #498FACB3\"><span class=\"spark-nlp-display-entity-name\">hilum </span><span class=\"spark-nlp-display-entity-type\">Anatomical_Site</span></span><span class=\"spark-nlp-display-others\" style=\"background-color: white\">, the so called </span><span class=\"spark-nlp-display-entity-wrapper\" style=\"background-color: #498FACB3\"><span class=\"spark-nlp-display-entity-name\">hilum </span><span class=\"spark-nlp-display-entity-type\">Anatomical_Site</span></span><span class=\"spark-nlp-display-others\" style=\"background-color: white\"> overlay sign. A subsequent </span><span class=\"spark-nlp-display-entity-wrapper\" style=\"background-color: #9A6B8EB3\"><span class=\"spark-nlp-display-entity-name\">computed tomography </span><span class=\"spark-nlp-display-entity-type\">Imaging_Test</span><span class=\"spark-nlp-display-entity-resolution\" style=\"background-color: #9A6B8EFF\">present </span></span><span class=\"spark-nlp-display-others\" style=\"background-color: white\"> (</span><span class=\"spark-nlp-display-entity-wrapper\" style=\"background-color: #9A6B8EB3\"><span class=\"spark-nlp-display-entity-name\">CT </span><span class=\"spark-nlp-display-entity-type\">Imaging_Test</span><span class=\"spark-nlp-display-entity-resolution\" style=\"background-color: #9A6B8EFF\">present </span></span><span class=\"spark-nlp-display-others\" style=\"background-color: white\">) </span><span class=\"spark-nlp-display-entity-wrapper\" style=\"background-color: #498FACB3\"><span class=\"spark-nlp-display-entity-name\">-thorax </span><span class=\"spark-nlp-display-entity-type\">Anatomical_Site</span></span><span class=\"spark-nlp-display-others\" style=\"background-color: white\"> with intra-venous contrast confirmed a </span><span class=\"spark-nlp-display-entity-wrapper\" style=\"background-color: #48A7B3B3\"><span class=\"spark-nlp-display-entity-name\">9.0 x 5.5 cm </span><span class=\"spark-nlp-display-entity-type\">Tumor_Size</span></span><span class=\"spark-nlp-display-others\" style=\"background-color: white\"> </span><span class=\"spark-nlp-display-entity-wrapper\" style=\"background-color: #9D4E06B3\"><span class=\"spark-nlp-display-entity-name\">mass </span><span class=\"spark-nlp-display-entity-type\">Tumor_Finding</span><span class=\"spark-nlp-display-entity-resolution\" style=\"background-color: #9D4E06FF\">present </span></span><span class=\"spark-nlp-display-others\" style=\"background-color: white\"> arising from the </span><span class=\"spark-nlp-display-entity-wrapper\" style=\"background-color: #498FACB3\"><span class=\"spark-nlp-display-entity-name\">apical segment </span><span class=\"spark-nlp-display-entity-type\">Anatomical_Site</span></span><span class=\"spark-nlp-display-others\" style=\"background-color: white\"> of the </span><span class=\"spark-nlp-display-entity-wrapper\" style=\"background-color: #383DBDB3\"><span class=\"spark-nlp-display-entity-name\">right </span><span class=\"spark-nlp-display-entity-type\">Direction</span></span><span class=\"spark-nlp-display-others\" style=\"background-color: white\"> </span><span class=\"spark-nlp-display-entity-wrapper\" style=\"background-color: #498FACB3\"><span class=\"spark-nlp-display-entity-name\">lower lobe </span><span class=\"spark-nlp-display-entity-type\">Anatomical_Site</span></span><span class=\"spark-nlp-display-others\" style=\"background-color: white\">. It demonstrated homogenous contrast enhancement with no evidence of calcifications or necrosis. The </span><span class=\"spark-nlp-display-entity-wrapper\" style=\"background-color: #9D4E06B3\"><span class=\"spark-nlp-display-entity-name\">mass </span><span class=\"spark-nlp-display-entity-type\">Tumor_Finding</span><span class=\"spark-nlp-display-entity-resolution\" style=\"background-color: #9D4E06FF\">present </span></span><span class=\"spark-nlp-display-others\" style=\"background-color: white\"> abutted the </span><span class=\"spark-nlp-display-entity-wrapper\" style=\"background-color: #498FACB3\"><span class=\"spark-nlp-display-entity-name\">pleura </span><span class=\"spark-nlp-display-entity-type\">Anatomical_Site</span></span><span class=\"spark-nlp-display-others\" style=\"background-color: white\"> with no sign of </span><span class=\"spark-nlp-display-entity-wrapper\" style=\"background-color: #C07417B3\"><span class=\"spark-nlp-display-entity-name\">invasion </span><span class=\"spark-nlp-display-entity-type\">Invasion</span><span class=\"spark-nlp-display-entity-resolution\" style=\"background-color: #C07417FF\">absent </span></span><span class=\"spark-nlp-display-others\" style=\"background-color: white\">. There was no evidence of </span><span class=\"spark-nlp-display-entity-wrapper\" style=\"background-color: #9B6538B3\"><span class=\"spark-nlp-display-entity-name\">lymphadenopathy </span><span class=\"spark-nlp-display-entity-type\">Site_Lymph_Node</span></span><span class=\"spark-nlp-display-others\" style=\"background-color: white\">, pleural effusions or </span><span class=\"spark-nlp-display-entity-wrapper\" style=\"background-color: #498FACB3\"><span class=\"spark-nlp-display-entity-name\">osseous </span><span class=\"spark-nlp-display-entity-type\">Anatomical_Site</span></span><span class=\"spark-nlp-display-others\" style=\"background-color: white\"> </span><span class=\"spark-nlp-display-entity-wrapper\" style=\"background-color: #BFA444B3\"><span class=\"spark-nlp-display-entity-name\">metastases </span><span class=\"spark-nlp-display-entity-type\">Metastasis</span><span class=\"spark-nlp-display-entity-resolution\" style=\"background-color: #BFA444FF\">absent </span></span><span class=\"spark-nlp-display-others\" style=\"background-color: white\">. The </span><span class=\"spark-nlp-display-entity-wrapper\" style=\"background-color: #498FACB3\"><span class=\"spark-nlp-display-entity-name\">liver </span><span class=\"spark-nlp-display-entity-type\">Anatomical_Site</span></span><span class=\"spark-nlp-display-others\" style=\"background-color: white\"> and </span><span class=\"spark-nlp-display-entity-wrapper\" style=\"background-color: #498FACB3\"><span class=\"spark-nlp-display-entity-name\">adrenal glands </span><span class=\"spark-nlp-display-entity-type\">Anatomical_Site</span></span><span class=\"spark-nlp-display-others\" style=\"background-color: white\"> appeared normal. A </span><span class=\"spark-nlp-display-entity-wrapper\" style=\"background-color: #9A6B8EB3\"><span class=\"spark-nlp-display-entity-name\">positron emission tomography-CT </span><span class=\"spark-nlp-display-entity-type\">Imaging_Test</span><span class=\"spark-nlp-display-entity-resolution\" style=\"background-color: #9A6B8EFF\">present </span></span><span class=\"spark-nlp-display-others\" style=\"background-color: white\"> (</span><span class=\"spark-nlp-display-entity-wrapper\" style=\"background-color: #9A6B8EB3\"><span class=\"spark-nlp-display-entity-name\">PET-CT </span><span class=\"spark-nlp-display-entity-type\">Imaging_Test</span><span class=\"spark-nlp-display-entity-resolution\" style=\"background-color: #9A6B8EFF\">present </span></span><span class=\"spark-nlp-display-others\" style=\"background-color: white\">) demonstrated increased fludeoxyglucose (FDG) uptake within the </span><span class=\"spark-nlp-display-entity-wrapper\" style=\"background-color: #9D4E06B3\"><span class=\"spark-nlp-display-entity-name\">mass </span><span class=\"spark-nlp-display-entity-type\">Tumor_Finding</span><span class=\"spark-nlp-display-entity-resolution\" style=\"background-color: #9D4E06FF\">present </span></span><span class=\"spark-nlp-display-others\" style=\"background-color: white\"> with standardized uptake value (SUV max 22.1) and no evidence of </span><span class=\"spark-nlp-display-entity-wrapper\" style=\"background-color: #9B6538B3\"><span class=\"spark-nlp-display-entity-name\">nodal involvement </span><span class=\"spark-nlp-display-entity-type\">Site_Lymph_Node</span></span><span class=\"spark-nlp-display-others\" style=\"background-color: white\"> or distant </span><span class=\"spark-nlp-display-entity-wrapper\" style=\"background-color: #BFA444B3\"><span class=\"spark-nlp-display-entity-name\">metastases </span><span class=\"spark-nlp-display-entity-type\">Metastasis</span><span class=\"spark-nlp-display-entity-resolution\" style=\"background-color: #BFA444FF\">absent </span></span><span class=\"spark-nlp-display-others\" style=\"background-color: white\">.<br><br>A </span><span class=\"spark-nlp-display-entity-wrapper\" style=\"background-color: #3A71B5B3\"><span class=\"spark-nlp-display-entity-name\">CT-guided biopsy </span><span class=\"spark-nlp-display-entity-type\">Pathology_Test</span><span class=\"spark-nlp-display-entity-resolution\" style=\"background-color: #3A71B5FF\">present </span></span><span class=\"spark-nlp-display-others\" style=\"background-color: white\"> showed a </span><span class=\"spark-nlp-display-entity-wrapper\" style=\"background-color: #85AF24B3\"><span class=\"spark-nlp-display-entity-name\">non-small cell </span><span class=\"spark-nlp-display-entity-type\">Histological_Type</span><span class=\"spark-nlp-display-entity-resolution\" style=\"background-color: #85AF24FF\">present </span></span><span class=\"spark-nlp-display-others\" style=\"background-color: white\"> </span><span class=\"spark-nlp-display-entity-wrapper\" style=\"background-color: #8780B3B3\"><span class=\"spark-nlp-display-entity-name\">primary lung carcinoma </span><span class=\"spark-nlp-display-entity-type\">Cancer_Dx</span><span class=\"spark-nlp-display-entity-resolution\" style=\"background-color: #8780B3FF\">present </span></span><span class=\"spark-nlp-display-others\" style=\"background-color: white\"> with </span><span class=\"spark-nlp-display-entity-wrapper\" style=\"background-color: #8E8245B3\"><span class=\"spark-nlp-display-entity-name\">marked necrosis </span><span class=\"spark-nlp-display-entity-type\">Pathology_Result</span><span class=\"spark-nlp-display-entity-resolution\" style=\"background-color: #8E8245FF\">present </span></span><span class=\"spark-nlp-display-others\" style=\"background-color: white\"> and </span><span class=\"spark-nlp-display-entity-wrapper\" style=\"background-color: #8E8245B3\"><span class=\"spark-nlp-display-entity-name\">poor cell differentiation </span><span class=\"spark-nlp-display-entity-type\">Pathology_Result</span><span class=\"spark-nlp-display-entity-resolution\" style=\"background-color: #8E8245FF\">present </span></span><span class=\"spark-nlp-display-others\" style=\"background-color: white\">. The subtype could not be more accurately determined. </span><span class=\"spark-nlp-display-entity-wrapper\" style=\"background-color: #9A6B8EB3\"><span class=\"spark-nlp-display-entity-name\">Mediastinoscopy </span><span class=\"spark-nlp-display-entity-type\">Imaging_Test</span><span class=\"spark-nlp-display-entity-resolution\" style=\"background-color: #9A6B8EFF\">present </span></span><span class=\"spark-nlp-display-others\" style=\"background-color: white\"> for </span><span class=\"spark-nlp-display-entity-wrapper\" style=\"background-color: #3A71B5B3\"><span class=\"spark-nlp-display-entity-name\">nodal sampling </span><span class=\"spark-nlp-display-entity-type\">Pathology_Test</span><span class=\"spark-nlp-display-entity-resolution\" style=\"background-color: #3A71B5FF\">possible </span></span><span class=\"spark-nlp-display-others\" style=\"background-color: white\"> was negative for </span><span class=\"spark-nlp-display-entity-wrapper\" style=\"background-color: #9B6538B3\"><span class=\"spark-nlp-display-entity-name\">nodal </span><span class=\"spark-nlp-display-entity-type\">Site_Lymph_Node</span></span><span class=\"spark-nlp-display-others\" style=\"background-color: white\"> </span><span class=\"spark-nlp-display-entity-wrapper\" style=\"background-color: #BFA444B3\"><span class=\"spark-nlp-display-entity-name\">metastases </span><span class=\"spark-nlp-display-entity-type\">Metastasis</span><span class=\"spark-nlp-display-entity-resolution\" style=\"background-color: #BFA444FF\">associated_with_someone_else </span></span><span class=\"spark-nlp-display-others\" style=\"background-color: white\">. A right pneumenectomy revealed a </span><span class=\"spark-nlp-display-entity-wrapper\" style=\"background-color: #48A7B3B3\"><span class=\"spark-nlp-display-entity-name\">9 cm </span><span class=\"spark-nlp-display-entity-type\">Tumor_Size</span></span><span class=\"spark-nlp-display-others\" style=\"background-color: white\"> large necrotic </span><span class=\"spark-nlp-display-entity-wrapper\" style=\"background-color: #9D4E06B3\"><span class=\"spark-nlp-display-entity-name\">mass </span><span class=\"spark-nlp-display-entity-type\">Tumor_Finding</span><span class=\"spark-nlp-display-entity-resolution\" style=\"background-color: #9D4E06FF\">present </span></span><span class=\"spark-nlp-display-others\" style=\"background-color: white\"> replacing most of the </span><span class=\"spark-nlp-display-entity-wrapper\" style=\"background-color: #498FACB3\"><span class=\"spark-nlp-display-entity-name\">medial </span><span class=\"spark-nlp-display-entity-type\">Anatomical_Site</span></span><span class=\"spark-nlp-display-others\" style=\"background-color: white\"> and </span><span class=\"spark-nlp-display-entity-wrapper\" style=\"background-color: #383DBDB3\"><span class=\"spark-nlp-display-entity-name\">posterior </span><span class=\"spark-nlp-display-entity-type\">Direction</span></span><span class=\"spark-nlp-display-others\" style=\"background-color: white\"> </span><span class=\"spark-nlp-display-entity-wrapper\" style=\"background-color: #498FACB3\"><span class=\"spark-nlp-display-entity-name\">segments </span><span class=\"spark-nlp-display-entity-type\">Anatomical_Site</span></span><span class=\"spark-nlp-display-others\" style=\"background-color: white\"> of the </span><span class=\"spark-nlp-display-entity-wrapper\" style=\"background-color: #383DBDB3\"><span class=\"spark-nlp-display-entity-name\">right </span><span class=\"spark-nlp-display-entity-type\">Direction</span></span><span class=\"spark-nlp-display-others\" style=\"background-color: white\"> </span><span class=\"spark-nlp-display-entity-wrapper\" style=\"background-color: #498FACB3\"><span class=\"spark-nlp-display-entity-name\">lower lobe </span><span class=\"spark-nlp-display-entity-type\">Anatomical_Site</span></span><span class=\"spark-nlp-display-others\" style=\"background-color: white\">. It was a biphasic </span><span class=\"spark-nlp-display-entity-wrapper\" style=\"background-color: #9D4E06B3\"><span class=\"spark-nlp-display-entity-name\">tumour </span><span class=\"spark-nlp-display-entity-type\">Tumor_Finding</span><span class=\"spark-nlp-display-entity-resolution\" style=\"background-color: #9D4E06FF\">present </span></span><span class=\"spark-nlp-display-others\" style=\"background-color: white\"> composed of </span><span class=\"spark-nlp-display-entity-wrapper\" style=\"background-color: #8E8245B3\"><span class=\"spark-nlp-display-entity-name\">malignant glandular tissue </span><span class=\"spark-nlp-display-entity-type\">Pathology_Result</span><span class=\"spark-nlp-display-entity-resolution\" style=\"background-color: #8E8245FF\">present </span></span><span class=\"spark-nlp-display-others\" style=\"background-color: white\"> with </span><span class=\"spark-nlp-display-entity-wrapper\" style=\"background-color: #8E8245B3\"><span class=\"spark-nlp-display-entity-name\">sub-nuclear vacuoles </span><span class=\"spark-nlp-display-entity-type\">Pathology_Result</span><span class=\"spark-nlp-display-entity-resolution\" style=\"background-color: #8E8245FF\">present </span></span><span class=\"spark-nlp-display-others\" style=\"background-color: white\">, associated with a </span><span class=\"spark-nlp-display-entity-wrapper\" style=\"background-color: #8E8245B3\"><span class=\"spark-nlp-display-entity-name\">pleomorphic stromal malignant blastematous </span><span class=\"spark-nlp-display-entity-type\">Pathology_Result</span><span class=\"spark-nlp-display-entity-resolution\" style=\"background-color: #8E8245FF\">present </span></span><span class=\"spark-nlp-display-others\" style=\"background-color: white\"> component.</span></div>"
            ]
          },
          "metadata": {}
        }
      ]
    }
  ]
}

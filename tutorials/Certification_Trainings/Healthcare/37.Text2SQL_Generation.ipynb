{
  "cells": [
    {
      "cell_type": "markdown",
      "metadata": {
        "id": "JWCwiy5flBq7"
      },
      "source": [
        "![JohnSnowLabs](https://nlp.johnsnowlabs.com/assets/images/logo.png)\n"
      ]
    },
    {
      "cell_type": "markdown",
      "metadata": {
        "id": "WwQqbVm4r_hV"
      },
      "source": [
        "[![Open In Colab](https://colab.research.google.com/assets/colab-badge.svg)](https://colab.research.google.com/github/JohnSnowLabs/spark-nlp-workshop/blob/master/tutorials/Certification_Trainings/Healthcare/37.Text2SQL_Generation.ipynb)\n"
      ]
    },
    {
      "cell_type": "markdown",
      "metadata": {
        "id": "5hzypXmUlNYC"
      },
      "source": [
        "# **Text2SQL Generation**"
      ]
    },
    {
      "cell_type": "markdown",
      "metadata": {
        "id": "cR1mia8SxJVA"
      },
      "source": [
        "The Text-to-SQL task, which involves automatically converting natural language questions into corresponding SQL queries, has seen significant advancements with the application of state-of-the-art models. In this direction, We are excited to introduce our new Text2SQL annotator. This powerful tool revolutionizes the way you interact with databases by effortlessly translating natural language text prompts into accurate and effective SQL queries. With the integration of a state-of-the-art LLM, this annotator opens new possibilities for enhanced data retrieval and manipulation, streamlining your workflow and boosting efficiency.\n",
        "\n",
        "Also we have a new text2sql_mimicsql model that is specifically finetuned on MIMIC-III dataset schema for enhancing the precision of SQL queries derived from medical natural language queries on MIMIC dataset.\n",
        "\n",
        "In addition, we introduced a model can generate SQL queries from natural questions and custom database schemas with a single table. It is based on a large-size LLM, which is finetuned by John Snow Labs on a dataset having schemas with single tables.\n",
        "\n",
        "\n",
        "Available models can be found at the [Models Hub](https://nlp.johnsnowlabs.com/models?annotator=Text2SQL).\n"
      ]
    },
    {
      "cell_type": "markdown",
      "metadata": {
        "id": "_pcu2-bsDvE-"
      },
      "source": [
        "## Healthcare NLP for Data Scientists Course\n",
        "\n",
        "If you are not familiar with the components in this notebook, you can check [Healthcare NLP for Data Scientists Udemy Course](https://www.udemy.com/course/healthcare-nlp-for-data-scientists/) and the [MOOC Notebooks](https://github.com/JohnSnowLabs/spark-nlp-workshop/tree/master/Spark_NLP_Udemy_MOOC/Healthcare_NLP) for each components."
      ]
    },
    {
      "cell_type": "markdown",
      "metadata": {
        "id": "okhT7AcXxben"
      },
      "source": [
        "## Colab Setup"
      ]
    },
    {
      "cell_type": "markdown",
      "metadata": {
        "id": "G7dOaR_TlgE-"
      },
      "source": [
        "📌To run this yourself, you will need to upload your license keys to the notebook. Just Run The Cell Below in order to do that. Also You can open the file explorer on the left side of the screen and upload `license_keys.json` to the folder that opens.\n",
        "Otherwise, you can look at the example outputs at the bottom of the notebook."
      ]
    },
    {
      "cell_type": "code",
      "source": [
        "# Installing pyspark and spark-nlp\n",
        "! pip install --upgrade -q pyspark==3.5.1  spark-nlp==$PUBLIC_VERSION\n",
        "\n",
        "# Installing Spark NLP Healthcare\n",
        "! pip install --upgrade -q spark-nlp-jsl==$JSL_VERSION  --extra-index-url https://pypi.johnsnowlabs.com/$SECRET\n",
        "\n",
        "# Installing Spark NLP Display Library for visualization\n",
        "! pip install -q spark-nlp-display"
      ],
      "metadata": {
        "id": "LEOOL7RuIpym"
      },
      "execution_count": null,
      "outputs": []
    },
    {
      "cell_type": "code",
      "execution_count": 3,
      "metadata": {
        "colab": {
          "base_uri": "https://localhost:8080/",
          "height": 259
        },
        "id": "L1LFkCjFMyxi",
        "outputId": "546b9ec6-9df9-494e-88b6-b3ddbd021924"
      },
      "outputs": [
        {
          "output_type": "stream",
          "name": "stdout",
          "text": [
            "Spark NLP Version : 6.1.3\n",
            "Spark NLP_JSL Version : 6.1.1\n"
          ]
        },
        {
          "output_type": "execute_result",
          "data": {
            "text/plain": [
              "<pyspark.sql.session.SparkSession at 0x79151c3a6450>"
            ],
            "text/html": [
              "\n",
              "            <div>\n",
              "                <p><b>SparkSession - in-memory</b></p>\n",
              "                \n",
              "        <div>\n",
              "            <p><b>SparkContext</b></p>\n",
              "\n",
              "            <p><a href=\"http://34faa866975e:4040\">Spark UI</a></p>\n",
              "\n",
              "            <dl>\n",
              "              <dt>Version</dt>\n",
              "                <dd><code>v3.4.1</code></dd>\n",
              "              <dt>Master</dt>\n",
              "                <dd><code>local[*]</code></dd>\n",
              "              <dt>AppName</dt>\n",
              "                <dd><code>Spark NLP Licensed</code></dd>\n",
              "            </dl>\n",
              "        </div>\n",
              "        \n",
              "            </div>\n",
              "        "
            ]
          },
          "metadata": {},
          "execution_count": 3
        }
      ],
      "source": [
        "import json\n",
        "import os\n",
        "\n",
        "from pyspark.ml import Pipeline, PipelineModel\n",
        "from pyspark.sql import SparkSession\n",
        "\n",
        "import sparknlp\n",
        "import sparknlp_jsl\n",
        "\n",
        "from sparknlp.annotator import *\n",
        "from sparknlp_jsl.annotator import *\n",
        "from sparknlp.base import *\n",
        "from sparknlp.util import *\n",
        "from sparknlp.pretrained import ResourceDownloader\n",
        "from pyspark.sql import functions as F\n",
        "\n",
        "import pandas as pd\n",
        "import textwrap\n",
        "\n",
        "pd.set_option('display.max_columns', None)\n",
        "pd.set_option('display.expand_frame_repr', False)\n",
        "pd.set_option('max_colwidth', None)\n",
        "\n",
        "import string\n",
        "import numpy as np\n",
        "\n",
        "spark = sparknlp_jsl.start(license_keys['SECRET'])\n",
        "\n",
        "print (\"Spark NLP Version :\", sparknlp.version())\n",
        "print (\"Spark NLP_JSL Version :\", sparknlp_jsl.version())\n",
        "\n",
        "spark"
      ]
    },
    {
      "cell_type": "markdown",
      "metadata": {
        "id": "7Nv8ISD_ltNo"
      },
      "source": [
        "# 🔎 MODELS"
      ]
    },
    {
      "cell_type": "markdown",
      "metadata": {
        "id": "7ymKYxvOVI89"
      },
      "source": [
        "<div align=\"center\">\n",
        "\n",
        "| **Index** | **Text2SQL models**        |\n",
        "|---------------|----------------------|\n",
        "| 1        |  [text2sql_mimicsql](https://nlp.johnsnowlabs.com/2023/08/14/text2sql_mimicsql_en.html)     |\n",
        "  2       |   [text2sql_with_schema_single_table](https://nlp.johnsnowlabs.com/2023/09/02/text2sql_with_schema_single_table_en.html)   \n",
        "  3      | [text2sql_with_schema_single_table_augmented](https://nlp.johnsnowlabs.com/2023/09/25/text2sql_with_schema_single_table_augmented_en.html)\n",
        "\n",
        "\n",
        "</div>"
      ]
    },
    {
      "cell_type": "markdown",
      "metadata": {
        "id": "EUP83I58lxPD"
      },
      "source": [
        "## 📑  **Text2SQL_MIMICSQL**\n",
        "\n",
        "This model is based on the LLM FlanT5-Large, which is finetuned with a biomedical dataset (MIMICSQL) by John Snow Labs. It can generate SQL queries from medical natural language questions on MIMIC-III dataset."
      ]
    },
    {
      "cell_type": "code",
      "execution_count": 4,
      "metadata": {
        "colab": {
          "base_uri": "https://localhost:8080/"
        },
        "id": "zb26jOqQdoQh",
        "outputId": "29a3e114-7ae3-4215-b006-5fb77fd34445"
      },
      "outputs": [
        {
          "output_type": "stream",
          "name": "stdout",
          "text": [
            "text2sql_mimicsql download started this may take some time.\n",
            "Approximate size to download 2.8 GB\n",
            "[OK!]\n"
          ]
        }
      ],
      "source": [
        "document_assembler = DocumentAssembler()\\\n",
        "    .setInputCol(\"prompt\")\\\n",
        "    .setOutputCol(\"document_prompt\")\n",
        "\n",
        "text2sql_mimicsql  = Text2SQL.pretrained(\"text2sql_mimicsql\", \"en\", \"clinical/models\")\\\n",
        "    .setInputCols(\"document_prompt\")\\\n",
        "    .setOutputCol(\"sql_query\")\\\n",
        "\n",
        "pipeline = Pipeline(stages=[document_assembler, text2sql_mimicsql])\n",
        "\n",
        "model = pipeline.fit(spark.createDataFrame([[\"\"]]).toDF(\"prompt\"))"
      ]
    },
    {
      "cell_type": "code",
      "execution_count": 5,
      "metadata": {
        "colab": {
          "base_uri": "https://localhost:8080/"
        },
        "id": "2r6gRCtnpFMi",
        "outputId": "7faa1726-efc1-4ede-c60b-63be96b5f333"
      },
      "outputs": [
        {
          "output_type": "stream",
          "name": "stdout",
          "text": [
            "+-------------------------------------------------------------------------------------------------------------------------------------------------------------------------------------------------------------------------------------------------------------------------+\n",
            "|result                                                                                                                                                                                                                                                                   |\n",
            "+-------------------------------------------------------------------------------------------------------------------------------------------------------------------------------------------------------------------------------------------------------------------------+\n",
            "|[SELECT AVG ( DEMOGRAPHIC.\"AGE\" ) FROM DEMOGRAPHIC INNER JOIN DIAGNOSES on DEMOGRAPHIC.HADM_ID = DIAGNOSES.HADM_ID INNER JOIN PRESCRIPTIONS on DEMOGRAPHIC.HADM_ID = PRESCRIPTIONS.HADM_ID WHERE DIAGNOSES.\"SHORT_TITLE\" = \"Specific hst\" AND PRESCRIPTIONS.\"DRUG\" = \"1\"]|\n",
            "|[SELECT COUNT ( DISTINCT DEMOGRAPHIC.\"SUBJECT_ID\" ) FROM DEMOGRAPHIC INNER JOIN PROCEDURES on DEMOGRAPHIC.HADM_ID = PROCEDURES.HADM_ID WHERE PROCEDURES.\"SHORT_TITLE\" = \"1 int mam-cor art bypass\"]                                                                      |\n",
            "|[SELECT PRESCRIPTIONS.\"FORMULARY_DRUG_CD\",PRESCRIPTIONS.\"DRUG_DOSE\" FROM DEMOGRAPHIC INNER JOIN PRESCRIPTIONS on DEMOGRAPHIC.HADM_ID = PRESCRIPTIONS.HADM_ID WHERE DEMOGRAPHIC.\"NAME\" = \"Anna Johnson\"]                                                                  |\n",
            "|[SELECT MIN ( DEMOGRAPHIC.\"AGE\" ) FROM DEMOGRAPHIC WHERE DEMOGRAPHIC.\"MARITAL_STATUS\" = \"MARRIED\" AND DEMOGRAPHIC.\"ADMISSION_TYPE\" = \"ELECTIVE\"]                                                                                                                         |\n",
            "|[SELECT MAX ( DEMOGRAPHIC.\"AGE\" ) FROM DEMOGRAPHIC WHERE DEMOGRAPHIC.\"DAYS_STAY\" = \"20\" AND DEMOGRAPHIC.\"DOD_YEAR\" < \"2023.0\"]                                                                                                                                           |\n",
            "+-------------------------------------------------------------------------------------------------------------------------------------------------------------------------------------------------------------------------------------------------------------------------+\n",
            "\n"
          ]
        }
      ],
      "source": [
        "text = [\"Find the average number of prescriptions per patient for patients with a specific diagnosis.\",\n",
        "        \"give me the number of patients who had single internal mammary-coronary artery bypass.\",\n",
        "        \"provide the drug code and drug dose for anna johnson.\",\n",
        "        \"calculate the minimum age of married patients who had elective type hospital admission.\",\n",
        "        \"What is the maximum age of patients who were hospitalized for 20 days and died before 2023 ?\"]\n",
        "\n",
        "data = spark.createDataFrame([(prompt,) for prompt in text], [\"prompt\"])\n",
        "\n",
        "result = model.transform(data)\n",
        "\n",
        "result.select(\"sql_query.result\").show(truncate=False)"
      ]
    },
    {
      "cell_type": "markdown",
      "metadata": {
        "id": "4GjbnXm0ghO7"
      },
      "source": [
        "### **📍 LightPipelines**"
      ]
    },
    {
      "cell_type": "code",
      "execution_count": 6,
      "metadata": {
        "id": "iKkS0XACWiit"
      },
      "outputs": [],
      "source": [
        "light_model = LightPipeline(model)\n",
        "light_result = light_model.annotate(text)"
      ]
    },
    {
      "cell_type": "code",
      "execution_count": 7,
      "metadata": {
        "colab": {
          "base_uri": "https://localhost:8080/"
        },
        "id": "WER8CYY1WigZ",
        "outputId": "d316170d-9832-4805-e5bb-eda702ccabfa"
      },
      "outputs": [
        {
          "output_type": "stream",
          "name": "stdout",
          "text": [
            "➤ User query: 1: \n",
            "Find the average number of prescriptions per patient for patients with a specific diagnosis.\n",
            "\n",
            "\n",
            "➤ SQL query 1: \n",
            "SELECT AVG ( DEMOGRAPHIC.\"AGE\" ) FROM DEMOGRAPHIC INNER JOIN DIAGNOSES on DEMOGRAPHIC.HADM_ID = DIAGNOSES.HADM_ID INNER\n",
            "JOIN PRESCRIPTIONS on DEMOGRAPHIC.HADM_ID = PRESCRIPTIONS.HADM_ID WHERE DIAGNOSES.\"SHORT_TITLE\" = \"Specific hst\" AND\n",
            "PRESCRIPTIONS.\"DRUG\" = \"1\"\n",
            "\n",
            "\n",
            "➤ User query: 2: \n",
            "give me the number of patients who had single internal mammary-coronary artery bypass.\n",
            "\n",
            "\n",
            "➤ SQL query 2: \n",
            "SELECT COUNT ( DISTINCT DEMOGRAPHIC.\"SUBJECT_ID\" ) FROM DEMOGRAPHIC INNER JOIN PROCEDURES on DEMOGRAPHIC.HADM_ID =\n",
            "PROCEDURES.HADM_ID WHERE PROCEDURES.\"SHORT_TITLE\" = \"1 int mam-cor art bypass\"\n",
            "\n",
            "\n",
            "➤ User query: 3: \n",
            "provide the drug code and drug dose for anna johnson.\n",
            "\n",
            "\n",
            "➤ SQL query 3: \n",
            "SELECT PRESCRIPTIONS.\"FORMULARY_DRUG_CD\",PRESCRIPTIONS.\"DRUG_DOSE\" FROM DEMOGRAPHIC INNER JOIN PRESCRIPTIONS on\n",
            "DEMOGRAPHIC.HADM_ID = PRESCRIPTIONS.HADM_ID WHERE DEMOGRAPHIC.\"NAME\" = \"Anna Johnson\"\n",
            "\n",
            "\n",
            "➤ User query: 4: \n",
            "calculate the minimum age of married patients who had elective type hospital admission.\n",
            "\n",
            "\n",
            "➤ SQL query 4: \n",
            "SELECT MIN ( DEMOGRAPHIC.\"AGE\" ) FROM DEMOGRAPHIC WHERE DEMOGRAPHIC.\"MARITAL_STATUS\" = \"MARRIED\" AND\n",
            "DEMOGRAPHIC.\"ADMISSION_TYPE\" = \"ELECTIVE\"\n",
            "\n",
            "\n",
            "➤ User query: 5: \n",
            "What is the maximum age of patients who were hospitalized for 20 days and died before 2023 ?\n",
            "\n",
            "\n",
            "➤ SQL query 5: \n",
            "SELECT MAX ( DEMOGRAPHIC.\"AGE\" ) FROM DEMOGRAPHIC WHERE DEMOGRAPHIC.\"DAYS_STAY\" = \"20\" AND DEMOGRAPHIC.\"DOD_YEAR\" <\n",
            "\"2023.0\"\n",
            "\n",
            "\n"
          ]
        }
      ],
      "source": [
        "import textwrap\n",
        "\n",
        "for i in range(len(light_result)):\n",
        "    document_text = textwrap.fill(light_result[i]['document_prompt'][0], width=120)\n",
        "    summary_text = textwrap.fill(light_result[i]['sql_query'][0], width=120)\n",
        "\n",
        "    print(\"➤ User query: {}: \\n{}\".format(i+1, document_text))\n",
        "    print(\"\\n\")\n",
        "    print(\"➤ SQL query {}: \\n{}\".format(i+1, summary_text))\n",
        "    print(\"\\n\")"
      ]
    },
    {
      "cell_type": "markdown",
      "metadata": {
        "id": "RFaz3NkAoX8J"
      },
      "source": [
        "## 📑  **Text2SQL_With_Schema_Single_Table**\n",
        "\n",
        "This model can generate SQL queries from natural questions and custom database schemas with a single table. It is based on a large-size LLM, which is finetuned by John Snow Labs on a dataset having schemas with single tables."
      ]
    },
    {
      "cell_type": "code",
      "execution_count": 8,
      "metadata": {
        "colab": {
          "base_uri": "https://localhost:8080/"
        },
        "id": "P-TLgk95oSeA",
        "outputId": "7ac348d0-f3ba-4f2e-a81a-7b87641cb1e8"
      },
      "outputs": [
        {
          "output_type": "stream",
          "name": "stdout",
          "text": [
            "text2sql_with_schema_single_table download started this may take some time.\n",
            "Approximate size to download 2.8 GB\n",
            "[OK!]\n"
          ]
        }
      ],
      "source": [
        "document_assembler = DocumentAssembler()\\\n",
        "    .setInputCol(\"prompt\")\\\n",
        "    .setOutputCol(\"document_prompt\")\n",
        "\n",
        "\n",
        "query_schema = {\"patient\": [\"ID\",\"Name\",\"Age\",\"Gender\",\"BloodType\",\"Weight\",\"Height\",\"Address\",\"Email\",\"Phone\"] }\n",
        "\n",
        "text2sql_with_schema_single_table = Text2SQL.pretrained(\"text2sql_with_schema_single_table\", \"en\", \"clinical/models\")\\\n",
        "    .setMaxNewTokens(200)\\\n",
        "    .setSchema(query_schema)\\\n",
        "    .setInputCols([\"document_prompt\"])\\\n",
        "    .setOutputCol(\"sql_query\")\n",
        "\n",
        "pipeline = Pipeline(stages=[document_assembler, text2sql_with_schema_single_table])\n",
        "\n",
        "model = pipeline.fit(spark.createDataFrame([[\"\"]]).toDF(\"prompt\"))"
      ]
    },
    {
      "cell_type": "code",
      "execution_count": 9,
      "metadata": {
        "colab": {
          "base_uri": "https://localhost:8080/"
        },
        "id": "oJWhiPpusduO",
        "outputId": "52bb4ce0-1fa0-4e30-eaa3-8404049394df"
      },
      "outputs": [
        {
          "output_type": "stream",
          "name": "stdout",
          "text": [
            "+---------------------------------------------------------------------------+\n",
            "|result                                                                     |\n",
            "+---------------------------------------------------------------------------+\n",
            "|[SELECT AVG(Age) FROM patient WHERE BloodType = \"A-\"]                      |\n",
            "|[SELECT Name, Email FROM patient WHERE BloodType = \"B+\"]                   |\n",
            "|[SELECT COUNT(Name) FROM patient WHERE BloodType = \"A-\" AND Weight > 100kg]|\n",
            "+---------------------------------------------------------------------------+\n",
            "\n"
          ]
        }
      ],
      "source": [
        "text = [\"Calculate the average age of patients with blood type 'A-'\",\n",
        "        \"Retrieve the names and email addresses of patients with blood type 'B+'\",\n",
        "        \"Calculate the number of patients with blood type A- and weight above 100kg\"\n",
        "        ]\n",
        "\n",
        "data = spark.createDataFrame([(prompt,) for prompt in text], [\"prompt\"])\n",
        "\n",
        "result = model.transform(data)\n",
        "\n",
        "result.select(\"sql_query.result\").show(truncate=False)"
      ]
    },
    {
      "cell_type": "markdown",
      "metadata": {
        "id": "LcMXQlHGv2j2"
      },
      "source": [
        "Let's test with another custom database schema:"
      ]
    },
    {
      "cell_type": "code",
      "execution_count": 10,
      "metadata": {
        "colab": {
          "base_uri": "https://localhost:8080/"
        },
        "id": "TyGNW5NLsEs_",
        "outputId": "2d4f0a82-6869-4d83-ac1d-e40a3e7951da"
      },
      "outputs": [
        {
          "output_type": "stream",
          "name": "stdout",
          "text": [
            "+----------------------------------------------------------------+\n",
            "|result                                                          |\n",
            "+----------------------------------------------------------------+\n",
            "|[SELECT Name, Dosage FROM drug WHERE Quantity = \"50mcg\"]        |\n",
            "|[SELECT AVG(Price) FROM drug WHERE PrescriptionRequired = \"Yes\"]|\n",
            "|[SELECT Name, Price FROM drug WHERE Quantity = \"600mg\"]         |\n",
            "+----------------------------------------------------------------+\n",
            "\n"
          ]
        }
      ],
      "source": [
        "query_schema = {\"drug\": [\"ID\",\"Name\",\"Manufacturer\",\"Price\",\"ExpiryDate\",\"PrescriptionRequired\",\"SideEffects\",\"Dosage\",\"Quantity\"] }\n",
        "text2sql_with_schema_single_table.setSchema(query_schema)\n",
        "\n",
        "text = [\"Retrieve the names and dosages of drugs containing '50mcg'\",\n",
        "        \"Calculate the average price of drugs with a prescription requirement\",\n",
        "        \"Retrieve the names and prices of drugs containing '600mg'\"\n",
        "        ]\n",
        "\n",
        "data = spark.createDataFrame([(prompt,) for prompt in text], [\"prompt\"])\n",
        "\n",
        "result = model.transform(data)\n",
        "\n",
        "result.select(\"sql_query.result\").show(truncate=False)"
      ]
    },
    {
      "cell_type": "markdown",
      "metadata": {
        "id": "sAmqNL2Lw_OV"
      },
      "source": [
        "### **📍 LightPipelines**"
      ]
    },
    {
      "cell_type": "code",
      "execution_count": 11,
      "metadata": {
        "colab": {
          "base_uri": "https://localhost:8080/"
        },
        "id": "2bD5puTHwjR7",
        "outputId": "40bdda40-6e62-4a9f-db7d-2aaa59c26eaa"
      },
      "outputs": [
        {
          "output_type": "stream",
          "name": "stdout",
          "text": [
            "➤ User query: 1: \n",
            "Retrieve the names and dosages of drugs containing '50mcg'\n",
            "\n",
            "\n",
            "➤ SQL query 1: \n",
            "SELECT Name, Dosage FROM drug WHERE Quantity = \"50mcg\"\n",
            "\n",
            "\n",
            "➤ User query: 2: \n",
            "Calculate the average price of drugs with a prescription requirement\n",
            "\n",
            "\n",
            "➤ SQL query 2: \n",
            "SELECT AVG(Price) FROM drug WHERE PrescriptionRequired = \"Yes\"\n",
            "\n",
            "\n",
            "➤ User query: 3: \n",
            "Retrieve the names and prices of drugs containing '600mg'\n",
            "\n",
            "\n",
            "➤ SQL query 3: \n",
            "SELECT Name, Price FROM drug WHERE Quantity = \"600mg\"\n",
            "\n",
            "\n"
          ]
        }
      ],
      "source": [
        "light_model = LightPipeline(model)\n",
        "light_result = light_model.annotate(text)\n",
        "\n",
        "import textwrap\n",
        "\n",
        "for i in range(len(light_result)):\n",
        "    document_text = textwrap.fill(light_result[i]['document_prompt'][0], width=120)\n",
        "    summary_text = textwrap.fill(light_result[i]['sql_query'][0], width=120)\n",
        "\n",
        "    print(\"➤ User query: {}: \\n{}\".format(i+1, document_text))\n",
        "    print(\"\\n\")\n",
        "    print(\"➤ SQL query {}: \\n{}\".format(i+1, summary_text))\n",
        "    print(\"\\n\")"
      ]
    },
    {
      "cell_type": "markdown",
      "metadata": {
        "id": "UkgHkIWet1ya"
      },
      "source": [
        "## 📑  **Text2SQL_With_Schema_Single_Table_Augmented**\n",
        "\n",
        "\n",
        "This model is the State-of-the-Art (SOTA) for generating SQL queries from natural questions and custom database schemas with a single table. It is based on a large-size LLM, which is finetuned by John Snow Labs on an augmented dataset having schemas with single tables."
      ]
    },
    {
      "cell_type": "code",
      "execution_count": 16,
      "metadata": {
        "colab": {
          "base_uri": "https://localhost:8080/"
        },
        "id": "tMampMN8t6sJ",
        "outputId": "52a4dd25-5216-4b6d-bf2b-6df708385b1f"
      },
      "outputs": [
        {
          "output_type": "stream",
          "name": "stdout",
          "text": [
            "text2sql_with_schema_single_table_augmented download started this may take some time.\n",
            "Approximate size to download 2.8 GB\n",
            "[OK!]\n"
          ]
        }
      ],
      "source": [
        "query_schema = {\n",
        "    \"medical_treatment\": [\"patient_id\",\"patient_name\",\"age\",\"gender\",\"diagnosis\",\"treatment\",\"doctor_name\",\"hospital_name\",\"admission_date\",\"discharge_date\"]\n",
        "}\n",
        "\n",
        "text2sql_with_schema_single_table_augmented = Text2SQL.pretrained(\"text2sql_with_schema_single_table_augmented\", \"en\", \"clinical/models\")\\\n",
        "    .setMaxNewTokens(200)\\\n",
        "    .setSchema(query_schema)\\\n",
        "    .setInputCols([\"document_prompt\"])\\\n",
        "    .setOutputCol(\"sql_query\")\n",
        "\n",
        "pipeline = Pipeline(stages=[document_assembler, text2sql_with_schema_single_table_augmented])\n",
        "\n",
        "model = pipeline.fit(spark.createDataFrame([[\"\"]]).toDF(\"prompt\"))"
      ]
    },
    {
      "cell_type": "code",
      "execution_count": 17,
      "metadata": {
        "colab": {
          "base_uri": "https://localhost:8080/"
        },
        "id": "lrBO8oCdt8ys",
        "outputId": "70245a91-9587-43b5-9a9b-98d9dd50035a"
      },
      "outputs": [
        {
          "output_type": "stream",
          "name": "stdout",
          "text": [
            "+-------------------------------------------------------------------------------------------+\n",
            "|result                                                                                     |\n",
            "+-------------------------------------------------------------------------------------------+\n",
            "|[SELECT patient_name FROM medical_treatment WHERE admission_date = \"September 2023\"]       |\n",
            "|[SELECT AVG(age) FROM medical_treatment WHERE gender = 'female' AND diagnosis = 'diabetes']|\n",
            "|[SELECT patient_name FROM medical_treatment WHERE doctor_name = \"Dr. Brown\"]               |\n",
            "+-------------------------------------------------------------------------------------------+\n",
            "\n"
          ]
        }
      ],
      "source": [
        "text = [\"Which patients were admitted in September 2023?\",\n",
        "        \"What is the average age of female patients with 'Diabetes'?\",\n",
        "        \"Who are the patients treated by 'Dr. Brown'?\"\n",
        "        ]\n",
        "\n",
        "data = spark.createDataFrame([(prompt,) for prompt in text], [\"prompt\"])\n",
        "\n",
        "result = model.transform(data)\n",
        "\n",
        "result.select(\"sql_query.result\").show(truncate=False)"
      ]
    },
    {
      "cell_type": "markdown",
      "metadata": {
        "id": "hZqLFJpYt_Rf"
      },
      "source": [
        "### **📍 LightPipelines**"
      ]
    },
    {
      "cell_type": "code",
      "execution_count": 18,
      "metadata": {
        "colab": {
          "base_uri": "https://localhost:8080/"
        },
        "id": "nanFND5guBmy",
        "outputId": "83823ffb-26b2-4f22-eace-0fc949552bd8"
      },
      "outputs": [
        {
          "output_type": "stream",
          "name": "stdout",
          "text": [
            "➤ User query: 1: \n",
            "Which patients were admitted in September 2023?\n",
            "\n",
            "\n",
            "➤ SQL query 1: \n",
            "SELECT patient_name FROM medical_treatment WHERE admission_date = \"September 2023\"\n",
            "\n",
            "\n",
            "➤ User query: 2: \n",
            "What is the average age of female patients with 'Diabetes'?\n",
            "\n",
            "\n",
            "➤ SQL query 2: \n",
            "SELECT AVG(age) FROM medical_treatment WHERE gender = 'female' AND diagnosis = 'diabetes'\n",
            "\n",
            "\n",
            "➤ User query: 3: \n",
            "Who are the patients treated by 'Dr. Brown'?\n",
            "\n",
            "\n",
            "➤ SQL query 3: \n",
            "SELECT patient_name FROM medical_treatment WHERE doctor_name = \"Dr. Brown\"\n",
            "\n",
            "\n"
          ]
        }
      ],
      "source": [
        "light_model = LightPipeline(model)\n",
        "light_result = light_model.annotate(text)\n",
        "\n",
        "for i in range(len(light_result)):\n",
        "    document_text = textwrap.fill(light_result[i]['document_prompt'][0], width=120)\n",
        "    summary_text = textwrap.fill(light_result[i]['sql_query'][0], width=120)\n",
        "\n",
        "    print(\"➤ User query: {}: \\n{}\".format(i+1, document_text))\n",
        "    print(\"\\n\")\n",
        "    print(\"➤ SQL query {}: \\n{}\".format(i+1, summary_text))\n",
        "    print(\"\\n\")"
      ]
    }
  ],
  "metadata": {
    "colab": {
      "machine_shape": "hm",
      "provenance": [],
      "gpuType": "V6E1"
    },
    "kernelspec": {
      "display_name": "Python 3",
      "name": "python3"
    },
    "language_info": {
      "name": "python"
    },
    "accelerator": "TPU"
  },
  "nbformat": 4,
  "nbformat_minor": 0
}
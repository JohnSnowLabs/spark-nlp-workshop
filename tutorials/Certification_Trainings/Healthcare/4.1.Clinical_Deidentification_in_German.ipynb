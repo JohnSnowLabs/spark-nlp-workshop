{
  "nbformat": 4,
  "nbformat_minor": 0,
  "metadata": {
    "colab": {
      "name": "4.1.Clinical_Deidentification_in_German.ipynb",
      "provenance": [],
      "collapsed_sections": []
    },
    "kernelspec": {
      "name": "python3",
      "display_name": "Python 3"
    },
    "language_info": {
      "name": "python"
    }
  },
  "cells": [
    {
      "cell_type": "markdown",
      "metadata": {
        "id": "I08sFJYCxR0Z"
      },
      "source": [
        "![JohnSnowLabs](https://nlp.johnsnowlabs.com/assets/images/logo.png)"
      ]
    },
    {
      "cell_type": "markdown",
      "metadata": {
        "id": "FwJ-P56kq6FU"
      },
      "source": [
        "[![Open In Colab](https://colab.research.google.com/assets/colab-badge.svg)](https://colab.research.google.com/github/JohnSnowLabs/spark-nlp-workshop/blob/master/tutorials/Certification_Trainings/Healthcare/4.1.Clinical_Deidentification_in_German.ipynb)"
      ]
    },
    {
      "cell_type": "markdown",
      "source": [
        "# Clinical Deidentification in German\n",
        "\n",
        "**Protected Health Information**:\n",
        "\n",
        "Individual’s past, present, or future physical or mental health or condition\n",
        "provision of health care to the individual\n",
        "past, present, or future payment for the health care\n",
        "Protected health information includes many common identifiers (e.g., name, address, birth date, Social Security Number) when they can be associated with the health information."
      ],
      "metadata": {
        "id": "Z7X1prqVxdB2"
      }
    },
    {
      "cell_type": "code",
      "metadata": {
        "id": "RWh6i1PtvE77"
      },
      "source": [
        "import json\n",
        "import os\n",
        "\n",
        "from google.colab import files\n",
        "\n",
        "if 'spark_jsl.json' not in os.listdir():\n",
        "  license_keys = files.upload()\n",
        "  os.rename(list(license_keys.keys())[0], 'spark_jsl.json')\n",
        "\n",
        "with open('spark_jsl.json') as f:\n",
        "    license_keys = json.load(f)\n",
        "\n",
        "# Defining license key-value pairs as local variables\n",
        "locals().update(license_keys)\n",
        "os.environ.update(license_keys)"
      ],
      "execution_count": 1,
      "outputs": []
    },
    {
      "cell_type": "code",
      "metadata": {
        "id": "MfOGbhC2wTyp"
      },
      "source": [
        "# Installing pyspark and spark-nlp\n",
        "! pip install --upgrade -q pyspark==3.1.2\n",
        "\n",
        "# Installing Spark NLP Healthcare\n",
        "! pip install --upgrade -q spark-nlp-jsl==$JSL_VERSION  --extra-index-url https://pypi.johnsnowlabs.com/$SECRET"
      ],
      "execution_count": 2,
      "outputs": []
    },
    {
      "cell_type": "code",
      "source": [
        "from pyspark.ml import Pipeline, PipelineModel\n",
        "from pyspark.sql import functions as F\n",
        "from pyspark.sql import SparkSession\n",
        "\n",
        "from sparknlp.base import *\n",
        "from sparknlp.annotator import *\n",
        "from sparknlp.pretrained import ResourceDownloader\n",
        "from sparknlp.util import *\n",
        "\n",
        "from sparknlp_jsl.annotator import *\n",
        "\n",
        "import sys\n",
        "import os\n",
        "import json\n",
        "import pandas as pd\n",
        "import string\n",
        "import numpy as np\n",
        "import sparknlp\n",
        "import sparknlp_jsl\n",
        "\n",
        "params = {\"spark.driver.memory\":\"16G\", \n",
        "          \"spark.kryoserializer.buffer.max\":\"2000M\", \n",
        "          \"spark.driver.maxResultSize\":\"2000M\"} \n",
        "\n",
        "spark = sparknlp_jsl.start(SECRET, params=params)\n",
        "\n",
        "spark"
      ],
      "metadata": {
        "id": "nou6cgDm35Vq",
        "colab": {
          "base_uri": "https://localhost:8080/",
          "height": 216
        },
        "outputId": "d5ef13b5-ed5d-4813-f752-a3ea010a3f48"
      },
      "execution_count": 3,
      "outputs": [
        {
          "output_type": "execute_result",
          "data": {
            "text/html": [
              "\n",
              "            <div>\n",
              "                <p><b>SparkSession - in-memory</b></p>\n",
              "                \n",
              "        <div>\n",
              "            <p><b>SparkContext</b></p>\n",
              "\n",
              "            <p><a href=\"http://a30d292b42f6:4040\">Spark UI</a></p>\n",
              "\n",
              "            <dl>\n",
              "              <dt>Version</dt>\n",
              "                <dd><code>v3.1.2</code></dd>\n",
              "              <dt>Master</dt>\n",
              "                <dd><code>local[*]</code></dd>\n",
              "              <dt>AppName</dt>\n",
              "                <dd><code>Spark NLP Licensed</code></dd>\n",
              "            </dl>\n",
              "        </div>\n",
              "        \n",
              "            </div>\n",
              "        "
            ],
            "text/plain": [
              "<pyspark.sql.session.SparkSession at 0x7fc9f766b4d0>"
            ]
          },
          "metadata": {},
          "execution_count": 3
        }
      ]
    },
    {
      "cell_type": "code",
      "metadata": {
        "colab": {
          "base_uri": "https://localhost:8080/"
        },
        "id": "fwMiy7-qmUF-",
        "outputId": "0596cc78-4e48-4214-f7b7-668dd617d90d"
      },
      "source": [
        "print (\"Spark NLP Version :\", sparknlp.version())\n",
        "print (\"Spark NLP_JSL Version :\", sparknlp_jsl.version())"
      ],
      "execution_count": 4,
      "outputs": [
        {
          "output_type": "stream",
          "name": "stdout",
          "text": [
            "Spark NLP Version : 3.4.0\n",
            "Spark NLP_JSL Version : 3.4.0\n"
          ]
        }
      ]
    },
    {
      "cell_type": "markdown",
      "source": [
        "# 1. German NER Deidentification Models "
      ],
      "metadata": {
        "id": "VAyEoiHVuhbp"
      }
    },
    {
      "cell_type": "markdown",
      "source": [
        "### Creating pipeline"
      ],
      "metadata": {
        "id": "V1eksdJQoF4e"
      }
    },
    {
      "cell_type": "code",
      "source": [
        "# Annotator that transforms a text column from dataframe into an Annotation ready for NLP\n",
        "documentAssembler = DocumentAssembler()\\\n",
        "    .setInputCol(\"text\")\\\n",
        "    .setOutputCol(\"document\")\n",
        "\n",
        "sentencerDL = SentenceDetectorDLModel.pretrained(\"sentence_detector_dl\", \"xx\") \\\n",
        "    .setInputCols([\"document\"])\\\n",
        "    .setOutputCol(\"sentence\")\n",
        "\n",
        "# Tokenizer splits words in a relevant format for NLP\n",
        "tokenizer = Tokenizer()\\\n",
        "    .setInputCols([\"sentence\"])\\\n",
        "    .setOutputCol(\"token\")\n",
        "\n",
        "word_embeddings = WordEmbeddingsModel.pretrained(\"w2v_cc_300d\",\"de\",\"clinical/models\")\\\n",
        "    .setInputCols([\"document\",\"token\"])\\\n",
        "\t.setOutputCol(\"embeddings\")"
      ],
      "metadata": {
        "colab": {
          "base_uri": "https://localhost:8080/"
        },
        "id": "snKDCdXwoNy4",
        "outputId": "2976dbc8-a451-440e-b479-31db0f7760d4"
      },
      "execution_count": 5,
      "outputs": [
        {
          "output_type": "stream",
          "name": "stdout",
          "text": [
            "sentence_detector_dl download started this may take some time.\n",
            "Approximate size to download 514.9 KB\n",
            "[OK!]\n",
            "w2v_cc_300d download started this may take some time.\n",
            "Approximate size to download 1.2 GB\n",
            "[OK!]\n"
          ]
        }
      ]
    },
    {
      "cell_type": "markdown",
      "source": [
        "## 1.1. NER Deid Generic\n",
        "\n",
        "**`ner_deid_generic`** extracts:\n",
        "- Name\n",
        "- Profession\n",
        "- Age\n",
        "- Date\n",
        "- Contact (Telephone numbers, FAX numbers, Email addresses)\n",
        "- Location (Address, City, Postal code, Hospital Name, Employment information)\n",
        "- Id (Social Security numbers, Medical record numbers, Internet protocol addresses)\n",
        "\n"
      ],
      "metadata": {
        "id": "3ZuJrSX6tT9m"
      }
    },
    {
      "cell_type": "code",
      "source": [
        "ner_generic = MedicalNerModel.pretrained(\"ner_deid_generic\", \"de\", \"clinical/models\")\\\n",
        "    .setInputCols([\"sentence\",\"token\",\"embeddings\"])\\\n",
        "    .setOutputCol(\"ner_deid_generic\")\n",
        "\n",
        "ner_converter_generic = NerConverter()\\\n",
        "    .setInputCols([\"sentence\",\"token\",\"ner_deid_generic\"])\\\n",
        "    .setOutputCol(\"ner_chunk_generic\")"
      ],
      "metadata": {
        "colab": {
          "base_uri": "https://localhost:8080/"
        },
        "id": "C-qUIvqpsjV0",
        "outputId": "b77624fe-45bf-4f67-8e17-630901b5e33d"
      },
      "execution_count": 6,
      "outputs": [
        {
          "output_type": "stream",
          "name": "stdout",
          "text": [
            "ner_deid_generic download started this may take some time.\n",
            "Approximate size to download 14.3 MB\n",
            "[OK!]\n"
          ]
        }
      ]
    },
    {
      "cell_type": "code",
      "source": [
        "ner_generic.getClasses()"
      ],
      "metadata": {
        "colab": {
          "base_uri": "https://localhost:8080/"
        },
        "id": "j7Xy9E_hxN5y",
        "outputId": "a4484f13-bf7b-49e0-b7c1-af103adeb8eb"
      },
      "execution_count": 7,
      "outputs": [
        {
          "output_type": "execute_result",
          "data": {
            "text/plain": [
              "['O',\n",
              " 'I-LOCATION',\n",
              " 'B-DATE',\n",
              " 'I-NAME',\n",
              " 'B-LOCATION',\n",
              " 'I-DATE',\n",
              " 'B-ID',\n",
              " 'B-AGE',\n",
              " 'B-CONTACT',\n",
              " 'B-PROFESSION',\n",
              " 'B-NAME']"
            ]
          },
          "metadata": {},
          "execution_count": 7
        }
      ]
    },
    {
      "cell_type": "markdown",
      "source": [
        "## 1.2. NER Deid Subentity\n",
        "\n",
        "**`ner_deid_subentity`** extracts:\n",
        "\n",
        "- Patient\n",
        "- Doctor\n",
        "- Hospital\n",
        "- Date\n",
        "- Organization\n",
        "- City\n",
        "- Street\n",
        "- User Name\n",
        "- Profession\n",
        "- Phone\n",
        "- Country\n",
        "- Age"
      ],
      "metadata": {
        "id": "3NjkLF70tYdZ"
      }
    },
    {
      "cell_type": "code",
      "source": [
        "ner_subentity = MedicalNerModel.pretrained(\"ner_deid_subentity\", \"de\", \"clinical/models\")\\\n",
        "    .setInputCols([\"sentence\",\"token\",\"embeddings\"])\\\n",
        "    .setOutputCol(\"ner_deid_subentity\")\n",
        "\n",
        "ner_converter_subentity = NerConverter()\\\n",
        "    .setInputCols([\"sentence\", \"token\", \"ner_deid_subentity\"])\\\n",
        "    .setOutputCol(\"ner_chunk_subentity\")"
      ],
      "metadata": {
        "colab": {
          "base_uri": "https://localhost:8080/"
        },
        "id": "C8n-h6D9tJXx",
        "outputId": "568f7dd5-6cb1-4055-ba76-0dd9f66e5dea"
      },
      "execution_count": 8,
      "outputs": [
        {
          "output_type": "stream",
          "name": "stdout",
          "text": [
            "ner_deid_subentity download started this may take some time.\n",
            "Approximate size to download 14.3 MB\n",
            "[OK!]\n"
          ]
        }
      ]
    },
    {
      "cell_type": "code",
      "source": [
        "ner_subentity.getClasses()"
      ],
      "metadata": {
        "colab": {
          "base_uri": "https://localhost:8080/"
        },
        "id": "Oda9sjHDxRyi",
        "outputId": "ab61c2bb-3c77-46c7-be50-33d4de29ba54"
      },
      "execution_count": 9,
      "outputs": [
        {
          "output_type": "execute_result",
          "data": {
            "text/plain": [
              "['O',\n",
              " 'B-ORGANIZATION',\n",
              " 'I-DOCTOR',\n",
              " 'B-DOCTOR',\n",
              " 'B-USERNAME',\n",
              " 'I-CITY',\n",
              " 'I-DATE',\n",
              " 'B-COUNTRY',\n",
              " 'B-PROFESSION',\n",
              " 'I-STREET',\n",
              " 'I-PATIENT',\n",
              " 'B-PHONE',\n",
              " 'B-CITY',\n",
              " 'B-HOSPITAL',\n",
              " 'B-DATE',\n",
              " 'B-STREET',\n",
              " 'B-PATIENT',\n",
              " 'I-ORGANIZATION',\n",
              " 'I-HOSPITAL',\n",
              " 'B-AGE',\n",
              " 'I-COUNTRY']"
            ]
          },
          "metadata": {},
          "execution_count": 9
        }
      ]
    },
    {
      "cell_type": "markdown",
      "source": [
        "## 1.4. Pipeline"
      ],
      "metadata": {
        "id": "Eqg29dPuvl5f"
      }
    },
    {
      "cell_type": "code",
      "source": [
        "nlpPipeline = Pipeline(stages=[\n",
        "      documentAssembler, \n",
        "      sentencerDL,\n",
        "      tokenizer,\n",
        "      word_embeddings,\n",
        "      ner_generic,\n",
        "      ner_converter_generic,\n",
        "      ner_subentity,\n",
        "      ner_converter_subentity,\n",
        "      ])\n",
        "\n",
        "empty_data = spark.createDataFrame([[\"\"]]).toDF(\"text\")\n",
        "\n",
        "model = nlpPipeline.fit(empty_data)"
      ],
      "metadata": {
        "id": "P0HZXLF6ueWi"
      },
      "execution_count": 10,
      "outputs": []
    },
    {
      "cell_type": "code",
      "source": [
        "text = \"\"\"Michael Berger wird am Morgen des 12 Dezember 2018 ins St. Elisabeth-Krankenhaus in Bad Kissingen eingeliefert. Herr Berger ist 76 Jahre alt und hat zu viel Wasser in den Beinen.\"\"\"\n",
        "\n",
        "text_df = spark.createDataFrame([[text]]).toDF(\"text\")\n",
        "\n",
        "result = model.transform(text_df)\n"
      ],
      "metadata": {
        "id": "fG4Vc36EwhFk"
      },
      "execution_count": 11,
      "outputs": []
    },
    {
      "cell_type": "markdown",
      "source": [
        "### Results for `ner_subentity`"
      ],
      "metadata": {
        "id": "y-CMPYTHz-L2"
      }
    },
    {
      "cell_type": "code",
      "source": [
        "result.select(F.explode(F.arrays_zip('ner_chunk_subentity.result', 'ner_chunk_subentity.metadata')).alias(\"cols\")) \\\n",
        ".select(F.expr(\"cols['0']\").alias(\"chunk\"),\n",
        "        F.expr(\"cols['1']['entity']\").alias(\"ner_label\")).show(truncate=False)"
      ],
      "metadata": {
        "colab": {
          "base_uri": "https://localhost:8080/"
        },
        "id": "vEtBcyIjzLA3",
        "outputId": "ae8d7896-3488-4814-d158-e9ef5aaadd8f"
      },
      "execution_count": 12,
      "outputs": [
        {
          "output_type": "stream",
          "name": "stdout",
          "text": [
            "+--------------------------------------+---------+\n",
            "|chunk                                 |ner_label|\n",
            "+--------------------------------------+---------+\n",
            "|Michael Berger                        |PATIENT  |\n",
            "|12 Dezember 2018                      |DATE     |\n",
            "|Elisabeth-Krankenhaus in Bad Kissingen|HOSPITAL |\n",
            "|Berger                                |PATIENT  |\n",
            "|76                                    |AGE      |\n",
            "+--------------------------------------+---------+\n",
            "\n"
          ]
        }
      ]
    },
    {
      "cell_type": "markdown",
      "source": [
        "### Results for `ner_generic`"
      ],
      "metadata": {
        "id": "MNUKLQMi0GjT"
      }
    },
    {
      "cell_type": "code",
      "source": [
        "result.select(F.explode(F.arrays_zip('ner_chunk_generic.result', 'ner_chunk_generic.metadata')).alias(\"cols\")) \\\n",
        ".select(F.expr(\"cols['0']\").alias(\"chunk\"),\n",
        "        F.expr(\"cols['1']['entity']\").alias(\"ner_label\")).show(truncate=False)"
      ],
      "metadata": {
        "colab": {
          "base_uri": "https://localhost:8080/"
        },
        "id": "K2wDmdiFzwDb",
        "outputId": "40cda3dd-cff5-4da9-bc3e-30670167e83a"
      },
      "execution_count": 13,
      "outputs": [
        {
          "output_type": "stream",
          "name": "stdout",
          "text": [
            "+-------------------------+---------+\n",
            "|chunk                    |ner_label|\n",
            "+-------------------------+---------+\n",
            "|Michael Berger           |NAME     |\n",
            "|12 Dezember 2018         |DATE     |\n",
            "|St. Elisabeth-Krankenhaus|LOCATION |\n",
            "|Bad Kissingen            |LOCATION |\n",
            "|Berger                   |NAME     |\n",
            "|76                       |AGE      |\n",
            "+-------------------------+---------+\n",
            "\n"
          ]
        }
      ]
    },
    {
      "cell_type": "markdown",
      "source": [
        "## Deidentification"
      ],
      "metadata": {
        "id": "u-OTUyBK6yrt"
      }
    },
    {
      "cell_type": "code",
      "source": [
        "# Downloading faker entity list.\n",
        "! wget -q https://raw.githubusercontent.com/JohnSnowLabs/spark-nlp-workshop/master/tutorials/Certification_Trainings/Healthcare/data/obfuscate.txt"
      ],
      "metadata": {
        "id": "pbJisU_u7Kpl"
      },
      "execution_count": 14,
      "outputs": []
    },
    {
      "cell_type": "code",
      "source": [
        "deid_masked_entity = DeIdentification()\\\n",
        "    .setInputCols([\"sentence\", \"token\", \"ner_chunk_subentity\"])\\\n",
        "    .setOutputCol(\"masked_with_entity\")\\\n",
        "    .setMode(\"mask\")\\\n",
        "    .setMaskingPolicy(\"entity_labels\")\\\n",
        "\n",
        "deid_masked_char = DeIdentification()\\\n",
        "    .setInputCols([\"sentence\", \"token\", \"ner_chunk_subentity\"])\\\n",
        "    .setOutputCol(\"masked_with_chars\")\\\n",
        "    .setMode(\"mask\")\\\n",
        "    .setMaskingPolicy(\"same_length_chars\")\\\n",
        "\n",
        "deid_masked_fixed_char = DeIdentification()\\\n",
        "    .setInputCols([\"sentence\", \"token\", \"ner_chunk_subentity\"])\\\n",
        "    .setOutputCol(\"masked_fixed_length_chars\")\\\n",
        "    .setMode(\"mask\")\\\n",
        "    .setMaskingPolicy(\"fixed_length_chars\")\\\n",
        "    .setFixedMaskLength(4)\\\n",
        "\n",
        "deid_obfuscated = DeIdentification()\\\n",
        "      .setInputCols([\"sentence\", \"token\", \"ner_chunk_subentity\"]) \\\n",
        "      .setOutputCol(\"obfuscated\") \\\n",
        "      .setMode(\"obfuscate\")\\\n",
        "      .setObfuscateDate(True)\\\n",
        "      .setObfuscateRefSource('faker')\\\n",
        "      .setObfuscateRefFile('obfuscate.txt')\\\n",
        "      .setObfuscateRefSource(\"file\")\\"
      ],
      "metadata": {
        "id": "CBo2T-sZ64IJ"
      },
      "execution_count": 15,
      "outputs": []
    },
    {
      "cell_type": "code",
      "source": [
        "nlpPipeline = Pipeline(stages=[\n",
        "      documentAssembler, \n",
        "      sentencerDL,\n",
        "      tokenizer,\n",
        "      word_embeddings,\n",
        "      ner_subentity,\n",
        "      ner_converter_subentity,\n",
        "      deid_masked_entity,\n",
        "      deid_masked_char,\n",
        "      deid_masked_fixed_char,\n",
        "      deid_obfuscated\n",
        "      ])\n",
        "\n",
        "empty_data = spark.createDataFrame([[\"\"]]).toDF(\"text\")\n",
        "\n",
        "model = nlpPipeline.fit(empty_data)"
      ],
      "metadata": {
        "id": "h9pmXn0f75ST"
      },
      "execution_count": 16,
      "outputs": []
    },
    {
      "cell_type": "code",
      "source": [
        "deid_lp = LightPipeline(model)"
      ],
      "metadata": {
        "id": "oVOL3bwr8J18"
      },
      "execution_count": 17,
      "outputs": []
    },
    {
      "cell_type": "code",
      "source": [
        "text = \"\"\"Michael Berger wird am Morgen des 12 Dezember 2018 ins St. Elisabeth-Krankenhaus in Bad Kissingen eingeliefert. Herr Berger ist 76 Jahre alt und hat zu viel Wasser in den Beinen.\"\"\""
      ],
      "metadata": {
        "id": "Maco1EiD8TK4"
      },
      "execution_count": 18,
      "outputs": []
    },
    {
      "cell_type": "code",
      "source": [
        "result = deid_lp.annotate(text)\n",
        "\n",
        "print(\"\\n\".join(result['masked_with_entity']))\n",
        "print(\"\\n\")\n",
        "print(\"\\n\".join(result['masked_with_chars']))\n",
        "print(\"\\n\")\n",
        "print(\"\\n\".join(result['masked_fixed_length_chars']))\n",
        "print(\"\\n\")\n",
        "print(\"\\n\".join(result['obfuscated']))"
      ],
      "metadata": {
        "colab": {
          "base_uri": "https://localhost:8080/"
        },
        "id": "CXEmE1i78PX4",
        "outputId": "c58d42d6-5f87-4c8f-d909-b58d37749c65"
      },
      "execution_count": 19,
      "outputs": [
        {
          "output_type": "stream",
          "name": "stdout",
          "text": [
            "<PATIENT> wird am Morgen des <DATE> ins St. <HOSPITAL> eingeliefert.\n",
            "Herr <PATIENT> ist <AGE> Jahre alt und hat zu viel Wasser in den Beinen.\n",
            "\n",
            "\n",
            "[************] wird am Morgen des [**************] ins St. [************************************] eingeliefert.\n",
            "Herr [****] ist ** Jahre alt und hat zu viel Wasser in den Beinen.\n",
            "\n",
            "\n",
            "**** wird am Morgen des **** ins St. **** eingeliefert.\n",
            "Herr **** ist **** Jahre alt und hat zu viel Wasser in den Beinen.\n",
            "\n",
            "\n",
            "Kasimir Adler-Barth wird am Morgen des 06-15-1974 ins St. Asklepios Schlossberg Klinik eingeliefert.\n",
            "Herr Peter-Michael Henk-Lübs ist 50 Jahre alt und hat zu viel Wasser in den Beinen.\n"
          ]
        }
      ]
    },
    {
      "cell_type": "markdown",
      "source": [
        "# 2. Pretrained German Deidentification Pipeline\n",
        "\n",
        "- We developed a clinical deidentification pretrained pipeline that can be used to deidentify PHI information from German medical texts. The PHI information will be masked and obfuscated in the resulting text. \n",
        "- The pipeline can mask and obfuscate:\n",
        "    - Patient\n",
        "    - Doctor\n",
        "    - Hospital\n",
        "    - Date\n",
        "    - Organization\n",
        "    - City\n",
        "    - Street\n",
        "    - Country\n",
        "    - User name\n",
        "    - Profession\n",
        "    - Phone\n",
        "    - Age\n",
        "    - Contact\n",
        "    - ID\n",
        "    - Phone\n",
        "    - Zip\n",
        "    - Account\n",
        "    - SSN\n",
        "    - Driver's License Number\n",
        "    - Plate Number"
      ],
      "metadata": {
        "id": "RRuq9NeemSaf"
      }
    },
    {
      "cell_type": "code",
      "source": [
        "from sparknlp.pretrained import PretrainedPipeline\n",
        "\n",
        "deid_pipeline = PretrainedPipeline(\"clinical_deidentification\", \"de\", \"clinical/models\")"
      ],
      "metadata": {
        "colab": {
          "base_uri": "https://localhost:8080/"
        },
        "id": "_vBWjdVTFGHD",
        "outputId": "e283688d-4e71-4692-b5b7-a554212e1ff8"
      },
      "execution_count": 20,
      "outputs": [
        {
          "output_type": "stream",
          "name": "stdout",
          "text": [
            "clinical_deidentification download started this may take some time.\n",
            "Approx size to download 1.2 GB\n",
            "[OK!]\n"
          ]
        }
      ]
    },
    {
      "cell_type": "code",
      "source": [
        "text = \"\"\"Zusammenfassung : Michael Berger wird am Morgen des 12 Dezember 2018 ins St.Elisabeth Krankenhaus in Bad Kissingen eingeliefert. \n",
        "Herr Michael Berger ist 76 Jahre alt und hat zu viel Wasser in den Beinen.\n",
        "\n",
        "Persönliche Daten :\n",
        "ID-Nummer: T0110053F\n",
        "Platte A-BC124\n",
        "Kontonummer: DE89370400440532013000\n",
        "SSN : 13110587M565\n",
        "Lizenznummer: B072RRE2I55\n",
        "Adresse : St.Johann-Straße 13 19300\"\"\"\n",
        "\n",
        "result = deid_pipeline.annotate(text)\n",
        "print(\"\\n\".join(result['masked_with_chars']))\n",
        "print(\"\\n\")\n",
        "print(\"\\n\".join(result['masked']))\n",
        "print(\"\\n\")\n",
        "print(\"\\n\".join(result['masked_fixed_length_chars']))\n",
        "print(\"\\n\")\n",
        "print(\"\\n\".join(result['obfuscated']))"
      ],
      "metadata": {
        "colab": {
          "base_uri": "https://localhost:8080/"
        },
        "id": "Esy1Yis8Hn1X",
        "outputId": "b447ac2a-9b2d-4cbf-a89e-0cf94255b7ee"
      },
      "execution_count": 21,
      "outputs": [
        {
          "output_type": "stream",
          "name": "stdout",
          "text": [
            "Zusammenfassung : [************] wird am Morgen des [**************] ins [***************************************] eingeliefert.\n",
            "Herr [************] ist ** Jahre alt und hat zu viel Wasser in den Beinen.\n",
            "Persönliche Daten :\n",
            "ID-Nummer: [*******]\n",
            "Platte [*****]\n",
            "Kontonummer: [********************]\n",
            "SSN : [**********]\n",
            "Lizenznummer: [*********]\n",
            "Adresse : [*****************] [***]\n",
            "\n",
            "\n",
            "Zusammenfassung : <PATIENT> wird am Morgen des <DATE> ins <HOSPITAL> eingeliefert.\n",
            "Herr <PATIENT> ist <AGE> Jahre alt und hat zu viel Wasser in den Beinen.\n",
            "Persönliche Daten :\n",
            "ID-Nummer: <ID>\n",
            "Platte <PLATE>\n",
            "Kontonummer: <ACCOUNT>\n",
            "SSN : <SSN>\n",
            "Lizenznummer: <DLN>\n",
            "Adresse : <STREET> <ZIP>\n",
            "\n",
            "\n",
            "Zusammenfassung : **** wird am Morgen des **** ins **** eingeliefert.\n",
            "Herr **** ist **** Jahre alt und hat zu viel Wasser in den Beinen.\n",
            "Persönliche Daten :\n",
            "ID-Nummer: ****\n",
            "Platte ****\n",
            "Kontonummer: ****\n",
            "SSN : ****\n",
            "Lizenznummer: ****\n",
            "Adresse : **** ****\n",
            "\n",
            "\n",
            "Zusammenfassung : Herrmann Kallert wird am Morgen des 11-26-1977 ins Universitätsklinikum Jena eingeliefert.\n",
            "Herr Herrmann Kallert ist 79 Jahre alt und hat zu viel Wasser in den Beinen.\n",
            "Persönliche Daten :\n",
            "ID-Nummer: 136704D357\n",
            "Platte QA348G\n",
            "Kontonummer: 192837465738\n",
            "SSN : 1310011981M454\n",
            "Lizenznummer: XX123456\n",
            "Adresse : Klingelhöferring 31206\n"
          ]
        }
      ]
    }
  ]
}
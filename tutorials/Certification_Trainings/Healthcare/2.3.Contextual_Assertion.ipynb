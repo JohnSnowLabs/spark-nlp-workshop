{
  "nbformat": 4,
  "nbformat_minor": 0,
  "metadata": {
    "colab": {
      "provenance": [],
      "toc_visible": true
    },
    "kernelspec": {
      "name": "python3",
      "display_name": "Python 3"
    },
    "language_info": {
      "name": "python"
    }
  },
  "cells": [
    {
      "cell_type": "markdown",
      "source": [
        "![JohnSnowLabs](https://nlp.johnsnowlabs.com/assets/images/logo.png)"
      ],
      "metadata": {
        "id": "rZNvKPHPgrYg"
      }
    },
    {
      "cell_type": "markdown",
      "source": [
        "[![Open In Colab](https://colab.research.google.com/assets/colab-badge.svg)](https://colab.research.google.com/github/JohnSnowLabs/spark-nlp-workshop/blob/master/tutorials/Certification_Trainings/Healthcare/2.3.Contextual_Assertion.ipynb)"
      ],
      "metadata": {
        "id": "A4HVg4gwgxCR"
      }
    },
    {
      "cell_type": "markdown",
      "source": [
        "# 📜Contextual Assertion"
      ],
      "metadata": {
        "id": "h6tS8JrcFV4R"
      }
    },
    {
      "cell_type": "markdown",
      "source": [
        "\n",
        "\n",
        "This model identifies  contextual cues within text data, such as negation, uncertainty etc. It is used\n",
        "clinical assertion detection, etc. It annotates text chunks with assertions based on configurable rules,\n",
        "prefix and suffix patterns, and exception patterns.\n",
        "\n"
      ],
      "metadata": {
        "id": "NzQ-FurKg5j7"
      }
    },
    {
      "cell_type": "markdown",
      "source": [
        "## **🎬 Colab Setup**"
      ],
      "metadata": {
        "id": "6WOk4eXRFwgT"
      }
    },
    {
      "cell_type": "code",
      "source": [
        "\n",
        "import json\n",
        "import os\n",
        "\n",
        "from google.colab import files\n",
        "\n",
        "if 'spark_jsl.json' not in os.listdir():\n",
        "  license_keys = files.upload()\n",
        "  os.rename(list(license_keys.keys())[0], 'spark_jsl.json')\n",
        "\n",
        "with open('spark_jsl.json') as f:\n",
        "    license_keys = json.load(f)\n",
        "\n",
        "# Defining license key-value pairs as local variables\n",
        "locals().update(license_keys)\n",
        "os.environ.update(license_keys)"
      ],
      "metadata": {
        "id": "q2mnGTQQWvYv"
      },
      "execution_count": null,
      "outputs": []
    },
    {
      "cell_type": "code",
      "source": [
        "# Installing pyspark and spark-nlp\n",
        "! pip install --upgrade -q pyspark==3.4.0  spark-nlp==$PUBLIC_VERSION\n",
        "\n",
        "# Installing Spark NLP Healthcare\n",
        "! pip install --upgrade -q spark-nlp-jsl==$JSL_VERSION  --extra-index-url https://pypi.johnsnowlabs.com/$SECRET\n",
        "\n",
        "# Installing Spark NLP Display Library for visualization\n",
        "! pip install --upgrade -q spark-nlp-display"
      ],
      "metadata": {
        "id": "HnRQizBbhnQn"
      },
      "execution_count": null,
      "outputs": []
    },
    {
      "cell_type": "code",
      "source": [
        "import json\n",
        "import os\n",
        "\n",
        "import sparknlp\n",
        "import sparknlp_jsl\n",
        "\n",
        "from sparknlp.base import *\n",
        "from sparknlp.common import *\n",
        "from sparknlp.training import *\n",
        "from sparknlp.annotator import *\n",
        "\n",
        "from sparknlp_jsl.base import *\n",
        "from sparknlp_jsl.annotator import *\n",
        "from sparknlp_jsl.annotator.flattener import *\n",
        "\n",
        "from pyspark.ml import Pipeline\n",
        "from pyspark.sql.types import StringType\n",
        "import pyspark.sql.types as T\n",
        "import pyspark.sql.functions as F\n",
        "\n",
        "import pandas as pd\n",
        "import numpy as np\n",
        "\n",
        "spark = sparknlp_jsl.start(license_keys['SECRET'] #gpu=True\n",
        "                           )\n",
        "print(\"Spark NLP Version :\", sparknlp.version())\n",
        "print(\"Spark NLP_JSL Version :\", sparknlp_jsl.version())\n",
        "\n",
        "spark"
      ],
      "metadata": {
        "id": "3QB68-iqhttM",
        "colab": {
          "base_uri": "https://localhost:8080/",
          "height": 271
        },
        "outputId": "56b87896-8762-46d7-fc21-30b6aeba4e2c"
      },
      "execution_count": null,
      "outputs": [
        {
          "output_type": "stream",
          "name": "stdout",
          "text": [
            "Warning::Spark Session already created, some configs may not take.\n",
            "Spark NLP Version : 5.4.0\n",
            "Spark NLP_JSL Version : 5.4.0\n"
          ]
        },
        {
          "output_type": "execute_result",
          "data": {
            "text/plain": [
              "<pyspark.sql.session.SparkSession at 0x7b86cf5f38b0>"
            ],
            "text/html": [
              "\n",
              "            <div>\n",
              "                <p><b>SparkSession - in-memory</b></p>\n",
              "                \n",
              "        <div>\n",
              "            <p><b>SparkContext</b></p>\n",
              "\n",
              "            <p><a href=\"http://d616fae0477a:4040\">Spark UI</a></p>\n",
              "\n",
              "            <dl>\n",
              "              <dt>Version</dt>\n",
              "                <dd><code>v3.4.0</code></dd>\n",
              "              <dt>Master</dt>\n",
              "                <dd><code>local[*]</code></dd>\n",
              "              <dt>AppName</dt>\n",
              "                <dd><code>Spark NLP Licensed</code></dd>\n",
              "            </dl>\n",
              "        </div>\n",
              "        \n",
              "            </div>\n",
              "        "
            ]
          },
          "metadata": {},
          "execution_count": 83
        }
      ]
    },
    {
      "cell_type": "markdown",
      "source": [
        "\n",
        "\n",
        "## **🖨️ Input/Output Annotation Types**"
      ],
      "metadata": {
        "id": "1XbF4N-JGQdM"
      }
    },
    {
      "cell_type": "markdown",
      "source": [
        "- Input: `SENTECE`, `TOKEN`, `CHUNK`\n",
        "\n",
        "- Output: `ASSERTION`"
      ],
      "metadata": {
        "id": "Qsk1TC4DGXkK"
      }
    },
    {
      "cell_type": "markdown",
      "source": [
        "## **🔎 Parameters**"
      ],
      "metadata": {
        "id": "HWaUgBgMG85p"
      }
    },
    {
      "cell_type": "markdown",
      "source": [
        "**Parameters**:\n",
        "\n",
        "- `inputCols`: Input annotations.\n",
        "- `caseSensitive`: Whether to use case sensitive when matching values. By default `False`.\n",
        "- `prefixAndSuffixMatch`: Whether to match both prefix and suffix to annotate the hit\n",
        "- `prefixKeywords`: Prefix keywords to match\n",
        "- `suffixKeywords`: Suffix keywords to match\n",
        "- `exceptionKeywords`: Exception keywords not to match\n",
        "- `prefixRegexPatterns`: Prefix regex patterns to match\n",
        "- `suffixRegexPatterns`: Suffix regex pattern to match\n",
        "- `exceptionRegexPatterns`: Exception regex pattern not to match\n",
        "- `scopeWindow`: The scope window of the assertion expression\n",
        "- `assertion`:Assertion to match\n",
        "- `includeChunkToScope`:Whether to include chunk to scope when matching values"
      ],
      "metadata": {
        "id": "IEgbOUgpHFFd"
      }
    },
    {
      "cell_type": "markdown",
      "source": [
        "##PIPELINE"
      ],
      "metadata": {
        "id": "hZeqQv5gOv5o"
      }
    },
    {
      "cell_type": "code",
      "source": [
        "document_assembler = DocumentAssembler() \\\n",
        "    .setInputCol(\"text\") \\\n",
        "    .setOutputCol(\"document\")\n",
        "\n",
        "sentence_detector = SentenceDetector() \\\n",
        "    .setInputCols([\"document\"]) \\\n",
        "    .setOutputCol(\"sentence\")\n",
        "\n",
        "tokenizer = Tokenizer() \\\n",
        "    .setInputCols([\"sentence\"]) \\\n",
        "    .setOutputCol(\"token\")\n",
        "\n",
        "word_embeddings = WordEmbeddingsModel \\\n",
        "    .pretrained(\"embeddings_clinical\", \"en\", \"clinical/models\") \\\n",
        "    .setInputCols([\"sentence\", \"token\"]) \\\n",
        "    .setOutputCol(\"embeddings\")\n",
        "\n",
        "clinical_ner = MedicalNerModel \\\n",
        "    .pretrained(\"ner_clinical\", \"en\", \"clinical/models\") \\\n",
        "    .setInputCols([\"sentence\", \"token\", \"embeddings\"]) \\\n",
        "    .setOutputCol(\"ner\")\n",
        "\n",
        "ner_converter = NerConverter() \\\n",
        "    .setInputCols([\"sentence\", \"token\", \"ner\"]) \\\n",
        "    .setOutputCol(\"ner_chunk\")"
      ],
      "metadata": {
        "colab": {
          "base_uri": "https://localhost:8080/"
        },
        "id": "p_F8kbGPOvJA",
        "outputId": "95e00bb4-eb80-4e5d-e0b1-79004cf8c007"
      },
      "execution_count": null,
      "outputs": [
        {
          "output_type": "stream",
          "name": "stdout",
          "text": [
            "embeddings_clinical download started this may take some time.\n",
            "Approximate size to download 1.6 GB\n",
            "[OK!]\n",
            "ner_clinical download started this may take some time.\n",
            "[OK!]\n"
          ]
        }
      ]
    },
    {
      "cell_type": "markdown",
      "source": [
        "##GENERAL USAGE"
      ],
      "metadata": {
        "id": "0G-4wtokSWNN"
      }
    },
    {
      "cell_type": "markdown",
      "source": [
        "To configure assertions using specific keywords and regex patterns, you can use the methods `setPrefixKeywords`, `setSuffixKeywords`, `setPrefixRegexPatterns`, and `setSuffixRegexPatterns`.\n",
        "\n",
        "If you want to exclude certain keywords and patterns from being detected, use `setExceptionKeywords` and `setExceptionRegexPatterns`.\n",
        "\n",
        "To add to the default keywords and regex patterns, or to include pretrained model keywords and patterns, use the methods `addPrefixKeywords` and `addSuffixKeywords`.\n",
        "\n",
        "If case sensitivity is important for the keywords being searched, you can enable this by setting `setCaseSensitive` to `True`.\n",
        "\n",
        "To search for matches at both the beginning and end of chunks, activate this feature by setting `setPrefixAndSuffixMatch` to `True`.\n",
        "\n",
        "You can define the name of the assertion being searched for using the `setAssertion` method.\n",
        "\n",
        "To specify the number of tokens before and after the chunk within which keywords and regex patterns should be searched, use the `setScopeWindow` method. By default, the search is conducted throughout the entire sentence.\n",
        "\n",
        "If you want to include chunk in the search of keywords and regex patterns, the `setIncludeChunkToScope` method is used.\n"
      ],
      "metadata": {
        "id": "PRp3tEuwSzna"
      }
    },
    {
      "cell_type": "code",
      "source": [
        "text = \"\"\"Patient resting in bed. Patient given azithromycin without any difficulty. Patient has audible wheezing, states chest tightness.\n",
        "     No evidence of hypertension. Patient denies nausea at this time. zofran declined. Patient is also having intermittent sweating\n",
        "     associated with pneumonia. Patient refused pain but tylenol still given. Neither substance abuse nor alcohol use however cocaine\n",
        "     once used in the last year. Alcoholism unlikely. Patient has headache and fever. Patient is not diabetic. Not clearly of diarrhea.\n",
        "     Lab reports confirm lymphocytopenia. Cardaic rhythm is Sinus bradycardia. Patient also has a history of cardiac injury.\n",
        "     No kidney injury reported. No abnormal rashes or ulcers. Patient might not have liver disease. Confirmed absence of hemoptysis.\n",
        "     Although patient has severe pneumonia and fever, test reports are negative for COVID-19 infection. COVID-19 viral infection absent.\n",
        "    \"\"\"\n",
        "data = spark.createDataFrame([[text]]).toDF(\"text\")"
      ],
      "metadata": {
        "id": "j_HV3wwnSrJ3"
      },
      "execution_count": null,
      "outputs": []
    },
    {
      "cell_type": "code",
      "source": [
        "contextual_assertion = ContextualAssertion() \\\n",
        "    .setInputCols([\"sentence\", \"token\", \"ner_chunk\"]) \\\n",
        "    .setOutputCol(\"assertion\") \\\n",
        "    .setPrefixKeywords([\"no\", \"not\"]) \\\n",
        "    .setSuffixKeywords([\"unlikely\",\"negative\",\"no\"]) \\\n",
        "    .setPrefixRegexPatterns([\"\\\\b(no|without|denies|never|none|free of|not include)\\\\b\"]) \\\n",
        "    .setSuffixRegexPatterns([\"\\\\b(free of|negative for|absence of|not|rule out)\\\\b\"]) \\\n",
        "    .setExceptionKeywords([\"without\"]) \\\n",
        "    .setExceptionRegexPatterns([\"\\\\b(not clearly)\\\\b\"]) \\\n",
        "    .addPrefixKeywords([\"negative for\",\"negative\"]) \\\n",
        "    .addSuffixKeywords([\"absent\",\"neither\"]) \\\n",
        "    .setCaseSensitive(False) \\\n",
        "    .setPrefixAndSuffixMatch(False) \\\n",
        "    .setAssertion(\"absent\") \\\n",
        "    .setScopeWindow([2, 2])\\\n",
        "    .setIncludeChunkToScope(True)\\\n",
        "\n",
        "flattener = Flattener() \\\n",
        "    .setInputCols(\"assertion\") \\\n",
        "\n",
        "\n",
        "pipeline = Pipeline(\n",
        "    stages=[\n",
        "        document_assembler,\n",
        "        sentence_detector,\n",
        "        tokenizer,\n",
        "        word_embeddings,\n",
        "        clinical_ner,\n",
        "        ner_converter,\n",
        "        contextual_assertion,\n",
        "        flattener\n",
        "        ])\n",
        "\n",
        "empty_data = spark.createDataFrame([[\"\"]]).toDF(\"text\")\n",
        "\n",
        "model = pipeline.fit(empty_data)\n",
        "\n",
        "result = model.transform(data)\n",
        "result.show(truncate=False)\n"
      ],
      "metadata": {
        "colab": {
          "base_uri": "https://localhost:8080/"
        },
        "id": "OUI269-NSVsX",
        "outputId": "3666c286-3e48-43fd-c587-5f92b9afa81b"
      },
      "execution_count": null,
      "outputs": [
        {
          "output_type": "stream",
          "name": "stdout",
          "text": [
            "+----------------+---------------+-------------+-----------------------------------+------------------------+----------------------------+-----------------------------+----------------------------+---------------------------+\n",
            "|assertion_result|assertion_begin|assertion_end|assertion_metadata_assertion_source|assertion_metadata_chunk|assertion_metadata_ner_chunk|assertion_metadata_confidence|assertion_metadata_ner_label|assertion_metadata_sentence|\n",
            "+----------------+---------------+-------------+-----------------------------------+------------------------+----------------------------+-----------------------------+----------------------------+---------------------------+\n",
            "|absent          |178            |183          |assertion                          |5                       |nausea                      |0.50                         |PROBLEM                     |4                          |\n",
            "|absent          |428            |437          |assertion                          |11                      |Alcoholism                  |0.50                         |PROBLEM                     |9                          |\n",
            "|absent          |496            |503          |assertion                          |14                      |diabetic                    |0.50                         |PROBLEM                     |11                         |\n",
            "|absent          |664            |676          |assertion                          |19                      |kidney injury               |0.50                         |PROBLEM                     |16                         |\n",
            "|absent          |691            |705          |assertion                          |20                      |abnormal rashes             |0.50                         |PROBLEM                     |17                         |\n",
            "|absent          |741            |753          |assertion                          |22                      |liver disease               |0.50                         |PROBLEM                     |18                         |\n",
            "|absent          |873            |890          |assertion                          |26                      |COVID-19 infection          |0.50                         |PROBLEM                     |20                         |\n",
            "|absent          |902            |916          |assertion                          |27                      |viral infection             |0.50                         |PROBLEM                     |21                         |\n",
            "+----------------+---------------+-------------+-----------------------------------+------------------------+----------------------------+-----------------------------+----------------------------+---------------------------+\n",
            "\n"
          ]
        }
      ]
    },
    {
      "cell_type": "markdown",
      "source": [
        "##NEGEX( DEFAULT )"
      ],
      "metadata": {
        "id": "wTMq-U0-bAck"
      }
    },
    {
      "cell_type": "code",
      "source": [
        "text = \"\"\"Patient resting in bed. Patient given azithromycin without any difficulty. Patient has audible wheezing, states chest tightness.\n",
        "     No evidence of hypertension. Patient denies nausea at this time. zofran declined. Patient is also having intermittent sweating\n",
        "     associated with pneumonia. Patient refused pain but tylenol still given. Neither substance abuse nor alcohol use however cocaine\n",
        "     once used in the last year. Alcoholism unlikely. Patient has headache and fever. Patient is not diabetic. Not clearly of diarrhea.\n",
        "     Lab reports confirm lymphocytopenia. Cardaic rhythm is Sinus bradycardia. Patient also has a history of cardiac injury.\n",
        "     No kidney injury reported. No abnormal rashes or ulcers. Patient might not have liver disease. Confirmed absence of hemoptysis.\n",
        "     Although patient has severe pneumonia and fever, test reports are negative for COVID-19 infection. COVID-19 viral infection absent.\n",
        "    \"\"\"\n",
        "data = spark.createDataFrame([[text]]).toDF(\"text\")"
      ],
      "metadata": {
        "id": "qfjUSqUcdbor"
      },
      "execution_count": null,
      "outputs": []
    },
    {
      "cell_type": "code",
      "source": [
        "contextual_assertion = ContextualAssertion()\\\n",
        "            .setInputCols(\"sentence\", \"token\", \"ner_chunk\") \\\n",
        "            .setOutputCol(\"assertion\") \\\n",
        "\n",
        "\n",
        "pipeline = Pipeline(\n",
        "    stages=[\n",
        "          document_assembler,\n",
        "          sentence_detector,\n",
        "          tokenizer,\n",
        "          word_embeddings,\n",
        "          clinical_ner,\n",
        "          ner_converter,\n",
        "          contextual_assertion,\n",
        "      ])\n",
        "\n",
        "empty_data = spark.createDataFrame([[\"\"]]).toDF(\"text\")\n",
        "\n",
        "model = pipeline.fit(empty_data)\n",
        "\n",
        "result = model.transform(data)\n"
      ],
      "metadata": {
        "id": "eoiP07S2hv1Z"
      },
      "execution_count": null,
      "outputs": []
    },
    {
      "cell_type": "code",
      "source": [
        "from sparknlp_display import AssertionVisualizer\n",
        "\n",
        "vis = AssertionVisualizer()\n",
        "\n",
        "vis.display(result.collect()[0], 'ner_chunk', 'assertion')"
      ],
      "metadata": {
        "colab": {
          "base_uri": "https://localhost:8080/",
          "height": 694
        },
        "id": "EuYdcdORc_y8",
        "outputId": "a946e707-3b6e-4e7f-8059-194d3bf89500"
      },
      "execution_count": null,
      "outputs": [
        {
          "output_type": "display_data",
          "data": {
            "text/plain": [
              "<IPython.core.display.HTML object>"
            ],
            "text/html": [
              "\n",
              "<style>\n",
              "    @import url('https://fonts.googleapis.com/css2?family=Montserrat:wght@300;400;500;600;700&display=swap');\n",
              "    @import url('https://fonts.googleapis.com/css2?family=Vistol Regular:wght@300;400;500;600;700&display=swap');\n",
              "    \n",
              "    .spark-nlp-display-scroll-entities {\n",
              "        border: 1px solid #E7EDF0;\n",
              "        border-radius: 3px;\n",
              "        text-align: justify;\n",
              "        \n",
              "    }\n",
              "    .spark-nlp-display-scroll-entities span {  \n",
              "        font-size: 14px;\n",
              "        line-height: 24px;\n",
              "        color: #536B76;\n",
              "        font-family: 'Montserrat', sans-serif !important;\n",
              "    }\n",
              "    \n",
              "    .spark-nlp-display-entity-wrapper{\n",
              "    \n",
              "        display: inline-grid;\n",
              "        text-align: center;\n",
              "        border-radius: 4px;\n",
              "        margin: 0 2px 5px 2px;\n",
              "        padding: 1px\n",
              "    }\n",
              "    .spark-nlp-display-entity-name{\n",
              "        font-size: 14px;\n",
              "        line-height: 24px;\n",
              "        font-family: 'Montserrat', sans-serif !important;\n",
              "        \n",
              "        background: #f1f2f3;\n",
              "        border-width: medium;\n",
              "        text-align: center;\n",
              "        \n",
              "        font-weight: 400;\n",
              "        \n",
              "        border-radius: 5px;\n",
              "        padding: 2px 5px;\n",
              "        display: block;\n",
              "        margin: 3px 2px;\n",
              "    \n",
              "    }\n",
              "    .spark-nlp-display-entity-type{\n",
              "        font-size: 14px;\n",
              "        line-height: 24px;\n",
              "        color: #ffffff;\n",
              "        font-family: 'Montserrat', sans-serif !important;\n",
              "        \n",
              "        text-transform: uppercase;\n",
              "        \n",
              "        font-weight: 500;\n",
              "\n",
              "        display: block;\n",
              "        padding: 3px 5px;\n",
              "    }\n",
              "    \n",
              "    .spark-nlp-display-entity-resolution{\n",
              "        font-size: 14px;\n",
              "        line-height: 24px;\n",
              "        color: #ffffff;\n",
              "        font-family: 'Vistol Regular', sans-serif !important;\n",
              "        \n",
              "        text-transform: uppercase;\n",
              "        \n",
              "        font-weight: 500;\n",
              "\n",
              "        display: block;\n",
              "        padding: 3px 5px;\n",
              "    }\n",
              "    \n",
              "    .spark-nlp-display-others{\n",
              "        font-size: 14px;\n",
              "        line-height: 24px;\n",
              "        font-family: 'Montserrat', sans-serif !important;\n",
              "        \n",
              "        font-weight: 400;\n",
              "    }\n",
              "\n",
              "</style>\n",
              " <span class=\"spark-nlp-display-others\" style=\"background-color: white\">Patient resting in bed. Patient given </span><span class=\"spark-nlp-display-entity-wrapper\" style=\"background-color: #8b6673B3\"><span class=\"spark-nlp-display-entity-name\">azithromycin </span><span class=\"spark-nlp-display-entity-type\">TREATMENT</span></span><span class=\"spark-nlp-display-others\" style=\"background-color: white\"> without </span><span class=\"spark-nlp-display-entity-wrapper\" style=\"background-color: #800080B3\"><span class=\"spark-nlp-display-entity-name\">any difficulty </span><span class=\"spark-nlp-display-entity-type\">PROBLEM</span><span class=\"spark-nlp-display-entity-resolution\" style=\"background-color: #800080FF\">absent </span></span><span class=\"spark-nlp-display-others\" style=\"background-color: white\">. Patient has </span><span class=\"spark-nlp-display-entity-wrapper\" style=\"background-color: #800080B3\"><span class=\"spark-nlp-display-entity-name\">audible wheezing </span><span class=\"spark-nlp-display-entity-type\">PROBLEM</span></span><span class=\"spark-nlp-display-others\" style=\"background-color: white\">, states </span><span class=\"spark-nlp-display-entity-wrapper\" style=\"background-color: #800080B3\"><span class=\"spark-nlp-display-entity-name\">chest tightness </span><span class=\"spark-nlp-display-entity-type\">PROBLEM</span></span><span class=\"spark-nlp-display-others\" style=\"background-color: white\">.<br>     No evidence of </span><span class=\"spark-nlp-display-entity-wrapper\" style=\"background-color: #800080B3\"><span class=\"spark-nlp-display-entity-name\">hypertension </span><span class=\"spark-nlp-display-entity-type\">PROBLEM</span><span class=\"spark-nlp-display-entity-resolution\" style=\"background-color: #800080FF\">absent </span></span><span class=\"spark-nlp-display-others\" style=\"background-color: white\">. Patient denies </span><span class=\"spark-nlp-display-entity-wrapper\" style=\"background-color: #800080B3\"><span class=\"spark-nlp-display-entity-name\">nausea </span><span class=\"spark-nlp-display-entity-type\">PROBLEM</span><span class=\"spark-nlp-display-entity-resolution\" style=\"background-color: #800080FF\">absent </span></span><span class=\"spark-nlp-display-others\" style=\"background-color: white\"> at this time. </span><span class=\"spark-nlp-display-entity-wrapper\" style=\"background-color: #8b6673B3\"><span class=\"spark-nlp-display-entity-name\">zofran </span><span class=\"spark-nlp-display-entity-type\">TREATMENT</span><span class=\"spark-nlp-display-entity-resolution\" style=\"background-color: #8b6673FF\">absent </span></span><span class=\"spark-nlp-display-others\" style=\"background-color: white\"> declined. Patient is also having </span><span class=\"spark-nlp-display-entity-wrapper\" style=\"background-color: #800080B3\"><span class=\"spark-nlp-display-entity-name\">intermittent sweating </span><span class=\"spark-nlp-display-entity-type\">PROBLEM</span></span><span class=\"spark-nlp-display-others\" style=\"background-color: white\"><br>     associated with </span><span class=\"spark-nlp-display-entity-wrapper\" style=\"background-color: #800080B3\"><span class=\"spark-nlp-display-entity-name\">pneumonia </span><span class=\"spark-nlp-display-entity-type\">PROBLEM</span></span><span class=\"spark-nlp-display-others\" style=\"background-color: white\">. Patient refused </span><span class=\"spark-nlp-display-entity-wrapper\" style=\"background-color: #800080B3\"><span class=\"spark-nlp-display-entity-name\">pain </span><span class=\"spark-nlp-display-entity-type\">PROBLEM</span><span class=\"spark-nlp-display-entity-resolution\" style=\"background-color: #800080FF\">absent </span></span><span class=\"spark-nlp-display-others\" style=\"background-color: white\"> but </span><span class=\"spark-nlp-display-entity-wrapper\" style=\"background-color: #8b6673B3\"><span class=\"spark-nlp-display-entity-name\">tylenol </span><span class=\"spark-nlp-display-entity-type\">TREATMENT</span><span class=\"spark-nlp-display-entity-resolution\" style=\"background-color: #8b6673FF\">absent </span></span><span class=\"spark-nlp-display-others\" style=\"background-color: white\"> still given. Neither substance abuse nor alcohol use however cocaine<br>     once used in the last year. </span><span class=\"spark-nlp-display-entity-wrapper\" style=\"background-color: #800080B3\"><span class=\"spark-nlp-display-entity-name\">Alcoholism </span><span class=\"spark-nlp-display-entity-type\">PROBLEM</span><span class=\"spark-nlp-display-entity-resolution\" style=\"background-color: #800080FF\">absent </span></span><span class=\"spark-nlp-display-others\" style=\"background-color: white\"> unlikely. Patient has </span><span class=\"spark-nlp-display-entity-wrapper\" style=\"background-color: #800080B3\"><span class=\"spark-nlp-display-entity-name\">headache </span><span class=\"spark-nlp-display-entity-type\">PROBLEM</span></span><span class=\"spark-nlp-display-others\" style=\"background-color: white\"> and </span><span class=\"spark-nlp-display-entity-wrapper\" style=\"background-color: #800080B3\"><span class=\"spark-nlp-display-entity-name\">fever </span><span class=\"spark-nlp-display-entity-type\">PROBLEM</span></span><span class=\"spark-nlp-display-others\" style=\"background-color: white\">. Patient is not </span><span class=\"spark-nlp-display-entity-wrapper\" style=\"background-color: #800080B3\"><span class=\"spark-nlp-display-entity-name\">diabetic </span><span class=\"spark-nlp-display-entity-type\">PROBLEM</span><span class=\"spark-nlp-display-entity-resolution\" style=\"background-color: #800080FF\">absent </span></span><span class=\"spark-nlp-display-others\" style=\"background-color: white\">. Not clearly of </span><span class=\"spark-nlp-display-entity-wrapper\" style=\"background-color: #800080B3\"><span class=\"spark-nlp-display-entity-name\">diarrhea </span><span class=\"spark-nlp-display-entity-type\">PROBLEM</span></span><span class=\"spark-nlp-display-others\" style=\"background-color: white\">.<br>     Lab reports confirm </span><span class=\"spark-nlp-display-entity-wrapper\" style=\"background-color: #800080B3\"><span class=\"spark-nlp-display-entity-name\">lymphocytopenia </span><span class=\"spark-nlp-display-entity-type\">PROBLEM</span></span><span class=\"spark-nlp-display-others\" style=\"background-color: white\">. Cardaic rhythm is </span><span class=\"spark-nlp-display-entity-wrapper\" style=\"background-color: #800080B3\"><span class=\"spark-nlp-display-entity-name\">Sinus bradycardia </span><span class=\"spark-nlp-display-entity-type\">PROBLEM</span></span><span class=\"spark-nlp-display-others\" style=\"background-color: white\">. Patient also has a history of </span><span class=\"spark-nlp-display-entity-wrapper\" style=\"background-color: #800080B3\"><span class=\"spark-nlp-display-entity-name\">cardiac injury </span><span class=\"spark-nlp-display-entity-type\">PROBLEM</span></span><span class=\"spark-nlp-display-others\" style=\"background-color: white\">.<br>     No </span><span class=\"spark-nlp-display-entity-wrapper\" style=\"background-color: #800080B3\"><span class=\"spark-nlp-display-entity-name\">kidney injury </span><span class=\"spark-nlp-display-entity-type\">PROBLEM</span><span class=\"spark-nlp-display-entity-resolution\" style=\"background-color: #800080FF\">absent </span></span><span class=\"spark-nlp-display-others\" style=\"background-color: white\"> reported. No </span><span class=\"spark-nlp-display-entity-wrapper\" style=\"background-color: #800080B3\"><span class=\"spark-nlp-display-entity-name\">abnormal rashes </span><span class=\"spark-nlp-display-entity-type\">PROBLEM</span><span class=\"spark-nlp-display-entity-resolution\" style=\"background-color: #800080FF\">absent </span></span><span class=\"spark-nlp-display-others\" style=\"background-color: white\"> or </span><span class=\"spark-nlp-display-entity-wrapper\" style=\"background-color: #800080B3\"><span class=\"spark-nlp-display-entity-name\">ulcers </span><span class=\"spark-nlp-display-entity-type\">PROBLEM</span><span class=\"spark-nlp-display-entity-resolution\" style=\"background-color: #800080FF\">absent </span></span><span class=\"spark-nlp-display-others\" style=\"background-color: white\">. Patient might not have </span><span class=\"spark-nlp-display-entity-wrapper\" style=\"background-color: #800080B3\"><span class=\"spark-nlp-display-entity-name\">liver disease </span><span class=\"spark-nlp-display-entity-type\">PROBLEM</span><span class=\"spark-nlp-display-entity-resolution\" style=\"background-color: #800080FF\">absent </span></span><span class=\"spark-nlp-display-others\" style=\"background-color: white\">. Confirmed absence of </span><span class=\"spark-nlp-display-entity-wrapper\" style=\"background-color: #800080B3\"><span class=\"spark-nlp-display-entity-name\">hemoptysis </span><span class=\"spark-nlp-display-entity-type\">PROBLEM</span><span class=\"spark-nlp-display-entity-resolution\" style=\"background-color: #800080FF\">absent </span></span><span class=\"spark-nlp-display-others\" style=\"background-color: white\">.<br>     Although patient has </span><span class=\"spark-nlp-display-entity-wrapper\" style=\"background-color: #800080B3\"><span class=\"spark-nlp-display-entity-name\">severe pneumonia </span><span class=\"spark-nlp-display-entity-type\">PROBLEM</span></span><span class=\"spark-nlp-display-others\" style=\"background-color: white\"> and </span><span class=\"spark-nlp-display-entity-wrapper\" style=\"background-color: #800080B3\"><span class=\"spark-nlp-display-entity-name\">fever </span><span class=\"spark-nlp-display-entity-type\">PROBLEM</span></span><span class=\"spark-nlp-display-others\" style=\"background-color: white\">, test reports are negative for </span><span class=\"spark-nlp-display-entity-wrapper\" style=\"background-color: #800080B3\"><span class=\"spark-nlp-display-entity-name\">COVID-19 infection </span><span class=\"spark-nlp-display-entity-type\">PROBLEM</span><span class=\"spark-nlp-display-entity-resolution\" style=\"background-color: #800080FF\">absent </span></span><span class=\"spark-nlp-display-others\" style=\"background-color: white\">. COVID-19 </span><span class=\"spark-nlp-display-entity-wrapper\" style=\"background-color: #800080B3\"><span class=\"spark-nlp-display-entity-name\">viral infection </span><span class=\"spark-nlp-display-entity-type\">PROBLEM</span><span class=\"spark-nlp-display-entity-resolution\" style=\"background-color: #800080FF\">absent </span></span><span class=\"spark-nlp-display-others\" style=\"background-color: white\"> absent.<br>    </span></div>"
            ]
          },
          "metadata": {}
        }
      ]
    },
    {
      "cell_type": "code",
      "source": [
        "flattener = Flattener() \\\n",
        "    .setInputCols(\"assertion\") \\\n",
        "    .setExplodeSelectedFields({\"assertion\":[\"metadata.ner_chunk as ner_chunk\",\n",
        "                                            \"begin as begin\",\n",
        "                                            \"end as end\",\n",
        "                                            \"metadata.ner_label as ner_label\",\n",
        "                                            \"result\"]})\n",
        "pipeline = Pipeline(\n",
        "    stages=[\n",
        "        document_assembler,\n",
        "        sentence_detector,\n",
        "        tokenizer,\n",
        "        word_embeddings,\n",
        "        clinical_ner,\n",
        "        ner_converter,\n",
        "        contextual_assertion,\n",
        "        flattener\n",
        "        ])\n",
        "\n",
        "empty_data = spark.createDataFrame([[\"\"]]).toDF(\"text\")\n",
        "\n",
        "model = pipeline.fit(empty_data)\n",
        "\n",
        "result = model.transform(data)\n",
        "result.show(truncate=False)"
      ],
      "metadata": {
        "colab": {
          "base_uri": "https://localhost:8080/"
        },
        "id": "cr3gwYCZdCwP",
        "outputId": "b32f4a4c-dd2b-4178-9671-14fa3634e6db"
      },
      "execution_count": null,
      "outputs": [
        {
          "output_type": "stream",
          "name": "stdout",
          "text": [
            "+------------------+-----+---+---------+----------------+\n",
            "|ner_chunk         |begin|end|ner_label|assertion_result|\n",
            "+------------------+-----+---+---------+----------------+\n",
            "|any difficulty    |59   |72 |PROBLEM  |absent          |\n",
            "|hypertension      |149  |160|PROBLEM  |absent          |\n",
            "|nausea            |178  |183|PROBLEM  |absent          |\n",
            "|zofran            |199  |204|TREATMENT|absent          |\n",
            "|pain              |309  |312|PROBLEM  |absent          |\n",
            "|tylenol           |318  |324|TREATMENT|absent          |\n",
            "|Alcoholism        |428  |437|PROBLEM  |absent          |\n",
            "|diabetic          |496  |503|PROBLEM  |absent          |\n",
            "|kidney injury     |664  |676|PROBLEM  |absent          |\n",
            "|abnormal rashes   |691  |705|PROBLEM  |absent          |\n",
            "|ulcers            |710  |715|PROBLEM  |absent          |\n",
            "|liver disease     |741  |753|PROBLEM  |absent          |\n",
            "|hemoptysis        |777  |786|PROBLEM  |absent          |\n",
            "|COVID-19 infection|873  |890|PROBLEM  |absent          |\n",
            "|viral infection   |902  |916|PROBLEM  |absent          |\n",
            "+------------------+-----+---+---------+----------------+\n",
            "\n"
          ]
        }
      ]
    },
    {
      "cell_type": "markdown",
      "source": [
        "##DATE"
      ],
      "metadata": {
        "id": "cRsfAR9OOFnp"
      }
    },
    {
      "cell_type": "code",
      "source": [
        "dateText = \"\"\"Patient resting in bed. Patient given azithromycin without any difficulty. Patient has audible wheezing, states chest tightness.\n",
        "      No evidence of hypertension. Patient denies nausea at this time. zofran declined. Patient is also having intermittent sweating\n",
        "      associated with pneumonia. Patient refused pain but tylenol still given. Neither substance abuse nor alcohol use however cocaine\n",
        "      once used in the last year. Alcoholism detected in 2022-01-15. Patient has headache and fever. Patient diabetic in the past. Not clearly of diarrhea.\n",
        "      Lab reports confirm lymphocytopenia. Cardaic rhythm is Sinus bradycardia. Patient also has a history of cardiac injury.\n",
        "      Kidney injury will be reported in 2024-01-15. No abnormal rashes or ulcers. Patient have liver disease before. Confirmed absence of hemoptysis.\n",
        "      Although patient has severe pneumonia and fever, test reports are negative for COVID-19 infection. COVID-19 viral infection can detect in the future.\n",
        "      \"\"\"\n",
        "pattern = '(?:yesterday|last\\s(?:night|week|month|year|Monday|Tuesday|Wednesday|Thursday|Friday|Saturday|Sunday)|(?:a|an|one|two|three|four|five|six|seven|eight|nine|ten|several|many|few)\\s(?:days?|weeks?|months?|years?)\\sago|in\\s(?:\\d{4}|\\d{1,2}\\s(?:January|February|March|April|May|June|July|August|September|October|November|December)))'\n",
        "\n",
        "data = spark.createDataFrame([[dateText]]).toDF(\"text\")"
      ],
      "metadata": {
        "id": "rCBa-PkmOEiu"
      },
      "execution_count": null,
      "outputs": []
    },
    {
      "cell_type": "code",
      "source": [
        "contextual_assertion = ContextualAssertion() \\\n",
        "    .setInputCols([\"sentence\", \"token\", \"ner_chunk\"]) \\\n",
        "    .setOutputCol(\"assertion\") \\\n",
        "    .setPrefixKeywords([\"before\", \"past\"]) \\\n",
        "    .setSuffixKeywords([\"before\",\"past\"]) \\\n",
        "    .setPrefixRegexPatterns([pattern]) \\\n",
        "    .setSuffixRegexPatterns([pattern]) \\\n",
        "    .setScopeWindow([5,5])\\\n",
        "    .setAssertion(\"past\")\n",
        "\n",
        "flattener = Flattener() \\\n",
        "    .setInputCols(\"assertion\") \\\n",
        "    .setExplodeSelectedFields({\"assertion\":[\"metadata.ner_chunk as ner_chunk\",\n",
        "                                            \"begin as begin\",\n",
        "                                            \"end as end\",\n",
        "                                            \"metadata.ner_label as ner_label\",\n",
        "                                            \"result\"]})\n",
        "pipeline = Pipeline(\n",
        "    stages=[\n",
        "          document_assembler,\n",
        "          sentence_detector,\n",
        "          tokenizer,\n",
        "          word_embeddings,\n",
        "          clinical_ner,\n",
        "          ner_converter,\n",
        "          contextual_assertion,\n",
        "          flattener\n",
        "      ])\n",
        "\n",
        "empty_data = spark.createDataFrame([[\"\"]]).toDF(\"text\")\n",
        "\n",
        "model = pipeline.fit(empty_data)\n",
        "\n",
        "result = model.transform(data)\n",
        "result.show(truncate=False)"
      ],
      "metadata": {
        "colab": {
          "base_uri": "https://localhost:8080/"
        },
        "id": "OQxV3dMvOlII",
        "outputId": "26a9fb9f-c81d-4dbc-8d67-80153686b63f"
      },
      "execution_count": null,
      "outputs": [
        {
          "output_type": "stream",
          "name": "stdout",
          "text": [
            "+-------------+-----+---+---------+----------------+\n",
            "|ner_chunk    |begin|end|ner_label|assertion_result|\n",
            "+-------------+-----+---+---------+----------------+\n",
            "|Alcoholism   |431  |440|PROBLEM  |past            |\n",
            "|diabetic     |506  |513|PROBLEM  |past            |\n",
            "|Kidney injury|685  |697|PROBLEM  |past            |\n",
            "|liver disease|774  |786|PROBLEM  |past            |\n",
            "+-------------+-----+---+---------+----------------+\n",
            "\n"
          ]
        }
      ]
    },
    {
      "cell_type": "markdown",
      "source": [
        "##FAMILY"
      ],
      "metadata": {
        "id": "ydiWwL1-O5q0"
      }
    },
    {
      "cell_type": "code",
      "source": [
        "familyText = \"\"\"Patient has a family history of diabetes. Mother's side has a history of hypertension.\n",
        "                Father diagnosed with heart disease last year. Sister and brother both have asthma.\n",
        "                Grandfather had cancer in his late 70s. No known family history of substance abuse.\n",
        "                Family history of autoimmune diseases is also noted.\"\"\"\n",
        "\n",
        "familyPatterns = [\"(mother|father|sister|brother|grandfather|grandmother|uncle|aunt|cousin|family)\"]\n",
        "familyKeywords = [\"family history\", \"family member\"]\n",
        "\n",
        "data = spark.createDataFrame([[familyText]]).toDF(\"text\")\n"
      ],
      "metadata": {
        "id": "j3peVi4sO5Fz"
      },
      "execution_count": null,
      "outputs": []
    },
    {
      "cell_type": "code",
      "source": [
        "contextualAssertionFamily = ContextualAssertion()\\\n",
        "    .setInputCols([\"sentence\", \"token\", \"ner_chunk\"])\\\n",
        "    .setOutputCol(\"assertionFamily\")\\\n",
        "    .setPrefixRegexPatterns(familyPatterns)\\\n",
        "    .setSuffixRegexPatterns(familyPatterns)\\\n",
        "    .setPrefixKeywords(familyKeywords)\\\n",
        "    .setSuffixKeywords(familyKeywords)\\\n",
        "    .setCaseSensitive(False)\\\n",
        "    .setAssertion(\"family\")\\\n",
        "\n",
        "flattener =Flattener()\\\n",
        "    .setInputCols(\"assertionFamily\")\\\n",
        "    .setExplodeSelectedFields({\"assertionFamily\":[\"metadata.ner_chunk as ner_chunk\",\n",
        "                                            \"begin as begin\",\n",
        "                                            \"end as end\",\n",
        "                                            \"metadata.ner_label as ner_label\",\n",
        "                                            \"result\"]})\n",
        "\n",
        "pipeline = Pipeline(\n",
        "    stages=[\n",
        "        document_assembler,\n",
        "        sentence_detector,\n",
        "        tokenizer,\n",
        "        word_embeddings,\n",
        "        clinical_ner,\n",
        "        ner_converter,\n",
        "        contextualAssertionFamily,\n",
        "        flattener\n",
        "\n",
        "    ])\n",
        "\n",
        "\n",
        "empty_data = spark.createDataFrame([[\"\"]]).toDF(\"text\")\n",
        "\n",
        "\n",
        "model = pipeline.fit(empty_data)\n",
        "result = model.transform(data)\n",
        "result.show(truncate=False)"
      ],
      "metadata": {
        "colab": {
          "base_uri": "https://localhost:8080/"
        },
        "id": "B6xJmaRNPBgi",
        "outputId": "e2c19c57-bc56-4db3-f92f-62dee5937d4e"
      },
      "execution_count": null,
      "outputs": [
        {
          "output_type": "stream",
          "name": "stdout",
          "text": [
            "+-------------------+-----+---+---------+----------------------+\n",
            "|ner_chunk          |begin|end|ner_label|assertionFamily_result|\n",
            "+-------------------+-----+---+---------+----------------------+\n",
            "|diabetes           |32   |39 |PROBLEM  |family                |\n",
            "|hypertension       |73   |84 |PROBLEM  |family                |\n",
            "|heart disease      |125  |137|PROBLEM  |family                |\n",
            "|asthma             |179  |184|PROBLEM  |family                |\n",
            "|cancer             |219  |224|PROBLEM  |family                |\n",
            "|substance abuse    |270  |284|PROBLEM  |family                |\n",
            "|autoimmune diseases|321  |339|PROBLEM  |family                |\n",
            "+-------------------+-----+---+---------+----------------------+\n",
            "\n"
          ]
        }
      ]
    }
  ]
}
{
  "nbformat": 4,
  "nbformat_minor": 0,
  "metadata": {
    "colab": {
      "name": "1.2.Contextual_Parser_Rule_Based_NER.ipynb",
      "provenance": [],
      "collapsed_sections": []
    },
    "kernelspec": {
      "display_name": "Python 3",
      "language": "python",
      "name": "python3"
    },
    "language_info": {
      "codemirror_mode": {
        "name": "ipython",
        "version": 3
      },
      "file_extension": ".py",
      "mimetype": "text/x-python",
      "name": "python",
      "nbconvert_exporter": "python",
      "pygments_lexer": "ipython3",
      "version": "3.7.6"
    }
  },
  "cells": [
    {
      "cell_type": "markdown",
      "metadata": {
        "id": "i8W51t04BN6B"
      },
      "source": [
        "![JohnSnowLabs](https://nlp.johnsnowlabs.com/assets/images/logo.png)"
      ]
    },
    {
      "cell_type": "markdown",
      "metadata": {
        "id": "21lTnEqRBd0s"
      },
      "source": [
        "[![Open In Colab](https://colab.research.google.com/assets/colab-badge.svg)](https://colab.research.google.com/github/JohnSnowLabs/spark-nlp-workshop/blob/master/tutorials/Certification_Trainings/Healthcare/1.2.Contextual_Parser_Rule_Based_NER.ipynb)"
      ]
    },
    {
      "cell_type": "markdown",
      "metadata": {
        "id": "3-vwpSj3BSbj"
      },
      "source": [
        "# 1.2 ContextualParser (Rule Based NER)"
      ]
    },
    {
      "cell_type": "markdown",
      "metadata": {
        "id": "5SBh1CNgOg54"
      },
      "source": [
        "## Colab Setup"
      ]
    },
    {
      "cell_type": "code",
      "metadata": {
        "id": "iW6JfkPdNnG4"
      },
      "source": [
        "import json\n",
        "\n",
        "from google.colab import files\n",
        "\n",
        "license_keys = files.upload()\n",
        "\n",
        "with open(list(license_keys.keys())[0]) as f:\n",
        "    license_keys = json.load(f)\n",
        "\n",
        "# Defining license key-value pairs as local variables\n",
        "locals().update(license_keys)\n",
        "\n",
        "# Adding license key-value pairs to environment variables\n",
        "import os\n",
        "os.environ.update(license_keys)"
      ],
      "execution_count": null,
      "outputs": []
    },
    {
      "cell_type": "code",
      "metadata": {
        "id": "saeJ8JFqt3Dg"
      },
      "source": [
        "# Installing pyspark and spark-nlp\n",
        "! pip install --upgrade -q pyspark==3.1.2 spark-nlp==$PUBLIC_VERSION\n",
        "\n",
        "# Installing Spark NLP Healthcare\n",
        "! pip install --upgrade -q spark-nlp-jsl==$JSL_VERSION  --extra-index-url https://pypi.johnsnowlabs.com/$SECRET\n",
        "\n",
        "# Installing Spark NLP Display Library for visualization\n",
        "! pip install -q spark-nlp-display"
      ],
      "execution_count": null,
      "outputs": []
    },
    {
      "cell_type": "code",
      "metadata": {
        "colab": {
          "base_uri": "https://localhost:8080/"
        },
        "id": "53Qom33h4nvu",
        "outputId": "f25d2414-d6ef-4bca-f39a-43f4331ed849"
      },
      "source": [
        "from pyspark.ml import Pipeline,PipelineModel\n",
        "from pyspark.sql import SparkSession\n",
        "\n",
        "from sparknlp.annotator import *\n",
        "from sparknlp_jsl.annotator import *\n",
        "from sparknlp.base import *\n",
        "import sparknlp_jsl\n",
        "import sparknlp\n",
        "\n",
        "params = {\"spark.driver.memory\":\"16G\",\n",
        "\"spark.kryoserializer.buffer.max\":\"2000M\",\n",
        "\"spark.driver.maxResultSize\":\"2000M\"}\n",
        "\n",
        "spark = sparknlp_jsl.start(license_keys['SECRET'],params=params)\n",
        "\n",
        "print (\"Spark NLP Version :\", sparknlp.version())\n",
        "print (\"Spark NLP_JSL Version :\", sparknlp_jsl.version())"
      ],
      "execution_count": null,
      "outputs": [
        {
          "output_type": "stream",
          "name": "stdout",
          "text": [
            "Warning::Spark Session already created, some configs may not take.\n",
            "Spark NLP Version : 3.3.0\n",
            "Spark NLP_JSL Version : 3.3.0\n"
          ]
        }
      ]
    },
    {
      "cell_type": "code",
      "metadata": {
        "colab": {
          "base_uri": "https://localhost:8080/",
          "height": 216
        },
        "id": "TYAJM4qXQ0HP",
        "outputId": "813b4d0c-79f2-4b82-917f-df8f67e3c7b3"
      },
      "source": [
        "spark"
      ],
      "execution_count": null,
      "outputs": [
        {
          "output_type": "execute_result",
          "data": {
            "text/html": [
              "\n",
              "            <div>\n",
              "                <p><b>SparkSession - in-memory</b></p>\n",
              "                \n",
              "        <div>\n",
              "            <p><b>SparkContext</b></p>\n",
              "\n",
              "            <p><a href=\"http://3e0174ca9a7e:4040\">Spark UI</a></p>\n",
              "\n",
              "            <dl>\n",
              "              <dt>Version</dt>\n",
              "                <dd><code>v3.1.2</code></dd>\n",
              "              <dt>Master</dt>\n",
              "                <dd><code>local[*]</code></dd>\n",
              "              <dt>AppName</dt>\n",
              "                <dd><code>Spark NLP Licensed</code></dd>\n",
              "            </dl>\n",
              "        </div>\n",
              "        \n",
              "            </div>\n",
              "        "
            ],
            "text/plain": [
              "<pyspark.sql.session.SparkSession at 0x7f2efab16490>"
            ]
          },
          "metadata": {},
          "execution_count": 35
        }
      ]
    },
    {
      "cell_type": "markdown",
      "metadata": {
        "id": "PwBzjFCdSQe7"
      },
      "source": [
        "## How it works\n",
        "\n",
        "This annotator is a kind of RegexMatcher based on a JSON file, that is defined through the parameter `setJsonPath()`\n",
        "\n",
        "In this JSON file, you define the regex that you want to match along with the information that will output on metadata field.\n",
        "\n",
        "For example here, you define the name of an entity that will categorize the matches, the regex value and the  `matchScope` that will tell the regex whether to make a full match or a partial match\n",
        "\n",
        "```\n",
        "{\n",
        "  \"entity\": \"Stage\",\n",
        "  \"ruleScope\": \"sentence\",\n",
        "  \"regex\": \"[cpyrau]?[T][0-9X?][a-z^cpyrau]*\",\n",
        "  \"matchScope\": \"token\"\n",
        "}\n",
        "```\n",
        "\n",
        "\n",
        "Ignore the `ruleScope` for the moment, it's always at a `sentence` level. Which means find match on each sentence. So, for example for this text:\n",
        "```\n",
        "A patient has liver metastases pT1bN0M0 and the T5 primary site may be colon or lung. If the primary site is not clearly identified , this case is cT4bcN2M1, Stage Grouping 88. N4 A child T?N3M1  has soft tissue aM3 sarcoma and the staging has been left unstaged. Both clinical and pathologic staging would be coded pT1bN0M0 as unstageable cT3cN2.Medications started.\n",
        "```\n",
        "\n",
        "The expected result will be:\n",
        "```\n",
        "val expectedResult = Array(\"pT1bN0M0\", \"T5\", \"cT4bcN2M1\", \"T?N3M1\", \"pT1bN0M0\", \"cT3cN2.Medications\")\n",
        "val expectedMetadata =\n",
        "Array(Map(\"field\" -> \"Stage\", \"normalized\" -> \"\", \"confidenceValue\" -> \"0.13\", \"hits\" -> \"regex\", \"sentence\" -> \"0\"),\n",
        "\t  Map(\"field\" -> \"Stage\", \"normalized\" -> \"\", \"confidenceValue\" -> \"0.13\", \"hits\" -> \"regex\", \"sentence\" -> \"0\"),\n",
        "\t  Map(\"field\" -> \"Stage\", \"normalized\" -> \"\", \"confidenceValue\" -> \"0.13\", \"hits\" -> \"regex\", \"sentence\" -> \"1\"),\n",
        "\t  Map(\"field\" -> \"Stage\", \"normalized\" -> \"\", \"confidenceValue\" -> \"0.13\", \"hits\" -> \"regex\", \"sentence\" -> \"2\"),\n",
        "\t  Map(\"field\" -> \"Stage\", \"normalized\" -> \"\", \"confidenceValue\" -> \"0.13\", \"hits\" -> \"regex\", \"sentence\" -> \"3\"),\n",
        "\t  Map(\"field\" -> \"Stage\", \"normalized\" -> \"\", \"confidenceValue\" -> \"0.13\", \"hits\" -> \"regex\", \"sentence\" -> \"3\")\n",
        "\t )\n",
        "```\n",
        "\n",
        "Whereas, using a `matchScope` at sub-token level it will output:\n",
        "\n",
        "```\n",
        "val expectedResult = Array(\"pT1b\", \"T5\", \"cT4bc\", \"T?\", \"pT1b\", \"cT3c\")\n",
        "val expectedMetadata =\n",
        "Array(Map(\"field\" -> \"Stage\", \"normalized\" -> \"\", \"confidenceValue\" -> \"0.13\", \"hits\" -> \"regex\", \"sentence\" -> \"0\"),\n",
        "Map(\"field\" -> \"Stage\", \"normalized\" -> \"\", \"confidenceValue\" -> \"0.13\", \"hits\" -> \"regex\", \"sentence\" -> \"0\"),\n",
        "Map(\"field\" -> \"Stage\", \"normalized\" -> \"\", \"confidenceValue\" -> \"0.13\", \"hits\" -> \"regex\", \"sentence\" -> \"1\"),\n",
        "Map(\"field\" -> \"Stage\", \"normalized\" -> \"\", \"confidenceValue\" -> \"0.13\", \"hits\" -> \"regex\", \"sentence\" -> \"2\"),\n",
        "Map(\"field\" -> \"Stage\", \"normalized\" -> \"\", \"confidenceValue\" -> \"0.13\", \"hits\" -> \"regex\", \"sentence\" -> \"3\"),\n",
        "Map(\"field\" -> \"Stage\", \"normalized\" -> \"\", \"confidenceValue\" -> \"0.13\", \"hits\" -> \"regex\", \"sentence\" -> \"3\")\n",
        ")\n",
        "```\n",
        "\n",
        "The `confidence` value is another feature, which is computed  basically using a heuristic approach based on how many matches it has.\n",
        "\n",
        "To clarify how many matches, this is an example of the JSON file with additional fields that will define the match we want to get\n",
        "\n",
        "```\n",
        "{\n",
        "  \"entity\": \"Gender\",\n",
        "  \"ruleScope\": \"sentence\",\n",
        "  \"matchScope\": \"token\",\n",
        "  \"prefix\": [\"birth\", \"growing\", \"assessment\"],\n",
        "  \"suffix\": [\"faster\", \"velocities\"],\n",
        "  \"contextLength\": 50,\n",
        "  \"context\": [\"typical\", \"grows\"]\n",
        "}\n",
        "```\n",
        "\n",
        "\n",
        "for example, `prefix` and `suffix` refer to the words that are required to be near the word we want to match.\n",
        "\n",
        "This two work also with `contextLength` that will tell the maximum distance that prefix or suffix words can be away from the word to match, whereas `context` are words that must be immediately after or before the word to match\n",
        "\n",
        "Now, there is another feature that can be used. The `dictionary` parameter. In this parameter, you define the set of words that you want to match and the word that will replace this match.\n",
        "\n",
        "For example, with this definition, you are telling `ContextualParser` that when words `woman`, `female`, and `girl` are matched those will be replaced by `female`, whereas `man`, `male`, `boy` and `gentleman` are matched those will be replaced by `male`. \n",
        "\n",
        "```\n",
        "female  woman   female  girl\n",
        "male    man male    boy gentleman\n",
        "```\n",
        "\n",
        "So, for example for this text:\n",
        "\n",
        "```\n",
        "At birth, the typical boy is growing slightly faster than the typical girl, but the velocities become equal at about seven months, and then the girl grows faster until four years. From then until adolescence no differences in velocity can be detected.\n",
        "```\n",
        "\n",
        "The expected output of the annotator will be:\n",
        "\n",
        "```\n",
        "val expectedResult = Array(\"boy\", \"girl\", \"girl\")\n",
        "val expectedMetadata =\n",
        "Array(Map(\"field\" -> \"Gender\", \"normalized\" -> \"male\", \"confidenceValue\" -> \"0.13\", \"hits\" -> \"regex\", \"sentence\" -> \"0\"),\n",
        "Map(\"field\" -> \"Gender\", \"normalized\" -> \"female\", \"confidenceValue\" -> \"0.13\", \"hits\" -> \"regex\", \"sentence\" -> \"0\"),\n",
        "Map(\"field\" -> \"Gender\", \"normalized\" -> \"female\", \"confidenceValue\" -> \"0.13\", \"hits\" -> \"regex\", \"sentence\" -> \"0\"))\n",
        "```\n",
        "\n",
        "For the `dictionary`, you just need to define a csv or tsv file, where the first element of the row is the normalized word, the other elements will be the values to match. You can define several words and elements to match just by adding another row and you set the path to the file on the parameter `setDictionary`.\n",
        "\n",
        "The `dictionary` parameter is of the type` ExternalResource` by default the delimiter is `\"\\t\"` you cand set another delimiter if you want according to your dictionary file format.\n"
      ]
    },
    {
      "cell_type": "code",
      "metadata": {
        "colab": {
          "base_uri": "https://localhost:8080/"
        },
        "id": "fOAs_iQnPGzP",
        "outputId": "f6daaf13-04fc-4508-b436-1fd80b09c599"
      },
      "source": [
        "sample_text = \"\"\"A 28 year old female with a history of gestational diabetes mellitus diagnosed eight years prior to \n",
        "presentation and subsequent type two diabetes mellitus ( T2DM ), one prior episode of HTG-induced pancreatitis \n",
        "three years prior to presentation , associated with an acute hepatitis , and obesity with a body mass index \n",
        "( BMI ) of 33.5 kg/m2 , presented with a one-week history of polyuria , polydipsia , poor appetite , and vomiting.\n",
        "Two weeks prior to presentation , she was treated with a five-day course of amoxicillin for a respiratory tract infection . \n",
        "She was on metformin , glipizide , and dapagliflozin for T2DM and atorvastatin and gemfibrozil for HTG . \n",
        "She had been on dapagliflozin for six months at the time of presentation . Physical examination on presentation was \n",
        "significant for dry oral mucosa ; significantly , her abdominal examination was benign with no tenderness , guarding , \n",
        "or rigidity . Pertinent laboratory findings on admission were : serum glucose 111 mg/dl , bicarbonate 18 mmol/l , \n",
        "anion gap 20 , creatinine 0.4 mg/dL , triglycerides 508 mg/dL , total cholesterol 122 mg/dL , glycated hemoglobin \n",
        "( HbA1c ) 10% , and venous pH 7.27 . Serum lipase was normal at 43 U/L . Serum acetone levels could not be assessed \n",
        "as blood samples kept hemolyzing due to significant lipemia .\n",
        "The patient was initially admitted for starvation ketosis , as she reported poor oral intake for three days prior \n",
        "to admission . However , serum chemistry obtained six hours after presentation revealed her glucose was 186 mg/dL , \n",
        "the anion gap was still elevated at 21 , serum bicarbonate was 16 mmol/L , triglyceride level peaked at 2050 mg/dL , \n",
        "and lipase was 52 U/L .\n",
        " β-hydroxybutyrate level was obtained and found to be elevated at 5.29 mmol/L - the original sample was centrifuged \n",
        " and the chylomicron layer removed prior to analysis due to interference from turbidity caused by lipemia again . \n",
        " The patient was treated with an insulin drip for euDKA and HTG with a reduction in the anion gap to 13 and triglycerides \n",
        " to 1400 mg/dL , within 24 hours .\n",
        " Twenty days ago.\n",
        " Her euDKA was thought to be precipitated by her respiratory tract infection in the setting of SGLT2 inhibitor use . \n",
        " At birth the typical boy is growing slightly faster than the typical girl, but the velocities become equal at about \n",
        " seven months, and then the girl grows faster until four years. \n",
        " From then until adolescence no differences in velocity \n",
        " can be detected. 21-02-2020 \n",
        "21/04/2020\n",
        "\"\"\"\n",
        "data = spark.createDataFrame([[sample_text]]).toDF(\"text\").cache()\n",
        "\n",
        "data.show(truncate = 100)"
      ],
      "execution_count": null,
      "outputs": [
        {
          "output_type": "stream",
          "name": "stdout",
          "text": [
            "+----------------------------------------------------------------------------------------------------+\n",
            "|                                                                                                text|\n",
            "+----------------------------------------------------------------------------------------------------+\n",
            "|A 28 year old female with a history of gestational diabetes mellitus diagnosed eight years prior ...|\n",
            "+----------------------------------------------------------------------------------------------------+\n",
            "\n"
          ]
        }
      ]
    },
    {
      "cell_type": "markdown",
      "metadata": {
        "id": "jx9O46cNRcJy"
      },
      "source": [
        "## Rules"
      ]
    },
    {
      "cell_type": "code",
      "metadata": {
        "id": "bJOOQl5hgLau",
        "colab": {
          "base_uri": "https://localhost:8080/"
        },
        "outputId": "3c3bc456-97dc-46b2-e2cf-2c5159bee916"
      },
      "source": [
        "!mkdir data"
      ],
      "execution_count": null,
      "outputs": [
        {
          "output_type": "stream",
          "name": "stdout",
          "text": [
            "mkdir: cannot create directory ‘data’: File exists\n"
          ]
        }
      ]
    },
    {
      "cell_type": "code",
      "metadata": {
        "id": "3VK9g0WPRbIG"
      },
      "source": [
        "gender = '''male,man,male,boy,gentleman,he,him\n",
        "female,woman,female,girl,lady,old-lady,she,her\n",
        "neutral,neutral'''\n",
        "\n",
        "with open('data/gender.csv', 'w') as f:\n",
        "    f.write(gender)\n",
        "\n",
        "\n",
        "gender = {\n",
        "  \"entity\": \"Gender\",\n",
        "  \"ruleScope\": \"sentence\", \n",
        "  \"completeMatchRegex\": \"true\"\n",
        "}\n",
        "\n",
        "import json\n",
        "\n",
        "with open('data/gender.json', 'w') as f:\n",
        "    json.dump(gender, f)\n",
        "\n",
        "\n",
        "date = {\n",
        "  \"entity\": \"Date \",\n",
        "  \"ruleScope\": \"sentence\",\n",
        "  \"regex\": \"\\\\d{1,2}[\\\\/\\\\-\\\\:]{1}(\\\\d{1,2}[\\\\/\\\\-\\\\:]{1}){0,1}\\\\d{2,4}\",\n",
        "  \"valuesDefinition\":[],\n",
        "  \"prefix\": [],\n",
        "  \"suffix\": [],\n",
        "  \"contextLength\": 150,\n",
        "  \"context\": []\n",
        "}\n",
        "\n",
        "with open('data/date.json', 'w') as f:\n",
        "    json.dump(date, f)\n",
        "\n",
        "\n",
        "age = {\n",
        "  \"entity\": \"Age\",\n",
        "  \"ruleScope\": \"sentence\",\n",
        "  \"matchScope\":\"token\",\n",
        "  \"regex\" : \"^[1][0-9][0-9]|[1-9][0-9]|[1-9]$\",\n",
        "  \"prefix\":[\"age of\", \"age\"],\n",
        "  \"suffix\": [\"-years-old\",\n",
        "             \"years-old\",\n",
        "             \"-year-old\",\n",
        "             \"-months-old\",\n",
        "             \"-month-old\",\n",
        "             \"-months-old\",\n",
        "             \"-day-old\",\n",
        "             \"-days-old\",\n",
        "             \"month old\",\n",
        "             \"days old\",\n",
        "             \"year old\",\n",
        "             \"years old\", \n",
        "             \"years\",\n",
        "             \"year\", \n",
        "             \"months\", \n",
        "             \"old\"\n",
        "              ],\n",
        "  \"contextLength\": 25,\n",
        "  \"context\": [],\n",
        "  \"contextException\": [\"ago\"],\n",
        "  \"exceptionDistance\": 10\n",
        "}\n",
        "\n",
        "with open('data/age.json', 'w') as f:\n",
        "    json.dump(age, f)\n"
      ],
      "execution_count": null,
      "outputs": []
    },
    {
      "cell_type": "markdown",
      "metadata": {
        "id": "fDBxU88hRE3p"
      },
      "source": [
        "## Pipeline definition\n",
        "\n",
        "All rule files from the rule folder are added to the pipeline. They will generate different annotation labels that need to be consolidated. "
      ]
    },
    {
      "cell_type": "code",
      "metadata": {
        "id": "3ELXhIv6RGEq"
      },
      "source": [
        "document_assembler = DocumentAssembler() \\\n",
        "    .setInputCol(\"text\") \\\n",
        "    .setOutputCol(\"document\")\n",
        "\n",
        "sentence_detector = SentenceDetector() \\\n",
        "    .setInputCols([\"document\"]) \\\n",
        "    .setOutputCol(\"sentence\")\n",
        "\n",
        "tokenizer = Tokenizer() \\\n",
        "    .setInputCols([\"sentence\"]) \\\n",
        "    .setOutputCol(\"token\")\n"
      ],
      "execution_count": null,
      "outputs": []
    },
    {
      "cell_type": "code",
      "metadata": {
        "colab": {
          "base_uri": "https://localhost:8080/"
        },
        "id": "dYToDI-ZRHg8",
        "outputId": "229f99fe-d146-4f9e-80ae-8ab74b99bfb6"
      },
      "source": [
        "!cd data && ls -lt"
      ],
      "execution_count": null,
      "outputs": [
        {
          "output_type": "stream",
          "name": "stdout",
          "text": [
            "total 16\n",
            "-rw-r--r-- 1 root root 434 Oct 13 18:49 age.json\n",
            "-rw-r--r-- 1 root root 205 Oct 13 18:49 date.json\n",
            "-rw-r--r-- 1 root root  97 Oct 13 18:49 gender.csv\n",
            "-rw-r--r-- 1 root root  75 Oct 13 18:49 gender.json\n"
          ]
        }
      ]
    },
    {
      "cell_type": "code",
      "metadata": {
        "id": "ZIarJj0-Tn1n"
      },
      "source": [
        "gender_contextual_parser = ContextualParserApproach() \\\n",
        "        .setInputCols([\"sentence\", \"token\"]) \\\n",
        "        .setOutputCol(\"entity_gender\") \\\n",
        "        .setJsonPath(\"data/gender.json\") \\\n",
        "        .setCaseSensitive(False) \\\n",
        "        .setContextMatch(False)\\\n",
        "        .setDictionary('data/gender.csv', read_as=ReadAs.TEXT, options={\"delimiter\":\",\"})\\\n",
        "        .setPrefixAndSuffixMatch(False)        "
      ],
      "execution_count": null,
      "outputs": []
    },
    {
      "cell_type": "code",
      "metadata": {
        "id": "lAI5XZ76UfJn"
      },
      "source": [
        "age_contextual_parser = ContextualParserApproach() \\\n",
        "        .setInputCols([\"sentence\", \"token\"]) \\\n",
        "        .setOutputCol(\"entity_age\") \\\n",
        "        .setJsonPath(\"data/age.json\") \\\n",
        "        .setCaseSensitive(False) \\\n",
        "        .setContextMatch(False)\\\n",
        "        .setPrefixAndSuffixMatch(False)"
      ],
      "execution_count": null,
      "outputs": []
    },
    {
      "cell_type": "code",
      "metadata": {
        "id": "dqkPMs0xUs3r"
      },
      "source": [
        "date_contextual_parser = ContextualParserApproach() \\\n",
        "        .setInputCols([\"sentence\", \"token\"]) \\\n",
        "        .setOutputCol(\"entity_date\") \\\n",
        "        .setJsonPath(\"data/date.json\") \\\n",
        "        .setCaseSensitive(False) \\\n",
        "        .setContextMatch(False)\\\n",
        "        .setPrefixAndSuffixMatch(False)"
      ],
      "execution_count": null,
      "outputs": []
    },
    {
      "cell_type": "code",
      "metadata": {
        "id": "y0RtCOh7PRp4"
      },
      "source": [
        "chunkConverter_date = ChunkConverter().setInputCols(\"entity_date\").setOutputCol(\"chunk_date\")\n",
        "chunkConverter_age = ChunkConverter().setInputCols(\"entity_age\").setOutputCol(\"chunk_age\")\n",
        "chunkConverter_gender = ChunkConverter().setInputCols(\"entity_gender\").setOutputCol(\"chunk_gender\")\n",
        "chunk_merger1 = ChunkMergeApproach().setInputCols([\"chunk_date\", \"chunk_age\"]).setOutputCol(\"merged_chunk1\")\n",
        "chunk_merger2 = ChunkMergeApproach().setInputCols([\"merged_chunk1\", \"chunk_gender\"]).setOutputCol(\"ner_chunk\")\n"
      ],
      "execution_count": null,
      "outputs": []
    },
    {
      "cell_type": "code",
      "metadata": {
        "id": "EjkdEV_uU2vQ"
      },
      "source": [
        "parserPipeline = Pipeline(stages=[\n",
        "        document_assembler, \n",
        "        sentence_detector,\n",
        "        tokenizer,\n",
        "        gender_contextual_parser,\n",
        "        age_contextual_parser,\n",
        "        date_contextual_parser,\n",
        "        chunkConverter_date,\n",
        "        chunkConverter_age,\n",
        "        chunkConverter_gender,\n",
        "        chunk_merger1,\n",
        "        chunk_merger2\n",
        "        ])\n",
        "\n",
        "empty_data = spark.createDataFrame([[\"\"]]).toDF(\"text\")\n",
        "\n",
        "parserModel = parserPipeline.fit(empty_data)\n",
        "\n",
        "light_model = LightPipeline(parserModel)\n"
      ],
      "execution_count": null,
      "outputs": []
    },
    {
      "cell_type": "code",
      "metadata": {
        "colab": {
          "base_uri": "https://localhost:8080/"
        },
        "id": "ZoFFRWxQTUOr",
        "outputId": "4e80f0d4-4bcf-46fc-9d69-fe3a82d7b72c"
      },
      "source": [
        "annotations = light_model.fullAnnotate(sample_text)[0]\n",
        "annotations.keys()"
      ],
      "execution_count": null,
      "outputs": [
        {
          "output_type": "execute_result",
          "data": {
            "text/plain": [
              "dict_keys(['chunk_age', 'document', 'entity_gender', 'token', 'entity_date', 'merged_chunk1', 'entity_age', 'chunk_gender', 'chunk_date', 'sentence', 'merged_chunk2'])"
            ]
          },
          "metadata": {},
          "execution_count": 51
        }
      ]
    },
    {
      "cell_type": "code",
      "metadata": {
        "colab": {
          "base_uri": "https://localhost:8080/",
          "height": 1000
        },
        "id": "wCP8lyTlP2Y0",
        "outputId": "0de396ce-dcc6-4e30-dabc-202ee6321427"
      },
      "source": [
        "from sparknlp_display import NerVisualizer\n",
        "\n",
        "visualiser = NerVisualizer()\n",
        "\n",
        "visualiser.display(annotations, label_col='ner_chunk', document_col='document')"
      ],
      "execution_count": null,
      "outputs": [
        {
          "output_type": "display_data",
          "data": {
            "text/html": [
              "\n",
              "<style>\n",
              "    @import url('https://fonts.googleapis.com/css2?family=Montserrat:wght@300;400;500;600;700&display=swap');\n",
              "    @import url('https://fonts.googleapis.com/css2?family=Vistol Regular:wght@300;400;500;600;700&display=swap');\n",
              "    \n",
              "    .spark-nlp-display-scroll-entities {\n",
              "        border: 1px solid #E7EDF0;\n",
              "        border-radius: 3px;\n",
              "        text-align: justify;\n",
              "        \n",
              "    }\n",
              "    .spark-nlp-display-scroll-entities span {  \n",
              "        font-size: 14px;\n",
              "        line-height: 24px;\n",
              "        color: #536B76;\n",
              "        font-family: 'Montserrat', sans-serif !important;\n",
              "    }\n",
              "    \n",
              "    .spark-nlp-display-entity-wrapper{\n",
              "    \n",
              "        display: inline-grid;\n",
              "        text-align: center;\n",
              "        border-radius: 4px;\n",
              "        margin: 0 2px 5px 2px;\n",
              "        padding: 1px\n",
              "    }\n",
              "    .spark-nlp-display-entity-name{\n",
              "        font-size: 14px;\n",
              "        line-height: 24px;\n",
              "        font-family: 'Montserrat', sans-serif !important;\n",
              "        \n",
              "        background: #f1f2f3;\n",
              "        border-width: medium;\n",
              "        text-align: center;\n",
              "        \n",
              "        font-weight: 400;\n",
              "        \n",
              "        border-radius: 5px;\n",
              "        padding: 2px 5px;\n",
              "        display: block;\n",
              "        margin: 3px 2px;\n",
              "    \n",
              "    }\n",
              "    .spark-nlp-display-entity-type{\n",
              "        font-size: 14px;\n",
              "        line-height: 24px;\n",
              "        color: #ffffff;\n",
              "        font-family: 'Montserrat', sans-serif !important;\n",
              "        \n",
              "        text-transform: uppercase;\n",
              "        \n",
              "        font-weight: 500;\n",
              "\n",
              "        display: block;\n",
              "        padding: 3px 5px;\n",
              "    }\n",
              "    \n",
              "    .spark-nlp-display-entity-resolution{\n",
              "        font-size: 14px;\n",
              "        line-height: 24px;\n",
              "        color: #ffffff;\n",
              "        font-family: 'Vistol Regular', sans-serif !important;\n",
              "        \n",
              "        text-transform: uppercase;\n",
              "        \n",
              "        font-weight: 500;\n",
              "\n",
              "        display: block;\n",
              "        padding: 3px 5px;\n",
              "    }\n",
              "    \n",
              "    .spark-nlp-display-others{\n",
              "        font-size: 14px;\n",
              "        line-height: 24px;\n",
              "        font-family: 'Montserrat', sans-serif !important;\n",
              "        \n",
              "        font-weight: 400;\n",
              "    }\n",
              "\n",
              "</style>\n",
              " <span class=\"spark-nlp-display-others\" style=\"background-color: white\">A </span><span class=\"spark-nlp-display-entity-wrapper\" style=\"background-color: #ffe0ac\"><span class=\"spark-nlp-display-entity-name\">28 </span><span class=\"spark-nlp-display-entity-type\">Age</span></span><span class=\"spark-nlp-display-others\" style=\"background-color: white\"> year old </span><span class=\"spark-nlp-display-entity-wrapper\" style=\"background-color: #ffacb7\"><span class=\"spark-nlp-display-entity-name\">female </span><span class=\"spark-nlp-display-entity-type\">Gender</span></span><span class=\"spark-nlp-display-others\" style=\"background-color: white\"> with a history of gestational diabetes mellitus diagnosed eight years prior to <br>presentation and subsequent type two diabetes mellitus ( T2DM ), one prior episode of HTG-induced pancreatitis <br>three years prior to presentation , associated with an acute hepatitis , and obesity with a body mass index <br>( BMI ) of 33.5 kg/m2 , presented with a one-week history of polyuria , polydipsia , poor appetite , and vomiting.<br>Two weeks prior to presentation , </span><span class=\"spark-nlp-display-entity-wrapper\" style=\"background-color: #ffacb7\"><span class=\"spark-nlp-display-entity-name\">she </span><span class=\"spark-nlp-display-entity-type\">Gender</span></span><span class=\"spark-nlp-display-others\" style=\"background-color: white\"> was treated with a five-day course of amoxicillin for a respiratory tract infection . <br></span><span class=\"spark-nlp-display-entity-wrapper\" style=\"background-color: #ffacb7\"><span class=\"spark-nlp-display-entity-name\">she </span><span class=\"spark-nlp-display-entity-type\">Gender</span></span><span class=\"spark-nlp-display-others\" style=\"background-color: white\"> was on metformin , glipizide , and dapagliflozin for T2DM and atorvastatin and gemfibrozil for HTG . <br></span><span class=\"spark-nlp-display-entity-wrapper\" style=\"background-color: #ffacb7\"><span class=\"spark-nlp-display-entity-name\">she </span><span class=\"spark-nlp-display-entity-type\">Gender</span></span><span class=\"spark-nlp-display-others\" style=\"background-color: white\"> had been on dapagliflozin for six months at the time of presentation . Physical examination on presentation was <br>significant for dry oral mucosa ; significantly , </span><span class=\"spark-nlp-display-entity-wrapper\" style=\"background-color: #ffacb7\"><span class=\"spark-nlp-display-entity-name\">her </span><span class=\"spark-nlp-display-entity-type\">Gender</span></span><span class=\"spark-nlp-display-others\" style=\"background-color: white\"> abdominal examination was benign with no tenderness , guarding , <br>or rigidity . Pertinent laboratory findings on admission were : serum glucose 111 mg/dl , bicarbonate 18 mmol/l , <br>anion gap 20 , creatinine 0.4 mg/dL , triglycerides 508 mg/dL , total cholesterol 122 mg/dL , glycated hemoglobin <br>( HbA1c ) 10% , and venous pH 7.27 . Serum lipase was normal at 43 U/L . Serum acetone levels could not be assessed <br>as blood samples kept hemolyzing due to significant lipemia .<br>The patient was initially admitted for starvation ketosis , as </span><span class=\"spark-nlp-display-entity-wrapper\" style=\"background-color: #ffacb7\"><span class=\"spark-nlp-display-entity-name\">she </span><span class=\"spark-nlp-display-entity-type\">Gender</span></span><span class=\"spark-nlp-display-others\" style=\"background-color: white\"> reported poor oral intake for three days prior <br>to admission . However , serum chemistry obtained six hours after presentation revealed </span><span class=\"spark-nlp-display-entity-wrapper\" style=\"background-color: #ffacb7\"><span class=\"spark-nlp-display-entity-name\">her </span><span class=\"spark-nlp-display-entity-type\">Gender</span></span><span class=\"spark-nlp-display-others\" style=\"background-color: white\"> glucose was 186 mg/dL , <br>the anion gap was still elevated at 21 , serum bicarbonate was 16 mmol/L , triglyceride level peaked at 2050 mg/dL , <br>and lipase was 52 U/L .<br> β-hydroxybutyrate level was obtained and found to be elevated at 5.29 mmol/L - the original sample was centrifuged <br> and the chylomicron layer removed prior to analysis due to interference from turbidity caused by lipemia again . <br> The patient was treated with an insulin drip for euDKA and HTG with a reduction in the anion gap to 13 and triglycerides <br> to 1400 mg/dL , within 24 hours .<br> Twenty days ago.<br> </span><span class=\"spark-nlp-display-entity-wrapper\" style=\"background-color: #ffacb7\"><span class=\"spark-nlp-display-entity-name\">her </span><span class=\"spark-nlp-display-entity-type\">Gender</span></span><span class=\"spark-nlp-display-others\" style=\"background-color: white\"> euDKA was thought to be precipitated by </span><span class=\"spark-nlp-display-entity-wrapper\" style=\"background-color: #ffacb7\"><span class=\"spark-nlp-display-entity-name\">her </span><span class=\"spark-nlp-display-entity-type\">Gender</span></span><span class=\"spark-nlp-display-others\" style=\"background-color: white\"> respiratory tract infection in the setting of SGLT2 inhibitor use . <br> At birth the typical </span><span class=\"spark-nlp-display-entity-wrapper\" style=\"background-color: #ffacb7\"><span class=\"spark-nlp-display-entity-name\">boy </span><span class=\"spark-nlp-display-entity-type\">Gender</span></span><span class=\"spark-nlp-display-others\" style=\"background-color: white\"> is growing slightly faster than the typical </span><span class=\"spark-nlp-display-entity-wrapper\" style=\"background-color: #ffacb7\"><span class=\"spark-nlp-display-entity-name\">girl </span><span class=\"spark-nlp-display-entity-type\">Gender</span></span><span class=\"spark-nlp-display-others\" style=\"background-color: white\">, but the velocities become equal at about <br> seven months, and then the </span><span class=\"spark-nlp-display-entity-wrapper\" style=\"background-color: #ffacb7\"><span class=\"spark-nlp-display-entity-name\">girl </span><span class=\"spark-nlp-display-entity-type\">Gender</span></span><span class=\"spark-nlp-display-others\" style=\"background-color: white\"> grows faster until four years. <br> From then until adolescence no differences in velocity <br> can be detected. </span><span class=\"spark-nlp-display-entity-wrapper\" style=\"background-color: #78A72A\"><span class=\"spark-nlp-display-entity-name\">21-02-2020 </span><span class=\"spark-nlp-display-entity-type\">Date </span></span><span class=\"spark-nlp-display-others\" style=\"background-color: white\"> <br></span><span class=\"spark-nlp-display-entity-wrapper\" style=\"background-color: #78A72A\"><span class=\"spark-nlp-display-entity-name\">21/04/2020 </span><span class=\"spark-nlp-display-entity-type\">Date </span></span><span class=\"spark-nlp-display-others\" style=\"background-color: white\"><br></span></div>"
            ],
            "text/plain": [
              "<IPython.core.display.HTML object>"
            ]
          },
          "metadata": {}
        }
      ]
    }
  ]
}
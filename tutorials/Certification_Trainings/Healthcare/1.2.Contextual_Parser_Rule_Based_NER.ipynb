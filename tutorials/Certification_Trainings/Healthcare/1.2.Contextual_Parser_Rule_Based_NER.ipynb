{
  "nbformat": 4,
  "nbformat_minor": 0,
  "metadata": {
    "colab": {
      "name": "1.2.Contextual_Parser.ipynb",
      "provenance": [],
      "collapsed_sections": [],
      "toc_visible": true
    },
    "kernelspec": {
      "display_name": "Python 3",
      "language": "python",
      "name": "python3"
    },
    "language_info": {
      "codemirror_mode": {
        "name": "ipython",
        "version": 3
      },
      "file_extension": ".py",
      "mimetype": "text/x-python",
      "name": "python",
      "nbconvert_exporter": "python",
      "pygments_lexer": "ipython3",
      "version": "3.7.4"
    }
  },
  "cells": [
    {
      "cell_type": "markdown",
      "metadata": {
        "id": "i8W51t04BN6B"
      },
      "source": [
        "![JohnSnowLabs](https://nlp.johnsnowlabs.com/assets/images/logo.png)"
      ]
    },
    {
      "cell_type": "markdown",
      "metadata": {
        "id": "21lTnEqRBd0s"
      },
      "source": [
        "[![Open In Colab](https://colab.research.google.com/assets/colab-badge.svg)](https://colab.research.google.com/github/JohnSnowLabs/spark-nlp-workshop/blob/master/tutorials/Certification_Trainings/Healthcare/1.2.Contextual_Parser_Rule_Based_NER.ipynb)"
      ]
    },
    {
      "cell_type": "markdown",
      "metadata": {
        "id": "3-vwpSj3BSbj"
      },
      "source": [
        "# 1.2 ContextualParser (Rule Based NER)"
      ]
    },
    {
      "cell_type": "markdown",
      "metadata": {
        "id": "5SBh1CNgOg54"
      },
      "source": [
        "## Colab Setup"
      ]
    },
    {
      "cell_type": "code",
      "metadata": {
        "colab": {
          "resources": {
            "http://localhost:8080/nbextensions/google.colab/files.js": {
              "data": "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",
              "ok": true,
              "headers": [
                [
                  "content-type",
                  "application/javascript"
                ]
              ],
              "status": 200,
              "status_text": ""
            }
          },
          "base_uri": "https://localhost:8080/",
          "height": 109
        },
        "id": "iW6JfkPdNnG4",
        "outputId": "c8228b38-f04b-487b-e9bf-3111f3828061"
      },
      "source": [
        "import json\n",
        "\n",
        "from google.colab import files\n",
        "\n",
        "license_keys = files.upload()\n",
        "\n",
        "with open(list(license_keys.keys())[0]) as f:\n",
        "    license_keys = json.load(f)\n",
        "\n",
        "license_keys.keys()"
      ],
      "execution_count": 1,
      "outputs": [
        {
          "output_type": "display_data",
          "data": {
            "text/html": [
              "\n",
              "     <input type=\"file\" id=\"files-52ff2582-3413-45c4-b1a0-23be4394de79\" name=\"files[]\" multiple disabled\n",
              "        style=\"border:none\" />\n",
              "     <output id=\"result-52ff2582-3413-45c4-b1a0-23be4394de79\">\n",
              "      Upload widget is only available when the cell has been executed in the\n",
              "      current browser session. Please rerun this cell to enable.\n",
              "      </output>\n",
              "      <script src=\"/nbextensions/google.colab/files.js\"></script> "
            ],
            "text/plain": [
              "<IPython.core.display.HTML object>"
            ]
          },
          "metadata": {
            "tags": []
          }
        },
        {
          "output_type": "stream",
          "text": [
            "Saving license_keys_272.json to license_keys_272.json\n"
          ],
          "name": "stdout"
        },
        {
          "output_type": "execute_result",
          "data": {
            "text/plain": [
              "dict_keys(['PUBLIC_VERSION', 'JSL_VERSION', 'SECRET', 'SPARK_NLP_LICENSE', 'AWS_ACCESS_KEY_ID', 'AWS_SECRET_ACCESS_KEY', 'SPARK_OCR_LICENSE', 'SPARK_OCR_SECRET'])"
            ]
          },
          "metadata": {
            "tags": []
          },
          "execution_count": 1
        }
      ]
    },
    {
      "cell_type": "code",
      "metadata": {
        "colab": {
          "base_uri": "https://localhost:8080/"
        },
        "id": "9-ItT3UbOmsg",
        "outputId": "b47e4a10-a874-484b-8ce8-daa2e86895e4"
      },
      "source": [
        "import os\n",
        "\n",
        "# Install java\n",
        "! apt-get update -qq\n",
        "! apt-get install -y openjdk-8-jdk-headless -qq > /dev/null\n",
        "\n",
        "os.environ[\"JAVA_HOME\"] = \"/usr/lib/jvm/java-8-openjdk-amd64\"\n",
        "os.environ[\"PATH\"] = os.environ[\"JAVA_HOME\"] + \"/bin:\" + os.environ[\"PATH\"]\n",
        "! java -version\n",
        "\n",
        "secret = license_keys['SECRET']\n",
        "\n",
        "os.environ['SPARK_NLP_LICENSE'] = license_keys['SPARK_NLP_LICENSE']\n",
        "os.environ['AWS_ACCESS_KEY_ID']= license_keys['AWS_ACCESS_KEY_ID']\n",
        "os.environ['AWS_SECRET_ACCESS_KEY'] = license_keys['AWS_SECRET_ACCESS_KEY']\n",
        "version = license_keys['PUBLIC_VERSION']\n",
        "jsl_version = license_keys['JSL_VERSION']\n",
        "\n",
        "! pip install --ignore-installed -q pyspark==2.4.4\n",
        "\n",
        "! python -m pip install --upgrade spark-nlp-jsl==$jsl_version  --extra-index-url https://pypi.johnsnowlabs.com/$secret\n",
        "\n",
        "! pip install --ignore-installed -q spark-nlp==$version\n",
        "\n",
        "import sparknlp\n",
        "\n",
        "print (sparknlp.version())\n",
        "\n",
        "import json\n",
        "import os\n",
        "from pyspark.ml import Pipeline\n",
        "from pyspark.sql import SparkSession\n",
        "\n",
        "\n",
        "from sparknlp.annotator import *\n",
        "from sparknlp_jsl.annotator import *\n",
        "from sparknlp.base import *\n",
        "import sparknlp_jsl\n",
        "\n",
        "spark = sparknlp_jsl.start(secret)"
      ],
      "execution_count": 2,
      "outputs": [
        {
          "output_type": "stream",
          "text": [
            "openjdk version \"1.8.0_275\"\n",
            "OpenJDK Runtime Environment (build 1.8.0_275-8u275-b01-0ubuntu1~18.04-b01)\n",
            "OpenJDK 64-Bit Server VM (build 25.275-b01, mixed mode)\n",
            "\u001b[K     |████████████████████████████████| 215.7MB 58kB/s \n",
            "\u001b[K     |████████████████████████████████| 204kB 41.4MB/s \n",
            "\u001b[?25h  Building wheel for pyspark (setup.py) ... \u001b[?25l\u001b[?25hdone\n",
            "Looking in indexes: https://pypi.org/simple, https://pypi.johnsnowlabs.com/2.7.2-7ad44c2a1a61c48b6a74446b0a7cb6b97c58dba0\n",
            "Collecting spark-nlp-jsl==2.7.2\n",
            "\u001b[?25l  Downloading https://pypi.johnsnowlabs.com/2.7.2-7ad44c2a1a61c48b6a74446b0a7cb6b97c58dba0/spark-nlp-jsl/spark_nlp_jsl-2.7.2-py3-none-any.whl (45kB)\n",
            "\u001b[K     |████████████████████████████████| 51kB 396kB/s \n",
            "\u001b[?25hCollecting spark-nlp==2.6.5\n",
            "\u001b[?25l  Downloading https://files.pythonhosted.org/packages/c6/1d/9a2a7c17fc3b3aa78b3921167feed4911d5a055833fea390e7741bba0870/spark_nlp-2.6.5-py2.py3-none-any.whl (130kB)\n",
            "\u001b[K     |████████████████████████████████| 133kB 4.7MB/s \n",
            "\u001b[?25hInstalling collected packages: spark-nlp, spark-nlp-jsl\n",
            "Successfully installed spark-nlp-2.6.5 spark-nlp-jsl-2.7.2\n",
            "\u001b[K     |████████████████████████████████| 143kB 5.5MB/s \n",
            "\u001b[31mERROR: spark-nlp-jsl 2.7.2 has requirement spark-nlp==2.6.5, but you'll have spark-nlp 2.7.1 which is incompatible.\u001b[0m\n",
            "\u001b[?25h2.7.1\n"
          ],
          "name": "stdout"
        }
      ]
    },
    {
      "cell_type": "code",
      "metadata": {
        "colab": {
          "base_uri": "https://localhost:8080/",
          "height": 218
        },
        "id": "TYAJM4qXQ0HP",
        "outputId": "e312a678-2fcd-4421-f608-edbb247959a1"
      },
      "source": [
        "spark"
      ],
      "execution_count": 4,
      "outputs": [
        {
          "output_type": "execute_result",
          "data": {
            "text/html": [
              "\n",
              "            <div>\n",
              "                <p><b>SparkSession - in-memory</b></p>\n",
              "                \n",
              "        <div>\n",
              "            <p><b>SparkContext</b></p>\n",
              "\n",
              "            <p><a href=\"http://8fbc0e4aa43d:4040\">Spark UI</a></p>\n",
              "\n",
              "            <dl>\n",
              "              <dt>Version</dt>\n",
              "                <dd><code>v2.4.4</code></dd>\n",
              "              <dt>Master</dt>\n",
              "                <dd><code>local[*]</code></dd>\n",
              "              <dt>AppName</dt>\n",
              "                <dd><code>Spark NLP Licensed</code></dd>\n",
              "            </dl>\n",
              "        </div>\n",
              "        \n",
              "            </div>\n",
              "        "
            ],
            "text/plain": [
              "<pyspark.sql.session.SparkSession at 0x7f553eb8d710>"
            ]
          },
          "metadata": {
            "tags": []
          },
          "execution_count": 4
        }
      ]
    },
    {
      "cell_type": "markdown",
      "metadata": {
        "id": "PwBzjFCdSQe7"
      },
      "source": [
        "## How it works\n",
        "\n",
        "This annotator is a kind of RegexMatcher based on a JSON file, that is defined through the parameter `setJsonPath()`\n",
        "\n",
        "In this JSON file, you define the regex that you want to match along with the information that will output on metadata field.\n",
        "\n",
        "For example here, you define the name of an entity that will categorize the matches, the regex value and the  `matchScope` that will tell the regex whether to make a full match or a partial match\n",
        "\n",
        "```\n",
        "{\n",
        "  \"entity\": \"Stage\",\n",
        "  \"ruleScope\": \"sentence\",\n",
        "  \"regex\": \"[cpyrau]?[T][0-9X?][a-z^cpyrau]*\",\n",
        "  \"matchScope\": \"token\"\n",
        "}\n",
        "```\n",
        "\n",
        "\n",
        "Ignore the `ruleScope` for the moment, it's always at a `sentence` level. Which means find match on each sentence. So, for example for this text:\n",
        "```\n",
        "A patient has liver metastases pT1bN0M0 and the T5 primary site may be colon or lung. If the primary site is not clearly identified , this case is cT4bcN2M1, Stage Grouping 88. N4 A child T?N3M1  has soft tissue aM3 sarcoma and the staging has been left unstaged. Both clinical and pathologic staging would be coded pT1bN0M0 as unstageable cT3cN2.Medications started.\n",
        "```\n",
        "\n",
        "The expected result will be:\n",
        "```\n",
        "val expectedResult = Array(\"pT1bN0M0\", \"T5\", \"cT4bcN2M1\", \"T?N3M1\", \"pT1bN0M0\", \"cT3cN2.Medications\")\n",
        "val expectedMetadata =\n",
        "Array(Map(\"field\" -> \"Stage\", \"normalized\" -> \"\", \"confidenceValue\" -> \"0.13\", \"hits\" -> \"regex\", \"sentence\" -> \"0\"),\n",
        "\t  Map(\"field\" -> \"Stage\", \"normalized\" -> \"\", \"confidenceValue\" -> \"0.13\", \"hits\" -> \"regex\", \"sentence\" -> \"0\"),\n",
        "\t  Map(\"field\" -> \"Stage\", \"normalized\" -> \"\", \"confidenceValue\" -> \"0.13\", \"hits\" -> \"regex\", \"sentence\" -> \"1\"),\n",
        "\t  Map(\"field\" -> \"Stage\", \"normalized\" -> \"\", \"confidenceValue\" -> \"0.13\", \"hits\" -> \"regex\", \"sentence\" -> \"2\"),\n",
        "\t  Map(\"field\" -> \"Stage\", \"normalized\" -> \"\", \"confidenceValue\" -> \"0.13\", \"hits\" -> \"regex\", \"sentence\" -> \"3\"),\n",
        "\t  Map(\"field\" -> \"Stage\", \"normalized\" -> \"\", \"confidenceValue\" -> \"0.13\", \"hits\" -> \"regex\", \"sentence\" -> \"3\")\n",
        "\t )\n",
        "```\n",
        "\n",
        "Whereas, using a `matchScope` at sub-token level it will output:\n",
        "\n",
        "```\n",
        "val expectedResult = Array(\"pT1b\", \"T5\", \"cT4bc\", \"T?\", \"pT1b\", \"cT3c\")\n",
        "val expectedMetadata =\n",
        "Array(Map(\"field\" -> \"Stage\", \"normalized\" -> \"\", \"confidenceValue\" -> \"0.13\", \"hits\" -> \"regex\", \"sentence\" -> \"0\"),\n",
        "Map(\"field\" -> \"Stage\", \"normalized\" -> \"\", \"confidenceValue\" -> \"0.13\", \"hits\" -> \"regex\", \"sentence\" -> \"0\"),\n",
        "Map(\"field\" -> \"Stage\", \"normalized\" -> \"\", \"confidenceValue\" -> \"0.13\", \"hits\" -> \"regex\", \"sentence\" -> \"1\"),\n",
        "Map(\"field\" -> \"Stage\", \"normalized\" -> \"\", \"confidenceValue\" -> \"0.13\", \"hits\" -> \"regex\", \"sentence\" -> \"2\"),\n",
        "Map(\"field\" -> \"Stage\", \"normalized\" -> \"\", \"confidenceValue\" -> \"0.13\", \"hits\" -> \"regex\", \"sentence\" -> \"3\"),\n",
        "Map(\"field\" -> \"Stage\", \"normalized\" -> \"\", \"confidenceValue\" -> \"0.13\", \"hits\" -> \"regex\", \"sentence\" -> \"3\")\n",
        ")\n",
        "```\n",
        "\n",
        "The `confidence` value is another feature, which is computed  basically using a heuristic approach based on how many matches it has.\n",
        "\n",
        "To clarify how many matches, this is an example of the JSON file with additional fields that will define the match we want to get\n",
        "\n",
        "```\n",
        "{\n",
        "  \"entity\": \"Gender\",\n",
        "  \"ruleScope\": \"sentence\",\n",
        "  \"matchScope\": \"token\",\n",
        "  \"prefix\": [\"birth\", \"growing\", \"assessment\"],\n",
        "  \"suffix\": [\"faster\", \"velocities\"],\n",
        "  \"contextLength\": 50,\n",
        "  \"context\": [\"typical\", \"grows\"]\n",
        "}\n",
        "```\n",
        "\n",
        "\n",
        "for example, `prefix` and `suffix` refer to the words that are required to be near the word we want to match.\n",
        "\n",
        "This two work also with `contextLength` that will tell the maximum distance that prefix or suffix words can be away from the word to match, whereas `context` are words that must be immediately after or before the word to match\n",
        "\n",
        "Now, there is another feature that can be used. The `dictionary` parameter. In this parameter, you define the set of words that you want to match and the word that will replace this match.\n",
        "\n",
        "For example, with this definition, you are telling `ContextualParser` that when words `woman`, `female`, and `girl` are matched those will be replaced by `female`, whereas `man`, `male`, `boy` and `gentleman` are matched those will be replaced by `male`. \n",
        "\n",
        "```\n",
        "female  woman   female  girl\n",
        "male    man male    boy gentleman\n",
        "```\n",
        "\n",
        "So, for example for this text:\n",
        "\n",
        "```\n",
        "At birth, the typical boy is growing slightly faster than the typical girl, but the velocities become equal at about seven months, and then the girl grows faster until four years. From then until adolescence no differences in velocity can be detected.\n",
        "```\n",
        "\n",
        "The expected output of the annotator will be:\n",
        "\n",
        "```\n",
        "val expectedResult = Array(\"boy\", \"girl\", \"girl\")\n",
        "val expectedMetadata =\n",
        "Array(Map(\"field\" -> \"Gender\", \"normalized\" -> \"male\", \"confidenceValue\" -> \"0.13\", \"hits\" -> \"regex\", \"sentence\" -> \"0\"),\n",
        "Map(\"field\" -> \"Gender\", \"normalized\" -> \"female\", \"confidenceValue\" -> \"0.13\", \"hits\" -> \"regex\", \"sentence\" -> \"0\"),\n",
        "Map(\"field\" -> \"Gender\", \"normalized\" -> \"female\", \"confidenceValue\" -> \"0.13\", \"hits\" -> \"regex\", \"sentence\" -> \"0\"))\n",
        "```\n",
        "\n",
        "For the `dictionary`, you just need to define a csv or tsv file, where the first element of the row is the normalized word, the other elements will be the values to match. You can define several words and elements to match just by adding another row and you set the path to the file on the parameter `setDictionary`.\n",
        "\n",
        "The `dictionary` parameter is of the type` ExternalResource` by default the delimiter is `\"\\t\"` you cand set another delimiter if your want according to your dictionary file format.\n"
      ]
    },
    {
      "cell_type": "code",
      "metadata": {
        "colab": {
          "base_uri": "https://localhost:8080/"
        },
        "id": "fOAs_iQnPGzP",
        "outputId": "c3733672-bf78-4b55-afbb-1281a23551cf"
      },
      "source": [
        "sample_text = \"\"\"A 28-year-old female with a history of gestational diabetes mellitus diagnosed eight years prior to \n",
        "presentation and subsequent type two diabetes mellitus ( T2DM ), one prior episode of HTG-induced pancreatitis \n",
        "three years prior to presentation , associated with an acute hepatitis , and obesity with a body mass index \n",
        "( BMI ) of 33.5 kg/m2 , presented with a one-week history of polyuria , polydipsia , poor appetite , and vomiting.\n",
        "Two weeks prior to presentation , she was treated with a five-day course of amoxicillin for a respiratory tract infection . \n",
        "She was on metformin , glipizide , and dapagliflozin for T2DM and atorvastatin and gemfibrozil for HTG . \n",
        "She had been on dapagliflozin for six months at the time of presentation . Physical examination on presentation was \n",
        "significant for dry oral mucosa ; significantly , her abdominal examination was benign with no tenderness , guarding , \n",
        "or rigidity . Pertinent laboratory findings on admission were : serum glucose 111 mg/dl , bicarbonate 18 mmol/l , \n",
        "anion gap 20 , creatinine 0.4 mg/dL , triglycerides 508 mg/dL , total cholesterol 122 mg/dL , glycated hemoglobin \n",
        "( HbA1c ) 10% , and venous pH 7.27 . Serum lipase was normal at 43 U/L . Serum acetone levels could not be assessed \n",
        "as blood samples kept hemolyzing due to significant lipemia .\n",
        "The patient was initially admitted for starvation ketosis , as she reported poor oral intake for three days prior \n",
        "to admission . However , serum chemistry obtained six hours after presentation revealed her glucose was 186 mg/dL , \n",
        "the anion gap was still elevated at 21 , serum bicarbonate was 16 mmol/L , triglyceride level peaked at 2050 mg/dL , \n",
        "and lipase was 52 U/L .\n",
        " β-hydroxybutyrate level was obtained and found to be elevated at 5.29 mmol/L - the original sample was centrifuged \n",
        " and the chylomicron layer removed prior to analysis due to interference from turbidity caused by lipemia again . \n",
        " The patient was treated with an insulin drip for euDKA and HTG with a reduction in the anion gap to 13 and triglycerides \n",
        " to 1400 mg/dL , within 24 hours .\n",
        " Twenty days ago.\n",
        " Her euDKA was thought to be precipitated by her respiratory tract infection in the setting of SGLT2 inhibitor use . \n",
        " At birth the typical boy is growing slightly faster than the typical girl, but the velocities become equal at about \n",
        " seven months, and then the girl grows faster until four years. \n",
        " From then until adolescence no differences in velocity \n",
        " can be detected. 21-02-2020 \n",
        "21/04/2020\n",
        "\"\"\"\n",
        "data = spark.createDataFrame([[sample_text]]).toDF(\"text\").cache()\n",
        "\n",
        "data.show(truncate = 100)"
      ],
      "execution_count": 5,
      "outputs": [
        {
          "output_type": "stream",
          "text": [
            "+----------------------------------------------------------------------------------------------------+\n",
            "|                                                                                                text|\n",
            "+----------------------------------------------------------------------------------------------------+\n",
            "|A 28-year-old female with a history of gestational diabetes mellitus diagnosed eight years prior ...|\n",
            "+----------------------------------------------------------------------------------------------------+\n",
            "\n"
          ],
          "name": "stdout"
        }
      ]
    },
    {
      "cell_type": "markdown",
      "metadata": {
        "id": "jx9O46cNRcJy"
      },
      "source": [
        "## Rules"
      ]
    },
    {
      "cell_type": "code",
      "metadata": {
        "id": "bJOOQl5hgLau"
      },
      "source": [
        "!mkdir data"
      ],
      "execution_count": 6,
      "outputs": []
    },
    {
      "cell_type": "code",
      "metadata": {
        "id": "3VK9g0WPRbIG"
      },
      "source": [
        "gender = '''male,man,male,boy,gentleman,he,him\n",
        "female,woman,female,girl,lady,old-lady,she,her\n",
        "neutral,neutral'''\n",
        "\n",
        "with open('data/gender.csv', 'w') as f:\n",
        "    f.write(gender)\n",
        "\n",
        "\n",
        "gender = {\n",
        "  \"entity\": \"Gender\",\n",
        "  \"ruleScope\": \"sentence\", \n",
        "  \"completeMatchRegex\": \"true\"\n",
        "}\n",
        "\n",
        "import json\n",
        "\n",
        "with open('data/gender.json', 'w') as f:\n",
        "    json.dump(gender, f)\n",
        "\n",
        "\n",
        "date = {\n",
        "  \"entity\": \"Date \",\n",
        "  \"ruleScope\": \"sentence\",\n",
        "  \"regex\": \"\\\\d{1,2}[\\\\/\\\\-\\\\:]{1}(\\\\d{1,2}[\\\\/\\\\-\\\\:]{1}){0,1}\\\\d{2,4}\",\n",
        "  \"valuesDefinition\":[],\n",
        "  \"prefix\": [],\n",
        "  \"suffix\": [],\n",
        "  \"contextLength\": 150,\n",
        "  \"context\": []\n",
        "}\n",
        "\n",
        "with open('data/date.json', 'w') as f:\n",
        "    json.dump(date, f)\n",
        "\n",
        "\n",
        "age = {\n",
        "  \"entity\": \"Age\",\n",
        "  \"ruleScope\": \"sentence\",\n",
        "   \"matchScope\":\"token\",\n",
        "  \"regex\":\"\\\\s*(0?[1-9]|[1-9][0-9]|[1][1-9][1-9]|200){1,2}[\\\\s-,]+|(?i)\\\\b(?:zero|ten|eleven|twelve|thirteen|fourteen|fifteen|sixteen|seventeen|eighteen|nineteen|twenty)\\\\b(?=\\\\s*year)|\\\\b(?:(?:one|two|three|four|five|six|seven|eight|nine)? hundred(?:\\\\sand)?\\\\s)?(?:(?:twenty|thirty|forty|fifty|sixty|seventy|eighty|ninety)[\\\\s-]?)?\\\\b(?:one|two|three|four|five|six|seven|eight|nine)?(?=\\\\syear)\",\n",
        "  \"prefix\":[\"age of\"],\n",
        "  \"suffix\": [\"-years-old\",\n",
        "             \"years-old\",\n",
        "             \"-year-old\",\n",
        "             \"-months-old\",\n",
        "             \"-month-old\",\n",
        "             \"-months-old\",\n",
        "             \"-day-old\",\n",
        "             \"-days-old\",\n",
        "             \"month old\",\n",
        "             \"days old\",\n",
        "             \"year old\",\n",
        "             \"years old\", \n",
        "             \"years\",\n",
        "             \"year\", \n",
        "             \"months\", \n",
        "             \"old\"\n",
        "              ],\n",
        "  \"contextLength\": 25,\n",
        "  \"context\": [],\n",
        "  \"contextException\": [\"ago\"],\n",
        "  \"exceptionDistance\": 10\n",
        "}\n",
        "\n",
        "with open('data/age.json', 'w') as f:\n",
        "    json.dump(age, f)\n"
      ],
      "execution_count": 7,
      "outputs": []
    },
    {
      "cell_type": "markdown",
      "metadata": {
        "id": "fDBxU88hRE3p"
      },
      "source": [
        "## Pipeline definition\n",
        "\n",
        "All rule files from the rule folder are added to the pipeline. They will generate different annotation labels that need to be consolidated. "
      ]
    },
    {
      "cell_type": "code",
      "metadata": {
        "id": "3ELXhIv6RGEq"
      },
      "source": [
        "document_assembler = DocumentAssembler() \\\n",
        "    .setInputCol(\"text\") \\\n",
        "    .setOutputCol(\"document\")\n",
        "\n",
        "sentence_detector = SentenceDetector() \\\n",
        "    .setInputCols([\"document\"]) \\\n",
        "    .setOutputCol(\"sentence\")\n",
        "\n",
        "tokenizer = Tokenizer() \\\n",
        "    .setInputCols([\"sentence\"]) \\\n",
        "    .setOutputCol(\"token\")\n"
      ],
      "execution_count": 8,
      "outputs": []
    },
    {
      "cell_type": "code",
      "metadata": {
        "colab": {
          "base_uri": "https://localhost:8080/"
        },
        "id": "dYToDI-ZRHg8",
        "outputId": "b44603d3-d611-461b-bd69-d312a298d4a3"
      },
      "source": [
        "!cd data && ls -lt"
      ],
      "execution_count": 9,
      "outputs": [
        {
          "output_type": "stream",
          "text": [
            "total 16\n",
            "-rw-r--r-- 1 root root 780 Jan 23 19:45 age.json\n",
            "-rw-r--r-- 1 root root 205 Jan 23 19:45 date.json\n",
            "-rw-r--r-- 1 root root  75 Jan 23 19:45 gender.json\n",
            "-rw-r--r-- 1 root root  97 Jan 23 19:45 gender.csv\n"
          ],
          "name": "stdout"
        }
      ]
    },
    {
      "cell_type": "code",
      "metadata": {
        "id": "ZIarJj0-Tn1n"
      },
      "source": [
        "gender_contextual_parser = ContextualParserApproach() \\\n",
        "        .setInputCols([\"sentence\", \"token\"]) \\\n",
        "        .setOutputCol(\"entity_gender\") \\\n",
        "        .setJsonPath(\"data/gender.json\") \\\n",
        "        .setCaseSensitive(False) \\\n",
        "        .setContextMatch(True)\\\n",
        "        .setDictionary('data/gender.csv', read_as=ReadAs.TEXT, options={\"delimiter\":\",\"})"
      ],
      "execution_count": 10,
      "outputs": []
    },
    {
      "cell_type": "code",
      "metadata": {
        "id": "lAI5XZ76UfJn"
      },
      "source": [
        "age_contextual_parser = ContextualParserApproach() \\\n",
        "        .setInputCols([\"sentence\", \"token\"]) \\\n",
        "        .setOutputCol(\"entity_age\") \\\n",
        "        .setJsonPath(\"data/age.json\") \\\n",
        "        .setCaseSensitive(False) \\\n",
        "        .setContextMatch(True)"
      ],
      "execution_count": 11,
      "outputs": []
    },
    {
      "cell_type": "code",
      "metadata": {
        "id": "dqkPMs0xUs3r"
      },
      "source": [
        "date_contextual_parser = ContextualParserApproach() \\\n",
        "        .setInputCols([\"sentence\", \"token\"]) \\\n",
        "        .setOutputCol(\"entity_date\") \\\n",
        "        .setJsonPath(\"data/date.json\") \\\n",
        "        .setCaseSensitive(False) \\\n",
        "        .setContextMatch(True)"
      ],
      "execution_count": 12,
      "outputs": []
    },
    {
      "cell_type": "code",
      "metadata": {
        "id": "EjkdEV_uU2vQ"
      },
      "source": [
        "parserPipeline = Pipeline(stages=[\n",
        "    document_assembler, \n",
        "    sentence_detector,\n",
        "    tokenizer,\n",
        "    gender_contextual_parser,\n",
        "    age_contextual_parser,\n",
        "    date_contextual_parser])\n",
        "\n",
        "empty_data = spark.createDataFrame([[\"\"]]).toDF(\"text\")\n",
        "\n",
        "parserModel = parserPipeline.fit(empty_data)\n",
        "\n",
        "light_model = LightPipeline(parserModel)\n"
      ],
      "execution_count": 14,
      "outputs": []
    },
    {
      "cell_type": "code",
      "metadata": {
        "colab": {
          "base_uri": "https://localhost:8080/"
        },
        "id": "ZoFFRWxQTUOr",
        "outputId": "b2d790a8-e890-4bf6-bd8b-ba146fb8a1d6"
      },
      "source": [
        "\n",
        "annotations = light_model.fullAnnotate(sample_text)[0]\n",
        "annotations.keys()"
      ],
      "execution_count": 15,
      "outputs": [
        {
          "output_type": "execute_result",
          "data": {
            "text/plain": [
              "dict_keys(['document', 'entity_gender', 'token', 'entity_date', 'entity_age', 'sentence'])"
            ]
          },
          "metadata": {
            "tags": []
          },
          "execution_count": 15
        }
      ]
    },
    {
      "cell_type": "code",
      "metadata": {
        "colab": {
          "base_uri": "https://localhost:8080/"
        },
        "id": "knG87gHJVWtS",
        "outputId": "6b831734-5634-4162-fed2-ceacac2b8981"
      },
      "source": [
        "print (annotations['entity_gender'])\n",
        "print (annotations['entity_age'])\n",
        "print (annotations['entity_date'])"
      ],
      "execution_count": 16,
      "outputs": [
        {
          "output_type": "stream",
          "text": [
            "[]\n",
            "[]\n",
            "[]\n"
          ],
          "name": "stdout"
        }
      ]
    },
    {
      "cell_type": "code",
      "metadata": {
        "id": "NmxsbggxVYUd"
      },
      "source": [
        "import random\n",
        "\n",
        "def get_color():\n",
        "    r = lambda: random.randint(100,255)\n",
        "    return '#%02X%02X%02X' % (r(),r(),r())"
      ],
      "execution_count": 17,
      "outputs": []
    },
    {
      "cell_type": "code",
      "metadata": {
        "id": "atAnfqYvX7eX"
      },
      "source": [
        "ner_chunks = []\n",
        "label_color = {}\n",
        "unified_entities = {'entity':[]}\n",
        "for ent_name in annotations.keys():\n",
        "    if \"entity\" in ent_name and len(annotations[ent_name])>0:\n",
        "        ner_chunks.append(ent_name)\n",
        "        label = annotations[ent_name][0].metadata['field']\n",
        "        label_color[label] = get_color()\n",
        "        unified_entities['entity'].extend(annotations[ent_name])"
      ],
      "execution_count": 18,
      "outputs": []
    },
    {
      "cell_type": "code",
      "metadata": {
        "id": "vDqyL9w7X-nE"
      },
      "source": [
        "unified_entities['entity'].sort(key=lambda x: x.begin, reverse=False)"
      ],
      "execution_count": 19,
      "outputs": []
    },
    {
      "cell_type": "code",
      "metadata": {
        "colab": {
          "base_uri": "https://localhost:8080/"
        },
        "id": "9VOsWqREYPH3",
        "outputId": "c322ba3b-d1b3-4dc2-cd3b-088c9f7a4261"
      },
      "source": [
        "unified_entities['entity']"
      ],
      "execution_count": 20,
      "outputs": [
        {
          "output_type": "execute_result",
          "data": {
            "text/plain": [
              "[]"
            ]
          },
          "metadata": {
            "tags": []
          },
          "execution_count": 20
        }
      ]
    },
    {
      "cell_type": "markdown",
      "metadata": {
        "id": "m8M6YOniYU0O"
      },
      "source": [
        "## Highlighting the entites with html"
      ]
    },
    {
      "cell_type": "code",
      "metadata": {
        "id": "kN33NTAMYQL6"
      },
      "source": [
        "html_output = ''\n",
        "pos = 0\n",
        "\n",
        "for n in unified_entities['entity']:\n",
        "    if pos < n.begin and pos < len(sample_text):\n",
        "        white_text = sample_text[pos:n.begin]\n",
        "        html_output += '<span class=\"others\" style=\"background-color: white\">{}</span>'.format(white_text)\n",
        "    pos = n.end+1\n",
        "    html_output += '<span class=\"entity-wrapper\" style=\"background-color: {}\"><span class=\"entity-name\">{} </span><span class=\"entity-type\">[{}]</span></span>'.format(\n",
        "        label_color[n.metadata['field']],\n",
        "        n.result,\n",
        "        n.metadata['field'])\n",
        "\n",
        "if pos < len(sample_text):\n",
        "    html_output += '<span class=\"others\" style=\"background-color: white\">{}</span>'.format(sample_text[pos:])\n",
        "\n",
        "html_output += \"\"\"</div>\"\"\""
      ],
      "execution_count": null,
      "outputs": []
    },
    {
      "cell_type": "code",
      "metadata": {
        "colab": {
          "base_uri": "https://localhost:8080/",
          "height": 366
        },
        "id": "rjzcQ3ffYYZW",
        "outputId": "e0e33054-2ae9-4cf9-a982-224bff2b4c8f"
      },
      "source": [
        "from IPython.display import HTML\n",
        "\n",
        "HTML(html_output)"
      ],
      "execution_count": null,
      "outputs": [
        {
          "output_type": "execute_result",
          "data": {
            "text/html": [
              "<span class=\"others\" style=\"background-color: white\">A 28-year-old female with a history of gestational diabetes mellitus diagnosed eight years prior to \n",
              "presentation and subsequent type two diabetes mellitus ( T2DM ), one prior episode of HTG-induced pancreatitis \n",
              "three years prior to presentation , associated with an acute hepatitis , and obesity with a body mass index \n",
              "( BMI ) of 33.5 kg/m2 , presented with a one-week history of polyuria , polydipsia , poor appetite , and vomiting.\n",
              "Two weeks prior to presentation , she was treated with a five-day course of amoxicillin for a respiratory tract infection . \n",
              "She was on metformin , glipizide , and dapagliflozin for T2DM and atorvastatin and gemfibrozil for HTG . \n",
              "She had been on dapagliflozin for six months at the time of presentation . Physical examination on presentation was \n",
              "significant for dry oral mucosa ; significantly , her abdominal examination was benign with no tenderness , guarding , \n",
              "or rigidity . Pertinent laboratory findings on admission were : serum glucose 111 mg/dl , bicarbonate 18 mmol/l , \n",
              "anion gap 20 , creatinine 0.4 mg/dL , triglycerides 508 mg/dL , total cholesterol 122 mg/dL , glycated hemoglobin \n",
              "( HbA1c ) 10% , and venous pH 7.27 . Serum lipase was normal at 43 U/L . Serum acetone levels could not be assessed \n",
              "as blood samples kept hemolyzing due to significant lipemia .\n",
              "The patient was initially admitted for starvation ketosis , as she reported poor oral intake for three days prior \n",
              "to admission . However , serum chemistry obtained six hours after presentation revealed her glucose was 186 mg/dL , \n",
              "the anion gap was still elevated at 21 , serum bicarbonate was 16 mmol/L , triglyceride level peaked at 2050 mg/dL , \n",
              "and lipase was 52 U/L .\n",
              " β-hydroxybutyrate level was obtained and found to be elevated at 5.29 mmol/L - the original sample was centrifuged \n",
              " and the chylomicron layer removed prior to analysis due to interference from turbidity caused by lipemia again . \n",
              " The patient was treated with an insulin drip for euDKA and HTG with a reduction in the anion gap to 13 and triglycerides \n",
              " to 1400 mg/dL , within 24 hours .\n",
              " Twenty days ago.\n",
              " Her euDKA was thought to be precipitated by her respiratory tract infection in the setting of SGLT2 inhibitor use . \n",
              " At birth the typical boy is growing slightly faster than the typical girl, but the velocities become equal at about \n",
              " seven months, and then the girl grows faster until four years. \n",
              " From then until adolescence no differences in velocity \n",
              " can be detected. 21-02-2020 \n",
              "21/04/2020\n",
              "</span></div>"
            ],
            "text/plain": [
              "<IPython.core.display.HTML object>"
            ]
          },
          "metadata": {
            "tags": []
          },
          "execution_count": 42
        }
      ]
    },
    {
      "cell_type": "code",
      "metadata": {
        "id": "JLs8JIm1YdhV"
      },
      "source": [
        ""
      ],
      "execution_count": null,
      "outputs": []
    },
    {
      "cell_type": "code",
      "metadata": {
        "id": "5WB7GglLgLa1"
      },
      "source": [
        ""
      ],
      "execution_count": null,
      "outputs": []
    }
  ]
}
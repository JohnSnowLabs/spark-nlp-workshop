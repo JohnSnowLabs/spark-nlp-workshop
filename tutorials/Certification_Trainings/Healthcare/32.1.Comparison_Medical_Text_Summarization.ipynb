{
 "cells": [
  {
   "attachments": {},
   "cell_type": "markdown",
   "id": "aebf60ac",
   "metadata": {},
   "source": [
    "![JohnSnowLabs](https://nlp.johnsnowlabs.com/assets/images/logo.png)\n"
   ]
  },
  {
   "attachments": {},
   "cell_type": "markdown",
   "id": "2279bc76",
   "metadata": {},
   "source": [
    "[![Open In Colab](https://colab.research.google.com/assets/colab-badge.svg)](https://colab.research.google.com/github/JohnSnowLabs/spark-nlp-workshop/blob/master/tutorials/Certification_Trainings/Healthcare/32.1.Comparison_Medical_Text_Summarization.ipynb)"
   ]
  },
  {
   "cell_type": "markdown",
   "id": "806c7e89-829b-4ae5-812b-940e5ae163c0",
   "metadata": {},
   "source": [
    "# Medical Text Summarization Comparison \n",
    "## Spark NLP for Healthcare vs Other SOTA Models"
   ]
  },
  {
   "cell_type": "code",
   "execution_count": null,
   "id": "06644535-bfc7-4e1d-b497-fef48bbbcfa0",
   "metadata": {},
   "outputs": [],
   "source": [
    "!pip install -q transformers\n",
    "!pip install  -q sentencepiece\n",
    "!pip install  -q git+https://github.com/Tiiiger/bert_score"
   ]
  },
  {
   "cell_type": "code",
   "execution_count": 40,
   "id": "6c5dd268-206d-4cf3-8369-8ac7a02826da",
   "metadata": {
    "execution": {
     "iopub.execute_input": "2023-04-20T08:52:10.666863Z",
     "iopub.status.busy": "2023-04-20T08:52:10.666308Z",
     "iopub.status.idle": "2023-04-20T08:52:10.670164Z",
     "shell.execute_reply": "2023-04-20T08:52:10.669591Z",
     "shell.execute_reply.started": "2023-04-20T08:52:10.666830Z"
    },
    "tags": []
   },
   "outputs": [
    {
     "name": "stdout",
     "output_type": "stream",
     "text": [
      "\n",
      "INDICATIONS: Peripheral vascular disease with claudication.\n",
      "\n",
      "RIGHT:\n",
      "1. Normal arterial imaging of right lower extremity.\n",
      "2. Peak systolic velocity is normal.\n",
      "3. Arterial waveform is triphasic.\n",
      "4. Ankle brachial index is 0.96.\n",
      "\n",
      "LEFT:\n",
      "1. Normal arterial imaging of left lower extremity.\n",
      "\n",
      "2. Peak systolic velocity is normal.\n",
      "3. Arterial waveform is triphasic throughout except in posterior tibial artery where it is biphasic.\n",
      "4. Ankle brachial index is 1.06.\n",
      "\n",
      "IMPRESSION:\n",
      "Normal arterial imaging of both lower extremities.\n",
      "\n"
     ]
    }
   ],
   "source": [
    "radiology_text = '''\n",
    "INDICATIONS: Peripheral vascular disease with claudication.\n",
    "\n",
    "RIGHT:\n",
    "1. Normal arterial imaging of right lower extremity.\n",
    "2. Peak systolic velocity is normal.\n",
    "3. Arterial waveform is triphasic.\n",
    "4. Ankle brachial index is 0.96.\n",
    "\n",
    "LEFT:\n",
    "1. Normal arterial imaging of left lower extremity.\n",
    "\n",
    "2. Peak systolic velocity is normal.\n",
    "3. Arterial waveform is triphasic throughout except in posterior tibial artery where it is biphasic.\n",
    "4. Ankle brachial index is 1.06.\n",
    "\n",
    "IMPRESSION:\n",
    "Normal arterial imaging of both lower extremities.\n",
    "'''\n",
    "\n",
    "print (radiology_text)"
   ]
  },
  {
   "cell_type": "code",
   "execution_count": 42,
   "id": "542a06d5-6c2c-4091-82bd-78e94e965181",
   "metadata": {
    "execution": {
     "iopub.execute_input": "2023-04-20T08:52:37.919038Z",
     "iopub.status.busy": "2023-04-20T08:52:37.918738Z",
     "iopub.status.idle": "2023-04-20T08:52:37.922836Z",
     "shell.execute_reply": "2023-04-20T08:52:37.922230Z",
     "shell.execute_reply.started": "2023-04-20T08:52:37.919019Z"
    },
    "tags": []
   },
   "outputs": [
    {
     "name": "stdout",
     "output_type": "stream",
     "text": [
      " Patient with hypertension, syncope, and spinal stenosis - for recheck.\n",
      " (Medical Transcription Sample Report)\n",
      " \n",
      " SUBJECTIVE:\n",
      " The patient is a 78-year-old female who returns for recheck. She has hypertension. She denies difficulty with chest pain, palpations, orthopnea, nocturnal dyspnea, or edema.\n",
      " \n",
      " PAST MEDICAL HISTORY / SURGERY / HOSPITALIZATIONS:\n",
      " Reviewed and unchanged from the dictation on 12/03/2003.\n",
      " \n",
      " MEDICATIONS:\n",
      " Atenolol 50 mg daily, Premarin 0.625 mg daily, calcium with vitamin D two to three pills daily, multivitamin daily, aspirin as needed, and TriViFlor 25 mg two pills daily. She also has Elocon cream 0.1% and Synalar cream 0.01% that she uses as needed for rash.\n"
     ]
    }
   ],
   "source": [
    "\n",
    "clinical_text = \"\"\" Patient with hypertension, syncope, and spinal stenosis - for recheck.\n",
    " (Medical Transcription Sample Report)\n",
    " \n",
    " SUBJECTIVE:\n",
    " The patient is a 78-year-old female who returns for recheck. She has hypertension. She denies difficulty with chest pain, palpations, orthopnea, nocturnal dyspnea, or edema.\n",
    " \n",
    " PAST MEDICAL HISTORY / SURGERY / HOSPITALIZATIONS:\n",
    " Reviewed and unchanged from the dictation on 12/03/2003.\n",
    " \n",
    " MEDICATIONS:\n",
    " Atenolol 50 mg daily, Premarin 0.625 mg daily, calcium with vitamin D two to three pills daily, multivitamin daily, aspirin as needed, and TriViFlor 25 mg two pills daily. She also has Elocon cream 0.1% and Synalar cream 0.01% that she uses as needed for rash.\"\"\"\n",
    " \n",
    "print (clinical_text)\n",
    " "
   ]
  },
  {
   "cell_type": "code",
   "execution_count": 68,
   "id": "42203660-5b42-42e6-bdfe-e693622d40ca",
   "metadata": {
    "execution": {
     "iopub.execute_input": "2023-04-20T09:22:00.993941Z",
     "iopub.status.busy": "2023-04-20T09:22:00.993366Z",
     "iopub.status.idle": "2023-04-20T09:22:00.997330Z",
     "shell.execute_reply": "2023-04-20T09:22:00.996765Z",
     "shell.execute_reply.started": "2023-04-20T09:22:00.993920Z"
    },
    "tags": []
   },
   "outputs": [],
   "source": [
    "summary_dict = {\"flan-t5-base-samsum\":{'radiology_text':'', \n",
    "                                      'clinical_text':''},\n",
    "                \"flan-t5-base\":{'radiology_text':'', \n",
    "                                      'clinical_text':''},\n",
    "                \"bart-large-samsum\":{'radiology_text':'', \n",
    "                                      'clinical_text':''},\n",
    "                \"pegasus-samsum\":{'radiology_text':'', \n",
    "                                      'clinical_text':''},\n",
    "                \"pegasus-xsum\":{'radiology_text':'', \n",
    "                                      'clinical_text':''},\n",
    "                \"bart-large-samsum\":{'radiology_text':'', \n",
    "                                      'clinical_text':''},\n",
    "                \"bart-large-cnn-samsum\":{'radiology_text':'', \n",
    "                                      'clinical_text':''}\n",
    "               }"
   ]
  },
  {
   "cell_type": "markdown",
   "id": "1e15d4f5-9936-435a-b290-f3543a868566",
   "metadata": {},
   "source": [
    "## Flan-T5-base-samsum"
   ]
  },
  {
   "cell_type": "markdown",
   "id": "25459211-18e2-4f3d-bbc4-e41c4d586994",
   "metadata": {},
   "source": [
    "\n",
    "- model_name = \"philschmid/flan-t5-base-samsum\"\n",
    "- model_size = 250M\n",
    "- base_model = flan-t5\n",
    "- dataset = samsum\n",
    "- domain = general\n",
    "- owner = google (fine-tuned)\n",
    "- code_availibilty = fine tunning code is not available\n",
    "- checkpoints_availaibility = Available\n",
    "- link_to_repo = https://huggingface.co/philschmid/flan-t5-base-samsum/tree/main\n",
    "\n",
    "Reported metrics\n",
    "- Loss: 1.3716\n",
    "- Rouge1: 47.2358\n",
    "- Rouge2: 23.5135\n",
    "- Rougel: 39.6266\n",
    "- Rougelsum: 43.3458\n",
    "- Gen Len: 17.3907"
   ]
  },
  {
   "cell_type": "code",
   "execution_count": 69,
   "id": "71211c55-5f69-47cc-a41f-022ca06bf7c3",
   "metadata": {
    "execution": {
     "iopub.execute_input": "2023-04-20T09:22:30.901111Z",
     "iopub.status.busy": "2023-04-20T09:22:30.900800Z",
     "iopub.status.idle": "2023-04-20T09:22:39.238424Z",
     "shell.execute_reply": "2023-04-20T09:22:39.237779Z",
     "shell.execute_reply.started": "2023-04-20T09:22:30.901092Z"
    },
    "tags": []
   },
   "outputs": [],
   "source": [
    "from transformers import T5Tokenizer, T5ForConditionalGeneration\n",
    "\n",
    "tokenizer = T5Tokenizer.from_pretrained(\"philschmid/flan-t5-base-samsum\")\n",
    "model = T5ForConditionalGeneration.from_pretrained(\"philschmid/flan-t5-base-samsum\")"
   ]
  },
  {
   "cell_type": "code",
   "execution_count": 21,
   "id": "8b6f6311-f859-49b0-a790-3e1b68ed363e",
   "metadata": {
    "execution": {
     "iopub.execute_input": "2023-04-20T08:41:44.660368Z",
     "iopub.status.busy": "2023-04-20T08:41:44.659942Z",
     "iopub.status.idle": "2023-04-20T08:41:44.663573Z",
     "shell.execute_reply": "2023-04-20T08:41:44.663049Z",
     "shell.execute_reply.started": "2023-04-20T08:41:44.660346Z"
    },
    "tags": []
   },
   "outputs": [],
   "source": [
    "def get_summary (model, text):\n",
    "\n",
    "    input_ids = tokenizer(text, return_tensors=\"pt\", max_length=1024, truncation=True).input_ids\n",
    "    outputs = model.generate(input_ids,  max_length=512)\n",
    "    res = tokenizer.decode(outputs[0], skip_special_tokens=True)\n",
    "    return res"
   ]
  },
  {
   "cell_type": "code",
   "execution_count": 70,
   "id": "8235cfc0-d9c7-4f1d-92d5-f0faacfc2534",
   "metadata": {
    "execution": {
     "iopub.execute_input": "2023-04-20T09:22:49.791981Z",
     "iopub.status.busy": "2023-04-20T09:22:49.791566Z",
     "iopub.status.idle": "2023-04-20T09:22:52.986365Z",
     "shell.execute_reply": "2023-04-20T09:22:52.985761Z",
     "shell.execute_reply.started": "2023-04-20T09:22:49.791963Z"
    },
    "tags": []
   },
   "outputs": [
    {
     "data": {
      "text/plain": [
       "'RIGHT: 1. Normal arterial imaging of right lower extremity. 2. Peak systolic velocity is normal. 3. Arterial waveform is triphasic throughout except in posterior tibial artery where it is biphasic. 4. Ankle brachial index is 1.06. IMPRESSION: Normal arterial imaging of both lower extremities.'"
      ]
     },
     "execution_count": 70,
     "metadata": {},
     "output_type": "execute_result"
    }
   ],
   "source": [
    "summary_dict['flan-t5-base-samsum']['radiology_text'] = get_summary(model, \"summarize:\"+radiology_text)\n",
    "summary_dict['flan-t5-base-samsum']['radiology_text']"
   ]
  },
  {
   "cell_type": "code",
   "execution_count": 71,
   "id": "9494cb42-0ad9-4481-9d46-fc0fdb1650d6",
   "metadata": {
    "execution": {
     "iopub.execute_input": "2023-04-20T09:23:05.536554Z",
     "iopub.status.busy": "2023-04-20T09:23:05.535911Z",
     "iopub.status.idle": "2023-04-20T09:23:06.705935Z",
     "shell.execute_reply": "2023-04-20T09:23:06.705362Z",
     "shell.execute_reply.started": "2023-04-20T09:23:05.536528Z"
    },
    "tags": []
   },
   "outputs": [
    {
     "data": {
      "text/plain": [
       "'A patient with hypertension, syncope, and spinal stenosis for recheck.'"
      ]
     },
     "execution_count": 71,
     "metadata": {},
     "output_type": "execute_result"
    }
   ],
   "source": [
    "summary_dict['flan-t5-base-samsum']['clinical_text'] = get_summary(model, \"summarize:\"+clinical_text)\n",
    "summary_dict['flan-t5-base-samsum']['clinical_text']"
   ]
  },
  {
   "cell_type": "markdown",
   "id": "43763984-6150-41c5-9833-7040c0860bfd",
   "metadata": {},
   "source": [
    "## Flan-T5-base"
   ]
  },
  {
   "cell_type": "markdown",
   "id": "8bb99811-0453-451f-9e25-06ac010f525b",
   "metadata": {},
   "source": [
    "- model_name = \"google/flan-t5-base\"\n",
    "- model_size = 250M\n",
    "- base_model = flan-t5\n",
    "- domain = general\n",
    "- owner = google\n",
    "- checkpoints_availaibility = Available\n",
    "- link_to_repo = https://huggingface.co/google/flan-t5-base\n"
   ]
  },
  {
   "cell_type": "code",
   "execution_count": 72,
   "id": "e8114b9a-de20-41bf-8d15-e5996d40750c",
   "metadata": {
    "execution": {
     "iopub.execute_input": "2023-04-20T09:23:28.410033Z",
     "iopub.status.busy": "2023-04-20T09:23:28.409744Z",
     "iopub.status.idle": "2023-04-20T09:23:30.281301Z",
     "shell.execute_reply": "2023-04-20T09:23:30.280701Z",
     "shell.execute_reply.started": "2023-04-20T09:23:28.410014Z"
    },
    "tags": []
   },
   "outputs": [],
   "source": [
    "from transformers import T5Tokenizer, T5ForConditionalGeneration\n",
    "\n",
    "tokenizer = T5Tokenizer.from_pretrained(\"google/flan-t5-base\")\n",
    "model = T5ForConditionalGeneration.from_pretrained(\"google/flan-t5-base\")"
   ]
  },
  {
   "cell_type": "code",
   "execution_count": 74,
   "id": "9e1b66ce-cb3c-43cf-8828-9d9adceb8d00",
   "metadata": {
    "execution": {
     "iopub.execute_input": "2023-04-20T09:23:43.204315Z",
     "iopub.status.busy": "2023-04-20T09:23:43.203771Z",
     "iopub.status.idle": "2023-04-20T09:23:45.816613Z",
     "shell.execute_reply": "2023-04-20T09:23:45.816015Z",
     "shell.execute_reply.started": "2023-04-20T09:23:43.204297Z"
    },
    "tags": []
   },
   "outputs": [
    {
     "data": {
      "text/plain": [
       "'RIGHT: 1. Normal arterial imaging of right lower extremity. 2. Peak systolic velocity is normal. 3. Arterial waveform is triphasic throughout except in posterior tibial artery where it is biphasic. 4. Ankle brachial index is 0.06'"
      ]
     },
     "execution_count": 74,
     "metadata": {},
     "output_type": "execute_result"
    }
   ],
   "source": [
    "summary_dict['flan-t5-base']['radiology_text'] = get_summary(model, \"summarize:\"+radiology_text)\n",
    "summary_dict['flan-t5-base']['radiology_text']"
   ]
  },
  {
   "cell_type": "code",
   "execution_count": 75,
   "id": "540583cb-78d9-4b3e-918d-2986a24cb2c8",
   "metadata": {
    "execution": {
     "iopub.execute_input": "2023-04-20T09:23:59.542763Z",
     "iopub.status.busy": "2023-04-20T09:23:59.542465Z",
     "iopub.status.idle": "2023-04-20T09:24:00.758348Z",
     "shell.execute_reply": "2023-04-20T09:24:00.757676Z",
     "shell.execute_reply.started": "2023-04-20T09:23:59.542743Z"
    },
    "tags": []
   },
   "outputs": [
    {
     "data": {
      "text/plain": [
       "'- recheck of a patient with hypertension, syncope, and spinal stenosis'"
      ]
     },
     "execution_count": 75,
     "metadata": {},
     "output_type": "execute_result"
    }
   ],
   "source": [
    "summary_dict['flan-t5-base']['clinical_text'] = get_summary(model, \"summarize:\"+clinical_text)\n",
    "summary_dict['flan-t5-base']['clinical_text']"
   ]
  },
  {
   "cell_type": "markdown",
   "id": "f60c5a76-cabe-484f-9f71-45d82b2827ed",
   "metadata": {},
   "source": [
    "## Pegasus-xsum"
   ]
  },
  {
   "cell_type": "code",
   "execution_count": 76,
   "id": "e41ea81e-6c48-4d80-817b-d0c130b12853",
   "metadata": {
    "execution": {
     "iopub.execute_input": "2023-04-20T09:24:07.931525Z",
     "iopub.status.busy": "2023-04-20T09:24:07.931230Z",
     "iopub.status.idle": "2023-04-20T09:24:13.985763Z",
     "shell.execute_reply": "2023-04-20T09:24:13.985187Z",
     "shell.execute_reply.started": "2023-04-20T09:24:07.931507Z"
    },
    "tags": []
   },
   "outputs": [],
   "source": [
    "from transformers import PegasusForConditionalGeneration, PegasusTokenizer\n",
    "import torch\n",
    "\n",
    "tokenizer = PegasusTokenizer.from_pretrained(\"google/pegasus-xsum\")\n",
    "model = PegasusForConditionalGeneration.from_pretrained(\"google/pegasus-xsum\")"
   ]
  },
  {
   "cell_type": "code",
   "execution_count": 77,
   "id": "ed4cee5b-c5b4-4728-a5c4-99e63f908228",
   "metadata": {
    "execution": {
     "iopub.execute_input": "2023-04-20T09:24:29.096890Z",
     "iopub.status.busy": "2023-04-20T09:24:29.096350Z",
     "iopub.status.idle": "2023-04-20T09:24:32.930902Z",
     "shell.execute_reply": "2023-04-20T09:24:32.930293Z",
     "shell.execute_reply.started": "2023-04-20T09:24:29.096869Z"
    },
    "tags": []
   },
   "outputs": [
    {
     "data": {
      "text/plain": [
       "'Arterial imaging of both lower extremities.'"
      ]
     },
     "execution_count": 77,
     "metadata": {},
     "output_type": "execute_result"
    }
   ],
   "source": [
    "summary_dict['pegasus-xsum']['radiology_text'] =  get_summary(model, radiology_text)\n",
    "summary_dict['pegasus-xsum']['radiology_text']"
   ]
  },
  {
   "cell_type": "code",
   "execution_count": 78,
   "id": "99d9cfae-0f4a-405b-87b1-8bc656f7a3de",
   "metadata": {
    "execution": {
     "iopub.execute_input": "2023-04-20T09:24:42.861175Z",
     "iopub.status.busy": "2023-04-20T09:24:42.860855Z",
     "iopub.status.idle": "2023-04-20T09:24:50.043539Z",
     "shell.execute_reply": "2023-04-20T09:24:50.042849Z",
     "shell.execute_reply.started": "2023-04-20T09:24:42.861157Z"
    },
    "tags": []
   },
   "outputs": [
    {
     "data": {
      "text/plain": [
       "'A case report of a 78-year-old woman with hypertension, syncope, and spinal stenosis.'"
      ]
     },
     "execution_count": 78,
     "metadata": {},
     "output_type": "execute_result"
    }
   ],
   "source": [
    "summary_dict['pegasus-xsum']['clinical_text'] = get_summary(model, clinical_text)\n",
    "summary_dict['pegasus-xsum']['clinical_text']"
   ]
  },
  {
   "cell_type": "markdown",
   "id": "3ad54c1f-9e19-47b3-aab2-6ccc3cbcd2f6",
   "metadata": {},
   "source": [
    "## Pegasus Samsum"
   ]
  },
  {
   "cell_type": "markdown",
   "id": "0d1b5f2a-a4ae-4ea4-93ca-76101034b155",
   "metadata": {},
   "source": [
    "- model_name = transformersbook/pegasus-samsum\n",
    "- model_size = 570M\n",
    "- base_model = google/pegasus-cnn_dailymail\n",
    "- dataset = samsum\n",
    "- domain = general\n",
    "- owner = google (fine-tunned)\n",
    "- code_availibilty = https://github.com/nlp-with-transformers/notebooks/blob/main/06_summarization.ipynb\n",
    "- checkpoints_availaibility = Available\n",
    "- link_to_repo = https://github.com/nlp-with-transformers/notebooks/blob/main/06_summarization.ipynb"
   ]
  },
  {
   "cell_type": "code",
   "execution_count": 79,
   "id": "f0c9b8e5-bcc3-45dc-abae-dfeb7a161aec",
   "metadata": {
    "execution": {
     "iopub.execute_input": "2023-04-20T09:24:55.441965Z",
     "iopub.status.busy": "2023-04-20T09:24:55.441672Z",
     "iopub.status.idle": "2023-04-20T09:25:02.802892Z",
     "shell.execute_reply": "2023-04-20T09:25:02.802346Z",
     "shell.execute_reply.started": "2023-04-20T09:24:55.441948Z"
    },
    "tags": []
   },
   "outputs": [],
   "source": [
    "from transformers import AutoTokenizer, AutoModelForSeq2SeqLM\n",
    "import torch\n",
    "\n",
    "tokenizer = AutoTokenizer.from_pretrained(\"transformersbook/pegasus-samsum\")\n",
    "model = AutoModelForSeq2SeqLM.from_pretrained(\"transformersbook/pegasus-samsum\")\n"
   ]
  },
  {
   "cell_type": "code",
   "execution_count": 80,
   "id": "acedb783-b9ae-4be6-9f7b-253382d2d688",
   "metadata": {
    "execution": {
     "iopub.execute_input": "2023-04-20T09:25:13.817711Z",
     "iopub.status.busy": "2023-04-20T09:25:13.817385Z",
     "iopub.status.idle": "2023-04-20T09:25:22.347153Z",
     "shell.execute_reply": "2023-04-20T09:25:22.346367Z",
     "shell.execute_reply.started": "2023-04-20T09:25:13.817687Z"
    },
    "tags": []
   },
   "outputs": [
    {
     "data": {
      "text/plain": [
       "'Arterial waveform is triphasic throughout except in posterior tibial artery where it is biphasic. IMPRESSION: Normal arterial imaging of both lower extremities.'"
      ]
     },
     "execution_count": 80,
     "metadata": {},
     "output_type": "execute_result"
    }
   ],
   "source": [
    "summary_dict['pegasus-samsum']['radiology_text'] = get_summary(model, radiology_text)\n",
    "summary_dict['pegasus-samsum']['radiology_text']"
   ]
  },
  {
   "cell_type": "code",
   "execution_count": 81,
   "id": "66987d1c-8843-450d-9e12-22fd905ce2a6",
   "metadata": {
    "execution": {
     "iopub.execute_input": "2023-04-20T09:25:26.010600Z",
     "iopub.status.busy": "2023-04-20T09:25:26.010019Z",
     "iopub.status.idle": "2023-04-20T09:25:43.471605Z",
     "shell.execute_reply": "2023-04-20T09:25:43.471004Z",
     "shell.execute_reply.started": "2023-04-20T09:25:26.010580Z"
    },
    "tags": []
   },
   "outputs": [
    {
     "data": {
      "text/plain": [
       "'The patient is a 78-year-old female who returns for recheck. She has hypertension. She denies difficulty with chest pain, palpations, orthopnea, nocturnal dyspnea, or edema. She has Atenolol 50 mg daily, Premarin 0.625 mg daily, calcium with vitamin D two to three pills daily, multivitamin daily, aspirin as needed, and TriViFlor 25 mg two pills daily.'"
      ]
     },
     "execution_count": 81,
     "metadata": {},
     "output_type": "execute_result"
    }
   ],
   "source": [
    "summary_dict['pegasus-samsum']['clinical_text'] = get_summary(model, clinical_text)\n",
    "summary_dict['pegasus-samsum']['clinical_text']"
   ]
  },
  {
   "cell_type": "markdown",
   "id": "78b3a8c5-bced-4478-bde2-37501120cf99",
   "metadata": {},
   "source": [
    "## Bart-large-samsum"
   ]
  },
  {
   "cell_type": "markdown",
   "id": "c7e95197-585e-481d-8299-112483a8bbd5",
   "metadata": {},
   "source": [
    "- model_name = linydub/bart-large-samsum\n",
    "- model_size = 500M\n",
    "- base_model = facebook/bart-large\n",
    "- dataset = samsum\n",
    "- domain = general\n",
    "- owner = facebook (fine-tuned)\n",
    "- code_availibilty = fine tunning code is not available\n",
    "- checkpoints_availaibility = https://huggingface.co/linydub/bart-large-samsum\n",
    "- link_to_repo = https://github.com/linydub/azureml-greenai-txtsum\n",
    "\n",
    "Reported metrics\n",
    "- eval_rouge1\t55.0234\n",
    "- eval_rouge2\t29.6005\n",
    "- eval_rougeL\t44.914\n",
    "- eval_rougeLsum\t50.464\n",
    "- predict_rouge1\t53.4345\n",
    "- predict_rouge2\t28.7445\n",
    "- predict_rougeL\t44.1848\n",
    "- predict_rougeLsum\t49.1874"
   ]
  },
  {
   "cell_type": "code",
   "execution_count": 82,
   "id": "e48e1be1-b113-4830-bd52-16af99c6532c",
   "metadata": {
    "execution": {
     "iopub.execute_input": "2023-04-20T09:25:43.472762Z",
     "iopub.status.busy": "2023-04-20T09:25:43.472589Z",
     "iopub.status.idle": "2023-04-20T09:25:46.282724Z",
     "shell.execute_reply": "2023-04-20T09:25:46.282163Z",
     "shell.execute_reply.started": "2023-04-20T09:25:43.472745Z"
    },
    "tags": []
   },
   "outputs": [],
   "source": [
    "from transformers import pipeline\n",
    "summarizer = pipeline(\"summarization\", model=\"linydub/bart-large-samsum\")"
   ]
  },
  {
   "cell_type": "code",
   "execution_count": 83,
   "id": "7edcf116-0728-4015-be67-9660ffa98e4c",
   "metadata": {
    "execution": {
     "iopub.execute_input": "2023-04-20T09:26:15.005343Z",
     "iopub.status.busy": "2023-04-20T09:26:15.004874Z",
     "iopub.status.idle": "2023-04-20T09:26:21.294237Z",
     "shell.execute_reply": "2023-04-20T09:26:21.293639Z",
     "shell.execute_reply.started": "2023-04-20T09:26:15.005324Z"
    },
    "tags": []
   },
   "outputs": [
    {
     "data": {
      "text/plain": [
       "'Peripheral vascular disease with claudication. Arterial waveform is triphasic. Peak systolic velocity is normal. Ankle brachial index is 1.06.'"
      ]
     },
     "execution_count": 83,
     "metadata": {},
     "output_type": "execute_result"
    }
   ],
   "source": [
    "summary_dict['bart-large-samsum']['radiology_text'] = summarizer(radiology_text)[0]['summary_text']\n",
    "summary_dict['bart-large-samsum']['radiology_text']"
   ]
  },
  {
   "cell_type": "code",
   "execution_count": 85,
   "id": "54f84504-4f47-45d0-b8d5-e468e612bc9c",
   "metadata": {
    "execution": {
     "iopub.execute_input": "2023-04-20T09:26:55.751091Z",
     "iopub.status.busy": "2023-04-20T09:26:55.750785Z",
     "iopub.status.idle": "2023-04-20T09:27:04.653459Z",
     "shell.execute_reply": "2023-04-20T09:27:04.652820Z",
     "shell.execute_reply.started": "2023-04-20T09:26:55.751073Z"
    },
    "tags": []
   },
   "outputs": [
    {
     "data": {
      "text/plain": [
       "'A 78-year-old female with hypertension, syncope, and spinal stenosis returns for recheck. She has Atenolol 50 mg daily, Premarin 0.625 mg daily Premarin, calcium with vitamin D two to three pills daily, multivitamin daily'"
      ]
     },
     "execution_count": 85,
     "metadata": {},
     "output_type": "execute_result"
    }
   ],
   "source": [
    "summary_dict['bart-large-samsum']['clinical_text'] = summarizer(clinical_text)[0]['summary_text']\n",
    "summary_dict['bart-large-samsum']['clinical_text']"
   ]
  },
  {
   "cell_type": "markdown",
   "id": "31b7ebd4-337a-4afc-9184-522d58bb9897",
   "metadata": {},
   "source": [
    "## Bart-large-cnn-samsum"
   ]
  },
  {
   "cell_type": "markdown",
   "id": "6ac55630-6918-4bdb-a20b-8c8d528bdf07",
   "metadata": {},
   "source": [
    "- model_name = philschmid/bart-large-cnn-samsum\n",
    "- model_size = 500M\n",
    "- base_model = facebook/bart-large\n",
    "- dataset = samsum\n",
    "- domain = general\n",
    "- owner = facebook (fine-tuned)\n",
    "- code_availibilty = fine tunning code is not available\n",
    "- checkpoints_availaibility = Available\n",
    "- link_to_repo = https://huggingface.co/philschmid/bart-large-cnn-samsum"
   ]
  },
  {
   "cell_type": "code",
   "execution_count": 86,
   "id": "fc556e21-82d0-4c25-bd23-2a409cc27d8a",
   "metadata": {
    "execution": {
     "iopub.execute_input": "2023-04-20T09:27:04.654890Z",
     "iopub.status.busy": "2023-04-20T09:27:04.654471Z",
     "iopub.status.idle": "2023-04-20T09:27:07.786956Z",
     "shell.execute_reply": "2023-04-20T09:27:07.786366Z",
     "shell.execute_reply.started": "2023-04-20T09:27:04.654872Z"
    },
    "tags": []
   },
   "outputs": [],
   "source": [
    "from transformers import BartTokenizer, BartForConditionalGeneration\n",
    "\n",
    "tokenizer = BartTokenizer.from_pretrained('philschmid/bart-large-cnn-samsum')\n",
    "model = BartForConditionalGeneration.from_pretrained('philschmid/bart-large-cnn-samsum')\n"
   ]
  },
  {
   "cell_type": "code",
   "execution_count": 87,
   "id": "a9c53830-ec0c-4f91-8a00-46b26d96bbad",
   "metadata": {
    "execution": {
     "iopub.execute_input": "2023-04-20T09:27:32.210943Z",
     "iopub.status.busy": "2023-04-20T09:27:32.210689Z",
     "iopub.status.idle": "2023-04-20T09:27:41.478294Z",
     "shell.execute_reply": "2023-04-20T09:27:41.477701Z",
     "shell.execute_reply.started": "2023-04-20T09:27:32.210924Z"
    },
    "tags": []
   },
   "outputs": [
    {
     "data": {
      "text/plain": [
       "'Peripheral vascular disease with claudication. Arterial waveform is triphasic throughout except in posterior tibial artery where it is biphasic. Ankle brachial index is 1.06.    IMAGINATION: Normal arterial imaging of both lower extremities.'"
      ]
     },
     "execution_count": 87,
     "metadata": {},
     "output_type": "execute_result"
    }
   ],
   "source": [
    "summary_dict['bart-large-cnn-samsum']['radiology_text'] = get_summary(model, radiology_text)\n",
    "summary_dict['bart-large-cnn-samsum']['radiology_text'] "
   ]
  },
  {
   "cell_type": "code",
   "execution_count": 88,
   "id": "b425ecf8-a98f-4c54-abc8-4e0bc699fcbe",
   "metadata": {
    "execution": {
     "iopub.execute_input": "2023-04-20T09:27:47.282205Z",
     "iopub.status.busy": "2023-04-20T09:27:47.281885Z",
     "iopub.status.idle": "2023-04-20T09:27:59.538652Z",
     "shell.execute_reply": "2023-04-20T09:27:59.538044Z",
     "shell.execute_reply.started": "2023-04-20T09:27:47.282186Z"
    },
    "tags": []
   },
   "outputs": [
    {
     "data": {
      "text/plain": [
       "'The patient is 78-year-old female with hypertension, syncope, and spinal stenosis. She has Atenolol 50 mg daily, Premarin 0.625 mg daily and calcium with vitamin D two to three pills daily, multivitamin daily, aspirin as needed and TriViFlor 25 mg two pills daily. She also has Elocon cream 0.1% and Synalar cream  0.01%.'"
      ]
     },
     "execution_count": 88,
     "metadata": {},
     "output_type": "execute_result"
    }
   ],
   "source": [
    "summary_dict['bart-large-cnn-samsum']['clinical_text'] = get_summary(model, clinical_text)\n",
    "summary_dict['bart-large-cnn-samsum']['clinical_text'] "
   ]
  },
  {
   "cell_type": "markdown",
   "id": "08263d63-29f6-4c58-baca-0019c427fed7",
   "metadata": {},
   "source": [
    "## Spark NLP for Healthcare"
   ]
  },
  {
   "cell_type": "code",
   "execution_count": 1,
   "id": "0b1e2c46-c4b6-49c5-90cd-339d45b8782e",
   "metadata": {
    "execution": {
     "iopub.execute_input": "2023-04-20T12:34:21.454612Z",
     "iopub.status.busy": "2023-04-20T12:34:21.454207Z",
     "iopub.status.idle": "2023-04-20T12:34:21.464492Z",
     "shell.execute_reply": "2023-04-20T12:34:21.463694Z",
     "shell.execute_reply.started": "2023-04-20T12:34:21.454593Z"
    },
    "tags": []
   },
   "outputs": [],
   "source": [
    "import json\n",
    "import os\n",
    "\n",
    "from google.colab import files\n",
    "\n",
    "license_keys = files.upload()\n",
    "\n",
    "with open(list(license_keys.keys())[0]) as f:\n",
    "    license_keys = json.load(f)\n",
    "\n",
    "# Defining license key-value pairs as local variables\n",
    "locals().update(license_keys)\n",
    "\n",
    "# Adding license key-value pairs to environment variables\n",
    "os.environ.update(license_keys)"
   ]
  },
  {
   "cell_type": "code",
   "execution_count": null,
   "id": "6440d5f8",
   "metadata": {},
   "outputs": [],
   "source": [
    "# Installing pyspark and spark-nlp\n",
    "! pip install --upgrade -q pyspark==3.1.2  spark-nlp==$PUBLIC_VERSION\n",
    "\n",
    "# Installing Spark NLP Healthcare\n",
    "! pip install --upgrade -q spark-nlp-jsl==$JSL_VERSION  --extra-index-url https://pypi.johnsnowlabs.com/$SECRET\n",
    "\n",
    "# Installing Spark NLP Display Library for visualization\n",
    "! pip install -q spark-nlp-display"
   ]
  },
  {
   "cell_type": "code",
   "execution_count": null,
   "id": "97e14f4e-9dde-4b7d-8fd6-bf183dd14c68",
   "metadata": {
    "tags": []
   },
   "outputs": [],
   "source": [
    "import json\n",
    "import os\n",
    "\n",
    "from pyspark.ml import Pipeline, PipelineModel\n",
    "from pyspark.sql import SparkSession\n",
    "\n",
    "import sparknlp\n",
    "import sparknlp_jsl\n",
    "\n",
    "from sparknlp.annotator import *\n",
    "from sparknlp_jsl.annotator import *\n",
    "from sparknlp.base import *\n",
    "from sparknlp.util import *\n",
    "from sparknlp.pretrained import ResourceDownloader\n",
    "from pyspark.sql import functions as F\n",
    "\n",
    "import pandas as pd\n",
    "\n",
    "pd.set_option('display.max_columns', None)  \n",
    "pd.set_option('display.expand_frame_repr', False)\n",
    "pd.set_option('max_colwidth', None)\n",
    "\n",
    "import string\n",
    "import numpy as np\n",
    "\n",
    "params = {\"spark.driver.memory\":\"16G\",\n",
    "          \"spark.kryoserializer.buffer.max\":\"2000M\",\n",
    "          \"spark.serializer\": \"org.apache.spark.serializer.KryoSerializer\",\n",
    "          \"spark.driver.maxResultSize\":\"2000M\"}\n",
    "\n",
    "spark = sparknlp_jsl.start(license_keys['SECRET'], params=params)\n",
    "\n",
    "print (\"Spark NLP Version :\", sparknlp.version())\n",
    "print (\"Spark NLP_JSL Version :\", sparknlp_jsl.version())\n",
    "\n",
    "spark"
   ]
  },
  {
   "cell_type": "markdown",
   "id": "2aacea7b-a2e6-46a2-88a5-1590cbdc1c95",
   "metadata": {},
   "source": [
    "## summarizer_clinical_jsl_augmented"
   ]
  },
  {
   "cell_type": "code",
   "execution_count": 124,
   "id": "4d2473ff-687b-48df-bf3a-bd4caaa43a76",
   "metadata": {
    "execution": {
     "iopub.execute_input": "2023-04-20T11:52:39.684402Z",
     "iopub.status.busy": "2023-04-20T11:52:39.683888Z",
     "iopub.status.idle": "2023-04-20T11:52:42.258415Z",
     "shell.execute_reply": "2023-04-20T11:52:42.257752Z",
     "shell.execute_reply.started": "2023-04-20T11:52:39.684381Z"
    },
    "tags": []
   },
   "outputs": [
    {
     "name": "stdout",
     "output_type": "stream",
     "text": [
      "summarizer_clinical_jsl_augmented download started this may take some time.\n",
      "[OK!]\n"
     ]
    }
   ],
   "source": [
    "document_assembler = DocumentAssembler()\\\n",
    "    .setInputCol(\"text\")\\\n",
    "    .setOutputCol(\"documents\")\n",
    "    \n",
    "med_summarizer = MedicalSummarizer\\\n",
    "    .pretrained(\"summarizer_clinical_jsl_augmented\", 'en', 'clinical/models')\\\n",
    "    .setInputCols([\"documents\"])\\\n",
    "    .setMaxTextLength(1024)\\\n",
    "    .setMaxNewTokens(256)\\\n",
    "    .setOutputCol(\"summary\")\n",
    "\n",
    "pipeline = Pipeline(stages=[document_assembler, med_summarizer])\n",
    "\n",
    "empty_data = spark.createDataFrame([['']]).toDF(\"text\")\n",
    "\n",
    "lp_pipeline_aug = LightPipeline(pipeline.fit(empty_data))"
   ]
  },
  {
   "cell_type": "code",
   "execution_count": 125,
   "id": "4b9fc736-1a62-424c-91dc-9dbe58051af8",
   "metadata": {
    "execution": {
     "iopub.execute_input": "2023-04-20T11:52:44.217640Z",
     "iopub.status.busy": "2023-04-20T11:52:44.217349Z",
     "iopub.status.idle": "2023-04-20T11:52:44.220596Z",
     "shell.execute_reply": "2023-04-20T11:52:44.219999Z",
     "shell.execute_reply.started": "2023-04-20T11:52:44.217617Z"
    },
    "tags": []
   },
   "outputs": [],
   "source": [
    "summary_dict['sparknlp_aug'] = {}"
   ]
  },
  {
   "cell_type": "code",
   "execution_count": 119,
   "id": "328430ba-3326-44a0-a2f1-53ae86a652de",
   "metadata": {
    "execution": {
     "iopub.execute_input": "2023-04-20T11:51:30.383691Z",
     "iopub.status.busy": "2023-04-20T11:51:30.383177Z",
     "iopub.status.idle": "2023-04-20T11:51:30.386461Z",
     "shell.execute_reply": "2023-04-20T11:51:30.385809Z",
     "shell.execute_reply.started": "2023-04-20T11:51:30.383672Z"
    },
    "tags": []
   },
   "outputs": [],
   "source": [
    "summary_dict['sparknlp_slim'] = {}"
   ]
  },
  {
   "cell_type": "code",
   "execution_count": 126,
   "id": "d37aadbe-51a0-408c-babf-6e0fe720d9dd",
   "metadata": {
    "execution": {
     "iopub.execute_input": "2023-04-20T11:52:55.121518Z",
     "iopub.status.busy": "2023-04-20T11:52:55.121218Z",
     "iopub.status.idle": "2023-04-20T11:52:58.578417Z",
     "shell.execute_reply": "2023-04-20T11:52:58.577788Z",
     "shell.execute_reply.started": "2023-04-20T11:52:55.121500Z"
    },
    "tags": []
   },
   "outputs": [
    {
     "data": {
      "text/plain": [
       "'The patient has peripheral vascular disease with claudication and underwent normal arterial imaging of both lower extremities. The right lower extremity showed normal arterial imaging with normal peak systolic velocity, triphasic arterial waveform, and ankle brachial index of 0.96. The left lower extremity showed normal arterial imaging with triphasic arterial waveform except for the posterior tibial artery where it was biphasic. The ankle brachial index was 0.06.'"
      ]
     },
     "execution_count": 126,
     "metadata": {},
     "output_type": "execute_result"
    }
   ],
   "source": [
    "\n",
    "summary_dict['sparknlp_aug']['radiology_text']  = lp_pipeline_aug.annotate(radiology_text)['summary'][0]\n",
    "summary_dict['sparknlp_aug']['radiology_text']"
   ]
  },
  {
   "cell_type": "code",
   "execution_count": 127,
   "id": "8b5667e9-2eb7-4cb6-9f8d-976744fae971",
   "metadata": {
    "execution": {
     "iopub.execute_input": "2023-04-20T11:52:58.651519Z",
     "iopub.status.busy": "2023-04-20T11:52:58.651118Z",
     "iopub.status.idle": "2023-04-20T11:53:02.696864Z",
     "shell.execute_reply": "2023-04-20T11:53:02.696302Z",
     "shell.execute_reply.started": "2023-04-20T11:52:58.651501Z"
    },
    "tags": []
   },
   "outputs": [
    {
     "data": {
      "text/plain": [
       "'A 78-year-old female with hypertension, syncope, and spinal stenosis returns for a recheck. She denies difficulty with chest pain, palpations, orthopnea, nocturnal dyspnea, or edema. Her medications include Atenolol, Premarin, calcium with vitamin D, multivitamin, aspirin, and TriViFlor. She also has Elocon cream and Synalar cream for rash.'"
      ]
     },
     "execution_count": 127,
     "metadata": {},
     "output_type": "execute_result"
    }
   ],
   "source": [
    "summary_dict['sparknlp_aug']['clinical_text'] = lp_pipeline_aug.annotate(clinical_text)['summary'][0]\n",
    "summary_dict['sparknlp_aug']['clinical_text']"
   ]
  },
  {
   "cell_type": "markdown",
   "id": "5bb12bba-5b45-4455-b560-7999c3d3bcba",
   "metadata": {},
   "source": [
    "## summarizer_clinical_jsl"
   ]
  },
  {
   "cell_type": "code",
   "execution_count": null,
   "id": "bac983cf-0fc6-4bca-bcbe-5c998cfed2d2",
   "metadata": {},
   "outputs": [],
   "source": [
    "document_assembler = DocumentAssembler()\\\n",
    "    .setInputCol(\"text\")\\\n",
    "    .setOutputCol(\"documents\")\n",
    "    \n",
    "med_summarizer = MedicalSummarizer\\\n",
    "    .pretrained(\"summarizer_clinical_jsl\", 'en', 'clinical/models')\\\n",
    "    .setInputCols([\"documents\"])\\\n",
    "    .setMaxTextLength(1024)\\\n",
    "    .setMaxNewTokens(256)\\\n",
    "    .setOutputCol(\"summary\")\n",
    "\n",
    "pipeline = Pipeline(stages=[document_assembler, med_summarizer])\n",
    "\n",
    "empty_data = spark.createDataFrame([['']]).toDF(\"text\")\n",
    "\n",
    "lp_pipeline = LightPipeline(pipeline.fit(empty_data))"
   ]
  },
  {
   "cell_type": "code",
   "execution_count": 120,
   "id": "1ed99c64-8377-4ec2-bbab-6b9bb3dceacf",
   "metadata": {
    "execution": {
     "iopub.execute_input": "2023-04-20T11:51:33.175790Z",
     "iopub.status.busy": "2023-04-20T11:51:33.175342Z",
     "iopub.status.idle": "2023-04-20T11:51:36.128879Z",
     "shell.execute_reply": "2023-04-20T11:51:36.128295Z",
     "shell.execute_reply.started": "2023-04-20T11:51:33.175772Z"
    },
    "tags": []
   },
   "outputs": [
    {
     "data": {
      "text/plain": [
       "'The patient has peripheral vascular disease with claudication and underwent normal arterial imaging of both lower extremities. The peak systolic velocity is normal, but the arterial waveform is triphasic throughout, except for the posterior tibial artery where it is biphasic. The ankle brachial index is 0.06. The impression is that the arterial imaging of both lower extremities is normal.'"
      ]
     },
     "execution_count": 120,
     "metadata": {},
     "output_type": "execute_result"
    }
   ],
   "source": [
    "summary_dict['sparknlp_slim']['radiology_text']  = lp_pipeline.annotate(radiology_text)['summary'][0]\n",
    "summary_dict['sparknlp_slim']['radiology_text'] "
   ]
  },
  {
   "cell_type": "code",
   "execution_count": 121,
   "id": "9d269a01-0382-4d50-a567-ef2a8e41cc47",
   "metadata": {
    "execution": {
     "iopub.execute_input": "2023-04-20T11:51:45.322294Z",
     "iopub.status.busy": "2023-04-20T11:51:45.321979Z",
     "iopub.status.idle": "2023-04-20T11:51:48.285487Z",
     "shell.execute_reply": "2023-04-20T11:51:48.284856Z",
     "shell.execute_reply.started": "2023-04-20T11:51:45.322275Z"
    },
    "tags": []
   },
   "outputs": [
    {
     "data": {
      "text/plain": [
       "'A 78-year-old female with hypertension, syncope, and spinal stenosis returns for recheck. She denies chest pain, palpations, orthopnea, nocturnal dyspnea, or edema. She is on multiple medications and has Elocon cream and Synalar cream for rash.'"
      ]
     },
     "execution_count": 121,
     "metadata": {},
     "output_type": "execute_result"
    }
   ],
   "source": [
    "summary_dict['sparknlp_slim']['clinical_text']  = lp_pipeline.annotate(clinical_text)['summary'][0]\n",
    "summary_dict['sparknlp_slim']['clinical_text']"
   ]
  },
  {
   "cell_type": "markdown",
   "id": "1b0363f2-acdd-4253-869f-18a2b471c890",
   "metadata": {},
   "source": [
    "## Comparison"
   ]
  },
  {
   "cell_type": "code",
   "execution_count": 95,
   "id": "fbeb92c9-83cf-420d-98cc-8e4b205e7d80",
   "metadata": {
    "execution": {
     "iopub.execute_input": "2023-04-20T09:36:29.887433Z",
     "iopub.status.busy": "2023-04-20T09:36:29.887077Z",
     "iopub.status.idle": "2023-04-20T09:36:29.890477Z",
     "shell.execute_reply": "2023-04-20T09:36:29.889920Z",
     "shell.execute_reply.started": "2023-04-20T09:36:29.887412Z"
    },
    "tags": []
   },
   "outputs": [],
   "source": [
    "summary_dict['original'] = {'clinical_text':clinical_text,\n",
    "                            'radiology_text':radiology_text}"
   ]
  },
  {
   "cell_type": "code",
   "execution_count": 93,
   "id": "9514884c-47aa-4738-b7b4-e242ea722694",
   "metadata": {
    "execution": {
     "iopub.execute_input": "2023-04-20T09:29:12.901216Z",
     "iopub.status.busy": "2023-04-20T09:29:12.900503Z",
     "iopub.status.idle": "2023-04-20T09:29:12.904041Z",
     "shell.execute_reply": "2023-04-20T09:29:12.903549Z",
     "shell.execute_reply.started": "2023-04-20T09:29:12.901191Z"
    },
    "tags": []
   },
   "outputs": [],
   "source": [
    "import pandas as pd"
   ]
  },
  {
   "cell_type": "code",
   "execution_count": 97,
   "id": "0d89c294-ded9-4644-86f1-2c3ae0b6d83e",
   "metadata": {
    "execution": {
     "iopub.execute_input": "2023-04-20T09:37:58.027180Z",
     "iopub.status.busy": "2023-04-20T09:37:58.026878Z",
     "iopub.status.idle": "2023-04-20T09:37:58.030269Z",
     "shell.execute_reply": "2023-04-20T09:37:58.029731Z",
     "shell.execute_reply.started": "2023-04-20T09:37:58.027161Z"
    },
    "tags": []
   },
   "outputs": [],
   "source": [
    "pd.set_option('display.max_rows', None)"
   ]
  },
  {
   "cell_type": "code",
   "execution_count": 106,
   "id": "f564b00d-eabf-4849-9bbd-6c2598018a9d",
   "metadata": {
    "execution": {
     "iopub.execute_input": "2023-04-20T09:44:12.057849Z",
     "iopub.status.busy": "2023-04-20T09:44:12.057290Z",
     "iopub.status.idle": "2023-04-20T09:44:12.060333Z",
     "shell.execute_reply": "2023-04-20T09:44:12.059893Z",
     "shell.execute_reply.started": "2023-04-20T09:44:12.057830Z"
    },
    "tags": []
   },
   "outputs": [],
   "source": [
    " pd.options.display.max_colwidth = 600 "
   ]
  },
  {
   "cell_type": "code",
   "execution_count": 129,
   "id": "44a20a0c-ff8d-4dab-a9a5-23cc64621b5b",
   "metadata": {
    "execution": {
     "iopub.execute_input": "2023-04-20T11:53:13.261948Z",
     "iopub.status.busy": "2023-04-20T11:53:13.261507Z",
     "iopub.status.idle": "2023-04-20T11:53:13.266363Z",
     "shell.execute_reply": "2023-04-20T11:53:13.265825Z",
     "shell.execute_reply.started": "2023-04-20T11:53:13.261929Z"
    },
    "tags": []
   },
   "outputs": [
    {
     "data": {
      "text/plain": [
       "Index(['flan-t5-base-samsum', 'flan-t5-base', 'bart-large-samsum',\n",
       "       'pegasus-samsum', 'pegasus-xsum', 'bart-large-cnn-samsum', 'original',\n",
       "       'sparknlp_slim', 'sparknlp_aug'],\n",
       "      dtype='object')"
      ]
     },
     "execution_count": 129,
     "metadata": {},
     "output_type": "execute_result"
    }
   ],
   "source": [
    "df = pd.DataFrame(summary_dict)\n",
    "df.columns"
   ]
  },
  {
   "cell_type": "code",
   "execution_count": 130,
   "id": "ae423ea6-e93f-4977-bb7f-7579e377394f",
   "metadata": {
    "execution": {
     "iopub.execute_input": "2023-04-20T11:53:22.532607Z",
     "iopub.status.busy": "2023-04-20T11:53:22.532183Z",
     "iopub.status.idle": "2023-04-20T11:53:22.541418Z",
     "shell.execute_reply": "2023-04-20T11:53:22.540813Z",
     "shell.execute_reply.started": "2023-04-20T11:53:22.532588Z"
    },
    "tags": []
   },
   "outputs": [
    {
     "data": {
      "text/html": [
       "<div>\n",
       "<style scoped>\n",
       "    .dataframe tbody tr th:only-of-type {\n",
       "        vertical-align: middle;\n",
       "    }\n",
       "\n",
       "    .dataframe tbody tr th {\n",
       "        vertical-align: top;\n",
       "    }\n",
       "\n",
       "    .dataframe thead th {\n",
       "        text-align: right;\n",
       "    }\n",
       "</style>\n",
       "<table border=\"1\" class=\"dataframe\">\n",
       "  <thead>\n",
       "    <tr style=\"text-align: right;\">\n",
       "      <th></th>\n",
       "      <th>original</th>\n",
       "      <th>flan-t5-base-samsum</th>\n",
       "      <th>flan-t5-base</th>\n",
       "      <th>bart-large-samsum</th>\n",
       "      <th>pegasus-samsum</th>\n",
       "      <th>pegasus-xsum</th>\n",
       "      <th>bart-large-cnn-samsum</th>\n",
       "      <th>sparknlp_aug</th>\n",
       "      <th>sparknlp_slim</th>\n",
       "    </tr>\n",
       "  </thead>\n",
       "  <tbody>\n",
       "    <tr>\n",
       "      <th>radiology_text</th>\n",
       "      <td>\\nINDICATIONS: Peripheral vascular disease with claudication.\\n\\nRIGHT:\\n1. Normal arterial imaging of right lower extremity.\\n2. Peak systolic velocity is normal.\\n3. Arterial waveform is triphasic.\\n4. Ankle brachial index is 0.96.\\n\\nLEFT:\\n1. Normal arterial imaging of left lower extremity.\\n\\n2. Peak systolic velocity is normal.\\n3. Arterial waveform is triphasic throughout except in posterior tibial artery where it is biphasic.\\n4. Ankle brachial index is 1.06.\\n\\nIMPRESSION:\\nNormal arterial imaging of both lower extremities.\\n</td>\n",
       "      <td>RIGHT: 1. Normal arterial imaging of right lower extremity. 2. Peak systolic velocity is normal. 3. Arterial waveform is triphasic throughout except in posterior tibial artery where it is biphasic. 4. Ankle brachial index is 1.06. IMPRESSION: Normal arterial imaging of both lower extremities.</td>\n",
       "      <td>RIGHT: 1. Normal arterial imaging of right lower extremity. 2. Peak systolic velocity is normal. 3. Arterial waveform is triphasic throughout except in posterior tibial artery where it is biphasic. 4. Ankle brachial index is 0.06</td>\n",
       "      <td>Peripheral vascular disease with claudication. Arterial waveform is triphasic. Peak systolic velocity is normal. Ankle brachial index is 1.06.</td>\n",
       "      <td>Arterial waveform is triphasic throughout except in posterior tibial artery where it is biphasic. IMPRESSION: Normal arterial imaging of both lower extremities.</td>\n",
       "      <td>Arterial imaging of both lower extremities.</td>\n",
       "      <td>Peripheral vascular disease with claudication. Arterial waveform is triphasic throughout except in posterior tibial artery where it is biphasic. Ankle brachial index is 1.06.    IMAGINATION: Normal arterial imaging of both lower extremities.</td>\n",
       "      <td>The patient has peripheral vascular disease with claudication and underwent normal arterial imaging of both lower extremities. The right lower extremity showed normal arterial imaging with normal peak systolic velocity, triphasic arterial waveform, and ankle brachial index of 0.96. The left lower extremity showed normal arterial imaging with triphasic arterial waveform except for the posterior tibial artery where it was biphasic. The ankle brachial index was 0.06.</td>\n",
       "      <td>The patient has peripheral vascular disease with claudication and underwent normal arterial imaging of both lower extremities. The peak systolic velocity is normal, but the arterial waveform is triphasic throughout, except for the posterior tibial artery where it is biphasic. The ankle brachial index is 0.06. The impression is that the arterial imaging of both lower extremities is normal.</td>\n",
       "    </tr>\n",
       "    <tr>\n",
       "      <th>clinical_text</th>\n",
       "      <td>Patient with hypertension, syncope, and spinal stenosis - for recheck.\\n (Medical Transcription Sample Report)\\n \\n SUBJECTIVE:\\n The patient is a 78-year-old female who returns for recheck. She has hypertension. She denies difficulty with chest pain, palpations, orthopnea, nocturnal dyspnea, or edema.\\n \\n PAST MEDICAL HISTORY / SURGERY / HOSPITALIZATIONS:\\n Reviewed and unchanged from the dictation on 12/03/2003.\\n \\n MEDICATIONS:\\n Atenolol 50 mg daily, Premarin 0.625 mg daily, calcium with vitamin D two to three pills daily, multivitamin daily, aspirin as needed, and TriViFlor 25 mg t...</td>\n",
       "      <td>A patient with hypertension, syncope, and spinal stenosis for recheck.</td>\n",
       "      <td>- recheck of a patient with hypertension, syncope, and spinal stenosis</td>\n",
       "      <td>A 78-year-old female with hypertension, syncope, and spinal stenosis returns for recheck. She has Atenolol 50 mg daily, Premarin 0.625 mg daily Premarin, calcium with vitamin D two to three pills daily, multivitamin daily</td>\n",
       "      <td>The patient is a 78-year-old female who returns for recheck. She has hypertension. She denies difficulty with chest pain, palpations, orthopnea, nocturnal dyspnea, or edema. She has Atenolol 50 mg daily, Premarin 0.625 mg daily, calcium with vitamin D two to three pills daily, multivitamin daily, aspirin as needed, and TriViFlor 25 mg two pills daily.</td>\n",
       "      <td>A case report of a 78-year-old woman with hypertension, syncope, and spinal stenosis.</td>\n",
       "      <td>The patient is 78-year-old female with hypertension, syncope, and spinal stenosis. She has Atenolol 50 mg daily, Premarin 0.625 mg daily and calcium with vitamin D two to three pills daily, multivitamin daily, aspirin as needed and TriViFlor 25 mg two pills daily. She also has Elocon cream 0.1% and Synalar cream  0.01%.</td>\n",
       "      <td>A 78-year-old female with hypertension, syncope, and spinal stenosis returns for a recheck. She denies difficulty with chest pain, palpations, orthopnea, nocturnal dyspnea, or edema. Her medications include Atenolol, Premarin, calcium with vitamin D, multivitamin, aspirin, and TriViFlor. She also has Elocon cream and Synalar cream for rash.</td>\n",
       "      <td>A 78-year-old female with hypertension, syncope, and spinal stenosis returns for recheck. She denies chest pain, palpations, orthopnea, nocturnal dyspnea, or edema. She is on multiple medications and has Elocon cream and Synalar cream for rash.</td>\n",
       "    </tr>\n",
       "  </tbody>\n",
       "</table>\n",
       "</div>"
      ],
      "text/plain": [
       "                                                                                                                                                                                                                                                                                                                                                                                                                                                                                                                                                                                                                               original  \\\n",
       "radiology_text                                                             \\nINDICATIONS: Peripheral vascular disease with claudication.\\n\\nRIGHT:\\n1. Normal arterial imaging of right lower extremity.\\n2. Peak systolic velocity is normal.\\n3. Arterial waveform is triphasic.\\n4. Ankle brachial index is 0.96.\\n\\nLEFT:\\n1. Normal arterial imaging of left lower extremity.\\n\\n2. Peak systolic velocity is normal.\\n3. Arterial waveform is triphasic throughout except in posterior tibial artery where it is biphasic.\\n4. Ankle brachial index is 1.06.\\n\\nIMPRESSION:\\nNormal arterial imaging of both lower extremities.\\n   \n",
       "clinical_text    Patient with hypertension, syncope, and spinal stenosis - for recheck.\\n (Medical Transcription Sample Report)\\n \\n SUBJECTIVE:\\n The patient is a 78-year-old female who returns for recheck. She has hypertension. She denies difficulty with chest pain, palpations, orthopnea, nocturnal dyspnea, or edema.\\n \\n PAST MEDICAL HISTORY / SURGERY / HOSPITALIZATIONS:\\n Reviewed and unchanged from the dictation on 12/03/2003.\\n \\n MEDICATIONS:\\n Atenolol 50 mg daily, Premarin 0.625 mg daily, calcium with vitamin D two to three pills daily, multivitamin daily, aspirin as needed, and TriViFlor 25 mg t...   \n",
       "\n",
       "                                                                                                                                                                                                                                                                                                  flan-t5-base-samsum  \\\n",
       "radiology_text  RIGHT: 1. Normal arterial imaging of right lower extremity. 2. Peak systolic velocity is normal. 3. Arterial waveform is triphasic throughout except in posterior tibial artery where it is biphasic. 4. Ankle brachial index is 1.06. IMPRESSION: Normal arterial imaging of both lower extremities.   \n",
       "clinical_text                                                                                                                                                                                                                                  A patient with hypertension, syncope, and spinal stenosis for recheck.   \n",
       "\n",
       "                                                                                                                                                                                                                                         flan-t5-base  \\\n",
       "radiology_text  RIGHT: 1. Normal arterial imaging of right lower extremity. 2. Peak systolic velocity is normal. 3. Arterial waveform is triphasic throughout except in posterior tibial artery where it is biphasic. 4. Ankle brachial index is 0.06   \n",
       "clinical_text                                                                                                                                                                  - recheck of a patient with hypertension, syncope, and spinal stenosis   \n",
       "\n",
       "                                                                                                                                                                                                                            bart-large-samsum  \\\n",
       "radiology_text                                                                                 Peripheral vascular disease with claudication. Arterial waveform is triphasic. Peak systolic velocity is normal. Ankle brachial index is 1.06.   \n",
       "clinical_text   A 78-year-old female with hypertension, syncope, and spinal stenosis returns for recheck. She has Atenolol 50 mg daily, Premarin 0.625 mg daily Premarin, calcium with vitamin D two to three pills daily, multivitamin daily   \n",
       "\n",
       "                                                                                                                                                                                                                                                                                                                                                                   pegasus-samsum  \\\n",
       "radiology_text                                                                                                                                                                                                   Arterial waveform is triphasic throughout except in posterior tibial artery where it is biphasic. IMPRESSION: Normal arterial imaging of both lower extremities.   \n",
       "clinical_text   The patient is a 78-year-old female who returns for recheck. She has hypertension. She denies difficulty with chest pain, palpations, orthopnea, nocturnal dyspnea, or edema. She has Atenolol 50 mg daily, Premarin 0.625 mg daily, calcium with vitamin D two to three pills daily, multivitamin daily, aspirin as needed, and TriViFlor 25 mg two pills daily.   \n",
       "\n",
       "                                                                                         pegasus-xsum  \\\n",
       "radiology_text                                            Arterial imaging of both lower extremities.   \n",
       "clinical_text   A case report of a 78-year-old woman with hypertension, syncope, and spinal stenosis.   \n",
       "\n",
       "                                                                                                                                                                                                                                                                                                                            bart-large-cnn-samsum  \\\n",
       "radiology_text                                                                                  Peripheral vascular disease with claudication. Arterial waveform is triphasic throughout except in posterior tibial artery where it is biphasic. Ankle brachial index is 1.06.    IMAGINATION: Normal arterial imaging of both lower extremities.   \n",
       "clinical_text   The patient is 78-year-old female with hypertension, syncope, and spinal stenosis. She has Atenolol 50 mg daily, Premarin 0.625 mg daily and calcium with vitamin D two to three pills daily, multivitamin daily, aspirin as needed and TriViFlor 25 mg two pills daily. She also has Elocon cream 0.1% and Synalar cream  0.01%.   \n",
       "\n",
       "                                                                                                                                                                                                                                                                                                                                                                                                                                                                                        sparknlp_aug  \\\n",
       "radiology_text  The patient has peripheral vascular disease with claudication and underwent normal arterial imaging of both lower extremities. The right lower extremity showed normal arterial imaging with normal peak systolic velocity, triphasic arterial waveform, and ankle brachial index of 0.96. The left lower extremity showed normal arterial imaging with triphasic arterial waveform except for the posterior tibial artery where it was biphasic. The ankle brachial index was 0.06.   \n",
       "clinical_text                                                                                                                                 A 78-year-old female with hypertension, syncope, and spinal stenosis returns for a recheck. She denies difficulty with chest pain, palpations, orthopnea, nocturnal dyspnea, or edema. Her medications include Atenolol, Premarin, calcium with vitamin D, multivitamin, aspirin, and TriViFlor. She also has Elocon cream and Synalar cream for rash.   \n",
       "\n",
       "                                                                                                                                                                                                                                                                                                                                                                                                          sparknlp_slim  \n",
       "radiology_text  The patient has peripheral vascular disease with claudication and underwent normal arterial imaging of both lower extremities. The peak systolic velocity is normal, but the arterial waveform is triphasic throughout, except for the posterior tibial artery where it is biphasic. The ankle brachial index is 0.06. The impression is that the arterial imaging of both lower extremities is normal.  \n",
       "clinical_text                                                                                                                                                      A 78-year-old female with hypertension, syncope, and spinal stenosis returns for recheck. She denies chest pain, palpations, orthopnea, nocturnal dyspnea, or edema. She is on multiple medications and has Elocon cream and Synalar cream for rash.  "
      ]
     },
     "execution_count": 130,
     "metadata": {},
     "output_type": "execute_result"
    }
   ],
   "source": [
    "df[['original','flan-t5-base-samsum', 'flan-t5-base', 'bart-large-samsum',\n",
    "       'pegasus-samsum', 'pegasus-xsum', 'bart-large-cnn-samsum', 'sparknlp_aug', 'sparknlp_slim'\n",
    "       ]]"
   ]
  },
  {
   "cell_type": "code",
   "execution_count": 161,
   "id": "399dbba6-5422-400b-b282-6d107db19fdd",
   "metadata": {
    "execution": {
     "iopub.execute_input": "2023-04-20T12:33:32.332156Z",
     "iopub.status.busy": "2023-04-20T12:33:32.331646Z",
     "iopub.status.idle": "2023-04-20T12:33:32.342307Z",
     "shell.execute_reply": "2023-04-20T12:33:32.341881Z",
     "shell.execute_reply.started": "2023-04-20T12:33:32.332136Z"
    },
    "tags": []
   },
   "outputs": [],
   "source": [
    "import json\n",
    "\n",
    "with open ('summariozation_metrics_comparison.json', 'w') as f:\n",
    "    json.dump(summary_dict, f)"
   ]
  },
  {
   "cell_type": "code",
   "execution_count": 154,
   "id": "430f32df-262d-408b-b771-2c086b11cdda",
   "metadata": {
    "execution": {
     "iopub.execute_input": "2023-04-20T12:12:50.970536Z",
     "iopub.status.busy": "2023-04-20T12:12:50.969980Z",
     "iopub.status.idle": "2023-04-20T12:12:50.974082Z",
     "shell.execute_reply": "2023-04-20T12:12:50.973553Z",
     "shell.execute_reply.started": "2023-04-20T12:12:50.970516Z"
    },
    "tags": []
   },
   "outputs": [],
   "source": [
    "import nltk\n",
    "from bert_score import score\n",
    "\n",
    "def generate_scores(res, ref):\n",
    "    \n",
    "    berts_p, berts_r, berts_f = score([res], [ref], lang=\"en\", return_hash=False)\n",
    "    berts_p, berts_r, berts_f = round(float(berts_p[0]), 4), round(float(berts_r[0]), 4), round(float(berts_f[0]), 4)\n",
    "\n",
    "    print('BERT Score Precision:', berts_p)\n",
    "    print('BERT Score Recall:', berts_r)\n",
    "    print('BERT Score F1:', berts_f)\n"
   ]
  },
  {
   "cell_type": "markdown",
   "id": "536e77cb-9bfb-40da-9016-6916d6745e08",
   "metadata": {},
   "source": [
    "### Summarization with GPT-4 "
   ]
  },
  {
   "attachments": {
    "12bccf85-9077-4f81-80d9-e3f4382a3097.png": {
     "image/png": "[encoded data removed]"
    }
   },
   "cell_type": "markdown",
   "id": "e76bcab7-7b20-4b26-98c0-e695205e65d6",
   "metadata": {},
   "source": [
    "![image.png](attachment:12bccf85-9077-4f81-80d9-e3f4382a3097.png)"
   ]
  },
  {
   "cell_type": "code",
   "execution_count": 135,
   "id": "9b150398-8e45-43dc-8199-2d8945cd2490",
   "metadata": {
    "execution": {
     "iopub.execute_input": "2023-04-20T12:01:13.632069Z",
     "iopub.status.busy": "2023-04-20T12:01:13.631526Z",
     "iopub.status.idle": "2023-04-20T12:01:13.635839Z",
     "shell.execute_reply": "2023-04-20T12:01:13.635203Z",
     "shell.execute_reply.started": "2023-04-20T12:01:13.632049Z"
    },
    "tags": []
   },
   "outputs": [
    {
     "data": {
      "text/plain": [
       "'The radiology report indicates that the patient has peripheral vascular disease with claudication. The arterial imaging of both lower extremities is normal. The peak systolic velocity is normal, and the arterial waveform is triphasic in both extremities except for the posterior tibial artery in the left extremity, which is biphasic. The ankle brachial index values are 0.96 and 1.06 for the right and left extremities, respectively.'"
      ]
     },
     "execution_count": 135,
     "metadata": {},
     "output_type": "execute_result"
    }
   ],
   "source": [
    "radiology_summary_gpt4 = '''The radiology report indicates that the patient has peripheral vascular disease with claudication. The arterial imaging of both lower extremities is normal. The peak systolic velocity is normal, and the arterial waveform is triphasic in both extremities except for the posterior tibial artery in the left extremity, which is biphasic. The ankle brachial index values are 0.96 and 1.06 for the right and left extremities, respectively.'''\n",
    "\n",
    "radiology_summary_gpt4\n"
   ]
  },
  {
   "cell_type": "code",
   "execution_count": 144,
   "id": "8cefc622-8faf-49bf-8bce-028cf9c9d6bd",
   "metadata": {
    "execution": {
     "iopub.execute_input": "2023-04-20T12:07:46.579418Z",
     "iopub.status.busy": "2023-04-20T12:07:46.579120Z",
     "iopub.status.idle": "2023-04-20T12:07:49.461608Z",
     "shell.execute_reply": "2023-04-20T12:07:49.460947Z",
     "shell.execute_reply.started": "2023-04-20T12:07:46.579399Z"
    },
    "tags": []
   },
   "outputs": [
    {
     "name": "stderr",
     "output_type": "stream",
     "text": [
      "Some weights of the model checkpoint at roberta-large were not used when initializing RobertaModel: ['lm_head.bias', 'lm_head.layer_norm.bias', 'lm_head.layer_norm.weight', 'lm_head.dense.bias', 'lm_head.decoder.weight', 'lm_head.dense.weight']\n",
      "- This IS expected if you are initializing RobertaModel from the checkpoint of a model trained on another task or with another architecture (e.g. initializing a BertForSequenceClassification model from a BertForPreTraining model).\n",
      "- This IS NOT expected if you are initializing RobertaModel from the checkpoint of a model that you expect to be exactly identical (initializing a BertForSequenceClassification model from a BertForSequenceClassification model).\n"
     ]
    },
    {
     "name": "stdout",
     "output_type": "stream",
     "text": [
      "BERT Score Precision: 0.9614\n",
      "BERT Score Recall: 0.9453\n",
      "BERT Score F1: 0.9533\n"
     ]
    }
   ],
   "source": [
    "generate_scores(summary_dict['sparknlp_slim']['radiology_text'], radiology_summary_gpt4)"
   ]
  },
  {
   "cell_type": "code",
   "execution_count": 146,
   "id": "ca251315-eb11-4de6-8407-3254f084cab9",
   "metadata": {
    "execution": {
     "iopub.execute_input": "2023-04-20T12:08:42.508807Z",
     "iopub.status.busy": "2023-04-20T12:08:42.508435Z",
     "iopub.status.idle": "2023-04-20T12:08:45.118246Z",
     "shell.execute_reply": "2023-04-20T12:08:45.117614Z",
     "shell.execute_reply.started": "2023-04-20T12:08:42.508789Z"
    },
    "tags": []
   },
   "outputs": [
    {
     "name": "stderr",
     "output_type": "stream",
     "text": [
      "Some weights of the model checkpoint at roberta-large were not used when initializing RobertaModel: ['lm_head.bias', 'lm_head.layer_norm.bias', 'lm_head.layer_norm.weight', 'lm_head.dense.bias', 'lm_head.decoder.weight', 'lm_head.dense.weight']\n",
      "- This IS expected if you are initializing RobertaModel from the checkpoint of a model trained on another task or with another architecture (e.g. initializing a BertForSequenceClassification model from a BertForPreTraining model).\n",
      "- This IS NOT expected if you are initializing RobertaModel from the checkpoint of a model that you expect to be exactly identical (initializing a BertForSequenceClassification model from a BertForSequenceClassification model).\n"
     ]
    },
    {
     "name": "stdout",
     "output_type": "stream",
     "text": [
      "BERT Score Precision: 0.9358\n",
      "BERT Score Recall: 0.9285\n",
      "BERT Score F1: 0.9321\n"
     ]
    }
   ],
   "source": [
    "generate_scores(summary_dict['sparknlp_aug']['radiology_text'], radiology_summary_gpt4)"
   ]
  },
  {
   "cell_type": "code",
   "execution_count": 147,
   "id": "5a069ae5-2eac-49e4-9f54-21878a872f94",
   "metadata": {
    "execution": {
     "iopub.execute_input": "2023-04-20T12:09:21.110626Z",
     "iopub.status.busy": "2023-04-20T12:09:21.110095Z",
     "iopub.status.idle": "2023-04-20T12:09:23.669715Z",
     "shell.execute_reply": "2023-04-20T12:09:23.669034Z",
     "shell.execute_reply.started": "2023-04-20T12:09:21.110607Z"
    },
    "tags": []
   },
   "outputs": [
    {
     "name": "stderr",
     "output_type": "stream",
     "text": [
      "Some weights of the model checkpoint at roberta-large were not used when initializing RobertaModel: ['lm_head.bias', 'lm_head.layer_norm.bias', 'lm_head.layer_norm.weight', 'lm_head.dense.bias', 'lm_head.decoder.weight', 'lm_head.dense.weight']\n",
      "- This IS expected if you are initializing RobertaModel from the checkpoint of a model trained on another task or with another architecture (e.g. initializing a BertForSequenceClassification model from a BertForPreTraining model).\n",
      "- This IS NOT expected if you are initializing RobertaModel from the checkpoint of a model that you expect to be exactly identical (initializing a BertForSequenceClassification model from a BertForSequenceClassification model).\n"
     ]
    },
    {
     "name": "stdout",
     "output_type": "stream",
     "text": [
      "BERT Score Precision: 0.9124\n",
      "BERT Score Recall: 0.9088\n",
      "BERT Score F1: 0.9106\n"
     ]
    }
   ],
   "source": [
    "generate_scores(summary_dict['bart-large-cnn-samsum']['radiology_text'], radiology_summary_gpt4)"
   ]
  },
  {
   "cell_type": "code",
   "execution_count": null,
   "id": "4c430591-c68b-4145-af46-6a3d62a4c64d",
   "metadata": {},
   "outputs": [],
   "source": [
    "generate_scores(summary_dict['bart-large-cnn-samsum']['radiology_text'], radiology_summary_gpt4)"
   ]
  },
  {
   "attachments": {
    "63458e0a-f62b-4f7a-a1e3-e960c3c50311.png": {
     "image/png": "[encoded data removed]"
    }
   },
   "cell_type": "markdown",
   "id": "45107add-a15a-414f-b48a-05e86ce261da",
   "metadata": {},
   "source": [
    "![image.png](attachment:63458e0a-f62b-4f7a-a1e3-e960c3c50311.png)"
   ]
  },
  {
   "cell_type": "code",
   "execution_count": 136,
   "id": "afc94705-52bd-4f5a-be33-f49462feaf31",
   "metadata": {
    "execution": {
     "iopub.execute_input": "2023-04-20T12:04:43.630659Z",
     "iopub.status.busy": "2023-04-20T12:04:43.630141Z",
     "iopub.status.idle": "2023-04-20T12:04:43.634312Z",
     "shell.execute_reply": "2023-04-20T12:04:43.633765Z",
     "shell.execute_reply.started": "2023-04-20T12:04:43.630638Z"
    },
    "tags": []
   },
   "outputs": [
    {
     "data": {
      "text/plain": [
       "\"The report is about a 78-year-old female patient with hypertension, syncope, and spinal stenosis who returns for a recheck. She denies experiencing chest pain, palpitations, orthopnea, nocturnal dyspnea, or edema. Her past medical history remains unchanged since the last dictation on 12/03/2003. The patient's medications include Atenolol, Premarin, calcium with vitamin D, multivitamin, aspirin, TriViFlor, Elocon cream, and Synalar cream.\""
      ]
     },
     "execution_count": 136,
     "metadata": {},
     "output_type": "execute_result"
    }
   ],
   "source": [
    "clinical_summary_gpt4 = '''The report is about a 78-year-old female patient with hypertension, syncope, and spinal stenosis who returns for a recheck. She denies experiencing chest pain, palpitations, orthopnea, nocturnal dyspnea, or edema. Her past medical history remains unchanged since the last dictation on 12/03/2003. The patient's medications include Atenolol, Premarin, calcium with vitamin D, multivitamin, aspirin, TriViFlor, Elocon cream, and Synalar cream.'''\n",
    "clinical_summary_gpt4"
   ]
  },
  {
   "cell_type": "code",
   "execution_count": 151,
   "id": "aa86465c-358f-4d5e-8357-04543ddc9271",
   "metadata": {
    "execution": {
     "iopub.execute_input": "2023-04-20T12:10:38.031661Z",
     "iopub.status.busy": "2023-04-20T12:10:38.031273Z",
     "iopub.status.idle": "2023-04-20T12:10:40.660503Z",
     "shell.execute_reply": "2023-04-20T12:10:40.659911Z",
     "shell.execute_reply.started": "2023-04-20T12:10:38.031643Z"
    },
    "tags": []
   },
   "outputs": [
    {
     "name": "stderr",
     "output_type": "stream",
     "text": [
      "Some weights of the model checkpoint at roberta-large were not used when initializing RobertaModel: ['lm_head.bias', 'lm_head.layer_norm.bias', 'lm_head.layer_norm.weight', 'lm_head.dense.bias', 'lm_head.decoder.weight', 'lm_head.dense.weight']\n",
      "- This IS expected if you are initializing RobertaModel from the checkpoint of a model trained on another task or with another architecture (e.g. initializing a BertForSequenceClassification model from a BertForPreTraining model).\n",
      "- This IS NOT expected if you are initializing RobertaModel from the checkpoint of a model that you expect to be exactly identical (initializing a BertForSequenceClassification model from a BertForSequenceClassification model).\n"
     ]
    },
    {
     "name": "stdout",
     "output_type": "stream",
     "text": [
      "BERT Score Precision: 0.9549\n",
      "BERT Score Recall: 0.8891\n",
      "BERT Score F1: 0.9208\n"
     ]
    }
   ],
   "source": [
    "generate_scores(summary_dict['sparknlp_slim']['clinical_text'], clinical_summary_gpt4)"
   ]
  },
  {
   "cell_type": "code",
   "execution_count": 148,
   "id": "d05f45f4-cee9-4592-9c57-b8dca59546ef",
   "metadata": {
    "execution": {
     "iopub.execute_input": "2023-04-20T12:09:59.877452Z",
     "iopub.status.busy": "2023-04-20T12:09:59.877150Z",
     "iopub.status.idle": "2023-04-20T12:10:02.506242Z",
     "shell.execute_reply": "2023-04-20T12:10:02.505508Z",
     "shell.execute_reply.started": "2023-04-20T12:09:59.877434Z"
    },
    "tags": []
   },
   "outputs": [
    {
     "name": "stderr",
     "output_type": "stream",
     "text": [
      "Some weights of the model checkpoint at roberta-large were not used when initializing RobertaModel: ['lm_head.bias', 'lm_head.layer_norm.bias', 'lm_head.layer_norm.weight', 'lm_head.dense.bias', 'lm_head.decoder.weight', 'lm_head.dense.weight']\n",
      "- This IS expected if you are initializing RobertaModel from the checkpoint of a model trained on another task or with another architecture (e.g. initializing a BertForSequenceClassification model from a BertForPreTraining model).\n",
      "- This IS NOT expected if you are initializing RobertaModel from the checkpoint of a model that you expect to be exactly identical (initializing a BertForSequenceClassification model from a BertForSequenceClassification model).\n"
     ]
    },
    {
     "name": "stdout",
     "output_type": "stream",
     "text": [
      "BERT Score Precision: 0.9597\n",
      "BERT Score Recall: 0.9311\n",
      "BERT Score F1: 0.9452\n"
     ]
    }
   ],
   "source": [
    "generate_scores(summary_dict['sparknlp_aug']['clinical_text'], clinical_summary_gpt4)"
   ]
  },
  {
   "cell_type": "code",
   "execution_count": 149,
   "id": "ef2fc16f-f8f7-4556-a342-fe5e2366cbd4",
   "metadata": {
    "execution": {
     "iopub.execute_input": "2023-04-20T12:10:05.340068Z",
     "iopub.status.busy": "2023-04-20T12:10:05.339523Z",
     "iopub.status.idle": "2023-04-20T12:10:08.023513Z",
     "shell.execute_reply": "2023-04-20T12:10:08.022822Z",
     "shell.execute_reply.started": "2023-04-20T12:10:05.340049Z"
    },
    "tags": []
   },
   "outputs": [
    {
     "name": "stderr",
     "output_type": "stream",
     "text": [
      "Some weights of the model checkpoint at roberta-large were not used when initializing RobertaModel: ['lm_head.bias', 'lm_head.layer_norm.bias', 'lm_head.layer_norm.weight', 'lm_head.dense.bias', 'lm_head.decoder.weight', 'lm_head.dense.weight']\n",
      "- This IS expected if you are initializing RobertaModel from the checkpoint of a model trained on another task or with another architecture (e.g. initializing a BertForSequenceClassification model from a BertForPreTraining model).\n",
      "- This IS NOT expected if you are initializing RobertaModel from the checkpoint of a model that you expect to be exactly identical (initializing a BertForSequenceClassification model from a BertForSequenceClassification model).\n"
     ]
    },
    {
     "name": "stdout",
     "output_type": "stream",
     "text": [
      "BERT Score Precision: 0.8855\n",
      "BERT Score Recall: 0.8763\n",
      "BERT Score F1: 0.8809\n"
     ]
    }
   ],
   "source": [
    "generate_scores(summary_dict['bart-large-cnn-samsum']['clinical_text'], clinical_summary_gpt4)"
   ]
  },
  {
   "cell_type": "markdown",
   "id": "24d4ab35-90b1-4ced-b197-98de82724be6",
   "metadata": {},
   "source": [
    "# Other Summarization Models in Spark NLP for Healthcare"
   ]
  },
  {
   "cell_type": "markdown",
   "id": "2606da87-39d6-4c42-87dd-93b8fae88cf8",
   "metadata": {},
   "source": [
    "## \tsummarizer_generic_jsl"
   ]
  },
  {
   "cell_type": "code",
   "execution_count": 155,
   "id": "4b2bb960-b7e0-4028-a9ca-ef83bcbc8bc3",
   "metadata": {
    "execution": {
     "iopub.execute_input": "2023-04-20T12:22:54.137685Z",
     "iopub.status.busy": "2023-04-20T12:22:54.137368Z",
     "iopub.status.idle": "2023-04-20T12:23:44.246048Z",
     "shell.execute_reply": "2023-04-20T12:23:44.245349Z",
     "shell.execute_reply.started": "2023-04-20T12:22:54.137665Z"
    },
    "tags": []
   },
   "outputs": [
    {
     "name": "stdout",
     "output_type": "stream",
     "text": [
      "summarizer_generic_jsl download started this may take some time.\n",
      "[ | ]summarizer_generic_jsl download started this may take some time.\n",
      "Approximate size to download 877.4 MB\n",
      "Download done! Loading the resource.\n",
      "[ — ]"
     ]
    },
    {
     "name": "stderr",
     "output_type": "stream",
     "text": [
      "2023-04-20 12:23:19.202549: W external/org_tensorflow/tensorflow/core/framework/cpu_allocator_impl.cc:82] Allocation of 98697216 exceeds 10% of free system memory.\n"
     ]
    },
    {
     "name": "stdout",
     "output_type": "stream",
     "text": [
      "[OK!]\n"
     ]
    }
   ],
   "source": [
    "document_assembler = DocumentAssembler()\\\n",
    "    .setInputCol(\"text\")\\\n",
    "    .setOutputCol(\"documents\")\n",
    "    \n",
    "med_summarizer = MedicalSummarizer\\\n",
    "    .pretrained(\"summarizer_generic_jsl\", 'en', 'clinical/models')\\\n",
    "    .setInputCols([\"documents\"])\\\n",
    "    .setMaxTextLength(1024)\\\n",
    "    .setMaxNewTokens(256)\\\n",
    "    .setOutputCol(\"summary\")\n",
    "\n",
    "pipeline = Pipeline(stages=[document_assembler, med_summarizer])\n",
    "\n",
    "empty_data = spark.createDataFrame([['']]).toDF(\"text\")\n",
    "\n",
    "lp_pipeline = LightPipeline(pipeline.fit(empty_data))"
   ]
  },
  {
   "cell_type": "code",
   "execution_count": 156,
   "id": "41ec6495-ebd1-4440-90db-b95f7f53be59",
   "metadata": {
    "execution": {
     "iopub.execute_input": "2023-04-20T12:28:29.268457Z",
     "iopub.status.busy": "2023-04-20T12:28:29.267924Z",
     "iopub.status.idle": "2023-04-20T12:28:34.935457Z",
     "shell.execute_reply": "2023-04-20T12:28:34.934838Z",
     "shell.execute_reply.started": "2023-04-20T12:28:29.268435Z"
    },
    "tags": []
   },
   "outputs": [
    {
     "data": {
      "text/plain": [
       "'The patient is 78 years old and has hypertension. She has a history of chest pain, palpations, orthopedics, and spinal stenosis. She has a prescription of Atenolol 50 mg daily, Premarin 0.625 mg daily, calcium with vitamin D two to three pills daily, multivitamin daily, aspirin, and TriViFlor 25 mg two pills daily.'"
      ]
     },
     "execution_count": 156,
     "metadata": {},
     "output_type": "execute_result"
    }
   ],
   "source": [
    "lp_pipeline.annotate(clinical_text)['summary'][0]"
   ]
  },
  {
   "cell_type": "markdown",
   "id": "f52a19ad-076f-4a38-bdf7-3541c0a2526e",
   "metadata": {},
   "source": [
    "## summarizer_clinical_questions"
   ]
  },
  {
   "cell_type": "code",
   "execution_count": 157,
   "id": "e083d0f0-fbc5-488b-a7e1-7c7c3b445b60",
   "metadata": {
    "execution": {
     "iopub.execute_input": "2023-04-20T12:29:07.980073Z",
     "iopub.status.busy": "2023-04-20T12:29:07.979683Z",
     "iopub.status.idle": "2023-04-20T12:30:00.607310Z",
     "shell.execute_reply": "2023-04-20T12:30:00.606663Z",
     "shell.execute_reply.started": "2023-04-20T12:29:07.980054Z"
    },
    "tags": []
   },
   "outputs": [
    {
     "name": "stdout",
     "output_type": "stream",
     "text": [
      "summarizer_clinical_questions download started this may take some time.\n",
      "[ | ]summarizer_clinical_questions download started this may take some time.\n",
      "Approximate size to download 877.4 MB\n",
      "Download done! Loading the resource.\n",
      "[OK!]\n"
     ]
    }
   ],
   "source": [
    "document_assembler = DocumentAssembler()\\\n",
    "    .setInputCol(\"text\")\\\n",
    "    .setOutputCol(\"documents\")\n",
    "    \n",
    "med_summarizer = MedicalSummarizer\\\n",
    "    .pretrained(\"summarizer_clinical_questions\", 'en', 'clinical/models')\\\n",
    "    .setInputCols([\"documents\"])\\\n",
    "    .setMaxTextLength(1024)\\\n",
    "    .setMaxNewTokens(256)\\\n",
    "    .setOutputCol(\"summary\")\n",
    "\n",
    "pipeline = Pipeline(stages=[document_assembler, med_summarizer])\n",
    "\n",
    "empty_data = spark.createDataFrame([['']]).toDF(\"text\")\n",
    "\n",
    "lp_pipeline = LightPipeline(pipeline.fit(empty_data))"
   ]
  },
  {
   "cell_type": "code",
   "execution_count": 158,
   "id": "cd649fc3-f4df-4e84-959b-73db74c5596c",
   "metadata": {
    "execution": {
     "iopub.execute_input": "2023-04-20T12:30:00.608633Z",
     "iopub.status.busy": "2023-04-20T12:30:00.608435Z",
     "iopub.status.idle": "2023-04-20T12:30:00.612964Z",
     "shell.execute_reply": "2023-04-20T12:30:00.612454Z",
     "shell.execute_reply.started": "2023-04-20T12:30:00.608616Z"
    },
    "tags": []
   },
   "outputs": [
    {
     "data": {
      "text/plain": [
       "\" \\nHello,I'm 20 year old girl. I'm diagnosed with hyperthyroid 1 month ago. I was feeling weak, light headed,poor digestion, panic attacks, depression, left chest pain, increased heart rate, rapidly weight loss, from 4 months. Because of this, I stayed in the hospital and just discharged from hospital. I had many other blood tests, brain mri, ultrasound scan, endoscopy because of some dumb doctors bcs they were not able to diagnose actual problem. Finally I got an appointment with a homeopathy doctor finally he find that i was suffering from hyperthyroid and my TSH was 0.15 T3 and T4 is normal . Also i have b12 deficiency and vitamin D deficiency so I'm taking weekly supplement of vitamin D and 1000 mcg b12 daily. I'm taking homeopathy medicine for 40 days and took 2nd test after 30 days. My TSH is 0.5 now. I feel a little bit relief from weakness and depression but I'm facing with 2 new problem from last week that is breathtaking problem and very rapid heartrate. I just want to know if i should start allopathy medicine or homeopathy is okay? Bcs i heard that thyroid take time to start recover. So please let me know if both of medicines take same time. Because some of my friends advising me to start allopathy and never take a chance as i can develop some serious problems.Sorry for my poor english😐Thank you.\\n\""
      ]
     },
     "execution_count": 158,
     "metadata": {},
     "output_type": "execute_result"
    }
   ],
   "source": [
    "text = \"\"\" \n",
    "Hello,I'm 20 year old girl. I'm diagnosed with hyperthyroid 1 month ago. I was feeling weak, light headed,poor digestion, panic attacks, depression, left chest pain, increased heart rate, rapidly weight loss, from 4 months. Because of this, I stayed in the hospital and just discharged from hospital. I had many other blood tests, brain mri, ultrasound scan, endoscopy because of some dumb doctors bcs they were not able to diagnose actual problem. Finally I got an appointment with a homeopathy doctor finally he find that i was suffering from hyperthyroid and my TSH was 0.15 T3 and T4 is normal . Also i have b12 deficiency and vitamin D deficiency so I'm taking weekly supplement of vitamin D and 1000 mcg b12 daily. I'm taking homeopathy medicine for 40 days and took 2nd test after 30 days. My TSH is 0.5 now. I feel a little bit relief from weakness and depression but I'm facing with 2 new problem from last week that is breathtaking problem and very rapid heartrate. I just want to know if i should start allopathy medicine or homeopathy is okay? Bcs i heard that thyroid take time to start recover. So please let me know if both of medicines take same time. Because some of my friends advising me to start allopathy and never take a chance as i can develop some serious problems.Sorry for my poor english😐Thank you.\n",
    "\"\"\"\n",
    "text"
   ]
  },
  {
   "cell_type": "code",
   "execution_count": 159,
   "id": "032911c2-03d6-4908-aec8-ca2828aa050b",
   "metadata": {
    "execution": {
     "iopub.execute_input": "2023-04-20T12:30:00.613714Z",
     "iopub.status.busy": "2023-04-20T12:30:00.613546Z",
     "iopub.status.idle": "2023-04-20T12:30:01.732718Z",
     "shell.execute_reply": "2023-04-20T12:30:01.732080Z",
     "shell.execute_reply.started": "2023-04-20T12:30:00.613700Z"
    },
    "tags": []
   },
   "outputs": [
    {
     "data": {
      "text/plain": [
       "'What are the treatments for hyperthyroidism?'"
      ]
     },
     "execution_count": 159,
     "metadata": {},
     "output_type": "execute_result"
    }
   ],
   "source": [
    "lp_pipeline.annotate(text)['summary'][0]\n"
   ]
  },
  {
   "cell_type": "markdown",
   "id": "b9b7550b-cb47-417e-ba5b-ea3140f5a6ac",
   "metadata": {},
   "source": [
    "## summarizer_biomedical_pubmed"
   ]
  },
  {
   "cell_type": "code",
   "execution_count": 3,
   "id": "b6ca6a7f-9d2a-49a5-b140-ddd97ecf57cf",
   "metadata": {
    "execution": {
     "iopub.execute_input": "2023-04-20T12:35:06.692767Z",
     "iopub.status.busy": "2023-04-20T12:35:06.692097Z",
     "iopub.status.idle": "2023-04-20T12:35:38.162117Z",
     "shell.execute_reply": "2023-04-20T12:35:38.161403Z",
     "shell.execute_reply.started": "2023-04-20T12:35:06.692748Z"
    },
    "tags": []
   },
   "outputs": [
    {
     "name": "stdout",
     "output_type": "stream",
     "text": [
      "summarizer_biomedical_pubmed download started this may take some time.\n",
      "[ | ]summarizer_biomedical_pubmed download started this may take some time.\n",
      "Approximate size to download 877.4 MB\n",
      "[ / ]Download done! Loading the resource.\n",
      "[ | ]"
     ]
    },
    {
     "name": "stderr",
     "output_type": "stream",
     "text": [
      "2023-04-20 12:35:16.901646: I external/org_tensorflow/tensorflow/core/platform/cpu_feature_guard.cc:151] This TensorFlow binary is optimized with oneAPI Deep Neural Network Library (oneDNN) to use the following CPU instructions in performance-critical operations:  AVX2 FMA\n",
      "To enable them in other operations, rebuild TensorFlow with the appropriate compiler flags.\n"
     ]
    },
    {
     "name": "stdout",
     "output_type": "stream",
     "text": [
      "[ \\ ]"
     ]
    },
    {
     "name": "stderr",
     "output_type": "stream",
     "text": [
      "2023-04-20 12:35:34.403065: I external/org_tensorflow/tensorflow/compiler/xla/service/service.cc:171] XLA service 0x7f505c01d2c0 initialized for platform Host (this does not guarantee that XLA will be used). Devices:\n",
      "2023-04-20 12:35:34.403097: I external/org_tensorflow/tensorflow/compiler/xla/service/service.cc:179]   StreamExecutor device (0): Host, Default Version\n",
      "2023-04-20 12:35:34.579070: I external/org_tensorflow/tensorflow/compiler/jit/xla_compilation_cache.cc:351] Compiled cluster using XLA!  This line is logged at most once for the lifetime of the process.\n"
     ]
    },
    {
     "name": "stdout",
     "output_type": "stream",
     "text": [
      "[OK!]\n"
     ]
    }
   ],
   "source": [
    "document_assembler = DocumentAssembler()\\\n",
    "    .setInputCol(\"text\")\\\n",
    "    .setOutputCol(\"documents\")\n",
    "    \n",
    "med_summarizer = MedicalSummarizer\\\n",
    "    .pretrained(\"summarizer_biomedical_pubmed\", 'en', 'clinical/models')\\\n",
    "    .setInputCols([\"documents\"])\\\n",
    "    .setMaxTextLength(1024)\\\n",
    "    .setMaxNewTokens(256)\\\n",
    "    .setOutputCol(\"summary\")\n",
    "\n",
    "pipeline = Pipeline(stages=[document_assembler, med_summarizer])\n",
    "\n",
    "empty_data = spark.createDataFrame([['']]).toDF(\"text\")\n",
    "\n",
    "lp_pipeline = LightPipeline(pipeline.fit(empty_data))"
   ]
  },
  {
   "cell_type": "code",
   "execution_count": 4,
   "id": "72038f75-ce84-4aae-8ca7-717c1b472b65",
   "metadata": {
    "execution": {
     "iopub.execute_input": "2023-04-20T12:35:51.635200Z",
     "iopub.status.busy": "2023-04-20T12:35:51.634626Z",
     "iopub.status.idle": "2023-04-20T12:35:51.640941Z",
     "shell.execute_reply": "2023-04-20T12:35:51.640459Z",
     "shell.execute_reply.started": "2023-04-20T12:35:51.635181Z"
    },
    "tags": []
   },
   "outputs": [
    {
     "data": {
      "text/plain": [
       "'Residual disease after initial surgery for ovarian cancer is the strongest prognostic factor for survival. However, the extent of surgical resection required to achieve optimal cytoreduction is controversial. Our goal was to estimate the effect of aggressive surgical resection on ovarian cancer patient survival.\\\\n A retrospective cohort study of consecutive patients with International Federation of Gynecology and Obstetrics stage IIIC ovarian cancer undergoing primary surgery was conducted between January 1, 1994, and December 31, 1998. The main outcome measures were residual disease after cytoreduction, frequency of radical surgical resection, and 5-year disease-specific survival.\\\\n The study comprised 194 patients, including 144 with carcinomatosis. The mean patient age and follow-up time were 64.4 and 3.5 years, respectively. After surgery, 131 (67.5%) of the 194 patients had less than 1 cm of residual disease (definition of optimal cytoreduction). Considering all patients, residual disease was the only independent predictor of survival; the need to perform radical procedures to achieve optimal cytoreduction was not associated with a decrease in survival. For the subgroup of patients with carcinomatosis, residual disease and the performance of radical surgical procedures were the only independent predictors. Disease-specific survival was markedly improved for patients with carcinomatosis operated on by surgeons who most frequently used radical procedures compared with those least likely to use radical procedures (44% versus 17%, P < .001).\\\\n Overall, residual disease was the only independent predictor of survival. Minimizing residual disease through aggressive surgical resection was beneficial, especially in patients with carcinomatosis.'"
      ]
     },
     "execution_count": 4,
     "metadata": {},
     "output_type": "execute_result"
    }
   ],
   "source": [
    "text = \"\"\"Residual disease after initial surgery for ovarian cancer is the strongest prognostic factor for survival. However, the extent of surgical resection required to achieve optimal cytoreduction is controversial. Our goal was to estimate the effect of aggressive surgical resection on ovarian cancer patient survival.\\\\n A retrospective cohort study of consecutive patients with International Federation of Gynecology and Obstetrics stage IIIC ovarian cancer undergoing primary surgery was conducted between January 1, 1994, and December 31, 1998. The main outcome measures were residual disease after cytoreduction, frequency of radical surgical resection, and 5-year disease-specific survival.\\\\n The study comprised 194 patients, including 144 with carcinomatosis. The mean patient age and follow-up time were 64.4 and 3.5 years, respectively. After surgery, 131 (67.5%) of the 194 patients had less than 1 cm of residual disease (definition of optimal cytoreduction). Considering all patients, residual disease was the only independent predictor of survival; the need to perform radical procedures to achieve optimal cytoreduction was not associated with a decrease in survival. For the subgroup of patients with carcinomatosis, residual disease and the performance of radical surgical procedures were the only independent predictors. Disease-specific survival was markedly improved for patients with carcinomatosis operated on by surgeons who most frequently used radical procedures compared with those least likely to use radical procedures (44% versus 17%, P < .001).\\\\n Overall, residual disease was the only independent predictor of survival. Minimizing residual disease through aggressive surgical resection was beneficial, especially in patients with carcinomatosis.\"\"\"\n",
    "\n",
    "text"
   ]
  },
  {
   "cell_type": "code",
   "execution_count": 5,
   "id": "66436535-d4d4-4c84-9c6b-68cd5c89d851",
   "metadata": {
    "execution": {
     "iopub.execute_input": "2023-04-20T12:35:51.857936Z",
     "iopub.status.busy": "2023-04-20T12:35:51.857553Z",
     "iopub.status.idle": "2023-04-20T12:35:58.035677Z",
     "shell.execute_reply": "2023-04-20T12:35:58.035068Z",
     "shell.execute_reply.started": "2023-04-20T12:35:51.857917Z"
    },
    "tags": []
   },
   "outputs": [
    {
     "data": {
      "text/plain": [
       "'The results of this review suggest that aggressive ovarian cancer surgery is associated with a significant reduction in the risk of recurrence and a reduction in the number of radical versus conservative surgical resections. However, the results of this review are based on only one small trial. Further research is needed to determine the role of aggressive ovarian cancer surgery in women with stage IIIC ovarian cancer.'"
      ]
     },
     "execution_count": 5,
     "metadata": {},
     "output_type": "execute_result"
    }
   ],
   "source": [
    "lp_pipeline.annotate(text)['summary'][0]\n"
   ]
  },
  {
   "cell_type": "code",
   "execution_count": null,
   "id": "71834189-ca2b-47ed-ab03-46ef0bf04609",
   "metadata": {},
   "outputs": [],
   "source": []
  }
 ],
 "metadata": {
  "kernelspec": {
   "display_name": "Python 3 (ipykernel)",
   "language": "python",
   "name": "python3"
  },
  "language_info": {
   "codemirror_mode": {
    "name": "ipython",
    "version": 3
   },
   "file_extension": ".py",
   "mimetype": "text/x-python",
   "name": "python",
   "nbconvert_exporter": "python",
   "pygments_lexer": "ipython3",
   "version": "3.10.9"
  }
 },
 "nbformat": 4,
 "nbformat_minor": 5
}

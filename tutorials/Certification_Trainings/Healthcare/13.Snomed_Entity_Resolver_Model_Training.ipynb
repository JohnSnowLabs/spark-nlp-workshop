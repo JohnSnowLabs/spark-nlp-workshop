{
  "nbformat": 4,
  "nbformat_minor": 0,
  "metadata": {
    "colab": {
      "name": "13.Snomed_Entity_Resolver_Model_Training.ipynb",
      "provenance": [],
      "collapsed_sections": []
    },
    "kernelspec": {
      "display_name": "Python 3",
      "language": "python",
      "name": "python3"
    },
    "language_info": {
      "codemirror_mode": {
        "name": "ipython",
        "version": 3
      },
      "file_extension": ".py",
      "mimetype": "text/x-python",
      "name": "python",
      "nbconvert_exporter": "python",
      "pygments_lexer": "ipython3",
      "version": "3.7.6"
    }
  },
  "cells": [
    {
      "cell_type": "markdown",
      "metadata": {
        "id": "Hwsv9vDmvbr1"
      },
      "source": [
        "![JohnSnowLabs](https://nlp.johnsnowlabs.com/assets/images/logo.png)"
      ]
    },
    {
      "cell_type": "markdown",
      "metadata": {
        "id": "jIs4dsyfvhEi"
      },
      "source": [
        " [![Open In Colab](https://colab.research.google.com/assets/colab-badge.svg)](https://colab.research.google.com/github/JohnSnowLabs/spark-nlp-workshop/blob/master/tutorials/Certification_Trainings/Healthcare/13.Snomed_Entity_Resolver_Model_Training.ipynb)"
      ]
    },
    {
      "cell_type": "markdown",
      "metadata": {
        "id": "N6w49Yx5Bjw5"
      },
      "source": [
        "# 13. Snomed Entity Resolver Model Training"
      ]
    },
    {
      "cell_type": "code",
      "metadata": {
        "id": "U-5twBh3veD2"
      },
      "source": [
        "import json\n",
        "\n",
        "from google.colab import files\n",
        "\n",
        "license_keys = files.upload()\n",
        "\n",
        "with open(list(license_keys.keys())[0]) as f:\n",
        "    license_keys = json.load(f)"
      ],
      "execution_count": null,
      "outputs": []
    },
    {
      "cell_type": "code",
      "metadata": {
        "id": "gJzmNJjph6wo"
      },
      "source": [
        "%%capture\n",
        "for k,v in license_keys.items(): \n",
        "    %set_env $k=$v\n",
        "\n",
        "!wget https://raw.githubusercontent.com/JohnSnowLabs/spark-nlp-workshop/master/jsl_colab_setup.sh\n",
        "!bash jsl_colab_setup.sh\n",
        "\n",
        "! pip install spark-nlp-display"
      ],
      "execution_count": 2,
      "outputs": []
    },
    {
      "cell_type": "code",
      "metadata": {
        "colab": {
          "base_uri": "https://localhost:8080/"
        },
        "id": "QzezXHbGhx6r",
        "outputId": "72555462-735b-4192-e607-796970fa3645"
      },
      "source": [
        "import json\n",
        "import os\n",
        "import sparknlp_jsl\n",
        "import sparknlp\n",
        "from pyspark.ml import Pipeline, PipelineModel\n",
        "from pyspark.sql import SparkSession\n",
        "import sys, time\n",
        "from sparknlp.base import *\n",
        "from sparknlp.annotator import *\n",
        "from sparknlp.util import *\n",
        "from sparknlp_jsl.annotator import *\n",
        "\n",
        "from sparknlp.pretrained import ResourceDownloader\n",
        "from pyspark.sql import functions as F\n",
        "from pyspark.sql.types import StructType, StructField, StringType\n",
        "\n",
        "params = {\"spark.driver.memory\":\"16G\",\n",
        "\"spark.kryoserializer.buffer.max\":\"2000M\",\n",
        "\"spark.driver.maxResultSize\":\"2000M\"}\n",
        "\n",
        "spark = sparknlp_jsl.start(license_keys['SECRET'],params=params)\n",
        "\n",
        "print (sparknlp.version())\n",
        "print (sparknlp_jsl.version())"
      ],
      "execution_count": 3,
      "outputs": [
        {
          "output_type": "stream",
          "text": [
            "3.1.2\n",
            "3.1.2\n"
          ],
          "name": "stdout"
        }
      ]
    },
    {
      "cell_type": "markdown",
      "metadata": {
        "id": "zRigNZ3XBrMV"
      },
      "source": [
        "## Load datasets"
      ]
    },
    {
      "cell_type": "code",
      "metadata": {
        "id": "neOur2ZHxm2w"
      },
      "source": [
        "!wget -q https://raw.githubusercontent.com/JohnSnowLabs/spark-nlp-workshop/master/tutorials/Certification_Trainings/Healthcare/data/AskAPatient.fold-0.test.txt\n",
        "!wget -q https://raw.githubusercontent.com/JohnSnowLabs/spark-nlp-workshop/master/tutorials/Certification_Trainings/Healthcare/data/AskAPatient.fold-0.train.txt\n",
        "!wget -q https://raw.githubusercontent.com/JohnSnowLabs/spark-nlp-workshop/master/tutorials/Certification_Trainings/Healthcare/data/AskAPatient.fold-0.validation.txt"
      ],
      "execution_count": 4,
      "outputs": []
    },
    {
      "cell_type": "code",
      "metadata": {
        "id": "QK1EGRYPwHX1"
      },
      "source": [
        "import pandas as pd\n",
        "\n",
        "cols = [\"conceptId\",\"_term\",\"term\"]\n",
        "\n",
        "aap_tr = pd.read_csv(\"AskAPatient.fold-0.train.txt\",sep=\"\\t\",encoding=\"ISO-8859-1\",header=None)\n",
        "aap_tr.columns = cols\n",
        "aap_tr[\"conceptId\"] = aap_tr.conceptId.apply(str)\n",
        "\n",
        "aap_ts = pd.read_csv(\"AskAPatient.fold-0.test.txt\",sep=\"\\t\",header=None)\n",
        "aap_ts.columns = cols\n",
        "aap_ts[\"conceptId\"] = aap_ts.conceptId.apply(str)\n",
        "\n",
        "aap_vl = pd.read_csv(\"AskAPatient.fold-0.validation.txt\",sep=\"\\t\",header=None)\n",
        "aap_vl.columns = cols\n",
        "aap_vl[\"conceptId\"] = aap_vl.conceptId.apply(str)"
      ],
      "execution_count": 5,
      "outputs": []
    },
    {
      "cell_type": "code",
      "metadata": {
        "colab": {
          "base_uri": "https://localhost:8080/",
          "height": 200
        },
        "id": "iB_Q2LFkyO1p",
        "outputId": "1caa004f-9318-4c4e-b3f6-b58d062509a6"
      },
      "source": [
        "aap_vl.head()"
      ],
      "execution_count": 6,
      "outputs": [
        {
          "output_type": "execute_result",
          "data": {
            "text/html": [
              "<div>\n",
              "<style scoped>\n",
              "    .dataframe tbody tr th:only-of-type {\n",
              "        vertical-align: middle;\n",
              "    }\n",
              "\n",
              "    .dataframe tbody tr th {\n",
              "        vertical-align: top;\n",
              "    }\n",
              "\n",
              "    .dataframe thead th {\n",
              "        text-align: right;\n",
              "    }\n",
              "</style>\n",
              "<table border=\"1\" class=\"dataframe\">\n",
              "  <thead>\n",
              "    <tr style=\"text-align: right;\">\n",
              "      <th></th>\n",
              "      <th>conceptId</th>\n",
              "      <th>_term</th>\n",
              "      <th>term</th>\n",
              "    </tr>\n",
              "  </thead>\n",
              "  <tbody>\n",
              "    <tr>\n",
              "      <th>0</th>\n",
              "      <td>267032009</td>\n",
              "      <td>Tired all the time</td>\n",
              "      <td>persisten feeling of tiredness</td>\n",
              "    </tr>\n",
              "    <tr>\n",
              "      <th>1</th>\n",
              "      <td>22298006</td>\n",
              "      <td>Myocardial infarction</td>\n",
              "      <td>HEART ATTACK</td>\n",
              "    </tr>\n",
              "    <tr>\n",
              "      <th>2</th>\n",
              "      <td>3877011000036101</td>\n",
              "      <td>Lipitor</td>\n",
              "      <td>LIPITOR</td>\n",
              "    </tr>\n",
              "    <tr>\n",
              "      <th>3</th>\n",
              "      <td>415690000</td>\n",
              "      <td>Sweating</td>\n",
              "      <td>sweated</td>\n",
              "    </tr>\n",
              "    <tr>\n",
              "      <th>4</th>\n",
              "      <td>248491001</td>\n",
              "      <td>Swollen knee</td>\n",
              "      <td>swelling at knee</td>\n",
              "    </tr>\n",
              "  </tbody>\n",
              "</table>\n",
              "</div>"
            ],
            "text/plain": [
              "          conceptId                  _term                            term\n",
              "0         267032009     Tired all the time  persisten feeling of tiredness\n",
              "1          22298006  Myocardial infarction                    HEART ATTACK\n",
              "2  3877011000036101                Lipitor                         LIPITOR\n",
              "3         415690000               Sweating                         sweated\n",
              "4         248491001           Swollen knee                swelling at knee"
            ]
          },
          "metadata": {
            "tags": []
          },
          "execution_count": 6
        }
      ]
    },
    {
      "cell_type": "code",
      "metadata": {
        "id": "E2aBz1rEv5gc"
      },
      "source": [
        "aap_train_sdf = spark.createDataFrame(aap_tr)\n",
        "aap_test_sdf = spark.createDataFrame(aap_ts)\n",
        "aap_val_sdf = spark.createDataFrame(aap_vl)"
      ],
      "execution_count": 7,
      "outputs": []
    },
    {
      "cell_type": "markdown",
      "metadata": {
        "id": "rpGiObPHXqiN"
      },
      "source": [
        "# Chunk Entity Resolver (Glove Embeddings)"
      ]
    },
    {
      "cell_type": "markdown",
      "metadata": {
        "id": "3Ri8oj06Bt7w"
      },
      "source": [
        "## Create Training Pipeline"
      ]
    },
    {
      "cell_type": "code",
      "metadata": {
        "colab": {
          "base_uri": "https://localhost:8080/"
        },
        "id": "YgqY_kDMyCr8",
        "outputId": "f9be1cef-6062-4ff2-dfa0-db6ca166c0df"
      },
      "source": [
        "document = DocumentAssembler()\\\n",
        "      .setInputCol(\"term\")\\\n",
        "      .setOutputCol(\"document\")\n",
        "\n",
        "chunk = Doc2Chunk()\\\n",
        "      .setInputCols(\"document\")\\\n",
        "      .setOutputCol(\"chunk\")\\\n",
        "\n",
        "token = Tokenizer()\\\n",
        "      .setInputCols(['document'])\\\n",
        "      .setOutputCol('token')\n",
        "\n",
        "embeddings = WordEmbeddingsModel.pretrained(\"embeddings_healthcare_100d\", \"en\", \"clinical/models\")\\\n",
        "      .setInputCols([\"document\", \"token\"])\\\n",
        "      .setOutputCol(\"embeddings\")\n",
        "\n",
        "chunk_emb = ChunkEmbeddings()\\\n",
        "      .setInputCols(\"chunk\", \"embeddings\")\\\n",
        "      .setOutputCol(\"chunk_embeddings\")\n",
        "\n",
        "snomed_training_pipeline = Pipeline(stages = [\n",
        "      document,\n",
        "      chunk,\n",
        "      token,\n",
        "      embeddings,\n",
        "      chunk_emb\n",
        "      ])\n",
        "\n",
        "snomed_training_model = snomed_training_pipeline.fit(aap_train_sdf)\n",
        "\n",
        "snomed_data = snomed_training_model.transform(aap_train_sdf).cache()\n"
      ],
      "execution_count": 8,
      "outputs": [
        {
          "output_type": "stream",
          "text": [
            "embeddings_healthcare_100d download started this may take some time.\n",
            "Approximate size to download 475.8 MB\n",
            "[OK!]\n"
          ],
          "name": "stdout"
        }
      ]
    },
    {
      "cell_type": "code",
      "metadata": {
        "id": "EyFi-lxUzJ4-"
      },
      "source": [
        "snomed_extractor = ChunkEntityResolverApproach() \\\n",
        "    .setInputCols(\"token\", \"chunk_embeddings\") \\\n",
        "    .setOutputCol(\"recognized\") \\\n",
        "    .setNeighbours(1000) \\\n",
        "    .setAlternatives(25) \\\n",
        "    .setNormalizedCol(\"_term\") \\\n",
        "    .setLabelCol(\"conceptId\") \\\n",
        "    .setEnableWmd(True).setEnableTfidf(True).setEnableJaccard(True)\\\n",
        "    .setEnableSorensenDice(True).setEnableJaroWinkler(True).setEnableLevenshtein(True)\\\n",
        "    .setDistanceWeights([1, 2, 2, 1, 1, 1]) \\\n",
        "    .setAllDistancesMetadata(True)\\\n",
        "    .setPoolingStrategy(\"MAX\") \\\n",
        "    .setThreshold(1e32)"
      ],
      "execution_count": 9,
      "outputs": []
    },
    {
      "cell_type": "code",
      "metadata": {
        "colab": {
          "base_uri": "https://localhost:8080/"
        },
        "id": "BVQq1eeq1Cdb",
        "outputId": "99ccdc15-4c50-42d5-e7fe-02ce7be1b7ab"
      },
      "source": [
        "%%time \n",
        "model = snomed_extractor.fit(snomed_data)"
      ],
      "execution_count": 10,
      "outputs": [
        {
          "output_type": "stream",
          "text": [
            "CPU times: user 271 ms, sys: 48.4 ms, total: 320 ms\n",
            "Wall time: 31.8 s\n"
          ],
          "name": "stdout"
        }
      ]
    },
    {
      "cell_type": "markdown",
      "metadata": {
        "id": "zGx43tFEByJP"
      },
      "source": [
        "## Prediction Pipeline"
      ]
    },
    {
      "cell_type": "code",
      "metadata": {
        "id": "LV4ZJ6Ua1G6P"
      },
      "source": [
        "prediction_Model = PipelineModel(stages=[\n",
        "                                    snomed_training_model,\n",
        "                                    model\n",
        "                                    ])"
      ],
      "execution_count": 11,
      "outputs": []
    },
    {
      "cell_type": "code",
      "metadata": {
        "id": "3p0LglEe1XXX"
      },
      "source": [
        "aap_train_pred= prediction_Model.transform(aap_train_sdf).cache()\n",
        "aap_test_pred= prediction_Model.transform(aap_test_sdf).cache()\n",
        "aap_val_pred= prediction_Model.transform(aap_val_sdf).cache()"
      ],
      "execution_count": 12,
      "outputs": []
    },
    {
      "cell_type": "code",
      "metadata": {
        "colab": {
          "base_uri": "https://localhost:8080/"
        },
        "id": "AaWIc2PF7X3l",
        "outputId": "1948e595-d4d1-4462-96e1-2f044f40c80b"
      },
      "source": [
        "aap_test_pred.selectExpr(\"conceptId\",\"term\",\"_term\",\"recognized[0].result\",\"recognized[0].metadata.resolved_text\",\"recognized[0].metadata.all_k_resolutions\").show(truncate=50)"
      ],
      "execution_count": 13,
      "outputs": [
        {
          "output_type": "stream",
          "text": [
            "+----------------+--------------------------------+------------------------------------+--------------------+-------------------------------------+--------------------------------------------------+\n",
            "|       conceptId|                            term|                               _term|recognized[0].result|recognized[0].metadata[resolved_text]|         recognized[0].metadata[all_k_resolutions]|\n",
            "+----------------+--------------------------------+------------------------------------+--------------------+-------------------------------------+--------------------------------------------------+\n",
            "|       108367008|                     dislocating|                Dislocation of joint|           304297005| Decreased range of shoulder movement|Decreased range of shoulder movement:::Increase...|\n",
            "|3384011000036100|                       Arthrotec|                           Arthrotec|    3384011000036100|                            Arthrotec|Arthrotec:::Celebrex 200 mg capsule: hard:::Cel...|\n",
            "|       166717003|               elevated creatine|             Serum creatinine raised|           166717003|              Serum creatinine raised|Serum creatinine raised:::Increased creatine ki...|\n",
            "|3877011000036101|                         Lipitor|                             Lipitor|    3877011000036101|                              Lipitor|Lipitor:::Lipitor 20 mg tablet: film-coated:::L...|\n",
            "|       402234004|                  Eczema on feet|                         Foot eczema|           238539001|                          Hand eczema|Hand eczema:::Foot eczema:::Cold feet:::Blister...|\n",
            "|       404640003|                           dizzy|                           Dizziness|           404640003|                            Dizziness|Dizziness:::Lightheadedness:::Nausea:::Syncope:...|\n",
            "|       271681002|   pain in the pit of my stomach|                        Stomach ache|           271681002|                         Stomach ache|Stomach ache:::Abdominal pain:::Myalgia:::Low b...|\n",
            "|        76948002|extreme muscle pain in shoulders|                         Severe pain|            76948002|                          Severe pain|Severe pain:::Myalgia/myositis - shoulder:::Mus...|\n",
            "|        36031001|                    Burning feet|                        Burning feet|            36031001|                         Burning feet|Burning feet:::Burning sensation:::Burning pain...|\n",
            "|        76948002|             imence pain in legs|                         Severe pain|            76948002|                          Severe pain|Severe pain:::Pain in lower limb:::Myalgia/myos...|\n",
            "|        42399005|              kidney malfunction|                       Renal failure|            42399005|                        Renal failure|Renal failure:::Renal injury:::Kidney disease::...|\n",
            "|       288227007|        muscle pain in my biceps|        Myalgia/myositis - upper arm|           281245003|           Musculoskeletal chest pain|Musculoskeletal chest pain:::Severe pain:::Myal...|\n",
            "|       419723007|                       brain fog|                       Mentally dull|           419723007|                        Mentally dull|Mentally dull:::Memory impairment:::Encephalopa...|\n",
            "|       248490000|                        bloating|                    Bloating symptom|           248490000|                     Bloating symptom|Bloating symptom:::Abdominal bloating:::Flatule...|\n",
            "|        22253000|                            pain|                                Pain|            22253000|                                 Pain|Pain:::Foot pain:::Backache:::Severe pain:::Sho...|\n",
            "|       162076009|                             gas|Excessive upper gastrointestinal gas|           162076009| Excessive upper gastrointestinal gas|Excessive upper gastrointestinal gas:::Flatulen...|\n",
            "|       247592009|          Short term memory loss|              Poor short-term memory|           247592009|               Poor short-term memory|Poor short-term memory:::Amnesia:::Memory impai...|\n",
            "|        62507009|             tingling in my feet|                    Pins and needles|           309087008|                 Paraesthesia of foot|Paraesthesia of foot:::Pins and needles:::Cramp...|\n",
            "|3877011000036101|                         LIPITOR|                             Lipitor|    3877011000036101|                              Lipitor|Lipitor:::Lipitor 20 mg tablet: film-coated:::L...|\n",
            "|        62507009|   tingling on left side of face|                    Pins and needles|           309557009|                     Numbness of face|Numbness of face:::Pins and needles:::Numbness:...|\n",
            "+----------------+--------------------------------+------------------------------------+--------------------+-------------------------------------+--------------------------------------------------+\n",
            "only showing top 20 rows\n",
            "\n"
          ],
          "name": "stdout"
        }
      ]
    },
    {
      "cell_type": "code",
      "metadata": {
        "colab": {
          "base_uri": "https://localhost:8080/"
        },
        "id": "-sF6ixxH1sFe",
        "outputId": "129fe592-6247-47aa-c9d3-e1393971f0ba"
      },
      "source": [
        "aap_test_pred.selectExpr(\"conceptId\",\"term\",\"_term\",\"recognized[0].result\",\"recognized[0].metadata.resolved_text\",\"recognized[0].metadata.all_k_resolutions\").show(truncate=50)"
      ],
      "execution_count": 14,
      "outputs": [
        {
          "output_type": "stream",
          "text": [
            "+----------------+--------------------------------+------------------------------------+--------------------+-------------------------------------+--------------------------------------------------+\n",
            "|       conceptId|                            term|                               _term|recognized[0].result|recognized[0].metadata[resolved_text]|         recognized[0].metadata[all_k_resolutions]|\n",
            "+----------------+--------------------------------+------------------------------------+--------------------+-------------------------------------+--------------------------------------------------+\n",
            "|       108367008|                     dislocating|                Dislocation of joint|           304297005| Decreased range of shoulder movement|Decreased range of shoulder movement:::Increase...|\n",
            "|3384011000036100|                       Arthrotec|                           Arthrotec|    3384011000036100|                            Arthrotec|Arthrotec:::Celebrex 200 mg capsule: hard:::Cel...|\n",
            "|       166717003|               elevated creatine|             Serum creatinine raised|           166717003|              Serum creatinine raised|Serum creatinine raised:::Increased creatine ki...|\n",
            "|3877011000036101|                         Lipitor|                             Lipitor|    3877011000036101|                              Lipitor|Lipitor:::Lipitor 20 mg tablet: film-coated:::L...|\n",
            "|       402234004|                  Eczema on feet|                         Foot eczema|           238539001|                          Hand eczema|Hand eczema:::Foot eczema:::Cold feet:::Blister...|\n",
            "|       404640003|                           dizzy|                           Dizziness|           404640003|                            Dizziness|Dizziness:::Lightheadedness:::Nausea:::Syncope:...|\n",
            "|       271681002|   pain in the pit of my stomach|                        Stomach ache|           271681002|                         Stomach ache|Stomach ache:::Abdominal pain:::Myalgia:::Low b...|\n",
            "|        76948002|extreme muscle pain in shoulders|                         Severe pain|            76948002|                          Severe pain|Severe pain:::Myalgia/myositis - shoulder:::Mus...|\n",
            "|        36031001|                    Burning feet|                        Burning feet|            36031001|                         Burning feet|Burning feet:::Burning sensation:::Burning pain...|\n",
            "|        76948002|             imence pain in legs|                         Severe pain|            76948002|                          Severe pain|Severe pain:::Pain in lower limb:::Myalgia/myos...|\n",
            "|        42399005|              kidney malfunction|                       Renal failure|            42399005|                        Renal failure|Renal failure:::Renal injury:::Kidney disease::...|\n",
            "|       288227007|        muscle pain in my biceps|        Myalgia/myositis - upper arm|           281245003|           Musculoskeletal chest pain|Musculoskeletal chest pain:::Severe pain:::Myal...|\n",
            "|       419723007|                       brain fog|                       Mentally dull|           419723007|                        Mentally dull|Mentally dull:::Memory impairment:::Encephalopa...|\n",
            "|       248490000|                        bloating|                    Bloating symptom|           248490000|                     Bloating symptom|Bloating symptom:::Abdominal bloating:::Flatule...|\n",
            "|        22253000|                            pain|                                Pain|            22253000|                                 Pain|Pain:::Foot pain:::Backache:::Severe pain:::Sho...|\n",
            "|       162076009|                             gas|Excessive upper gastrointestinal gas|           162076009| Excessive upper gastrointestinal gas|Excessive upper gastrointestinal gas:::Flatulen...|\n",
            "|       247592009|          Short term memory loss|              Poor short-term memory|           247592009|               Poor short-term memory|Poor short-term memory:::Amnesia:::Memory impai...|\n",
            "|        62507009|             tingling in my feet|                    Pins and needles|           309087008|                 Paraesthesia of foot|Paraesthesia of foot:::Pins and needles:::Cramp...|\n",
            "|3877011000036101|                         LIPITOR|                             Lipitor|    3877011000036101|                              Lipitor|Lipitor:::Lipitor 20 mg tablet: film-coated:::L...|\n",
            "|        62507009|   tingling on left side of face|                    Pins and needles|           309557009|                     Numbness of face|Numbness of face:::Pins and needles:::Numbness:...|\n",
            "+----------------+--------------------------------+------------------------------------+--------------------+-------------------------------------+--------------------------------------------------+\n",
            "only showing top 20 rows\n",
            "\n"
          ],
          "name": "stdout"
        }
      ]
    },
    {
      "cell_type": "markdown",
      "metadata": {
        "id": "SHS-VCjf3exH"
      },
      "source": [
        "## Train Using the entire dataset"
      ]
    },
    {
      "cell_type": "code",
      "metadata": {
        "colab": {
          "base_uri": "https://localhost:8080/"
        },
        "id": "jfmu_0S03AZF",
        "outputId": "62a6a32d-0c76-4a4d-f598-7f1c5d74dfad"
      },
      "source": [
        "all_data = aap_train_sdf.union(aap_test_sdf).union(aap_val_sdf)\n",
        "\n",
        "snomed_training_model = snomed_training_pipeline.fit(all_data)\n",
        "\n",
        "snomed_data = snomed_training_model.transform(all_data).cache()\n",
        "\n",
        "%time model = snomed_extractor.fit(snomed_data)"
      ],
      "execution_count": 15,
      "outputs": [
        {
          "output_type": "stream",
          "text": [
            "CPU times: user 170 ms, sys: 38.5 ms, total: 208 ms\n",
            "Wall time: 17.7 s\n"
          ],
          "name": "stdout"
        }
      ]
    },
    {
      "cell_type": "code",
      "metadata": {
        "id": "YSBVW2333xVA"
      },
      "source": [
        "model.write().overwrite().save(\"chunkresolve_snomed_askapatient_hc_100d\")"
      ],
      "execution_count": 16,
      "outputs": []
    },
    {
      "cell_type": "markdown",
      "metadata": {
        "id": "ea4pech4B49K"
      },
      "source": [
        "## Prediction on random texts"
      ]
    },
    {
      "cell_type": "code",
      "metadata": {
        "colab": {
          "base_uri": "https://localhost:8080/"
        },
        "id": "uQJMwYhG4EA4",
        "outputId": "00d4d64e-d052-4dd0-cad5-f816a1ea10be"
      },
      "source": [
        "documentAssembler = DocumentAssembler()\\\n",
        "    .setInputCol(\"term\")\\\n",
        "    .setOutputCol(\"document\")\n",
        "\n",
        "# Sentence Detector annotator, processes various sentences per line\n",
        "\n",
        "sentenceDetector = SentenceDetector()\\\n",
        "    .setInputCols([\"document\"])\\\n",
        "    .setOutputCol(\"sentence\")\\\n",
        "    .setCustomBounds([\",\"])\n",
        "\n",
        "# Tokenizer splits words in a relevant format for NLP\n",
        "\n",
        "tokenizer = Tokenizer()\\\n",
        "    .setInputCols([\"sentence\"])\\\n",
        "    .setOutputCol(\"raw_token\")\\\n",
        "\n",
        "stopwords = StopWordsCleaner()\\\n",
        "    .setInputCols([\"raw_token\"])\\\n",
        "    .setOutputCol(\"token\")\n",
        "\n",
        "word_embeddings = WordEmbeddingsModel.pretrained(\"embeddings_healthcare_100d\", \"en\", \"clinical/models\")\\\n",
        "    .setInputCols([\"document\", \"token\"])\\\n",
        "    .setOutputCol(\"embeddings\")\n",
        "\n",
        "clinical_ner = MedicalNerModel.pretrained(\"ner_healthcare\", \"en\", \"clinical/models\") \\\n",
        "    .setInputCols([\"sentence\", \"token\", \"embeddings\"]) \\\n",
        "    .setOutputCol(\"ner\")\n",
        "\n",
        "snomed_ner_converter = NerConverterInternal() \\\n",
        "    .setInputCols([\"sentence\", \"token\", \"ner\"]) \\\n",
        "    .setOutputCol(\"greedy_chunk\")\\\n",
        "    .setWhiteList(['PROBLEM','TEST'])\n",
        "\n",
        "chunk_embeddings = ChunkEmbeddings()\\\n",
        "    .setInputCols('greedy_chunk', 'embeddings')\\\n",
        "    .setOutputCol('chunk_embeddings')\n",
        "\n",
        "snomed_resolver = ChunkEntityResolverModel.load(\"chunkresolve_snomed_askapatient_hc_100d\")\\\n",
        "    .setInputCols(\"token\",\"chunk_embeddings\")\\\n",
        "    .setOutputCol(\"snomed_resolution\")\n",
        "\n",
        "pipeline_snomed = Pipeline(stages = [\n",
        "    documentAssembler,\n",
        "    sentenceDetector,\n",
        "    tokenizer,\n",
        "    stopwords,\n",
        "    word_embeddings,\n",
        "    clinical_ner,\n",
        "    snomed_ner_converter,\n",
        "    chunk_embeddings,\n",
        "    snomed_resolver\n",
        "  ])\n",
        "\n",
        "empty_data = spark.createDataFrame([['']]).toDF(\"term\")\n",
        "\n",
        "model_snomed = pipeline_snomed.fit(empty_data)\n"
      ],
      "execution_count": 17,
      "outputs": [
        {
          "output_type": "stream",
          "text": [
            "embeddings_healthcare_100d download started this may take some time.\n",
            "Approximate size to download 475.8 MB\n",
            "[OK!]\n",
            "ner_healthcare download started this may take some time.\n",
            "Approximate size to download 13.5 MB\n",
            "[OK!]\n"
          ],
          "name": "stdout"
        }
      ]
    },
    {
      "cell_type": "code",
      "metadata": {
        "id": "qPkpwyrh6Bqn"
      },
      "source": [
        "model_snomed_lp = LightPipeline(model_snomed)\n"
      ],
      "execution_count": 18,
      "outputs": []
    },
    {
      "cell_type": "code",
      "metadata": {
        "id": "ehiWVvVs6Ooi"
      },
      "source": [
        "result = model_snomed_lp.annotate('I have a biceps muscle pain and extreme muscle pain in shoulders')\n"
      ],
      "execution_count": 19,
      "outputs": []
    },
    {
      "cell_type": "code",
      "metadata": {
        "colab": {
          "base_uri": "https://localhost:8080/"
        },
        "id": "AhZF03HE6dDg",
        "outputId": "a6dcd663-1a7f-485e-fa70-ab69b49ee83d"
      },
      "source": [
        "result = model_snomed_lp.annotate('I have a biceps muscle pain and extreme muscle pain in shoulders')\n",
        "\n",
        "list(zip(result['greedy_chunk'],result['snomed_resolution']))"
      ],
      "execution_count": 20,
      "outputs": [
        {
          "output_type": "execute_result",
          "data": {
            "text/plain": [
              "[('biceps muscle pain', '288227007'), ('extreme muscle pain', '76948002')]"
            ]
          },
          "metadata": {
            "tags": []
          },
          "execution_count": 20
        }
      ]
    },
    {
      "cell_type": "code",
      "metadata": {
        "id": "vSx2ThKRA9Iu",
        "colab": {
          "base_uri": "https://localhost:8080/"
        },
        "outputId": "479cc3a7-6359-4abd-dfe4-a7a44b629438"
      },
      "source": [
        "result = model_snomed_lp.annotate('I have a flu and a headache')\n",
        "\n",
        "list(zip(result['greedy_chunk'],result['snomed_resolution']))"
      ],
      "execution_count": 21,
      "outputs": [
        {
          "output_type": "execute_result",
          "data": {
            "text/plain": [
              "[('flu and a headache', '6142004')]"
            ]
          },
          "metadata": {
            "tags": []
          },
          "execution_count": 21
        }
      ]
    },
    {
      "cell_type": "code",
      "metadata": {
        "id": "IZ-jfMzD6nR8",
        "colab": {
          "base_uri": "https://localhost:8080/"
        },
        "outputId": "1a2fc64c-af89-44a3-ef04-6abf19380dc0"
      },
      "source": [
        "from pyspark.sql import functions as F\n",
        "\n",
        "snomed_output = model_snomed.transform(spark.createDataFrame([['I have a biceps muscle pain and extreme muscle pain in shoulders']]).toDF(\"term\"))\n",
        "\n",
        "snomed_output.select(F.explode(F.arrays_zip(\"greedy_chunk.result\",\"greedy_chunk.metadata\",\"snomed_resolution.result\",\"snomed_resolution.metadata\")).alias(\"snomed_result\")) \\\n",
        "             .select(F.expr(\"snomed_result['0']\").alias(\"chunk\"),\n",
        "                     F.expr(\"snomed_result['1'].entity\").alias(\"entity\"),\n",
        "                     F.expr(\"snomed_result['3'].all_k_resolutions\").alias(\"target_text\"),\n",
        "                     F.expr(\"snomed_result['2']\").alias(\"code\"),\n",
        "                     F.expr(\"snomed_result['3'].confidence\").alias(\"confidence\")).show(truncate = 100)"
      ],
      "execution_count": 22,
      "outputs": [
        {
          "output_type": "stream",
          "text": [
            "+-------------------+-------+----------------------------------------------------------------------------------------------------+---------+----------+\n",
            "|              chunk| entity|                                                                                         target_text|     code|confidence|\n",
            "+-------------------+-------+----------------------------------------------------------------------------------------------------+---------+----------+\n",
            "| biceps muscle pain|PROBLEM|Myalgia/myositis - upper arm:::Myalgia:::Neck pain:::Myalgia/myositis - shoulder:::Backache:::Foo...|288227007|    0.0915|\n",
            "|extreme muscle pain|PROBLEM|Severe pain:::Muscle fatigue:::Muscle weakness:::Myopathy:::Abdominal pain:::Constant pain:::Myal...| 76948002|    0.1527|\n",
            "+-------------------+-------+----------------------------------------------------------------------------------------------------+---------+----------+\n",
            "\n"
          ],
          "name": "stdout"
        }
      ]
    },
    {
      "cell_type": "markdown",
      "metadata": {
        "id": "BE5WoycOXx0O"
      },
      "source": [
        "# Sentence Entity Resolver (BioBert sentence embeddings) (after v2.7)"
      ]
    },
    {
      "cell_type": "code",
      "metadata": {
        "colab": {
          "base_uri": "https://localhost:8080/"
        },
        "id": "2Xy1Xpt1YfyV",
        "outputId": "c8d10447-821f-43b7-9050-92131bb42c9a"
      },
      "source": [
        "aap_train_sdf.show()"
      ],
      "execution_count": 23,
      "outputs": [
        {
          "output_type": "stream",
          "text": [
            "+----------------+--------------------+--------------------+\n",
            "|       conceptId|               _term|                term|\n",
            "+----------------+--------------------+--------------------+\n",
            "|       108367008|Dislocation of joint|Dislocation of joint|\n",
            "|3384011000036100|           Arthrotec|           Arthrotec|\n",
            "|       166717003|Serum creatinine ...|Serum creatinine ...|\n",
            "|3877011000036101|             Lipitor|             Lipitor|\n",
            "|       402234004|         Foot eczema|         Foot eczema|\n",
            "|       404640003|           Dizziness|           Dizziness|\n",
            "|       271681002|        Stomach ache|        Stomach ache|\n",
            "|        76948002|         Severe pain|         Severe pain|\n",
            "|        36031001|        Burning feet|        Burning feet|\n",
            "|        76948002|         Severe pain|         Severe pain|\n",
            "|        42399005|       Renal failure|       Renal failure|\n",
            "|       288227007|Myalgia/myositis ...|Myalgia/myositis ...|\n",
            "|       419723007|       Mentally dull|       Mentally dull|\n",
            "|       248490000|    Bloating symptom|    Bloating symptom|\n",
            "|        22253000|                Pain|                Pain|\n",
            "|       162076009|Excessive upper g...|Excessive upper g...|\n",
            "|       247592009|Poor short-term m...|Poor short-term m...|\n",
            "|        62507009|    Pins and needles|    Pins and needles|\n",
            "|3877011000036101|             Lipitor|             Lipitor|\n",
            "|        62507009|    Pins and needles|    Pins and needles|\n",
            "+----------------+--------------------+--------------------+\n",
            "only showing top 20 rows\n",
            "\n"
          ],
          "name": "stdout"
        }
      ]
    },
    {
      "cell_type": "code",
      "metadata": {
        "colab": {
          "base_uri": "https://localhost:8080/"
        },
        "id": "BywAIMq2ZjmJ",
        "outputId": "de07946a-7d6e-4a06-b076-385e2f8189e4"
      },
      "source": [
        "aap_train_sdf.printSchema()"
      ],
      "execution_count": 24,
      "outputs": [
        {
          "output_type": "stream",
          "text": [
            "root\n",
            " |-- conceptId: string (nullable = true)\n",
            " |-- _term: string (nullable = true)\n",
            " |-- term: string (nullable = true)\n",
            "\n"
          ],
          "name": "stdout"
        }
      ]
    },
    {
      "cell_type": "code",
      "metadata": {
        "colab": {
          "base_uri": "https://localhost:8080/"
        },
        "id": "77HxAFzLX4zm",
        "outputId": "9d6e25a6-9e08-469d-fe09-c8a549a5e5d4"
      },
      "source": [
        "documentAssembler = DocumentAssembler()\\\n",
        "    .setInputCol(\"_term\")\\\n",
        "    .setOutputCol(\"sentence\")\n",
        "\n",
        "bert_embeddings = BertSentenceEmbeddings.pretrained(\"sent_biobert_pubmed_base_cased\")\\\n",
        "    .setInputCols([\"sentence\"])\\\n",
        "    .setOutputCol(\"bert_embeddings\")\n",
        "\n",
        "snomed_training_pipeline = Pipeline(stages = [\n",
        "    documentAssembler,\n",
        "    bert_embeddings])\n",
        "\n",
        "snomed_training_model = snomed_training_pipeline.fit(aap_train_sdf)\n",
        "\n",
        "snomed_data = snomed_training_model.transform(aap_train_sdf)\n"
      ],
      "execution_count": 25,
      "outputs": [
        {
          "output_type": "stream",
          "text": [
            "sent_biobert_pubmed_base_cased download started this may take some time.\n",
            "Approximate size to download 386.4 MB\n",
            "[OK!]\n"
          ],
          "name": "stdout"
        }
      ]
    },
    {
      "cell_type": "code",
      "metadata": {
        "colab": {
          "base_uri": "https://localhost:8080/"
        },
        "id": "eTF2AmJFYpcZ",
        "outputId": "60b5a799-5fd8-40c9-a093-76ce2001ebfd"
      },
      "source": [
        "bertExtractor = SentenceEntityResolverApproach()\\\n",
        "  .setNeighbours(25)\\\n",
        "  .setThreshold(1000)\\\n",
        "  .setInputCols(\"bert_embeddings\")\\\n",
        "  .setNormalizedCol(\"_term\")\\\n",
        "  .setLabelCol(\"conceptId\")\\\n",
        "  .setOutputCol('snomed_code')\\\n",
        "  .setDistanceFunction(\"EUCLIDIAN\")\\\n",
        "  .setCaseSensitive(False)\n",
        "\n",
        "%time snomed_model = bertExtractor.fit(snomed_data)"
      ],
      "execution_count": 26,
      "outputs": [
        {
          "output_type": "stream",
          "text": [
            "CPU times: user 12 s, sys: 1.15 s, total: 13.2 s\n",
            "Wall time: 33min 33s\n"
          ],
          "name": "stdout"
        }
      ]
    },
    {
      "cell_type": "code",
      "metadata": {
        "id": "v6d-ZuYk4mVs"
      },
      "source": [
        "# save if you will need that later\n",
        "snomed_model.write().overwrite().save(\"biobertresolve_snomed_askapatient\")"
      ],
      "execution_count": 27,
      "outputs": []
    },
    {
      "cell_type": "code",
      "metadata": {
        "id": "tUvjpB8YZlz2"
      },
      "source": [
        "prediction_Model = PipelineModel(stages=[snomed_training_model, snomed_model])\n",
        "\n",
        "aap_train_pred= prediction_Model.transform(aap_train_sdf).cache()\n",
        "aap_test_pred= prediction_Model.transform(aap_test_sdf).cache()\n",
        "aap_val_pred= prediction_Model.transform(aap_val_sdf).cache()"
      ],
      "execution_count": 28,
      "outputs": []
    },
    {
      "cell_type": "code",
      "metadata": {
        "colab": {
          "base_uri": "https://localhost:8080/"
        },
        "id": "zK02FvVNZvsr",
        "outputId": "f86da42f-cb11-4cbe-b44c-3ade78029509"
      },
      "source": [
        "aap_test_pred.selectExpr(\"conceptId\",\"term\",\"_term\",\"snomed_code[0].result\",\"snomed_code[0].metadata.resolved_text\",\"snomed_code[0].metadata.all_k_resolutions\").show(truncate=50)"
      ],
      "execution_count": 29,
      "outputs": [
        {
          "output_type": "stream",
          "text": [
            "+----------------+--------------------------------+------------------------------------+---------------------+--------------------------------------+--------------------------------------------------+\n",
            "|       conceptId|                            term|                               _term|snomed_code[0].result|snomed_code[0].metadata[resolved_text]|        snomed_code[0].metadata[all_k_resolutions]|\n",
            "+----------------+--------------------------------+------------------------------------+---------------------+--------------------------------------+--------------------------------------------------+\n",
            "|       108367008|                     dislocating|                Dislocation of joint|            108367008|                  Dislocation of joint|Dislocation of joint:::Disorder of joint of sho...|\n",
            "|3384011000036100|                       Arthrotec|                           Arthrotec|     3384011000036100|                             Arthrotec|                                         Arthrotec|\n",
            "|       166717003|               elevated creatine|             Serum creatinine raised|            166717003|               Serum creatinine raised|Serum creatinine raised:::Serum cholesterol raised|\n",
            "|3877011000036101|                         Lipitor|                             Lipitor|     3877011000036101|                               Lipitor|                                           Lipitor|\n",
            "|       402234004|                  Eczema on feet|                         Foot eczema|            402234004|                           Foot eczema|Foot eczema:::Hand eczema:::Eczema:::Blistering...|\n",
            "|       404640003|                           dizzy|                           Dizziness|            404640003|                             Dizziness|                                         Dizziness|\n",
            "|       271681002|   pain in the pit of my stomach|                        Stomach ache|            271681002|                          Stomach ache|                                      Stomach ache|\n",
            "|        76948002|extreme muscle pain in shoulders|                         Severe pain|             76948002|                           Severe pain|                                       Severe pain|\n",
            "|        36031001|                    Burning feet|                        Burning feet|             36031001|                          Burning feet|Burning feet:::Cold feet:::Cold hands:::Burning...|\n",
            "|        76948002|             imence pain in legs|                         Severe pain|             76948002|                           Severe pain|                                       Severe pain|\n",
            "|        42399005|              kidney malfunction|                       Renal failure|             42399005|                         Renal failure|Renal failure:::Renal injury:::Renal impairment...|\n",
            "|       288227007|        muscle pain in my biceps|        Myalgia/myositis - upper arm|            288227007|          Myalgia/myositis - upper arm|Myalgia/myositis - upper arm:::Myalgia/myositis...|\n",
            "|       419723007|                       brain fog|                       Mentally dull|            419723007|                         Mentally dull|                                     Mentally dull|\n",
            "|       248490000|                        bloating|                    Bloating symptom|            248490000|                      Bloating symptom|                                  Bloating symptom|\n",
            "|        22253000|                            pain|                                Pain|             22253000|                                  Pain|                                              Pain|\n",
            "|       162076009|                             gas|Excessive upper gastrointestinal gas|            162076009|  Excessive upper gastrointestinal gas|              Excessive upper gastrointestinal gas|\n",
            "|       247592009|          Short term memory loss|              Poor short-term memory|            247592009|                Poor short-term memory|                            Poor short-term memory|\n",
            "|        62507009|             tingling in my feet|                    Pins and needles|             62507009|                      Pins and needles|                                  Pins and needles|\n",
            "|3877011000036101|                         LIPITOR|                             Lipitor|     3877011000036101|                               Lipitor|                                           Lipitor|\n",
            "|        62507009|   tingling on left side of face|                    Pins and needles|             62507009|                      Pins and needles|                                  Pins and needles|\n",
            "+----------------+--------------------------------+------------------------------------+---------------------+--------------------------------------+--------------------------------------------------+\n",
            "only showing top 20 rows\n",
            "\n"
          ],
          "name": "stdout"
        }
      ]
    },
    {
      "cell_type": "code",
      "metadata": {
        "colab": {
          "base_uri": "https://localhost:8080/"
        },
        "id": "43VFVLaM3ify",
        "outputId": "92573c9d-9d4b-48bb-85be-535dccecdd09"
      },
      "source": [
        "aap_val_pred.selectExpr(\"conceptId\",\"term\",\"_term\",\"snomed_code[0].result\",\"snomed_code[0].metadata.resolved_text\",\"snomed_code[0].metadata.all_k_resolutions\").show(truncate=50)"
      ],
      "execution_count": 30,
      "outputs": [
        {
          "output_type": "stream",
          "text": [
            "+----------------+------------------------------+---------------------+---------------------+--------------------------------------+--------------------------------------------------+\n",
            "|       conceptId|                          term|                _term|snomed_code[0].result|snomed_code[0].metadata[resolved_text]|        snomed_code[0].metadata[all_k_resolutions]|\n",
            "+----------------+------------------------------+---------------------+---------------------+--------------------------------------+--------------------------------------------------+\n",
            "|       267032009|persisten feeling of tiredness|   Tired all the time|            267032009|                    Tired all the time|          Tired all the time:::Tightness in throat|\n",
            "|        22298006|                  HEART ATTACK|Myocardial infarction|             22298006|                 Myocardial infarction|                             Myocardial infarction|\n",
            "|3877011000036101|                       LIPITOR|              Lipitor|     3877011000036101|                               Lipitor|                                           Lipitor|\n",
            "|       415690000|                       sweated|             Sweating|            415690000|                              Sweating|            Sweating:::Sweating problem:::Swelling|\n",
            "|       248491001|              swelling at knee|         Swollen knee|            248491001|                          Swollen knee|Swollen knee:::Swollen ankle:::Swollen feet:::S...|\n",
            "|       248490000|                      bloating|     Bloating symptom|            248490000|                      Bloating symptom|                                  Bloating symptom|\n",
            "|       162059005|                 stomach upset|        Upset stomach|            162059005|                         Upset stomach|                                     Upset stomach|\n",
            "|3877011000036101|                       Lipitor|              Lipitor|     3877011000036101|                               Lipitor|                                           Lipitor|\n",
            "|        62507009|                      tingling|     Pins and needles|             62507009|                      Pins and needles|                                  Pins and needles|\n",
            "|       238131007|                   over weight|           Overweight|            238131007|                            Overweight|                          Overweight:::Weight gain|\n",
            "|        73595000|                        stress|               Stress|             73595000|                                Stress|               Stress:::Stress overload:::Swelling|\n",
            "|3877011000036101|                       lipitor|              Lipitor|     3877011000036101|                               Lipitor|                                           Lipitor|\n",
            "|3877011000036101|                       Lipitor|              Lipitor|     3877011000036101|                               Lipitor|                                           Lipitor|\n",
            "|        22253000|                          hurt|                 Pain|             22253000|                                  Pain|                                              Pain|\n",
            "|        73211009|                      diabetes|    Diabetes mellitus|             73211009|                     Diabetes mellitus|                                 Diabetes mellitus|\n",
            "|        10601006|                     sore legs|   Pain in lower limb|             10601006|                    Pain in lower limb|                                Pain in lower limb|\n",
            "|        75694006|       acute pancreatic attack|         Pancreatitis|             75694006|                          Pancreatitis|Pancreatitis:::Peritonitis:::Acute gastritis:::...|\n",
            "|        51197009|     SEVERE abdominal cramping|       Stomach cramps|             51197009|                        Stomach cramps|                                    Stomach cramps|\n",
            "|         3723001|                     arthrites|            Arthritis|              3723001|                             Arthritis|                                         Arthritis|\n",
            "|       271767006|        skin began to come off|      Peeling of skin|            271767006|                       Peeling of skin|Peeling of skin:::Discolouration of skin:::Abra...|\n",
            "+----------------+------------------------------+---------------------+---------------------+--------------------------------------+--------------------------------------------------+\n",
            "only showing top 20 rows\n",
            "\n"
          ],
          "name": "stdout"
        }
      ]
    }
  ]
}
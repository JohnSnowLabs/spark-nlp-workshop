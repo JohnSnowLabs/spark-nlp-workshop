{
  "nbformat": 4,
  "nbformat_minor": 0,
  "metadata": {
    "colab": {
      "name": "13.Snomed_Entity_Resolver_Model_Training.ipynb",
      "provenance": [],
      "collapsed_sections": []
    },
    "kernelspec": {
      "display_name": "Python 3",
      "language": "python",
      "name": "python3"
    },
    "language_info": {
      "codemirror_mode": {
        "name": "ipython",
        "version": 3
      },
      "file_extension": ".py",
      "mimetype": "text/x-python",
      "name": "python",
      "nbconvert_exporter": "python",
      "pygments_lexer": "ipython3",
      "version": "3.7.6"
    }
  },
  "cells": [
    {
      "cell_type": "markdown",
      "metadata": {
        "id": "Hwsv9vDmvbr1"
      },
      "source": [
        "![JohnSnowLabs](https://nlp.johnsnowlabs.com/assets/images/logo.png)"
      ]
    },
    {
      "cell_type": "markdown",
      "metadata": {
        "id": "jIs4dsyfvhEi"
      },
      "source": [
        " [![Open In Colab](https://colab.research.google.com/assets/colab-badge.svg)](https://colab.research.google.com/github/JohnSnowLabs/spark-nlp-workshop/blob/master/tutorials/Certification_Trainings/Healthcare/13.Snomed_Entity_Resolver_Model_Training.ipynb)"
      ]
    },
    {
      "cell_type": "markdown",
      "metadata": {
        "id": "N6w49Yx5Bjw5"
      },
      "source": [
        "# 13. Snomed Entity Resolver Model Training"
      ]
    },
    {
      "cell_type": "code",
      "metadata": {
        "id": "U-5twBh3veD2"
      },
      "source": [
        "import json\n",
        "import os\n",
        "\n",
        "from google.colab import files\n",
        "\n",
        "license_keys = files.upload()\n",
        "\n",
        "with open(list(license_keys.keys())[0]) as f:\n",
        "    license_keys = json.load(f)\n",
        "\n",
        "# Defining license key-value pairs as local variables\n",
        "locals().update(license_keys)\n",
        "\n",
        "# Adding license key-value pairs to environment variables\n",
        "os.environ.update(license_keys)"
      ],
      "execution_count": null,
      "outputs": []
    },
    {
      "cell_type": "code",
      "metadata": {
        "id": "gJzmNJjph6wo"
      },
      "source": [
        "# Installing pyspark and spark-nlp\n",
        "! pip install --upgrade -q pyspark==3.1.2 spark-nlp==$PUBLIC_VERSION\n",
        "\n",
        "# Installing Spark NLP Healthcare\n",
        "! pip install --upgrade -q spark-nlp-jsl==$JSL_VERSION  --extra-index-url https://pypi.johnsnowlabs.com/$SECRET"
      ],
      "execution_count": null,
      "outputs": []
    },
    {
      "cell_type": "code",
      "metadata": {
        "id": "QzezXHbGhx6r",
        "colab": {
          "base_uri": "https://localhost:8080/"
        },
        "outputId": "4d3e7a27-4d1b-45e1-92eb-74a7a20fbf0b"
      },
      "source": [
        "import json\n",
        "import os\n",
        "import sparknlp_jsl\n",
        "import sparknlp\n",
        "from pyspark.ml import Pipeline, PipelineModel\n",
        "from pyspark.sql import SparkSession\n",
        "import sys, time\n",
        "from sparknlp.base import *\n",
        "from sparknlp.annotator import *\n",
        "from sparknlp.util import *\n",
        "from sparknlp_jsl.annotator import *\n",
        "\n",
        "from sparknlp.pretrained import ResourceDownloader\n",
        "from pyspark.sql import functions as F\n",
        "from pyspark.sql.types import StructType, StructField, StringType\n",
        "\n",
        "params = {\"spark.driver.memory\":\"16G\",\n",
        "\"spark.kryoserializer.buffer.max\":\"2000M\",\n",
        "\"spark.driver.maxResultSize\":\"2000M\"}\n",
        "\n",
        "spark = sparknlp_jsl.start(license_keys['SECRET'],params=params)\n",
        "\n",
        "print (sparknlp.version())\n",
        "print (sparknlp_jsl.version())"
      ],
      "execution_count": null,
      "outputs": [
        {
          "output_type": "stream",
          "name": "stdout",
          "text": [
            "3.3.0\n",
            "3.3.0\n"
          ]
        }
      ]
    },
    {
      "cell_type": "markdown",
      "metadata": {
        "id": "zRigNZ3XBrMV"
      },
      "source": [
        "## Load datasets"
      ]
    },
    {
      "cell_type": "code",
      "metadata": {
        "id": "neOur2ZHxm2w"
      },
      "source": [
        "!wget -q https://raw.githubusercontent.com/JohnSnowLabs/spark-nlp-workshop/master/tutorials/Certification_Trainings/Healthcare/data/AskAPatient.fold-0.test.txt\n",
        "!wget -q https://raw.githubusercontent.com/JohnSnowLabs/spark-nlp-workshop/master/tutorials/Certification_Trainings/Healthcare/data/AskAPatient.fold-0.train.txt\n",
        "!wget -q https://raw.githubusercontent.com/JohnSnowLabs/spark-nlp-workshop/master/tutorials/Certification_Trainings/Healthcare/data/AskAPatient.fold-0.validation.txt"
      ],
      "execution_count": null,
      "outputs": []
    },
    {
      "cell_type": "code",
      "metadata": {
        "id": "QK1EGRYPwHX1"
      },
      "source": [
        "import pandas as pd\n",
        "\n",
        "cols = [\"conceptId\",\"_term\",\"term\"]\n",
        "\n",
        "aap_tr = pd.read_csv(\"AskAPatient.fold-0.train.txt\",sep=\"\\t\",encoding=\"ISO-8859-1\",header=None)\n",
        "aap_tr.columns = cols\n",
        "aap_tr[\"conceptId\"] = aap_tr.conceptId.apply(str)\n",
        "\n",
        "aap_ts = pd.read_csv(\"AskAPatient.fold-0.test.txt\",sep=\"\\t\",header=None)\n",
        "aap_ts.columns = cols\n",
        "aap_ts[\"conceptId\"] = aap_ts.conceptId.apply(str)\n",
        "\n",
        "aap_vl = pd.read_csv(\"AskAPatient.fold-0.validation.txt\",sep=\"\\t\",header=None)\n",
        "aap_vl.columns = cols\n",
        "aap_vl[\"conceptId\"] = aap_vl.conceptId.apply(str)"
      ],
      "execution_count": null,
      "outputs": []
    },
    {
      "cell_type": "code",
      "metadata": {
        "colab": {
          "base_uri": "https://localhost:8080/",
          "height": 204
        },
        "id": "iB_Q2LFkyO1p",
        "outputId": "993e0d44-38ca-49a0-d754-45a6aefa123a"
      },
      "source": [
        "aap_vl.head()"
      ],
      "execution_count": null,
      "outputs": [
        {
          "output_type": "execute_result",
          "data": {
            "text/html": [
              "<div>\n",
              "<style scoped>\n",
              "    .dataframe tbody tr th:only-of-type {\n",
              "        vertical-align: middle;\n",
              "    }\n",
              "\n",
              "    .dataframe tbody tr th {\n",
              "        vertical-align: top;\n",
              "    }\n",
              "\n",
              "    .dataframe thead th {\n",
              "        text-align: right;\n",
              "    }\n",
              "</style>\n",
              "<table border=\"1\" class=\"dataframe\">\n",
              "  <thead>\n",
              "    <tr style=\"text-align: right;\">\n",
              "      <th></th>\n",
              "      <th>conceptId</th>\n",
              "      <th>_term</th>\n",
              "      <th>term</th>\n",
              "    </tr>\n",
              "  </thead>\n",
              "  <tbody>\n",
              "    <tr>\n",
              "      <th>0</th>\n",
              "      <td>267032009</td>\n",
              "      <td>Tired all the time</td>\n",
              "      <td>persisten feeling of tiredness</td>\n",
              "    </tr>\n",
              "    <tr>\n",
              "      <th>1</th>\n",
              "      <td>22298006</td>\n",
              "      <td>Myocardial infarction</td>\n",
              "      <td>HEART ATTACK</td>\n",
              "    </tr>\n",
              "    <tr>\n",
              "      <th>2</th>\n",
              "      <td>3877011000036101</td>\n",
              "      <td>Lipitor</td>\n",
              "      <td>LIPITOR</td>\n",
              "    </tr>\n",
              "    <tr>\n",
              "      <th>3</th>\n",
              "      <td>415690000</td>\n",
              "      <td>Sweating</td>\n",
              "      <td>sweated</td>\n",
              "    </tr>\n",
              "    <tr>\n",
              "      <th>4</th>\n",
              "      <td>248491001</td>\n",
              "      <td>Swollen knee</td>\n",
              "      <td>swelling at knee</td>\n",
              "    </tr>\n",
              "  </tbody>\n",
              "</table>\n",
              "</div>"
            ],
            "text/plain": [
              "          conceptId                  _term                            term\n",
              "0         267032009     Tired all the time  persisten feeling of tiredness\n",
              "1          22298006  Myocardial infarction                    HEART ATTACK\n",
              "2  3877011000036101                Lipitor                         LIPITOR\n",
              "3         415690000               Sweating                         sweated\n",
              "4         248491001           Swollen knee                swelling at knee"
            ]
          },
          "metadata": {},
          "execution_count": 6
        }
      ]
    },
    {
      "cell_type": "code",
      "metadata": {
        "id": "E2aBz1rEv5gc"
      },
      "source": [
        "aap_train_sdf = spark.createDataFrame(aap_tr)\n",
        "aap_test_sdf = spark.createDataFrame(aap_ts)\n",
        "aap_val_sdf = spark.createDataFrame(aap_vl)"
      ],
      "execution_count": null,
      "outputs": []
    },
    {
      "cell_type": "markdown",
      "metadata": {
        "id": "BE5WoycOXx0O"
      },
      "source": [
        "# Sentence Entity Resolver (sBioBert sentence embeddings) (after v2.7)"
      ]
    },
    {
      "cell_type": "code",
      "metadata": {
        "colab": {
          "base_uri": "https://localhost:8080/"
        },
        "id": "2Xy1Xpt1YfyV",
        "outputId": "c77d75ce-a429-4631-ccee-0e8a72076e39"
      },
      "source": [
        "aap_train_sdf.show()"
      ],
      "execution_count": null,
      "outputs": [
        {
          "output_type": "stream",
          "name": "stdout",
          "text": [
            "+----------------+--------------------+--------------------+\n",
            "|       conceptId|               _term|                term|\n",
            "+----------------+--------------------+--------------------+\n",
            "|       108367008|Dislocation of joint|Dislocation of joint|\n",
            "|3384011000036100|           Arthrotec|           Arthrotec|\n",
            "|       166717003|Serum creatinine ...|Serum creatinine ...|\n",
            "|3877011000036101|             Lipitor|             Lipitor|\n",
            "|       402234004|         Foot eczema|         Foot eczema|\n",
            "|       404640003|           Dizziness|           Dizziness|\n",
            "|       271681002|        Stomach ache|        Stomach ache|\n",
            "|        76948002|         Severe pain|         Severe pain|\n",
            "|        36031001|        Burning feet|        Burning feet|\n",
            "|        76948002|         Severe pain|         Severe pain|\n",
            "|        42399005|       Renal failure|       Renal failure|\n",
            "|       288227007|Myalgia/myositis ...|Myalgia/myositis ...|\n",
            "|       419723007|       Mentally dull|       Mentally dull|\n",
            "|       248490000|    Bloating symptom|    Bloating symptom|\n",
            "|        22253000|                Pain|                Pain|\n",
            "|       162076009|Excessive upper g...|Excessive upper g...|\n",
            "|       247592009|Poor short-term m...|Poor short-term m...|\n",
            "|        62507009|    Pins and needles|    Pins and needles|\n",
            "|3877011000036101|             Lipitor|             Lipitor|\n",
            "|        62507009|    Pins and needles|    Pins and needles|\n",
            "+----------------+--------------------+--------------------+\n",
            "only showing top 20 rows\n",
            "\n"
          ]
        }
      ]
    },
    {
      "cell_type": "code",
      "metadata": {
        "colab": {
          "base_uri": "https://localhost:8080/"
        },
        "id": "BywAIMq2ZjmJ",
        "outputId": "6ae6dca9-7467-4beb-b8c6-190017d446e2"
      },
      "source": [
        "aap_train_sdf.printSchema()"
      ],
      "execution_count": null,
      "outputs": [
        {
          "output_type": "stream",
          "name": "stdout",
          "text": [
            "root\n",
            " |-- conceptId: string (nullable = true)\n",
            " |-- _term: string (nullable = true)\n",
            " |-- term: string (nullable = true)\n",
            "\n"
          ]
        }
      ]
    },
    {
      "cell_type": "code",
      "metadata": {
        "colab": {
          "base_uri": "https://localhost:8080/"
        },
        "id": "77HxAFzLX4zm",
        "outputId": "df57a096-df5e-4e40-8191-0cd5e3a770ed"
      },
      "source": [
        "documentAssembler = DocumentAssembler()\\\n",
        "    .setInputCol(\"_term\")\\\n",
        "    .setOutputCol(\"sentence\")\n",
        "\n",
        "bert_embeddings = BertSentenceEmbeddings.pretrained(\"sbiobert_base_cased_mli\", \"en\", \"clinical/models\")\\\n",
        "    .setInputCols([\"sentence\"])\\\n",
        "    .setOutputCol(\"bert_embeddings\")\n",
        "\n",
        "snomed_training_pipeline = Pipeline(stages = [\n",
        "    documentAssembler,\n",
        "    bert_embeddings])\n",
        "\n",
        "snomed_training_model = snomed_training_pipeline.fit(aap_train_sdf)\n",
        "\n",
        "snomed_data = snomed_training_model.transform(aap_train_sdf)\n"
      ],
      "execution_count": null,
      "outputs": [
        {
          "output_type": "stream",
          "name": "stdout",
          "text": [
            "sbiobert_base_cased_mli download started this may take some time.\n",
            "Approximate size to download 384.3 MB\n",
            "[OK!]\n"
          ]
        }
      ]
    },
    {
      "cell_type": "code",
      "metadata": {
        "id": "eTF2AmJFYpcZ",
        "colab": {
          "base_uri": "https://localhost:8080/"
        },
        "outputId": "27555b56-1c95-4e91-c308-c1700c888e54"
      },
      "source": [
        "bertExtractor = SentenceEntityResolverApproach()\\\n",
        "  .setNeighbours(25)\\\n",
        "  .setThreshold(1000)\\\n",
        "  .setInputCols(\"bert_embeddings\")\\\n",
        "  .setNormalizedCol(\"_term\")\\\n",
        "  .setLabelCol(\"conceptId\")\\\n",
        "  .setOutputCol('snomed_code')\\\n",
        "  .setDistanceFunction(\"EUCLIDIAN\")\\\n",
        "  .setCaseSensitive(False)\n",
        "\n",
        "%time snomed_model = bertExtractor.fit(snomed_data)"
      ],
      "execution_count": null,
      "outputs": [
        {
          "output_type": "stream",
          "name": "stdout",
          "text": [
            "CPU times: user 7.43 s, sys: 789 ms, total: 8.22 s\n",
            "Wall time: 25min 34s\n"
          ]
        }
      ]
    },
    {
      "cell_type": "code",
      "metadata": {
        "id": "v6d-ZuYk4mVs"
      },
      "source": [
        "# save if you will need that later\n",
        "snomed_model.write().overwrite().save(\"biobertresolve_snomed_askapatient\")"
      ],
      "execution_count": null,
      "outputs": []
    },
    {
      "cell_type": "code",
      "metadata": {
        "id": "tUvjpB8YZlz2"
      },
      "source": [
        "prediction_Model = PipelineModel(stages=[snomed_training_model, snomed_model])\n",
        "\n",
        "aap_train_pred= prediction_Model.transform(aap_train_sdf).cache()\n",
        "aap_test_pred= prediction_Model.transform(aap_test_sdf).cache()\n",
        "aap_val_pred= prediction_Model.transform(aap_val_sdf).cache()"
      ],
      "execution_count": null,
      "outputs": []
    },
    {
      "cell_type": "code",
      "metadata": {
        "id": "zK02FvVNZvsr",
        "colab": {
          "base_uri": "https://localhost:8080/"
        },
        "outputId": "a143bc59-616e-46e9-b1f6-2b332d3ef258"
      },
      "source": [
        "aap_test_pred.selectExpr(\"conceptId\",\"term\",\"_term\",\"snomed_code[0].result\",\"snomed_code[0].metadata.resolved_text\",\"snomed_code[0].metadata.all_k_resolutions\").show(truncate=50)"
      ],
      "execution_count": null,
      "outputs": [
        {
          "output_type": "stream",
          "name": "stdout",
          "text": [
            "+----------------+--------------------------------+------------------------------------+---------------------+--------------------------------------+--------------------------------------------------+\n",
            "|       conceptId|                            term|                               _term|snomed_code[0].result|snomed_code[0].metadata[resolved_text]|        snomed_code[0].metadata[all_k_resolutions]|\n",
            "+----------------+--------------------------------+------------------------------------+---------------------+--------------------------------------+--------------------------------------------------+\n",
            "|       108367008|                     dislocating|                Dislocation of joint|            108367008|                  Dislocation of joint|Dislocation of joint:::Joint injury:::Disorder ...|\n",
            "|3384011000036100|                       Arthrotec|                           Arthrotec|     3384011000036100|                             Arthrotec|                                         Arthrotec|\n",
            "|       166717003|               elevated creatine|             Serum creatinine raised|            166717003|               Serum creatinine raised|Serum creatinine raised:::Increased creatine ki...|\n",
            "|3877011000036101|                         Lipitor|                             Lipitor|     3877011000036101|                               Lipitor|                                           Lipitor|\n",
            "|       402234004|                  Eczema on feet|                         Foot eczema|            402234004|                           Foot eczema|Foot eczema:::Eczema:::Hand eczema:::Tendonitis...|\n",
            "|       404640003|                           dizzy|                           Dizziness|            404640003|                             Dizziness|                                         Dizziness|\n",
            "|       271681002|   pain in the pit of my stomach|                        Stomach ache|            271681002|                          Stomach ache|                                      Stomach ache|\n",
            "|        76948002|extreme muscle pain in shoulders|                         Severe pain|             76948002|                           Severe pain|                                       Severe pain|\n",
            "|        36031001|                    Burning feet|                        Burning feet|             36031001|                          Burning feet|                  Burning feet:::Burning sensation|\n",
            "|        76948002|             imence pain in legs|                         Severe pain|             76948002|                           Severe pain|                                       Severe pain|\n",
            "|        42399005|              kidney malfunction|                       Renal failure|             42399005|                         Renal failure|Renal failure:::Renal impairment:::Renal injury...|\n",
            "|       288227007|        muscle pain in my biceps|        Myalgia/myositis - upper arm|            288227007|          Myalgia/myositis - upper arm|Myalgia/myositis - upper arm:::Myalgia/myositis...|\n",
            "|       419723007|                       brain fog|                       Mentally dull|            419723007|                         Mentally dull|                                     Mentally dull|\n",
            "|       248490000|                        bloating|                    Bloating symptom|            248490000|                      Bloating symptom|                                  Bloating symptom|\n",
            "|        22253000|                            pain|                                Pain|             22253000|                                  Pain|                                              Pain|\n",
            "|       162076009|                             gas|Excessive upper gastrointestinal gas|            162076009|  Excessive upper gastrointestinal gas|              Excessive upper gastrointestinal gas|\n",
            "|       247592009|          Short term memory loss|              Poor short-term memory|            247592009|                Poor short-term memory|                            Poor short-term memory|\n",
            "|        62507009|             tingling in my feet|                    Pins and needles|             62507009|                      Pins and needles|                                  Pins and needles|\n",
            "|3877011000036101|                         LIPITOR|                             Lipitor|     3877011000036101|                               Lipitor|                                           Lipitor|\n",
            "|        62507009|   tingling on left side of face|                    Pins and needles|             62507009|                      Pins and needles|                                  Pins and needles|\n",
            "+----------------+--------------------------------+------------------------------------+---------------------+--------------------------------------+--------------------------------------------------+\n",
            "only showing top 20 rows\n",
            "\n"
          ]
        }
      ]
    },
    {
      "cell_type": "code",
      "metadata": {
        "id": "43VFVLaM3ify",
        "colab": {
          "base_uri": "https://localhost:8080/"
        },
        "outputId": "82fb5081-de94-4962-fccf-2a01c1b4be0e"
      },
      "source": [
        "aap_val_pred.selectExpr(\"conceptId\",\"term\",\"_term\",\"snomed_code[0].result\",\"snomed_code[0].metadata.resolved_text\",\"snomed_code[0].metadata.all_k_resolutions\").show(truncate=50)"
      ],
      "execution_count": null,
      "outputs": [
        {
          "output_type": "stream",
          "name": "stdout",
          "text": [
            "+----------------+------------------------------+---------------------+---------------------+--------------------------------------+--------------------------------------------------+\n",
            "|       conceptId|                          term|                _term|snomed_code[0].result|snomed_code[0].metadata[resolved_text]|        snomed_code[0].metadata[all_k_resolutions]|\n",
            "+----------------+------------------------------+---------------------+---------------------+--------------------------------------+--------------------------------------------------+\n",
            "|       267032009|persisten feeling of tiredness|   Tired all the time|            267032009|                    Tired all the time|Tired all the time:::Always sleepy:::Constant pain|\n",
            "|        22298006|                  HEART ATTACK|Myocardial infarction|             22298006|                 Myocardial infarction|                             Myocardial infarction|\n",
            "|3877011000036101|                       LIPITOR|              Lipitor|     3877011000036101|                               Lipitor|                                           Lipitor|\n",
            "|       415690000|                       sweated|             Sweating|            415690000|                              Sweating|            Sweating:::Sweating problem:::Swelling|\n",
            "|       248491001|              swelling at knee|         Swollen knee|            248491001|                          Swollen knee|Swollen knee:::Swollen feet:::Swollen legs:::Sw...|\n",
            "|       248490000|                      bloating|     Bloating symptom|            248490000|                      Bloating symptom|                                  Bloating symptom|\n",
            "|       162059005|                 stomach upset|        Upset stomach|            162059005|                         Upset stomach|                                     Upset stomach|\n",
            "|3877011000036101|                       Lipitor|              Lipitor|     3877011000036101|                               Lipitor|                                           Lipitor|\n",
            "|        62507009|                      tingling|     Pins and needles|             62507009|                      Pins and needles|                                  Pins and needles|\n",
            "|       238131007|                   over weight|           Overweight|            238131007|                            Overweight|Overweight:::Heavy legs:::Increased lipid:::Exc...|\n",
            "|        73595000|                        stress|               Stress|             73595000|                                Stress|                    Stress:::Sedated:::Stiff limbs|\n",
            "|3877011000036101|                       lipitor|              Lipitor|     3877011000036101|                               Lipitor|                                           Lipitor|\n",
            "|3877011000036101|                       Lipitor|              Lipitor|     3877011000036101|                               Lipitor|                                           Lipitor|\n",
            "|        22253000|                          hurt|                 Pain|             22253000|                                  Pain|                                              Pain|\n",
            "|        73211009|                      diabetes|    Diabetes mellitus|             73211009|                     Diabetes mellitus|                                 Diabetes mellitus|\n",
            "|        10601006|                     sore legs|   Pain in lower limb|             10601006|                    Pain in lower limb|                                Pain in lower limb|\n",
            "|        75694006|       acute pancreatic attack|         Pancreatitis|             75694006|                          Pancreatitis|Pancreatitis:::Peritonitis:::Hepatomegaly:::Hep...|\n",
            "|        51197009|     SEVERE abdominal cramping|       Stomach cramps|             51197009|                        Stomach cramps|                                    Stomach cramps|\n",
            "|         3723001|                     arthrites|            Arthritis|              3723001|                             Arthritis|                                         Arthritis|\n",
            "|       271767006|        skin began to come off|      Peeling of skin|            271767006|                       Peeling of skin|Peeling of skin:::Scab of skin:::Discolouration...|\n",
            "+----------------+------------------------------+---------------------+---------------------+--------------------------------------+--------------------------------------------------+\n",
            "only showing top 20 rows\n",
            "\n"
          ]
        }
      ]
    }
  ]
}
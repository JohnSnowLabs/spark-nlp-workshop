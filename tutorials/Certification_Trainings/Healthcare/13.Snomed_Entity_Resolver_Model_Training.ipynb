{
  "nbformat": 4,
  "nbformat_minor": 0,
  "metadata": {
    "colab": {
      "name": "13.Snomed_Entity_Resolver_Model_Training.ipynb",
      "provenance": []
    },
    "kernelspec": {
      "name": "python3",
      "display_name": "Python 3"
    }
  },
  "cells": [
    {
      "cell_type": "markdown",
      "metadata": {
        "id": "Hwsv9vDmvbr1",
        "colab_type": "text"
      },
      "source": [
        "![JohnSnowLabs](https://nlp.johnsnowlabs.com/assets/images/logo.png)"
      ]
    },
    {
      "cell_type": "markdown",
      "metadata": {
        "id": "jIs4dsyfvhEi",
        "colab_type": "text"
      },
      "source": [
        " [![Open In Colab](https://colab.research.google.com/assets/colab-badge.svg)](https://colab.research.google.com/github/JohnSnowLabs/spark-nlp-workshop/blob/master/tutorials/Certification_Trainings/Healthcare/13.Snomed_Entity_Resolver_Model_Training.ipynb)"
      ]
    },
    {
      "cell_type": "markdown",
      "metadata": {
        "id": "N6w49Yx5Bjw5",
        "colab_type": "text"
      },
      "source": [
        "# Snomed Entity Resolver Model Training"
      ]
    },
    {
      "cell_type": "code",
      "metadata": {
        "id": "U-5twBh3veD2",
        "colab_type": "code",
        "colab": {
          "base_uri": "https://localhost:8080/",
          "height": 34
        },
        "outputId": "3594e085-87fd-4347-9fb7-5f66b47fb340"
      },
      "source": [
        "import json\n",
        "\n",
        "with open('workshop_license_keys_365.json') as f:\n",
        "    license_keys = json.load(f)\n",
        "\n",
        "license_keys.keys()\n"
      ],
      "execution_count": 1,
      "outputs": [
        {
          "output_type": "execute_result",
          "data": {
            "text/plain": [
              "dict_keys(['PUBLIC_VERSION', 'JSL_VERSION', 'SECRET', 'SPARK_NLP_LICENSE', 'AWS_ACCESS_KEY_ID', 'AWS_SECRET_ACCESS_KEY', 'SPARK_OCR_LICENSE', 'SPARK_OCR_SECRET'])"
            ]
          },
          "metadata": {
            "tags": []
          },
          "execution_count": 1
        }
      ]
    },
    {
      "cell_type": "code",
      "metadata": {
        "id": "ushTz5fpvy3x",
        "colab_type": "code",
        "colab": {}
      },
      "source": [
        "import os\n",
        "\n",
        "# Install java\n",
        "! apt-get update -qq\n",
        "! apt-get install -y openjdk-8-jdk-headless -qq > /dev/null\n",
        "\n",
        "os.environ[\"JAVA_HOME\"] = \"/usr/lib/jvm/java-8-openjdk-amd64\"\n",
        "os.environ[\"PATH\"] = os.environ[\"JAVA_HOME\"] + \"/bin:\" + os.environ[\"PATH\"]\n",
        "! java -version\n",
        "\n",
        "secret = license_keys['SECRET']\n",
        "\n",
        "os.environ['SPARK_NLP_LICENSE'] = license_keys['SPARK_NLP_LICENSE']\n",
        "os.environ['SPARK_OCR_LICENSE'] = license_keys['SPARK_OCR_LICENSE']\n",
        "os.environ['AWS_ACCESS_KEY_ID']= license_keys['AWS_ACCESS_KEY_ID']\n",
        "os.environ['AWS_SECRET_ACCESS_KEY'] = license_keys['AWS_SECRET_ACCESS_KEY']\n",
        "version = license_keys['PUBLIC_VERSION']\n",
        "jsl_version = license_keys['JSL_VERSION']\n",
        "\n",
        "! pip install --ignore-installed -q pyspark==2.4.4\n",
        "\n",
        "! python -m pip install --upgrade spark-nlp-jsl==$jsl_version  --extra-index-url https://pypi.johnsnowlabs.com/$secret\n",
        "\n",
        "! pip install --ignore-installed -q spark-nlp==$version\n",
        "\n",
        "import sparknlp\n",
        "\n",
        "print (sparknlp.version())\n",
        "\n",
        "import json\n",
        "import os\n",
        "from pyspark.ml import Pipeline\n",
        "from pyspark.sql import SparkSession\n",
        "\n",
        "\n",
        "from sparknlp.annotator import *\n",
        "from sparknlp_jsl.annotator import *\n",
        "from sparknlp.base import *\n",
        "import sparknlp_jsl\n",
        "from pyspark.sql.types import StructType, StructField, StringType\n",
        "import itertools\n",
        "\n",
        "spark = sparknlp_jsl.start(secret)"
      ],
      "execution_count": 3,
      "outputs": []
    },
    {
      "cell_type": "markdown",
      "metadata": {
        "id": "zRigNZ3XBrMV",
        "colab_type": "text"
      },
      "source": [
        "## Load datasets"
      ]
    },
    {
      "cell_type": "code",
      "metadata": {
        "id": "neOur2ZHxm2w",
        "colab_type": "code",
        "colab": {}
      },
      "source": [
        "!wget -q https://raw.githubusercontent.com/JohnSnowLabs/spark-nlp-workshop/master/tutorials/Certification_Trainings/Healthcare/data/AskAPatient.fold-0.test.txt\n",
        "!wget -q https://raw.githubusercontent.com/JohnSnowLabs/spark-nlp-workshop/master/tutorials/Certification_Trainings/Healthcare/data/AskAPatient.fold-0.train.txt\n",
        "!wget -q https://raw.githubusercontent.com/JohnSnowLabs/spark-nlp-workshop/master/tutorials/Certification_Trainings/Healthcare/data/AskAPatient.fold-0.validation.txt"
      ],
      "execution_count": 5,
      "outputs": []
    },
    {
      "cell_type": "code",
      "metadata": {
        "id": "QK1EGRYPwHX1",
        "colab_type": "code",
        "colab": {}
      },
      "source": [
        "import pandas as pd\n",
        "\n",
        "cols = [\"conceptId\",\"_term\",\"term\"]\n",
        "\n",
        "aap_tr = pd.read_csv(\"AskAPatient.fold-0.train.txt\",sep=\"\\t\",encoding=\"ISO-8859-1\",header=None)\n",
        "aap_tr.columns = cols\n",
        "aap_tr[\"conceptId\"] = aap_tr.conceptId.apply(str)\n",
        "\n",
        "aap_ts = pd.read_csv(\"AskAPatient.fold-0.test.txt\",sep=\"\\t\",header=None)\n",
        "aap_ts.columns = cols\n",
        "aap_ts[\"conceptId\"] = aap_ts.conceptId.apply(str)\n",
        "\n",
        "aap_vl = pd.read_csv(\"AskAPatient.fold-0.validation.txt\",sep=\"\\t\",header=None)\n",
        "aap_vl.columns = cols\n",
        "aap_vl[\"conceptId\"] = aap_vl.conceptId.apply(str)"
      ],
      "execution_count": 8,
      "outputs": []
    },
    {
      "cell_type": "code",
      "metadata": {
        "id": "iB_Q2LFkyO1p",
        "colab_type": "code",
        "colab": {
          "base_uri": "https://localhost:8080/",
          "height": 204
        },
        "outputId": "3a7abeca-7803-432e-d0e1-e05dd77e9a80"
      },
      "source": [
        "aap_vl.head()"
      ],
      "execution_count": 10,
      "outputs": [
        {
          "output_type": "execute_result",
          "data": {
            "text/html": [
              "<div>\n",
              "<style scoped>\n",
              "    .dataframe tbody tr th:only-of-type {\n",
              "        vertical-align: middle;\n",
              "    }\n",
              "\n",
              "    .dataframe tbody tr th {\n",
              "        vertical-align: top;\n",
              "    }\n",
              "\n",
              "    .dataframe thead th {\n",
              "        text-align: right;\n",
              "    }\n",
              "</style>\n",
              "<table border=\"1\" class=\"dataframe\">\n",
              "  <thead>\n",
              "    <tr style=\"text-align: right;\">\n",
              "      <th></th>\n",
              "      <th>conceptId</th>\n",
              "      <th>_term</th>\n",
              "      <th>term</th>\n",
              "    </tr>\n",
              "  </thead>\n",
              "  <tbody>\n",
              "    <tr>\n",
              "      <th>0</th>\n",
              "      <td>267032009</td>\n",
              "      <td>Tired all the time</td>\n",
              "      <td>persisten feeling of tiredness</td>\n",
              "    </tr>\n",
              "    <tr>\n",
              "      <th>1</th>\n",
              "      <td>22298006</td>\n",
              "      <td>Myocardial infarction</td>\n",
              "      <td>HEART ATTACK</td>\n",
              "    </tr>\n",
              "    <tr>\n",
              "      <th>2</th>\n",
              "      <td>3877011000036101</td>\n",
              "      <td>Lipitor</td>\n",
              "      <td>LIPITOR</td>\n",
              "    </tr>\n",
              "    <tr>\n",
              "      <th>3</th>\n",
              "      <td>415690000</td>\n",
              "      <td>Sweating</td>\n",
              "      <td>sweated</td>\n",
              "    </tr>\n",
              "    <tr>\n",
              "      <th>4</th>\n",
              "      <td>248491001</td>\n",
              "      <td>Swollen knee</td>\n",
              "      <td>swelling at knee</td>\n",
              "    </tr>\n",
              "  </tbody>\n",
              "</table>\n",
              "</div>"
            ],
            "text/plain": [
              "          conceptId                  _term                            term\n",
              "0         267032009     Tired all the time  persisten feeling of tiredness\n",
              "1          22298006  Myocardial infarction                    HEART ATTACK\n",
              "2  3877011000036101                Lipitor                         LIPITOR\n",
              "3         415690000               Sweating                         sweated\n",
              "4         248491001           Swollen knee                swelling at knee"
            ]
          },
          "metadata": {
            "tags": []
          },
          "execution_count": 10
        }
      ]
    },
    {
      "cell_type": "code",
      "metadata": {
        "id": "E2aBz1rEv5gc",
        "colab_type": "code",
        "colab": {}
      },
      "source": [
        "aap_train_sdf = spark.createDataFrame(aap_tr)\n",
        "aap_test_sdf = spark.createDataFrame(aap_ts)\n",
        "aap_val_sdf = spark.createDataFrame(aap_vl)"
      ],
      "execution_count": 11,
      "outputs": []
    },
    {
      "cell_type": "markdown",
      "metadata": {
        "id": "3Ri8oj06Bt7w",
        "colab_type": "text"
      },
      "source": [
        "## Create Training Pipeline"
      ]
    },
    {
      "cell_type": "code",
      "metadata": {
        "id": "YgqY_kDMyCr8",
        "colab_type": "code",
        "colab": {
          "base_uri": "https://localhost:8080/",
          "height": 68
        },
        "outputId": "2a86dfb3-85b6-4e2b-b825-a985e3a55fa5"
      },
      "source": [
        "\n",
        "document = DocumentAssembler()\\\n",
        "    .setInputCol(\"term\")\\\n",
        "    .setOutputCol(\"document\")\n",
        "\n",
        "chunk = Doc2Chunk()\\\n",
        "    .setInputCols(\"document\")\\\n",
        "    .setOutputCol(\"chunk\")\\\n",
        "\n",
        "token = Tokenizer()\\\n",
        "    .setInputCols(['document'])\\\n",
        "    .setOutputCol('token')\n",
        "\n",
        "embeddings = WordEmbeddingsModel.pretrained(\"embeddings_healthcare_100d\", \"en\", \"clinical/models\")\\\n",
        "      .setInputCols([\"document\", \"token\"])\\\n",
        "      .setOutputCol(\"embeddings\")\n",
        "\n",
        "chunk_emb = ChunkEmbeddings()\\\n",
        "      .setInputCols(\"chunk\", \"embeddings\")\\\n",
        "      .setOutputCol(\"chunk_embeddings\")\n",
        "\n",
        "snomed_training_pipeline = Pipeline(\n",
        "    stages = [\n",
        "    document,\n",
        "    chunk,\n",
        "    token,\n",
        "    embeddings,\n",
        "    chunk_emb])\n",
        "\n",
        "snomed_training_model = snomed_training_pipeline.fit(aap_train_sdf)\n",
        "\n",
        "snomed_data = snomed_training_model.transform(aap_train_sdf).cache()\n"
      ],
      "execution_count": 15,
      "outputs": [
        {
          "output_type": "stream",
          "text": [
            "embeddings_healthcare_100d download started this may take some time.\n",
            "Approximate size to download 475.8 MB\n",
            "[OK!]\n"
          ],
          "name": "stdout"
        }
      ]
    },
    {
      "cell_type": "code",
      "metadata": {
        "id": "EyFi-lxUzJ4-",
        "colab_type": "code",
        "colab": {}
      },
      "source": [
        "snomed_extractor = ChunkEntityResolverApproach() \\\n",
        "    .setInputCols(\"token\", \"chunk_embeddings\") \\\n",
        "    .setOutputCol(\"recognized\") \\\n",
        "    .setNeighbours(1000) \\\n",
        "    .setAlternatives(25) \\\n",
        "    .setNormalizedCol(\"_term\") \\\n",
        "    .setLabelCol(\"conceptId\") \\\n",
        "    .setEnableWmd(True).setEnableTfidf(True).setEnableJaccard(True)\\\n",
        "    .setEnableSorensenDice(True).setEnableJaroWinkler(True).setEnableLevenshtein(True)\\\n",
        "    .setDistanceWeights([1, 2, 2, 1, 1, 1]) \\\n",
        "    .setAllDistancesMetadata(True)\\\n",
        "    .setPoolingStrategy(\"MAX\") \\\n",
        "    .setThreshold(1e32)"
      ],
      "execution_count": 16,
      "outputs": []
    },
    {
      "cell_type": "code",
      "metadata": {
        "id": "BVQq1eeq1Cdb",
        "colab_type": "code",
        "colab": {
          "base_uri": "https://localhost:8080/",
          "height": 51
        },
        "outputId": "156bc948-941f-49e1-d136-e7800a87a8e2"
      },
      "source": [
        "%time model = snomed_extractor.fit(snomed_data)"
      ],
      "execution_count": 17,
      "outputs": [
        {
          "output_type": "stream",
          "text": [
            "CPU times: user 84.8 ms, sys: 20 ms, total: 105 ms\n",
            "Wall time: 25.5 s\n"
          ],
          "name": "stdout"
        }
      ]
    },
    {
      "cell_type": "markdown",
      "metadata": {
        "id": "zGx43tFEByJP",
        "colab_type": "text"
      },
      "source": [
        "## Prediction Pipeline"
      ]
    },
    {
      "cell_type": "code",
      "metadata": {
        "id": "LV4ZJ6Ua1G6P",
        "colab_type": "code",
        "colab": {}
      },
      "source": [
        "prediction_Model = PipelineModel(stages=[snomed_training_model, model])"
      ],
      "execution_count": 18,
      "outputs": []
    },
    {
      "cell_type": "code",
      "metadata": {
        "id": "3p0LglEe1XXX",
        "colab_type": "code",
        "colab": {}
      },
      "source": [
        "aap_train_pred= prediction_Model.transform(aap_train_sdf).cache()\n",
        "aap_test_pred= prediction_Model.transform(aap_test_sdf).cache()\n",
        "aap_val_pred= prediction_Model.transform(aap_val_sdf).cache()"
      ],
      "execution_count": 20,
      "outputs": []
    },
    {
      "cell_type": "code",
      "metadata": {
        "id": "AaWIc2PF7X3l",
        "colab_type": "code",
        "colab": {
          "base_uri": "https://localhost:8080/",
          "height": 459
        },
        "outputId": "a5a7b34c-a4d8-4572-e858-1231119cc15a"
      },
      "source": [
        "PipelineModel(stages=[snomed_training_model, snomed_resolver]).transform(aap_train_sdf).selectExpr(\"conceptId\",\"term\",\"_term\",\"snomed_resolution[0].result\",\"snomed_resolution[0].metadata.resolved_text\",\"snomed_resolution[0].metadata.all_k_resolutions\").show(truncate=50)"
      ],
      "execution_count": 36,
      "outputs": [
        {
          "output_type": "stream",
          "text": [
            "+----------------+------------------------------------+------------------------------------+---------------------------+--------------------------------------------+--------------------------------------------------+\n",
            "|       conceptId|                                term|                               _term|snomed_resolution[0].result|snomed_resolution[0].metadata[resolved_text]|  snomed_resolution[0].metadata[all_k_resolutions]|\n",
            "+----------------+------------------------------------+------------------------------------+---------------------------+--------------------------------------------+--------------------------------------------------+\n",
            "|       108367008|                Dislocation of joint|                Dislocation of joint|                  108367008|                        Dislocation of joint|Dislocation of joint:::Swelling of knee joint::...|\n",
            "|3384011000036100|                           Arthrotec|                           Arthrotec|           3384011000036100|                                   Arthrotec|Arthrotec:::Celebrex 200 mg capsule: hard:::Cel...|\n",
            "|       166717003|             Serum creatinine raised|             Serum creatinine raised|                  166717003|                     Serum creatinine raised|Serum creatinine raised:::Serum triglycerides r...|\n",
            "|3877011000036101|                             Lipitor|                             Lipitor|           3877011000036101|                                     Lipitor|                                           Lipitor|\n",
            "|       402234004|                         Foot eczema|                         Foot eczema|                  402234004|                                 Foot eczema|Foot eczema:::Eczema:::Tinea pedis:::Hand eczem...|\n",
            "|       404640003|                           Dizziness|                           Dizziness|                  404640003|                                   Dizziness|Dizziness:::Headache:::Lightheadedness:::Drowsy...|\n",
            "|       271681002|                        Stomach ache|                        Stomach ache|                  271681002|                                Stomach ache|Stomach ache:::Pain:::Neck pain:::Myalgia:::Bac...|\n",
            "|        76948002|                         Severe pain|                         Severe pain|                   76948002|                                 Severe pain|Severe pain:::Myalgia:::Abdominal pain:::Pain i...|\n",
            "|        36031001|                        Burning feet|                        Burning feet|                   36031001|                                Burning feet|Burning feet:::Burning sensation:::Burning pain...|\n",
            "|        76948002|                         Severe pain|                         Severe pain|                   76948002|                                 Severe pain|Severe pain:::Myalgia:::Abdominal pain:::Pain i...|\n",
            "|        42399005|                       Renal failure|                       Renal failure|                   42399005|                               Renal failure|Renal failure:::Acute renal failure:::Renal imp...|\n",
            "|       288227007|        Myalgia/myositis - upper arm|        Myalgia/myositis - upper arm|                  288227007|                Myalgia/myositis - upper arm|Myalgia/myositis - upper arm:::Myalgia/myositis...|\n",
            "|       419723007|                       Mentally dull|                       Mentally dull|                  419723007|                               Mentally dull|Mentally dull:::Mentally vague:::Mentally alert...|\n",
            "|       248490000|                    Bloating symptom|                    Bloating symptom|                  248490000|                            Bloating symptom|Bloating symptom:::Abdominal bloating:::Tiredne...|\n",
            "|        22253000|                                Pain|                                Pain|                   22253000|                                        Pain|Pain:::Foot pain:::Backache:::Cramping pain:::A...|\n",
            "|       162076009|Excessive upper gastrointestinal gas|Excessive upper gastrointestinal gas|                  162076009|        Excessive upper gastrointestinal gas|Excessive upper gastrointestinal gas:::Abdomina...|\n",
            "|       247592009|              Poor short-term memory|              Poor short-term memory|                  247592009|                      Poor short-term memory|Poor short-term memory:::Memory impairment:::Po...|\n",
            "|        62507009|                    Pins and needles|                    Pins and needles|                   62507009|                            Pins and needles|Pins and needles:::Paraesthesia of foot:::Forge...|\n",
            "|3877011000036101|                             Lipitor|                             Lipitor|           3877011000036101|                                     Lipitor|                                           Lipitor|\n",
            "|        62507009|                    Pins and needles|                    Pins and needles|                   62507009|                            Pins and needles|Pins and needles:::Paraesthesia of foot:::Forge...|\n",
            "+----------------+------------------------------------+------------------------------------+---------------------------+--------------------------------------------+--------------------------------------------------+\n",
            "only showing top 20 rows\n",
            "\n"
          ],
          "name": "stdout"
        }
      ]
    },
    {
      "cell_type": "code",
      "metadata": {
        "id": "t26S1J8k1hLm",
        "colab_type": "code",
        "colab": {}
      },
      "source": [
        "counts = aap_train_pred.selectExpr(\"conceptId\",\"recognized[0].result as result\")\\\n",
        ".selectExpr(\"case when conceptId=result then 1 else 0 end as match\")\\\n",
        ".groupby(\"match\").count().rdd.flatMap(lambda x:x).collect()\n",
        "print(\"Train\")\n",
        "print(counts[1]/(counts[1]+counts[3]))\n",
        "\n",
        "counts = aap_test_pred.selectExpr(\"conceptId\",\"recognized[0].result as result\")\\\n",
        ".selectExpr(\"case when conceptId=result then 1 else 0 end as match\")\\\n",
        ".groupby(\"match\").count().rdd.flatMap(lambda x:x).collect()\n",
        "print(\"Test\")\n",
        "print(counts[1]/(counts[1]+counts[3]))\n",
        "\n",
        "counts = aap_val_pred.selectExpr(\"conceptId\",\"recognized[0].result as result\")\\\n",
        ".selectExpr(\"case when conceptId=result then 1 else 0 end as match\")\\\n",
        ".groupby(\"match\").count().rdd.flatMap(lambda x:x).collect()\n",
        "print(\"Val\")\n",
        "print(counts[1]/(counts[1]+counts[3]))"
      ],
      "execution_count": null,
      "outputs": []
    },
    {
      "cell_type": "code",
      "metadata": {
        "id": "-sF6ixxH1sFe",
        "colab_type": "code",
        "colab": {
          "base_uri": "https://localhost:8080/",
          "height": 459
        },
        "outputId": "3daba5e3-6da9-4618-aeda-33f94eeed434"
      },
      "source": [
        "aap_test_pred.selectExpr(\"conceptId\",\"term\",\"_term\",\"recognized[0].result\",\"recognized[0].metadata.resolved_text\",\"recognized[0].metadata.all_k_resolutions\").show(truncate=50)"
      ],
      "execution_count": 22,
      "outputs": [
        {
          "output_type": "stream",
          "text": [
            "+----------------+--------------------------------+------------------------------------+--------------------+-------------------------------------+--------------------------------------------------+\n",
            "|       conceptId|                            term|                               _term|recognized[0].result|recognized[0].metadata[resolved_text]|         recognized[0].metadata[all_k_resolutions]|\n",
            "+----------------+--------------------------------+------------------------------------+--------------------+-------------------------------------+--------------------------------------------------+\n",
            "|       108367008|                     dislocating|                Dislocation of joint|           304297005| Decreased range of shoulder movement|Decreased range of shoulder movement:::Increase...|\n",
            "|3384011000036100|                       Arthrotec|                           Arthrotec|    3384011000036100|                            Arthrotec|Arthrotec:::Celebrex 200 mg capsule: hard:::Cel...|\n",
            "|       166717003|               elevated creatine|             Serum creatinine raised|           166717003|              Serum creatinine raised|Serum creatinine raised:::Increased creatine ki...|\n",
            "|3877011000036101|                         Lipitor|                             Lipitor|    3877011000036101|                              Lipitor|Lipitor:::Lipitor 20 mg tablet: film-coated:::L...|\n",
            "|       402234004|                  Eczema on feet|                         Foot eczema|           238539001|                          Hand eczema|Hand eczema:::Foot eczema:::Cold feet:::Blister...|\n",
            "|       404640003|                           dizzy|                           Dizziness|           404640003|                            Dizziness|Dizziness:::Lightheadedness:::Nausea:::Syncope:...|\n",
            "|       271681002|   pain in the pit of my stomach|                        Stomach ache|           271681002|                         Stomach ache|Stomach ache:::Abdominal pain:::Myalgia:::Low b...|\n",
            "|        76948002|extreme muscle pain in shoulders|                         Severe pain|            76948002|                          Severe pain|Severe pain:::Myalgia/myositis - shoulder:::Mus...|\n",
            "|        36031001|                    Burning feet|                        Burning feet|            36031001|                         Burning feet|Burning feet:::Burning sensation:::Burning pain...|\n",
            "|        76948002|             imence pain in legs|                         Severe pain|            76948002|                          Severe pain|Severe pain:::Pain in lower limb:::Myalgia/myos...|\n",
            "|        42399005|              kidney malfunction|                       Renal failure|            42399005|                        Renal failure|Renal failure:::Renal injury:::Kidney disease::...|\n",
            "|       288227007|        muscle pain in my biceps|        Myalgia/myositis - upper arm|           281245003|           Musculoskeletal chest pain|Musculoskeletal chest pain:::Severe pain:::Myal...|\n",
            "|       419723007|                       brain fog|                       Mentally dull|           419723007|                        Mentally dull|Mentally dull:::Memory impairment:::Encephalopa...|\n",
            "|       248490000|                        bloating|                    Bloating symptom|           248490000|                     Bloating symptom|Bloating symptom:::Abdominal bloating:::Flatule...|\n",
            "|        22253000|                            pain|                                Pain|            22253000|                                 Pain|Pain:::Foot pain:::Backache:::Severe pain:::Sho...|\n",
            "|       162076009|                             gas|Excessive upper gastrointestinal gas|           162076009| Excessive upper gastrointestinal gas|Excessive upper gastrointestinal gas:::Flatulen...|\n",
            "|       247592009|          Short term memory loss|              Poor short-term memory|           247592009|               Poor short-term memory|Poor short-term memory:::Amnesia:::Memory impai...|\n",
            "|        62507009|             tingling in my feet|                    Pins and needles|           309087008|                 Paraesthesia of foot|Paraesthesia of foot:::Pins and needles:::Cramp...|\n",
            "|3877011000036101|                         LIPITOR|                             Lipitor|    3877011000036101|                              Lipitor|Lipitor:::Lipitor 20 mg tablet: film-coated:::L...|\n",
            "|        62507009|   tingling on left side of face|                    Pins and needles|           309557009|                     Numbness of face|Numbness of face:::Pins and needles:::Numbness:...|\n",
            "+----------------+--------------------------------+------------------------------------+--------------------+-------------------------------------+--------------------------------------------------+\n",
            "only showing top 20 rows\n",
            "\n"
          ],
          "name": "stdout"
        }
      ]
    },
    {
      "cell_type": "markdown",
      "metadata": {
        "id": "SHS-VCjf3exH",
        "colab_type": "text"
      },
      "source": [
        "## Train Using the entire dataset"
      ]
    },
    {
      "cell_type": "code",
      "metadata": {
        "id": "jfmu_0S03AZF",
        "colab_type": "code",
        "colab": {
          "base_uri": "https://localhost:8080/",
          "height": 51
        },
        "outputId": "be865709-1092-40b7-d2cd-3f2a7fdafb05"
      },
      "source": [
        "all_data = aap_train_sdf.union(aap_test_sdf).union(aap_val_sdf)\n",
        "\n",
        "snomed_training_model = snomed_training_pipeline.fit(all_data)\n",
        "\n",
        "snomed_data = snomed_training_model.transform(all_data).cache()\n",
        "\n",
        "%time model = snomed_extractor.fit(snomed_data)"
      ],
      "execution_count": 23,
      "outputs": [
        {
          "output_type": "stream",
          "text": [
            "CPU times: user 85.5 ms, sys: 14.3 ms, total: 99.7 ms\n",
            "Wall time: 14.3 s\n"
          ],
          "name": "stdout"
        }
      ]
    },
    {
      "cell_type": "code",
      "metadata": {
        "id": "YSBVW2333xVA",
        "colab_type": "code",
        "colab": {}
      },
      "source": [
        "model.write().overwrite().save(\"chunkresolve_snomed_askapatient_hc_100d\")"
      ],
      "execution_count": 24,
      "outputs": []
    },
    {
      "cell_type": "markdown",
      "metadata": {
        "id": "ea4pech4B49K",
        "colab_type": "text"
      },
      "source": [
        "## Prediction on random texts"
      ]
    },
    {
      "cell_type": "code",
      "metadata": {
        "id": "MPEbYFvY9BiL",
        "colab_type": "code",
        "colab": {
          "base_uri": "https://localhost:8080/",
          "height": 68
        },
        "outputId": "8590ffeb-8468-4ddd-d553-9d4dff62ed89"
      },
      "source": [
        "# instead of loading a large clinical_ner, we will use the one coming from 100d pretrained_pipeline\n",
        "from sparknlp.pretrained import PretrainedPipeline\n",
        "\n",
        "pp_ner = PretrainedPipeline('explain_clinical_doc_carp', 'en', 'clinical/models')"
      ],
      "execution_count": 44,
      "outputs": [
        {
          "output_type": "stream",
          "text": [
            "explain_clinical_doc_carp download started this may take some time.\n",
            "Approx size to download 526.5 MB\n",
            "[OK!]\n"
          ],
          "name": "stdout"
        }
      ]
    },
    {
      "cell_type": "code",
      "metadata": {
        "id": "5k8KmJ12BXYd",
        "colab_type": "code",
        "colab": {
          "base_uri": "https://localhost:8080/",
          "height": 221
        },
        "outputId": "b2d59a47-a8b4-44d8-9831-a976d4354c9e"
      },
      "source": [
        "pp_ner.model.stages"
      ],
      "execution_count": 68,
      "outputs": [
        {
          "output_type": "execute_result",
          "data": {
            "text/plain": [
              "[DocumentAssembler_8aeb50463a0d,\n",
              " SentenceDetector_635a56ed49ab,\n",
              " REGEX_TOKENIZER_6f0bd3b85024,\n",
              " WORD_EMBEDDINGS_MODEL_a5c1afb0b657,\n",
              " POS_be8d41751649,\n",
              " NerDLModel_706522935b2e,\n",
              " NerConverter_b818c367ba56,\n",
              " dependency_68159e3d6dac,\n",
              " NerDLModel_01b90ff03d9e,\n",
              " NerConverter_335d7d4208fc,\n",
              " RelationExtractionModel_0a71121bf321,\n",
              " ASSERTION_DL_941a00a50db4]"
            ]
          },
          "metadata": {
            "tags": []
          },
          "execution_count": 68
        }
      ]
    },
    {
      "cell_type": "code",
      "metadata": {
        "id": "_s_SMoto9-Rz",
        "colab_type": "code",
        "colab": {}
      },
      "source": [
        "ner_100d = pp_ner.model.stages[-4]"
      ],
      "execution_count": 48,
      "outputs": []
    },
    {
      "cell_type": "code",
      "metadata": {
        "id": "uQJMwYhG4EA4",
        "colab_type": "code",
        "colab": {
          "base_uri": "https://localhost:8080/",
          "height": 68
        },
        "outputId": "678d41b0-dfa0-4921-a733-75bce99f830a"
      },
      "source": [
        "documentAssembler = DocumentAssembler()\\\n",
        "  .setInputCol(\"term\")\\\n",
        "  .setOutputCol(\"document\")\n",
        "\n",
        "# Sentence Detector annotator, processes various sentences per line\n",
        "\n",
        "sentenceDetector = SentenceDetector()\\\n",
        "  .setInputCols([\"document\"])\\\n",
        "  .setOutputCol(\"sentence\")\\\n",
        "  .setCustomBounds([\",\"])\n",
        "\n",
        "# Tokenizer splits words in a relevant format for NLP\n",
        "\n",
        "tokenizer = Tokenizer()\\\n",
        "  .setInputCols([\"sentence\"])\\\n",
        "  .setOutputCol(\"raw_token\")\\\n",
        "\n",
        "stopwords = StopWordsCleaner()\\\n",
        "  .setInputCols([\"raw_token\"])\\\n",
        "  .setOutputCol(\"token\")\n",
        "\n",
        "word_embeddings = WordEmbeddingsModel.pretrained(\"embeddings_healthcare_100d\", \"en\", \"clinical/models\")\\\n",
        "      .setInputCols([\"document\", \"token\"])\\\n",
        "      .setOutputCol(\"embeddings\")\n",
        "\n",
        "ner_100d\\\n",
        "  .setInputCols([\"sentence\", \"token\", \"embeddings\"]) \\\n",
        "  .setOutputCol(\"ner\")\n",
        "\n",
        "snomed_ner_converter = NerConverterInternal() \\\n",
        "  .setInputCols([\"sentence\", \"token\", \"ner\"]) \\\n",
        "  .setOutputCol(\"greedy_chunk\")\\\n",
        "  .setWhiteList(['PROBLEM','TEST'])\n",
        "\n",
        "chunk_embeddings = ChunkEmbeddings()\\\n",
        "  .setInputCols('greedy_chunk', 'embeddings')\\\n",
        "  .setOutputCol('chunk_embeddings')\n",
        "\n",
        "snomed_resolver = \\\n",
        "    ChunkEntityResolverModel.load(\"chunkresolve_snomed_askapatient_hc_100d\")\\\n",
        "    .setInputCols(\"token\",\"chunk_embeddings\").setOutputCol(\"snomed_resolution\")\n",
        "\n",
        "pipeline_snomed = Pipeline(\n",
        "    stages = [\n",
        "    documentAssembler,\n",
        "    sentenceDetector,\n",
        "    tokenizer,\n",
        "    stopwords,\n",
        "    word_embeddings,\n",
        "    ner_100d,\n",
        "    snomed_ner_converter,\n",
        "    chunk_embeddings,\n",
        "    snomed_resolver\n",
        "  ])\n",
        "\n",
        "empty_data = spark.createDataFrame([['']]).toDF(\"term\")\n",
        "\n",
        "model_snomed = pipeline_snomed.fit(empty_data)\n"
      ],
      "execution_count": 50,
      "outputs": [
        {
          "output_type": "stream",
          "text": [
            "embeddings_healthcare_100d download started this may take some time.\n",
            "Approximate size to download 475.8 MB\n",
            "[OK!]\n"
          ],
          "name": "stdout"
        }
      ]
    },
    {
      "cell_type": "code",
      "metadata": {
        "id": "qPkpwyrh6Bqn",
        "colab_type": "code",
        "colab": {}
      },
      "source": [
        "model_snomed_lp = LightPipeline(model_snomed)\n"
      ],
      "execution_count": 51,
      "outputs": []
    },
    {
      "cell_type": "code",
      "metadata": {
        "id": "AhZF03HE6dDg",
        "colab_type": "code",
        "colab": {
          "base_uri": "https://localhost:8080/",
          "height": 34
        },
        "outputId": "bb6d3888-fcfc-4976-fb1f-760599ad70fc"
      },
      "source": [
        "\n",
        "result = model_snomed_lp.annotate('I have a biceps muscle pain and extreme muscle pain in shoulders')\n",
        "\n",
        "list(zip(result['greedy_chunk'],result['snomed_resolution']))"
      ],
      "execution_count": 65,
      "outputs": [
        {
          "output_type": "execute_result",
          "data": {
            "text/plain": [
              "[('biceps muscle pain', '288227007'), ('extreme muscle pain', '76948002')]"
            ]
          },
          "metadata": {
            "tags": []
          },
          "execution_count": 65
        }
      ]
    },
    {
      "cell_type": "code",
      "metadata": {
        "id": "vSx2ThKRA9Iu",
        "colab_type": "code",
        "colab": {
          "base_uri": "https://localhost:8080/",
          "height": 34
        },
        "outputId": "4af92bb4-547e-4972-f9bf-519b1adacb45"
      },
      "source": [
        "\n",
        "result = model_snomed_lp.annotate('I have a flu and a headache')\n",
        "\n",
        "list(zip(result['greedy_chunk'],result['snomed_resolution']))"
      ],
      "execution_count": 66,
      "outputs": [
        {
          "output_type": "execute_result",
          "data": {
            "text/plain": [
              "[('flu and a headache', '6142004')]"
            ]
          },
          "metadata": {
            "tags": []
          },
          "execution_count": 66
        }
      ]
    },
    {
      "cell_type": "code",
      "metadata": {
        "id": "IZ-jfMzD6nR8",
        "colab_type": "code",
        "colab": {
          "base_uri": "https://localhost:8080/",
          "height": 136
        },
        "outputId": "3d524abc-f0a2-4e17-a088-1420b1ab37d5"
      },
      "source": [
        "from pyspark.sql import functions as F\n",
        "\n",
        "snomed_output = model_snomed.transform(spark.createDataFrame([['I have a biceps muscle pain and extreme muscle pain in shoulders']]).toDF(\"term\"))\n",
        "\n",
        "snomed_output.select(F.explode(F.arrays_zip(\"greedy_chunk.result\",\"greedy_chunk.metadata\",\"snomed_resolution.result\",\"snomed_resolution.metadata\")).alias(\"snomed_result\")) \\\n",
        "    .select(F.expr(\"snomed_result['0']\").alias(\"chunk\"),\n",
        "            F.expr(\"snomed_result['1'].entity\").alias(\"entity\"),\n",
        "            F.expr(\"snomed_result['3'].all_k_resolutions\").alias(\"target_text\"),\n",
        "            F.expr(\"snomed_result['2']\").alias(\"code\"),\n",
        "            F.expr(\"snomed_result['3'].confidence\").alias(\"confidence\")).show(truncate = 100)"
      ],
      "execution_count": 64,
      "outputs": [
        {
          "output_type": "stream",
          "text": [
            "+-------------------+-------+----------------------------------------------------------------------------------------------------+---------+----------+\n",
            "|              chunk| entity|                                                                                         target_text|     code|confidence|\n",
            "+-------------------+-------+----------------------------------------------------------------------------------------------------+---------+----------+\n",
            "| biceps muscle pain|PROBLEM|Myalgia/myositis - upper arm:::Myalgia:::Neck pain:::Myalgia/myositis - shoulder:::Backache:::Foo...|288227007|    0.0915|\n",
            "|extreme muscle pain|PROBLEM|Severe pain:::Muscle fatigue:::Muscle weakness:::Myopathy:::Abdominal pain:::Constant pain:::Myal...| 76948002|    0.1527|\n",
            "+-------------------+-------+----------------------------------------------------------------------------------------------------+---------+----------+\n",
            "\n"
          ],
          "name": "stdout"
        }
      ]
    },
    {
      "cell_type": "code",
      "metadata": {
        "id": "FiCT9fFk-8YX",
        "colab_type": "code",
        "colab": {}
      },
      "source": [
        ""
      ],
      "execution_count": null,
      "outputs": []
    }
  ]
}
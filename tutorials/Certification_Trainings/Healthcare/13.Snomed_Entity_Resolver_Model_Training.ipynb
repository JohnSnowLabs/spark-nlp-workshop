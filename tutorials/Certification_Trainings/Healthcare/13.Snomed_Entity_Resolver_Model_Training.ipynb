{
 "cells": [
  {
   "cell_type": "markdown",
   "metadata": {
    "id": "Hwsv9vDmvbr1"
   },
   "source": [
    "![JohnSnowLabs](https://nlp.johnsnowlabs.com/assets/images/logo.png)"
   ]
  },
  {
   "cell_type": "markdown",
   "metadata": {
    "id": "jIs4dsyfvhEi"
   },
   "source": [
    " [![Open In Colab](https://colab.research.google.com/assets/colab-badge.svg)](https://colab.research.google.com/github/JohnSnowLabs/spark-nlp-workshop/blob/master/tutorials/Certification_Trainings/Healthcare/13.Snomed_Entity_Resolver_Model_Training.ipynb)"
   ]
  },
  {
   "cell_type": "markdown",
   "metadata": {
    "id": "N6w49Yx5Bjw5"
   },
   "source": [
    "# 13. Snomed Entity Resolver Model Training"
   ]
  },
  {
   "cell_type": "code",
   "execution_count": 1,
   "metadata": {
    "colab": {
     "base_uri": "https://localhost:8080/",
     "height": 109,
     "resources": {
      "http://localhost:8080/nbextensions/google.colab/files.js": {
       "data": "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",
       "headers": [
        [
         "content-type",
         "application/javascript"
        ]
       ],
       "ok": true,
       "status": 200,
       "status_text": ""
      }
     }
    },
    "id": "U-5twBh3veD2",
    "outputId": "8a4e5949-ee4e-4c72-ad03-30a362c7ec06"
   },
   "outputs": [
    {
     "data": {
      "text/html": [
       "\n",
       "     <input type=\"file\" id=\"files-ad077843-fcb3-47f5-ac56-a6e55d5b33e1\" name=\"files[]\" multiple disabled\n",
       "        style=\"border:none\" />\n",
       "     <output id=\"result-ad077843-fcb3-47f5-ac56-a6e55d5b33e1\">\n",
       "      Upload widget is only available when the cell has been executed in the\n",
       "      current browser session. Please rerun this cell to enable.\n",
       "      </output>\n",
       "      <script src=\"/nbextensions/google.colab/files.js\"></script> "
      ],
      "text/plain": [
       "<IPython.core.display.HTML object>"
      ]
     },
     "metadata": {
      "tags": []
     },
     "output_type": "display_data"
    },
    {
     "name": "stdout",
     "output_type": "stream",
     "text": [
      "Saving license_keys_272.json to license_keys_272.json\n"
     ]
    },
    {
     "data": {
      "text/plain": [
       "dict_keys(['PUBLIC_VERSION', 'JSL_VERSION', 'SECRET', 'SPARK_NLP_LICENSE', 'AWS_ACCESS_KEY_ID', 'AWS_SECRET_ACCESS_KEY', 'SPARK_OCR_LICENSE', 'SPARK_OCR_SECRET'])"
      ]
     },
     "execution_count": 1,
     "metadata": {
      "tags": []
     },
     "output_type": "execute_result"
    }
   ],
   "source": [
    "import json\n",
    "\n",
    "from google.colab import files\n",
    "\n",
    "license_keys = files.upload()\n",
    "\n",
    "with open(list(license_keys.keys())[0]) as f:\n",
    "    license_keys = json.load(f)\n",
    "\n",
    "license_keys.keys()\n"
   ]
  },
  {
   "cell_type": "code",
   "execution_count": null,
   "metadata": {},
   "outputs": [],
   "source": [
    "import os\n",
    "\n",
    "# Install java\n",
    "! apt-get update -qq\n",
    "! apt-get install -y openjdk-8-jdk-headless -qq > /dev/null\n",
    "\n",
    "os.environ[\"JAVA_HOME\"] = \"/usr/lib/jvm/java-8-openjdk-amd64\"\n",
    "os.environ[\"PATH\"] = os.environ[\"JAVA_HOME\"] + \"/bin:\" + os.environ[\"PATH\"]\n",
    "! java -version\n",
    "\n",
    "secret = license_keys['SECRET']\n",
    "\n",
    "os.environ['SPARK_NLP_LICENSE'] = license_keys['SPARK_NLP_LICENSE']\n",
    "os.environ['AWS_ACCESS_KEY_ID']= license_keys['AWS_ACCESS_KEY_ID']\n",
    "os.environ['AWS_SECRET_ACCESS_KEY'] = license_keys['AWS_SECRET_ACCESS_KEY']\n",
    "jsl_version = license_keys['JSL_VERSION']\n",
    "version = license_keys['PUBLIC_VERSION']\n",
    "\n",
    "! pip install --ignore-installed -q pyspark==2.4.4\n",
    "\n",
    "! python -m pip install --upgrade spark-nlp-jsl==$jsl_version  --extra-index-url https://pypi.johnsnowlabs.com/$secret\n",
    "\n",
    "! pip install --ignore-installed -q spark-nlp==$version\n",
    "\n",
    "! pip -q install spark-nlp-display\n",
    "\n",
    "import sparknlp\n",
    "\n",
    "print (sparknlp.version())\n",
    "\n",
    "import json\n",
    "import os\n",
    "from pyspark.ml import Pipeline\n",
    "from pyspark.sql import SparkSession\n",
    "\n",
    "import sparknlp_jsl\n",
    "import sys, os, time\n",
    "from sparknlp.base import *\n",
    "from sparknlp.annotator import *\n",
    "from sparknlp.util import *\n",
    "from sparknlp_jsl.annotator import *\n",
    "\n",
    "from sparknlp.pretrained import ResourceDownloader\n",
    "\n",
    "from pyspark.sql import functions as F\n",
    "from pyspark.ml import Pipeline, PipelineModel\n",
    "\n",
    "# sparknlp_jsl.start(secret, public=version) if you want to start with different version of public sparknlp\n",
    "from pyspark.sql.types import StructType, StructField, StringType\n",
    "\n",
    "params = {\"spark.driver.memory\":\"16G\",\n",
    "\"spark.kryoserializer.buffer.max\":\"2000M\",\n",
    "\"spark.driver.maxResultSize\":\"2000M\"}\n",
    "spark = sparknlp_jsl.start(secret, params=params)"
   ]
  },
  {
   "cell_type": "markdown",
   "metadata": {
    "id": "zRigNZ3XBrMV"
   },
   "source": [
    "## Load datasets"
   ]
  },
  {
   "cell_type": "code",
   "execution_count": 3,
   "metadata": {
    "id": "neOur2ZHxm2w"
   },
   "outputs": [],
   "source": [
    "!wget -q https://raw.githubusercontent.com/JohnSnowLabs/spark-nlp-workshop/master/tutorials/Certification_Trainings/Healthcare/data/AskAPatient.fold-0.test.txt\n",
    "!wget -q https://raw.githubusercontent.com/JohnSnowLabs/spark-nlp-workshop/master/tutorials/Certification_Trainings/Healthcare/data/AskAPatient.fold-0.train.txt\n",
    "!wget -q https://raw.githubusercontent.com/JohnSnowLabs/spark-nlp-workshop/master/tutorials/Certification_Trainings/Healthcare/data/AskAPatient.fold-0.validation.txt"
   ]
  },
  {
   "cell_type": "code",
   "execution_count": 4,
   "metadata": {
    "id": "QK1EGRYPwHX1"
   },
   "outputs": [],
   "source": [
    "import pandas as pd\n",
    "\n",
    "cols = [\"conceptId\",\"_term\",\"term\"]\n",
    "\n",
    "aap_tr = pd.read_csv(\"AskAPatient.fold-0.train.txt\",sep=\"\\t\",encoding=\"ISO-8859-1\",header=None)\n",
    "aap_tr.columns = cols\n",
    "aap_tr[\"conceptId\"] = aap_tr.conceptId.apply(str)\n",
    "\n",
    "aap_ts = pd.read_csv(\"AskAPatient.fold-0.test.txt\",sep=\"\\t\",header=None)\n",
    "aap_ts.columns = cols\n",
    "aap_ts[\"conceptId\"] = aap_ts.conceptId.apply(str)\n",
    "\n",
    "aap_vl = pd.read_csv(\"AskAPatient.fold-0.validation.txt\",sep=\"\\t\",header=None)\n",
    "aap_vl.columns = cols\n",
    "aap_vl[\"conceptId\"] = aap_vl.conceptId.apply(str)"
   ]
  },
  {
   "cell_type": "code",
   "execution_count": 5,
   "metadata": {
    "colab": {
     "base_uri": "https://localhost:8080/",
     "height": 198
    },
    "id": "iB_Q2LFkyO1p",
    "outputId": "cdd2316b-9b8c-42b8-fe80-2a841fd452ab"
   },
   "outputs": [
    {
     "data": {
      "text/html": [
       "<div>\n",
       "<style scoped>\n",
       "    .dataframe tbody tr th:only-of-type {\n",
       "        vertical-align: middle;\n",
       "    }\n",
       "\n",
       "    .dataframe tbody tr th {\n",
       "        vertical-align: top;\n",
       "    }\n",
       "\n",
       "    .dataframe thead th {\n",
       "        text-align: right;\n",
       "    }\n",
       "</style>\n",
       "<table border=\"1\" class=\"dataframe\">\n",
       "  <thead>\n",
       "    <tr style=\"text-align: right;\">\n",
       "      <th></th>\n",
       "      <th>conceptId</th>\n",
       "      <th>_term</th>\n",
       "      <th>term</th>\n",
       "    </tr>\n",
       "  </thead>\n",
       "  <tbody>\n",
       "    <tr>\n",
       "      <th>0</th>\n",
       "      <td>267032009</td>\n",
       "      <td>Tired all the time</td>\n",
       "      <td>persisten feeling of tiredness</td>\n",
       "    </tr>\n",
       "    <tr>\n",
       "      <th>1</th>\n",
       "      <td>22298006</td>\n",
       "      <td>Myocardial infarction</td>\n",
       "      <td>HEART ATTACK</td>\n",
       "    </tr>\n",
       "    <tr>\n",
       "      <th>2</th>\n",
       "      <td>3877011000036101</td>\n",
       "      <td>Lipitor</td>\n",
       "      <td>LIPITOR</td>\n",
       "    </tr>\n",
       "    <tr>\n",
       "      <th>3</th>\n",
       "      <td>415690000</td>\n",
       "      <td>Sweating</td>\n",
       "      <td>sweated</td>\n",
       "    </tr>\n",
       "    <tr>\n",
       "      <th>4</th>\n",
       "      <td>248491001</td>\n",
       "      <td>Swollen knee</td>\n",
       "      <td>swelling at knee</td>\n",
       "    </tr>\n",
       "  </tbody>\n",
       "</table>\n",
       "</div>"
      ],
      "text/plain": [
       "          conceptId                  _term                            term\n",
       "0         267032009     Tired all the time  persisten feeling of tiredness\n",
       "1          22298006  Myocardial infarction                    HEART ATTACK\n",
       "2  3877011000036101                Lipitor                         LIPITOR\n",
       "3         415690000               Sweating                         sweated\n",
       "4         248491001           Swollen knee                swelling at knee"
      ]
     },
     "execution_count": 5,
     "metadata": {
      "tags": []
     },
     "output_type": "execute_result"
    }
   ],
   "source": [
    "aap_vl.head()"
   ]
  },
  {
   "cell_type": "code",
   "execution_count": 6,
   "metadata": {
    "id": "E2aBz1rEv5gc"
   },
   "outputs": [],
   "source": [
    "aap_train_sdf = spark.createDataFrame(aap_tr)\n",
    "aap_test_sdf = spark.createDataFrame(aap_ts)\n",
    "aap_val_sdf = spark.createDataFrame(aap_vl)"
   ]
  },
  {
   "cell_type": "markdown",
   "metadata": {
    "id": "rpGiObPHXqiN"
   },
   "source": [
    "# Chunk Entity Resolver (Glove Embeddings)"
   ]
  },
  {
   "cell_type": "markdown",
   "metadata": {
    "id": "3Ri8oj06Bt7w"
   },
   "source": [
    "## Create Training Pipeline"
   ]
  },
  {
   "cell_type": "code",
   "execution_count": 7,
   "metadata": {
    "colab": {
     "base_uri": "https://localhost:8080/"
    },
    "id": "YgqY_kDMyCr8",
    "outputId": "b5457a99-a43d-4d4f-a722-588d32e3c569"
   },
   "outputs": [
    {
     "name": "stdout",
     "output_type": "stream",
     "text": [
      "embeddings_healthcare_100d download started this may take some time.\n",
      "Approximate size to download 475.8 MB\n",
      "[OK!]\n"
     ]
    }
   ],
   "source": [
    "\n",
    "document = DocumentAssembler()\\\n",
    "    .setInputCol(\"term\")\\\n",
    "    .setOutputCol(\"document\")\n",
    "\n",
    "chunk = Doc2Chunk()\\\n",
    "    .setInputCols(\"document\")\\\n",
    "    .setOutputCol(\"chunk\")\\\n",
    "\n",
    "token = Tokenizer()\\\n",
    "    .setInputCols(['document'])\\\n",
    "    .setOutputCol('token')\n",
    "\n",
    "embeddings = WordEmbeddingsModel.pretrained(\"embeddings_healthcare_100d\", \"en\", \"clinical/models\")\\\n",
    "      .setInputCols([\"document\", \"token\"])\\\n",
    "      .setOutputCol(\"embeddings\")\n",
    "\n",
    "chunk_emb = ChunkEmbeddings()\\\n",
    "      .setInputCols(\"chunk\", \"embeddings\")\\\n",
    "      .setOutputCol(\"chunk_embeddings\")\n",
    "\n",
    "snomed_training_pipeline = Pipeline(\n",
    "    stages = [\n",
    "    document,\n",
    "    chunk,\n",
    "    token,\n",
    "    embeddings,\n",
    "    chunk_emb])\n",
    "\n",
    "snomed_training_model = snomed_training_pipeline.fit(aap_train_sdf)\n",
    "\n",
    "snomed_data = snomed_training_model.transform(aap_train_sdf).cache()\n"
   ]
  },
  {
   "cell_type": "code",
   "execution_count": 8,
   "metadata": {
    "id": "EyFi-lxUzJ4-"
   },
   "outputs": [],
   "source": [
    "snomed_extractor = ChunkEntityResolverApproach() \\\n",
    "    .setInputCols(\"token\", \"chunk_embeddings\") \\\n",
    "    .setOutputCol(\"recognized\") \\\n",
    "    .setNeighbours(1000) \\\n",
    "    .setAlternatives(25) \\\n",
    "    .setNormalizedCol(\"_term\") \\\n",
    "    .setLabelCol(\"conceptId\") \\\n",
    "    .setEnableWmd(True).setEnableTfidf(True).setEnableJaccard(True)\\\n",
    "    .setEnableSorensenDice(True).setEnableJaroWinkler(True).setEnableLevenshtein(True)\\\n",
    "    .setDistanceWeights([1, 2, 2, 1, 1, 1]) \\\n",
    "    .setAllDistancesMetadata(True)\\\n",
    "    .setPoolingStrategy(\"MAX\") \\\n",
    "    .setThreshold(1e32)"
   ]
  },
  {
   "cell_type": "code",
   "execution_count": 9,
   "metadata": {
    "colab": {
     "base_uri": "https://localhost:8080/"
    },
    "id": "BVQq1eeq1Cdb",
    "outputId": "52f7131d-40a4-4242-bfe7-4f4894670077"
   },
   "outputs": [
    {
     "name": "stdout",
     "output_type": "stream",
     "text": [
      "CPU times: user 85 ms, sys: 19.1 ms, total: 104 ms\n",
      "Wall time: 25.7 s\n"
     ]
    }
   ],
   "source": [
    "%time model = snomed_extractor.fit(snomed_data)"
   ]
  },
  {
   "cell_type": "markdown",
   "metadata": {
    "id": "zGx43tFEByJP"
   },
   "source": [
    "## Prediction Pipeline"
   ]
  },
  {
   "cell_type": "code",
   "execution_count": 10,
   "metadata": {
    "id": "LV4ZJ6Ua1G6P"
   },
   "outputs": [],
   "source": [
    "prediction_Model = PipelineModel(stages=[snomed_training_model, model])"
   ]
  },
  {
   "cell_type": "code",
   "execution_count": 11,
   "metadata": {
    "id": "3p0LglEe1XXX"
   },
   "outputs": [],
   "source": [
    "\n",
    "aap_train_pred= prediction_Model.transform(aap_train_sdf).cache()\n",
    "aap_test_pred= prediction_Model.transform(aap_test_sdf).cache()\n",
    "aap_val_pred= prediction_Model.transform(aap_val_sdf).cache()"
   ]
  },
  {
   "cell_type": "code",
   "execution_count": 12,
   "metadata": {
    "colab": {
     "base_uri": "https://localhost:8080/"
    },
    "id": "AaWIc2PF7X3l",
    "outputId": "9b14e736-a38d-491b-b6d5-061e3514c08f"
   },
   "outputs": [
    {
     "name": "stdout",
     "output_type": "stream",
     "text": [
      "+----------------+--------------------------------+------------------------------------+--------------------+-------------------------------------+--------------------------------------------------+\n",
      "|       conceptId|                            term|                               _term|recognized[0].result|recognized[0].metadata[resolved_text]|         recognized[0].metadata[all_k_resolutions]|\n",
      "+----------------+--------------------------------+------------------------------------+--------------------+-------------------------------------+--------------------------------------------------+\n",
      "|       108367008|                     dislocating|                Dislocation of joint|           304297005| Decreased range of shoulder movement|Decreased range of shoulder movement:::Increase...|\n",
      "|3384011000036100|                       Arthrotec|                           Arthrotec|    3384011000036100|                            Arthrotec|Arthrotec:::Celebrex 200 mg capsule: hard:::Cel...|\n",
      "|       166717003|               elevated creatine|             Serum creatinine raised|           166717003|              Serum creatinine raised|Serum creatinine raised:::Increased creatine ki...|\n",
      "|3877011000036101|                         Lipitor|                             Lipitor|    3877011000036101|                              Lipitor|Lipitor:::Lipitor 20 mg tablet: film-coated:::L...|\n",
      "|       402234004|                  Eczema on feet|                         Foot eczema|           238539001|                          Hand eczema|Hand eczema:::Foot eczema:::Cold feet:::Blister...|\n",
      "|       404640003|                           dizzy|                           Dizziness|           404640003|                            Dizziness|Dizziness:::Lightheadedness:::Nausea:::Syncope:...|\n",
      "|       271681002|   pain in the pit of my stomach|                        Stomach ache|           271681002|                         Stomach ache|Stomach ache:::Abdominal pain:::Myalgia:::Low b...|\n",
      "|        76948002|extreme muscle pain in shoulders|                         Severe pain|            76948002|                          Severe pain|Severe pain:::Myalgia/myositis - shoulder:::Mus...|\n",
      "|        36031001|                    Burning feet|                        Burning feet|            36031001|                         Burning feet|Burning feet:::Burning sensation:::Burning pain...|\n",
      "|        76948002|             imence pain in legs|                         Severe pain|            76948002|                          Severe pain|Severe pain:::Pain in lower limb:::Myalgia/myos...|\n",
      "|        42399005|              kidney malfunction|                       Renal failure|            42399005|                        Renal failure|Renal failure:::Renal injury:::Kidney disease::...|\n",
      "|       288227007|        muscle pain in my biceps|        Myalgia/myositis - upper arm|           281245003|           Musculoskeletal chest pain|Musculoskeletal chest pain:::Severe pain:::Myal...|\n",
      "|       419723007|                       brain fog|                       Mentally dull|           419723007|                        Mentally dull|Mentally dull:::Memory impairment:::Encephalopa...|\n",
      "|       248490000|                        bloating|                    Bloating symptom|           248490000|                     Bloating symptom|Bloating symptom:::Abdominal bloating:::Flatule...|\n",
      "|        22253000|                            pain|                                Pain|            22253000|                                 Pain|Pain:::Foot pain:::Backache:::Severe pain:::Sho...|\n",
      "|       162076009|                             gas|Excessive upper gastrointestinal gas|           162076009| Excessive upper gastrointestinal gas|Excessive upper gastrointestinal gas:::Flatulen...|\n",
      "|       247592009|          Short term memory loss|              Poor short-term memory|           247592009|               Poor short-term memory|Poor short-term memory:::Amnesia:::Memory impai...|\n",
      "|        62507009|             tingling in my feet|                    Pins and needles|           309087008|                 Paraesthesia of foot|Paraesthesia of foot:::Pins and needles:::Cramp...|\n",
      "|3877011000036101|                         LIPITOR|                             Lipitor|    3877011000036101|                              Lipitor|Lipitor:::Lipitor 20 mg tablet: film-coated:::L...|\n",
      "|        62507009|   tingling on left side of face|                    Pins and needles|           309557009|                     Numbness of face|Numbness of face:::Pins and needles:::Numbness:...|\n",
      "+----------------+--------------------------------+------------------------------------+--------------------+-------------------------------------+--------------------------------------------------+\n",
      "only showing top 20 rows\n",
      "\n"
     ]
    }
   ],
   "source": [
    "aap_test_pred.selectExpr(\"conceptId\",\"term\",\"_term\",\"recognized[0].result\",\"recognized[0].metadata.resolved_text\",\"recognized[0].metadata.all_k_resolutions\").show(truncate=50)"
   ]
  },
  {
   "cell_type": "code",
   "execution_count": 13,
   "metadata": {
    "colab": {
     "base_uri": "https://localhost:8080/"
    },
    "id": "-sF6ixxH1sFe",
    "outputId": "d76cb092-0f79-441a-f663-ca6af32774ff"
   },
   "outputs": [
    {
     "name": "stdout",
     "output_type": "stream",
     "text": [
      "+----------------+--------------------------------+------------------------------------+--------------------+-------------------------------------+--------------------------------------------------+\n",
      "|       conceptId|                            term|                               _term|recognized[0].result|recognized[0].metadata[resolved_text]|         recognized[0].metadata[all_k_resolutions]|\n",
      "+----------------+--------------------------------+------------------------------------+--------------------+-------------------------------------+--------------------------------------------------+\n",
      "|       108367008|                     dislocating|                Dislocation of joint|           304297005| Decreased range of shoulder movement|Decreased range of shoulder movement:::Increase...|\n",
      "|3384011000036100|                       Arthrotec|                           Arthrotec|    3384011000036100|                            Arthrotec|Arthrotec:::Celebrex 200 mg capsule: hard:::Cel...|\n",
      "|       166717003|               elevated creatine|             Serum creatinine raised|           166717003|              Serum creatinine raised|Serum creatinine raised:::Increased creatine ki...|\n",
      "|3877011000036101|                         Lipitor|                             Lipitor|    3877011000036101|                              Lipitor|Lipitor:::Lipitor 20 mg tablet: film-coated:::L...|\n",
      "|       402234004|                  Eczema on feet|                         Foot eczema|           238539001|                          Hand eczema|Hand eczema:::Foot eczema:::Cold feet:::Blister...|\n",
      "|       404640003|                           dizzy|                           Dizziness|           404640003|                            Dizziness|Dizziness:::Lightheadedness:::Nausea:::Syncope:...|\n",
      "|       271681002|   pain in the pit of my stomach|                        Stomach ache|           271681002|                         Stomach ache|Stomach ache:::Abdominal pain:::Myalgia:::Low b...|\n",
      "|        76948002|extreme muscle pain in shoulders|                         Severe pain|            76948002|                          Severe pain|Severe pain:::Myalgia/myositis - shoulder:::Mus...|\n",
      "|        36031001|                    Burning feet|                        Burning feet|            36031001|                         Burning feet|Burning feet:::Burning sensation:::Burning pain...|\n",
      "|        76948002|             imence pain in legs|                         Severe pain|            76948002|                          Severe pain|Severe pain:::Pain in lower limb:::Myalgia/myos...|\n",
      "|        42399005|              kidney malfunction|                       Renal failure|            42399005|                        Renal failure|Renal failure:::Renal injury:::Kidney disease::...|\n",
      "|       288227007|        muscle pain in my biceps|        Myalgia/myositis - upper arm|           281245003|           Musculoskeletal chest pain|Musculoskeletal chest pain:::Severe pain:::Myal...|\n",
      "|       419723007|                       brain fog|                       Mentally dull|           419723007|                        Mentally dull|Mentally dull:::Memory impairment:::Encephalopa...|\n",
      "|       248490000|                        bloating|                    Bloating symptom|           248490000|                     Bloating symptom|Bloating symptom:::Abdominal bloating:::Flatule...|\n",
      "|        22253000|                            pain|                                Pain|            22253000|                                 Pain|Pain:::Foot pain:::Backache:::Severe pain:::Sho...|\n",
      "|       162076009|                             gas|Excessive upper gastrointestinal gas|           162076009| Excessive upper gastrointestinal gas|Excessive upper gastrointestinal gas:::Flatulen...|\n",
      "|       247592009|          Short term memory loss|              Poor short-term memory|           247592009|               Poor short-term memory|Poor short-term memory:::Amnesia:::Memory impai...|\n",
      "|        62507009|             tingling in my feet|                    Pins and needles|           309087008|                 Paraesthesia of foot|Paraesthesia of foot:::Pins and needles:::Cramp...|\n",
      "|3877011000036101|                         LIPITOR|                             Lipitor|    3877011000036101|                              Lipitor|Lipitor:::Lipitor 20 mg tablet: film-coated:::L...|\n",
      "|        62507009|   tingling on left side of face|                    Pins and needles|           309557009|                     Numbness of face|Numbness of face:::Pins and needles:::Numbness:...|\n",
      "+----------------+--------------------------------+------------------------------------+--------------------+-------------------------------------+--------------------------------------------------+\n",
      "only showing top 20 rows\n",
      "\n"
     ]
    }
   ],
   "source": [
    "aap_test_pred.selectExpr(\"conceptId\",\"term\",\"_term\",\"recognized[0].result\",\"recognized[0].metadata.resolved_text\",\"recognized[0].metadata.all_k_resolutions\").show(truncate=50)"
   ]
  },
  {
   "cell_type": "markdown",
   "metadata": {
    "id": "SHS-VCjf3exH"
   },
   "source": [
    "## Train Using the entire dataset"
   ]
  },
  {
   "cell_type": "code",
   "execution_count": 14,
   "metadata": {
    "colab": {
     "base_uri": "https://localhost:8080/"
    },
    "id": "jfmu_0S03AZF",
    "outputId": "ef66158b-8f23-4d3f-c929-6985cc74dade"
   },
   "outputs": [
    {
     "name": "stdout",
     "output_type": "stream",
     "text": [
      "CPU times: user 81.5 ms, sys: 23.3 ms, total: 105 ms\n",
      "Wall time: 16.8 s\n"
     ]
    }
   ],
   "source": [
    "all_data = aap_train_sdf.union(aap_test_sdf).union(aap_val_sdf)\n",
    "\n",
    "snomed_training_model = snomed_training_pipeline.fit(all_data)\n",
    "\n",
    "snomed_data = snomed_training_model.transform(all_data).cache()\n",
    "\n",
    "%time model = snomed_extractor.fit(snomed_data)"
   ]
  },
  {
   "cell_type": "code",
   "execution_count": 15,
   "metadata": {
    "id": "YSBVW2333xVA"
   },
   "outputs": [],
   "source": [
    "model.write().overwrite().save(\"chunkresolve_snomed_askapatient_hc_100d\")"
   ]
  },
  {
   "cell_type": "markdown",
   "metadata": {
    "id": "ea4pech4B49K"
   },
   "source": [
    "## Prediction on random texts"
   ]
  },
  {
   "cell_type": "code",
   "execution_count": 16,
   "metadata": {
    "colab": {
     "base_uri": "https://localhost:8080/"
    },
    "id": "MPEbYFvY9BiL",
    "outputId": "119e54d1-a248-4399-d599-e97eb21903d9"
   },
   "outputs": [
    {
     "name": "stdout",
     "output_type": "stream",
     "text": [
      "explain_clinical_doc_carp download started this may take some time.\n",
      "Approx size to download 526.5 MB\n",
      "[OK!]\n"
     ]
    }
   ],
   "source": [
    "# instead of loading a large clinical_ner, we will use the one coming from 100d pretrained_pipeline\n",
    "from sparknlp.pretrained import PretrainedPipeline\n",
    "\n",
    "pp_ner = PretrainedPipeline('explain_clinical_doc_carp', 'en', 'clinical/models')"
   ]
  },
  {
   "cell_type": "code",
   "execution_count": 17,
   "metadata": {
    "colab": {
     "base_uri": "https://localhost:8080/"
    },
    "id": "5k8KmJ12BXYd",
    "outputId": "19837a63-89f8-41da-f806-b7d69d5389f6"
   },
   "outputs": [
    {
     "data": {
      "text/plain": [
       "[DocumentAssembler_8aeb50463a0d,\n",
       " SentenceDetector_635a56ed49ab,\n",
       " REGEX_TOKENIZER_6f0bd3b85024,\n",
       " WORD_EMBEDDINGS_MODEL_a5c1afb0b657,\n",
       " POS_be8d41751649,\n",
       " NerDLModel_706522935b2e,\n",
       " NerConverter_b818c367ba56,\n",
       " dependency_68159e3d6dac,\n",
       " NerDLModel_01b90ff03d9e,\n",
       " NerConverter_335d7d4208fc,\n",
       " RelationExtractionModel_0a71121bf321,\n",
       " ASSERTION_DL_941a00a50db4]"
      ]
     },
     "execution_count": 17,
     "metadata": {
      "tags": []
     },
     "output_type": "execute_result"
    }
   ],
   "source": [
    "pp_ner.model.stages"
   ]
  },
  {
   "cell_type": "code",
   "execution_count": 18,
   "metadata": {
    "id": "_s_SMoto9-Rz"
   },
   "outputs": [],
   "source": [
    "ner_100d = pp_ner.model.stages[-4]"
   ]
  },
  {
   "cell_type": "code",
   "execution_count": 19,
   "metadata": {
    "colab": {
     "base_uri": "https://localhost:8080/"
    },
    "id": "uQJMwYhG4EA4",
    "outputId": "604d3b9c-4eb3-44d8-9699-38caa2af1c1f"
   },
   "outputs": [
    {
     "name": "stdout",
     "output_type": "stream",
     "text": [
      "embeddings_healthcare_100d download started this may take some time.\n",
      "Approximate size to download 475.8 MB\n",
      "[OK!]\n"
     ]
    }
   ],
   "source": [
    "documentAssembler = DocumentAssembler()\\\n",
    "  .setInputCol(\"term\")\\\n",
    "  .setOutputCol(\"document\")\n",
    "\n",
    "# Sentence Detector annotator, processes various sentences per line\n",
    "\n",
    "sentenceDetector = SentenceDetector()\\\n",
    "  .setInputCols([\"document\"])\\\n",
    "  .setOutputCol(\"sentence\")\\\n",
    "  .setCustomBounds([\",\"])\n",
    "\n",
    "# Tokenizer splits words in a relevant format for NLP\n",
    "\n",
    "tokenizer = Tokenizer()\\\n",
    "  .setInputCols([\"sentence\"])\\\n",
    "  .setOutputCol(\"raw_token\")\\\n",
    "\n",
    "stopwords = StopWordsCleaner()\\\n",
    "  .setInputCols([\"raw_token\"])\\\n",
    "  .setOutputCol(\"token\")\n",
    "\n",
    "word_embeddings = WordEmbeddingsModel.pretrained(\"embeddings_healthcare_100d\", \"en\", \"clinical/models\")\\\n",
    "      .setInputCols([\"document\", \"token\"])\\\n",
    "      .setOutputCol(\"embeddings\")\n",
    "\n",
    "ner_100d\\\n",
    "  .setInputCols([\"sentence\", \"token\", \"embeddings\"]) \\\n",
    "  .setOutputCol(\"ner\")\n",
    "\n",
    "snomed_ner_converter = NerConverterInternal() \\\n",
    "  .setInputCols([\"sentence\", \"token\", \"ner\"]) \\\n",
    "  .setOutputCol(\"greedy_chunk\")\\\n",
    "  .setWhiteList(['PROBLEM','TEST'])\n",
    "\n",
    "chunk_embeddings = ChunkEmbeddings()\\\n",
    "  .setInputCols('greedy_chunk', 'embeddings')\\\n",
    "  .setOutputCol('chunk_embeddings')\n",
    "\n",
    "snomed_resolver = \\\n",
    "    ChunkEntityResolverModel.load(\"chunkresolve_snomed_askapatient_hc_100d\")\\\n",
    "    .setInputCols(\"token\",\"chunk_embeddings\").setOutputCol(\"snomed_resolution\")\n",
    "\n",
    "pipeline_snomed = Pipeline(\n",
    "    stages = [\n",
    "    documentAssembler,\n",
    "    sentenceDetector,\n",
    "    tokenizer,\n",
    "    stopwords,\n",
    "    word_embeddings,\n",
    "    ner_100d,\n",
    "    snomed_ner_converter,\n",
    "    chunk_embeddings,\n",
    "    snomed_resolver\n",
    "  ])\n",
    "\n",
    "empty_data = spark.createDataFrame([['']]).toDF(\"term\")\n",
    "\n",
    "model_snomed = pipeline_snomed.fit(empty_data)\n"
   ]
  },
  {
   "cell_type": "code",
   "execution_count": 20,
   "metadata": {
    "id": "qPkpwyrh6Bqn"
   },
   "outputs": [],
   "source": [
    "model_snomed_lp = LightPipeline(model_snomed)\n"
   ]
  },
  {
   "cell_type": "code",
   "execution_count": 21,
   "metadata": {
    "colab": {
     "base_uri": "https://localhost:8080/"
    },
    "id": "AhZF03HE6dDg",
    "outputId": "de0849a3-5b72-465a-e0ab-92f5c191ef07"
   },
   "outputs": [
    {
     "data": {
      "text/plain": [
       "[('biceps muscle pain', '288227007'), ('extreme muscle pain', '76948002')]"
      ]
     },
     "execution_count": 21,
     "metadata": {
      "tags": []
     },
     "output_type": "execute_result"
    }
   ],
   "source": [
    "\n",
    "result = model_snomed_lp.annotate('I have a biceps muscle pain and extreme muscle pain in shoulders')\n",
    "\n",
    "list(zip(result['greedy_chunk'],result['snomed_resolution']))"
   ]
  },
  {
   "cell_type": "code",
   "execution_count": 22,
   "metadata": {
    "colab": {
     "base_uri": "https://localhost:8080/"
    },
    "id": "vSx2ThKRA9Iu",
    "outputId": "6a068218-caa7-4df1-f552-1908a8b8e347"
   },
   "outputs": [
    {
     "data": {
      "text/plain": [
       "[('flu and a headache', '6142004')]"
      ]
     },
     "execution_count": 22,
     "metadata": {
      "tags": []
     },
     "output_type": "execute_result"
    }
   ],
   "source": [
    "\n",
    "result = model_snomed_lp.annotate('I have a flu and a headache')\n",
    "\n",
    "list(zip(result['greedy_chunk'],result['snomed_resolution']))"
   ]
  },
  {
   "cell_type": "code",
   "execution_count": 23,
   "metadata": {
    "colab": {
     "base_uri": "https://localhost:8080/"
    },
    "id": "IZ-jfMzD6nR8",
    "outputId": "075683b7-23ff-4d9c-d14c-fee9fb335e47"
   },
   "outputs": [
    {
     "name": "stdout",
     "output_type": "stream",
     "text": [
      "+-------------------+-------+----------------------------------------------------------------------------------------------------+---------+----------+\n",
      "|              chunk| entity|                                                                                         target_text|     code|confidence|\n",
      "+-------------------+-------+----------------------------------------------------------------------------------------------------+---------+----------+\n",
      "| biceps muscle pain|PROBLEM|Myalgia/myositis - upper arm:::Myalgia:::Neck pain:::Myalgia/myositis - shoulder:::Backache:::Foo...|288227007|    0.0915|\n",
      "|extreme muscle pain|PROBLEM|Severe pain:::Muscle fatigue:::Muscle weakness:::Myopathy:::Abdominal pain:::Constant pain:::Myal...| 76948002|    0.1527|\n",
      "+-------------------+-------+----------------------------------------------------------------------------------------------------+---------+----------+\n",
      "\n"
     ]
    }
   ],
   "source": [
    "from pyspark.sql import functions as F\n",
    "\n",
    "snomed_output = model_snomed.transform(spark.createDataFrame([['I have a biceps muscle pain and extreme muscle pain in shoulders']]).toDF(\"term\"))\n",
    "\n",
    "snomed_output.select(F.explode(F.arrays_zip(\"greedy_chunk.result\",\"greedy_chunk.metadata\",\"snomed_resolution.result\",\"snomed_resolution.metadata\")).alias(\"snomed_result\")) \\\n",
    "    .select(F.expr(\"snomed_result['0']\").alias(\"chunk\"),\n",
    "            F.expr(\"snomed_result['1'].entity\").alias(\"entity\"),\n",
    "            F.expr(\"snomed_result['3'].all_k_resolutions\").alias(\"target_text\"),\n",
    "            F.expr(\"snomed_result['2']\").alias(\"code\"),\n",
    "            F.expr(\"snomed_result['3'].confidence\").alias(\"confidence\")).show(truncate = 100)"
   ]
  },
  {
   "cell_type": "code",
   "execution_count": null,
   "metadata": {
    "id": "FiCT9fFk-8YX"
   },
   "outputs": [],
   "source": []
  },
  {
   "cell_type": "markdown",
   "metadata": {
    "id": "BE5WoycOXx0O"
   },
   "source": [
    "# Sentence Entity Resolver (BioBert sentence embeddings) (after v2.7)"
   ]
  },
  {
   "cell_type": "code",
   "execution_count": 24,
   "metadata": {
    "colab": {
     "base_uri": "https://localhost:8080/"
    },
    "id": "2Xy1Xpt1YfyV",
    "outputId": "f66cb353-716e-48a7-acca-d75d52d86962"
   },
   "outputs": [
    {
     "name": "stdout",
     "output_type": "stream",
     "text": [
      "+----------------+--------------------+--------------------+\n",
      "|       conceptId|               _term|                term|\n",
      "+----------------+--------------------+--------------------+\n",
      "|       108367008|Dislocation of joint|Dislocation of joint|\n",
      "|3384011000036100|           Arthrotec|           Arthrotec|\n",
      "|       166717003|Serum creatinine ...|Serum creatinine ...|\n",
      "|3877011000036101|             Lipitor|             Lipitor|\n",
      "|       402234004|         Foot eczema|         Foot eczema|\n",
      "|       404640003|           Dizziness|           Dizziness|\n",
      "|       271681002|        Stomach ache|        Stomach ache|\n",
      "|        76948002|         Severe pain|         Severe pain|\n",
      "|        36031001|        Burning feet|        Burning feet|\n",
      "|        76948002|         Severe pain|         Severe pain|\n",
      "|        42399005|       Renal failure|       Renal failure|\n",
      "|       288227007|Myalgia/myositis ...|Myalgia/myositis ...|\n",
      "|       419723007|       Mentally dull|       Mentally dull|\n",
      "|       248490000|    Bloating symptom|    Bloating symptom|\n",
      "|        22253000|                Pain|                Pain|\n",
      "|       162076009|Excessive upper g...|Excessive upper g...|\n",
      "|       247592009|Poor short-term m...|Poor short-term m...|\n",
      "|        62507009|    Pins and needles|    Pins and needles|\n",
      "|3877011000036101|             Lipitor|             Lipitor|\n",
      "|        62507009|    Pins and needles|    Pins and needles|\n",
      "+----------------+--------------------+--------------------+\n",
      "only showing top 20 rows\n",
      "\n"
     ]
    }
   ],
   "source": [
    "aap_train_sdf.show()"
   ]
  },
  {
   "cell_type": "code",
   "execution_count": 25,
   "metadata": {
    "colab": {
     "base_uri": "https://localhost:8080/"
    },
    "id": "BywAIMq2ZjmJ",
    "outputId": "4fc88d8e-8b14-4677-b217-7409de577415"
   },
   "outputs": [
    {
     "name": "stdout",
     "output_type": "stream",
     "text": [
      "root\n",
      " |-- conceptId: string (nullable = true)\n",
      " |-- _term: string (nullable = true)\n",
      " |-- term: string (nullable = true)\n",
      "\n"
     ]
    }
   ],
   "source": [
    "aap_train_sdf.printSchema()"
   ]
  },
  {
   "cell_type": "code",
   "execution_count": 26,
   "metadata": {
    "colab": {
     "base_uri": "https://localhost:8080/"
    },
    "id": "77HxAFzLX4zm",
    "outputId": "1c9fdabb-f8ea-4ed9-b0a4-43f34d2f5f50"
   },
   "outputs": [
    {
     "name": "stdout",
     "output_type": "stream",
     "text": [
      "sent_biobert_pubmed_base_cased download started this may take some time.\n",
      "Approximate size to download 386.4 MB\n",
      "[OK!]\n"
     ]
    }
   ],
   "source": [
    "\n",
    "documentAssembler = DocumentAssembler()\\\n",
    "  .setInputCol(\"_term\")\\\n",
    "  .setOutputCol(\"sentence\")\n",
    "\n",
    "bert_embeddings = BertSentenceEmbeddings.pretrained(\"sent_biobert_pubmed_base_cased\")\\\n",
    "  .setInputCols([\"sentence\"])\\\n",
    "  .setOutputCol(\"bert_embeddings\")\n",
    "\n",
    "snomed_training_pipeline = Pipeline(\n",
    "    stages = [\n",
    "    documentAssembler,\n",
    "    bert_embeddings])\n",
    "\n",
    "snomed_training_model = snomed_training_pipeline.fit(aap_train_sdf)\n",
    "\n",
    "snomed_data = snomed_training_model.transform(aap_train_sdf)\n"
   ]
  },
  {
   "cell_type": "code",
   "execution_count": 27,
   "metadata": {
    "colab": {
     "base_uri": "https://localhost:8080/"
    },
    "id": "eTF2AmJFYpcZ",
    "outputId": "d62b18b7-2967-4fdc-e508-b749ccb0d9d3"
   },
   "outputs": [
    {
     "name": "stdout",
     "output_type": "stream",
     "text": [
      "CPU times: user 499 ms, sys: 99.8 ms, total: 599 ms\n",
      "Wall time: 1h 8min 22s\n"
     ]
    }
   ],
   "source": [
    "bertExtractor = SentenceEntityResolverApproach()\\\n",
    "  .setNeighbours(25)\\\n",
    "  .setThreshold(1000)\\\n",
    "  .setInputCols(\"bert_embeddings\")\\\n",
    "  .setNormalizedCol(\"_term\")\\\n",
    "  .setLabelCol(\"conceptId\")\\\n",
    "  .setOutputCol('snomed_code')\\\n",
    "  .setDistanceFunction(\"EUCLIDIAN\")\\\n",
    "  .setCaseSensitive(False)\n",
    "\n",
    "%time snomed_model = bertExtractor.fit(snomed_data)"
   ]
  },
  {
   "cell_type": "code",
   "execution_count": 28,
   "metadata": {
    "id": "v6d-ZuYk4mVs"
   },
   "outputs": [],
   "source": [
    "# save if you will need that later\n",
    "snomed_model.write().overwrite().save(\"biobertresolve_snomed_askapatient\")"
   ]
  },
  {
   "cell_type": "code",
   "execution_count": 29,
   "metadata": {
    "id": "tUvjpB8YZlz2"
   },
   "outputs": [],
   "source": [
    "prediction_Model = PipelineModel(stages=[snomed_training_model, snomed_model])\n",
    "\n",
    "aap_train_pred= prediction_Model.transform(aap_train_sdf).cache()\n",
    "aap_test_pred= prediction_Model.transform(aap_test_sdf).cache()\n",
    "aap_val_pred= prediction_Model.transform(aap_val_sdf).cache()"
   ]
  },
  {
   "cell_type": "code",
   "execution_count": 30,
   "metadata": {
    "colab": {
     "base_uri": "https://localhost:8080/"
    },
    "id": "zK02FvVNZvsr",
    "outputId": "6234efe6-6c06-47cf-9098-0ffb2694d25b"
   },
   "outputs": [
    {
     "name": "stdout",
     "output_type": "stream",
     "text": [
      "+----------------+--------------------------------+------------------------------------+---------------------+--------------------------------------+--------------------------------------------------+\n",
      "|       conceptId|                            term|                               _term|snomed_code[0].result|snomed_code[0].metadata[resolved_text]|        snomed_code[0].metadata[all_k_resolutions]|\n",
      "+----------------+--------------------------------+------------------------------------+---------------------+--------------------------------------+--------------------------------------------------+\n",
      "|       108367008|                     dislocating|                Dislocation of joint|            108367008|                  Dislocation of joint|Dislocation of joint:::Disorder of joint of sho...|\n",
      "|3384011000036100|                       Arthrotec|                           Arthrotec|     3384011000036100|                             Arthrotec|                                         Arthrotec|\n",
      "|       166717003|               elevated creatine|             Serum creatinine raised|            166717003|               Serum creatinine raised|Serum creatinine raised:::Serum cholesterol raised|\n",
      "|3877011000036101|                         Lipitor|                             Lipitor|     3877011000036101|                               Lipitor|                                           Lipitor|\n",
      "|       402234004|                  Eczema on feet|                         Foot eczema|            402234004|                           Foot eczema|Foot eczema:::Hand eczema:::Eczema:::Blistering...|\n",
      "|       404640003|                           dizzy|                           Dizziness|            404640003|                             Dizziness|                                         Dizziness|\n",
      "|       271681002|   pain in the pit of my stomach|                        Stomach ache|            271681002|                          Stomach ache|                                      Stomach ache|\n",
      "|        76948002|extreme muscle pain in shoulders|                         Severe pain|             76948002|                           Severe pain|                                       Severe pain|\n",
      "|        36031001|                    Burning feet|                        Burning feet|             36031001|                          Burning feet|Burning feet:::Cold feet:::Cold hands:::Burning...|\n",
      "|        76948002|             imence pain in legs|                         Severe pain|             76948002|                           Severe pain|                                       Severe pain|\n",
      "|        42399005|              kidney malfunction|                       Renal failure|             42399005|                         Renal failure|Renal failure:::Renal injury:::Renal impairment...|\n",
      "|       288227007|        muscle pain in my biceps|        Myalgia/myositis - upper arm|            288227007|          Myalgia/myositis - upper arm|Myalgia/myositis - upper arm:::Myalgia/myositis...|\n",
      "|       419723007|                       brain fog|                       Mentally dull|            419723007|                         Mentally dull|                                     Mentally dull|\n",
      "|       248490000|                        bloating|                    Bloating symptom|            248490000|                      Bloating symptom|                                  Bloating symptom|\n",
      "|        22253000|                            pain|                                Pain|             22253000|                                  Pain|                                              Pain|\n",
      "|       162076009|                             gas|Excessive upper gastrointestinal gas|            162076009|  Excessive upper gastrointestinal gas|              Excessive upper gastrointestinal gas|\n",
      "|       247592009|          Short term memory loss|              Poor short-term memory|            247592009|                Poor short-term memory|                            Poor short-term memory|\n",
      "|        62507009|             tingling in my feet|                    Pins and needles|             62507009|                      Pins and needles|                                  Pins and needles|\n",
      "|3877011000036101|                         LIPITOR|                             Lipitor|     3877011000036101|                               Lipitor|                                           Lipitor|\n",
      "|        62507009|   tingling on left side of face|                    Pins and needles|             62507009|                      Pins and needles|                                  Pins and needles|\n",
      "+----------------+--------------------------------+------------------------------------+---------------------+--------------------------------------+--------------------------------------------------+\n",
      "only showing top 20 rows\n",
      "\n"
     ]
    }
   ],
   "source": [
    "aap_test_pred.selectExpr(\"conceptId\",\"term\",\"_term\",\"snomed_code[0].result\",\"snomed_code[0].metadata.resolved_text\",\"snomed_code[0].metadata.all_k_resolutions\").show(truncate=50)"
   ]
  },
  {
   "cell_type": "code",
   "execution_count": 31,
   "metadata": {
    "colab": {
     "base_uri": "https://localhost:8080/"
    },
    "id": "43VFVLaM3ify",
    "outputId": "c4b590e6-9dd2-44d3-b38e-72e322adb9cd"
   },
   "outputs": [
    {
     "name": "stdout",
     "output_type": "stream",
     "text": [
      "+----------------+------------------------------+---------------------+---------------------+--------------------------------------+--------------------------------------------------+\n",
      "|       conceptId|                          term|                _term|snomed_code[0].result|snomed_code[0].metadata[resolved_text]|        snomed_code[0].metadata[all_k_resolutions]|\n",
      "+----------------+------------------------------+---------------------+---------------------+--------------------------------------+--------------------------------------------------+\n",
      "|       267032009|persisten feeling of tiredness|   Tired all the time|            267032009|                    Tired all the time|          Tired all the time:::Tightness in throat|\n",
      "|        22298006|                  HEART ATTACK|Myocardial infarction|             22298006|                 Myocardial infarction|                             Myocardial infarction|\n",
      "|3877011000036101|                       LIPITOR|              Lipitor|     3877011000036101|                               Lipitor|                                           Lipitor|\n",
      "|       415690000|                       sweated|             Sweating|            415690000|                              Sweating|            Sweating:::Sweating problem:::Swelling|\n",
      "|       248491001|              swelling at knee|         Swollen knee|            248491001|                          Swollen knee|Swollen knee:::Swollen ankle:::Swollen feet:::S...|\n",
      "|       248490000|                      bloating|     Bloating symptom|            248490000|                      Bloating symptom|                                  Bloating symptom|\n",
      "|       162059005|                 stomach upset|        Upset stomach|            162059005|                         Upset stomach|                                     Upset stomach|\n",
      "|3877011000036101|                       Lipitor|              Lipitor|     3877011000036101|                               Lipitor|                                           Lipitor|\n",
      "|        62507009|                      tingling|     Pins and needles|             62507009|                      Pins and needles|                                  Pins and needles|\n",
      "|       238131007|                   over weight|           Overweight|            238131007|                            Overweight|                          Overweight:::Weight gain|\n",
      "|        73595000|                        stress|               Stress|             73595000|                                Stress|               Stress:::Stress overload:::Swelling|\n",
      "|3877011000036101|                       lipitor|              Lipitor|     3877011000036101|                               Lipitor|                                           Lipitor|\n",
      "|3877011000036101|                       Lipitor|              Lipitor|     3877011000036101|                               Lipitor|                                           Lipitor|\n",
      "|        22253000|                          hurt|                 Pain|             22253000|                                  Pain|                                              Pain|\n",
      "|        73211009|                      diabetes|    Diabetes mellitus|             73211009|                     Diabetes mellitus|                                 Diabetes mellitus|\n",
      "|        10601006|                     sore legs|   Pain in lower limb|             10601006|                    Pain in lower limb|                                Pain in lower limb|\n",
      "|        75694006|       acute pancreatic attack|         Pancreatitis|             75694006|                          Pancreatitis|Pancreatitis:::Peritonitis:::Acute gastritis:::...|\n",
      "|        51197009|     SEVERE abdominal cramping|       Stomach cramps|             51197009|                        Stomach cramps|                                    Stomach cramps|\n",
      "|         3723001|                     arthrites|            Arthritis|              3723001|                             Arthritis|                                         Arthritis|\n",
      "|       271767006|        skin began to come off|      Peeling of skin|            271767006|                       Peeling of skin|Peeling of skin:::Discolouration of skin:::Abra...|\n",
      "+----------------+------------------------------+---------------------+---------------------+--------------------------------------+--------------------------------------------------+\n",
      "only showing top 20 rows\n",
      "\n"
     ]
    }
   ],
   "source": [
    "aap_val_pred.selectExpr(\"conceptId\",\"term\",\"_term\",\"snomed_code[0].result\",\"snomed_code[0].metadata.resolved_text\",\"snomed_code[0].metadata.all_k_resolutions\").show(truncate=50)"
   ]
  }
 ],
 "metadata": {
  "colab": {
   "name": "13.Snomed_Entity_Resolver_Model_Training.ipynb",
   "provenance": [],
   "toc_visible": true
  },
  "kernelspec": {
   "display_name": "Python 3",
   "language": "python",
   "name": "python3"
  },
  "language_info": {
   "codemirror_mode": {
    "name": "ipython",
    "version": 3
   },
   "file_extension": ".py",
   "mimetype": "text/x-python",
   "name": "python",
   "nbconvert_exporter": "python",
   "pygments_lexer": "ipython3",
   "version": "3.7.6"
  }
 },
 "nbformat": 4,
 "nbformat_minor": 4
}

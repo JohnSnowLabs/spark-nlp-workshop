{
 "cells": [
  {
   "cell_type": "markdown",
   "metadata": {
    "colab_type": "text",
    "id": "Hwsv9vDmvbr1"
   },
   "source": [
    "![JohnSnowLabs](https://nlp.johnsnowlabs.com/assets/images/logo.png)"
   ]
  },
  {
   "cell_type": "markdown",
   "metadata": {
    "colab_type": "text",
    "id": "jIs4dsyfvhEi"
   },
   "source": [
    " [![Open In Colab](https://colab.research.google.com/assets/colab-badge.svg)](https://colab.research.google.com/github/JohnSnowLabs/spark-nlp-workshop/blob/master/tutorials/Certification_Trainings/Healthcare/13.Snomed_Entity_Resolver_Model_Training.ipynb)"
   ]
  },
  {
   "cell_type": "markdown",
   "metadata": {
    "colab_type": "text",
    "id": "N6w49Yx5Bjw5"
   },
   "source": [
    "# Snomed Entity Resolver Model Training"
   ]
  },
  {
   "cell_type": "code",
   "execution_count": 1,
   "metadata": {
    "colab": {
     "base_uri": "https://localhost:8080/",
     "height": 34
    },
    "colab_type": "code",
    "id": "U-5twBh3veD2",
    "outputId": "3594e085-87fd-4347-9fb7-5f66b47fb340"
   },
   "outputs": [
    {
     "data": {
      "text/plain": [
       "dict_keys(['PUBLIC_VERSION', 'JSL_VERSION', 'SECRET', 'SPARK_NLP_LICENSE', 'AWS_ACCESS_KEY_ID', 'AWS_SECRET_ACCESS_KEY', 'SPARK_OCR_LICENSE', 'SPARK_OCR_SECRET'])"
      ]
     },
     "execution_count": 1,
     "metadata": {
      "tags": []
     },
     "output_type": "execute_result"
    }
   ],
   "source": [
    "import json\n",
    "\n",
    "with open('workshop_license_keys_365.json') as f:\n",
    "    license_keys = json.load(f)\n",
    "\n",
    "license_keys.keys()\n"
   ]
  },
  {
   "cell_type": "code",
   "execution_count": 3,
   "metadata": {
    "colab": {},
    "colab_type": "code",
    "id": "ushTz5fpvy3x"
   },
   "outputs": [],
   "source": [
    "import os\n",
    "\n",
    "# Install java\n",
    "! apt-get update -qq\n",
    "! apt-get install -y openjdk-8-jdk-headless -qq > /dev/null\n",
    "\n",
    "os.environ[\"JAVA_HOME\"] = \"/usr/lib/jvm/java-8-openjdk-amd64\"\n",
    "os.environ[\"PATH\"] = os.environ[\"JAVA_HOME\"] + \"/bin:\" + os.environ[\"PATH\"]\n",
    "! java -version\n",
    "\n",
    "secret = license_keys['SECRET']\n",
    "\n",
    "os.environ['SPARK_NLP_LICENSE'] = license_keys['SPARK_NLP_LICENSE']\n",
    "os.environ['AWS_ACCESS_KEY_ID']= license_keys['AWS_ACCESS_KEY_ID']\n",
    "os.environ['AWS_SECRET_ACCESS_KEY'] = license_keys['AWS_SECRET_ACCESS_KEY']\n",
    "version = license_keys['PUBLIC_VERSION']\n",
    "jsl_version = license_keys['JSL_VERSION']\n",
    "\n",
    "! pip install --ignore-installed -q pyspark==2.4.4\n",
    "\n",
    "! python -m pip install --upgrade spark-nlp-jsl==$jsl_version  --extra-index-url https://pypi.johnsnowlabs.com/$secret\n",
    "\n",
    "! pip install --ignore-installed -q spark-nlp==$version\n",
    "\n",
    "import sparknlp\n",
    "\n",
    "print (sparknlp.version())\n",
    "\n",
    "import json\n",
    "import os\n",
    "from pyspark.ml import Pipeline\n",
    "from pyspark.sql import SparkSession\n",
    "\n",
    "\n",
    "from sparknlp.annotator import *\n",
    "from sparknlp_jsl.annotator import *\n",
    "from sparknlp.base import *\n",
    "import sparknlp_jsl\n",
    "from pyspark.sql.types import StructType, StructField, StringType\n",
    "import itertools\n",
    "\n",
    "spark = sparknlp_jsl.start(secret)"
   ]
  },
  {
   "cell_type": "markdown",
   "metadata": {
    "colab_type": "text",
    "id": "zRigNZ3XBrMV"
   },
   "source": [
    "## Load datasets"
   ]
  },
  {
   "cell_type": "code",
   "execution_count": 5,
   "metadata": {
    "colab": {},
    "colab_type": "code",
    "id": "neOur2ZHxm2w"
   },
   "outputs": [],
   "source": [
    "!wget -q https://raw.githubusercontent.com/JohnSnowLabs/spark-nlp-workshop/master/tutorials/Certification_Trainings/Healthcare/data/AskAPatient.fold-0.test.txt\n",
    "!wget -q https://raw.githubusercontent.com/JohnSnowLabs/spark-nlp-workshop/master/tutorials/Certification_Trainings/Healthcare/data/AskAPatient.fold-0.train.txt\n",
    "!wget -q https://raw.githubusercontent.com/JohnSnowLabs/spark-nlp-workshop/master/tutorials/Certification_Trainings/Healthcare/data/AskAPatient.fold-0.validation.txt"
   ]
  },
  {
   "cell_type": "code",
   "execution_count": 8,
   "metadata": {
    "colab": {},
    "colab_type": "code",
    "id": "QK1EGRYPwHX1"
   },
   "outputs": [],
   "source": [
    "import pandas as pd\n",
    "\n",
    "cols = [\"conceptId\",\"_term\",\"term\"]\n",
    "\n",
    "aap_tr = pd.read_csv(\"AskAPatient.fold-0.train.txt\",sep=\"\\t\",encoding=\"ISO-8859-1\",header=None)\n",
    "aap_tr.columns = cols\n",
    "aap_tr[\"conceptId\"] = aap_tr.conceptId.apply(str)\n",
    "\n",
    "aap_ts = pd.read_csv(\"AskAPatient.fold-0.test.txt\",sep=\"\\t\",header=None)\n",
    "aap_ts.columns = cols\n",
    "aap_ts[\"conceptId\"] = aap_ts.conceptId.apply(str)\n",
    "\n",
    "aap_vl = pd.read_csv(\"AskAPatient.fold-0.validation.txt\",sep=\"\\t\",header=None)\n",
    "aap_vl.columns = cols\n",
    "aap_vl[\"conceptId\"] = aap_vl.conceptId.apply(str)"
   ]
  },
  {
   "cell_type": "code",
   "execution_count": 10,
   "metadata": {
    "colab": {
     "base_uri": "https://localhost:8080/",
     "height": 204
    },
    "colab_type": "code",
    "id": "iB_Q2LFkyO1p",
    "outputId": "3a7abeca-7803-432e-d0e1-e05dd77e9a80"
   },
   "outputs": [
    {
     "data": {
      "text/html": [
       "<div>\n",
       "<style scoped>\n",
       "    .dataframe tbody tr th:only-of-type {\n",
       "        vertical-align: middle;\n",
       "    }\n",
       "\n",
       "    .dataframe tbody tr th {\n",
       "        vertical-align: top;\n",
       "    }\n",
       "\n",
       "    .dataframe thead th {\n",
       "        text-align: right;\n",
       "    }\n",
       "</style>\n",
       "<table border=\"1\" class=\"dataframe\">\n",
       "  <thead>\n",
       "    <tr style=\"text-align: right;\">\n",
       "      <th></th>\n",
       "      <th>conceptId</th>\n",
       "      <th>_term</th>\n",
       "      <th>term</th>\n",
       "    </tr>\n",
       "  </thead>\n",
       "  <tbody>\n",
       "    <tr>\n",
       "      <th>0</th>\n",
       "      <td>267032009</td>\n",
       "      <td>Tired all the time</td>\n",
       "      <td>persisten feeling of tiredness</td>\n",
       "    </tr>\n",
       "    <tr>\n",
       "      <th>1</th>\n",
       "      <td>22298006</td>\n",
       "      <td>Myocardial infarction</td>\n",
       "      <td>HEART ATTACK</td>\n",
       "    </tr>\n",
       "    <tr>\n",
       "      <th>2</th>\n",
       "      <td>3877011000036101</td>\n",
       "      <td>Lipitor</td>\n",
       "      <td>LIPITOR</td>\n",
       "    </tr>\n",
       "    <tr>\n",
       "      <th>3</th>\n",
       "      <td>415690000</td>\n",
       "      <td>Sweating</td>\n",
       "      <td>sweated</td>\n",
       "    </tr>\n",
       "    <tr>\n",
       "      <th>4</th>\n",
       "      <td>248491001</td>\n",
       "      <td>Swollen knee</td>\n",
       "      <td>swelling at knee</td>\n",
       "    </tr>\n",
       "  </tbody>\n",
       "</table>\n",
       "</div>"
      ],
      "text/plain": [
       "          conceptId                  _term                            term\n",
       "0         267032009     Tired all the time  persisten feeling of tiredness\n",
       "1          22298006  Myocardial infarction                    HEART ATTACK\n",
       "2  3877011000036101                Lipitor                         LIPITOR\n",
       "3         415690000               Sweating                         sweated\n",
       "4         248491001           Swollen knee                swelling at knee"
      ]
     },
     "execution_count": 10,
     "metadata": {
      "tags": []
     },
     "output_type": "execute_result"
    }
   ],
   "source": [
    "aap_vl.head()"
   ]
  },
  {
   "cell_type": "code",
   "execution_count": 11,
   "metadata": {
    "colab": {},
    "colab_type": "code",
    "id": "E2aBz1rEv5gc"
   },
   "outputs": [],
   "source": [
    "aap_train_sdf = spark.createDataFrame(aap_tr)\n",
    "aap_test_sdf = spark.createDataFrame(aap_ts)\n",
    "aap_val_sdf = spark.createDataFrame(aap_vl)"
   ]
  },
  {
   "cell_type": "markdown",
   "metadata": {
    "colab_type": "text",
    "id": "3Ri8oj06Bt7w"
   },
   "source": [
    "## Create Training Pipeline"
   ]
  },
  {
   "cell_type": "code",
   "execution_count": 15,
   "metadata": {
    "colab": {
     "base_uri": "https://localhost:8080/",
     "height": 68
    },
    "colab_type": "code",
    "id": "YgqY_kDMyCr8",
    "outputId": "2a86dfb3-85b6-4e2b-b825-a985e3a55fa5"
   },
   "outputs": [
    {
     "name": "stdout",
     "output_type": "stream",
     "text": [
      "embeddings_healthcare_100d download started this may take some time.\n",
      "Approximate size to download 475.8 MB\n",
      "[OK!]\n"
     ]
    }
   ],
   "source": [
    "\n",
    "document = DocumentAssembler()\\\n",
    "    .setInputCol(\"term\")\\\n",
    "    .setOutputCol(\"document\")\n",
    "\n",
    "chunk = Doc2Chunk()\\\n",
    "    .setInputCols(\"document\")\\\n",
    "    .setOutputCol(\"chunk\")\\\n",
    "\n",
    "token = Tokenizer()\\\n",
    "    .setInputCols(['document'])\\\n",
    "    .setOutputCol('token')\n",
    "\n",
    "embeddings = WordEmbeddingsModel.pretrained(\"embeddings_healthcare_100d\", \"en\", \"clinical/models\")\\\n",
    "      .setInputCols([\"document\", \"token\"])\\\n",
    "      .setOutputCol(\"embeddings\")\n",
    "\n",
    "chunk_emb = ChunkEmbeddings()\\\n",
    "      .setInputCols(\"chunk\", \"embeddings\")\\\n",
    "      .setOutputCol(\"chunk_embeddings\")\n",
    "\n",
    "snomed_training_pipeline = Pipeline(\n",
    "    stages = [\n",
    "    document,\n",
    "    chunk,\n",
    "    token,\n",
    "    embeddings,\n",
    "    chunk_emb])\n",
    "\n",
    "snomed_training_model = snomed_training_pipeline.fit(aap_train_sdf)\n",
    "\n",
    "snomed_data = snomed_training_model.transform(aap_train_sdf).cache()\n"
   ]
  },
  {
   "cell_type": "code",
   "execution_count": 16,
   "metadata": {
    "colab": {},
    "colab_type": "code",
    "id": "EyFi-lxUzJ4-"
   },
   "outputs": [],
   "source": [
    "snomed_extractor = ChunkEntityResolverApproach() \\\n",
    "    .setInputCols(\"token\", \"chunk_embeddings\") \\\n",
    "    .setOutputCol(\"recognized\") \\\n",
    "    .setNeighbours(1000) \\\n",
    "    .setAlternatives(25) \\\n",
    "    .setNormalizedCol(\"_term\") \\\n",
    "    .setLabelCol(\"conceptId\") \\\n",
    "    .setEnableWmd(True).setEnableTfidf(True).setEnableJaccard(True)\\\n",
    "    .setEnableSorensenDice(True).setEnableJaroWinkler(True).setEnableLevenshtein(True)\\\n",
    "    .setDistanceWeights([1, 2, 2, 1, 1, 1]) \\\n",
    "    .setAllDistancesMetadata(True)\\\n",
    "    .setPoolingStrategy(\"MAX\") \\\n",
    "    .setThreshold(1e32)"
   ]
  },
  {
   "cell_type": "code",
   "execution_count": 17,
   "metadata": {
    "colab": {
     "base_uri": "https://localhost:8080/",
     "height": 51
    },
    "colab_type": "code",
    "id": "BVQq1eeq1Cdb",
    "outputId": "156bc948-941f-49e1-d136-e7800a87a8e2"
   },
   "outputs": [
    {
     "name": "stdout",
     "output_type": "stream",
     "text": [
      "CPU times: user 84.8 ms, sys: 20 ms, total: 105 ms\n",
      "Wall time: 25.5 s\n"
     ]
    }
   ],
   "source": [
    "%time model = snomed_extractor.fit(snomed_data)"
   ]
  },
  {
   "cell_type": "markdown",
   "metadata": {
    "colab_type": "text",
    "id": "zGx43tFEByJP"
   },
   "source": [
    "## Prediction Pipeline"
   ]
  },
  {
   "cell_type": "code",
   "execution_count": 18,
   "metadata": {
    "colab": {},
    "colab_type": "code",
    "id": "LV4ZJ6Ua1G6P"
   },
   "outputs": [],
   "source": [
    "prediction_Model = PipelineModel(stages=[snomed_training_model, model])"
   ]
  },
  {
   "cell_type": "code",
   "execution_count": 20,
   "metadata": {
    "colab": {},
    "colab_type": "code",
    "id": "3p0LglEe1XXX"
   },
   "outputs": [],
   "source": [
    "aap_train_pred= prediction_Model.transform(aap_train_sdf).cache()\n",
    "aap_test_pred= prediction_Model.transform(aap_test_sdf).cache()\n",
    "aap_val_pred= prediction_Model.transform(aap_val_sdf).cache()"
   ]
  },
  {
   "cell_type": "code",
   "execution_count": 36,
   "metadata": {
    "colab": {
     "base_uri": "https://localhost:8080/",
     "height": 459
    },
    "colab_type": "code",
    "id": "AaWIc2PF7X3l",
    "outputId": "a5a7b34c-a4d8-4572-e858-1231119cc15a"
   },
   "outputs": [
    {
     "name": "stdout",
     "output_type": "stream",
     "text": [
      "+----------------+------------------------------------+------------------------------------+---------------------------+--------------------------------------------+--------------------------------------------------+\n",
      "|       conceptId|                                term|                               _term|snomed_resolution[0].result|snomed_resolution[0].metadata[resolved_text]|  snomed_resolution[0].metadata[all_k_resolutions]|\n",
      "+----------------+------------------------------------+------------------------------------+---------------------------+--------------------------------------------+--------------------------------------------------+\n",
      "|       108367008|                Dislocation of joint|                Dislocation of joint|                  108367008|                        Dislocation of joint|Dislocation of joint:::Swelling of knee joint::...|\n",
      "|3384011000036100|                           Arthrotec|                           Arthrotec|           3384011000036100|                                   Arthrotec|Arthrotec:::Celebrex 200 mg capsule: hard:::Cel...|\n",
      "|       166717003|             Serum creatinine raised|             Serum creatinine raised|                  166717003|                     Serum creatinine raised|Serum creatinine raised:::Serum triglycerides r...|\n",
      "|3877011000036101|                             Lipitor|                             Lipitor|           3877011000036101|                                     Lipitor|                                           Lipitor|\n",
      "|       402234004|                         Foot eczema|                         Foot eczema|                  402234004|                                 Foot eczema|Foot eczema:::Eczema:::Tinea pedis:::Hand eczem...|\n",
      "|       404640003|                           Dizziness|                           Dizziness|                  404640003|                                   Dizziness|Dizziness:::Headache:::Lightheadedness:::Drowsy...|\n",
      "|       271681002|                        Stomach ache|                        Stomach ache|                  271681002|                                Stomach ache|Stomach ache:::Pain:::Neck pain:::Myalgia:::Bac...|\n",
      "|        76948002|                         Severe pain|                         Severe pain|                   76948002|                                 Severe pain|Severe pain:::Myalgia:::Abdominal pain:::Pain i...|\n",
      "|        36031001|                        Burning feet|                        Burning feet|                   36031001|                                Burning feet|Burning feet:::Burning sensation:::Burning pain...|\n",
      "|        76948002|                         Severe pain|                         Severe pain|                   76948002|                                 Severe pain|Severe pain:::Myalgia:::Abdominal pain:::Pain i...|\n",
      "|        42399005|                       Renal failure|                       Renal failure|                   42399005|                               Renal failure|Renal failure:::Acute renal failure:::Renal imp...|\n",
      "|       288227007|        Myalgia/myositis - upper arm|        Myalgia/myositis - upper arm|                  288227007|                Myalgia/myositis - upper arm|Myalgia/myositis - upper arm:::Myalgia/myositis...|\n",
      "|       419723007|                       Mentally dull|                       Mentally dull|                  419723007|                               Mentally dull|Mentally dull:::Mentally vague:::Mentally alert...|\n",
      "|       248490000|                    Bloating symptom|                    Bloating symptom|                  248490000|                            Bloating symptom|Bloating symptom:::Abdominal bloating:::Tiredne...|\n",
      "|        22253000|                                Pain|                                Pain|                   22253000|                                        Pain|Pain:::Foot pain:::Backache:::Cramping pain:::A...|\n",
      "|       162076009|Excessive upper gastrointestinal gas|Excessive upper gastrointestinal gas|                  162076009|        Excessive upper gastrointestinal gas|Excessive upper gastrointestinal gas:::Abdomina...|\n",
      "|       247592009|              Poor short-term memory|              Poor short-term memory|                  247592009|                      Poor short-term memory|Poor short-term memory:::Memory impairment:::Po...|\n",
      "|        62507009|                    Pins and needles|                    Pins and needles|                   62507009|                            Pins and needles|Pins and needles:::Paraesthesia of foot:::Forge...|\n",
      "|3877011000036101|                             Lipitor|                             Lipitor|           3877011000036101|                                     Lipitor|                                           Lipitor|\n",
      "|        62507009|                    Pins and needles|                    Pins and needles|                   62507009|                            Pins and needles|Pins and needles:::Paraesthesia of foot:::Forge...|\n",
      "+----------------+------------------------------------+------------------------------------+---------------------------+--------------------------------------------+--------------------------------------------------+\n",
      "only showing top 20 rows\n",
      "\n"
     ]
    }
   ],
   "source": [
    "PipelineModel(stages=[snomed_training_model, snomed_resolver]).transform(aap_train_sdf).selectExpr(\"conceptId\",\"term\",\"_term\",\"snomed_resolution[0].result\",\"snomed_resolution[0].metadata.resolved_text\",\"snomed_resolution[0].metadata.all_k_resolutions\").show(truncate=50)"
   ]
  },
  {
   "cell_type": "code",
   "execution_count": null,
   "metadata": {
    "colab": {},
    "colab_type": "code",
    "id": "t26S1J8k1hLm"
   },
   "outputs": [],
   "source": [
    "counts = aap_train_pred.selectExpr(\"conceptId\",\"recognized[0].result as result\")\\\n",
    ".selectExpr(\"case when conceptId=result then 1 else 0 end as match\")\\\n",
    ".groupby(\"match\").count().rdd.flatMap(lambda x:x).collect()\n",
    "print(\"Train\")\n",
    "print(counts[1]/(counts[1]+counts[3]))\n",
    "\n",
    "counts = aap_test_pred.selectExpr(\"conceptId\",\"recognized[0].result as result\")\\\n",
    ".selectExpr(\"case when conceptId=result then 1 else 0 end as match\")\\\n",
    ".groupby(\"match\").count().rdd.flatMap(lambda x:x).collect()\n",
    "print(\"Test\")\n",
    "print(counts[1]/(counts[1]+counts[3]))\n",
    "\n",
    "counts = aap_val_pred.selectExpr(\"conceptId\",\"recognized[0].result as result\")\\\n",
    ".selectExpr(\"case when conceptId=result then 1 else 0 end as match\")\\\n",
    ".groupby(\"match\").count().rdd.flatMap(lambda x:x).collect()\n",
    "print(\"Val\")\n",
    "print(counts[1]/(counts[1]+counts[3]))"
   ]
  },
  {
   "cell_type": "code",
   "execution_count": 22,
   "metadata": {
    "colab": {
     "base_uri": "https://localhost:8080/",
     "height": 459
    },
    "colab_type": "code",
    "id": "-sF6ixxH1sFe",
    "outputId": "3daba5e3-6da9-4618-aeda-33f94eeed434"
   },
   "outputs": [
    {
     "name": "stdout",
     "output_type": "stream",
     "text": [
      "+----------------+--------------------------------+------------------------------------+--------------------+-------------------------------------+--------------------------------------------------+\n",
      "|       conceptId|                            term|                               _term|recognized[0].result|recognized[0].metadata[resolved_text]|         recognized[0].metadata[all_k_resolutions]|\n",
      "+----------------+--------------------------------+------------------------------------+--------------------+-------------------------------------+--------------------------------------------------+\n",
      "|       108367008|                     dislocating|                Dislocation of joint|           304297005| Decreased range of shoulder movement|Decreased range of shoulder movement:::Increase...|\n",
      "|3384011000036100|                       Arthrotec|                           Arthrotec|    3384011000036100|                            Arthrotec|Arthrotec:::Celebrex 200 mg capsule: hard:::Cel...|\n",
      "|       166717003|               elevated creatine|             Serum creatinine raised|           166717003|              Serum creatinine raised|Serum creatinine raised:::Increased creatine ki...|\n",
      "|3877011000036101|                         Lipitor|                             Lipitor|    3877011000036101|                              Lipitor|Lipitor:::Lipitor 20 mg tablet: film-coated:::L...|\n",
      "|       402234004|                  Eczema on feet|                         Foot eczema|           238539001|                          Hand eczema|Hand eczema:::Foot eczema:::Cold feet:::Blister...|\n",
      "|       404640003|                           dizzy|                           Dizziness|           404640003|                            Dizziness|Dizziness:::Lightheadedness:::Nausea:::Syncope:...|\n",
      "|       271681002|   pain in the pit of my stomach|                        Stomach ache|           271681002|                         Stomach ache|Stomach ache:::Abdominal pain:::Myalgia:::Low b...|\n",
      "|        76948002|extreme muscle pain in shoulders|                         Severe pain|            76948002|                          Severe pain|Severe pain:::Myalgia/myositis - shoulder:::Mus...|\n",
      "|        36031001|                    Burning feet|                        Burning feet|            36031001|                         Burning feet|Burning feet:::Burning sensation:::Burning pain...|\n",
      "|        76948002|             imence pain in legs|                         Severe pain|            76948002|                          Severe pain|Severe pain:::Pain in lower limb:::Myalgia/myos...|\n",
      "|        42399005|              kidney malfunction|                       Renal failure|            42399005|                        Renal failure|Renal failure:::Renal injury:::Kidney disease::...|\n",
      "|       288227007|        muscle pain in my biceps|        Myalgia/myositis - upper arm|           281245003|           Musculoskeletal chest pain|Musculoskeletal chest pain:::Severe pain:::Myal...|\n",
      "|       419723007|                       brain fog|                       Mentally dull|           419723007|                        Mentally dull|Mentally dull:::Memory impairment:::Encephalopa...|\n",
      "|       248490000|                        bloating|                    Bloating symptom|           248490000|                     Bloating symptom|Bloating symptom:::Abdominal bloating:::Flatule...|\n",
      "|        22253000|                            pain|                                Pain|            22253000|                                 Pain|Pain:::Foot pain:::Backache:::Severe pain:::Sho...|\n",
      "|       162076009|                             gas|Excessive upper gastrointestinal gas|           162076009| Excessive upper gastrointestinal gas|Excessive upper gastrointestinal gas:::Flatulen...|\n",
      "|       247592009|          Short term memory loss|              Poor short-term memory|           247592009|               Poor short-term memory|Poor short-term memory:::Amnesia:::Memory impai...|\n",
      "|        62507009|             tingling in my feet|                    Pins and needles|           309087008|                 Paraesthesia of foot|Paraesthesia of foot:::Pins and needles:::Cramp...|\n",
      "|3877011000036101|                         LIPITOR|                             Lipitor|    3877011000036101|                              Lipitor|Lipitor:::Lipitor 20 mg tablet: film-coated:::L...|\n",
      "|        62507009|   tingling on left side of face|                    Pins and needles|           309557009|                     Numbness of face|Numbness of face:::Pins and needles:::Numbness:...|\n",
      "+----------------+--------------------------------+------------------------------------+--------------------+-------------------------------------+--------------------------------------------------+\n",
      "only showing top 20 rows\n",
      "\n"
     ]
    }
   ],
   "source": [
    "aap_test_pred.selectExpr(\"conceptId\",\"term\",\"_term\",\"recognized[0].result\",\"recognized[0].metadata.resolved_text\",\"recognized[0].metadata.all_k_resolutions\").show(truncate=50)"
   ]
  },
  {
   "cell_type": "markdown",
   "metadata": {
    "colab_type": "text",
    "id": "SHS-VCjf3exH"
   },
   "source": [
    "## Train Using the entire dataset"
   ]
  },
  {
   "cell_type": "code",
   "execution_count": 23,
   "metadata": {
    "colab": {
     "base_uri": "https://localhost:8080/",
     "height": 51
    },
    "colab_type": "code",
    "id": "jfmu_0S03AZF",
    "outputId": "be865709-1092-40b7-d2cd-3f2a7fdafb05"
   },
   "outputs": [
    {
     "name": "stdout",
     "output_type": "stream",
     "text": [
      "CPU times: user 85.5 ms, sys: 14.3 ms, total: 99.7 ms\n",
      "Wall time: 14.3 s\n"
     ]
    }
   ],
   "source": [
    "all_data = aap_train_sdf.union(aap_test_sdf).union(aap_val_sdf)\n",
    "\n",
    "snomed_training_model = snomed_training_pipeline.fit(all_data)\n",
    "\n",
    "snomed_data = snomed_training_model.transform(all_data).cache()\n",
    "\n",
    "%time model = snomed_extractor.fit(snomed_data)"
   ]
  },
  {
   "cell_type": "code",
   "execution_count": 24,
   "metadata": {
    "colab": {},
    "colab_type": "code",
    "id": "YSBVW2333xVA"
   },
   "outputs": [],
   "source": [
    "model.write().overwrite().save(\"chunkresolve_snomed_askapatient_hc_100d\")"
   ]
  },
  {
   "cell_type": "markdown",
   "metadata": {
    "colab_type": "text",
    "id": "ea4pech4B49K"
   },
   "source": [
    "## Prediction on random texts"
   ]
  },
  {
   "cell_type": "code",
   "execution_count": 44,
   "metadata": {
    "colab": {
     "base_uri": "https://localhost:8080/",
     "height": 68
    },
    "colab_type": "code",
    "id": "MPEbYFvY9BiL",
    "outputId": "8590ffeb-8468-4ddd-d553-9d4dff62ed89"
   },
   "outputs": [
    {
     "name": "stdout",
     "output_type": "stream",
     "text": [
      "explain_clinical_doc_carp download started this may take some time.\n",
      "Approx size to download 526.5 MB\n",
      "[OK!]\n"
     ]
    }
   ],
   "source": [
    "# instead of loading a large clinical_ner, we will use the one coming from 100d pretrained_pipeline\n",
    "from sparknlp.pretrained import PretrainedPipeline\n",
    "\n",
    "pp_ner = PretrainedPipeline('explain_clinical_doc_carp', 'en', 'clinical/models')"
   ]
  },
  {
   "cell_type": "code",
   "execution_count": 68,
   "metadata": {
    "colab": {
     "base_uri": "https://localhost:8080/",
     "height": 221
    },
    "colab_type": "code",
    "id": "5k8KmJ12BXYd",
    "outputId": "b2d59a47-a8b4-44d8-9831-a976d4354c9e"
   },
   "outputs": [
    {
     "data": {
      "text/plain": [
       "[DocumentAssembler_8aeb50463a0d,\n",
       " SentenceDetector_635a56ed49ab,\n",
       " REGEX_TOKENIZER_6f0bd3b85024,\n",
       " WORD_EMBEDDINGS_MODEL_a5c1afb0b657,\n",
       " POS_be8d41751649,\n",
       " NerDLModel_706522935b2e,\n",
       " NerConverter_b818c367ba56,\n",
       " dependency_68159e3d6dac,\n",
       " NerDLModel_01b90ff03d9e,\n",
       " NerConverter_335d7d4208fc,\n",
       " RelationExtractionModel_0a71121bf321,\n",
       " ASSERTION_DL_941a00a50db4]"
      ]
     },
     "execution_count": 68,
     "metadata": {
      "tags": []
     },
     "output_type": "execute_result"
    }
   ],
   "source": [
    "pp_ner.model.stages"
   ]
  },
  {
   "cell_type": "code",
   "execution_count": 48,
   "metadata": {
    "colab": {},
    "colab_type": "code",
    "id": "_s_SMoto9-Rz"
   },
   "outputs": [],
   "source": [
    "ner_100d = pp_ner.model.stages[-4]"
   ]
  },
  {
   "cell_type": "code",
   "execution_count": 50,
   "metadata": {
    "colab": {
     "base_uri": "https://localhost:8080/",
     "height": 68
    },
    "colab_type": "code",
    "id": "uQJMwYhG4EA4",
    "outputId": "678d41b0-dfa0-4921-a733-75bce99f830a"
   },
   "outputs": [
    {
     "name": "stdout",
     "output_type": "stream",
     "text": [
      "embeddings_healthcare_100d download started this may take some time.\n",
      "Approximate size to download 475.8 MB\n",
      "[OK!]\n"
     ]
    }
   ],
   "source": [
    "documentAssembler = DocumentAssembler()\\\n",
    "  .setInputCol(\"term\")\\\n",
    "  .setOutputCol(\"document\")\n",
    "\n",
    "# Sentence Detector annotator, processes various sentences per line\n",
    "\n",
    "sentenceDetector = SentenceDetector()\\\n",
    "  .setInputCols([\"document\"])\\\n",
    "  .setOutputCol(\"sentence\")\\\n",
    "  .setCustomBounds([\",\"])\n",
    "\n",
    "# Tokenizer splits words in a relevant format for NLP\n",
    "\n",
    "tokenizer = Tokenizer()\\\n",
    "  .setInputCols([\"sentence\"])\\\n",
    "  .setOutputCol(\"raw_token\")\\\n",
    "\n",
    "stopwords = StopWordsCleaner()\\\n",
    "  .setInputCols([\"raw_token\"])\\\n",
    "  .setOutputCol(\"token\")\n",
    "\n",
    "word_embeddings = WordEmbeddingsModel.pretrained(\"embeddings_healthcare_100d\", \"en\", \"clinical/models\")\\\n",
    "      .setInputCols([\"document\", \"token\"])\\\n",
    "      .setOutputCol(\"embeddings\")\n",
    "\n",
    "ner_100d\\\n",
    "  .setInputCols([\"sentence\", \"token\", \"embeddings\"]) \\\n",
    "  .setOutputCol(\"ner\")\n",
    "\n",
    "snomed_ner_converter = NerConverterInternal() \\\n",
    "  .setInputCols([\"sentence\", \"token\", \"ner\"]) \\\n",
    "  .setOutputCol(\"greedy_chunk\")\\\n",
    "  .setWhiteList(['PROBLEM','TEST'])\n",
    "\n",
    "chunk_embeddings = ChunkEmbeddings()\\\n",
    "  .setInputCols('greedy_chunk', 'embeddings')\\\n",
    "  .setOutputCol('chunk_embeddings')\n",
    "\n",
    "snomed_resolver = \\\n",
    "    ChunkEntityResolverModel.load(\"chunkresolve_snomed_askapatient_hc_100d\")\\\n",
    "    .setInputCols(\"token\",\"chunk_embeddings\").setOutputCol(\"snomed_resolution\")\n",
    "\n",
    "pipeline_snomed = Pipeline(\n",
    "    stages = [\n",
    "    documentAssembler,\n",
    "    sentenceDetector,\n",
    "    tokenizer,\n",
    "    stopwords,\n",
    "    word_embeddings,\n",
    "    ner_100d,\n",
    "    snomed_ner_converter,\n",
    "    chunk_embeddings,\n",
    "    snomed_resolver\n",
    "  ])\n",
    "\n",
    "empty_data = spark.createDataFrame([['']]).toDF(\"term\")\n",
    "\n",
    "model_snomed = pipeline_snomed.fit(empty_data)\n"
   ]
  },
  {
   "cell_type": "code",
   "execution_count": 51,
   "metadata": {
    "colab": {},
    "colab_type": "code",
    "id": "qPkpwyrh6Bqn"
   },
   "outputs": [],
   "source": [
    "model_snomed_lp = LightPipeline(model_snomed)\n"
   ]
  },
  {
   "cell_type": "code",
   "execution_count": 65,
   "metadata": {
    "colab": {
     "base_uri": "https://localhost:8080/",
     "height": 34
    },
    "colab_type": "code",
    "id": "AhZF03HE6dDg",
    "outputId": "bb6d3888-fcfc-4976-fb1f-760599ad70fc"
   },
   "outputs": [
    {
     "data": {
      "text/plain": [
       "[('biceps muscle pain', '288227007'), ('extreme muscle pain', '76948002')]"
      ]
     },
     "execution_count": 65,
     "metadata": {
      "tags": []
     },
     "output_type": "execute_result"
    }
   ],
   "source": [
    "\n",
    "result = model_snomed_lp.annotate('I have a biceps muscle pain and extreme muscle pain in shoulders')\n",
    "\n",
    "list(zip(result['greedy_chunk'],result['snomed_resolution']))"
   ]
  },
  {
   "cell_type": "code",
   "execution_count": 66,
   "metadata": {
    "colab": {
     "base_uri": "https://localhost:8080/",
     "height": 34
    },
    "colab_type": "code",
    "id": "vSx2ThKRA9Iu",
    "outputId": "4af92bb4-547e-4972-f9bf-519b1adacb45"
   },
   "outputs": [
    {
     "data": {
      "text/plain": [
       "[('flu and a headache', '6142004')]"
      ]
     },
     "execution_count": 66,
     "metadata": {
      "tags": []
     },
     "output_type": "execute_result"
    }
   ],
   "source": [
    "\n",
    "result = model_snomed_lp.annotate('I have a flu and a headache')\n",
    "\n",
    "list(zip(result['greedy_chunk'],result['snomed_resolution']))"
   ]
  },
  {
   "cell_type": "code",
   "execution_count": 64,
   "metadata": {
    "colab": {
     "base_uri": "https://localhost:8080/",
     "height": 136
    },
    "colab_type": "code",
    "id": "IZ-jfMzD6nR8",
    "outputId": "3d524abc-f0a2-4e17-a088-1420b1ab37d5"
   },
   "outputs": [
    {
     "name": "stdout",
     "output_type": "stream",
     "text": [
      "+-------------------+-------+----------------------------------------------------------------------------------------------------+---------+----------+\n",
      "|              chunk| entity|                                                                                         target_text|     code|confidence|\n",
      "+-------------------+-------+----------------------------------------------------------------------------------------------------+---------+----------+\n",
      "| biceps muscle pain|PROBLEM|Myalgia/myositis - upper arm:::Myalgia:::Neck pain:::Myalgia/myositis - shoulder:::Backache:::Foo...|288227007|    0.0915|\n",
      "|extreme muscle pain|PROBLEM|Severe pain:::Muscle fatigue:::Muscle weakness:::Myopathy:::Abdominal pain:::Constant pain:::Myal...| 76948002|    0.1527|\n",
      "+-------------------+-------+----------------------------------------------------------------------------------------------------+---------+----------+\n",
      "\n"
     ]
    }
   ],
   "source": [
    "from pyspark.sql import functions as F\n",
    "\n",
    "snomed_output = model_snomed.transform(spark.createDataFrame([['I have a biceps muscle pain and extreme muscle pain in shoulders']]).toDF(\"term\"))\n",
    "\n",
    "snomed_output.select(F.explode(F.arrays_zip(\"greedy_chunk.result\",\"greedy_chunk.metadata\",\"snomed_resolution.result\",\"snomed_resolution.metadata\")).alias(\"snomed_result\")) \\\n",
    "    .select(F.expr(\"snomed_result['0']\").alias(\"chunk\"),\n",
    "            F.expr(\"snomed_result['1'].entity\").alias(\"entity\"),\n",
    "            F.expr(\"snomed_result['3'].all_k_resolutions\").alias(\"target_text\"),\n",
    "            F.expr(\"snomed_result['2']\").alias(\"code\"),\n",
    "            F.expr(\"snomed_result['3'].confidence\").alias(\"confidence\")).show(truncate = 100)"
   ]
  },
  {
   "cell_type": "code",
   "execution_count": null,
   "metadata": {
    "colab": {},
    "colab_type": "code",
    "id": "FiCT9fFk-8YX"
   },
   "outputs": [],
   "source": []
  }
 ],
 "metadata": {
  "colab": {
   "name": "13.Snomed_Entity_Resolver_Model_Training.ipynb",
   "provenance": []
  },
  "kernelspec": {
   "display_name": "Python 3",
   "language": "python",
   "name": "python3"
  },
  "language_info": {
   "codemirror_mode": {
    "name": "ipython",
    "version": 3
   },
   "file_extension": ".py",
   "mimetype": "text/x-python",
   "name": "python",
   "nbconvert_exporter": "python",
   "pygments_lexer": "ipython3",
   "version": "3.7.4"
  }
 },
 "nbformat": 4,
 "nbformat_minor": 4
}

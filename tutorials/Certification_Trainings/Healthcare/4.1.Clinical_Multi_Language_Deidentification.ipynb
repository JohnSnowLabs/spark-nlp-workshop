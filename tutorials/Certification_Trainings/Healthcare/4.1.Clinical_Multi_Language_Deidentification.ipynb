{
  "cells": [
    {
      "cell_type": "markdown",
      "metadata": {
        "id": "tR9WNeT0TDF8"
      },
      "source": [
        "![JohnSnowLabs](https://nlp.johnsnowlabs.com/assets/images/logo.png)"
      ]
    },
    {
      "cell_type": "markdown",
      "metadata": {
        "id": "GXT6YWXZTEeR"
      },
      "source": [
        "[![Open In Colab](https://colab.research.google.com/assets/colab-badge.svg)](https://colab.research.google.com/github/JohnSnowLabs/spark-nlp-workshop/blob/master/tutorials/Certification_Trainings/Healthcare/4.1.Clinical_Multi_Language_Deidentification.ipynb)\n"
      ]
    },
    {
      "cell_type": "markdown",
      "metadata": {
        "id": "J8JSRUhNTKYC"
      },
      "source": [
        "# Clinical Deidentification Multi Language"
      ]
    },
    {
      "cell_type": "markdown",
      "metadata": {
        "id": "okhT7AcXxben"
      },
      "source": [
        "## Colab Setup"
      ]
    },
    {
      "cell_type": "code",
      "execution_count": null,
      "metadata": {
        "id": "I8Ytt2LLp2rj"
      },
      "outputs": [],
      "source": [
        "import json\n",
        "import os\n",
        "\n",
        "from google.colab import files\n",
        "\n",
        "if 'spark_jsl.json' not in os.listdir():\n",
        "  license_keys = files.upload()\n",
        "  os.rename(list(license_keys.keys())[0], 'spark_jsl.json')\n",
        "\n",
        "with open('spark_jsl.json') as f:\n",
        "    license_keys = json.load(f)\n",
        "\n",
        "# Defining license key-value pairs as local variables\n",
        "locals().update(license_keys)\n",
        "os.environ.update(license_keys)"
      ]
    },
    {
      "cell_type": "code",
      "execution_count": null,
      "metadata": {
        "id": "Uq0mPLNNLuSy",
        "scrolled": true
      },
      "outputs": [],
      "source": [
        "# Installing pyspark and spark-nlp\n",
        "! pip install --upgrade -q pyspark==3.1.2 spark-nlp==$PUBLIC_VERSION\n",
        "\n",
        "# Installing Spark NLP Healthcare\n",
        "! pip install --upgrade -q spark-nlp-jsl==$JSL_VERSION  --extra-index-url https://pypi.johnsnowlabs.com/$SECRET"
      ]
    },
    {
      "cell_type": "code",
      "execution_count": null,
      "metadata": {
        "id": "iUNHVaSdL0tO",
        "colab": {
          "base_uri": "https://localhost:8080/",
          "height": 254
        },
        "outputId": "697f97a5-7ced-468c-e276-e453d264b9dd"
      },
      "outputs": [
        {
          "output_type": "stream",
          "name": "stdout",
          "text": [
            "Spark NLP Version : 4.4.1\n",
            "Spark NLP_JSL Version : 4.4.2\n"
          ]
        },
        {
          "output_type": "execute_result",
          "data": {
            "text/plain": [
              "<pyspark.sql.session.SparkSession at 0x7fa195c85150>"
            ],
            "text/html": [
              "\n",
              "            <div>\n",
              "                <p><b>SparkSession - in-memory</b></p>\n",
              "                \n",
              "        <div>\n",
              "            <p><b>SparkContext</b></p>\n",
              "\n",
              "            <p><a href=\"http://5a385721651f:4040\">Spark UI</a></p>\n",
              "\n",
              "            <dl>\n",
              "              <dt>Version</dt>\n",
              "                <dd><code>v3.1.2</code></dd>\n",
              "              <dt>Master</dt>\n",
              "                <dd><code>local[*]</code></dd>\n",
              "              <dt>AppName</dt>\n",
              "                <dd><code>Spark NLP Licensed</code></dd>\n",
              "            </dl>\n",
              "        </div>\n",
              "        \n",
              "            </div>\n",
              "        "
            ]
          },
          "metadata": {},
          "execution_count": 3
        }
      ],
      "source": [
        "import json\n",
        "import os\n",
        "\n",
        "import sparknlp\n",
        "import sparknlp_jsl\n",
        "\n",
        "from sparknlp.base import *\n",
        "from sparknlp.util import *\n",
        "from sparknlp.annotator import *\n",
        "from sparknlp_jsl.annotator import *\n",
        "\n",
        "from pyspark.sql import SparkSession\n",
        "from pyspark.sql import functions as F\n",
        "from pyspark.ml import Pipeline, PipelineModel\n",
        "\n",
        "import pandas as pd\n",
        "\n",
        "pd.set_option('display.max_columns', None)  \n",
        "pd.set_option('display.expand_frame_repr', False)\n",
        "pd.set_option('max_colwidth', None)\n",
        "\n",
        "import string\n",
        "import numpy as np\n",
        "\n",
        "params = {\"spark.driver.memory\":\"16G\",\n",
        "          \"spark.kryoserializer.buffer.max\":\"2000M\",\n",
        "          \"spark.driver.maxResultSize\":\"2000M\"}\n",
        "\n",
        "spark = sparknlp_jsl.start(secret = SECRET, params=params)\n",
        "\n",
        "print (\"Spark NLP Version :\", sparknlp.version())\n",
        "print (\"Spark NLP_JSL Version :\", sparknlp_jsl.version())\n",
        "\n",
        "spark"
      ]
    },
    {
      "cell_type": "code",
      "execution_count": null,
      "metadata": {
        "id": "VtLIEJtPf88T"
      },
      "outputs": [],
      "source": [
        "# if you want to start the session with custom params as in start function above\n",
        "from pyspark.sql import SparkSession\n",
        "\n",
        "def start(SECRET):\n",
        "    builder = SparkSession.builder \\\n",
        "        .appName(\"Spark NLP Licensed\") \\\n",
        "        .master(\"local[*]\") \\\n",
        "        .config(\"spark.driver.memory\", \"64G\") \\\n",
        "        .config(\"spark.serializer\", \"org.apache.spark.serializer.KryoSerializer\") \\\n",
        "        .config(\"spark.kryoserializer.buffer.max\", \"2000M\") \\\n",
        "        .config(\"spark.jars.packages\", \"com.johnsnowlabs.nlp:spark-nlp_2.12:\"+PUBLIC_VERSION) \\\n",
        "        .config(\"spark.jars\", \"https://pypi.johnsnowlabs.com/\"+SECRET+\"/spark-nlp-jsl-\"+JSL_VERSION+\".jar\")\n",
        "      \n",
        "    return builder.getOrCreate()\n",
        "\n",
        "#spark = start(SECRET)"
      ]
    },
    {
      "cell_type": "markdown",
      "metadata": {
        "id": "MkL1SatwTalC"
      },
      "source": [
        "# Deidentification Models in Different Languages"
      ]
    },
    {
      "cell_type": "markdown",
      "metadata": {
        "id": "zT7vzNXhTaHv"
      },
      "source": [
        "|index|model|lang|index|model|lang|\n",
        "|-----:|:-----|----|-----:|:-----|----|\n",
        "| 1| [ner_deid_generic](https://nlp.johnsnowlabs.com/2022/01/06/ner_deid_generic_de.html)  |de| 11| [ner_deid_generic](https://nlp.johnsnowlabs.com/2022/02/11/ner_deid_generic_fr.html)  |fr|\n",
        "| 2| [ner_deid_subentity](https://nlp.johnsnowlabs.com/2022/01/06/ner_deid_subentity_de.html)  |de| 12| [ner_deid_subentity](https://nlp.johnsnowlabs.com/2022/02/14/ner_deid_subentity_fr.html)  |fr|\n",
        "| 3| [ner_deid_generic](https://nlp.johnsnowlabs.com/2022/01/18/ner_deid_generic_es.html)  |es| 13| [ner_deid_generic](https://nlp.johnsnowlabs.com/2022/03/25/ner_deid_generic_it_3_0.html)  |it|\n",
        "| 4| [ner_deid_generic_augmented](https://nlp.johnsnowlabs.com/2022/02/16/ner_deid_generic_augmented_es.html)  |es| 14| [ner_deid_subentity](https://nlp.johnsnowlabs.com/2022/03/25/ner_deid_subentity_it_2_4.html)  |it|\n",
        "| 5| [ner_deid_generic_roberta](https://nlp.johnsnowlabs.com/2022/01/17/ner_deid_generic_roberta_es.html)  |es| 15| [ner_deid_generic](https://nlp.johnsnowlabs.com/2022/04/13/ner_deid_generic_pt_3_0.html)  |pt|\n",
        "| 6| [ner_deid_generic_roberta_augmented](https://nlp.johnsnowlabs.com/2022/02/16/ner_deid_generic_roberta_augmented_es.html)  |es| 16| [ner_deid_subentity](https://nlp.johnsnowlabs.com/2022/04/13/ner_deid_subentity_pt_3_0.html)  |pt|\n",
        "| 7| [ner_deid_subentity](https://nlp.johnsnowlabs.com/2022/01/18/ner_deid_subentity_es.html)  |es| 17| [ner_deid_subentity](https://nlp.johnsnowlabs.com/2022/06/27/ner_deid_subentity_ro_3_0.html)  |ro|\n",
        "| 8| [ner_deid_subentity_augmented](https://nlp.johnsnowlabs.com/2022/02/16/ner_deid_subentity_augmented_es.html)  |es| 18| [ner_deid_subentity_bert](https://nlp.johnsnowlabs.com/2022/06/27/ner_deid_subentity_bert_ro_3_0.html)  |ro|\n",
        "| 9| [ner_deid_subentity_roberta](https://nlp.johnsnowlabs.com/2022/01/17/ner_deid_subentity_roberta_es.html)  |es| 19| [ner_deid_generic](https://nlp.johnsnowlabs.com/models)  |ro|\n",
        "| 10| [ner_deid_subentity_roberta_augmented](https://nlp.johnsnowlabs.com/2022/02/16/ner_deid_subentity_roberta_augmented_es.html)  |es| 20| [ner_deid_generic_bert](https://nlp.johnsnowlabs.com/models)  |ro|\n"
      ]
    },
    {
      "cell_type": "markdown",
      "metadata": {
        "id": "_kgmSI60UYVs"
      },
      "source": [
        "# DE-IDENTIFICATION FOR GERMAN"
      ]
    },
    {
      "cell_type": "markdown",
      "metadata": {
        "id": "VAyEoiHVuhbp"
      },
      "source": [
        "## German Deidentification NER Models "
      ]
    },
    {
      "cell_type": "markdown",
      "metadata": {
        "id": "e7buMgvyQ7Fg"
      },
      "source": [
        "|index|model|lang|index|model|lang|\n",
        "|-----:|:-----|----|-----:|:-----|----|\n",
        "| 1| [ner_deid_generic](https://nlp.johnsnowlabs.com/2022/01/06/ner_deid_generic_de.html)  |de| 2| [ner_deid_subentity](https://nlp.johnsnowlabs.com/2022/01/06/ner_deid_subentity_de.html)  |de|\n"
      ]
    },
    {
      "cell_type": "markdown",
      "metadata": {
        "id": "V1eksdJQoF4e"
      },
      "source": [
        "Creating pipeline"
      ]
    },
    {
      "cell_type": "code",
      "execution_count": null,
      "metadata": {
        "colab": {
          "base_uri": "https://localhost:8080/"
        },
        "id": "snKDCdXwoNy4",
        "outputId": "a0748fad-825a-4826-e607-5a6cfc9e0de0"
      },
      "outputs": [
        {
          "output_type": "stream",
          "name": "stdout",
          "text": [
            "sentence_detector_dl download started this may take some time.\n",
            "Approximate size to download 514.9 KB\n",
            "[OK!]\n",
            "w2v_cc_300d download started this may take some time.\n",
            "Approximate size to download 1.2 GB\n",
            "[OK!]\n"
          ]
        }
      ],
      "source": [
        "# Annotator that transforms a text column from dataframe into an Annotation ready for NLP\n",
        "documentAssembler = DocumentAssembler()\\\n",
        "    .setInputCol(\"text\")\\\n",
        "    .setOutputCol(\"document\")\n",
        "\n",
        "sentencerDL = SentenceDetectorDLModel.pretrained(\"sentence_detector_dl\", \"xx\") \\\n",
        "    .setInputCols([\"document\"])\\\n",
        "    .setOutputCol(\"sentence\")\n",
        "\n",
        "# Tokenizer splits words in a relevant format for NLP\n",
        "tokenizer = Tokenizer()\\\n",
        "    .setInputCols([\"sentence\"])\\\n",
        "    .setOutputCol(\"token\")\n",
        "\n",
        "word_embeddings_de = WordEmbeddingsModel.pretrained(\"w2v_cc_300d\",\"de\",\"clinical/models\")\\\n",
        "    .setInputCols([\"document\",\"token\"])\\\n",
        "\t  .setOutputCol(\"embeddings\")"
      ]
    },
    {
      "cell_type": "markdown",
      "metadata": {
        "id": "3ZuJrSX6tT9m"
      },
      "source": [
        "### NER Deid Generic\n",
        "\n",
        "**`ner_deid_generic`** extracts:\n",
        "- Name\n",
        "- Profession\n",
        "- Age\n",
        "- Date\n",
        "- Contact (Telephone numbers, FAX numbers, Email addresses)\n",
        "- Location (Address, City, Postal code, Hospital Name, Employment information)\n",
        "- Id (Social Security numbers, Medical record numbers, Internet protocol addresses)\n",
        "\n"
      ]
    },
    {
      "cell_type": "code",
      "execution_count": null,
      "metadata": {
        "colab": {
          "base_uri": "https://localhost:8080/"
        },
        "id": "C-qUIvqpsjV0",
        "outputId": "9f3f6738-78f1-4c91-ae7f-1bb98ae1203b"
      },
      "outputs": [
        {
          "output_type": "stream",
          "name": "stdout",
          "text": [
            "ner_deid_generic download started this may take some time.\n",
            "[OK!]\n"
          ]
        }
      ],
      "source": [
        "ner_generic_de = MedicalNerModel.pretrained(\"ner_deid_generic\", \"de\", \"clinical/models\")\\\n",
        "    .setInputCols([\"sentence\",\"token\",\"embeddings\"])\\\n",
        "    .setOutputCol(\"ner_deid_generic\")\n",
        "\n",
        "ner_converter_generic = NerConverterInternal()\\\n",
        "    .setInputCols([\"sentence\",\"token\",\"ner_deid_generic\"])\\\n",
        "    .setOutputCol(\"ner_chunk_generic\")"
      ]
    },
    {
      "cell_type": "code",
      "execution_count": null,
      "metadata": {
        "colab": {
          "base_uri": "https://localhost:8080/"
        },
        "id": "j7Xy9E_hxN5y",
        "outputId": "eee5bad6-16d5-41ee-ef34-d8789ec7ba06"
      },
      "outputs": [
        {
          "output_type": "execute_result",
          "data": {
            "text/plain": [
              "['O',\n",
              " 'I-LOCATION',\n",
              " 'B-DATE',\n",
              " 'I-NAME',\n",
              " 'B-LOCATION',\n",
              " 'I-DATE',\n",
              " 'B-ID',\n",
              " 'B-AGE',\n",
              " 'B-CONTACT',\n",
              " 'B-PROFESSION',\n",
              " 'B-NAME']"
            ]
          },
          "metadata": {},
          "execution_count": 6
        }
      ],
      "source": [
        "ner_generic_de.getClasses()"
      ]
    },
    {
      "cell_type": "markdown",
      "metadata": {
        "id": "3NjkLF70tYdZ"
      },
      "source": [
        "### NER Deid Subentity\n",
        "\n",
        "**`ner_deid_subentity`** extracts:\n",
        "\n",
        "- Patient\n",
        "- Doctor\n",
        "- Hospital\n",
        "- Date\n",
        "- Organization\n",
        "- City\n",
        "- Street\n",
        "- User Name\n",
        "- Profession\n",
        "- Phone\n",
        "- Country\n",
        "- Age"
      ]
    },
    {
      "cell_type": "code",
      "execution_count": null,
      "metadata": {
        "colab": {
          "base_uri": "https://localhost:8080/"
        },
        "id": "C8n-h6D9tJXx",
        "outputId": "e999106f-0f06-471a-ff79-1ecee16ba1f2"
      },
      "outputs": [
        {
          "output_type": "stream",
          "name": "stdout",
          "text": [
            "ner_deid_subentity download started this may take some time.\n",
            "[OK!]\n"
          ]
        }
      ],
      "source": [
        "ner_subentity_de = MedicalNerModel.pretrained(\"ner_deid_subentity\", \"de\", \"clinical/models\")\\\n",
        "    .setInputCols([\"sentence\",\"token\",\"embeddings\"])\\\n",
        "    .setOutputCol(\"ner_deid_subentity\")\n",
        "\n",
        "ner_converter_subentity = NerConverterInternal()\\\n",
        "    .setInputCols([\"sentence\", \"token\", \"ner_deid_subentity\"])\\\n",
        "    .setOutputCol(\"ner_chunk_subentity\")"
      ]
    },
    {
      "cell_type": "code",
      "execution_count": null,
      "metadata": {
        "colab": {
          "base_uri": "https://localhost:8080/"
        },
        "id": "Oda9sjHDxRyi",
        "outputId": "4fc4eec0-92f9-4a3e-b0c1-c1a4c9ee3259"
      },
      "outputs": [
        {
          "output_type": "execute_result",
          "data": {
            "text/plain": [
              "['O',\n",
              " 'B-ORGANIZATION',\n",
              " 'I-DOCTOR',\n",
              " 'B-DOCTOR',\n",
              " 'B-USERNAME',\n",
              " 'I-CITY',\n",
              " 'I-DATE',\n",
              " 'B-COUNTRY',\n",
              " 'B-PROFESSION',\n",
              " 'I-STREET',\n",
              " 'I-PATIENT',\n",
              " 'B-PHONE',\n",
              " 'B-CITY',\n",
              " 'B-HOSPITAL',\n",
              " 'B-DATE',\n",
              " 'B-STREET',\n",
              " 'B-PATIENT',\n",
              " 'I-ORGANIZATION',\n",
              " 'I-HOSPITAL',\n",
              " 'B-AGE',\n",
              " 'I-COUNTRY']"
            ]
          },
          "metadata": {},
          "execution_count": 8
        }
      ],
      "source": [
        "ner_subentity_de.getClasses()"
      ]
    },
    {
      "cell_type": "markdown",
      "metadata": {
        "id": "Eqg29dPuvl5f"
      },
      "source": [
        "### Pipeline"
      ]
    },
    {
      "cell_type": "code",
      "execution_count": null,
      "metadata": {
        "id": "P0HZXLF6ueWi"
      },
      "outputs": [],
      "source": [
        "nlpPipeline_de = Pipeline(stages=[\n",
        "      documentAssembler, \n",
        "      sentencerDL,\n",
        "      tokenizer,\n",
        "      word_embeddings_de,\n",
        "      ner_generic_de,\n",
        "      ner_converter_generic,\n",
        "      ner_subentity_de,\n",
        "      ner_converter_subentity,\n",
        "      ])\n",
        "\n",
        "empty_data = spark.createDataFrame([[\"\"]]).toDF(\"text\")\n",
        "model_de = nlpPipeline_de.fit(empty_data)"
      ]
    },
    {
      "cell_type": "code",
      "execution_count": null,
      "metadata": {
        "id": "fG4Vc36EwhFk"
      },
      "outputs": [],
      "source": [
        "text_de = \"\"\"Michael Berger wird am Morgen des 12 Dezember 2018 ins St. Elisabeth-Krankenhaus in Bad Kissingen eingeliefert. Herr Berger ist 76 Jahre alt und hat zu viel Wasser in den Beinen.\"\"\"\n",
        "\n",
        "text_df_de = spark.createDataFrame([[text_de]]).toDF(\"text\")\n",
        "result_de = model_de.transform(text_df_de)"
      ]
    },
    {
      "cell_type": "markdown",
      "metadata": {
        "id": "y-CMPYTHz-L2"
      },
      "source": [
        "Results for `ner_deid_subentity`"
      ]
    },
    {
      "cell_type": "code",
      "execution_count": null,
      "metadata": {
        "colab": {
          "base_uri": "https://localhost:8080/"
        },
        "id": "vEtBcyIjzLA3",
        "outputId": "c65b6f89-9ab8-418c-86c6-7edfe8da089f"
      },
      "outputs": [
        {
          "output_type": "stream",
          "name": "stdout",
          "text": [
            "+--------------------------------------+---------+\n",
            "|chunk                                 |ner_label|\n",
            "+--------------------------------------+---------+\n",
            "|Michael Berger                        |PATIENT  |\n",
            "|12 Dezember 2018                      |DATE     |\n",
            "|Elisabeth-Krankenhaus in Bad Kissingen|HOSPITAL |\n",
            "|Berger                                |PATIENT  |\n",
            "|76                                    |AGE      |\n",
            "+--------------------------------------+---------+\n",
            "\n"
          ]
        }
      ],
      "source": [
        "result_de.select(F.explode(F.arrays_zip(result_de.ner_chunk_subentity.result, result_de.ner_chunk_subentity.metadata)).alias(\"cols\")) \\\n",
        "         .select(F.expr(\"cols['0']\").alias(\"chunk\"),\n",
        "                 F.expr(\"cols['1']['entity']\").alias(\"ner_label\")).show(truncate=False)"
      ]
    },
    {
      "cell_type": "markdown",
      "metadata": {
        "id": "MNUKLQMi0GjT"
      },
      "source": [
        "Results for `ner_deid_generic`"
      ]
    },
    {
      "cell_type": "code",
      "execution_count": null,
      "metadata": {
        "colab": {
          "base_uri": "https://localhost:8080/"
        },
        "id": "K2wDmdiFzwDb",
        "outputId": "2416ae48-90ab-4de5-8655-dc6c21133ce0"
      },
      "outputs": [
        {
          "output_type": "stream",
          "name": "stdout",
          "text": [
            "+-------------------------+---------+\n",
            "|chunk                    |ner_label|\n",
            "+-------------------------+---------+\n",
            "|Michael Berger           |NAME     |\n",
            "|12 Dezember 2018         |DATE     |\n",
            "|St. Elisabeth-Krankenhaus|LOCATION |\n",
            "|Bad Kissingen            |LOCATION |\n",
            "|Berger                   |NAME     |\n",
            "|76                       |AGE      |\n",
            "+-------------------------+---------+\n",
            "\n"
          ]
        }
      ],
      "source": [
        "result_de.select(F.explode(F.arrays_zip(result_de.ner_chunk_generic.result, result_de.ner_chunk_generic.metadata)).alias(\"cols\")) \\\n",
        "         .select(F.expr(\"cols['0']\").alias(\"chunk\"),\n",
        "                 F.expr(\"cols['1']['entity']\").alias(\"ner_label\")).show(truncate=False)"
      ]
    },
    {
      "cell_type": "markdown",
      "metadata": {
        "id": "Qh_G6UNYbrAl"
      },
      "source": [
        "## DeIdentification"
      ]
    },
    {
      "cell_type": "markdown",
      "metadata": {
        "id": "u-OTUyBK6yrt"
      },
      "source": [
        "### Obfuscation mode"
      ]
    },
    {
      "cell_type": "code",
      "execution_count": null,
      "metadata": {
        "id": "pbJisU_u7Kpl"
      },
      "outputs": [],
      "source": [
        "# Downloading custom faker entity list.\n",
        "! wget -q https://raw.githubusercontent.com/JohnSnowLabs/spark-nlp-workshop/master/tutorials/Certification_Trainings/Healthcare/data/obfuscate.txt"
      ]
    },
    {
      "cell_type": "code",
      "execution_count": null,
      "metadata": {
        "id": "CBo2T-sZ64IJ"
      },
      "outputs": [],
      "source": [
        "deid_masked_entity = DeIdentification()\\\n",
        "    .setInputCols([\"sentence\", \"token\", \"ner_chunk_subentity\"])\\\n",
        "    .setOutputCol(\"masked_with_entity\")\\\n",
        "    .setMode(\"mask\")\\\n",
        "    .setMaskingPolicy(\"entity_labels\")\\\n",
        "\n",
        "deid_masked_char = DeIdentification()\\\n",
        "    .setInputCols([\"sentence\", \"token\", \"ner_chunk_subentity\"])\\\n",
        "    .setOutputCol(\"masked_with_chars\")\\\n",
        "    .setMode(\"mask\")\\\n",
        "    .setMaskingPolicy(\"same_length_chars\")\\\n",
        "\n",
        "deid_masked_fixed_char = DeIdentification()\\\n",
        "    .setInputCols([\"sentence\", \"token\", \"ner_chunk_subentity\"])\\\n",
        "    .setOutputCol(\"masked_fixed_length_chars\")\\\n",
        "    .setMode(\"mask\")\\\n",
        "    .setMaskingPolicy(\"fixed_length_chars\")\\\n",
        "    .setFixedMaskLength(4)\\\n",
        "\n",
        "deid_obfuscated = DeIdentification()\\\n",
        "    .setInputCols([\"sentence\", \"token\", \"ner_chunk_subentity\"]) \\\n",
        "    .setOutputCol(\"obfuscated\") \\\n",
        "    .setMode(\"obfuscate\")\\\n",
        "    .setObfuscateDate(True)\\\n",
        "    .setObfuscateRefFile('obfuscate.txt')\\\n",
        "    .setObfuscateRefSource(\"file\")"
      ]
    },
    {
      "cell_type": "code",
      "execution_count": null,
      "metadata": {
        "id": "h9pmXn0f75ST"
      },
      "outputs": [],
      "source": [
        "nlpPipeline_de = Pipeline(stages=[\n",
        "      documentAssembler, \n",
        "      sentencerDL,\n",
        "      tokenizer,\n",
        "      word_embeddings_de,\n",
        "      ner_subentity_de,\n",
        "      ner_converter_subentity,\n",
        "      deid_masked_entity,\n",
        "      deid_masked_char,\n",
        "      deid_masked_fixed_char,\n",
        "      deid_obfuscated\n",
        "      ])\n",
        "\n",
        "empty_data = spark.createDataFrame([[\"\"]]).toDF(\"text\")\n",
        "model_de = nlpPipeline_de.fit(empty_data)"
      ]
    },
    {
      "cell_type": "code",
      "execution_count": null,
      "metadata": {
        "id": "oVOL3bwr8J18"
      },
      "outputs": [],
      "source": [
        "deid_lp_de = LightPipeline(model_de)"
      ]
    },
    {
      "cell_type": "code",
      "execution_count": null,
      "metadata": {
        "id": "Maco1EiD8TK4"
      },
      "outputs": [],
      "source": [
        "text = \"\"\"Michael Berger wird am Morgen des 12 Dezember 2018 ins St. Elisabeth-Krankenhaus in Bad Kissingen eingeliefert. Herr Berger ist 76 Jahre alt und hat zu viel Wasser in den Beinen.\"\"\""
      ]
    },
    {
      "cell_type": "code",
      "execution_count": null,
      "metadata": {
        "colab": {
          "base_uri": "https://localhost:8080/",
          "height": 240
        },
        "id": "MhQudVrPHl6D",
        "outputId": "374c25fd-4d10-44ce-be6e-5da492a4abc0"
      },
      "outputs": [
        {
          "output_type": "execute_result",
          "data": {
            "text/plain": [
              "                                                                     Masked                                                                                    Masked with Chars                                             Masked with Fixed Chars                                                                                           Obfuscated\n",
              "0      <PATIENT> wird am Morgen des <DATE> ins St. <HOSPITAL> eingeliefert.  [************] wird am Morgen des [**************] ins St. [************************************...             **** wird am Morgen des **** ins St. **** eingeliefert.  Hans-Martin Kreusel wird am Morgen des 10-02-1997 ins St. Sankt Josef Krankenhaus - Leverkusen e...\n",
              "1  Herr <PATIENT> ist <AGE> Jahre alt und hat zu viel Wasser in den Beinen.                                   Herr [****] ist ** Jahre alt und hat zu viel Wasser in den Beinen.  Herr **** ist **** Jahre alt und hat zu viel Wasser in den Beinen.                          Herr Steffen Jungfer ist 12 Jahre alt und hat zu viel Wasser in den Beinen."
            ],
            "text/html": [
              "\n",
              "  <div id=\"df-75c95a11-2074-4f24-87c2-6f944964c00b\">\n",
              "    <div class=\"colab-df-container\">\n",
              "      <div>\n",
              "<style scoped>\n",
              "    .dataframe tbody tr th:only-of-type {\n",
              "        vertical-align: middle;\n",
              "    }\n",
              "\n",
              "    .dataframe tbody tr th {\n",
              "        vertical-align: top;\n",
              "    }\n",
              "\n",
              "    .dataframe thead th {\n",
              "        text-align: right;\n",
              "    }\n",
              "</style>\n",
              "<table border=\"1\" class=\"dataframe\">\n",
              "  <thead>\n",
              "    <tr style=\"text-align: right;\">\n",
              "      <th></th>\n",
              "      <th>Masked</th>\n",
              "      <th>Masked with Chars</th>\n",
              "      <th>Masked with Fixed Chars</th>\n",
              "      <th>Obfuscated</th>\n",
              "    </tr>\n",
              "  </thead>\n",
              "  <tbody>\n",
              "    <tr>\n",
              "      <th>0</th>\n",
              "      <td>&lt;PATIENT&gt; wird am Morgen des &lt;DATE&gt; ins St. &lt;HOSPITAL&gt; eingeliefert.</td>\n",
              "      <td>[************] wird am Morgen des [**************] ins St. [************************************...</td>\n",
              "      <td>**** wird am Morgen des **** ins St. **** eingeliefert.</td>\n",
              "      <td>Hans-Martin Kreusel wird am Morgen des 10-02-1997 ins St. Sankt Josef Krankenhaus - Leverkusen e...</td>\n",
              "    </tr>\n",
              "    <tr>\n",
              "      <th>1</th>\n",
              "      <td>Herr &lt;PATIENT&gt; ist &lt;AGE&gt; Jahre alt und hat zu viel Wasser in den Beinen.</td>\n",
              "      <td>Herr [****] ist ** Jahre alt und hat zu viel Wasser in den Beinen.</td>\n",
              "      <td>Herr **** ist **** Jahre alt und hat zu viel Wasser in den Beinen.</td>\n",
              "      <td>Herr Steffen Jungfer ist 12 Jahre alt und hat zu viel Wasser in den Beinen.</td>\n",
              "    </tr>\n",
              "  </tbody>\n",
              "</table>\n",
              "</div>\n",
              "      <button class=\"colab-df-convert\" onclick=\"convertToInteractive('df-75c95a11-2074-4f24-87c2-6f944964c00b')\"\n",
              "              title=\"Convert this dataframe to an interactive table.\"\n",
              "              style=\"display:none;\">\n",
              "        \n",
              "  <svg xmlns=\"http://www.w3.org/2000/svg\" height=\"24px\"viewBox=\"0 0 24 24\"\n",
              "       width=\"24px\">\n",
              "    <path d=\"M0 0h24v24H0V0z\" fill=\"none\"/>\n",
              "    <path d=\"M18.56 5.44l.94 2.06.94-2.06 2.06-.94-2.06-.94-.94-2.06-.94 2.06-2.06.94zm-11 1L8.5 8.5l.94-2.06 2.06-.94-2.06-.94L8.5 2.5l-.94 2.06-2.06.94zm10 10l.94 2.06.94-2.06 2.06-.94-2.06-.94-.94-2.06-.94 2.06-2.06.94z\"/><path d=\"M17.41 7.96l-1.37-1.37c-.4-.4-.92-.59-1.43-.59-.52 0-1.04.2-1.43.59L10.3 9.45l-7.72 7.72c-.78.78-.78 2.05 0 2.83L4 21.41c.39.39.9.59 1.41.59.51 0 1.02-.2 1.41-.59l7.78-7.78 2.81-2.81c.8-.78.8-2.07 0-2.86zM5.41 20L4 18.59l7.72-7.72 1.47 1.35L5.41 20z\"/>\n",
              "  </svg>\n",
              "      </button>\n",
              "      \n",
              "  <style>\n",
              "    .colab-df-container {\n",
              "      display:flex;\n",
              "      flex-wrap:wrap;\n",
              "      gap: 12px;\n",
              "    }\n",
              "\n",
              "    .colab-df-convert {\n",
              "      background-color: #E8F0FE;\n",
              "      border: none;\n",
              "      border-radius: 50%;\n",
              "      cursor: pointer;\n",
              "      display: none;\n",
              "      fill: #1967D2;\n",
              "      height: 32px;\n",
              "      padding: 0 0 0 0;\n",
              "      width: 32px;\n",
              "    }\n",
              "\n",
              "    .colab-df-convert:hover {\n",
              "      background-color: #E2EBFA;\n",
              "      box-shadow: 0px 1px 2px rgba(60, 64, 67, 0.3), 0px 1px 3px 1px rgba(60, 64, 67, 0.15);\n",
              "      fill: #174EA6;\n",
              "    }\n",
              "\n",
              "    [theme=dark] .colab-df-convert {\n",
              "      background-color: #3B4455;\n",
              "      fill: #D2E3FC;\n",
              "    }\n",
              "\n",
              "    [theme=dark] .colab-df-convert:hover {\n",
              "      background-color: #434B5C;\n",
              "      box-shadow: 0px 1px 3px 1px rgba(0, 0, 0, 0.15);\n",
              "      filter: drop-shadow(0px 1px 2px rgba(0, 0, 0, 0.3));\n",
              "      fill: #FFFFFF;\n",
              "    }\n",
              "  </style>\n",
              "\n",
              "      <script>\n",
              "        const buttonEl =\n",
              "          document.querySelector('#df-75c95a11-2074-4f24-87c2-6f944964c00b button.colab-df-convert');\n",
              "        buttonEl.style.display =\n",
              "          google.colab.kernel.accessAllowed ? 'block' : 'none';\n",
              "\n",
              "        async function convertToInteractive(key) {\n",
              "          const element = document.querySelector('#df-75c95a11-2074-4f24-87c2-6f944964c00b');\n",
              "          const dataTable =\n",
              "            await google.colab.kernel.invokeFunction('convertToInteractive',\n",
              "                                                     [key], {});\n",
              "          if (!dataTable) return;\n",
              "\n",
              "          const docLinkHtml = 'Like what you see? Visit the ' +\n",
              "            '<a target=\"_blank\" href=https://colab.research.google.com/notebooks/data_table.ipynb>data table notebook</a>'\n",
              "            + ' to learn more about interactive tables.';\n",
              "          element.innerHTML = '';\n",
              "          dataTable['output_type'] = 'display_data';\n",
              "          await google.colab.output.renderOutput(dataTable, element);\n",
              "          const docLink = document.createElement('div');\n",
              "          docLink.innerHTML = docLinkHtml;\n",
              "          element.appendChild(docLink);\n",
              "        }\n",
              "      </script>\n",
              "    </div>\n",
              "  </div>\n",
              "  "
            ]
          },
          "metadata": {},
          "execution_count": 18
        }
      ],
      "source": [
        "pd.set_option(\"display.max_colwidth\", 100)\n",
        "\n",
        "result_lp_de = deid_lp_de.annotate(text)\n",
        "\n",
        "df_de = pd.DataFrame(list(zip(result_lp_de[\"masked_with_entity\"], result_lp_de[\"masked_with_chars\"],\n",
        "                           result_lp_de[\"masked_fixed_length_chars\"], result_lp_de[\"obfuscated\"])),\n",
        "                 columns= [\"Masked\", \"Masked with Chars\", \"Masked with Fixed Chars\", \"Obfuscated\"])\n",
        "\n",
        "df_de"
      ]
    },
    {
      "cell_type": "markdown",
      "metadata": {
        "id": "-23TgIi2-ogm"
      },
      "source": [
        "### Faker mode"
      ]
    },
    {
      "cell_type": "code",
      "execution_count": null,
      "metadata": {
        "id": "ACPYRHr_-ogn"
      },
      "outputs": [],
      "source": [
        "deid_obfuscated_faker = DeIdentification()\\\n",
        "    .setInputCols([\"sentence\", \"token\", \"ner_chunk_subentity\"]) \\\n",
        "    .setOutputCol(\"obfuscated\") \\\n",
        "    .setMode(\"obfuscate\")\\\n",
        "    .setLanguage('de')\\\n",
        "    .setObfuscateDate(True)\\\n",
        "    .setObfuscateRefSource('faker')"
      ]
    },
    {
      "cell_type": "code",
      "execution_count": null,
      "metadata": {
        "id": "YSEA5k0W-ogn"
      },
      "outputs": [],
      "source": [
        "nlpPipeline_de = Pipeline(stages=[\n",
        "      documentAssembler, \n",
        "      sentencerDL,\n",
        "      tokenizer,\n",
        "      word_embeddings_de,\n",
        "      ner_subentity_de,\n",
        "      ner_converter_subentity,\n",
        "      deid_masked_entity,\n",
        "      deid_masked_char,\n",
        "      deid_masked_fixed_char,\n",
        "      deid_obfuscated_faker\n",
        "      ])\n",
        "\n",
        "empty_data = spark.createDataFrame([[\"\"]]).toDF(\"text\")\n",
        "model_de = nlpPipeline_de.fit(empty_data)"
      ]
    },
    {
      "cell_type": "code",
      "execution_count": null,
      "metadata": {
        "id": "AHb-MFBd-ogn"
      },
      "outputs": [],
      "source": [
        "deid_lp_de = LightPipeline(model_de)"
      ]
    },
    {
      "cell_type": "code",
      "execution_count": null,
      "metadata": {
        "id": "77Nh9UlW-ogn"
      },
      "outputs": [],
      "source": [
        "text = \"\"\"Michael Berger wird am Morgen des 12 Dezember 2018 ins St. Elisabeth-Krankenhaus in Bad Kissingen eingeliefert. Herr Berger ist 76 Jahre alt und hat zu viel Wasser in den Beinen.\"\"\""
      ]
    },
    {
      "cell_type": "code",
      "execution_count": null,
      "metadata": {
        "colab": {
          "base_uri": "https://localhost:8080/",
          "height": 240
        },
        "id": "u_Hm4pAoHteb",
        "outputId": "9efdea97-3fbe-46d4-85cf-a111cb4d7a81"
      },
      "outputs": [
        {
          "output_type": "execute_result",
          "data": {
            "text/plain": [
              "                                                                     Masked                                                                                    Masked with Chars                                             Masked with Fixed Chars                                                                                       Obfuscated\n",
              "0      <PATIENT> wird am Morgen des <DATE> ins St. <HOSPITAL> eingeliefert.  [************] wird am Morgen des [**************] ins St. [************************************...             **** wird am Morgen des **** ins St. **** eingeliefert.  Sommer Barth wird am Morgen des 11-17-2000 ins St. LAREDO REHABILITATION HOSPITAL eingeliefert.\n",
              "1  Herr <PATIENT> ist <AGE> Jahre alt und hat zu viel Wasser in den Beinen.                                   Herr [****] ist ** Jahre alt und hat zu viel Wasser in den Beinen.  Herr **** ist **** Jahre alt und hat zu viel Wasser in den Beinen.                       Herr Bormann Lorenz ist 63 Jahre alt und hat zu viel Wasser in den Beinen."
            ],
            "text/html": [
              "\n",
              "  <div id=\"df-4c0522b1-6b43-40e7-892b-4ce3d4801a15\">\n",
              "    <div class=\"colab-df-container\">\n",
              "      <div>\n",
              "<style scoped>\n",
              "    .dataframe tbody tr th:only-of-type {\n",
              "        vertical-align: middle;\n",
              "    }\n",
              "\n",
              "    .dataframe tbody tr th {\n",
              "        vertical-align: top;\n",
              "    }\n",
              "\n",
              "    .dataframe thead th {\n",
              "        text-align: right;\n",
              "    }\n",
              "</style>\n",
              "<table border=\"1\" class=\"dataframe\">\n",
              "  <thead>\n",
              "    <tr style=\"text-align: right;\">\n",
              "      <th></th>\n",
              "      <th>Masked</th>\n",
              "      <th>Masked with Chars</th>\n",
              "      <th>Masked with Fixed Chars</th>\n",
              "      <th>Obfuscated</th>\n",
              "    </tr>\n",
              "  </thead>\n",
              "  <tbody>\n",
              "    <tr>\n",
              "      <th>0</th>\n",
              "      <td>&lt;PATIENT&gt; wird am Morgen des &lt;DATE&gt; ins St. &lt;HOSPITAL&gt; eingeliefert.</td>\n",
              "      <td>[************] wird am Morgen des [**************] ins St. [************************************...</td>\n",
              "      <td>**** wird am Morgen des **** ins St. **** eingeliefert.</td>\n",
              "      <td>Sommer Barth wird am Morgen des 11-17-2000 ins St. LAREDO REHABILITATION HOSPITAL eingeliefert.</td>\n",
              "    </tr>\n",
              "    <tr>\n",
              "      <th>1</th>\n",
              "      <td>Herr &lt;PATIENT&gt; ist &lt;AGE&gt; Jahre alt und hat zu viel Wasser in den Beinen.</td>\n",
              "      <td>Herr [****] ist ** Jahre alt und hat zu viel Wasser in den Beinen.</td>\n",
              "      <td>Herr **** ist **** Jahre alt und hat zu viel Wasser in den Beinen.</td>\n",
              "      <td>Herr Bormann Lorenz ist 63 Jahre alt und hat zu viel Wasser in den Beinen.</td>\n",
              "    </tr>\n",
              "  </tbody>\n",
              "</table>\n",
              "</div>\n",
              "      <button class=\"colab-df-convert\" onclick=\"convertToInteractive('df-4c0522b1-6b43-40e7-892b-4ce3d4801a15')\"\n",
              "              title=\"Convert this dataframe to an interactive table.\"\n",
              "              style=\"display:none;\">\n",
              "        \n",
              "  <svg xmlns=\"http://www.w3.org/2000/svg\" height=\"24px\"viewBox=\"0 0 24 24\"\n",
              "       width=\"24px\">\n",
              "    <path d=\"M0 0h24v24H0V0z\" fill=\"none\"/>\n",
              "    <path d=\"M18.56 5.44l.94 2.06.94-2.06 2.06-.94-2.06-.94-.94-2.06-.94 2.06-2.06.94zm-11 1L8.5 8.5l.94-2.06 2.06-.94-2.06-.94L8.5 2.5l-.94 2.06-2.06.94zm10 10l.94 2.06.94-2.06 2.06-.94-2.06-.94-.94-2.06-.94 2.06-2.06.94z\"/><path d=\"M17.41 7.96l-1.37-1.37c-.4-.4-.92-.59-1.43-.59-.52 0-1.04.2-1.43.59L10.3 9.45l-7.72 7.72c-.78.78-.78 2.05 0 2.83L4 21.41c.39.39.9.59 1.41.59.51 0 1.02-.2 1.41-.59l7.78-7.78 2.81-2.81c.8-.78.8-2.07 0-2.86zM5.41 20L4 18.59l7.72-7.72 1.47 1.35L5.41 20z\"/>\n",
              "  </svg>\n",
              "      </button>\n",
              "      \n",
              "  <style>\n",
              "    .colab-df-container {\n",
              "      display:flex;\n",
              "      flex-wrap:wrap;\n",
              "      gap: 12px;\n",
              "    }\n",
              "\n",
              "    .colab-df-convert {\n",
              "      background-color: #E8F0FE;\n",
              "      border: none;\n",
              "      border-radius: 50%;\n",
              "      cursor: pointer;\n",
              "      display: none;\n",
              "      fill: #1967D2;\n",
              "      height: 32px;\n",
              "      padding: 0 0 0 0;\n",
              "      width: 32px;\n",
              "    }\n",
              "\n",
              "    .colab-df-convert:hover {\n",
              "      background-color: #E2EBFA;\n",
              "      box-shadow: 0px 1px 2px rgba(60, 64, 67, 0.3), 0px 1px 3px 1px rgba(60, 64, 67, 0.15);\n",
              "      fill: #174EA6;\n",
              "    }\n",
              "\n",
              "    [theme=dark] .colab-df-convert {\n",
              "      background-color: #3B4455;\n",
              "      fill: #D2E3FC;\n",
              "    }\n",
              "\n",
              "    [theme=dark] .colab-df-convert:hover {\n",
              "      background-color: #434B5C;\n",
              "      box-shadow: 0px 1px 3px 1px rgba(0, 0, 0, 0.15);\n",
              "      filter: drop-shadow(0px 1px 2px rgba(0, 0, 0, 0.3));\n",
              "      fill: #FFFFFF;\n",
              "    }\n",
              "  </style>\n",
              "\n",
              "      <script>\n",
              "        const buttonEl =\n",
              "          document.querySelector('#df-4c0522b1-6b43-40e7-892b-4ce3d4801a15 button.colab-df-convert');\n",
              "        buttonEl.style.display =\n",
              "          google.colab.kernel.accessAllowed ? 'block' : 'none';\n",
              "\n",
              "        async function convertToInteractive(key) {\n",
              "          const element = document.querySelector('#df-4c0522b1-6b43-40e7-892b-4ce3d4801a15');\n",
              "          const dataTable =\n",
              "            await google.colab.kernel.invokeFunction('convertToInteractive',\n",
              "                                                     [key], {});\n",
              "          if (!dataTable) return;\n",
              "\n",
              "          const docLinkHtml = 'Like what you see? Visit the ' +\n",
              "            '<a target=\"_blank\" href=https://colab.research.google.com/notebooks/data_table.ipynb>data table notebook</a>'\n",
              "            + ' to learn more about interactive tables.';\n",
              "          element.innerHTML = '';\n",
              "          dataTable['output_type'] = 'display_data';\n",
              "          await google.colab.output.renderOutput(dataTable, element);\n",
              "          const docLink = document.createElement('div');\n",
              "          docLink.innerHTML = docLinkHtml;\n",
              "          element.appendChild(docLink);\n",
              "        }\n",
              "      </script>\n",
              "    </div>\n",
              "  </div>\n",
              "  "
            ]
          },
          "metadata": {},
          "execution_count": 23
        }
      ],
      "source": [
        "pd.set_option(\"display.max_colwidth\", 100)\n",
        "\n",
        "result_de = deid_lp_de.annotate(text)\n",
        "\n",
        "df_de = pd.DataFrame(list(zip(result_de[\"masked_with_entity\"], result_de[\"masked_with_chars\"],\n",
        "                           result_de[\"masked_fixed_length_chars\"], result_de[\"obfuscated\"])),\n",
        "                 columns= [\"Masked\", \"Masked with Chars\", \"Masked with Fixed Chars\", \"Obfuscated\"])\n",
        "\n",
        "df_de"
      ]
    },
    {
      "cell_type": "markdown",
      "metadata": {
        "id": "RRuq9NeemSaf"
      },
      "source": [
        "## Pretrained German Deidentification Pipeline\n",
        "\n",
        "- We developed a clinical deidentification pretrained pipeline that can be used to deidentify PHI information from German medical texts. The PHI information will be masked and obfuscated in the resulting text. \n",
        "- The pipeline can mask and obfuscate:\n",
        "    - Patient\n",
        "    - Doctor\n",
        "    - Hospital\n",
        "    - Date\n",
        "    - Organization\n",
        "    - City\n",
        "    - Street\n",
        "    - Country\n",
        "    - User name\n",
        "    - Profession\n",
        "    - Phone\n",
        "    - Age\n",
        "    - Contact\n",
        "    - ID\n",
        "    - Phone\n",
        "    - Zip\n",
        "    - Account\n",
        "    - SSN\n",
        "    - Driver's License Number\n",
        "    - Plate Number"
      ]
    },
    {
      "cell_type": "code",
      "execution_count": null,
      "metadata": {
        "colab": {
          "base_uri": "https://localhost:8080/"
        },
        "id": "_vBWjdVTFGHD",
        "outputId": "b9707d52-1148-4e96-97d1-21595f5acc16"
      },
      "outputs": [
        {
          "output_type": "stream",
          "name": "stdout",
          "text": [
            "clinical_deidentification download started this may take some time.\n",
            "Approx size to download 1.2 GB\n",
            "[OK!]\n"
          ]
        }
      ],
      "source": [
        "from sparknlp.pretrained import PretrainedPipeline\n",
        "\n",
        "deid_pipeline_de = PretrainedPipeline(\"clinical_deidentification\", \"de\", \"clinical/models\")"
      ]
    },
    {
      "cell_type": "code",
      "execution_count": null,
      "metadata": {
        "colab": {
          "base_uri": "https://localhost:8080/",
          "height": 497
        },
        "id": "TQ2Gk7lSEjgp",
        "outputId": "8c9cdd85-3202-4a03-cd7d-cc6325c7e810"
      },
      "outputs": [
        {
          "output_type": "execute_result",
          "data": {
            "text/plain": [
              "                                                                                              Sentence                                                                              Masked                                                                                    Masked with Chars                                                Masked with Fixed Chars                                                                                           Obfuscated\n",
              "0  Zusammenfassung : Michael Berger wird am Morgen des 12 Dezember 2018 ins St.Elisabeth Krankenhau...  Zusammenfassung : <PATIENT> wird am Morgen des <DATE> ins <HOSPITAL> eingeliefert.  Zusammenfassung : [************] wird am Morgen des [**************] ins [**********************...  Zusammenfassung : **** wird am Morgen des **** ins **** eingeliefert.  Zusammenfassung : Hollmann Burmeister wird am Morgen des 11-01-1970 ins SAN RAMON REGIONAL MEDIC...\n",
              "1                           Herr Michael Berger ist 76 Jahre alt und hat zu viel Wasser in den Beinen.            Herr <PATIENT> ist <AGE> Jahre alt und hat zu viel Wasser in den Beinen.                           Herr [************] ist ** Jahre alt und hat zu viel Wasser in den Beinen.     Herr **** ist **** Jahre alt und hat zu viel Wasser in den Beinen.                      Herr Hollmann Burmeister ist 10 Jahre alt und hat zu viel Wasser in den Beinen.\n",
              "2                                                            Persönliche Daten :\\nID-Nummer: T0110053F                                                Persönliche Daten :\\nID-Nummer: <ID>                                                            Persönliche Daten :\\nID-Nummer: [*******]                                   Persönliche Daten :\\nID-Nummer: ****                                                             Persönliche Daten :\\nID-Nummer: L6043236\n",
              "3                                                                                       Platte A-BC124                                                                      Platte <PLATE>                                                                                       Platte [*****]                                                            Platte ****                                                                                        Platte QA348G\n",
              "4                                              Kontonummer: DE89370400440532013000\\nSSN : 13110587M565                                                 Kontonummer: <ACCOUNT>\\nSSN : <SSN>                                              Kontonummer: [********************]\\nSSN : [**********]                                          Kontonummer: ****\\nSSN : ****                                                         Kontonummer: 192837465738\\nSSN : 999-30-4262\n",
              "5                                                                            Lizenznummer: B072RRE2I55                                                                 Lizenznummer: <DLN>                                                                            Lizenznummer: [*********]                                                     Lizenznummer: ****                                                                              Lizenznummer: S99913378\n",
              "6                                                                  Adresse : St.Johann-Straße 13 19300                                                            Adresse : <STREET> <ZIP>                                                                  Adresse : [*****************] [***]                                                    Adresse : **** ****                                                              Adresse : Guntram-Hofmann-Gasse 6 20044"
            ],
            "text/html": [
              "\n",
              "  <div id=\"df-dff5b771-0e7c-44f0-9e07-883b8b6d3e99\">\n",
              "    <div class=\"colab-df-container\">\n",
              "      <div>\n",
              "<style scoped>\n",
              "    .dataframe tbody tr th:only-of-type {\n",
              "        vertical-align: middle;\n",
              "    }\n",
              "\n",
              "    .dataframe tbody tr th {\n",
              "        vertical-align: top;\n",
              "    }\n",
              "\n",
              "    .dataframe thead th {\n",
              "        text-align: right;\n",
              "    }\n",
              "</style>\n",
              "<table border=\"1\" class=\"dataframe\">\n",
              "  <thead>\n",
              "    <tr style=\"text-align: right;\">\n",
              "      <th></th>\n",
              "      <th>Sentence</th>\n",
              "      <th>Masked</th>\n",
              "      <th>Masked with Chars</th>\n",
              "      <th>Masked with Fixed Chars</th>\n",
              "      <th>Obfuscated</th>\n",
              "    </tr>\n",
              "  </thead>\n",
              "  <tbody>\n",
              "    <tr>\n",
              "      <th>0</th>\n",
              "      <td>Zusammenfassung : Michael Berger wird am Morgen des 12 Dezember 2018 ins St.Elisabeth Krankenhau...</td>\n",
              "      <td>Zusammenfassung : &lt;PATIENT&gt; wird am Morgen des &lt;DATE&gt; ins &lt;HOSPITAL&gt; eingeliefert.</td>\n",
              "      <td>Zusammenfassung : [************] wird am Morgen des [**************] ins [**********************...</td>\n",
              "      <td>Zusammenfassung : **** wird am Morgen des **** ins **** eingeliefert.</td>\n",
              "      <td>Zusammenfassung : Hollmann Burmeister wird am Morgen des 11-01-1970 ins SAN RAMON REGIONAL MEDIC...</td>\n",
              "    </tr>\n",
              "    <tr>\n",
              "      <th>1</th>\n",
              "      <td>Herr Michael Berger ist 76 Jahre alt und hat zu viel Wasser in den Beinen.</td>\n",
              "      <td>Herr &lt;PATIENT&gt; ist &lt;AGE&gt; Jahre alt und hat zu viel Wasser in den Beinen.</td>\n",
              "      <td>Herr [************] ist ** Jahre alt und hat zu viel Wasser in den Beinen.</td>\n",
              "      <td>Herr **** ist **** Jahre alt und hat zu viel Wasser in den Beinen.</td>\n",
              "      <td>Herr Hollmann Burmeister ist 10 Jahre alt und hat zu viel Wasser in den Beinen.</td>\n",
              "    </tr>\n",
              "    <tr>\n",
              "      <th>2</th>\n",
              "      <td>Persönliche Daten :\\nID-Nummer: T0110053F</td>\n",
              "      <td>Persönliche Daten :\\nID-Nummer: &lt;ID&gt;</td>\n",
              "      <td>Persönliche Daten :\\nID-Nummer: [*******]</td>\n",
              "      <td>Persönliche Daten :\\nID-Nummer: ****</td>\n",
              "      <td>Persönliche Daten :\\nID-Nummer: L6043236</td>\n",
              "    </tr>\n",
              "    <tr>\n",
              "      <th>3</th>\n",
              "      <td>Platte A-BC124</td>\n",
              "      <td>Platte &lt;PLATE&gt;</td>\n",
              "      <td>Platte [*****]</td>\n",
              "      <td>Platte ****</td>\n",
              "      <td>Platte QA348G</td>\n",
              "    </tr>\n",
              "    <tr>\n",
              "      <th>4</th>\n",
              "      <td>Kontonummer: DE89370400440532013000\\nSSN : 13110587M565</td>\n",
              "      <td>Kontonummer: &lt;ACCOUNT&gt;\\nSSN : &lt;SSN&gt;</td>\n",
              "      <td>Kontonummer: [********************]\\nSSN : [**********]</td>\n",
              "      <td>Kontonummer: ****\\nSSN : ****</td>\n",
              "      <td>Kontonummer: 192837465738\\nSSN : 999-30-4262</td>\n",
              "    </tr>\n",
              "    <tr>\n",
              "      <th>5</th>\n",
              "      <td>Lizenznummer: B072RRE2I55</td>\n",
              "      <td>Lizenznummer: &lt;DLN&gt;</td>\n",
              "      <td>Lizenznummer: [*********]</td>\n",
              "      <td>Lizenznummer: ****</td>\n",
              "      <td>Lizenznummer: S99913378</td>\n",
              "    </tr>\n",
              "    <tr>\n",
              "      <th>6</th>\n",
              "      <td>Adresse : St.Johann-Straße 13 19300</td>\n",
              "      <td>Adresse : &lt;STREET&gt; &lt;ZIP&gt;</td>\n",
              "      <td>Adresse : [*****************] [***]</td>\n",
              "      <td>Adresse : **** ****</td>\n",
              "      <td>Adresse : Guntram-Hofmann-Gasse 6 20044</td>\n",
              "    </tr>\n",
              "  </tbody>\n",
              "</table>\n",
              "</div>\n",
              "      <button class=\"colab-df-convert\" onclick=\"convertToInteractive('df-dff5b771-0e7c-44f0-9e07-883b8b6d3e99')\"\n",
              "              title=\"Convert this dataframe to an interactive table.\"\n",
              "              style=\"display:none;\">\n",
              "        \n",
              "  <svg xmlns=\"http://www.w3.org/2000/svg\" height=\"24px\"viewBox=\"0 0 24 24\"\n",
              "       width=\"24px\">\n",
              "    <path d=\"M0 0h24v24H0V0z\" fill=\"none\"/>\n",
              "    <path d=\"M18.56 5.44l.94 2.06.94-2.06 2.06-.94-2.06-.94-.94-2.06-.94 2.06-2.06.94zm-11 1L8.5 8.5l.94-2.06 2.06-.94-2.06-.94L8.5 2.5l-.94 2.06-2.06.94zm10 10l.94 2.06.94-2.06 2.06-.94-2.06-.94-.94-2.06-.94 2.06-2.06.94z\"/><path d=\"M17.41 7.96l-1.37-1.37c-.4-.4-.92-.59-1.43-.59-.52 0-1.04.2-1.43.59L10.3 9.45l-7.72 7.72c-.78.78-.78 2.05 0 2.83L4 21.41c.39.39.9.59 1.41.59.51 0 1.02-.2 1.41-.59l7.78-7.78 2.81-2.81c.8-.78.8-2.07 0-2.86zM5.41 20L4 18.59l7.72-7.72 1.47 1.35L5.41 20z\"/>\n",
              "  </svg>\n",
              "      </button>\n",
              "      \n",
              "  <style>\n",
              "    .colab-df-container {\n",
              "      display:flex;\n",
              "      flex-wrap:wrap;\n",
              "      gap: 12px;\n",
              "    }\n",
              "\n",
              "    .colab-df-convert {\n",
              "      background-color: #E8F0FE;\n",
              "      border: none;\n",
              "      border-radius: 50%;\n",
              "      cursor: pointer;\n",
              "      display: none;\n",
              "      fill: #1967D2;\n",
              "      height: 32px;\n",
              "      padding: 0 0 0 0;\n",
              "      width: 32px;\n",
              "    }\n",
              "\n",
              "    .colab-df-convert:hover {\n",
              "      background-color: #E2EBFA;\n",
              "      box-shadow: 0px 1px 2px rgba(60, 64, 67, 0.3), 0px 1px 3px 1px rgba(60, 64, 67, 0.15);\n",
              "      fill: #174EA6;\n",
              "    }\n",
              "\n",
              "    [theme=dark] .colab-df-convert {\n",
              "      background-color: #3B4455;\n",
              "      fill: #D2E3FC;\n",
              "    }\n",
              "\n",
              "    [theme=dark] .colab-df-convert:hover {\n",
              "      background-color: #434B5C;\n",
              "      box-shadow: 0px 1px 3px 1px rgba(0, 0, 0, 0.15);\n",
              "      filter: drop-shadow(0px 1px 2px rgba(0, 0, 0, 0.3));\n",
              "      fill: #FFFFFF;\n",
              "    }\n",
              "  </style>\n",
              "\n",
              "      <script>\n",
              "        const buttonEl =\n",
              "          document.querySelector('#df-dff5b771-0e7c-44f0-9e07-883b8b6d3e99 button.colab-df-convert');\n",
              "        buttonEl.style.display =\n",
              "          google.colab.kernel.accessAllowed ? 'block' : 'none';\n",
              "\n",
              "        async function convertToInteractive(key) {\n",
              "          const element = document.querySelector('#df-dff5b771-0e7c-44f0-9e07-883b8b6d3e99');\n",
              "          const dataTable =\n",
              "            await google.colab.kernel.invokeFunction('convertToInteractive',\n",
              "                                                     [key], {});\n",
              "          if (!dataTable) return;\n",
              "\n",
              "          const docLinkHtml = 'Like what you see? Visit the ' +\n",
              "            '<a target=\"_blank\" href=https://colab.research.google.com/notebooks/data_table.ipynb>data table notebook</a>'\n",
              "            + ' to learn more about interactive tables.';\n",
              "          element.innerHTML = '';\n",
              "          dataTable['output_type'] = 'display_data';\n",
              "          await google.colab.output.renderOutput(dataTable, element);\n",
              "          const docLink = document.createElement('div');\n",
              "          docLink.innerHTML = docLinkHtml;\n",
              "          element.appendChild(docLink);\n",
              "        }\n",
              "      </script>\n",
              "    </div>\n",
              "  </div>\n",
              "  "
            ]
          },
          "metadata": {},
          "execution_count": 25
        }
      ],
      "source": [
        "pd.set_option(\"display.max_colwidth\", 100)\n",
        "\n",
        "text = \"\"\"Zusammenfassung : Michael Berger wird am Morgen des 12 Dezember 2018 ins St.Elisabeth Krankenhaus in Bad Kissingen eingeliefert. \n",
        "Herr Michael Berger ist 76 Jahre alt und hat zu viel Wasser in den Beinen.\n",
        "\n",
        "Persönliche Daten :\n",
        "ID-Nummer: T0110053F\n",
        "Platte A-BC124\n",
        "Kontonummer: DE89370400440532013000\n",
        "SSN : 13110587M565\n",
        "Lizenznummer: B072RRE2I55\n",
        "Adresse : St.Johann-Straße 13 19300\"\"\"\n",
        "\n",
        "result_de = deid_pipeline_de.annotate(text)\n",
        "\n",
        "df_de = pd.DataFrame(list(zip(result_de[\"sentence\"], result_de[\"masked\"],\n",
        "                           result_de[\"masked_with_chars\"], result_de[\"masked_fixed_length_chars\"], result_de[\"obfuscated\"])),\n",
        "                 columns= [\"Sentence\", \"Masked\", \"Masked with Chars\", \"Masked with Fixed Chars\", \"Obfuscated\"])\n",
        "\n",
        "df_de"
      ]
    },
    {
      "cell_type": "markdown",
      "metadata": {
        "id": "_80-m7-5Xajf"
      },
      "source": [
        "# DE-IDENTIFICATION FOR SPANISH"
      ]
    },
    {
      "cell_type": "markdown",
      "metadata": {
        "id": "JMYFKOHOXHE5"
      },
      "source": [
        "##   Spanish Deidentification NER Models\n",
        "We have eight different models you can use:\n",
        "* `ner_deid_generic`, detects 7 entities, uses SciWiki 300d embeddings.\n",
        "* `ner_deid_generic_roberta`, same as previous, but uses Roberta Clinical Embeddings.\n",
        "* `ner_deid_generic_augmented`, detects 8 entities (now includes 'SEX' entity), uses SciWiki 300d embeddings and has been trained with more data\n",
        "* `ner_deid_generic_roberta_augmented`, same as previous, but uses Roberta Clinical Embeddings.\n",
        "* `ner_deid_subentity`, detects 13 entities, uses SciWiki 300d embeddings.\n",
        "* `ner_deid_subentity_roberta`, same as previous, but uses Roberta Clinical Embeddings.\n",
        "* `ner_deid_subentity_augmented`, detects 17 entities, uses SciWiki 300d embeddings and has been trained with more data.\n",
        "* `ner_deid_subentity_roberta_augmented`, same as previous, but uses Roberta Clinical Embeddings.\n",
        "\n",
        "Since `augmented` models improve their results compared to the non augmented ones, we are going to show case them in this notebook"
      ]
    },
    {
      "cell_type": "markdown",
      "metadata": {
        "id": "9Cz_OGMI5mlg"
      },
      "source": [
        "|index|model|lang|index|model|lang|\n",
        "|-----:|:-----|----|-----:|:-----|----|\n",
        "| 1| [ner_deid_generic](https://nlp.johnsnowlabs.com/2022/01/18/ner_deid_generic_es.html)  |es| 5| [ner_deid_subentity](https://nlp.johnsnowlabs.com/2022/01/18/ner_deid_subentity_es.html)  |es|\n",
        "| 2| [ner_deid_generic_augmented](https://nlp.johnsnowlabs.com/2022/02/16/ner_deid_generic_augmented_es.html)  |es| 6| [ner_deid_subentity_augmented](https://nlp.johnsnowlabs.com/2022/02/16/ner_deid_subentity_augmented_es.html)  |es|\n",
        "| 3| [ner_deid_generic_roberta](https://nlp.johnsnowlabs.com/2022/01/17/ner_deid_generic_roberta_es.html)  |es| 7| [ner_deid_subentity_roberta](https://nlp.johnsnowlabs.com/2022/01/17/ner_deid_subentity_roberta_es.html)  |es|\n",
        "| 4| [ner_deid_generic_roberta_augmented](https://nlp.johnsnowlabs.com/2022/02/16/ner_deid_generic_roberta_augmented_es.html)  |es| 8| [ner_deid_subentity_roberta_augmented](https://nlp.johnsnowlabs.com/2022/02/16/ner_deid_subentity_roberta_augmented_es.html)  |es|\n"
      ]
    },
    {
      "cell_type": "markdown",
      "metadata": {
        "id": "TolFnQa-XHE5"
      },
      "source": [
        "Creating pipeline for Sciwiki 300d-based augmented model"
      ]
    },
    {
      "cell_type": "code",
      "execution_count": null,
      "metadata": {
        "colab": {
          "base_uri": "https://localhost:8080/"
        },
        "id": "PVYHHQdYXHE5",
        "outputId": "e29cafac-2e89-46e0-f308-c1c41f8784d8"
      },
      "outputs": [
        {
          "output_type": "stream",
          "name": "stdout",
          "text": [
            "sentence_detector_dl download started this may take some time.\n",
            "Approximate size to download 514.9 KB\n",
            "[OK!]\n",
            "embeddings_sciwiki_300d download started this may take some time.\n",
            "Approximate size to download 253.3 MB\n",
            "[OK!]\n"
          ]
        }
      ],
      "source": [
        "# Annotator that transforms a text column from dataframe into an Annotation ready for NLP\n",
        "documentAssembler = DocumentAssembler()\\\n",
        "    .setInputCol(\"text\")\\\n",
        "    .setOutputCol(\"document\")\n",
        "\n",
        "sentencerDL = SentenceDetectorDLModel.pretrained(\"sentence_detector_dl\", \"xx\") \\\n",
        "    .setInputCols([\"document\"])\\\n",
        "    .setOutputCol(\"sentence\")\n",
        "\n",
        "# Tokenizer splits words in a relevant format for NLP\n",
        "tokenizer = Tokenizer()\\\n",
        "    .setInputCols([\"sentence\"])\\\n",
        "    .setOutputCol(\"token\")\n",
        "\n",
        "word_embeddings_es = WordEmbeddingsModel.pretrained(\"embeddings_sciwiki_300d\",\"es\",\"clinical/models\")\\\n",
        "    .setInputCols([\"document\",\"token\"])\\\n",
        "\t  .setOutputCol(\"embeddings\")"
      ]
    },
    {
      "cell_type": "markdown",
      "metadata": {
        "id": "maZ1KCAaXHE6"
      },
      "source": [
        "###   NER Deid Generic (Augmented)\n",
        "\n",
        "**`ner_deid_generic_augmented`** extracts:\n",
        "- Name\n",
        "- Profession\n",
        "- Age\n",
        "- Date\n",
        "- Contact (Telephone numbers, FAX numbers, Email addresses)\n",
        "- Location (Address, City, Postal code, Hospital Name, Employment information)\n",
        "- Id (Social Security numbers, Medical record numbers, Internet protocol addresses)\n",
        "- Sex\n",
        "\n"
      ]
    },
    {
      "cell_type": "code",
      "execution_count": null,
      "metadata": {
        "colab": {
          "base_uri": "https://localhost:8080/"
        },
        "id": "wnBFRieQXHE6",
        "outputId": "b74c92cd-40d1-4cda-8d1f-e7e72ca615d5"
      },
      "outputs": [
        {
          "output_type": "stream",
          "name": "stdout",
          "text": [
            "ner_deid_generic_augmented download started this may take some time.\n",
            "[OK!]\n"
          ]
        }
      ],
      "source": [
        "ner_generic_es = MedicalNerModel.pretrained(\"ner_deid_generic_augmented\", \"es\", \"clinical/models\")\\\n",
        "    .setInputCols([\"sentence\",\"token\",\"embeddings\"])\\\n",
        "    .setOutputCol(\"ner_deid_generic\")\n",
        "\n",
        "ner_converter_generic = NerConverterInternal()\\\n",
        "    .setInputCols([\"sentence\",\"token\",\"ner_deid_generic\"])\\\n",
        "    .setOutputCol(\"ner_chunk_generic\")"
      ]
    },
    {
      "cell_type": "code",
      "execution_count": null,
      "metadata": {
        "colab": {
          "base_uri": "https://localhost:8080/"
        },
        "id": "S9n9xHzoXHE6",
        "outputId": "0a8ca2ca-a118-4006-9f93-27b992fb6787"
      },
      "outputs": [
        {
          "output_type": "execute_result",
          "data": {
            "text/plain": [
              "['O',\n",
              " 'I-LOCATION',\n",
              " 'B-ORGANIZATION',\n",
              " 'I-CONTACT',\n",
              " 'I-PROFESSION',\n",
              " 'I-NAME',\n",
              " 'I-DATE',\n",
              " 'B-ID',\n",
              " 'B-PROFESSION',\n",
              " 'B-CONTACT',\n",
              " 'I-ID',\n",
              " 'B-NAME',\n",
              " 'B-DATE',\n",
              " 'B-LOCATION',\n",
              " 'B-SEX',\n",
              " 'I-ORGANIZATION',\n",
              " 'B-AGE',\n",
              " 'I-SEX']"
            ]
          },
          "metadata": {},
          "execution_count": 28
        }
      ],
      "source": [
        "ner_generic_es.getClasses()"
      ]
    },
    {
      "cell_type": "markdown",
      "metadata": {
        "id": "sLss_aw7XHE6"
      },
      "source": [
        "###   NER Deid Subentity\n",
        "\n",
        "**`ner_deid_subentity`** extracts:\n",
        "\n",
        "- Patient\n",
        "- Doctor\n",
        "- Hospital\n",
        "- Date\n",
        "- Organization\n",
        "- City\n",
        "- Street\n",
        "- User Name\n",
        "- Profession\n",
        "- Phone\n",
        "- Country\n",
        "- Age\n",
        "- Sex\n",
        "- Email\n",
        "- ZIP\n",
        "- ID\n",
        "- Medical Record"
      ]
    },
    {
      "cell_type": "code",
      "execution_count": null,
      "metadata": {
        "colab": {
          "base_uri": "https://localhost:8080/"
        },
        "id": "raawYs53XHE6",
        "outputId": "5fb87059-8a7d-4c7a-d8cf-4704c74c36fe"
      },
      "outputs": [
        {
          "output_type": "stream",
          "name": "stdout",
          "text": [
            "ner_deid_subentity_augmented download started this may take some time.\n",
            "[OK!]\n"
          ]
        }
      ],
      "source": [
        "ner_subentity_es = MedicalNerModel.pretrained(\"ner_deid_subentity_augmented\", \"es\", \"clinical/models\")\\\n",
        "    .setInputCols([\"sentence\",\"token\",\"embeddings\"])\\\n",
        "    .setOutputCol(\"ner_deid_subentity\")\n",
        "\n",
        "ner_converter_subentity = NerConverterInternal()\\\n",
        "    .setInputCols([\"sentence\", \"token\", \"ner_deid_subentity\"])\\\n",
        "    .setOutputCol(\"ner_chunk_subentity\")"
      ]
    },
    {
      "cell_type": "code",
      "execution_count": null,
      "metadata": {
        "colab": {
          "base_uri": "https://localhost:8080/"
        },
        "id": "Xno97P8YXHE6",
        "outputId": "51124f72-f53c-4cfd-bf41-ddd170cec2a6"
      },
      "outputs": [
        {
          "output_type": "execute_result",
          "data": {
            "text/plain": [
              "['O',\n",
              " 'B-MEDICALRECORD',\n",
              " 'B-ORGANIZATION',\n",
              " 'I-PROFESSION',\n",
              " 'B-DOCTOR',\n",
              " 'B-USERNAME',\n",
              " 'B-PROFESSION',\n",
              " 'I-ID',\n",
              " 'B-CITY',\n",
              " 'B-DATE',\n",
              " 'B-PATIENT',\n",
              " 'B-SEX',\n",
              " 'I-SEX',\n",
              " 'I-DOCTOR',\n",
              " 'I-CITY',\n",
              " 'I-DATE',\n",
              " 'B-COUNTRY',\n",
              " 'B-ID',\n",
              " 'B-ZIP',\n",
              " 'I-STREET',\n",
              " 'I-PATIENT',\n",
              " 'B-PHONE',\n",
              " 'I-PHONE',\n",
              " 'B-HOSPITAL',\n",
              " 'B-EMAIL',\n",
              " 'B-STREET',\n",
              " 'I-ORGANIZATION',\n",
              " 'B-AGE',\n",
              " 'I-HOSPITAL',\n",
              " 'I-COUNTRY']"
            ]
          },
          "metadata": {},
          "execution_count": 30
        }
      ],
      "source": [
        "ner_subentity_es.getClasses()"
      ]
    },
    {
      "cell_type": "markdown",
      "metadata": {
        "id": "4ZE1mnoqXHE7"
      },
      "source": [
        "###   Pipeline"
      ]
    },
    {
      "cell_type": "code",
      "execution_count": null,
      "metadata": {
        "id": "Vt7JI4k_XHE7"
      },
      "outputs": [],
      "source": [
        "nlpPipeline_es = Pipeline(stages=[\n",
        "      documentAssembler, \n",
        "      sentencerDL,\n",
        "      tokenizer,\n",
        "      word_embeddings_es,\n",
        "      ner_generic_es,\n",
        "      ner_converter_generic,\n",
        "      ner_subentity_es,\n",
        "      ner_converter_subentity,\n",
        "      ])\n",
        "\n",
        "empty_data = spark.createDataFrame([[\"\"]]).toDF(\"text\")\n",
        "model_es = nlpPipeline_es.fit(empty_data)"
      ]
    },
    {
      "cell_type": "code",
      "execution_count": null,
      "metadata": {
        "id": "LjqB02K7XHE7"
      },
      "outputs": [],
      "source": [
        "text = \"Antonio Miguel Martínez, un varón de 35 años de edad, de profesión auxiliar de enfermería y nacido en Cadiz, España. Aún no estaba vacunado, se infectó con Covid-19 el dia 14/03/2022 y tuvo que ir al Hospital. Fue tratado con anticuerpos monoclonales en la Clinica San Carlos.\"\n",
        "\n",
        "text_df = spark.createDataFrame([[text]]).toDF(\"text\")\n",
        "result_es = model_es.transform(text_df)"
      ]
    },
    {
      "cell_type": "markdown",
      "metadata": {
        "id": "FjcoNbPWXHE7"
      },
      "source": [
        "Results for `ner_deid_subentity`"
      ]
    },
    {
      "cell_type": "code",
      "execution_count": null,
      "metadata": {
        "id": "a4WKlfC5XHE7",
        "colab": {
          "base_uri": "https://localhost:8080/"
        },
        "outputId": "93243230-1973-4df9-e39e-35742ff5b649"
      },
      "outputs": [
        {
          "output_type": "stream",
          "name": "stdout",
          "text": [
            "+-----------------------+----------+\n",
            "|chunk                  |ner_label |\n",
            "+-----------------------+----------+\n",
            "|Antonio Miguel Martínez|PATIENT   |\n",
            "|un varón               |SEX       |\n",
            "|35                     |AGE       |\n",
            "|auxiliar de enfermería |PROFESSION|\n",
            "|Cadiz                  |CITY      |\n",
            "|España                 |COUNTRY   |\n",
            "|14/03/2022             |DATE      |\n",
            "|Clinica San Carlos     |HOSPITAL  |\n",
            "+-----------------------+----------+\n",
            "\n"
          ]
        }
      ],
      "source": [
        "result_es.select(F.explode(F.arrays_zip(result_es.ner_chunk_subentity.result, result_es.ner_chunk_subentity.metadata)).alias(\"cols\")) \\\n",
        "         .select(F.expr(\"cols['0']\").alias(\"chunk\"),\n",
        "                 F.expr(\"cols['1']['entity']\").alias(\"ner_label\")).show(truncate=False)"
      ]
    },
    {
      "cell_type": "markdown",
      "metadata": {
        "id": "I0mVBxthXHE7"
      },
      "source": [
        "Results for `ner_deid_generic`"
      ]
    },
    {
      "cell_type": "code",
      "execution_count": null,
      "metadata": {
        "id": "SEcQzkM1XHE7",
        "colab": {
          "base_uri": "https://localhost:8080/"
        },
        "outputId": "2a873f10-305d-446e-d4fd-e20cf212c9df"
      },
      "outputs": [
        {
          "output_type": "stream",
          "name": "stdout",
          "text": [
            "+-----------------------+----------+\n",
            "|chunk                  |ner_label |\n",
            "+-----------------------+----------+\n",
            "|Antonio Miguel Martínez|NAME      |\n",
            "|un varón               |SEX       |\n",
            "|35                     |AGE       |\n",
            "|auxiliar de enfermería |PROFESSION|\n",
            "|Cadiz                  |LOCATION  |\n",
            "|España                 |LOCATION  |\n",
            "|14/03/2022             |DATE      |\n",
            "|Clinica San Carlos     |LOCATION  |\n",
            "+-----------------------+----------+\n",
            "\n"
          ]
        }
      ],
      "source": [
        "result_es.select(F.explode(F.arrays_zip(result_es.ner_chunk_generic.result, result_es.ner_chunk_generic.metadata)).alias(\"cols\")) \\\n",
        "         .select(F.expr(\"cols['0']\").alias(\"chunk\"),\n",
        "                 F.expr(\"cols['1']['entity']\").alias(\"ner_label\")).show(truncate=False)"
      ]
    },
    {
      "cell_type": "markdown",
      "metadata": {
        "id": "WsKq_x5bdL61"
      },
      "source": [
        "## DeIdentification"
      ]
    },
    {
      "cell_type": "markdown",
      "metadata": {
        "id": "fZUPLNujXHE8"
      },
      "source": [
        "### Obfuscation mode"
      ]
    },
    {
      "cell_type": "code",
      "execution_count": null,
      "metadata": {
        "id": "rW97hqJXXHE8"
      },
      "outputs": [],
      "source": [
        "# Downloading faker entity list.\n",
        "! wget -q https://raw.githubusercontent.com/JohnSnowLabs/spark-nlp-workshop/master/tutorials/Certification_Trainings/Healthcare/data/obfuscate_es.txt"
      ]
    },
    {
      "cell_type": "code",
      "execution_count": null,
      "metadata": {
        "id": "LSfHcs8bXHE8"
      },
      "outputs": [],
      "source": [
        "deid_masked_entity = DeIdentification()\\\n",
        "    .setInputCols([\"sentence\", \"token\", \"ner_chunk_subentity\"])\\\n",
        "    .setOutputCol(\"masked_with_entity\")\\\n",
        "    .setMode(\"mask\")\\\n",
        "    .setMaskingPolicy(\"entity_labels\")\n",
        "\n",
        "deid_masked_char = DeIdentification()\\\n",
        "    .setInputCols([\"sentence\", \"token\", \"ner_chunk_subentity\"])\\\n",
        "    .setOutputCol(\"masked_with_chars\")\\\n",
        "    .setMode(\"mask\")\\\n",
        "    .setMaskingPolicy(\"same_length_chars\")\n",
        "\n",
        "deid_masked_fixed_char = DeIdentification()\\\n",
        "    .setInputCols([\"sentence\", \"token\", \"ner_chunk_subentity\"])\\\n",
        "    .setOutputCol(\"masked_fixed_length_chars\")\\\n",
        "    .setMode(\"mask\")\\\n",
        "    .setMaskingPolicy(\"fixed_length_chars\")\\\n",
        "    .setFixedMaskLength(4)\n",
        "\n",
        "deid_obfuscated = DeIdentification()\\\n",
        "    .setInputCols([\"sentence\", \"token\", \"ner_chunk_subentity\"]) \\\n",
        "    .setOutputCol(\"obfuscated\") \\\n",
        "    .setMode(\"obfuscate\")\\\n",
        "    .setObfuscateDate(True)\\\n",
        "    .setObfuscateRefFile('obfuscate_es.txt')\\\n",
        "    .setObfuscateRefSource(\"file\")"
      ]
    },
    {
      "cell_type": "code",
      "execution_count": null,
      "metadata": {
        "id": "XL9PxHDfXHE8"
      },
      "outputs": [],
      "source": [
        "nlpPipeline_es = Pipeline(stages=[\n",
        "      documentAssembler, \n",
        "      sentencerDL,\n",
        "      tokenizer,\n",
        "      word_embeddings_es,\n",
        "      ner_subentity_es,\n",
        "      ner_converter_subentity,\n",
        "      deid_masked_entity,\n",
        "      deid_masked_char,\n",
        "      deid_masked_fixed_char,\n",
        "      deid_obfuscated\n",
        "      ])\n",
        "\n",
        "empty_data = spark.createDataFrame([[\"\"]]).toDF(\"text\")\n",
        "model_es = nlpPipeline_es.fit(empty_data)"
      ]
    },
    {
      "cell_type": "code",
      "execution_count": null,
      "metadata": {
        "id": "Y-YhVehoXHE8"
      },
      "outputs": [],
      "source": [
        "deid_lp_es = LightPipeline(model_es)"
      ]
    },
    {
      "cell_type": "code",
      "execution_count": null,
      "metadata": {
        "id": "YJs6hgvFXHE8"
      },
      "outputs": [],
      "source": [
        "text = \"Antonio Miguel Martínez, un varón de 35 años de edad, de profesión auxiliar de enfermería y nacido en Cadiz, España. Aún no estaba vacunado, se infectó con Covid-19 el dia 14/03/2022 y tuvo que ir al Hospital. Fue tratado con anticuerpos monoclonales en la Clinica San Carlos.\""
      ]
    },
    {
      "cell_type": "code",
      "execution_count": null,
      "metadata": {
        "id": "ECmNTonnF0A5",
        "colab": {
          "base_uri": "https://localhost:8080/",
          "height": 223
        },
        "outputId": "719a4e92-e2c4-406e-c324-2611a39f4d35"
      },
      "outputs": [
        {
          "output_type": "execute_result",
          "data": {
            "text/plain": [
              "                                                                                                Masked                                                                                    Masked with Chars                                                                              Masked with Fixed Chars                                                                                           Obfuscated\n",
              "0     <PATIENT>, <SEX> de <AGE> años de edad, de profesión <PROFESSION> y nacido en <CITY>, <COUNTRY>.  [*********************], [******] de ** años de edad, de profesión [********************] y naci...                           ****, **** de **** años de edad, de profesión **** y nacido en ****, ****.    María Miguélez Sanz, Hombre de 46 años de edad, de profesión Conserje y nacido en Madrid, España.\n",
              "1  Aún no estaba vacunado, se infectó con Covid-19 el dia <DATE> y tuvo que ir al Hospital. Fue tra...  Aún no estaba vacunado, se infectó con Covid-19 el dia [********] y tuvo que ir al Hospital. Fue...  Aún no estaba vacunado, se infectó con Covid-19 el dia **** y tuvo que ir al Hospital. Fue trata...  Aún no estaba vacunado, se infectó con Covid-19 el dia 07/04/2022 y tuvo que ir al Hospital. Fue..."
            ],
            "text/html": [
              "\n",
              "  <div id=\"df-c06c4342-9259-472e-9148-a9561fc9155d\">\n",
              "    <div class=\"colab-df-container\">\n",
              "      <div>\n",
              "<style scoped>\n",
              "    .dataframe tbody tr th:only-of-type {\n",
              "        vertical-align: middle;\n",
              "    }\n",
              "\n",
              "    .dataframe tbody tr th {\n",
              "        vertical-align: top;\n",
              "    }\n",
              "\n",
              "    .dataframe thead th {\n",
              "        text-align: right;\n",
              "    }\n",
              "</style>\n",
              "<table border=\"1\" class=\"dataframe\">\n",
              "  <thead>\n",
              "    <tr style=\"text-align: right;\">\n",
              "      <th></th>\n",
              "      <th>Masked</th>\n",
              "      <th>Masked with Chars</th>\n",
              "      <th>Masked with Fixed Chars</th>\n",
              "      <th>Obfuscated</th>\n",
              "    </tr>\n",
              "  </thead>\n",
              "  <tbody>\n",
              "    <tr>\n",
              "      <th>0</th>\n",
              "      <td>&lt;PATIENT&gt;, &lt;SEX&gt; de &lt;AGE&gt; años de edad, de profesión &lt;PROFESSION&gt; y nacido en &lt;CITY&gt;, &lt;COUNTRY&gt;.</td>\n",
              "      <td>[*********************], [******] de ** años de edad, de profesión [********************] y naci...</td>\n",
              "      <td>****, **** de **** años de edad, de profesión **** y nacido en ****, ****.</td>\n",
              "      <td>María Miguélez Sanz, Hombre de 46 años de edad, de profesión Conserje y nacido en Madrid, España.</td>\n",
              "    </tr>\n",
              "    <tr>\n",
              "      <th>1</th>\n",
              "      <td>Aún no estaba vacunado, se infectó con Covid-19 el dia &lt;DATE&gt; y tuvo que ir al Hospital. Fue tra...</td>\n",
              "      <td>Aún no estaba vacunado, se infectó con Covid-19 el dia [********] y tuvo que ir al Hospital. Fue...</td>\n",
              "      <td>Aún no estaba vacunado, se infectó con Covid-19 el dia **** y tuvo que ir al Hospital. Fue trata...</td>\n",
              "      <td>Aún no estaba vacunado, se infectó con Covid-19 el dia 07/04/2022 y tuvo que ir al Hospital. Fue...</td>\n",
              "    </tr>\n",
              "  </tbody>\n",
              "</table>\n",
              "</div>\n",
              "      <button class=\"colab-df-convert\" onclick=\"convertToInteractive('df-c06c4342-9259-472e-9148-a9561fc9155d')\"\n",
              "              title=\"Convert this dataframe to an interactive table.\"\n",
              "              style=\"display:none;\">\n",
              "        \n",
              "  <svg xmlns=\"http://www.w3.org/2000/svg\" height=\"24px\"viewBox=\"0 0 24 24\"\n",
              "       width=\"24px\">\n",
              "    <path d=\"M0 0h24v24H0V0z\" fill=\"none\"/>\n",
              "    <path d=\"M18.56 5.44l.94 2.06.94-2.06 2.06-.94-2.06-.94-.94-2.06-.94 2.06-2.06.94zm-11 1L8.5 8.5l.94-2.06 2.06-.94-2.06-.94L8.5 2.5l-.94 2.06-2.06.94zm10 10l.94 2.06.94-2.06 2.06-.94-2.06-.94-.94-2.06-.94 2.06-2.06.94z\"/><path d=\"M17.41 7.96l-1.37-1.37c-.4-.4-.92-.59-1.43-.59-.52 0-1.04.2-1.43.59L10.3 9.45l-7.72 7.72c-.78.78-.78 2.05 0 2.83L4 21.41c.39.39.9.59 1.41.59.51 0 1.02-.2 1.41-.59l7.78-7.78 2.81-2.81c.8-.78.8-2.07 0-2.86zM5.41 20L4 18.59l7.72-7.72 1.47 1.35L5.41 20z\"/>\n",
              "  </svg>\n",
              "      </button>\n",
              "      \n",
              "  <style>\n",
              "    .colab-df-container {\n",
              "      display:flex;\n",
              "      flex-wrap:wrap;\n",
              "      gap: 12px;\n",
              "    }\n",
              "\n",
              "    .colab-df-convert {\n",
              "      background-color: #E8F0FE;\n",
              "      border: none;\n",
              "      border-radius: 50%;\n",
              "      cursor: pointer;\n",
              "      display: none;\n",
              "      fill: #1967D2;\n",
              "      height: 32px;\n",
              "      padding: 0 0 0 0;\n",
              "      width: 32px;\n",
              "    }\n",
              "\n",
              "    .colab-df-convert:hover {\n",
              "      background-color: #E2EBFA;\n",
              "      box-shadow: 0px 1px 2px rgba(60, 64, 67, 0.3), 0px 1px 3px 1px rgba(60, 64, 67, 0.15);\n",
              "      fill: #174EA6;\n",
              "    }\n",
              "\n",
              "    [theme=dark] .colab-df-convert {\n",
              "      background-color: #3B4455;\n",
              "      fill: #D2E3FC;\n",
              "    }\n",
              "\n",
              "    [theme=dark] .colab-df-convert:hover {\n",
              "      background-color: #434B5C;\n",
              "      box-shadow: 0px 1px 3px 1px rgba(0, 0, 0, 0.15);\n",
              "      filter: drop-shadow(0px 1px 2px rgba(0, 0, 0, 0.3));\n",
              "      fill: #FFFFFF;\n",
              "    }\n",
              "  </style>\n",
              "\n",
              "      <script>\n",
              "        const buttonEl =\n",
              "          document.querySelector('#df-c06c4342-9259-472e-9148-a9561fc9155d button.colab-df-convert');\n",
              "        buttonEl.style.display =\n",
              "          google.colab.kernel.accessAllowed ? 'block' : 'none';\n",
              "\n",
              "        async function convertToInteractive(key) {\n",
              "          const element = document.querySelector('#df-c06c4342-9259-472e-9148-a9561fc9155d');\n",
              "          const dataTable =\n",
              "            await google.colab.kernel.invokeFunction('convertToInteractive',\n",
              "                                                     [key], {});\n",
              "          if (!dataTable) return;\n",
              "\n",
              "          const docLinkHtml = 'Like what you see? Visit the ' +\n",
              "            '<a target=\"_blank\" href=https://colab.research.google.com/notebooks/data_table.ipynb>data table notebook</a>'\n",
              "            + ' to learn more about interactive tables.';\n",
              "          element.innerHTML = '';\n",
              "          dataTable['output_type'] = 'display_data';\n",
              "          await google.colab.output.renderOutput(dataTable, element);\n",
              "          const docLink = document.createElement('div');\n",
              "          docLink.innerHTML = docLinkHtml;\n",
              "          element.appendChild(docLink);\n",
              "        }\n",
              "      </script>\n",
              "    </div>\n",
              "  </div>\n",
              "  "
            ]
          },
          "metadata": {},
          "execution_count": 40
        }
      ],
      "source": [
        "pd.set_option(\"display.max_colwidth\", 100)\n",
        "\n",
        "result_es = deid_lp_es.annotate(text)\n",
        "\n",
        "df_es = pd.DataFrame(list(zip(result_es[\"masked_with_entity\"], \n",
        "                           result_es[\"masked_with_chars\"],\n",
        "                           result_es[\"masked_fixed_length_chars\"], \n",
        "                           result_es[\"obfuscated\"])),\n",
        "                  columns= [\"Masked\", \"Masked with Chars\", \"Masked with Fixed Chars\", \"Obfuscated\"])\n",
        "\n",
        "df_es"
      ]
    },
    {
      "cell_type": "markdown",
      "metadata": {
        "id": "PCe7jGJlF0fF"
      },
      "source": [
        "### Faker Mode"
      ]
    },
    {
      "cell_type": "code",
      "execution_count": null,
      "metadata": {
        "id": "hMPNHpPPF0fG"
      },
      "outputs": [],
      "source": [
        "deid_obfuscated_faker = DeIdentification()\\\n",
        "    .setInputCols([\"sentence\", \"token\", \"ner_chunk_subentity\"]) \\\n",
        "    .setOutputCol(\"obfuscated\") \\\n",
        "    .setMode(\"obfuscate\")\\\n",
        "    .setLanguage('es')\\\n",
        "    .setObfuscateDate(True)\\\n",
        "    .setObfuscateRefSource('faker')"
      ]
    },
    {
      "cell_type": "code",
      "execution_count": null,
      "metadata": {
        "id": "uB4ITwqqF0fG"
      },
      "outputs": [],
      "source": [
        "nlpPipeline_es = Pipeline(stages=[\n",
        "      documentAssembler, \n",
        "      sentencerDL,\n",
        "      tokenizer,\n",
        "      word_embeddings_es,\n",
        "      ner_subentity_es,\n",
        "      ner_converter_subentity,\n",
        "      deid_masked_entity,\n",
        "      deid_masked_char,\n",
        "      deid_masked_fixed_char,\n",
        "      deid_obfuscated_faker\n",
        "      ])\n",
        "\n",
        "empty_data = spark.createDataFrame([[\"\"]]).toDF(\"text\")\n",
        "model_es = nlpPipeline_es.fit(empty_data)"
      ]
    },
    {
      "cell_type": "code",
      "execution_count": null,
      "metadata": {
        "id": "g2sz0w91F0fH"
      },
      "outputs": [],
      "source": [
        "deid_lp_es = LightPipeline(model_es)"
      ]
    },
    {
      "cell_type": "code",
      "execution_count": null,
      "metadata": {
        "id": "87O9UNxwF0fH"
      },
      "outputs": [],
      "source": [
        "text = \"Antonio Miguel Martínez, un varón de 35 años de edad, de profesión auxiliar de enfermería y nacido en Cadiz, España. Aún no estaba vacunado, se infectó con Covid-19 el dia 14/03/2022 y tuvo que ir al Hospital. Fue tratado con anticuerpos monoclonales en la Clinica San Carlos.\""
      ]
    },
    {
      "cell_type": "code",
      "execution_count": null,
      "metadata": {
        "id": "8uO7_jK_xfmW",
        "colab": {
          "base_uri": "https://localhost:8080/",
          "height": 223
        },
        "outputId": "3c356dd8-bef9-4a93-dcde-088f85a8450c"
      },
      "outputs": [
        {
          "output_type": "execute_result",
          "data": {
            "text/plain": [
              "                                                                                                Masked                                                                                    Masked with Chars                                                                              Masked with Fixed Chars                                                                                           Obfuscated\n",
              "0     <PATIENT>, <SEX> de <AGE> años de edad, de profesión <PROFESSION> y nacido en <CITY>, <COUNTRY>.  [*********************], [******] de ** años de edad, de profesión [********************] y naci...                           ****, **** de **** años de edad, de profesión **** y nacido en ****, ****.  Juan Angel Coman, M de 31 años de edad, de profesión Primary school teacher y nacido en Saldías,...\n",
              "1  Aún no estaba vacunado, se infectó con Covid-19 el dia <DATE> y tuvo que ir al Hospital. Fue tra...  Aún no estaba vacunado, se infectó con Covid-19 el dia [********] y tuvo que ir al Hospital. Fue...  Aún no estaba vacunado, se infectó con Covid-19 el dia **** y tuvo que ir al Hospital. Fue trata...  Aún no estaba vacunado, se infectó con Covid-19 el dia 23/04/2022 y tuvo que ir al Hospital. Fue..."
            ],
            "text/html": [
              "\n",
              "  <div id=\"df-28562e15-48c8-4e0c-a200-4b5e528006c1\">\n",
              "    <div class=\"colab-df-container\">\n",
              "      <div>\n",
              "<style scoped>\n",
              "    .dataframe tbody tr th:only-of-type {\n",
              "        vertical-align: middle;\n",
              "    }\n",
              "\n",
              "    .dataframe tbody tr th {\n",
              "        vertical-align: top;\n",
              "    }\n",
              "\n",
              "    .dataframe thead th {\n",
              "        text-align: right;\n",
              "    }\n",
              "</style>\n",
              "<table border=\"1\" class=\"dataframe\">\n",
              "  <thead>\n",
              "    <tr style=\"text-align: right;\">\n",
              "      <th></th>\n",
              "      <th>Masked</th>\n",
              "      <th>Masked with Chars</th>\n",
              "      <th>Masked with Fixed Chars</th>\n",
              "      <th>Obfuscated</th>\n",
              "    </tr>\n",
              "  </thead>\n",
              "  <tbody>\n",
              "    <tr>\n",
              "      <th>0</th>\n",
              "      <td>&lt;PATIENT&gt;, &lt;SEX&gt; de &lt;AGE&gt; años de edad, de profesión &lt;PROFESSION&gt; y nacido en &lt;CITY&gt;, &lt;COUNTRY&gt;.</td>\n",
              "      <td>[*********************], [******] de ** años de edad, de profesión [********************] y naci...</td>\n",
              "      <td>****, **** de **** años de edad, de profesión **** y nacido en ****, ****.</td>\n",
              "      <td>Juan Angel Coman, M de 31 años de edad, de profesión Primary school teacher y nacido en Saldías,...</td>\n",
              "    </tr>\n",
              "    <tr>\n",
              "      <th>1</th>\n",
              "      <td>Aún no estaba vacunado, se infectó con Covid-19 el dia &lt;DATE&gt; y tuvo que ir al Hospital. Fue tra...</td>\n",
              "      <td>Aún no estaba vacunado, se infectó con Covid-19 el dia [********] y tuvo que ir al Hospital. Fue...</td>\n",
              "      <td>Aún no estaba vacunado, se infectó con Covid-19 el dia **** y tuvo que ir al Hospital. Fue trata...</td>\n",
              "      <td>Aún no estaba vacunado, se infectó con Covid-19 el dia 23/04/2022 y tuvo que ir al Hospital. Fue...</td>\n",
              "    </tr>\n",
              "  </tbody>\n",
              "</table>\n",
              "</div>\n",
              "      <button class=\"colab-df-convert\" onclick=\"convertToInteractive('df-28562e15-48c8-4e0c-a200-4b5e528006c1')\"\n",
              "              title=\"Convert this dataframe to an interactive table.\"\n",
              "              style=\"display:none;\">\n",
              "        \n",
              "  <svg xmlns=\"http://www.w3.org/2000/svg\" height=\"24px\"viewBox=\"0 0 24 24\"\n",
              "       width=\"24px\">\n",
              "    <path d=\"M0 0h24v24H0V0z\" fill=\"none\"/>\n",
              "    <path d=\"M18.56 5.44l.94 2.06.94-2.06 2.06-.94-2.06-.94-.94-2.06-.94 2.06-2.06.94zm-11 1L8.5 8.5l.94-2.06 2.06-.94-2.06-.94L8.5 2.5l-.94 2.06-2.06.94zm10 10l.94 2.06.94-2.06 2.06-.94-2.06-.94-.94-2.06-.94 2.06-2.06.94z\"/><path d=\"M17.41 7.96l-1.37-1.37c-.4-.4-.92-.59-1.43-.59-.52 0-1.04.2-1.43.59L10.3 9.45l-7.72 7.72c-.78.78-.78 2.05 0 2.83L4 21.41c.39.39.9.59 1.41.59.51 0 1.02-.2 1.41-.59l7.78-7.78 2.81-2.81c.8-.78.8-2.07 0-2.86zM5.41 20L4 18.59l7.72-7.72 1.47 1.35L5.41 20z\"/>\n",
              "  </svg>\n",
              "      </button>\n",
              "      \n",
              "  <style>\n",
              "    .colab-df-container {\n",
              "      display:flex;\n",
              "      flex-wrap:wrap;\n",
              "      gap: 12px;\n",
              "    }\n",
              "\n",
              "    .colab-df-convert {\n",
              "      background-color: #E8F0FE;\n",
              "      border: none;\n",
              "      border-radius: 50%;\n",
              "      cursor: pointer;\n",
              "      display: none;\n",
              "      fill: #1967D2;\n",
              "      height: 32px;\n",
              "      padding: 0 0 0 0;\n",
              "      width: 32px;\n",
              "    }\n",
              "\n",
              "    .colab-df-convert:hover {\n",
              "      background-color: #E2EBFA;\n",
              "      box-shadow: 0px 1px 2px rgba(60, 64, 67, 0.3), 0px 1px 3px 1px rgba(60, 64, 67, 0.15);\n",
              "      fill: #174EA6;\n",
              "    }\n",
              "\n",
              "    [theme=dark] .colab-df-convert {\n",
              "      background-color: #3B4455;\n",
              "      fill: #D2E3FC;\n",
              "    }\n",
              "\n",
              "    [theme=dark] .colab-df-convert:hover {\n",
              "      background-color: #434B5C;\n",
              "      box-shadow: 0px 1px 3px 1px rgba(0, 0, 0, 0.15);\n",
              "      filter: drop-shadow(0px 1px 2px rgba(0, 0, 0, 0.3));\n",
              "      fill: #FFFFFF;\n",
              "    }\n",
              "  </style>\n",
              "\n",
              "      <script>\n",
              "        const buttonEl =\n",
              "          document.querySelector('#df-28562e15-48c8-4e0c-a200-4b5e528006c1 button.colab-df-convert');\n",
              "        buttonEl.style.display =\n",
              "          google.colab.kernel.accessAllowed ? 'block' : 'none';\n",
              "\n",
              "        async function convertToInteractive(key) {\n",
              "          const element = document.querySelector('#df-28562e15-48c8-4e0c-a200-4b5e528006c1');\n",
              "          const dataTable =\n",
              "            await google.colab.kernel.invokeFunction('convertToInteractive',\n",
              "                                                     [key], {});\n",
              "          if (!dataTable) return;\n",
              "\n",
              "          const docLinkHtml = 'Like what you see? Visit the ' +\n",
              "            '<a target=\"_blank\" href=https://colab.research.google.com/notebooks/data_table.ipynb>data table notebook</a>'\n",
              "            + ' to learn more about interactive tables.';\n",
              "          element.innerHTML = '';\n",
              "          dataTable['output_type'] = 'display_data';\n",
              "          await google.colab.output.renderOutput(dataTable, element);\n",
              "          const docLink = document.createElement('div');\n",
              "          docLink.innerHTML = docLinkHtml;\n",
              "          element.appendChild(docLink);\n",
              "        }\n",
              "      </script>\n",
              "    </div>\n",
              "  </div>\n",
              "  "
            ]
          },
          "metadata": {},
          "execution_count": 45
        }
      ],
      "source": [
        "pd.set_option(\"display.max_colwidth\", 100)\n",
        "\n",
        "result_es = deid_lp_es.annotate(text)\n",
        "\n",
        "df_es = pd.DataFrame(list(zip(result_es[\"masked_with_entity\"], \n",
        "                           result_es[\"masked_with_chars\"],\n",
        "                           result_es[\"masked_fixed_length_chars\"], \n",
        "                           result_es[\"obfuscated\"])),\n",
        "                  columns= [\"Masked\", \"Masked with Chars\", \"Masked with Fixed Chars\", \"Obfuscated\"])\n",
        "\n",
        "df_es"
      ]
    },
    {
      "cell_type": "markdown",
      "metadata": {
        "id": "3dwa3ICLXJIw"
      },
      "source": [
        "## Pretrained Spanish Deidentification Pipeline\n",
        "\n",
        "- We developed a clinical deidentification pretrained pipeline that can be used to deidentify PHI information from German medical texts. The PHI information will be masked and obfuscated in the resulting text. \n",
        "- The pipeline can mask and obfuscate:\n",
        "    - Patient\n",
        "    - Doctor\n",
        "    - Hospital\n",
        "    - Date\n",
        "    - Organization\n",
        "    - City\n",
        "    - Street\n",
        "    - Country\n",
        "    - User name\n",
        "    - Profession\n",
        "    - Phone\n",
        "    - Age\n",
        "    - Contact\n",
        "    - ID\n",
        "    - Phone\n",
        "    - ZIP\n",
        "    - Account\n",
        "    - SSN\n",
        "    - Driver's License Number\n",
        "    - Plate Number\n",
        "    - Sex"
      ]
    },
    {
      "cell_type": "markdown",
      "metadata": {
        "id": "cV8tH9SpQgpE"
      },
      "source": [
        "|index|model|index|model|\n",
        "|-----:|:-----|-----:|:-----|\n",
        "| 1| [clinical_deidentification_augmented]()| 2| [clinical_deidentification]()|"
      ]
    },
    {
      "cell_type": "code",
      "execution_count": null,
      "metadata": {
        "id": "FqxSAsnKXJIw",
        "colab": {
          "base_uri": "https://localhost:8080/"
        },
        "outputId": "38b62236-8a82-4681-e153-714a8ab3e88b"
      },
      "outputs": [
        {
          "output_type": "stream",
          "name": "stdout",
          "text": [
            "clinical_deidentification_augmented download started this may take some time.\n",
            "Approx size to download 268.2 MB\n",
            "[OK!]\n"
          ]
        }
      ],
      "source": [
        "from sparknlp.pretrained import PretrainedPipeline\n",
        "\n",
        "deid_pipeline_es = PretrainedPipeline(\"clinical_deidentification_augmented\", \"es\", \"clinical/models\")"
      ]
    },
    {
      "cell_type": "code",
      "execution_count": null,
      "metadata": {
        "id": "84BtcgQqXJIw",
        "colab": {
          "base_uri": "https://localhost:8080/"
        },
        "outputId": "9bb123c3-8360-4b8a-96b9-36c627c7af4b"
      },
      "outputs": [
        {
          "output_type": "stream",
          "name": "stdout",
          "text": [
            "Datos [**********].\n",
            "Nombre:  [*****].\n",
            "Apellidos: [**********].\n",
            "NHC: [****].\n",
            "NASS: [*********].\n",
            "Domicilio:  [*********************].\n",
            "Localidad/ Provincia: [****].\n",
            "CP: [***].\n",
            "Datos asistenciales.\n",
            "Fecha de nacimiento: [********].\n",
            "País: [****].\n",
            "Edad: ** años Sexo: *.\n",
            "Fecha de Ingreso: [********].\n",
            "Médico:  [*********************] NºCol: [*********].\n",
            "Informe clínico [**********]: [******] ** ** años de edad, minero jubilado, sin alergias medicamentosas conocidas, que presenta como antecedentes personales: accidente laboral antiguo con fracturas vertebrales y costales; intervenido de enfermedad de Dupuytren en mano derecha y by-pass iliofemoral izquierdo;\n",
            "Diabetes Mellitus tipo II, hipercolesterolemia e hiperuricemia; enolismo activo, fumador de 20 cigarrillos / día.\n",
            "Es derivado desde Atención Primaria por presentar hematuria macroscópica postmiccional en una ocasión y microhematuria persistente posteriormente, con micciones normales.\n",
            "En la exploración física presenta un buen estado general, con abdomen y genitales normales; tacto rectal compatible con adenoma de próstata grado I/IV.\n",
            "En la analítica de orina destaca la existencia de 4 hematíes/ campo y 0-5 leucocitos/campo; resto de sedimento normal.\n",
            "Hemograma normal; en la bioquímica destaca una glucemia de 169 mg/dl y triglicéridos de 456 mg/dl; función hepática y renal normal. PSA de 1.16 ng/ml.\n",
            "Las citologías de orina son repetidamente sospechosas de malignidad.\n",
            "En la placa simple de abdomen se valoran cambios degenerativos en columna lumbar y calcificaciones vasculares en ambos hipocondrios y en pelvis.\n",
            "La ecografía urológica pone de manifiesto la existencia de quistes corticales simples en riñón derecho, vejiga sin alteraciones con buena capacidad y próstata con un peso de 30 g.\n",
            "En la UIV se observa normofuncionalismo renal bilateral, calcificaciones sobre silueta renal derecha y uréteres arrosariados con imágenes de adición en el tercio superior de ambos uréteres, en relación a pseudodiverticulosis ureteral. El cistograma demuestra una vejiga con buena capacidad, pero paredes trabeculadas en relación a vejiga de esfuerzo.\n",
            "La TC abdominal es normal.\n",
            "La cistoscopia descubre la existencia de pequeñas tumoraciones vesicales, realizándose resección transuretral con el resultado anatomopatológico de carcinoma urotelial superficial de vejiga.\n",
            "Remitido por: [*********************] [***************], [*****] [***] [****], [****] E-mail: [****************].\n",
            "\n",
            "\n",
            "Datos <SEX>.\n",
            "Nombre:  <PATIENT>.\n",
            "Apellidos: <PATIENT>.\n",
            "NHC: <SSN>.\n",
            "NASS: <ID>.\n",
            "Domicilio:  <STREET>.\n",
            "Localidad/ Provincia: <CITY>.\n",
            "CP: <ZIP>.\n",
            "Datos asistenciales.\n",
            "Fecha de nacimiento: <DATE>.\n",
            "País: <COUNTRY>.\n",
            "Edad: <AGE> años Sexo: <SEX>.\n",
            "Fecha de Ingreso: <DATE>.\n",
            "Médico:  <DOCTOR> NºCol: <ID>.\n",
            "Informe clínico <SEX>: <SSN> <SSN> <AGE> años de edad, minero jubilado, sin alergias medicamentosas conocidas, que presenta como antecedentes personales: accidente laboral antiguo con fracturas vertebrales y costales; intervenido de enfermedad de Dupuytren en mano derecha y by-pass iliofemoral izquierdo;\n",
            "Diabetes Mellitus tipo II, hipercolesterolemia e hiperuricemia; enolismo activo, fumador de 20 cigarrillos / día.\n",
            "Es derivado desde Atención Primaria por presentar hematuria macroscópica postmiccional en una ocasión y microhematuria persistente posteriormente, con micciones normales.\n",
            "En la exploración física presenta un buen estado general, con abdomen y genitales normales; tacto rectal compatible con adenoma de próstata grado I/IV.\n",
            "En la analítica de orina destaca la existencia de 4 hematíes/ campo y 0-5 leucocitos/campo; resto de sedimento normal.\n",
            "Hemograma normal; en la bioquímica destaca una glucemia de 169 mg/dl y triglicéridos de 456 mg/dl; función hepática y renal normal. PSA de 1.16 ng/ml.\n",
            "Las citologías de orina son repetidamente sospechosas de malignidad.\n",
            "En la placa simple de abdomen se valoran cambios degenerativos en columna lumbar y calcificaciones vasculares en ambos hipocondrios y en pelvis.\n",
            "La ecografía urológica pone de manifiesto la existencia de quistes corticales simples en riñón derecho, vejiga sin alteraciones con buena capacidad y próstata con un peso de 30 g.\n",
            "En la UIV se observa normofuncionalismo renal bilateral, calcificaciones sobre silueta renal derecha y uréteres arrosariados con imágenes de adición en el tercio superior de ambos uréteres, en relación a pseudodiverticulosis ureteral. El cistograma demuestra una vejiga con buena capacidad, pero paredes trabeculadas en relación a vejiga de esfuerzo.\n",
            "La TC abdominal es normal.\n",
            "La cistoscopia descubre la existencia de pequeñas tumoraciones vesicales, realizándose resección transuretral con el resultado anatomopatológico de carcinoma urotelial superficial de vejiga.\n",
            "Remitido por: <DOCTOR> <STREET>, <I-STREET> <ZIP> <CITY>, <COUNTRY> E-mail: <EMAIL>.\n",
            "\n",
            "\n",
            "Datos ****.\n",
            "Nombre:  ****.\n",
            "Apellidos: ****.\n",
            "NHC: ****.\n",
            "NASS: ****.\n",
            "Domicilio:  ****.\n",
            "Localidad/ Provincia: ****.\n",
            "CP: ****.\n",
            "Datos asistenciales.\n",
            "Fecha de nacimiento: ****.\n",
            "País: ****.\n",
            "Edad: **** años Sexo: ****.\n",
            "Fecha de Ingreso: ****.\n",
            "Médico:  **** NºCol: ****.\n",
            "Informe clínico ****: **** **** **** años de edad, minero jubilado, sin alergias medicamentosas conocidas, que presenta como antecedentes personales: accidente laboral antiguo con fracturas vertebrales y costales; intervenido de enfermedad de Dupuytren en mano derecha y by-pass iliofemoral izquierdo;\n",
            "Diabetes Mellitus tipo II, hipercolesterolemia e hiperuricemia; enolismo activo, fumador de 20 cigarrillos / día.\n",
            "Es derivado desde Atención Primaria por presentar hematuria macroscópica postmiccional en una ocasión y microhematuria persistente posteriormente, con micciones normales.\n",
            "En la exploración física presenta un buen estado general, con abdomen y genitales normales; tacto rectal compatible con adenoma de próstata grado I/IV.\n",
            "En la analítica de orina destaca la existencia de 4 hematíes/ campo y 0-5 leucocitos/campo; resto de sedimento normal.\n",
            "Hemograma normal; en la bioquímica destaca una glucemia de 169 mg/dl y triglicéridos de 456 mg/dl; función hepática y renal normal. PSA de 1.16 ng/ml.\n",
            "Las citologías de orina son repetidamente sospechosas de malignidad.\n",
            "En la placa simple de abdomen se valoran cambios degenerativos en columna lumbar y calcificaciones vasculares en ambos hipocondrios y en pelvis.\n",
            "La ecografía urológica pone de manifiesto la existencia de quistes corticales simples en riñón derecho, vejiga sin alteraciones con buena capacidad y próstata con un peso de 30 g.\n",
            "En la UIV se observa normofuncionalismo renal bilateral, calcificaciones sobre silueta renal derecha y uréteres arrosariados con imágenes de adición en el tercio superior de ambos uréteres, en relación a pseudodiverticulosis ureteral. El cistograma demuestra una vejiga con buena capacidad, pero paredes trabeculadas en relación a vejiga de esfuerzo.\n",
            "La TC abdominal es normal.\n",
            "La cistoscopia descubre la existencia de pequeñas tumoraciones vesicales, realizándose resección transuretral con el resultado anatomopatológico de carcinoma urotelial superficial de vejiga.\n",
            "Remitido por: **** ****, **** **** ****, **** E-mail: ****.\n",
            "\n",
            "\n",
            "Datos Mujer.\n",
            "Nombre:  Antonio González Cuevas.\n",
            "Apellidos: Aurora Garrido Paez.\n",
            "NHC: BBBBBBBBQR648597.\n",
            "NASS: 21.933.113-S.\n",
            "Domicilio:  Calle Ramón y Cajal s/n.\n",
            "Localidad/ Provincia: Alicante.\n",
            "CP: 40834.\n",
            "Datos asistenciales.\n",
            "Fecha de nacimiento: 27/03/1946.\n",
            "País: España.\n",
            "Edad: 46 años Sexo: Hombre.\n",
            "Fecha de Ingreso: 07/02/2017.\n",
            "Médico:  María del Carmen Carrasco Gonzálvez NºCol: 48127833R.\n",
            "Informe clínico Mujer: BBBBBBBBQR648597 BBBBBBBBQR648597 46 años de edad, minero jubilado, sin alergias medicamentosas conocidas, que presenta como antecedentes personales: accidente laboral antiguo con fracturas vertebrales y costales; intervenido de enfermedad de Dupuytren en mano derecha y by-pass iliofemoral izquierdo;\n",
            "Diabetes Mellitus tipo II, hipercolesterolemia e hiperuricemia; enolismo activo, fumador de 20 cigarrillos / día.\n",
            "Es derivado desde Atención Primaria por presentar hematuria macroscópica postmiccional en una ocasión y microhematuria persistente posteriormente, con micciones normales.\n",
            "En la exploración física presenta un buen estado general, con abdomen y genitales normales; tacto rectal compatible con adenoma de próstata grado I/IV.\n",
            "En la analítica de orina destaca la existencia de 4 hematíes/ campo y 0-5 leucocitos/campo; resto de sedimento normal.\n",
            "Hemograma normal; en la bioquímica destaca una glucemia de 169 mg/dl y triglicéridos de 456 mg/dl; función hepática y renal normal. PSA de 1.16 ng/ml.\n",
            "Las citologías de orina son repetidamente sospechosas de malignidad.\n",
            "En la placa simple de abdomen se valoran cambios degenerativos en columna lumbar y calcificaciones vasculares en ambos hipocondrios y en pelvis.\n",
            "La ecografía urológica pone de manifiesto la existencia de quistes corticales simples en riñón derecho, vejiga sin alteraciones con buena capacidad y próstata con un peso de 30 g.\n",
            "En la UIV se observa normofuncionalismo renal bilateral, calcificaciones sobre silueta renal derecha y uréteres arrosariados con imágenes de adición en el tercio superior de ambos uréteres, en relación a pseudodiverticulosis ureteral. El cistograma demuestra una vejiga con buena capacidad, pero paredes trabeculadas en relación a vejiga de esfuerzo.\n",
            "La TC abdominal es normal.\n",
            "La cistoscopia descubre la existencia de pequeñas tumoraciones vesicales, realizándose resección transuretral con el resultado anatomopatológico de carcinoma urotelial superficial de vejiga.\n",
            "Remitido por: María del Carmen Carrasco Gonzálvez C/ Gran Via, 2, <I-STREET> 52121 Alicante, España E-mail: HenryWatson@world.com.\n"
          ]
        }
      ],
      "source": [
        "text = \"\"\"Datos del paciente.\n",
        "Nombre:  Ernesto.\n",
        "Apellidos: Rivera Bueno.\n",
        "NHC: 368503.\n",
        "NASS: 26 63514095.\n",
        "Domicilio:  Calle Miguel Benitez 90.\n",
        "Localidad/ Provincia: Madrid.\n",
        "CP: 28016.\n",
        "Datos asistenciales.\n",
        "Fecha de nacimiento: 03/03/1946.\n",
        "País: España.\n",
        "Edad: 70 años Sexo: H.\n",
        "Fecha de Ingreso: 12/12/2016.\n",
        "Médico:  Ignacio Navarro Cuéllar NºCol: 28 28 70973.\n",
        "Informe clínico del paciente: Paciente de 70 años de edad, minero jubilado, sin alergias medicamentosas conocidas, que presenta como antecedentes personales: accidente laboral antiguo con fracturas vertebrales y costales; intervenido de enfermedad de Dupuytren en mano derecha y by-pass iliofemoral izquierdo; Diabetes Mellitus tipo II, hipercolesterolemia e hiperuricemia; enolismo activo, fumador de 20 cigarrillos / día.\n",
        "Es derivado desde Atención Primaria por presentar hematuria macroscópica postmiccional en una ocasión y microhematuria persistente posteriormente, con micciones normales.\n",
        "En la exploración física presenta un buen estado general, con abdomen y genitales normales; tacto rectal compatible con adenoma de próstata grado I/IV.\n",
        "En la analítica de orina destaca la existencia de 4 hematíes/ campo y 0-5 leucocitos/campo; resto de sedimento normal.\n",
        "Hemograma normal; en la bioquímica destaca una glucemia de 169 mg/dl y triglicéridos de 456 mg/dl; función hepática y renal normal. PSA de 1.16 ng/ml.\n",
        "Las citologías de orina son repetidamente sospechosas de malignidad.\n",
        "En la placa simple de abdomen se valoran cambios degenerativos en columna lumbar y calcificaciones vasculares en ambos hipocondrios y en pelvis.\n",
        "La ecografía urológica pone de manifiesto la existencia de quistes corticales simples en riñón derecho, vejiga sin alteraciones con buena capacidad y próstata con un peso de 30 g.\n",
        "En la UIV se observa normofuncionalismo renal bilateral, calcificaciones sobre silueta renal derecha y uréteres arrosariados con imágenes de adición en el tercio superior de ambos uréteres, en relación a pseudodiverticulosis ureteral. El cistograma demuestra una vejiga con buena capacidad, pero paredes trabeculadas en relación a vejiga de esfuerzo. La TC abdominal es normal.\n",
        "La cistoscopia descubre la existencia de pequeñas tumoraciones vesicales, realizándose resección transuretral con el resultado anatomopatológico de carcinoma urotelial superficial de vejiga.\n",
        "Remitido por: Ignacio Navarro Cuéllar c/ del Abedul 5-7, 2º dcha 28036 Madrid, España E-mail: nnavcu@hotmail.com.\n",
        "\"\"\"\n",
        "\n",
        "result_es = deid_pipeline_es.annotate(text)\n",
        "print(\"\\n\".join(result_es['masked_with_chars']))\n",
        "print(\"\\n\")\n",
        "print(\"\\n\".join(result_es['masked']))\n",
        "print(\"\\n\")\n",
        "print(\"\\n\".join(result_es['masked_fixed_length_chars']))\n",
        "print(\"\\n\")\n",
        "print(\"\\n\".join(result_es['obfuscated']))"
      ]
    },
    {
      "cell_type": "markdown",
      "metadata": {
        "id": "wouAd6l3Xsp6"
      },
      "source": [
        "# DE-IDENTIFICATION FOR FRENCH"
      ]
    },
    {
      "cell_type": "markdown",
      "metadata": {
        "id": "sYr0VHZ7CizX"
      },
      "source": [
        "## French Deidentification NER Models\n",
        "We have two different models you can use:\n",
        "* `ner_deid_generic`, detects 7 entities\n",
        "* `ner_deid_subentity`, detects 15 entities"
      ]
    },
    {
      "cell_type": "markdown",
      "metadata": {
        "id": "Deufh4ug50fL"
      },
      "source": [
        "|index|model|lang|index|model|lang|\n",
        "|-----:|:-----|----|-----:|:-----|----|\n",
        "| 1| [ner_deid_generic](https://nlp.johnsnowlabs.com/2022/02/11/ner_deid_generic_fr.html)  |fr| 2| [ner_deid_subentity](https://nlp.johnsnowlabs.com/2022/02/14/ner_deid_subentity_fr.html)  |fr|\n"
      ]
    },
    {
      "cell_type": "markdown",
      "metadata": {
        "id": "gWCxhtfCCizX"
      },
      "source": [
        "Creating pipeline"
      ]
    },
    {
      "cell_type": "code",
      "execution_count": null,
      "metadata": {
        "id": "av6jaoOwCizY",
        "colab": {
          "base_uri": "https://localhost:8080/"
        },
        "outputId": "7eb12af5-ec8d-45c8-b4c4-ebf6b5330456"
      },
      "outputs": [
        {
          "output_type": "stream",
          "name": "stdout",
          "text": [
            "sentence_detector_dl download started this may take some time.\n",
            "Approximate size to download 514.9 KB\n",
            "[OK!]\n",
            "w2v_cc_300d download started this may take some time.\n",
            "Approximate size to download 1.2 GB\n",
            "[OK!]\n"
          ]
        }
      ],
      "source": [
        "documentAssembler = DocumentAssembler()\\\n",
        "    .setInputCol(\"text\")\\\n",
        "    .setOutputCol(\"document\")\n",
        "\n",
        "sentencerDL = SentenceDetectorDLModel.pretrained(\"sentence_detector_dl\", \"xx\") \\\n",
        "    .setInputCols([\"document\"])\\\n",
        "    .setOutputCol(\"sentence\")\n",
        "\n",
        "tokenizer = Tokenizer()\\\n",
        "    .setInputCols([\"sentence\"])\\\n",
        "    .setOutputCol(\"token\")\n",
        "\n",
        "word_embeddings_fr = WordEmbeddingsModel.pretrained(\"w2v_cc_300d\", \"fr\")\\\n",
        "    .setInputCols([\"document\",\"token\"])\\\n",
        "  \t.setOutputCol(\"embeddings\")"
      ]
    },
    {
      "cell_type": "markdown",
      "metadata": {
        "id": "rowEdLqDCizY"
      },
      "source": [
        "### NER Deid Generic\n",
        "\n",
        "**`ner_deid_generic`** extracts:\n",
        "- Name\n",
        "- Profession\n",
        "- Age\n",
        "- Date\n",
        "- Contact (Telephone numbers, Email addresses)\n",
        "- Location (Address, City, Postal code, Hospital Name, Organization)\n",
        "- ID (Social Security numbers, Medical record numbers)"
      ]
    },
    {
      "cell_type": "code",
      "execution_count": null,
      "metadata": {
        "id": "iQXHjzcYCizY",
        "colab": {
          "base_uri": "https://localhost:8080/"
        },
        "outputId": "4e5982f6-2791-4179-9112-ae40c2678cfb"
      },
      "outputs": [
        {
          "output_type": "stream",
          "name": "stdout",
          "text": [
            "ner_deid_generic download started this may take some time.\n",
            "[OK!]\n"
          ]
        }
      ],
      "source": [
        "ner_generic_fr = MedicalNerModel.pretrained(\"ner_deid_generic\", \"fr\", \"clinical/models\")\\\n",
        "    .setInputCols([\"sentence\",\"token\",\"embeddings\"])\\\n",
        "    .setOutputCol(\"ner_deid_generic\")\n",
        "\n",
        "ner_converter_generic = NerConverterInternal()\\\n",
        "    .setInputCols([\"sentence\",\"token\",\"ner_deid_generic\"])\\\n",
        "    .setOutputCol(\"ner_chunk_generic\")"
      ]
    },
    {
      "cell_type": "code",
      "execution_count": null,
      "metadata": {
        "id": "ElhQ25TPwlYF",
        "colab": {
          "base_uri": "https://localhost:8080/"
        },
        "outputId": "5542e5a4-7550-491c-d858-43a27f55f05a"
      },
      "outputs": [
        {
          "output_type": "execute_result",
          "data": {
            "text/plain": [
              "['O',\n",
              " 'I-LOCATION',\n",
              " 'I-CONTACT',\n",
              " 'I-PROFESSION',\n",
              " 'I-NAME',\n",
              " 'I-DATE',\n",
              " 'B-ID',\n",
              " 'B-PROFESSION',\n",
              " 'B-CONTACT',\n",
              " 'I-ID',\n",
              " 'B-NAME',\n",
              " 'B-DATE',\n",
              " 'B-LOCATION',\n",
              " 'B-AGE',\n",
              " 'I-AGE']"
            ]
          },
          "metadata": {},
          "execution_count": 50
        }
      ],
      "source": [
        "ner_generic_fr.getClasses()"
      ]
    },
    {
      "cell_type": "markdown",
      "metadata": {
        "id": "Ws1YvkkuCizY"
      },
      "source": [
        "### NER Deid Subentity\n",
        "\n",
        "**`ner_deid_subentity`** extracts:\n",
        "\n",
        "- Patient\n",
        "- Doctor\n",
        "- Hospital\n",
        "- Date\n",
        "- Organization\n",
        "- City\n",
        "- Street\n",
        "- Username\n",
        "- Profession\n",
        "- Phone\n",
        "- Country\n",
        "- Age\n",
        "- E-mail\n",
        "- ZIP\n",
        "- Medical Record"
      ]
    },
    {
      "cell_type": "code",
      "execution_count": null,
      "metadata": {
        "id": "ee7WemLWCizZ",
        "colab": {
          "base_uri": "https://localhost:8080/"
        },
        "outputId": "6cc01950-ef8a-4ad9-a6fa-57e468052de4"
      },
      "outputs": [
        {
          "output_type": "stream",
          "name": "stdout",
          "text": [
            "ner_deid_subentity download started this may take some time.\n",
            "[OK!]\n"
          ]
        }
      ],
      "source": [
        "ner_subentity_fr = MedicalNerModel.pretrained(\"ner_deid_subentity\", \"fr\", \"clinical/models\")\\\n",
        "    .setInputCols([\"sentence\",\"token\",\"embeddings\"])\\\n",
        "    .setOutputCol(\"ner_deid_subentity\")\n",
        "\n",
        "ner_converter_subentity = NerConverterInternal()\\\n",
        "    .setInputCols([\"sentence\", \"token\", \"ner_deid_subentity\"])\\\n",
        "    .setOutputCol(\"ner_chunk_subentity\")"
      ]
    },
    {
      "cell_type": "code",
      "execution_count": null,
      "metadata": {
        "id": "NEBbj0_ACizZ",
        "colab": {
          "base_uri": "https://localhost:8080/"
        },
        "outputId": "3f87f37a-37fb-4616-f916-8ba0f1ea5fc7"
      },
      "outputs": [
        {
          "output_type": "execute_result",
          "data": {
            "text/plain": [
              "['O',\n",
              " 'B-MEDICALRECORD',\n",
              " 'B-ORGANIZATION',\n",
              " 'I-PROFESSION',\n",
              " 'B-DOCTOR',\n",
              " 'B-USERNAME',\n",
              " 'B-PROFESSION',\n",
              " 'B-CITY',\n",
              " 'B-DATE',\n",
              " 'I-MEDICALRECORD',\n",
              " 'B-E-MAIL',\n",
              " 'B-PATIENT',\n",
              " 'I-DOCTOR',\n",
              " 'I-CITY',\n",
              " 'I-DATE',\n",
              " 'B-COUNTRY',\n",
              " 'B-ZIP',\n",
              " 'I-STREET',\n",
              " 'I-PATIENT',\n",
              " 'B-PHONE',\n",
              " 'I-PHONE',\n",
              " 'B-HOSPITAL',\n",
              " 'B-STREET',\n",
              " 'I-ORGANIZATION',\n",
              " 'I-HOSPITAL',\n",
              " 'B-AGE',\n",
              " 'I-AGE',\n",
              " 'I-COUNTRY']"
            ]
          },
          "metadata": {},
          "execution_count": 52
        }
      ],
      "source": [
        "ner_subentity_fr.getClasses()"
      ]
    },
    {
      "cell_type": "markdown",
      "metadata": {
        "id": "iP5yaWlQCizZ"
      },
      "source": [
        "### Pipeline"
      ]
    },
    {
      "cell_type": "code",
      "execution_count": null,
      "metadata": {
        "id": "NWRu6q7fCizZ"
      },
      "outputs": [],
      "source": [
        "nlpPipeline_fr = Pipeline(stages=[\n",
        "      documentAssembler, \n",
        "      sentencerDL,\n",
        "      tokenizer,\n",
        "      word_embeddings_fr,\n",
        "      ner_generic_fr,\n",
        "      ner_converter_generic,\n",
        "      ner_subentity_fr,\n",
        "      ner_converter_subentity,\n",
        "      ])\n",
        "\n",
        "empty_data = spark.createDataFrame([[\"\"]]).toDF(\"text\")\n",
        "model_fr = nlpPipeline_fr.fit(empty_data)"
      ]
    },
    {
      "cell_type": "code",
      "execution_count": null,
      "metadata": {
        "id": "WEEyjBCDCizZ"
      },
      "outputs": [],
      "source": [
        "text = \"J'ai vu en consultation Michel Martinez (49 ans), jardinier, adressé au Centre Hospitalier De Plaisir pour un diabète mal contrôlé avec des symptômes datant de Mars 2015.\"\n",
        "\n",
        "text_df = spark.createDataFrame([[text]]).toDF(\"text\")\n",
        "result_fr = model_fr.transform(text_df)"
      ]
    },
    {
      "cell_type": "markdown",
      "metadata": {
        "id": "rUcdo_mNCizZ"
      },
      "source": [
        "Results for `ner_deid_generic`"
      ]
    },
    {
      "cell_type": "code",
      "execution_count": null,
      "metadata": {
        "id": "ZJANKs59CizZ",
        "colab": {
          "base_uri": "https://localhost:8080/"
        },
        "outputId": "0a679aa0-2578-496b-fd0e-03918aa0b6e5"
      },
      "outputs": [
        {
          "output_type": "stream",
          "name": "stdout",
          "text": [
            "+-----------------------------+----------+\n",
            "|chunk                        |ner_label |\n",
            "+-----------------------------+----------+\n",
            "|Michel Martinez              |NAME      |\n",
            "|49 ans                       |AGE       |\n",
            "|jardinier                    |PROFESSION|\n",
            "|Centre Hospitalier De Plaisir|LOCATION  |\n",
            "|Mars 2015                    |DATE      |\n",
            "+-----------------------------+----------+\n",
            "\n"
          ]
        }
      ],
      "source": [
        "result_fr.select(F.explode(F.arrays_zip(result_fr.ner_chunk_generic.result, result_fr.ner_chunk_generic.metadata)).alias(\"cols\")) \\\n",
        "         .select(F.expr(\"cols['0']\").alias(\"chunk\"),\n",
        "                 F.expr(\"cols['1']['entity']\").alias(\"ner_label\")).show(truncate=False)"
      ]
    },
    {
      "cell_type": "markdown",
      "metadata": {
        "id": "uDOBJKTaCiza"
      },
      "source": [
        "Results for `ner_deid_subentity`"
      ]
    },
    {
      "cell_type": "code",
      "execution_count": null,
      "metadata": {
        "id": "ubV7RgTnCiza",
        "colab": {
          "base_uri": "https://localhost:8080/"
        },
        "outputId": "29c9e60e-fc49-4946-a30a-83050b123a0b"
      },
      "outputs": [
        {
          "output_type": "stream",
          "name": "stdout",
          "text": [
            "+-----------------------------+----------+\n",
            "|chunk                        |ner_label |\n",
            "+-----------------------------+----------+\n",
            "|Michel Martinez              |PATIENT   |\n",
            "|49 ans                       |AGE       |\n",
            "|jardinier                    |PROFESSION|\n",
            "|Centre Hospitalier De Plaisir|HOSPITAL  |\n",
            "|Mars 2015                    |DATE      |\n",
            "+-----------------------------+----------+\n",
            "\n"
          ]
        }
      ],
      "source": [
        "result_fr.select(F.explode(F.arrays_zip(result_fr.ner_chunk_subentity.result, result_fr.ner_chunk_subentity.metadata)).alias(\"cols\")) \\\n",
        "         .select(F.expr(\"cols['0']\").alias(\"chunk\"),\n",
        "                 F.expr(\"cols['1']['entity']\").alias(\"ner_label\")).show(truncate=False)"
      ]
    },
    {
      "cell_type": "markdown",
      "metadata": {
        "id": "IYk4WpoqdV1f"
      },
      "source": [
        "## DeIdentification"
      ]
    },
    {
      "cell_type": "markdown",
      "metadata": {
        "id": "rkj-yMIYCiza"
      },
      "source": [
        "### Obfuscation mode"
      ]
    },
    {
      "cell_type": "code",
      "execution_count": null,
      "metadata": {
        "id": "NKCWSFEuCiza"
      },
      "outputs": [],
      "source": [
        "# Downloading faker entity list.\n",
        "! wget -q https://raw.githubusercontent.com/JohnSnowLabs/spark-nlp-workshop/master/tutorials/Certification_Trainings/Healthcare/data/obfuscate_fr.txt"
      ]
    },
    {
      "cell_type": "code",
      "execution_count": null,
      "metadata": {
        "id": "d7Bq_xpHCiza"
      },
      "outputs": [],
      "source": [
        "deid_masked_entity = DeIdentification()\\\n",
        "    .setInputCols([\"sentence\", \"token\", \"ner_chunk_subentity\"])\\\n",
        "    .setOutputCol(\"masked_with_entity\")\\\n",
        "    .setMode(\"mask\")\\\n",
        "    .setMaskingPolicy(\"entity_labels\")\n",
        "\n",
        "deid_masked_char = DeIdentification()\\\n",
        "    .setInputCols([\"sentence\", \"token\", \"ner_chunk_subentity\"])\\\n",
        "    .setOutputCol(\"masked_with_chars\")\\\n",
        "    .setMode(\"mask\")\\\n",
        "    .setMaskingPolicy(\"same_length_chars\")\n",
        "\n",
        "deid_masked_fixed_char = DeIdentification()\\\n",
        "    .setInputCols([\"sentence\", \"token\", \"ner_chunk_subentity\"])\\\n",
        "    .setOutputCol(\"masked_fixed_length_chars\")\\\n",
        "    .setMode(\"mask\")\\\n",
        "    .setMaskingPolicy(\"fixed_length_chars\")\\\n",
        "    .setFixedMaskLength(4)\n",
        "\n",
        "deid_obfuscated = DeIdentification()\\\n",
        "    .setInputCols([\"sentence\", \"token\", \"ner_chunk_subentity\"]) \\\n",
        "    .setOutputCol(\"obfuscated\") \\\n",
        "    .setMode(\"obfuscate\")\\\n",
        "    .setObfuscateDate(True)\\\n",
        "    .setObfuscateRefFile('obfuscate_fr.txt')\\\n",
        "    .setObfuscateRefSource(\"file\")"
      ]
    },
    {
      "cell_type": "code",
      "execution_count": null,
      "metadata": {
        "id": "xJvb-_MzCiza"
      },
      "outputs": [],
      "source": [
        "nlpPipeline_fr = Pipeline(stages=[\n",
        "      documentAssembler, \n",
        "      sentencerDL,\n",
        "      tokenizer,\n",
        "      word_embeddings_fr,\n",
        "      ner_subentity_fr,\n",
        "      ner_converter_subentity,\n",
        "      deid_masked_entity,\n",
        "      deid_masked_char,\n",
        "      deid_masked_fixed_char,\n",
        "      deid_obfuscated\n",
        "      ])\n",
        "\n",
        "empty_data = spark.createDataFrame([[\"\"]]).toDF(\"text\")\n",
        "model_fr = nlpPipeline_fr.fit(empty_data)"
      ]
    },
    {
      "cell_type": "code",
      "execution_count": null,
      "metadata": {
        "id": "1q0c_wMRCizb"
      },
      "outputs": [],
      "source": [
        "deid_lp_fr = LightPipeline(model_fr)"
      ]
    },
    {
      "cell_type": "code",
      "execution_count": null,
      "metadata": {
        "id": "vl1GAkncCizb"
      },
      "outputs": [],
      "source": [
        "text = \"J'ai vu en consultation Michel Martinez (49 ans), jardinier, adressé au Centre Hospitalier De Plaisir pour un diabète mal contrôlé avec des symptômes datant de Mars 2015.\""
      ]
    },
    {
      "cell_type": "code",
      "execution_count": null,
      "metadata": {
        "id": "9QcuT7mCCizb",
        "colab": {
          "base_uri": "https://localhost:8080/",
          "height": 209
        },
        "outputId": "cacef9e3-a4d5-488a-ed2d-159525a81e39"
      },
      "outputs": [
        {
          "output_type": "execute_result",
          "data": {
            "text/plain": [
              "                                                                                                                                 Masked_with_entity                                                                                                                                                           Masked with Chars                                                                                                     Masked with Fixed Chars                                                                                                                                                                                               Obfuscated\n",
              "0  J'ai vu en consultation <PATIENT> (<AGE>), <PROFESSION>, adressé au <HOSPITAL> pour un diabète mal contrôlé avec des symptômes datant de <DATE>.  J'ai vu en consultation [*************] ([****]), [*******], adressé au [***************************] pour un diabète mal contrôlé avec des symptômes datant de [*******].  J'ai vu en consultation **** (****), ****, adressé au **** pour un diabète mal contrôlé avec des symptômes datant de ****.  J'ai vu en consultation Mme Renée-Paulette Perrot (56), contrôleur de performance, adressé au ASSOCIATION HOSPITALIERE DE BRETAGNE pour un diabète mal contrôlé avec des symptômes datant de 09-07-1..."
            ],
            "text/html": [
              "\n",
              "  <div id=\"df-b327f591-4310-4caf-b745-c7d38075b362\">\n",
              "    <div class=\"colab-df-container\">\n",
              "      <div>\n",
              "<style scoped>\n",
              "    .dataframe tbody tr th:only-of-type {\n",
              "        vertical-align: middle;\n",
              "    }\n",
              "\n",
              "    .dataframe tbody tr th {\n",
              "        vertical-align: top;\n",
              "    }\n",
              "\n",
              "    .dataframe thead th {\n",
              "        text-align: right;\n",
              "    }\n",
              "</style>\n",
              "<table border=\"1\" class=\"dataframe\">\n",
              "  <thead>\n",
              "    <tr style=\"text-align: right;\">\n",
              "      <th></th>\n",
              "      <th>Masked_with_entity</th>\n",
              "      <th>Masked with Chars</th>\n",
              "      <th>Masked with Fixed Chars</th>\n",
              "      <th>Obfuscated</th>\n",
              "    </tr>\n",
              "  </thead>\n",
              "  <tbody>\n",
              "    <tr>\n",
              "      <th>0</th>\n",
              "      <td>J'ai vu en consultation &lt;PATIENT&gt; (&lt;AGE&gt;), &lt;PROFESSION&gt;, adressé au &lt;HOSPITAL&gt; pour un diabète mal contrôlé avec des symptômes datant de &lt;DATE&gt;.</td>\n",
              "      <td>J'ai vu en consultation [*************] ([****]), [*******], adressé au [***************************] pour un diabète mal contrôlé avec des symptômes datant de [*******].</td>\n",
              "      <td>J'ai vu en consultation **** (****), ****, adressé au **** pour un diabète mal contrôlé avec des symptômes datant de ****.</td>\n",
              "      <td>J'ai vu en consultation Mme Renée-Paulette Perrot (56), contrôleur de performance, adressé au ASSOCIATION HOSPITALIERE DE BRETAGNE pour un diabète mal contrôlé avec des symptômes datant de 09-07-1...</td>\n",
              "    </tr>\n",
              "  </tbody>\n",
              "</table>\n",
              "</div>\n",
              "      <button class=\"colab-df-convert\" onclick=\"convertToInteractive('df-b327f591-4310-4caf-b745-c7d38075b362')\"\n",
              "              title=\"Convert this dataframe to an interactive table.\"\n",
              "              style=\"display:none;\">\n",
              "        \n",
              "  <svg xmlns=\"http://www.w3.org/2000/svg\" height=\"24px\"viewBox=\"0 0 24 24\"\n",
              "       width=\"24px\">\n",
              "    <path d=\"M0 0h24v24H0V0z\" fill=\"none\"/>\n",
              "    <path d=\"M18.56 5.44l.94 2.06.94-2.06 2.06-.94-2.06-.94-.94-2.06-.94 2.06-2.06.94zm-11 1L8.5 8.5l.94-2.06 2.06-.94-2.06-.94L8.5 2.5l-.94 2.06-2.06.94zm10 10l.94 2.06.94-2.06 2.06-.94-2.06-.94-.94-2.06-.94 2.06-2.06.94z\"/><path d=\"M17.41 7.96l-1.37-1.37c-.4-.4-.92-.59-1.43-.59-.52 0-1.04.2-1.43.59L10.3 9.45l-7.72 7.72c-.78.78-.78 2.05 0 2.83L4 21.41c.39.39.9.59 1.41.59.51 0 1.02-.2 1.41-.59l7.78-7.78 2.81-2.81c.8-.78.8-2.07 0-2.86zM5.41 20L4 18.59l7.72-7.72 1.47 1.35L5.41 20z\"/>\n",
              "  </svg>\n",
              "      </button>\n",
              "      \n",
              "  <style>\n",
              "    .colab-df-container {\n",
              "      display:flex;\n",
              "      flex-wrap:wrap;\n",
              "      gap: 12px;\n",
              "    }\n",
              "\n",
              "    .colab-df-convert {\n",
              "      background-color: #E8F0FE;\n",
              "      border: none;\n",
              "      border-radius: 50%;\n",
              "      cursor: pointer;\n",
              "      display: none;\n",
              "      fill: #1967D2;\n",
              "      height: 32px;\n",
              "      padding: 0 0 0 0;\n",
              "      width: 32px;\n",
              "    }\n",
              "\n",
              "    .colab-df-convert:hover {\n",
              "      background-color: #E2EBFA;\n",
              "      box-shadow: 0px 1px 2px rgba(60, 64, 67, 0.3), 0px 1px 3px 1px rgba(60, 64, 67, 0.15);\n",
              "      fill: #174EA6;\n",
              "    }\n",
              "\n",
              "    [theme=dark] .colab-df-convert {\n",
              "      background-color: #3B4455;\n",
              "      fill: #D2E3FC;\n",
              "    }\n",
              "\n",
              "    [theme=dark] .colab-df-convert:hover {\n",
              "      background-color: #434B5C;\n",
              "      box-shadow: 0px 1px 3px 1px rgba(0, 0, 0, 0.15);\n",
              "      filter: drop-shadow(0px 1px 2px rgba(0, 0, 0, 0.3));\n",
              "      fill: #FFFFFF;\n",
              "    }\n",
              "  </style>\n",
              "\n",
              "      <script>\n",
              "        const buttonEl =\n",
              "          document.querySelector('#df-b327f591-4310-4caf-b745-c7d38075b362 button.colab-df-convert');\n",
              "        buttonEl.style.display =\n",
              "          google.colab.kernel.accessAllowed ? 'block' : 'none';\n",
              "\n",
              "        async function convertToInteractive(key) {\n",
              "          const element = document.querySelector('#df-b327f591-4310-4caf-b745-c7d38075b362');\n",
              "          const dataTable =\n",
              "            await google.colab.kernel.invokeFunction('convertToInteractive',\n",
              "                                                     [key], {});\n",
              "          if (!dataTable) return;\n",
              "\n",
              "          const docLinkHtml = 'Like what you see? Visit the ' +\n",
              "            '<a target=\"_blank\" href=https://colab.research.google.com/notebooks/data_table.ipynb>data table notebook</a>'\n",
              "            + ' to learn more about interactive tables.';\n",
              "          element.innerHTML = '';\n",
              "          dataTable['output_type'] = 'display_data';\n",
              "          await google.colab.output.renderOutput(dataTable, element);\n",
              "          const docLink = document.createElement('div');\n",
              "          docLink.innerHTML = docLinkHtml;\n",
              "          element.appendChild(docLink);\n",
              "        }\n",
              "      </script>\n",
              "    </div>\n",
              "  </div>\n",
              "  "
            ]
          },
          "metadata": {},
          "execution_count": 62
        }
      ],
      "source": [
        "pd.set_option(\"display.max_colwidth\", 200)\n",
        "\n",
        "result_fr = deid_lp_fr.annotate(text)\n",
        "\n",
        "df_fr = pd.DataFrame(list(zip(result_fr[\"masked_with_entity\"], \n",
        "                           result_fr[\"masked_with_chars\"],\n",
        "                           result_fr[\"masked_fixed_length_chars\"], \n",
        "                           result_fr[\"obfuscated\"])),\n",
        "                 columns= [\"Masked_with_entity\", \"Masked with Chars\", \"Masked with Fixed Chars\", \"Obfuscated\"])\n",
        "\n",
        "df_fr"
      ]
    },
    {
      "cell_type": "markdown",
      "metadata": {
        "id": "fynAvBhiJFTc"
      },
      "source": [
        "### Faker mode"
      ]
    },
    {
      "cell_type": "code",
      "execution_count": null,
      "metadata": {
        "id": "tar45vbBJFTd"
      },
      "outputs": [],
      "source": [
        "deid_obfuscated_faker = DeIdentification()\\\n",
        "    .setInputCols([\"sentence\", \"token\", \"ner_chunk_subentity\"]) \\\n",
        "    .setOutputCol(\"obfuscated\") \\\n",
        "    .setMode(\"obfuscate\")\\\n",
        "    .setLanguage('fr')\\\n",
        "    .setObfuscateDate(True)\\\n",
        "    .setObfuscateRefSource('faker')"
      ]
    },
    {
      "cell_type": "code",
      "execution_count": null,
      "metadata": {
        "id": "iQtmMelHJFTd"
      },
      "outputs": [],
      "source": [
        "nlpPipeline_fr = Pipeline(stages=[\n",
        "      documentAssembler, \n",
        "      sentencerDL,\n",
        "      tokenizer,\n",
        "      word_embeddings_fr,\n",
        "      ner_subentity_fr,\n",
        "      ner_converter_subentity,\n",
        "      deid_masked_entity,\n",
        "      deid_masked_char,\n",
        "      deid_masked_fixed_char,\n",
        "      deid_obfuscated_faker\n",
        "      ])\n",
        "\n",
        "empty_data = spark.createDataFrame([[\"\"]]).toDF(\"text\")\n",
        "model_fr = nlpPipeline_fr.fit(empty_data)"
      ]
    },
    {
      "cell_type": "code",
      "execution_count": null,
      "metadata": {
        "id": "CXCPojsfJFTd"
      },
      "outputs": [],
      "source": [
        "deid_lp_fr = LightPipeline(model_fr)"
      ]
    },
    {
      "cell_type": "code",
      "execution_count": null,
      "metadata": {
        "id": "7rUJHIOpJFTd"
      },
      "outputs": [],
      "source": [
        "text = \"J'ai vu en consultation Michel Martinez (49 ans), jardinier, adressé au Centre Hospitalier De Plaisir pour un diabète mal contrôlé avec des symptômes datant de Mars 2015.\""
      ]
    },
    {
      "cell_type": "code",
      "execution_count": null,
      "metadata": {
        "id": "orPAjytUJFTd",
        "colab": {
          "base_uri": "https://localhost:8080/",
          "height": 209
        },
        "outputId": "9c6ac9c3-fe72-406c-b26b-424363c9cfb0"
      },
      "outputs": [
        {
          "output_type": "execute_result",
          "data": {
            "text/plain": [
              "                                                                                                                                 Masked_with_entity                                                                                                                                                           Masked with Chars                                                                                                     Masked with Fixed Chars                                                                                                                                                                       Obfuscated\n",
              "0  J'ai vu en consultation <PATIENT> (<AGE>), <PROFESSION>, adressé au <HOSPITAL> pour un diabète mal contrôlé avec des symptômes datant de <DATE>.  J'ai vu en consultation [*************] ([****]), [*******], adressé au [***************************] pour un diabète mal contrôlé avec des symptômes datant de [*******].  J'ai vu en consultation **** (****), ****, adressé au **** pour un diabète mal contrôlé avec des symptômes datant de ****.  J'ai vu en consultation Pagnard Goguez (53 ans), Artist, adressé au CENT HOSP SPECIALISE EDOUARD TOULOUSE pour un diabète mal contrôlé avec des symptômes datant de 07-30-1992."
            ],
            "text/html": [
              "\n",
              "  <div id=\"df-c6b10722-7511-40db-a1e5-f0d378ace00c\">\n",
              "    <div class=\"colab-df-container\">\n",
              "      <div>\n",
              "<style scoped>\n",
              "    .dataframe tbody tr th:only-of-type {\n",
              "        vertical-align: middle;\n",
              "    }\n",
              "\n",
              "    .dataframe tbody tr th {\n",
              "        vertical-align: top;\n",
              "    }\n",
              "\n",
              "    .dataframe thead th {\n",
              "        text-align: right;\n",
              "    }\n",
              "</style>\n",
              "<table border=\"1\" class=\"dataframe\">\n",
              "  <thead>\n",
              "    <tr style=\"text-align: right;\">\n",
              "      <th></th>\n",
              "      <th>Masked_with_entity</th>\n",
              "      <th>Masked with Chars</th>\n",
              "      <th>Masked with Fixed Chars</th>\n",
              "      <th>Obfuscated</th>\n",
              "    </tr>\n",
              "  </thead>\n",
              "  <tbody>\n",
              "    <tr>\n",
              "      <th>0</th>\n",
              "      <td>J'ai vu en consultation &lt;PATIENT&gt; (&lt;AGE&gt;), &lt;PROFESSION&gt;, adressé au &lt;HOSPITAL&gt; pour un diabète mal contrôlé avec des symptômes datant de &lt;DATE&gt;.</td>\n",
              "      <td>J'ai vu en consultation [*************] ([****]), [*******], adressé au [***************************] pour un diabète mal contrôlé avec des symptômes datant de [*******].</td>\n",
              "      <td>J'ai vu en consultation **** (****), ****, adressé au **** pour un diabète mal contrôlé avec des symptômes datant de ****.</td>\n",
              "      <td>J'ai vu en consultation Pagnard Goguez (53 ans), Artist, adressé au CENT HOSP SPECIALISE EDOUARD TOULOUSE pour un diabète mal contrôlé avec des symptômes datant de 07-30-1992.</td>\n",
              "    </tr>\n",
              "  </tbody>\n",
              "</table>\n",
              "</div>\n",
              "      <button class=\"colab-df-convert\" onclick=\"convertToInteractive('df-c6b10722-7511-40db-a1e5-f0d378ace00c')\"\n",
              "              title=\"Convert this dataframe to an interactive table.\"\n",
              "              style=\"display:none;\">\n",
              "        \n",
              "  <svg xmlns=\"http://www.w3.org/2000/svg\" height=\"24px\"viewBox=\"0 0 24 24\"\n",
              "       width=\"24px\">\n",
              "    <path d=\"M0 0h24v24H0V0z\" fill=\"none\"/>\n",
              "    <path d=\"M18.56 5.44l.94 2.06.94-2.06 2.06-.94-2.06-.94-.94-2.06-.94 2.06-2.06.94zm-11 1L8.5 8.5l.94-2.06 2.06-.94-2.06-.94L8.5 2.5l-.94 2.06-2.06.94zm10 10l.94 2.06.94-2.06 2.06-.94-2.06-.94-.94-2.06-.94 2.06-2.06.94z\"/><path d=\"M17.41 7.96l-1.37-1.37c-.4-.4-.92-.59-1.43-.59-.52 0-1.04.2-1.43.59L10.3 9.45l-7.72 7.72c-.78.78-.78 2.05 0 2.83L4 21.41c.39.39.9.59 1.41.59.51 0 1.02-.2 1.41-.59l7.78-7.78 2.81-2.81c.8-.78.8-2.07 0-2.86zM5.41 20L4 18.59l7.72-7.72 1.47 1.35L5.41 20z\"/>\n",
              "  </svg>\n",
              "      </button>\n",
              "      \n",
              "  <style>\n",
              "    .colab-df-container {\n",
              "      display:flex;\n",
              "      flex-wrap:wrap;\n",
              "      gap: 12px;\n",
              "    }\n",
              "\n",
              "    .colab-df-convert {\n",
              "      background-color: #E8F0FE;\n",
              "      border: none;\n",
              "      border-radius: 50%;\n",
              "      cursor: pointer;\n",
              "      display: none;\n",
              "      fill: #1967D2;\n",
              "      height: 32px;\n",
              "      padding: 0 0 0 0;\n",
              "      width: 32px;\n",
              "    }\n",
              "\n",
              "    .colab-df-convert:hover {\n",
              "      background-color: #E2EBFA;\n",
              "      box-shadow: 0px 1px 2px rgba(60, 64, 67, 0.3), 0px 1px 3px 1px rgba(60, 64, 67, 0.15);\n",
              "      fill: #174EA6;\n",
              "    }\n",
              "\n",
              "    [theme=dark] .colab-df-convert {\n",
              "      background-color: #3B4455;\n",
              "      fill: #D2E3FC;\n",
              "    }\n",
              "\n",
              "    [theme=dark] .colab-df-convert:hover {\n",
              "      background-color: #434B5C;\n",
              "      box-shadow: 0px 1px 3px 1px rgba(0, 0, 0, 0.15);\n",
              "      filter: drop-shadow(0px 1px 2px rgba(0, 0, 0, 0.3));\n",
              "      fill: #FFFFFF;\n",
              "    }\n",
              "  </style>\n",
              "\n",
              "      <script>\n",
              "        const buttonEl =\n",
              "          document.querySelector('#df-c6b10722-7511-40db-a1e5-f0d378ace00c button.colab-df-convert');\n",
              "        buttonEl.style.display =\n",
              "          google.colab.kernel.accessAllowed ? 'block' : 'none';\n",
              "\n",
              "        async function convertToInteractive(key) {\n",
              "          const element = document.querySelector('#df-c6b10722-7511-40db-a1e5-f0d378ace00c');\n",
              "          const dataTable =\n",
              "            await google.colab.kernel.invokeFunction('convertToInteractive',\n",
              "                                                     [key], {});\n",
              "          if (!dataTable) return;\n",
              "\n",
              "          const docLinkHtml = 'Like what you see? Visit the ' +\n",
              "            '<a target=\"_blank\" href=https://colab.research.google.com/notebooks/data_table.ipynb>data table notebook</a>'\n",
              "            + ' to learn more about interactive tables.';\n",
              "          element.innerHTML = '';\n",
              "          dataTable['output_type'] = 'display_data';\n",
              "          await google.colab.output.renderOutput(dataTable, element);\n",
              "          const docLink = document.createElement('div');\n",
              "          docLink.innerHTML = docLinkHtml;\n",
              "          element.appendChild(docLink);\n",
              "        }\n",
              "      </script>\n",
              "    </div>\n",
              "  </div>\n",
              "  "
            ]
          },
          "metadata": {},
          "execution_count": 67
        }
      ],
      "source": [
        "pd.set_option(\"display.max_colwidth\", 200)\n",
        "\n",
        "result_fr = deid_lp_fr.annotate(text)\n",
        "\n",
        "df_fr = pd.DataFrame(list(zip(result_fr[\"masked_with_entity\"], \n",
        "                           result_fr[\"masked_with_chars\"],\n",
        "                           result_fr[\"masked_fixed_length_chars\"], \n",
        "                           result_fr[\"obfuscated\"])),\n",
        "                 columns= [\"Masked_with_entity\", \"Masked with Chars\", \"Masked with Fixed Chars\", \"Obfuscated\"])\n",
        "\n",
        "df_fr"
      ]
    },
    {
      "cell_type": "markdown",
      "metadata": {
        "id": "Kkz2WN94C6Vt"
      },
      "source": [
        "## Pretrained French Deidentification Pipeline\n",
        "\n",
        "- We developed a clinical deidentification pretrained pipeline that can be used to deidentify PHI information from French medical texts. The PHI information will be masked and obfuscated in the resulting text. \n",
        "- The pipeline can mask and obfuscate:\n",
        "    - Patient\n",
        "    - Doctor\n",
        "    - Hospital\n",
        "    - Date\n",
        "    - Organization\n",
        "    - Sex\n",
        "    - City\n",
        "    - Street\n",
        "    - Country\n",
        "    - ZIP\n",
        "    - Username\n",
        "    - Profession\n",
        "    - Phone\n",
        "    - Email\n",
        "    - Age\n",
        "    - ID number\n",
        "    - Medical record number\n",
        "    - Account number\n",
        "    - SSN\n",
        "    - Plate Number\n",
        "    - IP address\n",
        "    - URL"
      ]
    },
    {
      "cell_type": "code",
      "execution_count": null,
      "metadata": {
        "id": "6YhQz2BZC6Vu",
        "colab": {
          "base_uri": "https://localhost:8080/"
        },
        "outputId": "b69f81a0-a176-43b5-96ec-578d2d68589f"
      },
      "outputs": [
        {
          "output_type": "stream",
          "name": "stdout",
          "text": [
            "clinical_deidentification download started this may take some time.\n",
            "Approx size to download 1.2 GB\n",
            "[OK!]\n"
          ]
        }
      ],
      "source": [
        "from sparknlp.pretrained import PretrainedPipeline\n",
        "\n",
        "deid_pipeline_fr = PretrainedPipeline(\"clinical_deidentification\", \"fr\", \"clinical/models\")"
      ]
    },
    {
      "cell_type": "code",
      "execution_count": null,
      "metadata": {
        "id": "4kd8Lsw8C6Vu"
      },
      "outputs": [],
      "source": [
        "text = \"\"\"COMPTE-RENDU D'HOSPITALISATION\n",
        "PRENOM : Jean\n",
        "NOM : Dubois\n",
        "NUMÉRO DE SÉCURITÉ SOCIALE : 1780160471058\n",
        "ADRESSE : 18 Avenue Matabiau\n",
        "VILLE : Grenoble\n",
        "CODE POSTAL : 38000\n",
        "DATE DE NAISSANCE : 03/03/1946\n",
        "Âge : 70 ans \n",
        "Sexe : H\n",
        "COURRIEL : jdubois@hotmail.fr\n",
        "DATE D'ADMISSION : 12/12/2016\n",
        "MÉDÉCIN : Dr Michel Renaud\n",
        "RAPPORT CLINIQUE : 70 ans, retraité, sans allergie médicamenteuse connue, qui présente comme antécédents : ancien accident du travail avec fractures vertébrales et des côtes ; opéré de la maladie de Dupuytren à la main droite et d'un pontage ilio-fémoral gauche ; diabète de type II, hypercholestérolémie et hyperuricémie ; alcoolisme actif, fume 20 cigarettes / jour.\n",
        "Il nous a été adressé car il présentait une hématurie macroscopique postmictionnelle à une occasion et une microhématurie persistante par la suite, avec une miction normale.\n",
        "L'examen physique a montré un bon état général, avec un abdomen et des organes génitaux normaux ; le toucher rectal était compatible avec un adénome de la prostate de grade I/IV.\n",
        "L'analyse d'urine a montré 4 globules rouges/champ et 0-5 leucocytes/champ ; le reste du sédiment était normal.\n",
        "Hémogramme normal ; la biochimie a montré une glycémie de 169 mg/dl et des triglycérides de 456 mg/dl ; les fonctions hépatiques et rénales étaient normales. PSA de 1,16 ng/ml.\n",
        "ADDRESSÉ À : Dre Marie Breton - Centre Hospitalier de Bellevue Service D'Endocrinologie et de Nutrition - Rue Paulin Bussières, 38000 Grenoble\n",
        "COURRIEL : mariebreton@chb.fr\n",
        "\"\"\""
      ]
    },
    {
      "cell_type": "code",
      "execution_count": null,
      "metadata": {
        "id": "b4LRkB71L7BP",
        "colab": {
          "base_uri": "https://localhost:8080/",
          "height": 1000
        },
        "outputId": "775f32a1-0aae-4c2f-9e0e-0449c4bb7334"
      },
      "outputs": [
        {
          "output_type": "execute_result",
          "data": {
            "text/plain": [
              "                                                                                               Sentence                                                                                               Masked                                                                                    Masked with Chars                                                                              Masked with Fixed Chars                                                                                           Obfuscated\n",
              "0                                                                        COMPTE-RENDU D'HOSPITALISATION                                                                       COMPTE-RENDU D'HOSPITALISATION                                                                       COMPTE-RENDU D'HOSPITALISATION                                                                       COMPTE-RENDU D'HOSPITALISATION                                                                       COMPTE-RENDU D'HOSPITALISATION\n",
              "1                                                                                         PRENOM : Jean                                                                                   PRENOM : <PATIENT>                                                                                        PRENOM : [**]                                                                                        PRENOM : ****                                                                                PRENOM : Mme Ollivier\n",
              "2                                                                                          NOM : Dubois                                                                                      NOM : <PATIENT>                                                                                         NOM : [****]                                                                                           NOM : ****                                                                                     NOM : Mme Traore\n",
              "3                                                            NUMÉRO DE SÉCURITÉ SOCIALE : 1780160471058                                                                   NUMÉRO DE SÉCURITÉ SOCIALE : <SSN>                                                           NUMÉRO DE SÉCURITÉ SOCIALE : [***********]                                                                    NUMÉRO DE SÉCURITÉ SOCIALE : ****                                                         NUMÉRO DE SÉCURITÉ SOCIALE : 164033818514436\n",
              "4                                                                          ADRESSE : 18 Avenue Matabiau                                                                                   ADRESSE : <STREET>                                                                         ADRESSE : [****************]                                                                                       ADRESSE : ****                                                                  ADRESSE : 731, boulevard de Legrand\n",
              "5                                                                                      VILLE : Grenoble                                                                                       VILLE : <CITY>                                                                                     VILLE : [******]                                                                                         VILLE : ****                                                                               VILLE : Sainte Antoine\n",
              "6                                                                                   CODE POSTAL : 38000                                                                                  CODE POSTAL : <ZIP>                                                                                  CODE POSTAL : [***]                                                                                   CODE POSTAL : ****                                                                                  CODE POSTAL : 32317\n",
              "7                                                                        DATE DE NAISSANCE : 03/03/1946                                                                           DATE DE NAISSANCE : <DATE>                                                                       DATE DE NAISSANCE : [********]                                                                             DATE DE NAISSANCE : ****                                                                       DATE DE NAISSANCE : 16/03/1946\n",
              "8                                                                                          Âge : 70 ans                                                                                          Âge : <AGE>                                                                                         Âge : [****]                                                                                           Âge : ****                                                                                             Âge : 46\n",
              "9                                Sexe : H\\nCOURRIEL : jdubois@hotmail.fr\\nDATE D'ADMISSION : 12/12/2016                                         Sexe : <SEX>\\nCOURRIEL : <E-MAIL>\\nDATE D'ADMISSION : <DATE>                               Sexe : *\\nCOURRIEL : [****************]\\nDATE D'ADMISSION : [********]                                                Sexe : ****\\nCOURRIEL : ****\\nDATE D'ADMISSION : ****                    Sexe : Femme\\nCOURRIEL : georgeslemonnier@live.com\\nDATE D'ADMISSION : 25/01/2017\n",
              "10                                                                           MÉDÉCIN : Dr Michel Renaud                                                                                   MÉDÉCIN : <DOCTOR>                                                                           MÉDÉCIN : [**************]                                                                                       MÉDÉCIN : ****                                                                            MÉDÉCIN : Pr. Manon Dupuy\n",
              "11  RAPPORT CLINIQUE : 70 ans, retraité, sans allergie médicamenteuse connue, qui présente comme ant...  RAPPORT CLINIQUE : <AGE>ans, retraité, sans allergie médicamenteuse connue, qui présente comme a...  RAPPORT CLINIQUE : **ans, retraité, sans allergie médicamenteuse connue, qui présente comme anté...  RAPPORT CLINIQUE : ****ans, retraité, sans allergie médicamenteuse connue, qui présente comme an...  RAPPORT CLINIQUE : 26ans, retraité, sans allergie médicamenteuse connue, qui présente comme anté...\n",
              "12  Il nous a été adressé car il présentait une hématurie macroscopique postmictionnelle à une occas...  <SEX> nous a été adressé car <SEX> présentait une hématurie macroscopique postmictionnelle à une...  ** nous a été adressé car ** présentait une hématurie macroscopique postmictionnelle à une occas...  **** nous a été adressé car **** présentait une hématurie macroscopique postmictionnelle à une o...  Homme nous a été adressé car Homme présentait une hématurie macroscopique postmictionnelle à une...\n",
              "13  L'examen physique a montré un bon état général, avec un abdomen et des organes génitaux normaux ...  L'examen physique a montré un bon état général, avec un abdomen et des organes génitaux normaux ...  L'examen physique a montré un bon état général, avec un abdomen et des organes génitaux normaux ...  L'examen physique a montré un bon état général, avec un abdomen et des organes génitaux normaux ...  L'examen physique a montré un bon état général, avec un abdomen et des organes génitaux normaux ...\n",
              "14  L'analyse d'urine a montré 4 globules rouges/champ et 0-5 leucocytes/champ ; le reste du sédimen...  L'analyse d'urine a montré 4 globules rouges/champ et 0-5 leucocytes/champ ; le reste du sédimen...  L'analyse d'urine a montré 4 globules rouges/champ et 0-5 leucocytes/champ ; le reste du sédimen...  L'analyse d'urine a montré 4 globules rouges/champ et 0-5 leucocytes/champ ; le reste du sédimen...  L'analyse d'urine a montré 4 globules rouges/champ et 0-5 leucocytes/champ ; le reste du sédimen...\n",
              "15                                                                                   PSA de 1,16 ng/ml.                                                                                   PSA de 1,16 ng/ml.                                                                                   PSA de 1,16 ng/ml.                                                                                   PSA de 1,16 ng/ml.                                                                                   PSA de 1,16 ng/ml.\n",
              "16  ADDRESSÉ À : Dre Marie Breton - Centre Hospitalier de Bellevue Service D'Endocrinologie et de Nu...  ADDRESSÉ À : <DOCTOR> - <HOSPITAL> Service D'Endocrinologie et de Nutrition - <STREET>, <ZIP><CITY>  ADDRESSÉ À : [**************] - [****************************] Service D'Endocrinologie et de Nu...                   ADDRESSÉ À : **** - **** Service D'Endocrinologie et de Nutrition - ****, ********  ADDRESSÉ À : Dr Tristan-Gilbert Poulain - CENTRE HOSPITALIER D'ORTHEZ Service D'Endocrinologie e...\n",
              "17                                                                      COURRIEL : mariebreton@chb.fr\\n                                                                                COURRIEL : <E-MAIL>\\n                                                                      COURRIEL : [****************]\\n                                                                                    COURRIEL : ****\\n                                                              COURRIEL : massecatherine@bouygtel.fr\\n"
            ],
            "text/html": [
              "\n",
              "  <div id=\"df-83414531-4ac9-4057-becb-536c88a0d3f8\">\n",
              "    <div class=\"colab-df-container\">\n",
              "      <div>\n",
              "<style scoped>\n",
              "    .dataframe tbody tr th:only-of-type {\n",
              "        vertical-align: middle;\n",
              "    }\n",
              "\n",
              "    .dataframe tbody tr th {\n",
              "        vertical-align: top;\n",
              "    }\n",
              "\n",
              "    .dataframe thead th {\n",
              "        text-align: right;\n",
              "    }\n",
              "</style>\n",
              "<table border=\"1\" class=\"dataframe\">\n",
              "  <thead>\n",
              "    <tr style=\"text-align: right;\">\n",
              "      <th></th>\n",
              "      <th>Sentence</th>\n",
              "      <th>Masked</th>\n",
              "      <th>Masked with Chars</th>\n",
              "      <th>Masked with Fixed Chars</th>\n",
              "      <th>Obfuscated</th>\n",
              "    </tr>\n",
              "  </thead>\n",
              "  <tbody>\n",
              "    <tr>\n",
              "      <th>0</th>\n",
              "      <td>COMPTE-RENDU D'HOSPITALISATION</td>\n",
              "      <td>COMPTE-RENDU D'HOSPITALISATION</td>\n",
              "      <td>COMPTE-RENDU D'HOSPITALISATION</td>\n",
              "      <td>COMPTE-RENDU D'HOSPITALISATION</td>\n",
              "      <td>COMPTE-RENDU D'HOSPITALISATION</td>\n",
              "    </tr>\n",
              "    <tr>\n",
              "      <th>1</th>\n",
              "      <td>PRENOM : Jean</td>\n",
              "      <td>PRENOM : &lt;PATIENT&gt;</td>\n",
              "      <td>PRENOM : [**]</td>\n",
              "      <td>PRENOM : ****</td>\n",
              "      <td>PRENOM : Mme Ollivier</td>\n",
              "    </tr>\n",
              "    <tr>\n",
              "      <th>2</th>\n",
              "      <td>NOM : Dubois</td>\n",
              "      <td>NOM : &lt;PATIENT&gt;</td>\n",
              "      <td>NOM : [****]</td>\n",
              "      <td>NOM : ****</td>\n",
              "      <td>NOM : Mme Traore</td>\n",
              "    </tr>\n",
              "    <tr>\n",
              "      <th>3</th>\n",
              "      <td>NUMÉRO DE SÉCURITÉ SOCIALE : 1780160471058</td>\n",
              "      <td>NUMÉRO DE SÉCURITÉ SOCIALE : &lt;SSN&gt;</td>\n",
              "      <td>NUMÉRO DE SÉCURITÉ SOCIALE : [***********]</td>\n",
              "      <td>NUMÉRO DE SÉCURITÉ SOCIALE : ****</td>\n",
              "      <td>NUMÉRO DE SÉCURITÉ SOCIALE : 164033818514436</td>\n",
              "    </tr>\n",
              "    <tr>\n",
              "      <th>4</th>\n",
              "      <td>ADRESSE : 18 Avenue Matabiau</td>\n",
              "      <td>ADRESSE : &lt;STREET&gt;</td>\n",
              "      <td>ADRESSE : [****************]</td>\n",
              "      <td>ADRESSE : ****</td>\n",
              "      <td>ADRESSE : 731, boulevard de Legrand</td>\n",
              "    </tr>\n",
              "    <tr>\n",
              "      <th>5</th>\n",
              "      <td>VILLE : Grenoble</td>\n",
              "      <td>VILLE : &lt;CITY&gt;</td>\n",
              "      <td>VILLE : [******]</td>\n",
              "      <td>VILLE : ****</td>\n",
              "      <td>VILLE : Sainte Antoine</td>\n",
              "    </tr>\n",
              "    <tr>\n",
              "      <th>6</th>\n",
              "      <td>CODE POSTAL : 38000</td>\n",
              "      <td>CODE POSTAL : &lt;ZIP&gt;</td>\n",
              "      <td>CODE POSTAL : [***]</td>\n",
              "      <td>CODE POSTAL : ****</td>\n",
              "      <td>CODE POSTAL : 32317</td>\n",
              "    </tr>\n",
              "    <tr>\n",
              "      <th>7</th>\n",
              "      <td>DATE DE NAISSANCE : 03/03/1946</td>\n",
              "      <td>DATE DE NAISSANCE : &lt;DATE&gt;</td>\n",
              "      <td>DATE DE NAISSANCE : [********]</td>\n",
              "      <td>DATE DE NAISSANCE : ****</td>\n",
              "      <td>DATE DE NAISSANCE : 16/03/1946</td>\n",
              "    </tr>\n",
              "    <tr>\n",
              "      <th>8</th>\n",
              "      <td>Âge : 70 ans</td>\n",
              "      <td>Âge : &lt;AGE&gt;</td>\n",
              "      <td>Âge : [****]</td>\n",
              "      <td>Âge : ****</td>\n",
              "      <td>Âge : 46</td>\n",
              "    </tr>\n",
              "    <tr>\n",
              "      <th>9</th>\n",
              "      <td>Sexe : H\\nCOURRIEL : jdubois@hotmail.fr\\nDATE D'ADMISSION : 12/12/2016</td>\n",
              "      <td>Sexe : &lt;SEX&gt;\\nCOURRIEL : &lt;E-MAIL&gt;\\nDATE D'ADMISSION : &lt;DATE&gt;</td>\n",
              "      <td>Sexe : *\\nCOURRIEL : [****************]\\nDATE D'ADMISSION : [********]</td>\n",
              "      <td>Sexe : ****\\nCOURRIEL : ****\\nDATE D'ADMISSION : ****</td>\n",
              "      <td>Sexe : Femme\\nCOURRIEL : georgeslemonnier@live.com\\nDATE D'ADMISSION : 25/01/2017</td>\n",
              "    </tr>\n",
              "    <tr>\n",
              "      <th>10</th>\n",
              "      <td>MÉDÉCIN : Dr Michel Renaud</td>\n",
              "      <td>MÉDÉCIN : &lt;DOCTOR&gt;</td>\n",
              "      <td>MÉDÉCIN : [**************]</td>\n",
              "      <td>MÉDÉCIN : ****</td>\n",
              "      <td>MÉDÉCIN : Pr. Manon Dupuy</td>\n",
              "    </tr>\n",
              "    <tr>\n",
              "      <th>11</th>\n",
              "      <td>RAPPORT CLINIQUE : 70 ans, retraité, sans allergie médicamenteuse connue, qui présente comme ant...</td>\n",
              "      <td>RAPPORT CLINIQUE : &lt;AGE&gt;ans, retraité, sans allergie médicamenteuse connue, qui présente comme a...</td>\n",
              "      <td>RAPPORT CLINIQUE : **ans, retraité, sans allergie médicamenteuse connue, qui présente comme anté...</td>\n",
              "      <td>RAPPORT CLINIQUE : ****ans, retraité, sans allergie médicamenteuse connue, qui présente comme an...</td>\n",
              "      <td>RAPPORT CLINIQUE : 26ans, retraité, sans allergie médicamenteuse connue, qui présente comme anté...</td>\n",
              "    </tr>\n",
              "    <tr>\n",
              "      <th>12</th>\n",
              "      <td>Il nous a été adressé car il présentait une hématurie macroscopique postmictionnelle à une occas...</td>\n",
              "      <td>&lt;SEX&gt; nous a été adressé car &lt;SEX&gt; présentait une hématurie macroscopique postmictionnelle à une...</td>\n",
              "      <td>** nous a été adressé car ** présentait une hématurie macroscopique postmictionnelle à une occas...</td>\n",
              "      <td>**** nous a été adressé car **** présentait une hématurie macroscopique postmictionnelle à une o...</td>\n",
              "      <td>Homme nous a été adressé car Homme présentait une hématurie macroscopique postmictionnelle à une...</td>\n",
              "    </tr>\n",
              "    <tr>\n",
              "      <th>13</th>\n",
              "      <td>L'examen physique a montré un bon état général, avec un abdomen et des organes génitaux normaux ...</td>\n",
              "      <td>L'examen physique a montré un bon état général, avec un abdomen et des organes génitaux normaux ...</td>\n",
              "      <td>L'examen physique a montré un bon état général, avec un abdomen et des organes génitaux normaux ...</td>\n",
              "      <td>L'examen physique a montré un bon état général, avec un abdomen et des organes génitaux normaux ...</td>\n",
              "      <td>L'examen physique a montré un bon état général, avec un abdomen et des organes génitaux normaux ...</td>\n",
              "    </tr>\n",
              "    <tr>\n",
              "      <th>14</th>\n",
              "      <td>L'analyse d'urine a montré 4 globules rouges/champ et 0-5 leucocytes/champ ; le reste du sédimen...</td>\n",
              "      <td>L'analyse d'urine a montré 4 globules rouges/champ et 0-5 leucocytes/champ ; le reste du sédimen...</td>\n",
              "      <td>L'analyse d'urine a montré 4 globules rouges/champ et 0-5 leucocytes/champ ; le reste du sédimen...</td>\n",
              "      <td>L'analyse d'urine a montré 4 globules rouges/champ et 0-5 leucocytes/champ ; le reste du sédimen...</td>\n",
              "      <td>L'analyse d'urine a montré 4 globules rouges/champ et 0-5 leucocytes/champ ; le reste du sédimen...</td>\n",
              "    </tr>\n",
              "    <tr>\n",
              "      <th>15</th>\n",
              "      <td>PSA de 1,16 ng/ml.</td>\n",
              "      <td>PSA de 1,16 ng/ml.</td>\n",
              "      <td>PSA de 1,16 ng/ml.</td>\n",
              "      <td>PSA de 1,16 ng/ml.</td>\n",
              "      <td>PSA de 1,16 ng/ml.</td>\n",
              "    </tr>\n",
              "    <tr>\n",
              "      <th>16</th>\n",
              "      <td>ADDRESSÉ À : Dre Marie Breton - Centre Hospitalier de Bellevue Service D'Endocrinologie et de Nu...</td>\n",
              "      <td>ADDRESSÉ À : &lt;DOCTOR&gt; - &lt;HOSPITAL&gt; Service D'Endocrinologie et de Nutrition - &lt;STREET&gt;, &lt;ZIP&gt;&lt;CITY&gt;</td>\n",
              "      <td>ADDRESSÉ À : [**************] - [****************************] Service D'Endocrinologie et de Nu...</td>\n",
              "      <td>ADDRESSÉ À : **** - **** Service D'Endocrinologie et de Nutrition - ****, ********</td>\n",
              "      <td>ADDRESSÉ À : Dr Tristan-Gilbert Poulain - CENTRE HOSPITALIER D'ORTHEZ Service D'Endocrinologie e...</td>\n",
              "    </tr>\n",
              "    <tr>\n",
              "      <th>17</th>\n",
              "      <td>COURRIEL : mariebreton@chb.fr\\n</td>\n",
              "      <td>COURRIEL : &lt;E-MAIL&gt;\\n</td>\n",
              "      <td>COURRIEL : [****************]\\n</td>\n",
              "      <td>COURRIEL : ****\\n</td>\n",
              "      <td>COURRIEL : massecatherine@bouygtel.fr\\n</td>\n",
              "    </tr>\n",
              "  </tbody>\n",
              "</table>\n",
              "</div>\n",
              "      <button class=\"colab-df-convert\" onclick=\"convertToInteractive('df-83414531-4ac9-4057-becb-536c88a0d3f8')\"\n",
              "              title=\"Convert this dataframe to an interactive table.\"\n",
              "              style=\"display:none;\">\n",
              "        \n",
              "  <svg xmlns=\"http://www.w3.org/2000/svg\" height=\"24px\"viewBox=\"0 0 24 24\"\n",
              "       width=\"24px\">\n",
              "    <path d=\"M0 0h24v24H0V0z\" fill=\"none\"/>\n",
              "    <path d=\"M18.56 5.44l.94 2.06.94-2.06 2.06-.94-2.06-.94-.94-2.06-.94 2.06-2.06.94zm-11 1L8.5 8.5l.94-2.06 2.06-.94-2.06-.94L8.5 2.5l-.94 2.06-2.06.94zm10 10l.94 2.06.94-2.06 2.06-.94-2.06-.94-.94-2.06-.94 2.06-2.06.94z\"/><path d=\"M17.41 7.96l-1.37-1.37c-.4-.4-.92-.59-1.43-.59-.52 0-1.04.2-1.43.59L10.3 9.45l-7.72 7.72c-.78.78-.78 2.05 0 2.83L4 21.41c.39.39.9.59 1.41.59.51 0 1.02-.2 1.41-.59l7.78-7.78 2.81-2.81c.8-.78.8-2.07 0-2.86zM5.41 20L4 18.59l7.72-7.72 1.47 1.35L5.41 20z\"/>\n",
              "  </svg>\n",
              "      </button>\n",
              "      \n",
              "  <style>\n",
              "    .colab-df-container {\n",
              "      display:flex;\n",
              "      flex-wrap:wrap;\n",
              "      gap: 12px;\n",
              "    }\n",
              "\n",
              "    .colab-df-convert {\n",
              "      background-color: #E8F0FE;\n",
              "      border: none;\n",
              "      border-radius: 50%;\n",
              "      cursor: pointer;\n",
              "      display: none;\n",
              "      fill: #1967D2;\n",
              "      height: 32px;\n",
              "      padding: 0 0 0 0;\n",
              "      width: 32px;\n",
              "    }\n",
              "\n",
              "    .colab-df-convert:hover {\n",
              "      background-color: #E2EBFA;\n",
              "      box-shadow: 0px 1px 2px rgba(60, 64, 67, 0.3), 0px 1px 3px 1px rgba(60, 64, 67, 0.15);\n",
              "      fill: #174EA6;\n",
              "    }\n",
              "\n",
              "    [theme=dark] .colab-df-convert {\n",
              "      background-color: #3B4455;\n",
              "      fill: #D2E3FC;\n",
              "    }\n",
              "\n",
              "    [theme=dark] .colab-df-convert:hover {\n",
              "      background-color: #434B5C;\n",
              "      box-shadow: 0px 1px 3px 1px rgba(0, 0, 0, 0.15);\n",
              "      filter: drop-shadow(0px 1px 2px rgba(0, 0, 0, 0.3));\n",
              "      fill: #FFFFFF;\n",
              "    }\n",
              "  </style>\n",
              "\n",
              "      <script>\n",
              "        const buttonEl =\n",
              "          document.querySelector('#df-83414531-4ac9-4057-becb-536c88a0d3f8 button.colab-df-convert');\n",
              "        buttonEl.style.display =\n",
              "          google.colab.kernel.accessAllowed ? 'block' : 'none';\n",
              "\n",
              "        async function convertToInteractive(key) {\n",
              "          const element = document.querySelector('#df-83414531-4ac9-4057-becb-536c88a0d3f8');\n",
              "          const dataTable =\n",
              "            await google.colab.kernel.invokeFunction('convertToInteractive',\n",
              "                                                     [key], {});\n",
              "          if (!dataTable) return;\n",
              "\n",
              "          const docLinkHtml = 'Like what you see? Visit the ' +\n",
              "            '<a target=\"_blank\" href=https://colab.research.google.com/notebooks/data_table.ipynb>data table notebook</a>'\n",
              "            + ' to learn more about interactive tables.';\n",
              "          element.innerHTML = '';\n",
              "          dataTable['output_type'] = 'display_data';\n",
              "          await google.colab.output.renderOutput(dataTable, element);\n",
              "          const docLink = document.createElement('div');\n",
              "          docLink.innerHTML = docLinkHtml;\n",
              "          element.appendChild(docLink);\n",
              "        }\n",
              "      </script>\n",
              "    </div>\n",
              "  </div>\n",
              "  "
            ]
          },
          "metadata": {},
          "execution_count": 70
        }
      ],
      "source": [
        "pd.set_option(\"display.max_colwidth\", 100)\n",
        "\n",
        "result_fr = deid_pipeline_fr.annotate(text)\n",
        "\n",
        "df_fr = pd.DataFrame(list(zip(result_fr[\"sentence\"], \n",
        "                           result_fr[\"masked\"],\n",
        "                           result_fr[\"masked_with_chars\"], \n",
        "                           result_fr[\"masked_fixed_length_chars\"], \n",
        "                           result_fr[\"obfuscated\"])),\n",
        "                 columns= [\"Sentence\", \"Masked\", \"Masked with Chars\", \"Masked with Fixed Chars\", \"Obfuscated\"])\n",
        "\n",
        "df_fr"
      ]
    },
    {
      "cell_type": "markdown",
      "metadata": {
        "id": "MRrkybUQX0dJ"
      },
      "source": [
        "# DE-IDENTIFICATION FOR ITALIAN"
      ]
    },
    {
      "cell_type": "markdown",
      "metadata": {
        "id": "vXfm9gdjDoT5"
      },
      "source": [
        "## Italian NER Deidentification Models\n",
        "We have two different models you can use:\n",
        "* `ner_deid_generic`, detects 8 entities\n",
        "* `ner_deid_subentity`, detects 19 entities"
      ]
    },
    {
      "cell_type": "markdown",
      "metadata": {
        "id": "--JcFSe3596f"
      },
      "source": [
        "|index|model|lang|index|model|lang|\n",
        "|-----:|:-----|----|-----:|:-----|----|\n",
        "| 1| [ner_deid_generic](https://nlp.johnsnowlabs.com/2022/03/25/ner_deid_generic_it_3_0.html)  |it| 2| [ner_deid_subentity](https://nlp.johnsnowlabs.com/2022/03/25/ner_deid_subentity_it_2_4.html)  |it|\n"
      ]
    },
    {
      "cell_type": "markdown",
      "metadata": {
        "id": "STwBjefSDoT5"
      },
      "source": [
        "Creating pipeline"
      ]
    },
    {
      "cell_type": "code",
      "execution_count": null,
      "metadata": {
        "id": "4N5tyn65DoT6",
        "colab": {
          "base_uri": "https://localhost:8080/"
        },
        "outputId": "88cbc312-5b6d-4ff7-feed-513c9d1f155c"
      },
      "outputs": [
        {
          "output_type": "stream",
          "name": "stdout",
          "text": [
            "sentence_detector_dl download started this may take some time.\n",
            "Approximate size to download 514.9 KB\n",
            "[OK!]\n",
            "w2v_cc_300d download started this may take some time.\n",
            "Approximate size to download 1.2 GB\n",
            "[OK!]\n"
          ]
        }
      ],
      "source": [
        "documentAssembler = DocumentAssembler()\\\n",
        "    .setInputCol(\"text\")\\\n",
        "    .setOutputCol(\"document\")\n",
        "\n",
        "sentencerDL = SentenceDetectorDLModel.pretrained(\"sentence_detector_dl\", \"xx\") \\\n",
        "    .setInputCols([\"document\"])\\\n",
        "    .setOutputCol(\"sentence\")\n",
        "\n",
        "tokenizer = Tokenizer()\\\n",
        "    .setInputCols([\"sentence\"])\\\n",
        "    .setOutputCol(\"token\")\n",
        "\n",
        "word_embeddings_it = WordEmbeddingsModel.pretrained(\"w2v_cc_300d\", \"it\")\\\n",
        "    .setInputCols([\"document\",\"token\"])\\\n",
        "\t  .setOutputCol(\"embeddings\")"
      ]
    },
    {
      "cell_type": "markdown",
      "metadata": {
        "id": "FsVr6T7vDoT6"
      },
      "source": [
        "###  NER Deid Generic\n",
        "\n",
        "**`ner_deid_generic`** extracts:\n",
        "- Name\n",
        "- Profession\n",
        "- Age\n",
        "- Date\n",
        "- Contact (Telephone numbers, Email addresses)\n",
        "- Location (Address, City, Postal code, Hospital Name, Organization)\n",
        "- ID (Social Security numbers, Medical record numbers)\n",
        "- Sex"
      ]
    },
    {
      "cell_type": "code",
      "execution_count": null,
      "metadata": {
        "id": "_-lyojUyDoT6",
        "colab": {
          "base_uri": "https://localhost:8080/"
        },
        "outputId": "a694abdf-9ac1-4f80-fc48-d86b8fc2917a"
      },
      "outputs": [
        {
          "output_type": "stream",
          "name": "stdout",
          "text": [
            "ner_deid_generic download started this may take some time.\n",
            "[OK!]\n"
          ]
        }
      ],
      "source": [
        "ner_generic_it = MedicalNerModel.pretrained(\"ner_deid_generic\", \"it\", \"clinical/models\")\\\n",
        "    .setInputCols([\"sentence\",\"token\",\"embeddings\"])\\\n",
        "    .setOutputCol(\"ner_deid_generic\")\n",
        "\n",
        "ner_converter_generic = NerConverterInternal()\\\n",
        "    .setInputCols([\"sentence\",\"token\",\"ner_deid_generic\"])\\\n",
        "    .setOutputCol(\"ner_chunk_generic\")"
      ]
    },
    {
      "cell_type": "code",
      "execution_count": null,
      "metadata": {
        "id": "PwkwKtRIDoT6",
        "colab": {
          "base_uri": "https://localhost:8080/"
        },
        "outputId": "3d2f2126-009b-46d0-903e-1181aa8a291f"
      },
      "outputs": [
        {
          "output_type": "execute_result",
          "data": {
            "text/plain": [
              "['O',\n",
              " 'I-LOCATION',\n",
              " 'I-CONTACT',\n",
              " 'I-PROFESSION',\n",
              " 'I-NAME',\n",
              " 'I-DATE',\n",
              " 'B-ID',\n",
              " 'B-CONTACT',\n",
              " 'B-PROFESSION',\n",
              " 'I-ID',\n",
              " 'B-NAME',\n",
              " 'B-DATE',\n",
              " 'B-LOCATION',\n",
              " 'B-SEX',\n",
              " 'I-SEX',\n",
              " 'B-AGE']"
            ]
          },
          "metadata": {},
          "execution_count": 73
        }
      ],
      "source": [
        "ner_generic_it.getClasses()"
      ]
    },
    {
      "cell_type": "markdown",
      "metadata": {
        "id": "Niz6gLadDoT6"
      },
      "source": [
        "### NER Deid Subentity\n",
        "\n",
        "**`ner_deid_subentity`** extracts:\n",
        "\n",
        "- Patient\n",
        "- Doctor\n",
        "- Hospital\n",
        "- Date\n",
        "- Organization\n",
        "- City\n",
        "- Street\n",
        "- Username\n",
        "- Profession\n",
        "- Phone\n",
        "- Country\n",
        "- Age\n",
        "- Sex\n",
        "- Email\n",
        "- ZIP\n",
        "- Medical Record Number\n",
        "- Social Security Number\n",
        "- ID Number\n",
        "- URL"
      ]
    },
    {
      "cell_type": "code",
      "execution_count": null,
      "metadata": {
        "id": "OG5d73IcDoT6",
        "colab": {
          "base_uri": "https://localhost:8080/"
        },
        "outputId": "0ccd5af6-a2b3-4316-f600-fd8e6f3842eb"
      },
      "outputs": [
        {
          "output_type": "stream",
          "name": "stdout",
          "text": [
            "ner_deid_subentity download started this may take some time.\n",
            "[OK!]\n"
          ]
        }
      ],
      "source": [
        "ner_subentity_it = MedicalNerModel.pretrained(\"ner_deid_subentity\", \"it\", \"clinical/models\")\\\n",
        "    .setInputCols([\"sentence\",\"token\",\"embeddings\"])\\\n",
        "    .setOutputCol(\"ner_deid_subentity\")\n",
        "\n",
        "ner_converter_subentity = NerConverterInternal()\\\n",
        "    .setInputCols([\"sentence\", \"token\", \"ner_deid_subentity\"])\\\n",
        "    .setOutputCol(\"ner_chunk_subentity\")"
      ]
    },
    {
      "cell_type": "code",
      "execution_count": null,
      "metadata": {
        "id": "gt-lLmEmDoT7",
        "colab": {
          "base_uri": "https://localhost:8080/"
        },
        "outputId": "66a548f2-3582-4a65-a482-3276ae56fdaa"
      },
      "outputs": [
        {
          "output_type": "execute_result",
          "data": {
            "text/plain": [
              "['O',\n",
              " 'B-MEDICALRECORD',\n",
              " 'B-ORGANIZATION',\n",
              " 'I-PROFESSION',\n",
              " 'B-DOCTOR',\n",
              " 'B-USERNAME',\n",
              " 'B-PROFESSION',\n",
              " 'B-URL',\n",
              " 'I-URL',\n",
              " 'B-CITY',\n",
              " 'B-DATE',\n",
              " 'I-MEDICALRECORD',\n",
              " 'B-SEX',\n",
              " 'B-PATIENT',\n",
              " 'I-SEX',\n",
              " 'I-DOCTOR',\n",
              " 'I-CITY',\n",
              " 'B-SSN',\n",
              " 'I-DATE',\n",
              " 'I-SSN',\n",
              " 'B-COUNTRY',\n",
              " 'B-ZIP',\n",
              " 'I-STREET',\n",
              " 'I-PATIENT',\n",
              " 'B-PHONE',\n",
              " 'I-PHONE',\n",
              " 'B-HOSPITAL',\n",
              " 'B-EMAIL',\n",
              " 'B-IDNUM',\n",
              " 'B-STREET',\n",
              " 'I-IDNUM',\n",
              " 'I-ORGANIZATION',\n",
              " 'I-HOSPITAL',\n",
              " 'B-AGE',\n",
              " 'I-COUNTRY']"
            ]
          },
          "metadata": {},
          "execution_count": 75
        }
      ],
      "source": [
        "ner_subentity_it.getClasses()"
      ]
    },
    {
      "cell_type": "markdown",
      "metadata": {
        "id": "4a2w62hmDoT7"
      },
      "source": [
        "###  Pipeline"
      ]
    },
    {
      "cell_type": "code",
      "execution_count": null,
      "metadata": {
        "id": "hCXCuhpADoT7"
      },
      "outputs": [],
      "source": [
        "nlpPipeline_it = Pipeline(stages=[\n",
        "      documentAssembler, \n",
        "      sentencerDL,\n",
        "      tokenizer,\n",
        "      word_embeddings_it,\n",
        "      ner_generic_it,\n",
        "      ner_converter_generic,\n",
        "      ner_subentity_it,\n",
        "      ner_converter_subentity,\n",
        "      ])\n",
        "\n",
        "empty_data = spark.createDataFrame([[\"\"]]).toDF(\"text\")\n",
        "model_it = nlpPipeline_it.fit(empty_data)"
      ]
    },
    {
      "cell_type": "code",
      "execution_count": null,
      "metadata": {
        "id": "tSMuVV46DoT7"
      },
      "outputs": [],
      "source": [
        "text = \"Ho visto Gastone Montanariello (49 anni), virologo, riferito all' Ospedale San Camillo per diabete mal controllato con sintomi risalenti a marzo 2015.\"\n",
        "\n",
        "text_df = spark.createDataFrame([[text]]).toDF(\"text\")\n",
        "result_it = model_it.transform(text_df)"
      ]
    },
    {
      "cell_type": "markdown",
      "metadata": {
        "id": "hXUET7KBDoT7"
      },
      "source": [
        "Results for `ner_deid_generic`"
      ]
    },
    {
      "cell_type": "code",
      "execution_count": null,
      "metadata": {
        "id": "KEjTvI87DoT7",
        "colab": {
          "base_uri": "https://localhost:8080/"
        },
        "outputId": "e86995ce-5ad9-4056-b979-0e187a45a2af"
      },
      "outputs": [
        {
          "output_type": "stream",
          "name": "stdout",
          "text": [
            "+---------------------+----------+\n",
            "|chunk                |ner_label |\n",
            "+---------------------+----------+\n",
            "|Gastone Montanariello|NAME      |\n",
            "|49                   |AGE       |\n",
            "|virologo             |PROFESSION|\n",
            "|Ospedale San Camillo |LOCATION  |\n",
            "|marzo 2015           |DATE      |\n",
            "+---------------------+----------+\n",
            "\n"
          ]
        }
      ],
      "source": [
        "result_it.select(F.explode(F.arrays_zip(result_it.ner_chunk_generic.result, result_it.ner_chunk_generic.metadata)).alias(\"cols\")) \\\n",
        "         .select(F.expr(\"cols['0']\").alias(\"chunk\"),\n",
        "                 F.expr(\"cols['1']['entity']\").alias(\"ner_label\")).show(truncate=False)"
      ]
    },
    {
      "cell_type": "markdown",
      "metadata": {
        "id": "URJoqrugDoT7"
      },
      "source": [
        "Results for `ner_deid_subentity`"
      ]
    },
    {
      "cell_type": "code",
      "execution_count": null,
      "metadata": {
        "id": "IhWMVXN6DoT7",
        "colab": {
          "base_uri": "https://localhost:8080/"
        },
        "outputId": "9df8b8b0-fe49-4fa5-c085-b681956d7a63"
      },
      "outputs": [
        {
          "output_type": "stream",
          "name": "stdout",
          "text": [
            "+---------------------+----------+\n",
            "|chunk                |ner_label |\n",
            "+---------------------+----------+\n",
            "|Gastone Montanariello|PATIENT   |\n",
            "|49                   |AGE       |\n",
            "|virologo             |PROFESSION|\n",
            "|Ospedale San Camillo |HOSPITAL  |\n",
            "|marzo 2015           |DATE      |\n",
            "+---------------------+----------+\n",
            "\n"
          ]
        }
      ],
      "source": [
        "result_it.select(F.explode(F.arrays_zip(result_it.ner_chunk_subentity.result, result_it.ner_chunk_subentity.metadata)).alias(\"cols\")) \\\n",
        "         .select(F.expr(\"cols['0']\").alias(\"chunk\"),\n",
        "                 F.expr(\"cols['1']['entity']\").alias(\"ner_label\")).show(truncate=False)"
      ]
    },
    {
      "cell_type": "markdown",
      "metadata": {
        "id": "ZmClPVDfddNv"
      },
      "source": [
        "## DeIdentification"
      ]
    },
    {
      "cell_type": "markdown",
      "metadata": {
        "id": "jn0roWM7DoT8"
      },
      "source": [
        "### Obfuscation mode"
      ]
    },
    {
      "cell_type": "code",
      "execution_count": null,
      "metadata": {
        "id": "sWCpqRf4DoT8"
      },
      "outputs": [],
      "source": [
        "# Downloading faker entity list.\n",
        "! wget -q https://raw.githubusercontent.com/JohnSnowLabs/spark-nlp-workshop/master/tutorials/Certification_Trainings/Healthcare/data/obfuscate_it.txt"
      ]
    },
    {
      "cell_type": "code",
      "execution_count": null,
      "metadata": {
        "id": "LC9DjTvYDoT8"
      },
      "outputs": [],
      "source": [
        "deid_masked_entity = DeIdentification()\\\n",
        "    .setInputCols([\"sentence\", \"token\", \"ner_chunk_subentity\"])\\\n",
        "    .setOutputCol(\"masked_with_entity\")\\\n",
        "    .setMode(\"mask\")\\\n",
        "    .setMaskingPolicy(\"entity_labels\")\n",
        "\n",
        "deid_masked_char = DeIdentification()\\\n",
        "    .setInputCols([\"sentence\", \"token\", \"ner_chunk_subentity\"])\\\n",
        "    .setOutputCol(\"masked_with_chars\")\\\n",
        "    .setMode(\"mask\")\\\n",
        "    .setMaskingPolicy(\"same_length_chars\")\n",
        "\n",
        "deid_masked_fixed_char = DeIdentification()\\\n",
        "    .setInputCols([\"sentence\", \"token\", \"ner_chunk_subentity\"])\\\n",
        "    .setOutputCol(\"masked_fixed_length_chars\")\\\n",
        "    .setMode(\"mask\")\\\n",
        "    .setMaskingPolicy(\"fixed_length_chars\")\\\n",
        "    .setFixedMaskLength(4)\n",
        "\n",
        "deid_obfuscated = DeIdentification()\\\n",
        "    .setInputCols([\"sentence\", \"token\", \"ner_chunk_subentity\"]) \\\n",
        "    .setOutputCol(\"obfuscated\") \\\n",
        "    .setMode(\"obfuscate\")\\\n",
        "    .setObfuscateDate(True)\\\n",
        "    .setObfuscateRefFile('obfuscate_it.txt')\\\n",
        "    .setObfuscateRefSource(\"file\")"
      ]
    },
    {
      "cell_type": "code",
      "execution_count": null,
      "metadata": {
        "id": "vcgI1jW4DoT8"
      },
      "outputs": [],
      "source": [
        "nlpPipeline_it = Pipeline(stages=[\n",
        "      documentAssembler, \n",
        "      sentencerDL,\n",
        "      tokenizer,\n",
        "      word_embeddings_it,\n",
        "      ner_subentity_it,\n",
        "      ner_converter_subentity,\n",
        "      deid_masked_entity,\n",
        "      deid_masked_char,\n",
        "      deid_masked_fixed_char,\n",
        "      deid_obfuscated\n",
        "      ])\n",
        "\n",
        "empty_data = spark.createDataFrame([[\"\"]]).toDF(\"text\")\n",
        "model_it = nlpPipeline_it.fit(empty_data)"
      ]
    },
    {
      "cell_type": "code",
      "execution_count": null,
      "metadata": {
        "id": "lPKv-maCDoT9"
      },
      "outputs": [],
      "source": [
        "deid_lp_it = LightPipeline(model_it)"
      ]
    },
    {
      "cell_type": "code",
      "execution_count": null,
      "metadata": {
        "id": "YAH24h20DoT9"
      },
      "outputs": [],
      "source": [
        "text = \"Ho visto Gastone Montanariello (49 anni), virologo, riferito all' Ospedale San Camillo per diabete mal controllato con sintomi risalenti a marzo 2015.\""
      ]
    },
    {
      "cell_type": "code",
      "execution_count": null,
      "metadata": {
        "id": "v8KakNhlMtnp",
        "colab": {
          "base_uri": "https://localhost:8080/",
          "height": 192
        },
        "outputId": "21c751ee-bae8-4221-b490-212ec53113ec"
      },
      "outputs": [
        {
          "output_type": "execute_result",
          "data": {
            "text/plain": [
              "                                                                                                                    Masked_with_entity                                                                                                                                       Masked with Chars                                                                                        Masked with Fixed Chars                                                                                                                                   Obfuscated\n",
              "0  Ho visto <PATIENT> (<AGE> anni), <PROFESSION>, riferito all' <HOSPITAL> per diabete mal controllato con sintomi risalenti a <DATE>.  Ho visto [*******************] (** anni), [******], riferito all' [******************] per diabete mal controllato con sintomi risalenti a [********].  Ho visto **** (**** anni), ****, riferito all' **** per diabete mal controllato con sintomi risalenti a ****.  Ho visto Fredo (60 anni), Statista, riferito all' Casa Di Cura Val Di Sieve per diabete mal controllato con sintomi risalenti a 04-11-1989."
            ],
            "text/html": [
              "\n",
              "  <div id=\"df-e896c363-0ce9-4fc6-8032-088baa591761\">\n",
              "    <div class=\"colab-df-container\">\n",
              "      <div>\n",
              "<style scoped>\n",
              "    .dataframe tbody tr th:only-of-type {\n",
              "        vertical-align: middle;\n",
              "    }\n",
              "\n",
              "    .dataframe tbody tr th {\n",
              "        vertical-align: top;\n",
              "    }\n",
              "\n",
              "    .dataframe thead th {\n",
              "        text-align: right;\n",
              "    }\n",
              "</style>\n",
              "<table border=\"1\" class=\"dataframe\">\n",
              "  <thead>\n",
              "    <tr style=\"text-align: right;\">\n",
              "      <th></th>\n",
              "      <th>Masked_with_entity</th>\n",
              "      <th>Masked with Chars</th>\n",
              "      <th>Masked with Fixed Chars</th>\n",
              "      <th>Obfuscated</th>\n",
              "    </tr>\n",
              "  </thead>\n",
              "  <tbody>\n",
              "    <tr>\n",
              "      <th>0</th>\n",
              "      <td>Ho visto &lt;PATIENT&gt; (&lt;AGE&gt; anni), &lt;PROFESSION&gt;, riferito all' &lt;HOSPITAL&gt; per diabete mal controllato con sintomi risalenti a &lt;DATE&gt;.</td>\n",
              "      <td>Ho visto [*******************] (** anni), [******], riferito all' [******************] per diabete mal controllato con sintomi risalenti a [********].</td>\n",
              "      <td>Ho visto **** (**** anni), ****, riferito all' **** per diabete mal controllato con sintomi risalenti a ****.</td>\n",
              "      <td>Ho visto Fredo (60 anni), Statista, riferito all' Casa Di Cura Val Di Sieve per diabete mal controllato con sintomi risalenti a 04-11-1989.</td>\n",
              "    </tr>\n",
              "  </tbody>\n",
              "</table>\n",
              "</div>\n",
              "      <button class=\"colab-df-convert\" onclick=\"convertToInteractive('df-e896c363-0ce9-4fc6-8032-088baa591761')\"\n",
              "              title=\"Convert this dataframe to an interactive table.\"\n",
              "              style=\"display:none;\">\n",
              "        \n",
              "  <svg xmlns=\"http://www.w3.org/2000/svg\" height=\"24px\"viewBox=\"0 0 24 24\"\n",
              "       width=\"24px\">\n",
              "    <path d=\"M0 0h24v24H0V0z\" fill=\"none\"/>\n",
              "    <path d=\"M18.56 5.44l.94 2.06.94-2.06 2.06-.94-2.06-.94-.94-2.06-.94 2.06-2.06.94zm-11 1L8.5 8.5l.94-2.06 2.06-.94-2.06-.94L8.5 2.5l-.94 2.06-2.06.94zm10 10l.94 2.06.94-2.06 2.06-.94-2.06-.94-.94-2.06-.94 2.06-2.06.94z\"/><path d=\"M17.41 7.96l-1.37-1.37c-.4-.4-.92-.59-1.43-.59-.52 0-1.04.2-1.43.59L10.3 9.45l-7.72 7.72c-.78.78-.78 2.05 0 2.83L4 21.41c.39.39.9.59 1.41.59.51 0 1.02-.2 1.41-.59l7.78-7.78 2.81-2.81c.8-.78.8-2.07 0-2.86zM5.41 20L4 18.59l7.72-7.72 1.47 1.35L5.41 20z\"/>\n",
              "  </svg>\n",
              "      </button>\n",
              "      \n",
              "  <style>\n",
              "    .colab-df-container {\n",
              "      display:flex;\n",
              "      flex-wrap:wrap;\n",
              "      gap: 12px;\n",
              "    }\n",
              "\n",
              "    .colab-df-convert {\n",
              "      background-color: #E8F0FE;\n",
              "      border: none;\n",
              "      border-radius: 50%;\n",
              "      cursor: pointer;\n",
              "      display: none;\n",
              "      fill: #1967D2;\n",
              "      height: 32px;\n",
              "      padding: 0 0 0 0;\n",
              "      width: 32px;\n",
              "    }\n",
              "\n",
              "    .colab-df-convert:hover {\n",
              "      background-color: #E2EBFA;\n",
              "      box-shadow: 0px 1px 2px rgba(60, 64, 67, 0.3), 0px 1px 3px 1px rgba(60, 64, 67, 0.15);\n",
              "      fill: #174EA6;\n",
              "    }\n",
              "\n",
              "    [theme=dark] .colab-df-convert {\n",
              "      background-color: #3B4455;\n",
              "      fill: #D2E3FC;\n",
              "    }\n",
              "\n",
              "    [theme=dark] .colab-df-convert:hover {\n",
              "      background-color: #434B5C;\n",
              "      box-shadow: 0px 1px 3px 1px rgba(0, 0, 0, 0.15);\n",
              "      filter: drop-shadow(0px 1px 2px rgba(0, 0, 0, 0.3));\n",
              "      fill: #FFFFFF;\n",
              "    }\n",
              "  </style>\n",
              "\n",
              "      <script>\n",
              "        const buttonEl =\n",
              "          document.querySelector('#df-e896c363-0ce9-4fc6-8032-088baa591761 button.colab-df-convert');\n",
              "        buttonEl.style.display =\n",
              "          google.colab.kernel.accessAllowed ? 'block' : 'none';\n",
              "\n",
              "        async function convertToInteractive(key) {\n",
              "          const element = document.querySelector('#df-e896c363-0ce9-4fc6-8032-088baa591761');\n",
              "          const dataTable =\n",
              "            await google.colab.kernel.invokeFunction('convertToInteractive',\n",
              "                                                     [key], {});\n",
              "          if (!dataTable) return;\n",
              "\n",
              "          const docLinkHtml = 'Like what you see? Visit the ' +\n",
              "            '<a target=\"_blank\" href=https://colab.research.google.com/notebooks/data_table.ipynb>data table notebook</a>'\n",
              "            + ' to learn more about interactive tables.';\n",
              "          element.innerHTML = '';\n",
              "          dataTable['output_type'] = 'display_data';\n",
              "          await google.colab.output.renderOutput(dataTable, element);\n",
              "          const docLink = document.createElement('div');\n",
              "          docLink.innerHTML = docLinkHtml;\n",
              "          element.appendChild(docLink);\n",
              "        }\n",
              "      </script>\n",
              "    </div>\n",
              "  </div>\n",
              "  "
            ]
          },
          "metadata": {},
          "execution_count": 85
        }
      ],
      "source": [
        "pd.set_option(\"display.max_colwidth\", 200)\n",
        "\n",
        "result_it = deid_lp_it.annotate(text)\n",
        "\n",
        "df_it = pd.DataFrame(list(zip(result_it[\"masked_with_entity\"], \n",
        "                           result_it[\"masked_with_chars\"],\n",
        "                           result_it[\"masked_fixed_length_chars\"], \n",
        "                           result_it[\"obfuscated\"])),\n",
        "                 columns= [\"Masked_with_entity\", \"Masked with Chars\", \"Masked with Fixed Chars\", \"Obfuscated\"])\n",
        "\n",
        "df_it"
      ]
    },
    {
      "cell_type": "markdown",
      "metadata": {
        "id": "DyA_2E7PMuLq"
      },
      "source": [
        "### Faker mode"
      ]
    },
    {
      "cell_type": "code",
      "execution_count": null,
      "metadata": {
        "id": "4WULhUB-MuLr"
      },
      "outputs": [],
      "source": [
        "deid_obfuscated = DeIdentification()\\\n",
        "    .setInputCols([\"sentence\", \"token\", \"ner_chunk_subentity\"]) \\\n",
        "    .setOutputCol(\"obfuscated\") \\\n",
        "    .setMode(\"obfuscate\")\\\n",
        "    .setLanguage('it')\\\n",
        "    .setObfuscateDate(True)\\\n",
        "    .setObfuscateRefSource('faker')"
      ]
    },
    {
      "cell_type": "code",
      "execution_count": null,
      "metadata": {
        "id": "y0r2kTyGMuLr"
      },
      "outputs": [],
      "source": [
        "nlpPipeline_it = Pipeline(stages=[\n",
        "      documentAssembler, \n",
        "      sentencerDL,\n",
        "      tokenizer,\n",
        "      word_embeddings_it,\n",
        "      ner_subentity_it,\n",
        "      ner_converter_subentity,\n",
        "      deid_masked_entity,\n",
        "      deid_masked_char,\n",
        "      deid_masked_fixed_char,\n",
        "      deid_obfuscated\n",
        "      ])\n",
        "\n",
        "empty_data = spark.createDataFrame([[\"\"]]).toDF(\"text\")\n",
        "model_it = nlpPipeline_it.fit(empty_data)"
      ]
    },
    {
      "cell_type": "code",
      "execution_count": null,
      "metadata": {
        "id": "ayrfGKu8MuLr"
      },
      "outputs": [],
      "source": [
        "deid_lp_it = LightPipeline(model_it)"
      ]
    },
    {
      "cell_type": "code",
      "execution_count": null,
      "metadata": {
        "id": "OWJdfWjVMuLr"
      },
      "outputs": [],
      "source": [
        "text = \"Ho visto Gastone Montanariello (49 anni), virologo, riferito all' Ospedale San Camillo per diabete mal controllato con sintomi risalenti a marzo 2015.\""
      ]
    },
    {
      "cell_type": "code",
      "execution_count": null,
      "metadata": {
        "id": "_u6d1Q6aMvQr",
        "colab": {
          "base_uri": "https://localhost:8080/",
          "height": 209
        },
        "outputId": "b3681ff5-d2a5-469b-ec45-ade8a28c4b1a"
      },
      "outputs": [
        {
          "output_type": "execute_result",
          "data": {
            "text/plain": [
              "                                                                                                                    Masked_with_entity                                                                                                                                       Masked with Chars                                                                                        Masked with Fixed Chars                                                                                                                                                          Obfuscated\n",
              "0  Ho visto <PATIENT> (<AGE> anni), <PROFESSION>, riferito all' <HOSPITAL> per diabete mal controllato con sintomi risalenti a <DATE>.  Ho visto [*******************] (** anni), [******], riferito all' [******************] per diabete mal controllato con sintomi risalenti a [********].  Ho visto **** (**** anni), ****, riferito all' **** per diabete mal controllato con sintomi risalenti a ****.  Ho visto Wanita Albany (57 anni), Engineer, maintenance, riferito all' SOUTHWEST HEALTH CENTER INC per diabete mal controllato con sintomi risalenti a 01-04-1977."
            ],
            "text/html": [
              "\n",
              "  <div id=\"df-42968ebe-7d6c-4370-92b6-5068b07cc403\">\n",
              "    <div class=\"colab-df-container\">\n",
              "      <div>\n",
              "<style scoped>\n",
              "    .dataframe tbody tr th:only-of-type {\n",
              "        vertical-align: middle;\n",
              "    }\n",
              "\n",
              "    .dataframe tbody tr th {\n",
              "        vertical-align: top;\n",
              "    }\n",
              "\n",
              "    .dataframe thead th {\n",
              "        text-align: right;\n",
              "    }\n",
              "</style>\n",
              "<table border=\"1\" class=\"dataframe\">\n",
              "  <thead>\n",
              "    <tr style=\"text-align: right;\">\n",
              "      <th></th>\n",
              "      <th>Masked_with_entity</th>\n",
              "      <th>Masked with Chars</th>\n",
              "      <th>Masked with Fixed Chars</th>\n",
              "      <th>Obfuscated</th>\n",
              "    </tr>\n",
              "  </thead>\n",
              "  <tbody>\n",
              "    <tr>\n",
              "      <th>0</th>\n",
              "      <td>Ho visto &lt;PATIENT&gt; (&lt;AGE&gt; anni), &lt;PROFESSION&gt;, riferito all' &lt;HOSPITAL&gt; per diabete mal controllato con sintomi risalenti a &lt;DATE&gt;.</td>\n",
              "      <td>Ho visto [*******************] (** anni), [******], riferito all' [******************] per diabete mal controllato con sintomi risalenti a [********].</td>\n",
              "      <td>Ho visto **** (**** anni), ****, riferito all' **** per diabete mal controllato con sintomi risalenti a ****.</td>\n",
              "      <td>Ho visto Wanita Albany (57 anni), Engineer, maintenance, riferito all' SOUTHWEST HEALTH CENTER INC per diabete mal controllato con sintomi risalenti a 01-04-1977.</td>\n",
              "    </tr>\n",
              "  </tbody>\n",
              "</table>\n",
              "</div>\n",
              "      <button class=\"colab-df-convert\" onclick=\"convertToInteractive('df-42968ebe-7d6c-4370-92b6-5068b07cc403')\"\n",
              "              title=\"Convert this dataframe to an interactive table.\"\n",
              "              style=\"display:none;\">\n",
              "        \n",
              "  <svg xmlns=\"http://www.w3.org/2000/svg\" height=\"24px\"viewBox=\"0 0 24 24\"\n",
              "       width=\"24px\">\n",
              "    <path d=\"M0 0h24v24H0V0z\" fill=\"none\"/>\n",
              "    <path d=\"M18.56 5.44l.94 2.06.94-2.06 2.06-.94-2.06-.94-.94-2.06-.94 2.06-2.06.94zm-11 1L8.5 8.5l.94-2.06 2.06-.94-2.06-.94L8.5 2.5l-.94 2.06-2.06.94zm10 10l.94 2.06.94-2.06 2.06-.94-2.06-.94-.94-2.06-.94 2.06-2.06.94z\"/><path d=\"M17.41 7.96l-1.37-1.37c-.4-.4-.92-.59-1.43-.59-.52 0-1.04.2-1.43.59L10.3 9.45l-7.72 7.72c-.78.78-.78 2.05 0 2.83L4 21.41c.39.39.9.59 1.41.59.51 0 1.02-.2 1.41-.59l7.78-7.78 2.81-2.81c.8-.78.8-2.07 0-2.86zM5.41 20L4 18.59l7.72-7.72 1.47 1.35L5.41 20z\"/>\n",
              "  </svg>\n",
              "      </button>\n",
              "      \n",
              "  <style>\n",
              "    .colab-df-container {\n",
              "      display:flex;\n",
              "      flex-wrap:wrap;\n",
              "      gap: 12px;\n",
              "    }\n",
              "\n",
              "    .colab-df-convert {\n",
              "      background-color: #E8F0FE;\n",
              "      border: none;\n",
              "      border-radius: 50%;\n",
              "      cursor: pointer;\n",
              "      display: none;\n",
              "      fill: #1967D2;\n",
              "      height: 32px;\n",
              "      padding: 0 0 0 0;\n",
              "      width: 32px;\n",
              "    }\n",
              "\n",
              "    .colab-df-convert:hover {\n",
              "      background-color: #E2EBFA;\n",
              "      box-shadow: 0px 1px 2px rgba(60, 64, 67, 0.3), 0px 1px 3px 1px rgba(60, 64, 67, 0.15);\n",
              "      fill: #174EA6;\n",
              "    }\n",
              "\n",
              "    [theme=dark] .colab-df-convert {\n",
              "      background-color: #3B4455;\n",
              "      fill: #D2E3FC;\n",
              "    }\n",
              "\n",
              "    [theme=dark] .colab-df-convert:hover {\n",
              "      background-color: #434B5C;\n",
              "      box-shadow: 0px 1px 3px 1px rgba(0, 0, 0, 0.15);\n",
              "      filter: drop-shadow(0px 1px 2px rgba(0, 0, 0, 0.3));\n",
              "      fill: #FFFFFF;\n",
              "    }\n",
              "  </style>\n",
              "\n",
              "      <script>\n",
              "        const buttonEl =\n",
              "          document.querySelector('#df-42968ebe-7d6c-4370-92b6-5068b07cc403 button.colab-df-convert');\n",
              "        buttonEl.style.display =\n",
              "          google.colab.kernel.accessAllowed ? 'block' : 'none';\n",
              "\n",
              "        async function convertToInteractive(key) {\n",
              "          const element = document.querySelector('#df-42968ebe-7d6c-4370-92b6-5068b07cc403');\n",
              "          const dataTable =\n",
              "            await google.colab.kernel.invokeFunction('convertToInteractive',\n",
              "                                                     [key], {});\n",
              "          if (!dataTable) return;\n",
              "\n",
              "          const docLinkHtml = 'Like what you see? Visit the ' +\n",
              "            '<a target=\"_blank\" href=https://colab.research.google.com/notebooks/data_table.ipynb>data table notebook</a>'\n",
              "            + ' to learn more about interactive tables.';\n",
              "          element.innerHTML = '';\n",
              "          dataTable['output_type'] = 'display_data';\n",
              "          await google.colab.output.renderOutput(dataTable, element);\n",
              "          const docLink = document.createElement('div');\n",
              "          docLink.innerHTML = docLinkHtml;\n",
              "          element.appendChild(docLink);\n",
              "        }\n",
              "      </script>\n",
              "    </div>\n",
              "  </div>\n",
              "  "
            ]
          },
          "metadata": {},
          "execution_count": 90
        }
      ],
      "source": [
        "pd.set_option(\"display.max_colwidth\", 200)\n",
        "\n",
        "result_it = deid_lp_it.annotate(text)\n",
        "\n",
        "df_it = pd.DataFrame(list(zip(result_it[\"masked_with_entity\"], \n",
        "                              result_it[\"masked_with_chars\"],\n",
        "                              result_it[\"masked_fixed_length_chars\"], \n",
        "                              result_it[\"obfuscated\"])),\n",
        "                 columns= [\"Masked_with_entity\", \"Masked with Chars\", \"Masked with Fixed Chars\", \"Obfuscated\"])\n",
        "\n",
        "df_it"
      ]
    },
    {
      "cell_type": "markdown",
      "metadata": {
        "id": "a_3NZXzHDp6E"
      },
      "source": [
        "## Pretrained Italian Deidentification Pipeline\n",
        "\n",
        "- We developed a clinical deidentification pretrained pipeline that can be used to deidentify PHI information from Italian medical texts. The PHI information will be masked and obfuscated in the resulting text. \n",
        "- The pipeline can mask and obfuscate:\n",
        "    - Patient\n",
        "    - Doctor\n",
        "    - Hospital\n",
        "    - Date\n",
        "    - Organization\n",
        "    - Sex\n",
        "    - City\n",
        "    - Street\n",
        "    - Country\n",
        "    - ZIP\n",
        "    - Username\n",
        "    - Profession\n",
        "    - Phone\n",
        "    - Email\n",
        "    - Age\n",
        "    - ID number\n",
        "    - Medical record number\n",
        "    - Account number\n",
        "    - SSN\n",
        "    - Plate Number\n",
        "    - IP address\n",
        "    - URL"
      ]
    },
    {
      "cell_type": "code",
      "execution_count": null,
      "metadata": {
        "id": "XMxb3JeyDp6E",
        "colab": {
          "base_uri": "https://localhost:8080/"
        },
        "outputId": "13f3db6e-f7c2-4d36-e858-b1693c907767"
      },
      "outputs": [
        {
          "output_type": "stream",
          "name": "stdout",
          "text": [
            "clinical_deidentification download started this may take some time.\n",
            "Approx size to download 1.2 GB\n",
            "[OK!]\n"
          ]
        }
      ],
      "source": [
        "from sparknlp.pretrained import PretrainedPipeline\n",
        "\n",
        "deid_pipeline_it = PretrainedPipeline(\"clinical_deidentification\", \"it\", \"clinical/models\")"
      ]
    },
    {
      "cell_type": "code",
      "execution_count": null,
      "metadata": {
        "id": "ud7Y1UGLDp6F"
      },
      "outputs": [],
      "source": [
        "text = \"\"\"RAPPORTO DI RICOVERO\n",
        "NOME: Lodovico Fibonacci\n",
        "CODICE FISCALE: MVANSK92F09W408A\n",
        "INDIRIZZO: Viale Burcardo 7\n",
        "CITTÀ : Napoli\n",
        "CODICE POSTALE: 80139\n",
        "DATA DI NASCITA: 03/03/1946\n",
        "ETÀ: 70 anni \n",
        "SESSO: M\n",
        "EMAIL: lpizzo@tim.it\n",
        "DATA DI AMMISSIONE: 12/12/2016\n",
        "DOTTORE: Eva Viviani\n",
        "RAPPORTO CLINICO: 70 anni, pensionato, senza allergie farmacologiche note, che presenta la seguente storia: ex incidente sul lavoro con fratture vertebrali e costali; operato per la malattia di Dupuytren alla mano destra e un bypass ileo-femorale sinistro; diabete di tipo II, ipercolesterolemia e iperuricemia; alcolismo attivo, fuma 20 sigarette/giorno.\n",
        "È stato indirizzato a noi perché ha presentato un'ematuria macroscopica post-evacuazione in un'occasione e una microematuria persistente in seguito, con un'evacuazione normale.\n",
        "L'esame fisico ha mostrato buone condizioni generali, con addome e genitali normali; l'esame digitale rettale era coerente con un adenoma prostatico di grado I/IV.\n",
        "L'analisi delle urine ha mostrato 4 globuli rossi/campo e 0-5 leucociti/campo; il resto del sedimento era normale.\n",
        "L'emocromo è normale; la biochimica ha mostrato una glicemia di 169 mg/dl e trigliceridi 456 mg/dl; la funzione epatica e renale sono normali. PSA di 1,16 ng/ml.\n",
        "\n",
        "INDIRIZZATO A: Dott. Bruno Ferrabosco - ASL Napoli 1 Centro, Dipartimento di Endocrinologia e Nutrizione - Stretto Scamarcio 320, 80138 Napoli\n",
        "EMAIL: bferrabosco@poste.it\n",
        "\"\"\""
      ]
    },
    {
      "cell_type": "code",
      "execution_count": null,
      "metadata": {
        "id": "YvTVq5JEmrc4",
        "colab": {
          "base_uri": "https://localhost:8080/",
          "height": 1000
        },
        "outputId": "bfc41fa2-4105-491d-861b-944d1e1315da"
      },
      "outputs": [
        {
          "output_type": "execute_result",
          "data": {
            "text/plain": [
              "                                                                                                                                                                                                                                                                                                                                                               Sentence                                                                                                                                                                                                                                                                                                                                                                 Masked                                                                                                                                                                                                                                                                                                                                                   Masked with Chars                                                                                                                                                                                                                                                                                                                                               Masked with Fixed Chars                                                                                                                                                                                                                                                                                                                                                         Obfuscated\n",
              "0                                                                                                                                                                                                                                                                                                                                                  RAPPORTO DI RICOVERO                                                                                                                                                                                                                                                                                                                                                   RAPPORTO DI RICOVERO                                                                                                                                                                                                                                                                                                                                                RAPPORTO DI RICOVERO                                                                                                                                                                                                                                                                                                                                                  RAPPORTO DI RICOVERO                                                                                                                                                                                                                                                                                                                                               RAPPORTO DI RICOVERO\n",
              "1                                                                                                                                                                                                                                                                                                                                              NOME: Lodovico Fibonacci                                                                                                                                                                                                                                                                                                                                                        NOME: <PATIENT>                                                                                                                                                                                                                                                                                                                                            NOME: [****************]                                                                                                                                                                                                                                                                                                                                                            NOME: ****                                                                                                                                                                                                                                                                                                                                                NOME: Scotto-Polani\n",
              "2                                                                                                                                                                                                                                                                                                                                      CODICE FISCALE: MVANSK92F09W408A                                                                                                                                                                                                                                                                                                                                                  CODICE FISCALE: <SSN>                                                                                                                                                                                                                                                                                                                                    CODICE FISCALE: [**************]                                                                                                                                                                                                                                                                                                                                                  CODICE FISCALE: ****                                                                                                                                                                                                                                                                                                                                  CODICE FISCALE: ECI-QLN77G15L455Y\n",
              "3                                                                                                                                                                                                                                                                                                                           INDIRIZZO: Viale Burcardo 7\\nCITTÀ : Napoli                                                                                                                                                                                                                                                                                                                                    INDIRIZZO: <STREET>\\nCITTÀ : <CITY>                                                                                                                                                                                                                                                                                                                         INDIRIZZO: [**************]\\nCITTÀ : [****]                                                                                                                                                                                                                                                                                                                                         INDIRIZZO: ****\\nCITTÀ : ****                                                                                                                                                                                                                                                                                                               INDIRIZZO: Viale Orlando 808\\nCITTÀ : Sesto Raimondo\n",
              "4                                                                                                                                                                                                                                                                                                      CODICE POSTALE: 80139\\nDATA DI NASCITA: 03/03/1946\\nETÀ: 70 anni                                                                                                                                                                                                                                                                                                           CODICE POSTALE: <ZIP>DATA DI NASCITA: <DATE>\\nETÀ: <AGE>anni                                                                                                                                                                                                                                                                                                       CODICE POSTALE: [***]DATA DI NASCITA: [********]\\nETÀ: **anni                                                                                                                                                                                                                                                                                                              CODICE POSTALE: ****DATA DI NASCITA: ****\\nETÀ: ****anni                                                                                                                                                                                                                                                                                                       CODICE POSTALE: 85018DATA DI NASCITA: 20/03/1946\\nETÀ: 5anni\n",
              "5                                                                                                                                                                                                                                                                                                        SESSO: M\\nEMAIL: lpizzo@tim.it\\nDATA DI AMMISSIONE: 12/12/2016                                                                                                                                                                                                                                                                                                              SESSO: <SEX>\\nEMAIL: <E-MAIL>\\nDATA DI AMMISSIONE: <DATE>                                                                                                                                                                                                                                                                                                      SESSO: *\\nEMAIL: [***********]\\nDATA DI AMMISSIONE: [********]                                                                                                                                                                                                                                                                                                                    SESSO: ****\\nEMAIL: ****\\nDATA DI AMMISSIONE: ****                                                                                                                                                                                                                                                                                             SESSO: U\\nEMAIL: HenryWatson@world.com\\nDATA DI AMMISSIONE: 17/12/2016\n",
              "6                                                                                                                                                                                                                                                                                                                                                  DOTTORE: Eva Viviani                                                                                                                                                                                                                                                                                                                                                      DOTTORE: <DOCTOR>                                                                                                                                                                                                                                                                                                                                                DOTTORE: [*********]                                                                                                                                                                                                                                                                                                                                                         DOTTORE: ****                                                                                                                                                                                                                                                                                                                                      DOTTORE: Sig. Fredo Marangoni\n",
              "7   RAPPORTO CLINICO: 70 anni, pensionato, senza allergie farmacologiche note, che presenta la seguente storia: ex incidente sul lavoro con fratture vertebrali e costali; operato per la malattia di Dupuytren alla mano destra e un bypass ileo-femorale sinistro; diabete di tipo II, ipercolesterolemia e iperuricemia; alcolismo attivo, fuma 20 sigarette/giorno.  RAPPORTO CLINICO: <AGE>anni, pensionato, senza allergie farmacologiche note, che presenta la seguente storia: ex incidente sul lavoro con fratture vertebrali e costali; operato per la malattia di Dupuytren alla mano destra e un bypass ileo-femorale sinistro; diabete di tipo II, ipercolesterolemia e iperuricemia; alcolismo attivo, fuma 20 sigarette/giorno.  RAPPORTO CLINICO: **anni, pensionato, senza allergie farmacologiche note, che presenta la seguente storia: ex incidente sul lavoro con fratture vertebrali e costali; operato per la malattia di Dupuytren alla mano destra e un bypass ileo-femorale sinistro; diabete di tipo II, ipercolesterolemia e iperuricemia; alcolismo attivo, fuma 20 sigarette/giorno.  RAPPORTO CLINICO: ****anni, pensionato, senza allergie farmacologiche note, che presenta la seguente storia: ex incidente sul lavoro con fratture vertebrali e costali; operato per la malattia di Dupuytren alla mano destra e un bypass ileo-femorale sinistro; diabete di tipo II, ipercolesterolemia e iperuricemia; alcolismo attivo, fuma 20 sigarette/giorno.  RAPPORTO CLINICO: 5anni, pensionato, senza allergie farmacologiche note, che presenta la seguente storia: ex incidente sul lavoro con fratture vertebrali e costali; operato per la malattia di Dupuytren alla mano destra e un bypass ileo-femorale sinistro; diabete di tipo II, ipercolesterolemia e iperuricemia; alcolismo attivo, fuma 20 sigarette/giorno.\n",
              "8                                                                                                                                                                                      È stato indirizzato a noi perché ha presentato un'ematuria macroscopica post-evacuazione in un'occasione e una microematuria persistente in seguito, con un'evacuazione normale.                                                                                                                                                                                       È stato indirizzato a noi perché ha presentato un'ematuria macroscopica post-evacuazione in un'occasione e una microematuria persistente in seguito, con un'evacuazione normale.                                                                                                                                                                                    È stato indirizzato a noi perché ha presentato un'ematuria macroscopica post-evacuazione in un'occasione e una microematuria persistente in seguito, con un'evacuazione normale.                                                                                                                                                                                      È stato indirizzato a noi perché ha presentato un'ematuria macroscopica post-evacuazione in un'occasione e una microematuria persistente in seguito, con un'evacuazione normale.                                                                                                                                                                                   È stato indirizzato a noi perché ha presentato un'ematuria macroscopica post-evacuazione in un'occasione e una microematuria persistente in seguito, con un'evacuazione normale.\n",
              "9                                                                                                                                                                                                   L'esame fisico ha mostrato buone condizioni generali, con addome e genitali normali; l'esame digitale rettale era coerente con un adenoma prostatico di grado I/IV.                                                                                                                                                                                                    L'esame fisico ha mostrato buone condizioni generali, con addome e genitali normali; l'esame digitale rettale era coerente con un adenoma prostatico di grado I/IV.                                                                                                                                                                                                 L'esame fisico ha mostrato buone condizioni generali, con addome e genitali normali; l'esame digitale rettale era coerente con un adenoma prostatico di grado I/IV.                                                                                                                                                                                                   L'esame fisico ha mostrato buone condizioni generali, con addome e genitali normali; l'esame digitale rettale era coerente con un adenoma prostatico di grado I/IV.                                                                                                                                                                                                L'esame fisico ha mostrato buone condizioni generali, con addome e genitali normali; l'esame digitale rettale era coerente con un adenoma prostatico di grado I/IV.\n",
              "10                                                                                                                                                                                                                                                   L'analisi delle urine ha mostrato 4 globuli rossi/campo e 0-5 leucociti/campo; il resto del sedimento era normale.                                                                                                                                                                                                                                                     L'analisi delle urine ha mostrato 4 globuli rossi/campo e 0-5 leucociti/campo; il resto del sedimento era normale.                                                                                                                                                                                                                                                  L'analisi delle urine ha mostrato 4 globuli rossi/campo e 0-5 leucociti/campo; il resto del sedimento era normale.                                                                                                                                                                                                                                                    L'analisi delle urine ha mostrato 4 globuli rossi/campo e 0-5 leucociti/campo; il resto del sedimento era normale.                                                                                                                                                                                                                                                 L'analisi delle urine ha mostrato 4 globuli rossi/campo e 0-5 leucociti/campo; il resto del sedimento era normale.\n",
              "11                                                                                                                                                                                                                       L'emocromo è normale; la biochimica ha mostrato una glicemia di 169 mg/dl e trigliceridi 456 mg/dl; la funzione epatica e renale sono normali.                                                                                                                                                                                                                         L'emocromo è normale; la biochimica ha mostrato una glicemia di 169 mg/dl e trigliceridi 456 mg/dl; la funzione epatica e renale sono normali.                                                                                                                                                                                                                      L'emocromo è normale; la biochimica ha mostrato una glicemia di 169 mg/dl e trigliceridi 456 mg/dl; la funzione epatica e renale sono normali.                                                                                                                                                                                                                        L'emocromo è normale; la biochimica ha mostrato una glicemia di 169 mg/dl e trigliceridi 456 mg/dl; la funzione epatica e renale sono normali.                                                                                                                                                                                                                     L'emocromo è normale; la biochimica ha mostrato una glicemia di 169 mg/dl e trigliceridi 456 mg/dl; la funzione epatica e renale sono normali.\n",
              "12                                                                                                                                                                                                                                                                                                                                                   PSA di 1,16 ng/ml.                                                                                                                                                                                                                                                                                                                                                     PSA di 1,16 ng/ml.                                                                                                                                                                                                                                                                                                                                                  PSA di 1,16 ng/ml.                                                                                                                                                                                                                                                                                                                                                    PSA di 1,16 ng/ml.                                                                                                                                                                                                                                                                                                                                                 PSA di 1,16 ng/ml.\n",
              "13                                                                                                                                                                                                                                                                                                                                                 INDIRIZZATO A: Dott.                                                                                                                                                                                                                                                                                                                                                   INDIRIZZATO A: Dott.                                                                                                                                                                                                                                                                                                                                                INDIRIZZATO A: Dott.                                                                                                                                                                                                                                                                                                                                                  INDIRIZZATO A: Dott.                                                                                                                                                                                                                                                                                                                                               INDIRIZZATO A: Dott.\n",
              "14                                                                                                                                                                                                                                            Bruno Ferrabosco - ASL Napoli 1 Centro, Dipartimento di Endocrinologia e Nutrizione - Stretto Scamarcio 320, 80138 Napoli                                                                                                                                                                                                                                                                            <DOCTOR> - <HOSPITAL>, Dipartimento di Endocrinologia e Nutrizione - <STREET>, <ZIP> <CITY>                                                                                                                                                                                                                                           [**************] - [*****************], Dipartimento di Endocrinologia e Nutrizione - [*******************], [***] [****]                                                                                                                                                                                                                                                                                            **** - ****, Dipartimento di Endocrinologia e Nutrizione - ****, **** ****                                                                                                                                                                                                      Antonio Rusticucci - ASL 7 DI CARBONIA AZIENDA U.S.L. N. 7, Dipartimento di Endocrinologia e Nutrizione - Via Giorgio 0 Appartamento 26, 44110 Sesto Raimondo\n",
              "15                                                                                                                                                                                                                                                                                                                                        EMAIL: bferrabosco@poste.it\\n                                                                                                                                                                                                                                                                                                                                                      EMAIL: <E-MAIL>\\n                                                                                                                                                                                                                                                                                                                                       EMAIL: [******************]\\n                                                                                                                                                                                                                                                                                                                                                         EMAIL: ****\\n                                                                                                                                                                                                                                                                                                                                           EMAIL: murat.g@jsl.com\\n"
            ],
            "text/html": [
              "\n",
              "  <div id=\"df-0350c0d8-da66-4489-9c2a-49f21649a836\">\n",
              "    <div class=\"colab-df-container\">\n",
              "      <div>\n",
              "<style scoped>\n",
              "    .dataframe tbody tr th:only-of-type {\n",
              "        vertical-align: middle;\n",
              "    }\n",
              "\n",
              "    .dataframe tbody tr th {\n",
              "        vertical-align: top;\n",
              "    }\n",
              "\n",
              "    .dataframe thead th {\n",
              "        text-align: right;\n",
              "    }\n",
              "</style>\n",
              "<table border=\"1\" class=\"dataframe\">\n",
              "  <thead>\n",
              "    <tr style=\"text-align: right;\">\n",
              "      <th></th>\n",
              "      <th>Sentence</th>\n",
              "      <th>Masked</th>\n",
              "      <th>Masked with Chars</th>\n",
              "      <th>Masked with Fixed Chars</th>\n",
              "      <th>Obfuscated</th>\n",
              "    </tr>\n",
              "  </thead>\n",
              "  <tbody>\n",
              "    <tr>\n",
              "      <th>0</th>\n",
              "      <td>RAPPORTO DI RICOVERO</td>\n",
              "      <td>RAPPORTO DI RICOVERO</td>\n",
              "      <td>RAPPORTO DI RICOVERO</td>\n",
              "      <td>RAPPORTO DI RICOVERO</td>\n",
              "      <td>RAPPORTO DI RICOVERO</td>\n",
              "    </tr>\n",
              "    <tr>\n",
              "      <th>1</th>\n",
              "      <td>NOME: Lodovico Fibonacci</td>\n",
              "      <td>NOME: &lt;PATIENT&gt;</td>\n",
              "      <td>NOME: [****************]</td>\n",
              "      <td>NOME: ****</td>\n",
              "      <td>NOME: Scotto-Polani</td>\n",
              "    </tr>\n",
              "    <tr>\n",
              "      <th>2</th>\n",
              "      <td>CODICE FISCALE: MVANSK92F09W408A</td>\n",
              "      <td>CODICE FISCALE: &lt;SSN&gt;</td>\n",
              "      <td>CODICE FISCALE: [**************]</td>\n",
              "      <td>CODICE FISCALE: ****</td>\n",
              "      <td>CODICE FISCALE: ECI-QLN77G15L455Y</td>\n",
              "    </tr>\n",
              "    <tr>\n",
              "      <th>3</th>\n",
              "      <td>INDIRIZZO: Viale Burcardo 7\\nCITTÀ : Napoli</td>\n",
              "      <td>INDIRIZZO: &lt;STREET&gt;\\nCITTÀ : &lt;CITY&gt;</td>\n",
              "      <td>INDIRIZZO: [**************]\\nCITTÀ : [****]</td>\n",
              "      <td>INDIRIZZO: ****\\nCITTÀ : ****</td>\n",
              "      <td>INDIRIZZO: Viale Orlando 808\\nCITTÀ : Sesto Raimondo</td>\n",
              "    </tr>\n",
              "    <tr>\n",
              "      <th>4</th>\n",
              "      <td>CODICE POSTALE: 80139\\nDATA DI NASCITA: 03/03/1946\\nETÀ: 70 anni</td>\n",
              "      <td>CODICE POSTALE: &lt;ZIP&gt;DATA DI NASCITA: &lt;DATE&gt;\\nETÀ: &lt;AGE&gt;anni</td>\n",
              "      <td>CODICE POSTALE: [***]DATA DI NASCITA: [********]\\nETÀ: **anni</td>\n",
              "      <td>CODICE POSTALE: ****DATA DI NASCITA: ****\\nETÀ: ****anni</td>\n",
              "      <td>CODICE POSTALE: 85018DATA DI NASCITA: 20/03/1946\\nETÀ: 5anni</td>\n",
              "    </tr>\n",
              "    <tr>\n",
              "      <th>5</th>\n",
              "      <td>SESSO: M\\nEMAIL: lpizzo@tim.it\\nDATA DI AMMISSIONE: 12/12/2016</td>\n",
              "      <td>SESSO: &lt;SEX&gt;\\nEMAIL: &lt;E-MAIL&gt;\\nDATA DI AMMISSIONE: &lt;DATE&gt;</td>\n",
              "      <td>SESSO: *\\nEMAIL: [***********]\\nDATA DI AMMISSIONE: [********]</td>\n",
              "      <td>SESSO: ****\\nEMAIL: ****\\nDATA DI AMMISSIONE: ****</td>\n",
              "      <td>SESSO: U\\nEMAIL: HenryWatson@world.com\\nDATA DI AMMISSIONE: 17/12/2016</td>\n",
              "    </tr>\n",
              "    <tr>\n",
              "      <th>6</th>\n",
              "      <td>DOTTORE: Eva Viviani</td>\n",
              "      <td>DOTTORE: &lt;DOCTOR&gt;</td>\n",
              "      <td>DOTTORE: [*********]</td>\n",
              "      <td>DOTTORE: ****</td>\n",
              "      <td>DOTTORE: Sig. Fredo Marangoni</td>\n",
              "    </tr>\n",
              "    <tr>\n",
              "      <th>7</th>\n",
              "      <td>RAPPORTO CLINICO: 70 anni, pensionato, senza allergie farmacologiche note, che presenta la seguente storia: ex incidente sul lavoro con fratture vertebrali e costali; operato per la malattia di Dupuytren alla mano destra e un bypass ileo-femorale sinistro; diabete di tipo II, ipercolesterolemia e iperuricemia; alcolismo attivo, fuma 20 sigarette/giorno.</td>\n",
              "      <td>RAPPORTO CLINICO: &lt;AGE&gt;anni, pensionato, senza allergie farmacologiche note, che presenta la seguente storia: ex incidente sul lavoro con fratture vertebrali e costali; operato per la malattia di Dupuytren alla mano destra e un bypass ileo-femorale sinistro; diabete di tipo II, ipercolesterolemia e iperuricemia; alcolismo attivo, fuma 20 sigarette/giorno.</td>\n",
              "      <td>RAPPORTO CLINICO: **anni, pensionato, senza allergie farmacologiche note, che presenta la seguente storia: ex incidente sul lavoro con fratture vertebrali e costali; operato per la malattia di Dupuytren alla mano destra e un bypass ileo-femorale sinistro; diabete di tipo II, ipercolesterolemia e iperuricemia; alcolismo attivo, fuma 20 sigarette/giorno.</td>\n",
              "      <td>RAPPORTO CLINICO: ****anni, pensionato, senza allergie farmacologiche note, che presenta la seguente storia: ex incidente sul lavoro con fratture vertebrali e costali; operato per la malattia di Dupuytren alla mano destra e un bypass ileo-femorale sinistro; diabete di tipo II, ipercolesterolemia e iperuricemia; alcolismo attivo, fuma 20 sigarette/giorno.</td>\n",
              "      <td>RAPPORTO CLINICO: 5anni, pensionato, senza allergie farmacologiche note, che presenta la seguente storia: ex incidente sul lavoro con fratture vertebrali e costali; operato per la malattia di Dupuytren alla mano destra e un bypass ileo-femorale sinistro; diabete di tipo II, ipercolesterolemia e iperuricemia; alcolismo attivo, fuma 20 sigarette/giorno.</td>\n",
              "    </tr>\n",
              "    <tr>\n",
              "      <th>8</th>\n",
              "      <td>È stato indirizzato a noi perché ha presentato un'ematuria macroscopica post-evacuazione in un'occasione e una microematuria persistente in seguito, con un'evacuazione normale.</td>\n",
              "      <td>È stato indirizzato a noi perché ha presentato un'ematuria macroscopica post-evacuazione in un'occasione e una microematuria persistente in seguito, con un'evacuazione normale.</td>\n",
              "      <td>È stato indirizzato a noi perché ha presentato un'ematuria macroscopica post-evacuazione in un'occasione e una microematuria persistente in seguito, con un'evacuazione normale.</td>\n",
              "      <td>È stato indirizzato a noi perché ha presentato un'ematuria macroscopica post-evacuazione in un'occasione e una microematuria persistente in seguito, con un'evacuazione normale.</td>\n",
              "      <td>È stato indirizzato a noi perché ha presentato un'ematuria macroscopica post-evacuazione in un'occasione e una microematuria persistente in seguito, con un'evacuazione normale.</td>\n",
              "    </tr>\n",
              "    <tr>\n",
              "      <th>9</th>\n",
              "      <td>L'esame fisico ha mostrato buone condizioni generali, con addome e genitali normali; l'esame digitale rettale era coerente con un adenoma prostatico di grado I/IV.</td>\n",
              "      <td>L'esame fisico ha mostrato buone condizioni generali, con addome e genitali normali; l'esame digitale rettale era coerente con un adenoma prostatico di grado I/IV.</td>\n",
              "      <td>L'esame fisico ha mostrato buone condizioni generali, con addome e genitali normali; l'esame digitale rettale era coerente con un adenoma prostatico di grado I/IV.</td>\n",
              "      <td>L'esame fisico ha mostrato buone condizioni generali, con addome e genitali normali; l'esame digitale rettale era coerente con un adenoma prostatico di grado I/IV.</td>\n",
              "      <td>L'esame fisico ha mostrato buone condizioni generali, con addome e genitali normali; l'esame digitale rettale era coerente con un adenoma prostatico di grado I/IV.</td>\n",
              "    </tr>\n",
              "    <tr>\n",
              "      <th>10</th>\n",
              "      <td>L'analisi delle urine ha mostrato 4 globuli rossi/campo e 0-5 leucociti/campo; il resto del sedimento era normale.</td>\n",
              "      <td>L'analisi delle urine ha mostrato 4 globuli rossi/campo e 0-5 leucociti/campo; il resto del sedimento era normale.</td>\n",
              "      <td>L'analisi delle urine ha mostrato 4 globuli rossi/campo e 0-5 leucociti/campo; il resto del sedimento era normale.</td>\n",
              "      <td>L'analisi delle urine ha mostrato 4 globuli rossi/campo e 0-5 leucociti/campo; il resto del sedimento era normale.</td>\n",
              "      <td>L'analisi delle urine ha mostrato 4 globuli rossi/campo e 0-5 leucociti/campo; il resto del sedimento era normale.</td>\n",
              "    </tr>\n",
              "    <tr>\n",
              "      <th>11</th>\n",
              "      <td>L'emocromo è normale; la biochimica ha mostrato una glicemia di 169 mg/dl e trigliceridi 456 mg/dl; la funzione epatica e renale sono normali.</td>\n",
              "      <td>L'emocromo è normale; la biochimica ha mostrato una glicemia di 169 mg/dl e trigliceridi 456 mg/dl; la funzione epatica e renale sono normali.</td>\n",
              "      <td>L'emocromo è normale; la biochimica ha mostrato una glicemia di 169 mg/dl e trigliceridi 456 mg/dl; la funzione epatica e renale sono normali.</td>\n",
              "      <td>L'emocromo è normale; la biochimica ha mostrato una glicemia di 169 mg/dl e trigliceridi 456 mg/dl; la funzione epatica e renale sono normali.</td>\n",
              "      <td>L'emocromo è normale; la biochimica ha mostrato una glicemia di 169 mg/dl e trigliceridi 456 mg/dl; la funzione epatica e renale sono normali.</td>\n",
              "    </tr>\n",
              "    <tr>\n",
              "      <th>12</th>\n",
              "      <td>PSA di 1,16 ng/ml.</td>\n",
              "      <td>PSA di 1,16 ng/ml.</td>\n",
              "      <td>PSA di 1,16 ng/ml.</td>\n",
              "      <td>PSA di 1,16 ng/ml.</td>\n",
              "      <td>PSA di 1,16 ng/ml.</td>\n",
              "    </tr>\n",
              "    <tr>\n",
              "      <th>13</th>\n",
              "      <td>INDIRIZZATO A: Dott.</td>\n",
              "      <td>INDIRIZZATO A: Dott.</td>\n",
              "      <td>INDIRIZZATO A: Dott.</td>\n",
              "      <td>INDIRIZZATO A: Dott.</td>\n",
              "      <td>INDIRIZZATO A: Dott.</td>\n",
              "    </tr>\n",
              "    <tr>\n",
              "      <th>14</th>\n",
              "      <td>Bruno Ferrabosco - ASL Napoli 1 Centro, Dipartimento di Endocrinologia e Nutrizione - Stretto Scamarcio 320, 80138 Napoli</td>\n",
              "      <td>&lt;DOCTOR&gt; - &lt;HOSPITAL&gt;, Dipartimento di Endocrinologia e Nutrizione - &lt;STREET&gt;, &lt;ZIP&gt; &lt;CITY&gt;</td>\n",
              "      <td>[**************] - [*****************], Dipartimento di Endocrinologia e Nutrizione - [*******************], [***] [****]</td>\n",
              "      <td>**** - ****, Dipartimento di Endocrinologia e Nutrizione - ****, **** ****</td>\n",
              "      <td>Antonio Rusticucci - ASL 7 DI CARBONIA AZIENDA U.S.L. N. 7, Dipartimento di Endocrinologia e Nutrizione - Via Giorgio 0 Appartamento 26, 44110 Sesto Raimondo</td>\n",
              "    </tr>\n",
              "    <tr>\n",
              "      <th>15</th>\n",
              "      <td>EMAIL: bferrabosco@poste.it\\n</td>\n",
              "      <td>EMAIL: &lt;E-MAIL&gt;\\n</td>\n",
              "      <td>EMAIL: [******************]\\n</td>\n",
              "      <td>EMAIL: ****\\n</td>\n",
              "      <td>EMAIL: murat.g@jsl.com\\n</td>\n",
              "    </tr>\n",
              "  </tbody>\n",
              "</table>\n",
              "</div>\n",
              "      <button class=\"colab-df-convert\" onclick=\"convertToInteractive('df-0350c0d8-da66-4489-9c2a-49f21649a836')\"\n",
              "              title=\"Convert this dataframe to an interactive table.\"\n",
              "              style=\"display:none;\">\n",
              "        \n",
              "  <svg xmlns=\"http://www.w3.org/2000/svg\" height=\"24px\"viewBox=\"0 0 24 24\"\n",
              "       width=\"24px\">\n",
              "    <path d=\"M0 0h24v24H0V0z\" fill=\"none\"/>\n",
              "    <path d=\"M18.56 5.44l.94 2.06.94-2.06 2.06-.94-2.06-.94-.94-2.06-.94 2.06-2.06.94zm-11 1L8.5 8.5l.94-2.06 2.06-.94-2.06-.94L8.5 2.5l-.94 2.06-2.06.94zm10 10l.94 2.06.94-2.06 2.06-.94-2.06-.94-.94-2.06-.94 2.06-2.06.94z\"/><path d=\"M17.41 7.96l-1.37-1.37c-.4-.4-.92-.59-1.43-.59-.52 0-1.04.2-1.43.59L10.3 9.45l-7.72 7.72c-.78.78-.78 2.05 0 2.83L4 21.41c.39.39.9.59 1.41.59.51 0 1.02-.2 1.41-.59l7.78-7.78 2.81-2.81c.8-.78.8-2.07 0-2.86zM5.41 20L4 18.59l7.72-7.72 1.47 1.35L5.41 20z\"/>\n",
              "  </svg>\n",
              "      </button>\n",
              "      \n",
              "  <style>\n",
              "    .colab-df-container {\n",
              "      display:flex;\n",
              "      flex-wrap:wrap;\n",
              "      gap: 12px;\n",
              "    }\n",
              "\n",
              "    .colab-df-convert {\n",
              "      background-color: #E8F0FE;\n",
              "      border: none;\n",
              "      border-radius: 50%;\n",
              "      cursor: pointer;\n",
              "      display: none;\n",
              "      fill: #1967D2;\n",
              "      height: 32px;\n",
              "      padding: 0 0 0 0;\n",
              "      width: 32px;\n",
              "    }\n",
              "\n",
              "    .colab-df-convert:hover {\n",
              "      background-color: #E2EBFA;\n",
              "      box-shadow: 0px 1px 2px rgba(60, 64, 67, 0.3), 0px 1px 3px 1px rgba(60, 64, 67, 0.15);\n",
              "      fill: #174EA6;\n",
              "    }\n",
              "\n",
              "    [theme=dark] .colab-df-convert {\n",
              "      background-color: #3B4455;\n",
              "      fill: #D2E3FC;\n",
              "    }\n",
              "\n",
              "    [theme=dark] .colab-df-convert:hover {\n",
              "      background-color: #434B5C;\n",
              "      box-shadow: 0px 1px 3px 1px rgba(0, 0, 0, 0.15);\n",
              "      filter: drop-shadow(0px 1px 2px rgba(0, 0, 0, 0.3));\n",
              "      fill: #FFFFFF;\n",
              "    }\n",
              "  </style>\n",
              "\n",
              "      <script>\n",
              "        const buttonEl =\n",
              "          document.querySelector('#df-0350c0d8-da66-4489-9c2a-49f21649a836 button.colab-df-convert');\n",
              "        buttonEl.style.display =\n",
              "          google.colab.kernel.accessAllowed ? 'block' : 'none';\n",
              "\n",
              "        async function convertToInteractive(key) {\n",
              "          const element = document.querySelector('#df-0350c0d8-da66-4489-9c2a-49f21649a836');\n",
              "          const dataTable =\n",
              "            await google.colab.kernel.invokeFunction('convertToInteractive',\n",
              "                                                     [key], {});\n",
              "          if (!dataTable) return;\n",
              "\n",
              "          const docLinkHtml = 'Like what you see? Visit the ' +\n",
              "            '<a target=\"_blank\" href=https://colab.research.google.com/notebooks/data_table.ipynb>data table notebook</a>'\n",
              "            + ' to learn more about interactive tables.';\n",
              "          element.innerHTML = '';\n",
              "          dataTable['output_type'] = 'display_data';\n",
              "          await google.colab.output.renderOutput(dataTable, element);\n",
              "          const docLink = document.createElement('div');\n",
              "          docLink.innerHTML = docLinkHtml;\n",
              "          element.appendChild(docLink);\n",
              "        }\n",
              "      </script>\n",
              "    </div>\n",
              "  </div>\n",
              "  "
            ]
          },
          "metadata": {},
          "execution_count": 93
        }
      ],
      "source": [
        "pd.set_option(\"display.max_colwidth\", None)\n",
        "\n",
        "result_it = deid_pipeline_it.annotate(text)\n",
        "\n",
        "df_it = pd.DataFrame(list(zip(result_it[\"sentence\"], \n",
        "                              result_it[\"masked\"],\n",
        "                              result_it[\"masked_with_chars\"], \n",
        "                              result_it[\"masked_fixed_length_chars\"], \n",
        "                              result_it[\"obfuscated\"])),\n",
        "                 columns= [\"Sentence\", \"Masked\", \"Masked with Chars\", \"Masked with Fixed Chars\", \"Obfuscated\"])\n",
        "\n",
        "df_it"
      ]
    },
    {
      "cell_type": "markdown",
      "metadata": {
        "id": "hALWduTbX4c9"
      },
      "source": [
        "# DE-IDENTIFICATION FOR PORTUGUESE"
      ]
    },
    {
      "cell_type": "markdown",
      "metadata": {
        "id": "vGUvhJIkFQeM"
      },
      "source": [
        "## Potuguese NER Deidentification Models\n",
        "We have two different models you can use:\n",
        "* `ner_deid_generic`, detects 8 entities\n",
        "* `ner_deid_subentity`, detects 19 entities"
      ]
    },
    {
      "cell_type": "markdown",
      "metadata": {
        "id": "X81KAcq76ETS"
      },
      "source": [
        "|index|model|lang|index|model|lang|\n",
        "|-----:|:-----|----|-----:|:-----|----|\n",
        "| 1| [ner_deid_generic](https://nlp.johnsnowlabs.com/2022/04/13/ner_deid_generic_pt_3_0.html)  |pt| 2| [ner_deid_subentity](https://nlp.johnsnowlabs.com/2022/04/13/ner_deid_subentity_pt_3_0.html)  |pt|\n"
      ]
    },
    {
      "cell_type": "markdown",
      "metadata": {
        "id": "ubtF--agFQeN"
      },
      "source": [
        "Creating pipeline"
      ]
    },
    {
      "cell_type": "code",
      "execution_count": null,
      "metadata": {
        "id": "l_PKYwbEFQeN",
        "colab": {
          "base_uri": "https://localhost:8080/"
        },
        "outputId": "1f5e757c-091c-4fdd-8558-8f12829aa3d0"
      },
      "outputs": [
        {
          "output_type": "stream",
          "name": "stdout",
          "text": [
            "sentence_detector_dl download started this may take some time.\n",
            "Approximate size to download 514.9 KB\n",
            "[OK!]\n",
            "w2v_cc_300d download started this may take some time.\n",
            "Approximate size to download 1.1 GB\n",
            "[OK!]\n"
          ]
        }
      ],
      "source": [
        "documentAssembler = DocumentAssembler()\\\n",
        "    .setInputCol(\"text\")\\\n",
        "    .setOutputCol(\"document\")\n",
        "\n",
        "sentencerDL = SentenceDetectorDLModel.pretrained(\"sentence_detector_dl\", \"xx\") \\\n",
        "    .setInputCols([\"document\"])\\\n",
        "    .setOutputCol(\"sentence\")\n",
        "\n",
        "tokenizer = Tokenizer()\\\n",
        "    .setInputCols([\"sentence\"])\\\n",
        "    .setOutputCol(\"token\")\n",
        "\n",
        "word_embeddings_pt = WordEmbeddingsModel.pretrained(\"w2v_cc_300d\", \"pt\")\\\n",
        "    .setInputCols([\"document\",\"token\"])\\\n",
        "\t  .setOutputCol(\"embeddings\")"
      ]
    },
    {
      "cell_type": "markdown",
      "metadata": {
        "id": "kPms2pVgFQeN"
      },
      "source": [
        "### NER Deid Generic\n",
        "\n",
        "**`ner_deid_generic`** extracts:\n",
        "- Name\n",
        "- Profession\n",
        "- Age\n",
        "- Date\n",
        "- Contact (Telephone numbers, Email addresses)\n",
        "- Location (Address, City, Postal code, Hospital Name, Organization)\n",
        "- ID (Social Security numbers, Medical record numbers)\n",
        "- Sex"
      ]
    },
    {
      "cell_type": "code",
      "execution_count": null,
      "metadata": {
        "id": "C-CQ55VGFQeN",
        "colab": {
          "base_uri": "https://localhost:8080/"
        },
        "outputId": "22496dce-d15e-4228-8448-991c80edeae7"
      },
      "outputs": [
        {
          "output_type": "stream",
          "name": "stdout",
          "text": [
            "ner_deid_generic download started this may take some time.\n",
            "[OK!]\n"
          ]
        }
      ],
      "source": [
        "ner_generic_pt = MedicalNerModel.pretrained(\"ner_deid_generic\", \"pt\", \"clinical/models\")\\\n",
        "    .setInputCols([\"sentence\",\"token\",\"embeddings\"])\\\n",
        "    .setOutputCol(\"ner_deid_generic\")\n",
        "\n",
        "ner_converter_generic = NerConverterInternal()\\\n",
        "    .setInputCols([\"sentence\",\"token\",\"ner_deid_generic\"])\\\n",
        "    .setOutputCol(\"ner_chunk_generic\")"
      ]
    },
    {
      "cell_type": "code",
      "execution_count": null,
      "metadata": {
        "id": "fHn3M2OPFQeO",
        "colab": {
          "base_uri": "https://localhost:8080/"
        },
        "outputId": "0387ba19-2f95-4c5e-d89e-21745abc9baf"
      },
      "outputs": [
        {
          "output_type": "execute_result",
          "data": {
            "text/plain": [
              "['O',\n",
              " 'I-LOCATION',\n",
              " 'I-CONTACT',\n",
              " 'I-PROFESSION',\n",
              " 'I-NAME',\n",
              " 'I-DATE',\n",
              " 'B-ID',\n",
              " 'B-PROFESSION',\n",
              " 'B-CONTACT',\n",
              " 'I-ID',\n",
              " 'B-NAME',\n",
              " 'B-DATE',\n",
              " 'B-LOCATION',\n",
              " 'B-SEX',\n",
              " 'I-SEX',\n",
              " 'B-AGE']"
            ]
          },
          "metadata": {},
          "execution_count": 96
        }
      ],
      "source": [
        "ner_generic_pt.getClasses()"
      ]
    },
    {
      "cell_type": "markdown",
      "metadata": {
        "id": "FEpBZhe_FQeO"
      },
      "source": [
        "### NER Deid Subentity\n",
        "\n",
        "**`ner_deid_subentity`** extracts:\n",
        "\n",
        "`PATIENT`, `HOSPITAL`, `DATE`, `ORGANIZATION`, `CITY`, `ID`, `STREET`, `SEX`, `EMAIL`, `ZIP`, `PROFESSION`, `PHONE`, `COUNTRY`, `DOCTOR`, `AGE`"
      ]
    },
    {
      "cell_type": "code",
      "execution_count": null,
      "metadata": {
        "id": "gz8KB3dfFQeO",
        "colab": {
          "base_uri": "https://localhost:8080/"
        },
        "outputId": "fb67ea6e-e56b-4f8f-c81f-903d85bbbd03"
      },
      "outputs": [
        {
          "output_type": "stream",
          "name": "stdout",
          "text": [
            "ner_deid_subentity download started this may take some time.\n",
            "[OK!]\n"
          ]
        }
      ],
      "source": [
        "ner_subentity_pt = MedicalNerModel.pretrained(\"ner_deid_subentity\", \"pt\", \"clinical/models\")\\\n",
        "    .setInputCols([\"sentence\",\"token\",\"embeddings\"])\\\n",
        "    .setOutputCol(\"ner_deid_subentity\")\n",
        "\n",
        "ner_converter_subentity = NerConverterInternal()\\\n",
        "    .setInputCols([\"sentence\", \"token\", \"ner_deid_subentity\"])\\\n",
        "    .setOutputCol(\"ner_chunk_subentity\")"
      ]
    },
    {
      "cell_type": "code",
      "execution_count": null,
      "metadata": {
        "id": "PrU9gAf2FQeO",
        "colab": {
          "base_uri": "https://localhost:8080/"
        },
        "outputId": "281cb73f-6bb9-433e-8a48-88291ff5df5e"
      },
      "outputs": [
        {
          "output_type": "execute_result",
          "data": {
            "text/plain": [
              "['O',\n",
              " 'B-ORGANIZATION',\n",
              " 'I-PROFESSION',\n",
              " 'B-DOCTOR',\n",
              " 'B-PROFESSION',\n",
              " 'I-ID',\n",
              " 'B-CITY',\n",
              " 'B-DATE',\n",
              " 'B-PATIENT',\n",
              " 'B-SEX',\n",
              " 'I-SEX',\n",
              " 'I-DOCTOR',\n",
              " 'I-CITY',\n",
              " 'I-DATE',\n",
              " 'B-COUNTRY',\n",
              " 'B-ID',\n",
              " 'B-ZIP',\n",
              " 'I-STREET',\n",
              " 'I-PATIENT',\n",
              " 'B-PHONE',\n",
              " 'I-PHONE',\n",
              " 'B-HOSPITAL',\n",
              " 'B-EMAIL',\n",
              " 'B-STREET',\n",
              " 'I-ORGANIZATION',\n",
              " 'I-HOSPITAL',\n",
              " 'B-AGE',\n",
              " 'I-COUNTRY']"
            ]
          },
          "metadata": {},
          "execution_count": 98
        }
      ],
      "source": [
        "ner_subentity_pt.getClasses()"
      ]
    },
    {
      "cell_type": "markdown",
      "metadata": {
        "id": "37YdhqIZFQeO"
      },
      "source": [
        "### Pipeline"
      ]
    },
    {
      "cell_type": "code",
      "execution_count": null,
      "metadata": {
        "id": "xT8SrsFDFQeO"
      },
      "outputs": [],
      "source": [
        "nlpPipeline_pt = Pipeline(stages=[\n",
        "      documentAssembler, \n",
        "      sentencerDL,\n",
        "      tokenizer,\n",
        "      word_embeddings_pt,\n",
        "      ner_generic_pt,\n",
        "      ner_converter_generic,\n",
        "      ner_subentity_pt,\n",
        "      ner_converter_subentity,\n",
        "      ])\n",
        "\n",
        "empty_data = spark.createDataFrame([[\"\"]]).toDF(\"text\")\n",
        "model_pt = nlpPipeline_pt.fit(empty_data)"
      ]
    },
    {
      "cell_type": "code",
      "execution_count": null,
      "metadata": {
        "id": "y0XAto8MFQeO"
      },
      "outputs": [],
      "source": [
        "text = \"\"\"Detalhes do paciente.\n",
        "Nome do paciente:  Pedro Gonçalves\n",
        "NHC: 2569870.\n",
        "Endereço: Rua Das Flores 23.\n",
        "Código Postal: 21754-987.\n",
        "Dados de cuidados.\n",
        "Data de nascimento: 10/10/1963.\n",
        "Idade: 53 anos \n",
        "Data de admissão: 17/06/2016.\n",
        "Doutora: Maria Santos\"\"\"\n",
        "\n",
        "text_df = spark.createDataFrame([[text]]).toDF(\"text\")\n",
        "result_pt = model_pt.transform(text_df)"
      ]
    },
    {
      "cell_type": "markdown",
      "metadata": {
        "id": "cR2s035BFQeP"
      },
      "source": [
        "Results for `ner_deid_generic`"
      ]
    },
    {
      "cell_type": "code",
      "execution_count": null,
      "metadata": {
        "id": "b10C2Mw2FQeP",
        "colab": {
          "base_uri": "https://localhost:8080/"
        },
        "outputId": "3c4e1ffc-11a7-4921-ba54-d4c146d554f5"
      },
      "outputs": [
        {
          "output_type": "stream",
          "name": "stdout",
          "text": [
            "+-----------------+---------+\n",
            "|chunk            |ner_label|\n",
            "+-----------------+---------+\n",
            "|Pedro Gonçalves  |NAME     |\n",
            "|2569870          |ID       |\n",
            "|Rua Das Flores 23|LOCATION |\n",
            "|21754-987        |LOCATION |\n",
            "|10/10/1963       |DATE     |\n",
            "|53               |AGE      |\n",
            "|17/06/2016       |DATE     |\n",
            "|Maria Santos     |NAME     |\n",
            "+-----------------+---------+\n",
            "\n"
          ]
        }
      ],
      "source": [
        "result_pt.select(F.explode(F.arrays_zip(result_pt.ner_chunk_generic.result, result_pt.ner_chunk_generic.metadata)).alias(\"cols\")) \\\n",
        "         .select(F.expr(\"cols['0']\").alias(\"chunk\"),\n",
        "                 F.expr(\"cols['1']['entity']\").alias(\"ner_label\")).show(truncate=False)"
      ]
    },
    {
      "cell_type": "markdown",
      "metadata": {
        "id": "MA_IXF0bFQeP"
      },
      "source": [
        "Results for `ner_deid_subentity`"
      ]
    },
    {
      "cell_type": "code",
      "execution_count": null,
      "metadata": {
        "id": "nP98nUw9FQeP",
        "colab": {
          "base_uri": "https://localhost:8080/"
        },
        "outputId": "681b892a-750d-4a52-b85a-a48fdd58b9d3"
      },
      "outputs": [
        {
          "output_type": "stream",
          "name": "stdout",
          "text": [
            "+-----------------+---------+\n",
            "|chunk            |ner_label|\n",
            "+-----------------+---------+\n",
            "|Pedro Gonçalves  |PATIENT  |\n",
            "|2569870          |ID       |\n",
            "|Rua Das Flores 23|STREET   |\n",
            "|21754-987        |ZIP      |\n",
            "|10/10/1963       |DATE     |\n",
            "|53               |AGE      |\n",
            "|17/06/2016       |DATE     |\n",
            "|Maria Santos     |DOCTOR   |\n",
            "+-----------------+---------+\n",
            "\n"
          ]
        }
      ],
      "source": [
        "result_pt.select(F.explode(F.arrays_zip(result_pt.ner_chunk_subentity.result, result_pt.ner_chunk_subentity.metadata)).alias(\"cols\")) \\\n",
        "         .select(F.expr(\"cols['0']\").alias(\"chunk\"),\n",
        "                 F.expr(\"cols['1']['entity']\").alias(\"ner_label\")).show(truncate=False)"
      ]
    },
    {
      "cell_type": "markdown",
      "metadata": {
        "id": "sX4wSZi7FQeP"
      },
      "source": [
        "## DeIdentification"
      ]
    },
    {
      "cell_type": "markdown",
      "metadata": {
        "id": "e6cy4aXnFQeP"
      },
      "source": [
        "### Obfuscation mode"
      ]
    },
    {
      "cell_type": "code",
      "execution_count": null,
      "metadata": {
        "id": "ZArGXuxdFQeP"
      },
      "outputs": [],
      "source": [
        "# Downloading faker entity list.\n",
        "! wget -q https://raw.githubusercontent.com/JohnSnowLabs/spark-nlp-workshop/master/tutorials/Certification_Trainings/Healthcare/data/obfuscate_pt.txt"
      ]
    },
    {
      "cell_type": "code",
      "execution_count": null,
      "metadata": {
        "id": "PwgObR2uFQeP"
      },
      "outputs": [],
      "source": [
        "deid_masked_entity = DeIdentification()\\\n",
        "    .setInputCols([\"sentence\", \"token\", \"ner_chunk_subentity\"])\\\n",
        "    .setOutputCol(\"masked_with_entity\")\\\n",
        "    .setMode(\"mask\")\\\n",
        "    .setMaskingPolicy(\"entity_labels\")\n",
        "\n",
        "deid_masked_char = DeIdentification()\\\n",
        "    .setInputCols([\"sentence\", \"token\", \"ner_chunk_subentity\"])\\\n",
        "    .setOutputCol(\"masked_with_chars\")\\\n",
        "    .setMode(\"mask\")\\\n",
        "    .setMaskingPolicy(\"same_length_chars\")\n",
        "\n",
        "deid_masked_fixed_char = DeIdentification()\\\n",
        "    .setInputCols([\"sentence\", \"token\", \"ner_chunk_subentity\"])\\\n",
        "    .setOutputCol(\"masked_fixed_length_chars\")\\\n",
        "    .setMode(\"mask\")\\\n",
        "    .setMaskingPolicy(\"fixed_length_chars\")\\\n",
        "    .setFixedMaskLength(4)\n",
        "\n",
        "deid_obfuscated = DeIdentification()\\\n",
        "    .setInputCols([\"sentence\", \"token\", \"ner_chunk_subentity\"]) \\\n",
        "    .setOutputCol(\"obfuscated\") \\\n",
        "    .setMode(\"obfuscate\")\\\n",
        "    .setObfuscateDate(True)\\\n",
        "    .setObfuscateRefFile('obfuscate_pt.txt')\\\n",
        "    .setObfuscateRefSource(\"file\")"
      ]
    },
    {
      "cell_type": "code",
      "execution_count": null,
      "metadata": {
        "id": "NHPYkfiKFQeP"
      },
      "outputs": [],
      "source": [
        "nlpPipeline_pt = Pipeline(stages=[\n",
        "      documentAssembler, \n",
        "      sentencerDL,\n",
        "      tokenizer,\n",
        "      word_embeddings_pt,\n",
        "      ner_subentity_pt,\n",
        "      ner_converter_subentity,\n",
        "      deid_masked_entity,\n",
        "      deid_masked_char,\n",
        "      deid_masked_fixed_char,\n",
        "      deid_obfuscated\n",
        "      ])\n",
        "\n",
        "empty_data = spark.createDataFrame([[\"\"]]).toDF(\"text\")\n",
        "model_pt = nlpPipeline_pt.fit(empty_data)"
      ]
    },
    {
      "cell_type": "code",
      "execution_count": null,
      "metadata": {
        "id": "Sn1oADmMFQeQ"
      },
      "outputs": [],
      "source": [
        "deid_lp_pt = LightPipeline(model_pt)"
      ]
    },
    {
      "cell_type": "code",
      "execution_count": null,
      "metadata": {
        "id": "mbPMenCaFQeQ"
      },
      "outputs": [],
      "source": [
        "text = \"\"\"Detalhes do paciente.\n",
        "Nome do paciente: Antonio Gonçalves\n",
        "NHC: 2569870.\n",
        "Endereço: Rua Das Flores 23.\n",
        "Código Postal: 21754-987.\n",
        "Dados de cuidados.\n",
        "Data de nascimento: 10/10/1963.\n",
        "Idade: 23 anos \n",
        "Data de admissão: 17/06/2016.\n",
        "Doutora: Maria Santos\"\"\""
      ]
    },
    {
      "cell_type": "code",
      "execution_count": null,
      "metadata": {
        "id": "xTPNITS9FQeR",
        "colab": {
          "base_uri": "https://localhost:8080/",
          "height": 491
        },
        "outputId": "0b34fc9d-e9a9-4954-d851-3ed4fc289faf"
      },
      "outputs": [
        {
          "output_type": "execute_result",
          "data": {
            "text/plain": [
              "                                                  Sentence                          Masked_with_entity                                        Masked with Chars                Masked with Fixed Chars                                                  Obfuscated\n",
              "0                                    Detalhes do paciente.                       Detalhes do paciente.                                    Detalhes do paciente.                  Detalhes do paciente.                                       Detalhes do paciente.\n",
              "1                      Nome do paciente: Antonio Gonçalves                 Nome do paciente: <PATIENT>                      Nome do paciente: [***************]                 Nome do paciente: ****                           Nome do paciente: Tiago da Castro\n",
              "2                                            NHC: 2569870.                                  NHC: <ID>.                                            NHC: [*****].                             NHC: ****.                                              NHC: 799069 8.\n",
              "3  Endereço: Rua Das Flores 23.\\nCódigo Postal: 21754-987.  Endereço: <STREET>.\\nCódigo Postal: <ZIP>.  Endereço: [***************].\\nCódigo Postal: [*******].  Endereço: ****.\\nCódigo Postal: ****.  Endereço: Praça de Simões, S/N.\\nCódigo Postal: 27269-486.\n",
              "4                                       Dados de cuidados.                          Dados de cuidados.                                       Dados de cuidados.                     Dados de cuidados.                                          Dados de cuidados.\n",
              "5                          Data de nascimento: 10/10/1963.                 Data de nascimento: <DATE>.                          Data de nascimento: [********].              Data de nascimento: ****.                             Data de nascimento: 28/11/1963.\n",
              "6                                           Idade: 23 anos                           Idade: <AGE> anos                                           Idade: ** anos                       Idade: **** anos                                              Idade: 80 anos\n",
              "7                            Data de admissão: 17/06/2016.                   Data de admissão: <DATE>.                            Data de admissão: [********].                Data de admissão: ****.                               Data de admissão: 07/08/2016.\n",
              "8                                  \\nDoutora: Maria Santos                         \\nDoutora: <DOCTOR>                                  \\nDoutora: [**********]                        \\nDoutora: ****                                          \\nDoutora: Miranda"
            ],
            "text/html": [
              "\n",
              "  <div id=\"df-322a5656-915c-47d2-b5bf-a697bfc08ede\">\n",
              "    <div class=\"colab-df-container\">\n",
              "      <div>\n",
              "<style scoped>\n",
              "    .dataframe tbody tr th:only-of-type {\n",
              "        vertical-align: middle;\n",
              "    }\n",
              "\n",
              "    .dataframe tbody tr th {\n",
              "        vertical-align: top;\n",
              "    }\n",
              "\n",
              "    .dataframe thead th {\n",
              "        text-align: right;\n",
              "    }\n",
              "</style>\n",
              "<table border=\"1\" class=\"dataframe\">\n",
              "  <thead>\n",
              "    <tr style=\"text-align: right;\">\n",
              "      <th></th>\n",
              "      <th>Sentence</th>\n",
              "      <th>Masked_with_entity</th>\n",
              "      <th>Masked with Chars</th>\n",
              "      <th>Masked with Fixed Chars</th>\n",
              "      <th>Obfuscated</th>\n",
              "    </tr>\n",
              "  </thead>\n",
              "  <tbody>\n",
              "    <tr>\n",
              "      <th>0</th>\n",
              "      <td>Detalhes do paciente.</td>\n",
              "      <td>Detalhes do paciente.</td>\n",
              "      <td>Detalhes do paciente.</td>\n",
              "      <td>Detalhes do paciente.</td>\n",
              "      <td>Detalhes do paciente.</td>\n",
              "    </tr>\n",
              "    <tr>\n",
              "      <th>1</th>\n",
              "      <td>Nome do paciente: Antonio Gonçalves</td>\n",
              "      <td>Nome do paciente: &lt;PATIENT&gt;</td>\n",
              "      <td>Nome do paciente: [***************]</td>\n",
              "      <td>Nome do paciente: ****</td>\n",
              "      <td>Nome do paciente: Tiago da Castro</td>\n",
              "    </tr>\n",
              "    <tr>\n",
              "      <th>2</th>\n",
              "      <td>NHC: 2569870.</td>\n",
              "      <td>NHC: &lt;ID&gt;.</td>\n",
              "      <td>NHC: [*****].</td>\n",
              "      <td>NHC: ****.</td>\n",
              "      <td>NHC: 799069 8.</td>\n",
              "    </tr>\n",
              "    <tr>\n",
              "      <th>3</th>\n",
              "      <td>Endereço: Rua Das Flores 23.\\nCódigo Postal: 21754-987.</td>\n",
              "      <td>Endereço: &lt;STREET&gt;.\\nCódigo Postal: &lt;ZIP&gt;.</td>\n",
              "      <td>Endereço: [***************].\\nCódigo Postal: [*******].</td>\n",
              "      <td>Endereço: ****.\\nCódigo Postal: ****.</td>\n",
              "      <td>Endereço: Praça de Simões, S/N.\\nCódigo Postal: 27269-486.</td>\n",
              "    </tr>\n",
              "    <tr>\n",
              "      <th>4</th>\n",
              "      <td>Dados de cuidados.</td>\n",
              "      <td>Dados de cuidados.</td>\n",
              "      <td>Dados de cuidados.</td>\n",
              "      <td>Dados de cuidados.</td>\n",
              "      <td>Dados de cuidados.</td>\n",
              "    </tr>\n",
              "    <tr>\n",
              "      <th>5</th>\n",
              "      <td>Data de nascimento: 10/10/1963.</td>\n",
              "      <td>Data de nascimento: &lt;DATE&gt;.</td>\n",
              "      <td>Data de nascimento: [********].</td>\n",
              "      <td>Data de nascimento: ****.</td>\n",
              "      <td>Data de nascimento: 28/11/1963.</td>\n",
              "    </tr>\n",
              "    <tr>\n",
              "      <th>6</th>\n",
              "      <td>Idade: 23 anos</td>\n",
              "      <td>Idade: &lt;AGE&gt; anos</td>\n",
              "      <td>Idade: ** anos</td>\n",
              "      <td>Idade: **** anos</td>\n",
              "      <td>Idade: 80 anos</td>\n",
              "    </tr>\n",
              "    <tr>\n",
              "      <th>7</th>\n",
              "      <td>Data de admissão: 17/06/2016.</td>\n",
              "      <td>Data de admissão: &lt;DATE&gt;.</td>\n",
              "      <td>Data de admissão: [********].</td>\n",
              "      <td>Data de admissão: ****.</td>\n",
              "      <td>Data de admissão: 07/08/2016.</td>\n",
              "    </tr>\n",
              "    <tr>\n",
              "      <th>8</th>\n",
              "      <td>\\nDoutora: Maria Santos</td>\n",
              "      <td>\\nDoutora: &lt;DOCTOR&gt;</td>\n",
              "      <td>\\nDoutora: [**********]</td>\n",
              "      <td>\\nDoutora: ****</td>\n",
              "      <td>\\nDoutora: Miranda</td>\n",
              "    </tr>\n",
              "  </tbody>\n",
              "</table>\n",
              "</div>\n",
              "      <button class=\"colab-df-convert\" onclick=\"convertToInteractive('df-322a5656-915c-47d2-b5bf-a697bfc08ede')\"\n",
              "              title=\"Convert this dataframe to an interactive table.\"\n",
              "              style=\"display:none;\">\n",
              "        \n",
              "  <svg xmlns=\"http://www.w3.org/2000/svg\" height=\"24px\"viewBox=\"0 0 24 24\"\n",
              "       width=\"24px\">\n",
              "    <path d=\"M0 0h24v24H0V0z\" fill=\"none\"/>\n",
              "    <path d=\"M18.56 5.44l.94 2.06.94-2.06 2.06-.94-2.06-.94-.94-2.06-.94 2.06-2.06.94zm-11 1L8.5 8.5l.94-2.06 2.06-.94-2.06-.94L8.5 2.5l-.94 2.06-2.06.94zm10 10l.94 2.06.94-2.06 2.06-.94-2.06-.94-.94-2.06-.94 2.06-2.06.94z\"/><path d=\"M17.41 7.96l-1.37-1.37c-.4-.4-.92-.59-1.43-.59-.52 0-1.04.2-1.43.59L10.3 9.45l-7.72 7.72c-.78.78-.78 2.05 0 2.83L4 21.41c.39.39.9.59 1.41.59.51 0 1.02-.2 1.41-.59l7.78-7.78 2.81-2.81c.8-.78.8-2.07 0-2.86zM5.41 20L4 18.59l7.72-7.72 1.47 1.35L5.41 20z\"/>\n",
              "  </svg>\n",
              "      </button>\n",
              "      \n",
              "  <style>\n",
              "    .colab-df-container {\n",
              "      display:flex;\n",
              "      flex-wrap:wrap;\n",
              "      gap: 12px;\n",
              "    }\n",
              "\n",
              "    .colab-df-convert {\n",
              "      background-color: #E8F0FE;\n",
              "      border: none;\n",
              "      border-radius: 50%;\n",
              "      cursor: pointer;\n",
              "      display: none;\n",
              "      fill: #1967D2;\n",
              "      height: 32px;\n",
              "      padding: 0 0 0 0;\n",
              "      width: 32px;\n",
              "    }\n",
              "\n",
              "    .colab-df-convert:hover {\n",
              "      background-color: #E2EBFA;\n",
              "      box-shadow: 0px 1px 2px rgba(60, 64, 67, 0.3), 0px 1px 3px 1px rgba(60, 64, 67, 0.15);\n",
              "      fill: #174EA6;\n",
              "    }\n",
              "\n",
              "    [theme=dark] .colab-df-convert {\n",
              "      background-color: #3B4455;\n",
              "      fill: #D2E3FC;\n",
              "    }\n",
              "\n",
              "    [theme=dark] .colab-df-convert:hover {\n",
              "      background-color: #434B5C;\n",
              "      box-shadow: 0px 1px 3px 1px rgba(0, 0, 0, 0.15);\n",
              "      filter: drop-shadow(0px 1px 2px rgba(0, 0, 0, 0.3));\n",
              "      fill: #FFFFFF;\n",
              "    }\n",
              "  </style>\n",
              "\n",
              "      <script>\n",
              "        const buttonEl =\n",
              "          document.querySelector('#df-322a5656-915c-47d2-b5bf-a697bfc08ede button.colab-df-convert');\n",
              "        buttonEl.style.display =\n",
              "          google.colab.kernel.accessAllowed ? 'block' : 'none';\n",
              "\n",
              "        async function convertToInteractive(key) {\n",
              "          const element = document.querySelector('#df-322a5656-915c-47d2-b5bf-a697bfc08ede');\n",
              "          const dataTable =\n",
              "            await google.colab.kernel.invokeFunction('convertToInteractive',\n",
              "                                                     [key], {});\n",
              "          if (!dataTable) return;\n",
              "\n",
              "          const docLinkHtml = 'Like what you see? Visit the ' +\n",
              "            '<a target=\"_blank\" href=https://colab.research.google.com/notebooks/data_table.ipynb>data table notebook</a>'\n",
              "            + ' to learn more about interactive tables.';\n",
              "          element.innerHTML = '';\n",
              "          dataTable['output_type'] = 'display_data';\n",
              "          await google.colab.output.renderOutput(dataTable, element);\n",
              "          const docLink = document.createElement('div');\n",
              "          docLink.innerHTML = docLinkHtml;\n",
              "          element.appendChild(docLink);\n",
              "        }\n",
              "      </script>\n",
              "    </div>\n",
              "  </div>\n",
              "  "
            ]
          },
          "metadata": {},
          "execution_count": 108
        }
      ],
      "source": [
        "pd.set_option(\"display.max_colwidth\", 200)\n",
        "\n",
        "result_pt = deid_lp_pt.annotate(text)\n",
        "\n",
        "df_pt = pd.DataFrame(list(zip(result_pt[\"sentence\"],\n",
        "                              result_pt[\"masked_with_entity\"], \n",
        "                              result_pt[\"masked_with_chars\"],\n",
        "                              result_pt[\"masked_fixed_length_chars\"], \n",
        "                              result_pt[\"obfuscated\"])),\n",
        "                 columns= [\"Sentence\", \"Masked_with_entity\", \"Masked with Chars\", \"Masked with Fixed Chars\", \"Obfuscated\"])\n",
        "\n",
        "df_pt"
      ]
    },
    {
      "cell_type": "markdown",
      "metadata": {
        "id": "JeutCogYztq3"
      },
      "source": [
        "### Faker mode"
      ]
    },
    {
      "cell_type": "code",
      "execution_count": null,
      "metadata": {
        "id": "i-EE2XF4ztrG"
      },
      "outputs": [],
      "source": [
        "deid_obfuscated_faker = DeIdentification()\\\n",
        "    .setInputCols([\"sentence\", \"token\", \"ner_chunk_subentity\"]) \\\n",
        "    .setOutputCol(\"obfuscated\") \\\n",
        "    .setMode(\"obfuscate\")\\\n",
        "    .setLanguage('pt')\\\n",
        "    .setObfuscateDate(True)\\\n",
        "    .setObfuscateRefSource('faker')"
      ]
    },
    {
      "cell_type": "code",
      "execution_count": null,
      "metadata": {
        "id": "OD3izmvhztrH"
      },
      "outputs": [],
      "source": [
        "nlpPipeline_pt = Pipeline(stages=[\n",
        "      documentAssembler, \n",
        "      sentencerDL,\n",
        "      tokenizer,\n",
        "      word_embeddings_pt,\n",
        "      ner_subentity_pt,\n",
        "      ner_converter_subentity,\n",
        "      deid_masked_entity,\n",
        "      deid_masked_char,\n",
        "      deid_masked_fixed_char,\n",
        "      deid_obfuscated_faker\n",
        "      ])\n",
        "\n",
        "empty_data = spark.createDataFrame([[\"\"]]).toDF(\"text\")\n",
        "model_pt = nlpPipeline_pt.fit(empty_data)"
      ]
    },
    {
      "cell_type": "code",
      "execution_count": null,
      "metadata": {
        "id": "dN5Y00eqztrI"
      },
      "outputs": [],
      "source": [
        "deid_lp_pt = LightPipeline(model_pt)"
      ]
    },
    {
      "cell_type": "code",
      "execution_count": null,
      "metadata": {
        "id": "nL2eU6-nztrJ",
        "colab": {
          "base_uri": "https://localhost:8080/",
          "height": 491
        },
        "outputId": "7fcf975f-4934-4c36-dfd6-221f968af344"
      },
      "outputs": [
        {
          "output_type": "execute_result",
          "data": {
            "text/plain": [
              "                                                  Sentence                          Masked_with_entity                                        Masked with Chars                Masked with Fixed Chars                                                  Obfuscated\n",
              "0                                    Detalhes do paciente.                       Detalhes do paciente.                                    Detalhes do paciente.                  Detalhes do paciente.                                       Detalhes do paciente.\n",
              "1                      Nome do paciente: Antonio Gonçalves                 Nome do paciente: <PATIENT>                      Nome do paciente: [***************]                 Nome do paciente: ****                            Nome do paciente: Rowland Hermes\n",
              "2                                            NHC: 2569870.                                  NHC: <ID>.                                            NHC: [*****].                             NHC: ****.                                              NHC: M2385820.\n",
              "3  Endereço: Rua Das Flores 23.\\nCódigo Postal: 21754-987.  Endereço: <STREET>.\\nCódigo Postal: <ZIP>.  Endereço: [***************].\\nCódigo Postal: [*******].  Endereço: ****.\\nCódigo Postal: ****.  Endereço: 9250 Pinecroft Drive.\\nCódigo Postal: 11192-939.\n",
              "4                                       Dados de cuidados.                          Dados de cuidados.                                       Dados de cuidados.                     Dados de cuidados.                                          Dados de cuidados.\n",
              "5                          Data de nascimento: 10/10/1963.                 Data de nascimento: <DATE>.                          Data de nascimento: [********].              Data de nascimento: ****.                             Data de nascimento: 17/11/1963.\n",
              "6                                           Idade: 23 anos                           Idade: <AGE> anos                                           Idade: ** anos                       Idade: **** anos                                              Idade: 29 anos\n",
              "7                            Data de admissão: 17/06/2016.                   Data de admissão: <DATE>.                            Data de admissão: [********].                Data de admissão: ****.                               Data de admissão: 24/06/2016.\n",
              "8                                  \\nDoutora: Maria Santos                         \\nDoutora: <DOCTOR>                                  \\nDoutora: [**********]                        \\nDoutora: ****                               \\nDoutora: Dr Georgana Lowers"
            ],
            "text/html": [
              "\n",
              "  <div id=\"df-04b5677f-92c2-481a-99b9-13afe81ddff9\">\n",
              "    <div class=\"colab-df-container\">\n",
              "      <div>\n",
              "<style scoped>\n",
              "    .dataframe tbody tr th:only-of-type {\n",
              "        vertical-align: middle;\n",
              "    }\n",
              "\n",
              "    .dataframe tbody tr th {\n",
              "        vertical-align: top;\n",
              "    }\n",
              "\n",
              "    .dataframe thead th {\n",
              "        text-align: right;\n",
              "    }\n",
              "</style>\n",
              "<table border=\"1\" class=\"dataframe\">\n",
              "  <thead>\n",
              "    <tr style=\"text-align: right;\">\n",
              "      <th></th>\n",
              "      <th>Sentence</th>\n",
              "      <th>Masked_with_entity</th>\n",
              "      <th>Masked with Chars</th>\n",
              "      <th>Masked with Fixed Chars</th>\n",
              "      <th>Obfuscated</th>\n",
              "    </tr>\n",
              "  </thead>\n",
              "  <tbody>\n",
              "    <tr>\n",
              "      <th>0</th>\n",
              "      <td>Detalhes do paciente.</td>\n",
              "      <td>Detalhes do paciente.</td>\n",
              "      <td>Detalhes do paciente.</td>\n",
              "      <td>Detalhes do paciente.</td>\n",
              "      <td>Detalhes do paciente.</td>\n",
              "    </tr>\n",
              "    <tr>\n",
              "      <th>1</th>\n",
              "      <td>Nome do paciente: Antonio Gonçalves</td>\n",
              "      <td>Nome do paciente: &lt;PATIENT&gt;</td>\n",
              "      <td>Nome do paciente: [***************]</td>\n",
              "      <td>Nome do paciente: ****</td>\n",
              "      <td>Nome do paciente: Rowland Hermes</td>\n",
              "    </tr>\n",
              "    <tr>\n",
              "      <th>2</th>\n",
              "      <td>NHC: 2569870.</td>\n",
              "      <td>NHC: &lt;ID&gt;.</td>\n",
              "      <td>NHC: [*****].</td>\n",
              "      <td>NHC: ****.</td>\n",
              "      <td>NHC: M2385820.</td>\n",
              "    </tr>\n",
              "    <tr>\n",
              "      <th>3</th>\n",
              "      <td>Endereço: Rua Das Flores 23.\\nCódigo Postal: 21754-987.</td>\n",
              "      <td>Endereço: &lt;STREET&gt;.\\nCódigo Postal: &lt;ZIP&gt;.</td>\n",
              "      <td>Endereço: [***************].\\nCódigo Postal: [*******].</td>\n",
              "      <td>Endereço: ****.\\nCódigo Postal: ****.</td>\n",
              "      <td>Endereço: 9250 Pinecroft Drive.\\nCódigo Postal: 11192-939.</td>\n",
              "    </tr>\n",
              "    <tr>\n",
              "      <th>4</th>\n",
              "      <td>Dados de cuidados.</td>\n",
              "      <td>Dados de cuidados.</td>\n",
              "      <td>Dados de cuidados.</td>\n",
              "      <td>Dados de cuidados.</td>\n",
              "      <td>Dados de cuidados.</td>\n",
              "    </tr>\n",
              "    <tr>\n",
              "      <th>5</th>\n",
              "      <td>Data de nascimento: 10/10/1963.</td>\n",
              "      <td>Data de nascimento: &lt;DATE&gt;.</td>\n",
              "      <td>Data de nascimento: [********].</td>\n",
              "      <td>Data de nascimento: ****.</td>\n",
              "      <td>Data de nascimento: 17/11/1963.</td>\n",
              "    </tr>\n",
              "    <tr>\n",
              "      <th>6</th>\n",
              "      <td>Idade: 23 anos</td>\n",
              "      <td>Idade: &lt;AGE&gt; anos</td>\n",
              "      <td>Idade: ** anos</td>\n",
              "      <td>Idade: **** anos</td>\n",
              "      <td>Idade: 29 anos</td>\n",
              "    </tr>\n",
              "    <tr>\n",
              "      <th>7</th>\n",
              "      <td>Data de admissão: 17/06/2016.</td>\n",
              "      <td>Data de admissão: &lt;DATE&gt;.</td>\n",
              "      <td>Data de admissão: [********].</td>\n",
              "      <td>Data de admissão: ****.</td>\n",
              "      <td>Data de admissão: 24/06/2016.</td>\n",
              "    </tr>\n",
              "    <tr>\n",
              "      <th>8</th>\n",
              "      <td>\\nDoutora: Maria Santos</td>\n",
              "      <td>\\nDoutora: &lt;DOCTOR&gt;</td>\n",
              "      <td>\\nDoutora: [**********]</td>\n",
              "      <td>\\nDoutora: ****</td>\n",
              "      <td>\\nDoutora: Dr Georgana Lowers</td>\n",
              "    </tr>\n",
              "  </tbody>\n",
              "</table>\n",
              "</div>\n",
              "      <button class=\"colab-df-convert\" onclick=\"convertToInteractive('df-04b5677f-92c2-481a-99b9-13afe81ddff9')\"\n",
              "              title=\"Convert this dataframe to an interactive table.\"\n",
              "              style=\"display:none;\">\n",
              "        \n",
              "  <svg xmlns=\"http://www.w3.org/2000/svg\" height=\"24px\"viewBox=\"0 0 24 24\"\n",
              "       width=\"24px\">\n",
              "    <path d=\"M0 0h24v24H0V0z\" fill=\"none\"/>\n",
              "    <path d=\"M18.56 5.44l.94 2.06.94-2.06 2.06-.94-2.06-.94-.94-2.06-.94 2.06-2.06.94zm-11 1L8.5 8.5l.94-2.06 2.06-.94-2.06-.94L8.5 2.5l-.94 2.06-2.06.94zm10 10l.94 2.06.94-2.06 2.06-.94-2.06-.94-.94-2.06-.94 2.06-2.06.94z\"/><path d=\"M17.41 7.96l-1.37-1.37c-.4-.4-.92-.59-1.43-.59-.52 0-1.04.2-1.43.59L10.3 9.45l-7.72 7.72c-.78.78-.78 2.05 0 2.83L4 21.41c.39.39.9.59 1.41.59.51 0 1.02-.2 1.41-.59l7.78-7.78 2.81-2.81c.8-.78.8-2.07 0-2.86zM5.41 20L4 18.59l7.72-7.72 1.47 1.35L5.41 20z\"/>\n",
              "  </svg>\n",
              "      </button>\n",
              "      \n",
              "  <style>\n",
              "    .colab-df-container {\n",
              "      display:flex;\n",
              "      flex-wrap:wrap;\n",
              "      gap: 12px;\n",
              "    }\n",
              "\n",
              "    .colab-df-convert {\n",
              "      background-color: #E8F0FE;\n",
              "      border: none;\n",
              "      border-radius: 50%;\n",
              "      cursor: pointer;\n",
              "      display: none;\n",
              "      fill: #1967D2;\n",
              "      height: 32px;\n",
              "      padding: 0 0 0 0;\n",
              "      width: 32px;\n",
              "    }\n",
              "\n",
              "    .colab-df-convert:hover {\n",
              "      background-color: #E2EBFA;\n",
              "      box-shadow: 0px 1px 2px rgba(60, 64, 67, 0.3), 0px 1px 3px 1px rgba(60, 64, 67, 0.15);\n",
              "      fill: #174EA6;\n",
              "    }\n",
              "\n",
              "    [theme=dark] .colab-df-convert {\n",
              "      background-color: #3B4455;\n",
              "      fill: #D2E3FC;\n",
              "    }\n",
              "\n",
              "    [theme=dark] .colab-df-convert:hover {\n",
              "      background-color: #434B5C;\n",
              "      box-shadow: 0px 1px 3px 1px rgba(0, 0, 0, 0.15);\n",
              "      filter: drop-shadow(0px 1px 2px rgba(0, 0, 0, 0.3));\n",
              "      fill: #FFFFFF;\n",
              "    }\n",
              "  </style>\n",
              "\n",
              "      <script>\n",
              "        const buttonEl =\n",
              "          document.querySelector('#df-04b5677f-92c2-481a-99b9-13afe81ddff9 button.colab-df-convert');\n",
              "        buttonEl.style.display =\n",
              "          google.colab.kernel.accessAllowed ? 'block' : 'none';\n",
              "\n",
              "        async function convertToInteractive(key) {\n",
              "          const element = document.querySelector('#df-04b5677f-92c2-481a-99b9-13afe81ddff9');\n",
              "          const dataTable =\n",
              "            await google.colab.kernel.invokeFunction('convertToInteractive',\n",
              "                                                     [key], {});\n",
              "          if (!dataTable) return;\n",
              "\n",
              "          const docLinkHtml = 'Like what you see? Visit the ' +\n",
              "            '<a target=\"_blank\" href=https://colab.research.google.com/notebooks/data_table.ipynb>data table notebook</a>'\n",
              "            + ' to learn more about interactive tables.';\n",
              "          element.innerHTML = '';\n",
              "          dataTable['output_type'] = 'display_data';\n",
              "          await google.colab.output.renderOutput(dataTable, element);\n",
              "          const docLink = document.createElement('div');\n",
              "          docLink.innerHTML = docLinkHtml;\n",
              "          element.appendChild(docLink);\n",
              "        }\n",
              "      </script>\n",
              "    </div>\n",
              "  </div>\n",
              "  "
            ]
          },
          "metadata": {},
          "execution_count": 112
        }
      ],
      "source": [
        "pd.set_option(\"display.max_colwidth\", 200)\n",
        "\n",
        "result_pt = deid_lp_pt.annotate(text)\n",
        "\n",
        "df_pt = pd.DataFrame(list(zip(result_pt[\"sentence\"],\n",
        "                              result_pt[\"masked_with_entity\"], \n",
        "                              result_pt[\"masked_with_chars\"],\n",
        "                              result_pt[\"masked_fixed_length_chars\"], \n",
        "                              result_pt[\"obfuscated\"])),\n",
        "                 columns= [\"Sentence\", \"Masked_with_entity\", \"Masked with Chars\", \"Masked with Fixed Chars\", \"Obfuscated\"])\n",
        "\n",
        "df_pt"
      ]
    },
    {
      "cell_type": "markdown",
      "metadata": {
        "id": "7DWs_iJ8FSyO"
      },
      "source": [
        "## Pretrained Portuguese Deidentification Pipeline\n",
        "\n",
        "- We developed a clinical deidentification pretrained pipeline that can be used to deidentify PHI information from Italian medical texts. The PHI information will be masked and obfuscated in the resulting text. \n",
        "- The pipeline can mask and obfuscate:\n",
        "    - Patient\n",
        "    - Doctor\n",
        "    - Hospital\n",
        "    - Date\n",
        "    - Organization\n",
        "    - Sex\n",
        "    - City\n",
        "    - Street\n",
        "    - Country\n",
        "    - ZIP\n",
        "    - Username\n",
        "    - Profession\n",
        "    - Phone\n",
        "    - Email\n",
        "    - Age\n",
        "    - ID number\n",
        "    - Medical record number\n",
        "    - Account number\n",
        "    - SSN\n",
        "    - Plate Number\n",
        "    - IP address\n",
        "    - URL"
      ]
    },
    {
      "cell_type": "code",
      "execution_count": null,
      "metadata": {
        "id": "1eMrFJ8YFSyO",
        "colab": {
          "base_uri": "https://localhost:8080/"
        },
        "outputId": "7f93bf30-7eef-4965-918e-75602f6bf711"
      },
      "outputs": [
        {
          "output_type": "stream",
          "name": "stdout",
          "text": [
            "clinical_deidentification download started this may take some time.\n",
            "Approx size to download 1.2 GB\n",
            "[OK!]\n"
          ]
        }
      ],
      "source": [
        "from sparknlp.pretrained import PretrainedPipeline\n",
        "\n",
        "deid_pipeline_pt = PretrainedPipeline(\"clinical_deidentification\", \"pt\", \"clinical/models\")"
      ]
    },
    {
      "cell_type": "code",
      "execution_count": null,
      "metadata": {
        "id": "nB_VDG7SFSyP"
      },
      "outputs": [],
      "source": [
        "text = \"\"\"RELAÇÃO HOSPITALAR\n",
        "NOME: Pedro Gonçalves\n",
        "NHC: MVANSK92F09W408A\n",
        "ENDEREÇO: Rua Burcardo 7\n",
        "CÓDIGO POSTAL: 80139\n",
        "DATA DE NASCIMENTO: 03/03/1946\n",
        "IDADE: 70 anos\n",
        "SEXO: Homens\n",
        "E-MAIL: pgon21@tim.pt\n",
        "DATA DE ADMISSÃO: 12/12/2016\n",
        "DOUTORA: Eva Andrade\n",
        "RELATO CLÍNICO: 70 anos, aposentado, sem alergia a medicamentos conhecida, com a seguinte história: ex-acidente de trabalho com fratura de vértebras e costelas; operado de doença de Dupuytren na mão direita e ponte ílio-femoral esquerda; diabetes tipo II, hipercolesterolemia e hiperuricemia; alcoolismo ativo, fuma 20 cigarros/dia.\n",
        "Ele foi encaminhado a nós por apresentar hematúria macroscópica pós-evacuação em uma ocasião e microhematúria persistente posteriormente, com evacuação normal.\n",
        "O exame físico mostrou bom estado geral, com abdome e genitais normais; o toque retal foi compatível com adenoma de próstata grau I/IV.\n",
        "A urinálise mostrou 4 hemácias/campo e 0-5 leucócitos/campo; o resto do sedimento era normal.\n",
        "O hemograma é normal; a bioquímica mostrou uma glicemia de 169 mg/dl e triglicerídeos 456 mg/dl; função hepática e renal são normais. PSA de 1,16 ng/ml.\n",
        "\n",
        "DIRIGIDA A: Dr. Eva Andrade - Centro Hospitalar do Medio Ave - Avenida Dos Aliados, 56\n",
        "E-MAIL: evandrade@poste.pt\n",
        "\"\"\""
      ]
    },
    {
      "cell_type": "code",
      "execution_count": null,
      "metadata": {
        "id": "ZeTFtN59FSyP",
        "colab": {
          "base_uri": "https://localhost:8080/",
          "height": 1000
        },
        "outputId": "10c8c9ab-68b5-47c8-8f57-dee4f81ff22f"
      },
      "outputs": [
        {
          "output_type": "execute_result",
          "data": {
            "text/plain": [
              "                                                                                                                                                                                                                                                                                                                                        Sentence                                                                                                                                                                                                                                                                                                                                           Masked                                                                                                                                                                                                                                                                                                                             Masked with Chars                                                                                                                                                                                                                                                                                                                         Masked with Fixed Chars                                                                                                                                                                                                                                                                                                                                    Obfuscated\n",
              "0                                                                                                                                                                                                                                                                                                      RELAÇÃO HOSPITALAR\\nNOME: Pedro Gonçalves                                                                                                                                                                                                                                                                                                               RELAÇÃO HOSPITALAR\\nNOME: <DOCTOR>                                                                                                                                                                                                                                                                                                     RELAÇÃO HOSPITALAR\\nNOME: [*************]                                                                                                                                                                                                                                                                                                                  RELAÇÃO HOSPITALAR\\nNOME: ****                                                                                                                                                                                                                                                                                                        RELAÇÃO HOSPITALAR\\nNOME: Eva Coutinho\n",
              "1                                                                                                                                                                                                                                                                                                                          NHC: MVANSK92F09W408A                                                                                                                                                                                                                                                                                                                                        NHC: <ID>                                                                                                                                                                                                                                                                                                                         NHC: [**************]                                                                                                                                                                                                                                                                                                                                       NHC: ****                                                                                                                                                                                                                                                                                                                              NHC: 124 445 311\n",
              "2                                                                                                                                                                                                                                                                                                                       ENDEREÇO: Rua Burcardo 7                                                                                                                                                                                                                                                                                                                               ENDEREÇO: <STREET>                                                                                                                                                                                                                                                                                                                      ENDEREÇO: [************]                                                                                                                                                                                                                                                                                                                                  ENDEREÇO: ****                                                                                                                                                                                                                                                                                                             ENDEREÇO: Avenida Dos Aliados, 56\n",
              "3                                                                                                                                                                                                                                                                                           CÓDIGO POSTAL: 80139\\nDATA DE NASCIMENTO: 03/03/1946                                                                                                                                                                                                                                                                                                 CÓDIGO POSTAL: <ZIP>\\nDATA DE NASCIMENTO: <DATE>                                                                                                                                                                                                                                                                                          CÓDIGO POSTAL: [***]\\nDATA DE NASCIMENTO: [********]                                                                                                                                                                                                                                                                                                   CÓDIGO POSTAL: ****\\nDATA DE NASCIMENTO: ****                                                                                                                                                                                                                                                                                          CÓDIGO POSTAL: 67478\\nDATA DE NASCIMENTO: 20/03/1946\n",
              "4                                                                                                                                                                                                                                                                                                                                 IDADE: 70 anos                                                                                                                                                                                                                                                                                                                                IDADE: <AGE> anos                                                                                                                                                                                                                                                                                                                                IDADE: ** anos                                                                                                                                                                                                                                                                                                                                IDADE: **** anos                                                                                                                                                                                                                                                                                                                                IDADE: 36 anos\n",
              "5                                                                                                                                                                                                                                                                                                                                   SEXO: Homens                                                                                                                                                                                                                                                                                                                                      SEXO: <SEX>                                                                                                                                                                                                                                                                                                                                  SEXO: [****]                                                                                                                                                                                                                                                                                                                                      SEXO: ****                                                                                                                                                                                                                                                                                                                                  SEXO: Mulher\n",
              "6                                                                                                                                                                                                                                                                                            E-MAIL: pgon21@tim.pt\\nDATA DE ADMISSÃO: 12/12/2016                                                                                                                                                                                                                                                                                                        E-MAIL: <EMAIL>\\nDATA DE ADMISSÃO: <DATE>                                                                                                                                                                                                                                                                                           E-MAIL: [***********]\\nDATA DE ADMISSÃO: [********]                                                                                                                                                                                                                                                                                                            E-MAIL: ****\\nDATA DE ADMISSÃO: ****                                                                                                                                                                                                                                                                                        E-MAIL: richard@yahoo.pt\\nDATA DE ADMISSÃO: 11/01/2017\n",
              "7                                                                                                                                                                                                                                                                                                                           DOUTORA: Eva Andrade                                                                                                                                                                                                                                                                                                                                DOUTORA: <DOCTOR>                                                                                                                                                                                                                                                                                                                          DOUTORA: [*********]                                                                                                                                                                                                                                                                                                                                   DOUTORA: ****                                                                                                                                                                                                                                                                                                                          DOUTORA: Carlos Melo\n",
              "8   RELATO CLÍNICO: 70 anos, aposentado, sem alergia a medicamentos conhecida, com a seguinte história: ex-acidente de trabalho com fratura de vértebras e costelas; operado de doença de Dupuytren na mão direita e ponte ílio-femoral esquerda; diabetes tipo II, hipercolesterolemia e hiperuricemia; alcoolismo ativo, fuma 20 cigarros/dia.  RELATO CLÍNICO: <AGE> anos, aposentado, sem alergia a medicamentos conhecida, com a seguinte história: ex-acidente de trabalho com fratura de vértebras e costelas; operado de doença de Dupuytren na mão direita e ponte ílio-femoral esquerda; diabetes tipo II, hipercolesterolemia e hiperuricemia; alcoolismo ativo, fuma 20 cigarros/dia.  RELATO CLÍNICO: ** anos, aposentado, sem alergia a medicamentos conhecida, com a seguinte história: ex-acidente de trabalho com fratura de vértebras e costelas; operado de doença de Dupuytren na mão direita e ponte ílio-femoral esquerda; diabetes tipo II, hipercolesterolemia e hiperuricemia; alcoolismo ativo, fuma 20 cigarros/dia.  RELATO CLÍNICO: **** anos, aposentado, sem alergia a medicamentos conhecida, com a seguinte história: ex-acidente de trabalho com fratura de vértebras e costelas; operado de doença de Dupuytren na mão direita e ponte ílio-femoral esquerda; diabetes tipo II, hipercolesterolemia e hiperuricemia; alcoolismo ativo, fuma 20 cigarros/dia.  RELATO CLÍNICO: 36 anos, aposentado, sem alergia a medicamentos conhecida, com a seguinte história: ex-acidente de trabalho com fratura de vértebras e costelas; operado de doença de Dupuytren na mão direita e ponte ílio-femoral esquerda; diabetes tipo II, hipercolesterolemia e hiperuricemia; alcoolismo ativo, fuma 20 cigarros/dia.\n",
              "9                                       Ele foi encaminhado a nós por apresentar hematúria macroscópica pós-evacuação em uma ocasião e microhematúria persistente posteriormente, com evacuação normal.\\nO exame físico mostrou bom estado geral, com abdome e genitais normais; o toque retal foi compatível com adenoma de próstata grau I/IV.                                         Ele foi encaminhado a nós por apresentar hematúria macroscópica pós-evacuação em uma ocasião e microhematúria persistente posteriormente, com evacuação normal.\\nO exame físico mostrou bom estado geral, com abdome e genitais normais; o toque retal foi compatível com adenoma de próstata grau I/IV.                                      Ele foi encaminhado a nós por apresentar hematúria macroscópica pós-evacuação em uma ocasião e microhematúria persistente posteriormente, com evacuação normal.\\nO exame físico mostrou bom estado geral, com abdome e genitais normais; o toque retal foi compatível com adenoma de próstata grau I/IV.                                        Ele foi encaminhado a nós por apresentar hematúria macroscópica pós-evacuação em uma ocasião e microhematúria persistente posteriormente, com evacuação normal.\\nO exame físico mostrou bom estado geral, com abdome e genitais normais; o toque retal foi compatível com adenoma de próstata grau I/IV.                                      Ele foi encaminhado a nós por apresentar hematúria macroscópica pós-evacuação em uma ocasião e microhematúria persistente posteriormente, com evacuação normal.\\nO exame físico mostrou bom estado geral, com abdome e genitais normais; o toque retal foi compatível com adenoma de próstata grau I/IV.\n",
              "10                                                                                                          A urinálise mostrou 4 hemácias/campo e 0-5 leucócitos/campo; o resto do sedimento era normal.\\nO hemograma é normal; a bioquímica mostrou uma glicemia de 169 mg/dl e triglicerídeos 456 mg/dl; função hepática e renal são normais.                                                                                                             A urinálise mostrou 4 hemácias/campo e 0-5 leucócitos/campo; o resto do sedimento era normal.\\nO hemograma é normal; a bioquímica mostrou uma glicemia de 169 mg/dl e triglicerídeos 456 mg/dl; função hepática e renal são normais.                                                                                                          A urinálise mostrou 4 hemácias/campo e 0-5 leucócitos/campo; o resto do sedimento era normal.\\nO hemograma é normal; a bioquímica mostrou uma glicemia de 169 mg/dl e triglicerídeos 456 mg/dl; função hepática e renal são normais.                                                                                                            A urinálise mostrou 4 hemácias/campo e 0-5 leucócitos/campo; o resto do sedimento era normal.\\nO hemograma é normal; a bioquímica mostrou uma glicemia de 169 mg/dl e triglicerídeos 456 mg/dl; função hepática e renal são normais.                                                                                                          A urinálise mostrou 4 hemácias/campo e 0-5 leucócitos/campo; o resto do sedimento era normal.\\nO hemograma é normal; a bioquímica mostrou uma glicemia de 169 mg/dl e triglicerídeos 456 mg/dl; função hepática e renal são normais.\n",
              "11                                                                                                                                                                                                                                                                                                                            PSA de 1,16 ng/ml.                                                                                                                                                                                                                                                                                                                               PSA de 1,16 ng/ml.                                                                                                                                                                                                                                                                                                                            PSA de 1,16 ng/ml.                                                                                                                                                                                                                                                                                                                              PSA de 1,16 ng/ml.                                                                                                                                                                                                                                                                                                                            PSA de 1,16 ng/ml.\n",
              "12                                                                                                                                                                                                                                                        DIRIGIDA A: Dr. Eva Andrade - Centro Hospitalar do Medio Ave - Avenida Dos Aliados, 56                                                                                                                                                                                                                                                                                    DIRIGIDA A: Dr. <DOCTOR> - Centro <I-HOSPITAL> - <STREET>, 56                                                                                                                                                                                                                                                        DIRIGIDA A: Dr. [*********] - Centro [*********************] - [*****************], 56                                                                                                                                                                                                                                                                                                   DIRIGIDA A: Dr. **** - Centro **** - ****, 56                                                                                                                                                                                                                                                               DIRIGIDA A: Dr. Carlos Melo - Centro <I-HOSPITAL> - Avenida Dos Aliados, 56, 56\n",
              "13                                                                                                                                                                                                                                                                                                                  E-MAIL: evandrade@poste.pt\\n                                                                                                                                                                                                                                                                                                                                E-MAIL: <EMAIL>\\n                                                                                                                                                                                                                                                                                                                  E-MAIL: [****************]\\n                                                                                                                                                                                                                                                                                                                                  E-MAIL: ****\\n                                                                                                                                                                                                                                                                                                               E-MAIL: maria.prado@jacob.com\\n"
            ],
            "text/html": [
              "\n",
              "  <div id=\"df-f132a0fd-0870-406a-909f-462c63229add\">\n",
              "    <div class=\"colab-df-container\">\n",
              "      <div>\n",
              "<style scoped>\n",
              "    .dataframe tbody tr th:only-of-type {\n",
              "        vertical-align: middle;\n",
              "    }\n",
              "\n",
              "    .dataframe tbody tr th {\n",
              "        vertical-align: top;\n",
              "    }\n",
              "\n",
              "    .dataframe thead th {\n",
              "        text-align: right;\n",
              "    }\n",
              "</style>\n",
              "<table border=\"1\" class=\"dataframe\">\n",
              "  <thead>\n",
              "    <tr style=\"text-align: right;\">\n",
              "      <th></th>\n",
              "      <th>Sentence</th>\n",
              "      <th>Masked</th>\n",
              "      <th>Masked with Chars</th>\n",
              "      <th>Masked with Fixed Chars</th>\n",
              "      <th>Obfuscated</th>\n",
              "    </tr>\n",
              "  </thead>\n",
              "  <tbody>\n",
              "    <tr>\n",
              "      <th>0</th>\n",
              "      <td>RELAÇÃO HOSPITALAR\\nNOME: Pedro Gonçalves</td>\n",
              "      <td>RELAÇÃO HOSPITALAR\\nNOME: &lt;DOCTOR&gt;</td>\n",
              "      <td>RELAÇÃO HOSPITALAR\\nNOME: [*************]</td>\n",
              "      <td>RELAÇÃO HOSPITALAR\\nNOME: ****</td>\n",
              "      <td>RELAÇÃO HOSPITALAR\\nNOME: Eva Coutinho</td>\n",
              "    </tr>\n",
              "    <tr>\n",
              "      <th>1</th>\n",
              "      <td>NHC: MVANSK92F09W408A</td>\n",
              "      <td>NHC: &lt;ID&gt;</td>\n",
              "      <td>NHC: [**************]</td>\n",
              "      <td>NHC: ****</td>\n",
              "      <td>NHC: 124 445 311</td>\n",
              "    </tr>\n",
              "    <tr>\n",
              "      <th>2</th>\n",
              "      <td>ENDEREÇO: Rua Burcardo 7</td>\n",
              "      <td>ENDEREÇO: &lt;STREET&gt;</td>\n",
              "      <td>ENDEREÇO: [************]</td>\n",
              "      <td>ENDEREÇO: ****</td>\n",
              "      <td>ENDEREÇO: Avenida Dos Aliados, 56</td>\n",
              "    </tr>\n",
              "    <tr>\n",
              "      <th>3</th>\n",
              "      <td>CÓDIGO POSTAL: 80139\\nDATA DE NASCIMENTO: 03/03/1946</td>\n",
              "      <td>CÓDIGO POSTAL: &lt;ZIP&gt;\\nDATA DE NASCIMENTO: &lt;DATE&gt;</td>\n",
              "      <td>CÓDIGO POSTAL: [***]\\nDATA DE NASCIMENTO: [********]</td>\n",
              "      <td>CÓDIGO POSTAL: ****\\nDATA DE NASCIMENTO: ****</td>\n",
              "      <td>CÓDIGO POSTAL: 67478\\nDATA DE NASCIMENTO: 20/03/1946</td>\n",
              "    </tr>\n",
              "    <tr>\n",
              "      <th>4</th>\n",
              "      <td>IDADE: 70 anos</td>\n",
              "      <td>IDADE: &lt;AGE&gt; anos</td>\n",
              "      <td>IDADE: ** anos</td>\n",
              "      <td>IDADE: **** anos</td>\n",
              "      <td>IDADE: 36 anos</td>\n",
              "    </tr>\n",
              "    <tr>\n",
              "      <th>5</th>\n",
              "      <td>SEXO: Homens</td>\n",
              "      <td>SEXO: &lt;SEX&gt;</td>\n",
              "      <td>SEXO: [****]</td>\n",
              "      <td>SEXO: ****</td>\n",
              "      <td>SEXO: Mulher</td>\n",
              "    </tr>\n",
              "    <tr>\n",
              "      <th>6</th>\n",
              "      <td>E-MAIL: pgon21@tim.pt\\nDATA DE ADMISSÃO: 12/12/2016</td>\n",
              "      <td>E-MAIL: &lt;EMAIL&gt;\\nDATA DE ADMISSÃO: &lt;DATE&gt;</td>\n",
              "      <td>E-MAIL: [***********]\\nDATA DE ADMISSÃO: [********]</td>\n",
              "      <td>E-MAIL: ****\\nDATA DE ADMISSÃO: ****</td>\n",
              "      <td>E-MAIL: richard@yahoo.pt\\nDATA DE ADMISSÃO: 11/01/2017</td>\n",
              "    </tr>\n",
              "    <tr>\n",
              "      <th>7</th>\n",
              "      <td>DOUTORA: Eva Andrade</td>\n",
              "      <td>DOUTORA: &lt;DOCTOR&gt;</td>\n",
              "      <td>DOUTORA: [*********]</td>\n",
              "      <td>DOUTORA: ****</td>\n",
              "      <td>DOUTORA: Carlos Melo</td>\n",
              "    </tr>\n",
              "    <tr>\n",
              "      <th>8</th>\n",
              "      <td>RELATO CLÍNICO: 70 anos, aposentado, sem alergia a medicamentos conhecida, com a seguinte história: ex-acidente de trabalho com fratura de vértebras e costelas; operado de doença de Dupuytren na mão direita e ponte ílio-femoral esquerda; diabetes tipo II, hipercolesterolemia e hiperuricemia; alcoolismo ativo, fuma 20 cigarros/dia.</td>\n",
              "      <td>RELATO CLÍNICO: &lt;AGE&gt; anos, aposentado, sem alergia a medicamentos conhecida, com a seguinte história: ex-acidente de trabalho com fratura de vértebras e costelas; operado de doença de Dupuytren na mão direita e ponte ílio-femoral esquerda; diabetes tipo II, hipercolesterolemia e hiperuricemia; alcoolismo ativo, fuma 20 cigarros/dia.</td>\n",
              "      <td>RELATO CLÍNICO: ** anos, aposentado, sem alergia a medicamentos conhecida, com a seguinte história: ex-acidente de trabalho com fratura de vértebras e costelas; operado de doença de Dupuytren na mão direita e ponte ílio-femoral esquerda; diabetes tipo II, hipercolesterolemia e hiperuricemia; alcoolismo ativo, fuma 20 cigarros/dia.</td>\n",
              "      <td>RELATO CLÍNICO: **** anos, aposentado, sem alergia a medicamentos conhecida, com a seguinte história: ex-acidente de trabalho com fratura de vértebras e costelas; operado de doença de Dupuytren na mão direita e ponte ílio-femoral esquerda; diabetes tipo II, hipercolesterolemia e hiperuricemia; alcoolismo ativo, fuma 20 cigarros/dia.</td>\n",
              "      <td>RELATO CLÍNICO: 36 anos, aposentado, sem alergia a medicamentos conhecida, com a seguinte história: ex-acidente de trabalho com fratura de vértebras e costelas; operado de doença de Dupuytren na mão direita e ponte ílio-femoral esquerda; diabetes tipo II, hipercolesterolemia e hiperuricemia; alcoolismo ativo, fuma 20 cigarros/dia.</td>\n",
              "    </tr>\n",
              "    <tr>\n",
              "      <th>9</th>\n",
              "      <td>Ele foi encaminhado a nós por apresentar hematúria macroscópica pós-evacuação em uma ocasião e microhematúria persistente posteriormente, com evacuação normal.\\nO exame físico mostrou bom estado geral, com abdome e genitais normais; o toque retal foi compatível com adenoma de próstata grau I/IV.</td>\n",
              "      <td>Ele foi encaminhado a nós por apresentar hematúria macroscópica pós-evacuação em uma ocasião e microhematúria persistente posteriormente, com evacuação normal.\\nO exame físico mostrou bom estado geral, com abdome e genitais normais; o toque retal foi compatível com adenoma de próstata grau I/IV.</td>\n",
              "      <td>Ele foi encaminhado a nós por apresentar hematúria macroscópica pós-evacuação em uma ocasião e microhematúria persistente posteriormente, com evacuação normal.\\nO exame físico mostrou bom estado geral, com abdome e genitais normais; o toque retal foi compatível com adenoma de próstata grau I/IV.</td>\n",
              "      <td>Ele foi encaminhado a nós por apresentar hematúria macroscópica pós-evacuação em uma ocasião e microhematúria persistente posteriormente, com evacuação normal.\\nO exame físico mostrou bom estado geral, com abdome e genitais normais; o toque retal foi compatível com adenoma de próstata grau I/IV.</td>\n",
              "      <td>Ele foi encaminhado a nós por apresentar hematúria macroscópica pós-evacuação em uma ocasião e microhematúria persistente posteriormente, com evacuação normal.\\nO exame físico mostrou bom estado geral, com abdome e genitais normais; o toque retal foi compatível com adenoma de próstata grau I/IV.</td>\n",
              "    </tr>\n",
              "    <tr>\n",
              "      <th>10</th>\n",
              "      <td>A urinálise mostrou 4 hemácias/campo e 0-5 leucócitos/campo; o resto do sedimento era normal.\\nO hemograma é normal; a bioquímica mostrou uma glicemia de 169 mg/dl e triglicerídeos 456 mg/dl; função hepática e renal são normais.</td>\n",
              "      <td>A urinálise mostrou 4 hemácias/campo e 0-5 leucócitos/campo; o resto do sedimento era normal.\\nO hemograma é normal; a bioquímica mostrou uma glicemia de 169 mg/dl e triglicerídeos 456 mg/dl; função hepática e renal são normais.</td>\n",
              "      <td>A urinálise mostrou 4 hemácias/campo e 0-5 leucócitos/campo; o resto do sedimento era normal.\\nO hemograma é normal; a bioquímica mostrou uma glicemia de 169 mg/dl e triglicerídeos 456 mg/dl; função hepática e renal são normais.</td>\n",
              "      <td>A urinálise mostrou 4 hemácias/campo e 0-5 leucócitos/campo; o resto do sedimento era normal.\\nO hemograma é normal; a bioquímica mostrou uma glicemia de 169 mg/dl e triglicerídeos 456 mg/dl; função hepática e renal são normais.</td>\n",
              "      <td>A urinálise mostrou 4 hemácias/campo e 0-5 leucócitos/campo; o resto do sedimento era normal.\\nO hemograma é normal; a bioquímica mostrou uma glicemia de 169 mg/dl e triglicerídeos 456 mg/dl; função hepática e renal são normais.</td>\n",
              "    </tr>\n",
              "    <tr>\n",
              "      <th>11</th>\n",
              "      <td>PSA de 1,16 ng/ml.</td>\n",
              "      <td>PSA de 1,16 ng/ml.</td>\n",
              "      <td>PSA de 1,16 ng/ml.</td>\n",
              "      <td>PSA de 1,16 ng/ml.</td>\n",
              "      <td>PSA de 1,16 ng/ml.</td>\n",
              "    </tr>\n",
              "    <tr>\n",
              "      <th>12</th>\n",
              "      <td>DIRIGIDA A: Dr. Eva Andrade - Centro Hospitalar do Medio Ave - Avenida Dos Aliados, 56</td>\n",
              "      <td>DIRIGIDA A: Dr. &lt;DOCTOR&gt; - Centro &lt;I-HOSPITAL&gt; - &lt;STREET&gt;, 56</td>\n",
              "      <td>DIRIGIDA A: Dr. [*********] - Centro [*********************] - [*****************], 56</td>\n",
              "      <td>DIRIGIDA A: Dr. **** - Centro **** - ****, 56</td>\n",
              "      <td>DIRIGIDA A: Dr. Carlos Melo - Centro &lt;I-HOSPITAL&gt; - Avenida Dos Aliados, 56, 56</td>\n",
              "    </tr>\n",
              "    <tr>\n",
              "      <th>13</th>\n",
              "      <td>E-MAIL: evandrade@poste.pt\\n</td>\n",
              "      <td>E-MAIL: &lt;EMAIL&gt;\\n</td>\n",
              "      <td>E-MAIL: [****************]\\n</td>\n",
              "      <td>E-MAIL: ****\\n</td>\n",
              "      <td>E-MAIL: maria.prado@jacob.com\\n</td>\n",
              "    </tr>\n",
              "  </tbody>\n",
              "</table>\n",
              "</div>\n",
              "      <button class=\"colab-df-convert\" onclick=\"convertToInteractive('df-f132a0fd-0870-406a-909f-462c63229add')\"\n",
              "              title=\"Convert this dataframe to an interactive table.\"\n",
              "              style=\"display:none;\">\n",
              "        \n",
              "  <svg xmlns=\"http://www.w3.org/2000/svg\" height=\"24px\"viewBox=\"0 0 24 24\"\n",
              "       width=\"24px\">\n",
              "    <path d=\"M0 0h24v24H0V0z\" fill=\"none\"/>\n",
              "    <path d=\"M18.56 5.44l.94 2.06.94-2.06 2.06-.94-2.06-.94-.94-2.06-.94 2.06-2.06.94zm-11 1L8.5 8.5l.94-2.06 2.06-.94-2.06-.94L8.5 2.5l-.94 2.06-2.06.94zm10 10l.94 2.06.94-2.06 2.06-.94-2.06-.94-.94-2.06-.94 2.06-2.06.94z\"/><path d=\"M17.41 7.96l-1.37-1.37c-.4-.4-.92-.59-1.43-.59-.52 0-1.04.2-1.43.59L10.3 9.45l-7.72 7.72c-.78.78-.78 2.05 0 2.83L4 21.41c.39.39.9.59 1.41.59.51 0 1.02-.2 1.41-.59l7.78-7.78 2.81-2.81c.8-.78.8-2.07 0-2.86zM5.41 20L4 18.59l7.72-7.72 1.47 1.35L5.41 20z\"/>\n",
              "  </svg>\n",
              "      </button>\n",
              "      \n",
              "  <style>\n",
              "    .colab-df-container {\n",
              "      display:flex;\n",
              "      flex-wrap:wrap;\n",
              "      gap: 12px;\n",
              "    }\n",
              "\n",
              "    .colab-df-convert {\n",
              "      background-color: #E8F0FE;\n",
              "      border: none;\n",
              "      border-radius: 50%;\n",
              "      cursor: pointer;\n",
              "      display: none;\n",
              "      fill: #1967D2;\n",
              "      height: 32px;\n",
              "      padding: 0 0 0 0;\n",
              "      width: 32px;\n",
              "    }\n",
              "\n",
              "    .colab-df-convert:hover {\n",
              "      background-color: #E2EBFA;\n",
              "      box-shadow: 0px 1px 2px rgba(60, 64, 67, 0.3), 0px 1px 3px 1px rgba(60, 64, 67, 0.15);\n",
              "      fill: #174EA6;\n",
              "    }\n",
              "\n",
              "    [theme=dark] .colab-df-convert {\n",
              "      background-color: #3B4455;\n",
              "      fill: #D2E3FC;\n",
              "    }\n",
              "\n",
              "    [theme=dark] .colab-df-convert:hover {\n",
              "      background-color: #434B5C;\n",
              "      box-shadow: 0px 1px 3px 1px rgba(0, 0, 0, 0.15);\n",
              "      filter: drop-shadow(0px 1px 2px rgba(0, 0, 0, 0.3));\n",
              "      fill: #FFFFFF;\n",
              "    }\n",
              "  </style>\n",
              "\n",
              "      <script>\n",
              "        const buttonEl =\n",
              "          document.querySelector('#df-f132a0fd-0870-406a-909f-462c63229add button.colab-df-convert');\n",
              "        buttonEl.style.display =\n",
              "          google.colab.kernel.accessAllowed ? 'block' : 'none';\n",
              "\n",
              "        async function convertToInteractive(key) {\n",
              "          const element = document.querySelector('#df-f132a0fd-0870-406a-909f-462c63229add');\n",
              "          const dataTable =\n",
              "            await google.colab.kernel.invokeFunction('convertToInteractive',\n",
              "                                                     [key], {});\n",
              "          if (!dataTable) return;\n",
              "\n",
              "          const docLinkHtml = 'Like what you see? Visit the ' +\n",
              "            '<a target=\"_blank\" href=https://colab.research.google.com/notebooks/data_table.ipynb>data table notebook</a>'\n",
              "            + ' to learn more about interactive tables.';\n",
              "          element.innerHTML = '';\n",
              "          dataTable['output_type'] = 'display_data';\n",
              "          await google.colab.output.renderOutput(dataTable, element);\n",
              "          const docLink = document.createElement('div');\n",
              "          docLink.innerHTML = docLinkHtml;\n",
              "          element.appendChild(docLink);\n",
              "        }\n",
              "      </script>\n",
              "    </div>\n",
              "  </div>\n",
              "  "
            ]
          },
          "metadata": {},
          "execution_count": 115
        }
      ],
      "source": [
        "pd.set_option(\"display.max_colwidth\", None)\n",
        "\n",
        "result_pt = deid_pipeline_pt.annotate(text)\n",
        "\n",
        "df_pt = pd.DataFrame(list(zip(result_pt[\"sentence\"], \n",
        "                           result_pt[\"masked\"],\n",
        "                           result_pt[\"masked_with_chars\"], \n",
        "                           result_pt[\"masked_fixed_length_chars\"], \n",
        "                           result_pt[\"obfuscated\"])),\n",
        "                 columns= [\"Sentence\", \"Masked\", \"Masked with Chars\", \"Masked with Fixed Chars\", \"Obfuscated\"])\n",
        "\n",
        "df_pt"
      ]
    },
    {
      "cell_type": "markdown",
      "metadata": {
        "id": "o1tmwlTLX-TO"
      },
      "source": [
        "# DE-IDENTIFICATION FOR ROMANIAN\n"
      ]
    },
    {
      "cell_type": "markdown",
      "metadata": {
        "id": "yXbkeiXMoNbX"
      },
      "source": [
        "## Romanian NER Deidentification Models\n",
        "We have two different models you can use:\n",
        "* `ner_deid_subentity`, detects 17 entities\n",
        "* `ner_deid_subentity_bert`, detects 17 entities"
      ]
    },
    {
      "cell_type": "markdown",
      "metadata": {
        "id": "Zgqt2dfF6LcX"
      },
      "source": [
        "|index|model|lang|index|model|lang|\n",
        "|-----:|:-----|----|-----:|:-----|----|\n",
        "| 1| [ner_deid_subentity](https://nlp.johnsnowlabs.com/2022/06/27/ner_deid_subentity_ro_3_0.html)  |ro| 3| [ner_deid_generic](https://nlp.johnsnowlabs.com/models)  |ro|\n",
        "| 2| [ner_deid_subentity_bert](https://nlp.johnsnowlabs.com/2022/06/27/ner_deid_subentity_bert_ro_3_0.html)  |ro| 4| [ner_deid_generic_bert](https://nlp.johnsnowlabs.com/models)  |ro|\n"
      ]
    },
    {
      "cell_type": "markdown",
      "metadata": {
        "id": "KfM6TowloNbY"
      },
      "source": [
        "Creating pipeline"
      ]
    },
    {
      "cell_type": "code",
      "execution_count": null,
      "metadata": {
        "id": "l0Nvu_xvoNbY",
        "colab": {
          "base_uri": "https://localhost:8080/"
        },
        "outputId": "4291c210-24ac-4aa3-bf31-48b0245a436a"
      },
      "outputs": [
        {
          "output_type": "stream",
          "name": "stdout",
          "text": [
            "sentence_detector_dl download started this may take some time.\n",
            "Approximate size to download 514.9 KB\n",
            "[OK!]\n",
            "w2v_cc_300d download started this may take some time.\n",
            "Approximate size to download 1.1 GB\n",
            "[OK!]\n"
          ]
        }
      ],
      "source": [
        "documentAssembler = DocumentAssembler()\\\n",
        "    .setInputCol(\"text\")\\\n",
        "    .setOutputCol(\"document\")\n",
        "\n",
        "sentencerDL = SentenceDetectorDLModel.pretrained(\"sentence_detector_dl\", \"xx\") \\\n",
        "    .setInputCols([\"document\"])\\\n",
        "    .setOutputCol(\"sentence\")\n",
        "\n",
        "tokenizer = Tokenizer()\\\n",
        "    .setInputCols([\"sentence\"])\\\n",
        "    .setOutputCol(\"token\")\n",
        "\n",
        "word_embeddings_ro = WordEmbeddingsModel.pretrained(\"w2v_cc_300d\", \"ro\")\\\n",
        "    .setInputCols([\"sentence\",\"token\"])\\\n",
        "\t  .setOutputCol(\"word_embeddings\")"
      ]
    },
    {
      "cell_type": "markdown",
      "metadata": {
        "id": "YzHyyIsx01kO"
      },
      "source": [
        "### NER Deid Generic\n",
        "\n",
        "**`ner_deid_generic`** extracts:\n",
        "- Name\n",
        "- Profession\n",
        "- Age\n",
        "- Date\n",
        "- Contact (Telephone numbers, Email addresses)\n",
        "- Location (Address, City, Postal code, Hospital Name, Organization)\n",
        "- ID (Social Security numbers, Medical record numbers)"
      ]
    },
    {
      "cell_type": "code",
      "execution_count": null,
      "metadata": {
        "id": "UmNrFbEN01kP",
        "colab": {
          "base_uri": "https://localhost:8080/"
        },
        "outputId": "f6306f9b-fe5d-4e55-b8f8-a770fad624ca"
      },
      "outputs": [
        {
          "output_type": "stream",
          "name": "stdout",
          "text": [
            "ner_deid_generic download started this may take some time.\n",
            "[OK!]\n"
          ]
        }
      ],
      "source": [
        "ner_generic_ro = MedicalNerModel.pretrained(\"ner_deid_generic\", \"ro\", \"clinical/models\")\\\n",
        "    .setInputCols([\"sentence\",\"token\",\"word_embeddings\"])\\\n",
        "    .setOutputCol(\"ner_deid_generic\")\n",
        "\n",
        "ner_converter_generic = NerConverterInternal()\\\n",
        "    .setInputCols([\"sentence\",\"token\",\"ner_deid_generic\"])\\\n",
        "    .setOutputCol(\"ner_chunk_generic\")"
      ]
    },
    {
      "cell_type": "code",
      "execution_count": null,
      "metadata": {
        "id": "5Q-cXVAd01kQ",
        "colab": {
          "base_uri": "https://localhost:8080/"
        },
        "outputId": "62f86b77-ef77-4ddf-ce37-ca9aeb355dd7"
      },
      "outputs": [
        {
          "output_type": "execute_result",
          "data": {
            "text/plain": [
              "['O',\n",
              " 'I-LOCATION',\n",
              " 'I-CONTACT',\n",
              " 'I-PROFESSION',\n",
              " 'I-NAME',\n",
              " 'I-DATE',\n",
              " 'B-ID',\n",
              " 'B-CONTACT',\n",
              " 'B-PROFESSION',\n",
              " 'B-NAME',\n",
              " 'B-DATE',\n",
              " 'B-LOCATION',\n",
              " 'B-AGE',\n",
              " 'I-AGE']"
            ]
          },
          "metadata": {},
          "execution_count": 118
        }
      ],
      "source": [
        "ner_generic_ro.getClasses()"
      ]
    },
    {
      "cell_type": "markdown",
      "metadata": {
        "id": "Mp2D8ahLoNbZ"
      },
      "source": [
        "### NER Deid Subentity\n",
        "\n",
        "**`ner_deid_subentity`** extracts:\n",
        "\n",
        "`PATIENT`, `HOSPITAL`, `DATE`, `ORGANIZATION`, `CITY`, `STREET`, `EMAIL`, `ZIP`, `PROFESSION`, `PHONE`, `COUNTRY`, `DOCTOR`, `AGE`, `FAX`, `IDNUM`, `LOCATION-OTHER`, `MEDICALRECORD`, \n"
      ]
    },
    {
      "cell_type": "code",
      "execution_count": null,
      "metadata": {
        "id": "KgokUsT2oNbZ",
        "colab": {
          "base_uri": "https://localhost:8080/"
        },
        "outputId": "45e9c5ce-a95e-4a0f-d723-60ef913e3057"
      },
      "outputs": [
        {
          "output_type": "stream",
          "name": "stdout",
          "text": [
            "ner_deid_subentity download started this may take some time.\n",
            "[OK!]\n"
          ]
        }
      ],
      "source": [
        "ner_subentity_ro = MedicalNerModel.pretrained(\"ner_deid_subentity\", \"ro\", \"clinical/models\")\\\n",
        "    .setInputCols([\"sentence\",\"token\",\"word_embeddings\"])\\\n",
        "    .setOutputCol(\"ner_deid_subentity\")\n",
        "\n",
        "ner_converter_subentity = NerConverterInternal()\\\n",
        "    .setInputCols([\"sentence\",\"token\",\"ner_deid_subentity\"])\\\n",
        "    .setOutputCol(\"ner_chunk_subentity\")"
      ]
    },
    {
      "cell_type": "code",
      "execution_count": null,
      "metadata": {
        "id": "vKPbDvpCoNbZ",
        "colab": {
          "base_uri": "https://localhost:8080/"
        },
        "outputId": "c46f2a36-a7a1-4e0b-fc0d-f3387fa6e587"
      },
      "outputs": [
        {
          "output_type": "execute_result",
          "data": {
            "text/plain": [
              "['O',\n",
              " 'B-MEDICALRECORD',\n",
              " 'B-ORGANIZATION',\n",
              " 'I-PROFESSION',\n",
              " 'B-DOCTOR',\n",
              " 'B-PROFESSION',\n",
              " 'I-LOCATION-OTHER',\n",
              " 'B-CITY',\n",
              " 'B-DATE',\n",
              " 'B-LOCATION-OTHER',\n",
              " 'B-PATIENT',\n",
              " 'I-DOCTOR',\n",
              " 'I-CITY',\n",
              " 'I-DATE',\n",
              " 'B-COUNTRY',\n",
              " 'B-ZIP',\n",
              " 'I-STREET',\n",
              " 'I-PATIENT',\n",
              " 'B-PHONE',\n",
              " 'I-PHONE',\n",
              " 'B-HOSPITAL',\n",
              " 'B-EMAIL',\n",
              " 'B-IDNUM',\n",
              " 'B-STREET',\n",
              " 'B-FAX',\n",
              " 'I-ORGANIZATION',\n",
              " 'I-HOSPITAL',\n",
              " 'B-AGE',\n",
              " 'I-FAX',\n",
              " 'I-AGE',\n",
              " 'I-COUNTRY']"
            ]
          },
          "metadata": {},
          "execution_count": 120
        }
      ],
      "source": [
        "ner_subentity_ro.getClasses()"
      ]
    },
    {
      "cell_type": "markdown",
      "metadata": {
        "id": "fF9ckBxX01kS"
      },
      "source": [
        "### Pipeline"
      ]
    },
    {
      "cell_type": "code",
      "execution_count": null,
      "metadata": {
        "id": "_VWGIBm701kS"
      },
      "outputs": [],
      "source": [
        "nlpPipeline_ro = Pipeline(stages=[\n",
        "      documentAssembler, \n",
        "      sentencerDL,\n",
        "      tokenizer,\n",
        "      word_embeddings_ro,\n",
        "      ner_generic_ro,\n",
        "      ner_converter_generic,\n",
        "      ner_subentity_ro,\n",
        "      ner_converter_subentity,\n",
        "      ])\n",
        "\n",
        "empty_data = spark.createDataFrame([[\"\"]]).toDF(\"text\")\n",
        "model_ro = nlpPipeline_ro.fit(empty_data)"
      ]
    },
    {
      "cell_type": "code",
      "execution_count": null,
      "metadata": {
        "id": "MjoaHcdM01kS"
      },
      "outputs": [],
      "source": [
        "text = \"\"\"\n",
        "Spitalul Pentru Ochi de Deal, Drumul Oprea Nr. 972 Vaslui, 737405 România \n",
        "Tel: +40(235)413773\n",
        "Data setului de analize: 25 May 2022\n",
        "Nume si Prenume : BUREAN MARIA, Varsta: 77\n",
        "Medic : Agota Evelyn Timar\n",
        "C.N.P : 2450502264401\"\"\"\n",
        "\n",
        "text_df = spark.createDataFrame([[text]]).toDF(\"text\")\n",
        "result_ro = model_ro.transform(text_df)"
      ]
    },
    {
      "cell_type": "markdown",
      "metadata": {
        "id": "f4Xb8DAi01kT"
      },
      "source": [
        "Results for `ner_deid_generic`"
      ]
    },
    {
      "cell_type": "code",
      "execution_count": null,
      "metadata": {
        "id": "_E_g9tsC01kT",
        "colab": {
          "base_uri": "https://localhost:8080/"
        },
        "outputId": "5119c1d6-6665-4046-f553-986e0a0dd7fd"
      },
      "outputs": [
        {
          "output_type": "stream",
          "name": "stdout",
          "text": [
            "+----------------------------+---------+\n",
            "|chunk                       |ner_label|\n",
            "+----------------------------+---------+\n",
            "|Spitalul Pentru Ochi de Deal|LOCATION |\n",
            "|Drumul Oprea Nr. 972        |LOCATION |\n",
            "|Vaslui                      |LOCATION |\n",
            "|737405 România              |LOCATION |\n",
            "|+40(235)413773              |CONTACT  |\n",
            "|25 May 2022                 |DATE     |\n",
            "|BUREAN MARIA                |NAME     |\n",
            "|77                          |AGE      |\n",
            "|Agota Evelyn Timar          |NAME     |\n",
            "|2450502264401               |ID       |\n",
            "+----------------------------+---------+\n",
            "\n"
          ]
        }
      ],
      "source": [
        "result_ro.select(F.explode(F.arrays_zip(result_ro.ner_chunk_generic.result, result_ro.ner_chunk_generic.metadata)).alias(\"cols\")) \\\n",
        "         .select(F.expr(\"cols['0']\").alias(\"chunk\"),\n",
        "                 F.expr(\"cols['1']['entity']\").alias(\"ner_label\")).show(truncate=False)"
      ]
    },
    {
      "cell_type": "markdown",
      "metadata": {
        "id": "iX4RyqLA01kT"
      },
      "source": [
        "Results for `ner_deid_subentity`"
      ]
    },
    {
      "cell_type": "code",
      "execution_count": null,
      "metadata": {
        "id": "X_DfI4FX01kU",
        "colab": {
          "base_uri": "https://localhost:8080/"
        },
        "outputId": "64862840-caad-411f-8f36-187c707121e6"
      },
      "outputs": [
        {
          "output_type": "stream",
          "name": "stdout",
          "text": [
            "+----------------------------+---------+\n",
            "|chunk                       |ner_label|\n",
            "+----------------------------+---------+\n",
            "|Spitalul Pentru Ochi de Deal|HOSPITAL |\n",
            "|Drumul Oprea Nr. 972        |STREET   |\n",
            "|Vaslui                      |CITY     |\n",
            "|737405                      |ZIP      |\n",
            "|+40(235)413773              |PHONE    |\n",
            "|25 May 2022                 |DATE     |\n",
            "|BUREAN MARIA                |PATIENT  |\n",
            "|77                          |AGE      |\n",
            "|Agota Evelyn Timar          |DOCTOR   |\n",
            "|2450502264401               |IDNUM    |\n",
            "+----------------------------+---------+\n",
            "\n"
          ]
        }
      ],
      "source": [
        "result_ro.select(F.explode(F.arrays_zip(result_ro.ner_chunk_subentity.result, result_ro.ner_chunk_subentity.metadata)).alias(\"cols\")) \\\n",
        "         .select(F.expr(\"cols['0']\").alias(\"chunk\"),\n",
        "                 F.expr(\"cols['1']['entity']\").alias(\"ner_label\")).show(truncate=False)"
      ]
    },
    {
      "cell_type": "markdown",
      "metadata": {
        "id": "82xx95AYvcx4"
      },
      "source": [
        "## DeIdentification"
      ]
    },
    {
      "cell_type": "markdown",
      "metadata": {
        "id": "UDEelk6avcx4"
      },
      "source": [
        "### Obfuscation mode"
      ]
    },
    {
      "cell_type": "code",
      "execution_count": null,
      "metadata": {
        "id": "kNdLhzUhvcx4"
      },
      "outputs": [],
      "source": [
        "# Downloading faker entity list.\n",
        "! wget -q https://raw.githubusercontent.com/JohnSnowLabs/spark-nlp-workshop/master/tutorials/Certification_Trainings/Healthcare/data/obfuscate_ro.txt"
      ]
    },
    {
      "cell_type": "code",
      "execution_count": null,
      "metadata": {
        "id": "MY_bJbpevcx4"
      },
      "outputs": [],
      "source": [
        "deid_masked_entity = DeIdentification()\\\n",
        "    .setInputCols([\"sentence\", \"token\", \"ner_chunk_subentity\"])\\\n",
        "    .setOutputCol(\"masked_with_entity\")\\\n",
        "    .setMode(\"mask\")\\\n",
        "    .setMaskingPolicy(\"entity_labels\")\n",
        "\n",
        "deid_masked_char = DeIdentification()\\\n",
        "    .setInputCols([\"sentence\", \"token\", \"ner_chunk_subentity\"])\\\n",
        "    .setOutputCol(\"masked_with_chars\")\\\n",
        "    .setMode(\"mask\")\\\n",
        "    .setMaskingPolicy(\"same_length_chars\")\n",
        "\n",
        "deid_masked_fixed_char = DeIdentification()\\\n",
        "    .setInputCols([\"sentence\", \"token\", \"ner_chunk_subentity\"])\\\n",
        "    .setOutputCol(\"masked_fixed_length_chars\")\\\n",
        "    .setMode(\"mask\")\\\n",
        "    .setMaskingPolicy(\"fixed_length_chars\")\\\n",
        "    .setFixedMaskLength(4)\n",
        "\n",
        "deid_obfuscated = DeIdentification()\\\n",
        "    .setInputCols([\"sentence\", \"token\", \"ner_chunk_subentity\"]) \\\n",
        "    .setOutputCol(\"obfuscated\") \\\n",
        "    .setMode(\"obfuscate\")\\\n",
        "    .setObfuscateDate(True)\\\n",
        "    .setObfuscateRefFile('obfuscate_ro.txt')\\\n",
        "    .setObfuscateRefSource(\"file\")"
      ]
    },
    {
      "cell_type": "code",
      "execution_count": null,
      "metadata": {
        "id": "WFP38x-Svcx4"
      },
      "outputs": [],
      "source": [
        "nlpPipeline_ro = Pipeline(stages=[\n",
        "      documentAssembler, \n",
        "      sentencerDL,\n",
        "      tokenizer,\n",
        "      word_embeddings_ro,\n",
        "      ner_subentity_ro,\n",
        "      ner_converter_subentity,\n",
        "      deid_masked_entity,\n",
        "      deid_masked_char,\n",
        "      deid_masked_fixed_char,\n",
        "      deid_obfuscated\n",
        "      ])\n",
        "\n",
        "empty_data = spark.createDataFrame([[\"\"]]).toDF(\"text\")\n",
        "model_ro = nlpPipeline_ro.fit(empty_data)"
      ]
    },
    {
      "cell_type": "code",
      "execution_count": null,
      "metadata": {
        "id": "0EdMmx9Pvcx5"
      },
      "outputs": [],
      "source": [
        "deid_lp_ro = LightPipeline(model_ro)"
      ]
    },
    {
      "cell_type": "code",
      "execution_count": null,
      "metadata": {
        "id": "5996hy7Pvcx5"
      },
      "outputs": [],
      "source": [
        "text = \"\"\"\n",
        "Spitalul Pentru Ochi de Deal, Drumul Oprea Nr. 972 Vaslui, 737405 România \n",
        "Tel: +40(235)413773 \n",
        "Data setului de analize: 25 May 2022 \n",
        "Nume si Prenume : BUREAN MARIA, Varsta: 77 \n",
        "Medic : Agota Evelyn Timar \n",
        "C.N.P : 2450502264401\"\"\""
      ]
    },
    {
      "cell_type": "code",
      "execution_count": null,
      "metadata": {
        "id": "C9-53UAcvcx5",
        "colab": {
          "base_uri": "https://localhost:8080/",
          "height": 350
        },
        "outputId": "c505c8ef-5965-4fde-8585-b00365c69b90"
      },
      "outputs": [
        {
          "output_type": "execute_result",
          "data": {
            "text/plain": [
              "                                                                    Sentence                                             Masked_with_entity                                                          Masked with Chars                              Masked with Fixed Chars                                                                                         Obfuscated\n",
              "0  Spitalul Pentru Ochi de Deal, Drumul Oprea Nr. 972 Vaslui, 737405 România                     <HOSPITAL>, <STREET> <CITY>, <ZIP> România  [**************************], [******************] [****], [****] România                        ****, **** ****, **** România  Institutul Clinic de Urologie si Transplant Renal, Bulevardul Amanda Barbu Medias, 412738 România\n",
              "1                                                        Tel: +40(235)413773                                                   Tel: <PHONE>                                                        Tel: [************]                                            Tel: ****                                                                                  Tel: 0248 551 376\n",
              "2                                       Data setului de analize: 25 May 2022                                Data setului de analize: <DATE>                                       Data setului de analize: [*********]                        Data setului de analize: ****                                                                Data setului de analize: 06-18-1983\n",
              "3    Nume si Prenume : BUREAN MARIA, Varsta: 77 \\nMedic : Agota Evelyn Timar  Nume si Prenume : <PATIENT>, Varsta: <AGE> \\nMedic : <DOCTOR>    Nume si Prenume : [**********], Varsta: ** \\nMedic : [****************]  Nume si Prenume : ****, Varsta: **** \\nMedic : ****                                  Nume si Prenume : Dragan Mihai, Varsta: 80 \\nMedic : Agata Voinea\n",
              "4                                                      C.N.P : 2450502264401                                                C.N.P : <IDNUM>                                                      C.N.P : [***********]                                         C.N.P : ****                                                                              C.N.P : 2204831108553"
            ],
            "text/html": [
              "\n",
              "  <div id=\"df-d2fd2320-82ca-4d33-927a-597429227c82\">\n",
              "    <div class=\"colab-df-container\">\n",
              "      <div>\n",
              "<style scoped>\n",
              "    .dataframe tbody tr th:only-of-type {\n",
              "        vertical-align: middle;\n",
              "    }\n",
              "\n",
              "    .dataframe tbody tr th {\n",
              "        vertical-align: top;\n",
              "    }\n",
              "\n",
              "    .dataframe thead th {\n",
              "        text-align: right;\n",
              "    }\n",
              "</style>\n",
              "<table border=\"1\" class=\"dataframe\">\n",
              "  <thead>\n",
              "    <tr style=\"text-align: right;\">\n",
              "      <th></th>\n",
              "      <th>Sentence</th>\n",
              "      <th>Masked_with_entity</th>\n",
              "      <th>Masked with Chars</th>\n",
              "      <th>Masked with Fixed Chars</th>\n",
              "      <th>Obfuscated</th>\n",
              "    </tr>\n",
              "  </thead>\n",
              "  <tbody>\n",
              "    <tr>\n",
              "      <th>0</th>\n",
              "      <td>Spitalul Pentru Ochi de Deal, Drumul Oprea Nr. 972 Vaslui, 737405 România</td>\n",
              "      <td>&lt;HOSPITAL&gt;, &lt;STREET&gt; &lt;CITY&gt;, &lt;ZIP&gt; România</td>\n",
              "      <td>[**************************], [******************] [****], [****] România</td>\n",
              "      <td>****, **** ****, **** România</td>\n",
              "      <td>Institutul Clinic de Urologie si Transplant Renal, Bulevardul Amanda Barbu Medias, 412738 România</td>\n",
              "    </tr>\n",
              "    <tr>\n",
              "      <th>1</th>\n",
              "      <td>Tel: +40(235)413773</td>\n",
              "      <td>Tel: &lt;PHONE&gt;</td>\n",
              "      <td>Tel: [************]</td>\n",
              "      <td>Tel: ****</td>\n",
              "      <td>Tel: 0248 551 376</td>\n",
              "    </tr>\n",
              "    <tr>\n",
              "      <th>2</th>\n",
              "      <td>Data setului de analize: 25 May 2022</td>\n",
              "      <td>Data setului de analize: &lt;DATE&gt;</td>\n",
              "      <td>Data setului de analize: [*********]</td>\n",
              "      <td>Data setului de analize: ****</td>\n",
              "      <td>Data setului de analize: 06-18-1983</td>\n",
              "    </tr>\n",
              "    <tr>\n",
              "      <th>3</th>\n",
              "      <td>Nume si Prenume : BUREAN MARIA, Varsta: 77 \\nMedic : Agota Evelyn Timar</td>\n",
              "      <td>Nume si Prenume : &lt;PATIENT&gt;, Varsta: &lt;AGE&gt; \\nMedic : &lt;DOCTOR&gt;</td>\n",
              "      <td>Nume si Prenume : [**********], Varsta: ** \\nMedic : [****************]</td>\n",
              "      <td>Nume si Prenume : ****, Varsta: **** \\nMedic : ****</td>\n",
              "      <td>Nume si Prenume : Dragan Mihai, Varsta: 80 \\nMedic : Agata Voinea</td>\n",
              "    </tr>\n",
              "    <tr>\n",
              "      <th>4</th>\n",
              "      <td>C.N.P : 2450502264401</td>\n",
              "      <td>C.N.P : &lt;IDNUM&gt;</td>\n",
              "      <td>C.N.P : [***********]</td>\n",
              "      <td>C.N.P : ****</td>\n",
              "      <td>C.N.P : 2204831108553</td>\n",
              "    </tr>\n",
              "  </tbody>\n",
              "</table>\n",
              "</div>\n",
              "      <button class=\"colab-df-convert\" onclick=\"convertToInteractive('df-d2fd2320-82ca-4d33-927a-597429227c82')\"\n",
              "              title=\"Convert this dataframe to an interactive table.\"\n",
              "              style=\"display:none;\">\n",
              "        \n",
              "  <svg xmlns=\"http://www.w3.org/2000/svg\" height=\"24px\"viewBox=\"0 0 24 24\"\n",
              "       width=\"24px\">\n",
              "    <path d=\"M0 0h24v24H0V0z\" fill=\"none\"/>\n",
              "    <path d=\"M18.56 5.44l.94 2.06.94-2.06 2.06-.94-2.06-.94-.94-2.06-.94 2.06-2.06.94zm-11 1L8.5 8.5l.94-2.06 2.06-.94-2.06-.94L8.5 2.5l-.94 2.06-2.06.94zm10 10l.94 2.06.94-2.06 2.06-.94-2.06-.94-.94-2.06-.94 2.06-2.06.94z\"/><path d=\"M17.41 7.96l-1.37-1.37c-.4-.4-.92-.59-1.43-.59-.52 0-1.04.2-1.43.59L10.3 9.45l-7.72 7.72c-.78.78-.78 2.05 0 2.83L4 21.41c.39.39.9.59 1.41.59.51 0 1.02-.2 1.41-.59l7.78-7.78 2.81-2.81c.8-.78.8-2.07 0-2.86zM5.41 20L4 18.59l7.72-7.72 1.47 1.35L5.41 20z\"/>\n",
              "  </svg>\n",
              "      </button>\n",
              "      \n",
              "  <style>\n",
              "    .colab-df-container {\n",
              "      display:flex;\n",
              "      flex-wrap:wrap;\n",
              "      gap: 12px;\n",
              "    }\n",
              "\n",
              "    .colab-df-convert {\n",
              "      background-color: #E8F0FE;\n",
              "      border: none;\n",
              "      border-radius: 50%;\n",
              "      cursor: pointer;\n",
              "      display: none;\n",
              "      fill: #1967D2;\n",
              "      height: 32px;\n",
              "      padding: 0 0 0 0;\n",
              "      width: 32px;\n",
              "    }\n",
              "\n",
              "    .colab-df-convert:hover {\n",
              "      background-color: #E2EBFA;\n",
              "      box-shadow: 0px 1px 2px rgba(60, 64, 67, 0.3), 0px 1px 3px 1px rgba(60, 64, 67, 0.15);\n",
              "      fill: #174EA6;\n",
              "    }\n",
              "\n",
              "    [theme=dark] .colab-df-convert {\n",
              "      background-color: #3B4455;\n",
              "      fill: #D2E3FC;\n",
              "    }\n",
              "\n",
              "    [theme=dark] .colab-df-convert:hover {\n",
              "      background-color: #434B5C;\n",
              "      box-shadow: 0px 1px 3px 1px rgba(0, 0, 0, 0.15);\n",
              "      filter: drop-shadow(0px 1px 2px rgba(0, 0, 0, 0.3));\n",
              "      fill: #FFFFFF;\n",
              "    }\n",
              "  </style>\n",
              "\n",
              "      <script>\n",
              "        const buttonEl =\n",
              "          document.querySelector('#df-d2fd2320-82ca-4d33-927a-597429227c82 button.colab-df-convert');\n",
              "        buttonEl.style.display =\n",
              "          google.colab.kernel.accessAllowed ? 'block' : 'none';\n",
              "\n",
              "        async function convertToInteractive(key) {\n",
              "          const element = document.querySelector('#df-d2fd2320-82ca-4d33-927a-597429227c82');\n",
              "          const dataTable =\n",
              "            await google.colab.kernel.invokeFunction('convertToInteractive',\n",
              "                                                     [key], {});\n",
              "          if (!dataTable) return;\n",
              "\n",
              "          const docLinkHtml = 'Like what you see? Visit the ' +\n",
              "            '<a target=\"_blank\" href=https://colab.research.google.com/notebooks/data_table.ipynb>data table notebook</a>'\n",
              "            + ' to learn more about interactive tables.';\n",
              "          element.innerHTML = '';\n",
              "          dataTable['output_type'] = 'display_data';\n",
              "          await google.colab.output.renderOutput(dataTable, element);\n",
              "          const docLink = document.createElement('div');\n",
              "          docLink.innerHTML = docLinkHtml;\n",
              "          element.appendChild(docLink);\n",
              "        }\n",
              "      </script>\n",
              "    </div>\n",
              "  </div>\n",
              "  "
            ]
          },
          "metadata": {},
          "execution_count": 130
        }
      ],
      "source": [
        "pd.set_option(\"display.max_colwidth\", 200)\n",
        "\n",
        "result_ro = deid_lp_ro.annotate(text)\n",
        "\n",
        "df_ro = pd.DataFrame(list(zip(result_ro[\"sentence\"],\n",
        "                              result_ro[\"masked_with_entity\"], \n",
        "                              result_ro[\"masked_with_chars\"],\n",
        "                              result_ro[\"masked_fixed_length_chars\"], \n",
        "                              result_ro[\"obfuscated\"])),\n",
        "                 columns= [\"Sentence\", \"Masked_with_entity\", \"Masked with Chars\", \"Masked with Fixed Chars\", \"Obfuscated\"])\n",
        "\n",
        "df_ro"
      ]
    },
    {
      "cell_type": "markdown",
      "metadata": {
        "id": "C8t6LxeOKrIa"
      },
      "source": [
        "### Faker mode"
      ]
    },
    {
      "cell_type": "code",
      "execution_count": null,
      "metadata": {
        "id": "rufcYHdVKrIb"
      },
      "outputs": [],
      "source": [
        "deid_obfuscated_faker = DeIdentification()\\\n",
        "    .setInputCols([\"sentence\", \"token\", \"ner_chunk_subentity\"]) \\\n",
        "    .setOutputCol(\"obfuscated\") \\\n",
        "    .setMode(\"obfuscate\")\\\n",
        "    .setLanguage('ro')\\\n",
        "    .setObfuscateDate(True)\\\n",
        "    .setObfuscateRefSource('faker')"
      ]
    },
    {
      "cell_type": "code",
      "execution_count": null,
      "metadata": {
        "id": "rvwMynW8KrIb"
      },
      "outputs": [],
      "source": [
        "nlpPipeline_ro = Pipeline(stages=[\n",
        "      documentAssembler, \n",
        "      sentencerDL,\n",
        "      tokenizer,\n",
        "      word_embeddings_ro,\n",
        "      ner_subentity_ro,\n",
        "      ner_converter_subentity,\n",
        "      deid_masked_entity,\n",
        "      deid_masked_char,\n",
        "      deid_masked_fixed_char,\n",
        "      deid_obfuscated_faker\n",
        "      ])\n",
        "\n",
        "empty_data = spark.createDataFrame([[\"\"]]).toDF(\"text\")\n",
        "model_ro = nlpPipeline_ro.fit(empty_data)"
      ]
    },
    {
      "cell_type": "code",
      "execution_count": null,
      "metadata": {
        "id": "ty07Sl6sKrIb"
      },
      "outputs": [],
      "source": [
        "deid_lp_ro = LightPipeline(model_ro)"
      ]
    },
    {
      "cell_type": "code",
      "execution_count": null,
      "metadata": {
        "id": "jaoaNmLfKrIb",
        "colab": {
          "base_uri": "https://localhost:8080/",
          "height": 350
        },
        "outputId": "2ba8b7fb-e7c8-4cdc-c116-00dd4b615a97"
      },
      "outputs": [
        {
          "output_type": "execute_result",
          "data": {
            "text/plain": [
              "                                                                    Sentence                                             Masked_with_entity                                                          Masked with Chars                              Masked with Fixed Chars                                                                     Obfuscated\n",
              "0  Spitalul Pentru Ochi de Deal, Drumul Oprea Nr. 972 Vaslui, 737405 România                     <HOSPITAL>, <STREET> <CITY>, <ZIP> România  [**************************], [******************] [****], [****] România                        ****, **** ****, **** România           Tuberculosis Sanatorium Câmpeni, Universităţii Bocșa, 483369 România\n",
              "1                                                        Tel: +40(235)413773                                                   Tel: <PHONE>                                                        Tel: [************]                                            Tel: ****                                                            Tel: 0650 611 73 47\n",
              "2                                       Data setului de analize: 25 May 2022                                Data setului de analize: <DATE>                                       Data setului de analize: [*********]                        Data setului de analize: ****                                            Data setului de analize: 12-23-1983\n",
              "3    Nume si Prenume : BUREAN MARIA, Varsta: 77 \\nMedic : Agota Evelyn Timar  Nume si Prenume : <PATIENT>, Varsta: <AGE> \\nMedic : <DOCTOR>    Nume si Prenume : [**********], Varsta: ** \\nMedic : [****************]  Nume si Prenume : ****, Varsta: **** \\nMedic : ****  Nume si Prenume : Popovici Grigorescu, Varsta: 69 \\nMedic : Dr Munteanu Petcu\n",
              "4                                                      C.N.P : 2450502264401                                                C.N.P : <IDNUM>                                                      C.N.P : [***********]                                         C.N.P : ****                                                             C.N.P : WJ:9039431"
            ],
            "text/html": [
              "\n",
              "  <div id=\"df-823ba3cf-c62f-4f84-94a3-bb5f09717802\">\n",
              "    <div class=\"colab-df-container\">\n",
              "      <div>\n",
              "<style scoped>\n",
              "    .dataframe tbody tr th:only-of-type {\n",
              "        vertical-align: middle;\n",
              "    }\n",
              "\n",
              "    .dataframe tbody tr th {\n",
              "        vertical-align: top;\n",
              "    }\n",
              "\n",
              "    .dataframe thead th {\n",
              "        text-align: right;\n",
              "    }\n",
              "</style>\n",
              "<table border=\"1\" class=\"dataframe\">\n",
              "  <thead>\n",
              "    <tr style=\"text-align: right;\">\n",
              "      <th></th>\n",
              "      <th>Sentence</th>\n",
              "      <th>Masked_with_entity</th>\n",
              "      <th>Masked with Chars</th>\n",
              "      <th>Masked with Fixed Chars</th>\n",
              "      <th>Obfuscated</th>\n",
              "    </tr>\n",
              "  </thead>\n",
              "  <tbody>\n",
              "    <tr>\n",
              "      <th>0</th>\n",
              "      <td>Spitalul Pentru Ochi de Deal, Drumul Oprea Nr. 972 Vaslui, 737405 România</td>\n",
              "      <td>&lt;HOSPITAL&gt;, &lt;STREET&gt; &lt;CITY&gt;, &lt;ZIP&gt; România</td>\n",
              "      <td>[**************************], [******************] [****], [****] România</td>\n",
              "      <td>****, **** ****, **** România</td>\n",
              "      <td>Tuberculosis Sanatorium Câmpeni, Universităţii Bocșa, 483369 România</td>\n",
              "    </tr>\n",
              "    <tr>\n",
              "      <th>1</th>\n",
              "      <td>Tel: +40(235)413773</td>\n",
              "      <td>Tel: &lt;PHONE&gt;</td>\n",
              "      <td>Tel: [************]</td>\n",
              "      <td>Tel: ****</td>\n",
              "      <td>Tel: 0650 611 73 47</td>\n",
              "    </tr>\n",
              "    <tr>\n",
              "      <th>2</th>\n",
              "      <td>Data setului de analize: 25 May 2022</td>\n",
              "      <td>Data setului de analize: &lt;DATE&gt;</td>\n",
              "      <td>Data setului de analize: [*********]</td>\n",
              "      <td>Data setului de analize: ****</td>\n",
              "      <td>Data setului de analize: 12-23-1983</td>\n",
              "    </tr>\n",
              "    <tr>\n",
              "      <th>3</th>\n",
              "      <td>Nume si Prenume : BUREAN MARIA, Varsta: 77 \\nMedic : Agota Evelyn Timar</td>\n",
              "      <td>Nume si Prenume : &lt;PATIENT&gt;, Varsta: &lt;AGE&gt; \\nMedic : &lt;DOCTOR&gt;</td>\n",
              "      <td>Nume si Prenume : [**********], Varsta: ** \\nMedic : [****************]</td>\n",
              "      <td>Nume si Prenume : ****, Varsta: **** \\nMedic : ****</td>\n",
              "      <td>Nume si Prenume : Popovici Grigorescu, Varsta: 69 \\nMedic : Dr Munteanu Petcu</td>\n",
              "    </tr>\n",
              "    <tr>\n",
              "      <th>4</th>\n",
              "      <td>C.N.P : 2450502264401</td>\n",
              "      <td>C.N.P : &lt;IDNUM&gt;</td>\n",
              "      <td>C.N.P : [***********]</td>\n",
              "      <td>C.N.P : ****</td>\n",
              "      <td>C.N.P : WJ:9039431</td>\n",
              "    </tr>\n",
              "  </tbody>\n",
              "</table>\n",
              "</div>\n",
              "      <button class=\"colab-df-convert\" onclick=\"convertToInteractive('df-823ba3cf-c62f-4f84-94a3-bb5f09717802')\"\n",
              "              title=\"Convert this dataframe to an interactive table.\"\n",
              "              style=\"display:none;\">\n",
              "        \n",
              "  <svg xmlns=\"http://www.w3.org/2000/svg\" height=\"24px\"viewBox=\"0 0 24 24\"\n",
              "       width=\"24px\">\n",
              "    <path d=\"M0 0h24v24H0V0z\" fill=\"none\"/>\n",
              "    <path d=\"M18.56 5.44l.94 2.06.94-2.06 2.06-.94-2.06-.94-.94-2.06-.94 2.06-2.06.94zm-11 1L8.5 8.5l.94-2.06 2.06-.94-2.06-.94L8.5 2.5l-.94 2.06-2.06.94zm10 10l.94 2.06.94-2.06 2.06-.94-2.06-.94-.94-2.06-.94 2.06-2.06.94z\"/><path d=\"M17.41 7.96l-1.37-1.37c-.4-.4-.92-.59-1.43-.59-.52 0-1.04.2-1.43.59L10.3 9.45l-7.72 7.72c-.78.78-.78 2.05 0 2.83L4 21.41c.39.39.9.59 1.41.59.51 0 1.02-.2 1.41-.59l7.78-7.78 2.81-2.81c.8-.78.8-2.07 0-2.86zM5.41 20L4 18.59l7.72-7.72 1.47 1.35L5.41 20z\"/>\n",
              "  </svg>\n",
              "      </button>\n",
              "      \n",
              "  <style>\n",
              "    .colab-df-container {\n",
              "      display:flex;\n",
              "      flex-wrap:wrap;\n",
              "      gap: 12px;\n",
              "    }\n",
              "\n",
              "    .colab-df-convert {\n",
              "      background-color: #E8F0FE;\n",
              "      border: none;\n",
              "      border-radius: 50%;\n",
              "      cursor: pointer;\n",
              "      display: none;\n",
              "      fill: #1967D2;\n",
              "      height: 32px;\n",
              "      padding: 0 0 0 0;\n",
              "      width: 32px;\n",
              "    }\n",
              "\n",
              "    .colab-df-convert:hover {\n",
              "      background-color: #E2EBFA;\n",
              "      box-shadow: 0px 1px 2px rgba(60, 64, 67, 0.3), 0px 1px 3px 1px rgba(60, 64, 67, 0.15);\n",
              "      fill: #174EA6;\n",
              "    }\n",
              "\n",
              "    [theme=dark] .colab-df-convert {\n",
              "      background-color: #3B4455;\n",
              "      fill: #D2E3FC;\n",
              "    }\n",
              "\n",
              "    [theme=dark] .colab-df-convert:hover {\n",
              "      background-color: #434B5C;\n",
              "      box-shadow: 0px 1px 3px 1px rgba(0, 0, 0, 0.15);\n",
              "      filter: drop-shadow(0px 1px 2px rgba(0, 0, 0, 0.3));\n",
              "      fill: #FFFFFF;\n",
              "    }\n",
              "  </style>\n",
              "\n",
              "      <script>\n",
              "        const buttonEl =\n",
              "          document.querySelector('#df-823ba3cf-c62f-4f84-94a3-bb5f09717802 button.colab-df-convert');\n",
              "        buttonEl.style.display =\n",
              "          google.colab.kernel.accessAllowed ? 'block' : 'none';\n",
              "\n",
              "        async function convertToInteractive(key) {\n",
              "          const element = document.querySelector('#df-823ba3cf-c62f-4f84-94a3-bb5f09717802');\n",
              "          const dataTable =\n",
              "            await google.colab.kernel.invokeFunction('convertToInteractive',\n",
              "                                                     [key], {});\n",
              "          if (!dataTable) return;\n",
              "\n",
              "          const docLinkHtml = 'Like what you see? Visit the ' +\n",
              "            '<a target=\"_blank\" href=https://colab.research.google.com/notebooks/data_table.ipynb>data table notebook</a>'\n",
              "            + ' to learn more about interactive tables.';\n",
              "          element.innerHTML = '';\n",
              "          dataTable['output_type'] = 'display_data';\n",
              "          await google.colab.output.renderOutput(dataTable, element);\n",
              "          const docLink = document.createElement('div');\n",
              "          docLink.innerHTML = docLinkHtml;\n",
              "          element.appendChild(docLink);\n",
              "        }\n",
              "      </script>\n",
              "    </div>\n",
              "  </div>\n",
              "  "
            ]
          },
          "metadata": {},
          "execution_count": 134
        }
      ],
      "source": [
        "pd.set_option(\"display.max_colwidth\", 200)\n",
        "\n",
        "result_ro = deid_lp_ro.annotate(text)\n",
        "\n",
        "df_ro = pd.DataFrame(list(zip(result_ro[\"sentence\"],\n",
        "                              result_ro[\"masked_with_entity\"], \n",
        "                              result_ro[\"masked_with_chars\"],\n",
        "                              result_ro[\"masked_fixed_length_chars\"], \n",
        "                              result_ro[\"obfuscated\"])),\n",
        "                 columns= [\"Sentence\", \"Masked_with_entity\", \"Masked with Chars\", \"Masked with Fixed Chars\", \"Obfuscated\"])\n",
        "\n",
        "df_ro"
      ]
    },
    {
      "cell_type": "markdown",
      "metadata": {
        "id": "9yxR3JIXzuI1"
      },
      "source": [
        "## Pretrained Romanian Deidentification Pipeline\n",
        "\n",
        "- We developed a clinical deidentification pretrained pipeline that can be used to deidentify PHI information from Romanian medical texts. The PHI information will be masked and obfuscated in the resulting text. \n",
        "- The pipeline can mask and obfuscate:\n",
        "  - AGE, \n",
        "  - CITY, \n",
        "  - COUNTRY,\n",
        "  - DATE, \n",
        "  - DOCTOR, \n",
        "  - EMAIL, \n",
        "  - FAX, \n",
        "  - HOSPITAL, \n",
        "  - IDNUM, \n",
        "  - LOCATION-OTHER, \n",
        "  - MEDICALRECORD, \n",
        "  - ORGANIZATION, \n",
        "  - PATIENT, \n",
        "  - PHONE, \n",
        "  - PROFESSION, \n",
        "  - STREET, \n",
        "  - ZIP, \n",
        "  - ACCOUNT, \n",
        "  - LICENSE, \n",
        "  - PLATE"
      ]
    },
    {
      "cell_type": "code",
      "execution_count": null,
      "metadata": {
        "id": "gElkzxxSzuI2",
        "colab": {
          "base_uri": "https://localhost:8080/"
        },
        "outputId": "d4dc1b50-7613-4104-9894-b70f344e1362"
      },
      "outputs": [
        {
          "output_type": "stream",
          "name": "stdout",
          "text": [
            "clinical_deidentification download started this may take some time.\n",
            "Approx size to download 1.1 GB\n",
            "[OK!]\n"
          ]
        }
      ],
      "source": [
        "from sparknlp.pretrained import PretrainedPipeline\n",
        "\n",
        "deid_pipeline_ro = PretrainedPipeline(\"clinical_deidentification\", \"ro\", \"clinical/models\")"
      ]
    },
    {
      "cell_type": "code",
      "execution_count": null,
      "metadata": {
        "id": "BS-u_N7VzuI2"
      },
      "outputs": [],
      "source": [
        "text = \"\"\"Medic : Dr. Agota EVELYN, C.N.P : 2450502264401, Data setului de analize: 25 May 2022 \n",
        "Varsta : 77, Nume si Prenume : BUREAN MARIA \n",
        "Tel: +40(235)413773, E-mail : hale@gmail.com,\n",
        "Licență : B004256985M, Înmatriculare : CD205113, Cont : FXHZ7170951927104999, \n",
        "Spitalul Pentru Ochi de Deal Drumul Oprea Nr. 972 Vaslui, 737405 \"\"\""
      ]
    },
    {
      "cell_type": "markdown",
      "metadata": {
        "id": "lCOmWLRXzuI2"
      },
      "source": [
        "The results can also be inspected vertically by creating a Pandas dataframe as such:"
      ]
    },
    {
      "cell_type": "code",
      "execution_count": null,
      "metadata": {
        "id": "o6AU9NkizuI2",
        "colab": {
          "base_uri": "https://localhost:8080/",
          "height": 458
        },
        "outputId": "17be0c2c-5771-41c7-b2ad-991d62b9d499"
      },
      "outputs": [
        {
          "output_type": "execute_result",
          "data": {
            "text/plain": [
              "                                                                                                                                                                                          Sentence                                                                                                                                Masked                                                                                                                                                                                Masked with Chars                                                                               Masked with Fixed Chars                                                                                                                                                                                                                                                  Obfuscated\n",
              "0                                                                                                            Medic : Dr. Agota EVELYN, C.N.P : 2450502264401, Data setului de analize: 25 May 2022                                                                Medic : Dr. <DOCTOR>, C.N.P : <IDNUM>, Data setului de analize: <DATE>                                                                                                            Medic : Dr. [**********], C.N.P : [***********], Data setului de analize: [*********]                                         Medic : Dr. ****, C.N.P : ****, Data setului de analize: ****                                                                                                                                                                     Medic : Dr. Doina Gheorghiu, C.N.P : 6794561192919, Data setului de analize: 01-04-2001\n",
              "1                                                                                                                                                      Varsta : 77, Nume si Prenume : BUREAN MARIA                                                                                           Varsta : <AGE>, Nume si Prenume : <PATIENT>                                                                                                                                                      Varsta : **, Nume si Prenume : [**********]                                                                 Varsta : ****, Nume si Prenume : ****                                                                                                                                                                                                              Varsta : 91, Nume si Prenume : Dragomir Emilia\n",
              "2  Tel: +40(235)413773, E-mail : hale@gmail.com,\\nLicență : B004256985M, Înmatriculare : CD205113, Cont : FXHZ7170951927104999, \\nSpitalul Pentru Ochi de Deal Drumul Oprea Nr. 972 Vaslui, 737405  Tel: <PHONE>, E-mail : <EMAIL>,\\nLicență : <LICENSE>, Înmatriculare : <PLATE>, Cont : <ACCOUNT>, \\n<HOSPITAL> <STREET> <CITY>, <ZIP>  Tel: [************], E-mail : [************],\\nLicență : [*********], Înmatriculare : [******], Cont : [******************], \\n[**************************] [******************] [****], [****]  Tel: ****, E-mail : ****,\\nLicență : ****, Înmatriculare : ****, Cont : ****, \\n**** **** ****, ****  Tel: 0248 551 376, E-mail : tudorsmaranda@kappa.ro,\\nLicență : T003485962M, Înmatriculare : AR-65-UPQ, Cont : KHHO5029180812813651, \\nCentrul Medical de Evaluare si Recuperare pentru Copii si Tineri Cristian Serban Buzias Aleea Voinea Curcani, 159579"
            ],
            "text/html": [
              "\n",
              "  <div id=\"df-ea5c041d-2918-4581-8691-3f0f59ff4a02\">\n",
              "    <div class=\"colab-df-container\">\n",
              "      <div>\n",
              "<style scoped>\n",
              "    .dataframe tbody tr th:only-of-type {\n",
              "        vertical-align: middle;\n",
              "    }\n",
              "\n",
              "    .dataframe tbody tr th {\n",
              "        vertical-align: top;\n",
              "    }\n",
              "\n",
              "    .dataframe thead th {\n",
              "        text-align: right;\n",
              "    }\n",
              "</style>\n",
              "<table border=\"1\" class=\"dataframe\">\n",
              "  <thead>\n",
              "    <tr style=\"text-align: right;\">\n",
              "      <th></th>\n",
              "      <th>Sentence</th>\n",
              "      <th>Masked</th>\n",
              "      <th>Masked with Chars</th>\n",
              "      <th>Masked with Fixed Chars</th>\n",
              "      <th>Obfuscated</th>\n",
              "    </tr>\n",
              "  </thead>\n",
              "  <tbody>\n",
              "    <tr>\n",
              "      <th>0</th>\n",
              "      <td>Medic : Dr. Agota EVELYN, C.N.P : 2450502264401, Data setului de analize: 25 May 2022</td>\n",
              "      <td>Medic : Dr. &lt;DOCTOR&gt;, C.N.P : &lt;IDNUM&gt;, Data setului de analize: &lt;DATE&gt;</td>\n",
              "      <td>Medic : Dr. [**********], C.N.P : [***********], Data setului de analize: [*********]</td>\n",
              "      <td>Medic : Dr. ****, C.N.P : ****, Data setului de analize: ****</td>\n",
              "      <td>Medic : Dr. Doina Gheorghiu, C.N.P : 6794561192919, Data setului de analize: 01-04-2001</td>\n",
              "    </tr>\n",
              "    <tr>\n",
              "      <th>1</th>\n",
              "      <td>Varsta : 77, Nume si Prenume : BUREAN MARIA</td>\n",
              "      <td>Varsta : &lt;AGE&gt;, Nume si Prenume : &lt;PATIENT&gt;</td>\n",
              "      <td>Varsta : **, Nume si Prenume : [**********]</td>\n",
              "      <td>Varsta : ****, Nume si Prenume : ****</td>\n",
              "      <td>Varsta : 91, Nume si Prenume : Dragomir Emilia</td>\n",
              "    </tr>\n",
              "    <tr>\n",
              "      <th>2</th>\n",
              "      <td>Tel: +40(235)413773, E-mail : hale@gmail.com,\\nLicență : B004256985M, Înmatriculare : CD205113, Cont : FXHZ7170951927104999, \\nSpitalul Pentru Ochi de Deal Drumul Oprea Nr. 972 Vaslui, 737405</td>\n",
              "      <td>Tel: &lt;PHONE&gt;, E-mail : &lt;EMAIL&gt;,\\nLicență : &lt;LICENSE&gt;, Înmatriculare : &lt;PLATE&gt;, Cont : &lt;ACCOUNT&gt;, \\n&lt;HOSPITAL&gt; &lt;STREET&gt; &lt;CITY&gt;, &lt;ZIP&gt;</td>\n",
              "      <td>Tel: [************], E-mail : [************],\\nLicență : [*********], Înmatriculare : [******], Cont : [******************], \\n[**************************] [******************] [****], [****]</td>\n",
              "      <td>Tel: ****, E-mail : ****,\\nLicență : ****, Înmatriculare : ****, Cont : ****, \\n**** **** ****, ****</td>\n",
              "      <td>Tel: 0248 551 376, E-mail : tudorsmaranda@kappa.ro,\\nLicență : T003485962M, Înmatriculare : AR-65-UPQ, Cont : KHHO5029180812813651, \\nCentrul Medical de Evaluare si Recuperare pentru Copii si Tineri Cristian Serban Buzias Aleea Voinea Curcani, 159579</td>\n",
              "    </tr>\n",
              "  </tbody>\n",
              "</table>\n",
              "</div>\n",
              "      <button class=\"colab-df-convert\" onclick=\"convertToInteractive('df-ea5c041d-2918-4581-8691-3f0f59ff4a02')\"\n",
              "              title=\"Convert this dataframe to an interactive table.\"\n",
              "              style=\"display:none;\">\n",
              "        \n",
              "  <svg xmlns=\"http://www.w3.org/2000/svg\" height=\"24px\"viewBox=\"0 0 24 24\"\n",
              "       width=\"24px\">\n",
              "    <path d=\"M0 0h24v24H0V0z\" fill=\"none\"/>\n",
              "    <path d=\"M18.56 5.44l.94 2.06.94-2.06 2.06-.94-2.06-.94-.94-2.06-.94 2.06-2.06.94zm-11 1L8.5 8.5l.94-2.06 2.06-.94-2.06-.94L8.5 2.5l-.94 2.06-2.06.94zm10 10l.94 2.06.94-2.06 2.06-.94-2.06-.94-.94-2.06-.94 2.06-2.06.94z\"/><path d=\"M17.41 7.96l-1.37-1.37c-.4-.4-.92-.59-1.43-.59-.52 0-1.04.2-1.43.59L10.3 9.45l-7.72 7.72c-.78.78-.78 2.05 0 2.83L4 21.41c.39.39.9.59 1.41.59.51 0 1.02-.2 1.41-.59l7.78-7.78 2.81-2.81c.8-.78.8-2.07 0-2.86zM5.41 20L4 18.59l7.72-7.72 1.47 1.35L5.41 20z\"/>\n",
              "  </svg>\n",
              "      </button>\n",
              "      \n",
              "  <style>\n",
              "    .colab-df-container {\n",
              "      display:flex;\n",
              "      flex-wrap:wrap;\n",
              "      gap: 12px;\n",
              "    }\n",
              "\n",
              "    .colab-df-convert {\n",
              "      background-color: #E8F0FE;\n",
              "      border: none;\n",
              "      border-radius: 50%;\n",
              "      cursor: pointer;\n",
              "      display: none;\n",
              "      fill: #1967D2;\n",
              "      height: 32px;\n",
              "      padding: 0 0 0 0;\n",
              "      width: 32px;\n",
              "    }\n",
              "\n",
              "    .colab-df-convert:hover {\n",
              "      background-color: #E2EBFA;\n",
              "      box-shadow: 0px 1px 2px rgba(60, 64, 67, 0.3), 0px 1px 3px 1px rgba(60, 64, 67, 0.15);\n",
              "      fill: #174EA6;\n",
              "    }\n",
              "\n",
              "    [theme=dark] .colab-df-convert {\n",
              "      background-color: #3B4455;\n",
              "      fill: #D2E3FC;\n",
              "    }\n",
              "\n",
              "    [theme=dark] .colab-df-convert:hover {\n",
              "      background-color: #434B5C;\n",
              "      box-shadow: 0px 1px 3px 1px rgba(0, 0, 0, 0.15);\n",
              "      filter: drop-shadow(0px 1px 2px rgba(0, 0, 0, 0.3));\n",
              "      fill: #FFFFFF;\n",
              "    }\n",
              "  </style>\n",
              "\n",
              "      <script>\n",
              "        const buttonEl =\n",
              "          document.querySelector('#df-ea5c041d-2918-4581-8691-3f0f59ff4a02 button.colab-df-convert');\n",
              "        buttonEl.style.display =\n",
              "          google.colab.kernel.accessAllowed ? 'block' : 'none';\n",
              "\n",
              "        async function convertToInteractive(key) {\n",
              "          const element = document.querySelector('#df-ea5c041d-2918-4581-8691-3f0f59ff4a02');\n",
              "          const dataTable =\n",
              "            await google.colab.kernel.invokeFunction('convertToInteractive',\n",
              "                                                     [key], {});\n",
              "          if (!dataTable) return;\n",
              "\n",
              "          const docLinkHtml = 'Like what you see? Visit the ' +\n",
              "            '<a target=\"_blank\" href=https://colab.research.google.com/notebooks/data_table.ipynb>data table notebook</a>'\n",
              "            + ' to learn more about interactive tables.';\n",
              "          element.innerHTML = '';\n",
              "          dataTable['output_type'] = 'display_data';\n",
              "          await google.colab.output.renderOutput(dataTable, element);\n",
              "          const docLink = document.createElement('div');\n",
              "          docLink.innerHTML = docLinkHtml;\n",
              "          element.appendChild(docLink);\n",
              "        }\n",
              "      </script>\n",
              "    </div>\n",
              "  </div>\n",
              "  "
            ]
          },
          "metadata": {},
          "execution_count": 137
        }
      ],
      "source": [
        "pd.set_option(\"display.max_colwidth\", None)\n",
        "\n",
        "result_ro = deid_pipeline_ro.annotate(text)\n",
        "\n",
        "df_ro = pd.DataFrame(list(zip(result_ro[\"sentence\"], \n",
        "                           result_ro[\"masked\"],\n",
        "                           result_ro[\"masked_with_chars\"], \n",
        "                           result_ro[\"masked_fixed_length_chars\"], \n",
        "                           result_ro[\"obfuscated\"])),\n",
        "                 columns= [\"Sentence\", \"Masked\", \"Masked with Chars\", \"Masked with Fixed Chars\", \"Obfuscated\"])\n",
        "\n",
        "df_ro"
      ]
    },
    {
      "cell_type": "markdown",
      "source": [
        "# DE-IDENTIFICATION FOR ARABIC"
      ],
      "metadata": {
        "id": "V7eMbSIoFUt1"
      }
    },
    {
      "cell_type": "markdown",
      "source": [
        "## Arabic NER Deidentification Models\n",
        "We have two different models you can use:\n",
        "* `ner_deid_generic`, detects 8 entities\n",
        "* `ner_deid_subentity`, detects 17 entities"
      ],
      "metadata": {
        "id": "zF1g3vz4Eu4j"
      }
    },
    {
      "cell_type": "markdown",
      "source": [
        "Creating pipeline"
      ],
      "metadata": {
        "id": "oveyLHUKF-1K"
      }
    },
    {
      "cell_type": "code",
      "source": [
        "# Annotator that transforms a text column from dataframe into an Annotation ready for NLP\n",
        "documentAssembler = DocumentAssembler()\\\n",
        "    .setInputCol(\"text\")\\\n",
        "    .setOutputCol(\"document\")\n",
        "\n",
        "sentencerDL = SentenceDetectorDLModel.pretrained(\"sentence_detector_dl\", \"xx\") \\\n",
        "    .setInputCols([\"document\"])\\\n",
        "    .setOutputCol(\"sentence\")\n",
        "\n",
        "# Tokenizer splits words in a relevant format for NLP\n",
        "tokenizer = Tokenizer()\\\n",
        "    .setInputCols([\"sentence\"])\\\n",
        "    .setOutputCol(\"token\")\n",
        "\n",
        "word_embeddings_ar = WordEmbeddingsModel.pretrained(\"arabic_w2v_cc_300d\",\"ar\")\\\n",
        "    .setInputCols([\"document\",\"token\"])\\\n",
        "\t  .setOutputCol(\"embeddings\")"
      ],
      "metadata": {
        "colab": {
          "base_uri": "https://localhost:8080/"
        },
        "id": "Lqd6HsI1FRB9",
        "outputId": "c2e9bf12-a6a2-4775-c4f8-87700ad24ad4"
      },
      "execution_count": null,
      "outputs": [
        {
          "output_type": "stream",
          "name": "stdout",
          "text": [
            "sentence_detector_dl download started this may take some time.\n",
            "Approximate size to download 514.9 KB\n",
            "[OK!]\n",
            "arabic_w2v_cc_300d download started this may take some time.\n",
            "Approximate size to download 1.1 GB\n",
            "[OK!]\n"
          ]
        }
      ]
    },
    {
      "cell_type": "markdown",
      "source": [
        "### NER Deid Generic\n",
        "\n",
        "**`ner_deid_generic`** extracts:\n",
        "- Name\n",
        "- Profession\n",
        "- Age\n",
        "- Date\n",
        "- Contact (Telephone numbers, FAX numbers, Email addresses)\n",
        "- Location (Address, City, Postal code, Hospital Name, Employment information)\n",
        "- Id (Social Security numbers, Medical record numbers, Internet protocol addresses)\n",
        "\n"
      ],
      "metadata": {
        "id": "OCYPloNuj5Ph"
      }
    },
    {
      "cell_type": "code",
      "source": [
        "ner_generic_ar = MedicalNerModel.pretrained(\"ner_deid_generic\", \"ar\", \"clinical/models\")\\\n",
        "    .setInputCols([\"sentence\",\"token\",\"embeddings\"])\\\n",
        "    .setOutputCol(\"ner_deid_generic\")\n",
        "\n",
        "ner_converter_generic = NerConverterInternal()\\\n",
        "    .setInputCols([\"sentence\",\"token\",\"ner_deid_generic\"])\\\n",
        "    .setOutputCol(\"ner_chunk_generic\")"
      ],
      "metadata": {
        "colab": {
          "base_uri": "https://localhost:8080/"
        },
        "id": "JzkvBGTwGJzB",
        "outputId": "785a4851-d950-462a-e8c5-ebb49befc0a2"
      },
      "execution_count": null,
      "outputs": [
        {
          "output_type": "stream",
          "name": "stdout",
          "text": [
            "ner_deid_generic download started this may take some time.\n",
            "[OK!]\n"
          ]
        }
      ]
    },
    {
      "cell_type": "code",
      "source": [
        "ner_generic_ar.getClasses()"
      ],
      "metadata": {
        "colab": {
          "base_uri": "https://localhost:8080/"
        },
        "id": "sF0uvsLykCac",
        "outputId": "73eeac92-eb4a-4861-bde6-857e6ac47fd1"
      },
      "execution_count": null,
      "outputs": [
        {
          "output_type": "execute_result",
          "data": {
            "text/plain": [
              "['O',\n",
              " 'I-LOCATION',\n",
              " 'I-PROFESSION',\n",
              " 'I-NAME',\n",
              " 'I-DATE',\n",
              " 'B-ID',\n",
              " 'B-PROFESSION',\n",
              " 'B-CONTACT',\n",
              " 'B-NAME',\n",
              " 'B-DATE',\n",
              " 'B-LOCATION',\n",
              " 'B-SEX',\n",
              " 'I-SEX',\n",
              " 'B-AGE',\n",
              " 'I-AGE']"
            ]
          },
          "metadata": {},
          "execution_count": 19
        }
      ]
    },
    {
      "cell_type": "markdown",
      "source": [
        "### NER Deid Subentity\n",
        "\n",
        "**`ner_deid_subentity`** extracts:\n",
        "\n",
        "- Patient\n",
        "- Doctor\n",
        "- Hospital\n",
        "- Date\n",
        "- Organization\n",
        "- City\n",
        "- Street\n",
        "- User Name\n",
        "- Profession\n",
        "- Phone\n",
        "- Country\n",
        "- Age"
      ],
      "metadata": {
        "id": "sLGi92k3kYSK"
      }
    },
    {
      "cell_type": "code",
      "source": [
        "ner_subentity_ar = MedicalNerModel.pretrained(\"ner_deid_subentity\", \"ar\", \"clinical/models\")\\\n",
        "    .setInputCols([\"sentence\",\"token\",\"embeddings\"])\\\n",
        "    .setOutputCol(\"ner_deid_subentity\")\n",
        "\n",
        "ner_converter_subentity = NerConverterInternal()\\\n",
        "    .setInputCols([\"sentence\", \"token\", \"ner_deid_subentity\"])\\\n",
        "    .setOutputCol(\"ner_chunk_subentity\")"
      ],
      "metadata": {
        "id": "36Bj_fOskSGS"
      },
      "execution_count": null,
      "outputs": []
    },
    {
      "cell_type": "code",
      "source": [
        "ner_generic_ar.getClasses()"
      ],
      "metadata": {
        "colab": {
          "base_uri": "https://localhost:8080/"
        },
        "id": "LtkliT6KkhXz",
        "outputId": "e570147d-dc89-4546-b471-4c27cdc4e0e2"
      },
      "execution_count": null,
      "outputs": [
        {
          "output_type": "execute_result",
          "data": {
            "text/plain": [
              "['O',\n",
              " 'I-LOCATION',\n",
              " 'I-PROFESSION',\n",
              " 'I-NAME',\n",
              " 'I-DATE',\n",
              " 'B-ID',\n",
              " 'B-PROFESSION',\n",
              " 'B-CONTACT',\n",
              " 'B-NAME',\n",
              " 'B-DATE',\n",
              " 'B-LOCATION',\n",
              " 'B-SEX',\n",
              " 'I-SEX',\n",
              " 'B-AGE',\n",
              " 'I-AGE']"
            ]
          },
          "metadata": {},
          "execution_count": 21
        }
      ]
    },
    {
      "cell_type": "markdown",
      "source": [
        "### Pipeline"
      ],
      "metadata": {
        "id": "SPOSYeHK3b0U"
      }
    },
    {
      "cell_type": "code",
      "source": [
        "nlpPipeline_ar = Pipeline(stages=[\n",
        "      documentAssembler, \n",
        "      sentencerDL,\n",
        "      tokenizer,\n",
        "      word_embeddings_ar,\n",
        "      ner_generic_ar,\n",
        "      ner_converter_generic,\n",
        "      ner_subentity_ar,\n",
        "      ner_converter_subentity,\n",
        "      ])\n",
        "\n",
        "empty_data = spark.createDataFrame([[\"\"]]).toDF(\"text\")\n",
        "model_ar = nlpPipeline_ar.fit(empty_data)"
      ],
      "metadata": {
        "id": "qDzM6OEr3RNs"
      },
      "execution_count": null,
      "outputs": []
    },
    {
      "cell_type": "code",
      "source": [
        "text_ar = \"\"\"ملاحظات سريرية - مريض السكري. التاريخ: 11 مايو 1999. اسم المريض: فاطمة علي. العنوان: شارع الحرية، مبنى رقم 456، حي السلام، القاهرة. الرمز البريدي: 67890. البلد: مصر. اسم المستشفى: مستشفى الشفاء. اسم الطبيب: د. محمد صلاح. تفاصيل الحالة: المريضة فاطمة علي، البالغة من العمر 42 عامًا، مصابة بمرض السكري من النوع 2. تشكو من زيادة في العطش والجوع المفرط والتبول المتكرر. تم تشخيصها بمرض السكري بعد فحص شامل وفحوصات مخبرية. الخطة: تم وصف دواء فموي لخفض مستوى السكر في الدم. يجب على المريضة مراجعة الطبيب بانتظام وإجراء اختبارات السكر في الدم بانتظام. يتعين على المريضة اتباع نظام غذائي صحي ومتوازن، يشمل الحد من استهلاك السكريات والنشويات. يجب مراقبة ضغط الدم والكولسترول أيضًا ومراعاة التعليمات الطبية المتعلقة بتلك الحالات. تعليم المريضة بشأن أعراض الارتفاع أو الانخفاض الحاد في مستوى السكر في الدم وكيفية التعامل معها.\"\"\"\n",
        "\n",
        "text_df_ar = spark.createDataFrame([[text_ar]]).toDF(\"text\")\n",
        "result_ar = model_ar.transform(text_df_ar)"
      ],
      "metadata": {
        "id": "d2Xe9x1R3wrP"
      },
      "execution_count": null,
      "outputs": []
    },
    {
      "cell_type": "markdown",
      "source": [
        "Results for `ner_deid_subentity`"
      ],
      "metadata": {
        "id": "h7GXB84P4hlA"
      }
    },
    {
      "cell_type": "code",
      "source": [
        "result_ar.select(F.explode(F.arrays_zip(result_ar.ner_chunk_subentity.result, \n",
        "                                        result_ar.ner_chunk_subentity.metadata)).alias(\"cols\")) \\\n",
        "         .select(F.expr(\"cols['0']\").alias(\"chunk\"),\n",
        "                 F.expr(\"cols['1']['entity']\").alias(\"ner_label\")).show(truncate=False)"
      ],
      "metadata": {
        "colab": {
          "base_uri": "https://localhost:8080/"
        },
        "id": "kBljcOIT4hUf",
        "outputId": "1ede8e36-e91c-4d29-a770-06d36966f338"
      },
      "execution_count": null,
      "outputs": [
        {
          "output_type": "stream",
          "name": "stdout",
          "text": [
            "+------------+---------+\n",
            "|chunk       |ner_label|\n",
            "+------------+---------+\n",
            "|11 مايو 1999|DATE     |\n",
            "|فاطمة علي   |DOCTOR   |\n",
            "|456،        |ZIP      |\n",
            "|القاهرة     |CITY     |\n",
            "|67890       |ZIP      |\n",
            "|مصر         |COUNTRY  |\n",
            "|محمد صلاح   |DOCTOR   |\n",
            "|42          |AGE      |\n",
            "+------------+---------+\n",
            "\n"
          ]
        }
      ]
    },
    {
      "cell_type": "markdown",
      "source": [
        "Results for `ner_deid_generic`"
      ],
      "metadata": {
        "id": "oZEFwlZD4s-B"
      }
    },
    {
      "cell_type": "code",
      "source": [
        "result_ar.select(F.explode(F.arrays_zip(result_ar.ner_chunk_generic.result, result_ar.ner_chunk_generic.metadata)).alias(\"cols\")) \\\n",
        "         .select(F.expr(\"cols['0']\").alias(\"chunk\"),\n",
        "                 F.expr(\"cols['1']['entity']\").alias(\"ner_label\")).show(truncate=False)"
      ],
      "metadata": {
        "colab": {
          "base_uri": "https://localhost:8080/"
        },
        "id": "Ox4foe1o4tW8",
        "outputId": "c618b1fd-61fd-4b5b-81c9-d879dffed64e"
      },
      "execution_count": null,
      "outputs": [
        {
          "output_type": "stream",
          "name": "stdout",
          "text": [
            "+------------+---------+\n",
            "|chunk       |ner_label|\n",
            "+------------+---------+\n",
            "|11 مايو 1999|DATE     |\n",
            "|فاطمة علي   |NAME     |\n",
            "|شارع الحرية،|LOCATION |\n",
            "|القاهرة     |LOCATION |\n",
            "|67890       |LOCATION |\n",
            "|مصر         |LOCATION |\n",
            "|محمد صلاح   |NAME     |\n",
            "+------------+---------+\n",
            "\n"
          ]
        }
      ]
    }
  ],
  "metadata": {
    "colab": {
      "provenance": [],
      "toc_visible": true,
      "machine_shape": "hm",
      "gpuType": "T4"
    },
    "kernelspec": {
      "display_name": "Python 3",
      "name": "python3"
    },
    "language_info": {
      "name": "python"
    },
    "accelerator": "GPU"
  },
  "nbformat": 4,
  "nbformat_minor": 0
}
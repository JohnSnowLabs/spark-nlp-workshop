{
 "cells": [
  {
   "cell_type": "markdown",
   "metadata": {},
   "source": [
    "# Smoking Status Classification\n",
    "\n",
    "Spark NLP v 2.4.5\n",
    "\n",
    "Spark NLP-JSL v 2.4.6"
   ]
  },
  {
   "cell_type": "code",
   "execution_count": 1,
   "metadata": {},
   "outputs": [],
   "source": [
    "import os\n",
    "\n",
    "from sparknlp.annotator import *\n",
    "from sparknlp_jsl.annotator import *\n",
    "from sparknlp.base import *\n",
    "from sparknlp.common import *\n",
    "import sparknlp_jsl\n",
    "spark = sparknlp_jsl.start('xxx')"
   ]
  },
  {
   "cell_type": "code",
   "execution_count": 2,
   "metadata": {},
   "outputs": [],
   "source": [
    "import xmltodict\n",
    "\n",
    "with open('data/smoker/smokers_surrogate_test_all_groundtruth_version2.xml', 'r') as f:\n",
    "    text = f.read()\n",
    "    \n",
    "xml = xmltodict.parse(text)"
   ]
  },
  {
   "cell_type": "code",
   "execution_count": 13,
   "metadata": {},
   "outputs": [
    {
     "data": {
      "text/plain": [
       "odict_keys(['@ID', 'SMOKING', 'TEXT'])"
      ]
     },
     "execution_count": 13,
     "metadata": {},
     "output_type": "execute_result"
    }
   ],
   "source": [
    "xml['ROOT']['RECORD'][0].keys()"
   ]
  },
  {
   "cell_type": "code",
   "execution_count": null,
   "metadata": {},
   "outputs": [],
   "source": [
    "xml['ROOT']['RECORD'][0]['TEXT']"
   ]
  },
  {
   "cell_type": "code",
   "execution_count": 14,
   "metadata": {},
   "outputs": [
    {
     "data": {
      "text/plain": [
       "104"
      ]
     },
     "execution_count": 14,
     "metadata": {},
     "output_type": "execute_result"
    }
   ],
   "source": [
    "len(xml['ROOT']['RECORD'])"
   ]
  },
  {
   "cell_type": "code",
   "execution_count": 3,
   "metadata": {},
   "outputs": [
    {
     "data": {
      "text/plain": [
       "UNKNOWN           63\n",
       "NON-SMOKER        16\n",
       "CURRENT SMOKER    11\n",
       "PAST SMOKER       11\n",
       "SMOKER             3\n",
       "Name: label, dtype: int64"
      ]
     },
     "execution_count": 3,
     "metadata": {},
     "output_type": "execute_result"
    }
   ],
   "source": [
    "import pandas as pd\n",
    "\n",
    "test_df = pd.DataFrame([(t['TEXT'],t['SMOKING']['@STATUS']) for t in xml['ROOT']['RECORD']], columns = ['text','label'])\n",
    "test_df.label.value_counts()"
   ]
  },
  {
   "cell_type": "code",
   "execution_count": 4,
   "metadata": {},
   "outputs": [],
   "source": [
    "import xmltodict\n",
    "\n",
    "with open('data/smoker/smokers_surrogate_train_all_version2.xml', 'r') as f:\n",
    "    text = f.read()\n",
    "    \n",
    "xml = xmltodict.parse(text)"
   ]
  },
  {
   "cell_type": "code",
   "execution_count": 5,
   "metadata": {},
   "outputs": [
    {
     "data": {
      "text/plain": [
       "UNKNOWN           252\n",
       "NON-SMOKER         66\n",
       "PAST SMOKER        36\n",
       "CURRENT SMOKER     35\n",
       "SMOKER              9\n",
       "Name: label, dtype: int64"
      ]
     },
     "execution_count": 5,
     "metadata": {},
     "output_type": "execute_result"
    }
   ],
   "source": [
    "train_df = pd.DataFrame([(t['TEXT'],t['SMOKING']['@STATUS']) for t in xml['ROOT']['RECORD']], columns = ['text','label'])\n",
    "train_df.label.value_counts()"
   ]
  },
  {
   "cell_type": "code",
   "execution_count": 6,
   "metadata": {},
   "outputs": [
    {
     "name": "stdout",
     "output_type": "stream",
     "text": [
      "123547445\n",
      "FIH\n",
      "7111426\n",
      "47933/f911\n",
      "557344\n",
      "11/19/1994 12:00:00 AM\n",
      "Discharge Summary\n",
      "Unsigned\n",
      "DIS\n",
      "Report\n"
     ]
    }
   ],
   "source": [
    "print (train_df[train_df.label=='PAST SMOKER']['text'].values[0][:100])"
   ]
  },
  {
   "cell_type": "code",
   "execution_count": 7,
   "metadata": {},
   "outputs": [
    {
     "data": {
      "text/html": [
       "<div>\n",
       "<style scoped>\n",
       "    .dataframe tbody tr th:only-of-type {\n",
       "        vertical-align: middle;\n",
       "    }\n",
       "\n",
       "    .dataframe tbody tr th {\n",
       "        vertical-align: top;\n",
       "    }\n",
       "\n",
       "    .dataframe thead th {\n",
       "        text-align: right;\n",
       "    }\n",
       "</style>\n",
       "<table border=\"1\" class=\"dataframe\">\n",
       "  <thead>\n",
       "    <tr style=\"text-align: right;\">\n",
       "      <th></th>\n",
       "      <th>text</th>\n",
       "      <th>label</th>\n",
       "    </tr>\n",
       "  </thead>\n",
       "  <tbody>\n",
       "    <tr>\n",
       "      <th>0</th>\n",
       "      <td>977146916\\nHLGMC\\n2878891\\n022690\\n01/27/1997 ...</td>\n",
       "      <td>CURRENT SMOKER</td>\n",
       "    </tr>\n",
       "    <tr>\n",
       "      <th>1</th>\n",
       "      <td>026738007\\nCMC\\n15319689\\n3/25/1998 12:00:00 A...</td>\n",
       "      <td>CURRENT SMOKER</td>\n",
       "    </tr>\n",
       "    <tr>\n",
       "      <th>2</th>\n",
       "      <td>071962960\\nBH\\n4236518\\n417454\\n12/10/2001 12:...</td>\n",
       "      <td>CURRENT SMOKER</td>\n",
       "    </tr>\n",
       "    <tr>\n",
       "      <th>3</th>\n",
       "      <td>418520250\\nNVH\\n61562872\\n3/11/1995 12:00:00 A...</td>\n",
       "      <td>CURRENT SMOKER</td>\n",
       "    </tr>\n",
       "    <tr>\n",
       "      <th>4</th>\n",
       "      <td>301443520\\nCTMC\\n49020928\\n448922\\n1/11/1990 1...</td>\n",
       "      <td>CURRENT SMOKER</td>\n",
       "    </tr>\n",
       "  </tbody>\n",
       "</table>\n",
       "</div>"
      ],
      "text/plain": [
       "                                                text           label\n",
       "0  977146916\\nHLGMC\\n2878891\\n022690\\n01/27/1997 ...  CURRENT SMOKER\n",
       "1  026738007\\nCMC\\n15319689\\n3/25/1998 12:00:00 A...  CURRENT SMOKER\n",
       "2  071962960\\nBH\\n4236518\\n417454\\n12/10/2001 12:...  CURRENT SMOKER\n",
       "3  418520250\\nNVH\\n61562872\\n3/11/1995 12:00:00 A...  CURRENT SMOKER\n",
       "4  301443520\\nCTMC\\n49020928\\n448922\\n1/11/1990 1...  CURRENT SMOKER"
      ]
     },
     "execution_count": 7,
     "metadata": {},
     "output_type": "execute_result"
    }
   ],
   "source": [
    "train_df.head()"
   ]
  },
  {
   "cell_type": "code",
   "execution_count": 8,
   "metadata": {},
   "outputs": [
    {
     "data": {
      "text/html": [
       "<div>\n",
       "<style scoped>\n",
       "    .dataframe tbody tr th:only-of-type {\n",
       "        vertical-align: middle;\n",
       "    }\n",
       "\n",
       "    .dataframe tbody tr th {\n",
       "        vertical-align: top;\n",
       "    }\n",
       "\n",
       "    .dataframe thead th {\n",
       "        text-align: right;\n",
       "    }\n",
       "</style>\n",
       "<table border=\"1\" class=\"dataframe\">\n",
       "  <thead>\n",
       "    <tr style=\"text-align: right;\">\n",
       "      <th></th>\n",
       "      <th>text</th>\n",
       "      <th>label</th>\n",
       "    </tr>\n",
       "  </thead>\n",
       "  <tbody>\n",
       "    <tr>\n",
       "      <th>0</th>\n",
       "      <td>156406283\\nHLGMC\\n7213645\\n64723/51cy\\n5/28/19...</td>\n",
       "      <td>PAST SMOKER</td>\n",
       "    </tr>\n",
       "    <tr>\n",
       "      <th>1</th>\n",
       "      <td>487197293\\nPUOMC\\n2466262\\n408602\\n1976045\\n4/...</td>\n",
       "      <td>CURRENT SMOKER</td>\n",
       "    </tr>\n",
       "    <tr>\n",
       "      <th>2</th>\n",
       "      <td>176318078\\nFIH\\n4189699\\n28872/d70h\\n094756\\n1...</td>\n",
       "      <td>CURRENT SMOKER</td>\n",
       "    </tr>\n",
       "    <tr>\n",
       "      <th>3</th>\n",
       "      <td>245096078\\nFIH\\n9174858\\n12/February\\n997359\\n...</td>\n",
       "      <td>CURRENT SMOKER</td>\n",
       "    </tr>\n",
       "    <tr>\n",
       "      <th>4</th>\n",
       "      <td>237073320\\nFIH\\n9746390\\n797120\\n251605\\n01/26...</td>\n",
       "      <td>CURRENT SMOKER</td>\n",
       "    </tr>\n",
       "  </tbody>\n",
       "</table>\n",
       "</div>"
      ],
      "text/plain": [
       "                                                text           label\n",
       "0  156406283\\nHLGMC\\n7213645\\n64723/51cy\\n5/28/19...     PAST SMOKER\n",
       "1  487197293\\nPUOMC\\n2466262\\n408602\\n1976045\\n4/...  CURRENT SMOKER\n",
       "2  176318078\\nFIH\\n4189699\\n28872/d70h\\n094756\\n1...  CURRENT SMOKER\n",
       "3  245096078\\nFIH\\n9174858\\n12/February\\n997359\\n...  CURRENT SMOKER\n",
       "4  237073320\\nFIH\\n9746390\\n797120\\n251605\\n01/26...  CURRENT SMOKER"
      ]
     },
     "execution_count": 8,
     "metadata": {},
     "output_type": "execute_result"
    }
   ],
   "source": [
    "test_df.head()"
   ]
  },
  {
   "cell_type": "code",
   "execution_count": 147,
   "metadata": {},
   "outputs": [
    {
     "name": "stdout",
     "output_type": "stream",
     "text": [
      "156406283\n",
      "HLGMC\n",
      "7213645\n",
      "64723/51cy\n",
      "5/28/1993 12:00:00 AM\n",
      "Discharge Summary\n",
      "Unsigned\n",
      "DIS\n",
      "Report Status :\n",
      "Unsigned\n",
      "ADMISSION DATE :\n",
      "5-28-93\n",
      "DISCHARGE DATE :\n",
      "6-4-93\n",
      "HISTORY OF PRESENT ILLNESS :\n",
      "The patient is a 58 year old right hand dominant white male with a long history of hypertension , changed his medications from Aldomet to Clonidine six weeks ago .\n",
      "The patient has a history of adult onset diabetes mellitus , ankylosing spondylitis , status post myocardial infarction in '96 ( ? ) now with acute onset of left face and arm greater than leg hemiplegia and primary hemisensory loss on the left .\n",
      "Briefly , he was talking to a friend at 5:30 p.m. the day prior to admission , when he had to grab his locker and sit down .\n",
      "His voice became slurred and he had a mild central dull headache .\n",
      "He was unable to move the left side of his body and felt numb on that side .\n",
      "He was taken to Wayskemedcalltown Talmi and transferred to Heaonboburg Linpack Grant Medical Center with a computerized tomography\n"
     ]
    }
   ],
   "source": [
    "print (test_df.text[0][:1000])"
   ]
  },
  {
   "cell_type": "code",
   "execution_count": 7,
   "metadata": {},
   "outputs": [],
   "source": [
    "spark_train_df = spark.createDataFrame(train_df.append(test_df))"
   ]
  },
  {
   "cell_type": "code",
   "execution_count": 8,
   "metadata": {},
   "outputs": [],
   "source": [
    "from pyspark.sql import functions as F\n",
    "\n",
    "# create a monotonically increasing id \n",
    "spark_train_df = spark_train_df.withColumn(\"id\", F.monotonically_increasing_id())\n"
   ]
  },
  {
   "cell_type": "code",
   "execution_count": 9,
   "metadata": {},
   "outputs": [
    {
     "name": "stdout",
     "output_type": "stream",
     "text": [
      "+--------------------+--------------+---+\n",
      "|                text|         label| id|\n",
      "+--------------------+--------------+---+\n",
      "|977146916\n",
      "HLGMC\n",
      "2...|CURRENT SMOKER|  0|\n",
      "+--------------------+--------------+---+\n",
      "only showing top 1 row\n",
      "\n"
     ]
    }
   ],
   "source": [
    "spark_train_df.show(1)"
   ]
  },
  {
   "cell_type": "code",
   "execution_count": 24,
   "metadata": {},
   "outputs": [
    {
     "name": "stdout",
     "output_type": "stream",
     "text": [
      "+--------------+\n",
      "|         label|\n",
      "+--------------+\n",
      "|CURRENT SMOKER|\n",
      "|CURRENT SMOKER|\n",
      "|CURRENT SMOKER|\n",
      "|CURRENT SMOKER|\n",
      "|CURRENT SMOKER|\n",
      "|CURRENT SMOKER|\n",
      "|CURRENT SMOKER|\n",
      "|CURRENT SMOKER|\n",
      "|CURRENT SMOKER|\n",
      "|CURRENT SMOKER|\n",
      "+--------------+\n",
      "only showing top 10 rows\n",
      "\n"
     ]
    }
   ],
   "source": [
    "spark_train_df.select('label').show(10)"
   ]
  },
  {
   "cell_type": "code",
   "execution_count": 25,
   "metadata": {},
   "outputs": [],
   "source": [
    "\n",
    "rules = '''\n",
    "(no|non|not|never|negative)\\W*(smoker|smoking|smoked|tobacco), xxx\n",
    "denies\\W*smoking, xxx\n",
    "nonsmoker, xxx\n",
    "(tobacco|smoke|smoking|nicotine)\\W*(never|no), xxx\n",
    "doesn\\'t smoke, xxx\n",
    "'''\n",
    "\n",
    "with open('data/smoker/smoking_regex_rules.txt', 'w') as f:\n",
    "    \n",
    "    f.write(rules)\n"
   ]
  },
  {
   "cell_type": "code",
   "execution_count": 145,
   "metadata": {},
   "outputs": [
    {
     "data": {
      "text/plain": [
       "'2.4.6'"
      ]
     },
     "execution_count": 145,
     "metadata": {},
     "output_type": "execute_result"
    }
   ],
   "source": [
    "sparknlp_jsl.version()"
   ]
  },
  {
   "cell_type": "code",
   "execution_count": 11,
   "metadata": {},
   "outputs": [],
   "source": [
    "entities = ['smoke', 'secondhand', 'thirdhand', 'pipes',\n",
    "           'cigs', 'tobacco', 'cigarettes', 'cigar', 'cigars',\n",
    "           'tobaco', 'cigarette', 'hookah', 'nutcrackers',\n",
    "            'nicotine','nicotene', 'nicoderm', 'nictoine']\n",
    "\n",
    "with open ('data/smoker/smoker_entities.txt', 'w') as f:\n",
    "    for i in entities:\n",
    "        f.write(i+'\\n')\n"
   ]
  },
  {
   "cell_type": "code",
   "execution_count": 10,
   "metadata": {},
   "outputs": [
    {
     "name": "stdout",
     "output_type": "stream",
     "text": [
      "ner_clinical download started this may take some time.\n",
      "Approximate size to download 13.8 MB\n",
      "[OK!]\n",
      "ner_bionlp download started this may take some time.\n",
      "Approximate size to download 13.9 MB\n",
      "[OK!]\n",
      "ner_posology_large download started this may take some time.\n",
      "Approximate size to download 13.8 MB\n",
      "[OK!]\n",
      "ner_risk_factors download started this may take some time.\n",
      "Approximate size to download 13.9 MB\n",
      "[OK!]\n",
      "ner_cellular download started this may take some time.\n",
      "Approximate size to download 13.9 MB\n",
      "[OK!]\n",
      "Spark NLP pipeline is built\n"
     ]
    }
   ],
   "source": [
    "document = DocumentAssembler()\\\n",
    "    .setInputCol(\"text\")\\\n",
    "    .setOutputCol(\"document\")\n",
    "\n",
    "sentence = SentenceDetector()\\\n",
    "    .setInputCols(['document'])\\\n",
    "    .setOutputCol('sentence')\\\n",
    "    .setCustomBounds(['\\n'])\n",
    "\n",
    "regex_matcher = RegexMatcher()\\\n",
    "    .setInputCols('sentence')\\\n",
    "    .setStrategy(\"MATCH_ALL\")\\\n",
    "    .setOutputCol(\"nonsmoker_regex_matches\")\\\n",
    "    .setExternalRules(path='data/smoker/smoking_regex_rules.txt', delimiter=',')\n",
    "    \n",
    "token = Tokenizer()\\\n",
    "    .setInputCols(['sentence'])\\\n",
    "    .setOutputCol('token')\n",
    "\n",
    "entity_extractor = TextMatcher() \\\n",
    "    .setInputCols([\"sentence\",'token'])\\\n",
    "    .setOutputCol(\"smoker_entities\")\\\n",
    "    .setEntities('data/smoker/smoker_entities.txt')\n",
    "\n",
    "embeddings = WordEmbeddingsModel.pretrained('embeddings_clinical', 'en', 'clinical/models')\\\n",
    "      .setInputCols([\"sentence\", \"token\"])\\\n",
    "      .setOutputCol(\"embeddings\")\n",
    "\n",
    "clinical_ner = NerDLModel.pretrained('ner_clinical', 'en', 'clinical/models')\\\n",
    "      .setInputCols([\"sentence\", \"token\", \"embeddings\"]) \\\n",
    "      .setOutputCol(\"clinical_ner\")\n",
    "\n",
    "clinical_converter = NerConverter()\\\n",
    "  .setInputCols([\"sentence\", \"token\", \"clinical_ner\"])\\\n",
    "  .setOutputCol(\"clinical_ner_chunk\")\n",
    "\n",
    "bionlp_model = NerDLModel.pretrained('ner_bionlp', 'en', 'clinical/models')\\\n",
    "     .setInputCols([\"sentence\", \"token\", \"embeddings\"])\\\n",
    "     .setOutputCol(\"bio_ner\")\n",
    "\n",
    "bionlp_converter = NerConverter()\\\n",
    "  .setInputCols([\"sentence\", \"token\", \"bio_ner\"])\\\n",
    "  .setOutputCol(\"bio_ner_chunk\")\n",
    "                        \n",
    "posology_ner_model = NerDLModel.pretrained('ner_posology_large', 'en', 'clinical/models')\\\n",
    "     .setInputCols([\"sentence\", \"token\", \"embeddings\"])\\\n",
    "     .setOutputCol(\"posology_ner\")\n",
    "                                \n",
    "posology_converter = NerConverter()\\\n",
    "  .setInputCols([\"sentence\", \"token\", \"posology_ner\"])\\\n",
    "  .setOutputCol(\"posology_ner_chunk\")\n",
    "\n",
    "risk_ner_model = NerDLModel.pretrained('ner_risk_factors', 'en', 'clinical/models')\\\n",
    "     .setInputCols([\"sentence\", \"token\", \"embeddings\"])\\\n",
    "     .setOutputCol(\"risk_ner\")\n",
    "                                \n",
    "risk_converter = NerConverter()\\\n",
    "  .setInputCols([\"sentence\", \"token\", \"risk_ner\"])\\\n",
    "  .setOutputCol(\"risk_ner_chunk\")\\\n",
    ".setWhiteList(['SMOKER'])\n",
    "\n",
    "risk_assertion_dl = sparknlp_jsl.annotators.AssertionDLModel.pretrained('assertion_dl', 'en', 'clinical/models')\\\n",
    "  .setInputCols([\"sentence\", \"risk_ner_chunk\", \"embeddings\"])\\\n",
    "  .setOutputCol(\"assertion\")\n",
    "\n",
    "cell_ner_model = NerDLModel.pretrained('ner_cellular', 'en', 'clinical/models')\\\n",
    "     .setInputCols([\"sentence\", \"token\", \"embeddings\"])\\\n",
    "     .setOutputCol(\"cell_ner\")\n",
    "                                \n",
    "cell_converter = NerConverter()\\\n",
    "  .setInputCols([\"sentence\", \"token\", \"cell_ner\"])\\\n",
    "  .setOutputCol(\"cell_ner_chunk\")\n",
    "\n",
    "\n",
    "ner_pipeline = Pipeline(\n",
    "    stages = [\n",
    "        document,\n",
    "        sentence,\n",
    "        regex_matcher,\n",
    "        token,\n",
    "        entity_extractor,\n",
    "        embeddings,\n",
    "        clinical_ner,\n",
    "        clinical_converter,\n",
    "        bionlp_model,\n",
    "        bionlp_converter,\n",
    "        posology_ner_model,\n",
    "        posology_converter,\n",
    "        risk_ner_model,\n",
    "        risk_converter,\n",
    "        risk_assertion_dl,\n",
    "        cell_ner_model,\n",
    "        cell_converter,\n",
    "    ])\n",
    "\n",
    "empty_data = spark.createDataFrame([[\"\"]]).toDF(\"text\")\n",
    "\n",
    "model = ner_pipeline.fit(empty_data)\n",
    "\n",
    "print ('Spark NLP pipeline is built')"
   ]
  },
  {
   "cell_type": "code",
   "execution_count": 11,
   "metadata": {},
   "outputs": [],
   "source": [
    "lm = LightPipeline(model)"
   ]
  },
  {
   "cell_type": "code",
   "execution_count": 14,
   "metadata": {},
   "outputs": [],
   "source": [
    "match_df = model.transform(spark_train_df)"
   ]
  },
  {
   "cell_type": "code",
   "execution_count": null,
   "metadata": {},
   "outputs": [],
   "source": [
    "lm.fullAnnotate(match_df.select('text').take(1)[0][0][:200])"
   ]
  },
  {
   "cell_type": "code",
   "execution_count": null,
   "metadata": {},
   "outputs": [],
   "source": [
    "lm.fullAnnotate('He is a nonsmoker. He quit cigar a year ago')"
   ]
  },
  {
   "cell_type": "code",
   "execution_count": 17,
   "metadata": {},
   "outputs": [],
   "source": [
    "#ann_results = lm.fullAnnotate(list(text_df['text'])[0])"
   ]
  },
  {
   "cell_type": "code",
   "execution_count": 159,
   "metadata": {},
   "outputs": [
    {
     "data": {
      "text/plain": [
       "{'posology_ner': ['O', 'O', 'O', 'O', 'O', 'O', 'O', 'O', 'O', 'O', 'O'],\n",
       " 'document': ['He is a nonsmoker. He quit cigar a year ago'],\n",
       " 'bio_ner': ['O', 'O', 'O', 'O', 'O', 'O', 'O', 'O', 'O', 'O', 'O'],\n",
       " 'posology_ner_chunk': [],\n",
       " 'assertion': ['associated_with_someone_else'],\n",
       " 'bio_ner_chunk': [],\n",
       " 'clinical_ner': ['O', 'O', 'O', 'O', 'O', 'O', 'O', 'O', 'O', 'O', 'O'],\n",
       " 'nonsmoker_regex_matches': ['nonsmoker', 'nonsmoker'],\n",
       " 'token': ['He',\n",
       "  'is',\n",
       "  'a',\n",
       "  'nonsmoker',\n",
       "  '.',\n",
       "  'He',\n",
       "  'quit',\n",
       "  'cigar',\n",
       "  'a',\n",
       "  'year',\n",
       "  'ago'],\n",
       " 'clinical_ner_chunk': [],\n",
       " 'embeddings': ['He',\n",
       "  'is',\n",
       "  'a',\n",
       "  'nonsmoker',\n",
       "  '.',\n",
       "  'He',\n",
       "  'quit',\n",
       "  'cigar',\n",
       "  'a',\n",
       "  'year',\n",
       "  'ago'],\n",
       " 'risk_ner': ['O',\n",
       "  'O',\n",
       "  'O',\n",
       "  'B-SMOKER',\n",
       "  'I-SMOKER',\n",
       "  'O',\n",
       "  'O',\n",
       "  'O',\n",
       "  'O',\n",
       "  'O',\n",
       "  'O'],\n",
       " 'risk_ner_chunk': ['nonsmoker.'],\n",
       " 'smoker_entities': ['cigar'],\n",
       " 'cell_ner_chunk': [],\n",
       " 'cell_ner': ['O', 'O', 'O', 'O', 'O', 'O', 'O', 'O', 'O', 'O', 'O'],\n",
       " 'sentence': ['He is a nonsmoker.', 'He quit cigar a year ago']}"
      ]
     },
     "execution_count": 159,
     "metadata": {},
     "output_type": "execute_result"
    }
   ],
   "source": [
    "lm.annotate('He is a nonsmoker. He quit cigar a year ago')"
   ]
  },
  {
   "cell_type": "code",
   "execution_count": null,
   "metadata": {},
   "outputs": [],
   "source": [
    "match_df.select('text').take(1)"
   ]
  },
  {
   "cell_type": "code",
   "execution_count": null,
   "metadata": {},
   "outputs": [],
   "source": [
    "match_df.show(2)"
   ]
  },
  {
   "cell_type": "code",
   "execution_count": 166,
   "metadata": {},
   "outputs": [
    {
     "data": {
      "text/plain": [
       "[Row(metadata=[{'sentence': '0', 'chunk': '0'}])]"
      ]
     },
     "execution_count": 166,
     "metadata": {},
     "output_type": "execute_result"
    }
   ],
   "source": [
    "match_df.select(\"smoker_entities.metadata\").take(1)"
   ]
  },
  {
   "cell_type": "code",
   "execution_count": null,
   "metadata": {},
   "outputs": [],
   "source": [
    "match_df.select('sentence').take(1)"
   ]
  },
  {
   "cell_type": "code",
   "execution_count": 92,
   "metadata": {},
   "outputs": [
    {
     "name": "stdout",
     "output_type": "stream",
     "text": [
      "+---+--------------+------+------+-------+\n",
      "| id|         label|result|result| result|\n",
      "+---+--------------+------+------+-------+\n",
      "|  0|CURRENT SMOKER|    []|    []|[cigar]|\n",
      "|  1|CURRENT SMOKER|    []|    []|     []|\n",
      "|  2|CURRENT SMOKER|    []|    []|     []|\n",
      "+---+--------------+------+------+-------+\n",
      "only showing top 3 rows\n",
      "\n"
     ]
    }
   ],
   "source": [
    "match_df.select('id','label','assertion.result', 'nonsmoker_regex_matches.result', 'smoker_entities.result').show(3)"
   ]
  },
  {
   "cell_type": "code",
   "execution_count": 93,
   "metadata": {},
   "outputs": [],
   "source": [
    "from pyspark.sql import functions as F \n",
    "\n",
    "pandas_df = match_df.select('id','label','nonsmoker_regex_matches','smoker_entities','assertion',\n",
    "                F.explode(F.arrays_zip('clinical_ner_chunk.result',\"clinical_ner_chunk.metadata\",\n",
    "                                                    'bio_ner_chunk.result',\"bio_ner_chunk.metadata\",\n",
    "                                                    'posology_ner_chunk.result',\"posology_ner_chunk.metadata\",\n",
    "                                                    'risk_ner_chunk.result',\"risk_ner_chunk.metadata\",\n",
    "                                                    'cell_ner_chunk.result',\"cell_ner_chunk.metadata\",\n",
    "                                      )).alias(\"cols\")) \\\n",
    "    .select('id','label','nonsmoker_regex_matches.result','smoker_entities.result','assertion.result',\n",
    "            F.expr(\"cols['0']\").alias(\"clinical_token\"),\n",
    "            F.expr(\"cols['1'].entity\").alias(\"clinical_entity\"),\n",
    "            F.expr(\"cols['2']\").alias(\"bionlp_token\"),\n",
    "            F.expr(\"cols['3'].entity\").alias(\"bionlp_entity\"),\n",
    "            F.expr(\"cols['4']\").alias(\"posology_token\"),\n",
    "           F.expr(\"cols['5'].entity\").alias(\"posology_entity\"),\n",
    "             F.expr(\"cols['6']\").alias(\"risk_token\"),\n",
    "            F.expr(\"cols['7'].entity\").alias(\"risk_entity\"),\n",
    "            F.expr(\"cols['8']\").alias(\"cell_token\"),\n",
    "           F.expr(\"cols['9'].entity\").alias(\"cell_entity\")).toPandas()"
   ]
  },
  {
   "cell_type": "code",
   "execution_count": 95,
   "metadata": {},
   "outputs": [
    {
     "data": {
      "text/html": [
       "<div>\n",
       "<style scoped>\n",
       "    .dataframe tbody tr th:only-of-type {\n",
       "        vertical-align: middle;\n",
       "    }\n",
       "\n",
       "    .dataframe tbody tr th {\n",
       "        vertical-align: top;\n",
       "    }\n",
       "\n",
       "    .dataframe thead th {\n",
       "        text-align: right;\n",
       "    }\n",
       "</style>\n",
       "<table border=\"1\" class=\"dataframe\">\n",
       "  <thead>\n",
       "    <tr style=\"text-align: right;\">\n",
       "      <th></th>\n",
       "      <th>id</th>\n",
       "      <th>label</th>\n",
       "      <th>result</th>\n",
       "      <th>result</th>\n",
       "      <th>result</th>\n",
       "      <th>clinical_token</th>\n",
       "      <th>clinical_entity</th>\n",
       "      <th>bionlp_token</th>\n",
       "      <th>bionlp_entity</th>\n",
       "      <th>posology_token</th>\n",
       "      <th>posology_entity</th>\n",
       "      <th>risk_token</th>\n",
       "      <th>risk_entity</th>\n",
       "      <th>cell_token</th>\n",
       "      <th>cell_entity</th>\n",
       "    </tr>\n",
       "  </thead>\n",
       "  <tbody>\n",
       "    <tr>\n",
       "      <th>0</th>\n",
       "      <td>0</td>\n",
       "      <td>CURRENT SMOKER</td>\n",
       "      <td>[]</td>\n",
       "      <td>[cigar]</td>\n",
       "      <td>[]</td>\n",
       "      <td>CARCINOMA</td>\n",
       "      <td>PROBLEM</td>\n",
       "      <td>HLGMC</td>\n",
       "      <td>Cell</td>\n",
       "      <td>ARF32 FA</td>\n",
       "      <td>DRUG</td>\n",
       "      <td>None</td>\n",
       "      <td>None</td>\n",
       "      <td>HLGMC</td>\n",
       "      <td>cell_line</td>\n",
       "    </tr>\n",
       "    <tr>\n",
       "      <th>1</th>\n",
       "      <td>0</td>\n",
       "      <td>CURRENT SMOKER</td>\n",
       "      <td>[]</td>\n",
       "      <td>[cigar]</td>\n",
       "      <td>[]</td>\n",
       "      <td>Carcinoma of the colon</td>\n",
       "      <td>PROBLEM</td>\n",
       "      <td>ARF32</td>\n",
       "      <td>Gene_or_gene_product</td>\n",
       "      <td>GIRRESNET</td>\n",
       "      <td>DRUG</td>\n",
       "      <td>None</td>\n",
       "      <td>None</td>\n",
       "      <td>DIS</td>\n",
       "      <td>DNA</td>\n",
       "    </tr>\n",
       "    <tr>\n",
       "      <th>2</th>\n",
       "      <td>0</td>\n",
       "      <td>CURRENT SMOKER</td>\n",
       "      <td>[]</td>\n",
       "      <td>[cigar]</td>\n",
       "      <td>[]</td>\n",
       "      <td>Urinary tract infection</td>\n",
       "      <td>PROBLEM</td>\n",
       "      <td>FA</td>\n",
       "      <td>Organism_substance</td>\n",
       "      <td>liter</td>\n",
       "      <td>DOSAGE</td>\n",
       "      <td>None</td>\n",
       "      <td>None</td>\n",
       "      <td>ARF32 FA</td>\n",
       "      <td>DNA</td>\n",
       "    </tr>\n",
       "    <tr>\n",
       "      <th>3</th>\n",
       "      <td>0</td>\n",
       "      <td>CURRENT SMOKER</td>\n",
       "      <td>[]</td>\n",
       "      <td>[cigar]</td>\n",
       "      <td>[]</td>\n",
       "      <td>cirrhosis of the liver</td>\n",
       "      <td>PROBLEM</td>\n",
       "      <td>NAME</td>\n",
       "      <td>Simple_chemical</td>\n",
       "      <td>normal saline</td>\n",
       "      <td>DRUG</td>\n",
       "      <td>None</td>\n",
       "      <td>None</td>\n",
       "      <td>GIRRESNET</td>\n",
       "      <td>DNA</td>\n",
       "    </tr>\n",
       "    <tr>\n",
       "      <th>4</th>\n",
       "      <td>0</td>\n",
       "      <td>CURRENT SMOKER</td>\n",
       "      <td>[]</td>\n",
       "      <td>[cigar]</td>\n",
       "      <td>[]</td>\n",
       "      <td>colon cancer</td>\n",
       "      <td>PROBLEM</td>\n",
       "      <td>DIEDREO A</td>\n",
       "      <td>Gene_or_gene_product</td>\n",
       "      <td>thiamine</td>\n",
       "      <td>DRUG</td>\n",
       "      <td>None</td>\n",
       "      <td>None</td>\n",
       "      <td>DIEDREO A</td>\n",
       "      <td>DNA</td>\n",
       "    </tr>\n",
       "  </tbody>\n",
       "</table>\n",
       "</div>"
      ],
      "text/plain": [
       "   id           label result   result result           clinical_token  \\\n",
       "0   0  CURRENT SMOKER     []  [cigar]     []                CARCINOMA   \n",
       "1   0  CURRENT SMOKER     []  [cigar]     []   Carcinoma of the colon   \n",
       "2   0  CURRENT SMOKER     []  [cigar]     []  Urinary tract infection   \n",
       "3   0  CURRENT SMOKER     []  [cigar]     []   cirrhosis of the liver   \n",
       "4   0  CURRENT SMOKER     []  [cigar]     []             colon cancer   \n",
       "\n",
       "  clinical_entity bionlp_token         bionlp_entity posology_token  \\\n",
       "0         PROBLEM        HLGMC                  Cell       ARF32 FA   \n",
       "1         PROBLEM        ARF32  Gene_or_gene_product      GIRRESNET   \n",
       "2         PROBLEM           FA    Organism_substance          liter   \n",
       "3         PROBLEM         NAME       Simple_chemical  normal saline   \n",
       "4         PROBLEM    DIEDREO A  Gene_or_gene_product       thiamine   \n",
       "\n",
       "  posology_entity risk_token risk_entity cell_token cell_entity  \n",
       "0            DRUG       None        None      HLGMC   cell_line  \n",
       "1            DRUG       None        None        DIS         DNA  \n",
       "2          DOSAGE       None        None   ARF32 FA         DNA  \n",
       "3            DRUG       None        None  GIRRESNET         DNA  \n",
       "4            DRUG       None        None  DIEDREO A         DNA  "
      ]
     },
     "execution_count": 95,
     "metadata": {},
     "output_type": "execute_result"
    }
   ],
   "source": [
    "pandas_df.head()"
   ]
  },
  {
   "cell_type": "code",
   "execution_count": 102,
   "metadata": {},
   "outputs": [],
   "source": [
    "\n",
    "pandas_df.to_pickle('data/smoker_features_df.pickle')"
   ]
  },
  {
   "cell_type": "code",
   "execution_count": 50,
   "metadata": {},
   "outputs": [],
   "source": [
    "import pandas as pd\n",
    "\n",
    "pandas_df= pd.read_pickle('data/smoker_features_df.pickle')"
   ]
  },
  {
   "cell_type": "code",
   "execution_count": 97,
   "metadata": {},
   "outputs": [
    {
     "data": {
      "text/plain": [
       "Index(['id', 'label', 'result', 'result', 'result', 'clinical_token',\n",
       "       'clinical_entity', 'bionlp_token', 'bionlp_entity', 'posology_token',\n",
       "       'posology_entity', 'risk_token', 'risk_entity', 'cell_token',\n",
       "       'cell_entity'],\n",
       "      dtype='object')"
      ]
     },
     "execution_count": 97,
     "metadata": {},
     "output_type": "execute_result"
    }
   ],
   "source": [
    "pandas_df.columns"
   ]
  },
  {
   "cell_type": "code",
   "execution_count": null,
   "metadata": {},
   "outputs": [],
   "source": []
  },
  {
   "cell_type": "code",
   "execution_count": 98,
   "metadata": {},
   "outputs": [],
   "source": [
    "pandas_df.columns = ['id', 'label', 'nonsmoker_regex_matches', 'smoker_entities', 'assertion', 'clinical_token',\n",
    "       'clinical_entity', 'bionlp_token', 'bionlp_entity', 'posology_token',\n",
    "       'posology_entity', 'risk_token', 'risk_entity', 'cell_token',\n",
    "       'cell_entity']"
   ]
  },
  {
   "cell_type": "code",
   "execution_count": 99,
   "metadata": {},
   "outputs": [
    {
     "data": {
      "text/plain": [
       "(44504, 15)"
      ]
     },
     "execution_count": 99,
     "metadata": {},
     "output_type": "execute_result"
    }
   ],
   "source": [
    "pandas_df.shape"
   ]
  },
  {
   "cell_type": "code",
   "execution_count": 100,
   "metadata": {},
   "outputs": [
    {
     "data": {
      "text/html": [
       "<div>\n",
       "<style scoped>\n",
       "    .dataframe tbody tr th:only-of-type {\n",
       "        vertical-align: middle;\n",
       "    }\n",
       "\n",
       "    .dataframe tbody tr th {\n",
       "        vertical-align: top;\n",
       "    }\n",
       "\n",
       "    .dataframe thead th {\n",
       "        text-align: right;\n",
       "    }\n",
       "</style>\n",
       "<table border=\"1\" class=\"dataframe\">\n",
       "  <thead>\n",
       "    <tr style=\"text-align: right;\">\n",
       "      <th></th>\n",
       "      <th>id</th>\n",
       "      <th>label</th>\n",
       "      <th>nonsmoker_regex_matches</th>\n",
       "      <th>smoker_entities</th>\n",
       "      <th>assertion</th>\n",
       "      <th>clinical_token</th>\n",
       "      <th>clinical_entity</th>\n",
       "      <th>bionlp_token</th>\n",
       "      <th>bionlp_entity</th>\n",
       "      <th>posology_token</th>\n",
       "      <th>posology_entity</th>\n",
       "      <th>risk_token</th>\n",
       "      <th>risk_entity</th>\n",
       "      <th>cell_token</th>\n",
       "      <th>cell_entity</th>\n",
       "    </tr>\n",
       "  </thead>\n",
       "  <tbody>\n",
       "    <tr>\n",
       "      <th>0</th>\n",
       "      <td>0</td>\n",
       "      <td>CURRENT SMOKER</td>\n",
       "      <td>[]</td>\n",
       "      <td>[cigar]</td>\n",
       "      <td>[]</td>\n",
       "      <td>CARCINOMA</td>\n",
       "      <td>PROBLEM</td>\n",
       "      <td>HLGMC</td>\n",
       "      <td>Cell</td>\n",
       "      <td>ARF32 FA</td>\n",
       "      <td>DRUG</td>\n",
       "      <td>None</td>\n",
       "      <td>None</td>\n",
       "      <td>HLGMC</td>\n",
       "      <td>cell_line</td>\n",
       "    </tr>\n",
       "    <tr>\n",
       "      <th>1</th>\n",
       "      <td>0</td>\n",
       "      <td>CURRENT SMOKER</td>\n",
       "      <td>[]</td>\n",
       "      <td>[cigar]</td>\n",
       "      <td>[]</td>\n",
       "      <td>Carcinoma of the colon</td>\n",
       "      <td>PROBLEM</td>\n",
       "      <td>ARF32</td>\n",
       "      <td>Gene_or_gene_product</td>\n",
       "      <td>GIRRESNET</td>\n",
       "      <td>DRUG</td>\n",
       "      <td>None</td>\n",
       "      <td>None</td>\n",
       "      <td>DIS</td>\n",
       "      <td>DNA</td>\n",
       "    </tr>\n",
       "    <tr>\n",
       "      <th>2</th>\n",
       "      <td>0</td>\n",
       "      <td>CURRENT SMOKER</td>\n",
       "      <td>[]</td>\n",
       "      <td>[cigar]</td>\n",
       "      <td>[]</td>\n",
       "      <td>Urinary tract infection</td>\n",
       "      <td>PROBLEM</td>\n",
       "      <td>FA</td>\n",
       "      <td>Organism_substance</td>\n",
       "      <td>liter</td>\n",
       "      <td>DOSAGE</td>\n",
       "      <td>None</td>\n",
       "      <td>None</td>\n",
       "      <td>ARF32 FA</td>\n",
       "      <td>DNA</td>\n",
       "    </tr>\n",
       "    <tr>\n",
       "      <th>3</th>\n",
       "      <td>0</td>\n",
       "      <td>CURRENT SMOKER</td>\n",
       "      <td>[]</td>\n",
       "      <td>[cigar]</td>\n",
       "      <td>[]</td>\n",
       "      <td>cirrhosis of the liver</td>\n",
       "      <td>PROBLEM</td>\n",
       "      <td>NAME</td>\n",
       "      <td>Simple_chemical</td>\n",
       "      <td>normal saline</td>\n",
       "      <td>DRUG</td>\n",
       "      <td>None</td>\n",
       "      <td>None</td>\n",
       "      <td>GIRRESNET</td>\n",
       "      <td>DNA</td>\n",
       "    </tr>\n",
       "    <tr>\n",
       "      <th>4</th>\n",
       "      <td>0</td>\n",
       "      <td>CURRENT SMOKER</td>\n",
       "      <td>[]</td>\n",
       "      <td>[cigar]</td>\n",
       "      <td>[]</td>\n",
       "      <td>colon cancer</td>\n",
       "      <td>PROBLEM</td>\n",
       "      <td>DIEDREO A</td>\n",
       "      <td>Gene_or_gene_product</td>\n",
       "      <td>thiamine</td>\n",
       "      <td>DRUG</td>\n",
       "      <td>None</td>\n",
       "      <td>None</td>\n",
       "      <td>DIEDREO A</td>\n",
       "      <td>DNA</td>\n",
       "    </tr>\n",
       "  </tbody>\n",
       "</table>\n",
       "</div>"
      ],
      "text/plain": [
       "   id           label nonsmoker_regex_matches smoker_entities assertion  \\\n",
       "0   0  CURRENT SMOKER                      []         [cigar]        []   \n",
       "1   0  CURRENT SMOKER                      []         [cigar]        []   \n",
       "2   0  CURRENT SMOKER                      []         [cigar]        []   \n",
       "3   0  CURRENT SMOKER                      []         [cigar]        []   \n",
       "4   0  CURRENT SMOKER                      []         [cigar]        []   \n",
       "\n",
       "            clinical_token clinical_entity bionlp_token         bionlp_entity  \\\n",
       "0                CARCINOMA         PROBLEM        HLGMC                  Cell   \n",
       "1   Carcinoma of the colon         PROBLEM        ARF32  Gene_or_gene_product   \n",
       "2  Urinary tract infection         PROBLEM           FA    Organism_substance   \n",
       "3   cirrhosis of the liver         PROBLEM         NAME       Simple_chemical   \n",
       "4             colon cancer         PROBLEM    DIEDREO A  Gene_or_gene_product   \n",
       "\n",
       "  posology_token posology_entity risk_token risk_entity cell_token cell_entity  \n",
       "0       ARF32 FA            DRUG       None        None      HLGMC   cell_line  \n",
       "1      GIRRESNET            DRUG       None        None        DIS         DNA  \n",
       "2          liter          DOSAGE       None        None   ARF32 FA         DNA  \n",
       "3  normal saline            DRUG       None        None  GIRRESNET         DNA  \n",
       "4       thiamine            DRUG       None        None  DIEDREO A         DNA  "
      ]
     },
     "execution_count": 100,
     "metadata": {},
     "output_type": "execute_result"
    }
   ],
   "source": [
    "pandas_df.head()"
   ]
  },
  {
   "cell_type": "code",
   "execution_count": 101,
   "metadata": {},
   "outputs": [
    {
     "data": {
      "text/plain": [
       "[]                                      34696\n",
       "[present]                                7576\n",
       "[absent]                                 1302\n",
       "[present, present]                        518\n",
       "[present, present, present, present]      180\n",
       "[absent, absent]                          138\n",
       "[associated_with_someone_else]             94\n",
       "Name: assertion, dtype: int64"
      ]
     },
     "execution_count": 101,
     "metadata": {},
     "output_type": "execute_result"
    }
   ],
   "source": [
    "pandas_df.assertion.value_counts()"
   ]
  },
  {
   "cell_type": "code",
   "execution_count": 103,
   "metadata": {},
   "outputs": [
    {
     "data": {
      "text/plain": [
       "2192"
      ]
     },
     "execution_count": 103,
     "metadata": {},
     "output_type": "execute_result"
    }
   ],
   "source": [
    "pandas_df.nonsmoker_regex_matches.apply(lambda x: 1 if len(x)>0 else 0).sum()"
   ]
  },
  {
   "cell_type": "code",
   "execution_count": 104,
   "metadata": {},
   "outputs": [
    {
     "data": {
      "text/plain": [
       "3398"
      ]
     },
     "execution_count": 104,
     "metadata": {},
     "output_type": "execute_result"
    }
   ],
   "source": [
    "pandas_df.nonsmoker_regex_matches.apply(lambda x: len(x)).sum()"
   ]
  },
  {
   "cell_type": "code",
   "execution_count": 105,
   "metadata": {},
   "outputs": [
    {
     "data": {
      "text/plain": [
       "{'present': 9332, 'absent': 1578, 'associated_with_someone_else': 94}"
      ]
     },
     "execution_count": 105,
     "metadata": {},
     "output_type": "execute_result"
    }
   ],
   "source": [
    "#assertion_scores = {'absent':}\n",
    "\n",
    "from collections import Counter\n",
    "\n",
    "def get_assertion_stats(ass):\n",
    "    \n",
    "    ass_list =[]\n",
    "    \n",
    "    for s in ass:\n",
    "        \n",
    "        ass_list.extend(s)\n",
    "    \n",
    "    x = dict(Counter(ass))\n",
    "    \n",
    "    \n",
    "    return x\n",
    "    \n",
    "adf = pandas_df.assertion.apply(lambda x: get_assertion_stats(x)).value_counts().reset_index()\n",
    "\n",
    "dic = {'present':0,\n",
    "'absent':0,\n",
    "'associated_with_someone_else':0}\n",
    "\n",
    "for i,row in adf.iterrows():\n",
    "    try:\n",
    "        k = list(row['index'].keys())[0]\n",
    "        dic[k]= dic[k]+row['index'][k]*row['assertion']\n",
    "    except:\n",
    "        pass\n",
    "    \n",
    "dic"
   ]
  },
  {
   "cell_type": "code",
   "execution_count": 106,
   "metadata": {},
   "outputs": [
    {
     "data": {
      "text/plain": [
       "{}                                     34696\n",
       "{'present': 1}                          7576\n",
       "{'absent': 1}                           1302\n",
       "{'present': 2}                           518\n",
       "{'present': 4}                           180\n",
       "{'absent': 2}                            138\n",
       "{'associated_with_someone_else': 1}       94\n",
       "Name: assertion, dtype: int64"
      ]
     },
     "execution_count": 106,
     "metadata": {},
     "output_type": "execute_result"
    }
   ],
   "source": [
    "pandas_df.assertion.apply(lambda x: get_assertion_stats(x)).value_counts()"
   ]
  },
  {
   "cell_type": "code",
   "execution_count": null,
   "metadata": {},
   "outputs": [],
   "source": [
    "#{k: x.get(k, 0) + y.get(k, 0) for k in set(x) | set(y)}"
   ]
  },
  {
   "cell_type": "code",
   "execution_count": 107,
   "metadata": {},
   "outputs": [],
   "source": [
    "pandas_df.nonsmoker_regex_matches = pandas_df.nonsmoker_regex_matches.apply(lambda x: len(x))\n",
    "pandas_df.smoker_entities = pandas_df.smoker_entities.apply(lambda x: len(x))"
   ]
  },
  {
   "cell_type": "code",
   "execution_count": 108,
   "metadata": {},
   "outputs": [
    {
     "data": {
      "text/plain": [
       "0    30556\n",
       "1    12041\n",
       "2     1522\n",
       "3      205\n",
       "7      180\n",
       "Name: smoker_entities, dtype: int64"
      ]
     },
     "execution_count": 108,
     "metadata": {},
     "output_type": "execute_result"
    }
   ],
   "source": [
    "pandas_df.smoker_entities.value_counts()"
   ]
  },
  {
   "cell_type": "code",
   "execution_count": 109,
   "metadata": {},
   "outputs": [
    {
     "data": {
      "text/plain": [
       "0    42312\n",
       "2     1206\n",
       "1      986\n",
       "Name: nonsmoker_regex_matches, dtype: int64"
      ]
     },
     "execution_count": 109,
     "metadata": {},
     "output_type": "execute_result"
    }
   ],
   "source": [
    "pandas_df.nonsmoker_regex_matches.value_counts()"
   ]
  },
  {
   "cell_type": "code",
   "execution_count": 110,
   "metadata": {},
   "outputs": [],
   "source": [
    "#clinical_entity = list(pandas_df.clinical_entity.unique())\n",
    "#bionlp_entity = list(pandas_df.bionlp_entity.unique())\n",
    "#posology_entity = list(pandas_df.posology_entity.unique())\n",
    "#cell_entity = list(pandas_df.cell_entity.unique())\n",
    "#risk_entity = list(pandas_df.risk_entity.unique())\n",
    "\n",
    "pids = pandas_df['id'].unique()\n",
    "\n",
    "parsed_dict = {}\n",
    "\n",
    "#ents = {k:0 for k in clinical_entity+bionlp_entity+posology_entity}\n",
    "\n",
    "\n",
    "xx=[]\n",
    "for i in pids:\n",
    "\n",
    "    temp_dict = pandas_df[pandas_df.id==i]['clinical_entity'].value_counts().to_dict()\n",
    "\n",
    "    temp_dict.update(pandas_df[pandas_df.id==i]['bionlp_entity'].value_counts().to_dict())\n",
    "\n",
    "    temp_dict.update(pandas_df[pandas_df.id==i]['posology_entity'].value_counts().to_dict())\n",
    "    \n",
    "    temp_dict.update(pandas_df[pandas_df.id==i]['cell_entity'].value_counts().to_dict())\n",
    "\n",
    "    temp_dict.update(pandas_df[pandas_df.id==i]['risk_entity'].value_counts().to_dict())\n",
    "    \n",
    "    #temp_dict.update(pandas_df[pandas_df.id==i]['assertion'].apply(lambda x: get_assertion_stats(x)).value_counts())\n",
    "    \n",
    "    adf = pandas_df[pandas_df.id==i]['assertion'].apply(lambda x: get_assertion_stats(x)).value_counts().reset_index()\n",
    "\n",
    "    dic = {'present':0,\n",
    "    'absent':0,\n",
    "    'associated_with_someone_else':0}\n",
    "\n",
    "    for j,row in adf.iterrows():\n",
    "        try:\n",
    "            k = list(row['index'].keys())[0]\n",
    "            dic[k]= dic[k]+row['index'][k]*row['assertion']\n",
    "        except:\n",
    "            pass\n",
    "    \n",
    "    \n",
    "    temp_dict.update(dic)\n",
    "\n",
    "    temp_dict['smoker_entities'] = pandas_df[pandas_df.id==i]['smoker_entities'].sum()\n",
    "    \n",
    "    temp_dict['nonsmoker_regex_matches'] = pandas_df[pandas_df.id==i]['nonsmoker_regex_matches'].sum()\n",
    "        \n",
    "    temp_dict['id']=i\n",
    "\n",
    "    xx.append(temp_dict)\n",
    "\n",
    "stats_df = pd.DataFrame(xx)\n",
    "\n",
    "stats_df.columns = ['entity_{}'.format(c) for c in stats_df.columns]\n",
    "\n",
    "stats_df = stats_df.rename(columns={'entity_pid':'pid'})\n"
   ]
  },
  {
   "cell_type": "code",
   "execution_count": 111,
   "metadata": {},
   "outputs": [
    {
     "data": {
      "text/plain": [
       "94"
      ]
     },
     "execution_count": 111,
     "metadata": {},
     "output_type": "execute_result"
    }
   ],
   "source": [
    "stats_df.entity_associated_with_someone_else.sum()"
   ]
  },
  {
   "cell_type": "code",
   "execution_count": 112,
   "metadata": {},
   "outputs": [
    {
     "data": {
      "text/html": [
       "<div>\n",
       "<style scoped>\n",
       "    .dataframe tbody tr th:only-of-type {\n",
       "        vertical-align: middle;\n",
       "    }\n",
       "\n",
       "    .dataframe tbody tr th {\n",
       "        vertical-align: top;\n",
       "    }\n",
       "\n",
       "    .dataframe thead th {\n",
       "        text-align: right;\n",
       "    }\n",
       "</style>\n",
       "<table border=\"1\" class=\"dataframe\">\n",
       "  <thead>\n",
       "    <tr style=\"text-align: right;\">\n",
       "      <th></th>\n",
       "      <th>entity_PROBLEM</th>\n",
       "      <th>entity_TEST</th>\n",
       "      <th>entity_TREATMENT</th>\n",
       "      <th>entity_Simple_chemical</th>\n",
       "      <th>entity_Gene_or_gene_product</th>\n",
       "      <th>entity_Organ</th>\n",
       "      <th>entity_Organism</th>\n",
       "      <th>entity_Organism_subdivision</th>\n",
       "      <th>entity_Cell</th>\n",
       "      <th>entity_Organism_substance</th>\n",
       "      <th>...</th>\n",
       "      <th>entity_DURATION</th>\n",
       "      <th>entity_FORM</th>\n",
       "      <th>entity_Tissue</th>\n",
       "      <th>entity_Cellular_component</th>\n",
       "      <th>entity_Immaterial_anatomical_entity</th>\n",
       "      <th>entity_SMOKER</th>\n",
       "      <th>entity_Anatomical_system</th>\n",
       "      <th>entity_RNA</th>\n",
       "      <th>entity_Amino_acid</th>\n",
       "      <th>entity_Developing_anatomical_structure</th>\n",
       "    </tr>\n",
       "  </thead>\n",
       "  <tbody>\n",
       "    <tr>\n",
       "      <th>0</th>\n",
       "      <td>38</td>\n",
       "      <td>29.0</td>\n",
       "      <td>11.0</td>\n",
       "      <td>15.0</td>\n",
       "      <td>13.0</td>\n",
       "      <td>13.0</td>\n",
       "      <td>8.0</td>\n",
       "      <td>7.0</td>\n",
       "      <td>6.0</td>\n",
       "      <td>3.0</td>\n",
       "      <td>...</td>\n",
       "      <td>NaN</td>\n",
       "      <td>NaN</td>\n",
       "      <td>NaN</td>\n",
       "      <td>NaN</td>\n",
       "      <td>NaN</td>\n",
       "      <td>NaN</td>\n",
       "      <td>NaN</td>\n",
       "      <td>NaN</td>\n",
       "      <td>NaN</td>\n",
       "      <td>NaN</td>\n",
       "    </tr>\n",
       "    <tr>\n",
       "      <th>1</th>\n",
       "      <td>51</td>\n",
       "      <td>20.0</td>\n",
       "      <td>39.0</td>\n",
       "      <td>21.0</td>\n",
       "      <td>31.0</td>\n",
       "      <td>5.0</td>\n",
       "      <td>15.0</td>\n",
       "      <td>4.0</td>\n",
       "      <td>4.0</td>\n",
       "      <td>1.0</td>\n",
       "      <td>...</td>\n",
       "      <td>3.0</td>\n",
       "      <td>NaN</td>\n",
       "      <td>NaN</td>\n",
       "      <td>NaN</td>\n",
       "      <td>NaN</td>\n",
       "      <td>NaN</td>\n",
       "      <td>NaN</td>\n",
       "      <td>NaN</td>\n",
       "      <td>NaN</td>\n",
       "      <td>NaN</td>\n",
       "    </tr>\n",
       "    <tr>\n",
       "      <th>2</th>\n",
       "      <td>37</td>\n",
       "      <td>142.0</td>\n",
       "      <td>43.0</td>\n",
       "      <td>31.0</td>\n",
       "      <td>87.0</td>\n",
       "      <td>NaN</td>\n",
       "      <td>1.0</td>\n",
       "      <td>NaN</td>\n",
       "      <td>9.0</td>\n",
       "      <td>NaN</td>\n",
       "      <td>...</td>\n",
       "      <td>NaN</td>\n",
       "      <td>7.0</td>\n",
       "      <td>NaN</td>\n",
       "      <td>NaN</td>\n",
       "      <td>NaN</td>\n",
       "      <td>NaN</td>\n",
       "      <td>NaN</td>\n",
       "      <td>NaN</td>\n",
       "      <td>NaN</td>\n",
       "      <td>NaN</td>\n",
       "    </tr>\n",
       "    <tr>\n",
       "      <th>3</th>\n",
       "      <td>84</td>\n",
       "      <td>56.0</td>\n",
       "      <td>56.0</td>\n",
       "      <td>38.0</td>\n",
       "      <td>6.0</td>\n",
       "      <td>15.0</td>\n",
       "      <td>14.0</td>\n",
       "      <td>5.0</td>\n",
       "      <td>3.0</td>\n",
       "      <td>3.0</td>\n",
       "      <td>...</td>\n",
       "      <td>1.0</td>\n",
       "      <td>1.0</td>\n",
       "      <td>1.0</td>\n",
       "      <td>NaN</td>\n",
       "      <td>NaN</td>\n",
       "      <td>NaN</td>\n",
       "      <td>NaN</td>\n",
       "      <td>NaN</td>\n",
       "      <td>NaN</td>\n",
       "      <td>NaN</td>\n",
       "    </tr>\n",
       "    <tr>\n",
       "      <th>4</th>\n",
       "      <td>31</td>\n",
       "      <td>9.0</td>\n",
       "      <td>30.0</td>\n",
       "      <td>10.0</td>\n",
       "      <td>7.0</td>\n",
       "      <td>2.0</td>\n",
       "      <td>18.0</td>\n",
       "      <td>NaN</td>\n",
       "      <td>1.0</td>\n",
       "      <td>1.0</td>\n",
       "      <td>...</td>\n",
       "      <td>NaN</td>\n",
       "      <td>1.0</td>\n",
       "      <td>2.0</td>\n",
       "      <td>1.0</td>\n",
       "      <td>NaN</td>\n",
       "      <td>NaN</td>\n",
       "      <td>NaN</td>\n",
       "      <td>NaN</td>\n",
       "      <td>NaN</td>\n",
       "      <td>NaN</td>\n",
       "    </tr>\n",
       "  </tbody>\n",
       "</table>\n",
       "<p>5 rows × 38 columns</p>\n",
       "</div>"
      ],
      "text/plain": [
       "   entity_PROBLEM  entity_TEST  entity_TREATMENT  entity_Simple_chemical  \\\n",
       "0              38         29.0              11.0                    15.0   \n",
       "1              51         20.0              39.0                    21.0   \n",
       "2              37        142.0              43.0                    31.0   \n",
       "3              84         56.0              56.0                    38.0   \n",
       "4              31          9.0              30.0                    10.0   \n",
       "\n",
       "   entity_Gene_or_gene_product  entity_Organ  entity_Organism  \\\n",
       "0                         13.0          13.0              8.0   \n",
       "1                         31.0           5.0             15.0   \n",
       "2                         87.0           NaN              1.0   \n",
       "3                          6.0          15.0             14.0   \n",
       "4                          7.0           2.0             18.0   \n",
       "\n",
       "   entity_Organism_subdivision  entity_Cell  entity_Organism_substance  ...  \\\n",
       "0                          7.0          6.0                        3.0  ...   \n",
       "1                          4.0          4.0                        1.0  ...   \n",
       "2                          NaN          9.0                        NaN  ...   \n",
       "3                          5.0          3.0                        3.0  ...   \n",
       "4                          NaN          1.0                        1.0  ...   \n",
       "\n",
       "   entity_DURATION  entity_FORM  entity_Tissue  entity_Cellular_component  \\\n",
       "0              NaN          NaN            NaN                        NaN   \n",
       "1              3.0          NaN            NaN                        NaN   \n",
       "2              NaN          7.0            NaN                        NaN   \n",
       "3              1.0          1.0            1.0                        NaN   \n",
       "4              NaN          1.0            2.0                        1.0   \n",
       "\n",
       "   entity_Immaterial_anatomical_entity  entity_SMOKER  \\\n",
       "0                                  NaN            NaN   \n",
       "1                                  NaN            NaN   \n",
       "2                                  NaN            NaN   \n",
       "3                                  NaN            NaN   \n",
       "4                                  NaN            NaN   \n",
       "\n",
       "   entity_Anatomical_system  entity_RNA  entity_Amino_acid  \\\n",
       "0                       NaN         NaN                NaN   \n",
       "1                       NaN         NaN                NaN   \n",
       "2                       NaN         NaN                NaN   \n",
       "3                       NaN         NaN                NaN   \n",
       "4                       NaN         NaN                NaN   \n",
       "\n",
       "   entity_Developing_anatomical_structure  \n",
       "0                                     NaN  \n",
       "1                                     NaN  \n",
       "2                                     NaN  \n",
       "3                                     NaN  \n",
       "4                                     NaN  \n",
       "\n",
       "[5 rows x 38 columns]"
      ]
     },
     "execution_count": 112,
     "metadata": {},
     "output_type": "execute_result"
    }
   ],
   "source": [
    "stats_df.head()"
   ]
  },
  {
   "cell_type": "code",
   "execution_count": 113,
   "metadata": {},
   "outputs": [
    {
     "data": {
      "text/plain": [
       "86.0"
      ]
     },
     "execution_count": 113,
     "metadata": {},
     "output_type": "execute_result"
    }
   ],
   "source": [
    "stats_df['entity_SMOKER'].sum()"
   ]
  },
  {
   "cell_type": "code",
   "execution_count": 114,
   "metadata": {},
   "outputs": [
    {
     "data": {
      "text/plain": [
       "16960"
      ]
     },
     "execution_count": 114,
     "metadata": {},
     "output_type": "execute_result"
    }
   ],
   "source": [
    "stats_df.entity_smoker_entities.sum()"
   ]
  },
  {
   "cell_type": "code",
   "execution_count": 115,
   "metadata": {},
   "outputs": [
    {
     "data": {
      "text/plain": [
       "Index(['entity_PROBLEM', 'entity_TEST', 'entity_TREATMENT',\n",
       "       'entity_Simple_chemical', 'entity_Gene_or_gene_product', 'entity_Organ',\n",
       "       'entity_Organism', 'entity_Organism_subdivision', 'entity_Cell',\n",
       "       'entity_Organism_substance', 'entity_Cancer',\n",
       "       'entity_Pathological_formation', 'entity_Multi-tissue_structure',\n",
       "       'entity_DRUG', 'entity_DOSAGE', 'entity_DNA', 'entity_protein',\n",
       "       'entity_cell_type', 'entity_cell_line', 'entity_present',\n",
       "       'entity_absent', 'entity_associated_with_someone_else',\n",
       "       'entity_smoker_entities', 'entity_nonsmoker_regex_matches', 'entity_id',\n",
       "       'entity_STRENGTH', 'entity_FREQUENCY', 'entity_ROUTE',\n",
       "       'entity_DURATION', 'entity_FORM', 'entity_Tissue',\n",
       "       'entity_Cellular_component', 'entity_Immaterial_anatomical_entity',\n",
       "       'entity_SMOKER', 'entity_Anatomical_system', 'entity_RNA',\n",
       "       'entity_Amino_acid', 'entity_Developing_anatomical_structure'],\n",
       "      dtype='object')"
      ]
     },
     "execution_count": 115,
     "metadata": {},
     "output_type": "execute_result"
    }
   ],
   "source": [
    "stats_df.columns"
   ]
  },
  {
   "cell_type": "code",
   "execution_count": 116,
   "metadata": {},
   "outputs": [
    {
     "data": {
      "text/plain": [
       "(502, 38)"
      ]
     },
     "execution_count": 116,
     "metadata": {},
     "output_type": "execute_result"
    }
   ],
   "source": [
    "stats_df.shape"
   ]
  },
  {
   "cell_type": "code",
   "execution_count": 117,
   "metadata": {},
   "outputs": [
    {
     "data": {
      "text/html": [
       "<div>\n",
       "<style scoped>\n",
       "    .dataframe tbody tr th:only-of-type {\n",
       "        vertical-align: middle;\n",
       "    }\n",
       "\n",
       "    .dataframe tbody tr th {\n",
       "        vertical-align: top;\n",
       "    }\n",
       "\n",
       "    .dataframe thead th {\n",
       "        text-align: right;\n",
       "    }\n",
       "</style>\n",
       "<table border=\"1\" class=\"dataframe\">\n",
       "  <thead>\n",
       "    <tr style=\"text-align: right;\">\n",
       "      <th></th>\n",
       "      <th>id</th>\n",
       "      <th>label</th>\n",
       "    </tr>\n",
       "  </thead>\n",
       "  <tbody>\n",
       "    <tr>\n",
       "      <th>0</th>\n",
       "      <td>0</td>\n",
       "      <td>CURRENT SMOKER</td>\n",
       "    </tr>\n",
       "    <tr>\n",
       "      <th>78</th>\n",
       "      <td>1</td>\n",
       "      <td>CURRENT SMOKER</td>\n",
       "    </tr>\n",
       "    <tr>\n",
       "      <th>188</th>\n",
       "      <td>2</td>\n",
       "      <td>CURRENT SMOKER</td>\n",
       "    </tr>\n",
       "    <tr>\n",
       "      <th>410</th>\n",
       "      <td>3</td>\n",
       "      <td>CURRENT SMOKER</td>\n",
       "    </tr>\n",
       "    <tr>\n",
       "      <th>606</th>\n",
       "      <td>4</td>\n",
       "      <td>CURRENT SMOKER</td>\n",
       "    </tr>\n",
       "    <tr>\n",
       "      <th>...</th>\n",
       "      <td>...</td>\n",
       "      <td>...</td>\n",
       "    </tr>\n",
       "    <tr>\n",
       "      <th>44359</th>\n",
       "      <td>60129542207</td>\n",
       "      <td>UNKNOWN</td>\n",
       "    </tr>\n",
       "    <tr>\n",
       "      <th>44367</th>\n",
       "      <td>60129542208</td>\n",
       "      <td>UNKNOWN</td>\n",
       "    </tr>\n",
       "    <tr>\n",
       "      <th>44402</th>\n",
       "      <td>60129542209</td>\n",
       "      <td>UNKNOWN</td>\n",
       "    </tr>\n",
       "    <tr>\n",
       "      <th>44453</th>\n",
       "      <td>60129542210</td>\n",
       "      <td>UNKNOWN</td>\n",
       "    </tr>\n",
       "    <tr>\n",
       "      <th>44462</th>\n",
       "      <td>60129542211</td>\n",
       "      <td>UNKNOWN</td>\n",
       "    </tr>\n",
       "  </tbody>\n",
       "</table>\n",
       "<p>502 rows × 2 columns</p>\n",
       "</div>"
      ],
      "text/plain": [
       "                id           label\n",
       "0                0  CURRENT SMOKER\n",
       "78               1  CURRENT SMOKER\n",
       "188              2  CURRENT SMOKER\n",
       "410              3  CURRENT SMOKER\n",
       "606              4  CURRENT SMOKER\n",
       "...            ...             ...\n",
       "44359  60129542207         UNKNOWN\n",
       "44367  60129542208         UNKNOWN\n",
       "44402  60129542209         UNKNOWN\n",
       "44453  60129542210         UNKNOWN\n",
       "44462  60129542211         UNKNOWN\n",
       "\n",
       "[502 rows x 2 columns]"
      ]
     },
     "execution_count": 117,
     "metadata": {},
     "output_type": "execute_result"
    }
   ],
   "source": [
    "pandas_df[['id','label']].drop_duplicates()"
   ]
  },
  {
   "cell_type": "code",
   "execution_count": 118,
   "metadata": {},
   "outputs": [
    {
     "data": {
      "text/plain": [
       "17179869242    1\n",
       "42949673017    1\n",
       "34359738409    1\n",
       "42949672984    1\n",
       "34359738373    1\n",
       "              ..\n",
       "17179869202    1\n",
       "34359738370    1\n",
       "17179869231    1\n",
       "51539607567    1\n",
       "0              1\n",
       "Name: entity_id, Length: 502, dtype: int64"
      ]
     },
     "execution_count": 118,
     "metadata": {},
     "output_type": "execute_result"
    }
   ],
   "source": [
    "stats_df.entity_id.value_counts()"
   ]
  },
  {
   "cell_type": "code",
   "execution_count": 119,
   "metadata": {},
   "outputs": [],
   "source": [
    "model_df = pandas_df[['id','label']].drop_duplicates().merge(stats_df, left_on='id', right_on='entity_id').fillna(0)"
   ]
  },
  {
   "cell_type": "code",
   "execution_count": 120,
   "metadata": {},
   "outputs": [
    {
     "data": {
      "text/html": [
       "<div>\n",
       "<style scoped>\n",
       "    .dataframe tbody tr th:only-of-type {\n",
       "        vertical-align: middle;\n",
       "    }\n",
       "\n",
       "    .dataframe tbody tr th {\n",
       "        vertical-align: top;\n",
       "    }\n",
       "\n",
       "    .dataframe thead th {\n",
       "        text-align: right;\n",
       "    }\n",
       "</style>\n",
       "<table border=\"1\" class=\"dataframe\">\n",
       "  <thead>\n",
       "    <tr style=\"text-align: right;\">\n",
       "      <th></th>\n",
       "      <th>id</th>\n",
       "      <th>label</th>\n",
       "      <th>entity_PROBLEM</th>\n",
       "      <th>entity_TEST</th>\n",
       "      <th>entity_TREATMENT</th>\n",
       "      <th>entity_Simple_chemical</th>\n",
       "      <th>entity_Gene_or_gene_product</th>\n",
       "      <th>entity_Organ</th>\n",
       "      <th>entity_Organism</th>\n",
       "      <th>entity_Organism_subdivision</th>\n",
       "      <th>...</th>\n",
       "      <th>entity_DURATION</th>\n",
       "      <th>entity_FORM</th>\n",
       "      <th>entity_Tissue</th>\n",
       "      <th>entity_Cellular_component</th>\n",
       "      <th>entity_Immaterial_anatomical_entity</th>\n",
       "      <th>entity_SMOKER</th>\n",
       "      <th>entity_Anatomical_system</th>\n",
       "      <th>entity_RNA</th>\n",
       "      <th>entity_Amino_acid</th>\n",
       "      <th>entity_Developing_anatomical_structure</th>\n",
       "    </tr>\n",
       "  </thead>\n",
       "  <tbody>\n",
       "    <tr>\n",
       "      <th>0</th>\n",
       "      <td>0</td>\n",
       "      <td>CURRENT SMOKER</td>\n",
       "      <td>38</td>\n",
       "      <td>29.0</td>\n",
       "      <td>11.0</td>\n",
       "      <td>15.0</td>\n",
       "      <td>13.0</td>\n",
       "      <td>13.0</td>\n",
       "      <td>8.0</td>\n",
       "      <td>7.0</td>\n",
       "      <td>...</td>\n",
       "      <td>0.0</td>\n",
       "      <td>0.0</td>\n",
       "      <td>0.0</td>\n",
       "      <td>0.0</td>\n",
       "      <td>0.0</td>\n",
       "      <td>0.0</td>\n",
       "      <td>0.0</td>\n",
       "      <td>0.0</td>\n",
       "      <td>0.0</td>\n",
       "      <td>0.0</td>\n",
       "    </tr>\n",
       "    <tr>\n",
       "      <th>1</th>\n",
       "      <td>1</td>\n",
       "      <td>CURRENT SMOKER</td>\n",
       "      <td>51</td>\n",
       "      <td>20.0</td>\n",
       "      <td>39.0</td>\n",
       "      <td>21.0</td>\n",
       "      <td>31.0</td>\n",
       "      <td>5.0</td>\n",
       "      <td>15.0</td>\n",
       "      <td>4.0</td>\n",
       "      <td>...</td>\n",
       "      <td>3.0</td>\n",
       "      <td>0.0</td>\n",
       "      <td>0.0</td>\n",
       "      <td>0.0</td>\n",
       "      <td>0.0</td>\n",
       "      <td>0.0</td>\n",
       "      <td>0.0</td>\n",
       "      <td>0.0</td>\n",
       "      <td>0.0</td>\n",
       "      <td>0.0</td>\n",
       "    </tr>\n",
       "    <tr>\n",
       "      <th>2</th>\n",
       "      <td>2</td>\n",
       "      <td>CURRENT SMOKER</td>\n",
       "      <td>37</td>\n",
       "      <td>142.0</td>\n",
       "      <td>43.0</td>\n",
       "      <td>31.0</td>\n",
       "      <td>87.0</td>\n",
       "      <td>0.0</td>\n",
       "      <td>1.0</td>\n",
       "      <td>0.0</td>\n",
       "      <td>...</td>\n",
       "      <td>0.0</td>\n",
       "      <td>7.0</td>\n",
       "      <td>0.0</td>\n",
       "      <td>0.0</td>\n",
       "      <td>0.0</td>\n",
       "      <td>0.0</td>\n",
       "      <td>0.0</td>\n",
       "      <td>0.0</td>\n",
       "      <td>0.0</td>\n",
       "      <td>0.0</td>\n",
       "    </tr>\n",
       "    <tr>\n",
       "      <th>3</th>\n",
       "      <td>3</td>\n",
       "      <td>CURRENT SMOKER</td>\n",
       "      <td>84</td>\n",
       "      <td>56.0</td>\n",
       "      <td>56.0</td>\n",
       "      <td>38.0</td>\n",
       "      <td>6.0</td>\n",
       "      <td>15.0</td>\n",
       "      <td>14.0</td>\n",
       "      <td>5.0</td>\n",
       "      <td>...</td>\n",
       "      <td>1.0</td>\n",
       "      <td>1.0</td>\n",
       "      <td>1.0</td>\n",
       "      <td>0.0</td>\n",
       "      <td>0.0</td>\n",
       "      <td>0.0</td>\n",
       "      <td>0.0</td>\n",
       "      <td>0.0</td>\n",
       "      <td>0.0</td>\n",
       "      <td>0.0</td>\n",
       "    </tr>\n",
       "    <tr>\n",
       "      <th>4</th>\n",
       "      <td>4</td>\n",
       "      <td>CURRENT SMOKER</td>\n",
       "      <td>31</td>\n",
       "      <td>9.0</td>\n",
       "      <td>30.0</td>\n",
       "      <td>10.0</td>\n",
       "      <td>7.0</td>\n",
       "      <td>2.0</td>\n",
       "      <td>18.0</td>\n",
       "      <td>0.0</td>\n",
       "      <td>...</td>\n",
       "      <td>0.0</td>\n",
       "      <td>1.0</td>\n",
       "      <td>2.0</td>\n",
       "      <td>1.0</td>\n",
       "      <td>0.0</td>\n",
       "      <td>0.0</td>\n",
       "      <td>0.0</td>\n",
       "      <td>0.0</td>\n",
       "      <td>0.0</td>\n",
       "      <td>0.0</td>\n",
       "    </tr>\n",
       "  </tbody>\n",
       "</table>\n",
       "<p>5 rows × 40 columns</p>\n",
       "</div>"
      ],
      "text/plain": [
       "   id           label  entity_PROBLEM  entity_TEST  entity_TREATMENT  \\\n",
       "0   0  CURRENT SMOKER              38         29.0              11.0   \n",
       "1   1  CURRENT SMOKER              51         20.0              39.0   \n",
       "2   2  CURRENT SMOKER              37        142.0              43.0   \n",
       "3   3  CURRENT SMOKER              84         56.0              56.0   \n",
       "4   4  CURRENT SMOKER              31          9.0              30.0   \n",
       "\n",
       "   entity_Simple_chemical  entity_Gene_or_gene_product  entity_Organ  \\\n",
       "0                    15.0                         13.0          13.0   \n",
       "1                    21.0                         31.0           5.0   \n",
       "2                    31.0                         87.0           0.0   \n",
       "3                    38.0                          6.0          15.0   \n",
       "4                    10.0                          7.0           2.0   \n",
       "\n",
       "   entity_Organism  entity_Organism_subdivision  ...  entity_DURATION  \\\n",
       "0              8.0                          7.0  ...              0.0   \n",
       "1             15.0                          4.0  ...              3.0   \n",
       "2              1.0                          0.0  ...              0.0   \n",
       "3             14.0                          5.0  ...              1.0   \n",
       "4             18.0                          0.0  ...              0.0   \n",
       "\n",
       "   entity_FORM  entity_Tissue  entity_Cellular_component  \\\n",
       "0          0.0            0.0                        0.0   \n",
       "1          0.0            0.0                        0.0   \n",
       "2          7.0            0.0                        0.0   \n",
       "3          1.0            1.0                        0.0   \n",
       "4          1.0            2.0                        1.0   \n",
       "\n",
       "   entity_Immaterial_anatomical_entity  entity_SMOKER  \\\n",
       "0                                  0.0            0.0   \n",
       "1                                  0.0            0.0   \n",
       "2                                  0.0            0.0   \n",
       "3                                  0.0            0.0   \n",
       "4                                  0.0            0.0   \n",
       "\n",
       "   entity_Anatomical_system  entity_RNA  entity_Amino_acid  \\\n",
       "0                       0.0         0.0                0.0   \n",
       "1                       0.0         0.0                0.0   \n",
       "2                       0.0         0.0                0.0   \n",
       "3                       0.0         0.0                0.0   \n",
       "4                       0.0         0.0                0.0   \n",
       "\n",
       "   entity_Developing_anatomical_structure  \n",
       "0                                     0.0  \n",
       "1                                     0.0  \n",
       "2                                     0.0  \n",
       "3                                     0.0  \n",
       "4                                     0.0  \n",
       "\n",
       "[5 rows x 40 columns]"
      ]
     },
     "execution_count": 120,
     "metadata": {},
     "output_type": "execute_result"
    }
   ],
   "source": [
    "model_df.head()"
   ]
  },
  {
   "cell_type": "code",
   "execution_count": 121,
   "metadata": {},
   "outputs": [],
   "source": [
    "from sklearn.model_selection import train_test_split\n",
    "\n",
    "X=model_df.drop(['label','entity_id', 'id'], axis=1)  # Features\n",
    "y=model_df['label']  # Labels\n",
    "\n",
    "# Split dataset into training set and test set\n",
    "X_train, X_test, y_train, y_test = train_test_split(X, y, test_size=0.2) "
   ]
  },
  {
   "cell_type": "code",
   "execution_count": 122,
   "metadata": {},
   "outputs": [],
   "source": [
    "#Import Random Forest Model\n",
    "from sklearn.ensemble import RandomForestClassifier\n",
    "\n",
    "#Create a Gaussian Classifier\n",
    "clf=RandomForestClassifier(n_estimators=100)\n",
    "\n",
    "#Train the model using the training sets y_pred=clf.predict(X_test)\n",
    "clf.fit(X_train, y_train)\n",
    "\n",
    "y_pred=clf.predict(X_test)"
   ]
  },
  {
   "cell_type": "code",
   "execution_count": 123,
   "metadata": {},
   "outputs": [
    {
     "name": "stdout",
     "output_type": "stream",
     "text": [
      "Accuracy: 0.7722772277227723\n"
     ]
    }
   ],
   "source": [
    "#Import scikit-learn metrics module for accuracy calculation\n",
    "from sklearn import metrics\n",
    "\n",
    "# Model Accuracy, how often is the classifier correct?\n",
    "print(\"Accuracy:\",metrics.accuracy_score(y_test, y_pred))"
   ]
  },
  {
   "cell_type": "code",
   "execution_count": 124,
   "metadata": {},
   "outputs": [
    {
     "name": "stdout",
     "output_type": "stream",
     "text": [
      "                precision    recall  f1-score   support\n",
      "\n",
      "CURRENT SMOKER       0.50      0.09      0.15        11\n",
      "    NON-SMOKER       0.70      0.89      0.78        18\n",
      "   PAST SMOKER       0.25      0.12      0.17         8\n",
      "        SMOKER       0.00      0.00      0.00         4\n",
      "       UNKNOWN       0.83      1.00      0.91        60\n",
      "\n",
      "      accuracy                           0.77       101\n",
      "     macro avg       0.46      0.42      0.40       101\n",
      "  weighted avg       0.69      0.77      0.71       101\n",
      "\n"
     ]
    },
    {
     "name": "stderr",
     "output_type": "stream",
     "text": [
      "/Users/vkocaman/anaconda3/lib/python3.7/site-packages/sklearn/metrics/classification.py:1437: UndefinedMetricWarning: Precision and F-score are ill-defined and being set to 0.0 in labels with no predicted samples.\n",
      "  'precision', 'predicted', average, warn_for)\n"
     ]
    }
   ],
   "source": [
    "print(metrics.classification_report(y_test, y_pred))"
   ]
  },
  {
   "cell_type": "code",
   "execution_count": 125,
   "metadata": {},
   "outputs": [
    {
     "data": {
      "text/plain": [
       "entity_smoker_entities                    0.151526\n",
       "entity_present                            0.062117\n",
       "entity_SMOKER                             0.052913\n",
       "entity_Organism                           0.050223\n",
       "entity_TEST                               0.043517\n",
       "entity_PROBLEM                            0.043249\n",
       "entity_TREATMENT                          0.039590\n",
       "entity_Multi-tissue_structure             0.037426\n",
       "entity_Organism_subdivision               0.036004\n",
       "entity_Organ                              0.035646\n",
       "entity_Simple_chemical                    0.035174\n",
       "entity_DRUG                               0.034169\n",
       "entity_Gene_or_gene_product               0.030230\n",
       "entity_Cancer                             0.027798\n",
       "entity_protein                            0.025667\n",
       "entity_ROUTE                              0.024937\n",
       "entity_DNA                                0.024601\n",
       "entity_FREQUENCY                          0.024025\n",
       "entity_Cell                               0.023520\n",
       "entity_STRENGTH                           0.022913\n",
       "entity_Pathological_formation             0.022745\n",
       "entity_Organism_substance                 0.019914\n",
       "entity_cell_type                          0.019013\n",
       "entity_Tissue                             0.018010\n",
       "entity_DOSAGE                             0.015938\n",
       "entity_nonsmoker_regex_matches            0.015693\n",
       "entity_FORM                               0.014986\n",
       "entity_cell_line                          0.010983\n",
       "entity_Immaterial_anatomical_entity       0.009174\n",
       "entity_DURATION                           0.009107\n",
       "entity_Cellular_component                 0.006414\n",
       "entity_RNA                                0.005910\n",
       "entity_absent                             0.003770\n",
       "entity_associated_with_someone_else       0.001185\n",
       "entity_Anatomical_system                  0.001143\n",
       "entity_Developing_anatomical_structure    0.000581\n",
       "entity_Amino_acid                         0.000188\n",
       "dtype: float64"
      ]
     },
     "execution_count": 125,
     "metadata": {},
     "output_type": "execute_result"
    }
   ],
   "source": [
    "import pandas as pd\n",
    "feature_imp = pd.Series(clf.feature_importances_,index=X.columns).sort_values(ascending=False)\n",
    "feature_imp"
   ]
  },
  {
   "cell_type": "code",
   "execution_count": 126,
   "metadata": {},
   "outputs": [
    {
     "name": "stderr",
     "output_type": "stream",
     "text": [
      "/Users/vkocaman/anaconda3/lib/python3.7/site-packages/sklearn/linear_model/logistic.py:432: FutureWarning: Default solver will be changed to 'lbfgs' in 0.22. Specify a solver to silence this warning.\n",
      "  FutureWarning)\n",
      "/Users/vkocaman/anaconda3/lib/python3.7/site-packages/sklearn/linear_model/logistic.py:469: FutureWarning: Default multi_class will be changed to 'auto' in 0.22. Specify the multi_class option to silence this warning.\n",
      "  \"this warning.\", FutureWarning)\n"
     ]
    }
   ],
   "source": [
    "from sklearn.linear_model import LogisticRegression\n",
    "\n",
    "clf = LogisticRegression(random_state=0).fit(X_train, y_train)\n",
    "\n",
    "y_pred=clf.predict(X_test)"
   ]
  },
  {
   "cell_type": "code",
   "execution_count": 127,
   "metadata": {},
   "outputs": [
    {
     "name": "stdout",
     "output_type": "stream",
     "text": [
      "                precision    recall  f1-score   support\n",
      "\n",
      "CURRENT SMOKER       0.25      0.09      0.13        11\n",
      "    NON-SMOKER       0.70      0.78      0.74        18\n",
      "   PAST SMOKER       0.40      0.25      0.31         8\n",
      "        SMOKER       0.00      0.00      0.00         4\n",
      "       UNKNOWN       0.83      0.98      0.90        60\n",
      "\n",
      "      accuracy                           0.75       101\n",
      "     macro avg       0.44      0.42      0.42       101\n",
      "  weighted avg       0.68      0.75      0.71       101\n",
      "\n"
     ]
    }
   ],
   "source": [
    "print(metrics.classification_report(y_test, y_pred))"
   ]
  },
  {
   "cell_type": "markdown",
   "metadata": {},
   "source": [
    "## Creating TfIdf features and appending to scalar features"
   ]
  },
  {
   "cell_type": "code",
   "execution_count": 128,
   "metadata": {},
   "outputs": [],
   "source": [
    "train_df_text = spark_train_df.toPandas()"
   ]
  },
  {
   "cell_type": "code",
   "execution_count": 129,
   "metadata": {},
   "outputs": [],
   "source": [
    "model_df_text = train_df_text.merge(model_df.drop(['label','entity_id'], axis=1))"
   ]
  },
  {
   "cell_type": "code",
   "execution_count": 130,
   "metadata": {},
   "outputs": [],
   "source": [
    "import string"
   ]
  },
  {
   "cell_type": "code",
   "execution_count": 131,
   "metadata": {},
   "outputs": [],
   "source": [
    "model_df_text['text'] = model_df_text['text'].apply(lambda x: ''.join([i for i in x if not i.isdigit()]).lower().replace('\\n',' '))"
   ]
  },
  {
   "cell_type": "code",
   "execution_count": 132,
   "metadata": {},
   "outputs": [
    {
     "data": {
      "text/plain": [
       "0     hlgmc   // :: am carcinoma of the colon . uns...\n",
       "1     cmc  // :: am mediastinal adenopathy rt. lung...\n",
       "2     bh   // :: am discharge summary unsigned dis ...\n",
       "3     nvh  // :: am discharge summary signed dis ad...\n",
       "4     ctmc   // :: am discharge summary unsigned di...\n",
       "Name: text, dtype: object"
      ]
     },
     "execution_count": 132,
     "metadata": {},
     "output_type": "execute_result"
    }
   ],
   "source": [
    "model_df_text['text'].head()"
   ]
  },
  {
   "cell_type": "code",
   "execution_count": 133,
   "metadata": {},
   "outputs": [
    {
     "name": "stdout",
     "output_type": "stream",
     "text": [
      "train with tfidf: (502, 1040)\n"
     ]
    }
   ],
   "source": [
    "from sklearn.feature_extraction.text import TfidfVectorizer\n",
    "        \n",
    "vect = TfidfVectorizer(max_features=1000,  min_df= 5, norm='l2', ngram_range=(1, 3), stop_words='english')\n",
    "\n",
    "tfidf_matrix = vect.fit_transform(model_df_text['text'])\n",
    "\n",
    "df = pd.DataFrame(tfidf_matrix.toarray(), columns = vect.get_feature_names())\n",
    "\n",
    "X = pd.concat([df, model_df_text], axis=1)\n",
    "\n",
    "print ('train with tfidf:', X.shape)"
   ]
  },
  {
   "cell_type": "code",
   "execution_count": 72,
   "metadata": {},
   "outputs": [
    {
     "data": {
      "text/plain": [
       "Index(['abdomen', 'abdomen soft', 'abdomen soft nontender', 'abdominal',\n",
       "       'abdominal pain', 'able', 'abnormalities', 'active', 'activity',\n",
       "       'acute',\n",
       "       ...\n",
       "       'entity_DURATION', 'entity_FORM', 'entity_Tissue',\n",
       "       'entity_Cellular_component', 'entity_Immaterial_anatomical_entity',\n",
       "       'entity_SMOKER', 'entity_Anatomical_system', 'entity_RNA',\n",
       "       'entity_Amino_acid', 'entity_Developing_anatomical_structure'],\n",
       "      dtype='object', length=1040)"
      ]
     },
     "execution_count": 72,
     "metadata": {},
     "output_type": "execute_result"
    }
   ],
   "source": [
    "X.columns"
   ]
  },
  {
   "cell_type": "code",
   "execution_count": 134,
   "metadata": {},
   "outputs": [
    {
     "data": {
      "text/html": [
       "<div>\n",
       "<style scoped>\n",
       "    .dataframe tbody tr th:only-of-type {\n",
       "        vertical-align: middle;\n",
       "    }\n",
       "\n",
       "    .dataframe tbody tr th {\n",
       "        vertical-align: top;\n",
       "    }\n",
       "\n",
       "    .dataframe thead th {\n",
       "        text-align: right;\n",
       "    }\n",
       "</style>\n",
       "<table border=\"1\" class=\"dataframe\">\n",
       "  <thead>\n",
       "    <tr style=\"text-align: right;\">\n",
       "      <th></th>\n",
       "      <th>abdomen</th>\n",
       "      <th>abdomen soft</th>\n",
       "      <th>abdomen soft nontender</th>\n",
       "      <th>abdominal</th>\n",
       "      <th>abdominal pain</th>\n",
       "      <th>able</th>\n",
       "      <th>abnormalities</th>\n",
       "      <th>active</th>\n",
       "      <th>activity</th>\n",
       "      <th>acute</th>\n",
       "      <th>...</th>\n",
       "      <th>entity_DURATION</th>\n",
       "      <th>entity_FORM</th>\n",
       "      <th>entity_Tissue</th>\n",
       "      <th>entity_Cellular_component</th>\n",
       "      <th>entity_Immaterial_anatomical_entity</th>\n",
       "      <th>entity_SMOKER</th>\n",
       "      <th>entity_Anatomical_system</th>\n",
       "      <th>entity_RNA</th>\n",
       "      <th>entity_Amino_acid</th>\n",
       "      <th>entity_Developing_anatomical_structure</th>\n",
       "    </tr>\n",
       "  </thead>\n",
       "  <tbody>\n",
       "    <tr>\n",
       "      <th>0</th>\n",
       "      <td>0.000000</td>\n",
       "      <td>0.000000</td>\n",
       "      <td>0.000000</td>\n",
       "      <td>0.086369</td>\n",
       "      <td>0.0</td>\n",
       "      <td>0.0</td>\n",
       "      <td>0.0</td>\n",
       "      <td>0.000000</td>\n",
       "      <td>0.000000</td>\n",
       "      <td>0.043185</td>\n",
       "      <td>...</td>\n",
       "      <td>0.0</td>\n",
       "      <td>0.0</td>\n",
       "      <td>0.0</td>\n",
       "      <td>0.0</td>\n",
       "      <td>0.0</td>\n",
       "      <td>0.0</td>\n",
       "      <td>0.0</td>\n",
       "      <td>0.0</td>\n",
       "      <td>0.0</td>\n",
       "      <td>0.0</td>\n",
       "    </tr>\n",
       "    <tr>\n",
       "      <th>1</th>\n",
       "      <td>0.026001</td>\n",
       "      <td>0.000000</td>\n",
       "      <td>0.000000</td>\n",
       "      <td>0.000000</td>\n",
       "      <td>0.0</td>\n",
       "      <td>0.0</td>\n",
       "      <td>0.0</td>\n",
       "      <td>0.000000</td>\n",
       "      <td>0.000000</td>\n",
       "      <td>0.000000</td>\n",
       "      <td>...</td>\n",
       "      <td>3.0</td>\n",
       "      <td>0.0</td>\n",
       "      <td>0.0</td>\n",
       "      <td>0.0</td>\n",
       "      <td>0.0</td>\n",
       "      <td>0.0</td>\n",
       "      <td>0.0</td>\n",
       "      <td>0.0</td>\n",
       "      <td>0.0</td>\n",
       "      <td>0.0</td>\n",
       "    </tr>\n",
       "    <tr>\n",
       "      <th>2</th>\n",
       "      <td>0.015077</td>\n",
       "      <td>0.021557</td>\n",
       "      <td>0.027824</td>\n",
       "      <td>0.000000</td>\n",
       "      <td>0.0</td>\n",
       "      <td>0.0</td>\n",
       "      <td>0.0</td>\n",
       "      <td>0.058103</td>\n",
       "      <td>0.023205</td>\n",
       "      <td>0.000000</td>\n",
       "      <td>...</td>\n",
       "      <td>0.0</td>\n",
       "      <td>7.0</td>\n",
       "      <td>0.0</td>\n",
       "      <td>0.0</td>\n",
       "      <td>0.0</td>\n",
       "      <td>0.0</td>\n",
       "      <td>0.0</td>\n",
       "      <td>0.0</td>\n",
       "      <td>0.0</td>\n",
       "      <td>0.0</td>\n",
       "    </tr>\n",
       "    <tr>\n",
       "      <th>3</th>\n",
       "      <td>0.015271</td>\n",
       "      <td>0.000000</td>\n",
       "      <td>0.000000</td>\n",
       "      <td>0.061268</td>\n",
       "      <td>0.0</td>\n",
       "      <td>0.0</td>\n",
       "      <td>0.0</td>\n",
       "      <td>0.000000</td>\n",
       "      <td>0.000000</td>\n",
       "      <td>0.020423</td>\n",
       "      <td>...</td>\n",
       "      <td>1.0</td>\n",
       "      <td>1.0</td>\n",
       "      <td>1.0</td>\n",
       "      <td>0.0</td>\n",
       "      <td>0.0</td>\n",
       "      <td>0.0</td>\n",
       "      <td>0.0</td>\n",
       "      <td>0.0</td>\n",
       "      <td>0.0</td>\n",
       "      <td>0.0</td>\n",
       "    </tr>\n",
       "    <tr>\n",
       "      <th>4</th>\n",
       "      <td>0.000000</td>\n",
       "      <td>0.000000</td>\n",
       "      <td>0.000000</td>\n",
       "      <td>0.000000</td>\n",
       "      <td>0.0</td>\n",
       "      <td>0.0</td>\n",
       "      <td>0.0</td>\n",
       "      <td>0.000000</td>\n",
       "      <td>0.000000</td>\n",
       "      <td>0.000000</td>\n",
       "      <td>...</td>\n",
       "      <td>0.0</td>\n",
       "      <td>1.0</td>\n",
       "      <td>2.0</td>\n",
       "      <td>1.0</td>\n",
       "      <td>0.0</td>\n",
       "      <td>0.0</td>\n",
       "      <td>0.0</td>\n",
       "      <td>0.0</td>\n",
       "      <td>0.0</td>\n",
       "      <td>0.0</td>\n",
       "    </tr>\n",
       "  </tbody>\n",
       "</table>\n",
       "<p>5 rows × 1040 columns</p>\n",
       "</div>"
      ],
      "text/plain": [
       "    abdomen  abdomen soft  abdomen soft nontender  abdominal  abdominal pain  \\\n",
       "0  0.000000      0.000000                0.000000   0.086369             0.0   \n",
       "1  0.026001      0.000000                0.000000   0.000000             0.0   \n",
       "2  0.015077      0.021557                0.027824   0.000000             0.0   \n",
       "3  0.015271      0.000000                0.000000   0.061268             0.0   \n",
       "4  0.000000      0.000000                0.000000   0.000000             0.0   \n",
       "\n",
       "   able  abnormalities    active  activity     acute  ...  entity_DURATION  \\\n",
       "0   0.0            0.0  0.000000  0.000000  0.043185  ...              0.0   \n",
       "1   0.0            0.0  0.000000  0.000000  0.000000  ...              3.0   \n",
       "2   0.0            0.0  0.058103  0.023205  0.000000  ...              0.0   \n",
       "3   0.0            0.0  0.000000  0.000000  0.020423  ...              1.0   \n",
       "4   0.0            0.0  0.000000  0.000000  0.000000  ...              0.0   \n",
       "\n",
       "   entity_FORM  entity_Tissue  entity_Cellular_component  \\\n",
       "0          0.0            0.0                        0.0   \n",
       "1          0.0            0.0                        0.0   \n",
       "2          7.0            0.0                        0.0   \n",
       "3          1.0            1.0                        0.0   \n",
       "4          1.0            2.0                        1.0   \n",
       "\n",
       "   entity_Immaterial_anatomical_entity  entity_SMOKER  \\\n",
       "0                                  0.0            0.0   \n",
       "1                                  0.0            0.0   \n",
       "2                                  0.0            0.0   \n",
       "3                                  0.0            0.0   \n",
       "4                                  0.0            0.0   \n",
       "\n",
       "   entity_Anatomical_system  entity_RNA  entity_Amino_acid  \\\n",
       "0                       0.0         0.0                0.0   \n",
       "1                       0.0         0.0                0.0   \n",
       "2                       0.0         0.0                0.0   \n",
       "3                       0.0         0.0                0.0   \n",
       "4                       0.0         0.0                0.0   \n",
       "\n",
       "   entity_Developing_anatomical_structure  \n",
       "0                                     0.0  \n",
       "1                                     0.0  \n",
       "2                                     0.0  \n",
       "3                                     0.0  \n",
       "4                                     0.0  \n",
       "\n",
       "[5 rows x 1040 columns]"
      ]
     },
     "execution_count": 134,
     "metadata": {},
     "output_type": "execute_result"
    }
   ],
   "source": [
    "X.head()"
   ]
  },
  {
   "cell_type": "code",
   "execution_count": 111,
   "metadata": {},
   "outputs": [
    {
     "data": {
      "text/plain": [
       "0     hlgmc   // :: am carcinoma of the colon . uns...\n",
       "1     cmc  // :: am mediastinal adenopathy rt. lung...\n",
       "2     bh   // :: am discharge summary unsigned dis ...\n",
       "3     nvh  // :: am discharge summary signed dis ad...\n",
       "4     ctmc   // :: am discharge summary unsigned di...\n",
       "Name: text, dtype: object"
      ]
     },
     "execution_count": 111,
     "metadata": {},
     "output_type": "execute_result"
    }
   ],
   "source": [
    "X['text'].head()"
   ]
  },
  {
   "cell_type": "code",
   "execution_count": 135,
   "metadata": {},
   "outputs": [],
   "source": [
    "X_train, X_test, y_train, y_test = train_test_split(X.drop(['text','id', 'label'], axis=1), X.label, test_size=0.2) "
   ]
  },
  {
   "cell_type": "code",
   "execution_count": 136,
   "metadata": {},
   "outputs": [],
   "source": [
    "#Import Random Forest Model\n",
    "from sklearn.ensemble import RandomForestClassifier\n",
    "\n",
    "#Create a Gaussian Classifier\n",
    "clf=RandomForestClassifier(n_estimators=1000)\n",
    "\n",
    "#Train the model using the training sets y_pred=clf.predict(X_test)\n",
    "clf.fit(X_train, y_train)\n",
    "\n",
    "y_pred=clf.predict(X_test)"
   ]
  },
  {
   "cell_type": "code",
   "execution_count": 137,
   "metadata": {},
   "outputs": [
    {
     "name": "stdout",
     "output_type": "stream",
     "text": [
      "                precision    recall  f1-score   support\n",
      "\n",
      "CURRENT SMOKER       0.50      0.14      0.22         7\n",
      "    NON-SMOKER       0.48      0.85      0.61        13\n",
      "   PAST SMOKER       1.00      0.08      0.14        13\n",
      "        SMOKER       0.00      0.00      0.00         3\n",
      "       UNKNOWN       0.85      0.98      0.91        65\n",
      "\n",
      "      accuracy                           0.76       101\n",
      "     macro avg       0.57      0.41      0.38       101\n",
      "  weighted avg       0.77      0.76      0.70       101\n",
      "\n"
     ]
    },
    {
     "name": "stderr",
     "output_type": "stream",
     "text": [
      "/Users/vkocaman/anaconda3/lib/python3.7/site-packages/sklearn/metrics/classification.py:1437: UndefinedMetricWarning: Precision and F-score are ill-defined and being set to 0.0 in labels with no predicted samples.\n",
      "  'precision', 'predicted', average, warn_for)\n"
     ]
    }
   ],
   "source": [
    "print(metrics.classification_report(y_test, y_pred))"
   ]
  },
  {
   "cell_type": "code",
   "execution_count": 114,
   "metadata": {},
   "outputs": [
    {
     "name": "stdout",
     "output_type": "stream",
     "text": [
      "                precision    recall  f1-score   support\n",
      "\n",
      "CURRENT SMOKER       1.00      0.12      0.22         8\n",
      "    NON-SMOKER       0.63      0.92      0.75        13\n",
      "   PAST SMOKER       0.00      0.00      0.00        10\n",
      "        SMOKER       0.00      0.00      0.00         2\n",
      "       UNKNOWN       0.85      1.00      0.92        68\n",
      "\n",
      "      accuracy                           0.80       101\n",
      "     macro avg       0.50      0.41      0.38       101\n",
      "  weighted avg       0.73      0.80      0.73       101\n",
      "\n"
     ]
    },
    {
     "name": "stderr",
     "output_type": "stream",
     "text": [
      "/Users/vkocaman/anaconda3/lib/python3.7/site-packages/sklearn/metrics/classification.py:1437: UndefinedMetricWarning: Precision and F-score are ill-defined and being set to 0.0 in labels with no predicted samples.\n",
      "  'precision', 'predicted', average, warn_for)\n"
     ]
    }
   ],
   "source": [
    "print(metrics.classification_report(y_test, y_pred))"
   ]
  },
  {
   "cell_type": "code",
   "execution_count": 138,
   "metadata": {},
   "outputs": [
    {
     "data": {
      "text/plain": [
       "entity_smoker_entities                    0.030146\n",
       "social                                    0.025326\n",
       "smoking                                   0.022264\n",
       "social history                            0.021354\n",
       "alcohol                                   0.019452\n",
       "                                            ...   \n",
       "entity_Developing_anatomical_structure    0.000020\n",
       "entity_associated_with_someone_else       0.000019\n",
       "arrived                                   0.000016\n",
       "milligrams                                0.000008\n",
       "entity_Amino_acid                         0.000000\n",
       "Length: 1037, dtype: float64"
      ]
     },
     "execution_count": 138,
     "metadata": {},
     "output_type": "execute_result"
    }
   ],
   "source": [
    "import pandas as pd\n",
    "feature_imp = pd.Series(clf.feature_importances_,index=X.drop(['text','id', 'label'], axis=1).columns).sort_values(ascending=False)\n",
    "feature_imp"
   ]
  },
  {
   "cell_type": "markdown",
   "metadata": {},
   "source": [
    "## with feature selection (select best K)"
   ]
  },
  {
   "cell_type": "code",
   "execution_count": 139,
   "metadata": {},
   "outputs": [],
   "source": [
    "from sklearn.feature_selection import SelectKBest, f_classif\n",
    "\n",
    "selector = SelectKBest(f_classif, k = 20)\n",
    "\n",
    "sub_X = selector.fit_transform(X.drop(['text','id', 'label'], axis=1), X.label)"
   ]
  },
  {
   "cell_type": "code",
   "execution_count": 140,
   "metadata": {},
   "outputs": [
    {
     "data": {
      "text/plain": [
       "array([[4.96999365e-02, 1.93638896e-02, 5.00723305e-02, ...,\n",
       "        0.00000000e+00, 7.80000000e+01, 0.00000000e+00],\n",
       "       [4.00174746e-02, 1.55914477e-02, 8.06346387e-02, ...,\n",
       "        0.00000000e+00, 0.00000000e+00, 0.00000000e+00],\n",
       "       [2.32051088e-02, 9.04108128e-03, 2.33789811e-02, ...,\n",
       "        0.00000000e+00, 0.00000000e+00, 0.00000000e+00],\n",
       "       ...,\n",
       "       [5.02260961e-02, 1.95688898e-02, 0.00000000e+00, ...,\n",
       "        0.00000000e+00, 0.00000000e+00, 0.00000000e+00],\n",
       "       [0.00000000e+00, 4.01662551e-02, 0.00000000e+00, ...,\n",
       "        0.00000000e+00, 0.00000000e+00, 0.00000000e+00],\n",
       "       [0.00000000e+00, 2.02660089e-02, 0.00000000e+00, ...,\n",
       "        0.00000000e+00, 0.00000000e+00, 0.00000000e+00]])"
      ]
     },
     "execution_count": 140,
     "metadata": {},
     "output_type": "execute_result"
    }
   ],
   "source": [
    "sub_X"
   ]
  },
  {
   "cell_type": "code",
   "execution_count": 141,
   "metadata": {},
   "outputs": [],
   "source": [
    "X_train, X_test, y_train, y_test = train_test_split(sub_X, X.label, test_size=0.2) "
   ]
  },
  {
   "cell_type": "code",
   "execution_count": 142,
   "metadata": {},
   "outputs": [],
   "source": [
    "clf=RandomForestClassifier(n_estimators=100)\n",
    "\n",
    "#Train the model using the training sets y_pred=clf.predict(X_test)\n",
    "clf.fit(X_train, y_train)\n",
    "\n",
    "y_pred=clf.predict(X_test)"
   ]
  },
  {
   "cell_type": "code",
   "execution_count": 143,
   "metadata": {},
   "outputs": [
    {
     "name": "stdout",
     "output_type": "stream",
     "text": [
      "                precision    recall  f1-score   support\n",
      "\n",
      "CURRENT SMOKER       0.80      0.57      0.67         7\n",
      "    NON-SMOKER       0.65      0.81      0.72        16\n",
      "   PAST SMOKER       0.00      0.00      0.00         5\n",
      "        SMOKER       0.00      0.00      0.00         2\n",
      "       UNKNOWN       0.96      0.97      0.97        71\n",
      "\n",
      "      accuracy                           0.85       101\n",
      "     macro avg       0.48      0.47      0.47       101\n",
      "  weighted avg       0.83      0.85      0.84       101\n",
      "\n"
     ]
    },
    {
     "name": "stderr",
     "output_type": "stream",
     "text": [
      "/Users/vkocaman/anaconda3/lib/python3.7/site-packages/sklearn/metrics/classification.py:1437: UndefinedMetricWarning: Precision and F-score are ill-defined and being set to 0.0 in labels with no predicted samples.\n",
      "  'precision', 'predicted', average, warn_for)\n"
     ]
    }
   ],
   "source": [
    "print(metrics.classification_report(y_test, y_pred))"
   ]
  },
  {
   "cell_type": "code",
   "execution_count": 139,
   "metadata": {},
   "outputs": [
    {
     "name": "stdout",
     "output_type": "stream",
     "text": [
      "                precision    recall  f1-score   support\n",
      "\n",
      "CURRENT SMOKER       0.75      0.50      0.60         6\n",
      "    NON-SMOKER       0.57      0.92      0.71        13\n",
      "   PAST SMOKER       0.33      0.14      0.20         7\n",
      "        SMOKER       0.00      0.00      0.00         2\n",
      "       UNKNOWN       1.00      1.00      1.00        52\n",
      "\n",
      "      accuracy                           0.85        80\n",
      "     macro avg       0.53      0.51      0.50        80\n",
      "  weighted avg       0.83      0.85      0.83        80\n",
      "\n"
     ]
    },
    {
     "name": "stderr",
     "output_type": "stream",
     "text": [
      "/Users/vkocaman/anaconda3/lib/python3.7/site-packages/sklearn/metrics/classification.py:1437: UndefinedMetricWarning: Precision and F-score are ill-defined and being set to 0.0 in labels with no predicted samples.\n",
      "  'precision', 'predicted', average, warn_for)\n"
     ]
    }
   ],
   "source": [
    "print(metrics.classification_report(y_test, y_pred))"
   ]
  },
  {
   "cell_type": "code",
   "execution_count": 145,
   "metadata": {},
   "outputs": [
    {
     "name": "stdout",
     "output_type": "stream",
     "text": [
      "                precision    recall  f1-score   support\n",
      "\n",
      "CURRENT SMOKER       0.57      0.50      0.53         8\n",
      "    NON-SMOKER       0.73      0.89      0.80        18\n",
      "   PAST SMOKER       1.00      0.11      0.20         9\n",
      "        SMOKER       0.00      0.00      0.00         1\n",
      "       UNKNOWN       0.93      0.97      0.95        65\n",
      "\n",
      "      accuracy                           0.83       101\n",
      "     macro avg       0.65      0.49      0.50       101\n",
      "  weighted avg       0.86      0.83      0.81       101\n",
      "\n"
     ]
    }
   ],
   "source": [
    "print(metrics.classification_report(y_test, y_pred))"
   ]
  },
  {
   "cell_type": "code",
   "execution_count": 83,
   "metadata": {},
   "outputs": [
    {
     "data": {
      "text/plain": [
       "Index(['text', 'label', 'id', 'entity_PROBLEM', 'entity_TEST',\n",
       "       'entity_TREATMENT', 'entity_Simple_chemical',\n",
       "       'entity_Gene_or_gene_product', 'entity_Organ', 'entity_Organism',\n",
       "       'entity_Organism_subdivision', 'entity_Cell',\n",
       "       'entity_Organism_substance', 'entity_Cancer',\n",
       "       'entity_Pathological_formation', 'entity_Multi-tissue_structure',\n",
       "       'entity_DRUG', 'entity_DOSAGE', 'entity_DNA', 'entity_protein',\n",
       "       'entity_cell_type', 'entity_cell_line', 'entity_present',\n",
       "       'entity_absent', 'entity_associated_with_someone_else',\n",
       "       'entity_smoker_entities', 'entity_nonsmoker_regex_matches',\n",
       "       'entity_STRENGTH', 'entity_FREQUENCY', 'entity_ROUTE',\n",
       "       'entity_DURATION', 'entity_FORM', 'entity_Tissue',\n",
       "       'entity_Cellular_component', 'entity_Immaterial_anatomical_entity',\n",
       "       'entity_SMOKER', 'entity_Anatomical_system', 'entity_RNA',\n",
       "       'entity_Amino_acid', 'entity_Developing_anatomical_structure'],\n",
       "      dtype='object')"
      ]
     },
     "execution_count": 83,
     "metadata": {},
     "output_type": "execute_result"
    }
   ],
   "source": [
    "model_df_text.columns"
   ]
  },
  {
   "cell_type": "markdown",
   "metadata": {},
   "source": [
    "## Using smoke-related sentences for TfIDF"
   ]
  },
  {
   "cell_type": "code",
   "execution_count": null,
   "metadata": {},
   "outputs": [],
   "source": [
    "text_df = match_df.select('id','text').toPandas()"
   ]
  },
  {
   "cell_type": "code",
   "execution_count": 160,
   "metadata": {},
   "outputs": [
    {
     "data": {
      "text/html": [
       "<div>\n",
       "<style scoped>\n",
       "    .dataframe tbody tr th:only-of-type {\n",
       "        vertical-align: middle;\n",
       "    }\n",
       "\n",
       "    .dataframe tbody tr th {\n",
       "        vertical-align: top;\n",
       "    }\n",
       "\n",
       "    .dataframe thead th {\n",
       "        text-align: right;\n",
       "    }\n",
       "</style>\n",
       "<table border=\"1\" class=\"dataframe\">\n",
       "  <thead>\n",
       "    <tr style=\"text-align: right;\">\n",
       "      <th></th>\n",
       "      <th>id</th>\n",
       "      <th>text</th>\n",
       "    </tr>\n",
       "  </thead>\n",
       "  <tbody>\n",
       "    <tr>\n",
       "      <th>0</th>\n",
       "      <td>0</td>\n",
       "      <td>977146916\\nHLGMC\\n2878891\\n022690\\n01/27/1997 ...</td>\n",
       "    </tr>\n",
       "    <tr>\n",
       "      <th>1</th>\n",
       "      <td>1</td>\n",
       "      <td>026738007\\nCMC\\n15319689\\n3/25/1998 12:00:00 A...</td>\n",
       "    </tr>\n",
       "    <tr>\n",
       "      <th>2</th>\n",
       "      <td>2</td>\n",
       "      <td>071962960\\nBH\\n4236518\\n417454\\n12/10/2001 12:...</td>\n",
       "    </tr>\n",
       "    <tr>\n",
       "      <th>3</th>\n",
       "      <td>3</td>\n",
       "      <td>418520250\\nNVH\\n61562872\\n3/11/1995 12:00:00 A...</td>\n",
       "    </tr>\n",
       "    <tr>\n",
       "      <th>4</th>\n",
       "      <td>4</td>\n",
       "      <td>301443520\\nCTMC\\n49020928\\n448922\\n1/11/1990 1...</td>\n",
       "    </tr>\n",
       "  </tbody>\n",
       "</table>\n",
       "</div>"
      ],
      "text/plain": [
       "   id                                               text\n",
       "0   0  977146916\\nHLGMC\\n2878891\\n022690\\n01/27/1997 ...\n",
       "1   1  026738007\\nCMC\\n15319689\\n3/25/1998 12:00:00 A...\n",
       "2   2  071962960\\nBH\\n4236518\\n417454\\n12/10/2001 12:...\n",
       "3   3  418520250\\nNVH\\n61562872\\n3/11/1995 12:00:00 A...\n",
       "4   4  301443520\\nCTMC\\n49020928\\n448922\\n1/11/1990 1..."
      ]
     },
     "execution_count": 160,
     "metadata": {},
     "output_type": "execute_result"
    }
   ],
   "source": [
    "text_df.head()"
   ]
  },
  {
   "cell_type": "code",
   "execution_count": null,
   "metadata": {},
   "outputs": [],
   "source": [
    "sent_dic={}\n",
    "\n",
    "for m, row in text_df.iterrows():\n",
    "    \n",
    "    ann = lm.fullAnnotate(row['text'])\n",
    "\n",
    "    for i in ann:\n",
    "\n",
    "        sent_ids = [str(j.metadata['sentence']) for j in i['risk_ner_chunk']]\n",
    "\n",
    "        sent_ids.extend([str(j.metadata['sentence']) for j in i['nonsmoker_regex_matches']])\n",
    "\n",
    "        sent_ids.extend([str(j.metadata['sentence']) for j in i['smoker_entities']])\n",
    "\n",
    "        sentences = [j.result for j in i['sentence'] if j.metadata['sentence'] in sent_ids]\n",
    "\n",
    "        print (sentences)\n",
    "        \n",
    "        sent_dic[str(row['id'])] = sentences\n",
    "    \n",
    "    print (m)"
   ]
  },
  {
   "cell_type": "code",
   "execution_count": 144,
   "metadata": {},
   "outputs": [],
   "source": [
    "model_df_text['smoke_sents'] = model_df_text['id'].apply(lambda x: ' '.join(sent_dic[str(x)]))"
   ]
  },
  {
   "cell_type": "code",
   "execution_count": 147,
   "metadata": {},
   "outputs": [],
   "source": [
    "model_df_text.to_pickle('data/smoker_model_withText.pickle')"
   ]
  },
  {
   "cell_type": "code",
   "execution_count": 145,
   "metadata": {},
   "outputs": [
    {
     "data": {
      "text/html": [
       "<div>\n",
       "<style scoped>\n",
       "    .dataframe tbody tr th:only-of-type {\n",
       "        vertical-align: middle;\n",
       "    }\n",
       "\n",
       "    .dataframe tbody tr th {\n",
       "        vertical-align: top;\n",
       "    }\n",
       "\n",
       "    .dataframe thead th {\n",
       "        text-align: right;\n",
       "    }\n",
       "</style>\n",
       "<table border=\"1\" class=\"dataframe\">\n",
       "  <thead>\n",
       "    <tr style=\"text-align: right;\">\n",
       "      <th></th>\n",
       "      <th>text</th>\n",
       "      <th>label</th>\n",
       "      <th>id</th>\n",
       "      <th>entity_PROBLEM</th>\n",
       "      <th>entity_TEST</th>\n",
       "      <th>entity_TREATMENT</th>\n",
       "      <th>entity_Simple_chemical</th>\n",
       "      <th>entity_Gene_or_gene_product</th>\n",
       "      <th>entity_Organ</th>\n",
       "      <th>entity_Organism</th>\n",
       "      <th>...</th>\n",
       "      <th>entity_FORM</th>\n",
       "      <th>entity_Tissue</th>\n",
       "      <th>entity_Cellular_component</th>\n",
       "      <th>entity_Immaterial_anatomical_entity</th>\n",
       "      <th>entity_SMOKER</th>\n",
       "      <th>entity_Anatomical_system</th>\n",
       "      <th>entity_RNA</th>\n",
       "      <th>entity_Amino_acid</th>\n",
       "      <th>entity_Developing_anatomical_structure</th>\n",
       "      <th>smoke_sents</th>\n",
       "    </tr>\n",
       "  </thead>\n",
       "  <tbody>\n",
       "    <tr>\n",
       "      <th>0</th>\n",
       "      <td>hlgmc   // :: am carcinoma of the colon . uns...</td>\n",
       "      <td>CURRENT SMOKER</td>\n",
       "      <td>0</td>\n",
       "      <td>38</td>\n",
       "      <td>29.0</td>\n",
       "      <td>11.0</td>\n",
       "      <td>15.0</td>\n",
       "      <td>13.0</td>\n",
       "      <td>13.0</td>\n",
       "      <td>8.0</td>\n",
       "      <td>...</td>\n",
       "      <td>0.0</td>\n",
       "      <td>0.0</td>\n",
       "      <td>0.0</td>\n",
       "      <td>0.0</td>\n",
       "      <td>0.0</td>\n",
       "      <td>0.0</td>\n",
       "      <td>0.0</td>\n",
       "      <td>0.0</td>\n",
       "      <td>0.0</td>\n",
       "      <td>Drinks ginger brandy to excess , pipe and ciga...</td>\n",
       "    </tr>\n",
       "    <tr>\n",
       "      <th>1</th>\n",
       "      <td>cmc  // :: am mediastinal adenopathy rt. lung...</td>\n",
       "      <td>CURRENT SMOKER</td>\n",
       "      <td>1</td>\n",
       "      <td>51</td>\n",
       "      <td>20.0</td>\n",
       "      <td>39.0</td>\n",
       "      <td>21.0</td>\n",
       "      <td>31.0</td>\n",
       "      <td>5.0</td>\n",
       "      <td>15.0</td>\n",
       "      <td>...</td>\n",
       "      <td>0.0</td>\n",
       "      <td>0.0</td>\n",
       "      <td>0.0</td>\n",
       "      <td>0.0</td>\n",
       "      <td>0.0</td>\n",
       "      <td>0.0</td>\n",
       "      <td>0.0</td>\n",
       "      <td>0.0</td>\n",
       "      <td>0.0</td>\n",
       "      <td></td>\n",
       "    </tr>\n",
       "    <tr>\n",
       "      <th>2</th>\n",
       "      <td>bh   // :: am discharge summary unsigned dis ...</td>\n",
       "      <td>CURRENT SMOKER</td>\n",
       "      <td>2</td>\n",
       "      <td>37</td>\n",
       "      <td>142.0</td>\n",
       "      <td>43.0</td>\n",
       "      <td>31.0</td>\n",
       "      <td>87.0</td>\n",
       "      <td>0.0</td>\n",
       "      <td>1.0</td>\n",
       "      <td>...</td>\n",
       "      <td>7.0</td>\n",
       "      <td>0.0</td>\n",
       "      <td>0.0</td>\n",
       "      <td>0.0</td>\n",
       "      <td>0.0</td>\n",
       "      <td>0.0</td>\n",
       "      <td>0.0</td>\n",
       "      <td>0.0</td>\n",
       "      <td>0.0</td>\n",
       "      <td></td>\n",
       "    </tr>\n",
       "    <tr>\n",
       "      <th>3</th>\n",
       "      <td>nvh  // :: am discharge summary signed dis ad...</td>\n",
       "      <td>CURRENT SMOKER</td>\n",
       "      <td>3</td>\n",
       "      <td>84</td>\n",
       "      <td>56.0</td>\n",
       "      <td>56.0</td>\n",
       "      <td>38.0</td>\n",
       "      <td>6.0</td>\n",
       "      <td>15.0</td>\n",
       "      <td>14.0</td>\n",
       "      <td>...</td>\n",
       "      <td>1.0</td>\n",
       "      <td>1.0</td>\n",
       "      <td>0.0</td>\n",
       "      <td>0.0</td>\n",
       "      <td>0.0</td>\n",
       "      <td>0.0</td>\n",
       "      <td>0.0</td>\n",
       "      <td>0.0</td>\n",
       "      <td>0.0</td>\n",
       "      <td></td>\n",
       "    </tr>\n",
       "    <tr>\n",
       "      <th>4</th>\n",
       "      <td>ctmc   // :: am discharge summary unsigned di...</td>\n",
       "      <td>CURRENT SMOKER</td>\n",
       "      <td>4</td>\n",
       "      <td>31</td>\n",
       "      <td>9.0</td>\n",
       "      <td>30.0</td>\n",
       "      <td>10.0</td>\n",
       "      <td>7.0</td>\n",
       "      <td>2.0</td>\n",
       "      <td>18.0</td>\n",
       "      <td>...</td>\n",
       "      <td>1.0</td>\n",
       "      <td>2.0</td>\n",
       "      <td>1.0</td>\n",
       "      <td>0.0</td>\n",
       "      <td>0.0</td>\n",
       "      <td>0.0</td>\n",
       "      <td>0.0</td>\n",
       "      <td>0.0</td>\n",
       "      <td>0.0</td>\n",
       "      <td></td>\n",
       "    </tr>\n",
       "  </tbody>\n",
       "</table>\n",
       "<p>5 rows × 41 columns</p>\n",
       "</div>"
      ],
      "text/plain": [
       "                                                text           label  id  \\\n",
       "0   hlgmc   // :: am carcinoma of the colon . uns...  CURRENT SMOKER   0   \n",
       "1   cmc  // :: am mediastinal adenopathy rt. lung...  CURRENT SMOKER   1   \n",
       "2   bh   // :: am discharge summary unsigned dis ...  CURRENT SMOKER   2   \n",
       "3   nvh  // :: am discharge summary signed dis ad...  CURRENT SMOKER   3   \n",
       "4   ctmc   // :: am discharge summary unsigned di...  CURRENT SMOKER   4   \n",
       "\n",
       "   entity_PROBLEM  entity_TEST  entity_TREATMENT  entity_Simple_chemical  \\\n",
       "0              38         29.0              11.0                    15.0   \n",
       "1              51         20.0              39.0                    21.0   \n",
       "2              37        142.0              43.0                    31.0   \n",
       "3              84         56.0              56.0                    38.0   \n",
       "4              31          9.0              30.0                    10.0   \n",
       "\n",
       "   entity_Gene_or_gene_product  entity_Organ  entity_Organism  ...  \\\n",
       "0                         13.0          13.0              8.0  ...   \n",
       "1                         31.0           5.0             15.0  ...   \n",
       "2                         87.0           0.0              1.0  ...   \n",
       "3                          6.0          15.0             14.0  ...   \n",
       "4                          7.0           2.0             18.0  ...   \n",
       "\n",
       "   entity_FORM  entity_Tissue  entity_Cellular_component  \\\n",
       "0          0.0            0.0                        0.0   \n",
       "1          0.0            0.0                        0.0   \n",
       "2          7.0            0.0                        0.0   \n",
       "3          1.0            1.0                        0.0   \n",
       "4          1.0            2.0                        1.0   \n",
       "\n",
       "   entity_Immaterial_anatomical_entity  entity_SMOKER  \\\n",
       "0                                  0.0            0.0   \n",
       "1                                  0.0            0.0   \n",
       "2                                  0.0            0.0   \n",
       "3                                  0.0            0.0   \n",
       "4                                  0.0            0.0   \n",
       "\n",
       "   entity_Anatomical_system  entity_RNA  entity_Amino_acid  \\\n",
       "0                       0.0         0.0                0.0   \n",
       "1                       0.0         0.0                0.0   \n",
       "2                       0.0         0.0                0.0   \n",
       "3                       0.0         0.0                0.0   \n",
       "4                       0.0         0.0                0.0   \n",
       "\n",
       "   entity_Developing_anatomical_structure  \\\n",
       "0                                     0.0   \n",
       "1                                     0.0   \n",
       "2                                     0.0   \n",
       "3                                     0.0   \n",
       "4                                     0.0   \n",
       "\n",
       "                                         smoke_sents  \n",
       "0  Drinks ginger brandy to excess , pipe and ciga...  \n",
       "1                                                     \n",
       "2                                                     \n",
       "3                                                     \n",
       "4                                                     \n",
       "\n",
       "[5 rows x 41 columns]"
      ]
     },
     "execution_count": 145,
     "metadata": {},
     "output_type": "execute_result"
    }
   ],
   "source": [
    "model_df_text.head()"
   ]
  },
  {
   "cell_type": "code",
   "execution_count": 146,
   "metadata": {},
   "outputs": [
    {
     "data": {
      "text/plain": [
       "0      Drinks ginger brandy to excess , pipe and ciga...\n",
       "1                                                       \n",
       "2                                                       \n",
       "3                                                       \n",
       "4                                                       \n",
       "                             ...                        \n",
       "497                                                     \n",
       "498                                                     \n",
       "499                                                     \n",
       "500                                                     \n",
       "501                                                     \n",
       "Name: smoke_sents, Length: 502, dtype: object"
      ]
     },
     "execution_count": 146,
     "metadata": {},
     "output_type": "execute_result"
    }
   ],
   "source": [
    "model_df_text['smoke_sents']"
   ]
  },
  {
   "cell_type": "code",
   "execution_count": 155,
   "metadata": {},
   "outputs": [
    {
     "name": "stdout",
     "output_type": "stream",
     "text": [
      "train with tfidf: (502, 141)\n"
     ]
    }
   ],
   "source": [
    "from sklearn.feature_extraction.text import TfidfVectorizer\n",
    "        \n",
    "vect = TfidfVectorizer(max_features=100,  min_df= 5, norm='l2', ngram_range=(1, 3), stop_words=None)\n",
    "\n",
    "tfidf_matrix = vect.fit_transform(model_df_text['smoke_sents'])\n",
    "\n",
    "df = pd.DataFrame(tfidf_matrix.toarray(), columns = vect.get_feature_names())\n",
    "\n",
    "X = pd.concat([df, model_df_text], axis=1)\n",
    "\n",
    "print ('train with tfidf:', X.shape)"
   ]
  },
  {
   "cell_type": "code",
   "execution_count": 156,
   "metadata": {},
   "outputs": [],
   "source": [
    "X_train, X_test, y_train, y_test = train_test_split(X.drop(['text','id', 'label','smoke_sents'], axis=1), X.label, test_size=0.2) "
   ]
  },
  {
   "cell_type": "code",
   "execution_count": 157,
   "metadata": {},
   "outputs": [],
   "source": [
    "#Import Random Forest Model\n",
    "from sklearn.ensemble import RandomForestClassifier\n",
    "\n",
    "#Create a Gaussian Classifier\n",
    "clf=RandomForestClassifier(n_estimators=100)\n",
    "\n",
    "#Train the model using the training sets y_pred=clf.predict(X_test)\n",
    "clf.fit(X_train, y_train)\n",
    "\n",
    "y_pred=clf.predict(X_test)"
   ]
  },
  {
   "cell_type": "code",
   "execution_count": 158,
   "metadata": {},
   "outputs": [
    {
     "name": "stdout",
     "output_type": "stream",
     "text": [
      "                precision    recall  f1-score   support\n",
      "\n",
      "CURRENT SMOKER       0.40      0.17      0.24        12\n",
      "    NON-SMOKER       0.81      0.94      0.87        18\n",
      "   PAST SMOKER       1.00      0.18      0.31        11\n",
      "        SMOKER       0.00      0.00      0.00         3\n",
      "       UNKNOWN       0.78      1.00      0.88        57\n",
      "\n",
      "      accuracy                           0.77       101\n",
      "     macro avg       0.60      0.46      0.46       101\n",
      "  weighted avg       0.74      0.77      0.71       101\n",
      "\n"
     ]
    },
    {
     "name": "stderr",
     "output_type": "stream",
     "text": [
      "/Users/vkocaman/anaconda3/lib/python3.7/site-packages/sklearn/metrics/classification.py:1437: UndefinedMetricWarning: Precision and F-score are ill-defined and being set to 0.0 in labels with no predicted samples.\n",
      "  'precision', 'predicted', average, warn_for)\n"
     ]
    }
   ],
   "source": [
    "print(metrics.classification_report(y_test, y_pred))"
   ]
  },
  {
   "cell_type": "code",
   "execution_count": null,
   "metadata": {},
   "outputs": [],
   "source": []
  }
 ],
 "metadata": {
  "kernelspec": {
   "display_name": "Python 3",
   "language": "python",
   "name": "python3"
  },
  "language_info": {
   "codemirror_mode": {
    "name": "ipython",
    "version": 3
   },
   "file_extension": ".py",
   "mimetype": "text/x-python",
   "name": "python",
   "nbconvert_exporter": "python",
   "pygments_lexer": "ipython3",
   "version": "3.7.4"
  }
 },
 "nbformat": 4,
 "nbformat_minor": 4
}

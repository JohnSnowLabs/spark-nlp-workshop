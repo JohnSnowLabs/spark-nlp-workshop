{
 "cells": [
  {
   "cell_type": "markdown",
   "metadata": {
    "id": "5WtJxy7rhHIE"
   },
   "source": [
    "![JohnSnowLabs](https://nlp.johnsnowlabs.com/assets/images/logo.png)"
   ]
  },
  {
   "cell_type": "markdown",
   "metadata": {
    "id": "kITh1sggRAXq"
   },
   "source": [
    "# Colab Setup"
   ]
  },
  {
   "cell_type": "code",
   "execution_count": null,
   "metadata": {
    "id": "7garUwofe9AJ"
   },
   "outputs": [],
   "source": [
    "import json\n",
    "import os\n",
    "from google.colab import files\n",
    "\n",
    "license_keys = files.upload()\n",
    "\n",
    "with open(list(license_keys.keys())[0]) as f:\n",
    "    license_keys = json.load(f)\n",
    "\n",
    "# Defining license key-value pairs as local variables\n",
    "locals().update(license_keys)\n",
    "\n",
    "# Adding license key-value pairs to environment variables\n",
    "\n",
    "os.environ.update(license_keys)"
   ]
  },
  {
   "cell_type": "code",
   "execution_count": null,
   "metadata": {
    "id": "NkIDJwmxfI6Y"
   },
   "outputs": [],
   "source": [
    "# Installing pyspark and spark-nlp\n",
    "! pip install --upgrade -q pyspark==3.1.2 spark-nlp==$PUBLIC_VERSION\n",
    "\n",
    "# Installing Spark NLP Healthcare\n",
    "! pip install --upgrade -q spark-nlp-jsl==$JSL_VERSION  --extra-index-url https://pypi.johnsnowlabs.com/$SECRET\n",
    "\n",
    "# Installing Spark NLP Display Library for visualization\n",
    "! pip install -q spark-nlp-display"
   ]
  },
  {
   "cell_type": "code",
   "execution_count": 3,
   "metadata": {
    "colab": {
     "base_uri": "https://localhost:8080/",
     "height": 254
    },
    "id": "aOYnDdMFfI9S",
    "outputId": "36ded33a-7327-4af9-a637-0b47caeb8505"
   },
   "outputs": [
    {
     "name": "stdout",
     "output_type": "stream",
     "text": [
      "Spark NLP Version : 3.4.0\n",
      "Spark NLP_JSL Version : 3.4.0\n"
     ]
    },
    {
     "data": {
      "text/html": [
       "\n",
       "            <div>\n",
       "                <p><b>SparkSession - in-memory</b></p>\n",
       "                \n",
       "        <div>\n",
       "            <p><b>SparkContext</b></p>\n",
       "\n",
       "            <p><a href=\"http://821741cd794d:4040\">Spark UI</a></p>\n",
       "\n",
       "            <dl>\n",
       "              <dt>Version</dt>\n",
       "                <dd><code>v3.1.2</code></dd>\n",
       "              <dt>Master</dt>\n",
       "                <dd><code>local[*]</code></dd>\n",
       "              <dt>AppName</dt>\n",
       "                <dd><code>Spark NLP Licensed</code></dd>\n",
       "            </dl>\n",
       "        </div>\n",
       "        \n",
       "            </div>\n",
       "        "
      ],
      "text/plain": [
       "<pyspark.sql.session.SparkSession at 0x7f7b5ba5a5d0>"
      ]
     },
     "execution_count": 3,
     "metadata": {},
     "output_type": "execute_result"
    }
   ],
   "source": [
    "from pyspark.ml import Pipeline,PipelineModel\n",
    "from pyspark.sql import SparkSession\n",
    "from pyspark.sql import functions as F\n",
    "\n",
    "from sparknlp.annotator import *\n",
    "from sparknlp_jsl.annotator import *\n",
    "from sparknlp.base import *\n",
    "import sparknlp_jsl\n",
    "import sparknlp\n",
    "\n",
    "import warnings\n",
    "warnings.filterwarnings('ignore')\n",
    "\n",
    "params = {\"spark.driver.memory\":\"16G\", \n",
    "          \"spark.kryoserializer.buffer.max\":\"2000M\", \n",
    "          \"spark.driver.maxResultSize\":\"2000M\"} \n",
    "\n",
    "print (\"Spark NLP Version :\", sparknlp.version())\n",
    "print (\"Spark NLP_JSL Version :\", sparknlp_jsl.version())\n",
    "\n",
    "spark = sparknlp_jsl.start(license_keys['SECRET'],params=params)\n",
    "\n",
    "spark"
   ]
  },
  {
   "cell_type": "code",
   "execution_count": 4,
   "metadata": {
    "id": "-yDVJf4QfJAW"
   },
   "outputs": [],
   "source": [
    "# if you want to start the session with custom params as in start function above\n",
    "from pyspark.sql import SparkSession\n",
    "\n",
    "def start(SECRET):\n",
    "    builder = SparkSession.builder \\\n",
    "        .appName(\"Spark NLP Licensed\") \\\n",
    "        .master(\"local[*]\") \\\n",
    "        .config(\"spark.driver.memory\", \"16G\") \\\n",
    "        .config(\"spark.serializer\", \"org.apache.spark.serializer.KryoSerializer\") \\\n",
    "        .config(\"spark.kryoserializer.buffer.max\", \"2000M\") \\\n",
    "        .config(\"spark.jars.packages\", \"com.johnsnowlabs.nlp:spark-nlp_2.12:\"+PUBLIC_VERSION) \\\n",
    "        .config(\"spark.jars\", \"https://pypi.johnsnowlabs.com/\"+SECRET+\"/spark-nlp-jsl-\"+JSL_VERSION+\".jar\")\n",
    "      \n",
    "    return builder.getOrCreate()\n",
    "\n",
    "#spark = start(SECRET)"
   ]
  },
  {
   "cell_type": "markdown",
   "metadata": {
    "id": "p0qtUfrLRgz5"
   },
   "source": [
    "## Downloading Mtsamples Dataset"
   ]
  },
  {
   "cell_type": "code",
   "execution_count": 5,
   "metadata": {
    "colab": {
     "base_uri": "https://localhost:8080/"
    },
    "id": "ex7ma_L14EyX",
    "outputId": "8137ec66-e11e-43a6-d8eb-ee3791074bc3"
   },
   "outputs": [
    {
     "name": "stdout",
     "output_type": "stream",
     "text": [
      "+----------+----------------------------------------------------------------------------------------------------+\n",
      "|  category|                                                                                                text|\n",
      "+----------+----------------------------------------------------------------------------------------------------+\n",
      "|Orthopedic| PREOPERATIVE DIAGNOSES 1. EMG-proven left carpal tunnel syndrome. 2. Tenosynovitis of the left t...|\n",
      "|Orthopedic| PREOPERATIVE DIAGNOSIS: Bunion, left foot. POSTOPERATIVE DIAGNOSIS: Bunion, left foot. PROCEDURE...|\n",
      "|Orthopedic| RICE stands for the most important elements of treatment for many injuries---rest, ice, compress...|\n",
      "|Orthopedic| The patient is an 84-year-old retired male who is referred to our office by Dr. O. He comes in t...|\n",
      "|Orthopedic| PREOPERATIVE DIAGNOSES: 1. Left carpal tunnel syndrome (354.0). 2. Left ulnar nerve entrapment a...|\n",
      "|Orthopedic| PREOPERATIVE DIAGNOSIS: Herniated nucleus pulposus T8-T9. POSTOPERATIVE DIAGNOSIS: Herniated nuc...|\n",
      "|Orthopedic| This is a 30-year-old female with pain and swelling, status post injury. FINDINGS: There are pos...|\n",
      "|Orthopedic| PREOPERATIVE DIAGNOSES: 1. Left diabetic foot abscess and infection. 2. Left calcaneus fracture ...|\n",
      "|Orthopedic| PREOPERATIVE DIAGNOSES: 1. Mass, left second toe. 2. Tumor. 3. Left hallux bone invasion of the ...|\n",
      "|Orthopedic| PREOPERATIVE DIAGNOSIS: Carpal tunnel syndrome. POSTOPERATIVE DIAGNOSIS: Carpal tunnel syndrome....|\n",
      "|Orthopedic| PREOPERATIVE DIAGNOSES: 1. Pathologic insufficiency. 2. Fracture of the T8 vertebrae and T9 vert...|\n",
      "|Orthopedic| PREOPERATIVE DIAGNOSIS: Severely comminuted fracture of the distal radius, left. POSTOPERATIVE D...|\n",
      "|Orthopedic| PREOPERATIVE DIAGNOSES: 1. Hallux abductovalgus deformity, right foot. 2. Tailor bunion deformit...|\n",
      "|Orthopedic| PREOPERATIVE DIAGNOSIS: Hammertoe deformity of the right second digit. POSTOPERATIVE DIAGNOSIS: ...|\n",
      "|Orthopedic| PREOPERATIVE DIAGNOSES: 1. Torn anterior cruciate ligament, right knee. 2. Patellofemoral instab...|\n",
      "|Orthopedic| CHIEF COMPLAINT: Left hip pain. HISTORY OF PRESENT ILLNESS: The patient is a 32-year-old male se...|\n",
      "|Orthopedic| PREOPERATIVE DIAGNOSES: 1. Bunion left foot. 2. Hammertoe, left second toe. POSTOPERATIVE DIAGNO...|\n",
      "|Orthopedic| PREOPERATIVE DIAGNOSES: Cervical degenerative disc disease, spondylosis, severe myelopathy, spin...|\n",
      "|Orthopedic| PREOPERATIVE DIAGNOSIS: Osteomyelitis, left hallux. POSTOPERATIVE DIAGNOSIS: Osteomyelitis, left...|\n",
      "|Orthopedic| PREOPERATIVE DIAGNOSIS: Herniated nucleus pulposus, C5-C6, with spinal stenosis. POSTOPERATIVE D...|\n",
      "+----------+----------------------------------------------------------------------------------------------------+\n",
      "only showing top 20 rows\n",
      "\n"
     ]
    }
   ],
   "source": [
    "spark_df = spark.read.parquet(\"/content/drive/MyDrive/mtsamples.parquet\")\n",
    "\n",
    "spark_df.show(truncate=100)"
   ]
  },
  {
   "cell_type": "code",
   "execution_count": 6,
   "metadata": {
    "colab": {
     "base_uri": "https://localhost:8080/"
    },
    "id": "tAdoeUPtfJJC",
    "outputId": "49e4bc17-1595-44ba-b57b-e50c3206c5b8"
   },
   "outputs": [
    {
     "data": {
      "text/plain": [
       "638"
      ]
     },
     "execution_count": 6,
     "metadata": {},
     "output_type": "execute_result"
    }
   ],
   "source": [
    "spark_df.count()"
   ]
  },
  {
   "cell_type": "code",
   "execution_count": 7,
   "metadata": {
    "colab": {
     "base_uri": "https://localhost:8080/"
    },
    "id": "pZOy2Z1C5OWD",
    "outputId": "8bb3bcf9-7877-4539-aa2b-d2e4bb23cf74"
   },
   "outputs": [
    {
     "name": "stdout",
     "output_type": "stream",
     "text": [
      "+----------------+-----+\n",
      "|        category|count|\n",
      "+----------------+-----+\n",
      "|         Urology|  115|\n",
      "|       Neurology|  143|\n",
      "|      Orthopedic|  223|\n",
      "|Gastroenterology|  157|\n",
      "+----------------+-----+\n",
      "\n"
     ]
    }
   ],
   "source": [
    "spark_df.groupBy(\"category\").count().show()"
   ]
  },
  {
   "cell_type": "code",
   "execution_count": 8,
   "metadata": {
    "id": "K3OAsa9d7Lx6"
   },
   "outputs": [],
   "source": [
    "spark_df = spark_df.filter(spark_df.text != \"\")\n",
    "\n",
    "# None values in the text column of data were removed"
   ]
  },
  {
   "cell_type": "code",
   "execution_count": 9,
   "metadata": {
    "colab": {
     "base_uri": "https://localhost:8080/"
    },
    "id": "tkV2DnDa_Izw",
    "outputId": "d7f0d893-40f7-4c3e-e280-ac903a056cf5"
   },
   "outputs": [
    {
     "name": "stdout",
     "output_type": "stream",
     "text": [
      "+----------------+-----+\n",
      "|        category|count|\n",
      "+----------------+-----+\n",
      "|         Urology|  110|\n",
      "|       Neurology|  141|\n",
      "|      Orthopedic|  222|\n",
      "|Gastroenterology|  157|\n",
      "+----------------+-----+\n",
      "\n"
     ]
    }
   ],
   "source": [
    "spark_df.groupBy(\"category\").count().show()"
   ]
  },
  {
   "cell_type": "markdown",
   "metadata": {
    "id": "Y-6xAlho8jGG"
   },
   "source": [
    "**I tried the following values for all models**\n",
    "- **setLr :** 0.001, 0.003, 0.005, 0.0001, 0.0003, 0.0005\n",
    "- **setMaxEpochs :** 16, 32, 64, 128\n",
    "- **setBatchSize :** 8, 10, 16, 32\n",
    "- **setDropout :** 0.2, 0.3, 0.4, 0.5"
   ]
  },
  {
   "cell_type": "markdown",
   "metadata": {
    "id": "LtDsoAs0H4Hi"
   },
   "source": [
    "## Universal Sentence Encoder"
   ]
  },
  {
   "cell_type": "code",
   "execution_count": 10,
   "metadata": {
    "id": "7j6H6xVl5ZzA"
   },
   "outputs": [],
   "source": [
    "(trainingData, testData) = spark_df.randomSplit([0.8, 0.2], seed = 100)"
   ]
  },
  {
   "cell_type": "code",
   "execution_count": 11,
   "metadata": {
    "colab": {
     "base_uri": "https://localhost:8080/"
    },
    "id": "m2Cy37O_7ZhE",
    "outputId": "709ec2d3-ffdf-4a65-a46a-6f8fb09f5472"
   },
   "outputs": [
    {
     "name": "stdout",
     "output_type": "stream",
     "text": [
      "tfhub_use download started this may take some time.\n",
      "Approximate size to download 923.7 MB\n",
      "[OK!]\n"
     ]
    }
   ],
   "source": [
    "document_assembler = DocumentAssembler()\\\n",
    "        .setInputCol(\"text\")\\\n",
    "        .setOutputCol(\"document\")\n",
    "\n",
    "use = UniversalSentenceEncoder.pretrained()\\\n",
    "        .setInputCols(\"document\")\\\n",
    "        .setOutputCol(\"sentence_embeddings\")\n",
    "\n",
    "classifier_dl = ClassifierDLApproach()\\\n",
    "        .setInputCols([\"sentence_embeddings\"])\\\n",
    "        .setOutputCol(\"class\")\\\n",
    "        .setLabelColumn(\"category\")\\\n",
    "        .setBatchSize(8)\\\n",
    "        .setMaxEpochs(64)\\\n",
    "        .setLr(0.003)\\\n",
    "        .setDropout(0.3)\\\n",
    "        .setEnableOutputLogs(True)\\\n",
    "\n",
    "use_clf_pipeline = Pipeline(\n",
    "    stages = [\n",
    "        document_assembler,\n",
    "        use,\n",
    "        classifier_dl\n",
    "    ])"
   ]
  },
  {
   "cell_type": "code",
   "execution_count": 12,
   "metadata": {
    "colab": {
     "base_uri": "https://localhost:8080/"
    },
    "id": "TCkpdXYt7Zjw",
    "outputId": "8a2b17fd-1668-4715-d7e8-4e43953cfb6c"
   },
   "outputs": [
    {
     "name": "stdout",
     "output_type": "stream",
     "text": [
      "CPU times: user 313 ms, sys: 40.3 ms, total: 354 ms\n",
      "Wall time: 47.3 s\n"
     ]
    }
   ],
   "source": [
    "%%time\n",
    "use_clf_pipelineModel = use_clf_pipeline.fit(trainingData)"
   ]
  },
  {
   "cell_type": "code",
   "execution_count": 14,
   "metadata": {
    "colab": {
     "base_uri": "https://localhost:8080/"
    },
    "id": "SZzrv2VB7ZsJ",
    "outputId": "5bfca5aa-a718-4800-b186-b9d662ed5170"
   },
   "outputs": [
    {
     "name": "stdout",
     "output_type": "stream",
     "text": [
      "total 8\n",
      "-rw-r--r-- 1 root root 4469 Feb 14 11:11 ClassifierDLApproach_bae5c4d5fab2.log\n"
     ]
    }
   ],
   "source": [
    "!cd ~/annotator_logs/ && ls -lt"
   ]
  },
  {
   "cell_type": "code",
   "execution_count": 15,
   "metadata": {
    "colab": {
     "base_uri": "https://localhost:8080/"
    },
    "id": "zAb4ibh17lSc",
    "outputId": "a879d2f8-1f32-4a77-866c-bec5235ebd50"
   },
   "outputs": [
    {
     "name": "stdout",
     "output_type": "stream",
     "text": [
      "Training started - epochs: 64 - learning_rate: 0.003 - batch_size: 8 - training_examples: 503 - classes: 4\n",
      "Epoch 0/64 - 0.86s - loss: 76.92651 - acc: 0.60627884 - batches: 63\n",
      "Epoch 1/64 - 0.53s - loss: 64.66552 - acc: 0.75547236 - batches: 63\n",
      "Epoch 2/64 - 0.54s - loss: 62.406364 - acc: 0.8156682 - batches: 63\n",
      "Epoch 3/64 - 0.54s - loss: 60.451885 - acc: 0.874424 - batches: 63\n",
      "Epoch 4/64 - 0.52s - loss: 58.452198 - acc: 0.90063363 - batches: 63\n",
      "Epoch 5/64 - 0.50s - loss: 56.841595 - acc: 0.9228111 - batches: 63\n",
      "Epoch 6/64 - 0.51s - loss: 56.0128 - acc: 0.9248272 - batches: 63\n",
      "Epoch 7/64 - 0.48s - loss: 55.354492 - acc: 0.92684335 - batches: 63\n",
      "Epoch 8/64 - 0.50s - loss: 54.849907 - acc: 0.93490785 - batches: 63\n",
      "Epoch 9/64 - 0.51s - loss: 54.478996 - acc: 0.94095623 - batches: 63\n",
      "Epoch 10/64 - 0.51s - loss: 54.206657 - acc: 0.94095623 - batches: 63\n",
      "Epoch 11/64 - 0.49s - loss: 53.993572 - acc: 0.94297236 - batches: 63\n",
      "Epoch 12/64 - 0.51s - loss: 53.825882 - acc: 0.94297236 - batches: 63\n",
      "Epoch 13/64 - 0.50s - loss: 53.68162 - acc: 0.94297236 - batches: 63\n",
      "Epoch 14/64 - 0.49s - loss: 53.559566 - acc: 0.94297236 - batches: 63\n",
      "Epoch 15/64 - 0.50s - loss: 53.455788 - acc: 0.9449885 - batches: 63\n",
      "Epoch 16/64 - 0.49s - loss: 53.362083 - acc: 0.9449885 - batches: 63\n",
      "Epoch 17/64 - 0.49s - loss: 53.278893 - acc: 0.9449885 - batches: 63\n",
      "Epoch 18/64 - 0.55s - loss: 53.20611 - acc: 0.9472926 - batches: 63\n",
      "Epoch 19/64 - 0.53s - loss: 53.13956 - acc: 0.94930875 - batches: 63\n",
      "Epoch 20/64 - 0.67s - loss: 53.079834 - acc: 0.94930875 - batches: 63\n",
      "Epoch 21/64 - 0.62s - loss: 53.02574 - acc: 0.9513249 - batches: 63\n",
      "Epoch 22/64 - 0.61s - loss: 52.97658 - acc: 0.9513249 - batches: 63\n",
      "Epoch 23/64 - 0.51s - loss: 52.932144 - acc: 0.9513249 - batches: 63\n",
      "Epoch 24/64 - 0.47s - loss: 52.889484 - acc: 0.9513249 - batches: 63\n",
      "Epoch 25/64 - 0.49s - loss: 52.84932 - acc: 0.9513249 - batches: 63\n",
      "Epoch 26/64 - 0.51s - loss: 52.812347 - acc: 0.9513249 - batches: 63\n",
      "Epoch 27/64 - 0.51s - loss: 52.77834 - acc: 0.9513249 - batches: 63\n",
      "Epoch 28/64 - 0.50s - loss: 52.74626 - acc: 0.9513249 - batches: 63\n",
      "Epoch 29/64 - 0.49s - loss: 52.7163 - acc: 0.9513249 - batches: 63\n",
      "Epoch 30/64 - 0.52s - loss: 52.68634 - acc: 0.953341 - batches: 63\n",
      "Epoch 31/64 - 0.56s - loss: 52.660595 - acc: 0.953341 - batches: 63\n",
      "Epoch 32/64 - 0.49s - loss: 52.634533 - acc: 0.953341 - batches: 63\n",
      "Epoch 33/64 - 0.47s - loss: 52.610416 - acc: 0.953341 - batches: 63\n",
      "Epoch 34/64 - 0.50s - loss: 52.587616 - acc: 0.953341 - batches: 63\n",
      "Epoch 35/64 - 0.48s - loss: 52.56596 - acc: 0.953341 - batches: 63\n",
      "Epoch 36/64 - 0.49s - loss: 52.545265 - acc: 0.953341 - batches: 63\n",
      "Epoch 37/64 - 0.49s - loss: 52.524925 - acc: 0.953341 - batches: 63\n",
      "Epoch 38/64 - 0.48s - loss: 52.506355 - acc: 0.953341 - batches: 63\n",
      "Epoch 39/64 - 0.48s - loss: 52.488552 - acc: 0.953341 - batches: 63\n",
      "Epoch 40/64 - 0.53s - loss: 52.471893 - acc: 0.953341 - batches: 63\n",
      "Epoch 41/64 - 0.47s - loss: 52.456345 - acc: 0.953341 - batches: 63\n",
      "Epoch 42/64 - 0.50s - loss: 52.44105 - acc: 0.953341 - batches: 63\n",
      "Epoch 43/64 - 0.52s - loss: 52.426186 - acc: 0.953341 - batches: 63\n",
      "Epoch 44/64 - 0.54s - loss: 52.41236 - acc: 0.953341 - batches: 63\n",
      "Epoch 45/64 - 0.49s - loss: 52.39928 - acc: 0.953341 - batches: 63\n",
      "Epoch 46/64 - 0.51s - loss: 52.386738 - acc: 0.953341 - batches: 63\n",
      "Epoch 47/64 - 0.49s - loss: 52.374886 - acc: 0.953341 - batches: 63\n",
      "Epoch 48/64 - 0.50s - loss: 52.363342 - acc: 0.953341 - batches: 63\n",
      "Epoch 49/64 - 0.50s - loss: 52.3522 - acc: 0.953341 - batches: 63\n",
      "Epoch 50/64 - 0.51s - loss: 52.342163 - acc: 0.953341 - batches: 63\n",
      "Epoch 51/64 - 0.49s - loss: 52.33194 - acc: 0.953341 - batches: 63\n",
      "Epoch 52/64 - 0.51s - loss: 52.321854 - acc: 0.953341 - batches: 63\n",
      "Epoch 53/64 - 0.48s - loss: 52.312775 - acc: 0.953341 - batches: 63\n",
      "Epoch 54/64 - 0.50s - loss: 52.303596 - acc: 0.953341 - batches: 63\n",
      "Epoch 55/64 - 0.48s - loss: 52.295193 - acc: 0.953341 - batches: 63\n",
      "Epoch 56/64 - 0.51s - loss: 52.286453 - acc: 0.953341 - batches: 63\n",
      "Epoch 57/64 - 0.49s - loss: 52.278866 - acc: 0.953341 - batches: 63\n",
      "Epoch 58/64 - 0.50s - loss: 52.271214 - acc: 0.953341 - batches: 63\n",
      "Epoch 59/64 - 0.48s - loss: 52.263515 - acc: 0.953341 - batches: 63\n",
      "Epoch 60/64 - 0.49s - loss: 52.256916 - acc: 0.953341 - batches: 63\n",
      "Epoch 61/64 - 0.48s - loss: 52.249683 - acc: 0.953341 - batches: 63\n",
      "Epoch 62/64 - 0.57s - loss: 52.243206 - acc: 0.953341 - batches: 63\n",
      "Epoch 63/64 - 0.49s - loss: 52.236717 - acc: 0.953341 - batches: 63\n"
     ]
    }
   ],
   "source": [
    "!cat ~/annotator_logs/ClassifierDLApproach_bae5c4d5fab2.log"
   ]
  },
  {
   "cell_type": "markdown",
   "metadata": {
    "id": "HaAoC6EuLRMy"
   },
   "source": [
    "As you can see,  we achieved **95% accuracy score** in less than 1 min with no text preprocessing, which is usually the most time consuming and laborious step in any NLP modeling.We achieved **91% test set accuracy!**"
   ]
  },
  {
   "cell_type": "code",
   "execution_count": 16,
   "metadata": {
    "colab": {
     "base_uri": "https://localhost:8080/"
    },
    "id": "uLxpCfoT7ZpP",
    "outputId": "28b4c05b-8899-4a48-8b5f-8178108718b3"
   },
   "outputs": [
    {
     "name": "stdout",
     "output_type": "stream",
     "text": [
      "                  precision    recall  f1-score   support\n",
      "\n",
      "Gastroenterology       0.93      0.90      0.92        31\n",
      "       Neurology       0.86      0.89      0.88        28\n",
      "      Orthopedic       0.95      0.88      0.91        41\n",
      "         Urology       0.87      0.96      0.91        27\n",
      "\n",
      "        accuracy                           0.91       127\n",
      "       macro avg       0.90      0.91      0.90       127\n",
      "    weighted avg       0.91      0.91      0.91       127\n",
      "\n"
     ]
    }
   ],
   "source": [
    "from sklearn.metrics import confusion_matrix, classification_report, accuracy_score\n",
    "\n",
    "preds = use_clf_pipelineModel.transform(testData)\n",
    "\n",
    "preds_df = preds.select(\"category\",\"text\",\"class.result\").toPandas()\n",
    "\n",
    "preds_df[\"result\"] = preds_df[\"result\"].apply(lambda x : x[0])\n",
    "\n",
    "print (classification_report(preds_df[\"category\"], preds_df[\"result\"]))"
   ]
  },
  {
   "cell_type": "markdown",
   "metadata": {
    "id": "j_JJ0IuKKD39"
   },
   "source": [
    "## BioBert Sentence Embeddings"
   ]
  },
  {
   "cell_type": "code",
   "execution_count": 12,
   "metadata": {
    "colab": {
     "base_uri": "https://localhost:8080/"
    },
    "id": "_sRNhyHM8-Xi",
    "outputId": "d63b3683-a8a7-421e-c6bf-be7ec9d980bd"
   },
   "outputs": [
    {
     "name": "stdout",
     "output_type": "stream",
     "text": [
      "sent_biobert_clinical_base_cased download started this may take some time.\n",
      "Approximate size to download 386.6 MB\n",
      "[OK!]\n"
     ]
    }
   ],
   "source": [
    "document_assembler = DocumentAssembler()\\\n",
    "        .setInputCol(\"text\")\\\n",
    "        .setOutputCol(\"document\")\n",
    "\n",
    "bert_sent = BertSentenceEmbeddings.pretrained(\"sent_biobert_clinical_base_cased\",\"en\")\\\n",
    "      .setInputCols([\"document\"])\\\n",
    "      .setOutputCol(\"sentence_embeddings\")\n",
    "\n",
    "classsifier_dl = ClassifierDLApproach()\\\n",
    "      .setInputCols([\"sentence_embeddings\"])\\\n",
    "      .setOutputCol(\"class\")\\\n",
    "      .setLabelColumn(\"category\")\\\n",
    "      .setMaxEpochs(128)\\\n",
    "      .setBatchSize(8)\\\n",
    "      .setEnableOutputLogs(True)\\\n",
    "      .setLr(0.0005)\\\n",
    "      .setDropout(0.2)\n",
    "\n",
    "bert_sent_clf_pipeline = Pipeline(\n",
    "    stages = [\n",
    "        document_assembler,\n",
    "        bert_sent,\n",
    "        classsifier_dl\n",
    "    ])"
   ]
  },
  {
   "cell_type": "code",
   "execution_count": 13,
   "metadata": {
    "colab": {
     "base_uri": "https://localhost:8080/"
    },
    "id": "uWSoE1a08-aJ",
    "outputId": "a76901cb-463d-4bac-917f-32e28ce912da"
   },
   "outputs": [
    {
     "name": "stdout",
     "output_type": "stream",
     "text": [
      "CPU times: user 2.97 s, sys: 307 ms, total: 3.28 s\n",
      "Wall time: 8min 20s\n"
     ]
    }
   ],
   "source": [
    "%%time\n",
    "bert_sent_pipelineModel = bert_sent_clf_pipeline.fit(trainingData)"
   ]
  },
  {
   "cell_type": "code",
   "execution_count": 14,
   "metadata": {
    "colab": {
     "base_uri": "https://localhost:8080/"
    },
    "id": "L-QBxxpT8-dI",
    "outputId": "f39176b9-e7c8-426e-c468-a0403ef5b836"
   },
   "outputs": [
    {
     "name": "stdout",
     "output_type": "stream",
     "text": [
      "total 12\n",
      "-rw-r--r-- 1 root root 9044 Feb 14 16:23 ClassifierDLApproach_89b9788d5d3d.log\n"
     ]
    }
   ],
   "source": [
    "!cd ~/annotator_logs/ && ls -lt"
   ]
  },
  {
   "cell_type": "code",
   "execution_count": 15,
   "metadata": {
    "colab": {
     "base_uri": "https://localhost:8080/"
    },
    "id": "Wuap12hq8-f2",
    "outputId": "297d6ef5-75b5-419c-bc53-ab5017fd9df3"
   },
   "outputs": [
    {
     "name": "stdout",
     "output_type": "stream",
     "text": [
      "Training started - epochs: 128 - learning_rate: 5.0E-4 - batch_size: 8 - training_examples: 503 - classes: 4\n",
      "Epoch 0/128 - 0.82s - loss: 80.75726 - acc: 0.41071427 - batches: 63\n",
      "Epoch 1/128 - 0.50s - loss: 73.471695 - acc: 0.66129035 - batches: 63\n",
      "Epoch 2/128 - 0.50s - loss: 68.14546 - acc: 0.7258065 - batches: 63\n",
      "Epoch 3/128 - 0.50s - loss: 65.51254 - acc: 0.7419355 - batches: 63\n",
      "Epoch 4/128 - 0.53s - loss: 64.090836 - acc: 0.75 - batches: 63\n",
      "Epoch 5/128 - 0.56s - loss: 63.20666 - acc: 0.7520161 - batches: 63\n",
      "Epoch 6/128 - 0.49s - loss: 62.58945 - acc: 0.76008064 - batches: 63\n",
      "Epoch 7/128 - 0.51s - loss: 62.10406 - acc: 0.766129 - batches: 63\n",
      "Epoch 8/128 - 0.49s - loss: 61.68844 - acc: 0.7782258 - batches: 63\n",
      "Epoch 9/128 - 0.48s - loss: 61.330368 - acc: 0.7782258 - batches: 63\n",
      "Epoch 10/128 - 0.48s - loss: 61.022247 - acc: 0.7822581 - batches: 63\n",
      "Epoch 11/128 - 0.48s - loss: 60.74977 - acc: 0.7842742 - batches: 63\n",
      "Epoch 12/128 - 0.47s - loss: 60.506935 - acc: 0.7883065 - batches: 63\n",
      "Epoch 13/128 - 0.47s - loss: 60.283405 - acc: 0.7903226 - batches: 63\n",
      "Epoch 14/128 - 0.46s - loss: 60.0785 - acc: 0.7983871 - batches: 63\n",
      "Epoch 15/128 - 0.47s - loss: 59.885757 - acc: 0.7983871 - batches: 63\n",
      "Epoch 16/128 - 0.47s - loss: 59.706272 - acc: 0.7983871 - batches: 63\n",
      "Epoch 17/128 - 0.46s - loss: 59.531364 - acc: 0.7983871 - batches: 63\n",
      "Epoch 18/128 - 0.49s - loss: 59.356136 - acc: 0.7983871 - batches: 63\n",
      "Epoch 19/128 - 0.50s - loss: 59.173393 - acc: 0.80040324 - batches: 63\n",
      "Epoch 20/128 - 0.49s - loss: 58.98586 - acc: 0.7983871 - batches: 63\n",
      "Epoch 21/128 - 0.48s - loss: 58.81614 - acc: 0.81653225 - batches: 63\n",
      "Epoch 22/128 - 0.65s - loss: 58.670788 - acc: 0.8326613 - batches: 63\n",
      "Epoch 23/128 - 0.59s - loss: 58.54387 - acc: 0.8447581 - batches: 63\n",
      "Epoch 24/128 - 0.64s - loss: 58.427296 - acc: 0.8528226 - batches: 63\n",
      "Epoch 25/128 - 0.68s - loss: 58.31557 - acc: 0.8608871 - batches: 63\n",
      "Epoch 26/128 - 0.47s - loss: 58.20603 - acc: 0.8689516 - batches: 63\n",
      "Epoch 27/128 - 0.45s - loss: 58.09812 - acc: 0.875 - batches: 63\n",
      "Epoch 28/128 - 0.47s - loss: 57.99237 - acc: 0.8770161 - batches: 63\n",
      "Epoch 29/128 - 0.44s - loss: 57.89326 - acc: 0.8810484 - batches: 63\n",
      "Epoch 30/128 - 0.46s - loss: 57.79965 - acc: 0.88508064 - batches: 63\n",
      "Epoch 31/128 - 0.44s - loss: 57.711555 - acc: 0.88709676 - batches: 63\n",
      "Epoch 32/128 - 0.46s - loss: 57.62804 - acc: 0.88709676 - batches: 63\n",
      "Epoch 33/128 - 0.45s - loss: 57.548317 - acc: 0.88709676 - batches: 63\n",
      "Epoch 34/128 - 0.47s - loss: 57.4739 - acc: 0.8891129 - batches: 63\n",
      "Epoch 35/128 - 0.45s - loss: 57.40333 - acc: 0.89314514 - batches: 63\n",
      "Epoch 36/128 - 0.46s - loss: 57.335537 - acc: 0.89314514 - batches: 63\n",
      "Epoch 37/128 - 0.48s - loss: 57.270454 - acc: 0.89314514 - batches: 63\n",
      "Epoch 38/128 - 0.45s - loss: 57.208366 - acc: 0.891129 - batches: 63\n",
      "Epoch 39/128 - 0.46s - loss: 57.149452 - acc: 0.891129 - batches: 63\n",
      "Epoch 40/128 - 0.43s - loss: 57.093 - acc: 0.8971774 - batches: 63\n",
      "Epoch 41/128 - 0.46s - loss: 57.03867 - acc: 0.8951613 - batches: 63\n",
      "Epoch 42/128 - 0.48s - loss: 56.98696 - acc: 0.8951613 - batches: 63\n",
      "Epoch 43/128 - 0.46s - loss: 56.936684 - acc: 0.8971774 - batches: 63\n",
      "Epoch 44/128 - 0.46s - loss: 56.88798 - acc: 0.8971774 - batches: 63\n",
      "Epoch 45/128 - 0.44s - loss: 56.840797 - acc: 0.8971774 - batches: 63\n",
      "Epoch 46/128 - 0.45s - loss: 56.79537 - acc: 0.8971774 - batches: 63\n",
      "Epoch 47/128 - 0.44s - loss: 56.751324 - acc: 0.8971774 - batches: 63\n",
      "Epoch 48/128 - 0.46s - loss: 56.709114 - acc: 0.8971774 - batches: 63\n",
      "Epoch 49/128 - 0.45s - loss: 56.66814 - acc: 0.8971774 - batches: 63\n",
      "Epoch 50/128 - 0.48s - loss: 56.62781 - acc: 0.8991935 - batches: 63\n",
      "Epoch 51/128 - 0.44s - loss: 56.588974 - acc: 0.90120965 - batches: 63\n",
      "Epoch 52/128 - 0.56s - loss: 56.55097 - acc: 0.90120965 - batches: 63\n",
      "Epoch 53/128 - 0.44s - loss: 56.514122 - acc: 0.90120965 - batches: 63\n",
      "Epoch 54/128 - 0.51s - loss: 56.478493 - acc: 0.9032258 - batches: 63\n",
      "Epoch 55/128 - 0.64s - loss: 56.443737 - acc: 0.9032258 - batches: 63\n",
      "Epoch 56/128 - 0.47s - loss: 56.40981 - acc: 0.9032258 - batches: 63\n",
      "Epoch 57/128 - 0.46s - loss: 56.37631 - acc: 0.9052419 - batches: 63\n",
      "Epoch 58/128 - 0.48s - loss: 56.34402 - acc: 0.9052419 - batches: 63\n",
      "Epoch 59/128 - 0.50s - loss: 56.31231 - acc: 0.9052419 - batches: 63\n",
      "Epoch 60/128 - 0.46s - loss: 56.281456 - acc: 0.9052419 - batches: 63\n",
      "Epoch 61/128 - 0.46s - loss: 56.250942 - acc: 0.9072581 - batches: 63\n",
      "Epoch 62/128 - 0.50s - loss: 56.221626 - acc: 0.9072581 - batches: 63\n",
      "Epoch 63/128 - 0.46s - loss: 56.192585 - acc: 0.9072581 - batches: 63\n",
      "Epoch 64/128 - 0.45s - loss: 56.16413 - acc: 0.9072581 - batches: 63\n",
      "Epoch 65/128 - 0.46s - loss: 56.135918 - acc: 0.9072581 - batches: 63\n",
      "Epoch 66/128 - 0.45s - loss: 56.10879 - acc: 0.9072581 - batches: 63\n",
      "Epoch 67/128 - 0.46s - loss: 56.08215 - acc: 0.9072581 - batches: 63\n",
      "Epoch 68/128 - 0.44s - loss: 56.055935 - acc: 0.9092742 - batches: 63\n",
      "Epoch 69/128 - 0.45s - loss: 56.0305 - acc: 0.9092742 - batches: 63\n",
      "Epoch 70/128 - 0.43s - loss: 56.005165 - acc: 0.9092742 - batches: 63\n",
      "Epoch 71/128 - 0.45s - loss: 55.980175 - acc: 0.9092742 - batches: 63\n",
      "Epoch 72/128 - 0.46s - loss: 55.955814 - acc: 0.9092742 - batches: 63\n",
      "Epoch 73/128 - 0.45s - loss: 55.93181 - acc: 0.91129035 - batches: 63\n",
      "Epoch 74/128 - 0.47s - loss: 55.908333 - acc: 0.91129035 - batches: 63\n",
      "Epoch 75/128 - 0.46s - loss: 55.88516 - acc: 0.91129035 - batches: 63\n",
      "Epoch 76/128 - 0.46s - loss: 55.86264 - acc: 0.91129035 - batches: 63\n",
      "Epoch 77/128 - 0.46s - loss: 55.84041 - acc: 0.91129035 - batches: 63\n",
      "Epoch 78/128 - 0.48s - loss: 55.818806 - acc: 0.91129035 - batches: 63\n",
      "Epoch 79/128 - 0.45s - loss: 55.797207 - acc: 0.91129035 - batches: 63\n",
      "Epoch 80/128 - 0.48s - loss: 55.77583 - acc: 0.91129035 - batches: 63\n",
      "Epoch 81/128 - 0.46s - loss: 55.75499 - acc: 0.91129035 - batches: 63\n",
      "Epoch 82/128 - 0.48s - loss: 55.734562 - acc: 0.91129035 - batches: 63\n",
      "Epoch 83/128 - 0.48s - loss: 55.714535 - acc: 0.91129035 - batches: 63\n",
      "Epoch 84/128 - 0.47s - loss: 55.695107 - acc: 0.91129035 - batches: 63\n",
      "Epoch 85/128 - 0.55s - loss: 55.675644 - acc: 0.91129035 - batches: 63\n",
      "Epoch 86/128 - 0.55s - loss: 55.65642 - acc: 0.9133065 - batches: 63\n",
      "Epoch 87/128 - 0.45s - loss: 55.63754 - acc: 0.9133065 - batches: 63\n",
      "Epoch 88/128 - 0.46s - loss: 55.61897 - acc: 0.9133065 - batches: 63\n",
      "Epoch 89/128 - 0.46s - loss: 55.60057 - acc: 0.9133065 - batches: 63\n",
      "Epoch 90/128 - 0.44s - loss: 55.582134 - acc: 0.9133065 - batches: 63\n",
      "Epoch 91/128 - 0.47s - loss: 55.564392 - acc: 0.9133065 - batches: 63\n",
      "Epoch 92/128 - 0.47s - loss: 55.5467 - acc: 0.9153226 - batches: 63\n",
      "Epoch 93/128 - 0.48s - loss: 55.52914 - acc: 0.9153226 - batches: 63\n",
      "Epoch 94/128 - 0.49s - loss: 55.51181 - acc: 0.9153226 - batches: 63\n",
      "Epoch 95/128 - 0.49s - loss: 55.49466 - acc: 0.9153226 - batches: 63\n",
      "Epoch 96/128 - 0.48s - loss: 55.477932 - acc: 0.9153226 - batches: 63\n",
      "Epoch 97/128 - 0.45s - loss: 55.46111 - acc: 0.9153226 - batches: 63\n",
      "Epoch 98/128 - 0.45s - loss: 55.44477 - acc: 0.9153226 - batches: 63\n",
      "Epoch 99/128 - 0.46s - loss: 55.42862 - acc: 0.9173387 - batches: 63\n",
      "Epoch 100/128 - 0.46s - loss: 55.412533 - acc: 0.9173387 - batches: 63\n",
      "Epoch 101/128 - 0.46s - loss: 55.3968 - acc: 0.91935486 - batches: 63\n",
      "Epoch 102/128 - 0.46s - loss: 55.380928 - acc: 0.91935486 - batches: 63\n",
      "Epoch 103/128 - 0.46s - loss: 55.365536 - acc: 0.91935486 - batches: 63\n",
      "Epoch 104/128 - 0.45s - loss: 55.350204 - acc: 0.91935486 - batches: 63\n",
      "Epoch 105/128 - 0.47s - loss: 55.33532 - acc: 0.91935486 - batches: 63\n",
      "Epoch 106/128 - 0.46s - loss: 55.320538 - acc: 0.91935486 - batches: 63\n",
      "Epoch 107/128 - 0.46s - loss: 55.30558 - acc: 0.921371 - batches: 63\n",
      "Epoch 108/128 - 0.47s - loss: 55.29099 - acc: 0.921371 - batches: 63\n",
      "Epoch 109/128 - 0.46s - loss: 55.27631 - acc: 0.921371 - batches: 63\n",
      "Epoch 110/128 - 0.45s - loss: 55.261944 - acc: 0.921371 - batches: 63\n",
      "Epoch 111/128 - 0.47s - loss: 55.24765 - acc: 0.9233871 - batches: 63\n",
      "Epoch 112/128 - 0.46s - loss: 55.23355 - acc: 0.9233871 - batches: 63\n",
      "Epoch 113/128 - 0.47s - loss: 55.219616 - acc: 0.9233871 - batches: 63\n",
      "Epoch 114/128 - 0.45s - loss: 55.205864 - acc: 0.9233871 - batches: 63\n",
      "Epoch 115/128 - 0.67s - loss: 55.192177 - acc: 0.9233871 - batches: 63\n",
      "Epoch 116/128 - 0.45s - loss: 55.178593 - acc: 0.92540324 - batches: 63\n",
      "Epoch 117/128 - 0.48s - loss: 55.16533 - acc: 0.92540324 - batches: 63\n",
      "Epoch 118/128 - 0.45s - loss: 55.152103 - acc: 0.92540324 - batches: 63\n",
      "Epoch 119/128 - 0.46s - loss: 55.13893 - acc: 0.92540324 - batches: 63\n",
      "Epoch 120/128 - 0.44s - loss: 55.12606 - acc: 0.92741936 - batches: 63\n",
      "Epoch 121/128 - 0.45s - loss: 55.113205 - acc: 0.92741936 - batches: 63\n",
      "Epoch 122/128 - 0.50s - loss: 55.10029 - acc: 0.92741936 - batches: 63\n",
      "Epoch 123/128 - 0.48s - loss: 55.08775 - acc: 0.92741936 - batches: 63\n",
      "Epoch 124/128 - 0.47s - loss: 55.075195 - acc: 0.92741936 - batches: 63\n",
      "Epoch 125/128 - 0.44s - loss: 55.062603 - acc: 0.92741936 - batches: 63\n",
      "Epoch 126/128 - 0.46s - loss: 55.050175 - acc: 0.92741936 - batches: 63\n",
      "Epoch 127/128 - 0.47s - loss: 55.037914 - acc: 0.92741936 - batches: 63\n"
     ]
    }
   ],
   "source": [
    "!cat ~/annotator_logs/ClassifierDLApproach_89b9788d5d3d.log"
   ]
  },
  {
   "cell_type": "code",
   "execution_count": 16,
   "metadata": {
    "colab": {
     "base_uri": "https://localhost:8080/"
    },
    "id": "jX01hiQI8-iu",
    "outputId": "15b1465e-c09d-4b88-b582-20d1525c3e75"
   },
   "outputs": [
    {
     "name": "stdout",
     "output_type": "stream",
     "text": [
      "                  precision    recall  f1-score   support\n",
      "\n",
      "Gastroenterology       0.88      0.90      0.89        31\n",
      "       Neurology       0.71      0.86      0.77        28\n",
      "      Orthopedic       0.87      0.83      0.85        41\n",
      "         Urology       0.82      0.67      0.73        27\n",
      "\n",
      "        accuracy                           0.82       127\n",
      "       macro avg       0.82      0.81      0.81       127\n",
      "    weighted avg       0.82      0.82      0.82       127\n",
      "\n"
     ]
    }
   ],
   "source": [
    "from sklearn.metrics import confusion_matrix, classification_report, accuracy_score\n",
    "\n",
    "preds = bert_sent_pipelineModel.transform(testData)\n",
    "\n",
    "preds_df = preds.select(\"category\",\"text\",\"class.result\").toPandas()\n",
    "\n",
    "preds_df[\"result\"] = preds_df[\"result\"].apply(lambda x : x[0])\n",
    "\n",
    "print (classification_report(preds_df[\"category\"], preds_df[\"result\"]))"
   ]
  },
  {
   "cell_type": "markdown",
   "metadata": {
    "id": "56Vz0YYPLkBY"
   },
   "source": [
    "## Clinical Longformer Embeddings\n",
    "\n",
    "This embeddings model was imported from Hugging Face( [link](https://huggingface.co/yikuan8/Clinical-Longformer)). Clinical-Longformer is a clinical knowledge enriched version of Longformer that was further pretrained using MIMIC-III clinical notes. It allows up to 4,096 tokens as the model input."
   ]
  },
  {
   "cell_type": "code",
   "execution_count": 11,
   "metadata": {
    "colab": {
     "base_uri": "https://localhost:8080/"
    },
    "id": "vNXzLEIz9VJE",
    "outputId": "98596b55-3e2c-42b8-a3eb-9d007ed1d38d"
   },
   "outputs": [
    {
     "name": "stdout",
     "output_type": "stream",
     "text": [
      "clinical_longformer download started this may take some time.\n",
      "Approximate size to download 510.1 MB\n",
      "[OK!]\n"
     ]
    }
   ],
   "source": [
    "document_assembler = DocumentAssembler()\\\n",
    "    .setInputCol(\"text\")\\\n",
    "    .setOutputCol(\"document\")\n",
    "\n",
    "tokenizer = Tokenizer()\\\n",
    "    .setInputCols([\"document\"])\\\n",
    "    .setOutputCol(\"token\")\n",
    "\n",
    "lf_embeddings = LongformerEmbeddings.pretrained(\"clinical_longformer\", \"en\")\\\n",
    "    .setInputCols([\"document\", \"token\"])\\\n",
    "    .setOutputCol(\"embeddings\")\\\n",
    "    .setCaseSensitive(True)\\\n",
    "    .setMaxSentenceLength(4096)\n",
    "\n",
    "embeddingsSentence = SentenceEmbeddings() \\\n",
    "    .setInputCols([\"document\", \"embeddings\"]) \\\n",
    "    .setOutputCol(\"sentence_embeddings\") \\\n",
    "    .setPoolingStrategy(\"AVERAGE\")\n",
    "\n",
    "classifierdl = ClassifierDLApproach()\\\n",
    "    .setInputCols([\"sentence_embeddings\"])\\\n",
    "    .setOutputCol(\"class\")\\\n",
    "    .setLabelColumn(\"category\")\\\n",
    "    .setBatchSize(8)\\\n",
    "    .setMaxEpochs(32)\\\n",
    "    .setLr(0.003)\\\n",
    "    .setDropout(0.3)\\\n",
    "    .setEnableOutputLogs(True)\n",
    "\n",
    "lf_pipeline = Pipeline(\n",
    "               stages = [\n",
    "                    document_assembler,\n",
    "                    tokenizer,\n",
    "                    lf_embeddings,\n",
    "                    embeddingsSentence,\n",
    "                    classifierdl\n",
    "               ])"
   ]
  },
  {
   "cell_type": "code",
   "execution_count": 12,
   "metadata": {
    "colab": {
     "base_uri": "https://localhost:8080/"
    },
    "id": "2_KZoPD79VL8",
    "outputId": "a837e84e-cc7a-42f5-902a-9c582999ceb6"
   },
   "outputs": [
    {
     "name": "stdout",
     "output_type": "stream",
     "text": [
      "CPU times: user 40 s, sys: 4.87 s, total: 44.8 s\n",
      "Wall time: 1h 47min 56s\n"
     ]
    }
   ],
   "source": [
    "%%time\n",
    "lf_model = lf_pipeline.fit(trainingData)"
   ]
  },
  {
   "cell_type": "code",
   "execution_count": 13,
   "metadata": {
    "colab": {
     "base_uri": "https://localhost:8080/"
    },
    "id": "Y1THaM-49VRY",
    "outputId": "f793eaaf-6586-45b0-db0b-60681641ff61"
   },
   "outputs": [
    {
     "name": "stdout",
     "output_type": "stream",
     "text": [
      "total 4\n",
      "-rw-r--r-- 1 root root 2274 Feb 14 10:18 ClassifierDLApproach_f28696d93dc9.log\n"
     ]
    }
   ],
   "source": [
    "!cd ~/annotator_logs/ && ls -lt"
   ]
  },
  {
   "cell_type": "code",
   "execution_count": 17,
   "metadata": {
    "colab": {
     "base_uri": "https://localhost:8080/"
    },
    "id": "yLnRCIAW9VVE",
    "outputId": "97007007-9882-4835-e041-933025c7a1c0"
   },
   "outputs": [
    {
     "name": "stdout",
     "output_type": "stream",
     "text": [
      "Training started - epochs: 32 - learning_rate: 0.003 - batch_size: 8 - training_examples: 491 - classes: 4\n",
      "Epoch 1/32 - 0.40s - loss: 86.889915 - acc: 0.39890712 - batches: 62\n",
      "Epoch 2/32 - 0.16s - loss: 75.45212 - acc: 0.5928962 - batches: 62\n",
      "Epoch 3/32 - 0.16s - loss: 68.27135 - acc: 0.72336066 - batches: 62\n",
      "Epoch 4/32 - 0.16s - loss: 66.29152 - acc: 0.74248636 - batches: 62\n",
      "Epoch 5/32 - 0.16s - loss: 64.60902 - acc: 0.7581967 - batches: 62\n",
      "Epoch 6/32 - 0.16s - loss: 63.89928 - acc: 0.76229507 - batches: 62\n",
      "Epoch 7/32 - 0.16s - loss: 62.76322 - acc: 0.76229507 - batches: 62\n",
      "Epoch 8/32 - 0.16s - loss: 61.017834 - acc: 0.7916667 - batches: 62\n",
      "Epoch 9/32 - 0.16s - loss: 60.243973 - acc: 0.80601096 - batches: 62\n",
      "Epoch 10/32 - 0.16s - loss: 59.79163 - acc: 0.8162569 - batches: 62\n",
      "Epoch 11/32 - 0.16s - loss: 59.42674 - acc: 0.8340164 - batches: 62\n",
      "Epoch 12/32 - 0.16s - loss: 59.10232 - acc: 0.83811474 - batches: 62\n",
      "Epoch 13/32 - 0.16s - loss: 58.826294 - acc: 0.8422131 - batches: 62\n",
      "Epoch 14/32 - 0.16s - loss: 58.557236 - acc: 0.8545082 - batches: 62\n",
      "Epoch 15/32 - 0.16s - loss: 58.32943 - acc: 0.852459 - batches: 62\n",
      "Epoch 16/32 - 0.16s - loss: 58.133854 - acc: 0.8545082 - batches: 62\n",
      "Epoch 17/32 - 0.16s - loss: 57.968803 - acc: 0.8545082 - batches: 62\n",
      "Epoch 18/32 - 0.16s - loss: 57.817616 - acc: 0.8586066 - batches: 62\n",
      "Epoch 19/32 - 0.16s - loss: 57.685337 - acc: 0.8606557 - batches: 62\n",
      "Epoch 20/32 - 0.16s - loss: 57.570393 - acc: 0.8606557 - batches: 62\n",
      "Epoch 21/32 - 0.16s - loss: 57.46882 - acc: 0.86270493 - batches: 62\n",
      "Epoch 22/32 - 0.16s - loss: 57.371826 - acc: 0.8647541 - batches: 62\n",
      "Epoch 23/32 - 0.16s - loss: 57.28247 - acc: 0.8647541 - batches: 62\n",
      "Epoch 24/32 - 0.16s - loss: 57.19982 - acc: 0.8647541 - batches: 62\n",
      "Epoch 25/32 - 0.16s - loss: 57.123367 - acc: 0.8647541 - batches: 62\n",
      "Epoch 26/32 - 0.16s - loss: 57.05268 - acc: 0.8647541 - batches: 62\n",
      "Epoch 27/32 - 0.16s - loss: 56.984894 - acc: 0.86885244 - batches: 62\n",
      "Epoch 28/32 - 0.16s - loss: 56.924477 - acc: 0.87090164 - batches: 62\n",
      "Epoch 29/32 - 0.16s - loss: 56.86774 - acc: 0.87090164 - batches: 62\n",
      "Epoch 30/32 - 0.16s - loss: 56.81587 - acc: 0.87090164 - batches: 62\n",
      "Epoch 31/32 - 0.16s - loss: 56.766792 - acc: 0.8729508 - batches: 62\n",
      "Epoch 32/32 - 0.16s - loss: 56.719395 - acc: 0.8729508 - batches: 62\n",
      "CPU times: user 212 ms, sys: 92.8 ms, total: 305 ms\n",
      "Wall time: 1h 47min 56s\n"
     ]
    }
   ],
   "source": [
    "!cat ~/annotator_logs/ClassifierDLApproach_f28696d93dc9.log"
   ]
  },
  {
   "cell_type": "code",
   "execution_count": null,
   "metadata": {
    "id": "Y3PmMLzS9VYV"
   },
   "outputs": [],
   "source": [
    "from sklearn.metrics import confusion_matrix, classification_report, accuracy_score\n",
    "\n",
    "preds = lf_model.transform(testData)\n",
    "\n",
    "preds_df = preds.select(\"category\",\"text\",\"class.result\").toPandas()\n",
    "\n",
    "preds_df[\"result\"] = preds_df[\"result\"].apply(lambda x : x[0])\n",
    "\n",
    "print (classification_report(preds_df[\"category\"], preds_df[\"result\"]))"
   ]
  },
  {
   "cell_type": "markdown",
   "metadata": {
    "id": "HCFuMA_N6PBq"
   },
   "source": [
    "Clinical Longformer embeddings results are good, but takes a long time than BioBert & USE on colab"
   ]
  },
  {
   "cell_type": "markdown",
   "metadata": {
    "id": "c3gtovc44MT9"
   },
   "source": [
    "```\n",
    "                  precision    recall  f1-score   support\n",
    "\n",
    "Gastroenterology       0.82      0.92      0.87        36\n",
    "       Neurology       0.89      0.76      0.82        33\n",
    "      Orthopedic       0.88      0.96      0.91        45\n",
    "         Urology       0.77      0.68      0.72        25\n",
    "\n",
    "        accuracy                           0.85       139\n",
    "       macro avg       0.84      0.83      0.83       139\n",
    "    weighted avg       0.85      0.85      0.85       139\n",
    "```\n",
    "\n",
    "\n",
    "\n",
    "\n"
   ]
  }
 ],
 "metadata": {
  "accelerator": "GPU",
  "colab": {
   "collapsed_sections": [],
   "name": "Clinical Longformer vs BertSentence & USE.ipynb",
   "provenance": [],
   "toc_visible": true
  },
  "kernelspec": {
   "display_name": "Python 3 (ipykernel)",
   "language": "python",
   "name": "python3"
  },
  "language_info": {
   "codemirror_mode": {
    "name": "ipython",
    "version": 3
   },
   "file_extension": ".py",
   "mimetype": "text/x-python",
   "name": "python",
   "nbconvert_exporter": "python",
   "pygments_lexer": "ipython3",
   "version": "3.8.12"
  }
 },
 "nbformat": 4,
 "nbformat_minor": 4
}

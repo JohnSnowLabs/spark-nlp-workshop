{
  "cells": [
    {
      "cell_type": "markdown",
      "metadata": {
        "id": "5ltDwXLQlNs3"
      },
      "source": [
        "![JohnSnowLabs](https://nlp.johnsnowlabs.com/assets/images/logo.png)"
      ]
    },
    {
      "cell_type": "markdown",
      "metadata": {
        "id": "Aua6Y3mBlNs5"
      },
      "source": [
        "[![Open In Colab](https://colab.research.google.com/assets/colab-badge.svg)](https://colab.research.google.com/github/JohnSnowLabs/spark-nlp-workshop/blob/master/tutorials/Certification_Trainings/Healthcare/30.Clinical_Text_Classification_with_Spark_NLP.ipynb)"
      ]
    },
    {
      "cell_type": "markdown",
      "metadata": {
        "id": "T70JAFhuB_hY"
      },
      "source": [
        "# Colab Setup"
      ]
    },
    {
      "cell_type": "code",
      "execution_count": null,
      "metadata": {
        "id": "MRTflinqmhKL"
      },
      "outputs": [],
      "source": [
        "import json\n",
        "import os\n",
        "\n",
        "from google.colab import files\n",
        "\n",
        "if 'spark_jsl.json' not in os.listdir():\n",
        "  license_keys = files.upload()\n",
        "  os.rename(list(license_keys.keys())[0], 'spark_jsl.json')\n",
        "\n",
        "with open('spark_jsl.json') as f:\n",
        "    license_keys = json.load(f)\n",
        "\n",
        "# Defining license key-value pairs as local variables\n",
        "locals().update(license_keys)\n",
        "os.environ.update(license_keys)"
      ]
    },
    {
      "cell_type": "code",
      "execution_count": null,
      "metadata": {
        "id": "LOdhMuyDmwGh"
      },
      "outputs": [],
      "source": [
        "# Installing spark-nlp for GPU\n",
        "!wget https://setup.johnsnowlabs.com/colab.sh -O - | bash /dev/stdin -p 3.2.3 -s $PUBLIC_VERSION -g\n",
        "\n",
        "# Installing Spark NLP Healthcare\n",
        "! pip install --upgrade -q spark-nlp-jsl==$JSL_VERSION  --extra-index-url https://pypi.johnsnowlabs.com/$SECRET"
      ]
    },
    {
      "cell_type": "code",
      "source": [
        "!pip install -q tensorflow==2.11.0\n",
        "!pip install -q tensorflow-addons"
      ],
      "metadata": {
        "id": "oTL31oMyrj_d"
      },
      "execution_count": null,
      "outputs": []
    },
    {
      "cell_type": "markdown",
      "metadata": {
        "id": "OPpHn3VfWUJ5"
      },
      "source": [
        "**PLEASE RE-START RUNTIME AND CONTINUE**"
      ]
    },
    {
      "cell_type": "code",
      "execution_count": 1,
      "metadata": {
        "id": "NvLJvIbuVwDY"
      },
      "outputs": [],
      "source": [
        "import json\n",
        "import os\n",
        "\n",
        "with open('spark_jsl.json') as f:\n",
        "    license_keys = json.load(f)\n",
        "\n",
        "# Defining license key-value pairs as local variables\n",
        "locals().update(license_keys)\n",
        "os.environ.update(license_keys)"
      ]
    },
    {
      "cell_type": "code",
      "execution_count": 2,
      "metadata": {
        "colab": {
          "base_uri": "https://localhost:8080/",
          "height": 258
        },
        "id": "_em57ItxLnJm",
        "outputId": "ffabbd44-4710-4c2c-dc5d-021faf3037d4"
      },
      "outputs": [
        {
          "output_type": "stream",
          "name": "stdout",
          "text": [
            "Spark NLP Version : 4.3.0\n",
            "Spark NLP_JSL Version : 4.3.0\n"
          ]
        },
        {
          "output_type": "execute_result",
          "data": {
            "text/plain": [
              "<pyspark.sql.session.SparkSession at 0x7f7a2cb20cd0>"
            ],
            "text/html": [
              "\n",
              "            <div>\n",
              "                <p><b>SparkSession - in-memory</b></p>\n",
              "                \n",
              "        <div>\n",
              "            <p><b>SparkContext</b></p>\n",
              "\n",
              "            <p><a href=\"http://22957a16a266:4040\">Spark UI</a></p>\n",
              "\n",
              "            <dl>\n",
              "              <dt>Version</dt>\n",
              "                <dd><code>v3.2.3</code></dd>\n",
              "              <dt>Master</dt>\n",
              "                <dd><code>local[*]</code></dd>\n",
              "              <dt>AppName</dt>\n",
              "                <dd><code>Spark NLP Licensed</code></dd>\n",
              "            </dl>\n",
              "        </div>\n",
              "        \n",
              "            </div>\n",
              "        "
            ]
          },
          "metadata": {},
          "execution_count": 2
        }
      ],
      "source": [
        "import pandas as pd\n",
        "from sklearn.metrics import confusion_matrix, classification_report, accuracy_score\n",
        "\n",
        "import sparknlp\n",
        "import sparknlp_jsl\n",
        "\n",
        "from sparknlp.base import *\n",
        "from sparknlp.annotator import *\n",
        "from sparknlp_jsl.base import *\n",
        "from sparknlp_jsl.annotator import *\n",
        "\n",
        "from pyspark.sql import SparkSession\n",
        "from pyspark.ml import Pipeline,PipelineModel\n",
        "\n",
        "import warnings\n",
        "warnings.filterwarnings('ignore')\n",
        "\n",
        "params = {\"spark.driver.memory\":\"24G\", \n",
        "          \"spark.kryoserializer.buffer.max\":\"2000M\", \n",
        "          \"spark.driver.maxResultSize\":\"2000M\"} \n",
        "\n",
        "spark = sparknlp_jsl.start(license_keys['SECRET'],params=params, gpu=True)\n",
        "\n",
        "print (\"Spark NLP Version :\", sparknlp.version())\n",
        "print (\"Spark NLP_JSL Version :\", sparknlp_jsl.version())\n",
        "\n",
        "spark"
      ]
    },
    {
      "cell_type": "markdown",
      "metadata": {
        "id": "seqQtw6ryhDm"
      },
      "source": [
        "# Classifiers\n",
        "\n",
        "The below classifiers will be used in this notebook.ClassifierDL, MultiClassifierDL, and GenericClassifier will be trained using healthcare_100d, embeddingd_clinical, and bert sentence embeddings(sbiobert_base_cased_mli). DocumentLogRegClassifier accepts tokens, so sentence embeddings are not utilized during DocumentLogRegClassifier training.\n",
        "\n",
        "## ClassifierDL\n",
        "\n",
        "ClassifierDL is a generic Multi-class Text Classification annotator. ClassifierDL uses the state-of-the-art Universal Sentence Encoder as an input for text classifications. The ClassifierDL annotator uses a deep learning model (DNNs) built inside TensorFlow and supports up to 100 classes. For more information please [follow the link](https://nlp.johnsnowlabs.com/docs/en/annotators#classifierdl).\n",
        "\n",
        "\n",
        "##  MultiClassifierDL\n",
        "\n",
        "MultiClassifierDL is a Multi-label Text Classification annotator.MultiClassifierDL uses a Bidirectional GRU with a convolutional model built inside TensorFlow and supports up to 100 classes.  For more information please [follow the link](https://nlp.johnsnowlabs.com/docs/en/annotators#multiclassifierdl).\n",
        "\n",
        "\n",
        "## GenericClassifier\n",
        "\n",
        "GenericClassifier is a TensorFlow model for the generic classification of feature vectors in Healthcare  Lİbrary. It takes FEATURE_VECTOR annotations from FeaturesAssembler as input, classifies them, and outputs CATEGORY annotations. Please see [the link](https://nlp.johnsnowlabs.com/docs/en/licensed_annotators#genericclassifier) for more information.\n",
        "\n",
        "## GenericLogRegClassifierApproach\n",
        "\n",
        "`GenericLogRegClassifierApproach` is a derivative of GenericClassifier which implements a multinomial *Logistic Regression*. This is a single layer neural network with the logistic function at the output. The input to the model is `FeatureVector` and the output is `Category` annotations with labels and corresponding confidence scores varying between 0 and 1. Training data requires \"text\" and their \"label\" columns only and the trained model will be a `GenericLogRegClassifierModel()`.\n",
        "\n",
        "\n",
        "## GenericSVMClassifierApproach\n",
        "\n",
        "`GenericSVMClassifierApproach` is a derivative of GenericClassifier which implements *SVM (Support Vector Machine)* classification. The input to the model is `FeatureVector` and the output is `Category` annotations with labels and corresponding confidence scores. The scores are standardized using the logistic function so that they vary between 0 and 1. Taining data requires \"text\" and their \"label\" columns only and the trained model will be a `GenericSVMClassifierModel()`\n",
        "\n",
        "## DocumentLogRegClassifier\n",
        "\n",
        "DocumentLogRegClassifier is a model to classify documents with a Logarithmic Regression algorithm in Healthcare  Library. Training data requires columns for text and labels. The result is a trained DocumentLogRegClassifierModel. you can get more info [here](https://nlp.johnsnowlabs.com/docs/en/licensed_annotators#documentlogregclassifier). \n"
      ]
    },
    {
      "cell_type": "markdown",
      "metadata": {
        "id": "V9VJxCgQDbci"
      },
      "source": [
        "# ADE Dataset"
      ]
    },
    {
      "cell_type": "markdown",
      "metadata": {
        "id": "26_3aTINil5M"
      },
      "source": [
        "### Data Preprocessing"
      ]
    },
    {
      "cell_type": "code",
      "execution_count": 3,
      "metadata": {
        "id": "hItCL5OYilb-"
      },
      "outputs": [],
      "source": [
        "#downloading sample datasets\n",
        "!wget -q https://raw.githubusercontent.com/JohnSnowLabs/spark-nlp-workshop/master/tutorials/Certification_Trainings/Healthcare/data/ADE_Corpus_V2/ADE-NEG.txt\n",
        "!wget -q https://raw.githubusercontent.com/JohnSnowLabs/spark-nlp-workshop/master/tutorials/Certification_Trainings/Healthcare/data/ADE_Corpus_V2/DRUG-AE.rel"
      ]
    },
    {
      "cell_type": "markdown",
      "metadata": {
        "id": "CcjKu0_XrfLy"
      },
      "source": [
        "**ADE-Negative Dataset**"
      ]
    },
    {
      "cell_type": "code",
      "execution_count": 4,
      "metadata": {
        "colab": {
          "base_uri": "https://localhost:8080/",
          "height": 206
        },
        "id": "Y8bRpYvWilZB",
        "outputId": "16c2541b-c6b9-4b6c-c7f1-fc9d3a09ee7a"
      },
      "outputs": [
        {
          "output_type": "execute_result",
          "data": {
            "text/plain": [
              "                                                col1\n",
              "0  6460590 NEG Clioquinol intoxication occurring ...\n",
              "1  8600337 NEG \"Retinoic acid syndrome\" was preve...\n",
              "2  8402502 NEG BACKGROUND: External beam radiatio...\n",
              "3  8700794 NEG Although the enuresis ceased, she ...\n",
              "4  17662448 NEG A 42-year-old woman had uneventfu..."
            ],
            "text/html": [
              "\n",
              "  <div id=\"df-420e93b5-28b4-4aec-a391-f5f8e8758c16\">\n",
              "    <div class=\"colab-df-container\">\n",
              "      <div>\n",
              "<style scoped>\n",
              "    .dataframe tbody tr th:only-of-type {\n",
              "        vertical-align: middle;\n",
              "    }\n",
              "\n",
              "    .dataframe tbody tr th {\n",
              "        vertical-align: top;\n",
              "    }\n",
              "\n",
              "    .dataframe thead th {\n",
              "        text-align: right;\n",
              "    }\n",
              "</style>\n",
              "<table border=\"1\" class=\"dataframe\">\n",
              "  <thead>\n",
              "    <tr style=\"text-align: right;\">\n",
              "      <th></th>\n",
              "      <th>col1</th>\n",
              "    </tr>\n",
              "  </thead>\n",
              "  <tbody>\n",
              "    <tr>\n",
              "      <th>0</th>\n",
              "      <td>6460590 NEG Clioquinol intoxication occurring ...</td>\n",
              "    </tr>\n",
              "    <tr>\n",
              "      <th>1</th>\n",
              "      <td>8600337 NEG \"Retinoic acid syndrome\" was preve...</td>\n",
              "    </tr>\n",
              "    <tr>\n",
              "      <th>2</th>\n",
              "      <td>8402502 NEG BACKGROUND: External beam radiatio...</td>\n",
              "    </tr>\n",
              "    <tr>\n",
              "      <th>3</th>\n",
              "      <td>8700794 NEG Although the enuresis ceased, she ...</td>\n",
              "    </tr>\n",
              "    <tr>\n",
              "      <th>4</th>\n",
              "      <td>17662448 NEG A 42-year-old woman had uneventfu...</td>\n",
              "    </tr>\n",
              "  </tbody>\n",
              "</table>\n",
              "</div>\n",
              "      <button class=\"colab-df-convert\" onclick=\"convertToInteractive('df-420e93b5-28b4-4aec-a391-f5f8e8758c16')\"\n",
              "              title=\"Convert this dataframe to an interactive table.\"\n",
              "              style=\"display:none;\">\n",
              "        \n",
              "  <svg xmlns=\"http://www.w3.org/2000/svg\" height=\"24px\"viewBox=\"0 0 24 24\"\n",
              "       width=\"24px\">\n",
              "    <path d=\"M0 0h24v24H0V0z\" fill=\"none\"/>\n",
              "    <path d=\"M18.56 5.44l.94 2.06.94-2.06 2.06-.94-2.06-.94-.94-2.06-.94 2.06-2.06.94zm-11 1L8.5 8.5l.94-2.06 2.06-.94-2.06-.94L8.5 2.5l-.94 2.06-2.06.94zm10 10l.94 2.06.94-2.06 2.06-.94-2.06-.94-.94-2.06-.94 2.06-2.06.94z\"/><path d=\"M17.41 7.96l-1.37-1.37c-.4-.4-.92-.59-1.43-.59-.52 0-1.04.2-1.43.59L10.3 9.45l-7.72 7.72c-.78.78-.78 2.05 0 2.83L4 21.41c.39.39.9.59 1.41.59.51 0 1.02-.2 1.41-.59l7.78-7.78 2.81-2.81c.8-.78.8-2.07 0-2.86zM5.41 20L4 18.59l7.72-7.72 1.47 1.35L5.41 20z\"/>\n",
              "  </svg>\n",
              "      </button>\n",
              "      \n",
              "  <style>\n",
              "    .colab-df-container {\n",
              "      display:flex;\n",
              "      flex-wrap:wrap;\n",
              "      gap: 12px;\n",
              "    }\n",
              "\n",
              "    .colab-df-convert {\n",
              "      background-color: #E8F0FE;\n",
              "      border: none;\n",
              "      border-radius: 50%;\n",
              "      cursor: pointer;\n",
              "      display: none;\n",
              "      fill: #1967D2;\n",
              "      height: 32px;\n",
              "      padding: 0 0 0 0;\n",
              "      width: 32px;\n",
              "    }\n",
              "\n",
              "    .colab-df-convert:hover {\n",
              "      background-color: #E2EBFA;\n",
              "      box-shadow: 0px 1px 2px rgba(60, 64, 67, 0.3), 0px 1px 3px 1px rgba(60, 64, 67, 0.15);\n",
              "      fill: #174EA6;\n",
              "    }\n",
              "\n",
              "    [theme=dark] .colab-df-convert {\n",
              "      background-color: #3B4455;\n",
              "      fill: #D2E3FC;\n",
              "    }\n",
              "\n",
              "    [theme=dark] .colab-df-convert:hover {\n",
              "      background-color: #434B5C;\n",
              "      box-shadow: 0px 1px 3px 1px rgba(0, 0, 0, 0.15);\n",
              "      filter: drop-shadow(0px 1px 2px rgba(0, 0, 0, 0.3));\n",
              "      fill: #FFFFFF;\n",
              "    }\n",
              "  </style>\n",
              "\n",
              "      <script>\n",
              "        const buttonEl =\n",
              "          document.querySelector('#df-420e93b5-28b4-4aec-a391-f5f8e8758c16 button.colab-df-convert');\n",
              "        buttonEl.style.display =\n",
              "          google.colab.kernel.accessAllowed ? 'block' : 'none';\n",
              "\n",
              "        async function convertToInteractive(key) {\n",
              "          const element = document.querySelector('#df-420e93b5-28b4-4aec-a391-f5f8e8758c16');\n",
              "          const dataTable =\n",
              "            await google.colab.kernel.invokeFunction('convertToInteractive',\n",
              "                                                     [key], {});\n",
              "          if (!dataTable) return;\n",
              "\n",
              "          const docLinkHtml = 'Like what you see? Visit the ' +\n",
              "            '<a target=\"_blank\" href=https://colab.research.google.com/notebooks/data_table.ipynb>data table notebook</a>'\n",
              "            + ' to learn more about interactive tables.';\n",
              "          element.innerHTML = '';\n",
              "          dataTable['output_type'] = 'display_data';\n",
              "          await google.colab.output.renderOutput(dataTable, element);\n",
              "          const docLink = document.createElement('div');\n",
              "          docLink.innerHTML = docLinkHtml;\n",
              "          element.appendChild(docLink);\n",
              "        }\n",
              "      </script>\n",
              "    </div>\n",
              "  </div>\n",
              "  "
            ]
          },
          "metadata": {},
          "execution_count": 4
        }
      ],
      "source": [
        "df_neg= pd.read_csv(\"ADE-NEG.txt\", header=None, delimiter=\"\\t\", names=[\"col1\"])\n",
        "df_neg.head()"
      ]
    },
    {
      "cell_type": "code",
      "execution_count": 5,
      "metadata": {
        "colab": {
          "base_uri": "https://localhost:8080/",
          "height": 206
        },
        "id": "wrPm_XSyv-R2",
        "outputId": "3538a1e7-b40d-41e9-dab3-12cbe791275d"
      },
      "outputs": [
        {
          "output_type": "execute_result",
          "data": {
            "text/plain": [
              "                                                text category\n",
              "0   Clioquinol intoxication occurring in the trea...      neg\n",
              "1   \"Retinoic acid syndrome\" was prevented with s...      neg\n",
              "2   BACKGROUND: External beam radiation therapy o...      neg\n",
              "3   Although the enuresis ceased, she developed t...      neg\n",
              "4   A 42-year-old woman had uneventful bilateral ...      neg"
            ],
            "text/html": [
              "\n",
              "  <div id=\"df-1a0393b3-7b31-4b2b-9de4-22ecb0bdb204\">\n",
              "    <div class=\"colab-df-container\">\n",
              "      <div>\n",
              "<style scoped>\n",
              "    .dataframe tbody tr th:only-of-type {\n",
              "        vertical-align: middle;\n",
              "    }\n",
              "\n",
              "    .dataframe tbody tr th {\n",
              "        vertical-align: top;\n",
              "    }\n",
              "\n",
              "    .dataframe thead th {\n",
              "        text-align: right;\n",
              "    }\n",
              "</style>\n",
              "<table border=\"1\" class=\"dataframe\">\n",
              "  <thead>\n",
              "    <tr style=\"text-align: right;\">\n",
              "      <th></th>\n",
              "      <th>text</th>\n",
              "      <th>category</th>\n",
              "    </tr>\n",
              "  </thead>\n",
              "  <tbody>\n",
              "    <tr>\n",
              "      <th>0</th>\n",
              "      <td>Clioquinol intoxication occurring in the trea...</td>\n",
              "      <td>neg</td>\n",
              "    </tr>\n",
              "    <tr>\n",
              "      <th>1</th>\n",
              "      <td>\"Retinoic acid syndrome\" was prevented with s...</td>\n",
              "      <td>neg</td>\n",
              "    </tr>\n",
              "    <tr>\n",
              "      <th>2</th>\n",
              "      <td>BACKGROUND: External beam radiation therapy o...</td>\n",
              "      <td>neg</td>\n",
              "    </tr>\n",
              "    <tr>\n",
              "      <th>3</th>\n",
              "      <td>Although the enuresis ceased, she developed t...</td>\n",
              "      <td>neg</td>\n",
              "    </tr>\n",
              "    <tr>\n",
              "      <th>4</th>\n",
              "      <td>A 42-year-old woman had uneventful bilateral ...</td>\n",
              "      <td>neg</td>\n",
              "    </tr>\n",
              "  </tbody>\n",
              "</table>\n",
              "</div>\n",
              "      <button class=\"colab-df-convert\" onclick=\"convertToInteractive('df-1a0393b3-7b31-4b2b-9de4-22ecb0bdb204')\"\n",
              "              title=\"Convert this dataframe to an interactive table.\"\n",
              "              style=\"display:none;\">\n",
              "        \n",
              "  <svg xmlns=\"http://www.w3.org/2000/svg\" height=\"24px\"viewBox=\"0 0 24 24\"\n",
              "       width=\"24px\">\n",
              "    <path d=\"M0 0h24v24H0V0z\" fill=\"none\"/>\n",
              "    <path d=\"M18.56 5.44l.94 2.06.94-2.06 2.06-.94-2.06-.94-.94-2.06-.94 2.06-2.06.94zm-11 1L8.5 8.5l.94-2.06 2.06-.94-2.06-.94L8.5 2.5l-.94 2.06-2.06.94zm10 10l.94 2.06.94-2.06 2.06-.94-2.06-.94-.94-2.06-.94 2.06-2.06.94z\"/><path d=\"M17.41 7.96l-1.37-1.37c-.4-.4-.92-.59-1.43-.59-.52 0-1.04.2-1.43.59L10.3 9.45l-7.72 7.72c-.78.78-.78 2.05 0 2.83L4 21.41c.39.39.9.59 1.41.59.51 0 1.02-.2 1.41-.59l7.78-7.78 2.81-2.81c.8-.78.8-2.07 0-2.86zM5.41 20L4 18.59l7.72-7.72 1.47 1.35L5.41 20z\"/>\n",
              "  </svg>\n",
              "      </button>\n",
              "      \n",
              "  <style>\n",
              "    .colab-df-container {\n",
              "      display:flex;\n",
              "      flex-wrap:wrap;\n",
              "      gap: 12px;\n",
              "    }\n",
              "\n",
              "    .colab-df-convert {\n",
              "      background-color: #E8F0FE;\n",
              "      border: none;\n",
              "      border-radius: 50%;\n",
              "      cursor: pointer;\n",
              "      display: none;\n",
              "      fill: #1967D2;\n",
              "      height: 32px;\n",
              "      padding: 0 0 0 0;\n",
              "      width: 32px;\n",
              "    }\n",
              "\n",
              "    .colab-df-convert:hover {\n",
              "      background-color: #E2EBFA;\n",
              "      box-shadow: 0px 1px 2px rgba(60, 64, 67, 0.3), 0px 1px 3px 1px rgba(60, 64, 67, 0.15);\n",
              "      fill: #174EA6;\n",
              "    }\n",
              "\n",
              "    [theme=dark] .colab-df-convert {\n",
              "      background-color: #3B4455;\n",
              "      fill: #D2E3FC;\n",
              "    }\n",
              "\n",
              "    [theme=dark] .colab-df-convert:hover {\n",
              "      background-color: #434B5C;\n",
              "      box-shadow: 0px 1px 3px 1px rgba(0, 0, 0, 0.15);\n",
              "      filter: drop-shadow(0px 1px 2px rgba(0, 0, 0, 0.3));\n",
              "      fill: #FFFFFF;\n",
              "    }\n",
              "  </style>\n",
              "\n",
              "      <script>\n",
              "        const buttonEl =\n",
              "          document.querySelector('#df-1a0393b3-7b31-4b2b-9de4-22ecb0bdb204 button.colab-df-convert');\n",
              "        buttonEl.style.display =\n",
              "          google.colab.kernel.accessAllowed ? 'block' : 'none';\n",
              "\n",
              "        async function convertToInteractive(key) {\n",
              "          const element = document.querySelector('#df-1a0393b3-7b31-4b2b-9de4-22ecb0bdb204');\n",
              "          const dataTable =\n",
              "            await google.colab.kernel.invokeFunction('convertToInteractive',\n",
              "                                                     [key], {});\n",
              "          if (!dataTable) return;\n",
              "\n",
              "          const docLinkHtml = 'Like what you see? Visit the ' +\n",
              "            '<a target=\"_blank\" href=https://colab.research.google.com/notebooks/data_table.ipynb>data table notebook</a>'\n",
              "            + ' to learn more about interactive tables.';\n",
              "          element.innerHTML = '';\n",
              "          dataTable['output_type'] = 'display_data';\n",
              "          await google.colab.output.renderOutput(dataTable, element);\n",
              "          const docLink = document.createElement('div');\n",
              "          docLink.innerHTML = docLinkHtml;\n",
              "          element.appendChild(docLink);\n",
              "        }\n",
              "      </script>\n",
              "    </div>\n",
              "  </div>\n",
              "  "
            ]
          },
          "metadata": {},
          "execution_count": 5
        }
      ],
      "source": [
        "df_neg['text'] =  df_neg.col1.str.split('NEG').str[1]\n",
        "df_neg[\"category\"] = \"neg\"\n",
        "df_neg= df_neg[[\"text\", \"category\"]]\n",
        "df_neg.head()"
      ]
    },
    {
      "cell_type": "markdown",
      "metadata": {
        "id": "gzu9ELiirkMf"
      },
      "source": [
        "**ADE Positive Dataset**"
      ]
    },
    {
      "cell_type": "code",
      "execution_count": 6,
      "metadata": {
        "colab": {
          "base_uri": "https://localhost:8080/",
          "height": 206
        },
        "id": "F4Y20JbRqcLP",
        "outputId": "d804e7d7-4970-4253-837f-81984b9572ae"
      },
      "outputs": [
        {
          "output_type": "execute_result",
          "data": {
            "text/plain": [
              "          0                                                  1  \\\n",
              "0  10030778      Intravenous azithromycin-induced ototoxicity.   \n",
              "1  10048291  Immobilization, while Paget's bone disease was...   \n",
              "2  10048291  Unaccountable severe hypercalcemia in a patien...   \n",
              "3  10082597  METHODS: We report two cases of pseudoporphyri...   \n",
              "4  10082597  METHODS: We report two cases of pseudoporphyri...   \n",
              "\n",
              "                           2    3    4                   5    6    7  \n",
              "0                ototoxicity   43   54        azithromycin   22   34  \n",
              "1  increased calcium-release  960  985  dihydrotachysterol  908  926  \n",
              "2              hypercalcemia   31   44  dihydrotachysterol   94  112  \n",
              "3            pseudoporphyria  620  635            naproxen  646  654  \n",
              "4            pseudoporphyria  620  635           oxaprozin  659  668  "
            ],
            "text/html": [
              "\n",
              "  <div id=\"df-02c885eb-801f-489b-ba39-c3866e2e87ff\">\n",
              "    <div class=\"colab-df-container\">\n",
              "      <div>\n",
              "<style scoped>\n",
              "    .dataframe tbody tr th:only-of-type {\n",
              "        vertical-align: middle;\n",
              "    }\n",
              "\n",
              "    .dataframe tbody tr th {\n",
              "        vertical-align: top;\n",
              "    }\n",
              "\n",
              "    .dataframe thead th {\n",
              "        text-align: right;\n",
              "    }\n",
              "</style>\n",
              "<table border=\"1\" class=\"dataframe\">\n",
              "  <thead>\n",
              "    <tr style=\"text-align: right;\">\n",
              "      <th></th>\n",
              "      <th>0</th>\n",
              "      <th>1</th>\n",
              "      <th>2</th>\n",
              "      <th>3</th>\n",
              "      <th>4</th>\n",
              "      <th>5</th>\n",
              "      <th>6</th>\n",
              "      <th>7</th>\n",
              "    </tr>\n",
              "  </thead>\n",
              "  <tbody>\n",
              "    <tr>\n",
              "      <th>0</th>\n",
              "      <td>10030778</td>\n",
              "      <td>Intravenous azithromycin-induced ototoxicity.</td>\n",
              "      <td>ototoxicity</td>\n",
              "      <td>43</td>\n",
              "      <td>54</td>\n",
              "      <td>azithromycin</td>\n",
              "      <td>22</td>\n",
              "      <td>34</td>\n",
              "    </tr>\n",
              "    <tr>\n",
              "      <th>1</th>\n",
              "      <td>10048291</td>\n",
              "      <td>Immobilization, while Paget's bone disease was...</td>\n",
              "      <td>increased calcium-release</td>\n",
              "      <td>960</td>\n",
              "      <td>985</td>\n",
              "      <td>dihydrotachysterol</td>\n",
              "      <td>908</td>\n",
              "      <td>926</td>\n",
              "    </tr>\n",
              "    <tr>\n",
              "      <th>2</th>\n",
              "      <td>10048291</td>\n",
              "      <td>Unaccountable severe hypercalcemia in a patien...</td>\n",
              "      <td>hypercalcemia</td>\n",
              "      <td>31</td>\n",
              "      <td>44</td>\n",
              "      <td>dihydrotachysterol</td>\n",
              "      <td>94</td>\n",
              "      <td>112</td>\n",
              "    </tr>\n",
              "    <tr>\n",
              "      <th>3</th>\n",
              "      <td>10082597</td>\n",
              "      <td>METHODS: We report two cases of pseudoporphyri...</td>\n",
              "      <td>pseudoporphyria</td>\n",
              "      <td>620</td>\n",
              "      <td>635</td>\n",
              "      <td>naproxen</td>\n",
              "      <td>646</td>\n",
              "      <td>654</td>\n",
              "    </tr>\n",
              "    <tr>\n",
              "      <th>4</th>\n",
              "      <td>10082597</td>\n",
              "      <td>METHODS: We report two cases of pseudoporphyri...</td>\n",
              "      <td>pseudoporphyria</td>\n",
              "      <td>620</td>\n",
              "      <td>635</td>\n",
              "      <td>oxaprozin</td>\n",
              "      <td>659</td>\n",
              "      <td>668</td>\n",
              "    </tr>\n",
              "  </tbody>\n",
              "</table>\n",
              "</div>\n",
              "      <button class=\"colab-df-convert\" onclick=\"convertToInteractive('df-02c885eb-801f-489b-ba39-c3866e2e87ff')\"\n",
              "              title=\"Convert this dataframe to an interactive table.\"\n",
              "              style=\"display:none;\">\n",
              "        \n",
              "  <svg xmlns=\"http://www.w3.org/2000/svg\" height=\"24px\"viewBox=\"0 0 24 24\"\n",
              "       width=\"24px\">\n",
              "    <path d=\"M0 0h24v24H0V0z\" fill=\"none\"/>\n",
              "    <path d=\"M18.56 5.44l.94 2.06.94-2.06 2.06-.94-2.06-.94-.94-2.06-.94 2.06-2.06.94zm-11 1L8.5 8.5l.94-2.06 2.06-.94-2.06-.94L8.5 2.5l-.94 2.06-2.06.94zm10 10l.94 2.06.94-2.06 2.06-.94-2.06-.94-.94-2.06-.94 2.06-2.06.94z\"/><path d=\"M17.41 7.96l-1.37-1.37c-.4-.4-.92-.59-1.43-.59-.52 0-1.04.2-1.43.59L10.3 9.45l-7.72 7.72c-.78.78-.78 2.05 0 2.83L4 21.41c.39.39.9.59 1.41.59.51 0 1.02-.2 1.41-.59l7.78-7.78 2.81-2.81c.8-.78.8-2.07 0-2.86zM5.41 20L4 18.59l7.72-7.72 1.47 1.35L5.41 20z\"/>\n",
              "  </svg>\n",
              "      </button>\n",
              "      \n",
              "  <style>\n",
              "    .colab-df-container {\n",
              "      display:flex;\n",
              "      flex-wrap:wrap;\n",
              "      gap: 12px;\n",
              "    }\n",
              "\n",
              "    .colab-df-convert {\n",
              "      background-color: #E8F0FE;\n",
              "      border: none;\n",
              "      border-radius: 50%;\n",
              "      cursor: pointer;\n",
              "      display: none;\n",
              "      fill: #1967D2;\n",
              "      height: 32px;\n",
              "      padding: 0 0 0 0;\n",
              "      width: 32px;\n",
              "    }\n",
              "\n",
              "    .colab-df-convert:hover {\n",
              "      background-color: #E2EBFA;\n",
              "      box-shadow: 0px 1px 2px rgba(60, 64, 67, 0.3), 0px 1px 3px 1px rgba(60, 64, 67, 0.15);\n",
              "      fill: #174EA6;\n",
              "    }\n",
              "\n",
              "    [theme=dark] .colab-df-convert {\n",
              "      background-color: #3B4455;\n",
              "      fill: #D2E3FC;\n",
              "    }\n",
              "\n",
              "    [theme=dark] .colab-df-convert:hover {\n",
              "      background-color: #434B5C;\n",
              "      box-shadow: 0px 1px 3px 1px rgba(0, 0, 0, 0.15);\n",
              "      filter: drop-shadow(0px 1px 2px rgba(0, 0, 0, 0.3));\n",
              "      fill: #FFFFFF;\n",
              "    }\n",
              "  </style>\n",
              "\n",
              "      <script>\n",
              "        const buttonEl =\n",
              "          document.querySelector('#df-02c885eb-801f-489b-ba39-c3866e2e87ff button.colab-df-convert');\n",
              "        buttonEl.style.display =\n",
              "          google.colab.kernel.accessAllowed ? 'block' : 'none';\n",
              "\n",
              "        async function convertToInteractive(key) {\n",
              "          const element = document.querySelector('#df-02c885eb-801f-489b-ba39-c3866e2e87ff');\n",
              "          const dataTable =\n",
              "            await google.colab.kernel.invokeFunction('convertToInteractive',\n",
              "                                                     [key], {});\n",
              "          if (!dataTable) return;\n",
              "\n",
              "          const docLinkHtml = 'Like what you see? Visit the ' +\n",
              "            '<a target=\"_blank\" href=https://colab.research.google.com/notebooks/data_table.ipynb>data table notebook</a>'\n",
              "            + ' to learn more about interactive tables.';\n",
              "          element.innerHTML = '';\n",
              "          dataTable['output_type'] = 'display_data';\n",
              "          await google.colab.output.renderOutput(dataTable, element);\n",
              "          const docLink = document.createElement('div');\n",
              "          docLink.innerHTML = docLinkHtml;\n",
              "          element.appendChild(docLink);\n",
              "        }\n",
              "      </script>\n",
              "    </div>\n",
              "  </div>\n",
              "  "
            ]
          },
          "metadata": {},
          "execution_count": 6
        }
      ],
      "source": [
        "df_pos= pd.read_csv(\"DRUG-AE.rel\", header=None, delimiter=\"|\")\n",
        "df_pos.head()"
      ]
    },
    {
      "cell_type": "code",
      "execution_count": 7,
      "metadata": {
        "colab": {
          "base_uri": "https://localhost:8080/",
          "height": 206
        },
        "id": "ICMIXpnHrc5u",
        "outputId": "6dd35062-9672-4f03-8355-4de4d0001a4d"
      },
      "outputs": [
        {
          "output_type": "execute_result",
          "data": {
            "text/plain": [
              "                                                text category\n",
              "0      Intravenous azithromycin-induced ototoxicity.      pos\n",
              "1  Immobilization, while Paget's bone disease was...      pos\n",
              "2  Unaccountable severe hypercalcemia in a patien...      pos\n",
              "3  METHODS: We report two cases of pseudoporphyri...      pos\n",
              "4  METHODS: We report two cases of pseudoporphyri...      pos"
            ],
            "text/html": [
              "\n",
              "  <div id=\"df-ac16cbc7-1c5e-4685-b3a7-0bd7a1f00750\">\n",
              "    <div class=\"colab-df-container\">\n",
              "      <div>\n",
              "<style scoped>\n",
              "    .dataframe tbody tr th:only-of-type {\n",
              "        vertical-align: middle;\n",
              "    }\n",
              "\n",
              "    .dataframe tbody tr th {\n",
              "        vertical-align: top;\n",
              "    }\n",
              "\n",
              "    .dataframe thead th {\n",
              "        text-align: right;\n",
              "    }\n",
              "</style>\n",
              "<table border=\"1\" class=\"dataframe\">\n",
              "  <thead>\n",
              "    <tr style=\"text-align: right;\">\n",
              "      <th></th>\n",
              "      <th>text</th>\n",
              "      <th>category</th>\n",
              "    </tr>\n",
              "  </thead>\n",
              "  <tbody>\n",
              "    <tr>\n",
              "      <th>0</th>\n",
              "      <td>Intravenous azithromycin-induced ototoxicity.</td>\n",
              "      <td>pos</td>\n",
              "    </tr>\n",
              "    <tr>\n",
              "      <th>1</th>\n",
              "      <td>Immobilization, while Paget's bone disease was...</td>\n",
              "      <td>pos</td>\n",
              "    </tr>\n",
              "    <tr>\n",
              "      <th>2</th>\n",
              "      <td>Unaccountable severe hypercalcemia in a patien...</td>\n",
              "      <td>pos</td>\n",
              "    </tr>\n",
              "    <tr>\n",
              "      <th>3</th>\n",
              "      <td>METHODS: We report two cases of pseudoporphyri...</td>\n",
              "      <td>pos</td>\n",
              "    </tr>\n",
              "    <tr>\n",
              "      <th>4</th>\n",
              "      <td>METHODS: We report two cases of pseudoporphyri...</td>\n",
              "      <td>pos</td>\n",
              "    </tr>\n",
              "  </tbody>\n",
              "</table>\n",
              "</div>\n",
              "      <button class=\"colab-df-convert\" onclick=\"convertToInteractive('df-ac16cbc7-1c5e-4685-b3a7-0bd7a1f00750')\"\n",
              "              title=\"Convert this dataframe to an interactive table.\"\n",
              "              style=\"display:none;\">\n",
              "        \n",
              "  <svg xmlns=\"http://www.w3.org/2000/svg\" height=\"24px\"viewBox=\"0 0 24 24\"\n",
              "       width=\"24px\">\n",
              "    <path d=\"M0 0h24v24H0V0z\" fill=\"none\"/>\n",
              "    <path d=\"M18.56 5.44l.94 2.06.94-2.06 2.06-.94-2.06-.94-.94-2.06-.94 2.06-2.06.94zm-11 1L8.5 8.5l.94-2.06 2.06-.94-2.06-.94L8.5 2.5l-.94 2.06-2.06.94zm10 10l.94 2.06.94-2.06 2.06-.94-2.06-.94-.94-2.06-.94 2.06-2.06.94z\"/><path d=\"M17.41 7.96l-1.37-1.37c-.4-.4-.92-.59-1.43-.59-.52 0-1.04.2-1.43.59L10.3 9.45l-7.72 7.72c-.78.78-.78 2.05 0 2.83L4 21.41c.39.39.9.59 1.41.59.51 0 1.02-.2 1.41-.59l7.78-7.78 2.81-2.81c.8-.78.8-2.07 0-2.86zM5.41 20L4 18.59l7.72-7.72 1.47 1.35L5.41 20z\"/>\n",
              "  </svg>\n",
              "      </button>\n",
              "      \n",
              "  <style>\n",
              "    .colab-df-container {\n",
              "      display:flex;\n",
              "      flex-wrap:wrap;\n",
              "      gap: 12px;\n",
              "    }\n",
              "\n",
              "    .colab-df-convert {\n",
              "      background-color: #E8F0FE;\n",
              "      border: none;\n",
              "      border-radius: 50%;\n",
              "      cursor: pointer;\n",
              "      display: none;\n",
              "      fill: #1967D2;\n",
              "      height: 32px;\n",
              "      padding: 0 0 0 0;\n",
              "      width: 32px;\n",
              "    }\n",
              "\n",
              "    .colab-df-convert:hover {\n",
              "      background-color: #E2EBFA;\n",
              "      box-shadow: 0px 1px 2px rgba(60, 64, 67, 0.3), 0px 1px 3px 1px rgba(60, 64, 67, 0.15);\n",
              "      fill: #174EA6;\n",
              "    }\n",
              "\n",
              "    [theme=dark] .colab-df-convert {\n",
              "      background-color: #3B4455;\n",
              "      fill: #D2E3FC;\n",
              "    }\n",
              "\n",
              "    [theme=dark] .colab-df-convert:hover {\n",
              "      background-color: #434B5C;\n",
              "      box-shadow: 0px 1px 3px 1px rgba(0, 0, 0, 0.15);\n",
              "      filter: drop-shadow(0px 1px 2px rgba(0, 0, 0, 0.3));\n",
              "      fill: #FFFFFF;\n",
              "    }\n",
              "  </style>\n",
              "\n",
              "      <script>\n",
              "        const buttonEl =\n",
              "          document.querySelector('#df-ac16cbc7-1c5e-4685-b3a7-0bd7a1f00750 button.colab-df-convert');\n",
              "        buttonEl.style.display =\n",
              "          google.colab.kernel.accessAllowed ? 'block' : 'none';\n",
              "\n",
              "        async function convertToInteractive(key) {\n",
              "          const element = document.querySelector('#df-ac16cbc7-1c5e-4685-b3a7-0bd7a1f00750');\n",
              "          const dataTable =\n",
              "            await google.colab.kernel.invokeFunction('convertToInteractive',\n",
              "                                                     [key], {});\n",
              "          if (!dataTable) return;\n",
              "\n",
              "          const docLinkHtml = 'Like what you see? Visit the ' +\n",
              "            '<a target=\"_blank\" href=https://colab.research.google.com/notebooks/data_table.ipynb>data table notebook</a>'\n",
              "            + ' to learn more about interactive tables.';\n",
              "          element.innerHTML = '';\n",
              "          dataTable['output_type'] = 'display_data';\n",
              "          await google.colab.output.renderOutput(dataTable, element);\n",
              "          const docLink = document.createElement('div');\n",
              "          docLink.innerHTML = docLinkHtml;\n",
              "          element.appendChild(docLink);\n",
              "        }\n",
              "      </script>\n",
              "    </div>\n",
              "  </div>\n",
              "  "
            ]
          },
          "metadata": {},
          "execution_count": 7
        }
      ],
      "source": [
        "df_pos[\"category\"]= \"pos\"\n",
        "df_pos.rename(columns={1: \"text\"}, inplace=True)\n",
        "df_pos= df_pos[[\"text\", \"category\"]]\n",
        "df_pos.head()"
      ]
    },
    {
      "cell_type": "markdown",
      "metadata": {
        "id": "V2iOoomSwTeH"
      },
      "source": [
        "**Merging Positive and Negative dataset**"
      ]
    },
    {
      "cell_type": "code",
      "execution_count": 8,
      "metadata": {
        "colab": {
          "base_uri": "https://localhost:8080/",
          "height": 206
        },
        "id": "3ju23pYJrcxT",
        "outputId": "e7f2d1ff-49db-4d0a-c86f-1d6f85ae53cb"
      },
      "outputs": [
        {
          "output_type": "execute_result",
          "data": {
            "text/plain": [
              "                                                text category\n",
              "0   Clioquinol intoxication occurring in the trea...      neg\n",
              "1   \"Retinoic acid syndrome\" was prevented with s...      neg\n",
              "2   BACKGROUND: External beam radiation therapy o...      neg\n",
              "3   Although the enuresis ceased, she developed t...      neg\n",
              "4   A 42-year-old woman had uneventful bilateral ...      neg"
            ],
            "text/html": [
              "\n",
              "  <div id=\"df-b9f1da12-8785-455c-8833-7aeeeb5d053c\">\n",
              "    <div class=\"colab-df-container\">\n",
              "      <div>\n",
              "<style scoped>\n",
              "    .dataframe tbody tr th:only-of-type {\n",
              "        vertical-align: middle;\n",
              "    }\n",
              "\n",
              "    .dataframe tbody tr th {\n",
              "        vertical-align: top;\n",
              "    }\n",
              "\n",
              "    .dataframe thead th {\n",
              "        text-align: right;\n",
              "    }\n",
              "</style>\n",
              "<table border=\"1\" class=\"dataframe\">\n",
              "  <thead>\n",
              "    <tr style=\"text-align: right;\">\n",
              "      <th></th>\n",
              "      <th>text</th>\n",
              "      <th>category</th>\n",
              "    </tr>\n",
              "  </thead>\n",
              "  <tbody>\n",
              "    <tr>\n",
              "      <th>0</th>\n",
              "      <td>Clioquinol intoxication occurring in the trea...</td>\n",
              "      <td>neg</td>\n",
              "    </tr>\n",
              "    <tr>\n",
              "      <th>1</th>\n",
              "      <td>\"Retinoic acid syndrome\" was prevented with s...</td>\n",
              "      <td>neg</td>\n",
              "    </tr>\n",
              "    <tr>\n",
              "      <th>2</th>\n",
              "      <td>BACKGROUND: External beam radiation therapy o...</td>\n",
              "      <td>neg</td>\n",
              "    </tr>\n",
              "    <tr>\n",
              "      <th>3</th>\n",
              "      <td>Although the enuresis ceased, she developed t...</td>\n",
              "      <td>neg</td>\n",
              "    </tr>\n",
              "    <tr>\n",
              "      <th>4</th>\n",
              "      <td>A 42-year-old woman had uneventful bilateral ...</td>\n",
              "      <td>neg</td>\n",
              "    </tr>\n",
              "  </tbody>\n",
              "</table>\n",
              "</div>\n",
              "      <button class=\"colab-df-convert\" onclick=\"convertToInteractive('df-b9f1da12-8785-455c-8833-7aeeeb5d053c')\"\n",
              "              title=\"Convert this dataframe to an interactive table.\"\n",
              "              style=\"display:none;\">\n",
              "        \n",
              "  <svg xmlns=\"http://www.w3.org/2000/svg\" height=\"24px\"viewBox=\"0 0 24 24\"\n",
              "       width=\"24px\">\n",
              "    <path d=\"M0 0h24v24H0V0z\" fill=\"none\"/>\n",
              "    <path d=\"M18.56 5.44l.94 2.06.94-2.06 2.06-.94-2.06-.94-.94-2.06-.94 2.06-2.06.94zm-11 1L8.5 8.5l.94-2.06 2.06-.94-2.06-.94L8.5 2.5l-.94 2.06-2.06.94zm10 10l.94 2.06.94-2.06 2.06-.94-2.06-.94-.94-2.06-.94 2.06-2.06.94z\"/><path d=\"M17.41 7.96l-1.37-1.37c-.4-.4-.92-.59-1.43-.59-.52 0-1.04.2-1.43.59L10.3 9.45l-7.72 7.72c-.78.78-.78 2.05 0 2.83L4 21.41c.39.39.9.59 1.41.59.51 0 1.02-.2 1.41-.59l7.78-7.78 2.81-2.81c.8-.78.8-2.07 0-2.86zM5.41 20L4 18.59l7.72-7.72 1.47 1.35L5.41 20z\"/>\n",
              "  </svg>\n",
              "      </button>\n",
              "      \n",
              "  <style>\n",
              "    .colab-df-container {\n",
              "      display:flex;\n",
              "      flex-wrap:wrap;\n",
              "      gap: 12px;\n",
              "    }\n",
              "\n",
              "    .colab-df-convert {\n",
              "      background-color: #E8F0FE;\n",
              "      border: none;\n",
              "      border-radius: 50%;\n",
              "      cursor: pointer;\n",
              "      display: none;\n",
              "      fill: #1967D2;\n",
              "      height: 32px;\n",
              "      padding: 0 0 0 0;\n",
              "      width: 32px;\n",
              "    }\n",
              "\n",
              "    .colab-df-convert:hover {\n",
              "      background-color: #E2EBFA;\n",
              "      box-shadow: 0px 1px 2px rgba(60, 64, 67, 0.3), 0px 1px 3px 1px rgba(60, 64, 67, 0.15);\n",
              "      fill: #174EA6;\n",
              "    }\n",
              "\n",
              "    [theme=dark] .colab-df-convert {\n",
              "      background-color: #3B4455;\n",
              "      fill: #D2E3FC;\n",
              "    }\n",
              "\n",
              "    [theme=dark] .colab-df-convert:hover {\n",
              "      background-color: #434B5C;\n",
              "      box-shadow: 0px 1px 3px 1px rgba(0, 0, 0, 0.15);\n",
              "      filter: drop-shadow(0px 1px 2px rgba(0, 0, 0, 0.3));\n",
              "      fill: #FFFFFF;\n",
              "    }\n",
              "  </style>\n",
              "\n",
              "      <script>\n",
              "        const buttonEl =\n",
              "          document.querySelector('#df-b9f1da12-8785-455c-8833-7aeeeb5d053c button.colab-df-convert');\n",
              "        buttonEl.style.display =\n",
              "          google.colab.kernel.accessAllowed ? 'block' : 'none';\n",
              "\n",
              "        async function convertToInteractive(key) {\n",
              "          const element = document.querySelector('#df-b9f1da12-8785-455c-8833-7aeeeb5d053c');\n",
              "          const dataTable =\n",
              "            await google.colab.kernel.invokeFunction('convertToInteractive',\n",
              "                                                     [key], {});\n",
              "          if (!dataTable) return;\n",
              "\n",
              "          const docLinkHtml = 'Like what you see? Visit the ' +\n",
              "            '<a target=\"_blank\" href=https://colab.research.google.com/notebooks/data_table.ipynb>data table notebook</a>'\n",
              "            + ' to learn more about interactive tables.';\n",
              "          element.innerHTML = '';\n",
              "          dataTable['output_type'] = 'display_data';\n",
              "          await google.colab.output.renderOutput(dataTable, element);\n",
              "          const docLink = document.createElement('div');\n",
              "          docLink.innerHTML = docLinkHtml;\n",
              "          element.appendChild(docLink);\n",
              "        }\n",
              "      </script>\n",
              "    </div>\n",
              "  </div>\n",
              "  "
            ]
          },
          "metadata": {},
          "execution_count": 8
        }
      ],
      "source": [
        "ade_df= pd.concat([df_neg, df_pos])\n",
        "ade_df.head()"
      ]
    },
    {
      "cell_type": "code",
      "execution_count": 9,
      "metadata": {
        "colab": {
          "base_uri": "https://localhost:8080/"
        },
        "id": "Lg_RjRi1lFUa",
        "outputId": "cadc9841-c4a8-4c88-c935-0093c4868b6c"
      },
      "outputs": [
        {
          "output_type": "execute_result",
          "data": {
            "text/plain": [
              "neg    16695\n",
              "pos     6821\n",
              "Name: category, dtype: int64"
            ]
          },
          "metadata": {},
          "execution_count": 9
        }
      ],
      "source": [
        "ade_df[\"category\"].value_counts()"
      ]
    },
    {
      "cell_type": "code",
      "execution_count": 10,
      "metadata": {
        "colab": {
          "base_uri": "https://localhost:8080/"
        },
        "id": "wMWdhHvjzGRp",
        "outputId": "56154f97-339f-4099-ea55-d087b20648db"
      },
      "outputs": [
        {
          "output_type": "stream",
          "name": "stdout",
          "text": [
            "<class 'pandas.core.frame.DataFrame'>\n",
            "Int64Index: 23516 entries, 0 to 6820\n",
            "Data columns (total 2 columns):\n",
            " #   Column    Non-Null Count  Dtype \n",
            "---  ------    --------------  ----- \n",
            " 0   text      23516 non-null  object\n",
            " 1   category  23516 non-null  object\n",
            "dtypes: object(2)\n",
            "memory usage: 551.2+ KB\n"
          ]
        }
      ],
      "source": [
        "ade_df.info()"
      ]
    },
    {
      "cell_type": "markdown",
      "metadata": {
        "id": "Gd0njm6qac8Q"
      },
      "source": [
        "We take 30% of the data to make a faster run. You can use all data for better scores."
      ]
    },
    {
      "cell_type": "code",
      "execution_count": 11,
      "metadata": {
        "colab": {
          "base_uri": "https://localhost:8080/"
        },
        "id": "54RWnCr0yWL5",
        "outputId": "0e358db2-562c-47a3-ccb3-bce2d883906f"
      },
      "outputs": [
        {
          "output_type": "stream",
          "name": "stdout",
          "text": [
            "Training Dataset Count: 5531\n",
            "Test Dataset Count: 1427\n"
          ]
        }
      ],
      "source": [
        "spark_df = spark.createDataFrame(ade_df).sample(0.3, 3) # limit the data\n",
        "\n",
        "trainingData, testData = spark_df.randomSplit([0.8, 0.2], seed = 100)\n",
        "\n",
        "print(\"Training Dataset Count: \" + str(trainingData.count()))\n",
        "print(\"Test Dataset Count: \" + str(testData.count()))"
      ]
    },
    {
      "cell_type": "code",
      "execution_count": 12,
      "metadata": {
        "colab": {
          "base_uri": "https://localhost:8080/"
        },
        "id": "c3nAmtMmcu_q",
        "outputId": "ac72a339-7f8f-4ba2-e90c-78f3f1536048"
      },
      "outputs": [
        {
          "output_type": "stream",
          "name": "stdout",
          "text": [
            "+--------+-----+\n",
            "|category|count|\n",
            "+--------+-----+\n",
            "|     neg| 4932|\n",
            "|     pos| 2026|\n",
            "+--------+-----+\n",
            "\n"
          ]
        }
      ],
      "source": [
        "spark_df.groupBy(\"category\").count().show()"
      ]
    },
    {
      "cell_type": "code",
      "execution_count": 13,
      "metadata": {
        "colab": {
          "base_uri": "https://localhost:8080/"
        },
        "id": "UXGiAxzX_RJd",
        "outputId": "eee7f71b-ee6b-4499-9038-14099f2f6807"
      },
      "outputs": [
        {
          "output_type": "stream",
          "name": "stdout",
          "text": [
            "root\n",
            " |-- text: string (nullable = true)\n",
            " |-- category: string (nullable = true)\n",
            "\n"
          ]
        }
      ],
      "source": [
        "spark_df.printSchema()"
      ]
    },
    {
      "cell_type": "code",
      "execution_count": 14,
      "metadata": {
        "colab": {
          "base_uri": "https://localhost:8080/"
        },
        "id": "fnTr4Bs_seoA",
        "outputId": "46885be2-73b7-4a45-afe5-fc34b44af640"
      },
      "outputs": [
        {
          "output_type": "execute_result",
          "data": {
            "text/plain": [
              "[Row(text=' Clioquinol intoxication occurring in the treatment of acrodermatitis enteropathica with reference to SMON outside of Japan.', category='neg'),\n",
              " Row(text=' A 42-year-old woman had uneventful bilateral laser-assisted subepithelial keratectomy (LASEK) to correct myopia.', category='neg'),\n",
              " Row(text=' A 16-year-old girl with erosive, polyarticular JRA showed no detectable change in her articular disease following nine exchanges.', category='neg')]"
            ]
          },
          "metadata": {},
          "execution_count": 14
        }
      ],
      "source": [
        "spark_df.head(3)"
      ]
    },
    {
      "cell_type": "markdown",
      "metadata": {
        "id": "BCAJFO4YDbcj"
      },
      "source": [
        "## 100 Dimension Healthcare Embeddings (embeddings_healthcare_100d)\n",
        "\n"
      ]
    },
    {
      "cell_type": "markdown",
      "metadata": {
        "id": "oDySIR35ECjy"
      },
      "source": [
        "Now we will extract [healthcare_100d embeddings](https://nlp.johnsnowlabs.com/2020/05/29/embeddings_healthcare_100d_en.html) and use it in the classificaiton model training."
      ]
    },
    {
      "cell_type": "code",
      "execution_count": 15,
      "metadata": {
        "colab": {
          "base_uri": "https://localhost:8080/"
        },
        "id": "oxFX8bVEDbcj",
        "outputId": "7fe50056-8484-4c58-8599-8c82f4caa75a"
      },
      "outputs": [
        {
          "output_type": "stream",
          "name": "stdout",
          "text": [
            "embeddings_healthcare_100d download started this may take some time.\n",
            "Approximate size to download 475.8 MB\n",
            "[OK!]\n"
          ]
        }
      ],
      "source": [
        "document_assembler = DocumentAssembler()\\\n",
        "        .setInputCol(\"text\")\\\n",
        "        .setOutputCol(\"document\")\n",
        "\n",
        "tokenizer = Tokenizer() \\\n",
        "            .setInputCols([\"document\"]) \\\n",
        "            .setOutputCol(\"token\")\n",
        "\n",
        "word_embeddings = WordEmbeddingsModel.pretrained(\"embeddings_healthcare_100d\",\"en\",\"clinical/models\")\\\n",
        "        .setInputCols([\"document\",\"token\"])\\\n",
        "        .setOutputCol(\"word_embeddings\")\n",
        "\n",
        "sentence_embeddings = SentenceEmbeddings() \\\n",
        "        .setInputCols([\"document\", \"word_embeddings\"]) \\\n",
        "        .setOutputCol(\"sentence_embeddings\") \\\n",
        "        .setPoolingStrategy(\"AVERAGE\")\n",
        "\n",
        "embeddings_pipeline = Pipeline(\n",
        "    stages = [\n",
        "        document_assembler,\n",
        "        tokenizer,\n",
        "        word_embeddings,\n",
        "        sentence_embeddings,\n",
        "\n",
        "    ])"
      ]
    },
    {
      "cell_type": "code",
      "execution_count": 16,
      "metadata": {
        "colab": {
          "base_uri": "https://localhost:8080/"
        },
        "id": "ihBi5IicDbcj",
        "outputId": "afdb7d42-1898-401d-9df4-16b269fa7739"
      },
      "outputs": [
        {
          "output_type": "stream",
          "name": "stdout",
          "text": [
            "+--------------------------------------------------------------------------------+--------+--------------------------------------------------------------------------------+\n",
            "|                                                                            text|category|                                                             sentence_embeddings|\n",
            "+--------------------------------------------------------------------------------+--------+--------------------------------------------------------------------------------+\n",
            "| \"Syndrome malin\"-like symptoms probably due to interaction between neurolept...|     neg|[{sentence_embeddings, 0, 109,  \"Syndrome malin\"-like symptoms probably due t...|\n",
            "| 'Bail-out' bivalirudin use in patients with thrombotic complications unrespo...|     neg|[{sentence_embeddings, 0, 150,  'Bail-out' bivalirudin use in patients with t...|\n",
            "+--------------------------------------------------------------------------------+--------+--------------------------------------------------------------------------------+\n",
            "only showing top 2 rows\n",
            "\n"
          ]
        }
      ],
      "source": [
        "trainingData_with_embeddings = embeddings_pipeline.fit(trainingData).transform(trainingData)\n",
        "trainingData_with_embeddings = trainingData_with_embeddings.select(\"text\",\"category\",\"sentence_embeddings\")\n",
        "trainingData_with_embeddings.show(2,truncate=80)"
      ]
    },
    {
      "cell_type": "code",
      "execution_count": 17,
      "metadata": {
        "colab": {
          "base_uri": "https://localhost:8080/"
        },
        "id": "yGWfNABSDbck",
        "outputId": "2f3956a7-d221-48a3-86cc-b6672845a3c5"
      },
      "outputs": [
        {
          "output_type": "stream",
          "name": "stdout",
          "text": [
            "+--------------------------------------------------------------------------------+--------+--------------------------------------------------------------------------------+\n",
            "|                                                                            text|category|                                                             sentence_embeddings|\n",
            "+--------------------------------------------------------------------------------+--------+--------------------------------------------------------------------------------+\n",
            "| 1 previously untreated patient with plasma-cell leukaemia and 8 patients wit...|     neg|[{sentence_embeddings, 0, 166,  1 previously untreated patient with plasma-ce...|\n",
            "| A 15-year-old boy had temporary hypertropia, supraduction deficit, ipsilater...|     neg|[{sentence_embeddings, 0, 262,  A 15-year-old boy had temporary hypertropia, ...|\n",
            "+--------------------------------------------------------------------------------+--------+--------------------------------------------------------------------------------+\n",
            "only showing top 2 rows\n",
            "\n"
          ]
        }
      ],
      "source": [
        "testData_with_embeddings = embeddings_pipeline.fit(testData).transform(testData)\n",
        "testData_with_embeddings = testData_with_embeddings.select(\"text\",\"category\",\"sentence_embeddings\")\n",
        "testData_with_embeddings.show(2,truncate=80)"
      ]
    },
    {
      "cell_type": "code",
      "execution_count": 18,
      "metadata": {
        "colab": {
          "base_uri": "https://localhost:8080/"
        },
        "id": "jC4RxfRuqrj1",
        "outputId": "331998c4-1ffa-4bd8-f9ce-1255b6e7aa20"
      },
      "outputs": [
        {
          "output_type": "stream",
          "name": "stdout",
          "text": [
            "root\n",
            " |-- text: string (nullable = true)\n",
            " |-- category: string (nullable = true)\n",
            " |-- sentence_embeddings: array (nullable = true)\n",
            " |    |-- element: struct (containsNull = true)\n",
            " |    |    |-- annotatorType: string (nullable = true)\n",
            " |    |    |-- begin: integer (nullable = false)\n",
            " |    |    |-- end: integer (nullable = false)\n",
            " |    |    |-- result: string (nullable = true)\n",
            " |    |    |-- metadata: map (nullable = true)\n",
            " |    |    |    |-- key: string\n",
            " |    |    |    |-- value: string (valueContainsNull = true)\n",
            " |    |    |-- embeddings: array (nullable = true)\n",
            " |    |    |    |-- element: float (containsNull = false)\n",
            "\n"
          ]
        }
      ],
      "source": [
        "testData_with_embeddings.printSchema()"
      ]
    },
    {
      "cell_type": "code",
      "execution_count": 19,
      "metadata": {
        "colab": {
          "base_uri": "https://localhost:8080/"
        },
        "id": "YfN3PwLxqS4r",
        "outputId": "010db09f-2d49-429f-a8f1-aa15b782bd07"
      },
      "outputs": [
        {
          "output_type": "stream",
          "name": "stdout",
          "text": [
            "+-----------------------------------------------------------------------------------------------------------------------------------------------------------------------------------------------------------------------------------------------------------------------------------------------------------------------------------------------------------------------------------------------------------------------------------------------------------------------------------------------------------------------------------------------------------------------------------------------------------------------------------------------------------------------------------------------------------------------------------------------------------------------------------------------------------------------------------------------------------------------------------------------------------------------------------------------------------------------------------------------------------------------------------------------------------------------------------------------------------------------------------------------------------------------------------------------------------------------------------------------------------------------------------------------------------------------+\n",
            "|sentence_embeddings.embeddings                                                                                                                                                                                                                                                                                                                                                                                                                                                                                                                                                                                                                                                                                                                                                                                                                                                                                                                                                                                                                                                                                                                                                                                                                                                                                         |\n",
            "+-----------------------------------------------------------------------------------------------------------------------------------------------------------------------------------------------------------------------------------------------------------------------------------------------------------------------------------------------------------------------------------------------------------------------------------------------------------------------------------------------------------------------------------------------------------------------------------------------------------------------------------------------------------------------------------------------------------------------------------------------------------------------------------------------------------------------------------------------------------------------------------------------------------------------------------------------------------------------------------------------------------------------------------------------------------------------------------------------------------------------------------------------------------------------------------------------------------------------------------------------------------------------------------------------------------------------+\n",
            "|[[0.022050034, -0.015850784, 0.11884041, 0.16476665, -0.14348501, -0.1576596, -0.031154968, -0.1393246, 0.008547665, 0.01948343, -0.06832732, -0.23502605, 0.16064002, 0.16505416, 0.2740694, 0.07459623, -0.1776, -0.14385794, -0.13320805, 0.0254037, 0.13955306, -0.39874554, 0.21927465, -0.05248432, -0.013975959, -0.09057002, 0.08343936, 0.26041448, 0.061222605, -0.07655008, -0.042449083, -0.15549056, 0.029453786, -4.287451E-4, 0.0770777, 0.052662022, 0.04082857, 0.25772887, 0.057650663, -0.11365128, -0.032210674, -0.1047935, 0.02238484, -0.16155325, -0.121390514, 0.021449536, -0.21215256, -0.34033817, 0.24506395, -0.23816873, -0.32267797, -0.17322257, -0.13762051, 0.17141055, 0.068881445, 0.32408792, 0.0066144993, 0.097635254, 0.17141618, -0.18405564, -0.14688526, -0.1419593, 0.004553265, -0.011070732, -0.12574588, 0.191843, 0.030556304, 1.5938584E-5, -0.16586679, 0.10518273, 0.11186178, 0.045896884, -0.09700643, 0.1546321, -0.0018957073, -0.15406738, 0.040614784, 0.009987646, -0.14022075, -0.121953055, -0.027745197, -0.18565337, -0.07562292, 0.20089634, 0.10763431, -0.08733105, 0.037615, 0.23033628, -0.098229475, 0.114785895, 0.132198, -0.07346697, -0.184836, 0.23428474, 0.0014427511, 0.031846795, -0.09335248, 0.2601243, -0.020144142, -0.05439963]]    |\n",
            "|[[0.036828704, 0.052321058, 0.11382609, -0.05798419, -0.1450678, 0.13031518, 0.13105926, 0.077215254, -0.11359191, -0.052483696, 0.025067052, -0.065493144, 0.0972958, 0.17433612, 0.32081118, 0.120722145, -0.060612965, -0.13809446, -0.0633434, 0.08836364, -0.05126225, -0.28671345, -0.02139778, -0.24837501, -0.19183423, -0.048396163, -0.03277982, 0.42781973, 0.06354014, 0.13798347, -0.045132216, -0.19414294, 0.014440931, 0.14622109, 0.1534094, -0.115605995, -0.21968617, 0.3393487, 0.077721894, 0.0066978885, -0.26575065, -0.2803977, 0.1971252, -0.2754831, -0.013873734, 0.031998154, -0.22224252, -0.4223647, 0.12533534, -0.24477065, -0.20392273, -0.2595492, -0.28265497, 0.118678354, 0.012662884, 0.17667644, -0.025581334, 0.04520109, 0.23938307, -0.18062139, -0.17067623, -0.16384235, -0.11276326, -0.054647528, -0.0875182, 0.13253942, 0.31704667, 0.11637622, 0.109152205, 0.32440117, -0.05386958, 0.24748857, -0.15540409, 0.2030577, 0.09518503, -0.069421776, -0.020613715, -0.06336081, -0.09288615, -0.067019716, 0.12710205, -0.09450426, 0.060741078, 0.20993252, -0.13400853, -0.122290775, -0.13350283, -0.028439805, -0.16822737, 0.03975756, 0.07278193, 0.10378045, -0.163854, 0.08184167, -0.22104272, 0.005102664, 0.00906274, 0.40425077, -0.19299535, -0.08048587]] |\n",
            "|[[0.06133546, 0.08840095, 0.15639272, 0.114668004, -0.2140057, -0.08125059, 0.08913489, -0.1002837, 0.004876906, -0.074242726, 0.03445086, -0.14109944, 0.19309564, 0.25734743, 0.25590873, 0.107905254, -0.14508152, -0.18583016, -0.092931755, -0.01544418, 0.0125256125, -0.4040237, 0.08747564, -0.11891114, -0.07511187, -0.12213378, -0.026458537, 0.3580473, 0.12741722, -6.861486E-4, -0.12040229, -0.09489917, 0.13890828, 0.054144114, 0.15664355, -0.067553274, -0.08660592, 0.32107133, 0.08193131, -0.03477757, -0.090152316, -0.243487, 0.1391524, -0.15884571, -0.14609669, 0.09713936, -0.28682235, -0.36976308, 0.25402966, -0.13950408, -0.2593149, -0.22419378, -0.2506967, 0.10783362, 0.06381494, 0.2983351, -0.0029599816, 0.16719376, 0.15912123, -0.15692592, -0.19489051, -0.11727452, 0.009319597, -0.04369802, -0.0766744, 0.17832157, 0.05303132, 0.113078065, -0.048853863, 0.17880191, 0.15312684, 0.05760455, -0.11058054, 0.19222456, -0.07548987, -0.18384753, -0.10525153, -0.053241875, -0.05763864, -0.0052016587, -0.02037694, -0.19389628, -0.004329425, 0.18860058, 0.04699045, -0.03298173, -0.08882544, 0.2566961, -0.052023698, 0.122032925, 0.15283778, -0.062266868, -0.21671638, 0.20687981, -0.071965605, 0.111865, -0.017279066, 0.30696622, -0.019217268, -0.11909051]]|\n",
            "+-----------------------------------------------------------------------------------------------------------------------------------------------------------------------------------------------------------------------------------------------------------------------------------------------------------------------------------------------------------------------------------------------------------------------------------------------------------------------------------------------------------------------------------------------------------------------------------------------------------------------------------------------------------------------------------------------------------------------------------------------------------------------------------------------------------------------------------------------------------------------------------------------------------------------------------------------------------------------------------------------------------------------------------------------------------------------------------------------------------------------------------------------------------------------------------------------------------------------------------------------------------------------------------------------------------------------+\n",
            "only showing top 3 rows\n",
            "\n"
          ]
        }
      ],
      "source": [
        "testData_with_embeddings.select(testData_with_embeddings.sentence_embeddings.embeddings).show(3,truncate=False)"
      ]
    },
    {
      "cell_type": "code",
      "execution_count": 3,
      "metadata": {
        "id": "C4nDUXMnadqo"
      },
      "outputs": [],
      "source": [
        "log_folder=\"ADE_logs_healthcare_100d\"\n",
        "!mkdir -p $log_folder"
      ]
    },
    {
      "cell_type": "markdown",
      "metadata": {
        "id": "Q9MywCqKDbck"
      },
      "source": [
        "### ClassifierDLApproach"
      ]
    },
    {
      "cell_type": "code",
      "execution_count": 21,
      "metadata": {
        "id": "EhvRGlkmDbck"
      },
      "outputs": [],
      "source": [
        "classifier_dl = ClassifierDLApproach()\\\n",
        "        .setInputCols([\"sentence_embeddings\"])\\\n",
        "        .setOutputCol(\"prediction\")\\\n",
        "        .setLabelColumn(\"category\")\\\n",
        "        .setBatchSize(16)\\\n",
        "        .setMaxEpochs(30)\\\n",
        "        .setLr(0.002)\\\n",
        "        .setDropout(0.3)\\\n",
        "        .setEnableOutputLogs(True)\\\n",
        "        .setOutputLogsPath(log_folder)\\\n",
        "        # .setValidationSplit(0.1)\n",
        "\n",
        "classifier_dl_pipeline = Pipeline(\n",
        "    stages = [\n",
        "        classifier_dl\n",
        "    ])"
      ]
    },
    {
      "cell_type": "code",
      "execution_count": 22,
      "metadata": {
        "id": "lM7Dpdx7Dbck"
      },
      "outputs": [],
      "source": [
        "clfDL_model_hc100 = classifier_dl_pipeline.fit(trainingData_with_embeddings)"
      ]
    },
    {
      "cell_type": "code",
      "execution_count": 4,
      "metadata": {
        "colab": {
          "base_uri": "https://localhost:8080/"
        },
        "id": "2UbziPErDbck",
        "outputId": "41454784-9ced-4ab5-b422-bc0e6e2b5802"
      },
      "outputs": [
        {
          "output_type": "stream",
          "name": "stdout",
          "text": [
            "Training started - epochs: 30 - learning_rate: 0.002 - batch_size: 16 - training_examples: 5531 - classes: 2\n",
            "Epoch 0/30 - 1.81s - loss: 196.50443 - acc: 0.75709814 - batches: 346\n",
            "Epoch 1/30 - 0.72s - loss: 178.57925 - acc: 0.8049242 - batches: 346\n",
            "Epoch 2/30 - 0.68s - loss: 171.11334 - acc: 0.8276515 - batches: 346\n",
            "Epoch 3/30 - 0.67s - loss: 167.70439 - acc: 0.83852106 - batches: 346\n",
            "Epoch 4/30 - 0.70s - loss: 165.45164 - acc: 0.8476778 - batches: 346\n",
            "Epoch 5/30 - 0.68s - loss: 163.55579 - acc: 0.8542819 - batches: 346\n",
            "Epoch 6/30 - 0.68s - loss: 162.0681 - acc: 0.85645586 - batches: 346\n",
            "Epoch 7/30 - 0.71s - loss: 160.86972 - acc: 0.8609025 - batches: 346\n",
            "Epoch 8/30 - 0.70s - loss: 159.76674 - acc: 0.86633724 - batches: 346\n",
            "Epoch 9/30 - 0.73s - loss: 158.82518 - acc: 0.86869234 - batches: 346\n",
            "Epoch 10/30 - 0.71s - loss: 158.01875 - acc: 0.8714097 - batches: 346\n",
            "Epoch 11/30 - 0.79s - loss: 157.29413 - acc: 0.87394595 - batches: 346\n",
            "Epoch 12/30 - 0.73s - loss: 156.6187 - acc: 0.8755764 - batches: 346\n",
            "Epoch 13/30 - 0.69s - loss: 155.97154 - acc: 0.8772892 - batches: 346\n",
            "Epoch 14/30 - 0.66s - loss: 155.37828 - acc: 0.88018775 - batches: 346\n",
            "Epoch 15/30 - 0.65s - loss: 154.75916 - acc: 0.8829051 - batches: 346\n",
            "Epoch 16/30 - 0.63s - loss: 154.20221 - acc: 0.8834486 - batches: 346\n",
            "Epoch 17/30 - 0.63s - loss: 153.65237 - acc: 0.8847167 - batches: 346\n",
            "Epoch 18/30 - 0.63s - loss: 153.16547 - acc: 0.88544136 - batches: 346\n",
            "Epoch 19/30 - 0.64s - loss: 152.69148 - acc: 0.88761526 - batches: 346\n",
            "Epoch 20/30 - 0.65s - loss: 152.27357 - acc: 0.88906455 - batches: 346\n",
            "Epoch 21/30 - 0.63s - loss: 151.87999 - acc: 0.8899703 - batches: 346\n",
            "Epoch 22/30 - 0.63s - loss: 151.51979 - acc: 0.8910573 - batches: 346\n",
            "Epoch 23/30 - 0.63s - loss: 151.17746 - acc: 0.8914196 - batches: 346\n",
            "Epoch 24/30 - 0.63s - loss: 150.85492 - acc: 0.89196306 - batches: 346\n",
            "Epoch 25/30 - 0.64s - loss: 150.52426 - acc: 0.89305 - batches: 346\n",
            "Epoch 26/30 - 0.63s - loss: 150.20901 - acc: 0.8937747 - batches: 346\n",
            "Epoch 27/30 - 0.63s - loss: 149.90762 - acc: 0.894137 - batches: 346\n",
            "Epoch 28/30 - 0.65s - loss: 149.61206 - acc: 0.8954051 - batches: 346\n",
            "Epoch 29/30 - 0.72s - loss: 149.32368 - acc: 0.89576745 - batches: 346\n"
          ]
        }
      ],
      "source": [
        "!cat $log_folder/ClassifierDLApproach_*"
      ]
    },
    {
      "cell_type": "code",
      "execution_count": 24,
      "metadata": {
        "id": "w7Wzu_40qH6T"
      },
      "outputs": [],
      "source": [
        "preds = clfDL_model_hc100.transform(testData_with_embeddings)"
      ]
    },
    {
      "cell_type": "code",
      "execution_count": 25,
      "metadata": {
        "colab": {
          "base_uri": "https://localhost:8080/"
        },
        "id": "oeqPLNbZvuJQ",
        "outputId": "a0a1cc09-bb25-40f7-f77e-d974ae84f499"
      },
      "outputs": [
        {
          "output_type": "stream",
          "name": "stdout",
          "text": [
            "root\n",
            " |-- text: string (nullable = true)\n",
            " |-- category: string (nullable = true)\n",
            " |-- sentence_embeddings: array (nullable = true)\n",
            " |    |-- element: struct (containsNull = true)\n",
            " |    |    |-- annotatorType: string (nullable = true)\n",
            " |    |    |-- begin: integer (nullable = false)\n",
            " |    |    |-- end: integer (nullable = false)\n",
            " |    |    |-- result: string (nullable = true)\n",
            " |    |    |-- metadata: map (nullable = true)\n",
            " |    |    |    |-- key: string\n",
            " |    |    |    |-- value: string (valueContainsNull = true)\n",
            " |    |    |-- embeddings: array (nullable = true)\n",
            " |    |    |    |-- element: float (containsNull = false)\n",
            " |-- prediction: array (nullable = true)\n",
            " |    |-- element: struct (containsNull = true)\n",
            " |    |    |-- annotatorType: string (nullable = true)\n",
            " |    |    |-- begin: integer (nullable = false)\n",
            " |    |    |-- end: integer (nullable = false)\n",
            " |    |    |-- result: string (nullable = true)\n",
            " |    |    |-- metadata: map (nullable = true)\n",
            " |    |    |    |-- key: string\n",
            " |    |    |    |-- value: string (valueContainsNull = true)\n",
            " |    |    |-- embeddings: array (nullable = true)\n",
            " |    |    |    |-- element: float (containsNull = false)\n",
            "\n",
            "+--------------------------------------------------------------------------------------+\n",
            "|prediction                                                                            |\n",
            "+--------------------------------------------------------------------------------------+\n",
            "|[{category, 0, 166, neg, {sentence -> 0, neg -> 0.99972874, pos -> 2.7121126E-4}, []}]|\n",
            "|[{category, 0, 262, neg, {sentence -> 0, neg -> 0.9999995, pos -> 5.0031997E-7}, []}] |\n",
            "|[{category, 0, 172, neg, {sentence -> 0, neg -> 0.80138654, pos -> 0.19861348}, []}]  |\n",
            "|[{category, 0, 93, neg, {sentence -> 0, neg -> 0.9983473, pos -> 0.0016526718}, []}]  |\n",
            "|[{category, 0, 136, neg, {sentence -> 0, neg -> 0.8512974, pos -> 0.14870259}, []}]   |\n",
            "+--------------------------------------------------------------------------------------+\n",
            "only showing top 5 rows\n",
            "\n",
            "+--------+-----------------+\n",
            "|category|prediction.result|\n",
            "+--------+-----------------+\n",
            "|neg     |[neg]            |\n",
            "|neg     |[neg]            |\n",
            "|neg     |[neg]            |\n",
            "|neg     |[neg]            |\n",
            "|neg     |[neg]            |\n",
            "+--------+-----------------+\n",
            "only showing top 5 rows\n",
            "\n"
          ]
        }
      ],
      "source": [
        "preds.printSchema()\n",
        "preds.select(preds.prediction).show(5, truncate=False)\n",
        "preds.select(preds.category, preds.prediction.result).show(5, truncate=False)"
      ]
    },
    {
      "cell_type": "code",
      "execution_count": 26,
      "metadata": {
        "colab": {
          "base_uri": "https://localhost:8080/"
        },
        "id": "l0yEqGcJDbck",
        "outputId": "ec5b06ac-e5f7-40e2-d95a-a9d9f99a798d"
      },
      "outputs": [
        {
          "output_type": "stream",
          "name": "stdout",
          "text": [
            "              precision    recall  f1-score   support\n",
            "\n",
            "         neg       0.88      0.88      0.88       982\n",
            "         pos       0.73      0.72      0.73       445\n",
            "\n",
            "    accuracy                           0.83      1427\n",
            "   macro avg       0.80      0.80      0.80      1427\n",
            "weighted avg       0.83      0.83      0.83      1427\n",
            "\n"
          ]
        }
      ],
      "source": [
        "preds_df = preds.select(\"category\",\"text\",\"prediction.result\").toPandas()\n",
        "preds_df[\"result\"] = preds_df[\"result\"].apply(lambda x : x[0])\n",
        "\n",
        "print (classification_report(preds_df[\"category\"], preds_df[\"result\"]))"
      ]
    },
    {
      "cell_type": "markdown",
      "metadata": {
        "id": "3NRB48Jd8PBL"
      },
      "source": [
        "### MultiClassifierDL"
      ]
    },
    {
      "cell_type": "markdown",
      "metadata": {
        "id": "fHNzlFhIi1IU"
      },
      "source": [
        "We will use MultiClassifierDL built by using Bidirectional GRU and CNNs inside TensorFlow that supports up to 100 classes. It is designed for multi-label classification purposes. Here we will use MultiClassifierDL as a binary classifier. "
      ]
    },
    {
      "cell_type": "code",
      "execution_count": 27,
      "metadata": {
        "id": "H7BFPBvBkRXm"
      },
      "outputs": [],
      "source": [
        "# MultiClassifierDL accepts list of strings as input label. So we convert label column to array type.\n",
        "trainingData_with_embeddings = trainingData_with_embeddings.withColumn(\"category_array\", F.array(F.col(\"category\")))\n",
        "testData_with_embeddings = testData_with_embeddings.withColumn(\"category_array\", F.array(F.col(\"category\")))"
      ]
    },
    {
      "cell_type": "code",
      "execution_count": 28,
      "metadata": {
        "id": "qfayOhW1QGuZ"
      },
      "outputs": [],
      "source": [
        "multiClassifier = MultiClassifierDLApproach()\\\n",
        "  .setInputCols(\"sentence_embeddings\")\\\n",
        "  .setOutputCol(\"prediction\")\\\n",
        "  .setLabelColumn(\"category_array\")\\\n",
        "  .setBatchSize(16)\\\n",
        "  .setMaxEpochs(15)\\\n",
        "  .setLr(9e-3)\\\n",
        "  .setThreshold(0.5)\\\n",
        "  .setShufflePerEpoch(False)\\\n",
        "  .setEnableOutputLogs(True)\\\n",
        "  .setOutputLogsPath(log_folder)\\\n",
        "#   .setValidationSplit(0.1)\n",
        "\n",
        "multiClassifier_pipeline = Pipeline(\n",
        "    stages = [\n",
        "        multiClassifier\n",
        "    ])"
      ]
    },
    {
      "cell_type": "code",
      "execution_count": 29,
      "metadata": {
        "id": "uis9foJpQ56_"
      },
      "outputs": [],
      "source": [
        "multiClassifier_model_hc100 = multiClassifier_pipeline.fit(trainingData_with_embeddings)"
      ]
    },
    {
      "cell_type": "code",
      "execution_count": 5,
      "metadata": {
        "colab": {
          "base_uri": "https://localhost:8080/"
        },
        "id": "oZ4muaEcQ56_",
        "outputId": "fd463736-0115-450c-fab3-b725ceebc1f0"
      },
      "outputs": [
        {
          "output_type": "stream",
          "name": "stdout",
          "text": [
            "Training started - epochs: 15 - learning_rate: 0.009 - batch_size: 16 - training_examples: 5531 - classes: 2\n",
            "Epoch 0/15 - 14.08s - loss: 0.51671696 - acc: 0.7443017 - batches: 346\n",
            "Epoch 1/15 - 4.39s - loss: 0.4562747 - acc: 0.77980894 - batches: 346\n",
            "Epoch 2/15 - 4.66s - loss: 0.42084727 - acc: 0.8010952 - batches: 346\n",
            "Epoch 3/15 - 3.15s - loss: 0.40065733 - acc: 0.81277996 - batches: 346\n",
            "Epoch 4/15 - 2.89s - loss: 0.38565522 - acc: 0.8242836 - batches: 346\n",
            "Epoch 5/15 - 3.10s - loss: 0.37033468 - acc: 0.8311594 - batches: 346\n",
            "Epoch 6/15 - 3.33s - loss: 0.3562811 - acc: 0.83894926 - batches: 346\n",
            "Epoch 7/15 - 2.94s - loss: 0.34204647 - acc: 0.84257245 - batches: 346\n",
            "Epoch 8/15 - 2.89s - loss: 0.32721782 - acc: 0.85018116 - batches: 346\n",
            "Epoch 9/15 - 2.87s - loss: 0.31454432 - acc: 0.8586051 - batches: 346\n",
            "Epoch 10/15 - 3.03s - loss: 0.2998448 - acc: 0.8674819 - batches: 346\n",
            "Epoch 11/15 - 3.46s - loss: 0.28469044 - acc: 0.87527174 - batches: 346\n",
            "Epoch 12/15 - 2.77s - loss: 0.26784799 - acc: 0.884692 - batches: 346\n",
            "Epoch 13/15 - 2.79s - loss: 0.2540167 - acc: 0.8913949 - batches: 346\n",
            "Epoch 14/15 - 2.78s - loss: 0.2406265 - acc: 0.901087 - batches: 346\n"
          ]
        }
      ],
      "source": [
        "!cat $log_folder/MultiClassifierDLApproach_*"
      ]
    },
    {
      "cell_type": "code",
      "execution_count": 31,
      "metadata": {
        "id": "aU71yDTEQ57A"
      },
      "outputs": [],
      "source": [
        "preds = multiClassifier_model_hc100.transform(testData_with_embeddings)"
      ]
    },
    {
      "cell_type": "code",
      "execution_count": 32,
      "metadata": {
        "colab": {
          "base_uri": "https://localhost:8080/"
        },
        "id": "sMqK2PTaQ57A",
        "outputId": "e57ddecb-b5d2-4583-838d-9b6856c6a447"
      },
      "outputs": [
        {
          "output_type": "stream",
          "name": "stdout",
          "text": [
            "root\n",
            " |-- text: string (nullable = true)\n",
            " |-- category: string (nullable = true)\n",
            " |-- sentence_embeddings: array (nullable = true)\n",
            " |    |-- element: struct (containsNull = true)\n",
            " |    |    |-- annotatorType: string (nullable = true)\n",
            " |    |    |-- begin: integer (nullable = false)\n",
            " |    |    |-- end: integer (nullable = false)\n",
            " |    |    |-- result: string (nullable = true)\n",
            " |    |    |-- metadata: map (nullable = true)\n",
            " |    |    |    |-- key: string\n",
            " |    |    |    |-- value: string (valueContainsNull = true)\n",
            " |    |    |-- embeddings: array (nullable = true)\n",
            " |    |    |    |-- element: float (containsNull = false)\n",
            " |-- category_array: array (nullable = false)\n",
            " |    |-- element: string (containsNull = true)\n",
            " |-- prediction: array (nullable = true)\n",
            " |    |-- element: struct (containsNull = true)\n",
            " |    |    |-- annotatorType: string (nullable = true)\n",
            " |    |    |-- begin: integer (nullable = false)\n",
            " |    |    |-- end: integer (nullable = false)\n",
            " |    |    |-- result: string (nullable = true)\n",
            " |    |    |-- metadata: map (nullable = true)\n",
            " |    |    |    |-- key: string\n",
            " |    |    |    |-- value: string (valueContainsNull = true)\n",
            " |    |    |-- embeddings: array (nullable = true)\n",
            " |    |    |    |-- element: float (containsNull = false)\n",
            "\n",
            "+--------------------------------------------------------------------------------------+\n",
            "|prediction                                                                            |\n",
            "+--------------------------------------------------------------------------------------+\n",
            "|[{category, 0, 166, neg, {sentence -> 0, neg -> 0.99837303, pos -> 0.0016366685}, []}]|\n",
            "|[{category, 0, 262, neg, {sentence -> 0, neg -> 0.994167, pos -> 0.0060062455}, []}]  |\n",
            "|[{category, 0, 172, pos, {sentence -> 0, neg -> 0.42631826, pos -> 0.57503456}, []}]  |\n",
            "|[{category, 0, 93, pos, {sentence -> 0, neg -> 0.413013, pos -> 0.5878753}, []}]      |\n",
            "|[{category, 0, 136, neg, {sentence -> 0, neg -> 0.7764552, pos -> 0.22387417}, []}]   |\n",
            "+--------------------------------------------------------------------------------------+\n",
            "only showing top 5 rows\n",
            "\n",
            "+--------------+-----------------+\n",
            "|category_array|prediction.result|\n",
            "+--------------+-----------------+\n",
            "|[neg]         |[neg]            |\n",
            "|[neg]         |[neg]            |\n",
            "|[neg]         |[pos]            |\n",
            "|[neg]         |[pos]            |\n",
            "|[neg]         |[neg]            |\n",
            "+--------------+-----------------+\n",
            "only showing top 5 rows\n",
            "\n"
          ]
        }
      ],
      "source": [
        "preds.printSchema()\n",
        "preds.select(preds.prediction).show(5, truncate=False)\n",
        "preds.select(preds.category_array, preds.prediction.result).show(5, truncate=False)"
      ]
    },
    {
      "cell_type": "code",
      "execution_count": 33,
      "metadata": {
        "colab": {
          "base_uri": "https://localhost:8080/"
        },
        "id": "fdYjuIgznI9H",
        "outputId": "54cf84e4-ec1c-493e-b7da-77de036a9247"
      },
      "outputs": [
        {
          "output_type": "execute_result",
          "data": {
            "text/plain": [
              "['neg']           1145\n",
              "['pos']            281\n",
              "['neg', 'pos']       1\n",
              "Name: result, dtype: int64"
            ]
          },
          "metadata": {},
          "execution_count": 33
        }
      ],
      "source": [
        "preds_df = preds.select(\"category\",\"text\",\"prediction.result\",\"prediction.metadata\").toPandas()\n",
        "preds_df.result.apply(lambda x: str(x) ).value_counts()"
      ]
    },
    {
      "cell_type": "code",
      "execution_count": 34,
      "metadata": {
        "colab": {
          "base_uri": "https://localhost:8080/",
          "height": 81
        },
        "id": "s52SZO6k2nu7",
        "outputId": "6e938180-7b6a-457a-f5f7-c018969124c5"
      },
      "outputs": [
        {
          "output_type": "execute_result",
          "data": {
            "text/plain": [
              "    category                                               text      result  \\\n",
              "225      neg   This report describes a male college student ...  [neg, pos]   \n",
              "\n",
              "                                              metadata  \n",
              "225  [{'sentence': '0', 'neg': '0.5002521', 'pos': ...  "
            ],
            "text/html": [
              "\n",
              "  <div id=\"df-ed9c2f46-2c20-4940-91dd-0bb7e4c1c5ba\">\n",
              "    <div class=\"colab-df-container\">\n",
              "      <div>\n",
              "<style scoped>\n",
              "    .dataframe tbody tr th:only-of-type {\n",
              "        vertical-align: middle;\n",
              "    }\n",
              "\n",
              "    .dataframe tbody tr th {\n",
              "        vertical-align: top;\n",
              "    }\n",
              "\n",
              "    .dataframe thead th {\n",
              "        text-align: right;\n",
              "    }\n",
              "</style>\n",
              "<table border=\"1\" class=\"dataframe\">\n",
              "  <thead>\n",
              "    <tr style=\"text-align: right;\">\n",
              "      <th></th>\n",
              "      <th>category</th>\n",
              "      <th>text</th>\n",
              "      <th>result</th>\n",
              "      <th>metadata</th>\n",
              "    </tr>\n",
              "  </thead>\n",
              "  <tbody>\n",
              "    <tr>\n",
              "      <th>225</th>\n",
              "      <td>neg</td>\n",
              "      <td>This report describes a male college student ...</td>\n",
              "      <td>[neg, pos]</td>\n",
              "      <td>[{'sentence': '0', 'neg': '0.5002521', 'pos': ...</td>\n",
              "    </tr>\n",
              "  </tbody>\n",
              "</table>\n",
              "</div>\n",
              "      <button class=\"colab-df-convert\" onclick=\"convertToInteractive('df-ed9c2f46-2c20-4940-91dd-0bb7e4c1c5ba')\"\n",
              "              title=\"Convert this dataframe to an interactive table.\"\n",
              "              style=\"display:none;\">\n",
              "        \n",
              "  <svg xmlns=\"http://www.w3.org/2000/svg\" height=\"24px\"viewBox=\"0 0 24 24\"\n",
              "       width=\"24px\">\n",
              "    <path d=\"M0 0h24v24H0V0z\" fill=\"none\"/>\n",
              "    <path d=\"M18.56 5.44l.94 2.06.94-2.06 2.06-.94-2.06-.94-.94-2.06-.94 2.06-2.06.94zm-11 1L8.5 8.5l.94-2.06 2.06-.94-2.06-.94L8.5 2.5l-.94 2.06-2.06.94zm10 10l.94 2.06.94-2.06 2.06-.94-2.06-.94-.94-2.06-.94 2.06-2.06.94z\"/><path d=\"M17.41 7.96l-1.37-1.37c-.4-.4-.92-.59-1.43-.59-.52 0-1.04.2-1.43.59L10.3 9.45l-7.72 7.72c-.78.78-.78 2.05 0 2.83L4 21.41c.39.39.9.59 1.41.59.51 0 1.02-.2 1.41-.59l7.78-7.78 2.81-2.81c.8-.78.8-2.07 0-2.86zM5.41 20L4 18.59l7.72-7.72 1.47 1.35L5.41 20z\"/>\n",
              "  </svg>\n",
              "      </button>\n",
              "      \n",
              "  <style>\n",
              "    .colab-df-container {\n",
              "      display:flex;\n",
              "      flex-wrap:wrap;\n",
              "      gap: 12px;\n",
              "    }\n",
              "\n",
              "    .colab-df-convert {\n",
              "      background-color: #E8F0FE;\n",
              "      border: none;\n",
              "      border-radius: 50%;\n",
              "      cursor: pointer;\n",
              "      display: none;\n",
              "      fill: #1967D2;\n",
              "      height: 32px;\n",
              "      padding: 0 0 0 0;\n",
              "      width: 32px;\n",
              "    }\n",
              "\n",
              "    .colab-df-convert:hover {\n",
              "      background-color: #E2EBFA;\n",
              "      box-shadow: 0px 1px 2px rgba(60, 64, 67, 0.3), 0px 1px 3px 1px rgba(60, 64, 67, 0.15);\n",
              "      fill: #174EA6;\n",
              "    }\n",
              "\n",
              "    [theme=dark] .colab-df-convert {\n",
              "      background-color: #3B4455;\n",
              "      fill: #D2E3FC;\n",
              "    }\n",
              "\n",
              "    [theme=dark] .colab-df-convert:hover {\n",
              "      background-color: #434B5C;\n",
              "      box-shadow: 0px 1px 3px 1px rgba(0, 0, 0, 0.15);\n",
              "      filter: drop-shadow(0px 1px 2px rgba(0, 0, 0, 0.3));\n",
              "      fill: #FFFFFF;\n",
              "    }\n",
              "  </style>\n",
              "\n",
              "      <script>\n",
              "        const buttonEl =\n",
              "          document.querySelector('#df-ed9c2f46-2c20-4940-91dd-0bb7e4c1c5ba button.colab-df-convert');\n",
              "        buttonEl.style.display =\n",
              "          google.colab.kernel.accessAllowed ? 'block' : 'none';\n",
              "\n",
              "        async function convertToInteractive(key) {\n",
              "          const element = document.querySelector('#df-ed9c2f46-2c20-4940-91dd-0bb7e4c1c5ba');\n",
              "          const dataTable =\n",
              "            await google.colab.kernel.invokeFunction('convertToInteractive',\n",
              "                                                     [key], {});\n",
              "          if (!dataTable) return;\n",
              "\n",
              "          const docLinkHtml = 'Like what you see? Visit the ' +\n",
              "            '<a target=\"_blank\" href=https://colab.research.google.com/notebooks/data_table.ipynb>data table notebook</a>'\n",
              "            + ' to learn more about interactive tables.';\n",
              "          element.innerHTML = '';\n",
              "          dataTable['output_type'] = 'display_data';\n",
              "          await google.colab.output.renderOutput(dataTable, element);\n",
              "          const docLink = document.createElement('div');\n",
              "          docLink.innerHTML = docLinkHtml;\n",
              "          element.appendChild(docLink);\n",
              "        }\n",
              "      </script>\n",
              "    </div>\n",
              "  </div>\n",
              "  "
            ]
          },
          "metadata": {},
          "execution_count": 34
        }
      ],
      "source": [
        "preds_df[preds_df.result.apply(len)==2]"
      ]
    },
    {
      "cell_type": "code",
      "execution_count": 35,
      "metadata": {
        "colab": {
          "base_uri": "https://localhost:8080/",
          "height": 49
        },
        "id": "F64-vahk3MQn",
        "outputId": "ec240770-2b3c-4d26-b112-ef3f5ac10b54"
      },
      "outputs": [
        {
          "output_type": "execute_result",
          "data": {
            "text/plain": [
              "Empty DataFrame\n",
              "Columns: [category, text, result, metadata]\n",
              "Index: []"
            ],
            "text/html": [
              "\n",
              "  <div id=\"df-618d10a0-17e1-43da-ba73-982de0a0992e\">\n",
              "    <div class=\"colab-df-container\">\n",
              "      <div>\n",
              "<style scoped>\n",
              "    .dataframe tbody tr th:only-of-type {\n",
              "        vertical-align: middle;\n",
              "    }\n",
              "\n",
              "    .dataframe tbody tr th {\n",
              "        vertical-align: top;\n",
              "    }\n",
              "\n",
              "    .dataframe thead th {\n",
              "        text-align: right;\n",
              "    }\n",
              "</style>\n",
              "<table border=\"1\" class=\"dataframe\">\n",
              "  <thead>\n",
              "    <tr style=\"text-align: right;\">\n",
              "      <th></th>\n",
              "      <th>category</th>\n",
              "      <th>text</th>\n",
              "      <th>result</th>\n",
              "      <th>metadata</th>\n",
              "    </tr>\n",
              "  </thead>\n",
              "  <tbody>\n",
              "  </tbody>\n",
              "</table>\n",
              "</div>\n",
              "      <button class=\"colab-df-convert\" onclick=\"convertToInteractive('df-618d10a0-17e1-43da-ba73-982de0a0992e')\"\n",
              "              title=\"Convert this dataframe to an interactive table.\"\n",
              "              style=\"display:none;\">\n",
              "        \n",
              "  <svg xmlns=\"http://www.w3.org/2000/svg\" height=\"24px\"viewBox=\"0 0 24 24\"\n",
              "       width=\"24px\">\n",
              "    <path d=\"M0 0h24v24H0V0z\" fill=\"none\"/>\n",
              "    <path d=\"M18.56 5.44l.94 2.06.94-2.06 2.06-.94-2.06-.94-.94-2.06-.94 2.06-2.06.94zm-11 1L8.5 8.5l.94-2.06 2.06-.94-2.06-.94L8.5 2.5l-.94 2.06-2.06.94zm10 10l.94 2.06.94-2.06 2.06-.94-2.06-.94-.94-2.06-.94 2.06-2.06.94z\"/><path d=\"M17.41 7.96l-1.37-1.37c-.4-.4-.92-.59-1.43-.59-.52 0-1.04.2-1.43.59L10.3 9.45l-7.72 7.72c-.78.78-.78 2.05 0 2.83L4 21.41c.39.39.9.59 1.41.59.51 0 1.02-.2 1.41-.59l7.78-7.78 2.81-2.81c.8-.78.8-2.07 0-2.86zM5.41 20L4 18.59l7.72-7.72 1.47 1.35L5.41 20z\"/>\n",
              "  </svg>\n",
              "      </button>\n",
              "      \n",
              "  <style>\n",
              "    .colab-df-container {\n",
              "      display:flex;\n",
              "      flex-wrap:wrap;\n",
              "      gap: 12px;\n",
              "    }\n",
              "\n",
              "    .colab-df-convert {\n",
              "      background-color: #E8F0FE;\n",
              "      border: none;\n",
              "      border-radius: 50%;\n",
              "      cursor: pointer;\n",
              "      display: none;\n",
              "      fill: #1967D2;\n",
              "      height: 32px;\n",
              "      padding: 0 0 0 0;\n",
              "      width: 32px;\n",
              "    }\n",
              "\n",
              "    .colab-df-convert:hover {\n",
              "      background-color: #E2EBFA;\n",
              "      box-shadow: 0px 1px 2px rgba(60, 64, 67, 0.3), 0px 1px 3px 1px rgba(60, 64, 67, 0.15);\n",
              "      fill: #174EA6;\n",
              "    }\n",
              "\n",
              "    [theme=dark] .colab-df-convert {\n",
              "      background-color: #3B4455;\n",
              "      fill: #D2E3FC;\n",
              "    }\n",
              "\n",
              "    [theme=dark] .colab-df-convert:hover {\n",
              "      background-color: #434B5C;\n",
              "      box-shadow: 0px 1px 3px 1px rgba(0, 0, 0, 0.15);\n",
              "      filter: drop-shadow(0px 1px 2px rgba(0, 0, 0, 0.3));\n",
              "      fill: #FFFFFF;\n",
              "    }\n",
              "  </style>\n",
              "\n",
              "      <script>\n",
              "        const buttonEl =\n",
              "          document.querySelector('#df-618d10a0-17e1-43da-ba73-982de0a0992e button.colab-df-convert');\n",
              "        buttonEl.style.display =\n",
              "          google.colab.kernel.accessAllowed ? 'block' : 'none';\n",
              "\n",
              "        async function convertToInteractive(key) {\n",
              "          const element = document.querySelector('#df-618d10a0-17e1-43da-ba73-982de0a0992e');\n",
              "          const dataTable =\n",
              "            await google.colab.kernel.invokeFunction('convertToInteractive',\n",
              "                                                     [key], {});\n",
              "          if (!dataTable) return;\n",
              "\n",
              "          const docLinkHtml = 'Like what you see? Visit the ' +\n",
              "            '<a target=\"_blank\" href=https://colab.research.google.com/notebooks/data_table.ipynb>data table notebook</a>'\n",
              "            + ' to learn more about interactive tables.';\n",
              "          element.innerHTML = '';\n",
              "          dataTable['output_type'] = 'display_data';\n",
              "          await google.colab.output.renderOutput(dataTable, element);\n",
              "          const docLink = document.createElement('div');\n",
              "          docLink.innerHTML = docLinkHtml;\n",
              "          element.appendChild(docLink);\n",
              "        }\n",
              "      </script>\n",
              "    </div>\n",
              "  </div>\n",
              "  "
            ]
          },
          "metadata": {},
          "execution_count": 35
        }
      ],
      "source": [
        "preds_df[preds_df.result.apply(len)==0]"
      ]
    },
    {
      "cell_type": "markdown",
      "metadata": {
        "id": "yPS9qyw-nYJN"
      },
      "source": [
        "MultiClassifierDL is a multi-label classifier, so some predictions may include both labels or none of the labels. That can be controlled a bit with `.setThreshold()` parameter during training. For now we will keep not keep zero label predictions and get the highest score as prediction."
      ]
    },
    {
      "cell_type": "code",
      "execution_count": 36,
      "metadata": {
        "colab": {
          "base_uri": "https://localhost:8080/"
        },
        "id": "ZG5XKJVd79vg",
        "outputId": "3a809e57-2664-4ffe-d39c-c19695de6715"
      },
      "outputs": [
        {
          "output_type": "execute_result",
          "data": {
            "text/plain": [
              "neg    1145\n",
              "pos     282\n",
              "Name: result, dtype: int64"
            ]
          },
          "metadata": {},
          "execution_count": 36
        }
      ],
      "source": [
        "# We will get the highest score label as result. You can control the number of zero label results with setThreshold() in the training.\n",
        "preds_df[\"scores\"] = preds_df.metadata.apply(lambda x: {k:float(v) for k,v in x[0].items()} if len(x)>=1 else \"\")\n",
        "preds_df[\"result\"] = preds_df.scores.apply(lambda x: max(x, key=x.get) if len(x)>=1 else \"\")\n",
        "preds_df[\"result\"].value_counts()"
      ]
    },
    {
      "cell_type": "code",
      "execution_count": 37,
      "metadata": {
        "colab": {
          "base_uri": "https://localhost:8080/"
        },
        "id": "MT8hQSEqQ57A",
        "outputId": "76fec9f6-2b4c-46b4-9d55-bd74aa256000"
      },
      "outputs": [
        {
          "output_type": "stream",
          "name": "stdout",
          "text": [
            "              precision    recall  f1-score   support\n",
            "\n",
            "         neg       0.80      0.94      0.86       982\n",
            "         pos       0.78      0.49      0.60       445\n",
            "\n",
            "    accuracy                           0.80      1427\n",
            "   macro avg       0.79      0.71      0.73      1427\n",
            "weighted avg       0.79      0.80      0.78      1427\n",
            "\n"
          ]
        }
      ],
      "source": [
        "print (classification_report(preds_df[\"category\"], preds_df[\"result\"]))"
      ]
    },
    {
      "cell_type": "markdown",
      "metadata": {
        "id": "aCf989KwQB3H"
      },
      "source": [
        "### Generic Classifier"
      ]
    },
    {
      "cell_type": "code",
      "execution_count": 38,
      "metadata": {
        "id": "N1Z9so_UQB3I"
      },
      "outputs": [],
      "source": [
        "from sparknlp_jsl.annotator import TFGraphBuilder\n",
        "\n",
        "graph_folder = \"gc_graph\"\n",
        "\n",
        "gc_graph_builder = TFGraphBuilder()\\\n",
        "    .setModelName(\"generic_classifier\")\\\n",
        "    .setInputCols([\"features\"])\\\n",
        "    .setLabelColumn(\"category\")\\\n",
        "    .setHiddenLayers([300,200, 50])\\\n",
        "    .setHiddenAct(\"tanh\")\\\n",
        "    .setHiddenActL2(True)\\\n",
        "    .setBatchNorm(True)\\\n",
        "    .setGraphFolder(graph_folder)\\\n",
        "    .setGraphFile(\"gcf_graph_100d.pb\")"
      ]
    },
    {
      "cell_type": "markdown",
      "metadata": {
        "id": "_ADlQFAHch6j"
      },
      "source": [
        "GenericClassifier needs outputs from FeaturesAssembler. The FeaturesAssembler is used to collect features from different columns or an embeddings column.\n",
        "\n",
        "The GenericClassifierApproach takes FEATURE_VECTOR annotations as input, classifies them and outputs CATEGORY annotations."
      ]
    },
    {
      "cell_type": "code",
      "execution_count": 39,
      "metadata": {
        "id": "f7saGLwvQB3I"
      },
      "outputs": [],
      "source": [
        "features_asm = FeaturesAssembler()\\\n",
        "    .setInputCols([\"sentence_embeddings\"])\\\n",
        "    .setOutputCol(\"features\")\n",
        "      \n",
        "gen_clf = GenericClassifierApproach()\\\n",
        "    .setLabelColumn(\"category\")\\\n",
        "    .setInputCols(\"features\")\\\n",
        "    .setOutputCol(\"prediction\")\\\n",
        "    .setModelFile(f\"{graph_folder}/gcf_graph_100d.pb\")\\\n",
        "    .setEpochsNumber(25)\\\n",
        "    .setBatchSize(128)\\\n",
        "    .setLearningRate(0.004)\\\n",
        "    .setOutputLogsPath(log_folder)\\\n",
        "    .setDropout(0.2)\\\n",
        "    .setFixImbalance(True)\\\n",
        "    # .setValidationSplit(0.1)\n",
        "\n",
        "clf_Pipeline = Pipeline(stages=[\n",
        "    features_asm,\n",
        "    gc_graph_builder,\n",
        "    gen_clf])\n"
      ]
    },
    {
      "cell_type": "code",
      "execution_count": 40,
      "metadata": {
        "colab": {
          "base_uri": "https://localhost:8080/"
        },
        "id": "oSG7cx7yQB3I",
        "outputId": "e7ca591a-b935-4065-a3ba-bc45a44e5572"
      },
      "outputs": [
        {
          "output_type": "stream",
          "name": "stdout",
          "text": [
            "TF Graph Builder configuration:\n",
            "Model name: generic_classifier\n",
            "Graph folder: gc_graph\n",
            "Graph file name: gcf_graph_100d.pb\n",
            "Build params: {'input_dim': 100, 'output_dim': 2, 'hidden_layers': [300, 200, 50], 'hidden_act': 'tanh', 'hidden_act_l2': True, 'batch_norm': True}\n"
          ]
        },
        {
          "output_type": "stream",
          "name": "stderr",
          "text": [
            "WARNING:tensorflow:From /usr/local/lib/python3.8/dist-packages/keras/layers/normalization/batch_normalization.py:561: _colocate_with (from tensorflow.python.framework.ops) is deprecated and will be removed in a future version.\n",
            "Instructions for updating:\n",
            "Colocations handled automatically by placer.\n"
          ]
        },
        {
          "output_type": "stream",
          "name": "stdout",
          "text": [
            "generic_classifier graph exported to gc_graph/gcf_graph_100d.pb\n"
          ]
        }
      ],
      "source": [
        "generic_model_hc100 = clf_Pipeline.fit(trainingData_with_embeddings)"
      ]
    },
    {
      "cell_type": "code",
      "execution_count": 6,
      "metadata": {
        "colab": {
          "base_uri": "https://localhost:8080/"
        },
        "id": "9PSm7rd0QB3I",
        "outputId": "df3f55b5-6763-42e9-a0a4-f012f05e977c"
      },
      "outputs": [
        {
          "output_type": "stream",
          "name": "stdout",
          "text": [
            "Training 25 epochs\n",
            "Epoch 1/25\t0.43s\tLoss: 11.13918\tACC: 0.6618989\n",
            "Epoch 2/25\t0.13s\tLoss: 9.798145\tACC: 0.7244449\n",
            "Epoch 3/25\t0.13s\tLoss: 9.700033\tACC: 0.71773726\n",
            "Epoch 4/25\t0.12s\tLoss: 9.878727\tACC: 0.7129498\n",
            "Epoch 5/25\t0.12s\tLoss: 9.169177\tACC: 0.72923905\n",
            "Epoch 6/25\t0.16s\tLoss: 8.999225\tACC: 0.7426807\n",
            "Epoch 7/25\t0.15s\tLoss: 8.661567\tACC: 0.7545836\n",
            "Epoch 8/25\t0.16s\tLoss: 8.716748\tACC: 0.7564907\n",
            "Epoch 9/25\t0.12s\tLoss: 8.892795\tACC: 0.7467317\n",
            "Epoch 10/25\t0.12s\tLoss: 8.50721\tACC: 0.7592922\n",
            "Epoch 11/25\t0.12s\tLoss: 8.547359\tACC: 0.76918274\n",
            "Epoch 12/25\t0.12s\tLoss: 8.387141\tACC: 0.77105695\n",
            "Epoch 13/25\t0.12s\tLoss: 8.277868\tACC: 0.76980746\n",
            "Epoch 14/25\t0.13s\tLoss: 8.375022\tACC: 0.7652765\n",
            "Epoch 15/25\t0.12s\tLoss: 8.183036\tACC: 0.77522624\n",
            "Epoch 16/25\t0.12s\tLoss: 8.118612\tACC: 0.77611405\n",
            "Epoch 17/25\t0.12s\tLoss: 8.074482\tACC: 0.77704126\n",
            "Epoch 18/25\t0.11s\tLoss: 8.172344\tACC: 0.7773964\n",
            "Epoch 19/25\t0.11s\tLoss: 8.042446\tACC: 0.78157884\n",
            "Epoch 20/25\t0.11s\tLoss: 7.932385\tACC: 0.78547853\n",
            "Epoch 21/25\t0.11s\tLoss: 7.7639265\tACC: 0.7836109\n",
            "Epoch 22/25\t0.10s\tLoss: 7.640907\tACC: 0.7927123\n",
            "Epoch 23/25\t0.11s\tLoss: 7.688348\tACC: 0.78845096\n",
            "Epoch 24/25\t0.10s\tLoss: 7.389968\tACC: 0.80194527\n",
            "Epoch 25/25\t0.10s\tLoss: 7.474588\tACC: 0.7949745\n",
            "Training completed.\n"
          ]
        }
      ],
      "source": [
        "!cat $log_folder/GenericClassifierApproach_*"
      ]
    },
    {
      "cell_type": "code",
      "execution_count": 42,
      "metadata": {
        "id": "3Sqm6pF95vYX"
      },
      "outputs": [],
      "source": [
        "pred_df = generic_model_hc100.transform(testData_with_embeddings)"
      ]
    },
    {
      "cell_type": "code",
      "execution_count": 43,
      "metadata": {
        "colab": {
          "base_uri": "https://localhost:8080/"
        },
        "id": "EW_Bbcb55xe-",
        "outputId": "fc235503-8c87-4c89-bea2-db46f95de546"
      },
      "outputs": [
        {
          "output_type": "stream",
          "name": "stdout",
          "text": [
            "root\n",
            " |-- text: string (nullable = true)\n",
            " |-- category: string (nullable = true)\n",
            " |-- sentence_embeddings: array (nullable = true)\n",
            " |    |-- element: struct (containsNull = true)\n",
            " |    |    |-- annotatorType: string (nullable = true)\n",
            " |    |    |-- begin: integer (nullable = false)\n",
            " |    |    |-- end: integer (nullable = false)\n",
            " |    |    |-- result: string (nullable = true)\n",
            " |    |    |-- metadata: map (nullable = true)\n",
            " |    |    |    |-- key: string\n",
            " |    |    |    |-- value: string (valueContainsNull = true)\n",
            " |    |    |-- embeddings: array (nullable = true)\n",
            " |    |    |    |-- element: float (containsNull = false)\n",
            " |-- category_array: array (nullable = false)\n",
            " |    |-- element: string (containsNull = true)\n",
            " |-- prediction: array (nullable = true)\n",
            " |    |-- element: struct (containsNull = true)\n",
            " |    |    |-- annotatorType: string (nullable = true)\n",
            " |    |    |-- begin: integer (nullable = false)\n",
            " |    |    |-- end: integer (nullable = false)\n",
            " |    |    |-- result: string (nullable = true)\n",
            " |    |    |-- metadata: map (nullable = true)\n",
            " |    |    |    |-- key: string\n",
            " |    |    |    |-- value: string (valueContainsNull = true)\n",
            " |    |    |-- embeddings: array (nullable = true)\n",
            " |    |    |    |-- element: float (containsNull = false)\n",
            "\n",
            "+--------------------------------------------------------------------------------------+\n",
            "|prediction                                                                            |\n",
            "+--------------------------------------------------------------------------------------+\n",
            "|[{category, 0, 166, neg, {sentence -> 0, neg -> 0.99837303, pos -> 0.0016366685}, []}]|\n",
            "|[{category, 0, 262, neg, {sentence -> 0, neg -> 0.994167, pos -> 0.0060062455}, []}]  |\n",
            "|[{category, 0, 172, pos, {sentence -> 0, neg -> 0.42631826, pos -> 0.57503456}, []}]  |\n",
            "|[{category, 0, 93, pos, {sentence -> 0, neg -> 0.413013, pos -> 0.5878753}, []}]      |\n",
            "|[{category, 0, 136, neg, {sentence -> 0, neg -> 0.7764552, pos -> 0.22387417}, []}]   |\n",
            "+--------------------------------------------------------------------------------------+\n",
            "only showing top 5 rows\n",
            "\n",
            "+--------+-----------------+\n",
            "|category|prediction.result|\n",
            "+--------+-----------------+\n",
            "|neg     |[neg]            |\n",
            "|neg     |[neg]            |\n",
            "|neg     |[pos]            |\n",
            "|neg     |[pos]            |\n",
            "|neg     |[neg]            |\n",
            "+--------+-----------------+\n",
            "only showing top 5 rows\n",
            "\n"
          ]
        }
      ],
      "source": [
        "preds.printSchema()\n",
        "preds.select(preds.prediction).show(5, truncate=False)\n",
        "preds.select(preds.category, preds.prediction.result).show(5, truncate=False)"
      ]
    },
    {
      "cell_type": "code",
      "execution_count": 44,
      "metadata": {
        "colab": {
          "base_uri": "https://localhost:8080/"
        },
        "id": "NHCBTwrmQB3I",
        "outputId": "90e13231-4f28-44c1-b033-50322b11114b"
      },
      "outputs": [
        {
          "output_type": "stream",
          "name": "stdout",
          "text": [
            "              precision    recall  f1-score   support\n",
            "\n",
            "         neg       0.92      0.76      0.83       982\n",
            "         pos       0.61      0.85      0.71       445\n",
            "\n",
            "    accuracy                           0.78      1427\n",
            "   macro avg       0.76      0.80      0.77      1427\n",
            "weighted avg       0.82      0.78      0.79      1427\n",
            "\n"
          ]
        }
      ],
      "source": [
        "preds_df = pred_df.select('category','prediction.result').toPandas()\n",
        "preds_df['result'] = preds_df.result.apply(lambda x : x[0])\n",
        "\n",
        "print (classification_report(preds_df['category'], preds_df['result']))"
      ]
    },
    {
      "cell_type": "markdown",
      "metadata": {
        "id": "moyOD1bWPnBR"
      },
      "source": [
        "### GenericLogRegClassifier"
      ]
    },
    {
      "cell_type": "code",
      "execution_count": 45,
      "metadata": {
        "id": "DfbdLp5ZPnBR"
      },
      "outputs": [],
      "source": [
        "from sparknlp_jsl.annotator import TFGraphBuilder\n",
        "\n",
        "graph_folder = \"gc_graph\"\n",
        "\n",
        "gc_logreg_graph_builder = TFGraphBuilder()\\\n",
        "    .setModelName(\"logreg_classifier\")\\\n",
        "    .setInputCols([\"feature_vector\"]) \\\n",
        "    .setLabelColumn(\"category\")\\\n",
        "    .setGraphFolder(graph_folder)\\\n",
        "    .setGraphFile(\"log_reg_graph.pb\")"
      ]
    },
    {
      "cell_type": "markdown",
      "metadata": {
        "id": "nF-VGSTbPnBS"
      },
      "source": [
        "GenericLogRegClassifier needs outputs from FeaturesAssembler. The FeaturesAssembler is used to collect features from different columns or an embeddings column.\n",
        "\n",
        "The GenericLogRegClassifier takes FEATURE_VECTOR annotations as input, classifies them and outputs CATEGORY annotations."
      ]
    },
    {
      "cell_type": "code",
      "execution_count": 46,
      "metadata": {
        "id": "RrPR_-6kPnBS"
      },
      "outputs": [],
      "source": [
        "features_asm = FeaturesAssembler()\\\n",
        "    .setInputCols([\"sentence_embeddings\"])\\\n",
        "    .setOutputCol(\"feature_vector\")\n",
        "      \n",
        "gen_clf = GenericLogRegClassifierApproach()\\\n",
        "    .setLabelColumn(\"category\")\\\n",
        "    .setInputCols(\"feature_vector\")\\\n",
        "    .setOutputCol(\"prediction\")\\\n",
        "    .setModelFile(f\"{graph_folder}/log_reg_graph.pb\")\\\n",
        "    .setEpochsNumber(25)\\\n",
        "    .setBatchSize(128)\\\n",
        "    .setLearningRate(0.004)\\\n",
        "    .setOutputLogsPath(log_folder)\\\n",
        "    .setDropout(0.2)\\\n",
        "    .setFixImbalance(True)\\\n",
        "    # .setValidationSplit(0.1)\n",
        "\n",
        "clf_Pipeline = Pipeline(stages=[\n",
        "    features_asm,\n",
        "    gc_logreg_graph_builder,\n",
        "    gen_clf])\n"
      ]
    },
    {
      "cell_type": "code",
      "execution_count": 47,
      "metadata": {
        "colab": {
          "base_uri": "https://localhost:8080/"
        },
        "outputId": "dc4e5e00-8e9a-4549-f4fe-f77119606045",
        "id": "JvS4gi_sPnBS"
      },
      "outputs": [
        {
          "output_type": "stream",
          "name": "stdout",
          "text": [
            "TF Graph Builder configuration:\n",
            "Model name: logreg_classifier\n",
            "Graph folder: gc_graph\n",
            "Graph file name: log_reg_graph.pb\n",
            "Build params: {'input_dim': 100, 'output_dim': 2, 'hidden_layers': [], 'output_act': 'sigmoid'}\n",
            "logreg_classifier graph exported to gc_graph/log_reg_graph.pb\n"
          ]
        }
      ],
      "source": [
        "generic_model_hc100 = clf_Pipeline.fit(trainingData_with_embeddings)"
      ]
    },
    {
      "cell_type": "code",
      "execution_count": 7,
      "metadata": {
        "colab": {
          "base_uri": "https://localhost:8080/"
        },
        "outputId": "c94e02ba-2369-4338-9cc7-1c9dfd5f271d",
        "id": "Kj-r_R-_PnBT"
      },
      "outputs": [
        {
          "output_type": "stream",
          "name": "stdout",
          "text": [
            "Training 25 epochs\n",
            "Epoch 1/25\t0.20s\tLoss: 26.689623\tACC: 0.7111282\n",
            "Epoch 2/25\t0.08s\tLoss: 25.617167\tACC: 0.71246314\n",
            "Epoch 3/25\t0.08s\tLoss: 24.814148\tACC: 0.7154751\n",
            "Epoch 4/25\t0.08s\tLoss: 24.290005\tACC: 0.72040063\n",
            "Epoch 5/25\t0.08s\tLoss: 24.036684\tACC: 0.71752685\n",
            "Epoch 6/25\t0.06s\tLoss: 23.708939\tACC: 0.72972566\n",
            "Epoch 7/25\t0.06s\tLoss: 23.492151\tACC: 0.7272464\n",
            "Epoch 8/25\t0.06s\tLoss: 23.16531\tACC: 0.73572314\n",
            "Epoch 9/25\t0.06s\tLoss: 22.959356\tACC: 0.7367819\n",
            "Epoch 10/25\t0.06s\tLoss: 23.013765\tACC: 0.7340791\n",
            "Epoch 11/25\t0.06s\tLoss: 22.64423\tACC: 0.741622\n",
            "Epoch 12/25\t0.06s\tLoss: 22.757103\tACC: 0.7398464\n",
            "Epoch 13/25\t0.07s\tLoss: 22.493414\tACC: 0.74215466\n",
            "Epoch 14/25\t0.07s\tLoss: 22.638077\tACC: 0.74486405\n",
            "Epoch 15/25\t0.06s\tLoss: 22.581057\tACC: 0.7410038\n",
            "Epoch 16/25\t0.06s\tLoss: 22.362005\tACC: 0.7445944\n",
            "Epoch 17/25\t0.06s\tLoss: 22.519594\tACC: 0.7456203\n",
            "Epoch 18/25\t0.06s\tLoss: 22.322456\tACC: 0.7465015\n",
            "Epoch 19/25\t0.06s\tLoss: 22.319033\tACC: 0.7507234\n",
            "Epoch 20/25\t0.06s\tLoss: 22.139994\tACC: 0.74743533\n",
            "Epoch 21/25\t0.06s\tLoss: 22.274874\tACC: 0.74557424\n",
            "Epoch 22/25\t0.06s\tLoss: 22.085463\tACC: 0.74650806\n",
            "Epoch 23/25\t0.06s\tLoss: 22.17628\tACC: 0.74722487\n",
            "Epoch 24/25\t0.06s\tLoss: 22.312214\tACC: 0.74606746\n",
            "Epoch 25/25\t0.06s\tLoss: 22.193096\tACC: 0.7454822\n",
            "Training completed.\n"
          ]
        }
      ],
      "source": [
        "!cat $log_folder/GenericLogRegClassifierApproach*"
      ]
    },
    {
      "cell_type": "code",
      "execution_count": 49,
      "metadata": {
        "id": "9acpNGeCPnBT"
      },
      "outputs": [],
      "source": [
        "pred_df = generic_model_hc100.transform(testData_with_embeddings)"
      ]
    },
    {
      "cell_type": "code",
      "execution_count": 50,
      "metadata": {
        "colab": {
          "base_uri": "https://localhost:8080/"
        },
        "outputId": "8fe7daf1-0547-4e88-ad80-dd68ad455feb",
        "id": "jxk_78fcPnBT"
      },
      "outputs": [
        {
          "output_type": "stream",
          "name": "stdout",
          "text": [
            "root\n",
            " |-- text: string (nullable = true)\n",
            " |-- category: string (nullable = true)\n",
            " |-- sentence_embeddings: array (nullable = true)\n",
            " |    |-- element: struct (containsNull = true)\n",
            " |    |    |-- annotatorType: string (nullable = true)\n",
            " |    |    |-- begin: integer (nullable = false)\n",
            " |    |    |-- end: integer (nullable = false)\n",
            " |    |    |-- result: string (nullable = true)\n",
            " |    |    |-- metadata: map (nullable = true)\n",
            " |    |    |    |-- key: string\n",
            " |    |    |    |-- value: string (valueContainsNull = true)\n",
            " |    |    |-- embeddings: array (nullable = true)\n",
            " |    |    |    |-- element: float (containsNull = false)\n",
            " |-- category_array: array (nullable = false)\n",
            " |    |-- element: string (containsNull = true)\n",
            " |-- prediction: array (nullable = true)\n",
            " |    |-- element: struct (containsNull = true)\n",
            " |    |    |-- annotatorType: string (nullable = true)\n",
            " |    |    |-- begin: integer (nullable = false)\n",
            " |    |    |-- end: integer (nullable = false)\n",
            " |    |    |-- result: string (nullable = true)\n",
            " |    |    |-- metadata: map (nullable = true)\n",
            " |    |    |    |-- key: string\n",
            " |    |    |    |-- value: string (valueContainsNull = true)\n",
            " |    |    |-- embeddings: array (nullable = true)\n",
            " |    |    |    |-- element: float (containsNull = false)\n",
            "\n",
            "+--------------------------------------------------------------------------------------+\n",
            "|prediction                                                                            |\n",
            "+--------------------------------------------------------------------------------------+\n",
            "|[{category, 0, 166, neg, {sentence -> 0, neg -> 0.99837303, pos -> 0.0016366685}, []}]|\n",
            "|[{category, 0, 262, neg, {sentence -> 0, neg -> 0.994167, pos -> 0.0060062455}, []}]  |\n",
            "|[{category, 0, 172, pos, {sentence -> 0, neg -> 0.42631826, pos -> 0.57503456}, []}]  |\n",
            "|[{category, 0, 93, pos, {sentence -> 0, neg -> 0.413013, pos -> 0.5878753}, []}]      |\n",
            "|[{category, 0, 136, neg, {sentence -> 0, neg -> 0.7764552, pos -> 0.22387417}, []}]   |\n",
            "+--------------------------------------------------------------------------------------+\n",
            "only showing top 5 rows\n",
            "\n",
            "+--------+-----------------+\n",
            "|category|prediction.result|\n",
            "+--------+-----------------+\n",
            "|neg     |[neg]            |\n",
            "|neg     |[neg]            |\n",
            "|neg     |[pos]            |\n",
            "|neg     |[pos]            |\n",
            "|neg     |[neg]            |\n",
            "+--------+-----------------+\n",
            "only showing top 5 rows\n",
            "\n"
          ]
        }
      ],
      "source": [
        "preds.printSchema()\n",
        "preds.select(preds.prediction).show(5, truncate=False)\n",
        "preds.select(preds.category, preds.prediction.result).show(5, truncate=False)"
      ]
    },
    {
      "cell_type": "code",
      "execution_count": 51,
      "metadata": {
        "colab": {
          "base_uri": "https://localhost:8080/"
        },
        "outputId": "a1af3d50-2e42-4d4e-a9e2-0ba0642ed3ff",
        "id": "iF3ut5msPnBT"
      },
      "outputs": [
        {
          "output_type": "stream",
          "name": "stdout",
          "text": [
            "              precision    recall  f1-score   support\n",
            "\n",
            "         neg       0.74      0.95      0.83       982\n",
            "         pos       0.72      0.27      0.39       445\n",
            "\n",
            "    accuracy                           0.74      1427\n",
            "   macro avg       0.73      0.61      0.61      1427\n",
            "weighted avg       0.74      0.74      0.70      1427\n",
            "\n"
          ]
        }
      ],
      "source": [
        "preds_df = pred_df.select('category','prediction.result').toPandas()\n",
        "preds_df['result'] = preds_df.result.apply(lambda x : x[0])\n",
        "\n",
        "print (classification_report(preds_df['category'], preds_df['result']))"
      ]
    },
    {
      "cell_type": "markdown",
      "metadata": {
        "id": "kGx7LiTFUytq"
      },
      "source": [
        "### GenericSVMClassifier"
      ]
    },
    {
      "cell_type": "code",
      "execution_count": 52,
      "metadata": {
        "id": "QQxZi5VjUytq"
      },
      "outputs": [],
      "source": [
        "from sparknlp_jsl.annotator import TFGraphBuilder\n",
        "\n",
        "graph_folder = \"gc_graph\"\n",
        "\n",
        "gc_svm_graph_builder = TFGraphBuilder()\\\n",
        "    .setModelName(\"svm_classifier\")\\\n",
        "    .setInputCols([\"feature_vector\"]) \\\n",
        "    .setLabelColumn(\"category\")\\\n",
        "    .setGraphFolder(graph_folder)\\\n",
        "    .setGraphFile(\"svm_graph.pb\")"
      ]
    },
    {
      "cell_type": "markdown",
      "metadata": {
        "id": "HCczHJ9EUytq"
      },
      "source": [
        "GenericSVMClassifier needs outputs from FeaturesAssembler. The FeaturesAssembler is used to collect features from different columns or an embeddings column.\n",
        "\n",
        "The GenericSVMClassifier takes FEATURE_VECTOR annotations as input, classifies them and outputs CATEGORY annotations."
      ]
    },
    {
      "cell_type": "code",
      "execution_count": 53,
      "metadata": {
        "id": "iLlsBDJjUytq"
      },
      "outputs": [],
      "source": [
        "features_asm = FeaturesAssembler()\\\n",
        "    .setInputCols([\"sentence_embeddings\"])\\\n",
        "    .setOutputCol(\"feature_vector\")\n",
        "      \n",
        "gen_clf = GenericSVMClassifierApproach()\\\n",
        "    .setLabelColumn(\"category\")\\\n",
        "    .setInputCols(\"feature_vector\")\\\n",
        "    .setOutputCol(\"prediction\")\\\n",
        "    .setModelFile(f\"{graph_folder}/svm_graph.pb\")\\\n",
        "    .setEpochsNumber(25)\\\n",
        "    .setBatchSize(128)\\\n",
        "    .setLearningRate(0.004)\\\n",
        "    .setOutputLogsPath(log_folder)\\\n",
        "    .setDropout(0.2)\\\n",
        "    .setFixImbalance(True)\\\n",
        "    # .setValidationSplit(0.1)\n",
        "\n",
        "clf_Pipeline = Pipeline(stages=[\n",
        "    features_asm,\n",
        "    gc_svm_graph_builder,\n",
        "    gen_clf])\n"
      ]
    },
    {
      "cell_type": "code",
      "execution_count": 54,
      "metadata": {
        "colab": {
          "base_uri": "https://localhost:8080/"
        },
        "outputId": "59001e25-f46d-4237-d987-54de8824a057",
        "id": "K8KAXYtkUytq"
      },
      "outputs": [
        {
          "output_type": "stream",
          "name": "stdout",
          "text": [
            "TF Graph Builder configuration:\n",
            "Model name: svm_classifier\n",
            "Graph folder: gc_graph\n",
            "Graph file name: svm_graph.pb\n",
            "Build params: {'input_dim': 100, 'output_dim': 2, 'hidden_layers': [], 'output_act': 'sigmoid', 'loss_func': 'hinge'}\n",
            "svm_classifier graph exported to gc_graph/svm_graph.pb\n"
          ]
        }
      ],
      "source": [
        "generic_model_hc100 = clf_Pipeline.fit(trainingData_with_embeddings)"
      ]
    },
    {
      "cell_type": "code",
      "execution_count": 8,
      "metadata": {
        "colab": {
          "base_uri": "https://localhost:8080/"
        },
        "outputId": "4e3f1ead-8049-41a9-e644-c4b457f89241",
        "id": "laXPq5hLUytq"
      },
      "outputs": [
        {
          "output_type": "stream",
          "name": "stdout",
          "text": [
            "Training 25 epochs\n",
            "Epoch 1/25\t0.17s\tLoss: 37.366035\tACC: 0.6397964\n",
            "Epoch 2/25\t0.08s\tLoss: 26.486511\tACC: 0.7139691\n",
            "Epoch 3/25\t0.09s\tLoss: 25.912964\tACC: 0.7150344\n",
            "Epoch 4/25\t0.09s\tLoss: 25.395231\tACC: 0.71587616\n",
            "Epoch 5/25\t0.09s\tLoss: 25.143248\tACC: 0.71618533\n",
            "Epoch 6/25\t0.09s\tLoss: 24.978365\tACC: 0.7186711\n",
            "Epoch 7/25\t0.10s\tLoss: 25.133312\tACC: 0.7183225\n",
            "Epoch 8/25\t0.08s\tLoss: 24.935448\tACC: 0.71898675\n",
            "Epoch 9/25\t0.09s\tLoss: 24.904512\tACC: 0.72102535\n",
            "Epoch 10/25\t0.09s\tLoss: 24.807228\tACC: 0.7224918\n",
            "Epoch 11/25\t0.08s\tLoss: 24.63386\tACC: 0.7267006\n",
            "Epoch 12/25\t0.08s\tLoss: 24.914183\tACC: 0.721078\n",
            "Epoch 13/25\t0.08s\tLoss: 24.535143\tACC: 0.7288773\n",
            "Epoch 14/25\t0.09s\tLoss: 24.594475\tACC: 0.7267927\n",
            "Epoch 15/25\t0.08s\tLoss: 24.52173\tACC: 0.7315012\n",
            "Epoch 16/25\t0.08s\tLoss: 24.566565\tACC: 0.73500633\n",
            "Epoch 17/25\t0.08s\tLoss: 24.58638\tACC: 0.73274416\n",
            "Epoch 18/25\t0.08s\tLoss: 24.453281\tACC: 0.7388205\n",
            "Epoch 19/25\t0.09s\tLoss: 24.653605\tACC: 0.7315933\n",
            "Epoch 20/25\t0.08s\tLoss: 24.356182\tACC: 0.73957676\n",
            "Epoch 21/25\t0.09s\tLoss: 24.618639\tACC: 0.74078023\n",
            "Epoch 22/25\t0.09s\tLoss: 24.395092\tACC: 0.74224013\n",
            "Epoch 23/25\t0.08s\tLoss: 24.378193\tACC: 0.7359007\n",
            "Epoch 24/25\t0.09s\tLoss: 24.45255\tACC: 0.7389126\n",
            "Epoch 25/25\t0.10s\tLoss: 24.13639\tACC: 0.7424177\n",
            "Training completed.\n"
          ]
        }
      ],
      "source": [
        "!cat $log_folder/GenericSVMClassifierApproach*"
      ]
    },
    {
      "cell_type": "code",
      "execution_count": 56,
      "metadata": {
        "id": "F0t-aE9hUytq"
      },
      "outputs": [],
      "source": [
        "pred_df = generic_model_hc100.transform(testData_with_embeddings)"
      ]
    },
    {
      "cell_type": "code",
      "execution_count": 57,
      "metadata": {
        "colab": {
          "base_uri": "https://localhost:8080/"
        },
        "outputId": "611894b9-a0ee-4c2e-9e5a-e10e99cc78ae",
        "id": "4HmAqC2fUytq"
      },
      "outputs": [
        {
          "output_type": "stream",
          "name": "stdout",
          "text": [
            "root\n",
            " |-- text: string (nullable = true)\n",
            " |-- category: string (nullable = true)\n",
            " |-- sentence_embeddings: array (nullable = true)\n",
            " |    |-- element: struct (containsNull = true)\n",
            " |    |    |-- annotatorType: string (nullable = true)\n",
            " |    |    |-- begin: integer (nullable = false)\n",
            " |    |    |-- end: integer (nullable = false)\n",
            " |    |    |-- result: string (nullable = true)\n",
            " |    |    |-- metadata: map (nullable = true)\n",
            " |    |    |    |-- key: string\n",
            " |    |    |    |-- value: string (valueContainsNull = true)\n",
            " |    |    |-- embeddings: array (nullable = true)\n",
            " |    |    |    |-- element: float (containsNull = false)\n",
            " |-- category_array: array (nullable = false)\n",
            " |    |-- element: string (containsNull = true)\n",
            " |-- prediction: array (nullable = true)\n",
            " |    |-- element: struct (containsNull = true)\n",
            " |    |    |-- annotatorType: string (nullable = true)\n",
            " |    |    |-- begin: integer (nullable = false)\n",
            " |    |    |-- end: integer (nullable = false)\n",
            " |    |    |-- result: string (nullable = true)\n",
            " |    |    |-- metadata: map (nullable = true)\n",
            " |    |    |    |-- key: string\n",
            " |    |    |    |-- value: string (valueContainsNull = true)\n",
            " |    |    |-- embeddings: array (nullable = true)\n",
            " |    |    |    |-- element: float (containsNull = false)\n",
            "\n",
            "+--------------------------------------------------------------------------------------+\n",
            "|prediction                                                                            |\n",
            "+--------------------------------------------------------------------------------------+\n",
            "|[{category, 0, 166, neg, {sentence -> 0, neg -> 0.99837303, pos -> 0.0016366685}, []}]|\n",
            "|[{category, 0, 262, neg, {sentence -> 0, neg -> 0.994167, pos -> 0.0060062455}, []}]  |\n",
            "|[{category, 0, 172, pos, {sentence -> 0, neg -> 0.42631826, pos -> 0.57503456}, []}]  |\n",
            "|[{category, 0, 93, pos, {sentence -> 0, neg -> 0.413013, pos -> 0.5878753}, []}]      |\n",
            "|[{category, 0, 136, neg, {sentence -> 0, neg -> 0.7764552, pos -> 0.22387417}, []}]   |\n",
            "+--------------------------------------------------------------------------------------+\n",
            "only showing top 5 rows\n",
            "\n",
            "+--------+-----------------+\n",
            "|category|prediction.result|\n",
            "+--------+-----------------+\n",
            "|neg     |[neg]            |\n",
            "|neg     |[neg]            |\n",
            "|neg     |[pos]            |\n",
            "|neg     |[pos]            |\n",
            "|neg     |[neg]            |\n",
            "+--------+-----------------+\n",
            "only showing top 5 rows\n",
            "\n"
          ]
        }
      ],
      "source": [
        "preds.printSchema()\n",
        "preds.select(preds.prediction).show(5, truncate=False)\n",
        "preds.select(preds.category, preds.prediction.result).show(5, truncate=False)"
      ]
    },
    {
      "cell_type": "code",
      "execution_count": 58,
      "metadata": {
        "colab": {
          "base_uri": "https://localhost:8080/"
        },
        "outputId": "66f3730a-8b6c-4ff6-8ee2-d09c893e815f",
        "id": "OmNN-FEuUytr"
      },
      "outputs": [
        {
          "output_type": "stream",
          "name": "stdout",
          "text": [
            "              precision    recall  f1-score   support\n",
            "\n",
            "         neg       0.72      0.98      0.83       982\n",
            "         pos       0.77      0.16      0.26       445\n",
            "\n",
            "    accuracy                           0.72      1427\n",
            "   macro avg       0.75      0.57      0.55      1427\n",
            "weighted avg       0.74      0.72      0.65      1427\n",
            "\n"
          ]
        }
      ],
      "source": [
        "preds_df = pred_df.select('category','prediction.result').toPandas()\n",
        "preds_df['result'] = preds_df.result.apply(lambda x : x[0])\n",
        "\n",
        "print (classification_report(preds_df['category'], preds_df['result']))"
      ]
    },
    {
      "cell_type": "markdown",
      "metadata": {
        "id": "hF378LqHvDRK"
      },
      "source": [
        "## 200 Dimension Healthcare Embeddings (embeddings_clinical)\n",
        "\n"
      ]
    },
    {
      "cell_type": "markdown",
      "metadata": {
        "id": "hEppd4Q3vDRK"
      },
      "source": [
        "Now we will extract [embeddings_clinical](https://nlp.johnsnowlabs.com/2020/01/28/embeddings_clinical_en.html) embeddings which has 200 dimension output and use this embeddings in the model training."
      ]
    },
    {
      "cell_type": "code",
      "execution_count": 59,
      "metadata": {
        "colab": {
          "base_uri": "https://localhost:8080/"
        },
        "id": "Dv95E2vNvDRK",
        "outputId": "568328fc-ef80-4d30-9782-db78ca126e76"
      },
      "outputs": [
        {
          "output_type": "stream",
          "name": "stdout",
          "text": [
            "embeddings_clinical download started this may take some time.\n",
            "Approximate size to download 1.6 GB\n",
            "[OK!]\n"
          ]
        }
      ],
      "source": [
        "document_assembler = DocumentAssembler()\\\n",
        "        .setInputCol(\"text\")\\\n",
        "        .setOutputCol(\"document\")\n",
        "\n",
        "tokenizer = Tokenizer() \\\n",
        "            .setInputCols([\"document\"]) \\\n",
        "            .setOutputCol(\"token\")\n",
        "\n",
        "word_embeddings = WordEmbeddingsModel.pretrained(\"embeddings_clinical\",\"en\",\"clinical/models\")\\\n",
        "        .setInputCols([\"document\",\"token\"])\\\n",
        "        .setOutputCol(\"word_embeddings\")\n",
        "\n",
        "sentence_embeddings = SentenceEmbeddings() \\\n",
        "        .setInputCols([\"document\", \"word_embeddings\"]) \\\n",
        "        .setOutputCol(\"sentence_embeddings\") \\\n",
        "        .setPoolingStrategy(\"AVERAGE\")\n",
        "\n",
        "embeddings_pipeline = Pipeline(\n",
        "    stages = [\n",
        "        document_assembler,\n",
        "        tokenizer,\n",
        "        word_embeddings,\n",
        "        sentence_embeddings,\n",
        "    ])"
      ]
    },
    {
      "cell_type": "code",
      "execution_count": 60,
      "metadata": {
        "colab": {
          "base_uri": "https://localhost:8080/"
        },
        "id": "uj2dbrthvDRK",
        "outputId": "0f87f050-0e50-4da9-e1d5-a21708c9d0b7"
      },
      "outputs": [
        {
          "output_type": "stream",
          "name": "stdout",
          "text": [
            "+--------------------------------------------------------------------------------+--------+--------------------------------------------------------------------------------+\n",
            "|                                                                            text|category|                                                             sentence_embeddings|\n",
            "+--------------------------------------------------------------------------------+--------+--------------------------------------------------------------------------------+\n",
            "| \"Syndrome malin\"-like symptoms probably due to interaction between neurolept...|     neg|[{sentence_embeddings, 0, 109,  \"Syndrome malin\"-like symptoms probably due t...|\n",
            "| 'Bail-out' bivalirudin use in patients with thrombotic complications unrespo...|     neg|[{sentence_embeddings, 0, 150,  'Bail-out' bivalirudin use in patients with t...|\n",
            "+--------------------------------------------------------------------------------+--------+--------------------------------------------------------------------------------+\n",
            "only showing top 2 rows\n",
            "\n"
          ]
        }
      ],
      "source": [
        "trainingData_with_embeddings = embeddings_pipeline.fit(trainingData).transform(trainingData)\\\n",
        "                                                  .select(\"text\",\"category\",\"sentence_embeddings\")\n",
        "trainingData_with_embeddings.show(2,truncate=80)"
      ]
    },
    {
      "cell_type": "code",
      "execution_count": 61,
      "metadata": {
        "colab": {
          "base_uri": "https://localhost:8080/"
        },
        "id": "jPZSMm5pvDRK",
        "outputId": "944af462-15ff-42eb-8643-3cf24da997bf"
      },
      "outputs": [
        {
          "output_type": "stream",
          "name": "stdout",
          "text": [
            "+--------------------------------------------------------------------------------+--------+--------------------------------------------------------------------------------+\n",
            "|                                                                            text|category|                                                             sentence_embeddings|\n",
            "+--------------------------------------------------------------------------------+--------+--------------------------------------------------------------------------------+\n",
            "| 1 previously untreated patient with plasma-cell leukaemia and 8 patients wit...|     neg|[{sentence_embeddings, 0, 166,  1 previously untreated patient with plasma-ce...|\n",
            "| A 15-year-old boy had temporary hypertropia, supraduction deficit, ipsilater...|     neg|[{sentence_embeddings, 0, 262,  A 15-year-old boy had temporary hypertropia, ...|\n",
            "+--------------------------------------------------------------------------------+--------+--------------------------------------------------------------------------------+\n",
            "only showing top 2 rows\n",
            "\n"
          ]
        }
      ],
      "source": [
        "testData_with_embeddings = embeddings_pipeline.fit(testData).transform(testData)\\\n",
        "                                                  .select(\"text\",\"category\",\"sentence_embeddings\")\n",
        "testData_with_embeddings.show(2,truncate=80)"
      ]
    },
    {
      "cell_type": "code",
      "execution_count": 62,
      "metadata": {
        "id": "qrF7eDHBdmBp"
      },
      "outputs": [],
      "source": [
        "log_folder=\"ADE_logs_healthcare_200d\""
      ]
    },
    {
      "cell_type": "markdown",
      "metadata": {
        "id": "coHHa_CRvDRL"
      },
      "source": [
        "### ClassifierDLApproach"
      ]
    },
    {
      "cell_type": "code",
      "execution_count": 63,
      "metadata": {
        "id": "thQ0sg91vDRL"
      },
      "outputs": [],
      "source": [
        "classifier_dl = ClassifierDLApproach()\\\n",
        "        .setInputCols([\"sentence_embeddings\"])\\\n",
        "        .setOutputCol(\"class\")\\\n",
        "        .setLabelColumn(\"category\")\\\n",
        "        .setBatchSize(16)\\\n",
        "        .setMaxEpochs(30)\\\n",
        "        .setLr(0.001)\\\n",
        "        .setDropout(0.3)\\\n",
        "        .setEnableOutputLogs(True)\\\n",
        "        .setOutputLogsPath(log_folder)\n",
        "\n",
        "classifier_dl_pipeline = Pipeline(\n",
        "    stages = [\n",
        "        classifier_dl\n",
        "    ])"
      ]
    },
    {
      "cell_type": "code",
      "execution_count": 64,
      "metadata": {
        "id": "VdWaWXcbvDRL"
      },
      "outputs": [],
      "source": [
        "clfDL_model_hc200 = classifier_dl_pipeline.fit(trainingData_with_embeddings)"
      ]
    },
    {
      "cell_type": "code",
      "execution_count": 65,
      "metadata": {
        "colab": {
          "base_uri": "https://localhost:8080/"
        },
        "id": "1W67GqjCvDRL",
        "outputId": "670ed296-2c3c-4863-b3ed-23d6a71013e7"
      },
      "outputs": [
        {
          "output_type": "stream",
          "name": "stdout",
          "text": [
            "              precision    recall  f1-score   support\n",
            "\n",
            "         neg       0.86      0.92      0.88       982\n",
            "         pos       0.78      0.66      0.71       445\n",
            "\n",
            "    accuracy                           0.84      1427\n",
            "   macro avg       0.82      0.79      0.80      1427\n",
            "weighted avg       0.83      0.84      0.83      1427\n",
            "\n"
          ]
        }
      ],
      "source": [
        "preds = clfDL_model_hc200.transform(testData_with_embeddings)\n",
        "\n",
        "preds_df = preds.select(\"category\",\"text\",\"class.result\").toPandas()\n",
        "preds_df[\"result\"] = preds_df[\"result\"].apply(lambda x : x[0])\n",
        "\n",
        "print (classification_report(preds_df[\"category\"], preds_df[\"result\"]))"
      ]
    },
    {
      "cell_type": "markdown",
      "metadata": {
        "id": "Vz6ja6oP90It"
      },
      "source": [
        "### MultiClassifierDL"
      ]
    },
    {
      "cell_type": "code",
      "execution_count": 66,
      "metadata": {
        "id": "u7AzomVo90Iu"
      },
      "outputs": [],
      "source": [
        "# MultiClassifierDL accepts list of strings as input label. So we convert label column to array type.\n",
        "trainingData_with_embeddings = trainingData_with_embeddings.withColumn(\"category_array\", F.array(F.col(\"category\")))\n",
        "testData_with_embeddings = testData_with_embeddings.withColumn(\"category_array\", F.array(F.col(\"category\")))"
      ]
    },
    {
      "cell_type": "code",
      "execution_count": 67,
      "metadata": {
        "id": "O25HWJXx90Iu"
      },
      "outputs": [],
      "source": [
        "multiClassifier = MultiClassifierDLApproach()\\\n",
        "  .setInputCols(\"sentence_embeddings\")\\\n",
        "  .setOutputCol(\"prediction\")\\\n",
        "  .setLabelColumn(\"category_array\")\\\n",
        "  .setBatchSize(32)\\\n",
        "  .setMaxEpochs(20)\\\n",
        "  .setLr(9e-3)\\\n",
        "  .setThreshold(0.5)\\\n",
        "  .setShufflePerEpoch(False)\\\n",
        "  .setEnableOutputLogs(True)\\\n",
        "  .setOutputLogsPath(log_folder)\\\n",
        "#   .setValidationSplit(0.1)\n",
        "\n",
        "multiClassifier_pipeline = Pipeline(\n",
        "    stages = [\n",
        "        multiClassifier\n",
        "    ])"
      ]
    },
    {
      "cell_type": "code",
      "execution_count": 68,
      "metadata": {
        "id": "AfwUG4E890Iu"
      },
      "outputs": [],
      "source": [
        "multiClassifier_model_hc200 = multiClassifier_pipeline.fit(trainingData_with_embeddings)"
      ]
    },
    {
      "cell_type": "code",
      "execution_count": 69,
      "metadata": {
        "id": "dqWL8GcD90Iu"
      },
      "outputs": [],
      "source": [
        "preds = multiClassifier_model_hc200.transform(testData_with_embeddings)"
      ]
    },
    {
      "cell_type": "code",
      "execution_count": 70,
      "metadata": {
        "colab": {
          "base_uri": "https://localhost:8080/"
        },
        "id": "leP1l4bN90Iu",
        "outputId": "f9d437a6-1e25-4830-f21a-419e4be75029"
      },
      "outputs": [
        {
          "output_type": "execute_result",
          "data": {
            "text/plain": [
              "['neg']    957\n",
              "['pos']    470\n",
              "Name: result, dtype: int64"
            ]
          },
          "metadata": {},
          "execution_count": 70
        }
      ],
      "source": [
        "preds_df = preds.select(\"category\",\"text\",\"prediction.result\",\"prediction.metadata\").toPandas()\n",
        "preds_df.result.apply(lambda x: str(x) ).value_counts()"
      ]
    },
    {
      "cell_type": "code",
      "execution_count": 71,
      "metadata": {
        "colab": {
          "base_uri": "https://localhost:8080/"
        },
        "id": "puS1FgQ-90Iv",
        "outputId": "74447c4f-4cff-44d8-fb71-ec2327c7052d"
      },
      "outputs": [
        {
          "output_type": "execute_result",
          "data": {
            "text/plain": [
              "neg    957\n",
              "pos    470\n",
              "Name: result, dtype: int64"
            ]
          },
          "metadata": {},
          "execution_count": 71
        }
      ],
      "source": [
        "# We will get the highest score label as result. You can control the number of zero label results with setThreshold() in the training.\n",
        "preds_df[\"scores\"] = preds_df.metadata.apply(lambda x: {k:float(v) for k,v in x[0].items()} if len(x)>=1 else \"\")\n",
        "preds_df[\"result\"] = preds_df.scores.apply(lambda x: max(x, key=x.get) if len(x)>=1 else \"\")\n",
        "preds_df[\"result\"].value_counts()"
      ]
    },
    {
      "cell_type": "code",
      "execution_count": 72,
      "metadata": {
        "colab": {
          "base_uri": "https://localhost:8080/"
        },
        "id": "8F9FcFBN90Iv",
        "outputId": "f2fec1a7-cfdf-4f8d-f5c7-31bd66a7939b"
      },
      "outputs": [
        {
          "output_type": "stream",
          "name": "stdout",
          "text": [
            "              precision    recall  f1-score   support\n",
            "\n",
            "         neg       0.91      0.89      0.90       982\n",
            "         pos       0.76      0.80      0.78       445\n",
            "\n",
            "    accuracy                           0.86      1427\n",
            "   macro avg       0.84      0.85      0.84      1427\n",
            "weighted avg       0.86      0.86      0.86      1427\n",
            "\n"
          ]
        }
      ],
      "source": [
        "print (classification_report(preds_df[\"category\"], preds_df[\"result\"]))"
      ]
    },
    {
      "cell_type": "markdown",
      "metadata": {
        "id": "lwu69bczvDRL"
      },
      "source": [
        "### Generic Classifier"
      ]
    },
    {
      "cell_type": "code",
      "execution_count": 73,
      "metadata": {
        "id": "5j2f-YZdiNdK"
      },
      "outputs": [],
      "source": [
        "# !pip install -q tensorflow==2.7.0 tensorflow_addons"
      ]
    },
    {
      "cell_type": "code",
      "execution_count": 74,
      "metadata": {
        "id": "YTuqFVXKvDRL"
      },
      "outputs": [],
      "source": [
        "from sparknlp_jsl.annotator import TFGraphBuilder\n",
        "\n",
        "graph_folder = \"gc_graph\"\n",
        "\n",
        "gc_graph_builder = TFGraphBuilder()\\\n",
        "    .setModelName(\"generic_classifier\")\\\n",
        "    .setInputCols([\"features\"])\\\n",
        "    .setLabelColumn(\"category\")\\\n",
        "    .setHiddenLayers([300,200, 50])\\\n",
        "    .setHiddenAct(\"tanh\")\\\n",
        "    .setHiddenActL2(True)\\\n",
        "    .setBatchNorm(True)\\\n",
        "    .setGraphFolder(graph_folder)\\\n",
        "    .setGraphFile(\"gcf_graph_200d.pb\")"
      ]
    },
    {
      "cell_type": "code",
      "execution_count": 75,
      "metadata": {
        "id": "Acx95To9vDRL"
      },
      "outputs": [],
      "source": [
        "features_asm = FeaturesAssembler()\\\n",
        "    .setInputCols([\"sentence_embeddings\"])\\\n",
        "    .setOutputCol(\"features\")\n",
        "      \n",
        "gen_clf = GenericClassifierApproach()\\\n",
        "    .setLabelColumn(\"category\")\\\n",
        "    .setInputCols(\"features\")\\\n",
        "    .setOutputCol(\"prediction\")\\\n",
        "    .setModelFile(f\"{graph_folder}/gcf_graph_200d.pb\")\\\n",
        "    .setEpochsNumber(40)\\\n",
        "    .setBatchSize(16)\\\n",
        "    .setLearningRate(0.001)\\\n",
        "    .setOutputLogsPath(log_folder)\\\n",
        "    .setDropout(0.5)\\\n",
        "    .setFixImbalance(True)\\\n",
        "    # .setValidationSplit(0.1)\n",
        "\n",
        "clf_Pipeline = Pipeline(stages=[\n",
        "    features_asm,\n",
        "    gc_graph_builder,\n",
        "    gen_clf])\n"
      ]
    },
    {
      "cell_type": "code",
      "execution_count": 76,
      "metadata": {
        "colab": {
          "base_uri": "https://localhost:8080/"
        },
        "id": "07qsryq3vDRL",
        "outputId": "58b7f870-1fa8-4651-e92a-a4e2e229c260"
      },
      "outputs": [
        {
          "output_type": "stream",
          "name": "stdout",
          "text": [
            "TF Graph Builder configuration:\n",
            "Model name: generic_classifier\n",
            "Graph folder: gc_graph\n",
            "Graph file name: gcf_graph_200d.pb\n",
            "Build params: {'input_dim': 200, 'output_dim': 2, 'hidden_layers': [300, 200, 50], 'hidden_act': 'tanh', 'hidden_act_l2': True, 'batch_norm': True}\n",
            "generic_classifier graph exported to gc_graph/gcf_graph_200d.pb\n"
          ]
        }
      ],
      "source": [
        "generic_model_hc200 = clf_Pipeline.fit(trainingData_with_embeddings)"
      ]
    },
    {
      "cell_type": "code",
      "execution_count": 77,
      "metadata": {
        "colab": {
          "base_uri": "https://localhost:8080/"
        },
        "id": "WahobkK8vDRL",
        "outputId": "7f84d833-339a-4914-b1ff-b94ca73ba755"
      },
      "outputs": [
        {
          "output_type": "stream",
          "name": "stdout",
          "text": [
            "              precision    recall  f1-score   support\n",
            "\n",
            "         neg       0.91      0.84      0.87       982\n",
            "         pos       0.70      0.82      0.75       445\n",
            "\n",
            "    accuracy                           0.83      1427\n",
            "   macro avg       0.80      0.83      0.81      1427\n",
            "weighted avg       0.85      0.83      0.84      1427\n",
            "\n"
          ]
        }
      ],
      "source": [
        "pred_df = generic_model_hc200.transform(testData_with_embeddings)\n",
        "\n",
        "preds_df = pred_df.select('category','prediction.result').toPandas()\n",
        "preds_df['result'] = preds_df.result.apply(lambda x : x[0])\n",
        "\n",
        "print (classification_report(preds_df['category'], preds_df['result']))"
      ]
    },
    {
      "cell_type": "markdown",
      "metadata": {
        "id": "MqvORol0XIG-"
      },
      "source": [
        "### GenericLogRegClassifier"
      ]
    },
    {
      "cell_type": "code",
      "execution_count": 78,
      "metadata": {
        "id": "S7Ms5F5hXIG_"
      },
      "outputs": [],
      "source": [
        "from sparknlp_jsl.annotator import TFGraphBuilder\n",
        "\n",
        "graph_folder = \"gc_graph\"\n",
        "\n",
        "gc_logreg_graph_builder = TFGraphBuilder()\\\n",
        "    .setModelName(\"logreg_classifier\")\\\n",
        "    .setInputCols([\"feature_vector\"]) \\\n",
        "    .setLabelColumn(\"category\")\\\n",
        "    .setGraphFolder(graph_folder)\\\n",
        "    .setGraphFile(\"log_reg_graph.pb\")"
      ]
    },
    {
      "cell_type": "markdown",
      "metadata": {
        "id": "xUGr1BJJXIG_"
      },
      "source": [
        "GenericLogRegClassifier needs outputs from FeaturesAssembler. The FeaturesAssembler is used to collect features from different columns or an embeddings column.\n",
        "\n",
        "The GenericLogRegClassifier takes FEATURE_VECTOR annotations as input, classifies them and outputs CATEGORY annotations."
      ]
    },
    {
      "cell_type": "code",
      "execution_count": 79,
      "metadata": {
        "id": "yuItEMF0XIG_"
      },
      "outputs": [],
      "source": [
        "features_asm = FeaturesAssembler()\\\n",
        "    .setInputCols([\"sentence_embeddings\"])\\\n",
        "    .setOutputCol(\"feature_vector\")\n",
        "      \n",
        "gen_clf = GenericLogRegClassifierApproach()\\\n",
        "    .setLabelColumn(\"category\")\\\n",
        "    .setInputCols(\"feature_vector\")\\\n",
        "    .setOutputCol(\"prediction\")\\\n",
        "    .setModelFile(f\"{graph_folder}/log_reg_graph.pb\")\\\n",
        "    .setEpochsNumber(25)\\\n",
        "    .setBatchSize(128)\\\n",
        "    .setLearningRate(0.004)\\\n",
        "    .setOutputLogsPath(log_folder)\\\n",
        "    .setDropout(0.2)\\\n",
        "    .setFixImbalance(True)\\\n",
        "    # .setValidationSplit(0.1)\n",
        "\n",
        "clf_Pipeline = Pipeline(stages=[\n",
        "    features_asm,\n",
        "    gc_logreg_graph_builder,\n",
        "    gen_clf])\n"
      ]
    },
    {
      "cell_type": "code",
      "execution_count": 80,
      "metadata": {
        "colab": {
          "base_uri": "https://localhost:8080/"
        },
        "outputId": "e8b98a76-122f-446d-a02b-0d91a8a86c3b",
        "id": "MWTfnlebXIG_"
      },
      "outputs": [
        {
          "output_type": "stream",
          "name": "stdout",
          "text": [
            "TF Graph Builder configuration:\n",
            "Model name: logreg_classifier\n",
            "Graph folder: gc_graph\n",
            "Graph file name: log_reg_graph.pb\n",
            "Build params: {'input_dim': 200, 'output_dim': 2, 'hidden_layers': [], 'output_act': 'sigmoid'}\n",
            "logreg_classifier graph exported to gc_graph/log_reg_graph.pb\n"
          ]
        }
      ],
      "source": [
        "generic_model_hc100 = clf_Pipeline.fit(trainingData_with_embeddings)"
      ]
    },
    {
      "cell_type": "code",
      "execution_count": 81,
      "metadata": {
        "colab": {
          "base_uri": "https://localhost:8080/"
        },
        "outputId": "629d9fd6-ff74-4be8-85b2-8b0dbc6b89a0",
        "id": "hwGdESTdXIG_"
      },
      "outputs": [
        {
          "output_type": "stream",
          "name": "stdout",
          "text": [
            "Training 25 epochs\n",
            "Epoch 1/25\t0.16s\tLoss: 26.194351\tACC: 0.71147674\n",
            "Epoch 2/25\t0.06s\tLoss: 24.627851\tACC: 0.7151265\n",
            "Epoch 3/25\t0.06s\tLoss: 23.502913\tACC: 0.72266936\n",
            "Epoch 4/25\t0.06s\tLoss: 22.843657\tACC: 0.7355785\n",
            "Epoch 5/25\t0.06s\tLoss: 22.465397\tACC: 0.7412274\n",
            "Epoch 6/25\t0.06s\tLoss: 21.985895\tACC: 0.7518348\n",
            "Epoch 7/25\t0.06s\tLoss: 21.585283\tACC: 0.7614623\n",
            "Epoch 8/25\t0.06s\tLoss: 21.273968\tACC: 0.7592001\n",
            "Epoch 9/25\t0.06s\tLoss: 21.320953\tACC: 0.75552404\n",
            "Epoch 10/25\t0.07s\tLoss: 21.042255\tACC: 0.7669666\n",
            "Epoch 11/25\t0.06s\tLoss: 20.610676\tACC: 0.7710898\n",
            "Epoch 12/25\t0.06s\tLoss: 20.555138\tACC: 0.7742398\n",
            "Epoch 13/25\t0.06s\tLoss: 20.530922\tACC: 0.7706492\n",
            "Epoch 14/25\t0.06s\tLoss: 20.464844\tACC: 0.77087283\n",
            "Epoch 15/25\t0.06s\tLoss: 20.532772\tACC: 0.77602196\n",
            "Epoch 16/25\t0.06s\tLoss: 20.306566\tACC: 0.7724774\n",
            "Epoch 17/25\t0.06s\tLoss: 20.187925\tACC: 0.78178924\n",
            "Epoch 18/25\t0.06s\tLoss: 20.065956\tACC: 0.7819668\n",
            "Epoch 19/25\t0.06s\tLoss: 20.0021\tACC: 0.7767322\n",
            "Epoch 20/25\t0.06s\tLoss: 19.97224\tACC: 0.7769558\n",
            "Epoch 21/25\t0.06s\tLoss: 19.862238\tACC: 0.77921796\n",
            "Epoch 22/25\t0.06s\tLoss: 20.023678\tACC: 0.7770939\n",
            "Epoch 23/25\t0.06s\tLoss: 19.89141\tACC: 0.7800203\n",
            "Epoch 24/25\t0.06s\tLoss: 19.733332\tACC: 0.7813947\n",
            "Epoch 25/25\t0.06s\tLoss: 19.814083\tACC: 0.78121716\n",
            "Training completed.\n"
          ]
        }
      ],
      "source": [
        "!cat $log_folder/GenericLogRegClassifierApproach*"
      ]
    },
    {
      "cell_type": "code",
      "execution_count": 82,
      "metadata": {
        "id": "ORF9ZLKgXIG_"
      },
      "outputs": [],
      "source": [
        "pred_df = generic_model_hc100.transform(testData_with_embeddings)"
      ]
    },
    {
      "cell_type": "code",
      "execution_count": 83,
      "metadata": {
        "colab": {
          "base_uri": "https://localhost:8080/"
        },
        "outputId": "36515c5a-db4e-4fdf-d569-624d7463721c",
        "id": "gYmzm70NXIG_"
      },
      "outputs": [
        {
          "output_type": "stream",
          "name": "stdout",
          "text": [
            "root\n",
            " |-- text: string (nullable = true)\n",
            " |-- category: string (nullable = true)\n",
            " |-- sentence_embeddings: array (nullable = true)\n",
            " |    |-- element: struct (containsNull = true)\n",
            " |    |    |-- annotatorType: string (nullable = true)\n",
            " |    |    |-- begin: integer (nullable = false)\n",
            " |    |    |-- end: integer (nullable = false)\n",
            " |    |    |-- result: string (nullable = true)\n",
            " |    |    |-- metadata: map (nullable = true)\n",
            " |    |    |    |-- key: string\n",
            " |    |    |    |-- value: string (valueContainsNull = true)\n",
            " |    |    |-- embeddings: array (nullable = true)\n",
            " |    |    |    |-- element: float (containsNull = false)\n",
            " |-- category_array: array (nullable = false)\n",
            " |    |-- element: string (containsNull = true)\n",
            " |-- prediction: array (nullable = true)\n",
            " |    |-- element: struct (containsNull = true)\n",
            " |    |    |-- annotatorType: string (nullable = true)\n",
            " |    |    |-- begin: integer (nullable = false)\n",
            " |    |    |-- end: integer (nullable = false)\n",
            " |    |    |-- result: string (nullable = true)\n",
            " |    |    |-- metadata: map (nullable = true)\n",
            " |    |    |    |-- key: string\n",
            " |    |    |    |-- value: string (valueContainsNull = true)\n",
            " |    |    |-- embeddings: array (nullable = true)\n",
            " |    |    |    |-- element: float (containsNull = false)\n",
            "\n",
            "+-------------------------------------------------------------------------------------+\n",
            "|prediction                                                                           |\n",
            "+-------------------------------------------------------------------------------------+\n",
            "|[{category, 0, 166, neg, {sentence -> 0, neg -> 0.9999746, pos -> 2.4515526E-5}, []}]|\n",
            "|[{category, 0, 262, neg, {sentence -> 0, neg -> 0.9998765, pos -> 1.2396692E-4}, []}]|\n",
            "|[{category, 0, 172, neg, {sentence -> 0, neg -> 0.9890604, pos -> 0.010812225}, []}] |\n",
            "|[{category, 0, 93, neg, {sentence -> 0, neg -> 0.9987758, pos -> 0.0012221327}, []}] |\n",
            "|[{category, 0, 136, neg, {sentence -> 0, neg -> 0.9951939, pos -> 0.004850537}, []}] |\n",
            "+-------------------------------------------------------------------------------------+\n",
            "only showing top 5 rows\n",
            "\n",
            "+--------+-----------------+\n",
            "|category|prediction.result|\n",
            "+--------+-----------------+\n",
            "|neg     |[neg]            |\n",
            "|neg     |[neg]            |\n",
            "|neg     |[neg]            |\n",
            "|neg     |[neg]            |\n",
            "|neg     |[neg]            |\n",
            "+--------+-----------------+\n",
            "only showing top 5 rows\n",
            "\n"
          ]
        }
      ],
      "source": [
        "preds.printSchema()\n",
        "preds.select(preds.prediction).show(5, truncate=False)\n",
        "preds.select(preds.category, preds.prediction.result).show(5, truncate=False)"
      ]
    },
    {
      "cell_type": "code",
      "execution_count": 84,
      "metadata": {
        "colab": {
          "base_uri": "https://localhost:8080/"
        },
        "outputId": "88cbcae8-f73b-4431-a72e-cf96cc11a70b",
        "id": "d1By23e1XIHA"
      },
      "outputs": [
        {
          "output_type": "stream",
          "name": "stdout",
          "text": [
            "              precision    recall  f1-score   support\n",
            "\n",
            "         neg       0.79      0.93      0.85       982\n",
            "         pos       0.74      0.47      0.57       445\n",
            "\n",
            "    accuracy                           0.78      1427\n",
            "   macro avg       0.77      0.70      0.71      1427\n",
            "weighted avg       0.78      0.78      0.77      1427\n",
            "\n"
          ]
        }
      ],
      "source": [
        "preds_df = pred_df.select('category','prediction.result').toPandas()\n",
        "preds_df['result'] = preds_df.result.apply(lambda x : x[0])\n",
        "\n",
        "print (classification_report(preds_df['category'], preds_df['result']))"
      ]
    },
    {
      "cell_type": "markdown",
      "metadata": {
        "id": "A4fphEjMXV7W"
      },
      "source": [
        "### GenericSVMClassifier"
      ]
    },
    {
      "cell_type": "code",
      "execution_count": 85,
      "metadata": {
        "id": "WWViS8s6XV7X"
      },
      "outputs": [],
      "source": [
        "from sparknlp_jsl.annotator import TFGraphBuilder\n",
        "\n",
        "graph_folder = \"gc_graph\"\n",
        "\n",
        "gc_svm_graph_builder = TFGraphBuilder()\\\n",
        "    .setModelName(\"svm_classifier\")\\\n",
        "    .setInputCols([\"feature_vector\"]) \\\n",
        "    .setLabelColumn(\"category\")\\\n",
        "    .setGraphFolder(graph_folder)\\\n",
        "    .setGraphFile(\"svm_graph.pb\")"
      ]
    },
    {
      "cell_type": "markdown",
      "metadata": {
        "id": "JcM7VyV7XV7X"
      },
      "source": [
        "GenericSVMClassifier needs outputs from FeaturesAssembler. The FeaturesAssembler is used to collect features from different columns or an embeddings column.\n",
        "\n",
        "The GenericSVMClassifier takes FEATURE_VECTOR annotations as input, classifies them and outputs CATEGORY annotations."
      ]
    },
    {
      "cell_type": "code",
      "execution_count": 86,
      "metadata": {
        "id": "px8t14s8XV7X"
      },
      "outputs": [],
      "source": [
        "features_asm = FeaturesAssembler()\\\n",
        "    .setInputCols([\"sentence_embeddings\"])\\\n",
        "    .setOutputCol(\"feature_vector\")\n",
        "      \n",
        "gen_clf = GenericSVMClassifierApproach()\\\n",
        "    .setLabelColumn(\"category\")\\\n",
        "    .setInputCols(\"feature_vector\")\\\n",
        "    .setOutputCol(\"prediction\")\\\n",
        "    .setModelFile(f\"{graph_folder}/svm_graph.pb\")\\\n",
        "    .setEpochsNumber(25)\\\n",
        "    .setBatchSize(128)\\\n",
        "    .setLearningRate(0.004)\\\n",
        "    .setOutputLogsPath(log_folder)\\\n",
        "    .setDropout(0.2)\\\n",
        "    .setFixImbalance(True)\\\n",
        "    # .setValidationSplit(0.1)\n",
        "\n",
        "clf_Pipeline = Pipeline(stages=[\n",
        "    features_asm,\n",
        "    gc_svm_graph_builder,\n",
        "    gen_clf])\n"
      ]
    },
    {
      "cell_type": "code",
      "execution_count": 87,
      "metadata": {
        "colab": {
          "base_uri": "https://localhost:8080/"
        },
        "outputId": "3b7920f9-eb90-4666-9045-5d2668c7829a",
        "id": "QHi6KIMSXV7X"
      },
      "outputs": [
        {
          "output_type": "stream",
          "name": "stdout",
          "text": [
            "TF Graph Builder configuration:\n",
            "Model name: svm_classifier\n",
            "Graph folder: gc_graph\n",
            "Graph file name: svm_graph.pb\n",
            "Build params: {'input_dim': 200, 'output_dim': 2, 'hidden_layers': [], 'output_act': 'sigmoid', 'loss_func': 'hinge'}\n",
            "svm_classifier graph exported to gc_graph/svm_graph.pb\n"
          ]
        }
      ],
      "source": [
        "generic_model_hc100 = clf_Pipeline.fit(trainingData_with_embeddings)"
      ]
    },
    {
      "cell_type": "code",
      "execution_count": 88,
      "metadata": {
        "colab": {
          "base_uri": "https://localhost:8080/"
        },
        "outputId": "936dce99-937b-4cb5-9878-194b1fa430b1",
        "id": "4sh8kNQqXV7X"
      },
      "outputs": [
        {
          "output_type": "stream",
          "name": "stdout",
          "text": [
            "Training 25 epochs\n",
            "Epoch 1/25\t0.17s\tLoss: 28.306355\tACC: 0.7144557\n",
            "Epoch 2/25\t0.07s\tLoss: 25.269861\tACC: 0.71427816\n",
            "Epoch 3/25\t0.07s\tLoss: 24.440134\tACC: 0.7192958\n",
            "Epoch 4/25\t0.07s\tLoss: 24.030323\tACC: 0.7255103\n",
            "Epoch 5/25\t0.07s\tLoss: 23.41503\tACC: 0.7396162\n",
            "Epoch 6/25\t0.07s\tLoss: 23.088697\tACC: 0.748448\n",
            "Epoch 7/25\t0.07s\tLoss: 22.912378\tACC: 0.75777304\n",
            "Epoch 8/25\t0.07s\tLoss: 22.926525\tACC: 0.7664799\n",
            "Epoch 9/25\t0.07s\tLoss: 22.586903\tACC: 0.76550007\n",
            "Epoch 10/25\t0.07s\tLoss: 22.333496\tACC: 0.77349013\n",
            "Epoch 11/25\t0.07s\tLoss: 22.273605\tACC: 0.7722078\n",
            "Epoch 12/25\t0.07s\tLoss: 22.246626\tACC: 0.7789549\n",
            "Epoch 13/25\t0.07s\tLoss: 22.369463\tACC: 0.78042144\n",
            "Epoch 14/25\t0.07s\tLoss: 22.106396\tACC: 0.77624553\n",
            "Epoch 15/25\t0.07s\tLoss: 21.948631\tACC: 0.7797112\n",
            "Epoch 16/25\t0.07s\tLoss: 21.644228\tACC: 0.7833412\n",
            "Epoch 17/25\t0.07s\tLoss: 21.963099\tACC: 0.7784223\n",
            "Epoch 18/25\t0.07s\tLoss: 21.934553\tACC: 0.7815262\n",
            "Epoch 19/25\t0.07s\tLoss: 21.287962\tACC: 0.790312\n",
            "Epoch 20/25\t0.07s\tLoss: 21.574465\tACC: 0.78529435\n",
            "Epoch 21/25\t0.07s\tLoss: 21.771885\tACC: 0.78378844\n",
            "Epoch 22/25\t0.07s\tLoss: 21.38065\tACC: 0.79053557\n",
            "Epoch 23/25\t0.07s\tLoss: 21.555613\tACC: 0.7861887\n",
            "Epoch 24/25\t0.08s\tLoss: 21.501461\tACC: 0.7898714\n",
            "Epoch 25/25\t0.07s\tLoss: 21.48048\tACC: 0.7892927\n",
            "Training completed.\n"
          ]
        }
      ],
      "source": [
        "!cat $log_folder/GenericSVMClassifierApproach*"
      ]
    },
    {
      "cell_type": "code",
      "execution_count": 89,
      "metadata": {
        "id": "JFhqwwIAXV7X"
      },
      "outputs": [],
      "source": [
        "pred_df = generic_model_hc100.transform(testData_with_embeddings)"
      ]
    },
    {
      "cell_type": "code",
      "execution_count": 90,
      "metadata": {
        "colab": {
          "base_uri": "https://localhost:8080/"
        },
        "outputId": "b58819c0-8b8c-4b27-e605-b688b77de0b5",
        "id": "1bm1EakmXV7X"
      },
      "outputs": [
        {
          "output_type": "stream",
          "name": "stdout",
          "text": [
            "root\n",
            " |-- text: string (nullable = true)\n",
            " |-- category: string (nullable = true)\n",
            " |-- sentence_embeddings: array (nullable = true)\n",
            " |    |-- element: struct (containsNull = true)\n",
            " |    |    |-- annotatorType: string (nullable = true)\n",
            " |    |    |-- begin: integer (nullable = false)\n",
            " |    |    |-- end: integer (nullable = false)\n",
            " |    |    |-- result: string (nullable = true)\n",
            " |    |    |-- metadata: map (nullable = true)\n",
            " |    |    |    |-- key: string\n",
            " |    |    |    |-- value: string (valueContainsNull = true)\n",
            " |    |    |-- embeddings: array (nullable = true)\n",
            " |    |    |    |-- element: float (containsNull = false)\n",
            " |-- category_array: array (nullable = false)\n",
            " |    |-- element: string (containsNull = true)\n",
            " |-- prediction: array (nullable = true)\n",
            " |    |-- element: struct (containsNull = true)\n",
            " |    |    |-- annotatorType: string (nullable = true)\n",
            " |    |    |-- begin: integer (nullable = false)\n",
            " |    |    |-- end: integer (nullable = false)\n",
            " |    |    |-- result: string (nullable = true)\n",
            " |    |    |-- metadata: map (nullable = true)\n",
            " |    |    |    |-- key: string\n",
            " |    |    |    |-- value: string (valueContainsNull = true)\n",
            " |    |    |-- embeddings: array (nullable = true)\n",
            " |    |    |    |-- element: float (containsNull = false)\n",
            "\n",
            "+-------------------------------------------------------------------------------------+\n",
            "|prediction                                                                           |\n",
            "+-------------------------------------------------------------------------------------+\n",
            "|[{category, 0, 166, neg, {sentence -> 0, neg -> 0.9999746, pos -> 2.4515526E-5}, []}]|\n",
            "|[{category, 0, 262, neg, {sentence -> 0, neg -> 0.9998765, pos -> 1.2396692E-4}, []}]|\n",
            "|[{category, 0, 172, neg, {sentence -> 0, neg -> 0.9890604, pos -> 0.010812225}, []}] |\n",
            "|[{category, 0, 93, neg, {sentence -> 0, neg -> 0.9987758, pos -> 0.0012221327}, []}] |\n",
            "|[{category, 0, 136, neg, {sentence -> 0, neg -> 0.9951939, pos -> 0.004850537}, []}] |\n",
            "+-------------------------------------------------------------------------------------+\n",
            "only showing top 5 rows\n",
            "\n",
            "+--------+-----------------+\n",
            "|category|prediction.result|\n",
            "+--------+-----------------+\n",
            "|neg     |[neg]            |\n",
            "|neg     |[neg]            |\n",
            "|neg     |[neg]            |\n",
            "|neg     |[neg]            |\n",
            "|neg     |[neg]            |\n",
            "+--------+-----------------+\n",
            "only showing top 5 rows\n",
            "\n"
          ]
        }
      ],
      "source": [
        "preds.printSchema()\n",
        "preds.select(preds.prediction).show(5, truncate=False)\n",
        "preds.select(preds.category, preds.prediction.result).show(5, truncate=False)"
      ]
    },
    {
      "cell_type": "code",
      "execution_count": 91,
      "metadata": {
        "colab": {
          "base_uri": "https://localhost:8080/"
        },
        "outputId": "339ea02e-c726-4919-e78a-323849c111d3",
        "id": "8so1Xnn9XV7Y"
      },
      "outputs": [
        {
          "output_type": "stream",
          "name": "stdout",
          "text": [
            "              precision    recall  f1-score   support\n",
            "\n",
            "         neg       0.80      0.93      0.86       982\n",
            "         pos       0.75      0.50      0.60       445\n",
            "\n",
            "    accuracy                           0.79      1427\n",
            "   macro avg       0.78      0.71      0.73      1427\n",
            "weighted avg       0.79      0.79      0.78      1427\n",
            "\n"
          ]
        }
      ],
      "source": [
        "preds_df = pred_df.select('category','prediction.result').toPandas()\n",
        "preds_df['result'] = preds_df.result.apply(lambda x : x[0])\n",
        "\n",
        "print (classification_report(preds_df['category'], preds_df['result']))"
      ]
    },
    {
      "cell_type": "markdown",
      "metadata": {
        "id": "HToBQLkiOHDp"
      },
      "source": [
        "## Bert Sentence Embeddings (sbiobert_base_cased_mli)"
      ]
    },
    {
      "cell_type": "markdown",
      "metadata": {
        "id": "GBpfp09tTedK"
      },
      "source": [
        "Now we will extract [sbiobert_base_cased_mli](https://nlp.johnsnowlabs.com/2020/11/27/sbiobert_base_cased_mli_en.html) embeddings which has 768 dimension output and use this embeddings in the model training."
      ]
    },
    {
      "cell_type": "code",
      "execution_count": 92,
      "metadata": {
        "colab": {
          "base_uri": "https://localhost:8080/"
        },
        "id": "eCfAkAC7podJ",
        "outputId": "c4947cda-d9d4-4e34-8d37-be5d4383e47d"
      },
      "outputs": [
        {
          "output_type": "stream",
          "name": "stdout",
          "text": [
            "sbiobert_base_cased_mli download started this may take some time.\n",
            "Approximate size to download 384.3 MB\n",
            "[OK!]\n"
          ]
        }
      ],
      "source": [
        "document_assembler = DocumentAssembler()\\\n",
        "    .setInputCol(\"text\")\\\n",
        "    .setOutputCol(\"document\")\n",
        "        \n",
        "bert_sent = BertSentenceEmbeddings.pretrained(\"sbiobert_base_cased_mli\", 'en','clinical/models')\\\n",
        "    .setInputCols([\"document\"])\\\n",
        "    .setOutputCol(\"sentence_embeddings\")\n",
        "\n",
        "embeddings_pipeline = Pipeline(\n",
        "    stages = [document_assembler,\n",
        "              bert_sent])"
      ]
    },
    {
      "cell_type": "code",
      "execution_count": 93,
      "metadata": {
        "colab": {
          "base_uri": "https://localhost:8080/"
        },
        "id": "PbcLStVLpoaN",
        "outputId": "90dc6c21-e311-4430-9398-f8aba10737e2"
      },
      "outputs": [
        {
          "output_type": "stream",
          "name": "stdout",
          "text": [
            "+--------------------------------------------------------------------------------+--------+--------------------------------------------------------------------------------+\n",
            "|                                                                            text|category|                                                             sentence_embeddings|\n",
            "+--------------------------------------------------------------------------------+--------+--------------------------------------------------------------------------------+\n",
            "| \"Syndrome malin\"-like symptoms probably due to interaction between neurolept...|     neg|[{sentence_embeddings, 0, 109,  \"Syndrome malin\"-like symptoms probably due t...|\n",
            "| 'Bail-out' bivalirudin use in patients with thrombotic complications unrespo...|     neg|[{sentence_embeddings, 0, 150,  'Bail-out' bivalirudin use in patients with t...|\n",
            "+--------------------------------------------------------------------------------+--------+--------------------------------------------------------------------------------+\n",
            "only showing top 2 rows\n",
            "\n"
          ]
        }
      ],
      "source": [
        "trainingData_with_embeddings = embeddings_pipeline.fit(trainingData).transform(trainingData)\\\n",
        "                                                  .select(\"text\",\"category\",\"sentence_embeddings\")\n",
        "\n",
        "trainingData_with_embeddings.show(2,truncate=80)"
      ]
    },
    {
      "cell_type": "code",
      "execution_count": 94,
      "metadata": {
        "colab": {
          "base_uri": "https://localhost:8080/"
        },
        "id": "qoby-bTzpoYQ",
        "outputId": "7ad138f9-bc9d-4676-89db-edc37f142943"
      },
      "outputs": [
        {
          "output_type": "stream",
          "name": "stdout",
          "text": [
            "+--------------------------------------------------------------------------------+--------+--------------------------------------------------------------------------------+\n",
            "|                                                                            text|category|                                                             sentence_embeddings|\n",
            "+--------------------------------------------------------------------------------+--------+--------------------------------------------------------------------------------+\n",
            "| 1 previously untreated patient with plasma-cell leukaemia and 8 patients wit...|     neg|[{sentence_embeddings, 0, 166,  1 previously untreated patient with plasma-ce...|\n",
            "| A 15-year-old boy had temporary hypertropia, supraduction deficit, ipsilater...|     neg|[{sentence_embeddings, 0, 262,  A 15-year-old boy had temporary hypertropia, ...|\n",
            "+--------------------------------------------------------------------------------+--------+--------------------------------------------------------------------------------+\n",
            "only showing top 2 rows\n",
            "\n"
          ]
        }
      ],
      "source": [
        "testData_with_embeddings = embeddings_pipeline.fit(testData).transform(testData)\\\n",
        "                                                  .select(\"text\",\"category\",\"sentence_embeddings\")\n",
        "\n",
        "testData_with_embeddings.show(2,truncate=80)"
      ]
    },
    {
      "cell_type": "code",
      "execution_count": 95,
      "metadata": {
        "id": "_EetBOQUpoWQ"
      },
      "outputs": [],
      "source": [
        "log_folder=\"ADE_logs_bert\""
      ]
    },
    {
      "cell_type": "markdown",
      "metadata": {
        "id": "289YUVX7yGE1"
      },
      "source": [
        "### ClassifierDLApproach"
      ]
    },
    {
      "cell_type": "code",
      "execution_count": 96,
      "metadata": {
        "id": "ZzCU998wyGE2"
      },
      "outputs": [],
      "source": [
        "classifier_dl = ClassifierDLApproach()\\\n",
        "        .setInputCols([\"sentence_embeddings\"])\\\n",
        "        .setOutputCol(\"class\")\\\n",
        "        .setLabelColumn(\"category\")\\\n",
        "        .setBatchSize(8)\\\n",
        "        .setMaxEpochs(2)\\\n",
        "        .setLr(0.001)\\\n",
        "        .setDropout(0.3)\\\n",
        "        .setEnableOutputLogs(True)\\\n",
        "        .setOutputLogsPath(log_folder)\n",
        "\n",
        "classifier_dl_pipeline = Pipeline(stages=[classifier_dl])"
      ]
    },
    {
      "cell_type": "code",
      "execution_count": 97,
      "metadata": {
        "id": "AnpZcIyPyGE2"
      },
      "outputs": [],
      "source": [
        "clfDL_model_bert = classifier_dl_pipeline.fit(trainingData_with_embeddings)"
      ]
    },
    {
      "cell_type": "code",
      "execution_count": 98,
      "metadata": {
        "colab": {
          "base_uri": "https://localhost:8080/"
        },
        "id": "WTekTE0kyGE2",
        "outputId": "d5c7ec84-d050-4602-dfeb-68ea74f8cb31"
      },
      "outputs": [
        {
          "output_type": "stream",
          "name": "stdout",
          "text": [
            "              precision    recall  f1-score   support\n",
            "\n",
            "         neg       0.69      1.00      0.82       982\n",
            "         pos       0.00      0.00      0.00       445\n",
            "\n",
            "    accuracy                           0.69      1427\n",
            "   macro avg       0.34      0.50      0.41      1427\n",
            "weighted avg       0.47      0.69      0.56      1427\n",
            "\n"
          ]
        }
      ],
      "source": [
        "preds = clfDL_model_bert.transform(testData_with_embeddings)\n",
        "\n",
        "preds_df = preds.select(\"category\",\"text\",\"class.result\").toPandas()\n",
        "preds_df[\"result\"] = preds_df[\"result\"].apply(lambda x : x[0])\n",
        "\n",
        "print (classification_report(preds_df[\"category\"], preds_df[\"result\"]))"
      ]
    },
    {
      "cell_type": "markdown",
      "metadata": {
        "id": "rGyp2ylnT7qq"
      },
      "source": [
        "### MultiClassifierDL"
      ]
    },
    {
      "cell_type": "code",
      "execution_count": 99,
      "metadata": {
        "id": "rgc8eN32T7qq"
      },
      "outputs": [],
      "source": [
        "# MultiClassifierDL accepts list of strings as input label. So we convert label column to array type.\n",
        "trainingData_with_embeddings = trainingData_with_embeddings.withColumn(\"category_array\", F.array(F.col(\"category\")))\n",
        "testData_with_embeddings = testData_with_embeddings.withColumn(\"category_array\", F.array(F.col(\"category\")))"
      ]
    },
    {
      "cell_type": "code",
      "execution_count": 100,
      "metadata": {
        "id": "VNSQp8iyT7qr"
      },
      "outputs": [],
      "source": [
        "multiClassifier = MultiClassifierDLApproach()\\\n",
        "  .setInputCols(\"sentence_embeddings\")\\\n",
        "  .setOutputCol(\"prediction\")\\\n",
        "  .setLabelColumn(\"category_array\")\\\n",
        "  .setBatchSize(32)\\\n",
        "  .setMaxEpochs(20)\\\n",
        "  .setLr(9e-3)\\\n",
        "  .setThreshold(0.5)\\\n",
        "  .setShufflePerEpoch(False)\\\n",
        "  .setEnableOutputLogs(True)\\\n",
        "  .setOutputLogsPath(log_folder)\\\n",
        "#   .setValidationSplit(0.1)\n",
        "\n",
        "multiClassifier_pipeline = Pipeline(\n",
        "    stages = [\n",
        "        multiClassifier\n",
        "    ])"
      ]
    },
    {
      "cell_type": "code",
      "execution_count": 101,
      "metadata": {
        "id": "2KuFBI44T7qr"
      },
      "outputs": [],
      "source": [
        "multiClassifier_model_hc200 = multiClassifier_pipeline.fit(trainingData_with_embeddings)"
      ]
    },
    {
      "cell_type": "code",
      "execution_count": 102,
      "metadata": {
        "id": "WF1cSwJrT7qr"
      },
      "outputs": [],
      "source": [
        "preds = multiClassifier_model_hc200.transform(testData_with_embeddings)"
      ]
    },
    {
      "cell_type": "code",
      "execution_count": 103,
      "metadata": {
        "colab": {
          "base_uri": "https://localhost:8080/"
        },
        "id": "DAMLtlVsT7qr",
        "outputId": "3abee25a-dcfa-48cf-88b1-c6188646d315"
      },
      "outputs": [
        {
          "output_type": "execute_result",
          "data": {
            "text/plain": [
              "['neg']    965\n",
              "['pos']    462\n",
              "Name: result, dtype: int64"
            ]
          },
          "metadata": {},
          "execution_count": 103
        }
      ],
      "source": [
        "preds_df = preds.select(\"category\",\"text\",\"prediction.result\",\"prediction.metadata\").toPandas()\n",
        "preds_df.result.apply(lambda x: str(x) ).value_counts()"
      ]
    },
    {
      "cell_type": "code",
      "execution_count": 104,
      "metadata": {
        "colab": {
          "base_uri": "https://localhost:8080/"
        },
        "id": "HcZ7OAaYT7qr",
        "outputId": "d3013a44-eed7-4f56-e26a-aec7563c127d"
      },
      "outputs": [
        {
          "output_type": "execute_result",
          "data": {
            "text/plain": [
              "neg    965\n",
              "pos    462\n",
              "Name: result, dtype: int64"
            ]
          },
          "metadata": {},
          "execution_count": 104
        }
      ],
      "source": [
        "# We will get the highest score label as result. You can control the number of zero label results with setThreshold() in the training.\n",
        "preds_df[\"scores\"] = preds_df.metadata.apply(lambda x: {k:float(v) for k,v in x[0].items()} if len(x)>=1 else \"\")\n",
        "preds_df[\"result\"] = preds_df.scores.apply(lambda x: max(x, key=x.get) if len(x)>=1 else \"\")\n",
        "preds_df[\"result\"].value_counts()"
      ]
    },
    {
      "cell_type": "code",
      "execution_count": 105,
      "metadata": {
        "colab": {
          "base_uri": "https://localhost:8080/"
        },
        "id": "Crbnvw7GT7qr",
        "outputId": "03e20365-7f9d-404d-c1f1-ebe898843d1b"
      },
      "outputs": [
        {
          "output_type": "stream",
          "name": "stdout",
          "text": [
            "              precision    recall  f1-score   support\n",
            "\n",
            "         neg       0.91      0.90      0.90       982\n",
            "         pos       0.78      0.81      0.79       445\n",
            "\n",
            "    accuracy                           0.87      1427\n",
            "   macro avg       0.85      0.85      0.85      1427\n",
            "weighted avg       0.87      0.87      0.87      1427\n",
            "\n"
          ]
        }
      ],
      "source": [
        "print (classification_report(preds_df[\"category\"], preds_df[\"result\"]))"
      ]
    },
    {
      "cell_type": "markdown",
      "metadata": {
        "id": "Y4hlGSE9yGE3"
      },
      "source": [
        "### Generic Classifier"
      ]
    },
    {
      "cell_type": "code",
      "execution_count": 106,
      "metadata": {
        "id": "lFjM5RcliQSx"
      },
      "outputs": [],
      "source": [
        "# !pip install -q tensorflow==2.7.0 tensorflow_addons"
      ]
    },
    {
      "cell_type": "code",
      "execution_count": 107,
      "metadata": {
        "id": "yNSz6-FbyGE3"
      },
      "outputs": [],
      "source": [
        "from sparknlp_jsl.annotator import TFGraphBuilder\n",
        "\n",
        "graph_folder = \"gc_graph\"\n",
        "\n",
        "gc_graph_builder = TFGraphBuilder()\\\n",
        "    .setModelName(\"generic_classifier\")\\\n",
        "    .setInputCols([\"features\"])\\\n",
        "    .setLabelColumn(\"category\")\\\n",
        "    .setHiddenLayers([300,200, 50])\\\n",
        "    .setHiddenAct(\"tanh\")\\\n",
        "    .setHiddenActL2(True)\\\n",
        "    .setBatchNorm(True)\\\n",
        "    .setGraphFolder(graph_folder)\\\n",
        "    .setGraphFile(\"gcf_graph_bert.pb\")"
      ]
    },
    {
      "cell_type": "code",
      "execution_count": 108,
      "metadata": {
        "id": "lYsWcP6yyGE3"
      },
      "outputs": [],
      "source": [
        "features_asm = FeaturesAssembler()\\\n",
        "    .setInputCols([\"sentence_embeddings\"])\\\n",
        "    .setOutputCol(\"features\")\n",
        "      \n",
        "gen_clf = GenericClassifierApproach()\\\n",
        "    .setLabelColumn(\"category\")\\\n",
        "    .setInputCols(\"features\")\\\n",
        "    .setOutputCol(\"prediction\")\\\n",
        "    .setModelFile(f\"{graph_folder}/gcf_graph_bert.pb\")\\\n",
        "    .setEpochsNumber(20)\\\n",
        "    .setBatchSize(32)\\\n",
        "    .setLearningRate(0.001)\\\n",
        "    .setOutputLogsPath(log_folder)\\\n",
        "    .setDropout(0.5)\\\n",
        "    .setFixImbalance(True)\\\n",
        "    # .setValidationSplit(0.1)\n",
        "\n",
        "clf_Pipeline = Pipeline(stages=[\n",
        "    features_asm,\n",
        "    gc_graph_builder,\n",
        "    gen_clf])\n"
      ]
    },
    {
      "cell_type": "code",
      "execution_count": 109,
      "metadata": {
        "colab": {
          "base_uri": "https://localhost:8080/"
        },
        "id": "uTJY05QbyGE3",
        "outputId": "081e005f-5a2b-4dd4-939e-052813c61915"
      },
      "outputs": [
        {
          "output_type": "stream",
          "name": "stdout",
          "text": [
            "TF Graph Builder configuration:\n",
            "Model name: generic_classifier\n",
            "Graph folder: gc_graph\n",
            "Graph file name: gcf_graph_bert.pb\n",
            "Build params: {'input_dim': 768, 'output_dim': 2, 'hidden_layers': [300, 200, 50], 'hidden_act': 'tanh', 'hidden_act_l2': True, 'batch_norm': True}\n",
            "generic_classifier graph exported to gc_graph/gcf_graph_bert.pb\n"
          ]
        }
      ],
      "source": [
        "generic_model_bert = clf_Pipeline.fit(trainingData_with_embeddings)"
      ]
    },
    {
      "cell_type": "code",
      "execution_count": 110,
      "metadata": {
        "colab": {
          "base_uri": "https://localhost:8080/"
        },
        "id": "EB1ONwUvyGE3",
        "outputId": "97b62d66-0ae5-4f92-830a-21895c3908de"
      },
      "outputs": [
        {
          "output_type": "stream",
          "name": "stdout",
          "text": [
            "              precision    recall  f1-score   support\n",
            "\n",
            "         neg       0.94      0.87      0.90       982\n",
            "         pos       0.75      0.88      0.81       445\n",
            "\n",
            "    accuracy                           0.87      1427\n",
            "   macro avg       0.85      0.87      0.86      1427\n",
            "weighted avg       0.88      0.87      0.87      1427\n",
            "\n"
          ]
        }
      ],
      "source": [
        "pred_df = generic_model_bert.transform(testData_with_embeddings)\n",
        "\n",
        "preds_df = pred_df.select('category','prediction.result').toPandas()\n",
        "preds_df['result'] = preds_df.result.apply(lambda x : x[0])\n",
        "\n",
        "print (classification_report(preds_df['category'], preds_df['result']))"
      ]
    },
    {
      "cell_type": "markdown",
      "metadata": {
        "id": "wP2hYqY1XJVB"
      },
      "source": [
        "### GenericLogRegClassifier"
      ]
    },
    {
      "cell_type": "code",
      "execution_count": 111,
      "metadata": {
        "id": "nMqP9w4YXJVB"
      },
      "outputs": [],
      "source": [
        "from sparknlp_jsl.annotator import TFGraphBuilder\n",
        "\n",
        "graph_folder = \"gc_graph\"\n",
        "\n",
        "gc_logreg_graph_builder = TFGraphBuilder()\\\n",
        "    .setModelName(\"logreg_classifier\")\\\n",
        "    .setInputCols([\"feature_vector\"]) \\\n",
        "    .setLabelColumn(\"category\")\\\n",
        "    .setGraphFolder(graph_folder)\\\n",
        "    .setGraphFile(\"log_reg_graph.pb\")"
      ]
    },
    {
      "cell_type": "markdown",
      "metadata": {
        "id": "ubEJt4C5XJVB"
      },
      "source": [
        "GenericLogRegClassifier needs outputs from FeaturesAssembler. The FeaturesAssembler is used to collect features from different columns or an embeddings column.\n",
        "\n",
        "The GenericLogRegClassifier takes FEATURE_VECTOR annotations as input, classifies them and outputs CATEGORY annotations."
      ]
    },
    {
      "cell_type": "code",
      "execution_count": 112,
      "metadata": {
        "id": "JciMxptEXJVB"
      },
      "outputs": [],
      "source": [
        "features_asm = FeaturesAssembler()\\\n",
        "    .setInputCols([\"sentence_embeddings\"])\\\n",
        "    .setOutputCol(\"feature_vector\")\n",
        "      \n",
        "gen_clf = GenericLogRegClassifierApproach()\\\n",
        "    .setLabelColumn(\"category\")\\\n",
        "    .setInputCols(\"feature_vector\")\\\n",
        "    .setOutputCol(\"prediction\")\\\n",
        "    .setModelFile(f\"{graph_folder}/log_reg_graph.pb\")\\\n",
        "    .setEpochsNumber(25)\\\n",
        "    .setBatchSize(128)\\\n",
        "    .setLearningRate(0.004)\\\n",
        "    .setOutputLogsPath(log_folder)\\\n",
        "    .setDropout(0.2)\\\n",
        "    .setFixImbalance(True)\\\n",
        "    # .setValidationSplit(0.1)\n",
        "\n",
        "clf_Pipeline = Pipeline(stages=[\n",
        "    features_asm,\n",
        "    gc_logreg_graph_builder,\n",
        "    gen_clf])\n"
      ]
    },
    {
      "cell_type": "code",
      "execution_count": 113,
      "metadata": {
        "colab": {
          "base_uri": "https://localhost:8080/"
        },
        "outputId": "3112872a-e568-4c3b-ac48-a1ab370f94e3",
        "id": "vxDhTsP0XJVC"
      },
      "outputs": [
        {
          "output_type": "stream",
          "name": "stdout",
          "text": [
            "TF Graph Builder configuration:\n",
            "Model name: logreg_classifier\n",
            "Graph folder: gc_graph\n",
            "Graph file name: log_reg_graph.pb\n",
            "Build params: {'input_dim': 768, 'output_dim': 2, 'hidden_layers': [], 'output_act': 'sigmoid'}\n",
            "logreg_classifier graph exported to gc_graph/log_reg_graph.pb\n"
          ]
        }
      ],
      "source": [
        "generic_model_hc100 = clf_Pipeline.fit(trainingData_with_embeddings)"
      ]
    },
    {
      "cell_type": "code",
      "execution_count": 114,
      "metadata": {
        "colab": {
          "base_uri": "https://localhost:8080/"
        },
        "outputId": "6b4fc6f5-fa3e-4321-9c52-93cf5f2a9732",
        "id": "MZet3wRGXJVC"
      },
      "outputs": [
        {
          "output_type": "stream",
          "name": "stdout",
          "text": [
            "Training 25 epochs\n",
            "Epoch 1/25\t0.18s\tLoss: 21.9896\tACC: 0.7652765\n",
            "Epoch 2/25\t0.07s\tLoss: 16.533005\tACC: 0.8334583\n",
            "Epoch 3/25\t0.07s\tLoss: 15.805766\tACC: 0.8406592\n",
            "Epoch 4/25\t0.07s\tLoss: 14.927349\tACC: 0.852766\n",
            "Epoch 5/25\t0.07s\tLoss: 14.58918\tACC: 0.85231876\n",
            "Epoch 6/25\t0.07s\tLoss: 14.25055\tACC: 0.8595591\n",
            "Epoch 7/25\t0.07s\tLoss: 14.322069\tACC: 0.8570273\n",
            "Epoch 8/25\t0.07s\tLoss: 13.8823805\tACC: 0.8632418\n",
            "Epoch 9/25\t0.07s\tLoss: 13.842393\tACC: 0.8648398\n",
            "Epoch 10/25\t0.07s\tLoss: 13.638076\tACC: 0.8640835\n",
            "Epoch 11/25\t0.07s\tLoss: 13.571218\tACC: 0.865504\n",
            "Epoch 12/25\t0.08s\tLoss: 13.25669\tACC: 0.86758864\n",
            "Epoch 13/25\t0.08s\tLoss: 13.736311\tACC: 0.861874\n",
            "Epoch 14/25\t0.08s\tLoss: 13.611635\tACC: 0.8626631\n",
            "Epoch 15/25\t0.08s\tLoss: 13.468305\tACC: 0.8614202\n",
            "Epoch 16/25\t0.07s\tLoss: 13.621185\tACC: 0.8576981\n",
            "Epoch 17/25\t0.07s\tLoss: 13.820888\tACC: 0.86297876\n",
            "Epoch 18/25\t0.07s\tLoss: 13.579946\tACC: 0.8604009\n",
            "Epoch 19/25\t0.07s\tLoss: 13.297374\tACC: 0.8622225\n",
            "Epoch 20/25\t0.07s\tLoss: 13.535712\tACC: 0.8667535\n",
            "Epoch 21/25\t0.07s\tLoss: 13.564962\tACC: 0.86963385\n",
            "Epoch 22/25\t0.08s\tLoss: 13.2094555\tACC: 0.86874604\n",
            "Epoch 23/25\t0.07s\tLoss: 13.868654\tACC: 0.85903305\n",
            "Epoch 24/25\t0.08s\tLoss: 13.440474\tACC: 0.86177534\n",
            "Epoch 25/25\t0.08s\tLoss: 13.342676\tACC: 0.8673716\n",
            "Training completed.\n"
          ]
        }
      ],
      "source": [
        "!cat $log_folder/GenericLogRegClassifierApproach*"
      ]
    },
    {
      "cell_type": "code",
      "execution_count": 115,
      "metadata": {
        "id": "EpQZpzg1XJVC"
      },
      "outputs": [],
      "source": [
        "pred_df = generic_model_hc100.transform(testData_with_embeddings)"
      ]
    },
    {
      "cell_type": "code",
      "execution_count": 116,
      "metadata": {
        "colab": {
          "base_uri": "https://localhost:8080/"
        },
        "outputId": "d2de603f-fdc5-4396-8d1e-5b4004af46fc",
        "id": "Nh4NrAwJXJVC"
      },
      "outputs": [
        {
          "output_type": "stream",
          "name": "stdout",
          "text": [
            "root\n",
            " |-- text: string (nullable = true)\n",
            " |-- category: string (nullable = true)\n",
            " |-- sentence_embeddings: array (nullable = true)\n",
            " |    |-- element: struct (containsNull = true)\n",
            " |    |    |-- annotatorType: string (nullable = true)\n",
            " |    |    |-- begin: integer (nullable = false)\n",
            " |    |    |-- end: integer (nullable = false)\n",
            " |    |    |-- result: string (nullable = true)\n",
            " |    |    |-- metadata: map (nullable = true)\n",
            " |    |    |    |-- key: string\n",
            " |    |    |    |-- value: string (valueContainsNull = true)\n",
            " |    |    |-- embeddings: array (nullable = true)\n",
            " |    |    |    |-- element: float (containsNull = false)\n",
            " |-- category_array: array (nullable = false)\n",
            " |    |-- element: string (containsNull = true)\n",
            " |-- prediction: array (nullable = true)\n",
            " |    |-- element: struct (containsNull = true)\n",
            " |    |    |-- annotatorType: string (nullable = true)\n",
            " |    |    |-- begin: integer (nullable = false)\n",
            " |    |    |-- end: integer (nullable = false)\n",
            " |    |    |-- result: string (nullable = true)\n",
            " |    |    |-- metadata: map (nullable = true)\n",
            " |    |    |    |-- key: string\n",
            " |    |    |    |-- value: string (valueContainsNull = true)\n",
            " |    |    |-- embeddings: array (nullable = true)\n",
            " |    |    |    |-- element: float (containsNull = false)\n",
            "\n",
            "+-------------------------------------------------------------------------------------+\n",
            "|prediction                                                                           |\n",
            "+-------------------------------------------------------------------------------------+\n",
            "|[{category, 0, 166, neg, {sentence -> 0, neg -> 0.9998173, pos -> 1.8064203E-4}, []}]|\n",
            "|[{category, 0, 262, neg, {sentence -> 0, neg -> 0.93358785, pos -> 0.067013405}, []}]|\n",
            "|[{category, 0, 172, pos, {sentence -> 0, neg -> 0.15206376, pos -> 0.850154}, []}]   |\n",
            "|[{category, 0, 93, neg, {sentence -> 0, neg -> 0.997715, pos -> 0.0022835864}, []}]  |\n",
            "|[{category, 0, 136, neg, {sentence -> 0, neg -> 0.9994286, pos -> 5.732745E-4}, []}] |\n",
            "+-------------------------------------------------------------------------------------+\n",
            "only showing top 5 rows\n",
            "\n",
            "+--------+-----------------+\n",
            "|category|prediction.result|\n",
            "+--------+-----------------+\n",
            "|neg     |[neg]            |\n",
            "|neg     |[neg]            |\n",
            "|neg     |[pos]            |\n",
            "|neg     |[neg]            |\n",
            "|neg     |[neg]            |\n",
            "+--------+-----------------+\n",
            "only showing top 5 rows\n",
            "\n"
          ]
        }
      ],
      "source": [
        "preds.printSchema()\n",
        "preds.select(preds.prediction).show(5, truncate=False)\n",
        "preds.select(preds.category, preds.prediction.result).show(5, truncate=False)"
      ]
    },
    {
      "cell_type": "code",
      "execution_count": 117,
      "metadata": {
        "colab": {
          "base_uri": "https://localhost:8080/"
        },
        "outputId": "b5b18358-7282-4992-f969-bf39fb21244f",
        "id": "YAIyaNA5XJVC"
      },
      "outputs": [
        {
          "output_type": "stream",
          "name": "stdout",
          "text": [
            "              precision    recall  f1-score   support\n",
            "\n",
            "         neg       0.88      0.94      0.91       982\n",
            "         pos       0.84      0.72      0.78       445\n",
            "\n",
            "    accuracy                           0.87      1427\n",
            "   macro avg       0.86      0.83      0.84      1427\n",
            "weighted avg       0.87      0.87      0.87      1427\n",
            "\n"
          ]
        }
      ],
      "source": [
        "preds_df = pred_df.select('category','prediction.result').toPandas()\n",
        "preds_df['result'] = preds_df.result.apply(lambda x : x[0])\n",
        "\n",
        "print (classification_report(preds_df['category'], preds_df['result']))"
      ]
    },
    {
      "cell_type": "markdown",
      "metadata": {
        "id": "fJ53RrHWXXHj"
      },
      "source": [
        "### GenericSVMClassifier"
      ]
    },
    {
      "cell_type": "code",
      "execution_count": 118,
      "metadata": {
        "id": "xyjJzPzBXXHk"
      },
      "outputs": [],
      "source": [
        "from sparknlp_jsl.annotator import TFGraphBuilder\n",
        "\n",
        "graph_folder = \"gc_graph\"\n",
        "\n",
        "gc_svm_graph_builder = TFGraphBuilder()\\\n",
        "    .setModelName(\"svm_classifier\")\\\n",
        "    .setInputCols([\"feature_vector\"]) \\\n",
        "    .setLabelColumn(\"category\")\\\n",
        "    .setGraphFolder(graph_folder)\\\n",
        "    .setGraphFile(\"svm_graph.pb\")"
      ]
    },
    {
      "cell_type": "markdown",
      "metadata": {
        "id": "VX7v20wHXXHk"
      },
      "source": [
        "GenericSVMClassifier needs outputs from FeaturesAssembler. The FeaturesAssembler is used to collect features from different columns or an embeddings column.\n",
        "\n",
        "The GenericSVMClassifier takes FEATURE_VECTOR annotations as input, classifies them and outputs CATEGORY annotations."
      ]
    },
    {
      "cell_type": "code",
      "execution_count": 119,
      "metadata": {
        "id": "0vzQ80M5XXHk"
      },
      "outputs": [],
      "source": [
        "features_asm = FeaturesAssembler()\\\n",
        "    .setInputCols([\"sentence_embeddings\"])\\\n",
        "    .setOutputCol(\"feature_vector\")\n",
        "      \n",
        "gen_clf = GenericSVMClassifierApproach()\\\n",
        "    .setLabelColumn(\"category\")\\\n",
        "    .setInputCols(\"feature_vector\")\\\n",
        "    .setOutputCol(\"prediction\")\\\n",
        "    .setModelFile(f\"{graph_folder}/svm_graph.pb\")\\\n",
        "    .setEpochsNumber(25)\\\n",
        "    .setBatchSize(128)\\\n",
        "    .setLearningRate(0.004)\\\n",
        "    .setOutputLogsPath(log_folder)\\\n",
        "    .setDropout(0.2)\\\n",
        "    .setFixImbalance(True)\\\n",
        "    # .setValidationSplit(0.1)\n",
        "\n",
        "clf_Pipeline = Pipeline(stages=[\n",
        "    features_asm,\n",
        "    gc_svm_graph_builder,\n",
        "    gen_clf])\n"
      ]
    },
    {
      "cell_type": "code",
      "execution_count": 120,
      "metadata": {
        "colab": {
          "base_uri": "https://localhost:8080/"
        },
        "outputId": "967da3fd-22f9-4988-bb27-bf53fb549111",
        "id": "9BieY4KtXXHk"
      },
      "outputs": [
        {
          "output_type": "stream",
          "name": "stdout",
          "text": [
            "TF Graph Builder configuration:\n",
            "Model name: svm_classifier\n",
            "Graph folder: gc_graph\n",
            "Graph file name: svm_graph.pb\n",
            "Build params: {'input_dim': 768, 'output_dim': 2, 'hidden_layers': [], 'output_act': 'sigmoid', 'loss_func': 'hinge'}\n",
            "svm_classifier graph exported to gc_graph/svm_graph.pb\n"
          ]
        }
      ],
      "source": [
        "generic_model_hc100 = clf_Pipeline.fit(trainingData_with_embeddings)"
      ]
    },
    {
      "cell_type": "code",
      "execution_count": 121,
      "metadata": {
        "colab": {
          "base_uri": "https://localhost:8080/"
        },
        "outputId": "37190431-f9a4-48f0-916e-130f7463e63d",
        "id": "SBAlazuPXXHk"
      },
      "outputs": [
        {
          "output_type": "stream",
          "name": "stdout",
          "text": [
            "Training 25 epochs\n",
            "Epoch 1/25\t0.21s\tLoss: 25.396908\tACC: 0.76753867\n",
            "Epoch 2/25\t0.08s\tLoss: 18.124996\tACC: 0.83168274\n",
            "Epoch 3/25\t0.08s\tLoss: 16.69394\tACC: 0.84721565\n",
            "Epoch 4/25\t0.09s\tLoss: 17.57085\tACC: 0.83750266\n",
            "Epoch 5/25\t0.09s\tLoss: 16.188065\tACC: 0.8548966\n",
            "Epoch 6/25\t0.08s\tLoss: 15.183879\tACC: 0.8542719\n",
            "Epoch 7/25\t0.09s\tLoss: 15.633756\tACC: 0.8538839\n",
            "Epoch 8/25\t0.08s\tLoss: 15.63288\tACC: 0.85538983\n",
            "Epoch 9/25\t0.09s\tLoss: 15.137466\tACC: 0.8627091\n",
            "Epoch 10/25\t0.08s\tLoss: 15.669785\tACC: 0.86044693\n",
            "Epoch 11/25\t0.08s\tLoss: 15.331658\tACC: 0.854364\n",
            "Epoch 12/25\t0.08s\tLoss: 15.072625\tACC: 0.8622225\n",
            "Epoch 13/25\t0.09s\tLoss: 15.028588\tACC: 0.8606705\n",
            "Epoch 14/25\t0.08s\tLoss: 15.170846\tACC: 0.86044693\n",
            "Epoch 15/25\t0.08s\tLoss: 15.985527\tACC: 0.8537458\n",
            "Epoch 16/25\t0.09s\tLoss: 15.230682\tACC: 0.86337334\n",
            "Epoch 17/25\t0.08s\tLoss: 14.991264\tACC: 0.8643532\n",
            "Epoch 18/25\t0.09s\tLoss: 15.240396\tACC: 0.85982877\n",
            "Epoch 19/25\t0.09s\tLoss: 14.894712\tACC: 0.86648387\n",
            "Epoch 20/25\t0.08s\tLoss: 17.250116\tACC: 0.8440723\n",
            "Epoch 21/25\t0.09s\tLoss: 16.236616\tACC: 0.8523714\n",
            "Epoch 22/25\t0.08s\tLoss: 15.3046875\tACC: 0.8606179\n",
            "Epoch 23/25\t0.08s\tLoss: 15.6993475\tACC: 0.85817814\n",
            "Epoch 24/25\t0.09s\tLoss: 15.518166\tACC: 0.8585398\n",
            "Epoch 25/25\t0.09s\tLoss: 15.258637\tACC: 0.86080205\n",
            "Training completed.\n"
          ]
        }
      ],
      "source": [
        "!cat $log_folder/GenericSVMClassifierApproach*"
      ]
    },
    {
      "cell_type": "code",
      "execution_count": 122,
      "metadata": {
        "id": "iHL0IWHQXXHk"
      },
      "outputs": [],
      "source": [
        "pred_df = generic_model_hc100.transform(testData_with_embeddings)"
      ]
    },
    {
      "cell_type": "code",
      "execution_count": 123,
      "metadata": {
        "colab": {
          "base_uri": "https://localhost:8080/"
        },
        "outputId": "7a167f8f-8a39-4887-90e3-101d7eb80aaa",
        "id": "dDK-wAVNXXHl"
      },
      "outputs": [
        {
          "output_type": "stream",
          "name": "stdout",
          "text": [
            "root\n",
            " |-- text: string (nullable = true)\n",
            " |-- category: string (nullable = true)\n",
            " |-- sentence_embeddings: array (nullable = true)\n",
            " |    |-- element: struct (containsNull = true)\n",
            " |    |    |-- annotatorType: string (nullable = true)\n",
            " |    |    |-- begin: integer (nullable = false)\n",
            " |    |    |-- end: integer (nullable = false)\n",
            " |    |    |-- result: string (nullable = true)\n",
            " |    |    |-- metadata: map (nullable = true)\n",
            " |    |    |    |-- key: string\n",
            " |    |    |    |-- value: string (valueContainsNull = true)\n",
            " |    |    |-- embeddings: array (nullable = true)\n",
            " |    |    |    |-- element: float (containsNull = false)\n",
            " |-- category_array: array (nullable = false)\n",
            " |    |-- element: string (containsNull = true)\n",
            " |-- prediction: array (nullable = true)\n",
            " |    |-- element: struct (containsNull = true)\n",
            " |    |    |-- annotatorType: string (nullable = true)\n",
            " |    |    |-- begin: integer (nullable = false)\n",
            " |    |    |-- end: integer (nullable = false)\n",
            " |    |    |-- result: string (nullable = true)\n",
            " |    |    |-- metadata: map (nullable = true)\n",
            " |    |    |    |-- key: string\n",
            " |    |    |    |-- value: string (valueContainsNull = true)\n",
            " |    |    |-- embeddings: array (nullable = true)\n",
            " |    |    |    |-- element: float (containsNull = false)\n",
            "\n",
            "+-------------------------------------------------------------------------------------+\n",
            "|prediction                                                                           |\n",
            "+-------------------------------------------------------------------------------------+\n",
            "|[{category, 0, 166, neg, {sentence -> 0, neg -> 0.9998173, pos -> 1.8064203E-4}, []}]|\n",
            "|[{category, 0, 262, neg, {sentence -> 0, neg -> 0.93358785, pos -> 0.067013405}, []}]|\n",
            "|[{category, 0, 172, pos, {sentence -> 0, neg -> 0.15206376, pos -> 0.850154}, []}]   |\n",
            "|[{category, 0, 93, neg, {sentence -> 0, neg -> 0.997715, pos -> 0.0022835864}, []}]  |\n",
            "|[{category, 0, 136, neg, {sentence -> 0, neg -> 0.9994286, pos -> 5.732745E-4}, []}] |\n",
            "+-------------------------------------------------------------------------------------+\n",
            "only showing top 5 rows\n",
            "\n",
            "+--------+-----------------+\n",
            "|category|prediction.result|\n",
            "+--------+-----------------+\n",
            "|neg     |[neg]            |\n",
            "|neg     |[neg]            |\n",
            "|neg     |[pos]            |\n",
            "|neg     |[neg]            |\n",
            "|neg     |[neg]            |\n",
            "+--------+-----------------+\n",
            "only showing top 5 rows\n",
            "\n"
          ]
        }
      ],
      "source": [
        "preds.printSchema()\n",
        "preds.select(preds.prediction).show(5, truncate=False)\n",
        "preds.select(preds.category, preds.prediction.result).show(5, truncate=False)"
      ]
    },
    {
      "cell_type": "code",
      "execution_count": 124,
      "metadata": {
        "colab": {
          "base_uri": "https://localhost:8080/"
        },
        "outputId": "26e48f08-9d6b-4ee0-aeea-6e432bf92145",
        "id": "O1pwRdfMXXHl"
      },
      "outputs": [
        {
          "output_type": "stream",
          "name": "stdout",
          "text": [
            "              precision    recall  f1-score   support\n",
            "\n",
            "         neg       0.87      0.94      0.90       982\n",
            "         pos       0.84      0.69      0.76       445\n",
            "\n",
            "    accuracy                           0.86      1427\n",
            "   macro avg       0.86      0.82      0.83      1427\n",
            "weighted avg       0.86      0.86      0.86      1427\n",
            "\n"
          ]
        }
      ],
      "source": [
        "preds_df = pred_df.select('category','prediction.result').toPandas()\n",
        "preds_df['result'] = preds_df.result.apply(lambda x : x[0])\n",
        "\n",
        "print (classification_report(preds_df['category'], preds_df['result']))"
      ]
    },
    {
      "cell_type": "markdown",
      "metadata": {
        "id": "HAEFUdy1gyh1"
      },
      "source": [
        "## DocumentLogRegClassifier"
      ]
    },
    {
      "cell_type": "code",
      "execution_count": 125,
      "metadata": {
        "id": "4YOr31bfg0hm"
      },
      "outputs": [],
      "source": [
        "document_assembler = DocumentAssembler()\\\n",
        "    .setInputCol(\"text\")\\\n",
        "    .setOutputCol(\"document\")\n",
        "\n",
        "tokenizer = Tokenizer() \\\n",
        "    .setInputCols([\"document\"]) \\\n",
        "    .setOutputCol(\"token\")\n",
        "\n",
        "normalizer = Normalizer() \\\n",
        "      .setInputCols([\"token\"]) \\\n",
        "      .setOutputCol(\"normalized\")\n",
        "\n",
        "stopwords_cleaner = StopWordsCleaner()\\\n",
        "      .setInputCols(\"normalized\")\\\n",
        "      .setOutputCol(\"cleanTokens\")\\\n",
        "      .setCaseSensitive(False)\n",
        "\n",
        "stemmer = Stemmer() \\\n",
        "      .setInputCols([\"cleanTokens\"]) \\\n",
        "      .setOutputCol(\"stem\")\n",
        "\n",
        "logreg = DocumentLogRegClassifierApproach()\\\n",
        "    .setInputCols(\"stem\")\\\n",
        "    .setLabelCol(\"category\")\\\n",
        "    .setOutputCol(\"prediction\")\\\n",
        "    .setMaxIter(10)\\\n",
        "    .setTol(1e-6)\n",
        "\n",
        "clf_Pipeline = Pipeline(stages=[\n",
        "    document_assembler, \n",
        "    tokenizer,\n",
        "    normalizer,\n",
        "    stopwords_cleaner, \n",
        "    stemmer, \n",
        "    logreg])\n",
        "doclogreg_model = clf_Pipeline.fit(trainingData)"
      ]
    },
    {
      "cell_type": "code",
      "execution_count": 126,
      "metadata": {
        "colab": {
          "base_uri": "https://localhost:8080/"
        },
        "id": "61zEw5EQg0d-",
        "outputId": "e217f979-c606-49a1-83fd-e78da437a7aa"
      },
      "outputs": [
        {
          "output_type": "stream",
          "name": "stdout",
          "text": [
            "              precision    recall  f1-score   support\n",
            "\n",
            "         neg       0.86      0.86      0.86       982\n",
            "         pos       0.70      0.69      0.69       445\n",
            "\n",
            "    accuracy                           0.81      1427\n",
            "   macro avg       0.78      0.78      0.78      1427\n",
            "weighted avg       0.81      0.81      0.81      1427\n",
            "\n"
          ]
        }
      ],
      "source": [
        "pred_df = doclogreg_model.transform(testData)\n",
        "\n",
        "preds_df = pred_df.select('category','prediction.result').toPandas()\n",
        "preds_df['result'] = preds_df.result.apply(lambda x : x[0])\n",
        "\n",
        "print (classification_report(preds_df['category'], preds_df['result']))"
      ]
    },
    {
      "cell_type": "markdown",
      "metadata": {
        "id": "IryBN-nlB8fu"
      },
      "source": [
        "# Mtsamples Dataset"
      ]
    },
    {
      "cell_type": "markdown",
      "metadata": {
        "id": "9VTK1AsahOpz"
      },
      "source": [
        "## Load Dataset"
      ]
    },
    {
      "cell_type": "code",
      "execution_count": 3,
      "metadata": {
        "id": "CHPqy3NeZMWW"
      },
      "outputs": [],
      "source": [
        "!wget -q https://raw.githubusercontent.com/JohnSnowLabs/spark-nlp-workshop/master/tutorials/Certification_Trainings/Healthcare/data/mtsamples_classifier.csv"
      ]
    },
    {
      "cell_type": "code",
      "execution_count": 4,
      "metadata": {
        "colab": {
          "base_uri": "https://localhost:8080/"
        },
        "id": "44eb4f5f-9065-4512-aad6-2afc89f74220",
        "outputId": "b5f6b683-e0af-41f5-f282-11621634cfe1"
      },
      "outputs": [
        {
          "output_type": "stream",
          "name": "stdout",
          "text": [
            "+----------------+----------------------------------------------------------------------------------------------------+\n",
            "|        category|                                                                                                text|\n",
            "+----------------+----------------------------------------------------------------------------------------------------+\n",
            "|Gastroenterology| PROCEDURES PERFORMED: Colonoscopy. INDICATIONS: Renewed symptoms likely consistent with active f...|\n",
            "|Gastroenterology| OPERATION 1. Ivor-Lewis esophagogastrectomy. 2. Feeding jejunostomy. 3. Placement of two right-s...|\n",
            "|Gastroenterology| PREOPERATIVE DIAGNOSES: 1. Gastroesophageal reflux disease. 2. Chronic dyspepsia. POSTOPERATIVE ...|\n",
            "|Gastroenterology| PROCEDURE: Colonoscopy. PREOPERATIVE DIAGNOSES: Rectal bleeding and perirectal abscess. POSTOPER...|\n",
            "|Gastroenterology| PREOPERATIVE DIAGNOSIS: Right colon tumor. POSTOPERATIVE DIAGNOSES: 1. Right colon cancer. 2. As...|\n",
            "|Gastroenterology| PREOPERATIVE DIAGNOSIS (ES): 1. Cholelithiasis. 2. Cholecystitis. POSTOPERATIVE DIAGNOSIS (ES): ...|\n",
            "|Gastroenterology| The patient was taken to the GI lab and placed in the left lateral supine position. Continuous p...|\n",
            "|Gastroenterology| PREOPERATIVE DIAGNOSIS: Gastrostomy (gastrocutaneous fistula). POSTOPERATIVE DIAGNOSIS: Gastrost...|\n",
            "|Gastroenterology| PREOPERATIVE DIAGNOSIS: Acute acalculous cholecystitis. POSTOPERATIVE DIAGNOSIS: Acute hemorrhag...|\n",
            "|Gastroenterology| HISTORY OF PRESENT ILLNESS: This is a 10-year-old who was found with biliary atresia and underwe...|\n",
            "+----------------+----------------------------------------------------------------------------------------------------+\n",
            "only showing top 10 rows\n",
            "\n"
          ]
        }
      ],
      "source": [
        "spark_df = spark.read.csv(\"mtsamples_classifier.csv\", header = True)\n",
        "\n",
        "spark_df.show(10,truncate=100)"
      ]
    },
    {
      "cell_type": "code",
      "execution_count": 5,
      "metadata": {
        "colab": {
          "base_uri": "https://localhost:8080/"
        },
        "id": "yApqQhjp_EZx",
        "outputId": "fa6be951-3c0e-4b04-ca4a-d9c839b32950"
      },
      "outputs": [
        {
          "output_type": "stream",
          "name": "stdout",
          "text": [
            "root\n",
            " |-- category: string (nullable = true)\n",
            " |-- text: string (nullable = true)\n",
            "\n"
          ]
        }
      ],
      "source": [
        "spark_df.printSchema()"
      ]
    },
    {
      "cell_type": "code",
      "execution_count": 6,
      "metadata": {
        "colab": {
          "base_uri": "https://localhost:8080/"
        },
        "id": "f0886fb5-fd9d-4199-b142-637cad880866",
        "outputId": "fbad3ba2-7ba2-4c0d-802c-5845f746ee27"
      },
      "outputs": [
        {
          "output_type": "execute_result",
          "data": {
            "text/plain": [
              "638"
            ]
          },
          "metadata": {},
          "execution_count": 6
        }
      ],
      "source": [
        "spark_df.count()"
      ]
    },
    {
      "cell_type": "code",
      "execution_count": 7,
      "metadata": {
        "colab": {
          "base_uri": "https://localhost:8080/"
        },
        "id": "241bd286-350c-421e-92f4-a80164ed2dc1",
        "outputId": "378b6b02-a9e0-4749-8229-845193c129fa"
      },
      "outputs": [
        {
          "output_type": "stream",
          "name": "stdout",
          "text": [
            "+----------------+-----+\n",
            "|        category|count|\n",
            "+----------------+-----+\n",
            "|         Urology|  115|\n",
            "|       Neurology|  143|\n",
            "|      Orthopedic|  223|\n",
            "|Gastroenterology|  157|\n",
            "+----------------+-----+\n",
            "\n"
          ]
        }
      ],
      "source": [
        "spark_df.groupBy(\"category\").count().show()"
      ]
    },
    {
      "cell_type": "code",
      "execution_count": 8,
      "metadata": {
        "id": "db12fe42-90b6-434d-852a-ea86cad9a963"
      },
      "outputs": [],
      "source": [
        "(trainingData, testData) = spark_df.randomSplit([0.8, 0.2], seed = 42)"
      ]
    },
    {
      "cell_type": "code",
      "execution_count": 9,
      "metadata": {
        "colab": {
          "base_uri": "https://localhost:8080/"
        },
        "id": "P3iINSk1hc2E",
        "outputId": "12afc2bf-31e3-415f-d0fa-09c66900296f"
      },
      "outputs": [
        {
          "output_type": "stream",
          "name": "stdout",
          "text": [
            "+----------------+-----+\n",
            "|        category|count|\n",
            "+----------------+-----+\n",
            "|         Urology|   95|\n",
            "|       Neurology|  121|\n",
            "|      Orthopedic|  188|\n",
            "|Gastroenterology|  132|\n",
            "+----------------+-----+\n",
            "\n"
          ]
        }
      ],
      "source": [
        "trainingData.groupBy(\"category\").count().show()"
      ]
    },
    {
      "cell_type": "code",
      "execution_count": 10,
      "metadata": {
        "colab": {
          "base_uri": "https://localhost:8080/"
        },
        "id": "UofCYygtKNw7",
        "outputId": "8a1ad0d7-8d0a-42fe-c940-4e6cfbfbc322"
      },
      "outputs": [
        {
          "output_type": "stream",
          "name": "stdout",
          "text": [
            "+----------------+-----+\n",
            "|        category|count|\n",
            "+----------------+-----+\n",
            "|         Urology|   20|\n",
            "|       Neurology|   22|\n",
            "|      Orthopedic|   35|\n",
            "|Gastroenterology|   25|\n",
            "+----------------+-----+\n",
            "\n"
          ]
        }
      ],
      "source": [
        "testData.groupBy(\"category\").count().show()"
      ]
    },
    {
      "cell_type": "markdown",
      "metadata": {
        "id": "F5fxqMw69oZ_"
      },
      "source": [
        "## 100 Dimension Healthcare Embeddings (embeddings_healthcare_100d)\n",
        "\n"
      ]
    },
    {
      "cell_type": "markdown",
      "metadata": {
        "id": "z3E3d1_w9oZ_"
      },
      "source": [
        "We will extract [healthcare_100d embeddings](https://nlp.johnsnowlabs.com/2020/05/29/embeddings_healthcare_100d_en.html) and use it in the classificaiton model training."
      ]
    },
    {
      "cell_type": "code",
      "execution_count": 11,
      "metadata": {
        "colab": {
          "base_uri": "https://localhost:8080/"
        },
        "id": "dGwOkIhg9oZ_",
        "outputId": "210b72cc-ca47-400d-9045-39661c56fdc7"
      },
      "outputs": [
        {
          "output_type": "stream",
          "name": "stdout",
          "text": [
            "embeddings_healthcare_100d download started this may take some time.\n",
            "Approximate size to download 475.8 MB\n",
            "[OK!]\n"
          ]
        }
      ],
      "source": [
        "document_assembler = DocumentAssembler()\\\n",
        "        .setInputCol(\"text\")\\\n",
        "        .setOutputCol(\"document\")\n",
        "\n",
        "tokenizer = Tokenizer() \\\n",
        "            .setInputCols([\"document\"]) \\\n",
        "            .setOutputCol(\"token\")\n",
        "\n",
        "word_embeddings = WordEmbeddingsModel.pretrained(\"embeddings_healthcare_100d\",\"en\",\"clinical/models\")\\\n",
        "        .setInputCols([\"document\",\"token\"])\\\n",
        "        .setOutputCol(\"word_embeddings\")\n",
        "\n",
        "sentence_embeddings = SentenceEmbeddings() \\\n",
        "        .setInputCols([\"document\", \"word_embeddings\"]) \\\n",
        "        .setOutputCol(\"sentence_embeddings\") \\\n",
        "        .setPoolingStrategy(\"AVERAGE\")\n",
        "\n",
        "embeddings_pipeline = Pipeline(\n",
        "    stages = [\n",
        "        document_assembler,\n",
        "        tokenizer,\n",
        "        word_embeddings,\n",
        "        sentence_embeddings,\n",
        "\n",
        "    ])"
      ]
    },
    {
      "cell_type": "code",
      "execution_count": 12,
      "metadata": {
        "colab": {
          "base_uri": "https://localhost:8080/"
        },
        "id": "NtiB6Xgv9oZ_",
        "outputId": "89db4e69-f3a2-4296-cf04-2de6e6ab81b7"
      },
      "outputs": [
        {
          "output_type": "stream",
          "name": "stdout",
          "text": [
            "+--------------------------------------------------------------------------------+----------------+--------------------------------------------------------------------------------+\n",
            "|                                                                            text|        category|                                                             sentence_embeddings|\n",
            "+--------------------------------------------------------------------------------+----------------+--------------------------------------------------------------------------------+\n",
            "| ADMISSION DIAGNOSIS: Symptomatic cholelithiasis. DISCHARGE DIAGNOSIS: Sympto...|Gastroenterology|[{sentence_embeddings, 0, 2228,  ADMISSION DIAGNOSIS: Symptomatic cholelithia...|\n",
            "| ADMITTING DIAGNOSES: Hiatal hernia, gastroesophageal reflux disease reflux. ...|Gastroenterology|[{sentence_embeddings, 0, 3237,  ADMITTING DIAGNOSES: Hiatal hernia, gastroes...|\n",
            "+--------------------------------------------------------------------------------+----------------+--------------------------------------------------------------------------------+\n",
            "only showing top 2 rows\n",
            "\n"
          ]
        }
      ],
      "source": [
        "trainingData_with_embeddings = embeddings_pipeline.fit(trainingData).transform(trainingData)\n",
        "trainingData_with_embeddings = trainingData_with_embeddings.select(\"text\",\"category\",\"sentence_embeddings\")\n",
        "trainingData_with_embeddings.show(2,truncate=80)"
      ]
    },
    {
      "cell_type": "code",
      "execution_count": 13,
      "metadata": {
        "colab": {
          "base_uri": "https://localhost:8080/"
        },
        "id": "_hMuZrio9oaA",
        "outputId": "8687806a-20da-4587-97b7-b4e4062c1e91"
      },
      "outputs": [
        {
          "output_type": "stream",
          "name": "stdout",
          "text": [
            "+--------------------------------------------------------------------------------+----------------+--------------------------------------------------------------------------------+\n",
            "|                                                                            text|        category|                                                             sentence_embeddings|\n",
            "+--------------------------------------------------------------------------------+----------------+--------------------------------------------------------------------------------+\n",
            "| ADMITTING DIAGNOSIS: Gastrointestinal bleed. HISTORY OF PRESENT ILLNESS: Ms....|Gastroenterology|[{sentence_embeddings, 0, 3978,  ADMITTING DIAGNOSIS: Gastrointestinal bleed....|\n",
            "| CHIEF COMPLAINT: Dysphagia and hematemesis while vomiting. HISTORY OF PRESEN...|Gastroenterology|[{sentence_embeddings, 0, 6515,  CHIEF COMPLAINT: Dysphagia and hematemesis w...|\n",
            "+--------------------------------------------------------------------------------+----------------+--------------------------------------------------------------------------------+\n",
            "only showing top 2 rows\n",
            "\n"
          ]
        }
      ],
      "source": [
        "testData_with_embeddings = embeddings_pipeline.fit(testData).transform(testData)\n",
        "testData_with_embeddings = testData_with_embeddings.select(\"text\",\"category\",\"sentence_embeddings\")\n",
        "testData_with_embeddings.show(2,truncate=80)"
      ]
    },
    {
      "cell_type": "code",
      "execution_count": 14,
      "metadata": {
        "colab": {
          "base_uri": "https://localhost:8080/"
        },
        "id": "ZgqbexSQ9oaA",
        "outputId": "c0994cd5-eddd-4649-b31f-93af8c2e20bc"
      },
      "outputs": [
        {
          "output_type": "stream",
          "name": "stdout",
          "text": [
            "root\n",
            " |-- text: string (nullable = true)\n",
            " |-- category: string (nullable = true)\n",
            " |-- sentence_embeddings: array (nullable = true)\n",
            " |    |-- element: struct (containsNull = true)\n",
            " |    |    |-- annotatorType: string (nullable = true)\n",
            " |    |    |-- begin: integer (nullable = false)\n",
            " |    |    |-- end: integer (nullable = false)\n",
            " |    |    |-- result: string (nullable = true)\n",
            " |    |    |-- metadata: map (nullable = true)\n",
            " |    |    |    |-- key: string\n",
            " |    |    |    |-- value: string (valueContainsNull = true)\n",
            " |    |    |-- embeddings: array (nullable = true)\n",
            " |    |    |    |-- element: float (containsNull = false)\n",
            "\n"
          ]
        }
      ],
      "source": [
        "testData_with_embeddings.printSchema()"
      ]
    },
    {
      "cell_type": "code",
      "execution_count": 15,
      "metadata": {
        "colab": {
          "base_uri": "https://localhost:8080/"
        },
        "id": "aX5ka1ok9oaA",
        "outputId": "ff88b6ad-c009-4a4d-b285-327e478917b5"
      },
      "outputs": [
        {
          "output_type": "stream",
          "name": "stdout",
          "text": [
            "+-----------------------------------------------------------------------------------------------------------------------------------------------------------------------------------------------------------------------------------------------------------------------------------------------------------------------------------------------------------------------------------------------------------------------------------------------------------------------------------------------------------------------------------------------------------------------------------------------------------------------------------------------------------------------------------------------------------------------------------------------------------------------------------------------------------------------------------------------------------------------------------------------------------------------------------------------------------------------------------------------------------------------------------------------------------------------------------------------------------------------------------------------------------------------------------------------------------------------------------------------------------------------------------------------------------------------------------------------+\n",
            "|sentence_embeddings.embeddings                                                                                                                                                                                                                                                                                                                                                                                                                                                                                                                                                                                                                                                                                                                                                                                                                                                                                                                                                                                                                                                                                                                                                                                                                                                                                                                 |\n",
            "+-----------------------------------------------------------------------------------------------------------------------------------------------------------------------------------------------------------------------------------------------------------------------------------------------------------------------------------------------------------------------------------------------------------------------------------------------------------------------------------------------------------------------------------------------------------------------------------------------------------------------------------------------------------------------------------------------------------------------------------------------------------------------------------------------------------------------------------------------------------------------------------------------------------------------------------------------------------------------------------------------------------------------------------------------------------------------------------------------------------------------------------------------------------------------------------------------------------------------------------------------------------------------------------------------------------------------------------------------+\n",
            "|[[-0.010433162, 0.0127568655, 0.110687375, 0.1609855, -0.14818177, -0.050856464, 0.064748034, -0.019294674, -0.0021781009, -0.023729818, -0.071661375, -0.057836294, 0.0931062, 0.11895762, 0.1737327, 0.11616965, -0.04509215, -0.1780082, -0.051163834, -0.010661895, -0.016196107, -0.20511495, 0.055771172, -0.020675572, -0.16809453, -0.11902388, 0.029673453, 0.2109956, 0.08391341, 0.07287546, -0.059694137, -0.11476436, 0.116185226, 0.04081436, 0.12374329, -0.079188205, -0.107561216, 0.30140355, 0.11424051, -0.14411166, -0.10631838, -0.1267307, 0.043870304, -0.0954702, -0.04076074, 0.11832804, -0.24299674, -0.30246606, 0.20045096, -0.1395888, -0.19080718, -0.21601082, -0.17319606, 0.040745135, 0.0034334804, 0.18703526, 0.0071888035, 0.09917312, 0.16079637, -0.10798641, -0.20016776, -0.07785581, -0.05333711, -0.098486245, -0.051750652, 0.09900631, 0.0038747191, -0.016456064, -4.7404392E-4, 0.1622855, 0.032233566, 0.11133595, -0.06978166, 0.10070201, -0.10140643, -0.16460328, -3.7426242E-4, -0.071075715, -0.070403844, 0.014873751, 0.06439997, -0.18902938, -0.06883806, 0.13852334, 0.080206215, -0.057379827, -0.017841203, 0.18641162, -0.05076376, 0.08368676, 0.15654859, -0.020575669, -0.1364575, 0.1936975, -0.14989865, 0.14287484, -0.01319278, 0.21304058, 0.038528293, -0.1607226]]   |\n",
            "|[[-0.0055608996, 0.018396137, 0.12305377, 0.13861515, -0.18651922, -0.07559964, 0.12978752, -0.0046452526, -0.0031408924, -0.047829263, -0.07781438, -0.06980049, 0.10436401, 0.14137094, 0.19514856, 0.090210386, -0.07936747, -0.17871696, -0.047058906, -0.012223783, -0.018831927, -0.19496521, 0.09245815, -0.05558219, -0.12743488, -0.1095424, -0.01887763, 0.23187321, 0.05345297, 0.0705227, -0.041596405, -0.12366259, 0.11156451, 0.040962037, 0.15293725, -0.061151978, -0.14757043, 0.32291353, 0.09381881, -0.15077469, -0.081602074, -0.14806567, 0.027384253, -0.085774645, -0.03718103, 0.13335608, -0.22088452, -0.3229317, 0.19772385, -0.16022566, -0.17545436, -0.20965564, -0.18994193, 0.06853686, -0.025128366, 0.22408263, -0.0076822336, 0.0643982, 0.14673477, -0.14300115, -0.1689565, -0.06790761, -0.035010457, -0.10654917, -0.039202526, 0.11305576, 0.015538715, -0.033635687, -0.006993121, 0.16426349, 0.03879993, 0.106086224, -0.10602426, 0.109544784, -0.08617863, -0.1625389, -0.010437247, -0.058627315, -0.08381029, -0.037467852, 0.032581322, -0.20412038, -0.04196348, 0.15452798, 0.081284925, -0.07090112, -0.017301949, 0.17624082, -0.066887006, 0.08057648, 0.12532169, -5.574489E-4, -0.13665588, 0.20512162, -0.11867192, 0.14648616, -1.0712413E-4, 0.24899963, 0.044570267, -0.13167858]]|\n",
            "|[[-0.019461514, 0.060639214, 0.11142021, 0.12826534, -0.16216077, -0.10416892, 0.17136306, -0.020363769, 0.01169337, -0.08476138, -0.07546314, -0.065848626, 0.102526255, 0.11644591, 0.19257692, 0.09793439, -0.068165705, -0.16009285, -0.029218554, 0.01462871, 0.0038295814, -0.19406919, 0.0910914, -0.04895865, -0.100249454, -0.11944068, -0.017690085, 0.24394804, 0.07483783, 0.06356346, -0.05839337, -0.13352504, 0.13198979, 0.045382313, 0.16690075, -0.0743445, -0.16710663, 0.27055958, 0.08903107, -0.19592911, -0.110773124, -0.16165365, 0.05279147, -0.104184955, 0.01048439, 0.11801978, -0.22220875, -0.30556756, 0.21289544, -0.14951447, -0.18037881, -0.2028568, -0.20674193, 0.0673642, -0.010214148, 0.2096897, -0.019585017, 0.079475716, 0.15992293, -0.14178875, -0.12522908, -0.033322133, -0.025568906, -0.11011209, 0.0054641864, 0.09865891, 0.005988106, -0.018688451, 0.015818665, 0.16191542, 0.017732812, 0.13704179, -0.10860545, 0.08053473, -0.08480248, -0.13023122, -0.033387773, -0.06475719, -0.05449556, -0.041496266, 0.022730881, -0.15954876, -0.052208956, 0.15878052, 0.06134811, -0.057613663, -0.018151483, 0.21978277, -0.04527128, 0.11386413, 0.14057644, 0.009502874, -0.12136669, 0.20709476, -0.11373642, 0.09872264, 0.0022662014, 0.25538194, 0.036831725, -0.16547233]]           |\n",
            "+-----------------------------------------------------------------------------------------------------------------------------------------------------------------------------------------------------------------------------------------------------------------------------------------------------------------------------------------------------------------------------------------------------------------------------------------------------------------------------------------------------------------------------------------------------------------------------------------------------------------------------------------------------------------------------------------------------------------------------------------------------------------------------------------------------------------------------------------------------------------------------------------------------------------------------------------------------------------------------------------------------------------------------------------------------------------------------------------------------------------------------------------------------------------------------------------------------------------------------------------------------------------------------------------------------------------------------------------------+\n",
            "only showing top 3 rows\n",
            "\n"
          ]
        }
      ],
      "source": [
        "testData_with_embeddings.select(testData_with_embeddings.sentence_embeddings.embeddings).show(3,truncate=False)"
      ]
    },
    {
      "cell_type": "code",
      "execution_count": 16,
      "metadata": {
        "id": "V99u_ru-9oaA"
      },
      "outputs": [],
      "source": [
        "log_folder=\"Mt_logs_healthcare_100d\"\n",
        "!mkdir -p $log_folder"
      ]
    },
    {
      "cell_type": "markdown",
      "metadata": {
        "id": "7HUPl4fh9oaA"
      },
      "source": [
        "### ClassifierDLApproach"
      ]
    },
    {
      "cell_type": "code",
      "execution_count": 17,
      "metadata": {
        "id": "Dzhptr2o9oaA"
      },
      "outputs": [],
      "source": [
        "classifier_dl = ClassifierDLApproach()\\\n",
        "        .setInputCols([\"sentence_embeddings\"])\\\n",
        "        .setOutputCol(\"prediction\")\\\n",
        "        .setLabelColumn(\"category\")\\\n",
        "        .setBatchSize(8)\\\n",
        "        .setMaxEpochs(50)\\\n",
        "        .setLr(0.005)\\\n",
        "        .setDropout(0.3)\\\n",
        "        .setEnableOutputLogs(True)\\\n",
        "        .setOutputLogsPath(log_folder)\\\n",
        "        # .setValidationSplit(0.1)\n",
        "\n",
        "classifier_dl_pipeline = Pipeline(stages=[classifier_dl])"
      ]
    },
    {
      "cell_type": "code",
      "execution_count": 18,
      "metadata": {
        "id": "GP8eSc7Q9oaB"
      },
      "outputs": [],
      "source": [
        "clfDL_model_hc100 = classifier_dl_pipeline.fit(trainingData_with_embeddings)"
      ]
    },
    {
      "cell_type": "code",
      "execution_count": 19,
      "metadata": {
        "id": "3CKuuqYb9oaB"
      },
      "outputs": [],
      "source": [
        "preds = clfDL_model_hc100.transform(testData_with_embeddings)"
      ]
    },
    {
      "cell_type": "code",
      "execution_count": 20,
      "metadata": {
        "colab": {
          "base_uri": "https://localhost:8080/"
        },
        "id": "uGFN40ju9oaB",
        "outputId": "61dab09a-23ee-437d-d2cf-44d0cb4a78b7"
      },
      "outputs": [
        {
          "output_type": "stream",
          "name": "stdout",
          "text": [
            "                  precision    recall  f1-score   support\n",
            "\n",
            "Gastroenterology       0.63      0.96      0.76        25\n",
            "       Neurology       0.64      0.73      0.68        22\n",
            "      Orthopedic       0.82      0.91      0.86        35\n",
            "         Urology       0.00      0.00      0.00        20\n",
            "\n",
            "        accuracy                           0.71       102\n",
            "       macro avg       0.52      0.65      0.58       102\n",
            "    weighted avg       0.57      0.71      0.63       102\n",
            "\n"
          ]
        }
      ],
      "source": [
        "preds_df = preds.select(\"category\",\"text\",\"prediction.result\").toPandas()\n",
        "preds_df[\"result\"] = preds_df[\"result\"].apply(lambda x : x[0])\n",
        "\n",
        "print (classification_report(preds_df[\"category\"], preds_df[\"result\"]))"
      ]
    },
    {
      "cell_type": "markdown",
      "metadata": {
        "id": "zaaRNh3W9oaB"
      },
      "source": [
        "### MultiClassifierDL"
      ]
    },
    {
      "cell_type": "code",
      "execution_count": 21,
      "metadata": {
        "id": "FnURVIYR9oaB"
      },
      "outputs": [],
      "source": [
        "# MultiClassifierDL accepts list of strings as input label. So we convert label column to array type.\n",
        "trainingData_with_embeddings = trainingData_with_embeddings.withColumn(\"category_array\", F.array(F.col(\"category\")))\n",
        "testData_with_embeddings = testData_with_embeddings.withColumn(\"category_array\", F.array(F.col(\"category\")))"
      ]
    },
    {
      "cell_type": "code",
      "execution_count": 22,
      "metadata": {
        "id": "BHBThSDF9oaB"
      },
      "outputs": [],
      "source": [
        "multiClassifier = MultiClassifierDLApproach()\\\n",
        "  .setInputCols(\"sentence_embeddings\")\\\n",
        "  .setOutputCol(\"prediction\")\\\n",
        "  .setLabelColumn(\"category_array\")\\\n",
        "  .setBatchSize(8)\\\n",
        "  .setMaxEpochs(40)\\\n",
        "  .setLr(5e-3)\\\n",
        "  .setThreshold(0.5)\\\n",
        "  .setShufflePerEpoch(False)\\\n",
        "  .setEnableOutputLogs(True)\\\n",
        "  .setOutputLogsPath(log_folder)\\\n",
        "#   .setValidationSplit(0.1)\n",
        "\n",
        "multiClassifier_pipeline = Pipeline(\n",
        "    stages = [\n",
        "        multiClassifier\n",
        "    ])"
      ]
    },
    {
      "cell_type": "code",
      "execution_count": 23,
      "metadata": {
        "id": "Ls8aG1NS9oaB"
      },
      "outputs": [],
      "source": [
        "multiClassifier_model_hc100 = multiClassifier_pipeline.fit(trainingData_with_embeddings)"
      ]
    },
    {
      "cell_type": "code",
      "execution_count": 24,
      "metadata": {
        "id": "zbwCsFnA9oaC"
      },
      "outputs": [],
      "source": [
        "preds = multiClassifier_model_hc100.transform(testData_with_embeddings)"
      ]
    },
    {
      "cell_type": "code",
      "execution_count": 25,
      "metadata": {
        "colab": {
          "base_uri": "https://localhost:8080/"
        },
        "id": "l5ZNDAi69oaC",
        "outputId": "91403946-5862-48b8-9e10-20cd1376f744"
      },
      "outputs": [
        {
          "output_type": "execute_result",
          "data": {
            "text/plain": [
              "['Orthopedic']                        35\n",
              "['Urology']                           21\n",
              "['Gastroenterology']                  19\n",
              "['Neurology']                         17\n",
              "[]                                     5\n",
              "['Neurology', 'Orthopedic']            4\n",
              "['Orthopedic', 'Gastroenterology']     1\n",
              "Name: result, dtype: int64"
            ]
          },
          "metadata": {},
          "execution_count": 25
        }
      ],
      "source": [
        "preds_df = preds.select(\"category\",\"text\",\"prediction.result\",\"prediction.metadata\").toPandas()\n",
        "preds_df.result.apply(lambda x: str(x) ).value_counts()"
      ]
    },
    {
      "cell_type": "code",
      "execution_count": 26,
      "metadata": {
        "colab": {
          "base_uri": "https://localhost:8080/"
        },
        "id": "jCaUwm8k9oaD",
        "outputId": "360f152e-6059-4d6d-aab1-96f2c8e66e25"
      },
      "outputs": [
        {
          "output_type": "execute_result",
          "data": {
            "text/plain": [
              "Orthopedic          36\n",
              "Urology             21\n",
              "Gastroenterology    20\n",
              "Neurology           20\n",
              "                     5\n",
              "Name: result, dtype: int64"
            ]
          },
          "metadata": {},
          "execution_count": 26
        }
      ],
      "source": [
        "# We will get the highest score label as result. You can control the number of zero label results with setThreshold() in the training.\n",
        "preds_df[\"scores\"] = preds_df.metadata.apply(lambda x: {k:float(v) for k,v in x[0].items()} if len(x)>=1 else \"\")\n",
        "preds_df[\"result\"] = preds_df.scores.apply(lambda x: max(x, key=x.get) if len(x)>=1 else \"\")\n",
        "preds_df[\"result\"].value_counts()"
      ]
    },
    {
      "cell_type": "code",
      "execution_count": 27,
      "metadata": {
        "colab": {
          "base_uri": "https://localhost:8080/"
        },
        "id": "7UoCi9IN9oaD",
        "outputId": "8c98cbf0-c147-4b35-812e-5ff1bdfacf19"
      },
      "outputs": [
        {
          "output_type": "stream",
          "name": "stdout",
          "text": [
            "                  precision    recall  f1-score   support\n",
            "\n",
            "                       0.00      0.00      0.00         0\n",
            "Gastroenterology       0.95      0.76      0.84        25\n",
            "       Neurology       0.80      0.73      0.76        22\n",
            "      Orthopedic       0.89      0.91      0.90        35\n",
            "         Urology       0.90      0.95      0.93        20\n",
            "\n",
            "        accuracy                           0.84       102\n",
            "       macro avg       0.71      0.67      0.69       102\n",
            "    weighted avg       0.89      0.84      0.86       102\n",
            "\n"
          ]
        }
      ],
      "source": [
        "print (classification_report(preds_df[\"category\"], preds_df[\"result\"]))"
      ]
    },
    {
      "cell_type": "markdown",
      "metadata": {
        "id": "xIjin3kR9oaD"
      },
      "source": [
        "### Generic Classifier"
      ]
    },
    {
      "cell_type": "code",
      "execution_count": 28,
      "metadata": {
        "id": "kbBy9Fei9oaD"
      },
      "outputs": [],
      "source": [
        "from sparknlp_jsl.annotator import TFGraphBuilder\n",
        "\n",
        "graph_folder = \"gc_graph\"\n",
        "\n",
        "gc_graph_builder = TFGraphBuilder()\\\n",
        "    .setModelName(\"generic_classifier\")\\\n",
        "    .setInputCols([\"features\"])\\\n",
        "    .setLabelColumn(\"category\")\\\n",
        "    .setHiddenLayers([300,200, 50])\\\n",
        "    .setHiddenAct(\"tanh\")\\\n",
        "    .setHiddenActL2(True)\\\n",
        "    .setBatchNorm(True)\\\n",
        "    .setGraphFolder(graph_folder)\\\n",
        "    .setGraphFile(\"gcf_graph_100d.pb\")"
      ]
    },
    {
      "cell_type": "code",
      "execution_count": 29,
      "metadata": {
        "id": "k_4aonYQ9oaD"
      },
      "outputs": [],
      "source": [
        "features_asm = FeaturesAssembler()\\\n",
        "    .setInputCols([\"sentence_embeddings\"])\\\n",
        "    .setOutputCol(\"features\")\n",
        "      \n",
        "gen_clf = GenericClassifierApproach()\\\n",
        "    .setLabelColumn(\"category\")\\\n",
        "    .setInputCols(\"features\")\\\n",
        "    .setOutputCol(\"prediction\")\\\n",
        "    .setModelFile(f\"{graph_folder}/gcf_graph_100d.pb\")\\\n",
        "    .setEpochsNumber(50)\\\n",
        "    .setBatchSize(32)\\\n",
        "    .setLearningRate(0.001)\\\n",
        "    .setOutputLogsPath(log_folder)\\\n",
        "    .setDropout(0.3)\\\n",
        "    .setFixImbalance(False)\\\n",
        "    # .setValidationSplit(0.1)\n",
        "\n",
        "clf_Pipeline = Pipeline(stages=[\n",
        "    features_asm,\n",
        "    gc_graph_builder,\n",
        "    gen_clf])\n"
      ]
    },
    {
      "cell_type": "code",
      "execution_count": 30,
      "metadata": {
        "colab": {
          "base_uri": "https://localhost:8080/"
        },
        "id": "4LA5_oIb9oaE",
        "outputId": "b489e56c-2743-4326-8c64-64b146a2f106"
      },
      "outputs": [
        {
          "output_type": "stream",
          "name": "stdout",
          "text": [
            "TF Graph Builder configuration:\n",
            "Model name: generic_classifier\n",
            "Graph folder: gc_graph\n",
            "Graph file name: gcf_graph_100d.pb\n",
            "Build params: {'input_dim': 100, 'output_dim': 4, 'hidden_layers': [300, 200, 50], 'hidden_act': 'tanh', 'hidden_act_l2': True, 'batch_norm': True}\n"
          ]
        },
        {
          "output_type": "stream",
          "name": "stderr",
          "text": [
            "WARNING:tensorflow:From /usr/local/lib/python3.8/dist-packages/keras/layers/normalization/batch_normalization.py:561: _colocate_with (from tensorflow.python.framework.ops) is deprecated and will be removed in a future version.\n",
            "Instructions for updating:\n",
            "Colocations handled automatically by placer.\n"
          ]
        },
        {
          "output_type": "stream",
          "name": "stdout",
          "text": [
            "generic_classifier graph exported to gc_graph/gcf_graph_100d.pb\n"
          ]
        }
      ],
      "source": [
        "generic_model_hc100 = clf_Pipeline.fit(trainingData_with_embeddings)"
      ]
    },
    {
      "cell_type": "code",
      "execution_count": 31,
      "metadata": {
        "id": "YSMrZRPx9oaE"
      },
      "outputs": [],
      "source": [
        "pred_df = generic_model_hc100.transform(testData_with_embeddings)"
      ]
    },
    {
      "cell_type": "code",
      "execution_count": 32,
      "metadata": {
        "colab": {
          "base_uri": "https://localhost:8080/"
        },
        "id": "geckbyhy9oaE",
        "outputId": "01f06a0f-0db5-4740-b74e-21d17793373a"
      },
      "outputs": [
        {
          "output_type": "stream",
          "name": "stdout",
          "text": [
            "                  precision    recall  f1-score   support\n",
            "\n",
            "Gastroenterology       0.92      0.88      0.90        25\n",
            "       Neurology       0.81      0.77      0.79        22\n",
            "      Orthopedic       0.89      0.91      0.90        35\n",
            "         Urology       0.90      0.95      0.93        20\n",
            "\n",
            "        accuracy                           0.88       102\n",
            "       macro avg       0.88      0.88      0.88       102\n",
            "    weighted avg       0.88      0.88      0.88       102\n",
            "\n"
          ]
        }
      ],
      "source": [
        "preds_df = pred_df.select('category','prediction.result').toPandas()\n",
        "preds_df['result'] = preds_df.result.apply(lambda x : x[0])\n",
        "\n",
        "print (classification_report(preds_df['category'], preds_df['result']))"
      ]
    },
    {
      "cell_type": "markdown",
      "metadata": {
        "id": "hOnIAdo9XKrE"
      },
      "source": [
        "### GenericLogRegClassifier"
      ]
    },
    {
      "cell_type": "code",
      "execution_count": 33,
      "metadata": {
        "id": "xC6Kg1KeXKrE"
      },
      "outputs": [],
      "source": [
        "from sparknlp_jsl.annotator import TFGraphBuilder\n",
        "\n",
        "graph_folder = \"gc_graph\"\n",
        "\n",
        "gc_logreg_graph_builder = TFGraphBuilder()\\\n",
        "    .setModelName(\"logreg_classifier\")\\\n",
        "    .setInputCols([\"feature_vector\"]) \\\n",
        "    .setLabelColumn(\"category\")\\\n",
        "    .setGraphFolder(graph_folder)\\\n",
        "    .setGraphFile(\"log_reg_graph.pb\")"
      ]
    },
    {
      "cell_type": "markdown",
      "metadata": {
        "id": "8R6PZ_qlXKrE"
      },
      "source": [
        "GenericLogRegClassifier needs outputs from FeaturesAssembler. The FeaturesAssembler is used to collect features from different columns or an embeddings column.\n",
        "\n",
        "The GenericLogRegClassifier takes FEATURE_VECTOR annotations as input, classifies them and outputs CATEGORY annotations."
      ]
    },
    {
      "cell_type": "code",
      "execution_count": 34,
      "metadata": {
        "id": "EWrEoT2sXKrF"
      },
      "outputs": [],
      "source": [
        "features_asm = FeaturesAssembler()\\\n",
        "    .setInputCols([\"sentence_embeddings\"])\\\n",
        "    .setOutputCol(\"feature_vector\")\n",
        "      \n",
        "gen_clf = GenericLogRegClassifierApproach()\\\n",
        "    .setLabelColumn(\"category\")\\\n",
        "    .setInputCols(\"feature_vector\")\\\n",
        "    .setOutputCol(\"prediction\")\\\n",
        "    .setModelFile(f\"{graph_folder}/log_reg_graph.pb\")\\\n",
        "    .setEpochsNumber(25)\\\n",
        "    .setBatchSize(128)\\\n",
        "    .setLearningRate(0.004)\\\n",
        "    .setOutputLogsPath(log_folder)\\\n",
        "    .setDropout(0.2)\\\n",
        "    .setFixImbalance(True)\\\n",
        "    # .setValidationSplit(0.1)\n",
        "\n",
        "clf_Pipeline = Pipeline(stages=[\n",
        "    features_asm,\n",
        "    gc_logreg_graph_builder,\n",
        "    gen_clf])\n"
      ]
    },
    {
      "cell_type": "code",
      "execution_count": 35,
      "metadata": {
        "colab": {
          "base_uri": "https://localhost:8080/"
        },
        "outputId": "2dedd1fd-b2d4-4bfa-bb7f-6b1dd6cdf330",
        "id": "Bfkzw4n3XKrF"
      },
      "outputs": [
        {
          "output_type": "stream",
          "name": "stdout",
          "text": [
            "TF Graph Builder configuration:\n",
            "Model name: logreg_classifier\n",
            "Graph folder: gc_graph\n",
            "Graph file name: log_reg_graph.pb\n",
            "Build params: {'input_dim': 100, 'output_dim': 4, 'hidden_layers': [], 'output_act': 'sigmoid'}\n",
            "logreg_classifier graph exported to gc_graph/log_reg_graph.pb\n"
          ]
        }
      ],
      "source": [
        "generic_model_hc100 = clf_Pipeline.fit(trainingData_with_embeddings)"
      ]
    },
    {
      "cell_type": "code",
      "execution_count": 36,
      "metadata": {
        "colab": {
          "base_uri": "https://localhost:8080/"
        },
        "outputId": "2b4c2150-0465-4d8e-be0c-ce56513998a4",
        "id": "_N1mFDPUXKrF"
      },
      "outputs": [
        {
          "output_type": "stream",
          "name": "stdout",
          "text": [
            "Training 25 epochs\n",
            "Epoch 1/25\t0.08s\tLoss: 3.3014627\tACC: 0.25\n",
            "Epoch 2/25\t0.01s\tLoss: 3.105043\tACC: 0.29010418\n",
            "Epoch 3/25\t0.01s\tLoss: 2.9731028\tACC: 0.2682292\n",
            "Epoch 4/25\t0.01s\tLoss: 2.8684158\tACC: 0.3385417\n",
            "Epoch 5/25\t0.01s\tLoss: 2.8149989\tACC: 0.34270832\n",
            "Epoch 6/25\t0.01s\tLoss: 2.758082\tACC: 0.36302084\n",
            "Epoch 7/25\t0.01s\tLoss: 2.7520964\tACC: 0.334375\n",
            "Epoch 8/25\t0.01s\tLoss: 2.7168496\tACC: 0.34791666\n",
            "Epoch 9/25\t0.01s\tLoss: 2.6751735\tACC: 0.38333336\n",
            "Epoch 10/25\t0.01s\tLoss: 2.6831145\tACC: 0.3546875\n",
            "Epoch 11/25\t0.01s\tLoss: 2.6507664\tACC: 0.36822918\n",
            "Epoch 12/25\t0.01s\tLoss: 2.6277065\tACC: 0.38645834\n",
            "Epoch 13/25\t0.01s\tLoss: 2.6588118\tACC: 0.359375\n",
            "Epoch 14/25\t0.01s\tLoss: 2.6552174\tACC: 0.3375\n",
            "Epoch 15/25\t0.01s\tLoss: 2.6105545\tACC: 0.3671875\n",
            "Epoch 16/25\t0.01s\tLoss: 2.5974798\tACC: 0.40260416\n",
            "Epoch 17/25\t0.01s\tLoss: 2.612493\tACC: 0.41614586\n",
            "Epoch 18/25\t0.01s\tLoss: 2.6132898\tACC: 0.42083335\n",
            "Epoch 19/25\t0.01s\tLoss: 2.5750844\tACC: 0.44791666\n",
            "Epoch 20/25\t0.01s\tLoss: 2.5674896\tACC: 0.49375\n",
            "Epoch 21/25\t0.01s\tLoss: 2.5310612\tACC: 0.48072916\n",
            "Epoch 22/25\t0.01s\tLoss: 2.5172524\tACC: 0.4578125\n",
            "Epoch 23/25\t0.01s\tLoss: 2.5201876\tACC: 0.4640625\n",
            "Epoch 24/25\t0.01s\tLoss: 2.4889143\tACC: 0.478125\n",
            "Epoch 25/25\t0.01s\tLoss: 2.5169787\tACC: 0.45572916\n",
            "Training completed.\n"
          ]
        }
      ],
      "source": [
        "!cat $log_folder/GenericLogRegClassifierApproach*"
      ]
    },
    {
      "cell_type": "code",
      "execution_count": 37,
      "metadata": {
        "id": "FAP8vtiUXKrG"
      },
      "outputs": [],
      "source": [
        "pred_df = generic_model_hc100.transform(testData_with_embeddings)"
      ]
    },
    {
      "cell_type": "code",
      "execution_count": 38,
      "metadata": {
        "colab": {
          "base_uri": "https://localhost:8080/"
        },
        "outputId": "0f2c6935-50bc-49c3-d872-4e08965c534b",
        "id": "C6TkkGApXKrG"
      },
      "outputs": [
        {
          "output_type": "stream",
          "name": "stdout",
          "text": [
            "root\n",
            " |-- text: string (nullable = true)\n",
            " |-- category: string (nullable = true)\n",
            " |-- sentence_embeddings: array (nullable = true)\n",
            " |    |-- element: struct (containsNull = true)\n",
            " |    |    |-- annotatorType: string (nullable = true)\n",
            " |    |    |-- begin: integer (nullable = false)\n",
            " |    |    |-- end: integer (nullable = false)\n",
            " |    |    |-- result: string (nullable = true)\n",
            " |    |    |-- metadata: map (nullable = true)\n",
            " |    |    |    |-- key: string\n",
            " |    |    |    |-- value: string (valueContainsNull = true)\n",
            " |    |    |-- embeddings: array (nullable = true)\n",
            " |    |    |    |-- element: float (containsNull = false)\n",
            " |-- category_array: array (nullable = false)\n",
            " |    |-- element: string (containsNull = true)\n",
            " |-- prediction: array (nullable = true)\n",
            " |    |-- element: struct (containsNull = true)\n",
            " |    |    |-- annotatorType: string (nullable = true)\n",
            " |    |    |-- begin: integer (nullable = false)\n",
            " |    |    |-- end: integer (nullable = false)\n",
            " |    |    |-- result: string (nullable = true)\n",
            " |    |    |-- metadata: map (nullable = true)\n",
            " |    |    |    |-- key: string\n",
            " |    |    |    |-- value: string (valueContainsNull = true)\n",
            " |    |    |-- embeddings: array (nullable = true)\n",
            " |    |    |    |-- element: float (containsNull = false)\n",
            "\n",
            "+------------------------------------------------------------------------------------------------------------------------------------------------------------------------------------------------------------------------------------------------------------------------------------------------------------------------------------------+\n",
            "|prediction                                                                                                                                                                                                                                                                                                                                |\n",
            "+------------------------------------------------------------------------------------------------------------------------------------------------------------------------------------------------------------------------------------------------------------------------------------------------------------------------------------------+\n",
            "|[{category, 0, 3978, Gastroenterology, {Gastroenterology -> 0.99850154, Urology -> 0.0016350158, Orthopedic -> 0.03536491, sentence -> 0, Neurology -> 0.012291219}, []}]                                                                                                                                                                 |\n",
            "|[{category, 0, 6515, Gastroenterology, {Gastroenterology -> 0.9747859, Urology -> 4.9774994E-6, Orthopedic -> 0.33014974, sentence -> 0, Neurology -> 0.006431734}, []}]                                                                                                                                                                  |\n",
            "|[{category, 0, 2187, Orthopedic, {Gastroenterology -> 0.99926466, Urology -> 4.935492E-8, Orthopedic -> 0.66924703, sentence -> 0, Neurology -> 0.025283417}, []}, {category, 0, 2187, Gastroenterology, {Gastroenterology -> 0.99926466, Urology -> 4.935492E-8, Orthopedic -> 0.66924703, sentence -> 0, Neurology -> 0.025283417}, []}]|\n",
            "|[{category, 0, 1279, Gastroenterology, {Gastroenterology -> 1.0, Urology -> 1.6816493E-5, Orthopedic -> 1.5491214E-5, sentence -> 0, Neurology -> 1.5020473E-6}, []}]                                                                                                                                                                     |\n",
            "|[{category, 0, 1677, Gastroenterology, {Gastroenterology -> 0.9999999, Urology -> 0.0019551152, Orthopedic -> 5.3364247E-6, sentence -> 0, Neurology -> 1.9282492E-5}, []}]                                                                                                                                                               |\n",
            "+------------------------------------------------------------------------------------------------------------------------------------------------------------------------------------------------------------------------------------------------------------------------------------------------------------------------------------------+\n",
            "only showing top 5 rows\n",
            "\n",
            "+----------------+------------------------------+\n",
            "|category        |prediction.result             |\n",
            "+----------------+------------------------------+\n",
            "|Gastroenterology|[Gastroenterology]            |\n",
            "|Gastroenterology|[Gastroenterology]            |\n",
            "|Gastroenterology|[Orthopedic, Gastroenterology]|\n",
            "|Gastroenterology|[Gastroenterology]            |\n",
            "|Gastroenterology|[Gastroenterology]            |\n",
            "+----------------+------------------------------+\n",
            "only showing top 5 rows\n",
            "\n"
          ]
        }
      ],
      "source": [
        "preds.printSchema()\n",
        "preds.select(preds.prediction).show(5, truncate=False)\n",
        "preds.select(preds.category, preds.prediction.result).show(5, truncate=False)"
      ]
    },
    {
      "cell_type": "code",
      "execution_count": 39,
      "metadata": {
        "colab": {
          "base_uri": "https://localhost:8080/"
        },
        "outputId": "c34fc41a-d42a-4bcb-fe1d-a42defd6ba9a",
        "id": "caRWCdadXKrG"
      },
      "outputs": [
        {
          "output_type": "stream",
          "name": "stdout",
          "text": [
            "                  precision    recall  f1-score   support\n",
            "\n",
            "Gastroenterology       0.78      0.28      0.41        25\n",
            "       Neurology       0.00      0.00      0.00        22\n",
            "      Orthopedic       0.38      1.00      0.55        35\n",
            "         Urology       0.00      0.00      0.00        20\n",
            "\n",
            "        accuracy                           0.41       102\n",
            "       macro avg       0.29      0.32      0.24       102\n",
            "    weighted avg       0.32      0.41      0.29       102\n",
            "\n"
          ]
        }
      ],
      "source": [
        "preds_df = pred_df.select('category','prediction.result').toPandas()\n",
        "preds_df['result'] = preds_df.result.apply(lambda x : x[0])\n",
        "\n",
        "print (classification_report(preds_df['category'], preds_df['result']))"
      ]
    },
    {
      "cell_type": "code",
      "source": [],
      "metadata": {
        "id": "BORghUP2XYdp"
      },
      "execution_count": 39,
      "outputs": []
    },
    {
      "cell_type": "markdown",
      "metadata": {
        "id": "wNNMzT-XXYmA"
      },
      "source": [
        "### GenericSVMClassifier"
      ]
    },
    {
      "cell_type": "code",
      "execution_count": 40,
      "metadata": {
        "id": "M7ludWh3XYmB"
      },
      "outputs": [],
      "source": [
        "from sparknlp_jsl.annotator import TFGraphBuilder\n",
        "\n",
        "graph_folder = \"gc_graph\"\n",
        "\n",
        "gc_svm_graph_builder = TFGraphBuilder()\\\n",
        "    .setModelName(\"svm_classifier\")\\\n",
        "    .setInputCols([\"feature_vector\"]) \\\n",
        "    .setLabelColumn(\"category\")\\\n",
        "    .setGraphFolder(graph_folder)\\\n",
        "    .setGraphFile(\"svm_graph.pb\")"
      ]
    },
    {
      "cell_type": "markdown",
      "metadata": {
        "id": "pLqqH3HOXYmB"
      },
      "source": [
        "GenericSVMClassifier needs outputs from FeaturesAssembler. The FeaturesAssembler is used to collect features from different columns or an embeddings column.\n",
        "\n",
        "The GenericSVMClassifier takes FEATURE_VECTOR annotations as input, classifies them and outputs CATEGORY annotations."
      ]
    },
    {
      "cell_type": "code",
      "execution_count": 41,
      "metadata": {
        "id": "jNZAxL3iXYmB"
      },
      "outputs": [],
      "source": [
        "features_asm = FeaturesAssembler()\\\n",
        "    .setInputCols([\"sentence_embeddings\"])\\\n",
        "    .setOutputCol(\"feature_vector\")\n",
        "      \n",
        "gen_clf = GenericSVMClassifierApproach()\\\n",
        "    .setLabelColumn(\"category\")\\\n",
        "    .setInputCols(\"feature_vector\")\\\n",
        "    .setOutputCol(\"prediction\")\\\n",
        "    .setModelFile(f\"{graph_folder}/svm_graph.pb\")\\\n",
        "    .setEpochsNumber(25)\\\n",
        "    .setBatchSize(128)\\\n",
        "    .setLearningRate(0.004)\\\n",
        "    .setOutputLogsPath(log_folder)\\\n",
        "    .setDropout(0.2)\\\n",
        "    .setFixImbalance(True)\\\n",
        "    # .setValidationSplit(0.1)\n",
        "\n",
        "clf_Pipeline = Pipeline(stages=[\n",
        "    features_asm,\n",
        "    gc_svm_graph_builder,\n",
        "    gen_clf])\n"
      ]
    },
    {
      "cell_type": "code",
      "execution_count": 42,
      "metadata": {
        "colab": {
          "base_uri": "https://localhost:8080/"
        },
        "outputId": "18d8ff47-8889-4bc7-beab-afd363308d3d",
        "id": "FOpLj7MbXYmB"
      },
      "outputs": [
        {
          "output_type": "stream",
          "name": "stdout",
          "text": [
            "TF Graph Builder configuration:\n",
            "Model name: svm_classifier\n",
            "Graph folder: gc_graph\n",
            "Graph file name: svm_graph.pb\n",
            "Build params: {'input_dim': 100, 'output_dim': 4, 'hidden_layers': [], 'output_act': 'sigmoid', 'loss_func': 'hinge'}\n",
            "svm_classifier graph exported to gc_graph/svm_graph.pb\n"
          ]
        }
      ],
      "source": [
        "generic_model_hc100 = clf_Pipeline.fit(trainingData_with_embeddings)"
      ]
    },
    {
      "cell_type": "code",
      "execution_count": 43,
      "metadata": {
        "colab": {
          "base_uri": "https://localhost:8080/"
        },
        "outputId": "43aa1182-6158-400d-aeb0-caa244b90fb3",
        "id": "yuQFrBbNXYmB"
      },
      "outputs": [
        {
          "output_type": "stream",
          "name": "stdout",
          "text": [
            "Training 25 epochs\n",
            "Epoch 1/25\t0.09s\tLoss: 5.7645335\tACC: 0.32708332\n",
            "Epoch 2/25\t0.01s\tLoss: 5.4396033\tACC: 0.346875\n",
            "Epoch 3/25\t0.01s\tLoss: 5.2420816\tACC: 0.371875\n",
            "Epoch 4/25\t0.01s\tLoss: 5.1173368\tACC: 0.4546875\n",
            "Epoch 5/25\t0.01s\tLoss: 5.069068\tACC: 0.48333335\n",
            "Epoch 6/25\t0.01s\tLoss: 5.0111904\tACC: 0.43333334\n",
            "Epoch 7/25\t0.01s\tLoss: 4.908137\tACC: 0.47708336\n",
            "Epoch 8/25\t0.01s\tLoss: 4.8826556\tACC: 0.521875\n",
            "Epoch 9/25\t0.01s\tLoss: 4.695424\tACC: 0.55\n",
            "Epoch 10/25\t0.01s\tLoss: 4.760127\tACC: 0.5442709\n",
            "Epoch 11/25\t0.01s\tLoss: 4.655547\tACC: 0.55364585\n",
            "Epoch 12/25\t0.01s\tLoss: 4.628164\tACC: 0.55572915\n",
            "Epoch 13/25\t0.01s\tLoss: 4.607344\tACC: 0.58489585\n",
            "Epoch 14/25\t0.01s\tLoss: 4.4588337\tACC: 0.6197916\n",
            "Epoch 15/25\t0.01s\tLoss: 4.4664936\tACC: 0.6010417\n",
            "Epoch 16/25\t0.01s\tLoss: 4.4386697\tACC: 0.6067709\n",
            "Epoch 17/25\t0.01s\tLoss: 4.391735\tACC: 0.6265625\n",
            "Epoch 18/25\t0.01s\tLoss: 4.3258085\tACC: 0.64270836\n",
            "Epoch 19/25\t0.01s\tLoss: 4.376319\tACC: 0.65625\n",
            "Epoch 20/25\t0.01s\tLoss: 4.2476535\tACC: 0.63489586\n",
            "Epoch 21/25\t0.01s\tLoss: 4.2575703\tACC: 0.66197914\n",
            "Epoch 22/25\t0.01s\tLoss: 4.1463757\tACC: 0.7270833\n",
            "Epoch 23/25\t0.01s\tLoss: 4.1052628\tACC: 0.6703125\n",
            "Epoch 24/25\t0.01s\tLoss: 3.990369\tACC: 0.675\n",
            "Epoch 25/25\t0.01s\tLoss: 3.989086\tACC: 0.6875\n",
            "Training completed.\n"
          ]
        }
      ],
      "source": [
        "!cat $log_folder/GenericSVMClassifierApproach*"
      ]
    },
    {
      "cell_type": "code",
      "execution_count": 44,
      "metadata": {
        "id": "pN0Ts7VqXYmC"
      },
      "outputs": [],
      "source": [
        "pred_df = generic_model_hc100.transform(testData_with_embeddings)"
      ]
    },
    {
      "cell_type": "code",
      "execution_count": 45,
      "metadata": {
        "colab": {
          "base_uri": "https://localhost:8080/"
        },
        "outputId": "2ecdd7c7-c546-4b38-d1aa-1ae6ec439ba0",
        "id": "EKZUU1fMXYmC"
      },
      "outputs": [
        {
          "output_type": "stream",
          "name": "stdout",
          "text": [
            "root\n",
            " |-- text: string (nullable = true)\n",
            " |-- category: string (nullable = true)\n",
            " |-- sentence_embeddings: array (nullable = true)\n",
            " |    |-- element: struct (containsNull = true)\n",
            " |    |    |-- annotatorType: string (nullable = true)\n",
            " |    |    |-- begin: integer (nullable = false)\n",
            " |    |    |-- end: integer (nullable = false)\n",
            " |    |    |-- result: string (nullable = true)\n",
            " |    |    |-- metadata: map (nullable = true)\n",
            " |    |    |    |-- key: string\n",
            " |    |    |    |-- value: string (valueContainsNull = true)\n",
            " |    |    |-- embeddings: array (nullable = true)\n",
            " |    |    |    |-- element: float (containsNull = false)\n",
            " |-- category_array: array (nullable = false)\n",
            " |    |-- element: string (containsNull = true)\n",
            " |-- prediction: array (nullable = true)\n",
            " |    |-- element: struct (containsNull = true)\n",
            " |    |    |-- annotatorType: string (nullable = true)\n",
            " |    |    |-- begin: integer (nullable = false)\n",
            " |    |    |-- end: integer (nullable = false)\n",
            " |    |    |-- result: string (nullable = true)\n",
            " |    |    |-- metadata: map (nullable = true)\n",
            " |    |    |    |-- key: string\n",
            " |    |    |    |-- value: string (valueContainsNull = true)\n",
            " |    |    |-- embeddings: array (nullable = true)\n",
            " |    |    |    |-- element: float (containsNull = false)\n",
            "\n",
            "+------------------------------------------------------------------------------------------------------------------------------------------------------------------------------------------------------------------------------------------------------------------------------------------------------------------------------------------+\n",
            "|prediction                                                                                                                                                                                                                                                                                                                                |\n",
            "+------------------------------------------------------------------------------------------------------------------------------------------------------------------------------------------------------------------------------------------------------------------------------------------------------------------------------------------+\n",
            "|[{category, 0, 3978, Gastroenterology, {Gastroenterology -> 0.99850154, Urology -> 0.0016350158, Orthopedic -> 0.03536491, sentence -> 0, Neurology -> 0.012291219}, []}]                                                                                                                                                                 |\n",
            "|[{category, 0, 6515, Gastroenterology, {Gastroenterology -> 0.9747859, Urology -> 4.9774994E-6, Orthopedic -> 0.33014974, sentence -> 0, Neurology -> 0.006431734}, []}]                                                                                                                                                                  |\n",
            "|[{category, 0, 2187, Orthopedic, {Gastroenterology -> 0.99926466, Urology -> 4.935492E-8, Orthopedic -> 0.66924703, sentence -> 0, Neurology -> 0.025283417}, []}, {category, 0, 2187, Gastroenterology, {Gastroenterology -> 0.99926466, Urology -> 4.935492E-8, Orthopedic -> 0.66924703, sentence -> 0, Neurology -> 0.025283417}, []}]|\n",
            "|[{category, 0, 1279, Gastroenterology, {Gastroenterology -> 1.0, Urology -> 1.6816493E-5, Orthopedic -> 1.5491214E-5, sentence -> 0, Neurology -> 1.5020473E-6}, []}]                                                                                                                                                                     |\n",
            "|[{category, 0, 1677, Gastroenterology, {Gastroenterology -> 0.9999999, Urology -> 0.0019551152, Orthopedic -> 5.3364247E-6, sentence -> 0, Neurology -> 1.9282492E-5}, []}]                                                                                                                                                               |\n",
            "+------------------------------------------------------------------------------------------------------------------------------------------------------------------------------------------------------------------------------------------------------------------------------------------------------------------------------------------+\n",
            "only showing top 5 rows\n",
            "\n",
            "+----------------+------------------------------+\n",
            "|category        |prediction.result             |\n",
            "+----------------+------------------------------+\n",
            "|Gastroenterology|[Gastroenterology]            |\n",
            "|Gastroenterology|[Gastroenterology]            |\n",
            "|Gastroenterology|[Orthopedic, Gastroenterology]|\n",
            "|Gastroenterology|[Gastroenterology]            |\n",
            "|Gastroenterology|[Gastroenterology]            |\n",
            "+----------------+------------------------------+\n",
            "only showing top 5 rows\n",
            "\n"
          ]
        }
      ],
      "source": [
        "preds.printSchema()\n",
        "preds.select(preds.prediction).show(5, truncate=False)\n",
        "preds.select(preds.category, preds.prediction.result).show(5, truncate=False)"
      ]
    },
    {
      "cell_type": "code",
      "execution_count": 46,
      "metadata": {
        "colab": {
          "base_uri": "https://localhost:8080/"
        },
        "outputId": "595d644b-704f-4d35-eccf-a4747edd6985",
        "id": "KRFJdGyEXYmC"
      },
      "outputs": [
        {
          "output_type": "stream",
          "name": "stdout",
          "text": [
            "                  precision    recall  f1-score   support\n",
            "\n",
            "Gastroenterology       0.64      0.84      0.72        25\n",
            "       Neurology       0.82      0.64      0.72        22\n",
            "      Orthopedic       0.65      0.94      0.77        35\n",
            "         Urology       1.00      0.05      0.10        20\n",
            "\n",
            "        accuracy                           0.68       102\n",
            "       macro avg       0.78      0.62      0.58       102\n",
            "    weighted avg       0.75      0.68      0.61       102\n",
            "\n"
          ]
        }
      ],
      "source": [
        "preds_df = pred_df.select('category','prediction.result').toPandas()\n",
        "preds_df['result'] = preds_df.result.apply(lambda x : x[0])\n",
        "\n",
        "print (classification_report(preds_df['category'], preds_df['result']))"
      ]
    },
    {
      "cell_type": "markdown",
      "metadata": {
        "id": "kF60nUsj9oaE"
      },
      "source": [
        "## 200 Dimension Healthcare Embeddings (embeddings_clinical)\n",
        "\n"
      ]
    },
    {
      "cell_type": "markdown",
      "metadata": {
        "id": "fBJMu9pr9oaE"
      },
      "source": [
        "Now we will extract [embeddings_clinical](https://nlp.johnsnowlabs.com/2020/01/28/embeddings_clinical_en.html) embeddings which has 200 dimension output and use this embeddings in the model training."
      ]
    },
    {
      "cell_type": "code",
      "execution_count": 47,
      "metadata": {
        "colab": {
          "base_uri": "https://localhost:8080/"
        },
        "id": "PzSG35rb9oaE",
        "outputId": "df551511-c192-4188-e698-daf0dcea06f8"
      },
      "outputs": [
        {
          "output_type": "stream",
          "name": "stdout",
          "text": [
            "embeddings_clinical download started this may take some time.\n",
            "Approximate size to download 1.6 GB\n",
            "[OK!]\n"
          ]
        }
      ],
      "source": [
        "document_assembler = DocumentAssembler()\\\n",
        "        .setInputCol(\"text\")\\\n",
        "        .setOutputCol(\"document\")\n",
        "\n",
        "tokenizer = Tokenizer() \\\n",
        "            .setInputCols([\"document\"]) \\\n",
        "            .setOutputCol(\"token\")\n",
        "\n",
        "word_embeddings = WordEmbeddingsModel.pretrained(\"embeddings_clinical\",\"en\",\"clinical/models\")\\\n",
        "        .setInputCols([\"document\",\"token\"])\\\n",
        "        .setOutputCol(\"word_embeddings\")\n",
        "\n",
        "sentence_embeddings = SentenceEmbeddings() \\\n",
        "        .setInputCols([\"document\", \"word_embeddings\"]) \\\n",
        "        .setOutputCol(\"sentence_embeddings\") \\\n",
        "        .setPoolingStrategy(\"AVERAGE\")\n",
        "\n",
        "embeddings_pipeline = Pipeline(\n",
        "    stages = [\n",
        "        document_assembler,\n",
        "        tokenizer,\n",
        "        word_embeddings,\n",
        "        sentence_embeddings,\n",
        "    ])"
      ]
    },
    {
      "cell_type": "code",
      "execution_count": 48,
      "metadata": {
        "colab": {
          "base_uri": "https://localhost:8080/"
        },
        "id": "MXN8Cqyp9oaF",
        "outputId": "2201a5ee-9920-48c9-d58b-e7636cb750d7"
      },
      "outputs": [
        {
          "output_type": "stream",
          "name": "stdout",
          "text": [
            "+--------------------------------------------------------------------------------+----------------+--------------------------------------------------------------------------------+\n",
            "|                                                                            text|        category|                                                             sentence_embeddings|\n",
            "+--------------------------------------------------------------------------------+----------------+--------------------------------------------------------------------------------+\n",
            "| ADMISSION DIAGNOSIS: Symptomatic cholelithiasis. DISCHARGE DIAGNOSIS: Sympto...|Gastroenterology|[{sentence_embeddings, 0, 2228,  ADMISSION DIAGNOSIS: Symptomatic cholelithia...|\n",
            "| ADMITTING DIAGNOSES: Hiatal hernia, gastroesophageal reflux disease reflux. ...|Gastroenterology|[{sentence_embeddings, 0, 3237,  ADMITTING DIAGNOSES: Hiatal hernia, gastroes...|\n",
            "+--------------------------------------------------------------------------------+----------------+--------------------------------------------------------------------------------+\n",
            "only showing top 2 rows\n",
            "\n"
          ]
        }
      ],
      "source": [
        "trainingData_with_embeddings = embeddings_pipeline.fit(trainingData).transform(trainingData)\\\n",
        "                                                  .select(\"text\",\"category\",\"sentence_embeddings\")\n",
        "trainingData_with_embeddings.show(2,truncate=80)"
      ]
    },
    {
      "cell_type": "code",
      "execution_count": 49,
      "metadata": {
        "colab": {
          "base_uri": "https://localhost:8080/"
        },
        "id": "fpBY0D_y9oaF",
        "outputId": "233e2864-3755-456b-e1de-aef170096ea2"
      },
      "outputs": [
        {
          "output_type": "stream",
          "name": "stdout",
          "text": [
            "+--------------------------------------------------------------------------------+----------------+--------------------------------------------------------------------------------+\n",
            "|                                                                            text|        category|                                                             sentence_embeddings|\n",
            "+--------------------------------------------------------------------------------+----------------+--------------------------------------------------------------------------------+\n",
            "| ADMITTING DIAGNOSIS: Gastrointestinal bleed. HISTORY OF PRESENT ILLNESS: Ms....|Gastroenterology|[{sentence_embeddings, 0, 3978,  ADMITTING DIAGNOSIS: Gastrointestinal bleed....|\n",
            "| CHIEF COMPLAINT: Dysphagia and hematemesis while vomiting. HISTORY OF PRESEN...|Gastroenterology|[{sentence_embeddings, 0, 6515,  CHIEF COMPLAINT: Dysphagia and hematemesis w...|\n",
            "+--------------------------------------------------------------------------------+----------------+--------------------------------------------------------------------------------+\n",
            "only showing top 2 rows\n",
            "\n"
          ]
        }
      ],
      "source": [
        "testData_with_embeddings = embeddings_pipeline.fit(testData).transform(testData)\\\n",
        "                                                  .select(\"text\",\"category\",\"sentence_embeddings\")\n",
        "testData_with_embeddings.show(2,truncate=80)"
      ]
    },
    {
      "cell_type": "code",
      "execution_count": 50,
      "metadata": {
        "id": "GGIXfOlX9oaF"
      },
      "outputs": [],
      "source": [
        "log_folder=\"Mt_logs_healthcare_200d\""
      ]
    },
    {
      "cell_type": "markdown",
      "metadata": {
        "id": "5W6ac3UP9oaF"
      },
      "source": [
        "### ClassifierDLApproach "
      ]
    },
    {
      "cell_type": "code",
      "execution_count": 51,
      "metadata": {
        "id": "2z7EgX-q9oaF"
      },
      "outputs": [],
      "source": [
        "classifier_dl = ClassifierDLApproach()\\\n",
        "        .setInputCols([\"sentence_embeddings\"])\\\n",
        "        .setOutputCol(\"class\")\\\n",
        "        .setLabelColumn(\"category\")\\\n",
        "        .setBatchSize(8)\\\n",
        "        .setMaxEpochs(50)\\\n",
        "        .setLr(0.005)\\\n",
        "        .setDropout(0.1)\\\n",
        "        .setEnableOutputLogs(True)\\\n",
        "        .setOutputLogsPath(log_folder)\n",
        "\n",
        "classifier_dl_pipeline = Pipeline(stages=[classifier_dl])"
      ]
    },
    {
      "cell_type": "code",
      "execution_count": 52,
      "metadata": {
        "id": "U0mSiCzC9oaF"
      },
      "outputs": [],
      "source": [
        "clfDL_model_hc200 = classifier_dl_pipeline.fit(trainingData_with_embeddings)"
      ]
    },
    {
      "cell_type": "code",
      "execution_count": 53,
      "metadata": {
        "colab": {
          "base_uri": "https://localhost:8080/"
        },
        "id": "boLjiAyP9oaF",
        "outputId": "cd1789d3-d999-4848-bbb3-937e61725079"
      },
      "outputs": [
        {
          "output_type": "stream",
          "name": "stdout",
          "text": [
            "                  precision    recall  f1-score   support\n",
            "\n",
            "Gastroenterology       0.76      0.76      0.76        25\n",
            "       Neurology       0.94      0.68      0.79        22\n",
            "      Orthopedic       0.87      0.97      0.92        35\n",
            "         Urology       0.64      0.70      0.67        20\n",
            "\n",
            "        accuracy                           0.80       102\n",
            "       macro avg       0.80      0.78      0.78       102\n",
            "    weighted avg       0.81      0.80      0.80       102\n",
            "\n"
          ]
        }
      ],
      "source": [
        "preds = clfDL_model_hc200.transform(testData_with_embeddings)\n",
        "\n",
        "preds_df = preds.select(\"category\",\"text\",\"class.result\").toPandas()\n",
        "preds_df[\"result\"] = preds_df[\"result\"].apply(lambda x : x[0])\n",
        "\n",
        "print (classification_report(preds_df[\"category\"], preds_df[\"result\"]))"
      ]
    },
    {
      "cell_type": "markdown",
      "metadata": {
        "id": "y_hWPzoj9oaG"
      },
      "source": [
        "### MultiClassifierDL\n",
        "\n"
      ]
    },
    {
      "cell_type": "code",
      "execution_count": 54,
      "metadata": {
        "id": "mcUXN0td9oaG"
      },
      "outputs": [],
      "source": [
        "# MultiClassifierDL accepts list of strings as input label. So we convert label column to array type.\n",
        "trainingData_with_embeddings = trainingData_with_embeddings.withColumn(\"category_array\", F.array(F.col(\"category\")))\n",
        "testData_with_embeddings = testData_with_embeddings.withColumn(\"category_array\", F.array(F.col(\"category\")))"
      ]
    },
    {
      "cell_type": "code",
      "execution_count": 55,
      "metadata": {
        "id": "4YBVhvLL9oaG"
      },
      "outputs": [],
      "source": [
        "multiClassifier = MultiClassifierDLApproach()\\\n",
        "  .setInputCols(\"sentence_embeddings\")\\\n",
        "  .setOutputCol(\"prediction\")\\\n",
        "  .setLabelColumn(\"category_array\")\\\n",
        "  .setBatchSize(16)\\\n",
        "  .setMaxEpochs(20)\\\n",
        "  .setLr(9e-3)\\\n",
        "  .setThreshold(0.2)\\\n",
        "  .setShufflePerEpoch(False)\\\n",
        "  .setEnableOutputLogs(True)\\\n",
        "  .setOutputLogsPath(log_folder)\\\n",
        "#   .setValidationSplit(0.1)\n",
        "\n",
        "multiClassifier_pipeline = Pipeline(\n",
        "    stages = [\n",
        "        multiClassifier\n",
        "    ])"
      ]
    },
    {
      "cell_type": "code",
      "execution_count": 56,
      "metadata": {
        "id": "ABetRCmn9oaG"
      },
      "outputs": [],
      "source": [
        "multiClassifier_model_hc200 = multiClassifier_pipeline.fit(trainingData_with_embeddings)"
      ]
    },
    {
      "cell_type": "code",
      "execution_count": 57,
      "metadata": {
        "id": "EdZbqqEk9oaG"
      },
      "outputs": [],
      "source": [
        "preds = multiClassifier_model_hc200.transform(testData_with_embeddings)"
      ]
    },
    {
      "cell_type": "code",
      "execution_count": 58,
      "metadata": {
        "colab": {
          "base_uri": "https://localhost:8080/"
        },
        "id": "lY4vVTH29oaG",
        "outputId": "7744b26a-2edd-4574-ea1a-bfd6a1e188d6"
      },
      "outputs": [
        {
          "output_type": "execute_result",
          "data": {
            "text/plain": [
              "['Orthopedic']                        32\n",
              "['Gastroenterology']                  19\n",
              "['Urology']                           18\n",
              "['Neurology']                         13\n",
              "['Neurology', 'Orthopedic']           11\n",
              "[]                                     4\n",
              "['Orthopedic', 'Gastroenterology']     3\n",
              "['Urology', 'Orthopedic']              1\n",
              "['Urology', 'Gastroenterology']        1\n",
              "Name: result, dtype: int64"
            ]
          },
          "metadata": {},
          "execution_count": 58
        }
      ],
      "source": [
        "preds_df = preds.select(\"category\",\"text\",\"prediction.result\",\"prediction.metadata\").toPandas()\n",
        "preds_df.result.apply(lambda x: str(x) ).value_counts()"
      ]
    },
    {
      "cell_type": "code",
      "execution_count": 59,
      "metadata": {
        "colab": {
          "base_uri": "https://localhost:8080/"
        },
        "id": "DOKLfZR59oaH",
        "outputId": "7a301032-11cb-4364-8844-8587615e9a82"
      },
      "outputs": [
        {
          "output_type": "execute_result",
          "data": {
            "text/plain": [
              "Orthopedic          38\n",
              "Gastroenterology    22\n",
              "Urology             20\n",
              "Neurology           18\n",
              "                     4\n",
              "Name: result, dtype: int64"
            ]
          },
          "metadata": {},
          "execution_count": 59
        }
      ],
      "source": [
        "# We will get the highest score label as result. you can control the number of zero label results with setThreshold() in the training.\n",
        "preds_df[\"scores\"] = preds_df.metadata.apply(lambda x: {k:float(v) for k,v in x[0].items()} if len(x)>=1 else \"\")\n",
        "preds_df[\"result\"] = preds_df.scores.apply(lambda x: max(x, key=x.get) if len(x)>=1 else \"\")\n",
        "preds_df[\"result\"].value_counts()"
      ]
    },
    {
      "cell_type": "code",
      "execution_count": 60,
      "metadata": {
        "colab": {
          "base_uri": "https://localhost:8080/"
        },
        "id": "2E9ibEbQ9oaH",
        "outputId": "b7c74b03-3e08-4ce6-9c8f-5ae8f83105dc"
      },
      "outputs": [
        {
          "output_type": "stream",
          "name": "stdout",
          "text": [
            "                  precision    recall  f1-score   support\n",
            "\n",
            "                       0.00      0.00      0.00         0\n",
            "Gastroenterology       1.00      0.88      0.94        25\n",
            "       Neurology       0.89      0.73      0.80        22\n",
            "      Orthopedic       0.87      0.94      0.90        35\n",
            "         Urology       0.90      0.90      0.90        20\n",
            "\n",
            "        accuracy                           0.87       102\n",
            "       macro avg       0.73      0.69      0.71       102\n",
            "    weighted avg       0.91      0.87      0.89       102\n",
            "\n"
          ]
        }
      ],
      "source": [
        "print (classification_report(preds_df[\"category\"], preds_df[\"result\"]))"
      ]
    },
    {
      "cell_type": "markdown",
      "metadata": {
        "id": "7gUOXo5W9oaH"
      },
      "source": [
        "### Generic Classifier "
      ]
    },
    {
      "cell_type": "code",
      "execution_count": 61,
      "metadata": {
        "id": "YaFaVvVg9oaH"
      },
      "outputs": [],
      "source": [
        "# !pip install -q tensorflow==2.7.0 tensorflow_addons"
      ]
    },
    {
      "cell_type": "code",
      "execution_count": 62,
      "metadata": {
        "id": "sRkEeD1N9oaH"
      },
      "outputs": [],
      "source": [
        "from sparknlp_jsl.annotator import TFGraphBuilder\n",
        "\n",
        "graph_folder = \"gc_graph\"\n",
        "\n",
        "gc_graph_builder = TFGraphBuilder()\\\n",
        "    .setModelName(\"generic_classifier\")\\\n",
        "    .setInputCols([\"features\"])\\\n",
        "    .setLabelColumn(\"category\")\\\n",
        "    .setHiddenLayers([300,200, 50])\\\n",
        "    .setHiddenAct(\"tanh\")\\\n",
        "    .setHiddenActL2(True)\\\n",
        "    .setBatchNorm(True)\\\n",
        "    .setGraphFolder(graph_folder)\\\n",
        "    .setGraphFile(\"gcf_graph_200d.pb\")"
      ]
    },
    {
      "cell_type": "code",
      "execution_count": 63,
      "metadata": {
        "id": "NhVTwRJP9oaH"
      },
      "outputs": [],
      "source": [
        "features_asm = FeaturesAssembler()\\\n",
        "    .setInputCols([\"sentence_embeddings\"])\\\n",
        "    .setOutputCol(\"features\")\n",
        "      \n",
        "gen_clf = GenericClassifierApproach()\\\n",
        "    .setLabelColumn(\"category\")\\\n",
        "    .setInputCols(\"features\")\\\n",
        "    .setOutputCol(\"prediction\")\\\n",
        "    .setModelFile(f\"{graph_folder}/gcf_graph_200d.pb\")\\\n",
        "    .setEpochsNumber(30)\\\n",
        "    .setBatchSize(32)\\\n",
        "    .setLearningRate(0.001)\\\n",
        "    .setOutputLogsPath(log_folder)\\\n",
        "    .setDropout(0.3)\\\n",
        "    .setFixImbalance(True)\\\n",
        "    # .setValidationSplit(0.1)\n",
        "\n",
        "clf_Pipeline = Pipeline(stages=[\n",
        "    features_asm,\n",
        "    gc_graph_builder,\n",
        "    gen_clf])\n"
      ]
    },
    {
      "cell_type": "code",
      "execution_count": 64,
      "metadata": {
        "colab": {
          "base_uri": "https://localhost:8080/"
        },
        "id": "98tT6yJQ9oaH",
        "outputId": "1a176e28-5d46-4e2f-ae63-eeade0f97b75"
      },
      "outputs": [
        {
          "output_type": "stream",
          "name": "stdout",
          "text": [
            "TF Graph Builder configuration:\n",
            "Model name: generic_classifier\n",
            "Graph folder: gc_graph\n",
            "Graph file name: gcf_graph_200d.pb\n",
            "Build params: {'input_dim': 200, 'output_dim': 4, 'hidden_layers': [300, 200, 50], 'hidden_act': 'tanh', 'hidden_act_l2': True, 'batch_norm': True}\n",
            "generic_classifier graph exported to gc_graph/gcf_graph_200d.pb\n"
          ]
        }
      ],
      "source": [
        "generic_model_hc200 = clf_Pipeline.fit(trainingData_with_embeddings)"
      ]
    },
    {
      "cell_type": "code",
      "execution_count": 65,
      "metadata": {
        "colab": {
          "base_uri": "https://localhost:8080/"
        },
        "id": "hsId-8YF9oaI",
        "outputId": "d200cdd3-e7dc-47e8-a4e6-e8e49f4dfac8"
      },
      "outputs": [
        {
          "output_type": "stream",
          "name": "stdout",
          "text": [
            "                  precision    recall  f1-score   support\n",
            "\n",
            "Gastroenterology       0.91      0.84      0.87        25\n",
            "       Neurology       0.83      0.86      0.84        22\n",
            "      Orthopedic       0.89      0.91      0.90        35\n",
            "         Urology       0.85      0.85      0.85        20\n",
            "\n",
            "        accuracy                           0.87       102\n",
            "       macro avg       0.87      0.87      0.87       102\n",
            "    weighted avg       0.87      0.87      0.87       102\n",
            "\n"
          ]
        }
      ],
      "source": [
        "pred_df = generic_model_hc200.transform(testData_with_embeddings)\n",
        "\n",
        "preds_df = pred_df.select('category','prediction.result').toPandas()\n",
        "preds_df['result'] = preds_df.result.apply(lambda x : x[0])\n",
        "\n",
        "print (classification_report(preds_df['category'], preds_df['result']))"
      ]
    },
    {
      "cell_type": "code",
      "source": [],
      "metadata": {
        "id": "uCYwGW_dXRLw"
      },
      "execution_count": 65,
      "outputs": []
    },
    {
      "cell_type": "markdown",
      "metadata": {
        "id": "yz9TOU2DXReN"
      },
      "source": [
        "### GenericLogRegClassifier"
      ]
    },
    {
      "cell_type": "code",
      "execution_count": 66,
      "metadata": {
        "id": "w-_bSCH6XReN"
      },
      "outputs": [],
      "source": [
        "from sparknlp_jsl.annotator import TFGraphBuilder\n",
        "\n",
        "graph_folder = \"gc_graph\"\n",
        "\n",
        "gc_logreg_graph_builder = TFGraphBuilder()\\\n",
        "    .setModelName(\"logreg_classifier\")\\\n",
        "    .setInputCols([\"feature_vector\"]) \\\n",
        "    .setLabelColumn(\"category\")\\\n",
        "    .setGraphFolder(graph_folder)\\\n",
        "    .setGraphFile(\"log_reg_graph.pb\")"
      ]
    },
    {
      "cell_type": "markdown",
      "metadata": {
        "id": "e2JtY0P5XReN"
      },
      "source": [
        "GenericLogRegClassifier needs outputs from FeaturesAssembler. The FeaturesAssembler is used to collect features from different columns or an embeddings column.\n",
        "\n",
        "The GenericLogRegClassifier takes FEATURE_VECTOR annotations as input, classifies them and outputs CATEGORY annotations."
      ]
    },
    {
      "cell_type": "code",
      "execution_count": 67,
      "metadata": {
        "id": "baz581gzXReN"
      },
      "outputs": [],
      "source": [
        "features_asm = FeaturesAssembler()\\\n",
        "    .setInputCols([\"sentence_embeddings\"])\\\n",
        "    .setOutputCol(\"feature_vector\")\n",
        "      \n",
        "gen_clf = GenericLogRegClassifierApproach()\\\n",
        "    .setLabelColumn(\"category\")\\\n",
        "    .setInputCols(\"feature_vector\")\\\n",
        "    .setOutputCol(\"prediction\")\\\n",
        "    .setModelFile(f\"{graph_folder}/log_reg_graph.pb\")\\\n",
        "    .setEpochsNumber(25)\\\n",
        "    .setBatchSize(128)\\\n",
        "    .setLearningRate(0.004)\\\n",
        "    .setOutputLogsPath(log_folder)\\\n",
        "    .setDropout(0.2)\\\n",
        "    .setFixImbalance(True)\\\n",
        "    # .setValidationSplit(0.1)\n",
        "\n",
        "clf_Pipeline = Pipeline(stages=[\n",
        "    features_asm,\n",
        "    gc_logreg_graph_builder,\n",
        "    gen_clf])\n"
      ]
    },
    {
      "cell_type": "code",
      "execution_count": 68,
      "metadata": {
        "colab": {
          "base_uri": "https://localhost:8080/"
        },
        "outputId": "20930021-962b-40f6-a70d-c039e8975d06",
        "id": "jVoRHwNmXReO"
      },
      "outputs": [
        {
          "output_type": "stream",
          "name": "stdout",
          "text": [
            "TF Graph Builder configuration:\n",
            "Model name: logreg_classifier\n",
            "Graph folder: gc_graph\n",
            "Graph file name: log_reg_graph.pb\n",
            "Build params: {'input_dim': 200, 'output_dim': 4, 'hidden_layers': [], 'output_act': 'sigmoid'}\n",
            "logreg_classifier graph exported to gc_graph/log_reg_graph.pb\n"
          ]
        }
      ],
      "source": [
        "generic_model_hc100 = clf_Pipeline.fit(trainingData_with_embeddings)"
      ]
    },
    {
      "cell_type": "code",
      "execution_count": 69,
      "metadata": {
        "colab": {
          "base_uri": "https://localhost:8080/"
        },
        "outputId": "3577fdfd-d1f5-4649-c689-13d78b7904e6",
        "id": "cZ0zrybpXReO"
      },
      "outputs": [
        {
          "output_type": "stream",
          "name": "stdout",
          "text": [
            "Training 25 epochs\n",
            "Epoch 1/25\t0.11s\tLoss: 3.1532466\tACC: 0.2234375\n",
            "Epoch 2/25\t0.01s\tLoss: 2.9040172\tACC: 0.27552083\n",
            "Epoch 3/25\t0.01s\tLoss: 2.8123925\tACC: 0.31458333\n",
            "Epoch 4/25\t0.01s\tLoss: 2.7618628\tACC: 0.34270832\n",
            "Epoch 5/25\t0.01s\tLoss: 2.719881\tACC: 0.36614582\n",
            "Epoch 6/25\t0.01s\tLoss: 2.7006655\tACC: 0.34947917\n",
            "Epoch 7/25\t0.01s\tLoss: 2.6769\tACC: 0.36302084\n",
            "Epoch 8/25\t0.01s\tLoss: 2.7031033\tACC: 0.33385417\n",
            "Epoch 9/25\t0.01s\tLoss: 2.6678483\tACC: 0.3619792\n",
            "Epoch 10/25\t0.01s\tLoss: 2.6511176\tACC: 0.3765625\n",
            "Epoch 11/25\t0.01s\tLoss: 2.6291242\tACC: 0.42447916\n",
            "Epoch 12/25\t0.01s\tLoss: 2.5808368\tACC: 0.5328125\n",
            "Epoch 13/25\t0.01s\tLoss: 2.5439658\tACC: 0.5\n",
            "Epoch 14/25\t0.01s\tLoss: 2.5532155\tACC: 0.44479164\n",
            "Epoch 15/25\t0.01s\tLoss: 2.5278938\tACC: 0.39375\n",
            "Epoch 16/25\t0.01s\tLoss: 2.5228848\tACC: 0.4328125\n",
            "Epoch 17/25\t0.01s\tLoss: 2.50916\tACC: 0.47447914\n",
            "Epoch 18/25\t0.01s\tLoss: 2.4812713\tACC: 0.50416666\n",
            "Epoch 19/25\t0.01s\tLoss: 2.4657931\tACC: 0.53697914\n",
            "Epoch 20/25\t0.01s\tLoss: 2.4450657\tACC: 0.5395833\n",
            "Epoch 21/25\t0.01s\tLoss: 2.4331114\tACC: 0.5307292\n",
            "Epoch 22/25\t0.01s\tLoss: 2.4490962\tACC: 0.49947914\n",
            "Epoch 23/25\t0.01s\tLoss: 2.4163942\tACC: 0.5296875\n",
            "Epoch 24/25\t0.01s\tLoss: 2.4028172\tACC: 0.559375\n",
            "Epoch 25/25\t0.01s\tLoss: 2.3917327\tACC: 0.5984375\n",
            "Training completed.\n"
          ]
        }
      ],
      "source": [
        "!cat $log_folder/GenericLogRegClassifierApproach*"
      ]
    },
    {
      "cell_type": "code",
      "execution_count": 70,
      "metadata": {
        "id": "uHg_HbimXReO"
      },
      "outputs": [],
      "source": [
        "pred_df = generic_model_hc100.transform(testData_with_embeddings)"
      ]
    },
    {
      "cell_type": "code",
      "execution_count": 71,
      "metadata": {
        "colab": {
          "base_uri": "https://localhost:8080/"
        },
        "outputId": "c55c0b47-acae-4401-82ed-643de55b8177",
        "id": "Meq71t1BXReO"
      },
      "outputs": [
        {
          "output_type": "stream",
          "name": "stdout",
          "text": [
            "root\n",
            " |-- text: string (nullable = true)\n",
            " |-- category: string (nullable = true)\n",
            " |-- sentence_embeddings: array (nullable = true)\n",
            " |    |-- element: struct (containsNull = true)\n",
            " |    |    |-- annotatorType: string (nullable = true)\n",
            " |    |    |-- begin: integer (nullable = false)\n",
            " |    |    |-- end: integer (nullable = false)\n",
            " |    |    |-- result: string (nullable = true)\n",
            " |    |    |-- metadata: map (nullable = true)\n",
            " |    |    |    |-- key: string\n",
            " |    |    |    |-- value: string (valueContainsNull = true)\n",
            " |    |    |-- embeddings: array (nullable = true)\n",
            " |    |    |    |-- element: float (containsNull = false)\n",
            " |-- category_array: array (nullable = false)\n",
            " |    |-- element: string (containsNull = true)\n",
            " |-- prediction: array (nullable = true)\n",
            " |    |-- element: struct (containsNull = true)\n",
            " |    |    |-- annotatorType: string (nullable = true)\n",
            " |    |    |-- begin: integer (nullable = false)\n",
            " |    |    |-- end: integer (nullable = false)\n",
            " |    |    |-- result: string (nullable = true)\n",
            " |    |    |-- metadata: map (nullable = true)\n",
            " |    |    |    |-- key: string\n",
            " |    |    |    |-- value: string (valueContainsNull = true)\n",
            " |    |    |-- embeddings: array (nullable = true)\n",
            " |    |    |    |-- element: float (containsNull = false)\n",
            "\n",
            "+--------------------------------------------------------------------------------------------------------------------------------------------------------------------------------------------------------------------------------------------------------------------------------------------------------------------------------------------+\n",
            "|prediction                                                                                                                                                                                                                                                                                                                                  |\n",
            "+--------------------------------------------------------------------------------------------------------------------------------------------------------------------------------------------------------------------------------------------------------------------------------------------------------------------------------------------+\n",
            "|[{category, 0, 3978, Gastroenterology, {Gastroenterology -> 0.9801137, Urology -> 3.0257908E-4, Orthopedic -> 0.03028856, sentence -> 0, Neurology -> 0.13503553}, []}]                                                                                                                                                                     |\n",
            "|[{category, 0, 6515, Orthopedic, {Gastroenterology -> 0.9824294, Urology -> 2.4011028E-6, Orthopedic -> 0.44919264, sentence -> 0, Neurology -> 0.0042110765}, []}, {category, 0, 6515, Gastroenterology, {Gastroenterology -> 0.9824294, Urology -> 2.4011028E-6, Orthopedic -> 0.44919264, sentence -> 0, Neurology -> 0.0042110765}, []}]|\n",
            "|[{category, 0, 2187, Orthopedic, {Gastroenterology -> 0.9990965, Urology -> 1.5377817E-6, Orthopedic -> 0.46656576, sentence -> 0, Neurology -> 0.0024354707}, []}, {category, 0, 2187, Gastroenterology, {Gastroenterology -> 0.9990965, Urology -> 1.5377817E-6, Orthopedic -> 0.46656576, sentence -> 0, Neurology -> 0.0024354707}, []}]|\n",
            "|[{category, 0, 1279, Gastroenterology, {Gastroenterology -> 0.9999999, Urology -> 1.7776703E-5, Orthopedic -> 1.6405374E-5, sentence -> 0, Neurology -> 2.384785E-4}, []}]                                                                                                                                                                  |\n",
            "|[{category, 0, 1677, Gastroenterology, {Gastroenterology -> 0.9999949, Urology -> 3.8535136E-6, Orthopedic -> 2.9486715E-4, sentence -> 0, Neurology -> 7.091606E-5}, []}]                                                                                                                                                                  |\n",
            "+--------------------------------------------------------------------------------------------------------------------------------------------------------------------------------------------------------------------------------------------------------------------------------------------------------------------------------------------+\n",
            "only showing top 5 rows\n",
            "\n",
            "+----------------+------------------------------+\n",
            "|category        |prediction.result             |\n",
            "+----------------+------------------------------+\n",
            "|Gastroenterology|[Gastroenterology]            |\n",
            "|Gastroenterology|[Orthopedic, Gastroenterology]|\n",
            "|Gastroenterology|[Orthopedic, Gastroenterology]|\n",
            "|Gastroenterology|[Gastroenterology]            |\n",
            "|Gastroenterology|[Gastroenterology]            |\n",
            "+----------------+------------------------------+\n",
            "only showing top 5 rows\n",
            "\n"
          ]
        }
      ],
      "source": [
        "preds.printSchema()\n",
        "preds.select(preds.prediction).show(5, truncate=False)\n",
        "preds.select(preds.category, preds.prediction.result).show(5, truncate=False)"
      ]
    },
    {
      "cell_type": "code",
      "execution_count": 72,
      "metadata": {
        "colab": {
          "base_uri": "https://localhost:8080/"
        },
        "outputId": "96a019fe-5476-4d41-df16-dac0a4f6ad14",
        "id": "NjByOpYPXReO"
      },
      "outputs": [
        {
          "output_type": "stream",
          "name": "stdout",
          "text": [
            "                  precision    recall  f1-score   support\n",
            "\n",
            "Gastroenterology       0.71      0.60      0.65        25\n",
            "       Neurology       0.77      0.45      0.57        22\n",
            "      Orthopedic       0.50      0.97      0.66        35\n",
            "         Urology       0.00      0.00      0.00        20\n",
            "\n",
            "        accuracy                           0.58       102\n",
            "       macro avg       0.50      0.51      0.47       102\n",
            "    weighted avg       0.51      0.58      0.51       102\n",
            "\n"
          ]
        }
      ],
      "source": [
        "preds_df = pred_df.select('category','prediction.result').toPandas()\n",
        "preds_df['result'] = preds_df.result.apply(lambda x : x[0])\n",
        "\n",
        "print (classification_report(preds_df['category'], preds_df['result']))"
      ]
    },
    {
      "cell_type": "markdown",
      "metadata": {
        "id": "1lkESKp6XaCP"
      },
      "source": [
        "### GenericSVMClassifier"
      ]
    },
    {
      "cell_type": "code",
      "execution_count": 73,
      "metadata": {
        "id": "gs_iLR10XaCP"
      },
      "outputs": [],
      "source": [
        "from sparknlp_jsl.annotator import TFGraphBuilder\n",
        "\n",
        "graph_folder = \"gc_graph\"\n",
        "\n",
        "gc_svm_graph_builder = TFGraphBuilder()\\\n",
        "    .setModelName(\"svm_classifier\")\\\n",
        "    .setInputCols([\"feature_vector\"]) \\\n",
        "    .setLabelColumn(\"category\")\\\n",
        "    .setGraphFolder(graph_folder)\\\n",
        "    .setGraphFile(\"svm_graph.pb\")"
      ]
    },
    {
      "cell_type": "markdown",
      "metadata": {
        "id": "EMVMo7DKXaCP"
      },
      "source": [
        "GenericSVMClassifier needs outputs from FeaturesAssembler. The FeaturesAssembler is used to collect features from different columns or an embeddings column.\n",
        "\n",
        "The GenericSVMClassifier takes FEATURE_VECTOR annotations as input, classifies them and outputs CATEGORY annotations."
      ]
    },
    {
      "cell_type": "code",
      "execution_count": 74,
      "metadata": {
        "id": "QVu8zWtJXaCQ"
      },
      "outputs": [],
      "source": [
        "features_asm = FeaturesAssembler()\\\n",
        "    .setInputCols([\"sentence_embeddings\"])\\\n",
        "    .setOutputCol(\"feature_vector\")\n",
        "      \n",
        "gen_clf = GenericSVMClassifierApproach()\\\n",
        "    .setLabelColumn(\"category\")\\\n",
        "    .setInputCols(\"feature_vector\")\\\n",
        "    .setOutputCol(\"prediction\")\\\n",
        "    .setModelFile(f\"{graph_folder}/svm_graph.pb\")\\\n",
        "    .setEpochsNumber(25)\\\n",
        "    .setBatchSize(128)\\\n",
        "    .setLearningRate(0.004)\\\n",
        "    .setOutputLogsPath(log_folder)\\\n",
        "    .setDropout(0.2)\\\n",
        "    .setFixImbalance(True)\\\n",
        "    # .setValidationSplit(0.1)\n",
        "\n",
        "clf_Pipeline = Pipeline(stages=[\n",
        "    features_asm,\n",
        "    gc_svm_graph_builder,\n",
        "    gen_clf])\n"
      ]
    },
    {
      "cell_type": "code",
      "execution_count": 75,
      "metadata": {
        "colab": {
          "base_uri": "https://localhost:8080/"
        },
        "outputId": "af4dfec2-71e2-43ce-d402-cef45a9c708b",
        "id": "DPRquqVZXaCQ"
      },
      "outputs": [
        {
          "output_type": "stream",
          "name": "stdout",
          "text": [
            "TF Graph Builder configuration:\n",
            "Model name: svm_classifier\n",
            "Graph folder: gc_graph\n",
            "Graph file name: svm_graph.pb\n",
            "Build params: {'input_dim': 200, 'output_dim': 4, 'hidden_layers': [], 'output_act': 'sigmoid', 'loss_func': 'hinge'}\n",
            "svm_classifier graph exported to gc_graph/svm_graph.pb\n"
          ]
        }
      ],
      "source": [
        "generic_model_hc100 = clf_Pipeline.fit(trainingData_with_embeddings)"
      ]
    },
    {
      "cell_type": "code",
      "execution_count": 76,
      "metadata": {
        "colab": {
          "base_uri": "https://localhost:8080/"
        },
        "outputId": "38c49ac9-e145-48e7-80da-f9f1e4709147",
        "id": "aLQpgEx-XaCQ"
      },
      "outputs": [
        {
          "output_type": "stream",
          "name": "stdout",
          "text": [
            "Training 25 epochs\n",
            "Epoch 1/25\t0.10s\tLoss: 5.4002724\tACC: 0.31875\n",
            "Epoch 2/25\t0.01s\tLoss: 5.28392\tACC: 0.36666667\n",
            "Epoch 3/25\t0.01s\tLoss: 5.115946\tACC: 0.4484375\n",
            "Epoch 4/25\t0.01s\tLoss: 5.026103\tACC: 0.5015625\n",
            "Epoch 5/25\t0.01s\tLoss: 5.008495\tACC: 0.484375\n",
            "Epoch 6/25\t0.01s\tLoss: 4.8489227\tACC: 0.55364585\n",
            "Epoch 7/25\t0.01s\tLoss: 4.7669983\tACC: 0.6010417\n",
            "Epoch 8/25\t0.01s\tLoss: 4.774622\tACC: 0.62395835\n",
            "Epoch 9/25\t0.01s\tLoss: 4.5643754\tACC: 0.6510416\n",
            "Epoch 10/25\t0.01s\tLoss: 4.568773\tACC: 0.6333333\n",
            "Epoch 11/25\t0.01s\tLoss: 4.5348177\tACC: 0.6713542\n",
            "Epoch 12/25\t0.01s\tLoss: 4.466629\tACC: 0.6666666\n",
            "Epoch 13/25\t0.01s\tLoss: 4.28304\tACC: 0.69895834\n",
            "Epoch 14/25\t0.01s\tLoss: 4.2987103\tACC: 0.67760414\n",
            "Epoch 15/25\t0.01s\tLoss: 4.2730703\tACC: 0.7140625\n",
            "Epoch 16/25\t0.01s\tLoss: 4.201017\tACC: 0.6869792\n",
            "Epoch 17/25\t0.01s\tLoss: 4.0265555\tACC: 0.6703125\n",
            "Epoch 18/25\t0.01s\tLoss: 4.1114507\tACC: 0.68854165\n",
            "Epoch 19/25\t0.01s\tLoss: 3.9995584\tACC: 0.6588541\n",
            "Epoch 20/25\t0.01s\tLoss: 4.041861\tACC: 0.6848959\n",
            "Epoch 21/25\t0.01s\tLoss: 3.8148277\tACC: 0.72239584\n",
            "Epoch 22/25\t0.01s\tLoss: 3.8636293\tACC: 0.69166666\n",
            "Epoch 23/25\t0.01s\tLoss: 3.857425\tACC: 0.6734375\n",
            "Epoch 24/25\t0.01s\tLoss: 3.6982899\tACC: 0.71770835\n",
            "Epoch 25/25\t0.01s\tLoss: 3.7036548\tACC: 0.7338542\n",
            "Training completed.\n"
          ]
        }
      ],
      "source": [
        "!cat $log_folder/GenericSVMClassifierApproach*"
      ]
    },
    {
      "cell_type": "code",
      "execution_count": 77,
      "metadata": {
        "id": "sgC_XhZJXaCQ"
      },
      "outputs": [],
      "source": [
        "pred_df = generic_model_hc100.transform(testData_with_embeddings)"
      ]
    },
    {
      "cell_type": "code",
      "execution_count": 78,
      "metadata": {
        "colab": {
          "base_uri": "https://localhost:8080/"
        },
        "outputId": "c689635f-e7ef-44e8-a6e0-13060b441172",
        "id": "SmFaDKB3XaCR"
      },
      "outputs": [
        {
          "output_type": "stream",
          "name": "stdout",
          "text": [
            "root\n",
            " |-- text: string (nullable = true)\n",
            " |-- category: string (nullable = true)\n",
            " |-- sentence_embeddings: array (nullable = true)\n",
            " |    |-- element: struct (containsNull = true)\n",
            " |    |    |-- annotatorType: string (nullable = true)\n",
            " |    |    |-- begin: integer (nullable = false)\n",
            " |    |    |-- end: integer (nullable = false)\n",
            " |    |    |-- result: string (nullable = true)\n",
            " |    |    |-- metadata: map (nullable = true)\n",
            " |    |    |    |-- key: string\n",
            " |    |    |    |-- value: string (valueContainsNull = true)\n",
            " |    |    |-- embeddings: array (nullable = true)\n",
            " |    |    |    |-- element: float (containsNull = false)\n",
            " |-- category_array: array (nullable = false)\n",
            " |    |-- element: string (containsNull = true)\n",
            " |-- prediction: array (nullable = true)\n",
            " |    |-- element: struct (containsNull = true)\n",
            " |    |    |-- annotatorType: string (nullable = true)\n",
            " |    |    |-- begin: integer (nullable = false)\n",
            " |    |    |-- end: integer (nullable = false)\n",
            " |    |    |-- result: string (nullable = true)\n",
            " |    |    |-- metadata: map (nullable = true)\n",
            " |    |    |    |-- key: string\n",
            " |    |    |    |-- value: string (valueContainsNull = true)\n",
            " |    |    |-- embeddings: array (nullable = true)\n",
            " |    |    |    |-- element: float (containsNull = false)\n",
            "\n",
            "+--------------------------------------------------------------------------------------------------------------------------------------------------------------------------------------------------------------------------------------------------------------------------------------------------------------------------------------------+\n",
            "|prediction                                                                                                                                                                                                                                                                                                                                  |\n",
            "+--------------------------------------------------------------------------------------------------------------------------------------------------------------------------------------------------------------------------------------------------------------------------------------------------------------------------------------------+\n",
            "|[{category, 0, 3978, Gastroenterology, {Gastroenterology -> 0.9801137, Urology -> 3.0257908E-4, Orthopedic -> 0.03028856, sentence -> 0, Neurology -> 0.13503553}, []}]                                                                                                                                                                     |\n",
            "|[{category, 0, 6515, Orthopedic, {Gastroenterology -> 0.9824294, Urology -> 2.4011028E-6, Orthopedic -> 0.44919264, sentence -> 0, Neurology -> 0.0042110765}, []}, {category, 0, 6515, Gastroenterology, {Gastroenterology -> 0.9824294, Urology -> 2.4011028E-6, Orthopedic -> 0.44919264, sentence -> 0, Neurology -> 0.0042110765}, []}]|\n",
            "|[{category, 0, 2187, Orthopedic, {Gastroenterology -> 0.9990965, Urology -> 1.5377817E-6, Orthopedic -> 0.46656576, sentence -> 0, Neurology -> 0.0024354707}, []}, {category, 0, 2187, Gastroenterology, {Gastroenterology -> 0.9990965, Urology -> 1.5377817E-6, Orthopedic -> 0.46656576, sentence -> 0, Neurology -> 0.0024354707}, []}]|\n",
            "|[{category, 0, 1279, Gastroenterology, {Gastroenterology -> 0.9999999, Urology -> 1.7776703E-5, Orthopedic -> 1.6405374E-5, sentence -> 0, Neurology -> 2.384785E-4}, []}]                                                                                                                                                                  |\n",
            "|[{category, 0, 1677, Gastroenterology, {Gastroenterology -> 0.9999949, Urology -> 3.8535136E-6, Orthopedic -> 2.9486715E-4, sentence -> 0, Neurology -> 7.091606E-5}, []}]                                                                                                                                                                  |\n",
            "+--------------------------------------------------------------------------------------------------------------------------------------------------------------------------------------------------------------------------------------------------------------------------------------------------------------------------------------------+\n",
            "only showing top 5 rows\n",
            "\n",
            "+----------------+------------------------------+\n",
            "|category        |prediction.result             |\n",
            "+----------------+------------------------------+\n",
            "|Gastroenterology|[Gastroenterology]            |\n",
            "|Gastroenterology|[Orthopedic, Gastroenterology]|\n",
            "|Gastroenterology|[Orthopedic, Gastroenterology]|\n",
            "|Gastroenterology|[Gastroenterology]            |\n",
            "|Gastroenterology|[Gastroenterology]            |\n",
            "+----------------+------------------------------+\n",
            "only showing top 5 rows\n",
            "\n"
          ]
        }
      ],
      "source": [
        "preds.printSchema()\n",
        "preds.select(preds.prediction).show(5, truncate=False)\n",
        "preds.select(preds.category, preds.prediction.result).show(5, truncate=False)"
      ]
    },
    {
      "cell_type": "code",
      "execution_count": 79,
      "metadata": {
        "colab": {
          "base_uri": "https://localhost:8080/"
        },
        "outputId": "9e8b1080-def5-43f3-9b64-d70bc4327aa8",
        "id": "05LprRjwXaCR"
      },
      "outputs": [
        {
          "output_type": "stream",
          "name": "stdout",
          "text": [
            "                  precision    recall  f1-score   support\n",
            "\n",
            "Gastroenterology       0.64      0.72      0.68        25\n",
            "       Neurology       0.65      0.77      0.71        22\n",
            "      Orthopedic       0.69      0.89      0.78        35\n",
            "         Urology       1.00      0.15      0.26        20\n",
            "\n",
            "        accuracy                           0.68       102\n",
            "       macro avg       0.75      0.63      0.61       102\n",
            "    weighted avg       0.73      0.68      0.64       102\n",
            "\n"
          ]
        }
      ],
      "source": [
        "preds_df = pred_df.select('category','prediction.result').toPandas()\n",
        "preds_df['result'] = preds_df.result.apply(lambda x : x[0])\n",
        "\n",
        "print (classification_report(preds_df['category'], preds_df['result']))"
      ]
    },
    {
      "cell_type": "markdown",
      "metadata": {
        "id": "2LqFI4dmW4Ep"
      },
      "source": [
        "## Bert Sentence Embeddings (sbiobert_base_cased_mli)"
      ]
    },
    {
      "cell_type": "markdown",
      "metadata": {
        "id": "RcQPzSbOVOpn"
      },
      "source": [
        "We will extract [sbiobert_base_cased_mli](https://nlp.johnsnowlabs.com/2020/11/27/sbiobert_base_cased_mli_en.html) embeddings which has 768 dimension output and use this embeddings in the model training."
      ]
    },
    {
      "cell_type": "code",
      "execution_count": 80,
      "metadata": {
        "colab": {
          "base_uri": "https://localhost:8080/"
        },
        "id": "e7pupvygW4Eq",
        "outputId": "47a7223a-3a2b-4a08-af80-45154ee499fe"
      },
      "outputs": [
        {
          "output_type": "stream",
          "name": "stdout",
          "text": [
            "sbiobert_base_cased_mli download started this may take some time.\n",
            "Approximate size to download 384.3 MB\n",
            "[OK!]\n"
          ]
        }
      ],
      "source": [
        "document_assembler = DocumentAssembler()\\\n",
        "    .setInputCol(\"text\")\\\n",
        "    .setOutputCol(\"document\")\n",
        "        \n",
        "bert_sent = BertSentenceEmbeddings.pretrained(\"sbiobert_base_cased_mli\", 'en','clinical/models')\\\n",
        "    .setInputCols([\"document\"])\\\n",
        "    .setOutputCol(\"sentence_embeddings\")\n",
        "\n",
        "embeddings_pipeline = Pipeline(\n",
        "    stages = [document_assembler,\n",
        "              bert_sent])"
      ]
    },
    {
      "cell_type": "code",
      "execution_count": 81,
      "metadata": {
        "colab": {
          "base_uri": "https://localhost:8080/"
        },
        "id": "A-_AaTGCW4Eq",
        "outputId": "b77f7e76-7e7b-4a91-d953-715167447585"
      },
      "outputs": [
        {
          "output_type": "stream",
          "name": "stdout",
          "text": [
            "+--------------------------------------------------------------------------------+----------------+--------------------------------------------------------------------------------+\n",
            "|                                                                            text|        category|                                                             sentence_embeddings|\n",
            "+--------------------------------------------------------------------------------+----------------+--------------------------------------------------------------------------------+\n",
            "| ADMISSION DIAGNOSIS: Symptomatic cholelithiasis. DISCHARGE DIAGNOSIS: Sympto...|Gastroenterology|[{sentence_embeddings, 0, 2228,  ADMISSION DIAGNOSIS: Symptomatic cholelithia...|\n",
            "| ADMITTING DIAGNOSES: Hiatal hernia, gastroesophageal reflux disease reflux. ...|Gastroenterology|[{sentence_embeddings, 0, 3237,  ADMITTING DIAGNOSES: Hiatal hernia, gastroes...|\n",
            "+--------------------------------------------------------------------------------+----------------+--------------------------------------------------------------------------------+\n",
            "only showing top 2 rows\n",
            "\n"
          ]
        }
      ],
      "source": [
        "trainingData_with_embeddings = embeddings_pipeline.fit(trainingData).transform(trainingData)\\\n",
        "                                                  .select(\"text\",\"category\",\"sentence_embeddings\")\n",
        "\n",
        "trainingData_with_embeddings.show(2,truncate=80)"
      ]
    },
    {
      "cell_type": "code",
      "execution_count": 82,
      "metadata": {
        "colab": {
          "base_uri": "https://localhost:8080/"
        },
        "id": "sGAKs2o0W4Eq",
        "outputId": "ca7b07aa-7627-4649-d2fb-785279e2aabb"
      },
      "outputs": [
        {
          "output_type": "stream",
          "name": "stdout",
          "text": [
            "+--------------------------------------------------------------------------------+----------------+--------------------------------------------------------------------------------+\n",
            "|                                                                            text|        category|                                                             sentence_embeddings|\n",
            "+--------------------------------------------------------------------------------+----------------+--------------------------------------------------------------------------------+\n",
            "| ADMITTING DIAGNOSIS: Gastrointestinal bleed. HISTORY OF PRESENT ILLNESS: Ms....|Gastroenterology|[{sentence_embeddings, 0, 3978,  ADMITTING DIAGNOSIS: Gastrointestinal bleed....|\n",
            "| CHIEF COMPLAINT: Dysphagia and hematemesis while vomiting. HISTORY OF PRESEN...|Gastroenterology|[{sentence_embeddings, 0, 6515,  CHIEF COMPLAINT: Dysphagia and hematemesis w...|\n",
            "+--------------------------------------------------------------------------------+----------------+--------------------------------------------------------------------------------+\n",
            "only showing top 2 rows\n",
            "\n"
          ]
        }
      ],
      "source": [
        "testData_with_embeddings = embeddings_pipeline.fit(testData).transform(testData)\\\n",
        "                                                  .select(\"text\",\"category\",\"sentence_embeddings\")\n",
        "\n",
        "testData_with_embeddings.show(2,truncate=80)"
      ]
    },
    {
      "cell_type": "code",
      "execution_count": 83,
      "metadata": {
        "id": "WiR3GJpbW4Eq"
      },
      "outputs": [],
      "source": [
        "log_folder=\"Mt_logs_bert\""
      ]
    },
    {
      "cell_type": "markdown",
      "metadata": {
        "id": "NqYpg6-dW4Eq"
      },
      "source": [
        "### ClassifierDLApproach "
      ]
    },
    {
      "cell_type": "code",
      "execution_count": 84,
      "metadata": {
        "id": "vkb4PlGsW4Eq"
      },
      "outputs": [],
      "source": [
        "classifier_dl = ClassifierDLApproach()\\\n",
        "        .setInputCols([\"sentence_embeddings\"])\\\n",
        "        .setOutputCol(\"class\")\\\n",
        "        .setLabelColumn(\"category\")\\\n",
        "        .setBatchSize(8)\\\n",
        "        .setMaxEpochs(30)\\\n",
        "        .setLr(0.002)\\\n",
        "        .setDropout(0.1)\\\n",
        "        .setEnableOutputLogs(True)\\\n",
        "        .setOutputLogsPath(log_folder)\n",
        "\n",
        "classifier_dl_pipeline = Pipeline(stages=[classifier_dl])"
      ]
    },
    {
      "cell_type": "code",
      "execution_count": 85,
      "metadata": {
        "id": "WG0-PJA2W4Eq"
      },
      "outputs": [],
      "source": [
        "clfDL_model_bert = classifier_dl_pipeline.fit(trainingData_with_embeddings)"
      ]
    },
    {
      "cell_type": "code",
      "execution_count": 86,
      "metadata": {
        "colab": {
          "base_uri": "https://localhost:8080/"
        },
        "id": "B_29_8JBW4Eq",
        "outputId": "49fe011d-4bca-479f-ab28-d068542d5f5a"
      },
      "outputs": [
        {
          "output_type": "stream",
          "name": "stdout",
          "text": [
            "                  precision    recall  f1-score   support\n",
            "\n",
            "Gastroenterology       0.92      0.88      0.90        25\n",
            "       Neurology       0.86      0.82      0.84        22\n",
            "      Orthopedic       0.86      0.89      0.87        35\n",
            "         Urology       0.90      0.95      0.93        20\n",
            "\n",
            "        accuracy                           0.88       102\n",
            "       macro avg       0.88      0.88      0.88       102\n",
            "    weighted avg       0.88      0.88      0.88       102\n",
            "\n"
          ]
        }
      ],
      "source": [
        "preds = clfDL_model_bert.transform(testData_with_embeddings)\n",
        "\n",
        "preds_df = preds.select(\"category\",\"text\",\"class.result\").toPandas()\n",
        "preds_df[\"result\"] = preds_df[\"result\"].apply(lambda x : x[0])\n",
        "\n",
        "print (classification_report(preds_df[\"category\"], preds_df[\"result\"]))"
      ]
    },
    {
      "cell_type": "markdown",
      "metadata": {
        "id": "0Fw49226W4Er"
      },
      "source": [
        "### MultiClassifierDL "
      ]
    },
    {
      "cell_type": "code",
      "execution_count": 87,
      "metadata": {
        "id": "Co9lWcRxW4Er"
      },
      "outputs": [],
      "source": [
        "# MultiClassifierDL accepts list of strings as input label. So we convert label column to array type.\n",
        "trainingData_with_embeddings = trainingData_with_embeddings.withColumn(\"category_array\", F.array(F.col(\"category\")))\n",
        "testData_with_embeddings = testData_with_embeddings.withColumn(\"category_array\", F.array(F.col(\"category\")))"
      ]
    },
    {
      "cell_type": "code",
      "execution_count": 88,
      "metadata": {
        "id": "5itVNwSWW4Er"
      },
      "outputs": [],
      "source": [
        "multiClassifier = MultiClassifierDLApproach()\\\n",
        "  .setInputCols(\"sentence_embeddings\")\\\n",
        "  .setOutputCol(\"prediction\")\\\n",
        "  .setLabelColumn(\"category_array\")\\\n",
        "  .setBatchSize(8)\\\n",
        "  .setMaxEpochs(20)\\\n",
        "  .setLr(9e-3)\\\n",
        "  .setThreshold(0.5)\\\n",
        "  .setShufflePerEpoch(False)\\\n",
        "  .setEnableOutputLogs(True)\\\n",
        "  .setOutputLogsPath(log_folder)\\\n",
        "#   .setValidationSplit(0.1)\n",
        "\n",
        "multiClassifier_pipeline = Pipeline(\n",
        "    stages = [\n",
        "        multiClassifier\n",
        "    ])"
      ]
    },
    {
      "cell_type": "code",
      "execution_count": 89,
      "metadata": {
        "id": "Y2p8qfzeW4Er"
      },
      "outputs": [],
      "source": [
        "multiClassifier_model_hc200 = multiClassifier_pipeline.fit(trainingData_with_embeddings)"
      ]
    },
    {
      "cell_type": "code",
      "execution_count": 90,
      "metadata": {
        "id": "j812VMg5W4Er"
      },
      "outputs": [],
      "source": [
        "preds = multiClassifier_model_hc200.transform(testData_with_embeddings)"
      ]
    },
    {
      "cell_type": "code",
      "execution_count": 91,
      "metadata": {
        "colab": {
          "base_uri": "https://localhost:8080/"
        },
        "id": "Ero8R_rhW4Er",
        "outputId": "fd220927-0424-41f4-f037-ae89d63e351a"
      },
      "outputs": [
        {
          "output_type": "execute_result",
          "data": {
            "text/plain": [
              "['Orthopedic']              34\n",
              "['Gastroenterology']        23\n",
              "['Neurology']               21\n",
              "['Urology']                 20\n",
              "[]                           3\n",
              "['Urology', 'Neurology']     1\n",
              "Name: result, dtype: int64"
            ]
          },
          "metadata": {},
          "execution_count": 91
        }
      ],
      "source": [
        "preds_df = preds.select(\"category\",\"text\",\"prediction.result\",\"prediction.metadata\").toPandas()\n",
        "preds_df.result.apply(lambda x: str(x) ).value_counts()"
      ]
    },
    {
      "cell_type": "code",
      "execution_count": 92,
      "metadata": {
        "colab": {
          "base_uri": "https://localhost:8080/"
        },
        "id": "eIr0FA55W4Er",
        "outputId": "deb26c55-9ec1-41a4-b2a2-f26f42207f4e"
      },
      "outputs": [
        {
          "output_type": "execute_result",
          "data": {
            "text/plain": [
              "Orthopedic          34\n",
              "Gastroenterology    23\n",
              "Urology             21\n",
              "Neurology           21\n",
              "                     3\n",
              "Name: result, dtype: int64"
            ]
          },
          "metadata": {},
          "execution_count": 92
        }
      ],
      "source": [
        "# We will get the highest score label as result. You can control the number of zero label results with setThreshold() in the training.\n",
        "preds_df[\"scores\"] = preds_df.metadata.apply(lambda x: {k:float(v) for k,v in x[0].items()} if len(x)>=1 else \"\")\n",
        "preds_df[\"result\"] = preds_df.scores.apply(lambda x: max(x, key=x.get) if len(x)>=1 else \"\")\n",
        "preds_df[\"result\"].value_counts()"
      ]
    },
    {
      "cell_type": "code",
      "execution_count": 93,
      "metadata": {
        "colab": {
          "base_uri": "https://localhost:8080/"
        },
        "id": "m9BKG5kHW4Es",
        "outputId": "677d721b-7f0d-41f7-ac86-c4a041e6abe8"
      },
      "outputs": [
        {
          "output_type": "stream",
          "name": "stdout",
          "text": [
            "                  precision    recall  f1-score   support\n",
            "\n",
            "                       0.00      0.00      0.00         0\n",
            "Gastroenterology       0.96      0.88      0.92        25\n",
            "       Neurology       0.81      0.77      0.79        22\n",
            "      Orthopedic       0.88      0.86      0.87        35\n",
            "         Urology       0.86      0.90      0.88        20\n",
            "\n",
            "        accuracy                           0.85       102\n",
            "       macro avg       0.70      0.68      0.69       102\n",
            "    weighted avg       0.88      0.85      0.87       102\n",
            "\n"
          ]
        }
      ],
      "source": [
        "print (classification_report(preds_df[\"category\"], preds_df[\"result\"]))"
      ]
    },
    {
      "cell_type": "markdown",
      "metadata": {
        "id": "hhNpyXkeW4Es"
      },
      "source": [
        "### Generic Classifier "
      ]
    },
    {
      "cell_type": "code",
      "execution_count": 95,
      "metadata": {
        "id": "a0pS3YdEW4Es"
      },
      "outputs": [],
      "source": [
        "from sparknlp_jsl.annotator import TFGraphBuilder\n",
        "\n",
        "graph_folder = \"gc_graph\"\n",
        "\n",
        "gc_graph_builder = TFGraphBuilder()\\\n",
        "    .setModelName(\"generic_classifier\")\\\n",
        "    .setInputCols([\"features\"])\\\n",
        "    .setLabelColumn(\"category\")\\\n",
        "    .setHiddenLayers([300,200, 50])\\\n",
        "    .setHiddenAct(\"tanh\")\\\n",
        "    .setHiddenActL2(True)\\\n",
        "    .setBatchNorm(True)\\\n",
        "    .setGraphFolder(graph_folder)\\\n",
        "    .setGraphFile(\"gcf_graph_bert.pb\")"
      ]
    },
    {
      "cell_type": "code",
      "execution_count": 96,
      "metadata": {
        "id": "aBuFW-1iW4Es"
      },
      "outputs": [],
      "source": [
        "features_asm = FeaturesAssembler()\\\n",
        "    .setInputCols([\"sentence_embeddings\"])\\\n",
        "    .setOutputCol(\"features\")\n",
        "      \n",
        "gen_clf = GenericClassifierApproach()\\\n",
        "    .setLabelColumn(\"category\")\\\n",
        "    .setInputCols(\"features\")\\\n",
        "    .setOutputCol(\"prediction\")\\\n",
        "    .setModelFile(f\"{graph_folder}/gcf_graph_bert.pb\")\\\n",
        "    .setEpochsNumber(25)\\\n",
        "    .setBatchSize(8)\\\n",
        "    .setLearningRate(0.002)\\\n",
        "    .setOutputLogsPath(log_folder)\\\n",
        "    .setDropout(0.2)\\\n",
        "    .setFixImbalance(True)\\\n",
        "    # .setValidationSplit(0.1)\n",
        "\n",
        "clf_Pipeline = Pipeline(stages=[\n",
        "    features_asm,\n",
        "    gc_graph_builder,\n",
        "    gen_clf])\n"
      ]
    },
    {
      "cell_type": "code",
      "execution_count": 97,
      "metadata": {
        "colab": {
          "base_uri": "https://localhost:8080/"
        },
        "id": "Xpi8bsOAW4Es",
        "outputId": "1d749bbe-f13b-480b-a6da-b816cb984fa5"
      },
      "outputs": [
        {
          "output_type": "stream",
          "name": "stdout",
          "text": [
            "TF Graph Builder configuration:\n",
            "Model name: generic_classifier\n",
            "Graph folder: gc_graph\n",
            "Graph file name: gcf_graph_bert.pb\n",
            "Build params: {'input_dim': 768, 'output_dim': 4, 'hidden_layers': [300, 200, 50], 'hidden_act': 'tanh', 'hidden_act_l2': True, 'batch_norm': True}\n",
            "generic_classifier graph exported to gc_graph/gcf_graph_bert.pb\n"
          ]
        }
      ],
      "source": [
        "generic_model_bert = clf_Pipeline.fit(trainingData_with_embeddings)"
      ]
    },
    {
      "cell_type": "code",
      "execution_count": 98,
      "metadata": {
        "colab": {
          "base_uri": "https://localhost:8080/"
        },
        "id": "5aw-VIEhW4Es",
        "outputId": "f4a2f0ba-3b28-479d-f661-ff25ca7f3341"
      },
      "outputs": [
        {
          "output_type": "stream",
          "name": "stdout",
          "text": [
            "                  precision    recall  f1-score   support\n",
            "\n",
            "Gastroenterology       0.95      0.80      0.87        25\n",
            "       Neurology       0.75      0.82      0.78        22\n",
            "      Orthopedic       0.93      0.74      0.83        35\n",
            "         Urology       0.66      0.95      0.78        20\n",
            "\n",
            "        accuracy                           0.81       102\n",
            "       macro avg       0.82      0.83      0.81       102\n",
            "    weighted avg       0.84      0.81      0.82       102\n",
            "\n"
          ]
        }
      ],
      "source": [
        "pred_df = generic_model_bert.transform(testData_with_embeddings)\n",
        "\n",
        "preds_df = pred_df.select('category','prediction.result').toPandas()\n",
        "preds_df['result'] = preds_df.result.apply(lambda x : x[0])\n",
        "\n",
        "print (classification_report(preds_df['category'], preds_df['result']))"
      ]
    },
    {
      "cell_type": "markdown",
      "metadata": {
        "id": "5q09e4l9XPgU"
      },
      "source": [
        "### GenericLogRegClassifier"
      ]
    },
    {
      "cell_type": "code",
      "execution_count": 99,
      "metadata": {
        "id": "Q9DQJEOfXPgV"
      },
      "outputs": [],
      "source": [
        "from sparknlp_jsl.annotator import TFGraphBuilder\n",
        "\n",
        "graph_folder = \"gc_graph\"\n",
        "\n",
        "gc_logreg_graph_builder = TFGraphBuilder()\\\n",
        "    .setModelName(\"logreg_classifier\")\\\n",
        "    .setInputCols([\"feature_vector\"]) \\\n",
        "    .setLabelColumn(\"category\")\\\n",
        "    .setGraphFolder(graph_folder)\\\n",
        "    .setGraphFile(\"log_reg_graph.pb\")"
      ]
    },
    {
      "cell_type": "markdown",
      "metadata": {
        "id": "DeC8XjkcXPgV"
      },
      "source": [
        "GenericLogRegClassifier needs outputs from FeaturesAssembler. The FeaturesAssembler is used to collect features from different columns or an embeddings column.\n",
        "\n",
        "The GenericLogRegClassifier takes FEATURE_VECTOR annotations as input, classifies them and outputs CATEGORY annotations."
      ]
    },
    {
      "cell_type": "code",
      "execution_count": 100,
      "metadata": {
        "id": "eEGJ7oHQXPgV"
      },
      "outputs": [],
      "source": [
        "features_asm = FeaturesAssembler()\\\n",
        "    .setInputCols([\"sentence_embeddings\"])\\\n",
        "    .setOutputCol(\"feature_vector\")\n",
        "      \n",
        "gen_clf = GenericLogRegClassifierApproach()\\\n",
        "    .setLabelColumn(\"category\")\\\n",
        "    .setInputCols(\"feature_vector\")\\\n",
        "    .setOutputCol(\"prediction\")\\\n",
        "    .setModelFile(f\"{graph_folder}/log_reg_graph.pb\")\\\n",
        "    .setEpochsNumber(25)\\\n",
        "    .setBatchSize(128)\\\n",
        "    .setLearningRate(0.004)\\\n",
        "    .setOutputLogsPath(log_folder)\\\n",
        "    .setDropout(0.2)\\\n",
        "    .setFixImbalance(True)\\\n",
        "    # .setValidationSplit(0.1)\n",
        "\n",
        "clf_Pipeline = Pipeline(stages=[\n",
        "    features_asm,\n",
        "    gc_logreg_graph_builder,\n",
        "    gen_clf])\n"
      ]
    },
    {
      "cell_type": "code",
      "execution_count": 101,
      "metadata": {
        "colab": {
          "base_uri": "https://localhost:8080/"
        },
        "outputId": "d69f0e75-7de7-4819-b016-a34d787bf04d",
        "id": "2mw3fPhtXPgV"
      },
      "outputs": [
        {
          "output_type": "stream",
          "name": "stdout",
          "text": [
            "TF Graph Builder configuration:\n",
            "Model name: logreg_classifier\n",
            "Graph folder: gc_graph\n",
            "Graph file name: log_reg_graph.pb\n",
            "Build params: {'input_dim': 768, 'output_dim': 4, 'hidden_layers': [], 'output_act': 'sigmoid'}\n",
            "logreg_classifier graph exported to gc_graph/log_reg_graph.pb\n"
          ]
        }
      ],
      "source": [
        "generic_model_hc100 = clf_Pipeline.fit(trainingData_with_embeddings)"
      ]
    },
    {
      "cell_type": "code",
      "execution_count": 102,
      "metadata": {
        "colab": {
          "base_uri": "https://localhost:8080/"
        },
        "outputId": "6ca18d6d-c417-40ce-aff6-627f194b8b3a",
        "id": "UAm-wWTvXPgV"
      },
      "outputs": [
        {
          "output_type": "stream",
          "name": "stdout",
          "text": [
            "Training 25 epochs\n",
            "Epoch 1/25\t0.12s\tLoss: 2.8436375\tACC: 0.409375\n",
            "Epoch 2/25\t0.01s\tLoss: 2.03574\tACC: 0.60052085\n",
            "Epoch 3/25\t0.01s\tLoss: 1.6681229\tACC: 0.7359375\n",
            "Epoch 4/25\t0.01s\tLoss: 1.4620441\tACC: 0.7942709\n",
            "Epoch 5/25\t0.01s\tLoss: 1.1643299\tACC: 0.8567708\n",
            "Epoch 6/25\t0.01s\tLoss: 1.0951762\tACC: 0.8677083\n",
            "Epoch 7/25\t0.01s\tLoss: 0.95233214\tACC: 0.8979167\n",
            "Epoch 8/25\t0.01s\tLoss: 0.950769\tACC: 0.8958333\n",
            "Epoch 9/25\t0.01s\tLoss: 0.85692066\tACC: 0.9151042\n",
            "Epoch 10/25\t0.01s\tLoss: 0.78612643\tACC: 0.9203125\n",
            "Epoch 11/25\t0.01s\tLoss: 0.7466887\tACC: 0.9296875\n",
            "Epoch 12/25\t0.01s\tLoss: 0.8317027\tACC: 0.9078125\n",
            "Epoch 13/25\t0.01s\tLoss: 0.70875573\tACC: 0.9385417\n",
            "Epoch 14/25\t0.01s\tLoss: 0.68729603\tACC: 0.9322917\n",
            "Epoch 15/25\t0.01s\tLoss: 0.7359633\tACC: 0.9125\n",
            "Epoch 16/25\t0.01s\tLoss: 0.7532236\tACC: 0.9234375\n",
            "Epoch 17/25\t0.01s\tLoss: 0.6184996\tACC: 0.946875\n",
            "Epoch 18/25\t0.01s\tLoss: 0.60497105\tACC: 0.9453125\n",
            "Epoch 19/25\t0.01s\tLoss: 0.6418084\tACC: 0.9369792\n",
            "Epoch 20/25\t0.02s\tLoss: 0.5767652\tACC: 0.9447917\n",
            "Epoch 21/25\t0.01s\tLoss: 0.590363\tACC: 0.9401042\n",
            "Epoch 22/25\t0.01s\tLoss: 0.6817166\tACC: 0.9317708\n",
            "Epoch 23/25\t0.01s\tLoss: 0.54337895\tACC: 0.95\n",
            "Epoch 24/25\t0.01s\tLoss: 0.59276885\tACC: 0.9380208\n",
            "Epoch 25/25\t0.01s\tLoss: 0.55398536\tACC: 0.9432292\n",
            "Training completed.\n"
          ]
        }
      ],
      "source": [
        "!cat $log_folder/GenericLogRegClassifierApproach*"
      ]
    },
    {
      "cell_type": "code",
      "execution_count": 103,
      "metadata": {
        "id": "h5Zqfx_WXPgV"
      },
      "outputs": [],
      "source": [
        "pred_df = generic_model_hc100.transform(testData_with_embeddings)"
      ]
    },
    {
      "cell_type": "code",
      "execution_count": 104,
      "metadata": {
        "colab": {
          "base_uri": "https://localhost:8080/"
        },
        "outputId": "71800eb4-2748-4f89-b23b-53ed9617fa37",
        "id": "kZoQXrfpXPgW"
      },
      "outputs": [
        {
          "output_type": "stream",
          "name": "stdout",
          "text": [
            "root\n",
            " |-- text: string (nullable = true)\n",
            " |-- category: string (nullable = true)\n",
            " |-- sentence_embeddings: array (nullable = true)\n",
            " |    |-- element: struct (containsNull = true)\n",
            " |    |    |-- annotatorType: string (nullable = true)\n",
            " |    |    |-- begin: integer (nullable = false)\n",
            " |    |    |-- end: integer (nullable = false)\n",
            " |    |    |-- result: string (nullable = true)\n",
            " |    |    |-- metadata: map (nullable = true)\n",
            " |    |    |    |-- key: string\n",
            " |    |    |    |-- value: string (valueContainsNull = true)\n",
            " |    |    |-- embeddings: array (nullable = true)\n",
            " |    |    |    |-- element: float (containsNull = false)\n",
            " |-- category_array: array (nullable = false)\n",
            " |    |-- element: string (containsNull = true)\n",
            " |-- prediction: array (nullable = true)\n",
            " |    |-- element: struct (containsNull = true)\n",
            " |    |    |-- annotatorType: string (nullable = true)\n",
            " |    |    |-- begin: integer (nullable = false)\n",
            " |    |    |-- end: integer (nullable = false)\n",
            " |    |    |-- result: string (nullable = true)\n",
            " |    |    |-- metadata: map (nullable = true)\n",
            " |    |    |    |-- key: string\n",
            " |    |    |    |-- value: string (valueContainsNull = true)\n",
            " |    |    |-- embeddings: array (nullable = true)\n",
            " |    |    |    |-- element: float (containsNull = false)\n",
            "\n",
            "+----------------------------------------------------------------------------------------------------------------------------------------------------------------------------+\n",
            "|prediction                                                                                                                                                                  |\n",
            "+----------------------------------------------------------------------------------------------------------------------------------------------------------------------------+\n",
            "|[{category, 0, 3978, Gastroenterology, {Gastroenterology -> 0.99999845, Urology -> 1.2504773E-5, Orthopedic -> 5.6994118E-6, sentence -> 0, Neurology -> 7.547756E-4}, []}] |\n",
            "|[{category, 0, 6515, Gastroenterology, {Gastroenterology -> 1.0, Urology -> 1.2297058E-7, Orthopedic -> 1.6719242E-6, sentence -> 0, Neurology -> 1.4855959E-4}, []}]       |\n",
            "|[{category, 0, 2187, Gastroenterology, {Gastroenterology -> 0.9998099, Urology -> 2.2107888E-5, Orthopedic -> 9.735151E-4, sentence -> 0, Neurology -> 0.0031301442}, []}]  |\n",
            "|[{category, 0, 1279, Gastroenterology, {Gastroenterology -> 1.0, Urology -> 1.0514013E-6, Orthopedic -> 2.878485E-6, sentence -> 0, Neurology -> 2.2101081E-5}, []}]        |\n",
            "|[{category, 0, 1677, Gastroenterology, {Gastroenterology -> 0.99999833, Urology -> 2.7731934E-4, Orthopedic -> 3.1779724E-5, sentence -> 0, Neurology -> 2.3524986E-5}, []}]|\n",
            "+----------------------------------------------------------------------------------------------------------------------------------------------------------------------------+\n",
            "only showing top 5 rows\n",
            "\n",
            "+----------------+------------------+\n",
            "|category        |prediction.result |\n",
            "+----------------+------------------+\n",
            "|Gastroenterology|[Gastroenterology]|\n",
            "|Gastroenterology|[Gastroenterology]|\n",
            "|Gastroenterology|[Gastroenterology]|\n",
            "|Gastroenterology|[Gastroenterology]|\n",
            "|Gastroenterology|[Gastroenterology]|\n",
            "+----------------+------------------+\n",
            "only showing top 5 rows\n",
            "\n"
          ]
        }
      ],
      "source": [
        "preds.printSchema()\n",
        "preds.select(preds.prediction).show(5, truncate=False)\n",
        "preds.select(preds.category, preds.prediction.result).show(5, truncate=False)"
      ]
    },
    {
      "cell_type": "code",
      "execution_count": 105,
      "metadata": {
        "colab": {
          "base_uri": "https://localhost:8080/"
        },
        "outputId": "e5e26982-f14b-4602-acfb-696e120a173e",
        "id": "gk6E1IuzXPgW"
      },
      "outputs": [
        {
          "output_type": "stream",
          "name": "stdout",
          "text": [
            "                  precision    recall  f1-score   support\n",
            "\n",
            "Gastroenterology       0.96      0.88      0.92        25\n",
            "       Neurology       0.77      0.77      0.77        22\n",
            "      Orthopedic       0.86      0.89      0.87        35\n",
            "         Urology       0.86      0.90      0.88        20\n",
            "\n",
            "        accuracy                           0.86       102\n",
            "       macro avg       0.86      0.86      0.86       102\n",
            "    weighted avg       0.86      0.86      0.86       102\n",
            "\n"
          ]
        }
      ],
      "source": [
        "preds_df = pred_df.select('category','prediction.result').toPandas()\n",
        "preds_df['result'] = preds_df.result.apply(lambda x : x[0])\n",
        "\n",
        "print (classification_report(preds_df['category'], preds_df['result']))"
      ]
    },
    {
      "cell_type": "markdown",
      "metadata": {
        "id": "2Ninh1PfXbR1"
      },
      "source": [
        "### GenericSVMClassifier"
      ]
    },
    {
      "cell_type": "code",
      "execution_count": 106,
      "metadata": {
        "id": "-HiP42eZXbR1"
      },
      "outputs": [],
      "source": [
        "from sparknlp_jsl.annotator import TFGraphBuilder\n",
        "\n",
        "graph_folder = \"gc_graph\"\n",
        "\n",
        "gc_svm_graph_builder = TFGraphBuilder()\\\n",
        "    .setModelName(\"svm_classifier\")\\\n",
        "    .setInputCols([\"feature_vector\"]) \\\n",
        "    .setLabelColumn(\"category\")\\\n",
        "    .setGraphFolder(graph_folder)\\\n",
        "    .setGraphFile(\"svm_graph.pb\")"
      ]
    },
    {
      "cell_type": "markdown",
      "metadata": {
        "id": "PgSWTx2_XbR1"
      },
      "source": [
        "GenericSVMClassifier needs outputs from FeaturesAssembler. The FeaturesAssembler is used to collect features from different columns or an embeddings column.\n",
        "\n",
        "The GenericSVMClassifier takes FEATURE_VECTOR annotations as input, classifies them and outputs CATEGORY annotations."
      ]
    },
    {
      "cell_type": "code",
      "execution_count": 107,
      "metadata": {
        "id": "IfKccrLdXbR1"
      },
      "outputs": [],
      "source": [
        "features_asm = FeaturesAssembler()\\\n",
        "    .setInputCols([\"sentence_embeddings\"])\\\n",
        "    .setOutputCol(\"feature_vector\")\n",
        "      \n",
        "gen_clf = GenericSVMClassifierApproach()\\\n",
        "    .setLabelColumn(\"category\")\\\n",
        "    .setInputCols(\"feature_vector\")\\\n",
        "    .setOutputCol(\"prediction\")\\\n",
        "    .setModelFile(f\"{graph_folder}/svm_graph.pb\")\\\n",
        "    .setEpochsNumber(25)\\\n",
        "    .setBatchSize(128)\\\n",
        "    .setLearningRate(0.004)\\\n",
        "    .setOutputLogsPath(log_folder)\\\n",
        "    .setDropout(0.2)\\\n",
        "    .setFixImbalance(True)\\\n",
        "    # .setValidationSplit(0.1)\n",
        "\n",
        "clf_Pipeline = Pipeline(stages=[\n",
        "    features_asm,\n",
        "    gc_svm_graph_builder,\n",
        "    gen_clf])\n"
      ]
    },
    {
      "cell_type": "code",
      "execution_count": 108,
      "metadata": {
        "colab": {
          "base_uri": "https://localhost:8080/"
        },
        "outputId": "23dfa939-b94f-4074-d3dd-5755e4044e46",
        "id": "3PSzGUAKXbR2"
      },
      "outputs": [
        {
          "output_type": "stream",
          "name": "stdout",
          "text": [
            "TF Graph Builder configuration:\n",
            "Model name: svm_classifier\n",
            "Graph folder: gc_graph\n",
            "Graph file name: svm_graph.pb\n",
            "Build params: {'input_dim': 768, 'output_dim': 4, 'hidden_layers': [], 'output_act': 'sigmoid', 'loss_func': 'hinge'}\n",
            "svm_classifier graph exported to gc_graph/svm_graph.pb\n"
          ]
        }
      ],
      "source": [
        "generic_model_hc100 = clf_Pipeline.fit(trainingData_with_embeddings)"
      ]
    },
    {
      "cell_type": "code",
      "execution_count": 109,
      "metadata": {
        "colab": {
          "base_uri": "https://localhost:8080/"
        },
        "outputId": "15675370-6be1-43cc-ab57-d0d20aec5ee2",
        "id": "fjvvroJHXbR2"
      },
      "outputs": [
        {
          "output_type": "stream",
          "name": "stdout",
          "text": [
            "Training 25 epochs\n",
            "Epoch 1/25\t0.15s\tLoss: 6.802112\tACC: 0.4484375\n",
            "Epoch 2/25\t0.01s\tLoss: 3.7737842\tACC: 0.646875\n",
            "Epoch 3/25\t0.01s\tLoss: 2.5159087\tACC: 0.78489584\n",
            "Epoch 4/25\t0.01s\tLoss: 1.8442674\tACC: 0.8463542\n",
            "Epoch 5/25\t0.01s\tLoss: 1.5127548\tACC: 0.8776042\n",
            "Epoch 6/25\t0.01s\tLoss: 1.4778157\tACC: 0.85625\n",
            "Epoch 7/25\t0.01s\tLoss: 1.4009507\tACC: 0.9067708\n",
            "Epoch 8/25\t0.01s\tLoss: 1.1652503\tACC: 0.9114583\n",
            "Epoch 9/25\t0.01s\tLoss: 1.2403356\tACC: 0.9130208\n",
            "Epoch 10/25\t0.01s\tLoss: 1.3755908\tACC: 0.9005208\n",
            "Epoch 11/25\t0.01s\tLoss: 0.93732697\tACC: 0.9348958\n",
            "Epoch 12/25\t0.01s\tLoss: 1.1591876\tACC: 0.9130208\n",
            "Epoch 13/25\t0.01s\tLoss: 1.160143\tACC: 0.9203125\n",
            "Epoch 14/25\t0.01s\tLoss: 1.1993248\tACC: 0.8875\n",
            "Epoch 15/25\t0.01s\tLoss: 1.0291913\tACC: 0.90625\n",
            "Epoch 16/25\t0.01s\tLoss: 0.9239858\tACC: 0.9385417\n",
            "Epoch 17/25\t0.01s\tLoss: 0.94648796\tACC: 0.9255208\n",
            "Epoch 18/25\t0.01s\tLoss: 0.8318197\tACC: 0.9401042\n",
            "Epoch 19/25\t0.01s\tLoss: 0.8413091\tACC: 0.9380208\n",
            "Epoch 20/25\t0.01s\tLoss: 0.74829996\tACC: 0.953125\n",
            "Epoch 21/25\t0.01s\tLoss: 1.1302099\tACC: 0.925\n",
            "Epoch 22/25\t0.01s\tLoss: 0.76356447\tACC: 0.9458333\n",
            "Epoch 23/25\t0.01s\tLoss: 0.70955944\tACC: 0.9411458\n",
            "Epoch 24/25\t0.01s\tLoss: 0.83029896\tACC: 0.9364583\n",
            "Epoch 25/25\t0.01s\tLoss: 0.6314369\tACC: 0.9541667\n",
            "Training completed.\n"
          ]
        }
      ],
      "source": [
        "!cat $log_folder/GenericSVMClassifierApproach*"
      ]
    },
    {
      "cell_type": "code",
      "execution_count": 110,
      "metadata": {
        "id": "Guibj0k8XbR2"
      },
      "outputs": [],
      "source": [
        "pred_df = generic_model_hc100.transform(testData_with_embeddings)"
      ]
    },
    {
      "cell_type": "code",
      "execution_count": 111,
      "metadata": {
        "colab": {
          "base_uri": "https://localhost:8080/"
        },
        "outputId": "589b60d2-7084-4ed3-a5d0-985be0827d9f",
        "id": "NCldMbp1XbR2"
      },
      "outputs": [
        {
          "output_type": "stream",
          "name": "stdout",
          "text": [
            "root\n",
            " |-- text: string (nullable = true)\n",
            " |-- category: string (nullable = true)\n",
            " |-- sentence_embeddings: array (nullable = true)\n",
            " |    |-- element: struct (containsNull = true)\n",
            " |    |    |-- annotatorType: string (nullable = true)\n",
            " |    |    |-- begin: integer (nullable = false)\n",
            " |    |    |-- end: integer (nullable = false)\n",
            " |    |    |-- result: string (nullable = true)\n",
            " |    |    |-- metadata: map (nullable = true)\n",
            " |    |    |    |-- key: string\n",
            " |    |    |    |-- value: string (valueContainsNull = true)\n",
            " |    |    |-- embeddings: array (nullable = true)\n",
            " |    |    |    |-- element: float (containsNull = false)\n",
            " |-- category_array: array (nullable = false)\n",
            " |    |-- element: string (containsNull = true)\n",
            " |-- prediction: array (nullable = true)\n",
            " |    |-- element: struct (containsNull = true)\n",
            " |    |    |-- annotatorType: string (nullable = true)\n",
            " |    |    |-- begin: integer (nullable = false)\n",
            " |    |    |-- end: integer (nullable = false)\n",
            " |    |    |-- result: string (nullable = true)\n",
            " |    |    |-- metadata: map (nullable = true)\n",
            " |    |    |    |-- key: string\n",
            " |    |    |    |-- value: string (valueContainsNull = true)\n",
            " |    |    |-- embeddings: array (nullable = true)\n",
            " |    |    |    |-- element: float (containsNull = false)\n",
            "\n",
            "+----------------------------------------------------------------------------------------------------------------------------------------------------------------------------+\n",
            "|prediction                                                                                                                                                                  |\n",
            "+----------------------------------------------------------------------------------------------------------------------------------------------------------------------------+\n",
            "|[{category, 0, 3978, Gastroenterology, {Gastroenterology -> 0.99999845, Urology -> 1.2504773E-5, Orthopedic -> 5.6994118E-6, sentence -> 0, Neurology -> 7.547756E-4}, []}] |\n",
            "|[{category, 0, 6515, Gastroenterology, {Gastroenterology -> 1.0, Urology -> 1.2297058E-7, Orthopedic -> 1.6719242E-6, sentence -> 0, Neurology -> 1.4855959E-4}, []}]       |\n",
            "|[{category, 0, 2187, Gastroenterology, {Gastroenterology -> 0.9998099, Urology -> 2.2107888E-5, Orthopedic -> 9.735151E-4, sentence -> 0, Neurology -> 0.0031301442}, []}]  |\n",
            "|[{category, 0, 1279, Gastroenterology, {Gastroenterology -> 1.0, Urology -> 1.0514013E-6, Orthopedic -> 2.878485E-6, sentence -> 0, Neurology -> 2.2101081E-5}, []}]        |\n",
            "|[{category, 0, 1677, Gastroenterology, {Gastroenterology -> 0.99999833, Urology -> 2.7731934E-4, Orthopedic -> 3.1779724E-5, sentence -> 0, Neurology -> 2.3524986E-5}, []}]|\n",
            "+----------------------------------------------------------------------------------------------------------------------------------------------------------------------------+\n",
            "only showing top 5 rows\n",
            "\n",
            "+----------------+------------------+\n",
            "|category        |prediction.result |\n",
            "+----------------+------------------+\n",
            "|Gastroenterology|[Gastroenterology]|\n",
            "|Gastroenterology|[Gastroenterology]|\n",
            "|Gastroenterology|[Gastroenterology]|\n",
            "|Gastroenterology|[Gastroenterology]|\n",
            "|Gastroenterology|[Gastroenterology]|\n",
            "+----------------+------------------+\n",
            "only showing top 5 rows\n",
            "\n"
          ]
        }
      ],
      "source": [
        "preds.printSchema()\n",
        "preds.select(preds.prediction).show(5, truncate=False)\n",
        "preds.select(preds.category, preds.prediction.result).show(5, truncate=False)"
      ]
    },
    {
      "cell_type": "code",
      "execution_count": 112,
      "metadata": {
        "colab": {
          "base_uri": "https://localhost:8080/"
        },
        "outputId": "c3432c79-3881-45ab-e3eb-098467adcc77",
        "id": "ElyprrUMXbR2"
      },
      "outputs": [
        {
          "output_type": "stream",
          "name": "stdout",
          "text": [
            "                  precision    recall  f1-score   support\n",
            "\n",
            "Gastroenterology       0.96      0.92      0.94        25\n",
            "       Neurology       0.86      0.82      0.84        22\n",
            "      Orthopedic       0.89      0.89      0.89        35\n",
            "         Urology       0.86      0.95      0.90        20\n",
            "\n",
            "        accuracy                           0.89       102\n",
            "       macro avg       0.89      0.89      0.89       102\n",
            "    weighted avg       0.89      0.89      0.89       102\n",
            "\n"
          ]
        }
      ],
      "source": [
        "preds_df = pred_df.select('category','prediction.result').toPandas()\n",
        "preds_df['result'] = preds_df.result.apply(lambda x : x[0])\n",
        "\n",
        "print (classification_report(preds_df['category'], preds_df['result']))"
      ]
    },
    {
      "cell_type": "markdown",
      "metadata": {
        "id": "hJCE-sWM9oaK"
      },
      "source": [
        "## DocumentLogRegClassifier"
      ]
    },
    {
      "cell_type": "code",
      "execution_count": 113,
      "metadata": {
        "id": "FUHSa7b79oaK"
      },
      "outputs": [],
      "source": [
        "document_assembler = DocumentAssembler()\\\n",
        "    .setInputCol(\"text\")\\\n",
        "    .setOutputCol(\"document\")\n",
        "\n",
        "tokenizer = Tokenizer() \\\n",
        "    .setInputCols([\"document\"]) \\\n",
        "    .setOutputCol(\"token\")\n",
        "\n",
        "logreg = DocumentLogRegClassifierApproach()\\\n",
        "    .setInputCols(\"token\")\\\n",
        "    .setLabelCol(\"category\")\\\n",
        "    .setOutputCol(\"prediction\")\\\n",
        "    .setMaxIter(10)\\\n",
        "    .setTol(1e-6)\n",
        "\n",
        "clf_Pipeline = Pipeline(stages=[document_assembler,\n",
        "                                tokenizer,\n",
        "                                logreg])\n",
        "\n",
        "doclogreg_model = clf_Pipeline.fit(trainingData)"
      ]
    },
    {
      "cell_type": "code",
      "execution_count": 114,
      "metadata": {
        "colab": {
          "base_uri": "https://localhost:8080/"
        },
        "id": "PbOx1a7X9oaK",
        "outputId": "1f6b78af-e03e-43c4-adf8-c624cf581400"
      },
      "outputs": [
        {
          "output_type": "stream",
          "name": "stdout",
          "text": [
            "                  precision    recall  f1-score   support\n",
            "\n",
            "Gastroenterology       0.92      0.88      0.90        25\n",
            "       Neurology       0.80      0.73      0.76        22\n",
            "      Orthopedic       0.91      0.89      0.90        35\n",
            "         Urology       0.79      0.95      0.86        20\n",
            "\n",
            "        accuracy                           0.86       102\n",
            "       macro avg       0.86      0.86      0.86       102\n",
            "    weighted avg       0.87      0.86      0.86       102\n",
            "\n"
          ]
        }
      ],
      "source": [
        "pred_df = doclogreg_model.transform(testData)\n",
        "\n",
        "preds_df = pred_df.select('category','prediction.result').toPandas()\n",
        "preds_df['result'] = preds_df.result.apply(lambda x : x[0])\n",
        "\n",
        "print (classification_report(preds_df['category'], preds_df['result']))"
      ]
    }
  ],
  "metadata": {
    "accelerator": "GPU",
    "colab": {
      "machine_shape": "hm",
      "provenance": [],
      "toc_visible": true
    },
    "gpuClass": "standard",
    "kernelspec": {
      "display_name": "Python 3",
      "language": "python",
      "name": "python3"
    },
    "language_info": {
      "name": "python",
      "version": "3.10.4 (tags/v3.10.4:9d38120, Mar 23 2022, 23:13:41) [MSC v.1929 64 bit (AMD64)]"
    },
    "vscode": {
      "interpreter": {
        "hash": "8f527f757492231011ff0f96452bff72dba1ece595fe9390d852b709bf8922e1"
      }
    }
  },
  "nbformat": 4,
  "nbformat_minor": 0
}
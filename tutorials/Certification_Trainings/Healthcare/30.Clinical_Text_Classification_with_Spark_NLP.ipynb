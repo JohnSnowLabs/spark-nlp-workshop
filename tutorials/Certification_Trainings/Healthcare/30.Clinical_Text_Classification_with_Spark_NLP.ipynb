{
  "cells": [
    {
      "attachments": {},
      "cell_type": "markdown",
      "metadata": {},
      "source": [
        "![JohnSnowLabs](https://nlp.johnsnowlabs.com/assets/images/logo.png)"
      ]
    },
    {
      "attachments": {},
      "cell_type": "markdown",
      "metadata": {},
      "source": [
        "[![Open In Colab](https://colab.research.google.com/assets/colab-badge.svg)](https://colab.research.google.com/github/JohnSnowLabs/spark-nlp-workshop/blob/master/tutorials/Certification_Trainings/Healthcare/30.Clinical_Text_Classification_with_Spark_NLP.ipynb)"
      ]
    },
    {
      "cell_type": "markdown",
      "metadata": {
        "id": "T70JAFhuB_hY"
      },
      "source": [
        "# Colab Setup"
      ]
    },
    {
      "cell_type": "code",
      "execution_count": 1,
      "metadata": {
        "id": "MRTflinqmhKL"
      },
      "outputs": [],
      "source": [
        "import json\n",
        "import os\n",
        "\n",
        "from google.colab import files\n",
        "\n",
        "if 'spark_jsl.json' not in os.listdir():\n",
        "  license_keys = files.upload()\n",
        "  os.rename(list(license_keys.keys())[0], 'spark_jsl.json')\n",
        "\n",
        "with open('spark_jsl.json') as f:\n",
        "    license_keys = json.load(f)\n",
        "\n",
        "# Defining license key-value pairs as local variables\n",
        "locals().update(license_keys)\n",
        "os.environ.update(license_keys)"
      ]
    },
    {
      "cell_type": "code",
      "execution_count": null,
      "metadata": {
        "id": "LOdhMuyDmwGh"
      },
      "outputs": [],
      "source": [
        "# Installing spark-nlp for GPU\n",
        "!wget https://setup.johnsnowlabs.com/colab.sh -O - | bash /dev/stdin -p 3.2.1 -s $PUBLIC_VERSION -g\n",
        "\n",
        "# Installing Spark NLP Healthcare\n",
        "! pip install --upgrade -q spark-nlp-jsl==$JSL_VERSION  --extra-index-url https://pypi.johnsnowlabs.com/$SECRET"
      ]
    },
    {
      "cell_type": "markdown",
      "metadata": {
        "id": "OPpHn3VfWUJ5"
      },
      "source": [
        "**PLEASE RE-START RUNTIME AND CONTINUE**"
      ]
    },
    {
      "cell_type": "code",
      "execution_count": 2,
      "metadata": {
        "id": "NvLJvIbuVwDY"
      },
      "outputs": [],
      "source": [
        "import json\n",
        "import os\n",
        "\n",
        "with open('spark_jsl.json') as f:\n",
        "    license_keys = json.load(f)\n",
        "\n",
        "# Defining license key-value pairs as local variables\n",
        "locals().update(license_keys)\n",
        "os.environ.update(license_keys)"
      ]
    },
    {
      "cell_type": "code",
      "execution_count": 3,
      "metadata": {
        "colab": {
          "base_uri": "https://localhost:8080/",
          "height": 259
        },
        "id": "_em57ItxLnJm",
        "outputId": "4706e7a5-e497-431f-a009-fd651b99a818"
      },
      "outputs": [
        {
          "name": "stdout",
          "output_type": "stream",
          "text": [
            "Spark NLP Version : 4.2.4\n",
            "Spark NLP_JSL Version : 4.2.4\n"
          ]
        },
        {
          "data": {
            "text/html": [
              "\n",
              "            <div>\n",
              "                <p><b>SparkSession - in-memory</b></p>\n",
              "                \n",
              "        <div>\n",
              "            <p><b>SparkContext</b></p>\n",
              "\n",
              "            <p><a href=\"http://cf498889c3a2:4040\">Spark UI</a></p>\n",
              "\n",
              "            <dl>\n",
              "              <dt>Version</dt>\n",
              "                <dd><code>v3.2.3</code></dd>\n",
              "              <dt>Master</dt>\n",
              "                <dd><code>local[*]</code></dd>\n",
              "              <dt>AppName</dt>\n",
              "                <dd><code>Spark NLP Licensed</code></dd>\n",
              "            </dl>\n",
              "        </div>\n",
              "        \n",
              "            </div>\n",
              "        "
            ],
            "text/plain": [
              "<pyspark.sql.session.SparkSession at 0x7fbe63197760>"
            ]
          },
          "execution_count": 3,
          "metadata": {},
          "output_type": "execute_result"
        }
      ],
      "source": [
        "import pandas as pd\n",
        "from sklearn.metrics import confusion_matrix, classification_report, accuracy_score\n",
        "\n",
        "from pyspark.ml import Pipeline,PipelineModel\n",
        "from pyspark.sql import SparkSession\n",
        "\n",
        "from sparknlp.annotator import *\n",
        "from sparknlp_jsl.annotator import *\n",
        "from sparknlp_jsl.base import *\n",
        "from sparknlp.base import *\n",
        "import sparknlp_jsl\n",
        "import sparknlp\n",
        "\n",
        "import warnings\n",
        "warnings.filterwarnings('ignore')\n",
        "\n",
        "params = {\"spark.driver.memory\":\"24G\", \n",
        "          \"spark.kryoserializer.buffer.max\":\"2000M\", \n",
        "          \"spark.driver.maxResultSize\":\"2000M\"} \n",
        "\n",
        "print (\"Spark NLP Version :\", sparknlp.version())\n",
        "print (\"Spark NLP_JSL Version :\", sparknlp_jsl.version())\n",
        "\n",
        "spark = sparknlp_jsl.start(license_keys['SECRET'],params=params,gpu=True)\n",
        "\n",
        "spark"
      ]
    },
    {
      "cell_type": "markdown",
      "metadata": {
        "id": "seqQtw6ryhDm"
      },
      "source": [
        "# Classifiers\n",
        "\n",
        "The below classifiers will be used in this notebook.ClassifierDL, MultiClassifierDL, and GenericClassifier will be trained using healthcare_100d, embeddingd_clinical, and bert sentence embeddings(sbiobert_base_cased_mli). DocumentLogRegClassifier accepts tokens, so sentence embeddings are not utilized during DocumentLogRegClassifier training.\n",
        "\n",
        "## ClassifierDL\n",
        "\n",
        "ClassifierDL is a generic Multi-class Text Classification annotator. ClassifierDL uses the state-of-the-art Universal Sentence Encoder as an input for text classifications. The ClassifierDL annotator uses a deep learning model (DNNs) built inside TensorFlow and supports up to 100 classes. For more information please [follow the link](https://nlp.johnsnowlabs.com/docs/en/annotators#classifierdl).\n",
        "\n",
        "\n",
        "##  MultiClassifierDL\n",
        "\n",
        "MultiClassifierDL is a Multi-label Text Classification annotator.MultiClassifierDL uses a Bidirectional GRU with a convolutional model built inside TensorFlow and supports up to 100 classes.  For more information please [follow the link](https://nlp.johnsnowlabs.com/docs/en/annotators#multiclassifierdl).\n",
        "\n",
        "\n",
        "## GenericClassifier\n",
        "\n",
        "GenericClassifier is a TensorFlow model for the generic classification of feature vectors in Healthcare  Lİbrary. It takes FEATURE_VECTOR annotations from FeaturesAssembler as input, classifies them, and outputs CATEGORY annotations. Please see [the link](https://nlp.johnsnowlabs.com/docs/en/licensed_annotators#genericclassifier) for more information.\n",
        "\n",
        "## DocumentLogRegClassifier\n",
        "\n",
        "DocumentLogRegClassifier is a model to classify documents with a Logarithmic Regression algorithm in Healthcare  Library. Training data requires columns for text and labels. The result is a trained DocumentLogRegClassifierModel. you can get more info [here](https://nlp.johnsnowlabs.com/docs/en/licensed_annotators#documentlogregclassifier). \n"
      ]
    },
    {
      "cell_type": "markdown",
      "metadata": {
        "id": "V9VJxCgQDbci"
      },
      "source": [
        "# ADE Dataset"
      ]
    },
    {
      "cell_type": "markdown",
      "metadata": {
        "id": "26_3aTINil5M"
      },
      "source": [
        "### Data Preprocessing"
      ]
    },
    {
      "cell_type": "code",
      "execution_count": 159,
      "metadata": {
        "id": "hItCL5OYilb-"
      },
      "outputs": [],
      "source": [
        "#downloading sample datasets\n",
        "!wget -q https://raw.githubusercontent.com/JohnSnowLabs/spark-nlp-workshop/master/tutorials/Certification_Trainings/Healthcare/data/ADE_Corpus_V2/ADE-NEG.txt\n",
        "!wget -q https://raw.githubusercontent.com/JohnSnowLabs/spark-nlp-workshop/master/tutorials/Certification_Trainings/Healthcare/data/ADE_Corpus_V2/DRUG-AE.rel"
      ]
    },
    {
      "cell_type": "markdown",
      "metadata": {
        "id": "CcjKu0_XrfLy"
      },
      "source": [
        "**ADE-Negative Dataset**"
      ]
    },
    {
      "cell_type": "code",
      "execution_count": 4,
      "metadata": {
        "colab": {
          "base_uri": "https://localhost:8080/",
          "height": 206
        },
        "id": "Y8bRpYvWilZB",
        "outputId": "e88be54b-9d4a-49fb-ee20-715c25eb4091"
      },
      "outputs": [
        {
          "data": {
            "text/html": [
              "\n",
              "  <div id=\"df-a793b816-e62f-4d55-9bfd-67a80a3853de\">\n",
              "    <div class=\"colab-df-container\">\n",
              "      <div>\n",
              "<style scoped>\n",
              "    .dataframe tbody tr th:only-of-type {\n",
              "        vertical-align: middle;\n",
              "    }\n",
              "\n",
              "    .dataframe tbody tr th {\n",
              "        vertical-align: top;\n",
              "    }\n",
              "\n",
              "    .dataframe thead th {\n",
              "        text-align: right;\n",
              "    }\n",
              "</style>\n",
              "<table border=\"1\" class=\"dataframe\">\n",
              "  <thead>\n",
              "    <tr style=\"text-align: right;\">\n",
              "      <th></th>\n",
              "      <th>col1</th>\n",
              "    </tr>\n",
              "  </thead>\n",
              "  <tbody>\n",
              "    <tr>\n",
              "      <th>0</th>\n",
              "      <td>6460590 NEG Clioquinol intoxication occurring ...</td>\n",
              "    </tr>\n",
              "    <tr>\n",
              "      <th>1</th>\n",
              "      <td>8600337 NEG \"Retinoic acid syndrome\" was preve...</td>\n",
              "    </tr>\n",
              "    <tr>\n",
              "      <th>2</th>\n",
              "      <td>8402502 NEG BACKGROUND: External beam radiatio...</td>\n",
              "    </tr>\n",
              "    <tr>\n",
              "      <th>3</th>\n",
              "      <td>8700794 NEG Although the enuresis ceased, she ...</td>\n",
              "    </tr>\n",
              "    <tr>\n",
              "      <th>4</th>\n",
              "      <td>17662448 NEG A 42-year-old woman had uneventfu...</td>\n",
              "    </tr>\n",
              "  </tbody>\n",
              "</table>\n",
              "</div>\n",
              "      <button class=\"colab-df-convert\" onclick=\"convertToInteractive('df-a793b816-e62f-4d55-9bfd-67a80a3853de')\"\n",
              "              title=\"Convert this dataframe to an interactive table.\"\n",
              "              style=\"display:none;\">\n",
              "        \n",
              "  <svg xmlns=\"http://www.w3.org/2000/svg\" height=\"24px\"viewBox=\"0 0 24 24\"\n",
              "       width=\"24px\">\n",
              "    <path d=\"M0 0h24v24H0V0z\" fill=\"none\"/>\n",
              "    <path d=\"M18.56 5.44l.94 2.06.94-2.06 2.06-.94-2.06-.94-.94-2.06-.94 2.06-2.06.94zm-11 1L8.5 8.5l.94-2.06 2.06-.94-2.06-.94L8.5 2.5l-.94 2.06-2.06.94zm10 10l.94 2.06.94-2.06 2.06-.94-2.06-.94-.94-2.06-.94 2.06-2.06.94z\"/><path d=\"M17.41 7.96l-1.37-1.37c-.4-.4-.92-.59-1.43-.59-.52 0-1.04.2-1.43.59L10.3 9.45l-7.72 7.72c-.78.78-.78 2.05 0 2.83L4 21.41c.39.39.9.59 1.41.59.51 0 1.02-.2 1.41-.59l7.78-7.78 2.81-2.81c.8-.78.8-2.07 0-2.86zM5.41 20L4 18.59l7.72-7.72 1.47 1.35L5.41 20z\"/>\n",
              "  </svg>\n",
              "      </button>\n",
              "      \n",
              "  <style>\n",
              "    .colab-df-container {\n",
              "      display:flex;\n",
              "      flex-wrap:wrap;\n",
              "      gap: 12px;\n",
              "    }\n",
              "\n",
              "    .colab-df-convert {\n",
              "      background-color: #E8F0FE;\n",
              "      border: none;\n",
              "      border-radius: 50%;\n",
              "      cursor: pointer;\n",
              "      display: none;\n",
              "      fill: #1967D2;\n",
              "      height: 32px;\n",
              "      padding: 0 0 0 0;\n",
              "      width: 32px;\n",
              "    }\n",
              "\n",
              "    .colab-df-convert:hover {\n",
              "      background-color: #E2EBFA;\n",
              "      box-shadow: 0px 1px 2px rgba(60, 64, 67, 0.3), 0px 1px 3px 1px rgba(60, 64, 67, 0.15);\n",
              "      fill: #174EA6;\n",
              "    }\n",
              "\n",
              "    [theme=dark] .colab-df-convert {\n",
              "      background-color: #3B4455;\n",
              "      fill: #D2E3FC;\n",
              "    }\n",
              "\n",
              "    [theme=dark] .colab-df-convert:hover {\n",
              "      background-color: #434B5C;\n",
              "      box-shadow: 0px 1px 3px 1px rgba(0, 0, 0, 0.15);\n",
              "      filter: drop-shadow(0px 1px 2px rgba(0, 0, 0, 0.3));\n",
              "      fill: #FFFFFF;\n",
              "    }\n",
              "  </style>\n",
              "\n",
              "      <script>\n",
              "        const buttonEl =\n",
              "          document.querySelector('#df-a793b816-e62f-4d55-9bfd-67a80a3853de button.colab-df-convert');\n",
              "        buttonEl.style.display =\n",
              "          google.colab.kernel.accessAllowed ? 'block' : 'none';\n",
              "\n",
              "        async function convertToInteractive(key) {\n",
              "          const element = document.querySelector('#df-a793b816-e62f-4d55-9bfd-67a80a3853de');\n",
              "          const dataTable =\n",
              "            await google.colab.kernel.invokeFunction('convertToInteractive',\n",
              "                                                     [key], {});\n",
              "          if (!dataTable) return;\n",
              "\n",
              "          const docLinkHtml = 'Like what you see? Visit the ' +\n",
              "            '<a target=\"_blank\" href=https://colab.research.google.com/notebooks/data_table.ipynb>data table notebook</a>'\n",
              "            + ' to learn more about interactive tables.';\n",
              "          element.innerHTML = '';\n",
              "          dataTable['output_type'] = 'display_data';\n",
              "          await google.colab.output.renderOutput(dataTable, element);\n",
              "          const docLink = document.createElement('div');\n",
              "          docLink.innerHTML = docLinkHtml;\n",
              "          element.appendChild(docLink);\n",
              "        }\n",
              "      </script>\n",
              "    </div>\n",
              "  </div>\n",
              "  "
            ],
            "text/plain": [
              "                                                col1\n",
              "0  6460590 NEG Clioquinol intoxication occurring ...\n",
              "1  8600337 NEG \"Retinoic acid syndrome\" was preve...\n",
              "2  8402502 NEG BACKGROUND: External beam radiatio...\n",
              "3  8700794 NEG Although the enuresis ceased, she ...\n",
              "4  17662448 NEG A 42-year-old woman had uneventfu..."
            ]
          },
          "execution_count": 4,
          "metadata": {},
          "output_type": "execute_result"
        }
      ],
      "source": [
        "df_neg= pd.read_csv(\"ADE-NEG.txt\", header=None, delimiter=\"\\t\", names=[\"col1\"])\n",
        "df_neg.head()"
      ]
    },
    {
      "cell_type": "code",
      "execution_count": 5,
      "metadata": {
        "colab": {
          "base_uri": "https://localhost:8080/",
          "height": 206
        },
        "id": "wrPm_XSyv-R2",
        "outputId": "3202b99d-4244-4442-a1e1-2f4c2fa7b9a6"
      },
      "outputs": [
        {
          "data": {
            "text/html": [
              "\n",
              "  <div id=\"df-e657cee3-7f61-4743-bdfd-387c4d8a1b04\">\n",
              "    <div class=\"colab-df-container\">\n",
              "      <div>\n",
              "<style scoped>\n",
              "    .dataframe tbody tr th:only-of-type {\n",
              "        vertical-align: middle;\n",
              "    }\n",
              "\n",
              "    .dataframe tbody tr th {\n",
              "        vertical-align: top;\n",
              "    }\n",
              "\n",
              "    .dataframe thead th {\n",
              "        text-align: right;\n",
              "    }\n",
              "</style>\n",
              "<table border=\"1\" class=\"dataframe\">\n",
              "  <thead>\n",
              "    <tr style=\"text-align: right;\">\n",
              "      <th></th>\n",
              "      <th>text</th>\n",
              "      <th>category</th>\n",
              "    </tr>\n",
              "  </thead>\n",
              "  <tbody>\n",
              "    <tr>\n",
              "      <th>0</th>\n",
              "      <td>Clioquinol intoxication occurring in the trea...</td>\n",
              "      <td>neg</td>\n",
              "    </tr>\n",
              "    <tr>\n",
              "      <th>1</th>\n",
              "      <td>\"Retinoic acid syndrome\" was prevented with s...</td>\n",
              "      <td>neg</td>\n",
              "    </tr>\n",
              "    <tr>\n",
              "      <th>2</th>\n",
              "      <td>BACKGROUND: External beam radiation therapy o...</td>\n",
              "      <td>neg</td>\n",
              "    </tr>\n",
              "    <tr>\n",
              "      <th>3</th>\n",
              "      <td>Although the enuresis ceased, she developed t...</td>\n",
              "      <td>neg</td>\n",
              "    </tr>\n",
              "    <tr>\n",
              "      <th>4</th>\n",
              "      <td>A 42-year-old woman had uneventful bilateral ...</td>\n",
              "      <td>neg</td>\n",
              "    </tr>\n",
              "  </tbody>\n",
              "</table>\n",
              "</div>\n",
              "      <button class=\"colab-df-convert\" onclick=\"convertToInteractive('df-e657cee3-7f61-4743-bdfd-387c4d8a1b04')\"\n",
              "              title=\"Convert this dataframe to an interactive table.\"\n",
              "              style=\"display:none;\">\n",
              "        \n",
              "  <svg xmlns=\"http://www.w3.org/2000/svg\" height=\"24px\"viewBox=\"0 0 24 24\"\n",
              "       width=\"24px\">\n",
              "    <path d=\"M0 0h24v24H0V0z\" fill=\"none\"/>\n",
              "    <path d=\"M18.56 5.44l.94 2.06.94-2.06 2.06-.94-2.06-.94-.94-2.06-.94 2.06-2.06.94zm-11 1L8.5 8.5l.94-2.06 2.06-.94-2.06-.94L8.5 2.5l-.94 2.06-2.06.94zm10 10l.94 2.06.94-2.06 2.06-.94-2.06-.94-.94-2.06-.94 2.06-2.06.94z\"/><path d=\"M17.41 7.96l-1.37-1.37c-.4-.4-.92-.59-1.43-.59-.52 0-1.04.2-1.43.59L10.3 9.45l-7.72 7.72c-.78.78-.78 2.05 0 2.83L4 21.41c.39.39.9.59 1.41.59.51 0 1.02-.2 1.41-.59l7.78-7.78 2.81-2.81c.8-.78.8-2.07 0-2.86zM5.41 20L4 18.59l7.72-7.72 1.47 1.35L5.41 20z\"/>\n",
              "  </svg>\n",
              "      </button>\n",
              "      \n",
              "  <style>\n",
              "    .colab-df-container {\n",
              "      display:flex;\n",
              "      flex-wrap:wrap;\n",
              "      gap: 12px;\n",
              "    }\n",
              "\n",
              "    .colab-df-convert {\n",
              "      background-color: #E8F0FE;\n",
              "      border: none;\n",
              "      border-radius: 50%;\n",
              "      cursor: pointer;\n",
              "      display: none;\n",
              "      fill: #1967D2;\n",
              "      height: 32px;\n",
              "      padding: 0 0 0 0;\n",
              "      width: 32px;\n",
              "    }\n",
              "\n",
              "    .colab-df-convert:hover {\n",
              "      background-color: #E2EBFA;\n",
              "      box-shadow: 0px 1px 2px rgba(60, 64, 67, 0.3), 0px 1px 3px 1px rgba(60, 64, 67, 0.15);\n",
              "      fill: #174EA6;\n",
              "    }\n",
              "\n",
              "    [theme=dark] .colab-df-convert {\n",
              "      background-color: #3B4455;\n",
              "      fill: #D2E3FC;\n",
              "    }\n",
              "\n",
              "    [theme=dark] .colab-df-convert:hover {\n",
              "      background-color: #434B5C;\n",
              "      box-shadow: 0px 1px 3px 1px rgba(0, 0, 0, 0.15);\n",
              "      filter: drop-shadow(0px 1px 2px rgba(0, 0, 0, 0.3));\n",
              "      fill: #FFFFFF;\n",
              "    }\n",
              "  </style>\n",
              "\n",
              "      <script>\n",
              "        const buttonEl =\n",
              "          document.querySelector('#df-e657cee3-7f61-4743-bdfd-387c4d8a1b04 button.colab-df-convert');\n",
              "        buttonEl.style.display =\n",
              "          google.colab.kernel.accessAllowed ? 'block' : 'none';\n",
              "\n",
              "        async function convertToInteractive(key) {\n",
              "          const element = document.querySelector('#df-e657cee3-7f61-4743-bdfd-387c4d8a1b04');\n",
              "          const dataTable =\n",
              "            await google.colab.kernel.invokeFunction('convertToInteractive',\n",
              "                                                     [key], {});\n",
              "          if (!dataTable) return;\n",
              "\n",
              "          const docLinkHtml = 'Like what you see? Visit the ' +\n",
              "            '<a target=\"_blank\" href=https://colab.research.google.com/notebooks/data_table.ipynb>data table notebook</a>'\n",
              "            + ' to learn more about interactive tables.';\n",
              "          element.innerHTML = '';\n",
              "          dataTable['output_type'] = 'display_data';\n",
              "          await google.colab.output.renderOutput(dataTable, element);\n",
              "          const docLink = document.createElement('div');\n",
              "          docLink.innerHTML = docLinkHtml;\n",
              "          element.appendChild(docLink);\n",
              "        }\n",
              "      </script>\n",
              "    </div>\n",
              "  </div>\n",
              "  "
            ],
            "text/plain": [
              "                                                text category\n",
              "0   Clioquinol intoxication occurring in the trea...      neg\n",
              "1   \"Retinoic acid syndrome\" was prevented with s...      neg\n",
              "2   BACKGROUND: External beam radiation therapy o...      neg\n",
              "3   Although the enuresis ceased, she developed t...      neg\n",
              "4   A 42-year-old woman had uneventful bilateral ...      neg"
            ]
          },
          "execution_count": 5,
          "metadata": {},
          "output_type": "execute_result"
        }
      ],
      "source": [
        "df_neg['text'] =  df_neg.col1.str.split('NEG').str[1]\n",
        "df_neg[\"category\"] = \"neg\"\n",
        "df_neg= df_neg[[\"text\", \"category\"]]\n",
        "df_neg.head()"
      ]
    },
    {
      "cell_type": "markdown",
      "metadata": {
        "id": "gzu9ELiirkMf"
      },
      "source": [
        "**ADE Positive Dataset**"
      ]
    },
    {
      "cell_type": "code",
      "execution_count": 6,
      "metadata": {
        "colab": {
          "base_uri": "https://localhost:8080/",
          "height": 206
        },
        "id": "F4Y20JbRqcLP",
        "outputId": "d5ef47c3-d9db-4df9-af4f-b77a58e6fa9e"
      },
      "outputs": [
        {
          "data": {
            "text/html": [
              "\n",
              "  <div id=\"df-731a2ebd-afd8-4d9a-ad7a-0552e6db839d\">\n",
              "    <div class=\"colab-df-container\">\n",
              "      <div>\n",
              "<style scoped>\n",
              "    .dataframe tbody tr th:only-of-type {\n",
              "        vertical-align: middle;\n",
              "    }\n",
              "\n",
              "    .dataframe tbody tr th {\n",
              "        vertical-align: top;\n",
              "    }\n",
              "\n",
              "    .dataframe thead th {\n",
              "        text-align: right;\n",
              "    }\n",
              "</style>\n",
              "<table border=\"1\" class=\"dataframe\">\n",
              "  <thead>\n",
              "    <tr style=\"text-align: right;\">\n",
              "      <th></th>\n",
              "      <th>0</th>\n",
              "      <th>1</th>\n",
              "      <th>2</th>\n",
              "      <th>3</th>\n",
              "      <th>4</th>\n",
              "      <th>5</th>\n",
              "      <th>6</th>\n",
              "      <th>7</th>\n",
              "    </tr>\n",
              "  </thead>\n",
              "  <tbody>\n",
              "    <tr>\n",
              "      <th>0</th>\n",
              "      <td>10030778</td>\n",
              "      <td>Intravenous azithromycin-induced ototoxicity.</td>\n",
              "      <td>ototoxicity</td>\n",
              "      <td>43</td>\n",
              "      <td>54</td>\n",
              "      <td>azithromycin</td>\n",
              "      <td>22</td>\n",
              "      <td>34</td>\n",
              "    </tr>\n",
              "    <tr>\n",
              "      <th>1</th>\n",
              "      <td>10048291</td>\n",
              "      <td>Immobilization, while Paget's bone disease was...</td>\n",
              "      <td>increased calcium-release</td>\n",
              "      <td>960</td>\n",
              "      <td>985</td>\n",
              "      <td>dihydrotachysterol</td>\n",
              "      <td>908</td>\n",
              "      <td>926</td>\n",
              "    </tr>\n",
              "    <tr>\n",
              "      <th>2</th>\n",
              "      <td>10048291</td>\n",
              "      <td>Unaccountable severe hypercalcemia in a patien...</td>\n",
              "      <td>hypercalcemia</td>\n",
              "      <td>31</td>\n",
              "      <td>44</td>\n",
              "      <td>dihydrotachysterol</td>\n",
              "      <td>94</td>\n",
              "      <td>112</td>\n",
              "    </tr>\n",
              "    <tr>\n",
              "      <th>3</th>\n",
              "      <td>10082597</td>\n",
              "      <td>METHODS: We report two cases of pseudoporphyri...</td>\n",
              "      <td>pseudoporphyria</td>\n",
              "      <td>620</td>\n",
              "      <td>635</td>\n",
              "      <td>naproxen</td>\n",
              "      <td>646</td>\n",
              "      <td>654</td>\n",
              "    </tr>\n",
              "    <tr>\n",
              "      <th>4</th>\n",
              "      <td>10082597</td>\n",
              "      <td>METHODS: We report two cases of pseudoporphyri...</td>\n",
              "      <td>pseudoporphyria</td>\n",
              "      <td>620</td>\n",
              "      <td>635</td>\n",
              "      <td>oxaprozin</td>\n",
              "      <td>659</td>\n",
              "      <td>668</td>\n",
              "    </tr>\n",
              "  </tbody>\n",
              "</table>\n",
              "</div>\n",
              "      <button class=\"colab-df-convert\" onclick=\"convertToInteractive('df-731a2ebd-afd8-4d9a-ad7a-0552e6db839d')\"\n",
              "              title=\"Convert this dataframe to an interactive table.\"\n",
              "              style=\"display:none;\">\n",
              "        \n",
              "  <svg xmlns=\"http://www.w3.org/2000/svg\" height=\"24px\"viewBox=\"0 0 24 24\"\n",
              "       width=\"24px\">\n",
              "    <path d=\"M0 0h24v24H0V0z\" fill=\"none\"/>\n",
              "    <path d=\"M18.56 5.44l.94 2.06.94-2.06 2.06-.94-2.06-.94-.94-2.06-.94 2.06-2.06.94zm-11 1L8.5 8.5l.94-2.06 2.06-.94-2.06-.94L8.5 2.5l-.94 2.06-2.06.94zm10 10l.94 2.06.94-2.06 2.06-.94-2.06-.94-.94-2.06-.94 2.06-2.06.94z\"/><path d=\"M17.41 7.96l-1.37-1.37c-.4-.4-.92-.59-1.43-.59-.52 0-1.04.2-1.43.59L10.3 9.45l-7.72 7.72c-.78.78-.78 2.05 0 2.83L4 21.41c.39.39.9.59 1.41.59.51 0 1.02-.2 1.41-.59l7.78-7.78 2.81-2.81c.8-.78.8-2.07 0-2.86zM5.41 20L4 18.59l7.72-7.72 1.47 1.35L5.41 20z\"/>\n",
              "  </svg>\n",
              "      </button>\n",
              "      \n",
              "  <style>\n",
              "    .colab-df-container {\n",
              "      display:flex;\n",
              "      flex-wrap:wrap;\n",
              "      gap: 12px;\n",
              "    }\n",
              "\n",
              "    .colab-df-convert {\n",
              "      background-color: #E8F0FE;\n",
              "      border: none;\n",
              "      border-radius: 50%;\n",
              "      cursor: pointer;\n",
              "      display: none;\n",
              "      fill: #1967D2;\n",
              "      height: 32px;\n",
              "      padding: 0 0 0 0;\n",
              "      width: 32px;\n",
              "    }\n",
              "\n",
              "    .colab-df-convert:hover {\n",
              "      background-color: #E2EBFA;\n",
              "      box-shadow: 0px 1px 2px rgba(60, 64, 67, 0.3), 0px 1px 3px 1px rgba(60, 64, 67, 0.15);\n",
              "      fill: #174EA6;\n",
              "    }\n",
              "\n",
              "    [theme=dark] .colab-df-convert {\n",
              "      background-color: #3B4455;\n",
              "      fill: #D2E3FC;\n",
              "    }\n",
              "\n",
              "    [theme=dark] .colab-df-convert:hover {\n",
              "      background-color: #434B5C;\n",
              "      box-shadow: 0px 1px 3px 1px rgba(0, 0, 0, 0.15);\n",
              "      filter: drop-shadow(0px 1px 2px rgba(0, 0, 0, 0.3));\n",
              "      fill: #FFFFFF;\n",
              "    }\n",
              "  </style>\n",
              "\n",
              "      <script>\n",
              "        const buttonEl =\n",
              "          document.querySelector('#df-731a2ebd-afd8-4d9a-ad7a-0552e6db839d button.colab-df-convert');\n",
              "        buttonEl.style.display =\n",
              "          google.colab.kernel.accessAllowed ? 'block' : 'none';\n",
              "\n",
              "        async function convertToInteractive(key) {\n",
              "          const element = document.querySelector('#df-731a2ebd-afd8-4d9a-ad7a-0552e6db839d');\n",
              "          const dataTable =\n",
              "            await google.colab.kernel.invokeFunction('convertToInteractive',\n",
              "                                                     [key], {});\n",
              "          if (!dataTable) return;\n",
              "\n",
              "          const docLinkHtml = 'Like what you see? Visit the ' +\n",
              "            '<a target=\"_blank\" href=https://colab.research.google.com/notebooks/data_table.ipynb>data table notebook</a>'\n",
              "            + ' to learn more about interactive tables.';\n",
              "          element.innerHTML = '';\n",
              "          dataTable['output_type'] = 'display_data';\n",
              "          await google.colab.output.renderOutput(dataTable, element);\n",
              "          const docLink = document.createElement('div');\n",
              "          docLink.innerHTML = docLinkHtml;\n",
              "          element.appendChild(docLink);\n",
              "        }\n",
              "      </script>\n",
              "    </div>\n",
              "  </div>\n",
              "  "
            ],
            "text/plain": [
              "          0                                                  1  \\\n",
              "0  10030778      Intravenous azithromycin-induced ototoxicity.   \n",
              "1  10048291  Immobilization, while Paget's bone disease was...   \n",
              "2  10048291  Unaccountable severe hypercalcemia in a patien...   \n",
              "3  10082597  METHODS: We report two cases of pseudoporphyri...   \n",
              "4  10082597  METHODS: We report two cases of pseudoporphyri...   \n",
              "\n",
              "                           2    3    4                   5    6    7  \n",
              "0                ototoxicity   43   54        azithromycin   22   34  \n",
              "1  increased calcium-release  960  985  dihydrotachysterol  908  926  \n",
              "2              hypercalcemia   31   44  dihydrotachysterol   94  112  \n",
              "3            pseudoporphyria  620  635            naproxen  646  654  \n",
              "4            pseudoporphyria  620  635           oxaprozin  659  668  "
            ]
          },
          "execution_count": 6,
          "metadata": {},
          "output_type": "execute_result"
        }
      ],
      "source": [
        "df_pos= pd.read_csv(\"DRUG-AE.rel\", header=None, delimiter=\"|\")\n",
        "df_pos.head()"
      ]
    },
    {
      "cell_type": "code",
      "execution_count": 7,
      "metadata": {
        "colab": {
          "base_uri": "https://localhost:8080/",
          "height": 206
        },
        "id": "ICMIXpnHrc5u",
        "outputId": "a8ced38a-869a-4e72-c945-7f3303117b93"
      },
      "outputs": [
        {
          "data": {
            "text/html": [
              "\n",
              "  <div id=\"df-f6211e25-2666-49d5-a497-776808888bf8\">\n",
              "    <div class=\"colab-df-container\">\n",
              "      <div>\n",
              "<style scoped>\n",
              "    .dataframe tbody tr th:only-of-type {\n",
              "        vertical-align: middle;\n",
              "    }\n",
              "\n",
              "    .dataframe tbody tr th {\n",
              "        vertical-align: top;\n",
              "    }\n",
              "\n",
              "    .dataframe thead th {\n",
              "        text-align: right;\n",
              "    }\n",
              "</style>\n",
              "<table border=\"1\" class=\"dataframe\">\n",
              "  <thead>\n",
              "    <tr style=\"text-align: right;\">\n",
              "      <th></th>\n",
              "      <th>text</th>\n",
              "      <th>category</th>\n",
              "    </tr>\n",
              "  </thead>\n",
              "  <tbody>\n",
              "    <tr>\n",
              "      <th>0</th>\n",
              "      <td>Intravenous azithromycin-induced ototoxicity.</td>\n",
              "      <td>pos</td>\n",
              "    </tr>\n",
              "    <tr>\n",
              "      <th>1</th>\n",
              "      <td>Immobilization, while Paget's bone disease was...</td>\n",
              "      <td>pos</td>\n",
              "    </tr>\n",
              "    <tr>\n",
              "      <th>2</th>\n",
              "      <td>Unaccountable severe hypercalcemia in a patien...</td>\n",
              "      <td>pos</td>\n",
              "    </tr>\n",
              "    <tr>\n",
              "      <th>3</th>\n",
              "      <td>METHODS: We report two cases of pseudoporphyri...</td>\n",
              "      <td>pos</td>\n",
              "    </tr>\n",
              "    <tr>\n",
              "      <th>4</th>\n",
              "      <td>METHODS: We report two cases of pseudoporphyri...</td>\n",
              "      <td>pos</td>\n",
              "    </tr>\n",
              "  </tbody>\n",
              "</table>\n",
              "</div>\n",
              "      <button class=\"colab-df-convert\" onclick=\"convertToInteractive('df-f6211e25-2666-49d5-a497-776808888bf8')\"\n",
              "              title=\"Convert this dataframe to an interactive table.\"\n",
              "              style=\"display:none;\">\n",
              "        \n",
              "  <svg xmlns=\"http://www.w3.org/2000/svg\" height=\"24px\"viewBox=\"0 0 24 24\"\n",
              "       width=\"24px\">\n",
              "    <path d=\"M0 0h24v24H0V0z\" fill=\"none\"/>\n",
              "    <path d=\"M18.56 5.44l.94 2.06.94-2.06 2.06-.94-2.06-.94-.94-2.06-.94 2.06-2.06.94zm-11 1L8.5 8.5l.94-2.06 2.06-.94-2.06-.94L8.5 2.5l-.94 2.06-2.06.94zm10 10l.94 2.06.94-2.06 2.06-.94-2.06-.94-.94-2.06-.94 2.06-2.06.94z\"/><path d=\"M17.41 7.96l-1.37-1.37c-.4-.4-.92-.59-1.43-.59-.52 0-1.04.2-1.43.59L10.3 9.45l-7.72 7.72c-.78.78-.78 2.05 0 2.83L4 21.41c.39.39.9.59 1.41.59.51 0 1.02-.2 1.41-.59l7.78-7.78 2.81-2.81c.8-.78.8-2.07 0-2.86zM5.41 20L4 18.59l7.72-7.72 1.47 1.35L5.41 20z\"/>\n",
              "  </svg>\n",
              "      </button>\n",
              "      \n",
              "  <style>\n",
              "    .colab-df-container {\n",
              "      display:flex;\n",
              "      flex-wrap:wrap;\n",
              "      gap: 12px;\n",
              "    }\n",
              "\n",
              "    .colab-df-convert {\n",
              "      background-color: #E8F0FE;\n",
              "      border: none;\n",
              "      border-radius: 50%;\n",
              "      cursor: pointer;\n",
              "      display: none;\n",
              "      fill: #1967D2;\n",
              "      height: 32px;\n",
              "      padding: 0 0 0 0;\n",
              "      width: 32px;\n",
              "    }\n",
              "\n",
              "    .colab-df-convert:hover {\n",
              "      background-color: #E2EBFA;\n",
              "      box-shadow: 0px 1px 2px rgba(60, 64, 67, 0.3), 0px 1px 3px 1px rgba(60, 64, 67, 0.15);\n",
              "      fill: #174EA6;\n",
              "    }\n",
              "\n",
              "    [theme=dark] .colab-df-convert {\n",
              "      background-color: #3B4455;\n",
              "      fill: #D2E3FC;\n",
              "    }\n",
              "\n",
              "    [theme=dark] .colab-df-convert:hover {\n",
              "      background-color: #434B5C;\n",
              "      box-shadow: 0px 1px 3px 1px rgba(0, 0, 0, 0.15);\n",
              "      filter: drop-shadow(0px 1px 2px rgba(0, 0, 0, 0.3));\n",
              "      fill: #FFFFFF;\n",
              "    }\n",
              "  </style>\n",
              "\n",
              "      <script>\n",
              "        const buttonEl =\n",
              "          document.querySelector('#df-f6211e25-2666-49d5-a497-776808888bf8 button.colab-df-convert');\n",
              "        buttonEl.style.display =\n",
              "          google.colab.kernel.accessAllowed ? 'block' : 'none';\n",
              "\n",
              "        async function convertToInteractive(key) {\n",
              "          const element = document.querySelector('#df-f6211e25-2666-49d5-a497-776808888bf8');\n",
              "          const dataTable =\n",
              "            await google.colab.kernel.invokeFunction('convertToInteractive',\n",
              "                                                     [key], {});\n",
              "          if (!dataTable) return;\n",
              "\n",
              "          const docLinkHtml = 'Like what you see? Visit the ' +\n",
              "            '<a target=\"_blank\" href=https://colab.research.google.com/notebooks/data_table.ipynb>data table notebook</a>'\n",
              "            + ' to learn more about interactive tables.';\n",
              "          element.innerHTML = '';\n",
              "          dataTable['output_type'] = 'display_data';\n",
              "          await google.colab.output.renderOutput(dataTable, element);\n",
              "          const docLink = document.createElement('div');\n",
              "          docLink.innerHTML = docLinkHtml;\n",
              "          element.appendChild(docLink);\n",
              "        }\n",
              "      </script>\n",
              "    </div>\n",
              "  </div>\n",
              "  "
            ],
            "text/plain": [
              "                                                text category\n",
              "0      Intravenous azithromycin-induced ototoxicity.      pos\n",
              "1  Immobilization, while Paget's bone disease was...      pos\n",
              "2  Unaccountable severe hypercalcemia in a patien...      pos\n",
              "3  METHODS: We report two cases of pseudoporphyri...      pos\n",
              "4  METHODS: We report two cases of pseudoporphyri...      pos"
            ]
          },
          "execution_count": 7,
          "metadata": {},
          "output_type": "execute_result"
        }
      ],
      "source": [
        "df_pos[\"category\"]= \"pos\"\n",
        "df_pos.rename(columns={1: \"text\"}, inplace=True)\n",
        "df_pos= df_pos[[\"text\", \"category\"]]\n",
        "df_pos.head()"
      ]
    },
    {
      "cell_type": "markdown",
      "metadata": {
        "id": "V2iOoomSwTeH"
      },
      "source": [
        "**Merging Positive and Negative dataset**"
      ]
    },
    {
      "cell_type": "code",
      "execution_count": 8,
      "metadata": {
        "colab": {
          "base_uri": "https://localhost:8080/",
          "height": 206
        },
        "id": "3ju23pYJrcxT",
        "outputId": "3d548adc-7c43-43c2-fa62-5d37bd052f6b"
      },
      "outputs": [
        {
          "data": {
            "text/html": [
              "\n",
              "  <div id=\"df-679fe569-1da9-4b31-9e0f-96373ee0d96a\">\n",
              "    <div class=\"colab-df-container\">\n",
              "      <div>\n",
              "<style scoped>\n",
              "    .dataframe tbody tr th:only-of-type {\n",
              "        vertical-align: middle;\n",
              "    }\n",
              "\n",
              "    .dataframe tbody tr th {\n",
              "        vertical-align: top;\n",
              "    }\n",
              "\n",
              "    .dataframe thead th {\n",
              "        text-align: right;\n",
              "    }\n",
              "</style>\n",
              "<table border=\"1\" class=\"dataframe\">\n",
              "  <thead>\n",
              "    <tr style=\"text-align: right;\">\n",
              "      <th></th>\n",
              "      <th>text</th>\n",
              "      <th>category</th>\n",
              "    </tr>\n",
              "  </thead>\n",
              "  <tbody>\n",
              "    <tr>\n",
              "      <th>0</th>\n",
              "      <td>Clioquinol intoxication occurring in the trea...</td>\n",
              "      <td>neg</td>\n",
              "    </tr>\n",
              "    <tr>\n",
              "      <th>1</th>\n",
              "      <td>\"Retinoic acid syndrome\" was prevented with s...</td>\n",
              "      <td>neg</td>\n",
              "    </tr>\n",
              "    <tr>\n",
              "      <th>2</th>\n",
              "      <td>BACKGROUND: External beam radiation therapy o...</td>\n",
              "      <td>neg</td>\n",
              "    </tr>\n",
              "    <tr>\n",
              "      <th>3</th>\n",
              "      <td>Although the enuresis ceased, she developed t...</td>\n",
              "      <td>neg</td>\n",
              "    </tr>\n",
              "    <tr>\n",
              "      <th>4</th>\n",
              "      <td>A 42-year-old woman had uneventful bilateral ...</td>\n",
              "      <td>neg</td>\n",
              "    </tr>\n",
              "  </tbody>\n",
              "</table>\n",
              "</div>\n",
              "      <button class=\"colab-df-convert\" onclick=\"convertToInteractive('df-679fe569-1da9-4b31-9e0f-96373ee0d96a')\"\n",
              "              title=\"Convert this dataframe to an interactive table.\"\n",
              "              style=\"display:none;\">\n",
              "        \n",
              "  <svg xmlns=\"http://www.w3.org/2000/svg\" height=\"24px\"viewBox=\"0 0 24 24\"\n",
              "       width=\"24px\">\n",
              "    <path d=\"M0 0h24v24H0V0z\" fill=\"none\"/>\n",
              "    <path d=\"M18.56 5.44l.94 2.06.94-2.06 2.06-.94-2.06-.94-.94-2.06-.94 2.06-2.06.94zm-11 1L8.5 8.5l.94-2.06 2.06-.94-2.06-.94L8.5 2.5l-.94 2.06-2.06.94zm10 10l.94 2.06.94-2.06 2.06-.94-2.06-.94-.94-2.06-.94 2.06-2.06.94z\"/><path d=\"M17.41 7.96l-1.37-1.37c-.4-.4-.92-.59-1.43-.59-.52 0-1.04.2-1.43.59L10.3 9.45l-7.72 7.72c-.78.78-.78 2.05 0 2.83L4 21.41c.39.39.9.59 1.41.59.51 0 1.02-.2 1.41-.59l7.78-7.78 2.81-2.81c.8-.78.8-2.07 0-2.86zM5.41 20L4 18.59l7.72-7.72 1.47 1.35L5.41 20z\"/>\n",
              "  </svg>\n",
              "      </button>\n",
              "      \n",
              "  <style>\n",
              "    .colab-df-container {\n",
              "      display:flex;\n",
              "      flex-wrap:wrap;\n",
              "      gap: 12px;\n",
              "    }\n",
              "\n",
              "    .colab-df-convert {\n",
              "      background-color: #E8F0FE;\n",
              "      border: none;\n",
              "      border-radius: 50%;\n",
              "      cursor: pointer;\n",
              "      display: none;\n",
              "      fill: #1967D2;\n",
              "      height: 32px;\n",
              "      padding: 0 0 0 0;\n",
              "      width: 32px;\n",
              "    }\n",
              "\n",
              "    .colab-df-convert:hover {\n",
              "      background-color: #E2EBFA;\n",
              "      box-shadow: 0px 1px 2px rgba(60, 64, 67, 0.3), 0px 1px 3px 1px rgba(60, 64, 67, 0.15);\n",
              "      fill: #174EA6;\n",
              "    }\n",
              "\n",
              "    [theme=dark] .colab-df-convert {\n",
              "      background-color: #3B4455;\n",
              "      fill: #D2E3FC;\n",
              "    }\n",
              "\n",
              "    [theme=dark] .colab-df-convert:hover {\n",
              "      background-color: #434B5C;\n",
              "      box-shadow: 0px 1px 3px 1px rgba(0, 0, 0, 0.15);\n",
              "      filter: drop-shadow(0px 1px 2px rgba(0, 0, 0, 0.3));\n",
              "      fill: #FFFFFF;\n",
              "    }\n",
              "  </style>\n",
              "\n",
              "      <script>\n",
              "        const buttonEl =\n",
              "          document.querySelector('#df-679fe569-1da9-4b31-9e0f-96373ee0d96a button.colab-df-convert');\n",
              "        buttonEl.style.display =\n",
              "          google.colab.kernel.accessAllowed ? 'block' : 'none';\n",
              "\n",
              "        async function convertToInteractive(key) {\n",
              "          const element = document.querySelector('#df-679fe569-1da9-4b31-9e0f-96373ee0d96a');\n",
              "          const dataTable =\n",
              "            await google.colab.kernel.invokeFunction('convertToInteractive',\n",
              "                                                     [key], {});\n",
              "          if (!dataTable) return;\n",
              "\n",
              "          const docLinkHtml = 'Like what you see? Visit the ' +\n",
              "            '<a target=\"_blank\" href=https://colab.research.google.com/notebooks/data_table.ipynb>data table notebook</a>'\n",
              "            + ' to learn more about interactive tables.';\n",
              "          element.innerHTML = '';\n",
              "          dataTable['output_type'] = 'display_data';\n",
              "          await google.colab.output.renderOutput(dataTable, element);\n",
              "          const docLink = document.createElement('div');\n",
              "          docLink.innerHTML = docLinkHtml;\n",
              "          element.appendChild(docLink);\n",
              "        }\n",
              "      </script>\n",
              "    </div>\n",
              "  </div>\n",
              "  "
            ],
            "text/plain": [
              "                                                text category\n",
              "0   Clioquinol intoxication occurring in the trea...      neg\n",
              "1   \"Retinoic acid syndrome\" was prevented with s...      neg\n",
              "2   BACKGROUND: External beam radiation therapy o...      neg\n",
              "3   Although the enuresis ceased, she developed t...      neg\n",
              "4   A 42-year-old woman had uneventful bilateral ...      neg"
            ]
          },
          "execution_count": 8,
          "metadata": {},
          "output_type": "execute_result"
        }
      ],
      "source": [
        "ade_df= pd.concat([df_neg, df_pos])\n",
        "ade_df.head()"
      ]
    },
    {
      "cell_type": "code",
      "execution_count": 9,
      "metadata": {
        "colab": {
          "base_uri": "https://localhost:8080/"
        },
        "id": "Lg_RjRi1lFUa",
        "outputId": "993aaf3e-40d0-463d-a9af-5470f91fab70"
      },
      "outputs": [
        {
          "data": {
            "text/plain": [
              "neg    16695\n",
              "pos     6821\n",
              "Name: category, dtype: int64"
            ]
          },
          "execution_count": 9,
          "metadata": {},
          "output_type": "execute_result"
        }
      ],
      "source": [
        "ade_df[\"category\"].value_counts()"
      ]
    },
    {
      "cell_type": "code",
      "execution_count": 10,
      "metadata": {
        "colab": {
          "base_uri": "https://localhost:8080/"
        },
        "id": "wMWdhHvjzGRp",
        "outputId": "3e7f05d4-da31-4f5a-d744-846d88fafba7"
      },
      "outputs": [
        {
          "name": "stdout",
          "output_type": "stream",
          "text": [
            "<class 'pandas.core.frame.DataFrame'>\n",
            "Int64Index: 23516 entries, 0 to 6820\n",
            "Data columns (total 2 columns):\n",
            " #   Column    Non-Null Count  Dtype \n",
            "---  ------    --------------  ----- \n",
            " 0   text      23516 non-null  object\n",
            " 1   category  23516 non-null  object\n",
            "dtypes: object(2)\n",
            "memory usage: 551.2+ KB\n"
          ]
        }
      ],
      "source": [
        "ade_df.info()"
      ]
    },
    {
      "cell_type": "markdown",
      "metadata": {
        "id": "Gd0njm6qac8Q"
      },
      "source": [
        "We take 30% of the data to make a faster run. You can use all data for better scores."
      ]
    },
    {
      "cell_type": "code",
      "execution_count": 11,
      "metadata": {
        "colab": {
          "base_uri": "https://localhost:8080/"
        },
        "id": "54RWnCr0yWL5",
        "outputId": "9d97326b-9605-4954-8d0b-c108e3f4dfa1"
      },
      "outputs": [
        {
          "name": "stdout",
          "output_type": "stream",
          "text": [
            "Training Dataset Count: 5531\n",
            "Test Dataset Count: 1427\n"
          ]
        }
      ],
      "source": [
        "spark_df = spark.createDataFrame(ade_df).sample(0.3, 3) # limit the data\n",
        "\n",
        "trainingData, testData = spark_df.randomSplit([0.8, 0.2], seed = 100)\n",
        "\n",
        "print(\"Training Dataset Count: \" + str(trainingData.count()))\n",
        "print(\"Test Dataset Count: \" + str(testData.count()))"
      ]
    },
    {
      "cell_type": "code",
      "execution_count": 12,
      "metadata": {
        "colab": {
          "base_uri": "https://localhost:8080/"
        },
        "id": "c3nAmtMmcu_q",
        "outputId": "7dbccc45-16ab-4716-8760-ea6a0c00830e"
      },
      "outputs": [
        {
          "name": "stdout",
          "output_type": "stream",
          "text": [
            "+--------+-----+\n",
            "|category|count|\n",
            "+--------+-----+\n",
            "|     neg| 4932|\n",
            "|     pos| 2026|\n",
            "+--------+-----+\n",
            "\n"
          ]
        }
      ],
      "source": [
        "spark_df.groupBy(\"category\").count().show()"
      ]
    },
    {
      "cell_type": "code",
      "execution_count": 13,
      "metadata": {
        "colab": {
          "base_uri": "https://localhost:8080/"
        },
        "id": "UXGiAxzX_RJd",
        "outputId": "1ab8bd0c-5841-4c5b-f086-8d0a9738c4c7"
      },
      "outputs": [
        {
          "name": "stdout",
          "output_type": "stream",
          "text": [
            "root\n",
            " |-- text: string (nullable = true)\n",
            " |-- category: string (nullable = true)\n",
            "\n"
          ]
        }
      ],
      "source": [
        "spark_df.printSchema()"
      ]
    },
    {
      "cell_type": "code",
      "execution_count": 14,
      "metadata": {
        "colab": {
          "base_uri": "https://localhost:8080/"
        },
        "id": "fnTr4Bs_seoA",
        "outputId": "b1a6e3be-183c-48b1-c8ad-7c0bcb4c4a45"
      },
      "outputs": [
        {
          "data": {
            "text/plain": [
              "[Row(text=' Clioquinol intoxication occurring in the treatment of acrodermatitis enteropathica with reference to SMON outside of Japan.', category='neg'),\n",
              " Row(text=' A 42-year-old woman had uneventful bilateral laser-assisted subepithelial keratectomy (LASEK) to correct myopia.', category='neg'),\n",
              " Row(text=' A 16-year-old girl with erosive, polyarticular JRA showed no detectable change in her articular disease following nine exchanges.', category='neg')]"
            ]
          },
          "execution_count": 14,
          "metadata": {},
          "output_type": "execute_result"
        }
      ],
      "source": [
        "spark_df.head(3)"
      ]
    },
    {
      "cell_type": "markdown",
      "metadata": {
        "id": "BCAJFO4YDbcj"
      },
      "source": [
        "## 100 Dimension Healthcare Embeddings (embeddings_healthcare_100d)\n",
        "\n"
      ]
    },
    {
      "cell_type": "markdown",
      "metadata": {
        "id": "oDySIR35ECjy"
      },
      "source": [
        "Now we will extract [healthcare_100d embeddings](https://nlp.johnsnowlabs.com/2020/05/29/embeddings_healthcare_100d_en.html) and use it in the classificaiton model training."
      ]
    },
    {
      "cell_type": "code",
      "execution_count": 15,
      "metadata": {
        "colab": {
          "base_uri": "https://localhost:8080/"
        },
        "id": "oxFX8bVEDbcj",
        "outputId": "772fc721-5dbd-4eba-8fcd-d2fb743302c8"
      },
      "outputs": [
        {
          "name": "stdout",
          "output_type": "stream",
          "text": [
            "embeddings_healthcare_100d download started this may take some time.\n",
            "Approximate size to download 475.8 MB\n",
            "[OK!]\n"
          ]
        }
      ],
      "source": [
        "document_assembler = DocumentAssembler()\\\n",
        "        .setInputCol(\"text\")\\\n",
        "        .setOutputCol(\"document\")\n",
        "\n",
        "tokenizer = Tokenizer() \\\n",
        "            .setInputCols([\"document\"]) \\\n",
        "            .setOutputCol(\"token\")\n",
        "\n",
        "word_embeddings = WordEmbeddingsModel.pretrained(\"embeddings_healthcare_100d\",\"en\",\"clinical/models\")\\\n",
        "        .setInputCols([\"document\",\"token\"])\\\n",
        "        .setOutputCol(\"word_embeddings\")\n",
        "\n",
        "sentence_embeddings = SentenceEmbeddings() \\\n",
        "        .setInputCols([\"document\", \"word_embeddings\"]) \\\n",
        "        .setOutputCol(\"sentence_embeddings\") \\\n",
        "        .setPoolingStrategy(\"AVERAGE\")\n",
        "\n",
        "embeddings_pipeline = Pipeline(\n",
        "    stages = [\n",
        "        document_assembler,\n",
        "        tokenizer,\n",
        "        word_embeddings,\n",
        "        sentence_embeddings,\n",
        "\n",
        "    ])"
      ]
    },
    {
      "cell_type": "code",
      "execution_count": 16,
      "metadata": {
        "colab": {
          "base_uri": "https://localhost:8080/"
        },
        "id": "ihBi5IicDbcj",
        "outputId": "fad3c9f3-8df1-4fc6-bf18-0d8bfaf1fb62"
      },
      "outputs": [
        {
          "name": "stdout",
          "output_type": "stream",
          "text": [
            "+--------------------------------------------------------------------------------+--------+--------------------------------------------------------------------------------+\n",
            "|                                                                            text|category|                                                             sentence_embeddings|\n",
            "+--------------------------------------------------------------------------------+--------+--------------------------------------------------------------------------------+\n",
            "| \"Syndrome malin\"-like symptoms probably due to interaction between neurolept...|     neg|[{sentence_embeddings, 0, 109,  \"Syndrome malin\"-like symptoms probably due t...|\n",
            "| 'Bail-out' bivalirudin use in patients with thrombotic complications unrespo...|     neg|[{sentence_embeddings, 0, 150,  'Bail-out' bivalirudin use in patients with t...|\n",
            "+--------------------------------------------------------------------------------+--------+--------------------------------------------------------------------------------+\n",
            "only showing top 2 rows\n",
            "\n"
          ]
        }
      ],
      "source": [
        "trainingData_with_embeddings = embeddings_pipeline.fit(trainingData).transform(trainingData)\n",
        "trainingData_with_embeddings = trainingData_with_embeddings.select(\"text\",\"category\",\"sentence_embeddings\")\n",
        "trainingData_with_embeddings.show(2,truncate=80)"
      ]
    },
    {
      "cell_type": "code",
      "execution_count": 17,
      "metadata": {
        "colab": {
          "base_uri": "https://localhost:8080/"
        },
        "id": "yGWfNABSDbck",
        "outputId": "2a63dabd-46f1-402f-cb7c-73fd71f37583"
      },
      "outputs": [
        {
          "name": "stdout",
          "output_type": "stream",
          "text": [
            "+--------------------------------------------------------------------------------+--------+--------------------------------------------------------------------------------+\n",
            "|                                                                            text|category|                                                             sentence_embeddings|\n",
            "+--------------------------------------------------------------------------------+--------+--------------------------------------------------------------------------------+\n",
            "| 1 previously untreated patient with plasma-cell leukaemia and 8 patients wit...|     neg|[{sentence_embeddings, 0, 166,  1 previously untreated patient with plasma-ce...|\n",
            "| A 15-year-old boy had temporary hypertropia, supraduction deficit, ipsilater...|     neg|[{sentence_embeddings, 0, 262,  A 15-year-old boy had temporary hypertropia, ...|\n",
            "+--------------------------------------------------------------------------------+--------+--------------------------------------------------------------------------------+\n",
            "only showing top 2 rows\n",
            "\n"
          ]
        }
      ],
      "source": [
        "testData_with_embeddings = embeddings_pipeline.fit(testData).transform(testData)\n",
        "testData_with_embeddings = testData_with_embeddings.select(\"text\",\"category\",\"sentence_embeddings\")\n",
        "testData_with_embeddings.show(2,truncate=80)"
      ]
    },
    {
      "cell_type": "code",
      "execution_count": 18,
      "metadata": {
        "colab": {
          "base_uri": "https://localhost:8080/"
        },
        "id": "jC4RxfRuqrj1",
        "outputId": "411d86ef-da03-4762-e17f-10cda2b42060"
      },
      "outputs": [
        {
          "name": "stdout",
          "output_type": "stream",
          "text": [
            "root\n",
            " |-- text: string (nullable = true)\n",
            " |-- category: string (nullable = true)\n",
            " |-- sentence_embeddings: array (nullable = true)\n",
            " |    |-- element: struct (containsNull = true)\n",
            " |    |    |-- annotatorType: string (nullable = true)\n",
            " |    |    |-- begin: integer (nullable = false)\n",
            " |    |    |-- end: integer (nullable = false)\n",
            " |    |    |-- result: string (nullable = true)\n",
            " |    |    |-- metadata: map (nullable = true)\n",
            " |    |    |    |-- key: string\n",
            " |    |    |    |-- value: string (valueContainsNull = true)\n",
            " |    |    |-- embeddings: array (nullable = true)\n",
            " |    |    |    |-- element: float (containsNull = false)\n",
            "\n"
          ]
        }
      ],
      "source": [
        "testData_with_embeddings.printSchema()"
      ]
    },
    {
      "cell_type": "code",
      "execution_count": 19,
      "metadata": {
        "colab": {
          "base_uri": "https://localhost:8080/"
        },
        "id": "YfN3PwLxqS4r",
        "outputId": "fba08a12-a0e6-4267-8ce6-c6a7413c5e46"
      },
      "outputs": [
        {
          "name": "stdout",
          "output_type": "stream",
          "text": [
            "+-----------------------------------------------------------------------------------------------------------------------------------------------------------------------------------------------------------------------------------------------------------------------------------------------------------------------------------------------------------------------------------------------------------------------------------------------------------------------------------------------------------------------------------------------------------------------------------------------------------------------------------------------------------------------------------------------------------------------------------------------------------------------------------------------------------------------------------------------------------------------------------------------------------------------------------------------------------------------------------------------------------------------------------------------------------------------------------------------------------------------------------------------------------------------------------------------------------------------------------------------------------------------------------------------------------------------+\n",
            "|sentence_embeddings.embeddings                                                                                                                                                                                                                                                                                                                                                                                                                                                                                                                                                                                                                                                                                                                                                                                                                                                                                                                                                                                                                                                                                                                                                                                                                                                                                         |\n",
            "+-----------------------------------------------------------------------------------------------------------------------------------------------------------------------------------------------------------------------------------------------------------------------------------------------------------------------------------------------------------------------------------------------------------------------------------------------------------------------------------------------------------------------------------------------------------------------------------------------------------------------------------------------------------------------------------------------------------------------------------------------------------------------------------------------------------------------------------------------------------------------------------------------------------------------------------------------------------------------------------------------------------------------------------------------------------------------------------------------------------------------------------------------------------------------------------------------------------------------------------------------------------------------------------------------------------------------+\n",
            "|[[0.022050034, -0.015850784, 0.11884041, 0.16476665, -0.14348501, -0.1576596, -0.031154968, -0.1393246, 0.008547665, 0.01948343, -0.06832732, -0.23502605, 0.16064002, 0.16505416, 0.2740694, 0.07459623, -0.1776, -0.14385794, -0.13320805, 0.0254037, 0.13955306, -0.39874554, 0.21927465, -0.05248432, -0.013975959, -0.09057002, 0.08343936, 0.26041448, 0.061222605, -0.07655008, -0.042449083, -0.15549056, 0.029453786, -4.287451E-4, 0.0770777, 0.052662022, 0.04082857, 0.25772887, 0.057650663, -0.11365128, -0.032210674, -0.1047935, 0.02238484, -0.16155325, -0.121390514, 0.021449536, -0.21215256, -0.34033817, 0.24506395, -0.23816873, -0.32267797, -0.17322257, -0.13762051, 0.17141055, 0.068881445, 0.32408792, 0.0066144993, 0.097635254, 0.17141618, -0.18405564, -0.14688526, -0.1419593, 0.004553265, -0.011070732, -0.12574588, 0.191843, 0.030556304, 1.5938584E-5, -0.16586679, 0.10518273, 0.11186178, 0.045896884, -0.09700643, 0.1546321, -0.0018957073, -0.15406738, 0.040614784, 0.009987646, -0.14022075, -0.121953055, -0.027745197, -0.18565337, -0.07562292, 0.20089634, 0.10763431, -0.08733105, 0.037615, 0.23033628, -0.098229475, 0.114785895, 0.132198, -0.07346697, -0.184836, 0.23428474, 0.0014427511, 0.031846795, -0.09335248, 0.2601243, -0.020144142, -0.05439963]]    |\n",
            "|[[0.036828704, 0.052321058, 0.11382609, -0.05798419, -0.1450678, 0.13031518, 0.13105926, 0.077215254, -0.11359191, -0.052483696, 0.025067052, -0.065493144, 0.0972958, 0.17433612, 0.32081118, 0.120722145, -0.060612965, -0.13809446, -0.0633434, 0.08836364, -0.05126225, -0.28671345, -0.02139778, -0.24837501, -0.19183423, -0.048396163, -0.03277982, 0.42781973, 0.06354014, 0.13798347, -0.045132216, -0.19414294, 0.014440931, 0.14622109, 0.1534094, -0.115605995, -0.21968617, 0.3393487, 0.077721894, 0.0066978885, -0.26575065, -0.2803977, 0.1971252, -0.2754831, -0.013873734, 0.031998154, -0.22224252, -0.4223647, 0.12533534, -0.24477065, -0.20392273, -0.2595492, -0.28265497, 0.118678354, 0.012662884, 0.17667644, -0.025581334, 0.04520109, 0.23938307, -0.18062139, -0.17067623, -0.16384235, -0.11276326, -0.054647528, -0.0875182, 0.13253942, 0.31704667, 0.11637622, 0.109152205, 0.32440117, -0.05386958, 0.24748857, -0.15540409, 0.2030577, 0.09518503, -0.069421776, -0.020613715, -0.06336081, -0.09288615, -0.067019716, 0.12710205, -0.09450426, 0.060741078, 0.20993252, -0.13400853, -0.122290775, -0.13350283, -0.028439805, -0.16822737, 0.03975756, 0.07278193, 0.10378045, -0.163854, 0.08184167, -0.22104272, 0.005102664, 0.00906274, 0.40425077, -0.19299535, -0.08048587]] |\n",
            "|[[0.06133546, 0.08840095, 0.15639272, 0.114668004, -0.2140057, -0.08125059, 0.08913489, -0.1002837, 0.004876906, -0.074242726, 0.03445086, -0.14109944, 0.19309564, 0.25734743, 0.25590873, 0.107905254, -0.14508152, -0.18583016, -0.092931755, -0.01544418, 0.0125256125, -0.4040237, 0.08747564, -0.11891114, -0.07511187, -0.12213378, -0.026458537, 0.3580473, 0.12741722, -6.861486E-4, -0.12040229, -0.09489917, 0.13890828, 0.054144114, 0.15664355, -0.067553274, -0.08660592, 0.32107133, 0.08193131, -0.03477757, -0.090152316, -0.243487, 0.1391524, -0.15884571, -0.14609669, 0.09713936, -0.28682235, -0.36976308, 0.25402966, -0.13950408, -0.2593149, -0.22419378, -0.2506967, 0.10783362, 0.06381494, 0.2983351, -0.0029599816, 0.16719376, 0.15912123, -0.15692592, -0.19489051, -0.11727452, 0.009319597, -0.04369802, -0.0766744, 0.17832157, 0.05303132, 0.113078065, -0.048853863, 0.17880191, 0.15312684, 0.05760455, -0.11058054, 0.19222456, -0.07548987, -0.18384753, -0.10525153, -0.053241875, -0.05763864, -0.0052016587, -0.02037694, -0.19389628, -0.004329425, 0.18860058, 0.04699045, -0.03298173, -0.08882544, 0.2566961, -0.052023698, 0.122032925, 0.15283778, -0.062266868, -0.21671638, 0.20687981, -0.071965605, 0.111865, -0.017279066, 0.30696622, -0.019217268, -0.11909051]]|\n",
            "+-----------------------------------------------------------------------------------------------------------------------------------------------------------------------------------------------------------------------------------------------------------------------------------------------------------------------------------------------------------------------------------------------------------------------------------------------------------------------------------------------------------------------------------------------------------------------------------------------------------------------------------------------------------------------------------------------------------------------------------------------------------------------------------------------------------------------------------------------------------------------------------------------------------------------------------------------------------------------------------------------------------------------------------------------------------------------------------------------------------------------------------------------------------------------------------------------------------------------------------------------------------------------------------------------------------------------+\n",
            "only showing top 3 rows\n",
            "\n"
          ]
        }
      ],
      "source": [
        "testData_with_embeddings.select(testData_with_embeddings.sentence_embeddings.embeddings).show(3,truncate=False)"
      ]
    },
    {
      "cell_type": "code",
      "execution_count": 20,
      "metadata": {
        "id": "C4nDUXMnadqo"
      },
      "outputs": [],
      "source": [
        "log_folder=\"ADE_logs_healthcare_100d\"\n",
        "!mkdir -p $log_folder"
      ]
    },
    {
      "cell_type": "markdown",
      "metadata": {
        "id": "Q9MywCqKDbck"
      },
      "source": [
        "### ClassifierDLApproach"
      ]
    },
    {
      "cell_type": "code",
      "execution_count": 23,
      "metadata": {
        "id": "EhvRGlkmDbck"
      },
      "outputs": [],
      "source": [
        "classifier_dl = ClassifierDLApproach()\\\n",
        "        .setInputCols([\"sentence_embeddings\"])\\\n",
        "        .setOutputCol(\"prediction\")\\\n",
        "        .setLabelColumn(\"category\")\\\n",
        "        .setBatchSize(16)\\\n",
        "        .setMaxEpochs(30)\\\n",
        "        .setLr(0.002)\\\n",
        "        .setDropout(0.3)\\\n",
        "        .setEnableOutputLogs(True)\\\n",
        "        .setOutputLogsPath(log_folder)\\\n",
        "        # .setValidationSplit(0.1)\n",
        "\n",
        "classifier_dl_pipeline = Pipeline(\n",
        "    stages = [\n",
        "        classifier_dl\n",
        "    ])"
      ]
    },
    {
      "cell_type": "code",
      "execution_count": null,
      "metadata": {
        "id": "lM7Dpdx7Dbck"
      },
      "outputs": [],
      "source": [
        "clfDL_model_hc100 = classifier_dl_pipeline.fit(trainingData_with_embeddings)"
      ]
    },
    {
      "cell_type": "code",
      "execution_count": 25,
      "metadata": {
        "colab": {
          "base_uri": "https://localhost:8080/"
        },
        "id": "2UbziPErDbck",
        "outputId": "0bf88b21-6015-4588-ca55-ea133d3c489f"
      },
      "outputs": [
        {
          "name": "stdout",
          "output_type": "stream",
          "text": [
            "Training started - epochs: 30 - learning_rate: 0.002 - batch_size: 16 - training_examples: 5531 - classes: 2\n",
            "Epoch 0/30 - 3.56s - loss: 193.45416 - acc: 0.7459486 - batches: 346\n",
            "Epoch 1/30 - 0.65s - loss: 168.86009 - acc: 0.7964921 - batches: 346\n",
            "Epoch 2/30 - 0.62s - loss: 162.3323 - acc: 0.8223979 - batches: 346\n",
            "Epoch 3/30 - 0.61s - loss: 159.34192 - acc: 0.83498025 - batches: 346\n",
            "Epoch 4/30 - 0.65s - loss: 157.53806 - acc: 0.84295124 - batches: 346\n",
            "Epoch 5/30 - 0.61s - loss: 156.41156 - acc: 0.8516469 - batches: 346\n",
            "Epoch 6/30 - 0.61s - loss: 155.46634 - acc: 0.85635704 - batches: 346\n",
            "Epoch 7/30 - 0.59s - loss: 154.58415 - acc: 0.8596179 - batches: 346\n",
            "Epoch 8/30 - 0.57s - loss: 153.78036 - acc: 0.86233526 - batches: 346\n",
            "Epoch 9/30 - 0.57s - loss: 152.91891 - acc: 0.864328 - batches: 346\n",
            "Epoch 10/30 - 0.60s - loss: 152.0986 - acc: 0.8663208 - batches: 346\n",
            "Epoch 11/30 - 0.57s - loss: 151.33493 - acc: 0.8684947 - batches: 346\n",
            "Epoch 12/30 - 0.57s - loss: 150.58063 - acc: 0.87266135 - batches: 346\n",
            "Epoch 13/30 - 0.57s - loss: 149.94102 - acc: 0.87429184 - batches: 346\n",
            "Epoch 14/30 - 0.56s - loss: 149.36104 - acc: 0.87646574 - batches: 346\n",
            "Epoch 15/30 - 0.58s - loss: 148.79771 - acc: 0.87809616 - batches: 346\n",
            "Epoch 16/30 - 0.56s - loss: 148.3023 - acc: 0.88045126 - batches: 346\n",
            "Epoch 17/30 - 0.56s - loss: 147.87418 - acc: 0.88171935 - batches: 346\n",
            "Epoch 18/30 - 0.57s - loss: 147.46117 - acc: 0.883531 - batches: 346\n",
            "Epoch 19/30 - 0.55s - loss: 147.07083 - acc: 0.88624835 - batches: 346\n",
            "Epoch 20/30 - 0.55s - loss: 146.65298 - acc: 0.88715416 - batches: 346\n",
            "Epoch 21/30 - 0.56s - loss: 146.27162 - acc: 0.8880599 - batches: 346\n",
            "Epoch 22/30 - 0.55s - loss: 145.89377 - acc: 0.8895092 - batches: 346\n",
            "Epoch 23/30 - 0.55s - loss: 145.52448 - acc: 0.89059615 - batches: 346\n",
            "Epoch 24/30 - 0.55s - loss: 145.13675 - acc: 0.8913208 - batches: 346\n",
            "Epoch 25/30 - 0.57s - loss: 144.75563 - acc: 0.8916831 - batches: 346\n",
            "Epoch 26/30 - 0.56s - loss: 144.39235 - acc: 0.8924078 - batches: 346\n",
            "Epoch 27/30 - 0.55s - loss: 144.0443 - acc: 0.8931324 - batches: 346\n",
            "Epoch 28/30 - 0.55s - loss: 143.68439 - acc: 0.89440054 - batches: 346\n",
            "Epoch 29/30 - 0.55s - loss: 143.35176 - acc: 0.89512515 - batches: 346\n"
          ]
        }
      ],
      "source": [
        "!cat $log_folder/ClassifierDLApproach_*"
      ]
    },
    {
      "cell_type": "code",
      "execution_count": 26,
      "metadata": {
        "id": "w7Wzu_40qH6T"
      },
      "outputs": [],
      "source": [
        "preds = clfDL_model_hc100.transform(testData_with_embeddings)"
      ]
    },
    {
      "cell_type": "code",
      "execution_count": 27,
      "metadata": {
        "colab": {
          "base_uri": "https://localhost:8080/"
        },
        "id": "oeqPLNbZvuJQ",
        "outputId": "1ecf09c1-5fd1-459c-a028-ef63c634525b"
      },
      "outputs": [
        {
          "name": "stdout",
          "output_type": "stream",
          "text": [
            "root\n",
            " |-- text: string (nullable = true)\n",
            " |-- category: string (nullable = true)\n",
            " |-- sentence_embeddings: array (nullable = true)\n",
            " |    |-- element: struct (containsNull = true)\n",
            " |    |    |-- annotatorType: string (nullable = true)\n",
            " |    |    |-- begin: integer (nullable = false)\n",
            " |    |    |-- end: integer (nullable = false)\n",
            " |    |    |-- result: string (nullable = true)\n",
            " |    |    |-- metadata: map (nullable = true)\n",
            " |    |    |    |-- key: string\n",
            " |    |    |    |-- value: string (valueContainsNull = true)\n",
            " |    |    |-- embeddings: array (nullable = true)\n",
            " |    |    |    |-- element: float (containsNull = false)\n",
            " |-- prediction: array (nullable = true)\n",
            " |    |-- element: struct (containsNull = true)\n",
            " |    |    |-- annotatorType: string (nullable = true)\n",
            " |    |    |-- begin: integer (nullable = false)\n",
            " |    |    |-- end: integer (nullable = false)\n",
            " |    |    |-- result: string (nullable = true)\n",
            " |    |    |-- metadata: map (nullable = true)\n",
            " |    |    |    |-- key: string\n",
            " |    |    |    |-- value: string (valueContainsNull = true)\n",
            " |    |    |-- embeddings: array (nullable = true)\n",
            " |    |    |    |-- element: float (containsNull = false)\n",
            "\n",
            "+-------------------------------------------------------------------------------------+\n",
            "|prediction                                                                           |\n",
            "+-------------------------------------------------------------------------------------+\n",
            "|[{category, 0, 166, neg, {sentence -> 0, neg -> 0.9968675, pos -> 0.00313256}, []}]  |\n",
            "|[{category, 0, 262, neg, {sentence -> 0, neg -> 0.9999994, pos -> 5.5786086E-7}, []}]|\n",
            "|[{category, 0, 172, neg, {sentence -> 0, neg -> 0.96715575, pos -> 0.032844234}, []}]|\n",
            "|[{category, 0, 93, neg, {sentence -> 0, neg -> 0.9973379, pos -> 0.0026621267}, []}] |\n",
            "|[{category, 0, 136, neg, {sentence -> 0, neg -> 0.9911917, pos -> 0.008808303}, []}] |\n",
            "+-------------------------------------------------------------------------------------+\n",
            "only showing top 5 rows\n",
            "\n",
            "+--------+-----------------+\n",
            "|category|prediction.result|\n",
            "+--------+-----------------+\n",
            "|neg     |[neg]            |\n",
            "|neg     |[neg]            |\n",
            "|neg     |[neg]            |\n",
            "|neg     |[neg]            |\n",
            "|neg     |[neg]            |\n",
            "+--------+-----------------+\n",
            "only showing top 5 rows\n",
            "\n"
          ]
        }
      ],
      "source": [
        "preds.printSchema()\n",
        "preds.select(preds.prediction).show(5, truncate=False)\n",
        "preds.select(preds.category, preds.prediction.result).show(5, truncate=False)"
      ]
    },
    {
      "cell_type": "code",
      "execution_count": 28,
      "metadata": {
        "colab": {
          "base_uri": "https://localhost:8080/"
        },
        "id": "l0yEqGcJDbck",
        "outputId": "65ba1e9f-1aad-4743-d43d-571289852c41"
      },
      "outputs": [
        {
          "name": "stdout",
          "output_type": "stream",
          "text": [
            "              precision    recall  f1-score   support\n",
            "\n",
            "         neg       0.86      0.92      0.89       982\n",
            "         pos       0.80      0.66      0.72       445\n",
            "\n",
            "    accuracy                           0.84      1427\n",
            "   macro avg       0.83      0.79      0.80      1427\n",
            "weighted avg       0.84      0.84      0.84      1427\n",
            "\n"
          ]
        }
      ],
      "source": [
        "preds_df = preds.select(\"category\",\"text\",\"prediction.result\").toPandas()\n",
        "preds_df[\"result\"] = preds_df[\"result\"].apply(lambda x : x[0])\n",
        "\n",
        "print (classification_report(preds_df[\"category\"], preds_df[\"result\"]))"
      ]
    },
    {
      "cell_type": "markdown",
      "metadata": {
        "id": "3NRB48Jd8PBL"
      },
      "source": [
        "### MultiClassifierDL"
      ]
    },
    {
      "cell_type": "markdown",
      "metadata": {
        "id": "fHNzlFhIi1IU"
      },
      "source": [
        "We will use MultiClassifierDL built by using Bidirectional GRU and CNNs inside TensorFlow that supports up to 100 classes. It is designed for multi-label classification purposes. Here we will use MultiClassifierDL as a binary classifier. "
      ]
    },
    {
      "cell_type": "code",
      "execution_count": 21,
      "metadata": {
        "id": "H7BFPBvBkRXm"
      },
      "outputs": [],
      "source": [
        "# MultiClassifierDL accepts list of strings as input label. So we convert label column to array type.\n",
        "trainingData_with_embeddings = trainingData_with_embeddings.withColumn(\"category_array\", F.array(F.col(\"category\")))\n",
        "testData_with_embeddings = testData_with_embeddings.withColumn(\"category_array\", F.array(F.col(\"category\")))"
      ]
    },
    {
      "cell_type": "code",
      "execution_count": 22,
      "metadata": {
        "id": "qfayOhW1QGuZ"
      },
      "outputs": [],
      "source": [
        "multiClassifier = MultiClassifierDLApproach()\\\n",
        "  .setInputCols(\"sentence_embeddings\")\\\n",
        "  .setOutputCol(\"prediction\")\\\n",
        "  .setLabelColumn(\"category_array\")\\\n",
        "  .setBatchSize(16)\\\n",
        "  .setMaxEpochs(15)\\\n",
        "  .setLr(9e-3)\\\n",
        "  .setThreshold(0.5)\\\n",
        "  .setShufflePerEpoch(False)\\\n",
        "  .setEnableOutputLogs(True)\\\n",
        "  .setOutputLogsPath(log_folder)\\\n",
        "#   .setValidationSplit(0.1)\n",
        "\n",
        "multiClassifier_pipeline = Pipeline(\n",
        "    stages = [\n",
        "        multiClassifier\n",
        "    ])"
      ]
    },
    {
      "cell_type": "code",
      "execution_count": 23,
      "metadata": {
        "id": "uis9foJpQ56_"
      },
      "outputs": [],
      "source": [
        "multiClassifier_model_hc100 = multiClassifier_pipeline.fit(trainingData_with_embeddings)"
      ]
    },
    {
      "cell_type": "code",
      "execution_count": 24,
      "metadata": {
        "colab": {
          "base_uri": "https://localhost:8080/"
        },
        "id": "oZ4muaEcQ56_",
        "outputId": "887bc206-b007-4f27-bcce-ac47628c270f"
      },
      "outputs": [
        {
          "name": "stdout",
          "output_type": "stream",
          "text": [
            "Training started - epochs: 15 - learning_rate: 0.009 - batch_size: 16 - training_examples: 5531 - classes: 2\n",
            "Epoch 0/15 - 13.73s - loss: 0.5167169 - acc: 0.7443017 - batches: 346\n",
            "Epoch 1/15 - 2.56s - loss: 0.45646402 - acc: 0.7796278 - batches: 346\n",
            "Epoch 2/15 - 2.55s - loss: 0.42079407 - acc: 0.8013669 - batches: 346\n",
            "Epoch 3/15 - 2.67s - loss: 0.4000755 - acc: 0.81649375 - batches: 346\n",
            "Epoch 4/15 - 2.82s - loss: 0.3859832 - acc: 0.8221097 - batches: 346\n",
            "Epoch 5/15 - 3.84s - loss: 0.37113047 - acc: 0.8292655 - batches: 346\n",
            "Epoch 6/15 - 3.24s - loss: 0.35642692 - acc: 0.8384058 - batches: 346\n",
            "Epoch 7/15 - 2.54s - loss: 0.34178704 - acc: 0.8451993 - batches: 346\n",
            "Epoch 8/15 - 2.57s - loss: 0.32826015 - acc: 0.85163045 - batches: 346\n",
            "Epoch 9/15 - 2.64s - loss: 0.31305727 - acc: 0.8611413 - batches: 346\n",
            "Epoch 10/15 - 2.61s - loss: 0.30029684 - acc: 0.87083334 - batches: 346\n",
            "Epoch 11/15 - 2.63s - loss: 0.28393316 - acc: 0.8763587 - batches: 346\n",
            "Epoch 12/15 - 2.66s - loss: 0.26964858 - acc: 0.8855072 - batches: 346\n",
            "Epoch 13/15 - 2.72s - loss: 0.2552213 - acc: 0.8942935 - batches: 346\n",
            "Epoch 14/15 - 2.69s - loss: 0.24206503 - acc: 0.90217394 - batches: 346\n"
          ]
        }
      ],
      "source": [
        "!cat $log_folder/MultiClassifierDLApproach_*"
      ]
    },
    {
      "cell_type": "code",
      "execution_count": 25,
      "metadata": {
        "id": "aU71yDTEQ57A"
      },
      "outputs": [],
      "source": [
        "preds = multiClassifier_model_hc100.transform(testData_with_embeddings)"
      ]
    },
    {
      "cell_type": "code",
      "execution_count": 26,
      "metadata": {
        "colab": {
          "base_uri": "https://localhost:8080/"
        },
        "id": "sMqK2PTaQ57A",
        "outputId": "290231bb-b572-4410-cdd7-5a268b9010b0"
      },
      "outputs": [
        {
          "name": "stdout",
          "output_type": "stream",
          "text": [
            "root\n",
            " |-- text: string (nullable = true)\n",
            " |-- category: string (nullable = true)\n",
            " |-- sentence_embeddings: array (nullable = true)\n",
            " |    |-- element: struct (containsNull = true)\n",
            " |    |    |-- annotatorType: string (nullable = true)\n",
            " |    |    |-- begin: integer (nullable = false)\n",
            " |    |    |-- end: integer (nullable = false)\n",
            " |    |    |-- result: string (nullable = true)\n",
            " |    |    |-- metadata: map (nullable = true)\n",
            " |    |    |    |-- key: string\n",
            " |    |    |    |-- value: string (valueContainsNull = true)\n",
            " |    |    |-- embeddings: array (nullable = true)\n",
            " |    |    |    |-- element: float (containsNull = false)\n",
            " |-- category_array: array (nullable = false)\n",
            " |    |-- element: string (containsNull = true)\n",
            " |-- prediction: array (nullable = true)\n",
            " |    |-- element: struct (containsNull = true)\n",
            " |    |    |-- annotatorType: string (nullable = true)\n",
            " |    |    |-- begin: integer (nullable = false)\n",
            " |    |    |-- end: integer (nullable = false)\n",
            " |    |    |-- result: string (nullable = true)\n",
            " |    |    |-- metadata: map (nullable = true)\n",
            " |    |    |    |-- key: string\n",
            " |    |    |    |-- value: string (valueContainsNull = true)\n",
            " |    |    |-- embeddings: array (nullable = true)\n",
            " |    |    |    |-- element: float (containsNull = false)\n",
            "\n",
            "+------------------------------------------------------------------------------------+\n",
            "|prediction                                                                          |\n",
            "+------------------------------------------------------------------------------------+\n",
            "|[{category, 0, 166, neg, {sentence -> 0, neg -> 0.9877164, pos -> 0.012287445}, []}]|\n",
            "|[{category, 0, 262, neg, {sentence -> 0, neg -> 0.9993006, pos -> 7.224772E-4}, []}]|\n",
            "|[{category, 0, 172, pos, {sentence -> 0, neg -> 0.4954261, pos -> 0.50773466}, []}] |\n",
            "|[{category, 0, 93, pos, {sentence -> 0, neg -> 0.29501453, pos -> 0.70653915}, []}] |\n",
            "|[{category, 0, 136, neg, {sentence -> 0, neg -> 0.792474, pos -> 0.20940566}, []}]  |\n",
            "+------------------------------------------------------------------------------------+\n",
            "only showing top 5 rows\n",
            "\n",
            "+--------------+-----------------+\n",
            "|category_array|prediction.result|\n",
            "+--------------+-----------------+\n",
            "|[neg]         |[neg]            |\n",
            "|[neg]         |[neg]            |\n",
            "|[neg]         |[pos]            |\n",
            "|[neg]         |[pos]            |\n",
            "|[neg]         |[neg]            |\n",
            "+--------------+-----------------+\n",
            "only showing top 5 rows\n",
            "\n"
          ]
        }
      ],
      "source": [
        "preds.printSchema()\n",
        "preds.select(preds.prediction).show(5, truncate=False)\n",
        "preds.select(preds.category_array, preds.prediction.result).show(5, truncate=False)"
      ]
    },
    {
      "cell_type": "code",
      "execution_count": 27,
      "metadata": {
        "colab": {
          "base_uri": "https://localhost:8080/"
        },
        "id": "fdYjuIgznI9H",
        "outputId": "46a5587c-2550-46b8-ec23-84d1ed93f1c2"
      },
      "outputs": [
        {
          "data": {
            "text/plain": [
              "['neg']           1168\n",
              "['pos']            258\n",
              "['neg', 'pos']       1\n",
              "Name: result, dtype: int64"
            ]
          },
          "execution_count": 27,
          "metadata": {},
          "output_type": "execute_result"
        }
      ],
      "source": [
        "preds_df = preds.select(\"category\",\"text\",\"prediction.result\",\"prediction.metadata\").toPandas()\n",
        "preds_df.result.apply(lambda x: str(x) ).value_counts()"
      ]
    },
    {
      "cell_type": "code",
      "execution_count": 28,
      "metadata": {
        "colab": {
          "base_uri": "https://localhost:8080/",
          "height": 81
        },
        "id": "s52SZO6k2nu7",
        "outputId": "002b6f04-68aa-4636-b51e-67932c6c7b7e"
      },
      "outputs": [
        {
          "data": {
            "text/html": [
              "\n",
              "  <div id=\"df-e37c3961-fc02-4e4f-aa96-604b2927047e\">\n",
              "    <div class=\"colab-df-container\">\n",
              "      <div>\n",
              "<style scoped>\n",
              "    .dataframe tbody tr th:only-of-type {\n",
              "        vertical-align: middle;\n",
              "    }\n",
              "\n",
              "    .dataframe tbody tr th {\n",
              "        vertical-align: top;\n",
              "    }\n",
              "\n",
              "    .dataframe thead th {\n",
              "        text-align: right;\n",
              "    }\n",
              "</style>\n",
              "<table border=\"1\" class=\"dataframe\">\n",
              "  <thead>\n",
              "    <tr style=\"text-align: right;\">\n",
              "      <th></th>\n",
              "      <th>category</th>\n",
              "      <th>text</th>\n",
              "      <th>result</th>\n",
              "      <th>metadata</th>\n",
              "    </tr>\n",
              "  </thead>\n",
              "  <tbody>\n",
              "    <tr>\n",
              "      <th>1310</th>\n",
              "      <td>pos</td>\n",
              "      <td>The development of an IgG lambda-type monoclon...</td>\n",
              "      <td>[neg, pos]</td>\n",
              "      <td>[{'sentence': '0', 'neg': '0.5005941', 'pos': ...</td>\n",
              "    </tr>\n",
              "  </tbody>\n",
              "</table>\n",
              "</div>\n",
              "      <button class=\"colab-df-convert\" onclick=\"convertToInteractive('df-e37c3961-fc02-4e4f-aa96-604b2927047e')\"\n",
              "              title=\"Convert this dataframe to an interactive table.\"\n",
              "              style=\"display:none;\">\n",
              "        \n",
              "  <svg xmlns=\"http://www.w3.org/2000/svg\" height=\"24px\"viewBox=\"0 0 24 24\"\n",
              "       width=\"24px\">\n",
              "    <path d=\"M0 0h24v24H0V0z\" fill=\"none\"/>\n",
              "    <path d=\"M18.56 5.44l.94 2.06.94-2.06 2.06-.94-2.06-.94-.94-2.06-.94 2.06-2.06.94zm-11 1L8.5 8.5l.94-2.06 2.06-.94-2.06-.94L8.5 2.5l-.94 2.06-2.06.94zm10 10l.94 2.06.94-2.06 2.06-.94-2.06-.94-.94-2.06-.94 2.06-2.06.94z\"/><path d=\"M17.41 7.96l-1.37-1.37c-.4-.4-.92-.59-1.43-.59-.52 0-1.04.2-1.43.59L10.3 9.45l-7.72 7.72c-.78.78-.78 2.05 0 2.83L4 21.41c.39.39.9.59 1.41.59.51 0 1.02-.2 1.41-.59l7.78-7.78 2.81-2.81c.8-.78.8-2.07 0-2.86zM5.41 20L4 18.59l7.72-7.72 1.47 1.35L5.41 20z\"/>\n",
              "  </svg>\n",
              "      </button>\n",
              "      \n",
              "  <style>\n",
              "    .colab-df-container {\n",
              "      display:flex;\n",
              "      flex-wrap:wrap;\n",
              "      gap: 12px;\n",
              "    }\n",
              "\n",
              "    .colab-df-convert {\n",
              "      background-color: #E8F0FE;\n",
              "      border: none;\n",
              "      border-radius: 50%;\n",
              "      cursor: pointer;\n",
              "      display: none;\n",
              "      fill: #1967D2;\n",
              "      height: 32px;\n",
              "      padding: 0 0 0 0;\n",
              "      width: 32px;\n",
              "    }\n",
              "\n",
              "    .colab-df-convert:hover {\n",
              "      background-color: #E2EBFA;\n",
              "      box-shadow: 0px 1px 2px rgba(60, 64, 67, 0.3), 0px 1px 3px 1px rgba(60, 64, 67, 0.15);\n",
              "      fill: #174EA6;\n",
              "    }\n",
              "\n",
              "    [theme=dark] .colab-df-convert {\n",
              "      background-color: #3B4455;\n",
              "      fill: #D2E3FC;\n",
              "    }\n",
              "\n",
              "    [theme=dark] .colab-df-convert:hover {\n",
              "      background-color: #434B5C;\n",
              "      box-shadow: 0px 1px 3px 1px rgba(0, 0, 0, 0.15);\n",
              "      filter: drop-shadow(0px 1px 2px rgba(0, 0, 0, 0.3));\n",
              "      fill: #FFFFFF;\n",
              "    }\n",
              "  </style>\n",
              "\n",
              "      <script>\n",
              "        const buttonEl =\n",
              "          document.querySelector('#df-e37c3961-fc02-4e4f-aa96-604b2927047e button.colab-df-convert');\n",
              "        buttonEl.style.display =\n",
              "          google.colab.kernel.accessAllowed ? 'block' : 'none';\n",
              "\n",
              "        async function convertToInteractive(key) {\n",
              "          const element = document.querySelector('#df-e37c3961-fc02-4e4f-aa96-604b2927047e');\n",
              "          const dataTable =\n",
              "            await google.colab.kernel.invokeFunction('convertToInteractive',\n",
              "                                                     [key], {});\n",
              "          if (!dataTable) return;\n",
              "\n",
              "          const docLinkHtml = 'Like what you see? Visit the ' +\n",
              "            '<a target=\"_blank\" href=https://colab.research.google.com/notebooks/data_table.ipynb>data table notebook</a>'\n",
              "            + ' to learn more about interactive tables.';\n",
              "          element.innerHTML = '';\n",
              "          dataTable['output_type'] = 'display_data';\n",
              "          await google.colab.output.renderOutput(dataTable, element);\n",
              "          const docLink = document.createElement('div');\n",
              "          docLink.innerHTML = docLinkHtml;\n",
              "          element.appendChild(docLink);\n",
              "        }\n",
              "      </script>\n",
              "    </div>\n",
              "  </div>\n",
              "  "
            ],
            "text/plain": [
              "     category                                               text      result  \\\n",
              "1310      pos  The development of an IgG lambda-type monoclon...  [neg, pos]   \n",
              "\n",
              "                                               metadata  \n",
              "1310  [{'sentence': '0', 'neg': '0.5005941', 'pos': ...  "
            ]
          },
          "execution_count": 28,
          "metadata": {},
          "output_type": "execute_result"
        }
      ],
      "source": [
        "preds_df[preds_df.result.apply(len)==2]"
      ]
    },
    {
      "cell_type": "code",
      "execution_count": 29,
      "metadata": {
        "colab": {
          "base_uri": "https://localhost:8080/",
          "height": 49
        },
        "id": "F64-vahk3MQn",
        "outputId": "ac795dce-e00b-4ccb-df85-b7e434e5460f"
      },
      "outputs": [
        {
          "data": {
            "text/html": [
              "\n",
              "  <div id=\"df-95b87b5f-2527-47d6-8d9b-03173515623e\">\n",
              "    <div class=\"colab-df-container\">\n",
              "      <div>\n",
              "<style scoped>\n",
              "    .dataframe tbody tr th:only-of-type {\n",
              "        vertical-align: middle;\n",
              "    }\n",
              "\n",
              "    .dataframe tbody tr th {\n",
              "        vertical-align: top;\n",
              "    }\n",
              "\n",
              "    .dataframe thead th {\n",
              "        text-align: right;\n",
              "    }\n",
              "</style>\n",
              "<table border=\"1\" class=\"dataframe\">\n",
              "  <thead>\n",
              "    <tr style=\"text-align: right;\">\n",
              "      <th></th>\n",
              "      <th>category</th>\n",
              "      <th>text</th>\n",
              "      <th>result</th>\n",
              "      <th>metadata</th>\n",
              "    </tr>\n",
              "  </thead>\n",
              "  <tbody>\n",
              "  </tbody>\n",
              "</table>\n",
              "</div>\n",
              "      <button class=\"colab-df-convert\" onclick=\"convertToInteractive('df-95b87b5f-2527-47d6-8d9b-03173515623e')\"\n",
              "              title=\"Convert this dataframe to an interactive table.\"\n",
              "              style=\"display:none;\">\n",
              "        \n",
              "  <svg xmlns=\"http://www.w3.org/2000/svg\" height=\"24px\"viewBox=\"0 0 24 24\"\n",
              "       width=\"24px\">\n",
              "    <path d=\"M0 0h24v24H0V0z\" fill=\"none\"/>\n",
              "    <path d=\"M18.56 5.44l.94 2.06.94-2.06 2.06-.94-2.06-.94-.94-2.06-.94 2.06-2.06.94zm-11 1L8.5 8.5l.94-2.06 2.06-.94-2.06-.94L8.5 2.5l-.94 2.06-2.06.94zm10 10l.94 2.06.94-2.06 2.06-.94-2.06-.94-.94-2.06-.94 2.06-2.06.94z\"/><path d=\"M17.41 7.96l-1.37-1.37c-.4-.4-.92-.59-1.43-.59-.52 0-1.04.2-1.43.59L10.3 9.45l-7.72 7.72c-.78.78-.78 2.05 0 2.83L4 21.41c.39.39.9.59 1.41.59.51 0 1.02-.2 1.41-.59l7.78-7.78 2.81-2.81c.8-.78.8-2.07 0-2.86zM5.41 20L4 18.59l7.72-7.72 1.47 1.35L5.41 20z\"/>\n",
              "  </svg>\n",
              "      </button>\n",
              "      \n",
              "  <style>\n",
              "    .colab-df-container {\n",
              "      display:flex;\n",
              "      flex-wrap:wrap;\n",
              "      gap: 12px;\n",
              "    }\n",
              "\n",
              "    .colab-df-convert {\n",
              "      background-color: #E8F0FE;\n",
              "      border: none;\n",
              "      border-radius: 50%;\n",
              "      cursor: pointer;\n",
              "      display: none;\n",
              "      fill: #1967D2;\n",
              "      height: 32px;\n",
              "      padding: 0 0 0 0;\n",
              "      width: 32px;\n",
              "    }\n",
              "\n",
              "    .colab-df-convert:hover {\n",
              "      background-color: #E2EBFA;\n",
              "      box-shadow: 0px 1px 2px rgba(60, 64, 67, 0.3), 0px 1px 3px 1px rgba(60, 64, 67, 0.15);\n",
              "      fill: #174EA6;\n",
              "    }\n",
              "\n",
              "    [theme=dark] .colab-df-convert {\n",
              "      background-color: #3B4455;\n",
              "      fill: #D2E3FC;\n",
              "    }\n",
              "\n",
              "    [theme=dark] .colab-df-convert:hover {\n",
              "      background-color: #434B5C;\n",
              "      box-shadow: 0px 1px 3px 1px rgba(0, 0, 0, 0.15);\n",
              "      filter: drop-shadow(0px 1px 2px rgba(0, 0, 0, 0.3));\n",
              "      fill: #FFFFFF;\n",
              "    }\n",
              "  </style>\n",
              "\n",
              "      <script>\n",
              "        const buttonEl =\n",
              "          document.querySelector('#df-95b87b5f-2527-47d6-8d9b-03173515623e button.colab-df-convert');\n",
              "        buttonEl.style.display =\n",
              "          google.colab.kernel.accessAllowed ? 'block' : 'none';\n",
              "\n",
              "        async function convertToInteractive(key) {\n",
              "          const element = document.querySelector('#df-95b87b5f-2527-47d6-8d9b-03173515623e');\n",
              "          const dataTable =\n",
              "            await google.colab.kernel.invokeFunction('convertToInteractive',\n",
              "                                                     [key], {});\n",
              "          if (!dataTable) return;\n",
              "\n",
              "          const docLinkHtml = 'Like what you see? Visit the ' +\n",
              "            '<a target=\"_blank\" href=https://colab.research.google.com/notebooks/data_table.ipynb>data table notebook</a>'\n",
              "            + ' to learn more about interactive tables.';\n",
              "          element.innerHTML = '';\n",
              "          dataTable['output_type'] = 'display_data';\n",
              "          await google.colab.output.renderOutput(dataTable, element);\n",
              "          const docLink = document.createElement('div');\n",
              "          docLink.innerHTML = docLinkHtml;\n",
              "          element.appendChild(docLink);\n",
              "        }\n",
              "      </script>\n",
              "    </div>\n",
              "  </div>\n",
              "  "
            ],
            "text/plain": [
              "Empty DataFrame\n",
              "Columns: [category, text, result, metadata]\n",
              "Index: []"
            ]
          },
          "execution_count": 29,
          "metadata": {},
          "output_type": "execute_result"
        }
      ],
      "source": [
        "preds_df[preds_df.result.apply(len)==0]"
      ]
    },
    {
      "cell_type": "markdown",
      "metadata": {
        "id": "yPS9qyw-nYJN"
      },
      "source": [
        "MultiClassifierDL is a multi-label classifier, so some predictions may include both labels or none of the labels. That can be controlled a bit with `.setThreshold()` parameter during training. For now we will keep not keep zero label predictions and get the highest score as prediction."
      ]
    },
    {
      "cell_type": "code",
      "execution_count": 30,
      "metadata": {
        "colab": {
          "base_uri": "https://localhost:8080/"
        },
        "id": "ZG5XKJVd79vg",
        "outputId": "1d497614-5e41-4295-c7bb-5a1d8711fb3a"
      },
      "outputs": [
        {
          "data": {
            "text/plain": [
              "neg    1168\n",
              "pos     259\n",
              "Name: result, dtype: int64"
            ]
          },
          "execution_count": 30,
          "metadata": {},
          "output_type": "execute_result"
        }
      ],
      "source": [
        "# We will get the highest score label as result. You can control the number of zero label results with setThreshold() in the training.\n",
        "preds_df[\"scores\"] = preds_df.metadata.apply(lambda x: {k:float(v) for k,v in x[0].items()} if len(x)>=1 else \"\")\n",
        "preds_df[\"result\"] = preds_df.scores.apply(lambda x: max(x, key=x.get) if len(x)>=1 else \"\")\n",
        "preds_df[\"result\"].value_counts()"
      ]
    },
    {
      "cell_type": "code",
      "execution_count": 31,
      "metadata": {
        "colab": {
          "base_uri": "https://localhost:8080/"
        },
        "id": "MT8hQSEqQ57A",
        "outputId": "f1a9a206-02c3-4ffb-a74c-4b27dca150cd"
      },
      "outputs": [
        {
          "name": "stdout",
          "output_type": "stream",
          "text": [
            "              precision    recall  f1-score   support\n",
            "\n",
            "         neg       0.79      0.95      0.86       982\n",
            "         pos       0.79      0.46      0.58       445\n",
            "\n",
            "    accuracy                           0.79      1427\n",
            "   macro avg       0.79      0.70      0.72      1427\n",
            "weighted avg       0.79      0.79      0.78      1427\n",
            "\n"
          ]
        }
      ],
      "source": [
        "print (classification_report(preds_df[\"category\"], preds_df[\"result\"]))"
      ]
    },
    {
      "cell_type": "markdown",
      "metadata": {
        "id": "aCf989KwQB3H"
      },
      "source": [
        "### Generic Classifier"
      ]
    },
    {
      "cell_type": "code",
      "execution_count": 40,
      "metadata": {
        "colab": {
          "base_uri": "https://localhost:8080/"
        },
        "id": "IeVxl4ruiJtr",
        "outputId": "87520a68-b3ac-4a96-98d3-dfb013db055c"
      },
      "outputs": [
        {
          "name": "stdout",
          "output_type": "stream",
          "text": [
            "\u001b[2K     \u001b[90m━━━━━━━━━━━━━━━━━━━━━━━━━━━━━━━━━━━━━━━\u001b[0m \u001b[32m489.6/489.6 MB\u001b[0m \u001b[31m3.0 MB/s\u001b[0m eta \u001b[36m0:00:00\u001b[0m\n",
            "\u001b[2K     \u001b[90m━━━━━━━━━━━━━━━━━━━━━━━━━━━━━━━━━━━━━━━━\u001b[0m \u001b[32m1.1/1.1 MB\u001b[0m \u001b[31m53.3 MB/s\u001b[0m eta \u001b[36m0:00:00\u001b[0m\n",
            "\u001b[2K     \u001b[90m━━━━━━━━━━━━━━━━━━━━━━━━━━━━━━━━━━━━━━━━\u001b[0m \u001b[32m1.3/1.3 MB\u001b[0m \u001b[31m40.2 MB/s\u001b[0m eta \u001b[36m0:00:00\u001b[0m\n",
            "\u001b[2K     \u001b[90m━━━━━━━━━━━━━━━━━━━━━━━━━━━━━━━━━━━━━━\u001b[0m \u001b[32m463.1/463.1 KB\u001b[0m \u001b[31m48.2 MB/s\u001b[0m eta \u001b[36m0:00:00\u001b[0m\n",
            "\u001b[?25h"
          ]
        }
      ],
      "source": [
        "!pip install -q tensorflow==2.7.0 tensorflow_addons"
      ]
    },
    {
      "cell_type": "code",
      "execution_count": 41,
      "metadata": {
        "id": "N1Z9so_UQB3I"
      },
      "outputs": [],
      "source": [
        "from sparknlp_jsl.annotator import TFGraphBuilder\n",
        "\n",
        "graph_folder = \"gc_graph\"\n",
        "\n",
        "gc_graph_builder = TFGraphBuilder()\\\n",
        "    .setModelName(\"generic_classifier\")\\\n",
        "    .setInputCols([\"features\"])\\\n",
        "    .setLabelColumn(\"category\")\\\n",
        "    .setHiddenLayers([300,200, 50])\\\n",
        "    .setHiddenAct(\"tanh\")\\\n",
        "    .setHiddenActL2(True)\\\n",
        "    .setBatchNorm(True)\\\n",
        "    .setGraphFolder(graph_folder)\\\n",
        "    .setGraphFile(\"gcf_graph_100d.pb\")"
      ]
    },
    {
      "cell_type": "markdown",
      "metadata": {
        "id": "_ADlQFAHch6j"
      },
      "source": [
        "GenericClassifier needs outputs from FeaturesAssembler. The FeaturesAssembler is used to collect features from different columns or an embeddings column.\n",
        "\n",
        "The GenericClassifierApproach takes FEATURE_VECTOR annotations as input, classifies them and outputs CATEGORY annotations."
      ]
    },
    {
      "cell_type": "code",
      "execution_count": 42,
      "metadata": {
        "id": "f7saGLwvQB3I"
      },
      "outputs": [],
      "source": [
        "features_asm = FeaturesAssembler()\\\n",
        "    .setInputCols([\"sentence_embeddings\"])\\\n",
        "    .setOutputCol(\"features\")\n",
        "      \n",
        "gen_clf = GenericClassifierApproach()\\\n",
        "    .setLabelColumn(\"category\")\\\n",
        "    .setInputCols(\"features\")\\\n",
        "    .setOutputCol(\"prediction\")\\\n",
        "    .setModelFile(f\"{graph_folder}/gcf_graph_100d.pb\")\\\n",
        "    .setEpochsNumber(25)\\\n",
        "    .setBatchSize(128)\\\n",
        "    .setLearningRate(0.004)\\\n",
        "    .setOutputLogsPath(log_folder)\\\n",
        "    .setDropout(0.2)\\\n",
        "    .setFixImbalance(True)\\\n",
        "    # .setValidationSplit(0.1)\n",
        "\n",
        "clf_Pipeline = Pipeline(stages=[\n",
        "    features_asm,\n",
        "    gc_graph_builder,\n",
        "    gen_clf])\n"
      ]
    },
    {
      "cell_type": "code",
      "execution_count": 43,
      "metadata": {
        "colab": {
          "base_uri": "https://localhost:8080/"
        },
        "id": "oSG7cx7yQB3I",
        "outputId": "755fc3d4-a18a-4f69-9058-c4191b007358"
      },
      "outputs": [
        {
          "name": "stdout",
          "output_type": "stream",
          "text": [
            "TF Graph Builder configuration:\n",
            "Model name: generic_classifier\n",
            "Graph folder: gc_graph\n",
            "Graph file name: gcf_graph_100d.pb\n",
            "Build params: {'input_dim': 100, 'output_dim': 2, 'hidden_layers': [300, 200, 50], 'hidden_act': 'tanh', 'hidden_act_l2': True, 'batch_norm': True}\n"
          ]
        },
        {
          "name": "stderr",
          "output_type": "stream",
          "text": [
            "WARNING:tensorflow:From /usr/local/lib/python3.8/dist-packages/keras/layers/normalization/batch_normalization.py:532: _colocate_with (from tensorflow.python.framework.ops) is deprecated and will be removed in a future version.\n",
            "Instructions for updating:\n",
            "Colocations handled automatically by placer.\n"
          ]
        },
        {
          "name": "stdout",
          "output_type": "stream",
          "text": [
            "generic_classifier graph exported to gc_graph/gcf_graph_100d.pb\n"
          ]
        }
      ],
      "source": [
        "generic_model_hc100 = clf_Pipeline.fit(trainingData_with_embeddings)"
      ]
    },
    {
      "cell_type": "code",
      "execution_count": 44,
      "metadata": {
        "colab": {
          "base_uri": "https://localhost:8080/"
        },
        "id": "9PSm7rd0QB3I",
        "outputId": "091c927e-3c86-45d1-e2af-4884a4a27d5f"
      },
      "outputs": [
        {
          "name": "stdout",
          "output_type": "stream",
          "text": [
            "Training 25 epochs\n",
            "Epoch 1/25\t0.26s\tLoss: 11.043847\tACC: 0.6627407\n",
            "Epoch 2/25\t0.11s\tLoss: 9.728848\tACC: 0.7298572\n",
            "Epoch 3/25\t0.10s\tLoss: 9.650522\tACC: 0.7189341\n",
            "Epoch 4/25\t0.11s\tLoss: 9.593583\tACC: 0.71947336\n",
            "Epoch 5/25\t0.10s\tLoss: 9.05388\tACC: 0.7394913\n",
            "Epoch 6/25\t0.13s\tLoss: 8.973709\tACC: 0.74871767\n",
            "Epoch 7/25\t0.12s\tLoss: 8.660992\tACC: 0.76186347\n",
            "Epoch 8/25\t0.12s\tLoss: 8.845654\tACC: 0.7544521\n",
            "Epoch 9/25\t0.11s\tLoss: 8.723371\tACC: 0.7587529\n",
            "Epoch 10/25\t0.15s\tLoss: 8.709335\tACC: 0.75538594\n",
            "Epoch 11/25\t0.14s\tLoss: 8.385962\tACC: 0.77450943\n",
            "Epoch 12/25\t0.13s\tLoss: 8.240552\tACC: 0.77154356\n",
            "Epoch 13/25\t0.11s\tLoss: 8.21255\tACC: 0.7771728\n",
            "Epoch 14/25\t0.11s\tLoss: 8.314084\tACC: 0.76443475\n",
            "Epoch 15/25\t0.13s\tLoss: 8.309925\tACC: 0.7594303\n",
            "Epoch 16/25\t0.13s\tLoss: 8.300139\tACC: 0.7672362\n",
            "Epoch 17/25\t0.13s\tLoss: 8.188091\tACC: 0.78023726\n",
            "Epoch 18/25\t0.11s\tLoss: 7.853233\tACC: 0.78653723\n",
            "Epoch 19/25\t0.13s\tLoss: 7.9730425\tACC: 0.7863268\n",
            "Epoch 20/25\t0.12s\tLoss: 8.140604\tACC: 0.77815264\n",
            "Epoch 21/25\t0.15s\tLoss: 7.826672\tACC: 0.7897793\n",
            "Epoch 22/25\t0.13s\tLoss: 7.7696757\tACC: 0.7846302\n",
            "Epoch 23/25\t0.13s\tLoss: 7.7792745\tACC: 0.78947026\n",
            "Epoch 24/25\t0.14s\tLoss: 7.630204\tACC: 0.79839414\n",
            "Epoch 25/25\t0.12s\tLoss: 7.8102856\tACC: 0.7835714\n",
            "Training completed.\n"
          ]
        }
      ],
      "source": [
        "!cat $log_folder/GenericClassifierApproach_*"
      ]
    },
    {
      "cell_type": "code",
      "execution_count": 45,
      "metadata": {
        "id": "3Sqm6pF95vYX"
      },
      "outputs": [],
      "source": [
        "pred_df = generic_model_hc100.transform(testData_with_embeddings)"
      ]
    },
    {
      "cell_type": "code",
      "execution_count": 46,
      "metadata": {
        "colab": {
          "base_uri": "https://localhost:8080/"
        },
        "id": "EW_Bbcb55xe-",
        "outputId": "04fe0088-0827-41fb-f37c-1f388f850d56"
      },
      "outputs": [
        {
          "name": "stdout",
          "output_type": "stream",
          "text": [
            "root\n",
            " |-- text: string (nullable = true)\n",
            " |-- category: string (nullable = true)\n",
            " |-- sentence_embeddings: array (nullable = true)\n",
            " |    |-- element: struct (containsNull = true)\n",
            " |    |    |-- annotatorType: string (nullable = true)\n",
            " |    |    |-- begin: integer (nullable = false)\n",
            " |    |    |-- end: integer (nullable = false)\n",
            " |    |    |-- result: string (nullable = true)\n",
            " |    |    |-- metadata: map (nullable = true)\n",
            " |    |    |    |-- key: string\n",
            " |    |    |    |-- value: string (valueContainsNull = true)\n",
            " |    |    |-- embeddings: array (nullable = true)\n",
            " |    |    |    |-- element: float (containsNull = false)\n",
            " |-- category_array: array (nullable = false)\n",
            " |    |-- element: string (containsNull = true)\n",
            " |-- prediction: array (nullable = true)\n",
            " |    |-- element: struct (containsNull = true)\n",
            " |    |    |-- annotatorType: string (nullable = true)\n",
            " |    |    |-- begin: integer (nullable = false)\n",
            " |    |    |-- end: integer (nullable = false)\n",
            " |    |    |-- result: string (nullable = true)\n",
            " |    |    |-- metadata: map (nullable = true)\n",
            " |    |    |    |-- key: string\n",
            " |    |    |    |-- value: string (valueContainsNull = true)\n",
            " |    |    |-- embeddings: array (nullable = true)\n",
            " |    |    |    |-- element: float (containsNull = false)\n",
            "\n",
            "+------------------------------------------------------------------------------------+\n",
            "|prediction                                                                          |\n",
            "+------------------------------------------------------------------------------------+\n",
            "|[{category, 0, 166, neg, {sentence -> 0, neg -> 0.9747004, pos -> 0.025248088}, []}]|\n",
            "|[{category, 0, 262, neg, {sentence -> 0, neg -> 0.9999993, pos -> 8.100695E-7}, []}]|\n",
            "|[{category, 0, 172, neg, {sentence -> 0, neg -> 0.59551674, pos -> 0.4055716}, []}] |\n",
            "|[{category, 0, 93, pos, {sentence -> 0, neg -> 0.36758637, pos -> 0.63208336}, []}] |\n",
            "|[{category, 0, 136, neg, {sentence -> 0, neg -> 0.75263447, pos -> 0.24785711}, []}]|\n",
            "+------------------------------------------------------------------------------------+\n",
            "only showing top 5 rows\n",
            "\n",
            "+--------+-----------------+\n",
            "|category|prediction.result|\n",
            "+--------+-----------------+\n",
            "|neg     |[neg]            |\n",
            "|neg     |[neg]            |\n",
            "|neg     |[neg]            |\n",
            "|neg     |[pos]            |\n",
            "|neg     |[neg]            |\n",
            "+--------+-----------------+\n",
            "only showing top 5 rows\n",
            "\n"
          ]
        }
      ],
      "source": [
        "preds.printSchema()\n",
        "preds.select(preds.prediction).show(5, truncate=False)\n",
        "preds.select(preds.category, preds.prediction.result).show(5, truncate=False)"
      ]
    },
    {
      "cell_type": "code",
      "execution_count": 47,
      "metadata": {
        "colab": {
          "base_uri": "https://localhost:8080/"
        },
        "id": "NHCBTwrmQB3I",
        "outputId": "670d6deb-4ab7-48d1-d3ba-2f6851291c31"
      },
      "outputs": [
        {
          "name": "stdout",
          "output_type": "stream",
          "text": [
            "              precision    recall  f1-score   support\n",
            "\n",
            "         neg       0.92      0.72      0.81       982\n",
            "         pos       0.58      0.87      0.69       445\n",
            "\n",
            "    accuracy                           0.76      1427\n",
            "   macro avg       0.75      0.79      0.75      1427\n",
            "weighted avg       0.81      0.76      0.77      1427\n",
            "\n"
          ]
        }
      ],
      "source": [
        "preds_df = pred_df.select('category','prediction.result').toPandas()\n",
        "preds_df['result'] = preds_df.result.apply(lambda x : x[0])\n",
        "\n",
        "print (classification_report(preds_df['category'], preds_df['result']))"
      ]
    },
    {
      "cell_type": "markdown",
      "metadata": {
        "id": "hF378LqHvDRK"
      },
      "source": [
        "## 200 Dimension Healthcare Embeddings (embeddings_clinical)\n",
        "\n"
      ]
    },
    {
      "cell_type": "markdown",
      "metadata": {
        "id": "hEppd4Q3vDRK"
      },
      "source": [
        "Now we will extract [embeddings_clinical](https://nlp.johnsnowlabs.com/2020/01/28/embeddings_clinical_en.html) embeddings which has 200 dimension output and use this embeddings in the model training."
      ]
    },
    {
      "cell_type": "code",
      "execution_count": 48,
      "metadata": {
        "colab": {
          "base_uri": "https://localhost:8080/"
        },
        "id": "Dv95E2vNvDRK",
        "outputId": "8338dee1-9c00-4e14-9c05-7492ff224682"
      },
      "outputs": [
        {
          "name": "stdout",
          "output_type": "stream",
          "text": [
            "embeddings_clinical download started this may take some time.\n",
            "Approximate size to download 1.6 GB\n",
            "[OK!]\n"
          ]
        }
      ],
      "source": [
        "document_assembler = DocumentAssembler()\\\n",
        "        .setInputCol(\"text\")\\\n",
        "        .setOutputCol(\"document\")\n",
        "\n",
        "tokenizer = Tokenizer() \\\n",
        "            .setInputCols([\"document\"]) \\\n",
        "            .setOutputCol(\"token\")\n",
        "\n",
        "word_embeddings = WordEmbeddingsModel.pretrained(\"embeddings_clinical\",\"en\",\"clinical/models\")\\\n",
        "        .setInputCols([\"document\",\"token\"])\\\n",
        "        .setOutputCol(\"word_embeddings\")\n",
        "\n",
        "sentence_embeddings = SentenceEmbeddings() \\\n",
        "        .setInputCols([\"document\", \"word_embeddings\"]) \\\n",
        "        .setOutputCol(\"sentence_embeddings\") \\\n",
        "        .setPoolingStrategy(\"AVERAGE\")\n",
        "\n",
        "embeddings_pipeline = Pipeline(\n",
        "    stages = [\n",
        "        document_assembler,\n",
        "        tokenizer,\n",
        "        word_embeddings,\n",
        "        sentence_embeddings,\n",
        "    ])"
      ]
    },
    {
      "cell_type": "code",
      "execution_count": 49,
      "metadata": {
        "colab": {
          "base_uri": "https://localhost:8080/"
        },
        "id": "uj2dbrthvDRK",
        "outputId": "064c916c-b30a-46ae-b7a2-ef375caa79d8"
      },
      "outputs": [
        {
          "name": "stdout",
          "output_type": "stream",
          "text": [
            "+--------------------------------------------------------------------------------+--------+--------------------------------------------------------------------------------+\n",
            "|                                                                            text|category|                                                             sentence_embeddings|\n",
            "+--------------------------------------------------------------------------------+--------+--------------------------------------------------------------------------------+\n",
            "| \"Syndrome malin\"-like symptoms probably due to interaction between neurolept...|     neg|[{sentence_embeddings, 0, 109,  \"Syndrome malin\"-like symptoms probably due t...|\n",
            "| 'Bail-out' bivalirudin use in patients with thrombotic complications unrespo...|     neg|[{sentence_embeddings, 0, 150,  'Bail-out' bivalirudin use in patients with t...|\n",
            "+--------------------------------------------------------------------------------+--------+--------------------------------------------------------------------------------+\n",
            "only showing top 2 rows\n",
            "\n"
          ]
        }
      ],
      "source": [
        "trainingData_with_embeddings = embeddings_pipeline.fit(trainingData).transform(trainingData)\\\n",
        "                                                  .select(\"text\",\"category\",\"sentence_embeddings\")\n",
        "trainingData_with_embeddings.show(2,truncate=80)"
      ]
    },
    {
      "cell_type": "code",
      "execution_count": 50,
      "metadata": {
        "colab": {
          "base_uri": "https://localhost:8080/"
        },
        "id": "jPZSMm5pvDRK",
        "outputId": "8155278d-b562-4e53-92c8-24a374d22f5d"
      },
      "outputs": [
        {
          "name": "stdout",
          "output_type": "stream",
          "text": [
            "+--------------------------------------------------------------------------------+--------+--------------------------------------------------------------------------------+\n",
            "|                                                                            text|category|                                                             sentence_embeddings|\n",
            "+--------------------------------------------------------------------------------+--------+--------------------------------------------------------------------------------+\n",
            "| 1 previously untreated patient with plasma-cell leukaemia and 8 patients wit...|     neg|[{sentence_embeddings, 0, 166,  1 previously untreated patient with plasma-ce...|\n",
            "| A 15-year-old boy had temporary hypertropia, supraduction deficit, ipsilater...|     neg|[{sentence_embeddings, 0, 262,  A 15-year-old boy had temporary hypertropia, ...|\n",
            "+--------------------------------------------------------------------------------+--------+--------------------------------------------------------------------------------+\n",
            "only showing top 2 rows\n",
            "\n"
          ]
        }
      ],
      "source": [
        "testData_with_embeddings = embeddings_pipeline.fit(testData).transform(testData)\\\n",
        "                                                  .select(\"text\",\"category\",\"sentence_embeddings\")\n",
        "testData_with_embeddings.show(2,truncate=80)"
      ]
    },
    {
      "cell_type": "code",
      "execution_count": 51,
      "metadata": {
        "id": "qrF7eDHBdmBp"
      },
      "outputs": [],
      "source": [
        "log_folder=\"ADE_logs_healthcare_200d\""
      ]
    },
    {
      "cell_type": "markdown",
      "metadata": {
        "id": "coHHa_CRvDRL"
      },
      "source": [
        "### ClassifierDLApproach"
      ]
    },
    {
      "cell_type": "code",
      "execution_count": 52,
      "metadata": {
        "id": "thQ0sg91vDRL"
      },
      "outputs": [],
      "source": [
        "classifier_dl = ClassifierDLApproach()\\\n",
        "        .setInputCols([\"sentence_embeddings\"])\\\n",
        "        .setOutputCol(\"class\")\\\n",
        "        .setLabelColumn(\"category\")\\\n",
        "        .setBatchSize(16)\\\n",
        "        .setMaxEpochs(30)\\\n",
        "        .setLr(0.001)\\\n",
        "        .setDropout(0.3)\\\n",
        "        .setEnableOutputLogs(True)\\\n",
        "        .setOutputLogsPath(log_folder)\n",
        "\n",
        "classifier_dl_pipeline = Pipeline(\n",
        "    stages = [\n",
        "        classifier_dl\n",
        "    ])"
      ]
    },
    {
      "cell_type": "code",
      "execution_count": 53,
      "metadata": {
        "id": "VdWaWXcbvDRL"
      },
      "outputs": [],
      "source": [
        "clfDL_model_hc200 = classifier_dl_pipeline.fit(trainingData_with_embeddings)"
      ]
    },
    {
      "cell_type": "code",
      "execution_count": 54,
      "metadata": {
        "colab": {
          "base_uri": "https://localhost:8080/"
        },
        "id": "1W67GqjCvDRL",
        "outputId": "ef61942a-602d-4f37-d40c-824591bdc43d"
      },
      "outputs": [
        {
          "name": "stdout",
          "output_type": "stream",
          "text": [
            "              precision    recall  f1-score   support\n",
            "\n",
            "         neg       0.89      0.91      0.90       982\n",
            "         pos       0.79      0.74      0.77       445\n",
            "\n",
            "    accuracy                           0.86      1427\n",
            "   macro avg       0.84      0.83      0.83      1427\n",
            "weighted avg       0.86      0.86      0.86      1427\n",
            "\n"
          ]
        }
      ],
      "source": [
        "preds = clfDL_model_hc200.transform(testData_with_embeddings)\n",
        "\n",
        "preds_df = preds.select(\"category\",\"text\",\"class.result\").toPandas()\n",
        "preds_df[\"result\"] = preds_df[\"result\"].apply(lambda x : x[0])\n",
        "\n",
        "print (classification_report(preds_df[\"category\"], preds_df[\"result\"]))"
      ]
    },
    {
      "cell_type": "markdown",
      "metadata": {
        "id": "Vz6ja6oP90It"
      },
      "source": [
        "### MultiClassifierDL"
      ]
    },
    {
      "cell_type": "code",
      "execution_count": 55,
      "metadata": {
        "id": "u7AzomVo90Iu"
      },
      "outputs": [],
      "source": [
        "# MultiClassifierDL accepts list of strings as input label. So we convert label column to array type.\n",
        "trainingData_with_embeddings = trainingData_with_embeddings.withColumn(\"category_array\", F.array(F.col(\"category\")))\n",
        "testData_with_embeddings = testData_with_embeddings.withColumn(\"category_array\", F.array(F.col(\"category\")))"
      ]
    },
    {
      "cell_type": "code",
      "execution_count": 56,
      "metadata": {
        "id": "O25HWJXx90Iu"
      },
      "outputs": [],
      "source": [
        "multiClassifier = MultiClassifierDLApproach()\\\n",
        "  .setInputCols(\"sentence_embeddings\")\\\n",
        "  .setOutputCol(\"prediction\")\\\n",
        "  .setLabelColumn(\"category_array\")\\\n",
        "  .setBatchSize(32)\\\n",
        "  .setMaxEpochs(20)\\\n",
        "  .setLr(9e-3)\\\n",
        "  .setThreshold(0.5)\\\n",
        "  .setShufflePerEpoch(False)\\\n",
        "  .setEnableOutputLogs(True)\\\n",
        "  .setOutputLogsPath(log_folder)\\\n",
        "#   .setValidationSplit(0.1)\n",
        "\n",
        "multiClassifier_pipeline = Pipeline(\n",
        "    stages = [\n",
        "        multiClassifier\n",
        "    ])"
      ]
    },
    {
      "cell_type": "code",
      "execution_count": 57,
      "metadata": {
        "id": "AfwUG4E890Iu"
      },
      "outputs": [],
      "source": [
        "multiClassifier_model_hc200 = multiClassifier_pipeline.fit(trainingData_with_embeddings)"
      ]
    },
    {
      "cell_type": "code",
      "execution_count": 58,
      "metadata": {
        "id": "dqWL8GcD90Iu"
      },
      "outputs": [],
      "source": [
        "preds = multiClassifier_model_hc200.transform(testData_with_embeddings)"
      ]
    },
    {
      "cell_type": "code",
      "execution_count": 59,
      "metadata": {
        "colab": {
          "base_uri": "https://localhost:8080/"
        },
        "id": "leP1l4bN90Iu",
        "outputId": "062b74e8-f9cd-462f-9965-454da3b33abe"
      },
      "outputs": [
        {
          "data": {
            "text/plain": [
              "['neg']    944\n",
              "['pos']    483\n",
              "Name: result, dtype: int64"
            ]
          },
          "execution_count": 59,
          "metadata": {},
          "output_type": "execute_result"
        }
      ],
      "source": [
        "preds_df = preds.select(\"category\",\"text\",\"prediction.result\",\"prediction.metadata\").toPandas()\n",
        "preds_df.result.apply(lambda x: str(x) ).value_counts()"
      ]
    },
    {
      "cell_type": "code",
      "execution_count": 60,
      "metadata": {
        "colab": {
          "base_uri": "https://localhost:8080/"
        },
        "id": "puS1FgQ-90Iv",
        "outputId": "243a7e8b-fed4-4614-b176-68b2792e565f"
      },
      "outputs": [
        {
          "data": {
            "text/plain": [
              "neg    944\n",
              "pos    483\n",
              "Name: result, dtype: int64"
            ]
          },
          "execution_count": 60,
          "metadata": {},
          "output_type": "execute_result"
        }
      ],
      "source": [
        "# We will get the highest score label as result. You can control the number of zero label results with setThreshold() in the training.\n",
        "preds_df[\"scores\"] = preds_df.metadata.apply(lambda x: {k:float(v) for k,v in x[0].items()} if len(x)>=1 else \"\")\n",
        "preds_df[\"result\"] = preds_df.scores.apply(lambda x: max(x, key=x.get) if len(x)>=1 else \"\")\n",
        "preds_df[\"result\"].value_counts()"
      ]
    },
    {
      "cell_type": "code",
      "execution_count": 61,
      "metadata": {
        "colab": {
          "base_uri": "https://localhost:8080/"
        },
        "id": "8F9FcFBN90Iv",
        "outputId": "0ffc5c12-b866-4cf5-84bf-697d0037ec1b"
      },
      "outputs": [
        {
          "name": "stdout",
          "output_type": "stream",
          "text": [
            "              precision    recall  f1-score   support\n",
            "\n",
            "         neg       0.90      0.87      0.89       982\n",
            "         pos       0.73      0.80      0.77       445\n",
            "\n",
            "    accuracy                           0.85      1427\n",
            "   macro avg       0.82      0.83      0.83      1427\n",
            "weighted avg       0.85      0.85      0.85      1427\n",
            "\n"
          ]
        }
      ],
      "source": [
        "print (classification_report(preds_df[\"category\"], preds_df[\"result\"]))"
      ]
    },
    {
      "cell_type": "markdown",
      "metadata": {
        "id": "lwu69bczvDRL"
      },
      "source": [
        "### Generic Classifier"
      ]
    },
    {
      "cell_type": "code",
      "execution_count": 62,
      "metadata": {
        "id": "5j2f-YZdiNdK"
      },
      "outputs": [],
      "source": [
        "# !pip install -q tensorflow==2.7.0 tensorflow_addons"
      ]
    },
    {
      "cell_type": "code",
      "execution_count": 63,
      "metadata": {
        "id": "YTuqFVXKvDRL"
      },
      "outputs": [],
      "source": [
        "from sparknlp_jsl.annotator import TFGraphBuilder\n",
        "\n",
        "graph_folder = \"gc_graph\"\n",
        "\n",
        "gc_graph_builder = TFGraphBuilder()\\\n",
        "    .setModelName(\"generic_classifier\")\\\n",
        "    .setInputCols([\"features\"])\\\n",
        "    .setLabelColumn(\"category\")\\\n",
        "    .setHiddenLayers([300,200, 50])\\\n",
        "    .setHiddenAct(\"tanh\")\\\n",
        "    .setHiddenActL2(True)\\\n",
        "    .setBatchNorm(True)\\\n",
        "    .setGraphFolder(graph_folder)\\\n",
        "    .setGraphFile(\"gcf_graph_200d.pb\")"
      ]
    },
    {
      "cell_type": "code",
      "execution_count": 64,
      "metadata": {
        "id": "Acx95To9vDRL"
      },
      "outputs": [],
      "source": [
        "features_asm = FeaturesAssembler()\\\n",
        "    .setInputCols([\"sentence_embeddings\"])\\\n",
        "    .setOutputCol(\"features\")\n",
        "      \n",
        "gen_clf = GenericClassifierApproach()\\\n",
        "    .setLabelColumn(\"category\")\\\n",
        "    .setInputCols(\"features\")\\\n",
        "    .setOutputCol(\"prediction\")\\\n",
        "    .setModelFile(f\"{graph_folder}/gcf_graph_200d.pb\")\\\n",
        "    .setEpochsNumber(40)\\\n",
        "    .setBatchSize(16)\\\n",
        "    .setLearningRate(0.001)\\\n",
        "    .setOutputLogsPath(log_folder)\\\n",
        "    .setDropout(0.5)\\\n",
        "    .setFixImbalance(True)\\\n",
        "    # .setValidationSplit(0.1)\n",
        "\n",
        "clf_Pipeline = Pipeline(stages=[\n",
        "    features_asm,\n",
        "    gc_graph_builder,\n",
        "    gen_clf])\n"
      ]
    },
    {
      "cell_type": "code",
      "execution_count": 65,
      "metadata": {
        "colab": {
          "base_uri": "https://localhost:8080/"
        },
        "id": "07qsryq3vDRL",
        "outputId": "4a1c7752-af5c-4ca9-c5f5-59e0ad46435f"
      },
      "outputs": [
        {
          "name": "stdout",
          "output_type": "stream",
          "text": [
            "TF Graph Builder configuration:\n",
            "Model name: generic_classifier\n",
            "Graph folder: gc_graph\n",
            "Graph file name: gcf_graph_200d.pb\n",
            "Build params: {'input_dim': 200, 'output_dim': 2, 'hidden_layers': [300, 200, 50], 'hidden_act': 'tanh', 'hidden_act_l2': True, 'batch_norm': True}\n",
            "generic_classifier graph exported to gc_graph/gcf_graph_200d.pb\n"
          ]
        }
      ],
      "source": [
        "generic_model_hc200 = clf_Pipeline.fit(trainingData_with_embeddings)"
      ]
    },
    {
      "cell_type": "code",
      "execution_count": 66,
      "metadata": {
        "colab": {
          "base_uri": "https://localhost:8080/"
        },
        "id": "WahobkK8vDRL",
        "outputId": "03e29661-2dd2-4d56-9603-93e783567de0"
      },
      "outputs": [
        {
          "name": "stdout",
          "output_type": "stream",
          "text": [
            "              precision    recall  f1-score   support\n",
            "\n",
            "         neg       0.93      0.76      0.84       982\n",
            "         pos       0.63      0.88      0.73       445\n",
            "\n",
            "    accuracy                           0.80      1427\n",
            "   macro avg       0.78      0.82      0.79      1427\n",
            "weighted avg       0.84      0.80      0.81      1427\n",
            "\n"
          ]
        }
      ],
      "source": [
        "pred_df = generic_model_hc200.transform(testData_with_embeddings)\n",
        "\n",
        "preds_df = pred_df.select('category','prediction.result').toPandas()\n",
        "preds_df['result'] = preds_df.result.apply(lambda x : x[0])\n",
        "\n",
        "print (classification_report(preds_df['category'], preds_df['result']))"
      ]
    },
    {
      "cell_type": "markdown",
      "metadata": {
        "id": "HToBQLkiOHDp"
      },
      "source": [
        "## Bert Sentence Embeddings (sbiobert_base_cased_mli)"
      ]
    },
    {
      "cell_type": "markdown",
      "metadata": {
        "id": "GBpfp09tTedK"
      },
      "source": [
        "Now we will extract [sbiobert_base_cased_mli](https://nlp.johnsnowlabs.com/2020/11/27/sbiobert_base_cased_mli_en.html) embeddings which has 768 dimension output and use this embeddings in the model training."
      ]
    },
    {
      "cell_type": "code",
      "execution_count": 67,
      "metadata": {
        "colab": {
          "base_uri": "https://localhost:8080/"
        },
        "id": "eCfAkAC7podJ",
        "outputId": "aea8c939-aad3-4d5b-c030-a6aab10974a4"
      },
      "outputs": [
        {
          "name": "stdout",
          "output_type": "stream",
          "text": [
            "sbiobert_base_cased_mli download started this may take some time.\n",
            "Approximate size to download 384.3 MB\n",
            "[OK!]\n"
          ]
        }
      ],
      "source": [
        "document_assembler = DocumentAssembler()\\\n",
        "    .setInputCol(\"text\")\\\n",
        "    .setOutputCol(\"document\")\n",
        "        \n",
        "bert_sent = BertSentenceEmbeddings.pretrained(\"sbiobert_base_cased_mli\", 'en','clinical/models')\\\n",
        "    .setInputCols([\"document\"])\\\n",
        "    .setOutputCol(\"sentence_embeddings\")\n",
        "\n",
        "embeddings_pipeline = Pipeline(\n",
        "    stages = [document_assembler,\n",
        "              bert_sent])"
      ]
    },
    {
      "cell_type": "code",
      "execution_count": 68,
      "metadata": {
        "colab": {
          "base_uri": "https://localhost:8080/"
        },
        "id": "PbcLStVLpoaN",
        "outputId": "c285be94-61bc-4818-95ac-860a6d5f9201"
      },
      "outputs": [
        {
          "name": "stdout",
          "output_type": "stream",
          "text": [
            "+--------------------------------------------------------------------------------+--------+--------------------------------------------------------------------------------+\n",
            "|                                                                            text|category|                                                             sentence_embeddings|\n",
            "+--------------------------------------------------------------------------------+--------+--------------------------------------------------------------------------------+\n",
            "| \"Syndrome malin\"-like symptoms probably due to interaction between neurolept...|     neg|[{sentence_embeddings, 0, 109,  \"Syndrome malin\"-like symptoms probably due t...|\n",
            "| 'Bail-out' bivalirudin use in patients with thrombotic complications unrespo...|     neg|[{sentence_embeddings, 0, 150,  'Bail-out' bivalirudin use in patients with t...|\n",
            "+--------------------------------------------------------------------------------+--------+--------------------------------------------------------------------------------+\n",
            "only showing top 2 rows\n",
            "\n"
          ]
        }
      ],
      "source": [
        "trainingData_with_embeddings = embeddings_pipeline.fit(trainingData).transform(trainingData)\\\n",
        "                                                  .select(\"text\",\"category\",\"sentence_embeddings\")\n",
        "\n",
        "trainingData_with_embeddings.show(2,truncate=80)"
      ]
    },
    {
      "cell_type": "code",
      "execution_count": 69,
      "metadata": {
        "colab": {
          "base_uri": "https://localhost:8080/"
        },
        "id": "qoby-bTzpoYQ",
        "outputId": "800c798e-c2ea-4c76-c722-7e3b17ee5bab"
      },
      "outputs": [
        {
          "name": "stdout",
          "output_type": "stream",
          "text": [
            "+--------------------------------------------------------------------------------+--------+--------------------------------------------------------------------------------+\n",
            "|                                                                            text|category|                                                             sentence_embeddings|\n",
            "+--------------------------------------------------------------------------------+--------+--------------------------------------------------------------------------------+\n",
            "| 1 previously untreated patient with plasma-cell leukaemia and 8 patients wit...|     neg|[{sentence_embeddings, 0, 166,  1 previously untreated patient with plasma-ce...|\n",
            "| A 15-year-old boy had temporary hypertropia, supraduction deficit, ipsilater...|     neg|[{sentence_embeddings, 0, 262,  A 15-year-old boy had temporary hypertropia, ...|\n",
            "+--------------------------------------------------------------------------------+--------+--------------------------------------------------------------------------------+\n",
            "only showing top 2 rows\n",
            "\n"
          ]
        }
      ],
      "source": [
        "testData_with_embeddings = embeddings_pipeline.fit(testData).transform(testData)\\\n",
        "                                                  .select(\"text\",\"category\",\"sentence_embeddings\")\n",
        "\n",
        "testData_with_embeddings.show(2,truncate=80)"
      ]
    },
    {
      "cell_type": "code",
      "execution_count": 70,
      "metadata": {
        "id": "_EetBOQUpoWQ"
      },
      "outputs": [],
      "source": [
        "log_folder=\"ADE_logs_bert\""
      ]
    },
    {
      "cell_type": "markdown",
      "metadata": {
        "id": "289YUVX7yGE1"
      },
      "source": [
        "### ClassifierDLApproach"
      ]
    },
    {
      "cell_type": "code",
      "execution_count": 71,
      "metadata": {
        "id": "ZzCU998wyGE2"
      },
      "outputs": [],
      "source": [
        "classifier_dl = ClassifierDLApproach()\\\n",
        "        .setInputCols([\"sentence_embeddings\"])\\\n",
        "        .setOutputCol(\"class\")\\\n",
        "        .setLabelColumn(\"category\")\\\n",
        "        .setBatchSize(8)\\\n",
        "        .setMaxEpochs(2)\\\n",
        "        .setLr(0.001)\\\n",
        "        .setDropout(0.3)\\\n",
        "        .setEnableOutputLogs(True)\\\n",
        "        .setOutputLogsPath(log_folder)\n",
        "\n",
        "classifier_dl_pipeline = Pipeline(stages=[classifier_dl])"
      ]
    },
    {
      "cell_type": "code",
      "execution_count": 72,
      "metadata": {
        "id": "AnpZcIyPyGE2"
      },
      "outputs": [],
      "source": [
        "clfDL_model_bert = classifier_dl_pipeline.fit(trainingData_with_embeddings)"
      ]
    },
    {
      "cell_type": "code",
      "execution_count": 73,
      "metadata": {
        "colab": {
          "base_uri": "https://localhost:8080/"
        },
        "id": "WTekTE0kyGE2",
        "outputId": "5e5133e1-8ed4-4fb7-ea1c-abb452a39ebf"
      },
      "outputs": [
        {
          "name": "stdout",
          "output_type": "stream",
          "text": [
            "              precision    recall  f1-score   support\n",
            "\n",
            "         neg       0.92      0.88      0.90       982\n",
            "         pos       0.76      0.83      0.79       445\n",
            "\n",
            "    accuracy                           0.86      1427\n",
            "   macro avg       0.84      0.85      0.84      1427\n",
            "weighted avg       0.87      0.86      0.87      1427\n",
            "\n"
          ]
        }
      ],
      "source": [
        "preds = clfDL_model_bert.transform(testData_with_embeddings)\n",
        "\n",
        "preds_df = preds.select(\"category\",\"text\",\"class.result\").toPandas()\n",
        "preds_df[\"result\"] = preds_df[\"result\"].apply(lambda x : x[0])\n",
        "\n",
        "print (classification_report(preds_df[\"category\"], preds_df[\"result\"]))"
      ]
    },
    {
      "cell_type": "markdown",
      "metadata": {
        "id": "rGyp2ylnT7qq"
      },
      "source": [
        "### MultiClassifierDL"
      ]
    },
    {
      "cell_type": "code",
      "execution_count": 74,
      "metadata": {
        "id": "rgc8eN32T7qq"
      },
      "outputs": [],
      "source": [
        "# MultiClassifierDL accepts list of strings as input label. So we convert label column to array type.\n",
        "trainingData_with_embeddings = trainingData_with_embeddings.withColumn(\"category_array\", F.array(F.col(\"category\")))\n",
        "testData_with_embeddings = testData_with_embeddings.withColumn(\"category_array\", F.array(F.col(\"category\")))"
      ]
    },
    {
      "cell_type": "code",
      "execution_count": 75,
      "metadata": {
        "id": "VNSQp8iyT7qr"
      },
      "outputs": [],
      "source": [
        "multiClassifier = MultiClassifierDLApproach()\\\n",
        "  .setInputCols(\"sentence_embeddings\")\\\n",
        "  .setOutputCol(\"prediction\")\\\n",
        "  .setLabelColumn(\"category_array\")\\\n",
        "  .setBatchSize(32)\\\n",
        "  .setMaxEpochs(20)\\\n",
        "  .setLr(9e-3)\\\n",
        "  .setThreshold(0.5)\\\n",
        "  .setShufflePerEpoch(False)\\\n",
        "  .setEnableOutputLogs(True)\\\n",
        "  .setOutputLogsPath(log_folder)\\\n",
        "#   .setValidationSplit(0.1)\n",
        "\n",
        "multiClassifier_pipeline = Pipeline(\n",
        "    stages = [\n",
        "        multiClassifier\n",
        "    ])"
      ]
    },
    {
      "cell_type": "code",
      "execution_count": 76,
      "metadata": {
        "id": "2KuFBI44T7qr"
      },
      "outputs": [],
      "source": [
        "multiClassifier_model_hc200 = multiClassifier_pipeline.fit(trainingData_with_embeddings)"
      ]
    },
    {
      "cell_type": "code",
      "execution_count": 77,
      "metadata": {
        "id": "WF1cSwJrT7qr"
      },
      "outputs": [],
      "source": [
        "preds = multiClassifier_model_hc200.transform(testData_with_embeddings)"
      ]
    },
    {
      "cell_type": "code",
      "execution_count": 78,
      "metadata": {
        "colab": {
          "base_uri": "https://localhost:8080/"
        },
        "id": "DAMLtlVsT7qr",
        "outputId": "f459a542-dab6-46cd-8660-2ffb7b33e617"
      },
      "outputs": [
        {
          "data": {
            "text/plain": [
              "['neg']    1093\n",
              "['pos']     334\n",
              "Name: result, dtype: int64"
            ]
          },
          "execution_count": 78,
          "metadata": {},
          "output_type": "execute_result"
        }
      ],
      "source": [
        "preds_df = preds.select(\"category\",\"text\",\"prediction.result\",\"prediction.metadata\").toPandas()\n",
        "preds_df.result.apply(lambda x: str(x) ).value_counts()"
      ]
    },
    {
      "cell_type": "code",
      "execution_count": 79,
      "metadata": {
        "colab": {
          "base_uri": "https://localhost:8080/"
        },
        "id": "HcZ7OAaYT7qr",
        "outputId": "e2798a9b-564f-4482-a955-3113cd850616"
      },
      "outputs": [
        {
          "data": {
            "text/plain": [
              "neg    1093\n",
              "pos     334\n",
              "Name: result, dtype: int64"
            ]
          },
          "execution_count": 79,
          "metadata": {},
          "output_type": "execute_result"
        }
      ],
      "source": [
        "# We will get the highest score label as result. You can control the number of zero label results with setThreshold() in the training.\n",
        "preds_df[\"scores\"] = preds_df.metadata.apply(lambda x: {k:float(v) for k,v in x[0].items()} if len(x)>=1 else \"\")\n",
        "preds_df[\"result\"] = preds_df.scores.apply(lambda x: max(x, key=x.get) if len(x)>=1 else \"\")\n",
        "preds_df[\"result\"].value_counts()"
      ]
    },
    {
      "cell_type": "code",
      "execution_count": 80,
      "metadata": {
        "colab": {
          "base_uri": "https://localhost:8080/"
        },
        "id": "Crbnvw7GT7qr",
        "outputId": "80785f37-a5ac-4f62-e693-e58773210cc4"
      },
      "outputs": [
        {
          "name": "stdout",
          "output_type": "stream",
          "text": [
            "              precision    recall  f1-score   support\n",
            "\n",
            "         neg       0.85      0.95      0.90       982\n",
            "         pos       0.85      0.64      0.73       445\n",
            "\n",
            "    accuracy                           0.85      1427\n",
            "   macro avg       0.85      0.79      0.81      1427\n",
            "weighted avg       0.85      0.85      0.85      1427\n",
            "\n"
          ]
        }
      ],
      "source": [
        "print (classification_report(preds_df[\"category\"], preds_df[\"result\"]))"
      ]
    },
    {
      "cell_type": "markdown",
      "metadata": {
        "id": "Y4hlGSE9yGE3"
      },
      "source": [
        "### Generic Classifier"
      ]
    },
    {
      "cell_type": "code",
      "execution_count": 81,
      "metadata": {
        "id": "lFjM5RcliQSx"
      },
      "outputs": [],
      "source": [
        "# !pip install -q tensorflow==2.7.0 tensorflow_addons"
      ]
    },
    {
      "cell_type": "code",
      "execution_count": 82,
      "metadata": {
        "id": "yNSz6-FbyGE3"
      },
      "outputs": [],
      "source": [
        "from sparknlp_jsl.annotator import TFGraphBuilder\n",
        "\n",
        "graph_folder = \"gc_graph\"\n",
        "\n",
        "gc_graph_builder = TFGraphBuilder()\\\n",
        "    .setModelName(\"generic_classifier\")\\\n",
        "    .setInputCols([\"features\"])\\\n",
        "    .setLabelColumn(\"category\")\\\n",
        "    .setHiddenLayers([300,200, 50])\\\n",
        "    .setHiddenAct(\"tanh\")\\\n",
        "    .setHiddenActL2(True)\\\n",
        "    .setBatchNorm(True)\\\n",
        "    .setGraphFolder(graph_folder)\\\n",
        "    .setGraphFile(\"gcf_graph_bert.pb\")"
      ]
    },
    {
      "cell_type": "code",
      "execution_count": 83,
      "metadata": {
        "id": "lYsWcP6yyGE3"
      },
      "outputs": [],
      "source": [
        "features_asm = FeaturesAssembler()\\\n",
        "    .setInputCols([\"sentence_embeddings\"])\\\n",
        "    .setOutputCol(\"features\")\n",
        "      \n",
        "gen_clf = GenericClassifierApproach()\\\n",
        "    .setLabelColumn(\"category\")\\\n",
        "    .setInputCols(\"features\")\\\n",
        "    .setOutputCol(\"prediction\")\\\n",
        "    .setModelFile(f\"{graph_folder}/gcf_graph_bert.pb\")\\\n",
        "    .setEpochsNumber(20)\\\n",
        "    .setBatchSize(32)\\\n",
        "    .setLearningRate(0.001)\\\n",
        "    .setOutputLogsPath(log_folder)\\\n",
        "    .setDropout(0.5)\\\n",
        "    .setFixImbalance(True)\\\n",
        "    # .setValidationSplit(0.1)\n",
        "\n",
        "clf_Pipeline = Pipeline(stages=[\n",
        "    features_asm,\n",
        "    gc_graph_builder,\n",
        "    gen_clf])\n"
      ]
    },
    {
      "cell_type": "code",
      "execution_count": 84,
      "metadata": {
        "colab": {
          "base_uri": "https://localhost:8080/"
        },
        "id": "uTJY05QbyGE3",
        "outputId": "d90f3d34-f20c-4574-f5f6-a658d8df83ac"
      },
      "outputs": [
        {
          "name": "stdout",
          "output_type": "stream",
          "text": [
            "TF Graph Builder configuration:\n",
            "Model name: generic_classifier\n",
            "Graph folder: gc_graph\n",
            "Graph file name: gcf_graph_bert.pb\n",
            "Build params: {'input_dim': 768, 'output_dim': 2, 'hidden_layers': [300, 200, 50], 'hidden_act': 'tanh', 'hidden_act_l2': True, 'batch_norm': True}\n",
            "generic_classifier graph exported to gc_graph/gcf_graph_bert.pb\n"
          ]
        }
      ],
      "source": [
        "generic_model_bert = clf_Pipeline.fit(trainingData_with_embeddings)"
      ]
    },
    {
      "cell_type": "code",
      "execution_count": 85,
      "metadata": {
        "colab": {
          "base_uri": "https://localhost:8080/"
        },
        "id": "EB1ONwUvyGE3",
        "outputId": "a693dc30-1c4f-43cf-bf78-f6678636a096"
      },
      "outputs": [
        {
          "name": "stdout",
          "output_type": "stream",
          "text": [
            "              precision    recall  f1-score   support\n",
            "\n",
            "         neg       0.90      0.95      0.92       982\n",
            "         pos       0.86      0.77      0.81       445\n",
            "\n",
            "    accuracy                           0.89      1427\n",
            "   macro avg       0.88      0.86      0.87      1427\n",
            "weighted avg       0.89      0.89      0.89      1427\n",
            "\n"
          ]
        }
      ],
      "source": [
        "pred_df = generic_model_bert.transform(testData_with_embeddings)\n",
        "\n",
        "preds_df = pred_df.select('category','prediction.result').toPandas()\n",
        "preds_df['result'] = preds_df.result.apply(lambda x : x[0])\n",
        "\n",
        "print (classification_report(preds_df['category'], preds_df['result']))"
      ]
    },
    {
      "cell_type": "markdown",
      "metadata": {
        "id": "HAEFUdy1gyh1"
      },
      "source": [
        "## DocumentLogRegClassifier"
      ]
    },
    {
      "cell_type": "code",
      "execution_count": 86,
      "metadata": {
        "id": "4YOr31bfg0hm"
      },
      "outputs": [],
      "source": [
        "document_assembler = DocumentAssembler()\\\n",
        "    .setInputCol(\"text\")\\\n",
        "    .setOutputCol(\"document\")\n",
        "\n",
        "tokenizer = Tokenizer() \\\n",
        "    .setInputCols([\"document\"]) \\\n",
        "    .setOutputCol(\"token\")\n",
        "\n",
        "normalizer = Normalizer() \\\n",
        "      .setInputCols([\"token\"]) \\\n",
        "      .setOutputCol(\"normalized\")\n",
        "\n",
        "stopwords_cleaner = StopWordsCleaner()\\\n",
        "      .setInputCols(\"normalized\")\\\n",
        "      .setOutputCol(\"cleanTokens\")\\\n",
        "      .setCaseSensitive(False)\n",
        "\n",
        "stemmer = Stemmer() \\\n",
        "      .setInputCols([\"cleanTokens\"]) \\\n",
        "      .setOutputCol(\"stem\")\n",
        "\n",
        "logreg = DocumentLogRegClassifierApproach()\\\n",
        "    .setInputCols(\"stem\")\\\n",
        "    .setLabelCol(\"category\")\\\n",
        "    .setOutputCol(\"prediction\")\\\n",
        "    .setMaxIter(10)\\\n",
        "    .setTol(1e-6)\n",
        "\n",
        "clf_Pipeline = Pipeline(stages=[\n",
        "    document_assembler, \n",
        "    tokenizer,\n",
        "    normalizer,\n",
        "    stopwords_cleaner, \n",
        "    stemmer, \n",
        "    logreg])\n",
        "doclogreg_model = clf_Pipeline.fit(trainingData)"
      ]
    },
    {
      "cell_type": "code",
      "execution_count": 87,
      "metadata": {
        "colab": {
          "base_uri": "https://localhost:8080/"
        },
        "id": "61zEw5EQg0d-",
        "outputId": "783b7163-f5d1-4176-901c-eb8a27f68499"
      },
      "outputs": [
        {
          "name": "stdout",
          "output_type": "stream",
          "text": [
            "              precision    recall  f1-score   support\n",
            "\n",
            "         neg       0.86      0.86      0.86       982\n",
            "         pos       0.70      0.69      0.69       445\n",
            "\n",
            "    accuracy                           0.81      1427\n",
            "   macro avg       0.78      0.78      0.78      1427\n",
            "weighted avg       0.81      0.81      0.81      1427\n",
            "\n"
          ]
        }
      ],
      "source": [
        "pred_df = doclogreg_model.transform(testData)\n",
        "\n",
        "preds_df = pred_df.select('category','prediction.result').toPandas()\n",
        "preds_df['result'] = preds_df.result.apply(lambda x : x[0])\n",
        "\n",
        "print (classification_report(preds_df['category'], preds_df['result']))"
      ]
    },
    {
      "cell_type": "markdown",
      "metadata": {
        "id": "IryBN-nlB8fu"
      },
      "source": [
        "# Mtsamples Dataset"
      ]
    },
    {
      "cell_type": "markdown",
      "metadata": {
        "id": "9VTK1AsahOpz"
      },
      "source": [
        "## Load Dataset"
      ]
    },
    {
      "cell_type": "code",
      "execution_count": 88,
      "metadata": {
        "id": "CHPqy3NeZMWW"
      },
      "outputs": [],
      "source": [
        "!wget -q https://raw.githubusercontent.com/JohnSnowLabs/spark-nlp-workshop/master/tutorials/Certification_Trainings/Healthcare/data/mtsamples_classifier.csv"
      ]
    },
    {
      "cell_type": "code",
      "execution_count": 89,
      "metadata": {
        "colab": {
          "base_uri": "https://localhost:8080/"
        },
        "id": "44eb4f5f-9065-4512-aad6-2afc89f74220",
        "outputId": "517fb721-c4cf-4fe5-b3ff-22612527a1f3"
      },
      "outputs": [
        {
          "name": "stdout",
          "output_type": "stream",
          "text": [
            "+----------------+----------------------------------------------------------------------------------------------------+\n",
            "|        category|                                                                                                text|\n",
            "+----------------+----------------------------------------------------------------------------------------------------+\n",
            "|Gastroenterology| PROCEDURES PERFORMED: Colonoscopy. INDICATIONS: Renewed symptoms likely consistent with active f...|\n",
            "|Gastroenterology| OPERATION 1. Ivor-Lewis esophagogastrectomy. 2. Feeding jejunostomy. 3. Placement of two right-s...|\n",
            "|Gastroenterology| PREOPERATIVE DIAGNOSES: 1. Gastroesophageal reflux disease. 2. Chronic dyspepsia. POSTOPERATIVE ...|\n",
            "|Gastroenterology| PROCEDURE: Colonoscopy. PREOPERATIVE DIAGNOSES: Rectal bleeding and perirectal abscess. POSTOPER...|\n",
            "|Gastroenterology| PREOPERATIVE DIAGNOSIS: Right colon tumor. POSTOPERATIVE DIAGNOSES: 1. Right colon cancer. 2. As...|\n",
            "|Gastroenterology| PREOPERATIVE DIAGNOSIS (ES): 1. Cholelithiasis. 2. Cholecystitis. POSTOPERATIVE DIAGNOSIS (ES): ...|\n",
            "|Gastroenterology| The patient was taken to the GI lab and placed in the left lateral supine position. Continuous p...|\n",
            "|Gastroenterology| PREOPERATIVE DIAGNOSIS: Gastrostomy (gastrocutaneous fistula). POSTOPERATIVE DIAGNOSIS: Gastrost...|\n",
            "|Gastroenterology| PREOPERATIVE DIAGNOSIS: Acute acalculous cholecystitis. POSTOPERATIVE DIAGNOSIS: Acute hemorrhag...|\n",
            "|Gastroenterology| HISTORY OF PRESENT ILLNESS: This is a 10-year-old who was found with biliary atresia and underwe...|\n",
            "+----------------+----------------------------------------------------------------------------------------------------+\n",
            "only showing top 10 rows\n",
            "\n"
          ]
        }
      ],
      "source": [
        "spark_df = spark.read.csv(\"mtsamples_classifier.csv\", header = True)\n",
        "\n",
        "spark_df.show(10,truncate=100)"
      ]
    },
    {
      "cell_type": "code",
      "execution_count": 90,
      "metadata": {
        "colab": {
          "base_uri": "https://localhost:8080/"
        },
        "id": "yApqQhjp_EZx",
        "outputId": "d41ae4d1-af5b-41ee-dfc3-9c1264a7845f"
      },
      "outputs": [
        {
          "name": "stdout",
          "output_type": "stream",
          "text": [
            "root\n",
            " |-- category: string (nullable = true)\n",
            " |-- text: string (nullable = true)\n",
            "\n"
          ]
        }
      ],
      "source": [
        "spark_df.printSchema()"
      ]
    },
    {
      "cell_type": "code",
      "execution_count": 91,
      "metadata": {
        "colab": {
          "base_uri": "https://localhost:8080/"
        },
        "id": "f0886fb5-fd9d-4199-b142-637cad880866",
        "outputId": "2f3b93ee-64c2-448a-862c-53f6d6788257"
      },
      "outputs": [
        {
          "data": {
            "text/plain": [
              "638"
            ]
          },
          "execution_count": 91,
          "metadata": {},
          "output_type": "execute_result"
        }
      ],
      "source": [
        "spark_df.count()"
      ]
    },
    {
      "cell_type": "code",
      "execution_count": 92,
      "metadata": {
        "colab": {
          "base_uri": "https://localhost:8080/"
        },
        "id": "241bd286-350c-421e-92f4-a80164ed2dc1",
        "outputId": "1d2b5712-14a3-43b2-8b97-b87f01ef2147"
      },
      "outputs": [
        {
          "name": "stdout",
          "output_type": "stream",
          "text": [
            "+----------------+-----+\n",
            "|        category|count|\n",
            "+----------------+-----+\n",
            "|         Urology|  115|\n",
            "|       Neurology|  143|\n",
            "|      Orthopedic|  223|\n",
            "|Gastroenterology|  157|\n",
            "+----------------+-----+\n",
            "\n"
          ]
        }
      ],
      "source": [
        "spark_df.groupBy(\"category\").count().show()"
      ]
    },
    {
      "cell_type": "code",
      "execution_count": 93,
      "metadata": {
        "id": "db12fe42-90b6-434d-852a-ea86cad9a963"
      },
      "outputs": [],
      "source": [
        "(trainingData, testData) = spark_df.randomSplit([0.8, 0.2], seed = 42)"
      ]
    },
    {
      "cell_type": "code",
      "execution_count": 94,
      "metadata": {
        "colab": {
          "base_uri": "https://localhost:8080/"
        },
        "id": "P3iINSk1hc2E",
        "outputId": "a85418d6-eb10-47a4-88ee-487475d31f3b"
      },
      "outputs": [
        {
          "name": "stdout",
          "output_type": "stream",
          "text": [
            "+----------------+-----+\n",
            "|        category|count|\n",
            "+----------------+-----+\n",
            "|         Urology|   95|\n",
            "|       Neurology|  121|\n",
            "|      Orthopedic|  188|\n",
            "|Gastroenterology|  132|\n",
            "+----------------+-----+\n",
            "\n"
          ]
        }
      ],
      "source": [
        "trainingData.groupBy(\"category\").count().show()"
      ]
    },
    {
      "cell_type": "code",
      "execution_count": 95,
      "metadata": {
        "colab": {
          "base_uri": "https://localhost:8080/"
        },
        "id": "UofCYygtKNw7",
        "outputId": "08c162e2-74c0-4be7-ae86-a505bae41e58"
      },
      "outputs": [
        {
          "name": "stdout",
          "output_type": "stream",
          "text": [
            "+----------------+-----+\n",
            "|        category|count|\n",
            "+----------------+-----+\n",
            "|         Urology|   20|\n",
            "|       Neurology|   22|\n",
            "|      Orthopedic|   35|\n",
            "|Gastroenterology|   25|\n",
            "+----------------+-----+\n",
            "\n"
          ]
        }
      ],
      "source": [
        "testData.groupBy(\"category\").count().show()"
      ]
    },
    {
      "cell_type": "markdown",
      "metadata": {
        "id": "F5fxqMw69oZ_"
      },
      "source": [
        "## 100 Dimension Healthcare Embeddings (embeddings_healthcare_100d)\n",
        "\n"
      ]
    },
    {
      "cell_type": "markdown",
      "metadata": {
        "id": "z3E3d1_w9oZ_"
      },
      "source": [
        "We will extract [healthcare_100d embeddings](https://nlp.johnsnowlabs.com/2020/05/29/embeddings_healthcare_100d_en.html) and use it in the classificaiton model training."
      ]
    },
    {
      "cell_type": "code",
      "execution_count": 96,
      "metadata": {
        "colab": {
          "base_uri": "https://localhost:8080/"
        },
        "id": "dGwOkIhg9oZ_",
        "outputId": "d7d0c2f7-f02d-4f7d-9076-5765408567c7"
      },
      "outputs": [
        {
          "name": "stdout",
          "output_type": "stream",
          "text": [
            "embeddings_healthcare_100d download started this may take some time.\n",
            "Approximate size to download 475.8 MB\n",
            "[OK!]\n"
          ]
        }
      ],
      "source": [
        "document_assembler = DocumentAssembler()\\\n",
        "        .setInputCol(\"text\")\\\n",
        "        .setOutputCol(\"document\")\n",
        "\n",
        "tokenizer = Tokenizer() \\\n",
        "            .setInputCols([\"document\"]) \\\n",
        "            .setOutputCol(\"token\")\n",
        "\n",
        "word_embeddings = WordEmbeddingsModel.pretrained(\"embeddings_healthcare_100d\",\"en\",\"clinical/models\")\\\n",
        "        .setInputCols([\"document\",\"token\"])\\\n",
        "        .setOutputCol(\"word_embeddings\")\n",
        "\n",
        "sentence_embeddings = SentenceEmbeddings() \\\n",
        "        .setInputCols([\"document\", \"word_embeddings\"]) \\\n",
        "        .setOutputCol(\"sentence_embeddings\") \\\n",
        "        .setPoolingStrategy(\"AVERAGE\")\n",
        "\n",
        "embeddings_pipeline = Pipeline(\n",
        "    stages = [\n",
        "        document_assembler,\n",
        "        tokenizer,\n",
        "        word_embeddings,\n",
        "        sentence_embeddings,\n",
        "\n",
        "    ])"
      ]
    },
    {
      "cell_type": "code",
      "execution_count": 97,
      "metadata": {
        "colab": {
          "base_uri": "https://localhost:8080/"
        },
        "id": "NtiB6Xgv9oZ_",
        "outputId": "adef598f-300c-4728-f210-6756953d2322"
      },
      "outputs": [
        {
          "name": "stdout",
          "output_type": "stream",
          "text": [
            "+--------------------------------------------------------------------------------+----------------+--------------------------------------------------------------------------------+\n",
            "|                                                                            text|        category|                                                             sentence_embeddings|\n",
            "+--------------------------------------------------------------------------------+----------------+--------------------------------------------------------------------------------+\n",
            "| ADMISSION DIAGNOSIS: Symptomatic cholelithiasis. DISCHARGE DIAGNOSIS: Sympto...|Gastroenterology|[{sentence_embeddings, 0, 2228,  ADMISSION DIAGNOSIS: Symptomatic cholelithia...|\n",
            "| ADMITTING DIAGNOSES: Hiatal hernia, gastroesophageal reflux disease reflux. ...|Gastroenterology|[{sentence_embeddings, 0, 3237,  ADMITTING DIAGNOSES: Hiatal hernia, gastroes...|\n",
            "+--------------------------------------------------------------------------------+----------------+--------------------------------------------------------------------------------+\n",
            "only showing top 2 rows\n",
            "\n"
          ]
        }
      ],
      "source": [
        "trainingData_with_embeddings = embeddings_pipeline.fit(trainingData).transform(trainingData)\n",
        "trainingData_with_embeddings = trainingData_with_embeddings.select(\"text\",\"category\",\"sentence_embeddings\")\n",
        "trainingData_with_embeddings.show(2,truncate=80)"
      ]
    },
    {
      "cell_type": "code",
      "execution_count": 98,
      "metadata": {
        "colab": {
          "base_uri": "https://localhost:8080/"
        },
        "id": "_hMuZrio9oaA",
        "outputId": "5776cfce-4103-43d8-bd33-93f3a9acf966"
      },
      "outputs": [
        {
          "name": "stdout",
          "output_type": "stream",
          "text": [
            "+--------------------------------------------------------------------------------+----------------+--------------------------------------------------------------------------------+\n",
            "|                                                                            text|        category|                                                             sentence_embeddings|\n",
            "+--------------------------------------------------------------------------------+----------------+--------------------------------------------------------------------------------+\n",
            "| ADMITTING DIAGNOSIS: Gastrointestinal bleed. HISTORY OF PRESENT ILLNESS: Ms....|Gastroenterology|[{sentence_embeddings, 0, 3978,  ADMITTING DIAGNOSIS: Gastrointestinal bleed....|\n",
            "| CHIEF COMPLAINT: Dysphagia and hematemesis while vomiting. HISTORY OF PRESEN...|Gastroenterology|[{sentence_embeddings, 0, 6515,  CHIEF COMPLAINT: Dysphagia and hematemesis w...|\n",
            "+--------------------------------------------------------------------------------+----------------+--------------------------------------------------------------------------------+\n",
            "only showing top 2 rows\n",
            "\n"
          ]
        }
      ],
      "source": [
        "testData_with_embeddings = embeddings_pipeline.fit(testData).transform(testData)\n",
        "testData_with_embeddings = testData_with_embeddings.select(\"text\",\"category\",\"sentence_embeddings\")\n",
        "testData_with_embeddings.show(2,truncate=80)"
      ]
    },
    {
      "cell_type": "code",
      "execution_count": 99,
      "metadata": {
        "colab": {
          "base_uri": "https://localhost:8080/"
        },
        "id": "ZgqbexSQ9oaA",
        "outputId": "ac6ffdfb-906e-432e-a8b1-655b7c34cd5f"
      },
      "outputs": [
        {
          "name": "stdout",
          "output_type": "stream",
          "text": [
            "root\n",
            " |-- text: string (nullable = true)\n",
            " |-- category: string (nullable = true)\n",
            " |-- sentence_embeddings: array (nullable = true)\n",
            " |    |-- element: struct (containsNull = true)\n",
            " |    |    |-- annotatorType: string (nullable = true)\n",
            " |    |    |-- begin: integer (nullable = false)\n",
            " |    |    |-- end: integer (nullable = false)\n",
            " |    |    |-- result: string (nullable = true)\n",
            " |    |    |-- metadata: map (nullable = true)\n",
            " |    |    |    |-- key: string\n",
            " |    |    |    |-- value: string (valueContainsNull = true)\n",
            " |    |    |-- embeddings: array (nullable = true)\n",
            " |    |    |    |-- element: float (containsNull = false)\n",
            "\n"
          ]
        }
      ],
      "source": [
        "testData_with_embeddings.printSchema()"
      ]
    },
    {
      "cell_type": "code",
      "execution_count": 100,
      "metadata": {
        "colab": {
          "base_uri": "https://localhost:8080/"
        },
        "id": "aX5ka1ok9oaA",
        "outputId": "2e13109b-5ce5-4ce9-c340-66d11908945f"
      },
      "outputs": [
        {
          "name": "stdout",
          "output_type": "stream",
          "text": [
            "+-----------------------------------------------------------------------------------------------------------------------------------------------------------------------------------------------------------------------------------------------------------------------------------------------------------------------------------------------------------------------------------------------------------------------------------------------------------------------------------------------------------------------------------------------------------------------------------------------------------------------------------------------------------------------------------------------------------------------------------------------------------------------------------------------------------------------------------------------------------------------------------------------------------------------------------------------------------------------------------------------------------------------------------------------------------------------------------------------------------------------------------------------------------------------------------------------------------------------------------------------------------------------------------------------------------------------------------------------+\n",
            "|sentence_embeddings.embeddings                                                                                                                                                                                                                                                                                                                                                                                                                                                                                                                                                                                                                                                                                                                                                                                                                                                                                                                                                                                                                                                                                                                                                                                                                                                                                                                 |\n",
            "+-----------------------------------------------------------------------------------------------------------------------------------------------------------------------------------------------------------------------------------------------------------------------------------------------------------------------------------------------------------------------------------------------------------------------------------------------------------------------------------------------------------------------------------------------------------------------------------------------------------------------------------------------------------------------------------------------------------------------------------------------------------------------------------------------------------------------------------------------------------------------------------------------------------------------------------------------------------------------------------------------------------------------------------------------------------------------------------------------------------------------------------------------------------------------------------------------------------------------------------------------------------------------------------------------------------------------------------------------+\n",
            "|[[-0.010433162, 0.0127568655, 0.110687375, 0.1609855, -0.14818177, -0.050856464, 0.064748034, -0.019294674, -0.0021781009, -0.023729818, -0.071661375, -0.057836294, 0.0931062, 0.11895762, 0.1737327, 0.11616965, -0.04509215, -0.1780082, -0.051163834, -0.010661895, -0.016196107, -0.20511495, 0.055771172, -0.020675572, -0.16809453, -0.11902388, 0.029673453, 0.2109956, 0.08391341, 0.07287546, -0.059694137, -0.11476436, 0.116185226, 0.04081436, 0.12374329, -0.079188205, -0.107561216, 0.30140355, 0.11424051, -0.14411166, -0.10631838, -0.1267307, 0.043870304, -0.0954702, -0.04076074, 0.11832804, -0.24299674, -0.30246606, 0.20045096, -0.1395888, -0.19080718, -0.21601082, -0.17319606, 0.040745135, 0.0034334804, 0.18703526, 0.0071888035, 0.09917312, 0.16079637, -0.10798641, -0.20016776, -0.07785581, -0.05333711, -0.098486245, -0.051750652, 0.09900631, 0.0038747191, -0.016456064, -4.7404392E-4, 0.1622855, 0.032233566, 0.11133595, -0.06978166, 0.10070201, -0.10140643, -0.16460328, -3.7426242E-4, -0.071075715, -0.070403844, 0.014873751, 0.06439997, -0.18902938, -0.06883806, 0.13852334, 0.080206215, -0.057379827, -0.017841203, 0.18641162, -0.05076376, 0.08368676, 0.15654859, -0.020575669, -0.1364575, 0.1936975, -0.14989865, 0.14287484, -0.01319278, 0.21304058, 0.038528293, -0.1607226]]   |\n",
            "|[[-0.0055608996, 0.018396137, 0.12305377, 0.13861515, -0.18651922, -0.07559964, 0.12978752, -0.0046452526, -0.0031408924, -0.047829263, -0.07781438, -0.06980049, 0.10436401, 0.14137094, 0.19514856, 0.090210386, -0.07936747, -0.17871696, -0.047058906, -0.012223783, -0.018831927, -0.19496521, 0.09245815, -0.05558219, -0.12743488, -0.1095424, -0.01887763, 0.23187321, 0.05345297, 0.0705227, -0.041596405, -0.12366259, 0.11156451, 0.040962037, 0.15293725, -0.061151978, -0.14757043, 0.32291353, 0.09381881, -0.15077469, -0.081602074, -0.14806567, 0.027384253, -0.085774645, -0.03718103, 0.13335608, -0.22088452, -0.3229317, 0.19772385, -0.16022566, -0.17545436, -0.20965564, -0.18994193, 0.06853686, -0.025128366, 0.22408263, -0.0076822336, 0.0643982, 0.14673477, -0.14300115, -0.1689565, -0.06790761, -0.035010457, -0.10654917, -0.039202526, 0.11305576, 0.015538715, -0.033635687, -0.006993121, 0.16426349, 0.03879993, 0.106086224, -0.10602426, 0.109544784, -0.08617863, -0.1625389, -0.010437247, -0.058627315, -0.08381029, -0.037467852, 0.032581322, -0.20412038, -0.04196348, 0.15452798, 0.081284925, -0.07090112, -0.017301949, 0.17624082, -0.066887006, 0.08057648, 0.12532169, -5.574489E-4, -0.13665588, 0.20512162, -0.11867192, 0.14648616, -1.0712413E-4, 0.24899963, 0.044570267, -0.13167858]]|\n",
            "|[[-0.019461514, 0.060639214, 0.11142021, 0.12826534, -0.16216077, -0.10416892, 0.17136306, -0.020363769, 0.01169337, -0.08476138, -0.07546314, -0.065848626, 0.102526255, 0.11644591, 0.19257692, 0.09793439, -0.068165705, -0.16009285, -0.029218554, 0.01462871, 0.0038295814, -0.19406919, 0.0910914, -0.04895865, -0.100249454, -0.11944068, -0.017690085, 0.24394804, 0.07483783, 0.06356346, -0.05839337, -0.13352504, 0.13198979, 0.045382313, 0.16690075, -0.0743445, -0.16710663, 0.27055958, 0.08903107, -0.19592911, -0.110773124, -0.16165365, 0.05279147, -0.104184955, 0.01048439, 0.11801978, -0.22220875, -0.30556756, 0.21289544, -0.14951447, -0.18037881, -0.2028568, -0.20674193, 0.0673642, -0.010214148, 0.2096897, -0.019585017, 0.079475716, 0.15992293, -0.14178875, -0.12522908, -0.033322133, -0.025568906, -0.11011209, 0.0054641864, 0.09865891, 0.005988106, -0.018688451, 0.015818665, 0.16191542, 0.017732812, 0.13704179, -0.10860545, 0.08053473, -0.08480248, -0.13023122, -0.033387773, -0.06475719, -0.05449556, -0.041496266, 0.022730881, -0.15954876, -0.052208956, 0.15878052, 0.06134811, -0.057613663, -0.018151483, 0.21978277, -0.04527128, 0.11386413, 0.14057644, 0.009502874, -0.12136669, 0.20709476, -0.11373642, 0.09872264, 0.0022662014, 0.25538194, 0.036831725, -0.16547233]]           |\n",
            "+-----------------------------------------------------------------------------------------------------------------------------------------------------------------------------------------------------------------------------------------------------------------------------------------------------------------------------------------------------------------------------------------------------------------------------------------------------------------------------------------------------------------------------------------------------------------------------------------------------------------------------------------------------------------------------------------------------------------------------------------------------------------------------------------------------------------------------------------------------------------------------------------------------------------------------------------------------------------------------------------------------------------------------------------------------------------------------------------------------------------------------------------------------------------------------------------------------------------------------------------------------------------------------------------------------------------------------------------------+\n",
            "only showing top 3 rows\n",
            "\n"
          ]
        }
      ],
      "source": [
        "testData_with_embeddings.select(testData_with_embeddings.sentence_embeddings.embeddings).show(3,truncate=False)"
      ]
    },
    {
      "cell_type": "code",
      "execution_count": 101,
      "metadata": {
        "id": "V99u_ru-9oaA"
      },
      "outputs": [],
      "source": [
        "log_folder=\"Mt_logs_healthcare_100d\"\n",
        "!mkdir -p $log_folder"
      ]
    },
    {
      "cell_type": "markdown",
      "metadata": {
        "id": "7HUPl4fh9oaA"
      },
      "source": [
        "### ClassifierDLApproach"
      ]
    },
    {
      "cell_type": "code",
      "execution_count": 102,
      "metadata": {
        "id": "Dzhptr2o9oaA"
      },
      "outputs": [],
      "source": [
        "classifier_dl = ClassifierDLApproach()\\\n",
        "        .setInputCols([\"sentence_embeddings\"])\\\n",
        "        .setOutputCol(\"prediction\")\\\n",
        "        .setLabelColumn(\"category\")\\\n",
        "        .setBatchSize(8)\\\n",
        "        .setMaxEpochs(50)\\\n",
        "        .setLr(0.005)\\\n",
        "        .setDropout(0.3)\\\n",
        "        .setEnableOutputLogs(True)\\\n",
        "        .setOutputLogsPath(log_folder)\\\n",
        "        # .setValidationSplit(0.1)\n",
        "\n",
        "classifier_dl_pipeline = Pipeline(stages=[classifier_dl])"
      ]
    },
    {
      "cell_type": "code",
      "execution_count": 103,
      "metadata": {
        "id": "GP8eSc7Q9oaB"
      },
      "outputs": [],
      "source": [
        "clfDL_model_hc100 = classifier_dl_pipeline.fit(trainingData_with_embeddings)"
      ]
    },
    {
      "cell_type": "code",
      "execution_count": 104,
      "metadata": {
        "id": "3CKuuqYb9oaB"
      },
      "outputs": [],
      "source": [
        "preds = clfDL_model_hc100.transform(testData_with_embeddings)"
      ]
    },
    {
      "cell_type": "code",
      "execution_count": 105,
      "metadata": {
        "colab": {
          "base_uri": "https://localhost:8080/"
        },
        "id": "uGFN40ju9oaB",
        "outputId": "f9f38c4b-984e-474b-f0e7-47b980a5033d"
      },
      "outputs": [
        {
          "name": "stdout",
          "output_type": "stream",
          "text": [
            "                  precision    recall  f1-score   support\n",
            "\n",
            "Gastroenterology       0.76      0.76      0.76        25\n",
            "       Neurology       0.73      0.73      0.73        22\n",
            "      Orthopedic       0.87      0.94      0.90        35\n",
            "         Urology       0.59      0.50      0.54        20\n",
            "\n",
            "        accuracy                           0.76       102\n",
            "       macro avg       0.74      0.73      0.73       102\n",
            "    weighted avg       0.76      0.76      0.76       102\n",
            "\n"
          ]
        }
      ],
      "source": [
        "preds_df = preds.select(\"category\",\"text\",\"prediction.result\").toPandas()\n",
        "preds_df[\"result\"] = preds_df[\"result\"].apply(lambda x : x[0])\n",
        "\n",
        "print (classification_report(preds_df[\"category\"], preds_df[\"result\"]))"
      ]
    },
    {
      "cell_type": "markdown",
      "metadata": {
        "id": "zaaRNh3W9oaB"
      },
      "source": [
        "### MultiClassifierDL"
      ]
    },
    {
      "cell_type": "code",
      "execution_count": 106,
      "metadata": {
        "id": "FnURVIYR9oaB"
      },
      "outputs": [],
      "source": [
        "# MultiClassifierDL accepts list of strings as input label. So we convert label column to array type.\n",
        "trainingData_with_embeddings = trainingData_with_embeddings.withColumn(\"category_array\", F.array(F.col(\"category\")))\n",
        "testData_with_embeddings = testData_with_embeddings.withColumn(\"category_array\", F.array(F.col(\"category\")))"
      ]
    },
    {
      "cell_type": "code",
      "execution_count": 107,
      "metadata": {
        "id": "BHBThSDF9oaB"
      },
      "outputs": [],
      "source": [
        "multiClassifier = MultiClassifierDLApproach()\\\n",
        "  .setInputCols(\"sentence_embeddings\")\\\n",
        "  .setOutputCol(\"prediction\")\\\n",
        "  .setLabelColumn(\"category_array\")\\\n",
        "  .setBatchSize(8)\\\n",
        "  .setMaxEpochs(40)\\\n",
        "  .setLr(5e-3)\\\n",
        "  .setThreshold(0.5)\\\n",
        "  .setShufflePerEpoch(False)\\\n",
        "  .setEnableOutputLogs(True)\\\n",
        "  .setOutputLogsPath(log_folder)\\\n",
        "#   .setValidationSplit(0.1)\n",
        "\n",
        "multiClassifier_pipeline = Pipeline(\n",
        "    stages = [\n",
        "        multiClassifier\n",
        "    ])"
      ]
    },
    {
      "cell_type": "code",
      "execution_count": 108,
      "metadata": {
        "id": "Ls8aG1NS9oaB"
      },
      "outputs": [],
      "source": [
        "multiClassifier_model_hc100 = multiClassifier_pipeline.fit(trainingData_with_embeddings)"
      ]
    },
    {
      "cell_type": "code",
      "execution_count": 109,
      "metadata": {
        "id": "zbwCsFnA9oaC"
      },
      "outputs": [],
      "source": [
        "preds = multiClassifier_model_hc100.transform(testData_with_embeddings)"
      ]
    },
    {
      "cell_type": "code",
      "execution_count": 110,
      "metadata": {
        "colab": {
          "base_uri": "https://localhost:8080/"
        },
        "id": "l5ZNDAi69oaC",
        "outputId": "da51398b-3741-4866-f1f9-7b183465a1c6"
      },
      "outputs": [
        {
          "data": {
            "text/plain": [
              "['Orthopedic']                        35\n",
              "['Urology']                           21\n",
              "['Gastroenterology']                  19\n",
              "['Neurology']                         17\n",
              "[]                                     5\n",
              "['Neurology', 'Orthopedic']            4\n",
              "['Orthopedic', 'Gastroenterology']     1\n",
              "Name: result, dtype: int64"
            ]
          },
          "execution_count": 110,
          "metadata": {},
          "output_type": "execute_result"
        }
      ],
      "source": [
        "preds_df = preds.select(\"category\",\"text\",\"prediction.result\",\"prediction.metadata\").toPandas()\n",
        "preds_df.result.apply(lambda x: str(x) ).value_counts()"
      ]
    },
    {
      "cell_type": "code",
      "execution_count": 111,
      "metadata": {
        "colab": {
          "base_uri": "https://localhost:8080/"
        },
        "id": "jCaUwm8k9oaD",
        "outputId": "02598cde-f690-4a9d-bcfc-0cd66a73b697"
      },
      "outputs": [
        {
          "data": {
            "text/plain": [
              "Orthopedic          36\n",
              "Urology             21\n",
              "Gastroenterology    20\n",
              "Neurology           20\n",
              "                     5\n",
              "Name: result, dtype: int64"
            ]
          },
          "execution_count": 111,
          "metadata": {},
          "output_type": "execute_result"
        }
      ],
      "source": [
        "# We will get the highest score label as result. You can control the number of zero label results with setThreshold() in the training.\n",
        "preds_df[\"scores\"] = preds_df.metadata.apply(lambda x: {k:float(v) for k,v in x[0].items()} if len(x)>=1 else \"\")\n",
        "preds_df[\"result\"] = preds_df.scores.apply(lambda x: max(x, key=x.get) if len(x)>=1 else \"\")\n",
        "preds_df[\"result\"].value_counts()"
      ]
    },
    {
      "cell_type": "code",
      "execution_count": 112,
      "metadata": {
        "colab": {
          "base_uri": "https://localhost:8080/"
        },
        "id": "7UoCi9IN9oaD",
        "outputId": "c760dbef-c0f2-404f-d2df-df6c548855bd"
      },
      "outputs": [
        {
          "name": "stdout",
          "output_type": "stream",
          "text": [
            "                  precision    recall  f1-score   support\n",
            "\n",
            "                       0.00      0.00      0.00         0\n",
            "Gastroenterology       0.95      0.76      0.84        25\n",
            "       Neurology       0.80      0.73      0.76        22\n",
            "      Orthopedic       0.89      0.91      0.90        35\n",
            "         Urology       0.90      0.95      0.93        20\n",
            "\n",
            "        accuracy                           0.84       102\n",
            "       macro avg       0.71      0.67      0.69       102\n",
            "    weighted avg       0.89      0.84      0.86       102\n",
            "\n"
          ]
        }
      ],
      "source": [
        "print (classification_report(preds_df[\"category\"], preds_df[\"result\"]))"
      ]
    },
    {
      "cell_type": "markdown",
      "metadata": {
        "id": "xIjin3kR9oaD"
      },
      "source": [
        "### Generic Classifier"
      ]
    },
    {
      "cell_type": "code",
      "execution_count": 113,
      "metadata": {
        "id": "Wwy2d7889oaD"
      },
      "outputs": [],
      "source": [
        "!pip install -q tensorflow==2.7.0 tensorflow_addons"
      ]
    },
    {
      "cell_type": "code",
      "execution_count": 114,
      "metadata": {
        "id": "kbBy9Fei9oaD"
      },
      "outputs": [],
      "source": [
        "from sparknlp_jsl.annotator import TFGraphBuilder\n",
        "\n",
        "graph_folder = \"gc_graph\"\n",
        "\n",
        "gc_graph_builder = TFGraphBuilder()\\\n",
        "    .setModelName(\"generic_classifier\")\\\n",
        "    .setInputCols([\"features\"])\\\n",
        "    .setLabelColumn(\"category\")\\\n",
        "    .setHiddenLayers([300,200, 50])\\\n",
        "    .setHiddenAct(\"tanh\")\\\n",
        "    .setHiddenActL2(True)\\\n",
        "    .setBatchNorm(True)\\\n",
        "    .setGraphFolder(graph_folder)\\\n",
        "    .setGraphFile(\"gcf_graph_100d.pb\")"
      ]
    },
    {
      "cell_type": "code",
      "execution_count": 115,
      "metadata": {
        "id": "k_4aonYQ9oaD"
      },
      "outputs": [],
      "source": [
        "features_asm = FeaturesAssembler()\\\n",
        "    .setInputCols([\"sentence_embeddings\"])\\\n",
        "    .setOutputCol(\"features\")\n",
        "      \n",
        "gen_clf = GenericClassifierApproach()\\\n",
        "    .setLabelColumn(\"category\")\\\n",
        "    .setInputCols(\"features\")\\\n",
        "    .setOutputCol(\"prediction\")\\\n",
        "    .setModelFile(f\"{graph_folder}/gcf_graph_100d.pb\")\\\n",
        "    .setEpochsNumber(50)\\\n",
        "    .setBatchSize(32)\\\n",
        "    .setLearningRate(0.001)\\\n",
        "    .setOutputLogsPath(log_folder)\\\n",
        "    .setDropout(0.3)\\\n",
        "    .setFixImbalance(False)\\\n",
        "    # .setValidationSplit(0.1)\n",
        "\n",
        "clf_Pipeline = Pipeline(stages=[\n",
        "    features_asm,\n",
        "    gc_graph_builder,\n",
        "    gen_clf])\n"
      ]
    },
    {
      "cell_type": "code",
      "execution_count": 116,
      "metadata": {
        "colab": {
          "base_uri": "https://localhost:8080/"
        },
        "id": "4LA5_oIb9oaE",
        "outputId": "560d213d-85e3-4440-e58f-266bec5c336e"
      },
      "outputs": [
        {
          "name": "stdout",
          "output_type": "stream",
          "text": [
            "TF Graph Builder configuration:\n",
            "Model name: generic_classifier\n",
            "Graph folder: gc_graph\n",
            "Graph file name: gcf_graph_100d.pb\n",
            "Build params: {'input_dim': 100, 'output_dim': 4, 'hidden_layers': [300, 200, 50], 'hidden_act': 'tanh', 'hidden_act_l2': True, 'batch_norm': True}\n",
            "generic_classifier graph exported to gc_graph/gcf_graph_100d.pb\n"
          ]
        }
      ],
      "source": [
        "generic_model_hc100 = clf_Pipeline.fit(trainingData_with_embeddings)"
      ]
    },
    {
      "cell_type": "code",
      "execution_count": 117,
      "metadata": {
        "id": "YSMrZRPx9oaE"
      },
      "outputs": [],
      "source": [
        "pred_df = generic_model_hc100.transform(testData_with_embeddings)"
      ]
    },
    {
      "cell_type": "code",
      "execution_count": 118,
      "metadata": {
        "colab": {
          "base_uri": "https://localhost:8080/"
        },
        "id": "geckbyhy9oaE",
        "outputId": "c83e0122-952b-4b17-db25-f7555e58dd9c"
      },
      "outputs": [
        {
          "name": "stdout",
          "output_type": "stream",
          "text": [
            "                  precision    recall  f1-score   support\n",
            "\n",
            "Gastroenterology       0.92      0.92      0.92        25\n",
            "       Neurology       0.88      0.68      0.77        22\n",
            "      Orthopedic       0.79      0.94      0.86        35\n",
            "         Urology       0.94      0.85      0.89        20\n",
            "\n",
            "        accuracy                           0.86       102\n",
            "       macro avg       0.88      0.85      0.86       102\n",
            "    weighted avg       0.87      0.86      0.86       102\n",
            "\n"
          ]
        }
      ],
      "source": [
        "preds_df = pred_df.select('category','prediction.result').toPandas()\n",
        "preds_df['result'] = preds_df.result.apply(lambda x : x[0])\n",
        "\n",
        "print (classification_report(preds_df['category'], preds_df['result']))"
      ]
    },
    {
      "cell_type": "markdown",
      "metadata": {
        "id": "kF60nUsj9oaE"
      },
      "source": [
        "## 200 Dimension Healthcare Embeddings (embeddings_clinical)\n",
        "\n"
      ]
    },
    {
      "cell_type": "markdown",
      "metadata": {
        "id": "fBJMu9pr9oaE"
      },
      "source": [
        "Now we will extract [embeddings_clinical](https://nlp.johnsnowlabs.com/2020/01/28/embeddings_clinical_en.html) embeddings which has 200 dimension output and use this embeddings in the model training."
      ]
    },
    {
      "cell_type": "code",
      "execution_count": 119,
      "metadata": {
        "colab": {
          "base_uri": "https://localhost:8080/"
        },
        "id": "PzSG35rb9oaE",
        "outputId": "2f79fffa-e1de-48d4-b45a-e7604a0af4ab"
      },
      "outputs": [
        {
          "name": "stdout",
          "output_type": "stream",
          "text": [
            "embeddings_clinical download started this may take some time.\n",
            "Approximate size to download 1.6 GB\n",
            "[OK!]\n"
          ]
        }
      ],
      "source": [
        "document_assembler = DocumentAssembler()\\\n",
        "        .setInputCol(\"text\")\\\n",
        "        .setOutputCol(\"document\")\n",
        "\n",
        "tokenizer = Tokenizer() \\\n",
        "            .setInputCols([\"document\"]) \\\n",
        "            .setOutputCol(\"token\")\n",
        "\n",
        "word_embeddings = WordEmbeddingsModel.pretrained(\"embeddings_clinical\",\"en\",\"clinical/models\")\\\n",
        "        .setInputCols([\"document\",\"token\"])\\\n",
        "        .setOutputCol(\"word_embeddings\")\n",
        "\n",
        "sentence_embeddings = SentenceEmbeddings() \\\n",
        "        .setInputCols([\"document\", \"word_embeddings\"]) \\\n",
        "        .setOutputCol(\"sentence_embeddings\") \\\n",
        "        .setPoolingStrategy(\"AVERAGE\")\n",
        "\n",
        "embeddings_pipeline = Pipeline(\n",
        "    stages = [\n",
        "        document_assembler,\n",
        "        tokenizer,\n",
        "        word_embeddings,\n",
        "        sentence_embeddings,\n",
        "    ])"
      ]
    },
    {
      "cell_type": "code",
      "execution_count": 120,
      "metadata": {
        "colab": {
          "base_uri": "https://localhost:8080/"
        },
        "id": "MXN8Cqyp9oaF",
        "outputId": "671cfd6c-4df5-4135-b609-72e1540f4f8e"
      },
      "outputs": [
        {
          "name": "stdout",
          "output_type": "stream",
          "text": [
            "+--------------------------------------------------------------------------------+----------------+--------------------------------------------------------------------------------+\n",
            "|                                                                            text|        category|                                                             sentence_embeddings|\n",
            "+--------------------------------------------------------------------------------+----------------+--------------------------------------------------------------------------------+\n",
            "| ADMISSION DIAGNOSIS: Symptomatic cholelithiasis. DISCHARGE DIAGNOSIS: Sympto...|Gastroenterology|[{sentence_embeddings, 0, 2228,  ADMISSION DIAGNOSIS: Symptomatic cholelithia...|\n",
            "| ADMITTING DIAGNOSES: Hiatal hernia, gastroesophageal reflux disease reflux. ...|Gastroenterology|[{sentence_embeddings, 0, 3237,  ADMITTING DIAGNOSES: Hiatal hernia, gastroes...|\n",
            "+--------------------------------------------------------------------------------+----------------+--------------------------------------------------------------------------------+\n",
            "only showing top 2 rows\n",
            "\n"
          ]
        }
      ],
      "source": [
        "trainingData_with_embeddings = embeddings_pipeline.fit(trainingData).transform(trainingData)\\\n",
        "                                                  .select(\"text\",\"category\",\"sentence_embeddings\")\n",
        "trainingData_with_embeddings.show(2,truncate=80)"
      ]
    },
    {
      "cell_type": "code",
      "execution_count": 121,
      "metadata": {
        "colab": {
          "base_uri": "https://localhost:8080/"
        },
        "id": "fpBY0D_y9oaF",
        "outputId": "a4424d9a-ec63-4689-9d91-d4d8a498f739"
      },
      "outputs": [
        {
          "name": "stdout",
          "output_type": "stream",
          "text": [
            "+--------------------------------------------------------------------------------+----------------+--------------------------------------------------------------------------------+\n",
            "|                                                                            text|        category|                                                             sentence_embeddings|\n",
            "+--------------------------------------------------------------------------------+----------------+--------------------------------------------------------------------------------+\n",
            "| ADMITTING DIAGNOSIS: Gastrointestinal bleed. HISTORY OF PRESENT ILLNESS: Ms....|Gastroenterology|[{sentence_embeddings, 0, 3978,  ADMITTING DIAGNOSIS: Gastrointestinal bleed....|\n",
            "| CHIEF COMPLAINT: Dysphagia and hematemesis while vomiting. HISTORY OF PRESEN...|Gastroenterology|[{sentence_embeddings, 0, 6515,  CHIEF COMPLAINT: Dysphagia and hematemesis w...|\n",
            "+--------------------------------------------------------------------------------+----------------+--------------------------------------------------------------------------------+\n",
            "only showing top 2 rows\n",
            "\n"
          ]
        }
      ],
      "source": [
        "testData_with_embeddings = embeddings_pipeline.fit(testData).transform(testData)\\\n",
        "                                                  .select(\"text\",\"category\",\"sentence_embeddings\")\n",
        "testData_with_embeddings.show(2,truncate=80)"
      ]
    },
    {
      "cell_type": "code",
      "execution_count": 122,
      "metadata": {
        "id": "GGIXfOlX9oaF"
      },
      "outputs": [],
      "source": [
        "log_folder=\"Mt_logs_healthcare_200d\""
      ]
    },
    {
      "cell_type": "markdown",
      "metadata": {
        "id": "5W6ac3UP9oaF"
      },
      "source": [
        "### ClassifierDLApproach "
      ]
    },
    {
      "cell_type": "code",
      "execution_count": 123,
      "metadata": {
        "id": "2z7EgX-q9oaF"
      },
      "outputs": [],
      "source": [
        "classifier_dl = ClassifierDLApproach()\\\n",
        "        .setInputCols([\"sentence_embeddings\"])\\\n",
        "        .setOutputCol(\"class\")\\\n",
        "        .setLabelColumn(\"category\")\\\n",
        "        .setBatchSize(8)\\\n",
        "        .setMaxEpochs(50)\\\n",
        "        .setLr(0.005)\\\n",
        "        .setDropout(0.1)\\\n",
        "        .setEnableOutputLogs(True)\\\n",
        "        .setOutputLogsPath(log_folder)\n",
        "\n",
        "classifier_dl_pipeline = Pipeline(stages=[classifier_dl])"
      ]
    },
    {
      "cell_type": "code",
      "execution_count": 124,
      "metadata": {
        "id": "U0mSiCzC9oaF"
      },
      "outputs": [],
      "source": [
        "clfDL_model_hc200 = classifier_dl_pipeline.fit(trainingData_with_embeddings)"
      ]
    },
    {
      "cell_type": "code",
      "execution_count": 125,
      "metadata": {
        "colab": {
          "base_uri": "https://localhost:8080/"
        },
        "id": "boLjiAyP9oaF",
        "outputId": "5973da48-fc45-454a-837c-1af92fc0b5f9"
      },
      "outputs": [
        {
          "name": "stdout",
          "output_type": "stream",
          "text": [
            "                  precision    recall  f1-score   support\n",
            "\n",
            "Gastroenterology       1.00      0.76      0.86        25\n",
            "       Neurology       0.94      0.77      0.85        22\n",
            "      Orthopedic       0.89      0.97      0.93        35\n",
            "         Urology       0.74      1.00      0.85        20\n",
            "\n",
            "        accuracy                           0.88       102\n",
            "       macro avg       0.89      0.88      0.87       102\n",
            "    weighted avg       0.90      0.88      0.88       102\n",
            "\n"
          ]
        }
      ],
      "source": [
        "preds = clfDL_model_hc200.transform(testData_with_embeddings)\n",
        "\n",
        "preds_df = preds.select(\"category\",\"text\",\"class.result\").toPandas()\n",
        "preds_df[\"result\"] = preds_df[\"result\"].apply(lambda x : x[0])\n",
        "\n",
        "print (classification_report(preds_df[\"category\"], preds_df[\"result\"]))"
      ]
    },
    {
      "cell_type": "markdown",
      "metadata": {
        "id": "y_hWPzoj9oaG"
      },
      "source": [
        "### MultiClassifierDL\n",
        "\n"
      ]
    },
    {
      "cell_type": "code",
      "execution_count": 126,
      "metadata": {
        "id": "mcUXN0td9oaG"
      },
      "outputs": [],
      "source": [
        "# MultiClassifierDL accepts list of strings as input label. So we convert label column to array type.\n",
        "trainingData_with_embeddings = trainingData_with_embeddings.withColumn(\"category_array\", F.array(F.col(\"category\")))\n",
        "testData_with_embeddings = testData_with_embeddings.withColumn(\"category_array\", F.array(F.col(\"category\")))"
      ]
    },
    {
      "cell_type": "code",
      "execution_count": 127,
      "metadata": {
        "id": "4YBVhvLL9oaG"
      },
      "outputs": [],
      "source": [
        "multiClassifier = MultiClassifierDLApproach()\\\n",
        "  .setInputCols(\"sentence_embeddings\")\\\n",
        "  .setOutputCol(\"prediction\")\\\n",
        "  .setLabelColumn(\"category_array\")\\\n",
        "  .setBatchSize(16)\\\n",
        "  .setMaxEpochs(20)\\\n",
        "  .setLr(9e-3)\\\n",
        "  .setThreshold(0.2)\\\n",
        "  .setShufflePerEpoch(False)\\\n",
        "  .setEnableOutputLogs(True)\\\n",
        "  .setOutputLogsPath(log_folder)\\\n",
        "#   .setValidationSplit(0.1)\n",
        "\n",
        "multiClassifier_pipeline = Pipeline(\n",
        "    stages = [\n",
        "        multiClassifier\n",
        "    ])"
      ]
    },
    {
      "cell_type": "code",
      "execution_count": 128,
      "metadata": {
        "id": "ABetRCmn9oaG"
      },
      "outputs": [],
      "source": [
        "multiClassifier_model_hc200 = multiClassifier_pipeline.fit(trainingData_with_embeddings)"
      ]
    },
    {
      "cell_type": "code",
      "execution_count": 129,
      "metadata": {
        "id": "EdZbqqEk9oaG"
      },
      "outputs": [],
      "source": [
        "preds = multiClassifier_model_hc200.transform(testData_with_embeddings)"
      ]
    },
    {
      "cell_type": "code",
      "execution_count": 130,
      "metadata": {
        "colab": {
          "base_uri": "https://localhost:8080/"
        },
        "id": "lY4vVTH29oaG",
        "outputId": "7e08bb80-d05e-415b-d1be-15c0c40c3dfb"
      },
      "outputs": [
        {
          "data": {
            "text/plain": [
              "['Orthopedic']                        32\n",
              "['Gastroenterology']                  19\n",
              "['Urology']                           18\n",
              "['Neurology']                         13\n",
              "['Neurology', 'Orthopedic']           11\n",
              "[]                                     4\n",
              "['Orthopedic', 'Gastroenterology']     3\n",
              "['Urology', 'Orthopedic']              1\n",
              "['Urology', 'Gastroenterology']        1\n",
              "Name: result, dtype: int64"
            ]
          },
          "execution_count": 130,
          "metadata": {},
          "output_type": "execute_result"
        }
      ],
      "source": [
        "preds_df = preds.select(\"category\",\"text\",\"prediction.result\",\"prediction.metadata\").toPandas()\n",
        "preds_df.result.apply(lambda x: str(x) ).value_counts()"
      ]
    },
    {
      "cell_type": "code",
      "execution_count": 131,
      "metadata": {
        "colab": {
          "base_uri": "https://localhost:8080/"
        },
        "id": "DOKLfZR59oaH",
        "outputId": "b7ab3858-d315-423f-ff4b-13882157c293"
      },
      "outputs": [
        {
          "data": {
            "text/plain": [
              "Orthopedic          38\n",
              "Gastroenterology    22\n",
              "Urology             20\n",
              "Neurology           18\n",
              "                     4\n",
              "Name: result, dtype: int64"
            ]
          },
          "execution_count": 131,
          "metadata": {},
          "output_type": "execute_result"
        }
      ],
      "source": [
        "# We will get the highest score label as result. you can control the number of zero label results with setThreshold() in the training.\n",
        "preds_df[\"scores\"] = preds_df.metadata.apply(lambda x: {k:float(v) for k,v in x[0].items()} if len(x)>=1 else \"\")\n",
        "preds_df[\"result\"] = preds_df.scores.apply(lambda x: max(x, key=x.get) if len(x)>=1 else \"\")\n",
        "preds_df[\"result\"].value_counts()"
      ]
    },
    {
      "cell_type": "code",
      "execution_count": 132,
      "metadata": {
        "colab": {
          "base_uri": "https://localhost:8080/"
        },
        "id": "2E9ibEbQ9oaH",
        "outputId": "01666e5b-bd4a-4bf1-938f-2d13dbbe9cef"
      },
      "outputs": [
        {
          "name": "stdout",
          "output_type": "stream",
          "text": [
            "                  precision    recall  f1-score   support\n",
            "\n",
            "                       0.00      0.00      0.00         0\n",
            "Gastroenterology       1.00      0.88      0.94        25\n",
            "       Neurology       0.89      0.73      0.80        22\n",
            "      Orthopedic       0.87      0.94      0.90        35\n",
            "         Urology       0.90      0.90      0.90        20\n",
            "\n",
            "        accuracy                           0.87       102\n",
            "       macro avg       0.73      0.69      0.71       102\n",
            "    weighted avg       0.91      0.87      0.89       102\n",
            "\n"
          ]
        }
      ],
      "source": [
        "print (classification_report(preds_df[\"category\"], preds_df[\"result\"]))"
      ]
    },
    {
      "cell_type": "markdown",
      "metadata": {
        "id": "7gUOXo5W9oaH"
      },
      "source": [
        "### Generic Classifier "
      ]
    },
    {
      "cell_type": "code",
      "execution_count": 133,
      "metadata": {
        "id": "YaFaVvVg9oaH"
      },
      "outputs": [],
      "source": [
        "# !pip install -q tensorflow==2.7.0 tensorflow_addons"
      ]
    },
    {
      "cell_type": "code",
      "execution_count": 134,
      "metadata": {
        "id": "sRkEeD1N9oaH"
      },
      "outputs": [],
      "source": [
        "from sparknlp_jsl.annotator import TFGraphBuilder\n",
        "\n",
        "graph_folder = \"gc_graph\"\n",
        "\n",
        "gc_graph_builder = TFGraphBuilder()\\\n",
        "    .setModelName(\"generic_classifier\")\\\n",
        "    .setInputCols([\"features\"])\\\n",
        "    .setLabelColumn(\"category\")\\\n",
        "    .setHiddenLayers([300,200, 50])\\\n",
        "    .setHiddenAct(\"tanh\")\\\n",
        "    .setHiddenActL2(True)\\\n",
        "    .setBatchNorm(True)\\\n",
        "    .setGraphFolder(graph_folder)\\\n",
        "    .setGraphFile(\"gcf_graph_200d.pb\")"
      ]
    },
    {
      "cell_type": "code",
      "execution_count": 135,
      "metadata": {
        "id": "NhVTwRJP9oaH"
      },
      "outputs": [],
      "source": [
        "features_asm = FeaturesAssembler()\\\n",
        "    .setInputCols([\"sentence_embeddings\"])\\\n",
        "    .setOutputCol(\"features\")\n",
        "      \n",
        "gen_clf = GenericClassifierApproach()\\\n",
        "    .setLabelColumn(\"category\")\\\n",
        "    .setInputCols(\"features\")\\\n",
        "    .setOutputCol(\"prediction\")\\\n",
        "    .setModelFile(f\"{graph_folder}/gcf_graph_200d.pb\")\\\n",
        "    .setEpochsNumber(30)\\\n",
        "    .setBatchSize(32)\\\n",
        "    .setLearningRate(0.001)\\\n",
        "    .setOutputLogsPath(log_folder)\\\n",
        "    .setDropout(0.3)\\\n",
        "    .setFixImbalance(True)\\\n",
        "    # .setValidationSplit(0.1)\n",
        "\n",
        "clf_Pipeline = Pipeline(stages=[\n",
        "    features_asm,\n",
        "    gc_graph_builder,\n",
        "    gen_clf])\n"
      ]
    },
    {
      "cell_type": "code",
      "execution_count": 136,
      "metadata": {
        "colab": {
          "base_uri": "https://localhost:8080/"
        },
        "id": "98tT6yJQ9oaH",
        "outputId": "417bffd3-cd65-4990-97fb-294726de7ee1"
      },
      "outputs": [
        {
          "name": "stdout",
          "output_type": "stream",
          "text": [
            "TF Graph Builder configuration:\n",
            "Model name: generic_classifier\n",
            "Graph folder: gc_graph\n",
            "Graph file name: gcf_graph_200d.pb\n",
            "Build params: {'input_dim': 200, 'output_dim': 4, 'hidden_layers': [300, 200, 50], 'hidden_act': 'tanh', 'hidden_act_l2': True, 'batch_norm': True}\n",
            "generic_classifier graph exported to gc_graph/gcf_graph_200d.pb\n"
          ]
        }
      ],
      "source": [
        "generic_model_hc200 = clf_Pipeline.fit(trainingData_with_embeddings)"
      ]
    },
    {
      "cell_type": "code",
      "execution_count": 137,
      "metadata": {
        "colab": {
          "base_uri": "https://localhost:8080/"
        },
        "id": "hsId-8YF9oaI",
        "outputId": "be3e7689-d1f9-4551-f79c-7f38a7b52a18"
      },
      "outputs": [
        {
          "name": "stdout",
          "output_type": "stream",
          "text": [
            "                  precision    recall  f1-score   support\n",
            "\n",
            "Gastroenterology       0.85      0.88      0.86        25\n",
            "       Neurology       0.79      0.86      0.83        22\n",
            "      Orthopedic       0.91      0.86      0.88        35\n",
            "         Urology       0.89      0.85      0.87        20\n",
            "\n",
            "        accuracy                           0.86       102\n",
            "       macro avg       0.86      0.86      0.86       102\n",
            "    weighted avg       0.87      0.86      0.86       102\n",
            "\n"
          ]
        }
      ],
      "source": [
        "pred_df = generic_model_hc200.transform(testData_with_embeddings)\n",
        "\n",
        "preds_df = pred_df.select('category','prediction.result').toPandas()\n",
        "preds_df['result'] = preds_df.result.apply(lambda x : x[0])\n",
        "\n",
        "print (classification_report(preds_df['category'], preds_df['result']))"
      ]
    },
    {
      "cell_type": "markdown",
      "metadata": {
        "id": "2LqFI4dmW4Ep"
      },
      "source": [
        "## Bert Sentence Embeddings (sbiobert_base_cased_mli)"
      ]
    },
    {
      "cell_type": "markdown",
      "metadata": {
        "id": "RcQPzSbOVOpn"
      },
      "source": [
        "We will extract [sbiobert_base_cased_mli](https://nlp.johnsnowlabs.com/2020/11/27/sbiobert_base_cased_mli_en.html) embeddings which has 768 dimension output and use this embeddings in the model training."
      ]
    },
    {
      "cell_type": "code",
      "execution_count": 138,
      "metadata": {
        "colab": {
          "base_uri": "https://localhost:8080/"
        },
        "id": "e7pupvygW4Eq",
        "outputId": "c077bbdc-1758-428e-8662-fe647f686498"
      },
      "outputs": [
        {
          "name": "stdout",
          "output_type": "stream",
          "text": [
            "sbiobert_base_cased_mli download started this may take some time.\n",
            "Approximate size to download 384.3 MB\n",
            "[OK!]\n"
          ]
        }
      ],
      "source": [
        "document_assembler = DocumentAssembler()\\\n",
        "    .setInputCol(\"text\")\\\n",
        "    .setOutputCol(\"document\")\n",
        "        \n",
        "bert_sent = BertSentenceEmbeddings.pretrained(\"sbiobert_base_cased_mli\", 'en','clinical/models')\\\n",
        "    .setInputCols([\"document\"])\\\n",
        "    .setOutputCol(\"sentence_embeddings\")\n",
        "\n",
        "embeddings_pipeline = Pipeline(\n",
        "    stages = [document_assembler,\n",
        "              bert_sent])"
      ]
    },
    {
      "cell_type": "code",
      "execution_count": 139,
      "metadata": {
        "colab": {
          "base_uri": "https://localhost:8080/"
        },
        "id": "A-_AaTGCW4Eq",
        "outputId": "5deb1845-9742-4b82-9d41-903b14345974"
      },
      "outputs": [
        {
          "name": "stdout",
          "output_type": "stream",
          "text": [
            "+--------------------------------------------------------------------------------+----------------+--------------------------------------------------------------------------------+\n",
            "|                                                                            text|        category|                                                             sentence_embeddings|\n",
            "+--------------------------------------------------------------------------------+----------------+--------------------------------------------------------------------------------+\n",
            "| ADMISSION DIAGNOSIS: Symptomatic cholelithiasis. DISCHARGE DIAGNOSIS: Sympto...|Gastroenterology|[{sentence_embeddings, 0, 2228,  ADMISSION DIAGNOSIS: Symptomatic cholelithia...|\n",
            "| ADMITTING DIAGNOSES: Hiatal hernia, gastroesophageal reflux disease reflux. ...|Gastroenterology|[{sentence_embeddings, 0, 3237,  ADMITTING DIAGNOSES: Hiatal hernia, gastroes...|\n",
            "+--------------------------------------------------------------------------------+----------------+--------------------------------------------------------------------------------+\n",
            "only showing top 2 rows\n",
            "\n"
          ]
        }
      ],
      "source": [
        "trainingData_with_embeddings = embeddings_pipeline.fit(trainingData).transform(trainingData)\\\n",
        "                                                  .select(\"text\",\"category\",\"sentence_embeddings\")\n",
        "\n",
        "trainingData_with_embeddings.show(2,truncate=80)"
      ]
    },
    {
      "cell_type": "code",
      "execution_count": 140,
      "metadata": {
        "colab": {
          "base_uri": "https://localhost:8080/"
        },
        "id": "sGAKs2o0W4Eq",
        "outputId": "04f2ec7b-3ade-4c53-f0a5-5f2f8293158b"
      },
      "outputs": [
        {
          "name": "stdout",
          "output_type": "stream",
          "text": [
            "+--------------------------------------------------------------------------------+----------------+--------------------------------------------------------------------------------+\n",
            "|                                                                            text|        category|                                                             sentence_embeddings|\n",
            "+--------------------------------------------------------------------------------+----------------+--------------------------------------------------------------------------------+\n",
            "| ADMITTING DIAGNOSIS: Gastrointestinal bleed. HISTORY OF PRESENT ILLNESS: Ms....|Gastroenterology|[{sentence_embeddings, 0, 3978,  ADMITTING DIAGNOSIS: Gastrointestinal bleed....|\n",
            "| CHIEF COMPLAINT: Dysphagia and hematemesis while vomiting. HISTORY OF PRESEN...|Gastroenterology|[{sentence_embeddings, 0, 6515,  CHIEF COMPLAINT: Dysphagia and hematemesis w...|\n",
            "+--------------------------------------------------------------------------------+----------------+--------------------------------------------------------------------------------+\n",
            "only showing top 2 rows\n",
            "\n"
          ]
        }
      ],
      "source": [
        "testData_with_embeddings = embeddings_pipeline.fit(testData).transform(testData)\\\n",
        "                                                  .select(\"text\",\"category\",\"sentence_embeddings\")\n",
        "\n",
        "testData_with_embeddings.show(2,truncate=80)"
      ]
    },
    {
      "cell_type": "code",
      "execution_count": 141,
      "metadata": {
        "id": "WiR3GJpbW4Eq"
      },
      "outputs": [],
      "source": [
        "log_folder=\"Mt_logs_bert\""
      ]
    },
    {
      "cell_type": "markdown",
      "metadata": {
        "id": "NqYpg6-dW4Eq"
      },
      "source": [
        "### ClassifierDLApproach "
      ]
    },
    {
      "cell_type": "code",
      "execution_count": 142,
      "metadata": {
        "id": "vkb4PlGsW4Eq"
      },
      "outputs": [],
      "source": [
        "classifier_dl = ClassifierDLApproach()\\\n",
        "        .setInputCols([\"sentence_embeddings\"])\\\n",
        "        .setOutputCol(\"class\")\\\n",
        "        .setLabelColumn(\"category\")\\\n",
        "        .setBatchSize(8)\\\n",
        "        .setMaxEpochs(30)\\\n",
        "        .setLr(0.002)\\\n",
        "        .setDropout(0.1)\\\n",
        "        .setEnableOutputLogs(True)\\\n",
        "        .setOutputLogsPath(log_folder)\n",
        "\n",
        "classifier_dl_pipeline = Pipeline(stages=[classifier_dl])"
      ]
    },
    {
      "cell_type": "code",
      "execution_count": 143,
      "metadata": {
        "id": "WG0-PJA2W4Eq"
      },
      "outputs": [],
      "source": [
        "clfDL_model_bert = classifier_dl_pipeline.fit(trainingData_with_embeddings)"
      ]
    },
    {
      "cell_type": "code",
      "execution_count": 144,
      "metadata": {
        "colab": {
          "base_uri": "https://localhost:8080/"
        },
        "id": "B_29_8JBW4Eq",
        "outputId": "ba2fbc68-c86b-47ab-8004-528e25a6a1dd"
      },
      "outputs": [
        {
          "name": "stdout",
          "output_type": "stream",
          "text": [
            "                  precision    recall  f1-score   support\n",
            "\n",
            "Gastroenterology       1.00      0.84      0.91        25\n",
            "       Neurology       0.73      0.86      0.79        22\n",
            "      Orthopedic       0.91      0.83      0.87        35\n",
            "         Urology       0.74      0.85      0.79        20\n",
            "\n",
            "        accuracy                           0.84       102\n",
            "       macro avg       0.84      0.85      0.84       102\n",
            "    weighted avg       0.86      0.84      0.85       102\n",
            "\n"
          ]
        }
      ],
      "source": [
        "preds = clfDL_model_bert.transform(testData_with_embeddings)\n",
        "\n",
        "preds_df = preds.select(\"category\",\"text\",\"class.result\").toPandas()\n",
        "preds_df[\"result\"] = preds_df[\"result\"].apply(lambda x : x[0])\n",
        "\n",
        "print (classification_report(preds_df[\"category\"], preds_df[\"result\"]))"
      ]
    },
    {
      "cell_type": "markdown",
      "metadata": {
        "id": "0Fw49226W4Er"
      },
      "source": [
        "### MultiClassifierDL "
      ]
    },
    {
      "cell_type": "code",
      "execution_count": 145,
      "metadata": {
        "id": "Co9lWcRxW4Er"
      },
      "outputs": [],
      "source": [
        "# MultiClassifierDL accepts list of strings as input label. So we convert label column to array type.\n",
        "trainingData_with_embeddings = trainingData_with_embeddings.withColumn(\"category_array\", F.array(F.col(\"category\")))\n",
        "testData_with_embeddings = testData_with_embeddings.withColumn(\"category_array\", F.array(F.col(\"category\")))"
      ]
    },
    {
      "cell_type": "code",
      "execution_count": 146,
      "metadata": {
        "id": "5itVNwSWW4Er"
      },
      "outputs": [],
      "source": [
        "multiClassifier = MultiClassifierDLApproach()\\\n",
        "  .setInputCols(\"sentence_embeddings\")\\\n",
        "  .setOutputCol(\"prediction\")\\\n",
        "  .setLabelColumn(\"category_array\")\\\n",
        "  .setBatchSize(8)\\\n",
        "  .setMaxEpochs(20)\\\n",
        "  .setLr(9e-3)\\\n",
        "  .setThreshold(0.5)\\\n",
        "  .setShufflePerEpoch(False)\\\n",
        "  .setEnableOutputLogs(True)\\\n",
        "  .setOutputLogsPath(log_folder)\\\n",
        "#   .setValidationSplit(0.1)\n",
        "\n",
        "multiClassifier_pipeline = Pipeline(\n",
        "    stages = [\n",
        "        multiClassifier\n",
        "    ])"
      ]
    },
    {
      "cell_type": "code",
      "execution_count": 147,
      "metadata": {
        "id": "Y2p8qfzeW4Er"
      },
      "outputs": [],
      "source": [
        "multiClassifier_model_hc200 = multiClassifier_pipeline.fit(trainingData_with_embeddings)"
      ]
    },
    {
      "cell_type": "code",
      "execution_count": 148,
      "metadata": {
        "id": "j812VMg5W4Er"
      },
      "outputs": [],
      "source": [
        "preds = multiClassifier_model_hc200.transform(testData_with_embeddings)"
      ]
    },
    {
      "cell_type": "code",
      "execution_count": 149,
      "metadata": {
        "colab": {
          "base_uri": "https://localhost:8080/"
        },
        "id": "Ero8R_rhW4Er",
        "outputId": "f5eef837-8969-4e01-f52f-6a701d322ffb"
      },
      "outputs": [
        {
          "data": {
            "text/plain": [
              "['Orthopedic']          33\n",
              "['Gastroenterology']    23\n",
              "['Neurology']           22\n",
              "['Urology']             19\n",
              "[]                       5\n",
              "Name: result, dtype: int64"
            ]
          },
          "execution_count": 149,
          "metadata": {},
          "output_type": "execute_result"
        }
      ],
      "source": [
        "preds_df = preds.select(\"category\",\"text\",\"prediction.result\",\"prediction.metadata\").toPandas()\n",
        "preds_df.result.apply(lambda x: str(x) ).value_counts()"
      ]
    },
    {
      "cell_type": "code",
      "execution_count": 150,
      "metadata": {
        "colab": {
          "base_uri": "https://localhost:8080/"
        },
        "id": "eIr0FA55W4Er",
        "outputId": "92239ce4-c554-4035-c1ae-52430277a95e"
      },
      "outputs": [
        {
          "data": {
            "text/plain": [
              "Orthopedic          33\n",
              "Gastroenterology    23\n",
              "Neurology           22\n",
              "Urology             19\n",
              "                     5\n",
              "Name: result, dtype: int64"
            ]
          },
          "execution_count": 150,
          "metadata": {},
          "output_type": "execute_result"
        }
      ],
      "source": [
        "# We will get the highest score label as result. You can control the number of zero label results with setThreshold() in the training.\n",
        "preds_df[\"scores\"] = preds_df.metadata.apply(lambda x: {k:float(v) for k,v in x[0].items()} if len(x)>=1 else \"\")\n",
        "preds_df[\"result\"] = preds_df.scores.apply(lambda x: max(x, key=x.get) if len(x)>=1 else \"\")\n",
        "preds_df[\"result\"].value_counts()"
      ]
    },
    {
      "cell_type": "code",
      "execution_count": 151,
      "metadata": {
        "colab": {
          "base_uri": "https://localhost:8080/"
        },
        "id": "m9BKG5kHW4Es",
        "outputId": "28129973-a64d-4a46-8bf0-66a26cff3f46"
      },
      "outputs": [
        {
          "name": "stdout",
          "output_type": "stream",
          "text": [
            "                  precision    recall  f1-score   support\n",
            "\n",
            "                       0.00      0.00      0.00         0\n",
            "Gastroenterology       1.00      0.92      0.96        25\n",
            "       Neurology       0.82      0.82      0.82        22\n",
            "      Orthopedic       0.91      0.86      0.88        35\n",
            "         Urology       0.89      0.85      0.87        20\n",
            "\n",
            "        accuracy                           0.86       102\n",
            "       macro avg       0.72      0.69      0.71       102\n",
            "    weighted avg       0.91      0.86      0.89       102\n",
            "\n"
          ]
        }
      ],
      "source": [
        "print (classification_report(preds_df[\"category\"], preds_df[\"result\"]))"
      ]
    },
    {
      "cell_type": "markdown",
      "metadata": {
        "id": "hhNpyXkeW4Es"
      },
      "source": [
        "### Generic Classifier "
      ]
    },
    {
      "cell_type": "code",
      "execution_count": 152,
      "metadata": {
        "id": "aO-WNe20W4Es"
      },
      "outputs": [],
      "source": [
        "# !pip install -q tensorflow==2.7.0 tensorflow_addons"
      ]
    },
    {
      "cell_type": "code",
      "execution_count": 153,
      "metadata": {
        "id": "a0pS3YdEW4Es"
      },
      "outputs": [],
      "source": [
        "from sparknlp_jsl.annotator import TFGraphBuilder\n",
        "\n",
        "graph_folder = \"gc_graph\"\n",
        "\n",
        "gc_graph_builder = TFGraphBuilder()\\\n",
        "    .setModelName(\"generic_classifier\")\\\n",
        "    .setInputCols([\"features\"])\\\n",
        "    .setLabelColumn(\"category\")\\\n",
        "    .setHiddenLayers([300,200, 50])\\\n",
        "    .setHiddenAct(\"tanh\")\\\n",
        "    .setHiddenActL2(True)\\\n",
        "    .setBatchNorm(True)\\\n",
        "    .setGraphFolder(graph_folder)\\\n",
        "    .setGraphFile(\"gcf_graph_bert.pb\")"
      ]
    },
    {
      "cell_type": "code",
      "execution_count": 154,
      "metadata": {
        "id": "aBuFW-1iW4Es"
      },
      "outputs": [],
      "source": [
        "features_asm = FeaturesAssembler()\\\n",
        "    .setInputCols([\"sentence_embeddings\"])\\\n",
        "    .setOutputCol(\"features\")\n",
        "      \n",
        "gen_clf = GenericClassifierApproach()\\\n",
        "    .setLabelColumn(\"category\")\\\n",
        "    .setInputCols(\"features\")\\\n",
        "    .setOutputCol(\"prediction\")\\\n",
        "    .setModelFile(f\"{graph_folder}/gcf_graph_bert.pb\")\\\n",
        "    .setEpochsNumber(25)\\\n",
        "    .setBatchSize(8)\\\n",
        "    .setLearningRate(0.002)\\\n",
        "    .setOutputLogsPath(log_folder)\\\n",
        "    .setDropout(0.2)\\\n",
        "    .setFixImbalance(True)\\\n",
        "    # .setValidationSplit(0.1)\n",
        "\n",
        "clf_Pipeline = Pipeline(stages=[\n",
        "    features_asm,\n",
        "    gc_graph_builder,\n",
        "    gen_clf])\n"
      ]
    },
    {
      "cell_type": "code",
      "execution_count": 155,
      "metadata": {
        "colab": {
          "base_uri": "https://localhost:8080/"
        },
        "id": "Xpi8bsOAW4Es",
        "outputId": "88076dcd-fd7f-4182-b678-0873566eb770"
      },
      "outputs": [
        {
          "name": "stdout",
          "output_type": "stream",
          "text": [
            "TF Graph Builder configuration:\n",
            "Model name: generic_classifier\n",
            "Graph folder: gc_graph\n",
            "Graph file name: gcf_graph_bert.pb\n",
            "Build params: {'input_dim': 768, 'output_dim': 4, 'hidden_layers': [300, 200, 50], 'hidden_act': 'tanh', 'hidden_act_l2': True, 'batch_norm': True}\n",
            "generic_classifier graph exported to gc_graph/gcf_graph_bert.pb\n"
          ]
        }
      ],
      "source": [
        "generic_model_bert = clf_Pipeline.fit(trainingData_with_embeddings)"
      ]
    },
    {
      "cell_type": "code",
      "execution_count": 156,
      "metadata": {
        "colab": {
          "base_uri": "https://localhost:8080/"
        },
        "id": "5aw-VIEhW4Es",
        "outputId": "224bef71-52d7-4e10-bce8-a7f5074a7a1e"
      },
      "outputs": [
        {
          "name": "stdout",
          "output_type": "stream",
          "text": [
            "                  precision    recall  f1-score   support\n",
            "\n",
            "Gastroenterology       0.92      0.88      0.90        25\n",
            "       Neurology       0.79      0.86      0.83        22\n",
            "      Orthopedic       0.93      0.74      0.83        35\n",
            "         Urology       0.73      0.95      0.83        20\n",
            "\n",
            "        accuracy                           0.84       102\n",
            "       macro avg       0.84      0.86      0.84       102\n",
            "    weighted avg       0.86      0.84      0.84       102\n",
            "\n"
          ]
        }
      ],
      "source": [
        "pred_df = generic_model_bert.transform(testData_with_embeddings)\n",
        "\n",
        "preds_df = pred_df.select('category','prediction.result').toPandas()\n",
        "preds_df['result'] = preds_df.result.apply(lambda x : x[0])\n",
        "\n",
        "print (classification_report(preds_df['category'], preds_df['result']))"
      ]
    },
    {
      "cell_type": "markdown",
      "metadata": {
        "id": "hJCE-sWM9oaK"
      },
      "source": [
        "## DocumentLogRegClassifier"
      ]
    },
    {
      "cell_type": "code",
      "execution_count": 157,
      "metadata": {
        "id": "FUHSa7b79oaK"
      },
      "outputs": [],
      "source": [
        "document_assembler = DocumentAssembler()\\\n",
        "    .setInputCol(\"text\")\\\n",
        "    .setOutputCol(\"document\")\n",
        "\n",
        "tokenizer = Tokenizer() \\\n",
        "    .setInputCols([\"document\"]) \\\n",
        "    .setOutputCol(\"token\")\n",
        "\n",
        "logreg = DocumentLogRegClassifierApproach()\\\n",
        "    .setInputCols(\"token\")\\\n",
        "    .setLabelCol(\"category\")\\\n",
        "    .setOutputCol(\"prediction\")\\\n",
        "    .setMaxIter(10)\\\n",
        "    .setTol(1e-6)\n",
        "\n",
        "clf_Pipeline = Pipeline(stages=[document_assembler,\n",
        "                                tokenizer,\n",
        "                                logreg])\n",
        "\n",
        "doclogreg_model = clf_Pipeline.fit(trainingData)"
      ]
    },
    {
      "cell_type": "code",
      "execution_count": 158,
      "metadata": {
        "colab": {
          "base_uri": "https://localhost:8080/"
        },
        "id": "PbOx1a7X9oaK",
        "outputId": "06835400-0708-4d23-81ad-2712ea95430f"
      },
      "outputs": [
        {
          "name": "stdout",
          "output_type": "stream",
          "text": [
            "                  precision    recall  f1-score   support\n",
            "\n",
            "Gastroenterology       0.92      0.88      0.90        25\n",
            "       Neurology       0.80      0.73      0.76        22\n",
            "      Orthopedic       0.91      0.89      0.90        35\n",
            "         Urology       0.79      0.95      0.86        20\n",
            "\n",
            "        accuracy                           0.86       102\n",
            "       macro avg       0.86      0.86      0.86       102\n",
            "    weighted avg       0.87      0.86      0.86       102\n",
            "\n"
          ]
        }
      ],
      "source": [
        "pred_df = doclogreg_model.transform(testData)\n",
        "\n",
        "preds_df = pred_df.select('category','prediction.result').toPandas()\n",
        "preds_df['result'] = preds_df.result.apply(lambda x : x[0])\n",
        "\n",
        "print (classification_report(preds_df['category'], preds_df['result']))"
      ]
    }
  ],
  "metadata": {
    "accelerator": "GPU",
    "colab": {
      "machine_shape": "hm",
      "provenance": [],
      "toc_visible": true
    },
    "gpuClass": "standard",
    "kernelspec": {
      "display_name": "Python 3",
      "language": "python",
      "name": "python3"
    },
    "language_info": {
      "name": "python",
      "version": "3.10.4 (tags/v3.10.4:9d38120, Mar 23 2022, 23:13:41) [MSC v.1929 64 bit (AMD64)]"
    },
    "vscode": {
      "interpreter": {
        "hash": "8f527f757492231011ff0f96452bff72dba1ece595fe9390d852b709bf8922e1"
      }
    }
  },
  "nbformat": 4,
  "nbformat_minor": 0
}

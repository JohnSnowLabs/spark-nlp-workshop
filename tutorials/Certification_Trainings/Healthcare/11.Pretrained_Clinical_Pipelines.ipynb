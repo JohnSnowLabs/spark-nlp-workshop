{
  "nbformat": 4,
  "nbformat_minor": 0,
  "metadata": {
    "colab": {
      "name": "11.Pretrained_Clinical_Pipelines.ipynb",
      "provenance": [],
      "collapsed_sections": [],
      "toc_visible": true
    },
    "kernelspec": {
      "name": "python3",
      "display_name": "Python 3"
    }
  },
  "cells": [
    {
      "cell_type": "markdown",
      "metadata": {
        "id": "SymssfV7IcQ7",
        "colab_type": "text"
      },
      "source": [
        "![JohnSnowLabs](https://nlp.johnsnowlabs.com/assets/images/logo.png)"
      ]
    },
    {
      "cell_type": "markdown",
      "metadata": {
        "id": "MCjxEZg_IfJo",
        "colab_type": "text"
      },
      "source": [
        "[![Open In Colab](https://colab.research.google.com/assets/colab-badge.svg)](https://colab.research.google.com/github/JohnSnowLabs/spark-nlp-workshop/blob/master/tutorials/Certification_Trainings/Healthcare/11.Pretrained_Clinical_Pipelines.ipynb)"
      ]
    },
    {
      "cell_type": "markdown",
      "metadata": {
        "id": "v4uN8ZP_Itdo",
        "colab_type": "text"
      },
      "source": [
        "# Pretrained_Clinical_Pipelines"
      ]
    },
    {
      "cell_type": "markdown",
      "metadata": {
        "id": "YcrO6BlfIwEV",
        "colab_type": "text"
      },
      "source": [
        "## Colab Setup"
      ]
    },
    {
      "cell_type": "code",
      "metadata": {
        "id": "sDxBKvHjIc5B",
        "colab_type": "code",
        "colab": {
          "base_uri": "https://localhost:8080/",
          "height": 33
        },
        "outputId": "6fc4b755-1b7f-4520-8fc3-cd2646129569"
      },
      "source": [
        "import json\n",
        "\n",
        "with open('workshop_license_keys_365.json') as f:\n",
        "    license_keys = json.load(f)\n",
        "\n",
        "license_keys.keys()"
      ],
      "execution_count": 1,
      "outputs": [
        {
          "output_type": "execute_result",
          "data": {
            "text/plain": [
              "dict_keys(['PUBLIC_VERSION', 'JSL_VERSION', 'SECRET', 'SPARK_NLP_LICENSE', 'AWS_ACCESS_KEY_ID', 'AWS_SECRET_ACCESS_KEY', 'SPARK_OCR_LICENSE', 'SPARK_OCR_SECRET'])"
            ]
          },
          "metadata": {
            "tags": []
          },
          "execution_count": 1
        }
      ]
    },
    {
      "cell_type": "code",
      "metadata": {
        "id": "G1rKD65hI777",
        "colab_type": "code",
        "colab": {
          "base_uri": "https://localhost:8080/",
          "height": 36
        },
        "outputId": "3e4bfb40-5c09-4f93-dcf9-f24f162fca7c"
      },
      "source": [
        "license_keys['JSL_VERSION']"
      ],
      "execution_count": 2,
      "outputs": [
        {
          "output_type": "execute_result",
          "data": {
            "application/vnd.google.colaboratory.intrinsic+json": {
              "type": "string"
            },
            "text/plain": [
              "'2.5.5'"
            ]
          },
          "metadata": {
            "tags": []
          },
          "execution_count": 2
        }
      ]
    },
    {
      "cell_type": "code",
      "metadata": {
        "id": "YKOMixw9I-QY",
        "colab_type": "code",
        "colab": {}
      },
      "source": [
        "import os\n",
        "\n",
        "# Install java\n",
        "! apt-get update -qq\n",
        "! apt-get install -y openjdk-8-jdk-headless -qq > /dev/null\n",
        "\n",
        "os.environ[\"JAVA_HOME\"] = \"/usr/lib/jvm/java-8-openjdk-amd64\"\n",
        "os.environ[\"PATH\"] = os.environ[\"JAVA_HOME\"] + \"/bin:\" + os.environ[\"PATH\"]\n",
        "! java -version\n",
        "\n",
        "secret = license_keys['SECRET']\n",
        "\n",
        "os.environ['SPARK_NLP_LICENSE'] = license_keys['SPARK_NLP_LICENSE']\n",
        "os.environ['AWS_ACCESS_KEY_ID']= license_keys['AWS_ACCESS_KEY_ID']\n",
        "os.environ['AWS_SECRET_ACCESS_KEY'] = license_keys['AWS_SECRET_ACCESS_KEY']\n",
        "version = license_keys['PUBLIC_VERSION']\n",
        "jsl_version = license_keys['JSL_VERSION']\n",
        "\n",
        "! pip install --ignore-installed -q pyspark==2.4.4\n",
        "\n",
        "! python -m pip install --upgrade spark-nlp-jsl==$jsl_version  --extra-index-url https://pypi.johnsnowlabs.com/$secret\n",
        "\n",
        "! pip install --ignore-installed -q spark-nlp==$version\n",
        "\n",
        "import sparknlp\n",
        "\n",
        "print (sparknlp.version())\n",
        "\n",
        "import json\n",
        "import os\n",
        "from pyspark.ml import Pipeline\n",
        "from pyspark.sql import SparkSession\n",
        "\n",
        "from sparknlp.annotator import *\n",
        "from sparknlp_jsl.annotator import *\n",
        "from sparknlp.base import *\n",
        "import sparknlp_jsl\n",
        "from sparknlp.pretrained import PretrainedPipeline\n",
        "\n",
        "spark = sparknlp_jsl.start(secret)"
      ],
      "execution_count": null,
      "outputs": []
    },
    {
      "cell_type": "markdown",
      "metadata": {
        "id": "9CzSCbXSKLSC",
        "colab_type": "text"
      },
      "source": [
        "\n",
        "<b>  if you want to work with Spark 2.3 </b>\n",
        "```\n",
        "import os\n",
        "\n",
        "# Install java\n",
        "! apt-get update -qq\n",
        "! apt-get install -y openjdk-8-jdk-headless -qq > /dev/null\n",
        "\n",
        "!wget -q https://archive.apache.org/dist/spark/spark-2.3.0/spark-2.3.0-bin-hadoop2.7.tgz\n",
        "\n",
        "!tar xf spark-2.3.0-bin-hadoop2.7.tgz\n",
        "!pip install -q findspark\n",
        "\n",
        "os.environ[\"JAVA_HOME\"] = \"/usr/lib/jvm/java-8-openjdk-amd64\"\n",
        "os.environ[\"PATH\"] = os.environ[\"JAVA_HOME\"] + \"/bin:\" + os.environ[\"PATH\"]\n",
        "os.environ[\"SPARK_HOME\"] = \"/content/spark-2.3.0-bin-hadoop2.7\"\n",
        "! java -version\n",
        "\n",
        "import findspark\n",
        "findspark.init()\n",
        "from pyspark.sql import SparkSession\n",
        "\n",
        "! pip install --ignore-installed -q spark-nlp==2.5.5\n",
        "import sparknlp\n",
        "\n",
        "spark = sparknlp.start(spark23=True)\n",
        "```"
      ]
    },
    {
      "cell_type": "markdown",
      "metadata": {
        "id": "hmhC6kMHKYyh",
        "colab_type": "text"
      },
      "source": [
        "## Pretrained Pipelines"
      ]
    },
    {
      "cell_type": "markdown",
      "metadata": {
        "id": "dLFDvuupKeGH",
        "colab_type": "text"
      },
      "source": [
        "In order to save you from creating a pipeline from scratch, Spark NLP also has a pre-trained pipelines that are already fitted using certain annotators and transformers according to various use cases.\n",
        "\n",
        "Here is the list of clinical pre-trained pipelines: \n",
        "\n",
        "> These clinical pipelines are trained with `embeddings_healthcare_100d` and accuracies might be 1-2% lower than `embeddings_clinical` which is 200d.\n",
        "\n",
        "**1.   explain_clinical_doc_carp** :\n",
        "\n",
        "> a pipeline with `ner_clinical`, `assertion_dl`, `re_clinical` and `ner_posology`. It will extract clinical and medication entities, assign assertion status and find relationships between clinical entities.\n",
        "\n",
        "\n",
        "**2.   explain_clinical_doc_cra** :\n",
        "\n",
        "> a pipeline with `ner_clinical`, `assertion_dl` and `re_clinical`. It will extract clinical entities, assign assertion status and find relationships between clinical entities.\n",
        "\n",
        "**3.   explain_clinical_doc_era** :\n",
        "\n",
        "> a pipeline with `ner_clinical_events`, `assertion_dl` and `re_temporal_events_clinical`. It will extract clinical entities, assign assertion status and find temporal relationships between clinical entities.\n",
        "\n",
        "**4.   recognize_entities_posology** :\n",
        "\n",
        "> a pipeline with `ner_posology`. It will only extract medication entities.\n",
        "\n",
        "\n",
        "**letter codes in the naimng conventions:**\n",
        "\n",
        "> c : ner_clinical\n",
        "\n",
        "> e : ner_clinical_events\n",
        "\n",
        "> r : relation extraction\n",
        "\n",
        "> p : ner_posology\n",
        "\n",
        "> a : assertion\n",
        "\n",
        "**Relation Extraction types:**\n",
        "\n",
        "`re_clinical` >> TrIP (improved), TrWP (worsened), TrCP (caused problem), TrAP (administered), TrNAP (avoided), TeRP (revealed problem), TeCP (investigate problem), PIP (problems related)\n",
        "\n",
        "`re_temporal_events_clinical` >> `AFTER`, `BEFORE`, `OVERLAP`\n"
      ]
    },
    {
      "cell_type": "markdown",
      "metadata": {
        "id": "pK2Tt0ZuRy2B",
        "colab_type": "text"
      },
      "source": [
        "## 1.  explain_clinical_doc_carp \n",
        "\n",
        "a pipeline with ner_clinical, assertion_dl, re_clinical and ner_posology. It will extract clinical and medication entities, assign assertion status and find relationships between clinical entities."
      ]
    },
    {
      "cell_type": "code",
      "metadata": {
        "id": "4rg3oe37R1wX",
        "colab_type": "code",
        "colab": {
          "base_uri": "https://localhost:8080/",
          "height": 66
        },
        "outputId": "7b792dff-bbda-43c5-be49-441765d193e6"
      },
      "source": [
        "pipeline = PretrainedPipeline('explain_clinical_doc_carp', 'en', 'clinical/models')"
      ],
      "execution_count": 6,
      "outputs": [
        {
          "output_type": "stream",
          "text": [
            "explain_clinical_doc_carp download started this may take some time.\n",
            "Approx size to download 528 MB\n",
            "[OK!]\n"
          ],
          "name": "stdout"
        }
      ]
    },
    {
      "cell_type": "code",
      "metadata": {
        "id": "d9eRK3IKUurq",
        "colab_type": "code",
        "colab": {}
      },
      "source": [
        "# Load pretrained pipeline from local disk:\n",
        "\n",
        "# >> pipeline_local = PretrainedPipeline.from_disk('/root/cache_pretrained/explain_clinical_doc_carp_en_2.5.5_2.4_1597841630062')"
      ],
      "execution_count": 7,
      "outputs": []
    },
    {
      "cell_type": "code",
      "metadata": {
        "id": "3xmhwW2MVKYa",
        "colab_type": "code",
        "colab": {
          "base_uri": "https://localhost:8080/",
          "height": 33
        },
        "outputId": "a70d287f-2931-44c8-cd9f-b2f80dc9c3b7"
      },
      "source": [
        "text =\"\"\"A 28-year-old female with a history of gestational diabetes mellitus, used to take metformin 1000 mg two times a day, presented with a one-week history of polyuria , polydipsia , poor appetite , and vomiting .\n",
        "She was seen by the endocrinology service and discharged on 40 units of insulin glargine at night, 12 units of insulin lispro with meals.\n",
        "\"\"\"\n",
        "\n",
        "annotations = pipeline.annotate(text)\n",
        "\n",
        "annotations.keys()\n"
      ],
      "execution_count": 21,
      "outputs": [
        {
          "output_type": "execute_result",
          "data": {
            "text/plain": [
              "dict_keys(['sentences', 'clinical_ner_tags', 'document', 'ner_chunks', 'clinical_ner_chunks', 'ner_tags', 'assertion', 'clinical_relations', 'tokens', 'embeddings', 'pos_tags', 'dependencies'])"
            ]
          },
          "metadata": {
            "tags": []
          },
          "execution_count": 21
        }
      ]
    },
    {
      "cell_type": "code",
      "metadata": {
        "id": "X4z-RbyZVvgR",
        "colab_type": "code",
        "colab": {
          "base_uri": "https://localhost:8080/",
          "height": 616
        },
        "outputId": "856d0b43-a5c6-4436-dbe0-ad9d1aae16e1"
      },
      "source": [
        "import pandas as pd\n",
        "\n",
        "rows = list(zip(annotations['tokens'], annotations['clinical_ner_tags'], annotations['ner_tags'], annotations['pos_tags'], annotations['dependencies']))\n",
        "\n",
        "df = pd.DataFrame(rows, columns = ['tokens','clinical_ner_tags','posology_ner_tags','POS_tags','dependencies'])\n",
        "\n",
        "df.head(20)"
      ],
      "execution_count": 22,
      "outputs": [
        {
          "output_type": "execute_result",
          "data": {
            "text/html": [
              "<div>\n",
              "<style scoped>\n",
              "    .dataframe tbody tr th:only-of-type {\n",
              "        vertical-align: middle;\n",
              "    }\n",
              "\n",
              "    .dataframe tbody tr th {\n",
              "        vertical-align: top;\n",
              "    }\n",
              "\n",
              "    .dataframe thead th {\n",
              "        text-align: right;\n",
              "    }\n",
              "</style>\n",
              "<table border=\"1\" class=\"dataframe\">\n",
              "  <thead>\n",
              "    <tr style=\"text-align: right;\">\n",
              "      <th></th>\n",
              "      <th>tokens</th>\n",
              "      <th>clinical_ner_tags</th>\n",
              "      <th>posology_ner_tags</th>\n",
              "      <th>POS_tags</th>\n",
              "      <th>dependencies</th>\n",
              "    </tr>\n",
              "  </thead>\n",
              "  <tbody>\n",
              "    <tr>\n",
              "      <th>0</th>\n",
              "      <td>A</td>\n",
              "      <td>O</td>\n",
              "      <td>O</td>\n",
              "      <td>DD</td>\n",
              "      <td>female</td>\n",
              "    </tr>\n",
              "    <tr>\n",
              "      <th>1</th>\n",
              "      <td>28-year-old</td>\n",
              "      <td>O</td>\n",
              "      <td>O</td>\n",
              "      <td>NN</td>\n",
              "      <td>female</td>\n",
              "    </tr>\n",
              "    <tr>\n",
              "      <th>2</th>\n",
              "      <td>female</td>\n",
              "      <td>O</td>\n",
              "      <td>O</td>\n",
              "      <td>NN</td>\n",
              "      <td>ROOT</td>\n",
              "    </tr>\n",
              "    <tr>\n",
              "      <th>3</th>\n",
              "      <td>with</td>\n",
              "      <td>O</td>\n",
              "      <td>O</td>\n",
              "      <td>II</td>\n",
              "      <td>history</td>\n",
              "    </tr>\n",
              "    <tr>\n",
              "      <th>4</th>\n",
              "      <td>a</td>\n",
              "      <td>O</td>\n",
              "      <td>O</td>\n",
              "      <td>DD</td>\n",
              "      <td>history</td>\n",
              "    </tr>\n",
              "    <tr>\n",
              "      <th>5</th>\n",
              "      <td>history</td>\n",
              "      <td>O</td>\n",
              "      <td>O</td>\n",
              "      <td>NN</td>\n",
              "      <td>female</td>\n",
              "    </tr>\n",
              "    <tr>\n",
              "      <th>6</th>\n",
              "      <td>of</td>\n",
              "      <td>O</td>\n",
              "      <td>O</td>\n",
              "      <td>II</td>\n",
              "      <td>history</td>\n",
              "    </tr>\n",
              "    <tr>\n",
              "      <th>7</th>\n",
              "      <td>gestational</td>\n",
              "      <td>B-PROBLEM</td>\n",
              "      <td>O</td>\n",
              "      <td>JJ</td>\n",
              "      <td>of</td>\n",
              "    </tr>\n",
              "    <tr>\n",
              "      <th>8</th>\n",
              "      <td>diabetes</td>\n",
              "      <td>I-PROBLEM</td>\n",
              "      <td>O</td>\n",
              "      <td>NN</td>\n",
              "      <td>mellitus</td>\n",
              "    </tr>\n",
              "    <tr>\n",
              "      <th>9</th>\n",
              "      <td>mellitus</td>\n",
              "      <td>I-PROBLEM</td>\n",
              "      <td>O</td>\n",
              "      <td>NN</td>\n",
              "      <td>gestational</td>\n",
              "    </tr>\n",
              "    <tr>\n",
              "      <th>10</th>\n",
              "      <td>,</td>\n",
              "      <td>O</td>\n",
              "      <td>O</td>\n",
              "      <td>NN</td>\n",
              "      <td>used</td>\n",
              "    </tr>\n",
              "    <tr>\n",
              "      <th>11</th>\n",
              "      <td>used</td>\n",
              "      <td>O</td>\n",
              "      <td>O</td>\n",
              "      <td>VVN</td>\n",
              "      <td>mellitus</td>\n",
              "    </tr>\n",
              "    <tr>\n",
              "      <th>12</th>\n",
              "      <td>to</td>\n",
              "      <td>O</td>\n",
              "      <td>O</td>\n",
              "      <td>TO</td>\n",
              "      <td>take</td>\n",
              "    </tr>\n",
              "    <tr>\n",
              "      <th>13</th>\n",
              "      <td>take</td>\n",
              "      <td>O</td>\n",
              "      <td>O</td>\n",
              "      <td>VVI</td>\n",
              "      <td>used</td>\n",
              "    </tr>\n",
              "    <tr>\n",
              "      <th>14</th>\n",
              "      <td>metformin</td>\n",
              "      <td>B-TREATMENT</td>\n",
              "      <td>B-Drug</td>\n",
              "      <td>NN</td>\n",
              "      <td>take</td>\n",
              "    </tr>\n",
              "    <tr>\n",
              "      <th>15</th>\n",
              "      <td>1000</td>\n",
              "      <td>O</td>\n",
              "      <td>B-Strength</td>\n",
              "      <td>MC</td>\n",
              "      <td>metformin</td>\n",
              "    </tr>\n",
              "    <tr>\n",
              "      <th>16</th>\n",
              "      <td>mg</td>\n",
              "      <td>O</td>\n",
              "      <td>I-Strength</td>\n",
              "      <td>NN</td>\n",
              "      <td>1000</td>\n",
              "    </tr>\n",
              "    <tr>\n",
              "      <th>17</th>\n",
              "      <td>two</td>\n",
              "      <td>O</td>\n",
              "      <td>B-Frequency</td>\n",
              "      <td>MC</td>\n",
              "      <td>times</td>\n",
              "    </tr>\n",
              "    <tr>\n",
              "      <th>18</th>\n",
              "      <td>times</td>\n",
              "      <td>O</td>\n",
              "      <td>I-Frequency</td>\n",
              "      <td>NNS</td>\n",
              "      <td>mg</td>\n",
              "    </tr>\n",
              "    <tr>\n",
              "      <th>19</th>\n",
              "      <td>a</td>\n",
              "      <td>O</td>\n",
              "      <td>I-Frequency</td>\n",
              "      <td>DD</td>\n",
              "      <td>day</td>\n",
              "    </tr>\n",
              "  </tbody>\n",
              "</table>\n",
              "</div>"
            ],
            "text/plain": [
              "         tokens clinical_ner_tags posology_ner_tags POS_tags dependencies\n",
              "0             A                 O                 O       DD       female\n",
              "1   28-year-old                 O                 O       NN       female\n",
              "2        female                 O                 O       NN         ROOT\n",
              "3          with                 O                 O       II      history\n",
              "4             a                 O                 O       DD      history\n",
              "5       history                 O                 O       NN       female\n",
              "6            of                 O                 O       II      history\n",
              "7   gestational         B-PROBLEM                 O       JJ           of\n",
              "8      diabetes         I-PROBLEM                 O       NN     mellitus\n",
              "9      mellitus         I-PROBLEM                 O       NN  gestational\n",
              "10            ,                 O                 O       NN         used\n",
              "11         used                 O                 O      VVN     mellitus\n",
              "12           to                 O                 O       TO         take\n",
              "13         take                 O                 O      VVI         used\n",
              "14    metformin       B-TREATMENT            B-Drug       NN         take\n",
              "15         1000                 O        B-Strength       MC    metformin\n",
              "16           mg                 O        I-Strength       NN         1000\n",
              "17          two                 O       B-Frequency       MC        times\n",
              "18        times                 O       I-Frequency      NNS           mg\n",
              "19            a                 O       I-Frequency       DD          day"
            ]
          },
          "metadata": {
            "tags": []
          },
          "execution_count": 22
        }
      ]
    },
    {
      "cell_type": "code",
      "metadata": {
        "id": "5Hlwc2M2Xl_y",
        "colab_type": "code",
        "colab": {
          "base_uri": "https://localhost:8080/",
          "height": 160
        },
        "outputId": "154c5517-983f-4f64-cf6e-d2b00b3cc4a9"
      },
      "source": [
        "text = 'Patient has a headache for the last 2 weeks and appears anxious when she walks fast. No alopecia noted. She denies pain'\n",
        "\n",
        "result = pipeline.fullAnnotate(text)[0]\n",
        "\n",
        "chunks=[]\n",
        "entities=[]\n",
        "status=[]\n",
        "\n",
        "for n,m in zip(result['clinical_ner_chunks'],result['assertion']):\n",
        "    \n",
        "    chunks.append(n.result)\n",
        "    entities.append(n.metadata['entity']) \n",
        "    status.append(m.result)\n",
        "        \n",
        "df = pd.DataFrame({'chunks':chunks, 'entities':entities, 'assertion':status})\n",
        "\n",
        "df"
      ],
      "execution_count": 24,
      "outputs": [
        {
          "output_type": "execute_result",
          "data": {
            "text/html": [
              "<div>\n",
              "<style scoped>\n",
              "    .dataframe tbody tr th:only-of-type {\n",
              "        vertical-align: middle;\n",
              "    }\n",
              "\n",
              "    .dataframe tbody tr th {\n",
              "        vertical-align: top;\n",
              "    }\n",
              "\n",
              "    .dataframe thead th {\n",
              "        text-align: right;\n",
              "    }\n",
              "</style>\n",
              "<table border=\"1\" class=\"dataframe\">\n",
              "  <thead>\n",
              "    <tr style=\"text-align: right;\">\n",
              "      <th></th>\n",
              "      <th>chunks</th>\n",
              "      <th>entities</th>\n",
              "      <th>assertion</th>\n",
              "    </tr>\n",
              "  </thead>\n",
              "  <tbody>\n",
              "    <tr>\n",
              "      <th>0</th>\n",
              "      <td>a headache</td>\n",
              "      <td>PROBLEM</td>\n",
              "      <td>present</td>\n",
              "    </tr>\n",
              "    <tr>\n",
              "      <th>1</th>\n",
              "      <td>anxious</td>\n",
              "      <td>PROBLEM</td>\n",
              "      <td>present</td>\n",
              "    </tr>\n",
              "    <tr>\n",
              "      <th>2</th>\n",
              "      <td>alopecia</td>\n",
              "      <td>PROBLEM</td>\n",
              "      <td>absent</td>\n",
              "    </tr>\n",
              "    <tr>\n",
              "      <th>3</th>\n",
              "      <td>pain</td>\n",
              "      <td>PROBLEM</td>\n",
              "      <td>absent</td>\n",
              "    </tr>\n",
              "  </tbody>\n",
              "</table>\n",
              "</div>"
            ],
            "text/plain": [
              "       chunks entities assertion\n",
              "0  a headache  PROBLEM   present\n",
              "1     anxious  PROBLEM   present\n",
              "2    alopecia  PROBLEM    absent\n",
              "3        pain  PROBLEM    absent"
            ]
          },
          "metadata": {
            "tags": []
          },
          "execution_count": 24
        }
      ]
    },
    {
      "cell_type": "code",
      "metadata": {
        "id": "wF9PCC18Y7eE",
        "colab_type": "code",
        "colab": {
          "base_uri": "https://localhost:8080/",
          "height": 474
        },
        "outputId": "f7d2969a-edf9-44d1-fde8-e89df1958d31"
      },
      "source": [
        "text = \"\"\"\n",
        "The patient was prescribed 1 unit of Advil for 5 days after meals. The patient was also \n",
        "given 1 unit of Metformin daily.\n",
        "He was seen by the endocrinology service and she was discharged on 40 units of insulin glargine at night , \n",
        "12 units of insulin lispro with meals , and metformin 1000 mg two times a day.\n",
        "\"\"\"\n",
        "\n",
        "result = pipeline.fullAnnotate(text)[0]\n",
        "\n",
        "chunks=[]\n",
        "entities=[]\n",
        "begins=[]\n",
        "ends=[]\n",
        "\n",
        "for n in result['ner_chunks']:\n",
        "    \n",
        "    chunks.append(n.result)\n",
        "    begins.append(n.begin)\n",
        "    ends.append(n.end)\n",
        "    entities.append(n.metadata['entity']) \n",
        "        \n",
        "df = pd.DataFrame({'chunks':chunks, 'begin':begins, 'end':ends, 'entities':entities})\n",
        "\n",
        "df"
      ],
      "execution_count": 29,
      "outputs": [
        {
          "output_type": "execute_result",
          "data": {
            "text/html": [
              "<div>\n",
              "<style scoped>\n",
              "    .dataframe tbody tr th:only-of-type {\n",
              "        vertical-align: middle;\n",
              "    }\n",
              "\n",
              "    .dataframe tbody tr th {\n",
              "        vertical-align: top;\n",
              "    }\n",
              "\n",
              "    .dataframe thead th {\n",
              "        text-align: right;\n",
              "    }\n",
              "</style>\n",
              "<table border=\"1\" class=\"dataframe\">\n",
              "  <thead>\n",
              "    <tr style=\"text-align: right;\">\n",
              "      <th></th>\n",
              "      <th>chunks</th>\n",
              "      <th>begin</th>\n",
              "      <th>end</th>\n",
              "      <th>entities</th>\n",
              "    </tr>\n",
              "  </thead>\n",
              "  <tbody>\n",
              "    <tr>\n",
              "      <th>0</th>\n",
              "      <td>1 unit</td>\n",
              "      <td>28</td>\n",
              "      <td>33</td>\n",
              "      <td>Dosage</td>\n",
              "    </tr>\n",
              "    <tr>\n",
              "      <th>1</th>\n",
              "      <td>Advil</td>\n",
              "      <td>38</td>\n",
              "      <td>42</td>\n",
              "      <td>Drug</td>\n",
              "    </tr>\n",
              "    <tr>\n",
              "      <th>2</th>\n",
              "      <td>for 5 days</td>\n",
              "      <td>44</td>\n",
              "      <td>53</td>\n",
              "      <td>Duration</td>\n",
              "    </tr>\n",
              "    <tr>\n",
              "      <th>3</th>\n",
              "      <td>1 unit</td>\n",
              "      <td>96</td>\n",
              "      <td>101</td>\n",
              "      <td>Dosage</td>\n",
              "    </tr>\n",
              "    <tr>\n",
              "      <th>4</th>\n",
              "      <td>Metformin</td>\n",
              "      <td>106</td>\n",
              "      <td>114</td>\n",
              "      <td>Drug</td>\n",
              "    </tr>\n",
              "    <tr>\n",
              "      <th>5</th>\n",
              "      <td>daily</td>\n",
              "      <td>116</td>\n",
              "      <td>120</td>\n",
              "      <td>Frequency</td>\n",
              "    </tr>\n",
              "    <tr>\n",
              "      <th>6</th>\n",
              "      <td>40 units</td>\n",
              "      <td>190</td>\n",
              "      <td>197</td>\n",
              "      <td>Dosage</td>\n",
              "    </tr>\n",
              "    <tr>\n",
              "      <th>7</th>\n",
              "      <td>insulin glargine</td>\n",
              "      <td>202</td>\n",
              "      <td>217</td>\n",
              "      <td>Drug</td>\n",
              "    </tr>\n",
              "    <tr>\n",
              "      <th>8</th>\n",
              "      <td>at night</td>\n",
              "      <td>219</td>\n",
              "      <td>226</td>\n",
              "      <td>Frequency</td>\n",
              "    </tr>\n",
              "    <tr>\n",
              "      <th>9</th>\n",
              "      <td>12 units</td>\n",
              "      <td>231</td>\n",
              "      <td>238</td>\n",
              "      <td>Dosage</td>\n",
              "    </tr>\n",
              "    <tr>\n",
              "      <th>10</th>\n",
              "      <td>insulin lispro</td>\n",
              "      <td>243</td>\n",
              "      <td>256</td>\n",
              "      <td>Drug</td>\n",
              "    </tr>\n",
              "    <tr>\n",
              "      <th>11</th>\n",
              "      <td>with meals</td>\n",
              "      <td>258</td>\n",
              "      <td>267</td>\n",
              "      <td>Frequency</td>\n",
              "    </tr>\n",
              "    <tr>\n",
              "      <th>12</th>\n",
              "      <td>metformin</td>\n",
              "      <td>275</td>\n",
              "      <td>283</td>\n",
              "      <td>Drug</td>\n",
              "    </tr>\n",
              "    <tr>\n",
              "      <th>13</th>\n",
              "      <td>1000 mg</td>\n",
              "      <td>285</td>\n",
              "      <td>291</td>\n",
              "      <td>Strength</td>\n",
              "    </tr>\n",
              "    <tr>\n",
              "      <th>14</th>\n",
              "      <td>two times a day</td>\n",
              "      <td>293</td>\n",
              "      <td>307</td>\n",
              "      <td>Frequency</td>\n",
              "    </tr>\n",
              "  </tbody>\n",
              "</table>\n",
              "</div>"
            ],
            "text/plain": [
              "              chunks  begin  end   entities\n",
              "0             1 unit     28   33     Dosage\n",
              "1              Advil     38   42       Drug\n",
              "2         for 5 days     44   53   Duration\n",
              "3             1 unit     96  101     Dosage\n",
              "4          Metformin    106  114       Drug\n",
              "5              daily    116  120  Frequency\n",
              "6           40 units    190  197     Dosage\n",
              "7   insulin glargine    202  217       Drug\n",
              "8           at night    219  226  Frequency\n",
              "9           12 units    231  238     Dosage\n",
              "10    insulin lispro    243  256       Drug\n",
              "11        with meals    258  267  Frequency\n",
              "12         metformin    275  283       Drug\n",
              "13           1000 mg    285  291   Strength\n",
              "14   two times a day    293  307  Frequency"
            ]
          },
          "metadata": {
            "tags": []
          },
          "execution_count": 29
        }
      ]
    },
    {
      "cell_type": "code",
      "metadata": {
        "id": "oFLWugWaViPU",
        "colab_type": "code",
        "colab": {}
      },
      "source": [
        "import pandas as pd\n",
        "\n",
        "def get_relations_df (results, col='relations'):\n",
        "  rel_pairs=[]\n",
        "  for rel in results[0][col]:\n",
        "      rel_pairs.append((\n",
        "          rel.result, \n",
        "          rel.metadata['entity1'], \n",
        "          rel.metadata['entity1_begin'],\n",
        "          rel.metadata['entity1_end'],\n",
        "          rel.metadata['chunk1'], \n",
        "          rel.metadata['entity2'],\n",
        "          rel.metadata['entity2_begin'],\n",
        "          rel.metadata['entity2_end'],\n",
        "          rel.metadata['chunk2'], \n",
        "          rel.metadata['confidence']\n",
        "      ))\n",
        "\n",
        "  rel_df = pd.DataFrame(rel_pairs, columns=['relation','entity1','entity1_begin','entity1_end','chunk1','entity2','entity2_begin','entity2_end','chunk2', 'confidence'])\n",
        "\n",
        "  return rel_df\n"
      ],
      "execution_count": 30,
      "outputs": []
    },
    {
      "cell_type": "code",
      "metadata": {
        "id": "lRkeOb4RZwJS",
        "colab_type": "code",
        "colab": {
          "base_uri": "https://localhost:8080/",
          "height": 189
        },
        "outputId": "cd0cb22d-ef21-4bef-ccdd-4f21f98b48cb"
      },
      "source": [
        "text =\"\"\"A 28-year-old female with a history of gestational diabetes mellitus, used to take metformin 1000 mg two times a day, presented with a one-week history of polyuria , polydipsia , poor appetite , and vomiting .\n",
        "She was seen by the endocrinology service and discharged on 40 units of insulin glargine at night, 12 units of insulin lispro with meals.\n",
        "\"\"\"\n",
        "\n",
        "annotations = pipeline.fullAnnotate(text)\n",
        "\n",
        "rel_df = get_relations_df (annotations, 'clinical_relations')\n",
        "\n",
        "rel_df"
      ],
      "execution_count": 32,
      "outputs": [
        {
          "output_type": "execute_result",
          "data": {
            "text/html": [
              "<div>\n",
              "<style scoped>\n",
              "    .dataframe tbody tr th:only-of-type {\n",
              "        vertical-align: middle;\n",
              "    }\n",
              "\n",
              "    .dataframe tbody tr th {\n",
              "        vertical-align: top;\n",
              "    }\n",
              "\n",
              "    .dataframe thead th {\n",
              "        text-align: right;\n",
              "    }\n",
              "</style>\n",
              "<table border=\"1\" class=\"dataframe\">\n",
              "  <thead>\n",
              "    <tr style=\"text-align: right;\">\n",
              "      <th></th>\n",
              "      <th>relation</th>\n",
              "      <th>entity1</th>\n",
              "      <th>entity1_begin</th>\n",
              "      <th>entity1_end</th>\n",
              "      <th>chunk1</th>\n",
              "      <th>entity2</th>\n",
              "      <th>entity2_begin</th>\n",
              "      <th>entity2_end</th>\n",
              "      <th>chunk2</th>\n",
              "      <th>confidence</th>\n",
              "    </tr>\n",
              "  </thead>\n",
              "  <tbody>\n",
              "    <tr>\n",
              "      <th>0</th>\n",
              "      <td>TeRP</td>\n",
              "      <td>PROBLEM</td>\n",
              "      <td>39</td>\n",
              "      <td>67</td>\n",
              "      <td>gestational diabetes mellitus</td>\n",
              "      <td>TREATMENT</td>\n",
              "      <td>83</td>\n",
              "      <td>91</td>\n",
              "      <td>metformin</td>\n",
              "      <td>0.99999976</td>\n",
              "    </tr>\n",
              "    <tr>\n",
              "      <th>1</th>\n",
              "      <td>TeRP</td>\n",
              "      <td>TREATMENT</td>\n",
              "      <td>83</td>\n",
              "      <td>91</td>\n",
              "      <td>metformin</td>\n",
              "      <td>PROBLEM</td>\n",
              "      <td>155</td>\n",
              "      <td>162</td>\n",
              "      <td>polyuria</td>\n",
              "      <td>0.7383517</td>\n",
              "    </tr>\n",
              "    <tr>\n",
              "      <th>2</th>\n",
              "      <td>TeRP</td>\n",
              "      <td>TREATMENT</td>\n",
              "      <td>83</td>\n",
              "      <td>91</td>\n",
              "      <td>metformin</td>\n",
              "      <td>PROBLEM</td>\n",
              "      <td>166</td>\n",
              "      <td>175</td>\n",
              "      <td>polydipsia</td>\n",
              "      <td>0.9235713</td>\n",
              "    </tr>\n",
              "    <tr>\n",
              "      <th>3</th>\n",
              "      <td>TeRP</td>\n",
              "      <td>TREATMENT</td>\n",
              "      <td>83</td>\n",
              "      <td>91</td>\n",
              "      <td>metformin</td>\n",
              "      <td>PROBLEM</td>\n",
              "      <td>179</td>\n",
              "      <td>191</td>\n",
              "      <td>poor appetite</td>\n",
              "      <td>0.9663309</td>\n",
              "    </tr>\n",
              "    <tr>\n",
              "      <th>4</th>\n",
              "      <td>TrAP</td>\n",
              "      <td>TREATMENT</td>\n",
              "      <td>83</td>\n",
              "      <td>91</td>\n",
              "      <td>metformin</td>\n",
              "      <td>PROBLEM</td>\n",
              "      <td>199</td>\n",
              "      <td>206</td>\n",
              "      <td>vomiting</td>\n",
              "      <td>0.9943727</td>\n",
              "    </tr>\n",
              "  </tbody>\n",
              "</table>\n",
              "</div>"
            ],
            "text/plain": [
              "  relation    entity1 entity1_begin  ... entity2_end         chunk2  confidence\n",
              "0     TeRP    PROBLEM            39  ...          91      metformin  0.99999976\n",
              "1     TeRP  TREATMENT            83  ...         162       polyuria   0.7383517\n",
              "2     TeRP  TREATMENT            83  ...         175     polydipsia   0.9235713\n",
              "3     TeRP  TREATMENT            83  ...         191  poor appetite   0.9663309\n",
              "4     TrAP  TREATMENT            83  ...         206       vomiting   0.9943727\n",
              "\n",
              "[5 rows x 10 columns]"
            ]
          },
          "metadata": {
            "tags": []
          },
          "execution_count": 32
        }
      ]
    },
    {
      "cell_type": "markdown",
      "metadata": {
        "id": "ljp4EmCxaDNd",
        "colab_type": "text"
      },
      "source": [
        "## 2.  explain_clinical_doc_cra \n",
        "\n",
        "> a pipeline with `ner_clinical`, `assertion_dl` and `re_clinical`. It will extract clinical entities, assign assertion status and find relationships between clinical entities.\n"
      ]
    },
    {
      "cell_type": "code",
      "metadata": {
        "id": "O9cTLFNUaQNU",
        "colab_type": "code",
        "colab": {}
      },
      "source": [
        ""
      ],
      "execution_count": null,
      "outputs": []
    }
  ]
}
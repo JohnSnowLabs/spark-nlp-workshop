{
 "cells": [
  {
   "cell_type": "markdown",
   "metadata": {
    "id": "SymssfV7IcQ7"
   },
   "source": [
    "![JohnSnowLabs](https://nlp.johnsnowlabs.com/assets/images/logo.png)"
   ]
  },
  {
   "cell_type": "markdown",
   "metadata": {
    "id": "MCjxEZg_IfJo"
   },
   "source": [
    "[![Open In Colab](https://colab.research.google.com/assets/colab-badge.svg)](https://colab.research.google.com/github/JohnSnowLabs/spark-nlp-workshop/blob/master/tutorials/Certification_Trainings/Healthcare/11.Pretrained_Clinical_Pipelines.ipynb)"
   ]
  },
  {
   "cell_type": "markdown",
   "metadata": {
    "id": "v4uN8ZP_Itdo"
   },
   "source": [
    "# 11. Pretrained_Clinical_Pipelines"
   ]
  },
  {
   "cell_type": "markdown",
   "metadata": {
    "id": "YcrO6BlfIwEV"
   },
   "source": [
    "## Colab Setup"
   ]
  },
  {
   "cell_type": "code",
   "execution_count": null,
   "metadata": {
    "colab": {
     "base_uri": "https://localhost:8080/",
     "height": 73,
     "resources": {
      "http://localhost:8080/nbextensions/google.colab/files.js": {
       "data": "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",
       "headers": [
        [
         "content-type",
         "application/javascript"
        ]
       ],
       "ok": true,
       "status": 200,
       "status_text": ""
      }
     }
    },
    "executionInfo": {
     "elapsed": 9999,
     "status": "ok",
     "timestamp": 1639216996533,
     "user": {
      "displayName": "Ahmet Emin Tek",
      "photoUrl": "https://lh3.googleusercontent.com/a/default-user=s64",
      "userId": "14855809472179427810"
     },
     "user_tz": -180
    },
    "id": "sDxBKvHjIc5B",
    "outputId": "6f371e98-3d4f-4f30-de02-0332d510ee69"
   },
   "outputs": [],
   "source": [
    "import json\n",
    "import os\n",
    "\n",
    "from google.colab import files\n",
    "\n",
    "license_keys = files.upload()\n",
    "\n",
    "with open(list(license_keys.keys())[0]) as f:\n",
    "    license_keys = json.load(f)\n",
    "\n",
    "# Defining license key-value pairs as local variables\n",
    "locals().update(license_keys)\n",
    "\n",
    "# Adding license key-value pairs to environment variables\n",
    "os.environ.update(license_keys)"
   ]
  },
  {
   "cell_type": "code",
   "execution_count": null,
   "metadata": {
    "colab": {
     "base_uri": "https://localhost:8080/"
    },
    "executionInfo": {
     "elapsed": 44994,
     "status": "ok",
     "timestamp": 1639217044866,
     "user": {
      "displayName": "Ahmet Emin Tek",
      "photoUrl": "https://lh3.googleusercontent.com/a/default-user=s64",
      "userId": "14855809472179427810"
     },
     "user_tz": -180
    },
    "id": "R6iawCF1hDtv",
    "outputId": "02bc8954-49b8-43b1-852e-33630e825771"
   },
   "outputs": [],
   "source": [
    "# Installing pyspark and spark-nlp\n",
    "! pip install --upgrade -q pyspark==3.1.2 spark-nlp==$PUBLIC_VERSION\n",
    "\n",
    "# Installing Spark NLP Healthcare\n",
    "! pip install --upgrade -q spark-nlp-jsl==$JSL_VERSION  --extra-index-url https://pypi.johnsnowlabs.com/$SECRET"
   ]
  },
  {
   "cell_type": "code",
   "execution_count": 3,
   "metadata": {
    "colab": {
     "base_uri": "https://localhost:8080/"
    },
    "executionInfo": {
     "elapsed": 24707,
     "status": "ok",
     "timestamp": 1639217079235,
     "user": {
      "displayName": "Ahmet Emin Tek",
      "photoUrl": "https://lh3.googleusercontent.com/a/default-user=s64",
      "userId": "14855809472179427810"
     },
     "user_tz": -180
    },
    "id": "xzNgN33jNHTe",
    "outputId": "4e7cb10f-e750-4ef3-d890-38b37a35b497"
   },
   "outputs": [
    {
     "name": "stdout",
     "output_type": "stream",
     "text": [
      "Spark NLP Version : 3.3.4\n",
      "Spark NLP_JSL Version : 3.3.4\n"
     ]
    }
   ],
   "source": [
    "import json\n",
    "import os\n",
    "from pyspark.ml import Pipeline\n",
    "from pyspark.sql import SparkSession\n",
    "\n",
    "from sparknlp.annotator import *\n",
    "from sparknlp_jsl.annotator import *\n",
    "from sparknlp.base import *\n",
    "import sparknlp_jsl\n",
    "import sparknlp\n",
    "\n",
    "params = {\"spark.driver.memory\":\"16G\",\n",
    "\"spark.kryoserializer.buffer.max\":\"2000M\",\n",
    "\"spark.driver.maxResultSize\":\"2000M\"}\n",
    "\n",
    "spark = sparknlp_jsl.start(license_keys['SECRET'],params=params)\n",
    "\n",
    "print (\"Spark NLP Version :\", sparknlp.version())\n",
    "print (\"Spark NLP_JSL Version :\", sparknlp_jsl.version())"
   ]
  },
  {
   "cell_type": "markdown",
   "metadata": {
    "id": "9CzSCbXSKLSC"
   },
   "source": [
    "\n",
    "<b>  if you want to work with Spark 2.3 </b>\n",
    "```\n",
    "import os\n",
    "\n",
    "# Install java\n",
    "! apt-get update -qq\n",
    "! apt-get install -y openjdk-8-jdk-headless -qq > /dev/null\n",
    "\n",
    "!wget -q https://archive.apache.org/dist/spark/spark-2.3.0/spark-2.3.0-bin-hadoop2.7.tgz\n",
    "\n",
    "!tar xf spark-2.3.0-bin-hadoop2.7.tgz\n",
    "!pip install -q findspark\n",
    "\n",
    "os.environ[\"JAVA_HOME\"] = \"/usr/lib/jvm/java-8-openjdk-amd64\"\n",
    "os.environ[\"PATH\"] = os.environ[\"JAVA_HOME\"] + \"/bin:\" + os.environ[\"PATH\"]\n",
    "os.environ[\"SPARK_HOME\"] = \"/content/spark-2.3.0-bin-hadoop2.7\"\n",
    "! java -version\n",
    "\n",
    "import findspark\n",
    "findspark.init()\n",
    "from pyspark.sql import SparkSession\n",
    "\n",
    "! pip install --ignore-installed -q spark-nlp==2.7.5\n",
    "import sparknlp\n",
    "\n",
    "spark = sparknlp.start(spark23=True)\n",
    "```"
   ]
  },
  {
   "cell_type": "markdown",
   "metadata": {
    "id": "hmhC6kMHKYyh"
   },
   "source": [
    "## Pretrained Pipelines"
   ]
  },
  {
   "cell_type": "markdown",
   "metadata": {
    "id": "dLFDvuupKeGH"
   },
   "source": [
    "In order to save you from creating a pipeline from scratch, Spark NLP also has a pre-trained pipelines that are already fitted using certain annotators and transformers according to various use cases.\n",
    "\n",
    "Here is the list of clinical pre-trained pipelines: \n",
    "\n",
    "> These clinical pipelines are trained with `embeddings_healthcare_100d` and accuracies might be 1-2% lower than `embeddings_clinical` which is 200d.\n",
    "\n",
    "**1.   explain_clinical_doc_carp** :\n",
    "\n",
    "> a pipeline with `ner_clinical`, `assertion_dl`, `re_clinical` and `ner_posology`. It will extract clinical and medication entities, assign assertion status and find relationships between clinical entities.\n",
    "\n",
    "**2.   explain_clinical_doc_era** :\n",
    "\n",
    "> a pipeline with `ner_clinical_events`, `assertion_dl` and `re_temporal_events_clinical`. It will extract clinical entities, assign assertion status and find temporal relationships between clinical entities.\n",
    "\n",
    "**3.   recognize_entities_posology** :\n",
    "\n",
    "> a pipeline with `ner_posology`. It will only extract medication entities.\n",
    "\n",
    "\n",
    "*Since 3rd pipeline is already a subset of 1st and 2nd pipeline, we will only cover the first two pipelines in this notebook.*\n",
    "\n",
    "**4.   explain_clinical_doc_ade** :\n",
    "\n",
    "> a pipeline for `Adverse Drug Events (ADE)` with `ner_ade_biobert`, `assertiondl_biobert`, `classifierdl_ade_conversational_biobert` and `re_ade_biobert`. It will classify the document, extract `ADE` and `DRUG` entities, assign assertion status to `ADE` entities, and relate them with `DRUG` entities, then assign ADE status to a text (`True` means ADE, `False` means not related to ADE).\n",
    "\n",
    "**letter codes in the naming conventions:**\n",
    "\n",
    "> c : ner_clinical\n",
    "\n",
    "> e : ner_clinical_events\n",
    "\n",
    "> r : relation extraction\n",
    "\n",
    "> p : ner_posology\n",
    "\n",
    "> a : assertion\n",
    "\n",
    "> ade : adverse drug events\n",
    "\n",
    "**Relation Extraction types:**\n",
    "\n",
    "`re_clinical` >> TrIP (improved), TrWP (worsened), TrCP (caused problem), TrAP (administered), TrNAP (avoided), TeRP (revealed problem), TeCP (investigate problem), PIP (problems related)\n",
    "\n",
    "`re_temporal_events_clinical` >> `AFTER`, `BEFORE`, `OVERLAP`\n",
    "\n",
    "**5. ner_profiling_clinical and ner_profiling_biobert:**\n",
    "\n",
    "> pipelines for exploring all the available pretrained NER models at once.\n",
    "\n",
    "**6. ner_model_finder**\n",
    "\n",
    "> a pipeline trained with bert embeddings that can be used to find the most appropriate NER model given the entity name.\n",
    "\n",
    "**7. icd10cm_snomed_mapping**\n",
    "\n",
    "> a pipeline maps ICD10CM codes to SNOMED codes without using any text data. You’ll just feed a comma or white space delimited ICD10CM codes and it will return the corresponding SNOMED codes as a list. \n",
    "\n",
    "**8.  snomed_icd10cm_mapping:**\n",
    "\n",
    "> a pipeline converts Snomed codes to ICD10CM codes. Just feed a comma or white space delimited SNOMED codes and it will return the corresponding ICD10CM codes as a list.\n"
   ]
  },
  {
   "cell_type": "markdown",
   "metadata": {
    "id": "pK2Tt0ZuRy2B"
   },
   "source": [
    "## 1.explain_clinical_doc_carp \n",
    "\n",
    "a pipeline with ner_clinical, assertion_dl, re_clinical and ner_posology. It will extract clinical and medication entities, assign assertion status and find relationships between clinical entities."
   ]
  },
  {
   "cell_type": "code",
   "execution_count": null,
   "metadata": {
    "id": "Y1di9iuJMiXl"
   },
   "outputs": [],
   "source": [
    "from sparknlp.pretrained import PretrainedPipeline"
   ]
  },
  {
   "cell_type": "code",
   "execution_count": null,
   "metadata": {
    "colab": {
     "base_uri": "https://localhost:8080/"
    },
    "id": "4rg3oe37R1wX",
    "outputId": "9ab44e27-c061-44a3-852f-03215730abb9"
   },
   "outputs": [
    {
     "name": "stdout",
     "output_type": "stream",
     "text": [
      "explain_clinical_doc_carp download started this may take some time.\n",
      "Approx size to download 1.6 GB\n",
      "[OK!]\n"
     ]
    }
   ],
   "source": [
    "pipeline = PretrainedPipeline('explain_clinical_doc_carp', 'en', 'clinical/models')"
   ]
  },
  {
   "cell_type": "code",
   "execution_count": null,
   "metadata": {
    "colab": {
     "base_uri": "https://localhost:8080/"
    },
    "id": "V7OaKtxjvA7f",
    "outputId": "2398b39a-d5fd-4ec9-d717-222dde07bff5"
   },
   "outputs": [
    {
     "data": {
      "text/plain": [
       "[DocumentAssembler_9619f8fd837c,\n",
       " SentenceDetector_c0b14c755033,\n",
       " REGEX_TOKENIZER_352efbad7483,\n",
       " POS_6f55785005bf,\n",
       " dependency_d5a8da6c9093,\n",
       " WORD_EMBEDDINGS_MODEL_9004b1d00302,\n",
       " MedicalNerModel_cd5ce67b529f,\n",
       " NerConverter_89fec9d64d2a,\n",
       " MedicalNerModel_4a303d875127,\n",
       " NerConverter_50c49f50f3ec,\n",
       " ASSERTION_DL_25881ab6309e,\n",
       " RelationExtractionModel_9c255241fec3]"
      ]
     },
     "execution_count": 6,
     "metadata": {},
     "output_type": "execute_result"
    }
   ],
   "source": [
    "pipeline.model.stages"
   ]
  },
  {
   "cell_type": "code",
   "execution_count": null,
   "metadata": {
    "id": "d9eRK3IKUurq"
   },
   "outputs": [],
   "source": [
    "# Load pretrained pipeline from local disk:\n",
    "\n",
    "# >> pipeline_local = PretrainedPipeline.from_disk('/root/cache_pretrained/explain_clinical_doc_carp_en_2.5.5_2.4_1597841630062')"
   ]
  },
  {
   "cell_type": "code",
   "execution_count": null,
   "metadata": {
    "colab": {
     "base_uri": "https://localhost:8080/"
    },
    "id": "3xmhwW2MVKYa",
    "outputId": "72bb5c5b-9454-4a64-d0b6-74e2ac3b74b1"
   },
   "outputs": [
    {
     "data": {
      "text/plain": [
       "dict_keys(['sentences', 'clinical_ner_tags', 'document', 'clinical_ner_chunks', 'assertion', 'clinical_relations', 'posology_ner_tags', 'tokens', 'posology_ner_chunks', 'embeddings', 'pos_tags', 'dependencies'])"
      ]
     },
     "execution_count": 8,
     "metadata": {},
     "output_type": "execute_result"
    }
   ],
   "source": [
    "text =\"\"\"A 28-year-old female with a history of gestational diabetes mellitus, used to take metformin 1000 mg two times a day, presented with a one-week history of polyuria , polydipsia , poor appetite , and vomiting .\n",
    "She was seen by the endocrinology service and discharged on 40 units of insulin glargine at night, 12 units of insulin lispro with meals.\n",
    "\"\"\"\n",
    "\n",
    "annotations = pipeline.annotate(text)\n",
    "\n",
    "annotations.keys()\n"
   ]
  },
  {
   "cell_type": "code",
   "execution_count": null,
   "metadata": {
    "colab": {
     "base_uri": "https://localhost:8080/",
     "height": 669
    },
    "id": "X4z-RbyZVvgR",
    "outputId": "f7d53e86-2811-46cd-9d18-5f43871f02bb"
   },
   "outputs": [
    {
     "data": {
      "text/html": [
       "<div>\n",
       "<style scoped>\n",
       "    .dataframe tbody tr th:only-of-type {\n",
       "        vertical-align: middle;\n",
       "    }\n",
       "\n",
       "    .dataframe tbody tr th {\n",
       "        vertical-align: top;\n",
       "    }\n",
       "\n",
       "    .dataframe thead th {\n",
       "        text-align: right;\n",
       "    }\n",
       "</style>\n",
       "<table border=\"1\" class=\"dataframe\">\n",
       "  <thead>\n",
       "    <tr style=\"text-align: right;\">\n",
       "      <th></th>\n",
       "      <th>tokens</th>\n",
       "      <th>clinical_ner_tags</th>\n",
       "      <th>posology_ner_tags</th>\n",
       "      <th>POS_tags</th>\n",
       "      <th>dependencies</th>\n",
       "    </tr>\n",
       "  </thead>\n",
       "  <tbody>\n",
       "    <tr>\n",
       "      <th>0</th>\n",
       "      <td>A</td>\n",
       "      <td>O</td>\n",
       "      <td>O</td>\n",
       "      <td>DD</td>\n",
       "      <td>female</td>\n",
       "    </tr>\n",
       "    <tr>\n",
       "      <th>1</th>\n",
       "      <td>28-year-old</td>\n",
       "      <td>O</td>\n",
       "      <td>O</td>\n",
       "      <td>NN</td>\n",
       "      <td>female</td>\n",
       "    </tr>\n",
       "    <tr>\n",
       "      <th>2</th>\n",
       "      <td>female</td>\n",
       "      <td>O</td>\n",
       "      <td>O</td>\n",
       "      <td>NN</td>\n",
       "      <td>ROOT</td>\n",
       "    </tr>\n",
       "    <tr>\n",
       "      <th>3</th>\n",
       "      <td>with</td>\n",
       "      <td>O</td>\n",
       "      <td>O</td>\n",
       "      <td>II</td>\n",
       "      <td>history</td>\n",
       "    </tr>\n",
       "    <tr>\n",
       "      <th>4</th>\n",
       "      <td>a</td>\n",
       "      <td>O</td>\n",
       "      <td>O</td>\n",
       "      <td>DD</td>\n",
       "      <td>history</td>\n",
       "    </tr>\n",
       "    <tr>\n",
       "      <th>5</th>\n",
       "      <td>history</td>\n",
       "      <td>O</td>\n",
       "      <td>O</td>\n",
       "      <td>NN</td>\n",
       "      <td>female</td>\n",
       "    </tr>\n",
       "    <tr>\n",
       "      <th>6</th>\n",
       "      <td>of</td>\n",
       "      <td>O</td>\n",
       "      <td>O</td>\n",
       "      <td>II</td>\n",
       "      <td>history</td>\n",
       "    </tr>\n",
       "    <tr>\n",
       "      <th>7</th>\n",
       "      <td>gestational</td>\n",
       "      <td>B-PROBLEM</td>\n",
       "      <td>O</td>\n",
       "      <td>JJ</td>\n",
       "      <td>of</td>\n",
       "    </tr>\n",
       "    <tr>\n",
       "      <th>8</th>\n",
       "      <td>diabetes</td>\n",
       "      <td>I-PROBLEM</td>\n",
       "      <td>O</td>\n",
       "      <td>NN</td>\n",
       "      <td>mellitus</td>\n",
       "    </tr>\n",
       "    <tr>\n",
       "      <th>9</th>\n",
       "      <td>mellitus</td>\n",
       "      <td>I-PROBLEM</td>\n",
       "      <td>O</td>\n",
       "      <td>NN</td>\n",
       "      <td>gestational</td>\n",
       "    </tr>\n",
       "    <tr>\n",
       "      <th>10</th>\n",
       "      <td>,</td>\n",
       "      <td>O</td>\n",
       "      <td>O</td>\n",
       "      <td>NN</td>\n",
       "      <td>used</td>\n",
       "    </tr>\n",
       "    <tr>\n",
       "      <th>11</th>\n",
       "      <td>used</td>\n",
       "      <td>O</td>\n",
       "      <td>O</td>\n",
       "      <td>VVN</td>\n",
       "      <td>mellitus</td>\n",
       "    </tr>\n",
       "    <tr>\n",
       "      <th>12</th>\n",
       "      <td>to</td>\n",
       "      <td>O</td>\n",
       "      <td>O</td>\n",
       "      <td>TO</td>\n",
       "      <td>take</td>\n",
       "    </tr>\n",
       "    <tr>\n",
       "      <th>13</th>\n",
       "      <td>take</td>\n",
       "      <td>O</td>\n",
       "      <td>O</td>\n",
       "      <td>VVI</td>\n",
       "      <td>used</td>\n",
       "    </tr>\n",
       "    <tr>\n",
       "      <th>14</th>\n",
       "      <td>metformin</td>\n",
       "      <td>B-TREATMENT</td>\n",
       "      <td>B-DRUG</td>\n",
       "      <td>NN</td>\n",
       "      <td>take</td>\n",
       "    </tr>\n",
       "    <tr>\n",
       "      <th>15</th>\n",
       "      <td>1000</td>\n",
       "      <td>O</td>\n",
       "      <td>B-STRENGTH</td>\n",
       "      <td>MC</td>\n",
       "      <td>metformin</td>\n",
       "    </tr>\n",
       "    <tr>\n",
       "      <th>16</th>\n",
       "      <td>mg</td>\n",
       "      <td>O</td>\n",
       "      <td>I-STRENGTH</td>\n",
       "      <td>NN</td>\n",
       "      <td>1000</td>\n",
       "    </tr>\n",
       "    <tr>\n",
       "      <th>17</th>\n",
       "      <td>two</td>\n",
       "      <td>O</td>\n",
       "      <td>B-FREQUENCY</td>\n",
       "      <td>MC</td>\n",
       "      <td>times</td>\n",
       "    </tr>\n",
       "    <tr>\n",
       "      <th>18</th>\n",
       "      <td>times</td>\n",
       "      <td>O</td>\n",
       "      <td>I-FREQUENCY</td>\n",
       "      <td>NNS</td>\n",
       "      <td>mg</td>\n",
       "    </tr>\n",
       "    <tr>\n",
       "      <th>19</th>\n",
       "      <td>a</td>\n",
       "      <td>O</td>\n",
       "      <td>I-FREQUENCY</td>\n",
       "      <td>DD</td>\n",
       "      <td>day</td>\n",
       "    </tr>\n",
       "  </tbody>\n",
       "</table>\n",
       "</div>"
      ],
      "text/plain": [
       "         tokens clinical_ner_tags posology_ner_tags POS_tags dependencies\n",
       "0             A                 O                 O       DD       female\n",
       "1   28-year-old                 O                 O       NN       female\n",
       "2        female                 O                 O       NN         ROOT\n",
       "3          with                 O                 O       II      history\n",
       "4             a                 O                 O       DD      history\n",
       "5       history                 O                 O       NN       female\n",
       "6            of                 O                 O       II      history\n",
       "7   gestational         B-PROBLEM                 O       JJ           of\n",
       "8      diabetes         I-PROBLEM                 O       NN     mellitus\n",
       "9      mellitus         I-PROBLEM                 O       NN  gestational\n",
       "10            ,                 O                 O       NN         used\n",
       "11         used                 O                 O      VVN     mellitus\n",
       "12           to                 O                 O       TO         take\n",
       "13         take                 O                 O      VVI         used\n",
       "14    metformin       B-TREATMENT            B-DRUG       NN         take\n",
       "15         1000                 O        B-STRENGTH       MC    metformin\n",
       "16           mg                 O        I-STRENGTH       NN         1000\n",
       "17          two                 O       B-FREQUENCY       MC        times\n",
       "18        times                 O       I-FREQUENCY      NNS           mg\n",
       "19            a                 O       I-FREQUENCY       DD          day"
      ]
     },
     "execution_count": 9,
     "metadata": {},
     "output_type": "execute_result"
    }
   ],
   "source": [
    "import pandas as pd\n",
    "\n",
    "rows = list(zip(annotations['tokens'], annotations['clinical_ner_tags'], annotations['posology_ner_tags'], annotations['pos_tags'], annotations['dependencies']))\n",
    "\n",
    "df = pd.DataFrame(rows, columns = ['tokens','clinical_ner_tags','posology_ner_tags','POS_tags','dependencies'])\n",
    "\n",
    "df.head(20)"
   ]
  },
  {
   "cell_type": "code",
   "execution_count": null,
   "metadata": {
    "colab": {
     "base_uri": "https://localhost:8080/",
     "height": 173
    },
    "id": "5Hlwc2M2Xl_y",
    "outputId": "34172d6b-19e0-46b9-a768-76a5001e90c5"
   },
   "outputs": [
    {
     "data": {
      "text/html": [
       "<div>\n",
       "<style scoped>\n",
       "    .dataframe tbody tr th:only-of-type {\n",
       "        vertical-align: middle;\n",
       "    }\n",
       "\n",
       "    .dataframe tbody tr th {\n",
       "        vertical-align: top;\n",
       "    }\n",
       "\n",
       "    .dataframe thead th {\n",
       "        text-align: right;\n",
       "    }\n",
       "</style>\n",
       "<table border=\"1\" class=\"dataframe\">\n",
       "  <thead>\n",
       "    <tr style=\"text-align: right;\">\n",
       "      <th></th>\n",
       "      <th>chunks</th>\n",
       "      <th>entities</th>\n",
       "      <th>assertion</th>\n",
       "    </tr>\n",
       "  </thead>\n",
       "  <tbody>\n",
       "    <tr>\n",
       "      <th>0</th>\n",
       "      <td>a headache</td>\n",
       "      <td>PROBLEM</td>\n",
       "      <td>present</td>\n",
       "    </tr>\n",
       "    <tr>\n",
       "      <th>1</th>\n",
       "      <td>anxious</td>\n",
       "      <td>PROBLEM</td>\n",
       "      <td>conditional</td>\n",
       "    </tr>\n",
       "    <tr>\n",
       "      <th>2</th>\n",
       "      <td>alopecia</td>\n",
       "      <td>PROBLEM</td>\n",
       "      <td>absent</td>\n",
       "    </tr>\n",
       "    <tr>\n",
       "      <th>3</th>\n",
       "      <td>pain</td>\n",
       "      <td>PROBLEM</td>\n",
       "      <td>absent</td>\n",
       "    </tr>\n",
       "  </tbody>\n",
       "</table>\n",
       "</div>"
      ],
      "text/plain": [
       "       chunks entities    assertion\n",
       "0  a headache  PROBLEM      present\n",
       "1     anxious  PROBLEM  conditional\n",
       "2    alopecia  PROBLEM       absent\n",
       "3        pain  PROBLEM       absent"
      ]
     },
     "execution_count": 10,
     "metadata": {},
     "output_type": "execute_result"
    }
   ],
   "source": [
    "text = 'Patient has a headache for the last 2 weeks and appears anxious when she walks fast. No alopecia noted. She denies pain'\n",
    "\n",
    "result = pipeline.fullAnnotate(text)[0]\n",
    "\n",
    "chunks=[]\n",
    "entities=[]\n",
    "status=[]\n",
    "\n",
    "for n,m in zip(result['clinical_ner_chunks'],result['assertion']):\n",
    "    \n",
    "    chunks.append(n.result)\n",
    "    entities.append(n.metadata['entity']) \n",
    "    status.append(m.result)\n",
    "        \n",
    "df = pd.DataFrame({'chunks':chunks, 'entities':entities, 'assertion':status})\n",
    "\n",
    "df"
   ]
  },
  {
   "cell_type": "code",
   "execution_count": null,
   "metadata": {
    "colab": {
     "base_uri": "https://localhost:8080/",
     "height": 514
    },
    "id": "wF9PCC18Y7eE",
    "outputId": "cc686fc5-ef89-43f8-ede7-97aaf494a8f1"
   },
   "outputs": [
    {
     "data": {
      "text/html": [
       "<div>\n",
       "<style scoped>\n",
       "    .dataframe tbody tr th:only-of-type {\n",
       "        vertical-align: middle;\n",
       "    }\n",
       "\n",
       "    .dataframe tbody tr th {\n",
       "        vertical-align: top;\n",
       "    }\n",
       "\n",
       "    .dataframe thead th {\n",
       "        text-align: right;\n",
       "    }\n",
       "</style>\n",
       "<table border=\"1\" class=\"dataframe\">\n",
       "  <thead>\n",
       "    <tr style=\"text-align: right;\">\n",
       "      <th></th>\n",
       "      <th>chunks</th>\n",
       "      <th>begin</th>\n",
       "      <th>end</th>\n",
       "      <th>entities</th>\n",
       "    </tr>\n",
       "  </thead>\n",
       "  <tbody>\n",
       "    <tr>\n",
       "      <th>0</th>\n",
       "      <td>1 unit</td>\n",
       "      <td>28</td>\n",
       "      <td>33</td>\n",
       "      <td>DOSAGE</td>\n",
       "    </tr>\n",
       "    <tr>\n",
       "      <th>1</th>\n",
       "      <td>Advil</td>\n",
       "      <td>38</td>\n",
       "      <td>42</td>\n",
       "      <td>DRUG</td>\n",
       "    </tr>\n",
       "    <tr>\n",
       "      <th>2</th>\n",
       "      <td>for 5 days</td>\n",
       "      <td>44</td>\n",
       "      <td>53</td>\n",
       "      <td>DURATION</td>\n",
       "    </tr>\n",
       "    <tr>\n",
       "      <th>3</th>\n",
       "      <td>1 unit</td>\n",
       "      <td>96</td>\n",
       "      <td>101</td>\n",
       "      <td>DOSAGE</td>\n",
       "    </tr>\n",
       "    <tr>\n",
       "      <th>4</th>\n",
       "      <td>Metformin</td>\n",
       "      <td>106</td>\n",
       "      <td>114</td>\n",
       "      <td>DRUG</td>\n",
       "    </tr>\n",
       "    <tr>\n",
       "      <th>5</th>\n",
       "      <td>daily</td>\n",
       "      <td>116</td>\n",
       "      <td>120</td>\n",
       "      <td>FREQUENCY</td>\n",
       "    </tr>\n",
       "    <tr>\n",
       "      <th>6</th>\n",
       "      <td>40 units</td>\n",
       "      <td>190</td>\n",
       "      <td>197</td>\n",
       "      <td>DOSAGE</td>\n",
       "    </tr>\n",
       "    <tr>\n",
       "      <th>7</th>\n",
       "      <td>insulin glargine</td>\n",
       "      <td>202</td>\n",
       "      <td>217</td>\n",
       "      <td>DRUG</td>\n",
       "    </tr>\n",
       "    <tr>\n",
       "      <th>8</th>\n",
       "      <td>at night</td>\n",
       "      <td>219</td>\n",
       "      <td>226</td>\n",
       "      <td>FREQUENCY</td>\n",
       "    </tr>\n",
       "    <tr>\n",
       "      <th>9</th>\n",
       "      <td>12 units</td>\n",
       "      <td>231</td>\n",
       "      <td>238</td>\n",
       "      <td>DOSAGE</td>\n",
       "    </tr>\n",
       "    <tr>\n",
       "      <th>10</th>\n",
       "      <td>insulin lispro</td>\n",
       "      <td>243</td>\n",
       "      <td>256</td>\n",
       "      <td>DRUG</td>\n",
       "    </tr>\n",
       "    <tr>\n",
       "      <th>11</th>\n",
       "      <td>with meals</td>\n",
       "      <td>258</td>\n",
       "      <td>267</td>\n",
       "      <td>FREQUENCY</td>\n",
       "    </tr>\n",
       "    <tr>\n",
       "      <th>12</th>\n",
       "      <td>metformin</td>\n",
       "      <td>275</td>\n",
       "      <td>283</td>\n",
       "      <td>DRUG</td>\n",
       "    </tr>\n",
       "    <tr>\n",
       "      <th>13</th>\n",
       "      <td>1000 mg</td>\n",
       "      <td>285</td>\n",
       "      <td>291</td>\n",
       "      <td>STRENGTH</td>\n",
       "    </tr>\n",
       "    <tr>\n",
       "      <th>14</th>\n",
       "      <td>two times a day</td>\n",
       "      <td>293</td>\n",
       "      <td>307</td>\n",
       "      <td>FREQUENCY</td>\n",
       "    </tr>\n",
       "  </tbody>\n",
       "</table>\n",
       "</div>"
      ],
      "text/plain": [
       "              chunks  begin  end   entities\n",
       "0             1 unit     28   33     DOSAGE\n",
       "1              Advil     38   42       DRUG\n",
       "2         for 5 days     44   53   DURATION\n",
       "3             1 unit     96  101     DOSAGE\n",
       "4          Metformin    106  114       DRUG\n",
       "5              daily    116  120  FREQUENCY\n",
       "6           40 units    190  197     DOSAGE\n",
       "7   insulin glargine    202  217       DRUG\n",
       "8           at night    219  226  FREQUENCY\n",
       "9           12 units    231  238     DOSAGE\n",
       "10    insulin lispro    243  256       DRUG\n",
       "11        with meals    258  267  FREQUENCY\n",
       "12         metformin    275  283       DRUG\n",
       "13           1000 mg    285  291   STRENGTH\n",
       "14   two times a day    293  307  FREQUENCY"
      ]
     },
     "execution_count": 11,
     "metadata": {},
     "output_type": "execute_result"
    }
   ],
   "source": [
    "text = \"\"\"\n",
    "The patient was prescribed 1 unit of Advil for 5 days after meals. The patient was also \n",
    "given 1 unit of Metformin daily.\n",
    "He was seen by the endocrinology service and she was discharged on 40 units of insulin glargine at night , \n",
    "12 units of insulin lispro with meals , and metformin 1000 mg two times a day.\n",
    "\"\"\"\n",
    "\n",
    "result = pipeline.fullAnnotate(text)[0]\n",
    "\n",
    "chunks=[]\n",
    "entities=[]\n",
    "begins=[]\n",
    "ends=[]\n",
    "\n",
    "for n in result['posology_ner_chunks']:\n",
    "    \n",
    "    chunks.append(n.result)\n",
    "    begins.append(n.begin)\n",
    "    ends.append(n.end)\n",
    "    entities.append(n.metadata['entity']) \n",
    "        \n",
    "df = pd.DataFrame({'chunks':chunks, 'begin':begins, 'end':ends, 'entities':entities})\n",
    "\n",
    "df"
   ]
  },
  {
   "cell_type": "markdown",
   "metadata": {
    "id": "ljp4EmCxaDNd"
   },
   "source": [
    "## **2.   explain_clinical_doc_era** \n",
    "\n",
    "> a pipeline with `ner_clinical_events`, `assertion_dl` and `re_temporal_events_clinical`. It will extract clinical entities, assign assertion status and find temporal relationships between clinical entities.\n",
    "\n"
   ]
  },
  {
   "cell_type": "code",
   "execution_count": null,
   "metadata": {
    "colab": {
     "base_uri": "https://localhost:8080/"
    },
    "id": "BMWEfu1QuXY5",
    "outputId": "bf3afec7-ed37-4102-d62f-398b8cd875bd"
   },
   "outputs": [
    {
     "name": "stdout",
     "output_type": "stream",
     "text": [
      "explain_clinical_doc_era download started this may take some time.\n",
      "Approx size to download 1.6 GB\n",
      "[OK!]\n"
     ]
    }
   ],
   "source": [
    "era_pipeline = PretrainedPipeline('explain_clinical_doc_era', 'en', 'clinical/models')"
   ]
  },
  {
   "cell_type": "code",
   "execution_count": null,
   "metadata": {
    "colab": {
     "base_uri": "https://localhost:8080/"
    },
    "id": "xWhFRqvpvIOl",
    "outputId": "d8dd6f37-6a54-45be-f0d3-7d04491e98da"
   },
   "outputs": [
    {
     "data": {
      "text/plain": [
       "[DocumentAssembler_81ef1f17c7c1,\n",
       " SentenceDetector_0b67d45c215f,\n",
       " REGEX_TOKENIZER_4d38514cc549,\n",
       " POS_6f55785005bf,\n",
       " dependency_d5a8da6c9093,\n",
       " WORD_EMBEDDINGS_MODEL_9004b1d00302,\n",
       " MedicalNerModel_7cb29c8c904c,\n",
       " NerConverter_dc8e863a00ea,\n",
       " RelationExtractionModel_14b00157fc1a,\n",
       " ASSERTION_DL_25881ab6309e]"
      ]
     },
     "execution_count": 13,
     "metadata": {},
     "output_type": "execute_result"
    }
   ],
   "source": [
    "era_pipeline.model.stages"
   ]
  },
  {
   "cell_type": "code",
   "execution_count": null,
   "metadata": {
    "id": "O9cTLFNUaQNU"
   },
   "outputs": [],
   "source": [
    "text =\"\"\"She is admitted to The John Hopkins Hospital 2 days ago with a history of gestational diabetes mellitus diagnosed. She denied pain and any headache.\n",
    "She was seen by the endocrinology service and she was discharged on 03/02/2018 on 40 units of insulin glargine, \n",
    "12 units of insulin lispro, and metformin 1000 mg two times a day. She had close follow-up with endocrinology post discharge. \n",
    "\"\"\"\n",
    "\n",
    "result = era_pipeline.fullAnnotate(text)[0]\n"
   ]
  },
  {
   "cell_type": "code",
   "execution_count": null,
   "metadata": {
    "colab": {
     "base_uri": "https://localhost:8080/"
    },
    "id": "1igwWvsgu7z6",
    "outputId": "2acf80fa-627b-41a0-b2ab-00b1bb903457"
   },
   "outputs": [
    {
     "data": {
      "text/plain": [
       "dict_keys(['sentences', 'clinical_ner_tags', 'document', 'clinical_ner_chunks', 'assertion', 'clinical_relations', 'tokens', 'embeddings', 'pos_tags', 'dependencies'])"
      ]
     },
     "execution_count": 15,
     "metadata": {},
     "output_type": "execute_result"
    }
   ],
   "source": [
    "result.keys()"
   ]
  },
  {
   "cell_type": "code",
   "execution_count": null,
   "metadata": {
    "colab": {
     "base_uri": "https://localhost:8080/",
     "height": 514
    },
    "id": "6rejwSLjyW8S",
    "outputId": "fd2b117c-c9c2-448f-8232-e79c77f42598"
   },
   "outputs": [
    {
     "data": {
      "text/html": [
       "<div>\n",
       "<style scoped>\n",
       "    .dataframe tbody tr th:only-of-type {\n",
       "        vertical-align: middle;\n",
       "    }\n",
       "\n",
       "    .dataframe tbody tr th {\n",
       "        vertical-align: top;\n",
       "    }\n",
       "\n",
       "    .dataframe thead th {\n",
       "        text-align: right;\n",
       "    }\n",
       "</style>\n",
       "<table border=\"1\" class=\"dataframe\">\n",
       "  <thead>\n",
       "    <tr style=\"text-align: right;\">\n",
       "      <th></th>\n",
       "      <th>chunks</th>\n",
       "      <th>begin</th>\n",
       "      <th>end</th>\n",
       "      <th>entities</th>\n",
       "    </tr>\n",
       "  </thead>\n",
       "  <tbody>\n",
       "    <tr>\n",
       "      <th>0</th>\n",
       "      <td>admitted</td>\n",
       "      <td>7</td>\n",
       "      <td>14</td>\n",
       "      <td>OCCURRENCE</td>\n",
       "    </tr>\n",
       "    <tr>\n",
       "      <th>1</th>\n",
       "      <td>The John Hopkins Hospital</td>\n",
       "      <td>19</td>\n",
       "      <td>43</td>\n",
       "      <td>CLINICAL_DEPT</td>\n",
       "    </tr>\n",
       "    <tr>\n",
       "      <th>2</th>\n",
       "      <td>2 days ago</td>\n",
       "      <td>45</td>\n",
       "      <td>54</td>\n",
       "      <td>DATE</td>\n",
       "    </tr>\n",
       "    <tr>\n",
       "      <th>3</th>\n",
       "      <td>gestational diabetes mellitus</td>\n",
       "      <td>74</td>\n",
       "      <td>102</td>\n",
       "      <td>PROBLEM</td>\n",
       "    </tr>\n",
       "    <tr>\n",
       "      <th>4</th>\n",
       "      <td>denied</td>\n",
       "      <td>119</td>\n",
       "      <td>124</td>\n",
       "      <td>EVIDENTIAL</td>\n",
       "    </tr>\n",
       "    <tr>\n",
       "      <th>5</th>\n",
       "      <td>pain</td>\n",
       "      <td>126</td>\n",
       "      <td>129</td>\n",
       "      <td>PROBLEM</td>\n",
       "    </tr>\n",
       "    <tr>\n",
       "      <th>6</th>\n",
       "      <td>any headache</td>\n",
       "      <td>135</td>\n",
       "      <td>146</td>\n",
       "      <td>PROBLEM</td>\n",
       "    </tr>\n",
       "    <tr>\n",
       "      <th>7</th>\n",
       "      <td>the endocrinology service</td>\n",
       "      <td>165</td>\n",
       "      <td>189</td>\n",
       "      <td>CLINICAL_DEPT</td>\n",
       "    </tr>\n",
       "    <tr>\n",
       "      <th>8</th>\n",
       "      <td>discharged</td>\n",
       "      <td>203</td>\n",
       "      <td>212</td>\n",
       "      <td>OCCURRENCE</td>\n",
       "    </tr>\n",
       "    <tr>\n",
       "      <th>9</th>\n",
       "      <td>03/02/2018</td>\n",
       "      <td>217</td>\n",
       "      <td>226</td>\n",
       "      <td>DATE</td>\n",
       "    </tr>\n",
       "    <tr>\n",
       "      <th>10</th>\n",
       "      <td>insulin glargine</td>\n",
       "      <td>243</td>\n",
       "      <td>258</td>\n",
       "      <td>TREATMENT</td>\n",
       "    </tr>\n",
       "    <tr>\n",
       "      <th>11</th>\n",
       "      <td>insulin lispro</td>\n",
       "      <td>274</td>\n",
       "      <td>287</td>\n",
       "      <td>TREATMENT</td>\n",
       "    </tr>\n",
       "    <tr>\n",
       "      <th>12</th>\n",
       "      <td>metformin</td>\n",
       "      <td>294</td>\n",
       "      <td>302</td>\n",
       "      <td>TREATMENT</td>\n",
       "    </tr>\n",
       "    <tr>\n",
       "      <th>13</th>\n",
       "      <td>two times a day</td>\n",
       "      <td>312</td>\n",
       "      <td>326</td>\n",
       "      <td>FREQUENCY</td>\n",
       "    </tr>\n",
       "    <tr>\n",
       "      <th>14</th>\n",
       "      <td>follow-up with endocrinology post discharge</td>\n",
       "      <td>343</td>\n",
       "      <td>385</td>\n",
       "      <td>OCCURRENCE</td>\n",
       "    </tr>\n",
       "  </tbody>\n",
       "</table>\n",
       "</div>"
      ],
      "text/plain": [
       "                                         chunks  begin  end       entities\n",
       "0                                      admitted      7   14     OCCURRENCE\n",
       "1                     The John Hopkins Hospital     19   43  CLINICAL_DEPT\n",
       "2                                    2 days ago     45   54           DATE\n",
       "3                 gestational diabetes mellitus     74  102        PROBLEM\n",
       "4                                        denied    119  124     EVIDENTIAL\n",
       "5                                          pain    126  129        PROBLEM\n",
       "6                                  any headache    135  146        PROBLEM\n",
       "7                     the endocrinology service    165  189  CLINICAL_DEPT\n",
       "8                                    discharged    203  212     OCCURRENCE\n",
       "9                                    03/02/2018    217  226           DATE\n",
       "10                             insulin glargine    243  258      TREATMENT\n",
       "11                               insulin lispro    274  287      TREATMENT\n",
       "12                                    metformin    294  302      TREATMENT\n",
       "13                              two times a day    312  326      FREQUENCY\n",
       "14  follow-up with endocrinology post discharge    343  385     OCCURRENCE"
      ]
     },
     "execution_count": 16,
     "metadata": {},
     "output_type": "execute_result"
    }
   ],
   "source": [
    "import pandas as pd\n",
    "\n",
    "chunks=[]\n",
    "entities=[]\n",
    "begins=[]\n",
    "ends=[]\n",
    "\n",
    "for n in result['clinical_ner_chunks']:\n",
    "    \n",
    "    chunks.append(n.result)\n",
    "    begins.append(n.begin)\n",
    "    ends.append(n.end)\n",
    "    entities.append(n.metadata['entity']) \n",
    "        \n",
    "df = pd.DataFrame({'chunks':chunks, 'begin':begins, 'end':ends, 'entities':entities})\n",
    "\n",
    "df"
   ]
  },
  {
   "cell_type": "code",
   "execution_count": null,
   "metadata": {
    "colab": {
     "base_uri": "https://localhost:8080/",
     "height": 514
    },
    "id": "2pKbjUxEv9z3",
    "outputId": "094fc7a3-c000-4c8a-e633-3a496f257222"
   },
   "outputs": [
    {
     "data": {
      "text/html": [
       "<div>\n",
       "<style scoped>\n",
       "    .dataframe tbody tr th:only-of-type {\n",
       "        vertical-align: middle;\n",
       "    }\n",
       "\n",
       "    .dataframe tbody tr th {\n",
       "        vertical-align: top;\n",
       "    }\n",
       "\n",
       "    .dataframe thead th {\n",
       "        text-align: right;\n",
       "    }\n",
       "</style>\n",
       "<table border=\"1\" class=\"dataframe\">\n",
       "  <thead>\n",
       "    <tr style=\"text-align: right;\">\n",
       "      <th></th>\n",
       "      <th>chunks</th>\n",
       "      <th>entities</th>\n",
       "      <th>assertion</th>\n",
       "    </tr>\n",
       "  </thead>\n",
       "  <tbody>\n",
       "    <tr>\n",
       "      <th>0</th>\n",
       "      <td>admitted</td>\n",
       "      <td>OCCURRENCE</td>\n",
       "      <td>present</td>\n",
       "    </tr>\n",
       "    <tr>\n",
       "      <th>1</th>\n",
       "      <td>The John Hopkins Hospital</td>\n",
       "      <td>CLINICAL_DEPT</td>\n",
       "      <td>present</td>\n",
       "    </tr>\n",
       "    <tr>\n",
       "      <th>2</th>\n",
       "      <td>2 days ago</td>\n",
       "      <td>DATE</td>\n",
       "      <td>present</td>\n",
       "    </tr>\n",
       "    <tr>\n",
       "      <th>3</th>\n",
       "      <td>gestational diabetes mellitus</td>\n",
       "      <td>PROBLEM</td>\n",
       "      <td>present</td>\n",
       "    </tr>\n",
       "    <tr>\n",
       "      <th>4</th>\n",
       "      <td>denied</td>\n",
       "      <td>EVIDENTIAL</td>\n",
       "      <td>absent</td>\n",
       "    </tr>\n",
       "    <tr>\n",
       "      <th>5</th>\n",
       "      <td>pain</td>\n",
       "      <td>PROBLEM</td>\n",
       "      <td>absent</td>\n",
       "    </tr>\n",
       "    <tr>\n",
       "      <th>6</th>\n",
       "      <td>any headache</td>\n",
       "      <td>PROBLEM</td>\n",
       "      <td>absent</td>\n",
       "    </tr>\n",
       "    <tr>\n",
       "      <th>7</th>\n",
       "      <td>the endocrinology service</td>\n",
       "      <td>CLINICAL_DEPT</td>\n",
       "      <td>present</td>\n",
       "    </tr>\n",
       "    <tr>\n",
       "      <th>8</th>\n",
       "      <td>discharged</td>\n",
       "      <td>OCCURRENCE</td>\n",
       "      <td>present</td>\n",
       "    </tr>\n",
       "    <tr>\n",
       "      <th>9</th>\n",
       "      <td>03/02/2018</td>\n",
       "      <td>DATE</td>\n",
       "      <td>present</td>\n",
       "    </tr>\n",
       "    <tr>\n",
       "      <th>10</th>\n",
       "      <td>insulin glargine</td>\n",
       "      <td>TREATMENT</td>\n",
       "      <td>present</td>\n",
       "    </tr>\n",
       "    <tr>\n",
       "      <th>11</th>\n",
       "      <td>insulin lispro</td>\n",
       "      <td>TREATMENT</td>\n",
       "      <td>present</td>\n",
       "    </tr>\n",
       "    <tr>\n",
       "      <th>12</th>\n",
       "      <td>metformin</td>\n",
       "      <td>TREATMENT</td>\n",
       "      <td>present</td>\n",
       "    </tr>\n",
       "    <tr>\n",
       "      <th>13</th>\n",
       "      <td>two times a day</td>\n",
       "      <td>FREQUENCY</td>\n",
       "      <td>present</td>\n",
       "    </tr>\n",
       "    <tr>\n",
       "      <th>14</th>\n",
       "      <td>follow-up with endocrinology post discharge</td>\n",
       "      <td>OCCURRENCE</td>\n",
       "      <td>present</td>\n",
       "    </tr>\n",
       "  </tbody>\n",
       "</table>\n",
       "</div>"
      ],
      "text/plain": [
       "                                         chunks       entities assertion\n",
       "0                                      admitted     OCCURRENCE   present\n",
       "1                     The John Hopkins Hospital  CLINICAL_DEPT   present\n",
       "2                                    2 days ago           DATE   present\n",
       "3                 gestational diabetes mellitus        PROBLEM   present\n",
       "4                                        denied     EVIDENTIAL    absent\n",
       "5                                          pain        PROBLEM    absent\n",
       "6                                  any headache        PROBLEM    absent\n",
       "7                     the endocrinology service  CLINICAL_DEPT   present\n",
       "8                                    discharged     OCCURRENCE   present\n",
       "9                                    03/02/2018           DATE   present\n",
       "10                             insulin glargine      TREATMENT   present\n",
       "11                               insulin lispro      TREATMENT   present\n",
       "12                                    metformin      TREATMENT   present\n",
       "13                              two times a day      FREQUENCY   present\n",
       "14  follow-up with endocrinology post discharge     OCCURRENCE   present"
      ]
     },
     "execution_count": 17,
     "metadata": {},
     "output_type": "execute_result"
    }
   ],
   "source": [
    "chunks=[]\n",
    "entities=[]\n",
    "status=[]\n",
    "\n",
    "for n,m in zip(result['clinical_ner_chunks'],result['assertion']):\n",
    "    \n",
    "    chunks.append(n.result)\n",
    "    entities.append(n.metadata['entity']) \n",
    "    status.append(m.result)\n",
    "        \n",
    "df = pd.DataFrame({'chunks':chunks, 'entities':entities, 'assertion':status})\n",
    "\n",
    "df"
   ]
  },
  {
   "cell_type": "code",
   "execution_count": null,
   "metadata": {
    "id": "2OUKeMndIoK3"
   },
   "outputs": [],
   "source": [
    "import pandas as pd\n",
    "\n",
    "def get_relations_df (results, col='relations'):\n",
    "  rel_pairs=[]\n",
    "  for rel in results[0][col]:\n",
    "      rel_pairs.append((\n",
    "          rel.result, \n",
    "          rel.metadata['entity1'], \n",
    "          rel.metadata['entity1_begin'],\n",
    "          rel.metadata['entity1_end'],\n",
    "          rel.metadata['chunk1'], \n",
    "          rel.metadata['entity2'],\n",
    "          rel.metadata['entity2_begin'],\n",
    "          rel.metadata['entity2_end'],\n",
    "          rel.metadata['chunk2'], \n",
    "          rel.metadata['confidence']\n",
    "      ))\n",
    "\n",
    "  rel_df = pd.DataFrame(rel_pairs, columns=['relation','entity1','entity1_begin','entity1_end','chunk1','entity2','entity2_begin','entity2_end','chunk2', 'confidence'])\n",
    "\n",
    "  rel_df.confidence = rel_df.confidence.astype(float)\n",
    "  \n",
    "  return rel_df"
   ]
  },
  {
   "cell_type": "code",
   "execution_count": null,
   "metadata": {
    "colab": {
     "base_uri": "https://localhost:8080/",
     "height": 1000
    },
    "id": "VuNbl1nKIpao",
    "outputId": "cf86bce1-3f8c-4e93-8aec-26a7925ebb3d"
   },
   "outputs": [
    {
     "data": {
      "text/html": [
       "<div>\n",
       "<style scoped>\n",
       "    .dataframe tbody tr th:only-of-type {\n",
       "        vertical-align: middle;\n",
       "    }\n",
       "\n",
       "    .dataframe tbody tr th {\n",
       "        vertical-align: top;\n",
       "    }\n",
       "\n",
       "    .dataframe thead th {\n",
       "        text-align: right;\n",
       "    }\n",
       "</style>\n",
       "<table border=\"1\" class=\"dataframe\">\n",
       "  <thead>\n",
       "    <tr style=\"text-align: right;\">\n",
       "      <th></th>\n",
       "      <th>relation</th>\n",
       "      <th>entity1</th>\n",
       "      <th>entity1_begin</th>\n",
       "      <th>entity1_end</th>\n",
       "      <th>chunk1</th>\n",
       "      <th>entity2</th>\n",
       "      <th>entity2_begin</th>\n",
       "      <th>entity2_end</th>\n",
       "      <th>chunk2</th>\n",
       "      <th>confidence</th>\n",
       "    </tr>\n",
       "  </thead>\n",
       "  <tbody>\n",
       "    <tr>\n",
       "      <th>0</th>\n",
       "      <td>AFTER</td>\n",
       "      <td>OCCURRENCE</td>\n",
       "      <td>7</td>\n",
       "      <td>14</td>\n",
       "      <td>admitted</td>\n",
       "      <td>CLINICAL_DEPT</td>\n",
       "      <td>19</td>\n",
       "      <td>43</td>\n",
       "      <td>The John Hopkins Hospital</td>\n",
       "      <td>0.963836</td>\n",
       "    </tr>\n",
       "    <tr>\n",
       "      <th>1</th>\n",
       "      <td>BEFORE</td>\n",
       "      <td>OCCURRENCE</td>\n",
       "      <td>7</td>\n",
       "      <td>14</td>\n",
       "      <td>admitted</td>\n",
       "      <td>DATE</td>\n",
       "      <td>45</td>\n",
       "      <td>54</td>\n",
       "      <td>2 days ago</td>\n",
       "      <td>0.587098</td>\n",
       "    </tr>\n",
       "    <tr>\n",
       "      <th>2</th>\n",
       "      <td>BEFORE</td>\n",
       "      <td>OCCURRENCE</td>\n",
       "      <td>7</td>\n",
       "      <td>14</td>\n",
       "      <td>admitted</td>\n",
       "      <td>PROBLEM</td>\n",
       "      <td>74</td>\n",
       "      <td>102</td>\n",
       "      <td>gestational diabetes mellitus</td>\n",
       "      <td>0.999991</td>\n",
       "    </tr>\n",
       "    <tr>\n",
       "      <th>3</th>\n",
       "      <td>OVERLAP</td>\n",
       "      <td>CLINICAL_DEPT</td>\n",
       "      <td>19</td>\n",
       "      <td>43</td>\n",
       "      <td>The John Hopkins Hospital</td>\n",
       "      <td>DATE</td>\n",
       "      <td>45</td>\n",
       "      <td>54</td>\n",
       "      <td>2 days ago</td>\n",
       "      <td>0.996056</td>\n",
       "    </tr>\n",
       "    <tr>\n",
       "      <th>4</th>\n",
       "      <td>BEFORE</td>\n",
       "      <td>CLINICAL_DEPT</td>\n",
       "      <td>19</td>\n",
       "      <td>43</td>\n",
       "      <td>The John Hopkins Hospital</td>\n",
       "      <td>PROBLEM</td>\n",
       "      <td>74</td>\n",
       "      <td>102</td>\n",
       "      <td>gestational diabetes mellitus</td>\n",
       "      <td>0.995216</td>\n",
       "    </tr>\n",
       "    <tr>\n",
       "      <th>5</th>\n",
       "      <td>OVERLAP</td>\n",
       "      <td>DATE</td>\n",
       "      <td>45</td>\n",
       "      <td>54</td>\n",
       "      <td>2 days ago</td>\n",
       "      <td>PROBLEM</td>\n",
       "      <td>74</td>\n",
       "      <td>102</td>\n",
       "      <td>gestational diabetes mellitus</td>\n",
       "      <td>0.996954</td>\n",
       "    </tr>\n",
       "    <tr>\n",
       "      <th>6</th>\n",
       "      <td>BEFORE</td>\n",
       "      <td>EVIDENTIAL</td>\n",
       "      <td>119</td>\n",
       "      <td>124</td>\n",
       "      <td>denied</td>\n",
       "      <td>PROBLEM</td>\n",
       "      <td>126</td>\n",
       "      <td>129</td>\n",
       "      <td>pain</td>\n",
       "      <td>1.000000</td>\n",
       "    </tr>\n",
       "    <tr>\n",
       "      <th>7</th>\n",
       "      <td>BEFORE</td>\n",
       "      <td>EVIDENTIAL</td>\n",
       "      <td>119</td>\n",
       "      <td>124</td>\n",
       "      <td>denied</td>\n",
       "      <td>PROBLEM</td>\n",
       "      <td>135</td>\n",
       "      <td>146</td>\n",
       "      <td>any headache</td>\n",
       "      <td>1.000000</td>\n",
       "    </tr>\n",
       "    <tr>\n",
       "      <th>8</th>\n",
       "      <td>OVERLAP</td>\n",
       "      <td>PROBLEM</td>\n",
       "      <td>126</td>\n",
       "      <td>129</td>\n",
       "      <td>pain</td>\n",
       "      <td>PROBLEM</td>\n",
       "      <td>135</td>\n",
       "      <td>146</td>\n",
       "      <td>any headache</td>\n",
       "      <td>1.000000</td>\n",
       "    </tr>\n",
       "    <tr>\n",
       "      <th>9</th>\n",
       "      <td>BEFORE</td>\n",
       "      <td>CLINICAL_DEPT</td>\n",
       "      <td>165</td>\n",
       "      <td>189</td>\n",
       "      <td>the endocrinology service</td>\n",
       "      <td>OCCURRENCE</td>\n",
       "      <td>203</td>\n",
       "      <td>212</td>\n",
       "      <td>discharged</td>\n",
       "      <td>0.825623</td>\n",
       "    </tr>\n",
       "    <tr>\n",
       "      <th>10</th>\n",
       "      <td>OVERLAP</td>\n",
       "      <td>CLINICAL_DEPT</td>\n",
       "      <td>165</td>\n",
       "      <td>189</td>\n",
       "      <td>the endocrinology service</td>\n",
       "      <td>DATE</td>\n",
       "      <td>217</td>\n",
       "      <td>226</td>\n",
       "      <td>03/02/2018</td>\n",
       "      <td>0.999987</td>\n",
       "    </tr>\n",
       "    <tr>\n",
       "      <th>11</th>\n",
       "      <td>OVERLAP</td>\n",
       "      <td>CLINICAL_DEPT</td>\n",
       "      <td>165</td>\n",
       "      <td>189</td>\n",
       "      <td>the endocrinology service</td>\n",
       "      <td>TREATMENT</td>\n",
       "      <td>243</td>\n",
       "      <td>258</td>\n",
       "      <td>insulin glargine</td>\n",
       "      <td>0.999228</td>\n",
       "    </tr>\n",
       "    <tr>\n",
       "      <th>12</th>\n",
       "      <td>OVERLAP</td>\n",
       "      <td>CLINICAL_DEPT</td>\n",
       "      <td>165</td>\n",
       "      <td>189</td>\n",
       "      <td>the endocrinology service</td>\n",
       "      <td>TREATMENT</td>\n",
       "      <td>274</td>\n",
       "      <td>287</td>\n",
       "      <td>insulin lispro</td>\n",
       "      <td>0.999915</td>\n",
       "    </tr>\n",
       "    <tr>\n",
       "      <th>13</th>\n",
       "      <td>OVERLAP</td>\n",
       "      <td>CLINICAL_DEPT</td>\n",
       "      <td>165</td>\n",
       "      <td>189</td>\n",
       "      <td>the endocrinology service</td>\n",
       "      <td>TREATMENT</td>\n",
       "      <td>294</td>\n",
       "      <td>302</td>\n",
       "      <td>metformin</td>\n",
       "      <td>0.999801</td>\n",
       "    </tr>\n",
       "    <tr>\n",
       "      <th>14</th>\n",
       "      <td>OVERLAP</td>\n",
       "      <td>CLINICAL_DEPT</td>\n",
       "      <td>165</td>\n",
       "      <td>189</td>\n",
       "      <td>the endocrinology service</td>\n",
       "      <td>FREQUENCY</td>\n",
       "      <td>312</td>\n",
       "      <td>326</td>\n",
       "      <td>two times a day</td>\n",
       "      <td>0.994823</td>\n",
       "    </tr>\n",
       "    <tr>\n",
       "      <th>15</th>\n",
       "      <td>OVERLAP</td>\n",
       "      <td>OCCURRENCE</td>\n",
       "      <td>203</td>\n",
       "      <td>212</td>\n",
       "      <td>discharged</td>\n",
       "      <td>DATE</td>\n",
       "      <td>217</td>\n",
       "      <td>226</td>\n",
       "      <td>03/02/2018</td>\n",
       "      <td>1.000000</td>\n",
       "    </tr>\n",
       "    <tr>\n",
       "      <th>16</th>\n",
       "      <td>AFTER</td>\n",
       "      <td>OCCURRENCE</td>\n",
       "      <td>203</td>\n",
       "      <td>212</td>\n",
       "      <td>discharged</td>\n",
       "      <td>TREATMENT</td>\n",
       "      <td>243</td>\n",
       "      <td>258</td>\n",
       "      <td>insulin glargine</td>\n",
       "      <td>0.997138</td>\n",
       "    </tr>\n",
       "    <tr>\n",
       "      <th>17</th>\n",
       "      <td>AFTER</td>\n",
       "      <td>OCCURRENCE</td>\n",
       "      <td>203</td>\n",
       "      <td>212</td>\n",
       "      <td>discharged</td>\n",
       "      <td>TREATMENT</td>\n",
       "      <td>274</td>\n",
       "      <td>287</td>\n",
       "      <td>insulin lispro</td>\n",
       "      <td>0.983671</td>\n",
       "    </tr>\n",
       "    <tr>\n",
       "      <th>18</th>\n",
       "      <td>AFTER</td>\n",
       "      <td>OCCURRENCE</td>\n",
       "      <td>203</td>\n",
       "      <td>212</td>\n",
       "      <td>discharged</td>\n",
       "      <td>TREATMENT</td>\n",
       "      <td>294</td>\n",
       "      <td>302</td>\n",
       "      <td>metformin</td>\n",
       "      <td>0.995039</td>\n",
       "    </tr>\n",
       "    <tr>\n",
       "      <th>19</th>\n",
       "      <td>OVERLAP</td>\n",
       "      <td>OCCURRENCE</td>\n",
       "      <td>203</td>\n",
       "      <td>212</td>\n",
       "      <td>discharged</td>\n",
       "      <td>FREQUENCY</td>\n",
       "      <td>312</td>\n",
       "      <td>326</td>\n",
       "      <td>two times a day</td>\n",
       "      <td>0.663280</td>\n",
       "    </tr>\n",
       "    <tr>\n",
       "      <th>20</th>\n",
       "      <td>OVERLAP</td>\n",
       "      <td>DATE</td>\n",
       "      <td>217</td>\n",
       "      <td>226</td>\n",
       "      <td>03/02/2018</td>\n",
       "      <td>TREATMENT</td>\n",
       "      <td>243</td>\n",
       "      <td>258</td>\n",
       "      <td>insulin glargine</td>\n",
       "      <td>0.999998</td>\n",
       "    </tr>\n",
       "    <tr>\n",
       "      <th>21</th>\n",
       "      <td>OVERLAP</td>\n",
       "      <td>DATE</td>\n",
       "      <td>217</td>\n",
       "      <td>226</td>\n",
       "      <td>03/02/2018</td>\n",
       "      <td>TREATMENT</td>\n",
       "      <td>274</td>\n",
       "      <td>287</td>\n",
       "      <td>insulin lispro</td>\n",
       "      <td>0.999912</td>\n",
       "    </tr>\n",
       "    <tr>\n",
       "      <th>22</th>\n",
       "      <td>OVERLAP</td>\n",
       "      <td>DATE</td>\n",
       "      <td>217</td>\n",
       "      <td>226</td>\n",
       "      <td>03/02/2018</td>\n",
       "      <td>TREATMENT</td>\n",
       "      <td>294</td>\n",
       "      <td>302</td>\n",
       "      <td>metformin</td>\n",
       "      <td>0.999882</td>\n",
       "    </tr>\n",
       "    <tr>\n",
       "      <th>23</th>\n",
       "      <td>OVERLAP</td>\n",
       "      <td>DATE</td>\n",
       "      <td>217</td>\n",
       "      <td>226</td>\n",
       "      <td>03/02/2018</td>\n",
       "      <td>FREQUENCY</td>\n",
       "      <td>312</td>\n",
       "      <td>326</td>\n",
       "      <td>two times a day</td>\n",
       "      <td>0.953523</td>\n",
       "    </tr>\n",
       "    <tr>\n",
       "      <th>24</th>\n",
       "      <td>OVERLAP</td>\n",
       "      <td>TREATMENT</td>\n",
       "      <td>243</td>\n",
       "      <td>258</td>\n",
       "      <td>insulin glargine</td>\n",
       "      <td>TREATMENT</td>\n",
       "      <td>274</td>\n",
       "      <td>287</td>\n",
       "      <td>insulin lispro</td>\n",
       "      <td>1.000000</td>\n",
       "    </tr>\n",
       "    <tr>\n",
       "      <th>25</th>\n",
       "      <td>OVERLAP</td>\n",
       "      <td>TREATMENT</td>\n",
       "      <td>243</td>\n",
       "      <td>258</td>\n",
       "      <td>insulin glargine</td>\n",
       "      <td>TREATMENT</td>\n",
       "      <td>294</td>\n",
       "      <td>302</td>\n",
       "      <td>metformin</td>\n",
       "      <td>1.000000</td>\n",
       "    </tr>\n",
       "    <tr>\n",
       "      <th>26</th>\n",
       "      <td>OVERLAP</td>\n",
       "      <td>TREATMENT</td>\n",
       "      <td>243</td>\n",
       "      <td>258</td>\n",
       "      <td>insulin glargine</td>\n",
       "      <td>FREQUENCY</td>\n",
       "      <td>312</td>\n",
       "      <td>326</td>\n",
       "      <td>two times a day</td>\n",
       "      <td>0.980345</td>\n",
       "    </tr>\n",
       "    <tr>\n",
       "      <th>27</th>\n",
       "      <td>OVERLAP</td>\n",
       "      <td>TREATMENT</td>\n",
       "      <td>274</td>\n",
       "      <td>287</td>\n",
       "      <td>insulin lispro</td>\n",
       "      <td>TREATMENT</td>\n",
       "      <td>294</td>\n",
       "      <td>302</td>\n",
       "      <td>metformin</td>\n",
       "      <td>1.000000</td>\n",
       "    </tr>\n",
       "    <tr>\n",
       "      <th>28</th>\n",
       "      <td>OVERLAP</td>\n",
       "      <td>TREATMENT</td>\n",
       "      <td>274</td>\n",
       "      <td>287</td>\n",
       "      <td>insulin lispro</td>\n",
       "      <td>FREQUENCY</td>\n",
       "      <td>312</td>\n",
       "      <td>326</td>\n",
       "      <td>two times a day</td>\n",
       "      <td>1.000000</td>\n",
       "    </tr>\n",
       "    <tr>\n",
       "      <th>29</th>\n",
       "      <td>OVERLAP</td>\n",
       "      <td>TREATMENT</td>\n",
       "      <td>294</td>\n",
       "      <td>302</td>\n",
       "      <td>metformin</td>\n",
       "      <td>FREQUENCY</td>\n",
       "      <td>312</td>\n",
       "      <td>326</td>\n",
       "      <td>two times a day</td>\n",
       "      <td>1.000000</td>\n",
       "    </tr>\n",
       "  </tbody>\n",
       "</table>\n",
       "</div>"
      ],
      "text/plain": [
       "   relation        entity1  ...                         chunk2 confidence\n",
       "0     AFTER     OCCURRENCE  ...      The John Hopkins Hospital   0.963836\n",
       "1    BEFORE     OCCURRENCE  ...                     2 days ago   0.587098\n",
       "2    BEFORE     OCCURRENCE  ...  gestational diabetes mellitus   0.999991\n",
       "3   OVERLAP  CLINICAL_DEPT  ...                     2 days ago   0.996056\n",
       "4    BEFORE  CLINICAL_DEPT  ...  gestational diabetes mellitus   0.995216\n",
       "5   OVERLAP           DATE  ...  gestational diabetes mellitus   0.996954\n",
       "6    BEFORE     EVIDENTIAL  ...                           pain   1.000000\n",
       "7    BEFORE     EVIDENTIAL  ...                   any headache   1.000000\n",
       "8   OVERLAP        PROBLEM  ...                   any headache   1.000000\n",
       "9    BEFORE  CLINICAL_DEPT  ...                     discharged   0.825623\n",
       "10  OVERLAP  CLINICAL_DEPT  ...                     03/02/2018   0.999987\n",
       "11  OVERLAP  CLINICAL_DEPT  ...               insulin glargine   0.999228\n",
       "12  OVERLAP  CLINICAL_DEPT  ...                 insulin lispro   0.999915\n",
       "13  OVERLAP  CLINICAL_DEPT  ...                      metformin   0.999801\n",
       "14  OVERLAP  CLINICAL_DEPT  ...                two times a day   0.994823\n",
       "15  OVERLAP     OCCURRENCE  ...                     03/02/2018   1.000000\n",
       "16    AFTER     OCCURRENCE  ...               insulin glargine   0.997138\n",
       "17    AFTER     OCCURRENCE  ...                 insulin lispro   0.983671\n",
       "18    AFTER     OCCURRENCE  ...                      metformin   0.995039\n",
       "19  OVERLAP     OCCURRENCE  ...                two times a day   0.663280\n",
       "20  OVERLAP           DATE  ...               insulin glargine   0.999998\n",
       "21  OVERLAP           DATE  ...                 insulin lispro   0.999912\n",
       "22  OVERLAP           DATE  ...                      metformin   0.999882\n",
       "23  OVERLAP           DATE  ...                two times a day   0.953523\n",
       "24  OVERLAP      TREATMENT  ...                 insulin lispro   1.000000\n",
       "25  OVERLAP      TREATMENT  ...                      metformin   1.000000\n",
       "26  OVERLAP      TREATMENT  ...                two times a day   0.980345\n",
       "27  OVERLAP      TREATMENT  ...                      metformin   1.000000\n",
       "28  OVERLAP      TREATMENT  ...                two times a day   1.000000\n",
       "29  OVERLAP      TREATMENT  ...                two times a day   1.000000\n",
       "\n",
       "[30 rows x 10 columns]"
      ]
     },
     "execution_count": 19,
     "metadata": {},
     "output_type": "execute_result"
    }
   ],
   "source": [
    "annotations = era_pipeline.fullAnnotate(text)\n",
    "\n",
    "rel_df = get_relations_df (annotations, 'clinical_relations')\n",
    "\n",
    "rel_df"
   ]
  },
  {
   "cell_type": "code",
   "execution_count": null,
   "metadata": {
    "colab": {
     "base_uri": "https://localhost:8080/"
    },
    "id": "BloDyf6ZIxY0",
    "outputId": "47faa8c9-1ecc-48c4-e8bb-90b59d7b06ab"
   },
   "outputs": [
    {
     "data": {
      "text/plain": [
       "[Annotation(category, 7, 43, AFTER, {'chunk2': 'The John Hopkins Hospital', 'confidence': '0.9638356', 'entity2_end': '43', 'chunk1': 'admitted', 'entity2_begin': '19', 'entity1': 'OCCURRENCE', 'entity1_begin': '7', 'entity1_end': '14', 'entity2': 'CLINICAL_DEPT'}),\n",
       " Annotation(category, 7, 54, BEFORE, {'chunk2': '2 days ago', 'confidence': '0.5870984', 'entity2_end': '54', 'chunk1': 'admitted', 'entity2_begin': '45', 'entity1': 'OCCURRENCE', 'entity1_begin': '7', 'entity1_end': '14', 'entity2': 'DATE'}),\n",
       " Annotation(category, 7, 102, BEFORE, {'chunk2': 'gestational diabetes mellitus', 'confidence': '0.9999908', 'entity2_end': '102', 'chunk1': 'admitted', 'entity2_begin': '74', 'entity1': 'OCCURRENCE', 'entity1_begin': '7', 'entity1_end': '14', 'entity2': 'PROBLEM'}),\n",
       " Annotation(category, 19, 54, OVERLAP, {'chunk2': '2 days ago', 'confidence': '0.9960561', 'entity2_end': '54', 'chunk1': 'The John Hopkins Hospital', 'entity2_begin': '45', 'entity1': 'CLINICAL_DEPT', 'entity1_begin': '19', 'entity1_end': '43', 'entity2': 'DATE'}),\n",
       " Annotation(category, 19, 102, BEFORE, {'chunk2': 'gestational diabetes mellitus', 'confidence': '0.9952165', 'entity2_end': '102', 'chunk1': 'The John Hopkins Hospital', 'entity2_begin': '74', 'entity1': 'CLINICAL_DEPT', 'entity1_begin': '19', 'entity1_end': '43', 'entity2': 'PROBLEM'}),\n",
       " Annotation(category, 45, 102, OVERLAP, {'chunk2': 'gestational diabetes mellitus', 'confidence': '0.9969537', 'entity2_end': '102', 'chunk1': '2 days ago', 'entity2_begin': '74', 'entity1': 'DATE', 'entity1_begin': '45', 'entity1_end': '54', 'entity2': 'PROBLEM'}),\n",
       " Annotation(category, 119, 129, BEFORE, {'chunk2': 'pain', 'confidence': '1.0', 'entity2_end': '129', 'chunk1': 'denied', 'entity2_begin': '126', 'entity1': 'EVIDENTIAL', 'entity1_begin': '119', 'entity1_end': '124', 'entity2': 'PROBLEM'}),\n",
       " Annotation(category, 119, 146, BEFORE, {'chunk2': 'any headache', 'confidence': '1.0', 'entity2_end': '146', 'chunk1': 'denied', 'entity2_begin': '135', 'entity1': 'EVIDENTIAL', 'entity1_begin': '119', 'entity1_end': '124', 'entity2': 'PROBLEM'}),\n",
       " Annotation(category, 126, 146, OVERLAP, {'chunk2': 'any headache', 'confidence': '1.0', 'entity2_end': '146', 'chunk1': 'pain', 'entity2_begin': '135', 'entity1': 'PROBLEM', 'entity1_begin': '126', 'entity1_end': '129', 'entity2': 'PROBLEM'}),\n",
       " Annotation(category, 165, 212, BEFORE, {'chunk2': 'discharged', 'confidence': '0.8256234', 'entity2_end': '212', 'chunk1': 'the endocrinology service', 'entity2_begin': '203', 'entity1': 'CLINICAL_DEPT', 'entity1_begin': '165', 'entity1_end': '189', 'entity2': 'OCCURRENCE'}),\n",
       " Annotation(category, 165, 226, OVERLAP, {'chunk2': '03/02/2018', 'confidence': '0.99998677', 'entity2_end': '226', 'chunk1': 'the endocrinology service', 'entity2_begin': '217', 'entity1': 'CLINICAL_DEPT', 'entity1_begin': '165', 'entity1_end': '189', 'entity2': 'DATE'}),\n",
       " Annotation(category, 165, 258, OVERLAP, {'chunk2': 'insulin glargine', 'confidence': '0.99922824', 'entity2_end': '258', 'chunk1': 'the endocrinology service', 'entity2_begin': '243', 'entity1': 'CLINICAL_DEPT', 'entity1_begin': '165', 'entity1_end': '189', 'entity2': 'TREATMENT'}),\n",
       " Annotation(category, 165, 287, OVERLAP, {'chunk2': 'insulin lispro', 'confidence': '0.99991524', 'entity2_end': '287', 'chunk1': 'the endocrinology service', 'entity2_begin': '274', 'entity1': 'CLINICAL_DEPT', 'entity1_begin': '165', 'entity1_end': '189', 'entity2': 'TREATMENT'}),\n",
       " Annotation(category, 165, 302, OVERLAP, {'chunk2': 'metformin', 'confidence': '0.99980134', 'entity2_end': '302', 'chunk1': 'the endocrinology service', 'entity2_begin': '294', 'entity1': 'CLINICAL_DEPT', 'entity1_begin': '165', 'entity1_end': '189', 'entity2': 'TREATMENT'}),\n",
       " Annotation(category, 165, 326, OVERLAP, {'chunk2': 'two times a day', 'confidence': '0.9948226', 'entity2_end': '326', 'chunk1': 'the endocrinology service', 'entity2_begin': '312', 'entity1': 'CLINICAL_DEPT', 'entity1_begin': '165', 'entity1_end': '189', 'entity2': 'FREQUENCY'}),\n",
       " Annotation(category, 203, 226, OVERLAP, {'chunk2': '03/02/2018', 'confidence': '1.0', 'entity2_end': '226', 'chunk1': 'discharged', 'entity2_begin': '217', 'entity1': 'OCCURRENCE', 'entity1_begin': '203', 'entity1_end': '212', 'entity2': 'DATE'}),\n",
       " Annotation(category, 203, 258, AFTER, {'chunk2': 'insulin glargine', 'confidence': '0.9971378', 'entity2_end': '258', 'chunk1': 'discharged', 'entity2_begin': '243', 'entity1': 'OCCURRENCE', 'entity1_begin': '203', 'entity1_end': '212', 'entity2': 'TREATMENT'}),\n",
       " Annotation(category, 203, 287, AFTER, {'chunk2': 'insulin lispro', 'confidence': '0.9836707', 'entity2_end': '287', 'chunk1': 'discharged', 'entity2_begin': '274', 'entity1': 'OCCURRENCE', 'entity1_begin': '203', 'entity1_end': '212', 'entity2': 'TREATMENT'}),\n",
       " Annotation(category, 203, 302, AFTER, {'chunk2': 'metformin', 'confidence': '0.9950393', 'entity2_end': '302', 'chunk1': 'discharged', 'entity2_begin': '294', 'entity1': 'OCCURRENCE', 'entity1_begin': '203', 'entity1_end': '212', 'entity2': 'TREATMENT'}),\n",
       " Annotation(category, 203, 326, OVERLAP, {'chunk2': 'two times a day', 'confidence': '0.66327995', 'entity2_end': '326', 'chunk1': 'discharged', 'entity2_begin': '312', 'entity1': 'OCCURRENCE', 'entity1_begin': '203', 'entity1_end': '212', 'entity2': 'FREQUENCY'}),\n",
       " Annotation(category, 217, 258, OVERLAP, {'chunk2': 'insulin glargine', 'confidence': '0.9999982', 'entity2_end': '258', 'chunk1': '03/02/2018', 'entity2_begin': '243', 'entity1': 'DATE', 'entity1_begin': '217', 'entity1_end': '226', 'entity2': 'TREATMENT'}),\n",
       " Annotation(category, 217, 287, OVERLAP, {'chunk2': 'insulin lispro', 'confidence': '0.99991214', 'entity2_end': '287', 'chunk1': '03/02/2018', 'entity2_begin': '274', 'entity1': 'DATE', 'entity1_begin': '217', 'entity1_end': '226', 'entity2': 'TREATMENT'}),\n",
       " Annotation(category, 217, 302, OVERLAP, {'chunk2': 'metformin', 'confidence': '0.9998821', 'entity2_end': '302', 'chunk1': '03/02/2018', 'entity2_begin': '294', 'entity1': 'DATE', 'entity1_begin': '217', 'entity1_end': '226', 'entity2': 'TREATMENT'}),\n",
       " Annotation(category, 217, 326, OVERLAP, {'chunk2': 'two times a day', 'confidence': '0.9535232', 'entity2_end': '326', 'chunk1': '03/02/2018', 'entity2_begin': '312', 'entity1': 'DATE', 'entity1_begin': '217', 'entity1_end': '226', 'entity2': 'FREQUENCY'}),\n",
       " Annotation(category, 243, 287, OVERLAP, {'chunk2': 'insulin lispro', 'confidence': '1.0', 'entity2_end': '287', 'chunk1': 'insulin glargine', 'entity2_begin': '274', 'entity1': 'TREATMENT', 'entity1_begin': '243', 'entity1_end': '258', 'entity2': 'TREATMENT'}),\n",
       " Annotation(category, 243, 302, OVERLAP, {'chunk2': 'metformin', 'confidence': '1.0', 'entity2_end': '302', 'chunk1': 'insulin glargine', 'entity2_begin': '294', 'entity1': 'TREATMENT', 'entity1_begin': '243', 'entity1_end': '258', 'entity2': 'TREATMENT'}),\n",
       " Annotation(category, 243, 326, OVERLAP, {'chunk2': 'two times a day', 'confidence': '0.98034453', 'entity2_end': '326', 'chunk1': 'insulin glargine', 'entity2_begin': '312', 'entity1': 'TREATMENT', 'entity1_begin': '243', 'entity1_end': '258', 'entity2': 'FREQUENCY'}),\n",
       " Annotation(category, 274, 302, OVERLAP, {'chunk2': 'metformin', 'confidence': '1.0', 'entity2_end': '302', 'chunk1': 'insulin lispro', 'entity2_begin': '294', 'entity1': 'TREATMENT', 'entity1_begin': '274', 'entity1_end': '287', 'entity2': 'TREATMENT'}),\n",
       " Annotation(category, 274, 326, OVERLAP, {'chunk2': 'two times a day', 'confidence': '1.0', 'entity2_end': '326', 'chunk1': 'insulin lispro', 'entity2_begin': '312', 'entity1': 'TREATMENT', 'entity1_begin': '274', 'entity1_end': '287', 'entity2': 'FREQUENCY'}),\n",
       " Annotation(category, 294, 326, OVERLAP, {'chunk2': 'two times a day', 'confidence': '1.0', 'entity2_end': '326', 'chunk1': 'metformin', 'entity2_begin': '312', 'entity1': 'TREATMENT', 'entity1_begin': '294', 'entity1_end': '302', 'entity2': 'FREQUENCY'})]"
      ]
     },
     "execution_count": 20,
     "metadata": {},
     "output_type": "execute_result"
    }
   ],
   "source": [
    "annotations[0]['clinical_relations']"
   ]
  },
  {
   "cell_type": "markdown",
   "metadata": {
    "id": "TFBWJmXlMue8"
   },
   "source": [
    "## 3.explain_clinical_doc_ade \n",
    "\n",
    "A pipeline for `Adverse Drug Events (ADE)` with `ner_ade_healthcare`, and `classifierdl_ade_biobert`. It will extract `ADE` and `DRUG` clinical entities, and then assign ADE status to a text(`True` means ADE, `False` means not related to ADE). Also extracts relations between `DRUG` and `ADE` entities (`1` means the adverse event and drug entities are related, `0` is not related)."
   ]
  },
  {
   "cell_type": "code",
   "execution_count": null,
   "metadata": {
    "colab": {
     "base_uri": "https://localhost:8080/"
    },
    "id": "oYaFInzXM0Gw",
    "outputId": "68808cf9-bfa1-41a4-8ae1-83ffad413025"
   },
   "outputs": [
    {
     "name": "stdout",
     "output_type": "stream",
     "text": [
      "explain_clinical_doc_ade download started this may take some time.\n",
      "Approx size to download 462.3 MB\n",
      "[OK!]\n"
     ]
    }
   ],
   "source": [
    "ade_pipeline = PretrainedPipeline('explain_clinical_doc_ade', 'en', 'clinical/models')"
   ]
  },
  {
   "cell_type": "code",
   "execution_count": null,
   "metadata": {
    "colab": {
     "base_uri": "https://localhost:8080/"
    },
    "id": "D4MaO6YIsbS5",
    "outputId": "ea1f96d9-d440-4e75-97e8-78ed0326905f"
   },
   "outputs": [
    {
     "data": {
      "text/plain": [
       "dict_keys(['bert_sentence_embeddings', 'bert_embeddings', 'document', 'ner_chunks_ade_assertion', 'ner_tags_ade', 'relations_ade_drug', 'ner_chunks_ade', 'assertion_ade', 'tokens', 'class', 'pos_tags', 'dependencies'])"
      ]
     },
     "execution_count": 22,
     "metadata": {},
     "output_type": "execute_result"
    }
   ],
   "source": [
    "result = ade_pipeline.fullAnnotate(\"The main adverse effects of Leflunomide consist of diarrhea, nausea, liver enzyme elevation, hypertension, alopecia, and allergic skin reactions.\")\n",
    "\n",
    "result[0].keys()"
   ]
  },
  {
   "cell_type": "code",
   "execution_count": null,
   "metadata": {
    "colab": {
     "base_uri": "https://localhost:8080/"
    },
    "id": "ACvoR5uZfV1x",
    "outputId": "aff4866a-c5cb-49e5-ab50-20bb8b689f07"
   },
   "outputs": [
    {
     "data": {
      "text/plain": [
       "{'sentence': '0', 'False': '0.0033158972', 'True': '0.99668413'}"
      ]
     },
     "execution_count": 23,
     "metadata": {},
     "output_type": "execute_result"
    }
   ],
   "source": [
    "result[0]['class'][0].metadata"
   ]
  },
  {
   "cell_type": "code",
   "execution_count": null,
   "metadata": {
    "colab": {
     "base_uri": "https://localhost:8080/",
     "height": 292
    },
    "id": "uiZWyLFuum9g",
    "outputId": "ab665d43-d2d6-44d1-d392-a006f990de23"
   },
   "outputs": [
    {
     "name": "stdout",
     "output_type": "stream",
     "text": [
      "sentence: Jaw,neck, low back and hip pains. Numbness in legs and arms. Took about a month for the same symptoms to begin with Vytorin. The pravachol started the pains again in about 3 months. I stopped taking all statin drungs. Still hurting after 2 months of stopping. Be careful taking this drug.\n",
      "\n",
      "ADE status: True\n",
      "prediction probability>> True :  0.99863094 False:  0.0013689838\n"
     ]
    },
    {
     "data": {
      "text/html": [
       "<div>\n",
       "<style scoped>\n",
       "    .dataframe tbody tr th:only-of-type {\n",
       "        vertical-align: middle;\n",
       "    }\n",
       "\n",
       "    .dataframe tbody tr th {\n",
       "        vertical-align: top;\n",
       "    }\n",
       "\n",
       "    .dataframe thead th {\n",
       "        text-align: right;\n",
       "    }\n",
       "</style>\n",
       "<table border=\"1\" class=\"dataframe\">\n",
       "  <thead>\n",
       "    <tr style=\"text-align: right;\">\n",
       "      <th></th>\n",
       "      <th>chunks</th>\n",
       "      <th>entities</th>\n",
       "      <th>begin</th>\n",
       "      <th>end</th>\n",
       "    </tr>\n",
       "  </thead>\n",
       "  <tbody>\n",
       "    <tr>\n",
       "      <th>0</th>\n",
       "      <td>Jaw,neck, low back and hip pains</td>\n",
       "      <td>ADE</td>\n",
       "      <td>0</td>\n",
       "      <td>31</td>\n",
       "    </tr>\n",
       "    <tr>\n",
       "      <th>1</th>\n",
       "      <td>Numbness</td>\n",
       "      <td>ADE</td>\n",
       "      <td>34</td>\n",
       "      <td>41</td>\n",
       "    </tr>\n",
       "    <tr>\n",
       "      <th>2</th>\n",
       "      <td>Vytorin</td>\n",
       "      <td>DRUG</td>\n",
       "      <td>116</td>\n",
       "      <td>122</td>\n",
       "    </tr>\n",
       "    <tr>\n",
       "      <th>3</th>\n",
       "      <td>pravachol</td>\n",
       "      <td>DRUG</td>\n",
       "      <td>129</td>\n",
       "      <td>137</td>\n",
       "    </tr>\n",
       "    <tr>\n",
       "      <th>4</th>\n",
       "      <td>pains</td>\n",
       "      <td>ADE</td>\n",
       "      <td>151</td>\n",
       "      <td>155</td>\n",
       "    </tr>\n",
       "  </tbody>\n",
       "</table>\n",
       "</div>"
      ],
      "text/plain": [
       "                             chunks entities  begin  end\n",
       "0  Jaw,neck, low back and hip pains      ADE      0   31\n",
       "1                          Numbness      ADE     34   41\n",
       "2                           Vytorin     DRUG    116  122\n",
       "3                         pravachol     DRUG    129  137\n",
       "4                             pains      ADE    151  155"
      ]
     },
     "execution_count": 24,
     "metadata": {},
     "output_type": "execute_result"
    }
   ],
   "source": [
    "text = \"Jaw,neck, low back and hip pains. Numbness in legs and arms. Took about a month for the same symptoms to begin with Vytorin. The pravachol started the pains again in about 3 months. I stopped taking all statin drungs. Still hurting after 2 months of stopping. Be careful taking this drug.\"\n",
    "\n",
    "import pandas as pd\n",
    "\n",
    "chunks = []\n",
    "entities = []\n",
    "begin =[]\n",
    "end = []\n",
    "\n",
    "print ('sentence:', text)\n",
    "print()\n",
    "\n",
    "result = ade_pipeline.fullAnnotate(text)\n",
    "\n",
    "print ('ADE status:', result[0]['class'][0].result)\n",
    "\n",
    "print ('prediction probability>> True : ', result[0]['class'][0].metadata['True'], \\\n",
    "        'False: ', result[0]['class'][0].metadata['False'])\n",
    "\n",
    "for n in result[0]['ner_chunks_ade']:\n",
    "\n",
    "    begin.append(n.begin)\n",
    "    end.append(n.end)\n",
    "    chunks.append(n.result)\n",
    "    entities.append(n.metadata['entity']) \n",
    "\n",
    "df = pd.DataFrame({'chunks':chunks, 'entities':entities,\n",
    "                'begin': begin, 'end': end})\n",
    "\n",
    "df\n"
   ]
  },
  {
   "cell_type": "markdown",
   "metadata": {
    "id": "u3ZaUbUkiF77"
   },
   "source": [
    "#### with AssertionDL"
   ]
  },
  {
   "cell_type": "code",
   "execution_count": null,
   "metadata": {
    "colab": {
     "base_uri": "https://localhost:8080/",
     "height": 224
    },
    "id": "P9UcxSIBg9C-",
    "outputId": "848889af-51ba-41d8-aa2d-8d65caada48c"
   },
   "outputs": [
    {
     "name": "stdout",
     "output_type": "stream",
     "text": [
      "I have an allergic reaction to vancomycin. \n",
      "My skin has be itchy, sore throat/burning/itchy, and numbness in tongue and gums. \n",
      "I would not recommend this drug to anyone, especially since I have never had such an adverse reaction to any other medication.\n"
     ]
    },
    {
     "data": {
      "text/html": [
       "<div>\n",
       "<style scoped>\n",
       "    .dataframe tbody tr th:only-of-type {\n",
       "        vertical-align: middle;\n",
       "    }\n",
       "\n",
       "    .dataframe tbody tr th {\n",
       "        vertical-align: top;\n",
       "    }\n",
       "\n",
       "    .dataframe thead th {\n",
       "        text-align: right;\n",
       "    }\n",
       "</style>\n",
       "<table border=\"1\" class=\"dataframe\">\n",
       "  <thead>\n",
       "    <tr style=\"text-align: right;\">\n",
       "      <th></th>\n",
       "      <th>chunks</th>\n",
       "      <th>entities</th>\n",
       "      <th>assertion</th>\n",
       "    </tr>\n",
       "  </thead>\n",
       "  <tbody>\n",
       "    <tr>\n",
       "      <th>0</th>\n",
       "      <td>allergic reaction</td>\n",
       "      <td>ADE</td>\n",
       "      <td>present</td>\n",
       "    </tr>\n",
       "    <tr>\n",
       "      <th>1</th>\n",
       "      <td>itchy</td>\n",
       "      <td>ADE</td>\n",
       "      <td>present</td>\n",
       "    </tr>\n",
       "    <tr>\n",
       "      <th>2</th>\n",
       "      <td>sore throat/burning/itchy</td>\n",
       "      <td>ADE</td>\n",
       "      <td>present</td>\n",
       "    </tr>\n",
       "    <tr>\n",
       "      <th>3</th>\n",
       "      <td>numbness in tongue and gums</td>\n",
       "      <td>ADE</td>\n",
       "      <td>present</td>\n",
       "    </tr>\n",
       "  </tbody>\n",
       "</table>\n",
       "</div>"
      ],
      "text/plain": [
       "                        chunks entities assertion\n",
       "0            allergic reaction      ADE   present\n",
       "1                        itchy      ADE   present\n",
       "2    sore throat/burning/itchy      ADE   present\n",
       "3  numbness in tongue and gums      ADE   present"
      ]
     },
     "execution_count": 25,
     "metadata": {},
     "output_type": "execute_result"
    }
   ],
   "source": [
    "import pandas as pd\n",
    "\n",
    "text = \"\"\"I have an allergic reaction to vancomycin. \n",
    "My skin has be itchy, sore throat/burning/itchy, and numbness in tongue and gums. \n",
    "I would not recommend this drug to anyone, especially since I have never had such an adverse reaction to any other medication.\"\"\"\n",
    "\n",
    "print (text)\n",
    "\n",
    "light_result = ade_pipeline.fullAnnotate(text)[0]\n",
    "\n",
    "chunks=[]\n",
    "entities=[]\n",
    "status=[]\n",
    "\n",
    "for n,m in zip(light_result['ner_chunks_ade_assertion'],light_result['assertion_ade']):\n",
    "    \n",
    "    chunks.append(n.result)\n",
    "    entities.append(n.metadata['entity']) \n",
    "    status.append(m.result)\n",
    "        \n",
    "df = pd.DataFrame({'chunks':chunks, 'entities':entities, 'assertion':status})\n",
    "\n",
    "df"
   ]
  },
  {
   "cell_type": "markdown",
   "metadata": {
    "id": "GhzptcbPvtbw"
   },
   "source": [
    "#### with Relation Extraction"
   ]
  },
  {
   "cell_type": "code",
   "execution_count": null,
   "metadata": {
    "colab": {
     "base_uri": "https://localhost:8080/",
     "height": 278
    },
    "id": "FFb1mhTmwEJB",
    "outputId": "0f7bc58b-b843-4fa8-d1b1-53557428f61f"
   },
   "outputs": [
    {
     "name": "stdout",
     "output_type": "stream",
     "text": [
      "I have Rhuematoid Arthritis for 35 yrs and have been on many arthritis meds. \n",
      "I currently am on Relefen for inflamation, Prednisone 5mg, every other day and Enbrel injections once a week. \n",
      "I have no problems from these drugs. Eight months ago, another doctor put me on Lipitor 10mg daily because my chol was 240. \n",
      "Over a period of 6 months, it went down to 159, which was great, BUT I started having terrible aching pain in my arms about that time which was radiating down my arms from my shoulder to my hands.\n",
      "\n"
     ]
    },
    {
     "data": {
      "text/html": [
       "<div>\n",
       "<style scoped>\n",
       "    .dataframe tbody tr th:only-of-type {\n",
       "        vertical-align: middle;\n",
       "    }\n",
       "\n",
       "    .dataframe tbody tr th {\n",
       "        vertical-align: top;\n",
       "    }\n",
       "\n",
       "    .dataframe thead th {\n",
       "        text-align: right;\n",
       "    }\n",
       "</style>\n",
       "<table border=\"1\" class=\"dataframe\">\n",
       "  <thead>\n",
       "    <tr style=\"text-align: right;\">\n",
       "      <th></th>\n",
       "      <th>relation</th>\n",
       "      <th>entity1</th>\n",
       "      <th>entity1_begin</th>\n",
       "      <th>entity1_end</th>\n",
       "      <th>chunk1</th>\n",
       "      <th>entity2</th>\n",
       "      <th>entity2_begin</th>\n",
       "      <th>entity2_end</th>\n",
       "      <th>chunk2</th>\n",
       "      <th>confidence</th>\n",
       "    </tr>\n",
       "  </thead>\n",
       "  <tbody>\n",
       "    <tr>\n",
       "      <th>0</th>\n",
       "      <td>0</td>\n",
       "      <td>DRUG</td>\n",
       "      <td>96</td>\n",
       "      <td>102</td>\n",
       "      <td>Relefen</td>\n",
       "      <td>ADE</td>\n",
       "      <td>409</td>\n",
       "      <td>430</td>\n",
       "      <td>aching pain in my arms</td>\n",
       "      <td>1.0</td>\n",
       "    </tr>\n",
       "    <tr>\n",
       "      <th>1</th>\n",
       "      <td>0</td>\n",
       "      <td>DRUG</td>\n",
       "      <td>121</td>\n",
       "      <td>130</td>\n",
       "      <td>Prednisone</td>\n",
       "      <td>ADE</td>\n",
       "      <td>409</td>\n",
       "      <td>430</td>\n",
       "      <td>aching pain in my arms</td>\n",
       "      <td>0.9999989</td>\n",
       "    </tr>\n",
       "    <tr>\n",
       "      <th>2</th>\n",
       "      <td>0</td>\n",
       "      <td>DRUG</td>\n",
       "      <td>157</td>\n",
       "      <td>173</td>\n",
       "      <td>Enbrel injections</td>\n",
       "      <td>ADE</td>\n",
       "      <td>409</td>\n",
       "      <td>430</td>\n",
       "      <td>aching pain in my arms</td>\n",
       "      <td>0.9999994</td>\n",
       "    </tr>\n",
       "    <tr>\n",
       "      <th>3</th>\n",
       "      <td>1</td>\n",
       "      <td>DRUG</td>\n",
       "      <td>269</td>\n",
       "      <td>275</td>\n",
       "      <td>Lipitor</td>\n",
       "      <td>ADE</td>\n",
       "      <td>409</td>\n",
       "      <td>430</td>\n",
       "      <td>aching pain in my arms</td>\n",
       "      <td>0.9999975</td>\n",
       "    </tr>\n",
       "  </tbody>\n",
       "</table>\n",
       "</div>"
      ],
      "text/plain": [
       "  relation entity1 entity1_begin  ... entity2_end                  chunk2 confidence\n",
       "0        0    DRUG            96  ...         430  aching pain in my arms        1.0\n",
       "1        0    DRUG           121  ...         430  aching pain in my arms  0.9999989\n",
       "2        0    DRUG           157  ...         430  aching pain in my arms  0.9999994\n",
       "3        1    DRUG           269  ...         430  aching pain in my arms  0.9999975\n",
       "\n",
       "[4 rows x 10 columns]"
      ]
     },
     "execution_count": 26,
     "metadata": {},
     "output_type": "execute_result"
    }
   ],
   "source": [
    "import pandas as pd\n",
    "\n",
    "text = \"\"\"I have Rhuematoid Arthritis for 35 yrs and have been on many arthritis meds. \n",
    "I currently am on Relefen for inflamation, Prednisone 5mg, every other day and Enbrel injections once a week. \n",
    "I have no problems from these drugs. Eight months ago, another doctor put me on Lipitor 10mg daily because my chol was 240. \n",
    "Over a period of 6 months, it went down to 159, which was great, BUT I started having terrible aching pain in my arms about that time which was radiating down my arms from my shoulder to my hands.\n",
    "\"\"\"\n",
    " \n",
    "print (text)\n",
    "\n",
    "results = ade_pipeline.fullAnnotate(text)\n",
    "\n",
    "rel_pairs=[]\n",
    "\n",
    "for rel in results[0][\"relations_ade_drug\"]:\n",
    "    rel_pairs.append((\n",
    "        rel.result, \n",
    "        rel.metadata['entity1'], \n",
    "        rel.metadata['entity1_begin'],\n",
    "        rel.metadata['entity1_end'],\n",
    "        rel.metadata['chunk1'], \n",
    "        rel.metadata['entity2'],\n",
    "        rel.metadata['entity2_begin'],\n",
    "        rel.metadata['entity2_end'],\n",
    "        rel.metadata['chunk2'], \n",
    "        rel.metadata['confidence']\n",
    "    ))\n",
    "\n",
    "rel_df = pd.DataFrame(rel_pairs, columns=['relation','entity1','entity1_begin','entity1_end','chunk1','entity2','entity2_begin','entity2_end','chunk2', 'confidence'])\n",
    "rel_df"
   ]
  },
  {
   "cell_type": "markdown",
   "metadata": {
    "id": "dbws3XaBhGnJ"
   },
   "source": [
    "## 4.Clinical Deidentification\n",
    "\n",
    "This pipeline can be used to deidentify PHI information from medical texts. The PHI information will be masked and obfuscated in the resulting text. The pipeline can mask and obfuscate `AGE`, `CONTACT`, `DATE`, `ID`, `LOCATION`, `NAME`, `PROFESSION`, `CITY`, `COUNTRY`, `DOCTOR`, `HOSPITAL`, `IDNUM`, `MEDICALRECORD`, `ORGANIZATION`, `PATIENT`, `PHONE`, `PROFESSION`, `STREET`, `USERNAME`, `ZIP`, `ACCOUNT`, `LICENSE`, `VIN`, `SSN`, `DLN`, `PLATE`, `IPADDR` entities."
   ]
  },
  {
   "cell_type": "code",
   "execution_count": null,
   "metadata": {
    "colab": {
     "base_uri": "https://localhost:8080/"
    },
    "id": "8TS6khzVh3RK",
    "outputId": "f4033f7d-f046-4597-8bcf-07d5432e0003"
   },
   "outputs": [
    {
     "name": "stdout",
     "output_type": "stream",
     "text": [
      "clinical_deidentification download started this may take some time.\n",
      "Approx size to download 1.6 GB\n",
      "[OK!]\n"
     ]
    }
   ],
   "source": [
    "deid_pipeline = PretrainedPipeline(\"clinical_deidentification\", \"en\", \"clinical/models\")"
   ]
  },
  {
   "cell_type": "code",
   "execution_count": null,
   "metadata": {
    "id": "YRH9Jz-nh6X1"
   },
   "outputs": [],
   "source": [
    "deid_res = deid_pipeline.annotate(\"Record date : 2093-01-13, David Hale, M.D. IP: 203.120.223.13. The driver's license no:A334455B. the SSN:324598674 and e-mail: hale@gmail.com. Name : Hendrickson, Ora MR. 25 years-old # 719435 Date : 01/13/93. Signed by Oliveira Sander, . Record date : 2079-11-09, Patient's VIN : 1HGBH41JXMN109286.\")"
   ]
  },
  {
   "cell_type": "code",
   "execution_count": null,
   "metadata": {
    "colab": {
     "base_uri": "https://localhost:8080/"
    },
    "id": "UbKdDN71xUfm",
    "outputId": "3ece70cb-4dbd-41e5-c8de-298ecb7fdb4c"
   },
   "outputs": [
    {
     "data": {
      "text/plain": [
       "dict_keys(['masked', 'obfuscated', 'ner_chunk', 'sentence'])"
      ]
     },
     "execution_count": 29,
     "metadata": {},
     "output_type": "execute_result"
    }
   ],
   "source": [
    "deid_res.keys()"
   ]
  },
  {
   "cell_type": "code",
   "execution_count": null,
   "metadata": {
    "colab": {
     "base_uri": "https://localhost:8080/",
     "height": 300
    },
    "id": "aE04m2HKlpAS",
    "outputId": "f66cc232-bcba-4273-e638-63a7511666a5"
   },
   "outputs": [
    {
     "data": {
      "text/html": [
       "<div>\n",
       "<style scoped>\n",
       "    .dataframe tbody tr th:only-of-type {\n",
       "        vertical-align: middle;\n",
       "    }\n",
       "\n",
       "    .dataframe tbody tr th {\n",
       "        vertical-align: top;\n",
       "    }\n",
       "\n",
       "    .dataframe thead th {\n",
       "        text-align: right;\n",
       "    }\n",
       "</style>\n",
       "<table border=\"1\" class=\"dataframe\">\n",
       "  <thead>\n",
       "    <tr style=\"text-align: right;\">\n",
       "      <th></th>\n",
       "      <th>Sentence</th>\n",
       "      <th>Masked</th>\n",
       "      <th>Obfuscated</th>\n",
       "    </tr>\n",
       "  </thead>\n",
       "  <tbody>\n",
       "    <tr>\n",
       "      <th>0</th>\n",
       "      <td>Record date : 2093-01-13, David Hale, M.D.</td>\n",
       "      <td>Record date : &lt;DATE&gt;, &lt;DOCTOR&gt;, M.D.</td>\n",
       "      <td>Record date : 2093-02-20, Dr Hilma Nancy, M.D.</td>\n",
       "    </tr>\n",
       "    <tr>\n",
       "      <th>1</th>\n",
       "      <td>IP: 203.120.223.13.</td>\n",
       "      <td>IP: &lt;IPADDR&gt;.</td>\n",
       "      <td>IP: 003.003.003.003.</td>\n",
       "    </tr>\n",
       "    <tr>\n",
       "      <th>2</th>\n",
       "      <td>The driver's license no:A334455B.</td>\n",
       "      <td>The driver's license &lt;DLN&gt;.</td>\n",
       "      <td>The driver's license S99921801.</td>\n",
       "    </tr>\n",
       "    <tr>\n",
       "      <th>3</th>\n",
       "      <td>the SSN:324598674 and e-mail: hale@gmail.com.</td>\n",
       "      <td>the &lt;SSN&gt; and e-mail: &lt;EMAIL&gt;.</td>\n",
       "      <td>the 999-36-5441 and e-mail: Loria@google.com.</td>\n",
       "    </tr>\n",
       "    <tr>\n",
       "      <th>4</th>\n",
       "      <td>Name : Hendrickson, Ora MR. 25 years-old # 719435 Date : 01/13/93.</td>\n",
       "      <td>Name : &lt;PATIENT&gt; MR. &lt;AGE&gt; years-old # &lt;MEDICALRECORD&gt; Date : &lt;DATE&gt;.</td>\n",
       "      <td>Name : Eda Buddle MR. 5 years-old # Z5145513 Date : 03-18-1986.</td>\n",
       "    </tr>\n",
       "    <tr>\n",
       "      <th>5</th>\n",
       "      <td>Signed by Oliveira Sander, .</td>\n",
       "      <td>Signed by &lt;DOCTOR&gt;, .</td>\n",
       "      <td>Signed by Dr Joaquim Orris, .</td>\n",
       "    </tr>\n",
       "    <tr>\n",
       "      <th>6</th>\n",
       "      <td>Record date : 2079-11-09, Patient's VIN : 1HGBH41JXMN109286.</td>\n",
       "      <td>Record date : &lt;DATE&gt;, Patient's VIN : &lt;VIN&gt;.</td>\n",
       "      <td>Record date : 2079-12-06, Patient's VIN : 5eeee44ffff555666.</td>\n",
       "    </tr>\n",
       "  </tbody>\n",
       "</table>\n",
       "</div>"
      ],
      "text/plain": [
       "                                                             Sentence  ...                                                       Obfuscated\n",
       "0                          Record date : 2093-01-13, David Hale, M.D.  ...                   Record date : 2093-02-20, Dr Hilma Nancy, M.D.\n",
       "1                                                 IP: 203.120.223.13.  ...                                             IP: 003.003.003.003.\n",
       "2                                   The driver's license no:A334455B.  ...                                  The driver's license S99921801.\n",
       "3                       the SSN:324598674 and e-mail: hale@gmail.com.  ...                    the 999-36-5441 and e-mail: Loria@google.com.\n",
       "4  Name : Hendrickson, Ora MR. 25 years-old # 719435 Date : 01/13/93.  ...  Name : Eda Buddle MR. 5 years-old # Z5145513 Date : 03-18-1986.\n",
       "5                                        Signed by Oliveira Sander, .  ...                                    Signed by Dr Joaquim Orris, .\n",
       "6        Record date : 2079-11-09, Patient's VIN : 1HGBH41JXMN109286.  ...     Record date : 2079-12-06, Patient's VIN : 5eeee44ffff555666.\n",
       "\n",
       "[7 rows x 3 columns]"
      ]
     },
     "execution_count": 30,
     "metadata": {},
     "output_type": "execute_result"
    }
   ],
   "source": [
    "pd.set_option(\"display.max_colwidth\", 100)\n",
    "\n",
    "df = pd.DataFrame(list(zip(deid_res['sentence'], deid_res['masked'], deid_res['obfuscated'])),\n",
    "                  columns = ['Sentence','Masked', 'Obfuscated'])\n",
    "df"
   ]
  },
  {
   "cell_type": "markdown",
   "metadata": {
    "id": "QBDG2m3z_A0M"
   },
   "source": [
    "## 5.NER Profiling Pipelines\n",
    "\n",
    "We can use pretrained NER profiling pipelines for exploring all the available pretrained NER models at once. In Spark NLP we have two different NER profiling pipelines;\n",
    "\n",
    "- `ner_profiling_clinical` : Returns results for clinical NER models trained with `embeddings_clinical`.\n",
    "- `ner_profiling_biobert` : Returns results for clinical NER models trained with `biobert_pubmed_base_cased`.\n",
    "\n",
    "For more examples, please check [this notebook](https://github.com/JohnSnowLabs/spark-nlp-workshop/blob/master/tutorials/Certification_Trainings/Healthcare/11.2.Pretrained_NER_Profiling_Pipelines.ipynb).\n",
    "\n",
    "\n",
    "\n"
   ]
  },
  {
   "cell_type": "markdown",
   "metadata": {
    "id": "wUoe5mEEO5Fv"
   },
   "source": [
    "**`ner_profiling_clinical` Model List**\n",
    "\n",
    "|   index | model                             |   index | model                        |   index | model                          |   index | model                           |\n",
    "|--------:|:----------------------------------|--------:|:-----------------------------|--------:|:-------------------------------|--------:|:--------------------------------|\n",
    "|       1 | [ner_ade_clinical](https://nlp.johnsnowlabs.com/2021/04/01/ner_ade_clinical_en.html)                  |      13 | [nerdl_tumour_demo](https://nlp.johnsnowlabs.com/2021/04/01/nerdl_tumour_demo_en.html)            |      25 | [ner_drugs](https://nlp.johnsnowlabs.com/2021/03/31/ner_drugs_en.html)                      |      37 | [ner_radiology_wip_clinical](https://nlp.johnsnowlabs.com/2021/04/01/ner_radiology_wip_clinical_en.html)      |\n",
    "|       2 | [ner_posology_greedy](https://nlp.johnsnowlabs.com/2021/03/31/ner_posology_greedy_en.html)               |      14 | [ner_deid_subentity_augmented](https://nlp.johnsnowlabs.com/2021/06/30/ner_deid_subentity_augmented_en.html) |      26 | [ner_deid_sd](https://nlp.johnsnowlabs.com/2021/04/01/ner_deid_sd_en.html)                    |      38 | [ner_clinical](https://nlp.johnsnowlabs.com/2020/01/30/ner_clinical_en.html)                    |\n",
    "|       3 | [ner_risk_factors](https://nlp.johnsnowlabs.com/2021/03/31/ner_risk_factors_en.html)                  |      15 | [ner_jsl_enriched](https://nlp.johnsnowlabs.com/2021/10/22/ner_jsl_enriched_en.html)             |      27 | [ner_posology_large](https://nlp.johnsnowlabs.com/2021/03/31/ner_posology_large_en.html)             |      39 | [ner_chemicals](https://nlp.johnsnowlabs.com/2021/04/01/ner_chemicals_en.html)                   |\n",
    "|       4 | [jsl_ner_wip_clinical](https://nlp.johnsnowlabs.com/2021/03/31/jsl_ner_wip_clinical_en.html)              |      16 | [ner_genetic_variants](https://nlp.johnsnowlabs.com/2021/06/25/ner_genetic_variants_en.html)         |      28 | [ner_deid_large](https://nlp.johnsnowlabs.com/2021/03/31/ner_deid_large_en.html)                 |      40 | [ner_deid_augmented](https://nlp.johnsnowlabs.com/2021/02/19/ner_deid_synthetic_en.html)              |\n",
    "|       5 | [ner_human_phenotype_gene_clinical](https://nlp.johnsnowlabs.com/2021/03/31/ner_human_phenotype_gene_clinical_en.html) |      17 | [ner_bionlp](https://nlp.johnsnowlabs.com/2021/03/31/ner_bionlp_en.html)                   |      29 | [ner_posology](https://nlp.johnsnowlabs.com/2020/04/15/ner_posology_en.html)                   |      41 | [ner_events_clinical](https://nlp.johnsnowlabs.com/2021/03/31/ner_events_clinical_en.html)             |\n",
    "|       6 | [jsl_ner_wip_greedy_clinical](https://nlp.johnsnowlabs.com/2021/03/31/jsl_ner_wip_greedy_clinical_en.html)       |      18 | [ner_measurements_clinical](https://nlp.johnsnowlabs.com/2021/04/01/ner_measurements_clinical_en.html)    |      30 | [ner_deidentify_dl](https://nlp.johnsnowlabs.com/2021/03/31/ner_deidentify_dl_en.html)              |      42 | [ner_posology_small](https://nlp.johnsnowlabs.com/2021/03/31/ner_posology_small_en.html)              |\n",
    "|       7 | [ner_cellular](https://nlp.johnsnowlabs.com/2021/03/31/ner_cellular_en.html)                      |      19 | [ner_diseases_large](https://nlp.johnsnowlabs.com/2021/04/01/ner_diseases_large_en.html)           |      31 | [ner_deid_enriched](https://nlp.johnsnowlabs.com/2021/03/31/ner_deid_enriched_en.html)              |      43 | [ner_anatomy_coarse](https://nlp.johnsnowlabs.com/2021/03/31/ner_anatomy_coarse_en.html)             |\n",
    "|       8 | [ner_cancer_genetics](https://nlp.johnsnowlabs.com/2021/03/31/ner_cancer_genetics_en.html)               |      20 | [ner_radiology](https://nlp.johnsnowlabs.com/2021/03/31/ner_radiology_en.html)                |      32 | [ner_bacterial_species](https://nlp.johnsnowlabs.com/2021/04/01/ner_bacterial_species_en.html)          |      44 | [ner_human_phenotype_go_clinical](https://nlp.johnsnowlabs.com/2020/09/21/ner_human_phenotype_go_clinical_en.html) |\n",
    "|       9 | [jsl_ner_wip_modifier_clinical](https://nlp.johnsnowlabs.com/2021/04/01/jsl_ner_wip_modifier_clinical_en.html)     |      21 | [ner_deid_augmented](https://nlp.johnsnowlabs.com/2021/03/31/ner_deid_augmented_en.html)           |      33 | [ner_drugs_large](https://nlp.johnsnowlabs.com/2021/03/31/ner_drugs_large_en.html)                |      45 | [ner_jsl_slim](https://nlp.johnsnowlabs.com/2021/08/13/ner_jsl_slim_en.html)                    |\n",
    "|      10 | [ner_drugs_greedy](https://nlp.johnsnowlabs.com/2021/03/31/ner_drugs_greedy_en.html)                  |      22 | [ner_anatomy](https://nlp.johnsnowlabs.com/2021/03/31/ner_anatomy_en.html)                  |      34 | [ner_clinical_large](https://nlp.johnsnowlabs.com/2021/03/31/ner_clinical_large_en.html)             |      46 | [ner_jsl](https://nlp.johnsnowlabs.com/2021/06/24/ner_jsl_en.html)                         |\n",
    "|      11 | [ner_deid_sd_large](https://nlp.johnsnowlabs.com/2021/04/01/ner_deid_sd_large_en.html)                 |      23 | [ner_chemprot_clinical](https://nlp.johnsnowlabs.com/2021/03/31/ner_chemprot_clinical_en.html)        |      35 | [jsl_rd_ner_wip_greedy_clinical](https://nlp.johnsnowlabs.com/2021/04/01/jsl_rd_ner_wip_greedy_clinical_en.html) |      47 | [ner_jsl_greedy](https://nlp.johnsnowlabs.com/2021/06/24/ner_jsl_greedy_en.html)                  |\n",
    "|      12 | [ner_diseases](https://nlp.johnsnowlabs.com/2021/03/31/ner_diseases_en.html)                      |      24 | [ner_posology_experimental](https://nlp.johnsnowlabs.com/2021/09/01/ner_posology_experimental_en.html)    |      36 | [ner_medmentions_coarse](https://nlp.johnsnowlabs.com/2021/04/01/ner_medmentions_coarse_en.html)         |      48 | [ner_events_admission_clinical](https://nlp.johnsnowlabs.com/2021/03/31/ner_events_admission_clinical_en.html)   |\n",
    "\n",
    "**`ner_profiling_BERT` Model List**\n",
    "\n",
    "\n",
    "\n",
    "|   index | model                  |   index | model                            |   index | model                         |\n",
    "|--------:|:-----------------------|--------:|:---------------------------------|--------:|:------------------------------|\n",
    "|       1 | [ner_cellular_biobert](https://nlp.johnsnowlabs.com/2021/04/01/ner_cellular_biobert_en.html)   |       8 | [ner_jsl_enriched_biobert](https://nlp.johnsnowlabs.com/2021/04/01/ner_jsl_enriched_biobert_en.html)         |      15 | [ner_posology_large_biobert](https://nlp.johnsnowlabs.com/2021/04/01/ner_posology_large_biobert_en.html)    |\n",
    "|       2 | [ner_diseases_biobert](https://nlp.johnsnowlabs.com/2021/04/01/ner_diseases_biobert_en.html)   |       9 | [ner_human_phenotype_go_biobert](https://nlp.johnsnowlabs.com/2021/04/01/ner_human_phenotype_go_biobert_en.html)   |      16 | [jsl_rd_ner_wip_greedy_biobert](https://nlp.johnsnowlabs.com/2021/07/26/jsl_rd_ner_wip_greedy_biobert_en.html) |\n",
    "|       3 | [ner_events_biobert](https://nlp.johnsnowlabs.com/2021/04/01/ner_events_biobert_en.html)     |      10 | [ner_deid_biobert](https://nlp.johnsnowlabs.com/2021/04/01/ner_deid_biobert_en.html)                 |      17 | [ner_posology_biobert](https://nlp.johnsnowlabs.com/2021/04/01/ner_posology_biobert_en.html)          |\n",
    "|       4 | [ner_bionlp_biobert](https://nlp.johnsnowlabs.com/2021/04/01/ner_bionlp_biobert_en.html)     |      11 | [ner_deid_enriched_biobert](https://nlp.johnsnowlabs.com/2021/04/01/ner_deid_enriched_biobert_en.html)        |      18 | [jsl_ner_wip_greedy_biobert](https://nlp.johnsnowlabs.com/2021/07/26/jsl_ner_wip_greedy_biobert_en.html)    |\n",
    "|       5 | [ner_jsl_greedy_biobert](https://nlp.johnsnowlabs.com/2021/08/13/ner_jsl_greedy_biobert_en.html) |      12 | [ner_clinical_biobert](https://nlp.johnsnowlabs.com/2021/04/01/ner_clinical_biobert_en.html)             |      19 | [ner_chemprot_biobert](https://nlp.johnsnowlabs.com/2021/04/01/ner_chemprot_biobert_en.html)          |\n",
    "|       6 | [ner_jsl_biobert](https://nlp.johnsnowlabs.com/2021/09/05/ner_jsl_biobert_en.html)        |      13 | [ner_anatomy_coarse_biobert](https://nlp.johnsnowlabs.com/2021/03/31/ner_anatomy_coarse_biobert_en.html)       |      20 | [ner_ade_biobert](https://nlp.johnsnowlabs.com/2021/04/01/ner_ade_biobert_en.html)               |\n",
    "|       7 | [ner_anatomy_biobert](https://nlp.johnsnowlabs.com/2021/04/01/ner_anatomy_biobert_en.html)    |      14 | [ner_human_phenotype_gene_biobert](https://nlp.johnsnowlabs.com/2021/04/01/ner_human_phenotype_gene_biobert_en.html) |      21 | [ner_risk_factors_biobert](https://nlp.johnsnowlabs.com/2021/04/01/ner_risk_factors_biobert_en.html)      |"
   ]
  },
  {
   "cell_type": "code",
   "execution_count": 15,
   "metadata": {
    "colab": {
     "base_uri": "https://localhost:8080/"
    },
    "executionInfo": {
     "elapsed": 3719,
     "status": "ok",
     "timestamp": 1639217607657,
     "user": {
      "displayName": "Ahmet Emin Tek",
      "photoUrl": "https://lh3.googleusercontent.com/a/default-user=s64",
      "userId": "14855809472179427810"
     },
     "user_tz": -180
    },
    "id": "y5VEZIdBINmn",
    "outputId": "19c630e8-de78-4107-9cbd-4417704b2233"
   },
   "outputs": [
    {
     "name": "stdout",
     "output_type": "stream",
     "text": [
      "ner_profiling_clinical download started this may take some time.\n",
      "Approx size to download 2.3 GB\n",
      "[OK!]\n"
     ]
    }
   ],
   "source": [
    "from sparknlp.pretrained import PretrainedPipeline\n",
    "\n",
    "clinical_profiling_pipeline = PretrainedPipeline(\"ner_profiling_clinical\", \"en\", \"clinical/models\")"
   ]
  },
  {
   "cell_type": "code",
   "execution_count": 16,
   "metadata": {
    "executionInfo": {
     "elapsed": 233,
     "status": "ok",
     "timestamp": 1639217610163,
     "user": {
      "displayName": "Ahmet Emin Tek",
      "photoUrl": "https://lh3.googleusercontent.com/a/default-user=s64",
      "userId": "14855809472179427810"
     },
     "user_tz": -180
    },
    "id": "8GYCnYmMnU-H"
   },
   "outputs": [],
   "source": [
    "text = '''A 28-year-old female with a history of gestational diabetes mellitus diagnosed eight years prior to presentation and subsequent type two diabetes mellitus ( T2DM ), one prior episode of HTG-induced pancreatitis three years prior to presentation , associated with an acute hepatitis , and obesity with a body mass index ( BMI ) of 33.5 kg/m2 , presented with a one-week history of polyuria , polydipsia , poor appetite , and vomiting .'''"
   ]
  },
  {
   "cell_type": "code",
   "execution_count": 17,
   "metadata": {
    "colab": {
     "base_uri": "https://localhost:8080/"
    },
    "executionInfo": {
     "elapsed": 5913,
     "status": "ok",
     "timestamp": 1639217617236,
     "user": {
      "displayName": "Ahmet Emin Tek",
      "photoUrl": "https://lh3.googleusercontent.com/a/default-user=s64",
      "userId": "14855809472179427810"
     },
     "user_tz": -180
    },
    "id": "5GJFg2AKpxam",
    "outputId": "f8a10dee-2685-4b67-babb-82879bae7034"
   },
   "outputs": [
    {
     "data": {
      "text/plain": [
       "dict_keys(['ner_ade_clinical_chunks', 'ner_deid_augmented', 'ner_posology_greedy_chunks', 'ner_radiology_wip_clinical', 'ner_deidentify_dl', 'ner_jsl_slim', 'ner_risk_factors_chunks', 'jsl_ner_wip_clinical_chunks', 'ner_deid_synthetic', 'ner_drugs_greedy', 'ner_human_phenotype_gene_clinical_chunks', 'ner_events_admission_clinical', 'jsl_ner_wip_greedy_clinical_chunks', 'ner_posology_greedy', 'ner_cellular_chunks', 'ner_cancer_genetics_chunks', 'ner_jsl_greedy', 'jsl_ner_wip_modifier_clinical_chunks', 'ner_drugs_greedy_chunks', 'ner_deid_sd_large_chunks', 'ner_diseases_chunks', 'ner_diseases_large', 'ner_chemprot_clinical', 'ner_posology_large', 'nerdl_tumour_demo_chunks', 'ner_deid_subentity_augmented_chunks', 'ner_jsl_enriched_chunks', 'ner_genetic_variants_chunks', 'ner_chexpert', 'ner_bionlp_chunks', 'ner_measurements_clinical_chunks', 'ner_diseases_large_chunks', 'ner_drugs_large', 'ner_clinical_large', 'ner_chemicals', 'ner_radiology_chunks', 'ner_bacterial_species', 'ner_deid_augmented_chunks', 'ner_bionlp', 'ner_anatomy_chunks', 'ner_deid_large', 'jsl_ner_wip_modifier_clinical', 'ner_chemprot_clinical_chunks', 'nerdl_tumour_demo', 'ner_posology_experimental_chunks', 'ner_cancer_genetics', 'ner_posology_small', 'ner_drugs_chunks', 'ner_deid_sd_chunks', 'ner_human_phenotype_gene_clinical', 'ner_ade_clinical', 'ner_human_phenotype_go_clinical', 'ner_risk_factors', 'ner_clinical', 'ner_posology_large_chunks', 'ner_cellular', 'ner_deid_large_chunks', 'ner_posology_chunks', 'ner_deidentify_dl_chunks', 'ner_deid_enriched_chunks', 'ner_deid_sd_large', 'jsl_ner_wip_greedy_clinical', 'ner_bacterial_species_chunks', 'ner_diseases', 'jsl_rd_ner_wip_greedy_clinical', 'ner_drugs', 'ner_drugs_large_chunks', 'ner_clinical_large_chunks', 'ner_anatomy_coarse', 'token', 'ner_medmentions_coarse', 'ner_deid_sd', 'jsl_rd_ner_wip_greedy_clinical_chunks', 'ner_medmentions_coarse_chunks', 'ner_anatomy', 'ner_deid_enriched', 'ner_deid_subentity_augmented', 'ner_radiology_wip_clinical_chunks', 'ner_clinical_chunks', 'ner_measurements_clinical', 'ner_chexpert_chunks', 'ner_chemicals_chunks', 'ner_jsl_enriched', 'ner_deid_synthetic_chunks', 'ner_events_clinical_chunks', 'ner_posology_experimental', 'jsl_ner_wip_clinical', 'ner_posology_small_chunks', 'ner_anatomy_coarse_chunks', 'ner_human_phenotype_go_clinical_chunks', 'ner_jsl', 'ner_events_clinical', 'ner_jsl_slim_chunks', 'ner_jsl_chunks', 'ner_jsl_greedy_chunks', 'ner_genetic_variants', 'ner_radiology', 'ner_posology', 'sentence', 'ner_events_admission_clinical_chunks'])"
      ]
     },
     "execution_count": 17,
     "metadata": {},
     "output_type": "execute_result"
    }
   ],
   "source": [
    "clinical_result = clinical_profiling_pipeline.fullAnnotate(text)[0]\n",
    "clinical_result.keys()"
   ]
  },
  {
   "cell_type": "code",
   "execution_count": 18,
   "metadata": {
    "executionInfo": {
     "elapsed": 264,
     "status": "ok",
     "timestamp": 1639217635923,
     "user": {
      "displayName": "Ahmet Emin Tek",
      "photoUrl": "https://lh3.googleusercontent.com/a/default-user=s64",
      "userId": "14855809472179427810"
     },
     "user_tz": -180
    },
    "id": "C99PTQiNKZtw"
   },
   "outputs": [],
   "source": [
    "import pandas as pd\n",
    "\n",
    "\n",
    "def get_results(light_result):\n",
    "\n",
    "  for i in light_result.keys():\n",
    "    \n",
    "    model_name = \"_\".join(i.split(\"_\")[:-1])\n",
    "\n",
    "    if (i == 'sentence') | (i == 'token'):\n",
    "      \n",
    "      continue\n",
    "    \n",
    "    elif len(light_result[i]) == 0:\n",
    "      \n",
    "      print(\"\\n\", \"*\"*20, model_name, \"Model Results\", \"*\"*20)\n",
    "      print(\"No Result For This Model\")\n",
    "\n",
    "    \n",
    "    else:\n",
    "\n",
    "      chunks = []\n",
    "      entities = []\n",
    "      \n",
    "      for n in (light_result[i]):\n",
    "\n",
    "        chunks.append(n.result)\n",
    "        entities.append(n.metadata['entity'])\n",
    "\n",
    "      \n",
    "      result = list(zip(chunks,entities))\n",
    "      print(\"\\n \\n\", \"*\"*20, model_name, \"Model Results\", \"*\"*20, \"\\n\")\n",
    "      print(result)\n"
   ]
  },
  {
   "cell_type": "code",
   "execution_count": 19,
   "metadata": {
    "colab": {
     "base_uri": "https://localhost:8080/"
    },
    "executionInfo": {
     "elapsed": 888,
     "status": "ok",
     "timestamp": 1639217638202,
     "user": {
      "displayName": "Ahmet Emin Tek",
      "photoUrl": "https://lh3.googleusercontent.com/a/default-user=s64",
      "userId": "14855809472179427810"
     },
     "user_tz": -180
    },
    "id": "trBEKiZRLiff",
    "outputId": "2e07c7a3-4ef4-4dfa-d3e1-a4c15766517c"
   },
   "outputs": [
    {
     "name": "stdout",
     "output_type": "stream",
     "text": [
      "\n",
      " \n",
      " ******************** ner_ade_clinical Model Results ******************** \n",
      "\n",
      "[('polydipsia', 'ADE'), ('poor appetite', 'ADE'), ('vomiting', 'ADE')]\n",
      "\n",
      " \n",
      " ******************** ner_deid Model Results ******************** \n",
      "\n",
      "[('O', None), ('O', None), ('O', None), ('O', None), ('O', None), ('O', None), ('O', None), ('O', None), ('O', None), ('O', None), ('O', None), ('O', None), ('O', None), ('O', None), ('O', None), ('O', None), ('O', None), ('O', None), ('O', None), ('O', None), ('O', None), ('O', None), ('O', None), ('O', None), ('O', None), ('O', None), ('O', None), ('O', None), ('O', None), ('O', None), ('O', None), ('O', None), ('O', None), ('O', None), ('O', None), ('O', None), ('O', None), ('O', None), ('O', None), ('O', None), ('O', None), ('O', None), ('O', None), ('O', None), ('O', None), ('O', None), ('O', None), ('O', None), ('O', None), ('O', None), ('O', None), ('O', None), ('O', None), ('O', None), ('O', None), ('O', None), ('O', None), ('O', None), ('O', None), ('O', None), ('O', None), ('O', None), ('O', None), ('O', None), ('O', None), ('O', None), ('O', None), ('O', None), ('O', None), ('O', None), ('O', None), ('O', None), ('O', None)]\n",
      "\n",
      " ******************** ner_posology_greedy Model Results ********************\n",
      "No Result For This Model\n",
      "\n",
      " \n",
      " ******************** ner_radiology_wip Model Results ******************** \n",
      "\n",
      "[('O', None), ('O', None), ('O', None), ('O', None), ('O', None), ('O', None), ('O', None), ('B-Disease_Syndrome_Disorder', None), ('I-Disease_Syndrome_Disorder', None), ('I-Disease_Syndrome_Disorder', None), ('O', None), ('O', None), ('O', None), ('O', None), ('O', None), ('O', None), ('O', None), ('O', None), ('B-Disease_Syndrome_Disorder', None), ('I-Disease_Syndrome_Disorder', None), ('I-Disease_Syndrome_Disorder', None), ('I-Disease_Syndrome_Disorder', None), ('O', None), ('B-Disease_Syndrome_Disorder', None), ('O', None), ('O', None), ('O', None), ('O', None), ('O', None), ('B-Disease_Syndrome_Disorder', None), ('I-Disease_Syndrome_Disorder', None), ('O', None), ('O', None), ('O', None), ('O', None), ('O', None), ('O', None), ('O', None), ('O', None), ('O', None), ('B-Disease_Syndrome_Disorder', None), ('I-Disease_Syndrome_Disorder', None), ('O', None), ('O', None), ('B-Disease_Syndrome_Disorder', None), ('O', None), ('O', None), ('B-BodyPart', None), ('B-Symptom', None), ('I-Symptom', None), ('O', None), ('O', None), ('O', None), ('O', None), ('B-Measurements', None), ('B-Units', None), ('O', None), ('O', None), ('O', None), ('O', None), ('O', None), ('O', None), ('O', None), ('B-Symptom', None), ('O', None), ('B-Symptom', None), ('O', None), ('B-Symptom', None), ('I-Symptom', None), ('O', None), ('O', None), ('B-Symptom', None), ('O', None)]\n",
      "\n",
      " \n",
      " ******************** ner_deidentify Model Results ******************** \n",
      "\n",
      "[('O', None), ('O', None), ('O', None), ('O', None), ('O', None), ('O', None), ('O', None), ('O', None), ('O', None), ('O', None), ('O', None), ('O', None), ('O', None), ('O', None), ('O', None), ('O', None), ('O', None), ('O', None), ('O', None), ('O', None), ('O', None), ('O', None), ('O', None), ('O', None), ('O', None), ('O', None), ('O', None), ('O', None), ('O', None), ('O', None), ('O', None), ('O', None), ('O', None), ('O', None), ('O', None), ('O', None), ('O', None), ('O', None), ('O', None), ('O', None), ('O', None), ('O', None), ('O', None), ('O', None), ('O', None), ('O', None), ('O', None), ('O', None), ('O', None), ('O', None), ('O', None), ('O', None), ('O', None), ('O', None), ('O', None), ('O', None), ('O', None), ('O', None), ('O', None), ('O', None), ('O', None), ('O', None), ('O', None), ('O', None), ('O', None), ('O', None), ('O', None), ('O', None), ('O', None), ('O', None), ('O', None), ('O', None), ('O', None)]\n",
      "\n",
      " \n",
      " ******************** ner_jsl Model Results ******************** \n",
      "\n",
      "[('O', None), ('B-Age', None), ('B-Demographics', None), ('O', None), ('O', None), ('O', None), ('O', None), ('B-Disease_Syndrome_Disorder', None), ('I-Disease_Syndrome_Disorder', None), ('I-Disease_Syndrome_Disorder', None), ('O', None), ('B-Date_Time', None), ('I-Date_Time', None), ('I-Date_Time', None), ('O', None), ('O', None), ('O', None), ('O', None), ('B-Disease_Syndrome_Disorder', None), ('I-Disease_Syndrome_Disorder', None), ('I-Disease_Syndrome_Disorder', None), ('I-Disease_Syndrome_Disorder', None), ('O', None), ('B-Disease_Syndrome_Disorder', None), ('O', None), ('O', None), ('O', None), ('O', None), ('O', None), ('B-Disease_Syndrome_Disorder', None), ('I-Disease_Syndrome_Disorder', None), ('B-Date_Time', None), ('I-Date_Time', None), ('I-Date_Time', None), ('O', None), ('O', None), ('O', None), ('O', None), ('O', None), ('O', None), ('B-Disease_Syndrome_Disorder', None), ('I-Disease_Syndrome_Disorder', None), ('O', None), ('O', None), ('B-Disease_Syndrome_Disorder', None), ('O', None), ('O', None), ('B-Symptom', None), ('I-Symptom', None), ('I-Symptom', None), ('O', None), ('B-Physical_Measurement', None), ('I-Physical_Measurement', None), ('I-Physical_Measurement', None), ('I-Physical_Measurement', None), ('I-Physical_Measurement', None), ('O', None), ('O', None), ('O', None), ('O', None), ('O', None), ('O', None), ('O', None), ('B-Symptom', None), ('O', None), ('B-Symptom', None), ('O', None), ('B-Symptom', None), ('I-Symptom', None), ('O', None), ('O', None), ('B-Symptom', None), ('O', None)]\n",
      "\n",
      " \n",
      " ******************** ner_risk_factors Model Results ******************** \n",
      "\n",
      "[('diabetes mellitus', 'DIABETES'), ('type two diabetes mellitus', 'DIABETES'), ('obesity', 'OBESE')]\n",
      "\n",
      " \n",
      " ******************** jsl_ner_wip_clinical Model Results ******************** \n",
      "\n",
      "[('28-year-old', 'Age'), ('female', 'Gender'), ('gestational diabetes mellitus', 'Diabetes'), ('eight years prior', 'RelativeDate'), ('subsequent', 'Modifier'), ('type two diabetes mellitus', 'Diabetes'), ('T2DM', 'Diabetes'), ('HTG-induced pancreatitis', 'Disease_Syndrome_Disorder'), ('three years prior', 'RelativeDate'), ('acute', 'Modifier'), ('hepatitis', 'Communicable_Disease'), ('obesity', 'Obesity'), ('body mass index', 'Symptom'), ('33.5 kg/m2', 'Weight'), ('one-week', 'Duration'), ('polyuria', 'Symptom'), ('polydipsia', 'Symptom'), ('poor appetite', 'Symptom'), ('vomiting', 'Symptom')]\n",
      "\n",
      " \n",
      " ******************** ner_deid Model Results ******************** \n",
      "\n",
      "[('O', None), ('O', None), ('O', None), ('O', None), ('O', None), ('O', None), ('O', None), ('O', None), ('O', None), ('O', None), ('O', None), ('O', None), ('O', None), ('O', None), ('O', None), ('O', None), ('O', None), ('O', None), ('O', None), ('O', None), ('O', None), ('O', None), ('O', None), ('O', None), ('O', None), ('O', None), ('O', None), ('O', None), ('O', None), ('O', None), ('O', None), ('O', None), ('O', None), ('O', None), ('O', None), ('O', None), ('O', None), ('O', None), ('O', None), ('O', None), ('O', None), ('O', None), ('O', None), ('O', None), ('O', None), ('O', None), ('O', None), ('O', None), ('O', None), ('O', None), ('O', None), ('O', None), ('O', None), ('O', None), ('O', None), ('O', None), ('O', None), ('O', None), ('O', None), ('O', None), ('O', None), ('O', None), ('O', None), ('O', None), ('O', None), ('O', None), ('O', None), ('O', None), ('O', None), ('O', None), ('O', None), ('O', None), ('O', None)]\n",
      "\n",
      " \n",
      " ******************** ner_drugs Model Results ******************** \n",
      "\n",
      "[('O', None), ('O', None), ('O', None), ('O', None), ('O', None), ('O', None), ('O', None), ('O', None), ('O', None), ('O', None), ('O', None), ('O', None), ('O', None), ('O', None), ('O', None), ('O', None), ('O', None), ('O', None), ('O', None), ('O', None), ('O', None), ('O', None), ('O', None), ('O', None), ('O', None), ('O', None), ('O', None), ('O', None), ('O', None), ('O', None), ('O', None), ('O', None), ('O', None), ('O', None), ('O', None), ('O', None), ('O', None), ('O', None), ('O', None), ('O', None), ('O', None), ('O', None), ('O', None), ('O', None), ('O', None), ('O', None), ('O', None), ('O', None), ('O', None), ('O', None), ('O', None), ('O', None), ('O', None), ('O', None), ('O', None), ('O', None), ('O', None), ('O', None), ('O', None), ('O', None), ('O', None), ('O', None), ('O', None), ('O', None), ('O', None), ('O', None), ('O', None), ('O', None), ('O', None), ('O', None), ('O', None), ('O', None), ('O', None)]\n",
      "\n",
      " \n",
      " ******************** ner_human_phenotype_gene_clinical Model Results ******************** \n",
      "\n",
      "[('type', 'GENE'), ('obesity', 'HP'), ('mass', 'GENE'), ('polyuria', 'HP'), ('polydipsia', 'HP')]\n",
      "\n",
      " \n",
      " ******************** ner_events_admission Model Results ******************** \n",
      "\n",
      "[('O', None), ('O', None), ('O', None), ('O', None), ('O', None), ('O', None), ('O', None), ('B-PROBLEM', None), ('I-PROBLEM', None), ('I-PROBLEM', None), ('O', None), ('B-DURATION', None), ('I-DURATION', None), ('O', None), ('O', None), ('B-OCCURRENCE', None), ('O', None), ('B-PROBLEM', None), ('I-PROBLEM', None), ('I-PROBLEM', None), ('I-PROBLEM', None), ('I-PROBLEM', None), ('O', None), ('B-PROBLEM', None), ('O', None), ('O', None), ('O', None), ('O', None), ('O', None), ('B-PROBLEM', None), ('I-PROBLEM', None), ('B-DURATION', None), ('I-DURATION', None), ('O', None), ('O', None), ('B-OCCURRENCE', None), ('O', None), ('O', None), ('O', None), ('B-PROBLEM', None), ('I-PROBLEM', None), ('I-PROBLEM', None), ('O', None), ('O', None), ('B-PROBLEM', None), ('O', None), ('B-PROBLEM', None), ('I-PROBLEM', None), ('I-PROBLEM', None), ('I-PROBLEM', None), ('O', None), ('B-PROBLEM', None), ('O', None), ('O', None), ('O', None), ('B-PROBLEM', None), ('O', None), ('B-OCCURRENCE', None), ('O', None), ('B-DURATION', None), ('I-DURATION', None), ('O', None), ('O', None), ('B-PROBLEM', None), ('O', None), ('B-PROBLEM', None), ('O', None), ('B-PROBLEM', None), ('I-PROBLEM', None), ('O', None), ('O', None), ('B-PROBLEM', None), ('O', None)]\n",
      "\n",
      " \n",
      " ******************** jsl_ner_wip_greedy_clinical Model Results ******************** \n",
      "\n",
      "[('28-year-old', 'Age'), ('female', 'Gender'), ('gestational diabetes mellitus', 'Diabetes'), ('eight years prior', 'RelativeDate'), ('type two diabetes mellitus', 'Diabetes'), ('T2DM', 'Diabetes'), ('HTG-induced pancreatitis', 'Disease_Syndrome_Disorder'), ('three years prior', 'RelativeDate'), ('acute hepatitis', 'Disease_Syndrome_Disorder'), ('obesity', 'Obesity'), ('body mass', 'Symptom'), ('BMI ) of 33.5 kg/m2', 'BMI'), ('one-week', 'Duration'), ('polyuria', 'Symptom'), ('polydipsia', 'Symptom'), ('poor appetite', 'Symptom'), ('vomiting', 'Symptom')]\n",
      "\n",
      " \n",
      " ******************** ner_posology Model Results ******************** \n",
      "\n",
      "[('O', None), ('O', None), ('O', None), ('O', None), ('O', None), ('O', None), ('O', None), ('O', None), ('O', None), ('O', None), ('O', None), ('O', None), ('O', None), ('O', None), ('O', None), ('O', None), ('O', None), ('O', None), ('O', None), ('O', None), ('O', None), ('O', None), ('O', None), ('O', None), ('O', None), ('O', None), ('O', None), ('O', None), ('O', None), ('O', None), ('O', None), ('O', None), ('O', None), ('O', None), ('O', None), ('O', None), ('O', None), ('O', None), ('O', None), ('O', None), ('O', None), ('O', None), ('O', None), ('O', None), ('O', None), ('O', None), ('O', None), ('O', None), ('O', None), ('O', None), ('O', None), ('O', None), ('O', None), ('O', None), ('O', None), ('O', None), ('O', None), ('O', None), ('O', None), ('O', None), ('O', None), ('O', None), ('O', None), ('O', None), ('O', None), ('O', None), ('O', None), ('O', None), ('O', None), ('O', None), ('O', None), ('O', None), ('O', None)]\n",
      "\n",
      " ******************** ner_cellular Model Results ********************\n",
      "No Result For This Model\n",
      "\n",
      " ******************** ner_cancer_genetics Model Results ********************\n",
      "No Result For This Model\n",
      "\n",
      " \n",
      " ******************** ner_jsl Model Results ******************** \n",
      "\n",
      "[('O', None), ('B-Age', None), ('B-Gender', None), ('O', None), ('O', None), ('O', None), ('O', None), ('B-Diabetes', None), ('I-Diabetes', None), ('I-Diabetes', None), ('O', None), ('B-RelativeDate', None), ('I-RelativeDate', None), ('I-RelativeDate', None), ('O', None), ('O', None), ('O', None), ('O', None), ('B-Diabetes', None), ('I-Diabetes', None), ('I-Diabetes', None), ('I-Diabetes', None), ('O', None), ('B-Diabetes', None), ('O', None), ('O', None), ('O', None), ('O', None), ('O', None), ('B-Disease_Syndrome_Disorder', None), ('I-Disease_Syndrome_Disorder', None), ('B-RelativeDate', None), ('I-RelativeDate', None), ('I-RelativeDate', None), ('O', None), ('O', None), ('O', None), ('O', None), ('O', None), ('O', None), ('B-Disease_Syndrome_Disorder', None), ('I-Disease_Syndrome_Disorder', None), ('O', None), ('O', None), ('B-Obesity', None), ('O', None), ('O', None), ('B-Symptom', None), ('I-Symptom', None), ('O', None), ('O', None), ('B-BMI', None), ('I-BMI', None), ('I-BMI', None), ('I-BMI', None), ('I-BMI', None), ('O', None), ('O', None), ('O', None), ('O', None), ('B-Duration', None), ('O', None), ('O', None), ('B-Symptom', None), ('O', None), ('B-Symptom', None), ('O', None), ('B-Symptom', None), ('I-Symptom', None), ('O', None), ('O', None), ('B-Symptom', None), ('O', None)]\n",
      "\n",
      " \n",
      " ******************** jsl_ner_wip_modifier_clinical Model Results ******************** \n",
      "\n",
      "[('28-year-old', 'Age'), ('female', 'Gender'), ('gestational diabetes mellitus', 'Diabetes'), ('eight years prior', 'RelativeDate'), ('type two diabetes mellitus', 'Diabetes'), ('T2DM', 'Diabetes'), ('HTG-induced pancreatitis', 'Disease_Syndrome_Disorder'), ('three years prior', 'RelativeDate'), ('acute hepatitis', 'Disease_Syndrome_Disorder'), ('obesity', 'Obesity'), ('body mass', 'Symptom'), ('BMI ) of 33.5 kg/m2', 'BMI'), ('one-week', 'Duration'), ('polyuria', 'Symptom'), ('polydipsia', 'Symptom'), ('poor appetite', 'Symptom'), ('vomiting', 'Symptom')]\n",
      "\n",
      " ******************** ner_drugs_greedy Model Results ********************\n",
      "No Result For This Model\n",
      "\n",
      " ******************** ner_deid_sd_large Model Results ********************\n",
      "No Result For This Model\n",
      "\n",
      " \n",
      " ******************** ner_diseases Model Results ******************** \n",
      "\n",
      "[('gestational diabetes mellitus', 'Disease'), ('diabetes mellitus', 'Disease'), ('T2DM', 'Disease'), ('HTG-induced pancreatitis', 'Disease'), ('hepatitis', 'Disease'), ('obesity', 'Disease'), ('BMI', 'Disease'), ('polyuria', 'Disease'), ('polydipsia', 'Disease'), ('poor appetite', 'Disease'), ('vomiting', 'Disease')]\n",
      "\n",
      " \n",
      " ******************** ner_diseases Model Results ******************** \n",
      "\n",
      "[('O', None), ('O', None), ('O', None), ('O', None), ('O', None), ('O', None), ('O', None), ('B-Disease', None), ('I-Disease', None), ('I-Disease', None), ('O', None), ('O', None), ('O', None), ('O', None), ('O', None), ('O', None), ('O', None), ('O', None), ('O', None), ('O', None), ('B-Disease', None), ('I-Disease', None), ('O', None), ('B-Disease', None), ('O', None), ('O', None), ('O', None), ('O', None), ('O', None), ('O', None), ('B-Disease', None), ('O', None), ('O', None), ('O', None), ('O', None), ('O', None), ('O', None), ('O', None), ('O', None), ('O', None), ('O', None), ('B-Disease', None), ('O', None), ('O', None), ('B-Disease', None), ('O', None), ('O', None), ('O', None), ('O', None), ('O', None), ('O', None), ('O', None), ('O', None), ('O', None), ('O', None), ('O', None), ('O', None), ('O', None), ('O', None), ('O', None), ('O', None), ('O', None), ('O', None), ('B-Disease', None), ('O', None), ('B-Disease', None), ('O', None), ('O', None), ('O', None), ('O', None), ('O', None), ('B-Disease', None), ('O', None)]\n",
      "\n",
      " \n",
      " ******************** ner_chemprot Model Results ******************** \n",
      "\n",
      "[('O', None), ('O', None), ('O', None), ('O', None), ('O', None), ('O', None), ('O', None), ('O', None), ('O', None), ('O', None), ('O', None), ('O', None), ('O', None), ('O', None), ('O', None), ('O', None), ('O', None), ('O', None), ('O', None), ('O', None), ('O', None), ('O', None), ('O', None), ('O', None), ('O', None), ('O', None), ('O', None), ('O', None), ('O', None), ('O', None), ('O', None), ('O', None), ('O', None), ('O', None), ('O', None), ('O', None), ('O', None), ('O', None), ('O', None), ('O', None), ('O', None), ('O', None), ('O', None), ('O', None), ('O', None), ('O', None), ('O', None), ('O', None), ('O', None), ('O', None), ('O', None), ('O', None), ('O', None), ('O', None), ('O', None), ('O', None), ('O', None), ('O', None), ('O', None), ('O', None), ('O', None), ('O', None), ('O', None), ('O', None), ('O', None), ('O', None), ('O', None), ('O', None), ('O', None), ('O', None), ('O', None), ('O', None), ('O', None)]\n",
      "\n",
      " \n",
      " ******************** ner_posology Model Results ******************** \n",
      "\n",
      "[('O', None), ('O', None), ('O', None), ('O', None), ('O', None), ('O', None), ('O', None), ('O', None), ('O', None), ('O', None), ('O', None), ('O', None), ('O', None), ('O', None), ('O', None), ('O', None), ('O', None), ('O', None), ('O', None), ('O', None), ('O', None), ('O', None), ('O', None), ('O', None), ('O', None), ('O', None), ('O', None), ('O', None), ('O', None), ('O', None), ('O', None), ('O', None), ('O', None), ('O', None), ('O', None), ('O', None), ('O', None), ('O', None), ('O', None), ('O', None), ('O', None), ('O', None), ('O', None), ('O', None), ('O', None), ('O', None), ('O', None), ('O', None), ('O', None), ('O', None), ('O', None), ('O', None), ('O', None), ('O', None), ('O', None), ('O', None), ('O', None), ('O', None), ('O', None), ('O', None), ('O', None), ('O', None), ('O', None), ('O', None), ('O', None), ('O', None), ('O', None), ('O', None), ('O', None), ('O', None), ('O', None), ('O', None), ('O', None)]\n",
      "\n",
      " ******************** nerdl_tumour_demo Model Results ********************\n",
      "No Result For This Model\n",
      "\n",
      " \n",
      " ******************** ner_deid_subentity_augmented Model Results ******************** \n",
      "\n",
      "[('28-year-old', 'AGE')]\n",
      "\n",
      " \n",
      " ******************** ner_jsl_enriched Model Results ******************** \n",
      "\n",
      "[('28-year-old', 'Age'), ('female', 'Gender'), ('gestational diabetes mellitus', 'Diabetes'), ('eight years prior', 'RelativeDate'), ('type two diabetes mellitus', 'Diabetes'), ('T2DM', 'Diabetes'), ('HTG-induced pancreatitis', 'Disease_Syndrome_Disorder'), ('three years prior', 'RelativeDate'), ('acute', 'Modifier'), ('hepatitis', 'Disease_Syndrome_Disorder'), ('obesity', 'Obesity'), ('body mass index', 'BMI'), ('BMI ) of 33.5 kg/m2', 'BMI'), ('one-week', 'Duration'), ('polyuria', 'Symptom'), ('polydipsia', 'Symptom'), ('poor appetite', 'Symptom'), ('vomiting', 'Symptom')]\n",
      "\n",
      " ******************** ner_genetic_variants Model Results ********************\n",
      "No Result For This Model\n",
      "\n",
      " \n",
      " ******************** ner Model Results ******************** \n",
      "\n",
      "[('O', None), ('O', None), ('O', None), ('O', None), ('O', None), ('O', None), ('O', None), ('O', None), ('O', None), ('O', None), ('O', None), ('O', None), ('O', None), ('O', None), ('O', None), ('O', None), ('O', None), ('O', None), ('O', None), ('O', None), ('O', None), ('O', None), ('O', None), ('O', None), ('O', None), ('O', None), ('O', None), ('O', None), ('O', None), ('O', None), ('O', None), ('O', None), ('O', None), ('O', None), ('O', None), ('O', None), ('O', None), ('O', None), ('O', None), ('O', None), ('O', None), ('O', None), ('O', None), ('O', None), ('O', None), ('O', None), ('O', None), ('O', None), ('O', None), ('O', None), ('O', None), ('O', None), ('O', None), ('O', None), ('O', None), ('O', None), ('O', None), ('O', None), ('O', None), ('O', None), ('O', None), ('O', None), ('O', None), ('O', None), ('O', None), ('O', None), ('O', None), ('O', None), ('O', None), ('O', None), ('O', None), ('O', None), ('O', None)]\n",
      "\n",
      " \n",
      " ******************** ner_bionlp Model Results ******************** \n",
      "\n",
      "[('female', 'Organism'), ('hepatitis', 'Organism')]\n",
      "\n",
      " \n",
      " ******************** ner_measurements_clinical Model Results ******************** \n",
      "\n",
      "[('33.5', 'Measurements'), ('kg/m2', 'Units')]\n",
      "\n",
      " \n",
      " ******************** ner_diseases_large Model Results ******************** \n",
      "\n",
      "[('gestational diabetes mellitus', 'Disease'), ('diabetes mellitus', 'Disease'), ('T2DM', 'Disease'), ('pancreatitis', 'Disease'), ('hepatitis', 'Disease'), ('obesity', 'Disease'), ('polyuria', 'Disease'), ('polydipsia', 'Disease'), ('vomiting', 'Disease')]\n",
      "\n",
      " \n",
      " ******************** ner_drugs Model Results ******************** \n",
      "\n",
      "[('O', None), ('O', None), ('O', None), ('O', None), ('O', None), ('O', None), ('O', None), ('O', None), ('O', None), ('O', None), ('O', None), ('O', None), ('O', None), ('O', None), ('O', None), ('O', None), ('O', None), ('O', None), ('O', None), ('O', None), ('O', None), ('O', None), ('O', None), ('O', None), ('O', None), ('O', None), ('O', None), ('O', None), ('O', None), ('O', None), ('O', None), ('O', None), ('O', None), ('O', None), ('O', None), ('O', None), ('O', None), ('O', None), ('O', None), ('O', None), ('O', None), ('O', None), ('O', None), ('O', None), ('O', None), ('O', None), ('O', None), ('O', None), ('O', None), ('O', None), ('O', None), ('O', None), ('O', None), ('O', None), ('O', None), ('O', None), ('O', None), ('O', None), ('O', None), ('O', None), ('O', None), ('O', None), ('O', None), ('O', None), ('O', None), ('O', None), ('O', None), ('O', None), ('O', None), ('O', None), ('O', None), ('O', None), ('O', None)]\n",
      "\n",
      " \n",
      " ******************** ner_clinical Model Results ******************** \n",
      "\n",
      "[('O', None), ('O', None), ('O', None), ('O', None), ('O', None), ('O', None), ('O', None), ('B-PROBLEM', None), ('I-PROBLEM', None), ('I-PROBLEM', None), ('O', None), ('O', None), ('O', None), ('O', None), ('O', None), ('O', None), ('O', None), ('B-PROBLEM', None), ('I-PROBLEM', None), ('I-PROBLEM', None), ('I-PROBLEM', None), ('I-PROBLEM', None), ('O', None), ('B-PROBLEM', None), ('O', None), ('O', None), ('O', None), ('O', None), ('O', None), ('B-PROBLEM', None), ('I-PROBLEM', None), ('O', None), ('O', None), ('O', None), ('O', None), ('O', None), ('O', None), ('O', None), ('O', None), ('B-PROBLEM', None), ('I-PROBLEM', None), ('I-PROBLEM', None), ('O', None), ('O', None), ('B-PROBLEM', None), ('O', None), ('B-PROBLEM', None), ('I-PROBLEM', None), ('I-PROBLEM', None), ('I-PROBLEM', None), ('O', None), ('B-TEST', None), ('O', None), ('O', None), ('O', None), ('O', None), ('O', None), ('O', None), ('O', None), ('O', None), ('O', None), ('O', None), ('O', None), ('B-PROBLEM', None), ('O', None), ('B-PROBLEM', None), ('O', None), ('B-PROBLEM', None), ('I-PROBLEM', None), ('O', None), ('O', None), ('B-PROBLEM', None), ('O', None)]\n",
      "\n",
      " \n",
      " ******************** ner Model Results ******************** \n",
      "\n",
      "[('O', None), ('O', None), ('O', None), ('O', None), ('O', None), ('O', None), ('O', None), ('O', None), ('O', None), ('O', None), ('O', None), ('O', None), ('O', None), ('O', None), ('O', None), ('O', None), ('O', None), ('O', None), ('O', None), ('O', None), ('O', None), ('O', None), ('O', None), ('O', None), ('O', None), ('O', None), ('O', None), ('O', None), ('O', None), ('O', None), ('O', None), ('O', None), ('O', None), ('O', None), ('O', None), ('O', None), ('O', None), ('O', None), ('O', None), ('O', None), ('O', None), ('O', None), ('O', None), ('O', None), ('O', None), ('O', None), ('O', None), ('O', None), ('O', None), ('O', None), ('O', None), ('O', None), ('O', None), ('O', None), ('O', None), ('O', None), ('O', None), ('O', None), ('O', None), ('O', None), ('O', None), ('O', None), ('O', None), ('O', None), ('O', None), ('O', None), ('O', None), ('O', None), ('O', None), ('O', None), ('O', None), ('O', None), ('O', None)]\n",
      "\n",
      " \n",
      " ******************** ner_radiology Model Results ******************** \n",
      "\n",
      "[('gestational diabetes mellitus', 'Disease_Syndrome_Disorder'), ('type two diabetes mellitus', 'Disease_Syndrome_Disorder'), ('T2DM', 'Disease_Syndrome_Disorder'), ('HTG-induced pancreatitis', 'Disease_Syndrome_Disorder'), ('acute hepatitis', 'Disease_Syndrome_Disorder'), ('obesity', 'Disease_Syndrome_Disorder'), ('body', 'BodyPart'), ('mass index', 'Symptom'), ('BMI', 'Test'), ('33.5', 'Measurements'), ('kg/m2', 'Units'), ('polyuria', 'Symptom'), ('polydipsia', 'Symptom'), ('poor appetite', 'Symptom'), ('vomiting', 'Symptom')]\n",
      "\n",
      " \n",
      " ******************** ner_bacterial Model Results ******************** \n",
      "\n",
      "[('O', None), ('O', None), ('O', None), ('O', None), ('O', None), ('O', None), ('O', None), ('O', None), ('O', None), ('O', None), ('O', None), ('O', None), ('O', None), ('O', None), ('O', None), ('O', None), ('O', None), ('O', None), ('O', None), ('O', None), ('O', None), ('O', None), ('O', None), ('O', None), ('O', None), ('O', None), ('O', None), ('O', None), ('O', None), ('O', None), ('O', None), ('O', None), ('O', None), ('O', None), ('O', None), ('O', None), ('O', None), ('O', None), ('O', None), ('O', None), ('O', None), ('O', None), ('O', None), ('O', None), ('O', None), ('O', None), ('O', None), ('O', None), ('O', None), ('O', None), ('O', None), ('O', None), ('O', None), ('O', None), ('O', None), ('O', None), ('O', None), ('O', None), ('O', None), ('O', None), ('O', None), ('O', None), ('O', None), ('O', None), ('O', None), ('O', None), ('O', None), ('O', None), ('O', None), ('O', None), ('O', None), ('O', None), ('O', None)]\n",
      "\n",
      " ******************** ner_deid_augmented Model Results ********************\n",
      "No Result For This Model\n",
      "\n",
      " \n",
      " ******************** ner Model Results ******************** \n",
      "\n",
      "[('O', None), ('O', None), ('B-Organism', None), ('O', None), ('O', None), ('O', None), ('O', None), ('O', None), ('O', None), ('O', None), ('O', None), ('O', None), ('O', None), ('O', None), ('O', None), ('O', None), ('O', None), ('O', None), ('O', None), ('O', None), ('O', None), ('O', None), ('O', None), ('O', None), ('O', None), ('O', None), ('O', None), ('O', None), ('O', None), ('O', None), ('O', None), ('O', None), ('O', None), ('O', None), ('O', None), ('O', None), ('O', None), ('O', None), ('O', None), ('O', None), ('O', None), ('B-Organism', None), ('O', None), ('O', None), ('O', None), ('O', None), ('O', None), ('O', None), ('O', None), ('O', None), ('O', None), ('O', None), ('O', None), ('O', None), ('O', None), ('O', None), ('O', None), ('O', None), ('O', None), ('O', None), ('O', None), ('O', None), ('O', None), ('O', None), ('O', None), ('O', None), ('O', None), ('O', None), ('O', None), ('O', None), ('O', None), ('O', None), ('O', None)]\n",
      "\n",
      " \n",
      " ******************** ner_anatomy Model Results ******************** \n",
      "\n",
      "[('body', 'Organism_subdivision')]\n",
      "\n",
      " \n",
      " ******************** ner_deid Model Results ******************** \n",
      "\n",
      "[('O', None), ('O', None), ('O', None), ('O', None), ('O', None), ('O', None), ('O', None), ('O', None), ('O', None), ('O', None), ('O', None), ('O', None), ('O', None), ('O', None), ('O', None), ('O', None), ('O', None), ('O', None), ('O', None), ('O', None), ('O', None), ('O', None), ('O', None), ('O', None), ('O', None), ('O', None), ('O', None), ('O', None), ('O', None), ('O', None), ('O', None), ('O', None), ('O', None), ('O', None), ('O', None), ('O', None), ('O', None), ('O', None), ('O', None), ('O', None), ('O', None), ('O', None), ('O', None), ('O', None), ('O', None), ('O', None), ('O', None), ('O', None), ('O', None), ('O', None), ('O', None), ('O', None), ('O', None), ('O', None), ('O', None), ('O', None), ('O', None), ('O', None), ('O', None), ('O', None), ('O', None), ('O', None), ('O', None), ('O', None), ('O', None), ('O', None), ('O', None), ('O', None), ('O', None), ('O', None), ('O', None), ('O', None), ('O', None)]\n",
      "\n",
      " \n",
      " ******************** jsl_ner_wip_modifier Model Results ******************** \n",
      "\n",
      "[('O', None), ('B-Age', None), ('B-Gender', None), ('O', None), ('O', None), ('O', None), ('O', None), ('B-Diabetes', None), ('I-Diabetes', None), ('I-Diabetes', None), ('O', None), ('B-RelativeDate', None), ('I-RelativeDate', None), ('I-RelativeDate', None), ('O', None), ('O', None), ('O', None), ('O', None), ('B-Diabetes', None), ('I-Diabetes', None), ('I-Diabetes', None), ('I-Diabetes', None), ('O', None), ('B-Diabetes', None), ('O', None), ('O', None), ('O', None), ('O', None), ('O', None), ('B-Disease_Syndrome_Disorder', None), ('I-Disease_Syndrome_Disorder', None), ('B-RelativeDate', None), ('I-RelativeDate', None), ('I-RelativeDate', None), ('O', None), ('O', None), ('O', None), ('O', None), ('O', None), ('O', None), ('B-Disease_Syndrome_Disorder', None), ('I-Disease_Syndrome_Disorder', None), ('O', None), ('O', None), ('B-Obesity', None), ('O', None), ('O', None), ('B-Symptom', None), ('I-Symptom', None), ('O', None), ('O', None), ('B-BMI', None), ('I-BMI', None), ('I-BMI', None), ('I-BMI', None), ('I-BMI', None), ('O', None), ('O', None), ('O', None), ('O', None), ('B-Duration', None), ('O', None), ('O', None), ('B-Symptom', None), ('O', None), ('B-Symptom', None), ('O', None), ('B-Symptom', None), ('I-Symptom', None), ('O', None), ('O', None), ('B-Symptom', None), ('O', None)]\n",
      "\n",
      " ******************** ner_chemprot_clinical Model Results ********************\n",
      "No Result For This Model\n",
      "\n",
      " \n",
      " ******************** nerdl_tumour Model Results ******************** \n",
      "\n",
      "[('O', None), ('O', None), ('O', None), ('O', None), ('O', None), ('O', None), ('O', None), ('O', None), ('O', None), ('O', None), ('O', None), ('O', None), ('O', None), ('O', None), ('O', None), ('O', None), ('O', None), ('O', None), ('O', None), ('O', None), ('O', None), ('O', None), ('O', None), ('O', None), ('O', None), ('O', None), ('O', None), ('O', None), ('O', None), ('O', None), ('O', None), ('O', None), ('O', None), ('O', None), ('O', None), ('O', None), ('O', None), ('O', None), ('O', None), ('O', None), ('O', None), ('O', None), ('O', None), ('O', None), ('O', None), ('O', None), ('O', None), ('O', None), ('O', None), ('O', None), ('O', None), ('O', None), ('O', None), ('O', None), ('O', None), ('O', None), ('O', None), ('O', None), ('O', None), ('O', None), ('O', None), ('O', None), ('O', None), ('O', None), ('O', None), ('O', None), ('O', None), ('O', None), ('O', None), ('O', None), ('O', None), ('O', None), ('O', None)]\n",
      "\n",
      " ******************** ner_posology_experimental Model Results ********************\n",
      "No Result For This Model\n",
      "\n",
      " \n",
      " ******************** ner_cancer Model Results ******************** \n",
      "\n",
      "[('O', None), ('O', None), ('O', None), ('O', None), ('O', None), ('O', None), ('O', None), ('O', None), ('O', None), ('O', None), ('O', None), ('O', None), ('O', None), ('O', None), ('O', None), ('O', None), ('O', None), ('O', None), ('O', None), ('O', None), ('O', None), ('O', None), ('O', None), ('O', None), ('O', None), ('O', None), ('O', None), ('O', None), ('O', None), ('O', None), ('O', None), ('O', None), ('O', None), ('O', None), ('O', None), ('O', None), ('O', None), ('O', None), ('O', None), ('O', None), ('O', None), ('O', None), ('O', None), ('O', None), ('O', None), ('O', None), ('O', None), ('O', None), ('O', None), ('O', None), ('O', None), ('O', None), ('O', None), ('O', None), ('O', None), ('O', None), ('O', None), ('O', None), ('O', None), ('O', None), ('O', None), ('O', None), ('O', None), ('O', None), ('O', None), ('O', None), ('O', None), ('O', None), ('O', None), ('O', None), ('O', None), ('O', None), ('O', None)]\n",
      "\n",
      " \n",
      " ******************** ner_posology Model Results ******************** \n",
      "\n",
      "[('O', None), ('O', None), ('O', None), ('O', None), ('O', None), ('O', None), ('O', None), ('O', None), ('O', None), ('O', None), ('O', None), ('O', None), ('O', None), ('O', None), ('O', None), ('O', None), ('O', None), ('O', None), ('O', None), ('O', None), ('O', None), ('O', None), ('O', None), ('O', None), ('O', None), ('O', None), ('O', None), ('O', None), ('O', None), ('O', None), ('O', None), ('O', None), ('O', None), ('O', None), ('O', None), ('O', None), ('O', None), ('O', None), ('O', None), ('O', None), ('O', None), ('O', None), ('O', None), ('O', None), ('O', None), ('O', None), ('O', None), ('O', None), ('O', None), ('O', None), ('O', None), ('O', None), ('O', None), ('O', None), ('O', None), ('O', None), ('O', None), ('O', None), ('O', None), ('O', None), ('O', None), ('O', None), ('O', None), ('O', None), ('O', None), ('O', None), ('O', None), ('O', None), ('O', None), ('O', None), ('O', None), ('O', None), ('O', None)]\n",
      "\n",
      " ******************** ner_drugs Model Results ********************\n",
      "No Result For This Model\n",
      "\n",
      " ******************** ner_deid_sd Model Results ********************\n",
      "No Result For This Model\n",
      "\n",
      " \n",
      " ******************** ner_human_phenotype_gene Model Results ******************** \n",
      "\n",
      "[('O', None), ('O', None), ('O', None), ('O', None), ('O', None), ('O', None), ('O', None), ('O', None), ('O', None), ('O', None), ('O', None), ('O', None), ('O', None), ('O', None), ('O', None), ('O', None), ('O', None), ('O', None), ('B-GENE', None), ('O', None), ('O', None), ('O', None), ('O', None), ('O', None), ('O', None), ('O', None), ('O', None), ('O', None), ('O', None), ('O', None), ('O', None), ('O', None), ('O', None), ('O', None), ('O', None), ('O', None), ('O', None), ('O', None), ('O', None), ('O', None), ('O', None), ('O', None), ('O', None), ('O', None), ('B-HP', None), ('O', None), ('O', None), ('O', None), ('B-GENE', None), ('O', None), ('O', None), ('O', None), ('O', None), ('O', None), ('O', None), ('O', None), ('O', None), ('O', None), ('O', None), ('O', None), ('O', None), ('O', None), ('O', None), ('B-HP', None), ('O', None), ('B-HP', None), ('O', None), ('O', None), ('O', None), ('O', None), ('O', None), ('O', None), ('O', None)]\n",
      "\n",
      " \n",
      " ******************** ner_ade Model Results ******************** \n",
      "\n",
      "[('O', None), ('O', None), ('O', None), ('O', None), ('O', None), ('O', None), ('O', None), ('O', None), ('O', None), ('O', None), ('O', None), ('O', None), ('O', None), ('O', None), ('O', None), ('O', None), ('O', None), ('O', None), ('O', None), ('O', None), ('O', None), ('O', None), ('O', None), ('O', None), ('O', None), ('O', None), ('O', None), ('O', None), ('O', None), ('O', None), ('O', None), ('O', None), ('O', None), ('O', None), ('O', None), ('O', None), ('O', None), ('O', None), ('O', None), ('O', None), ('O', None), ('O', None), ('O', None), ('O', None), ('O', None), ('O', None), ('O', None), ('O', None), ('O', None), ('O', None), ('O', None), ('O', None), ('O', None), ('O', None), ('O', None), ('O', None), ('O', None), ('O', None), ('O', None), ('O', None), ('O', None), ('O', None), ('O', None), ('O', None), ('O', None), ('B-ADE', None), ('O', None), ('B-ADE', None), ('I-ADE', None), ('O', None), ('O', None), ('B-ADE', None), ('O', None)]\n",
      "\n",
      " \n",
      " ******************** ner_human_phenotype_go Model Results ******************** \n",
      "\n",
      "[('O', None), ('O', None), ('O', None), ('O', None), ('O', None), ('O', None), ('O', None), ('O', None), ('O', None), ('O', None), ('O', None), ('O', None), ('O', None), ('O', None), ('O', None), ('O', None), ('O', None), ('O', None), ('O', None), ('O', None), ('O', None), ('O', None), ('O', None), ('O', None), ('O', None), ('O', None), ('O', None), ('O', None), ('O', None), ('O', None), ('O', None), ('O', None), ('O', None), ('O', None), ('O', None), ('O', None), ('O', None), ('O', None), ('O', None), ('O', None), ('O', None), ('O', None), ('O', None), ('O', None), ('B-HP', None), ('O', None), ('O', None), ('O', None), ('O', None), ('O', None), ('O', None), ('O', None), ('O', None), ('O', None), ('O', None), ('O', None), ('O', None), ('O', None), ('O', None), ('O', None), ('O', None), ('O', None), ('O', None), ('O', None), ('O', None), ('B-HP', None), ('O', None), ('O', None), ('O', None), ('O', None), ('O', None), ('B-HP', None), ('O', None)]\n",
      "\n",
      " \n",
      " ******************** ner_risk Model Results ******************** \n",
      "\n",
      "[('O', None), ('O', None), ('O', None), ('O', None), ('O', None), ('O', None), ('O', None), ('O', None), ('B-DIABETES', None), ('I-DIABETES', None), ('O', None), ('O', None), ('O', None), ('O', None), ('O', None), ('O', None), ('O', None), ('O', None), ('B-DIABETES', None), ('I-DIABETES', None), ('I-DIABETES', None), ('I-DIABETES', None), ('O', None), ('O', None), ('O', None), ('O', None), ('O', None), ('O', None), ('O', None), ('O', None), ('O', None), ('O', None), ('O', None), ('O', None), ('O', None), ('O', None), ('O', None), ('O', None), ('O', None), ('O', None), ('O', None), ('O', None), ('O', None), ('O', None), ('B-OBESE', None), ('O', None), ('O', None), ('O', None), ('O', None), ('O', None), ('O', None), ('O', None), ('O', None), ('O', None), ('O', None), ('O', None), ('O', None), ('O', None), ('O', None), ('O', None), ('O', None), ('O', None), ('O', None), ('O', None), ('O', None), ('O', None), ('O', None), ('O', None), ('O', None), ('O', None), ('O', None), ('O', None), ('O', None)]\n",
      "\n",
      " \n",
      " ******************** ner Model Results ******************** \n",
      "\n",
      "[('O', None), ('O', None), ('O', None), ('O', None), ('O', None), ('O', None), ('O', None), ('B-PROBLEM', None), ('I-PROBLEM', None), ('I-PROBLEM', None), ('O', None), ('O', None), ('O', None), ('O', None), ('O', None), ('O', None), ('O', None), ('B-PROBLEM', None), ('I-PROBLEM', None), ('I-PROBLEM', None), ('I-PROBLEM', None), ('I-PROBLEM', None), ('O', None), ('B-PROBLEM', None), ('O', None), ('O', None), ('O', None), ('O', None), ('O', None), ('B-PROBLEM', None), ('I-PROBLEM', None), ('O', None), ('O', None), ('O', None), ('O', None), ('O', None), ('O', None), ('O', None), ('O', None), ('B-PROBLEM', None), ('I-PROBLEM', None), ('I-PROBLEM', None), ('O', None), ('O', None), ('B-PROBLEM', None), ('O', None), ('B-PROBLEM', None), ('I-PROBLEM', None), ('I-PROBLEM', None), ('I-PROBLEM', None), ('O', None), ('B-TEST', None), ('O', None), ('O', None), ('O', None), ('O', None), ('O', None), ('O', None), ('O', None), ('O', None), ('O', None), ('O', None), ('O', None), ('B-PROBLEM', None), ('O', None), ('B-PROBLEM', None), ('O', None), ('B-PROBLEM', None), ('I-PROBLEM', None), ('O', None), ('O', None), ('B-PROBLEM', None), ('O', None)]\n",
      "\n",
      " ******************** ner_posology_large Model Results ********************\n",
      "No Result For This Model\n",
      "\n",
      " \n",
      " ******************** ner Model Results ******************** \n",
      "\n",
      "[('O', None), ('O', None), ('O', None), ('O', None), ('O', None), ('O', None), ('O', None), ('O', None), ('O', None), ('O', None), ('O', None), ('O', None), ('O', None), ('O', None), ('O', None), ('O', None), ('O', None), ('O', None), ('O', None), ('O', None), ('O', None), ('O', None), ('O', None), ('O', None), ('O', None), ('O', None), ('O', None), ('O', None), ('O', None), ('O', None), ('O', None), ('O', None), ('O', None), ('O', None), ('O', None), ('O', None), ('O', None), ('O', None), ('O', None), ('O', None), ('O', None), ('O', None), ('O', None), ('O', None), ('O', None), ('O', None), ('O', None), ('O', None), ('O', None), ('O', None), ('O', None), ('O', None), ('O', None), ('O', None), ('O', None), ('O', None), ('O', None), ('O', None), ('O', None), ('O', None), ('O', None), ('O', None), ('O', None), ('O', None), ('O', None), ('O', None), ('O', None), ('O', None), ('O', None), ('O', None), ('O', None), ('O', None), ('O', None)]\n",
      "\n",
      " ******************** ner_deid_large Model Results ********************\n",
      "No Result For This Model\n",
      "\n",
      " ******************** ner_posology Model Results ********************\n",
      "No Result For This Model\n",
      "\n",
      " ******************** ner_deidentify_dl Model Results ********************\n",
      "No Result For This Model\n",
      "\n",
      " ******************** ner_deid_enriched Model Results ********************\n",
      "No Result For This Model\n",
      "\n",
      " \n",
      " ******************** ner_deid_sd Model Results ******************** \n",
      "\n",
      "[('O', None), ('O', None), ('O', None), ('O', None), ('O', None), ('O', None), ('O', None), ('O', None), ('O', None), ('O', None), ('O', None), ('O', None), ('O', None), ('O', None), ('O', None), ('O', None), ('O', None), ('O', None), ('O', None), ('O', None), ('O', None), ('O', None), ('O', None), ('O', None), ('O', None), ('O', None), ('O', None), ('O', None), ('O', None), ('O', None), ('O', None), ('O', None), ('O', None), ('O', None), ('O', None), ('O', None), ('O', None), ('O', None), ('O', None), ('O', None), ('O', None), ('O', None), ('O', None), ('O', None), ('O', None), ('O', None), ('O', None), ('O', None), ('O', None), ('O', None), ('O', None), ('O', None), ('O', None), ('O', None), ('O', None), ('O', None), ('O', None), ('O', None), ('O', None), ('O', None), ('O', None), ('O', None), ('O', None), ('O', None), ('O', None), ('O', None), ('O', None), ('O', None), ('O', None), ('O', None), ('O', None), ('O', None), ('O', None)]\n",
      "\n",
      " \n",
      " ******************** jsl_ner_wip_greedy Model Results ******************** \n",
      "\n",
      "[('O', None), ('B-Age', None), ('B-Gender', None), ('O', None), ('O', None), ('O', None), ('O', None), ('B-Diabetes', None), ('I-Diabetes', None), ('I-Diabetes', None), ('O', None), ('B-RelativeDate', None), ('I-RelativeDate', None), ('I-RelativeDate', None), ('O', None), ('O', None), ('O', None), ('O', None), ('B-Diabetes', None), ('I-Diabetes', None), ('I-Diabetes', None), ('I-Diabetes', None), ('O', None), ('B-Diabetes', None), ('O', None), ('O', None), ('O', None), ('O', None), ('O', None), ('B-Disease_Syndrome_Disorder', None), ('I-Disease_Syndrome_Disorder', None), ('B-RelativeDate', None), ('I-RelativeDate', None), ('I-RelativeDate', None), ('O', None), ('O', None), ('O', None), ('O', None), ('O', None), ('O', None), ('B-Disease_Syndrome_Disorder', None), ('I-Disease_Syndrome_Disorder', None), ('O', None), ('O', None), ('B-Obesity', None), ('O', None), ('O', None), ('B-Symptom', None), ('I-Symptom', None), ('O', None), ('O', None), ('B-BMI', None), ('I-BMI', None), ('I-BMI', None), ('I-BMI', None), ('I-BMI', None), ('O', None), ('O', None), ('O', None), ('O', None), ('B-Duration', None), ('O', None), ('O', None), ('B-Symptom', None), ('O', None), ('B-Symptom', None), ('O', None), ('B-Symptom', None), ('I-Symptom', None), ('O', None), ('O', None), ('B-Symptom', None), ('O', None)]\n",
      "\n",
      " ******************** ner_bacterial_species Model Results ********************\n",
      "No Result For This Model\n",
      "\n",
      " \n",
      " ******************** ner Model Results ******************** \n",
      "\n",
      "[('O', None), ('O', None), ('O', None), ('O', None), ('O', None), ('O', None), ('O', None), ('B-Disease', None), ('I-Disease', None), ('I-Disease', None), ('O', None), ('O', None), ('O', None), ('O', None), ('O', None), ('O', None), ('O', None), ('O', None), ('O', None), ('O', None), ('B-Disease', None), ('I-Disease', None), ('O', None), ('B-Disease', None), ('O', None), ('O', None), ('O', None), ('O', None), ('O', None), ('B-Disease', None), ('I-Disease', None), ('O', None), ('O', None), ('O', None), ('O', None), ('O', None), ('O', None), ('O', None), ('O', None), ('O', None), ('O', None), ('B-Disease', None), ('O', None), ('O', None), ('B-Disease', None), ('O', None), ('O', None), ('O', None), ('O', None), ('O', None), ('O', None), ('B-Disease', None), ('O', None), ('O', None), ('O', None), ('O', None), ('O', None), ('O', None), ('O', None), ('O', None), ('O', None), ('O', None), ('O', None), ('B-Disease', None), ('O', None), ('B-Disease', None), ('O', None), ('B-Disease', None), ('I-Disease', None), ('O', None), ('O', None), ('B-Disease', None), ('O', None)]\n",
      "\n",
      " \n",
      " ******************** jsl_rd_ner_wip_greedy Model Results ******************** \n",
      "\n",
      "[('O', None), ('B-Age', None), ('B-Gender', None), ('O', None), ('O', None), ('O', None), ('O', None), ('B-Diabetes', None), ('I-Diabetes', None), ('I-Diabetes', None), ('O', None), ('B-RelativeDate', None), ('I-RelativeDate', None), ('I-RelativeDate', None), ('O', None), ('O', None), ('O', None), ('B-Diabetes', None), ('I-Diabetes', None), ('I-Diabetes', None), ('I-Diabetes', None), ('I-Diabetes', None), ('O', None), ('B-Diabetes', None), ('O', None), ('O', None), ('O', None), ('O', None), ('O', None), ('B-Disease_Syndrome_Disorder', None), ('I-Disease_Syndrome_Disorder', None), ('B-RelativeDate', None), ('I-RelativeDate', None), ('I-RelativeDate', None), ('O', None), ('O', None), ('O', None), ('O', None), ('O', None), ('O', None), ('B-Disease_Syndrome_Disorder', None), ('I-Disease_Syndrome_Disorder', None), ('O', None), ('O', None), ('B-Obesity', None), ('O', None), ('O', None), ('B-BMI', None), ('I-BMI', None), ('I-BMI', None), ('I-BMI', None), ('I-BMI', None), ('O', None), ('O', None), ('B-Weight', None), ('I-Weight', None), ('O', None), ('O', None), ('O', None), ('O', None), ('B-Duration', None), ('O', None), ('O', None), ('B-Symptom', None), ('O', None), ('B-Symptom', None), ('O', None), ('B-Symptom', None), ('I-Symptom', None), ('O', None), ('O', None), ('B-Symptom', None), ('O', None)]\n",
      "\n",
      " \n",
      " ******************** ner Model Results ******************** \n",
      "\n",
      "[('O', None), ('O', None), ('O', None), ('O', None), ('O', None), ('O', None), ('O', None), ('O', None), ('O', None), ('O', None), ('O', None), ('O', None), ('O', None), ('O', None), ('O', None), ('O', None), ('O', None), ('O', None), ('O', None), ('O', None), ('O', None), ('O', None), ('O', None), ('O', None), ('O', None), ('O', None), ('O', None), ('O', None), ('O', None), ('O', None), ('O', None), ('O', None), ('O', None), ('O', None), ('O', None), ('O', None), ('O', None), ('O', None), ('O', None), ('O', None), ('O', None), ('O', None), ('O', None), ('O', None), ('O', None), ('O', None), ('O', None), ('O', None), ('O', None), ('O', None), ('O', None), ('O', None), ('O', None), ('O', None), ('O', None), ('O', None), ('O', None), ('O', None), ('O', None), ('O', None), ('O', None), ('O', None), ('O', None), ('O', None), ('O', None), ('O', None), ('O', None), ('O', None), ('O', None), ('O', None), ('O', None), ('O', None), ('O', None)]\n",
      "\n",
      " ******************** ner_drugs_large Model Results ********************\n",
      "No Result For This Model\n",
      "\n",
      " \n",
      " ******************** ner_clinical_large Model Results ******************** \n",
      "\n",
      "[('gestational diabetes mellitus', 'PROBLEM'), ('subsequent type two diabetes mellitus', 'PROBLEM'), ('T2DM', 'PROBLEM'), ('HTG-induced pancreatitis', 'PROBLEM'), ('an acute hepatitis', 'PROBLEM'), ('obesity', 'PROBLEM'), ('a body mass index', 'PROBLEM'), ('BMI', 'TEST'), ('polyuria', 'PROBLEM'), ('polydipsia', 'PROBLEM'), ('poor appetite', 'PROBLEM'), ('vomiting', 'PROBLEM')]\n",
      "\n",
      " \n",
      " ******************** ner_anatomy Model Results ******************** \n",
      "\n",
      "[('O', None), ('O', None), ('O', None), ('O', None), ('O', None), ('O', None), ('O', None), ('O', None), ('O', None), ('O', None), ('O', None), ('O', None), ('O', None), ('O', None), ('O', None), ('O', None), ('O', None), ('O', None), ('O', None), ('O', None), ('O', None), ('O', None), ('O', None), ('O', None), ('O', None), ('O', None), ('O', None), ('O', None), ('O', None), ('O', None), ('O', None), ('O', None), ('O', None), ('O', None), ('O', None), ('O', None), ('O', None), ('O', None), ('O', None), ('O', None), ('O', None), ('O', None), ('O', None), ('O', None), ('O', None), ('O', None), ('O', None), ('B-Anatomy', None), ('O', None), ('O', None), ('O', None), ('O', None), ('O', None), ('O', None), ('O', None), ('O', None), ('O', None), ('O', None), ('O', None), ('O', None), ('O', None), ('O', None), ('O', None), ('O', None), ('O', None), ('O', None), ('O', None), ('O', None), ('O', None), ('O', None), ('O', None), ('O', None), ('O', None)]\n",
      "\n",
      " \n",
      " ******************** ner_medmentions Model Results ******************** \n",
      "\n",
      "[('O', None), ('O', None), ('B-Organism_Attribute', None), ('O', None), ('O', None), ('O', None), ('O', None), ('O', None), ('B-Disease_or_Syndrome', None), ('I-Disease_or_Syndrome', None), ('O', None), ('O', None), ('O', None), ('O', None), ('O', None), ('O', None), ('O', None), ('O', None), ('O', None), ('O', None), ('B-Disease_or_Syndrome', None), ('I-Disease_or_Syndrome', None), ('O', None), ('B-Disease_or_Syndrome', None), ('O', None), ('O', None), ('O', None), ('O', None), ('O', None), ('B-Disease_or_Syndrome', None), ('I-Disease_or_Syndrome', None), ('O', None), ('O', None), ('O', None), ('O', None), ('O', None), ('O', None), ('B-Qualitative_Concept', None), ('I-Qualitative_Concept', None), ('O', None), ('B-Disease_or_Syndrome', None), ('I-Disease_or_Syndrome', None), ('O', None), ('O', None), ('B-Disease_or_Syndrome', None), ('O', None), ('O', None), ('B-Clinical_Attribute', None), ('I-Clinical_Attribute', None), ('I-Clinical_Attribute', None), ('O', None), ('B-Clinical_Attribute', None), ('O', None), ('O', None), ('O', None), ('O', None), ('O', None), ('O', None), ('O', None), ('O', None), ('O', None), ('O', None), ('O', None), ('B-Sign_or_Symptom', None), ('O', None), ('B-Sign_or_Symptom', None), ('O', None), ('B-Sign_or_Symptom', None), ('I-Sign_or_Symptom', None), ('O', None), ('O', None), ('B-Sign_or_Symptom', None), ('O', None)]\n",
      "\n",
      " \n",
      " ******************** ner_deid Model Results ******************** \n",
      "\n",
      "[('O', None), ('O', None), ('O', None), ('O', None), ('O', None), ('O', None), ('O', None), ('O', None), ('O', None), ('O', None), ('O', None), ('O', None), ('O', None), ('O', None), ('O', None), ('O', None), ('O', None), ('O', None), ('O', None), ('O', None), ('O', None), ('O', None), ('O', None), ('O', None), ('O', None), ('O', None), ('O', None), ('O', None), ('O', None), ('O', None), ('O', None), ('O', None), ('O', None), ('O', None), ('O', None), ('O', None), ('O', None), ('O', None), ('O', None), ('O', None), ('O', None), ('O', None), ('O', None), ('O', None), ('O', None), ('O', None), ('O', None), ('O', None), ('O', None), ('O', None), ('O', None), ('O', None), ('O', None), ('O', None), ('O', None), ('O', None), ('O', None), ('O', None), ('O', None), ('O', None), ('O', None), ('O', None), ('O', None), ('O', None), ('O', None), ('O', None), ('O', None), ('O', None), ('O', None), ('O', None), ('O', None), ('O', None), ('O', None)]\n",
      "\n",
      " \n",
      " ******************** jsl_rd_ner_wip_greedy_clinical Model Results ******************** \n",
      "\n",
      "[('28-year-old', 'Age'), ('female', 'Gender'), ('gestational diabetes mellitus', 'Diabetes'), ('eight years prior', 'RelativeDate'), ('subsequent type two diabetes mellitus', 'Diabetes'), ('T2DM', 'Diabetes'), ('HTG-induced pancreatitis', 'Disease_Syndrome_Disorder'), ('three years prior', 'RelativeDate'), ('acute hepatitis', 'Disease_Syndrome_Disorder'), ('obesity', 'Obesity'), ('body mass index ( BMI', 'BMI'), ('33.5 kg/m2', 'Weight'), ('one-week', 'Duration'), ('polyuria', 'Symptom'), ('polydipsia', 'Symptom'), ('poor appetite', 'Symptom'), ('vomiting', 'Symptom')]\n",
      "\n",
      " \n",
      " ******************** ner_medmentions_coarse Model Results ******************** \n",
      "\n",
      "[('female', 'Organism_Attribute'), ('diabetes mellitus', 'Disease_or_Syndrome'), ('diabetes mellitus', 'Disease_or_Syndrome'), ('T2DM', 'Disease_or_Syndrome'), ('HTG-induced pancreatitis', 'Disease_or_Syndrome'), ('associated with', 'Qualitative_Concept'), ('acute hepatitis', 'Disease_or_Syndrome'), ('obesity', 'Disease_or_Syndrome'), ('body mass index', 'Clinical_Attribute'), ('BMI', 'Clinical_Attribute'), ('polyuria', 'Sign_or_Symptom'), ('polydipsia', 'Sign_or_Symptom'), ('poor appetite', 'Sign_or_Symptom'), ('vomiting', 'Sign_or_Symptom')]\n",
      "\n",
      " \n",
      " ******************** ner Model Results ******************** \n",
      "\n",
      "[('O', None), ('O', None), ('O', None), ('O', None), ('O', None), ('O', None), ('O', None), ('O', None), ('O', None), ('O', None), ('O', None), ('O', None), ('O', None), ('O', None), ('O', None), ('O', None), ('O', None), ('O', None), ('O', None), ('O', None), ('O', None), ('O', None), ('O', None), ('O', None), ('O', None), ('O', None), ('O', None), ('O', None), ('O', None), ('O', None), ('O', None), ('O', None), ('O', None), ('O', None), ('O', None), ('O', None), ('O', None), ('O', None), ('O', None), ('O', None), ('O', None), ('O', None), ('O', None), ('O', None), ('O', None), ('O', None), ('O', None), ('B-Organism_subdivision', None), ('O', None), ('O', None), ('O', None), ('O', None), ('O', None), ('O', None), ('O', None), ('O', None), ('O', None), ('O', None), ('O', None), ('O', None), ('O', None), ('O', None), ('O', None), ('O', None), ('O', None), ('O', None), ('O', None), ('O', None), ('O', None), ('O', None), ('O', None), ('O', None), ('O', None)]\n",
      "\n",
      " \n",
      " ******************** ner_deid Model Results ******************** \n",
      "\n",
      "[('O', None), ('O', None), ('O', None), ('O', None), ('O', None), ('O', None), ('O', None), ('O', None), ('O', None), ('O', None), ('O', None), ('O', None), ('O', None), ('O', None), ('O', None), ('O', None), ('O', None), ('O', None), ('O', None), ('O', None), ('O', None), ('O', None), ('O', None), ('O', None), ('O', None), ('O', None), ('O', None), ('O', None), ('O', None), ('O', None), ('O', None), ('O', None), ('O', None), ('O', None), ('O', None), ('O', None), ('O', None), ('O', None), ('O', None), ('O', None), ('O', None), ('O', None), ('O', None), ('O', None), ('O', None), ('O', None), ('O', None), ('O', None), ('O', None), ('O', None), ('O', None), ('O', None), ('O', None), ('O', None), ('O', None), ('O', None), ('O', None), ('O', None), ('O', None), ('O', None), ('O', None), ('O', None), ('O', None), ('O', None), ('O', None), ('O', None), ('O', None), ('O', None), ('O', None), ('O', None), ('O', None), ('O', None), ('O', None)]\n",
      "\n",
      " \n",
      " ******************** ner_deid_subentity Model Results ******************** \n",
      "\n",
      "[('O', None), ('B-AGE', None), ('O', None), ('O', None), ('O', None), ('O', None), ('O', None), ('O', None), ('O', None), ('O', None), ('O', None), ('O', None), ('O', None), ('O', None), ('O', None), ('O', None), ('O', None), ('O', None), ('O', None), ('O', None), ('O', None), ('O', None), ('O', None), ('O', None), ('O', None), ('O', None), ('O', None), ('O', None), ('O', None), ('O', None), ('O', None), ('O', None), ('O', None), ('O', None), ('O', None), ('O', None), ('O', None), ('O', None), ('O', None), ('O', None), ('O', None), ('O', None), ('O', None), ('O', None), ('O', None), ('O', None), ('O', None), ('O', None), ('O', None), ('O', None), ('O', None), ('O', None), ('O', None), ('O', None), ('O', None), ('O', None), ('O', None), ('O', None), ('O', None), ('O', None), ('O', None), ('O', None), ('O', None), ('O', None), ('O', None), ('O', None), ('O', None), ('O', None), ('O', None), ('O', None), ('O', None), ('O', None), ('O', None)]\n",
      "\n",
      " \n",
      " ******************** ner_radiology_wip_clinical Model Results ******************** \n",
      "\n",
      "[('gestational diabetes mellitus', 'Disease_Syndrome_Disorder'), ('type two diabetes mellitus', 'Disease_Syndrome_Disorder'), ('T2DM', 'Disease_Syndrome_Disorder'), ('HTG-induced pancreatitis', 'Disease_Syndrome_Disorder'), ('acute hepatitis', 'Disease_Syndrome_Disorder'), ('obesity', 'Disease_Syndrome_Disorder'), ('body', 'BodyPart'), ('mass index', 'Symptom'), ('33.5', 'Measurements'), ('kg/m2', 'Units'), ('polyuria', 'Symptom'), ('polydipsia', 'Symptom'), ('poor appetite', 'Symptom'), ('vomiting', 'Symptom')]\n",
      "\n",
      " \n",
      " ******************** ner_clinical Model Results ******************** \n",
      "\n",
      "[('gestational diabetes mellitus', 'PROBLEM'), ('subsequent type two diabetes mellitus', 'PROBLEM'), ('T2DM', 'PROBLEM'), ('HTG-induced pancreatitis', 'PROBLEM'), ('an acute hepatitis', 'PROBLEM'), ('obesity', 'PROBLEM'), ('a body mass index', 'PROBLEM'), ('BMI', 'TEST'), ('polyuria', 'PROBLEM'), ('polydipsia', 'PROBLEM'), ('poor appetite', 'PROBLEM'), ('vomiting', 'PROBLEM')]\n",
      "\n",
      " \n",
      " ******************** ner_measurements Model Results ******************** \n",
      "\n",
      "[('O', None), ('O', None), ('O', None), ('O', None), ('O', None), ('O', None), ('O', None), ('O', None), ('O', None), ('O', None), ('O', None), ('O', None), ('O', None), ('O', None), ('O', None), ('O', None), ('O', None), ('O', None), ('O', None), ('O', None), ('O', None), ('O', None), ('O', None), ('O', None), ('O', None), ('O', None), ('O', None), ('O', None), ('O', None), ('O', None), ('O', None), ('O', None), ('O', None), ('O', None), ('O', None), ('O', None), ('O', None), ('O', None), ('O', None), ('O', None), ('O', None), ('O', None), ('O', None), ('O', None), ('O', None), ('O', None), ('O', None), ('O', None), ('O', None), ('O', None), ('O', None), ('O', None), ('O', None), ('O', None), ('B-Measurements', None), ('B-Units', None), ('O', None), ('O', None), ('O', None), ('O', None), ('O', None), ('O', None), ('O', None), ('O', None), ('O', None), ('O', None), ('O', None), ('O', None), ('O', None), ('O', None), ('O', None), ('O', None), ('O', None)]\n",
      "\n",
      " ******************** ner_chexpert Model Results ********************\n",
      "No Result For This Model\n",
      "\n",
      " ******************** ner_chemicals Model Results ********************\n",
      "No Result For This Model\n",
      "\n",
      " \n",
      " ******************** ner_jsl Model Results ******************** \n",
      "\n",
      "[('O', None), ('B-Age', None), ('B-Gender', None), ('O', None), ('O', None), ('O', None), ('O', None), ('B-Diabetes', None), ('I-Diabetes', None), ('I-Diabetes', None), ('O', None), ('B-RelativeDate', None), ('I-RelativeDate', None), ('I-RelativeDate', None), ('O', None), ('O', None), ('O', None), ('O', None), ('B-Diabetes', None), ('I-Diabetes', None), ('I-Diabetes', None), ('I-Diabetes', None), ('O', None), ('B-Diabetes', None), ('O', None), ('O', None), ('O', None), ('O', None), ('O', None), ('B-Disease_Syndrome_Disorder', None), ('I-Disease_Syndrome_Disorder', None), ('B-RelativeDate', None), ('I-RelativeDate', None), ('I-RelativeDate', None), ('O', None), ('O', None), ('O', None), ('O', None), ('O', None), ('O', None), ('B-Modifier', None), ('B-Disease_Syndrome_Disorder', None), ('O', None), ('O', None), ('B-Obesity', None), ('O', None), ('O', None), ('B-BMI', None), ('I-BMI', None), ('I-BMI', None), ('O', None), ('B-BMI', None), ('I-BMI', None), ('I-BMI', None), ('I-BMI', None), ('I-BMI', None), ('O', None), ('O', None), ('O', None), ('O', None), ('B-Duration', None), ('O', None), ('O', None), ('B-Symptom', None), ('O', None), ('B-Symptom', None), ('O', None), ('B-Symptom', None), ('I-Symptom', None), ('O', None), ('O', None), ('B-Symptom', None), ('O', None)]\n",
      "\n",
      " ******************** ner_deid_synthetic Model Results ********************\n",
      "No Result For This Model\n",
      "\n",
      " \n",
      " ******************** ner_events_clinical Model Results ******************** \n",
      "\n",
      "[('gestational diabetes mellitus', 'PROBLEM'), ('eight years', 'DURATION'), ('presentation', 'OCCURRENCE'), ('subsequent type two diabetes mellitus', 'PROBLEM'), ('T2DM', 'PROBLEM'), ('HTG-induced pancreatitis', 'PROBLEM'), ('three years', 'DURATION'), ('presentation', 'EVIDENTIAL'), ('an acute hepatitis', 'PROBLEM'), ('obesity', 'PROBLEM'), ('a body mass index ( BMI', 'PROBLEM'), ('presented', 'OCCURRENCE'), ('a one-week', 'DURATION'), ('polyuria', 'PROBLEM'), ('polydipsia', 'PROBLEM'), ('poor appetite', 'PROBLEM'), ('vomiting', 'PROBLEM')]\n",
      "\n",
      " \n",
      " ******************** ner_posology Model Results ******************** \n",
      "\n",
      "[('O', None), ('O', None), ('O', None), ('O', None), ('O', None), ('O', None), ('O', None), ('O', None), ('O', None), ('O', None), ('O', None), ('O', None), ('O', None), ('O', None), ('O', None), ('O', None), ('O', None), ('O', None), ('O', None), ('O', None), ('O', None), ('O', None), ('O', None), ('O', None), ('O', None), ('O', None), ('O', None), ('O', None), ('O', None), ('O', None), ('O', None), ('O', None), ('O', None), ('O', None), ('O', None), ('O', None), ('O', None), ('O', None), ('O', None), ('O', None), ('O', None), ('O', None), ('O', None), ('O', None), ('O', None), ('O', None), ('O', None), ('O', None), ('O', None), ('O', None), ('O', None), ('O', None), ('O', None), ('O', None), ('O', None), ('O', None), ('O', None), ('O', None), ('O', None), ('O', None), ('O', None), ('O', None), ('O', None), ('O', None), ('O', None), ('O', None), ('O', None), ('O', None), ('O', None), ('O', None), ('O', None), ('O', None), ('O', None)]\n",
      "\n",
      " \n",
      " ******************** jsl_ner_wip Model Results ******************** \n",
      "\n",
      "[('O', None), ('B-Age', None), ('B-Gender', None), ('O', None), ('O', None), ('O', None), ('O', None), ('B-Diabetes', None), ('I-Diabetes', None), ('I-Diabetes', None), ('O', None), ('B-RelativeDate', None), ('I-RelativeDate', None), ('I-RelativeDate', None), ('O', None), ('O', None), ('O', None), ('B-Modifier', None), ('B-Diabetes', None), ('I-Diabetes', None), ('I-Diabetes', None), ('I-Diabetes', None), ('O', None), ('B-Diabetes', None), ('O', None), ('O', None), ('O', None), ('O', None), ('O', None), ('B-Disease_Syndrome_Disorder', None), ('I-Disease_Syndrome_Disorder', None), ('B-RelativeDate', None), ('I-RelativeDate', None), ('I-RelativeDate', None), ('O', None), ('O', None), ('O', None), ('O', None), ('O', None), ('O', None), ('B-Modifier', None), ('B-Communicable_Disease', None), ('O', None), ('O', None), ('B-Obesity', None), ('O', None), ('O', None), ('B-Symptom', None), ('I-Symptom', None), ('I-Symptom', None), ('O', None), ('O', None), ('O', None), ('O', None), ('B-Weight', None), ('I-Weight', None), ('O', None), ('O', None), ('O', None), ('O', None), ('B-Duration', None), ('O', None), ('O', None), ('B-Symptom', None), ('O', None), ('B-Symptom', None), ('O', None), ('B-Symptom', None), ('I-Symptom', None), ('O', None), ('O', None), ('B-Symptom', None), ('O', None)]\n",
      "\n",
      " ******************** ner_posology_small Model Results ********************\n",
      "No Result For This Model\n",
      "\n",
      " \n",
      " ******************** ner_anatomy_coarse Model Results ******************** \n",
      "\n",
      "[('body', 'Anatomy')]\n",
      "\n",
      " \n",
      " ******************** ner_human_phenotype_go_clinical Model Results ******************** \n",
      "\n",
      "[('obesity', 'HP'), ('polydipsia', 'HP'), ('vomiting', 'HP')]\n",
      "\n",
      " \n",
      " ******************** ner Model Results ******************** \n",
      "\n",
      "[('O', None), ('B-Age', None), ('B-Gender', None), ('O', None), ('O', None), ('O', None), ('O', None), ('B-Diabetes', None), ('I-Diabetes', None), ('I-Diabetes', None), ('O', None), ('B-RelativeDate', None), ('I-RelativeDate', None), ('I-RelativeDate', None), ('O', None), ('O', None), ('O', None), ('B-Modifier', None), ('B-Diabetes', None), ('I-Diabetes', None), ('I-Diabetes', None), ('I-Diabetes', None), ('O', None), ('B-Diabetes', None), ('O', None), ('O', None), ('O', None), ('O', None), ('O', None), ('B-Disease_Syndrome_Disorder', None), ('I-Disease_Syndrome_Disorder', None), ('B-RelativeDate', None), ('I-RelativeDate', None), ('I-RelativeDate', None), ('O', None), ('O', None), ('O', None), ('O', None), ('O', None), ('O', None), ('B-Modifier', None), ('B-Communicable_Disease', None), ('O', None), ('O', None), ('B-Obesity', None), ('O', None), ('O', None), ('B-Symptom', None), ('I-Symptom', None), ('I-Symptom', None), ('O', None), ('O', None), ('O', None), ('O', None), ('B-Weight', None), ('I-Weight', None), ('O', None), ('O', None), ('O', None), ('O', None), ('B-Duration', None), ('O', None), ('O', None), ('B-Symptom', None), ('O', None), ('B-Symptom', None), ('O', None), ('B-Symptom', None), ('I-Symptom', None), ('O', None), ('O', None), ('B-Symptom', None), ('O', None)]\n",
      "\n",
      " \n",
      " ******************** ner_events Model Results ******************** \n",
      "\n",
      "[('O', None), ('O', None), ('O', None), ('O', None), ('O', None), ('O', None), ('O', None), ('B-PROBLEM', None), ('I-PROBLEM', None), ('I-PROBLEM', None), ('O', None), ('B-DURATION', None), ('I-DURATION', None), ('O', None), ('O', None), ('B-OCCURRENCE', None), ('O', None), ('B-PROBLEM', None), ('I-PROBLEM', None), ('I-PROBLEM', None), ('I-PROBLEM', None), ('I-PROBLEM', None), ('O', None), ('B-PROBLEM', None), ('O', None), ('O', None), ('O', None), ('O', None), ('O', None), ('B-PROBLEM', None), ('I-PROBLEM', None), ('B-DURATION', None), ('I-DURATION', None), ('O', None), ('O', None), ('B-EVIDENTIAL', None), ('O', None), ('O', None), ('O', None), ('B-PROBLEM', None), ('I-PROBLEM', None), ('I-PROBLEM', None), ('O', None), ('O', None), ('B-PROBLEM', None), ('O', None), ('B-PROBLEM', None), ('I-PROBLEM', None), ('I-PROBLEM', None), ('I-PROBLEM', None), ('I-PROBLEM', None), ('I-PROBLEM', None), ('O', None), ('O', None), ('O', None), ('O', None), ('O', None), ('B-OCCURRENCE', None), ('O', None), ('B-DURATION', None), ('I-DURATION', None), ('O', None), ('O', None), ('B-PROBLEM', None), ('O', None), ('B-PROBLEM', None), ('O', None), ('B-PROBLEM', None), ('I-PROBLEM', None), ('O', None), ('O', None), ('B-PROBLEM', None), ('O', None)]\n",
      "\n",
      " \n",
      " ******************** ner_jsl_slim Model Results ******************** \n",
      "\n",
      "[('28-year-old', 'Age'), ('female', 'Demographics'), ('gestational diabetes mellitus', 'Disease_Syndrome_Disorder'), ('eight years prior', 'Date_Time'), ('type two diabetes mellitus', 'Disease_Syndrome_Disorder'), ('T2DM', 'Disease_Syndrome_Disorder'), ('HTG-induced pancreatitis', 'Disease_Syndrome_Disorder'), ('three years prior', 'Date_Time'), ('acute hepatitis', 'Disease_Syndrome_Disorder'), ('obesity', 'Disease_Syndrome_Disorder'), ('body mass index', 'Symptom'), ('BMI ) of 33.5 kg/m2', 'Physical_Measurement'), ('polyuria', 'Symptom'), ('polydipsia', 'Symptom'), ('poor appetite', 'Symptom'), ('vomiting', 'Symptom')]\n",
      "\n",
      " \n",
      " ******************** ner_jsl Model Results ******************** \n",
      "\n",
      "[('28-year-old', 'Age'), ('female', 'Gender'), ('gestational diabetes mellitus', 'Diabetes'), ('eight years prior', 'RelativeDate'), ('subsequent', 'Modifier'), ('type two diabetes mellitus', 'Diabetes'), ('T2DM', 'Diabetes'), ('HTG-induced pancreatitis', 'Disease_Syndrome_Disorder'), ('three years prior', 'RelativeDate'), ('acute', 'Modifier'), ('hepatitis', 'Communicable_Disease'), ('obesity', 'Obesity'), ('body mass index', 'Symptom'), ('33.5 kg/m2', 'Weight'), ('one-week', 'Duration'), ('polyuria', 'Symptom'), ('polydipsia', 'Symptom'), ('poor appetite', 'Symptom'), ('vomiting', 'Symptom')]\n",
      "\n",
      " \n",
      " ******************** ner_jsl_greedy Model Results ******************** \n",
      "\n",
      "[('28-year-old', 'Age'), ('female', 'Gender'), ('gestational diabetes mellitus', 'Diabetes'), ('eight years prior', 'RelativeDate'), ('type two diabetes mellitus', 'Diabetes'), ('T2DM', 'Diabetes'), ('HTG-induced pancreatitis', 'Disease_Syndrome_Disorder'), ('three years prior', 'RelativeDate'), ('acute hepatitis', 'Disease_Syndrome_Disorder'), ('obesity', 'Obesity'), ('body mass', 'Symptom'), ('BMI ) of 33.5 kg/m2', 'BMI'), ('one-week', 'Duration'), ('polyuria', 'Symptom'), ('polydipsia', 'Symptom'), ('poor appetite', 'Symptom'), ('vomiting', 'Symptom')]\n",
      "\n",
      " \n",
      " ******************** ner_genetic Model Results ******************** \n",
      "\n",
      "[('O', None), ('O', None), ('O', None), ('O', None), ('O', None), ('O', None), ('O', None), ('O', None), ('O', None), ('O', None), ('O', None), ('O', None), ('O', None), ('O', None), ('O', None), ('O', None), ('O', None), ('O', None), ('O', None), ('O', None), ('O', None), ('O', None), ('O', None), ('O', None), ('O', None), ('O', None), ('O', None), ('O', None), ('O', None), ('O', None), ('O', None), ('O', None), ('O', None), ('O', None), ('O', None), ('O', None), ('O', None), ('O', None), ('O', None), ('O', None), ('O', None), ('O', None), ('O', None), ('O', None), ('O', None), ('O', None), ('O', None), ('O', None), ('O', None), ('O', None), ('O', None), ('O', None), ('O', None), ('O', None), ('O', None), ('O', None), ('O', None), ('O', None), ('O', None), ('O', None), ('O', None), ('O', None), ('O', None), ('O', None), ('O', None), ('O', None), ('O', None), ('O', None), ('O', None), ('O', None), ('O', None), ('O', None), ('O', None)]\n",
      "\n",
      " \n",
      " ******************** ner Model Results ******************** \n",
      "\n",
      "[('O', None), ('O', None), ('O', None), ('O', None), ('O', None), ('O', None), ('O', None), ('B-Disease_Syndrome_Disorder', None), ('I-Disease_Syndrome_Disorder', None), ('I-Disease_Syndrome_Disorder', None), ('O', None), ('O', None), ('O', None), ('O', None), ('O', None), ('O', None), ('O', None), ('O', None), ('B-Disease_Syndrome_Disorder', None), ('I-Disease_Syndrome_Disorder', None), ('I-Disease_Syndrome_Disorder', None), ('I-Disease_Syndrome_Disorder', None), ('O', None), ('B-Disease_Syndrome_Disorder', None), ('O', None), ('O', None), ('O', None), ('O', None), ('O', None), ('B-Disease_Syndrome_Disorder', None), ('I-Disease_Syndrome_Disorder', None), ('O', None), ('O', None), ('O', None), ('O', None), ('O', None), ('O', None), ('O', None), ('O', None), ('O', None), ('B-Disease_Syndrome_Disorder', None), ('I-Disease_Syndrome_Disorder', None), ('O', None), ('O', None), ('B-Disease_Syndrome_Disorder', None), ('O', None), ('O', None), ('B-BodyPart', None), ('B-Symptom', None), ('I-Symptom', None), ('O', None), ('B-Test', None), ('O', None), ('O', None), ('B-Measurements', None), ('B-Units', None), ('O', None), ('O', None), ('O', None), ('O', None), ('O', None), ('O', None), ('O', None), ('B-Symptom', None), ('O', None), ('B-Symptom', None), ('O', None), ('B-Symptom', None), ('I-Symptom', None), ('O', None), ('O', None), ('B-Symptom', None), ('O', None)]\n",
      "\n",
      " \n",
      " ******************** ner Model Results ******************** \n",
      "\n",
      "[('O', None), ('O', None), ('O', None), ('O', None), ('O', None), ('O', None), ('O', None), ('O', None), ('O', None), ('O', None), ('O', None), ('O', None), ('O', None), ('O', None), ('O', None), ('O', None), ('O', None), ('O', None), ('O', None), ('O', None), ('O', None), ('O', None), ('O', None), ('O', None), ('O', None), ('O', None), ('O', None), ('O', None), ('O', None), ('O', None), ('O', None), ('O', None), ('O', None), ('O', None), ('O', None), ('O', None), ('O', None), ('O', None), ('O', None), ('O', None), ('O', None), ('O', None), ('O', None), ('O', None), ('O', None), ('O', None), ('O', None), ('O', None), ('O', None), ('O', None), ('O', None), ('O', None), ('O', None), ('O', None), ('O', None), ('O', None), ('O', None), ('O', None), ('O', None), ('O', None), ('O', None), ('O', None), ('O', None), ('O', None), ('O', None), ('O', None), ('O', None), ('O', None), ('O', None), ('O', None), ('O', None), ('O', None), ('O', None)]\n",
      "\n",
      " \n",
      " ******************** ner_events_admission_clinical Model Results ******************** \n",
      "\n",
      "[('gestational diabetes mellitus', 'PROBLEM'), ('eight years', 'DURATION'), ('presentation', 'OCCURRENCE'), ('subsequent type two diabetes mellitus', 'PROBLEM'), ('T2DM', 'PROBLEM'), ('HTG-induced pancreatitis', 'PROBLEM'), ('three years', 'DURATION'), ('presentation', 'OCCURRENCE'), ('an acute hepatitis', 'PROBLEM'), ('obesity', 'PROBLEM'), ('a body mass index', 'PROBLEM'), ('BMI', 'PROBLEM'), ('kg/m2', 'PROBLEM'), ('presented', 'OCCURRENCE'), ('a one-week', 'DURATION'), ('polyuria', 'PROBLEM'), ('polydipsia', 'PROBLEM'), ('poor appetite', 'PROBLEM'), ('vomiting', 'PROBLEM')]\n"
     ]
    }
   ],
   "source": [
    "get_results(clinical_result)"
   ]
  },
  {
   "cell_type": "markdown",
   "metadata": {
    "id": "P40wIaZ3GDwI"
   },
   "source": [
    "## 6.NER Model Finder Pretrained Pipeline\n",
    "`ner_model_finder`  pretrained pipeline trained with bert embeddings that can be used to find the most appropriate NER model given the entity name."
   ]
  },
  {
   "cell_type": "code",
   "execution_count": null,
   "metadata": {
    "colab": {
     "base_uri": "https://localhost:8080/"
    },
    "executionInfo": {
     "elapsed": 28501,
     "status": "ok",
     "timestamp": 1639169224191,
     "user": {
      "displayName": "Ahmet Emin Tek",
      "photoUrl": "https://lh3.googleusercontent.com/a/default-user=s64",
      "userId": "14855809472179427810"
     },
     "user_tz": -180
    },
    "id": "SLqkp-9NGJG5",
    "outputId": "ed010007-c650-4469-da25-0234e2854bde"
   },
   "outputs": [
    {
     "name": "stdout",
     "output_type": "stream",
     "text": [
      "ner_model_finder download started this may take some time.\n",
      "Approx size to download 148.6 MB\n",
      "[OK!]\n"
     ]
    }
   ],
   "source": [
    "from sparknlp.pretrained import PretrainedPipeline\n",
    "finder_pipeline = PretrainedPipeline(\"ner_model_finder\", \"en\", \"clinical/models\")"
   ]
  },
  {
   "cell_type": "code",
   "execution_count": null,
   "metadata": {
    "colab": {
     "base_uri": "https://localhost:8080/"
    },
    "executionInfo": {
     "elapsed": 1012,
     "status": "ok",
     "timestamp": 1639169233072,
     "user": {
      "displayName": "Ahmet Emin Tek",
      "photoUrl": "https://lh3.googleusercontent.com/a/default-user=s64",
      "userId": "14855809472179427810"
     },
     "user_tz": -180
    },
    "id": "5PGY9hNAGJrI",
    "outputId": "1ebed9ab-bac2-40ca-dc06-e4485e228baa"
   },
   "outputs": [
    {
     "data": {
      "text/plain": [
       "dict_keys(['model_names'])"
      ]
     },
     "execution_count": 5,
     "metadata": {},
     "output_type": "execute_result"
    }
   ],
   "source": [
    "result = finder_pipeline.fullAnnotate(\"oncology\")[0]\n",
    "result.keys()"
   ]
  },
  {
   "cell_type": "markdown",
   "metadata": {
    "id": "aR5Y9XU7Gjg1"
   },
   "source": [
    "From the metadata in the 'model_names' column, we'll get to the top models to the given 'oncology' entity and oncology related categories."
   ]
  },
  {
   "cell_type": "code",
   "execution_count": null,
   "metadata": {
    "id": "ARzyEhjUGQba"
   },
   "outputs": [],
   "source": [
    "df= pd.DataFrame(zip(result[\"model_names\"][0].metadata[\"all_k_resolutions\"].split(\":::\"), \n",
    "                          result[\"model_names\"][0].metadata[\"all_k_results\"].split(\":::\")), columns=[\"category\", \"top_models\"])"
   ]
  },
  {
   "cell_type": "code",
   "execution_count": null,
   "metadata": {
    "colab": {
     "base_uri": "https://localhost:8080/",
     "height": 204
    },
    "executionInfo": {
     "elapsed": 312,
     "status": "ok",
     "timestamp": 1639169331866,
     "user": {
      "displayName": "Ahmet Emin Tek",
      "photoUrl": "https://lh3.googleusercontent.com/a/default-user=s64",
      "userId": "14855809472179427810"
     },
     "user_tz": -180
    },
    "id": "rY5UVmpyGQXF",
    "outputId": "a811099e-8d06-4941-8eae-295e4ce71cb5"
   },
   "outputs": [
    {
     "data": {
      "text/html": [
       "<div>\n",
       "<style scoped>\n",
       "    .dataframe tbody tr th:only-of-type {\n",
       "        vertical-align: middle;\n",
       "    }\n",
       "\n",
       "    .dataframe tbody tr th {\n",
       "        vertical-align: top;\n",
       "    }\n",
       "\n",
       "    .dataframe thead th {\n",
       "        text-align: right;\n",
       "    }\n",
       "</style>\n",
       "<table border=\"1\" class=\"dataframe\">\n",
       "  <thead>\n",
       "    <tr style=\"text-align: right;\">\n",
       "      <th></th>\n",
       "      <th>category</th>\n",
       "      <th>top_models</th>\n",
       "    </tr>\n",
       "  </thead>\n",
       "  <tbody>\n",
       "    <tr>\n",
       "      <th>0</th>\n",
       "      <td>oncology therapy</td>\n",
       "      <td>['ner_jsl_enriched', 'jsl_rd_ner_wip_greedy_cl...</td>\n",
       "    </tr>\n",
       "    <tr>\n",
       "      <th>1</th>\n",
       "      <td>clinical department</td>\n",
       "      <td>['jsl_rd_ner_wip_greedy_clinical', 'ner_jsl_en...</td>\n",
       "    </tr>\n",
       "    <tr>\n",
       "      <th>2</th>\n",
       "      <td>cancer genetics</td>\n",
       "      <td>['ner_cancer_genetics']</td>\n",
       "    </tr>\n",
       "    <tr>\n",
       "      <th>3</th>\n",
       "      <td>anatomy</td>\n",
       "      <td>['ner_bionlp', 'ner_anatomy', 'ner_chexpert', ...</td>\n",
       "    </tr>\n",
       "    <tr>\n",
       "      <th>4</th>\n",
       "      <td>molecular biology research technique</td>\n",
       "      <td>['ner_medmentions_coarse']</td>\n",
       "    </tr>\n",
       "  </tbody>\n",
       "</table>\n",
       "</div>"
      ],
      "text/plain": [
       "                               category                                         top_models\n",
       "0                      oncology therapy  ['ner_jsl_enriched', 'jsl_rd_ner_wip_greedy_cl...\n",
       "1                   clinical department  ['jsl_rd_ner_wip_greedy_clinical', 'ner_jsl_en...\n",
       "2                       cancer genetics                            ['ner_cancer_genetics']\n",
       "3                               anatomy  ['ner_bionlp', 'ner_anatomy', 'ner_chexpert', ...\n",
       "4  molecular biology research technique                         ['ner_medmentions_coarse']"
      ]
     },
     "execution_count": 9,
     "metadata": {},
     "output_type": "execute_result"
    }
   ],
   "source": [
    "df.head()"
   ]
  },
  {
   "cell_type": "markdown",
   "metadata": {
    "id": "WJUJhRsDN0P4"
   },
   "source": [
    "## 7.ICD10CM to Snomed Code\n",
    "\n",
    "This pretrained pipeline maps ICD10CM codes to SNOMED codes without using any text data. You’ll just feed a comma or white space delimited ICD10CM codes and it will return the corresponding SNOMED codes as a list. For the time being, it supports 132K Snomed codes and will be augmented & enriched in the next releases."
   ]
  },
  {
   "cell_type": "code",
   "execution_count": null,
   "metadata": {
    "colab": {
     "base_uri": "https://localhost:8080/"
    },
    "id": "URlYyaQnPA1E",
    "outputId": "c8198b56-6cc3-4047-fb9e-2cdee3230147"
   },
   "outputs": [
    {
     "name": "stdout",
     "output_type": "stream",
     "text": [
      "icd10cm_snomed_mapping download started this may take some time.\n",
      "Approx size to download 514.5 KB\n",
      "[OK!]\n"
     ]
    }
   ],
   "source": [
    "icd_snomed_pipeline = PretrainedPipeline(\"icd10cm_snomed_mapping\", \"en\", \"clinical/models\")"
   ]
  },
  {
   "cell_type": "code",
   "execution_count": null,
   "metadata": {
    "colab": {
     "base_uri": "https://localhost:8080/"
    },
    "id": "jhqXGDTSTaEW",
    "outputId": "ee74262a-d58c-404c-81bd-e9d36a01082e"
   },
   "outputs": [
    {
     "data": {
      "text/plain": [
       "[DocumentAssembler_effe917bc86b,\n",
       " REGEX_TOKENIZER_a2e7a20a20d4,\n",
       " LEMMATIZER_0ca0f7005a90,\n",
       " Finisher_07470acb09e3]"
      ]
     },
     "execution_count": 37,
     "metadata": {},
     "output_type": "execute_result"
    }
   ],
   "source": [
    "icd_snomed_pipeline.model.stages"
   ]
  },
  {
   "cell_type": "code",
   "execution_count": null,
   "metadata": {
    "colab": {
     "base_uri": "https://localhost:8080/"
    },
    "id": "pExgipi5O7vY",
    "outputId": "5e6dd27a-d86a-4a5d-dd7b-1ddd17440bc6"
   },
   "outputs": [
    {
     "data": {
      "text/plain": [
       "{'icd10cm': ['M89.50', 'I288', 'H16269'],\n",
       " 'snomed': ['733187009', '449433008', '51264003']}"
      ]
     },
     "execution_count": 38,
     "metadata": {},
     "output_type": "execute_result"
    }
   ],
   "source": [
    "icd_snomed_pipeline.annotate('M89.50 I288 H16269')"
   ]
  },
  {
   "cell_type": "markdown",
   "metadata": {
    "id": "hrgvx5lTXwEt"
   },
   "source": [
    "|**ICD10CM** | **Details** | \n",
    "| ---------- | -----------:|\n",
    "| M89.50 |  Osteolysis, unspecified site |\n",
    "| I288 | Other diseases of pulmonary vessels |\n",
    "| H16269 | Vernal keratoconjunctivitis, with limbar and corneal involvement, unspecified eye |\n",
    "\n",
    "| **SNOMED** | **Details** |\n",
    "| ---------- | -----------:|\n",
    "| 733187009 | Osteolysis following surgical procedure on skeletal system |\n",
    "| 449433008 | Diffuse stenosis of left pulmonary artery |\n",
    "| 51264003 | Limbal AND/OR corneal involvement in vernal conjunctivitis |"
   ]
  },
  {
   "cell_type": "markdown",
   "metadata": {
    "id": "kG1whe5KPVH5"
   },
   "source": [
    "## 8.Snomed to ICD10CM Code\n",
    "This pretrained pipeline maps SNOMED codes to ICD10CM codes without using any text data. You'll just feed a comma or white space delimited SNOMED codes and it will return the corresponding candidate ICD10CM codes as a list (multiple ICD10 codes for each Snomed code). For the time being, it supports 132K Snomed codes and 30K ICD10 codes and will be augmented & enriched in the next releases."
   ]
  },
  {
   "cell_type": "code",
   "execution_count": null,
   "metadata": {
    "colab": {
     "base_uri": "https://localhost:8080/"
    },
    "id": "Gk5fU0J0Rzw0",
    "outputId": "747e109f-ac2b-49b9-93c8-6eaf80ac12f5"
   },
   "outputs": [
    {
     "name": "stdout",
     "output_type": "stream",
     "text": [
      "snomed_icd10cm_mapping download started this may take some time.\n",
      "Approx size to download 1.8 MB\n",
      "[OK!]\n"
     ]
    }
   ],
   "source": [
    "snomed_icd_pipeline = PretrainedPipeline(\"snomed_icd10cm_mapping\",\"en\",\"clinical/models\")"
   ]
  },
  {
   "cell_type": "code",
   "execution_count": null,
   "metadata": {
    "colab": {
     "base_uri": "https://localhost:8080/"
    },
    "id": "m85pQn8lSJ8l",
    "outputId": "b00a6601-c792-40e9-f63f-338f66fb5a68"
   },
   "outputs": [
    {
     "data": {
      "text/plain": [
       "[DocumentAssembler_136f968cb1ef,\n",
       " REGEX_TOKENIZER_ecc8d3a8dbc9,\n",
       " LEMMATIZER_e9ae88d69d05,\n",
       " Finisher_790dd28aacd1]"
      ]
     },
     "execution_count": 40,
     "metadata": {},
     "output_type": "execute_result"
    }
   ],
   "source": [
    "snomed_icd_pipeline.model.stages"
   ]
  },
  {
   "cell_type": "code",
   "execution_count": null,
   "metadata": {
    "colab": {
     "base_uri": "https://localhost:8080/"
    },
    "id": "AivemfSaRdjD",
    "outputId": "e0104fdb-b6c3-4e39-c707-5aa95b54dc20"
   },
   "outputs": [
    {
     "data": {
      "text/plain": [
       "{'icd10cm': ['M89.59, M89.50, M96.89',\n",
       "  'Q25.6, I28.8',\n",
       "  'H10.45, H10.1, H16.269'],\n",
       " 'snomed': ['733187009', '449433008', '51264003']}"
      ]
     },
     "execution_count": 41,
     "metadata": {},
     "output_type": "execute_result"
    }
   ],
   "source": [
    "snomed_icd_pipeline.annotate('733187009 449433008 51264003')"
   ]
  },
  {
   "cell_type": "markdown",
   "metadata": {
    "id": "W618yxZYbs5U"
   },
   "source": [
    "| **SNOMED** | **Details** |\n",
    "| ------ | ------:|\n",
    "| 733187009| Osteolysis following surgical procedure on skeletal system |\n",
    "| 449433008 | Diffuse stenosis of left pulmonary artery |\n",
    "| 51264003 | Limbal AND/OR corneal involvement in vernal conjunctivitis|\n",
    "\n",
    "| **ICDM10CM** | **Details** |  \n",
    "| ---------- | ---------:|\n",
    "| M89.59 | Osteolysis, multiple sites |  \n",
    "| M89.50 | Osteolysis, unspecified site |\n",
    "| M96.89 | Other intraoperative and postprocedural complications and disorders of the musculoskeletal system | \n",
    "| Q25.6 | Stenosis of pulmonary artery |    \n",
    "| I28.8 | Other diseases of pulmonary vessels |\n",
    "| H10.45 | Other chronic allergic conjunctivitis |\n",
    "| H10.1 | Acute atopic conjunctivitis | \n",
    "| H16.269 | Vernal keratoconjunctivitis, with limbar and corneal involvement, unspecified eye |"
   ]
  },
  {
   "cell_type": "markdown",
   "metadata": {
    "id": "ubrDs3qa7gab"
   },
   "source": [
    "Also you can find these healthcare code mapping pretrained pipelines here: [Healthcare_Codes_Mapping](https://colab.research.google.com/github/JohnSnowLabs/spark-nlp-workshop/blob/master/tutorials/Certification_Trainings/Healthcare/11.1.Healthcare_Code_Mapping.ipynb)\n",
    "\n",
    "- ICD10CM to UMLS  \n",
    "- Snomed to UMLS \n",
    "- RxNorm to UMLS\n",
    "- RxNorm to MeSH\n",
    "- MeSH to UMLS"
   ]
  },
  {
   "cell_type": "code",
   "execution_count": null,
   "metadata": {
    "id": "ZeTD6qHwGJn8"
   },
   "outputs": [],
   "source": []
  }
 ],
 "metadata": {
  "colab": {
   "collapsed_sections": [],
   "name": "11.Pretrained_Clinical_Pipelines.ipynb",
   "provenance": [
    {
     "file_id": "https://github.com/JohnSnowLabs/spark-nlp-workshop/blob/master/tutorials/Certification_Trainings/Healthcare/11.Pretrained_Clinical_Pipelines.ipynb",
     "timestamp": 1637859125271
    }
   ],
   "toc_visible": true
  },
  "kernelspec": {
   "display_name": "Python 3 (ipykernel)",
   "language": "python",
   "name": "python3"
  },
  "language_info": {
   "codemirror_mode": {
    "name": "ipython",
    "version": 3
   },
   "file_extension": ".py",
   "mimetype": "text/x-python",
   "name": "python",
   "nbconvert_exporter": "python",
   "pygments_lexer": "ipython3",
   "version": "3.7.6"
  }
 },
 "nbformat": 4,
 "nbformat_minor": 1
}

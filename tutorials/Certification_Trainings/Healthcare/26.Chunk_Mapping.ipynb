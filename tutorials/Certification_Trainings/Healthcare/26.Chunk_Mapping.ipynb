{
  "nbformat": 4,
  "nbformat_minor": 0,
  "metadata": {
    "colab": {
      "provenance": [],
      "collapsed_sections": [],
      "machine_shape": "hm"
    },
    "kernelspec": {
      "name": "python3",
      "display_name": "Python 3"
    },
    "language_info": {
      "name": "python"
    },
    "gpuClass": "standard"
  },
  "cells": [
    {
      "cell_type": "markdown",
      "source": [
        "![JohnSnowLabs](https://nlp.johnsnowlabs.com/assets/images/logo.png)"
      ],
      "metadata": {
        "id": "BfzsuGYbvEGN"
      }
    },
    {
      "cell_type": "markdown",
      "source": [
        "[![Open In Colab](https://colab.research.google.com/assets/colab-badge.svg)](https://colab.research.google.com/github/JohnSnowLabs/spark-nlp-workshop/blob/master/tutorials/Certification_Trainings/Healthcare/26.Chunk_Mapping.ipynb)"
      ],
      "metadata": {
        "id": "BKXV6gOzvG-B"
      }
    },
    {
      "cell_type": "markdown",
      "source": [
        "# Chunk Mapping"
      ],
      "metadata": {
        "id": "Rx8ANMi103y2"
      }
    },
    {
      "cell_type": "markdown",
      "source": [
        "## Colab Setup"
      ],
      "metadata": {
        "id": "-DggoJ4cvwsP"
      }
    },
    {
      "cell_type": "code",
      "source": [
        "import json\n",
        "import os\n",
        "\n",
        "from google.colab import files\n",
        "\n",
        "license_keys = files.upload()\n",
        "\n",
        "with open(list(license_keys.keys())[0]) as f:\n",
        "    license_keys = json.load(f)\n",
        "\n",
        "# Defining license key-value pairs as local variables\n",
        "locals().update(license_keys)\n",
        "\n",
        "# Adding license key-value pairs to environment variables\n",
        "os.environ.update(license_keys)"
      ],
      "metadata": {
        "id": "ZAvL7qtju8JM"
      },
      "execution_count": null,
      "outputs": []
    },
    {
      "cell_type": "code",
      "source": [
        "%%capture\n",
        "\n",
        "# Installing pyspark and spark-nlp\n",
        "! pip install --upgrade -q pyspark==3.1.2 spark-nlp==$PUBLIC_VERSION\n",
        "\n",
        "# Installing Spark NLP Healthcare\n",
        "! pip install --upgrade -q spark-nlp-jsl==$JSL_VERSION  --extra-index-url https://pypi.johnsnowlabs.com/$SECRET"
      ],
      "metadata": {
        "id": "M-DLb0ZMu8Ev"
      },
      "execution_count": null,
      "outputs": []
    },
    {
      "cell_type": "code",
      "source": [
        "import json\n",
        "import os\n",
        "from pyspark.ml import Pipeline, PipelineModel\n",
        "from pyspark.sql import SparkSession\n",
        "from pyspark.sql import functions as F\n",
        "\n",
        "from sparknlp.annotator import *\n",
        "from sparknlp_jsl.annotator import *\n",
        "from sparknlp.base import *\n",
        "import sparknlp_jsl\n",
        "import sparknlp\n",
        "import pandas as pd\n",
        "\n",
        "import warnings\n",
        "warnings.filterwarnings('ignore')\n",
        "\n",
        "params = {\"spark.driver.memory\":\"16G\", \n",
        "          \"spark.kryoserializer.buffer.max\":\"2000M\", \n",
        "          \"spark.driver.maxResultSize\":\"2000M\"} \n",
        "\n",
        "print (\"Spark NLP Version :\", sparknlp.version())\n",
        "print (\"Spark NLP_JSL Version :\", sparknlp_jsl.version())\n",
        "\n",
        "\n",
        "spark = sparknlp_jsl.start(license_keys['SECRET'],params=params)\n",
        "\n",
        "spark"
      ],
      "metadata": {
        "id": "YvYsq4B1u8A6",
        "colab": {
          "base_uri": "https://localhost:8080/",
          "height": 250
        },
        "outputId": "efc325e6-7b7b-4281-b016-fac7b76f54e8"
      },
      "execution_count": null,
      "outputs": [
        {
          "output_type": "stream",
          "name": "stdout",
          "text": [
            "Spark NLP Version : 4.2.0\n",
            "Spark NLP_JSL Version : 4.2.0\n"
          ]
        },
        {
          "output_type": "execute_result",
          "data": {
            "text/plain": [
              "<pyspark.sql.session.SparkSession at 0x7fceb93b3190>"
            ],
            "text/html": [
              "\n",
              "            <div>\n",
              "                <p><b>SparkSession - in-memory</b></p>\n",
              "                \n",
              "        <div>\n",
              "            <p><b>SparkContext</b></p>\n",
              "\n",
              "            <p><a href=\"http://e13b88e0debd:4040\">Spark UI</a></p>\n",
              "\n",
              "            <dl>\n",
              "              <dt>Version</dt>\n",
              "                <dd><code>v3.1.2</code></dd>\n",
              "              <dt>Master</dt>\n",
              "                <dd><code>local[*]</code></dd>\n",
              "              <dt>AppName</dt>\n",
              "                <dd><code>Spark NLP Licensed</code></dd>\n",
              "            </dl>\n",
              "        </div>\n",
              "        \n",
              "            </div>\n",
              "        "
            ]
          },
          "metadata": {},
          "execution_count": 4
        }
      ]
    },
    {
      "cell_type": "markdown",
      "source": [
        "# 1- Pretrained Chunk Mapper Models and Pretrained Pipelines"
      ],
      "metadata": {
        "id": "H7Go2B1RvP0C"
      }
    },
    {
      "cell_type": "markdown",
      "source": [
        "**<center>MAPPER MODELS**\n",
        "\n",
        "|index|model|index|model|index|model|index|model|\n",
        "|-----:|:-----|-----:|:-----|-----:|:-----|-----:|:-----|\n",
        "| 1| [abbreviation_mapper](https://nlp.johnsnowlabs.com/2022/05/11/abbreviation_mapper_en_3_0.html)  | 8| [icd9_icd10_mapper](https://nlp.johnsnowlabs.com/2022/09/30/icd9_icd10_mapper_en.html)  | 15| [rxnorm_ndc_mapper](https://nlp.johnsnowlabs.com/2022/05/20/rxnorm_ndc_mapper_en_3_0.html)  | 22| [umls_clinical_findings_mapper](https://nlp.johnsnowlabs.com/2022/07/08/umls_clinical_findings_mapper_en_3_0.html)  |\n",
        "| 2| [drug_action_treatment_mapper](https://nlp.johnsnowlabs.com/2022/03/31/drug_action_treatment_mapper_en_3_0.html)  | 9| [icd9_mapper](https://nlp.johnsnowlabs.com/2022/09/30/icd9_mapper_en.html)  | 16| [rxnorm_normalized_mapper](https://nlp.johnsnowlabs.com/2022/09/29/rxnorm_normalized_mapper_en.html)  | 23| [umls_disease_syndrome_mapper](https://nlp.johnsnowlabs.com/2022/07/11/umls_disease_syndrome_mapper_en_3_0.html)  |\n",
        "| 3| [drug_ade_mapper](https://nlp.johnsnowlabs.com/2022/08/23/drug_ade_mapper_en.html)  | 10| [icdo_snomed_mapper](https://nlp.johnsnowlabs.com/2022/06/26/icdo_snomed_mapper_en_3_0.html)  | 17| [rxnorm_umls_mapper](https://nlp.johnsnowlabs.com/2022/06/26/rxnorm_umls_mapper_en_3_0.html)  | 24| [umls_drug_substance_mapper](https://nlp.johnsnowlabs.com/2022/07/11/umls_drug_substance_mapper_en_3_0.html)  |\n",
        "| 4| [drug_brandname_ndc_mapper](https://nlp.johnsnowlabs.com/2022/05/11/drug_brandname_ndc_mapper_en_3_0.html)  | 11| [mesh_umls_mapper](https://nlp.johnsnowlabs.com/2022/06/26/mesh_umls_mapper_en_3_0.html)  | 18| [snomed_icd10cm_mapper](https://nlp.johnsnowlabs.com/2022/06/26/snomed_icd10cm_mapper_en_3_0.html)  | 25| [umls_major_concepts_mapper](https://nlp.johnsnowlabs.com/2022/07/11/umls_major_concepts_mapper_en_3_0.html)  |\n",
        "| 5| [icd10_icd9_mapper](https://nlp.johnsnowlabs.com/2022/09/30/icd10_icd9_mapper_en.html)  | 12| [normalized_section_header_mapper](https://nlp.johnsnowlabs.com/2022/06/26/normalized_section_header_mapper_en_3_0.html)  | 19| [snomed_icdo_mapper](https://nlp.johnsnowlabs.com/2022/06/26/snomed_icdo_mapper_en_3_0.html)  |\n",
        "| 6| [icd10cm_snomed_mapper](https://nlp.johnsnowlabs.com/2022/06/26/icd10cm_snomed_mapper_en_3_0.html)  | 13| [rxnorm_action_treatment_mapper](https://nlp.johnsnowlabs.com/2022/05/08/rxnorm_action_treatment_mapper_en_3_0.html)  | 20| [snomed_umls_mapper](https://nlp.johnsnowlabs.com/2022/06/27/snomed_umls_mapper_en_3_0.html)  |\n",
        "| 7| [icd10cm_umls_mapper](https://nlp.johnsnowlabs.com/2022/06/26/icd10cm_umls_mapper_en_3_0.html)  | 14| [rxnorm_mapper](https://nlp.johnsnowlabs.com/2022/06/27/rxnorm_mapper_en_3_0.html)  | 21| [umls_clinical_drugs_mapper](https://nlp.johnsnowlabs.com/2022/07/06/umls_clinical_drugs_mapper_en_3_0.html)  | \n",
        "\n",
        "\n",
        "**You can find all these models and more [NLP Models Hub](https://nlp.johnsnowlabs.com/models?q=Chunk+Mapping&edition=Spark+NLP+for+Healthcare)**\n",
        "\n",
        "<br>\n",
        "\n",
        "**<center>PRETRAINED MAPPER PIPELINES**\n",
        "\n",
        "|index|model|\n",
        "|-----:|:-----|\n",
        "| 1| [icd10_icd9_mapping](https://nlp.johnsnowlabs.com/2022/09/30/icd10_icd9_mapping_en.html)   |\n",
        "| 2| [icdo_snomed_mapping](https://nlp.johnsnowlabs.com/2022/06/27/icdo_snomed_mapping_en_3_0.html)   |\n",
        "| 3| [icd10cm_snomed_mapping](https://nlp.johnsnowlabs.com/2022/06/27/icd10cm_snomed_mapping_en_3_0.html)   |\n",
        "| 4| [rxnorm_ndc_mapping](https://nlp.johnsnowlabs.com/2022/06/27/rxnorm_ndc_mapping_en_3_0.html)   |\n",
        "| 5| [rxnorm_umls_mapping](https://nlp.johnsnowlabs.com/2022/06/27/rxnorm_umls_mapping_en_3_0.html)   |\n",
        "| 6| [snomed_icd10cm_mapping](https://nlp.johnsnowlabs.com/2022/06/27/snomed_icd10cm_mapping_en_3_0.html)   |\n",
        "| 7| [snomed_icdo_mapping](https://nlp.johnsnowlabs.com/2022/06/27/snomed_icdo_mapping_en_3_0.html)   |\n",
        "| 8| [snomed_umls_mapping](https://nlp.johnsnowlabs.com/2022/06/27/snomed_umls_mapping_en_3_0.html)   |\n",
        "| 9| [icd10cm_umls_mapping](https://nlp.johnsnowlabs.com/2022/06/27/icd10cm_umls_mapping_en_3_0.html)   |\n",
        "| 10| [mesh_umls_mapping](https://nlp.johnsnowlabs.com/2021/07/01/mesh_umls_mapping_en.html)   |\n",
        "| 11| [rxnorm_mesh_mapping](https://nlp.johnsnowlabs.com/2021/07/01/rxnorm_mesh_mapping_en.html)   |\n",
        "\n",
        "\n",
        "You can check [Healthcare Code Mapping Notebook](https://github.com/JohnSnowLabs/spark-nlp-workshop/blob/master/tutorials/Certification_Trainings/Healthcare/11.1.Healthcare_Code_Mapping.ipynb) for the examples of pretrained mapper pipelines."
      ],
      "metadata": {
        "id": "RjnUYOjvbVEc"
      }
    },
    {
      "cell_type": "markdown",
      "source": [
        "## 1.1- Drug Action Treatment Mapper"
      ],
      "metadata": {
        "id": "tun6FxO1V443"
      }
    },
    {
      "cell_type": "markdown",
      "source": [
        "Pretrained `drug_action_treatment_mapper` model maps drugs with their corresponding `action` and `treatment` through `ChunkMapperModel()` annotator. <br/>\n",
        "\n",
        "\n",
        "**Action** of drug refers to the function of a drug in various body systems. <br/>\n",
        "**Treatment** refers to which disease the drug is used to treat. \n",
        "\n",
        "We can choose which option we want to use by setting `setRels()` parameter of `ChunkMapperModel()`\n",
        " "
      ],
      "metadata": {
        "id": "NbpIBoXl94ii"
      }
    },
    {
      "cell_type": "markdown",
      "source": [
        "We will create a pipeline consisting `bert_token_classifier_drug_development_trials` ner model to extract ner chunk as well as `ChunkMapperModel()`. <br/>\n",
        " Also, we will set the `.setRels()` parameter with `action` and see the results. "
      ],
      "metadata": {
        "id": "rioaJXFnS-q2"
      }
    },
    {
      "cell_type": "code",
      "source": [
        "#ChunkMapper Pipeline\n",
        "document_assembler = DocumentAssembler()\\\n",
        "      .setInputCol('text')\\\n",
        "      .setOutputCol('document')\n",
        "\n",
        "sentence_detector = SentenceDetector()\\\n",
        "      .setInputCols([\"document\"])\\\n",
        "      .setOutputCol(\"sentence\")\n",
        "\n",
        "tokenizer = Tokenizer()\\\n",
        "      .setInputCols(\"sentence\")\\\n",
        "      .setOutputCol(\"token\")\n",
        "\n",
        "ner =  MedicalBertForTokenClassifier.pretrained(\"bert_token_classifier_drug_development_trials\", \"en\", \"clinical/models\")\\\n",
        "      .setInputCols(\"token\",\"sentence\")\\\n",
        "      .setOutputCol(\"ner\")\n",
        "\n",
        "nerconverter = NerConverter()\\\n",
        "      .setInputCols(\"sentence\", \"token\", \"ner\")\\\n",
        "      .setOutputCol(\"ner_chunk\")\n",
        "\n",
        "#drug_action_treatment_mapper with \"action\" mappings\n",
        "chunkerMapper= ChunkMapperModel().pretrained(\"drug_action_treatment_mapper\", \"en\", \"clinical/models\")\\\n",
        "    .setInputCols([\"ner_chunk\"])\\\n",
        "    .setOutputCol(\"action_mappings\")\\\n",
        "    .setRels([\"action\"])\n",
        "    \n",
        "\n",
        "pipeline = Pipeline().setStages([document_assembler,\n",
        "                                 sentence_detector,\n",
        "                                 tokenizer,\n",
        "                                 ner, \n",
        "                                 nerconverter, \n",
        "                                 chunkerMapper])\n",
        "\n",
        "text = [[\"\"\"The patient was female and patient of Dr. X. and she was given Dermovate, Aspagin\"\"\"]]\n",
        "\n",
        "\n",
        "test_data = spark.createDataFrame(text).toDF(\"text\")\n",
        "\n",
        "res = pipeline.fit(test_data).transform(test_data)"
      ],
      "metadata": {
        "colab": {
          "base_uri": "https://localhost:8080/"
        },
        "id": "LDE0GMq8xYin",
        "outputId": "53187e3a-07e5-409e-d6d9-8aa2aa2fdab8"
      },
      "execution_count": null,
      "outputs": [
        {
          "output_type": "stream",
          "name": "stdout",
          "text": [
            "bert_token_classifier_drug_development_trials download started this may take some time.\n",
            "[OK!]\n",
            "drug_action_treatment_mapper download started this may take some time.\n",
            "[OK!]\n"
          ]
        }
      ]
    },
    {
      "cell_type": "markdown",
      "source": [
        "Chunks detected by ner model"
      ],
      "metadata": {
        "id": "0jetN39Hzj63"
      }
    },
    {
      "cell_type": "code",
      "source": [
        "res.select(F.explode('ner_chunk.result').alias(\"chunks\")).show(truncate=False)"
      ],
      "metadata": {
        "colab": {
          "base_uri": "https://localhost:8080/"
        },
        "id": "EDwLFe-QxYdr",
        "outputId": "bc02e396-9e74-4aa2-9cc5-9483c46f200f"
      },
      "execution_count": null,
      "outputs": [
        {
          "output_type": "stream",
          "name": "stdout",
          "text": [
            "+---------+\n",
            "|chunks   |\n",
            "+---------+\n",
            "|Dermovate|\n",
            "|Aspagin  |\n",
            "+---------+\n",
            "\n"
          ]
        }
      ]
    },
    {
      "cell_type": "markdown",
      "source": [
        "Checking mapping results"
      ],
      "metadata": {
        "id": "lCLMKbAOTqTl"
      }
    },
    {
      "cell_type": "code",
      "source": [
        "res.select(\"action_mappings.result\").show(truncate=False)"
      ],
      "metadata": {
        "colab": {
          "base_uri": "https://localhost:8080/"
        },
        "id": "qAFTxkiaXNTs",
        "outputId": "b971397f-b067-402d-984c-57b1f6656410"
      },
      "execution_count": null,
      "outputs": [
        {
          "output_type": "stream",
          "name": "stdout",
          "text": [
            "+------------------------------+\n",
            "|result                        |\n",
            "+------------------------------+\n",
            "|[anti-inflammatory, analgesic]|\n",
            "+------------------------------+\n",
            "\n"
          ]
        }
      ]
    },
    {
      "cell_type": "code",
      "source": [
        "res.selectExpr(\"action_mappings.metadata\").show(truncate=False)"
      ],
      "metadata": {
        "colab": {
          "base_uri": "https://localhost:8080/"
        },
        "id": "yFcIWEa7BSXV",
        "outputId": "5af01b41-1d55-4849-bea9-fb77f9a821ea"
      },
      "execution_count": null,
      "outputs": [
        {
          "output_type": "stream",
          "name": "stdout",
          "text": [
            "+------------------------------------------------------------------------------------------------------------------------------------------------------------------------------------------------------------------------------------------------------------------------------------------------------------------------------+\n",
            "|metadata                                                                                                                                                                                                                                                                                                                      |\n",
            "+------------------------------------------------------------------------------------------------------------------------------------------------------------------------------------------------------------------------------------------------------------------------------------------------------------------------------+\n",
            "|[{chunk -> 0, relation -> action, confidence -> 0.9997595, all_relations -> corticosteroids::: dermatological preparations:::very strong, entity -> Dermovate, sentence -> 0}, {chunk -> 1, relation -> action, confidence -> 0.99668664, all_relations -> anti-inflammatory:::antipyretic, entity -> Aspagin, sentence -> 0}]|\n",
            "+------------------------------------------------------------------------------------------------------------------------------------------------------------------------------------------------------------------------------------------------------------------------------------------------------------------------------+\n",
            "\n"
          ]
        }
      ]
    },
    {
      "cell_type": "markdown",
      "source": [
        "As you see above under the ***metadata*** column, if exist, we can see all the relations for each chunk. <br/>\n"
      ],
      "metadata": {
        "id": "T25yMbYkVVKI"
      }
    },
    {
      "cell_type": "code",
      "source": [
        "res.select(F.explode(F.arrays_zip(res.ner_chunk.result, res.action_mappings.result, res.action_mappings.metadata)).alias(\"col\"))\\\n",
        "    .select(F.expr(\"col['0']\").alias(\"ner_chunk\"),\n",
        "            F.expr(\"col['1']\").alias(\"mapping_result\"),\n",
        "            F.expr(\"col['2']['all_relations']\").alias(\"all_relations\")).show(truncate=False)"
      ],
      "metadata": {
        "colab": {
          "base_uri": "https://localhost:8080/"
        },
        "id": "DGG75W5JQ8Ds",
        "outputId": "79c032ae-d04d-4261-c160-7f9c6720f260"
      },
      "execution_count": null,
      "outputs": [
        {
          "output_type": "stream",
          "name": "stdout",
          "text": [
            "+---------+-----------------+------------------------------------------------------------+\n",
            "|ner_chunk|mapping_result   |all_relations                                               |\n",
            "+---------+-----------------+------------------------------------------------------------+\n",
            "|Dermovate|anti-inflammatory|corticosteroids::: dermatological preparations:::very strong|\n",
            "|Aspagin  |analgesic        |anti-inflammatory:::antipyretic                             |\n",
            "+---------+-----------------+------------------------------------------------------------+\n",
            "\n"
          ]
        }
      ]
    },
    {
      "cell_type": "markdown",
      "source": [
        "Now, let's set the `.setRels([\"treatment\"])` and see the results. "
      ],
      "metadata": {
        "id": "YsTnjIm90IT7"
      }
    },
    {
      "cell_type": "code",
      "source": [
        "#drug_action_treatment_mapper with \"treatment\" mappings\n",
        "chunkerMapper= ChunkMapperModel().pretrained(\"drug_action_treatment_mapper\", \"en\", \"clinical/models\")\\\n",
        "    .setInputCols([\"ner_chunk\"])\\\n",
        "    .setOutputCol(\"action_mappings\")\\\n",
        "    .setRels([\"treatment\"])\n",
        "\n",
        "pipeline = Pipeline().setStages([document_assembler,\n",
        "                                 sentence_detector,\n",
        "                                 tokenizer,\n",
        "                                 ner, \n",
        "                                 nerconverter, \n",
        "                                 chunkerMapper])\n",
        "\n",
        "text = [\n",
        "    [\"\"\"The patient was female and patient of Dr. X. and she was given Dermovate, Aspagin\"\"\"]\n",
        "]\n",
        "\n",
        "test_data = spark.createDataFrame(text).toDF(\"text\")\n",
        "\n",
        "res = pipeline.fit(test_data).transform(test_data)\n"
      ],
      "metadata": {
        "id": "2UQk9dIKzp_v",
        "colab": {
          "base_uri": "https://localhost:8080/"
        },
        "outputId": "7f9c996e-99e9-4cdf-8f4b-f66ad8e8476f"
      },
      "execution_count": null,
      "outputs": [
        {
          "output_type": "stream",
          "name": "stdout",
          "text": [
            "drug_action_treatment_mapper download started this may take some time.\n",
            "[OK!]\n"
          ]
        }
      ]
    },
    {
      "cell_type": "code",
      "source": [
        "res.select(F.explode('ner_chunk.result').alias(\"chunks\")).show(truncate=False)"
      ],
      "metadata": {
        "colab": {
          "base_uri": "https://localhost:8080/"
        },
        "id": "WIa_Lioxzp5V",
        "outputId": "f7e0b2b9-5c21-46b7-b237-c054159ea1f7"
      },
      "execution_count": null,
      "outputs": [
        {
          "output_type": "stream",
          "name": "stdout",
          "text": [
            "+---------+\n",
            "|chunks   |\n",
            "+---------+\n",
            "|Dermovate|\n",
            "|Aspagin  |\n",
            "+---------+\n",
            "\n"
          ]
        }
      ]
    },
    {
      "cell_type": "code",
      "source": [
        "res.selectExpr(\"action_mappings.metadata\").show(truncate=False)"
      ],
      "metadata": {
        "colab": {
          "base_uri": "https://localhost:8080/"
        },
        "id": "J6YxxPlOSGAF",
        "outputId": "3e1eb202-65e7-4dc3-e2a0-edcacbd7b7a6"
      },
      "execution_count": null,
      "outputs": [
        {
          "output_type": "stream",
          "name": "stdout",
          "text": [
            "+---------------------------------------------------------------------------------------------------------------------------------------------------------------------------------------------------------------------------------------------------------------------------------------------------------------------------------------------------------------------------------------------------------------------------------------------------------------------------------------------------------------------------+\n",
            "|metadata                                                                                                                                                                                                                                                                                                                                                                                                                                                                                                                   |\n",
            "+---------------------------------------------------------------------------------------------------------------------------------------------------------------------------------------------------------------------------------------------------------------------------------------------------------------------------------------------------------------------------------------------------------------------------------------------------------------------------------------------------------------------------+\n",
            "|[{chunk -> 0, relation -> treatment, confidence -> 0.9997595, all_relations -> discoid lupus erythematosus:::empeines:::psoriasis:::eczema, entity -> Dermovate, sentence -> 0}, {chunk -> 1, relation -> treatment, confidence -> 0.99668664, all_relations -> arthralgia:::pain:::bursitis:::headache:::migraine:::myositis:::neuralgia:::osteoarthritis:::gout:::rheumatoid arthritis:::spondylitis:::spondyloarthritis:::tendinitis:::tenosynovitis:::crush injury:::golfer's elbow, entity -> Aspagin, sentence -> 0}]|\n",
            "+---------------------------------------------------------------------------------------------------------------------------------------------------------------------------------------------------------------------------------------------------------------------------------------------------------------------------------------------------------------------------------------------------------------------------------------------------------------------------------------------------------------------------+\n",
            "\n"
          ]
        }
      ]
    },
    {
      "cell_type": "markdown",
      "source": [
        "Here are the ***treatment*** mappings and all relations under the metadata column. "
      ],
      "metadata": {
        "id": "YFpNGIVzWNl1"
      }
    },
    {
      "cell_type": "code",
      "source": [
        "res.select(F.explode(F.arrays_zip(res.ner_chunk.result, res.action_mappings.result, res.action_mappings.metadata)).alias(\"col\"))\\\n",
        "    .select(F.expr(\"col['0']\").alias(\"ner_chunk\"),\n",
        "            F.expr(\"col['1']\").alias(\"mapping_result\"),\n",
        "            F.expr(\"col['2']['all_relations']\").alias(\"all_relations\")).show(truncate=False)"
      ],
      "metadata": {
        "id": "WaHUwXn8RCeu",
        "outputId": "29f60255-c92f-4d69-c1fa-7db2fe863163",
        "colab": {
          "base_uri": "https://localhost:8080/"
        }
      },
      "execution_count": null,
      "outputs": [
        {
          "output_type": "stream",
          "name": "stdout",
          "text": [
            "+---------+----------------------+-----------------------------------------------------------------------------------------------------------------------------------------------------------------------------------------------------------------------+\n",
            "|ner_chunk|mapping_result        |all_relations                                                                                                                                                                                                          |\n",
            "+---------+----------------------+-----------------------------------------------------------------------------------------------------------------------------------------------------------------------------------------------------------------------+\n",
            "|Dermovate|lupus                 |discoid lupus erythematosus:::empeines:::psoriasis:::eczema                                                                                                                                                            |\n",
            "|Aspagin  |ankylosing spondylitis|arthralgia:::pain:::bursitis:::headache:::migraine:::myositis:::neuralgia:::osteoarthritis:::gout:::rheumatoid arthritis:::spondylitis:::spondyloarthritis:::tendinitis:::tenosynovitis:::crush injury:::golfer's elbow|\n",
            "+---------+----------------------+-----------------------------------------------------------------------------------------------------------------------------------------------------------------------------------------------------------------------+\n",
            "\n"
          ]
        }
      ]
    },
    {
      "cell_type": "markdown",
      "source": [
        "## 1.2- Section Header Normalizer Mapper"
      ],
      "metadata": {
        "id": "iQMHFp1TvRVX"
      }
    },
    {
      "cell_type": "markdown",
      "source": [
        "We have `normalized_section_header_mapper` model that normalizes the section headers in clinical notes. It returns two levels of normalization called `level_1` and `level_2`. <br/>\n",
        "\n",
        "**level_1** refers to the most comprehensive \"section header\" for the corresponding chunk while **level_2** refers to the second comprehensive one.\n",
        "\n",
        "Let's create a piepline with `normalized_section_header_mapper` and see how it works"
      ],
      "metadata": {
        "id": "tue53lJXvfdK"
      }
    },
    {
      "cell_type": "code",
      "source": [
        "document_assembler = DocumentAssembler()\\\n",
        "       .setInputCol('text')\\\n",
        "       .setOutputCol('document')\n",
        "\n",
        "sentence_detector = SentenceDetector()\\\n",
        "       .setInputCols([\"document\"])\\\n",
        "       .setOutputCol(\"sentence\")\n",
        "\n",
        "tokenizer = Tokenizer()\\\n",
        "      .setInputCols(\"sentence\")\\\n",
        "      .setOutputCol(\"token\")\n",
        "\n",
        "embeddings = WordEmbeddingsModel.pretrained(\"embeddings_clinical\", \"en\",\"clinical/models\")\\\n",
        "      .setInputCols([\"sentence\", \"token\"])\\\n",
        "      .setOutputCol(\"word_embeddings\")\n",
        "\n",
        "clinical_ner = MedicalNerModel.pretrained(\"ner_jsl_slim\", \"en\", \"clinical/models\")\\\n",
        "      .setInputCols([\"sentence\",\"token\", \"word_embeddings\"])\\\n",
        "      .setOutputCol(\"ner\")\n",
        "\n",
        "ner_converter = NerConverter()\\\n",
        "      .setInputCols([\"sentence\", \"token\", \"ner\"])\\\n",
        "      .setOutputCol(\"ner_chunk\")\\\n",
        "      .setWhiteList([\"Header\"])\n",
        "\n",
        "chunkerMapper = ChunkMapperModel.pretrained(\"normalized_section_header_mapper\", \"en\", \"clinical/models\") \\\n",
        "       .setInputCols(\"ner_chunk\")\\\n",
        "       .setOutputCol(\"mappings\")\\\n",
        "       .setRels([\"level_1\"]) #or level_2\n",
        "\n",
        "pipeline = Pipeline().setStages([document_assembler,\n",
        "                                sentence_detector,\n",
        "                                tokenizer, \n",
        "                                embeddings,\n",
        "                                clinical_ner, \n",
        "                                ner_converter, \n",
        "                                chunkerMapper])\n",
        "\n",
        "sentences = [\n",
        "    [\"\"\"ADMISSION DIAGNOSIS Right pleural effusion and suspected malignant mesothelioma.\n",
        "        PRINCIPAL DIAGNOSIS Right pleural effusion, suspected malignant mesothelioma.\n",
        "        GENERAL REVIEW Right pleural effusion, firm nodules, diffuse scattered throughout the right pleura and diaphragmatic surface.\n",
        "    \"\"\"]]\n",
        "\n",
        "test_data = spark.createDataFrame(sentences).toDF(\"text\")\n",
        "res = pipeline.fit(test_data).transform(test_data)"
      ],
      "metadata": {
        "colab": {
          "base_uri": "https://localhost:8080/"
        },
        "id": "26Ih_X1JvSV_",
        "outputId": "ea1d11e0-593c-400e-b85a-16d74d4f75e7"
      },
      "execution_count": null,
      "outputs": [
        {
          "output_type": "stream",
          "name": "stdout",
          "text": [
            "embeddings_clinical download started this may take some time.\n",
            "Approximate size to download 1.6 GB\n",
            "[OK!]\n",
            "ner_jsl_slim download started this may take some time.\n",
            "[OK!]\n",
            "normalized_section_header_mapper download started this may take some time.\n",
            "[OK!]\n"
          ]
        }
      ]
    },
    {
      "cell_type": "markdown",
      "source": [
        "Checking the headers detected by ner model"
      ],
      "metadata": {
        "id": "3fTn2JPWyxOk"
      }
    },
    {
      "cell_type": "code",
      "source": [
        "res.select(F.explode('ner_chunk.result').alias(\"chunks\")).show(truncate=False)"
      ],
      "metadata": {
        "colab": {
          "base_uri": "https://localhost:8080/"
        },
        "id": "QfgyrLomxXv_",
        "outputId": "7a505a8f-9007-41b0-9732-60e82ed5fd42"
      },
      "execution_count": null,
      "outputs": [
        {
          "output_type": "stream",
          "name": "stdout",
          "text": [
            "+-------------------+\n",
            "|chunks             |\n",
            "+-------------------+\n",
            "|ADMISSION DIAGNOSIS|\n",
            "|PRINCIPAL DIAGNOSIS|\n",
            "|GENERAL REVIEW     |\n",
            "+-------------------+\n",
            "\n"
          ]
        }
      ]
    },
    {
      "cell_type": "markdown",
      "source": [
        "Checking mapping results"
      ],
      "metadata": {
        "id": "6pv_4VLWzFw0"
      }
    },
    {
      "cell_type": "code",
      "source": [
        "res.select(\"mappings.result\").show(truncate=False)"
      ],
      "metadata": {
        "colab": {
          "base_uri": "https://localhost:8080/"
        },
        "id": "LYZdPVHwxXr9",
        "outputId": "6f5e5f4a-992f-43e5-80be-d651a603f09b"
      },
      "execution_count": null,
      "outputs": [
        {
          "output_type": "stream",
          "name": "stdout",
          "text": [
            "+-----------------------------------+\n",
            "|result                             |\n",
            "+-----------------------------------+\n",
            "|[DIAGNOSIS, DIAGNOSIS, REVIEW TYPE]|\n",
            "+-----------------------------------+\n",
            "\n"
          ]
        }
      ]
    },
    {
      "cell_type": "code",
      "source": [
        "res.select(F.explode(F.arrays_zip(res.ner_chunk.result, res.mappings.result)).alias(\"col\"))\\\n",
        "    .select(F.expr(\"col['0']\").alias(\"ner_chunk\"),\n",
        "            F.expr(\"col['1']\").alias(\"mapping_result\")).show(truncate=False)"
      ],
      "metadata": {
        "colab": {
          "base_uri": "https://localhost:8080/"
        },
        "id": "cqgpO0ANvSOu",
        "outputId": "62e1ad44-6f2c-4d11-ec99-d664e70c08e4"
      },
      "execution_count": null,
      "outputs": [
        {
          "output_type": "stream",
          "name": "stdout",
          "text": [
            "+-------------------+--------------+\n",
            "|ner_chunk          |mapping_result|\n",
            "+-------------------+--------------+\n",
            "|ADMISSION DIAGNOSIS|DIAGNOSIS     |\n",
            "|PRINCIPAL DIAGNOSIS|DIAGNOSIS     |\n",
            "|GENERAL REVIEW     |REVIEW TYPE   |\n",
            "+-------------------+--------------+\n",
            "\n"
          ]
        }
      ]
    },
    {
      "cell_type": "markdown",
      "source": [
        "As you see above, we can see the \"level_1\" based normalized version of each section header."
      ],
      "metadata": {
        "id": "w5OHH23MzjDl"
      }
    },
    {
      "cell_type": "markdown",
      "source": [
        "## 1.3- Drug Brand Name NDC Mapper"
      ],
      "metadata": {
        "id": "KIUlv3Ka_iwy"
      }
    },
    {
      "cell_type": "markdown",
      "source": [
        "We have `drug_brandname_ndc_mapper` model that maps drug brand names to corresponding National Drug Codes (NDC). Product NDCs for each strength are returned in result and metadata. <br/>\n",
        "\n",
        "It has one relation type called `Strength_NDC`"
      ],
      "metadata": {
        "id": "JfYOYPF0ALiH"
      }
    },
    {
      "cell_type": "markdown",
      "source": [
        "Let's create a pipeline with `drug_brandname_ndc_mapper` and see how it works."
      ],
      "metadata": {
        "id": "nsdyOYV1DHdU"
      }
    },
    {
      "cell_type": "code",
      "source": [
        "document_assembler = DocumentAssembler()\\\n",
        "      .setInputCol(\"text\")\\\n",
        "      .setOutputCol(\"chunk\")\n",
        "\n",
        "chunkerMapper = ChunkMapperModel.pretrained(\"drug_brandname_ndc_mapper\", \"en\", \"clinical/models\")\\\n",
        "      .setInputCols([\"chunk\"])\\\n",
        "      .setOutputCol(\"ndc\")\\\n",
        "      .setRels([\"Strength_NDC\"])\n",
        "\n",
        "pipeline = Pipeline().setStages([document_assembler,\n",
        "                                 chunkerMapper])  \n",
        "\n",
        "model = pipeline.fit(spark.createDataFrame([['']]).toDF('text')) \n",
        "\n",
        "lp = LightPipeline(model)\n",
        "\n",
        "res = lp.fullAnnotate('ZYVOX')"
      ],
      "metadata": {
        "colab": {
          "base_uri": "https://localhost:8080/"
        },
        "id": "6wGtPSK4_ikU",
        "outputId": "36947cd8-fb99-4cba-a389-32e0362f9047"
      },
      "execution_count": null,
      "outputs": [
        {
          "output_type": "stream",
          "name": "stdout",
          "text": [
            "drug_brandname_ndc_mapper download started this may take some time.\n",
            "[OK!]\n"
          ]
        }
      ]
    },
    {
      "cell_type": "code",
      "source": [
        "chunks = []\n",
        "mappings = []\n",
        "all_re= []\n",
        "\n",
        "for m, n in list(zip(res[0]['chunk'], res[0][\"ndc\"])):\n",
        "        \n",
        "    chunks.append(m.result)\n",
        "    mappings.append(n.result) \n",
        "    all_re.append(n.metadata[\"all_relations\"])\n",
        "    \n",
        "import pandas as pd\n",
        "pd.set_option('display.max_colwidth', None)\n",
        "\n",
        "df = pd.DataFrame({'Brand_Name':chunks, 'Strenth_NDC': mappings, 'Other_NDC':all_re})\n",
        "\n",
        "df"
      ],
      "metadata": {
        "colab": {
          "base_uri": "https://localhost:8080/",
          "height": 158
        },
        "id": "ArYNThd1DxLr",
        "outputId": "4ff52a9a-dc01-4816-f8df-1f982811d1c0"
      },
      "execution_count": null,
      "outputs": [
        {
          "output_type": "execute_result",
          "data": {
            "text/plain": [
              "  Brand_Name               Strenth_NDC  \\\n",
              "0      ZYVOX  600 mg/300mL | 0009-4992   \n",
              "\n",
              "                                                                                                                                                                                                                                    Other_NDC  \n",
              "0  600 mg/300mL | 66298-7807:::600 mg/300mL | 0009-7807:::600 mg/300mL | 0009-5140:::100 mg/5mL | 0009-5136:::600 mg/1 | 70518-1226:::600 mg/300mL | 66298-5140:::200 mg/100mL | 66298-5137:::200 mg/100mL | 0009-5137:::600 mg/1 | 0009-5138  "
            ],
            "text/html": [
              "\n",
              "  <div id=\"df-28cb9d8c-f8d4-4709-9844-487629cb8a50\">\n",
              "    <div class=\"colab-df-container\">\n",
              "      <div>\n",
              "<style scoped>\n",
              "    .dataframe tbody tr th:only-of-type {\n",
              "        vertical-align: middle;\n",
              "    }\n",
              "\n",
              "    .dataframe tbody tr th {\n",
              "        vertical-align: top;\n",
              "    }\n",
              "\n",
              "    .dataframe thead th {\n",
              "        text-align: right;\n",
              "    }\n",
              "</style>\n",
              "<table border=\"1\" class=\"dataframe\">\n",
              "  <thead>\n",
              "    <tr style=\"text-align: right;\">\n",
              "      <th></th>\n",
              "      <th>Brand_Name</th>\n",
              "      <th>Strenth_NDC</th>\n",
              "      <th>Other_NDC</th>\n",
              "    </tr>\n",
              "  </thead>\n",
              "  <tbody>\n",
              "    <tr>\n",
              "      <th>0</th>\n",
              "      <td>ZYVOX</td>\n",
              "      <td>600 mg/300mL | 0009-4992</td>\n",
              "      <td>600 mg/300mL | 66298-7807:::600 mg/300mL | 0009-7807:::600 mg/300mL | 0009-5140:::100 mg/5mL | 0009-5136:::600 mg/1 | 70518-1226:::600 mg/300mL | 66298-5140:::200 mg/100mL | 66298-5137:::200 mg/100mL | 0009-5137:::600 mg/1 | 0009-5138</td>\n",
              "    </tr>\n",
              "  </tbody>\n",
              "</table>\n",
              "</div>\n",
              "      <button class=\"colab-df-convert\" onclick=\"convertToInteractive('df-28cb9d8c-f8d4-4709-9844-487629cb8a50')\"\n",
              "              title=\"Convert this dataframe to an interactive table.\"\n",
              "              style=\"display:none;\">\n",
              "        \n",
              "  <svg xmlns=\"http://www.w3.org/2000/svg\" height=\"24px\"viewBox=\"0 0 24 24\"\n",
              "       width=\"24px\">\n",
              "    <path d=\"M0 0h24v24H0V0z\" fill=\"none\"/>\n",
              "    <path d=\"M18.56 5.44l.94 2.06.94-2.06 2.06-.94-2.06-.94-.94-2.06-.94 2.06-2.06.94zm-11 1L8.5 8.5l.94-2.06 2.06-.94-2.06-.94L8.5 2.5l-.94 2.06-2.06.94zm10 10l.94 2.06.94-2.06 2.06-.94-2.06-.94-.94-2.06-.94 2.06-2.06.94z\"/><path d=\"M17.41 7.96l-1.37-1.37c-.4-.4-.92-.59-1.43-.59-.52 0-1.04.2-1.43.59L10.3 9.45l-7.72 7.72c-.78.78-.78 2.05 0 2.83L4 21.41c.39.39.9.59 1.41.59.51 0 1.02-.2 1.41-.59l7.78-7.78 2.81-2.81c.8-.78.8-2.07 0-2.86zM5.41 20L4 18.59l7.72-7.72 1.47 1.35L5.41 20z\"/>\n",
              "  </svg>\n",
              "      </button>\n",
              "      \n",
              "  <style>\n",
              "    .colab-df-container {\n",
              "      display:flex;\n",
              "      flex-wrap:wrap;\n",
              "      gap: 12px;\n",
              "    }\n",
              "\n",
              "    .colab-df-convert {\n",
              "      background-color: #E8F0FE;\n",
              "      border: none;\n",
              "      border-radius: 50%;\n",
              "      cursor: pointer;\n",
              "      display: none;\n",
              "      fill: #1967D2;\n",
              "      height: 32px;\n",
              "      padding: 0 0 0 0;\n",
              "      width: 32px;\n",
              "    }\n",
              "\n",
              "    .colab-df-convert:hover {\n",
              "      background-color: #E2EBFA;\n",
              "      box-shadow: 0px 1px 2px rgba(60, 64, 67, 0.3), 0px 1px 3px 1px rgba(60, 64, 67, 0.15);\n",
              "      fill: #174EA6;\n",
              "    }\n",
              "\n",
              "    [theme=dark] .colab-df-convert {\n",
              "      background-color: #3B4455;\n",
              "      fill: #D2E3FC;\n",
              "    }\n",
              "\n",
              "    [theme=dark] .colab-df-convert:hover {\n",
              "      background-color: #434B5C;\n",
              "      box-shadow: 0px 1px 3px 1px rgba(0, 0, 0, 0.15);\n",
              "      filter: drop-shadow(0px 1px 2px rgba(0, 0, 0, 0.3));\n",
              "      fill: #FFFFFF;\n",
              "    }\n",
              "  </style>\n",
              "\n",
              "      <script>\n",
              "        const buttonEl =\n",
              "          document.querySelector('#df-28cb9d8c-f8d4-4709-9844-487629cb8a50 button.colab-df-convert');\n",
              "        buttonEl.style.display =\n",
              "          google.colab.kernel.accessAllowed ? 'block' : 'none';\n",
              "\n",
              "        async function convertToInteractive(key) {\n",
              "          const element = document.querySelector('#df-28cb9d8c-f8d4-4709-9844-487629cb8a50');\n",
              "          const dataTable =\n",
              "            await google.colab.kernel.invokeFunction('convertToInteractive',\n",
              "                                                     [key], {});\n",
              "          if (!dataTable) return;\n",
              "\n",
              "          const docLinkHtml = 'Like what you see? Visit the ' +\n",
              "            '<a target=\"_blank\" href=https://colab.research.google.com/notebooks/data_table.ipynb>data table notebook</a>'\n",
              "            + ' to learn more about interactive tables.';\n",
              "          element.innerHTML = '';\n",
              "          dataTable['output_type'] = 'display_data';\n",
              "          await google.colab.output.renderOutput(dataTable, element);\n",
              "          const docLink = document.createElement('div');\n",
              "          docLink.innerHTML = docLinkHtml;\n",
              "          element.appendChild(docLink);\n",
              "        }\n",
              "      </script>\n",
              "    </div>\n",
              "  </div>\n",
              "  "
            ]
          },
          "metadata": {},
          "execution_count": 17
        }
      ]
    },
    {
      "cell_type": "markdown",
      "source": [
        "As you see, we can see corresponding \"NDC\" mappings of each \"brand names\". "
      ],
      "metadata": {
        "id": "Ntq2uH7lDkAq"
      }
    },
    {
      "cell_type": "markdown",
      "source": [
        "## 1.4- RxNorm NDC Mapper"
      ],
      "metadata": {
        "id": "zBKhGobLESSP"
      }
    },
    {
      "cell_type": "markdown",
      "source": [
        "We have `rxnorm_ndc_mapper` model that maps RxNorm and RxNorm Extension codes with corresponding National Drug Codes (NDC).\n",
        "\n",
        "It has two relation types that can be defined in `setRel()` parameter; **Product NDC** and **Package NDC**"
      ],
      "metadata": {
        "id": "ODX-0_GxEbFF"
      }
    },
    {
      "cell_type": "markdown",
      "source": [
        "Let's create a pipeline with `rxnorm_ndc_mapper` model by setting the  relation as `setRel(\"Product NDC\")` and see the results. "
      ],
      "metadata": {
        "id": "fRNTaLYFFET9"
      }
    },
    {
      "cell_type": "code",
      "source": [
        "document_assembler = DocumentAssembler()\\\n",
        "      .setInputCol('text')\\\n",
        "      .setOutputCol('ner_chunk')\n",
        "\n",
        "sbert_embedder = BertSentenceEmbeddings.pretrained('sbiobert_base_cased_mli', 'en','clinical/models')\\\n",
        "      .setInputCols([\"ner_chunk\"])\\\n",
        "      .setOutputCol(\"sentence_embeddings\")\\\n",
        "      .setCaseSensitive(False)\n",
        "    \n",
        "rxnorm_resolver = SentenceEntityResolverModel.pretrained(\"sbiobertresolve_rxnorm_augmented\",\"en\", \"clinical/models\") \\\n",
        "      .setInputCols([\"ner_chunk\", \"sentence_embeddings\"]) \\\n",
        "      .setOutputCol(\"rxnorm_code\")\\\n",
        "      .setDistanceFunction(\"EUCLIDEAN\")\n",
        "\n",
        "chunkerMapper_product = ChunkMapperModel.pretrained(\"rxnorm_ndc_mapper\", \"en\", \"clinical/models\")\\\n",
        "      .setInputCols([\"rxnorm_code\"])\\\n",
        "      .setOutputCol(\"Product NDC\")\\\n",
        "      .setRels([\"Product NDC\"]) #or Package NDC\n",
        "\n",
        "pipeline = Pipeline().setStages([document_assembler,\n",
        "                                 sbert_embedder,\n",
        "                                 rxnorm_resolver,\n",
        "                                 chunkerMapper_product\n",
        "                                 ])\n",
        "\n",
        "model = pipeline.fit(spark.createDataFrame([['']]).toDF('text')) \n",
        "\n",
        "lp = LightPipeline(model)\n",
        "\n",
        "result = lp.fullAnnotate('macadamia nut 100 MG/ML')"
      ],
      "metadata": {
        "colab": {
          "base_uri": "https://localhost:8080/"
        },
        "id": "bR1XvJzKEM3n",
        "outputId": "d35d554c-5948-4330-ed24-83cc57b57711"
      },
      "execution_count": null,
      "outputs": [
        {
          "output_type": "stream",
          "name": "stdout",
          "text": [
            "sbiobert_base_cased_mli download started this may take some time.\n",
            "Approximate size to download 384.3 MB\n",
            "[OK!]\n",
            "sbiobertresolve_rxnorm_augmented download started this may take some time.\n",
            "[OK!]\n",
            "rxnorm_ndc_mapper download started this may take some time.\n",
            "[OK!]\n"
          ]
        }
      ]
    },
    {
      "cell_type": "markdown",
      "source": [
        "Checking the results"
      ],
      "metadata": {
        "id": "IeGDZ0-vSRp6"
      }
    },
    {
      "cell_type": "code",
      "source": [
        "chunks = []\n",
        "rxnorm_code = []\n",
        "product= []\n",
        "\n",
        "\n",
        "for m, n, j in list(zip(result[0]['ner_chunk'], result[0][\"rxnorm_code\"], result[0][\"Product NDC\"])):\n",
        "\n",
        "    chunks.append(m.result)\n",
        "    rxnorm_code.append(n.result) \n",
        "    product.append(j.result)\n",
        "    \n",
        "import pandas as pd\n",
        "\n",
        "df = pd.DataFrame({'ner_chunk':chunks,\n",
        "                   'rxnorm_code': rxnorm_code,\n",
        "                   'Product NDC': product})\n",
        "\n",
        "df"
      ],
      "metadata": {
        "colab": {
          "base_uri": "https://localhost:8080/",
          "height": 80
        },
        "id": "uw8vKIysl2Gu",
        "outputId": "deb984db-0e3e-4532-ac65-bfd9f889fefa"
      },
      "execution_count": null,
      "outputs": [
        {
          "output_type": "execute_result",
          "data": {
            "text/plain": [
              "                 ner_chunk rxnorm_code Product NDC\n",
              "0  macadamia nut 100 MG/ML      212433  00187-1474"
            ],
            "text/html": [
              "\n",
              "  <div id=\"df-7c61553f-4239-4dab-9b2c-a17b5b3f7d20\">\n",
              "    <div class=\"colab-df-container\">\n",
              "      <div>\n",
              "<style scoped>\n",
              "    .dataframe tbody tr th:only-of-type {\n",
              "        vertical-align: middle;\n",
              "    }\n",
              "\n",
              "    .dataframe tbody tr th {\n",
              "        vertical-align: top;\n",
              "    }\n",
              "\n",
              "    .dataframe thead th {\n",
              "        text-align: right;\n",
              "    }\n",
              "</style>\n",
              "<table border=\"1\" class=\"dataframe\">\n",
              "  <thead>\n",
              "    <tr style=\"text-align: right;\">\n",
              "      <th></th>\n",
              "      <th>ner_chunk</th>\n",
              "      <th>rxnorm_code</th>\n",
              "      <th>Product NDC</th>\n",
              "    </tr>\n",
              "  </thead>\n",
              "  <tbody>\n",
              "    <tr>\n",
              "      <th>0</th>\n",
              "      <td>macadamia nut 100 MG/ML</td>\n",
              "      <td>212433</td>\n",
              "      <td>00187-1474</td>\n",
              "    </tr>\n",
              "  </tbody>\n",
              "</table>\n",
              "</div>\n",
              "      <button class=\"colab-df-convert\" onclick=\"convertToInteractive('df-7c61553f-4239-4dab-9b2c-a17b5b3f7d20')\"\n",
              "              title=\"Convert this dataframe to an interactive table.\"\n",
              "              style=\"display:none;\">\n",
              "        \n",
              "  <svg xmlns=\"http://www.w3.org/2000/svg\" height=\"24px\"viewBox=\"0 0 24 24\"\n",
              "       width=\"24px\">\n",
              "    <path d=\"M0 0h24v24H0V0z\" fill=\"none\"/>\n",
              "    <path d=\"M18.56 5.44l.94 2.06.94-2.06 2.06-.94-2.06-.94-.94-2.06-.94 2.06-2.06.94zm-11 1L8.5 8.5l.94-2.06 2.06-.94-2.06-.94L8.5 2.5l-.94 2.06-2.06.94zm10 10l.94 2.06.94-2.06 2.06-.94-2.06-.94-.94-2.06-.94 2.06-2.06.94z\"/><path d=\"M17.41 7.96l-1.37-1.37c-.4-.4-.92-.59-1.43-.59-.52 0-1.04.2-1.43.59L10.3 9.45l-7.72 7.72c-.78.78-.78 2.05 0 2.83L4 21.41c.39.39.9.59 1.41.59.51 0 1.02-.2 1.41-.59l7.78-7.78 2.81-2.81c.8-.78.8-2.07 0-2.86zM5.41 20L4 18.59l7.72-7.72 1.47 1.35L5.41 20z\"/>\n",
              "  </svg>\n",
              "      </button>\n",
              "      \n",
              "  <style>\n",
              "    .colab-df-container {\n",
              "      display:flex;\n",
              "      flex-wrap:wrap;\n",
              "      gap: 12px;\n",
              "    }\n",
              "\n",
              "    .colab-df-convert {\n",
              "      background-color: #E8F0FE;\n",
              "      border: none;\n",
              "      border-radius: 50%;\n",
              "      cursor: pointer;\n",
              "      display: none;\n",
              "      fill: #1967D2;\n",
              "      height: 32px;\n",
              "      padding: 0 0 0 0;\n",
              "      width: 32px;\n",
              "    }\n",
              "\n",
              "    .colab-df-convert:hover {\n",
              "      background-color: #E2EBFA;\n",
              "      box-shadow: 0px 1px 2px rgba(60, 64, 67, 0.3), 0px 1px 3px 1px rgba(60, 64, 67, 0.15);\n",
              "      fill: #174EA6;\n",
              "    }\n",
              "\n",
              "    [theme=dark] .colab-df-convert {\n",
              "      background-color: #3B4455;\n",
              "      fill: #D2E3FC;\n",
              "    }\n",
              "\n",
              "    [theme=dark] .colab-df-convert:hover {\n",
              "      background-color: #434B5C;\n",
              "      box-shadow: 0px 1px 3px 1px rgba(0, 0, 0, 0.15);\n",
              "      filter: drop-shadow(0px 1px 2px rgba(0, 0, 0, 0.3));\n",
              "      fill: #FFFFFF;\n",
              "    }\n",
              "  </style>\n",
              "\n",
              "      <script>\n",
              "        const buttonEl =\n",
              "          document.querySelector('#df-7c61553f-4239-4dab-9b2c-a17b5b3f7d20 button.colab-df-convert');\n",
              "        buttonEl.style.display =\n",
              "          google.colab.kernel.accessAllowed ? 'block' : 'none';\n",
              "\n",
              "        async function convertToInteractive(key) {\n",
              "          const element = document.querySelector('#df-7c61553f-4239-4dab-9b2c-a17b5b3f7d20');\n",
              "          const dataTable =\n",
              "            await google.colab.kernel.invokeFunction('convertToInteractive',\n",
              "                                                     [key], {});\n",
              "          if (!dataTable) return;\n",
              "\n",
              "          const docLinkHtml = 'Like what you see? Visit the ' +\n",
              "            '<a target=\"_blank\" href=https://colab.research.google.com/notebooks/data_table.ipynb>data table notebook</a>'\n",
              "            + ' to learn more about interactive tables.';\n",
              "          element.innerHTML = '';\n",
              "          dataTable['output_type'] = 'display_data';\n",
              "          await google.colab.output.renderOutput(dataTable, element);\n",
              "          const docLink = document.createElement('div');\n",
              "          docLink.innerHTML = docLinkHtml;\n",
              "          element.appendChild(docLink);\n",
              "        }\n",
              "      </script>\n",
              "    </div>\n",
              "  </div>\n",
              "  "
            ]
          },
          "metadata": {},
          "execution_count": 19
        }
      ]
    },
    {
      "cell_type": "markdown",
      "source": [
        "As you see, we can see corresponding \"Product NDC\" mappings of each \"RxNorm codes\"."
      ],
      "metadata": {
        "id": "fvGK4Z7PSns8"
      }
    },
    {
      "cell_type": "markdown",
      "source": [
        "## 1.5- RxNorm Action Treatment Mapper"
      ],
      "metadata": {
        "id": "ci6QTFAaNvon"
      }
    },
    {
      "cell_type": "markdown",
      "source": [
        "We have `rxnorm_action_treatment_mapper` model that maps RxNorm and RxNorm Extension codes with their corresponding action and treatment. It has two relation types that can be defined in `setRel()` parameter; <br/>\n",
        "\n",
        "**Action** of drug refers to the function of a drug in various body systems. <br/>\n",
        "**Treatment** refers to which disease the drug is used to treat."
      ],
      "metadata": {
        "id": "x2L7A0ruN4JD"
      }
    },
    {
      "cell_type": "markdown",
      "source": [
        "Let's create a pipeline and see how it works. "
      ],
      "metadata": {
        "id": "kX0S24f7cA3H"
      }
    },
    {
      "cell_type": "code",
      "source": [
        "document_assembler = DocumentAssembler()\\\n",
        "      .setInputCol('text')\\\n",
        "      .setOutputCol('ner_chunk')\n",
        "\n",
        "sbert_embedder = BertSentenceEmbeddings.pretrained('sbiobert_base_cased_mli', 'en','clinical/models')\\\n",
        "      .setInputCols([\"ner_chunk\"])\\\n",
        "      .setOutputCol(\"sentence_embeddings\")\\\n",
        "      .setCaseSensitive(False)\n",
        "    \n",
        "rxnorm_resolver = SentenceEntityResolverModel.pretrained(\"sbiobertresolve_rxnorm_augmented\",\"en\", \"clinical/models\") \\\n",
        "      .setInputCols([\"ner_chunk\", \"sentence_embeddings\"]) \\\n",
        "      .setOutputCol(\"rxnorm_code\")\\\n",
        "      .setDistanceFunction(\"EUCLIDEAN\")\n",
        "\n",
        "chunkerMapper_action = ChunkMapperModel.pretrained(\"rxnorm_action_treatment_mapper\", \"en\", \"clinical/models\")\\\n",
        "      .setInputCols([\"rxnorm_code\"])\\\n",
        "      .setOutputCol(\"Action\")\\\n",
        "      .setRels([\"action\"]) #or treatment\n",
        "\n",
        "pipeline = Pipeline().setStages([document_assembler,\n",
        "                                 sbert_embedder,\n",
        "                                 rxnorm_resolver,\n",
        "                                 chunkerMapper_action\n",
        "                                 ])\n",
        "\n",
        "model = pipeline.fit(spark.createDataFrame([['']]).toDF('text')) \n",
        "\n",
        "lp = LightPipeline(model)\n",
        "\n",
        "res = lp.fullAnnotate('Zonalon 50 mg')"
      ],
      "metadata": {
        "colab": {
          "base_uri": "https://localhost:8080/"
        },
        "id": "NndvMrLFNmjk",
        "outputId": "31459496-19f0-47a2-c654-a3eeecd62ed1"
      },
      "execution_count": null,
      "outputs": [
        {
          "output_type": "stream",
          "name": "stdout",
          "text": [
            "sbiobert_base_cased_mli download started this may take some time.\n",
            "Approximate size to download 384.3 MB\n",
            "[OK!]\n",
            "sbiobertresolve_rxnorm_augmented download started this may take some time.\n",
            "[OK!]\n",
            "rxnorm_action_treatment_mapper download started this may take some time.\n",
            "[OK!]\n"
          ]
        }
      ]
    },
    {
      "cell_type": "markdown",
      "source": [
        "Checking the results"
      ],
      "metadata": {
        "id": "cFRzialBWYmM"
      }
    },
    {
      "cell_type": "code",
      "source": [
        "chunks = []\n",
        "rxnorm_code = []\n",
        "action= []\n",
        "\n",
        "\n",
        "for m, n, j in list(zip(res[0]['ner_chunk'], res[0][\"rxnorm_code\"], res[0][\"Action\"])):\n",
        "\n",
        "    chunks.append(m.result)\n",
        "    rxnorm_code.append(n.result) \n",
        "    action.append(j.result)\n",
        "    \n",
        "import pandas as pd\n",
        "\n",
        "df = pd.DataFrame({'ner_chunk':chunks,\n",
        "                   'rxnorm_code': rxnorm_code,\n",
        "                   'Action': action})\n",
        "\n",
        "df"
      ],
      "metadata": {
        "colab": {
          "base_uri": "https://localhost:8080/",
          "height": 80
        },
        "id": "MHWdg3_bmiwF",
        "outputId": "389906de-3ba7-4610-e184-55d2b7ada8e3"
      },
      "execution_count": null,
      "outputs": [
        {
          "output_type": "execute_result",
          "data": {
            "text/plain": [
              "       ner_chunk rxnorm_code     Action\n",
              "0  Zonalon 50 mg      103971  Analgesic"
            ],
            "text/html": [
              "\n",
              "  <div id=\"df-7117fc55-44cd-4051-bd8f-61c361bc5beb\">\n",
              "    <div class=\"colab-df-container\">\n",
              "      <div>\n",
              "<style scoped>\n",
              "    .dataframe tbody tr th:only-of-type {\n",
              "        vertical-align: middle;\n",
              "    }\n",
              "\n",
              "    .dataframe tbody tr th {\n",
              "        vertical-align: top;\n",
              "    }\n",
              "\n",
              "    .dataframe thead th {\n",
              "        text-align: right;\n",
              "    }\n",
              "</style>\n",
              "<table border=\"1\" class=\"dataframe\">\n",
              "  <thead>\n",
              "    <tr style=\"text-align: right;\">\n",
              "      <th></th>\n",
              "      <th>ner_chunk</th>\n",
              "      <th>rxnorm_code</th>\n",
              "      <th>Action</th>\n",
              "    </tr>\n",
              "  </thead>\n",
              "  <tbody>\n",
              "    <tr>\n",
              "      <th>0</th>\n",
              "      <td>Zonalon 50 mg</td>\n",
              "      <td>103971</td>\n",
              "      <td>Analgesic</td>\n",
              "    </tr>\n",
              "  </tbody>\n",
              "</table>\n",
              "</div>\n",
              "      <button class=\"colab-df-convert\" onclick=\"convertToInteractive('df-7117fc55-44cd-4051-bd8f-61c361bc5beb')\"\n",
              "              title=\"Convert this dataframe to an interactive table.\"\n",
              "              style=\"display:none;\">\n",
              "        \n",
              "  <svg xmlns=\"http://www.w3.org/2000/svg\" height=\"24px\"viewBox=\"0 0 24 24\"\n",
              "       width=\"24px\">\n",
              "    <path d=\"M0 0h24v24H0V0z\" fill=\"none\"/>\n",
              "    <path d=\"M18.56 5.44l.94 2.06.94-2.06 2.06-.94-2.06-.94-.94-2.06-.94 2.06-2.06.94zm-11 1L8.5 8.5l.94-2.06 2.06-.94-2.06-.94L8.5 2.5l-.94 2.06-2.06.94zm10 10l.94 2.06.94-2.06 2.06-.94-2.06-.94-.94-2.06-.94 2.06-2.06.94z\"/><path d=\"M17.41 7.96l-1.37-1.37c-.4-.4-.92-.59-1.43-.59-.52 0-1.04.2-1.43.59L10.3 9.45l-7.72 7.72c-.78.78-.78 2.05 0 2.83L4 21.41c.39.39.9.59 1.41.59.51 0 1.02-.2 1.41-.59l7.78-7.78 2.81-2.81c.8-.78.8-2.07 0-2.86zM5.41 20L4 18.59l7.72-7.72 1.47 1.35L5.41 20z\"/>\n",
              "  </svg>\n",
              "      </button>\n",
              "      \n",
              "  <style>\n",
              "    .colab-df-container {\n",
              "      display:flex;\n",
              "      flex-wrap:wrap;\n",
              "      gap: 12px;\n",
              "    }\n",
              "\n",
              "    .colab-df-convert {\n",
              "      background-color: #E8F0FE;\n",
              "      border: none;\n",
              "      border-radius: 50%;\n",
              "      cursor: pointer;\n",
              "      display: none;\n",
              "      fill: #1967D2;\n",
              "      height: 32px;\n",
              "      padding: 0 0 0 0;\n",
              "      width: 32px;\n",
              "    }\n",
              "\n",
              "    .colab-df-convert:hover {\n",
              "      background-color: #E2EBFA;\n",
              "      box-shadow: 0px 1px 2px rgba(60, 64, 67, 0.3), 0px 1px 3px 1px rgba(60, 64, 67, 0.15);\n",
              "      fill: #174EA6;\n",
              "    }\n",
              "\n",
              "    [theme=dark] .colab-df-convert {\n",
              "      background-color: #3B4455;\n",
              "      fill: #D2E3FC;\n",
              "    }\n",
              "\n",
              "    [theme=dark] .colab-df-convert:hover {\n",
              "      background-color: #434B5C;\n",
              "      box-shadow: 0px 1px 3px 1px rgba(0, 0, 0, 0.15);\n",
              "      filter: drop-shadow(0px 1px 2px rgba(0, 0, 0, 0.3));\n",
              "      fill: #FFFFFF;\n",
              "    }\n",
              "  </style>\n",
              "\n",
              "      <script>\n",
              "        const buttonEl =\n",
              "          document.querySelector('#df-7117fc55-44cd-4051-bd8f-61c361bc5beb button.colab-df-convert');\n",
              "        buttonEl.style.display =\n",
              "          google.colab.kernel.accessAllowed ? 'block' : 'none';\n",
              "\n",
              "        async function convertToInteractive(key) {\n",
              "          const element = document.querySelector('#df-7117fc55-44cd-4051-bd8f-61c361bc5beb');\n",
              "          const dataTable =\n",
              "            await google.colab.kernel.invokeFunction('convertToInteractive',\n",
              "                                                     [key], {});\n",
              "          if (!dataTable) return;\n",
              "\n",
              "          const docLinkHtml = 'Like what you see? Visit the ' +\n",
              "            '<a target=\"_blank\" href=https://colab.research.google.com/notebooks/data_table.ipynb>data table notebook</a>'\n",
              "            + ' to learn more about interactive tables.';\n",
              "          element.innerHTML = '';\n",
              "          dataTable['output_type'] = 'display_data';\n",
              "          await google.colab.output.renderOutput(dataTable, element);\n",
              "          const docLink = document.createElement('div');\n",
              "          docLink.innerHTML = docLinkHtml;\n",
              "          element.appendChild(docLink);\n",
              "        }\n",
              "      </script>\n",
              "    </div>\n",
              "  </div>\n",
              "  "
            ]
          },
          "metadata": {},
          "execution_count": 21
        }
      ]
    },
    {
      "cell_type": "markdown",
      "source": [
        "As you see, we can see corresponding \"Action\" mappings of each \"RxNorm codes\"."
      ],
      "metadata": {
        "id": "1lOTEXeeWSyW"
      }
    },
    {
      "cell_type": "markdown",
      "source": [
        "## 1.6- Abbreviation Mapper"
      ],
      "metadata": {
        "id": "TTKofeLuWj42"
      }
    },
    {
      "cell_type": "markdown",
      "source": [
        "We have `abbreviation_mapper` model that maps abbreviations and acronyms of medical regulatory activities with their definitions. <br/> It has one relation type that can be defined in `setRels([\"definition\"])` parameter."
      ],
      "metadata": {
        "id": "kwYOGi8DXCp8"
      }
    },
    {
      "cell_type": "markdown",
      "source": [
        "Let's create a pipeline consisting `ner_abbreviation_clinical` to extract abbreviations from text, and feed the `abbreviation_mapper` with it. "
      ],
      "metadata": {
        "id": "gHW9JxRjXZFy"
      }
    },
    {
      "cell_type": "code",
      "source": [
        "document_assembler = DocumentAssembler()\\\n",
        "      .setInputCol('text')\\\n",
        "      .setOutputCol('document')\n",
        "\n",
        "sentence_detector = SentenceDetector()\\\n",
        "      .setInputCols([\"document\"])\\\n",
        "      .setOutputCol(\"sentence\")\n",
        "\n",
        "tokenizer = Tokenizer()\\\n",
        "      .setInputCols(\"sentence\")\\\n",
        "      .setOutputCol(\"token\")\n",
        "\n",
        "word_embeddings = WordEmbeddingsModel.pretrained(\"embeddings_clinical\", \"en\", \"clinical/models\")\\\n",
        "      .setInputCols([\"sentence\", \"token\"])\\\n",
        "      .setOutputCol(\"embeddings\")\n",
        "\n",
        "#NER model to detect abbreviations in the text\n",
        "abbr_ner = MedicalNerModel.pretrained('ner_abbreviation_clinical', 'en', 'clinical/models') \\\n",
        "      .setInputCols([\"sentence\", \"token\", \"embeddings\"]) \\\n",
        "      .setOutputCol(\"abbr_ner\")\n",
        "\n",
        "abbr_converter = NerConverter() \\\n",
        "      .setInputCols([\"sentence\", \"token\", \"abbr_ner\"]) \\\n",
        "      .setOutputCol(\"abbr_ner_chunk\")\\\n",
        "\n",
        "chunkerMapper = ChunkMapperModel.pretrained(\"abbreviation_mapper\", \"en\", \"clinical/models\")\\\n",
        "      .setInputCols([\"abbr_ner_chunk\"])\\\n",
        "      .setOutputCol(\"mappings\")\\\n",
        "      .setRels([\"definition\"]) \n",
        "\n",
        "pipeline = Pipeline().setStages([document_assembler,\n",
        "                                 sentence_detector,\n",
        "                                 tokenizer, \n",
        "                                 word_embeddings,\n",
        "                                 abbr_ner, \n",
        "                                 abbr_converter, \n",
        "                                 chunkerMapper])\n",
        "\n",
        "text = [\"\"\"Gravid with estimated fetal weight of 6-6/12 pounds.\n",
        "           LABORATORY DATA: Laboratory tests include a CBC which is normal. \n",
        "           HIV: Negative. One-Hour Glucose: 117. Group B strep has not been done as yet.\"\"\"]\n",
        "\n",
        "test_data = spark.createDataFrame([text]).toDF(\"text\")\n",
        "\n",
        "model = pipeline.fit(test_data)\n",
        "res= model.transform(test_data)"
      ],
      "metadata": {
        "colab": {
          "base_uri": "https://localhost:8080/"
        },
        "id": "I6TcC8MvPHZE",
        "outputId": "9285e3cf-12c1-453c-a29b-e2f74a85f971"
      },
      "execution_count": null,
      "outputs": [
        {
          "output_type": "stream",
          "name": "stdout",
          "text": [
            "embeddings_clinical download started this may take some time.\n",
            "Approximate size to download 1.6 GB\n",
            "[OK!]\n",
            "ner_abbreviation_clinical download started this may take some time.\n",
            "[OK!]\n",
            "abbreviation_mapper download started this may take some time.\n",
            "[OK!]\n"
          ]
        }
      ]
    },
    {
      "cell_type": "markdown",
      "source": [
        "Checking the results"
      ],
      "metadata": {
        "id": "icqK31njXpbk"
      }
    },
    {
      "cell_type": "code",
      "source": [
        "#abbreviations extracted by ner model\n",
        "res.select(\"abbr_ner_chunk.result\").show()"
      ],
      "metadata": {
        "colab": {
          "base_uri": "https://localhost:8080/"
        },
        "id": "15gReqinY1Y3",
        "outputId": "ae255ccd-3c54-4b88-b919-9d84e7281f9d"
      },
      "execution_count": null,
      "outputs": [
        {
          "output_type": "stream",
          "name": "stdout",
          "text": [
            "+----------+\n",
            "|    result|\n",
            "+----------+\n",
            "|[CBC, HIV]|\n",
            "+----------+\n",
            "\n"
          ]
        }
      ]
    },
    {
      "cell_type": "code",
      "source": [
        "res.select(F.explode(F.arrays_zip(res.abbr_ner_chunk.result, res.mappings.result)).alias(\"col\"))\\\n",
        "    .select(F.expr(\"col['0']\").alias(\"Abbreviation\"),\n",
        "            F.expr(\"col['1']\").alias(\"Definition\")).show(truncate=False)"
      ],
      "metadata": {
        "colab": {
          "base_uri": "https://localhost:8080/"
        },
        "id": "fH_PG8ntXePz",
        "outputId": "52396fb1-a039-4dbf-b74b-126de4f05e2d"
      },
      "execution_count": null,
      "outputs": [
        {
          "output_type": "stream",
          "name": "stdout",
          "text": [
            "+------------+----------------------------+\n",
            "|Abbreviation|Definition                  |\n",
            "+------------+----------------------------+\n",
            "|CBC         |complete blood count        |\n",
            "|HIV         |human immunodeficiency virus|\n",
            "+------------+----------------------------+\n",
            "\n"
          ]
        }
      ]
    },
    {
      "cell_type": "markdown",
      "source": [
        "As you see, we can see corresponding \"definition\" mappings of each \"abbreviation\"."
      ],
      "metadata": {
        "id": "hB4S4r_eYNUc"
      }
    },
    {
      "cell_type": "markdown",
      "source": [
        "# 2- Creating a Mapper Model"
      ],
      "metadata": {
        "id": "tTo9cdLBfyG9"
      }
    },
    {
      "cell_type": "markdown",
      "source": [
        "There is a `ChunkMapperApproach()` to create your own mapper model. <br/>\n",
        "\n",
        "This receives an `ner_chunk` and a Json with a mapping of ner entities and relations, and returns the `ner_chunk` augmented with the relations from the Json ontology. <br/> We give the path of json file to the `setDictionary()` parameter.\n",
        "\n",
        "\n"
      ],
      "metadata": {
        "id": "SW9g1bjtgFQM"
      }
    },
    {
      "cell_type": "markdown",
      "source": [
        "Let's create an example Json, then create a drug mapper model. This model will match the given drug name (only \"metformin\" for our example) with correpsonding action and treatment.  \n",
        "\n",
        "The format of json file should be like following:\n"
      ],
      "metadata": {
        "id": "eFDHG9EVgayJ"
      }
    },
    {
      "cell_type": "code",
      "source": [
        "data_set= {\n",
        "  \"mappings\": [\n",
        "    {\n",
        "      \"key\": \"metformin\",\n",
        "      \"relations\": [\n",
        "        {\n",
        "          \"key\": \"action\",\n",
        "          \"values\" : [\"hypoglycemic\", \"Drugs Used In Diabetes\"]\n",
        "        },\n",
        "        {\n",
        "          \"key\": \"treatment\",\n",
        "          \"values\" : [\"diabetes\", \"t2dm\"]\n",
        "        }\n",
        "      ]\n",
        "    }\n",
        "  ]\n",
        "}\n",
        "\n",
        "import json\n",
        "with open('sample_drug.json', 'w', encoding='utf-8') as f:\n",
        "    json.dump(data_set, f, ensure_ascii=False, indent=4)"
      ],
      "metadata": {
        "id": "ekp8gF4wgjLs"
      },
      "execution_count": null,
      "outputs": []
    },
    {
      "cell_type": "markdown",
      "source": [
        "By using `setRel()` parameter, we tell the model which type of mapping we want. In our case, if we want from our model to return **action** mapping, we set the parameter as `setRels([\"action\"])`,  we set as `setRels([\"treatment\"])` for **treatment**\n",
        "\n",
        "Let's create a pipeline and see it in action. "
      ],
      "metadata": {
        "id": "JqjQ7rj_hxch"
      }
    },
    {
      "cell_type": "code",
      "source": [
        "document_assembler = DocumentAssembler()\\\n",
        "      .setInputCol('text')\\\n",
        "      .setOutputCol('document')\n",
        "\n",
        "sentence_detector = SentenceDetector()\\\n",
        "      .setInputCols([\"document\"])\\\n",
        "      .setOutputCol(\"sentence\")\n",
        "\n",
        "tokenizer = Tokenizer()\\\n",
        "      .setInputCols(\"sentence\")\\\n",
        "      .setOutputCol(\"token\")\n",
        "\n",
        "word_embeddings = WordEmbeddingsModel.pretrained(\"embeddings_clinical\", \"en\", \"clinical/models\")\\\n",
        "      .setInputCols([\"sentence\", \"token\"])\\\n",
        "      .setOutputCol(\"embeddings\")\n",
        "\n",
        "#NER model to detect drug in the text\n",
        "clinical_ner = MedicalNerModel.pretrained(\"ner_posology_small\",\"en\",\"clinical/models\")\\\n",
        "\t    .setInputCols([\"sentence\",\"token\",\"embeddings\"])\\\n",
        "\t    .setOutputCol(\"ner\")\\\n",
        "      .setLabelCasing(\"upper\")\n",
        " \n",
        "ner_converter = NerConverter()\\\n",
        "      .setInputCols([\"sentence\", \"token\", \"ner\"])\\\n",
        "      .setOutputCol(\"ner_chunk\")\\\n",
        "      .setWhiteList([\"DRUG\"])\n",
        "\n",
        "chunkerMapper = ChunkMapperApproach()\\\n",
        "      .setInputCols([\"ner_chunk\"])\\\n",
        "      .setOutputCol(\"mappings\")\\\n",
        "      .setDictionary(\"/content/sample_drug.json\")\\\n",
        "      .setRels([\"action\"]) #or treatment\n",
        "\n",
        "pipeline = Pipeline().setStages([document_assembler,\n",
        "                                 sentence_detector,\n",
        "                                 tokenizer, \n",
        "                                 word_embeddings,\n",
        "                                 clinical_ner, \n",
        "                                 ner_converter, \n",
        "                                 chunkerMapper])\n",
        "\n",
        "text = [\"The patient was given 1 unit of metformin daily.\"]\n",
        "\n",
        "test_data = spark.createDataFrame([text]).toDF(\"text\")\n",
        "\n",
        "model = pipeline.fit(test_data)\n",
        "res= model.transform(test_data)\n"
      ],
      "metadata": {
        "colab": {
          "base_uri": "https://localhost:8080/"
        },
        "id": "PbuDGXzKf2r7",
        "outputId": "7ac94401-0979-4b82-cc31-f09ee1f2b1b4"
      },
      "execution_count": null,
      "outputs": [
        {
          "output_type": "stream",
          "name": "stdout",
          "text": [
            "embeddings_clinical download started this may take some time.\n",
            "Approximate size to download 1.6 GB\n",
            "[OK!]\n",
            "ner_posology_small download started this may take some time.\n",
            "[OK!]\n"
          ]
        }
      ]
    },
    {
      "cell_type": "code",
      "source": [
        "res.printSchema()"
      ],
      "metadata": {
        "colab": {
          "base_uri": "https://localhost:8080/"
        },
        "id": "nDPk6Uhtrwbf",
        "outputId": "837a8c4e-8835-4722-ef90-4ffedcd034b6"
      },
      "execution_count": null,
      "outputs": [
        {
          "output_type": "stream",
          "name": "stdout",
          "text": [
            "root\n",
            " |-- text: string (nullable = true)\n",
            " |-- document: array (nullable = true)\n",
            " |    |-- element: struct (containsNull = true)\n",
            " |    |    |-- annotatorType: string (nullable = true)\n",
            " |    |    |-- begin: integer (nullable = false)\n",
            " |    |    |-- end: integer (nullable = false)\n",
            " |    |    |-- result: string (nullable = true)\n",
            " |    |    |-- metadata: map (nullable = true)\n",
            " |    |    |    |-- key: string\n",
            " |    |    |    |-- value: string (valueContainsNull = true)\n",
            " |    |    |-- embeddings: array (nullable = true)\n",
            " |    |    |    |-- element: float (containsNull = false)\n",
            " |-- sentence: array (nullable = true)\n",
            " |    |-- element: struct (containsNull = true)\n",
            " |    |    |-- annotatorType: string (nullable = true)\n",
            " |    |    |-- begin: integer (nullable = false)\n",
            " |    |    |-- end: integer (nullable = false)\n",
            " |    |    |-- result: string (nullable = true)\n",
            " |    |    |-- metadata: map (nullable = true)\n",
            " |    |    |    |-- key: string\n",
            " |    |    |    |-- value: string (valueContainsNull = true)\n",
            " |    |    |-- embeddings: array (nullable = true)\n",
            " |    |    |    |-- element: float (containsNull = false)\n",
            " |-- token: array (nullable = true)\n",
            " |    |-- element: struct (containsNull = true)\n",
            " |    |    |-- annotatorType: string (nullable = true)\n",
            " |    |    |-- begin: integer (nullable = false)\n",
            " |    |    |-- end: integer (nullable = false)\n",
            " |    |    |-- result: string (nullable = true)\n",
            " |    |    |-- metadata: map (nullable = true)\n",
            " |    |    |    |-- key: string\n",
            " |    |    |    |-- value: string (valueContainsNull = true)\n",
            " |    |    |-- embeddings: array (nullable = true)\n",
            " |    |    |    |-- element: float (containsNull = false)\n",
            " |-- embeddings: array (nullable = true)\n",
            " |    |-- element: struct (containsNull = true)\n",
            " |    |    |-- annotatorType: string (nullable = true)\n",
            " |    |    |-- begin: integer (nullable = false)\n",
            " |    |    |-- end: integer (nullable = false)\n",
            " |    |    |-- result: string (nullable = true)\n",
            " |    |    |-- metadata: map (nullable = true)\n",
            " |    |    |    |-- key: string\n",
            " |    |    |    |-- value: string (valueContainsNull = true)\n",
            " |    |    |-- embeddings: array (nullable = true)\n",
            " |    |    |    |-- element: float (containsNull = false)\n",
            " |-- ner: array (nullable = true)\n",
            " |    |-- element: struct (containsNull = true)\n",
            " |    |    |-- annotatorType: string (nullable = true)\n",
            " |    |    |-- begin: integer (nullable = false)\n",
            " |    |    |-- end: integer (nullable = false)\n",
            " |    |    |-- result: string (nullable = true)\n",
            " |    |    |-- metadata: map (nullable = true)\n",
            " |    |    |    |-- key: string\n",
            " |    |    |    |-- value: string (valueContainsNull = true)\n",
            " |    |    |-- embeddings: array (nullable = true)\n",
            " |    |    |    |-- element: float (containsNull = false)\n",
            " |-- ner_chunk: array (nullable = true)\n",
            " |    |-- element: struct (containsNull = true)\n",
            " |    |    |-- annotatorType: string (nullable = true)\n",
            " |    |    |-- begin: integer (nullable = false)\n",
            " |    |    |-- end: integer (nullable = false)\n",
            " |    |    |-- result: string (nullable = true)\n",
            " |    |    |-- metadata: map (nullable = true)\n",
            " |    |    |    |-- key: string\n",
            " |    |    |    |-- value: string (valueContainsNull = true)\n",
            " |    |    |-- embeddings: array (nullable = true)\n",
            " |    |    |    |-- element: float (containsNull = false)\n",
            " |-- mappings: array (nullable = true)\n",
            " |    |-- element: struct (containsNull = true)\n",
            " |    |    |-- annotatorType: string (nullable = true)\n",
            " |    |    |-- begin: integer (nullable = false)\n",
            " |    |    |-- end: integer (nullable = false)\n",
            " |    |    |-- result: string (nullable = true)\n",
            " |    |    |-- metadata: map (nullable = true)\n",
            " |    |    |    |-- key: string\n",
            " |    |    |    |-- value: string (valueContainsNull = true)\n",
            " |    |    |-- embeddings: array (nullable = true)\n",
            " |    |    |    |-- element: float (containsNull = false)\n",
            "\n"
          ]
        }
      ]
    },
    {
      "cell_type": "markdown",
      "source": [
        "Checking the ner result"
      ],
      "metadata": {
        "id": "nWe7PtYLrQT7"
      }
    },
    {
      "cell_type": "code",
      "source": [
        "res.select(F.explode('ner_chunk.result').alias(\"chunks\")).show(truncate=False)"
      ],
      "metadata": {
        "colab": {
          "base_uri": "https://localhost:8080/"
        },
        "id": "bG41lCKTf89Y",
        "outputId": "c65cc2f5-620d-4709-bcc4-51b9ab5d0e06"
      },
      "execution_count": null,
      "outputs": [
        {
          "output_type": "stream",
          "name": "stdout",
          "text": [
            "+---------+\n",
            "|chunks   |\n",
            "+---------+\n",
            "|metformin|\n",
            "+---------+\n",
            "\n"
          ]
        }
      ]
    },
    {
      "cell_type": "markdown",
      "source": [
        "Checking the mapper result"
      ],
      "metadata": {
        "id": "4AsGy0OXshpV"
      }
    },
    {
      "cell_type": "code",
      "source": [
        "res.selectExpr(\"mappings.metadata\").show(truncate=False)"
      ],
      "metadata": {
        "colab": {
          "base_uri": "https://localhost:8080/"
        },
        "id": "oTRODkcHhzgw",
        "outputId": "481811ff-f69a-4bc0-9666-d7bf2ba01408"
      },
      "execution_count": null,
      "outputs": [
        {
          "output_type": "stream",
          "name": "stdout",
          "text": [
            "+-------------------------------------------------------------------------------------------------------------------------------------+\n",
            "|metadata                                                                                                                             |\n",
            "+-------------------------------------------------------------------------------------------------------------------------------------+\n",
            "|[{chunk -> 0, relation -> action, confidence -> 0.9994, all_relations -> Drugs Used In Diabetes, entity -> metformin, sentence -> 0}]|\n",
            "+-------------------------------------------------------------------------------------------------------------------------------------+\n",
            "\n"
          ]
        }
      ]
    },
    {
      "cell_type": "code",
      "source": [
        "res.select(F.explode(F.arrays_zip(res.ner_chunk.result, res.mappings.result, res.mappings.metadata)).alias(\"col\"))\\\n",
        "    .select(F.expr(\"col['0']\").alias(\"ner_chunk\"),\n",
        "            F.expr(\"col['1']\").alias(\"mapping_result\"),\n",
        "            F.expr(\"col['2']['all_relations']\").alias(\"all_relations\")).show(truncate=False)"
      ],
      "metadata": {
        "colab": {
          "base_uri": "https://localhost:8080/"
        },
        "id": "DpWUhBkmDeve",
        "outputId": "dcaf56c8-4705-402b-9455-fc091bf6fd5c"
      },
      "execution_count": null,
      "outputs": [
        {
          "output_type": "stream",
          "name": "stdout",
          "text": [
            "+---------+--------------+----------------------+\n",
            "|ner_chunk|mapping_result|all_relations         |\n",
            "+---------+--------------+----------------------+\n",
            "|metformin|hypoglycemic  |Drugs Used In Diabetes|\n",
            "+---------+--------------+----------------------+\n",
            "\n"
          ]
        }
      ]
    },
    {
      "cell_type": "markdown",
      "source": [
        "As you see, the model that we created with `ChunkMapperApproach()` succesfully mapped \"metformin\". Under the metadata, we can see all relations that we defined in the Json. "
      ],
      "metadata": {
        "id": "6hdWLMiss7uT"
      }
    },
    {
      "cell_type": "markdown",
      "source": [
        "### 2.1- Save the model to disk "
      ],
      "metadata": {
        "id": "UJPH_FaOtqpP"
      }
    },
    {
      "cell_type": "markdown",
      "source": [
        "Now, we will save our model and use it with `ChunkMapperModel()`"
      ],
      "metadata": {
        "id": "S5SHrUZcu2iR"
      }
    },
    {
      "cell_type": "code",
      "source": [
        "model.stages[-1].write().save(\"models/drug_mapper\")"
      ],
      "metadata": {
        "id": "EaNF5kWUs46N"
      },
      "execution_count": null,
      "outputs": []
    },
    {
      "cell_type": "markdown",
      "source": [
        "Using the saved model. This time we will check 'treatment' mappings results\n"
      ],
      "metadata": {
        "id": "VEBFO85yuw07"
      }
    },
    {
      "cell_type": "code",
      "source": [
        "document_assembler = DocumentAssembler()\\\n",
        "      .setInputCol('text')\\\n",
        "      .setOutputCol('document')\n",
        "\n",
        "sentence_detector = SentenceDetector()\\\n",
        "      .setInputCols([\"document\"])\\\n",
        "      .setOutputCol(\"sentence\")\n",
        "\n",
        "tokenizer = Tokenizer()\\\n",
        "      .setInputCols(\"sentence\")\\\n",
        "      .setOutputCol(\"token\")\n",
        "\n",
        "word_embeddings = WordEmbeddingsModel.pretrained(\"embeddings_clinical\", \"en\", \"clinical/models\")\\\n",
        "      .setInputCols([\"sentence\", \"token\"])\\\n",
        "      .setOutputCol(\"embeddings\")\n",
        "\n",
        "#NER model to detect drug in the text\n",
        "clinical_ner = MedicalNerModel.pretrained(\"ner_posology_small\",\"en\",\"clinical/models\")\\\n",
        "\t    .setInputCols([\"sentence\",\"token\",\"embeddings\"])\\\n",
        "\t    .setOutputCol(\"ner\")\\\n",
        "      .setLabelCasing(\"upper\")\n",
        " \n",
        "ner_converter = NerConverter()\\\n",
        "      .setInputCols([\"sentence\", \"token\", \"ner\"])\\\n",
        "      .setOutputCol(\"ner_chunk\")\\\n",
        "      .setWhiteList([\"DRUG\"])\n",
        "\n",
        "chunkerMapper = ChunkMapperModel.load(\"/content/models/drug_mapper\")\\\n",
        "      .setInputCols([\"ner_chunk\"])\\\n",
        "      .setOutputCol(\"mappings\")\\\n",
        "      .setRels([\"treatment\"]) \n",
        "\n",
        "pipeline = Pipeline().setStages([document_assembler,\n",
        "                                 sentence_detector,\n",
        "                                 tokenizer, \n",
        "                                 word_embeddings,\n",
        "                                 clinical_ner, \n",
        "                                 ner_converter, \n",
        "                                 chunkerMapper])\n",
        "\n",
        "text = [\"The patient was given 1 unit of metformin daily.\"]\n",
        "\n",
        "test_data = spark.createDataFrame([text]).toDF(\"text\")\n",
        "\n",
        "model = pipeline.fit(test_data)\n",
        "res= model.transform(test_data)"
      ],
      "metadata": {
        "colab": {
          "base_uri": "https://localhost:8080/"
        },
        "id": "9xdx4s-MuutS",
        "outputId": "59a7c853-1f65-45df-b1a0-956458609717"
      },
      "execution_count": null,
      "outputs": [
        {
          "output_type": "stream",
          "name": "stdout",
          "text": [
            "embeddings_clinical download started this may take some time.\n",
            "Approximate size to download 1.6 GB\n",
            "[OK!]\n",
            "ner_posology_small download started this may take some time.\n",
            "[OK!]\n"
          ]
        }
      ]
    },
    {
      "cell_type": "code",
      "source": [
        "res.selectExpr(\"mappings.metadata\").show(truncate=False)"
      ],
      "metadata": {
        "colab": {
          "base_uri": "https://localhost:8080/"
        },
        "id": "Pl3Wbxe1uugR",
        "outputId": "306ae8ea-90c7-487e-95a0-53c16e0a36f6"
      },
      "execution_count": null,
      "outputs": [
        {
          "output_type": "stream",
          "name": "stdout",
          "text": [
            "+----------------------------------------------------------------------------------------------------------------------+\n",
            "|metadata                                                                                                              |\n",
            "+----------------------------------------------------------------------------------------------------------------------+\n",
            "|[{chunk -> 0, relation -> treatment, confidence -> 0.9994, all_relations -> t2dm, entity -> metformin, sentence -> 0}]|\n",
            "+----------------------------------------------------------------------------------------------------------------------+\n",
            "\n"
          ]
        }
      ]
    },
    {
      "cell_type": "code",
      "source": [
        "res.select(F.explode(F.arrays_zip(res.ner_chunk.result, res.mappings.result, res.mappings.metadata)).alias(\"col\"))\\\n",
        "    .select(F.expr(\"col['0']\").alias(\"ner_chunk\"),\n",
        "            F.expr(\"col['1']\").alias(\"mapping_result\"),\n",
        "            F.expr(\"col['2']['all_relations']\").alias(\"all_relations\")).show(truncate=False)"
      ],
      "metadata": {
        "colab": {
          "base_uri": "https://localhost:8080/"
        },
        "id": "1-DCeMsjDnw0",
        "outputId": "763775ea-b0fc-44f8-b23f-5d4cc6350205"
      },
      "execution_count": null,
      "outputs": [
        {
          "output_type": "stream",
          "name": "stdout",
          "text": [
            "+---------+--------------+-------------+\n",
            "|ner_chunk|mapping_result|all_relations|\n",
            "+---------+--------------+-------------+\n",
            "|metformin|diabetes      |t2dm         |\n",
            "+---------+--------------+-------------+\n",
            "\n"
          ]
        }
      ]
    },
    {
      "cell_type": "markdown",
      "source": [
        "As you see above, we created our own drug mapper model successfully. "
      ],
      "metadata": {
        "id": "cJW7n4Resju8"
      }
    },
    {
      "cell_type": "markdown",
      "source": [
        "### 2.2- Create a Model with Upper Cased or Lower Cased"
      ],
      "metadata": {
        "id": "s3SlO9WCfu79"
      }
    },
    {
      "cell_type": "markdown",
      "source": [
        "We can set the case status of `ChunkMapperApproach` while creating a model by using `setLowerCase()` parameter.\n",
        "\n",
        "Let's create a new mapping dictionary and see how it works. "
      ],
      "metadata": {
        "id": "zqbPFVfAf7Je"
      }
    },
    {
      "cell_type": "code",
      "source": [
        "data_set= {\n",
        "    \"mappings\": [\n",
        "        {\n",
        "            \"key\": \"Warfarina lusa\",\n",
        "            \"relations\": [\n",
        "                {\n",
        "                    \"key\": \"action\",\n",
        "                    \"values\": [\n",
        "                        \"Analgesic\",\n",
        "                        \"Antipyretic\"\n",
        "                    ]\n",
        "                },\n",
        "                {\n",
        "                    \"key\": \"treatment\",\n",
        "                    \"values\": [\n",
        "                        \"diabetes\",\n",
        "                        \"t2dm\"\n",
        "                    ]\n",
        "                }\n",
        "            ]\n",
        "        }\n",
        "    ]\n",
        "}\n",
        "\n",
        "import json\n",
        "with open('mappings.json', 'w', encoding='utf-8') as f:\n",
        "    json.dump(data_set, f, ensure_ascii=False, indent=4)"
      ],
      "metadata": {
        "id": "XaN7B3YJiTut"
      },
      "execution_count": null,
      "outputs": []
    },
    {
      "cell_type": "code",
      "source": [
        "sentences = [\n",
        "        [\"\"\"The patient was given Warfarina Lusa and amlodipine 10 MG.The patient was given Aspagin, coumadin 5 mg, coumadin, and he has metamorfin\"\"\"]\n",
        "    ]\n",
        "\n",
        "\n",
        "test_data = spark.createDataFrame(sentences).toDF(\"text\")"
      ],
      "metadata": {
        "id": "DBxQ1kJfmEA_"
      },
      "execution_count": null,
      "outputs": []
    },
    {
      "cell_type": "markdown",
      "source": [
        "**`setLowerCase(True)`**"
      ],
      "metadata": {
        "id": "fUlSk0y9mnyC"
      }
    },
    {
      "cell_type": "code",
      "source": [
        "chunkerMapper = ChunkMapperApproach() \\\n",
        "        .setInputCols([\"ner_chunk\"]) \\\n",
        "        .setOutputCol(\"mappings\") \\\n",
        "        .setDictionary(\"mappings.json\") \\\n",
        "        .setRels([\"action\"]) \\\n",
        "        .setLowerCase(True) \\\n",
        "\n",
        "pipeline = Pipeline().setStages([document_assembler,\n",
        "                                 sentence_detector,\n",
        "                                 tokenizer, \n",
        "                                 word_embeddings,\n",
        "                                 clinical_ner, \n",
        "                                 ner_converter, \n",
        "                                 chunkerMapper])\n",
        "\n",
        "\n",
        "result_df = pipeline.fit(test_data).transform(test_data)\n",
        "result_df.selectExpr(\"explode(mappings)\").show(truncate=False)"
      ],
      "metadata": {
        "colab": {
          "base_uri": "https://localhost:8080/"
        },
        "id": "dwTkmZUcfnDB",
        "outputId": "73651516-a505-47fd-8476-b03ca0d2e86f"
      },
      "execution_count": null,
      "outputs": [
        {
          "output_type": "stream",
          "name": "stdout",
          "text": [
            "+---------------------------------------------------------------------------------------------------------------------------------------------------------------------------+\n",
            "|col                                                                                                                                                                        |\n",
            "+---------------------------------------------------------------------------------------------------------------------------------------------------------------------------+\n",
            "|{labeled_dependency, 22, 35, Analgesic, {chunk -> 0, relation -> action, confidence -> 0.66565, all_relations -> Antipyretic, entity -> Warfarina Lusa, sentence -> 0}, []}|\n",
            "|{labeled_dependency, 41, 50, NONE, {entity -> amlodipine, sentence -> 0, chunk -> 1, confidence -> 0.9999}, []}                                                            |\n",
            "|{labeled_dependency, 80, 86, NONE, {entity -> Aspagin, sentence -> 0, chunk -> 2, confidence -> 0.9905}, []}                                                               |\n",
            "|{labeled_dependency, 89, 96, NONE, {entity -> coumadin, sentence -> 0, chunk -> 3, confidence -> 0.9997}, []}                                                              |\n",
            "|{labeled_dependency, 104, 111, NONE, {entity -> coumadin, sentence -> 0, chunk -> 4, confidence -> 0.9994}, []}                                                            |\n",
            "|{labeled_dependency, 125, 134, NONE, {entity -> metamorfin, sentence -> 0, chunk -> 5, confidence -> 0.9989}, []}                                                          |\n",
            "+---------------------------------------------------------------------------------------------------------------------------------------------------------------------------+\n",
            "\n"
          ]
        }
      ]
    },
    {
      "cell_type": "markdown",
      "source": [
        "\"Warfarina lusa\" is in lower case in the source json file, and in upper case(Warfarina Lusa) in our example training sentence. We trained that model in lower case, the model mapped the entity even though our training sentence is uppercased. <br/>\n",
        "\n",
        "Let's check with `setLowerCase(False)` and see the difference. "
      ],
      "metadata": {
        "id": "QhByE9vSm_to"
      }
    },
    {
      "cell_type": "code",
      "source": [
        "chunkerMapper = ChunkMapperApproach() \\\n",
        "        .setInputCols([\"ner_chunk\"]) \\\n",
        "        .setOutputCol(\"mappings\") \\\n",
        "        .setDictionary(\"mappings.json\") \\\n",
        "        .setRels([\"action\"]) \\\n",
        "        .setLowerCase(False) \\\n",
        "\n",
        "pipeline = Pipeline().setStages([document_assembler,\n",
        "                                 sentence_detector,\n",
        "                                 tokenizer, \n",
        "                                 word_embeddings,\n",
        "                                 clinical_ner, \n",
        "                                 ner_converter, \n",
        "                                 chunkerMapper])\n",
        "\n",
        "\n",
        "result_df = pipeline.fit(test_data).transform(test_data)\n",
        "result_df.selectExpr(\"explode(mappings)\").show(truncate=False)"
      ],
      "metadata": {
        "colab": {
          "base_uri": "https://localhost:8080/"
        },
        "id": "Pv3UQrGZfm-I",
        "outputId": "291d5e91-d204-4533-f332-7725b7bc1198"
      },
      "execution_count": null,
      "outputs": [
        {
          "output_type": "stream",
          "name": "stdout",
          "text": [
            "+--------------------------------------------------------------------------------------------------------------------+\n",
            "|col                                                                                                                 |\n",
            "+--------------------------------------------------------------------------------------------------------------------+\n",
            "|{labeled_dependency, 22, 35, NONE, {entity -> Warfarina Lusa, sentence -> 0, chunk -> 0, confidence -> 0.66565}, []}|\n",
            "|{labeled_dependency, 41, 50, NONE, {entity -> amlodipine, sentence -> 0, chunk -> 1, confidence -> 0.9999}, []}     |\n",
            "|{labeled_dependency, 80, 86, NONE, {entity -> Aspagin, sentence -> 0, chunk -> 2, confidence -> 0.9905}, []}        |\n",
            "|{labeled_dependency, 89, 96, NONE, {entity -> coumadin, sentence -> 0, chunk -> 3, confidence -> 0.9997}, []}       |\n",
            "|{labeled_dependency, 104, 111, NONE, {entity -> coumadin, sentence -> 0, chunk -> 4, confidence -> 0.9994}, []}     |\n",
            "|{labeled_dependency, 125, 134, NONE, {entity -> metamorfin, sentence -> 0, chunk -> 5, confidence -> 0.9989}, []}   |\n",
            "+--------------------------------------------------------------------------------------------------------------------+\n",
            "\n"
          ]
        }
      ]
    },
    {
      "cell_type": "markdown",
      "source": [
        "As you see, our model couldn't map the given uppercased \"Warfarine Lura\"."
      ],
      "metadata": {
        "id": "ooQvQ2YJp1ae"
      }
    },
    {
      "cell_type": "markdown",
      "source": [
        "### 2.3- Selecting Multiple Relations "
      ],
      "metadata": {
        "id": "5iORj5g_rAV7"
      }
    },
    {
      "cell_type": "markdown",
      "source": [
        "We can select multiple relations for the same chunk with the `setRels()` parameter."
      ],
      "metadata": {
        "id": "xp4fqhZPrWG-"
      }
    },
    {
      "cell_type": "code",
      "source": [
        "chunkerMapper = ChunkMapperApproach() \\\n",
        "        .setInputCols([\"ner_chunk\"]) \\\n",
        "        .setOutputCol(\"mappings\") \\\n",
        "        .setDictionary(\"mappings.json\") \\\n",
        "        .setLowerCase(True) \\\n",
        "        .setRels([\"action\", \"treatment\"])\n",
        "\n",
        "pipeline = Pipeline().setStages([document_assembler,\n",
        "                                 sentence_detector,\n",
        "                                 tokenizer, \n",
        "                                 word_embeddings,\n",
        "                                 clinical_ner, \n",
        "                                 ner_converter, \n",
        "                                 chunkerMapper])\n",
        "\n",
        "\n",
        "result_df = pipeline.fit(test_data).transform(test_data)\n",
        "result_df.selectExpr(\"explode(mappings)\").show(truncate=False)"
      ],
      "metadata": {
        "colab": {
          "base_uri": "https://localhost:8080/"
        },
        "id": "38I9ft6BfmxY",
        "outputId": "23e9176c-b5c6-4dcb-b13e-6e8a6a1e39ce"
      },
      "execution_count": null,
      "outputs": [
        {
          "output_type": "stream",
          "name": "stdout",
          "text": [
            "+---------------------------------------------------------------------------------------------------------------------------------------------------------------------------+\n",
            "|col                                                                                                                                                                        |\n",
            "+---------------------------------------------------------------------------------------------------------------------------------------------------------------------------+\n",
            "|{labeled_dependency, 22, 35, Analgesic, {chunk -> 0, relation -> action, confidence -> 0.66565, all_relations -> Antipyretic, entity -> Warfarina Lusa, sentence -> 0}, []}|\n",
            "|{labeled_dependency, 22, 35, diabetes, {chunk -> 0, relation -> treatment, confidence -> 0.66565, all_relations -> t2dm, entity -> Warfarina Lusa, sentence -> 0}, []}     |\n",
            "|{labeled_dependency, 41, 50, NONE, {entity -> amlodipine, sentence -> 0, chunk -> 1, confidence -> 0.9999}, []}                                                            |\n",
            "|{labeled_dependency, 80, 86, NONE, {entity -> Aspagin, sentence -> 0, chunk -> 2, confidence -> 0.9905}, []}                                                               |\n",
            "|{labeled_dependency, 89, 96, NONE, {entity -> coumadin, sentence -> 0, chunk -> 3, confidence -> 0.9997}, []}                                                              |\n",
            "|{labeled_dependency, 104, 111, NONE, {entity -> coumadin, sentence -> 0, chunk -> 4, confidence -> 0.9994}, []}                                                            |\n",
            "|{labeled_dependency, 125, 134, NONE, {entity -> metamorfin, sentence -> 0, chunk -> 5, confidence -> 0.9989}, []}                                                          |\n",
            "+---------------------------------------------------------------------------------------------------------------------------------------------------------------------------+\n",
            "\n"
          ]
        }
      ]
    },
    {
      "cell_type": "markdown",
      "source": [
        "As you see, we are able to see all the relations(action, treatment) at the same time. "
      ],
      "metadata": {
        "id": "LU7XurIxrz4T"
      }
    },
    {
      "cell_type": "markdown",
      "source": [
        "### 2.4- Filtering Multi-token Chunks"
      ],
      "metadata": {
        "id": "fYgl8fvAsELm"
      }
    },
    {
      "cell_type": "markdown",
      "source": [
        "If the chunk includes multi-tokens splitted by a whitespace, we can filter that chunk by using `setAllowMultiTokenChunk()` parameter."
      ],
      "metadata": {
        "id": "p1-8izXXsnDe"
      }
    },
    {
      "cell_type": "code",
      "source": [
        "chunkerMapper = ChunkMapperApproach() \\\n",
        "        .setInputCols([\"ner_chunk\"]) \\\n",
        "        .setOutputCol(\"mappings\") \\\n",
        "        .setDictionary(\"mappings.json\") \\\n",
        "        .setLowerCase(True) \\\n",
        "        .setRels([\"action\", \"treatment\"]) \\\n",
        "        .setAllowMultiTokenChunk(False)\n",
        "\n",
        "pipeline = Pipeline().setStages([document_assembler,\n",
        "                                 sentence_detector,\n",
        "                                 tokenizer, \n",
        "                                 word_embeddings,\n",
        "                                 clinical_ner, \n",
        "                                 ner_converter, \n",
        "                                 chunkerMapper])\n",
        "\n",
        "\n",
        "result_df = pipeline.fit(test_data).transform(test_data)\n",
        "result_df.selectExpr(\"explode(mappings)\").show(truncate=False)"
      ],
      "metadata": {
        "id": "_yzlVT23sKvA",
        "colab": {
          "base_uri": "https://localhost:8080/"
        },
        "outputId": "ce7de660-f4e4-4e90-dc6f-281f7a0f9270"
      },
      "execution_count": null,
      "outputs": [
        {
          "output_type": "stream",
          "name": "stdout",
          "text": [
            "+--------------------------------------------------------------------------------------------------------------------+\n",
            "|col                                                                                                                 |\n",
            "+--------------------------------------------------------------------------------------------------------------------+\n",
            "|{labeled_dependency, 22, 35, NONE, {entity -> Warfarina Lusa, sentence -> 0, chunk -> 0, confidence -> 0.66565}, []}|\n",
            "|{labeled_dependency, 41, 50, NONE, {entity -> amlodipine, sentence -> 0, chunk -> 1, confidence -> 0.9999}, []}     |\n",
            "|{labeled_dependency, 80, 86, NONE, {entity -> Aspagin, sentence -> 0, chunk -> 2, confidence -> 0.9905}, []}        |\n",
            "|{labeled_dependency, 89, 96, NONE, {entity -> coumadin, sentence -> 0, chunk -> 3, confidence -> 0.9997}, []}       |\n",
            "|{labeled_dependency, 104, 111, NONE, {entity -> coumadin, sentence -> 0, chunk -> 4, confidence -> 0.9994}, []}     |\n",
            "|{labeled_dependency, 125, 134, NONE, {entity -> metamorfin, sentence -> 0, chunk -> 5, confidence -> 0.9989}, []}   |\n",
            "+--------------------------------------------------------------------------------------------------------------------+\n",
            "\n"
          ]
        }
      ]
    },
    {
      "cell_type": "markdown",
      "source": [
        "The chunk \"Warfarina Lusa\" is a multi-token. Therefore, our mapper model skip that entity. <br/>\n",
        "So, let's set `.setAllowMultiTokenChunk(True)` and see the difference. "
      ],
      "metadata": {
        "id": "QkYb6byStDTA"
      }
    },
    {
      "cell_type": "code",
      "source": [
        "chunkerMapper = ChunkMapperApproach() \\\n",
        "        .setInputCols([\"ner_chunk\"]) \\\n",
        "        .setOutputCol(\"mappings\") \\\n",
        "        .setDictionary(\"mappings.json\") \\\n",
        "        .setLowerCase(True) \\\n",
        "        .setRels([\"action\", \"treatment\"]) \\\n",
        "        .setAllowMultiTokenChunk(True)\n",
        "\n",
        "pipeline = Pipeline().setStages([document_assembler,\n",
        "                                 sentence_detector,\n",
        "                                 tokenizer, \n",
        "                                 word_embeddings,\n",
        "                                 clinical_ner, \n",
        "                                 ner_converter, \n",
        "                                 chunkerMapper])\n",
        "\n",
        "\n",
        "result_df = pipeline.fit(test_data).transform(test_data)\n",
        "result_df.selectExpr(\"explode(mappings)\").show(truncate=False)"
      ],
      "metadata": {
        "colab": {
          "base_uri": "https://localhost:8080/"
        },
        "id": "9pTV_9BLtifw",
        "outputId": "6820caa0-dc88-4f86-8b22-6a3df236c35c"
      },
      "execution_count": null,
      "outputs": [
        {
          "output_type": "stream",
          "name": "stdout",
          "text": [
            "+---------------------------------------------------------------------------------------------------------------------------------------------------------------------------+\n",
            "|col                                                                                                                                                                        |\n",
            "+---------------------------------------------------------------------------------------------------------------------------------------------------------------------------+\n",
            "|{labeled_dependency, 22, 35, Analgesic, {chunk -> 0, relation -> action, confidence -> 0.66565, all_relations -> Antipyretic, entity -> Warfarina Lusa, sentence -> 0}, []}|\n",
            "|{labeled_dependency, 22, 35, diabetes, {chunk -> 0, relation -> treatment, confidence -> 0.66565, all_relations -> t2dm, entity -> Warfarina Lusa, sentence -> 0}, []}     |\n",
            "|{labeled_dependency, 41, 50, NONE, {entity -> amlodipine, sentence -> 0, chunk -> 1, confidence -> 0.9999}, []}                                                            |\n",
            "|{labeled_dependency, 80, 86, NONE, {entity -> Aspagin, sentence -> 0, chunk -> 2, confidence -> 0.9905}, []}                                                               |\n",
            "|{labeled_dependency, 89, 96, NONE, {entity -> coumadin, sentence -> 0, chunk -> 3, confidence -> 0.9997}, []}                                                              |\n",
            "|{labeled_dependency, 104, 111, NONE, {entity -> coumadin, sentence -> 0, chunk -> 4, confidence -> 0.9994}, []}                                                            |\n",
            "|{labeled_dependency, 125, 134, NONE, {entity -> metamorfin, sentence -> 0, chunk -> 5, confidence -> 0.9989}, []}                                                          |\n",
            "+---------------------------------------------------------------------------------------------------------------------------------------------------------------------------+\n",
            "\n"
          ]
        }
      ]
    },
    {
      "cell_type": "markdown",
      "source": [
        "# 3- ChunkMapperFilterer"
      ],
      "metadata": {
        "id": "J-ZTtXsmtzJM"
      }
    },
    {
      "cell_type": "markdown",
      "source": [
        "`ChunkMapperFilterer` annotator allows filtering of the chunks that were passed through the ChunkMapperModel. <br/>\n",
        "\n",
        "We can filter chunks by setting the `.setReturnCriteria()` parameter. It has 2 options; <br/>\n",
        "\n",
        "\n",
        "**success:** Returns the chunks which are mapped by ChunkMapper <br/>\n",
        "\n",
        "**fail:** Returns the chunks which are not mapped by ChunkMapper <br/>"
      ],
      "metadata": {
        "id": "pm2VP4MXuDSK"
      }
    },
    {
      "cell_type": "markdown",
      "source": [
        "Let's apply the both options and check the results. "
      ],
      "metadata": {
        "id": "I5gJw22BvZ5b"
      }
    },
    {
      "cell_type": "code",
      "source": [
        "chunkerMapper = ChunkMapperApproach() \\\n",
        "        .setInputCols([\"ner_chunk\"]) \\\n",
        "        .setOutputCol(\"mappings\") \\\n",
        "        .setDictionary(\"mappings.json\") \\\n",
        "        .setRel(\"action\") \\\n",
        "        .setLowerCase(True) \\\n",
        "        .setRels([\"action\", \"treatment\"]) \\\n",
        "\n",
        "pipeline = Pipeline().setStages([document_assembler,\n",
        "                                 sentence_detector,\n",
        "                                 tokenizer, \n",
        "                                 word_embeddings,\n",
        "                                 clinical_ner, \n",
        "                                 ner_converter, \n",
        "                                 chunkerMapper])\n",
        "\n",
        "\n",
        "result_df = pipeline.fit(test_data).transform(test_data)\n",
        "result_df.selectExpr(\"explode(mappings)\").show(truncate=False)"
      ],
      "metadata": {
        "colab": {
          "base_uri": "https://localhost:8080/"
        },
        "id": "R8MUfkhRtiZK",
        "outputId": "6268cbd8-37e1-4e4c-fc81-fbe27fee1498"
      },
      "execution_count": null,
      "outputs": [
        {
          "output_type": "stream",
          "name": "stdout",
          "text": [
            "+---------------------------------------------------------------------------------------------------------------------------------------------------------------------------+\n",
            "|col                                                                                                                                                                        |\n",
            "+---------------------------------------------------------------------------------------------------------------------------------------------------------------------------+\n",
            "|{labeled_dependency, 22, 35, Analgesic, {chunk -> 0, relation -> action, confidence -> 0.66565, all_relations -> Antipyretic, entity -> Warfarina Lusa, sentence -> 0}, []}|\n",
            "|{labeled_dependency, 22, 35, diabetes, {chunk -> 0, relation -> treatment, confidence -> 0.66565, all_relations -> t2dm, entity -> Warfarina Lusa, sentence -> 0}, []}     |\n",
            "|{labeled_dependency, 41, 50, NONE, {entity -> amlodipine, sentence -> 0, chunk -> 1, confidence -> 0.9999}, []}                                                            |\n",
            "|{labeled_dependency, 80, 86, NONE, {entity -> Aspagin, sentence -> 0, chunk -> 2, confidence -> 0.9905}, []}                                                               |\n",
            "|{labeled_dependency, 89, 96, NONE, {entity -> coumadin, sentence -> 0, chunk -> 3, confidence -> 0.9997}, []}                                                              |\n",
            "|{labeled_dependency, 104, 111, NONE, {entity -> coumadin, sentence -> 0, chunk -> 4, confidence -> 0.9994}, []}                                                            |\n",
            "|{labeled_dependency, 125, 134, NONE, {entity -> metamorfin, sentence -> 0, chunk -> 5, confidence -> 0.9989}, []}                                                          |\n",
            "+---------------------------------------------------------------------------------------------------------------------------------------------------------------------------+\n",
            "\n"
          ]
        }
      ]
    },
    {
      "cell_type": "markdown",
      "source": [
        "**`.setReturnCriteria(\"success\")`**"
      ],
      "metadata": {
        "id": "M2V0T1b7vuFS"
      }
    },
    {
      "cell_type": "code",
      "source": [
        "cfModel = ChunkMapperFilterer() \\\n",
        "        .setInputCols([\"ner_chunk\",\"mappings\"]) \\\n",
        "        .setOutputCol(\"chunks_filtered\")\\\n",
        "        .setReturnCriteria(\"success\")\n",
        "\n",
        "cfModel.transform(result_df).selectExpr(\"explode(chunks_filtered)\").show(truncate=False)"
      ],
      "metadata": {
        "colab": {
          "base_uri": "https://localhost:8080/"
        },
        "id": "IssbtA3Xqsgm",
        "outputId": "3548fac9-0110-44b7-ad13-be36f98c5dbe"
      },
      "execution_count": null,
      "outputs": [
        {
          "output_type": "stream",
          "name": "stdout",
          "text": [
            "+-------------------------------------------------------------------------------------------------------+\n",
            "|col                                                                                                    |\n",
            "+-------------------------------------------------------------------------------------------------------+\n",
            "|{chunk, 22, 35, Warfarina Lusa, {entity -> DRUG, sentence -> 0, chunk -> 0, confidence -> 0.66565}, []}|\n",
            "+-------------------------------------------------------------------------------------------------------+\n",
            "\n"
          ]
        }
      ]
    },
    {
      "cell_type": "markdown",
      "source": [
        "**`.setReturnCriteria(\"fail\")`**"
      ],
      "metadata": {
        "id": "YTODYW0pvyl_"
      }
    },
    {
      "cell_type": "code",
      "source": [
        "cfModel = ChunkMapperFilterer() \\\n",
        "        .setInputCols([\"ner_chunk\",\"mappings\"]) \\\n",
        "        .setOutputCol(\"chunks_filtered\")\\\n",
        "        .setReturnCriteria(\"fail\")\n",
        "\n",
        "cfModel.transform(result_df).selectExpr(\"explode(chunks_filtered)\").show(truncate=False)"
      ],
      "metadata": {
        "colab": {
          "base_uri": "https://localhost:8080/"
        },
        "id": "DZ9UNFk4qsaS",
        "outputId": "1d4aa22b-5e24-46f0-ad48-144cce87a954"
      },
      "execution_count": null,
      "outputs": [
        {
          "output_type": "stream",
          "name": "stdout",
          "text": [
            "+----------------------------------------------------------------------------------------------------+\n",
            "|col                                                                                                 |\n",
            "+----------------------------------------------------------------------------------------------------+\n",
            "|{chunk, 41, 50, amlodipine, {entity -> DRUG, sentence -> 0, chunk -> 1, confidence -> 0.9999}, []}  |\n",
            "|{chunk, 80, 86, Aspagin, {entity -> DRUG, sentence -> 0, chunk -> 2, confidence -> 0.9905}, []}     |\n",
            "|{chunk, 89, 96, coumadin, {entity -> DRUG, sentence -> 0, chunk -> 3, confidence -> 0.9997}, []}    |\n",
            "|{chunk, 104, 111, coumadin, {entity -> DRUG, sentence -> 0, chunk -> 4, confidence -> 0.9994}, []}  |\n",
            "|{chunk, 125, 134, metamorfin, {entity -> DRUG, sentence -> 0, chunk -> 5, confidence -> 0.9989}, []}|\n",
            "+----------------------------------------------------------------------------------------------------+\n",
            "\n"
          ]
        }
      ]
    },
    {
      "cell_type": "markdown",
      "source": [
        "# 4- ResolverMerger - Using Sentence Entity Resolver and `ChunkMapperModel` Together"
      ],
      "metadata": {
        "id": "kWhSQPYT7GnV"
      }
    },
    {
      "cell_type": "markdown",
      "source": [
        "We can merge the results of `ChunkMapperModel` and `SentenceEntityResolverModel` by using `ResolverMerger` annotator. \n",
        "\n",
        "We can detect our results that fail by `ChunkMapperModel` with `ChunkMapperFilterer` and then merge the resolver and mapper results with `ResolverMerger`"
      ],
      "metadata": {
        "id": "ZuEYFmIN7T4U"
      }
    },
    {
      "cell_type": "code",
      "source": [
        "document_assembler = DocumentAssembler()\\\n",
        "      .setInputCol('text')\\\n",
        "      .setOutputCol('document')\n",
        "\n",
        "sentence_detector = SentenceDetector()\\\n",
        "      .setInputCols([\"document\"])\\\n",
        "      .setOutputCol(\"sentence\")\n",
        "\n",
        "tokenizer = Tokenizer()\\\n",
        "      .setInputCols(\"sentence\")\\\n",
        "      .setOutputCol(\"token\")\n",
        "\n",
        "word_embeddings = WordEmbeddingsModel.pretrained(\"embeddings_clinical\", \"en\", \"clinical/models\")\\\n",
        "      .setInputCols([\"sentence\", \"token\"])\\\n",
        "      .setOutputCol(\"embeddings\")\n",
        "\n",
        "ner_model = MedicalNerModel.pretrained(\"ner_posology_greedy\", \"en\", \"clinical/models\")\\\n",
        "      .setInputCols([\"sentence\", \"token\", \"embeddings\"])\\\n",
        "      .setOutputCol(\"ner\")\n",
        "\n",
        "ner_converter = NerConverter()\\\n",
        "      .setInputCols(\"sentence\", \"token\", \"ner\")\\\n",
        "      .setOutputCol(\"chunk\")\n",
        "\n",
        "chunkerMapper = ChunkMapperModel.pretrained(\"rxnorm_mapper\", \"en\", \"clinical/models\")\\\n",
        "      .setInputCols([\"chunk\"])\\\n",
        "      .setOutputCol(\"RxNorm_Mapper\")\\\n",
        "      .setRels([\"rxnorm_code\"])\n",
        "\n",
        "cfModel = ChunkMapperFilterer() \\\n",
        "      .setInputCols([\"chunk\", \"RxNorm_Mapper\"]) \\\n",
        "      .setOutputCol(\"chunks_fail\") \\\n",
        "      .setReturnCriteria(\"fail\")\n",
        "\n",
        "chunk2doc = Chunk2Doc() \\\n",
        "      .setInputCols(\"chunks_fail\") \\\n",
        "      .setOutputCol(\"chunk_doc\")\n",
        "\n",
        "sbert_embedder = BertSentenceEmbeddings.pretrained('sbiobert_base_cased_mli', 'en','clinical/models')\\\n",
        "      .setInputCols([\"chunk_doc\"])\\\n",
        "      .setOutputCol(\"sentence_embeddings\")\\\n",
        "      .setCaseSensitive(False)\n",
        "\n",
        "resolver = SentenceEntityResolverModel.pretrained(\"sbiobertresolve_rxnorm_augmented\", \"en\", \"clinical/models\") \\\n",
        "      .setInputCols([\"chunks_fail\", \"sentence_embeddings\"]) \\\n",
        "      .setOutputCol(\"resolver_code\") \\\n",
        "      .setDistanceFunction(\"EUCLIDEAN\")\n",
        "\n",
        "resolverMerger = ResolverMerger()\\\n",
        "      .setInputCols([\"resolver_code\",\"RxNorm_Mapper\"])\\\n",
        "      .setOutputCol(\"RxNorm\")\n",
        "\n",
        "mapper_pipeline = Pipeline(\n",
        "      stages = [\n",
        "          document_assembler,\n",
        "          sentence_detector,\n",
        "          tokenizer,\n",
        "          word_embeddings,\n",
        "          ner_model,\n",
        "          ner_converter,\n",
        "          chunkerMapper,\n",
        "          chunkerMapper,\n",
        "          cfModel,\n",
        "          chunk2doc,\n",
        "          sbert_embedder,\n",
        "          resolver,\n",
        "          resolverMerger\n",
        "      ])\n",
        "\n",
        "empty_data = spark.createDataFrame([[\"\"]]).toDF(\"text\")\n",
        "\n",
        "model = mapper_pipeline.fit(empty_data)"
      ],
      "metadata": {
        "colab": {
          "base_uri": "https://localhost:8080/"
        },
        "id": "8wEep8op7GVH",
        "outputId": "3d66b961-e866-417d-84cf-d4470327babd"
      },
      "execution_count": null,
      "outputs": [
        {
          "output_type": "stream",
          "name": "stdout",
          "text": [
            "embeddings_clinical download started this may take some time.\n",
            "Approximate size to download 1.6 GB\n",
            "[OK!]\n",
            "ner_posology_greedy download started this may take some time.\n",
            "[OK!]\n",
            "rxnorm_mapper download started this may take some time.\n",
            "[OK!]\n",
            "sbiobert_base_cased_mli download started this may take some time.\n",
            "Approximate size to download 384.3 MB\n",
            "[OK!]\n",
            "sbiobertresolve_rxnorm_augmented download started this may take some time.\n",
            "[OK!]\n"
          ]
        }
      ]
    },
    {
      "cell_type": "code",
      "source": [
        "samples = [['The patient was given Adapin 10 MG, coumadn 5 mg'],\n",
        "           ['The patient was given Avandia 4 mg, Tegretol, zitiga'] ]\n",
        "\n",
        "result = model.transform(spark.createDataFrame(samples).toDF(\"text\"))"
      ],
      "metadata": {
        "id": "40s4u0yA7dhn"
      },
      "execution_count": null,
      "outputs": []
    },
    {
      "cell_type": "code",
      "source": [
        "result.selectExpr('chunk.result as chunk', \n",
        "                  'RxNorm_Mapper.result as RxNorm_Mapper', \n",
        "                  'chunks_fail.result as chunks_fail', \n",
        "                  'resolver_code.result as resolver_code',\n",
        "                  'RxNorm.result as RxNorm'\n",
        "              ).show(truncate = False)"
      ],
      "metadata": {
        "colab": {
          "base_uri": "https://localhost:8080/"
        },
        "id": "RCDft7KiX2Yr",
        "outputId": "819b9a08-d140-4aae-d479-3a2a24141eaa"
      },
      "execution_count": null,
      "outputs": [
        {
          "output_type": "stream",
          "name": "stdout",
          "text": [
            "+--------------------------------+----------------------+--------------+-------------+------------------------+\n",
            "|chunk                           |RxNorm_Mapper         |chunks_fail   |resolver_code|RxNorm                  |\n",
            "+--------------------------------+----------------------+--------------+-------------+------------------------+\n",
            "|[Adapin 10 MG, coumadn 5 mg]    |[1000049, NONE]       |[coumadn 5 mg]|[200883]     |[1000049, 200883]       |\n",
            "|[Avandia 4 mg, Tegretol, zitiga]|[261242, 203029, NONE]|[zitiga]      |[220989]     |[261242, 203029, 220989]|\n",
            "+--------------------------------+----------------------+--------------+-------------+------------------------+\n",
            "\n"
          ]
        }
      ]
    },
    {
      "cell_type": "markdown",
      "source": [
        "# 5- Section Header Normalizer Mapper with ChunkSentenceSplitter"
      ],
      "metadata": {
        "id": "HJ9tNW9Gt5Sb"
      }
    },
    {
      "cell_type": "markdown",
      "source": [
        "`ChunkSentenceSplitter()` annotator splits documents or sentences by chunks provided. <br/> For detailed usage of this annotator, visit [this notebook](https://github.com/JohnSnowLabs/spark-nlp-workshop/blob/master/tutorials/Certification_Trainings/Healthcare/18.Chunk_Sentence_Splitter.ipynb) <br/>\n",
        "\n",
        "In this section, we will do the following steps; \n",
        "- Detect \"section headers\" in given text through Ner model\n",
        "- Split the given text by headers with `ChunkSentenceSplitter()`\n",
        "- Normalize the `ChunkSentenceSplitter()` outputs with `normalized_section_header_mapper` model. "
      ],
      "metadata": {
        "id": "0tlEvAPvu6Lb"
      }
    },
    {
      "cell_type": "markdown",
      "source": [
        "Let's start with creating Ner pipeline to detect \"Header\" "
      ],
      "metadata": {
        "id": "xlNR3ioQYQPc"
      }
    },
    {
      "cell_type": "code",
      "source": [
        "sentences = [\n",
        "    [\"\"\"ADMISSION DIAGNOSIS Right pleural effusion and suspected malignant mesothelioma.\n",
        "        PRINCIPAL DIAGNOSIS Right pleural effusion, suspected malignant mesothelioma.\n",
        "        REVIEW OF SYSTEMS Right pleural effusion, firm nodules, diffuse scattered throughout the right pleura and diaphragmatic surface.\n",
        "    \"\"\"]]\n",
        "\n",
        "df= spark.createDataFrame(sentences).toDF(\"text\")"
      ],
      "metadata": {
        "id": "e3ABtM79mf86"
      },
      "execution_count": null,
      "outputs": []
    },
    {
      "cell_type": "code",
      "source": [
        "documentAssembler = DocumentAssembler()\\\n",
        "      .setInputCol(\"text\")\\\n",
        "      .setOutputCol(\"document\")\n",
        "\n",
        "tokenizer= Tokenizer()\\\n",
        "      .setInputCols([\"document\"])\\\n",
        "      .setOutputCol(\"token\")\n",
        "\n",
        "tokenClassifier = MedicalBertForTokenClassifier.pretrained(\"bert_token_classifier_ner_jsl_slim\", \"en\", \"clinical/models\")\\\n",
        "      .setInputCols(\"token\", \"document\")\\\n",
        "      .setOutputCol(\"ner\")\\\n",
        "      .setCaseSensitive(True)\n",
        "\n",
        "ner_converter = NerConverter() \\\n",
        "      .setInputCols([\"document\", \"token\", \"ner\"]) \\\n",
        "      .setOutputCol(\"ner_chunk\")\\\n",
        "      .setWhiteList([\"Header\"])\n",
        "\n",
        "pipeline = Pipeline(\n",
        "    stages = [\n",
        "        documentAssembler,\n",
        "        tokenizer,\n",
        "        tokenClassifier,\n",
        "        ner_converter\n",
        "    ])\n",
        " \n",
        "empty_df = spark.createDataFrame([[\"\"]]).toDF('text')\n",
        "pipeline_model = pipeline.fit(empty_df)"
      ],
      "metadata": {
        "id": "Wuab7yVluOLY",
        "colab": {
          "base_uri": "https://localhost:8080/"
        },
        "outputId": "c029678e-26f4-448a-cea6-d54f4c6ae3a9"
      },
      "execution_count": null,
      "outputs": [
        {
          "output_type": "stream",
          "name": "stdout",
          "text": [
            "bert_token_classifier_ner_jsl_slim download started this may take some time.\n",
            "[OK!]\n"
          ]
        }
      ]
    },
    {
      "cell_type": "code",
      "source": [
        "result = pipeline_model.transform(df)\n",
        "result.selectExpr('explode(ner_chunk)').show(truncate=False)"
      ],
      "metadata": {
        "colab": {
          "base_uri": "https://localhost:8080/"
        },
        "id": "aIXG6SUiGGib",
        "outputId": "51c04c0e-ff92-45ab-8810-e9be38b4d43e"
      },
      "execution_count": null,
      "outputs": [
        {
          "output_type": "stream",
          "name": "stdout",
          "text": [
            "+------------------------------------------------------------------------------------------------------------------+\n",
            "|col                                                                                                               |\n",
            "+------------------------------------------------------------------------------------------------------------------+\n",
            "|{chunk, 0, 18, ADMISSION DIAGNOSIS, {entity -> Header, sentence -> 0, chunk -> 0, confidence -> 0.9994346}, []}   |\n",
            "|{chunk, 89, 107, PRINCIPAL DIAGNOSIS, {entity -> Header, sentence -> 0, chunk -> 1, confidence -> 0.99020165}, []}|\n",
            "|{chunk, 175, 191, REVIEW OF SYSTEMS, {entity -> Header, sentence -> 0, chunk -> 2, confidence -> 0.9989373}, []}  |\n",
            "+------------------------------------------------------------------------------------------------------------------+\n",
            "\n"
          ]
        }
      ]
    },
    {
      "cell_type": "markdown",
      "source": [
        "Now, we have our header entities. We will split the text by the headers."
      ],
      "metadata": {
        "id": "ymUF_0f1ct7A"
      }
    },
    {
      "cell_type": "code",
      "source": [
        "#applying ChunkSentenceSplitter \n",
        "chunkSentenceSplitter = ChunkSentenceSplitter()\\\n",
        "    .setInputCols(\"document\",\"ner_chunk\")\\\n",
        "    .setOutputCol(\"paragraphs\")\\\n",
        "    .setGroupBySentences(False)\n",
        "\n",
        "paragraphs = chunkSentenceSplitter.transform(result)"
      ],
      "metadata": {
        "id": "jM7vMBDAZg3_"
      },
      "execution_count": null,
      "outputs": []
    },
    {
      "cell_type": "code",
      "source": [
        "paragraphs.show()"
      ],
      "metadata": {
        "colab": {
          "base_uri": "https://localhost:8080/"
        },
        "id": "pCJL4x0ybatJ",
        "outputId": "5081a7b4-d11d-43ff-cf67-868ca86eb86e"
      },
      "execution_count": null,
      "outputs": [
        {
          "output_type": "stream",
          "name": "stdout",
          "text": [
            "+--------------------+--------------------+--------------------+--------------------+--------------------+--------------------+\n",
            "|                text|            document|               token|                 ner|           ner_chunk|          paragraphs|\n",
            "+--------------------+--------------------+--------------------+--------------------+--------------------+--------------------+\n",
            "|ADMISSION DIAGNOS...|[{document, 0, 30...|[{token, 0, 8, AD...|[{named_entity, 0...|[{chunk, 0, 18, A...|[{document, 0, 89...|\n",
            "+--------------------+--------------------+--------------------+--------------------+--------------------+--------------------+\n",
            "\n"
          ]
        }
      ]
    },
    {
      "cell_type": "code",
      "source": [
        "pd.set_option('display.max_colwidth', None)\n",
        "result_df = paragraphs.selectExpr(\"explode(paragraphs) as result\").selectExpr(\"result.result\",\"result.metadata.entity\", \"result.metadata.splitter_chunk\").toPandas()\n",
        "result_df"
      ],
      "metadata": {
        "colab": {
          "base_uri": "https://localhost:8080/",
          "height": 237
        },
        "id": "g2D2hD1IYczD",
        "outputId": "7baa8337-0695-4b4c-979f-e587884fd8ae"
      },
      "execution_count": null,
      "outputs": [
        {
          "output_type": "execute_result",
          "data": {
            "text/plain": [
              "                                                                                                                                  result  \\\n",
              "0                                             ADMISSION DIAGNOSIS Right pleural effusion and suspected malignant mesothelioma.\\n           \n",
              "1                                                PRINCIPAL DIAGNOSIS Right pleural effusion, suspected malignant mesothelioma.\\n           \n",
              "2  REVIEW OF SYSTEMS Right pleural effusion, firm nodules, diffuse scattered throughout the right pleura and diaphragmatic surface.\\n      \n",
              "\n",
              "   entity       splitter_chunk  \n",
              "0  Header  ADMISSION DIAGNOSIS  \n",
              "1  Header  PRINCIPAL DIAGNOSIS  \n",
              "2  Header    REVIEW OF SYSTEMS  "
            ],
            "text/html": [
              "\n",
              "  <div id=\"df-a759e465-1030-43f4-aba7-7706ee0ffc05\">\n",
              "    <div class=\"colab-df-container\">\n",
              "      <div>\n",
              "<style scoped>\n",
              "    .dataframe tbody tr th:only-of-type {\n",
              "        vertical-align: middle;\n",
              "    }\n",
              "\n",
              "    .dataframe tbody tr th {\n",
              "        vertical-align: top;\n",
              "    }\n",
              "\n",
              "    .dataframe thead th {\n",
              "        text-align: right;\n",
              "    }\n",
              "</style>\n",
              "<table border=\"1\" class=\"dataframe\">\n",
              "  <thead>\n",
              "    <tr style=\"text-align: right;\">\n",
              "      <th></th>\n",
              "      <th>result</th>\n",
              "      <th>entity</th>\n",
              "      <th>splitter_chunk</th>\n",
              "    </tr>\n",
              "  </thead>\n",
              "  <tbody>\n",
              "    <tr>\n",
              "      <th>0</th>\n",
              "      <td>ADMISSION DIAGNOSIS Right pleural effusion and suspected malignant mesothelioma.\\n</td>\n",
              "      <td>Header</td>\n",
              "      <td>ADMISSION DIAGNOSIS</td>\n",
              "    </tr>\n",
              "    <tr>\n",
              "      <th>1</th>\n",
              "      <td>PRINCIPAL DIAGNOSIS Right pleural effusion, suspected malignant mesothelioma.\\n</td>\n",
              "      <td>Header</td>\n",
              "      <td>PRINCIPAL DIAGNOSIS</td>\n",
              "    </tr>\n",
              "    <tr>\n",
              "      <th>2</th>\n",
              "      <td>REVIEW OF SYSTEMS Right pleural effusion, firm nodules, diffuse scattered throughout the right pleura and diaphragmatic surface.\\n</td>\n",
              "      <td>Header</td>\n",
              "      <td>REVIEW OF SYSTEMS</td>\n",
              "    </tr>\n",
              "  </tbody>\n",
              "</table>\n",
              "</div>\n",
              "      <button class=\"colab-df-convert\" onclick=\"convertToInteractive('df-a759e465-1030-43f4-aba7-7706ee0ffc05')\"\n",
              "              title=\"Convert this dataframe to an interactive table.\"\n",
              "              style=\"display:none;\">\n",
              "        \n",
              "  <svg xmlns=\"http://www.w3.org/2000/svg\" height=\"24px\"viewBox=\"0 0 24 24\"\n",
              "       width=\"24px\">\n",
              "    <path d=\"M0 0h24v24H0V0z\" fill=\"none\"/>\n",
              "    <path d=\"M18.56 5.44l.94 2.06.94-2.06 2.06-.94-2.06-.94-.94-2.06-.94 2.06-2.06.94zm-11 1L8.5 8.5l.94-2.06 2.06-.94-2.06-.94L8.5 2.5l-.94 2.06-2.06.94zm10 10l.94 2.06.94-2.06 2.06-.94-2.06-.94-.94-2.06-.94 2.06-2.06.94z\"/><path d=\"M17.41 7.96l-1.37-1.37c-.4-.4-.92-.59-1.43-.59-.52 0-1.04.2-1.43.59L10.3 9.45l-7.72 7.72c-.78.78-.78 2.05 0 2.83L4 21.41c.39.39.9.59 1.41.59.51 0 1.02-.2 1.41-.59l7.78-7.78 2.81-2.81c.8-.78.8-2.07 0-2.86zM5.41 20L4 18.59l7.72-7.72 1.47 1.35L5.41 20z\"/>\n",
              "  </svg>\n",
              "      </button>\n",
              "      \n",
              "  <style>\n",
              "    .colab-df-container {\n",
              "      display:flex;\n",
              "      flex-wrap:wrap;\n",
              "      gap: 12px;\n",
              "    }\n",
              "\n",
              "    .colab-df-convert {\n",
              "      background-color: #E8F0FE;\n",
              "      border: none;\n",
              "      border-radius: 50%;\n",
              "      cursor: pointer;\n",
              "      display: none;\n",
              "      fill: #1967D2;\n",
              "      height: 32px;\n",
              "      padding: 0 0 0 0;\n",
              "      width: 32px;\n",
              "    }\n",
              "\n",
              "    .colab-df-convert:hover {\n",
              "      background-color: #E2EBFA;\n",
              "      box-shadow: 0px 1px 2px rgba(60, 64, 67, 0.3), 0px 1px 3px 1px rgba(60, 64, 67, 0.15);\n",
              "      fill: #174EA6;\n",
              "    }\n",
              "\n",
              "    [theme=dark] .colab-df-convert {\n",
              "      background-color: #3B4455;\n",
              "      fill: #D2E3FC;\n",
              "    }\n",
              "\n",
              "    [theme=dark] .colab-df-convert:hover {\n",
              "      background-color: #434B5C;\n",
              "      box-shadow: 0px 1px 3px 1px rgba(0, 0, 0, 0.15);\n",
              "      filter: drop-shadow(0px 1px 2px rgba(0, 0, 0, 0.3));\n",
              "      fill: #FFFFFF;\n",
              "    }\n",
              "  </style>\n",
              "\n",
              "      <script>\n",
              "        const buttonEl =\n",
              "          document.querySelector('#df-a759e465-1030-43f4-aba7-7706ee0ffc05 button.colab-df-convert');\n",
              "        buttonEl.style.display =\n",
              "          google.colab.kernel.accessAllowed ? 'block' : 'none';\n",
              "\n",
              "        async function convertToInteractive(key) {\n",
              "          const element = document.querySelector('#df-a759e465-1030-43f4-aba7-7706ee0ffc05');\n",
              "          const dataTable =\n",
              "            await google.colab.kernel.invokeFunction('convertToInteractive',\n",
              "                                                     [key], {});\n",
              "          if (!dataTable) return;\n",
              "\n",
              "          const docLinkHtml = 'Like what you see? Visit the ' +\n",
              "            '<a target=\"_blank\" href=https://colab.research.google.com/notebooks/data_table.ipynb>data table notebook</a>'\n",
              "            + ' to learn more about interactive tables.';\n",
              "          element.innerHTML = '';\n",
              "          dataTable['output_type'] = 'display_data';\n",
              "          await google.colab.output.renderOutput(dataTable, element);\n",
              "          const docLink = document.createElement('div');\n",
              "          docLink.innerHTML = docLinkHtml;\n",
              "          element.appendChild(docLink);\n",
              "        }\n",
              "      </script>\n",
              "    </div>\n",
              "  </div>\n",
              "  "
            ]
          },
          "metadata": {},
          "execution_count": 62
        }
      ]
    },
    {
      "cell_type": "markdown",
      "source": [
        "As you see, we have our splitted text and **section headers**. <br/>\n",
        "Now we will normalize this section headers with `normalized_section_header_mapper`"
      ],
      "metadata": {
        "id": "1aO6pVkheYYg"
      }
    },
    {
      "cell_type": "code",
      "source": [
        "chunkerMapper = ChunkMapperModel.pretrained(\"normalized_section_header_mapper\", \"en\", \"clinical/models\") \\\n",
        "       .setInputCols(\"ner_chunk\")\\\n",
        "       .setOutputCol(\"mappings\")\\\n",
        "       .setRels([\"level_1\"]) #or level_2\n",
        "\n",
        "normalized_df= chunkerMapper.transform(paragraphs)"
      ],
      "metadata": {
        "id": "v3e8FeqUcCRc",
        "colab": {
          "base_uri": "https://localhost:8080/"
        },
        "outputId": "0419acbb-653b-4c05-e242-9bebf5412762"
      },
      "execution_count": null,
      "outputs": [
        {
          "output_type": "stream",
          "name": "stdout",
          "text": [
            "normalized_section_header_mapper download started this may take some time.\n",
            "[OK!]\n"
          ]
        }
      ]
    },
    {
      "cell_type": "code",
      "source": [
        "normalized_df.show()"
      ],
      "metadata": {
        "colab": {
          "base_uri": "https://localhost:8080/"
        },
        "id": "G4mdVzaTiQWP",
        "outputId": "9cfc3aef-df4c-4779-e06a-b300846b8a08"
      },
      "execution_count": null,
      "outputs": [
        {
          "output_type": "stream",
          "name": "stdout",
          "text": [
            "+--------------------+--------------------+--------------------+--------------------+--------------------+--------------------+--------------------+\n",
            "|                text|            document|               token|                 ner|           ner_chunk|          paragraphs|            mappings|\n",
            "+--------------------+--------------------+--------------------+--------------------+--------------------+--------------------+--------------------+\n",
            "|ADMISSION DIAGNOS...|[{document, 0, 30...|[{token, 0, 8, AD...|[{named_entity, 0...|[{chunk, 0, 18, A...|[{document, 0, 89...|[{labeled_depende...|\n",
            "+--------------------+--------------------+--------------------+--------------------+--------------------+--------------------+--------------------+\n",
            "\n"
          ]
        }
      ]
    },
    {
      "cell_type": "code",
      "source": [
        "normalized_df= normalized_df.select(F.explode(F.arrays_zip(\"ner_chunk.result\", \"mappings.result\")).alias(\"col\"))\\\n",
        "                            .select(F.expr(\"col['0']\").alias(\"ner_chunk\"),\n",
        "                                    F.expr(\"col['1']\").alias(\"normalized_headers\")).toPandas()\n",
        "normalized_df.head()"
      ],
      "metadata": {
        "colab": {
          "base_uri": "https://localhost:8080/",
          "height": 142
        },
        "id": "W39fNYQiiQR-",
        "outputId": "50a73615-d632-45d5-ecb1-4ff06d281de5"
      },
      "execution_count": null,
      "outputs": [
        {
          "output_type": "execute_result",
          "data": {
            "text/plain": [
              "             ner_chunk normalized_headers\n",
              "0  ADMISSION DIAGNOSIS          DIAGNOSIS\n",
              "1  PRINCIPAL DIAGNOSIS          DIAGNOSIS\n",
              "2    REVIEW OF SYSTEMS        REVIEW TYPE"
            ],
            "text/html": [
              "\n",
              "  <div id=\"df-a37e9fcb-39d3-4434-a957-18cb521adcac\">\n",
              "    <div class=\"colab-df-container\">\n",
              "      <div>\n",
              "<style scoped>\n",
              "    .dataframe tbody tr th:only-of-type {\n",
              "        vertical-align: middle;\n",
              "    }\n",
              "\n",
              "    .dataframe tbody tr th {\n",
              "        vertical-align: top;\n",
              "    }\n",
              "\n",
              "    .dataframe thead th {\n",
              "        text-align: right;\n",
              "    }\n",
              "</style>\n",
              "<table border=\"1\" class=\"dataframe\">\n",
              "  <thead>\n",
              "    <tr style=\"text-align: right;\">\n",
              "      <th></th>\n",
              "      <th>ner_chunk</th>\n",
              "      <th>normalized_headers</th>\n",
              "    </tr>\n",
              "  </thead>\n",
              "  <tbody>\n",
              "    <tr>\n",
              "      <th>0</th>\n",
              "      <td>ADMISSION DIAGNOSIS</td>\n",
              "      <td>DIAGNOSIS</td>\n",
              "    </tr>\n",
              "    <tr>\n",
              "      <th>1</th>\n",
              "      <td>PRINCIPAL DIAGNOSIS</td>\n",
              "      <td>DIAGNOSIS</td>\n",
              "    </tr>\n",
              "    <tr>\n",
              "      <th>2</th>\n",
              "      <td>REVIEW OF SYSTEMS</td>\n",
              "      <td>REVIEW TYPE</td>\n",
              "    </tr>\n",
              "  </tbody>\n",
              "</table>\n",
              "</div>\n",
              "      <button class=\"colab-df-convert\" onclick=\"convertToInteractive('df-a37e9fcb-39d3-4434-a957-18cb521adcac')\"\n",
              "              title=\"Convert this dataframe to an interactive table.\"\n",
              "              style=\"display:none;\">\n",
              "        \n",
              "  <svg xmlns=\"http://www.w3.org/2000/svg\" height=\"24px\"viewBox=\"0 0 24 24\"\n",
              "       width=\"24px\">\n",
              "    <path d=\"M0 0h24v24H0V0z\" fill=\"none\"/>\n",
              "    <path d=\"M18.56 5.44l.94 2.06.94-2.06 2.06-.94-2.06-.94-.94-2.06-.94 2.06-2.06.94zm-11 1L8.5 8.5l.94-2.06 2.06-.94-2.06-.94L8.5 2.5l-.94 2.06-2.06.94zm10 10l.94 2.06.94-2.06 2.06-.94-2.06-.94-.94-2.06-.94 2.06-2.06.94z\"/><path d=\"M17.41 7.96l-1.37-1.37c-.4-.4-.92-.59-1.43-.59-.52 0-1.04.2-1.43.59L10.3 9.45l-7.72 7.72c-.78.78-.78 2.05 0 2.83L4 21.41c.39.39.9.59 1.41.59.51 0 1.02-.2 1.41-.59l7.78-7.78 2.81-2.81c.8-.78.8-2.07 0-2.86zM5.41 20L4 18.59l7.72-7.72 1.47 1.35L5.41 20z\"/>\n",
              "  </svg>\n",
              "      </button>\n",
              "      \n",
              "  <style>\n",
              "    .colab-df-container {\n",
              "      display:flex;\n",
              "      flex-wrap:wrap;\n",
              "      gap: 12px;\n",
              "    }\n",
              "\n",
              "    .colab-df-convert {\n",
              "      background-color: #E8F0FE;\n",
              "      border: none;\n",
              "      border-radius: 50%;\n",
              "      cursor: pointer;\n",
              "      display: none;\n",
              "      fill: #1967D2;\n",
              "      height: 32px;\n",
              "      padding: 0 0 0 0;\n",
              "      width: 32px;\n",
              "    }\n",
              "\n",
              "    .colab-df-convert:hover {\n",
              "      background-color: #E2EBFA;\n",
              "      box-shadow: 0px 1px 2px rgba(60, 64, 67, 0.3), 0px 1px 3px 1px rgba(60, 64, 67, 0.15);\n",
              "      fill: #174EA6;\n",
              "    }\n",
              "\n",
              "    [theme=dark] .colab-df-convert {\n",
              "      background-color: #3B4455;\n",
              "      fill: #D2E3FC;\n",
              "    }\n",
              "\n",
              "    [theme=dark] .colab-df-convert:hover {\n",
              "      background-color: #434B5C;\n",
              "      box-shadow: 0px 1px 3px 1px rgba(0, 0, 0, 0.15);\n",
              "      filter: drop-shadow(0px 1px 2px rgba(0, 0, 0, 0.3));\n",
              "      fill: #FFFFFF;\n",
              "    }\n",
              "  </style>\n",
              "\n",
              "      <script>\n",
              "        const buttonEl =\n",
              "          document.querySelector('#df-a37e9fcb-39d3-4434-a957-18cb521adcac button.colab-df-convert');\n",
              "        buttonEl.style.display =\n",
              "          google.colab.kernel.accessAllowed ? 'block' : 'none';\n",
              "\n",
              "        async function convertToInteractive(key) {\n",
              "          const element = document.querySelector('#df-a37e9fcb-39d3-4434-a957-18cb521adcac');\n",
              "          const dataTable =\n",
              "            await google.colab.kernel.invokeFunction('convertToInteractive',\n",
              "                                                     [key], {});\n",
              "          if (!dataTable) return;\n",
              "\n",
              "          const docLinkHtml = 'Like what you see? Visit the ' +\n",
              "            '<a target=\"_blank\" href=https://colab.research.google.com/notebooks/data_table.ipynb>data table notebook</a>'\n",
              "            + ' to learn more about interactive tables.';\n",
              "          element.innerHTML = '';\n",
              "          dataTable['output_type'] = 'display_data';\n",
              "          await google.colab.output.renderOutput(dataTable, element);\n",
              "          const docLink = document.createElement('div');\n",
              "          docLink.innerHTML = docLinkHtml;\n",
              "          element.appendChild(docLink);\n",
              "        }\n",
              "      </script>\n",
              "    </div>\n",
              "  </div>\n",
              "  "
            ]
          },
          "metadata": {},
          "execution_count": 65
        }
      ]
    },
    {
      "cell_type": "markdown",
      "source": [
        "Now, we have our normalized headers. We will merge it with `ChunkSentenceSplitter()` output"
      ],
      "metadata": {
        "id": "ZNYTXNAMKgl1"
      }
    },
    {
      "cell_type": "code",
      "source": [
        "normalized_df= normalized_df.rename(columns={\"ner_chunk\": \"splitter_chunk\"})\n",
        "df= pd.merge(result_df, normalized_df, on=[\"splitter_chunk\"])"
      ],
      "metadata": {
        "id": "84dbZufZ1f0a"
      },
      "execution_count": null,
      "outputs": []
    },
    {
      "cell_type": "code",
      "source": [
        "df"
      ],
      "metadata": {
        "colab": {
          "base_uri": "https://localhost:8080/",
          "height": 237
        },
        "id": "bSSafH2snO5j",
        "outputId": "58325212-a90b-47ae-cd82-faf90d78146c"
      },
      "execution_count": null,
      "outputs": [
        {
          "output_type": "execute_result",
          "data": {
            "text/plain": [
              "                                                                                                                                  result  \\\n",
              "0                                             ADMISSION DIAGNOSIS Right pleural effusion and suspected malignant mesothelioma.\\n           \n",
              "1                                                PRINCIPAL DIAGNOSIS Right pleural effusion, suspected malignant mesothelioma.\\n           \n",
              "2  REVIEW OF SYSTEMS Right pleural effusion, firm nodules, diffuse scattered throughout the right pleura and diaphragmatic surface.\\n      \n",
              "\n",
              "   entity       splitter_chunk normalized_headers  \n",
              "0  Header  ADMISSION DIAGNOSIS          DIAGNOSIS  \n",
              "1  Header  PRINCIPAL DIAGNOSIS          DIAGNOSIS  \n",
              "2  Header    REVIEW OF SYSTEMS        REVIEW TYPE  "
            ],
            "text/html": [
              "\n",
              "  <div id=\"df-94d538fb-4781-4f00-b952-3ffb1aa66e65\">\n",
              "    <div class=\"colab-df-container\">\n",
              "      <div>\n",
              "<style scoped>\n",
              "    .dataframe tbody tr th:only-of-type {\n",
              "        vertical-align: middle;\n",
              "    }\n",
              "\n",
              "    .dataframe tbody tr th {\n",
              "        vertical-align: top;\n",
              "    }\n",
              "\n",
              "    .dataframe thead th {\n",
              "        text-align: right;\n",
              "    }\n",
              "</style>\n",
              "<table border=\"1\" class=\"dataframe\">\n",
              "  <thead>\n",
              "    <tr style=\"text-align: right;\">\n",
              "      <th></th>\n",
              "      <th>result</th>\n",
              "      <th>entity</th>\n",
              "      <th>splitter_chunk</th>\n",
              "      <th>normalized_headers</th>\n",
              "    </tr>\n",
              "  </thead>\n",
              "  <tbody>\n",
              "    <tr>\n",
              "      <th>0</th>\n",
              "      <td>ADMISSION DIAGNOSIS Right pleural effusion and suspected malignant mesothelioma.\\n</td>\n",
              "      <td>Header</td>\n",
              "      <td>ADMISSION DIAGNOSIS</td>\n",
              "      <td>DIAGNOSIS</td>\n",
              "    </tr>\n",
              "    <tr>\n",
              "      <th>1</th>\n",
              "      <td>PRINCIPAL DIAGNOSIS Right pleural effusion, suspected malignant mesothelioma.\\n</td>\n",
              "      <td>Header</td>\n",
              "      <td>PRINCIPAL DIAGNOSIS</td>\n",
              "      <td>DIAGNOSIS</td>\n",
              "    </tr>\n",
              "    <tr>\n",
              "      <th>2</th>\n",
              "      <td>REVIEW OF SYSTEMS Right pleural effusion, firm nodules, diffuse scattered throughout the right pleura and diaphragmatic surface.\\n</td>\n",
              "      <td>Header</td>\n",
              "      <td>REVIEW OF SYSTEMS</td>\n",
              "      <td>REVIEW TYPE</td>\n",
              "    </tr>\n",
              "  </tbody>\n",
              "</table>\n",
              "</div>\n",
              "      <button class=\"colab-df-convert\" onclick=\"convertToInteractive('df-94d538fb-4781-4f00-b952-3ffb1aa66e65')\"\n",
              "              title=\"Convert this dataframe to an interactive table.\"\n",
              "              style=\"display:none;\">\n",
              "        \n",
              "  <svg xmlns=\"http://www.w3.org/2000/svg\" height=\"24px\"viewBox=\"0 0 24 24\"\n",
              "       width=\"24px\">\n",
              "    <path d=\"M0 0h24v24H0V0z\" fill=\"none\"/>\n",
              "    <path d=\"M18.56 5.44l.94 2.06.94-2.06 2.06-.94-2.06-.94-.94-2.06-.94 2.06-2.06.94zm-11 1L8.5 8.5l.94-2.06 2.06-.94-2.06-.94L8.5 2.5l-.94 2.06-2.06.94zm10 10l.94 2.06.94-2.06 2.06-.94-2.06-.94-.94-2.06-.94 2.06-2.06.94z\"/><path d=\"M17.41 7.96l-1.37-1.37c-.4-.4-.92-.59-1.43-.59-.52 0-1.04.2-1.43.59L10.3 9.45l-7.72 7.72c-.78.78-.78 2.05 0 2.83L4 21.41c.39.39.9.59 1.41.59.51 0 1.02-.2 1.41-.59l7.78-7.78 2.81-2.81c.8-.78.8-2.07 0-2.86zM5.41 20L4 18.59l7.72-7.72 1.47 1.35L5.41 20z\"/>\n",
              "  </svg>\n",
              "      </button>\n",
              "      \n",
              "  <style>\n",
              "    .colab-df-container {\n",
              "      display:flex;\n",
              "      flex-wrap:wrap;\n",
              "      gap: 12px;\n",
              "    }\n",
              "\n",
              "    .colab-df-convert {\n",
              "      background-color: #E8F0FE;\n",
              "      border: none;\n",
              "      border-radius: 50%;\n",
              "      cursor: pointer;\n",
              "      display: none;\n",
              "      fill: #1967D2;\n",
              "      height: 32px;\n",
              "      padding: 0 0 0 0;\n",
              "      width: 32px;\n",
              "    }\n",
              "\n",
              "    .colab-df-convert:hover {\n",
              "      background-color: #E2EBFA;\n",
              "      box-shadow: 0px 1px 2px rgba(60, 64, 67, 0.3), 0px 1px 3px 1px rgba(60, 64, 67, 0.15);\n",
              "      fill: #174EA6;\n",
              "    }\n",
              "\n",
              "    [theme=dark] .colab-df-convert {\n",
              "      background-color: #3B4455;\n",
              "      fill: #D2E3FC;\n",
              "    }\n",
              "\n",
              "    [theme=dark] .colab-df-convert:hover {\n",
              "      background-color: #434B5C;\n",
              "      box-shadow: 0px 1px 3px 1px rgba(0, 0, 0, 0.15);\n",
              "      filter: drop-shadow(0px 1px 2px rgba(0, 0, 0, 0.3));\n",
              "      fill: #FFFFFF;\n",
              "    }\n",
              "  </style>\n",
              "\n",
              "      <script>\n",
              "        const buttonEl =\n",
              "          document.querySelector('#df-94d538fb-4781-4f00-b952-3ffb1aa66e65 button.colab-df-convert');\n",
              "        buttonEl.style.display =\n",
              "          google.colab.kernel.accessAllowed ? 'block' : 'none';\n",
              "\n",
              "        async function convertToInteractive(key) {\n",
              "          const element = document.querySelector('#df-94d538fb-4781-4f00-b952-3ffb1aa66e65');\n",
              "          const dataTable =\n",
              "            await google.colab.kernel.invokeFunction('convertToInteractive',\n",
              "                                                     [key], {});\n",
              "          if (!dataTable) return;\n",
              "\n",
              "          const docLinkHtml = 'Like what you see? Visit the ' +\n",
              "            '<a target=\"_blank\" href=https://colab.research.google.com/notebooks/data_table.ipynb>data table notebook</a>'\n",
              "            + ' to learn more about interactive tables.';\n",
              "          element.innerHTML = '';\n",
              "          dataTable['output_type'] = 'display_data';\n",
              "          await google.colab.output.renderOutput(dataTable, element);\n",
              "          const docLink = document.createElement('div');\n",
              "          docLink.innerHTML = docLinkHtml;\n",
              "          element.appendChild(docLink);\n",
              "        }\n",
              "      </script>\n",
              "    </div>\n",
              "  </div>\n",
              "  "
            ]
          },
          "metadata": {},
          "execution_count": 67
        }
      ]
    },
    {
      "cell_type": "markdown",
      "source": [
        "Ultimately, we have splitted paragraphs, headers and normalized headers. "
      ],
      "metadata": {
        "id": "r2x7vehZL1zD"
      }
    },
    {
      "cell_type": "markdown",
      "source": [
        "# 5- Pretrained Mapper Pipelines\n",
        "\n",
        "We will show an example of `rxnorm_umls_mapping` pipeline here. But you can check [Healthcare Code Mapping Notebook](https://github.com/JohnSnowLabs/spark-nlp-workshop/blob/master/tutorials/Certification_Trainings/Healthcare/11.1.Healthcare_Code_Mapping.ipynb) for the examples of pretrained mapper pipelines. "
      ],
      "metadata": {
        "id": "kYQZjb7H4PAH"
      }
    },
    {
      "cell_type": "code",
      "source": [
        "from sparknlp.pretrained import PretrainedPipeline\n",
        "\n",
        "rxnorm_umls_pipeline= PretrainedPipeline(\"rxnorm_umls_mapping\", \"en\", \"clinical/models\")"
      ],
      "metadata": {
        "colab": {
          "base_uri": "https://localhost:8080/"
        },
        "id": "ZKz2nJtc4Mp1",
        "outputId": "3dc21ec9-0510-4f15-c751-ad3460dedca5"
      },
      "execution_count": null,
      "outputs": [
        {
          "output_type": "stream",
          "name": "stdout",
          "text": [
            "rxnorm_umls_mapping download started this may take some time.\n",
            "Approx size to download 1.8 MB\n",
            "[OK!]\n"
          ]
        }
      ]
    },
    {
      "cell_type": "code",
      "source": [
        "rxnorm_umls_pipeline.annotate(\"1161611 315677 343663\")"
      ],
      "metadata": {
        "colab": {
          "base_uri": "https://localhost:8080/"
        },
        "id": "vyFDnF2s4MeQ",
        "outputId": "66581cb9-8f68-4f2a-bbb0-e97b191912bd"
      },
      "execution_count": null,
      "outputs": [
        {
          "output_type": "execute_result",
          "data": {
            "text/plain": [
              "{'document': ['1161611 315677 343663'],\n",
              " 'rxnorm_code': ['1161611', '315677', '343663'],\n",
              " 'umls_code': ['C3215948', 'C0984912', 'C1146501']}"
            ]
          },
          "metadata": {},
          "execution_count": 69
        }
      ]
    },
    {
      "cell_type": "markdown",
      "source": [
        "|**RxNorm Code** | **RxNorm Details** | **UMLS Code** | **UMLS Details** |\n",
        "| ---------- | -----------:| ---------- | -----------:|\n",
        "| 1161611 |  metformin Pill | C3215948 | metformin pill |\n",
        "| 315677 | cimetidine 100 mg | C0984912 | cimetidine 100 mg |\n",
        "| 343663 | insulin lispro 50 UNT/ML | C1146501 | insulin lispro 50 unt/ml |"
      ],
      "metadata": {
        "id": "Fl3nevsU--Pi"
      }
    }
  ]
}
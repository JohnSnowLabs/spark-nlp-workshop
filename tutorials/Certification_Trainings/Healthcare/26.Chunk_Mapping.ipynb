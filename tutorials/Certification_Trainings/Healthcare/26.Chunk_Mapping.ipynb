{
  "nbformat": 4,
  "nbformat_minor": 0,
  "metadata": {
    "colab": {
      "provenance": [],
      "machine_shape": "hm"
    },
    "kernelspec": {
      "name": "python3",
      "display_name": "Python 3"
    },
    "language_info": {
      "name": "python"
    },
    "gpuClass": "standard"
  },
  "cells": [
    {
      "cell_type": "markdown",
      "source": [
        "![JohnSnowLabs](https://nlp.johnsnowlabs.com/assets/images/logo.png)"
      ],
      "metadata": {
        "id": "BfzsuGYbvEGN"
      }
    },
    {
      "cell_type": "markdown",
      "source": [
        "[![Open In Colab](https://colab.research.google.com/assets/colab-badge.svg)](https://colab.research.google.com/github/JohnSnowLabs/spark-nlp-workshop/blob/master/tutorials/Certification_Trainings/Healthcare/26.Chunk_Mapping.ipynb)"
      ],
      "metadata": {
        "id": "BKXV6gOzvG-B"
      }
    },
    {
      "cell_type": "markdown",
      "source": [
        "# Chunk Mapping"
      ],
      "metadata": {
        "id": "Rx8ANMi103y2"
      }
    },
    {
      "cell_type": "markdown",
      "source": [
        "## Colab Setup"
      ],
      "metadata": {
        "id": "-DggoJ4cvwsP"
      }
    },
    {
      "cell_type": "code",
      "source": [
        "import json\n",
        "import os\n",
        "\n",
        "from google.colab import files\n",
        "\n",
        "license_keys = files.upload()\n",
        "\n",
        "with open(list(license_keys.keys())[0]) as f:\n",
        "    license_keys = json.load(f)\n",
        "\n",
        "# Defining license key-value pairs as local variables\n",
        "locals().update(license_keys)\n",
        "\n",
        "# Adding license key-value pairs to environment variables\n",
        "os.environ.update(license_keys)"
      ],
      "metadata": {
        "id": "ZAvL7qtju8JM"
      },
      "execution_count": null,
      "outputs": []
    },
    {
      "cell_type": "code",
      "source": [
        "%%capture\n",
        "\n",
        "# Installing pyspark and spark-nlp\n",
        "! pip install --upgrade -q pyspark==3.1.2 spark-nlp==$PUBLIC_VERSION\n",
        "\n",
        "# Installing Spark NLP Healthcare\n",
        "! pip install --upgrade -q spark-nlp-jsl==$JSL_VERSION  --extra-index-url https://pypi.johnsnowlabs.com/$SECRET"
      ],
      "metadata": {
        "id": "M-DLb0ZMu8Ev"
      },
      "execution_count": null,
      "outputs": []
    },
    {
      "cell_type": "code",
      "source": [
        "import json\n",
        "import os\n",
        "from pyspark.ml import Pipeline, PipelineModel\n",
        "from pyspark.sql import SparkSession\n",
        "from pyspark.sql import functions as F\n",
        "\n",
        "from sparknlp.annotator import *\n",
        "from sparknlp_jsl.annotator import *\n",
        "from sparknlp.base import *\n",
        "import sparknlp_jsl\n",
        "import sparknlp\n",
        "import pandas as pd\n",
        "\n",
        "import warnings\n",
        "warnings.filterwarnings('ignore')\n",
        "\n",
        "params = {\"spark.driver.memory\":\"16G\", \n",
        "          \"spark.kryoserializer.buffer.max\":\"2000M\", \n",
        "          \"spark.driver.maxResultSize\":\"2000M\"} \n",
        "\n",
        "print (\"Spark NLP Version :\", sparknlp.version())\n",
        "print (\"Spark NLP_JSL Version :\", sparknlp_jsl.version())\n",
        "\n",
        "\n",
        "spark = sparknlp_jsl.start(license_keys['SECRET'],params=params)\n",
        "\n",
        "spark"
      ],
      "metadata": {
        "id": "YvYsq4B1u8A6",
        "colab": {
          "base_uri": "https://localhost:8080/",
          "height": 256
        },
        "outputId": "fc1493bf-6811-44cb-b34e-f2d89fa26287",
        "executionInfo": {
          "status": "ok",
          "timestamp": 1670177979696,
          "user_tz": -180,
          "elapsed": 41892,
          "user": {
            "displayName": "Gökhan TÜRER",
            "userId": "17886843627290606834"
          }
        }
      },
      "execution_count": null,
      "outputs": [
        {
          "output_type": "stream",
          "name": "stdout",
          "text": [
            "Spark NLP Version : 4.2.4\n",
            "Spark NLP_JSL Version : 4.2.3\n"
          ]
        },
        {
          "output_type": "execute_result",
          "data": {
            "text/plain": [
              "<pyspark.sql.session.SparkSession at 0x7f79c83f78b0>"
            ],
            "text/html": [
              "\n",
              "            <div>\n",
              "                <p><b>SparkSession - in-memory</b></p>\n",
              "                \n",
              "        <div>\n",
              "            <p><b>SparkContext</b></p>\n",
              "\n",
              "            <p><a href=\"http://b7e16fd731d9:4040\">Spark UI</a></p>\n",
              "\n",
              "            <dl>\n",
              "              <dt>Version</dt>\n",
              "                <dd><code>v3.1.2</code></dd>\n",
              "              <dt>Master</dt>\n",
              "                <dd><code>local[*]</code></dd>\n",
              "              <dt>AppName</dt>\n",
              "                <dd><code>Spark NLP Licensed</code></dd>\n",
              "            </dl>\n",
              "        </div>\n",
              "        \n",
              "            </div>\n",
              "        "
            ]
          },
          "metadata": {},
          "execution_count": 4
        }
      ]
    },
    {
      "cell_type": "markdown",
      "source": [
        "# 1- Pretrained Chunk Mapper Models and Pretrained Pipelines"
      ],
      "metadata": {
        "id": "H7Go2B1RvP0C"
      }
    },
    {
      "cell_type": "markdown",
      "source": [
        "**<center>MAPPER MODELS**\n",
        "\n",
        "|index|model|index|model|index|model|index|model|\n",
        "|-----:|:-----|-----:|:-----|-----:|:-----|-----:|:-----|\n",
        "| 1| [abbreviation_mapper](https://nlp.johnsnowlabs.com/2022/05/11/abbreviation_mapper_en_3_0.html)  | 2| [cvx_code_mapper](https://nlp.johnsnowlabs.com/2022/10/12/cvx_code_mapper_en.html)  | 3| [cvx_name_mapper](https://nlp.johnsnowlabs.com/2022/10/12/cvx_name_mapper_en.html)  | 4| [drug_action_treatment_mapper](https://nlp.johnsnowlabs.com/2022/03/31/drug_action_treatment_mapper_en_3_0.html)  |\n",
        "| 5| [drug_ade_mapper](https://nlp.johnsnowlabs.com/2022/08/23/drug_ade_mapper_en.html)  | 6| [drug_brandname_ndc_mapper](https://nlp.johnsnowlabs.com/2022/05/11/drug_brandname_ndc_mapper_en_3_0.html)  | 7| [icd10_icd9_mapper](https://nlp.johnsnowlabs.com/2022/09/30/icd10_icd9_mapper_en.html)  | 8| [icd10cm_snomed_mapper](https://nlp.johnsnowlabs.com/2022/06/26/icd10cm_snomed_mapper_en_3_0.html)  |\n",
        "| 9| [icd10cm_umls_mapper](https://nlp.johnsnowlabs.com/2022/06/26/icd10cm_umls_mapper_en_3_0.html)  | 10| [icd9_icd10_mapper](https://nlp.johnsnowlabs.com/2022/09/30/icd9_icd10_mapper_en.html)  | 11| [icd9_mapper](https://nlp.johnsnowlabs.com/2022/09/30/icd9_mapper_en.html)  | 12| [icdo_snomed_mapper](https://nlp.johnsnowlabs.com/2022/06/26/icdo_snomed_mapper_en_3_0.html)  |\n",
        "| 13| [mesh_umls_mapper](https://nlp.johnsnowlabs.com/2022/06/26/mesh_umls_mapper_en_3_0.html)  | 14| [normalized_section_header_mapper](https://nlp.johnsnowlabs.com/2022/06/26/normalized_section_header_mapper_en_3_0.html)  | 15| [rxnorm_action_treatment_mapper](https://nlp.johnsnowlabs.com/2022/05/08/rxnorm_action_treatment_mapper_en_3_0.html)  | 16| [rxnorm_mapper](https://nlp.johnsnowlabs.com/2022/06/27/rxnorm_mapper_en_3_0.html)  |\n",
        "| 17| [rxnorm_ndc_mapper](https://nlp.johnsnowlabs.com/2022/05/20/rxnorm_ndc_mapper_en_3_0.html)  | 18| [rxnorm_normalized_mapper](https://nlp.johnsnowlabs.com/2022/09/29/rxnorm_normalized_mapper_en.html)  | 19| [rxnorm_umls_mapper](https://nlp.johnsnowlabs.com/2022/06/26/rxnorm_umls_mapper_en_3_0.html)  | 20| [snomed_icd10cm_mapper](https://nlp.johnsnowlabs.com/2022/06/26/snomed_icd10cm_mapper_en_3_0.html)  |\n",
        "| 21| [snomed_icdo_mapper](https://nlp.johnsnowlabs.com/2022/06/26/snomed_icdo_mapper_en_3_0.html)  | 22| [snomed_umls_mapper](https://nlp.johnsnowlabs.com/2022/06/27/snomed_umls_mapper_en_3_0.html)  | 23| [umls_clinical_drugs_mapper](https://nlp.johnsnowlabs.com/2022/07/06/umls_clinical_drugs_mapper_en_3_0.html)  | 24| [umls_clinical_findings_mapper](https://nlp.johnsnowlabs.com/2022/07/08/umls_clinical_findings_mapper_en_3_0.html)  |\n",
        "| 25| [umls_disease_syndrome_mapper](https://nlp.johnsnowlabs.com/2022/07/11/umls_disease_syndrome_mapper_en_3_0.html)  | 26| [umls_drug_substance_mapper](https://nlp.johnsnowlabs.com/2022/07/11/umls_drug_substance_mapper_en_3_0.html)  | 27| [umls_major_concepts_mapper](https://nlp.johnsnowlabs.com/2022/07/11/umls_major_concepts_mapper_en_3_0.html)  | 28| []()|\n",
        "\n",
        "**You can find all these models and more [NLP Models Hub](https://nlp.johnsnowlabs.com/models?q=Chunk+Mapping&edition=Spark+NLP+for+Healthcare)**\n",
        "\n",
        "<br>\n",
        "\n",
        "**<center>PRETRAINED MAPPER PIPELINES**\n",
        "\n",
        "|index|model|\n",
        "|-----:|:-----|\n",
        "| 1| [icd10_icd9_mapping](https://nlp.johnsnowlabs.com/2022/09/30/icd10_icd9_mapping_en.html)   |\n",
        "| 2| [icdo_snomed_mapping](https://nlp.johnsnowlabs.com/2022/06/27/icdo_snomed_mapping_en_3_0.html)   |\n",
        "| 3| [icd10cm_snomed_mapping](https://nlp.johnsnowlabs.com/2022/06/27/icd10cm_snomed_mapping_en_3_0.html)   |\n",
        "| 4| [rxnorm_ndc_mapping](https://nlp.johnsnowlabs.com/2022/06/27/rxnorm_ndc_mapping_en_3_0.html)   |\n",
        "| 5| [rxnorm_umls_mapping](https://nlp.johnsnowlabs.com/2022/06/27/rxnorm_umls_mapping_en_3_0.html)   |\n",
        "| 6| [snomed_icd10cm_mapping](https://nlp.johnsnowlabs.com/2022/06/27/snomed_icd10cm_mapping_en_3_0.html)   |\n",
        "| 7| [snomed_icdo_mapping](https://nlp.johnsnowlabs.com/2022/06/27/snomed_icdo_mapping_en_3_0.html)   |\n",
        "| 8| [snomed_umls_mapping](https://nlp.johnsnowlabs.com/2022/06/27/snomed_umls_mapping_en_3_0.html)   |\n",
        "| 9| [icd10cm_umls_mapping](https://nlp.johnsnowlabs.com/2022/06/27/icd10cm_umls_mapping_en_3_0.html)   |\n",
        "| 10| [mesh_umls_mapping](https://nlp.johnsnowlabs.com/2021/07/01/mesh_umls_mapping_en.html)   |\n",
        "| 11| [rxnorm_mesh_mapping](https://nlp.johnsnowlabs.com/2021/07/01/rxnorm_mesh_mapping_en.html)   |\n",
        "\n",
        "\n",
        "\n",
        "You can check [Healthcare Code Mapping Notebook](https://github.com/JohnSnowLabs/spark-nlp-workshop/blob/master/tutorials/Certification_Trainings_JSL/Healthcare/11.1.Healthcare_Code_Mapping.ipynb) for the examples of pretrained mapper pipelines."
      ],
      "metadata": {
        "id": "RjnUYOjvbVEc"
      }
    },
    {
      "cell_type": "markdown",
      "source": [
        "## 1.1- Drug Action Treatment Mapper"
      ],
      "metadata": {
        "id": "tun6FxO1V443"
      }
    },
    {
      "cell_type": "markdown",
      "source": [
        "Pretrained `drug_action_treatment_mapper` model maps drugs with their corresponding `action` and `treatment` through `ChunkMapperModel()` annotator. <br/>\n",
        "\n",
        "\n",
        "**Action** of drug refers to the function of a drug in various body systems. <br/>\n",
        "**Treatment** refers to which disease the drug is used to treat. \n",
        "\n",
        "We can choose which option we want to use by setting `setRels()` parameter of `ChunkMapperModel()`\n",
        " "
      ],
      "metadata": {
        "id": "NbpIBoXl94ii"
      }
    },
    {
      "cell_type": "markdown",
      "source": [
        "We will create a pipeline consisting `bert_token_classifier_drug_development_trials` ner model to extract ner chunk as well as `ChunkMapperModel()`. <br/>\n",
        " Also, we will set the `.setRels()` parameter with `action` and see the results. "
      ],
      "metadata": {
        "id": "rioaJXFnS-q2"
      }
    },
    {
      "cell_type": "code",
      "source": [
        "#ChunkMapper Pipeline\n",
        "document_assembler = DocumentAssembler()\\\n",
        "      .setInputCol('text')\\\n",
        "      .setOutputCol('document')\n",
        "\n",
        "sentence_detector = SentenceDetector()\\\n",
        "      .setInputCols([\"document\"])\\\n",
        "      .setOutputCol(\"sentence\")\n",
        "\n",
        "tokenizer = Tokenizer()\\\n",
        "      .setInputCols(\"sentence\")\\\n",
        "      .setOutputCol(\"token\")\n",
        "\n",
        "ner =  MedicalBertForTokenClassifier.pretrained(\"bert_token_classifier_drug_development_trials\", \"en\", \"clinical/models\")\\\n",
        "      .setInputCols(\"token\",\"sentence\")\\\n",
        "      .setOutputCol(\"ner\")\n",
        "\n",
        "nerconverter = NerConverter()\\\n",
        "      .setInputCols(\"sentence\", \"token\", \"ner\")\\\n",
        "      .setOutputCol(\"ner_chunk\")\n",
        "\n",
        "#drug_action_treatment_mapper with \"action\" mappings\n",
        "chunkerMapper= ChunkMapperModel().pretrained(\"drug_action_treatment_mapper\", \"en\", \"clinical/models\")\\\n",
        "    .setInputCols([\"ner_chunk\"])\\\n",
        "    .setOutputCol(\"action_mappings\")\\\n",
        "    .setRels([\"action\"])\n",
        "    \n",
        "\n",
        "pipeline = Pipeline().setStages([document_assembler,\n",
        "                                 sentence_detector,\n",
        "                                 tokenizer,\n",
        "                                 ner, \n",
        "                                 nerconverter, \n",
        "                                 chunkerMapper])\n",
        "\n",
        "text = [[\"\"\"The patient was female and patient of Dr. X. and she was given Dermovate, Aspagin\"\"\"]]\n",
        "\n",
        "\n",
        "test_data = spark.createDataFrame(text).toDF(\"text\")\n",
        "\n",
        "res = pipeline.fit(test_data).transform(test_data)"
      ],
      "metadata": {
        "colab": {
          "base_uri": "https://localhost:8080/"
        },
        "id": "LDE0GMq8xYin",
        "outputId": "d402ea58-5183-47c5-ffbe-6a9496fa6786",
        "executionInfo": {
          "status": "ok",
          "timestamp": 1670178050317,
          "user_tz": -180,
          "elapsed": 70633,
          "user": {
            "displayName": "Gökhan TÜRER",
            "userId": "17886843627290606834"
          }
        }
      },
      "execution_count": null,
      "outputs": [
        {
          "output_type": "stream",
          "name": "stdout",
          "text": [
            "bert_token_classifier_drug_development_trials download started this may take some time.\n",
            "[OK!]\n",
            "drug_action_treatment_mapper download started this may take some time.\n",
            "[OK!]\n"
          ]
        }
      ]
    },
    {
      "cell_type": "markdown",
      "source": [
        "Chunks detected by ner model"
      ],
      "metadata": {
        "id": "0jetN39Hzj63"
      }
    },
    {
      "cell_type": "code",
      "source": [
        "res.select(F.explode('ner_chunk.result').alias(\"chunks\")).show(truncate=False)"
      ],
      "metadata": {
        "colab": {
          "base_uri": "https://localhost:8080/"
        },
        "id": "EDwLFe-QxYdr",
        "outputId": "1d6b7949-8380-496e-c084-084ece32b9ae",
        "executionInfo": {
          "status": "ok",
          "timestamp": 1670178056632,
          "user_tz": -180,
          "elapsed": 6334,
          "user": {
            "displayName": "Gökhan TÜRER",
            "userId": "17886843627290606834"
          }
        }
      },
      "execution_count": null,
      "outputs": [
        {
          "output_type": "stream",
          "name": "stdout",
          "text": [
            "+---------+\n",
            "|chunks   |\n",
            "+---------+\n",
            "|Dermovate|\n",
            "|Aspagin  |\n",
            "+---------+\n",
            "\n"
          ]
        }
      ]
    },
    {
      "cell_type": "markdown",
      "source": [
        "Checking mapping results"
      ],
      "metadata": {
        "id": "lCLMKbAOTqTl"
      }
    },
    {
      "cell_type": "code",
      "source": [
        "res.select(\"action_mappings.result\").show(truncate=False)"
      ],
      "metadata": {
        "colab": {
          "base_uri": "https://localhost:8080/"
        },
        "id": "qAFTxkiaXNTs",
        "outputId": "4bcaf513-89b9-4e1e-8022-78fe4f47a5a6",
        "executionInfo": {
          "status": "ok",
          "timestamp": 1670178057527,
          "user_tz": -180,
          "elapsed": 913,
          "user": {
            "displayName": "Gökhan TÜRER",
            "userId": "17886843627290606834"
          }
        }
      },
      "execution_count": null,
      "outputs": [
        {
          "output_type": "stream",
          "name": "stdout",
          "text": [
            "+------------------------------+\n",
            "|result                        |\n",
            "+------------------------------+\n",
            "|[anti-inflammatory, analgesic]|\n",
            "+------------------------------+\n",
            "\n"
          ]
        }
      ]
    },
    {
      "cell_type": "code",
      "source": [
        "res.selectExpr(\"action_mappings.metadata\").show(truncate=False)"
      ],
      "metadata": {
        "colab": {
          "base_uri": "https://localhost:8080/"
        },
        "id": "yFcIWEa7BSXV",
        "outputId": "738d7504-4c77-41e7-8dc2-6f279f599cdd",
        "executionInfo": {
          "status": "ok",
          "timestamp": 1670178058667,
          "user_tz": -180,
          "elapsed": 1143,
          "user": {
            "displayName": "Gökhan TÜRER",
            "userId": "17886843627290606834"
          }
        }
      },
      "execution_count": null,
      "outputs": [
        {
          "output_type": "stream",
          "name": "stdout",
          "text": [
            "+------------------------------------------------------------------------------------------------------------------------------------------------------------------------------------------------------------------------------------------------------------------------------------------------------------------------------+\n",
            "|metadata                                                                                                                                                                                                                                                                                                                      |\n",
            "+------------------------------------------------------------------------------------------------------------------------------------------------------------------------------------------------------------------------------------------------------------------------------------------------------------------------------+\n",
            "|[{chunk -> 0, relation -> action, confidence -> 0.9997595, all_relations -> corticosteroids::: dermatological preparations:::very strong, entity -> Dermovate, sentence -> 0}, {chunk -> 1, relation -> action, confidence -> 0.99668664, all_relations -> anti-inflammatory:::antipyretic, entity -> Aspagin, sentence -> 0}]|\n",
            "+------------------------------------------------------------------------------------------------------------------------------------------------------------------------------------------------------------------------------------------------------------------------------------------------------------------------------+\n",
            "\n"
          ]
        }
      ]
    },
    {
      "cell_type": "markdown",
      "source": [
        "As you see above under the ***metadata*** column, if exist, we can see all the relations for each chunk. <br/>\n"
      ],
      "metadata": {
        "id": "T25yMbYkVVKI"
      }
    },
    {
      "cell_type": "code",
      "source": [
        "res.select(F.explode(F.arrays_zip(res.ner_chunk.result, \n",
        "                                  res.action_mappings.result, \n",
        "                                  res.action_mappings.metadata)).alias(\"col\"))\\\n",
        "    .select(F.expr(\"col['0']\").alias(\"ner_chunk\"),\n",
        "            F.expr(\"col['1']\").alias(\"mapping_result\"),\n",
        "            F.expr(\"col['2']['all_relations']\").alias(\"all_relations\")).show(truncate=False)"
      ],
      "metadata": {
        "colab": {
          "base_uri": "https://localhost:8080/"
        },
        "id": "DGG75W5JQ8Ds",
        "outputId": "666a72eb-bc8e-4d22-dd48-a81ff0c5967e",
        "executionInfo": {
          "status": "ok",
          "timestamp": 1670178059758,
          "user_tz": -180,
          "elapsed": 1093,
          "user": {
            "displayName": "Gökhan TÜRER",
            "userId": "17886843627290606834"
          }
        }
      },
      "execution_count": null,
      "outputs": [
        {
          "output_type": "stream",
          "name": "stdout",
          "text": [
            "+---------+-----------------+------------------------------------------------------------+\n",
            "|ner_chunk|mapping_result   |all_relations                                               |\n",
            "+---------+-----------------+------------------------------------------------------------+\n",
            "|Dermovate|anti-inflammatory|corticosteroids::: dermatological preparations:::very strong|\n",
            "|Aspagin  |analgesic        |anti-inflammatory:::antipyretic                             |\n",
            "+---------+-----------------+------------------------------------------------------------+\n",
            "\n"
          ]
        }
      ]
    },
    {
      "cell_type": "markdown",
      "source": [
        "Now, let's set the `.setRels([\"treatment\"])` and see the results. "
      ],
      "metadata": {
        "id": "YsTnjIm90IT7"
      }
    },
    {
      "cell_type": "code",
      "source": [
        "#drug_action_treatment_mapper with \"treatment\" mappings\n",
        "chunkerMapper= ChunkMapperModel().pretrained(\"drug_action_treatment_mapper\", \"en\", \"clinical/models\")\\\n",
        "    .setInputCols([\"ner_chunk\"])\\\n",
        "    .setOutputCol(\"action_mappings\")\\\n",
        "    .setRels([\"treatment\"])\n",
        "\n",
        "pipeline = Pipeline().setStages([document_assembler,\n",
        "                                 sentence_detector,\n",
        "                                 tokenizer,\n",
        "                                 ner, \n",
        "                                 nerconverter, \n",
        "                                 chunkerMapper])\n",
        "\n",
        "text = [\n",
        "    [\"\"\"The patient was female and patient of Dr. X. and she was given Dermovate, Aspagin\"\"\"]\n",
        "]\n",
        "\n",
        "test_data = spark.createDataFrame(text).toDF(\"text\")\n",
        "\n",
        "res = pipeline.fit(test_data).transform(test_data)\n"
      ],
      "metadata": {
        "id": "2UQk9dIKzp_v",
        "colab": {
          "base_uri": "https://localhost:8080/"
        },
        "outputId": "0018d647-786e-4f48-ea9d-cbda32994b2a",
        "executionInfo": {
          "status": "ok",
          "timestamp": 1670178062889,
          "user_tz": -180,
          "elapsed": 3138,
          "user": {
            "displayName": "Gökhan TÜRER",
            "userId": "17886843627290606834"
          }
        }
      },
      "execution_count": null,
      "outputs": [
        {
          "output_type": "stream",
          "name": "stdout",
          "text": [
            "drug_action_treatment_mapper download started this may take some time.\n",
            "[OK!]\n"
          ]
        }
      ]
    },
    {
      "cell_type": "code",
      "source": [
        "res.select(F.explode('ner_chunk.result').alias(\"chunks\")).show(truncate=False)"
      ],
      "metadata": {
        "colab": {
          "base_uri": "https://localhost:8080/"
        },
        "id": "WIa_Lioxzp5V",
        "outputId": "c0642af0-2ca0-43ec-eee6-ae0a1a7d54cc",
        "executionInfo": {
          "status": "ok",
          "timestamp": 1670178063710,
          "user_tz": -180,
          "elapsed": 839,
          "user": {
            "displayName": "Gökhan TÜRER",
            "userId": "17886843627290606834"
          }
        }
      },
      "execution_count": null,
      "outputs": [
        {
          "output_type": "stream",
          "name": "stdout",
          "text": [
            "+---------+\n",
            "|chunks   |\n",
            "+---------+\n",
            "|Dermovate|\n",
            "|Aspagin  |\n",
            "+---------+\n",
            "\n"
          ]
        }
      ]
    },
    {
      "cell_type": "code",
      "source": [
        "res.selectExpr(\"action_mappings.metadata\").show(truncate=False)"
      ],
      "metadata": {
        "colab": {
          "base_uri": "https://localhost:8080/"
        },
        "id": "J6YxxPlOSGAF",
        "outputId": "cc713228-5f8a-43c2-89e8-aa90200942fc",
        "executionInfo": {
          "status": "ok",
          "timestamp": 1670178064524,
          "user_tz": -180,
          "elapsed": 818,
          "user": {
            "displayName": "Gökhan TÜRER",
            "userId": "17886843627290606834"
          }
        }
      },
      "execution_count": null,
      "outputs": [
        {
          "output_type": "stream",
          "name": "stdout",
          "text": [
            "+---------------------------------------------------------------------------------------------------------------------------------------------------------------------------------------------------------------------------------------------------------------------------------------------------------------------------------------------------------------------------------------------------------------------------------------------------------------------------------------------------------------------------+\n",
            "|metadata                                                                                                                                                                                                                                                                                                                                                                                                                                                                                                                   |\n",
            "+---------------------------------------------------------------------------------------------------------------------------------------------------------------------------------------------------------------------------------------------------------------------------------------------------------------------------------------------------------------------------------------------------------------------------------------------------------------------------------------------------------------------------+\n",
            "|[{chunk -> 0, relation -> treatment, confidence -> 0.9997595, all_relations -> discoid lupus erythematosus:::empeines:::psoriasis:::eczema, entity -> Dermovate, sentence -> 0}, {chunk -> 1, relation -> treatment, confidence -> 0.99668664, all_relations -> arthralgia:::pain:::bursitis:::headache:::migraine:::myositis:::neuralgia:::osteoarthritis:::gout:::rheumatoid arthritis:::spondylitis:::spondyloarthritis:::tendinitis:::tenosynovitis:::crush injury:::golfer's elbow, entity -> Aspagin, sentence -> 0}]|\n",
            "+---------------------------------------------------------------------------------------------------------------------------------------------------------------------------------------------------------------------------------------------------------------------------------------------------------------------------------------------------------------------------------------------------------------------------------------------------------------------------------------------------------------------------+\n",
            "\n"
          ]
        }
      ]
    },
    {
      "cell_type": "markdown",
      "source": [
        "Here are the ***treatment*** mappings and all relations under the metadata column. "
      ],
      "metadata": {
        "id": "YFpNGIVzWNl1"
      }
    },
    {
      "cell_type": "code",
      "source": [
        "res.select(F.explode(F.arrays_zip(res.ner_chunk.result, \n",
        "                                  res.action_mappings.result, \n",
        "                                  res.action_mappings.metadata)).alias(\"col\"))\\\n",
        "    .select(F.expr(\"col['0']\").alias(\"ner_chunk\"),\n",
        "            F.expr(\"col['1']\").alias(\"mapping_result\"),\n",
        "            F.expr(\"col['2']['all_relations']\").alias(\"all_relations\")).show(truncate=False)"
      ],
      "metadata": {
        "id": "WaHUwXn8RCeu",
        "outputId": "49cae0a5-fb61-4885-8ce7-b099bf4fcd4d",
        "colab": {
          "base_uri": "https://localhost:8080/"
        },
        "executionInfo": {
          "status": "ok",
          "timestamp": 1670178065442,
          "user_tz": -180,
          "elapsed": 922,
          "user": {
            "displayName": "Gökhan TÜRER",
            "userId": "17886843627290606834"
          }
        }
      },
      "execution_count": null,
      "outputs": [
        {
          "output_type": "stream",
          "name": "stdout",
          "text": [
            "+---------+----------------------+-----------------------------------------------------------------------------------------------------------------------------------------------------------------------------------------------------------------------+\n",
            "|ner_chunk|mapping_result        |all_relations                                                                                                                                                                                                          |\n",
            "+---------+----------------------+-----------------------------------------------------------------------------------------------------------------------------------------------------------------------------------------------------------------------+\n",
            "|Dermovate|lupus                 |discoid lupus erythematosus:::empeines:::psoriasis:::eczema                                                                                                                                                            |\n",
            "|Aspagin  |ankylosing spondylitis|arthralgia:::pain:::bursitis:::headache:::migraine:::myositis:::neuralgia:::osteoarthritis:::gout:::rheumatoid arthritis:::spondylitis:::spondyloarthritis:::tendinitis:::tenosynovitis:::crush injury:::golfer's elbow|\n",
            "+---------+----------------------+-----------------------------------------------------------------------------------------------------------------------------------------------------------------------------------------------------------------------+\n",
            "\n"
          ]
        }
      ]
    },
    {
      "cell_type": "markdown",
      "source": [
        "## 1.2- Section Header Normalizer Mapper"
      ],
      "metadata": {
        "id": "iQMHFp1TvRVX"
      }
    },
    {
      "cell_type": "markdown",
      "source": [
        "We have `normalized_section_header_mapper` model that normalizes the section headers in clinical notes. It returns two levels of normalization called `level_1` and `level_2`. <br/>\n",
        "\n",
        "**level_1** refers to the most comprehensive \"section header\" for the corresponding chunk while **level_2** refers to the second comprehensive one.\n",
        "\n",
        "Let's create a piepline with `normalized_section_header_mapper` and see how it works"
      ],
      "metadata": {
        "id": "tue53lJXvfdK"
      }
    },
    {
      "cell_type": "code",
      "source": [
        "document_assembler = DocumentAssembler()\\\n",
        "       .setInputCol('text')\\\n",
        "       .setOutputCol('document')\n",
        "\n",
        "sentence_detector = SentenceDetector()\\\n",
        "       .setInputCols([\"document\"])\\\n",
        "       .setOutputCol(\"sentence\")\n",
        "\n",
        "tokenizer = Tokenizer()\\\n",
        "      .setInputCols(\"sentence\")\\\n",
        "      .setOutputCol(\"token\")\n",
        "\n",
        "embeddings = WordEmbeddingsModel.pretrained(\"embeddings_clinical\", \"en\",\"clinical/models\")\\\n",
        "      .setInputCols([\"sentence\", \"token\"])\\\n",
        "      .setOutputCol(\"word_embeddings\")\n",
        "\n",
        "clinical_ner = MedicalNerModel.pretrained(\"ner_jsl_slim\", \"en\", \"clinical/models\")\\\n",
        "      .setInputCols([\"sentence\",\"token\", \"word_embeddings\"])\\\n",
        "      .setOutputCol(\"ner\")\n",
        "\n",
        "ner_converter = NerConverter()\\\n",
        "      .setInputCols([\"sentence\", \"token\", \"ner\"])\\\n",
        "      .setOutputCol(\"ner_chunk\")\\\n",
        "      .setWhiteList([\"Header\"])\n",
        "\n",
        "chunkerMapper = ChunkMapperModel.pretrained(\"normalized_section_header_mapper\", \"en\", \"clinical/models\") \\\n",
        "       .setInputCols(\"ner_chunk\")\\\n",
        "       .setOutputCol(\"mappings\")\\\n",
        "       .setRels([\"level_1\"]) #or level_2\n",
        "\n",
        "pipeline = Pipeline().setStages([document_assembler,\n",
        "                                sentence_detector,\n",
        "                                tokenizer, \n",
        "                                embeddings,\n",
        "                                clinical_ner, \n",
        "                                ner_converter, \n",
        "                                chunkerMapper])\n",
        "\n",
        "sentences = [\n",
        "    [\"\"\"ADMISSION DIAGNOSIS Right pleural effusion and suspected malignant mesothelioma.\n",
        "        PRINCIPAL DIAGNOSIS Right pleural effusion, suspected malignant mesothelioma.\n",
        "        GENERAL REVIEW Right pleural effusion, firm nodules, diffuse scattered throughout the right pleura and diaphragmatic surface.\n",
        "    \"\"\"]]\n",
        "\n",
        "test_data = spark.createDataFrame(sentences).toDF(\"text\")\n",
        "res = pipeline.fit(test_data).transform(test_data)"
      ],
      "metadata": {
        "colab": {
          "base_uri": "https://localhost:8080/"
        },
        "id": "26Ih_X1JvSV_",
        "outputId": "3f2ec3dc-8f13-4182-fd3e-2d8c9f0c3a39",
        "executionInfo": {
          "status": "ok",
          "timestamp": 1670178141643,
          "user_tz": -180,
          "elapsed": 76207,
          "user": {
            "displayName": "Gökhan TÜRER",
            "userId": "17886843627290606834"
          }
        }
      },
      "execution_count": null,
      "outputs": [
        {
          "output_type": "stream",
          "name": "stdout",
          "text": [
            "embeddings_clinical download started this may take some time.\n",
            "Approximate size to download 1.6 GB\n",
            "[OK!]\n",
            "ner_jsl_slim download started this may take some time.\n",
            "[OK!]\n",
            "normalized_section_header_mapper download started this may take some time.\n",
            "[OK!]\n"
          ]
        }
      ]
    },
    {
      "cell_type": "markdown",
      "source": [
        "Checking the headers detected by ner model"
      ],
      "metadata": {
        "id": "3fTn2JPWyxOk"
      }
    },
    {
      "cell_type": "code",
      "source": [
        "res.select(F.explode('ner_chunk.result').alias(\"chunks\")).show(truncate=False)"
      ],
      "metadata": {
        "colab": {
          "base_uri": "https://localhost:8080/"
        },
        "id": "QfgyrLomxXv_",
        "outputId": "278ea2ca-3d02-4faa-bd98-dfb7da80abd0",
        "executionInfo": {
          "status": "ok",
          "timestamp": 1670178143331,
          "user_tz": -180,
          "elapsed": 1696,
          "user": {
            "displayName": "Gökhan TÜRER",
            "userId": "17886843627290606834"
          }
        }
      },
      "execution_count": null,
      "outputs": [
        {
          "output_type": "stream",
          "name": "stdout",
          "text": [
            "+-------------------+\n",
            "|chunks             |\n",
            "+-------------------+\n",
            "|ADMISSION DIAGNOSIS|\n",
            "|PRINCIPAL DIAGNOSIS|\n",
            "|GENERAL REVIEW     |\n",
            "+-------------------+\n",
            "\n"
          ]
        }
      ]
    },
    {
      "cell_type": "markdown",
      "source": [
        "Checking mapping results"
      ],
      "metadata": {
        "id": "6pv_4VLWzFw0"
      }
    },
    {
      "cell_type": "code",
      "source": [
        "res.select(\"mappings.result\").show(truncate=False)"
      ],
      "metadata": {
        "colab": {
          "base_uri": "https://localhost:8080/"
        },
        "id": "LYZdPVHwxXr9",
        "outputId": "de84fb39-c0cf-41fa-ab39-d6e208e10183",
        "executionInfo": {
          "status": "ok",
          "timestamp": 1670178143943,
          "user_tz": -180,
          "elapsed": 614,
          "user": {
            "displayName": "Gökhan TÜRER",
            "userId": "17886843627290606834"
          }
        }
      },
      "execution_count": null,
      "outputs": [
        {
          "output_type": "stream",
          "name": "stdout",
          "text": [
            "+-----------------------------------+\n",
            "|result                             |\n",
            "+-----------------------------------+\n",
            "|[DIAGNOSIS, DIAGNOSIS, REVIEW TYPE]|\n",
            "+-----------------------------------+\n",
            "\n"
          ]
        }
      ]
    },
    {
      "cell_type": "code",
      "source": [
        "res.select(F.explode(F.arrays_zip(res.ner_chunk.result, \n",
        "                                  res.mappings.result)).alias(\"col\"))\\\n",
        "    .select(F.expr(\"col['0']\").alias(\"ner_chunk\"),\n",
        "            F.expr(\"col['1']\").alias(\"mapping_result\")).show(truncate=False)"
      ],
      "metadata": {
        "colab": {
          "base_uri": "https://localhost:8080/"
        },
        "id": "cqgpO0ANvSOu",
        "outputId": "97f76536-402c-4104-db31-9ea8b78c39a0",
        "executionInfo": {
          "status": "ok",
          "timestamp": 1670178144699,
          "user_tz": -180,
          "elapsed": 759,
          "user": {
            "displayName": "Gökhan TÜRER",
            "userId": "17886843627290606834"
          }
        }
      },
      "execution_count": null,
      "outputs": [
        {
          "output_type": "stream",
          "name": "stdout",
          "text": [
            "+-------------------+--------------+\n",
            "|ner_chunk          |mapping_result|\n",
            "+-------------------+--------------+\n",
            "|ADMISSION DIAGNOSIS|DIAGNOSIS     |\n",
            "|PRINCIPAL DIAGNOSIS|DIAGNOSIS     |\n",
            "|GENERAL REVIEW     |REVIEW TYPE   |\n",
            "+-------------------+--------------+\n",
            "\n"
          ]
        }
      ]
    },
    {
      "cell_type": "markdown",
      "source": [
        "As you see above, we can see the \"level_1\" based normalized version of each section header."
      ],
      "metadata": {
        "id": "w5OHH23MzjDl"
      }
    },
    {
      "cell_type": "markdown",
      "source": [
        "## 1.3- Drug Brand Name NDC Mapper"
      ],
      "metadata": {
        "id": "KIUlv3Ka_iwy"
      }
    },
    {
      "cell_type": "markdown",
      "source": [
        "We have `drug_brandname_ndc_mapper` model that maps drug brand names to corresponding National Drug Codes (NDC). Product NDCs for each strength are returned in result and metadata. <br/>\n",
        "\n",
        "It has one relation type called `Strength_NDC`"
      ],
      "metadata": {
        "id": "JfYOYPF0ALiH"
      }
    },
    {
      "cell_type": "markdown",
      "source": [
        "Let's create a pipeline with `drug_brandname_ndc_mapper` and see how it works."
      ],
      "metadata": {
        "id": "nsdyOYV1DHdU"
      }
    },
    {
      "cell_type": "code",
      "source": [
        "document_assembler = DocumentAssembler()\\\n",
        "      .setInputCol(\"text\")\\\n",
        "      .setOutputCol(\"chunk\")\n",
        "\n",
        "chunkerMapper = ChunkMapperModel.pretrained(\"drug_brandname_ndc_mapper\", \"en\", \"clinical/models\")\\\n",
        "      .setInputCols([\"chunk\"])\\\n",
        "      .setOutputCol(\"ndc\")\\\n",
        "      .setRels([\"Strength_NDC\"])\n",
        "\n",
        "pipeline = Pipeline().setStages([document_assembler,\n",
        "                                 chunkerMapper])  \n",
        "\n",
        "model = pipeline.fit(spark.createDataFrame([['']]).toDF('text')) \n",
        "\n",
        "lp = LightPipeline(model)\n",
        "\n",
        "res = lp.fullAnnotate('ZYVOX')"
      ],
      "metadata": {
        "colab": {
          "base_uri": "https://localhost:8080/"
        },
        "id": "6wGtPSK4_ikU",
        "outputId": "a4ec3746-9244-479d-a302-e3fde54ccf0c",
        "executionInfo": {
          "status": "ok",
          "timestamp": 1670178150075,
          "user_tz": -180,
          "elapsed": 5381,
          "user": {
            "displayName": "Gökhan TÜRER",
            "userId": "17886843627290606834"
          }
        }
      },
      "execution_count": null,
      "outputs": [
        {
          "output_type": "stream",
          "name": "stdout",
          "text": [
            "drug_brandname_ndc_mapper download started this may take some time.\n",
            "[OK!]\n"
          ]
        }
      ]
    },
    {
      "cell_type": "code",
      "source": [
        "chunks = []\n",
        "mappings = []\n",
        "all_re= []\n",
        "\n",
        "for m, n in list(zip(res[0]['chunk'], res[0][\"ndc\"])):\n",
        "        \n",
        "    chunks.append(m.result)\n",
        "    mappings.append(n.result) \n",
        "    all_re.append(n.metadata[\"all_relations\"])\n",
        "    \n",
        "import pandas as pd\n",
        "pd.set_option('display.max_colwidth', None)\n",
        "\n",
        "df = pd.DataFrame({'Brand_Name':chunks, 'Strenth_NDC': mappings, 'Other_NDC':all_re})\n",
        "\n",
        "df"
      ],
      "metadata": {
        "colab": {
          "base_uri": "https://localhost:8080/",
          "height": 142
        },
        "id": "ArYNThd1DxLr",
        "outputId": "e38b709b-bf3c-49bd-e62c-ac2b19446e88",
        "executionInfo": {
          "status": "ok",
          "timestamp": 1670178150075,
          "user_tz": -180,
          "elapsed": 23,
          "user": {
            "displayName": "Gökhan TÜRER",
            "userId": "17886843627290606834"
          }
        }
      },
      "execution_count": null,
      "outputs": [
        {
          "output_type": "execute_result",
          "data": {
            "text/plain": [
              "  Brand_Name               Strenth_NDC  \\\n",
              "0      ZYVOX  600 mg/300mL | 0009-4992   \n",
              "\n",
              "                                                                                                                                                                                                                                    Other_NDC  \n",
              "0  600 mg/300mL | 66298-7807:::600 mg/300mL | 0009-7807:::600 mg/300mL | 0009-5140:::100 mg/5mL | 0009-5136:::600 mg/1 | 70518-1226:::600 mg/300mL | 66298-5140:::200 mg/100mL | 66298-5137:::200 mg/100mL | 0009-5137:::600 mg/1 | 0009-5138  "
            ],
            "text/html": [
              "\n",
              "  <div id=\"df-e6075463-a6d3-4cbd-abfa-73f648148244\">\n",
              "    <div class=\"colab-df-container\">\n",
              "      <div>\n",
              "<style scoped>\n",
              "    .dataframe tbody tr th:only-of-type {\n",
              "        vertical-align: middle;\n",
              "    }\n",
              "\n",
              "    .dataframe tbody tr th {\n",
              "        vertical-align: top;\n",
              "    }\n",
              "\n",
              "    .dataframe thead th {\n",
              "        text-align: right;\n",
              "    }\n",
              "</style>\n",
              "<table border=\"1\" class=\"dataframe\">\n",
              "  <thead>\n",
              "    <tr style=\"text-align: right;\">\n",
              "      <th></th>\n",
              "      <th>Brand_Name</th>\n",
              "      <th>Strenth_NDC</th>\n",
              "      <th>Other_NDC</th>\n",
              "    </tr>\n",
              "  </thead>\n",
              "  <tbody>\n",
              "    <tr>\n",
              "      <th>0</th>\n",
              "      <td>ZYVOX</td>\n",
              "      <td>600 mg/300mL | 0009-4992</td>\n",
              "      <td>600 mg/300mL | 66298-7807:::600 mg/300mL | 0009-7807:::600 mg/300mL | 0009-5140:::100 mg/5mL | 0009-5136:::600 mg/1 | 70518-1226:::600 mg/300mL | 66298-5140:::200 mg/100mL | 66298-5137:::200 mg/100mL | 0009-5137:::600 mg/1 | 0009-5138</td>\n",
              "    </tr>\n",
              "  </tbody>\n",
              "</table>\n",
              "</div>\n",
              "      <button class=\"colab-df-convert\" onclick=\"convertToInteractive('df-e6075463-a6d3-4cbd-abfa-73f648148244')\"\n",
              "              title=\"Convert this dataframe to an interactive table.\"\n",
              "              style=\"display:none;\">\n",
              "        \n",
              "  <svg xmlns=\"http://www.w3.org/2000/svg\" height=\"24px\"viewBox=\"0 0 24 24\"\n",
              "       width=\"24px\">\n",
              "    <path d=\"M0 0h24v24H0V0z\" fill=\"none\"/>\n",
              "    <path d=\"M18.56 5.44l.94 2.06.94-2.06 2.06-.94-2.06-.94-.94-2.06-.94 2.06-2.06.94zm-11 1L8.5 8.5l.94-2.06 2.06-.94-2.06-.94L8.5 2.5l-.94 2.06-2.06.94zm10 10l.94 2.06.94-2.06 2.06-.94-2.06-.94-.94-2.06-.94 2.06-2.06.94z\"/><path d=\"M17.41 7.96l-1.37-1.37c-.4-.4-.92-.59-1.43-.59-.52 0-1.04.2-1.43.59L10.3 9.45l-7.72 7.72c-.78.78-.78 2.05 0 2.83L4 21.41c.39.39.9.59 1.41.59.51 0 1.02-.2 1.41-.59l7.78-7.78 2.81-2.81c.8-.78.8-2.07 0-2.86zM5.41 20L4 18.59l7.72-7.72 1.47 1.35L5.41 20z\"/>\n",
              "  </svg>\n",
              "      </button>\n",
              "      \n",
              "  <style>\n",
              "    .colab-df-container {\n",
              "      display:flex;\n",
              "      flex-wrap:wrap;\n",
              "      gap: 12px;\n",
              "    }\n",
              "\n",
              "    .colab-df-convert {\n",
              "      background-color: #E8F0FE;\n",
              "      border: none;\n",
              "      border-radius: 50%;\n",
              "      cursor: pointer;\n",
              "      display: none;\n",
              "      fill: #1967D2;\n",
              "      height: 32px;\n",
              "      padding: 0 0 0 0;\n",
              "      width: 32px;\n",
              "    }\n",
              "\n",
              "    .colab-df-convert:hover {\n",
              "      background-color: #E2EBFA;\n",
              "      box-shadow: 0px 1px 2px rgba(60, 64, 67, 0.3), 0px 1px 3px 1px rgba(60, 64, 67, 0.15);\n",
              "      fill: #174EA6;\n",
              "    }\n",
              "\n",
              "    [theme=dark] .colab-df-convert {\n",
              "      background-color: #3B4455;\n",
              "      fill: #D2E3FC;\n",
              "    }\n",
              "\n",
              "    [theme=dark] .colab-df-convert:hover {\n",
              "      background-color: #434B5C;\n",
              "      box-shadow: 0px 1px 3px 1px rgba(0, 0, 0, 0.15);\n",
              "      filter: drop-shadow(0px 1px 2px rgba(0, 0, 0, 0.3));\n",
              "      fill: #FFFFFF;\n",
              "    }\n",
              "  </style>\n",
              "\n",
              "      <script>\n",
              "        const buttonEl =\n",
              "          document.querySelector('#df-e6075463-a6d3-4cbd-abfa-73f648148244 button.colab-df-convert');\n",
              "        buttonEl.style.display =\n",
              "          google.colab.kernel.accessAllowed ? 'block' : 'none';\n",
              "\n",
              "        async function convertToInteractive(key) {\n",
              "          const element = document.querySelector('#df-e6075463-a6d3-4cbd-abfa-73f648148244');\n",
              "          const dataTable =\n",
              "            await google.colab.kernel.invokeFunction('convertToInteractive',\n",
              "                                                     [key], {});\n",
              "          if (!dataTable) return;\n",
              "\n",
              "          const docLinkHtml = 'Like what you see? Visit the ' +\n",
              "            '<a target=\"_blank\" href=https://colab.research.google.com/notebooks/data_table.ipynb>data table notebook</a>'\n",
              "            + ' to learn more about interactive tables.';\n",
              "          element.innerHTML = '';\n",
              "          dataTable['output_type'] = 'display_data';\n",
              "          await google.colab.output.renderOutput(dataTable, element);\n",
              "          const docLink = document.createElement('div');\n",
              "          docLink.innerHTML = docLinkHtml;\n",
              "          element.appendChild(docLink);\n",
              "        }\n",
              "      </script>\n",
              "    </div>\n",
              "  </div>\n",
              "  "
            ]
          },
          "metadata": {},
          "execution_count": 19
        }
      ]
    },
    {
      "cell_type": "markdown",
      "source": [
        "As you see, we can see corresponding \"NDC\" mappings of each \"brand names\". "
      ],
      "metadata": {
        "id": "Ntq2uH7lDkAq"
      }
    },
    {
      "cell_type": "markdown",
      "source": [
        "## 1.4- RxNorm NDC Mapper"
      ],
      "metadata": {
        "id": "zBKhGobLESSP"
      }
    },
    {
      "cell_type": "markdown",
      "source": [
        "We have `rxnorm_ndc_mapper` model that maps RxNorm and RxNorm Extension codes with corresponding National Drug Codes (NDC).\n",
        "\n",
        "It has two relation types that can be defined in `setRel()` parameter; **Product NDC** and **Package NDC**"
      ],
      "metadata": {
        "id": "ODX-0_GxEbFF"
      }
    },
    {
      "cell_type": "markdown",
      "source": [
        "Let's create a pipeline with `rxnorm_ndc_mapper` model by setting the  relation as `setRel(\"Product NDC\")` and see the results. "
      ],
      "metadata": {
        "id": "fRNTaLYFFET9"
      }
    },
    {
      "cell_type": "code",
      "source": [
        "document_assembler = DocumentAssembler()\\\n",
        "      .setInputCol('text')\\\n",
        "      .setOutputCol('ner_chunk')\n",
        "\n",
        "sbert_embedder = BertSentenceEmbeddings.pretrained('sbiobert_base_cased_mli', 'en','clinical/models')\\\n",
        "      .setInputCols([\"ner_chunk\"])\\\n",
        "      .setOutputCol(\"sentence_embeddings\")\\\n",
        "      .setCaseSensitive(False)\n",
        "    \n",
        "rxnorm_resolver = SentenceEntityResolverModel.pretrained(\"sbiobertresolve_rxnorm_augmented\",\"en\", \"clinical/models\") \\\n",
        "      .setInputCols([\"sentence_embeddings\"]) \\\n",
        "      .setOutputCol(\"rxnorm_code\")\\\n",
        "      .setDistanceFunction(\"EUCLIDEAN\")\n",
        "\n",
        "chunkerMapper_product = ChunkMapperModel.pretrained(\"rxnorm_ndc_mapper\", \"en\", \"clinical/models\")\\\n",
        "      .setInputCols([\"rxnorm_code\"])\\\n",
        "      .setOutputCol(\"Product NDC\")\\\n",
        "      .setRels([\"Product NDC\"]) #or Package NDC\n",
        "\n",
        "pipeline = Pipeline().setStages([document_assembler,\n",
        "                                 sbert_embedder,\n",
        "                                 rxnorm_resolver,\n",
        "                                 chunkerMapper_product\n",
        "                                 ])\n",
        "\n",
        "model = pipeline.fit(spark.createDataFrame([['']]).toDF('text')) \n",
        "\n",
        "lp = LightPipeline(model)\n",
        "\n",
        "result = lp.fullAnnotate('macadamia nut 100 MG/ML')"
      ],
      "metadata": {
        "colab": {
          "base_uri": "https://localhost:8080/"
        },
        "id": "bR1XvJzKEM3n",
        "outputId": "b8101206-d205-47fd-9fa6-7fbaccea324d",
        "executionInfo": {
          "status": "ok",
          "timestamp": 1670179718697,
          "user_tz": -180,
          "elapsed": 18515,
          "user": {
            "displayName": "Gökhan TÜRER",
            "userId": "17886843627290606834"
          }
        }
      },
      "execution_count": null,
      "outputs": [
        {
          "output_type": "stream",
          "name": "stdout",
          "text": [
            "sbiobert_base_cased_mli download started this may take some time.\n",
            "Approximate size to download 384.3 MB\n",
            "[OK!]\n",
            "sbiobertresolve_rxnorm_augmented download started this may take some time.\n",
            "[OK!]\n",
            "rxnorm_ndc_mapper download started this may take some time.\n",
            "[OK!]\n"
          ]
        }
      ]
    },
    {
      "cell_type": "markdown",
      "source": [
        "Checking the results"
      ],
      "metadata": {
        "id": "IeGDZ0-vSRp6"
      }
    },
    {
      "cell_type": "code",
      "source": [
        "chunks = []\n",
        "rxnorm_code = []\n",
        "product= []\n",
        "\n",
        "\n",
        "for m, n, j in list(zip(result[0]['ner_chunk'], result[0][\"rxnorm_code\"], result[0][\"Product NDC\"])):\n",
        "\n",
        "    chunks.append(m.result)\n",
        "    rxnorm_code.append(n.result) \n",
        "    product.append(j.result)\n",
        "    \n",
        "import pandas as pd\n",
        "\n",
        "df = pd.DataFrame({'ner_chunk':chunks,\n",
        "                   'rxnorm_code': rxnorm_code,\n",
        "                   'Product NDC': product})\n",
        "\n",
        "df"
      ],
      "metadata": {
        "colab": {
          "base_uri": "https://localhost:8080/",
          "height": 81
        },
        "id": "uw8vKIysl2Gu",
        "outputId": "fdb52c99-5352-4283-e52f-f34b4b178110",
        "executionInfo": {
          "status": "ok",
          "timestamp": 1670179718700,
          "user_tz": -180,
          "elapsed": 18,
          "user": {
            "displayName": "Gökhan TÜRER",
            "userId": "17886843627290606834"
          }
        }
      },
      "execution_count": null,
      "outputs": [
        {
          "output_type": "execute_result",
          "data": {
            "text/plain": [
              "                 ner_chunk rxnorm_code Product NDC\n",
              "0  macadamia nut 100 MG/ML      212433  00187-1474"
            ],
            "text/html": [
              "\n",
              "  <div id=\"df-f1002db7-a14c-4bff-b862-72c904d088ef\">\n",
              "    <div class=\"colab-df-container\">\n",
              "      <div>\n",
              "<style scoped>\n",
              "    .dataframe tbody tr th:only-of-type {\n",
              "        vertical-align: middle;\n",
              "    }\n",
              "\n",
              "    .dataframe tbody tr th {\n",
              "        vertical-align: top;\n",
              "    }\n",
              "\n",
              "    .dataframe thead th {\n",
              "        text-align: right;\n",
              "    }\n",
              "</style>\n",
              "<table border=\"1\" class=\"dataframe\">\n",
              "  <thead>\n",
              "    <tr style=\"text-align: right;\">\n",
              "      <th></th>\n",
              "      <th>ner_chunk</th>\n",
              "      <th>rxnorm_code</th>\n",
              "      <th>Product NDC</th>\n",
              "    </tr>\n",
              "  </thead>\n",
              "  <tbody>\n",
              "    <tr>\n",
              "      <th>0</th>\n",
              "      <td>macadamia nut 100 MG/ML</td>\n",
              "      <td>212433</td>\n",
              "      <td>00187-1474</td>\n",
              "    </tr>\n",
              "  </tbody>\n",
              "</table>\n",
              "</div>\n",
              "      <button class=\"colab-df-convert\" onclick=\"convertToInteractive('df-f1002db7-a14c-4bff-b862-72c904d088ef')\"\n",
              "              title=\"Convert this dataframe to an interactive table.\"\n",
              "              style=\"display:none;\">\n",
              "        \n",
              "  <svg xmlns=\"http://www.w3.org/2000/svg\" height=\"24px\"viewBox=\"0 0 24 24\"\n",
              "       width=\"24px\">\n",
              "    <path d=\"M0 0h24v24H0V0z\" fill=\"none\"/>\n",
              "    <path d=\"M18.56 5.44l.94 2.06.94-2.06 2.06-.94-2.06-.94-.94-2.06-.94 2.06-2.06.94zm-11 1L8.5 8.5l.94-2.06 2.06-.94-2.06-.94L8.5 2.5l-.94 2.06-2.06.94zm10 10l.94 2.06.94-2.06 2.06-.94-2.06-.94-.94-2.06-.94 2.06-2.06.94z\"/><path d=\"M17.41 7.96l-1.37-1.37c-.4-.4-.92-.59-1.43-.59-.52 0-1.04.2-1.43.59L10.3 9.45l-7.72 7.72c-.78.78-.78 2.05 0 2.83L4 21.41c.39.39.9.59 1.41.59.51 0 1.02-.2 1.41-.59l7.78-7.78 2.81-2.81c.8-.78.8-2.07 0-2.86zM5.41 20L4 18.59l7.72-7.72 1.47 1.35L5.41 20z\"/>\n",
              "  </svg>\n",
              "      </button>\n",
              "      \n",
              "  <style>\n",
              "    .colab-df-container {\n",
              "      display:flex;\n",
              "      flex-wrap:wrap;\n",
              "      gap: 12px;\n",
              "    }\n",
              "\n",
              "    .colab-df-convert {\n",
              "      background-color: #E8F0FE;\n",
              "      border: none;\n",
              "      border-radius: 50%;\n",
              "      cursor: pointer;\n",
              "      display: none;\n",
              "      fill: #1967D2;\n",
              "      height: 32px;\n",
              "      padding: 0 0 0 0;\n",
              "      width: 32px;\n",
              "    }\n",
              "\n",
              "    .colab-df-convert:hover {\n",
              "      background-color: #E2EBFA;\n",
              "      box-shadow: 0px 1px 2px rgba(60, 64, 67, 0.3), 0px 1px 3px 1px rgba(60, 64, 67, 0.15);\n",
              "      fill: #174EA6;\n",
              "    }\n",
              "\n",
              "    [theme=dark] .colab-df-convert {\n",
              "      background-color: #3B4455;\n",
              "      fill: #D2E3FC;\n",
              "    }\n",
              "\n",
              "    [theme=dark] .colab-df-convert:hover {\n",
              "      background-color: #434B5C;\n",
              "      box-shadow: 0px 1px 3px 1px rgba(0, 0, 0, 0.15);\n",
              "      filter: drop-shadow(0px 1px 2px rgba(0, 0, 0, 0.3));\n",
              "      fill: #FFFFFF;\n",
              "    }\n",
              "  </style>\n",
              "\n",
              "      <script>\n",
              "        const buttonEl =\n",
              "          document.querySelector('#df-f1002db7-a14c-4bff-b862-72c904d088ef button.colab-df-convert');\n",
              "        buttonEl.style.display =\n",
              "          google.colab.kernel.accessAllowed ? 'block' : 'none';\n",
              "\n",
              "        async function convertToInteractive(key) {\n",
              "          const element = document.querySelector('#df-f1002db7-a14c-4bff-b862-72c904d088ef');\n",
              "          const dataTable =\n",
              "            await google.colab.kernel.invokeFunction('convertToInteractive',\n",
              "                                                     [key], {});\n",
              "          if (!dataTable) return;\n",
              "\n",
              "          const docLinkHtml = 'Like what you see? Visit the ' +\n",
              "            '<a target=\"_blank\" href=https://colab.research.google.com/notebooks/data_table.ipynb>data table notebook</a>'\n",
              "            + ' to learn more about interactive tables.';\n",
              "          element.innerHTML = '';\n",
              "          dataTable['output_type'] = 'display_data';\n",
              "          await google.colab.output.renderOutput(dataTable, element);\n",
              "          const docLink = document.createElement('div');\n",
              "          docLink.innerHTML = docLinkHtml;\n",
              "          element.appendChild(docLink);\n",
              "        }\n",
              "      </script>\n",
              "    </div>\n",
              "  </div>\n",
              "  "
            ]
          },
          "metadata": {},
          "execution_count": 22
        }
      ]
    },
    {
      "cell_type": "markdown",
      "source": [
        "As you see, we can see corresponding \"Product NDC\" mappings of each \"RxNorm codes\"."
      ],
      "metadata": {
        "id": "fvGK4Z7PSns8"
      }
    },
    {
      "cell_type": "markdown",
      "source": [
        "## 1.5- RxNorm Action Treatment Mapper"
      ],
      "metadata": {
        "id": "ci6QTFAaNvon"
      }
    },
    {
      "cell_type": "markdown",
      "source": [
        "We have `rxnorm_action_treatment_mapper` model that maps RxNorm and RxNorm Extension codes with their corresponding action and treatment. It has two relation types that can be defined in `setRel()` parameter; <br/>\n",
        "\n",
        "**Action** of drug refers to the function of a drug in various body systems. <br/>\n",
        "**Treatment** refers to which disease the drug is used to treat."
      ],
      "metadata": {
        "id": "x2L7A0ruN4JD"
      }
    },
    {
      "cell_type": "markdown",
      "source": [
        "Let's create a pipeline and see how it works. "
      ],
      "metadata": {
        "id": "kX0S24f7cA3H"
      }
    },
    {
      "cell_type": "code",
      "source": [
        "document_assembler = DocumentAssembler()\\\n",
        "      .setInputCol('text')\\\n",
        "      .setOutputCol('ner_chunk')\n",
        "\n",
        "sbert_embedder = BertSentenceEmbeddings.pretrained('sbiobert_base_cased_mli', 'en','clinical/models')\\\n",
        "      .setInputCols([\"ner_chunk\"])\\\n",
        "      .setOutputCol(\"sentence_embeddings\")\\\n",
        "      .setCaseSensitive(False)\n",
        "    \n",
        "rxnorm_resolver = SentenceEntityResolverModel.pretrained(\"sbiobertresolve_rxnorm_augmented\",\"en\", \"clinical/models\") \\\n",
        "      .setInputCols([\"sentence_embeddings\"]) \\\n",
        "      .setOutputCol(\"rxnorm_code\")\\\n",
        "      .setDistanceFunction(\"EUCLIDEAN\")\n",
        "\n",
        "chunkerMapper_action = ChunkMapperModel.pretrained(\"rxnorm_action_treatment_mapper\", \"en\", \"clinical/models\")\\\n",
        "      .setInputCols([\"rxnorm_code\"])\\\n",
        "      .setOutputCol(\"Action\")\\\n",
        "      .setRels([\"action\"]) #or treatment\n",
        "\n",
        "pipeline = Pipeline().setStages([document_assembler,\n",
        "                                 sbert_embedder,\n",
        "                                 rxnorm_resolver,\n",
        "                                 chunkerMapper_action\n",
        "                                 ])\n",
        "\n",
        "model = pipeline.fit(spark.createDataFrame([['']]).toDF('text')) \n",
        "\n",
        "lp = LightPipeline(model)\n",
        "\n",
        "res = lp.fullAnnotate('Zonalon 50 mg')"
      ],
      "metadata": {
        "colab": {
          "base_uri": "https://localhost:8080/"
        },
        "id": "NndvMrLFNmjk",
        "outputId": "a8a8b19f-6cbb-40e1-f5df-b3253cbc5ed2",
        "executionInfo": {
          "status": "ok",
          "timestamp": 1670179850711,
          "user_tz": -180,
          "elapsed": 74581,
          "user": {
            "displayName": "Gökhan TÜRER",
            "userId": "17886843627290606834"
          }
        }
      },
      "execution_count": null,
      "outputs": [
        {
          "output_type": "stream",
          "name": "stdout",
          "text": [
            "sbiobert_base_cased_mli download started this may take some time.\n",
            "Approximate size to download 384.3 MB\n",
            "[OK!]\n",
            "sbiobertresolve_rxnorm_augmented download started this may take some time.\n",
            "[OK!]\n",
            "rxnorm_action_treatment_mapper download started this may take some time.\n",
            "[OK!]\n"
          ]
        }
      ]
    },
    {
      "cell_type": "markdown",
      "source": [
        "Checking the results"
      ],
      "metadata": {
        "id": "cFRzialBWYmM"
      }
    },
    {
      "cell_type": "code",
      "source": [
        "chunks = []\n",
        "rxnorm_code = []\n",
        "action= []\n",
        "\n",
        "\n",
        "for m, n, j in list(zip(res[0]['ner_chunk'], res[0][\"rxnorm_code\"], res[0][\"Action\"])):\n",
        "\n",
        "    chunks.append(m.result)\n",
        "    rxnorm_code.append(n.result) \n",
        "    action.append(j.result)\n",
        "    \n",
        "import pandas as pd\n",
        "\n",
        "df = pd.DataFrame({'ner_chunk':chunks,\n",
        "                   'rxnorm_code': rxnorm_code,\n",
        "                   'Action': action})\n",
        "\n",
        "df"
      ],
      "metadata": {
        "colab": {
          "base_uri": "https://localhost:8080/",
          "height": 81
        },
        "id": "MHWdg3_bmiwF",
        "outputId": "f6149188-b126-404b-a717-03799d42e578",
        "executionInfo": {
          "status": "ok",
          "timestamp": 1670179850712,
          "user_tz": -180,
          "elapsed": 10,
          "user": {
            "displayName": "Gökhan TÜRER",
            "userId": "17886843627290606834"
          }
        }
      },
      "execution_count": null,
      "outputs": [
        {
          "output_type": "execute_result",
          "data": {
            "text/plain": [
              "       ner_chunk rxnorm_code     Action\n",
              "0  Zonalon 50 mg      103971  Analgesic"
            ],
            "text/html": [
              "\n",
              "  <div id=\"df-3ae1d85e-8668-4ba2-a0fc-518ff03c0777\">\n",
              "    <div class=\"colab-df-container\">\n",
              "      <div>\n",
              "<style scoped>\n",
              "    .dataframe tbody tr th:only-of-type {\n",
              "        vertical-align: middle;\n",
              "    }\n",
              "\n",
              "    .dataframe tbody tr th {\n",
              "        vertical-align: top;\n",
              "    }\n",
              "\n",
              "    .dataframe thead th {\n",
              "        text-align: right;\n",
              "    }\n",
              "</style>\n",
              "<table border=\"1\" class=\"dataframe\">\n",
              "  <thead>\n",
              "    <tr style=\"text-align: right;\">\n",
              "      <th></th>\n",
              "      <th>ner_chunk</th>\n",
              "      <th>rxnorm_code</th>\n",
              "      <th>Action</th>\n",
              "    </tr>\n",
              "  </thead>\n",
              "  <tbody>\n",
              "    <tr>\n",
              "      <th>0</th>\n",
              "      <td>Zonalon 50 mg</td>\n",
              "      <td>103971</td>\n",
              "      <td>Analgesic</td>\n",
              "    </tr>\n",
              "  </tbody>\n",
              "</table>\n",
              "</div>\n",
              "      <button class=\"colab-df-convert\" onclick=\"convertToInteractive('df-3ae1d85e-8668-4ba2-a0fc-518ff03c0777')\"\n",
              "              title=\"Convert this dataframe to an interactive table.\"\n",
              "              style=\"display:none;\">\n",
              "        \n",
              "  <svg xmlns=\"http://www.w3.org/2000/svg\" height=\"24px\"viewBox=\"0 0 24 24\"\n",
              "       width=\"24px\">\n",
              "    <path d=\"M0 0h24v24H0V0z\" fill=\"none\"/>\n",
              "    <path d=\"M18.56 5.44l.94 2.06.94-2.06 2.06-.94-2.06-.94-.94-2.06-.94 2.06-2.06.94zm-11 1L8.5 8.5l.94-2.06 2.06-.94-2.06-.94L8.5 2.5l-.94 2.06-2.06.94zm10 10l.94 2.06.94-2.06 2.06-.94-2.06-.94-.94-2.06-.94 2.06-2.06.94z\"/><path d=\"M17.41 7.96l-1.37-1.37c-.4-.4-.92-.59-1.43-.59-.52 0-1.04.2-1.43.59L10.3 9.45l-7.72 7.72c-.78.78-.78 2.05 0 2.83L4 21.41c.39.39.9.59 1.41.59.51 0 1.02-.2 1.41-.59l7.78-7.78 2.81-2.81c.8-.78.8-2.07 0-2.86zM5.41 20L4 18.59l7.72-7.72 1.47 1.35L5.41 20z\"/>\n",
              "  </svg>\n",
              "      </button>\n",
              "      \n",
              "  <style>\n",
              "    .colab-df-container {\n",
              "      display:flex;\n",
              "      flex-wrap:wrap;\n",
              "      gap: 12px;\n",
              "    }\n",
              "\n",
              "    .colab-df-convert {\n",
              "      background-color: #E8F0FE;\n",
              "      border: none;\n",
              "      border-radius: 50%;\n",
              "      cursor: pointer;\n",
              "      display: none;\n",
              "      fill: #1967D2;\n",
              "      height: 32px;\n",
              "      padding: 0 0 0 0;\n",
              "      width: 32px;\n",
              "    }\n",
              "\n",
              "    .colab-df-convert:hover {\n",
              "      background-color: #E2EBFA;\n",
              "      box-shadow: 0px 1px 2px rgba(60, 64, 67, 0.3), 0px 1px 3px 1px rgba(60, 64, 67, 0.15);\n",
              "      fill: #174EA6;\n",
              "    }\n",
              "\n",
              "    [theme=dark] .colab-df-convert {\n",
              "      background-color: #3B4455;\n",
              "      fill: #D2E3FC;\n",
              "    }\n",
              "\n",
              "    [theme=dark] .colab-df-convert:hover {\n",
              "      background-color: #434B5C;\n",
              "      box-shadow: 0px 1px 3px 1px rgba(0, 0, 0, 0.15);\n",
              "      filter: drop-shadow(0px 1px 2px rgba(0, 0, 0, 0.3));\n",
              "      fill: #FFFFFF;\n",
              "    }\n",
              "  </style>\n",
              "\n",
              "      <script>\n",
              "        const buttonEl =\n",
              "          document.querySelector('#df-3ae1d85e-8668-4ba2-a0fc-518ff03c0777 button.colab-df-convert');\n",
              "        buttonEl.style.display =\n",
              "          google.colab.kernel.accessAllowed ? 'block' : 'none';\n",
              "\n",
              "        async function convertToInteractive(key) {\n",
              "          const element = document.querySelector('#df-3ae1d85e-8668-4ba2-a0fc-518ff03c0777');\n",
              "          const dataTable =\n",
              "            await google.colab.kernel.invokeFunction('convertToInteractive',\n",
              "                                                     [key], {});\n",
              "          if (!dataTable) return;\n",
              "\n",
              "          const docLinkHtml = 'Like what you see? Visit the ' +\n",
              "            '<a target=\"_blank\" href=https://colab.research.google.com/notebooks/data_table.ipynb>data table notebook</a>'\n",
              "            + ' to learn more about interactive tables.';\n",
              "          element.innerHTML = '';\n",
              "          dataTable['output_type'] = 'display_data';\n",
              "          await google.colab.output.renderOutput(dataTable, element);\n",
              "          const docLink = document.createElement('div');\n",
              "          docLink.innerHTML = docLinkHtml;\n",
              "          element.appendChild(docLink);\n",
              "        }\n",
              "      </script>\n",
              "    </div>\n",
              "  </div>\n",
              "  "
            ]
          },
          "metadata": {},
          "execution_count": 25
        }
      ]
    },
    {
      "cell_type": "markdown",
      "source": [
        "As you see, we can see corresponding \"Action\" mappings of each \"RxNorm codes\"."
      ],
      "metadata": {
        "id": "1lOTEXeeWSyW"
      }
    },
    {
      "cell_type": "markdown",
      "source": [
        "## 1.6- Abbreviation Mapper"
      ],
      "metadata": {
        "id": "TTKofeLuWj42"
      }
    },
    {
      "cell_type": "markdown",
      "source": [
        "We have `abbreviation_mapper` model that maps abbreviations and acronyms of medical regulatory activities with their definitions. <br/> It has one relation type that can be defined in `setRels([\"definition\"])` parameter."
      ],
      "metadata": {
        "id": "kwYOGi8DXCp8"
      }
    },
    {
      "cell_type": "markdown",
      "source": [
        "Let's create a pipeline consisting `ner_abbreviation_clinical` to extract abbreviations from text, and feed the `abbreviation_mapper` with it. "
      ],
      "metadata": {
        "id": "gHW9JxRjXZFy"
      }
    },
    {
      "cell_type": "code",
      "source": [
        "document_assembler = DocumentAssembler()\\\n",
        "      .setInputCol('text')\\\n",
        "      .setOutputCol('document')\n",
        "\n",
        "sentence_detector = SentenceDetector()\\\n",
        "      .setInputCols([\"document\"])\\\n",
        "      .setOutputCol(\"sentence\")\n",
        "\n",
        "tokenizer = Tokenizer()\\\n",
        "      .setInputCols(\"sentence\")\\\n",
        "      .setOutputCol(\"token\")\n",
        "\n",
        "word_embeddings = WordEmbeddingsModel.pretrained(\"embeddings_clinical\", \"en\", \"clinical/models\")\\\n",
        "      .setInputCols([\"sentence\", \"token\"])\\\n",
        "      .setOutputCol(\"embeddings\")\n",
        "\n",
        "#NER model to detect abbreviations in the text\n",
        "abbr_ner = MedicalNerModel.pretrained('ner_abbreviation_clinical', 'en', 'clinical/models') \\\n",
        "      .setInputCols([\"sentence\", \"token\", \"embeddings\"]) \\\n",
        "      .setOutputCol(\"abbr_ner\")\n",
        "\n",
        "abbr_converter = NerConverter() \\\n",
        "      .setInputCols([\"sentence\", \"token\", \"abbr_ner\"]) \\\n",
        "      .setOutputCol(\"abbr_ner_chunk\")\\\n",
        "\n",
        "chunkerMapper = ChunkMapperModel.pretrained(\"abbreviation_mapper\", \"en\", \"clinical/models\")\\\n",
        "      .setInputCols([\"abbr_ner_chunk\"])\\\n",
        "      .setOutputCol(\"mappings\")\\\n",
        "      .setRels([\"definition\"]) \n",
        "\n",
        "pipeline = Pipeline().setStages([document_assembler,\n",
        "                                 sentence_detector,\n",
        "                                 tokenizer, \n",
        "                                 word_embeddings,\n",
        "                                 abbr_ner, \n",
        "                                 abbr_converter, \n",
        "                                 chunkerMapper])\n",
        "\n",
        "text = [\"\"\"Gravid with estimated fetal weight of 6-6/12 pounds.\n",
        "           LABORATORY DATA: Laboratory tests include a CBC which is normal. \n",
        "           HIV: Negative. One-Hour Glucose: 117. Group B strep has not been done as yet.\"\"\"]\n",
        "\n",
        "test_data = spark.createDataFrame([text]).toDF(\"text\")\n",
        "\n",
        "model = pipeline.fit(test_data)\n",
        "res= model.transform(test_data)"
      ],
      "metadata": {
        "colab": {
          "base_uri": "https://localhost:8080/"
        },
        "id": "I6TcC8MvPHZE",
        "outputId": "b81153dd-a00b-4446-99c5-fa01b1045dff",
        "executionInfo": {
          "status": "ok",
          "timestamp": 1670179861413,
          "user_tz": -180,
          "elapsed": 10710,
          "user": {
            "displayName": "Gökhan TÜRER",
            "userId": "17886843627290606834"
          }
        }
      },
      "execution_count": null,
      "outputs": [
        {
          "output_type": "stream",
          "name": "stdout",
          "text": [
            "embeddings_clinical download started this may take some time.\n",
            "Approximate size to download 1.6 GB\n",
            "[OK!]\n",
            "ner_abbreviation_clinical download started this may take some time.\n",
            "[OK!]\n",
            "abbreviation_mapper download started this may take some time.\n",
            "[OK!]\n"
          ]
        }
      ]
    },
    {
      "cell_type": "markdown",
      "source": [
        "Checking the results"
      ],
      "metadata": {
        "id": "icqK31njXpbk"
      }
    },
    {
      "cell_type": "code",
      "source": [
        "#abbreviations extracted by ner model\n",
        "res.select(\"abbr_ner_chunk.result\").show()"
      ],
      "metadata": {
        "colab": {
          "base_uri": "https://localhost:8080/"
        },
        "id": "15gReqinY1Y3",
        "outputId": "7ae2e1b4-ebb2-4710-e444-7ca8f5780e6f",
        "executionInfo": {
          "status": "ok",
          "timestamp": 1670179864002,
          "user_tz": -180,
          "elapsed": 2602,
          "user": {
            "displayName": "Gökhan TÜRER",
            "userId": "17886843627290606834"
          }
        }
      },
      "execution_count": null,
      "outputs": [
        {
          "output_type": "stream",
          "name": "stdout",
          "text": [
            "+----------+\n",
            "|    result|\n",
            "+----------+\n",
            "|[CBC, HIV]|\n",
            "+----------+\n",
            "\n"
          ]
        }
      ]
    },
    {
      "cell_type": "code",
      "source": [
        "res.select(F.explode(F.arrays_zip(res.abbr_ner_chunk.result, res.mappings.result)).alias(\"col\"))\\\n",
        "    .select(F.expr(\"col['0']\").alias(\"Abbreviation\"),\n",
        "            F.expr(\"col['1']\").alias(\"Definition\")).show(truncate=False)"
      ],
      "metadata": {
        "colab": {
          "base_uri": "https://localhost:8080/"
        },
        "id": "fH_PG8ntXePz",
        "outputId": "8dabf61b-5f1e-421e-f3a2-840696bdc7ab",
        "executionInfo": {
          "status": "ok",
          "timestamp": 1670179865135,
          "user_tz": -180,
          "elapsed": 1138,
          "user": {
            "displayName": "Gökhan TÜRER",
            "userId": "17886843627290606834"
          }
        }
      },
      "execution_count": null,
      "outputs": [
        {
          "output_type": "stream",
          "name": "stdout",
          "text": [
            "+------------+----------------------------+\n",
            "|Abbreviation|Definition                  |\n",
            "+------------+----------------------------+\n",
            "|CBC         |complete blood count        |\n",
            "|HIV         |human immunodeficiency virus|\n",
            "+------------+----------------------------+\n",
            "\n"
          ]
        }
      ]
    },
    {
      "cell_type": "markdown",
      "source": [
        "As you see, we can see corresponding \"definition\" mappings of each \"abbreviation\"."
      ],
      "metadata": {
        "id": "hB4S4r_eYNUc"
      }
    },
    {
      "cell_type": "markdown",
      "source": [
        "# 2- Creating a Mapper Model"
      ],
      "metadata": {
        "id": "tTo9cdLBfyG9"
      }
    },
    {
      "cell_type": "markdown",
      "source": [
        "There is a `ChunkMapperApproach()` to create your own mapper model. <br/>\n",
        "\n",
        "This receives an `ner_chunk` and a Json with a mapping of ner entities and relations, and returns the `ner_chunk` augmented with the relations from the Json ontology. <br/> We give the path of json file to the `setDictionary()` parameter.\n",
        "\n",
        "\n"
      ],
      "metadata": {
        "id": "SW9g1bjtgFQM"
      }
    },
    {
      "cell_type": "markdown",
      "source": [
        "Let's create an example Json, then create a drug mapper model. This model will match the given drug name (only \"metformin\" for our example) with correpsonding action and treatment.  \n",
        "\n",
        "The format of json file should be like following:\n"
      ],
      "metadata": {
        "id": "eFDHG9EVgayJ"
      }
    },
    {
      "cell_type": "code",
      "source": [
        "data_set= {\n",
        "  \"mappings\": [\n",
        "    {\n",
        "      \"key\": \"metformin\",\n",
        "      \"relations\": [\n",
        "        {\n",
        "          \"key\": \"action\",\n",
        "          \"values\" : [\"hypoglycemic\", \"Drugs Used In Diabetes\"]\n",
        "        },\n",
        "        {\n",
        "          \"key\": \"treatment\",\n",
        "          \"values\" : [\"diabetes\", \"t2dm\"]\n",
        "        }\n",
        "      ]\n",
        "    }\n",
        "  ]\n",
        "}\n",
        "\n",
        "import json\n",
        "with open('sample_drug.json', 'w', encoding='utf-8') as f:\n",
        "    json.dump(data_set, f, ensure_ascii=False, indent=4)"
      ],
      "metadata": {
        "id": "ekp8gF4wgjLs"
      },
      "execution_count": null,
      "outputs": []
    },
    {
      "cell_type": "markdown",
      "source": [
        "By using `setRel()` parameter, we tell the model which type of mapping we want. In our case, if we want from our model to return **action** mapping, we set the parameter as `setRels([\"action\"])`,  we set as `setRels([\"treatment\"])` for **treatment**\n",
        "\n",
        "Let's create a pipeline and see it in action. "
      ],
      "metadata": {
        "id": "JqjQ7rj_hxch"
      }
    },
    {
      "cell_type": "code",
      "source": [
        "document_assembler = DocumentAssembler()\\\n",
        "      .setInputCol('text')\\\n",
        "      .setOutputCol('document')\n",
        "\n",
        "sentence_detector = SentenceDetector()\\\n",
        "      .setInputCols([\"document\"])\\\n",
        "      .setOutputCol(\"sentence\")\n",
        "\n",
        "tokenizer = Tokenizer()\\\n",
        "      .setInputCols(\"sentence\")\\\n",
        "      .setOutputCol(\"token\")\n",
        "\n",
        "word_embeddings = WordEmbeddingsModel.pretrained(\"embeddings_clinical\", \"en\", \"clinical/models\")\\\n",
        "      .setInputCols([\"sentence\", \"token\"])\\\n",
        "      .setOutputCol(\"embeddings\")\n",
        "\n",
        "#NER model to detect drug in the text\n",
        "clinical_ner = MedicalNerModel.pretrained(\"ner_posology_small\",\"en\",\"clinical/models\")\\\n",
        "\t    .setInputCols([\"sentence\",\"token\",\"embeddings\"])\\\n",
        "\t    .setOutputCol(\"ner\")\\\n",
        "      .setLabelCasing(\"upper\")\n",
        " \n",
        "ner_converter = NerConverter()\\\n",
        "      .setInputCols([\"sentence\", \"token\", \"ner\"])\\\n",
        "      .setOutputCol(\"ner_chunk\")\\\n",
        "      .setWhiteList([\"DRUG\"])\n",
        "\n",
        "chunkerMapper = ChunkMapperApproach()\\\n",
        "      .setInputCols([\"ner_chunk\"])\\\n",
        "      .setOutputCol(\"mappings\")\\\n",
        "      .setDictionary(\"/content/sample_drug.json\")\\\n",
        "      .setRels([\"action\"]) #or treatment\n",
        "\n",
        "pipeline = Pipeline().setStages([document_assembler,\n",
        "                                 sentence_detector,\n",
        "                                 tokenizer, \n",
        "                                 word_embeddings,\n",
        "                                 clinical_ner, \n",
        "                                 ner_converter, \n",
        "                                 chunkerMapper])\n",
        "\n",
        "text = [\"The patient was given 1 unit of metformin daily.\"]\n",
        "\n",
        "test_data = spark.createDataFrame([text]).toDF(\"text\")\n",
        "\n",
        "model = pipeline.fit(test_data)\n",
        "res= model.transform(test_data)\n"
      ],
      "metadata": {
        "colab": {
          "base_uri": "https://localhost:8080/"
        },
        "id": "PbuDGXzKf2r7",
        "outputId": "b5801d4d-d36f-4020-d16c-b39375fb3446",
        "executionInfo": {
          "status": "ok",
          "timestamp": 1670179874206,
          "user_tz": -180,
          "elapsed": 9074,
          "user": {
            "displayName": "Gökhan TÜRER",
            "userId": "17886843627290606834"
          }
        }
      },
      "execution_count": null,
      "outputs": [
        {
          "output_type": "stream",
          "name": "stdout",
          "text": [
            "embeddings_clinical download started this may take some time.\n",
            "Approximate size to download 1.6 GB\n",
            "[OK!]\n",
            "ner_posology_small download started this may take some time.\n",
            "[OK!]\n"
          ]
        }
      ]
    },
    {
      "cell_type": "code",
      "source": [
        "res.printSchema()"
      ],
      "metadata": {
        "colab": {
          "base_uri": "https://localhost:8080/"
        },
        "id": "nDPk6Uhtrwbf",
        "outputId": "bb2ea9a4-8b40-4050-fdf9-771800abe183",
        "executionInfo": {
          "status": "ok",
          "timestamp": 1670179874207,
          "user_tz": -180,
          "elapsed": 27,
          "user": {
            "displayName": "Gökhan TÜRER",
            "userId": "17886843627290606834"
          }
        }
      },
      "execution_count": null,
      "outputs": [
        {
          "output_type": "stream",
          "name": "stdout",
          "text": [
            "root\n",
            " |-- text: string (nullable = true)\n",
            " |-- document: array (nullable = true)\n",
            " |    |-- element: struct (containsNull = true)\n",
            " |    |    |-- annotatorType: string (nullable = true)\n",
            " |    |    |-- begin: integer (nullable = false)\n",
            " |    |    |-- end: integer (nullable = false)\n",
            " |    |    |-- result: string (nullable = true)\n",
            " |    |    |-- metadata: map (nullable = true)\n",
            " |    |    |    |-- key: string\n",
            " |    |    |    |-- value: string (valueContainsNull = true)\n",
            " |    |    |-- embeddings: array (nullable = true)\n",
            " |    |    |    |-- element: float (containsNull = false)\n",
            " |-- sentence: array (nullable = true)\n",
            " |    |-- element: struct (containsNull = true)\n",
            " |    |    |-- annotatorType: string (nullable = true)\n",
            " |    |    |-- begin: integer (nullable = false)\n",
            " |    |    |-- end: integer (nullable = false)\n",
            " |    |    |-- result: string (nullable = true)\n",
            " |    |    |-- metadata: map (nullable = true)\n",
            " |    |    |    |-- key: string\n",
            " |    |    |    |-- value: string (valueContainsNull = true)\n",
            " |    |    |-- embeddings: array (nullable = true)\n",
            " |    |    |    |-- element: float (containsNull = false)\n",
            " |-- token: array (nullable = true)\n",
            " |    |-- element: struct (containsNull = true)\n",
            " |    |    |-- annotatorType: string (nullable = true)\n",
            " |    |    |-- begin: integer (nullable = false)\n",
            " |    |    |-- end: integer (nullable = false)\n",
            " |    |    |-- result: string (nullable = true)\n",
            " |    |    |-- metadata: map (nullable = true)\n",
            " |    |    |    |-- key: string\n",
            " |    |    |    |-- value: string (valueContainsNull = true)\n",
            " |    |    |-- embeddings: array (nullable = true)\n",
            " |    |    |    |-- element: float (containsNull = false)\n",
            " |-- embeddings: array (nullable = true)\n",
            " |    |-- element: struct (containsNull = true)\n",
            " |    |    |-- annotatorType: string (nullable = true)\n",
            " |    |    |-- begin: integer (nullable = false)\n",
            " |    |    |-- end: integer (nullable = false)\n",
            " |    |    |-- result: string (nullable = true)\n",
            " |    |    |-- metadata: map (nullable = true)\n",
            " |    |    |    |-- key: string\n",
            " |    |    |    |-- value: string (valueContainsNull = true)\n",
            " |    |    |-- embeddings: array (nullable = true)\n",
            " |    |    |    |-- element: float (containsNull = false)\n",
            " |-- ner: array (nullable = true)\n",
            " |    |-- element: struct (containsNull = true)\n",
            " |    |    |-- annotatorType: string (nullable = true)\n",
            " |    |    |-- begin: integer (nullable = false)\n",
            " |    |    |-- end: integer (nullable = false)\n",
            " |    |    |-- result: string (nullable = true)\n",
            " |    |    |-- metadata: map (nullable = true)\n",
            " |    |    |    |-- key: string\n",
            " |    |    |    |-- value: string (valueContainsNull = true)\n",
            " |    |    |-- embeddings: array (nullable = true)\n",
            " |    |    |    |-- element: float (containsNull = false)\n",
            " |-- ner_chunk: array (nullable = true)\n",
            " |    |-- element: struct (containsNull = true)\n",
            " |    |    |-- annotatorType: string (nullable = true)\n",
            " |    |    |-- begin: integer (nullable = false)\n",
            " |    |    |-- end: integer (nullable = false)\n",
            " |    |    |-- result: string (nullable = true)\n",
            " |    |    |-- metadata: map (nullable = true)\n",
            " |    |    |    |-- key: string\n",
            " |    |    |    |-- value: string (valueContainsNull = true)\n",
            " |    |    |-- embeddings: array (nullable = true)\n",
            " |    |    |    |-- element: float (containsNull = false)\n",
            " |-- mappings: array (nullable = true)\n",
            " |    |-- element: struct (containsNull = true)\n",
            " |    |    |-- annotatorType: string (nullable = true)\n",
            " |    |    |-- begin: integer (nullable = false)\n",
            " |    |    |-- end: integer (nullable = false)\n",
            " |    |    |-- result: string (nullable = true)\n",
            " |    |    |-- metadata: map (nullable = true)\n",
            " |    |    |    |-- key: string\n",
            " |    |    |    |-- value: string (valueContainsNull = true)\n",
            " |    |    |-- embeddings: array (nullable = true)\n",
            " |    |    |    |-- element: float (containsNull = false)\n",
            "\n"
          ]
        }
      ]
    },
    {
      "cell_type": "markdown",
      "source": [
        "Checking the ner result"
      ],
      "metadata": {
        "id": "nWe7PtYLrQT7"
      }
    },
    {
      "cell_type": "code",
      "source": [
        "res.select(F.explode('ner_chunk.result').alias(\"chunks\")).show(truncate=False)"
      ],
      "metadata": {
        "colab": {
          "base_uri": "https://localhost:8080/"
        },
        "id": "bG41lCKTf89Y",
        "outputId": "9282c542-d61d-449a-f375-cbf07f94bcd9",
        "executionInfo": {
          "status": "ok",
          "timestamp": 1670179875508,
          "user_tz": -180,
          "elapsed": 1323,
          "user": {
            "displayName": "Gökhan TÜRER",
            "userId": "17886843627290606834"
          }
        }
      },
      "execution_count": null,
      "outputs": [
        {
          "output_type": "stream",
          "name": "stdout",
          "text": [
            "+---------+\n",
            "|chunks   |\n",
            "+---------+\n",
            "|metformin|\n",
            "+---------+\n",
            "\n"
          ]
        }
      ]
    },
    {
      "cell_type": "markdown",
      "source": [
        "Checking the mapper result"
      ],
      "metadata": {
        "id": "4AsGy0OXshpV"
      }
    },
    {
      "cell_type": "code",
      "source": [
        "res.selectExpr(\"mappings.metadata\").show(truncate=False)"
      ],
      "metadata": {
        "colab": {
          "base_uri": "https://localhost:8080/"
        },
        "id": "oTRODkcHhzgw",
        "outputId": "6ee7c8ab-ef59-47b2-9679-cad32078cb43",
        "executionInfo": {
          "status": "ok",
          "timestamp": 1670179876094,
          "user_tz": -180,
          "elapsed": 588,
          "user": {
            "displayName": "Gökhan TÜRER",
            "userId": "17886843627290606834"
          }
        }
      },
      "execution_count": null,
      "outputs": [
        {
          "output_type": "stream",
          "name": "stdout",
          "text": [
            "+-------------------------------------------------------------------------------------------------------------------------------------+\n",
            "|metadata                                                                                                                             |\n",
            "+-------------------------------------------------------------------------------------------------------------------------------------+\n",
            "|[{chunk -> 0, relation -> action, confidence -> 0.9994, all_relations -> Drugs Used In Diabetes, entity -> metformin, sentence -> 0}]|\n",
            "+-------------------------------------------------------------------------------------------------------------------------------------+\n",
            "\n"
          ]
        }
      ]
    },
    {
      "cell_type": "code",
      "source": [
        "res.select(F.explode(F.arrays_zip(res.ner_chunk.result, \n",
        "                                  res.mappings.result, \n",
        "                                  res.mappings.metadata)).alias(\"col\"))\\\n",
        "    .select(F.expr(\"col['0']\").alias(\"ner_chunk\"),\n",
        "            F.expr(\"col['1']\").alias(\"mapping_result\"),\n",
        "            F.expr(\"col['2']['all_relations']\").alias(\"all_relations\")).show(truncate=False)"
      ],
      "metadata": {
        "colab": {
          "base_uri": "https://localhost:8080/"
        },
        "id": "DpWUhBkmDeve",
        "outputId": "fe3822a3-294a-48f0-bbad-ea5404132f23",
        "executionInfo": {
          "status": "ok",
          "timestamp": 1670179877143,
          "user_tz": -180,
          "elapsed": 1051,
          "user": {
            "displayName": "Gökhan TÜRER",
            "userId": "17886843627290606834"
          }
        }
      },
      "execution_count": null,
      "outputs": [
        {
          "output_type": "stream",
          "name": "stdout",
          "text": [
            "+---------+--------------+----------------------+\n",
            "|ner_chunk|mapping_result|all_relations         |\n",
            "+---------+--------------+----------------------+\n",
            "|metformin|hypoglycemic  |Drugs Used In Diabetes|\n",
            "+---------+--------------+----------------------+\n",
            "\n"
          ]
        }
      ]
    },
    {
      "cell_type": "markdown",
      "source": [
        "As you see, the model that we created with `ChunkMapperApproach()` succesfully mapped \"metformin\". Under the metadata, we can see all relations that we defined in the Json. "
      ],
      "metadata": {
        "id": "6hdWLMiss7uT"
      }
    },
    {
      "cell_type": "markdown",
      "source": [
        "### 2.1- Save the model to disk "
      ],
      "metadata": {
        "id": "UJPH_FaOtqpP"
      }
    },
    {
      "cell_type": "markdown",
      "source": [
        "Now, we will save our model and use it with `ChunkMapperModel()`"
      ],
      "metadata": {
        "id": "S5SHrUZcu2iR"
      }
    },
    {
      "cell_type": "code",
      "source": [
        "model.stages[-1].write().save(\"models/drug_mapper\")"
      ],
      "metadata": {
        "id": "EaNF5kWUs46N"
      },
      "execution_count": null,
      "outputs": []
    },
    {
      "cell_type": "markdown",
      "source": [
        "Using the saved model. This time we will check 'treatment' mappings results\n"
      ],
      "metadata": {
        "id": "VEBFO85yuw07"
      }
    },
    {
      "cell_type": "code",
      "source": [
        "document_assembler = DocumentAssembler()\\\n",
        "      .setInputCol('text')\\\n",
        "      .setOutputCol('document')\n",
        "\n",
        "sentence_detector = SentenceDetector()\\\n",
        "      .setInputCols([\"document\"])\\\n",
        "      .setOutputCol(\"sentence\")\n",
        "\n",
        "tokenizer = Tokenizer()\\\n",
        "      .setInputCols(\"sentence\")\\\n",
        "      .setOutputCol(\"token\")\n",
        "\n",
        "word_embeddings = WordEmbeddingsModel.pretrained(\"embeddings_clinical\", \"en\", \"clinical/models\")\\\n",
        "      .setInputCols([\"sentence\", \"token\"])\\\n",
        "      .setOutputCol(\"embeddings\")\n",
        "\n",
        "#NER model to detect drug in the text\n",
        "clinical_ner = MedicalNerModel.pretrained(\"ner_posology_small\",\"en\",\"clinical/models\")\\\n",
        "\t    .setInputCols([\"sentence\",\"token\",\"embeddings\"])\\\n",
        "\t    .setOutputCol(\"ner\")\\\n",
        "      .setLabelCasing(\"upper\")\n",
        " \n",
        "ner_converter = NerConverter()\\\n",
        "      .setInputCols([\"sentence\", \"token\", \"ner\"])\\\n",
        "      .setOutputCol(\"ner_chunk\")\\\n",
        "      .setWhiteList([\"DRUG\"])\n",
        "\n",
        "chunkerMapper = ChunkMapperModel.load(\"/content/models/drug_mapper\")\\\n",
        "      .setInputCols([\"ner_chunk\"])\\\n",
        "      .setOutputCol(\"mappings\")\\\n",
        "      .setRels([\"treatment\"]) \n",
        "\n",
        "pipeline = Pipeline().setStages([document_assembler,\n",
        "                                 sentence_detector,\n",
        "                                 tokenizer, \n",
        "                                 word_embeddings,\n",
        "                                 clinical_ner, \n",
        "                                 ner_converter, \n",
        "                                 chunkerMapper])\n",
        "\n",
        "text = [\"The patient was given 1 unit of metformin daily.\"]\n",
        "\n",
        "test_data = spark.createDataFrame([text]).toDF(\"text\")\n",
        "\n",
        "model = pipeline.fit(test_data)\n",
        "res= model.transform(test_data)"
      ],
      "metadata": {
        "colab": {
          "base_uri": "https://localhost:8080/"
        },
        "id": "9xdx4s-MuutS",
        "outputId": "4a23956d-e9cc-4875-e033-ed8e74fc8f10",
        "executionInfo": {
          "status": "ok",
          "timestamp": 1670179883765,
          "user_tz": -180,
          "elapsed": 5968,
          "user": {
            "displayName": "Gökhan TÜRER",
            "userId": "17886843627290606834"
          }
        }
      },
      "execution_count": null,
      "outputs": [
        {
          "output_type": "stream",
          "name": "stdout",
          "text": [
            "embeddings_clinical download started this may take some time.\n",
            "Approximate size to download 1.6 GB\n",
            "[OK!]\n",
            "ner_posology_small download started this may take some time.\n",
            "[OK!]\n"
          ]
        }
      ]
    },
    {
      "cell_type": "code",
      "source": [
        "res.selectExpr(\"mappings.metadata\").show(truncate=False)"
      ],
      "metadata": {
        "colab": {
          "base_uri": "https://localhost:8080/"
        },
        "id": "Pl3Wbxe1uugR",
        "outputId": "e4da226c-b717-4cce-c1e9-bddfa7f28b0e",
        "executionInfo": {
          "status": "ok",
          "timestamp": 1670179884172,
          "user_tz": -180,
          "elapsed": 425,
          "user": {
            "displayName": "Gökhan TÜRER",
            "userId": "17886843627290606834"
          }
        }
      },
      "execution_count": null,
      "outputs": [
        {
          "output_type": "stream",
          "name": "stdout",
          "text": [
            "+----------------------------------------------------------------------------------------------------------------------+\n",
            "|metadata                                                                                                              |\n",
            "+----------------------------------------------------------------------------------------------------------------------+\n",
            "|[{chunk -> 0, relation -> treatment, confidence -> 0.9994, all_relations -> t2dm, entity -> metformin, sentence -> 0}]|\n",
            "+----------------------------------------------------------------------------------------------------------------------+\n",
            "\n"
          ]
        }
      ]
    },
    {
      "cell_type": "code",
      "source": [
        "res.select(F.explode(F.arrays_zip(res.ner_chunk.result, \n",
        "                                  res.mappings.result, \n",
        "                                  res.mappings.metadata)).alias(\"col\"))\\\n",
        "    .select(F.expr(\"col['0']\").alias(\"ner_chunk\"),\n",
        "            F.expr(\"col['1']\").alias(\"mapping_result\"),\n",
        "            F.expr(\"col['2']['all_relations']\").alias(\"all_relations\")).show(truncate=False)"
      ],
      "metadata": {
        "colab": {
          "base_uri": "https://localhost:8080/"
        },
        "id": "1-DCeMsjDnw0",
        "outputId": "5348c25c-05e2-4a1c-a789-7ae74b4ef43b",
        "executionInfo": {
          "status": "ok",
          "timestamp": 1670179884886,
          "user_tz": -180,
          "elapsed": 718,
          "user": {
            "displayName": "Gökhan TÜRER",
            "userId": "17886843627290606834"
          }
        }
      },
      "execution_count": null,
      "outputs": [
        {
          "output_type": "stream",
          "name": "stdout",
          "text": [
            "+---------+--------------+-------------+\n",
            "|ner_chunk|mapping_result|all_relations|\n",
            "+---------+--------------+-------------+\n",
            "|metformin|diabetes      |t2dm         |\n",
            "+---------+--------------+-------------+\n",
            "\n"
          ]
        }
      ]
    },
    {
      "cell_type": "markdown",
      "source": [
        "As you see above, we created our own drug mapper model successfully. "
      ],
      "metadata": {
        "id": "cJW7n4Resju8"
      }
    },
    {
      "cell_type": "markdown",
      "source": [
        "### 2.2- Create a Model with Upper Cased or Lower Cased"
      ],
      "metadata": {
        "id": "s3SlO9WCfu79"
      }
    },
    {
      "cell_type": "markdown",
      "source": [
        "We can set the case status of `ChunkMapperApproach` while creating a model by using `setLowerCase()` parameter.\n",
        "\n",
        "Let's create a new mapping dictionary and see how it works. "
      ],
      "metadata": {
        "id": "zqbPFVfAf7Je"
      }
    },
    {
      "cell_type": "code",
      "source": [
        "data_set= {\n",
        "    \"mappings\": [\n",
        "        {\n",
        "            \"key\": \"Warfarina lusa\",\n",
        "            \"relations\": [\n",
        "                {\n",
        "                    \"key\": \"action\",\n",
        "                    \"values\": [\n",
        "                        \"Analgesic\",\n",
        "                        \"Antipyretic\"\n",
        "                    ]\n",
        "                },\n",
        "                {\n",
        "                    \"key\": \"treatment\",\n",
        "                    \"values\": [\n",
        "                        \"diabetes\",\n",
        "                        \"t2dm\"\n",
        "                    ]\n",
        "                }\n",
        "            ]\n",
        "        }\n",
        "    ]\n",
        "}\n",
        "\n",
        "import json\n",
        "with open('mappings.json', 'w', encoding='utf-8') as f:\n",
        "    json.dump(data_set, f, ensure_ascii=False, indent=4)"
      ],
      "metadata": {
        "id": "XaN7B3YJiTut"
      },
      "execution_count": null,
      "outputs": []
    },
    {
      "cell_type": "code",
      "source": [
        "sentences = [\n",
        "        [\"\"\"The patient was given Warfarina Lusa and amlodipine 10 MG.The patient was given Aspagin, coumadin 5 mg, coumadin, and he has metamorfin\"\"\"]\n",
        "    ]\n",
        "\n",
        "\n",
        "test_data = spark.createDataFrame(sentences).toDF(\"text\")"
      ],
      "metadata": {
        "id": "DBxQ1kJfmEA_"
      },
      "execution_count": null,
      "outputs": []
    },
    {
      "cell_type": "markdown",
      "source": [
        "**`setLowerCase(True)`**"
      ],
      "metadata": {
        "id": "fUlSk0y9mnyC"
      }
    },
    {
      "cell_type": "code",
      "source": [
        "chunkerMapper = ChunkMapperApproach() \\\n",
        "        .setInputCols([\"ner_chunk\"]) \\\n",
        "        .setOutputCol(\"mappings\") \\\n",
        "        .setDictionary(\"mappings.json\") \\\n",
        "        .setRels([\"action\"]) \\\n",
        "        .setLowerCase(True) \\\n",
        "\n",
        "pipeline = Pipeline().setStages([document_assembler,\n",
        "                                 sentence_detector,\n",
        "                                 tokenizer, \n",
        "                                 word_embeddings,\n",
        "                                 clinical_ner, \n",
        "                                 ner_converter, \n",
        "                                 chunkerMapper])\n",
        "\n",
        "\n",
        "result_df = pipeline.fit(test_data).transform(test_data)\n",
        "result_df.selectExpr(\"explode(mappings)\").show(truncate=False)"
      ],
      "metadata": {
        "colab": {
          "base_uri": "https://localhost:8080/"
        },
        "id": "dwTkmZUcfnDB",
        "outputId": "38a38788-4ca4-4956-bc1f-6f7972da5760",
        "executionInfo": {
          "status": "ok",
          "timestamp": 1670179887059,
          "user_tz": -180,
          "elapsed": 2176,
          "user": {
            "displayName": "Gökhan TÜRER",
            "userId": "17886843627290606834"
          }
        }
      },
      "execution_count": null,
      "outputs": [
        {
          "output_type": "stream",
          "name": "stdout",
          "text": [
            "+---------------------------------------------------------------------------------------------------------------------------------------------------------------------------+\n",
            "|col                                                                                                                                                                        |\n",
            "+---------------------------------------------------------------------------------------------------------------------------------------------------------------------------+\n",
            "|{labeled_dependency, 22, 35, Analgesic, {chunk -> 0, relation -> action, confidence -> 0.66565, all_relations -> Antipyretic, entity -> Warfarina Lusa, sentence -> 0}, []}|\n",
            "|{labeled_dependency, 41, 50, NONE, {entity -> amlodipine, sentence -> 0, chunk -> 1, confidence -> 0.9999}, []}                                                            |\n",
            "|{labeled_dependency, 80, 86, NONE, {entity -> Aspagin, sentence -> 0, chunk -> 2, confidence -> 0.9905}, []}                                                               |\n",
            "|{labeled_dependency, 89, 96, NONE, {entity -> coumadin, sentence -> 0, chunk -> 3, confidence -> 0.9997}, []}                                                              |\n",
            "|{labeled_dependency, 104, 111, NONE, {entity -> coumadin, sentence -> 0, chunk -> 4, confidence -> 0.9994}, []}                                                            |\n",
            "|{labeled_dependency, 125, 134, NONE, {entity -> metamorfin, sentence -> 0, chunk -> 5, confidence -> 0.9989}, []}                                                          |\n",
            "+---------------------------------------------------------------------------------------------------------------------------------------------------------------------------+\n",
            "\n"
          ]
        }
      ]
    },
    {
      "cell_type": "markdown",
      "source": [
        "\"Warfarina lusa\" is in lower case in the source json file, and in upper case(Warfarina Lusa) in our example training sentence. We trained that model in lower case, the model mapped the entity even though our training sentence is uppercased. <br/>\n",
        "\n",
        "Let's check with `setLowerCase(False)` and see the difference. "
      ],
      "metadata": {
        "id": "QhByE9vSm_to"
      }
    },
    {
      "cell_type": "code",
      "source": [
        "chunkerMapper = ChunkMapperApproach() \\\n",
        "        .setInputCols([\"ner_chunk\"]) \\\n",
        "        .setOutputCol(\"mappings\") \\\n",
        "        .setDictionary(\"mappings.json\") \\\n",
        "        .setRels([\"action\"]) \\\n",
        "        .setLowerCase(False) \\\n",
        "\n",
        "pipeline = Pipeline().setStages([document_assembler,\n",
        "                                 sentence_detector,\n",
        "                                 tokenizer, \n",
        "                                 word_embeddings,\n",
        "                                 clinical_ner, \n",
        "                                 ner_converter, \n",
        "                                 chunkerMapper])\n",
        "\n",
        "\n",
        "result_df = pipeline.fit(test_data).transform(test_data)\n",
        "result_df.selectExpr(\"explode(mappings)\").show(truncate=False)"
      ],
      "metadata": {
        "colab": {
          "base_uri": "https://localhost:8080/"
        },
        "id": "Pv3UQrGZfm-I",
        "outputId": "bcc80bae-7ec8-4f83-c65b-445af05c070d",
        "executionInfo": {
          "status": "ok",
          "timestamp": 1670179888418,
          "user_tz": -180,
          "elapsed": 1366,
          "user": {
            "displayName": "Gökhan TÜRER",
            "userId": "17886843627290606834"
          }
        }
      },
      "execution_count": null,
      "outputs": [
        {
          "output_type": "stream",
          "name": "stdout",
          "text": [
            "+--------------------------------------------------------------------------------------------------------------------+\n",
            "|col                                                                                                                 |\n",
            "+--------------------------------------------------------------------------------------------------------------------+\n",
            "|{labeled_dependency, 22, 35, NONE, {entity -> Warfarina Lusa, sentence -> 0, chunk -> 0, confidence -> 0.66565}, []}|\n",
            "|{labeled_dependency, 41, 50, NONE, {entity -> amlodipine, sentence -> 0, chunk -> 1, confidence -> 0.9999}, []}     |\n",
            "|{labeled_dependency, 80, 86, NONE, {entity -> Aspagin, sentence -> 0, chunk -> 2, confidence -> 0.9905}, []}        |\n",
            "|{labeled_dependency, 89, 96, NONE, {entity -> coumadin, sentence -> 0, chunk -> 3, confidence -> 0.9997}, []}       |\n",
            "|{labeled_dependency, 104, 111, NONE, {entity -> coumadin, sentence -> 0, chunk -> 4, confidence -> 0.9994}, []}     |\n",
            "|{labeled_dependency, 125, 134, NONE, {entity -> metamorfin, sentence -> 0, chunk -> 5, confidence -> 0.9989}, []}   |\n",
            "+--------------------------------------------------------------------------------------------------------------------+\n",
            "\n"
          ]
        }
      ]
    },
    {
      "cell_type": "markdown",
      "source": [
        "As you see, our model couldn't map the given uppercased \"Warfarine Lura\"."
      ],
      "metadata": {
        "id": "ooQvQ2YJp1ae"
      }
    },
    {
      "cell_type": "markdown",
      "source": [
        "### 2.3- Selecting Multiple Relations "
      ],
      "metadata": {
        "id": "5iORj5g_rAV7"
      }
    },
    {
      "cell_type": "markdown",
      "source": [
        "We can select multiple relations for the same chunk with the `setRels()` parameter."
      ],
      "metadata": {
        "id": "xp4fqhZPrWG-"
      }
    },
    {
      "cell_type": "code",
      "source": [
        "chunkerMapper = ChunkMapperApproach() \\\n",
        "        .setInputCols([\"ner_chunk\"]) \\\n",
        "        .setOutputCol(\"mappings\") \\\n",
        "        .setDictionary(\"mappings.json\") \\\n",
        "        .setLowerCase(True) \\\n",
        "        .setRels([\"action\", \"treatment\"])\n",
        "\n",
        "pipeline = Pipeline().setStages([document_assembler,\n",
        "                                 sentence_detector,\n",
        "                                 tokenizer, \n",
        "                                 word_embeddings,\n",
        "                                 clinical_ner, \n",
        "                                 ner_converter, \n",
        "                                 chunkerMapper])\n",
        "\n",
        "\n",
        "result_df = pipeline.fit(test_data).transform(test_data)\n",
        "result_df.selectExpr(\"explode(mappings)\").show(truncate=False)"
      ],
      "metadata": {
        "colab": {
          "base_uri": "https://localhost:8080/"
        },
        "id": "38I9ft6BfmxY",
        "outputId": "a26094d2-04a1-46d4-ae61-ae7ad35dc4d6",
        "executionInfo": {
          "status": "ok",
          "timestamp": 1670179890152,
          "user_tz": -180,
          "elapsed": 1735,
          "user": {
            "displayName": "Gökhan TÜRER",
            "userId": "17886843627290606834"
          }
        }
      },
      "execution_count": null,
      "outputs": [
        {
          "output_type": "stream",
          "name": "stdout",
          "text": [
            "+---------------------------------------------------------------------------------------------------------------------------------------------------------------------------+\n",
            "|col                                                                                                                                                                        |\n",
            "+---------------------------------------------------------------------------------------------------------------------------------------------------------------------------+\n",
            "|{labeled_dependency, 22, 35, Analgesic, {chunk -> 0, relation -> action, confidence -> 0.66565, all_relations -> Antipyretic, entity -> Warfarina Lusa, sentence -> 0}, []}|\n",
            "|{labeled_dependency, 22, 35, diabetes, {chunk -> 0, relation -> treatment, confidence -> 0.66565, all_relations -> t2dm, entity -> Warfarina Lusa, sentence -> 0}, []}     |\n",
            "|{labeled_dependency, 41, 50, NONE, {entity -> amlodipine, sentence -> 0, chunk -> 1, confidence -> 0.9999}, []}                                                            |\n",
            "|{labeled_dependency, 80, 86, NONE, {entity -> Aspagin, sentence -> 0, chunk -> 2, confidence -> 0.9905}, []}                                                               |\n",
            "|{labeled_dependency, 89, 96, NONE, {entity -> coumadin, sentence -> 0, chunk -> 3, confidence -> 0.9997}, []}                                                              |\n",
            "|{labeled_dependency, 104, 111, NONE, {entity -> coumadin, sentence -> 0, chunk -> 4, confidence -> 0.9994}, []}                                                            |\n",
            "|{labeled_dependency, 125, 134, NONE, {entity -> metamorfin, sentence -> 0, chunk -> 5, confidence -> 0.9989}, []}                                                          |\n",
            "+---------------------------------------------------------------------------------------------------------------------------------------------------------------------------+\n",
            "\n"
          ]
        }
      ]
    },
    {
      "cell_type": "markdown",
      "source": [
        "As you see, we are able to see all the relations(action, treatment) at the same time. "
      ],
      "metadata": {
        "id": "LU7XurIxrz4T"
      }
    },
    {
      "cell_type": "markdown",
      "source": [
        "### 2.4- Filtering Multi-token Chunks"
      ],
      "metadata": {
        "id": "fYgl8fvAsELm"
      }
    },
    {
      "cell_type": "markdown",
      "source": [
        "If the chunk includes multi-tokens splitted by a whitespace, we can filter that chunk by using `setAllowMultiTokenChunk()` parameter."
      ],
      "metadata": {
        "id": "p1-8izXXsnDe"
      }
    },
    {
      "cell_type": "code",
      "source": [
        "chunkerMapper = ChunkMapperApproach() \\\n",
        "        .setInputCols([\"ner_chunk\"]) \\\n",
        "        .setOutputCol(\"mappings\") \\\n",
        "        .setDictionary(\"mappings.json\") \\\n",
        "        .setLowerCase(True) \\\n",
        "        .setRels([\"action\", \"treatment\"]) \\\n",
        "        .setAllowMultiTokenChunk(False)\n",
        "\n",
        "pipeline = Pipeline().setStages([document_assembler,\n",
        "                                 sentence_detector,\n",
        "                                 tokenizer, \n",
        "                                 word_embeddings,\n",
        "                                 clinical_ner, \n",
        "                                 ner_converter, \n",
        "                                 chunkerMapper])\n",
        "\n",
        "\n",
        "result_df = pipeline.fit(test_data).transform(test_data)\n",
        "result_df.selectExpr(\"explode(mappings)\").show(truncate=False)"
      ],
      "metadata": {
        "id": "_yzlVT23sKvA",
        "colab": {
          "base_uri": "https://localhost:8080/"
        },
        "outputId": "893c6987-ba7a-4adc-f309-cbf992cb7b29",
        "executionInfo": {
          "status": "ok",
          "timestamp": 1670179891275,
          "user_tz": -180,
          "elapsed": 1125,
          "user": {
            "displayName": "Gökhan TÜRER",
            "userId": "17886843627290606834"
          }
        }
      },
      "execution_count": null,
      "outputs": [
        {
          "output_type": "stream",
          "name": "stdout",
          "text": [
            "+--------------------------------------------------------------------------------------------------------------------+\n",
            "|col                                                                                                                 |\n",
            "+--------------------------------------------------------------------------------------------------------------------+\n",
            "|{labeled_dependency, 22, 35, NONE, {entity -> Warfarina Lusa, sentence -> 0, chunk -> 0, confidence -> 0.66565}, []}|\n",
            "|{labeled_dependency, 41, 50, NONE, {entity -> amlodipine, sentence -> 0, chunk -> 1, confidence -> 0.9999}, []}     |\n",
            "|{labeled_dependency, 80, 86, NONE, {entity -> Aspagin, sentence -> 0, chunk -> 2, confidence -> 0.9905}, []}        |\n",
            "|{labeled_dependency, 89, 96, NONE, {entity -> coumadin, sentence -> 0, chunk -> 3, confidence -> 0.9997}, []}       |\n",
            "|{labeled_dependency, 104, 111, NONE, {entity -> coumadin, sentence -> 0, chunk -> 4, confidence -> 0.9994}, []}     |\n",
            "|{labeled_dependency, 125, 134, NONE, {entity -> metamorfin, sentence -> 0, chunk -> 5, confidence -> 0.9989}, []}   |\n",
            "+--------------------------------------------------------------------------------------------------------------------+\n",
            "\n"
          ]
        }
      ]
    },
    {
      "cell_type": "markdown",
      "source": [
        "The chunk \"Warfarina Lusa\" is a multi-token. Therefore, our mapper model skip that entity. <br/>\n",
        "So, let's set `.setAllowMultiTokenChunk(True)` and see the difference. "
      ],
      "metadata": {
        "id": "QkYb6byStDTA"
      }
    },
    {
      "cell_type": "code",
      "source": [
        "chunkerMapper = ChunkMapperApproach() \\\n",
        "        .setInputCols([\"ner_chunk\"]) \\\n",
        "        .setOutputCol(\"mappings\") \\\n",
        "        .setDictionary(\"mappings.json\") \\\n",
        "        .setLowerCase(True) \\\n",
        "        .setRels([\"action\", \"treatment\"]) \\\n",
        "        .setAllowMultiTokenChunk(True)\n",
        "\n",
        "pipeline = Pipeline().setStages([document_assembler,\n",
        "                                 sentence_detector,\n",
        "                                 tokenizer, \n",
        "                                 word_embeddings,\n",
        "                                 clinical_ner, \n",
        "                                 ner_converter, \n",
        "                                 chunkerMapper])\n",
        "\n",
        "\n",
        "result_df = pipeline.fit(test_data).transform(test_data)\n",
        "result_df.selectExpr(\"explode(mappings)\").show(truncate=False)"
      ],
      "metadata": {
        "colab": {
          "base_uri": "https://localhost:8080/"
        },
        "id": "9pTV_9BLtifw",
        "outputId": "f2a36cca-692a-4d70-be8a-46a6d855a7f5",
        "executionInfo": {
          "status": "ok",
          "timestamp": 1670179892620,
          "user_tz": -180,
          "elapsed": 1347,
          "user": {
            "displayName": "Gökhan TÜRER",
            "userId": "17886843627290606834"
          }
        }
      },
      "execution_count": null,
      "outputs": [
        {
          "output_type": "stream",
          "name": "stdout",
          "text": [
            "+---------------------------------------------------------------------------------------------------------------------------------------------------------------------------+\n",
            "|col                                                                                                                                                                        |\n",
            "+---------------------------------------------------------------------------------------------------------------------------------------------------------------------------+\n",
            "|{labeled_dependency, 22, 35, Analgesic, {chunk -> 0, relation -> action, confidence -> 0.66565, all_relations -> Antipyretic, entity -> Warfarina Lusa, sentence -> 0}, []}|\n",
            "|{labeled_dependency, 22, 35, diabetes, {chunk -> 0, relation -> treatment, confidence -> 0.66565, all_relations -> t2dm, entity -> Warfarina Lusa, sentence -> 0}, []}     |\n",
            "|{labeled_dependency, 41, 50, NONE, {entity -> amlodipine, sentence -> 0, chunk -> 1, confidence -> 0.9999}, []}                                                            |\n",
            "|{labeled_dependency, 80, 86, NONE, {entity -> Aspagin, sentence -> 0, chunk -> 2, confidence -> 0.9905}, []}                                                               |\n",
            "|{labeled_dependency, 89, 96, NONE, {entity -> coumadin, sentence -> 0, chunk -> 3, confidence -> 0.9997}, []}                                                              |\n",
            "|{labeled_dependency, 104, 111, NONE, {entity -> coumadin, sentence -> 0, chunk -> 4, confidence -> 0.9994}, []}                                                            |\n",
            "|{labeled_dependency, 125, 134, NONE, {entity -> metamorfin, sentence -> 0, chunk -> 5, confidence -> 0.9989}, []}                                                          |\n",
            "+---------------------------------------------------------------------------------------------------------------------------------------------------------------------------+\n",
            "\n"
          ]
        }
      ]
    },

    {
     "cell_type": "markdown",
     "metadata": {
      "id": "fYgl8fvAsELm"
     },
     "source": [
      "### 2.5- Lexical Fuzzy Matching Options in the ChunkMapper annotator\n",
      "There are multiple options to achieve fuzzy matching using the ChunkMapper annotation:\n",
      "- Partial Token NGram Fingerprinting: Specially useful to combine two frequent usecases; when there are noisy non informative tokens at the beginning / end of the chunk and the order of the chunk is not absolutely relevant. i.e. stomach acute pain --> acute pain stomach ; metformin 100 mg --> metformin.\n",
      "- Char NGram Fingerprinting: Specially useful in usecases that involve typos or different spacing patterns for chunks. i.e. head ache / ache head --> headache ; metformini / metformoni / metformni --> metformin\n",
      "- Fuzzy Distance (Slow): Specially useful when the mapping can be defined in terms of edit distance thresholds using functions like char based like Levenshtein, Hamming, LongestCommonSubsequence or token based like Cosine, Jaccard.\n",
      "\n",
      "The mapping logic will be run in the previous order also ordering by longest key inside each option as an intuitive way to minimize false positives.\n",
      "\n",
      "For more information please visit the followng links:  \n",
      "https://en.wikipedia.org/wiki/Fingerprint_(computing)  \n",
      "https://openrefine.org/docs/technical-reference/clustering-in-depth  \n",
      "https://commons.apache.org/proper/commons-text/apidocs/org/apache/commons/text/similarity/package-summary.html"
     ]
    },
    {
     "cell_type": "code",
     "execution_count": null,
     "metadata": {},
     "outputs": [],
     "source": [
      "data_set_mappings = [\n",
      "        {\n",
      "            \"key\": \"Warfarina lusa\",\n",
      "            \"relations\": [\n",
      "                {\n",
      "                    \"key\": \"action\",\n",
      "                    \"values\": [\n",
      "                        \"Analgesic\",\n",
      "                        \"Antipyretic\"\n",
      "                    ]\n",
      "                },\n",
      "                {\n",
      "                    \"key\": \"treatment\",\n",
      "                    \"values\": [\n",
      "                        \"diabetes\",\n",
      "                        \"t2dm\"\n",
      "                    ]\n",
      "                }\n",
      "            ]\n",
      "        },\n",
      "        {\n",
      "            \"key\": \"amlodipine\",\n",
      "            \"relations\": [\n",
      "                {\n",
      "                    \"key\": \"action\",\n",
      "                    \"values\": [\n",
      "                        \"Calcium Ions Inhibitor\"\n",
      "                    ]\n",
      "                },\n",
      "                {\n",
      "                    \"key\": \"treatment\",\n",
      "                    \"values\": [\n",
      "                        \"hypertension\"\n",
      "                    ]\n",
      "                }\n",
      "            ]\n",
      "        },\n",
      "        {\n",
      "            \"key\": \"coumadin\",\n",
      "            \"relations\": [\n",
      "                {\n",
      "                    \"key\": \"action\",\n",
      "                    \"values\": [\n",
      "                        \"Coagulation Inhibitor\"\n",
      "                    ]\n",
      "                },\n",
      "                {\n",
      "                    \"key\": \"treatment\",\n",
      "                    \"values\": [\n",
      "                        \"hypertension\"\n",
      "                    ]\n",
      "                }\n",
      "            ]\n",
      "        },\n",
      "        {\n",
      "            \"key\": \"aspagin\",\n",
      "            \"relations\": [\n",
      "                {\n",
      "                    \"key\": \"action\",\n",
      "                    \"values\": [\n",
      "                        \"Cycooxygenase Inhibitor\"\n",
      "                    ]\n",
      "                },\n",
      "                {\n",
      "                    \"key\": \"treatment\",\n",
      "                    \"values\": [\n",
      "                        \"arthritis\"\n",
      "                    ]\n",
      "                }\n",
      "            ]\n",
      "        },\n",
      "        {\n",
      "            \"key\": \"metformin\",\n",
      "            \"relations\": [\n",
      "                {\n",
      "                  \"key\": \"action\",\n",
      "                  \"values\" : [\"hypoglycemic\", \"Drugs Used In Diabetes\"]\n",
      "                },\n",
      "                {\n",
      "                  \"key\": \"treatment\",\n",
      "                  \"values\" : [\"diabetes\", \"t2dm\"]\n",
      "                }\n",
      "            ]\n",
      "        }\n",
      "    ]"
     ]
    },
    {
     "cell_type": "markdown",
     "metadata": {},
     "source": [
      "#### Different mapping sizes to test ChunkMappers sensitivity in terms of speed and efficiency"
     ]
    },
    {
     "cell_type": "code",
     "execution_count": null,
     "metadata": {},
     "outputs": [],
     "source": [
      "# Keys to test speed and efficiency\n",
      "extra_keys = {\n",
      "    \"s500\": [{\"key\": f\"short key {i}\", \"relations\": [\n",
      "                {\n",
      "                    \"key\": \"any\",\n",
      "                    \"values\": [\n",
      "                        \"anyvalue\",\n",
      "                        \"anyvalue\"\n",
      "                    ]\n",
      "                }]} for i in range(500)],\n",
      "    \"s5000\": [{\"key\": f\"short key {i}\", \"relations\": [\n",
      "                {\n",
      "                    \"key\": \"any\",\n",
      "                    \"values\": [\n",
      "                        \"anyvalue\",\n",
      "                        \"anyvalue\"\n",
      "                    ]\n",
      "                }]} for i in range(5000)],\n",
      "    \"l5000\": [{\"key\": f\"a bit longer key {i}\", \"relations\": [\n",
      "                {\n",
      "                    \"key\": \"any\",\n",
      "                    \"values\": [\n",
      "                        \"anyvalue\",\n",
      "                        \"anyvalue\"\n",
      "                    ]\n",
      "                }]} for i in range(5000)]\n",
      "}"
     ]
    },
    {
     "cell_type": "code",
     "execution_count": null,
     "metadata": {},
     "outputs": [],
     "source": [
      "import json\n",
      "for c, extra_mappings in extra_keys.items():\n",
      "    with open(f'mappings_{c}.json', 'w', encoding='utf-8') as f:\n",
      "        json.dump({'mappings': data_set_mappings + extra_mappings}, f, ensure_ascii=False, indent=4)"
     ]
    },
    {
     "cell_type": "code",
     "execution_count": null,
     "metadata": {},
     "outputs": [],
     "source": [
      "sentences = [\n",
      "        [\"\"\"The patient was given Lusa Warfarina 5mg and amlodipine 10 MG.The patient was given Aspaginaspa, coumadin 5 mg, coumadin, and he has metamorfin\"\"\"]\n",
      "    ]\n",
      "\n",
      "test_data = spark.createDataFrame(sentences).toDF(\"text\")"
     ]
    },
    {
     "cell_type": "markdown",
     "metadata": {},
     "source": [
      "#### Greedy Posology for longer and more illustrative chunks"
     ]
    },
    {
     "cell_type": "code",
     "execution_count": null,
     "metadata": {},
     "outputs": [],
     "source": [
      "#NER model to detect drug in the text\n",
      "clinical_ner = MedicalNerModel.pretrained(\"ner_posology_greedy\",\"en\",\"clinical/models\")\\\n",
      "        .setInputCols([\"sentence\",\"token\",\"embeddings\"])\\\n",
      "        .setOutputCol(\"ner\")\\\n",
      "        .setLabelCasing(\"upper\")\n",
      "\n",
      "\n",
      "pipeline = Pipeline().setStages([document_assembler,\n",
      "                                 sentence_detector,\n",
      "                                 tokenizer, \n",
      "                                 word_embeddings,\n",
      "                                 clinical_ner, \n",
      "                                 ner_converter])\n",
      "cached_df = pipeline.fit(test_data).transform(test_data).cache()\n",
      "cached_df.selectExpr(\"explode(ner_chunk) as chunk\").show(truncate=False)"
     ]
    },
    {
     "cell_type": "markdown",
     "metadata": {},
     "source": [
      "#### Example with just token fingerprinting"
     ]
    },
    {
     "cell_type": "code",
     "execution_count": null,
     "metadata": {},
     "outputs": [],
     "source": [
      "cm = ChunkMapperApproach() \\\n",
      "        .setInputCols([\"ner_chunk\"]) \\\n",
      "        .setLowerCase(True) \\\n",
      "        .setRels([\"action\", \"treatment\"]) \\\n",
      "        .setAllowMultiTokenChunk(True) \\\n",
      "        .setEnableTokenFingerprintMatching(True) \\\n",
      "        .setMinTokenNgramFingerprint(1) \\\n",
      "        .setMaxTokenNgramFingerprint(3) \\\n",
      "        .setMaxTokenNgramDroppingCharsRatio(0.5)\n",
      "\n",
      "chunkerMappers = [\n",
      "    cm.copy().setOutputCol(f\"mappings_{c}\").setDictionary(f\"mappings_{c}.json\") \\\n",
      "    for c in extra_keys]\n",
      "\n",
      "result_df = Pipeline(stages=chunkerMappers).fit(cached_df).transform(cached_df)\n",
      "result_df.selectExpr(\"explode(mappings_s500)\").show(truncate=False)"
     ]
    },
    {
     "cell_type": "code",
     "execution_count": null,
     "metadata": {},
     "outputs": [],
     "source": [
      "%%timeit\n",
      "result_df.selectExpr(\"explode(mappings_s500)\").write.mode(\"overwrite\").save(\"timing_test\")"
     ]
    },
    {
     "cell_type": "code",
     "execution_count": null,
     "metadata": {},
     "outputs": [],
     "source": [
      "%%timeit\n",
      "result_df.selectExpr(\"explode(mappings_s5000)\").write.mode(\"overwrite\").save(\"timing_test\")"
     ]
    },
    {
     "cell_type": "code",
     "execution_count": null,
     "metadata": {},
     "outputs": [],
     "source": [
      "%%timeit\n",
      "result_df.selectExpr(\"explode(mappings_l5000)\").write.mode(\"overwrite\").save(\"timing_test\")"
     ]
    },
    {
     "cell_type": "markdown",
     "metadata": {},
     "source": [
      "##### Can be seen that fingerprinting is pretty much insensitive to the mappings size"
     ]
    },
    {
     "cell_type": "markdown",
     "metadata": {},
     "source": [
      "#### Example with token and char fingerprinting"
     ]
    },
    {
     "cell_type": "code",
     "execution_count": null,
     "metadata": {},
     "outputs": [],
     "source": [
      "cm = ChunkMapperApproach() \\\n",
      "        .setInputCols([\"ner_chunk\"]) \\\n",
      "        .setLowerCase(True) \\\n",
      "        .setRels([\"action\", \"treatment\"]) \\\n",
      "        .setAllowMultiTokenChunk(True) \\\n",
      "        .setEnableTokenFingerprintMatching(True) \\\n",
      "        .setMinTokenNgramFingerprint(1) \\\n",
      "        .setMaxTokenNgramFingerprint(3) \\\n",
      "        .setMaxTokenNgramDroppingCharsRatio(0.5) \\\n",
      "        .setEnableCharFingerprintMatching(True) \\\n",
      "        .setMinCharNgramFingerprint(1) \\\n",
      "        .setMaxCharNgramFingerprint(3)\n",
      "\n",
      "chunkerMappers = [\n",
      "    cm.copy().setOutputCol(f\"mappings_{c}\").setDictionary(f\"mappings_{c}.json\") \\\n",
      "    for c in extra_keys]\n",
      "\n",
      "result_df = Pipeline(stages=chunkerMappers).fit(cached_df).transform(cached_df)\n",
      "result_df.selectExpr(\"explode(mappings_s500)\").show(truncate=False)"
     ]
    },
    {
     "cell_type": "code",
     "execution_count": null,
     "metadata": {},
     "outputs": [],
     "source": [
      "%%timeit\n",
      "result_df.selectExpr(\"explode(mappings_s500)\").write.mode(\"overwrite\").save(\"timing_test\")"
     ]
    },
    {
     "cell_type": "code",
     "execution_count": null,
     "metadata": {},
     "outputs": [],
     "source": [
      "%%timeit\n",
      "result_df.selectExpr(\"explode(mappings_s5000)\").write.mode(\"overwrite\").save(\"timing_test\")"
     ]
    },
    {
     "cell_type": "code",
     "execution_count": null,
     "metadata": {},
     "outputs": [],
     "source": [
      "%%timeit\n",
      "result_df.selectExpr(\"explode(mappings_l5000)\").write.mode(\"overwrite\").save(\"timing_test\")"
     ]
    },
    {
     "cell_type": "markdown",
     "metadata": {},
     "source": [
      "##### Can be seen that fingerprinting is pretty much insensitive to the mappings size"
     ]
    },
    {
     "cell_type": "markdown",
     "metadata": {},
     "source": [
      "#### Example with token and char fingerprinting plus fuzzy distance calculation"
     ]
    },
    {
     "cell_type": "code",
     "execution_count": null,
     "metadata": {},
     "outputs": [],
     "source": [
      "cm = ChunkMapperApproach() \\\n",
      "        .setInputCols([\"ner_chunk\"]) \\\n",
      "        .setOutputCol(\"mappings\") \\\n",
      "        .setDictionary(\"mappings.json\") \\\n",
      "        .setLowerCase(True) \\\n",
      "        .setRels([\"action\", \"treatment\"]) \\\n",
      "        .setAllowMultiTokenChunk(True) \\\n",
      "        .setEnableTokenFingerprintMatching(True) \\\n",
      "        .setMinTokenNgramFingerprint(1) \\\n",
      "        .setMaxTokenNgramFingerprint(3) \\\n",
      "        .setMaxTokenNgramDroppingCharsRatio(0.5) \\\n",
      "        .setEnableCharFingerprintMatching(True) \\\n",
      "        .setMinCharNgramFingerprint(1) \\\n",
      "        .setMaxCharNgramFingerprint(3) \\\n",
      "        .setEnableFuzzyMatching(True) \\\n",
      "        .setFuzzyMatchingDistanceThresholds(0.31)\n",
      "\n",
      "chunkerMappers = [\n",
      "    cm.copy().setOutputCol(f\"mappings_{c}\").setDictionary(f\"mappings_{c}.json\") \\\n",
      "    for c in extra_keys]\n",
      "\n",
      "result_df = Pipeline(stages=chunkerMappers).fit(cached_df).transform(cached_df)\n",
      "result_df.selectExpr(\"explode(mappings_s500)\").show(truncate=False)"
     ]
    },
    {
     "cell_type": "code",
     "execution_count": null,
     "metadata": {},
     "outputs": [],
     "source": [
      "%%timeit\n",
      "result_df.selectExpr(\"explode(mappings_s500)\").write.mode(\"overwrite\").save(\"timing_test\")"
     ]
    },
    {
     "cell_type": "code",
     "execution_count": null,
     "metadata": {},
     "outputs": [],
     "source": [
      "%%timeit\n",
      "result_df.selectExpr(\"explode(mappings_s5000)\").write.mode(\"overwrite\").save(\"timing_test\")"
     ]
    },
    {
     "cell_type": "code",
     "execution_count": null,
     "metadata": {},
     "outputs": [],
     "source": [
      "%%timeit\n",
      "result_df.selectExpr(\"explode(mappings_l5000)\").write.mode(\"overwrite\").save(\"timing_test\")"
     ]
    },
    {
     "cell_type": "markdown",
     "metadata": {},
     "source": [
      "##### Can be seen that distance functions are really affected by the mappings size"
     ]
    },
    {
     "cell_type": "markdown",
     "metadata": {},
     "source": [
      "#### Example with fuzzy distance calculation using a pretrained model"
     ]
    },
    {
     "cell_type": "code",
     "execution_count": null,
     "metadata": {},
     "outputs": [],
     "source": [
      "chunkerMapper_action = ChunkMapperModel.pretrained(\"drug_action_treatment_mapper\", \"en\", \"clinical/models\")\\\n",
      "    .setInputCols([\"ner_chunk\"])\\\n",
      "    .setOutputCol(\"Action\")\\\n",
      "    .setRels([\"action\"]) \\\n",
      "    .setAllowMultiTokenChunk(True) \\\n",
      "    .setEnableFuzzyMatching(True) \\\n",
      "    .setFuzzyMatchingDistanceThresholds(0.6)\n",
      "\n",
      "\n",
      "result_df = chunkerMapper_action.transform(cached_df)\n",
      "result_df.selectExpr(\"explode(Action)\").show(truncate=False)"
     ]
    },
    
    {
      "cell_type": "markdown",
      "source": [
        "# 3- ChunkMapperFilterer"
      ],
      "metadata": {
        "id": "J-ZTtXsmtzJM"
      }
    },
    {
      "cell_type": "markdown",
      "source": [
        "`ChunkMapperFilterer` annotator allows filtering of the chunks that were passed through the ChunkMapperModel. <br/>\n",
        "\n",
        "We can filter chunks by setting the `.setReturnCriteria()` parameter. It has 2 options; <br/>\n",
        "\n",
        "\n",
        "**success:** Returns the chunks which are mapped by ChunkMapper <br/>\n",
        "\n",
        "**fail:** Returns the chunks which are not mapped by ChunkMapper <br/>"
      ],
      "metadata": {
        "id": "pm2VP4MXuDSK"
      }
    },
    {
      "cell_type": "markdown",
      "source": [
        "Let's apply the both options and check the results. "
      ],
      "metadata": {
        "id": "I5gJw22BvZ5b"
      }
    },
    {
      "cell_type": "code",
      "source": [
        "chunkerMapper = ChunkMapperApproach() \\\n",
        "        .setInputCols([\"ner_chunk\"]) \\\n",
        "        .setOutputCol(\"mappings\") \\\n",
        "        .setDictionary(\"mappings.json\") \\\n",
        "        .setRel(\"action\") \\\n",
        "        .setLowerCase(True) \\\n",
        "        .setRels([\"action\", \"treatment\"]) \\\n",
        "\n",
        "pipeline = Pipeline().setStages([document_assembler,\n",
        "                                 sentence_detector,\n",
        "                                 tokenizer, \n",
        "                                 word_embeddings,\n",
        "                                 clinical_ner, \n",
        "                                 ner_converter, \n",
        "                                 chunkerMapper])\n",
        "\n",
        "\n",
        "result_df = pipeline.fit(test_data).transform(test_data)\n",
        "result_df.selectExpr(\"explode(mappings)\").show(truncate=False)"
      ],
      "metadata": {
        "colab": {
          "base_uri": "https://localhost:8080/"
        },
        "id": "R8MUfkhRtiZK",
        "outputId": "ac3fe9b4-7b06-4a54-e74c-0718be6c3812",
        "executionInfo": {
          "status": "ok",
          "timestamp": 1670179893650,
          "user_tz": -180,
          "elapsed": 1033,
          "user": {
            "displayName": "Gökhan TÜRER",
            "userId": "17886843627290606834"
          }
        }
      },
      "execution_count": null,
      "outputs": [
        {
          "output_type": "stream",
          "name": "stdout",
          "text": [
            "+---------------------------------------------------------------------------------------------------------------------------------------------------------------------------+\n",
            "|col                                                                                                                                                                        |\n",
            "+---------------------------------------------------------------------------------------------------------------------------------------------------------------------------+\n",
            "|{labeled_dependency, 22, 35, Analgesic, {chunk -> 0, relation -> action, confidence -> 0.66565, all_relations -> Antipyretic, entity -> Warfarina Lusa, sentence -> 0}, []}|\n",
            "|{labeled_dependency, 22, 35, diabetes, {chunk -> 0, relation -> treatment, confidence -> 0.66565, all_relations -> t2dm, entity -> Warfarina Lusa, sentence -> 0}, []}     |\n",
            "|{labeled_dependency, 41, 50, NONE, {entity -> amlodipine, sentence -> 0, chunk -> 1, confidence -> 0.9999}, []}                                                            |\n",
            "|{labeled_dependency, 80, 86, NONE, {entity -> Aspagin, sentence -> 0, chunk -> 2, confidence -> 0.9905}, []}                                                               |\n",
            "|{labeled_dependency, 89, 96, NONE, {entity -> coumadin, sentence -> 0, chunk -> 3, confidence -> 0.9997}, []}                                                              |\n",
            "|{labeled_dependency, 104, 111, NONE, {entity -> coumadin, sentence -> 0, chunk -> 4, confidence -> 0.9994}, []}                                                            |\n",
            "|{labeled_dependency, 125, 134, NONE, {entity -> metamorfin, sentence -> 0, chunk -> 5, confidence -> 0.9989}, []}                                                          |\n",
            "+---------------------------------------------------------------------------------------------------------------------------------------------------------------------------+\n",
            "\n"
          ]
        }
      ]
    },
    {
      "cell_type": "markdown",
      "source": [
        "**`.setReturnCriteria(\"success\")`**"
      ],
      "metadata": {
        "id": "M2V0T1b7vuFS"
      }
    },
    {
      "cell_type": "code",
      "source": [
        "cfModel = ChunkMapperFilterer() \\\n",
        "        .setInputCols([\"ner_chunk\",\"mappings\"]) \\\n",
        "        .setOutputCol(\"chunks_filtered\")\\\n",
        "        .setReturnCriteria(\"success\")\n",
        "\n",
        "cfModel.transform(result_df).selectExpr(\"explode(chunks_filtered)\").show(truncate=False)"
      ],
      "metadata": {
        "colab": {
          "base_uri": "https://localhost:8080/"
        },
        "id": "IssbtA3Xqsgm",
        "outputId": "ed8e006a-22b4-4207-c789-3e2c06b3b266",
        "executionInfo": {
          "status": "ok",
          "timestamp": 1670179894836,
          "user_tz": -180,
          "elapsed": 1188,
          "user": {
            "displayName": "Gökhan TÜRER",
            "userId": "17886843627290606834"
          }
        }
      },
      "execution_count": null,
      "outputs": [
        {
          "output_type": "stream",
          "name": "stdout",
          "text": [
            "+-------------------------------------------------------------------------------------------------------+\n",
            "|col                                                                                                    |\n",
            "+-------------------------------------------------------------------------------------------------------+\n",
            "|{chunk, 22, 35, Warfarina Lusa, {entity -> DRUG, sentence -> 0, chunk -> 0, confidence -> 0.66565}, []}|\n",
            "+-------------------------------------------------------------------------------------------------------+\n",
            "\n"
          ]
        }
      ]
    },
    {
      "cell_type": "markdown",
      "source": [
        "**`.setReturnCriteria(\"fail\")`**"
      ],
      "metadata": {
        "id": "YTODYW0pvyl_"
      }
    },
    {
      "cell_type": "code",
      "source": [
        "cfModel = ChunkMapperFilterer() \\\n",
        "        .setInputCols([\"ner_chunk\",\"mappings\"]) \\\n",
        "        .setOutputCol(\"chunks_filtered\")\\\n",
        "        .setReturnCriteria(\"fail\")\n",
        "\n",
        "cfModel.transform(result_df).selectExpr(\"explode(chunks_filtered)\").show(truncate=False)"
      ],
      "metadata": {
        "colab": {
          "base_uri": "https://localhost:8080/"
        },
        "id": "DZ9UNFk4qsaS",
        "outputId": "1442e955-0b3a-4ee6-89d2-76eb635cde10",
        "executionInfo": {
          "status": "ok",
          "timestamp": 1670179895283,
          "user_tz": -180,
          "elapsed": 450,
          "user": {
            "displayName": "Gökhan TÜRER",
            "userId": "17886843627290606834"
          }
        }
      },
      "execution_count": null,
      "outputs": [
        {
          "output_type": "stream",
          "name": "stdout",
          "text": [
            "+----------------------------------------------------------------------------------------------------+\n",
            "|col                                                                                                 |\n",
            "+----------------------------------------------------------------------------------------------------+\n",
            "|{chunk, 41, 50, amlodipine, {entity -> DRUG, sentence -> 0, chunk -> 1, confidence -> 0.9999}, []}  |\n",
            "|{chunk, 80, 86, Aspagin, {entity -> DRUG, sentence -> 0, chunk -> 2, confidence -> 0.9905}, []}     |\n",
            "|{chunk, 89, 96, coumadin, {entity -> DRUG, sentence -> 0, chunk -> 3, confidence -> 0.9997}, []}    |\n",
            "|{chunk, 104, 111, coumadin, {entity -> DRUG, sentence -> 0, chunk -> 4, confidence -> 0.9994}, []}  |\n",
            "|{chunk, 125, 134, metamorfin, {entity -> DRUG, sentence -> 0, chunk -> 5, confidence -> 0.9989}, []}|\n",
            "+----------------------------------------------------------------------------------------------------+\n",
            "\n"
          ]
        }
      ]
    },
    {
      "cell_type": "markdown",
      "source": [
        "# 4- ResolverMerger - Using Sentence Entity Resolver and `ChunkMapperModel` Together"
      ],
      "metadata": {
        "id": "kWhSQPYT7GnV"
      }
    },
    {
      "cell_type": "markdown",
      "source": [
        "We can merge the results of `ChunkMapperModel` and `SentenceEntityResolverModel` by using `ResolverMerger` annotator. \n",
        "\n",
        "We can detect our results that fail by `ChunkMapperModel` with `ChunkMapperFilterer` and then merge the resolver and mapper results with `ResolverMerger`"
      ],
      "metadata": {
        "id": "ZuEYFmIN7T4U"
      }
    },
    {
      "cell_type": "code",
      "source": [
        "document_assembler = DocumentAssembler()\\\n",
        "      .setInputCol('text')\\\n",
        "      .setOutputCol('document')\n",
        "\n",
        "sentence_detector = SentenceDetector()\\\n",
        "      .setInputCols([\"document\"])\\\n",
        "      .setOutputCol(\"sentence\")\n",
        "\n",
        "tokenizer = Tokenizer()\\\n",
        "      .setInputCols(\"sentence\")\\\n",
        "      .setOutputCol(\"token\")\n",
        "\n",
        "word_embeddings = WordEmbeddingsModel.pretrained(\"embeddings_clinical\", \"en\", \"clinical/models\")\\\n",
        "      .setInputCols([\"sentence\", \"token\"])\\\n",
        "      .setOutputCol(\"embeddings\")\n",
        "\n",
        "ner_model = MedicalNerModel.pretrained(\"ner_posology_greedy\", \"en\", \"clinical/models\")\\\n",
        "      .setInputCols([\"sentence\", \"token\", \"embeddings\"])\\\n",
        "      .setOutputCol(\"ner\")\n",
        "\n",
        "ner_converter = NerConverter()\\\n",
        "      .setInputCols(\"sentence\", \"token\", \"ner\")\\\n",
        "      .setOutputCol(\"chunk\")\n",
        "\n",
        "chunkerMapper = ChunkMapperModel.pretrained(\"rxnorm_mapper\", \"en\", \"clinical/models\")\\\n",
        "      .setInputCols([\"chunk\"])\\\n",
        "      .setOutputCol(\"RxNorm_Mapper\")\\\n",
        "      .setRels([\"rxnorm_code\"])\n",
        "\n",
        "cfModel = ChunkMapperFilterer() \\\n",
        "      .setInputCols([\"chunk\", \"RxNorm_Mapper\"]) \\\n",
        "      .setOutputCol(\"chunks_fail\") \\\n",
        "      .setReturnCriteria(\"fail\")\n",
        "\n",
        "chunk2doc = Chunk2Doc() \\\n",
        "      .setInputCols(\"chunks_fail\") \\\n",
        "      .setOutputCol(\"chunk_doc\")\n",
        "\n",
        "sbert_embedder = BertSentenceEmbeddings.pretrained('sbiobert_base_cased_mli', 'en','clinical/models')\\\n",
        "      .setInputCols([\"chunk_doc\"])\\\n",
        "      .setOutputCol(\"sentence_embeddings\")\\\n",
        "      .setCaseSensitive(False)\n",
        "\n",
        "resolver = SentenceEntityResolverModel.pretrained(\"sbiobertresolve_rxnorm_augmented\", \"en\", \"clinical/models\") \\\n",
        "      .setInputCols([\"sentence_embeddings\"]) \\\n",
        "      .setOutputCol(\"resolver_code\") \\\n",
        "      .setDistanceFunction(\"EUCLIDEAN\")\n",
        "\n",
        "resolverMerger = ResolverMerger()\\\n",
        "      .setInputCols([\"resolver_code\",\"RxNorm_Mapper\"])\\\n",
        "      .setOutputCol(\"RxNorm\")\n",
        "\n",
        "mapper_pipeline = Pipeline(\n",
        "      stages = [\n",
        "          document_assembler,\n",
        "          sentence_detector,\n",
        "          tokenizer,\n",
        "          word_embeddings,\n",
        "          ner_model,\n",
        "          ner_converter,\n",
        "          chunkerMapper,\n",
        "          chunkerMapper,\n",
        "          cfModel,\n",
        "          chunk2doc,\n",
        "          sbert_embedder,\n",
        "          resolver,\n",
        "          resolverMerger\n",
        "      ])\n",
        "\n",
        "empty_data = spark.createDataFrame([[\"\"]]).toDF(\"text\")\n",
        "\n",
        "model = mapper_pipeline.fit(empty_data)"
      ],
      "metadata": {
        "colab": {
          "base_uri": "https://localhost:8080/"
        },
        "id": "8wEep8op7GVH",
        "outputId": "105de106-d668-4120-8369-8e8369103d48",
        "executionInfo": {
          "status": "ok",
          "timestamp": 1670179946446,
          "user_tz": -180,
          "elapsed": 13687,
          "user": {
            "displayName": "Gökhan TÜRER",
            "userId": "17886843627290606834"
          }
        }
      },
      "execution_count": null,
      "outputs": [
        {
          "output_type": "stream",
          "name": "stdout",
          "text": [
            "embeddings_clinical download started this may take some time.\n",
            "Approximate size to download 1.6 GB\n",
            "[OK!]\n",
            "ner_posology_greedy download started this may take some time.\n",
            "[OK!]\n",
            "rxnorm_mapper download started this may take some time.\n",
            "[OK!]\n",
            "sbiobert_base_cased_mli download started this may take some time.\n",
            "Approximate size to download 384.3 MB\n",
            "[OK!]\n",
            "sbiobertresolve_rxnorm_augmented download started this may take some time.\n",
            "[OK!]\n"
          ]
        }
      ]
    },
    {
      "cell_type": "code",
      "source": [
        "samples = [['The patient was given Adapin 10 MG, coumadn 5 mg'],\n",
        "           ['The patient was given Avandia 4 mg, Tegretol, zitiga'] ]\n",
        "\n",
        "result = model.transform(spark.createDataFrame(samples).toDF(\"text\"))"
      ],
      "metadata": {
        "id": "40s4u0yA7dhn"
      },
      "execution_count": null,
      "outputs": []
    },
    {
      "cell_type": "code",
      "source": [
        "result.selectExpr('chunk.result as chunk', \n",
        "                  'RxNorm_Mapper.result as RxNorm_Mapper', \n",
        "                  'chunks_fail.result as chunks_fail', \n",
        "                  'resolver_code.result as resolver_code',\n",
        "                  'RxNorm.result as RxNorm'\n",
        "              ).show(truncate = False)"
      ],
      "metadata": {
        "colab": {
          "base_uri": "https://localhost:8080/"
        },
        "id": "RCDft7KiX2Yr",
        "outputId": "bb6f205a-e31d-45b3-fc6e-e536917b5693",
        "executionInfo": {
          "status": "ok",
          "timestamp": 1670179952533,
          "user_tz": -180,
          "elapsed": 5317,
          "user": {
            "displayName": "Gökhan TÜRER",
            "userId": "17886843627290606834"
          }
        }
      },
      "execution_count": null,
      "outputs": [
        {
          "output_type": "stream",
          "name": "stdout",
          "text": [
            "+--------------------------------+----------------------+--------------+-------------+------------------------+\n",
            "|chunk                           |RxNorm_Mapper         |chunks_fail   |resolver_code|RxNorm                  |\n",
            "+--------------------------------+----------------------+--------------+-------------+------------------------+\n",
            "|[Adapin 10 MG, coumadn 5 mg]    |[1000049, NONE]       |[coumadn 5 mg]|[200883]     |[1000049, 200883]       |\n",
            "|[Avandia 4 mg, Tegretol, zitiga]|[261242, 203029, NONE]|[zitiga]      |[220989]     |[261242, 203029, 220989]|\n",
            "+--------------------------------+----------------------+--------------+-------------+------------------------+\n",
            "\n"
          ]
        }
      ]
    },
    {
      "cell_type": "markdown",
      "source": [
        "# 5- Section Header Normalizer Mapper with ChunkSentenceSplitter"
      ],
      "metadata": {
        "id": "HJ9tNW9Gt5Sb"
      }
    },
    {
      "cell_type": "markdown",
      "source": [
        "`ChunkSentenceSplitter()` annotator splits documents or sentences by chunks provided. <br/> For detailed usage of this annotator, visit [this notebook](https://github.com/JohnSnowLabs/spark-nlp-workshop/blob/master/tutorials/Certification_Trainings/Healthcare/18.Chunk_Sentence_Splitter.ipynb) <br/>\n",
        "\n",
        "In this section, we will do the following steps; \n",
        "- Detect \"section headers\" in given text through Ner model\n",
        "- Split the given text by headers with `ChunkSentenceSplitter()`\n",
        "- Normalize the `ChunkSentenceSplitter()` outputs with `normalized_section_header_mapper` model. "
      ],
      "metadata": {
        "id": "0tlEvAPvu6Lb"
      }
    },
    {
      "cell_type": "markdown",
      "source": [
        "Let's start with creating Ner pipeline to detect \"Header\" "
      ],
      "metadata": {
        "id": "xlNR3ioQYQPc"
      }
    },
    {
      "cell_type": "code",
      "source": [
        "sentences = [\n",
        "    [\"\"\"ADMISSION DIAGNOSIS Right pleural effusion and suspected malignant mesothelioma.\n",
        "        PRINCIPAL DIAGNOSIS Right pleural effusion, suspected malignant mesothelioma.\n",
        "        REVIEW OF SYSTEMS Right pleural effusion, firm nodules, diffuse scattered throughout the right pleura and diaphragmatic surface.\n",
        "    \"\"\"]]\n",
        "\n",
        "df= spark.createDataFrame(sentences).toDF(\"text\")"
      ],
      "metadata": {
        "id": "e3ABtM79mf86"
      },
      "execution_count": null,
      "outputs": []
    },
    {
      "cell_type": "code",
      "source": [
        "documentAssembler = DocumentAssembler()\\\n",
        "      .setInputCol(\"text\")\\\n",
        "      .setOutputCol(\"document\")\n",
        "\n",
        "tokenizer= Tokenizer()\\\n",
        "      .setInputCols([\"document\"])\\\n",
        "      .setOutputCol(\"token\")\n",
        "\n",
        "tokenClassifier = MedicalBertForTokenClassifier.pretrained(\"bert_token_classifier_ner_jsl_slim\", \"en\", \"clinical/models\")\\\n",
        "      .setInputCols(\"token\", \"document\")\\\n",
        "      .setOutputCol(\"ner\")\\\n",
        "      .setCaseSensitive(True)\n",
        "\n",
        "ner_converter = NerConverter() \\\n",
        "      .setInputCols([\"document\", \"token\", \"ner\"]) \\\n",
        "      .setOutputCol(\"ner_chunk\")\\\n",
        "      .setWhiteList([\"Header\"])\n",
        "\n",
        "pipeline = Pipeline(\n",
        "    stages = [\n",
        "        documentAssembler,\n",
        "        tokenizer,\n",
        "        tokenClassifier,\n",
        "        ner_converter\n",
        "    ])\n",
        " \n",
        "empty_df = spark.createDataFrame([[\"\"]]).toDF('text')\n",
        "pipeline_model = pipeline.fit(empty_df)"
      ],
      "metadata": {
        "id": "Wuab7yVluOLY",
        "colab": {
          "base_uri": "https://localhost:8080/"
        },
        "outputId": "c04bc9b2-aaf7-4731-fcec-a3e30d0e9727",
        "executionInfo": {
          "status": "ok",
          "timestamp": 1670179983935,
          "user_tz": -180,
          "elapsed": 31404,
          "user": {
            "displayName": "Gökhan TÜRER",
            "userId": "17886843627290606834"
          }
        }
      },
      "execution_count": null,
      "outputs": [
        {
          "output_type": "stream",
          "name": "stdout",
          "text": [
            "bert_token_classifier_ner_jsl_slim download started this may take some time.\n",
            "[OK!]\n"
          ]
        }
      ]
    },
    {
      "cell_type": "code",
      "source": [
        "result = pipeline_model.transform(df)\n",
        "result.selectExpr('explode(ner_chunk)').show(truncate=False)"
      ],
      "metadata": {
        "colab": {
          "base_uri": "https://localhost:8080/"
        },
        "id": "aIXG6SUiGGib",
        "outputId": "a7477096-4037-4b72-93e4-194d206d3c5b",
        "executionInfo": {
          "status": "ok",
          "timestamp": 1670179986984,
          "user_tz": -180,
          "elapsed": 3056,
          "user": {
            "displayName": "Gökhan TÜRER",
            "userId": "17886843627290606834"
          }
        }
      },
      "execution_count": null,
      "outputs": [
        {
          "output_type": "stream",
          "name": "stdout",
          "text": [
            "+------------------------------------------------------------------------------------------------------------------+\n",
            "|col                                                                                                               |\n",
            "+------------------------------------------------------------------------------------------------------------------+\n",
            "|{chunk, 0, 18, ADMISSION DIAGNOSIS, {entity -> Header, sentence -> 0, chunk -> 0, confidence -> 0.9994346}, []}   |\n",
            "|{chunk, 89, 107, PRINCIPAL DIAGNOSIS, {entity -> Header, sentence -> 0, chunk -> 1, confidence -> 0.99020165}, []}|\n",
            "|{chunk, 175, 191, REVIEW OF SYSTEMS, {entity -> Header, sentence -> 0, chunk -> 2, confidence -> 0.9989373}, []}  |\n",
            "+------------------------------------------------------------------------------------------------------------------+\n",
            "\n"
          ]
        }
      ]
    },
    {
      "cell_type": "markdown",
      "source": [
        "Now, we have our header entities. We will split the text by the headers."
      ],
      "metadata": {
        "id": "ymUF_0f1ct7A"
      }
    },
    {
      "cell_type": "code",
      "source": [
        "#applying ChunkSentenceSplitter \n",
        "chunkSentenceSplitter = ChunkSentenceSplitter()\\\n",
        "    .setInputCols(\"document\",\"ner_chunk\")\\\n",
        "    .setOutputCol(\"paragraphs\")\\\n",
        "    .setGroupBySentences(False)\n",
        "\n",
        "paragraphs = chunkSentenceSplitter.transform(result)"
      ],
      "metadata": {
        "id": "jM7vMBDAZg3_"
      },
      "execution_count": null,
      "outputs": []
    },
    {
      "cell_type": "code",
      "source": [
        "paragraphs.show()"
      ],
      "metadata": {
        "colab": {
          "base_uri": "https://localhost:8080/"
        },
        "id": "pCJL4x0ybatJ",
        "outputId": "861bfe85-d65c-4400-9fb7-dc75072d00ed",
        "executionInfo": {
          "status": "ok",
          "timestamp": 1670179987943,
          "user_tz": -180,
          "elapsed": 965,
          "user": {
            "displayName": "Gökhan TÜRER",
            "userId": "17886843627290606834"
          }
        }
      },
      "execution_count": null,
      "outputs": [
        {
          "output_type": "stream",
          "name": "stdout",
          "text": [
            "+--------------------+--------------------+--------------------+--------------------+--------------------+--------------------+\n",
            "|                text|            document|               token|                 ner|           ner_chunk|          paragraphs|\n",
            "+--------------------+--------------------+--------------------+--------------------+--------------------+--------------------+\n",
            "|ADMISSION DIAGNOS...|[{document, 0, 30...|[{token, 0, 8, AD...|[{named_entity, 0...|[{chunk, 0, 18, A...|[{document, 0, 89...|\n",
            "+--------------------+--------------------+--------------------+--------------------+--------------------+--------------------+\n",
            "\n"
          ]
        }
      ]
    },
    {
      "cell_type": "code",
      "source": [
        "pd.set_option('display.max_colwidth', None)\n",
        "result_df = paragraphs.selectExpr(\"explode(paragraphs) as result\").selectExpr(\"result.result\",\"result.metadata.entity\", \"result.metadata.splitter_chunk\").toPandas()\n",
        "result_df"
      ],
      "metadata": {
        "colab": {
          "base_uri": "https://localhost:8080/",
          "height": 143
        },
        "id": "g2D2hD1IYczD",
        "outputId": "c29f8af3-267d-4e80-de96-04e6b711410c",
        "executionInfo": {
          "status": "ok",
          "timestamp": 1670179988879,
          "user_tz": -180,
          "elapsed": 942,
          "user": {
            "displayName": "Gökhan TÜRER",
            "userId": "17886843627290606834"
          }
        }
      },
      "execution_count": null,
      "outputs": [
        {
          "output_type": "execute_result",
          "data": {
            "text/plain": [
              "                                                                                                                                  result  \\\n",
              "0                                             ADMISSION DIAGNOSIS Right pleural effusion and suspected malignant mesothelioma.\\n           \n",
              "1                                                PRINCIPAL DIAGNOSIS Right pleural effusion, suspected malignant mesothelioma.\\n           \n",
              "2  REVIEW OF SYSTEMS Right pleural effusion, firm nodules, diffuse scattered throughout the right pleura and diaphragmatic surface.\\n      \n",
              "\n",
              "   entity       splitter_chunk  \n",
              "0  Header  ADMISSION DIAGNOSIS  \n",
              "1  Header  PRINCIPAL DIAGNOSIS  \n",
              "2  Header    REVIEW OF SYSTEMS  "
            ],
            "text/html": [
              "\n",
              "  <div id=\"df-1fca79ce-d6c3-4753-84f6-a072b95e6bca\">\n",
              "    <div class=\"colab-df-container\">\n",
              "      <div>\n",
              "<style scoped>\n",
              "    .dataframe tbody tr th:only-of-type {\n",
              "        vertical-align: middle;\n",
              "    }\n",
              "\n",
              "    .dataframe tbody tr th {\n",
              "        vertical-align: top;\n",
              "    }\n",
              "\n",
              "    .dataframe thead th {\n",
              "        text-align: right;\n",
              "    }\n",
              "</style>\n",
              "<table border=\"1\" class=\"dataframe\">\n",
              "  <thead>\n",
              "    <tr style=\"text-align: right;\">\n",
              "      <th></th>\n",
              "      <th>result</th>\n",
              "      <th>entity</th>\n",
              "      <th>splitter_chunk</th>\n",
              "    </tr>\n",
              "  </thead>\n",
              "  <tbody>\n",
              "    <tr>\n",
              "      <th>0</th>\n",
              "      <td>ADMISSION DIAGNOSIS Right pleural effusion and suspected malignant mesothelioma.\\n</td>\n",
              "      <td>Header</td>\n",
              "      <td>ADMISSION DIAGNOSIS</td>\n",
              "    </tr>\n",
              "    <tr>\n",
              "      <th>1</th>\n",
              "      <td>PRINCIPAL DIAGNOSIS Right pleural effusion, suspected malignant mesothelioma.\\n</td>\n",
              "      <td>Header</td>\n",
              "      <td>PRINCIPAL DIAGNOSIS</td>\n",
              "    </tr>\n",
              "    <tr>\n",
              "      <th>2</th>\n",
              "      <td>REVIEW OF SYSTEMS Right pleural effusion, firm nodules, diffuse scattered throughout the right pleura and diaphragmatic surface.\\n</td>\n",
              "      <td>Header</td>\n",
              "      <td>REVIEW OF SYSTEMS</td>\n",
              "    </tr>\n",
              "  </tbody>\n",
              "</table>\n",
              "</div>\n",
              "      <button class=\"colab-df-convert\" onclick=\"convertToInteractive('df-1fca79ce-d6c3-4753-84f6-a072b95e6bca')\"\n",
              "              title=\"Convert this dataframe to an interactive table.\"\n",
              "              style=\"display:none;\">\n",
              "        \n",
              "  <svg xmlns=\"http://www.w3.org/2000/svg\" height=\"24px\"viewBox=\"0 0 24 24\"\n",
              "       width=\"24px\">\n",
              "    <path d=\"M0 0h24v24H0V0z\" fill=\"none\"/>\n",
              "    <path d=\"M18.56 5.44l.94 2.06.94-2.06 2.06-.94-2.06-.94-.94-2.06-.94 2.06-2.06.94zm-11 1L8.5 8.5l.94-2.06 2.06-.94-2.06-.94L8.5 2.5l-.94 2.06-2.06.94zm10 10l.94 2.06.94-2.06 2.06-.94-2.06-.94-.94-2.06-.94 2.06-2.06.94z\"/><path d=\"M17.41 7.96l-1.37-1.37c-.4-.4-.92-.59-1.43-.59-.52 0-1.04.2-1.43.59L10.3 9.45l-7.72 7.72c-.78.78-.78 2.05 0 2.83L4 21.41c.39.39.9.59 1.41.59.51 0 1.02-.2 1.41-.59l7.78-7.78 2.81-2.81c.8-.78.8-2.07 0-2.86zM5.41 20L4 18.59l7.72-7.72 1.47 1.35L5.41 20z\"/>\n",
              "  </svg>\n",
              "      </button>\n",
              "      \n",
              "  <style>\n",
              "    .colab-df-container {\n",
              "      display:flex;\n",
              "      flex-wrap:wrap;\n",
              "      gap: 12px;\n",
              "    }\n",
              "\n",
              "    .colab-df-convert {\n",
              "      background-color: #E8F0FE;\n",
              "      border: none;\n",
              "      border-radius: 50%;\n",
              "      cursor: pointer;\n",
              "      display: none;\n",
              "      fill: #1967D2;\n",
              "      height: 32px;\n",
              "      padding: 0 0 0 0;\n",
              "      width: 32px;\n",
              "    }\n",
              "\n",
              "    .colab-df-convert:hover {\n",
              "      background-color: #E2EBFA;\n",
              "      box-shadow: 0px 1px 2px rgba(60, 64, 67, 0.3), 0px 1px 3px 1px rgba(60, 64, 67, 0.15);\n",
              "      fill: #174EA6;\n",
              "    }\n",
              "\n",
              "    [theme=dark] .colab-df-convert {\n",
              "      background-color: #3B4455;\n",
              "      fill: #D2E3FC;\n",
              "    }\n",
              "\n",
              "    [theme=dark] .colab-df-convert:hover {\n",
              "      background-color: #434B5C;\n",
              "      box-shadow: 0px 1px 3px 1px rgba(0, 0, 0, 0.15);\n",
              "      filter: drop-shadow(0px 1px 2px rgba(0, 0, 0, 0.3));\n",
              "      fill: #FFFFFF;\n",
              "    }\n",
              "  </style>\n",
              "\n",
              "      <script>\n",
              "        const buttonEl =\n",
              "          document.querySelector('#df-1fca79ce-d6c3-4753-84f6-a072b95e6bca button.colab-df-convert');\n",
              "        buttonEl.style.display =\n",
              "          google.colab.kernel.accessAllowed ? 'block' : 'none';\n",
              "\n",
              "        async function convertToInteractive(key) {\n",
              "          const element = document.querySelector('#df-1fca79ce-d6c3-4753-84f6-a072b95e6bca');\n",
              "          const dataTable =\n",
              "            await google.colab.kernel.invokeFunction('convertToInteractive',\n",
              "                                                     [key], {});\n",
              "          if (!dataTable) return;\n",
              "\n",
              "          const docLinkHtml = 'Like what you see? Visit the ' +\n",
              "            '<a target=\"_blank\" href=https://colab.research.google.com/notebooks/data_table.ipynb>data table notebook</a>'\n",
              "            + ' to learn more about interactive tables.';\n",
              "          element.innerHTML = '';\n",
              "          dataTable['output_type'] = 'display_data';\n",
              "          await google.colab.output.renderOutput(dataTable, element);\n",
              "          const docLink = document.createElement('div');\n",
              "          docLink.innerHTML = docLinkHtml;\n",
              "          element.appendChild(docLink);\n",
              "        }\n",
              "      </script>\n",
              "    </div>\n",
              "  </div>\n",
              "  "
            ]
          },
          "metadata": {},
          "execution_count": 58
        }
      ]
    },
    {
      "cell_type": "markdown",
      "source": [
        "As you see, we have our splitted text and **section headers**. <br/>\n",
        "Now we will normalize this section headers with `normalized_section_header_mapper`"
      ],
      "metadata": {
        "id": "1aO6pVkheYYg"
      }
    },
    {
      "cell_type": "code",
      "source": [
        "chunkerMapper = ChunkMapperModel.pretrained(\"normalized_section_header_mapper\", \"en\", \"clinical/models\") \\\n",
        "       .setInputCols(\"ner_chunk\")\\\n",
        "       .setOutputCol(\"mappings\")\\\n",
        "       .setRels([\"level_1\"]) #or level_2\n",
        "\n",
        "normalized_df= chunkerMapper.transform(paragraphs)"
      ],
      "metadata": {
        "id": "v3e8FeqUcCRc",
        "colab": {
          "base_uri": "https://localhost:8080/"
        },
        "outputId": "6516d042-aa8b-456a-c126-669a3e0fb766",
        "executionInfo": {
          "status": "ok",
          "timestamp": 1670179991522,
          "user_tz": -180,
          "elapsed": 2646,
          "user": {
            "displayName": "Gökhan TÜRER",
            "userId": "17886843627290606834"
          }
        }
      },
      "execution_count": null,
      "outputs": [
        {
          "output_type": "stream",
          "name": "stdout",
          "text": [
            "normalized_section_header_mapper download started this may take some time.\n",
            "[OK!]\n"
          ]
        }
      ]
    },
    {
      "cell_type": "code",
      "source": [
        "normalized_df.show()"
      ],
      "metadata": {
        "colab": {
          "base_uri": "https://localhost:8080/"
        },
        "id": "G4mdVzaTiQWP",
        "outputId": "f3562d71-e98d-41d2-c2b9-7aa2c84989d2",
        "executionInfo": {
          "status": "ok",
          "timestamp": 1670179991974,
          "user_tz": -180,
          "elapsed": 460,
          "user": {
            "displayName": "Gökhan TÜRER",
            "userId": "17886843627290606834"
          }
        }
      },
      "execution_count": null,
      "outputs": [
        {
          "output_type": "stream",
          "name": "stdout",
          "text": [
            "+--------------------+--------------------+--------------------+--------------------+--------------------+--------------------+--------------------+\n",
            "|                text|            document|               token|                 ner|           ner_chunk|          paragraphs|            mappings|\n",
            "+--------------------+--------------------+--------------------+--------------------+--------------------+--------------------+--------------------+\n",
            "|ADMISSION DIAGNOS...|[{document, 0, 30...|[{token, 0, 8, AD...|[{named_entity, 0...|[{chunk, 0, 18, A...|[{document, 0, 89...|[{labeled_depende...|\n",
            "+--------------------+--------------------+--------------------+--------------------+--------------------+--------------------+--------------------+\n",
            "\n"
          ]
        }
      ]
    },
    {
      "cell_type": "code",
      "source": [
        "normalized_df= normalized_df.select(F.explode(F.arrays_zip(normalized_df.ner_chunk.result, \n",
        "                                                           normalized_df.mappings.result)).alias(\"col\"))\\\n",
        "                            .select(F.expr(\"col['0']\").alias(\"ner_chunk\"),\n",
        "                                    F.expr(\"col['1']\").alias(\"normalized_headers\")).toPandas()\n",
        "normalized_df.head()"
      ],
      "metadata": {
        "colab": {
          "base_uri": "https://localhost:8080/",
          "height": 143
        },
        "id": "W39fNYQiiQR-",
        "outputId": "1d507fd2-0d44-4f42-987a-c182ce05a345",
        "executionInfo": {
          "status": "ok",
          "timestamp": 1670179993000,
          "user_tz": -180,
          "elapsed": 1029,
          "user": {
            "displayName": "Gökhan TÜRER",
            "userId": "17886843627290606834"
          }
        }
      },
      "execution_count": null,
      "outputs": [
        {
          "output_type": "execute_result",
          "data": {
            "text/plain": [
              "             ner_chunk normalized_headers\n",
              "0  ADMISSION DIAGNOSIS          DIAGNOSIS\n",
              "1  PRINCIPAL DIAGNOSIS          DIAGNOSIS\n",
              "2    REVIEW OF SYSTEMS        REVIEW TYPE"
            ],
            "text/html": [
              "\n",
              "  <div id=\"df-ed8795b8-92e3-44b2-a216-31c33fc10010\">\n",
              "    <div class=\"colab-df-container\">\n",
              "      <div>\n",
              "<style scoped>\n",
              "    .dataframe tbody tr th:only-of-type {\n",
              "        vertical-align: middle;\n",
              "    }\n",
              "\n",
              "    .dataframe tbody tr th {\n",
              "        vertical-align: top;\n",
              "    }\n",
              "\n",
              "    .dataframe thead th {\n",
              "        text-align: right;\n",
              "    }\n",
              "</style>\n",
              "<table border=\"1\" class=\"dataframe\">\n",
              "  <thead>\n",
              "    <tr style=\"text-align: right;\">\n",
              "      <th></th>\n",
              "      <th>ner_chunk</th>\n",
              "      <th>normalized_headers</th>\n",
              "    </tr>\n",
              "  </thead>\n",
              "  <tbody>\n",
              "    <tr>\n",
              "      <th>0</th>\n",
              "      <td>ADMISSION DIAGNOSIS</td>\n",
              "      <td>DIAGNOSIS</td>\n",
              "    </tr>\n",
              "    <tr>\n",
              "      <th>1</th>\n",
              "      <td>PRINCIPAL DIAGNOSIS</td>\n",
              "      <td>DIAGNOSIS</td>\n",
              "    </tr>\n",
              "    <tr>\n",
              "      <th>2</th>\n",
              "      <td>REVIEW OF SYSTEMS</td>\n",
              "      <td>REVIEW TYPE</td>\n",
              "    </tr>\n",
              "  </tbody>\n",
              "</table>\n",
              "</div>\n",
              "      <button class=\"colab-df-convert\" onclick=\"convertToInteractive('df-ed8795b8-92e3-44b2-a216-31c33fc10010')\"\n",
              "              title=\"Convert this dataframe to an interactive table.\"\n",
              "              style=\"display:none;\">\n",
              "        \n",
              "  <svg xmlns=\"http://www.w3.org/2000/svg\" height=\"24px\"viewBox=\"0 0 24 24\"\n",
              "       width=\"24px\">\n",
              "    <path d=\"M0 0h24v24H0V0z\" fill=\"none\"/>\n",
              "    <path d=\"M18.56 5.44l.94 2.06.94-2.06 2.06-.94-2.06-.94-.94-2.06-.94 2.06-2.06.94zm-11 1L8.5 8.5l.94-2.06 2.06-.94-2.06-.94L8.5 2.5l-.94 2.06-2.06.94zm10 10l.94 2.06.94-2.06 2.06-.94-2.06-.94-.94-2.06-.94 2.06-2.06.94z\"/><path d=\"M17.41 7.96l-1.37-1.37c-.4-.4-.92-.59-1.43-.59-.52 0-1.04.2-1.43.59L10.3 9.45l-7.72 7.72c-.78.78-.78 2.05 0 2.83L4 21.41c.39.39.9.59 1.41.59.51 0 1.02-.2 1.41-.59l7.78-7.78 2.81-2.81c.8-.78.8-2.07 0-2.86zM5.41 20L4 18.59l7.72-7.72 1.47 1.35L5.41 20z\"/>\n",
              "  </svg>\n",
              "      </button>\n",
              "      \n",
              "  <style>\n",
              "    .colab-df-container {\n",
              "      display:flex;\n",
              "      flex-wrap:wrap;\n",
              "      gap: 12px;\n",
              "    }\n",
              "\n",
              "    .colab-df-convert {\n",
              "      background-color: #E8F0FE;\n",
              "      border: none;\n",
              "      border-radius: 50%;\n",
              "      cursor: pointer;\n",
              "      display: none;\n",
              "      fill: #1967D2;\n",
              "      height: 32px;\n",
              "      padding: 0 0 0 0;\n",
              "      width: 32px;\n",
              "    }\n",
              "\n",
              "    .colab-df-convert:hover {\n",
              "      background-color: #E2EBFA;\n",
              "      box-shadow: 0px 1px 2px rgba(60, 64, 67, 0.3), 0px 1px 3px 1px rgba(60, 64, 67, 0.15);\n",
              "      fill: #174EA6;\n",
              "    }\n",
              "\n",
              "    [theme=dark] .colab-df-convert {\n",
              "      background-color: #3B4455;\n",
              "      fill: #D2E3FC;\n",
              "    }\n",
              "\n",
              "    [theme=dark] .colab-df-convert:hover {\n",
              "      background-color: #434B5C;\n",
              "      box-shadow: 0px 1px 3px 1px rgba(0, 0, 0, 0.15);\n",
              "      filter: drop-shadow(0px 1px 2px rgba(0, 0, 0, 0.3));\n",
              "      fill: #FFFFFF;\n",
              "    }\n",
              "  </style>\n",
              "\n",
              "      <script>\n",
              "        const buttonEl =\n",
              "          document.querySelector('#df-ed8795b8-92e3-44b2-a216-31c33fc10010 button.colab-df-convert');\n",
              "        buttonEl.style.display =\n",
              "          google.colab.kernel.accessAllowed ? 'block' : 'none';\n",
              "\n",
              "        async function convertToInteractive(key) {\n",
              "          const element = document.querySelector('#df-ed8795b8-92e3-44b2-a216-31c33fc10010');\n",
              "          const dataTable =\n",
              "            await google.colab.kernel.invokeFunction('convertToInteractive',\n",
              "                                                     [key], {});\n",
              "          if (!dataTable) return;\n",
              "\n",
              "          const docLinkHtml = 'Like what you see? Visit the ' +\n",
              "            '<a target=\"_blank\" href=https://colab.research.google.com/notebooks/data_table.ipynb>data table notebook</a>'\n",
              "            + ' to learn more about interactive tables.';\n",
              "          element.innerHTML = '';\n",
              "          dataTable['output_type'] = 'display_data';\n",
              "          await google.colab.output.renderOutput(dataTable, element);\n",
              "          const docLink = document.createElement('div');\n",
              "          docLink.innerHTML = docLinkHtml;\n",
              "          element.appendChild(docLink);\n",
              "        }\n",
              "      </script>\n",
              "    </div>\n",
              "  </div>\n",
              "  "
            ]
          },
          "metadata": {},
          "execution_count": 61
        }
      ]
    },
    {
      "cell_type": "markdown",
      "source": [
        "Now, we have our normalized headers. We will merge it with `ChunkSentenceSplitter()` output"
      ],
      "metadata": {
        "id": "ZNYTXNAMKgl1"
      }
    },
    {
      "cell_type": "code",
      "source": [
        "normalized_df= normalized_df.rename(columns={\"ner_chunk\": \"splitter_chunk\"})\n",
        "df= pd.merge(result_df, normalized_df, on=[\"splitter_chunk\"])"
      ],
      "metadata": {
        "id": "84dbZufZ1f0a"
      },
      "execution_count": null,
      "outputs": []
    },
    {
      "cell_type": "code",
      "source": [
        "df"
      ],
      "metadata": {
        "colab": {
          "base_uri": "https://localhost:8080/",
          "height": 143
        },
        "id": "bSSafH2snO5j",
        "outputId": "7d96d40b-b963-435f-d79d-8d4df35cb9da",
        "executionInfo": {
          "status": "ok",
          "timestamp": 1670179993001,
          "user_tz": -180,
          "elapsed": 8,
          "user": {
            "displayName": "Gökhan TÜRER",
            "userId": "17886843627290606834"
          }
        }
      },
      "execution_count": null,
      "outputs": [
        {
          "output_type": "execute_result",
          "data": {
            "text/plain": [
              "                                                                                                                                  result  \\\n",
              "0                                             ADMISSION DIAGNOSIS Right pleural effusion and suspected malignant mesothelioma.\\n           \n",
              "1                                                PRINCIPAL DIAGNOSIS Right pleural effusion, suspected malignant mesothelioma.\\n           \n",
              "2  REVIEW OF SYSTEMS Right pleural effusion, firm nodules, diffuse scattered throughout the right pleura and diaphragmatic surface.\\n      \n",
              "\n",
              "   entity       splitter_chunk normalized_headers  \n",
              "0  Header  ADMISSION DIAGNOSIS          DIAGNOSIS  \n",
              "1  Header  PRINCIPAL DIAGNOSIS          DIAGNOSIS  \n",
              "2  Header    REVIEW OF SYSTEMS        REVIEW TYPE  "
            ],
            "text/html": [
              "\n",
              "  <div id=\"df-fc1896cc-124f-4391-adc8-067b791df41a\">\n",
              "    <div class=\"colab-df-container\">\n",
              "      <div>\n",
              "<style scoped>\n",
              "    .dataframe tbody tr th:only-of-type {\n",
              "        vertical-align: middle;\n",
              "    }\n",
              "\n",
              "    .dataframe tbody tr th {\n",
              "        vertical-align: top;\n",
              "    }\n",
              "\n",
              "    .dataframe thead th {\n",
              "        text-align: right;\n",
              "    }\n",
              "</style>\n",
              "<table border=\"1\" class=\"dataframe\">\n",
              "  <thead>\n",
              "    <tr style=\"text-align: right;\">\n",
              "      <th></th>\n",
              "      <th>result</th>\n",
              "      <th>entity</th>\n",
              "      <th>splitter_chunk</th>\n",
              "      <th>normalized_headers</th>\n",
              "    </tr>\n",
              "  </thead>\n",
              "  <tbody>\n",
              "    <tr>\n",
              "      <th>0</th>\n",
              "      <td>ADMISSION DIAGNOSIS Right pleural effusion and suspected malignant mesothelioma.\\n</td>\n",
              "      <td>Header</td>\n",
              "      <td>ADMISSION DIAGNOSIS</td>\n",
              "      <td>DIAGNOSIS</td>\n",
              "    </tr>\n",
              "    <tr>\n",
              "      <th>1</th>\n",
              "      <td>PRINCIPAL DIAGNOSIS Right pleural effusion, suspected malignant mesothelioma.\\n</td>\n",
              "      <td>Header</td>\n",
              "      <td>PRINCIPAL DIAGNOSIS</td>\n",
              "      <td>DIAGNOSIS</td>\n",
              "    </tr>\n",
              "    <tr>\n",
              "      <th>2</th>\n",
              "      <td>REVIEW OF SYSTEMS Right pleural effusion, firm nodules, diffuse scattered throughout the right pleura and diaphragmatic surface.\\n</td>\n",
              "      <td>Header</td>\n",
              "      <td>REVIEW OF SYSTEMS</td>\n",
              "      <td>REVIEW TYPE</td>\n",
              "    </tr>\n",
              "  </tbody>\n",
              "</table>\n",
              "</div>\n",
              "      <button class=\"colab-df-convert\" onclick=\"convertToInteractive('df-fc1896cc-124f-4391-adc8-067b791df41a')\"\n",
              "              title=\"Convert this dataframe to an interactive table.\"\n",
              "              style=\"display:none;\">\n",
              "        \n",
              "  <svg xmlns=\"http://www.w3.org/2000/svg\" height=\"24px\"viewBox=\"0 0 24 24\"\n",
              "       width=\"24px\">\n",
              "    <path d=\"M0 0h24v24H0V0z\" fill=\"none\"/>\n",
              "    <path d=\"M18.56 5.44l.94 2.06.94-2.06 2.06-.94-2.06-.94-.94-2.06-.94 2.06-2.06.94zm-11 1L8.5 8.5l.94-2.06 2.06-.94-2.06-.94L8.5 2.5l-.94 2.06-2.06.94zm10 10l.94 2.06.94-2.06 2.06-.94-2.06-.94-.94-2.06-.94 2.06-2.06.94z\"/><path d=\"M17.41 7.96l-1.37-1.37c-.4-.4-.92-.59-1.43-.59-.52 0-1.04.2-1.43.59L10.3 9.45l-7.72 7.72c-.78.78-.78 2.05 0 2.83L4 21.41c.39.39.9.59 1.41.59.51 0 1.02-.2 1.41-.59l7.78-7.78 2.81-2.81c.8-.78.8-2.07 0-2.86zM5.41 20L4 18.59l7.72-7.72 1.47 1.35L5.41 20z\"/>\n",
              "  </svg>\n",
              "      </button>\n",
              "      \n",
              "  <style>\n",
              "    .colab-df-container {\n",
              "      display:flex;\n",
              "      flex-wrap:wrap;\n",
              "      gap: 12px;\n",
              "    }\n",
              "\n",
              "    .colab-df-convert {\n",
              "      background-color: #E8F0FE;\n",
              "      border: none;\n",
              "      border-radius: 50%;\n",
              "      cursor: pointer;\n",
              "      display: none;\n",
              "      fill: #1967D2;\n",
              "      height: 32px;\n",
              "      padding: 0 0 0 0;\n",
              "      width: 32px;\n",
              "    }\n",
              "\n",
              "    .colab-df-convert:hover {\n",
              "      background-color: #E2EBFA;\n",
              "      box-shadow: 0px 1px 2px rgba(60, 64, 67, 0.3), 0px 1px 3px 1px rgba(60, 64, 67, 0.15);\n",
              "      fill: #174EA6;\n",
              "    }\n",
              "\n",
              "    [theme=dark] .colab-df-convert {\n",
              "      background-color: #3B4455;\n",
              "      fill: #D2E3FC;\n",
              "    }\n",
              "\n",
              "    [theme=dark] .colab-df-convert:hover {\n",
              "      background-color: #434B5C;\n",
              "      box-shadow: 0px 1px 3px 1px rgba(0, 0, 0, 0.15);\n",
              "      filter: drop-shadow(0px 1px 2px rgba(0, 0, 0, 0.3));\n",
              "      fill: #FFFFFF;\n",
              "    }\n",
              "  </style>\n",
              "\n",
              "      <script>\n",
              "        const buttonEl =\n",
              "          document.querySelector('#df-fc1896cc-124f-4391-adc8-067b791df41a button.colab-df-convert');\n",
              "        buttonEl.style.display =\n",
              "          google.colab.kernel.accessAllowed ? 'block' : 'none';\n",
              "\n",
              "        async function convertToInteractive(key) {\n",
              "          const element = document.querySelector('#df-fc1896cc-124f-4391-adc8-067b791df41a');\n",
              "          const dataTable =\n",
              "            await google.colab.kernel.invokeFunction('convertToInteractive',\n",
              "                                                     [key], {});\n",
              "          if (!dataTable) return;\n",
              "\n",
              "          const docLinkHtml = 'Like what you see? Visit the ' +\n",
              "            '<a target=\"_blank\" href=https://colab.research.google.com/notebooks/data_table.ipynb>data table notebook</a>'\n",
              "            + ' to learn more about interactive tables.';\n",
              "          element.innerHTML = '';\n",
              "          dataTable['output_type'] = 'display_data';\n",
              "          await google.colab.output.renderOutput(dataTable, element);\n",
              "          const docLink = document.createElement('div');\n",
              "          docLink.innerHTML = docLinkHtml;\n",
              "          element.appendChild(docLink);\n",
              "        }\n",
              "      </script>\n",
              "    </div>\n",
              "  </div>\n",
              "  "
            ]
          },
          "metadata": {},
          "execution_count": 63
        }
      ]
    },
    {
      "cell_type": "markdown",
      "source": [
        "Ultimately, we have splitted paragraphs, headers and normalized headers. "
      ],
      "metadata": {
        "id": "r2x7vehZL1zD"
      }
    },
    {
      "cell_type": "markdown",
      "source": [
        "# 5- Pretrained Mapper Pipelines\n",
        "\n",
        "We will show an example of `rxnorm_umls_mapping` pipeline here. But you can check [Healthcare Code Mapping Notebook](https://github.com/JohnSnowLabs/spark-nlp-workshop/blob/master/tutorials/Certification_Trainings/Healthcare/11.1.Healthcare_Code_Mapping.ipynb) for the examples of pretrained mapper pipelines. "
      ],
      "metadata": {
        "id": "kYQZjb7H4PAH"
      }
    },
    {
      "cell_type": "code",
      "source": [
        "from sparknlp.pretrained import PretrainedPipeline\n",
        "\n",
        "rxnorm_umls_pipeline= PretrainedPipeline(\"rxnorm_umls_mapping\", \"en\", \"clinical/models\")"
      ],
      "metadata": {
        "colab": {
          "base_uri": "https://localhost:8080/"
        },
        "id": "ZKz2nJtc4Mp1",
        "outputId": "94a4cf5a-c46f-4bda-bc8f-92aef30ca87d",
        "executionInfo": {
          "status": "ok",
          "timestamp": 1670180003983,
          "user_tz": -180,
          "elapsed": 10989,
          "user": {
            "displayName": "Gökhan TÜRER",
            "userId": "17886843627290606834"
          }
        }
      },
      "execution_count": null,
      "outputs": [
        {
          "output_type": "stream",
          "name": "stdout",
          "text": [
            "rxnorm_umls_mapping download started this may take some time.\n",
            "Approx size to download 1.8 MB\n",
            "[OK!]\n"
          ]
        }
      ]
    },
    {
      "cell_type": "code",
      "source": [
        "rxnorm_umls_pipeline.annotate(\"1161611 315677 343663\")"
      ],
      "metadata": {
        "colab": {
          "base_uri": "https://localhost:8080/"
        },
        "id": "vyFDnF2s4MeQ",
        "outputId": "42c113b7-ba85-465b-abdd-16e4f1fef719",
        "executionInfo": {
          "status": "ok",
          "timestamp": 1670180003984,
          "user_tz": -180,
          "elapsed": 14,
          "user": {
            "displayName": "Gökhan TÜRER",
            "userId": "17886843627290606834"
          }
        }
      },
      "execution_count": null,
      "outputs": [
        {
          "output_type": "execute_result",
          "data": {
            "text/plain": [
              "{'document': ['1161611 315677 343663'],\n",
              " 'rxnorm_code': ['1161611', '315677', '343663'],\n",
              " 'umls_code': ['C3215948', 'C0984912', 'C1146501']}"
            ]
          },
          "metadata": {},
          "execution_count": 65
        }
      ]
    },
    {
      "cell_type": "markdown",
      "source": [
        "|**RxNorm Code** | **RxNorm Details** | **UMLS Code** | **UMLS Details** |\n",
        "| ---------- | -----------:| ---------- | -----------:|\n",
        "| 1161611 |  metformin Pill | C3215948 | metformin pill |\n",
        "| 315677 | cimetidine 100 mg | C0984912 | cimetidine 100 mg |\n",
        "| 343663 | insulin lispro 50 UNT/ML | C1146501 | insulin lispro 50 unt/ml |"
      ],
      "metadata": {
        "id": "Fl3nevsU--Pi"
      }
    }
  ]
}

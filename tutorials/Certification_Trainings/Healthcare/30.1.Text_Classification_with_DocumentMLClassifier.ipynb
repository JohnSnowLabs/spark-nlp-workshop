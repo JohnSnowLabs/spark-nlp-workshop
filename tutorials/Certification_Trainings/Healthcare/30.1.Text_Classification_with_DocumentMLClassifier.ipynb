{
  "cells": [
    {
      "cell_type": "markdown",
      "metadata": {
        "id": "TO8q_MaBGXIj"
      },
      "source": [
        "![JohnSnowLabs](https://nlp.johnsnowlabs.com/assets/images/logo.png)"
      ]
    },
    {
      "cell_type": "markdown",
      "metadata": {
        "id": "LqXVbTkvGXFm"
      },
      "source": [
        "[![Open In Colab](https://colab.research.google.com/assets/colab-badge.svg)](https://colab.research.google.com/github/JohnSnowLabs/spark-nlp-workshop/blob/master/tutorials/Certification_Trainings/Healthcare/30.1.Text_Classification_with_DocumentMLClassifier.ipynb)"
      ]
    },
    {
      "cell_type": "markdown",
      "metadata": {
        "id": "-eVBtKFpGfk1"
      },
      "source": [
        "# 30.1 Text Classification with DocumentMLClassifier"
      ]
    },
    {
      "cell_type": "markdown",
      "metadata": {
        "id": "T70JAFhuB_hY"
      },
      "source": [
        "## Colab Setup"
      ]
    },
    {
      "cell_type": "code",
      "execution_count": 1,
      "metadata": {
        "id": "MRTflinqmhKL",
        "vscode": {
          "languageId": "python"
        }
      },
      "outputs": [],
      "source": [
        "import json\n",
        "import os\n",
        "\n",
        "from google.colab import files\n",
        "\n",
        "if 'spark_jsl.json' not in os.listdir():\n",
        "  license_keys = files.upload()\n",
        "  os.rename(list(license_keys.keys())[0], 'spark_jsl.json')\n",
        "\n",
        "with open('spark_jsl.json') as f:\n",
        "    license_keys = json.load(f)\n",
        "\n",
        "# Defining license key-value pairs as local variables\n",
        "locals().update(license_keys)\n",
        "os.environ.update(license_keys)"
      ]
    },
    {
      "cell_type": "code",
      "execution_count": null,
      "metadata": {
        "colab": {
          "base_uri": "https://localhost:8080/"
        },
        "id": "LOdhMuyDmwGh",
        "outputId": "c3ae4560-b84d-424c-ead6-28804db226c6",
        "vscode": {
          "languageId": "python"
        }
      },
      "outputs": [],
      "source": [
        "# Installing pyspark and spark-nlp\n",
        "%pip install --upgrade -q pyspark==3.2.1 spark-nlp==$PUBLIC_VERSION\n",
        "\n",
        "# Installing Spark NLP Healthcare\n",
        "%pip install --upgrade -q spark-nlp-jsl==$JSL_VERSION  --extra-index-url https://pypi.johnsnowlabs.com/$SECRET"
      ]
    },
    {
      "cell_type": "code",
      "execution_count": null,
      "metadata": {
        "colab": {
          "base_uri": "https://localhost:8080/",
          "height": 254
        },
        "id": "_em57ItxLnJm",
        "outputId": "2b50702d-1ac4-4fed-9752-3db5a6cb2de7",
        "vscode": {
          "languageId": "python"
        }
      },
      "outputs": [],
      "source": [
        "import pandas as pd\n",
        "from sklearn.metrics import confusion_matrix, classification_report, accuracy_score\n",
        "\n",
        "from pyspark.ml import Pipeline,PipelineModel\n",
        "from pyspark.sql import SparkSession\n",
        "\n",
        "from sparknlp.annotator import *\n",
        "from sparknlp_jsl.annotator import *\n",
        "from sparknlp_jsl.base import *\n",
        "from sparknlp.base import *\n",
        "import sparknlp_jsl\n",
        "import sparknlp\n",
        "\n",
        "import warnings\n",
        "warnings.filterwarnings('ignore')\n",
        "\n",
        "params = {\"spark.driver.memory\":\"12G\", \n",
        "          \"spark.kryoserializer.buffer.max\":\"2000M\", \n",
        "          \"spark.driver.maxResultSize\":\"2000M\"} \n",
        "\n",
        "print (\"Spark NLP Version :\", sparknlp.version())\n",
        "print (\"Spark NLP_JSL Version :\", sparknlp_jsl.version())\n",
        "\n",
        "spark = sparknlp_jsl.start(license_keys['SECRET'],params=params)\n",
        "\n",
        "spark"
      ]
    },
    {
      "cell_type": "markdown",
      "metadata": {
        "id": "V9VJxCgQDbci"
      },
      "source": [
        "## Load ADE Classification Dataset"
      ]
    },
    {
      "cell_type": "code",
      "execution_count": 4,
      "metadata": {
        "id": "hItCL5OYilb-",
        "vscode": {
          "languageId": "python"
        }
      },
      "outputs": [],
      "source": [
        "#downloading sample datasets\n",
        "!wget -q https://raw.githubusercontent.com/JohnSnowLabs/spark-nlp-workshop/master/tutorials/Certification_Trainings/Healthcare/data/ADE_Corpus_V2/ADE-NEG.txt\n",
        "!wget -q https://raw.githubusercontent.com/JohnSnowLabs/spark-nlp-workshop/master/tutorials/Certification_Trainings/Healthcare/data/ADE_Corpus_V2/DRUG-AE.rel"
      ]
    },
    {
      "cell_type": "markdown",
      "metadata": {
        "id": "CcjKu0_XrfLy"
      },
      "source": [
        "**ADE-Negative Dataset**"
      ]
    },
    {
      "cell_type": "code",
      "execution_count": 5,
      "metadata": {
        "colab": {
          "base_uri": "https://localhost:8080/",
          "height": 206
        },
        "id": "Y8bRpYvWilZB",
        "outputId": "462ac5e2-5e50-410a-dbea-74ec65d65544",
        "vscode": {
          "languageId": "python"
        }
      },
      "outputs": [
        {
          "data": {
            "text/html": [
              "\n",
              "  <div id=\"df-daec6182-5daa-4620-8bc7-f39f1c16eb37\">\n",
              "    <div class=\"colab-df-container\">\n",
              "      <div>\n",
              "<style scoped>\n",
              "    .dataframe tbody tr th:only-of-type {\n",
              "        vertical-align: middle;\n",
              "    }\n",
              "\n",
              "    .dataframe tbody tr th {\n",
              "        vertical-align: top;\n",
              "    }\n",
              "\n",
              "    .dataframe thead th {\n",
              "        text-align: right;\n",
              "    }\n",
              "</style>\n",
              "<table border=\"1\" class=\"dataframe\">\n",
              "  <thead>\n",
              "    <tr style=\"text-align: right;\">\n",
              "      <th></th>\n",
              "      <th>text</th>\n",
              "      <th>category</th>\n",
              "    </tr>\n",
              "  </thead>\n",
              "  <tbody>\n",
              "    <tr>\n",
              "      <th>0</th>\n",
              "      <td>Clioquinol intoxication occurring in the trea...</td>\n",
              "      <td>neg</td>\n",
              "    </tr>\n",
              "    <tr>\n",
              "      <th>1</th>\n",
              "      <td>\"Retinoic acid syndrome\" was prevented with s...</td>\n",
              "      <td>neg</td>\n",
              "    </tr>\n",
              "    <tr>\n",
              "      <th>2</th>\n",
              "      <td>BACKGROUND: External beam radiation therapy o...</td>\n",
              "      <td>neg</td>\n",
              "    </tr>\n",
              "    <tr>\n",
              "      <th>3</th>\n",
              "      <td>Although the enuresis ceased, she developed t...</td>\n",
              "      <td>neg</td>\n",
              "    </tr>\n",
              "    <tr>\n",
              "      <th>4</th>\n",
              "      <td>A 42-year-old woman had uneventful bilateral ...</td>\n",
              "      <td>neg</td>\n",
              "    </tr>\n",
              "  </tbody>\n",
              "</table>\n",
              "</div>\n",
              "      <button class=\"colab-df-convert\" onclick=\"convertToInteractive('df-daec6182-5daa-4620-8bc7-f39f1c16eb37')\"\n",
              "              title=\"Convert this dataframe to an interactive table.\"\n",
              "              style=\"display:none;\">\n",
              "        \n",
              "  <svg xmlns=\"http://www.w3.org/2000/svg\" height=\"24px\"viewBox=\"0 0 24 24\"\n",
              "       width=\"24px\">\n",
              "    <path d=\"M0 0h24v24H0V0z\" fill=\"none\"/>\n",
              "    <path d=\"M18.56 5.44l.94 2.06.94-2.06 2.06-.94-2.06-.94-.94-2.06-.94 2.06-2.06.94zm-11 1L8.5 8.5l.94-2.06 2.06-.94-2.06-.94L8.5 2.5l-.94 2.06-2.06.94zm10 10l.94 2.06.94-2.06 2.06-.94-2.06-.94-.94-2.06-.94 2.06-2.06.94z\"/><path d=\"M17.41 7.96l-1.37-1.37c-.4-.4-.92-.59-1.43-.59-.52 0-1.04.2-1.43.59L10.3 9.45l-7.72 7.72c-.78.78-.78 2.05 0 2.83L4 21.41c.39.39.9.59 1.41.59.51 0 1.02-.2 1.41-.59l7.78-7.78 2.81-2.81c.8-.78.8-2.07 0-2.86zM5.41 20L4 18.59l7.72-7.72 1.47 1.35L5.41 20z\"/>\n",
              "  </svg>\n",
              "      </button>\n",
              "      \n",
              "  <style>\n",
              "    .colab-df-container {\n",
              "      display:flex;\n",
              "      flex-wrap:wrap;\n",
              "      gap: 12px;\n",
              "    }\n",
              "\n",
              "    .colab-df-convert {\n",
              "      background-color: #E8F0FE;\n",
              "      border: none;\n",
              "      border-radius: 50%;\n",
              "      cursor: pointer;\n",
              "      display: none;\n",
              "      fill: #1967D2;\n",
              "      height: 32px;\n",
              "      padding: 0 0 0 0;\n",
              "      width: 32px;\n",
              "    }\n",
              "\n",
              "    .colab-df-convert:hover {\n",
              "      background-color: #E2EBFA;\n",
              "      box-shadow: 0px 1px 2px rgba(60, 64, 67, 0.3), 0px 1px 3px 1px rgba(60, 64, 67, 0.15);\n",
              "      fill: #174EA6;\n",
              "    }\n",
              "\n",
              "    [theme=dark] .colab-df-convert {\n",
              "      background-color: #3B4455;\n",
              "      fill: #D2E3FC;\n",
              "    }\n",
              "\n",
              "    [theme=dark] .colab-df-convert:hover {\n",
              "      background-color: #434B5C;\n",
              "      box-shadow: 0px 1px 3px 1px rgba(0, 0, 0, 0.15);\n",
              "      filter: drop-shadow(0px 1px 2px rgba(0, 0, 0, 0.3));\n",
              "      fill: #FFFFFF;\n",
              "    }\n",
              "  </style>\n",
              "\n",
              "      <script>\n",
              "        const buttonEl =\n",
              "          document.querySelector('#df-daec6182-5daa-4620-8bc7-f39f1c16eb37 button.colab-df-convert');\n",
              "        buttonEl.style.display =\n",
              "          google.colab.kernel.accessAllowed ? 'block' : 'none';\n",
              "\n",
              "        async function convertToInteractive(key) {\n",
              "          const element = document.querySelector('#df-daec6182-5daa-4620-8bc7-f39f1c16eb37');\n",
              "          const dataTable =\n",
              "            await google.colab.kernel.invokeFunction('convertToInteractive',\n",
              "                                                     [key], {});\n",
              "          if (!dataTable) return;\n",
              "\n",
              "          const docLinkHtml = 'Like what you see? Visit the ' +\n",
              "            '<a target=\"_blank\" href=https://colab.research.google.com/notebooks/data_table.ipynb>data table notebook</a>'\n",
              "            + ' to learn more about interactive tables.';\n",
              "          element.innerHTML = '';\n",
              "          dataTable['output_type'] = 'display_data';\n",
              "          await google.colab.output.renderOutput(dataTable, element);\n",
              "          const docLink = document.createElement('div');\n",
              "          docLink.innerHTML = docLinkHtml;\n",
              "          element.appendChild(docLink);\n",
              "        }\n",
              "      </script>\n",
              "    </div>\n",
              "  </div>\n",
              "  "
            ],
            "text/plain": [
              "                                                text category\n",
              "0   Clioquinol intoxication occurring in the trea...      neg\n",
              "1   \"Retinoic acid syndrome\" was prevented with s...      neg\n",
              "2   BACKGROUND: External beam radiation therapy o...      neg\n",
              "3   Although the enuresis ceased, she developed t...      neg\n",
              "4   A 42-year-old woman had uneventful bilateral ...      neg"
            ]
          },
          "execution_count": 5,
          "metadata": {},
          "output_type": "execute_result"
        }
      ],
      "source": [
        "df_neg= pd.read_csv(\"ADE-NEG.txt\", header=None, delimiter=\"\\t\", names=[\"col1\"])\n",
        "df_neg['text'] =  df_neg.col1.str.split('NEG').str[1]\n",
        "df_neg[\"category\"] = \"neg\"\n",
        "df_neg= df_neg[[\"text\", \"category\"]]\n",
        "df_neg.head()"
      ]
    },
    {
      "cell_type": "markdown",
      "metadata": {
        "id": "gzu9ELiirkMf"
      },
      "source": [
        "**ADE-Positive Dataset**"
      ]
    },
    {
      "cell_type": "code",
      "execution_count": 6,
      "metadata": {
        "colab": {
          "base_uri": "https://localhost:8080/",
          "height": 206
        },
        "id": "F4Y20JbRqcLP",
        "outputId": "c4b0bb97-8b0e-49f4-9439-2aecaa32baae",
        "vscode": {
          "languageId": "python"
        }
      },
      "outputs": [
        {
          "data": {
            "text/html": [
              "\n",
              "  <div id=\"df-47a2ff8b-a3e6-46c0-be69-98da25724307\">\n",
              "    <div class=\"colab-df-container\">\n",
              "      <div>\n",
              "<style scoped>\n",
              "    .dataframe tbody tr th:only-of-type {\n",
              "        vertical-align: middle;\n",
              "    }\n",
              "\n",
              "    .dataframe tbody tr th {\n",
              "        vertical-align: top;\n",
              "    }\n",
              "\n",
              "    .dataframe thead th {\n",
              "        text-align: right;\n",
              "    }\n",
              "</style>\n",
              "<table border=\"1\" class=\"dataframe\">\n",
              "  <thead>\n",
              "    <tr style=\"text-align: right;\">\n",
              "      <th></th>\n",
              "      <th>text</th>\n",
              "      <th>category</th>\n",
              "    </tr>\n",
              "  </thead>\n",
              "  <tbody>\n",
              "    <tr>\n",
              "      <th>0</th>\n",
              "      <td>Intravenous azithromycin-induced ototoxicity.</td>\n",
              "      <td>pos</td>\n",
              "    </tr>\n",
              "    <tr>\n",
              "      <th>1</th>\n",
              "      <td>Immobilization, while Paget's bone disease was...</td>\n",
              "      <td>pos</td>\n",
              "    </tr>\n",
              "    <tr>\n",
              "      <th>2</th>\n",
              "      <td>Unaccountable severe hypercalcemia in a patien...</td>\n",
              "      <td>pos</td>\n",
              "    </tr>\n",
              "    <tr>\n",
              "      <th>3</th>\n",
              "      <td>METHODS: We report two cases of pseudoporphyri...</td>\n",
              "      <td>pos</td>\n",
              "    </tr>\n",
              "    <tr>\n",
              "      <th>4</th>\n",
              "      <td>METHODS: We report two cases of pseudoporphyri...</td>\n",
              "      <td>pos</td>\n",
              "    </tr>\n",
              "  </tbody>\n",
              "</table>\n",
              "</div>\n",
              "      <button class=\"colab-df-convert\" onclick=\"convertToInteractive('df-47a2ff8b-a3e6-46c0-be69-98da25724307')\"\n",
              "              title=\"Convert this dataframe to an interactive table.\"\n",
              "              style=\"display:none;\">\n",
              "        \n",
              "  <svg xmlns=\"http://www.w3.org/2000/svg\" height=\"24px\"viewBox=\"0 0 24 24\"\n",
              "       width=\"24px\">\n",
              "    <path d=\"M0 0h24v24H0V0z\" fill=\"none\"/>\n",
              "    <path d=\"M18.56 5.44l.94 2.06.94-2.06 2.06-.94-2.06-.94-.94-2.06-.94 2.06-2.06.94zm-11 1L8.5 8.5l.94-2.06 2.06-.94-2.06-.94L8.5 2.5l-.94 2.06-2.06.94zm10 10l.94 2.06.94-2.06 2.06-.94-2.06-.94-.94-2.06-.94 2.06-2.06.94z\"/><path d=\"M17.41 7.96l-1.37-1.37c-.4-.4-.92-.59-1.43-.59-.52 0-1.04.2-1.43.59L10.3 9.45l-7.72 7.72c-.78.78-.78 2.05 0 2.83L4 21.41c.39.39.9.59 1.41.59.51 0 1.02-.2 1.41-.59l7.78-7.78 2.81-2.81c.8-.78.8-2.07 0-2.86zM5.41 20L4 18.59l7.72-7.72 1.47 1.35L5.41 20z\"/>\n",
              "  </svg>\n",
              "      </button>\n",
              "      \n",
              "  <style>\n",
              "    .colab-df-container {\n",
              "      display:flex;\n",
              "      flex-wrap:wrap;\n",
              "      gap: 12px;\n",
              "    }\n",
              "\n",
              "    .colab-df-convert {\n",
              "      background-color: #E8F0FE;\n",
              "      border: none;\n",
              "      border-radius: 50%;\n",
              "      cursor: pointer;\n",
              "      display: none;\n",
              "      fill: #1967D2;\n",
              "      height: 32px;\n",
              "      padding: 0 0 0 0;\n",
              "      width: 32px;\n",
              "    }\n",
              "\n",
              "    .colab-df-convert:hover {\n",
              "      background-color: #E2EBFA;\n",
              "      box-shadow: 0px 1px 2px rgba(60, 64, 67, 0.3), 0px 1px 3px 1px rgba(60, 64, 67, 0.15);\n",
              "      fill: #174EA6;\n",
              "    }\n",
              "\n",
              "    [theme=dark] .colab-df-convert {\n",
              "      background-color: #3B4455;\n",
              "      fill: #D2E3FC;\n",
              "    }\n",
              "\n",
              "    [theme=dark] .colab-df-convert:hover {\n",
              "      background-color: #434B5C;\n",
              "      box-shadow: 0px 1px 3px 1px rgba(0, 0, 0, 0.15);\n",
              "      filter: drop-shadow(0px 1px 2px rgba(0, 0, 0, 0.3));\n",
              "      fill: #FFFFFF;\n",
              "    }\n",
              "  </style>\n",
              "\n",
              "      <script>\n",
              "        const buttonEl =\n",
              "          document.querySelector('#df-47a2ff8b-a3e6-46c0-be69-98da25724307 button.colab-df-convert');\n",
              "        buttonEl.style.display =\n",
              "          google.colab.kernel.accessAllowed ? 'block' : 'none';\n",
              "\n",
              "        async function convertToInteractive(key) {\n",
              "          const element = document.querySelector('#df-47a2ff8b-a3e6-46c0-be69-98da25724307');\n",
              "          const dataTable =\n",
              "            await google.colab.kernel.invokeFunction('convertToInteractive',\n",
              "                                                     [key], {});\n",
              "          if (!dataTable) return;\n",
              "\n",
              "          const docLinkHtml = 'Like what you see? Visit the ' +\n",
              "            '<a target=\"_blank\" href=https://colab.research.google.com/notebooks/data_table.ipynb>data table notebook</a>'\n",
              "            + ' to learn more about interactive tables.';\n",
              "          element.innerHTML = '';\n",
              "          dataTable['output_type'] = 'display_data';\n",
              "          await google.colab.output.renderOutput(dataTable, element);\n",
              "          const docLink = document.createElement('div');\n",
              "          docLink.innerHTML = docLinkHtml;\n",
              "          element.appendChild(docLink);\n",
              "        }\n",
              "      </script>\n",
              "    </div>\n",
              "  </div>\n",
              "  "
            ],
            "text/plain": [
              "                                                text category\n",
              "0      Intravenous azithromycin-induced ototoxicity.      pos\n",
              "1  Immobilization, while Paget's bone disease was...      pos\n",
              "2  Unaccountable severe hypercalcemia in a patien...      pos\n",
              "3  METHODS: We report two cases of pseudoporphyri...      pos\n",
              "4  METHODS: We report two cases of pseudoporphyri...      pos"
            ]
          },
          "execution_count": 6,
          "metadata": {},
          "output_type": "execute_result"
        }
      ],
      "source": [
        "df_pos= pd.read_csv(\"DRUG-AE.rel\", header=None, delimiter=\"|\")\n",
        "df_pos[\"category\"]= \"pos\"\n",
        "df_pos.rename(columns={1: \"text\"}, inplace=True)\n",
        "df_pos= df_pos[[\"text\", \"category\"]]\n",
        "df_pos.head()"
      ]
    },
    {
      "cell_type": "markdown",
      "metadata": {
        "id": "V2iOoomSwTeH"
      },
      "source": [
        "**Merging positive and negative datasets**"
      ]
    },
    {
      "cell_type": "code",
      "execution_count": 19,
      "metadata": {
        "colab": {
          "base_uri": "https://localhost:8080/",
          "height": 206
        },
        "id": "3ju23pYJrcxT",
        "outputId": "4d01c8e9-f99e-4a7a-d88d-42c192dc5a06",
        "vscode": {
          "languageId": "python"
        }
      },
      "outputs": [
        {
          "data": {
            "text/html": [
              "\n",
              "  <div id=\"df-75f5e3fd-e535-4a1e-8b13-c8232160c2ab\">\n",
              "    <div class=\"colab-df-container\">\n",
              "      <div>\n",
              "<style scoped>\n",
              "    .dataframe tbody tr th:only-of-type {\n",
              "        vertical-align: middle;\n",
              "    }\n",
              "\n",
              "    .dataframe tbody tr th {\n",
              "        vertical-align: top;\n",
              "    }\n",
              "\n",
              "    .dataframe thead th {\n",
              "        text-align: right;\n",
              "    }\n",
              "</style>\n",
              "<table border=\"1\" class=\"dataframe\">\n",
              "  <thead>\n",
              "    <tr style=\"text-align: right;\">\n",
              "      <th></th>\n",
              "      <th>text</th>\n",
              "      <th>category</th>\n",
              "    </tr>\n",
              "  </thead>\n",
              "  <tbody>\n",
              "    <tr>\n",
              "      <th>15895</th>\n",
              "      <td>It has relatively weak effects on norepinephr...</td>\n",
              "      <td>neg</td>\n",
              "    </tr>\n",
              "    <tr>\n",
              "      <th>4329</th>\n",
              "      <td>The pharmacology and toxicology of chloral hyd...</td>\n",
              "      <td>pos</td>\n",
              "    </tr>\n",
              "    <tr>\n",
              "      <th>15083</th>\n",
              "      <td>This study provides a review of the medical l...</td>\n",
              "      <td>neg</td>\n",
              "    </tr>\n",
              "    <tr>\n",
              "      <th>1180</th>\n",
              "      <td>We describe a case of SCC in vitiligo lesion ...</td>\n",
              "      <td>neg</td>\n",
              "    </tr>\n",
              "    <tr>\n",
              "      <th>4110</th>\n",
              "      <td>We describe six patients who developed tardive...</td>\n",
              "      <td>pos</td>\n",
              "    </tr>\n",
              "  </tbody>\n",
              "</table>\n",
              "</div>\n",
              "      <button class=\"colab-df-convert\" onclick=\"convertToInteractive('df-75f5e3fd-e535-4a1e-8b13-c8232160c2ab')\"\n",
              "              title=\"Convert this dataframe to an interactive table.\"\n",
              "              style=\"display:none;\">\n",
              "        \n",
              "  <svg xmlns=\"http://www.w3.org/2000/svg\" height=\"24px\"viewBox=\"0 0 24 24\"\n",
              "       width=\"24px\">\n",
              "    <path d=\"M0 0h24v24H0V0z\" fill=\"none\"/>\n",
              "    <path d=\"M18.56 5.44l.94 2.06.94-2.06 2.06-.94-2.06-.94-.94-2.06-.94 2.06-2.06.94zm-11 1L8.5 8.5l.94-2.06 2.06-.94-2.06-.94L8.5 2.5l-.94 2.06-2.06.94zm10 10l.94 2.06.94-2.06 2.06-.94-2.06-.94-.94-2.06-.94 2.06-2.06.94z\"/><path d=\"M17.41 7.96l-1.37-1.37c-.4-.4-.92-.59-1.43-.59-.52 0-1.04.2-1.43.59L10.3 9.45l-7.72 7.72c-.78.78-.78 2.05 0 2.83L4 21.41c.39.39.9.59 1.41.59.51 0 1.02-.2 1.41-.59l7.78-7.78 2.81-2.81c.8-.78.8-2.07 0-2.86zM5.41 20L4 18.59l7.72-7.72 1.47 1.35L5.41 20z\"/>\n",
              "  </svg>\n",
              "      </button>\n",
              "      \n",
              "  <style>\n",
              "    .colab-df-container {\n",
              "      display:flex;\n",
              "      flex-wrap:wrap;\n",
              "      gap: 12px;\n",
              "    }\n",
              "\n",
              "    .colab-df-convert {\n",
              "      background-color: #E8F0FE;\n",
              "      border: none;\n",
              "      border-radius: 50%;\n",
              "      cursor: pointer;\n",
              "      display: none;\n",
              "      fill: #1967D2;\n",
              "      height: 32px;\n",
              "      padding: 0 0 0 0;\n",
              "      width: 32px;\n",
              "    }\n",
              "\n",
              "    .colab-df-convert:hover {\n",
              "      background-color: #E2EBFA;\n",
              "      box-shadow: 0px 1px 2px rgba(60, 64, 67, 0.3), 0px 1px 3px 1px rgba(60, 64, 67, 0.15);\n",
              "      fill: #174EA6;\n",
              "    }\n",
              "\n",
              "    [theme=dark] .colab-df-convert {\n",
              "      background-color: #3B4455;\n",
              "      fill: #D2E3FC;\n",
              "    }\n",
              "\n",
              "    [theme=dark] .colab-df-convert:hover {\n",
              "      background-color: #434B5C;\n",
              "      box-shadow: 0px 1px 3px 1px rgba(0, 0, 0, 0.15);\n",
              "      filter: drop-shadow(0px 1px 2px rgba(0, 0, 0, 0.3));\n",
              "      fill: #FFFFFF;\n",
              "    }\n",
              "  </style>\n",
              "\n",
              "      <script>\n",
              "        const buttonEl =\n",
              "          document.querySelector('#df-75f5e3fd-e535-4a1e-8b13-c8232160c2ab button.colab-df-convert');\n",
              "        buttonEl.style.display =\n",
              "          google.colab.kernel.accessAllowed ? 'block' : 'none';\n",
              "\n",
              "        async function convertToInteractive(key) {\n",
              "          const element = document.querySelector('#df-75f5e3fd-e535-4a1e-8b13-c8232160c2ab');\n",
              "          const dataTable =\n",
              "            await google.colab.kernel.invokeFunction('convertToInteractive',\n",
              "                                                     [key], {});\n",
              "          if (!dataTable) return;\n",
              "\n",
              "          const docLinkHtml = 'Like what you see? Visit the ' +\n",
              "            '<a target=\"_blank\" href=https://colab.research.google.com/notebooks/data_table.ipynb>data table notebook</a>'\n",
              "            + ' to learn more about interactive tables.';\n",
              "          element.innerHTML = '';\n",
              "          dataTable['output_type'] = 'display_data';\n",
              "          await google.colab.output.renderOutput(dataTable, element);\n",
              "          const docLink = document.createElement('div');\n",
              "          docLink.innerHTML = docLinkHtml;\n",
              "          element.appendChild(docLink);\n",
              "        }\n",
              "      </script>\n",
              "    </div>\n",
              "  </div>\n",
              "  "
            ],
            "text/plain": [
              "                                                    text category\n",
              "15895   It has relatively weak effects on norepinephr...      neg\n",
              "4329   The pharmacology and toxicology of chloral hyd...      pos\n",
              "15083   This study provides a review of the medical l...      neg\n",
              "1180    We describe a case of SCC in vitiligo lesion ...      neg\n",
              "4110   We describe six patients who developed tardive...      pos"
            ]
          },
          "execution_count": 19,
          "metadata": {},
          "output_type": "execute_result"
        }
      ],
      "source": [
        "ade_df= pd.concat([df_neg, df_pos]).sample(frac=1) #merge and shuffle the data\n",
        "ade_df.head()"
      ]
    },
    {
      "cell_type": "code",
      "execution_count": 20,
      "metadata": {
        "colab": {
          "base_uri": "https://localhost:8080/"
        },
        "id": "Lg_RjRi1lFUa",
        "outputId": "0c917528-a36e-473a-acd1-71aa9f40ae08",
        "vscode": {
          "languageId": "python"
        }
      },
      "outputs": [
        {
          "data": {
            "text/plain": [
              "neg    16695\n",
              "pos     6821\n",
              "Name: category, dtype: int64"
            ]
          },
          "execution_count": 20,
          "metadata": {},
          "output_type": "execute_result"
        }
      ],
      "source": [
        "ade_df[\"category\"].value_counts()"
      ]
    },
    {
      "cell_type": "code",
      "execution_count": 21,
      "metadata": {
        "colab": {
          "base_uri": "https://localhost:8080/"
        },
        "id": "wMWdhHvjzGRp",
        "outputId": "536185c0-5588-40a3-f316-a8384a243be6",
        "vscode": {
          "languageId": "python"
        }
      },
      "outputs": [
        {
          "name": "stdout",
          "output_type": "stream",
          "text": [
            "<class 'pandas.core.frame.DataFrame'>\n",
            "Int64Index: 23516 entries, 15895 to 414\n",
            "Data columns (total 2 columns):\n",
            " #   Column    Non-Null Count  Dtype \n",
            "---  ------    --------------  ----- \n",
            " 0   text      23516 non-null  object\n",
            " 1   category  23516 non-null  object\n",
            "dtypes: object(2)\n",
            "memory usage: 551.2+ KB\n"
          ]
        }
      ],
      "source": [
        "ade_df.info()"
      ]
    },
    {
      "cell_type": "code",
      "execution_count": 22,
      "metadata": {
        "colab": {
          "base_uri": "https://localhost:8080/"
        },
        "id": "54RWnCr0yWL5",
        "outputId": "7363097c-ddc6-4ebf-c2ae-263de50c3098",
        "vscode": {
          "languageId": "python"
        }
      },
      "outputs": [
        {
          "data": {
            "text/plain": [
              "[Row(text=' It has relatively weak effects on norepinephrine and serotonin reuptake but possesses significant dopamine agonist and reuptake blocking effects.', category='neg'),\n",
              " Row(text='The pharmacology and toxicology of chloral hydrate are discussed with particular reference to the cardiac arrhythmias that are seen with overdosage.', category='pos'),\n",
              " Row(text=' This study provides a review of the medical literature and presents the intralesional injection technique of 0.1% bleomycin into the wart tissue itself.', category='neg')]"
            ]
          },
          "execution_count": 22,
          "metadata": {},
          "output_type": "execute_result"
        }
      ],
      "source": [
        "spark_df = spark.createDataFrame(ade_df)\n",
        "spark_df.head(3)"
      ]
    },
    {
      "cell_type": "code",
      "execution_count": 23,
      "metadata": {
        "colab": {
          "base_uri": "https://localhost:8080/"
        },
        "id": "c3nAmtMmcu_q",
        "outputId": "e4dfcc79-44b1-4932-c218-7f22ade73bac",
        "vscode": {
          "languageId": "python"
        }
      },
      "outputs": [
        {
          "name": "stdout",
          "output_type": "stream",
          "text": [
            "+--------+-----+\n",
            "|category|count|\n",
            "+--------+-----+\n",
            "|     pos| 6821|\n",
            "|     neg|16695|\n",
            "+--------+-----+\n",
            "\n",
            "root\n",
            " |-- text: string (nullable = true)\n",
            " |-- category: string (nullable = true)\n",
            "\n"
          ]
        }
      ],
      "source": [
        "spark_df.groupBy(\"category\").count().show()\n",
        "spark_df.printSchema()"
      ]
    },
    {
      "cell_type": "markdown",
      "metadata": {
        "id": "xBWKzYH3HivV"
      },
      "source": [
        "**Get train & test set**"
      ]
    },
    {
      "cell_type": "code",
      "execution_count": 24,
      "metadata": {
        "colab": {
          "base_uri": "https://localhost:8080/"
        },
        "id": "cznI4KMh9sbU",
        "outputId": "9b920f75-098d-41e9-989c-cef2893804cc",
        "vscode": {
          "languageId": "python"
        }
      },
      "outputs": [
        {
          "name": "stdout",
          "output_type": "stream",
          "text": [
            "Train Dataset Count: 18855\n",
            "Test Dataset Count: 4661\n"
          ]
        }
      ],
      "source": [
        "train_data, test_data = spark_df.randomSplit([0.8, 0.2], seed = 100)\n",
        "\n",
        "print(\"Train Dataset Count: \" + str(train_data.count()))\n",
        "print(\"Test Dataset Count: \" + str(test_data.count()))"
      ]
    },
    {
      "cell_type": "markdown",
      "metadata": {
        "id": "T6CCBdkIAqcN"
      },
      "source": [
        "## DocumentMLClassifier with Linear SVM"
      ]
    },
    {
      "cell_type": "markdown",
      "metadata": {
        "id": "VfRDGnFKHolU"
      },
      "source": [
        "The below pipeline uses the SVM classifier of `DocumentMLClassifier` with setting `setClassificationModelClass(\"svm\")`."
      ]
    },
    {
      "cell_type": "code",
      "execution_count": 25,
      "metadata": {
        "id": "-dSdjoBaqTu3",
        "vscode": {
          "languageId": "python"
        }
      },
      "outputs": [],
      "source": [
        "document = DocumentAssembler().setInputCol(\"text\").setOutputCol(\"document\")\n",
        "\n",
        "token = Tokenizer().setInputCols(\"document\").setOutputCol(\"token\")\n",
        "\n",
        "stemmer = Stemmer() \\\n",
        "    .setInputCols([\"token\"]) \\\n",
        "    .setOutputCol(\"stem\")\n",
        "\n",
        "classifier_svm = DocumentMLClassifierApproach() \\\n",
        "    .setInputCols(\"stem\") \\\n",
        "    .setLabelCol(\"category\") \\\n",
        "    .setOutputCol(\"prediction\") \\\n",
        "    .setClassificationModelClass(\"svm\")\n",
        "\n",
        "pipeline = Pipeline(stages=[document, token, stemmer, classifier_svm])"
      ]
    },
    {
      "cell_type": "code",
      "execution_count": 26,
      "metadata": {
        "colab": {
          "base_uri": "https://localhost:8080/"
        },
        "id": "ltIUcI-8qTu3",
        "outputId": "fbac7500-51ae-487e-9789-6700a3820055",
        "vscode": {
          "languageId": "python"
        }
      },
      "outputs": [
        {
          "name": "stdout",
          "output_type": "stream",
          "text": [
            "+--------------------+--------+--------------------+--------------------+--------------------+--------------------+\n",
            "|                text|category|            document|               token|                stem|          prediction|\n",
            "+--------------------+--------+--------------------+--------------------+--------------------+--------------------+\n",
            "| A 66-year-old wo...|     neg|[{document, 0, 14...|[{token, 1, 1, A,...|[{token, 1, 1, a,...|[{category, 1, 14...|\n",
            "| A 73-year-old wo...|     neg|[{document, 0, 11...|[{token, 1, 1, A,...|[{token, 1, 1, a,...|[{category, 1, 11...|\n",
            "| Further findings...|     neg|[{document, 0, 95...|[{token, 1, 7, Fu...|[{token, 1, 7, fu...|[{category, 1, 95...|\n",
            "| RMT and AMT were...|     neg|[{document, 0, 11...|[{token, 1, 3, RM...|[{token, 1, 3, rm...|[{category, 1, 11...|\n",
            "|After stopping in...|     pos|[{document, 0, 70...|[{token, 0, 4, Af...|[{token, 0, 4, af...|[{category, 0, 70...|\n",
            "|BACKGROUND: Inter...|     pos|[{document, 0, 19...|[{token, 0, 9, BA...|[{token, 0, 9, ba...|[{category, 0, 19...|\n",
            "|Four patients in ...|     pos|[{document, 0, 19...|[{token, 0, 3, Fo...|[{token, 0, 3, fo...|[{category, 0, 19...|\n",
            "|Proconvulsive ten...|     pos|[{document, 0, 83...|[{token, 0, 12, P...|[{token, 0, 12, p...|[{category, 0, 83...|\n",
            "|The pathogenic me...|     pos|[{document, 0, 17...|[{token, 0, 2, Th...|[{token, 0, 2, th...|[{category, 0, 17...|\n",
            "|When the trazodon...|     pos|[{document, 0, 73...|[{token, 0, 3, Wh...|[{token, 0, 3, wh...|[{category, 0, 73...|\n",
            "| A helicoidal CT ...|     neg|[{document, 0, 17...|[{token, 1, 1, A,...|[{token, 1, 1, a,...|[{category, 1, 17...|\n",
            "| Clinical recover...|     neg|[{document, 0, 84...|[{token, 1, 8, Cl...|[{token, 1, 8, cl...|[{category, 1, 84...|\n",
            "| He is being foll...|     neg|[{document, 0, 82...|[{token, 1, 2, He...|[{token, 1, 2, he...|[{category, 1, 82...|\n",
            "| Heparin therapy ...|     neg|[{document, 0, 71...|[{token, 1, 7, He...|[{token, 1, 7, he...|[{category, 1, 71...|\n",
            "| In such patients...|     neg|[{document, 0, 74...|[{token, 1, 2, In...|[{token, 1, 2, in...|[{category, 1, 74...|\n",
            "| In two cases, ti...|     neg|[{document, 0, 94...|[{token, 1, 2, In...|[{token, 1, 2, in...|[{category, 1, 94...|\n",
            "| Superior sagitta...|     neg|[{document, 0, 74...|[{token, 1, 8, Su...|[{token, 1, 8, su...|[{category, 1, 74...|\n",
            "| Surgeons should ...|     neg|[{document, 0, 94...|[{token, 1, 8, Su...|[{token, 1, 8, su...|[{category, 1, 94...|\n",
            "| The patient requ...|     neg|[{document, 0, 67...|[{token, 1, 3, Th...|[{token, 1, 3, th...|[{category, 1, 67...|\n",
            "| This was postula...|     neg|[{document, 0, 77...|[{token, 1, 4, Th...|[{token, 1, 4, th...|[{category, 1, 77...|\n",
            "+--------------------+--------+--------------------+--------------------+--------------------+--------------------+\n",
            "only showing top 20 rows\n",
            "\n"
          ]
        }
      ],
      "source": [
        "svm_model = pipeline.fit(train_data)\n",
        "result_svm = svm_model.transform(test_data).cache()\n",
        "result_svm.show()"
      ]
    },
    {
      "cell_type": "code",
      "execution_count": 27,
      "metadata": {
        "colab": {
          "base_uri": "https://localhost:8080/"
        },
        "id": "rb-E6iqO_TEn",
        "outputId": "75c3e0d6-fc86-4bce-e2a6-923c10f332d2",
        "vscode": {
          "languageId": "python"
        }
      },
      "outputs": [
        {
          "name": "stdout",
          "output_type": "stream",
          "text": [
            "root\n",
            " |-- text: string (nullable = true)\n",
            " |-- category: string (nullable = true)\n",
            " |-- document: array (nullable = true)\n",
            " |    |-- element: struct (containsNull = true)\n",
            " |    |    |-- annotatorType: string (nullable = true)\n",
            " |    |    |-- begin: integer (nullable = false)\n",
            " |    |    |-- end: integer (nullable = false)\n",
            " |    |    |-- result: string (nullable = true)\n",
            " |    |    |-- metadata: map (nullable = true)\n",
            " |    |    |    |-- key: string\n",
            " |    |    |    |-- value: string (valueContainsNull = true)\n",
            " |    |    |-- embeddings: array (nullable = true)\n",
            " |    |    |    |-- element: float (containsNull = false)\n",
            " |-- token: array (nullable = true)\n",
            " |    |-- element: struct (containsNull = true)\n",
            " |    |    |-- annotatorType: string (nullable = true)\n",
            " |    |    |-- begin: integer (nullable = false)\n",
            " |    |    |-- end: integer (nullable = false)\n",
            " |    |    |-- result: string (nullable = true)\n",
            " |    |    |-- metadata: map (nullable = true)\n",
            " |    |    |    |-- key: string\n",
            " |    |    |    |-- value: string (valueContainsNull = true)\n",
            " |    |    |-- embeddings: array (nullable = true)\n",
            " |    |    |    |-- element: float (containsNull = false)\n",
            " |-- stem: array (nullable = true)\n",
            " |    |-- element: struct (containsNull = true)\n",
            " |    |    |-- annotatorType: string (nullable = true)\n",
            " |    |    |-- begin: integer (nullable = false)\n",
            " |    |    |-- end: integer (nullable = false)\n",
            " |    |    |-- result: string (nullable = true)\n",
            " |    |    |-- metadata: map (nullable = true)\n",
            " |    |    |    |-- key: string\n",
            " |    |    |    |-- value: string (valueContainsNull = true)\n",
            " |    |    |-- embeddings: array (nullable = true)\n",
            " |    |    |    |-- element: float (containsNull = false)\n",
            " |-- prediction: array (nullable = true)\n",
            " |    |-- element: struct (containsNull = true)\n",
            " |    |    |-- annotatorType: string (nullable = true)\n",
            " |    |    |-- begin: integer (nullable = false)\n",
            " |    |    |-- end: integer (nullable = false)\n",
            " |    |    |-- result: string (nullable = true)\n",
            " |    |    |-- metadata: map (nullable = true)\n",
            " |    |    |    |-- key: string\n",
            " |    |    |    |-- value: string (valueContainsNull = true)\n",
            " |    |    |-- embeddings: array (nullable = true)\n",
            " |    |    |    |-- element: float (containsNull = false)\n",
            "\n"
          ]
        }
      ],
      "source": [
        "result_svm.printSchema()"
      ]
    },
    {
      "cell_type": "code",
      "execution_count": null,
      "metadata": {
        "colab": {
          "base_uri": "https://localhost:8080/"
        },
        "id": "QGSKTOQh_Bsw",
        "outputId": "7e115d27-a4d5-40fe-cf54-e53fbb820bd2",
        "vscode": {
          "languageId": "python"
        }
      },
      "outputs": [
        {
          "name": "stdout",
          "output_type": "stream",
          "text": [
            "+---------------------------------------------------------------------------------------------------------------------------------------------------------------------------------------------------+--------------------------------------------------------------------------------+\n",
            "|text                                                                                                                                                                                               |prediction                                                                      |\n",
            "+---------------------------------------------------------------------------------------------------------------------------------------------------------------------------------------------------+--------------------------------------------------------------------------------+\n",
            "| A 66-year-old woman was diagnosed as having pulmonary adenocarcinoma with malignant pleural effusion following investigations for cough and dyspnea.                                              |[{category, 1, 148, neg, {sentence -> 0, chunk -> 0, confidence -> 0.6530}, []}]|\n",
            "| A 73-year-old woman with rheumatoid arthritis had been treated with weekly low-dose methotrexate (MTX) for 5 years.                                                                               |[{category, 1, 115, pos, {sentence -> 0, chunk -> 0, confidence -> 0.9002}, []}]|\n",
            "| Further findings included bilateral four-finger hands with hypoplastic thumbs and absent radii.                                                                                                   |[{category, 1, 95, neg, {sentence -> 0, chunk -> 0, confidence -> 0.7576}, []}] |\n",
            "| RMT and AMT were lower, MEP size was larger, ICI was decreased while ICF was slightly diminished during treatment.                                                                                |[{category, 1, 114, neg, {sentence -> 0, chunk -> 0, confidence -> 0.9499}, []}]|\n",
            "|After stopping indapamide, glucose tolerance impairing may be reversed.                                                                                                                            |[{category, 0, 70, neg, {sentence -> 0, chunk -> 0, confidence -> 0.5532}, []}] |\n",
            "|BACKGROUND: Interferon (IFN)-associated retinopathy is typically characterized by retinal hemorrhages and cotton wool spots at the posterior fundus, but visual function is usually maintained.    |[{category, 0, 190, pos, {sentence -> 0, chunk -> 0, confidence -> 0.9999}, []}]|\n",
            "|Four patients in whom pulmonary oedema developed during tocolysis with hexoprenaline are described and the aetiological factors and pathogenesis of this potentially lethal complication discussed.|[{category, 0, 194, pos, {sentence -> 0, chunk -> 0, confidence -> 0.7957}, []}]|\n",
            "|Proconvulsive tendency of imipenem/cilastatin is one of its well-known side effects.                                                                                                               |[{category, 0, 83, pos, {sentence -> 0, chunk -> 0, confidence -> 0.9523}, []}] |\n",
            "|The pathogenic mechanisms involved in the development of adriamycin cardiomyopathy are reviewed, and the possible synergistic effect of other antitumor antibiotics is discussed.                  |[{category, 0, 176, neg, {sentence -> 0, chunk -> 0, confidence -> 0.6286}, []}]|\n",
            "|When the trazodone was reduced, the involuntary movements promptly ceased.                                                                                                                         |[{category, 0, 73, neg, {sentence -> 0, chunk -> 0, confidence -> 0.8907}, []}] |\n",
            "| A helicoidal CT scan showed diffuse and severe interstitial pneumonitis, and lung biopsy confirmed accelerated usual interstitial pneumonia consistent with drug-induced toxicity.                |[{category, 1, 178, neg, {sentence -> 0, chunk -> 0, confidence -> 0.6739}, []}]|\n",
            "| Clinical recovery followed discontinuation of therapy and paralleled EEG resolution.                                                                                                              |[{category, 1, 84, neg, {sentence -> 0, chunk -> 0, confidence -> 0.8465}, []}] |\n",
            "| He is being followed with repeated imaging studies for a small abdominal aneurysm.                                                                                                                |[{category, 1, 82, neg, {sentence -> 0, chunk -> 0, confidence -> 0.8872}, []}] |\n",
            "| Heparin therapy for mistaken cardiac diagnosis in Boerhaave's syndrome.                                                                                                                           |[{category, 1, 71, neg, {sentence -> 0, chunk -> 0, confidence -> 0.8274}, []}] |\n",
            "| In such patients the drug is withdrawn and replaced by another medication.                                                                                                                        |[{category, 1, 74, neg, {sentence -> 0, chunk -> 0, confidence -> 0.9122}, []}] |\n",
            "| In two cases, tiagabine was withdrawn, whereas it was continued at a lower dosage in one case.                                                                                                    |[{category, 1, 94, neg, {sentence -> 0, chunk -> 0, confidence -> 0.9361}, []}] |\n",
            "| Superior sagittal sinus thrombosis was demonstrated by cerebral angiogram.                                                                                                                        |[{category, 1, 74, neg, {sentence -> 0, chunk -> 0, confidence -> 0.9331}, []}] |\n",
            "| Surgeons should consider stopping carbamazepine before operations with cardiopulmonary bypass.                                                                                                    |[{category, 1, 94, neg, {sentence -> 0, chunk -> 0, confidence -> 0.7466}, []}] |\n",
            "| The patient required high dose opioid to control the shoulder pain.                                                                                                                               |[{category, 1, 67, neg, {sentence -> 0, chunk -> 0, confidence -> 0.9675}, []}] |\n",
            "| This was postulated to be due to the tacrolimus therapy, which was withdrawn.                                                                                                                     |[{category, 1, 77, neg, {sentence -> 0, chunk -> 0, confidence -> 0.6220}, []}] |\n",
            "+---------------------------------------------------------------------------------------------------------------------------------------------------------------------------------------------------+--------------------------------------------------------------------------------+\n",
            "only showing top 20 rows\n",
            "\n"
          ]
        }
      ],
      "source": [
        "result_svm.select(\"text\",\"prediction\").show(truncate=False)"
      ]
    },
    {
      "cell_type": "code",
      "execution_count": 29,
      "metadata": {
        "colab": {
          "base_uri": "https://localhost:8080/"
        },
        "id": "eYIMc0-KqTu4",
        "outputId": "14d4bf2d-b0c5-41c7-ecaf-2d45211c8629",
        "vscode": {
          "languageId": "python"
        }
      },
      "outputs": [
        {
          "name": "stdout",
          "output_type": "stream",
          "text": [
            "              precision    recall  f1-score   support\n",
            "\n",
            "         neg       0.91      0.90      0.91      3317\n",
            "         pos       0.77      0.77      0.77      1344\n",
            "\n",
            "    accuracy                           0.87      4661\n",
            "   macro avg       0.84      0.84      0.84      4661\n",
            "weighted avg       0.87      0.87      0.87      4661\n",
            "\n"
          ]
        }
      ],
      "source": [
        "result_svm_df = result_svm.select('category','prediction.result').toPandas()\n",
        "result_svm_df['result'] = result_svm_df.result.apply(lambda x : x[0])\n",
        "\n",
        "print (classification_report(result_svm_df['category'], result_svm_df['result']))"
      ]
    },
    {
      "cell_type": "markdown",
      "metadata": {
        "id": "RDXHKJmEAx7z"
      },
      "source": [
        "## DocumentMLClassifier with Logistic Regression"
      ]
    },
    {
      "cell_type": "code",
      "execution_count": 30,
      "metadata": {
        "colab": {
          "base_uri": "https://localhost:8080/"
        },
        "id": "JBtk52slqTu4",
        "outputId": "9e2ffda3-d08d-40c1-bc8f-c03ecab374f9",
        "vscode": {
          "languageId": "python"
        }
      },
      "outputs": [
        {
          "name": "stdout",
          "output_type": "stream",
          "text": [
            "              precision    recall  f1-score   support\n",
            "\n",
            "         neg       0.90      0.92      0.91      3317\n",
            "         pos       0.79      0.76      0.77      1344\n",
            "\n",
            "    accuracy                           0.87      4661\n",
            "   macro avg       0.85      0.84      0.84      4661\n",
            "weighted avg       0.87      0.87      0.87      4661\n",
            "\n"
          ]
        }
      ],
      "source": [
        "classifier_logreg = DocumentMLClassifierApproach() \\\n",
        "    .setInputCols(\"token\") \\\n",
        "    .setLabelCol(\"category\") \\\n",
        "    .setOutputCol(\"prediction\") \\\n",
        "    .setClassificationModelClass(\"logreg\")\\\n",
        "\n",
        "pipeline = Pipeline(stages=[document, token, classifier_logreg])\n",
        "    \n",
        "logreg_model = pipeline.fit(train_data)\n",
        "result_logreg = logreg_model.transform(test_data).cache()\n",
        "\n",
        "result_logreg_df = result_logreg.select('category','prediction.result').toPandas()\n",
        "result_logreg_df['result'] = result_logreg_df.result.apply(lambda x : x[0])\n",
        "\n",
        "print (classification_report(result_logreg_df['category'], result_logreg_df['result']))"
      ]
    },
    {
      "cell_type": "markdown",
      "metadata": {
        "id": "BQJRT3y7TQ2l"
      },
      "source": [
        "## Playing with Some Parameters"
      ]
    },
    {
      "cell_type": "code",
      "execution_count": 31,
      "metadata": {
        "colab": {
          "base_uri": "https://localhost:8080/"
        },
        "id": "2_iXWcxbqTu4",
        "outputId": "48b70c82-3d62-481d-8667-318ca5fe9142",
        "vscode": {
          "languageId": "python"
        }
      },
      "outputs": [
        {
          "data": {
            "text/plain": [
              "{Param(parent='DocumentMLClassifierApproach_9f3f7a80b61c', name='lazyAnnotator', doc='Whether this AnnotatorModel acts as lazy in RecursivePipelines'): False,\n",
              " Param(parent='DocumentMLClassifierApproach_9f3f7a80b61c', name='labelCol', doc='column with the value result we are trying to predict.'): 'category',\n",
              " Param(parent='DocumentMLClassifierApproach_9f3f7a80b61c', name='maxIter', doc='maximum number of iterations.'): 10,\n",
              " Param(parent='DocumentMLClassifierApproach_9f3f7a80b61c', name='tol', doc='convergence tolerance after each iteration.'): 1e-06,\n",
              " Param(parent='DocumentMLClassifierApproach_9f3f7a80b61c', name='fitIntercept', doc='whether to fit an intercept term, default is true.'): True,\n",
              " Param(parent='DocumentMLClassifierApproach_9f3f7a80b61c', name='vectorizationModelPath', doc='specify the vectorization model if it has been already trained.'): '',\n",
              " Param(parent='DocumentMLClassifierApproach_9f3f7a80b61c', name='classificationModelPath', doc='specify the classification model if it has been already trained.'): '',\n",
              " Param(parent='DocumentMLClassifierApproach_9f3f7a80b61c', name='inputCols', doc='previous annotations columns, if renamed'): ['token'],\n",
              " Param(parent='DocumentMLClassifierApproach_9f3f7a80b61c', name='outputCol', doc='output annotation column. can be left default.'): 'prediction',\n",
              " Param(parent='DocumentMLClassifierApproach_9f3f7a80b61c', name='classificationModelClass', doc='specify the SparkML classification class; possible values are: logreg, svm.'): 'logreg'}"
            ]
          },
          "execution_count": 31,
          "metadata": {},
          "output_type": "execute_result"
        }
      ],
      "source": [
        "classifier_logreg.extractParamMap()"
      ]
    },
    {
      "cell_type": "markdown",
      "metadata": {
        "id": "RFCXZGaATVzC"
      },
      "source": [
        "**Change `maxIter` parameter with `setMaxIter()`**"
      ]
    },
    {
      "cell_type": "code",
      "execution_count": 32,
      "metadata": {
        "colab": {
          "base_uri": "https://localhost:8080/"
        },
        "id": "JGo9RWPsDlb6",
        "outputId": "2e04b28c-88ec-47ac-8b7d-5df19a51e252",
        "vscode": {
          "languageId": "python"
        }
      },
      "outputs": [
        {
          "name": "stdout",
          "output_type": "stream",
          "text": [
            "              precision    recall  f1-score   support\n",
            "\n",
            "         neg       0.89      0.95      0.92      3317\n",
            "         pos       0.86      0.71      0.78      1344\n",
            "\n",
            "    accuracy                           0.88      4661\n",
            "   macro avg       0.87      0.83      0.85      4661\n",
            "weighted avg       0.88      0.88      0.88      4661\n",
            "\n"
          ]
        }
      ],
      "source": [
        "classifier_logreg = DocumentMLClassifierApproach() \\\n",
        "    .setInputCols(\"token\") \\\n",
        "    .setLabelCol(\"category\") \\\n",
        "    .setOutputCol(\"prediction\") \\\n",
        "    .setClassificationModelClass(\"logreg\")\\\n",
        "    .setMaxIter(5)\n",
        "\n",
        "pipeline = Pipeline(stages=[document, token, classifier_logreg])\n",
        "    \n",
        "result_logreg = pipeline.fit(train_data).transform(test_data).cache()\n",
        "\n",
        "result_logreg_df = result_logreg.select('category','prediction.result').toPandas()\n",
        "result_logreg_df['result'] = result_logreg_df.result.apply(lambda x : x[0])\n",
        "\n",
        "print (classification_report(result_logreg_df['category'], result_logreg_df['result']))"
      ]
    },
    {
      "cell_type": "markdown",
      "metadata": {
        "id": "TT_x_ezjURKs"
      },
      "source": [
        "**Change `tol` (tolarance) parameter with `setTol()`**"
      ]
    },
    {
      "cell_type": "code",
      "execution_count": 33,
      "metadata": {
        "colab": {
          "base_uri": "https://localhost:8080/"
        },
        "id": "Q6EF16YlUNRg",
        "outputId": "4c4a60e1-d804-4a34-f278-818b60f2e73d",
        "vscode": {
          "languageId": "python"
        }
      },
      "outputs": [
        {
          "name": "stdout",
          "output_type": "stream",
          "text": [
            "              precision    recall  f1-score   support\n",
            "\n",
            "         neg       0.90      0.92      0.91      3317\n",
            "         pos       0.79      0.76      0.77      1344\n",
            "\n",
            "    accuracy                           0.87      4661\n",
            "   macro avg       0.85      0.84      0.84      4661\n",
            "weighted avg       0.87      0.87      0.87      4661\n",
            "\n"
          ]
        }
      ],
      "source": [
        "classifier_logreg = DocumentMLClassifierApproach() \\\n",
        "    .setInputCols(\"token\") \\\n",
        "    .setLabelCol(\"category\") \\\n",
        "    .setOutputCol(\"prediction\") \\\n",
        "    .setClassificationModelClass(\"logreg\")\\\n",
        "    .setTol(1e-3)\n",
        "\n",
        "pipeline = Pipeline(stages=[document, token, classifier_logreg])\n",
        "    \n",
        "result_logreg = pipeline.fit(train_data).transform(test_data).cache()\n",
        "\n",
        "result_logreg_df = result_logreg.select('category','prediction.result').toPandas()\n",
        "result_logreg_df['result'] = result_logreg_df.result.apply(lambda x : x[0])\n",
        "\n",
        "print (classification_report(result_logreg_df['category'], result_logreg_df['result']))"
      ]
    },
    {
      "cell_type": "markdown",
      "metadata": {
        "id": "7LzaMwlNTzIr"
      },
      "source": [
        "**Change `maxTokenNgram` parameter with `setMaxTokenNgram()`**"
      ]
    },
    {
      "cell_type": "code",
      "execution_count": 34,
      "metadata": {
        "colab": {
          "base_uri": "https://localhost:8080/"
        },
        "id": "6v4O2x6nEiGk",
        "outputId": "b2be2484-068b-4c21-cbd5-8fc7b3cc38f8",
        "vscode": {
          "languageId": "python"
        }
      },
      "outputs": [
        {
          "name": "stdout",
          "output_type": "stream",
          "text": [
            "              precision    recall  f1-score   support\n",
            "\n",
            "         neg       0.91      0.92      0.92      3317\n",
            "         pos       0.80      0.79      0.79      1344\n",
            "\n",
            "    accuracy                           0.88      4661\n",
            "   macro avg       0.86      0.85      0.86      4661\n",
            "weighted avg       0.88      0.88      0.88      4661\n",
            "\n"
          ]
        }
      ],
      "source": [
        "classifier_logreg = DocumentMLClassifierApproach() \\\n",
        "    .setInputCols(\"token\") \\\n",
        "    .setLabelCol(\"category\") \\\n",
        "    .setOutputCol(\"prediction\") \\\n",
        "    .setClassificationModelClass(\"logreg\")\\\n",
        "    .setMaxTokenNgram(2)\n",
        "\n",
        "pipeline = Pipeline(stages=[document, token, classifier_logreg])\n",
        "    \n",
        "result_logreg = pipeline.fit(train_data).transform(test_data).cache()\n",
        "\n",
        "result_logreg_pf = result_logreg.select('category','prediction.result').toPandas()\n",
        "result_logreg_pf['result'] = result_logreg_pf.result.apply(lambda x : x[0])\n",
        "\n",
        "print (classification_report(result_logreg_pf['category'], result_logreg_pf['result']))"
      ]
    },
    {
      "cell_type": "markdown",
      "metadata": {
        "id": "pmu5UcMpYo_U"
      },
      "source": [
        "## Using More Annotators"
      ]
    },
    {
      "cell_type": "code",
      "execution_count": 37,
      "metadata": {
        "id": "3xpjbFkrYnsp",
        "vscode": {
          "languageId": "python"
        }
      },
      "outputs": [],
      "source": [
        "document = DocumentAssembler() \\\n",
        "    .setInputCol(\"text\") \\\n",
        "    .setOutputCol(\"document\")\n",
        "    \n",
        "token = Tokenizer() \\\n",
        "  .setInputCols([\"document\"]) \\\n",
        "  .setOutputCol(\"token\")\n",
        "    \n",
        "normalizer = Normalizer() \\\n",
        "    .setInputCols([\"token\"]) \\\n",
        "    .setOutputCol(\"normalized\")\n",
        "\n",
        "stopwords_cleaner = StopWordsCleaner()\\\n",
        "      .setInputCols(\"normalized\")\\\n",
        "      .setOutputCol(\"cleanTokens\")\\\n",
        "      .setCaseSensitive(False)\n",
        "\n",
        "stemmer = Stemmer() \\\n",
        "    .setInputCols([\"cleanTokens\"]) \\\n",
        "    .setOutputCol(\"stem\")\n",
        "\n",
        "classifier_svm = DocumentMLClassifierApproach() \\\n",
        "    .setInputCols(\"stem\") \\\n",
        "    .setLabelCol(\"category\") \\\n",
        "    .setOutputCol(\"prediction\") \\\n",
        "    .setClassificationModelClass(\"svm\")\\\n",
        "    .setMaxIter(5)\n",
        "\n",
        "finisher = Finisher() \\\n",
        "    .setInputCols([\"prediction\"]) \\\n",
        "    .setOutputCols([\"predictions\"]) \\\n",
        "    .setCleanAnnotations(True)\\\n",
        "\n",
        "\n",
        "\n",
        "pipeline = Pipeline(stages=[document, token, normalizer, stopwords_cleaner, stemmer, classifier_svm, finisher])\n",
        "    \n",
        "model= pipeline.fit(train_data)"
      ]
    },
    {
      "cell_type": "code",
      "execution_count": 38,
      "metadata": {
        "colab": {
          "base_uri": "https://localhost:8080/"
        },
        "id": "RvGh7HIbZgso",
        "outputId": "5d257729-7268-4b9b-f395-3809bf160ad0",
        "vscode": {
          "languageId": "python"
        }
      },
      "outputs": [
        {
          "name": "stdout",
          "output_type": "stream",
          "text": [
            "+--------------------------------------------------------------------------------------------------------------------+-----------+\n",
            "|text                                                                                                                |predictions|\n",
            "+--------------------------------------------------------------------------------------------------------------------+-----------+\n",
            "|We report two cases of pseudoporphyria caused by naproxen and oxaprozin.                                            |[pos]      |\n",
            "|Special attention should be paid when attempting to sample the endometrium in patients with mullerian abnormalities.|[neg]      |\n",
            "+--------------------------------------------------------------------------------------------------------------------+-----------+\n",
            "\n"
          ]
        }
      ],
      "source": [
        "sample_df = spark.createDataFrame([[\"We report two cases of pseudoporphyria caused by naproxen and oxaprozin.\"],\n",
        "                                   [\"Special attention should be paid when attempting to sample the endometrium in patients with mullerian abnormalities.\"]]).toDF(\"text\")\n",
        "\n",
        "result = model.transform(sample_df)\n",
        "result.show(truncate=False)"
      ]
    }
  ],
  "metadata": {
    "colab": {
      "provenance": [],
      "toc_visible": true
    },
    "gpuClass": "standard",
    "kernelspec": {
      "display_name": "Python 3 (ipykernel)",
      "language": "python",
      "name": "python3"
    }
  },
  "nbformat": 4,
  "nbformat_minor": 0
}

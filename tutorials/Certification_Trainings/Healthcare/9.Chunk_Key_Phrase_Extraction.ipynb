{
  "nbformat": 4,
  "nbformat_minor": 0,
  "metadata": {
    "kernelspec": {
      "display_name": "Environment (conda_tensorflow2_p36)",
      "language": "python",
      "name": "conda_tensorflow2_p36"
    },
    "language_info": {
      "codemirror_mode": {
        "name": "ipython",
        "version": 3
      },
      "file_extension": ".py",
      "mimetype": "text/x-python",
      "name": "python",
      "nbconvert_exporter": "python",
      "pygments_lexer": "ipython3",
      "version": "3.6.10"
    },
    "colab": {
      "name": "9.Chunk_Key_Phrase_Extraction.ipynb",
      "provenance": [],
      "collapsed_sections": []
    }
  },
  "cells": [
    {
      "cell_type": "markdown",
      "metadata": {
        "id": "grKbQ5_jhEJ_"
      },
      "source": [
        "![JohnSnowLabs](https://nlp.johnsnowlabs.com/assets/images/logo.png)"
      ]
    },
    {
      "cell_type": "markdown",
      "metadata": {
        "id": "MXAdMhSog_85"
      },
      "source": [
        "[![Open In Colab](https://colab.research.google.com/assets/colab-badge.svg)](https://colab.research.google.com/github/JohnSnowLabs/spark-nlp-workshop/blob/master/tutorials/Certification_Trainings/Healthcare/9.Chunk_Key_Phrase_Extraction.ipynb)"
      ]
    },
    {
      "cell_type": "markdown",
      "metadata": {
        "id": "NBx3PRutYk2P"
      },
      "source": [
        "# Chunk Key Phrase Extraction\n",
        "\n",
        "In this notebook, you will find how to get chunk key phrases using `ChunkKeyPhraseExtraction` that leverages Sentence BERT embeddings to select keywords and key phrases that are most similar to a document. This annotator can be fed by either the output of NER model, NGramGenerator or YAKE, and could be used to generate similarity scores for each NER chunk that is coming out of any (clinical) NER model. That is, you can now sort your clinical entities by the importance of them with respect to document or sentence that they live in. Additionally, you can also use this new annotator to grab new clinical chunks that are missed by a pretrained NER model as well as summarizing the whole document into a few important sentences or phrases."
      ]
    },
    {
      "cell_type": "code",
      "metadata": {
        "id": "A7Y6D0OpYxLH"
      },
      "source": [
        "import json\n",
        "import os\n",
        "\n",
        "from google.colab import files\n",
        "\n",
        "license_keys = files.upload()\n",
        "\n",
        "with open(list(license_keys.keys())[0]) as f:\n",
        "    license_keys = json.load(f)\n",
        "\n",
        "# Defining license key-value pairs as local variables\n",
        "locals().update(license_keys)\n",
        "\n",
        "# Adding license key-value pairs to environment variables\n",
        "os.environ.update(license_keys)"
      ],
      "execution_count": null,
      "outputs": []
    },
    {
      "cell_type": "code",
      "metadata": {
        "id": "w2tnzJIgYk2K"
      },
      "source": [
        "# Installing pyspark and spark-nlp\n",
        "! pip install --upgrade -q pyspark==3.1.2 spark-nlp==$PUBLIC_VERSION\n",
        "\n",
        "# Installing Spark NLP Healthcare\n",
        "! pip install --upgrade -q spark-nlp-jsl==$JSL_VERSION  --extra-index-url https://pypi.johnsnowlabs.com/$SECRET"
      ],
      "execution_count": null,
      "outputs": []
    },
    {
      "cell_type": "code",
      "metadata": {
        "id": "CZeDZ-FqYk2M"
      },
      "source": [
        "import json\n",
        "import os\n",
        "from pyspark.ml import Pipeline,PipelineModel\n",
        "from pyspark.sql import SparkSession\n",
        "from pyspark.sql import functions as F\n",
        "\n",
        "from sparknlp.annotator import *\n",
        "from sparknlp_jsl.annotator import *\n",
        "from sparknlp.base import *\n",
        "import sparknlp_jsl\n",
        "import sparknlp\n",
        "\n",
        "import warnings\n",
        "warnings.filterwarnings('ignore')\n",
        "\n",
        "params = {\"spark.driver.memory\":\"16G\", \n",
        "          \"spark.kryoserializer.buffer.max\":\"2000M\", \n",
        "          \"spark.driver.maxResultSize\":\"2000M\"} \n",
        "\n",
        "print (\"Spark NLP Version :\", sparknlp.version())\n",
        "print (\"Spark NLP_JSL Version :\", sparknlp_jsl.version())\n",
        "\n",
        "spark = sparknlp_jsl.start(license_keys['SECRET'],params=params)\n",
        "\n",
        "spark"
      ],
      "execution_count": null,
      "outputs": []
    },
    {
      "cell_type": "markdown",
      "metadata": {
        "id": "94ZsJV2qYk2X"
      },
      "source": [
        "**Lets start with creating a spark dataframe.**"
      ]
    },
    {
      "cell_type": "code",
      "metadata": {
        "id": "Uba40MK_Yk2Y"
      },
      "source": [
        "text = \"\"\"\n",
        "A 28-year-old female with a history of gestational diabetes mellitus diagnosed eight \n",
        "years prior to presentation and subsequent type two diabetes mellitus ( T2DM ), one prior \n",
        "episode of HTG-induced pancreatitis three years prior to presentation , associated with an acute \n",
        "hepatitis , and obesity with a body mass index ( BMI ) of 33.5 kg/m2 , presented with a one-week \n",
        "history of polyuria , polydipsia , poor appetite , and vomiting . Two weeks prior to presentation, \n",
        "she was treated with a five-day course of amoxicillin for a respiratory tract infection. \n",
        "She was on metformin , glipizide , and dapagliflozin for T2DM and atorvastatin and gemfibrozil for \n",
        "HTG. She had been on dapagliflozin for six months at the time of presentation . Physical examination \n",
        "on presentation was significant for dry oral mucosa ; significantly, her abdominal examination was \n",
        "benign with no tenderness , guarding , or rigidity . Pertinent laboratory findings on admission were: \n",
        "serum glucose 111 mg/dl , bicarbonate 18 mmol/l , anion gap 20 , creatinine 0.4 mg/dL , triglycerides \n",
        "508 mg/dL , total cholesterol 122 mg/dL , glycated hemoglobin ( HbA1c ) 10% , and venous pH 7.27. \n",
        "Serum lipase was normal at 43 U/L . Serum acetone levels could not be assessed as blood samples kept\n",
        "hemolyzing due to significant lipemia . The patient was initially admitted for starvation ketosis, \n",
        "as she reported poor oral intake for three days prior to admission . However , serum chemistry obtained \n",
        "six hours after presentation revealed her glucose was 186 mg/dL , the anion gap was still elevated at 21, \n",
        "serum bicarbonate was 16 mmol/L , triglyceride level peaked at 2050 mg/dL , and lipase was 52 U/L. \n",
        "The β-hydroxybutyrate level was obtained and found to be elevated at 5.29 mmol/L - the original sample was \n",
        "centrifuged and the chylomicron layer removed prior to analysis due to interference from turbidity caused by \n",
        "lipemia again . The patient was treated with an insulin drip for euDKA and HTG with a reduction in the anion \n",
        "gap to 13 and triglycerides to 1400 mg/dL , within 24 hours . Her euDKA was thought to be precipitated by \n",
        "her respiratory tract infection in the setting of SGLT2 inhibitor use . The patient was seen by the \n",
        "endocrinology service and she was discharged on 40 units of insulin glargine at night , 12 units of insulin \n",
        "lispro with meals , and metformin 1000 mg two times a day . It was determined that all SGLT2 inhibitors \n",
        "should be discontinued indefinitely . She had close follow-up with endocrinology post discharge.\n",
        "\"\"\".strip().replace(\"\\n\", \"\")\n",
        "\n",
        "empty_data = spark.createDataFrame([[\"\"]]).toDF(\"text\")\n",
        "textDF = spark.createDataFrame([[text]]).toDF(\"text\")"
      ],
      "execution_count": 4,
      "outputs": []
    },
    {
      "cell_type": "markdown",
      "metadata": {
        "id": "wpPyMtsNYk2b"
      },
      "source": [
        "# with NGramGenerator\n",
        "First, we will show you how to get chunk key phrases using N-Gram by feeding `ChunkKeyPhraseExtraction` with N-Gram output."
      ]
    },
    {
      "cell_type": "code",
      "metadata": {
        "colab": {
          "base_uri": "https://localhost:8080/"
        },
        "id": "na3ZZifSYk2c",
        "outputId": "5879cb9d-6717-4502-e784-f3ba869df829"
      },
      "source": [
        "documenter = DocumentAssembler() \\\n",
        "    .setInputCol(\"text\") \\\n",
        "    .setOutputCol(\"document\")\n",
        "\n",
        "sentencer = SentenceDetector() \\\n",
        "    .setInputCols([\"document\"]) \\\n",
        "    .setOutputCol(\"sentences\")\n",
        "\n",
        "tokenizer = Tokenizer() \\\n",
        "    .setInputCols([\"document\"]) \\\n",
        "    .setOutputCol(\"tokens\") \\\n",
        "    .setSplitChars(['\\[','\\]']) \\\n",
        "\n",
        "stop_words_cleaner = StopWordsCleaner.pretrained()\\\n",
        "    .setInputCols(\"tokens\")\\\n",
        "    .setOutputCol(\"clean_tokens\")\\\n",
        "    .setCaseSensitive(False)\n",
        "\n",
        "ngram_generator = NGramGenerator()\\\n",
        "    .setInputCols([\"clean_tokens\"])\\\n",
        "    .setOutputCol(\"ngrams\")\\\n",
        "    .setN(3)\n",
        "\n",
        "ngram_key_phrase_extractor = ChunkKeyPhraseExtraction.pretrained()\\\n",
        "    .setTopN(10) \\\n",
        "    .setDivergence(0.4)\\\n",
        "    .setInputCols([\"sentences\", \"ngrams\"])\\\n",
        "    .setOutputCol(\"ngram_key_phrases\")\n",
        "\n",
        "ngram_pipeline = Pipeline(stages=[\n",
        "    documenter, \n",
        "    sentencer, \n",
        "    tokenizer, \n",
        "    stop_words_cleaner,\n",
        "    ngram_generator,\n",
        "    ngram_key_phrase_extractor\n",
        "])"
      ],
      "execution_count": 5,
      "outputs": [
        {
          "output_type": "stream",
          "name": "stdout",
          "text": [
            "stopwords_en download started this may take some time.\n",
            "Approximate size to download 2.9 KB\n",
            "[OK!]\n",
            "sbert_jsl_medium_uncased download started this may take some time.\n",
            "Approximate size to download 146.8 MB\n",
            "[OK!]\n"
          ]
        }
      ]
    },
    {
      "cell_type": "code",
      "metadata": {
        "id": "T1GpmhAyYk2e"
      },
      "source": [
        "ngram_results = ngram_pipeline.fit(empty_data).transform(textDF)"
      ],
      "execution_count": 6,
      "outputs": []
    },
    {
      "cell_type": "markdown",
      "metadata": {
        "id": "6LTWavi9Yk2g"
      },
      "source": [
        "**Lets show N-Gram results.**"
      ]
    },
    {
      "cell_type": "code",
      "metadata": {
        "colab": {
          "base_uri": "https://localhost:8080/"
        },
        "id": "PJniRn_eZ8Dk",
        "outputId": "1b8b29df-b5b6-43df-93e4-58b69c428ed7"
      },
      "source": [
        "ngram_results.selectExpr(\"explode(ngrams) AS key_phrase_candidate\").show(30,truncate=False)"
      ],
      "execution_count": 7,
      "outputs": [
        {
          "output_type": "stream",
          "name": "stdout",
          "text": [
            "+-------------------------------------------------------------------------------------+\n",
            "|key_phrase_candidate                                                                 |\n",
            "+-------------------------------------------------------------------------------------+\n",
            "|{chunk, 2, 34, 28-year-old female history, {sentence -> 0, chunk -> 0}, []}          |\n",
            "|{chunk, 14, 49, female history gestational, {sentence -> 0, chunk -> 1}, []}         |\n",
            "|{chunk, 28, 58, history gestational diabetes, {sentence -> 0, chunk -> 2}, []}       |\n",
            "|{chunk, 39, 67, gestational diabetes mellitus, {sentence -> 0, chunk -> 3}, []}      |\n",
            "|{chunk, 51, 77, diabetes mellitus diagnosed, {sentence -> 0, chunk -> 4}, []}        |\n",
            "|{chunk, 60, 89, mellitus diagnosed years, {sentence -> 0, chunk -> 5}, []}           |\n",
            "|{chunk, 69, 95, diagnosed years prior, {sentence -> 0, chunk -> 6}, []}              |\n",
            "|{chunk, 85, 111, years prior presentation, {sentence -> 0, chunk -> 7}, []}          |\n",
            "|{chunk, 91, 126, prior presentation subsequent, {sentence -> 0, chunk -> 8}, []}     |\n",
            "|{chunk, 100, 131, presentation subsequent type, {sentence -> 0, chunk -> 9}, []}     |\n",
            "|{chunk, 117, 144, subsequent type diabetes, {sentence -> 0, chunk -> 10}, []}        |\n",
            "|{chunk, 128, 153, type diabetes mellitus, {sentence -> 0, chunk -> 11}, []}          |\n",
            "|{chunk, 137, 155, diabetes mellitus (, {sentence -> 0, chunk -> 12}, []}             |\n",
            "|{chunk, 146, 160, mellitus ( T2DM, {sentence -> 0, chunk -> 13}, []}                 |\n",
            "|{chunk, 155, 163, ( T2DM ),, {sentence -> 0, chunk -> 14}, []}                       |\n",
            "|{chunk, 157, 173, T2DM ), prior, {sentence -> 0, chunk -> 15}, []}                   |\n",
            "|{chunk, 162, 181, ), prior episode, {sentence -> 0, chunk -> 16}, []}                |\n",
            "|{chunk, 169, 196, prior episode HTG-induced, {sentence -> 0, chunk -> 17}, []}       |\n",
            "|{chunk, 175, 209, episode HTG-induced pancreatitis, {sentence -> 0, chunk -> 18}, []}|\n",
            "|{chunk, 186, 221, HTG-induced pancreatitis years, {sentence -> 0, chunk -> 19}, []}  |\n",
            "|{chunk, 198, 227, pancreatitis years prior, {sentence -> 0, chunk -> 20}, []}        |\n",
            "|{chunk, 217, 243, years prior presentation, {sentence -> 0, chunk -> 21}, []}        |\n",
            "|{chunk, 223, 245, prior presentation ,, {sentence -> 0, chunk -> 22}, []}            |\n",
            "|{chunk, 232, 270, presentation , acute, {sentence -> 0, chunk -> 23}, []}            |\n",
            "|{chunk, 245, 280, , acute hepatitis, {sentence -> 0, chunk -> 24}, []}               |\n",
            "|{chunk, 266, 282, acute hepatitis ,, {sentence -> 0, chunk -> 25}, []}               |\n",
            "|{chunk, 272, 294, hepatitis , obesity, {sentence -> 0, chunk -> 26}, []}             |\n",
            "|{chunk, 282, 306, , obesity body, {sentence -> 0, chunk -> 27}, []}                  |\n",
            "|{chunk, 288, 311, obesity body mass, {sentence -> 0, chunk -> 28}, []}               |\n",
            "|{chunk, 303, 317, body mass index, {sentence -> 0, chunk -> 29}, []}                 |\n",
            "+-------------------------------------------------------------------------------------+\n",
            "only showing top 30 rows\n",
            "\n"
          ]
        }
      ]
    },
    {
      "cell_type": "markdown",
      "metadata": {
        "id": "8o5nah8hYk2h"
      },
      "source": [
        "**Check the key phrases from N-Gram results.**"
      ]
    },
    {
      "cell_type": "code",
      "metadata": {
        "id": "bqmrMKlkYk2i",
        "outputId": "63effb91-ed06-44f0-fff5-47d46181586e"
      },
      "source": [
        "ngram_results.selectExpr(\"explode(ngram_key_phrases) AS ngram_key_phrases\").show(truncate=170)"
      ],
      "execution_count": null,
      "outputs": [
        {
          "name": "stdout",
          "output_type": "stream",
          "text": [
            "+--------------------------------------------------------------------------------------------------------------------------------------------------------------------------+\n",
            "|                                                                                                                                                         ngram_key_phrases|\n",
            "+--------------------------------------------------------------------------------------------------------------------------------------------------------------------------+\n",
            "|{chunk, 117, 144, subsequent type diabetes, {sentence -> 0, chunk -> 10, DocumentSimilarity -> 0.7503709522732224, MMRScore -> 0.450222589254171}, [0.27310005, -1.5514...|\n",
            "|{chunk, 51, 77, diabetes mellitus diagnosed, {sentence -> 0, chunk -> 4, DocumentSimilarity -> 0.6953793671393519, MMRScore -> 0.08263042253576852}, [-0.41446662, -1.9...|\n",
            "|{chunk, 186, 221, HTG-induced pancreatitis years, {sentence -> 0, chunk -> 19, DocumentSimilarity -> 0.6817062970203589, MMRScore -> 0.09449712467163301}, [0.36253396,...|\n",
            "|{chunk, 272, 294, hepatitis obesity, {sentence -> 0, chunk -> 26, DocumentSimilarity -> 0.6666053470245074, MMRScore -> 0.10480013167241414}, [0.36321536, -1.4150505, ...|\n",
            "|{chunk, 60, 89, mellitus diagnosed years, {sentence -> 0, chunk -> 5, DocumentSimilarity -> 0.6389213524714412, MMRScore -> 0.09924533638593624}, [-0.40435433, -1.2336...|\n",
            "|{chunk, 418, 433, vomiting, {sentence -> 0, chunk -> 47, DocumentSimilarity -> 0.5824238606842447, MMRScore -> 0.13604053241615346}, [0.9151077, -0.5136256, -0.1899851...|\n",
            "|{chunk, 1324, 1354, admitted starvation ketosis, {sentence -> 0, chunk -> 156, DocumentSimilarity -> 0.5789875069392564, MMRScore -> 0.0980740790595363}, [-0.64582646,...|\n",
            "|{chunk, 491, 538, five-day amoxicillin respiratory, {sentence -> 0, chunk -> 55, DocumentSimilarity -> 0.5330658910562247, MMRScore -> 0.11179597232070618}, [0.5952836...|\n",
            "|{chunk, 325, 339, 33.5 kg/m2, {sentence -> 0, chunk -> 34, DocumentSimilarity -> 0.46256524566846674, MMRScore -> 0.08639870081536791}, [-0.28755984, 0.08979883, 0.611...|\n",
            "|{chunk, 2, 34, 28-year-old female history, {sentence -> 0, chunk -> 0, DocumentSimilarity -> 0.38613601247069695, MMRScore -> 0.12692126646559124}, [-1.0428824, 0.0312...|\n",
            "+--------------------------------------------------------------------------------------------------------------------------------------------------------------------------+\n",
            "\n"
          ]
        }
      ]
    },
    {
      "cell_type": "markdown",
      "metadata": {
        "id": "-QWiPd_wYk2i"
      },
      "source": [
        "**Show the selected key phrases, the cosine similarity to the document, the Maximal Marginal Relevance score and the sentence they where key phrase was found in.**"
      ]
    },
    {
      "cell_type": "code",
      "metadata": {
        "id": "RZiBkb4tYk2j",
        "outputId": "e7c8a630-8179-4c75-d21a-02a7fdfa47e7"
      },
      "source": [
        "ngram_results.select(F.explode(F.arrays_zip(\"ngram_key_phrases.result\",\"ngram_key_phrases.metadata\")).alias(\"cols\"))\\\n",
        "                .select(F.expr(\"cols['0']\").alias(\"key_phrase\"),\n",
        "                        F.expr(\"cols['1']['DocumentSimilarity']\").alias(\"DocumentSimilarity\"),\n",
        "                        F.expr(\"cols['1']['MMRScore']\").alias(\"MMRScore\"),\n",
        "                        F.expr(\"cols['1']['sentence']\").alias(\"sentence\")).show(truncate=False)"
      ],
      "execution_count": null,
      "outputs": [
        {
          "name": "stdout",
          "output_type": "stream",
          "text": [
            "+--------------------------------+-------------------+-------------------+--------+\n",
            "|key_phrase                      |DocumentSimilarity |MMRScore           |sentence|\n",
            "+--------------------------------+-------------------+-------------------+--------+\n",
            "|subsequent type diabetes        |0.7503709522732224 |0.450222589254171  |0       |\n",
            "|diabetes mellitus diagnosed     |0.6953793671393519 |0.08263042253576852|0       |\n",
            "|HTG-induced pancreatitis years  |0.6817062970203589 |0.09449712467163301|0       |\n",
            "|hepatitis obesity               |0.6666053470245074 |0.10480013167241414|0       |\n",
            "|mellitus diagnosed years        |0.6389213524714412 |0.09924533638593624|0       |\n",
            "|vomiting                        |0.5824238606842447 |0.13604053241615346|0       |\n",
            "|admitted starvation ketosis     |0.5789875069392564 |0.0980740790595363 |0       |\n",
            "|five-day amoxicillin respiratory|0.5330658910562247 |0.11179597232070618|0       |\n",
            "|33.5 kg/m2                      |0.46256524566846674|0.08639870081536791|0       |\n",
            "|28-year-old female history      |0.38613601247069695|0.12692126646559124|0       |\n",
            "+--------------------------------+-------------------+-------------------+--------+\n",
            "\n"
          ]
        }
      ]
    },
    {
      "cell_type": "markdown",
      "metadata": {
        "id": "9PN1vyVzYk2k"
      },
      "source": [
        "# with NER Model\n",
        "\n",
        "Now we will show how to get key phrases from NER chunks by feeding `ChunkKeyPhraseExtraction` with the output of `NerConverter`."
      ]
    },
    {
      "cell_type": "code",
      "metadata": {
        "id": "w6b5nHpsYk2k",
        "outputId": "3dd0c338-3357-423c-c32b-344a1c9ffdc9"
      },
      "source": [
        "documenter = DocumentAssembler() \\\n",
        "    .setInputCol(\"text\") \\\n",
        "    .setOutputCol(\"document\")\n",
        "\n",
        "sentencer = SentenceDetector() \\\n",
        "    .setInputCols([\"document\"]) \\\n",
        "    .setOutputCol(\"sentences\")\n",
        "\n",
        "tokenizer = Tokenizer() \\\n",
        "    .setInputCols([\"document\"]) \\\n",
        "    .setOutputCol(\"tokens\") \\\n",
        "    .setSplitChars(['\\[','\\]']) \\\n",
        "\n",
        "embeddings = WordEmbeddingsModel.pretrained(\"embeddings_clinical\", \"en\", \"clinical/models\") \\\n",
        "    .setInputCols([\"document\", \"tokens\"]) \\\n",
        "    .setOutputCol(\"embeddings\")\n",
        "\n",
        "ner_tagger = MedicalNerModel.pretrained(\"ner_jsl\", \"en\", \"clinical/models\") \\\n",
        "    .setInputCols([\"sentences\", \"tokens\", \"embeddings\"]) \\\n",
        "    .setOutputCol(\"ner_tags\")\n",
        "\n",
        "ner_converter = NerConverter()\\\n",
        "    .setInputCols(\"sentences\", \"tokens\", \"ner_tags\")\\\n",
        "    .setOutputCol(\"ner_chunks\")\n",
        "\n",
        "ner_key_phrase_extractor = ChunkKeyPhraseExtraction.pretrained()\\\n",
        "    .setTopN(10) \\\n",
        "    .setDivergence(0.4)\\\n",
        "    .setInputCols([\"sentences\", \"ner_chunks\"])\\\n",
        "    .setOutputCol(\"ner_key_phrases\")\n",
        "\n",
        "ner_pipeline = Pipeline(stages=[\n",
        "    documenter, \n",
        "    sentencer, \n",
        "    tokenizer, \n",
        "    embeddings, \n",
        "    ner_tagger, \n",
        "    ner_converter, \n",
        "    ner_key_phrase_extractor\n",
        "])"
      ],
      "execution_count": null,
      "outputs": [
        {
          "name": "stdout",
          "output_type": "stream",
          "text": [
            "embeddings_clinical download started this may take some time.\n",
            "Approximate size to download 1.6 GB\n",
            "[OK!]\n",
            "ner_jsl download started this may take some time.\n",
            "Approximate size to download 14.5 MB\n",
            "[OK!]\n",
            "sbert_jsl_medium_uncased download started this may take some time.\n",
            "Approximate size to download 146.8 MB\n",
            "[OK!]\n"
          ]
        }
      ]
    },
    {
      "cell_type": "code",
      "metadata": {
        "id": "43B_L66tYk2l"
      },
      "source": [
        "ner_results = ner_pipeline.fit(empty_data).transform(textDF)"
      ],
      "execution_count": null,
      "outputs": []
    },
    {
      "cell_type": "code",
      "metadata": {
        "id": "SGZsB9e9Yk2l",
        "outputId": "e3122d23-f5a1-4d33-d470-61a4cc2d2a58"
      },
      "source": [
        "# ner_chunk results\n",
        "\n",
        "ner_results.select(F.explode(F.arrays_zip(\"ner_chunks.result\",\"ner_chunks.metadata\")).alias(\"cols\"))\\\n",
        "           .select(F.expr(\"cols['0']\").alias(\"ner_chunk\"),\n",
        "                   F.expr(\"cols['1']['entity']\").alias(\"label\")).show(50, truncate=False)"
      ],
      "execution_count": null,
      "outputs": [
        {
          "name": "stdout",
          "output_type": "stream",
          "text": [
            "+-----------------------------+-------------------------+\n",
            "|ner_chunk                    |label                    |\n",
            "+-----------------------------+-------------------------+\n",
            "|28-year-old                  |Age                      |\n",
            "|female                       |Gender                   |\n",
            "|gestational diabetes mellitus|Diabetes                 |\n",
            "|eight years prior            |RelativeDate             |\n",
            "|type two diabetes mellitus   |Diabetes                 |\n",
            "|T2DM                         |Diabetes                 |\n",
            "|HTG-induced pancreatitis     |Disease_Syndrome_Disorder|\n",
            "|three years prior            |RelativeDate             |\n",
            "|acute                        |Modifier                 |\n",
            "|hepatitis                    |Communicable_Disease     |\n",
            "|obesity                      |Obesity                  |\n",
            "|body mass index              |Symptom                  |\n",
            "|33.5 kg/m2                   |Weight                   |\n",
            "|one-week                     |Duration                 |\n",
            "|polyuria                     |Symptom                  |\n",
            "|polydipsia                   |Symptom                  |\n",
            "|poor appetite                |Symptom                  |\n",
            "|vomiting                     |Symptom                  |\n",
            "|Two weeks prior              |RelativeDate             |\n",
            "|she                          |Gender                   |\n",
            "|five-day                     |Duration                 |\n",
            "|amoxicillin                  |Drug_Ingredient          |\n",
            "|respiratory tract infection  |Disease_Syndrome_Disorder|\n",
            "|She                          |Gender                   |\n",
            "|metformin                    |Drug_Ingredient          |\n",
            "|glipizide                    |Drug_Ingredient          |\n",
            "|dapagliflozin                |Drug_Ingredient          |\n",
            "|T2DM                         |Drug_Ingredient          |\n",
            "|atorvastatin                 |Drug_Ingredient          |\n",
            "|gemfibrozil                  |Drug_Ingredient          |\n",
            "|HTG                          |Drug_Ingredient          |\n",
            "|She                          |Gender                   |\n",
            "|dapagliflozin                |Drug_Ingredient          |\n",
            "|for six months               |Duration                 |\n",
            "|dry oral mucosa              |Symptom                  |\n",
            "|her                          |Gender                   |\n",
            "|abdominal examination        |Test                     |\n",
            "|benign                       |Test_Result              |\n",
            "|tenderness                   |Symptom                  |\n",
            "|guarding                     |Symptom                  |\n",
            "|rigidity                     |Symptom                  |\n",
            "|laboratory                   |Test                     |\n",
            "|admission                    |Admission_Discharge      |\n",
            "|serum glucose                |Test                     |\n",
            "|111 mg/dl                    |Test_Result              |\n",
            "|bicarbonate                  |Test                     |\n",
            "|18 mmol/l                    |Test_Result              |\n",
            "|anion gap                    |Test                     |\n",
            "|20                           |Test_Result              |\n",
            "|creatinine                   |Test                     |\n",
            "+-----------------------------+-------------------------+\n",
            "only showing top 50 rows\n",
            "\n"
          ]
        }
      ]
    },
    {
      "cell_type": "markdown",
      "metadata": {
        "id": "9b-bzwOCYk2m"
      },
      "source": [
        "**Show the key phrase results and scores we got using NER chunks.**"
      ]
    },
    {
      "cell_type": "code",
      "metadata": {
        "id": "TjsZVpFIYk2m",
        "outputId": "15d52d10-afd7-463e-a0cc-040b3b1d3bb0"
      },
      "source": [
        "ner_results.select(F.explode(F.arrays_zip(\"ner_key_phrases.result\",\"ner_key_phrases.metadata\")).alias(\"cols\"))\\\n",
        "           .select(F.expr(\"cols['0']\").alias(\"key_phrase\"),\n",
        "                   F.expr(\"cols['1']['entity']\").alias(\"label\"),\n",
        "                   F.expr(\"cols['1']['DocumentSimilarity']\").alias(\"DocumentSimilarity\"),\n",
        "                   F.expr(\"cols['1']['MMRScore']\").alias(\"MMRScore\"),\n",
        "                   F.expr(\"cols['1']['sentence']\").alias(\"sentence\")).show(truncate=False)"
      ],
      "execution_count": null,
      "outputs": [
        {
          "name": "stdout",
          "output_type": "stream",
          "text": [
            "+--------------------------+-------------------------+-------------------+-------------------+--------+\n",
            "|key_phrase                |label                    |DocumentSimilarity |MMRScore           |sentence|\n",
            "+--------------------------+-------------------------+-------------------+-------------------+--------+\n",
            "|type two diabetes mellitus|Diabetes                 |0.7639750686118073 |0.4583850593816694 |0       |\n",
            "|HTG-induced pancreatitis  |Disease_Syndrome_Disorder|0.66933222897749   |0.10416352343367463|0       |\n",
            "|hepatitis                 |Communicable_Disease     |0.6052963003635777 |0.06844932298636924|0       |\n",
            "|vomiting                  |Symptom                  |0.5824238606842447 |0.14864184723537974|0       |\n",
            "|starvation ketosis        |Disease_Syndrome_Disorder|0.5540200581900556 |0.09014297211757516|9       |\n",
            "|lipemia                   |Disease_Syndrome_Disorder|0.5382696947813763 |0.04719088741033595|8       |\n",
            "|obesity                   |Obesity                  |0.5002500004901166 |0.08333506097997875|0       |\n",
            "|33.5 kg/m2                |Weight                   |0.46256524566846674|0.0726968610022724 |0       |\n",
            "|glycated hemoglobin       |Test                     |0.45692221328751115|0.05077545069631606|6       |\n",
            "|triglycerides 508 mg/dL   |Triglycerides            |0.4361977572427083 |0.08090478022861619|6       |\n",
            "+--------------------------+-------------------------+-------------------+-------------------+--------+\n",
            "\n"
          ]
        }
      ]
    },
    {
      "cell_type": "markdown",
      "metadata": {
        "id": "qz9gY-MVYk2n"
      },
      "source": [
        "# with NGramGenerator and NER Model\n",
        "\n",
        "We can also get key phrases from merging N-Gram and NER chunks."
      ]
    },
    {
      "cell_type": "code",
      "metadata": {
        "id": "J5bCQgYxYk2n",
        "outputId": "08d6c22c-9747-4c67-df1b-ef67df1f2627"
      },
      "source": [
        "documenter = DocumentAssembler() \\\n",
        "    .setInputCol(\"text\") \\\n",
        "    .setOutputCol(\"document\")\n",
        "\n",
        "sentencer = SentenceDetector() \\\n",
        "    .setInputCols([\"document\"]) \\\n",
        "    .setOutputCol(\"sentences\")\n",
        "\n",
        "tokenizer = Tokenizer() \\\n",
        "    .setInputCols([\"document\"]) \\\n",
        "    .setOutputCol(\"tokens\") \\\n",
        "    .setSplitChars(['\\[','\\]']) \\\n",
        "\n",
        "stop_words_cleaner = StopWordsCleaner.pretrained()\\\n",
        "    .setInputCols(\"tokens\")\\\n",
        "    .setOutputCol(\"clean_tokens\")\\\n",
        "    .setCaseSensitive(False)\n",
        "\n",
        "ngram_generator = NGramGenerator()\\\n",
        "    .setInputCols([\"clean_tokens\"])\\\n",
        "    .setOutputCol(\"ngrams\")\\\n",
        "    .setN(3)\n",
        "        \n",
        "embeddings = WordEmbeddingsModel.pretrained(\"embeddings_clinical\", \"en\", \"clinical/models\") \\\n",
        "    .setInputCols([\"document\", \"tokens\"]) \\\n",
        "    .setOutputCol(\"embeddings\")\n",
        "\n",
        "ner_tagger = MedicalNerModel.pretrained(\"ner_jsl\", \"en\", \"clinical/models\") \\\n",
        "    .setInputCols([\"sentences\", \"tokens\", \"embeddings\"]) \\\n",
        "    .setOutputCol(\"ner_tags\")\n",
        "\n",
        "ner_converter = NerConverter()\\\n",
        "    .setInputCols(\"sentences\", \"tokens\", \"ner_tags\")\\\n",
        "    .setOutputCol(\"ner_chunks\")\n",
        "\n",
        "chunk_merger = ChunkMergeApproach()\\\n",
        "    .setInputCols(\"ngrams\", \"ner_chunks\")\\\n",
        "    .setOutputCol(\"merged_chunks\")\\\n",
        "    .setMergeOverlapping(False)\n",
        "\n",
        "ngram_ner_key_phrase_extractor = ChunkKeyPhraseExtraction.pretrained()\\\n",
        "    .setTopN(10) \\\n",
        "    .setDivergence(0.4)\\\n",
        "    .setInputCols([\"sentences\", \"merged_chunks\"])\\\n",
        "    .setOutputCol(\"key_phrases\")\n",
        "\n",
        "ngram_ner_pipeline = Pipeline(stages=[\n",
        "    documenter, \n",
        "    sentencer, \n",
        "    tokenizer, \n",
        "    stop_words_cleaner,\n",
        "    ngram_generator,\n",
        "    embeddings, \n",
        "    ner_tagger, \n",
        "    ner_converter, \n",
        "    chunk_merger,\n",
        "    ngram_ner_key_phrase_extractor\n",
        "])"
      ],
      "execution_count": null,
      "outputs": [
        {
          "name": "stdout",
          "output_type": "stream",
          "text": [
            "stopwords_en download started this may take some time.\n",
            "Approximate size to download 2.9 KB\n",
            "[OK!]\n",
            "embeddings_clinical download started this may take some time.\n",
            "Approximate size to download 1.6 GB\n",
            "[OK!]\n",
            "ner_jsl download started this may take some time.\n",
            "Approximate size to download 14.5 MB\n",
            "[OK!]\n",
            "sbert_jsl_medium_uncased download started this may take some time.\n",
            "Approximate size to download 146.8 MB\n",
            "[OK!]\n"
          ]
        }
      ]
    },
    {
      "cell_type": "code",
      "metadata": {
        "id": "mU9Rzm4sYk2o"
      },
      "source": [
        "ngram_ner_results = ngram_ner_pipeline.fit(empty_data).transform(textDF)"
      ],
      "execution_count": null,
      "outputs": []
    },
    {
      "cell_type": "markdown",
      "metadata": {
        "id": "Bsuqf5YYYk2p"
      },
      "source": [
        "**Show the merged key phrase candidate results. `UNK` ones from NGramGenerator and the others from `ner_jsl` model.**"
      ]
    },
    {
      "cell_type": "code",
      "metadata": {
        "id": "IQmES2w2Yk2p",
        "outputId": "950384a4-6deb-4624-ef04-9ef905e5ba2b"
      },
      "source": [
        "ngram_ner_results.selectExpr(\"explode(merged_chunks) AS key_phrase_candidate\").show(30,truncate=False)"
      ],
      "execution_count": null,
      "outputs": [
        {
          "name": "stdout",
          "output_type": "stream",
          "text": [
            "+-----------------------------------------------------------------------------------------------------------------------------------------+\n",
            "|key_phrase_candidate                                                                                                                     |\n",
            "+-----------------------------------------------------------------------------------------------------------------------------------------+\n",
            "|{chunk, 2, 34, 28-year-old female history, {entity -> UNK, chunk -> 0, sentence -> 0}, []}                                               |\n",
            "|{chunk, 2, 12, 28-year-old, {entity -> Age, confidence -> 1.0, chunk -> 1, sentence -> 0}, []}                                           |\n",
            "|{chunk, 14, 49, female history gestational, {entity -> UNK, chunk -> 2, sentence -> 0}, []}                                              |\n",
            "|{chunk, 14, 19, female, {entity -> Gender, confidence -> 0.9985, chunk -> 3, sentence -> 0}, []}                                         |\n",
            "|{chunk, 28, 58, history gestational diabetes, {entity -> UNK, chunk -> 4, sentence -> 0}, []}                                            |\n",
            "|{chunk, 39, 67, gestational diabetes mellitus, {entity -> UNK, chunk -> 5, sentence -> 0}, []}                                           |\n",
            "|{chunk, 39, 67, gestational diabetes mellitus, {entity -> Diabetes, confidence -> 0.97026664, chunk -> 6, sentence -> 0}, []}            |\n",
            "|{chunk, 51, 77, diabetes mellitus diagnosed, {entity -> UNK, chunk -> 7, sentence -> 0}, []}                                             |\n",
            "|{chunk, 60, 89, mellitus diagnosed years, {entity -> UNK, chunk -> 8, sentence -> 0}, []}                                                |\n",
            "|{chunk, 69, 95, diagnosed years prior, {entity -> UNK, chunk -> 9, sentence -> 0}, []}                                                   |\n",
            "|{chunk, 79, 95, eight years prior, {entity -> RelativeDate, confidence -> 0.24973333, chunk -> 10, sentence -> 0}, []}                   |\n",
            "|{chunk, 85, 111, years prior presentation, {entity -> UNK, chunk -> 11, sentence -> 0}, []}                                              |\n",
            "|{chunk, 91, 126, prior presentation subsequent, {entity -> UNK, chunk -> 12, sentence -> 0}, []}                                         |\n",
            "|{chunk, 100, 131, presentation subsequent type, {entity -> UNK, chunk -> 13, sentence -> 0}, []}                                         |\n",
            "|{chunk, 117, 144, subsequent type diabetes, {entity -> UNK, chunk -> 14, sentence -> 0}, []}                                             |\n",
            "|{chunk, 128, 153, type diabetes mellitus, {entity -> UNK, chunk -> 15, sentence -> 0}, []}                                               |\n",
            "|{chunk, 128, 153, type two diabetes mellitus, {entity -> Diabetes, confidence -> 0.751475, chunk -> 16, sentence -> 0}, []}              |\n",
            "|{chunk, 137, 155, diabetes mellitus (, {entity -> UNK, chunk -> 17, sentence -> 0}, []}                                                  |\n",
            "|{chunk, 146, 160, mellitus ( T2DM, {entity -> UNK, chunk -> 18, sentence -> 0}, []}                                                      |\n",
            "|{chunk, 155, 163, ( T2DM ),, {entity -> UNK, chunk -> 19, sentence -> 0}, []}                                                            |\n",
            "|{chunk, 157, 173, T2DM ), prior, {entity -> UNK, chunk -> 20, sentence -> 0}, []}                                                        |\n",
            "|{chunk, 157, 160, T2DM, {entity -> Diabetes, confidence -> 0.9477, chunk -> 21, sentence -> 0}, []}                                      |\n",
            "|{chunk, 162, 181, ), prior episode, {entity -> UNK, chunk -> 22, sentence -> 0}, []}                                                     |\n",
            "|{chunk, 169, 196, prior episode HTG-induced, {entity -> UNK, chunk -> 23, sentence -> 0}, []}                                            |\n",
            "|{chunk, 175, 209, episode HTG-induced pancreatitis, {entity -> UNK, chunk -> 24, sentence -> 0}, []}                                     |\n",
            "|{chunk, 186, 221, HTG-induced pancreatitis years, {entity -> UNK, chunk -> 25, sentence -> 0}, []}                                       |\n",
            "|{chunk, 186, 209, HTG-induced pancreatitis, {entity -> Disease_Syndrome_Disorder, confidence -> 0.58675, chunk -> 26, sentence -> 0}, []}|\n",
            "|{chunk, 198, 227, pancreatitis years prior, {entity -> UNK, chunk -> 27, sentence -> 0}, []}                                             |\n",
            "|{chunk, 211, 227, three years prior, {entity -> RelativeDate, confidence -> 0.33720002, chunk -> 28, sentence -> 0}, []}                 |\n",
            "|{chunk, 217, 243, years prior presentation, {entity -> UNK, chunk -> 29, sentence -> 0}, []}                                             |\n",
            "+-----------------------------------------------------------------------------------------------------------------------------------------+\n",
            "only showing top 30 rows\n",
            "\n"
          ]
        }
      ]
    },
    {
      "cell_type": "code",
      "metadata": {
        "id": "3WIc-VMlYk2q",
        "outputId": "838a257d-87b8-433c-8c15-9c88d83a5cba"
      },
      "source": [
        "# NER chunk results\n",
        "\n",
        "ngram_ner_results.select(F.explode(F.arrays_zip(\"merged_chunks.result\",\"merged_chunks.metadata\")).alias(\"cols\"))\\\n",
        "                 .select(F.expr(\"cols['0']\").alias(\"key_phrase_candidate\"),\n",
        "                         F.expr(\"cols['1']['entity']\").alias(\"label\")).filter(\"label != 'UNK'\").show(50, truncate=False)"
      ],
      "execution_count": null,
      "outputs": [
        {
          "name": "stdout",
          "output_type": "stream",
          "text": [
            "+-----------------------------+-------------------------+\n",
            "|key_phrase_candidate         |label                    |\n",
            "+-----------------------------+-------------------------+\n",
            "|28-year-old                  |Age                      |\n",
            "|female                       |Gender                   |\n",
            "|gestational diabetes mellitus|Diabetes                 |\n",
            "|eight years prior            |RelativeDate             |\n",
            "|type two diabetes mellitus   |Diabetes                 |\n",
            "|T2DM                         |Diabetes                 |\n",
            "|HTG-induced pancreatitis     |Disease_Syndrome_Disorder|\n",
            "|three years prior            |RelativeDate             |\n",
            "|acute                        |Modifier                 |\n",
            "|hepatitis                    |Communicable_Disease     |\n",
            "|obesity                      |Obesity                  |\n",
            "|body mass index              |Symptom                  |\n",
            "|33.5 kg/m2                   |Weight                   |\n",
            "|one-week                     |Duration                 |\n",
            "|polyuria                     |Symptom                  |\n",
            "|polydipsia                   |Symptom                  |\n",
            "|poor appetite                |Symptom                  |\n",
            "|vomiting                     |Symptom                  |\n",
            "|Two weeks prior              |RelativeDate             |\n",
            "|she                          |Gender                   |\n",
            "|five-day                     |Duration                 |\n",
            "|amoxicillin                  |Drug_Ingredient          |\n",
            "|respiratory tract infection  |Disease_Syndrome_Disorder|\n",
            "|She                          |Gender                   |\n",
            "|metformin                    |Drug_Ingredient          |\n",
            "|glipizide                    |Drug_Ingredient          |\n",
            "|dapagliflozin                |Drug_Ingredient          |\n",
            "|T2DM                         |Drug_Ingredient          |\n",
            "|atorvastatin                 |Drug_Ingredient          |\n",
            "|gemfibrozil                  |Drug_Ingredient          |\n",
            "|HTG                          |Drug_Ingredient          |\n",
            "|She                          |Gender                   |\n",
            "|dapagliflozin                |Drug_Ingredient          |\n",
            "|for six months               |Duration                 |\n",
            "|dry oral mucosa              |Symptom                  |\n",
            "|her                          |Gender                   |\n",
            "|abdominal examination        |Test                     |\n",
            "|benign                       |Test_Result              |\n",
            "|tenderness                   |Symptom                  |\n",
            "|guarding                     |Symptom                  |\n",
            "|rigidity                     |Symptom                  |\n",
            "|laboratory                   |Test                     |\n",
            "|admission                    |Admission_Discharge      |\n",
            "|serum glucose                |Test                     |\n",
            "|111 mg/dl                    |Test_Result              |\n",
            "|bicarbonate                  |Test                     |\n",
            "|18 mmol/l                    |Test_Result              |\n",
            "|anion gap                    |Test                     |\n",
            "|20                           |Test_Result              |\n",
            "|creatinine                   |Test                     |\n",
            "+-----------------------------+-------------------------+\n",
            "only showing top 50 rows\n",
            "\n"
          ]
        }
      ]
    },
    {
      "cell_type": "code",
      "metadata": {
        "id": "79Fa9MToYk2q",
        "outputId": "b626dda8-898f-49ab-904b-56a8afe2fde3"
      },
      "source": [
        "# ngram results\n",
        "\n",
        "ngram_ner_results.select(F.explode(F.arrays_zip(\"merged_chunks.result\",\"merged_chunks.metadata\")).alias(\"cols\"))\\\n",
        "                 .select(F.expr(\"cols['0']\").alias(\"key_phrase_candidate\"),\n",
        "                         F.expr(\"cols['1']['entity']\").alias(\"label\")).filter(\"label == 'UNK'\").show(50, truncate=False)"
      ],
      "execution_count": null,
      "outputs": [
        {
          "name": "stdout",
          "output_type": "stream",
          "text": [
            "+--------------------------------+-----+\n",
            "|key_phrase_candidate            |label|\n",
            "+--------------------------------+-----+\n",
            "|28-year-old female history      |UNK  |\n",
            "|female history gestational      |UNK  |\n",
            "|history gestational diabetes    |UNK  |\n",
            "|gestational diabetes mellitus   |UNK  |\n",
            "|diabetes mellitus diagnosed     |UNK  |\n",
            "|mellitus diagnosed years        |UNK  |\n",
            "|diagnosed years prior           |UNK  |\n",
            "|years prior presentation        |UNK  |\n",
            "|prior presentation subsequent   |UNK  |\n",
            "|presentation subsequent type    |UNK  |\n",
            "|subsequent type diabetes        |UNK  |\n",
            "|type diabetes mellitus          |UNK  |\n",
            "|diabetes mellitus (             |UNK  |\n",
            "|mellitus ( T2DM                 |UNK  |\n",
            "|( T2DM ),                       |UNK  |\n",
            "|T2DM ), prior                   |UNK  |\n",
            "|), prior episode                |UNK  |\n",
            "|prior episode HTG-induced       |UNK  |\n",
            "|episode HTG-induced pancreatitis|UNK  |\n",
            "|HTG-induced pancreatitis years  |UNK  |\n",
            "|pancreatitis years prior        |UNK  |\n",
            "|years prior presentation        |UNK  |\n",
            "|prior presentation ,            |UNK  |\n",
            "|presentation , acute            |UNK  |\n",
            "|, acute hepatitis               |UNK  |\n",
            "|acute hepatitis ,               |UNK  |\n",
            "|hepatitis , obesity             |UNK  |\n",
            "|, obesity body                  |UNK  |\n",
            "|obesity body mass               |UNK  |\n",
            "|body mass index                 |UNK  |\n",
            "|mass index (                    |UNK  |\n",
            "|index ( BMI                     |UNK  |\n",
            "|( BMI )                         |UNK  |\n",
            "|BMI ) 33.5                      |UNK  |\n",
            "|) 33.5 kg/m2                    |UNK  |\n",
            "|33.5 kg/m2 ,                    |UNK  |\n",
            "|kg/m2 , presented               |UNK  |\n",
            "|, presented one-week            |UNK  |\n",
            "|presented one-week history      |UNK  |\n",
            "|one-week history polyuria       |UNK  |\n",
            "|history polyuria ,              |UNK  |\n",
            "|polyuria , polydipsia           |UNK  |\n",
            "|, polydipsia ,                  |UNK  |\n",
            "|polydipsia , poor               |UNK  |\n",
            "|, poor appetite                 |UNK  |\n",
            "|poor appetite ,                 |UNK  |\n",
            "|appetite , vomiting             |UNK  |\n",
            "|, vomiting .                    |UNK  |\n",
            "|vomiting . weeks                |UNK  |\n",
            "|. weeks prior                   |UNK  |\n",
            "+--------------------------------+-----+\n",
            "only showing top 50 rows\n",
            "\n"
          ]
        }
      ]
    },
    {
      "cell_type": "code",
      "metadata": {
        "id": "INsnVCDAYk2r",
        "outputId": "6f9412a2-10db-4832-efac-0f633a569527"
      },
      "source": [
        "# merged (NER chunk + ngram) results\n",
        "\n",
        "ngram_ner_results.select(F.explode(F.arrays_zip(\"merged_chunks.result\",\"merged_chunks.metadata\")).alias(\"cols\"))\\\n",
        "                 .select(F.expr(\"cols['0']\").alias(\"key_phrase_candidate\"),\n",
        "                         F.expr(\"cols['1']['entity']\").alias(\"label\")).show(50, truncate=False)"
      ],
      "execution_count": null,
      "outputs": [
        {
          "name": "stdout",
          "output_type": "stream",
          "text": [
            "+--------------------------------+-------------------------+\n",
            "|key_phrase_candidate            |label                    |\n",
            "+--------------------------------+-------------------------+\n",
            "|28-year-old female history      |UNK                      |\n",
            "|28-year-old                     |Age                      |\n",
            "|female history gestational      |UNK                      |\n",
            "|female                          |Gender                   |\n",
            "|history gestational diabetes    |UNK                      |\n",
            "|gestational diabetes mellitus   |UNK                      |\n",
            "|gestational diabetes mellitus   |Diabetes                 |\n",
            "|diabetes mellitus diagnosed     |UNK                      |\n",
            "|mellitus diagnosed years        |UNK                      |\n",
            "|diagnosed years prior           |UNK                      |\n",
            "|eight years prior               |RelativeDate             |\n",
            "|years prior presentation        |UNK                      |\n",
            "|prior presentation subsequent   |UNK                      |\n",
            "|presentation subsequent type    |UNK                      |\n",
            "|subsequent type diabetes        |UNK                      |\n",
            "|type diabetes mellitus          |UNK                      |\n",
            "|type two diabetes mellitus      |Diabetes                 |\n",
            "|diabetes mellitus (             |UNK                      |\n",
            "|mellitus ( T2DM                 |UNK                      |\n",
            "|( T2DM ),                       |UNK                      |\n",
            "|T2DM ), prior                   |UNK                      |\n",
            "|T2DM                            |Diabetes                 |\n",
            "|), prior episode                |UNK                      |\n",
            "|prior episode HTG-induced       |UNK                      |\n",
            "|episode HTG-induced pancreatitis|UNK                      |\n",
            "|HTG-induced pancreatitis years  |UNK                      |\n",
            "|HTG-induced pancreatitis        |Disease_Syndrome_Disorder|\n",
            "|pancreatitis years prior        |UNK                      |\n",
            "|three years prior               |RelativeDate             |\n",
            "|years prior presentation        |UNK                      |\n",
            "|prior presentation ,            |UNK                      |\n",
            "|presentation , acute            |UNK                      |\n",
            "|, acute hepatitis               |UNK                      |\n",
            "|acute hepatitis ,               |UNK                      |\n",
            "|acute                           |Modifier                 |\n",
            "|hepatitis , obesity             |UNK                      |\n",
            "|hepatitis                       |Communicable_Disease     |\n",
            "|, obesity body                  |UNK                      |\n",
            "|obesity body mass               |UNK                      |\n",
            "|obesity                         |Obesity                  |\n",
            "|body mass index                 |UNK                      |\n",
            "|body mass index                 |Symptom                  |\n",
            "|mass index (                    |UNK                      |\n",
            "|index ( BMI                     |UNK                      |\n",
            "|( BMI )                         |UNK                      |\n",
            "|BMI ) 33.5                      |UNK                      |\n",
            "|) 33.5 kg/m2                    |UNK                      |\n",
            "|33.5 kg/m2 ,                    |UNK                      |\n",
            "|33.5 kg/m2                      |Weight                   |\n",
            "|kg/m2 , presented               |UNK                      |\n",
            "+--------------------------------+-------------------------+\n",
            "only showing top 50 rows\n",
            "\n"
          ]
        }
      ]
    },
    {
      "cell_type": "markdown",
      "metadata": {
        "id": "gGshDCofYk2r"
      },
      "source": [
        "**Show the key phrase candidates and their source (NER or NGramGenerator).**"
      ]
    },
    {
      "cell_type": "code",
      "metadata": {
        "id": "U64EOxqjYk2r",
        "outputId": "226a6447-9807-40da-9cc6-41cfcc220750"
      },
      "source": [
        "ngram_ner_results.selectExpr(\"explode(merged_chunks) AS key_phrase_candidate\")\\\n",
        "                 .selectExpr(\"key_phrase_candidate.result AS key_phrase_candidate\",\n",
        "                             \"IF(key_phrase_candidate.metadata.entity = 'UNK', 'ngram', 'NER') AS source\",\n",
        "                             \"key_phrase_candidate.metadata.sentence\")\\\n",
        "                 .show(50, truncate=False)"
      ],
      "execution_count": null,
      "outputs": [
        {
          "name": "stdout",
          "output_type": "stream",
          "text": [
            "+--------------------------------+------+--------+\n",
            "|key_phrase_candidate            |source|sentence|\n",
            "+--------------------------------+------+--------+\n",
            "|28-year-old female history      |ngram |0       |\n",
            "|28-year-old                     |NER   |0       |\n",
            "|female history gestational      |ngram |0       |\n",
            "|female                          |NER   |0       |\n",
            "|history gestational diabetes    |ngram |0       |\n",
            "|gestational diabetes mellitus   |ngram |0       |\n",
            "|gestational diabetes mellitus   |NER   |0       |\n",
            "|diabetes mellitus diagnosed     |ngram |0       |\n",
            "|mellitus diagnosed years        |ngram |0       |\n",
            "|diagnosed years prior           |ngram |0       |\n",
            "|eight years prior               |NER   |0       |\n",
            "|years prior presentation        |ngram |0       |\n",
            "|prior presentation subsequent   |ngram |0       |\n",
            "|presentation subsequent type    |ngram |0       |\n",
            "|subsequent type diabetes        |ngram |0       |\n",
            "|type diabetes mellitus          |ngram |0       |\n",
            "|type two diabetes mellitus      |NER   |0       |\n",
            "|diabetes mellitus (             |ngram |0       |\n",
            "|mellitus ( T2DM                 |ngram |0       |\n",
            "|( T2DM ),                       |ngram |0       |\n",
            "|T2DM ), prior                   |ngram |0       |\n",
            "|T2DM                            |NER   |0       |\n",
            "|), prior episode                |ngram |0       |\n",
            "|prior episode HTG-induced       |ngram |0       |\n",
            "|episode HTG-induced pancreatitis|ngram |0       |\n",
            "|HTG-induced pancreatitis years  |ngram |0       |\n",
            "|HTG-induced pancreatitis        |NER   |0       |\n",
            "|pancreatitis years prior        |ngram |0       |\n",
            "|three years prior               |NER   |0       |\n",
            "|years prior presentation        |ngram |0       |\n",
            "|prior presentation ,            |ngram |0       |\n",
            "|presentation , acute            |ngram |0       |\n",
            "|, acute hepatitis               |ngram |0       |\n",
            "|acute hepatitis ,               |ngram |0       |\n",
            "|acute                           |NER   |0       |\n",
            "|hepatitis , obesity             |ngram |0       |\n",
            "|hepatitis                       |NER   |0       |\n",
            "|, obesity body                  |ngram |0       |\n",
            "|obesity body mass               |ngram |0       |\n",
            "|obesity                         |NER   |0       |\n",
            "|body mass index                 |ngram |0       |\n",
            "|body mass index                 |NER   |0       |\n",
            "|mass index (                    |ngram |0       |\n",
            "|index ( BMI                     |ngram |0       |\n",
            "|( BMI )                         |ngram |0       |\n",
            "|BMI ) 33.5                      |ngram |0       |\n",
            "|) 33.5 kg/m2                    |ngram |0       |\n",
            "|33.5 kg/m2 ,                    |ngram |0       |\n",
            "|33.5 kg/m2                      |NER   |0       |\n",
            "|kg/m2 , presented               |ngram |0       |\n",
            "+--------------------------------+------+--------+\n",
            "only showing top 50 rows\n",
            "\n"
          ]
        }
      ]
    },
    {
      "cell_type": "markdown",
      "metadata": {
        "id": "dukX0jo-Yk2s"
      },
      "source": [
        "**Show the extracted key phrases and their scores.**"
      ]
    },
    {
      "cell_type": "code",
      "metadata": {
        "id": "2UrsiP7JYk2s",
        "outputId": "e95b75f9-90a6-49c5-b06e-0db36f4a8720"
      },
      "source": [
        "ngram_ner_results.select(F.explode(F.arrays_zip(\"key_phrases.result\",\"key_phrases.metadata\")).alias(\"cols\"))\\\n",
        "                 .select(F.expr(\"cols['0']\").alias(\"key_phrase\"),\n",
        "                         F.expr(\"cols['1']['entity']\").alias(\"label\"),\n",
        "                         F.expr(\"cols['1']['DocumentSimilarity']\").alias(\"DocumentSimilarity\"),\n",
        "                         F.expr(\"cols['1']['MMRScore']\").alias(\"MMRScore\"),\n",
        "                         F.expr(\"cols['1']['sentence']\").alias(\"sentence\")).show(truncate=False)"
      ],
      "execution_count": null,
      "outputs": [
        {
          "name": "stdout",
          "output_type": "stream",
          "text": [
            "+--------------------------------+--------+-------------------+-------------------+--------+\n",
            "|key_phrase                      |label   |DocumentSimilarity |MMRScore           |sentence|\n",
            "+--------------------------------+--------+-------------------+-------------------+--------+\n",
            "|type two diabetes mellitus      |Diabetes|0.7639750686118073 |0.4583850593816694 |0       |\n",
            "|subsequent type diabetes        |UNK     |0.7503709443591438 |0.08298243928224425|0       |\n",
            "|HTG-induced pancreatitis years  |UNK     |0.6817062970203589 |0.11246275270031031|0       |\n",
            "|hepatitis obesity               |UNK     |0.6666053470245074 |0.1177052008980295 |0       |\n",
            "|mellitus diagnosed years        |UNK     |0.6389213391545323 |0.08129479185432026|0       |\n",
            "|history gestational diabetes    |UNK     |0.6219876368539883 |0.0950104202982544 |0       |\n",
            "|vomiting                        |UNK     |0.5824238088130589 |0.14864183399720493|0       |\n",
            "|admitted starvation ketosis     |UNK     |0.5789875069392564 |0.12008073486190007|0       |\n",
            "|five-day amoxicillin respiratory|UNK     |0.5330653868257814 |0.09428153526023508|0       |\n",
            "|28-year-old female history      |UNK     |0.38613601247069695|0.12987678861407687|0       |\n",
            "+--------------------------------+--------+-------------------+-------------------+--------+\n",
            "\n"
          ]
        }
      ]
    },
    {
      "cell_type": "markdown",
      "metadata": {
        "id": "hoBP1aCCYk2t"
      },
      "source": [
        "**Show the extracted key phrases and their sources.**"
      ]
    },
    {
      "cell_type": "code",
      "metadata": {
        "id": "M3WfRE6XYk2t",
        "outputId": "57e66c89-ba0a-4ce0-fb55-5ab17ca4ea47"
      },
      "source": [
        "ngram_ner_results.selectExpr(\"explode(key_phrases) AS key_phrase\")\\\n",
        "                 .selectExpr(\n",
        "                     \"SUBSTRING(key_phrase.result, 0, 40) as key_phrase\",\n",
        "                     \"IF(key_phrase.metadata.entity = 'UNK', 'ngrams', 'NER') AS source\",\n",
        "                     \"key_phrase.metadata.DocumentSimilarity\",\n",
        "                     \"key_phrase.metadata.MMRScore\",\n",
        "                     \"key_phrase.metadata.sentence\")\\\n",
        "                 .show(truncate=False)"
      ],
      "execution_count": null,
      "outputs": [
        {
          "name": "stdout",
          "output_type": "stream",
          "text": [
            "+--------------------------------+------+-------------------+-------------------+--------+\n",
            "|key_phrase                      |source|DocumentSimilarity |MMRScore           |sentence|\n",
            "+--------------------------------+------+-------------------+-------------------+--------+\n",
            "|type two diabetes mellitus      |NER   |0.7639750686118073 |0.4583850593816694 |0       |\n",
            "|subsequent type diabetes        |ngrams|0.7503709443591438 |0.08298243928224425|0       |\n",
            "|HTG-induced pancreatitis years  |ngrams|0.6817062970203589 |0.11246275270031031|0       |\n",
            "|hepatitis obesity               |ngrams|0.6666053470245074 |0.1177052008980295 |0       |\n",
            "|mellitus diagnosed years        |ngrams|0.6389213391545323 |0.08129479185432026|0       |\n",
            "|history gestational diabetes    |ngrams|0.6219876368539883 |0.0950104202982544 |0       |\n",
            "|vomiting                        |ngrams|0.5824238088130589 |0.14864183399720493|0       |\n",
            "|admitted starvation ketosis     |ngrams|0.5789875069392564 |0.12008073486190007|0       |\n",
            "|five-day amoxicillin respiratory|ngrams|0.5330653868257814 |0.09428153526023508|0       |\n",
            "|28-year-old female history      |ngrams|0.38613601247069695|0.12987678861407687|0       |\n",
            "+--------------------------------+------+-------------------+-------------------+--------+\n",
            "\n"
          ]
        }
      ]
    },
    {
      "cell_type": "markdown",
      "metadata": {
        "id": "deCgBipGYk2t"
      },
      "source": [
        "**Now we will change the default embeddings of `ChunkKeyPhraseExtraction` (`sbert_jsl_medium_uncased`) to `sbiobert_base_cased_mli` and see the results.**"
      ]
    },
    {
      "cell_type": "code",
      "metadata": {
        "id": "Z9CyUctRYk2u",
        "outputId": "86041153-265f-4365-b46f-ca4192dd777d"
      },
      "source": [
        "ngram_ner_key_phrase_bio = ChunkKeyPhraseExtraction.pretrained(\"sbiobert_base_cased_mli\", \"en\", \"clinical/models\")\\\n",
        "    .setTopN(10) \\\n",
        "    .setDivergence(0.4)\\\n",
        "    .setInputCols([\"sentences\", \"merged_chunks\"])\\\n",
        "    .setOutputCol(\"key_phrases\")\n",
        "\n",
        "ngram_ner_bio_pipeline = Pipeline(stages=[\n",
        "    documenter, \n",
        "    sentencer, \n",
        "    tokenizer, \n",
        "    stop_words_cleaner,\n",
        "    ngram_generator,\n",
        "    embeddings, \n",
        "    ner_tagger, \n",
        "    ner_converter, \n",
        "    chunk_merger,\n",
        "    ngram_ner_key_phrase_bio\n",
        "])"
      ],
      "execution_count": null,
      "outputs": [
        {
          "name": "stdout",
          "output_type": "stream",
          "text": [
            "sbiobert_base_cased_mli download started this may take some time.\n",
            "Approximate size to download 384.3 MB\n",
            "[OK!]\n"
          ]
        }
      ]
    },
    {
      "cell_type": "code",
      "metadata": {
        "id": "7uaV-f4vYk2u"
      },
      "source": [
        "ngram_ner_bio_results = ngram_ner_bio_pipeline.fit(empty_data).transform(textDF)"
      ],
      "execution_count": null,
      "outputs": []
    },
    {
      "cell_type": "code",
      "metadata": {
        "id": "Nll3eR-KYk2u",
        "outputId": "b014166c-6856-4f52-ad52-ef9e81aa2a7b"
      },
      "source": [
        "# sbiobert_base_cased_mli\n",
        "\n",
        "ngram_ner_bio_results.selectExpr(\"explode(key_phrases) AS key_phrase\")\\\n",
        "                     .selectExpr(\n",
        "                         \"SUBSTRING(key_phrase.result, 0, 40) as key_phrase\",\n",
        "                         \"IF(key_phrase.metadata.entity = 'UNK', 'ngrams', 'NER') AS source\",\n",
        "                         \"key_phrase.metadata.DocumentSimilarity\",\n",
        "                         \"key_phrase.metadata.MMRScore\",\n",
        "                         \"key_phrase.metadata.sentence\")\\\n",
        "                     .show(truncate=False)"
      ],
      "execution_count": null,
      "outputs": [
        {
          "name": "stdout",
          "output_type": "stream",
          "text": [
            "+--------------------------------+------+-------------------+----------------------+--------+\n",
            "|key_phrase                      |source|DocumentSimilarity |MMRScore              |sentence|\n",
            "+--------------------------------+------+-------------------+----------------------+--------+\n",
            "|one-week history polyuria       |ngrams|0.6088061606084895 |0.36528371088016365   |0       |\n",
            "|HTG-induced pancreatitis years  |ngrams|0.5841954619507056 |0.11729245038840502   |0       |\n",
            "|insulin glargine night          |ngrams|0.5542673378450764 |0.07800352732841304   |0       |\n",
            "|history gestational diabetes    |ngrams|0.5492484696251535 |0.07024020676412779   |0       |\n",
            "|28-year-old female history      |ngrams|0.5053959908272412 |0.1261157344429971    |0       |\n",
            "|admitted starvation ketosis     |ngrams|0.5019899057081652 |0.04270516736484414   |0       |\n",
            "|triglycerides 508 mg/dL         |ngrams|0.4961037081394255 |0.10460739879049963   |0       |\n",
            "|vomiting weeks                  |ngrams|0.4524399229033075 |0.004469609339572023  |0       |\n",
            "|five-day amoxicillin respiratory|ngrams|0.41173195020437636|0.005644557916460097  |0       |\n",
            "|HbA1c 10%                       |ngrams|0.39394068851978004|-3.7312317951476714E-4|0       |\n",
            "+--------------------------------+------+-------------------+----------------------+--------+\n",
            "\n"
          ]
        }
      ]
    },
    {
      "cell_type": "code",
      "metadata": {
        "id": "qLkvCwerYk2w",
        "outputId": "4646cbda-7627-474a-9b76-14de49a7c321"
      },
      "source": [
        "# sbert_jsl_medium_uncased (default)\n",
        "\n",
        "ngram_ner_results.selectExpr(\"explode(key_phrases) AS key_phrase\")\\\n",
        "                 .selectExpr(\n",
        "                     \"SUBSTRING(key_phrase.result, 0, 40) as key_phrase\",\n",
        "                     \"IF(key_phrase.metadata.entity = 'UNK', 'ngrams', 'NER') AS source\",\n",
        "                     \"key_phrase.metadata.DocumentSimilarity\",\n",
        "                     \"key_phrase.metadata.MMRScore\",\n",
        "                     \"key_phrase.metadata.sentence\")\\\n",
        "                 .show(truncate=False)"
      ],
      "execution_count": null,
      "outputs": [
        {
          "name": "stdout",
          "output_type": "stream",
          "text": [
            "+--------------------------------+------+-------------------+-------------------+--------+\n",
            "|key_phrase                      |source|DocumentSimilarity |MMRScore           |sentence|\n",
            "+--------------------------------+------+-------------------+-------------------+--------+\n",
            "|type two diabetes mellitus      |NER   |0.7639750686118073 |0.4583850593816694 |0       |\n",
            "|subsequent type diabetes        |ngrams|0.7503709443591438 |0.08298243928224425|0       |\n",
            "|HTG-induced pancreatitis years  |ngrams|0.6817062970203589 |0.11246275270031031|0       |\n",
            "|hepatitis obesity               |ngrams|0.6666053470245074 |0.1177052008980295 |0       |\n",
            "|mellitus diagnosed years        |ngrams|0.6389213391545323 |0.08129479185432026|0       |\n",
            "|history gestational diabetes    |ngrams|0.6219876368539883 |0.0950104202982544 |0       |\n",
            "|vomiting                        |ngrams|0.5824238088130589 |0.14864183399720493|0       |\n",
            "|admitted starvation ketosis     |ngrams|0.5789875069392564 |0.12008073486190007|0       |\n",
            "|five-day amoxicillin respiratory|ngrams|0.5330653868257814 |0.09428153526023508|0       |\n",
            "|28-year-old female history      |ngrams|0.38613601247069695|0.12987678861407687|0       |\n",
            "+--------------------------------+------+-------------------+-------------------+--------+\n",
            "\n"
          ]
        }
      ]
    },
    {
      "cell_type": "markdown",
      "metadata": {
        "id": "eCZzfa-kYk2x"
      },
      "source": [
        "**Lets change `.setConcatenateSentences`-> False for checking the results by using sentence level embeddings and getting their average for calculating the document average.**"
      ]
    },
    {
      "cell_type": "code",
      "metadata": {
        "id": "YmTmrjQxYk2x",
        "outputId": "92eec783-4c8a-468a-c9fd-3e7b0304bc0a"
      },
      "source": [
        "ngram_ner_key_phrase_sent = ChunkKeyPhraseExtraction.pretrained(\"sbiobert_base_cased_mli\", \"en\", \"clinical/models\")\\\n",
        "    .setTopN(10) \\\n",
        "    .setDivergence(0.4)\\\n",
        "    .setInputCols([\"sentences\", \"merged_chunks\"])\\\n",
        "    .setOutputCol(\"key_phrases\")\\\n",
        "    .setConcatenateSentences(False)\n",
        "\n",
        "ngram_ner_sent_pipeline = Pipeline(stages=[\n",
        "    documenter, \n",
        "    sentencer, \n",
        "    tokenizer, \n",
        "    stop_words_cleaner,\n",
        "    ngram_generator,\n",
        "    embeddings, \n",
        "    ner_tagger, \n",
        "    ner_converter, \n",
        "    chunk_merger,\n",
        "    ngram_ner_key_phrase_sent\n",
        "])"
      ],
      "execution_count": null,
      "outputs": [
        {
          "name": "stdout",
          "output_type": "stream",
          "text": [
            "sbiobert_base_cased_mli download started this may take some time.\n",
            "Approximate size to download 384.3 MB\n",
            "[OK!]\n"
          ]
        }
      ]
    },
    {
      "cell_type": "code",
      "metadata": {
        "id": "gtgey9_WYk2x"
      },
      "source": [
        "ngram_ner_sent_results = ngram_ner_sent_pipeline.fit(empty_data).transform(textDF)"
      ],
      "execution_count": null,
      "outputs": []
    },
    {
      "cell_type": "code",
      "metadata": {
        "id": "m6PqfzUnYk2y",
        "outputId": "df86e63a-7b4f-423c-e209-24d5ff090b5c"
      },
      "source": [
        "# .setConcatenateSentences(False)\n",
        "\n",
        "ngram_ner_sent_results.selectExpr(\"explode(key_phrases) AS key_phrase\")\\\n",
        "                      .selectExpr(\n",
        "                          \"SUBSTRING(key_phrase.result, 0, 40) as key_phrase\",\n",
        "                          \"IF(key_phrase.metadata.entity = 'UNK', 'ngrams', 'NER') AS source\",\n",
        "                          \"key_phrase.metadata.DocumentSimilarity\",\n",
        "                          \"key_phrase.metadata.MMRScore\",\n",
        "                          \"key_phrase.metadata.sentence\")\\\n",
        "                      .show(50,truncate=False)"
      ],
      "execution_count": null,
      "outputs": [
        {
          "name": "stdout",
          "output_type": "stream",
          "text": [
            "+------------------------------------+------+--------------------+--------------------+--------+\n",
            "|key_phrase                          |source|DocumentSimilarity  |MMRScore            |sentence|\n",
            "+------------------------------------+------+--------------------+--------------------+--------+\n",
            "|one-week history polyuria           |ngrams|0.1572482220441977  |0.09434893697560838 |0       |\n",
            "|HTG-induced pancreatitis years      |ngrams|0.15313217083038327 |-0.14134553456113808|0       |\n",
            "|insulin glargine night              |ngrams|0.13809328775688035 |-0.13992695390370963|0       |\n",
            "|female history gestational          |ngrams|0.10183598443402134 |-0.11137552851495591|0       |\n",
            "|HbA1c 10%                           |ngrams|0.09713650805171166 |-0.13530046786569241|0       |\n",
            "|dapagliflozin T2DM atorvastatin     |ngrams|0.09236916291173515 |-0.09540790835310184|0       |\n",
            "|days prior admission                |ngrams|0.08338127287781387 |-0.1567861341022248 |0       |\n",
            "|33.5 kg/m2                          |ngrams|0.06661306867605732 |-0.06753053630437403|0       |\n",
            "|inhibitors discontinued indefinitely|ngrams|0.04258009319958271 |-0.11689903668676203|0       |\n",
            "|with meals                          |NER   |0.041078271693180714|-0.1548950929962506 |14      |\n",
            "+------------------------------------+------+--------------------+--------------------+--------+\n",
            "\n"
          ]
        }
      ]
    },
    {
      "cell_type": "code",
      "metadata": {
        "id": "-Ci8iBCaYk2y",
        "outputId": "ff2e4451-0c86-4afb-ae77-be79a2efec41"
      },
      "source": [
        "# .setConcatenateSentences(True) # default\n",
        "\n",
        "ngram_ner_bio_results.selectExpr(\"explode(key_phrases) AS key_phrase\")\\\n",
        "                     .selectExpr(\n",
        "                         \"SUBSTRING(key_phrase.result, 0, 40) as key_phrase\",\n",
        "                         \"IF(key_phrase.metadata.entity = 'UNK', 'ngrams', 'NER') AS source\",\n",
        "                         \"key_phrase.metadata.DocumentSimilarity\",\n",
        "                         \"key_phrase.metadata.MMRScore\",\n",
        "                         \"key_phrase.metadata.sentence\")\\\n",
        "                     .show(truncate=False)"
      ],
      "execution_count": null,
      "outputs": [
        {
          "name": "stdout",
          "output_type": "stream",
          "text": [
            "+--------------------------------+------+-------------------+----------------------+--------+\n",
            "|key_phrase                      |source|DocumentSimilarity |MMRScore              |sentence|\n",
            "+--------------------------------+------+-------------------+----------------------+--------+\n",
            "|one-week history polyuria       |ngrams|0.6088061606084895 |0.36528371088016365   |0       |\n",
            "|HTG-induced pancreatitis years  |ngrams|0.5841954619507056 |0.11729245038840502   |0       |\n",
            "|insulin glargine night          |ngrams|0.5542673378450764 |0.07800352732841304   |0       |\n",
            "|history gestational diabetes    |ngrams|0.5492484696251535 |0.07024020676412779   |0       |\n",
            "|28-year-old female history      |ngrams|0.5053959908272412 |0.1261157344429971    |0       |\n",
            "|admitted starvation ketosis     |ngrams|0.5019899057081652 |0.04270516736484414   |0       |\n",
            "|triglycerides 508 mg/dL         |ngrams|0.4961037081394255 |0.10460739879049963   |0       |\n",
            "|vomiting weeks                  |ngrams|0.4524399229033075 |0.004469609339572023  |0       |\n",
            "|five-day amoxicillin respiratory|ngrams|0.41173195020437636|0.005644557916460097  |0       |\n",
            "|HbA1c 10%                       |ngrams|0.39394068851978004|-3.7312317951476714E-4|0       |\n",
            "+--------------------------------+------+-------------------+----------------------+--------+\n",
            "\n"
          ]
        }
      ]
    },
    {
      "cell_type": "markdown",
      "metadata": {
        "id": "q0ot7hOKYk2y"
      },
      "source": [
        "# with YAKE Keyword Extraction\n",
        " \n",
        "Lets get the keys phrases using `YakeKeywordExtraction` and compare the results with `ChunkKeyPhraseExtraction`."
      ]
    },
    {
      "cell_type": "code",
      "metadata": {
        "id": "2JhcRY5hYk2z",
        "outputId": "20191fd8-efc3-4140-88ca-164747483d1f"
      },
      "source": [
        "documenter = DocumentAssembler() \\\n",
        "    .setInputCol(\"text\") \\\n",
        "    .setOutputCol(\"document\")\n",
        "\n",
        "sentencer = SentenceDetector() \\\n",
        "    .setInputCols([\"document\"]) \\\n",
        "    .setOutputCol(\"sentences\")\n",
        "\n",
        "tokenizer = Tokenizer() \\\n",
        "    .setInputCols([\"document\"]) \\\n",
        "    .setOutputCol(\"tokens\") \\\n",
        "    .setSplitChars(['\\[','\\]']) \\\n",
        "\n",
        "stop_words_cleaner = StopWordsCleaner.pretrained()\\\n",
        "    .setInputCols(\"tokens\")\\\n",
        "    .setOutputCol(\"clean_tokens\")\\\n",
        "    .setCaseSensitive(False)\n",
        "\n",
        "keywords = YakeKeywordExtraction() \\\n",
        "    .setInputCols(\"clean_tokens\") \\\n",
        "    .setOutputCol(\"yake\") \\\n",
        "    .setMinNGrams(1) \\\n",
        "    .setMaxNGrams(3)\\\n",
        "    .setNKeywords(20)\\\n",
        "\n",
        "yake_key_phrase_extractor = ChunkKeyPhraseExtraction.pretrained()\\\n",
        "    .setTopN(10) \\\n",
        "    .setDivergence(0.4)\\\n",
        "    .setInputCols([\"sentences\", \"yake\"])\\\n",
        "    .setOutputCol(\"yake_key_phrases\")\n",
        "\n",
        "yake_pipeline = Pipeline(stages=[\n",
        "    documenter, \n",
        "    sentencer, \n",
        "    tokenizer, \n",
        "    stop_words_cleaner,\n",
        "    keywords,\n",
        "    yake_key_phrase_extractor\n",
        "])"
      ],
      "execution_count": null,
      "outputs": [
        {
          "name": "stdout",
          "output_type": "stream",
          "text": [
            "stopwords_en download started this may take some time.\n",
            "Approximate size to download 2.9 KB\n",
            "[OK!]\n",
            "sbert_jsl_medium_uncased download started this may take some time.\n",
            "Approximate size to download 146.8 MB\n",
            "[OK!]\n"
          ]
        }
      ]
    },
    {
      "cell_type": "code",
      "metadata": {
        "id": "K93xAUn6Yk2z"
      },
      "source": [
        "yake_results = yake_pipeline.fit(empty_data).transform(textDF)"
      ],
      "execution_count": null,
      "outputs": []
    },
    {
      "cell_type": "markdown",
      "metadata": {
        "id": "ZnK_qinoYk2z"
      },
      "source": [
        "**Lets check YAKE Keyword Extraction results and scores.**"
      ]
    },
    {
      "cell_type": "code",
      "metadata": {
        "id": "-8osxIcrYk20",
        "outputId": "b30279d8-05c3-441d-a141-b16f00855f41"
      },
      "source": [
        "yake_results.selectExpr(\"explode(yake) AS key_phrase_candidate\").show(30,truncate=False)"
      ],
      "execution_count": null,
      "outputs": [
        {
          "name": "stdout",
          "output_type": "stream",
          "text": [
            "+---------------------------------------------------------------------------------------------------+\n",
            "|key_phrase_candidate                                                                               |\n",
            "+---------------------------------------------------------------------------------------------------+\n",
            "|{chunk, 91, 95, prior, {score -> 0.029673513395379065, sentence -> 0}, []}                         |\n",
            "|{chunk, 100, 111, presentation, {score -> 0.03159661517236814, sentence -> 0}, []}                 |\n",
            "|{chunk, 169, 173, prior, {score -> 0.029673513395379065, sentence -> 0}, []}                       |\n",
            "|{chunk, 223, 227, prior, {score -> 0.029673513395379065, sentence -> 0}, []}                       |\n",
            "|{chunk, 232, 243, presentation, {score -> 0.03159661517236814, sentence -> 0}, []}                 |\n",
            "|{chunk, 445, 449, prior, {score -> 0.029673513395379065, sentence -> 0}, []}                       |\n",
            "|{chunk, 454, 465, presentation, {score -> 0.03159661517236814, sentence -> 0}, []}                 |\n",
            "|{chunk, 721, 732, presentation, {score -> 0.03159661517236814, sentence -> 0}, []}                 |\n",
            "|{chunk, 760, 771, presentation, {score -> 0.03159661517236814, sentence -> 0}, []}                 |\n",
            "|{chunk, 958, 962, serum, {score -> 0.03799266202473545, sentence -> 0}, []}                        |\n",
            "|{chunk, 1158, 1162, serum, {score -> 0.03799266202473545, sentence -> 0}, []}                      |\n",
            "|{chunk, 1194, 1198, serum, {score -> 0.03799266202473545, sentence -> 0}, []}                      |\n",
            "|{chunk, 1405, 1409, prior, {score -> 0.029673513395379065, sentence -> 0}, []}                     |\n",
            "|{chunk, 1436, 1440, serum, {score -> 0.03799266202473545, sentence -> 0}, []}                      |\n",
            "|{chunk, 1477, 1488, presentation, {score -> 0.03159661517236814, sentence -> 0}, []}               |\n",
            "|{chunk, 1567, 1571, serum, {score -> 0.03799266202473545, sentence -> 0}, []}                      |\n",
            "|{chunk, 1819, 1823, prior, {score -> 0.029673513395379065, sentence -> 0}, []}                     |\n",
            "|{chunk, 85, 95, years prior, {score -> 0.030808818777992058, sentence -> 0}, []}                   |\n",
            "|{chunk, 91, 111, prior presentation, {score -> 0.011644010991495998, sentence -> 0}, []}           |\n",
            "|{chunk, 217, 227, years prior, {score -> 0.030808818777992058, sentence -> 0}, []}                 |\n",
            "|{chunk, 223, 243, prior presentation, {score -> 0.011644010991495998, sentence -> 0}, []}          |\n",
            "|{chunk, 445, 465, prior presentation, {score -> 0.011644010991495998, sentence -> 0}, []}          |\n",
            "|{chunk, 1008, 1016, anion gap, {score -> 0.025965846371439553, sentence -> 0}, []}                 |\n",
            "|{chunk, 1531, 1539, anion gap, {score -> 0.025965846371439553, sentence -> 0}, []}                 |\n",
            "|{chunk, 1985, 1993, anion gap, {score -> 0.025965846371439553, sentence -> 0}, []}                 |\n",
            "|{chunk, 69, 95, diagnosed years prior, {score -> 0.03799142861997926, sentence -> 0}, []}          |\n",
            "|{chunk, 85, 111, years prior presentation, {score -> 0.006335399690627251, sentence -> 0}, []}     |\n",
            "|{chunk, 91, 126, prior presentation subsequent, {score -> 0.020272229518351368, sentence -> 0}, []}|\n",
            "|{chunk, 198, 227, pancreatitis years prior, {score -> 0.03799142861997926, sentence -> 0}, []}     |\n",
            "|{chunk, 217, 243, years prior presentation, {score -> 0.006335399690627251, sentence -> 0}, []}    |\n",
            "+---------------------------------------------------------------------------------------------------+\n",
            "only showing top 30 rows\n",
            "\n"
          ]
        }
      ]
    },
    {
      "cell_type": "code",
      "metadata": {
        "id": "FcGztjSdYk20"
      },
      "source": [
        "scores = yake_results.selectExpr(\"explode(arrays_zip(yake.result, yake.metadata)) as resultTuples\") \\\n",
        "                     .selectExpr(\"resultTuples['0'] as keyword\", \"resultTuples['1'].score as score\")"
      ],
      "execution_count": null,
      "outputs": []
    },
    {
      "cell_type": "code",
      "metadata": {
        "id": "dK-ymcWQYk20",
        "outputId": "c862fae4-c9ef-461c-efab-07a70ef97def"
      },
      "source": [
        "scores.orderBy(\"score\", ascending=False).show(20, truncate = False)"
      ],
      "execution_count": null,
      "outputs": [
        {
          "name": "stdout",
          "output_type": "stream",
          "text": [
            "+-----------------------------+--------------------+\n",
            "|keyword                      |score               |\n",
            "+-----------------------------+--------------------+\n",
            "|presentation revealed glucose|0.042288671969857625|\n",
            "|prior analysis due           |0.040835303439078076|\n",
            "|days prior admission         |0.040835303439078076|\n",
            "|serum                        |0.03799266202473545 |\n",
            "|serum                        |0.03799266202473545 |\n",
            "|serum                        |0.03799266202473545 |\n",
            "|serum                        |0.03799266202473545 |\n",
            "|serum                        |0.03799266202473545 |\n",
            "|diagnosed years prior        |0.03799142861997926 |\n",
            "|pancreatitis years prior     |0.03799142861997926 |\n",
            "|patient treated insulin      |0.03390418358075854 |\n",
            "|presentation                 |0.03159661517236814 |\n",
            "|presentation                 |0.03159661517236814 |\n",
            "|presentation                 |0.03159661517236814 |\n",
            "|presentation                 |0.03159661517236814 |\n",
            "|presentation                 |0.03159661517236814 |\n",
            "|presentation                 |0.03159661517236814 |\n",
            "|anion gap elevated           |0.031568192739369824|\n",
            "|years prior                  |0.030808818777992058|\n",
            "|years prior                  |0.030808818777992058|\n",
            "+-----------------------------+--------------------+\n",
            "only showing top 20 rows\n",
            "\n"
          ]
        }
      ]
    },
    {
      "cell_type": "markdown",
      "metadata": {
        "id": "r2RgNx-FYk21"
      },
      "source": [
        "**Show top-10 results for YAKE.**"
      ]
    },
    {
      "cell_type": "code",
      "metadata": {
        "id": "zoGsrieJYk21",
        "outputId": "93bb2d1b-50d4-41aa-f5f3-d5a4a59c2c68"
      },
      "source": [
        "scores.select(\"keyword\", \"score\").distinct().orderBy(\"score\", ascending=False).show(truncate = False)"
      ],
      "execution_count": null,
      "outputs": [
        {
          "name": "stdout",
          "output_type": "stream",
          "text": [
            "+-----------------------------+--------------------+\n",
            "|keyword                      |score               |\n",
            "+-----------------------------+--------------------+\n",
            "|presentation revealed glucose|0.042288671969857625|\n",
            "|prior analysis due           |0.040835303439078076|\n",
            "|days prior admission         |0.040835303439078076|\n",
            "|serum                        |0.03799266202473545 |\n",
            "|diagnosed years prior        |0.03799142861997926 |\n",
            "|pancreatitis years prior     |0.03799142861997926 |\n",
            "|patient treated insulin      |0.03390418358075854 |\n",
            "|presentation                 |0.03159661517236814 |\n",
            "|anion gap elevated           |0.031568192739369824|\n",
            "|years prior                  |0.030808818777992058|\n",
            "+-----------------------------+--------------------+\n",
            "only showing top 10 rows\n",
            "\n"
          ]
        }
      ]
    },
    {
      "cell_type": "markdown",
      "metadata": {
        "id": "3TCgl0hJYk22"
      },
      "source": [
        "**Now we can compare the results with `ChunkKeyPhraseExtraction`.**"
      ]
    },
    {
      "cell_type": "code",
      "metadata": {
        "id": "q8QFQPzFYk22",
        "outputId": "904bf147-fc02-43e5-e193-e860bd6a60f7"
      },
      "source": [
        "yake_results.select(F.explode(F.arrays_zip(\"yake_key_phrases.result\",\"yake_key_phrases.metadata\")).alias(\"cols\"))\\\n",
        "            .select(F.expr(\"cols['0']\").alias(\"key_phrase_candidate\"),\n",
        "                    F.expr(\"cols['1']['DocumentSimilarity']\").alias(\"DocumentSimilarity\"),\n",
        "                    F.expr(\"cols['1']['MMRScore']\").alias(\"MMRScore\"),\n",
        "                    F.expr(\"cols['1']['sentence']\").alias(\"sentence\")).show(truncate=False)"
      ],
      "execution_count": null,
      "outputs": [
        {
          "name": "stdout",
          "output_type": "stream",
          "text": [
            "+------------------------------------+-------------------+--------------------+--------+\n",
            "|key_phrase_candidate                |DocumentSimilarity |MMRScore            |sentence|\n",
            "+------------------------------------+-------------------+--------------------+--------+\n",
            "|pancreatitis years prior            |0.6491587146812722 |0.38949524428591314 |0       |\n",
            "|diagnosed years prior               |0.38594469396979897|-0.0344821482240133 |0       |\n",
            "|respiratory tract infection         |0.34452766290310755|-0.06206619829710405|0       |\n",
            "|patient treated insulin             |0.3413457416284759 |-0.03756776546543272|0       |\n",
            "|serum                               |0.3371024001999838 |0.024651856331397548|0       |\n",
            "|presentation revealed glucose       |0.31458360368143906|-0.1175232903425274 |0       |\n",
            "|examination presentation significant|0.29099950377907047|-0.07343299615665819|0       |\n",
            "|prior analysis due                  |0.22501711661945623|-0.13367738582793495|0       |\n",
            "|prior                               |0.21634008371261446|-0.11618988969237498|0       |\n",
            "|physical examination presentation   |0.19165189487112474|-0.13692354699484025|0       |\n",
            "+------------------------------------+-------------------+--------------------+--------+\n",
            "\n"
          ]
        }
      ]
    },
    {
      "cell_type": "markdown",
      "metadata": {
        "id": "GGfIBfxkYk22"
      },
      "source": [
        "**As you can see, `ChunkKeyPhraseExtraction` results are better than `YakeKeywordExtraction`.**"
      ]
    }
  ]
}
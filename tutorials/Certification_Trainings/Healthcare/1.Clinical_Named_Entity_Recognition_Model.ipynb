{
 "cells": [
  {
   "cell_type": "markdown",
   "metadata": {
    "id": "I08sFJYCxR0Z"
   },
   "source": [
    "![JohnSnowLabs](https://nlp.johnsnowlabs.com/assets/images/logo.png)"
   ]
  },
  {
   "cell_type": "markdown",
   "metadata": {
    "id": "FwJ-P56kq6FU"
   },
   "source": [
    "[![Open In Colab](https://colab.research.google.com/assets/colab-badge.svg)](https://colab.research.google.com/github/JohnSnowLabs/spark-nlp-workshop/blob/master/tutorials/Certification_Trainings/Healthcare/1.Clinical_Named_Entity_Recognition_Model.ipynb)"
   ]
  },
  {
   "cell_type": "markdown",
   "metadata": {
    "id": "nWu_IMfY4L1N"
   },
   "source": [
    "# Clinical Named Entity Recognition (NER)"
   ]
  },
  {
   "cell_type": "markdown",
   "metadata": {
    "id": "Niy3mZAjoayg"
   },
   "source": [
    "##  1. NER Model Implementation in Spark NLP\n",
    "\n",
    "  The deep neural network architecture for NER model in Spark NLP is BiLSTM-CNN-Char framework. a slightly modified version of the architecture proposed by Jason PC Chiu and Eric Nichols ([Named Entity Recognition with Bidirectional LSTM-CNNs](https://arxiv.org/abs/1511.08308)). It is a neural network architecture that automatically detects word and character-level features using a hybrid bidirectional LSTM and CNN architecture, eliminating the need for most feature engineering steps.\n",
    "\n",
    "  In the original framework, the CNN extracts a fixed length feature vector from character-level features. For each word, these vectors are concatenated and fed to the BLSTM network and then to the output layers. They employed a stacked bi-directional recurrent neural network with long short-term memory units to transform word features into named entity tag scores. The extracted features of each word are fed into a forward LSTM network and a backward LSTM network. The output of each network at each time step is decoded by a linear layer and a log-softmax layer into log-probabilities for each tag category. These two vectors are then simply added together to produce the final output. In the architecture of the proposed framework in the original paper, 50-dimensional pretrained word embeddings is used for word features, 25-dimension character embeddings is used for char features, and capitalization features (allCaps, upperInitial, lowercase, mixedCaps, noinfo) are used for case features."
   ]
  },
  {
   "cell_type": "markdown",
   "metadata": {
    "id": "huGcLHSP6oVb"
   },
   "source": [
    "## 2. Blogposts and videos:\n",
    "\n",
    "- [How to Setup Spark NLP for HEALTHCARE on UBUNTU - Video](https://www.youtube.com/watch?v=yKnF-_oz0GE)\n",
    "\n",
    "- [Named Entity Recognition (NER) with BERT in Spark NLP](https://towardsdatascience.com/named-entity-recognition-ner-with-bert-in-spark-nlp-874df20d1d77)\n",
    "\n",
    "- [State of the art Clinical Named Entity Recognition in Spark NLP - Youtube](https://www.youtube.com/watch?v=YM-e4eOiQ34)\n",
    "\n",
    "- [Named Entity Recognition for Healthcare with SparkNLP NerDL and NerCRF](https://medium.com/spark-nlp/named-entity-recognition-for-healthcare-with-sparknlp-nerdl-and-nercrf-a7751b6ad571)\n",
    "\n",
    "- [Named Entity Recognition for Clinical Text](https://medium.com/atlas-research/ner-for-clinical-text-7c73caddd180)"
   ]
  },
  {
   "cell_type": "markdown",
   "metadata": {
    "id": "okhT7AcXxben"
   },
   "source": [
    "## 3. Colab Setup"
   ]
  },
  {
   "cell_type": "code",
   "execution_count": null,
   "metadata": {
    "id": "REmprZQ8Mbrr"
   },
   "outputs": [],
   "source": [
    "import json\n",
    "import os\n",
    "\n",
    "from google.colab import files\n",
    "\n",
    "license_keys = files.upload()\n",
    "\n",
    "with open(list(license_keys.keys())[0]) as f:\n",
    "    license_keys = json.load(f)\n",
    "\n",
    "# Defining license key-value pairs as local variables\n",
    "locals().update(license_keys)\n",
    "\n",
    "# Adding license key-value pairs to environment variables\n",
    "os.environ.update(license_keys)"
   ]
  },
  {
   "cell_type": "code",
   "execution_count": null,
   "metadata": {
    "colab": {
     "base_uri": "https://localhost:8080/"
    },
    "id": "GiigSdavGaeg",
    "outputId": "ed67a6b4-754c-464e-a203-522c60433548"
   },
   "outputs": [],
   "source": [
    "license_keys.keys()"
   ]
  },
  {
   "cell_type": "code",
   "execution_count": null,
   "metadata": {
    "colab": {
     "base_uri": "https://localhost:8080/",
     "height": 36
    },
    "id": "MIjl47npIyCK",
    "outputId": "4464cc38-fb30-4497-ffce-66bc27b2d5c7"
   },
   "outputs": [],
   "source": [
    "license_keys['JSL_VERSION']"
   ]
  },
  {
   "cell_type": "code",
   "execution_count": null,
   "metadata": {
    "colab": {
     "base_uri": "https://localhost:8080/",
     "height": 36
    },
    "id": "VL465qu3GKEG",
    "outputId": "ace132a3-b4eb-4bad-9331-21f0f868b00d"
   },
   "outputs": [],
   "source": [
    "license_keys['PUBLIC_VERSION']"
   ]
  },
  {
   "cell_type": "code",
   "execution_count": null,
   "metadata": {
    "id": "saeJ8JFqt3Dg"
   },
   "outputs": [],
   "source": [
    "# Installing pyspark and spark-nlp\n",
    "! pip install --upgrade -q pyspark==3.1.2 nlu==4.0.1rc4 spark-nlp==$PUBLIC_VERSION\n",
    "\n",
    "# Installing Spark NLP Healthcare\n",
    "! pip install --upgrade -q spark-nlp-jsl==$JSL_VERSION  --extra-index-url https://pypi.johnsnowlabs.com/$SECRET\n",
    "\n",
    "# Installing Spark NLP Display Library for visualization\n",
    "! pip install -q spark-nlp-display"
   ]
  },
  {
   "cell_type": "code",
   "execution_count": null,
   "metadata": {
    "colab": {
     "base_uri": "https://localhost:8080/",
     "height": 258
    },
    "id": "ziwjuhAV7DYH",
    "outputId": "ab097bf2-33b7-454f-e0f2-24ad28e95360"
   },
   "outputs": [],
   "source": [
    "import json\n",
    "import os\n",
    "\n",
    "import sparknlp\n",
    "import sparknlp_jsl\n",
    "import nlu\n",
    "\n",
    "from sparknlp.base import *\n",
    "from sparknlp.annotator import *\n",
    "from sparknlp_jsl.annotator import *\n",
    "\n",
    "from pyspark.sql import SparkSession\n",
    "from pyspark.sql import functions as F\n",
    "from pyspark.ml import Pipeline,PipelineModel\n",
    "\n",
    "import pandas as pd\n",
    "pd.set_option('display.max_colwidth', 200)\n",
    "\n",
    "import warnings\n",
    "warnings.filterwarnings('ignore')\n",
    "\n",
    "params = {\"spark.driver.memory\":\"16G\", \n",
    "          \"spark.kryoserializer.buffer.max\":\"2000M\", \n",
    "          \"spark.driver.maxResultSize\":\"2000M\"} \n",
    "\n",
    "print(\"Spark NLP Version :\", sparknlp.version())\n",
    "print(\"Spark NLP_JSL Version :\", sparknlp_jsl.version())\n",
    "\n",
    "spark = sparknlp_jsl.start(license_keys['SECRET'],params=params)\n",
    "\n",
    "spark"
   ]
  },
  {
   "cell_type": "code",
   "execution_count": null,
   "metadata": {
    "id": "sNs3kOKMVK2Z"
   },
   "outputs": [],
   "source": [
    "# if you want to start the session with custom params as in start function above\n",
    "from pyspark.sql import SparkSession\n",
    "\n",
    "def start(SECRET):\n",
    "    builder = SparkSession.builder \\\n",
    "        .appName(\"Spark NLP Licensed\") \\\n",
    "        .master(\"local[*]\") \\\n",
    "        .config(\"spark.driver.memory\", \"16G\") \\\n",
    "        .config(\"spark.serializer\", \"org.apache.spark.serializer.KryoSerializer\") \\\n",
    "        .config(\"spark.kryoserializer.buffer.max\", \"2000M\") \\\n",
    "        .config(\"spark.jars.packages\", \"com.johnsnowlabs.nlp:spark-nlp_2.12:\"+PUBLIC_VERSION) \\\n",
    "        .config(\"spark.jars\", \"https://pypi.johnsnowlabs.com/\"+SECRET+\"/spark-nlp-jsl-\"+JSL_VERSION+\".jar\")\n",
    "      \n",
    "    return builder.getOrCreate()\n",
    "\n",
    "#spark = start(SECRET)"
   ]
  },
  {
   "cell_type": "markdown",
   "metadata": {
    "id": "AMU4sAJQ0Rhs"
   },
   "source": [
    "## 4. Clinical NER Pipeline (with pretrained models)"
   ]
  },
  {
   "cell_type": "markdown",
   "metadata": {
    "id": "zutgrNB3uuZT"
   },
   "source": [
    "## Clinical NER Models\n",
    "\n",
    "|index|model|index|model|index|model|index|model|\n",
    "|-----:|:-----|-----:|:-----|-----:|:-----|-----:|:-----|\n",
    "| 1| [jsl_ner_wip_clinical](https://nlp.johnsnowlabs.com/2021/03/31/jsl_ner_wip_clinical_en.html)  | 2| [jsl_ner_wip_greedy_clinical](https://nlp.johnsnowlabs.com/2021/03/31/jsl_ner_wip_greedy_clinical_en.html)  | 3| [jsl_ner_wip_modifier_clinical](https://nlp.johnsnowlabs.com/2021/04/01/jsl_ner_wip_modifier_clinical_en.html)  | 4| [jsl_rd_ner_wip_greedy_clinical](https://nlp.johnsnowlabs.com/2021/04/01/jsl_rd_ner_wip_greedy_clinical_en.html)  |\n",
    "| 5| [ner_abbreviation_clinical](https://nlp.johnsnowlabs.com/2021/12/30/ner_abbreviation_clinical_en.html)  | 6| [ner_ade_clinical](https://nlp.johnsnowlabs.com/2021/04/01/ner_ade_clinical_en.html)  | 7| [ner_ade_clinicalbert](https://nlp.johnsnowlabs.com/2021/04/01/ner_ade_clinicalbert_en.html)  | 8| [ner_ade_healthcare](https://nlp.johnsnowlabs.com/2021/04/01/ner_ade_healthcare_en.html)  |\n",
    "| 9| [ner_anatomy](https://nlp.johnsnowlabs.com/2021/03/31/ner_anatomy_en.html)  | 10| [ner_anatomy_coarse](https://nlp.johnsnowlabs.com/2021/03/31/ner_anatomy_coarse_en.html)  | 11| [ner_anatomy_coarse_biobert_en](https://nlp.johnsnowlabs.com/2020/11/04/ner_anatomy_coarse_biobert_en.html)  | 12| [ner_anatomy_coarse_en](https://nlp.johnsnowlabs.com/2020/11/04/ner_anatomy_coarse_en.html)  |\n",
    "| 13| [ner_anatomy_en](https://nlp.johnsnowlabs.com/2020/04/22/ner_anatomy_en.html)  | 14| [ner_aspect_based_sentiment](https://nlp.johnsnowlabs.com/2021/03/31/ner_aspect_based_sentiment_en.html)  | 15| [ner_bacterial_species](https://nlp.johnsnowlabs.com/2021/04/01/ner_bacterial_species_en.html)  | 16| [ner_biomarker](https://nlp.johnsnowlabs.com/2021/11/26/ner_biomarker_en.html)  |\n",
    "| 17| [ner_biomedical_bc2gm](https://nlp.johnsnowlabs.com/2022/05/11/ner_biomedical_bc2gm_en_2_4.html)  | 18| [ner_bionlp](https://nlp.johnsnowlabs.com/2021/03/31/ner_bionlp_en.html)  | 19| [ner_bionlp_en](https://nlp.johnsnowlabs.com/2020/01/30/ner_bionlp_en.html)  | 20| [ner_cancer_genetics](https://nlp.johnsnowlabs.com/2021/03/31/ner_cancer_genetics_en.html)  |\n",
    "| 21| [ner_cellular](https://nlp.johnsnowlabs.com/2021/03/31/ner_cellular_en.html)  | 22| [ner_cellular_en](https://nlp.johnsnowlabs.com/2020/04/22/ner_cellular_en.html)  | 23| [ner_chemd_clinical](https://nlp.johnsnowlabs.com/2021/11/04/ner_chemd_clinical_en.html)  | 24| [ner_chemicals](https://nlp.johnsnowlabs.com/2021/04/01/ner_chemicals_en.html)  |\n",
    "| 25| [ner_chemprot_clinical](https://nlp.johnsnowlabs.com/2020/09/21/ner_chemprot_clinical_en.html)  | 26| [ner_chexpert](https://nlp.johnsnowlabs.com/2021/09/30/ner_chexpert_en.html)  | 27| [ner_clinical](https://nlp.johnsnowlabs.com/2021/03/31/ner_clinical_en.html)  | 28| [ner_clinical_en](https://nlp.johnsnowlabs.com/2020/01/30/ner_clinical_en.html)  |\n",
    "| 29| [ner_clinical_large](https://nlp.johnsnowlabs.com/2021/03/31/ner_clinical_large_en.html)  | 30| [ner_clinical_large_en](https://nlp.johnsnowlabs.com/2020/05/23/ner_clinical_large_en.html)  | 31| [ner_clinical_trials_abstracts](https://nlp.johnsnowlabs.com/2022/06/22/ner_clinical_trials_abstracts_en_3_0.html)  | 32| [ner_covid_trials](https://nlp.johnsnowlabs.com/2021/11/05/ner_covid_trials_en.html)  |\n",
    "| 33| [ner_crf](https://nlp.johnsnowlabs.com/2020/01/28/ner_crf_en.html)  | 34| [ner_deid_augmented](https://nlp.johnsnowlabs.com/2021/03/31/ner_deid_augmented_en.html)  | 35| [ner_deid_enriched](https://nlp.johnsnowlabs.com/2021/03/31/ner_deid_enriched_en.html)  | 36| [ner_deid_generic_glove](https://nlp.johnsnowlabs.com/2021/06/06/ner_deid_generic_glove_en.html)  |\n",
    "| 37| [ner_deid_large](https://nlp.johnsnowlabs.com/2021/03/31/ner_deid_large_en.html)  | 38| [ner_deid_sd](https://nlp.johnsnowlabs.com/2021/04/01/ner_deid_sd_en.html)  | 39| [ner_deid_sd_large](https://nlp.johnsnowlabs.com/2021/04/01/ner_deid_sd_large_en.html)  | 40| [ner_deid_subentity_augmented](https://nlp.johnsnowlabs.com/2021/09/03/ner_deid_subentity_augmented_en.html)  |\n",
    "| 41| [ner_deid_subentity_augmented_i2b2](https://nlp.johnsnowlabs.com/2021/11/29/ner_deid_subentity_augmented_i2b2_en.html)  | 42| [ner_deid_subentity_glove](https://nlp.johnsnowlabs.com/2021/06/06/ner_deid_subentity_glove_en.html)  | 43| [ner_deid_synthetic](https://nlp.johnsnowlabs.com/2021/03/31/ner_deid_synthetic_en.html)  | 44| [ner_deidentify_dl](https://nlp.johnsnowlabs.com/2021/03/31/ner_deidentify_dl_en.html)  |\n",
    "| 45| [ner_diseases](https://nlp.johnsnowlabs.com/2021/03/31/ner_diseases_en.html)  | 46| [ner_diseases_en](https://nlp.johnsnowlabs.com/2020/03/25/ner_diseases_en.html)  | 47| [ner_diseases_large](https://nlp.johnsnowlabs.com/2021/04/01/ner_diseases_large_en.html)  | 48| [ner_drugprot_clinical](https://nlp.johnsnowlabs.com/2021/12/20/ner_drugprot_clinical_en.html)  |\n",
    "| 49| [ner_drugs](https://nlp.johnsnowlabs.com/2021/03/31/ner_drugs_en.html)  | 50| [ner_drugs_en](https://nlp.johnsnowlabs.com/2020/03/25/ner_drugs_en.html)  | 51| [ner_drugs_greedy](https://nlp.johnsnowlabs.com/2021/03/31/ner_drugs_greedy_en.html)  | 52| [ner_drugs_large](https://nlp.johnsnowlabs.com/2021/03/31/ner_drugs_large_en.html)  |\n",
    "| 53| [ner_drugs_large_en](https://nlp.johnsnowlabs.com/2021/01/29/ner_drugs_large_en.html)  | 54| [ner_events_admission_clinical](https://nlp.johnsnowlabs.com/2021/03/31/ner_events_admission_clinical_en.html)  | 55| [ner_events_clinical](https://nlp.johnsnowlabs.com/2021/03/31/ner_events_clinical_en.html)  | 56| [ner_events_healthcare](https://nlp.johnsnowlabs.com/2021/04/01/ner_events_healthcare_en.html)  |\n",
    "| 57| [ner_financial_contract](https://nlp.johnsnowlabs.com/2021/04/01/ner_financial_contract_en.html)  | 58| [ner_genetic_variants](https://nlp.johnsnowlabs.com/2021/06/25/ner_genetic_variants_en.html)  | 59| [ner_healthcare](https://nlp.johnsnowlabs.com/2021/04/21/ner_healthcare_en.html)  | 60| [ner_healthcare_en](https://nlp.johnsnowlabs.com/2020/03/26/ner_healthcare_en.html)  |\n",
    "| 61| [ner_human_phenotype_gene_clinical](https://nlp.johnsnowlabs.com/2020/09/21/ner_human_phenotype_gene_clinical_en.html)  | 62| [ner_human_phenotype_go_clinical](https://nlp.johnsnowlabs.com/2020/09/21/ner_human_phenotype_go_clinical_en.html)  | 63| [ner_jsl](https://nlp.johnsnowlabs.com/2021/03/31/ner_jsl_en.html)  | 64| [ner_jsl_en](https://nlp.johnsnowlabs.com/2020/04/22/ner_jsl_en.html)  |\n",
    "| 65| [ner_jsl_enriched](https://nlp.johnsnowlabs.com/2021/10/22/ner_jsl_enriched_en.html)  | 66| [ner_jsl_enriched_en](https://nlp.johnsnowlabs.com/2020/04/22/ner_jsl_enriched_en.html)  | 67| [ner_jsl_greedy](https://nlp.johnsnowlabs.com/2021/06/24/ner_jsl_greedy_en.html)  | 68| [ner_jsl_slim](https://nlp.johnsnowlabs.com/2021/08/13/ner_jsl_slim_en.html)  |\n",
    "| 69| [ner_living_species](https://nlp.johnsnowlabs.com/2022/06/22/ner_living_species_en_3_0.html)  | 70| [ner_measurements_clinical](https://nlp.johnsnowlabs.com/2021/04/01/ner_measurements_clinical_en.html)  | 71| [ner_medmentions_coarse](https://nlp.johnsnowlabs.com/2021/04/01/ner_medmentions_coarse_en.html)  | 72| [ner_nature_nero_clinical](https://nlp.johnsnowlabs.com/2022/02/08/ner_nature_nero_clinical_en.html)  |\n",
    "| 73| [ner_nihss](https://nlp.johnsnowlabs.com/2021/11/15/ner_nihss_en.html)  | 74| [ner_oncology_anatomy_general_wip](https://nlp.johnsnowlabs.com/2022/09/30/ner_oncology_anatomy_general_wip_en.html)  | 75| [ner_oncology_anatomy_granular_wip](https://nlp.johnsnowlabs.com/2022/10/01/ner_oncology_anatomy_granular_wip_en.html)  | 76| [ner_oncology_biomarker_wip](https://nlp.johnsnowlabs.com/2022/10/01/ner_oncology_biomarker_wip_en.html)  |\n",
    "| 77| [ner_oncology_demographics_wip](https://nlp.johnsnowlabs.com/2022/09/30/ner_oncology_demographics_wip_en.html)  | 78| [ner_oncology_diagnosis_wip](https://nlp.johnsnowlabs.com/2022/09/30/ner_oncology_diagnosis_wip_en.html)  | 79| [ner_oncology_posology_wip](https://nlp.johnsnowlabs.com/2022/10/01/ner_oncology_posology_wip_en.html)  | 80| [ner_oncology_response_to_treatment_wip](https://nlp.johnsnowlabs.com/2022/10/01/ner_oncology_response_to_treatment_wip_en.html)  |\n",
    "| 81| [ner_oncology_test_wip](https://nlp.johnsnowlabs.com/2022/09/30/ner_oncology_test_wip_en.html)  | 82| [ner_oncology_therapy_wip](https://nlp.johnsnowlabs.com/2022/09/30/ner_oncology_therapy_wip_en.html)  | 83| [ner_oncology_tnm_wip](https://nlp.johnsnowlabs.com/2022/09/30/ner_oncology_tnm_wip_en.html)  | 84| [ner_oncology_unspecific_posology_wip](https://nlp.johnsnowlabs.com/2022/09/30/ner_oncology_unspecific_posology_wip_en.html)  |\n",
    "| 85| [ner_oncology_wip](https://nlp.johnsnowlabs.com/2022/09/30/ner_oncology_wip_en.html)  | 86| [ner_pathogen](https://nlp.johnsnowlabs.com/2022/06/28/ner_pathogen_en_3_0.html)  | 87| [ner_posology](https://nlp.johnsnowlabs.com/2021/03/31/ner_posology_en.html)  | 88| [ner_posology_en](https://nlp.johnsnowlabs.com/2020/04/15/ner_posology_en.html)  |\n",
    "| 89| [ner_posology_experimental](https://nlp.johnsnowlabs.com/2021/09/01/ner_posology_experimental_en.html)  | 90| [ner_posology_greedy](https://nlp.johnsnowlabs.com/2021/03/31/ner_posology_greedy_en.html)  | 91| [ner_posology_healthcare](https://nlp.johnsnowlabs.com/2021/04/01/ner_posology_healthcare_en.html)  | 92| [ner_posology_large](https://nlp.johnsnowlabs.com/2021/03/31/ner_posology_large_en.html)  |\n",
    "| 93| [ner_posology_small](https://nlp.johnsnowlabs.com/2021/03/31/ner_posology_small_en.html)  | 94| [ner_radiology](https://nlp.johnsnowlabs.com/2021/03/31/ner_radiology_en.html)  | 95| [ner_radiology_wip_clinical](https://nlp.johnsnowlabs.com/2021/04/01/ner_radiology_wip_clinical_en.html)  | 96| [ner_risk_factors](https://nlp.johnsnowlabs.com/2021/03/31/ner_risk_factors_en.html)  |\n",
    "| 97| [ner_risk_factors_en](https://nlp.johnsnowlabs.com/2020/04/22/ner_risk_factors_en.html)  | 98| [ner_supplement_clinical](https://nlp.johnsnowlabs.com/2022/02/01/ner_supplement_clinical_en.html)  | 99| [nerdl_tumour_demo](https://nlp.johnsnowlabs.com/2021/04/01/nerdl_tumour_demo_en.html)  | 100| [zero_shot_ner_roberta](https://nlp.johnsnowlabs.com/2022/08/29/zero_shot_ner_roberta_en.html)  |\n",
    "\n",
    "\n",
    "\n",
    "\n",
    "\n",
    "- **BioBert NER Models**\n",
    "\n",
    "|index|model|index|model|index|model|index|model|\n",
    "|-----:|:-----|-----:|:-----|-----:|:-----|-----:|:-----|\n",
    "| 1| [jsl_ner_wip_greedy_biobert](https://nlp.johnsnowlabs.com/2021/07/26/jsl_ner_wip_greedy_biobert_en.html)  | 2| [jsl_rd_ner_wip_greedy_biobert](https://nlp.johnsnowlabs.com/2021/07/26/jsl_rd_ner_wip_greedy_biobert_en.html)  | 3| [ner_ade_biobert](https://nlp.johnsnowlabs.com/2021/04/01/ner_ade_biobert_en.html)  | 4| [ner_anatomy_biobert](https://nlp.johnsnowlabs.com/2021/04/01/ner_anatomy_biobert_en.html)  |\n",
    "| 5| [ner_anatomy_coarse_biobert](https://nlp.johnsnowlabs.com/2021/03/31/ner_anatomy_coarse_biobert_en.html)  | 6| [ner_bionlp_biobert](https://nlp.johnsnowlabs.com/2021/04/01/ner_bionlp_biobert_en.html)  | 7| [ner_cellular_biobert](https://nlp.johnsnowlabs.com/2021/04/01/ner_cellular_biobert_en.html)  | 8| [ner_chemprot_biobert](https://nlp.johnsnowlabs.com/2021/04/01/ner_chemprot_biobert_en.html)  |\n",
    "| 9| [ner_clinical_biobert](https://nlp.johnsnowlabs.com/2021/04/01/ner_clinical_biobert_en.html)  | 10| [ner_deid_biobert](https://nlp.johnsnowlabs.com/2021/04/01/ner_deid_biobert_en.html)  | 11| [ner_deid_enriched_biobert](https://nlp.johnsnowlabs.com/2021/04/01/ner_deid_enriched_biobert_en.html)  | 12| [ner_diseases_biobert](https://nlp.johnsnowlabs.com/2021/04/01/ner_diseases_biobert_en.html)  |\n",
    "| 13| [ner_events_biobert](https://nlp.johnsnowlabs.com/2021/04/01/ner_events_biobert_en.html)  | 14| [ner_human_phenotype_gene_biobert](https://nlp.johnsnowlabs.com/2021/04/01/ner_human_phenotype_gene_biobert_en.html)  | 15| [ner_human_phenotype_go_biobert](https://nlp.johnsnowlabs.com/2021/04/01/ner_human_phenotype_go_biobert_en.html)  | 16| [ner_jsl_biobert](https://nlp.johnsnowlabs.com/2021/09/05/ner_jsl_biobert_en.html)  |\n",
    "| 17| [ner_jsl_enriched_biobert](https://nlp.johnsnowlabs.com/2021/04/01/ner_jsl_enriched_biobert_en.html)  | 18| [ner_jsl_greedy_biobert](https://nlp.johnsnowlabs.com/2021/08/13/ner_jsl_greedy_biobert_en.html)  | 19| [ner_living_species_biobert](https://nlp.johnsnowlabs.com/2022/06/22/ner_living_species_biobert_en_3_0.html)  | 20| [ner_posology_biobert](https://nlp.johnsnowlabs.com/2021/04/01/ner_posology_biobert_en.html)  |\n",
    "| 21| [ner_posology_large_biobert](https://nlp.johnsnowlabs.com/2021/04/01/ner_posology_large_biobert_en.html)  | 22| [ner_risk_factors_biobert](https://nlp.johnsnowlabs.com/2021/04/01/ner_risk_factors_biobert_en.html)  | 23| []()| 24| []()|\n",
    "\n",
    "\n",
    "\n",
    "\n",
    "- **BertForTokenClassification Clinical NER models**\n",
    "\n",
    "|index|model|index|model|index|model|index|model|\n",
    "|-----:|:-----|-----:|:-----|-----:|:-----|-----:|:-----|\n",
    "| 1| [bert_token_classifier_ade_tweet_binary](https://nlp.johnsnowlabs.com/2022/07/29/bert_token_classifier_ade_tweet_binary_en_3_0.html)  | 2| [bert_token_classifier_drug_development_trials](https://nlp.johnsnowlabs.com/2022/03/22/bert_token_classifier_drug_development_trials_en_3_0.html)  | 3| [bert_token_classifier_ner_ade](https://nlp.johnsnowlabs.com/2021/09/30/bert_token_classifier_ner_ade_en.html)  | 4| [bert_token_classifier_ner_ade_binary](https://nlp.johnsnowlabs.com/2022/07/27/bert_token_classifier_ner_ade_binary_en_3_0.html)  |\n",
    "| 5| [bert_token_classifier_ner_anatem](https://nlp.johnsnowlabs.com/2022/07/25/bert_token_classifier_ner_anatem_en_3_0.html)  | 6| [bert_token_classifier_ner_anatomy](https://nlp.johnsnowlabs.com/2021/09/30/bert_token_classifier_ner_anatomy_en.html)  | 7| [bert_token_classifier_ner_bacteria](https://nlp.johnsnowlabs.com/2021/09/30/bert_token_classifier_ner_bacteria_en.html)  | 8| [bert_token_classifier_ner_bc2gm_gene](https://nlp.johnsnowlabs.com/2022/07/25/bert_token_classifier_ner_bc2gm_gene_en_3_0.html)  |\n",
    "| 9| [bert_token_classifier_ner_bc4chemd_chemicals](https://nlp.johnsnowlabs.com/2022/07/25/bert_token_classifier_ner_bc4chemd_chemicals_en_3_0.html)  | 10| [bert_token_classifier_ner_bc5cdr_chemicals](https://nlp.johnsnowlabs.com/2022/07/25/bert_token_classifier_ner_bc5cdr_chemicals_en_3_0.html)  | 11| [bert_token_classifier_ner_bc5cdr_disease](https://nlp.johnsnowlabs.com/2022/07/25/bert_token_classifier_ner_bc5cdr_disease_en_3_0.html)  | 12| [bert_token_classifier_ner_bionlp](https://nlp.johnsnowlabs.com/2021/11/03/bert_token_classifier_ner_bionlp_en.html)  |\n",
    "| 13| [bert_token_classifier_ner_cellular](https://nlp.johnsnowlabs.com/2021/11/03/bert_token_classifier_ner_cellular_en.html)  | 14| [bert_token_classifier_ner_chemicals](https://nlp.johnsnowlabs.com/2021/10/19/bert_token_classifier_ner_chemicals_en.html)  | 15| [bert_token_classifier_ner_chemprot](https://nlp.johnsnowlabs.com/2021/10/19/bert_token_classifier_ner_chemprot_en.html)  | 16| [bert_token_classifier_ner_clinical](https://nlp.johnsnowlabs.com/2022/01/06/bert_token_classifier_ner_clinical_en.html)  |\n",
    "| 17| [bert_token_classifier_ner_clinical_trials_abstracts](https://nlp.johnsnowlabs.com/2022/06/29/bert_token_classifier_ner_clinical_trials_abstracts_en_3_0.html)  | 18| [bert_token_classifier_ner_deid](https://nlp.johnsnowlabs.com/2021/09/13/bert_token_classifier_ner_deid_en.html)  | 19| [bert_token_classifier_ner_drugs](https://nlp.johnsnowlabs.com/2021/09/20/bert_token_classifier_ner_drugs_en.html)  | 20| [bert_token_classifier_ner_jnlpba_cellular](https://nlp.johnsnowlabs.com/2022/07/25/bert_token_classifier_ner_jnlpba_cellular_en_3_0.html)  |\n",
    "| 21| [bert_token_classifier_ner_jsl](https://nlp.johnsnowlabs.com/2021/09/16/bert_token_classifier_ner_jsl_en.html)  | 22| [bert_token_classifier_ner_jsl_slim](https://nlp.johnsnowlabs.com/2021/09/24/bert_token_classifier_ner_jsl_slim_en.html)  | 23| [bert_token_classifier_ner_linnaeus_species](https://nlp.johnsnowlabs.com/2022/07/25/bert_token_classifier_ner_linnaeus_species_en_3_0.html)  | 24| [bert_token_classifier_ner_living_species](https://nlp.johnsnowlabs.com/2022/06/26/bert_token_classifier_ner_living_species_en_3_0.html)  |\n",
    "| 25| [bert_token_classifier_ner_ncbi_disease](https://nlp.johnsnowlabs.com/2022/07/25/bert_token_classifier_ner_ncbi_disease_en_3_0.html)  | 26| [bert_token_classifier_ner_pathogen](https://nlp.johnsnowlabs.com/2022/07/28/bert_token_classifier_ner_pathogen_en_3_0.html)  | 27| [bert_token_classifier_ner_species](https://nlp.johnsnowlabs.com/2022/07/25/bert_token_classifier_ner_species_en_3_0.html)  | 28| [bert_token_classifier_ner_supplement](https://nlp.johnsnowlabs.com/2022/02/09/bert_token_classifier_ner_supplement_en.html)  |\n",
    "\n",
    "\n",
    "\n",
    "\n",
    "\n",
    "\n",
    "**You can find all these models and more [NLP Models Hub](https://nlp.johnsnowlabs.com/models?task=Named+Entity+Recognition&edition=Spark+NLP+for+Healthcare)**"
   ]
  },
  {
   "cell_type": "markdown",
   "metadata": {
    "id": "BZx93c02IyyP"
   },
   "source": [
    "**Also, you can print the list of clinical pretrained models/pipelines and annotators with one-line code:**"
   ]
  },
  {
   "cell_type": "code",
   "execution_count": null,
   "metadata": {
    "colab": {
     "base_uri": "https://localhost:8080/"
    },
    "id": "4l4VvgI1dRb6",
    "outputId": "da899463-1919-4631-ea7a-1799f61a88eb"
   },
   "outputs": [],
   "source": [
    "from sparknlp_jsl.pretrained import InternalResourceDownloader\n",
    "\n",
    "# pipelines = InternalResourceDownloader.returnPrivatePipelines()\n",
    "ner_models = InternalResourceDownloader.returnPrivateModels(\"MedicalNerModel\")\n",
    "ner_models"
   ]
  },
  {
   "cell_type": "code",
   "execution_count": null,
   "metadata": {
    "colab": {
     "base_uri": "https://localhost:8080/",
     "height": 424
    },
    "id": "ZrZgkyUfxb-j",
    "outputId": "15a4c013-ac96-465c-c4c7-e2e82880d7e8"
   },
   "outputs": [],
   "source": [
    "from sparknlp_jsl.compatibility import Compatibility \n",
    "\n",
    "compatibility = Compatibility(spark)\n",
    "\n",
    "models = compatibility.findVersion('ner') \n",
    "\n",
    "models_df = pd.DataFrame([dict(x) for x in list(models)])\n",
    "models_df"
   ]
  },
  {
   "cell_type": "code",
   "execution_count": null,
   "metadata": {
    "colab": {
     "base_uri": "https://localhost:8080/",
     "height": 457
    },
    "id": "FpxcJ09JJfTW",
    "outputId": "b486c088-0e14-4653-a2a2-46a18626a718"
   },
   "outputs": [],
   "source": [
    "# find oncology NER models\n",
    "\n",
    "models = compatibility.findVersion(\"ner_oncology\")\n",
    "\n",
    "models_df = pd.DataFrame([dict(x) for x in list(models)])\n",
    "models_df"
   ]
  },
  {
   "cell_type": "markdown",
   "metadata": {
    "id": "fnOSwi-8Jjcv"
   },
   "source": [
    "## Clinical NER Pipeline (with pretrained models)"
   ]
  },
  {
   "cell_type": "code",
   "execution_count": null,
   "metadata": {
    "colab": {
     "base_uri": "https://localhost:8080/"
    },
    "id": "DEa5SITBxmY0",
    "outputId": "e65d8b75-ae0c-40a4-f4f3-23a1936bd28a"
   },
   "outputs": [],
   "source": [
    "# Annotator that transforms a text column from dataframe into an Annotation ready for NLP\n",
    "documentAssembler = DocumentAssembler()\\\n",
    "    .setInputCol(\"text\")\\\n",
    "    .setOutputCol(\"document\")\n",
    "        \n",
    "sentenceDetector = SentenceDetectorDLModel.pretrained(\"sentence_detector_dl_healthcare\",\"en\",\"clinical/models\")\\\n",
    "    .setInputCols([\"document\"])\\\n",
    "    .setOutputCol(\"sentence\")\n",
    " \n",
    "# Tokenizer splits words in a relevant format for NLP\n",
    "tokenizer = Tokenizer()\\\n",
    "    .setInputCols([\"sentence\"])\\\n",
    "    .setOutputCol(\"token\")\n",
    "\n",
    "# Clinical word embeddings trained on PubMED dataset\n",
    "word_embeddings = WordEmbeddingsModel.pretrained(\"embeddings_clinical\",\"en\",\"clinical/models\")\\\n",
    "    .setInputCols([\"sentence\",\"token\"])\\\n",
    "    .setOutputCol(\"embeddings\")\n",
    "\n",
    "# NER model trained on i2b2 (sampled from MIMIC) dataset\n",
    "clinical_ner = MedicalNerModel.pretrained(\"ner_clinical_large\",\"en\",\"clinical/models\")\\\n",
    "    .setInputCols([\"sentence\",\"token\",\"embeddings\"])\\\n",
    "    .setOutputCol(\"ner\")\\\n",
    "    .setLabelCasing(\"upper\") #decide if we want to return the tags in upper or lower case \n",
    "\n",
    "ner_converter = NerConverter()\\\n",
    "    .setInputCols([\"sentence\",\"token\",\"ner\"])\\\n",
    "    .setOutputCol(\"ner_chunk\")\n",
    "\n",
    "nlpPipeline = Pipeline(\n",
    "    stages=[\n",
    "        documentAssembler,\n",
    "        sentenceDetector,\n",
    "        tokenizer,\n",
    "        word_embeddings,\n",
    "        clinical_ner,\n",
    "        ner_converter\n",
    "        ])\n",
    "\n",
    "\n",
    "empty_data = spark.createDataFrame([[\"\"]]).toDF(\"text\")\n",
    "\n",
    "model = nlpPipeline.fit(empty_data)\n"
   ]
  },
  {
   "cell_type": "code",
   "execution_count": null,
   "metadata": {
    "colab": {
     "base_uri": "https://localhost:8080/"
    },
    "id": "eCPdErQTt9WS",
    "outputId": "a4a8d3e5-1c8e-43d0-c2d9-dfc32ef98dd1"
   },
   "outputs": [],
   "source": [
    "model.stages"
   ]
  },
  {
   "cell_type": "code",
   "execution_count": null,
   "metadata": {
    "colab": {
     "base_uri": "https://localhost:8080/"
    },
    "id": "m2hXcbMzvUzf",
    "outputId": "74bbe1df-951f-462c-c5c0-36a7498950ef"
   },
   "outputs": [],
   "source": [
    "clinical_ner.getClasses()"
   ]
  },
  {
   "cell_type": "code",
   "execution_count": null,
   "metadata": {
    "colab": {
     "base_uri": "https://localhost:8080/"
    },
    "id": "rPO8wgprvai_",
    "outputId": "f6c82326-e3cb-401d-ccbd-28292a59dbf3"
   },
   "outputs": [],
   "source": [
    "clinical_ner.extractParamMap()"
   ]
  },
  {
   "cell_type": "code",
   "execution_count": null,
   "metadata": {
    "colab": {
     "base_uri": "https://localhost:8080/",
     "height": 36
    },
    "id": "gGjoRR5Bvj-U",
    "outputId": "f61807ff-a8ba-4a6d-8da1-94819c8e18bd"
   },
   "outputs": [],
   "source": [
    "clinical_ner.getStorageRef()"
   ]
  },
  {
   "cell_type": "code",
   "execution_count": null,
   "metadata": {
    "id": "v1lmxbPt1dZW"
   },
   "outputs": [],
   "source": [
    "# Downloading sample datasets.\n",
    "! wget -q https://raw.githubusercontent.com/JohnSnowLabs/spark-nlp-workshop/master/tutorials/Certification_Trainings/Healthcare/data/mt_samples_10.csv"
   ]
  },
  {
   "cell_type": "code",
   "execution_count": null,
   "metadata": {
    "id": "f1S9J6CASrSE"
   },
   "outputs": [],
   "source": [
    "# mt_samples_df = spark.read.csv(\"mt_samples_10.csv\", header=True)\n",
    "\n",
    "mt_samples_df = spark.createDataFrame(pd.read_csv(\"/content/mt_samples_10.csv\", sep=',', index_col=[\"index\"]).reset_index())"
   ]
  },
  {
   "cell_type": "code",
   "execution_count": null,
   "metadata": {
    "colab": {
     "base_uri": "https://localhost:8080/"
    },
    "id": "Kt_9Qfmw30rA",
    "outputId": "424fcd80-57f9-40ee-f7ac-e540c04c1202"
   },
   "outputs": [],
   "source": [
    "mt_samples_df.printSchema()"
   ]
  },
  {
   "cell_type": "code",
   "execution_count": null,
   "metadata": {
    "colab": {
     "base_uri": "https://localhost:8080/"
    },
    "id": "te55tz4dwAB5",
    "outputId": "7467c9f0-6f0a-4a4f-e593-1aa84936fa87"
   },
   "outputs": [],
   "source": [
    "mt_samples_df.show()"
   ]
  },
  {
   "cell_type": "code",
   "execution_count": null,
   "metadata": {
    "colab": {
     "base_uri": "https://localhost:8080/"
    },
    "id": "m5soib4Tw4PK",
    "outputId": "cd1797fb-fd9b-46ae-deef-3657cf1ea37c"
   },
   "outputs": [],
   "source": [
    "print(mt_samples_df.limit(1).collect()[0]['text'])"
   ]
  },
  {
   "cell_type": "code",
   "execution_count": null,
   "metadata": {
    "id": "7HdysGLU-xfP"
   },
   "outputs": [],
   "source": [
    "result = model.transform(mt_samples_df).cache()"
   ]
  },
  {
   "cell_type": "code",
   "execution_count": null,
   "metadata": {
    "colab": {
     "base_uri": "https://localhost:8080/"
    },
    "id": "DHC3kvfIF2tm",
    "outputId": "82cee27c-c17a-4ae4-9538-5825e741296c"
   },
   "outputs": [],
   "source": [
    "result.show()"
   ]
  },
  {
   "cell_type": "code",
   "execution_count": null,
   "metadata": {
    "colab": {
     "base_uri": "https://localhost:8080/"
    },
    "id": "OGBHfjMVUoCu",
    "outputId": "eae574da-6029-49c9-a32a-fbda3fe4e808"
   },
   "outputs": [],
   "source": [
    "%%time\n",
    "\n",
    "result.select('token.result','ner.result').show(truncate=100)"
   ]
  },
  {
   "cell_type": "code",
   "execution_count": null,
   "metadata": {
    "colab": {
     "base_uri": "https://localhost:8080/"
    },
    "id": "5uBnSe0--_Tn",
    "outputId": "8b0bdd13-9ad2-4c46-ad0b-cfe051df8178"
   },
   "outputs": [],
   "source": [
    "result_df = result.select(F.explode(F.arrays_zip(result.token.result,\n",
    "                                                 result.ner.result, \n",
    "                                                 result.ner.metadata)).alias(\"cols\"))\\\n",
    "                  .select(F.expr(\"cols['0']\").alias(\"token\"),\n",
    "                          F.expr(\"cols['1']\").alias(\"ner_label\"),\n",
    "                          F.expr(\"cols['2']['confidence']\").alias(\"confidence\"))\n",
    "\n",
    "result_df.show(50, truncate=100)"
   ]
  },
  {
   "cell_type": "code",
   "execution_count": null,
   "metadata": {
    "colab": {
     "base_uri": "https://localhost:8080/"
    },
    "id": "Y4eM-zZcErru",
    "outputId": "efcfae38-5972-4ad1-bfba-f980078197eb"
   },
   "outputs": [],
   "source": [
    "result_df.select(\"token\", \"ner_label\")\\\n",
    "         .groupBy('ner_label').count()\\\n",
    "         .orderBy('count', ascending=False)\\\n",
    "         .show(truncate=False)"
   ]
  },
  {
   "cell_type": "code",
   "execution_count": null,
   "metadata": {
    "colab": {
     "base_uri": "https://localhost:8080/"
    },
    "id": "uzkwbP21ydAK",
    "outputId": "56298a44-9bd9-4367-8326-f14a66c76c5f"
   },
   "outputs": [],
   "source": [
    "result.select('ner_chunk').take(1)"
   ]
  },
  {
   "cell_type": "code",
   "execution_count": null,
   "metadata": {
    "colab": {
     "base_uri": "https://localhost:8080/"
    },
    "id": "F7vNKvrAKzP_",
    "outputId": "06c5e667-1e87-471f-de6f-ae4462abbf54"
   },
   "outputs": [],
   "source": [
    "row_list = [{'annotatorType': row.annotatorType, \n",
    "             'begin': row.begin, \n",
    "             'end': row.end,\n",
    "             'result': row.result,\n",
    "             'metadata': row.metadata} \n",
    "            for row in result.select('ner_chunk').take(1)[0][0]\n",
    "           ]\n",
    "\n",
    "row_list"
   ]
  },
  {
   "cell_type": "code",
   "execution_count": null,
   "metadata": {
    "colab": {
     "base_uri": "https://localhost:8080/"
    },
    "id": "iICfEeNoAklD",
    "outputId": "1dce6946-e675-483c-e8ac-b1553e91792d"
   },
   "outputs": [],
   "source": [
    "result.select(F.explode(F.arrays_zip(result.ner_chunk.result, \n",
    "                                     result.ner_chunk.metadata)).alias(\"cols\")) \\\n",
    "      .select(F.expr(\"cols['0']\").alias(\"chunk\"),\n",
    "              F.expr(\"cols['1']['entity']\").alias(\"ner_label\"),\n",
    "              F.expr(\"cols['1']['confidence']\").alias(\"confidence\")).show(truncate=False)"
   ]
  },
  {
   "cell_type": "markdown",
   "metadata": {
    "id": "loYjPzwKx5zW"
   },
   "source": [
    "### LightPipelines"
   ]
  },
  {
   "cell_type": "code",
   "execution_count": null,
   "metadata": {
    "colab": {
     "base_uri": "https://localhost:8080/",
     "height": 787
    },
    "id": "Z5q0BojoAsu3",
    "outputId": "4816fdf9-bc71-4f9a-fa62-f041b70d0e7f"
   },
   "outputs": [],
   "source": [
    "# fullAnnotate in LightPipeline\n",
    "\n",
    "text = '''\n",
    "A 28-year-old female with a history of gestational diabetes mellitus diagnosed eight years prior to presentation and subsequent type two diabetes mellitus (T2DM), one prior episode of HTG-induced pancreatitis three years prior to presentation, and associated with an acute hepatitis, presented with a one-week history of polyuria, poor appetite, and vomiting. \n",
    "She was on metformin, glipizide, and dapagliflozin for T2DM and atorvastatin and gemfibrozil for HTG. She had been on dapagliflozin for six months at the time of presentation. \n",
    "Physical examination on presentation was significant for dry oral mucosa ; significantly , her abdominal examination was benign with no tenderness, guarding, or rigidity. Pertinent laboratory findings on admission were: serum glucose 111 mg/dl,  creatinine 0.4 mg/dL, triglycerides 508 mg/dL, total cholesterol 122 mg/dL, and venous pH 7.27. \n",
    "'''\n",
    "\n",
    "print (text)\n",
    "\n",
    "light_model = LightPipeline(model)\n",
    "\n",
    "light_result = light_model.fullAnnotate(text)\n",
    "\n",
    "\n",
    "chunks = []\n",
    "entities = []\n",
    "sentence= []\n",
    "begin = []\n",
    "end = []\n",
    "\n",
    "for n in light_result[0]['ner_chunk']:\n",
    "        \n",
    "    begin.append(n.begin)\n",
    "    end.append(n.end)\n",
    "    chunks.append(n.result)\n",
    "    entities.append(n.metadata['entity']) \n",
    "    sentence.append(n.metadata['sentence'])\n",
    "    \n",
    "    \n",
    "\n",
    "df_clinical = pd.DataFrame({'chunks':chunks, 'begin': begin, 'end':end, \n",
    "                   'sentence_id':sentence, 'entities':entities})\n",
    "\n",
    "df_clinical.head(20)"
   ]
  },
  {
   "cell_type": "code",
   "execution_count": null,
   "metadata": {
    "colab": {
     "base_uri": "https://localhost:8080/"
    },
    "id": "-r7yfZitmbPT",
    "outputId": "76265b5b-cf76-4f35-8229-3b61f3921961"
   },
   "outputs": [],
   "source": [
    "light_result[0]"
   ]
  },
  {
   "cell_type": "markdown",
   "metadata": {
    "id": "cdVybqTpLViu"
   },
   "source": [
    "**Getting embeddings with LP**"
   ]
  },
  {
   "cell_type": "code",
   "execution_count": null,
   "metadata": {
    "colab": {
     "base_uri": "https://localhost:8080/"
    },
    "id": "8Z76Yl1OLXEC",
    "outputId": "e52d49cc-7f9f-4259-c153-f5395dd00453"
   },
   "outputs": [],
   "source": [
    "light_model_with_emb = LightPipeline(model, parse_embeddings=True)\n",
    "light_result_with_emb = light_model_with_emb.annotate(text)\n",
    "\n",
    "list(zip(light_result_with_emb['token'], light_result_with_emb['embeddings']))[:3]"
   ]
  },
  {
   "cell_type": "markdown",
   "metadata": {
    "id": "mQyQ751amaov"
   },
   "source": [
    "**Prettifying the results with NLU**\n",
    "\n"
   ]
  },
  {
   "cell_type": "markdown",
   "metadata": {
    "id": "5V_lvnPsKQxz"
   },
   "source": [
    "John Snow Labs' NLU is a Python library for applying state-of-the-art text mining, directly on any dataframe, with a single line of code. We will use some functionalities of NLU to prettify our results. "
   ]
  },
  {
   "cell_type": "code",
   "execution_count": null,
   "metadata": {
    "colab": {
     "base_uri": "https://localhost:8080/"
    },
    "id": "ihg5PWSHX0KN",
    "outputId": "58cdb35c-ce6b-4054-c551-7a9bdc5c3e0a"
   },
   "outputs": [],
   "source": [
    "nlu.to_pretty_df(model, text, positions=True, output_level='chunk').columns"
   ]
  },
  {
   "cell_type": "code",
   "execution_count": null,
   "metadata": {
    "colab": {
     "base_uri": "https://localhost:8080/",
     "height": 738
    },
    "id": "IQnM4kPXYLdB",
    "outputId": "0183f0eb-6582-4394-917c-05ef4f00961a"
   },
   "outputs": [],
   "source": [
    "#For a given pipeline output level is automatically set to the last anntator's output level by default.\n",
    "#This can be changed by defining the value of \"output_level\" parameter.\n",
    "#Values can be set as; token, sentence, document, chunk and relation .\n",
    "\n",
    "cols = [\n",
    "     'entities_ner_chunk',\n",
    "     'entities_ner_chunk_begin',\n",
    "     'entities_ner_chunk_end',\n",
    "     'entities_ner_chunk_origin_sentence',\n",
    "     'entities_ner_chunk_class',\n",
    "]\n",
    "df_clinical = nlu.to_pretty_df(model, text, positions=True, output_level='chunk')[cols]\n",
    "df_clinical.head(20)"
   ]
  },
  {
   "cell_type": "markdown",
   "metadata": {
    "id": "iQ1KUzkryBvz"
   },
   "source": [
    "### NER Visualizer\n",
    "\n",
    "For saving the visualization result as html, provide `save_path` parameter in the display function."
   ]
  },
  {
   "cell_type": "code",
   "execution_count": null,
   "metadata": {
    "colab": {
     "base_uri": "https://localhost:8080/",
     "height": 609
    },
    "id": "Jh1zoknFybBO",
    "outputId": "f913d1a2-19f6-4ab4-a9a7-54a6ff077e85"
   },
   "outputs": [],
   "source": [
    "from sparknlp_display import NerVisualizer\n",
    "\n",
    "visualiser = NerVisualizer()\n",
    "\n",
    "visualiser.display(light_result[0], label_col='ner_chunk', document_col='document', save_path=\"display_result.html\")\n",
    "\n",
    "\n",
    "# Change color of an entity label\n",
    "\n",
    "# visualiser.set_label_colors({'PROBLEM':'#008080', 'TEST':'#800080', 'TREATMENT':'#808080'})\n",
    "# visualiser.display(light_result[0], label_col='ner_chunk')\n",
    "\n",
    "\n",
    "# Set label filter\n",
    "\n",
    "# visualiser.display(light_result[0], label_col='ner_chunk', document_col='document',\n",
    "                   #labels=['PROBLEM','TEST'])"
   ]
  },
  {
   "cell_type": "markdown",
   "metadata": {
    "id": "XfsS_dlJGT1f"
   },
   "source": [
    "### ModelTracer"
   ]
  },
  {
   "cell_type": "markdown",
   "metadata": {
    "id": "K1xVnq63Gatj"
   },
   "source": [
    "`ModelTracer` allows to track the uids and timestamps of each stage of the pipeline.\n",
    "\n",
    "Let's apply it over an empty data with our existing pipeline."
   ]
  },
  {
   "cell_type": "code",
   "execution_count": null,
   "metadata": {
    "colab": {
     "base_uri": "https://localhost:8080/"
    },
    "id": "36LR6KhPKfUT",
    "outputId": "993e259b-48cf-4e07-df91-b6cfae532df1"
   },
   "outputs": [],
   "source": [
    "from sparknlp_jsl.modelTracer import ModelTracer\n",
    "\n",
    "data = spark.createDataFrame([['']]).toDF(\"text\")\n",
    "\n",
    "df = nlpPipeline.fit(data).transform(data)\n",
    "\n",
    "tracer_result = ModelTracer().addUidCols(pipeline = nlpPipeline, df = df)\n",
    "\n",
    "tracer_result.show(truncate=False)"
   ]
  },
  {
   "cell_type": "markdown",
   "metadata": {
    "id": "zOXLMXIWRs_l"
   },
   "source": [
    "## NER JSL\n",
    "Let's show an example of `ner_jsl` model that has about 80 clinical entity labels by changing just only the model name.\n",
    "\n",
    "**Entities**\n",
    "\n",
    "| | | | | |\n",
    "|-|-|-|-|-|\n",
    "|Injury_or_Poisoning|Direction|Test|Admission_Discharge|Death_Entity|\n",
    "|Relationship_Status|Duration|Respiration|Hyperlipidemia|Birth_Entity|\n",
    "|Age|Labour_Delivery|Family_History_Header|BMI|Temperature|\n",
    "|Alcohol|Kidney_Disease|Oncological|Medical_History_Header|Cerebrovascular_Disease|\n",
    "|Oxygen_Therapy|O2_Saturation|Psychological_Condition|Heart_Disease|Employment|\n",
    "|Obesity|Disease_Syndrome_Disorder|Pregnancy|ImagingFindings|Procedure|\n",
    "|Medical_Device|Race_Ethnicity|Section_Header|Symptom|Treatment|\n",
    "|Substance|Route|Drug_Ingredient|Blood_Pressure|Diet|\n",
    "|External_body_part_or_region|LDL|VS_Finding|Allergen|EKG_Findings|\n",
    "|Imaging_Technique|Triglycerides|RelativeTime|Gender|Pulse|\n",
    "|Social_History_Header|Substance_Quantity|Diabetes|Modifier|Internal_organ_or_component|\n",
    "|Clinical_Dept|Form|Drug_BrandName|Strength|Fetus_NewBorn|\n",
    "|RelativeDate|Height|Test_Result|Sexually_Active_or_Sexual_Orientation|Frequency|\n",
    "|Time|Weight|Vaccine|Vital_Signs_Header|Communicable_Disease|\n",
    "|Dosage|Overweight|Hypertension|HDL|Total_Cholesterol|\n",
    "|Smoking|Date||||"
   ]
  },
  {
   "cell_type": "code",
   "execution_count": null,
   "metadata": {
    "colab": {
     "base_uri": "https://localhost:8080/"
    },
    "id": "xzfAWMGjR3ov",
    "outputId": "187ba0fa-75c2-41d8-ebb8-86078ce49d06"
   },
   "outputs": [],
   "source": [
    "documentAssembler = DocumentAssembler()\\\n",
    "    .setInputCol(\"text\")\\\n",
    "    .setOutputCol(\"document\")\n",
    "\n",
    "sentenceDetector = SentenceDetectorDLModel.pretrained(\"sentence_detector_dl_healthcare\",\"en\",\"clinical/models\") \\\n",
    "    .setInputCols([\"document\"]) \\\n",
    "    .setOutputCol(\"sentence\") \n",
    "\n",
    "tokenizer = Tokenizer()\\\n",
    "    .setInputCols([\"sentence\"])\\\n",
    "    .setOutputCol(\"token\")\n",
    "\n",
    "word_embeddings = WordEmbeddingsModel.pretrained(\"embeddings_clinical\", \"en\", \"clinical/models\")\\\n",
    "    .setInputCols([\"sentence\", \"token\"])\\\n",
    "    .setOutputCol(\"embeddings\")\n",
    "\n",
    "jsl_ner = MedicalNerModel.pretrained(\"ner_jsl\", \"en\", \"clinical/models\") \\\n",
    "    .setInputCols([\"sentence\", \"token\", \"embeddings\"]) \\\n",
    "    .setOutputCol(\"jsl_ner\")\n",
    "    \n",
    "jsl_ner_converter = NerConverter() \\\n",
    "    .setInputCols([\"sentence\", \"token\", \"jsl_ner\"]) \\\n",
    "    .setOutputCol(\"jsl_ner_chunk\")\n",
    "\n",
    "jsl_ner_pipeline = Pipeline(stages=[\n",
    "    documentAssembler, \n",
    "    sentenceDetector,\n",
    "    tokenizer,\n",
    "    word_embeddings,\n",
    "    jsl_ner,\n",
    "    jsl_ner_converter])\n",
    "\n",
    "empty_data = spark.createDataFrame([[\"\"]]).toDF(\"text\")\n",
    "\n",
    "jsl_ner_model = jsl_ner_pipeline.fit(empty_data)\n"
   ]
  },
  {
   "cell_type": "code",
   "execution_count": null,
   "metadata": {
    "id": "GfEYvGsXrouX"
   },
   "outputs": [],
   "source": [
    "jsl_light_model = LightPipeline(jsl_ner_model)\n",
    "\n",
    "jsl_light_result = jsl_light_model.fullAnnotate(text)"
   ]
  },
  {
   "cell_type": "code",
   "execution_count": null,
   "metadata": {
    "colab": {
     "base_uri": "https://localhost:8080/",
     "height": 758
    },
    "id": "87JCd2EGP9FA",
    "outputId": "19f3b843-f648-469f-fde8-632461fc6dc1"
   },
   "outputs": [],
   "source": [
    "cols = [\n",
    "     'entities_jsl_ner_chunk',\n",
    "     'entities_jsl_ner_chunk_begin',\n",
    "     'entities_jsl_ner_chunk_end',\n",
    "     'entities_jsl_ner_chunk_origin_sentence',\n",
    "     'entities_jsl_ner_chunk_class',\n",
    "]\n",
    "jsl_df = nlu.to_pretty_df(jsl_ner_model, text,positions=True, output_level='chunk')[cols]\n",
    "jsl_df.head(20)"
   ]
  },
  {
   "cell_type": "markdown",
   "metadata": {
    "id": "Pk9617IMzGMI"
   },
   "source": [
    "### Checking `ner_clinical_large` and `ner_jsl` results together\n",
    "\n"
   ]
  },
  {
   "cell_type": "code",
   "execution_count": null,
   "metadata": {
    "colab": {
     "base_uri": "https://localhost:8080/",
     "height": 720,
     "resources": {
      "http://localhost:8080/nbextensions/google.colab/tabbar.css": {
       "data": "Lmdvb2ctdGFie3Bvc2l0aW9uOnJlbGF0aXZlO3BhZGRpbmc6NHB4IDhweDtjb2xvcjojMDBjO3RleHQtZGVjb3JhdGlvbjp1bmRlcmxpbmU7Y3Vyc29yOmRlZmF1bHR9Lmdvb2ctdGFiLWJhci10b3AgLmdvb2ctdGFie21hcmdpbjoxcHggNHB4IDAgMDtib3JkZXItYm90dG9tOjA7ZmxvYXQ6bGVmdH0uZ29vZy10YWItYmFyLXRvcDphZnRlciwuZ29vZy10YWItYmFyLWJvdHRvbTphZnRlcntjb250ZW50OiIgIjtkaXNwbGF5OmJsb2NrO2hlaWdodDowO2NsZWFyOmJvdGg7dmlzaWJpbGl0eTpoaWRkZW59Lmdvb2ctdGFiLWJhci1ib3R0b20gLmdvb2ctdGFie21hcmdpbjowIDRweCAxcHggMDtib3JkZXItdG9wOjA7ZmxvYXQ6bGVmdH0uZ29vZy10YWItYmFyLXN0YXJ0IC5nb29nLXRhYnttYXJnaW46MCAwIDRweCAxcHg7Ym9yZGVyLXJpZ2h0OjB9Lmdvb2ctdGFiLWJhci1lbmQgLmdvb2ctdGFie21hcmdpbjowIDFweCA0cHggMDtib3JkZXItbGVmdDowfS5nb29nLXRhYi1ob3ZlcntiYWNrZ3JvdW5kOiNlZWV9Lmdvb2ctdGFiLWRpc2FibGVke2NvbG9yOiM2NjZ9Lmdvb2ctdGFiLXNlbGVjdGVke2NvbG9yOiMwMDA7YmFja2dyb3VuZDojZmZmO3RleHQtZGVjb3JhdGlvbjpub25lO2ZvbnQtd2VpZ2h0OmJvbGQ7Ym9yZGVyOjFweCBzb2xpZCAjNmI5MGRhfS5nb29nLXRhYi1iYXItdG9we3BhZGRpbmctdG9wOjVweCFpbXBvcnRhbnQ7cGFkZGluZy1sZWZ0OjVweCFpbXBvcnRhbnQ7Ym9yZGVyLWJvdHRvbToxcHggc29saWQgIzZiOTBkYSFpbXBvcnRhbnR9Lmdvb2ctdGFiLWJhci10b3AgLmdvb2ctdGFiLXNlbGVjdGVke3RvcDoxcHg7bWFyZ2luLXRvcDowO3BhZGRpbmctYm90dG9tOjVweH0uZ29vZy10YWItYmFyLWJvdHRvbSAuZ29vZy10YWItc2VsZWN0ZWR7dG9wOi0xcHg7bWFyZ2luLWJvdHRvbTowO3BhZGRpbmctdG9wOjVweH0uZ29vZy10YWItYmFyLXN0YXJ0IC5nb29nLXRhYi1zZWxlY3RlZHtsZWZ0OjFweDttYXJnaW4tbGVmdDowO3BhZGRpbmctcmlnaHQ6OXB4fS5nb29nLXRhYi1iYXItZW5kIC5nb29nLXRhYi1zZWxlY3RlZHtsZWZ0Oi0xcHg7bWFyZ2luLXJpZ2h0OjA7cGFkZGluZy1sZWZ0OjlweH0uZ29vZy10YWItYmFye21hcmdpbjowO2JvcmRlcjowO3BhZGRpbmc6MDtsaXN0LXN0eWxlOm5vbmU7Y3Vyc29yOmRlZmF1bHQ7b3V0bGluZTpub25lO2JhY2tncm91bmQ6I2ViZWZmOX0uZ29vZy10YWItYmFyLWNsZWFye2NsZWFyOmJvdGg7aGVpZ2h0OjA7b3ZlcmZsb3c6aGlkZGVufS5nb29nLXRhYi1iYXItc3RhcnR7ZmxvYXQ6bGVmdH0uZ29vZy10YWItYmFyLWVuZHtmbG9hdDpyaWdodH0qIGh0bWwgLmdvb2ctdGFiLWJhci1zdGFydHttYXJnaW4tcmlnaHQ6LTNweH0qIGh0bWwgLmdvb2ctdGFiLWJhci1lbmR7bWFyZ2luLWxlZnQ6LTNweH0=",
       "headers": [
        [
         "content-type",
         "text/css"
        ]
       ],
       "ok": true,
       "status": 200,
       "status_text": ""
      },
      "http://localhost:8080/nbextensions/google.colab/tabbar_main.min.js": {
       "data": "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",
       "headers": [
        [
         "content-type",
         "application/javascript"
        ]
       ],
       "ok": true,
       "status": 200,
       "status_text": ""
      }
     }
    },
    "id": "pKz-3HfVrN30",
    "outputId": "09630aa4-660a-4743-d3c6-f986120d8ba0"
   },
   "outputs": [],
   "source": [
    "from google.colab import widgets\n",
    "\n",
    "t = widgets.TabBar([\"ner_clinical_large\", \"ner_jsl\", \"viz_clinical\", \"viz_jsl\"])\n",
    "\n",
    "with t.output_to(0):\n",
    "    display(df_clinical)\n",
    "\n",
    "with t.output_to(1):\n",
    "    display(jsl_df)\n",
    "\n",
    "with t.output_to(2):\n",
    "    visualiser.display(light_result[0], label_col='ner_chunk', document_col='document')\n",
    "\n",
    "with t.output_to(3):\n",
    "    visualiser.display(jsl_light_result[0], label_col='jsl_ner_chunk', document_col='document')"
   ]
  },
  {
   "cell_type": "markdown",
   "metadata": {
    "id": "NZ_3PK8iyPIV"
   },
   "source": [
    "## Posology NER\n",
    "**Entities**\n",
    "\n",
    "- DOSAGE\n",
    "- DRUG\n",
    "- DURATION\n",
    "- FORM\n",
    "- FREQUENCY\n",
    "- ROUTE\n",
    "- STRENGTH"
   ]
  },
  {
   "cell_type": "markdown",
   "metadata": {
    "id": "SIolk-neq3DN"
   },
   "source": [
    "![image.png](data:image/png;base64,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)"
   ]
  },
  {
   "cell_type": "code",
   "execution_count": null,
   "metadata": {
    "colab": {
     "base_uri": "https://localhost:8080/"
    },
    "id": "qDJDk1o41jfH",
    "outputId": "008b912f-bad8-4d2e-9c83-1abebfeea0db"
   },
   "outputs": [],
   "source": [
    "# NER model trained on i2b2 (sampled from MIMIC) dataset\n",
    "posology_ner = MedicalNerModel.pretrained(\"ner_posology\", \"en\", \"clinical/models\") \\\n",
    "    .setInputCols([\"sentence\", \"token\", \"embeddings\"]) \\\n",
    "    .setOutputCol(\"ner\")\n",
    "\n",
    "posology_ner_converter = NerConverter()\\\n",
    "    .setInputCols([\"sentence\",\"token\",\"ner\"])\\\n",
    "    .setOutputCol(\"ner_chunk\")\n",
    "\n",
    "# greedy model\n",
    "posology_ner_greedy = MedicalNerModel.pretrained(\"ner_posology_greedy\", \"en\", \"clinical/models\") \\\n",
    "    .setInputCols([\"sentence\", \"token\", \"embeddings\"]) \\\n",
    "    .setOutputCol(\"ner_greedy\")\n",
    "\n",
    "ner_converter_greedy = NerConverter()\\\n",
    "    .setInputCols([\"sentence\",\"token\",\"ner_greedy\"])\\\n",
    "    .setOutputCol(\"ner_chunk_greedy\")\n",
    "\n",
    "nlpPipeline = Pipeline(stages=[\n",
    "    documentAssembler, \n",
    "    sentenceDetector,\n",
    "    tokenizer,\n",
    "    word_embeddings,\n",
    "    posology_ner,\n",
    "    posology_ner_converter,\n",
    "    posology_ner_greedy,\n",
    "    ner_converter_greedy])\n",
    "\n",
    "empty_data = spark.createDataFrame([[\"\"]]).toDF(\"text\")\n",
    "\n",
    "posology_model = nlpPipeline.fit(empty_data)\n"
   ]
  },
  {
   "cell_type": "code",
   "execution_count": null,
   "metadata": {
    "colab": {
     "base_uri": "https://localhost:8080/"
    },
    "id": "tGlKLjiJ1pk3",
    "outputId": "8e530582-ed8f-49ec-e2fd-59a090a6e1ff"
   },
   "outputs": [],
   "source": [
    "posology_ner.getClasses()"
   ]
  },
  {
   "cell_type": "code",
   "execution_count": null,
   "metadata": {
    "id": "dLi2DHEpyepZ"
   },
   "outputs": [],
   "source": [
    "posology_result = posology_model.transform(mt_samples_df).cache()"
   ]
  },
  {
   "cell_type": "code",
   "execution_count": null,
   "metadata": {
    "colab": {
     "base_uri": "https://localhost:8080/"
    },
    "id": "OjeG2WLly_ym",
    "outputId": "fdb73430-478e-4d8e-89d6-f584138f71ba"
   },
   "outputs": [],
   "source": [
    "posology_result.show(10)"
   ]
  },
  {
   "cell_type": "code",
   "execution_count": null,
   "metadata": {
    "colab": {
     "base_uri": "https://localhost:8080/"
    },
    "id": "pL_TMXSv1paw",
    "outputId": "cc822048-5d44-42b0-adfa-a794ce7bf8bc"
   },
   "outputs": [],
   "source": [
    "from pyspark.sql.functions import monotonically_increasing_id\n",
    "\n",
    "# This will return a new DF with all the columns + id\n",
    "posology_result = posology_result.withColumn(\"id\", monotonically_increasing_id())\n",
    "\n",
    "posology_result.show(3)"
   ]
  },
  {
   "cell_type": "code",
   "execution_count": null,
   "metadata": {
    "colab": {
     "base_uri": "https://localhost:8080/"
    },
    "id": "YK0prud8UoDh",
    "outputId": "7cd0450e-556a-4095-8e1a-8733754060f1"
   },
   "outputs": [],
   "source": [
    "posology_result.select('token.result','ner.result').show(truncate=100)"
   ]
  },
  {
   "cell_type": "code",
   "execution_count": null,
   "metadata": {
    "colab": {
     "base_uri": "https://localhost:8080/"
    },
    "id": "DHV5kfhOClV8",
    "outputId": "80d210ee-f808-4e68-c2f6-a0e202e90084"
   },
   "outputs": [],
   "source": [
    "posology_result.select('token.result','ner.result').show(5, truncate=80)"
   ]
  },
  {
   "cell_type": "code",
   "execution_count": null,
   "metadata": {
    "colab": {
     "base_uri": "https://localhost:8080/"
    },
    "id": "3aEoR8Y5y8kE",
    "outputId": "325f4738-6dbe-47ec-ad7f-bc782ec2f492"
   },
   "outputs": [],
   "source": [
    "from pyspark.sql import functions as F\n",
    "\n",
    "posology_result.select(F.explode(F.arrays_zip(posology_result.token.result, \n",
    "                                              posology_result.ner.result, \n",
    "                                              posology_result.ner.metadata)).alias(\"cols\")) \\\n",
    "               .select(F.expr(\"cols['0']\").alias(\"token\"),\n",
    "                       F.expr(\"cols['1']\").alias(\"ner_label\"),\n",
    "                       F.expr(\"cols['2']['confidence']\").alias(\"confidence\"))\\\n",
    "               .filter(\"ner_label!='O'\")\\\n",
    "               .show(20, truncate=100)\n"
   ]
  },
  {
   "cell_type": "code",
   "execution_count": null,
   "metadata": {
    "colab": {
     "base_uri": "https://localhost:8080/"
    },
    "id": "T3pH3xulzHfr",
    "outputId": "83d34cb8-4b51-4bf5-dc28-fcb555e3c2ac"
   },
   "outputs": [],
   "source": [
    "posology_result.select('id',F.explode(F.arrays_zip(posology_result.ner_chunk.result, \n",
    "                                                   posology_result.ner_chunk.begin, \n",
    "                                                   posology_result.ner_chunk.end, \n",
    "                                                   posology_result.ner_chunk.metadata)).alias(\"cols\")) \\\n",
    "               .select('id', F.expr(\"cols['3']['sentence']\").alias(\"sentence_id\"),\n",
    "                             F.expr(\"cols['0']\").alias(\"chunk\"),\n",
    "                             F.expr(\"cols['1']\").alias(\"begin\"),\n",
    "                             F.expr(\"cols['2']\").alias(\"end\"),\n",
    "                             F.expr(\"cols['3']['entity']\").alias(\"ner_label\"),\n",
    "                             F.expr(\"cols['3']['confidence']\").alias(\"confidence\"))\\\n",
    "                    .filter(\"ner_label!='O'\")\\\n",
    "                    .show(truncate=False)"
   ]
  },
  {
   "cell_type": "code",
   "execution_count": null,
   "metadata": {
    "colab": {
     "base_uri": "https://localhost:8080/"
    },
    "id": "rMtx9HaN61Oy",
    "outputId": "99d529e6-43ae-46a5-8008-b71a8b32eb68"
   },
   "outputs": [],
   "source": [
    "posology_result.select('id',F.explode(F.arrays_zip(posology_result.ner_chunk_greedy.result, \n",
    "                                                   posology_result.ner_chunk_greedy.begin, \n",
    "                                                   posology_result.ner_chunk_greedy.end, \n",
    "                                                   posology_result.ner_chunk_greedy.metadata)).alias(\"cols\")) \\\n",
    "               .select('id', F.expr(\"cols['3']['sentence']\").alias(\"sentence_id\"),\n",
    "                             F.expr(\"cols['0']\").alias(\"chunk\"),\n",
    "                             F.expr(\"cols['1']\").alias(\"begin\"),\n",
    "                             F.expr(\"cols['2']\").alias(\"end\"),\n",
    "                             F.expr(\"cols['3']['entity']\").alias(\"ner_label\"),\n",
    "                             F.expr(\"cols['3']['confidence']\").alias(\"confidence\"))\\\n",
    "                    .filter(\"ner_label!='O'\")\\\n",
    "                    .show(truncate=False)"
   ]
  },
  {
   "cell_type": "code",
   "execution_count": null,
   "metadata": {
    "colab": {
     "base_uri": "https://localhost:8080/",
     "height": 36
    },
    "id": "CATF6C96D4Fy",
    "outputId": "cad7b266-d40e-4e92-95e9-f64de012ce6c"
   },
   "outputs": [],
   "source": [
    "posology_result.select('ner_chunk').take(2)[1][0][0].result"
   ]
  },
  {
   "cell_type": "code",
   "execution_count": null,
   "metadata": {
    "colab": {
     "base_uri": "https://localhost:8080/"
    },
    "id": "ZX3_nnmKEOam",
    "outputId": "1ca31039-e6f2-4979-bfe4-26c04c051715"
   },
   "outputs": [],
   "source": [
    "posology_result.select('ner_chunk').take(2)[1][0][0].metadata"
   ]
  },
  {
   "cell_type": "code",
   "execution_count": null,
   "metadata": {
    "colab": {
     "base_uri": "https://localhost:8080/"
    },
    "id": "iZEj6SNg62Im",
    "outputId": "5f47a13f-efa2-4f74-876d-c20322d9cc1b"
   },
   "outputs": [],
   "source": [
    "posology_light_model = LightPipeline(posology_model)\n",
    "\n",
    "text ='The patient was prescribed 1 capsule of Advil for 5 days . He was seen by the endocrinology service and she was discharged on 40 units of insulin glargine at night , 12 units of insulin lispro with meals , and metformin 1000 mg two times a day . It was determined that all SGLT2 inhibitors should be discontinued indefinitely for 3 months .'\n",
    "\n",
    "posology_light_result = posology_light_model.annotate(text)\n",
    "\n",
    "list(zip(posology_light_result['token'], posology_light_result['ner']))"
   ]
  },
  {
   "cell_type": "code",
   "execution_count": null,
   "metadata": {
    "colab": {
     "base_uri": "https://localhost:8080/"
    },
    "id": "UwGbpOlEYQIQ",
    "outputId": "2cbcb98b-4f40-412c-ea02-6a38a1001398"
   },
   "outputs": [],
   "source": [
    "list(zip(posology_light_result['token'], posology_light_result['ner_greedy']))"
   ]
  },
  {
   "cell_type": "code",
   "execution_count": null,
   "metadata": {
    "colab": {
     "base_uri": "https://localhost:8080/",
     "height": 520
    },
    "id": "rPcavWpP-Fu9",
    "outputId": "da098101-0ae5-4c4b-e30d-56bc1f35572f"
   },
   "outputs": [],
   "source": [
    "cols = [\n",
    "     'entities_ner_chunk',\n",
    "     'entities_ner_chunk_class',\n",
    "     'entities_ner_chunk_begin',\n",
    "     'entities_ner_chunk_end',\n",
    "]\n",
    "posology_result_df = nlu.to_pretty_df(posology_light_model, text, positions=True, output_level='chunk')[cols]\n",
    "posology_result_df.head(20)"
   ]
  },
  {
   "cell_type": "code",
   "execution_count": null,
   "metadata": {
    "colab": {
     "base_uri": "https://localhost:8080/",
     "height": 363
    },
    "id": "EozCGm7gq4vF",
    "outputId": "7d423bf9-fa4b-4de1-bf51-8ef83425db3e"
   },
   "outputs": [],
   "source": [
    "cols = [\n",
    "     'entities_ner_chunk_greedy',\n",
    "     'entities_ner_chunk_greedy_class',\n",
    "     'entities_ner_chunk_greedy_begin',\n",
    "     'entities_ner_chunk_greedy_end',\n",
    "]\n",
    "posology_result_greedy_df = nlu.to_pretty_df(posology_light_model, text, positions=True, output_level='chunk')[cols]\n",
    "posology_result_greedy_df.head(10)"
   ]
  },
  {
   "cell_type": "markdown",
   "metadata": {
    "id": "OVzH2UP2zkc5"
   },
   "source": [
    "### Comparison of `ner_posology` and `ner_posology_greedy` results"
   ]
  },
  {
   "cell_type": "code",
   "execution_count": null,
   "metadata": {
    "colab": {
     "base_uri": "https://localhost:8080/",
     "height": 270,
     "resources": {
      "http://localhost:8080/nbextensions/google.colab/tabbar.css": {
       "data": "Lmdvb2ctdGFie3Bvc2l0aW9uOnJlbGF0aXZlO3BhZGRpbmc6NHB4IDhweDtjb2xvcjojMDBjO3RleHQtZGVjb3JhdGlvbjp1bmRlcmxpbmU7Y3Vyc29yOmRlZmF1bHR9Lmdvb2ctdGFiLWJhci10b3AgLmdvb2ctdGFie21hcmdpbjoxcHggNHB4IDAgMDtib3JkZXItYm90dG9tOjA7ZmxvYXQ6bGVmdH0uZ29vZy10YWItYmFyLXRvcDphZnRlciwuZ29vZy10YWItYmFyLWJvdHRvbTphZnRlcntjb250ZW50OiIgIjtkaXNwbGF5OmJsb2NrO2hlaWdodDowO2NsZWFyOmJvdGg7dmlzaWJpbGl0eTpoaWRkZW59Lmdvb2ctdGFiLWJhci1ib3R0b20gLmdvb2ctdGFie21hcmdpbjowIDRweCAxcHggMDtib3JkZXItdG9wOjA7ZmxvYXQ6bGVmdH0uZ29vZy10YWItYmFyLXN0YXJ0IC5nb29nLXRhYnttYXJnaW46MCAwIDRweCAxcHg7Ym9yZGVyLXJpZ2h0OjB9Lmdvb2ctdGFiLWJhci1lbmQgLmdvb2ctdGFie21hcmdpbjowIDFweCA0cHggMDtib3JkZXItbGVmdDowfS5nb29nLXRhYi1ob3ZlcntiYWNrZ3JvdW5kOiNlZWV9Lmdvb2ctdGFiLWRpc2FibGVke2NvbG9yOiM2NjZ9Lmdvb2ctdGFiLXNlbGVjdGVke2NvbG9yOiMwMDA7YmFja2dyb3VuZDojZmZmO3RleHQtZGVjb3JhdGlvbjpub25lO2ZvbnQtd2VpZ2h0OmJvbGQ7Ym9yZGVyOjFweCBzb2xpZCAjNmI5MGRhfS5nb29nLXRhYi1iYXItdG9we3BhZGRpbmctdG9wOjVweCFpbXBvcnRhbnQ7cGFkZGluZy1sZWZ0OjVweCFpbXBvcnRhbnQ7Ym9yZGVyLWJvdHRvbToxcHggc29saWQgIzZiOTBkYSFpbXBvcnRhbnR9Lmdvb2ctdGFiLWJhci10b3AgLmdvb2ctdGFiLXNlbGVjdGVke3RvcDoxcHg7bWFyZ2luLXRvcDowO3BhZGRpbmctYm90dG9tOjVweH0uZ29vZy10YWItYmFyLWJvdHRvbSAuZ29vZy10YWItc2VsZWN0ZWR7dG9wOi0xcHg7bWFyZ2luLWJvdHRvbTowO3BhZGRpbmctdG9wOjVweH0uZ29vZy10YWItYmFyLXN0YXJ0IC5nb29nLXRhYi1zZWxlY3RlZHtsZWZ0OjFweDttYXJnaW4tbGVmdDowO3BhZGRpbmctcmlnaHQ6OXB4fS5nb29nLXRhYi1iYXItZW5kIC5nb29nLXRhYi1zZWxlY3RlZHtsZWZ0Oi0xcHg7bWFyZ2luLXJpZ2h0OjA7cGFkZGluZy1sZWZ0OjlweH0uZ29vZy10YWItYmFye21hcmdpbjowO2JvcmRlcjowO3BhZGRpbmc6MDtsaXN0LXN0eWxlOm5vbmU7Y3Vyc29yOmRlZmF1bHQ7b3V0bGluZTpub25lO2JhY2tncm91bmQ6I2ViZWZmOX0uZ29vZy10YWItYmFyLWNsZWFye2NsZWFyOmJvdGg7aGVpZ2h0OjA7b3ZlcmZsb3c6aGlkZGVufS5nb29nLXRhYi1iYXItc3RhcnR7ZmxvYXQ6bGVmdH0uZ29vZy10YWItYmFyLWVuZHtmbG9hdDpyaWdodH0qIGh0bWwgLmdvb2ctdGFiLWJhci1zdGFydHttYXJnaW4tcmlnaHQ6LTNweH0qIGh0bWwgLmdvb2ctdGFiLWJhci1lbmR7bWFyZ2luLWxlZnQ6LTNweH0=",
       "headers": [
        [
         "content-type",
         "text/css"
        ]
       ],
       "ok": true,
       "status": 200,
       "status_text": ""
      },
      "http://localhost:8080/nbextensions/google.colab/tabbar_main.min.js": {
       "data": "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",
       "headers": [
        [
         "content-type",
         "application/javascript"
        ]
       ],
       "ok": true,
       "status": 200,
       "status_text": ""
      }
     }
    },
    "id": "S0aT2rYMslyi",
    "outputId": "394c00da-ab21-4924-e379-e00112de24fe"
   },
   "outputs": [],
   "source": [
    "posology_light_result= posology_light_model.fullAnnotate(text)\n",
    "\n",
    "from google.colab import widgets\n",
    "\n",
    "t = widgets.TabBar([\"ner_posology\", \"ner_posology_greedy\", \"viz_posology\", \"viz_posology_greedy\"])\n",
    "\n",
    "with t.output_to(0):\n",
    "    display(posology_result_df.head(10))\n",
    "\n",
    "with t.output_to(1):\n",
    "    display(posology_result_greedy_df.head(10))\n",
    "\n",
    "with t.output_to(2):\n",
    "    visualiser.display(posology_light_result[0], label_col='ner_chunk', document_col='document')\n",
    "\n",
    "with t.output_to(3):\n",
    "    visualiser.display(posology_light_result[0], label_col='ner_chunk_greedy', document_col='document')"
   ]
  },
  {
   "cell_type": "markdown",
   "metadata": {
    "id": "0vWIDpk50QfG"
   },
   "source": [
    "## Writing a generic NER function"
   ]
  },
  {
   "cell_type": "markdown",
   "metadata": {
    "id": "mDXfsBokuq4h"
   },
   "source": [
    "**Generic NER Function with LightPipeline**"
   ]
  },
  {
   "cell_type": "code",
   "execution_count": null,
   "metadata": {
    "id": "kd3wwfajfyDb"
   },
   "outputs": [],
   "source": [
    "def get_light_model(embeddings, model_name = 'ner_clinical'):\n",
    "\n",
    "  documentAssembler = DocumentAssembler()\\\n",
    "      .setInputCol(\"text\")\\\n",
    "      .setOutputCol(\"document\")\n",
    "\n",
    "  sentenceDetector = SentenceDetector()\\\n",
    "      .setInputCols([\"document\"])\\\n",
    "      .setOutputCol(\"sentence\")\n",
    "\n",
    "  tokenizer = Tokenizer()\\\n",
    "      .setInputCols([\"sentence\"])\\\n",
    "      .setOutputCol(\"token\")\n",
    "\n",
    "  word_embeddings = WordEmbeddingsModel.pretrained(embeddings, \"en\", \"clinical/models\")\\\n",
    "      .setInputCols([\"sentence\", \"token\"])\\\n",
    "      .setOutputCol(\"embeddings\")\n",
    "\n",
    "  loaded_ner_model = MedicalNerModel.pretrained(model_name, \"en\", \"clinical/models\") \\\n",
    "      .setInputCols([\"sentence\", \"token\", \"embeddings\"]) \\\n",
    "      .setOutputCol(\"ner\")\n",
    "\n",
    "  ner_converter = NerConverter() \\\n",
    "      .setInputCols([\"sentence\", \"token\", \"ner\"]) \\\n",
    "      .setOutputCol(\"ner_chunk\")\n",
    "\n",
    "  nlpPipeline = Pipeline(stages=[\n",
    "      documentAssembler,\n",
    "      sentenceDetector,\n",
    "      tokenizer,\n",
    "      word_embeddings,\n",
    "      loaded_ner_model,\n",
    "      ner_converter])\n",
    "\n",
    "  model = nlpPipeline.fit(spark.createDataFrame([[\"\"]]).toDF(\"text\"))\n",
    "\n",
    "  return LightPipeline(model)"
   ]
  },
  {
   "cell_type": "code",
   "execution_count": null,
   "metadata": {
    "colab": {
     "base_uri": "https://localhost:8080/"
    },
    "id": "V81zaAe13qLU",
    "outputId": "b2ebb002-44bf-44df-a8ec-0446faa075b8"
   },
   "outputs": [],
   "source": [
    "embeddings = 'embeddings_clinical'\n",
    "\n",
    "model_name = 'ner_clinical'\n",
    "\n",
    "light_model = get_light_model(embeddings, model_name)\n",
    "\n",
    "text = \"I had a headache yesterday and took an Advil.\""
   ]
  },
  {
   "cell_type": "code",
   "execution_count": null,
   "metadata": {
    "colab": {
     "base_uri": "https://localhost:8080/",
     "height": 112
    },
    "id": "M53Wcu6pre0j",
    "outputId": "b36bfa0c-d4e5-471d-d082-72eda80541dd"
   },
   "outputs": [],
   "source": [
    "cols = [\n",
    "     'entities_ner_chunk_origin_sentence',\n",
    "     'entities_ner_chunk_begin',\n",
    "     'entities_ner_chunk_end',\n",
    "     'entities_ner_chunk',\n",
    "     'entities_ner_chunk_class',\n",
    "]\n",
    "\n",
    "nlu.to_pretty_df(light_model, text, positions=True, output_level='chunk')[cols]"
   ]
  },
  {
   "cell_type": "code",
   "execution_count": null,
   "metadata": {
    "colab": {
     "base_uri": "https://localhost:8080/"
    },
    "id": "LmLPlfCw5hh-",
    "outputId": "f0dbc0e7-7632-493c-8bcf-ccd820e13286"
   },
   "outputs": [],
   "source": [
    "text ='''The patient was prescribed 1 capsule of Parol with meals . \n",
    "He was seen by the endocrinology service and she was discharged on 40 units of insulin glargine at night , 12 units of insulin lispro with meals , and metformin 1000 mg two times a day . \n",
    "It was determined that all SGLT2 inhibitors should be discontinued indefinitely fro 3 months .'''\n",
    "\n",
    "embeddings = 'embeddings_clinical'\n",
    "\n",
    "model_name = 'ner_posology'\n",
    "\n",
    "light_model = get_light_model(embeddings, model_name)"
   ]
  },
  {
   "cell_type": "code",
   "execution_count": null,
   "metadata": {
    "colab": {
     "base_uri": "https://localhost:8080/",
     "height": 488
    },
    "id": "DLnWyjNrrm4v",
    "outputId": "d4b978ca-6b02-4024-e8eb-91022e9de794"
   },
   "outputs": [],
   "source": [
    "nlu.to_pretty_df(light_model, text,positions=True, output_level='chunk')[cols]"
   ]
  },
  {
   "cell_type": "markdown",
   "metadata": {
    "id": "gQZP4CvL_qha"
   },
   "source": [
    "## PHI NER\n",
    "\n",
    "**Entities**\n",
    "- AGE\n",
    "- CONTACT\n",
    "- DATE\n",
    "- ID\n",
    "- LOCATION\n",
    "- NAME\n",
    "- PROFESSION"
   ]
  },
  {
   "cell_type": "code",
   "execution_count": null,
   "metadata": {
    "colab": {
     "base_uri": "https://localhost:8080/"
    },
    "id": "ZGGTicqg6Ii-",
    "outputId": "21a3cbf9-4b6c-427e-e57c-e57d5ca9302a"
   },
   "outputs": [],
   "source": [
    "embeddings = 'embeddings_clinical'\n",
    "\n",
    "model_name = 'ner_deid_subentity_augmented'\n",
    "\n",
    "# deidentify_dl\n",
    "# ner_deid_large\n",
    "# ner_deid_generic_augmented\n",
    "# ner_deid_subentity_augmented\n",
    "# ner_deid_subentity_augmented_i2b2\n",
    "\n",
    "text = \"\"\"Miriam BRAY is a 41-year-old female from Vietnam and she was admitted for a right-sided pleural effusion for thoracentesis on Monday by Dr. X. Her Coumadin was placed on hold.\n",
    "She was instructed to followup with Dr. XYZ in the office to check her INR On August 24, 2007 .\"\"\"\n",
    "\n",
    "light_model = get_light_model(embeddings, model_name)"
   ]
  },
  {
   "cell_type": "code",
   "execution_count": null,
   "metadata": {
    "colab": {
     "base_uri": "https://localhost:8080/",
     "height": 269
    },
    "id": "Z3claKyp6S_D",
    "outputId": "e9637faa-d8b0-4490-aa76-ff1bd8c4ebe6"
   },
   "outputs": [],
   "source": [
    "nlu.to_pretty_df(light_model,text,positions=True,output_level='chunk')[cols]"
   ]
  },
  {
   "cell_type": "markdown",
   "metadata": {
    "id": "qVeR4zew_urR"
   },
   "source": [
    "## Oncology NER\n",
    "\n",
    "There are several Oncology NER models in Spark NLP. We will show an example of `new_oncology_wip` model here.\n",
    "\n",
    "**Entities**\n",
    "\n",
    "| | | | |\n",
    "|-|-|-|-|\n",
    "| Invasion | Dosage | Hormonal_Therapy | Site_Lung |\n",
    "| Biomarker_Result | Response_To_Treatment | Oncogene | Relative_Date |\n",
    "| Site_Bone | Histological_Type | Radiation_Dose | Age |\n",
    "| Duration | Grade | Tumor_Size | Line_Of_Therapy |\n",
    "| Site_Breast | Cancer_Surgery | Smoking_Status | Imaging_Test |\n",
    "| Adenopathy | Targeted_Therapy | Radiotherapy | Metastasis |\n",
    "| Date | Cycle_Number | Pathology_Result | Cancer_Score |\n",
    "| Cancer_Dx | Death_Entity | Site_Liver | Site_Brain |\n",
    "| Pathology_Test | Chemotherapy | Biomarker | Frequency |\n",
    "| Site_Lymph_Node | Performance_Status | Unspecific_Therapy | Cycle_Count |\n",
    "| Race_Ethnicity | Gender | Staging | Immunotherapy |\n",
    "| Site_Other_Body_Part | Tumor_Finding | Route | Cycle_Day |\n",
    "| Direction| | | |\n",
    "\n",
    "You can check [Oncology Model Notebook](https://github.com/JohnSnowLabs/spark-nlp-workshop/blob/master/tutorials/Certification_Trainings_JSL/Healthcare/27.Oncology_Model.ipynb) for more examples.\n"
   ]
  },
  {
   "cell_type": "code",
   "execution_count": null,
   "metadata": {
    "colab": {
     "base_uri": "https://localhost:8080/",
     "height": 164
    },
    "id": "xhOvypXqSjfd",
    "outputId": "28c5b9a3-ad1e-4159-a1ed-f1b638021574"
   },
   "outputs": [],
   "source": [
    "mt_samples_df.limit(1).collect()[0][\"text\"]"
   ]
  },
  {
   "cell_type": "code",
   "execution_count": null,
   "metadata": {
    "colab": {
     "base_uri": "https://localhost:8080/"
    },
    "id": "y1Ffv9qT_AYV",
    "outputId": "8f049bb1-e44e-4c9e-a491-bb3fb1319f13"
   },
   "outputs": [],
   "source": [
    "embeddings = 'embeddings_clinical'\n",
    "\n",
    "model_name = 'ner_oncology_wip'\n",
    "\n",
    "text =  mt_samples_df.limit(1).collect()[0][\"text\"]\n",
    "\n",
    "light_model = get_light_model(embeddings, model_name)\n"
   ]
  },
  {
   "cell_type": "code",
   "execution_count": null,
   "metadata": {
    "colab": {
     "base_uri": "https://localhost:8080/",
     "height": 676
    },
    "id": "36TmZmRL66W6",
    "outputId": "1d6059de-15c3-49b0-aeb2-15a22bb2738c"
   },
   "outputs": [],
   "source": [
    "nlu.to_pretty_df(light_model, text, positions=True, output_level='chunk')[cols].head(20).reset_index(drop=True)"
   ]
  },
  {
   "cell_type": "markdown",
   "metadata": {
    "id": "a8W07CdCZJmO"
   },
   "source": [
    "## NER Chunker\n",
    "We can extract phrases that fits into a known pattern using the NER tags. NerChunker would be quite handy to extract entity groups with neighboring tokens when there is no pretrained NER model to address certain issues. Lets say we want to extract drug and frequency together as a single chunk even if there are some unwanted tokens between them. "
   ]
  },
  {
   "cell_type": "code",
   "execution_count": null,
   "metadata": {
    "colab": {
     "base_uri": "https://localhost:8080/"
    },
    "id": "WdK6LdDxvVSt",
    "outputId": "944cac93-5244-4be5-a198-6850b389c001"
   },
   "outputs": [],
   "source": [
    "posology_ner = MedicalNerModel.pretrained(\"ner_posology\", \"en\", \"clinical/models\") \\\n",
    "    .setInputCols([\"sentence\", \"token\", \"embeddings\"]) \\\n",
    "    .setOutputCol(\"ner\")\n",
    "\n",
    "ner_chunker = NerChunker()\\\n",
    "    .setInputCols([\"sentence\",\"ner\"])\\\n",
    "    .setOutputCol(\"ner_chunk\")\\\n",
    "    .setRegexParsers([\"<DRUG>.*<FREQUENCY>\"])\n",
    "\n",
    "nlpPipeline = Pipeline(stages=[\n",
    "    documentAssembler, \n",
    "    sentenceDetector,\n",
    "    tokenizer,\n",
    "    word_embeddings,\n",
    "    posology_ner,\n",
    "    ner_chunker])\n",
    "\n",
    "empty_data = spark.createDataFrame([[\"\"]]).toDF(\"text\")\n",
    "\n",
    "ner_chunker_model = nlpPipeline.fit(empty_data)"
   ]
  },
  {
   "cell_type": "code",
   "execution_count": null,
   "metadata": {
    "colab": {
     "base_uri": "https://localhost:8080/"
    },
    "id": "wseg1Ko2vgKQ",
    "outputId": "b186d02e-70aa-46d6-9538-1f6a4ec4f8fe"
   },
   "outputs": [],
   "source": [
    "posology_ner.getClasses()"
   ]
  },
  {
   "cell_type": "code",
   "execution_count": null,
   "metadata": {
    "colab": {
     "base_uri": "https://localhost:8080/"
    },
    "id": "d1IvoqP7wC9b",
    "outputId": "526b8f25-265b-4244-9b81-f4460277d609"
   },
   "outputs": [],
   "source": [
    "light_model = LightPipeline(ner_chunker_model)\n",
    "\n",
    "text ='The patient was prescribed 1 capsule of Advil for 5 days . He was seen by the endocrinology service and she was discharged on 40 units of insulin glargine at night , 12 units of insulin lispro with meals , metformin 1000 mg two times a day . It was determined that all SGLT2 inhibitors should be discontinued indefinitely fro 3 months .'\n",
    "\n",
    "light_result = light_model.annotate(text)\n",
    "\n",
    "list(zip(light_result['token'], light_result['ner']))"
   ]
  },
  {
   "cell_type": "code",
   "execution_count": null,
   "metadata": {
    "colab": {
     "base_uri": "https://localhost:8080/"
    },
    "id": "w3iyF9PVTcUX",
    "outputId": "27d4067f-37a1-44ba-fcc2-b9ee77d1f949"
   },
   "outputs": [],
   "source": [
    "light_result[\"ner_chunk\"]"
   ]
  },
  {
   "cell_type": "markdown",
   "metadata": {
    "id": "YgSZ4ghNlDbV"
   },
   "source": [
    "## Chunk Filterer\n",
    "ChunkFilterer will allow you to filter out named entities by some conditions or predefined look-up lists, so that you can feed these entities to other annotators like Assertion Status or Entity Resolvers. It can be used with two criteria: isin and regex."
   ]
  },
  {
   "cell_type": "code",
   "execution_count": null,
   "metadata": {
    "colab": {
     "base_uri": "https://localhost:8080/"
    },
    "id": "mK5A8IozCk-5",
    "outputId": "14f47aae-3e57-41d5-e0bb-9bbb1df0cc9e"
   },
   "outputs": [],
   "source": [
    "posology_ner = MedicalNerModel.pretrained(\"ner_posology\", \"en\", \"clinical/models\") \\\n",
    "    .setInputCols([\"sentence\", \"token\", \"embeddings\"]) \\\n",
    "    .setOutputCol(\"ner\")\n",
    "\n",
    "ner_converter = NerConverter()\\\n",
    "    .setInputCols([\"sentence\",\"token\",\"ner\"])\\\n",
    "    .setOutputCol(\"ner_chunk\")\n",
    "      \n",
    "chunk_filterer = ChunkFilterer()\\\n",
    "    .setInputCols(\"sentence\",\"ner_chunk\")\\\n",
    "    .setOutputCol(\"chunk_filtered\")\\\n",
    "    .setCriteria(\"isin\")\\\n",
    "    .setWhiteList(['Advil','metformin', 'insulin lispro'])\n",
    "\n",
    "nlpPipeline = Pipeline(stages=[\n",
    "    documentAssembler, \n",
    "    sentenceDetector,\n",
    "    tokenizer,\n",
    "    word_embeddings,\n",
    "    posology_ner,\n",
    "    ner_converter,\n",
    "    chunk_filterer])\n",
    "\n",
    "empty_data = spark.createDataFrame([[\"\"]]).toDF(\"text\")\n",
    "\n",
    "chunk_filter_model = nlpPipeline.fit(empty_data)"
   ]
  },
  {
   "cell_type": "code",
   "execution_count": null,
   "metadata": {
    "colab": {
     "base_uri": "https://localhost:8080/"
    },
    "id": "NnerfAA4C9Oe",
    "outputId": "55b6a99c-1122-404d-fff7-1e0668b27bc4"
   },
   "outputs": [],
   "source": [
    "light_model = LightPipeline(chunk_filter_model)\n",
    "\n",
    "text ='The patient was prescribed 1 capsule of Advil for 5 days . He was seen by the endocrinology service and she was discharged on 40 units of insulin glargine at night , 12 units of insulin lispro with meals , metformin 1000 mg two times a day . It was determined that all SGLT2 inhibitors should be discontinued indefinitely fro 3 months .'\n",
    "\n",
    "light_result = light_model.annotate(text)\n",
    "\n",
    "light_result.keys()"
   ]
  },
  {
   "cell_type": "code",
   "execution_count": null,
   "metadata": {
    "colab": {
     "base_uri": "https://localhost:8080/"
    },
    "id": "uXGq4DBJDCu7",
    "outputId": "ea914af6-1370-4a61-8b02-1bae7b9367df"
   },
   "outputs": [],
   "source": [
    "light_result['ner_chunk'] "
   ]
  },
  {
   "cell_type": "code",
   "execution_count": null,
   "metadata": {
    "colab": {
     "base_uri": "https://localhost:8080/"
    },
    "id": "Tt-rCxecDeqY",
    "outputId": "8d46da48-cb56-43f4-8945-6f2a850e222a"
   },
   "outputs": [],
   "source": [
    "light_result['chunk_filtered']"
   ]
  },
  {
   "cell_type": "code",
   "execution_count": null,
   "metadata": {
    "colab": {
     "base_uri": "https://localhost:8080/"
    },
    "id": "3hmPFLKrlZoh",
    "outputId": "94edfa9c-1f47-4647-bb68-35f55cf14287"
   },
   "outputs": [],
   "source": [
    "ner_model = MedicalNerModel.pretrained(\"ner_clinical\", \"en\", \"clinical/models\")\\\n",
    "    .setInputCols(\"sentence\",\"token\",\"embeddings\")\\\n",
    "    .setOutputCol(\"ner\")\n",
    "\n",
    "ner_converter = NerConverter()\\\n",
    "    .setInputCols([\"sentence\",\"token\",\"ner\"])\\\n",
    "    .setOutputCol(\"ner_chunk\")\n",
    "    \n",
    "chunk_filterer = ChunkFilterer()\\\n",
    "    .setInputCols(\"sentence\",\"ner_chunk\")\\\n",
    "    .setOutputCol(\"chunk_filtered\")\\\n",
    "    .setCriteria(\"isin\")\\\n",
    "    .setWhiteList(['severe fever','sore throat'])\n",
    "\n",
    "#   .setCriteria(\"regex\")\\\n",
    "\n",
    "nlpPipeline = Pipeline(stages=[\n",
    "    documentAssembler, \n",
    "    sentenceDetector,\n",
    "    tokenizer,\n",
    "    word_embeddings,\n",
    "    ner_model,\n",
    "    ner_converter,\n",
    "    chunk_filterer])\n",
    "\n",
    "empty_data = spark.createDataFrame([[\"\"]]).toDF(\"text\")\n",
    "\n",
    "chunk_filter_model = nlpPipeline.fit(empty_data)"
   ]
  },
  {
   "cell_type": "code",
   "execution_count": null,
   "metadata": {
    "id": "xYkwr0Iwp5KU"
   },
   "outputs": [],
   "source": [
    "text = 'Patient with severe fever, severe cough, sore throat, stomach pain, and a headache.'\n",
    "\n",
    "filter_df = spark.createDataFrame([[text]]).toDF(\"text\")\n",
    "\n",
    "chunk_filter_result = chunk_filter_model.transform(filter_df)"
   ]
  },
  {
   "cell_type": "code",
   "execution_count": null,
   "metadata": {
    "colab": {
     "base_uri": "https://localhost:8080/"
    },
    "id": "3CTm6zFtApR_",
    "outputId": "87b7a345-b6e8-4dae-df80-b1e6b6ba1940"
   },
   "outputs": [],
   "source": [
    "chunk_filter_result.select('ner_chunk.result','chunk_filtered.result').show(truncate=False)"
   ]
  },
  {
   "cell_type": "markdown",
   "metadata": {
    "id": "IScRoeQjRCnB"
   },
   "source": [
    "## Changing entity labels with `NerConverterInternal()`\n",
    "\n",
    "There are two parameters in `NerConverterInternal()` annotator for replacing the labels. \n",
    "\n",
    "+ `.setReplaceLabels`: You can just create a dictionary with the labels and their new values in this parameter.\n",
    "\n",
    "```python\n",
    "jsl_ner_converter_internal = medical.NerConverterInternal()\\\n",
    "    .setInputCols([\"sentence\",\"token\",\"jsl_ner\"])\\\n",
    "    .setOutputCol(\"replaced_ner_chunk\")\\\n",
    "    .setReplaceLabels({\"Drug_BrandName\": \"Drug\",\n",
    "                       \"Frequency\": \"Drug_Frequency\",\n",
    "                       \"Dosage\": \"Drug_Dosage\",\n",
    "                       \"Strength\": \"Drug_Strength\"})\n",
    "```\n",
    "\n",
    "+ `.setReplaceDictResource`: You can feed a file that contains the labels and their new values in a dictionary format. \n",
    "\n",
    "```python\n",
    "replace_dict = \"\"\"Drug_BrandName,Drug\n",
    "Frequency,Drug_Frequency\n",
    "Dosage,Drug_Dosage\n",
    "Strength,Drug_Strength\n",
    "\"\"\"\n",
    "with open('replace_dict.csv', 'w') as f:\n",
    "    f.write(replace_dict)\n",
    "\n",
    "...\n",
    "jsl_ner_converter_internal = medical.NerConverterInternal()\\\n",
    "    .setInputCols([\"sentence\",\"token\",\"jsl_ner\"])\\\n",
    "    .setOutputCol(\"replaced_ner_chunk\")\\\n",
    "    .setReplaceDictResource(\"replace_dict.csv\",\"text\", {\"delimiter\":\",\"})\n",
    "...\n",
    "```\n",
    "\n",
    "\n",
    "\n",
    "You can check [NerConverterInternal Annotator Page](https://nlp.johnsnowlabs.com/docs/en/licensed_annotators#nerconverterinternal) for more details."
   ]
  },
  {
   "cell_type": "code",
   "execution_count": null,
   "metadata": {
    "colab": {
     "base_uri": "https://localhost:8080/"
    },
    "id": "YYMqNMnJyEBk",
    "outputId": "756993e5-02aa-4c70-dbf5-92d4c7fc2411"
   },
   "outputs": [],
   "source": [
    "documentAssembler = DocumentAssembler()\\\n",
    "    .setInputCol(\"text\")\\\n",
    "    .setOutputCol(\"document\")\n",
    "\n",
    "sentenceDetector = SentenceDetectorDLModel.pretrained(\"sentence_detector_dl_healthcare\",\"en\",\"clinical/models\") \\\n",
    "    .setInputCols([\"document\"]) \\\n",
    "    .setOutputCol(\"sentence\") \n",
    "\n",
    "tokenizer = Tokenizer()\\\n",
    "    .setInputCols([\"sentence\"])\\\n",
    "    .setOutputCol(\"token\")\n",
    "\n",
    "word_embeddings = WordEmbeddingsModel.pretrained(\"embeddings_clinical\", \"en\", \"clinical/models\")\\\n",
    "    .setInputCols([\"sentence\", \"token\"])\\\n",
    "    .setOutputCol(\"embeddings\")\n",
    "\n",
    "jsl_ner = MedicalNerModel.pretrained(\"ner_jsl\", \"en\", \"clinical/models\") \\\n",
    "    .setInputCols([\"sentence\", \"token\", \"embeddings\"]) \\\n",
    "    .setOutputCol(\"jsl_ner\")\n",
    "\n",
    "jsl_ner_converter = NerConverter() \\\n",
    "    .setInputCols([\"sentence\", \"token\", \"jsl_ner\"]) \\\n",
    "    .setOutputCol(\"jsl_ner_chunk\")\n",
    "\n",
    "jsl_ner_converter_internal = NerConverterInternal()\\\n",
    "    .setInputCols([\"sentence\",\"token\",\"jsl_ner\"])\\\n",
    "    .setOutputCol(\"replaced_ner_chunk\")\\\n",
    "    .setReplaceLabels({\"Drug_BrandName\": \"Drug\",\n",
    "                       \"Frequency\": \"Drug_Frequency\",\n",
    "                       \"Dosage\": \"Drug_Dosage\",\n",
    "                       \"Strength\": \"Drug_Strength\"})\n",
    "      \n",
    "nlpPipeline = Pipeline(stages=[\n",
    "    documentAssembler, \n",
    "    sentenceDetector,\n",
    "    tokenizer,\n",
    "    word_embeddings,\n",
    "    jsl_ner,\n",
    "    jsl_ner_converter,\n",
    "    jsl_ner_converter_internal\n",
    "    ])\n",
    "\n",
    "empty_data = spark.createDataFrame([[\"\"]]).toDF(\"text\")\n",
    "ner_converter_model = nlpPipeline.fit(empty_data)"
   ]
  },
  {
   "cell_type": "code",
   "execution_count": null,
   "metadata": {
    "colab": {
     "base_uri": "https://localhost:8080/",
     "height": 646
    },
    "id": "JUwrYrviz3J0",
    "outputId": "302169a2-a6e1-442f-9d4f-2a300c0f7730"
   },
   "outputs": [],
   "source": [
    "text ='The patient was prescribed 1 capsule of Parol with meals. He was seen by the endocrinology service and she was discharged on 40 units of insulin glargine at night , 12 units of insulin lispro with meals , and metformin 1000 mg two times a day . It was determined that all SGLT2 inhibitors should be discontinued indefinitely fro 3 months .'\n",
    "\n",
    "#light_model = LightPipeline(ner_converter_model)\n",
    "\n",
    "cols = [\n",
    "     'entities_jsl_ner_chunk_origin_sentence',\n",
    "     'entities_jsl_ner_chunk_begin',\n",
    "     'entities_jsl_ner_chunk_end',\n",
    "     'entities_jsl_ner_chunk',\n",
    "     'entities_jsl_ner_chunk_class',\n",
    "     'entities_replaced_ner_chunk_class'\n",
    "]\n",
    "nlu.to_pretty_df(ner_converter_model,text,positions=True,output_level='chunk')[cols].head(20)"
   ]
  },
  {
   "cell_type": "markdown",
   "metadata": {
    "id": "7zkx4ZL2udiS"
   },
   "source": [
    "### Adding `setIgnoreStopWords` parameter to control chunk generation.\n",
    "By providing `setIgnoreStopWords`, we can ignore certain words or characters while creating a chunk. <br/>\n",
    "\n",
    "It should be a list of tokens/words or characters, and when two entities of the same type are separated by those words, these entities can be combined to produce a single, larger chunk.\n",
    "\n",
    "\n",
    "\n",
    "\n"
   ]
  },
  {
   "cell_type": "markdown",
   "metadata": {
    "id": "LjXlxH9AwUd6"
   },
   "source": [
    "Firstly let's create `NerConverterInternal()` without this parameter"
   ]
  },
  {
   "cell_type": "code",
   "execution_count": null,
   "metadata": {
    "colab": {
     "base_uri": "https://localhost:8080/"
    },
    "id": "m9gUWSQBwBzG",
    "outputId": "d8abf199-f38b-4589-e500-5809fe585d21"
   },
   "outputs": [],
   "source": [
    "jsl_ner= MedicalNerModel.pretrained(\"ner_deid_generic_augmented\", \"en\", \"clinical/models\")\\\n",
    "      .setInputCols([\"sentence\", \"token\", \"embeddings\"])\\\n",
    "      .setOutputCol(\"ner_deid\")\\\n",
    "      .setLabelCasing('upper')\n",
    "\n",
    "jsl_ner_converter_internal= NerConverterInternal()\\\n",
    "        .setInputCols([\"sentence\", \"token\", \"ner_deid\"])\\\n",
    "        .setOutputCol(\"chunk_deid\")\\\n",
    "        .setGreedyMode(True)\\\n",
    "        .setWhiteList(['LOCATION'])\n",
    "      \n",
    "nlpPipeline = Pipeline(stages=[\n",
    "    documentAssembler, \n",
    "    sentenceDetector,\n",
    "    tokenizer,\n",
    "    word_embeddings,\n",
    "    jsl_ner,\n",
    "    jsl_ner_converter_internal\n",
    "    ])\n",
    "\n",
    "empty_data = spark.createDataFrame([[\"\"]]).toDF(\"text\")\n",
    "ner_converter_model = nlpPipeline.fit(empty_data)"
   ]
  },
  {
   "cell_type": "code",
   "execution_count": null,
   "metadata": {
    "colab": {
     "base_uri": "https://localhost:8080/",
     "height": 397
    },
    "id": "D09_j4bPt_MJ",
    "outputId": "0998d5ac-4547-4ffe-9538-cfe3b1f72213"
   },
   "outputs": [],
   "source": [
    "from sparknlp_display import NerVisualizer\n",
    "\n",
    "text = \"\"\"\n",
    "The qualified manufacturers for this starting material are:\n",
    "Alpha Chemicals Pvt LTD \n",
    "17, R K Industry House, Walbhat Rd, Goregaon – 400063 \n",
    "Mumbai, Maharashtra, India\n",
    "Beta Chemical Co., Ltd\n",
    "Huan Cheng Xi Lu 3111hao Hai Guan Da Ting \n",
    "Shanghai, China\n",
    "\"\"\"\n",
    "\n",
    "lmodel= LightPipeline(ner_converter_model)\n",
    "res = lmodel.fullAnnotate(text)[0]\n",
    "\n",
    "NerVisualizer().display(res, 'chunk_deid')"
   ]
  },
  {
   "cell_type": "markdown",
   "metadata": {
    "id": "YX1EApSwx2jn"
   },
   "source": [
    "Now, let's define some characters and words with the `setIgnoreStopWords()` parameter and see the difference between the chunks. "
   ]
  },
  {
   "cell_type": "code",
   "execution_count": null,
   "metadata": {
    "id": "w5hDhPlTxmbS"
   },
   "outputs": [],
   "source": [
    "jsl_ner_converter_internal= NerConverterInternal()\\\n",
    "        .setInputCols([\"sentence\", \"token\", \"ner_deid\"])\\\n",
    "        .setOutputCol(\"chunk_deid\")\\\n",
    "        .setGreedyMode(True)\\\n",
    "        .setWhiteList(['LOCATION'])\\\n",
    "        .setIgnoreStopWords(['\\n', ',', \"and\", 'or', '.'])\n",
    "      \n",
    "nlpPipeline = Pipeline(stages=[\n",
    "    documentAssembler, \n",
    "    sentenceDetector,\n",
    "    tokenizer,\n",
    "    word_embeddings,\n",
    "    jsl_ner,\n",
    "    jsl_ner_converter_internal\n",
    "    ])\n",
    "\n",
    "empty_data = spark.createDataFrame([[\"\"]]).toDF(\"text\")\n",
    "ner_converter_model = nlpPipeline.fit(empty_data)"
   ]
  },
  {
   "cell_type": "code",
   "execution_count": null,
   "metadata": {
    "colab": {
     "base_uri": "https://localhost:8080/",
     "height": 397
    },
    "id": "EDMNk__vxmOS",
    "outputId": "995b5ac5-f3ef-4cf3-b49c-507532ee4b0d"
   },
   "outputs": [],
   "source": [
    "lmodel= LightPipeline(ner_converter_model)\n",
    "res = lmodel.fullAnnotate(text)[0]\n",
    "\n",
    "NerVisualizer().display(res, 'chunk_deid')"
   ]
  },
  {
   "cell_type": "markdown",
   "metadata": {
    "id": "c9-Oy0t25tu6"
   },
   "source": [
    "## Downloading Pretrained Models\n",
    "\n",
    "- When we use `.pretrained` method, model is downloaded to  a folder named `cache_pretrained` automatically and it is loaded from this folder if you run it again.\n",
    "\n",
    "- In order to download the models manually to any folder, you can use `ResourceDownloader.downloadModelDirectly` from `sparknlp.pretrained` or AWS CLI (steps below). In this case you should use `.load()` method.\n",
    "\n",
    "  - Install AWS CLI to your local computer following the steps [here](https://docs.aws.amazon.com/cli/latest/userguide/install-cliv2-linux.html) for Linux and [here](https://docs.aws.amazon.com/cli/latest/userguide/install-cliv2-mac.html) for MacOS.\n",
    "\n",
    "  - Then configure your AWS credentials.\n",
    "\n",
    "  - Go to models hub and look for the model you need.\n",
    "\n",
    "  - Select the model you found and you will see the model card that shows all the details about that model.\n",
    "\n",
    "  - Hover the Download button on that page and you will see the download link from the S3 bucket. \n"
   ]
  },
  {
   "cell_type": "code",
   "execution_count": null,
   "metadata": {
    "colab": {
     "base_uri": "https://localhost:8080/"
    },
    "id": "4T3_nTI4QZRV",
    "outputId": "a776bd04-3f79-4e09-ec81-9857a394e5e6"
   },
   "outputs": [],
   "source": [
    "!cd /root && ls"
   ]
  },
  {
   "cell_type": "code",
   "execution_count": null,
   "metadata": {
    "id": "ni6oA3MqP6cM"
   },
   "outputs": [],
   "source": [
    "from sparknlp.pretrained import ResourceDownloader\n",
    "\n",
    "#The first argument is the path to the zip file and the second one is the folder.\n",
    "ResourceDownloader.downloadModelDirectly(\"clinical/models/ner_jsl_en_3.1.0_2.4_1624566960534.zip\", \"cache_pretrained\")  \n",
    "\n",
    "#or you can use the classic AWS CLI \n",
    "# !aws s3 cp --region us-east-2 s3://auxdata.johnsnowlabs.com/clinical/models/ner_jsl_en_3.1.0_2.4_1624566960534.zip ."
   ]
  },
  {
   "cell_type": "markdown",
   "metadata": {
    "id": "FcOwTCgB-VnC"
   },
   "source": [
    "## Training a Clinical NER (NCBI Disease Dataset)"
   ]
  },
  {
   "cell_type": "code",
   "execution_count": null,
   "metadata": {
    "id": "vxPi21kH-Zbj"
   },
   "outputs": [],
   "source": [
    "!wget -q https://raw.githubusercontent.com/JohnSnowLabs/spark-nlp-workshop/master/tutorials/Certification_Trainings/Healthcare/data/NER_NCBIconlltrain.txt\n",
    "!wget -q https://raw.githubusercontent.com/JohnSnowLabs/spark-nlp-workshop/master/tutorials/Certification_Trainings/Healthcare/data/NER_NCBIconlltest.txt"
   ]
  },
  {
   "cell_type": "code",
   "execution_count": null,
   "metadata": {
    "colab": {
     "base_uri": "https://localhost:8080/"
    },
    "id": "thHY_1pi-cLu",
    "outputId": "b8ac77bc-1bcc-4837-f84c-9c50b236a371"
   },
   "outputs": [],
   "source": [
    "from sparknlp.training import CoNLL\n",
    "\n",
    "conll_data = CoNLL().readDataset(spark, 'NER_NCBIconlltrain.txt')\n",
    "\n",
    "conll_data.show(3)"
   ]
  },
  {
   "cell_type": "code",
   "execution_count": null,
   "metadata": {
    "colab": {
     "base_uri": "https://localhost:8080/"
    },
    "id": "83cbUZVM-9L1",
    "outputId": "27006704-b7a2-48f7-8b60-27d2420957f8"
   },
   "outputs": [],
   "source": [
    "conll_data.count()"
   ]
  },
  {
   "cell_type": "code",
   "execution_count": null,
   "metadata": {
    "colab": {
     "base_uri": "https://localhost:8080/"
    },
    "id": "nh5enx4p-spM",
    "outputId": "aa19cc2a-f634-49f6-965a-0ec35f03f62c"
   },
   "outputs": [],
   "source": [
    "from pyspark.sql import functions as F\n",
    "\n",
    "conll_data.select(F.explode(F.arrays_zip(conll_data.token.result,\n",
    "                                         conll_data.label.result)).alias(\"cols\")) \\\n",
    "          .select(F.expr(\"cols['0']\").alias(\"token\"),\n",
    "                  F.expr(\"cols['1']\").alias(\"ground_truth\"))\\\n",
    "          .groupBy('ground_truth')\\\n",
    "          .count()\\\n",
    "          .orderBy('count', ascending=False)\\\n",
    "          .show(100,truncate=False)"
   ]
  },
  {
   "cell_type": "code",
   "execution_count": null,
   "metadata": {
    "colab": {
     "base_uri": "https://localhost:8080/"
    },
    "id": "48XUc9WX_fjs",
    "outputId": "fda3efca-8217-4be4-ee97-baf892a99eda"
   },
   "outputs": [],
   "source": [
    "conll_data.select(\"label.result\").distinct().count()"
   ]
  },
  {
   "cell_type": "code",
   "execution_count": null,
   "metadata": {
    "id": "Rkg9IcR--_PF"
   },
   "outputs": [],
   "source": [
    "'''\n",
    "As you can see, there are too many `O` labels in the dataset. \n",
    "To make it more balanced, we can drop the sentences have only O labels.\n",
    "(`c>1` means we drop all the sentences that have no valuable labels other than `O`)\n",
    "'''\n",
    "\n",
    "'''\n",
    "conll_data = conll_data.withColumn('unique', F.array_distinct(\"label.result\"))\\\n",
    "                       .withColumn('c', F.size('unique'))\\\n",
    "                       .filter(F.col('c')>1)\n",
    "\n",
    "conll_data.select(F.explode(F.arrays_zip(conll_data.token.result,conll_data.label.result)).alias(\"cols\")) \\\n",
    "          .select(F.expr(\"cols['0']\").alias(\"token\"),\n",
    "                  F.expr(\"cols['1']\").alias(\"ground_truth\"))\\\n",
    "          .groupBy('ground_truth')\\\n",
    "          .count()\\\n",
    "          .orderBy('count', ascending=False)\\\n",
    "          .show(100,truncate=False)\n",
    "'''"
   ]
  },
  {
   "cell_type": "code",
   "execution_count": null,
   "metadata": {
    "colab": {
     "base_uri": "https://localhost:8080/"
    },
    "id": "mTopTnOJAV51",
    "outputId": "6f649416-0d11-442f-db6e-876c70ee4184"
   },
   "outputs": [],
   "source": [
    "# Clinical word embeddings trained on PubMED dataset\n",
    "clinical_embeddings = WordEmbeddingsModel.pretrained('embeddings_clinical', \"en\", \"clinical/models\")\\\n",
    "    .setInputCols([\"sentence\", \"token\"])\\\n",
    "    .setOutputCol(\"embeddings\")"
   ]
  },
  {
   "cell_type": "code",
   "execution_count": null,
   "metadata": {
    "id": "lRNBxjqkQO1U"
   },
   "outputs": [],
   "source": [
    "test_data = CoNLL().readDataset(spark, 'NER_NCBIconlltest.txt')\n",
    "\n",
    "test_data = clinical_embeddings.transform(test_data)\n",
    "\n",
    "test_data.write.parquet('NER_NCBIconlltest.parquet')"
   ]
  },
  {
   "cell_type": "markdown",
   "metadata": {
    "id": "dPNI5AQ4W4oE"
   },
   "source": [
    "### NERDL Graph\n"
   ]
  },
  {
   "cell_type": "markdown",
   "metadata": {
    "id": "XA2JSVK-wDBy"
   },
   "source": [
    "We will use `TFGraphBuilder` annotator which can be used to create graphs in the model training pipeline. `TFGraphBuilder` inspects the data and creates the proper graph if a suitable version of TensorFlow is available. The graph is stored in the defined folder and loaded by the `MedicalNerApproach` annotator."
   ]
  },
  {
   "cell_type": "code",
   "execution_count": null,
   "metadata": {
    "id": "9JaZJg06hLM0"
   },
   "outputs": [],
   "source": [
    "!pip install -q tensorflow==2.7.0\n",
    "!pip install -q tensorflow-addons"
   ]
  },
  {
   "cell_type": "code",
   "execution_count": null,
   "metadata": {
    "id": "jp7luV4-wRsc"
   },
   "outputs": [],
   "source": [
    "from sparknlp_jsl.annotator import TFGraphBuilder"
   ]
  },
  {
   "cell_type": "code",
   "execution_count": null,
   "metadata": {
    "id": "wSQ4X33bwZL1"
   },
   "outputs": [],
   "source": [
    "graph_folder_path = \"medical_ner_graphs\"\n",
    "\n",
    "ner_graph_builder = TFGraphBuilder()\\\n",
    "    .setModelName(\"ner_dl\")\\\n",
    "    .setInputCols([\"sentence\", \"token\", \"embeddings\"]) \\\n",
    "    .setLabelColumn(\"label\")\\\n",
    "    .setGraphFolder(graph_folder_path)\\\n",
    "    .setGraphFile(\"auto\")\\\n",
    "    .setHiddenUnitsNumber(20)\\\n",
    "    .setIsMedical(True) # False -> if you want to use TFGraphBuilder with NerDLApproach"
   ]
  },
  {
   "cell_type": "code",
   "execution_count": null,
   "metadata": {
    "id": "znd3vD3_0y8L"
   },
   "outputs": [],
   "source": [
    "# TensorFlow graph file (`.pb` extension) can be produced for NER training externally. \n",
    "# If this method is used, graph folder should be added to MedicalNerApproach training \n",
    "# model as `.setGraphFolder(graph_folder_path)` .\n",
    "\n",
    "'''\n",
    "from sparknlp_jsl.training import tf_graph\n",
    "\n",
    "tf_graph.print_model_params(\"ner_dl\")\n",
    "\n",
    "graph_folder_path = \"medical_ner_graphs\"\n",
    "tf_graph.build(\"ner_dl\", \n",
    "               build_params={\"embeddings_dim\": 200, \n",
    "                             \"nchars\": 85, \n",
    "                             \"ntags\": 3, \n",
    "                             \"is_medical\": 1}, \n",
    "               model_location=graph_folder_path, \n",
    "               model_filename=\"auto\")\n",
    "'''"
   ]
  },
  {
   "cell_type": "code",
   "execution_count": null,
   "metadata": {
    "id": "W22OJ97lZvxt"
   },
   "outputs": [],
   "source": [
    "# for open source users\n",
    "\n",
    "'''\n",
    "!wget -q https://raw.githubusercontent.com/JohnSnowLabs/spark-nlp-workshop/master/jupyter/training/english/dl-ner/nerdl-graph/create_graph.py\n",
    "!wget -q https://raw.githubusercontent.com/JohnSnowLabs/spark-nlp-workshop/master/jupyter/training/english/dl-ner/nerdl-graph/dataset_encoder.py\n",
    "!wget -q https://raw.githubusercontent.com/JohnSnowLabs/spark-nlp-workshop/master/jupyter/training/english/dl-ner/nerdl-graph/ner_model.py\n",
    "!wget -q https://raw.githubusercontent.com/JohnSnowLabs/spark-nlp-workshop/master/jupyter/training/english/dl-ner/nerdl-graph/ner_model_saver.py\n",
    "!wget -q https://raw.githubusercontent.com/JohnSnowLabs/spark-nlp-workshop/master/jupyter/training/english/dl-ner/nerdl-graph/sentence_grouper.py\n",
    "\n",
    "!pip -q install tensorflow==1.15.0\n",
    "\n",
    "import create_graph\n",
    "\n",
    "ntags = 3 # number of labels\n",
    "embeddings_dim = 200\n",
    "nchars =83\n",
    "\n",
    "create_graph.create_graph(ntags, embeddings_dim, nchars)\n",
    "'''"
   ]
  },
  {
   "cell_type": "markdown",
   "source": [
    "We will use `setEarlyStoppingCriterion` and `setEarlyStoppingPatience` parameters to stop training if it doesn't improve any more. Also, these parameters will provide us to save time and resources.\n",
    "\n",
    "- `setEarlyStoppingCriterion(float)`: This parameter is used to set the minimal improvement of the test metric to terminate training. The metric monitored is the same which is used to save the best best model (macro F1 if using test or validation set, loss otherwise). If it is F1, then training is stopped if `F1_current - F1_previous < earlyStoppingCriterion`. If monitoring loss, then training is stopped if `loss_previous - loss_current < earlyStoppingCriterion`. If earlyStoppingCriterion is `0`, then no early stopping is applied. Default is `0`.\n",
    "\n",
    "- `setEarlyStoppingPatience(int)`: This is the number of epoch without improvement which will be tolerated. Default is `0`, which means that early stopping will occur at the first time when performance in the current epoch is no better than in the previous epoch (taking earlyStoppingCriterion into account)."
   ],
   "metadata": {
    "id": "1TbLFr7vU0Id"
   }
  },
  {
   "cell_type": "code",
   "execution_count": null,
   "metadata": {
    "id": "WzVgfInoJS3I"
   },
   "outputs": [],
   "source": [
    "nerTagger = MedicalNerApproach()\\\n",
    "    .setInputCols([\"sentence\", \"token\", \"embeddings\"])\\\n",
    "    .setLabelColumn(\"label\")\\\n",
    "    .setOutputCol(\"ner\")\\\n",
    "    .setMaxEpochs(30)\\\n",
    "    .setBatchSize(64)\\\n",
    "    .setRandomSeed(0)\\\n",
    "    .setVerbose(1)\\\n",
    "    .setValidationSplit(0.2)\\\n",
    "    .setEvaluationLogExtended(True) \\\n",
    "    .setEnableOutputLogs(True)\\\n",
    "    .setIncludeConfidence(True)\\\n",
    "    .setOutputLogsPath('ner_logs')\\\n",
    "    .setTestDataset(\"NER_NCBIconlltest.parquet\")\\\n",
    "    .setUseBestModel(True)\\\n",
    "    .setEarlyStoppingCriterion(0.04)\\\n",
    "    .setEarlyStoppingPatience(3)\\\n",
    "    .setGraphFolder(graph_folder_path)\n",
    "   # .setEnableMemoryOptimizer(True) #>> if you have a limited memory and a large conll file, you can set this True to train batch by batch       \n",
    "\n",
    "ner_pipeline = Pipeline(stages=[\n",
    "          clinical_embeddings,\n",
    "          ner_graph_builder,\n",
    "          nerTagger\n",
    " ])"
   ]
  },
  {
   "cell_type": "markdown",
   "metadata": {
    "id": "goG7cYUi2_09"
   },
   "source": [
    "You can visit [1.4.Resume_MedicalNer_Model_Training.ipynb](https://github.com/JohnSnowLabs/spark-nlp-workshop/blob/master/tutorials/Certification_Trainings/Healthcare/1.4.Resume_MedicalNer_Model_Training.ipynb) notebook for fine-tuning pretrained NER models and more details of `MedicalNerApproach()` parameters."
   ]
  },
  {
   "cell_type": "code",
   "execution_count": null,
   "metadata": {
    "colab": {
     "base_uri": "https://localhost:8080/"
    },
    "id": "aiXOjTzpBdrQ",
    "outputId": "423ca7ea-e631-42bd-d6e7-a2f67dfda98d"
   },
   "outputs": [],
   "source": [
    "%%time\n",
    "ner_model = ner_pipeline.fit(conll_data)"
   ]
  },
  {
   "cell_type": "markdown",
   "metadata": {
    "id": "y-SOgKz4yow0"
   },
   "source": [
    "If you get an error for incompatible TF graph, use [4.1 NerDL-Graph](https://github.com/JohnSnowLabs/spark-nlp-workshop/blob/master/tutorials/Certification_Trainings/Public/4.1_NerDL_Graph.ipynb) notebook in public folder to create a graph\n",
    "\n",
    "Licensed users can also use [17.Graph_builder_for_DL_models.ipynb](https://github.com/JohnSnowLabs/spark-nlp-workshop/blob/master/tutorials/Certification_Trainings/Healthcare/17.Graph_builder_for_DL_models.ipynb) to create TF graphs easily."
   ]
  },
  {
   "cell_type": "markdown",
   "metadata": {
    "id": "Huet0xVDzRee"
   },
   "source": [
    "\n",
    "`getTrainingClassDistribution()` parameter returns the distribution of labels used when training the NER model."
   ]
  },
  {
   "cell_type": "code",
   "execution_count": null,
   "metadata": {
    "colab": {
     "base_uri": "https://localhost:8080/"
    },
    "id": "CbWpSBNBLxx2",
    "outputId": "da71de5d-7425-4dfa-bdc6-87ea8f71de01"
   },
   "outputs": [],
   "source": [
    "ner_model.stages[2].getTrainingClassDistribution()"
   ]
  },
  {
   "cell_type": "markdown",
   "metadata": {
    "id": "wG1Md0T-u7He"
   },
   "source": [
    "Let's check the results saved in the log file."
   ]
  },
  {
   "cell_type": "code",
   "execution_count": null,
   "metadata": {
    "colab": {
     "base_uri": "https://localhost:8080/"
    },
    "id": "TtrxZvAwtZIo",
    "outputId": "44602da9-d4f3-4700-8bbb-e24b6fa21b0e"
   },
   "outputs": [],
   "source": [
    "import os \n",
    "log_file= os.listdir(\"ner_logs\")[0]\n",
    "\n",
    "with open (f\"./ner_logs/{log_file}\") as f:\n",
    "  print(f.read())"
   ]
  },
  {
   "cell_type": "markdown",
   "metadata": {
    "id": "0_rSimOoUa8v"
   },
   "source": [
    "As you see above, our **earlyStopping** feature worked, trainining was terminated before 30th epoch."
   ]
  },
  {
   "cell_type": "markdown",
   "metadata": {
    "id": "rUehS3qTdHUh"
   },
   "source": [
    "### Evaluate your model"
   ]
  },
  {
   "cell_type": "code",
   "execution_count": null,
   "metadata": {
    "id": "5GV4YaeHcsHB"
   },
   "outputs": [],
   "source": [
    "pred_df = ner_model.stages[2].transform(test_data)"
   ]
  },
  {
   "cell_type": "code",
   "execution_count": null,
   "metadata": {
    "colab": {
     "base_uri": "https://localhost:8080/"
    },
    "id": "tICjE0Yqc2Ri",
    "outputId": "880dfc46-4ab1-4422-97d6-58a00c898ae1"
   },
   "outputs": [],
   "source": [
    "pred_df.columns"
   ]
  },
  {
   "cell_type": "code",
   "execution_count": null,
   "metadata": {
    "colab": {
     "base_uri": "https://localhost:8080/"
    },
    "id": "B9Qc_oukcj94",
    "outputId": "7d364395-b689-44bd-dfbb-a42bcfaf81bb"
   },
   "outputs": [],
   "source": [
    "from sparknlp_jsl.eval import NerDLMetrics\n",
    "import pyspark.sql.functions as F\n",
    "\n",
    "evaler = NerDLMetrics(mode=\"full_chunk\")\n",
    "\n",
    "eval_result = evaler.computeMetricsFromDF(pred_df.select(\"label\",\"ner\"), prediction_col=\"ner\", label_col=\"label\", drop_o = True, case_sensitive = True).cache()\n",
    "\n",
    "eval_result.withColumn(\"precision\", F.round(eval_result[\"precision\"],4))\\\n",
    "           .withColumn(\"recall\", F.round(eval_result[\"recall\"],4))\\\n",
    "           .withColumn(\"f1\", F.round(eval_result[\"f1\"],4)).show(100)\n",
    "\n",
    "print(eval_result.selectExpr(\"avg(f1) as macro\").show())\n",
    "print (eval_result.selectExpr(\"sum(f1*total) as sumprod\",\"sum(total) as sumtotal\").selectExpr(\"sumprod/sumtotal as micro\").show())"
   ]
  },
  {
   "cell_type": "code",
   "execution_count": null,
   "metadata": {
    "colab": {
     "base_uri": "https://localhost:8080/"
    },
    "id": "nh1LY2cwdApE",
    "outputId": "b26d5aa8-5a33-40ec-a4c0-72548eba64e1"
   },
   "outputs": [],
   "source": [
    "evaler = NerDLMetrics(mode=\"partial_chunk_per_token\")\n",
    "\n",
    "eval_result = evaler.computeMetricsFromDF(pred_df.select(\"label\",\"ner\"), prediction_col=\"ner\", label_col=\"label\", drop_o = True, case_sensitive = True).cache()\n",
    "\n",
    "eval_result.withColumn(\"precision\", F.round(eval_result[\"precision\"],4))\\\n",
    "           .withColumn(\"recall\", F.round(eval_result[\"recall\"],4))\\\n",
    "           .withColumn(\"f1\", F.round(eval_result[\"f1\"],4)).show(100)\n",
    "\n",
    "print(eval_result.selectExpr(\"avg(f1) as macro\").show())\n",
    "print (eval_result.selectExpr(\"sum(f1*total) as sumprod\",\"sum(total) as sumtotal\").selectExpr(\"sumprod/sumtotal as micro\").show())"
   ]
  },
  {
   "cell_type": "code",
   "execution_count": null,
   "metadata": {
    "id": "SdlTQl4eJmvl"
   },
   "outputs": [],
   "source": [
    "ner_model.stages[2].write().overwrite().save('models/custom_NER_30epoch')"
   ]
  },
  {
   "cell_type": "code",
   "execution_count": null,
   "metadata": {
    "id": "ZEzG0T1vEZvV"
   },
   "outputs": [],
   "source": [
    "document = DocumentAssembler()\\\n",
    "    .setInputCol(\"text\")\\\n",
    "    .setOutputCol(\"document\")\n",
    "\n",
    "sentence = SentenceDetector()\\\n",
    "    .setInputCols(['document'])\\\n",
    "    .setOutputCol('sentence')\n",
    "\n",
    "token = Tokenizer()\\\n",
    "    .setInputCols(['sentence'])\\\n",
    "    .setOutputCol('token')\n",
    "\n",
    "loaded_ner_model = MedicalNerModel.load(\"models/custom_NER_30epoch\")\\\n",
    "    .setInputCols([\"sentence\", \"token\", \"embeddings\"])\\\n",
    "    .setOutputCol(\"ner\")\n",
    "\n",
    "converter = NerConverter()\\\n",
    "    .setInputCols([\"document\", \"token\", \"ner\"])\\\n",
    "    .setOutputCol(\"ner_span\")\n",
    "\n",
    "ner_prediction_pipeline = Pipeline(stages=[\n",
    "    document,\n",
    "    sentence,\n",
    "    token,\n",
    "    clinical_embeddings,\n",
    "    loaded_ner_model,\n",
    "    converter])\n",
    "\n",
    "empty_data = spark.createDataFrame([['']]).toDF(\"text\")\n",
    "\n",
    "prediction_model = ner_prediction_pipeline.fit(empty_data)\n",
    "\n",
    "from sparknlp.base import LightPipeline\n",
    "\n",
    "light_model = LightPipeline(prediction_model)"
   ]
  },
  {
   "cell_type": "code",
   "execution_count": null,
   "metadata": {
    "colab": {
     "base_uri": "https://localhost:8080/"
    },
    "id": "kR4172tKJxX3",
    "outputId": "94155381-3ec3-4e3f-92d5-27a91afa2dd5"
   },
   "outputs": [],
   "source": [
    "text = \"She has a metastatic breast cancer\"\n",
    "\n",
    "result = light_model.fullAnnotate(text)[0]\n",
    "\n",
    "[(i.result, i.metadata['entity']) for i in result['ner_span']]"
   ]
  },
  {
   "cell_type": "markdown",
   "metadata": {
    "id": "c_T8KEpnij8c"
   },
   "source": [
    "## BertForTokenClassification NER models"
   ]
  },
  {
   "cell_type": "code",
   "execution_count": null,
   "metadata": {
    "colab": {
     "base_uri": "https://localhost:8080/"
    },
    "id": "rkhS3P6Hij8d",
    "outputId": "b6642b68-2555-4a9c-ee93-14b0a98cb2a6"
   },
   "outputs": [],
   "source": [
    "documentAssembler = DocumentAssembler()\\\n",
    "    .setInputCol(\"text\")\\\n",
    "    .setOutputCol(\"document\")\n",
    "\n",
    "sentenceDetector = SentenceDetectorDLModel.pretrained(\"sentence_detector_dl_healthcare\",\"en\",\"clinical/models\")\\\n",
    "    .setInputCols([\"document\"])\\\n",
    "    .setOutputCol(\"sentence\")\n",
    "\n",
    "tokenizer = Tokenizer()\\\n",
    "    .setInputCols(\"sentence\")\\\n",
    "    .setOutputCol(\"token\")\n",
    "\n",
    "tokenClassifier = MedicalBertForTokenClassifier.pretrained(\"bert_token_classifier_ner_clinical\", \"en\", \"clinical/models\")\\\n",
    "    .setInputCols(\"token\", \"sentence\")\\\n",
    "    .setOutputCol(\"ner\")\\\n",
    "    .setCaseSensitive(True)\n",
    "\n",
    "ner_converter = NerConverter()\\\n",
    "    .setInputCols([\"sentence\",\"token\",\"ner\"])\\\n",
    "    .setOutputCol(\"ner_chunk\")\n",
    "\n",
    "pipeline =  Pipeline(stages=[\n",
    "    documentAssembler,\n",
    "    sentenceDetector,\n",
    "    tokenizer,\n",
    "    tokenClassifier,\n",
    "    ner_converter\n",
    "    ])\n",
    "\n",
    "model = pipeline.fit(spark.createDataFrame([[\"\"]]).toDF(\"text\"))\n",
    "\n",
    "text = \"\"\"A 28-year-old female with a history of gestational diabetes mellitus diagnosed eight years prior to presentation and subsequent type two diabetes mellitus ( T2DM ), one prior episode of HTG-induced pancreatitis three years prior to presentation , associated with an acute hepatitis , and obesity with a body mass index ( BMI ) of 33.5 kg/m2 , presented with a one-week history of polyuria , polydipsia , poor appetite , and vomiting . \n",
    "Two weeks prior to presentation , she was treated with a five-day course of amoxicillin for a respiratory tract infection . \n",
    "She was on metformin , glipizide , and dapagliflozin for T2DM and atorvastatin and gemfibrozil for HTG . She had been on dapagliflozin for six months at the time of presentation . \n",
    "Physical examination on presentation was significant for dry oral mucosa ; significantly , her abdominal examination was benign with no tenderness , guarding , or rigidity . \n",
    "Pertinent laboratory findings on admission were : serum glucose 111 mg/dl , bicarbonate 18 mmol/l , anion gap 20 , creatinine 0.4 mg/dL , triglycerides 508 mg/dL , total cholesterol 122 mg/dL , glycated hemoglobin ( HbA1c ) 10% , and venous pH 7.27 . \n",
    "Serum lipase was normal at 43 U/L . Serum acetone levels could not be assessed as blood samples kept hemolyzing due to significant lipemia . \n",
    "The patient was initially admitted for starvation ketosis , as she reported poor oral intake for three days prior to admission . \n",
    "However , serum chemistry obtained six hours after presentation revealed her glucose was 186 mg/dL , the anion gap was still elevated at 21 , serum bicarbonate was 16 mmol/L , triglyceride level peaked at 2050 mg/dL , and lipase was 52 U/L . \n",
    "The β-hydroxybutyrate level was obtained and found to be elevated at 5.29 mmol/L - the original sample was centrifuged and the chylomicron layer removed prior to analysis due to interference from turbidity caused by lipemia again . \n",
    "The patient was treated with an insulin drip for euDKA and HTG with a reduction in the anion gap to 13 and triglycerides to 1400 mg/dL , within 24 hours . \n",
    "Her euDKA was thought to be precipitated by her respiratory tract infection in the setting of SGLT2 inhibitor use . \n",
    "The patient was seen by the endocrinology service and she was discharged on 40 units of insulin glargine at night , 12 units of insulin lispro with meals , and metformin 1000 mg two times a day . \n",
    "It was determined that all SGLT2 inhibitors should be discontinued indefinitely . She had close follow-up with endocrinology post discharge .\"\"\"\n",
    "\n",
    "res = model.transform(spark.createDataFrame([[text]]).toDF(\"text\"))"
   ]
  },
  {
   "cell_type": "code",
   "execution_count": null,
   "metadata": {
    "colab": {
     "base_uri": "https://localhost:8080/"
    },
    "id": "ciii_Ptkij8d",
    "outputId": "b2b6bd3e-9432-4f97-966a-808bd7919634"
   },
   "outputs": [],
   "source": [
    "from pyspark.sql import functions as F\n",
    "\n",
    "res.select(F.explode(F.arrays_zip(res.ner_chunk.result, \n",
    "                                  res.ner_chunk.begin, \n",
    "                                  res.ner_chunk.end, \n",
    "                                  res.ner_chunk.metadata)).alias(\"cols\")) \\\n",
    "   .select(F.expr(\"cols['3']['sentence']\").alias(\"sentence_id\"),\n",
    "           F.expr(\"cols['0']\").alias(\"chunk\"),\n",
    "           F.expr(\"cols['2']\").alias(\"end\"),\n",
    "           F.expr(\"cols['3']['entity']\").alias(\"ner_label\"))\\\n",
    "   .filter(\"ner_label!='O'\")\\\n",
    "   .show(truncate=False)"
   ]
  },
  {
   "cell_type": "code",
   "execution_count": null,
   "metadata": {
    "colab": {
     "base_uri": "https://localhost:8080/",
     "height": 1000
    },
    "id": "WFw1PgGP_K1S",
    "outputId": "85ab6634-d117-44e2-efab-c77d671a795a"
   },
   "outputs": [],
   "source": [
    "light_model = LightPipeline(model)\n",
    "\n",
    "light_result = light_model.fullAnnotate(text)\n",
    "\n",
    "from sparknlp_display import NerVisualizer\n",
    "\n",
    "visualiser = NerVisualizer()\n",
    "\n",
    "visualiser.display(light_result[0], label_col='ner_chunk', document_col='document', save_path=\"display_bert_result.html\")"
   ]
  },
  {
   "cell_type": "markdown",
   "metadata": {
    "id": "M3Whd9kamRqw"
   },
   "source": [
    "**Training Clinical BertForTokenClassification Model**\n",
    "\n",
    "For training own BertForTokenClassification NER model, you can check [this notebook](https://github.com/JohnSnowLabs/spark-nlp-workshop/blob/master/tutorials/Certification_Trainings/Healthcare/1.5.BertForTokenClassification_NER_SparkNLP_with_Transformers.ipynb)"
   ]
  },
  {
   "cell_type": "markdown",
   "metadata": {
    "id": "QBDG2m3z_A0M"
   },
   "source": [
    "## Pretrained NER Profiling Pipelines\n",
    "\n",
    "We can use pretrained NER profiling pipelines for exploring all the available pretrained NER models at once. In Spark NLP we have two different NER profiling pipelines;\n",
    "\n",
    "- `ner_profiling_clinical` : Returns results for clinical NER models trained with `embeddings_clinical`.\n",
    "- `ner_profiling_biobert` : Returns results for clinical NER models trained with `biobert_pubmed_base_cased`.\n",
    "\n",
    "For more examples, please check [this notebook](https://github.com/JohnSnowLabs/spark-nlp-workshop/blob/master/tutorials/Certification_Trainings/Healthcare/11.2.Pretrained_NER_Profiling_Pipelines.ipynb).\n",
    "\n",
    "\n",
    "\n"
   ]
  },
  {
   "cell_type": "markdown",
   "metadata": {
    "id": "wUoe5mEEO5Fv"
   },
   "source": [
    "<center><b>NER Profiling Clinical Model List</b>\n",
    "\n",
    "|| | | |\n",
    "|--------------|-----------------|-----------------|-----------------|\n",
    "| jsl_ner_wip_clinical | jsl_ner_wip_greedy_clinical | jsl_ner_wip_modifier_clinical | jsl_rd_ner_wip_greedy_clinical |\n",
    "| ner_abbreviation_clinical | ner_ade_binary | ner_ade_clinical | ner_anatomy |\n",
    "| ner_anatomy_coarse | ner_bacterial_species | ner_biomarker | ner_biomedical_bc2gm |\n",
    "| ner_bionlp | ner_cancer_genetics | ner_cellular | ner_chemd_clinical |\n",
    "| ner_chemicals | ner_chemprot_clinical | ner_chexpert | ner_clinical |\n",
    "| ner_clinical_large | ner_clinical_trials_abstracts | ner_covid_trials | ner_deid_augmented |\n",
    "| ner_deid_enriched | ner_deid_generic_augmented | ner_deid_large | ner_deid_sd |\n",
    "| ner_deid_sd_large | ner_deid_subentity_augmented | ner_deid_subentity_augmented_i2b2 | ner_deid_synthetic |\n",
    "| ner_deidentify_dl | ner_diseases | ner_diseases_large | ner_drugprot_clinical |\n",
    "| ner_drugs | ner_drugs_greedy | ner_drugs_large | ner_events_admission_clinical |\n",
    "| ner_events_clinical | ner_genetic_variants | ner_human_phenotype_gene_clinical | ner_human_phenotype_go_clinical |\n",
    "| ner_jsl | ner_jsl_enriched | ner_jsl_greedy | ner_jsl_slim |\n",
    "| ner_living_species | ner_measurements_clinical | ner_medmentions_coarse | ner_nature_nero_clinical |\n",
    "| ner_nihss | ner_pathogen | ner_posology | ner_posology_experimental |\n",
    "| ner_posology_greedy | ner_posology_large | ner_posology_small | ner_radiology |\n",
    "| ner_radiology_wip_clinical | ner_risk_factors | ner_supplement_clinical | nerdl_tumour_demo |\n",
    "\n",
    "<b>NER Profiling BioBert Model List</b>\n",
    "\n",
    "| | |\n",
    "|-|-|\n",
    "| ner_cellular_biobert           | ner_clinical_biobert             |\n",
    "| ner_diseases_biobert           | ner_anatomy_coarse_biobert       |\n",
    "| ner_events_biobert             | ner_human_phenotype_gene_biobert |\n",
    "| ner_bionlp_biobert             | ner_posology_large_biobert       |\n",
    "| ner_jsl_greedy_biobert         | jsl_rd_ner_wip_greedy_biobert    |\n",
    "| ner_jsl_biobert                | ner_posology_biobert             |\n",
    "| ner_anatomy_biobert            | jsl_ner_wip_greedy_biobert       |\n",
    "| ner_jsl_enriched_biobert       | ner_chemprot_biobert             |\n",
    "| ner_human_phenotype_go_biobert | ner_ade_biobert                  |\n",
    "| ner_deid_biobert               | ner_risk_factors_biobert         |\n",
    "| ner_deid_enriched_biobert      | ner_living_species_biobert                                |\n",
    "\n",
    "\n",
    "</center>"
   ]
  },
  {
   "cell_type": "code",
   "execution_count": null,
   "metadata": {
    "colab": {
     "base_uri": "https://localhost:8080/"
    },
    "id": "y5VEZIdBINmn",
    "outputId": "fd2c4f2e-1fd5-476d-d3ce-1f871636ed53"
   },
   "outputs": [],
   "source": [
    "from sparknlp.pretrained import PretrainedPipeline\n",
    "\n",
    "clinical_profiling_pipeline = PretrainedPipeline(\"ner_profiling_clinical\", \"en\", \"clinical/models\")"
   ]
  },
  {
   "cell_type": "code",
   "execution_count": null,
   "metadata": {
    "id": "8GYCnYmMnU-H"
   },
   "outputs": [],
   "source": [
    "text = '''A 28-year-old female with a history of gestational diabetes mellitus diagnosed eight years prior to presentation and subsequent type two diabetes mellitus ( T2DM ), one prior episode of HTG-induced pancreatitis three years prior to presentation , associated with an acute hepatitis , and obesity with a body mass index ( BMI ) of 33.5 kg/m2 , presented with a one-week history of polyuria , polydipsia , poor appetite , and vomiting .'''"
   ]
  },
  {
   "cell_type": "code",
   "execution_count": null,
   "metadata": {
    "colab": {
     "base_uri": "https://localhost:8080/"
    },
    "id": "5GJFg2AKpxam",
    "outputId": "518a0bc4-5b37-4912-f857-5799f7f64681"
   },
   "outputs": [],
   "source": [
    "clinical_result = clinical_profiling_pipeline.fullAnnotate(text)[0]\n",
    "clinical_result.keys()"
   ]
  },
  {
   "cell_type": "code",
   "execution_count": null,
   "metadata": {
    "id": "C99PTQiNKZtw"
   },
   "outputs": [],
   "source": [
    "def get_token_results(light_result):\n",
    "\n",
    "  tokens = [j.result for j in light_result[\"token\"]]\n",
    "  sentences = [j.metadata[\"sentence\"] for j in light_result[\"token\"]]\n",
    "  begins = [j.begin for j in light_result[\"token\"]]\n",
    "  ends = [j.end for j in light_result[\"token\"]]\n",
    "  model_list = [ a for a in light_result.keys() if (a not in [\"sentence\", \"token\"] and \"_chunks\" not in a)]\n",
    "\n",
    "  df = pd.DataFrame({'sentence':sentences, 'begin': begins, 'end': ends, 'token':tokens})\n",
    "\n",
    "  for model_name in model_list:\n",
    "    \n",
    "    temp_df = pd.DataFrame(light_result[model_name])\n",
    "    temp_df[\"jsl_label\"] = temp_df.iloc[:,0].apply(lambda x : x.result)\n",
    "    temp_df = temp_df[[\"jsl_label\"]]\n",
    "\n",
    "    # temp_df = get_ner_result(model_name)\n",
    "    temp_df.columns = [model_name]\n",
    "    df = pd.concat([df, temp_df], axis=1)\n",
    "    \n",
    "  return df"
   ]
  },
  {
   "cell_type": "code",
   "execution_count": null,
   "metadata": {
    "colab": {
     "base_uri": "https://localhost:8080/",
     "height": 557
    },
    "id": "trBEKiZRLiff",
    "outputId": "6db5d372-4a78-40a5-b66f-661fb8b271b6"
   },
   "outputs": [],
   "source": [
    "get_token_results(clinical_result)"
   ]
  },
  {
   "cell_type": "markdown",
   "metadata": {
    "id": "u65i6rVYS-T_"
   },
   "source": [
    "**Lets plot the labelled entity counts by NER models.**"
   ]
  },
  {
   "cell_type": "code",
   "execution_count": null,
   "metadata": {
    "colab": {
     "base_uri": "https://localhost:8080/",
     "height": 1000
    },
    "id": "hLR7f_OSS9dZ",
    "outputId": "e70bfd88-402c-4c13-f637-dc1a75a50625"
   },
   "outputs": [],
   "source": [
    "import plotly.graph_objects as go\n",
    "\n",
    "result_df = get_token_results(clinical_result)\n",
    "\n",
    "label_result_df = result_df[result_df.columns[4:]].copy()\n",
    "label_count_list = [label_result_df[label_result_df[i] != \"O\"].shape[0] for i in label_result_df.columns]\n",
    "\n",
    "fig = go.Figure(go.Bar(x=label_count_list, y=label_result_df.columns, orientation='h'))\n",
    "\n",
    "fig.update_layout(\n",
    "    autosize = False,\n",
    "    width = 1500,\n",
    "    height = 1500,\n",
    "    margin = dict(l=50, r=50, b=100, t=100, pad=4),\n",
    "    paper_bgcolor = \"LightSteelBlue\",\n",
    "    title={'text': \"Counts of Labelled Entities\", 'y':0.98, 'x':0.5, 'xanchor': 'center', 'yanchor': 'top'},\n",
    "    titlefont=dict(size=30),\n",
    "    yaxis=dict(title_text=\"Clinical NER Models\", titlefont=dict(size=30)),\n",
    ")\n",
    "\n",
    "fig.show()"
   ]
  },
  {
   "cell_type": "markdown",
   "metadata": {
    "id": "P24PYkhmwTLm"
   },
   "source": [
    "## NER Model Finder Pretrained Pipeline\n",
    "`ner_model_finder`  pretrained pipeline trained with bert embeddings that can be used to find the most appropriate NER model given the entity name."
   ]
  },
  {
   "cell_type": "code",
   "execution_count": null,
   "metadata": {
    "colab": {
     "base_uri": "https://localhost:8080/"
    },
    "id": "c3L49OPfwOj0",
    "outputId": "bc334ddc-c449-4bfa-dc57-90315cd20eaf"
   },
   "outputs": [],
   "source": [
    "from sparknlp.pretrained import PretrainedPipeline\n",
    "finder_pipeline = PretrainedPipeline(\"ner_model_finder\", \"en\", \"clinical/models\")"
   ]
  },
  {
   "cell_type": "code",
   "execution_count": null,
   "metadata": {
    "colab": {
     "base_uri": "https://localhost:8080/"
    },
    "id": "yBEVDDmSAUhC",
    "outputId": "983acf9d-4ac1-4e99-e982-cd2f59553451"
   },
   "outputs": [],
   "source": [
    "result = finder_pipeline.fullAnnotate(\"oncology\")[0]\n",
    "result.keys()"
   ]
  },
  {
   "cell_type": "markdown",
   "metadata": {
    "id": "TVfVAsplCKG4"
   },
   "source": [
    "From the metadata in the `model_names` column, we'll get to the top models to the given 'oncology' entity and oncology related categories."
   ]
  },
  {
   "cell_type": "code",
   "execution_count": null,
   "metadata": {
    "colab": {
     "base_uri": "https://localhost:8080/",
     "height": 285
    },
    "id": "TisrPdBJohGy",
    "outputId": "17d96750-149b-43bb-dde7-6d6d8763fc2d"
   },
   "outputs": [],
   "source": [
    "df= pd.DataFrame(zip(result[\"model_names\"][0].metadata[\"all_k_resolutions\"].split(\":::\"), \n",
    "                     result[\"model_names\"][0].metadata[\"all_k_results\"].split(\":::\")), \n",
    "                 columns=[\"category\", \"top_models\"])\n",
    "\n",
    "df.head()"
   ]
  }
 ],
 "metadata": {
  "colab": {
   "collapsed_sections": [],
   "machine_shape": "hm",
   "provenance": [],
   "toc_visible": true
  },
  "kernelspec": {
   "display_name": "Python 3.9.7 ('tf-gpu')",
   "language": "python",
   "name": "python3"
  },
  "language_info": {
   "codemirror_mode": {
    "name": "ipython",
    "version": 3
   },
   "file_extension": ".py",
   "mimetype": "text/x-python",
   "name": "python",
   "nbconvert_exporter": "python",
   "pygments_lexer": "ipython3",
   "version": "3.9.7"
  },
  "vscode": {
   "interpreter": {
    "hash": "3f47d918ae832c68584484921185f5c85a1760864bf927a683dc6fb56366cc77"
   }
  }
 },
 "nbformat": 4,
 "nbformat_minor": 0
}
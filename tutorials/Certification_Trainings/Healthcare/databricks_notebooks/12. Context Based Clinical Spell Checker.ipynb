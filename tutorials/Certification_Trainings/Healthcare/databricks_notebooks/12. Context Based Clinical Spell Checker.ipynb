{
 "cells": [
  {
   "cell_type": "markdown",
   "metadata": {
    "application/vnd.databricks.v1+cell": {
     "inputWidgets": {},
     "nuid": "c469c9ee-3832-4f99-96ee-679bf24df825",
     "showTitle": false,
     "title": ""
    }
   },
   "source": [
    "![JohnSnowLabs](https://nlp.johnsnowlabs.com/assets/images/logo.png)"
   ]
  },
  {
   "cell_type": "markdown",
   "metadata": {
    "application/vnd.databricks.v1+cell": {
     "inputWidgets": {},
     "nuid": "8a104cee-cb11-4845-86f6-17fbe57a4840",
     "showTitle": false,
     "title": ""
    }
   },
   "source": [
    "<H1>Context Based Clinical Spell Checker</H1>"
   ]
  },
  {
   "cell_type": "code",
   "execution_count": 0,
   "metadata": {
    "application/vnd.databricks.v1+cell": {
     "inputWidgets": {},
     "nuid": "daf19bd8-d6fa-4bd7-ac3a-3db6c7a82c5c",
     "showTitle": false,
     "title": ""
    }
   },
   "outputs": [
    {
     "data": {
      "text/html": [
       "<style scoped>\n",
       "  .ansiout {\n",
       "    display: block;\n",
       "    unicode-bidi: embed;\n",
       "    white-space: pre-wrap;\n",
       "    word-wrap: break-word;\n",
       "    word-break: break-all;\n",
       "    font-family: \"Source Code Pro\", \"Menlo\", monospace;;\n",
       "    font-size: 13px;\n",
       "    color: #555;\n",
       "    margin-left: 4px;\n",
       "    line-height: 19px;\n",
       "  }\n",
       "</style>\n",
       "<div class=\"ansiout\">sparknlp_jsl.version :  3.0.1\n",
       "Out[1]: </div>"
      ]
     },
     "metadata": {
      "application/vnd.databricks.v1+output": {
       "addedWidgets": {},
       "arguments": {},
       "data": "<div class=\"ansiout\">sparknlp_jsl.version :  3.0.1\nOut[1]: </div>",
       "datasetInfos": [],
       "removedWidgets": [],
       "type": "html"
      }
     },
     "output_type": "display_data"
    },
    {
     "data": {
      "text/html": [
       "\n",
       "            <div>\n",
       "                <p><b>SparkSession - hive</b></p>\n",
       "                \n",
       "        <div>\n",
       "            <p><b>SparkContext</b></p>\n",
       "\n",
       "            <p><a href=\"/?o=3418543878422327#setting/sparkui/0421-031638-preys129/driver-842839934349988954\">Spark UI</a></p>\n",
       "\n",
       "            <dl>\n",
       "              <dt>Version</dt>\n",
       "                <dd><code>v3.0.1</code></dd>\n",
       "              <dt>Master</dt>\n",
       "                <dd><code>spark://10.164.233.65:7077</code></dd>\n",
       "              <dt>AppName</dt>\n",
       "                <dd><code>Databricks Shell</code></dd>\n",
       "            </dl>\n",
       "        </div>\n",
       "        \n",
       "            </div>\n",
       "        "
      ]
     },
     "metadata": {
      "application/vnd.databricks.v1+output": {
       "addedWidgets": {},
       "arguments": {},
       "data": "\n            <div>\n                <p><b>SparkSession - hive</b></p>\n                \n        <div>\n            <p><b>SparkContext</b></p>\n\n            <p><a href=\"/?o=3418543878422327#setting/sparkui/0421-031638-preys129/driver-842839934349988954\">Spark UI</a></p>\n\n            <dl>\n              <dt>Version</dt>\n                <dd><code>v3.0.1</code></dd>\n              <dt>Master</dt>\n                <dd><code>spark://10.164.233.65:7077</code></dd>\n              <dt>AppName</dt>\n                <dd><code>Databricks Shell</code></dd>\n            </dl>\n        </div>\n        \n            </div>\n        ",
       "datasetInfos": [],
       "removedWidgets": [],
       "textData": null,
       "type": "htmlSandbox"
      }
     },
     "output_type": "display_data"
    }
   ],
   "source": [
    "import os\n",
    "import json\n",
    "import string\n",
    "import numpy as np\n",
    "import pandas as pd\n",
    "\n",
    "import sparknlp\n",
    "import sparknlp_jsl\n",
    "from sparknlp.util import *\n",
    "from sparknlp.base import *\n",
    "from sparknlp.annotator import *\n",
    "from sparknlp_jsl.annotator import *\n",
    "from sparknlp.pretrained import ResourceDownloader\n",
    "\n",
    "from pyspark.sql import functions as F\n",
    "from pyspark.ml import Pipeline, PipelineModel\n",
    "\n",
    "\n",
    "pd.set_option('max_colwidth', 100)\n",
    "pd.set_option('display.max_columns', None)  \n",
    "pd.set_option('display.expand_frame_repr', False)\n",
    "\n",
    "print('sparknlp_jsl.version : ',sparknlp_jsl.version())\n",
    "\n",
    "spark"
   ]
  },
  {
   "cell_type": "code",
   "execution_count": 0,
   "metadata": {
    "application/vnd.databricks.v1+cell": {
     "inputWidgets": {},
     "nuid": "d260ffe0-e641-4035-a530-0f100eae8e12",
     "showTitle": false,
     "title": ""
    }
   },
   "outputs": [
    {
     "data": {
      "text/html": [
       "<style scoped>\n",
       "  .ansiout {\n",
       "    display: block;\n",
       "    unicode-bidi: embed;\n",
       "    white-space: pre-wrap;\n",
       "    word-wrap: break-word;\n",
       "    word-break: break-all;\n",
       "    font-family: \"Source Code Pro\", \"Menlo\", monospace;;\n",
       "    font-size: 13px;\n",
       "    color: #555;\n",
       "    margin-left: 4px;\n",
       "    line-height: 19px;\n",
       "  }\n",
       "</style>\n",
       "<div class=\"ansiout\">spellcheck_clinical download started this may take some time.\n",
       "Approximate size to download 142.2 MB\n",
       "\r",
       "[ | ]\r",
       "[ / ]\r",
       "[ — ]\r",
       "[ \\ ]\r",
       "[ | ]\r",
       "[ / ]\r",
       "[ — ]\r",
       "[ \\ ]\r",
       "[ | ]\r",
       "[ / ]\r",
       "[ — ]\r",
       "[ \\ ]\r",
       "[ | ]\r",
       "[ / ]\r",
       "[ — ]\r",
       "[ \\ ]\r",
       "[ | ]\r",
       "[ / ]\r",
       "[ — ]\r",
       "[ \\ ]\r",
       "[ | ]\r",
       "[ / ]\r",
       "[ — ]\r",
       "[ \\ ]\r",
       "[ | ]\r",
       "[ / ]\r",
       "[ — ]\r",
       "[ \\ ]\r",
       "[ | ]\r",
       "[ / ]\r",
       "[ — ]\r",
       "[ \\ ]\r",
       "[ | ]\r",
       "[ / ]\r",
       "[ — ]\r",
       "[ \\ ]\r",
       "[ | ]\r",
       "[ / ]\r",
       "[ — ]\r",
       "[ \\ ]\r",
       "[ | ]\r",
       "[ / ]\r",
       "[ — ]\r",
       "[ \\ ]\r",
       "[ | ]\r",
       "[ / ]\r",
       "[ — ]\r",
       "[ \\ ]\r",
       "[ | ]\r",
       "[ / ]\r",
       "[ — ]\r",
       "[ \\ ]\r",
       "[ | ]\r",
       "[ / ]\r",
       "[ — ]\r",
       "[ \\ ]\r",
       "[ | ]\r",
       "[ / ]\r",
       "[ — ]\r",
       "[ \\ ]\r",
       "[ | ]\r",
       "[ / ]\r",
       "[ — ]\r",
       "[ \\ ]\r",
       "[ | ]\r",
       "[ / ]\r",
       "[ — ]\r",
       "[ \\ ]\r",
       "[ | ]\r",
       "[ / ]\r",
       "[ — ]\r",
       "[ \\ ]\r",
       "[ | ]\r",
       "[ / ]\r",
       "[ — ]\r",
       "[ \\ ]\r",
       "[ | ]\r",
       "[ / ]\r",
       "[ — ]\r",
       "[ \\ ]\r",
       "[ | ]\r",
       "[OK!]\n",
       "</div>"
      ]
     },
     "metadata": {
      "application/vnd.databricks.v1+output": {
       "addedWidgets": {},
       "arguments": {},
       "data": "<div class=\"ansiout\">spellcheck_clinical download started this may take some time.\nApproximate size to download 142.2 MB\n\r[ | ]\r[ / ]\r[ — ]\r[ \\ ]\r[ | ]\r[ / ]\r[ — ]\r[ \\ ]\r[ | ]\r[ / ]\r[ — ]\r[ \\ ]\r[ | ]\r[ / ]\r[ — ]\r[ \\ ]\r[ | ]\r[ / ]\r[ — ]\r[ \\ ]\r[ | ]\r[ / ]\r[ — ]\r[ \\ ]\r[ | ]\r[ / ]\r[ — ]\r[ \\ ]\r[ | ]\r[ / ]\r[ — ]\r[ \\ ]\r[ | ]\r[ / ]\r[ — ]\r[ \\ ]\r[ | ]\r[ / ]\r[ — ]\r[ \\ ]\r[ | ]\r[ / ]\r[ — ]\r[ \\ ]\r[ | ]\r[ / ]\r[ — ]\r[ \\ ]\r[ | ]\r[ / ]\r[ — ]\r[ \\ ]\r[ | ]\r[ / ]\r[ — ]\r[ \\ ]\r[ | ]\r[ / ]\r[ — ]\r[ \\ ]\r[ | ]\r[ / ]\r[ — ]\r[ \\ ]\r[ | ]\r[ / ]\r[ — ]\r[ \\ ]\r[ | ]\r[ / ]\r[ — ]\r[ \\ ]\r[ | ]\r[ / ]\r[ — ]\r[ \\ ]\r[ | ]\r[ / ]\r[ — ]\r[ \\ ]\r[ | ]\r[OK!]\n</div>",
       "datasetInfos": [],
       "removedWidgets": [],
       "type": "html"
      }
     },
     "output_type": "display_data"
    }
   ],
   "source": [
    "documentAssembler = DocumentAssembler()\\\n",
    "    .setInputCol(\"text\")\\\n",
    "    .setOutputCol(\"document\")\n",
    "\n",
    "tokenizer = RecursiveTokenizer()\\\n",
    "    .setInputCols([\"document\"])\\\n",
    "    .setOutputCol(\"token\")\\\n",
    "    .setPrefixes([\"\\\"\", \"(\", \"[\", \"\\n\"])\\\n",
    "    .setSuffixes([\".\", \",\", \"?\", \")\",\"!\", \"'s\"])\n",
    "\n",
    "spellModel = ContextSpellCheckerModel.pretrained('spellcheck_clinical', 'en', 'clinical/models')\\\n",
    "    .setInputCols(\"token\")\\\n",
    "    .setOutputCol(\"checked\")"
   ]
  },
  {
   "cell_type": "code",
   "execution_count": 0,
   "metadata": {
    "application/vnd.databricks.v1+cell": {
     "inputWidgets": {},
     "nuid": "833444d3-5a30-47dc-a00d-19061e93f585",
     "showTitle": false,
     "title": ""
    }
   },
   "outputs": [
    {
     "data": {
      "text/html": [
       "<style scoped>\n",
       "  .ansiout {\n",
       "    display: block;\n",
       "    unicode-bidi: embed;\n",
       "    white-space: pre-wrap;\n",
       "    word-wrap: break-word;\n",
       "    word-break: break-all;\n",
       "    font-family: \"Source Code Pro\", \"Menlo\", monospace;;\n",
       "    font-size: 13px;\n",
       "    color: #555;\n",
       "    margin-left: 4px;\n",
       "    line-height: 19px;\n",
       "  }\n",
       "</style>\n",
       "<div class=\"ansiout\"></div>"
      ]
     },
     "metadata": {
      "application/vnd.databricks.v1+output": {
       "addedWidgets": {},
       "arguments": {},
       "data": "<div class=\"ansiout\"></div>",
       "datasetInfos": [],
       "removedWidgets": [],
       "type": "html"
      }
     },
     "output_type": "display_data"
    }
   ],
   "source": [
    "pipeline = Pipeline(\n",
    "    stages = [\n",
    "    documentAssembler,\n",
    "    tokenizer,\n",
    "    spellModel\n",
    "  ])\n",
    "\n",
    "empty_ds = spark.createDataFrame([[\"\"]]).toDF(\"text\")\n",
    "\n",
    "lp = LightPipeline(pipeline.fit(empty_ds))"
   ]
  },
  {
   "cell_type": "markdown",
   "metadata": {
    "application/vnd.databricks.v1+cell": {
     "inputWidgets": {},
     "nuid": "f8466d0a-cd9c-4829-a383-157fe8562838",
     "showTitle": false,
     "title": ""
    }
   },
   "source": [
    "Ok!, at this point we have our spell checking pipeline as expected. Let's see what we can do with it, see these errors,\n",
    "\n",
    "_\n",
    "__Witth__ the __hell__ of __phisical__ __terapy__ the patient was __imbulated__ and on posoperative, the __impatient__ tolerating a post __curgical__ soft diet._\n",
    "\n",
    "_With __paint__ __wel__ controlled on __orall__ pain medications, she was discharged __too__ __reihabilitation__ __facilitay__._\n",
    "\n",
    "_She is to also call the __ofice__ if she has any __ever__ greater than 101, or __leeding__ __form__ the surgical wounds._\n",
    "\n",
    "_Abdomen is __sort__, nontender, and __nonintended__._\n",
    "\n",
    "_Patient not showing pain or any __wealth__ problems._\n",
    "            \n",
    "_No __cute__ distress_\n",
    "\n",
    "Check that some of the errors are valid English words, only by considering the context the right choice can be made."
   ]
  },
  {
   "cell_type": "code",
   "execution_count": 0,
   "metadata": {
    "application/vnd.databricks.v1+cell": {
     "inputWidgets": {},
     "nuid": "47569d82-239e-43e0-a485-2e685951045c",
     "showTitle": false,
     "title": ""
    }
   },
   "outputs": [
    {
     "data": {
      "text/html": [
       "<style scoped>\n",
       "  .ansiout {\n",
       "    display: block;\n",
       "    unicode-bidi: embed;\n",
       "    white-space: pre-wrap;\n",
       "    word-wrap: break-word;\n",
       "    word-break: break-all;\n",
       "    font-family: \"Source Code Pro\", \"Menlo\", monospace;;\n",
       "    font-size: 13px;\n",
       "    color: #555;\n",
       "    margin-left: 4px;\n",
       "    line-height: 19px;\n",
       "  }\n",
       "</style>\n",
       "<div class=\"ansiout\">[(&#39;Witth&#39;, &#39;With&#39;), (&#39;the&#39;, &#39;the&#39;), (&#39;hell&#39;, &#39;cell&#39;), (&#39;of&#39;, &#39;of&#39;), (&#39;phisical&#39;, &#39;physical&#39;), (&#39;terapy&#39;, &#39;therapy&#39;), (&#39;the&#39;, &#39;the&#39;), (&#39;patient&#39;, &#39;patient&#39;), (&#39;was&#39;, &#39;was&#39;), (&#39;imbulated&#39;, &#39;ambulated&#39;), (&#39;and&#39;, &#39;and&#39;), (&#39;on&#39;, &#39;on&#39;), (&#39;posoperative&#39;, &#39;postoperative&#39;), (&#39;,&#39;, &#39;,&#39;), (&#39;the&#39;, &#39;the&#39;), (&#39;impatient&#39;, &#39;inpatient&#39;), (&#39;tolerating&#39;, &#39;tolerating&#39;), (&#39;a&#39;, &#39;a&#39;), (&#39;post&#39;, &#39;post&#39;), (&#39;curgical&#39;, &#39;surgical&#39;), (&#39;soft&#39;, &#39;soft&#39;), (&#39;diet&#39;, &#39;diet&#39;), (&#39;.&#39;, &#39;.&#39;)]\n",
       "[(&#39;With&#39;, &#39;With&#39;), (&#39;paint&#39;, &#39;paint&#39;), (&#39;wel&#39;, &#39;well&#39;), (&#39;controlled&#39;, &#39;controlled&#39;), (&#39;on&#39;, &#39;on&#39;), (&#39;orall&#39;, &#39;oral&#39;), (&#39;pain&#39;, &#39;pain&#39;), (&#39;medications&#39;, &#39;medications&#39;), (&#39;,&#39;, &#39;,&#39;), (&#39;she&#39;, &#39;she&#39;), (&#39;was&#39;, &#39;was&#39;), (&#39;discharged&#39;, &#39;discharged&#39;), (&#39;too&#39;, &#39;too&#39;), (&#39;reihabilitation&#39;, &#39;rehabilitation&#39;), (&#39;facilitay&#39;, &#39;facility&#39;), (&#39;.&#39;, &#39;.&#39;)]\n",
       "[(&#39;She&#39;, &#39;She&#39;), (&#39;is&#39;, &#39;is&#39;), (&#39;to&#39;, &#39;to&#39;), (&#39;also&#39;, &#39;also&#39;), (&#39;call&#39;, &#39;call&#39;), (&#39;the&#39;, &#39;the&#39;), (&#39;ofice&#39;, &#39;office&#39;), (&#39;if&#39;, &#39;if&#39;), (&#39;she&#39;, &#39;she&#39;), (&#39;has&#39;, &#39;has&#39;), (&#39;any&#39;, &#39;any&#39;), (&#39;ever&#39;, &#39;ever&#39;), (&#39;greater&#39;, &#39;greater&#39;), (&#39;than&#39;, &#39;than&#39;), (&#39;101&#39;, &#39;101&#39;), (&#39;,&#39;, &#39;,&#39;), (&#39;or&#39;, &#39;or&#39;), (&#39;leeding&#39;, &#39;leading&#39;), (&#39;form&#39;, &#39;form&#39;), (&#39;the&#39;, &#39;the&#39;), (&#39;surgical&#39;, &#39;surgical&#39;), (&#39;wounds&#39;, &#39;wounds&#39;), (&#39;.&#39;, &#39;.&#39;)]\n",
       "[(&#39;Abdomen&#39;, &#39;Abdomen&#39;), (&#39;is&#39;, &#39;is&#39;), (&#39;sort&#39;, &#39;sort&#39;), (&#39;,&#39;, &#39;,&#39;), (&#39;nontender&#39;, &#39;nontender&#39;), (&#39;,&#39;, &#39;,&#39;), (&#39;and&#39;, &#39;and&#39;), (&#39;nonintended&#39;, &#39;unintended&#39;), (&#39;.&#39;, &#39;.&#39;)]\n",
       "[(&#39;Patient&#39;, &#39;Patient&#39;), (&#39;not&#39;, &#39;not&#39;), (&#39;showing&#39;, &#39;showing&#39;), (&#39;pain&#39;, &#39;pain&#39;), (&#39;or&#39;, &#39;or&#39;), (&#39;any&#39;, &#39;any&#39;), (&#39;wealth&#39;, &#39;wealth&#39;), (&#39;problems&#39;, &#39;problems&#39;), (&#39;.&#39;, &#39;.&#39;)]\n",
       "[(&#39;No&#39;, &#39;No&#39;), (&#39;cute&#39;, &#39;acute&#39;), (&#39;distress&#39;, &#39;distress&#39;)]\n",
       "</div>"
      ]
     },
     "metadata": {
      "application/vnd.databricks.v1+output": {
       "addedWidgets": {},
       "arguments": {},
       "data": "<div class=\"ansiout\">[(&#39;Witth&#39;, &#39;With&#39;), (&#39;the&#39;, &#39;the&#39;), (&#39;hell&#39;, &#39;cell&#39;), (&#39;of&#39;, &#39;of&#39;), (&#39;phisical&#39;, &#39;physical&#39;), (&#39;terapy&#39;, &#39;therapy&#39;), (&#39;the&#39;, &#39;the&#39;), (&#39;patient&#39;, &#39;patient&#39;), (&#39;was&#39;, &#39;was&#39;), (&#39;imbulated&#39;, &#39;ambulated&#39;), (&#39;and&#39;, &#39;and&#39;), (&#39;on&#39;, &#39;on&#39;), (&#39;posoperative&#39;, &#39;postoperative&#39;), (&#39;,&#39;, &#39;,&#39;), (&#39;the&#39;, &#39;the&#39;), (&#39;impatient&#39;, &#39;inpatient&#39;), (&#39;tolerating&#39;, &#39;tolerating&#39;), (&#39;a&#39;, &#39;a&#39;), (&#39;post&#39;, &#39;post&#39;), (&#39;curgical&#39;, &#39;surgical&#39;), (&#39;soft&#39;, &#39;soft&#39;), (&#39;diet&#39;, &#39;diet&#39;), (&#39;.&#39;, &#39;.&#39;)]\n[(&#39;With&#39;, &#39;With&#39;), (&#39;paint&#39;, &#39;paint&#39;), (&#39;wel&#39;, &#39;well&#39;), (&#39;controlled&#39;, &#39;controlled&#39;), (&#39;on&#39;, &#39;on&#39;), (&#39;orall&#39;, &#39;oral&#39;), (&#39;pain&#39;, &#39;pain&#39;), (&#39;medications&#39;, &#39;medications&#39;), (&#39;,&#39;, &#39;,&#39;), (&#39;she&#39;, &#39;she&#39;), (&#39;was&#39;, &#39;was&#39;), (&#39;discharged&#39;, &#39;discharged&#39;), (&#39;too&#39;, &#39;too&#39;), (&#39;reihabilitation&#39;, &#39;rehabilitation&#39;), (&#39;facilitay&#39;, &#39;facility&#39;), (&#39;.&#39;, &#39;.&#39;)]\n[(&#39;She&#39;, &#39;She&#39;), (&#39;is&#39;, &#39;is&#39;), (&#39;to&#39;, &#39;to&#39;), (&#39;also&#39;, &#39;also&#39;), (&#39;call&#39;, &#39;call&#39;), (&#39;the&#39;, &#39;the&#39;), (&#39;ofice&#39;, &#39;office&#39;), (&#39;if&#39;, &#39;if&#39;), (&#39;she&#39;, &#39;she&#39;), (&#39;has&#39;, &#39;has&#39;), (&#39;any&#39;, &#39;any&#39;), (&#39;ever&#39;, &#39;ever&#39;), (&#39;greater&#39;, &#39;greater&#39;), (&#39;than&#39;, &#39;than&#39;), (&#39;101&#39;, &#39;101&#39;), (&#39;,&#39;, &#39;,&#39;), (&#39;or&#39;, &#39;or&#39;), (&#39;leeding&#39;, &#39;leading&#39;), (&#39;form&#39;, &#39;form&#39;), (&#39;the&#39;, &#39;the&#39;), (&#39;surgical&#39;, &#39;surgical&#39;), (&#39;wounds&#39;, &#39;wounds&#39;), (&#39;.&#39;, &#39;.&#39;)]\n[(&#39;Abdomen&#39;, &#39;Abdomen&#39;), (&#39;is&#39;, &#39;is&#39;), (&#39;sort&#39;, &#39;sort&#39;), (&#39;,&#39;, &#39;,&#39;), (&#39;nontender&#39;, &#39;nontender&#39;), (&#39;,&#39;, &#39;,&#39;), (&#39;and&#39;, &#39;and&#39;), (&#39;nonintended&#39;, &#39;unintended&#39;), (&#39;.&#39;, &#39;.&#39;)]\n[(&#39;Patient&#39;, &#39;Patient&#39;), (&#39;not&#39;, &#39;not&#39;), (&#39;showing&#39;, &#39;showing&#39;), (&#39;pain&#39;, &#39;pain&#39;), (&#39;or&#39;, &#39;or&#39;), (&#39;any&#39;, &#39;any&#39;), (&#39;wealth&#39;, &#39;wealth&#39;), (&#39;problems&#39;, &#39;problems&#39;), (&#39;.&#39;, &#39;.&#39;)]\n[(&#39;No&#39;, &#39;No&#39;), (&#39;cute&#39;, &#39;acute&#39;), (&#39;distress&#39;, &#39;distress&#39;)]\n</div>",
       "datasetInfos": [],
       "removedWidgets": [],
       "type": "html"
      }
     },
     "output_type": "display_data"
    }
   ],
   "source": [
    "example = [\"Witth the hell of phisical terapy the patient was imbulated and on posoperative, the impatient tolerating a post curgical soft diet.\",\n",
    "            \"With paint wel controlled on orall pain medications, she was discharged too reihabilitation facilitay.\",\n",
    "            \"She is to also call the ofice if she has any ever greater than 101, or leeding form the surgical wounds.\",\n",
    "            \"Abdomen is sort, nontender, and nonintended.\",\n",
    "            \"Patient not showing pain or any wealth problems.\",\n",
    "            \"No cute distress\"\n",
    "            \n",
    "]\n",
    "\n",
    "for pairs in lp.annotate(example):\n",
    "\n",
    "  print (list(zip(pairs['token'],pairs['checked'])))"
   ]
  },
  {
   "cell_type": "markdown",
   "metadata": {
    "application/vnd.databricks.v1+cell": {
     "inputWidgets": {},
     "nuid": "97ac90f2-d3fb-4c3d-a2e5-c5226fc0535a",
     "showTitle": false,
     "title": ""
    }
   },
   "source": [
    "End of Notebook # 6"
   ]
  }
 ],
 "metadata": {
  "application/vnd.databricks.v1+notebook": {
   "dashboards": [],
   "language": "python",
   "notebookMetadata": {
    "pythonIndentUnit": 2
   },
   "notebookName": "6.Clinical_Context_Spell_Checker_v3.0",
   "notebookOrigID": 4188410320913267,
   "widgets": {}
  },
  "kernelspec": {
   "display_name": "Python 3",
   "language": "python",
   "name": "python3"
  },
  "language_info": {
   "codemirror_mode": {
    "name": "ipython",
    "version": 3
   },
   "file_extension": ".py",
   "mimetype": "text/x-python",
   "name": "python",
   "nbconvert_exporter": "python",
   "pygments_lexer": "ipython3",
   "version": "3.8.3"
  }
 },
 "nbformat": 4,
 "nbformat_minor": 1
}

{
 "cells": [
  {
   "cell_type": "markdown",
   "metadata": {
    "application/vnd.databricks.v1+cell": {
     "inputWidgets": {},
     "nuid": "c798a574-bcdf-49bb-9f99-193b1d34b452",
     "showTitle": false,
     "title": ""
    }
   },
   "source": [
    "![JohnSnowLabs](https://nlp.johnsnowlabs.com/assets/images/logo.png)"
   ]
  },
  {
   "cell_type": "markdown",
   "metadata": {
    "application/vnd.databricks.v1+cell": {
     "inputWidgets": {},
     "nuid": "b1a49e57-8661-44b4-b171-5cbed835ef91",
     "showTitle": false,
     "title": ""
    }
   },
   "source": [
    "# Adverse Drug Events Detection using Named Entity Recognition, Classification and Assertion Status Models"
   ]
  },
  {
   "cell_type": "markdown",
   "metadata": {
    "application/vnd.databricks.v1+cell": {
     "inputWidgets": {},
     "nuid": "8d6665a1-5ef4-4356-bcf3-6f4d6bf365c9",
     "showTitle": false,
     "title": ""
    }
   },
   "source": [
    "`ADE NER`: Extracts ADE and DRUG entities from clinical texts.\n",
    "\n",
    "`ADE Classifier`: CLassify if a sentence is ADE-related (`True`) or not (`False`)\n",
    "\n",
    "We use several datasets to train these models:\n",
    "\n",
    "- Twitter dataset, which is used in paper \"`Deep learning for pharmacovigilance: recurrent neural network architectures for labeling adverse drug reactions in Twitter posts`\" (https://pubmed.ncbi.nlm.nih.gov/28339747/)\n",
    "- ADE-Corpus-V2, which is used in paper \"`An Attentive Sequence Model for Adverse Drug Event Extraction from Biomedical Text`\" (https://arxiv.org/abs/1801.00625) and availe online: https://sites.google.com/site/adecorpus/home/document.\n",
    "- CADEC dataset, which is sued in paper `Cadec: A corpus of adverse drug event annotations` (https://pubmed.ncbi.nlm.nih.gov/25817970)"
   ]
  },
  {
   "cell_type": "code",
   "execution_count": 0,
   "metadata": {
    "application/vnd.databricks.v1+cell": {
     "inputWidgets": {},
     "nuid": "deb3e22d-0668-4130-baf0-1260b0b92740",
     "showTitle": false,
     "title": ""
    }
   },
   "outputs": [
    {
     "data": {
      "text/html": [
       "<style scoped>\n",
       "  .ansiout {\n",
       "    display: block;\n",
       "    unicode-bidi: embed;\n",
       "    white-space: pre-wrap;\n",
       "    word-wrap: break-word;\n",
       "    word-break: break-all;\n",
       "    font-family: \"Source Code Pro\", \"Menlo\", monospace;;\n",
       "    font-size: 13px;\n",
       "    color: #555;\n",
       "    margin-left: 4px;\n",
       "    line-height: 19px;\n",
       "  }\n",
       "</style>\n",
       "<div class=\"ansiout\">sparknlp_jsl.version :  3.0.1\n",
       "Out[1]: </div>"
      ]
     },
     "metadata": {
      "application/vnd.databricks.v1+output": {
       "addedWidgets": {},
       "arguments": {},
       "data": "<div class=\"ansiout\">sparknlp_jsl.version :  3.0.1\nOut[1]: </div>",
       "datasetInfos": [],
       "removedWidgets": [],
       "type": "html"
      }
     },
     "output_type": "display_data"
    },
    {
     "data": {
      "text/html": [
       "\n",
       "            <div>\n",
       "                <p><b>SparkSession - hive</b></p>\n",
       "                \n",
       "        <div>\n",
       "            <p><b>SparkContext</b></p>\n",
       "\n",
       "            <p><a href=\"/?o=3418543878422327#setting/sparkui/0421-031638-preys129/driver-3084452975017783614\">Spark UI</a></p>\n",
       "\n",
       "            <dl>\n",
       "              <dt>Version</dt>\n",
       "                <dd><code>v3.0.1</code></dd>\n",
       "              <dt>Master</dt>\n",
       "                <dd><code>spark://10.164.237.178:7077</code></dd>\n",
       "              <dt>AppName</dt>\n",
       "                <dd><code>Databricks Shell</code></dd>\n",
       "            </dl>\n",
       "        </div>\n",
       "        \n",
       "            </div>\n",
       "        "
      ]
     },
     "metadata": {
      "application/vnd.databricks.v1+output": {
       "addedWidgets": {},
       "arguments": {},
       "data": "\n            <div>\n                <p><b>SparkSession - hive</b></p>\n                \n        <div>\n            <p><b>SparkContext</b></p>\n\n            <p><a href=\"/?o=3418543878422327#setting/sparkui/0421-031638-preys129/driver-3084452975017783614\">Spark UI</a></p>\n\n            <dl>\n              <dt>Version</dt>\n                <dd><code>v3.0.1</code></dd>\n              <dt>Master</dt>\n                <dd><code>spark://10.164.237.178:7077</code></dd>\n              <dt>AppName</dt>\n                <dd><code>Databricks Shell</code></dd>\n            </dl>\n        </div>\n        \n            </div>\n        ",
       "datasetInfos": [],
       "removedWidgets": [],
       "textData": null,
       "type": "htmlSandbox"
      }
     },
     "output_type": "display_data"
    }
   ],
   "source": [
    "import os\n",
    "import json\n",
    "import string\n",
    "import numpy as np\n",
    "import pandas as pd\n",
    "\n",
    "\n",
    "import sparknlp\n",
    "import sparknlp_jsl\n",
    "from sparknlp.base import *\n",
    "from sparknlp.util import *\n",
    "from sparknlp.annotator import *\n",
    "from sparknlp_jsl.annotator import *\n",
    "#from sparknlp.pretrained import ResourceDownloader\n",
    "\n",
    "from pyspark.sql import functions as F\n",
    "from pyspark.ml import Pipeline, PipelineModel\n",
    "\n",
    "pd.set_option('max_colwidth', 100)\n",
    "pd.set_option('display.max_columns', 100)  \n",
    "pd.set_option('display.expand_frame_repr', False)\n",
    "\n",
    "\n",
    "print('sparknlp_jsl.version : ',sparknlp_jsl.version())\n",
    "\n",
    "spark"
   ]
  },
  {
   "cell_type": "markdown",
   "metadata": {
    "application/vnd.databricks.v1+cell": {
     "inputWidgets": {},
     "nuid": "c9b5c805-0b14-4029-9330-f0b4f7cd6fa8",
     "showTitle": false,
     "title": ""
    }
   },
   "source": [
    "## ADE Classifier Pipeline (with a pretrained model)\n",
    "\n",
    "`True` : The sentence is talking about a possible ADE\n",
    "\n",
    "`False` : The sentences doesn't have any information about an ADE."
   ]
  },
  {
   "cell_type": "code",
   "execution_count": 0,
   "metadata": {
    "application/vnd.databricks.v1+cell": {
     "inputWidgets": {},
     "nuid": "4fb6ef71-fadc-4c41-8aa8-d517f362f7c3",
     "showTitle": false,
     "title": ""
    }
   },
   "outputs": [
    {
     "data": {
      "text/html": [
       "<style scoped>\n",
       "  .ansiout {\n",
       "    display: block;\n",
       "    unicode-bidi: embed;\n",
       "    white-space: pre-wrap;\n",
       "    word-wrap: break-word;\n",
       "    word-break: break-all;\n",
       "    font-family: \"Source Code Pro\", \"Menlo\", monospace;;\n",
       "    font-size: 13px;\n",
       "    color: #555;\n",
       "    margin-left: 4px;\n",
       "    line-height: 19px;\n",
       "  }\n",
       "</style>\n",
       "<div class=\"ansiout\">biobert_pubmed_base_cased download started this may take some time.\n",
       "Approximate size to download 386.4 MB\n",
       "\r",
       "[ | ]\r",
       "[ / ]\r",
       "[ — ]\r",
       "[ \\ ]\r",
       "[ | ]\r",
       "[ / ]\r",
       "[ — ]\r",
       "[ \\ ]\r",
       "[ | ]\r",
       "[ / ]\r",
       "[ — ]\r",
       "[ \\ ]\r",
       "[ | ]\r",
       "[ / ]\r",
       "[ — ]\r",
       "[ \\ ]\r",
       "[ | ]\r",
       "[ / ]\r",
       "[ — ]\r",
       "[ \\ ]\r",
       "[ | ]\r",
       "[ / ]\r",
       "[ — ]\r",
       "[ \\ ]\r",
       "[ | ]\r",
       "[ / ]\r",
       "[ — ]\r",
       "[ \\ ]\r",
       "[ | ]\r",
       "[ / ]\r",
       "[ — ]\r",
       "[ \\ ]\r",
       "[ | ]\r",
       "[ / ]\r",
       "[ — ]\r",
       "[ \\ ]\r",
       "[ | ]\r",
       "[ / ]\r",
       "[ — ]\r",
       "[ \\ ]\r",
       "[ | ]\r",
       "[ / ]\r",
       "[ — ]\r",
       "[ \\ ]\r",
       "[ | ]\r",
       "[ / ]\r",
       "[ — ]\r",
       "[ \\ ]\r",
       "[ | ]\r",
       "[ / ]\r",
       "[ — ]\r",
       "[ \\ ]\r",
       "[ | ]\r",
       "[ / ]\r",
       "[OK!]\n",
       "classifierdl_ade_biobert download started this may take some time.\n",
       "Approximate size to download 21.8 MB\n",
       "\r",
       "[ | ]\r",
       "[ / ]\r",
       "[ — ]\r",
       "[OK!]\n",
       "</div>"
      ]
     },
     "metadata": {
      "application/vnd.databricks.v1+output": {
       "addedWidgets": {},
       "arguments": {},
       "data": "<div class=\"ansiout\">biobert_pubmed_base_cased download started this may take some time.\nApproximate size to download 386.4 MB\n\r[ | ]\r[ / ]\r[ — ]\r[ \\ ]\r[ | ]\r[ / ]\r[ — ]\r[ \\ ]\r[ | ]\r[ / ]\r[ — ]\r[ \\ ]\r[ | ]\r[ / ]\r[ — ]\r[ \\ ]\r[ | ]\r[ / ]\r[ — ]\r[ \\ ]\r[ | ]\r[ / ]\r[ — ]\r[ \\ ]\r[ | ]\r[ / ]\r[ — ]\r[ \\ ]\r[ | ]\r[ / ]\r[ — ]\r[ \\ ]\r[ | ]\r[ / ]\r[ — ]\r[ \\ ]\r[ | ]\r[ / ]\r[ — ]\r[ \\ ]\r[ | ]\r[ / ]\r[ — ]\r[ \\ ]\r[ | ]\r[ / ]\r[ — ]\r[ \\ ]\r[ | ]\r[ / ]\r[ — ]\r[ \\ ]\r[ | ]\r[ / ]\r[OK!]\nclassifierdl_ade_biobert download started this may take some time.\nApproximate size to download 21.8 MB\n\r[ | ]\r[ / ]\r[ — ]\r[OK!]\n</div>",
       "datasetInfos": [],
       "removedWidgets": [],
       "type": "html"
      }
     },
     "output_type": "display_data"
    }
   ],
   "source": [
    "# Annotator that transforms a text column from dataframe into an Annotation ready for NLP\n",
    "documentAssembler = DocumentAssembler()\\\n",
    "    .setInputCol(\"text\")\\\n",
    "    .setOutputCol(\"sentence\")\n",
    "\n",
    "# Tokenizer splits words in a relevant format for NLP\n",
    "tokenizer = Tokenizer()\\\n",
    "    .setInputCols([\"sentence\"])\\\n",
    "    .setOutputCol(\"token\")\n",
    "\n",
    "bert_embeddings = BertEmbeddings.pretrained(\"biobert_pubmed_base_cased\")\\\n",
    "    .setInputCols([\"sentence\", \"token\"])\\\n",
    "    .setOutputCol(\"embeddings\")\\\n",
    "    .setMaxSentenceLength(512)\n",
    "\n",
    "embeddingsSentence = SentenceEmbeddings() \\\n",
    "    .setInputCols([\"sentence\", \"embeddings\"]) \\\n",
    "    .setOutputCol(\"sentence_embeddings\") \\\n",
    "    .setPoolingStrategy(\"AVERAGE\")\\\n",
    "    .setStorageRef('biobert_pubmed_base_cased')\n",
    "\n",
    "classsifierdl = ClassifierDLModel.pretrained(\"classifierdl_ade_biobert\", \"en\", \"clinical/models\")\\\n",
    "    .setInputCols([\"sentence\", \"sentence_embeddings\"]) \\\n",
    "    .setOutputCol(\"class\")\n",
    "\n",
    "ade_clf_pipeline = Pipeline(\n",
    "    stages=[documentAssembler, \n",
    "            tokenizer,\n",
    "            bert_embeddings,\n",
    "            embeddingsSentence,\n",
    "            classsifierdl])\n",
    "\n",
    "\n",
    "empty_data = spark.createDataFrame([[\"\"]]).toDF(\"text\")\n",
    "ade_clf_model = ade_clf_pipeline.fit(empty_data)\n",
    "\n",
    "ade_lp_pipeline = LightPipeline(ade_clf_model)"
   ]
  },
  {
   "cell_type": "code",
   "execution_count": 0,
   "metadata": {
    "application/vnd.databricks.v1+cell": {
     "inputWidgets": {},
     "nuid": "a4f7901d-d646-4653-baa5-c0b2f793fe1e",
     "showTitle": false,
     "title": ""
    }
   },
   "outputs": [
    {
     "data": {
      "text/html": [
       "<style scoped>\n",
       "  .ansiout {\n",
       "    display: block;\n",
       "    unicode-bidi: embed;\n",
       "    white-space: pre-wrap;\n",
       "    word-wrap: break-word;\n",
       "    word-break: break-all;\n",
       "    font-family: \"Source Code Pro\", \"Menlo\", monospace;;\n",
       "    font-size: 13px;\n",
       "    color: #555;\n",
       "    margin-left: 4px;\n",
       "    line-height: 19px;\n",
       "  }\n",
       "</style>\n",
       "<div class=\"ansiout\">Out[3]: &#39;True&#39;</div>"
      ]
     },
     "metadata": {
      "application/vnd.databricks.v1+output": {
       "addedWidgets": {},
       "arguments": {},
       "data": "<div class=\"ansiout\">Out[3]: &#39;True&#39;</div>",
       "datasetInfos": [],
       "removedWidgets": [],
       "type": "html"
      }
     },
     "output_type": "display_data"
    }
   ],
   "source": [
    "text = \"I feel a bit drowsy & have a little blurred vision after taking an insulin\"\n",
    "\n",
    "ade_lp_pipeline.annotate(text)['class'][0]"
   ]
  },
  {
   "cell_type": "code",
   "execution_count": 0,
   "metadata": {
    "application/vnd.databricks.v1+cell": {
     "inputWidgets": {},
     "nuid": "b5bb470f-b1ec-4508-9231-a8b40a11e204",
     "showTitle": false,
     "title": ""
    }
   },
   "outputs": [
    {
     "data": {
      "text/html": [
       "<style scoped>\n",
       "  .ansiout {\n",
       "    display: block;\n",
       "    unicode-bidi: embed;\n",
       "    white-space: pre-wrap;\n",
       "    word-wrap: break-word;\n",
       "    word-break: break-all;\n",
       "    font-family: \"Source Code Pro\", \"Menlo\", monospace;;\n",
       "    font-size: 13px;\n",
       "    color: #555;\n",
       "    margin-left: 4px;\n",
       "    line-height: 19px;\n",
       "  }\n",
       "</style>\n",
       "<div class=\"ansiout\">Out[4]: &#39;False&#39;</div>"
      ]
     },
     "metadata": {
      "application/vnd.databricks.v1+output": {
       "addedWidgets": {},
       "arguments": {},
       "data": "<div class=\"ansiout\">Out[4]: &#39;False&#39;</div>",
       "datasetInfos": [],
       "removedWidgets": [],
       "type": "html"
      }
     },
     "output_type": "display_data"
    }
   ],
   "source": [
    "text=\"I just took an Advil and have no gastric problems so far.\"\n",
    "\n",
    "ade_lp_pipeline.annotate(text)['class'][0]"
   ]
  },
  {
   "cell_type": "markdown",
   "metadata": {
    "application/vnd.databricks.v1+cell": {
     "inputWidgets": {},
     "nuid": "78d71bed-c4f5-4b69-9df6-89c17ef7c4ef",
     "showTitle": false,
     "title": ""
    }
   },
   "source": [
    "As you see `gastric problems` is not detected as `ADE` as it is in a negative context. So, classifier did a good job detecting that."
   ]
  },
  {
   "cell_type": "code",
   "execution_count": 0,
   "metadata": {
    "application/vnd.databricks.v1+cell": {
     "inputWidgets": {},
     "nuid": "f2007ef3-de57-4201-a88c-4d39dc186b6f",
     "showTitle": false,
     "title": ""
    }
   },
   "outputs": [
    {
     "data": {
      "text/html": [
       "<style scoped>\n",
       "  .ansiout {\n",
       "    display: block;\n",
       "    unicode-bidi: embed;\n",
       "    white-space: pre-wrap;\n",
       "    word-wrap: break-word;\n",
       "    word-break: break-all;\n",
       "    font-family: \"Source Code Pro\", \"Menlo\", monospace;;\n",
       "    font-size: 13px;\n",
       "    color: #555;\n",
       "    margin-left: 4px;\n",
       "    line-height: 19px;\n",
       "  }\n",
       "</style>\n",
       "<div class=\"ansiout\">Out[5]: &#39;True&#39;</div>"
      ]
     },
     "metadata": {
      "application/vnd.databricks.v1+output": {
       "addedWidgets": {},
       "arguments": {},
       "data": "<div class=\"ansiout\">Out[5]: &#39;True&#39;</div>",
       "datasetInfos": [],
       "removedWidgets": [],
       "type": "html"
      }
     },
     "output_type": "display_data"
    }
   ],
   "source": [
    "text=\"I just took a Metformin and started to feel dizzy.\"\n",
    "\n",
    "ade_lp_pipeline.annotate(text)['class'][0]"
   ]
  },
  {
   "cell_type": "code",
   "execution_count": 0,
   "metadata": {
    "application/vnd.databricks.v1+cell": {
     "inputWidgets": {},
     "nuid": "abc64c63-cda3-4328-99cc-3d609a416a6f",
     "showTitle": false,
     "title": ""
    }
   },
   "outputs": [
    {
     "data": {
      "text/html": [
       "<style scoped>\n",
       "  .ansiout {\n",
       "    display: block;\n",
       "    unicode-bidi: embed;\n",
       "    white-space: pre-wrap;\n",
       "    word-wrap: break-word;\n",
       "    word-break: break-all;\n",
       "    font-family: \"Source Code Pro\", \"Menlo\", monospace;;\n",
       "    font-size: 13px;\n",
       "    color: #555;\n",
       "    margin-left: 4px;\n",
       "    line-height: 19px;\n",
       "  }\n",
       "</style>\n",
       "<div class=\"ansiout\">Out[6]: &#39;True&#39;</div>"
      ]
     },
     "metadata": {
      "application/vnd.databricks.v1+output": {
       "addedWidgets": {},
       "arguments": {},
       "data": "<div class=\"ansiout\">Out[6]: &#39;True&#39;</div>",
       "datasetInfos": [],
       "removedWidgets": [],
       "type": "html"
      }
     },
     "output_type": "display_data"
    }
   ],
   "source": [
    "t='''\n",
    "Always tired, and possible blood clots. I was on Voltaren for about 4 years and all of the sudden had a minor stroke and had blood clots that traveled to my eye. I had every test in the book done at the hospital, and they couldnt find anything. I was completley healthy! I am thinking it was from the voltaren. I have been off of the drug for 8 months now, and have never felt better. I started eating healthy and working out and that has help alot. I can now sleep all thru the night. I wont take this again. If I have the back pain, I will pop a tylonol instead.\n",
    "'''\n",
    "\n",
    "ade_lp_pipeline.annotate(t)['class'][0]\n"
   ]
  },
  {
   "cell_type": "code",
   "execution_count": 0,
   "metadata": {
    "application/vnd.databricks.v1+cell": {
     "inputWidgets": {},
     "nuid": "19e5a9fb-7725-4cd6-b4b6-bb414e5049c4",
     "showTitle": false,
     "title": ""
    }
   },
   "outputs": [
    {
     "data": {
      "text/html": [
       "<style scoped>\n",
       "  .ansiout {\n",
       "    display: block;\n",
       "    unicode-bidi: embed;\n",
       "    white-space: pre-wrap;\n",
       "    word-wrap: break-word;\n",
       "    word-break: break-all;\n",
       "    font-family: \"Source Code Pro\", \"Menlo\", monospace;;\n",
       "    font-size: 13px;\n",
       "    color: #555;\n",
       "    margin-left: 4px;\n",
       "    line-height: 19px;\n",
       "  }\n",
       "</style>\n",
       "<div class=\"ansiout\">True\n",
       "False\n",
       "True\n",
       "False\n",
       "</div>"
      ]
     },
     "metadata": {
      "application/vnd.databricks.v1+output": {
       "addedWidgets": {},
       "arguments": {},
       "data": "<div class=\"ansiout\">True\nFalse\nTrue\nFalse\n</div>",
       "datasetInfos": [],
       "removedWidgets": [],
       "type": "html"
      }
     },
     "output_type": "display_data"
    }
   ],
   "source": [
    "texts = [\"I feel a bit drowsy & have a little blurred vision, after taking a pill.\",\n",
    "\"I've been on Arthrotec 50 for over 10 years on and off, only taking it when I needed it.\",\n",
    "\"Due to my arthritis getting progressively worse, to the point where I am in tears with the agony, gp's started me on 75 twice a day and I have to take it every day for the next month to see how I get on, here goes.\",\n",
    "\"So far its been very good, pains almost gone, but I feel a bit weird, didn't have that when on 50.\"]\n",
    "\n",
    "for text in texts:\n",
    "\n",
    "  result = ade_lp_pipeline.annotate(text)\n",
    "\n",
    "  print (result['class'][0])\n"
   ]
  },
  {
   "cell_type": "markdown",
   "metadata": {
    "application/vnd.databricks.v1+cell": {
     "inputWidgets": {},
     "nuid": "15f8c45c-0adf-4eff-b570-163c687b54a0",
     "showTitle": false,
     "title": ""
    }
   },
   "source": [
    "### ADE Classifier trained with conversational (short) sentences"
   ]
  },
  {
   "cell_type": "markdown",
   "metadata": {
    "application/vnd.databricks.v1+cell": {
     "inputWidgets": {},
     "nuid": "023eb8b3-635c-49c2-9fdf-2a0a81a128ff",
     "showTitle": false,
     "title": ""
    }
   },
   "source": [
    "This model is trained on short, conversational sentences related to ADE and is supposed to do better on the text that is short and used in a daily context."
   ]
  },
  {
   "cell_type": "code",
   "execution_count": 0,
   "metadata": {
    "application/vnd.databricks.v1+cell": {
     "inputWidgets": {},
     "nuid": "f205786d-263d-461d-80a8-96331dbb167f",
     "showTitle": false,
     "title": ""
    }
   },
   "outputs": [
    {
     "data": {
      "text/html": [
       "<style scoped>\n",
       "  .ansiout {\n",
       "    display: block;\n",
       "    unicode-bidi: embed;\n",
       "    white-space: pre-wrap;\n",
       "    word-wrap: break-word;\n",
       "    word-break: break-all;\n",
       "    font-family: \"Source Code Pro\", \"Menlo\", monospace;;\n",
       "    font-size: 13px;\n",
       "    color: #555;\n",
       "    margin-left: 4px;\n",
       "    line-height: 19px;\n",
       "  }\n",
       "</style>\n",
       "<div class=\"ansiout\">classifierdl_ade_conversational_biobert download started this may take some time.\n",
       "Approximate size to download 21.8 MB\n",
       "\r",
       "[ | ]\r",
       "[ / ]\r",
       "[ — ]\r",
       "[OK!]\n",
       "</div>"
      ]
     },
     "metadata": {
      "application/vnd.databricks.v1+output": {
       "addedWidgets": {},
       "arguments": {},
       "data": "<div class=\"ansiout\">classifierdl_ade_conversational_biobert download started this may take some time.\nApproximate size to download 21.8 MB\n\r[ | ]\r[ / ]\r[ — ]\r[OK!]\n</div>",
       "datasetInfos": [],
       "removedWidgets": [],
       "type": "html"
      }
     },
     "output_type": "display_data"
    }
   ],
   "source": [
    "conv_classsifierdl = ClassifierDLModel.pretrained(\"classifierdl_ade_conversational_biobert\", \"en\", \"clinical/models\")\\\n",
    "            .setInputCols([\"sentence\", \"sentence_embeddings\"]) \\\n",
    "            .setOutputCol(\"class\")\n",
    "\n",
    "conv_ade_clf_pipeline = Pipeline(\n",
    "    stages=[documentAssembler, \n",
    "            tokenizer,\n",
    "            bert_embeddings,\n",
    "            embeddingsSentence,\n",
    "            conv_classsifierdl])\n",
    "\n",
    "empty_data = spark.createDataFrame([[\"\"]]).toDF(\"text\")\n",
    "conv_ade_clf_model = conv_ade_clf_pipeline.fit(empty_data)\n",
    "\n",
    "conv_ade_lp_pipeline = LightPipeline(conv_ade_clf_model)"
   ]
  },
  {
   "cell_type": "code",
   "execution_count": 0,
   "metadata": {
    "application/vnd.databricks.v1+cell": {
     "inputWidgets": {},
     "nuid": "b16a5a3b-54d1-4bbf-84c0-b0e4310d2ee3",
     "showTitle": false,
     "title": ""
    }
   },
   "outputs": [
    {
     "data": {
      "text/html": [
       "<style scoped>\n",
       "  .ansiout {\n",
       "    display: block;\n",
       "    unicode-bidi: embed;\n",
       "    white-space: pre-wrap;\n",
       "    word-wrap: break-word;\n",
       "    word-break: break-all;\n",
       "    font-family: \"Source Code Pro\", \"Menlo\", monospace;;\n",
       "    font-size: 13px;\n",
       "    color: #555;\n",
       "    margin-left: 4px;\n",
       "    line-height: 19px;\n",
       "  }\n",
       "</style>\n",
       "<div class=\"ansiout\">Out[9]: &#39;False&#39;</div>"
      ]
     },
     "metadata": {
      "application/vnd.databricks.v1+output": {
       "addedWidgets": {},
       "arguments": {},
       "data": "<div class=\"ansiout\">Out[9]: &#39;False&#39;</div>",
       "datasetInfos": [],
       "removedWidgets": [],
       "type": "html"
      }
     },
     "output_type": "display_data"
    }
   ],
   "source": [
    "text = \"after taking a pill, he denies any pain\"\n",
    "\n",
    "conv_ade_lp_pipeline.annotate(text)['class'][0]"
   ]
  },
  {
   "cell_type": "markdown",
   "metadata": {
    "application/vnd.databricks.v1+cell": {
     "inputWidgets": {},
     "nuid": "9d647de3-bda1-4f6d-ae14-bc4fe758d345",
     "showTitle": false,
     "title": ""
    }
   },
   "source": [
    "## ADE NER\n",
    "\n",
    "Extracts `ADE` and `DRUG` entities from text."
   ]
  },
  {
   "cell_type": "code",
   "execution_count": 0,
   "metadata": {
    "application/vnd.databricks.v1+cell": {
     "inputWidgets": {},
     "nuid": "4a821d86-9f0f-4177-a61c-f0f7b52c4ec6",
     "showTitle": false,
     "title": ""
    }
   },
   "outputs": [
    {
     "data": {
      "text/html": [
       "<style scoped>\n",
       "  .ansiout {\n",
       "    display: block;\n",
       "    unicode-bidi: embed;\n",
       "    white-space: pre-wrap;\n",
       "    word-wrap: break-word;\n",
       "    word-break: break-all;\n",
       "    font-family: \"Source Code Pro\", \"Menlo\", monospace;;\n",
       "    font-size: 13px;\n",
       "    color: #555;\n",
       "    margin-left: 4px;\n",
       "    line-height: 19px;\n",
       "  }\n",
       "</style>\n",
       "<div class=\"ansiout\">embeddings_clinical download started this may take some time.\n",
       "Approximate size to download 1.6 GB\n",
       "\r",
       "[ | ]\r",
       "[ / ]\r",
       "[ — ]\r",
       "[ \\ ]\r",
       "[ | ]\r",
       "[ / ]\r",
       "[ — ]\r",
       "[ \\ ]\r",
       "[ | ]\r",
       "[ / ]\r",
       "[ — ]\r",
       "[ \\ ]\r",
       "[ | ]\r",
       "[ / ]\r",
       "[ — ]\r",
       "[ \\ ]\r",
       "[ | ]\r",
       "[ / ]\r",
       "[ — ]\r",
       "[ \\ ]\r",
       "[ | ]\r",
       "[ / ]\r",
       "[ — ]\r",
       "[ \\ ]\r",
       "[ | ]\r",
       "[ / ]\r",
       "[ — ]\r",
       "[ \\ ]\r",
       "[ | ]\r",
       "[ / ]\r",
       "[ — ]\r",
       "[ \\ ]\r",
       "[ | ]\r",
       "[ / ]\r",
       "[ — ]\r",
       "[ \\ ]\r",
       "[ | ]\r",
       "[ / ]\r",
       "[ — ]\r",
       "[ \\ ]\r",
       "[ | ]\r",
       "[ / ]\r",
       "[ — ]\r",
       "[ \\ ]\r",
       "[ | ]\r",
       "[ / ]\r",
       "[ — ]\r",
       "[ \\ ]\r",
       "[ | ]\r",
       "[ / ]\r",
       "[OK!]\n",
       "ner_ade_clinical download started this may take some time.\n",
       "Approximate size to download 13.9 MB\n",
       "\r",
       "[ | ]\r",
       "[ / ]\r",
       "[ — ]\r",
       "[ \\ ]\r",
       "[ | ]\r",
       "[ / ]\r",
       "[ — ]\r",
       "[ \\ ]\r",
       "[ | ]\r",
       "[ / ]\r",
       "[ — ]\r",
       "[ \\ ]\r",
       "[ | ]\r",
       "[OK!]\n",
       "</div>"
      ]
     },
     "metadata": {
      "application/vnd.databricks.v1+output": {
       "addedWidgets": {},
       "arguments": {},
       "data": "<div class=\"ansiout\">embeddings_clinical download started this may take some time.\nApproximate size to download 1.6 GB\n\r[ | ]\r[ / ]\r[ — ]\r[ \\ ]\r[ | ]\r[ / ]\r[ — ]\r[ \\ ]\r[ | ]\r[ / ]\r[ — ]\r[ \\ ]\r[ | ]\r[ / ]\r[ — ]\r[ \\ ]\r[ | ]\r[ / ]\r[ — ]\r[ \\ ]\r[ | ]\r[ / ]\r[ — ]\r[ \\ ]\r[ | ]\r[ / ]\r[ — ]\r[ \\ ]\r[ | ]\r[ / ]\r[ — ]\r[ \\ ]\r[ | ]\r[ / ]\r[ — ]\r[ \\ ]\r[ | ]\r[ / ]\r[ — ]\r[ \\ ]\r[ | ]\r[ / ]\r[ — ]\r[ \\ ]\r[ | ]\r[ / ]\r[ — ]\r[ \\ ]\r[ | ]\r[ / ]\r[OK!]\nner_ade_clinical download started this may take some time.\nApproximate size to download 13.9 MB\n\r[ | ]\r[ / ]\r[ — ]\r[ \\ ]\r[ | ]\r[ / ]\r[ — ]\r[ \\ ]\r[ | ]\r[ / ]\r[ — ]\r[ \\ ]\r[ | ]\r[OK!]\n</div>",
       "datasetInfos": [],
       "removedWidgets": [],
       "type": "html"
      }
     },
     "output_type": "display_data"
    }
   ],
   "source": [
    "documentAssembler = DocumentAssembler()\\\n",
    "  .setInputCol(\"text\")\\\n",
    "  .setOutputCol(\"document\")\n",
    "\n",
    "sentenceDetector = SentenceDetector()\\\n",
    "  .setInputCols([\"document\"])\\\n",
    "  .setOutputCol(\"sentence\")\n",
    "\n",
    "tokenizer = Tokenizer()\\\n",
    "  .setInputCols([\"sentence\"])\\\n",
    "  .setOutputCol(\"token\")\n",
    "\n",
    "word_embeddings = WordEmbeddingsModel.pretrained(\"embeddings_clinical\", \"en\", \"clinical/models\")\\\n",
    "  .setInputCols([\"sentence\", \"token\"])\\\n",
    "  .setOutputCol(\"embeddings\")\n",
    "\n",
    "ade_ner = MedicalNerModel.pretrained(\"ner_ade_clinical\", \"en\", \"clinical/models\") \\\n",
    "  .setInputCols([\"sentence\", \"token\", \"embeddings\"]) \\\n",
    "  .setOutputCol(\"ner\")\n",
    "\n",
    "ner_converter = NerConverter() \\\n",
    "  .setInputCols([\"sentence\", \"token\", \"ner\"]) \\\n",
    "  .setOutputCol(\"ner_chunk\")\n",
    "\n",
    "ner_pipeline = Pipeline(stages=[\n",
    "    documentAssembler, \n",
    "    sentenceDetector,\n",
    "    tokenizer,\n",
    "    word_embeddings,\n",
    "    ade_ner,\n",
    "    ner_converter])\n",
    "\n",
    "empty_data = spark.createDataFrame([[\"\"]]).toDF(\"text\")\n",
    "\n",
    "ade_ner_model = ner_pipeline.fit(empty_data)\n",
    "\n",
    "ade_ner_lp = LightPipeline(ade_ner_model)"
   ]
  },
  {
   "cell_type": "code",
   "execution_count": 0,
   "metadata": {
    "application/vnd.databricks.v1+cell": {
     "inputWidgets": {},
     "nuid": "0c0cdcc2-bf85-44e4-ab0e-e5ad23d8790b",
     "showTitle": false,
     "title": ""
    }
   },
   "outputs": [
    {
     "data": {
      "text/html": [
       "<style scoped>\n",
       "  .ansiout {\n",
       "    display: block;\n",
       "    unicode-bidi: embed;\n",
       "    white-space: pre-wrap;\n",
       "    word-wrap: break-word;\n",
       "    word-break: break-all;\n",
       "    font-family: \"Source Code Pro\", \"Menlo\", monospace;;\n",
       "    font-size: 13px;\n",
       "    color: #555;\n",
       "    margin-left: 4px;\n",
       "    line-height: 19px;\n",
       "  }\n",
       "</style>\n",
       "<div class=\"ansiout\">Out[11]: </div>"
      ]
     },
     "metadata": {
      "application/vnd.databricks.v1+output": {
       "addedWidgets": {},
       "arguments": {},
       "data": "<div class=\"ansiout\">Out[11]: </div>",
       "datasetInfos": [],
       "removedWidgets": [],
       "type": "html"
      }
     },
     "output_type": "display_data"
    },
    {
     "data": {
      "text/html": [
       "<div>\n",
       "<style scoped>\n",
       "    .dataframe tbody tr th:only-of-type {\n",
       "        vertical-align: middle;\n",
       "    }\n",
       "\n",
       "    .dataframe tbody tr th {\n",
       "        vertical-align: top;\n",
       "    }\n",
       "\n",
       "    .dataframe thead th {\n",
       "        text-align: right;\n",
       "    }\n",
       "</style>\n",
       "<table border=\"1\" class=\"dataframe\">\n",
       "  <thead>\n",
       "    <tr style=\"text-align: right;\">\n",
       "      <th></th>\n",
       "      <th>chunks</th>\n",
       "      <th>entities</th>\n",
       "      <th>begin</th>\n",
       "      <th>end</th>\n",
       "    </tr>\n",
       "  </thead>\n",
       "  <tbody>\n",
       "    <tr>\n",
       "      <th>0</th>\n",
       "      <td>bit drowsy</td>\n",
       "      <td>ADE</td>\n",
       "      <td>9</td>\n",
       "      <td>18</td>\n",
       "    </tr>\n",
       "    <tr>\n",
       "      <th>1</th>\n",
       "      <td>little blurred vision</td>\n",
       "      <td>ADE</td>\n",
       "      <td>29</td>\n",
       "      <td>49</td>\n",
       "    </tr>\n",
       "    <tr>\n",
       "      <th>2</th>\n",
       "      <td>Arthrotec</td>\n",
       "      <td>DRUG</td>\n",
       "      <td>95</td>\n",
       "      <td>103</td>\n",
       "    </tr>\n",
       "  </tbody>\n",
       "</table>\n",
       "</div>"
      ]
     },
     "metadata": {
      "application/vnd.databricks.v1+output": {
       "addedWidgets": {},
       "arguments": {},
       "data": "<div>\n<style scoped>\n    .dataframe tbody tr th:only-of-type {\n        vertical-align: middle;\n    }\n\n    .dataframe tbody tr th {\n        vertical-align: top;\n    }\n\n    .dataframe thead th {\n        text-align: right;\n    }\n</style>\n<table border=\"1\" class=\"dataframe\">\n  <thead>\n    <tr style=\"text-align: right;\">\n      <th></th>\n      <th>chunks</th>\n      <th>entities</th>\n      <th>begin</th>\n      <th>end</th>\n    </tr>\n  </thead>\n  <tbody>\n    <tr>\n      <th>0</th>\n      <td>bit drowsy</td>\n      <td>ADE</td>\n      <td>9</td>\n      <td>18</td>\n    </tr>\n    <tr>\n      <th>1</th>\n      <td>little blurred vision</td>\n      <td>ADE</td>\n      <td>29</td>\n      <td>49</td>\n    </tr>\n    <tr>\n      <th>2</th>\n      <td>Arthrotec</td>\n      <td>DRUG</td>\n      <td>95</td>\n      <td>103</td>\n    </tr>\n  </tbody>\n</table>\n</div>",
       "datasetInfos": [],
       "removedWidgets": [],
       "textData": null,
       "type": "htmlSandbox"
      }
     },
     "output_type": "display_data"
    }
   ],
   "source": [
    "light_result = ade_ner_lp.fullAnnotate(\"I feel a bit drowsy & have a little blurred vision, so far no gastric problems. I have been on Arthrotec 50 for over 10 years on and off, only taking it when I needed it. Due to my arthritis getting progressively worse, to the point where I am in tears with the agony, gp's started me on 75 twice a day and I have to take it every day for the next month to see how I get on, here goes. So far its been very good, pains almost gone, but I feel a bit weird, didn't have that when on 50.\")\n",
    "\n",
    "chunks = []\n",
    "entities = []\n",
    "begin =[]\n",
    "end = []\n",
    "\n",
    "for n in light_result[0]['ner_chunk']:\n",
    "\n",
    "    begin.append(n.begin)\n",
    "    end.append(n.end)\n",
    "    chunks.append(n.result)\n",
    "    entities.append(n.metadata['entity']) \n",
    "\n",
    "import pandas as pd\n",
    "\n",
    "df = pd.DataFrame({'chunks':chunks, 'entities':entities,\n",
    "                    'begin': begin, 'end': end})\n",
    "\n",
    "df"
   ]
  },
  {
   "cell_type": "markdown",
   "metadata": {
    "application/vnd.databricks.v1+cell": {
     "inputWidgets": {},
     "nuid": "e4c1cc78-f2a0-44fb-8026-f365861f131d",
     "showTitle": false,
     "title": ""
    }
   },
   "source": [
    "As you see `gastric problems` is not detected as `ADE` as it is in a negative context. So, NER did a good job ignoring that."
   ]
  },
  {
   "cell_type": "markdown",
   "metadata": {
    "application/vnd.databricks.v1+cell": {
     "inputWidgets": {},
     "nuid": "23dc2920-c7da-4a7f-b46c-472e4aacd5cf",
     "showTitle": false,
     "title": ""
    }
   },
   "source": [
    "#### ADE NER with Bert embeddings"
   ]
  },
  {
   "cell_type": "code",
   "execution_count": 0,
   "metadata": {
    "application/vnd.databricks.v1+cell": {
     "inputWidgets": {},
     "nuid": "0037e696-75ec-44be-849d-1b580c46ebdd",
     "showTitle": false,
     "title": ""
    }
   },
   "outputs": [
    {
     "data": {
      "text/html": [
       "<style scoped>\n",
       "  .ansiout {\n",
       "    display: block;\n",
       "    unicode-bidi: embed;\n",
       "    white-space: pre-wrap;\n",
       "    word-wrap: break-word;\n",
       "    word-break: break-all;\n",
       "    font-family: \"Source Code Pro\", \"Menlo\", monospace;;\n",
       "    font-size: 13px;\n",
       "    color: #555;\n",
       "    margin-left: 4px;\n",
       "    line-height: 19px;\n",
       "  }\n",
       "</style>\n",
       "<div class=\"ansiout\">biobert_pubmed_base_cased download started this may take some time.\n",
       "Approximate size to download 386.4 MB\n",
       "\r",
       "[ | ]\r",
       "[OK!]\n",
       "ner_ade_biobert download started this may take some time.\n",
       "Approximate size to download 15.3 MB\n",
       "\r",
       "[ | ]\r",
       "[ / ]\r",
       "[OK!]\n",
       "</div>"
      ]
     },
     "metadata": {
      "application/vnd.databricks.v1+output": {
       "addedWidgets": {},
       "arguments": {},
       "data": "<div class=\"ansiout\">biobert_pubmed_base_cased download started this may take some time.\nApproximate size to download 386.4 MB\n\r[ | ]\r[OK!]\nner_ade_biobert download started this may take some time.\nApproximate size to download 15.3 MB\n\r[ | ]\r[ / ]\r[OK!]\n</div>",
       "datasetInfos": [],
       "removedWidgets": [],
       "type": "html"
      }
     },
     "output_type": "display_data"
    }
   ],
   "source": [
    "documentAssembler = DocumentAssembler()\\\n",
    "  .setInputCol(\"text\")\\\n",
    "  .setOutputCol(\"document\")\n",
    "\n",
    "sentenceDetector = SentenceDetector()\\\n",
    "  .setInputCols([\"document\"])\\\n",
    "  .setOutputCol(\"sentence\")\n",
    "\n",
    "tokenizer = Tokenizer()\\\n",
    "  .setInputCols([\"sentence\"])\\\n",
    "  .setOutputCol(\"token\")\n",
    "\n",
    "bert_embeddings = BertEmbeddings.pretrained(\"biobert_pubmed_base_cased\")\\\n",
    "  .setInputCols([\"sentence\", \"token\"])\\\n",
    "  .setOutputCol(\"embeddings\")\n",
    "  \n",
    "ade_ner_bert = MedicalNerModel.pretrained(\"ner_ade_biobert\", \"en\", \"clinical/models\") \\\n",
    "  .setInputCols([\"sentence\", \"token\", \"embeddings\"]) \\\n",
    "  .setOutputCol(\"ner\")\n",
    "\n",
    "ner_converter = NerConverter() \\\n",
    "  .setInputCols([\"sentence\", \"token\", \"ner\"]) \\\n",
    "  .setOutputCol(\"ner_chunk\")\n",
    "\n",
    "ner_pipeline = Pipeline(stages=[\n",
    "    documentAssembler, \n",
    "    sentenceDetector,\n",
    "    tokenizer,\n",
    "    bert_embeddings,\n",
    "    ade_ner_bert,\n",
    "    ner_converter])\n",
    "\n",
    "empty_data = spark.createDataFrame([[\"\"]]).toDF(\"text\")\n",
    "\n",
    "ade_ner_model_bert = ner_pipeline.fit(empty_data)\n",
    "\n",
    "ade_ner_lp_bert = LightPipeline(ade_ner_model_bert)"
   ]
  },
  {
   "cell_type": "code",
   "execution_count": 0,
   "metadata": {
    "application/vnd.databricks.v1+cell": {
     "inputWidgets": {},
     "nuid": "86a5c41e-e1da-4688-a8a9-9e71b994a234",
     "showTitle": false,
     "title": ""
    }
   },
   "outputs": [
    {
     "data": {
      "text/html": [
       "<style scoped>\n",
       "  .ansiout {\n",
       "    display: block;\n",
       "    unicode-bidi: embed;\n",
       "    white-space: pre-wrap;\n",
       "    word-wrap: break-word;\n",
       "    word-break: break-all;\n",
       "    font-family: \"Source Code Pro\", \"Menlo\", monospace;;\n",
       "    font-size: 13px;\n",
       "    color: #555;\n",
       "    margin-left: 4px;\n",
       "    line-height: 19px;\n",
       "  }\n",
       "</style>\n",
       "<div class=\"ansiout\">Out[13]: </div>"
      ]
     },
     "metadata": {
      "application/vnd.databricks.v1+output": {
       "addedWidgets": {},
       "arguments": {},
       "data": "<div class=\"ansiout\">Out[13]: </div>",
       "datasetInfos": [],
       "removedWidgets": [],
       "type": "html"
      }
     },
     "output_type": "display_data"
    },
    {
     "data": {
      "text/html": [
       "<div>\n",
       "<style scoped>\n",
       "    .dataframe tbody tr th:only-of-type {\n",
       "        vertical-align: middle;\n",
       "    }\n",
       "\n",
       "    .dataframe tbody tr th {\n",
       "        vertical-align: top;\n",
       "    }\n",
       "\n",
       "    .dataframe thead th {\n",
       "        text-align: right;\n",
       "    }\n",
       "</style>\n",
       "<table border=\"1\" class=\"dataframe\">\n",
       "  <thead>\n",
       "    <tr style=\"text-align: right;\">\n",
       "      <th></th>\n",
       "      <th>chunks</th>\n",
       "      <th>entities</th>\n",
       "      <th>begin</th>\n",
       "      <th>end</th>\n",
       "    </tr>\n",
       "  </thead>\n",
       "  <tbody>\n",
       "    <tr>\n",
       "      <th>0</th>\n",
       "      <td>drowsy</td>\n",
       "      <td>ADE</td>\n",
       "      <td>13</td>\n",
       "      <td>18</td>\n",
       "    </tr>\n",
       "    <tr>\n",
       "      <th>1</th>\n",
       "      <td>blurred vision</td>\n",
       "      <td>ADE</td>\n",
       "      <td>36</td>\n",
       "      <td>49</td>\n",
       "    </tr>\n",
       "    <tr>\n",
       "      <th>2</th>\n",
       "      <td>gastric problems</td>\n",
       "      <td>ADE</td>\n",
       "      <td>62</td>\n",
       "      <td>77</td>\n",
       "    </tr>\n",
       "    <tr>\n",
       "      <th>3</th>\n",
       "      <td>Arthrotec</td>\n",
       "      <td>DRUG</td>\n",
       "      <td>95</td>\n",
       "      <td>103</td>\n",
       "    </tr>\n",
       "    <tr>\n",
       "      <th>4</th>\n",
       "      <td>gp's</td>\n",
       "      <td>DRUG</td>\n",
       "      <td>269</td>\n",
       "      <td>272</td>\n",
       "    </tr>\n",
       "    <tr>\n",
       "      <th>5</th>\n",
       "      <td>pains</td>\n",
       "      <td>ADE</td>\n",
       "      <td>413</td>\n",
       "      <td>417</td>\n",
       "    </tr>\n",
       "  </tbody>\n",
       "</table>\n",
       "</div>"
      ]
     },
     "metadata": {
      "application/vnd.databricks.v1+output": {
       "addedWidgets": {},
       "arguments": {},
       "data": "<div>\n<style scoped>\n    .dataframe tbody tr th:only-of-type {\n        vertical-align: middle;\n    }\n\n    .dataframe tbody tr th {\n        vertical-align: top;\n    }\n\n    .dataframe thead th {\n        text-align: right;\n    }\n</style>\n<table border=\"1\" class=\"dataframe\">\n  <thead>\n    <tr style=\"text-align: right;\">\n      <th></th>\n      <th>chunks</th>\n      <th>entities</th>\n      <th>begin</th>\n      <th>end</th>\n    </tr>\n  </thead>\n  <tbody>\n    <tr>\n      <th>0</th>\n      <td>drowsy</td>\n      <td>ADE</td>\n      <td>13</td>\n      <td>18</td>\n    </tr>\n    <tr>\n      <th>1</th>\n      <td>blurred vision</td>\n      <td>ADE</td>\n      <td>36</td>\n      <td>49</td>\n    </tr>\n    <tr>\n      <th>2</th>\n      <td>gastric problems</td>\n      <td>ADE</td>\n      <td>62</td>\n      <td>77</td>\n    </tr>\n    <tr>\n      <th>3</th>\n      <td>Arthrotec</td>\n      <td>DRUG</td>\n      <td>95</td>\n      <td>103</td>\n    </tr>\n    <tr>\n      <th>4</th>\n      <td>gp's</td>\n      <td>DRUG</td>\n      <td>269</td>\n      <td>272</td>\n    </tr>\n    <tr>\n      <th>5</th>\n      <td>pains</td>\n      <td>ADE</td>\n      <td>413</td>\n      <td>417</td>\n    </tr>\n  </tbody>\n</table>\n</div>",
       "datasetInfos": [],
       "removedWidgets": [],
       "textData": null,
       "type": "htmlSandbox"
      }
     },
     "output_type": "display_data"
    }
   ],
   "source": [
    "light_result = ade_ner_lp_bert.fullAnnotate(\"I feel a bit drowsy & have a little blurred vision, so far no gastric problems. I have been on Arthrotec 50 for over 10 years on and off, only taking it when I needed it. Due to my arthritis getting progressively worse, to the point where I am in tears with the agony, gp's started me on 75 twice a day and I have to take it every day for the next month to see how I get on, here goes. So far its been very good, pains almost gone, but I feel a bit weird, didn't have that when on 50.\")\n",
    "\n",
    "chunks = []\n",
    "entities = []\n",
    "begin =[]\n",
    "end = []\n",
    "\n",
    "for n in light_result[0]['ner_chunk']:\n",
    "\n",
    "    begin.append(n.begin)\n",
    "    end.append(n.end)\n",
    "    chunks.append(n.result)\n",
    "    entities.append(n.metadata['entity']) \n",
    "\n",
    "import pandas as pd\n",
    "\n",
    "df = pd.DataFrame({'chunks':chunks, 'entities':entities,\n",
    "                    'begin': begin, 'end': end})\n",
    "\n",
    "df"
   ]
  },
  {
   "cell_type": "markdown",
   "metadata": {
    "application/vnd.databricks.v1+cell": {
     "inputWidgets": {},
     "nuid": "bc810707-fb68-4d52-9e73-bff31161c3da",
     "showTitle": false,
     "title": ""
    }
   },
   "source": [
    "Looks like Bert version of NER returns more entities than clinical embeddings version."
   ]
  },
  {
   "cell_type": "markdown",
   "metadata": {
    "application/vnd.databricks.v1+cell": {
     "inputWidgets": {},
     "nuid": "c02483c8-a13c-4477-89e8-a1f7588aa95d",
     "showTitle": false,
     "title": ""
    }
   },
   "source": [
    "## NER and Classifier combined with AssertionDL Model"
   ]
  },
  {
   "cell_type": "code",
   "execution_count": 0,
   "metadata": {
    "application/vnd.databricks.v1+cell": {
     "inputWidgets": {},
     "nuid": "1f21d55a-f774-4b04-8a9f-2fb02d95bf70",
     "showTitle": false,
     "title": ""
    }
   },
   "outputs": [
    {
     "data": {
      "text/html": [
       "<style scoped>\n",
       "  .ansiout {\n",
       "    display: block;\n",
       "    unicode-bidi: embed;\n",
       "    white-space: pre-wrap;\n",
       "    word-wrap: break-word;\n",
       "    word-break: break-all;\n",
       "    font-family: \"Source Code Pro\", \"Menlo\", monospace;;\n",
       "    font-size: 13px;\n",
       "    color: #555;\n",
       "    margin-left: 4px;\n",
       "    line-height: 19px;\n",
       "  }\n",
       "</style>\n",
       "<div class=\"ansiout\">assertion_dl_biobert download started this may take some time.\n",
       "Approximate size to download 3 MB\n",
       "\r",
       "[ | ]\r",
       "[ / ]\r",
       "[OK!]\n",
       "</div>"
      ]
     },
     "metadata": {
      "application/vnd.databricks.v1+output": {
       "addedWidgets": {},
       "arguments": {},
       "data": "<div class=\"ansiout\">assertion_dl_biobert download started this may take some time.\nApproximate size to download 3 MB\n\r[ | ]\r[ / ]\r[OK!]\n</div>",
       "datasetInfos": [],
       "removedWidgets": [],
       "type": "html"
      }
     },
     "output_type": "display_data"
    }
   ],
   "source": [
    "assertion_ner_converter = NerConverter() \\\n",
    "    .setInputCols([\"sentence\", \"token\", \"ner\"]) \\\n",
    "    .setOutputCol(\"ass_ner_chunk\")\\\n",
    "    .setWhiteList(['ADE'])\n",
    "\n",
    "biobert_assertion = AssertionDLModel.pretrained(\"assertion_dl_biobert\", \"en\", \"clinical/models\") \\\n",
    "    .setInputCols([\"sentence\", \"ass_ner_chunk\", \"embeddings\"]) \\\n",
    "    .setOutputCol(\"assertion\")\n",
    "\n",
    "assertion_ner_pipeline = Pipeline(stages=[\n",
    "    documentAssembler, \n",
    "    sentenceDetector,\n",
    "    tokenizer,\n",
    "    bert_embeddings,\n",
    "    ade_ner_bert,\n",
    "    ner_converter,\n",
    "    assertion_ner_converter,\n",
    "    biobert_assertion])\n",
    "\n",
    "empty_data = spark.createDataFrame([[\"\"]]).toDF(\"text\")\n",
    "\n",
    "ade_ass_ner_model_bert = assertion_ner_pipeline.fit(empty_data)\n",
    "\n",
    "ade_ass_ner_model_lp_bert = LightPipeline(ade_ass_ner_model_bert)"
   ]
  },
  {
   "cell_type": "code",
   "execution_count": 0,
   "metadata": {
    "application/vnd.databricks.v1+cell": {
     "inputWidgets": {},
     "nuid": "7de38120-0713-4e16-b798-3d2934cba0c8",
     "showTitle": false,
     "title": ""
    }
   },
   "outputs": [
    {
     "data": {
      "text/html": [
       "<style scoped>\n",
       "  .ansiout {\n",
       "    display: block;\n",
       "    unicode-bidi: embed;\n",
       "    white-space: pre-wrap;\n",
       "    word-wrap: break-word;\n",
       "    word-break: break-all;\n",
       "    font-family: \"Source Code Pro\", \"Menlo\", monospace;;\n",
       "    font-size: 13px;\n",
       "    color: #555;\n",
       "    margin-left: 4px;\n",
       "    line-height: 19px;\n",
       "  }\n",
       "</style>\n",
       "<div class=\"ansiout\">I feel a bit drowsy &amp; have a little blurred vision, so far no gastric problems. I have been on Arthrotec 50 for over 10 years on and off, only taking it when I needed it. Due to my arthritis getting progressively worse, to the point where I am in tears with the agony, gp&#39;s started me on 75 twice a day and I have to take it every day for the next month to see how I get on, here goes. So far its been very good, pains almost gone, but I feel a bit weird, didn&#39;t have that when on 50.\n",
       "Out[15]: </div>"
      ]
     },
     "metadata": {
      "application/vnd.databricks.v1+output": {
       "addedWidgets": {},
       "arguments": {},
       "data": "<div class=\"ansiout\">I feel a bit drowsy &amp; have a little blurred vision, so far no gastric problems. I have been on Arthrotec 50 for over 10 years on and off, only taking it when I needed it. Due to my arthritis getting progressively worse, to the point where I am in tears with the agony, gp&#39;s started me on 75 twice a day and I have to take it every day for the next month to see how I get on, here goes. So far its been very good, pains almost gone, but I feel a bit weird, didn&#39;t have that when on 50.\nOut[15]: </div>",
       "datasetInfos": [],
       "removedWidgets": [],
       "type": "html"
      }
     },
     "output_type": "display_data"
    },
    {
     "data": {
      "text/html": [
       "<div>\n",
       "<style scoped>\n",
       "    .dataframe tbody tr th:only-of-type {\n",
       "        vertical-align: middle;\n",
       "    }\n",
       "\n",
       "    .dataframe tbody tr th {\n",
       "        vertical-align: top;\n",
       "    }\n",
       "\n",
       "    .dataframe thead th {\n",
       "        text-align: right;\n",
       "    }\n",
       "</style>\n",
       "<table border=\"1\" class=\"dataframe\">\n",
       "  <thead>\n",
       "    <tr style=\"text-align: right;\">\n",
       "      <th></th>\n",
       "      <th>chunks</th>\n",
       "      <th>entities</th>\n",
       "      <th>assertion</th>\n",
       "    </tr>\n",
       "  </thead>\n",
       "  <tbody>\n",
       "    <tr>\n",
       "      <th>0</th>\n",
       "      <td>drowsy</td>\n",
       "      <td>ADE</td>\n",
       "      <td>present</td>\n",
       "    </tr>\n",
       "    <tr>\n",
       "      <th>1</th>\n",
       "      <td>blurred vision</td>\n",
       "      <td>ADE</td>\n",
       "      <td>present</td>\n",
       "    </tr>\n",
       "    <tr>\n",
       "      <th>2</th>\n",
       "      <td>gastric problems</td>\n",
       "      <td>ADE</td>\n",
       "      <td>absent</td>\n",
       "    </tr>\n",
       "    <tr>\n",
       "      <th>3</th>\n",
       "      <td>pains</td>\n",
       "      <td>ADE</td>\n",
       "      <td>present</td>\n",
       "    </tr>\n",
       "  </tbody>\n",
       "</table>\n",
       "</div>"
      ]
     },
     "metadata": {
      "application/vnd.databricks.v1+output": {
       "addedWidgets": {},
       "arguments": {},
       "data": "<div>\n<style scoped>\n    .dataframe tbody tr th:only-of-type {\n        vertical-align: middle;\n    }\n\n    .dataframe tbody tr th {\n        vertical-align: top;\n    }\n\n    .dataframe thead th {\n        text-align: right;\n    }\n</style>\n<table border=\"1\" class=\"dataframe\">\n  <thead>\n    <tr style=\"text-align: right;\">\n      <th></th>\n      <th>chunks</th>\n      <th>entities</th>\n      <th>assertion</th>\n    </tr>\n  </thead>\n  <tbody>\n    <tr>\n      <th>0</th>\n      <td>drowsy</td>\n      <td>ADE</td>\n      <td>present</td>\n    </tr>\n    <tr>\n      <th>1</th>\n      <td>blurred vision</td>\n      <td>ADE</td>\n      <td>present</td>\n    </tr>\n    <tr>\n      <th>2</th>\n      <td>gastric problems</td>\n      <td>ADE</td>\n      <td>absent</td>\n    </tr>\n    <tr>\n      <th>3</th>\n      <td>pains</td>\n      <td>ADE</td>\n      <td>present</td>\n    </tr>\n  </tbody>\n</table>\n</div>",
       "datasetInfos": [],
       "removedWidgets": [],
       "textData": null,
       "type": "htmlSandbox"
      }
     },
     "output_type": "display_data"
    }
   ],
   "source": [
    "import pandas as pd\n",
    "text = \"I feel a bit drowsy & have a little blurred vision, so far no gastric problems. I have been on Arthrotec 50 for over 10 years on and off, only taking it when I needed it. Due to my arthritis getting progressively worse, to the point where I am in tears with the agony, gp's started me on 75 twice a day and I have to take it every day for the next month to see how I get on, here goes. So far its been very good, pains almost gone, but I feel a bit weird, didn't have that when on 50.\"\n",
    "\n",
    "print (text)\n",
    "\n",
    "light_result = ade_ass_ner_model_lp_bert.fullAnnotate(text)[0]\n",
    "\n",
    "chunks=[]\n",
    "entities=[]\n",
    "status=[]\n",
    "\n",
    "for n,m in zip(light_result['ass_ner_chunk'],light_result['assertion']):\n",
    "    \n",
    "    chunks.append(n.result)\n",
    "    entities.append(n.metadata['entity']) \n",
    "    status.append(m.result)\n",
    "        \n",
    "df = pd.DataFrame({'chunks':chunks, 'entities':entities, 'assertion':status})\n",
    "\n",
    "df"
   ]
  },
  {
   "cell_type": "markdown",
   "metadata": {
    "application/vnd.databricks.v1+cell": {
     "inputWidgets": {},
     "nuid": "2364f258-a02e-4344-8342-b5653362d0f9",
     "showTitle": false,
     "title": ""
    }
   },
   "source": [
    "Looks great ! `gastric problems` is detected as `ADE` and `absent`"
   ]
  },
  {
   "cell_type": "markdown",
   "metadata": {
    "application/vnd.databricks.v1+cell": {
     "inputWidgets": {},
     "nuid": "389c3e59-f80b-4750-acb3-c1928ecda2d3",
     "showTitle": false,
     "title": ""
    }
   },
   "source": [
    "## ADE models applied to Spark Dataframes"
   ]
  },
  {
   "cell_type": "code",
   "execution_count": 0,
   "metadata": {
    "application/vnd.databricks.v1+cell": {
     "inputWidgets": {},
     "nuid": "a5cb4656-db3a-4298-8048-8c40fe248d69",
     "showTitle": false,
     "title": ""
    }
   },
   "outputs": [
    {
     "data": {
      "text/html": [
       "<style scoped>\n",
       "  .ansiout {\n",
       "    display: block;\n",
       "    unicode-bidi: embed;\n",
       "    white-space: pre-wrap;\n",
       "    word-wrap: break-word;\n",
       "    word-break: break-all;\n",
       "    font-family: \"Source Code Pro\", \"Menlo\", monospace;;\n",
       "    font-size: 13px;\n",
       "    color: #555;\n",
       "    margin-left: 4px;\n",
       "    line-height: 19px;\n",
       "  }\n",
       "</style>\n",
       "<div class=\"ansiout\">Out[16]: True</div>"
      ]
     },
     "metadata": {
      "application/vnd.databricks.v1+output": {
       "addedWidgets": {},
       "arguments": {},
       "data": "<div class=\"ansiout\">Out[16]: True</div>",
       "datasetInfos": [],
       "removedWidgets": [],
       "type": "html"
      }
     },
     "output_type": "display_data"
    }
   ],
   "source": [
    "import pyspark.sql.functions as F\n",
    "\n",
    "! wget -q\thttps://raw.githubusercontent.com/JohnSnowLabs/spark-nlp-workshop/master/tutorials/Certification_Trainings/Healthcare/data/sample_ADE_dataset.csv\n",
    "\n",
    "dbutils.fs.cp(\"file:/databricks/driver/sample_ADE_dataset.csv\", \"dbfs:/\")"
   ]
  },
  {
   "cell_type": "code",
   "execution_count": 0,
   "metadata": {
    "application/vnd.databricks.v1+cell": {
     "inputWidgets": {},
     "nuid": "3ec6e355-1589-44e2-849c-185815d577fd",
     "showTitle": false,
     "title": ""
    }
   },
   "outputs": [
    {
     "data": {
      "text/html": [
       "<style scoped>\n",
       "  .ansiout {\n",
       "    display: block;\n",
       "    unicode-bidi: embed;\n",
       "    white-space: pre-wrap;\n",
       "    word-wrap: break-word;\n",
       "    word-break: break-all;\n",
       "    font-family: \"Source Code Pro\", \"Menlo\", monospace;;\n",
       "    font-size: 13px;\n",
       "    color: #555;\n",
       "    margin-left: 4px;\n",
       "    line-height: 19px;\n",
       "  }\n",
       "</style>\n",
       "<div class=\"ansiout\">total 40\n",
       "drwxr-xr-x 1 root root 4096 May  3 14:01 .\n",
       "drwxr-xr-x 1 root root 4096 May  3 13:25 ..\n",
       "drwxr-xr-x 2 root root 4096 Jan  1  1970 conf\n",
       "drwxr-xr-x 3 root root 4096 May  3 13:25 eventlogs\n",
       "drwxr-xr-x 2 root root 4096 May  3 14:00 ganglia\n",
       "drwxr-xr-x 2 root root 4096 May  3 14:00 logs\n",
       "-rw-r--r-- 1 root root 9434 May  3 14:01 sample_ADE_dataset.csv\n",
       "/databricks/driver\n",
       "</div>"
      ]
     },
     "metadata": {
      "application/vnd.databricks.v1+output": {
       "addedWidgets": {},
       "arguments": {},
       "data": "<div class=\"ansiout\">total 40\ndrwxr-xr-x 1 root root 4096 May  3 14:01 .\ndrwxr-xr-x 1 root root 4096 May  3 13:25 ..\ndrwxr-xr-x 2 root root 4096 Jan  1  1970 conf\ndrwxr-xr-x 3 root root 4096 May  3 13:25 eventlogs\ndrwxr-xr-x 2 root root 4096 May  3 14:00 ganglia\ndrwxr-xr-x 2 root root 4096 May  3 14:00 logs\n-rw-r--r-- 1 root root 9434 May  3 14:01 sample_ADE_dataset.csv\n/databricks/driver\n</div>",
       "datasetInfos": [],
       "removedWidgets": [],
       "type": "html"
      }
     },
     "output_type": "display_data"
    }
   ],
   "source": [
    "%sh cd /databricks/driver && ls -la && pwd"
   ]
  },
  {
   "cell_type": "code",
   "execution_count": 0,
   "metadata": {
    "application/vnd.databricks.v1+cell": {
     "inputWidgets": {},
     "nuid": "c21baf60-3012-4191-ab72-dcaa45dd69d3",
     "showTitle": false,
     "title": ""
    }
   },
   "outputs": [
    {
     "data": {
      "text/html": [
       "<style scoped>\n",
       "  .ansiout {\n",
       "    display: block;\n",
       "    unicode-bidi: embed;\n",
       "    white-space: pre-wrap;\n",
       "    word-wrap: break-word;\n",
       "    word-break: break-all;\n",
       "    font-family: \"Source Code Pro\", \"Menlo\", monospace;;\n",
       "    font-size: 13px;\n",
       "    color: #555;\n",
       "    margin-left: 4px;\n",
       "    line-height: 19px;\n",
       "  }\n",
       "</style>\n",
       "<div class=\"ansiout\">+--------------------------------------------------+-----+\n",
       "                                              text|label|\n",
       "+--------------------------------------------------+-----+\n",
       "Do U know what Meds are R for bipolar depressio...|False|\n",
       "# hypercholesterol: Because of elevated CKs (pe...| True|\n",
       "Her weight, respirtory status and I/O should be...|False|\n",
       "* DM - Pt had several episodes of hypoglycemia ...| True|\n",
       "We report the case of a female acromegalic pati...| True|\n",
       "2 . Calcipotriene 0.005% Cream Sig: One (1) App...|False|\n",
       "Always tired, and possible blood clots. I was o...| True|\n",
       "A difference in chemical structure between thes...|False|\n",
       "10 . She was left on prednisone 20mg qd due to ...|False|\n",
       "The authors suggest that risperidone may increa...| True|\n",
       "- Per oral maxillofacial surgery there is no ev...|False|\n",
       "@marionjross Cipro is just as bad! Stay away fr...|False|\n",
       "A young woman with epilepsy had tonic-clonic se...| True|\n",
       "Intravenous methotrexate is an effective adjunc...|False|\n",
       "PURPOSE: To report new indocyanine green angiog...|False|\n",
       "2 . Docusate Sodium 50 mg/5 mL Liquid [**Hospit...|False|\n",
       "                                consider neupogen.|False|\n",
       "He was treated allopurinol and Rasburicase for ...|False|\n",
       "Toxicity, pharmacokinetics, and in vitro hemodi...| True|\n",
       "# thrombocytopenia: Secondary to chemotherapy a...| True|\n",
       "+--------------------------------------------------+-----+\n",
       "only showing top 20 rows\n",
       "\n",
       "</div>"
      ]
     },
     "metadata": {
      "application/vnd.databricks.v1+output": {
       "addedWidgets": {},
       "arguments": {},
       "data": "<div class=\"ansiout\">+--------------------------------------------------+-----+\n|                                              text|label|\n+--------------------------------------------------+-----+\n|Do U know what Meds are R for bipolar depressio...|False|\n|# hypercholesterol: Because of elevated CKs (pe...| True|\n|Her weight, respirtory status and I/O should be...|False|\n|* DM - Pt had several episodes of hypoglycemia ...| True|\n|We report the case of a female acromegalic pati...| True|\n|2 . Calcipotriene 0.005% Cream Sig: One (1) App...|False|\n|Always tired, and possible blood clots. I was o...| True|\n|A difference in chemical structure between thes...|False|\n|10 . She was left on prednisone 20mg qd due to ...|False|\n|The authors suggest that risperidone may increa...| True|\n|- Per oral maxillofacial surgery there is no ev...|False|\n|@marionjross Cipro is just as bad! Stay away fr...|False|\n|A young woman with epilepsy had tonic-clonic se...| True|\n|Intravenous methotrexate is an effective adjunc...|False|\n|PURPOSE: To report new indocyanine green angiog...|False|\n|2 . Docusate Sodium 50 mg/5 mL Liquid [**Hospit...|False|\n|                                consider neupogen.|False|\n|He was treated allopurinol and Rasburicase for ...|False|\n|Toxicity, pharmacokinetics, and in vitro hemodi...| True|\n|# thrombocytopenia: Secondary to chemotherapy a...| True|\n+--------------------------------------------------+-----+\nonly showing top 20 rows\n\n</div>",
       "datasetInfos": [],
       "removedWidgets": [],
       "type": "html"
      }
     },
     "output_type": "display_data"
    }
   ],
   "source": [
    "ade_DF = spark.read\\\n",
    "                .option(\"header\", \"true\")\\\n",
    "                .csv(\"/sample_ADE_dataset.csv\")\\\n",
    "                .filter(F.col(\"label\").isin(['True','False']))\n",
    "\n",
    "ade_DF.show(truncate=50)"
   ]
  },
  {
   "cell_type": "markdown",
   "metadata": {
    "application/vnd.databricks.v1+cell": {
     "inputWidgets": {},
     "nuid": "f8faac37-f78b-4568-872c-210a7289b33c",
     "showTitle": false,
     "title": ""
    }
   },
   "source": [
    "**With BioBert version of NER** (will be slower but more accurate)"
   ]
  },
  {
   "cell_type": "code",
   "execution_count": 0,
   "metadata": {
    "application/vnd.databricks.v1+cell": {
     "inputWidgets": {},
     "nuid": "86529b0f-951e-4fb3-a71d-12fa39c7ecb4",
     "showTitle": false,
     "title": ""
    }
   },
   "outputs": [
    {
     "data": {
      "text/html": [
       "<style scoped>\n",
       "  .ansiout {\n",
       "    display: block;\n",
       "    unicode-bidi: embed;\n",
       "    white-space: pre-wrap;\n",
       "    word-wrap: break-word;\n",
       "    word-break: break-all;\n",
       "    font-family: \"Source Code Pro\", \"Menlo\", monospace;;\n",
       "    font-size: 13px;\n",
       "    color: #555;\n",
       "    margin-left: 4px;\n",
       "    line-height: 19px;\n",
       "  }\n",
       "</style>\n",
       "<div class=\"ansiout\"></div>"
      ]
     },
     "metadata": {
      "application/vnd.databricks.v1+output": {
       "addedWidgets": {},
       "arguments": {},
       "data": "<div class=\"ansiout\"></div>",
       "datasetInfos": [],
       "removedWidgets": [],
       "type": "html"
      }
     },
     "output_type": "display_data"
    }
   ],
   "source": [
    "import pyspark.sql.functions as F\n",
    "\n",
    "ner_converter = NerConverter() \\\n",
    "  .setInputCols([\"sentence\", \"token\", \"ner\"]) \\\n",
    "  .setOutputCol(\"ner_chunk\")\\\n",
    "  .setWhiteList(['ADE'])\n",
    "\n",
    "ner_pipeline = Pipeline(stages=[\n",
    "    documentAssembler, \n",
    "    sentenceDetector,\n",
    "    tokenizer,\n",
    "    bert_embeddings,\n",
    "    ade_ner_bert,\n",
    "    ner_converter])\n",
    "\n",
    "\n",
    "empty_data = spark.createDataFrame([[\"\"]]).toDF(\"text\")\n",
    "\n",
    "ade_ner_model = ner_pipeline.fit(empty_data)\n",
    "\n",
    "result = ade_ner_model.transform(ade_DF)\n",
    "\n",
    "sample_df = result.select('text','ner_chunk.result')\\\n",
    "                  .toDF('text','ADE_phrases').filter(F.size('ADE_phrases')>0).toPandas()"
   ]
  },
  {
   "cell_type": "code",
   "execution_count": 0,
   "metadata": {
    "application/vnd.databricks.v1+cell": {
     "inputWidgets": {},
     "nuid": "16762a91-1afc-48ea-b36b-348ec5ee4c2b",
     "showTitle": false,
     "title": ""
    }
   },
   "outputs": [
    {
     "data": {
      "text/html": [
       "<style scoped>\n",
       "  .ansiout {\n",
       "    display: block;\n",
       "    unicode-bidi: embed;\n",
       "    white-space: pre-wrap;\n",
       "    word-wrap: break-word;\n",
       "    word-break: break-all;\n",
       "    font-family: \"Source Code Pro\", \"Menlo\", monospace;;\n",
       "    font-size: 13px;\n",
       "    color: #555;\n",
       "    margin-left: 4px;\n",
       "    line-height: 19px;\n",
       "  }\n",
       "</style>\n",
       "<div class=\"ansiout\"></div>"
      ]
     },
     "metadata": {
      "application/vnd.databricks.v1+output": {
       "addedWidgets": {},
       "arguments": {},
       "data": "<div class=\"ansiout\"></div>",
       "datasetInfos": [],
       "removedWidgets": [],
       "type": "html"
      }
     },
     "output_type": "display_data"
    }
   ],
   "source": [
    "import pandas as pd\n",
    "pd.set_option('display.max_colwidth', 0)"
   ]
  },
  {
   "cell_type": "code",
   "execution_count": 0,
   "metadata": {
    "application/vnd.databricks.v1+cell": {
     "inputWidgets": {},
     "nuid": "a4ee82db-8129-4bdd-af42-b2f1db35c4fc",
     "showTitle": false,
     "title": ""
    }
   },
   "outputs": [
    {
     "data": {
      "text/html": [
       "<style scoped>\n",
       "  .ansiout {\n",
       "    display: block;\n",
       "    unicode-bidi: embed;\n",
       "    white-space: pre-wrap;\n",
       "    word-wrap: break-word;\n",
       "    word-break: break-all;\n",
       "    font-family: \"Source Code Pro\", \"Menlo\", monospace;;\n",
       "    font-size: 13px;\n",
       "    color: #555;\n",
       "    margin-left: 4px;\n",
       "    line-height: 19px;\n",
       "  }\n",
       "</style>\n",
       "<div class=\"ansiout\">Out[22]: </div>"
      ]
     },
     "metadata": {
      "application/vnd.databricks.v1+output": {
       "addedWidgets": {},
       "arguments": {},
       "data": "<div class=\"ansiout\">Out[22]: </div>",
       "datasetInfos": [],
       "removedWidgets": [],
       "type": "html"
      }
     },
     "output_type": "display_data"
    },
    {
     "data": {
      "text/html": [
       "<div>\n",
       "<style scoped>\n",
       "    .dataframe tbody tr th:only-of-type {\n",
       "        vertical-align: middle;\n",
       "    }\n",
       "\n",
       "    .dataframe tbody tr th {\n",
       "        vertical-align: top;\n",
       "    }\n",
       "\n",
       "    .dataframe thead th {\n",
       "        text-align: right;\n",
       "    }\n",
       "</style>\n",
       "<table border=\"1\" class=\"dataframe\">\n",
       "  <thead>\n",
       "    <tr style=\"text-align: right;\">\n",
       "      <th></th>\n",
       "      <th>text</th>\n",
       "      <th>ADE_phrases</th>\n",
       "    </tr>\n",
       "  </thead>\n",
       "  <tbody>\n",
       "    <tr>\n",
       "      <th>1</th>\n",
       "      <td>* DM - Pt had several episodes of hypoglycemia on lantus due to decreasing oral intake.</td>\n",
       "      <td>[hypoglycemia]</td>\n",
       "    </tr>\n",
       "    <tr>\n",
       "      <th>19</th>\n",
       "      <td>Therefore, parenteral amiodarone was implicated as the cause of acute hepatitis in this patient.</td>\n",
       "      <td>[acute hepatitis]</td>\n",
       "    </tr>\n",
       "    <tr>\n",
       "      <th>12</th>\n",
       "      <td>Effexor side effects; headaches, no appetite.</td>\n",
       "      <td>[Effexor side effects, headaches, no appetite]</td>\n",
       "    </tr>\n",
       "    <tr>\n",
       "      <th>5</th>\n",
       "      <td>A young woman with epilepsy had tonic-clonic seizures during antineoplastic therapy with adriamycin and cisplatin.</td>\n",
       "      <td>[tonic-clonic seizures]</td>\n",
       "    </tr>\n",
       "    <tr>\n",
       "      <th>21</th>\n",
       "      <td>2 years with no problems, then toe neuropathy for two years now and other foot problems because of this I assume. I stopped Lipitor after taking it for 2 years and toe neuropathy started. I also had stomach problems and pain. After stopping Lipitor, I thought my heart would jump out of my chest, but now stomach and heart are both OK - Feet are terrible thanks to Lipitor. I know many others that have had problems with Lipitor - feet and legs - and had to stop. All my blood test were normal. I weigh 114 and 5'2 . Hike, play golf and keep busy. It is a terrible drug and should be off the market.</td>\n",
       "      <td>[toe neuropathy, foot problems, toe neuropathy, stomach problems, pain]</td>\n",
       "    </tr>\n",
       "    <tr>\n",
       "      <th>6</th>\n",
       "      <td>Intravenous methotrexate is an effective adjunct to steroid therapy in the treatment of steroid-resistant or life-threatening dermatomyositis-polyositis or dermatomyositis-polymyositis complicated by severe steroid-related effects.</td>\n",
       "      <td>[life-threatening dermatomyositis-polyositis, dermatomyositis-polymyositis]</td>\n",
       "    </tr>\n",
       "    <tr>\n",
       "      <th>14</th>\n",
       "      <td>A transient tonic pupillary response, denervation supersensitivity, and abnormal visual-evoked potentials in quinine toxicity, to our knowledge, have not been previously reported.</td>\n",
       "      <td>[transient tonic pupillary response, denervation supersensitivity, abnormal visual-evoked potentials]</td>\n",
       "    </tr>\n",
       "    <tr>\n",
       "      <th>22</th>\n",
       "      <td>Immunoglobulin G subclass 2 and 3 deficiencies were the only serologically detectable abnormalities.</td>\n",
       "      <td>[Immunoglobulin G subclass 2 and 3 deficiencies, serologically detectable abnormalities]</td>\n",
       "    </tr>\n",
       "    <tr>\n",
       "      <th>13</th>\n",
       "      <td>Hypokalemia after normal doses of neubulized albuterol (salbutamol).</td>\n",
       "      <td>[Hypokalemia]</td>\n",
       "    </tr>\n",
       "    <tr>\n",
       "      <th>0</th>\n",
       "      <td># hypercholesterol: Because of elevated CKs (peaked at 819) the patient's Simvastatin was discontinued.</td>\n",
       "      <td>[elevated CKs]</td>\n",
       "    </tr>\n",
       "    <tr>\n",
       "      <th>7</th>\n",
       "      <td>PURPOSE: To report new indocyanine green angiographic (ICGA) findings after intravitreal bevacizumab (IVB) for myopic choroidal neovascularization (mCNV).</td>\n",
       "      <td>[indocyanine green angiographic]</td>\n",
       "    </tr>\n",
       "    <tr>\n",
       "      <th>3</th>\n",
       "      <td>Always tired, and possible blood clots. I was on Voltaren for about 4 years and all of the sudden had a minor stroke and had blood clots that traveled to my eye. I had every test in the book done at the hospital, and they couldnt find anything. I was completley healthy! I am thinking it was from the voltaren. I have been off of the drug for 8 months now, and have never felt better. I started eating healthy and working out and that has help alot. I can now sleep all thru the night. I wont take this again. If I have the back pain, I will pop a tylonol instead.</td>\n",
       "      <td>[tired, blood clots, stroke, blood clots that traveled to my eye, completley healthy]</td>\n",
       "    </tr>\n",
       "    <tr>\n",
       "      <th>25</th>\n",
       "      <td>However, re-initiation of sunitinib treatment was followed by bilateral breast enlargement again.</td>\n",
       "      <td>[bilateral breast enlargement]</td>\n",
       "    </tr>\n",
       "    <tr>\n",
       "      <th>23</th>\n",
       "      <td>The authors report a case of mania occurring in a woman in late life who had begun receiving hormone replacement therapy for osteoporosis.</td>\n",
       "      <td>[mania]</td>\n",
       "    </tr>\n",
       "    <tr>\n",
       "      <th>16</th>\n",
       "      <td>Electrocardiographic findings and laboratory data indicated a diagnosis of acute myocardial infarction due to the L-thyroxine therapy.</td>\n",
       "      <td>[acute myocardial infarction]</td>\n",
       "    </tr>\n",
       "    <tr>\n",
       "      <th>17</th>\n",
       "      <td>Hepatic reactions to cyclofenil.</td>\n",
       "      <td>[Hepatic reactions]</td>\n",
       "    </tr>\n",
       "    <tr>\n",
       "      <th>10</th>\n",
       "      <td>A fatal massive pulmonary embolus developed in a patient treated with streptokinase for acute deep vein thrombosis.</td>\n",
       "      <td>[fatal massive pulmonary embolus]</td>\n",
       "    </tr>\n",
       "    <tr>\n",
       "      <th>24</th>\n",
       "      <td>Fatal hypoglycemia after cytotoxic chemotherapy: a report of two cases and a review of the literature.</td>\n",
       "      <td>[Fatal hypoglycemia]</td>\n",
       "    </tr>\n",
       "    <tr>\n",
       "      <th>27</th>\n",
       "      <td>Succinylcholine-induced hyperkalemia in a patient with mucositis secondary to chemotherapy.</td>\n",
       "      <td>[hyperkalemia]</td>\n",
       "    </tr>\n",
       "    <tr>\n",
       "      <th>26</th>\n",
       "      <td>With itraconazole, hepatotoxic reactions have only very rarely been reported, and histologic data are lacking.</td>\n",
       "      <td>[hepatotoxic reactions]</td>\n",
       "    </tr>\n",
       "  </tbody>\n",
       "</table>\n",
       "</div>"
      ]
     },
     "metadata": {
      "application/vnd.databricks.v1+output": {
       "addedWidgets": {},
       "arguments": {},
       "data": "<div>\n<style scoped>\n    .dataframe tbody tr th:only-of-type {\n        vertical-align: middle;\n    }\n\n    .dataframe tbody tr th {\n        vertical-align: top;\n    }\n\n    .dataframe thead th {\n        text-align: right;\n    }\n</style>\n<table border=\"1\" class=\"dataframe\">\n  <thead>\n    <tr style=\"text-align: right;\">\n      <th></th>\n      <th>text</th>\n      <th>ADE_phrases</th>\n    </tr>\n  </thead>\n  <tbody>\n    <tr>\n      <th>1</th>\n      <td>* DM - Pt had several episodes of hypoglycemia on lantus due to decreasing oral intake.</td>\n      <td>[hypoglycemia]</td>\n    </tr>\n    <tr>\n      <th>19</th>\n      <td>Therefore, parenteral amiodarone was implicated as the cause of acute hepatitis in this patient.</td>\n      <td>[acute hepatitis]</td>\n    </tr>\n    <tr>\n      <th>12</th>\n      <td>Effexor side effects; headaches, no appetite.</td>\n      <td>[Effexor side effects, headaches, no appetite]</td>\n    </tr>\n    <tr>\n      <th>5</th>\n      <td>A young woman with epilepsy had tonic-clonic seizures during antineoplastic therapy with adriamycin and cisplatin.</td>\n      <td>[tonic-clonic seizures]</td>\n    </tr>\n    <tr>\n      <th>21</th>\n      <td>2 years with no problems, then toe neuropathy for two years now and other foot problems because of this I assume. I stopped Lipitor after taking it for 2 years and toe neuropathy started. I also had stomach problems and pain. After stopping Lipitor, I thought my heart would jump out of my chest, but now stomach and heart are both OK - Feet are terrible thanks to Lipitor. I know many others that have had problems with Lipitor - feet and legs - and had to stop. All my blood test were normal. I weigh 114 and 5'2 . Hike, play golf and keep busy. It is a terrible drug and should be off the market.</td>\n      <td>[toe neuropathy, foot problems, toe neuropathy, stomach problems, pain]</td>\n    </tr>\n    <tr>\n      <th>6</th>\n      <td>Intravenous methotrexate is an effective adjunct to steroid therapy in the treatment of steroid-resistant or life-threatening dermatomyositis-polyositis or dermatomyositis-polymyositis complicated by severe steroid-related effects.</td>\n      <td>[life-threatening dermatomyositis-polyositis, dermatomyositis-polymyositis]</td>\n    </tr>\n    <tr>\n      <th>14</th>\n      <td>A transient tonic pupillary response, denervation supersensitivity, and abnormal visual-evoked potentials in quinine toxicity, to our knowledge, have not been previously reported.</td>\n      <td>[transient tonic pupillary response, denervation supersensitivity, abnormal visual-evoked potentials]</td>\n    </tr>\n    <tr>\n      <th>22</th>\n      <td>Immunoglobulin G subclass 2 and 3 deficiencies were the only serologically detectable abnormalities.</td>\n      <td>[Immunoglobulin G subclass 2 and 3 deficiencies, serologically detectable abnormalities]</td>\n    </tr>\n    <tr>\n      <th>13</th>\n      <td>Hypokalemia after normal doses of neubulized albuterol (salbutamol).</td>\n      <td>[Hypokalemia]</td>\n    </tr>\n    <tr>\n      <th>0</th>\n      <td># hypercholesterol: Because of elevated CKs (peaked at 819) the patient's Simvastatin was discontinued.</td>\n      <td>[elevated CKs]</td>\n    </tr>\n    <tr>\n      <th>7</th>\n      <td>PURPOSE: To report new indocyanine green angiographic (ICGA) findings after intravitreal bevacizumab (IVB) for myopic choroidal neovascularization (mCNV).</td>\n      <td>[indocyanine green angiographic]</td>\n    </tr>\n    <tr>\n      <th>3</th>\n      <td>Always tired, and possible blood clots. I was on Voltaren for about 4 years and all of the sudden had a minor stroke and had blood clots that traveled to my eye. I had every test in the book done at the hospital, and they couldnt find anything. I was completley healthy! I am thinking it was from the voltaren. I have been off of the drug for 8 months now, and have never felt better. I started eating healthy and working out and that has help alot. I can now sleep all thru the night. I wont take this again. If I have the back pain, I will pop a tylonol instead.</td>\n      <td>[tired, blood clots, stroke, blood clots that traveled to my eye, completley healthy]</td>\n    </tr>\n    <tr>\n      <th>25</th>\n      <td>However, re-initiation of sunitinib treatment was followed by bilateral breast enlargement again.</td>\n      <td>[bilateral breast enlargement]</td>\n    </tr>\n    <tr>\n      <th>23</th>\n      <td>The authors report a case of mania occurring in a woman in late life who had begun receiving hormone replacement therapy for osteoporosis.</td>\n      <td>[mania]</td>\n    </tr>\n    <tr>\n      <th>16</th>\n      <td>Electrocardiographic findings and laboratory data indicated a diagnosis of acute myocardial infarction due to the L-thyroxine therapy.</td>\n      <td>[acute myocardial infarction]</td>\n    </tr>\n    <tr>\n      <th>17</th>\n      <td>Hepatic reactions to cyclofenil.</td>\n      <td>[Hepatic reactions]</td>\n    </tr>\n    <tr>\n      <th>10</th>\n      <td>A fatal massive pulmonary embolus developed in a patient treated with streptokinase for acute deep vein thrombosis.</td>\n      <td>[fatal massive pulmonary embolus]</td>\n    </tr>\n    <tr>\n      <th>24</th>\n      <td>Fatal hypoglycemia after cytotoxic chemotherapy: a report of two cases and a review of the literature.</td>\n      <td>[Fatal hypoglycemia]</td>\n    </tr>\n    <tr>\n      <th>27</th>\n      <td>Succinylcholine-induced hyperkalemia in a patient with mucositis secondary to chemotherapy.</td>\n      <td>[hyperkalemia]</td>\n    </tr>\n    <tr>\n      <th>26</th>\n      <td>With itraconazole, hepatotoxic reactions have only very rarely been reported, and histologic data are lacking.</td>\n      <td>[hepatotoxic reactions]</td>\n    </tr>\n  </tbody>\n</table>\n</div>",
       "datasetInfos": [],
       "removedWidgets": [],
       "textData": null,
       "type": "htmlSandbox"
      }
     },
     "output_type": "display_data"
    }
   ],
   "source": [
    "sample_df.sample(20)"
   ]
  },
  {
   "cell_type": "markdown",
   "metadata": {
    "application/vnd.databricks.v1+cell": {
     "inputWidgets": {},
     "nuid": "0e8c79c1-d7ef-4513-83c1-e7d8d39cf3b3",
     "showTitle": false,
     "title": ""
    }
   },
   "source": [
    "**Doing the same with clinical embeddings version** (faster results)"
   ]
  },
  {
   "cell_type": "code",
   "execution_count": 0,
   "metadata": {
    "application/vnd.databricks.v1+cell": {
     "inputWidgets": {},
     "nuid": "64e89b8f-1719-49c4-b1cd-94be3abbd42a",
     "showTitle": false,
     "title": ""
    }
   },
   "outputs": [
    {
     "data": {
      "text/html": [
       "<style scoped>\n",
       "  .ansiout {\n",
       "    display: block;\n",
       "    unicode-bidi: embed;\n",
       "    white-space: pre-wrap;\n",
       "    word-wrap: break-word;\n",
       "    word-break: break-all;\n",
       "    font-family: \"Source Code Pro\", \"Menlo\", monospace;;\n",
       "    font-size: 13px;\n",
       "    color: #555;\n",
       "    margin-left: 4px;\n",
       "    line-height: 19px;\n",
       "  }\n",
       "</style>\n",
       "<div class=\"ansiout\">+----------------------------------------------------------------------+----------------------------------------------------------------------+\n",
       "                                                                  text|                                                           ADE_phrases|\n",
       "+----------------------------------------------------------------------+----------------------------------------------------------------------+\n",
       "# hypercholesterol: Because of elevated CKs (peaked at 819) the pat...|                                                        [elevated CKs]|\n",
       "We report the case of a female acromegalic patient in whom multiple...|                                           [multiple hepatic adenomas]|\n",
       "Always tired, and possible blood clots. I was on Voltaren for about...|                      [blood clots that traveled to my eye, back pain]|\n",
       "The authors suggest that risperidone may increase affect in patient...|                                                     [increase affect]|\n",
       "A young woman with epilepsy had tonic-clonic seizures during antine...|                                               [tonic-clonic seizures]|\n",
       "Intravenous methotrexate is an effective adjunct to steroid therapy...|                                          [dermatomyositis-polyositis]|\n",
       "PURPOSE: To report new indocyanine green angiographic (ICGA) findin...|                      [indocyanine green angiographic (ICGA) findings]|\n",
       "Toxicity, pharmacokinetics, and in vitro hemodialysis clearance of ...|                                                            [Toxicity]|\n",
       "   # thrombocytopenia: Secondary to chemotherapy and MDS/AML concerns.|                                                    [thrombocytopenia]|\n",
       "A fatal massive pulmonary embolus developed in a patient treated wi...|                                     [fatal massive pulmonary embolus]|\n",
       "# Maculopapular rash: over extremities, chest and back, thought [**...|                                                  [Maculopapular rash]|\n",
       "  Hypokalemia after normal doses of neubulized albuterol (salbutamol).|                                                         [Hypokalemia]|\n",
       "A transient tonic pupillary response, denervation supersensitivity,...|[transient tonic pupillary response, denervation supersensitivity, ...|\n",
       "As per above, ID added Atovaquone for PCP [**Name9 (PRE) *] given t...|                                        [BM suppression, liver damage]|\n",
       "Electrocardiographic findings and laboratory data indicated a diagn...|                                         [acute myocardial infarction]|\n",
       "                                      Hepatic reactions to cyclofenil.|                                                   [Hepatic reactions]|\n",
       "Therefore, parenteral amiodarone was implicated as the cause of acu...|                                                     [acute hepatitis]|\n",
       "Vincristine levels were also assayed and showed a dramatic decline ...|                             [dramatic decline in postexchange levels]|\n",
       "Eight days after the end of interferon treatment, he showed signs o...|                                                    [inability to sit]|\n",
       "2 years with no problems, then toe neuropathy for two years now and...|[toe neuropathy, toe neuropathy, stomach problems, pain, heart woul...|\n",
       "+----------------------------------------------------------------------+----------------------------------------------------------------------+\n",
       "only showing top 20 rows\n",
       "\n",
       "</div>"
      ]
     },
     "metadata": {
      "application/vnd.databricks.v1+output": {
       "addedWidgets": {},
       "arguments": {},
       "data": "<div class=\"ansiout\">+----------------------------------------------------------------------+----------------------------------------------------------------------+\n|                                                                  text|                                                           ADE_phrases|\n+----------------------------------------------------------------------+----------------------------------------------------------------------+\n|# hypercholesterol: Because of elevated CKs (peaked at 819) the pat...|                                                        [elevated CKs]|\n|We report the case of a female acromegalic patient in whom multiple...|                                           [multiple hepatic adenomas]|\n|Always tired, and possible blood clots. I was on Voltaren for about...|                      [blood clots that traveled to my eye, back pain]|\n|The authors suggest that risperidone may increase affect in patient...|                                                     [increase affect]|\n|A young woman with epilepsy had tonic-clonic seizures during antine...|                                               [tonic-clonic seizures]|\n|Intravenous methotrexate is an effective adjunct to steroid therapy...|                                          [dermatomyositis-polyositis]|\n|PURPOSE: To report new indocyanine green angiographic (ICGA) findin...|                      [indocyanine green angiographic (ICGA) findings]|\n|Toxicity, pharmacokinetics, and in vitro hemodialysis clearance of ...|                                                            [Toxicity]|\n|   # thrombocytopenia: Secondary to chemotherapy and MDS/AML concerns.|                                                    [thrombocytopenia]|\n|A fatal massive pulmonary embolus developed in a patient treated wi...|                                     [fatal massive pulmonary embolus]|\n|# Maculopapular rash: over extremities, chest and back, thought [**...|                                                  [Maculopapular rash]|\n|  Hypokalemia after normal doses of neubulized albuterol (salbutamol).|                                                         [Hypokalemia]|\n|A transient tonic pupillary response, denervation supersensitivity,...|[transient tonic pupillary response, denervation supersensitivity, ...|\n|As per above, ID added Atovaquone for PCP [**Name9 (PRE) *] given t...|                                        [BM suppression, liver damage]|\n|Electrocardiographic findings and laboratory data indicated a diagn...|                                         [acute myocardial infarction]|\n|                                      Hepatic reactions to cyclofenil.|                                                   [Hepatic reactions]|\n|Therefore, parenteral amiodarone was implicated as the cause of acu...|                                                     [acute hepatitis]|\n|Vincristine levels were also assayed and showed a dramatic decline ...|                             [dramatic decline in postexchange levels]|\n|Eight days after the end of interferon treatment, he showed signs o...|                                                    [inability to sit]|\n|2 years with no problems, then toe neuropathy for two years now and...|[toe neuropathy, toe neuropathy, stomach problems, pain, heart woul...|\n+----------------------------------------------------------------------+----------------------------------------------------------------------+\nonly showing top 20 rows\n\n</div>",
       "datasetInfos": [],
       "removedWidgets": [],
       "type": "html"
      }
     },
     "output_type": "display_data"
    }
   ],
   "source": [
    "import pyspark.sql.functions as F\n",
    "\n",
    "ner_converter = NerConverter() \\\n",
    "  .setInputCols([\"sentence\", \"token\", \"ner\"]) \\\n",
    "  .setOutputCol(\"ner_chunk\")\\\n",
    "  .setWhiteList(['ADE'])\n",
    "\n",
    "ner_pipeline = Pipeline(stages=[\n",
    "    documentAssembler, \n",
    "    sentenceDetector,\n",
    "    tokenizer,\n",
    "    word_embeddings,\n",
    "    ade_ner,\n",
    "    ner_converter])\n",
    "\n",
    "empty_data = spark.createDataFrame([[\"\"]]).toDF(\"text\")\n",
    "\n",
    "ade_ner_model = ner_pipeline.fit(empty_data)\n",
    "\n",
    "result = ade_ner_model.transform(ade_DF)\n",
    "\n",
    "result.select('text','ner_chunk.result')\\\n",
    ".toDF('text','ADE_phrases').filter(F.size('ADE_phrases')>0)\\\n",
    ".show(truncate=70)\n"
   ]
  },
  {
   "cell_type": "markdown",
   "metadata": {
    "application/vnd.databricks.v1+cell": {
     "inputWidgets": {},
     "nuid": "30c1d688-ce0a-420f-b499-eee5d9060be0",
     "showTitle": false,
     "title": ""
    }
   },
   "source": [
    "### creating sentence dataframe (one sentence per row) and getting ADE entities and categories"
   ]
  },
  {
   "cell_type": "code",
   "execution_count": 0,
   "metadata": {
    "application/vnd.databricks.v1+cell": {
     "inputWidgets": {},
     "nuid": "be1d5ed1-ec2c-497a-b84c-2e7befed4584",
     "showTitle": false,
     "title": ""
    }
   },
   "outputs": [
    {
     "data": {
      "text/html": [
       "<style scoped>\n",
       "  .ansiout {\n",
       "    display: block;\n",
       "    unicode-bidi: embed;\n",
       "    white-space: pre-wrap;\n",
       "    word-wrap: break-word;\n",
       "    word-break: break-all;\n",
       "    font-family: \"Source Code Pro\", \"Menlo\", monospace;;\n",
       "    font-size: 13px;\n",
       "    color: #555;\n",
       "    margin-left: 4px;\n",
       "    line-height: 19px;\n",
       "  }\n",
       "</style>\n",
       "<div class=\"ansiout\">biobert_pubmed_base_cased download started this may take some time.\n",
       "Approximate size to download 386.4 MB\n",
       "\r",
       "[ | ]\r",
       "[OK!]\n",
       "classifierdl_ade_biobert download started this may take some time.\n",
       "Approximate size to download 21.8 MB\n",
       "\r",
       "[ | ]\r",
       "[OK!]\n",
       "ner_ade_biobert download started this may take some time.\n",
       "Approximate size to download 15.3 MB\n",
       "\r",
       "[ | ]\r",
       "[OK!]\n",
       "</div>"
      ]
     },
     "metadata": {
      "application/vnd.databricks.v1+output": {
       "addedWidgets": {},
       "arguments": {},
       "data": "<div class=\"ansiout\">biobert_pubmed_base_cased download started this may take some time.\nApproximate size to download 386.4 MB\n\r[ | ]\r[OK!]\nclassifierdl_ade_biobert download started this may take some time.\nApproximate size to download 21.8 MB\n\r[ | ]\r[OK!]\nner_ade_biobert download started this may take some time.\nApproximate size to download 15.3 MB\n\r[ | ]\r[OK!]\n</div>",
       "datasetInfos": [],
       "removedWidgets": [],
       "type": "html"
      }
     },
     "output_type": "display_data"
    }
   ],
   "source": [
    "documentAssembler = DocumentAssembler()\\\n",
    "      .setInputCol(\"text\")\\\n",
    "      .setOutputCol(\"document\")\n",
    "\n",
    "sentenceDetector = SentenceDetector()\\\n",
    "      .setInputCols([\"document\"])\\\n",
    "      .setOutputCol(\"sentence\")\\\n",
    "      .setExplodeSentences(True)\n",
    "\n",
    "tokenizer = Tokenizer()\\\n",
    "      .setInputCols([\"sentence\"])\\\n",
    "      .setOutputCol(\"token\")\n",
    "\n",
    "bert_embeddings = BertEmbeddings.pretrained(\"biobert_pubmed_base_cased\")\\\n",
    "      .setInputCols([\"sentence\", \"token\"])\\\n",
    "      .setOutputCol(\"embeddings\")\n",
    "\n",
    "embeddingsSentence = SentenceEmbeddings() \\\n",
    "      .setInputCols([\"sentence\", \"embeddings\"]) \\\n",
    "      .setOutputCol(\"sentence_embeddings\") \\\n",
    "      .setPoolingStrategy(\"AVERAGE\")\\\n",
    "      .setStorageRef('biobert_pubmed_base_cased')\n",
    "\n",
    "classsifierdl = ClassifierDLModel.pretrained(\"classifierdl_ade_biobert\", \"en\", \"clinical/models\")\\\n",
    "      .setInputCols([\"sentence\", \"sentence_embeddings\"]) \\\n",
    "      .setOutputCol(\"class\")\\\n",
    "      .setStorageRef('biobert_pubmed_base_cased')\n",
    "\n",
    "ade_ner = MedicalNerModel.pretrained(\"ner_ade_biobert\", \"en\", \"clinical/models\") \\\n",
    "      .setInputCols([\"sentence\", \"token\", \"embeddings\"]) \\\n",
    "      .setOutputCol(\"ner\")\n",
    "  \n",
    "ner_converter = NerConverter() \\\n",
    "      .setInputCols([\"sentence\", \"token\", \"ner\"]) \\\n",
    "      .setOutputCol(\"ner_chunk\")\\\n",
    "      .setWhiteList(['ADE'])\n",
    "\n",
    "ner_clf_pipeline = Pipeline(\n",
    "    stages=[documentAssembler, \n",
    "            sentenceDetector,\n",
    "            tokenizer,\n",
    "            bert_embeddings,\n",
    "            embeddingsSentence,\n",
    "            classsifierdl,\n",
    "            ade_ner,\n",
    "            ner_converter])\n",
    "\n",
    "ade_Sentences = ner_clf_pipeline.fit(ade_DF)"
   ]
  },
  {
   "cell_type": "code",
   "execution_count": 0,
   "metadata": {
    "application/vnd.databricks.v1+cell": {
     "inputWidgets": {},
     "nuid": "10376a85-9da2-4adf-ad08-4d7f72b090e6",
     "showTitle": false,
     "title": ""
    }
   },
   "outputs": [
    {
     "data": {
      "text/html": [
       "<style scoped>\n",
       "  .ansiout {\n",
       "    display: block;\n",
       "    unicode-bidi: embed;\n",
       "    white-space: pre-wrap;\n",
       "    word-wrap: break-word;\n",
       "    word-break: break-all;\n",
       "    font-family: \"Source Code Pro\", \"Menlo\", monospace;;\n",
       "    font-size: 13px;\n",
       "    color: #555;\n",
       "    margin-left: 4px;\n",
       "    line-height: 19px;\n",
       "  }\n",
       "</style>\n",
       "<div class=\"ansiout\">+------------------------------------------------------------+---------------------------------------------+-------+\n",
       "                                                    sentence|                                  ADE_phrases| is_ADE|\n",
       "+------------------------------------------------------------+---------------------------------------------+-------+\n",
       "         [Do U know what Meds are R for bipolar depression?]|                                           []|[False]|\n",
       "         [Currently #FDA approved #quetiapine AKA #Seroquel]|                                           []|[False]|\n",
       "[# hypercholesterol: Because of elevated CKs (peaked at 8...|                               [elevated CKs]|[False]|\n",
       "[Her weight, respirtory status and I/O should be monitore...|                                           []|[False]|\n",
       "[* DM - Pt had several episodes of hypoglycemia on lantus...|                               [hypoglycemia]| [True]|\n",
       "[We report the case of a female acromegalic patient in wh...|                           [hepatic adenomas]| [True]|\n",
       "                                                       [2 .]|                                           []|[False]|\n",
       "[Calcipotriene 0.005% Cream Sig: One (1) Appl Topical [**...|                                           []|[False]|\n",
       "                   [Always tired, and possible blood clots.]|                         [tired, blood clots]|[False]|\n",
       "[I was on Voltaren for about 4 years and all of the sudde...|[stroke, blood clots that traveled to my eye]|[False]|\n",
       "[I had every test in the book done at the hospital, and t...|                                           []|[False]|\n",
       "                                 [I was completley healthy!]|                         [completley healthy]|[False]|\n",
       "                   [I am thinking it was from the voltaren.]|                                           []|[False]|\n",
       "[I have been off of the drug for 8 months now, and have n...|                                           []|[False]|\n",
       "[I started eating healthy and working out and that has he...|                                           []|[False]|\n",
       "                       [I can now sleep all thru the night.]|                                           []|[False]|\n",
       "                                   [I wont take this again.]|                                           []|[False]|\n",
       "    [If I have the back pain, I will pop a tylonol instead.]|                                           []|[False]|\n",
       "[A difference in chemical structure between these two dru...|                                           []|[False]|\n",
       "                                                      [10 .]|                                           []|[False]|\n",
       "+------------------------------------------------------------+---------------------------------------------+-------+\n",
       "only showing top 20 rows\n",
       "\n",
       "</div>"
      ]
     },
     "metadata": {
      "application/vnd.databricks.v1+output": {
       "addedWidgets": {},
       "arguments": {},
       "data": "<div class=\"ansiout\">+------------------------------------------------------------+---------------------------------------------+-------+\n|                                                    sentence|                                  ADE_phrases| is_ADE|\n+------------------------------------------------------------+---------------------------------------------+-------+\n|         [Do U know what Meds are R for bipolar depression?]|                                           []|[False]|\n|         [Currently #FDA approved #quetiapine AKA #Seroquel]|                                           []|[False]|\n|[# hypercholesterol: Because of elevated CKs (peaked at 8...|                               [elevated CKs]|[False]|\n|[Her weight, respirtory status and I/O should be monitore...|                                           []|[False]|\n|[* DM - Pt had several episodes of hypoglycemia on lantus...|                               [hypoglycemia]| [True]|\n|[We report the case of a female acromegalic patient in wh...|                           [hepatic adenomas]| [True]|\n|                                                       [2 .]|                                           []|[False]|\n|[Calcipotriene 0.005% Cream Sig: One (1) Appl Topical [**...|                                           []|[False]|\n|                   [Always tired, and possible blood clots.]|                         [tired, blood clots]|[False]|\n|[I was on Voltaren for about 4 years and all of the sudde...|[stroke, blood clots that traveled to my eye]|[False]|\n|[I had every test in the book done at the hospital, and t...|                                           []|[False]|\n|                                 [I was completley healthy!]|                         [completley healthy]|[False]|\n|                   [I am thinking it was from the voltaren.]|                                           []|[False]|\n|[I have been off of the drug for 8 months now, and have n...|                                           []|[False]|\n|[I started eating healthy and working out and that has he...|                                           []|[False]|\n|                       [I can now sleep all thru the night.]|                                           []|[False]|\n|                                   [I wont take this again.]|                                           []|[False]|\n|    [If I have the back pain, I will pop a tylonol instead.]|                                           []|[False]|\n|[A difference in chemical structure between these two dru...|                                           []|[False]|\n|                                                      [10 .]|                                           []|[False]|\n+------------------------------------------------------------+---------------------------------------------+-------+\nonly showing top 20 rows\n\n</div>",
       "datasetInfos": [],
       "removedWidgets": [],
       "type": "html"
      }
     },
     "output_type": "display_data"
    }
   ],
   "source": [
    "import pyspark.sql.functions as F\n",
    "\n",
    "ade_Sentences.transform(ade_DF).select('sentence.result','ner_chunk.result','class.result')\\\n",
    ".toDF('sentence','ADE_phrases','is_ADE').show(truncate=60)"
   ]
  },
  {
   "cell_type": "markdown",
   "metadata": {
    "application/vnd.databricks.v1+cell": {
     "inputWidgets": {},
     "nuid": "9f677404-d9a6-46ca-a0dd-d80a595485ed",
     "showTitle": false,
     "title": ""
    }
   },
   "source": [
    "## Creating a pretrained pipeline with ADE NER, Assertion and Classifer"
   ]
  },
  {
   "cell_type": "code",
   "execution_count": 0,
   "metadata": {
    "application/vnd.databricks.v1+cell": {
     "inputWidgets": {},
     "nuid": "7347af48-7f57-4439-906e-18c15f4c7760",
     "showTitle": false,
     "title": ""
    }
   },
   "outputs": [
    {
     "data": {
      "text/html": [
       "<style scoped>\n",
       "  .ansiout {\n",
       "    display: block;\n",
       "    unicode-bidi: embed;\n",
       "    white-space: pre-wrap;\n",
       "    word-wrap: break-word;\n",
       "    word-break: break-all;\n",
       "    font-family: \"Source Code Pro\", \"Menlo\", monospace;;\n",
       "    font-size: 13px;\n",
       "    color: #555;\n",
       "    margin-left: 4px;\n",
       "    line-height: 19px;\n",
       "  }\n",
       "</style>\n",
       "<div class=\"ansiout\">biobert_pubmed_base_cased download started this may take some time.\n",
       "Approximate size to download 386.4 MB\n",
       "\r",
       "[ | ]\r",
       "[OK!]\n",
       "ner_ade_biobert download started this may take some time.\n",
       "Approximate size to download 15.3 MB\n",
       "\r",
       "[ | ]\r",
       "[OK!]\n",
       "assertion_dl_biobert download started this may take some time.\n",
       "Approximate size to download 3 MB\n",
       "\r",
       "[ | ]\r",
       "[OK!]\n",
       "classifierdl_ade_conversational_biobert download started this may take some time.\n",
       "Approximate size to download 21.8 MB\n",
       "\r",
       "[ | ]\r",
       "[OK!]\n",
       "</div>"
      ]
     },
     "metadata": {
      "application/vnd.databricks.v1+output": {
       "addedWidgets": {},
       "arguments": {},
       "data": "<div class=\"ansiout\">biobert_pubmed_base_cased download started this may take some time.\nApproximate size to download 386.4 MB\n\r[ | ]\r[OK!]\nner_ade_biobert download started this may take some time.\nApproximate size to download 15.3 MB\n\r[ | ]\r[OK!]\nassertion_dl_biobert download started this may take some time.\nApproximate size to download 3 MB\n\r[ | ]\r[OK!]\nclassifierdl_ade_conversational_biobert download started this may take some time.\nApproximate size to download 21.8 MB\n\r[ | ]\r[OK!]\n</div>",
       "datasetInfos": [],
       "removedWidgets": [],
       "type": "html"
      }
     },
     "output_type": "display_data"
    }
   ],
   "source": [
    "# Annotator that transforms a text column from dataframe into an Annotation ready for NLP\n",
    "documentAssembler = DocumentAssembler()\\\n",
    "      .setInputCol(\"text\")\\\n",
    "      .setOutputCol(\"sentence\")\n",
    "\n",
    "# Tokenizer splits words in a relevant format for NLP\n",
    "tokenizer = Tokenizer()\\\n",
    "      .setInputCols([\"sentence\"])\\\n",
    "      .setOutputCol(\"token\")\n",
    "\n",
    "bert_embeddings = BertEmbeddings.pretrained(\"biobert_pubmed_base_cased\")\\\n",
    "      .setInputCols([\"sentence\", \"token\"])\\\n",
    "      .setOutputCol(\"embeddings\")\n",
    "\n",
    "ade_ner = MedicalNerModel.pretrained(\"ner_ade_biobert\", \"en\", \"clinical/models\") \\\n",
    "      .setInputCols([\"sentence\", \"token\", \"embeddings\"]) \\\n",
    "      .setOutputCol(\"ner\")\\\n",
    "      .setStorageRef('biobert_pubmed_base_cased')\n",
    "\n",
    "ner_converter = NerConverter() \\\n",
    "      .setInputCols([\"sentence\", \"token\", \"ner\"]) \\\n",
    "      .setOutputCol(\"ner_chunk\")\n",
    "\n",
    "assertion_ner_converter = NerConverter() \\\n",
    "      .setInputCols([\"sentence\", \"token\", \"ner\"]) \\\n",
    "      .setOutputCol(\"ass_ner_chunk\")\\\n",
    "      .setWhiteList(['ADE'])\n",
    "\n",
    "biobert_assertion = AssertionDLModel.pretrained(\"assertion_dl_biobert\", \"en\", \"clinical/models\") \\\n",
    "      .setInputCols([\"sentence\", \"ass_ner_chunk\", \"embeddings\"]) \\\n",
    "      .setOutputCol(\"assertion\")\n",
    "\n",
    "embeddingsSentence = SentenceEmbeddings() \\\n",
    "      .setInputCols([\"sentence\", \"embeddings\"]) \\\n",
    "      .setOutputCol(\"sentence_embeddings\") \\\n",
    "      .setPoolingStrategy(\"AVERAGE\")\\\n",
    "      .setStorageRef('biobert_pubmed_base_cased')\n",
    "\n",
    "classsifierdl = ClassifierDLModel.pretrained(\"classifierdl_ade_conversational_biobert\", \"en\", \"clinical/models\")\\\n",
    "      .setInputCols([\"sentence\", \"sentence_embeddings\"]) \\\n",
    "      .setOutputCol(\"class\")\n",
    "\n",
    "ade_clf_pipeline = Pipeline(\n",
    "    stages=[documentAssembler, \n",
    "            tokenizer,\n",
    "            bert_embeddings,\n",
    "            ade_ner,\n",
    "            ner_converter,\n",
    "            assertion_ner_converter,\n",
    "            biobert_assertion,\n",
    "            embeddingsSentence,\n",
    "            classsifierdl])\n",
    "\n",
    "empty_data = spark.createDataFrame([[\"\"]]).toDF(\"text\")\n",
    "\n",
    "ade_ner_clf_model = ade_clf_pipeline.fit(empty_data)\n",
    "\n",
    "ade_ner_clf_pipeline = LightPipeline(ade_ner_clf_model)"
   ]
  },
  {
   "cell_type": "code",
   "execution_count": 0,
   "metadata": {
    "application/vnd.databricks.v1+cell": {
     "inputWidgets": {},
     "nuid": "a81a4486-9a3e-4cfd-8777-63032c78b7bd",
     "showTitle": false,
     "title": ""
    }
   },
   "outputs": [
    {
     "data": {
      "text/html": [
       "<style scoped>\n",
       "  .ansiout {\n",
       "    display: block;\n",
       "    unicode-bidi: embed;\n",
       "    white-space: pre-wrap;\n",
       "    word-wrap: break-word;\n",
       "    word-break: break-all;\n",
       "    font-family: \"Source Code Pro\", \"Menlo\", monospace;;\n",
       "    font-size: 13px;\n",
       "    color: #555;\n",
       "    margin-left: 4px;\n",
       "    line-height: 19px;\n",
       "  }\n",
       "</style>\n",
       "<div class=\"ansiout\">Out[32]: &#39;biobert_pubmed_base_cased&#39;</div>"
      ]
     },
     "metadata": {
      "application/vnd.databricks.v1+output": {
       "addedWidgets": {},
       "arguments": {},
       "data": "<div class=\"ansiout\">Out[32]: &#39;biobert_pubmed_base_cased&#39;</div>",
       "datasetInfos": [],
       "removedWidgets": [],
       "type": "html"
      }
     },
     "output_type": "display_data"
    }
   ],
   "source": [
    "classsifierdl.getStorageRef()"
   ]
  },
  {
   "cell_type": "code",
   "execution_count": 0,
   "metadata": {
    "application/vnd.databricks.v1+cell": {
     "inputWidgets": {},
     "nuid": "f6ce1f52-8168-4b51-9011-55a7f658adac",
     "showTitle": false,
     "title": ""
    }
   },
   "outputs": [
    {
     "data": {
      "text/html": [
       "<style scoped>\n",
       "  .ansiout {\n",
       "    display: block;\n",
       "    unicode-bidi: embed;\n",
       "    white-space: pre-wrap;\n",
       "    word-wrap: break-word;\n",
       "    word-break: break-all;\n",
       "    font-family: \"Source Code Pro\", \"Menlo\", monospace;;\n",
       "    font-size: 13px;\n",
       "    color: #555;\n",
       "    margin-left: 4px;\n",
       "    line-height: 19px;\n",
       "  }\n",
       "</style>\n",
       "<div class=\"ansiout\">{&#39;sentence&#39;: &#39;0&#39;, &#39;False&#39;: &#39;0.018514084&#39;, &#39;True&#39;: &#39;0.9814859&#39;}\n",
       "Out[33]: </div>"
      ]
     },
     "metadata": {
      "application/vnd.databricks.v1+output": {
       "addedWidgets": {},
       "arguments": {},
       "data": "<div class=\"ansiout\">{&#39;sentence&#39;: &#39;0&#39;, &#39;False&#39;: &#39;0.018514084&#39;, &#39;True&#39;: &#39;0.9814859&#39;}\nOut[33]: </div>",
       "datasetInfos": [],
       "removedWidgets": [],
       "type": "html"
      }
     },
     "output_type": "display_data"
    },
    {
     "data": {
      "text/html": [
       "<div>\n",
       "<style scoped>\n",
       "    .dataframe tbody tr th:only-of-type {\n",
       "        vertical-align: middle;\n",
       "    }\n",
       "\n",
       "    .dataframe tbody tr th {\n",
       "        vertical-align: top;\n",
       "    }\n",
       "\n",
       "    .dataframe thead th {\n",
       "        text-align: right;\n",
       "    }\n",
       "</style>\n",
       "<table border=\"1\" class=\"dataframe\">\n",
       "  <thead>\n",
       "    <tr style=\"text-align: right;\">\n",
       "      <th></th>\n",
       "      <th>chunks</th>\n",
       "      <th>entities</th>\n",
       "      <th>begin</th>\n",
       "      <th>end</th>\n",
       "    </tr>\n",
       "  </thead>\n",
       "  <tbody>\n",
       "    <tr>\n",
       "      <th>0</th>\n",
       "      <td>tired</td>\n",
       "      <td>ADE</td>\n",
       "      <td>7</td>\n",
       "      <td>11</td>\n",
       "    </tr>\n",
       "    <tr>\n",
       "      <th>1</th>\n",
       "      <td>blood clots</td>\n",
       "      <td>ADE</td>\n",
       "      <td>27</td>\n",
       "      <td>37</td>\n",
       "    </tr>\n",
       "    <tr>\n",
       "      <th>2</th>\n",
       "      <td>Voltaren</td>\n",
       "      <td>DRUG</td>\n",
       "      <td>49</td>\n",
       "      <td>56</td>\n",
       "    </tr>\n",
       "    <tr>\n",
       "      <th>3</th>\n",
       "      <td>stroke</td>\n",
       "      <td>ADE</td>\n",
       "      <td>110</td>\n",
       "      <td>115</td>\n",
       "    </tr>\n",
       "    <tr>\n",
       "      <th>4</th>\n",
       "      <td>blood clots that traveled to my eye</td>\n",
       "      <td>ADE</td>\n",
       "      <td>125</td>\n",
       "      <td>159</td>\n",
       "    </tr>\n",
       "    <tr>\n",
       "      <th>5</th>\n",
       "      <td>voltaren</td>\n",
       "      <td>DRUG</td>\n",
       "      <td>301</td>\n",
       "      <td>308</td>\n",
       "    </tr>\n",
       "    <tr>\n",
       "      <th>6</th>\n",
       "      <td>tylonol</td>\n",
       "      <td>DRUG</td>\n",
       "      <td>548</td>\n",
       "      <td>554</td>\n",
       "    </tr>\n",
       "  </tbody>\n",
       "</table>\n",
       "</div>"
      ]
     },
     "metadata": {
      "application/vnd.databricks.v1+output": {
       "addedWidgets": {},
       "arguments": {},
       "data": "<div>\n<style scoped>\n    .dataframe tbody tr th:only-of-type {\n        vertical-align: middle;\n    }\n\n    .dataframe tbody tr th {\n        vertical-align: top;\n    }\n\n    .dataframe thead th {\n        text-align: right;\n    }\n</style>\n<table border=\"1\" class=\"dataframe\">\n  <thead>\n    <tr style=\"text-align: right;\">\n      <th></th>\n      <th>chunks</th>\n      <th>entities</th>\n      <th>begin</th>\n      <th>end</th>\n    </tr>\n  </thead>\n  <tbody>\n    <tr>\n      <th>0</th>\n      <td>tired</td>\n      <td>ADE</td>\n      <td>7</td>\n      <td>11</td>\n    </tr>\n    <tr>\n      <th>1</th>\n      <td>blood clots</td>\n      <td>ADE</td>\n      <td>27</td>\n      <td>37</td>\n    </tr>\n    <tr>\n      <th>2</th>\n      <td>Voltaren</td>\n      <td>DRUG</td>\n      <td>49</td>\n      <td>56</td>\n    </tr>\n    <tr>\n      <th>3</th>\n      <td>stroke</td>\n      <td>ADE</td>\n      <td>110</td>\n      <td>115</td>\n    </tr>\n    <tr>\n      <th>4</th>\n      <td>blood clots that traveled to my eye</td>\n      <td>ADE</td>\n      <td>125</td>\n      <td>159</td>\n    </tr>\n    <tr>\n      <th>5</th>\n      <td>voltaren</td>\n      <td>DRUG</td>\n      <td>301</td>\n      <td>308</td>\n    </tr>\n    <tr>\n      <th>6</th>\n      <td>tylonol</td>\n      <td>DRUG</td>\n      <td>548</td>\n      <td>554</td>\n    </tr>\n  </tbody>\n</table>\n</div>",
       "datasetInfos": [],
       "removedWidgets": [],
       "textData": null,
       "type": "htmlSandbox"
      }
     },
     "output_type": "display_data"
    }
   ],
   "source": [
    "text = 'Always tired, and possible blood clots. I was on Voltaren for about 4 years and all of the sudden had a minor stroke and had blood clots that traveled to my eye. I had every test in the book done at the hospital, and they couldnt find anything. I was completley healthy! I am thinking it was from the voltaren. I have been off of the drug for 8 months now, and have never felt better. I started eating healthy and working out and that has help alot. I can now sleep all thru the night. I wont take this again. If I have the back pain, I will pop a tylonol instead.'\n",
    "\n",
    "light_result = ade_ner_clf_pipeline.fullAnnotate(text)\n",
    "\n",
    "print (light_result[0]['class'][0].metadata)\n",
    "\n",
    "chunks = []\n",
    "entities = []\n",
    "begin =[]\n",
    "end = []\n",
    "\n",
    "for n in light_result[0]['ner_chunk']:\n",
    "\n",
    "    begin.append(n.begin)\n",
    "    end.append(n.end)\n",
    "    chunks.append(n.result)\n",
    "    entities.append(n.metadata['entity']) \n",
    "\n",
    "import pandas as pd\n",
    "\n",
    "df = pd.DataFrame({'chunks':chunks, 'entities':entities,\n",
    "                    'begin': begin, 'end': end})\n",
    "\n",
    "df"
   ]
  },
  {
   "cell_type": "code",
   "execution_count": 0,
   "metadata": {
    "application/vnd.databricks.v1+cell": {
     "inputWidgets": {},
     "nuid": "109ac5e7-e484-4e09-b683-bb53d7192ee6",
     "showTitle": false,
     "title": ""
    }
   },
   "outputs": [
    {
     "data": {
      "text/html": [
       "<style scoped>\n",
       "  .ansiout {\n",
       "    display: block;\n",
       "    unicode-bidi: embed;\n",
       "    white-space: pre-wrap;\n",
       "    word-wrap: break-word;\n",
       "    word-break: break-all;\n",
       "    font-family: \"Source Code Pro\", \"Menlo\", monospace;;\n",
       "    font-size: 13px;\n",
       "    color: #555;\n",
       "    margin-left: 4px;\n",
       "    line-height: 19px;\n",
       "  }\n",
       "</style>\n",
       "<div class=\"ansiout\">I have always felt tired, but no blood clots. I was on Voltaren for about 4 years and all of the sudden had a minor stroke and had blood clots that traveled to my eye. I had every test in the book done at the hospital, and they couldnt find anything. I was completley healthy! I am thinking it was from the voltaren. I have been off of the drug for 8 months now, and have never felt better. I started eating healthy and working out and that has help alot. I can now sleep all thru the night. I wont take this again. If I have the back pain, I will pop a tylonol instead.\n",
       "Out[34]: </div>"
      ]
     },
     "metadata": {
      "application/vnd.databricks.v1+output": {
       "addedWidgets": {},
       "arguments": {},
       "data": "<div class=\"ansiout\">I have always felt tired, but no blood clots. I was on Voltaren for about 4 years and all of the sudden had a minor stroke and had blood clots that traveled to my eye. I had every test in the book done at the hospital, and they couldnt find anything. I was completley healthy! I am thinking it was from the voltaren. I have been off of the drug for 8 months now, and have never felt better. I started eating healthy and working out and that has help alot. I can now sleep all thru the night. I wont take this again. If I have the back pain, I will pop a tylonol instead.\nOut[34]: </div>",
       "datasetInfos": [],
       "removedWidgets": [],
       "type": "html"
      }
     },
     "output_type": "display_data"
    },
    {
     "data": {
      "text/html": [
       "<div>\n",
       "<style scoped>\n",
       "    .dataframe tbody tr th:only-of-type {\n",
       "        vertical-align: middle;\n",
       "    }\n",
       "\n",
       "    .dataframe tbody tr th {\n",
       "        vertical-align: top;\n",
       "    }\n",
       "\n",
       "    .dataframe thead th {\n",
       "        text-align: right;\n",
       "    }\n",
       "</style>\n",
       "<table border=\"1\" class=\"dataframe\">\n",
       "  <thead>\n",
       "    <tr style=\"text-align: right;\">\n",
       "      <th></th>\n",
       "      <th>chunks</th>\n",
       "      <th>entities</th>\n",
       "      <th>assertion</th>\n",
       "    </tr>\n",
       "  </thead>\n",
       "  <tbody>\n",
       "    <tr>\n",
       "      <th>0</th>\n",
       "      <td>tired</td>\n",
       "      <td>ADE</td>\n",
       "      <td>present</td>\n",
       "    </tr>\n",
       "    <tr>\n",
       "      <th>1</th>\n",
       "      <td>blood clots</td>\n",
       "      <td>ADE</td>\n",
       "      <td>absent</td>\n",
       "    </tr>\n",
       "    <tr>\n",
       "      <th>2</th>\n",
       "      <td>stroke</td>\n",
       "      <td>ADE</td>\n",
       "      <td>present</td>\n",
       "    </tr>\n",
       "    <tr>\n",
       "      <th>3</th>\n",
       "      <td>blood clots that traveled to my eye</td>\n",
       "      <td>ADE</td>\n",
       "      <td>present</td>\n",
       "    </tr>\n",
       "    <tr>\n",
       "      <th>4</th>\n",
       "      <td>completley healthy</td>\n",
       "      <td>ADE</td>\n",
       "      <td>present</td>\n",
       "    </tr>\n",
       "  </tbody>\n",
       "</table>\n",
       "</div>"
      ]
     },
     "metadata": {
      "application/vnd.databricks.v1+output": {
       "addedWidgets": {},
       "arguments": {},
       "data": "<div>\n<style scoped>\n    .dataframe tbody tr th:only-of-type {\n        vertical-align: middle;\n    }\n\n    .dataframe tbody tr th {\n        vertical-align: top;\n    }\n\n    .dataframe thead th {\n        text-align: right;\n    }\n</style>\n<table border=\"1\" class=\"dataframe\">\n  <thead>\n    <tr style=\"text-align: right;\">\n      <th></th>\n      <th>chunks</th>\n      <th>entities</th>\n      <th>assertion</th>\n    </tr>\n  </thead>\n  <tbody>\n    <tr>\n      <th>0</th>\n      <td>tired</td>\n      <td>ADE</td>\n      <td>present</td>\n    </tr>\n    <tr>\n      <th>1</th>\n      <td>blood clots</td>\n      <td>ADE</td>\n      <td>absent</td>\n    </tr>\n    <tr>\n      <th>2</th>\n      <td>stroke</td>\n      <td>ADE</td>\n      <td>present</td>\n    </tr>\n    <tr>\n      <th>3</th>\n      <td>blood clots that traveled to my eye</td>\n      <td>ADE</td>\n      <td>present</td>\n    </tr>\n    <tr>\n      <th>4</th>\n      <td>completley healthy</td>\n      <td>ADE</td>\n      <td>present</td>\n    </tr>\n  </tbody>\n</table>\n</div>",
       "datasetInfos": [],
       "removedWidgets": [],
       "textData": null,
       "type": "htmlSandbox"
      }
     },
     "output_type": "display_data"
    }
   ],
   "source": [
    "import pandas as pd\n",
    "\n",
    "text = 'I have always felt tired, but no blood clots. I was on Voltaren for about 4 years and all of the sudden had a minor stroke and had blood clots that traveled to my eye. I had every test in the book done at the hospital, and they couldnt find anything. I was completley healthy! I am thinking it was from the voltaren. I have been off of the drug for 8 months now, and have never felt better. I started eating healthy and working out and that has help alot. I can now sleep all thru the night. I wont take this again. If I have the back pain, I will pop a tylonol instead.'\n",
    "\n",
    "print (text)\n",
    "\n",
    "light_result = ade_ass_ner_model_lp_bert.fullAnnotate(text)[0]\n",
    "\n",
    "chunks=[]\n",
    "entities=[]\n",
    "status=[]\n",
    "\n",
    "for n,m in zip(light_result['ass_ner_chunk'],light_result['assertion']):\n",
    "    \n",
    "    chunks.append(n.result)\n",
    "    entities.append(n.metadata['entity']) \n",
    "    status.append(m.result)\n",
    "        \n",
    "df = pd.DataFrame({'chunks':chunks, 'entities':entities, 'assertion':status})\n",
    "\n",
    "df"
   ]
  },
  {
   "cell_type": "code",
   "execution_count": 0,
   "metadata": {
    "application/vnd.databricks.v1+cell": {
     "inputWidgets": {},
     "nuid": "7973add6-c150-4d2e-baf5-a361c0763056",
     "showTitle": false,
     "title": ""
    }
   },
   "outputs": [
    {
     "data": {
      "text/html": [
       "<style scoped>\n",
       "  .ansiout {\n",
       "    display: block;\n",
       "    unicode-bidi: embed;\n",
       "    white-space: pre-wrap;\n",
       "    word-wrap: break-word;\n",
       "    word-break: break-all;\n",
       "    font-family: \"Source Code Pro\", \"Menlo\", monospace;;\n",
       "    font-size: 13px;\n",
       "    color: #555;\n",
       "    margin-left: 4px;\n",
       "    line-height: 19px;\n",
       "  }\n",
       "</style>\n",
       "<div class=\"ansiout\">[&#39;False&#39;]\n",
       "[(&#39;I&#39;, &#39;O&#39;), (&#39;just&#39;, &#39;O&#39;), (&#39;took&#39;, &#39;O&#39;), (&#39;an&#39;, &#39;O&#39;), (&#39;Advil&#39;, &#39;B-DRUG&#39;), (&#39;100&#39;, &#39;O&#39;), (&#39;mg&#39;, &#39;O&#39;), (&#39;and&#39;, &#39;O&#39;), (&#39;it&#39;, &#39;O&#39;), (&#39;made&#39;, &#39;O&#39;), (&#39;me&#39;, &#39;O&#39;), (&#39;drowsy&#39;, &#39;B-ADE&#39;)]\n",
       "</div>"
      ]
     },
     "metadata": {
      "application/vnd.databricks.v1+output": {
       "addedWidgets": {},
       "arguments": {},
       "data": "<div class=\"ansiout\">[&#39;False&#39;]\n[(&#39;I&#39;, &#39;O&#39;), (&#39;just&#39;, &#39;O&#39;), (&#39;took&#39;, &#39;O&#39;), (&#39;an&#39;, &#39;O&#39;), (&#39;Advil&#39;, &#39;B-DRUG&#39;), (&#39;100&#39;, &#39;O&#39;), (&#39;mg&#39;, &#39;O&#39;), (&#39;and&#39;, &#39;O&#39;), (&#39;it&#39;, &#39;O&#39;), (&#39;made&#39;, &#39;O&#39;), (&#39;me&#39;, &#39;O&#39;), (&#39;drowsy&#39;, &#39;B-ADE&#39;)]\n</div>",
       "datasetInfos": [],
       "removedWidgets": [],
       "type": "html"
      }
     },
     "output_type": "display_data"
    }
   ],
   "source": [
    "result = ade_ner_clf_pipeline.annotate('I just took an Advil 100 mg and it made me drowsy')\n",
    "\n",
    "print (result['class'])\n",
    "print(list(zip(result['token'],result['ner'])))"
   ]
  },
  {
   "cell_type": "code",
   "execution_count": 0,
   "metadata": {
    "application/vnd.databricks.v1+cell": {
     "inputWidgets": {},
     "nuid": "dced1a0f-75e0-4b01-ada5-6aad7dd6e232",
     "showTitle": false,
     "title": ""
    }
   },
   "outputs": [
    {
     "data": {
      "text/html": [
       "<style scoped>\n",
       "  .ansiout {\n",
       "    display: block;\n",
       "    unicode-bidi: embed;\n",
       "    white-space: pre-wrap;\n",
       "    word-wrap: break-word;\n",
       "    word-break: break-all;\n",
       "    font-family: \"Source Code Pro\", \"Menlo\", monospace;;\n",
       "    font-size: 13px;\n",
       "    color: #555;\n",
       "    margin-left: 4px;\n",
       "    line-height: 19px;\n",
       "  }\n",
       "</style>\n",
       "<div class=\"ansiout\"></div>"
      ]
     },
     "metadata": {
      "application/vnd.databricks.v1+output": {
       "addedWidgets": {},
       "arguments": {},
       "data": "<div class=\"ansiout\"></div>",
       "datasetInfos": [],
       "removedWidgets": [],
       "type": "html"
      }
     },
     "output_type": "display_data"
    }
   ],
   "source": [
    "ade_ner_clf_model.write().overwrite().save('/databricks/driver/ade_pretrained_pipeline')"
   ]
  },
  {
   "cell_type": "code",
   "execution_count": 0,
   "metadata": {
    "application/vnd.databricks.v1+cell": {
     "inputWidgets": {},
     "nuid": "31c19c9c-3215-4a2b-9a9d-e50249d81714",
     "showTitle": false,
     "title": ""
    }
   },
   "outputs": [
    {
     "data": {
      "text/html": [
       "<style scoped>\n",
       "  .ansiout {\n",
       "    display: block;\n",
       "    unicode-bidi: embed;\n",
       "    white-space: pre-wrap;\n",
       "    word-wrap: break-word;\n",
       "    word-break: break-all;\n",
       "    font-family: \"Source Code Pro\", \"Menlo\", monospace;;\n",
       "    font-size: 13px;\n",
       "    color: #555;\n",
       "    margin-left: 4px;\n",
       "    line-height: 19px;\n",
       "  }\n",
       "</style>\n",
       "<div class=\"ansiout\">Out[44]: [DocumentAssembler_4b7411c32e88,\n",
       " REGEX_TOKENIZER_e4e8de870bb4,\n",
       " BERT_EMBEDDINGS_c6741c518b81,\n",
       " MedicalNerModel_4fc5b46ae2cf,\n",
       " NerConverter_888750c9fd7a,\n",
       " NerConverter_418666209360,\n",
       " ASSERTION_DL_2f4db8443148,\n",
       " SentenceEmbeddings_ee67930726a6,\n",
       " ClassifierDLModel_6edc7e323980]</div>"
      ]
     },
     "metadata": {
      "application/vnd.databricks.v1+output": {
       "addedWidgets": {},
       "arguments": {},
       "data": "<div class=\"ansiout\">Out[44]: [DocumentAssembler_4b7411c32e88,\n REGEX_TOKENIZER_e4e8de870bb4,\n BERT_EMBEDDINGS_c6741c518b81,\n MedicalNerModel_4fc5b46ae2cf,\n NerConverter_888750c9fd7a,\n NerConverter_418666209360,\n ASSERTION_DL_2f4db8443148,\n SentenceEmbeddings_ee67930726a6,\n ClassifierDLModel_6edc7e323980]</div>",
       "datasetInfos": [],
       "removedWidgets": [],
       "type": "html"
      }
     },
     "output_type": "display_data"
    }
   ],
   "source": [
    "ade_ner_clf_model.stages"
   ]
  },
  {
   "cell_type": "code",
   "execution_count": 0,
   "metadata": {
    "application/vnd.databricks.v1+cell": {
     "inputWidgets": {},
     "nuid": "741aa0e6-8773-4fea-91e5-480b6e4a40ac",
     "showTitle": false,
     "title": ""
    }
   },
   "outputs": [
    {
     "data": {
      "text/html": [
       "<style scoped>\n",
       "  .ansiout {\n",
       "    display: block;\n",
       "    unicode-bidi: embed;\n",
       "    white-space: pre-wrap;\n",
       "    word-wrap: break-word;\n",
       "    word-break: break-all;\n",
       "    font-family: \"Source Code Pro\", \"Menlo\", monospace;;\n",
       "    font-size: 13px;\n",
       "    color: #555;\n",
       "    margin-left: 4px;\n",
       "    line-height: 19px;\n",
       "  }\n",
       "</style>\n",
       "<div class=\"ansiout\">Out[43]: {&#39;ner_chunk&#39;: [&#39;Advil&#39;, &#39;drowsy&#39;],\n",
       " &#39;assertion&#39;: [&#39;conditional&#39;],\n",
       " &#39;sentence_embeddings&#39;: [&#39;I just took an Advil 100 mg and it made me drowsy&#39;],\n",
       " &#39;token&#39;: [&#39;I&#39;,\n",
       "  &#39;just&#39;,\n",
       "  &#39;took&#39;,\n",
       "  &#39;an&#39;,\n",
       "  &#39;Advil&#39;,\n",
       "  &#39;100&#39;,\n",
       "  &#39;mg&#39;,\n",
       "  &#39;and&#39;,\n",
       "  &#39;it&#39;,\n",
       "  &#39;made&#39;,\n",
       "  &#39;me&#39;,\n",
       "  &#39;drowsy&#39;],\n",
       " &#39;ner&#39;: [&#39;O&#39;, &#39;O&#39;, &#39;O&#39;, &#39;O&#39;, &#39;B-DRUG&#39;, &#39;O&#39;, &#39;O&#39;, &#39;O&#39;, &#39;O&#39;, &#39;O&#39;, &#39;O&#39;, &#39;B-ADE&#39;],\n",
       " &#39;class&#39;: [&#39;False&#39;],\n",
       " &#39;ass_ner_chunk&#39;: [&#39;drowsy&#39;],\n",
       " &#39;embeddings&#39;: [&#39;I&#39;,\n",
       "  &#39;just&#39;,\n",
       "  &#39;took&#39;,\n",
       "  &#39;an&#39;,\n",
       "  &#39;Advil&#39;,\n",
       "  &#39;100&#39;,\n",
       "  &#39;mg&#39;,\n",
       "  &#39;and&#39;,\n",
       "  &#39;it&#39;,\n",
       "  &#39;made&#39;,\n",
       "  &#39;me&#39;,\n",
       "  &#39;drowsy&#39;],\n",
       " &#39;sentence&#39;: [&#39;I just took an Advil 100 mg and it made me drowsy&#39;]}</div>"
      ]
     },
     "metadata": {
      "application/vnd.databricks.v1+output": {
       "addedWidgets": {},
       "arguments": {},
       "data": "<div class=\"ansiout\">Out[43]: {&#39;ner_chunk&#39;: [&#39;Advil&#39;, &#39;drowsy&#39;],\n &#39;assertion&#39;: [&#39;conditional&#39;],\n &#39;sentence_embeddings&#39;: [&#39;I just took an Advil 100 mg and it made me drowsy&#39;],\n &#39;token&#39;: [&#39;I&#39;,\n  &#39;just&#39;,\n  &#39;took&#39;,\n  &#39;an&#39;,\n  &#39;Advil&#39;,\n  &#39;100&#39;,\n  &#39;mg&#39;,\n  &#39;and&#39;,\n  &#39;it&#39;,\n  &#39;made&#39;,\n  &#39;me&#39;,\n  &#39;drowsy&#39;],\n &#39;ner&#39;: [&#39;O&#39;, &#39;O&#39;, &#39;O&#39;, &#39;O&#39;, &#39;B-DRUG&#39;, &#39;O&#39;, &#39;O&#39;, &#39;O&#39;, &#39;O&#39;, &#39;O&#39;, &#39;O&#39;, &#39;B-ADE&#39;],\n &#39;class&#39;: [&#39;False&#39;],\n &#39;ass_ner_chunk&#39;: [&#39;drowsy&#39;],\n &#39;embeddings&#39;: [&#39;I&#39;,\n  &#39;just&#39;,\n  &#39;took&#39;,\n  &#39;an&#39;,\n  &#39;Advil&#39;,\n  &#39;100&#39;,\n  &#39;mg&#39;,\n  &#39;and&#39;,\n  &#39;it&#39;,\n  &#39;made&#39;,\n  &#39;me&#39;,\n  &#39;drowsy&#39;],\n &#39;sentence&#39;: [&#39;I just took an Advil 100 mg and it made me drowsy&#39;]}</div>",
       "datasetInfos": [],
       "removedWidgets": [],
       "type": "html"
      }
     },
     "output_type": "display_data"
    }
   ],
   "source": [
    "from sparknlp.pretrained import PretrainedPipeline\n",
    "\n",
    "ade_pipeline = PretrainedPipeline.from_disk('/databricks/driver/ade_pretrained_pipeline')\n",
    "\n",
    "ade_pipeline.annotate('I just took an Advil 100 mg and it made me drowsy')"
   ]
  },
  {
   "cell_type": "markdown",
   "metadata": {
    "application/vnd.databricks.v1+cell": {
     "inputWidgets": {},
     "nuid": "861e9c02-0f89-49e2-aad8-6dad1720076a",
     "showTitle": false,
     "title": ""
    }
   },
   "source": [
    "End of Notebook # 16"
   ]
  }
 ],
 "metadata": {
  "application/vnd.databricks.v1+notebook": {
   "dashboards": [],
   "language": "python",
   "notebookMetadata": {
    "pythonIndentUnit": 2
   },
   "notebookName": "16. Adverse_Drug_Event_ADE_NER_and_Classifier_v.3.0",
   "notebookOrigID": 882000474906909,
   "widgets": {}
  },
  "kernelspec": {
   "display_name": "Python 3",
   "language": "python",
   "name": "python3"
  },
  "language_info": {
   "codemirror_mode": {
    "name": "ipython",
    "version": 3
   },
   "file_extension": ".py",
   "mimetype": "text/x-python",
   "name": "python",
   "nbconvert_exporter": "python",
   "pygments_lexer": "ipython3",
   "version": "3.8.3"
  }
 },
 "nbformat": 4,
 "nbformat_minor": 1
}

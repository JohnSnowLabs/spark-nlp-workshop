{
 "cells": [
  {
   "cell_type": "markdown",
   "metadata": {
    "application/vnd.databricks.v1+cell": {
     "inputWidgets": {},
     "nuid": "56540c56-a54f-4824-bbba-815040dc43db",
     "showTitle": false,
     "title": ""
    }
   },
   "source": [
    "![JohnSnowLabs](https://nlp.johnsnowlabs.com/assets/images/logo.png)"
   ]
  },
  {
   "cell_type": "markdown",
   "metadata": {
    "application/vnd.databricks.v1+cell": {
     "inputWidgets": {},
     "nuid": "f31136d2-6a0c-4476-871d-dcbb093d4971",
     "showTitle": false,
     "title": ""
    }
   },
   "source": [
    "# Training and Reusing Clinical Relation Extraction Models"
   ]
  },
  {
   "cell_type": "code",
   "execution_count": 0,
   "metadata": {
    "application/vnd.databricks.v1+cell": {
     "inputWidgets": {},
     "nuid": "518ebbd8-4bbb-4d71-a267-fc1da1919feb",
     "showTitle": false,
     "title": ""
    }
   },
   "outputs": [
    {
     "data": {
      "text/html": [
       "<style scoped>\n",
       "  .ansiout {\n",
       "    display: block;\n",
       "    unicode-bidi: embed;\n",
       "    white-space: pre-wrap;\n",
       "    word-wrap: break-word;\n",
       "    word-break: break-all;\n",
       "    font-family: \"Source Code Pro\", \"Menlo\", monospace;;\n",
       "    font-size: 13px;\n",
       "    color: #555;\n",
       "    margin-left: 4px;\n",
       "    line-height: 19px;\n",
       "  }\n",
       "</style>\n",
       "<div class=\"ansiout\">sparknlp_jsl.version :  3.0.1\n",
       "Out[1]: </div>"
      ]
     },
     "metadata": {
      "application/vnd.databricks.v1+output": {
       "addedWidgets": {},
       "arguments": {},
       "data": "<div class=\"ansiout\">sparknlp_jsl.version :  3.0.1\nOut[1]: </div>",
       "datasetInfos": [],
       "removedWidgets": [],
       "type": "html"
      }
     },
     "output_type": "display_data"
    },
    {
     "data": {
      "text/html": [
       "\n",
       "            <div>\n",
       "                <p><b>SparkSession - hive</b></p>\n",
       "                \n",
       "        <div>\n",
       "            <p><b>SparkContext</b></p>\n",
       "\n",
       "            <p><a href=\"/?o=3418543878422327#setting/sparkui/0421-031638-preys129/driver-3444123375799046764\">Spark UI</a></p>\n",
       "\n",
       "            <dl>\n",
       "              <dt>Version</dt>\n",
       "                <dd><code>v3.0.1</code></dd>\n",
       "              <dt>Master</dt>\n",
       "                <dd><code>spark://10.164.233.65:7077</code></dd>\n",
       "              <dt>AppName</dt>\n",
       "                <dd><code>Databricks Shell</code></dd>\n",
       "            </dl>\n",
       "        </div>\n",
       "        \n",
       "            </div>\n",
       "        "
      ]
     },
     "metadata": {
      "application/vnd.databricks.v1+output": {
       "addedWidgets": {},
       "arguments": {},
       "data": "\n            <div>\n                <p><b>SparkSession - hive</b></p>\n                \n        <div>\n            <p><b>SparkContext</b></p>\n\n            <p><a href=\"/?o=3418543878422327#setting/sparkui/0421-031638-preys129/driver-3444123375799046764\">Spark UI</a></p>\n\n            <dl>\n              <dt>Version</dt>\n                <dd><code>v3.0.1</code></dd>\n              <dt>Master</dt>\n                <dd><code>spark://10.164.233.65:7077</code></dd>\n              <dt>AppName</dt>\n                <dd><code>Databricks Shell</code></dd>\n            </dl>\n        </div>\n        \n            </div>\n        ",
       "datasetInfos": [],
       "removedWidgets": [],
       "textData": null,
       "type": "htmlSandbox"
      }
     },
     "output_type": "display_data"
    }
   ],
   "source": [
    "import os\n",
    "import json\n",
    "import string\n",
    "import numpy as np\n",
    "import pandas as pd\n",
    "\n",
    "\n",
    "import sparknlp\n",
    "import sparknlp_jsl\n",
    "from sparknlp.base import *\n",
    "from sparknlp.util import *\n",
    "from sparknlp.annotator import *\n",
    "from sparknlp_jsl.annotator import *\n",
    "from sparknlp.pretrained import ResourceDownloader\n",
    "\n",
    "from pyspark.sql import functions as F\n",
    "from pyspark.ml import Pipeline, PipelineModel\n",
    "\n",
    "pd.set_option('max_colwidth', 100)\n",
    "pd.set_option('display.max_columns', 100)  \n",
    "pd.set_option('display.expand_frame_repr', False)\n",
    "\n",
    "\n",
    "print('sparknlp_jsl.version : ',sparknlp_jsl.version())\n",
    "\n",
    "spark"
   ]
  },
  {
   "cell_type": "markdown",
   "metadata": {
    "application/vnd.databricks.v1+cell": {
     "inputWidgets": {},
     "nuid": "871960ec-7a20-4bd8-9f10-f402710165ba",
     "showTitle": false,
     "title": ""
    }
   },
   "source": [
    "## 1. Posology Releation Extraction\n",
    "\n",
    "This is a demonstration of using SparkNLP for extracting posology relations. The following relatios are supported:\n",
    "\n",
    "DRUG-DOSAGE\n",
    "DRUG-FREQUENCY\n",
    "DRUG-ADE (Adversed Drug Events)\n",
    "DRUG-FORM\n",
    "DRUG-ROUTE\n",
    "DRUG-DURATION\n",
    "DRUG-REASON\n",
    "DRUG=STRENGTH\n",
    "\n",
    "The model has been validated agains the posology dataset described in (Magge, Scotch, & Gonzalez-Hernandez, 2018).\n",
    "\n",
    "| Relation | Recall | Precision | F1 | F1 (Magge, Scotch, & Gonzalez-Hernandez, 2018) |\n",
    "| --- | --- | --- | --- | --- |\n",
    "| DRUG-ADE | 0.66 | 1.00 | **0.80** | 0.76 |\n",
    "| DRUG-DOSAGE | 0.89 | 1.00 | **0.94** | 0.91 |\n",
    "| DRUG-DURATION | 0.75 | 1.00 | **0.85** | 0.92 |\n",
    "| DRUG-FORM | 0.88 | 1.00 | **0.94** | 0.95* |\n",
    "| DRUG-FREQUENCY | 0.79 | 1.00 | **0.88** | 0.90 |\n",
    "| DRUG-REASON | 0.60 | 1.00 | **0.75** | 0.70 |\n",
    "| DRUG-ROUTE | 0.79 | 1.00 | **0.88** | 0.95* |\n",
    "| DRUG-STRENGTH | 0.95 | 1.00 | **0.98** | 0.97 |\n",
    "\n",
    "\n",
    "*Magge, Scotch, Gonzalez-Hernandez (2018) collapsed DRUG-FORM and DRUG-ROUTE into a single relation."
   ]
  },
  {
   "cell_type": "code",
   "execution_count": 0,
   "metadata": {
    "application/vnd.databricks.v1+cell": {
     "inputWidgets": {},
     "nuid": "f819c90a-efe1-4dcf-8fb9-25abf4744a5e",
     "showTitle": false,
     "title": ""
    }
   },
   "outputs": [
    {
     "data": {
      "text/html": [
       "<style scoped>\n",
       "  .ansiout {\n",
       "    display: block;\n",
       "    unicode-bidi: embed;\n",
       "    white-space: pre-wrap;\n",
       "    word-wrap: break-word;\n",
       "    word-break: break-all;\n",
       "    font-family: \"Source Code Pro\", \"Menlo\", monospace;;\n",
       "    font-size: 13px;\n",
       "    color: #555;\n",
       "    margin-left: 4px;\n",
       "    line-height: 19px;\n",
       "  }\n",
       "</style>\n",
       "<div class=\"ansiout\"></div>"
      ]
     },
     "metadata": {
      "application/vnd.databricks.v1+output": {
       "addedWidgets": {},
       "arguments": {},
       "data": "<div class=\"ansiout\"></div>",
       "datasetInfos": [],
       "removedWidgets": [],
       "type": "html"
      }
     },
     "output_type": "display_data"
    }
   ],
   "source": [
    "import re\n",
    "import functools \n",
    "from scipy import spatial\n",
    "import pyspark.sql.types as T"
   ]
  },
  {
   "cell_type": "markdown",
   "metadata": {
    "application/vnd.databricks.v1+cell": {
     "inputWidgets": {},
     "nuid": "9a7fe8a1-03a8-4903-9929-b18430baab79",
     "showTitle": false,
     "title": ""
    }
   },
   "source": [
    "**Build pipeline using SparNLP pretrained models and the relation extration model optimized for posology**.\n",
    " \n",
    " The precision of the RE model is controlled by \"setMaxSyntacticDistance(4)\", which sets the maximum syntactic distance between named entities to 4. A larger value will improve recall at the expense at lower precision. A value of 4 leads to literally perfect precision (i.e. the model doesn't produce any false positives) and reasonably good recall."
   ]
  },
  {
   "cell_type": "code",
   "execution_count": 0,
   "metadata": {
    "application/vnd.databricks.v1+cell": {
     "inputWidgets": {},
     "nuid": "a11d6750-c30c-4ef0-bd9e-433ccfe70719",
     "showTitle": false,
     "title": ""
    }
   },
   "outputs": [
    {
     "data": {
      "text/html": [
       "<style scoped>\n",
       "  .ansiout {\n",
       "    display: block;\n",
       "    unicode-bidi: embed;\n",
       "    white-space: pre-wrap;\n",
       "    word-wrap: break-word;\n",
       "    word-break: break-all;\n",
       "    font-family: \"Source Code Pro\", \"Menlo\", monospace;;\n",
       "    font-size: 13px;\n",
       "    color: #555;\n",
       "    margin-left: 4px;\n",
       "    line-height: 19px;\n",
       "  }\n",
       "</style>\n",
       "<div class=\"ansiout\">embeddings_clinical download started this may take some time.\n",
       "Approximate size to download 1.6 GB\n",
       "\r",
       "[ | ]\r",
       "[ / ]\r",
       "[ — ]\r",
       "[ \\ ]\r",
       "[ | ]\r",
       "[ / ]\r",
       "[ — ]\r",
       "[ \\ ]\r",
       "[ | ]\r",
       "[ / ]\r",
       "[ — ]\r",
       "[ \\ ]\r",
       "[ | ]\r",
       "[ / ]\r",
       "[ — ]\r",
       "[ \\ ]\r",
       "[ | ]\r",
       "[ / ]\r",
       "[ — ]\r",
       "[ \\ ]\r",
       "[ | ]\r",
       "[ / ]\r",
       "[ — ]\r",
       "[ \\ ]\r",
       "[ | ]\r",
       "[ / ]\r",
       "[ — ]\r",
       "[ \\ ]\r",
       "[ | ]\r",
       "[ / ]\r",
       "[ — ]\r",
       "[ \\ ]\r",
       "[ | ]\r",
       "[ / ]\r",
       "[ — ]\r",
       "[ \\ ]\r",
       "[ | ]\r",
       "[ / ]\r",
       "[ — ]\r",
       "[ \\ ]\r",
       "[ | ]\r",
       "[ / ]\r",
       "[ — ]\r",
       "[ \\ ]\r",
       "[ | ]\r",
       "[ / ]\r",
       "[ — ]\r",
       "[ \\ ]\r",
       "[ | ]\r",
       "[ / ]\r",
       "[ — ]\r",
       "[ \\ ]\r",
       "[ | ]\r",
       "[ / ]\r",
       "[ — ]\r",
       "[ \\ ]\r",
       "[OK!]\n",
       "pos_clinical download started this may take some time.\n",
       "Approximate size to download 1.5 MB\n",
       "\r",
       "[ | ]\r",
       "[ / ]\r",
       "[ — ]\r",
       "[ \\ ]\r",
       "[ | ]\r",
       "[ / ]\r",
       "[ — ]\r",
       "[ \\ ]\r",
       "[ | ]\r",
       "[ / ]\r",
       "[ — ]\r",
       "[ \\ ]\r",
       "[ | ]\r",
       "[ / ]\r",
       "[OK!]\n",
       "ner_posology download started this may take some time.\n",
       "Approximate size to download 13.8 MB\n",
       "\r",
       "[ | ]\r",
       "[ / ]\r",
       "[ — ]\r",
       "[OK!]\n",
       "ner_events_clinical download started this may take some time.\n",
       "Approximate size to download 13.8 MB\n",
       "\r",
       "[ | ]\r",
       "[ / ]\r",
       "[OK!]\n",
       "dependency_conllu download started this may take some time.\n",
       "Approximate size to download 16.7 MB\n",
       "\r",
       "[ | ]\r",
       "[ / ]\r",
       "[ — ]\r",
       "[ \\ ]\r",
       "[ | ]\r",
       "[ / ]\r",
       "[ — ]\r",
       "[ \\ ]\r",
       "[ | ]\r",
       "[ / ]\r",
       "[ — ]\r",
       "[ \\ ]\r",
       "[OK!]\n",
       "</div>"
      ]
     },
     "metadata": {
      "application/vnd.databricks.v1+output": {
       "addedWidgets": {},
       "arguments": {},
       "data": "<div class=\"ansiout\">embeddings_clinical download started this may take some time.\nApproximate size to download 1.6 GB\n\r[ | ]\r[ / ]\r[ — ]\r[ \\ ]\r[ | ]\r[ / ]\r[ — ]\r[ \\ ]\r[ | ]\r[ / ]\r[ — ]\r[ \\ ]\r[ | ]\r[ / ]\r[ — ]\r[ \\ ]\r[ | ]\r[ / ]\r[ — ]\r[ \\ ]\r[ | ]\r[ / ]\r[ — ]\r[ \\ ]\r[ | ]\r[ / ]\r[ — ]\r[ \\ ]\r[ | ]\r[ / ]\r[ — ]\r[ \\ ]\r[ | ]\r[ / ]\r[ — ]\r[ \\ ]\r[ | ]\r[ / ]\r[ — ]\r[ \\ ]\r[ | ]\r[ / ]\r[ — ]\r[ \\ ]\r[ | ]\r[ / ]\r[ — ]\r[ \\ ]\r[ | ]\r[ / ]\r[ — ]\r[ \\ ]\r[ | ]\r[ / ]\r[ — ]\r[ \\ ]\r[OK!]\npos_clinical download started this may take some time.\nApproximate size to download 1.5 MB\n\r[ | ]\r[ / ]\r[ — ]\r[ \\ ]\r[ | ]\r[ / ]\r[ — ]\r[ \\ ]\r[ | ]\r[ / ]\r[ — ]\r[ \\ ]\r[ | ]\r[ / ]\r[OK!]\nner_posology download started this may take some time.\nApproximate size to download 13.8 MB\n\r[ | ]\r[ / ]\r[ — ]\r[OK!]\nner_events_clinical download started this may take some time.\nApproximate size to download 13.8 MB\n\r[ | ]\r[ / ]\r[OK!]\ndependency_conllu download started this may take some time.\nApproximate size to download 16.7 MB\n\r[ | ]\r[ / ]\r[ — ]\r[ \\ ]\r[ | ]\r[ / ]\r[ — ]\r[ \\ ]\r[ | ]\r[ / ]\r[ — ]\r[ \\ ]\r[OK!]\n</div>",
       "datasetInfos": [],
       "removedWidgets": [],
       "type": "html"
      }
     },
     "output_type": "display_data"
    }
   ],
   "source": [
    "documenter = DocumentAssembler()\\\n",
    "    .setInputCol(\"text\")\\\n",
    "    .setOutputCol(\"document\")\n",
    "\n",
    "sentencer = SentenceDetector()\\\n",
    "    .setInputCols([\"document\"])\\\n",
    "    .setOutputCol(\"sentences\")\n",
    "\n",
    "tokenizer = sparknlp.annotators.Tokenizer()\\\n",
    "    .setInputCols([\"sentences\"])\\\n",
    "    .setOutputCol(\"tokens\")\n",
    "\n",
    "words_embedder = WordEmbeddingsModel.pretrained(\"embeddings_clinical\", \"en\", \"clinical/models\")\\\n",
    "    .setInputCols([\"sentences\", \"tokens\"])\\\n",
    "    .setOutputCol(\"embeddings\")\n",
    "\n",
    "pos_tagger = PerceptronModel.pretrained(\"pos_clinical\", \"en\", \"clinical/models\") \\\n",
    "    .setInputCols([\"sentences\", \"tokens\"])\\\n",
    "    .setOutputCol(\"pos_tags\")\n",
    "\n",
    "ner_tagger = MedicalNerModel.pretrained(\"ner_posology\", \"en\", \"clinical/models\")\\\n",
    "    .setInputCols(\"sentences\", \"tokens\", \"embeddings\")\\\n",
    "    .setOutputCol(\"ner_tags\")    \n",
    "\n",
    "ner_event = MedicalNerModel.pretrained(\"ner_events_clinical\", \"en\", \"clinical/models\")\\\n",
    "    .setInputCols(\"sentences\", \"tokens\", \"embeddings\")\\\n",
    "    .setOutputCol(\"ner_tags\") \n",
    "\n",
    "ner_chunker = NerConverter()\\\n",
    "    .setInputCols([\"sentences\", \"tokens\", \"ner_tags\"])\\\n",
    "    .setOutputCol(\"ner_chunks\")\n",
    "\n",
    "dependency_parser = DependencyParserModel.pretrained(\"dependency_conllu\", \"en\")\\\n",
    "    .setInputCols([\"sentences\", \"pos_tags\", \"tokens\"])\\\n",
    "    .setOutputCol(\"dependencies\")\n",
    "\n",
    "reModel = RelationExtractionModel.pretrained(\"posology_re\")\\\n",
    "    .setInputCols([\"embeddings\", \"pos_tags\", \"ner_chunks\", \"dependencies\"])\\\n",
    "    .setOutputCol(\"relations\")\\\n",
    "    .setMaxSyntacticDistance(4)\n",
    "\n",
    "pipeline = Pipeline(stages=[\n",
    "    documenter,\n",
    "    sentencer,\n",
    "    tokenizer, \n",
    "    words_embedder, \n",
    "    pos_tagger, \n",
    "    ner_tagger,\n",
    "    ner_chunker,\n",
    "    dependency_parser,\n",
    "    reModel\n",
    "])\n",
    "\n",
    "empty_data = spark.createDataFrame([[\"\"]]).toDF(\"text\")\n",
    "model = pipeline.fit(empty_data)\n"
   ]
  },
  {
   "cell_type": "markdown",
   "metadata": {
    "application/vnd.databricks.v1+cell": {
     "inputWidgets": {},
     "nuid": "409dc60c-501a-4a28-98e9-283dad950d06",
     "showTitle": false,
     "title": ""
    }
   },
   "source": [
    "**Create a light pipeline for annotating free text**"
   ]
  },
  {
   "cell_type": "code",
   "execution_count": 0,
   "metadata": {
    "application/vnd.databricks.v1+cell": {
     "inputWidgets": {},
     "nuid": "c291d39d-02b0-4998-8a0c-eb94f7c21a5e",
     "showTitle": false,
     "title": ""
    }
   },
   "outputs": [
    {
     "data": {
      "text/html": [
       "<style scoped>\n",
       "  .ansiout {\n",
       "    display: block;\n",
       "    unicode-bidi: embed;\n",
       "    white-space: pre-wrap;\n",
       "    word-wrap: break-word;\n",
       "    word-break: break-all;\n",
       "    font-family: \"Source Code Pro\", \"Menlo\", monospace;;\n",
       "    font-size: 13px;\n",
       "    color: #555;\n",
       "    margin-left: 4px;\n",
       "    line-height: 19px;\n",
       "  }\n",
       "</style>\n",
       "<div class=\"ansiout\"></div>"
      ]
     },
     "metadata": {
      "application/vnd.databricks.v1+output": {
       "addedWidgets": {},
       "arguments": {},
       "data": "<div class=\"ansiout\"></div>",
       "datasetInfos": [],
       "removedWidgets": [],
       "type": "html"
      }
     },
     "output_type": "display_data"
    }
   ],
   "source": [
    "text = \"\"\"\n",
    "The patient was prescribed 1 unit of Advil for 5 days after meals. The patient was also \n",
    "given 1 unit of Metformin daily.\n",
    "He was seen by the endocrinology service and she was discharged on 40 units of insulin glargine at night , \n",
    "12 units of insulin lispro with meals , and metformin 1000 mg two times a day.\n",
    "\"\"\"\n",
    "\n",
    "lmodel = sparknlp.base.LightPipeline(model)\n",
    "results = lmodel.fullAnnotate(text)"
   ]
  },
  {
   "cell_type": "code",
   "execution_count": 0,
   "metadata": {
    "application/vnd.databricks.v1+cell": {
     "inputWidgets": {},
     "nuid": "a81f58aa-363f-4c97-aac5-385f95a9be2d",
     "showTitle": false,
     "title": ""
    }
   },
   "outputs": [
    {
     "data": {
      "text/html": [
       "<style scoped>\n",
       "  .ansiout {\n",
       "    display: block;\n",
       "    unicode-bidi: embed;\n",
       "    white-space: pre-wrap;\n",
       "    word-wrap: break-word;\n",
       "    word-break: break-all;\n",
       "    font-family: \"Source Code Pro\", \"Menlo\", monospace;;\n",
       "    font-size: 13px;\n",
       "    color: #555;\n",
       "    margin-left: 4px;\n",
       "    line-height: 19px;\n",
       "  }\n",
       "</style>\n",
       "<div class=\"ansiout\">Out[5]: [Annotation(chunk, 28, 33, 1 unit, {&#39;entity&#39;: &#39;DOSAGE&#39;, &#39;sentence&#39;: &#39;0&#39;, &#39;chunk&#39;: &#39;0&#39;}),\n",
       " Annotation(chunk, 38, 42, Advil, {&#39;entity&#39;: &#39;DRUG&#39;, &#39;sentence&#39;: &#39;0&#39;, &#39;chunk&#39;: &#39;1&#39;}),\n",
       " Annotation(chunk, 44, 53, for 5 days, {&#39;entity&#39;: &#39;DURATION&#39;, &#39;sentence&#39;: &#39;0&#39;, &#39;chunk&#39;: &#39;2&#39;}),\n",
       " Annotation(chunk, 96, 101, 1 unit, {&#39;entity&#39;: &#39;DOSAGE&#39;, &#39;sentence&#39;: &#39;1&#39;, &#39;chunk&#39;: &#39;3&#39;}),\n",
       " Annotation(chunk, 106, 114, Metformin, {&#39;entity&#39;: &#39;DRUG&#39;, &#39;sentence&#39;: &#39;1&#39;, &#39;chunk&#39;: &#39;4&#39;}),\n",
       " Annotation(chunk, 116, 120, daily, {&#39;entity&#39;: &#39;FREQUENCY&#39;, &#39;sentence&#39;: &#39;1&#39;, &#39;chunk&#39;: &#39;5&#39;}),\n",
       " Annotation(chunk, 190, 197, 40 units, {&#39;entity&#39;: &#39;DOSAGE&#39;, &#39;sentence&#39;: &#39;2&#39;, &#39;chunk&#39;: &#39;6&#39;}),\n",
       " Annotation(chunk, 202, 217, insulin glargine, {&#39;entity&#39;: &#39;DRUG&#39;, &#39;sentence&#39;: &#39;2&#39;, &#39;chunk&#39;: &#39;7&#39;}),\n",
       " Annotation(chunk, 219, 226, at night, {&#39;entity&#39;: &#39;FREQUENCY&#39;, &#39;sentence&#39;: &#39;2&#39;, &#39;chunk&#39;: &#39;8&#39;}),\n",
       " Annotation(chunk, 231, 238, 12 units, {&#39;entity&#39;: &#39;DOSAGE&#39;, &#39;sentence&#39;: &#39;2&#39;, &#39;chunk&#39;: &#39;9&#39;}),\n",
       " Annotation(chunk, 243, 256, insulin lispro, {&#39;entity&#39;: &#39;DRUG&#39;, &#39;sentence&#39;: &#39;2&#39;, &#39;chunk&#39;: &#39;10&#39;}),\n",
       " Annotation(chunk, 258, 267, with meals, {&#39;entity&#39;: &#39;FREQUENCY&#39;, &#39;sentence&#39;: &#39;2&#39;, &#39;chunk&#39;: &#39;11&#39;}),\n",
       " Annotation(chunk, 275, 283, metformin, {&#39;entity&#39;: &#39;DRUG&#39;, &#39;sentence&#39;: &#39;2&#39;, &#39;chunk&#39;: &#39;12&#39;}),\n",
       " Annotation(chunk, 285, 291, 1000 mg, {&#39;entity&#39;: &#39;STRENGTH&#39;, &#39;sentence&#39;: &#39;2&#39;, &#39;chunk&#39;: &#39;13&#39;}),\n",
       " Annotation(chunk, 293, 307, two times a day, {&#39;entity&#39;: &#39;FREQUENCY&#39;, &#39;sentence&#39;: &#39;2&#39;, &#39;chunk&#39;: &#39;14&#39;})]</div>"
      ]
     },
     "metadata": {
      "application/vnd.databricks.v1+output": {
       "addedWidgets": {},
       "arguments": {},
       "data": "<div class=\"ansiout\">Out[5]: [Annotation(chunk, 28, 33, 1 unit, {&#39;entity&#39;: &#39;DOSAGE&#39;, &#39;sentence&#39;: &#39;0&#39;, &#39;chunk&#39;: &#39;0&#39;}),\n Annotation(chunk, 38, 42, Advil, {&#39;entity&#39;: &#39;DRUG&#39;, &#39;sentence&#39;: &#39;0&#39;, &#39;chunk&#39;: &#39;1&#39;}),\n Annotation(chunk, 44, 53, for 5 days, {&#39;entity&#39;: &#39;DURATION&#39;, &#39;sentence&#39;: &#39;0&#39;, &#39;chunk&#39;: &#39;2&#39;}),\n Annotation(chunk, 96, 101, 1 unit, {&#39;entity&#39;: &#39;DOSAGE&#39;, &#39;sentence&#39;: &#39;1&#39;, &#39;chunk&#39;: &#39;3&#39;}),\n Annotation(chunk, 106, 114, Metformin, {&#39;entity&#39;: &#39;DRUG&#39;, &#39;sentence&#39;: &#39;1&#39;, &#39;chunk&#39;: &#39;4&#39;}),\n Annotation(chunk, 116, 120, daily, {&#39;entity&#39;: &#39;FREQUENCY&#39;, &#39;sentence&#39;: &#39;1&#39;, &#39;chunk&#39;: &#39;5&#39;}),\n Annotation(chunk, 190, 197, 40 units, {&#39;entity&#39;: &#39;DOSAGE&#39;, &#39;sentence&#39;: &#39;2&#39;, &#39;chunk&#39;: &#39;6&#39;}),\n Annotation(chunk, 202, 217, insulin glargine, {&#39;entity&#39;: &#39;DRUG&#39;, &#39;sentence&#39;: &#39;2&#39;, &#39;chunk&#39;: &#39;7&#39;}),\n Annotation(chunk, 219, 226, at night, {&#39;entity&#39;: &#39;FREQUENCY&#39;, &#39;sentence&#39;: &#39;2&#39;, &#39;chunk&#39;: &#39;8&#39;}),\n Annotation(chunk, 231, 238, 12 units, {&#39;entity&#39;: &#39;DOSAGE&#39;, &#39;sentence&#39;: &#39;2&#39;, &#39;chunk&#39;: &#39;9&#39;}),\n Annotation(chunk, 243, 256, insulin lispro, {&#39;entity&#39;: &#39;DRUG&#39;, &#39;sentence&#39;: &#39;2&#39;, &#39;chunk&#39;: &#39;10&#39;}),\n Annotation(chunk, 258, 267, with meals, {&#39;entity&#39;: &#39;FREQUENCY&#39;, &#39;sentence&#39;: &#39;2&#39;, &#39;chunk&#39;: &#39;11&#39;}),\n Annotation(chunk, 275, 283, metformin, {&#39;entity&#39;: &#39;DRUG&#39;, &#39;sentence&#39;: &#39;2&#39;, &#39;chunk&#39;: &#39;12&#39;}),\n Annotation(chunk, 285, 291, 1000 mg, {&#39;entity&#39;: &#39;STRENGTH&#39;, &#39;sentence&#39;: &#39;2&#39;, &#39;chunk&#39;: &#39;13&#39;}),\n Annotation(chunk, 293, 307, two times a day, {&#39;entity&#39;: &#39;FREQUENCY&#39;, &#39;sentence&#39;: &#39;2&#39;, &#39;chunk&#39;: &#39;14&#39;})]</div>",
       "datasetInfos": [],
       "removedWidgets": [],
       "type": "html"
      }
     },
     "output_type": "display_data"
    }
   ],
   "source": [
    "results[0]['ner_chunks']"
   ]
  },
  {
   "cell_type": "code",
   "execution_count": 0,
   "metadata": {
    "application/vnd.databricks.v1+cell": {
     "inputWidgets": {},
     "nuid": "f05dd8fa-24cc-45db-964b-022f854c3dfe",
     "showTitle": false,
     "title": ""
    }
   },
   "outputs": [
    {
     "data": {
      "text/html": [
       "<style scoped>\n",
       "  .ansiout {\n",
       "    display: block;\n",
       "    unicode-bidi: embed;\n",
       "    white-space: pre-wrap;\n",
       "    word-wrap: break-word;\n",
       "    word-break: break-all;\n",
       "    font-family: \"Source Code Pro\", \"Menlo\", monospace;;\n",
       "    font-size: 13px;\n",
       "    color: #555;\n",
       "    margin-left: 4px;\n",
       "    line-height: 19px;\n",
       "  }\n",
       "</style>\n",
       "<div class=\"ansiout\">Out[7]: [Annotation(category, 28, 42, DOSAGE-DRUG, {&#39;chunk2&#39;: &#39;Advil&#39;, &#39;confidence&#39;: &#39;1.0&#39;, &#39;entity2_end&#39;: &#39;42&#39;, &#39;chunk1&#39;: &#39;1 unit&#39;, &#39;entity2_begin&#39;: &#39;38&#39;, &#39;entity1&#39;: &#39;DOSAGE&#39;, &#39;entity1_begin&#39;: &#39;28&#39;, &#39;entity1_end&#39;: &#39;33&#39;, &#39;entity2&#39;: &#39;DRUG&#39;}),\n",
       " Annotation(category, 38, 53, DRUG-DURATION, {&#39;chunk2&#39;: &#39;for 5 days&#39;, &#39;confidence&#39;: &#39;1.0&#39;, &#39;entity2_end&#39;: &#39;53&#39;, &#39;chunk1&#39;: &#39;Advil&#39;, &#39;entity2_begin&#39;: &#39;44&#39;, &#39;entity1&#39;: &#39;DRUG&#39;, &#39;entity1_begin&#39;: &#39;38&#39;, &#39;entity1_end&#39;: &#39;42&#39;, &#39;entity2&#39;: &#39;DURATION&#39;}),\n",
       " Annotation(category, 96, 114, DOSAGE-DRUG, {&#39;chunk2&#39;: &#39;Metformin&#39;, &#39;confidence&#39;: &#39;1.0&#39;, &#39;entity2_end&#39;: &#39;114&#39;, &#39;chunk1&#39;: &#39;1 unit&#39;, &#39;entity2_begin&#39;: &#39;106&#39;, &#39;entity1&#39;: &#39;DOSAGE&#39;, &#39;entity1_begin&#39;: &#39;96&#39;, &#39;entity1_end&#39;: &#39;101&#39;, &#39;entity2&#39;: &#39;DRUG&#39;}),\n",
       " Annotation(category, 106, 120, DRUG-FREQUENCY, {&#39;chunk2&#39;: &#39;daily&#39;, &#39;confidence&#39;: &#39;1.0&#39;, &#39;entity2_end&#39;: &#39;120&#39;, &#39;chunk1&#39;: &#39;Metformin&#39;, &#39;entity2_begin&#39;: &#39;116&#39;, &#39;entity1&#39;: &#39;DRUG&#39;, &#39;entity1_begin&#39;: &#39;106&#39;, &#39;entity1_end&#39;: &#39;114&#39;, &#39;entity2&#39;: &#39;FREQUENCY&#39;}),\n",
       " Annotation(category, 190, 217, DOSAGE-DRUG, {&#39;chunk2&#39;: &#39;insulin glargine&#39;, &#39;confidence&#39;: &#39;1.0&#39;, &#39;entity2_end&#39;: &#39;217&#39;, &#39;chunk1&#39;: &#39;40 units&#39;, &#39;entity2_begin&#39;: &#39;202&#39;, &#39;entity1&#39;: &#39;DOSAGE&#39;, &#39;entity1_begin&#39;: &#39;190&#39;, &#39;entity1_end&#39;: &#39;197&#39;, &#39;entity2&#39;: &#39;DRUG&#39;}),\n",
       " Annotation(category, 202, 226, DRUG-FREQUENCY, {&#39;chunk2&#39;: &#39;at night&#39;, &#39;confidence&#39;: &#39;1.0&#39;, &#39;entity2_end&#39;: &#39;226&#39;, &#39;chunk1&#39;: &#39;insulin glargine&#39;, &#39;entity2_begin&#39;: &#39;219&#39;, &#39;entity1&#39;: &#39;DRUG&#39;, &#39;entity1_begin&#39;: &#39;202&#39;, &#39;entity1_end&#39;: &#39;217&#39;, &#39;entity2&#39;: &#39;FREQUENCY&#39;}),\n",
       " Annotation(category, 231, 256, DOSAGE-DRUG, {&#39;chunk2&#39;: &#39;insulin lispro&#39;, &#39;confidence&#39;: &#39;1.0&#39;, &#39;entity2_end&#39;: &#39;256&#39;, &#39;chunk1&#39;: &#39;12 units&#39;, &#39;entity2_begin&#39;: &#39;243&#39;, &#39;entity1&#39;: &#39;DOSAGE&#39;, &#39;entity1_begin&#39;: &#39;231&#39;, &#39;entity1_end&#39;: &#39;238&#39;, &#39;entity2&#39;: &#39;DRUG&#39;}),\n",
       " Annotation(category, 243, 267, DRUG-FREQUENCY, {&#39;chunk2&#39;: &#39;with meals&#39;, &#39;confidence&#39;: &#39;1.0&#39;, &#39;entity2_end&#39;: &#39;267&#39;, &#39;chunk1&#39;: &#39;insulin lispro&#39;, &#39;entity2_begin&#39;: &#39;258&#39;, &#39;entity1&#39;: &#39;DRUG&#39;, &#39;entity1_begin&#39;: &#39;243&#39;, &#39;entity1_end&#39;: &#39;256&#39;, &#39;entity2&#39;: &#39;FREQUENCY&#39;}),\n",
       " Annotation(category, 275, 291, DRUG-STRENGTH, {&#39;chunk2&#39;: &#39;1000 mg&#39;, &#39;confidence&#39;: &#39;1.0&#39;, &#39;entity2_end&#39;: &#39;291&#39;, &#39;chunk1&#39;: &#39;metformin&#39;, &#39;entity2_begin&#39;: &#39;285&#39;, &#39;entity1&#39;: &#39;DRUG&#39;, &#39;entity1_begin&#39;: &#39;275&#39;, &#39;entity1_end&#39;: &#39;283&#39;, &#39;entity2&#39;: &#39;STRENGTH&#39;}),\n",
       " Annotation(category, 275, 307, DRUG-FREQUENCY, {&#39;chunk2&#39;: &#39;two times a day&#39;, &#39;confidence&#39;: &#39;1.0&#39;, &#39;entity2_end&#39;: &#39;307&#39;, &#39;chunk1&#39;: &#39;metformin&#39;, &#39;entity2_begin&#39;: &#39;293&#39;, &#39;entity1&#39;: &#39;DRUG&#39;, &#39;entity1_begin&#39;: &#39;275&#39;, &#39;entity1_end&#39;: &#39;283&#39;, &#39;entity2&#39;: &#39;FREQUENCY&#39;})]</div>"
      ]
     },
     "metadata": {
      "application/vnd.databricks.v1+output": {
       "addedWidgets": {},
       "arguments": {},
       "data": "<div class=\"ansiout\">Out[7]: [Annotation(category, 28, 42, DOSAGE-DRUG, {&#39;chunk2&#39;: &#39;Advil&#39;, &#39;confidence&#39;: &#39;1.0&#39;, &#39;entity2_end&#39;: &#39;42&#39;, &#39;chunk1&#39;: &#39;1 unit&#39;, &#39;entity2_begin&#39;: &#39;38&#39;, &#39;entity1&#39;: &#39;DOSAGE&#39;, &#39;entity1_begin&#39;: &#39;28&#39;, &#39;entity1_end&#39;: &#39;33&#39;, &#39;entity2&#39;: &#39;DRUG&#39;}),\n Annotation(category, 38, 53, DRUG-DURATION, {&#39;chunk2&#39;: &#39;for 5 days&#39;, &#39;confidence&#39;: &#39;1.0&#39;, &#39;entity2_end&#39;: &#39;53&#39;, &#39;chunk1&#39;: &#39;Advil&#39;, &#39;entity2_begin&#39;: &#39;44&#39;, &#39;entity1&#39;: &#39;DRUG&#39;, &#39;entity1_begin&#39;: &#39;38&#39;, &#39;entity1_end&#39;: &#39;42&#39;, &#39;entity2&#39;: &#39;DURATION&#39;}),\n Annotation(category, 96, 114, DOSAGE-DRUG, {&#39;chunk2&#39;: &#39;Metformin&#39;, &#39;confidence&#39;: &#39;1.0&#39;, &#39;entity2_end&#39;: &#39;114&#39;, &#39;chunk1&#39;: &#39;1 unit&#39;, &#39;entity2_begin&#39;: &#39;106&#39;, &#39;entity1&#39;: &#39;DOSAGE&#39;, &#39;entity1_begin&#39;: &#39;96&#39;, &#39;entity1_end&#39;: &#39;101&#39;, &#39;entity2&#39;: &#39;DRUG&#39;}),\n Annotation(category, 106, 120, DRUG-FREQUENCY, {&#39;chunk2&#39;: &#39;daily&#39;, &#39;confidence&#39;: &#39;1.0&#39;, &#39;entity2_end&#39;: &#39;120&#39;, &#39;chunk1&#39;: &#39;Metformin&#39;, &#39;entity2_begin&#39;: &#39;116&#39;, &#39;entity1&#39;: &#39;DRUG&#39;, &#39;entity1_begin&#39;: &#39;106&#39;, &#39;entity1_end&#39;: &#39;114&#39;, &#39;entity2&#39;: &#39;FREQUENCY&#39;}),\n Annotation(category, 190, 217, DOSAGE-DRUG, {&#39;chunk2&#39;: &#39;insulin glargine&#39;, &#39;confidence&#39;: &#39;1.0&#39;, &#39;entity2_end&#39;: &#39;217&#39;, &#39;chunk1&#39;: &#39;40 units&#39;, &#39;entity2_begin&#39;: &#39;202&#39;, &#39;entity1&#39;: &#39;DOSAGE&#39;, &#39;entity1_begin&#39;: &#39;190&#39;, &#39;entity1_end&#39;: &#39;197&#39;, &#39;entity2&#39;: &#39;DRUG&#39;}),\n Annotation(category, 202, 226, DRUG-FREQUENCY, {&#39;chunk2&#39;: &#39;at night&#39;, &#39;confidence&#39;: &#39;1.0&#39;, &#39;entity2_end&#39;: &#39;226&#39;, &#39;chunk1&#39;: &#39;insulin glargine&#39;, &#39;entity2_begin&#39;: &#39;219&#39;, &#39;entity1&#39;: &#39;DRUG&#39;, &#39;entity1_begin&#39;: &#39;202&#39;, &#39;entity1_end&#39;: &#39;217&#39;, &#39;entity2&#39;: &#39;FREQUENCY&#39;}),\n Annotation(category, 231, 256, DOSAGE-DRUG, {&#39;chunk2&#39;: &#39;insulin lispro&#39;, &#39;confidence&#39;: &#39;1.0&#39;, &#39;entity2_end&#39;: &#39;256&#39;, &#39;chunk1&#39;: &#39;12 units&#39;, &#39;entity2_begin&#39;: &#39;243&#39;, &#39;entity1&#39;: &#39;DOSAGE&#39;, &#39;entity1_begin&#39;: &#39;231&#39;, &#39;entity1_end&#39;: &#39;238&#39;, &#39;entity2&#39;: &#39;DRUG&#39;}),\n Annotation(category, 243, 267, DRUG-FREQUENCY, {&#39;chunk2&#39;: &#39;with meals&#39;, &#39;confidence&#39;: &#39;1.0&#39;, &#39;entity2_end&#39;: &#39;267&#39;, &#39;chunk1&#39;: &#39;insulin lispro&#39;, &#39;entity2_begin&#39;: &#39;258&#39;, &#39;entity1&#39;: &#39;DRUG&#39;, &#39;entity1_begin&#39;: &#39;243&#39;, &#39;entity1_end&#39;: &#39;256&#39;, &#39;entity2&#39;: &#39;FREQUENCY&#39;}),\n Annotation(category, 275, 291, DRUG-STRENGTH, {&#39;chunk2&#39;: &#39;1000 mg&#39;, &#39;confidence&#39;: &#39;1.0&#39;, &#39;entity2_end&#39;: &#39;291&#39;, &#39;chunk1&#39;: &#39;metformin&#39;, &#39;entity2_begin&#39;: &#39;285&#39;, &#39;entity1&#39;: &#39;DRUG&#39;, &#39;entity1_begin&#39;: &#39;275&#39;, &#39;entity1_end&#39;: &#39;283&#39;, &#39;entity2&#39;: &#39;STRENGTH&#39;}),\n Annotation(category, 275, 307, DRUG-FREQUENCY, {&#39;chunk2&#39;: &#39;two times a day&#39;, &#39;confidence&#39;: &#39;1.0&#39;, &#39;entity2_end&#39;: &#39;307&#39;, &#39;chunk1&#39;: &#39;metformin&#39;, &#39;entity2_begin&#39;: &#39;293&#39;, &#39;entity1&#39;: &#39;DRUG&#39;, &#39;entity1_begin&#39;: &#39;275&#39;, &#39;entity1_end&#39;: &#39;283&#39;, &#39;entity2&#39;: &#39;FREQUENCY&#39;})]</div>",
       "datasetInfos": [],
       "removedWidgets": [],
       "type": "html"
      }
     },
     "output_type": "display_data"
    }
   ],
   "source": [
    "results[0]['relations']"
   ]
  },
  {
   "cell_type": "markdown",
   "metadata": {
    "application/vnd.databricks.v1+cell": {
     "inputWidgets": {},
     "nuid": "1d1702f3-beba-4667-8692-2bbd6ee8a00e",
     "showTitle": false,
     "title": ""
    }
   },
   "source": [
    "**Show extracted relations**"
   ]
  },
  {
   "cell_type": "code",
   "execution_count": 0,
   "metadata": {
    "application/vnd.databricks.v1+cell": {
     "inputWidgets": {},
     "nuid": "35c3e6f0-b093-4ccf-9e5d-5c977936af1f",
     "showTitle": false,
     "title": ""
    }
   },
   "outputs": [
    {
     "data": {
      "text/html": [
       "<style scoped>\n",
       "  .ansiout {\n",
       "    display: block;\n",
       "    unicode-bidi: embed;\n",
       "    white-space: pre-wrap;\n",
       "    word-wrap: break-word;\n",
       "    word-break: break-all;\n",
       "    font-family: \"Source Code Pro\", \"Menlo\", monospace;;\n",
       "    font-size: 13px;\n",
       "    color: #555;\n",
       "    margin-left: 4px;\n",
       "    line-height: 19px;\n",
       "  }\n",
       "</style>\n",
       "<div class=\"ansiout\">DOSAGE-DRUG(DOSAGE=1 unit - DRUG=Advil)\n",
       "DRUG-DURATION(DRUG=Advil - DURATION=for 5 days)\n",
       "DOSAGE-DRUG(DOSAGE=1 unit - DRUG=Metformin)\n",
       "DRUG-FREQUENCY(DRUG=Metformin - FREQUENCY=daily)\n",
       "DOSAGE-DRUG(DOSAGE=40 units - DRUG=insulin glargine)\n",
       "DRUG-FREQUENCY(DRUG=insulin glargine - FREQUENCY=at night)\n",
       "DOSAGE-DRUG(DOSAGE=12 units - DRUG=insulin lispro)\n",
       "DRUG-FREQUENCY(DRUG=insulin lispro - FREQUENCY=with meals)\n",
       "DRUG-STRENGTH(DRUG=metformin - STRENGTH=1000 mg)\n",
       "DRUG-FREQUENCY(DRUG=metformin - FREQUENCY=two times a day)\n",
       "</div>"
      ]
     },
     "metadata": {
      "application/vnd.databricks.v1+output": {
       "addedWidgets": {},
       "arguments": {},
       "data": "<div class=\"ansiout\">DOSAGE-DRUG(DOSAGE=1 unit - DRUG=Advil)\nDRUG-DURATION(DRUG=Advil - DURATION=for 5 days)\nDOSAGE-DRUG(DOSAGE=1 unit - DRUG=Metformin)\nDRUG-FREQUENCY(DRUG=Metformin - FREQUENCY=daily)\nDOSAGE-DRUG(DOSAGE=40 units - DRUG=insulin glargine)\nDRUG-FREQUENCY(DRUG=insulin glargine - FREQUENCY=at night)\nDOSAGE-DRUG(DOSAGE=12 units - DRUG=insulin lispro)\nDRUG-FREQUENCY(DRUG=insulin lispro - FREQUENCY=with meals)\nDRUG-STRENGTH(DRUG=metformin - STRENGTH=1000 mg)\nDRUG-FREQUENCY(DRUG=metformin - FREQUENCY=two times a day)\n</div>",
       "datasetInfos": [],
       "removedWidgets": [],
       "type": "html"
      }
     },
     "output_type": "display_data"
    }
   ],
   "source": [
    "for rel in results[0][\"relations\"]:\n",
    "    print(\"{}({}={} - {}={})\".format(\n",
    "        rel.result, \n",
    "        rel.metadata['entity1'], \n",
    "        rel.metadata['chunk1'], \n",
    "        rel.metadata['entity2'],\n",
    "        rel.metadata['chunk2']\n",
    "    ))"
   ]
  },
  {
   "cell_type": "code",
   "execution_count": 0,
   "metadata": {
    "application/vnd.databricks.v1+cell": {
     "inputWidgets": {},
     "nuid": "3317af49-977b-43e7-bff4-c749cf8c6b5c",
     "showTitle": false,
     "title": ""
    }
   },
   "outputs": [
    {
     "data": {
      "text/html": [
       "<style scoped>\n",
       "  .ansiout {\n",
       "    display: block;\n",
       "    unicode-bidi: embed;\n",
       "    white-space: pre-wrap;\n",
       "    word-wrap: break-word;\n",
       "    word-break: break-all;\n",
       "    font-family: \"Source Code Pro\", \"Menlo\", monospace;;\n",
       "    font-size: 13px;\n",
       "    color: #555;\n",
       "    margin-left: 4px;\n",
       "    line-height: 19px;\n",
       "  }\n",
       "</style>\n",
       "<div class=\"ansiout\">Out[9]: </div>"
      ]
     },
     "metadata": {
      "application/vnd.databricks.v1+output": {
       "addedWidgets": {},
       "arguments": {},
       "data": "<div class=\"ansiout\">Out[9]: </div>",
       "datasetInfos": [],
       "removedWidgets": [],
       "type": "html"
      }
     },
     "output_type": "display_data"
    },
    {
     "data": {
      "text/html": [
       "<div>\n",
       "<style scoped>\n",
       "    .dataframe tbody tr th:only-of-type {\n",
       "        vertical-align: middle;\n",
       "    }\n",
       "\n",
       "    .dataframe tbody tr th {\n",
       "        vertical-align: top;\n",
       "    }\n",
       "\n",
       "    .dataframe thead th {\n",
       "        text-align: right;\n",
       "    }\n",
       "</style>\n",
       "<table border=\"1\" class=\"dataframe\">\n",
       "  <thead>\n",
       "    <tr style=\"text-align: right;\">\n",
       "      <th></th>\n",
       "      <th>relation</th>\n",
       "      <th>entity1</th>\n",
       "      <th>entity1_begin</th>\n",
       "      <th>entity1_end</th>\n",
       "      <th>chunk1</th>\n",
       "      <th>entity2</th>\n",
       "      <th>entity2_begin</th>\n",
       "      <th>entity2_end</th>\n",
       "      <th>chunk2</th>\n",
       "      <th>confidence</th>\n",
       "    </tr>\n",
       "  </thead>\n",
       "  <tbody>\n",
       "    <tr>\n",
       "      <th>0</th>\n",
       "      <td>DOSAGE-DRUG</td>\n",
       "      <td>DOSAGE</td>\n",
       "      <td>28</td>\n",
       "      <td>33</td>\n",
       "      <td>1 unit</td>\n",
       "      <td>DRUG</td>\n",
       "      <td>38</td>\n",
       "      <td>42</td>\n",
       "      <td>Advil</td>\n",
       "      <td>1.0</td>\n",
       "    </tr>\n",
       "    <tr>\n",
       "      <th>1</th>\n",
       "      <td>DRUG-DURATION</td>\n",
       "      <td>DRUG</td>\n",
       "      <td>38</td>\n",
       "      <td>42</td>\n",
       "      <td>Advil</td>\n",
       "      <td>DURATION</td>\n",
       "      <td>44</td>\n",
       "      <td>53</td>\n",
       "      <td>for 5 days</td>\n",
       "      <td>1.0</td>\n",
       "    </tr>\n",
       "    <tr>\n",
       "      <th>2</th>\n",
       "      <td>DOSAGE-DRUG</td>\n",
       "      <td>DOSAGE</td>\n",
       "      <td>96</td>\n",
       "      <td>101</td>\n",
       "      <td>1 unit</td>\n",
       "      <td>DRUG</td>\n",
       "      <td>106</td>\n",
       "      <td>114</td>\n",
       "      <td>Metformin</td>\n",
       "      <td>1.0</td>\n",
       "    </tr>\n",
       "    <tr>\n",
       "      <th>3</th>\n",
       "      <td>DRUG-FREQUENCY</td>\n",
       "      <td>DRUG</td>\n",
       "      <td>106</td>\n",
       "      <td>114</td>\n",
       "      <td>Metformin</td>\n",
       "      <td>FREQUENCY</td>\n",
       "      <td>116</td>\n",
       "      <td>120</td>\n",
       "      <td>daily</td>\n",
       "      <td>1.0</td>\n",
       "    </tr>\n",
       "    <tr>\n",
       "      <th>4</th>\n",
       "      <td>DOSAGE-DRUG</td>\n",
       "      <td>DOSAGE</td>\n",
       "      <td>190</td>\n",
       "      <td>197</td>\n",
       "      <td>40 units</td>\n",
       "      <td>DRUG</td>\n",
       "      <td>202</td>\n",
       "      <td>217</td>\n",
       "      <td>insulin glargine</td>\n",
       "      <td>1.0</td>\n",
       "    </tr>\n",
       "    <tr>\n",
       "      <th>5</th>\n",
       "      <td>DRUG-FREQUENCY</td>\n",
       "      <td>DRUG</td>\n",
       "      <td>202</td>\n",
       "      <td>217</td>\n",
       "      <td>insulin glargine</td>\n",
       "      <td>FREQUENCY</td>\n",
       "      <td>219</td>\n",
       "      <td>226</td>\n",
       "      <td>at night</td>\n",
       "      <td>1.0</td>\n",
       "    </tr>\n",
       "    <tr>\n",
       "      <th>6</th>\n",
       "      <td>DOSAGE-DRUG</td>\n",
       "      <td>DOSAGE</td>\n",
       "      <td>231</td>\n",
       "      <td>238</td>\n",
       "      <td>12 units</td>\n",
       "      <td>DRUG</td>\n",
       "      <td>243</td>\n",
       "      <td>256</td>\n",
       "      <td>insulin lispro</td>\n",
       "      <td>1.0</td>\n",
       "    </tr>\n",
       "    <tr>\n",
       "      <th>7</th>\n",
       "      <td>DRUG-FREQUENCY</td>\n",
       "      <td>DRUG</td>\n",
       "      <td>243</td>\n",
       "      <td>256</td>\n",
       "      <td>insulin lispro</td>\n",
       "      <td>FREQUENCY</td>\n",
       "      <td>258</td>\n",
       "      <td>267</td>\n",
       "      <td>with meals</td>\n",
       "      <td>1.0</td>\n",
       "    </tr>\n",
       "    <tr>\n",
       "      <th>8</th>\n",
       "      <td>DRUG-STRENGTH</td>\n",
       "      <td>DRUG</td>\n",
       "      <td>275</td>\n",
       "      <td>283</td>\n",
       "      <td>metformin</td>\n",
       "      <td>STRENGTH</td>\n",
       "      <td>285</td>\n",
       "      <td>291</td>\n",
       "      <td>1000 mg</td>\n",
       "      <td>1.0</td>\n",
       "    </tr>\n",
       "    <tr>\n",
       "      <th>9</th>\n",
       "      <td>DRUG-FREQUENCY</td>\n",
       "      <td>DRUG</td>\n",
       "      <td>275</td>\n",
       "      <td>283</td>\n",
       "      <td>metformin</td>\n",
       "      <td>FREQUENCY</td>\n",
       "      <td>293</td>\n",
       "      <td>307</td>\n",
       "      <td>two times a day</td>\n",
       "      <td>1.0</td>\n",
       "    </tr>\n",
       "  </tbody>\n",
       "</table>\n",
       "</div>"
      ]
     },
     "metadata": {
      "application/vnd.databricks.v1+output": {
       "addedWidgets": {},
       "arguments": {},
       "data": "<div>\n<style scoped>\n    .dataframe tbody tr th:only-of-type {\n        vertical-align: middle;\n    }\n\n    .dataframe tbody tr th {\n        vertical-align: top;\n    }\n\n    .dataframe thead th {\n        text-align: right;\n    }\n</style>\n<table border=\"1\" class=\"dataframe\">\n  <thead>\n    <tr style=\"text-align: right;\">\n      <th></th>\n      <th>relation</th>\n      <th>entity1</th>\n      <th>entity1_begin</th>\n      <th>entity1_end</th>\n      <th>chunk1</th>\n      <th>entity2</th>\n      <th>entity2_begin</th>\n      <th>entity2_end</th>\n      <th>chunk2</th>\n      <th>confidence</th>\n    </tr>\n  </thead>\n  <tbody>\n    <tr>\n      <th>0</th>\n      <td>DOSAGE-DRUG</td>\n      <td>DOSAGE</td>\n      <td>28</td>\n      <td>33</td>\n      <td>1 unit</td>\n      <td>DRUG</td>\n      <td>38</td>\n      <td>42</td>\n      <td>Advil</td>\n      <td>1.0</td>\n    </tr>\n    <tr>\n      <th>1</th>\n      <td>DRUG-DURATION</td>\n      <td>DRUG</td>\n      <td>38</td>\n      <td>42</td>\n      <td>Advil</td>\n      <td>DURATION</td>\n      <td>44</td>\n      <td>53</td>\n      <td>for 5 days</td>\n      <td>1.0</td>\n    </tr>\n    <tr>\n      <th>2</th>\n      <td>DOSAGE-DRUG</td>\n      <td>DOSAGE</td>\n      <td>96</td>\n      <td>101</td>\n      <td>1 unit</td>\n      <td>DRUG</td>\n      <td>106</td>\n      <td>114</td>\n      <td>Metformin</td>\n      <td>1.0</td>\n    </tr>\n    <tr>\n      <th>3</th>\n      <td>DRUG-FREQUENCY</td>\n      <td>DRUG</td>\n      <td>106</td>\n      <td>114</td>\n      <td>Metformin</td>\n      <td>FREQUENCY</td>\n      <td>116</td>\n      <td>120</td>\n      <td>daily</td>\n      <td>1.0</td>\n    </tr>\n    <tr>\n      <th>4</th>\n      <td>DOSAGE-DRUG</td>\n      <td>DOSAGE</td>\n      <td>190</td>\n      <td>197</td>\n      <td>40 units</td>\n      <td>DRUG</td>\n      <td>202</td>\n      <td>217</td>\n      <td>insulin glargine</td>\n      <td>1.0</td>\n    </tr>\n    <tr>\n      <th>5</th>\n      <td>DRUG-FREQUENCY</td>\n      <td>DRUG</td>\n      <td>202</td>\n      <td>217</td>\n      <td>insulin glargine</td>\n      <td>FREQUENCY</td>\n      <td>219</td>\n      <td>226</td>\n      <td>at night</td>\n      <td>1.0</td>\n    </tr>\n    <tr>\n      <th>6</th>\n      <td>DOSAGE-DRUG</td>\n      <td>DOSAGE</td>\n      <td>231</td>\n      <td>238</td>\n      <td>12 units</td>\n      <td>DRUG</td>\n      <td>243</td>\n      <td>256</td>\n      <td>insulin lispro</td>\n      <td>1.0</td>\n    </tr>\n    <tr>\n      <th>7</th>\n      <td>DRUG-FREQUENCY</td>\n      <td>DRUG</td>\n      <td>243</td>\n      <td>256</td>\n      <td>insulin lispro</td>\n      <td>FREQUENCY</td>\n      <td>258</td>\n      <td>267</td>\n      <td>with meals</td>\n      <td>1.0</td>\n    </tr>\n    <tr>\n      <th>8</th>\n      <td>DRUG-STRENGTH</td>\n      <td>DRUG</td>\n      <td>275</td>\n      <td>283</td>\n      <td>metformin</td>\n      <td>STRENGTH</td>\n      <td>285</td>\n      <td>291</td>\n      <td>1000 mg</td>\n      <td>1.0</td>\n    </tr>\n    <tr>\n      <th>9</th>\n      <td>DRUG-FREQUENCY</td>\n      <td>DRUG</td>\n      <td>275</td>\n      <td>283</td>\n      <td>metformin</td>\n      <td>FREQUENCY</td>\n      <td>293</td>\n      <td>307</td>\n      <td>two times a day</td>\n      <td>1.0</td>\n    </tr>\n  </tbody>\n</table>\n</div>",
       "datasetInfos": [],
       "removedWidgets": [],
       "textData": null,
       "type": "htmlSandbox"
      }
     },
     "output_type": "display_data"
    }
   ],
   "source": [
    "import pandas as pd\n",
    "\n",
    "def get_relations_df (results, col='relations'):\n",
    "  rel_pairs=[]\n",
    "  for rel in results[0][col]:\n",
    "      rel_pairs.append((\n",
    "          rel.result, \n",
    "          rel.metadata['entity1'], \n",
    "          rel.metadata['entity1_begin'],\n",
    "          rel.metadata['entity1_end'],\n",
    "          rel.metadata['chunk1'], \n",
    "          rel.metadata['entity2'],\n",
    "          rel.metadata['entity2_begin'],\n",
    "          rel.metadata['entity2_end'],\n",
    "          rel.metadata['chunk2'], \n",
    "          rel.metadata['confidence']\n",
    "      ))\n",
    "\n",
    "  rel_df = pd.DataFrame(rel_pairs, columns=['relation','entity1','entity1_begin','entity1_end','chunk1','entity2','entity2_begin','entity2_end','chunk2', 'confidence'])\n",
    "\n",
    "  return rel_df\n",
    "\n",
    "\n",
    "rel_df = get_relations_df (results)\n",
    "\n",
    "rel_df"
   ]
  },
  {
   "cell_type": "code",
   "execution_count": 0,
   "metadata": {
    "application/vnd.databricks.v1+cell": {
     "inputWidgets": {},
     "nuid": "542b987c-fbe2-4073-a79a-6e1d4e0ebe11",
     "showTitle": false,
     "title": ""
    }
   },
   "outputs": [
    {
     "data": {
      "text/html": [
       "<style scoped>\n",
       "  .ansiout {\n",
       "    display: block;\n",
       "    unicode-bidi: embed;\n",
       "    white-space: pre-wrap;\n",
       "    word-wrap: break-word;\n",
       "    word-break: break-all;\n",
       "    font-family: \"Source Code Pro\", \"Menlo\", monospace;;\n",
       "    font-size: 13px;\n",
       "    color: #555;\n",
       "    margin-left: 4px;\n",
       "    line-height: 19px;\n",
       "  }\n",
       "</style>\n",
       "<div class=\"ansiout\">Out[10]: </div>"
      ]
     },
     "metadata": {
      "application/vnd.databricks.v1+output": {
       "addedWidgets": {},
       "arguments": {},
       "data": "<div class=\"ansiout\">Out[10]: </div>",
       "datasetInfos": [],
       "removedWidgets": [],
       "type": "html"
      }
     },
     "output_type": "display_data"
    },
    {
     "data": {
      "text/html": [
       "<div>\n",
       "<style scoped>\n",
       "    .dataframe tbody tr th:only-of-type {\n",
       "        vertical-align: middle;\n",
       "    }\n",
       "\n",
       "    .dataframe tbody tr th {\n",
       "        vertical-align: top;\n",
       "    }\n",
       "\n",
       "    .dataframe thead th {\n",
       "        text-align: right;\n",
       "    }\n",
       "</style>\n",
       "<table border=\"1\" class=\"dataframe\">\n",
       "  <thead>\n",
       "    <tr style=\"text-align: right;\">\n",
       "      <th></th>\n",
       "      <th>relation</th>\n",
       "      <th>entity1</th>\n",
       "      <th>entity1_begin</th>\n",
       "      <th>entity1_end</th>\n",
       "      <th>chunk1</th>\n",
       "      <th>entity2</th>\n",
       "      <th>entity2_begin</th>\n",
       "      <th>entity2_end</th>\n",
       "      <th>chunk2</th>\n",
       "      <th>confidence</th>\n",
       "    </tr>\n",
       "  </thead>\n",
       "  <tbody>\n",
       "    <tr>\n",
       "      <th>0</th>\n",
       "      <td>DURATION-DRUG</td>\n",
       "      <td>DURATION</td>\n",
       "      <td>493</td>\n",
       "      <td>500</td>\n",
       "      <td>five-day</td>\n",
       "      <td>DRUG</td>\n",
       "      <td>512</td>\n",
       "      <td>522</td>\n",
       "      <td>amoxicillin</td>\n",
       "      <td>1.0</td>\n",
       "    </tr>\n",
       "    <tr>\n",
       "      <th>1</th>\n",
       "      <td>DRUG-DURATION</td>\n",
       "      <td>DRUG</td>\n",
       "      <td>681</td>\n",
       "      <td>693</td>\n",
       "      <td>dapagliflozin</td>\n",
       "      <td>DURATION</td>\n",
       "      <td>695</td>\n",
       "      <td>708</td>\n",
       "      <td>for six months</td>\n",
       "      <td>1.0</td>\n",
       "    </tr>\n",
       "    <tr>\n",
       "      <th>2</th>\n",
       "      <td>DRUG-ROUTE</td>\n",
       "      <td>DRUG</td>\n",
       "      <td>1940</td>\n",
       "      <td>1946</td>\n",
       "      <td>insulin</td>\n",
       "      <td>ROUTE</td>\n",
       "      <td>1948</td>\n",
       "      <td>1951</td>\n",
       "      <td>drip</td>\n",
       "      <td>1.0</td>\n",
       "    </tr>\n",
       "    <tr>\n",
       "      <th>3</th>\n",
       "      <td>DOSAGE-DRUG</td>\n",
       "      <td>DOSAGE</td>\n",
       "      <td>2255</td>\n",
       "      <td>2262</td>\n",
       "      <td>40 units</td>\n",
       "      <td>DRUG</td>\n",
       "      <td>2267</td>\n",
       "      <td>2282</td>\n",
       "      <td>insulin glargine</td>\n",
       "      <td>1.0</td>\n",
       "    </tr>\n",
       "    <tr>\n",
       "      <th>4</th>\n",
       "      <td>DRUG-FREQUENCY</td>\n",
       "      <td>DRUG</td>\n",
       "      <td>2267</td>\n",
       "      <td>2282</td>\n",
       "      <td>insulin glargine</td>\n",
       "      <td>FREQUENCY</td>\n",
       "      <td>2284</td>\n",
       "      <td>2291</td>\n",
       "      <td>at night</td>\n",
       "      <td>1.0</td>\n",
       "    </tr>\n",
       "    <tr>\n",
       "      <th>5</th>\n",
       "      <td>DOSAGE-DRUG</td>\n",
       "      <td>DOSAGE</td>\n",
       "      <td>2295</td>\n",
       "      <td>2302</td>\n",
       "      <td>12 units</td>\n",
       "      <td>DRUG</td>\n",
       "      <td>2307</td>\n",
       "      <td>2320</td>\n",
       "      <td>insulin lispro</td>\n",
       "      <td>1.0</td>\n",
       "    </tr>\n",
       "    <tr>\n",
       "      <th>6</th>\n",
       "      <td>DRUG-FREQUENCY</td>\n",
       "      <td>DRUG</td>\n",
       "      <td>2307</td>\n",
       "      <td>2320</td>\n",
       "      <td>insulin lispro</td>\n",
       "      <td>FREQUENCY</td>\n",
       "      <td>2322</td>\n",
       "      <td>2331</td>\n",
       "      <td>with meals</td>\n",
       "      <td>1.0</td>\n",
       "    </tr>\n",
       "    <tr>\n",
       "      <th>7</th>\n",
       "      <td>DRUG-STRENGTH</td>\n",
       "      <td>DRUG</td>\n",
       "      <td>2339</td>\n",
       "      <td>2347</td>\n",
       "      <td>metformin</td>\n",
       "      <td>STRENGTH</td>\n",
       "      <td>2349</td>\n",
       "      <td>2355</td>\n",
       "      <td>1000 mg</td>\n",
       "      <td>1.0</td>\n",
       "    </tr>\n",
       "    <tr>\n",
       "      <th>8</th>\n",
       "      <td>DRUG-FREQUENCY</td>\n",
       "      <td>DRUG</td>\n",
       "      <td>2339</td>\n",
       "      <td>2347</td>\n",
       "      <td>metformin</td>\n",
       "      <td>FREQUENCY</td>\n",
       "      <td>2357</td>\n",
       "      <td>2371</td>\n",
       "      <td>two times a day</td>\n",
       "      <td>1.0</td>\n",
       "    </tr>\n",
       "  </tbody>\n",
       "</table>\n",
       "</div>"
      ]
     },
     "metadata": {
      "application/vnd.databricks.v1+output": {
       "addedWidgets": {},
       "arguments": {},
       "data": "<div>\n<style scoped>\n    .dataframe tbody tr th:only-of-type {\n        vertical-align: middle;\n    }\n\n    .dataframe tbody tr th {\n        vertical-align: top;\n    }\n\n    .dataframe thead th {\n        text-align: right;\n    }\n</style>\n<table border=\"1\" class=\"dataframe\">\n  <thead>\n    <tr style=\"text-align: right;\">\n      <th></th>\n      <th>relation</th>\n      <th>entity1</th>\n      <th>entity1_begin</th>\n      <th>entity1_end</th>\n      <th>chunk1</th>\n      <th>entity2</th>\n      <th>entity2_begin</th>\n      <th>entity2_end</th>\n      <th>chunk2</th>\n      <th>confidence</th>\n    </tr>\n  </thead>\n  <tbody>\n    <tr>\n      <th>0</th>\n      <td>DURATION-DRUG</td>\n      <td>DURATION</td>\n      <td>493</td>\n      <td>500</td>\n      <td>five-day</td>\n      <td>DRUG</td>\n      <td>512</td>\n      <td>522</td>\n      <td>amoxicillin</td>\n      <td>1.0</td>\n    </tr>\n    <tr>\n      <th>1</th>\n      <td>DRUG-DURATION</td>\n      <td>DRUG</td>\n      <td>681</td>\n      <td>693</td>\n      <td>dapagliflozin</td>\n      <td>DURATION</td>\n      <td>695</td>\n      <td>708</td>\n      <td>for six months</td>\n      <td>1.0</td>\n    </tr>\n    <tr>\n      <th>2</th>\n      <td>DRUG-ROUTE</td>\n      <td>DRUG</td>\n      <td>1940</td>\n      <td>1946</td>\n      <td>insulin</td>\n      <td>ROUTE</td>\n      <td>1948</td>\n      <td>1951</td>\n      <td>drip</td>\n      <td>1.0</td>\n    </tr>\n    <tr>\n      <th>3</th>\n      <td>DOSAGE-DRUG</td>\n      <td>DOSAGE</td>\n      <td>2255</td>\n      <td>2262</td>\n      <td>40 units</td>\n      <td>DRUG</td>\n      <td>2267</td>\n      <td>2282</td>\n      <td>insulin glargine</td>\n      <td>1.0</td>\n    </tr>\n    <tr>\n      <th>4</th>\n      <td>DRUG-FREQUENCY</td>\n      <td>DRUG</td>\n      <td>2267</td>\n      <td>2282</td>\n      <td>insulin glargine</td>\n      <td>FREQUENCY</td>\n      <td>2284</td>\n      <td>2291</td>\n      <td>at night</td>\n      <td>1.0</td>\n    </tr>\n    <tr>\n      <th>5</th>\n      <td>DOSAGE-DRUG</td>\n      <td>DOSAGE</td>\n      <td>2295</td>\n      <td>2302</td>\n      <td>12 units</td>\n      <td>DRUG</td>\n      <td>2307</td>\n      <td>2320</td>\n      <td>insulin lispro</td>\n      <td>1.0</td>\n    </tr>\n    <tr>\n      <th>6</th>\n      <td>DRUG-FREQUENCY</td>\n      <td>DRUG</td>\n      <td>2307</td>\n      <td>2320</td>\n      <td>insulin lispro</td>\n      <td>FREQUENCY</td>\n      <td>2322</td>\n      <td>2331</td>\n      <td>with meals</td>\n      <td>1.0</td>\n    </tr>\n    <tr>\n      <th>7</th>\n      <td>DRUG-STRENGTH</td>\n      <td>DRUG</td>\n      <td>2339</td>\n      <td>2347</td>\n      <td>metformin</td>\n      <td>STRENGTH</td>\n      <td>2349</td>\n      <td>2355</td>\n      <td>1000 mg</td>\n      <td>1.0</td>\n    </tr>\n    <tr>\n      <th>8</th>\n      <td>DRUG-FREQUENCY</td>\n      <td>DRUG</td>\n      <td>2339</td>\n      <td>2347</td>\n      <td>metformin</td>\n      <td>FREQUENCY</td>\n      <td>2357</td>\n      <td>2371</td>\n      <td>two times a day</td>\n      <td>1.0</td>\n    </tr>\n  </tbody>\n</table>\n</div>",
       "datasetInfos": [],
       "removedWidgets": [],
       "textData": null,
       "type": "htmlSandbox"
      }
     },
     "output_type": "display_data"
    }
   ],
   "source": [
    "text =\"\"\"A 28-year-old female with a history of gestational diabetes mellitus diagnosed eight years prior to presentation and subsequent type two diabetes mellitus ( T2DM ), \n",
    "one prior episode of HTG-induced pancreatitis three years prior to presentation,  associated with an acute hepatitis , and obesity with a body mass index ( BMI ) of 33.5 kg/m2 , presented with a one-week history of polyuria , polydipsia , poor appetite , and vomiting . Two weeks prior to presentation , she was treated with a five-day course of amoxicillin for a respiratory tract infection . She was on metformin , glipizide , and dapagliflozin for T2DM and atorvastatin and gemfibrozil for HTG . She had been on dapagliflozin for six months at the time of presentation. Physical examination on presentation was significant for dry oral mucosa ; significantly , her abdominal examination was benign with no tenderness , guarding , or rigidity . Pertinent laboratory findings on admission were : serum glucose 111 mg/dl , bicarbonate 18 mmol/l , anion gap 20 , creatinine 0.4 mg/dL , triglycerides 508 mg/dL , total cholesterol 122 mg/dL , glycated hemoglobin ( HbA1c ) 10% , and venous pH 7.27 . Serum lipase was normal at 43 U/L . Serum acetone levels could not be assessed as blood samples kept hemolyzing due to significant lipemia . The patient was initially admitted for starvation ketosis , as she reported poor oral intake for three days prior to admission . However , serum chemistry obtained six hours after presentation revealed her glucose was 186 mg/dL , the anion gap was still elevated at 21 , serum bicarbonate was 16 mmol/L , triglyceride level peaked at 2050 mg/dL , and lipase was 52 U/L . The β-hydroxybutyrate level was obtained and found to be elevated at 5.29 mmol/L - the original sample was centrifuged and the chylomicron layer removed prior to analysis due to interference from turbidity caused by lipemia again . The patient was treated with an insulin drip for euDKA and HTG with a reduction in the anion gap to 13 and triglycerides to 1400 mg/dL , within 24 hours . Her euDKA was thought to be precipitated by her respiratory tract infection in the setting of SGLT2 inhibitor use . The patient was seen by the endocrinology service and she was discharged on 40 units of insulin glargine at night , 12 units of insulin lispro with meals , and metformin 1000 mg two times a day . It was determined that all SGLT2 inhibitors should be discontinued indefinitely . \n",
    "She had close follow-up with endocrinology post discharge .\n",
    "\"\"\"\n",
    "\n",
    "annotations = lmodel.fullAnnotate(text)\n",
    "\n",
    "rel_df = get_relations_df (annotations)\n",
    "\n",
    "rel_df\n",
    "\n"
   ]
  },
  {
   "cell_type": "markdown",
   "metadata": {
    "application/vnd.databricks.v1+cell": {
     "inputWidgets": {},
     "nuid": "1236e3d1-1a69-4625-a115-1c50f70bd1ee",
     "showTitle": false,
     "title": ""
    }
   },
   "source": [
    "### Visualization of Extracted Relations"
   ]
  },
  {
   "cell_type": "code",
   "execution_count": 0,
   "metadata": {
    "application/vnd.databricks.v1+cell": {
     "inputWidgets": {},
     "nuid": "7a21f72c-59e1-4dc6-8fd0-18c6f5c33bdf",
     "showTitle": false,
     "title": ""
    }
   },
   "outputs": [
    {
     "data": {
      "text/html": [
       "<style scoped>\n",
       "  .ansiout {\n",
       "    display: block;\n",
       "    unicode-bidi: embed;\n",
       "    white-space: pre-wrap;\n",
       "    word-wrap: break-word;\n",
       "    word-break: break-all;\n",
       "    font-family: \"Source Code Pro\", \"Menlo\", monospace;;\n",
       "    font-size: 13px;\n",
       "    color: #555;\n",
       "    margin-left: 4px;\n",
       "    line-height: 19px;\n",
       "  }\n",
       "</style>\n",
       "<div class=\"ansiout\"></div>"
      ]
     },
     "metadata": {
      "application/vnd.databricks.v1+output": {
       "addedWidgets": {},
       "arguments": {},
       "data": "<div class=\"ansiout\"></div>",
       "datasetInfos": [],
       "removedWidgets": [],
       "type": "html"
      }
     },
     "output_type": "display_data"
    }
   ],
   "source": [
    "text = \"\"\"\n",
    "The patient was prescribed 1 unit of Advil for 5 days after meals. The patient was also \n",
    "given 1 unit of Metformin daily.\n",
    "He was seen by the endocrinology service and was discharged on 40 units of insulin glargine , \n",
    "12 units of insulin lispro with meals , and metformin two times a day.\n",
    "\"\"\"\n",
    "\n",
    "lmodel = LightPipeline(model)\n",
    "\n",
    "results = lmodel.fullAnnotate(text)"
   ]
  },
  {
   "cell_type": "code",
   "execution_count": 0,
   "metadata": {
    "application/vnd.databricks.v1+cell": {
     "inputWidgets": {},
     "nuid": "246da303-7bff-43fe-b49d-9e462d0e8c9a",
     "showTitle": false,
     "title": ""
    }
   },
   "outputs": [
    {
     "data": {
      "text/html": [
       "<svg baseProfile=\"full\" height=\"575\" version=\"1.1\" width=\"920\" xmlns=\"http://www.w3.org/2000/svg\" xmlns:ev=\"http://www.w3.org/2001/xml-events\" xmlns:xlink=\"http://www.w3.org/1999/xlink\"><defs><style type=\"text/css\"><![CDATA[@font-face{ \n",
       "    font-family: \"Lucida\"; \n",
       "    src: url(\"data:application/x-font-ttf;charset=utf-8;base64,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\"); \n",
       "}\n",
       "]]></style></defs><rect fill=\"#B28497\" fill-opacity=\"0.2\" height=\"25\" rx=\"2\" ry=\"2\" stroke=\"#B28497\" stroke-width=\"1\" width=\"62.89999999999999\" x=\"313.29999999999995\" y=\"57\" /><rect fill=\"#8B668B\" fill-opacity=\"0.2\" height=\"25\" rx=\"2\" ry=\"2\" stroke=\"#8B668B\" stroke-width=\"1\" width=\"53.199999999999996\" x=\"459.6999999999999\" y=\"57\" /><rect fill=\"#DDE586\" fill-opacity=\"0.2\" height=\"25\" rx=\"2\" ry=\"2\" stroke=\"#DDE586\" stroke-width=\"1\" width=\"101.69999999999999\" x=\"562.3\" y=\"57\" /><rect fill=\"#B28497\" fill-opacity=\"0.2\" height=\"25\" rx=\"2\" ry=\"2\" stroke=\"#B28497\" stroke-width=\"1\" width=\"62.89999999999999\" x=\"274.49999999999994\" y=\"157\" /><rect fill=\"#8B668B\" fill-opacity=\"0.2\" height=\"25\" rx=\"2\" ry=\"2\" stroke=\"#8B668B\" stroke-width=\"1\" width=\"92.0\" x=\"420.8999999999999\" y=\"157\" /><rect fill=\"#94E6D0\" fill-opacity=\"0.2\" height=\"25\" rx=\"2\" ry=\"2\" stroke=\"#94E6D0\" stroke-width=\"1\" width=\"53.199999999999996\" x=\"562.3\" y=\"157\" /><rect fill=\"#B28497\" fill-opacity=\"0.2\" height=\"25\" rx=\"2\" ry=\"2\" stroke=\"#B28497\" stroke-width=\"1\" width=\"82.3\" x=\"478.49999999999994\" y=\"257\" /><rect fill=\"#8B668B\" fill-opacity=\"0.2\" height=\"25\" rx=\"2\" ry=\"2\" stroke=\"#8B668B\" stroke-width=\"1\" width=\"159.89999999999998\" x=\"644.3000000000001\" y=\"257\" /><rect fill=\"#B28497\" fill-opacity=\"0.2\" height=\"25\" rx=\"2\" ry=\"2\" stroke=\"#B28497\" stroke-width=\"1\" width=\"82.3\" x=\"7\" y=\"357\" /><rect fill=\"#8B668B\" fill-opacity=\"0.2\" height=\"25\" rx=\"2\" ry=\"2\" stroke=\"#8B668B\" stroke-width=\"1\" width=\"140.5\" x=\"172.79999999999998\" y=\"357\" /><rect fill=\"#94E6D0\" fill-opacity=\"0.2\" height=\"25\" rx=\"2\" ry=\"2\" stroke=\"#94E6D0\" stroke-width=\"1\" width=\"101.69999999999999\" x=\"362.69999999999993\" y=\"357\" /><rect fill=\"#8B668B\" fill-opacity=\"0.2\" height=\"25\" rx=\"2\" ry=\"2\" stroke=\"#8B668B\" stroke-width=\"1\" width=\"92.0\" x=\"581.9999999999999\" y=\"357\" /><rect fill=\"#94E6D0\" fill-opacity=\"0.2\" height=\"25\" rx=\"2\" ry=\"2\" stroke=\"#94E6D0\" stroke-width=\"1\" width=\"150.2\" x=\"723.4\" y=\"357\" /><text fill=\"#546c74\" font-family=\"Lucida\" font-size=\"16\" style=\"font-weight:100\" x=\"10\" y=\"75\">\n",
       "The</text><text fill=\"#546c74\" font-family=\"Lucida\" font-size=\"16\" style=\"font-weight:100\" x=\"63.5\" y=\"75\">patient</text><text fill=\"#546c74\" font-family=\"Lucida\" font-size=\"16\" style=\"font-weight:100\" x=\"146.1\" y=\"75\">was</text><text fill=\"#546c74\" font-family=\"Lucida\" font-size=\"16\" style=\"font-weight:100\" x=\"189.89999999999998\" y=\"75\">prescribed</text><text fill=\"#546c74\" font-family=\"Lucida\" font-size=\"16\" style=\"font-weight:100\" x=\"301.59999999999997\" y=\"75\" /><text fill=\"#546c74\" font-family=\"Lucida\" font-size=\"16\" style=\"font-weight:100\" x=\"316.29999999999995\" y=\"75\">1 unit</text><text fill=\"#1f77b7\" font-family=\"Lucida\" font-size=\"12\" style=\"font-weight:lighter\" x=\"324.87727272727267\" y=\"95\">DOSAGE</text><text fill=\"#546c74\" font-family=\"Lucida\" font-size=\"16\" style=\"font-weight:100\" x=\"399.19999999999993\" y=\"75\" /><text fill=\"#546c74\" font-family=\"Lucida\" font-size=\"16\" style=\"font-weight:100\" x=\"413.8999999999999\" y=\"75\">of</text><text fill=\"#546c74\" font-family=\"Lucida\" font-size=\"16\" style=\"font-weight:100\" x=\"447.9999999999999\" y=\"75\" /><text fill=\"#546c74\" font-family=\"Lucida\" font-size=\"16\" style=\"font-weight:100\" x=\"462.6999999999999\" y=\"75\">Advil</text><text fill=\"#1f77b7\" font-family=\"Lucida\" font-size=\"12\" style=\"font-weight:lighter\" x=\"473.4818181818181\" y=\"95\">DRUG</text><text fill=\"#546c74\" font-family=\"Lucida\" font-size=\"16\" style=\"font-weight:100\" x=\"535.8999999999999\" y=\"75\" /><text fill=\"#546c74\" font-family=\"Lucida\" font-size=\"16\" style=\"font-weight:100\" x=\"550.5999999999999\" y=\"75\" /><text fill=\"#546c74\" font-family=\"Lucida\" font-size=\"16\" style=\"font-weight:100\" x=\"565.3\" y=\"75\">for 5 days</text><text fill=\"#1f77b7\" font-family=\"Lucida\" font-size=\"12\" style=\"font-weight:lighter\" x=\"586.2227272727273\" y=\"95\">DURATION</text><text fill=\"#546c74\" font-family=\"Lucida\" font-size=\"16\" style=\"font-weight:100\" x=\"687.0\" y=\"75\" /><text fill=\"#546c74\" font-family=\"Lucida\" font-size=\"16\" style=\"font-weight:100\" x=\"701.7\" y=\"75\">after</text><text fill=\"#546c74\" font-family=\"Lucida\" font-size=\"16\" style=\"font-weight:100\" x=\"764.9000000000001\" y=\"75\">meals.</text><text fill=\"#546c74\" font-family=\"Lucida\" font-size=\"16\" style=\"font-weight:100\" x=\"837.8000000000001\" y=\"75\">The</text><text fill=\"#546c74\" font-family=\"Lucida\" font-size=\"16\" style=\"font-weight:100\" x=\"10\" y=\"175\">patient</text><text fill=\"#546c74\" font-family=\"Lucida\" font-size=\"16\" style=\"font-weight:100\" x=\"92.6\" y=\"175\">was</text><text fill=\"#546c74\" font-family=\"Lucida\" font-size=\"16\" style=\"font-weight:100\" x=\"136.39999999999998\" y=\"175\">also</text><text fill=\"#546c74\" font-family=\"Lucida\" font-size=\"16\" style=\"font-weight:100\" x=\"189.89999999999998\" y=\"175\">\n",
       "given</text><text fill=\"#546c74\" font-family=\"Lucida\" font-size=\"16\" style=\"font-weight:100\" x=\"262.79999999999995\" y=\"175\" /><text fill=\"#546c74\" font-family=\"Lucida\" font-size=\"16\" style=\"font-weight:100\" x=\"277.49999999999994\" y=\"175\">1 unit</text><text fill=\"#1f77b7\" font-family=\"Lucida\" font-size=\"12\" style=\"font-weight:lighter\" x=\"286.07727272727266\" y=\"195\">DOSAGE</text><text fill=\"#546c74\" font-family=\"Lucida\" font-size=\"16\" style=\"font-weight:100\" x=\"360.3999999999999\" y=\"175\" /><text fill=\"#546c74\" font-family=\"Lucida\" font-size=\"16\" style=\"font-weight:100\" x=\"375.0999999999999\" y=\"175\">of</text><text fill=\"#546c74\" font-family=\"Lucida\" font-size=\"16\" style=\"font-weight:100\" x=\"409.19999999999993\" y=\"175\" /><text fill=\"#546c74\" font-family=\"Lucida\" font-size=\"16\" style=\"font-weight:100\" x=\"423.8999999999999\" y=\"175\">Metformin</text><text fill=\"#1f77b7\" font-family=\"Lucida\" font-size=\"12\" style=\"font-weight:lighter\" x=\"454.0818181818181\" y=\"195\">DRUG</text><text fill=\"#546c74\" font-family=\"Lucida\" font-size=\"16\" style=\"font-weight:100\" x=\"535.8999999999999\" y=\"175\" /><text fill=\"#546c74\" font-family=\"Lucida\" font-size=\"16\" style=\"font-weight:100\" x=\"550.5999999999999\" y=\"175\" /><text fill=\"#546c74\" font-family=\"Lucida\" font-size=\"16\" style=\"font-weight:100\" x=\"565.3\" y=\"175\">daily</text><text fill=\"#1f77b7\" font-family=\"Lucida\" font-size=\"12\" style=\"font-weight:lighter\" x=\"558.4454545454545\" y=\"195\">FREQUENCY</text><text fill=\"#546c74\" font-family=\"Lucida\" font-size=\"16\" style=\"font-weight:100\" x=\"638.5\" y=\"175\">.\n",
       "He</text><text fill=\"#546c74\" font-family=\"Lucida\" font-size=\"16\" style=\"font-weight:100\" x=\"692.0\" y=\"175\">was</text><text fill=\"#546c74\" font-family=\"Lucida\" font-size=\"16\" style=\"font-weight:100\" x=\"735.8\" y=\"175\">seen</text><text fill=\"#546c74\" font-family=\"Lucida\" font-size=\"16\" style=\"font-weight:100\" x=\"789.3\" y=\"175\">by</text><text fill=\"#546c74\" font-family=\"Lucida\" font-size=\"16\" style=\"font-weight:100\" x=\"823.4\" y=\"175\">the</text><text fill=\"#546c74\" font-family=\"Lucida\" font-size=\"16\" style=\"font-weight:100\" x=\"10\" y=\"275\">endocrinology</text><text fill=\"#546c74\" font-family=\"Lucida\" font-size=\"16\" style=\"font-weight:100\" x=\"150.79999999999998\" y=\"275\">service</text><text fill=\"#546c74\" font-family=\"Lucida\" font-size=\"16\" style=\"font-weight:100\" x=\"233.39999999999998\" y=\"275\">and</text><text fill=\"#546c74\" font-family=\"Lucida\" font-size=\"16\" style=\"font-weight:100\" x=\"277.2\" y=\"275\">was</text><text fill=\"#546c74\" font-family=\"Lucida\" font-size=\"16\" style=\"font-weight:100\" x=\"321.0\" y=\"275\">discharged</text><text fill=\"#546c74\" font-family=\"Lucida\" font-size=\"16\" style=\"font-weight:100\" x=\"432.7\" y=\"275\">on</text><text fill=\"#546c74\" font-family=\"Lucida\" font-size=\"16\" style=\"font-weight:100\" x=\"466.79999999999995\" y=\"275\" /><text fill=\"#546c74\" font-family=\"Lucida\" font-size=\"16\" style=\"font-weight:100\" x=\"481.49999999999994\" y=\"275\">40 units</text><text fill=\"#1f77b7\" font-family=\"Lucida\" font-size=\"12\" style=\"font-weight:lighter\" x=\"499.7772727272727\" y=\"295\">DOSAGE</text><text fill=\"#546c74\" font-family=\"Lucida\" font-size=\"16\" style=\"font-weight:100\" x=\"583.8\" y=\"275\" /><text fill=\"#546c74\" font-family=\"Lucida\" font-size=\"16\" style=\"font-weight:100\" x=\"598.5\" y=\"275\">of</text><text fill=\"#546c74\" font-family=\"Lucida\" font-size=\"16\" style=\"font-weight:100\" x=\"632.6\" y=\"275\" /><text fill=\"#546c74\" font-family=\"Lucida\" font-size=\"16\" style=\"font-weight:100\" x=\"647.3000000000001\" y=\"275\">insulin glargine</text><text fill=\"#1f77b7\" font-family=\"Lucida\" font-size=\"12\" style=\"font-weight:lighter\" x=\"711.4318181818181\" y=\"295\">DRUG</text><text fill=\"#546c74\" font-family=\"Lucida\" font-size=\"16\" style=\"font-weight:100\" x=\"827.2\" y=\"275\" /><text fill=\"#546c74\" font-family=\"Lucida\" font-size=\"16\" style=\"font-weight:100\" x=\"841.9000000000001\" y=\"275\">,</text><text fill=\"#546c74\" font-family=\"Lucida\" font-size=\"16\" style=\"font-weight:100\" x=\"866.3000000000001\" y=\"275\">\n",
       "</text><text fill=\"#546c74\" font-family=\"Lucida\" font-size=\"16\" style=\"font-weight:100\" x=\"10\" y=\"375\">12 units</text><text fill=\"#1f77b7\" font-family=\"Lucida\" font-size=\"12\" style=\"font-weight:lighter\" x=\"28.277272727272727\" y=\"395\">DOSAGE</text><text fill=\"#546c74\" font-family=\"Lucida\" font-size=\"16\" style=\"font-weight:100\" x=\"112.3\" y=\"375\" /><text fill=\"#546c74\" font-family=\"Lucida\" font-size=\"16\" style=\"font-weight:100\" x=\"127.0\" y=\"375\">of</text><text fill=\"#546c74\" font-family=\"Lucida\" font-size=\"16\" style=\"font-weight:100\" x=\"161.1\" y=\"375\" /><text fill=\"#546c74\" font-family=\"Lucida\" font-size=\"16\" style=\"font-weight:100\" x=\"175.79999999999998\" y=\"375\">insulin lispro</text><text fill=\"#1f77b7\" font-family=\"Lucida\" font-size=\"12\" style=\"font-weight:lighter\" x=\"230.23181818181817\" y=\"395\">DRUG</text><text fill=\"#546c74\" font-family=\"Lucida\" font-size=\"16\" style=\"font-weight:100\" x=\"336.29999999999995\" y=\"375\" /><text fill=\"#546c74\" font-family=\"Lucida\" font-size=\"16\" style=\"font-weight:100\" x=\"350.99999999999994\" y=\"375\" /><text fill=\"#546c74\" font-family=\"Lucida\" font-size=\"16\" style=\"font-weight:100\" x=\"365.69999999999993\" y=\"375\">with meals</text><text fill=\"#1f77b7\" font-family=\"Lucida\" font-size=\"12\" style=\"font-weight:lighter\" x=\"383.0954545454545\" y=\"395\">FREQUENCY</text><text fill=\"#546c74\" font-family=\"Lucida\" font-size=\"16\" style=\"font-weight:100\" x=\"487.3999999999999\" y=\"375\" /><text fill=\"#546c74\" font-family=\"Lucida\" font-size=\"16\" style=\"font-weight:100\" x=\"502.0999999999999\" y=\"375\">,</text><text fill=\"#546c74\" font-family=\"Lucida\" font-size=\"16\" style=\"font-weight:100\" x=\"526.4999999999999\" y=\"375\">and</text><text fill=\"#546c74\" font-family=\"Lucida\" font-size=\"16\" style=\"font-weight:100\" x=\"570.2999999999998\" y=\"375\" /><text fill=\"#546c74\" font-family=\"Lucida\" font-size=\"16\" style=\"font-weight:100\" x=\"584.9999999999999\" y=\"375\">metformin</text><text fill=\"#1f77b7\" font-family=\"Lucida\" font-size=\"12\" style=\"font-weight:lighter\" x=\"615.181818181818\" y=\"395\">DRUG</text><text fill=\"#546c74\" font-family=\"Lucida\" font-size=\"16\" style=\"font-weight:100\" x=\"696.9999999999999\" y=\"375\" /><text fill=\"#546c74\" font-family=\"Lucida\" font-size=\"16\" style=\"font-weight:100\" x=\"711.6999999999999\" y=\"375\" /><text fill=\"#546c74\" font-family=\"Lucida\" font-size=\"16\" style=\"font-weight:100\" x=\"726.4\" y=\"375\">two times a day</text><text fill=\"#1f77b7\" font-family=\"Lucida\" font-size=\"12\" style=\"font-weight:lighter\" x=\"768.0454545454545\" y=\"395\">FREQUENCY</text><text fill=\"#546c77\" font-family=\"Lucida\" font-size=\"16\" style=\"font-weight:100\" x=\"10\" y=\"475\">.\n",
       "</text><polyline fill=\"none\" points=\"586.0,155.0 584.8571428571428,153.7960798646822 583.7142857142856,152.59312871337622 582.5714285714286,151.39211553009378 581.4285714285714,150.19400929884657 580.2857142857142,148.99977900364644 579.1428571428571,147.81039362850512 578.0000000000001,146.62682215743445 576.857142857143,145.45003357444605 575.7142857142859,144.28099686355176 574.5714285714286,143.12068100876337 573.4285714285713,141.97005499409258 572.2857142857142,140.83008780355124 571.1428571428571,139.70174842115105 570.0000000000001,138.5860058309038 568.857142857143,137.48382901682123 567.7142857142858,136.39618696291512 566.5714285714287,135.32404865319725 565.4285714285714,134.2683830716793 564.2857142857143,133.23015920237316 563.1428571428571,132.2103460292905 562.0,131.20991253644314 560.8571428571429,130.22982770784282 559.7142857142858,129.2710605275013 558.5714285714287,128.33457997943034 557.4285714285714,127.42135504764173 556.2857142857143,126.53235471614718 555.1428571428572,125.6685479689585 554.0,124.83090379008749 552.8571428571429,124.02039116354581 551.7142857142858,123.2379790733453 550.5714285714287,122.48463650349771 549.4285714285713,121.76133243801479 548.2857142857143,121.06903586090831 547.1428571428571,120.40871575619002 546.0000000000001,119.78134110787173 544.8571428571429,119.18788089996517 543.7142857142858,118.62930411648207 542.5714285714286,118.10657974143427 541.4285714285714,117.62067675883348 540.2857142857143,117.17256415269148 539.1428571428572,116.76321090702004 538.0000000000001,116.39358600583091 536.8571428571429,116.06465843313586 535.7142857142858,115.77739717294665 534.5714285714287,115.53277120927505 533.4285714285714,115.33174952613282 532.2857142857143,115.17530110753174 531.1428571428571,115.06439493748353 530.0,115.0 530.0,115.0 528.8571428571428,114.9827622844223 527.7142857142857,115.01203580140927 526.5714285714286,115.08685156694916 525.4285714285714,115.20624059703015 524.2857142857143,115.36923390764053 523.1428571428571,115.57486251476851 522.0000000000002,115.82215743440234 520.8571428571429,116.11014968253025 519.7142857142858,116.43787027514047 518.5714285714284,116.80435022822121 517.4285714285713,117.20862055776078 516.2857142857141,117.64971227974738 515.1428571428571,118.12665641016923 514.0,118.63848396501459 512.8571428571429,119.18422596027166 511.7142857142858,119.7629134119287 510.5714285714286,120.37357733597398 509.4285714285714,121.01524874839565 508.2857142857143,121.68695866518203 507.142857142857,122.3877381023213 505.9999999999999,123.11661807580174 504.8571428571429,123.87262960161156 503.7142857142856,124.654803695739 502.5714285714286,125.46217137417233 501.42857142857144,126.29376365289971 500.2857142857143,127.14861154790944 499.14285714285717,128.02574607518974 498.00000000000006,128.92419825072886 496.8571428571429,129.842999090515 495.7142857142857,130.7811796105364 494.57142857142856,131.73777082678137 493.42857142857144,132.71180375523804 492.2857142857143,133.7023094118947 491.1428571428571,134.7083188127396 490.0,135.72886297376095 488.85714285714283,136.76297291094698 487.7142857142857,137.80967964028594 486.57142857142856,138.86801417776604 485.42857142857144,139.9370075393756 484.28571428571433,141.01569074110276 483.1428571428571,142.1030947989358 482.0,143.19825072886297 480.85714285714283,144.30018954687245 479.71428571428567,145.40794226895255 478.57142857142856,146.52053991109145 477.42857142857144,147.63701348927742 476.28571428571433,148.75639401949866 475.1428571428571,149.87771251774345 474.0,151.0\" stroke=\"slategray\" stroke-width=\"1\" /><polyline fill=\"none\" points=\"481.03732837971563,151.68993415487407 474,151 474.6899341548741,143.96267162028434 474,151\" stroke=\"slategray\" stroke-width=\"1\" /><rect fill=\"white\" height=\"13\" rx=\"2\" ry=\"2\" stroke=\"slategray\" stroke-width=\"1\" transform=\"rotate(0 528.5 116.5)\" width=\"107.07407407407406\" x=\"474.962962962963\" y=\"110\" /><text fill=\"slategray\" font-family=\"courier\" font-size=\"12\" transform=\"rotate(0 528.5 116.5)\" x=\"477.962962962963\" y=\"120\">DRUG-FREQUENCY</text><polyline fill=\"none\" points=\"611.0,55.0 609.8061224489794,53.79607986468223 608.6122448979589,52.593128713376224 607.4183673469389,51.39211553009376 606.2244897959183,50.194009298846574 605.030612244898,48.999779003646445 603.8367346938775,47.810393628505125 602.6428571428572,46.626822157434425 601.4489795918367,45.450033574446024 600.2551020408163,44.280996863551756 599.0612244897959,43.12068100876335 597.8673469387754,41.97005499409259 596.673469387755,40.83008780355124 595.4795918367346,39.70174842115105 594.2857142857143,38.586005830903794 593.0918367346939,37.48382901682123 591.8979591836735,36.396186962915124 590.7040816326531,35.32404865319723 589.5102040816327,34.26838307167932 588.3163265306123,33.23015920237316 587.1224489795917,32.21034602929051 585.9285714285713,31.209912536443145 584.734693877551,30.229827707842823 583.5408163265306,29.271060527501298 582.3469387755102,28.334579979430348 581.1530612244898,27.421355047641715 579.9591836734693,26.532354716147186 578.7653061224489,25.668547968958514 577.5714285714287,24.83090379008747 576.3775510204082,24.020391163545803 575.1836734693877,23.237979073345294 573.9897959183673,22.484636503497697 572.795918367347,21.761332438014776 571.6020408163265,21.069035860908297 570.4081632653061,20.408715756190023 569.2142857142857,19.781341107871725 568.0204081632653,19.187880899965155 566.8265306122449,18.629304116482082 565.6326530612245,18.106579741434267 564.4387755102041,17.620676758833483 563.2448979591837,17.172564152691482 562.0510204081633,16.76321090702004 560.8571428571429,16.393586005830905 559.6632653061224,16.064658433135854 558.469387755102,15.77739717294665 557.2755102040817,15.53277120927505 556.0816326530612,15.33174952613282 554.8877551020408,15.175301107531727 553.6938775510204,15.064394937483533 552.5,15.0 552.5,15.0 551.3061224489795,14.982762284422305 550.1122448979592,15.012035801409274 548.9183673469388,15.086851566949145 547.7244897959184,15.20624059703015 546.530612244898,15.369233907640522 545.3367346938775,15.574862514768505 544.1428571428573,15.822157434402333 542.9489795918367,16.11014968253024 541.7551020408164,16.43787027514046 540.5612244897959,16.80435022822123 539.3673469387755,17.208620557760792 538.173469387755,17.64971227974738 536.9795918367346,18.126656410169232 535.7857142857142,18.638483965014576 534.591836734694,19.184225960271654 533.3979591836735,19.762913411928704 532.2040816326531,20.37357733597396 531.0102040816327,21.01524874839565 529.8163265306123,21.686958665182026 528.6224489795918,22.387738102321304 527.4285714285713,23.116618075801746 526.234693877551,23.87262960161157 525.0408163265306,24.654803695739016 523.8469387755102,25.462171374172325 522.6530612244898,26.293763652899724 521.4591836734694,27.148611547909454 520.265306122449,28.02574607518976 519.0714285714287,28.92419825072886 517.8775510204082,29.842999090515008 516.6836734693878,30.78117961053642 515.4897959183673,31.737770826781354 514.295918367347,32.71180375523804 513.1020408163265,33.7023094118947 511.90816326530614,34.70831881273959 510.7142857142858,35.728862973760926 509.5204081632653,36.762972910946964 508.3265306122449,37.809679640285935 507.13265306122446,38.868014177766064 505.9387755102041,39.93700753937559 504.74489795918373,41.015690741102766 503.55102040816325,42.103094798935814 502.3571428571429,43.19825072886297 501.16326530612247,44.300189546872474 499.96938775510205,45.40794226895255 498.7755102040816,46.52053991109146 497.5816326530612,47.63701348927743 496.38775510204084,48.75639401949867 495.19387755102036,49.877712517743454 494.0,51.0\" stroke=\"#C3A2D4\" stroke-width=\"1\" /><polyline fill=\"none\" points=\"501.0210168629087,51.839834552979504 494,51 494.8398345529795,43.97898313709131 494,51\" stroke=\"#C3A2D4\" stroke-width=\"1\" /><rect fill=\"white\" height=\"13\" rx=\"2\" ry=\"2\" stroke=\"#C3A2D4\" stroke-width=\"1\" transform=\"rotate(0 551.0 16.5)\" width=\"99.88888888888887\" x=\"501.05555555555554\" y=\"10\" /><text fill=\"#C3A2D4\" font-family=\"courier\" font-size=\"12\" transform=\"rotate(0 551.0 16.5)\" x=\"504.05555555555554\" y=\"20\">DRUG-DURATION</text><polyline fill=\"none\" points=\"484.0,55.0 482.65306122448976,53.79607986468223 481.3061224489795,52.593128713376224 479.9591836734694,51.39211553009376 478.61224489795916,50.194009298846574 477.2653061224489,48.999779003646445 475.91836734693874,47.810393628505125 474.5714285714287,46.626822157434425 473.2244897959185,45.450033574446024 471.87755102040825,44.280996863551756 470.53061224489795,43.12068100876335 469.1836734693877,41.97005499409259 467.8367346938774,40.83008780355124 466.48979591836735,39.70174842115105 465.1428571428571,38.586005830903794 463.795918367347,37.48382901682123 462.4489795918368,36.396186962915124 461.10204081632656,35.32404865319723 459.7551020408163,34.26838307167932 458.40816326530614,33.23015920237316 457.06122448979585,32.21034602929051 455.71428571428567,31.209912536443145 454.36734693877554,30.229827707842823 453.0204081632653,29.271060527501298 451.6734693877551,28.334579979430348 450.3265306122449,27.421355047641715 448.9795918367347,26.532354716147186 447.6326530612245,25.668547968958514 446.28571428571433,24.83090379008747 444.9387755102041,24.020391163545803 443.59183673469386,23.237979073345294 442.2448979591837,22.484636503497697 440.8979591836735,21.761332438014776 439.55102040816325,21.069035860908297 438.204081632653,20.408715756190023 436.8571428571429,19.781341107871725 435.51020408163265,19.187880899965155 434.16326530612247,18.629304116482082 432.8163265306123,18.106579741434267 431.46938775510205,17.620676758833483 430.1224489795918,17.172564152691482 428.7755102040817,16.76321090702004 427.42857142857144,16.393586005830905 426.0816326530612,16.064658433135854 424.734693877551,15.77739717294665 423.38775510204084,15.53277120927505 422.04081632653066,15.33174952613282 420.6938775510204,15.175301107531727 419.34693877551024,15.064394937483533 418.0,15.0 418.0,15.0 416.65306122448976,14.982762284422305 415.3061224489795,15.012035801409274 413.9591836734694,15.086851566949145 412.6122448979592,15.20624059703015 411.265306122449,15.369233907640522 409.91836734693874,15.574862514768505 408.5714285714286,15.822157434402333 407.22448979591843,16.11014968253024 405.87755102040825,16.43787027514046 404.5306122448979,16.80435022822123 403.1836734693877,17.208620557760792 401.8367346938774,17.64971227974738 400.4897959183673,18.126656410169232 399.1428571428571,18.638483965014576 397.795918367347,19.184225960271654 396.44897959183675,19.762913411928704 395.1020408163266,20.37357733597396 393.7551020408163,21.01524874839565 392.40816326530614,21.686958665182026 391.06122448979585,22.387738102321304 389.71428571428567,23.116618075801746 388.3673469387755,23.87262960161157 387.02040816326524,24.654803695739016 385.67346938775506,25.462171374172325 384.3265306122449,26.293763652899724 382.9795918367347,27.148611547909454 381.63265306122446,28.02574607518976 380.28571428571433,28.92419825072886 378.9387755102041,29.842999090515008 377.59183673469386,30.78117961053642 376.24489795918373,31.737770826781354 374.89795918367344,32.71180375523804 373.5510204081633,33.7023094118947 372.204081632653,34.70831881273959 370.8571428571429,35.728862973760926 369.51020408163265,36.762972910946964 368.1632653061224,37.809679640285935 366.8163265306123,38.868014177766064 365.46938775510205,39.93700753937559 364.1224489795918,41.015690741102766 362.7755102040817,42.103094798935814 361.42857142857144,43.19825072886297 360.0816326530612,44.300189546872474 358.734693877551,45.40794226895255 357.38775510204084,46.52053991109146 356.0408163265306,47.63701348927743 354.6938775510204,48.75639401949867 353.3469387755102,49.877712517743454 352.0,51.0\" stroke=\"springgreen\" stroke-width=\"1\" /><polyline fill=\"none\" points=\"358.96095413363815,52.24302752386398 352,51 353.243027523864,44.03904586636184 352,51\" stroke=\"springgreen\" stroke-width=\"1\" /><rect fill=\"white\" height=\"13\" rx=\"2\" ry=\"2\" stroke=\"springgreen\" stroke-width=\"1\" transform=\"rotate(0 416.5 16.5)\" width=\"85.5185185185185\" x=\"373.74074074074076\" y=\"10\" /><text fill=\"springgreen\" font-family=\"courier\" font-size=\"12\" transform=\"rotate(0 416.5 16.5)\" x=\"376.74074074074076\" y=\"20\">DOSAGE-DRUG</text><polyline fill=\"none\" points=\"464.0,155.0 462.45918367346934,153.7960798646822 460.91836734693874,152.59312871337622 459.3775510204082,151.39211553009378 457.83673469387753,150.19400929884657 456.2959183673469,148.99977900364644 454.75510204081627,147.81039362850512 453.2142857142859,146.62682215743445 451.6734693877552,145.45003357444605 450.1326530612245,144.28099686355176 448.5918367346938,143.12068100876337 447.05102040816325,141.97005499409258 445.5102040816326,140.83008780355124 443.9693877551021,139.70174842115105 442.42857142857144,138.5860058309038 440.88775510204084,137.48382901682123 439.3469387755103,136.39618696291512 437.80612244897964,135.32404865319725 436.265306122449,134.2683830716793 434.7244897959184,133.23015920237316 433.1836734693877,132.2103460292905 431.6428571428571,131.20991253644314 430.10204081632656,130.22982770784282 428.56122448979596,129.2710605275013 427.0204081632653,128.33457997943034 425.4795918367347,127.42135504764173 423.9387755102041,126.53235471614718 422.3979591836735,125.6685479689585 420.8571428571429,124.83090379008749 419.3163265306123,124.02039116354581 417.7755102040817,123.2379790733453 416.2346938775511,122.48463650349771 414.6938775510204,121.76133243801479 413.15306122448976,121.06903586090831 411.6122448979592,120.40871575619002 410.07142857142867,119.78134110787173 408.53061224489795,119.18788089996517 406.98979591836735,118.62930411648207 405.44897959183675,118.10657974143427 403.90816326530614,117.62067675883348 402.36734693877554,117.17256415269148 400.82653061224494,116.76321090702004 399.28571428571433,116.39358600583091 397.7448979591837,116.06465843313586 396.204081632653,115.77739717294665 394.66326530612247,115.53277120927505 393.1224489795918,115.33174952613282 391.5816326530612,115.17530110753174 390.0408163265306,115.06439493748353 388.5,115.0 388.5,115.0 386.95918367346934,114.9827622844223 385.41836734693874,115.01203580140927 383.87755102040825,115.08685156694916 382.3367346938776,115.20624059703015 380.7959183673469,115.36923390764053 379.2551020408163,115.57486251476851 377.7142857142858,115.82215743440234 376.1734693877551,116.11014968253025 374.6326530612245,116.43787027514047 373.0918367346938,116.80435022822121 371.5510204081632,117.20862055776078 370.0102040816326,117.64971227974738 368.4693877551021,118.12665641016923 366.92857142857144,118.63848396501459 365.3877551020408,119.18422596027166 363.84693877551024,119.7629134119287 362.3061224489796,120.37357733597398 360.765306122449,121.01524874839565 359.2244897959183,121.68695866518203 357.68367346938766,122.3877381023213 356.1428571428571,123.11661807580174 354.6020408163265,123.87262960161156 353.0612244897959,124.654803695739 351.5204081632653,125.46217137417233 349.9795918367347,126.29376365289971 348.43877551020404,127.14861154790944 346.8979591836735,128.02574607518974 345.35714285714283,128.92419825072886 343.81632653061223,129.842999090515 342.2755102040817,130.7811796105364 340.734693877551,131.73777082678137 339.19387755102036,132.71180375523804 337.65306122448976,133.7023094118947 336.11224489795916,134.7083188127396 334.57142857142856,135.72886297376095 333.03061224489795,136.76297291094698 331.48979591836735,137.80967964028594 329.94897959183675,138.86801417776604 328.40816326530614,139.9370075393756 326.86734693877554,141.01569074110276 325.3265306122449,142.1030947989358 323.7857142857143,143.19825072886297 322.2448979591837,144.30018954687245 320.7040816326531,145.40794226895255 319.16326530612247,146.52053991109145 317.6224489795918,147.63701348927742 316.0816326530612,148.75639401949866 314.5408163265306,149.87771251774345 313.0,151.0\" stroke=\"springgreen\" stroke-width=\"1\" /><polyline fill=\"none\" points=\"319.8714289602583,152.66837164055653 313,151 314.66837164055653,144.1285710397417 313,151\" stroke=\"springgreen\" stroke-width=\"1\" /><rect fill=\"white\" height=\"13\" rx=\"2\" ry=\"2\" stroke=\"springgreen\" stroke-width=\"1\" transform=\"rotate(0 387.0 116.5)\" width=\"85.5185185185185\" x=\"344.24074074074076\" y=\"110\" /><text fill=\"springgreen\" font-family=\"courier\" font-size=\"12\" transform=\"rotate(0 387.0 116.5)\" x=\"347.24074074074076\" y=\"120\">DOSAGE-DRUG</text><polyline fill=\"none\" points=\"411.0,355.0 409.3673469387755,353.7960798646822 407.73469387755097,352.59312871337613 406.10204081632656,351.3921155300938 404.469387755102,350.19400929884654 402.8367346938776,348.99977900364644 401.204081632653,347.81039362850504 399.5714285714287,346.6268221574345 397.93877551020415,345.4500335744461 396.3061224489797,344.2809968635519 394.67346938775506,343.1206810087633 393.04081632653055,341.97005499409255 391.4081632653061,340.8300878035512 389.7755102040816,339.701748421151 388.14285714285717,338.5860058309038 386.5102040816327,337.4838290168213 384.8775510204082,336.3961869629151 383.24489795918373,335.3240486531973 381.61224489795916,334.2683830716793 379.97959183673476,333.23015920237316 378.3469387755101,332.21034602929046 376.7142857142857,331.20991253644314 375.08163265306126,330.22982770784284 373.44897959183675,329.2710605275013 371.81632653061223,328.3345799794304 370.1836734693878,327.4213550476417 368.55102040816325,326.5323547161472 366.9183673469388,325.6685479689586 365.28571428571433,324.8309037900875 363.65306122448976,324.0203911635458 362.02040816326536,323.2379790733453 360.38775510204084,322.4846365034977 358.7551020408163,321.7613324380148 357.12244897959187,321.06903586090834 355.48979591836735,320.40871575619 353.8571428571429,319.78134110787175 352.22448979591843,319.1878808999652 350.59183673469386,318.6293041164821 348.9591836734694,318.1065797414343 347.32653061224494,317.6206767588335 345.6938775510205,317.1725641526915 344.0612244897959,316.76321090702004 342.42857142857144,316.3935860058309 340.7959183673469,316.06465843313583 339.16326530612247,315.7773971729466 337.53061224489795,315.5327712092751 335.8979591836735,315.33174952613285 334.265306122449,315.1753011075317 332.63265306122446,315.0643949374835 331.0,315.0 331.0,315.0 329.3673469387755,314.9827622844222 327.73469387755097,315.0120358014093 326.10204081632656,315.0868515669492 324.469387755102,315.20624059703016 322.83673469387753,315.3692339076405 321.2040816326531,315.57486251476854 319.57142857142867,315.82215743440236 317.9387755102041,316.1101496825303 316.30612244897964,316.4378702751404 314.673469387755,316.8043502282212 313.0408163265305,317.2086205577607 311.40816326530603,317.6497122797473 309.7755102040816,318.12665641016923 308.1428571428571,318.6384839650146 306.5102040816327,319.1842259602717 304.87755102040813,319.76291341192865 303.2448979591837,320.37357733597395 301.61224489795916,321.01524874839566 299.9795918367347,321.686958665182 298.3469387755101,322.38773810232124 296.71428571428567,323.1166180758017 295.0816326530612,323.87262960161155 293.4489795918367,324.65480369573896 291.81632653061223,325.46217137417227 290.1836734693877,326.29376365289966 288.55102040816325,327.14861154790935 286.9183673469388,328.0257460751897 285.2857142857143,328.92419825072886 283.65306122448976,329.842999090515 282.0204081632653,330.78117961053636 280.3877551020408,331.73777082678134 278.7551020408163,332.711803755238 277.1224489795918,333.7023094118947 275.48979591836735,334.70831881273955 273.8571428571429,335.72886297376095 272.2244897959183,336.7629729109469 270.59183673469386,337.80967964028594 268.9591836734694,338.86801417776604 267.3265306122449,339.9370075393756 265.69387755102036,341.01569074110273 264.0612244897959,342.1030947989358 262.42857142857144,343.19825072886294 260.7959183673469,344.30018954687245 259.1632653061224,345.4079422689525 257.53061224489795,346.5205399110915 255.89795918367346,347.6370134892774 254.26530612244898,348.7563940194987 252.6326530612245,349.8777125177434 251.0,351.0\" stroke=\"slategray\" stroke-width=\"1\" /><polyline fill=\"none\" points=\"257.82688712918025,352.842175892001 251,351 252.84217589200102,344.17311287081975 251,351\" stroke=\"slategray\" stroke-width=\"1\" /><rect fill=\"white\" height=\"13\" rx=\"2\" ry=\"2\" stroke=\"slategray\" stroke-width=\"1\" transform=\"rotate(0 329.5 316.5)\" width=\"107.07407407407406\" x=\"275.962962962963\" y=\"310\" /><text fill=\"slategray\" font-family=\"courier\" font-size=\"12\" transform=\"rotate(0 329.5 316.5)\" x=\"278.962962962963\" y=\"320\">DRUG-FREQUENCY</text><polyline fill=\"none\" points=\"796.0,355.0 794.3571428571427,353.7960798646822 792.7142857142857,352.59312871337613 791.0714285714286,351.3921155300938 789.4285714285716,350.19400929884654 787.7857142857142,348.99977900364644 786.142857142857,347.81039362850504 784.5000000000002,346.6268221574345 782.8571428571429,345.4500335744461 781.2142857142859,344.2809968635519 779.5714285714286,343.1206810087633 777.9285714285713,341.97005499409255 776.2857142857143,340.8300878035512 774.6428571428571,339.701748421151 773.0,338.5860058309038 771.357142857143,337.4838290168213 769.7142857142859,336.3961869629151 768.0714285714288,335.3240486531973 766.4285714285714,334.2683830716793 764.7857142857143,333.23015920237316 763.1428571428571,332.21034602929046 761.5,331.20991253644314 759.857142857143,330.22982770784284 758.2142857142858,329.2710605275013 756.5714285714287,328.3345799794304 754.9285714285716,327.4213550476417 753.2857142857143,326.5323547161472 751.6428571428571,325.6685479689586 750.0000000000002,324.8309037900875 748.3571428571429,324.0203911635458 746.7142857142858,323.2379790733453 745.0714285714287,322.4846365034977 743.4285714285714,321.7613324380148 741.7857142857142,321.06903586090834 740.1428571428571,320.40871575619 738.5000000000001,319.78134110787175 736.8571428571429,319.1878808999652 735.2142857142858,318.6293041164821 733.5714285714287,318.1065797414343 731.9285714285716,317.6206767588335 730.2857142857143,317.1725641526915 728.6428571428571,316.76321090702004 727.0,316.3935860058309 725.3571428571429,316.06465843313583 723.7142857142858,315.7773971729466 722.0714285714286,315.5327712092751 720.4285714285716,315.33174952613285 718.7857142857142,315.1753011075317 717.1428571428571,315.0643949374835 715.5,315.0 715.5,315.0 713.8571428571428,314.9827622844222 712.2142857142856,315.0120358014093 710.5714285714287,315.0868515669492 708.9285714285714,315.20624059703016 707.2857142857142,315.3692339076405 705.6428571428571,315.57486251476854 704.0000000000002,315.82215743440236 702.357142857143,316.1101496825303 700.7142857142857,316.4378702751404 699.0714285714286,316.8043502282212 697.4285714285712,317.2086205577607 695.7857142857141,317.6497122797473 694.1428571428571,318.12665641016923 692.4999999999999,318.6384839650146 690.8571428571429,319.1842259602717 689.2142857142858,319.76291341192865 687.5714285714287,320.37357733597395 685.9285714285714,321.01524874839566 684.2857142857142,321.686958665182 682.642857142857,322.38773810232124 680.9999999999999,323.1166180758017 679.3571428571429,323.87262960161155 677.7142857142857,324.65480369573896 676.0714285714286,325.46217137417227 674.4285714285713,326.29376365289966 672.7857142857141,327.14861154790935 671.1428571428571,328.0257460751897 669.5,328.92419825072886 667.8571428571429,329.842999090515 666.2142857142857,330.78117961053636 664.5714285714286,331.73777082678134 662.9285714285713,332.711803755238 661.2857142857142,333.7023094118947 659.6428571428571,334.70831881273955 658.0,335.72886297376095 656.3571428571429,336.7629729109469 654.7142857142858,337.80967964028594 653.0714285714286,338.86801417776604 651.4285714285714,339.9370075393756 649.7857142857142,341.01569074110273 648.1428571428571,342.1030947989358 646.5,343.19825072886294 644.8571428571428,344.30018954687245 643.2142857142857,345.4079422689525 641.5714285714287,346.5205399110915 639.9285714285714,347.6370134892774 638.2857142857142,348.7563940194987 636.6428571428571,349.8777125177434 635.0,351.0\" stroke=\"slategray\" stroke-width=\"1\" /><polyline fill=\"none\" points=\"641.8219103950487,352.86052101683146 635,351 636.8605210168314,344.17808960495137 635,351\" stroke=\"slategray\" stroke-width=\"1\" /><rect fill=\"white\" height=\"13\" rx=\"2\" ry=\"2\" stroke=\"slategray\" stroke-width=\"1\" transform=\"rotate(0 714.0 316.5)\" width=\"107.07407407407406\" x=\"660.4629629629629\" y=\"310\" /><text fill=\"slategray\" font-family=\"courier\" font-size=\"12\" transform=\"rotate(0 714.0 316.5)\" x=\"663.4629629629629\" y=\"320\">DRUG-FREQUENCY</text><polyline fill=\"none\" points=\"241.0,355.0 239.11224489795916,353.7960798646822 237.22448979591832,352.59312871337613 235.33673469387756,351.3921155300938 233.44897959183675,350.19400929884654 231.56122448979593,348.99977900364644 229.6734693877551,347.81039362850504 227.78571428571436,346.6268221574345 225.89795918367355,345.4500335744461 224.01020408163268,344.2809968635519 222.1224489795918,343.1206810087633 220.23469387755097,341.97005499409255 218.34693877551018,340.8300878035512 216.4591836734694,339.701748421151 214.57142857142856,338.5860058309038 212.6836734693878,337.4838290168213 210.79591836734699,336.3961869629151 208.90816326530614,335.3240486531973 207.02040816326533,334.2683830716793 205.13265306122452,333.23015920237316 203.24489795918365,332.21034602929046 201.35714285714283,331.20991253644314 199.46938775510205,330.22982770784284 197.5816326530612,329.2710605275013 195.69387755102042,328.3345799794304 193.8061224489796,327.4213550476417 191.91836734693877,326.5323547161472 190.03061224489798,325.6685479689586 188.1428571428572,324.8309037900875 186.25510204081633,324.0203911635458 184.3673469387755,323.2379790733453 182.4795918367347,322.4846365034977 180.59183673469389,321.7613324380148 178.70408163265307,321.06903586090834 176.81632653061223,320.40871575619 174.92857142857144,319.78134110787175 173.04081632653063,319.1878808999652 171.15306122448982,318.6293041164821 169.26530612244898,318.1065797414343 167.3775510204082,317.6206767588335 165.48979591836735,317.1725641526915 163.60204081632654,316.76321090702004 161.71428571428572,316.3935860058309 159.82653061224488,316.06465843313583 157.9387755102041,315.7773971729466 156.05102040816325,315.5327712092751 154.16326530612247,315.33174952613285 152.27551020408163,315.1753011075317 150.3877551020408,315.0643949374835 148.5,315.0 148.5,315.0 146.6122448979592,314.9827622844222 144.72448979591834,315.0120358014093 142.83673469387756,315.0868515669492 140.94897959183672,315.20624059703016 139.0612244897959,315.3692339076405 137.1734693877551,315.57486251476854 135.2857142857143,315.82215743440236 133.3979591836735,316.1101496825303 131.51020408163265,316.4378702751404 129.62244897959184,316.8043502282212 127.734693877551,317.2086205577607 125.84693877551017,317.6497122797473 123.95918367346938,318.12665641016923 122.07142857142857,318.6384839650146 120.18367346938777,319.1842259602717 118.29591836734694,319.76291341192865 116.40816326530614,320.37357733597395 114.52040816326532,321.01524874839566 112.6326530612245,321.686958665182 110.74489795918365,322.38773810232124 108.85714285714283,323.1166180758017 106.96938775510203,323.87262960161155 105.08163265306122,324.65480369573896 103.19387755102042,325.46217137417227 101.3061224489796,326.29376365289966 99.41836734693877,327.14861154790935 97.53061224489795,328.0257460751897 95.64285714285715,328.92419825072886 93.75510204081633,329.842999090515 91.86734693877551,330.78117961053636 89.9795918367347,331.73777082678134 88.09183673469387,332.711803755238 86.20408163265307,333.7023094118947 84.31632653061224,334.70831881273955 82.42857142857143,335.72886297376095 80.54081632653063,336.7629729109469 78.6530612244898,337.80967964028594 76.76530612244898,338.86801417776604 74.87755102040816,339.9370075393756 72.98979591836735,341.01569074110273 71.10204081632654,342.1030947989358 69.21428571428572,343.19825072886294 67.3265306122449,344.30018954687245 65.4387755102041,345.4079422689525 63.55102040816327,346.5205399110915 61.663265306122454,347.6370134892774 59.775510204081634,348.7563940194987 57.88775510204081,349.8777125177434 56.0,351.0\" stroke=\"springgreen\" stroke-width=\"1\" /><polyline fill=\"none\" points=\"62.70334824922507,353.2505826251911 56,351 58.250582625191086,344.2966517507749 56,351\" stroke=\"springgreen\" stroke-width=\"1\" /><rect fill=\"white\" height=\"13\" rx=\"2\" ry=\"2\" stroke=\"springgreen\" stroke-width=\"1\" transform=\"rotate(0 147.0 316.5)\" width=\"85.5185185185185\" x=\"104.24074074074075\" y=\"310\" /><text fill=\"springgreen\" font-family=\"courier\" font-size=\"12\" transform=\"rotate(0 147.0 316.5)\" x=\"107.24074074074075\" y=\"320\">DOSAGE-DRUG</text><polyline fill=\"none\" points=\"717.0,255.0 715.1122448979592,253.79607986468218 713.2244897959182,252.59312871337622 711.3367346938776,251.39211553009378 709.4489795918367,250.19400929884657 707.5612244897959,248.99977900364644 705.6734693877551,247.81039362850512 703.7857142857144,246.62682215743445 701.8979591836737,245.45003357444608 700.0102040816327,244.2809968635518 698.1224489795918,243.12068100876334 696.234693877551,241.97005499409255 694.34693877551,240.8300878035512 692.4591836734694,239.70174842115102 690.5714285714287,238.58600583090382 688.6836734693878,237.4838290168213 686.795918367347,236.39618696291515 684.9081632653063,235.32404865319725 683.0204081632654,234.26838307167935 681.1326530612246,233.23015920237316 679.2448979591836,232.21034602929052 677.3571428571428,231.20991253644314 675.469387755102,230.22982770784284 673.5816326530612,229.2710605275013 671.6938775510206,228.33457997943037 669.8061224489796,227.42135504764173 667.9183673469388,226.53235471614718 666.030612244898,225.6685479689585 664.1428571428573,224.83090379008752 662.2551020408164,224.0203911635458 660.3673469387755,223.23797907334531 658.4795918367348,222.4846365034977 656.5918367346939,221.7613324380148 654.7040816326531,221.0690358609083 652.8163265306123,220.40871575619002 650.9285714285716,219.78134110787175 649.0408163265306,219.18788089996517 647.1530612244899,218.6293041164821 645.2653061224489,218.10657974143427 643.3775510204082,217.6206767588335 641.4897959183675,217.1725641526915 639.6020408163265,216.76321090702004 637.7142857142858,216.3935860058309 635.8265306122449,216.06465843313583 633.9387755102041,215.77739717294665 632.0510204081633,215.53277120927507 630.1632653061225,215.33174952613282 628.2755102040817,215.1753011075317 626.3877551020408,215.06439493748354 624.5,215.0 624.5,215.0 622.612244897959,214.98276228442228 620.7244897959182,215.0120358014092 618.8367346938776,215.08685156694915 616.9489795918366,215.20624059703016 615.0612244897959,215.36923390764048 613.1734693877552,215.57486251476848 611.2857142857143,215.82215743440238 609.3979591836736,216.11014968253025 607.5102040816328,216.43787027514048 605.6224489795917,216.8043502282212 603.7346938775509,217.20862055776075 601.84693877551,217.64971227974735 599.9591836734693,218.1266564101692 598.0714285714286,218.63848396501453 596.1836734693878,219.18422596027168 594.295918367347,219.7629134119287 592.4081632653061,220.37357733597398 590.5204081632653,221.01524874839563 588.6326530612245,221.68695866518203 586.7448979591835,222.38773810232126 584.8571428571428,223.1166180758017 582.969387755102,223.87262960161155 581.0816326530612,224.654803695739 579.1938775510204,225.46217137417233 577.3061224489795,226.2937636528997 575.4183673469387,227.1486115479094 573.530612244898,228.02574607518974 571.6428571428571,228.92419825072886 569.7551020408163,229.84299909051498 567.8673469387754,230.7811796105364 565.9795918367347,231.73777082678137 564.0918367346937,232.711803755238 562.204081632653,233.7023094118947 560.3163265306122,234.70831881273955 558.4285714285713,235.72886297376093 556.5408163265306,236.76297291094693 554.6530612244898,237.80967964028594 552.7653061224489,238.86801417776604 550.8775510204082,239.9370075393756 548.9897959183673,241.01569074110276 547.1020408163265,242.10309479893584 545.2142857142858,243.19825072886297 543.3265306122448,244.30018954687245 541.4387755102041,245.40794226895255 539.5510204081633,246.52053991109148 537.6632653061224,247.63701348927742 535.7755102040816,248.75639401949869 533.8877551020407,249.87771251774345 532.0,251.0\" stroke=\"springgreen\" stroke-width=\"1\" /><polyline fill=\"none\" points=\"538.703348249225,253.25058262519104 532,251 534.2505826251911,244.29665175077497 532,251\" stroke=\"springgreen\" stroke-width=\"1\" /><rect fill=\"white\" height=\"13\" rx=\"2\" ry=\"2\" stroke=\"springgreen\" stroke-width=\"1\" transform=\"rotate(0 623.0 216.5)\" width=\"85.5185185185185\" x=\"580.2407407407408\" y=\"210\" /><text fill=\"springgreen\" font-family=\"courier\" font-size=\"12\" transform=\"rotate(0 623.0 216.5)\" x=\"583.2407407407408\" y=\"220\">DOSAGE-DRUG</text></svg>"
      ]
     },
     "metadata": {
      "application/vnd.databricks.v1+output": {
       "addedWidgets": {},
       "arguments": {},
       "data": "<svg baseProfile=\"full\" height=\"575\" version=\"1.1\" width=\"920\" xmlns=\"http://www.w3.org/2000/svg\" xmlns:ev=\"http://www.w3.org/2001/xml-events\" xmlns:xlink=\"http://www.w3.org/1999/xlink\"><defs><style type=\"text/css\"><![CDATA[@font-face{ \n    font-family: \"Lucida\"; \n    src: url(\"data:application/x-font-ttf;charset=utf-8;base64,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\"); \n}\n]]></style></defs><rect fill=\"#B28497\" fill-opacity=\"0.2\" height=\"25\" rx=\"2\" ry=\"2\" stroke=\"#B28497\" stroke-width=\"1\" width=\"62.89999999999999\" x=\"313.29999999999995\" y=\"57\" /><rect fill=\"#8B668B\" fill-opacity=\"0.2\" height=\"25\" rx=\"2\" ry=\"2\" stroke=\"#8B668B\" stroke-width=\"1\" width=\"53.199999999999996\" x=\"459.6999999999999\" y=\"57\" /><rect fill=\"#DDE586\" fill-opacity=\"0.2\" height=\"25\" rx=\"2\" ry=\"2\" stroke=\"#DDE586\" stroke-width=\"1\" width=\"101.69999999999999\" x=\"562.3\" y=\"57\" /><rect fill=\"#B28497\" fill-opacity=\"0.2\" height=\"25\" rx=\"2\" ry=\"2\" stroke=\"#B28497\" stroke-width=\"1\" width=\"62.89999999999999\" x=\"274.49999999999994\" y=\"157\" /><rect fill=\"#8B668B\" fill-opacity=\"0.2\" height=\"25\" rx=\"2\" ry=\"2\" stroke=\"#8B668B\" stroke-width=\"1\" width=\"92.0\" x=\"420.8999999999999\" y=\"157\" /><rect fill=\"#94E6D0\" fill-opacity=\"0.2\" height=\"25\" rx=\"2\" ry=\"2\" stroke=\"#94E6D0\" stroke-width=\"1\" width=\"53.199999999999996\" x=\"562.3\" y=\"157\" /><rect fill=\"#B28497\" fill-opacity=\"0.2\" height=\"25\" rx=\"2\" ry=\"2\" stroke=\"#B28497\" stroke-width=\"1\" width=\"82.3\" x=\"478.49999999999994\" y=\"257\" /><rect fill=\"#8B668B\" fill-opacity=\"0.2\" height=\"25\" rx=\"2\" ry=\"2\" stroke=\"#8B668B\" stroke-width=\"1\" width=\"159.89999999999998\" x=\"644.3000000000001\" y=\"257\" /><rect fill=\"#B28497\" fill-opacity=\"0.2\" height=\"25\" rx=\"2\" ry=\"2\" stroke=\"#B28497\" stroke-width=\"1\" width=\"82.3\" x=\"7\" y=\"357\" /><rect fill=\"#8B668B\" fill-opacity=\"0.2\" height=\"25\" rx=\"2\" ry=\"2\" stroke=\"#8B668B\" stroke-width=\"1\" width=\"140.5\" x=\"172.79999999999998\" y=\"357\" /><rect fill=\"#94E6D0\" fill-opacity=\"0.2\" height=\"25\" rx=\"2\" ry=\"2\" stroke=\"#94E6D0\" stroke-width=\"1\" width=\"101.69999999999999\" x=\"362.69999999999993\" y=\"357\" /><rect fill=\"#8B668B\" fill-opacity=\"0.2\" height=\"25\" rx=\"2\" ry=\"2\" stroke=\"#8B668B\" stroke-width=\"1\" width=\"92.0\" x=\"581.9999999999999\" y=\"357\" /><rect fill=\"#94E6D0\" fill-opacity=\"0.2\" height=\"25\" rx=\"2\" ry=\"2\" stroke=\"#94E6D0\" stroke-width=\"1\" width=\"150.2\" x=\"723.4\" y=\"357\" /><text fill=\"#546c74\" font-family=\"Lucida\" font-size=\"16\" style=\"font-weight:100\" x=\"10\" y=\"75\">\nThe</text><text fill=\"#546c74\" font-family=\"Lucida\" font-size=\"16\" style=\"font-weight:100\" x=\"63.5\" y=\"75\">patient</text><text fill=\"#546c74\" font-family=\"Lucida\" font-size=\"16\" style=\"font-weight:100\" x=\"146.1\" y=\"75\">was</text><text fill=\"#546c74\" font-family=\"Lucida\" font-size=\"16\" style=\"font-weight:100\" x=\"189.89999999999998\" y=\"75\">prescribed</text><text fill=\"#546c74\" font-family=\"Lucida\" font-size=\"16\" style=\"font-weight:100\" x=\"301.59999999999997\" y=\"75\" /><text fill=\"#546c74\" font-family=\"Lucida\" font-size=\"16\" style=\"font-weight:100\" x=\"316.29999999999995\" y=\"75\">1 unit</text><text fill=\"#1f77b7\" font-family=\"Lucida\" font-size=\"12\" style=\"font-weight:lighter\" x=\"324.87727272727267\" y=\"95\">DOSAGE</text><text fill=\"#546c74\" font-family=\"Lucida\" font-size=\"16\" style=\"font-weight:100\" x=\"399.19999999999993\" y=\"75\" /><text fill=\"#546c74\" font-family=\"Lucida\" font-size=\"16\" style=\"font-weight:100\" x=\"413.8999999999999\" y=\"75\">of</text><text fill=\"#546c74\" font-family=\"Lucida\" font-size=\"16\" style=\"font-weight:100\" x=\"447.9999999999999\" y=\"75\" /><text fill=\"#546c74\" font-family=\"Lucida\" font-size=\"16\" style=\"font-weight:100\" x=\"462.6999999999999\" y=\"75\">Advil</text><text fill=\"#1f77b7\" font-family=\"Lucida\" font-size=\"12\" style=\"font-weight:lighter\" x=\"473.4818181818181\" y=\"95\">DRUG</text><text fill=\"#546c74\" font-family=\"Lucida\" font-size=\"16\" style=\"font-weight:100\" x=\"535.8999999999999\" y=\"75\" /><text fill=\"#546c74\" font-family=\"Lucida\" font-size=\"16\" style=\"font-weight:100\" x=\"550.5999999999999\" y=\"75\" /><text fill=\"#546c74\" font-family=\"Lucida\" font-size=\"16\" style=\"font-weight:100\" x=\"565.3\" y=\"75\">for 5 days</text><text fill=\"#1f77b7\" font-family=\"Lucida\" font-size=\"12\" style=\"font-weight:lighter\" x=\"586.2227272727273\" y=\"95\">DURATION</text><text fill=\"#546c74\" font-family=\"Lucida\" font-size=\"16\" style=\"font-weight:100\" x=\"687.0\" y=\"75\" /><text fill=\"#546c74\" font-family=\"Lucida\" font-size=\"16\" style=\"font-weight:100\" x=\"701.7\" y=\"75\">after</text><text fill=\"#546c74\" font-family=\"Lucida\" font-size=\"16\" style=\"font-weight:100\" x=\"764.9000000000001\" y=\"75\">meals.</text><text fill=\"#546c74\" font-family=\"Lucida\" font-size=\"16\" style=\"font-weight:100\" x=\"837.8000000000001\" y=\"75\">The</text><text fill=\"#546c74\" font-family=\"Lucida\" font-size=\"16\" style=\"font-weight:100\" x=\"10\" y=\"175\">patient</text><text fill=\"#546c74\" font-family=\"Lucida\" font-size=\"16\" style=\"font-weight:100\" x=\"92.6\" y=\"175\">was</text><text fill=\"#546c74\" font-family=\"Lucida\" font-size=\"16\" style=\"font-weight:100\" x=\"136.39999999999998\" y=\"175\">also</text><text fill=\"#546c74\" font-family=\"Lucida\" font-size=\"16\" style=\"font-weight:100\" x=\"189.89999999999998\" y=\"175\">\ngiven</text><text fill=\"#546c74\" font-family=\"Lucida\" font-size=\"16\" style=\"font-weight:100\" x=\"262.79999999999995\" y=\"175\" /><text fill=\"#546c74\" font-family=\"Lucida\" font-size=\"16\" style=\"font-weight:100\" x=\"277.49999999999994\" y=\"175\">1 unit</text><text fill=\"#1f77b7\" font-family=\"Lucida\" font-size=\"12\" style=\"font-weight:lighter\" x=\"286.07727272727266\" y=\"195\">DOSAGE</text><text fill=\"#546c74\" font-family=\"Lucida\" font-size=\"16\" style=\"font-weight:100\" x=\"360.3999999999999\" y=\"175\" /><text fill=\"#546c74\" font-family=\"Lucida\" font-size=\"16\" style=\"font-weight:100\" x=\"375.0999999999999\" y=\"175\">of</text><text fill=\"#546c74\" font-family=\"Lucida\" font-size=\"16\" style=\"font-weight:100\" x=\"409.19999999999993\" y=\"175\" /><text fill=\"#546c74\" font-family=\"Lucida\" font-size=\"16\" style=\"font-weight:100\" x=\"423.8999999999999\" y=\"175\">Metformin</text><text fill=\"#1f77b7\" font-family=\"Lucida\" font-size=\"12\" style=\"font-weight:lighter\" x=\"454.0818181818181\" y=\"195\">DRUG</text><text fill=\"#546c74\" font-family=\"Lucida\" font-size=\"16\" style=\"font-weight:100\" x=\"535.8999999999999\" y=\"175\" /><text fill=\"#546c74\" font-family=\"Lucida\" font-size=\"16\" style=\"font-weight:100\" x=\"550.5999999999999\" y=\"175\" /><text fill=\"#546c74\" font-family=\"Lucida\" font-size=\"16\" style=\"font-weight:100\" x=\"565.3\" y=\"175\">daily</text><text fill=\"#1f77b7\" font-family=\"Lucida\" font-size=\"12\" style=\"font-weight:lighter\" x=\"558.4454545454545\" y=\"195\">FREQUENCY</text><text fill=\"#546c74\" font-family=\"Lucida\" font-size=\"16\" style=\"font-weight:100\" x=\"638.5\" y=\"175\">.\nHe</text><text fill=\"#546c74\" font-family=\"Lucida\" font-size=\"16\" style=\"font-weight:100\" x=\"692.0\" y=\"175\">was</text><text fill=\"#546c74\" font-family=\"Lucida\" font-size=\"16\" style=\"font-weight:100\" x=\"735.8\" y=\"175\">seen</text><text fill=\"#546c74\" font-family=\"Lucida\" font-size=\"16\" style=\"font-weight:100\" x=\"789.3\" y=\"175\">by</text><text fill=\"#546c74\" font-family=\"Lucida\" font-size=\"16\" style=\"font-weight:100\" x=\"823.4\" y=\"175\">the</text><text fill=\"#546c74\" font-family=\"Lucida\" font-size=\"16\" style=\"font-weight:100\" x=\"10\" y=\"275\">endocrinology</text><text fill=\"#546c74\" font-family=\"Lucida\" font-size=\"16\" style=\"font-weight:100\" x=\"150.79999999999998\" y=\"275\">service</text><text fill=\"#546c74\" font-family=\"Lucida\" font-size=\"16\" style=\"font-weight:100\" x=\"233.39999999999998\" y=\"275\">and</text><text fill=\"#546c74\" font-family=\"Lucida\" font-size=\"16\" style=\"font-weight:100\" x=\"277.2\" y=\"275\">was</text><text fill=\"#546c74\" font-family=\"Lucida\" font-size=\"16\" style=\"font-weight:100\" x=\"321.0\" y=\"275\">discharged</text><text fill=\"#546c74\" font-family=\"Lucida\" font-size=\"16\" style=\"font-weight:100\" x=\"432.7\" y=\"275\">on</text><text fill=\"#546c74\" font-family=\"Lucida\" font-size=\"16\" style=\"font-weight:100\" x=\"466.79999999999995\" y=\"275\" /><text fill=\"#546c74\" font-family=\"Lucida\" font-size=\"16\" style=\"font-weight:100\" x=\"481.49999999999994\" y=\"275\">40 units</text><text fill=\"#1f77b7\" font-family=\"Lucida\" font-size=\"12\" style=\"font-weight:lighter\" x=\"499.7772727272727\" y=\"295\">DOSAGE</text><text fill=\"#546c74\" font-family=\"Lucida\" font-size=\"16\" style=\"font-weight:100\" x=\"583.8\" y=\"275\" /><text fill=\"#546c74\" font-family=\"Lucida\" font-size=\"16\" style=\"font-weight:100\" x=\"598.5\" y=\"275\">of</text><text fill=\"#546c74\" font-family=\"Lucida\" font-size=\"16\" style=\"font-weight:100\" x=\"632.6\" y=\"275\" /><text fill=\"#546c74\" font-family=\"Lucida\" font-size=\"16\" style=\"font-weight:100\" x=\"647.3000000000001\" y=\"275\">insulin glargine</text><text fill=\"#1f77b7\" font-family=\"Lucida\" font-size=\"12\" style=\"font-weight:lighter\" x=\"711.4318181818181\" y=\"295\">DRUG</text><text fill=\"#546c74\" font-family=\"Lucida\" font-size=\"16\" style=\"font-weight:100\" x=\"827.2\" y=\"275\" /><text fill=\"#546c74\" font-family=\"Lucida\" font-size=\"16\" style=\"font-weight:100\" x=\"841.9000000000001\" y=\"275\">,</text><text fill=\"#546c74\" font-family=\"Lucida\" font-size=\"16\" style=\"font-weight:100\" x=\"866.3000000000001\" y=\"275\">\n</text><text fill=\"#546c74\" font-family=\"Lucida\" font-size=\"16\" style=\"font-weight:100\" x=\"10\" y=\"375\">12 units</text><text fill=\"#1f77b7\" font-family=\"Lucida\" font-size=\"12\" style=\"font-weight:lighter\" x=\"28.277272727272727\" y=\"395\">DOSAGE</text><text fill=\"#546c74\" font-family=\"Lucida\" font-size=\"16\" style=\"font-weight:100\" x=\"112.3\" y=\"375\" /><text fill=\"#546c74\" font-family=\"Lucida\" font-size=\"16\" style=\"font-weight:100\" x=\"127.0\" y=\"375\">of</text><text fill=\"#546c74\" font-family=\"Lucida\" font-size=\"16\" style=\"font-weight:100\" x=\"161.1\" y=\"375\" /><text fill=\"#546c74\" font-family=\"Lucida\" font-size=\"16\" style=\"font-weight:100\" x=\"175.79999999999998\" y=\"375\">insulin lispro</text><text fill=\"#1f77b7\" font-family=\"Lucida\" font-size=\"12\" style=\"font-weight:lighter\" x=\"230.23181818181817\" y=\"395\">DRUG</text><text fill=\"#546c74\" font-family=\"Lucida\" font-size=\"16\" style=\"font-weight:100\" x=\"336.29999999999995\" y=\"375\" /><text fill=\"#546c74\" font-family=\"Lucida\" font-size=\"16\" style=\"font-weight:100\" x=\"350.99999999999994\" y=\"375\" /><text fill=\"#546c74\" font-family=\"Lucida\" font-size=\"16\" style=\"font-weight:100\" x=\"365.69999999999993\" y=\"375\">with meals</text><text fill=\"#1f77b7\" font-family=\"Lucida\" font-size=\"12\" style=\"font-weight:lighter\" x=\"383.0954545454545\" y=\"395\">FREQUENCY</text><text fill=\"#546c74\" font-family=\"Lucida\" font-size=\"16\" style=\"font-weight:100\" x=\"487.3999999999999\" y=\"375\" /><text fill=\"#546c74\" font-family=\"Lucida\" font-size=\"16\" style=\"font-weight:100\" x=\"502.0999999999999\" y=\"375\">,</text><text fill=\"#546c74\" font-family=\"Lucida\" font-size=\"16\" style=\"font-weight:100\" x=\"526.4999999999999\" y=\"375\">and</text><text fill=\"#546c74\" font-family=\"Lucida\" font-size=\"16\" style=\"font-weight:100\" x=\"570.2999999999998\" y=\"375\" /><text fill=\"#546c74\" font-family=\"Lucida\" font-size=\"16\" style=\"font-weight:100\" x=\"584.9999999999999\" y=\"375\">metformin</text><text fill=\"#1f77b7\" font-family=\"Lucida\" font-size=\"12\" style=\"font-weight:lighter\" x=\"615.181818181818\" y=\"395\">DRUG</text><text fill=\"#546c74\" font-family=\"Lucida\" font-size=\"16\" style=\"font-weight:100\" x=\"696.9999999999999\" y=\"375\" /><text fill=\"#546c74\" font-family=\"Lucida\" font-size=\"16\" style=\"font-weight:100\" x=\"711.6999999999999\" y=\"375\" /><text fill=\"#546c74\" font-family=\"Lucida\" font-size=\"16\" style=\"font-weight:100\" x=\"726.4\" y=\"375\">two times a day</text><text fill=\"#1f77b7\" font-family=\"Lucida\" font-size=\"12\" style=\"font-weight:lighter\" x=\"768.0454545454545\" y=\"395\">FREQUENCY</text><text fill=\"#546c77\" font-family=\"Lucida\" font-size=\"16\" style=\"font-weight:100\" x=\"10\" y=\"475\">.\n</text><polyline fill=\"none\" points=\"586.0,155.0 584.8571428571428,153.7960798646822 583.7142857142856,152.59312871337622 582.5714285714286,151.39211553009378 581.4285714285714,150.19400929884657 580.2857142857142,148.99977900364644 579.1428571428571,147.81039362850512 578.0000000000001,146.62682215743445 576.857142857143,145.45003357444605 575.7142857142859,144.28099686355176 574.5714285714286,143.12068100876337 573.4285714285713,141.97005499409258 572.2857142857142,140.83008780355124 571.1428571428571,139.70174842115105 570.0000000000001,138.5860058309038 568.857142857143,137.48382901682123 567.7142857142858,136.39618696291512 566.5714285714287,135.32404865319725 565.4285714285714,134.2683830716793 564.2857142857143,133.23015920237316 563.1428571428571,132.2103460292905 562.0,131.20991253644314 560.8571428571429,130.22982770784282 559.7142857142858,129.2710605275013 558.5714285714287,128.33457997943034 557.4285714285714,127.42135504764173 556.2857142857143,126.53235471614718 555.1428571428572,125.6685479689585 554.0,124.83090379008749 552.8571428571429,124.02039116354581 551.7142857142858,123.2379790733453 550.5714285714287,122.48463650349771 549.4285714285713,121.76133243801479 548.2857142857143,121.06903586090831 547.1428571428571,120.40871575619002 546.0000000000001,119.78134110787173 544.8571428571429,119.18788089996517 543.7142857142858,118.62930411648207 542.5714285714286,118.10657974143427 541.4285714285714,117.62067675883348 540.2857142857143,117.17256415269148 539.1428571428572,116.76321090702004 538.0000000000001,116.39358600583091 536.8571428571429,116.06465843313586 535.7142857142858,115.77739717294665 534.5714285714287,115.53277120927505 533.4285714285714,115.33174952613282 532.2857142857143,115.17530110753174 531.1428571428571,115.06439493748353 530.0,115.0 530.0,115.0 528.8571428571428,114.9827622844223 527.7142857142857,115.01203580140927 526.5714285714286,115.08685156694916 525.4285714285714,115.20624059703015 524.2857142857143,115.36923390764053 523.1428571428571,115.57486251476851 522.0000000000002,115.82215743440234 520.8571428571429,116.11014968253025 519.7142857142858,116.43787027514047 518.5714285714284,116.80435022822121 517.4285714285713,117.20862055776078 516.2857142857141,117.64971227974738 515.1428571428571,118.12665641016923 514.0,118.63848396501459 512.8571428571429,119.18422596027166 511.7142857142858,119.7629134119287 510.5714285714286,120.37357733597398 509.4285714285714,121.01524874839565 508.2857142857143,121.68695866518203 507.142857142857,122.3877381023213 505.9999999999999,123.11661807580174 504.8571428571429,123.87262960161156 503.7142857142856,124.654803695739 502.5714285714286,125.46217137417233 501.42857142857144,126.29376365289971 500.2857142857143,127.14861154790944 499.14285714285717,128.02574607518974 498.00000000000006,128.92419825072886 496.8571428571429,129.842999090515 495.7142857142857,130.7811796105364 494.57142857142856,131.73777082678137 493.42857142857144,132.71180375523804 492.2857142857143,133.7023094118947 491.1428571428571,134.7083188127396 490.0,135.72886297376095 488.85714285714283,136.76297291094698 487.7142857142857,137.80967964028594 486.57142857142856,138.86801417776604 485.42857142857144,139.9370075393756 484.28571428571433,141.01569074110276 483.1428571428571,142.1030947989358 482.0,143.19825072886297 480.85714285714283,144.30018954687245 479.71428571428567,145.40794226895255 478.57142857142856,146.52053991109145 477.42857142857144,147.63701348927742 476.28571428571433,148.75639401949866 475.1428571428571,149.87771251774345 474.0,151.0\" stroke=\"slategray\" stroke-width=\"1\" /><polyline fill=\"none\" points=\"481.03732837971563,151.68993415487407 474,151 474.6899341548741,143.96267162028434 474,151\" stroke=\"slategray\" stroke-width=\"1\" /><rect fill=\"white\" height=\"13\" rx=\"2\" ry=\"2\" stroke=\"slategray\" stroke-width=\"1\" transform=\"rotate(0 528.5 116.5)\" width=\"107.07407407407406\" x=\"474.962962962963\" y=\"110\" /><text fill=\"slategray\" font-family=\"courier\" font-size=\"12\" transform=\"rotate(0 528.5 116.5)\" x=\"477.962962962963\" y=\"120\">DRUG-FREQUENCY</text><polyline fill=\"none\" points=\"611.0,55.0 609.8061224489794,53.79607986468223 608.6122448979589,52.593128713376224 607.4183673469389,51.39211553009376 606.2244897959183,50.194009298846574 605.030612244898,48.999779003646445 603.8367346938775,47.810393628505125 602.6428571428572,46.626822157434425 601.4489795918367,45.450033574446024 600.2551020408163,44.280996863551756 599.0612244897959,43.12068100876335 597.8673469387754,41.97005499409259 596.673469387755,40.83008780355124 595.4795918367346,39.70174842115105 594.2857142857143,38.586005830903794 593.0918367346939,37.48382901682123 591.8979591836735,36.396186962915124 590.7040816326531,35.32404865319723 589.5102040816327,34.26838307167932 588.3163265306123,33.23015920237316 587.1224489795917,32.21034602929051 585.9285714285713,31.209912536443145 584.734693877551,30.229827707842823 583.5408163265306,29.271060527501298 582.3469387755102,28.334579979430348 581.1530612244898,27.421355047641715 579.9591836734693,26.532354716147186 578.7653061224489,25.668547968958514 577.5714285714287,24.83090379008747 576.3775510204082,24.020391163545803 575.1836734693877,23.237979073345294 573.9897959183673,22.484636503497697 572.795918367347,21.761332438014776 571.6020408163265,21.069035860908297 570.4081632653061,20.408715756190023 569.2142857142857,19.781341107871725 568.0204081632653,19.187880899965155 566.8265306122449,18.629304116482082 565.6326530612245,18.106579741434267 564.4387755102041,17.620676758833483 563.2448979591837,17.172564152691482 562.0510204081633,16.76321090702004 560.8571428571429,16.393586005830905 559.6632653061224,16.064658433135854 558.469387755102,15.77739717294665 557.2755102040817,15.53277120927505 556.0816326530612,15.33174952613282 554.8877551020408,15.175301107531727 553.6938775510204,15.064394937483533 552.5,15.0 552.5,15.0 551.3061224489795,14.982762284422305 550.1122448979592,15.012035801409274 548.9183673469388,15.086851566949145 547.7244897959184,15.20624059703015 546.530612244898,15.369233907640522 545.3367346938775,15.574862514768505 544.1428571428573,15.822157434402333 542.9489795918367,16.11014968253024 541.7551020408164,16.43787027514046 540.5612244897959,16.80435022822123 539.3673469387755,17.208620557760792 538.173469387755,17.64971227974738 536.9795918367346,18.126656410169232 535.7857142857142,18.638483965014576 534.591836734694,19.184225960271654 533.3979591836735,19.762913411928704 532.2040816326531,20.37357733597396 531.0102040816327,21.01524874839565 529.8163265306123,21.686958665182026 528.6224489795918,22.387738102321304 527.4285714285713,23.116618075801746 526.234693877551,23.87262960161157 525.0408163265306,24.654803695739016 523.8469387755102,25.462171374172325 522.6530612244898,26.293763652899724 521.4591836734694,27.148611547909454 520.265306122449,28.02574607518976 519.0714285714287,28.92419825072886 517.8775510204082,29.842999090515008 516.6836734693878,30.78117961053642 515.4897959183673,31.737770826781354 514.295918367347,32.71180375523804 513.1020408163265,33.7023094118947 511.90816326530614,34.70831881273959 510.7142857142858,35.728862973760926 509.5204081632653,36.762972910946964 508.3265306122449,37.809679640285935 507.13265306122446,38.868014177766064 505.9387755102041,39.93700753937559 504.74489795918373,41.015690741102766 503.55102040816325,42.103094798935814 502.3571428571429,43.19825072886297 501.16326530612247,44.300189546872474 499.96938775510205,45.40794226895255 498.7755102040816,46.52053991109146 497.5816326530612,47.63701348927743 496.38775510204084,48.75639401949867 495.19387755102036,49.877712517743454 494.0,51.0\" stroke=\"#C3A2D4\" stroke-width=\"1\" /><polyline fill=\"none\" points=\"501.0210168629087,51.839834552979504 494,51 494.8398345529795,43.97898313709131 494,51\" stroke=\"#C3A2D4\" stroke-width=\"1\" /><rect fill=\"white\" height=\"13\" rx=\"2\" ry=\"2\" stroke=\"#C3A2D4\" stroke-width=\"1\" transform=\"rotate(0 551.0 16.5)\" width=\"99.88888888888887\" x=\"501.05555555555554\" y=\"10\" /><text fill=\"#C3A2D4\" font-family=\"courier\" font-size=\"12\" transform=\"rotate(0 551.0 16.5)\" x=\"504.05555555555554\" y=\"20\">DRUG-DURATION</text><polyline fill=\"none\" points=\"484.0,55.0 482.65306122448976,53.79607986468223 481.3061224489795,52.593128713376224 479.9591836734694,51.39211553009376 478.61224489795916,50.194009298846574 477.2653061224489,48.999779003646445 475.91836734693874,47.810393628505125 474.5714285714287,46.626822157434425 473.2244897959185,45.450033574446024 471.87755102040825,44.280996863551756 470.53061224489795,43.12068100876335 469.1836734693877,41.97005499409259 467.8367346938774,40.83008780355124 466.48979591836735,39.70174842115105 465.1428571428571,38.586005830903794 463.795918367347,37.48382901682123 462.4489795918368,36.396186962915124 461.10204081632656,35.32404865319723 459.7551020408163,34.26838307167932 458.40816326530614,33.23015920237316 457.06122448979585,32.21034602929051 455.71428571428567,31.209912536443145 454.36734693877554,30.229827707842823 453.0204081632653,29.271060527501298 451.6734693877551,28.334579979430348 450.3265306122449,27.421355047641715 448.9795918367347,26.532354716147186 447.6326530612245,25.668547968958514 446.28571428571433,24.83090379008747 444.9387755102041,24.020391163545803 443.59183673469386,23.237979073345294 442.2448979591837,22.484636503497697 440.8979591836735,21.761332438014776 439.55102040816325,21.069035860908297 438.204081632653,20.408715756190023 436.8571428571429,19.781341107871725 435.51020408163265,19.187880899965155 434.16326530612247,18.629304116482082 432.8163265306123,18.106579741434267 431.46938775510205,17.620676758833483 430.1224489795918,17.172564152691482 428.7755102040817,16.76321090702004 427.42857142857144,16.393586005830905 426.0816326530612,16.064658433135854 424.734693877551,15.77739717294665 423.38775510204084,15.53277120927505 422.04081632653066,15.33174952613282 420.6938775510204,15.175301107531727 419.34693877551024,15.064394937483533 418.0,15.0 418.0,15.0 416.65306122448976,14.982762284422305 415.3061224489795,15.012035801409274 413.9591836734694,15.086851566949145 412.6122448979592,15.20624059703015 411.265306122449,15.369233907640522 409.91836734693874,15.574862514768505 408.5714285714286,15.822157434402333 407.22448979591843,16.11014968253024 405.87755102040825,16.43787027514046 404.5306122448979,16.80435022822123 403.1836734693877,17.208620557760792 401.8367346938774,17.64971227974738 400.4897959183673,18.126656410169232 399.1428571428571,18.638483965014576 397.795918367347,19.184225960271654 396.44897959183675,19.762913411928704 395.1020408163266,20.37357733597396 393.7551020408163,21.01524874839565 392.40816326530614,21.686958665182026 391.06122448979585,22.387738102321304 389.71428571428567,23.116618075801746 388.3673469387755,23.87262960161157 387.02040816326524,24.654803695739016 385.67346938775506,25.462171374172325 384.3265306122449,26.293763652899724 382.9795918367347,27.148611547909454 381.63265306122446,28.02574607518976 380.28571428571433,28.92419825072886 378.9387755102041,29.842999090515008 377.59183673469386,30.78117961053642 376.24489795918373,31.737770826781354 374.89795918367344,32.71180375523804 373.5510204081633,33.7023094118947 372.204081632653,34.70831881273959 370.8571428571429,35.728862973760926 369.51020408163265,36.762972910946964 368.1632653061224,37.809679640285935 366.8163265306123,38.868014177766064 365.46938775510205,39.93700753937559 364.1224489795918,41.015690741102766 362.7755102040817,42.103094798935814 361.42857142857144,43.19825072886297 360.0816326530612,44.300189546872474 358.734693877551,45.40794226895255 357.38775510204084,46.52053991109146 356.0408163265306,47.63701348927743 354.6938775510204,48.75639401949867 353.3469387755102,49.877712517743454 352.0,51.0\" stroke=\"springgreen\" stroke-width=\"1\" /><polyline fill=\"none\" points=\"358.96095413363815,52.24302752386398 352,51 353.243027523864,44.03904586636184 352,51\" stroke=\"springgreen\" stroke-width=\"1\" /><rect fill=\"white\" height=\"13\" rx=\"2\" ry=\"2\" stroke=\"springgreen\" stroke-width=\"1\" transform=\"rotate(0 416.5 16.5)\" width=\"85.5185185185185\" x=\"373.74074074074076\" y=\"10\" /><text fill=\"springgreen\" font-family=\"courier\" font-size=\"12\" transform=\"rotate(0 416.5 16.5)\" x=\"376.74074074074076\" y=\"20\">DOSAGE-DRUG</text><polyline fill=\"none\" points=\"464.0,155.0 462.45918367346934,153.7960798646822 460.91836734693874,152.59312871337622 459.3775510204082,151.39211553009378 457.83673469387753,150.19400929884657 456.2959183673469,148.99977900364644 454.75510204081627,147.81039362850512 453.2142857142859,146.62682215743445 451.6734693877552,145.45003357444605 450.1326530612245,144.28099686355176 448.5918367346938,143.12068100876337 447.05102040816325,141.97005499409258 445.5102040816326,140.83008780355124 443.9693877551021,139.70174842115105 442.42857142857144,138.5860058309038 440.88775510204084,137.48382901682123 439.3469387755103,136.39618696291512 437.80612244897964,135.32404865319725 436.265306122449,134.2683830716793 434.7244897959184,133.23015920237316 433.1836734693877,132.2103460292905 431.6428571428571,131.20991253644314 430.10204081632656,130.22982770784282 428.56122448979596,129.2710605275013 427.0204081632653,128.33457997943034 425.4795918367347,127.42135504764173 423.9387755102041,126.53235471614718 422.3979591836735,125.6685479689585 420.8571428571429,124.83090379008749 419.3163265306123,124.02039116354581 417.7755102040817,123.2379790733453 416.2346938775511,122.48463650349771 414.6938775510204,121.76133243801479 413.15306122448976,121.06903586090831 411.6122448979592,120.40871575619002 410.07142857142867,119.78134110787173 408.53061224489795,119.18788089996517 406.98979591836735,118.62930411648207 405.44897959183675,118.10657974143427 403.90816326530614,117.62067675883348 402.36734693877554,117.17256415269148 400.82653061224494,116.76321090702004 399.28571428571433,116.39358600583091 397.7448979591837,116.06465843313586 396.204081632653,115.77739717294665 394.66326530612247,115.53277120927505 393.1224489795918,115.33174952613282 391.5816326530612,115.17530110753174 390.0408163265306,115.06439493748353 388.5,115.0 388.5,115.0 386.95918367346934,114.9827622844223 385.41836734693874,115.01203580140927 383.87755102040825,115.08685156694916 382.3367346938776,115.20624059703015 380.7959183673469,115.36923390764053 379.2551020408163,115.57486251476851 377.7142857142858,115.82215743440234 376.1734693877551,116.11014968253025 374.6326530612245,116.43787027514047 373.0918367346938,116.80435022822121 371.5510204081632,117.20862055776078 370.0102040816326,117.64971227974738 368.4693877551021,118.12665641016923 366.92857142857144,118.63848396501459 365.3877551020408,119.18422596027166 363.84693877551024,119.7629134119287 362.3061224489796,120.37357733597398 360.765306122449,121.01524874839565 359.2244897959183,121.68695866518203 357.68367346938766,122.3877381023213 356.1428571428571,123.11661807580174 354.6020408163265,123.87262960161156 353.0612244897959,124.654803695739 351.5204081632653,125.46217137417233 349.9795918367347,126.29376365289971 348.43877551020404,127.14861154790944 346.8979591836735,128.02574607518974 345.35714285714283,128.92419825072886 343.81632653061223,129.842999090515 342.2755102040817,130.7811796105364 340.734693877551,131.73777082678137 339.19387755102036,132.71180375523804 337.65306122448976,133.7023094118947 336.11224489795916,134.7083188127396 334.57142857142856,135.72886297376095 333.03061224489795,136.76297291094698 331.48979591836735,137.80967964028594 329.94897959183675,138.86801417776604 328.40816326530614,139.9370075393756 326.86734693877554,141.01569074110276 325.3265306122449,142.1030947989358 323.7857142857143,143.19825072886297 322.2448979591837,144.30018954687245 320.7040816326531,145.40794226895255 319.16326530612247,146.52053991109145 317.6224489795918,147.63701348927742 316.0816326530612,148.75639401949866 314.5408163265306,149.87771251774345 313.0,151.0\" stroke=\"springgreen\" stroke-width=\"1\" /><polyline fill=\"none\" points=\"319.8714289602583,152.66837164055653 313,151 314.66837164055653,144.1285710397417 313,151\" stroke=\"springgreen\" stroke-width=\"1\" /><rect fill=\"white\" height=\"13\" rx=\"2\" ry=\"2\" stroke=\"springgreen\" stroke-width=\"1\" transform=\"rotate(0 387.0 116.5)\" width=\"85.5185185185185\" x=\"344.24074074074076\" y=\"110\" /><text fill=\"springgreen\" font-family=\"courier\" font-size=\"12\" transform=\"rotate(0 387.0 116.5)\" x=\"347.24074074074076\" y=\"120\">DOSAGE-DRUG</text><polyline fill=\"none\" points=\"411.0,355.0 409.3673469387755,353.7960798646822 407.73469387755097,352.59312871337613 406.10204081632656,351.3921155300938 404.469387755102,350.19400929884654 402.8367346938776,348.99977900364644 401.204081632653,347.81039362850504 399.5714285714287,346.6268221574345 397.93877551020415,345.4500335744461 396.3061224489797,344.2809968635519 394.67346938775506,343.1206810087633 393.04081632653055,341.97005499409255 391.4081632653061,340.8300878035512 389.7755102040816,339.701748421151 388.14285714285717,338.5860058309038 386.5102040816327,337.4838290168213 384.8775510204082,336.3961869629151 383.24489795918373,335.3240486531973 381.61224489795916,334.2683830716793 379.97959183673476,333.23015920237316 378.3469387755101,332.21034602929046 376.7142857142857,331.20991253644314 375.08163265306126,330.22982770784284 373.44897959183675,329.2710605275013 371.81632653061223,328.3345799794304 370.1836734693878,327.4213550476417 368.55102040816325,326.5323547161472 366.9183673469388,325.6685479689586 365.28571428571433,324.8309037900875 363.65306122448976,324.0203911635458 362.02040816326536,323.2379790733453 360.38775510204084,322.4846365034977 358.7551020408163,321.7613324380148 357.12244897959187,321.06903586090834 355.48979591836735,320.40871575619 353.8571428571429,319.78134110787175 352.22448979591843,319.1878808999652 350.59183673469386,318.6293041164821 348.9591836734694,318.1065797414343 347.32653061224494,317.6206767588335 345.6938775510205,317.1725641526915 344.0612244897959,316.76321090702004 342.42857142857144,316.3935860058309 340.7959183673469,316.06465843313583 339.16326530612247,315.7773971729466 337.53061224489795,315.5327712092751 335.8979591836735,315.33174952613285 334.265306122449,315.1753011075317 332.63265306122446,315.0643949374835 331.0,315.0 331.0,315.0 329.3673469387755,314.9827622844222 327.73469387755097,315.0120358014093 326.10204081632656,315.0868515669492 324.469387755102,315.20624059703016 322.83673469387753,315.3692339076405 321.2040816326531,315.57486251476854 319.57142857142867,315.82215743440236 317.9387755102041,316.1101496825303 316.30612244897964,316.4378702751404 314.673469387755,316.8043502282212 313.0408163265305,317.2086205577607 311.40816326530603,317.6497122797473 309.7755102040816,318.12665641016923 308.1428571428571,318.6384839650146 306.5102040816327,319.1842259602717 304.87755102040813,319.76291341192865 303.2448979591837,320.37357733597395 301.61224489795916,321.01524874839566 299.9795918367347,321.686958665182 298.3469387755101,322.38773810232124 296.71428571428567,323.1166180758017 295.0816326530612,323.87262960161155 293.4489795918367,324.65480369573896 291.81632653061223,325.46217137417227 290.1836734693877,326.29376365289966 288.55102040816325,327.14861154790935 286.9183673469388,328.0257460751897 285.2857142857143,328.92419825072886 283.65306122448976,329.842999090515 282.0204081632653,330.78117961053636 280.3877551020408,331.73777082678134 278.7551020408163,332.711803755238 277.1224489795918,333.7023094118947 275.48979591836735,334.70831881273955 273.8571428571429,335.72886297376095 272.2244897959183,336.7629729109469 270.59183673469386,337.80967964028594 268.9591836734694,338.86801417776604 267.3265306122449,339.9370075393756 265.69387755102036,341.01569074110273 264.0612244897959,342.1030947989358 262.42857142857144,343.19825072886294 260.7959183673469,344.30018954687245 259.1632653061224,345.4079422689525 257.53061224489795,346.5205399110915 255.89795918367346,347.6370134892774 254.26530612244898,348.7563940194987 252.6326530612245,349.8777125177434 251.0,351.0\" stroke=\"slategray\" stroke-width=\"1\" /><polyline fill=\"none\" points=\"257.82688712918025,352.842175892001 251,351 252.84217589200102,344.17311287081975 251,351\" stroke=\"slategray\" stroke-width=\"1\" /><rect fill=\"white\" height=\"13\" rx=\"2\" ry=\"2\" stroke=\"slategray\" stroke-width=\"1\" transform=\"rotate(0 329.5 316.5)\" width=\"107.07407407407406\" x=\"275.962962962963\" y=\"310\" /><text fill=\"slategray\" font-family=\"courier\" font-size=\"12\" transform=\"rotate(0 329.5 316.5)\" x=\"278.962962962963\" y=\"320\">DRUG-FREQUENCY</text><polyline fill=\"none\" points=\"796.0,355.0 794.3571428571427,353.7960798646822 792.7142857142857,352.59312871337613 791.0714285714286,351.3921155300938 789.4285714285716,350.19400929884654 787.7857142857142,348.99977900364644 786.142857142857,347.81039362850504 784.5000000000002,346.6268221574345 782.8571428571429,345.4500335744461 781.2142857142859,344.2809968635519 779.5714285714286,343.1206810087633 777.9285714285713,341.97005499409255 776.2857142857143,340.8300878035512 774.6428571428571,339.701748421151 773.0,338.5860058309038 771.357142857143,337.4838290168213 769.7142857142859,336.3961869629151 768.0714285714288,335.3240486531973 766.4285714285714,334.2683830716793 764.7857142857143,333.23015920237316 763.1428571428571,332.21034602929046 761.5,331.20991253644314 759.857142857143,330.22982770784284 758.2142857142858,329.2710605275013 756.5714285714287,328.3345799794304 754.9285714285716,327.4213550476417 753.2857142857143,326.5323547161472 751.6428571428571,325.6685479689586 750.0000000000002,324.8309037900875 748.3571428571429,324.0203911635458 746.7142857142858,323.2379790733453 745.0714285714287,322.4846365034977 743.4285714285714,321.7613324380148 741.7857142857142,321.06903586090834 740.1428571428571,320.40871575619 738.5000000000001,319.78134110787175 736.8571428571429,319.1878808999652 735.2142857142858,318.6293041164821 733.5714285714287,318.1065797414343 731.9285714285716,317.6206767588335 730.2857142857143,317.1725641526915 728.6428571428571,316.76321090702004 727.0,316.3935860058309 725.3571428571429,316.06465843313583 723.7142857142858,315.7773971729466 722.0714285714286,315.5327712092751 720.4285714285716,315.33174952613285 718.7857142857142,315.1753011075317 717.1428571428571,315.0643949374835 715.5,315.0 715.5,315.0 713.8571428571428,314.9827622844222 712.2142857142856,315.0120358014093 710.5714285714287,315.0868515669492 708.9285714285714,315.20624059703016 707.2857142857142,315.3692339076405 705.6428571428571,315.57486251476854 704.0000000000002,315.82215743440236 702.357142857143,316.1101496825303 700.7142857142857,316.4378702751404 699.0714285714286,316.8043502282212 697.4285714285712,317.2086205577607 695.7857142857141,317.6497122797473 694.1428571428571,318.12665641016923 692.4999999999999,318.6384839650146 690.8571428571429,319.1842259602717 689.2142857142858,319.76291341192865 687.5714285714287,320.37357733597395 685.9285714285714,321.01524874839566 684.2857142857142,321.686958665182 682.642857142857,322.38773810232124 680.9999999999999,323.1166180758017 679.3571428571429,323.87262960161155 677.7142857142857,324.65480369573896 676.0714285714286,325.46217137417227 674.4285714285713,326.29376365289966 672.7857142857141,327.14861154790935 671.1428571428571,328.0257460751897 669.5,328.92419825072886 667.8571428571429,329.842999090515 666.2142857142857,330.78117961053636 664.5714285714286,331.73777082678134 662.9285714285713,332.711803755238 661.2857142857142,333.7023094118947 659.6428571428571,334.70831881273955 658.0,335.72886297376095 656.3571428571429,336.7629729109469 654.7142857142858,337.80967964028594 653.0714285714286,338.86801417776604 651.4285714285714,339.9370075393756 649.7857142857142,341.01569074110273 648.1428571428571,342.1030947989358 646.5,343.19825072886294 644.8571428571428,344.30018954687245 643.2142857142857,345.4079422689525 641.5714285714287,346.5205399110915 639.9285714285714,347.6370134892774 638.2857142857142,348.7563940194987 636.6428571428571,349.8777125177434 635.0,351.0\" stroke=\"slategray\" stroke-width=\"1\" /><polyline fill=\"none\" points=\"641.8219103950487,352.86052101683146 635,351 636.8605210168314,344.17808960495137 635,351\" stroke=\"slategray\" stroke-width=\"1\" /><rect fill=\"white\" height=\"13\" rx=\"2\" ry=\"2\" stroke=\"slategray\" stroke-width=\"1\" transform=\"rotate(0 714.0 316.5)\" width=\"107.07407407407406\" x=\"660.4629629629629\" y=\"310\" /><text fill=\"slategray\" font-family=\"courier\" font-size=\"12\" transform=\"rotate(0 714.0 316.5)\" x=\"663.4629629629629\" y=\"320\">DRUG-FREQUENCY</text><polyline fill=\"none\" points=\"241.0,355.0 239.11224489795916,353.7960798646822 237.22448979591832,352.59312871337613 235.33673469387756,351.3921155300938 233.44897959183675,350.19400929884654 231.56122448979593,348.99977900364644 229.6734693877551,347.81039362850504 227.78571428571436,346.6268221574345 225.89795918367355,345.4500335744461 224.01020408163268,344.2809968635519 222.1224489795918,343.1206810087633 220.23469387755097,341.97005499409255 218.34693877551018,340.8300878035512 216.4591836734694,339.701748421151 214.57142857142856,338.5860058309038 212.6836734693878,337.4838290168213 210.79591836734699,336.3961869629151 208.90816326530614,335.3240486531973 207.02040816326533,334.2683830716793 205.13265306122452,333.23015920237316 203.24489795918365,332.21034602929046 201.35714285714283,331.20991253644314 199.46938775510205,330.22982770784284 197.5816326530612,329.2710605275013 195.69387755102042,328.3345799794304 193.8061224489796,327.4213550476417 191.91836734693877,326.5323547161472 190.03061224489798,325.6685479689586 188.1428571428572,324.8309037900875 186.25510204081633,324.0203911635458 184.3673469387755,323.2379790733453 182.4795918367347,322.4846365034977 180.59183673469389,321.7613324380148 178.70408163265307,321.06903586090834 176.81632653061223,320.40871575619 174.92857142857144,319.78134110787175 173.04081632653063,319.1878808999652 171.15306122448982,318.6293041164821 169.26530612244898,318.1065797414343 167.3775510204082,317.6206767588335 165.48979591836735,317.1725641526915 163.60204081632654,316.76321090702004 161.71428571428572,316.3935860058309 159.82653061224488,316.06465843313583 157.9387755102041,315.7773971729466 156.05102040816325,315.5327712092751 154.16326530612247,315.33174952613285 152.27551020408163,315.1753011075317 150.3877551020408,315.0643949374835 148.5,315.0 148.5,315.0 146.6122448979592,314.9827622844222 144.72448979591834,315.0120358014093 142.83673469387756,315.0868515669492 140.94897959183672,315.20624059703016 139.0612244897959,315.3692339076405 137.1734693877551,315.57486251476854 135.2857142857143,315.82215743440236 133.3979591836735,316.1101496825303 131.51020408163265,316.4378702751404 129.62244897959184,316.8043502282212 127.734693877551,317.2086205577607 125.84693877551017,317.6497122797473 123.95918367346938,318.12665641016923 122.07142857142857,318.6384839650146 120.18367346938777,319.1842259602717 118.29591836734694,319.76291341192865 116.40816326530614,320.37357733597395 114.52040816326532,321.01524874839566 112.6326530612245,321.686958665182 110.74489795918365,322.38773810232124 108.85714285714283,323.1166180758017 106.96938775510203,323.87262960161155 105.08163265306122,324.65480369573896 103.19387755102042,325.46217137417227 101.3061224489796,326.29376365289966 99.41836734693877,327.14861154790935 97.53061224489795,328.0257460751897 95.64285714285715,328.92419825072886 93.75510204081633,329.842999090515 91.86734693877551,330.78117961053636 89.9795918367347,331.73777082678134 88.09183673469387,332.711803755238 86.20408163265307,333.7023094118947 84.31632653061224,334.70831881273955 82.42857142857143,335.72886297376095 80.54081632653063,336.7629729109469 78.6530612244898,337.80967964028594 76.76530612244898,338.86801417776604 74.87755102040816,339.9370075393756 72.98979591836735,341.01569074110273 71.10204081632654,342.1030947989358 69.21428571428572,343.19825072886294 67.3265306122449,344.30018954687245 65.4387755102041,345.4079422689525 63.55102040816327,346.5205399110915 61.663265306122454,347.6370134892774 59.775510204081634,348.7563940194987 57.88775510204081,349.8777125177434 56.0,351.0\" stroke=\"springgreen\" stroke-width=\"1\" /><polyline fill=\"none\" points=\"62.70334824922507,353.2505826251911 56,351 58.250582625191086,344.2966517507749 56,351\" stroke=\"springgreen\" stroke-width=\"1\" /><rect fill=\"white\" height=\"13\" rx=\"2\" ry=\"2\" stroke=\"springgreen\" stroke-width=\"1\" transform=\"rotate(0 147.0 316.5)\" width=\"85.5185185185185\" x=\"104.24074074074075\" y=\"310\" /><text fill=\"springgreen\" font-family=\"courier\" font-size=\"12\" transform=\"rotate(0 147.0 316.5)\" x=\"107.24074074074075\" y=\"320\">DOSAGE-DRUG</text><polyline fill=\"none\" points=\"717.0,255.0 715.1122448979592,253.79607986468218 713.2244897959182,252.59312871337622 711.3367346938776,251.39211553009378 709.4489795918367,250.19400929884657 707.5612244897959,248.99977900364644 705.6734693877551,247.81039362850512 703.7857142857144,246.62682215743445 701.8979591836737,245.45003357444608 700.0102040816327,244.2809968635518 698.1224489795918,243.12068100876334 696.234693877551,241.97005499409255 694.34693877551,240.8300878035512 692.4591836734694,239.70174842115102 690.5714285714287,238.58600583090382 688.6836734693878,237.4838290168213 686.795918367347,236.39618696291515 684.9081632653063,235.32404865319725 683.0204081632654,234.26838307167935 681.1326530612246,233.23015920237316 679.2448979591836,232.21034602929052 677.3571428571428,231.20991253644314 675.469387755102,230.22982770784284 673.5816326530612,229.2710605275013 671.6938775510206,228.33457997943037 669.8061224489796,227.42135504764173 667.9183673469388,226.53235471614718 666.030612244898,225.6685479689585 664.1428571428573,224.83090379008752 662.2551020408164,224.0203911635458 660.3673469387755,223.23797907334531 658.4795918367348,222.4846365034977 656.5918367346939,221.7613324380148 654.7040816326531,221.0690358609083 652.8163265306123,220.40871575619002 650.9285714285716,219.78134110787175 649.0408163265306,219.18788089996517 647.1530612244899,218.6293041164821 645.2653061224489,218.10657974143427 643.3775510204082,217.6206767588335 641.4897959183675,217.1725641526915 639.6020408163265,216.76321090702004 637.7142857142858,216.3935860058309 635.8265306122449,216.06465843313583 633.9387755102041,215.77739717294665 632.0510204081633,215.53277120927507 630.1632653061225,215.33174952613282 628.2755102040817,215.1753011075317 626.3877551020408,215.06439493748354 624.5,215.0 624.5,215.0 622.612244897959,214.98276228442228 620.7244897959182,215.0120358014092 618.8367346938776,215.08685156694915 616.9489795918366,215.20624059703016 615.0612244897959,215.36923390764048 613.1734693877552,215.57486251476848 611.2857142857143,215.82215743440238 609.3979591836736,216.11014968253025 607.5102040816328,216.43787027514048 605.6224489795917,216.8043502282212 603.7346938775509,217.20862055776075 601.84693877551,217.64971227974735 599.9591836734693,218.1266564101692 598.0714285714286,218.63848396501453 596.1836734693878,219.18422596027168 594.295918367347,219.7629134119287 592.4081632653061,220.37357733597398 590.5204081632653,221.01524874839563 588.6326530612245,221.68695866518203 586.7448979591835,222.38773810232126 584.8571428571428,223.1166180758017 582.969387755102,223.87262960161155 581.0816326530612,224.654803695739 579.1938775510204,225.46217137417233 577.3061224489795,226.2937636528997 575.4183673469387,227.1486115479094 573.530612244898,228.02574607518974 571.6428571428571,228.92419825072886 569.7551020408163,229.84299909051498 567.8673469387754,230.7811796105364 565.9795918367347,231.73777082678137 564.0918367346937,232.711803755238 562.204081632653,233.7023094118947 560.3163265306122,234.70831881273955 558.4285714285713,235.72886297376093 556.5408163265306,236.76297291094693 554.6530612244898,237.80967964028594 552.7653061224489,238.86801417776604 550.8775510204082,239.9370075393756 548.9897959183673,241.01569074110276 547.1020408163265,242.10309479893584 545.2142857142858,243.19825072886297 543.3265306122448,244.30018954687245 541.4387755102041,245.40794226895255 539.5510204081633,246.52053991109148 537.6632653061224,247.63701348927742 535.7755102040816,248.75639401949869 533.8877551020407,249.87771251774345 532.0,251.0\" stroke=\"springgreen\" stroke-width=\"1\" /><polyline fill=\"none\" points=\"538.703348249225,253.25058262519104 532,251 534.2505826251911,244.29665175077497 532,251\" stroke=\"springgreen\" stroke-width=\"1\" /><rect fill=\"white\" height=\"13\" rx=\"2\" ry=\"2\" stroke=\"springgreen\" stroke-width=\"1\" transform=\"rotate(0 623.0 216.5)\" width=\"85.5185185185185\" x=\"580.2407407407408\" y=\"210\" /><text fill=\"springgreen\" font-family=\"courier\" font-size=\"12\" transform=\"rotate(0 623.0 216.5)\" x=\"583.2407407407408\" y=\"220\">DOSAGE-DRUG</text></svg>",
       "datasetInfos": [],
       "removedWidgets": [],
       "textData": null,
       "type": "htmlSandbox"
      }
     },
     "output_type": "display_data"
    }
   ],
   "source": [
    "from sparknlp_display import RelationExtractionVisualizer\n",
    "\n",
    "\n",
    "visualizer = RelationExtractionVisualizer()\n",
    "vis = visualizer.display(results[0], 'relations', show_relations=True, return_html=True) # default show_relations: True\n",
    "\n",
    "displayHTML(vis)"
   ]
  },
  {
   "cell_type": "markdown",
   "metadata": {
    "application/vnd.databricks.v1+cell": {
     "inputWidgets": {},
     "nuid": "a7236c76-e2ab-4c41-aae7-2dacc8701d50",
     "showTitle": false,
     "title": ""
    }
   },
   "source": [
    "## 2. Clinical RE"
   ]
  },
  {
   "cell_type": "markdown",
   "metadata": {
    "application/vnd.databricks.v1+cell": {
     "inputWidgets": {},
     "nuid": "ee2c97c1-1779-4cba-8933-6169f59331ce",
     "showTitle": false,
     "title": ""
    }
   },
   "source": [
    "**The set of relations defined in the 2010 i2b2 relation challenge**\n",
    "\n",
    "TrIP: A certain treatment has improved or cured a medical problem (eg, ‘infection resolved with antibiotic course’)\n",
    "\n",
    "TrWP: A patient's medical problem has deteriorated or worsened because of or in spite of a treatment being administered (eg, ‘the tumor was growing despite the drain’)\n",
    "\n",
    "TrCP: A treatment caused a medical problem (eg, ‘penicillin causes a rash’)\n",
    "\n",
    "TrAP: A treatment administered for a medical problem (eg, ‘Dexamphetamine for narcolepsy’)\n",
    "\n",
    "TrNAP: The administration of a treatment was avoided because of a medical problem (eg, ‘Ralafen which is contra-indicated because of ulcers’)\n",
    "\n",
    "TeRP: A test has revealed some medical problem (eg, ‘an echocardiogram revealed a pericardial effusion’)\n",
    "\n",
    "TeCP: A test was performed to investigate a medical problem (eg, ‘chest x-ray done to rule out pneumonia’)\n",
    "\n",
    "PIP: Two problems are related to each other (eg, ‘Azotemia presumed secondary to sepsis’)"
   ]
  },
  {
   "cell_type": "code",
   "execution_count": 0,
   "metadata": {
    "application/vnd.databricks.v1+cell": {
     "inputWidgets": {},
     "nuid": "a710dc05-8239-42fd-b0c5-da70b98faadf",
     "showTitle": false,
     "title": ""
    }
   },
   "outputs": [
    {
     "data": {
      "text/html": [
       "<style scoped>\n",
       "  .ansiout {\n",
       "    display: block;\n",
       "    unicode-bidi: embed;\n",
       "    white-space: pre-wrap;\n",
       "    word-wrap: break-word;\n",
       "    word-break: break-all;\n",
       "    font-family: \"Source Code Pro\", \"Menlo\", monospace;;\n",
       "    font-size: 13px;\n",
       "    color: #555;\n",
       "    margin-left: 4px;\n",
       "    line-height: 19px;\n",
       "  }\n",
       "</style>\n",
       "<div class=\"ansiout\">ner_clinical download started this may take some time.\n",
       "Approximate size to download 13.9 MB\n",
       "\r",
       "[ | ]\r",
       "[OK!]\n",
       "re_clinical download started this may take some time.\n",
       "Approximate size to download 6 MB\n",
       "\r",
       "[ | ]\r",
       "[OK!]\n",
       "</div>"
      ]
     },
     "metadata": {
      "application/vnd.databricks.v1+output": {
       "addedWidgets": {},
       "arguments": {},
       "data": "<div class=\"ansiout\">ner_clinical download started this may take some time.\nApproximate size to download 13.9 MB\n\r[ | ]\r[OK!]\nre_clinical download started this may take some time.\nApproximate size to download 6 MB\n\r[ | ]\r[OK!]\n</div>",
       "datasetInfos": [],
       "removedWidgets": [],
       "type": "html"
      }
     },
     "output_type": "display_data"
    }
   ],
   "source": [
    "clinical_ner_tagger = MedicalNerModel.pretrained(\"ner_clinical\", \"en\", \"clinical/models\")\\\n",
    "    .setInputCols(\"sentence\", \"tokens\", \"embeddings\")\\\n",
    "    .setOutputCol(\"ner_tags\")    \n",
    "\n",
    "clinical_re_Model = RelationExtractionModel.pretrained(\"re_clinical\", \"en\", 'clinical/models')\\\n",
    "    .setInputCols([\"embeddings\", \"pos_tags\", \"ner_chunks\", \"dependencies\"])\\\n",
    "    .setOutputCol(\"relations\")\\\n",
    "    .setMaxSyntacticDistance(4)\\\n",
    "    .setRelationPairs([\"problem-test\", \"problem-treatment\"]) # we can set the possible relation pairs (if not set, all the relations will be calculated)\n",
    "\n",
    "pipeline = Pipeline(stages=[\n",
    "    documenter,\n",
    "    sentencer,\n",
    "    tokenizer, \n",
    "    words_embedder, \n",
    "    pos_tagger, \n",
    "    clinical_ner_tagger,\n",
    "    ner_chunker,\n",
    "    dependency_parser,\n",
    "    clinical_re_Model\n",
    "])\n",
    "\n",
    "empty_data = spark.createDataFrame([[\"\"]]).toDF(\"text\")\n",
    "model = pipeline.fit(empty_data)"
   ]
  },
  {
   "cell_type": "code",
   "execution_count": 0,
   "metadata": {
    "application/vnd.databricks.v1+cell": {
     "inputWidgets": {},
     "nuid": "0bbc3ec2-7206-4371-b5e5-75fc41899a2f",
     "showTitle": false,
     "title": ""
    }
   },
   "outputs": [
    {
     "data": {
      "text/html": [
       "<style scoped>\n",
       "  .ansiout {\n",
       "    display: block;\n",
       "    unicode-bidi: embed;\n",
       "    white-space: pre-wrap;\n",
       "    word-wrap: break-word;\n",
       "    word-break: break-all;\n",
       "    font-family: \"Source Code Pro\", \"Menlo\", monospace;;\n",
       "    font-size: 13px;\n",
       "    color: #555;\n",
       "    margin-left: 4px;\n",
       "    line-height: 19px;\n",
       "  }\n",
       "</style>\n",
       "<div class=\"ansiout\">Out[35]: </div>"
      ]
     },
     "metadata": {
      "application/vnd.databricks.v1+output": {
       "addedWidgets": {},
       "arguments": {},
       "data": "<div class=\"ansiout\">Out[35]: </div>",
       "datasetInfos": [],
       "removedWidgets": [],
       "type": "html"
      }
     },
     "output_type": "display_data"
    },
    {
     "data": {
      "text/html": [
       "<div>\n",
       "<style scoped>\n",
       "    .dataframe tbody tr th:only-of-type {\n",
       "        vertical-align: middle;\n",
       "    }\n",
       "\n",
       "    .dataframe tbody tr th {\n",
       "        vertical-align: top;\n",
       "    }\n",
       "\n",
       "    .dataframe thead th {\n",
       "        text-align: right;\n",
       "    }\n",
       "</style>\n",
       "<table border=\"1\" class=\"dataframe\">\n",
       "  <thead>\n",
       "    <tr style=\"text-align: right;\">\n",
       "      <th></th>\n",
       "      <th>relation</th>\n",
       "      <th>entity1</th>\n",
       "      <th>entity1_begin</th>\n",
       "      <th>entity1_end</th>\n",
       "      <th>chunk1</th>\n",
       "      <th>entity2</th>\n",
       "      <th>entity2_begin</th>\n",
       "      <th>entity2_end</th>\n",
       "      <th>chunk2</th>\n",
       "      <th>confidence</th>\n",
       "    </tr>\n",
       "  </thead>\n",
       "  <tbody>\n",
       "    <tr>\n",
       "      <th>11</th>\n",
       "      <td>TrAP</td>\n",
       "      <td>PROBLEM</td>\n",
       "      <td>617</td>\n",
       "      <td>620</td>\n",
       "      <td>T2DM</td>\n",
       "      <td>TREATMENT</td>\n",
       "      <td>626</td>\n",
       "      <td>637</td>\n",
       "      <td>atorvastatin</td>\n",
       "      <td>0.99955326</td>\n",
       "    </tr>\n",
       "    <tr>\n",
       "      <th>15</th>\n",
       "      <td>TeRP</td>\n",
       "      <td>TEST</td>\n",
       "      <td>739</td>\n",
       "      <td>758</td>\n",
       "      <td>Physical examination</td>\n",
       "      <td>PROBLEM</td>\n",
       "      <td>796</td>\n",
       "      <td>810</td>\n",
       "      <td>dry oral mucosa</td>\n",
       "      <td>0.9994142</td>\n",
       "    </tr>\n",
       "    <tr>\n",
       "      <th>19</th>\n",
       "      <td>TrWP</td>\n",
       "      <td>TEST</td>\n",
       "      <td>1246</td>\n",
       "      <td>1258</td>\n",
       "      <td>blood samples</td>\n",
       "      <td>PROBLEM</td>\n",
       "      <td>1265</td>\n",
       "      <td>1274</td>\n",
       "      <td>hemolyzing</td>\n",
       "      <td>0.9854173</td>\n",
       "    </tr>\n",
       "    <tr>\n",
       "      <th>21</th>\n",
       "      <td>TeRP</td>\n",
       "      <td>TEST</td>\n",
       "      <td>1535</td>\n",
       "      <td>1547</td>\n",
       "      <td>the anion gap</td>\n",
       "      <td>PROBLEM</td>\n",
       "      <td>1553</td>\n",
       "      <td>1566</td>\n",
       "      <td>still elevated</td>\n",
       "      <td>0.9965193</td>\n",
       "    </tr>\n",
       "    <tr>\n",
       "      <th>26</th>\n",
       "      <td>TrAP</td>\n",
       "      <td>TEST</td>\n",
       "      <td>1838</td>\n",
       "      <td>1845</td>\n",
       "      <td>analysis</td>\n",
       "      <td>PROBLEM</td>\n",
       "      <td>1854</td>\n",
       "      <td>1880</td>\n",
       "      <td>interference from turbidity</td>\n",
       "      <td>0.9676019</td>\n",
       "    </tr>\n",
       "    <tr>\n",
       "      <th>33</th>\n",
       "      <td>TrAP</td>\n",
       "      <td>PROBLEM</td>\n",
       "      <td>1967</td>\n",
       "      <td>1969</td>\n",
       "      <td>HTG</td>\n",
       "      <td>TREATMENT</td>\n",
       "      <td>1976</td>\n",
       "      <td>1986</td>\n",
       "      <td>a reduction</td>\n",
       "      <td>0.9875973</td>\n",
       "    </tr>\n",
       "    <tr>\n",
       "      <th>34</th>\n",
       "      <td>TrAP</td>\n",
       "      <td>PROBLEM</td>\n",
       "      <td>1967</td>\n",
       "      <td>1969</td>\n",
       "      <td>HTG</td>\n",
       "      <td>TEST</td>\n",
       "      <td>1991</td>\n",
       "      <td>2003</td>\n",
       "      <td>the anion gap</td>\n",
       "      <td>0.9993911</td>\n",
       "    </tr>\n",
       "  </tbody>\n",
       "</table>\n",
       "</div>"
      ]
     },
     "metadata": {
      "application/vnd.databricks.v1+output": {
       "addedWidgets": {},
       "arguments": {},
       "data": "<div>\n<style scoped>\n    .dataframe tbody tr th:only-of-type {\n        vertical-align: middle;\n    }\n\n    .dataframe tbody tr th {\n        vertical-align: top;\n    }\n\n    .dataframe thead th {\n        text-align: right;\n    }\n</style>\n<table border=\"1\" class=\"dataframe\">\n  <thead>\n    <tr style=\"text-align: right;\">\n      <th></th>\n      <th>relation</th>\n      <th>entity1</th>\n      <th>entity1_begin</th>\n      <th>entity1_end</th>\n      <th>chunk1</th>\n      <th>entity2</th>\n      <th>entity2_begin</th>\n      <th>entity2_end</th>\n      <th>chunk2</th>\n      <th>confidence</th>\n    </tr>\n  </thead>\n  <tbody>\n    <tr>\n      <th>11</th>\n      <td>TrAP</td>\n      <td>PROBLEM</td>\n      <td>617</td>\n      <td>620</td>\n      <td>T2DM</td>\n      <td>TREATMENT</td>\n      <td>626</td>\n      <td>637</td>\n      <td>atorvastatin</td>\n      <td>0.99955326</td>\n    </tr>\n    <tr>\n      <th>15</th>\n      <td>TeRP</td>\n      <td>TEST</td>\n      <td>739</td>\n      <td>758</td>\n      <td>Physical examination</td>\n      <td>PROBLEM</td>\n      <td>796</td>\n      <td>810</td>\n      <td>dry oral mucosa</td>\n      <td>0.9994142</td>\n    </tr>\n    <tr>\n      <th>19</th>\n      <td>TrWP</td>\n      <td>TEST</td>\n      <td>1246</td>\n      <td>1258</td>\n      <td>blood samples</td>\n      <td>PROBLEM</td>\n      <td>1265</td>\n      <td>1274</td>\n      <td>hemolyzing</td>\n      <td>0.9854173</td>\n    </tr>\n    <tr>\n      <th>21</th>\n      <td>TeRP</td>\n      <td>TEST</td>\n      <td>1535</td>\n      <td>1547</td>\n      <td>the anion gap</td>\n      <td>PROBLEM</td>\n      <td>1553</td>\n      <td>1566</td>\n      <td>still elevated</td>\n      <td>0.9965193</td>\n    </tr>\n    <tr>\n      <th>26</th>\n      <td>TrAP</td>\n      <td>TEST</td>\n      <td>1838</td>\n      <td>1845</td>\n      <td>analysis</td>\n      <td>PROBLEM</td>\n      <td>1854</td>\n      <td>1880</td>\n      <td>interference from turbidity</td>\n      <td>0.9676019</td>\n    </tr>\n    <tr>\n      <th>33</th>\n      <td>TrAP</td>\n      <td>PROBLEM</td>\n      <td>1967</td>\n      <td>1969</td>\n      <td>HTG</td>\n      <td>TREATMENT</td>\n      <td>1976</td>\n      <td>1986</td>\n      <td>a reduction</td>\n      <td>0.9875973</td>\n    </tr>\n    <tr>\n      <th>34</th>\n      <td>TrAP</td>\n      <td>PROBLEM</td>\n      <td>1967</td>\n      <td>1969</td>\n      <td>HTG</td>\n      <td>TEST</td>\n      <td>1991</td>\n      <td>2003</td>\n      <td>the anion gap</td>\n      <td>0.9993911</td>\n    </tr>\n  </tbody>\n</table>\n</div>",
       "datasetInfos": [],
       "removedWidgets": [],
       "textData": null,
       "type": "htmlSandbox"
      }
     },
     "output_type": "display_data"
    }
   ],
   "source": [
    "text =\"\"\"A 28-year-old female with a history of gestational diabetes mellitus diagnosed eight years prior to presentation and subsequent type two diabetes mellitus ( T2DM ), \n",
    "one prior episode of HTG-induced pancreatitis three years prior to presentation,  associated with an acute hepatitis , and obesity with a body mass index ( BMI ) of 33.5 kg/m2 , presented with a one-week history of polyuria , polydipsia , poor appetite , and vomiting . Two weeks prior to presentation , she was treated with a five-day course of amoxicillin for a respiratory tract infection . She was on metformin , glipizide , and dapagliflozin for T2DM and atorvastatin and gemfibrozil for HTG . She had been on dapagliflozin for six months at the time of presentation. Physical examination on presentation was significant for dry oral mucosa ; significantly , her abdominal examination was benign with no tenderness , guarding , or rigidity . Pertinent laboratory findings on admission were : serum glucose 111 mg/dl , bicarbonate 18 mmol/l , anion gap 20 , creatinine 0.4 mg/dL , triglycerides 508 mg/dL , total cholesterol 122 mg/dL , glycated hemoglobin ( HbA1c ) 10% , and venous pH 7.27 . Serum lipase was normal at 43 U/L . Serum acetone levels could not be assessed as blood samples kept hemolyzing due to significant lipemia . The patient was initially admitted for starvation ketosis , as she reported poor oral intake for three days prior to admission . However , serum chemistry obtained six hours after presentation revealed her glucose was 186 mg/dL , the anion gap was still elevated at 21 , serum bicarbonate was 16 mmol/L , triglyceride level peaked at 2050 mg/dL , and lipase was 52 U/L . The β-hydroxybutyrate level was obtained and found to be elevated at 5.29 mmol/L - the original sample was centrifuged and the chylomicron layer removed prior to analysis due to interference from turbidity caused by lipemia again . The patient was treated with an insulin drip for euDKA and HTG with a reduction in the anion gap to 13 and triglycerides to 1400 mg/dL , within 24 hours . Her euDKA was thought to be precipitated by her respiratory tract infection in the setting of SGLT2 inhibitor use . The patient was seen by the endocrinology service and she was discharged on 40 units of insulin glargine at night , 12 units of insulin lispro with meals , and metformin 1000 mg two times a day . It was determined that all SGLT2 inhibitors should be discontinued indefinitely . \n",
    "She had close follow-up with endocrinology post discharge .\n",
    "\"\"\"\n",
    "\n",
    "lmodel = LightPipeline(model)\n",
    "annotations = lmodel.fullAnnotate(text)\n",
    "\n",
    "rel_df = get_relations_df (annotations)\n",
    "\n",
    "rel_df[rel_df.relation!=\"O\"]\n"
   ]
  },
  {
   "cell_type": "markdown",
   "metadata": {
    "application/vnd.databricks.v1+cell": {
     "inputWidgets": {},
     "nuid": "a887f894-31c7-4091-8914-2918752c4596",
     "showTitle": false,
     "title": ""
    }
   },
   "source": [
    "## 3. Clinical Temporal Events RE"
   ]
  },
  {
   "cell_type": "markdown",
   "metadata": {
    "application/vnd.databricks.v1+cell": {
     "inputWidgets": {},
     "nuid": "d4425655-fe87-4dff-8151-51f8cf268446",
     "showTitle": false,
     "title": ""
    }
   },
   "source": [
    "Temporal relations, or temporal links (denoted by the TLINK tag), indicate whether and how two EVENTs, two TIME, or an EVENT and a TIME related to each other in the clinical timeline. There are 3 type of relations here and below are some examples of Relations, with square brackets indicating EVENT and TIME connected by a temporal link:\n",
    "\n",
    "**`BEFORE`**\n",
    "\n",
    "The patient was given stress dose steroids prior to his surgery. ([stress dose steroids] `BEFORE` [his surgery])\n",
    "\n",
    "The patient had an undocumented history of possible atrial fibrillation prior to admission. ([possible atrial fibrillation] `BEFORE` [admission])\n",
    "\n",
    "His nasogastric tube was discontinued on 05-26-98. ([His nasogastric] `BEFORE` [05-26-98])\n",
    "\n",
    "**`AFTER`**\n",
    "\n",
    "Before admission, he had another serious concussion. ([admission] `AFTER` [another serious concussion])\n",
    "\n",
    "On postoperative day No 1, he was started on Percocet. ([Percocet] `AFTER` [postoperative day No 1])\n",
    "\n",
    "\n",
    "**`OVERLAP`**\n",
    "\n",
    "She denies any fevers or chills. ([fevers] `OVERLAP` [chills])\n",
    "\n",
    "The patient's serum creatinine on discharge date, 2012-05-06, was 1.9. ([discharge date] `OVERLAP` [2012-05-06])\n",
    "\n",
    "His preoperative workup was completed and included a normal white count ([a normal white count] `OVERLAP` [His preoperative workup])\n",
    "\n",
    "The patient had an undocumented history of possible atrial fibrillation prior to admission. ([possible atrial fibrillation] `OVERLAP` [admission])\n",
    "\n",
    "\n",
    "| Relation | Recall | Precision | F1 |\n",
    "| --- | --- | --- | --- |\n",
    "| OVERLAP | 0.81 | 0.73 | **0.77** |\n",
    "| BEFORE | 0.85 | 0.88 | **0.86** |\n",
    "| AFTER | 0.38 | 0.46 | **0.43** |"
   ]
  },
  {
   "cell_type": "markdown",
   "metadata": {
    "application/vnd.databricks.v1+cell": {
     "inputWidgets": {},
     "nuid": "d40e1641-897a-4b4d-961e-7a190e2e1cdc",
     "showTitle": false,
     "title": ""
    }
   },
   "source": [
    "This RE model works with `ner_events_clinical` NER model and expect the following entities as inputs:\n",
    "\n",
    "[`OCCURRENCE`,\n",
    " `DATE`,\n",
    " `DURATION`,\n",
    " `EVIDENTIAL`,\n",
    " `TEST`,\n",
    " `PROBLEM`,\n",
    " `TREATMENT`,\n",
    " `CLINICAL_DEPT`,\n",
    " `FREQUENCY`,\n",
    " `TIME`]"
   ]
  },
  {
   "cell_type": "code",
   "execution_count": 0,
   "metadata": {
    "application/vnd.databricks.v1+cell": {
     "inputWidgets": {},
     "nuid": "43e7f2c6-bd38-48f5-bcb6-ebc97dc871b1",
     "showTitle": false,
     "title": ""
    }
   },
   "outputs": [
    {
     "data": {
      "text/html": [
       "<style scoped>\n",
       "  .ansiout {\n",
       "    display: block;\n",
       "    unicode-bidi: embed;\n",
       "    white-space: pre-wrap;\n",
       "    word-wrap: break-word;\n",
       "    word-break: break-all;\n",
       "    font-family: \"Source Code Pro\", \"Menlo\", monospace;;\n",
       "    font-size: 13px;\n",
       "    color: #555;\n",
       "    margin-left: 4px;\n",
       "    line-height: 19px;\n",
       "  }\n",
       "</style>\n",
       "<div class=\"ansiout\">ner_events_clinical download started this may take some time.\n",
       "Approximate size to download 13.8 MB\n",
       "\r",
       "[ | ]\r",
       "[OK!]\n",
       "re_temporal_events_clinical download started this may take some time.\n",
       "Approximate size to download 5.9 MB\n",
       "\r",
       "[ | ]\r",
       "[ / ]\r",
       "[OK!]\n",
       "</div>"
      ]
     },
     "metadata": {
      "application/vnd.databricks.v1+output": {
       "addedWidgets": {},
       "arguments": {},
       "data": "<div class=\"ansiout\">ner_events_clinical download started this may take some time.\nApproximate size to download 13.8 MB\n\r[ | ]\r[OK!]\nre_temporal_events_clinical download started this may take some time.\nApproximate size to download 5.9 MB\n\r[ | ]\r[ / ]\r[OK!]\n</div>",
       "datasetInfos": [],
       "removedWidgets": [],
       "type": "html"
      }
     },
     "output_type": "display_data"
    }
   ],
   "source": [
    "events_ner_tagger = MedicalNerModel()\\\n",
    "    .pretrained(\"ner_events_clinical\", \"en\", \"clinical/models\")\\\n",
    "    .setInputCols(\"sentences\", \"tokens\", \"embeddings\")\\\n",
    "    .setOutputCol(\"ner_tags\")    \n",
    "\n",
    "clinical_re_Model = RelationExtractionModel()\\\n",
    "    .pretrained(\"re_temporal_events_clinical\", \"en\", 'clinical/models')\\\n",
    "    .setInputCols([\"embeddings\", \"pos_tags\", \"ner_chunks\", \"dependencies\"])\\\n",
    "    .setOutputCol(\"relations\")\\\n",
    "    .setMaxSyntacticDistance(4)\\\n",
    "    .setPredictionThreshold(0.9)\n",
    "\n",
    "pipeline = Pipeline(stages=[\n",
    "    documenter,\n",
    "    sentencer,\n",
    "    tokenizer, \n",
    "    words_embedder, \n",
    "    pos_tagger, \n",
    "    events_ner_tagger,\n",
    "    ner_chunker,\n",
    "    dependency_parser,\n",
    "    clinical_re_Model\n",
    "])\n",
    "\n",
    "empty_data = spark.createDataFrame([[\"\"]]).toDF(\"text\")\n",
    "model = pipeline.fit(empty_data)"
   ]
  },
  {
   "cell_type": "code",
   "execution_count": 0,
   "metadata": {
    "application/vnd.databricks.v1+cell": {
     "inputWidgets": {},
     "nuid": "b4425f6a-ccbf-41d0-bb61-a10fcc9d69f1",
     "showTitle": false,
     "title": ""
    }
   },
   "outputs": [
    {
     "data": {
      "text/html": [
       "<style scoped>\n",
       "  .ansiout {\n",
       "    display: block;\n",
       "    unicode-bidi: embed;\n",
       "    white-space: pre-wrap;\n",
       "    word-wrap: break-word;\n",
       "    word-break: break-all;\n",
       "    font-family: \"Source Code Pro\", \"Menlo\", monospace;;\n",
       "    font-size: 13px;\n",
       "    color: #555;\n",
       "    margin-left: 4px;\n",
       "    line-height: 19px;\n",
       "  }\n",
       "</style>\n",
       "<div class=\"ansiout\">Out[37]: [&#39;O&#39;,\n",
       " &#39;B-OCCURRENCE&#39;,\n",
       " &#39;B-DATE&#39;,\n",
       " &#39;B-PROBLEM&#39;,\n",
       " &#39;I-PROBLEM&#39;,\n",
       " &#39;B-DURATION&#39;,\n",
       " &#39;I-DURATION&#39;,\n",
       " &#39;B-EVIDENTIAL&#39;,\n",
       " &#39;I-OCCURRENCE&#39;,\n",
       " &#39;B-TREATMENT&#39;,\n",
       " &#39;I-TREATMENT&#39;,\n",
       " &#39;I-DATE&#39;,\n",
       " &#39;B-TEST&#39;,\n",
       " &#39;I-TEST&#39;,\n",
       " &#39;B-CLINICAL_DEPT&#39;,\n",
       " &#39;I-CLINICAL_DEPT&#39;,\n",
       " &#39;B-FREQUENCY&#39;,\n",
       " &#39;I-FREQUENCY&#39;,\n",
       " &#39;I-EVIDENTIAL&#39;,\n",
       " &#39;B-TIME&#39;,\n",
       " &#39;I-TIME&#39;]</div>"
      ]
     },
     "metadata": {
      "application/vnd.databricks.v1+output": {
       "addedWidgets": {},
       "arguments": {},
       "data": "<div class=\"ansiout\">Out[37]: [&#39;O&#39;,\n &#39;B-OCCURRENCE&#39;,\n &#39;B-DATE&#39;,\n &#39;B-PROBLEM&#39;,\n &#39;I-PROBLEM&#39;,\n &#39;B-DURATION&#39;,\n &#39;I-DURATION&#39;,\n &#39;B-EVIDENTIAL&#39;,\n &#39;I-OCCURRENCE&#39;,\n &#39;B-TREATMENT&#39;,\n &#39;I-TREATMENT&#39;,\n &#39;I-DATE&#39;,\n &#39;B-TEST&#39;,\n &#39;I-TEST&#39;,\n &#39;B-CLINICAL_DEPT&#39;,\n &#39;I-CLINICAL_DEPT&#39;,\n &#39;B-FREQUENCY&#39;,\n &#39;I-FREQUENCY&#39;,\n &#39;I-EVIDENTIAL&#39;,\n &#39;B-TIME&#39;,\n &#39;I-TIME&#39;]</div>",
       "datasetInfos": [],
       "removedWidgets": [],
       "type": "html"
      }
     },
     "output_type": "display_data"
    }
   ],
   "source": [
    "events_ner_tagger.getClasses()"
   ]
  },
  {
   "cell_type": "code",
   "execution_count": 0,
   "metadata": {
    "application/vnd.databricks.v1+cell": {
     "inputWidgets": {},
     "nuid": "937ce8c7-b9a1-4a40-9758-99fabbdffe12",
     "showTitle": false,
     "title": ""
    }
   },
   "outputs": [
    {
     "data": {
      "text/html": [
       "<style scoped>\n",
       "  .ansiout {\n",
       "    display: block;\n",
       "    unicode-bidi: embed;\n",
       "    white-space: pre-wrap;\n",
       "    word-wrap: break-word;\n",
       "    word-break: break-all;\n",
       "    font-family: \"Source Code Pro\", \"Menlo\", monospace;;\n",
       "    font-size: 13px;\n",
       "    color: #555;\n",
       "    margin-left: 4px;\n",
       "    line-height: 19px;\n",
       "  }\n",
       "</style>\n",
       "<div class=\"ansiout\">Out[38]: </div>"
      ]
     },
     "metadata": {
      "application/vnd.databricks.v1+output": {
       "addedWidgets": {},
       "arguments": {},
       "data": "<div class=\"ansiout\">Out[38]: </div>",
       "datasetInfos": [],
       "removedWidgets": [],
       "type": "html"
      }
     },
     "output_type": "display_data"
    },
    {
     "data": {
      "text/html": [
       "<div>\n",
       "<style scoped>\n",
       "    .dataframe tbody tr th:only-of-type {\n",
       "        vertical-align: middle;\n",
       "    }\n",
       "\n",
       "    .dataframe tbody tr th {\n",
       "        vertical-align: top;\n",
       "    }\n",
       "\n",
       "    .dataframe thead th {\n",
       "        text-align: right;\n",
       "    }\n",
       "</style>\n",
       "<table border=\"1\" class=\"dataframe\">\n",
       "  <thead>\n",
       "    <tr style=\"text-align: right;\">\n",
       "      <th></th>\n",
       "      <th>relation</th>\n",
       "      <th>entity1</th>\n",
       "      <th>entity1_begin</th>\n",
       "      <th>entity1_end</th>\n",
       "      <th>chunk1</th>\n",
       "      <th>entity2</th>\n",
       "      <th>entity2_begin</th>\n",
       "      <th>entity2_end</th>\n",
       "      <th>chunk2</th>\n",
       "      <th>confidence</th>\n",
       "    </tr>\n",
       "  </thead>\n",
       "  <tbody>\n",
       "    <tr>\n",
       "      <th>0</th>\n",
       "      <td>BEFORE</td>\n",
       "      <td>PROBLEM</td>\n",
       "      <td>20</td>\n",
       "      <td>25</td>\n",
       "      <td>cancer</td>\n",
       "      <td>DATE</td>\n",
       "      <td>30</td>\n",
       "      <td>33</td>\n",
       "      <td>1991</td>\n",
       "      <td>0.9989215</td>\n",
       "    </tr>\n",
       "    <tr>\n",
       "      <th>1</th>\n",
       "      <td>AFTER</td>\n",
       "      <td>OCCURRENCE</td>\n",
       "      <td>49</td>\n",
       "      <td>56</td>\n",
       "      <td>admitted</td>\n",
       "      <td>CLINICAL_DEPT</td>\n",
       "      <td>61</td>\n",
       "      <td>71</td>\n",
       "      <td>Mayo Clinic</td>\n",
       "      <td>1.0</td>\n",
       "    </tr>\n",
       "    <tr>\n",
       "      <th>2</th>\n",
       "      <td>OVERLAP</td>\n",
       "      <td>OCCURRENCE</td>\n",
       "      <td>49</td>\n",
       "      <td>56</td>\n",
       "      <td>admitted</td>\n",
       "      <td>DATE</td>\n",
       "      <td>76</td>\n",
       "      <td>83</td>\n",
       "      <td>May 2000</td>\n",
       "      <td>0.99152386</td>\n",
       "    </tr>\n",
       "    <tr>\n",
       "      <th>3</th>\n",
       "      <td>BEFORE</td>\n",
       "      <td>CLINICAL_DEPT</td>\n",
       "      <td>61</td>\n",
       "      <td>71</td>\n",
       "      <td>Mayo Clinic</td>\n",
       "      <td>OCCURRENCE</td>\n",
       "      <td>89</td>\n",
       "      <td>98</td>\n",
       "      <td>discharged</td>\n",
       "      <td>1.0</td>\n",
       "    </tr>\n",
       "    <tr>\n",
       "      <th>4</th>\n",
       "      <td>BEFORE</td>\n",
       "      <td>OCCURRENCE</td>\n",
       "      <td>89</td>\n",
       "      <td>98</td>\n",
       "      <td>discharged</td>\n",
       "      <td>DATE</td>\n",
       "      <td>103</td>\n",
       "      <td>114</td>\n",
       "      <td>October 2001</td>\n",
       "      <td>0.95415086</td>\n",
       "    </tr>\n",
       "  </tbody>\n",
       "</table>\n",
       "</div>"
      ]
     },
     "metadata": {
      "application/vnd.databricks.v1+output": {
       "addedWidgets": {},
       "arguments": {},
       "data": "<div>\n<style scoped>\n    .dataframe tbody tr th:only-of-type {\n        vertical-align: middle;\n    }\n\n    .dataframe tbody tr th {\n        vertical-align: top;\n    }\n\n    .dataframe thead th {\n        text-align: right;\n    }\n</style>\n<table border=\"1\" class=\"dataframe\">\n  <thead>\n    <tr style=\"text-align: right;\">\n      <th></th>\n      <th>relation</th>\n      <th>entity1</th>\n      <th>entity1_begin</th>\n      <th>entity1_end</th>\n      <th>chunk1</th>\n      <th>entity2</th>\n      <th>entity2_begin</th>\n      <th>entity2_end</th>\n      <th>chunk2</th>\n      <th>confidence</th>\n    </tr>\n  </thead>\n  <tbody>\n    <tr>\n      <th>0</th>\n      <td>BEFORE</td>\n      <td>PROBLEM</td>\n      <td>20</td>\n      <td>25</td>\n      <td>cancer</td>\n      <td>DATE</td>\n      <td>30</td>\n      <td>33</td>\n      <td>1991</td>\n      <td>0.9989215</td>\n    </tr>\n    <tr>\n      <th>1</th>\n      <td>AFTER</td>\n      <td>OCCURRENCE</td>\n      <td>49</td>\n      <td>56</td>\n      <td>admitted</td>\n      <td>CLINICAL_DEPT</td>\n      <td>61</td>\n      <td>71</td>\n      <td>Mayo Clinic</td>\n      <td>1.0</td>\n    </tr>\n    <tr>\n      <th>2</th>\n      <td>OVERLAP</td>\n      <td>OCCURRENCE</td>\n      <td>49</td>\n      <td>56</td>\n      <td>admitted</td>\n      <td>DATE</td>\n      <td>76</td>\n      <td>83</td>\n      <td>May 2000</td>\n      <td>0.99152386</td>\n    </tr>\n    <tr>\n      <th>3</th>\n      <td>BEFORE</td>\n      <td>CLINICAL_DEPT</td>\n      <td>61</td>\n      <td>71</td>\n      <td>Mayo Clinic</td>\n      <td>OCCURRENCE</td>\n      <td>89</td>\n      <td>98</td>\n      <td>discharged</td>\n      <td>1.0</td>\n    </tr>\n    <tr>\n      <th>4</th>\n      <td>BEFORE</td>\n      <td>OCCURRENCE</td>\n      <td>89</td>\n      <td>98</td>\n      <td>discharged</td>\n      <td>DATE</td>\n      <td>103</td>\n      <td>114</td>\n      <td>October 2001</td>\n      <td>0.95415086</td>\n    </tr>\n  </tbody>\n</table>\n</div>",
       "datasetInfos": [],
       "removedWidgets": [],
       "textData": null,
       "type": "htmlSandbox"
      }
     },
     "output_type": "display_data"
    }
   ],
   "source": [
    "text =\"She is diagnosed as cancer in 1991. Then she was admitted to Mayo Clinic in May 2000 and discharged in October 2001\"\n",
    "\n",
    "lmodel = LightPipeline(model)\n",
    "annotations = lmodel.fullAnnotate(text)\n",
    "\n",
    "rel_df = get_relations_df (annotations)\n",
    "\n",
    "rel_df = rel_df[(rel_df.relation!=\"O\")]\n",
    "\n",
    "rel_df"
   ]
  },
  {
   "cell_type": "code",
   "execution_count": 0,
   "metadata": {
    "application/vnd.databricks.v1+cell": {
     "inputWidgets": {},
     "nuid": "607c753c-79d2-4202-ab66-889d21a932b6",
     "showTitle": false,
     "title": ""
    }
   },
   "outputs": [
    {
     "data": {
      "text/html": [
       "<style scoped>\n",
       "  .ansiout {\n",
       "    display: block;\n",
       "    unicode-bidi: embed;\n",
       "    white-space: pre-wrap;\n",
       "    word-wrap: break-word;\n",
       "    word-break: break-all;\n",
       "    font-family: \"Source Code Pro\", \"Menlo\", monospace;;\n",
       "    font-size: 13px;\n",
       "    color: #555;\n",
       "    margin-left: 4px;\n",
       "    line-height: 19px;\n",
       "  }\n",
       "</style>\n",
       "<div class=\"ansiout\">Out[40]: </div>"
      ]
     },
     "metadata": {
      "application/vnd.databricks.v1+output": {
       "addedWidgets": {},
       "arguments": {},
       "data": "<div class=\"ansiout\">Out[40]: </div>",
       "datasetInfos": [],
       "removedWidgets": [],
       "type": "html"
      }
     },
     "output_type": "display_data"
    },
    {
     "data": {
      "text/html": [
       "<div>\n",
       "<style scoped>\n",
       "    .dataframe tbody tr th:only-of-type {\n",
       "        vertical-align: middle;\n",
       "    }\n",
       "\n",
       "    .dataframe tbody tr th {\n",
       "        vertical-align: top;\n",
       "    }\n",
       "\n",
       "    .dataframe thead th {\n",
       "        text-align: right;\n",
       "    }\n",
       "</style>\n",
       "<table border=\"1\" class=\"dataframe\">\n",
       "  <thead>\n",
       "    <tr style=\"text-align: right;\">\n",
       "      <th></th>\n",
       "      <th>relation</th>\n",
       "      <th>entity1</th>\n",
       "      <th>entity1_begin</th>\n",
       "      <th>entity1_end</th>\n",
       "      <th>chunk1</th>\n",
       "      <th>entity2</th>\n",
       "      <th>entity2_begin</th>\n",
       "      <th>entity2_end</th>\n",
       "      <th>chunk2</th>\n",
       "      <th>confidence</th>\n",
       "    </tr>\n",
       "  </thead>\n",
       "  <tbody>\n",
       "    <tr>\n",
       "      <th>0</th>\n",
       "      <td>OVERLAP</td>\n",
       "      <td>DATE</td>\n",
       "      <td>3</td>\n",
       "      <td>9</td>\n",
       "      <td>9–28-92</td>\n",
       "      <td>TREATMENT</td>\n",
       "      <td>40</td>\n",
       "      <td>51</td>\n",
       "      <td>chemotherapy</td>\n",
       "      <td>1.000000</td>\n",
       "    </tr>\n",
       "    <tr>\n",
       "      <th>1</th>\n",
       "      <td>OVERLAP</td>\n",
       "      <td>DATE</td>\n",
       "      <td>3</td>\n",
       "      <td>9</td>\n",
       "      <td>9–28-92</td>\n",
       "      <td>TREATMENT</td>\n",
       "      <td>105</td>\n",
       "      <td>106</td>\n",
       "      <td>PT</td>\n",
       "      <td>0.989851</td>\n",
       "    </tr>\n",
       "    <tr>\n",
       "      <th>3</th>\n",
       "      <td>OVERLAP</td>\n",
       "      <td>OCCURRENCE</td>\n",
       "      <td>66</td>\n",
       "      <td>74</td>\n",
       "      <td>follow up</td>\n",
       "      <td>CLINICAL_DEPT</td>\n",
       "      <td>81</td>\n",
       "      <td>98</td>\n",
       "      <td>her primary doctor</td>\n",
       "      <td>0.998086</td>\n",
       "    </tr>\n",
       "    <tr>\n",
       "      <th>4</th>\n",
       "      <td>OVERLAP</td>\n",
       "      <td>OCCURRENCE</td>\n",
       "      <td>66</td>\n",
       "      <td>74</td>\n",
       "      <td>follow up</td>\n",
       "      <td>TREATMENT</td>\n",
       "      <td>105</td>\n",
       "      <td>106</td>\n",
       "      <td>PT</td>\n",
       "      <td>0.999761</td>\n",
       "    </tr>\n",
       "    <tr>\n",
       "      <th>5</th>\n",
       "      <td>OVERLAP</td>\n",
       "      <td>OCCURRENCE</td>\n",
       "      <td>66</td>\n",
       "      <td>74</td>\n",
       "      <td>follow up</td>\n",
       "      <td>TREATMENT</td>\n",
       "      <td>112</td>\n",
       "      <td>126</td>\n",
       "      <td>Coumadin dosing</td>\n",
       "      <td>0.958726</td>\n",
       "    </tr>\n",
       "    <tr>\n",
       "      <th>6</th>\n",
       "      <td>OVERLAP</td>\n",
       "      <td>CLINICAL_DEPT</td>\n",
       "      <td>81</td>\n",
       "      <td>98</td>\n",
       "      <td>her primary doctor</td>\n",
       "      <td>TREATMENT</td>\n",
       "      <td>105</td>\n",
       "      <td>106</td>\n",
       "      <td>PT</td>\n",
       "      <td>1.000000</td>\n",
       "    </tr>\n",
       "    <tr>\n",
       "      <th>7</th>\n",
       "      <td>OVERLAP</td>\n",
       "      <td>CLINICAL_DEPT</td>\n",
       "      <td>81</td>\n",
       "      <td>98</td>\n",
       "      <td>her primary doctor</td>\n",
       "      <td>DATE</td>\n",
       "      <td>131</td>\n",
       "      <td>136</td>\n",
       "      <td>Monday</td>\n",
       "      <td>0.984193</td>\n",
       "    </tr>\n",
       "    <tr>\n",
       "      <th>9</th>\n",
       "      <td>AFTER</td>\n",
       "      <td>TREATMENT</td>\n",
       "      <td>105</td>\n",
       "      <td>106</td>\n",
       "      <td>PT</td>\n",
       "      <td>DATE</td>\n",
       "      <td>131</td>\n",
       "      <td>136</td>\n",
       "      <td>Monday</td>\n",
       "      <td>0.926052</td>\n",
       "    </tr>\n",
       "    <tr>\n",
       "      <th>10</th>\n",
       "      <td>OVERLAP</td>\n",
       "      <td>TREATMENT</td>\n",
       "      <td>112</td>\n",
       "      <td>126</td>\n",
       "      <td>Coumadin dosing</td>\n",
       "      <td>DATE</td>\n",
       "      <td>131</td>\n",
       "      <td>136</td>\n",
       "      <td>Monday</td>\n",
       "      <td>0.999999</td>\n",
       "    </tr>\n",
       "  </tbody>\n",
       "</table>\n",
       "</div>"
      ]
     },
     "metadata": {
      "application/vnd.databricks.v1+output": {
       "addedWidgets": {},
       "arguments": {},
       "data": "<div>\n<style scoped>\n    .dataframe tbody tr th:only-of-type {\n        vertical-align: middle;\n    }\n\n    .dataframe tbody tr th {\n        vertical-align: top;\n    }\n\n    .dataframe thead th {\n        text-align: right;\n    }\n</style>\n<table border=\"1\" class=\"dataframe\">\n  <thead>\n    <tr style=\"text-align: right;\">\n      <th></th>\n      <th>relation</th>\n      <th>entity1</th>\n      <th>entity1_begin</th>\n      <th>entity1_end</th>\n      <th>chunk1</th>\n      <th>entity2</th>\n      <th>entity2_begin</th>\n      <th>entity2_end</th>\n      <th>chunk2</th>\n      <th>confidence</th>\n    </tr>\n  </thead>\n  <tbody>\n    <tr>\n      <th>0</th>\n      <td>OVERLAP</td>\n      <td>DATE</td>\n      <td>3</td>\n      <td>9</td>\n      <td>9–28-92</td>\n      <td>TREATMENT</td>\n      <td>40</td>\n      <td>51</td>\n      <td>chemotherapy</td>\n      <td>1.000000</td>\n    </tr>\n    <tr>\n      <th>1</th>\n      <td>OVERLAP</td>\n      <td>DATE</td>\n      <td>3</td>\n      <td>9</td>\n      <td>9–28-92</td>\n      <td>TREATMENT</td>\n      <td>105</td>\n      <td>106</td>\n      <td>PT</td>\n      <td>0.989851</td>\n    </tr>\n    <tr>\n      <th>3</th>\n      <td>OVERLAP</td>\n      <td>OCCURRENCE</td>\n      <td>66</td>\n      <td>74</td>\n      <td>follow up</td>\n      <td>CLINICAL_DEPT</td>\n      <td>81</td>\n      <td>98</td>\n      <td>her primary doctor</td>\n      <td>0.998086</td>\n    </tr>\n    <tr>\n      <th>4</th>\n      <td>OVERLAP</td>\n      <td>OCCURRENCE</td>\n      <td>66</td>\n      <td>74</td>\n      <td>follow up</td>\n      <td>TREATMENT</td>\n      <td>105</td>\n      <td>106</td>\n      <td>PT</td>\n      <td>0.999761</td>\n    </tr>\n    <tr>\n      <th>5</th>\n      <td>OVERLAP</td>\n      <td>OCCURRENCE</td>\n      <td>66</td>\n      <td>74</td>\n      <td>follow up</td>\n      <td>TREATMENT</td>\n      <td>112</td>\n      <td>126</td>\n      <td>Coumadin dosing</td>\n      <td>0.958726</td>\n    </tr>\n    <tr>\n      <th>6</th>\n      <td>OVERLAP</td>\n      <td>CLINICAL_DEPT</td>\n      <td>81</td>\n      <td>98</td>\n      <td>her primary doctor</td>\n      <td>TREATMENT</td>\n      <td>105</td>\n      <td>106</td>\n      <td>PT</td>\n      <td>1.000000</td>\n    </tr>\n    <tr>\n      <th>7</th>\n      <td>OVERLAP</td>\n      <td>CLINICAL_DEPT</td>\n      <td>81</td>\n      <td>98</td>\n      <td>her primary doctor</td>\n      <td>DATE</td>\n      <td>131</td>\n      <td>136</td>\n      <td>Monday</td>\n      <td>0.984193</td>\n    </tr>\n    <tr>\n      <th>9</th>\n      <td>AFTER</td>\n      <td>TREATMENT</td>\n      <td>105</td>\n      <td>106</td>\n      <td>PT</td>\n      <td>DATE</td>\n      <td>131</td>\n      <td>136</td>\n      <td>Monday</td>\n      <td>0.926052</td>\n    </tr>\n    <tr>\n      <th>10</th>\n      <td>OVERLAP</td>\n      <td>TREATMENT</td>\n      <td>112</td>\n      <td>126</td>\n      <td>Coumadin dosing</td>\n      <td>DATE</td>\n      <td>131</td>\n      <td>136</td>\n      <td>Monday</td>\n      <td>0.999999</td>\n    </tr>\n  </tbody>\n</table>\n</div>",
       "datasetInfos": [],
       "removedWidgets": [],
       "textData": null,
       "type": "htmlSandbox"
      }
     },
     "output_type": "display_data"
    }
   ],
   "source": [
    "text =\"On 9–28-92, the patient will return for chemotherapy and she will follow up with her primary doctor, for PT and Coumadin dosing on Monday.\"\n",
    "\n",
    "annotations = lmodel.fullAnnotate(text)\n",
    "\n",
    "rel_df = get_relations_df (annotations)\n",
    "\n",
    "rel_df.confidence = rel_df.confidence.astype(float)\n",
    "\n",
    "rel_df = rel_df[(rel_df.relation!=\"O\")]\n",
    "\n",
    "rel_df[(rel_df.relation!=\"O\")&(rel_df.entity1!=rel_df.entity2)]\n"
   ]
  },
  {
   "cell_type": "markdown",
   "metadata": {
    "application/vnd.databricks.v1+cell": {
     "inputWidgets": {},
     "nuid": "c58aa1a9-5ab9-4734-a33e-d7b5761e296d",
     "showTitle": false,
     "title": ""
    }
   },
   "source": [
    "**Admission-Discharge Events Exraction**\n",
    "\n",
    "We can also extract `ADMISSION` and `DISCHARGE` entities in addition to `ner_events_clinical` model entities by using `ner_events_admission_clinical` NER model and expect the following entities as inputs:\n",
    "   \n",
    "[`EVIDENTIAL`,\n",
    " `OCCURRENCE`,\n",
    " `TREATMENT`,\n",
    " `DATE`,\n",
    " `ADMISSION`,\n",
    " `TIME`,\n",
    " `FREQUENCY`,\n",
    " `CLINICAL_DEPT`,\n",
    " `DURATION`,\n",
    " `PROBLEM`,\n",
    " `TEST`,\n",
    " `DISCHARGE`]"
   ]
  },
  {
   "cell_type": "code",
   "execution_count": 0,
   "metadata": {
    "application/vnd.databricks.v1+cell": {
     "inputWidgets": {},
     "nuid": "da438598-d60f-43db-b616-8692ec3aaa51",
     "showTitle": false,
     "title": ""
    }
   },
   "outputs": [
    {
     "data": {
      "text/html": [
       "<style scoped>\n",
       "  .ansiout {\n",
       "    display: block;\n",
       "    unicode-bidi: embed;\n",
       "    white-space: pre-wrap;\n",
       "    word-wrap: break-word;\n",
       "    word-break: break-all;\n",
       "    font-family: \"Source Code Pro\", \"Menlo\", monospace;;\n",
       "    font-size: 13px;\n",
       "    color: #555;\n",
       "    margin-left: 4px;\n",
       "    line-height: 19px;\n",
       "  }\n",
       "</style>\n",
       "<div class=\"ansiout\">ner_events_admission_clinical download started this may take some time.\n",
       "Approximate size to download 14.5 MB\n",
       "\r",
       "[ | ]\r",
       "[ / ]\r",
       "[ — ]\r",
       "[ \\ ]\r",
       "[OK!]\n",
       "</div>"
      ]
     },
     "metadata": {
      "application/vnd.databricks.v1+output": {
       "addedWidgets": {},
       "arguments": {},
       "data": "<div class=\"ansiout\">ner_events_admission_clinical download started this may take some time.\nApproximate size to download 14.5 MB\n\r[ | ]\r[ / ]\r[ — ]\r[ \\ ]\r[OK!]\n</div>",
       "datasetInfos": [],
       "removedWidgets": [],
       "type": "html"
      }
     },
     "output_type": "display_data"
    }
   ],
   "source": [
    "events_admission_ner_tagger = MedicalNerModel()\\\n",
    "    .pretrained(\"ner_events_admission_clinical\", \"en\", \"clinical/models\")\\\n",
    "    .setInputCols(\"sentences\", \"tokens\", \"embeddings\")\\\n",
    "    .setOutputCol(\"ner_tags\")    \n",
    "\n",
    "pipeline = Pipeline(stages=[\n",
    "    documenter,\n",
    "    sentencer,\n",
    "    tokenizer, \n",
    "    words_embedder, \n",
    "    pos_tagger, \n",
    "    events_admission_ner_tagger,\n",
    "    ner_chunker,\n",
    "    dependency_parser,\n",
    "    clinical_re_Model\n",
    "])\n",
    "\n",
    "empty_data = spark.createDataFrame([[\"\"]]).toDF(\"text\")\n",
    "\n",
    "model = pipeline.fit(empty_data)"
   ]
  },
  {
   "cell_type": "code",
   "execution_count": 0,
   "metadata": {
    "application/vnd.databricks.v1+cell": {
     "inputWidgets": {},
     "nuid": "f97edd4b-adfd-446c-9bc7-1befcee8bac3",
     "showTitle": false,
     "title": ""
    }
   },
   "outputs": [
    {
     "data": {
      "text/html": [
       "<style scoped>\n",
       "  .ansiout {\n",
       "    display: block;\n",
       "    unicode-bidi: embed;\n",
       "    white-space: pre-wrap;\n",
       "    word-wrap: break-word;\n",
       "    word-break: break-all;\n",
       "    font-family: \"Source Code Pro\", \"Menlo\", monospace;;\n",
       "    font-size: 13px;\n",
       "    color: #555;\n",
       "    margin-left: 4px;\n",
       "    line-height: 19px;\n",
       "  }\n",
       "</style>\n",
       "<div class=\"ansiout\">Out[42]: [&#39;O&#39;,\n",
       " &#39;B-EVIDENTIAL&#39;,\n",
       " &#39;I-OCCURRENCE&#39;,\n",
       " &#39;I-TREATMENT&#39;,\n",
       " &#39;I-DATE&#39;,\n",
       " &#39;B-ADMISSION&#39;,\n",
       " &#39;B-TREATMENT&#39;,\n",
       " &#39;I-TIME&#39;,\n",
       " &#39;I-FREQUENCY&#39;,\n",
       " &#39;B-FREQUENCY&#39;,\n",
       " &#39;B-OCCURRENCE&#39;,\n",
       " &#39;I-CLINICAL_DEPT&#39;,\n",
       " &#39;B-DURATION&#39;,\n",
       " &#39;I-PROBLEM&#39;,\n",
       " &#39;I-TEST&#39;,\n",
       " &#39;B-DATE&#39;,\n",
       " &#39;B-TIME&#39;,\n",
       " &#39;I-EVIDENTIAL&#39;,\n",
       " &#39;I-DURATION&#39;,\n",
       " &#39;B-DISCHARGE&#39;,\n",
       " &#39;B-TEST&#39;,\n",
       " &#39;B-PROBLEM&#39;,\n",
       " &#39;B-CLINICAL_DEPT&#39;]</div>"
      ]
     },
     "metadata": {
      "application/vnd.databricks.v1+output": {
       "addedWidgets": {},
       "arguments": {},
       "data": "<div class=\"ansiout\">Out[42]: [&#39;O&#39;,\n &#39;B-EVIDENTIAL&#39;,\n &#39;I-OCCURRENCE&#39;,\n &#39;I-TREATMENT&#39;,\n &#39;I-DATE&#39;,\n &#39;B-ADMISSION&#39;,\n &#39;B-TREATMENT&#39;,\n &#39;I-TIME&#39;,\n &#39;I-FREQUENCY&#39;,\n &#39;B-FREQUENCY&#39;,\n &#39;B-OCCURRENCE&#39;,\n &#39;I-CLINICAL_DEPT&#39;,\n &#39;B-DURATION&#39;,\n &#39;I-PROBLEM&#39;,\n &#39;I-TEST&#39;,\n &#39;B-DATE&#39;,\n &#39;B-TIME&#39;,\n &#39;I-EVIDENTIAL&#39;,\n &#39;I-DURATION&#39;,\n &#39;B-DISCHARGE&#39;,\n &#39;B-TEST&#39;,\n &#39;B-PROBLEM&#39;,\n &#39;B-CLINICAL_DEPT&#39;]</div>",
       "datasetInfos": [],
       "removedWidgets": [],
       "type": "html"
      }
     },
     "output_type": "display_data"
    }
   ],
   "source": [
    "events_admission_ner_tagger.getClasses()"
   ]
  },
  {
   "cell_type": "code",
   "execution_count": 0,
   "metadata": {
    "application/vnd.databricks.v1+cell": {
     "inputWidgets": {},
     "nuid": "7240d1d7-1bbc-46b0-8bdc-194933b85a75",
     "showTitle": false,
     "title": ""
    }
   },
   "outputs": [
    {
     "data": {
      "text/html": [
       "<style scoped>\n",
       "  .ansiout {\n",
       "    display: block;\n",
       "    unicode-bidi: embed;\n",
       "    white-space: pre-wrap;\n",
       "    word-wrap: break-word;\n",
       "    word-break: break-all;\n",
       "    font-family: \"Source Code Pro\", \"Menlo\", monospace;;\n",
       "    font-size: 13px;\n",
       "    color: #555;\n",
       "    margin-left: 4px;\n",
       "    line-height: 19px;\n",
       "  }\n",
       "</style>\n",
       "<div class=\"ansiout\">Out[43]: </div>"
      ]
     },
     "metadata": {
      "application/vnd.databricks.v1+output": {
       "addedWidgets": {},
       "arguments": {},
       "data": "<div class=\"ansiout\">Out[43]: </div>",
       "datasetInfos": [],
       "removedWidgets": [],
       "type": "html"
      }
     },
     "output_type": "display_data"
    },
    {
     "data": {
      "text/html": [
       "<div>\n",
       "<style scoped>\n",
       "    .dataframe tbody tr th:only-of-type {\n",
       "        vertical-align: middle;\n",
       "    }\n",
       "\n",
       "    .dataframe tbody tr th {\n",
       "        vertical-align: top;\n",
       "    }\n",
       "\n",
       "    .dataframe thead th {\n",
       "        text-align: right;\n",
       "    }\n",
       "</style>\n",
       "<table border=\"1\" class=\"dataframe\">\n",
       "  <thead>\n",
       "    <tr style=\"text-align: right;\">\n",
       "      <th></th>\n",
       "      <th>relation</th>\n",
       "      <th>entity1</th>\n",
       "      <th>entity1_begin</th>\n",
       "      <th>entity1_end</th>\n",
       "      <th>chunk1</th>\n",
       "      <th>entity2</th>\n",
       "      <th>entity2_begin</th>\n",
       "      <th>entity2_end</th>\n",
       "      <th>chunk2</th>\n",
       "      <th>confidence</th>\n",
       "    </tr>\n",
       "  </thead>\n",
       "  <tbody>\n",
       "    <tr>\n",
       "      <th>0</th>\n",
       "      <td>AFTER</td>\n",
       "      <td>ADMISSION</td>\n",
       "      <td>7</td>\n",
       "      <td>14</td>\n",
       "      <td>admitted</td>\n",
       "      <td>CLINICAL_DEPT</td>\n",
       "      <td>19</td>\n",
       "      <td>43</td>\n",
       "      <td>The John Hopkins Hospital</td>\n",
       "      <td>0.993847</td>\n",
       "    </tr>\n",
       "    <tr>\n",
       "      <th>1</th>\n",
       "      <td>OVERLAP</td>\n",
       "      <td>ADMISSION</td>\n",
       "      <td>7</td>\n",
       "      <td>14</td>\n",
       "      <td>admitted</td>\n",
       "      <td>DATE</td>\n",
       "      <td>48</td>\n",
       "      <td>53</td>\n",
       "      <td>Monday</td>\n",
       "      <td>0.991630</td>\n",
       "    </tr>\n",
       "    <tr>\n",
       "      <th>2</th>\n",
       "      <td>OVERLAP</td>\n",
       "      <td>CLINICAL_DEPT</td>\n",
       "      <td>19</td>\n",
       "      <td>43</td>\n",
       "      <td>The John Hopkins Hospital</td>\n",
       "      <td>DATE</td>\n",
       "      <td>48</td>\n",
       "      <td>53</td>\n",
       "      <td>Monday</td>\n",
       "      <td>1.000000</td>\n",
       "    </tr>\n",
       "    <tr>\n",
       "      <th>3</th>\n",
       "      <td>OVERLAP</td>\n",
       "      <td>DATE</td>\n",
       "      <td>48</td>\n",
       "      <td>53</td>\n",
       "      <td>Monday</td>\n",
       "      <td>PROBLEM</td>\n",
       "      <td>73</td>\n",
       "      <td>101</td>\n",
       "      <td>gestational diabetes mellitus</td>\n",
       "      <td>0.929829</td>\n",
       "    </tr>\n",
       "    <tr>\n",
       "      <th>4</th>\n",
       "      <td>OVERLAP</td>\n",
       "      <td>CLINICAL_DEPT</td>\n",
       "      <td>132</td>\n",
       "      <td>156</td>\n",
       "      <td>the endocrinology service</td>\n",
       "      <td>DATE</td>\n",
       "      <td>184</td>\n",
       "      <td>193</td>\n",
       "      <td>03/02/2018</td>\n",
       "      <td>0.999932</td>\n",
       "    </tr>\n",
       "    <tr>\n",
       "      <th>5</th>\n",
       "      <td>OVERLAP</td>\n",
       "      <td>DISCHARGE</td>\n",
       "      <td>170</td>\n",
       "      <td>179</td>\n",
       "      <td>discharged</td>\n",
       "      <td>DATE</td>\n",
       "      <td>184</td>\n",
       "      <td>193</td>\n",
       "      <td>03/02/2018</td>\n",
       "      <td>1.000000</td>\n",
       "    </tr>\n",
       "    <tr>\n",
       "      <th>6</th>\n",
       "      <td>AFTER</td>\n",
       "      <td>DISCHARGE</td>\n",
       "      <td>170</td>\n",
       "      <td>179</td>\n",
       "      <td>discharged</td>\n",
       "      <td>TREATMENT</td>\n",
       "      <td>210</td>\n",
       "      <td>225</td>\n",
       "      <td>insulin glargine</td>\n",
       "      <td>0.999233</td>\n",
       "    </tr>\n",
       "    <tr>\n",
       "      <th>7</th>\n",
       "      <td>AFTER</td>\n",
       "      <td>DISCHARGE</td>\n",
       "      <td>170</td>\n",
       "      <td>179</td>\n",
       "      <td>discharged</td>\n",
       "      <td>TREATMENT</td>\n",
       "      <td>241</td>\n",
       "      <td>254</td>\n",
       "      <td>insulin lispro</td>\n",
       "      <td>0.997469</td>\n",
       "    </tr>\n",
       "    <tr>\n",
       "      <th>8</th>\n",
       "      <td>OVERLAP</td>\n",
       "      <td>DATE</td>\n",
       "      <td>184</td>\n",
       "      <td>193</td>\n",
       "      <td>03/02/2018</td>\n",
       "      <td>TREATMENT</td>\n",
       "      <td>210</td>\n",
       "      <td>225</td>\n",
       "      <td>insulin glargine</td>\n",
       "      <td>0.999975</td>\n",
       "    </tr>\n",
       "    <tr>\n",
       "      <th>9</th>\n",
       "      <td>OVERLAP</td>\n",
       "      <td>DATE</td>\n",
       "      <td>184</td>\n",
       "      <td>193</td>\n",
       "      <td>03/02/2018</td>\n",
       "      <td>TREATMENT</td>\n",
       "      <td>241</td>\n",
       "      <td>254</td>\n",
       "      <td>insulin lispro</td>\n",
       "      <td>0.999682</td>\n",
       "    </tr>\n",
       "    <tr>\n",
       "      <th>10</th>\n",
       "      <td>OVERLAP</td>\n",
       "      <td>TREATMENT</td>\n",
       "      <td>261</td>\n",
       "      <td>269</td>\n",
       "      <td>metformin</td>\n",
       "      <td>FREQUENCY</td>\n",
       "      <td>279</td>\n",
       "      <td>293</td>\n",
       "      <td>two times a day</td>\n",
       "      <td>1.000000</td>\n",
       "    </tr>\n",
       "    <tr>\n",
       "      <th>11</th>\n",
       "      <td>OVERLAP</td>\n",
       "      <td>OCCURRENCE</td>\n",
       "      <td>304</td>\n",
       "      <td>318</td>\n",
       "      <td>close follow-up</td>\n",
       "      <td>CLINICAL_DEPT</td>\n",
       "      <td>325</td>\n",
       "      <td>337</td>\n",
       "      <td>endocrinology</td>\n",
       "      <td>1.000000</td>\n",
       "    </tr>\n",
       "    <tr>\n",
       "      <th>12</th>\n",
       "      <td>BEFORE</td>\n",
       "      <td>OCCURRENCE</td>\n",
       "      <td>304</td>\n",
       "      <td>318</td>\n",
       "      <td>close follow-up</td>\n",
       "      <td>DISCHARGE</td>\n",
       "      <td>344</td>\n",
       "      <td>352</td>\n",
       "      <td>discharge</td>\n",
       "      <td>0.998952</td>\n",
       "    </tr>\n",
       "    <tr>\n",
       "      <th>13</th>\n",
       "      <td>AFTER</td>\n",
       "      <td>CLINICAL_DEPT</td>\n",
       "      <td>325</td>\n",
       "      <td>337</td>\n",
       "      <td>endocrinology</td>\n",
       "      <td>DISCHARGE</td>\n",
       "      <td>344</td>\n",
       "      <td>352</td>\n",
       "      <td>discharge</td>\n",
       "      <td>0.999982</td>\n",
       "    </tr>\n",
       "  </tbody>\n",
       "</table>\n",
       "</div>"
      ]
     },
     "metadata": {
      "application/vnd.databricks.v1+output": {
       "addedWidgets": {},
       "arguments": {},
       "data": "<div>\n<style scoped>\n    .dataframe tbody tr th:only-of-type {\n        vertical-align: middle;\n    }\n\n    .dataframe tbody tr th {\n        vertical-align: top;\n    }\n\n    .dataframe thead th {\n        text-align: right;\n    }\n</style>\n<table border=\"1\" class=\"dataframe\">\n  <thead>\n    <tr style=\"text-align: right;\">\n      <th></th>\n      <th>relation</th>\n      <th>entity1</th>\n      <th>entity1_begin</th>\n      <th>entity1_end</th>\n      <th>chunk1</th>\n      <th>entity2</th>\n      <th>entity2_begin</th>\n      <th>entity2_end</th>\n      <th>chunk2</th>\n      <th>confidence</th>\n    </tr>\n  </thead>\n  <tbody>\n    <tr>\n      <th>0</th>\n      <td>AFTER</td>\n      <td>ADMISSION</td>\n      <td>7</td>\n      <td>14</td>\n      <td>admitted</td>\n      <td>CLINICAL_DEPT</td>\n      <td>19</td>\n      <td>43</td>\n      <td>The John Hopkins Hospital</td>\n      <td>0.993847</td>\n    </tr>\n    <tr>\n      <th>1</th>\n      <td>OVERLAP</td>\n      <td>ADMISSION</td>\n      <td>7</td>\n      <td>14</td>\n      <td>admitted</td>\n      <td>DATE</td>\n      <td>48</td>\n      <td>53</td>\n      <td>Monday</td>\n      <td>0.991630</td>\n    </tr>\n    <tr>\n      <th>2</th>\n      <td>OVERLAP</td>\n      <td>CLINICAL_DEPT</td>\n      <td>19</td>\n      <td>43</td>\n      <td>The John Hopkins Hospital</td>\n      <td>DATE</td>\n      <td>48</td>\n      <td>53</td>\n      <td>Monday</td>\n      <td>1.000000</td>\n    </tr>\n    <tr>\n      <th>3</th>\n      <td>OVERLAP</td>\n      <td>DATE</td>\n      <td>48</td>\n      <td>53</td>\n      <td>Monday</td>\n      <td>PROBLEM</td>\n      <td>73</td>\n      <td>101</td>\n      <td>gestational diabetes mellitus</td>\n      <td>0.929829</td>\n    </tr>\n    <tr>\n      <th>4</th>\n      <td>OVERLAP</td>\n      <td>CLINICAL_DEPT</td>\n      <td>132</td>\n      <td>156</td>\n      <td>the endocrinology service</td>\n      <td>DATE</td>\n      <td>184</td>\n      <td>193</td>\n      <td>03/02/2018</td>\n      <td>0.999932</td>\n    </tr>\n    <tr>\n      <th>5</th>\n      <td>OVERLAP</td>\n      <td>DISCHARGE</td>\n      <td>170</td>\n      <td>179</td>\n      <td>discharged</td>\n      <td>DATE</td>\n      <td>184</td>\n      <td>193</td>\n      <td>03/02/2018</td>\n      <td>1.000000</td>\n    </tr>\n    <tr>\n      <th>6</th>\n      <td>AFTER</td>\n      <td>DISCHARGE</td>\n      <td>170</td>\n      <td>179</td>\n      <td>discharged</td>\n      <td>TREATMENT</td>\n      <td>210</td>\n      <td>225</td>\n      <td>insulin glargine</td>\n      <td>0.999233</td>\n    </tr>\n    <tr>\n      <th>7</th>\n      <td>AFTER</td>\n      <td>DISCHARGE</td>\n      <td>170</td>\n      <td>179</td>\n      <td>discharged</td>\n      <td>TREATMENT</td>\n      <td>241</td>\n      <td>254</td>\n      <td>insulin lispro</td>\n      <td>0.997469</td>\n    </tr>\n    <tr>\n      <th>8</th>\n      <td>OVERLAP</td>\n      <td>DATE</td>\n      <td>184</td>\n      <td>193</td>\n      <td>03/02/2018</td>\n      <td>TREATMENT</td>\n      <td>210</td>\n      <td>225</td>\n      <td>insulin glargine</td>\n      <td>0.999975</td>\n    </tr>\n    <tr>\n      <th>9</th>\n      <td>OVERLAP</td>\n      <td>DATE</td>\n      <td>184</td>\n      <td>193</td>\n      <td>03/02/2018</td>\n      <td>TREATMENT</td>\n      <td>241</td>\n      <td>254</td>\n      <td>insulin lispro</td>\n      <td>0.999682</td>\n    </tr>\n    <tr>\n      <th>10</th>\n      <td>OVERLAP</td>\n      <td>TREATMENT</td>\n      <td>261</td>\n      <td>269</td>\n      <td>metformin</td>\n      <td>FREQUENCY</td>\n      <td>279</td>\n      <td>293</td>\n      <td>two times a day</td>\n      <td>1.000000</td>\n    </tr>\n    <tr>\n      <th>11</th>\n      <td>OVERLAP</td>\n      <td>OCCURRENCE</td>\n      <td>304</td>\n      <td>318</td>\n      <td>close follow-up</td>\n      <td>CLINICAL_DEPT</td>\n      <td>325</td>\n      <td>337</td>\n      <td>endocrinology</td>\n      <td>1.000000</td>\n    </tr>\n    <tr>\n      <th>12</th>\n      <td>BEFORE</td>\n      <td>OCCURRENCE</td>\n      <td>304</td>\n      <td>318</td>\n      <td>close follow-up</td>\n      <td>DISCHARGE</td>\n      <td>344</td>\n      <td>352</td>\n      <td>discharge</td>\n      <td>0.998952</td>\n    </tr>\n    <tr>\n      <th>13</th>\n      <td>AFTER</td>\n      <td>CLINICAL_DEPT</td>\n      <td>325</td>\n      <td>337</td>\n      <td>endocrinology</td>\n      <td>DISCHARGE</td>\n      <td>344</td>\n      <td>352</td>\n      <td>discharge</td>\n      <td>0.999982</td>\n    </tr>\n  </tbody>\n</table>\n</div>",
       "datasetInfos": [],
       "removedWidgets": [],
       "textData": null,
       "type": "htmlSandbox"
      }
     },
     "output_type": "display_data"
    }
   ],
   "source": [
    "text =\"\"\"She is admitted to The John Hopkins Hospital on Monday with a history of gestational diabetes mellitus diagnosed.  \n",
    "She was seen by the endocrinology service and she was discharged on 03/02/2018 on 40 units of insulin glargine, \n",
    "12 units of insulin lispro, and metformin 1000 mg two times a day. She had close follow-up with endocrinology post discharge. \n",
    "\"\"\"\n",
    "\n",
    "lmodel = LightPipeline(model)\n",
    "annotations = lmodel.fullAnnotate(text)\n",
    "\n",
    "rel_df = get_relations_df (annotations)\n",
    "\n",
    "rel_df.confidence = rel_df.confidence.astype(float)\n",
    "\n",
    "rel_df[(rel_df.relation!=\"O\")]\n"
   ]
  },
  {
   "cell_type": "markdown",
   "metadata": {
    "application/vnd.databricks.v1+cell": {
     "inputWidgets": {},
     "nuid": "36901277-4c35-44dc-ae48-0ffd7ec70047",
     "showTitle": false,
     "title": ""
    }
   },
   "source": [
    "**Test-Result-Date Extraction**\n",
    "\n",
    "There is another Relation Extraction model to link clinical tests to test results and dates to clinical entities: `re_test_result_date`"
   ]
  },
  {
   "cell_type": "code",
   "execution_count": 0,
   "metadata": {
    "application/vnd.databricks.v1+cell": {
     "inputWidgets": {},
     "nuid": "de967f61-91e1-43e5-af30-621be87fd5d3",
     "showTitle": false,
     "title": ""
    }
   },
   "outputs": [
    {
     "data": {
      "text/html": [
       "<style scoped>\n",
       "  .ansiout {\n",
       "    display: block;\n",
       "    unicode-bidi: embed;\n",
       "    white-space: pre-wrap;\n",
       "    word-wrap: break-word;\n",
       "    word-break: break-all;\n",
       "    font-family: \"Source Code Pro\", \"Menlo\", monospace;;\n",
       "    font-size: 13px;\n",
       "    color: #555;\n",
       "    margin-left: 4px;\n",
       "    line-height: 19px;\n",
       "  }\n",
       "</style>\n",
       "<div class=\"ansiout\">jsl_ner_wip_clinical download started this may take some time.\n",
       "Approximate size to download 14.5 MB\n",
       "\r",
       "[ | ]\r",
       "[ / ]\r",
       "[OK!]\n",
       "re_test_result_date download started this may take some time.\n",
       "Approximate size to download 9.3 MB\n",
       "\r",
       "[ | ]\r",
       "[ / ]\r",
       "[OK!]\n",
       "</div>"
      ]
     },
     "metadata": {
      "application/vnd.databricks.v1+output": {
       "addedWidgets": {},
       "arguments": {},
       "data": "<div class=\"ansiout\">jsl_ner_wip_clinical download started this may take some time.\nApproximate size to download 14.5 MB\n\r[ | ]\r[ / ]\r[OK!]\nre_test_result_date download started this may take some time.\nApproximate size to download 9.3 MB\n\r[ | ]\r[ / ]\r[OK!]\n</div>",
       "datasetInfos": [],
       "removedWidgets": [],
       "type": "html"
      }
     },
     "output_type": "display_data"
    }
   ],
   "source": [
    "trd_ner_tagger = MedicalNerModel()\\\n",
    "    .pretrained(\"jsl_ner_wip_clinical\", \"en\", \"clinical/models\")\\\n",
    "    .setInputCols(\"sentences\", \"tokens\", \"embeddings\")\\\n",
    "    .setOutputCol(\"ner_tags\")       \n",
    "\n",
    "trd_re_Model = RelationExtractionModel()\\\n",
    "    .pretrained(\"re_test_result_date\", \"en\", 'clinical/models')\\\n",
    "    .setInputCols([\"embeddings\", \"pos_tags\", \"ner_chunks\", \"dependencies\"])\\\n",
    "    .setOutputCol(\"relations\")\n",
    "\n",
    "pipeline = Pipeline(stages=[\n",
    "    documenter,\n",
    "    sentencer,\n",
    "    tokenizer, \n",
    "    words_embedder, \n",
    "    pos_tagger, \n",
    "    trd_ner_tagger,\n",
    "    ner_chunker,\n",
    "    dependency_parser,\n",
    "    trd_re_Model\n",
    "])\n",
    "\n",
    "empty_data = spark.createDataFrame([[\"\"]]).toDF(\"text\")\n",
    "\n",
    "model = pipeline.fit(empty_data)"
   ]
  },
  {
   "cell_type": "code",
   "execution_count": 0,
   "metadata": {
    "application/vnd.databricks.v1+cell": {
     "inputWidgets": {},
     "nuid": "2c1e131a-8644-4fbd-8638-4f1222c6e2cc",
     "showTitle": false,
     "title": ""
    }
   },
   "outputs": [
    {
     "data": {
      "text/html": [
       "<style scoped>\n",
       "  .ansiout {\n",
       "    display: block;\n",
       "    unicode-bidi: embed;\n",
       "    white-space: pre-wrap;\n",
       "    word-wrap: break-word;\n",
       "    word-break: break-all;\n",
       "    font-family: \"Source Code Pro\", \"Menlo\", monospace;;\n",
       "    font-size: 13px;\n",
       "    color: #555;\n",
       "    margin-left: 4px;\n",
       "    line-height: 19px;\n",
       "  }\n",
       "</style>\n",
       "<div class=\"ansiout\">Out[47]: </div>"
      ]
     },
     "metadata": {
      "application/vnd.databricks.v1+output": {
       "addedWidgets": {},
       "arguments": {},
       "data": "<div class=\"ansiout\">Out[47]: </div>",
       "datasetInfos": [],
       "removedWidgets": [],
       "type": "html"
      }
     },
     "output_type": "display_data"
    },
    {
     "data": {
      "text/html": [
       "<div>\n",
       "<style scoped>\n",
       "    .dataframe tbody tr th:only-of-type {\n",
       "        vertical-align: middle;\n",
       "    }\n",
       "\n",
       "    .dataframe tbody tr th {\n",
       "        vertical-align: top;\n",
       "    }\n",
       "\n",
       "    .dataframe thead th {\n",
       "        text-align: right;\n",
       "    }\n",
       "</style>\n",
       "<table border=\"1\" class=\"dataframe\">\n",
       "  <thead>\n",
       "    <tr style=\"text-align: right;\">\n",
       "      <th></th>\n",
       "      <th>relation</th>\n",
       "      <th>entity1</th>\n",
       "      <th>entity1_begin</th>\n",
       "      <th>entity1_end</th>\n",
       "      <th>chunk1</th>\n",
       "      <th>entity2</th>\n",
       "      <th>entity2_begin</th>\n",
       "      <th>entity2_end</th>\n",
       "      <th>chunk2</th>\n",
       "      <th>confidence</th>\n",
       "    </tr>\n",
       "  </thead>\n",
       "  <tbody>\n",
       "    <tr>\n",
       "      <th>0</th>\n",
       "      <td>is_date_of</td>\n",
       "      <td>Disease_Syndrome_Disorder</td>\n",
       "      <td>18</td>\n",
       "      <td>26</td>\n",
       "      <td>pneumonia</td>\n",
       "      <td>Date</td>\n",
       "      <td>31</td>\n",
       "      <td>42</td>\n",
       "      <td>11 June 2019</td>\n",
       "      <td>0.998061</td>\n",
       "    </tr>\n",
       "    <tr>\n",
       "      <th>3</th>\n",
       "      <td>is_finding_of</td>\n",
       "      <td>Disease_Syndrome_Disorder</td>\n",
       "      <td>18</td>\n",
       "      <td>26</td>\n",
       "      <td>pneumonia</td>\n",
       "      <td>O2_Saturation</td>\n",
       "      <td>103</td>\n",
       "      <td>114</td>\n",
       "      <td>SPO2 &lt;/= 93%</td>\n",
       "      <td>0.984967</td>\n",
       "    </tr>\n",
       "    <tr>\n",
       "      <th>6</th>\n",
       "      <td>is_date_of</td>\n",
       "      <td>Date</td>\n",
       "      <td>31</td>\n",
       "      <td>42</td>\n",
       "      <td>11 June 2019</td>\n",
       "      <td>O2_Saturation</td>\n",
       "      <td>103</td>\n",
       "      <td>114</td>\n",
       "      <td>SPO2 &lt;/= 93%</td>\n",
       "      <td>0.993791</td>\n",
       "    </tr>\n",
       "    <tr>\n",
       "      <th>7</th>\n",
       "      <td>is_result_of</td>\n",
       "      <td>Test_Result</td>\n",
       "      <td>60</td>\n",
       "      <td>67</td>\n",
       "      <td>positive</td>\n",
       "      <td>Test</td>\n",
       "      <td>69</td>\n",
       "      <td>71</td>\n",
       "      <td>PCR</td>\n",
       "      <td>1.000000</td>\n",
       "    </tr>\n",
       "    <tr>\n",
       "      <th>8</th>\n",
       "      <td>is_result_of</td>\n",
       "      <td>Test_Result</td>\n",
       "      <td>60</td>\n",
       "      <td>67</td>\n",
       "      <td>positive</td>\n",
       "      <td>O2_Saturation</td>\n",
       "      <td>103</td>\n",
       "      <td>114</td>\n",
       "      <td>SPO2 &lt;/= 93%</td>\n",
       "      <td>1.000000</td>\n",
       "    </tr>\n",
       "  </tbody>\n",
       "</table>\n",
       "</div>"
      ]
     },
     "metadata": {
      "application/vnd.databricks.v1+output": {
       "addedWidgets": {},
       "arguments": {},
       "data": "<div>\n<style scoped>\n    .dataframe tbody tr th:only-of-type {\n        vertical-align: middle;\n    }\n\n    .dataframe tbody tr th {\n        vertical-align: top;\n    }\n\n    .dataframe thead th {\n        text-align: right;\n    }\n</style>\n<table border=\"1\" class=\"dataframe\">\n  <thead>\n    <tr style=\"text-align: right;\">\n      <th></th>\n      <th>relation</th>\n      <th>entity1</th>\n      <th>entity1_begin</th>\n      <th>entity1_end</th>\n      <th>chunk1</th>\n      <th>entity2</th>\n      <th>entity2_begin</th>\n      <th>entity2_end</th>\n      <th>chunk2</th>\n      <th>confidence</th>\n    </tr>\n  </thead>\n  <tbody>\n    <tr>\n      <th>0</th>\n      <td>is_date_of</td>\n      <td>Disease_Syndrome_Disorder</td>\n      <td>18</td>\n      <td>26</td>\n      <td>pneumonia</td>\n      <td>Date</td>\n      <td>31</td>\n      <td>42</td>\n      <td>11 June 2019</td>\n      <td>0.998061</td>\n    </tr>\n    <tr>\n      <th>3</th>\n      <td>is_finding_of</td>\n      <td>Disease_Syndrome_Disorder</td>\n      <td>18</td>\n      <td>26</td>\n      <td>pneumonia</td>\n      <td>O2_Saturation</td>\n      <td>103</td>\n      <td>114</td>\n      <td>SPO2 &lt;/= 93%</td>\n      <td>0.984967</td>\n    </tr>\n    <tr>\n      <th>6</th>\n      <td>is_date_of</td>\n      <td>Date</td>\n      <td>31</td>\n      <td>42</td>\n      <td>11 June 2019</td>\n      <td>O2_Saturation</td>\n      <td>103</td>\n      <td>114</td>\n      <td>SPO2 &lt;/= 93%</td>\n      <td>0.993791</td>\n    </tr>\n    <tr>\n      <th>7</th>\n      <td>is_result_of</td>\n      <td>Test_Result</td>\n      <td>60</td>\n      <td>67</td>\n      <td>positive</td>\n      <td>Test</td>\n      <td>69</td>\n      <td>71</td>\n      <td>PCR</td>\n      <td>1.000000</td>\n    </tr>\n    <tr>\n      <th>8</th>\n      <td>is_result_of</td>\n      <td>Test_Result</td>\n      <td>60</td>\n      <td>67</td>\n      <td>positive</td>\n      <td>O2_Saturation</td>\n      <td>103</td>\n      <td>114</td>\n      <td>SPO2 &lt;/= 93%</td>\n      <td>1.000000</td>\n    </tr>\n  </tbody>\n</table>\n</div>",
       "datasetInfos": [],
       "removedWidgets": [],
       "textData": null,
       "type": "htmlSandbox"
      }
     },
     "output_type": "display_data"
    }
   ],
   "source": [
    "text = 'Hospitalized with pneumonia on 11 June 2019, confirmed by a positive PCR of any specimen, evidenced by SPO2 </= 93%.'\n",
    "\n",
    "lmodel = LightPipeline(model)\n",
    "annotations = lmodel.fullAnnotate(text)\n",
    "\n",
    "rel_df = get_relations_df (annotations)\n",
    "\n",
    "rel_df.confidence = rel_df.confidence.astype(float)\n",
    "\n",
    "rel_df[(rel_df.relation!=\"O\")]"
   ]
  },
  {
   "cell_type": "markdown",
   "metadata": {
    "application/vnd.databricks.v1+cell": {
     "inputWidgets": {},
     "nuid": "b4a8b257-31b0-4a7b-97f2-808ec575ba60",
     "showTitle": false,
     "title": ""
    }
   },
   "source": [
    "## 4. Human Phenotype - Gene RE"
   ]
  },
  {
   "cell_type": "markdown",
   "metadata": {
    "application/vnd.databricks.v1+cell": {
     "inputWidgets": {},
     "nuid": "3ad54295-a8e1-467e-92ad-9f07b5f43e65",
     "showTitle": false,
     "title": ""
    }
   },
   "source": [
    "https://github.com/lasigeBioTM/PGR\n",
    "\n",
    "Human phenotype-gene relations are fundamental to fully understand the origin of some phenotypic abnormalities and their associated diseases. Biomedical literature is the most comprehensive source of these relations, however, we need Relation Extraction tools to automatically recognize them. We present the Phenotype-Gene Relations (PGR) model, trained on a silver standard corpus of human phenotype and gene annotations and their relations. \n",
    "\n",
    "It extracts 2 label: `True` or `False`"
   ]
  },
  {
   "cell_type": "code",
   "execution_count": 0,
   "metadata": {
    "application/vnd.databricks.v1+cell": {
     "inputWidgets": {},
     "nuid": "d120e631-a01c-457c-9d13-3613b56960ad",
     "showTitle": false,
     "title": ""
    }
   },
   "outputs": [
    {
     "data": {
      "text/html": [
       "<style scoped>\n",
       "  .ansiout {\n",
       "    display: block;\n",
       "    unicode-bidi: embed;\n",
       "    white-space: pre-wrap;\n",
       "    word-wrap: break-word;\n",
       "    word-break: break-all;\n",
       "    font-family: \"Source Code Pro\", \"Menlo\", monospace;;\n",
       "    font-size: 13px;\n",
       "    color: #555;\n",
       "    margin-left: 4px;\n",
       "    line-height: 19px;\n",
       "  }\n",
       "</style>\n",
       "<div class=\"ansiout\">ner_human_phenotype_gene_clinical download started this may take some time.\n",
       "\r",
       "[OK!]\n",
       "Approximate size to download 14 MB\n",
       "\r",
       "[ | ]\r",
       "[OK!]\n",
       "re_human_phenotype_gene_clinical download started this may take some time.\n",
       "Approximate size to download 5.9 MB\n",
       "\r",
       "[ | ]\r",
       "[ / ]\r",
       "[OK!]\n",
       "</div>"
      ]
     },
     "metadata": {
      "application/vnd.databricks.v1+output": {
       "addedWidgets": {},
       "arguments": {},
       "data": "<div class=\"ansiout\">ner_human_phenotype_gene_clinical download started this may take some time.\n\r[OK!]\nApproximate size to download 14 MB\n\r[ | ]\r[OK!]\nre_human_phenotype_gene_clinical download started this may take some time.\nApproximate size to download 5.9 MB\n\r[ | ]\r[ / ]\r[OK!]\n</div>",
       "datasetInfos": [],
       "removedWidgets": [],
       "type": "html"
      }
     },
     "output_type": "display_data"
    }
   ],
   "source": [
    "pgr_ner_tagger = MedicalNerModel()\\\n",
    "    .pretrained(\"ner_human_phenotype_gene_clinical\", \"en\", \"clinical/models\")\\\n",
    "    .setInputCols(\"sentences\", \"tokens\", \"embeddings\")\\\n",
    "    .setOutputCol(\"ner_tags\")    \n",
    "\n",
    "pgr_re_Model = RelationExtractionModel()\\\n",
    "    .pretrained(\"re_human_phenotype_gene_clinical\", \"en\", 'clinical/models')\\\n",
    "    .setInputCols([\"embeddings\", \"pos_tags\", \"ner_chunks\", \"dependencies\"])\\\n",
    "    .setOutputCol(\"relations\")\\\n",
    "    .setRelationPairs([\"hp-gene\",'gene-hp'])\\\n",
    "    .setMaxSyntacticDistance(4)\\\n",
    "\n",
    "pipeline = Pipeline(stages=[\n",
    "    documenter,\n",
    "    sentencer,\n",
    "    tokenizer, \n",
    "    words_embedder, \n",
    "    pos_tagger, \n",
    "    pgr_ner_tagger,\n",
    "    ner_chunker,\n",
    "    dependency_parser,\n",
    "    pgr_re_Model\n",
    "])\n",
    "\n",
    "empty_data = spark.createDataFrame([[\"\"]]).toDF(\"text\")\n",
    "\n",
    "model = pipeline.fit(empty_data)"
   ]
  },
  {
   "cell_type": "code",
   "execution_count": 0,
   "metadata": {
    "application/vnd.databricks.v1+cell": {
     "inputWidgets": {},
     "nuid": "2bf9c8cc-63cc-4ce3-b637-b31a07d9d80e",
     "showTitle": false,
     "title": ""
    }
   },
   "outputs": [
    {
     "data": {
      "text/html": [
       "<style scoped>\n",
       "  .ansiout {\n",
       "    display: block;\n",
       "    unicode-bidi: embed;\n",
       "    white-space: pre-wrap;\n",
       "    word-wrap: break-word;\n",
       "    word-break: break-all;\n",
       "    font-family: \"Source Code Pro\", \"Menlo\", monospace;;\n",
       "    font-size: 13px;\n",
       "    color: #555;\n",
       "    margin-left: 4px;\n",
       "    line-height: 19px;\n",
       "  }\n",
       "</style>\n",
       "<div class=\"ansiout\">Out[50]: </div>"
      ]
     },
     "metadata": {
      "application/vnd.databricks.v1+output": {
       "addedWidgets": {},
       "arguments": {},
       "data": "<div class=\"ansiout\">Out[50]: </div>",
       "datasetInfos": [],
       "removedWidgets": [],
       "type": "html"
      }
     },
     "output_type": "display_data"
    },
    {
     "data": {
      "text/html": [
       "<div>\n",
       "<style scoped>\n",
       "    .dataframe tbody tr th:only-of-type {\n",
       "        vertical-align: middle;\n",
       "    }\n",
       "\n",
       "    .dataframe tbody tr th {\n",
       "        vertical-align: top;\n",
       "    }\n",
       "\n",
       "    .dataframe thead th {\n",
       "        text-align: right;\n",
       "    }\n",
       "</style>\n",
       "<table border=\"1\" class=\"dataframe\">\n",
       "  <thead>\n",
       "    <tr style=\"text-align: right;\">\n",
       "      <th></th>\n",
       "      <th>relation</th>\n",
       "      <th>entity1</th>\n",
       "      <th>entity1_begin</th>\n",
       "      <th>entity1_end</th>\n",
       "      <th>chunk1</th>\n",
       "      <th>entity2</th>\n",
       "      <th>entity2_begin</th>\n",
       "      <th>entity2_end</th>\n",
       "      <th>chunk2</th>\n",
       "      <th>confidence</th>\n",
       "    </tr>\n",
       "  </thead>\n",
       "  <tbody>\n",
       "    <tr>\n",
       "      <th>0</th>\n",
       "      <td>1</td>\n",
       "      <td>HP</td>\n",
       "      <td>32</td>\n",
       "      <td>43</td>\n",
       "      <td>hearing loss</td>\n",
       "      <td>GENE</td>\n",
       "      <td>96</td>\n",
       "      <td>103</td>\n",
       "      <td>SH3PXD2B</td>\n",
       "      <td>0.99999976</td>\n",
       "    </tr>\n",
       "    <tr>\n",
       "      <th>1</th>\n",
       "      <td>1</td>\n",
       "      <td>HP</td>\n",
       "      <td>49</td>\n",
       "      <td>61</td>\n",
       "      <td>renal failure</td>\n",
       "      <td>GENE</td>\n",
       "      <td>96</td>\n",
       "      <td>103</td>\n",
       "      <td>SH3PXD2B</td>\n",
       "      <td>0.9998969</td>\n",
       "    </tr>\n",
       "    <tr>\n",
       "      <th>2</th>\n",
       "      <td>1</td>\n",
       "      <td>HP</td>\n",
       "      <td>64</td>\n",
       "      <td>76</td>\n",
       "      <td>short stature</td>\n",
       "      <td>GENE</td>\n",
       "      <td>96</td>\n",
       "      <td>103</td>\n",
       "      <td>SH3PXD2B</td>\n",
       "      <td>0.99994695</td>\n",
       "    </tr>\n",
       "  </tbody>\n",
       "</table>\n",
       "</div>"
      ]
     },
     "metadata": {
      "application/vnd.databricks.v1+output": {
       "addedWidgets": {},
       "arguments": {},
       "data": "<div>\n<style scoped>\n    .dataframe tbody tr th:only-of-type {\n        vertical-align: middle;\n    }\n\n    .dataframe tbody tr th {\n        vertical-align: top;\n    }\n\n    .dataframe thead th {\n        text-align: right;\n    }\n</style>\n<table border=\"1\" class=\"dataframe\">\n  <thead>\n    <tr style=\"text-align: right;\">\n      <th></th>\n      <th>relation</th>\n      <th>entity1</th>\n      <th>entity1_begin</th>\n      <th>entity1_end</th>\n      <th>chunk1</th>\n      <th>entity2</th>\n      <th>entity2_begin</th>\n      <th>entity2_end</th>\n      <th>chunk2</th>\n      <th>confidence</th>\n    </tr>\n  </thead>\n  <tbody>\n    <tr>\n      <th>0</th>\n      <td>1</td>\n      <td>HP</td>\n      <td>32</td>\n      <td>43</td>\n      <td>hearing loss</td>\n      <td>GENE</td>\n      <td>96</td>\n      <td>103</td>\n      <td>SH3PXD2B</td>\n      <td>0.99999976</td>\n    </tr>\n    <tr>\n      <th>1</th>\n      <td>1</td>\n      <td>HP</td>\n      <td>49</td>\n      <td>61</td>\n      <td>renal failure</td>\n      <td>GENE</td>\n      <td>96</td>\n      <td>103</td>\n      <td>SH3PXD2B</td>\n      <td>0.9998969</td>\n    </tr>\n    <tr>\n      <th>2</th>\n      <td>1</td>\n      <td>HP</td>\n      <td>64</td>\n      <td>76</td>\n      <td>short stature</td>\n      <td>GENE</td>\n      <td>96</td>\n      <td>103</td>\n      <td>SH3PXD2B</td>\n      <td>0.99994695</td>\n    </tr>\n  </tbody>\n</table>\n</div>",
       "datasetInfos": [],
       "removedWidgets": [],
       "textData": null,
       "type": "htmlSandbox"
      }
     },
     "output_type": "display_data"
    }
   ],
   "source": [
    "text = \"She has a retinal degeneration, hearing loss and renal failure, short stature, \\\n",
    "Mutations in the SH3PXD2B gene coding for the Tks4 protein are responsible for the autosomal recessive.\"\n",
    "\n",
    "lmodel = LightPipeline(model)\n",
    "annotations = lmodel.fullAnnotate(text)\n",
    "\n",
    "rel_df = get_relations_df (annotations)\n",
    "\n",
    "rel_df = rel_df[(rel_df.relation!=0)]\n",
    "\n",
    "rel_df"
   ]
  },
  {
   "cell_type": "markdown",
   "metadata": {
    "application/vnd.databricks.v1+cell": {
     "inputWidgets": {},
     "nuid": "0f50f7da-09fb-4d38-a4ee-dfe48cb039b7",
     "showTitle": false,
     "title": ""
    }
   },
   "source": [
    "## 5. Drug-Drug Interaction RE"
   ]
  },
  {
   "cell_type": "markdown",
   "metadata": {
    "application/vnd.databricks.v1+cell": {
     "inputWidgets": {},
     "nuid": "e3d64a6c-b318-460b-a38e-d229289dc57a",
     "showTitle": false,
     "title": ""
    }
   },
   "source": [
    "In clinical application, two or more drugs are often used in combination to achieve conducive results, such as synergistic effect, increasing therapeutic effect and reducing or delaying the occurrence of\n",
    "drug resistance. However, there is a potential for harmful drug-drug\n",
    "interactions (DDIs) to occur when two or more drugs are taken at the\n",
    "same time or at certain interval, which can reduce or invalidate the\n",
    "efficacy of drugs, and increase toxicity or even cause death. Therefore,\n",
    "in order to prevent harmful drug-drug interaction (DDI), medical staff\n",
    "often spend much time in reviewing the relevant drug alert literature\n",
    "and drug knowledge bases. \n",
    "\n",
    "**ref**: *Drug-drug interaction extraction via hybrid neural networks on biomedical literature\n",
    "https://www-sciencedirect-com.ezproxy.leidenuniv.nl:2443/science/article/pii/S1532046420300605*"
   ]
  },
  {
   "cell_type": "code",
   "execution_count": 0,
   "metadata": {
    "application/vnd.databricks.v1+cell": {
     "inputWidgets": {},
     "nuid": "44ca6a6a-e5a0-4ce6-8971-020a42058c28",
     "showTitle": false,
     "title": ""
    }
   },
   "outputs": [
    {
     "data": {
      "text/html": [
       "<style scoped>\n",
       "  .ansiout {\n",
       "    display: block;\n",
       "    unicode-bidi: embed;\n",
       "    white-space: pre-wrap;\n",
       "    word-wrap: break-word;\n",
       "    word-break: break-all;\n",
       "    font-family: \"Source Code Pro\", \"Menlo\", monospace;;\n",
       "    font-size: 13px;\n",
       "    color: #555;\n",
       "    margin-left: 4px;\n",
       "    line-height: 19px;\n",
       "  }\n",
       "</style>\n",
       "<div class=\"ansiout\">ner_posology download started this may take some time.\n",
       "Approximate size to download 13.8 MB\n",
       "\r",
       "[ | ]\r",
       "[OK!]\n",
       "re_drug_drug_interaction_clinical download started this may take some time.\n",
       "Approximate size to download 4.6 MB\n",
       "\r",
       "[ | ]\r",
       "[ / ]\r",
       "[OK!]\n",
       "</div>"
      ]
     },
     "metadata": {
      "application/vnd.databricks.v1+output": {
       "addedWidgets": {},
       "arguments": {},
       "data": "<div class=\"ansiout\">ner_posology download started this may take some time.\nApproximate size to download 13.8 MB\n\r[ | ]\r[OK!]\nre_drug_drug_interaction_clinical download started this may take some time.\nApproximate size to download 4.6 MB\n\r[ | ]\r[ / ]\r[OK!]\n</div>",
       "datasetInfos": [],
       "removedWidgets": [],
       "type": "html"
      }
     },
     "output_type": "display_data"
    }
   ],
   "source": [
    "ner_tagger = MedicalNerModel()\\\n",
    "    .pretrained(\"ner_posology\", \"en\", \"clinical/models\")\\\n",
    "    .setInputCols(\"sentences\", \"tokens\", \"embeddings\")\\\n",
    "    .setOutputCol(\"ner_tags\")   \n",
    "\n",
    "ner_converter = NerConverterInternal() \\\n",
    "    .setInputCols([\"sentences\", \"tokens\", \"ner_tags\"]) \\\n",
    "    .setOutputCol(\"ner_chunk\")\n",
    "\n",
    "ddi_re_model = RelationExtractionModel()\\\n",
    "    .pretrained(\"re_drug_drug_interaction_clinical\", \"en\", 'clinical/models')\\\n",
    "    .setInputCols([\"embeddings\", \"pos_tags\", \"ner_chunk\", \"dependencies\"])\\\n",
    "    .setOutputCol(\"relations\")\\\n",
    "    .setRelationPairs([\"drug-drug\"])\\\n",
    "    .setMaxSyntacticDistance(4)\\\n",
    "\n",
    "ddi_pipeline = Pipeline(stages=[\n",
    "    documenter,\n",
    "    sentencer,\n",
    "    tokenizer, \n",
    "    words_embedder, \n",
    "    pos_tagger, \n",
    "    ner_tagger,\n",
    "    ner_converter,\n",
    "    dependency_parser,\n",
    "    ddi_re_model\n",
    "])\n",
    "\n",
    "empty_data = spark.createDataFrame([[\"\"]]).toDF(\"text\")\n",
    "ddi_model = ddi_pipeline.fit(empty_data)"
   ]
  },
  {
   "cell_type": "code",
   "execution_count": 0,
   "metadata": {
    "application/vnd.databricks.v1+cell": {
     "inputWidgets": {},
     "nuid": "610f37ed-108a-446d-9b73-202dffd44748",
     "showTitle": false,
     "title": ""
    }
   },
   "outputs": [
    {
     "data": {
      "text/html": [
       "<style scoped>\n",
       "  .ansiout {\n",
       "    display: block;\n",
       "    unicode-bidi: embed;\n",
       "    white-space: pre-wrap;\n",
       "    word-wrap: break-word;\n",
       "    word-break: break-all;\n",
       "    font-family: \"Source Code Pro\", \"Menlo\", monospace;;\n",
       "    font-size: 13px;\n",
       "    color: #555;\n",
       "    margin-left: 4px;\n",
       "    line-height: 19px;\n",
       "  }\n",
       "</style>\n",
       "<div class=\"ansiout\">Out[52]: </div>"
      ]
     },
     "metadata": {
      "application/vnd.databricks.v1+output": {
       "addedWidgets": {},
       "arguments": {},
       "data": "<div class=\"ansiout\">Out[52]: </div>",
       "datasetInfos": [],
       "removedWidgets": [],
       "type": "html"
      }
     },
     "output_type": "display_data"
    },
    {
     "data": {
      "text/html": [
       "<div>\n",
       "<style scoped>\n",
       "    .dataframe tbody tr th:only-of-type {\n",
       "        vertical-align: middle;\n",
       "    }\n",
       "\n",
       "    .dataframe tbody tr th {\n",
       "        vertical-align: top;\n",
       "    }\n",
       "\n",
       "    .dataframe thead th {\n",
       "        text-align: right;\n",
       "    }\n",
       "</style>\n",
       "<table border=\"1\" class=\"dataframe\">\n",
       "  <thead>\n",
       "    <tr style=\"text-align: right;\">\n",
       "      <th></th>\n",
       "      <th>relation</th>\n",
       "      <th>entity1</th>\n",
       "      <th>entity1_begin</th>\n",
       "      <th>entity1_end</th>\n",
       "      <th>chunk1</th>\n",
       "      <th>entity2</th>\n",
       "      <th>entity2_begin</th>\n",
       "      <th>entity2_end</th>\n",
       "      <th>chunk2</th>\n",
       "      <th>confidence</th>\n",
       "    </tr>\n",
       "  </thead>\n",
       "  <tbody>\n",
       "    <tr>\n",
       "      <th>0</th>\n",
       "      <td>DDI-advise</td>\n",
       "      <td>DRUG</td>\n",
       "      <td>5</td>\n",
       "      <td>17</td>\n",
       "      <td>carbamazepine</td>\n",
       "      <td>DRUG</td>\n",
       "      <td>62</td>\n",
       "      <td>73</td>\n",
       "      <td>aripiprazole</td>\n",
       "      <td>0.99238014</td>\n",
       "    </tr>\n",
       "  </tbody>\n",
       "</table>\n",
       "</div>"
      ]
     },
     "metadata": {
      "application/vnd.databricks.v1+output": {
       "addedWidgets": {},
       "arguments": {},
       "data": "<div>\n<style scoped>\n    .dataframe tbody tr th:only-of-type {\n        vertical-align: middle;\n    }\n\n    .dataframe tbody tr th {\n        vertical-align: top;\n    }\n\n    .dataframe thead th {\n        text-align: right;\n    }\n</style>\n<table border=\"1\" class=\"dataframe\">\n  <thead>\n    <tr style=\"text-align: right;\">\n      <th></th>\n      <th>relation</th>\n      <th>entity1</th>\n      <th>entity1_begin</th>\n      <th>entity1_end</th>\n      <th>chunk1</th>\n      <th>entity2</th>\n      <th>entity2_begin</th>\n      <th>entity2_end</th>\n      <th>chunk2</th>\n      <th>confidence</th>\n    </tr>\n  </thead>\n  <tbody>\n    <tr>\n      <th>0</th>\n      <td>DDI-advise</td>\n      <td>DRUG</td>\n      <td>5</td>\n      <td>17</td>\n      <td>carbamazepine</td>\n      <td>DRUG</td>\n      <td>62</td>\n      <td>73</td>\n      <td>aripiprazole</td>\n      <td>0.99238014</td>\n    </tr>\n  </tbody>\n</table>\n</div>",
       "datasetInfos": [],
       "removedWidgets": [],
       "textData": null,
       "type": "htmlSandbox"
      }
     },
     "output_type": "display_data"
    }
   ],
   "source": [
    "text='When carbamazepine is withdrawn from the combination therapy, aripiprazole dose should then be reduced. \\\n",
    "If additional adrenergic drugs are to be administered by any route, \\\n",
    "they should be used with caution because the pharmacologically predictable sympathetic effects of Metformin may be potentiated'\n",
    "\n",
    "lmodel = LightPipeline(ddi_model)\n",
    "annotations = lmodel.fullAnnotate(text)\n",
    "\n",
    "rel_df = get_relations_df (annotations)\n",
    "\n",
    "\n",
    "rel_df"
   ]
  },
  {
   "cell_type": "code",
   "execution_count": 0,
   "metadata": {
    "application/vnd.databricks.v1+cell": {
     "inputWidgets": {},
     "nuid": "06f9b51c-80c2-4583-ad45-93a2214a7a43",
     "showTitle": false,
     "title": ""
    }
   },
   "outputs": [
    {
     "data": {
      "text/html": [
       "<style scoped>\n",
       "  .ansiout {\n",
       "    display: block;\n",
       "    unicode-bidi: embed;\n",
       "    white-space: pre-wrap;\n",
       "    word-wrap: break-word;\n",
       "    word-break: break-all;\n",
       "    font-family: \"Source Code Pro\", \"Menlo\", monospace;;\n",
       "    font-size: 13px;\n",
       "    color: #555;\n",
       "    margin-left: 4px;\n",
       "    line-height: 19px;\n",
       "  }\n",
       "</style>\n",
       "<div class=\"ansiout\">Out[53]: [Annotation(chunk, 5, 17, carbamazepine, {&#39;entity&#39;: &#39;DRUG&#39;, &#39;sentence&#39;: &#39;0&#39;, &#39;chunk&#39;: &#39;0&#39;, &#39;confidence&#39;: &#39;0.9968&#39;}),\n",
       " Annotation(chunk, 62, 73, aripiprazole, {&#39;entity&#39;: &#39;DRUG&#39;, &#39;sentence&#39;: &#39;0&#39;, &#39;chunk&#39;: &#39;1&#39;, &#39;confidence&#39;: &#39;0.9998&#39;}),\n",
       " Annotation(chunk, 118, 133, adrenergic drugs, {&#39;entity&#39;: &#39;DRUG&#39;, &#39;sentence&#39;: &#39;1&#39;, &#39;chunk&#39;: &#39;2&#39;, &#39;confidence&#39;: &#39;0.7984&#39;}),\n",
       " Annotation(chunk, 270, 278, Metformin, {&#39;entity&#39;: &#39;DRUG&#39;, &#39;sentence&#39;: &#39;1&#39;, &#39;chunk&#39;: &#39;3&#39;, &#39;confidence&#39;: &#39;0.9998&#39;})]</div>"
      ]
     },
     "metadata": {
      "application/vnd.databricks.v1+output": {
       "addedWidgets": {},
       "arguments": {},
       "data": "<div class=\"ansiout\">Out[53]: [Annotation(chunk, 5, 17, carbamazepine, {&#39;entity&#39;: &#39;DRUG&#39;, &#39;sentence&#39;: &#39;0&#39;, &#39;chunk&#39;: &#39;0&#39;, &#39;confidence&#39;: &#39;0.9968&#39;}),\n Annotation(chunk, 62, 73, aripiprazole, {&#39;entity&#39;: &#39;DRUG&#39;, &#39;sentence&#39;: &#39;0&#39;, &#39;chunk&#39;: &#39;1&#39;, &#39;confidence&#39;: &#39;0.9998&#39;}),\n Annotation(chunk, 118, 133, adrenergic drugs, {&#39;entity&#39;: &#39;DRUG&#39;, &#39;sentence&#39;: &#39;1&#39;, &#39;chunk&#39;: &#39;2&#39;, &#39;confidence&#39;: &#39;0.7984&#39;}),\n Annotation(chunk, 270, 278, Metformin, {&#39;entity&#39;: &#39;DRUG&#39;, &#39;sentence&#39;: &#39;1&#39;, &#39;chunk&#39;: &#39;3&#39;, &#39;confidence&#39;: &#39;0.9998&#39;})]</div>",
       "datasetInfos": [],
       "removedWidgets": [],
       "type": "html"
      }
     },
     "output_type": "display_data"
    }
   ],
   "source": [
    "annotations[0]['ner_chunk']"
   ]
  },
  {
   "cell_type": "markdown",
   "metadata": {
    "application/vnd.databricks.v1+cell": {
     "inputWidgets": {},
     "nuid": "f3171ec9-f8af-469a-ba1a-87155de4cc03",
     "showTitle": false,
     "title": ""
    }
   },
   "source": [
    "## 6. Chemical–Protein Interactions (ChemProt RE)"
   ]
  },
  {
   "cell_type": "markdown",
   "metadata": {
    "application/vnd.databricks.v1+cell": {
     "inputWidgets": {},
     "nuid": "a8995e99-8996-422c-9ee8-74e89dc4323b",
     "showTitle": false,
     "title": ""
    }
   },
   "source": [
    "Accurately detecting the interactions between chemicals and proteins is a crucial task that plays a key role in precision medicine, drug discovery and basic clinical research. Currently, PubMed contains >28 million articles, and its annual growth rate is more than a million articles each year. A large amount of valuable chemical–protein interactions (CPIs) are hidden in the biomedical literature. There is an increasing interest in CPI extraction from the biomedical literature.\n",
    "\n",
    "Since manually extracting biomedical relations such as protein–protein interactions (PPI) and drug–drug interactions (DDI) is costly and time-consuming, some computational methods have been successfully proposed for automatic biomedical relation extraction.\n",
    "\n",
    "To date, most studies on the biomedical relation extraction have focused on the PPIs and DDIs, but a few attempts have been made to extract CPIs. The BioCreative VI ChemProt shared task released the ChemProt dataset for CPI extraction, which is the first challenge for extracting CPIs.\n",
    "\n",
    "Computational CPI extraction is generally approached as a task of classifying whether a specified semantic relation holds between the chemical and protein entities within a sentence or document. The ChemProt corpus is a manually annotated CPI dataset, which greatly promotes the development of CPI extraction approaches. \n",
    "\n",
    "ref: https://academic.oup.com/database/article/doi/10.1093/database/baz054/5498050"
   ]
  },
  {
   "cell_type": "markdown",
   "metadata": {
    "application/vnd.databricks.v1+cell": {
     "inputWidgets": {},
     "nuid": "5ef7d3c1-a146-4e26-bd56-9319f7ab3a77",
     "showTitle": false,
     "title": ""
    }
   },
   "source": [
    "| Relation | Recall | Precision | F1 | F1 (Zhang, Yijia, et al., 2019) |\n",
    "| --- | --- | --- | --- | --- |\n",
    "| CPR:3 | 0.47 | 0.59 | **0.52** | 0.594 |\n",
    "| CPR:4 | 0.72 | 0.81 | **0.77** | 0.718 |\n",
    "| CPR:5 | 0.43 | 0.88 | **0.58** | 0.657 |\n",
    "| CPR:6 | 0.59 | 0.89 | **0.71** | 0.725 |\n",
    "| CPR:9 | 0.62 | 0.84 | **0.71** | 0.501 |\n",
    "|avg. |  |  | **0.66** | 0.64 |"
   ]
  },
  {
   "cell_type": "markdown",
   "metadata": {
    "application/vnd.databricks.v1+cell": {
     "inputWidgets": {},
     "nuid": "16b0bc80-e886-44b1-af6a-f60fcbd861ef",
     "showTitle": false,
     "title": ""
    }
   },
   "source": [
    "ChemProt RE works well with `ner_chemprot_clinical` find relationships between the following entities\n",
    "\n",
    "`CHEMICAL`: Chemical entity mention type; \n",
    "\n",
    "`GENE-Y`: gene/protein mention type that can be normalized or associated to a biological database identifier; \n",
    "\n",
    "`GENE-N`: gene/protein mention type that cannot be normalized to a database identifier."
   ]
  },
  {
   "cell_type": "code",
   "execution_count": 0,
   "metadata": {
    "application/vnd.databricks.v1+cell": {
     "inputWidgets": {},
     "nuid": "93cf9031-0794-48b2-ac8c-ef98b450b559",
     "showTitle": false,
     "title": ""
    }
   },
   "outputs": [
    {
     "data": {
      "text/html": [
       "<style scoped>\n",
       "  .ansiout {\n",
       "    display: block;\n",
       "    unicode-bidi: embed;\n",
       "    white-space: pre-wrap;\n",
       "    word-wrap: break-word;\n",
       "    word-break: break-all;\n",
       "    font-family: \"Source Code Pro\", \"Menlo\", monospace;;\n",
       "    font-size: 13px;\n",
       "    color: #555;\n",
       "    margin-left: 4px;\n",
       "    line-height: 19px;\n",
       "  }\n",
       "</style>\n",
       "<div class=\"ansiout\">ner_chemprot_clinical download started this may take some time.\n",
       "Approximate size to download 15.3 MB\n",
       "\r",
       "[ | ]\r",
       "[ / ]\r",
       "[ — ]\r",
       "[ \\ ]\r",
       "[OK!]\n",
       "re_chemprot_clinical download started this may take some time.\n",
       "Approximate size to download 5.9 MB\n",
       "\r",
       "[ | ]\r",
       "[ / ]\r",
       "[OK!]\n",
       "</div>"
      ]
     },
     "metadata": {
      "application/vnd.databricks.v1+output": {
       "addedWidgets": {},
       "arguments": {},
       "data": "<div class=\"ansiout\">ner_chemprot_clinical download started this may take some time.\nApproximate size to download 15.3 MB\n\r[ | ]\r[ / ]\r[ — ]\r[ \\ ]\r[OK!]\nre_chemprot_clinical download started this may take some time.\nApproximate size to download 5.9 MB\n\r[ | ]\r[ / ]\r[OK!]\n</div>",
       "datasetInfos": [],
       "removedWidgets": [],
       "type": "html"
      }
     },
     "output_type": "display_data"
    }
   ],
   "source": [
    "ner_tagger = MedicalNerModel()\\\n",
    "    .pretrained(\"ner_chemprot_clinical\", \"en\", \"clinical/models\")\\\n",
    "    .setInputCols(\"sentences\", \"tokens\", \"embeddings\")\\\n",
    "    .setOutputCol(\"ner_tags\")   \n",
    "\n",
    "ner_converter = NerConverterInternal() \\\n",
    "    .setInputCols([\"sentences\", \"tokens\", \"ner_tags\"]) \\\n",
    "    .setOutputCol(\"ner_chunk\")\n",
    "\n",
    "chemprot_re_model = RelationExtractionModel()\\\n",
    "    .pretrained(\"re_chemprot_clinical\", \"en\", 'clinical/models')\\\n",
    "    .setInputCols([\"embeddings\", \"pos_tags\", \"ner_chunk\", \"dependencies\"])\\\n",
    "    .setOutputCol(\"relations\")\\\n",
    "    .setMaxSyntacticDistance(4)\\\n",
    "\n",
    "chemprot_pipeline = Pipeline(stages=[\n",
    "    documenter,\n",
    "    sentencer,\n",
    "    tokenizer, \n",
    "    words_embedder, \n",
    "    pos_tagger, \n",
    "    ner_tagger,\n",
    "    ner_converter,\n",
    "    dependency_parser,\n",
    "    chemprot_re_model\n",
    "])\n",
    "\n",
    "empty_data = spark.createDataFrame([[\"\"]]).toDF(\"text\")\n",
    "chemprot_model = chemprot_pipeline.fit(empty_data)\n"
   ]
  },
  {
   "cell_type": "code",
   "execution_count": 0,
   "metadata": {
    "application/vnd.databricks.v1+cell": {
     "inputWidgets": {},
     "nuid": "03d51ffe-d2dc-46d5-8816-fb6af2dc8114",
     "showTitle": false,
     "title": ""
    }
   },
   "outputs": [
    {
     "data": {
      "text/html": [
       "<style scoped>\n",
       "  .ansiout {\n",
       "    display: block;\n",
       "    unicode-bidi: embed;\n",
       "    white-space: pre-wrap;\n",
       "    word-wrap: break-word;\n",
       "    word-break: break-all;\n",
       "    font-family: \"Source Code Pro\", \"Menlo\", monospace;;\n",
       "    font-size: 13px;\n",
       "    color: #555;\n",
       "    margin-left: 4px;\n",
       "    line-height: 19px;\n",
       "  }\n",
       "</style>\n",
       "<div class=\"ansiout\">Out[55]: </div>"
      ]
     },
     "metadata": {
      "application/vnd.databricks.v1+output": {
       "addedWidgets": {},
       "arguments": {},
       "data": "<div class=\"ansiout\">Out[55]: </div>",
       "datasetInfos": [],
       "removedWidgets": [],
       "type": "html"
      }
     },
     "output_type": "display_data"
    },
    {
     "data": {
      "text/html": [
       "<div>\n",
       "<style scoped>\n",
       "    .dataframe tbody tr th:only-of-type {\n",
       "        vertical-align: middle;\n",
       "    }\n",
       "\n",
       "    .dataframe tbody tr th {\n",
       "        vertical-align: top;\n",
       "    }\n",
       "\n",
       "    .dataframe thead th {\n",
       "        text-align: right;\n",
       "    }\n",
       "</style>\n",
       "<table border=\"1\" class=\"dataframe\">\n",
       "  <thead>\n",
       "    <tr style=\"text-align: right;\">\n",
       "      <th></th>\n",
       "      <th>relation</th>\n",
       "      <th>entity1</th>\n",
       "      <th>entity1_begin</th>\n",
       "      <th>entity1_end</th>\n",
       "      <th>chunk1</th>\n",
       "      <th>entity2</th>\n",
       "      <th>entity2_begin</th>\n",
       "      <th>entity2_end</th>\n",
       "      <th>chunk2</th>\n",
       "      <th>confidence</th>\n",
       "    </tr>\n",
       "  </thead>\n",
       "  <tbody>\n",
       "    <tr>\n",
       "      <th>0</th>\n",
       "      <td>CPR:2</td>\n",
       "      <td>CHEMICAL</td>\n",
       "      <td>43</td>\n",
       "      <td>53</td>\n",
       "      <td>mitiglinide</td>\n",
       "      <td>GENE-N</td>\n",
       "      <td>80</td>\n",
       "      <td>87</td>\n",
       "      <td>channels</td>\n",
       "      <td>0.6070414</td>\n",
       "    </tr>\n",
       "    <tr>\n",
       "      <th>1</th>\n",
       "      <td>CPR:2</td>\n",
       "      <td>GENE-N</td>\n",
       "      <td>80</td>\n",
       "      <td>87</td>\n",
       "      <td>channels</td>\n",
       "      <td>CHEMICAL</td>\n",
       "      <td>224</td>\n",
       "      <td>234</td>\n",
       "      <td>nateglinide</td>\n",
       "      <td>0.98933965</td>\n",
       "    </tr>\n",
       "    <tr>\n",
       "      <th>4</th>\n",
       "      <td>CPR:4</td>\n",
       "      <td>CHEMICAL</td>\n",
       "      <td>706</td>\n",
       "      <td>716</td>\n",
       "      <td>mitiglinide</td>\n",
       "      <td>GENE-Y</td>\n",
       "      <td>751</td>\n",
       "      <td>754</td>\n",
       "      <td>SUR1</td>\n",
       "      <td>0.7594982</td>\n",
       "    </tr>\n",
       "    <tr>\n",
       "      <th>6</th>\n",
       "      <td>CPR:2</td>\n",
       "      <td>CHEMICAL</td>\n",
       "      <td>719</td>\n",
       "      <td>729</td>\n",
       "      <td>nateglinide</td>\n",
       "      <td>GENE-Y</td>\n",
       "      <td>751</td>\n",
       "      <td>754</td>\n",
       "      <td>SUR1</td>\n",
       "      <td>0.9999553</td>\n",
       "    </tr>\n",
       "    <tr>\n",
       "      <th>7</th>\n",
       "      <td>CPR:2</td>\n",
       "      <td>CHEMICAL</td>\n",
       "      <td>736</td>\n",
       "      <td>746</td>\n",
       "      <td>repaglinide</td>\n",
       "      <td>GENE-Y</td>\n",
       "      <td>751</td>\n",
       "      <td>754</td>\n",
       "      <td>SUR1</td>\n",
       "      <td>0.9919803</td>\n",
       "    </tr>\n",
       "    <tr>\n",
       "      <th>8</th>\n",
       "      <td>CPR:2</td>\n",
       "      <td>CHEMICAL</td>\n",
       "      <td>823</td>\n",
       "      <td>839</td>\n",
       "      <td>[3H]glibenclamide</td>\n",
       "      <td>GENE-Y</td>\n",
       "      <td>844</td>\n",
       "      <td>847</td>\n",
       "      <td>SUR1</td>\n",
       "      <td>1.0</td>\n",
       "    </tr>\n",
       "    <tr>\n",
       "      <th>11</th>\n",
       "      <td>CPR:2</td>\n",
       "      <td>GENE-N</td>\n",
       "      <td>998</td>\n",
       "      <td>1004</td>\n",
       "      <td>insulin</td>\n",
       "      <td>CHEMICAL</td>\n",
       "      <td>1019</td>\n",
       "      <td>1025</td>\n",
       "      <td>glucose</td>\n",
       "      <td>0.59488183</td>\n",
       "    </tr>\n",
       "    <tr>\n",
       "      <th>12</th>\n",
       "      <td>CPR:2</td>\n",
       "      <td>GENE-N</td>\n",
       "      <td>998</td>\n",
       "      <td>1004</td>\n",
       "      <td>insulin</td>\n",
       "      <td>CHEMICAL</td>\n",
       "      <td>1028</td>\n",
       "      <td>1038</td>\n",
       "      <td>mitiglinide</td>\n",
       "      <td>0.5599123</td>\n",
       "    </tr>\n",
       "    <tr>\n",
       "      <th>13</th>\n",
       "      <td>CPR:3</td>\n",
       "      <td>GENE-N</td>\n",
       "      <td>998</td>\n",
       "      <td>1004</td>\n",
       "      <td>insulin</td>\n",
       "      <td>CHEMICAL</td>\n",
       "      <td>1041</td>\n",
       "      <td>1051</td>\n",
       "      <td>tolbutamide</td>\n",
       "      <td>0.98802537</td>\n",
       "    </tr>\n",
       "    <tr>\n",
       "      <th>14</th>\n",
       "      <td>CPR:3</td>\n",
       "      <td>GENE-N</td>\n",
       "      <td>998</td>\n",
       "      <td>1004</td>\n",
       "      <td>insulin</td>\n",
       "      <td>CHEMICAL</td>\n",
       "      <td>1058</td>\n",
       "      <td>1070</td>\n",
       "      <td>glibenclamide</td>\n",
       "      <td>0.98900056</td>\n",
       "    </tr>\n",
       "    <tr>\n",
       "      <th>15</th>\n",
       "      <td>CPR:3</td>\n",
       "      <td>GENE-N</td>\n",
       "      <td>998</td>\n",
       "      <td>1004</td>\n",
       "      <td>insulin</td>\n",
       "      <td>CHEMICAL</td>\n",
       "      <td>1100</td>\n",
       "      <td>1110</td>\n",
       "      <td>mitiglinide</td>\n",
       "      <td>0.9898141</td>\n",
       "    </tr>\n",
       "    <tr>\n",
       "      <th>34</th>\n",
       "      <td>CPR:4</td>\n",
       "      <td>CHEMICAL</td>\n",
       "      <td>1290</td>\n",
       "      <td>1300</td>\n",
       "      <td>mitiglinide</td>\n",
       "      <td>GENE-N</td>\n",
       "      <td>1387</td>\n",
       "      <td>1393</td>\n",
       "      <td>channel</td>\n",
       "      <td>0.9894153</td>\n",
       "    </tr>\n",
       "  </tbody>\n",
       "</table>\n",
       "</div>"
      ]
     },
     "metadata": {
      "application/vnd.databricks.v1+output": {
       "addedWidgets": {},
       "arguments": {},
       "data": "<div>\n<style scoped>\n    .dataframe tbody tr th:only-of-type {\n        vertical-align: middle;\n    }\n\n    .dataframe tbody tr th {\n        vertical-align: top;\n    }\n\n    .dataframe thead th {\n        text-align: right;\n    }\n</style>\n<table border=\"1\" class=\"dataframe\">\n  <thead>\n    <tr style=\"text-align: right;\">\n      <th></th>\n      <th>relation</th>\n      <th>entity1</th>\n      <th>entity1_begin</th>\n      <th>entity1_end</th>\n      <th>chunk1</th>\n      <th>entity2</th>\n      <th>entity2_begin</th>\n      <th>entity2_end</th>\n      <th>chunk2</th>\n      <th>confidence</th>\n    </tr>\n  </thead>\n  <tbody>\n    <tr>\n      <th>0</th>\n      <td>CPR:2</td>\n      <td>CHEMICAL</td>\n      <td>43</td>\n      <td>53</td>\n      <td>mitiglinide</td>\n      <td>GENE-N</td>\n      <td>80</td>\n      <td>87</td>\n      <td>channels</td>\n      <td>0.6070414</td>\n    </tr>\n    <tr>\n      <th>1</th>\n      <td>CPR:2</td>\n      <td>GENE-N</td>\n      <td>80</td>\n      <td>87</td>\n      <td>channels</td>\n      <td>CHEMICAL</td>\n      <td>224</td>\n      <td>234</td>\n      <td>nateglinide</td>\n      <td>0.98933965</td>\n    </tr>\n    <tr>\n      <th>4</th>\n      <td>CPR:4</td>\n      <td>CHEMICAL</td>\n      <td>706</td>\n      <td>716</td>\n      <td>mitiglinide</td>\n      <td>GENE-Y</td>\n      <td>751</td>\n      <td>754</td>\n      <td>SUR1</td>\n      <td>0.7594982</td>\n    </tr>\n    <tr>\n      <th>6</th>\n      <td>CPR:2</td>\n      <td>CHEMICAL</td>\n      <td>719</td>\n      <td>729</td>\n      <td>nateglinide</td>\n      <td>GENE-Y</td>\n      <td>751</td>\n      <td>754</td>\n      <td>SUR1</td>\n      <td>0.9999553</td>\n    </tr>\n    <tr>\n      <th>7</th>\n      <td>CPR:2</td>\n      <td>CHEMICAL</td>\n      <td>736</td>\n      <td>746</td>\n      <td>repaglinide</td>\n      <td>GENE-Y</td>\n      <td>751</td>\n      <td>754</td>\n      <td>SUR1</td>\n      <td>0.9919803</td>\n    </tr>\n    <tr>\n      <th>8</th>\n      <td>CPR:2</td>\n      <td>CHEMICAL</td>\n      <td>823</td>\n      <td>839</td>\n      <td>[3H]glibenclamide</td>\n      <td>GENE-Y</td>\n      <td>844</td>\n      <td>847</td>\n      <td>SUR1</td>\n      <td>1.0</td>\n    </tr>\n    <tr>\n      <th>11</th>\n      <td>CPR:2</td>\n      <td>GENE-N</td>\n      <td>998</td>\n      <td>1004</td>\n      <td>insulin</td>\n      <td>CHEMICAL</td>\n      <td>1019</td>\n      <td>1025</td>\n      <td>glucose</td>\n      <td>0.59488183</td>\n    </tr>\n    <tr>\n      <th>12</th>\n      <td>CPR:2</td>\n      <td>GENE-N</td>\n      <td>998</td>\n      <td>1004</td>\n      <td>insulin</td>\n      <td>CHEMICAL</td>\n      <td>1028</td>\n      <td>1038</td>\n      <td>mitiglinide</td>\n      <td>0.5599123</td>\n    </tr>\n    <tr>\n      <th>13</th>\n      <td>CPR:3</td>\n      <td>GENE-N</td>\n      <td>998</td>\n      <td>1004</td>\n      <td>insulin</td>\n      <td>CHEMICAL</td>\n      <td>1041</td>\n      <td>1051</td>\n      <td>tolbutamide</td>\n      <td>0.98802537</td>\n    </tr>\n    <tr>\n      <th>14</th>\n      <td>CPR:3</td>\n      <td>GENE-N</td>\n      <td>998</td>\n      <td>1004</td>\n      <td>insulin</td>\n      <td>CHEMICAL</td>\n      <td>1058</td>\n      <td>1070</td>\n      <td>glibenclamide</td>\n      <td>0.98900056</td>\n    </tr>\n    <tr>\n      <th>15</th>\n      <td>CPR:3</td>\n      <td>GENE-N</td>\n      <td>998</td>\n      <td>1004</td>\n      <td>insulin</td>\n      <td>CHEMICAL</td>\n      <td>1100</td>\n      <td>1110</td>\n      <td>mitiglinide</td>\n      <td>0.9898141</td>\n    </tr>\n    <tr>\n      <th>34</th>\n      <td>CPR:4</td>\n      <td>CHEMICAL</td>\n      <td>1290</td>\n      <td>1300</td>\n      <td>mitiglinide</td>\n      <td>GENE-N</td>\n      <td>1387</td>\n      <td>1393</td>\n      <td>channel</td>\n      <td>0.9894153</td>\n    </tr>\n  </tbody>\n</table>\n</div>",
       "datasetInfos": [],
       "removedWidgets": [],
       "textData": null,
       "type": "htmlSandbox"
      }
     },
     "output_type": "display_data"
    }
   ],
   "source": [
    "text='''\n",
    "In this study, we examined the effects of mitiglinide on various cloned K(ATP) channels (Kir6.2/SUR1, Kir6.2/SUR2A, and Kir6.2/SUR2B) reconstituted in COS-1 cells, and compared them to another meglitinide-related compound, nateglinide. Patch-clamp analysis using inside-out recording configuration showed that mitiglinide inhibits the Kir6.2/SUR1 channel currents in a dose-dependent manner (IC50 value, 100 nM) but does not significantly inhibit either Kir6.2/SUR2A or Kir6.2/SUR2B channel currents even at high doses (more than 10 microM). Nateglinide inhibits Kir6.2/SUR1 and Kir6.2/SUR2B channels at 100 nM, and inhibits Kir6.2/SUR2A channels at high concentrations (1 microM). Binding experiments on mitiglinide, nateglinide, and repaglinide to SUR1 expressed in COS-1 cells revealed that they inhibit the binding of [3H]glibenclamide to SUR1 (IC50 values: mitiglinide, 280 nM; nateglinide, 8 microM; repaglinide, 1.6 microM), suggesting that they all share a glibenclamide binding site. The insulin responses to glucose, mitiglinide, tolbutamide, and glibenclamide in MIN6 cells after chronic mitiglinide, nateglinide, or repaglinide treatment were comparable to those after chronic tolbutamide and glibenclamide treatment. These results indicate that, similar to the sulfonylureas, mitiglinide is highly specific to the Kir6.2/SUR1 complex, i.e., the pancreatic beta-cell K(ATP) channel, and suggest that mitiglinide may be a clinically useful anti-diabetic drug.\n",
    "'''\n",
    "\n",
    "\n",
    "lmodel = LightPipeline(chemprot_model)\n",
    "annotations = lmodel.fullAnnotate(text)\n",
    "\n",
    "rel_df = get_relations_df (annotations)\n",
    "\n",
    "rel_df[rel_df.entity1!=rel_df.entity2]"
   ]
  },
  {
   "cell_type": "markdown",
   "metadata": {
    "application/vnd.databricks.v1+cell": {
     "inputWidgets": {},
     "nuid": "5428d718-15f7-40c4-b29d-40b3a21f418d",
     "showTitle": false,
     "title": ""
    }
   },
   "source": [
    "# Train a Relation Extraction Model"
   ]
  },
  {
   "cell_type": "code",
   "execution_count": 0,
   "metadata": {
    "application/vnd.databricks.v1+cell": {
     "inputWidgets": {},
     "nuid": "9f45e212-acca-4cca-9878-db7c348fe270",
     "showTitle": false,
     "title": ""
    }
   },
   "outputs": [
    {
     "data": {
      "text/html": [
       "<style scoped>\n",
       "  .ansiout {\n",
       "    display: block;\n",
       "    unicode-bidi: embed;\n",
       "    white-space: pre-wrap;\n",
       "    word-wrap: break-word;\n",
       "    word-break: break-all;\n",
       "    font-family: \"Source Code Pro\", \"Menlo\", monospace;;\n",
       "    font-size: 13px;\n",
       "    color: #555;\n",
       "    margin-left: 4px;\n",
       "    line-height: 19px;\n",
       "  }\n",
       "</style>\n",
       "<div class=\"ansiout\">Out[56]: True</div>"
      ]
     },
     "metadata": {
      "application/vnd.databricks.v1+output": {
       "addedWidgets": {},
       "arguments": {},
       "data": "<div class=\"ansiout\">Out[56]: True</div>",
       "datasetInfos": [],
       "removedWidgets": [],
       "type": "html"
      }
     },
     "output_type": "display_data"
    }
   ],
   "source": [
    "!wget -q https://raw.githubusercontent.com/JohnSnowLabs/spark-nlp-workshop/master/tutorials/Certification_Trainings/Healthcare/data/i2b2_clinical_rel_dataset.csv\n",
    "\n",
    "dbutils.fs.cp(\"file:/databricks/driver/i2b2_clinical_rel_dataset.csv\", \"dbfs:/\")\n"
   ]
  },
  {
   "cell_type": "code",
   "execution_count": 0,
   "metadata": {
    "application/vnd.databricks.v1+cell": {
     "inputWidgets": {},
     "nuid": "28eed622-da7d-43d9-a1f8-866a15fa1f49",
     "showTitle": false,
     "title": ""
    }
   },
   "outputs": [
    {
     "data": {
      "text/html": [
       "<style scoped>\n",
       "  .ansiout {\n",
       "    display: block;\n",
       "    unicode-bidi: embed;\n",
       "    white-space: pre-wrap;\n",
       "    word-wrap: break-word;\n",
       "    word-break: break-all;\n",
       "    font-family: \"Source Code Pro\", \"Menlo\", monospace;;\n",
       "    font-size: 13px;\n",
       "    color: #555;\n",
       "    margin-left: 4px;\n",
       "    line-height: 19px;\n",
       "  }\n",
       "</style>\n",
       "<div class=\"ansiout\">Out[57]: &#39;1.15.0&#39;</div>"
      ]
     },
     "metadata": {
      "application/vnd.databricks.v1+output": {
       "addedWidgets": {},
       "arguments": {},
       "data": "<div class=\"ansiout\">Out[57]: &#39;1.15.0&#39;</div>",
       "datasetInfos": [],
       "removedWidgets": [],
       "type": "html"
      }
     },
     "output_type": "display_data"
    }
   ],
   "source": [
    "import tensorflow as tf\n",
    "\n",
    "tf.__version__"
   ]
  },
  {
   "cell_type": "code",
   "execution_count": 0,
   "metadata": {
    "application/vnd.databricks.v1+cell": {
     "inputWidgets": {},
     "nuid": "58c9b203-72cd-4aa4-9463-25c9df0a1962",
     "showTitle": false,
     "title": ""
    }
   },
   "outputs": [
    {
     "data": {
      "text/html": [
       "<style scoped>\n",
       "  .ansiout {\n",
       "    display: block;\n",
       "    unicode-bidi: embed;\n",
       "    white-space: pre-wrap;\n",
       "    word-wrap: break-word;\n",
       "    word-break: break-all;\n",
       "    font-family: \"Source Code Pro\", \"Menlo\", monospace;;\n",
       "    font-size: 13px;\n",
       "    color: #555;\n",
       "    margin-left: 4px;\n",
       "    line-height: 19px;\n",
       "  }\n",
       "</style>\n",
       "<div class=\"ansiout\">WARNING:tensorflow:From /databricks/python/lib/python3.7/site-packages/tensorflow_core/python/ops/resource_variable_ops.py:1630: calling BaseResourceVariable.__init__ (from tensorflow.python.ops.resource_variable_ops) with constraint is deprecated and will be removed in a future version.\n",
       "Instructions for updating:\n",
       "If using Keras pass *_constraint arguments to layers.\n",
       "WARNING:tensorflow:From /databricks/python/lib/python3.7/site-packages/tensorflow_core/python/ops/losses/losses_impl.py:121: where (from tensorflow.python.ops.array_ops) is deprecated and will be removed in a future version.\n",
       "Instructions for updating:\n",
       "Use tf.where in 2.0, which has the same broadcast rule as np.where\n",
       "relation_extraction graph exported to ./re_with_BN\n",
       "</div>"
      ]
     },
     "metadata": {
      "application/vnd.databricks.v1+output": {
       "addedWidgets": {},
       "arguments": {},
       "data": "<div class=\"ansiout\">WARNING:tensorflow:From /databricks/python/lib/python3.7/site-packages/tensorflow_core/python/ops/resource_variable_ops.py:1630: calling BaseResourceVariable.__init__ (from tensorflow.python.ops.resource_variable_ops) with constraint is deprecated and will be removed in a future version.\nInstructions for updating:\nIf using Keras pass *_constraint arguments to layers.\nWARNING:tensorflow:From /databricks/python/lib/python3.7/site-packages/tensorflow_core/python/ops/losses/losses_impl.py:121: where (from tensorflow.python.ops.array_ops) is deprecated and will be removed in a future version.\nInstructions for updating:\nUse tf.where in 2.0, which has the same broadcast rule as np.where\nrelation_extraction graph exported to ./re_with_BN\n</div>",
       "datasetInfos": [],
       "removedWidgets": [],
       "type": "html"
      }
     },
     "output_type": "display_data"
    }
   ],
   "source": [
    "# if you need to customize the DL arcitecture (more layers, more features etc.)\n",
    "\n",
    "from sparknlp_jsl.training import tf_graph\n",
    "\n",
    "#%tensorflow_version 1.x\n",
    "\n",
    "tf_graph.build(\"relation_extraction\", build_params={\"input_dim\": 6000, \"output_dim\": 3, 'batch_norm':1, \"hidden_layers\": [300, 200], \"hidden_act\": \"relu\", 'hidden_act_l2':1}, model_location=\".\", model_filename=\"re_with_BN\")\n"
   ]
  },
  {
   "cell_type": "code",
   "execution_count": 0,
   "metadata": {
    "application/vnd.databricks.v1+cell": {
     "inputWidgets": {},
     "nuid": "4598f6ba-7e99-488c-b5ac-1ab15327cda4",
     "showTitle": false,
     "title": ""
    }
   },
   "outputs": [
    {
     "data": {
      "text/html": [
       "<style scoped>\n",
       "  .ansiout {\n",
       "    display: block;\n",
       "    unicode-bidi: embed;\n",
       "    white-space: pre-wrap;\n",
       "    word-wrap: break-word;\n",
       "    word-break: break-all;\n",
       "    font-family: \"Source Code Pro\", \"Menlo\", monospace;;\n",
       "    font-size: 13px;\n",
       "    color: #555;\n",
       "    margin-left: 4px;\n",
       "    line-height: 19px;\n",
       "  }\n",
       "</style>\n",
       "<div class=\"ansiout\">relation_extraction parameters.\n",
       "Parameter            Required   Default value        Description\n",
       "hidden_layers        no         [200]                List of integers indicating the size of each hidden layer. For example: [100, 200, 300].\n",
       "input_dim            yes        -                    Input dimension.\n",
       "output_dim           yes        -                    Output dimension.\n",
       "hidden_act           no         relu                 Activation function of hidden layers: relu, sigmoid, tanh or linear.\n",
       "hidden_act_l2        no         0                    L2 regularization of hidden layer activations. Boolean (0 or 1).\n",
       "hidden_weights_l2    no         0                    L2 regularization of hidden layer weights. Boolean (0 or 1).\n",
       "batch_norm           no         0                    Batch normalization. Boolean (0 or 1).\n",
       "</div>"
      ]
     },
     "metadata": {
      "application/vnd.databricks.v1+output": {
       "addedWidgets": {},
       "arguments": {},
       "data": "<div class=\"ansiout\">relation_extraction parameters.\nParameter            Required   Default value        Description\nhidden_layers        no         [200]                List of integers indicating the size of each hidden layer. For example: [100, 200, 300].\ninput_dim            yes        -                    Input dimension.\noutput_dim           yes        -                    Output dimension.\nhidden_act           no         relu                 Activation function of hidden layers: relu, sigmoid, tanh or linear.\nhidden_act_l2        no         0                    L2 regularization of hidden layer activations. Boolean (0 or 1).\nhidden_weights_l2    no         0                    L2 regularization of hidden layer weights. Boolean (0 or 1).\nbatch_norm           no         0                    Batch normalization. Boolean (0 or 1).\n</div>",
       "datasetInfos": [],
       "removedWidgets": [],
       "type": "html"
      }
     },
     "output_type": "display_data"
    }
   ],
   "source": [
    "tf_graph.print_model_params(\"relation_extraction\")"
   ]
  },
  {
   "cell_type": "code",
   "execution_count": 0,
   "metadata": {
    "application/vnd.databricks.v1+cell": {
     "inputWidgets": {},
     "nuid": "a16e0d9c-3d15-4cb2-b5e9-eacd0035fda5",
     "showTitle": false,
     "title": ""
    }
   },
   "outputs": [
    {
     "data": {
      "text/html": [
       "<style scoped>\n",
       "  .ansiout {\n",
       "    display: block;\n",
       "    unicode-bidi: embed;\n",
       "    white-space: pre-wrap;\n",
       "    word-wrap: break-word;\n",
       "    word-break: break-all;\n",
       "    font-family: \"Source Code Pro\", \"Menlo\", monospace;;\n",
       "    font-size: 13px;\n",
       "    color: #555;\n",
       "    margin-left: 4px;\n",
       "    line-height: 19px;\n",
       "  }\n",
       "</style>\n",
       "<div class=\"ansiout\">+--------------------+-------------+-------------+------------+------------+--------------------+--------------------+---------+---------+-----+-------+\n",
       "            sentence|firstCharEnt1|firstCharEnt2|lastCharEnt1|lastCharEnt2|              chunk1|              chunk2|   label1|   label2|  rel|dataset|\n",
       "+--------------------+-------------+-------------+------------+------------+--------------------+--------------------+---------+---------+-----+-------+\n",
       "VITAL SIGNS - Tem...|           49|           75|          64|          84|    respiratory rate|          saturation|     test|     test|    O|   test|\n",
       "No lotions , crea...|            3|           34|           9|          42|             lotions|           incisions|treatment|  problem|TrNAP|   test|\n",
       "Because of expect...|           11|           58|          54|          68|expected long ter...|         a picc line|treatment|treatment|    O|  train|\n",
       "She states this l...|           16|           82|          31|          92|    light-headedness|         diaphoresis|  problem|  problem|  PIP|  train|\n",
       "Initial electroca...|          196|          145|         239|         176|an inferior and r...|1-mm st depressio...|  problem|  problem|  PIP|   test|\n",
       "Abdominal ultraso...|            1|           54|          20|          71|abdominal ultrasound|  gallbladder sludge|     test|  problem| TeRP|   test|\n",
       "At that time he w...|           99|          139|         133|         173|ir placement of a...|his abdominopelvi...|treatment|  problem| TrAP|   test|\n",
       "He was transferre...|          143|          195|         154|         213|        reintubation| worsening pneumonia|treatment|  problem| TrAP|   test|\n",
       "5) Anemia - previ...|           12|           35|          23|          47|        previous w/u|       elev ferritin|     test|  problem| TeRP|   test|\n",
       "The patient &amp;apos...|          161|          149|         179|         156| po pain medications|            his pain|treatment|  problem| TrAP|  train|\n",
       "+--------------------+-------------+-------------+------------+------------+--------------------+--------------------+---------+---------+-----+-------+\n",
       "only showing top 10 rows\n",
       "\n",
       "</div>"
      ]
     },
     "metadata": {
      "application/vnd.databricks.v1+output": {
       "addedWidgets": {},
       "arguments": {},
       "data": "<div class=\"ansiout\">+--------------------+-------------+-------------+------------+------------+--------------------+--------------------+---------+---------+-----+-------+\n|            sentence|firstCharEnt1|firstCharEnt2|lastCharEnt1|lastCharEnt2|              chunk1|              chunk2|   label1|   label2|  rel|dataset|\n+--------------------+-------------+-------------+------------+------------+--------------------+--------------------+---------+---------+-----+-------+\n|VITAL SIGNS - Tem...|           49|           75|          64|          84|    respiratory rate|          saturation|     test|     test|    O|   test|\n|No lotions , crea...|            3|           34|           9|          42|             lotions|           incisions|treatment|  problem|TrNAP|   test|\n|Because of expect...|           11|           58|          54|          68|expected long ter...|         a picc line|treatment|treatment|    O|  train|\n|She states this l...|           16|           82|          31|          92|    light-headedness|         diaphoresis|  problem|  problem|  PIP|  train|\n|Initial electroca...|          196|          145|         239|         176|an inferior and r...|1-mm st depressio...|  problem|  problem|  PIP|   test|\n|Abdominal ultraso...|            1|           54|          20|          71|abdominal ultrasound|  gallbladder sludge|     test|  problem| TeRP|   test|\n|At that time he w...|           99|          139|         133|         173|ir placement of a...|his abdominopelvi...|treatment|  problem| TrAP|   test|\n|He was transferre...|          143|          195|         154|         213|        reintubation| worsening pneumonia|treatment|  problem| TrAP|   test|\n|5) Anemia - previ...|           12|           35|          23|          47|        previous w/u|       elev ferritin|     test|  problem| TeRP|   test|\n|The patient &amp;apos...|          161|          149|         179|         156| po pain medications|            his pain|treatment|  problem| TrAP|  train|\n+--------------------+-------------+-------------+------------+------------+--------------------+--------------------+---------+---------+-----+-------+\nonly showing top 10 rows\n\n</div>",
       "datasetInfos": [],
       "removedWidgets": [],
       "type": "html"
      }
     },
     "output_type": "display_data"
    }
   ],
   "source": [
    "data = spark.read.option(\"header\",\"true\").format(\"csv\").load(\"/i2b2_clinical_rel_dataset.csv\")\n",
    "\n",
    "data = data.select( 'sentence','firstCharEnt1','firstCharEnt2','lastCharEnt1','lastCharEnt2', \"chunk1\", \"chunk2\", \"label1\", \"label2\",'rel','dataset')\n",
    "\n",
    "data.show(10)\n",
    "\n",
    "# you only need these columns>> 'sentence','firstCharEnt1','firstCharEnt2','lastCharEnt1','lastCharEnt2', \"chunk1\", \"chunk2\", \"label1\", \"label2\",'rel'\n",
    "# ('dataset' column is optional)"
   ]
  },
  {
   "cell_type": "code",
   "execution_count": 0,
   "metadata": {
    "application/vnd.databricks.v1+cell": {
     "inputWidgets": {},
     "nuid": "7d1515a9-ee55-42c1-8d30-731e51ba2cc2",
     "showTitle": false,
     "title": ""
    }
   },
   "outputs": [
    {
     "data": {
      "text/html": [
       "<style scoped>\n",
       "  .ansiout {\n",
       "    display: block;\n",
       "    unicode-bidi: embed;\n",
       "    white-space: pre-wrap;\n",
       "    word-wrap: break-word;\n",
       "    word-break: break-all;\n",
       "    font-family: \"Source Code Pro\", \"Menlo\", monospace;;\n",
       "    font-size: 13px;\n",
       "    color: #555;\n",
       "    margin-left: 4px;\n",
       "    line-height: 19px;\n",
       "  }\n",
       "</style>\n",
       "<div class=\"ansiout\">+-------+-----+\n",
       "dataset|count|\n",
       "+-------+-----+\n",
       "  train|  350|\n",
       "   test|  650|\n",
       "+-------+-----+\n",
       "\n",
       "</div>"
      ]
     },
     "metadata": {
      "application/vnd.databricks.v1+output": {
       "addedWidgets": {},
       "arguments": {},
       "data": "<div class=\"ansiout\">+-------+-----+\n|dataset|count|\n+-------+-----+\n|  train|  350|\n|   test|  650|\n+-------+-----+\n\n</div>",
       "datasetInfos": [],
       "removedWidgets": [],
       "type": "html"
      }
     },
     "output_type": "display_data"
    }
   ],
   "source": [
    "data.groupby('dataset').count().show()"
   ]
  },
  {
   "cell_type": "code",
   "execution_count": 0,
   "metadata": {
    "application/vnd.databricks.v1+cell": {
     "inputWidgets": {},
     "nuid": "2955191e-6472-4ff9-9189-9f0e9e1298ca",
     "showTitle": false,
     "title": ""
    }
   },
   "outputs": [
    {
     "data": {
      "text/html": [
       "<style scoped>\n",
       "  .ansiout {\n",
       "    display: block;\n",
       "    unicode-bidi: embed;\n",
       "    white-space: pre-wrap;\n",
       "    word-wrap: break-word;\n",
       "    word-break: break-all;\n",
       "    font-family: \"Source Code Pro\", \"Menlo\", monospace;;\n",
       "    font-size: 13px;\n",
       "    color: #555;\n",
       "    margin-left: 4px;\n",
       "    line-height: 19px;\n",
       "  }\n",
       "</style>\n",
       "<div class=\"ansiout\"></div>"
      ]
     },
     "metadata": {
      "application/vnd.databricks.v1+output": {
       "addedWidgets": {},
       "arguments": {},
       "data": "<div class=\"ansiout\"></div>",
       "datasetInfos": [],
       "removedWidgets": [],
       "type": "html"
      }
     },
     "output_type": "display_data"
    }
   ],
   "source": [
    "#Annotation structure\n",
    "annotationType = T.StructType([\n",
    "            T.StructField('annotatorType', T.StringType(), False),\n",
    "            T.StructField('begin', T.IntegerType(), False),\n",
    "            T.StructField('end', T.IntegerType(), False),\n",
    "            T.StructField('result', T.StringType(), False),\n",
    "            T.StructField('metadata', T.MapType(T.StringType(), T.StringType()), False),\n",
    "            T.StructField('embeddings', T.ArrayType(T.FloatType()), False)\n",
    "        ])\n",
    "\n",
    "#UDF function to convert train data to names entitities\n",
    "\n",
    "@F.udf(T.ArrayType(annotationType))\n",
    "def createTrainAnnotations(begin1, end1, begin2, end2, chunk1, chunk2, label1, label2):\n",
    "    \n",
    "    entity1 = sparknlp.annotation.Annotation(\"chunk\", begin1, end1, chunk1, {'entity': label1.upper(), 'sentence': '0'}, [])\n",
    "    entity2 = sparknlp.annotation.Annotation(\"chunk\", begin2, end2, chunk2, {'entity': label2.upper(), 'sentence': '0'}, [])    \n",
    "        \n",
    "    entity1.annotatorType = \"chunk\"\n",
    "    entity2.annotatorType = \"chunk\"\n",
    "\n",
    "    return [entity1, entity2]    \n",
    "\n",
    "#list of valid relations\n",
    "rels = [\"TrIP\", \"TrAP\", \"TeCP\", \"TrNAP\", \"TrCP\", \"PIP\", \"TrWP\", \"TeRP\"]\n",
    "\n",
    "#a query to select list of valid relations\n",
    "valid_rel_query = \"(\" + \" OR \".join([\"rel = '{}'\".format(rel) for rel in rels]) + \")\"\n",
    "\n",
    "data = data\\\n",
    "  .withColumn(\"begin1i\", F.expr(\"cast(firstCharEnt1 AS Int)\"))\\\n",
    "  .withColumn(\"end1i\", F.expr(\"cast(lastCharEnt1 AS Int)\"))\\\n",
    "  .withColumn(\"begin2i\", F.expr(\"cast(firstCharEnt2 AS Int)\"))\\\n",
    "  .withColumn(\"end2i\", F.expr(\"cast(lastCharEnt2 AS Int)\"))\\\n",
    "  .where(\"begin1i IS NOT NULL\")\\\n",
    "  .where(\"end1i IS NOT NULL\")\\\n",
    "  .where(\"begin2i IS NOT NULL\")\\\n",
    "  .where(\"end2i IS NOT NULL\")\\\n",
    "  .where(valid_rel_query)\\\n",
    "  .withColumn(\n",
    "      \"train_ner_chunks\", \n",
    "      createTrainAnnotations(\n",
    "          \"begin1i\", \"end1i\", \"begin2i\", \"end2i\", \"chunk1\", \"chunk2\", \"label1\", \"label2\"\n",
    "      ).alias(\"train_ner_chunks\", metadata={'annotatorType': \"chunk\"}))\n",
    "    \n",
    "\n",
    "train_data = data.where(\"dataset='train'\")\n",
    "test_data = data.where(\"dataset='test'\")"
   ]
  },
  {
   "cell_type": "code",
   "execution_count": 0,
   "metadata": {
    "application/vnd.databricks.v1+cell": {
     "inputWidgets": {},
     "nuid": "df36a0d3-c222-4085-9c31-d5dba525b01a",
     "showTitle": false,
     "title": ""
    }
   },
   "outputs": [
    {
     "data": {
      "text/html": [
       "<style scoped>\n",
       "  .ansiout {\n",
       "    display: block;\n",
       "    unicode-bidi: embed;\n",
       "    white-space: pre-wrap;\n",
       "    word-wrap: break-word;\n",
       "    word-break: break-all;\n",
       "    font-family: \"Source Code Pro\", \"Menlo\", monospace;;\n",
       "    font-size: 13px;\n",
       "    color: #555;\n",
       "    margin-left: 4px;\n",
       "    line-height: 19px;\n",
       "  }\n",
       "</style>\n",
       "<div class=\"ansiout\">--2021-05-01 14:59:50--  https://raw.githubusercontent.com/JohnSnowLabs/spark-nlp-workshop/master/tutorials/Certification_Trainings/Healthcare/generic_classifier_graph/RE_in1200D_out20.pb\r\n",
       "Resolving raw.githubusercontent.com (raw.githubusercontent.com)... 185.199.109.133, 185.199.110.133, 185.199.111.133, ...\r\n",
       "Connecting to raw.githubusercontent.com (raw.githubusercontent.com)|185.199.109.133|:443... connected.\r\n",
       "HTTP request sent, awaiting response... 200 OK\r\n",
       "Length: 135162 (132K) [application/octet-stream]\r\n",
       "Saving to: ‘RE_in1200D_out20.pb’\r\n",
       "\r\n",
       "\r",
       "RE_in1200D_out20.pb   0%[                    ]       0  --.-KB/s               \r",
       "RE_in1200D_out20.pb 100%[===================&gt;] 131.99K  --.-KB/s    in 0.02s   \r\n",
       "\r\n",
       "2021-05-01 14:59:50 (6.95 MB/s) - ‘RE_in1200D_out20.pb’ saved [135162/135162]\r\n",
       "\r\n",
       "</div>"
      ]
     },
     "metadata": {
      "application/vnd.databricks.v1+output": {
       "addedWidgets": {},
       "arguments": {},
       "data": "<div class=\"ansiout\">--2021-05-01 14:59:50--  https://raw.githubusercontent.com/JohnSnowLabs/spark-nlp-workshop/master/tutorials/Certification_Trainings/Healthcare/generic_classifier_graph/RE_in1200D_out20.pb\r\nResolving raw.githubusercontent.com (raw.githubusercontent.com)... 185.199.109.133, 185.199.110.133, 185.199.111.133, ...\r\nConnecting to raw.githubusercontent.com (raw.githubusercontent.com)|185.199.109.133|:443... connected.\r\nHTTP request sent, awaiting response... 200 OK\r\nLength: 135162 (132K) [application/octet-stream]\r\nSaving to: ‘RE_in1200D_out20.pb’\r\n\r\n\rRE_in1200D_out20.pb   0%[                    ]       0  --.-KB/s               \rRE_in1200D_out20.pb 100%[===================&gt;] 131.99K  --.-KB/s    in 0.02s   \r\n\r\n2021-05-01 14:59:50 (6.95 MB/s) - ‘RE_in1200D_out20.pb’ saved [135162/135162]\r\n\r\n</div>",
       "datasetInfos": [],
       "removedWidgets": [],
       "type": "html"
      }
     },
     "output_type": "display_data"
    }
   ],
   "source": [
    "!wget https://raw.githubusercontent.com/JohnSnowLabs/spark-nlp-workshop/master/tutorials/Certification_Trainings/Healthcare/generic_classifier_graph/RE_in1200D_out20.pb"
   ]
  },
  {
   "cell_type": "code",
   "execution_count": 0,
   "metadata": {
    "application/vnd.databricks.v1+cell": {
     "inputWidgets": {},
     "nuid": "0ca428ee-bf8f-41c3-96d1-be15ee16ac39",
     "showTitle": false,
     "title": ""
    }
   },
   "outputs": [
    {
     "data": {
      "text/html": [
       "<style scoped>\n",
       "  .ansiout {\n",
       "    display: block;\n",
       "    unicode-bidi: embed;\n",
       "    white-space: pre-wrap;\n",
       "    word-wrap: break-word;\n",
       "    word-break: break-all;\n",
       "    font-family: \"Source Code Pro\", \"Menlo\", monospace;;\n",
       "    font-size: 13px;\n",
       "    color: #555;\n",
       "    margin-left: 4px;\n",
       "    line-height: 19px;\n",
       "  }\n",
       "</style>\n",
       "<div class=\"ansiout\">embeddings_clinical download started this may take some time.\n",
       "Approximate size to download 1.6 GB\n",
       "\r",
       "[ | ]\r",
       "[OK!]\n",
       "pos_clinical download started this may take some time.\n",
       "Approximate size to download 1.5 MB\n",
       "\r",
       "[ | ]\r",
       "[OK!]\n",
       "dependency_conllu download started this may take some time.\n",
       "Approximate size to download 16.7 MB\n",
       "\r",
       "[ | ]\r",
       "[OK!]\n",
       "</div>"
      ]
     },
     "metadata": {
      "application/vnd.databricks.v1+output": {
       "addedWidgets": {},
       "arguments": {},
       "data": "<div class=\"ansiout\">embeddings_clinical download started this may take some time.\nApproximate size to download 1.6 GB\n\r[ | ]\r[OK!]\npos_clinical download started this may take some time.\nApproximate size to download 1.5 MB\n\r[ | ]\r[OK!]\ndependency_conllu download started this may take some time.\nApproximate size to download 16.7 MB\n\r[ | ]\r[OK!]\n</div>",
       "datasetInfos": [],
       "removedWidgets": [],
       "type": "html"
      }
     },
     "output_type": "display_data"
    }
   ],
   "source": [
    "documenter = sparknlp.DocumentAssembler()\\\n",
    "    .setInputCol(\"sentence\")\\\n",
    "    .setOutputCol(\"sentences\")\n",
    "\n",
    "tokenizer = sparknlp.annotators.Tokenizer()\\\n",
    "    .setInputCols([\"sentences\"])\\\n",
    "    .setOutputCol(\"tokens\")\\\n",
    "\n",
    "words_embedder = WordEmbeddingsModel()\\\n",
    "    .pretrained(\"embeddings_clinical\", \"en\", \"clinical/models\")\\\n",
    "    .setInputCols([\"sentences\", \"tokens\"])\\\n",
    "    .setOutputCol(\"embeddings\")\n",
    "\n",
    "pos_tagger = PerceptronModel()\\\n",
    "    .pretrained(\"pos_clinical\", \"en\", \"clinical/models\") \\\n",
    "    .setInputCols([\"sentences\", \"tokens\"])\\\n",
    "    .setOutputCol(\"pos_tags\")\n",
    "    \n",
    "dependency_parser = sparknlp.annotators.DependencyParserModel()\\\n",
    "    .pretrained(\"dependency_conllu\", \"en\")\\\n",
    "    .setInputCols([\"sentences\", \"pos_tags\", \"tokens\"])\\\n",
    "    .setOutputCol(\"dependencies\")\n",
    "\n",
    "# set training params and upload model graph (see ../Healthcare/8.Generic_Classifier.ipynb)\n",
    "reApproach = sparknlp_jsl.annotator.RelationExtractionApproach()\\\n",
    "    .setInputCols([\"embeddings\", \"pos_tags\", \"train_ner_chunks\", \"dependencies\"])\\\n",
    "    .setOutputCol(\"relations\")\\\n",
    "    .setLabelColumn(\"rel\")\\\n",
    "    .setEpochsNumber(50)\\\n",
    "    .setBatchSize(200)\\\n",
    "    .setDropout(0.5)\\\n",
    "    .setLearningRate(0.001)\\\n",
    "    .setModelFile(\"RE_in1200D_out20.pb\")\\\n",
    "    .setFixImbalance(True)\\\n",
    "    .setFromEntity(\"begin1i\", \"end1i\", \"label1\")\\\n",
    "    .setToEntity(\"begin2i\", \"end2i\", \"label2\")\\\n",
    "    .setOutputLogsPath('/content')\n",
    "\n",
    "finisher = sparknlp.Finisher()\\\n",
    "    .setInputCols([\"relations\"])\\\n",
    "    .setOutputCols([\"relations_out\"])\\\n",
    "    .setCleanAnnotations(False)\\\n",
    "    .setValueSplitSymbol(\",\")\\\n",
    "    .setAnnotationSplitSymbol(\",\")\\\n",
    "    .setOutputAsArray(False)\n",
    "\n",
    "train_pipeline = Pipeline(stages=[\n",
    "    documenter, tokenizer, words_embedder, pos_tagger, \n",
    "    dependency_parser, reApproach, finisher\n",
    "])"
   ]
  },
  {
   "cell_type": "code",
   "execution_count": 0,
   "metadata": {
    "application/vnd.databricks.v1+cell": {
     "inputWidgets": {},
     "nuid": "14874dbf-ad68-44ab-b130-0a522124e255",
     "showTitle": false,
     "title": ""
    }
   },
   "outputs": [
    {
     "data": {
      "text/html": [
       "<style scoped>\n",
       "  .ansiout {\n",
       "    display: block;\n",
       "    unicode-bidi: embed;\n",
       "    white-space: pre-wrap;\n",
       "    word-wrap: break-word;\n",
       "    word-break: break-all;\n",
       "    font-family: \"Source Code Pro\", \"Menlo\", monospace;;\n",
       "    font-size: 13px;\n",
       "    color: #555;\n",
       "    margin-left: 4px;\n",
       "    line-height: 19px;\n",
       "  }\n",
       "</style>\n",
       "<div class=\"ansiout\"></div>"
      ]
     },
     "metadata": {
      "application/vnd.databricks.v1+output": {
       "addedWidgets": {},
       "arguments": {},
       "data": "<div class=\"ansiout\"></div>",
       "datasetInfos": [],
       "removedWidgets": [],
       "type": "html"
      }
     },
     "output_type": "display_data"
    }
   ],
   "source": [
    "rel_model = train_pipeline.fit(train_data)"
   ]
  },
  {
   "cell_type": "code",
   "execution_count": 0,
   "metadata": {
    "application/vnd.databricks.v1+cell": {
     "inputWidgets": {},
     "nuid": "509e3b00-a43d-4928-80cb-d1828d43b89d",
     "showTitle": false,
     "title": ""
    }
   },
   "outputs": [
    {
     "data": {
      "text/html": [
       "<style scoped>\n",
       "  .ansiout {\n",
       "    display: block;\n",
       "    unicode-bidi: embed;\n",
       "    white-space: pre-wrap;\n",
       "    word-wrap: break-word;\n",
       "    word-break: break-all;\n",
       "    font-family: \"Source Code Pro\", \"Menlo\", monospace;;\n",
       "    font-size: 13px;\n",
       "    color: #555;\n",
       "    margin-left: 4px;\n",
       "    line-height: 19px;\n",
       "  }\n",
       "</style>\n",
       "<div class=\"ansiout\">Out[67]: RelationExtractionModel_26c80a52ab98</div>"
      ]
     },
     "metadata": {
      "application/vnd.databricks.v1+output": {
       "addedWidgets": {},
       "arguments": {},
       "data": "<div class=\"ansiout\">Out[67]: RelationExtractionModel_26c80a52ab98</div>",
       "datasetInfos": [],
       "removedWidgets": [],
       "type": "html"
      }
     },
     "output_type": "display_data"
    }
   ],
   "source": [
    "rel_model.stages[-2]"
   ]
  },
  {
   "cell_type": "code",
   "execution_count": 0,
   "metadata": {
    "application/vnd.databricks.v1+cell": {
     "inputWidgets": {},
     "nuid": "53f9ddf8-fb32-4f46-949f-6d5524bd1d52",
     "showTitle": false,
     "title": ""
    }
   },
   "outputs": [
    {
     "data": {
      "text/html": [
       "<style scoped>\n",
       "  .ansiout {\n",
       "    display: block;\n",
       "    unicode-bidi: embed;\n",
       "    white-space: pre-wrap;\n",
       "    word-wrap: break-word;\n",
       "    word-break: break-all;\n",
       "    font-family: \"Source Code Pro\", \"Menlo\", monospace;;\n",
       "    font-size: 13px;\n",
       "    color: #555;\n",
       "    margin-left: 4px;\n",
       "    line-height: 19px;\n",
       "  }\n",
       "</style>\n",
       "<div class=\"ansiout\"></div>"
      ]
     },
     "metadata": {
      "application/vnd.databricks.v1+output": {
       "addedWidgets": {},
       "arguments": {},
       "data": "<div class=\"ansiout\"></div>",
       "datasetInfos": [],
       "removedWidgets": [],
       "type": "html"
      }
     },
     "output_type": "display_data"
    }
   ],
   "source": [
    "rel_model.stages[-2].write().overwrite().save(\"dbfs:/databricks/driver/models/custom_RE_model\")"
   ]
  },
  {
   "cell_type": "code",
   "execution_count": 0,
   "metadata": {
    "application/vnd.databricks.v1+cell": {
     "inputWidgets": {},
     "nuid": "15e6509f-058e-4814-b684-0e8751f35b38",
     "showTitle": false,
     "title": ""
    }
   },
   "outputs": [
    {
     "data": {
      "text/html": [
       "<style scoped>\n",
       "  .ansiout {\n",
       "    display: block;\n",
       "    unicode-bidi: embed;\n",
       "    white-space: pre-wrap;\n",
       "    word-wrap: break-word;\n",
       "    word-break: break-all;\n",
       "    font-family: \"Source Code Pro\", \"Menlo\", monospace;;\n",
       "    font-size: 13px;\n",
       "    color: #555;\n",
       "    margin-left: 4px;\n",
       "    line-height: 19px;\n",
       "  }\n",
       "</style>\n",
       "<div class=\"ansiout\"></div>"
      ]
     },
     "metadata": {
      "application/vnd.databricks.v1+output": {
       "addedWidgets": {},
       "arguments": {},
       "data": "<div class=\"ansiout\"></div>",
       "datasetInfos": [],
       "removedWidgets": [],
       "type": "html"
      }
     },
     "output_type": "display_data"
    }
   ],
   "source": [
    "result = rel_model.transform(test_data)"
   ]
  },
  {
   "cell_type": "code",
   "execution_count": 0,
   "metadata": {
    "application/vnd.databricks.v1+cell": {
     "inputWidgets": {},
     "nuid": "c84f2071-e3a4-4485-92e9-cd09cf1b11ec",
     "showTitle": false,
     "title": ""
    }
   },
   "outputs": [
    {
     "data": {
      "text/html": [
       "<style scoped>\n",
       "  .ansiout {\n",
       "    display: block;\n",
       "    unicode-bidi: embed;\n",
       "    white-space: pre-wrap;\n",
       "    word-wrap: break-word;\n",
       "    word-break: break-all;\n",
       "    font-family: \"Source Code Pro\", \"Menlo\", monospace;;\n",
       "    font-size: 13px;\n",
       "    color: #555;\n",
       "    margin-left: 4px;\n",
       "    line-height: 19px;\n",
       "  }\n",
       "</style>\n",
       "<div class=\"ansiout\">+--------+------+\n",
       "relation|recall|\n",
       "+--------+------+\n",
       "    TrIP|  0.09|\n",
       "    TrAP|  0.43|\n",
       "    TeCP|  0.13|\n",
       "   TrNAP|  0.11|\n",
       "    TrCP|  0.45|\n",
       "     PIP|  0.62|\n",
       "    TrWP|  0.00|\n",
       "    TeRP|  0.81|\n",
       "+--------+------+\n",
       "\n",
       "+--------+---------+\n",
       "relation|precision|\n",
       "+--------+---------+\n",
       "    TrIP|     1.00|\n",
       "    TrAP|     0.87|\n",
       "    TeCP|     0.25|\n",
       "   TrNAP|     0.12|\n",
       "    TrCP|     0.20|\n",
       "     PIP|     0.86|\n",
       "    TeRP|     0.79|\n",
       "+--------+---------+\n",
       "\n",
       "</div>"
      ]
     },
     "metadata": {
      "application/vnd.databricks.v1+output": {
       "addedWidgets": {},
       "arguments": {},
       "data": "<div class=\"ansiout\">+--------+------+\n|relation|recall|\n+--------+------+\n|    TrIP|  0.09|\n|    TrAP|  0.43|\n|    TeCP|  0.13|\n|   TrNAP|  0.11|\n|    TrCP|  0.45|\n|     PIP|  0.62|\n|    TrWP|  0.00|\n|    TeRP|  0.81|\n+--------+------+\n\n+--------+---------+\n|relation|precision|\n+--------+---------+\n|    TrIP|     1.00|\n|    TrAP|     0.87|\n|    TeCP|     0.25|\n|   TrNAP|     0.12|\n|    TrCP|     0.20|\n|     PIP|     0.86|\n|    TeRP|     0.79|\n+--------+---------+\n\n</div>",
       "datasetInfos": [],
       "removedWidgets": [],
       "type": "html"
      }
     },
     "output_type": "display_data"
    }
   ],
   "source": [
    "recall = result\\\n",
    "  .groupBy(\"rel\")\\\n",
    "  .agg(F.avg(F.expr(\"IF(rel = relations_out, 1, 0)\")).alias(\"recall\"))\\\n",
    "  .select(\n",
    "      F.col(\"rel\").alias(\"relation\"), \n",
    "      F.format_number(\"recall\", 2).alias(\"recall\"))\\\n",
    "  .show()\n",
    "\n",
    "performance  = result\\\n",
    "  .where(\"relations_out <> ''\")\\\n",
    "  .groupBy(\"relations_out\")\\\n",
    "  .agg(F.avg(F.expr(\"IF(rel = relations_out, 1, 0)\")).alias(\"precision\"))\\\n",
    "  .select(\n",
    "      F.col(\"relations_out\").alias(\"relation\"), \n",
    "      F.format_number(\"precision\", 2).alias(\"precision\"))\\\n",
    "  .show()"
   ]
  },
  {
   "cell_type": "code",
   "execution_count": 0,
   "metadata": {
    "application/vnd.databricks.v1+cell": {
     "inputWidgets": {},
     "nuid": "186a6f32-c16a-4d3f-b4ad-ad7c75ba70ed",
     "showTitle": false,
     "title": ""
    }
   },
   "outputs": [
    {
     "data": {
      "text/html": [
       "<style scoped>\n",
       "  .ansiout {\n",
       "    display: block;\n",
       "    unicode-bidi: embed;\n",
       "    white-space: pre-wrap;\n",
       "    word-wrap: break-word;\n",
       "    word-break: break-all;\n",
       "    font-family: \"Source Code Pro\", \"Menlo\", monospace;;\n",
       "    font-size: 13px;\n",
       "    color: #555;\n",
       "    margin-left: 4px;\n",
       "    line-height: 19px;\n",
       "  }\n",
       "</style>\n",
       "<div class=\"ansiout\">+--------+---------+-------------+-----------+----------------------------------------------------------+-------+-------------+-----------+-----------------------------------------------------------+----------+\n",
       "relation|  entity1|entity1_begin|entity1_end|                                                    chunk1|entity2|entity2_begin|entity2_end|                                                     chunk2|confidence|\n",
       "+--------+---------+-------------+-----------+----------------------------------------------------------+-------+-------------+-----------+-----------------------------------------------------------+----------+\n",
       "     PIP|  PROBLEM|          196|        239|              an inferior and right ventricular infarction|PROBLEM|          145|        176|                           1-mm st depressions in i and avl| 0.9462602|\n",
       "    TeRP|     TEST|            1|         20|                                      abdominal ultrasound|PROBLEM|           54|         71|                                         gallbladder sludge| 0.9338774|\n",
       "    TrAP|TREATMENT|           99|        133|                       ir placement of a drainage catheter|PROBLEM|          139|        173|                        his abdominopelvic fluid collection| 0.5481467|\n",
       "    TrCP|TREATMENT|          143|        154|                                              reintubation|PROBLEM|          195|        213|                                        worsening pneumonia| 0.5675494|\n",
       "    TeRP|     TEST|            1|         10|                                                urinalysis|PROBLEM|           72|         95|                                   positive red blood cells| 0.8988079|\n",
       "    TeRP|     TEST|            1|         13|                                             a colonoscopy|PROBLEM|           44|         51|                                                   bleeding|0.91141194|\n",
       "    TeRP|     TEST|            1|          8|                                                  a ct abd|PROBLEM|           16|         36|                                      8mm obstructing stone|0.99808025|\n",
       "    TeRP|     TEST|            1|          9|                                                 pathology|PROBLEM|           19|         77|poorly differentiated squamous cell carcinoma of the cervix| 0.9989034|\n",
       "    TeRP|     TEST|            1|         14|                                            urine cultures|PROBLEM|           36|         49|                                             klebsiella uti| 0.5196485|\n",
       "    TeRP|TREATMENT|           71|         81|                                               an endoclip|PROBLEM|            1|         13|                                              a small polyp| 0.6164761|\n",
       "    TeRP|     TEST|           54|         65|                                              auscultation|PROBLEM|           21|         31|                                                rhonchorous| 0.7435846|\n",
       "    TrAP|TREATMENT|           96|         99|                                                      cpap|PROBLEM|           57|         76|                                       abdominal distention| 0.7245181|\n",
       "    TeCP|     TEST|           22|         44|                                   cardiac catheterization|PROBLEM|           75|        103|                              a 20% left vein osteal lesion| 0.6037779|\n",
       "     PIP|  PROBLEM|           21|         26|                                                    sepsis|PROBLEM|           46|         51|                                                     fevers|   0.52195|\n",
       "    TrCP|TREATMENT|          101|        121|                                     systemic chemotherapy|PROBLEM|           71|         79|                                                  her tumor| 0.9083091|\n",
       "    TeRP|     TEST|           21|         34|                                            follow-up echo|PROBLEM|          131|        139|                                                  tamponade|0.84236175|\n",
       "    TeRP|  PROBLEM|           70|         89|                                      right hydronephrosis|PROBLEM|            3|         52|         an 8 x 7 x 7 mm stone in the proximal right ureter|0.86757195|\n",
       "    TrCP|TREATMENT|           63|         75|                                             the procedure|PROBLEM|           17|         36|                                       any untoward affects|0.52381307|\n",
       "     PIP|  PROBLEM|           50|         73|                                  polyendocrine deficiency|PROBLEM|          112|        113|                                                         dm|0.75836533|\n",
       "    TrCP|TREATMENT|           87|        100|                                            phenothiazides|PROBLEM|          115|        125|                                                jitteryness| 0.7936164|\n",
       "    TrAP|TREATMENT|           10|         15|                                                    repair|PROBLEM|           20|         32|                                              neck fracture| 0.6098272|\n",
       "    TrCP|TREATMENT|           36|         85|        percutaneous endoscopic gastrostomy tube placement|PROBLEM|            3|         22|                                       failed swallow study| 0.9943507|\n",
       "    TrCP|TREATMENT|           40|         85|            postradical cystoprostatectomy with ileal loop|PROBLEM|           91|        122|                           locally invasive prostate cancer| 0.8610742|\n",
       "    TrAP|TREATMENT|           90|         99|                                                management|PROBLEM|          104|        129|                                 her pulmonary hypertension| 0.9204771|\n",
       "     PIP|  PROBLEM|           54|         81|                              paroxysmal nocturnal dyspnea|PROBLEM|           14|         48|                        a new two to three-pillow orthopnea| 0.8935107|\n",
       "    TeRP|     TEST|           38|         58|                                     previous examinations|PROBLEM|            1|         15|                                            this ecchymosis|0.55237454|\n",
       "    TeRP|     TEST|            1|         14|                                            the ultrasound|PROBLEM|           22|         35|                                             biliary sludge| 0.9969952|\n",
       "    TeRP|  PROBLEM|            1|         17|                                         the complications|PROBLEM|           64|         80|                                          pulmonary embolus|0.50607383|\n",
       "     PIP|  PROBLEM|           17|         29|                                             this headache|PROBLEM|           34|         51|                                         the worst headache| 0.6924926|\n",
       "    TrAP|TREATMENT|           14|         20|                                                   removal|PROBLEM|           25|         33|                                                  cbd stone| 0.6815364|\n",
       "     PIP|  PROBLEM|          166|        223|posterior cerebral artery distribution cerebral infarction|PROBLEM|          230|        240|                                                mass effect| 0.7343001|\n",
       "    TrCP|  PROBLEM|           69|         77|                                                 allergies|PROBLEM|          104|        108|                                                      hives| 0.8534024|\n",
       "    TrCP|TREATMENT|           22|         37|                                          the hickman site|PROBLEM|            8|         15|                                                   bleeding| 0.9550033|\n",
       "    TeRP|     TEST|           10|         18|                                                 the study|PROBLEM|          112|        132|                                      a cecal cystic lesion| 0.7843951|\n",
       "    TeRP|     TEST|            8|         32|                                 a cardiac catheterization|PROBLEM|           49|         64|                                           3-vessel disease|0.67613006|\n",
       "     PIP|  PROBLEM|           35|         40|                                                    a boil|PROBLEM|           47|         49|                                                        pus| 0.8324577|\n",
       "    TrCP|     TEST|           79|        101|                                   frozen section analysis|PROBLEM|           70|         74|                                                      tumor| 0.8540922|\n",
       "    TrAP|TREATMENT|          240|        251|                                              levofloxacin|PROBLEM|          341|        362|                                     acanthamoeba sinusitis|0.58062047|\n",
       "   TrNAP|TREATMENT|           45|         54|                                                vancomycin|PROBLEM|          149|        190|                 enteric and non-enteric gram negative rods| 0.5554328|\n",
       "    TeRP|     TEST|           25|         33|                                                 a vq scan|PROBLEM|           91|         92|                                                         pe| 0.6820267|\n",
       "    TeRP|     TEST|           17|         31|                                           mediastinoscopy|PROBLEM|          185|        195|                                                anthracosis|0.92742723|\n",
       "     PIP|  PROBLEM|           55|         96|                an additional dysfunction on the left side|PROBLEM|          109|        140|                           wide-spread cortical dysfunction|0.96879345|\n",
       "    TeRP|     TEST|            1|          3|                                                       ekg|PROBLEM|           86|        109|                                   early r wave progression| 0.9009686|\n",
       "    TeRP|     TEST|            1|          3|                                                       mri|PROBLEM|           44|         79|                       sz effects in the left temporal lobe|0.97623116|\n",
       "     PIP|  PROBLEM|           46|         49|                                                      pain|PROBLEM|           64|         74|                                                her problem| 0.8208642|\n",
       "     PIP|  PROBLEM|          138|        171|                        anteroseptal myocardial infarction|PROBLEM|           93|        112|                                       q waves in leads iii| 0.9051841|\n",
       "    TeRP|     TEST|            1|          3|                                                       ekg|PROBLEM|           80|         97|                                         very small p waves|0.85544217|\n",
       "     PIP|  PROBLEM|           62|         78|                                         myasthenia gravis|PROBLEM|          106|        112|                                                    thymoma| 0.8490268|\n",
       "    TeRP|     TEST|            1|          4|                                                      echo|PROBLEM|           48|         49|                                                         mr| 0.8003699|\n",
       "    TrAP|TREATMENT|          167|        176|                                                vancomycin|PROBLEM|          232|        241|                                                 gi sources|0.68815404|\n",
       "+--------+---------+-------------+-----------+----------------------------------------------------------+-------+-------------+-----------+-----------------------------------------------------------+----------+\n",
       "only showing top 50 rows\n",
       "\n",
       "</div>"
      ]
     },
     "metadata": {
      "application/vnd.databricks.v1+output": {
       "addedWidgets": {},
       "arguments": {},
       "data": "<div class=\"ansiout\">+--------+---------+-------------+-----------+----------------------------------------------------------+-------+-------------+-----------+-----------------------------------------------------------+----------+\n|relation|  entity1|entity1_begin|entity1_end|                                                    chunk1|entity2|entity2_begin|entity2_end|                                                     chunk2|confidence|\n+--------+---------+-------------+-----------+----------------------------------------------------------+-------+-------------+-----------+-----------------------------------------------------------+----------+\n|     PIP|  PROBLEM|          196|        239|              an inferior and right ventricular infarction|PROBLEM|          145|        176|                           1-mm st depressions in i and avl| 0.9462602|\n|    TeRP|     TEST|            1|         20|                                      abdominal ultrasound|PROBLEM|           54|         71|                                         gallbladder sludge| 0.9338774|\n|    TrAP|TREATMENT|           99|        133|                       ir placement of a drainage catheter|PROBLEM|          139|        173|                        his abdominopelvic fluid collection| 0.5481467|\n|    TrCP|TREATMENT|          143|        154|                                              reintubation|PROBLEM|          195|        213|                                        worsening pneumonia| 0.5675494|\n|    TeRP|     TEST|            1|         10|                                                urinalysis|PROBLEM|           72|         95|                                   positive red blood cells| 0.8988079|\n|    TeRP|     TEST|            1|         13|                                             a colonoscopy|PROBLEM|           44|         51|                                                   bleeding|0.91141194|\n|    TeRP|     TEST|            1|          8|                                                  a ct abd|PROBLEM|           16|         36|                                      8mm obstructing stone|0.99808025|\n|    TeRP|     TEST|            1|          9|                                                 pathology|PROBLEM|           19|         77|poorly differentiated squamous cell carcinoma of the cervix| 0.9989034|\n|    TeRP|     TEST|            1|         14|                                            urine cultures|PROBLEM|           36|         49|                                             klebsiella uti| 0.5196485|\n|    TeRP|TREATMENT|           71|         81|                                               an endoclip|PROBLEM|            1|         13|                                              a small polyp| 0.6164761|\n|    TeRP|     TEST|           54|         65|                                              auscultation|PROBLEM|           21|         31|                                                rhonchorous| 0.7435846|\n|    TrAP|TREATMENT|           96|         99|                                                      cpap|PROBLEM|           57|         76|                                       abdominal distention| 0.7245181|\n|    TeCP|     TEST|           22|         44|                                   cardiac catheterization|PROBLEM|           75|        103|                              a 20% left vein osteal lesion| 0.6037779|\n|     PIP|  PROBLEM|           21|         26|                                                    sepsis|PROBLEM|           46|         51|                                                     fevers|   0.52195|\n|    TrCP|TREATMENT|          101|        121|                                     systemic chemotherapy|PROBLEM|           71|         79|                                                  her tumor| 0.9083091|\n|    TeRP|     TEST|           21|         34|                                            follow-up echo|PROBLEM|          131|        139|                                                  tamponade|0.84236175|\n|    TeRP|  PROBLEM|           70|         89|                                      right hydronephrosis|PROBLEM|            3|         52|         an 8 x 7 x 7 mm stone in the proximal right ureter|0.86757195|\n|    TrCP|TREATMENT|           63|         75|                                             the procedure|PROBLEM|           17|         36|                                       any untoward affects|0.52381307|\n|     PIP|  PROBLEM|           50|         73|                                  polyendocrine deficiency|PROBLEM|          112|        113|                                                         dm|0.75836533|\n|    TrCP|TREATMENT|           87|        100|                                            phenothiazides|PROBLEM|          115|        125|                                                jitteryness| 0.7936164|\n|    TrAP|TREATMENT|           10|         15|                                                    repair|PROBLEM|           20|         32|                                              neck fracture| 0.6098272|\n|    TrCP|TREATMENT|           36|         85|        percutaneous endoscopic gastrostomy tube placement|PROBLEM|            3|         22|                                       failed swallow study| 0.9943507|\n|    TrCP|TREATMENT|           40|         85|            postradical cystoprostatectomy with ileal loop|PROBLEM|           91|        122|                           locally invasive prostate cancer| 0.8610742|\n|    TrAP|TREATMENT|           90|         99|                                                management|PROBLEM|          104|        129|                                 her pulmonary hypertension| 0.9204771|\n|     PIP|  PROBLEM|           54|         81|                              paroxysmal nocturnal dyspnea|PROBLEM|           14|         48|                        a new two to three-pillow orthopnea| 0.8935107|\n|    TeRP|     TEST|           38|         58|                                     previous examinations|PROBLEM|            1|         15|                                            this ecchymosis|0.55237454|\n|    TeRP|     TEST|            1|         14|                                            the ultrasound|PROBLEM|           22|         35|                                             biliary sludge| 0.9969952|\n|    TeRP|  PROBLEM|            1|         17|                                         the complications|PROBLEM|           64|         80|                                          pulmonary embolus|0.50607383|\n|     PIP|  PROBLEM|           17|         29|                                             this headache|PROBLEM|           34|         51|                                         the worst headache| 0.6924926|\n|    TrAP|TREATMENT|           14|         20|                                                   removal|PROBLEM|           25|         33|                                                  cbd stone| 0.6815364|\n|     PIP|  PROBLEM|          166|        223|posterior cerebral artery distribution cerebral infarction|PROBLEM|          230|        240|                                                mass effect| 0.7343001|\n|    TrCP|  PROBLEM|           69|         77|                                                 allergies|PROBLEM|          104|        108|                                                      hives| 0.8534024|\n|    TrCP|TREATMENT|           22|         37|                                          the hickman site|PROBLEM|            8|         15|                                                   bleeding| 0.9550033|\n|    TeRP|     TEST|           10|         18|                                                 the study|PROBLEM|          112|        132|                                      a cecal cystic lesion| 0.7843951|\n|    TeRP|     TEST|            8|         32|                                 a cardiac catheterization|PROBLEM|           49|         64|                                           3-vessel disease|0.67613006|\n|     PIP|  PROBLEM|           35|         40|                                                    a boil|PROBLEM|           47|         49|                                                        pus| 0.8324577|\n|    TrCP|     TEST|           79|        101|                                   frozen section analysis|PROBLEM|           70|         74|                                                      tumor| 0.8540922|\n|    TrAP|TREATMENT|          240|        251|                                              levofloxacin|PROBLEM|          341|        362|                                     acanthamoeba sinusitis|0.58062047|\n|   TrNAP|TREATMENT|           45|         54|                                                vancomycin|PROBLEM|          149|        190|                 enteric and non-enteric gram negative rods| 0.5554328|\n|    TeRP|     TEST|           25|         33|                                                 a vq scan|PROBLEM|           91|         92|                                                         pe| 0.6820267|\n|    TeRP|     TEST|           17|         31|                                           mediastinoscopy|PROBLEM|          185|        195|                                                anthracosis|0.92742723|\n|     PIP|  PROBLEM|           55|         96|                an additional dysfunction on the left side|PROBLEM|          109|        140|                           wide-spread cortical dysfunction|0.96879345|\n|    TeRP|     TEST|            1|          3|                                                       ekg|PROBLEM|           86|        109|                                   early r wave progression| 0.9009686|\n|    TeRP|     TEST|            1|          3|                                                       mri|PROBLEM|           44|         79|                       sz effects in the left temporal lobe|0.97623116|\n|     PIP|  PROBLEM|           46|         49|                                                      pain|PROBLEM|           64|         74|                                                her problem| 0.8208642|\n|     PIP|  PROBLEM|          138|        171|                        anteroseptal myocardial infarction|PROBLEM|           93|        112|                                       q waves in leads iii| 0.9051841|\n|    TeRP|     TEST|            1|          3|                                                       ekg|PROBLEM|           80|         97|                                         very small p waves|0.85544217|\n|     PIP|  PROBLEM|           62|         78|                                         myasthenia gravis|PROBLEM|          106|        112|                                                    thymoma| 0.8490268|\n|    TeRP|     TEST|            1|          4|                                                      echo|PROBLEM|           48|         49|                                                         mr| 0.8003699|\n|    TrAP|TREATMENT|          167|        176|                                                vancomycin|PROBLEM|          232|        241|                                                 gi sources|0.68815404|\n+--------+---------+-------------+-----------+----------------------------------------------------------+-------+-------------+-----------+-----------------------------------------------------------+----------+\nonly showing top 50 rows\n\n</div>",
       "datasetInfos": [],
       "removedWidgets": [],
       "type": "html"
      }
     },
     "output_type": "display_data"
    }
   ],
   "source": [
    "result_df = result.select(F.explode(F.arrays_zip('relations.result', 'relations.metadata')).alias(\"cols\")) \\\n",
    ".select(F.expr(\"cols['0']\").alias(\"relation\"),\n",
    "        F.expr(\"cols['1']['entity1']\").alias(\"entity1\"),\n",
    "        F.expr(\"cols['1']['entity1_begin']\").alias(\"entity1_begin\"),\n",
    "        F.expr(\"cols['1']['entity1_end']\").alias(\"entity1_end\"),\n",
    "        F.expr(\"cols['1']['chunk1']\").alias(\"chunk1\"),\n",
    "        F.expr(\"cols['1']['entity2']\").alias(\"entity2\"),\n",
    "        F.expr(\"cols['1']['entity2_begin']\").alias(\"entity2_begin\"),\n",
    "        F.expr(\"cols['1']['entity2_end']\").alias(\"entity2_end\"),\n",
    "        F.expr(\"cols['1']['chunk2']\").alias(\"chunk2\"),\n",
    "        F.expr(\"cols['1']['confidence']\").alias(\"confidence\")\n",
    "        )\n",
    "\n",
    "result_df.show(50, truncate=100)"
   ]
  },
  {
   "cell_type": "code",
   "execution_count": 0,
   "metadata": {
    "application/vnd.databricks.v1+cell": {
     "inputWidgets": {},
     "nuid": "dde93a6f-e995-4b4c-94e6-6e747e0e0f19",
     "showTitle": false,
     "title": ""
    }
   },
   "outputs": [
    {
     "data": {
      "text/html": [
       "<style scoped>\n",
       "  .ansiout {\n",
       "    display: block;\n",
       "    unicode-bidi: embed;\n",
       "    white-space: pre-wrap;\n",
       "    word-wrap: break-word;\n",
       "    word-break: break-all;\n",
       "    font-family: \"Source Code Pro\", \"Menlo\", monospace;;\n",
       "    font-size: 13px;\n",
       "    color: #555;\n",
       "    margin-left: 4px;\n",
       "    line-height: 19px;\n",
       "  }\n",
       "</style>\n",
       "<div class=\"ansiout\">Out[84]: </div>"
      ]
     },
     "metadata": {
      "application/vnd.databricks.v1+output": {
       "addedWidgets": {},
       "arguments": {},
       "data": "<div class=\"ansiout\">Out[84]: </div>",
       "datasetInfos": [],
       "removedWidgets": [],
       "type": "html"
      }
     },
     "output_type": "display_data"
    },
    {
     "data": {
      "text/html": [
       "<div>\n",
       "<style scoped>\n",
       "    .dataframe tbody tr th:only-of-type {\n",
       "        vertical-align: middle;\n",
       "    }\n",
       "\n",
       "    .dataframe tbody tr th {\n",
       "        vertical-align: top;\n",
       "    }\n",
       "\n",
       "    .dataframe thead th {\n",
       "        text-align: right;\n",
       "    }\n",
       "</style>\n",
       "<table border=\"1\" class=\"dataframe\">\n",
       "  <thead>\n",
       "    <tr style=\"text-align: right;\">\n",
       "      <th></th>\n",
       "      <th>relation</th>\n",
       "      <th>entity1</th>\n",
       "      <th>entity1_begin</th>\n",
       "      <th>entity1_end</th>\n",
       "      <th>chunk1</th>\n",
       "      <th>entity2</th>\n",
       "      <th>entity2_begin</th>\n",
       "      <th>entity2_end</th>\n",
       "      <th>chunk2</th>\n",
       "      <th>confidence</th>\n",
       "    </tr>\n",
       "  </thead>\n",
       "  <tbody>\n",
       "    <tr>\n",
       "      <th>0</th>\n",
       "      <td>PIP</td>\n",
       "      <td>PROBLEM</td>\n",
       "      <td>196</td>\n",
       "      <td>239</td>\n",
       "      <td>an inferior and right ventricular infarction</td>\n",
       "      <td>PROBLEM</td>\n",
       "      <td>145</td>\n",
       "      <td>176</td>\n",
       "      <td>1-mm st depressions in i and avl</td>\n",
       "      <td>0.9462602</td>\n",
       "    </tr>\n",
       "    <tr>\n",
       "      <th>1</th>\n",
       "      <td>TeRP</td>\n",
       "      <td>TEST</td>\n",
       "      <td>1</td>\n",
       "      <td>20</td>\n",
       "      <td>abdominal ultrasound</td>\n",
       "      <td>PROBLEM</td>\n",
       "      <td>54</td>\n",
       "      <td>71</td>\n",
       "      <td>gallbladder sludge</td>\n",
       "      <td>0.9338774</td>\n",
       "    </tr>\n",
       "    <tr>\n",
       "      <th>2</th>\n",
       "      <td>TrAP</td>\n",
       "      <td>TREATMENT</td>\n",
       "      <td>99</td>\n",
       "      <td>133</td>\n",
       "      <td>ir placement of a drainage catheter</td>\n",
       "      <td>PROBLEM</td>\n",
       "      <td>139</td>\n",
       "      <td>173</td>\n",
       "      <td>his abdominopelvic fluid collection</td>\n",
       "      <td>0.5481467</td>\n",
       "    </tr>\n",
       "    <tr>\n",
       "      <th>3</th>\n",
       "      <td>TrCP</td>\n",
       "      <td>TREATMENT</td>\n",
       "      <td>143</td>\n",
       "      <td>154</td>\n",
       "      <td>reintubation</td>\n",
       "      <td>PROBLEM</td>\n",
       "      <td>195</td>\n",
       "      <td>213</td>\n",
       "      <td>worsening pneumonia</td>\n",
       "      <td>0.5675494</td>\n",
       "    </tr>\n",
       "    <tr>\n",
       "      <th>4</th>\n",
       "      <td>TeRP</td>\n",
       "      <td>TEST</td>\n",
       "      <td>1</td>\n",
       "      <td>10</td>\n",
       "      <td>urinalysis</td>\n",
       "      <td>PROBLEM</td>\n",
       "      <td>72</td>\n",
       "      <td>95</td>\n",
       "      <td>positive red blood cells</td>\n",
       "      <td>0.8988079</td>\n",
       "    </tr>\n",
       "    <tr>\n",
       "      <th>5</th>\n",
       "      <td>TeRP</td>\n",
       "      <td>TEST</td>\n",
       "      <td>1</td>\n",
       "      <td>13</td>\n",
       "      <td>a colonoscopy</td>\n",
       "      <td>PROBLEM</td>\n",
       "      <td>44</td>\n",
       "      <td>51</td>\n",
       "      <td>bleeding</td>\n",
       "      <td>0.91141194</td>\n",
       "    </tr>\n",
       "    <tr>\n",
       "      <th>6</th>\n",
       "      <td>TeRP</td>\n",
       "      <td>TEST</td>\n",
       "      <td>1</td>\n",
       "      <td>8</td>\n",
       "      <td>a ct abd</td>\n",
       "      <td>PROBLEM</td>\n",
       "      <td>16</td>\n",
       "      <td>36</td>\n",
       "      <td>8mm obstructing stone</td>\n",
       "      <td>0.99808025</td>\n",
       "    </tr>\n",
       "    <tr>\n",
       "      <th>7</th>\n",
       "      <td>TeRP</td>\n",
       "      <td>TEST</td>\n",
       "      <td>1</td>\n",
       "      <td>9</td>\n",
       "      <td>pathology</td>\n",
       "      <td>PROBLEM</td>\n",
       "      <td>19</td>\n",
       "      <td>77</td>\n",
       "      <td>poorly differentiated squamous cell carcinoma of the cervix</td>\n",
       "      <td>0.9989034</td>\n",
       "    </tr>\n",
       "    <tr>\n",
       "      <th>8</th>\n",
       "      <td>TeRP</td>\n",
       "      <td>TEST</td>\n",
       "      <td>1</td>\n",
       "      <td>14</td>\n",
       "      <td>urine cultures</td>\n",
       "      <td>PROBLEM</td>\n",
       "      <td>36</td>\n",
       "      <td>49</td>\n",
       "      <td>klebsiella uti</td>\n",
       "      <td>0.5196485</td>\n",
       "    </tr>\n",
       "    <tr>\n",
       "      <th>9</th>\n",
       "      <td>TeRP</td>\n",
       "      <td>TREATMENT</td>\n",
       "      <td>71</td>\n",
       "      <td>81</td>\n",
       "      <td>an endoclip</td>\n",
       "      <td>PROBLEM</td>\n",
       "      <td>1</td>\n",
       "      <td>13</td>\n",
       "      <td>a small polyp</td>\n",
       "      <td>0.6164761</td>\n",
       "    </tr>\n",
       "    <tr>\n",
       "      <th>10</th>\n",
       "      <td>TeRP</td>\n",
       "      <td>TEST</td>\n",
       "      <td>54</td>\n",
       "      <td>65</td>\n",
       "      <td>auscultation</td>\n",
       "      <td>PROBLEM</td>\n",
       "      <td>21</td>\n",
       "      <td>31</td>\n",
       "      <td>rhonchorous</td>\n",
       "      <td>0.7435846</td>\n",
       "    </tr>\n",
       "    <tr>\n",
       "      <th>11</th>\n",
       "      <td>TrAP</td>\n",
       "      <td>TREATMENT</td>\n",
       "      <td>96</td>\n",
       "      <td>99</td>\n",
       "      <td>cpap</td>\n",
       "      <td>PROBLEM</td>\n",
       "      <td>57</td>\n",
       "      <td>76</td>\n",
       "      <td>abdominal distention</td>\n",
       "      <td>0.7245181</td>\n",
       "    </tr>\n",
       "    <tr>\n",
       "      <th>12</th>\n",
       "      <td>TeCP</td>\n",
       "      <td>TEST</td>\n",
       "      <td>22</td>\n",
       "      <td>44</td>\n",
       "      <td>cardiac catheterization</td>\n",
       "      <td>PROBLEM</td>\n",
       "      <td>75</td>\n",
       "      <td>103</td>\n",
       "      <td>a 20% left vein osteal lesion</td>\n",
       "      <td>0.6037779</td>\n",
       "    </tr>\n",
       "    <tr>\n",
       "      <th>13</th>\n",
       "      <td>PIP</td>\n",
       "      <td>PROBLEM</td>\n",
       "      <td>21</td>\n",
       "      <td>26</td>\n",
       "      <td>sepsis</td>\n",
       "      <td>PROBLEM</td>\n",
       "      <td>46</td>\n",
       "      <td>51</td>\n",
       "      <td>fevers</td>\n",
       "      <td>0.52195</td>\n",
       "    </tr>\n",
       "    <tr>\n",
       "      <th>14</th>\n",
       "      <td>TrCP</td>\n",
       "      <td>TREATMENT</td>\n",
       "      <td>101</td>\n",
       "      <td>121</td>\n",
       "      <td>systemic chemotherapy</td>\n",
       "      <td>PROBLEM</td>\n",
       "      <td>71</td>\n",
       "      <td>79</td>\n",
       "      <td>her tumor</td>\n",
       "      <td>0.9083091</td>\n",
       "    </tr>\n",
       "    <tr>\n",
       "      <th>15</th>\n",
       "      <td>TeRP</td>\n",
       "      <td>TEST</td>\n",
       "      <td>21</td>\n",
       "      <td>34</td>\n",
       "      <td>follow-up echo</td>\n",
       "      <td>PROBLEM</td>\n",
       "      <td>131</td>\n",
       "      <td>139</td>\n",
       "      <td>tamponade</td>\n",
       "      <td>0.84236175</td>\n",
       "    </tr>\n",
       "    <tr>\n",
       "      <th>16</th>\n",
       "      <td>TeRP</td>\n",
       "      <td>PROBLEM</td>\n",
       "      <td>70</td>\n",
       "      <td>89</td>\n",
       "      <td>right hydronephrosis</td>\n",
       "      <td>PROBLEM</td>\n",
       "      <td>3</td>\n",
       "      <td>52</td>\n",
       "      <td>an 8 x 7 x 7 mm stone in the proximal right ureter</td>\n",
       "      <td>0.86757195</td>\n",
       "    </tr>\n",
       "    <tr>\n",
       "      <th>17</th>\n",
       "      <td>TrCP</td>\n",
       "      <td>TREATMENT</td>\n",
       "      <td>63</td>\n",
       "      <td>75</td>\n",
       "      <td>the procedure</td>\n",
       "      <td>PROBLEM</td>\n",
       "      <td>17</td>\n",
       "      <td>36</td>\n",
       "      <td>any untoward affects</td>\n",
       "      <td>0.52381307</td>\n",
       "    </tr>\n",
       "    <tr>\n",
       "      <th>18</th>\n",
       "      <td>PIP</td>\n",
       "      <td>PROBLEM</td>\n",
       "      <td>50</td>\n",
       "      <td>73</td>\n",
       "      <td>polyendocrine deficiency</td>\n",
       "      <td>PROBLEM</td>\n",
       "      <td>112</td>\n",
       "      <td>113</td>\n",
       "      <td>dm</td>\n",
       "      <td>0.75836533</td>\n",
       "    </tr>\n",
       "    <tr>\n",
       "      <th>19</th>\n",
       "      <td>TrCP</td>\n",
       "      <td>TREATMENT</td>\n",
       "      <td>87</td>\n",
       "      <td>100</td>\n",
       "      <td>phenothiazides</td>\n",
       "      <td>PROBLEM</td>\n",
       "      <td>115</td>\n",
       "      <td>125</td>\n",
       "      <td>jitteryness</td>\n",
       "      <td>0.7936164</td>\n",
       "    </tr>\n",
       "  </tbody>\n",
       "</table>\n",
       "</div>"
      ]
     },
     "metadata": {
      "application/vnd.databricks.v1+output": {
       "addedWidgets": {},
       "arguments": {},
       "data": "<div>\n<style scoped>\n    .dataframe tbody tr th:only-of-type {\n        vertical-align: middle;\n    }\n\n    .dataframe tbody tr th {\n        vertical-align: top;\n    }\n\n    .dataframe thead th {\n        text-align: right;\n    }\n</style>\n<table border=\"1\" class=\"dataframe\">\n  <thead>\n    <tr style=\"text-align: right;\">\n      <th></th>\n      <th>relation</th>\n      <th>entity1</th>\n      <th>entity1_begin</th>\n      <th>entity1_end</th>\n      <th>chunk1</th>\n      <th>entity2</th>\n      <th>entity2_begin</th>\n      <th>entity2_end</th>\n      <th>chunk2</th>\n      <th>confidence</th>\n    </tr>\n  </thead>\n  <tbody>\n    <tr>\n      <th>0</th>\n      <td>PIP</td>\n      <td>PROBLEM</td>\n      <td>196</td>\n      <td>239</td>\n      <td>an inferior and right ventricular infarction</td>\n      <td>PROBLEM</td>\n      <td>145</td>\n      <td>176</td>\n      <td>1-mm st depressions in i and avl</td>\n      <td>0.9462602</td>\n    </tr>\n    <tr>\n      <th>1</th>\n      <td>TeRP</td>\n      <td>TEST</td>\n      <td>1</td>\n      <td>20</td>\n      <td>abdominal ultrasound</td>\n      <td>PROBLEM</td>\n      <td>54</td>\n      <td>71</td>\n      <td>gallbladder sludge</td>\n      <td>0.9338774</td>\n    </tr>\n    <tr>\n      <th>2</th>\n      <td>TrAP</td>\n      <td>TREATMENT</td>\n      <td>99</td>\n      <td>133</td>\n      <td>ir placement of a drainage catheter</td>\n      <td>PROBLEM</td>\n      <td>139</td>\n      <td>173</td>\n      <td>his abdominopelvic fluid collection</td>\n      <td>0.5481467</td>\n    </tr>\n    <tr>\n      <th>3</th>\n      <td>TrCP</td>\n      <td>TREATMENT</td>\n      <td>143</td>\n      <td>154</td>\n      <td>reintubation</td>\n      <td>PROBLEM</td>\n      <td>195</td>\n      <td>213</td>\n      <td>worsening pneumonia</td>\n      <td>0.5675494</td>\n    </tr>\n    <tr>\n      <th>4</th>\n      <td>TeRP</td>\n      <td>TEST</td>\n      <td>1</td>\n      <td>10</td>\n      <td>urinalysis</td>\n      <td>PROBLEM</td>\n      <td>72</td>\n      <td>95</td>\n      <td>positive red blood cells</td>\n      <td>0.8988079</td>\n    </tr>\n    <tr>\n      <th>5</th>\n      <td>TeRP</td>\n      <td>TEST</td>\n      <td>1</td>\n      <td>13</td>\n      <td>a colonoscopy</td>\n      <td>PROBLEM</td>\n      <td>44</td>\n      <td>51</td>\n      <td>bleeding</td>\n      <td>0.91141194</td>\n    </tr>\n    <tr>\n      <th>6</th>\n      <td>TeRP</td>\n      <td>TEST</td>\n      <td>1</td>\n      <td>8</td>\n      <td>a ct abd</td>\n      <td>PROBLEM</td>\n      <td>16</td>\n      <td>36</td>\n      <td>8mm obstructing stone</td>\n      <td>0.99808025</td>\n    </tr>\n    <tr>\n      <th>7</th>\n      <td>TeRP</td>\n      <td>TEST</td>\n      <td>1</td>\n      <td>9</td>\n      <td>pathology</td>\n      <td>PROBLEM</td>\n      <td>19</td>\n      <td>77</td>\n      <td>poorly differentiated squamous cell carcinoma of the cervix</td>\n      <td>0.9989034</td>\n    </tr>\n    <tr>\n      <th>8</th>\n      <td>TeRP</td>\n      <td>TEST</td>\n      <td>1</td>\n      <td>14</td>\n      <td>urine cultures</td>\n      <td>PROBLEM</td>\n      <td>36</td>\n      <td>49</td>\n      <td>klebsiella uti</td>\n      <td>0.5196485</td>\n    </tr>\n    <tr>\n      <th>9</th>\n      <td>TeRP</td>\n      <td>TREATMENT</td>\n      <td>71</td>\n      <td>81</td>\n      <td>an endoclip</td>\n      <td>PROBLEM</td>\n      <td>1</td>\n      <td>13</td>\n      <td>a small polyp</td>\n      <td>0.6164761</td>\n    </tr>\n    <tr>\n      <th>10</th>\n      <td>TeRP</td>\n      <td>TEST</td>\n      <td>54</td>\n      <td>65</td>\n      <td>auscultation</td>\n      <td>PROBLEM</td>\n      <td>21</td>\n      <td>31</td>\n      <td>rhonchorous</td>\n      <td>0.7435846</td>\n    </tr>\n    <tr>\n      <th>11</th>\n      <td>TrAP</td>\n      <td>TREATMENT</td>\n      <td>96</td>\n      <td>99</td>\n      <td>cpap</td>\n      <td>PROBLEM</td>\n      <td>57</td>\n      <td>76</td>\n      <td>abdominal distention</td>\n      <td>0.7245181</td>\n    </tr>\n    <tr>\n      <th>12</th>\n      <td>TeCP</td>\n      <td>TEST</td>\n      <td>22</td>\n      <td>44</td>\n      <td>cardiac catheterization</td>\n      <td>PROBLEM</td>\n      <td>75</td>\n      <td>103</td>\n      <td>a 20% left vein osteal lesion</td>\n      <td>0.6037779</td>\n    </tr>\n    <tr>\n      <th>13</th>\n      <td>PIP</td>\n      <td>PROBLEM</td>\n      <td>21</td>\n      <td>26</td>\n      <td>sepsis</td>\n      <td>PROBLEM</td>\n      <td>46</td>\n      <td>51</td>\n      <td>fevers</td>\n      <td>0.52195</td>\n    </tr>\n    <tr>\n      <th>14</th>\n      <td>TrCP</td>\n      <td>TREATMENT</td>\n      <td>101</td>\n      <td>121</td>\n      <td>systemic chemotherapy</td>\n      <td>PROBLEM</td>\n      <td>71</td>\n      <td>79</td>\n      <td>her tumor</td>\n      <td>0.9083091</td>\n    </tr>\n    <tr>\n      <th>15</th>\n      <td>TeRP</td>\n      <td>TEST</td>\n      <td>21</td>\n      <td>34</td>\n      <td>follow-up echo</td>\n      <td>PROBLEM</td>\n      <td>131</td>\n      <td>139</td>\n      <td>tamponade</td>\n      <td>0.84236175</td>\n    </tr>\n    <tr>\n      <th>16</th>\n      <td>TeRP</td>\n      <td>PROBLEM</td>\n      <td>70</td>\n      <td>89</td>\n      <td>right hydronephrosis</td>\n      <td>PROBLEM</td>\n      <td>3</td>\n      <td>52</td>\n      <td>an 8 x 7 x 7 mm stone in the proximal right ureter</td>\n      <td>0.86757195</td>\n    </tr>\n    <tr>\n      <th>17</th>\n      <td>TrCP</td>\n      <td>TREATMENT</td>\n      <td>63</td>\n      <td>75</td>\n      <td>the procedure</td>\n      <td>PROBLEM</td>\n      <td>17</td>\n      <td>36</td>\n      <td>any untoward affects</td>\n      <td>0.52381307</td>\n    </tr>\n    <tr>\n      <th>18</th>\n      <td>PIP</td>\n      <td>PROBLEM</td>\n      <td>50</td>\n      <td>73</td>\n      <td>polyendocrine deficiency</td>\n      <td>PROBLEM</td>\n      <td>112</td>\n      <td>113</td>\n      <td>dm</td>\n      <td>0.75836533</td>\n    </tr>\n    <tr>\n      <th>19</th>\n      <td>TrCP</td>\n      <td>TREATMENT</td>\n      <td>87</td>\n      <td>100</td>\n      <td>phenothiazides</td>\n      <td>PROBLEM</td>\n      <td>115</td>\n      <td>125</td>\n      <td>jitteryness</td>\n      <td>0.7936164</td>\n    </tr>\n  </tbody>\n</table>\n</div>",
       "datasetInfos": [],
       "removedWidgets": [],
       "textData": null,
       "type": "htmlSandbox"
      }
     },
     "output_type": "display_data"
    }
   ],
   "source": [
    "result_df.limit(20).toPandas()"
   ]
  },
  {
   "cell_type": "markdown",
   "metadata": {
    "application/vnd.databricks.v1+cell": {
     "inputWidgets": {},
     "nuid": "2b6a3d33-2f79-4baf-94ae-d41b67432af6",
     "showTitle": false,
     "title": ""
    }
   },
   "source": [
    "## Load trained model from disk"
   ]
  },
  {
   "cell_type": "code",
   "execution_count": 0,
   "metadata": {
    "application/vnd.databricks.v1+cell": {
     "inputWidgets": {},
     "nuid": "69d57ca1-36b9-4297-9516-9ca6100a2b2d",
     "showTitle": false,
     "title": ""
    }
   },
   "outputs": [
    {
     "data": {
      "text/html": [
       "<style scoped>\n",
       "  .ansiout {\n",
       "    display: block;\n",
       "    unicode-bidi: embed;\n",
       "    white-space: pre-wrap;\n",
       "    word-wrap: break-word;\n",
       "    word-break: break-all;\n",
       "    font-family: \"Source Code Pro\", \"Menlo\", monospace;;\n",
       "    font-size: 13px;\n",
       "    color: #555;\n",
       "    margin-left: 4px;\n",
       "    line-height: 19px;\n",
       "  }\n",
       "</style>\n",
       "<div class=\"ansiout\"></div>"
      ]
     },
     "metadata": {
      "application/vnd.databricks.v1+output": {
       "addedWidgets": {},
       "arguments": {},
       "data": "<div class=\"ansiout\"></div>",
       "datasetInfos": [],
       "removedWidgets": [],
       "type": "html"
      }
     },
     "output_type": "display_data"
    }
   ],
   "source": [
    "import pandas as pd\n",
    "\n",
    "def get_relations_df (results, col='relations'):\n",
    "  rel_pairs=[]\n",
    "  for rel in results[0][col]:\n",
    "      rel_pairs.append((\n",
    "          rel.result, \n",
    "          rel.metadata['entity1'], \n",
    "          rel.metadata['entity1_begin'],\n",
    "          rel.metadata['entity1_end'],\n",
    "          rel.metadata['chunk1'], \n",
    "          rel.metadata['entity2'],\n",
    "          rel.metadata['entity2_begin'],\n",
    "          rel.metadata['entity2_end'],\n",
    "          rel.metadata['chunk2'], \n",
    "          rel.metadata['confidence']\n",
    "      ))\n",
    "\n",
    "  rel_df = pd.DataFrame(rel_pairs, columns=['relation','entity1','entity1_begin','entity1_end','chunk1','entity2','entity2_begin','entity2_end','chunk2', 'confidence'])\n",
    "\n",
    "  return rel_df"
   ]
  },
  {
   "cell_type": "code",
   "execution_count": 0,
   "metadata": {
    "application/vnd.databricks.v1+cell": {
     "inputWidgets": {},
     "nuid": "cf63e646-4497-4358-a8eb-95f214db29f5",
     "showTitle": false,
     "title": ""
    }
   },
   "outputs": [
    {
     "data": {
      "text/html": [
       "<style scoped>\n",
       "  .ansiout {\n",
       "    display: block;\n",
       "    unicode-bidi: embed;\n",
       "    white-space: pre-wrap;\n",
       "    word-wrap: break-word;\n",
       "    word-break: break-all;\n",
       "    font-family: \"Source Code Pro\", \"Menlo\", monospace;;\n",
       "    font-size: 13px;\n",
       "    color: #555;\n",
       "    margin-left: 4px;\n",
       "    line-height: 19px;\n",
       "  }\n",
       "</style>\n",
       "<div class=\"ansiout\">ner_clinical download started this may take some time.\n",
       "Approximate size to download 13.9 MB\n",
       "\r",
       "[ | ]\r",
       "[OK!]\n",
       "</div>"
      ]
     },
     "metadata": {
      "application/vnd.databricks.v1+output": {
       "addedWidgets": {},
       "arguments": {},
       "data": "<div class=\"ansiout\">ner_clinical download started this may take some time.\nApproximate size to download 13.9 MB\n\r[ | ]\r[OK!]\n</div>",
       "datasetInfos": [],
       "removedWidgets": [],
       "type": "html"
      }
     },
     "output_type": "display_data"
    }
   ],
   "source": [
    "documenter = DocumentAssembler()\\\n",
    "    .setInputCol(\"text\")\\\n",
    "    .setOutputCol(\"document\")\n",
    "\n",
    "sentencer = SentenceDetector()\\\n",
    "    .setInputCols([\"document\"])\\\n",
    "    .setOutputCol(\"sentences\")\n",
    "\n",
    "clinical_ner_tagger = MedicalNerModel.pretrained(\"ner_clinical\", \"en\", \"clinical/models\")\\\n",
    "    .setInputCols(\"sentence\", \"tokens\", \"embeddings\")\\\n",
    "    .setOutputCol(\"ner_tags\") \n",
    "\n",
    "loaded_re_Model = RelationExtractionModel.load(\"dbfs:/databricks/driver/models/custom_RE_model\")\\\n",
    "    .setInputCols([\"embeddings\", \"pos_tags\", \"ner_chunks\", \"dependencies\"]) \\\n",
    "    .setOutputCol(\"relations\")\\\n",
    "    .setRelationPairs([\"problem-test\", \"problem-treatment\"])\\\n",
    "    .setPredictionThreshold(0.9)\\\n",
    "    .setMaxSyntacticDistance(4)\n",
    "\n",
    "trained_pipeline = Pipeline(stages=[\n",
    "    documenter,\n",
    "    sentencer,\n",
    "    tokenizer, \n",
    "    words_embedder, \n",
    "    pos_tagger, \n",
    "    clinical_ner_tagger,\n",
    "    ner_chunker,\n",
    "    dependency_parser,\n",
    "    loaded_re_Model\n",
    "])\n",
    "\n",
    "empty_data = spark.createDataFrame([[\"\"]]).toDF(\"text\")\n",
    "\n",
    "loaded_re_model = trained_pipeline.fit(empty_data)"
   ]
  },
  {
   "cell_type": "code",
   "execution_count": 0,
   "metadata": {
    "application/vnd.databricks.v1+cell": {
     "inputWidgets": {},
     "nuid": "ec9ac05b-a4a5-4894-addd-0a9c6f34c9a3",
     "showTitle": false,
     "title": ""
    }
   },
   "outputs": [
    {
     "data": {
      "text/html": [
       "<style scoped>\n",
       "  .ansiout {\n",
       "    display: block;\n",
       "    unicode-bidi: embed;\n",
       "    white-space: pre-wrap;\n",
       "    word-wrap: break-word;\n",
       "    word-break: break-all;\n",
       "    font-family: \"Source Code Pro\", \"Menlo\", monospace;;\n",
       "    font-size: 13px;\n",
       "    color: #555;\n",
       "    margin-left: 4px;\n",
       "    line-height: 19px;\n",
       "  }\n",
       "</style>\n",
       "<div class=\"ansiout\">Out[87]: </div>"
      ]
     },
     "metadata": {
      "application/vnd.databricks.v1+output": {
       "addedWidgets": {},
       "arguments": {},
       "data": "<div class=\"ansiout\">Out[87]: </div>",
       "datasetInfos": [],
       "removedWidgets": [],
       "type": "html"
      }
     },
     "output_type": "display_data"
    },
    {
     "data": {
      "text/html": [
       "<div>\n",
       "<style scoped>\n",
       "    .dataframe tbody tr th:only-of-type {\n",
       "        vertical-align: middle;\n",
       "    }\n",
       "\n",
       "    .dataframe tbody tr th {\n",
       "        vertical-align: top;\n",
       "    }\n",
       "\n",
       "    .dataframe thead th {\n",
       "        text-align: right;\n",
       "    }\n",
       "</style>\n",
       "<table border=\"1\" class=\"dataframe\">\n",
       "  <thead>\n",
       "    <tr style=\"text-align: right;\">\n",
       "      <th></th>\n",
       "      <th>relation</th>\n",
       "      <th>entity1</th>\n",
       "      <th>entity1_begin</th>\n",
       "      <th>entity1_end</th>\n",
       "      <th>chunk1</th>\n",
       "      <th>entity2</th>\n",
       "      <th>entity2_begin</th>\n",
       "      <th>entity2_end</th>\n",
       "      <th>chunk2</th>\n",
       "      <th>confidence</th>\n",
       "    </tr>\n",
       "  </thead>\n",
       "  <tbody>\n",
       "    <tr>\n",
       "      <th>0</th>\n",
       "      <td>TrAP</td>\n",
       "      <td>TREATMENT</td>\n",
       "      <td>512</td>\n",
       "      <td>522</td>\n",
       "      <td>amoxicillin</td>\n",
       "      <td>PROBLEM</td>\n",
       "      <td>528</td>\n",
       "      <td>556</td>\n",
       "      <td>a respiratory tract infection</td>\n",
       "      <td>0.92235047</td>\n",
       "    </tr>\n",
       "  </tbody>\n",
       "</table>\n",
       "</div>"
      ]
     },
     "metadata": {
      "application/vnd.databricks.v1+output": {
       "addedWidgets": {},
       "arguments": {},
       "data": "<div>\n<style scoped>\n    .dataframe tbody tr th:only-of-type {\n        vertical-align: middle;\n    }\n\n    .dataframe tbody tr th {\n        vertical-align: top;\n    }\n\n    .dataframe thead th {\n        text-align: right;\n    }\n</style>\n<table border=\"1\" class=\"dataframe\">\n  <thead>\n    <tr style=\"text-align: right;\">\n      <th></th>\n      <th>relation</th>\n      <th>entity1</th>\n      <th>entity1_begin</th>\n      <th>entity1_end</th>\n      <th>chunk1</th>\n      <th>entity2</th>\n      <th>entity2_begin</th>\n      <th>entity2_end</th>\n      <th>chunk2</th>\n      <th>confidence</th>\n    </tr>\n  </thead>\n  <tbody>\n    <tr>\n      <th>0</th>\n      <td>TrAP</td>\n      <td>TREATMENT</td>\n      <td>512</td>\n      <td>522</td>\n      <td>amoxicillin</td>\n      <td>PROBLEM</td>\n      <td>528</td>\n      <td>556</td>\n      <td>a respiratory tract infection</td>\n      <td>0.92235047</td>\n    </tr>\n  </tbody>\n</table>\n</div>",
       "datasetInfos": [],
       "removedWidgets": [],
       "textData": null,
       "type": "htmlSandbox"
      }
     },
     "output_type": "display_data"
    }
   ],
   "source": [
    "\n",
    "text =\"\"\"A 28-year-old female with a history of gestational diabetes mellitus diagnosed eight years prior to presentation and subsequent type two diabetes mellitus ( T2DM ), \n",
    "one prior episode of HTG-induced pancreatitis three years prior to presentation,  associated with an acute hepatitis , and obesity with a body mass index ( BMI ) of 33.5 kg/m2 , presented with a one-week history of polyuria , polydipsia , poor appetite , and vomiting . Two weeks prior to presentation , she was treated with a five-day course of amoxicillin for a respiratory tract infection . She was on metformin , glipizide , and dapagliflozin for T2DM and atorvastatin and gemfibrozil for HTG . She had been on dapagliflozin for six months at the time of presentation. Physical examination on presentation was significant for dry oral mucosa ; significantly , her abdominal examination was benign with no tenderness , guarding , or rigidity . Pertinent laboratory findings on admission were : serum glucose 111 mg/dl , bicarbonate 18 mmol/l , anion gap 20 , creatinine 0.4 mg/dL , triglycerides 508 mg/dL , total cholesterol 122 mg/dL , glycated hemoglobin ( HbA1c ) 10% , and venous pH 7.27 . Serum lipase was normal at 43 U/L . Serum acetone levels could not be assessed as blood samples kept hemolyzing due to significant lipemia . The patient was initially admitted for starvation ketosis , as she reported poor oral intake for three days prior to admission . However , serum chemistry obtained six hours after presentation revealed her glucose was 186 mg/dL , the anion gap was still elevated at 21 , serum bicarbonate was 16 mmol/L , triglyceride level peaked at 2050 mg/dL , and lipase was 52 U/L . The β-hydroxybutyrate level was obtained and found to be elevated at 5.29 mmol/L - the original sample was centrifuged and the chylomicron layer removed prior to analysis due to interference from turbidity caused by lipemia again . The patient was treated with an insulin drip for euDKA and HTG with a reduction in the anion gap to 13 and triglycerides to 1400 mg/dL , within 24 hours . Her euDKA was thought to be precipitated by her respiratory tract infection in the setting of SGLT2 inhibitor use . The patient was seen by the endocrinology service and she was discharged on 40 units of insulin glargine at night , 12 units of insulin lispro with meals , and metformin 1000 mg two times a day . It was determined that all SGLT2 inhibitors should be discontinued indefinitely . \n",
    "She had close follow-up with endocrinology post discharge .\n",
    "\"\"\"\n",
    "\n",
    "loaded_re_model_light = LightPipeline(loaded_re_model)\n",
    "annotations = loaded_re_model_light.fullAnnotate(text)\n",
    "\n",
    "rel_df = get_relations_df (annotations)\n",
    "\n",
    "rel_df[rel_df.relation!=\"O\"]"
   ]
  },
  {
   "cell_type": "markdown",
   "metadata": {
    "application/vnd.databricks.v1+cell": {
     "inputWidgets": {},
     "nuid": "7e8ade81-d48a-40d3-abf2-707fc4aaa3df",
     "showTitle": false,
     "title": ""
    }
   },
   "source": [
    "End of Notebook # 10"
   ]
  }
 ],
 "metadata": {
  "application/vnd.databricks.v1+notebook": {
   "dashboards": [],
   "language": "python",
   "notebookMetadata": {
    "pythonIndentUnit": 2
   },
   "notebookName": "10.Clinical_Relation_Extraction_v3.0",
   "notebookOrigID": 3383440801655723,
   "widgets": {}
  },
  "kernelspec": {
   "display_name": "Python 3",
   "language": "python",
   "name": "python3"
  },
  "language_info": {
   "codemirror_mode": {
    "name": "ipython",
    "version": 3
   },
   "file_extension": ".py",
   "mimetype": "text/x-python",
   "name": "python",
   "nbconvert_exporter": "python",
   "pygments_lexer": "ipython3",
   "version": "3.8.3"
  }
 },
 "nbformat": 4,
 "nbformat_minor": 1
}

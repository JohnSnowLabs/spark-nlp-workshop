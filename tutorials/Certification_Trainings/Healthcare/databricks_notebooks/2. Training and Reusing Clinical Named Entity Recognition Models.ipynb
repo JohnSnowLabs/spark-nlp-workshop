{
 "cells": [
  {
   "cell_type": "markdown",
   "metadata": {
    "application/vnd.databricks.v1+cell": {
     "inputWidgets": {},
     "nuid": "7c263afb-de80-4220-8ed9-c8e87c5af9f1",
     "showTitle": false,
     "title": ""
    }
   },
   "source": [
    "![JohnSnowLabs](https://nlp.johnsnowlabs.com/assets/images/logo.png)"
   ]
  },
  {
   "cell_type": "markdown",
   "metadata": {
    "application/vnd.databricks.v1+cell": {
     "inputWidgets": {},
     "nuid": "328c339e-a337-40e3-a8fb-7377c176690f",
     "showTitle": false,
     "title": ""
    }
   },
   "source": [
    "# Training and Reusing Clinical Named Entity Recognition Models"
   ]
  },
  {
   "cell_type": "markdown",
   "metadata": {
    "application/vnd.databricks.v1+cell": {
     "inputWidgets": {},
     "nuid": "adba3bd3-4761-44e0-aa9c-4d817e88e9fe",
     "showTitle": false,
     "title": ""
    }
   },
   "source": [
    "Please make sure that your cluster is setup properly according to https://nlp.johnsnowlabs.com/docs/en/licensed_install#install-spark-nlp-for-healthcare-on-databricks"
   ]
  },
  {
   "cell_type": "markdown",
   "metadata": {
    "application/vnd.databricks.v1+cell": {
     "inputWidgets": {},
     "nuid": "2cabc9d7-b5ae-43a5-992a-eea4b6a40763",
     "showTitle": false,
     "title": ""
    }
   },
   "source": [
    "## Blogposts and videos:\n",
    "\n",
    "https://towardsdatascience.com/named-entity-recognition-ner-with-bert-in-spark-nlp-874df20d1d77\n",
    "\n",
    "https://www.youtube.com/watch?v=YM-e4eOiQ34\n",
    "\n",
    "https://medium.com/spark-nlp/named-entity-recognition-for-healthcare-with-sparknlp-nerdl-and-nercrf-a7751b6ad571\n",
    "\n",
    "https://medium.com/atlas-research/ner-for-clinical-text-7c73caddd180"
   ]
  },
  {
   "cell_type": "code",
   "execution_count": 0,
   "metadata": {
    "application/vnd.databricks.v1+cell": {
     "inputWidgets": {},
     "nuid": "637c75c5-9374-4a6d-8f65-84a71b48586a",
     "showTitle": false,
     "title": ""
    }
   },
   "outputs": [
    {
     "data": {
      "text/html": [
       "<style scoped>\n",
       "  .ansiout {\n",
       "    display: block;\n",
       "    unicode-bidi: embed;\n",
       "    white-space: pre-wrap;\n",
       "    word-wrap: break-word;\n",
       "    word-break: break-all;\n",
       "    font-family: \"Source Code Pro\", \"Menlo\", monospace;;\n",
       "    font-size: 13px;\n",
       "    color: #555;\n",
       "    margin-left: 4px;\n",
       "    line-height: 19px;\n",
       "  }\n",
       "</style>\n",
       "<div class=\"ansiout\">sparknlp.version :  3.0.1\n",
       "sparknlp_jsl.version :  3.0.1\n",
       "Out[1]: </div>"
      ]
     },
     "metadata": {
      "application/vnd.databricks.v1+output": {
       "addedWidgets": {},
       "arguments": {},
       "data": "<div class=\"ansiout\">sparknlp.version :  3.0.1\nsparknlp_jsl.version :  3.0.1\nOut[1]: </div>",
       "datasetInfos": [],
       "removedWidgets": [],
       "type": "html"
      }
     },
     "output_type": "display_data"
    },
    {
     "data": {
      "text/html": [
       "\n",
       "            <div>\n",
       "                <p><b>SparkSession - hive</b></p>\n",
       "                \n",
       "        <div>\n",
       "            <p><b>SparkContext</b></p>\n",
       "\n",
       "            <p><a href=\"/?o=3418543878422327#setting/sparkui/0421-031638-preys129/driver-2542040772881241371\">Spark UI</a></p>\n",
       "\n",
       "            <dl>\n",
       "              <dt>Version</dt>\n",
       "                <dd><code>v3.0.1</code></dd>\n",
       "              <dt>Master</dt>\n",
       "                <dd><code>spark://10.164.235.107:7077</code></dd>\n",
       "              <dt>AppName</dt>\n",
       "                <dd><code>Databricks Shell</code></dd>\n",
       "            </dl>\n",
       "        </div>\n",
       "        \n",
       "            </div>\n",
       "        "
      ]
     },
     "metadata": {
      "application/vnd.databricks.v1+output": {
       "addedWidgets": {},
       "arguments": {},
       "data": "\n            <div>\n                <p><b>SparkSession - hive</b></p>\n                \n        <div>\n            <p><b>SparkContext</b></p>\n\n            <p><a href=\"/?o=3418543878422327#setting/sparkui/0421-031638-preys129/driver-2542040772881241371\">Spark UI</a></p>\n\n            <dl>\n              <dt>Version</dt>\n                <dd><code>v3.0.1</code></dd>\n              <dt>Master</dt>\n                <dd><code>spark://10.164.235.107:7077</code></dd>\n              <dt>AppName</dt>\n                <dd><code>Databricks Shell</code></dd>\n            </dl>\n        </div>\n        \n            </div>\n        ",
       "datasetInfos": [],
       "removedWidgets": [],
       "textData": null,
       "type": "htmlSandbox"
      }
     },
     "output_type": "display_data"
    }
   ],
   "source": [
    "import os\n",
    "import json\n",
    "import string\n",
    "import numpy as np\n",
    "import pandas as pd\n",
    "\n",
    "\n",
    "import sparknlp\n",
    "import sparknlp_jsl\n",
    "from sparknlp.base import *\n",
    "from sparknlp.util import *\n",
    "from sparknlp.annotator import *\n",
    "from sparknlp_jsl.annotator import *\n",
    "from sparknlp.pretrained import ResourceDownloader\n",
    "\n",
    "from pyspark.sql import functions as F\n",
    "from pyspark.ml import Pipeline, PipelineModel\n",
    "\n",
    "pd.set_option('max_colwidth', 100)\n",
    "pd.set_option('display.max_columns', 100)  \n",
    "pd.set_option('display.expand_frame_repr', False)\n",
    "\n",
    "\n",
    "print('sparknlp.version : ',sparknlp.version())\n",
    "print('sparknlp_jsl.version : ',sparknlp_jsl.version())\n",
    "\n",
    "spark"
   ]
  },
  {
   "cell_type": "markdown",
   "metadata": {
    "application/vnd.databricks.v1+cell": {
     "inputWidgets": {},
     "nuid": "7736d0b6-ebc9-4793-8a97-0ebbeb3b49f3",
     "showTitle": false,
     "title": ""
    }
   },
   "source": [
    "# Clinical NER Pipeline (with pretrained models)"
   ]
  },
  {
   "cell_type": "code",
   "execution_count": 0,
   "metadata": {
    "application/vnd.databricks.v1+cell": {
     "inputWidgets": {},
     "nuid": "33d09296-d6b7-4053-ab34-fb3e9487d51b",
     "showTitle": false,
     "title": ""
    }
   },
   "outputs": [
    {
     "data": {
      "text/html": [
       "<style scoped>\n",
       "  .ansiout {\n",
       "    display: block;\n",
       "    unicode-bidi: embed;\n",
       "    white-space: pre-wrap;\n",
       "    word-wrap: break-word;\n",
       "    word-break: break-all;\n",
       "    font-family: \"Source Code Pro\", \"Menlo\", monospace;;\n",
       "    font-size: 13px;\n",
       "    color: #555;\n",
       "    margin-left: 4px;\n",
       "    line-height: 19px;\n",
       "  }\n",
       "</style>\n",
       "<div class=\"ansiout\">sentence_detector_dl_healthcare download started this may take some time.\n",
       "Approximate size to download 363.9 KB\n",
       "\r",
       "[ | ]\r",
       "[ / ]\r",
       "[ — ]\r",
       "[ \\ ]\r",
       "[OK!]\n",
       "embeddings_clinical download started this may take some time.\n",
       "Approximate size to download 1.6 GB\n",
       "\r",
       "[ | ]\r",
       "[ / ]\r",
       "[ — ]\r",
       "[ \\ ]\r",
       "[ | ]\r",
       "[ / ]\r",
       "[ — ]\r",
       "[ \\ ]\r",
       "[ | ]\r",
       "[ / ]\r",
       "[ — ]\r",
       "[ \\ ]\r",
       "[ | ]\r",
       "[ / ]\r",
       "[ — ]\r",
       "[ \\ ]\r",
       "[ | ]\r",
       "[ / ]\r",
       "[ — ]\r",
       "[ \\ ]\r",
       "[ | ]\r",
       "[ / ]\r",
       "[ — ]\r",
       "[ \\ ]\r",
       "[ | ]\r",
       "[ / ]\r",
       "[ — ]\r",
       "[ \\ ]\r",
       "[ | ]\r",
       "[ / ]\r",
       "[ — ]\r",
       "[ \\ ]\r",
       "[ | ]\r",
       "[ / ]\r",
       "[ — ]\r",
       "[ \\ ]\r",
       "[ | ]\r",
       "[ / ]\r",
       "[ — ]\r",
       "[ \\ ]\r",
       "[ | ]\r",
       "[ / ]\r",
       "[ — ]\r",
       "[ \\ ]\r",
       "[ | ]\r",
       "[ / ]\r",
       "[ — ]\r",
       "[ \\ ]\r",
       "[ | ]\r",
       "[ / ]\r",
       "[ — ]\r",
       "[ \\ ]\r",
       "[ | ]\r",
       "[ / ]\r",
       "[ — ]\r",
       "[ \\ ]\r",
       "[ | ]\r",
       "[ / ]\r",
       "[ — ]\r",
       "[ \\ ]\r",
       "[OK!]\n",
       "ner_clinical_large download started this may take some time.\n",
       "Approximate size to download 13.9 MB\n",
       "\r",
       "[ | ]\r",
       "[ / ]\r",
       "[ — ]\r",
       "[ \\ ]\r",
       "[ | ]\r",
       "[ / ]\r",
       "[ — ]\r",
       "[ \\ ]\r",
       "[ | ]\r",
       "[ / ]\r",
       "[ — ]\r",
       "[ \\ ]\r",
       "[ | ]\r",
       "[ / ]\r",
       "[ — ]\r",
       "[OK!]\n",
       "</div>"
      ]
     },
     "metadata": {
      "application/vnd.databricks.v1+output": {
       "addedWidgets": {},
       "arguments": {},
       "data": "<div class=\"ansiout\">sentence_detector_dl_healthcare download started this may take some time.\nApproximate size to download 363.9 KB\n\r[ | ]\r[ / ]\r[ — ]\r[ \\ ]\r[OK!]\nembeddings_clinical download started this may take some time.\nApproximate size to download 1.6 GB\n\r[ | ]\r[ / ]\r[ — ]\r[ \\ ]\r[ | ]\r[ / ]\r[ — ]\r[ \\ ]\r[ | ]\r[ / ]\r[ — ]\r[ \\ ]\r[ | ]\r[ / ]\r[ — ]\r[ \\ ]\r[ | ]\r[ / ]\r[ — ]\r[ \\ ]\r[ | ]\r[ / ]\r[ — ]\r[ \\ ]\r[ | ]\r[ / ]\r[ — ]\r[ \\ ]\r[ | ]\r[ / ]\r[ — ]\r[ \\ ]\r[ | ]\r[ / ]\r[ — ]\r[ \\ ]\r[ | ]\r[ / ]\r[ — ]\r[ \\ ]\r[ | ]\r[ / ]\r[ — ]\r[ \\ ]\r[ | ]\r[ / ]\r[ — ]\r[ \\ ]\r[ | ]\r[ / ]\r[ — ]\r[ \\ ]\r[ | ]\r[ / ]\r[ — ]\r[ \\ ]\r[ | ]\r[ / ]\r[ — ]\r[ \\ ]\r[OK!]\nner_clinical_large download started this may take some time.\nApproximate size to download 13.9 MB\n\r[ | ]\r[ / ]\r[ — ]\r[ \\ ]\r[ | ]\r[ / ]\r[ — ]\r[ \\ ]\r[ | ]\r[ / ]\r[ — ]\r[ \\ ]\r[ | ]\r[ / ]\r[ — ]\r[OK!]\n</div>",
       "datasetInfos": [],
       "removedWidgets": [],
       "type": "html"
      }
     },
     "output_type": "display_data"
    }
   ],
   "source": [
    "# Annotator that transforms a text column from dataframe into an Annotation ready for NLP\n",
    "documentAssembler = DocumentAssembler()\\\n",
    "  .setInputCol(\"text\")\\\n",
    "  .setOutputCol(\"document\")\n",
    "\n",
    "# Sentence Detector annotator, processes various sentences per line\n",
    "sentenceDetector = SentenceDetectorDLModel.pretrained(\"sentence_detector_dl_healthcare\",\"en\",\"clinical/models\") \\\n",
    "  .setInputCols([\"document\"]) \\\n",
    "  .setOutputCol(\"sentence\") \n",
    "\n",
    "#sentenceDetector = SentenceDetector()\\\n",
    "#   .setInputCols([\"document\"])\\\n",
    "#   .setOutputCol(\"sentence\")\n",
    "\n",
    "# Tokenizer splits words in a relevant format for NLP\n",
    "tokenizer = Tokenizer()\\\n",
    "  .setInputCols([\"sentence\"])\\\n",
    "  .setOutputCol(\"token\")\n",
    "\n",
    "# Clinical word embeddings trained on PubMED dataset\n",
    "word_embeddings = WordEmbeddingsModel.pretrained(\"embeddings_clinical\", \"en\", \"clinical/models\")\\\n",
    "  .setInputCols([\"sentence\", \"token\"])\\\n",
    "  .setOutputCol(\"embeddings\")\n",
    "\n",
    "# NER model trained on i2b2 (sampled from MIMIC) dataset\n",
    "clinical_ner = MedicalNerModel.pretrained(\"ner_clinical_large\", \"en\", \"clinical/models\") \\\n",
    "  .setInputCols([\"sentence\", \"token\", \"embeddings\"]) \\\n",
    "  .setOutputCol(\"ner\")\n",
    "\n",
    "ner_converter = NerConverter() \\\n",
    "  .setInputCols([\"sentence\", \"token\", \"ner\"]) \\\n",
    "  .setOutputCol(\"ner_chunk\")\n",
    "\n",
    "nlpPipeline = Pipeline(stages=[\n",
    "    documentAssembler, \n",
    "    sentenceDetector,\n",
    "    tokenizer,\n",
    "    word_embeddings,\n",
    "    clinical_ner,\n",
    "    ner_converter])\n",
    "\n",
    "empty_data = spark.createDataFrame([[\"\"]]).toDF(\"text\")\n",
    "\n",
    "model = nlpPipeline.fit(empty_data)"
   ]
  },
  {
   "cell_type": "code",
   "execution_count": 0,
   "metadata": {
    "application/vnd.databricks.v1+cell": {
     "inputWidgets": {},
     "nuid": "408b6428-e3a5-49b7-a92c-32939c3de059",
     "showTitle": false,
     "title": ""
    }
   },
   "outputs": [
    {
     "data": {
      "text/html": [
       "<style scoped>\n",
       "  .ansiout {\n",
       "    display: block;\n",
       "    unicode-bidi: embed;\n",
       "    white-space: pre-wrap;\n",
       "    word-wrap: break-word;\n",
       "    word-break: break-all;\n",
       "    font-family: \"Source Code Pro\", \"Menlo\", monospace;;\n",
       "    font-size: 13px;\n",
       "    color: #555;\n",
       "    margin-left: 4px;\n",
       "    line-height: 19px;\n",
       "  }\n",
       "</style>\n",
       "<div class=\"ansiout\">Out[3]: [DocumentAssembler_19ee3932292f,\n",
       " SentenceDetectorDLModel_d2546f0acfe2,\n",
       " REGEX_TOKENIZER_de185788a048,\n",
       " WORD_EMBEDDINGS_MODEL_9004b1d00302,\n",
       " MedicalNerModel_1a8637089929,\n",
       " NerConverter_46efa8376734]</div>"
      ]
     },
     "metadata": {
      "application/vnd.databricks.v1+output": {
       "addedWidgets": {},
       "arguments": {},
       "data": "<div class=\"ansiout\">Out[3]: [DocumentAssembler_19ee3932292f,\n SentenceDetectorDLModel_d2546f0acfe2,\n REGEX_TOKENIZER_de185788a048,\n WORD_EMBEDDINGS_MODEL_9004b1d00302,\n MedicalNerModel_1a8637089929,\n NerConverter_46efa8376734]</div>",
       "datasetInfos": [],
       "removedWidgets": [],
       "type": "html"
      }
     },
     "output_type": "display_data"
    }
   ],
   "source": [
    "#checking the stages in pipeline\n",
    "model.stages"
   ]
  },
  {
   "cell_type": "code",
   "execution_count": 0,
   "metadata": {
    "application/vnd.databricks.v1+cell": {
     "inputWidgets": {},
     "nuid": "be25425f-c1b2-4efa-9142-3592b8924c92",
     "showTitle": false,
     "title": ""
    }
   },
   "outputs": [
    {
     "data": {
      "text/html": [
       "<style scoped>\n",
       "  .ansiout {\n",
       "    display: block;\n",
       "    unicode-bidi: embed;\n",
       "    white-space: pre-wrap;\n",
       "    word-wrap: break-word;\n",
       "    word-break: break-all;\n",
       "    font-family: \"Source Code Pro\", \"Menlo\", monospace;;\n",
       "    font-size: 13px;\n",
       "    color: #555;\n",
       "    margin-left: 4px;\n",
       "    line-height: 19px;\n",
       "  }\n",
       "</style>\n",
       "<div class=\"ansiout\">Out[5]: [&#39;O&#39;,\n",
       " &#39;B-TREATMENT&#39;,\n",
       " &#39;I-TREATMENT&#39;,\n",
       " &#39;B-PROBLEM&#39;,\n",
       " &#39;I-PROBLEM&#39;,\n",
       " &#39;B-TEST&#39;,\n",
       " &#39;I-TEST&#39;]</div>"
      ]
     },
     "metadata": {
      "application/vnd.databricks.v1+output": {
       "addedWidgets": {},
       "arguments": {},
       "data": "<div class=\"ansiout\">Out[5]: [&#39;O&#39;,\n &#39;B-TREATMENT&#39;,\n &#39;I-TREATMENT&#39;,\n &#39;B-PROBLEM&#39;,\n &#39;I-PROBLEM&#39;,\n &#39;B-TEST&#39;,\n &#39;I-TEST&#39;]</div>",
       "datasetInfos": [],
       "removedWidgets": [],
       "type": "html"
      }
     },
     "output_type": "display_data"
    }
   ],
   "source": [
    "#getting the classes in pretrained model\n",
    "clinical_ner.getClasses()"
   ]
  },
  {
   "cell_type": "code",
   "execution_count": 0,
   "metadata": {
    "application/vnd.databricks.v1+cell": {
     "inputWidgets": {},
     "nuid": "4aa9b7f9-5a7d-44d3-b841-68497d3c6635",
     "showTitle": false,
     "title": ""
    }
   },
   "outputs": [
    {
     "data": {
      "text/html": [
       "<style scoped>\n",
       "  .ansiout {\n",
       "    display: block;\n",
       "    unicode-bidi: embed;\n",
       "    white-space: pre-wrap;\n",
       "    word-wrap: break-word;\n",
       "    word-break: break-all;\n",
       "    font-family: \"Source Code Pro\", \"Menlo\", monospace;;\n",
       "    font-size: 13px;\n",
       "    color: #555;\n",
       "    margin-left: 4px;\n",
       "    line-height: 19px;\n",
       "  }\n",
       "</style>\n",
       "<div class=\"ansiout\">Out[6]: {Param(parent=&#39;MedicalNerModel_1a8637089929&#39;, name=&#39;lazyAnnotator&#39;, doc=&#39;Whether this AnnotatorModel acts as lazy in RecursivePipelines&#39;): False,\n",
       " Param(parent=&#39;MedicalNerModel_1a8637089929&#39;, name=&#39;includeConfidence&#39;, doc=&#39;whether to include confidence scores in annotation metadata&#39;): True,\n",
       " Param(parent=&#39;MedicalNerModel_1a8637089929&#39;, name=&#39;batchSize&#39;, doc=&#39;Size of every batch&#39;): 64,\n",
       " Param(parent=&#39;MedicalNerModel_1a8637089929&#39;, name=&#39;classes&#39;, doc=&#39;get the tags used to trained this MedicalNerModel&#39;): [&#39;O&#39;,\n",
       "  &#39;B-TREATMENT&#39;,\n",
       "  &#39;I-TREATMENT&#39;,\n",
       "  &#39;B-PROBLEM&#39;,\n",
       "  &#39;I-PROBLEM&#39;,\n",
       "  &#39;B-TEST&#39;,\n",
       "  &#39;I-TEST&#39;],\n",
       " Param(parent=&#39;MedicalNerModel_1a8637089929&#39;, name=&#39;inputCols&#39;, doc=&#39;previous annotations columns, if renamed&#39;): [&#39;sentence&#39;,\n",
       "  &#39;token&#39;,\n",
       "  &#39;embeddings&#39;],\n",
       " Param(parent=&#39;MedicalNerModel_1a8637089929&#39;, name=&#39;outputCol&#39;, doc=&#39;output annotation column. can be left default.&#39;): &#39;ner&#39;,\n",
       " Param(parent=&#39;MedicalNerModel_1a8637089929&#39;, name=&#39;storageRef&#39;, doc=&#39;unique reference name for identification&#39;): &#39;clinical&#39;}</div>"
      ]
     },
     "metadata": {
      "application/vnd.databricks.v1+output": {
       "addedWidgets": {},
       "arguments": {},
       "data": "<div class=\"ansiout\">Out[6]: {Param(parent=&#39;MedicalNerModel_1a8637089929&#39;, name=&#39;lazyAnnotator&#39;, doc=&#39;Whether this AnnotatorModel acts as lazy in RecursivePipelines&#39;): False,\n Param(parent=&#39;MedicalNerModel_1a8637089929&#39;, name=&#39;includeConfidence&#39;, doc=&#39;whether to include confidence scores in annotation metadata&#39;): True,\n Param(parent=&#39;MedicalNerModel_1a8637089929&#39;, name=&#39;batchSize&#39;, doc=&#39;Size of every batch&#39;): 64,\n Param(parent=&#39;MedicalNerModel_1a8637089929&#39;, name=&#39;classes&#39;, doc=&#39;get the tags used to trained this MedicalNerModel&#39;): [&#39;O&#39;,\n  &#39;B-TREATMENT&#39;,\n  &#39;I-TREATMENT&#39;,\n  &#39;B-PROBLEM&#39;,\n  &#39;I-PROBLEM&#39;,\n  &#39;B-TEST&#39;,\n  &#39;I-TEST&#39;],\n Param(parent=&#39;MedicalNerModel_1a8637089929&#39;, name=&#39;inputCols&#39;, doc=&#39;previous annotations columns, if renamed&#39;): [&#39;sentence&#39;,\n  &#39;token&#39;,\n  &#39;embeddings&#39;],\n Param(parent=&#39;MedicalNerModel_1a8637089929&#39;, name=&#39;outputCol&#39;, doc=&#39;output annotation column. can be left default.&#39;): &#39;ner&#39;,\n Param(parent=&#39;MedicalNerModel_1a8637089929&#39;, name=&#39;storageRef&#39;, doc=&#39;unique reference name for identification&#39;): &#39;clinical&#39;}</div>",
       "datasetInfos": [],
       "removedWidgets": [],
       "type": "html"
      }
     },
     "output_type": "display_data"
    }
   ],
   "source": [
    "#extracting the embedded default param values\n",
    "clinical_ner.extractParamMap()"
   ]
  },
  {
   "cell_type": "code",
   "execution_count": 0,
   "metadata": {
    "application/vnd.databricks.v1+cell": {
     "inputWidgets": {},
     "nuid": "b2e5d9e3-a0ae-4bc8-90a6-a282d9487c78",
     "showTitle": false,
     "title": ""
    }
   },
   "outputs": [
    {
     "data": {
      "text/html": [
       "<style scoped>\n",
       "  .ansiout {\n",
       "    display: block;\n",
       "    unicode-bidi: embed;\n",
       "    white-space: pre-wrap;\n",
       "    word-wrap: break-word;\n",
       "    word-break: break-all;\n",
       "    font-family: \"Source Code Pro\", \"Menlo\", monospace;;\n",
       "    font-size: 13px;\n",
       "    color: #555;\n",
       "    margin-left: 4px;\n",
       "    line-height: 19px;\n",
       "  }\n",
       "</style>\n",
       "<div class=\"ansiout\">Out[7]: &#39;clinical&#39;</div>"
      ]
     },
     "metadata": {
      "application/vnd.databricks.v1+output": {
       "addedWidgets": {},
       "arguments": {},
       "data": "<div class=\"ansiout\">Out[7]: &#39;clinical&#39;</div>",
       "datasetInfos": [],
       "removedWidgets": [],
       "type": "html"
      }
     },
     "output_type": "display_data"
    }
   ],
   "source": [
    "#checking the embeddings\n",
    "clinical_ner.getStorageRef()"
   ]
  },
  {
   "cell_type": "code",
   "execution_count": 0,
   "metadata": {
    "application/vnd.databricks.v1+cell": {
     "inputWidgets": {},
     "nuid": "e86347f2-3d0b-4465-8bfc-4c03c989eda2",
     "showTitle": false,
     "title": ""
    }
   },
   "outputs": [
    {
     "data": {
      "text/html": [
       "<style scoped>\n",
       "  .ansiout {\n",
       "    display: block;\n",
       "    unicode-bidi: embed;\n",
       "    white-space: pre-wrap;\n",
       "    word-wrap: break-word;\n",
       "    word-break: break-all;\n",
       "    font-family: \"Source Code Pro\", \"Menlo\", monospace;;\n",
       "    font-size: 13px;\n",
       "    color: #555;\n",
       "    margin-left: 4px;\n",
       "    line-height: 19px;\n",
       "  }\n",
       "</style>\n",
       "<div class=\"ansiout\"></div>"
      ]
     },
     "metadata": {
      "application/vnd.databricks.v1+output": {
       "addedWidgets": {},
       "arguments": {},
       "data": "<div class=\"ansiout\"></div>",
       "datasetInfos": [],
       "removedWidgets": [],
       "type": "html"
      }
     },
     "output_type": "display_data"
    }
   ],
   "source": [
    "#downloading the sample dataset\n",
    "! wget -q https://s3.amazonaws.com/auxdata.johnsnowlabs.com/public/resources/en/pubmed/pubmed_sample_text_small.csv"
   ]
  },
  {
   "cell_type": "code",
   "execution_count": 0,
   "metadata": {
    "application/vnd.databricks.v1+cell": {
     "inputWidgets": {},
     "nuid": "1c6c4b30-8ad2-4684-afc3-a74bcea7b4f4",
     "showTitle": false,
     "title": ""
    }
   },
   "outputs": [
    {
     "data": {
      "text/html": [
       "<style scoped>\n",
       "  .table-result-container {\n",
       "    max-height: 300px;\n",
       "    overflow: auto;\n",
       "  }\n",
       "  table, th, td {\n",
       "    border: 1px solid black;\n",
       "    border-collapse: collapse;\n",
       "  }\n",
       "  th, td {\n",
       "    padding: 5px;\n",
       "  }\n",
       "  th {\n",
       "    text-align: left;\n",
       "  }\n",
       "</style><div class='table-result-container'><table class='table-result'><thead style='background-color: white'><tr><th>path</th><th>name</th><th>size</th></tr></thead><tbody><tr><td>file:/databricks/driver/conf/</td><td>conf/</td><td>4096</td></tr><tr><td>file:/databricks/driver/eventlogs/</td><td>eventlogs/</td><td>4096</td></tr><tr><td>file:/databricks/driver/metadata/</td><td>metadata/</td><td>4096</td></tr><tr><td>file:/databricks/driver/storage/</td><td>storage/</td><td>4096</td></tr><tr><td>file:/databricks/driver/sample-sentences-en.txt</td><td>sample-sentences-en.txt</td><td>284</td></tr><tr><td>file:/databricks/driver/logs/</td><td>logs/</td><td>4096</td></tr><tr><td>file:/databricks/driver/pubmed_sample_text_small.csv</td><td>pubmed_sample_text_small.csv</td><td>9363435</td></tr><tr><td>file:/databricks/driver/ganglia/</td><td>ganglia/</td><td>4096</td></tr></tbody></table></div>"
      ]
     },
     "metadata": {
      "application/vnd.databricks.v1+output": {
       "addedWidgets": {},
       "aggData": [],
       "aggError": "",
       "aggOverflow": false,
       "aggSchema": [],
       "aggSeriesLimitReached": false,
       "aggType": "",
       "arguments": {},
       "columnCustomDisplayInfos": {},
       "data": [
        [
         "file:/databricks/driver/conf/",
         "conf/",
         4096
        ],
        [
         "file:/databricks/driver/eventlogs/",
         "eventlogs/",
         4096
        ],
        [
         "file:/databricks/driver/metadata/",
         "metadata/",
         4096
        ],
        [
         "file:/databricks/driver/storage/",
         "storage/",
         4096
        ],
        [
         "file:/databricks/driver/sample-sentences-en.txt",
         "sample-sentences-en.txt",
         284
        ],
        [
         "file:/databricks/driver/logs/",
         "logs/",
         4096
        ],
        [
         "file:/databricks/driver/pubmed_sample_text_small.csv",
         "pubmed_sample_text_small.csv",
         9363435
        ],
        [
         "file:/databricks/driver/ganglia/",
         "ganglia/",
         4096
        ]
       ],
       "datasetInfos": [],
       "dbfsResultPath": null,
       "isJsonSchema": true,
       "overflow": false,
       "plotOptions": {
        "customPlotOptions": {},
        "displayType": "table",
        "pivotAggregation": null,
        "pivotColumns": null,
        "xColumns": null,
        "yColumns": null
       },
       "removedWidgets": [],
       "schema": [
        {
         "metadata": "{}",
         "name": "path",
         "type": "\"string\""
        },
        {
         "metadata": "{}",
         "name": "name",
         "type": "\"string\""
        },
        {
         "metadata": "{}",
         "name": "size",
         "type": "\"long\""
        }
       ],
       "type": "table"
      }
     },
     "output_type": "display_data"
    }
   ],
   "source": [
    "%fs ls file:/databricks/driver "
   ]
  },
  {
   "cell_type": "code",
   "execution_count": 0,
   "metadata": {
    "application/vnd.databricks.v1+cell": {
     "inputWidgets": {},
     "nuid": "6c8932c9-b85c-4714-8190-24f2f2be27e9",
     "showTitle": false,
     "title": ""
    }
   },
   "outputs": [
    {
     "data": {
      "text/html": [
       "<style scoped>\n",
       "  .ansiout {\n",
       "    display: block;\n",
       "    unicode-bidi: embed;\n",
       "    white-space: pre-wrap;\n",
       "    word-wrap: break-word;\n",
       "    word-break: break-all;\n",
       "    font-family: \"Source Code Pro\", \"Menlo\", monospace;;\n",
       "    font-size: 13px;\n",
       "    color: #555;\n",
       "    margin-left: 4px;\n",
       "    line-height: 19px;\n",
       "  }\n",
       "</style>\n",
       "<div class=\"ansiout\">+--------------------------------------------------------------------------------+\n",
       "                                                                            text|\n",
       "+--------------------------------------------------------------------------------+\n",
       "The human KCNJ9 (Kir 3.3, GIRK3) is a member of the G-protein-activated inwar...|\n",
       "BACKGROUND: At present, it is one of the most important issues for the treatm...|\n",
       "OBJECTIVE: To investigate the relationship between preoperative atrialfibrill...|\n",
       "Combined EEG/fMRI recording has been used to localize the generators of EEGev...|\n",
       "Kohlschutter syndrome is a rare neurodegenerative disorder presenting withint...|\n",
       "Statistical analysis of neuroimages is commonly approached with intergroupcom...|\n",
       "The synthetic DOX-LNA conjugate was characterized by proton nuclear magneticr...|\n",
       "Our objective was to compare three different methods of blood pressuremeasure...|\n",
       "We conducted a phase II study to assess the efficacy and tolerability ofirino...|\n",
       "&#34;&#34;&#34;Monomeric sarcosine oxidase (MSOX) is a flavoenzyme that catalyzes the oxi...|\n",
       "We presented the tachinid fly Exorista japonica with moving host models: afre...|\n",
       "The literature dealing with the water conducting properties of sapwood xylem ...|\n",
       "A novel approach to synthesize chitosan-O-isopropyl-5&#39;-O-d4T monophosphatecon...|\n",
       "An HPLC-ESI-MS-MS method has been developed for the quantitative determinatio...|\n",
       "The localizing and lateralizing values of eye and head ictal deviations durin...|\n",
       "OBJECTIVE: To evaluate the effectiveness and acceptability of expectantmanage...|\n",
       "For the construction of new combinatorial libraries, a lead compound was crea...|\n",
       "We report the results of a screen for genetic association with urinary arseni...|\n",
       "Intraparenchymal pericatheter cyst is rarely reported. Obstruction in thevent...|\n",
       "It is known that patients with Klinefelter&#39;s syndrome are inclined to develop...|\n",
       "+--------------------------------------------------------------------------------+\n",
       "only showing top 20 rows\n",
       "\n",
       "</div>"
      ]
     },
     "metadata": {
      "application/vnd.databricks.v1+output": {
       "addedWidgets": {},
       "arguments": {},
       "data": "<div class=\"ansiout\">+--------------------------------------------------------------------------------+\n|                                                                            text|\n+--------------------------------------------------------------------------------+\n|The human KCNJ9 (Kir 3.3, GIRK3) is a member of the G-protein-activated inwar...|\n|BACKGROUND: At present, it is one of the most important issues for the treatm...|\n|OBJECTIVE: To investigate the relationship between preoperative atrialfibrill...|\n|Combined EEG/fMRI recording has been used to localize the generators of EEGev...|\n|Kohlschutter syndrome is a rare neurodegenerative disorder presenting withint...|\n|Statistical analysis of neuroimages is commonly approached with intergroupcom...|\n|The synthetic DOX-LNA conjugate was characterized by proton nuclear magneticr...|\n|Our objective was to compare three different methods of blood pressuremeasure...|\n|We conducted a phase II study to assess the efficacy and tolerability ofirino...|\n|&#34;&#34;&#34;Monomeric sarcosine oxidase (MSOX) is a flavoenzyme that catalyzes the oxi...|\n|We presented the tachinid fly Exorista japonica with moving host models: afre...|\n|The literature dealing with the water conducting properties of sapwood xylem ...|\n|A novel approach to synthesize chitosan-O-isopropyl-5&#39;-O-d4T monophosphatecon...|\n|An HPLC-ESI-MS-MS method has been developed for the quantitative determinatio...|\n|The localizing and lateralizing values of eye and head ictal deviations durin...|\n|OBJECTIVE: To evaluate the effectiveness and acceptability of expectantmanage...|\n|For the construction of new combinatorial libraries, a lead compound was crea...|\n|We report the results of a screen for genetic association with urinary arseni...|\n|Intraparenchymal pericatheter cyst is rarely reported. Obstruction in thevent...|\n|It is known that patients with Klinefelter&#39;s syndrome are inclined to develop...|\n+--------------------------------------------------------------------------------+\nonly showing top 20 rows\n\n</div>",
       "datasetInfos": [],
       "removedWidgets": [],
       "type": "html"
      }
     },
     "output_type": "display_data"
    }
   ],
   "source": [
    "import pyspark.sql.functions as F\n",
    "\n",
    "pubMedDF = spark.read\\\n",
    "                .option(\"header\", \"true\")\\\n",
    "                .csv(\"dbfs:/pubmed_sample_text_small.csv\")\\\n",
    "                \n",
    "pubMedDF.show(truncate=80)"
   ]
  },
  {
   "cell_type": "code",
   "execution_count": 0,
   "metadata": {
    "application/vnd.databricks.v1+cell": {
     "inputWidgets": {},
     "nuid": "20fcb450-e7c5-40df-ac4f-681049346cf6",
     "showTitle": false,
     "title": ""
    }
   },
   "outputs": [
    {
     "data": {
      "text/html": [
       "<style scoped>\n",
       "  .ansiout {\n",
       "    display: block;\n",
       "    unicode-bidi: embed;\n",
       "    white-space: pre-wrap;\n",
       "    word-wrap: break-word;\n",
       "    word-break: break-all;\n",
       "    font-family: \"Source Code Pro\", \"Menlo\", monospace;;\n",
       "    font-size: 13px;\n",
       "    color: #555;\n",
       "    margin-left: 4px;\n",
       "    line-height: 19px;\n",
       "  }\n",
       "</style>\n",
       "<div class=\"ansiout\">root\n",
       "-- text: string (nullable = true)\n",
       "\n",
       "</div>"
      ]
     },
     "metadata": {
      "application/vnd.databricks.v1+output": {
       "addedWidgets": {},
       "arguments": {},
       "data": "<div class=\"ansiout\">root\n |-- text: string (nullable = true)\n\n</div>",
       "datasetInfos": [],
       "removedWidgets": [],
       "type": "html"
      }
     },
     "output_type": "display_data"
    }
   ],
   "source": [
    "pubMedDF.printSchema()"
   ]
  },
  {
   "cell_type": "code",
   "execution_count": 0,
   "metadata": {
    "application/vnd.databricks.v1+cell": {
     "inputWidgets": {},
     "nuid": "49f42e5b-6b93-436f-8ebe-bbf4652adce6",
     "showTitle": false,
     "title": ""
    }
   },
   "outputs": [
    {
     "data": {
      "text/html": [
       "<style scoped>\n",
       "  .ansiout {\n",
       "    display: block;\n",
       "    unicode-bidi: embed;\n",
       "    white-space: pre-wrap;\n",
       "    word-wrap: break-word;\n",
       "    word-break: break-all;\n",
       "    font-family: \"Source Code Pro\", \"Menlo\", monospace;;\n",
       "    font-size: 13px;\n",
       "    color: #555;\n",
       "    margin-left: 4px;\n",
       "    line-height: 19px;\n",
       "  }\n",
       "</style>\n",
       "<div class=\"ansiout\"></div>"
      ]
     },
     "metadata": {
      "application/vnd.databricks.v1+output": {
       "addedWidgets": {},
       "arguments": {},
       "data": "<div class=\"ansiout\"></div>",
       "datasetInfos": [],
       "removedWidgets": [],
       "type": "html"
      }
     },
     "output_type": "display_data"
    }
   ],
   "source": [
    "result = model.transform(pubMedDF.limit(100))"
   ]
  },
  {
   "cell_type": "code",
   "execution_count": 0,
   "metadata": {
    "application/vnd.databricks.v1+cell": {
     "inputWidgets": {},
     "nuid": "a039d3b6-ea26-40a6-a6d2-1dd7a1fd7c89",
     "showTitle": false,
     "title": ""
    }
   },
   "outputs": [
    {
     "data": {
      "text/html": [
       "<style scoped>\n",
       "  .ansiout {\n",
       "    display: block;\n",
       "    unicode-bidi: embed;\n",
       "    white-space: pre-wrap;\n",
       "    word-wrap: break-word;\n",
       "    word-break: break-all;\n",
       "    font-family: \"Source Code Pro\", \"Menlo\", monospace;;\n",
       "    font-size: 13px;\n",
       "    color: #555;\n",
       "    margin-left: 4px;\n",
       "    line-height: 19px;\n",
       "  }\n",
       "</style>\n",
       "<div class=\"ansiout\">+--------------------+--------------------+--------------------+--------------------+--------------------+--------------------+--------------------+\n",
       "                text|            document|            sentence|               token|          embeddings|                 ner|           ner_chunk|\n",
       "+--------------------+--------------------+--------------------+--------------------+--------------------+--------------------+--------------------+\n",
       "The human KCNJ9 (...|[[document, 0, 95...|[[document, 0, 12...|[[token, 0, 2, Th...|[[word_embeddings...|[[named_entity, 0...|[[chunk, 48, 106,...|\n",
       "BACKGROUND: At pr...|[[document, 0, 14...|[[document, 0, 19...|[[token, 0, 9, BA...|[[word_embeddings...|[[named_entity, 0...|[[chunk, 67, 79, ...|\n",
       "OBJECTIVE: To inv...|[[document, 0, 15...|[[document, 0, 14...|[[token, 0, 8, OB...|[[word_embeddings...|[[named_entity, 0...|[[chunk, 130, 144...|\n",
       "Combined EEG/fMRI...|[[document, 0, 16...|[[document, 0, 29...|[[token, 0, 7, Co...|[[word_embeddings...|[[named_entity, 0...|[[chunk, 0, 26, C...|\n",
       "Kohlschutter synd...|[[document, 0, 25...|[[document, 0, 20...|[[token, 0, 11, K...|[[word_embeddings...|[[named_entity, 0...|[[chunk, 0, 20, K...|\n",
       "Statistical analy...|[[document, 0, 10...|[[document, 0, 22...|[[token, 0, 10, S...|[[word_embeddings...|[[named_entity, 0...|[[chunk, 0, 34, S...|\n",
       "The synthetic DOX...|[[document, 0, 57...|[[document, 0, 10...|[[token, 0, 2, Th...|[[word_embeddings...|[[named_entity, 0...|[[chunk, 0, 30, T...|\n",
       "Our objective was...|[[document, 0, 24...|[[document, 0, 19...|[[token, 0, 2, Ou...|[[word_embeddings...|[[named_entity, 0...|[[chunk, 56, 80, ...|\n",
       "We conducted a ph...|[[document, 0, 14...|[[document, 0, 24...|[[token, 0, 1, We...|[[word_embeddings...|[[named_entity, 0...|[[chunk, 13, 28, ...|\n",
       "&#34;&#34;&#34;Monomeric sarc...|[[document, 0, 14...|[[document, 0, 14...|[[token, 0, 2, &#34;&#34;...|[[word_embeddings...|[[named_entity, 0...|[[chunk, 3, 36, M...|\n",
       "We presented the ...|[[document, 0, 12...|[[document, 0, 34...|[[token, 0, 1, We...|[[word_embeddings...|[[named_entity, 0...|[[chunk, 13, 46, ...|\n",
       "The literature de...|[[document, 0, 16...|[[document, 0, 13...|[[token, 0, 2, Th...|[[word_embeddings...|[[named_entity, 0...|[[chunk, 154, 166...|\n",
       "A novel approach ...|[[document, 0, 64...|[[document, 0, 97...|[[token, 0, 0, A,...|[[word_embeddings...|[[named_entity, 0...|[[chunk, 99, 124,...|\n",
       "An HPLC-ESI-MS-MS...|[[document, 0, 90...|[[document, 0, 24...|[[token, 0, 1, An...|[[word_embeddings...|[[named_entity, 0...|[[chunk, 0, 23, A...|\n",
       "The localizing an...|[[document, 0, 72...|[[document, 0, 12...|[[token, 0, 2, Th...|[[word_embeddings...|[[named_entity, 0...|[[chunk, 50, 70, ...|\n",
       "OBJECTIVE: To eva...|[[document, 0, 13...|[[document, 0, 14...|[[token, 0, 8, OB...|[[word_embeddings...|[[named_entity, 0...|[[chunk, 97, 143,...|\n",
       "For the construct...|[[document, 0, 32...|[[document, 0, 20...|[[token, 0, 2, Fo...|[[word_embeddings...|[[named_entity, 0...|[[chunk, 24, 50, ...|\n",
       "We report the res...|[[document, 0, 13...|[[document, 0, 31...|[[token, 0, 1, We...|[[word_embeddings...|[[named_entity, 0...|[[chunk, 25, 32, ...|\n",
       "Intraparenchymal ...|[[document, 0, 10...|[[document, 0, 53...|[[token, 0, 15, I...|[[word_embeddings...|[[named_entity, 0...|[[chunk, 0, 33, I...|\n",
       "It is known that ...|[[document, 0, 34...|[[document, 0, 14...|[[token, 0, 1, It...|[[word_embeddings...|[[named_entity, 0...|[[chunk, 31, 52, ...|\n",
       "+--------------------+--------------------+--------------------+--------------------+--------------------+--------------------+--------------------+\n",
       "only showing top 20 rows\n",
       "\n",
       "</div>"
      ]
     },
     "metadata": {
      "application/vnd.databricks.v1+output": {
       "addedWidgets": {},
       "arguments": {},
       "data": "<div class=\"ansiout\">+--------------------+--------------------+--------------------+--------------------+--------------------+--------------------+--------------------+\n|                text|            document|            sentence|               token|          embeddings|                 ner|           ner_chunk|\n+--------------------+--------------------+--------------------+--------------------+--------------------+--------------------+--------------------+\n|The human KCNJ9 (...|[[document, 0, 95...|[[document, 0, 12...|[[token, 0, 2, Th...|[[word_embeddings...|[[named_entity, 0...|[[chunk, 48, 106,...|\n|BACKGROUND: At pr...|[[document, 0, 14...|[[document, 0, 19...|[[token, 0, 9, BA...|[[word_embeddings...|[[named_entity, 0...|[[chunk, 67, 79, ...|\n|OBJECTIVE: To inv...|[[document, 0, 15...|[[document, 0, 14...|[[token, 0, 8, OB...|[[word_embeddings...|[[named_entity, 0...|[[chunk, 130, 144...|\n|Combined EEG/fMRI...|[[document, 0, 16...|[[document, 0, 29...|[[token, 0, 7, Co...|[[word_embeddings...|[[named_entity, 0...|[[chunk, 0, 26, C...|\n|Kohlschutter synd...|[[document, 0, 25...|[[document, 0, 20...|[[token, 0, 11, K...|[[word_embeddings...|[[named_entity, 0...|[[chunk, 0, 20, K...|\n|Statistical analy...|[[document, 0, 10...|[[document, 0, 22...|[[token, 0, 10, S...|[[word_embeddings...|[[named_entity, 0...|[[chunk, 0, 34, S...|\n|The synthetic DOX...|[[document, 0, 57...|[[document, 0, 10...|[[token, 0, 2, Th...|[[word_embeddings...|[[named_entity, 0...|[[chunk, 0, 30, T...|\n|Our objective was...|[[document, 0, 24...|[[document, 0, 19...|[[token, 0, 2, Ou...|[[word_embeddings...|[[named_entity, 0...|[[chunk, 56, 80, ...|\n|We conducted a ph...|[[document, 0, 14...|[[document, 0, 24...|[[token, 0, 1, We...|[[word_embeddings...|[[named_entity, 0...|[[chunk, 13, 28, ...|\n|&#34;&#34;&#34;Monomeric sarc...|[[document, 0, 14...|[[document, 0, 14...|[[token, 0, 2, &#34;&#34;...|[[word_embeddings...|[[named_entity, 0...|[[chunk, 3, 36, M...|\n|We presented the ...|[[document, 0, 12...|[[document, 0, 34...|[[token, 0, 1, We...|[[word_embeddings...|[[named_entity, 0...|[[chunk, 13, 46, ...|\n|The literature de...|[[document, 0, 16...|[[document, 0, 13...|[[token, 0, 2, Th...|[[word_embeddings...|[[named_entity, 0...|[[chunk, 154, 166...|\n|A novel approach ...|[[document, 0, 64...|[[document, 0, 97...|[[token, 0, 0, A,...|[[word_embeddings...|[[named_entity, 0...|[[chunk, 99, 124,...|\n|An HPLC-ESI-MS-MS...|[[document, 0, 90...|[[document, 0, 24...|[[token, 0, 1, An...|[[word_embeddings...|[[named_entity, 0...|[[chunk, 0, 23, A...|\n|The localizing an...|[[document, 0, 72...|[[document, 0, 12...|[[token, 0, 2, Th...|[[word_embeddings...|[[named_entity, 0...|[[chunk, 50, 70, ...|\n|OBJECTIVE: To eva...|[[document, 0, 13...|[[document, 0, 14...|[[token, 0, 8, OB...|[[word_embeddings...|[[named_entity, 0...|[[chunk, 97, 143,...|\n|For the construct...|[[document, 0, 32...|[[document, 0, 20...|[[token, 0, 2, Fo...|[[word_embeddings...|[[named_entity, 0...|[[chunk, 24, 50, ...|\n|We report the res...|[[document, 0, 13...|[[document, 0, 31...|[[token, 0, 1, We...|[[word_embeddings...|[[named_entity, 0...|[[chunk, 25, 32, ...|\n|Intraparenchymal ...|[[document, 0, 10...|[[document, 0, 53...|[[token, 0, 15, I...|[[word_embeddings...|[[named_entity, 0...|[[chunk, 0, 33, I...|\n|It is known that ...|[[document, 0, 34...|[[document, 0, 14...|[[token, 0, 1, It...|[[word_embeddings...|[[named_entity, 0...|[[chunk, 31, 52, ...|\n+--------------------+--------------------+--------------------+--------------------+--------------------+--------------------+--------------------+\nonly showing top 20 rows\n\n</div>",
       "datasetInfos": [],
       "removedWidgets": [],
       "type": "html"
      }
     },
     "output_type": "display_data"
    }
   ],
   "source": [
    "result.show()"
   ]
  },
  {
   "cell_type": "code",
   "execution_count": 0,
   "metadata": {
    "application/vnd.databricks.v1+cell": {
     "inputWidgets": {},
     "nuid": "1e5055e9-b3c6-42ec-a7b1-0008d13a40d3",
     "showTitle": false,
     "title": ""
    }
   },
   "outputs": [
    {
     "data": {
      "text/html": [
       "<style scoped>\n",
       "  .ansiout {\n",
       "    display: block;\n",
       "    unicode-bidi: embed;\n",
       "    white-space: pre-wrap;\n",
       "    word-wrap: break-word;\n",
       "    word-break: break-all;\n",
       "    font-family: \"Source Code Pro\", \"Menlo\", monospace;;\n",
       "    font-size: 13px;\n",
       "    color: #555;\n",
       "    margin-left: 4px;\n",
       "    line-height: 19px;\n",
       "  }\n",
       "</style>\n",
       "<div class=\"ansiout\">+--------------------------------------------------------------------------------+--------------------------------------------------------------------------------+\n",
       "                                                                          result|                                                                          result|\n",
       "+--------------------------------------------------------------------------------+--------------------------------------------------------------------------------+\n",
       "[The, human, KCNJ9, (, Kir, 3.3, ,, GIRK3, ), is, a, member, of, the, G-prote...|[O, O, O, O, O, O, O, O, O, O, O, O, O, B-TREATMENT, I-TREATMENT, I-TREATMENT...|\n",
       "[BACKGROUND, :, At, present, ,, it, is, one, of, the, most, important, issues...|[O, O, O, O, O, O, O, O, O, O, O, O, O, O, B-TREATMENT, I-TREATMENT, O, B-PRO...|\n",
       "[OBJECTIVE, :, To, investigate, the, relationship, between, preoperative, atr...|[O, O, O, O, O, O, O, O, O, O, O, O, O, O, O, O, B-TREATMENT, I-TREATMENT, O,...|\n",
       "[Combined, EEG/fMRI, recording, has, been, used, to, localize, the, generator...|[B-TEST, I-TEST, I-TEST, O, O, O, O, O, O, O, O, O, O, O, O, O, O, O, B-TEST,...|\n",
       "[Kohlschutter, syndrome, is, a, rare, neurodegenerative, disorder, presenting...|[B-PROBLEM, I-PROBLEM, O, B-PROBLEM, I-PROBLEM, I-PROBLEM, I-PROBLEM, O, B-PR...|\n",
       "[Statistical, analysis, of, neuroimages, is, commonly, approached, with, inte...|[B-TEST, I-TEST, I-TEST, I-TEST, O, O, O, O, B-PROBLEM, O, O, O, O, O, O, O, ...|\n",
       "[The, synthetic, DOX-LNA, conjugate, was, characterized, by, proton, nuclear,...|[B-PROBLEM, I-PROBLEM, I-PROBLEM, I-PROBLEM, O, O, O, B-PROBLEM, I-PROBLEM, I...|\n",
       "[Our, objective, was, to, compare, three, different, methods, of, blood, pres...|[O, O, O, O, O, O, O, O, O, B-TREATMENT, I-TREATMENT, O, O, O, O, B-TEST, I-T...|\n",
       "[We, conducted, a, phase, II, study, to, assess, the, efficacy, and, tolerabi...|[O, O, B-TEST, I-TEST, I-TEST, I-TEST, O, O, B-TREATMENT, I-TREATMENT, O, B-T...|\n",
       "[&#34;&#34;&#34;, Monomeric, sarcosine, oxidase, (, MSOX, ), is, a, flavoenzyme, that, ca...|[O, B-TREATMENT, I-TREATMENT, I-TREATMENT, I-TREATMENT, I-TREATMENT, I-TREATM...|\n",
       "[We, presented, the, tachinid, fly, Exorista, japonica, with, moving, host, m...|[O, O, B-PROBLEM, I-PROBLEM, I-PROBLEM, I-PROBLEM, I-PROBLEM, O, O, O, O, O, ...|\n",
       "[The, literature, dealing, with, the, water, conducting, properties, of, sapw...|[O, O, O, O, O, O, O, O, O, O, O, O, O, O, O, O, O, O, O, O, O, O, O, O, B-PR...|\n",
       "[A, novel, approach, to, synthesize, chitosan-O-isopropyl-5&#39;-O-d4T, monophosp...|[O, O, O, O, O, O, O, O, O, O, B-TREATMENT, I-TREATMENT, O, O, B-PROBLEM, I-P...|\n",
       "[An, HPLC-ESI-MS-MS, method, has, been, developed, for, the, quantitative, de...|[B-TEST, I-TEST, I-TEST, O, O, O, O, O, O, O, B-PROBLEM, I-PROBLEM, O, B-TREA...|\n",
       "[The, localizing, and, lateralizing, values, of, eye, and, head, ictal, devia...|[O, O, O, O, O, O, O, O, B-PROBLEM, I-PROBLEM, I-PROBLEM, B-PROBLEM, I-PROBLE...|\n",
       "[OBJECTIVE, :, To, evaluate, the, effectiveness, and, acceptability, of, expe...|[O, O, O, O, O, O, O, O, O, O, O, O, O, B-PROBLEM, I-PROBLEM, I-PROBLEM, I-PR...|\n",
       "[For, the, construction, of, new, combinatorial, libraries, ,, a, lead, compo...|[O, O, O, O, B-PROBLEM, I-PROBLEM, I-PROBLEM, O, B-PROBLEM, I-PROBLEM, I-PROB...|\n",
       "[We, report, the, results, of, a, screen, for, genetic, association, with, ur...|[O, O, O, O, O, B-TEST, I-TEST, O, O, O, O, B-PROBLEM, I-PROBLEM, I-PROBLEM, ...|\n",
       "[Intraparenchymal, pericatheter, cyst, is, rarely, reported, ., Obstruction, ...|[B-PROBLEM, I-PROBLEM, I-PROBLEM, O, O, O, O, B-PROBLEM, I-PROBLEM, I-PROBLEM...|\n",
       "[It, is, known, that, patients, with, Klinefelter&#39;s, syndrome, are, inclined,...|[O, O, O, O, O, O, B-PROBLEM, I-PROBLEM, O, O, O, B-PROBLEM, I-PROBLEM, I-PRO...|\n",
       "+--------------------------------------------------------------------------------+--------------------------------------------------------------------------------+\n",
       "only showing top 20 rows\n",
       "\n",
       "</div>"
      ]
     },
     "metadata": {
      "application/vnd.databricks.v1+output": {
       "addedWidgets": {},
       "arguments": {},
       "data": "<div class=\"ansiout\">+--------------------------------------------------------------------------------+--------------------------------------------------------------------------------+\n|                                                                          result|                                                                          result|\n+--------------------------------------------------------------------------------+--------------------------------------------------------------------------------+\n|[The, human, KCNJ9, (, Kir, 3.3, ,, GIRK3, ), is, a, member, of, the, G-prote...|[O, O, O, O, O, O, O, O, O, O, O, O, O, B-TREATMENT, I-TREATMENT, I-TREATMENT...|\n|[BACKGROUND, :, At, present, ,, it, is, one, of, the, most, important, issues...|[O, O, O, O, O, O, O, O, O, O, O, O, O, O, B-TREATMENT, I-TREATMENT, O, B-PRO...|\n|[OBJECTIVE, :, To, investigate, the, relationship, between, preoperative, atr...|[O, O, O, O, O, O, O, O, O, O, O, O, O, O, O, O, B-TREATMENT, I-TREATMENT, O,...|\n|[Combined, EEG/fMRI, recording, has, been, used, to, localize, the, generator...|[B-TEST, I-TEST, I-TEST, O, O, O, O, O, O, O, O, O, O, O, O, O, O, O, B-TEST,...|\n|[Kohlschutter, syndrome, is, a, rare, neurodegenerative, disorder, presenting...|[B-PROBLEM, I-PROBLEM, O, B-PROBLEM, I-PROBLEM, I-PROBLEM, I-PROBLEM, O, B-PR...|\n|[Statistical, analysis, of, neuroimages, is, commonly, approached, with, inte...|[B-TEST, I-TEST, I-TEST, I-TEST, O, O, O, O, B-PROBLEM, O, O, O, O, O, O, O, ...|\n|[The, synthetic, DOX-LNA, conjugate, was, characterized, by, proton, nuclear,...|[B-PROBLEM, I-PROBLEM, I-PROBLEM, I-PROBLEM, O, O, O, B-PROBLEM, I-PROBLEM, I...|\n|[Our, objective, was, to, compare, three, different, methods, of, blood, pres...|[O, O, O, O, O, O, O, O, O, B-TREATMENT, I-TREATMENT, O, O, O, O, B-TEST, I-T...|\n|[We, conducted, a, phase, II, study, to, assess, the, efficacy, and, tolerabi...|[O, O, B-TEST, I-TEST, I-TEST, I-TEST, O, O, B-TREATMENT, I-TREATMENT, O, B-T...|\n|[&#34;&#34;&#34;, Monomeric, sarcosine, oxidase, (, MSOX, ), is, a, flavoenzyme, that, ca...|[O, B-TREATMENT, I-TREATMENT, I-TREATMENT, I-TREATMENT, I-TREATMENT, I-TREATM...|\n|[We, presented, the, tachinid, fly, Exorista, japonica, with, moving, host, m...|[O, O, B-PROBLEM, I-PROBLEM, I-PROBLEM, I-PROBLEM, I-PROBLEM, O, O, O, O, O, ...|\n|[The, literature, dealing, with, the, water, conducting, properties, of, sapw...|[O, O, O, O, O, O, O, O, O, O, O, O, O, O, O, O, O, O, O, O, O, O, O, O, B-PR...|\n|[A, novel, approach, to, synthesize, chitosan-O-isopropyl-5&#39;-O-d4T, monophosp...|[O, O, O, O, O, O, O, O, O, O, B-TREATMENT, I-TREATMENT, O, O, B-PROBLEM, I-P...|\n|[An, HPLC-ESI-MS-MS, method, has, been, developed, for, the, quantitative, de...|[B-TEST, I-TEST, I-TEST, O, O, O, O, O, O, O, B-PROBLEM, I-PROBLEM, O, B-TREA...|\n|[The, localizing, and, lateralizing, values, of, eye, and, head, ictal, devia...|[O, O, O, O, O, O, O, O, B-PROBLEM, I-PROBLEM, I-PROBLEM, B-PROBLEM, I-PROBLE...|\n|[OBJECTIVE, :, To, evaluate, the, effectiveness, and, acceptability, of, expe...|[O, O, O, O, O, O, O, O, O, O, O, O, O, B-PROBLEM, I-PROBLEM, I-PROBLEM, I-PR...|\n|[For, the, construction, of, new, combinatorial, libraries, ,, a, lead, compo...|[O, O, O, O, B-PROBLEM, I-PROBLEM, I-PROBLEM, O, B-PROBLEM, I-PROBLEM, I-PROB...|\n|[We, report, the, results, of, a, screen, for, genetic, association, with, ur...|[O, O, O, O, O, B-TEST, I-TEST, O, O, O, O, B-PROBLEM, I-PROBLEM, I-PROBLEM, ...|\n|[Intraparenchymal, pericatheter, cyst, is, rarely, reported, ., Obstruction, ...|[B-PROBLEM, I-PROBLEM, I-PROBLEM, O, O, O, O, B-PROBLEM, I-PROBLEM, I-PROBLEM...|\n|[It, is, known, that, patients, with, Klinefelter&#39;s, syndrome, are, inclined,...|[O, O, O, O, O, O, B-PROBLEM, I-PROBLEM, O, O, O, B-PROBLEM, I-PROBLEM, I-PRO...|\n+--------------------------------------------------------------------------------+--------------------------------------------------------------------------------+\nonly showing top 20 rows\n\n</div>",
       "datasetInfos": [],
       "removedWidgets": [],
       "type": "html"
      }
     },
     "output_type": "display_data"
    }
   ],
   "source": [
    "result.select('token.result','ner.result').show(truncate=80)"
   ]
  },
  {
   "cell_type": "code",
   "execution_count": 0,
   "metadata": {
    "application/vnd.databricks.v1+cell": {
     "inputWidgets": {},
     "nuid": "e9ed5bbf-7190-43d2-82ab-5d59f76d6ff0",
     "showTitle": false,
     "title": ""
    }
   },
   "outputs": [
    {
     "data": {
      "text/html": [
       "<style scoped>\n",
       "  .ansiout {\n",
       "    display: block;\n",
       "    unicode-bidi: embed;\n",
       "    white-space: pre-wrap;\n",
       "    word-wrap: break-word;\n",
       "    word-break: break-all;\n",
       "    font-family: \"Source Code Pro\", \"Menlo\", monospace;;\n",
       "    font-size: 13px;\n",
       "    color: #555;\n",
       "    margin-left: 4px;\n",
       "    line-height: 19px;\n",
       "  }\n",
       "</style>\n",
       "<div class=\"ansiout\">+-------------------+-----------+\n",
       "              token|  ner_label|\n",
       "+-------------------+-----------+\n",
       "                The|          O|\n",
       "              human|          O|\n",
       "              KCNJ9|          O|\n",
       "                  (|          O|\n",
       "                Kir|          O|\n",
       "                3.3|          O|\n",
       "                  ,|          O|\n",
       "              GIRK3|          O|\n",
       "                  )|          O|\n",
       "                 is|          O|\n",
       "                  a|          O|\n",
       "             member|          O|\n",
       "                 of|          O|\n",
       "                the|B-TREATMENT|\n",
       "G-protein-activated|I-TREATMENT|\n",
       "           inwardly|I-TREATMENT|\n",
       "         rectifying|I-TREATMENT|\n",
       "          potassium|I-TREATMENT|\n",
       "                  (|I-TREATMENT|\n",
       "               GIRK|I-TREATMENT|\n",
       "                  )|          O|\n",
       "            channel|          O|\n",
       "             family|          O|\n",
       "                  .|          O|\n",
       "               Here|          O|\n",
       "                 we|          O|\n",
       "           describe|          O|\n",
       "                the|B-TREATMENT|\n",
       "genomicorganization|I-TREATMENT|\n",
       "                 of|          O|\n",
       "                the|          O|\n",
       "              KCNJ9|          O|\n",
       "              locus|          O|\n",
       "                 on|          O|\n",
       "         chromosome|          O|\n",
       "            1q21-23|          O|\n",
       "                 as|          O|\n",
       "                  a|  B-PROBLEM|\n",
       "          candidate|  I-PROBLEM|\n",
       "               gene|  I-PROBLEM|\n",
       "            forType|  I-PROBLEM|\n",
       "                 II|  I-PROBLEM|\n",
       "           diabetes|  I-PROBLEM|\n",
       "           mellitus|  I-PROBLEM|\n",
       "                 in|          O|\n",
       "                the|          O|\n",
       "               Pima|          O|\n",
       "             Indian|          O|\n",
       "         population|          O|\n",
       "                  .|          O|\n",
       "+-------------------+-----------+\n",
       "only showing top 50 rows\n",
       "\n",
       "</div>"
      ]
     },
     "metadata": {
      "application/vnd.databricks.v1+output": {
       "addedWidgets": {},
       "arguments": {},
       "data": "<div class=\"ansiout\">+-------------------+-----------+\n|              token|  ner_label|\n+-------------------+-----------+\n|                The|          O|\n|              human|          O|\n|              KCNJ9|          O|\n|                  (|          O|\n|                Kir|          O|\n|                3.3|          O|\n|                  ,|          O|\n|              GIRK3|          O|\n|                  )|          O|\n|                 is|          O|\n|                  a|          O|\n|             member|          O|\n|                 of|          O|\n|                the|B-TREATMENT|\n|G-protein-activated|I-TREATMENT|\n|           inwardly|I-TREATMENT|\n|         rectifying|I-TREATMENT|\n|          potassium|I-TREATMENT|\n|                  (|I-TREATMENT|\n|               GIRK|I-TREATMENT|\n|                  )|          O|\n|            channel|          O|\n|             family|          O|\n|                  .|          O|\n|               Here|          O|\n|                 we|          O|\n|           describe|          O|\n|                the|B-TREATMENT|\n|genomicorganization|I-TREATMENT|\n|                 of|          O|\n|                the|          O|\n|              KCNJ9|          O|\n|              locus|          O|\n|                 on|          O|\n|         chromosome|          O|\n|            1q21-23|          O|\n|                 as|          O|\n|                  a|  B-PROBLEM|\n|          candidate|  I-PROBLEM|\n|               gene|  I-PROBLEM|\n|            forType|  I-PROBLEM|\n|                 II|  I-PROBLEM|\n|           diabetes|  I-PROBLEM|\n|           mellitus|  I-PROBLEM|\n|                 in|          O|\n|                the|          O|\n|               Pima|          O|\n|             Indian|          O|\n|         population|          O|\n|                  .|          O|\n+-------------------+-----------+\nonly showing top 50 rows\n\n</div>",
       "datasetInfos": [],
       "removedWidgets": [],
       "type": "html"
      }
     },
     "output_type": "display_data"
    }
   ],
   "source": [
    "result_df = result.select(F.explode(F.arrays_zip('token.result', 'ner.result')).alias(\"cols\")) \\\n",
    ".select(F.expr(\"cols['0']\").alias(\"token\"),\n",
    "        F.expr(\"cols['1']\").alias(\"ner_label\"))\n",
    "\n",
    "result_df.show(50, truncate=100)"
   ]
  },
  {
   "cell_type": "code",
   "execution_count": 0,
   "metadata": {
    "application/vnd.databricks.v1+cell": {
     "inputWidgets": {},
     "nuid": "d62bc5a9-2177-4f32-9fce-493617109e0c",
     "showTitle": false,
     "title": ""
    }
   },
   "outputs": [
    {
     "data": {
      "text/html": [
       "<style scoped>\n",
       "  .ansiout {\n",
       "    display: block;\n",
       "    unicode-bidi: embed;\n",
       "    white-space: pre-wrap;\n",
       "    word-wrap: break-word;\n",
       "    word-break: break-all;\n",
       "    font-family: \"Source Code Pro\", \"Menlo\", monospace;;\n",
       "    font-size: 13px;\n",
       "    color: #555;\n",
       "    margin-left: 4px;\n",
       "    line-height: 19px;\n",
       "  }\n",
       "</style>\n",
       "<div class=\"ansiout\">+-----------+-----+\n",
       "ner_label  |count|\n",
       "+-----------+-----+\n",
       "O          |13906|\n",
       "I-PROBLEM  |1586 |\n",
       "B-PROBLEM  |913  |\n",
       "I-TREATMENT|736  |\n",
       "I-TEST     |627  |\n",
       "B-TREATMENT|614  |\n",
       "B-TEST     |529  |\n",
       "+-----------+-----+\n",
       "\n",
       "</div>"
      ]
     },
     "metadata": {
      "application/vnd.databricks.v1+output": {
       "addedWidgets": {},
       "arguments": {},
       "data": "<div class=\"ansiout\">+-----------+-----+\n|ner_label  |count|\n+-----------+-----+\n|O          |13906|\n|I-PROBLEM  |1586 |\n|B-PROBLEM  |913  |\n|I-TREATMENT|736  |\n|I-TEST     |627  |\n|B-TREATMENT|614  |\n|B-TEST     |529  |\n+-----------+-----+\n\n</div>",
       "datasetInfos": [],
       "removedWidgets": [],
       "type": "html"
      }
     },
     "output_type": "display_data"
    }
   ],
   "source": [
    "result_df.select(\"token\", \"ner_label\").groupBy('ner_label').count().orderBy('count', ascending=False).show(truncate=False)"
   ]
  },
  {
   "cell_type": "code",
   "execution_count": 0,
   "metadata": {
    "application/vnd.databricks.v1+cell": {
     "inputWidgets": {},
     "nuid": "cac8e54f-f77b-43e4-8c7c-ce6e94d0e551",
     "showTitle": false,
     "title": ""
    }
   },
   "outputs": [
    {
     "data": {
      "text/html": [
       "<style scoped>\n",
       "  .ansiout {\n",
       "    display: block;\n",
       "    unicode-bidi: embed;\n",
       "    white-space: pre-wrap;\n",
       "    word-wrap: break-word;\n",
       "    word-break: break-all;\n",
       "    font-family: \"Source Code Pro\", \"Menlo\", monospace;;\n",
       "    font-size: 13px;\n",
       "    color: #555;\n",
       "    margin-left: 4px;\n",
       "    line-height: 19px;\n",
       "  }\n",
       "</style>\n",
       "<div class=\"ansiout\">Out[15]: [Row(ner_chunk=[Row(annotatorType=&#39;chunk&#39;, begin=48, end=106, result=&#39;the G-protein-activated inwardly rectifying potassium (GIRK&#39;, metadata={&#39;sentence&#39;: &#39;0&#39;, &#39;chunk&#39;: &#39;0&#39;, &#39;entity&#39;: &#39;TREATMENT&#39;}, embeddings=[]), Row(annotatorType=&#39;chunk&#39;, begin=142, end=164, result=&#39;the genomicorganization&#39;, metadata={&#39;sentence&#39;: &#39;1&#39;, &#39;chunk&#39;: &#39;1&#39;, &#39;entity&#39;: &#39;TREATMENT&#39;}, embeddings=[]), Row(annotatorType=&#39;chunk&#39;, begin=210, end=254, result=&#39;a candidate gene forType II diabetes mellitus&#39;, metadata={&#39;sentence&#39;: &#39;1&#39;, &#39;chunk&#39;: &#39;2&#39;, &#39;entity&#39;: &#39;PROBLEM&#39;}, embeddings=[]), Row(annotatorType=&#39;chunk&#39;, begin=380, end=394, result=&#39;byapproximately&#39;, metadata={&#39;sentence&#39;: &#39;2&#39;, &#39;chunk&#39;: &#39;3&#39;, &#39;entity&#39;: &#39;TREATMENT&#39;}, embeddings=[]), Row(annotatorType=&#39;chunk&#39;, begin=464, end=494, result=&#39;single nucleotide polymorphisms&#39;, metadata={&#39;sentence&#39;: &#39;3&#39;, &#39;chunk&#39;: &#39;4&#39;, &#39;entity&#39;: &#39;TREATMENT&#39;}, embeddings=[]), Row(annotatorType=&#39;chunk&#39;, begin=532, end=554, result=&#39;aVal366Ala substitution&#39;, metadata={&#39;sentence&#39;: &#39;3&#39;, &#39;chunk&#39;: &#39;5&#39;, &#39;entity&#39;: &#39;PROBLEM&#39;}, embeddings=[]), Row(annotatorType=&#39;chunk&#39;, begin=561, end=574, result=&#39;an 8 base-pair&#39;, metadata={&#39;sentence&#39;: &#39;3&#39;, &#39;chunk&#39;: &#39;6&#39;, &#39;entity&#39;: &#39;PROBLEM&#39;}, embeddings=[]), Row(annotatorType=&#39;chunk&#39;, begin=581, end=598, result=&#39;insertion/deletion&#39;, metadata={&#39;sentence&#39;: &#39;3&#39;, &#39;chunk&#39;: &#39;7&#39;, &#39;entity&#39;: &#39;PROBLEM&#39;}, embeddings=[]), Row(annotatorType=&#39;chunk&#39;, begin=601, end=621, result=&#39;Ourexpression studies&#39;, metadata={&#39;sentence&#39;: &#39;4&#39;, &#39;chunk&#39;: &#39;8&#39;, &#39;entity&#39;: &#39;TEST&#39;}, embeddings=[]), Row(annotatorType=&#39;chunk&#39;, begin=648, end=685, result=&#39;the transcript in various humantissues&#39;, metadata={&#39;sentence&#39;: &#39;4&#39;, &#39;chunk&#39;: &#39;9&#39;, &#39;entity&#39;: &#39;PROBLEM&#39;}, embeddings=[]), Row(annotatorType=&#39;chunk&#39;, begin=749, end=770, result=&#39;fat andskeletal muscle&#39;, metadata={&#39;sentence&#39;: &#39;4&#39;, &#39;chunk&#39;: &#39;10&#39;, &#39;entity&#39;: &#39;PROBLEM&#39;}, embeddings=[]), Row(annotatorType=&#39;chunk&#39;, begin=830, end=843, result=&#39;furtherstudies&#39;, metadata={&#39;sentence&#39;: &#39;5&#39;, &#39;chunk&#39;: &#39;11&#39;, &#39;entity&#39;: &#39;PROBLEM&#39;}, embeddings=[]), Row(annotatorType=&#39;chunk&#39;, begin=864, end=880, result=&#39;the KCNJ9 protein&#39;, metadata={&#39;sentence&#39;: &#39;5&#39;, &#39;chunk&#39;: &#39;12&#39;, &#39;entity&#39;: &#39;TREATMENT&#39;}, embeddings=[]), Row(annotatorType=&#39;chunk&#39;, begin=892, end=901, result=&#39;evaluation&#39;, metadata={&#39;sentence&#39;: &#39;5&#39;, &#39;chunk&#39;: &#39;13&#39;, &#39;entity&#39;: &#39;TEST&#39;}, embeddings=[]), Row(annotatorType=&#39;chunk&#39;, begin=940, end=955, result=&#39;Type II diabetes&#39;, metadata={&#39;sentence&#39;: &#39;5&#39;, &#39;chunk&#39;: &#39;14&#39;, &#39;entity&#39;: &#39;PROBLEM&#39;}, embeddings=[])])]</div>"
      ]
     },
     "metadata": {
      "application/vnd.databricks.v1+output": {
       "addedWidgets": {},
       "arguments": {},
       "data": "<div class=\"ansiout\">Out[15]: [Row(ner_chunk=[Row(annotatorType=&#39;chunk&#39;, begin=48, end=106, result=&#39;the G-protein-activated inwardly rectifying potassium (GIRK&#39;, metadata={&#39;sentence&#39;: &#39;0&#39;, &#39;chunk&#39;: &#39;0&#39;, &#39;entity&#39;: &#39;TREATMENT&#39;}, embeddings=[]), Row(annotatorType=&#39;chunk&#39;, begin=142, end=164, result=&#39;the genomicorganization&#39;, metadata={&#39;sentence&#39;: &#39;1&#39;, &#39;chunk&#39;: &#39;1&#39;, &#39;entity&#39;: &#39;TREATMENT&#39;}, embeddings=[]), Row(annotatorType=&#39;chunk&#39;, begin=210, end=254, result=&#39;a candidate gene forType II diabetes mellitus&#39;, metadata={&#39;sentence&#39;: &#39;1&#39;, &#39;chunk&#39;: &#39;2&#39;, &#39;entity&#39;: &#39;PROBLEM&#39;}, embeddings=[]), Row(annotatorType=&#39;chunk&#39;, begin=380, end=394, result=&#39;byapproximately&#39;, metadata={&#39;sentence&#39;: &#39;2&#39;, &#39;chunk&#39;: &#39;3&#39;, &#39;entity&#39;: &#39;TREATMENT&#39;}, embeddings=[]), Row(annotatorType=&#39;chunk&#39;, begin=464, end=494, result=&#39;single nucleotide polymorphisms&#39;, metadata={&#39;sentence&#39;: &#39;3&#39;, &#39;chunk&#39;: &#39;4&#39;, &#39;entity&#39;: &#39;TREATMENT&#39;}, embeddings=[]), Row(annotatorType=&#39;chunk&#39;, begin=532, end=554, result=&#39;aVal366Ala substitution&#39;, metadata={&#39;sentence&#39;: &#39;3&#39;, &#39;chunk&#39;: &#39;5&#39;, &#39;entity&#39;: &#39;PROBLEM&#39;}, embeddings=[]), Row(annotatorType=&#39;chunk&#39;, begin=561, end=574, result=&#39;an 8 base-pair&#39;, metadata={&#39;sentence&#39;: &#39;3&#39;, &#39;chunk&#39;: &#39;6&#39;, &#39;entity&#39;: &#39;PROBLEM&#39;}, embeddings=[]), Row(annotatorType=&#39;chunk&#39;, begin=581, end=598, result=&#39;insertion/deletion&#39;, metadata={&#39;sentence&#39;: &#39;3&#39;, &#39;chunk&#39;: &#39;7&#39;, &#39;entity&#39;: &#39;PROBLEM&#39;}, embeddings=[]), Row(annotatorType=&#39;chunk&#39;, begin=601, end=621, result=&#39;Ourexpression studies&#39;, metadata={&#39;sentence&#39;: &#39;4&#39;, &#39;chunk&#39;: &#39;8&#39;, &#39;entity&#39;: &#39;TEST&#39;}, embeddings=[]), Row(annotatorType=&#39;chunk&#39;, begin=648, end=685, result=&#39;the transcript in various humantissues&#39;, metadata={&#39;sentence&#39;: &#39;4&#39;, &#39;chunk&#39;: &#39;9&#39;, &#39;entity&#39;: &#39;PROBLEM&#39;}, embeddings=[]), Row(annotatorType=&#39;chunk&#39;, begin=749, end=770, result=&#39;fat andskeletal muscle&#39;, metadata={&#39;sentence&#39;: &#39;4&#39;, &#39;chunk&#39;: &#39;10&#39;, &#39;entity&#39;: &#39;PROBLEM&#39;}, embeddings=[]), Row(annotatorType=&#39;chunk&#39;, begin=830, end=843, result=&#39;furtherstudies&#39;, metadata={&#39;sentence&#39;: &#39;5&#39;, &#39;chunk&#39;: &#39;11&#39;, &#39;entity&#39;: &#39;PROBLEM&#39;}, embeddings=[]), Row(annotatorType=&#39;chunk&#39;, begin=864, end=880, result=&#39;the KCNJ9 protein&#39;, metadata={&#39;sentence&#39;: &#39;5&#39;, &#39;chunk&#39;: &#39;12&#39;, &#39;entity&#39;: &#39;TREATMENT&#39;}, embeddings=[]), Row(annotatorType=&#39;chunk&#39;, begin=892, end=901, result=&#39;evaluation&#39;, metadata={&#39;sentence&#39;: &#39;5&#39;, &#39;chunk&#39;: &#39;13&#39;, &#39;entity&#39;: &#39;TEST&#39;}, embeddings=[]), Row(annotatorType=&#39;chunk&#39;, begin=940, end=955, result=&#39;Type II diabetes&#39;, metadata={&#39;sentence&#39;: &#39;5&#39;, &#39;chunk&#39;: &#39;14&#39;, &#39;entity&#39;: &#39;PROBLEM&#39;}, embeddings=[])])]</div>",
       "datasetInfos": [],
       "removedWidgets": [],
       "type": "html"
      }
     },
     "output_type": "display_data"
    }
   ],
   "source": [
    "result.select('ner_chunk').take(1)"
   ]
  },
  {
   "cell_type": "code",
   "execution_count": 0,
   "metadata": {
    "application/vnd.databricks.v1+cell": {
     "inputWidgets": {},
     "nuid": "4352e9f7-544b-4c74-ade0-1bd58b395f48",
     "showTitle": false,
     "title": ""
    }
   },
   "outputs": [
    {
     "data": {
      "text/html": [
       "<style scoped>\n",
       "  .ansiout {\n",
       "    display: block;\n",
       "    unicode-bidi: embed;\n",
       "    white-space: pre-wrap;\n",
       "    word-wrap: break-word;\n",
       "    word-break: break-all;\n",
       "    font-family: \"Source Code Pro\", \"Menlo\", monospace;;\n",
       "    font-size: 13px;\n",
       "    color: #555;\n",
       "    margin-left: 4px;\n",
       "    line-height: 19px;\n",
       "  }\n",
       "</style>\n",
       "<div class=\"ansiout\">+-----------------------------------------------------------+---------+\n",
       "chunk                                                      |ner_label|\n",
       "+-----------------------------------------------------------+---------+\n",
       "the G-protein-activated inwardly rectifying potassium (GIRK|TREATMENT|\n",
       "the genomicorganization                                    |TREATMENT|\n",
       "a candidate gene forType II diabetes mellitus              |PROBLEM  |\n",
       "byapproximately                                            |TREATMENT|\n",
       "single nucleotide polymorphisms                            |TREATMENT|\n",
       "aVal366Ala substitution                                    |PROBLEM  |\n",
       "an 8 base-pair                                             |PROBLEM  |\n",
       "insertion/deletion                                         |PROBLEM  |\n",
       "Ourexpression studies                                      |TEST     |\n",
       "the transcript in various humantissues                     |PROBLEM  |\n",
       "fat andskeletal muscle                                     |PROBLEM  |\n",
       "furtherstudies                                             |PROBLEM  |\n",
       "the KCNJ9 protein                                          |TREATMENT|\n",
       "evaluation                                                 |TEST     |\n",
       "Type II diabetes                                           |PROBLEM  |\n",
       "the treatment                                              |TREATMENT|\n",
       "breast cancer                                              |PROBLEM  |\n",
       "the standard therapy                                       |TREATMENT|\n",
       "anthracyclines                                             |TREATMENT|\n",
       "taxanes                                                    |TREATMENT|\n",
       "+-----------------------------------------------------------+---------+\n",
       "only showing top 20 rows\n",
       "\n",
       "</div>"
      ]
     },
     "metadata": {
      "application/vnd.databricks.v1+output": {
       "addedWidgets": {},
       "arguments": {},
       "data": "<div class=\"ansiout\">+-----------------------------------------------------------+---------+\n|chunk                                                      |ner_label|\n+-----------------------------------------------------------+---------+\n|the G-protein-activated inwardly rectifying potassium (GIRK|TREATMENT|\n|the genomicorganization                                    |TREATMENT|\n|a candidate gene forType II diabetes mellitus              |PROBLEM  |\n|byapproximately                                            |TREATMENT|\n|single nucleotide polymorphisms                            |TREATMENT|\n|aVal366Ala substitution                                    |PROBLEM  |\n|an 8 base-pair                                             |PROBLEM  |\n|insertion/deletion                                         |PROBLEM  |\n|Ourexpression studies                                      |TEST     |\n|the transcript in various humantissues                     |PROBLEM  |\n|fat andskeletal muscle                                     |PROBLEM  |\n|furtherstudies                                             |PROBLEM  |\n|the KCNJ9 protein                                          |TREATMENT|\n|evaluation                                                 |TEST     |\n|Type II diabetes                                           |PROBLEM  |\n|the treatment                                              |TREATMENT|\n|breast cancer                                              |PROBLEM  |\n|the standard therapy                                       |TREATMENT|\n|anthracyclines                                             |TREATMENT|\n|taxanes                                                    |TREATMENT|\n+-----------------------------------------------------------+---------+\nonly showing top 20 rows\n\n</div>",
       "datasetInfos": [],
       "removedWidgets": [],
       "type": "html"
      }
     },
     "output_type": "display_data"
    }
   ],
   "source": [
    "result.select(F.explode(F.arrays_zip('ner_chunk.result', 'ner_chunk.metadata')).alias(\"cols\")) \\\n",
    ".select(F.expr(\"cols['0']\").alias(\"chunk\"),\n",
    "        F.expr(\"cols['1']['entity']\").alias(\"ner_label\")).show(truncate=False)"
   ]
  },
  {
   "cell_type": "code",
   "execution_count": 0,
   "metadata": {
    "application/vnd.databricks.v1+cell": {
     "inputWidgets": {},
     "nuid": "468a9b55-5516-4bd7-bb92-ed5f1ec4fb4b",
     "showTitle": false,
     "title": ""
    }
   },
   "outputs": [
    {
     "data": {
      "text/html": [
       "<style scoped>\n",
       "  .ansiout {\n",
       "    display: block;\n",
       "    unicode-bidi: embed;\n",
       "    white-space: pre-wrap;\n",
       "    word-wrap: break-word;\n",
       "    word-break: break-all;\n",
       "    font-family: \"Source Code Pro\", \"Menlo\", monospace;;\n",
       "    font-size: 13px;\n",
       "    color: #555;\n",
       "    margin-left: 4px;\n",
       "    line-height: 19px;\n",
       "  }\n",
       "</style>\n",
       "<div class=\"ansiout\">\n",
       "A 28-year-old female with a history of gestational diabetes mellitus diagnosed eight years prior to presentation and subsequent type two diabetes mellitus ( T2DM ), one prior episode of HTG-induced pancreatitis three years prior to presentation , associated with an acute hepatitis , and obesity with a body mass index ( BMI ) of 33.5 kg/m2 , presented with a one-week history of polyuria , polydipsia , poor appetite , and vomiting . Two weeks prior to presentation , she was treated with a five-day course of amoxicillin for a respiratory tract infection . She was on metformin , glipizide , and dapagliflozin for T2DM and atorvastatin and gemfibrozil for HTG . She had been on dapagliflozin for six months at the time of presentation . Physical examination on presentation was significant for dry oral mucosa ; significantly , her abdominal examination was benign with no tenderness , guarding , or rigidity . Pertinent laboratory findings on admission were : serum glucose 111 mg/dl , bicarbonate 18 mmol/l , anion gap 20 , creatinine 0.4 mg/dL , triglycerides 508 mg/dL , total cholesterol 122 mg/dL , glycated hemoglobin ( HbA1c ) 10% , and venous pH 7.27 . Serum lipase was normal at 43 U/L . Serum acetone levels could not be assessed as blood samples kept hemolyzing due to significant lipemia . The patient was initially admitted for starvation ketosis , as she reported poor oral intake for three days prior to admission . However , serum chemistry obtained six hours after presentation revealed her glucose was 186 mg/dL , the anion gap was still elevated at 21 , serum bicarbonate was 16 mmol/L , triglyceride level peaked at 2050 mg/dL , and lipase was 52 U/L . The β-hydroxybutyrate level was obtained and found to be elevated at 5.29 mmol/L - the original sample was centrifuged and the chylomicron layer removed prior to analysis due to interference from turbidity caused by lipemia again . The patient was treated with an insulin drip for euDKA and HTG with a reduction in the anion gap to 13 and triglycerides to 1400 mg/dL , within 24 hours . Her euDKA was thought to be precipitated by her respiratory tract infection in the setting of SGLT2 inhibitor use . The patient was seen by the endocrinology service and she was discharged on 40 units of insulin glargine at night , 12 units of insulin lispro with meals , and metformin 1000 mg two times a day . It was determined that all SGLT2 inhibitors should be discontinued indefinitely . She had close follow-up with endocrinology post discharge .\n",
       "\n",
       "Out[17]: </div>"
      ]
     },
     "metadata": {
      "application/vnd.databricks.v1+output": {
       "addedWidgets": {},
       "arguments": {},
       "data": "<div class=\"ansiout\">\nA 28-year-old female with a history of gestational diabetes mellitus diagnosed eight years prior to presentation and subsequent type two diabetes mellitus ( T2DM ), one prior episode of HTG-induced pancreatitis three years prior to presentation , associated with an acute hepatitis , and obesity with a body mass index ( BMI ) of 33.5 kg/m2 , presented with a one-week history of polyuria , polydipsia , poor appetite , and vomiting . Two weeks prior to presentation , she was treated with a five-day course of amoxicillin for a respiratory tract infection . She was on metformin , glipizide , and dapagliflozin for T2DM and atorvastatin and gemfibrozil for HTG . She had been on dapagliflozin for six months at the time of presentation . Physical examination on presentation was significant for dry oral mucosa ; significantly , her abdominal examination was benign with no tenderness , guarding , or rigidity . Pertinent laboratory findings on admission were : serum glucose 111 mg/dl , bicarbonate 18 mmol/l , anion gap 20 , creatinine 0.4 mg/dL , triglycerides 508 mg/dL , total cholesterol 122 mg/dL , glycated hemoglobin ( HbA1c ) 10% , and venous pH 7.27 . Serum lipase was normal at 43 U/L . Serum acetone levels could not be assessed as blood samples kept hemolyzing due to significant lipemia . The patient was initially admitted for starvation ketosis , as she reported poor oral intake for three days prior to admission . However , serum chemistry obtained six hours after presentation revealed her glucose was 186 mg/dL , the anion gap was still elevated at 21 , serum bicarbonate was 16 mmol/L , triglyceride level peaked at 2050 mg/dL , and lipase was 52 U/L . The β-hydroxybutyrate level was obtained and found to be elevated at 5.29 mmol/L - the original sample was centrifuged and the chylomicron layer removed prior to analysis due to interference from turbidity caused by lipemia again . The patient was treated with an insulin drip for euDKA and HTG with a reduction in the anion gap to 13 and triglycerides to 1400 mg/dL , within 24 hours . Her euDKA was thought to be precipitated by her respiratory tract infection in the setting of SGLT2 inhibitor use . The patient was seen by the endocrinology service and she was discharged on 40 units of insulin glargine at night , 12 units of insulin lispro with meals , and metformin 1000 mg two times a day . It was determined that all SGLT2 inhibitors should be discontinued indefinitely . She had close follow-up with endocrinology post discharge .\n\nOut[17]: </div>",
       "datasetInfos": [],
       "removedWidgets": [],
       "type": "html"
      }
     },
     "output_type": "display_data"
    },
    {
     "data": {
      "text/html": [
       "<div>\n",
       "<style scoped>\n",
       "    .dataframe tbody tr th:only-of-type {\n",
       "        vertical-align: middle;\n",
       "    }\n",
       "\n",
       "    .dataframe tbody tr th {\n",
       "        vertical-align: top;\n",
       "    }\n",
       "\n",
       "    .dataframe thead th {\n",
       "        text-align: right;\n",
       "    }\n",
       "</style>\n",
       "<table border=\"1\" class=\"dataframe\">\n",
       "  <thead>\n",
       "    <tr style=\"text-align: right;\">\n",
       "      <th></th>\n",
       "      <th>chunks</th>\n",
       "      <th>begin</th>\n",
       "      <th>end</th>\n",
       "      <th>sentence_id</th>\n",
       "      <th>entities</th>\n",
       "    </tr>\n",
       "  </thead>\n",
       "  <tbody>\n",
       "    <tr>\n",
       "      <th>0</th>\n",
       "      <td>gestational diabetes mellitus</td>\n",
       "      <td>40</td>\n",
       "      <td>68</td>\n",
       "      <td>0</td>\n",
       "      <td>PROBLEM</td>\n",
       "    </tr>\n",
       "    <tr>\n",
       "      <th>1</th>\n",
       "      <td>subsequent type two diabetes mellitus</td>\n",
       "      <td>118</td>\n",
       "      <td>154</td>\n",
       "      <td>0</td>\n",
       "      <td>PROBLEM</td>\n",
       "    </tr>\n",
       "    <tr>\n",
       "      <th>2</th>\n",
       "      <td>T2DM</td>\n",
       "      <td>158</td>\n",
       "      <td>161</td>\n",
       "      <td>0</td>\n",
       "      <td>PROBLEM</td>\n",
       "    </tr>\n",
       "    <tr>\n",
       "      <th>3</th>\n",
       "      <td>HTG-induced pancreatitis</td>\n",
       "      <td>187</td>\n",
       "      <td>210</td>\n",
       "      <td>0</td>\n",
       "      <td>PROBLEM</td>\n",
       "    </tr>\n",
       "    <tr>\n",
       "      <th>4</th>\n",
       "      <td>an acute hepatitis</td>\n",
       "      <td>264</td>\n",
       "      <td>281</td>\n",
       "      <td>0</td>\n",
       "      <td>PROBLEM</td>\n",
       "    </tr>\n",
       "    <tr>\n",
       "      <th>5</th>\n",
       "      <td>obesity</td>\n",
       "      <td>289</td>\n",
       "      <td>295</td>\n",
       "      <td>0</td>\n",
       "      <td>PROBLEM</td>\n",
       "    </tr>\n",
       "    <tr>\n",
       "      <th>6</th>\n",
       "      <td>a body mass index</td>\n",
       "      <td>302</td>\n",
       "      <td>318</td>\n",
       "      <td>0</td>\n",
       "      <td>PROBLEM</td>\n",
       "    </tr>\n",
       "    <tr>\n",
       "      <th>7</th>\n",
       "      <td>BMI</td>\n",
       "      <td>322</td>\n",
       "      <td>324</td>\n",
       "      <td>0</td>\n",
       "      <td>TEST</td>\n",
       "    </tr>\n",
       "    <tr>\n",
       "      <th>8</th>\n",
       "      <td>polyuria</td>\n",
       "      <td>381</td>\n",
       "      <td>388</td>\n",
       "      <td>0</td>\n",
       "      <td>PROBLEM</td>\n",
       "    </tr>\n",
       "    <tr>\n",
       "      <th>9</th>\n",
       "      <td>polydipsia</td>\n",
       "      <td>392</td>\n",
       "      <td>401</td>\n",
       "      <td>0</td>\n",
       "      <td>PROBLEM</td>\n",
       "    </tr>\n",
       "    <tr>\n",
       "      <th>10</th>\n",
       "      <td>poor appetite</td>\n",
       "      <td>405</td>\n",
       "      <td>417</td>\n",
       "      <td>0</td>\n",
       "      <td>PROBLEM</td>\n",
       "    </tr>\n",
       "    <tr>\n",
       "      <th>11</th>\n",
       "      <td>vomiting</td>\n",
       "      <td>425</td>\n",
       "      <td>432</td>\n",
       "      <td>0</td>\n",
       "      <td>PROBLEM</td>\n",
       "    </tr>\n",
       "    <tr>\n",
       "      <th>12</th>\n",
       "      <td>amoxicillin</td>\n",
       "      <td>512</td>\n",
       "      <td>522</td>\n",
       "      <td>1</td>\n",
       "      <td>TREATMENT</td>\n",
       "    </tr>\n",
       "    <tr>\n",
       "      <th>13</th>\n",
       "      <td>a respiratory tract infection</td>\n",
       "      <td>528</td>\n",
       "      <td>556</td>\n",
       "      <td>1</td>\n",
       "      <td>PROBLEM</td>\n",
       "    </tr>\n",
       "    <tr>\n",
       "      <th>14</th>\n",
       "      <td>metformin</td>\n",
       "      <td>571</td>\n",
       "      <td>579</td>\n",
       "      <td>2</td>\n",
       "      <td>TREATMENT</td>\n",
       "    </tr>\n",
       "    <tr>\n",
       "      <th>15</th>\n",
       "      <td>glipizide</td>\n",
       "      <td>583</td>\n",
       "      <td>591</td>\n",
       "      <td>2</td>\n",
       "      <td>TREATMENT</td>\n",
       "    </tr>\n",
       "    <tr>\n",
       "      <th>16</th>\n",
       "      <td>dapagliflozin</td>\n",
       "      <td>599</td>\n",
       "      <td>611</td>\n",
       "      <td>2</td>\n",
       "      <td>TREATMENT</td>\n",
       "    </tr>\n",
       "    <tr>\n",
       "      <th>17</th>\n",
       "      <td>T2DM</td>\n",
       "      <td>617</td>\n",
       "      <td>620</td>\n",
       "      <td>2</td>\n",
       "      <td>PROBLEM</td>\n",
       "    </tr>\n",
       "    <tr>\n",
       "      <th>18</th>\n",
       "      <td>atorvastatin</td>\n",
       "      <td>626</td>\n",
       "      <td>637</td>\n",
       "      <td>2</td>\n",
       "      <td>TREATMENT</td>\n",
       "    </tr>\n",
       "    <tr>\n",
       "      <th>19</th>\n",
       "      <td>gemfibrozil</td>\n",
       "      <td>643</td>\n",
       "      <td>653</td>\n",
       "      <td>2</td>\n",
       "      <td>TREATMENT</td>\n",
       "    </tr>\n",
       "  </tbody>\n",
       "</table>\n",
       "</div>"
      ]
     },
     "metadata": {
      "application/vnd.databricks.v1+output": {
       "addedWidgets": {},
       "arguments": {},
       "data": "<div>\n<style scoped>\n    .dataframe tbody tr th:only-of-type {\n        vertical-align: middle;\n    }\n\n    .dataframe tbody tr th {\n        vertical-align: top;\n    }\n\n    .dataframe thead th {\n        text-align: right;\n    }\n</style>\n<table border=\"1\" class=\"dataframe\">\n  <thead>\n    <tr style=\"text-align: right;\">\n      <th></th>\n      <th>chunks</th>\n      <th>begin</th>\n      <th>end</th>\n      <th>sentence_id</th>\n      <th>entities</th>\n    </tr>\n  </thead>\n  <tbody>\n    <tr>\n      <th>0</th>\n      <td>gestational diabetes mellitus</td>\n      <td>40</td>\n      <td>68</td>\n      <td>0</td>\n      <td>PROBLEM</td>\n    </tr>\n    <tr>\n      <th>1</th>\n      <td>subsequent type two diabetes mellitus</td>\n      <td>118</td>\n      <td>154</td>\n      <td>0</td>\n      <td>PROBLEM</td>\n    </tr>\n    <tr>\n      <th>2</th>\n      <td>T2DM</td>\n      <td>158</td>\n      <td>161</td>\n      <td>0</td>\n      <td>PROBLEM</td>\n    </tr>\n    <tr>\n      <th>3</th>\n      <td>HTG-induced pancreatitis</td>\n      <td>187</td>\n      <td>210</td>\n      <td>0</td>\n      <td>PROBLEM</td>\n    </tr>\n    <tr>\n      <th>4</th>\n      <td>an acute hepatitis</td>\n      <td>264</td>\n      <td>281</td>\n      <td>0</td>\n      <td>PROBLEM</td>\n    </tr>\n    <tr>\n      <th>5</th>\n      <td>obesity</td>\n      <td>289</td>\n      <td>295</td>\n      <td>0</td>\n      <td>PROBLEM</td>\n    </tr>\n    <tr>\n      <th>6</th>\n      <td>a body mass index</td>\n      <td>302</td>\n      <td>318</td>\n      <td>0</td>\n      <td>PROBLEM</td>\n    </tr>\n    <tr>\n      <th>7</th>\n      <td>BMI</td>\n      <td>322</td>\n      <td>324</td>\n      <td>0</td>\n      <td>TEST</td>\n    </tr>\n    <tr>\n      <th>8</th>\n      <td>polyuria</td>\n      <td>381</td>\n      <td>388</td>\n      <td>0</td>\n      <td>PROBLEM</td>\n    </tr>\n    <tr>\n      <th>9</th>\n      <td>polydipsia</td>\n      <td>392</td>\n      <td>401</td>\n      <td>0</td>\n      <td>PROBLEM</td>\n    </tr>\n    <tr>\n      <th>10</th>\n      <td>poor appetite</td>\n      <td>405</td>\n      <td>417</td>\n      <td>0</td>\n      <td>PROBLEM</td>\n    </tr>\n    <tr>\n      <th>11</th>\n      <td>vomiting</td>\n      <td>425</td>\n      <td>432</td>\n      <td>0</td>\n      <td>PROBLEM</td>\n    </tr>\n    <tr>\n      <th>12</th>\n      <td>amoxicillin</td>\n      <td>512</td>\n      <td>522</td>\n      <td>1</td>\n      <td>TREATMENT</td>\n    </tr>\n    <tr>\n      <th>13</th>\n      <td>a respiratory tract infection</td>\n      <td>528</td>\n      <td>556</td>\n      <td>1</td>\n      <td>PROBLEM</td>\n    </tr>\n    <tr>\n      <th>14</th>\n      <td>metformin</td>\n      <td>571</td>\n      <td>579</td>\n      <td>2</td>\n      <td>TREATMENT</td>\n    </tr>\n    <tr>\n      <th>15</th>\n      <td>glipizide</td>\n      <td>583</td>\n      <td>591</td>\n      <td>2</td>\n      <td>TREATMENT</td>\n    </tr>\n    <tr>\n      <th>16</th>\n      <td>dapagliflozin</td>\n      <td>599</td>\n      <td>611</td>\n      <td>2</td>\n      <td>TREATMENT</td>\n    </tr>\n    <tr>\n      <th>17</th>\n      <td>T2DM</td>\n      <td>617</td>\n      <td>620</td>\n      <td>2</td>\n      <td>PROBLEM</td>\n    </tr>\n    <tr>\n      <th>18</th>\n      <td>atorvastatin</td>\n      <td>626</td>\n      <td>637</td>\n      <td>2</td>\n      <td>TREATMENT</td>\n    </tr>\n    <tr>\n      <th>19</th>\n      <td>gemfibrozil</td>\n      <td>643</td>\n      <td>653</td>\n      <td>2</td>\n      <td>TREATMENT</td>\n    </tr>\n  </tbody>\n</table>\n</div>",
       "datasetInfos": [],
       "removedWidgets": [],
       "textData": null,
       "type": "htmlSandbox"
      }
     },
     "output_type": "display_data"
    }
   ],
   "source": [
    "# fullAnnotate in LightPipeline\n",
    "\n",
    "text = '''\n",
    "A 28-year-old female with a history of gestational diabetes mellitus diagnosed eight years prior to presentation and subsequent type two diabetes mellitus ( T2DM ), one prior episode of HTG-induced pancreatitis three years prior to presentation , associated with an acute hepatitis , and obesity with a body mass index ( BMI ) of 33.5 kg/m2 , presented with a one-week history of polyuria , polydipsia , poor appetite , and vomiting . Two weeks prior to presentation , she was treated with a five-day course of amoxicillin for a respiratory tract infection . She was on metformin , glipizide , and dapagliflozin for T2DM and atorvastatin and gemfibrozil for HTG . She had been on dapagliflozin for six months at the time of presentation . Physical examination on presentation was significant for dry oral mucosa ; significantly , her abdominal examination was benign with no tenderness , guarding , or rigidity . Pertinent laboratory findings on admission were : serum glucose 111 mg/dl , bicarbonate 18 mmol/l , anion gap 20 , creatinine 0.4 mg/dL , triglycerides 508 mg/dL , total cholesterol 122 mg/dL , glycated hemoglobin ( HbA1c ) 10% , and venous pH 7.27 . Serum lipase was normal at 43 U/L . Serum acetone levels could not be assessed as blood samples kept hemolyzing due to significant lipemia . The patient was initially admitted for starvation ketosis , as she reported poor oral intake for three days prior to admission . However , serum chemistry obtained six hours after presentation revealed her glucose was 186 mg/dL , the anion gap was still elevated at 21 , serum bicarbonate was 16 mmol/L , triglyceride level peaked at 2050 mg/dL , and lipase was 52 U/L . The β-hydroxybutyrate level was obtained and found to be elevated at 5.29 mmol/L - the original sample was centrifuged and the chylomicron layer removed prior to analysis due to interference from turbidity caused by lipemia again . The patient was treated with an insulin drip for euDKA and HTG with a reduction in the anion gap to 13 and triglycerides to 1400 mg/dL , within 24 hours . Her euDKA was thought to be precipitated by her respiratory tract infection in the setting of SGLT2 inhibitor use . The patient was seen by the endocrinology service and she was discharged on 40 units of insulin glargine at night , 12 units of insulin lispro with meals , and metformin 1000 mg two times a day . It was determined that all SGLT2 inhibitors should be discontinued indefinitely . She had close follow-up with endocrinology post discharge .\n",
    "'''\n",
    "\n",
    "print (text)\n",
    "\n",
    "light_model = LightPipeline(model)\n",
    "\n",
    "light_result = light_model.fullAnnotate(text)\n",
    "\n",
    "\n",
    "chunks = []\n",
    "entities = []\n",
    "sentence= []\n",
    "begin = []\n",
    "end = []\n",
    "\n",
    "for n in light_result[0]['ner_chunk']:\n",
    "        \n",
    "    begin.append(n.begin)\n",
    "    end.append(n.end)\n",
    "    chunks.append(n.result)\n",
    "    entities.append(n.metadata['entity']) \n",
    "    sentence.append(n.metadata['sentence'])\n",
    "    \n",
    "    \n",
    "import pandas as pd\n",
    "\n",
    "df = pd.DataFrame({'chunks':chunks, 'begin': begin, 'end':end, \n",
    "                   'sentence_id':sentence, 'entities':entities})\n",
    "\n",
    "df.head(20)"
   ]
  },
  {
   "cell_type": "code",
   "execution_count": 0,
   "metadata": {
    "application/vnd.databricks.v1+cell": {
     "inputWidgets": {},
     "nuid": "b9fd11f8-281b-49fe-a1f9-586395440831",
     "showTitle": false,
     "title": ""
    }
   },
   "outputs": [
    {
     "data": {
      "text/html": [
       "\n",
       "<style>\n",
       "    @import url('https://fonts.googleapis.com/css2?family=Montserrat:wght@300;400;500;600;700&display=swap');\n",
       "    @import url('https://fonts.googleapis.com/css2?family=Vistol Regular:wght@300;400;500;600;700&display=swap');\n",
       "    \n",
       "    .spark-nlp-display-scroll-entities {\n",
       "        border: 1px solid #E7EDF0;\n",
       "        border-radius: 3px;\n",
       "        text-align: justify;\n",
       "        \n",
       "    }\n",
       "    .spark-nlp-display-scroll-entities span {  \n",
       "        font-size: 14px;\n",
       "        line-height: 24px;\n",
       "        color: #536B76;\n",
       "        font-family: 'Montserrat', sans-serif !important;\n",
       "    }\n",
       "    \n",
       "    .spark-nlp-display-entity-wrapper{\n",
       "    \n",
       "        display: inline-grid;\n",
       "        text-align: center;\n",
       "        border-radius: 4px;\n",
       "        margin: 0 2px 5px 2px;\n",
       "        padding: 1px\n",
       "    }\n",
       "    .spark-nlp-display-entity-name{\n",
       "        font-size: 14px;\n",
       "        line-height: 24px;\n",
       "        font-family: 'Montserrat', sans-serif !important;\n",
       "        \n",
       "        background: #f1f2f3;\n",
       "        border-width: medium;\n",
       "        text-align: center;\n",
       "        \n",
       "        font-weight: 400;\n",
       "        \n",
       "        border-radius: 5px;\n",
       "        padding: 2px 5px;\n",
       "        display: block;\n",
       "        margin: 3px 2px;\n",
       "    \n",
       "    }\n",
       "    .spark-nlp-display-entity-type{\n",
       "        font-size: 14px;\n",
       "        line-height: 24px;\n",
       "        color: #ffffff;\n",
       "        font-family: 'Montserrat', sans-serif !important;\n",
       "        \n",
       "        text-transform: uppercase;\n",
       "        \n",
       "        font-weight: 500;\n",
       "\n",
       "        display: block;\n",
       "        padding: 3px 5px;\n",
       "    }\n",
       "    \n",
       "    .spark-nlp-display-entity-resolution{\n",
       "        font-size: 14px;\n",
       "        line-height: 24px;\n",
       "        color: #ffffff;\n",
       "        font-family: 'Vistol Regular', sans-serif !important;\n",
       "        \n",
       "        text-transform: uppercase;\n",
       "        \n",
       "        font-weight: 500;\n",
       "\n",
       "        display: block;\n",
       "        padding: 3px 5px;\n",
       "    }\n",
       "    \n",
       "    .spark-nlp-display-others{\n",
       "        font-size: 14px;\n",
       "        line-height: 24px;\n",
       "        font-family: 'Montserrat', sans-serif !important;\n",
       "        \n",
       "        font-weight: 400;\n",
       "    }\n",
       "\n",
       "</style>\n",
       " <span class=\"spark-nlp-display-others\" style=\"background-color: white\"><br>A 28-year-old female with a history of </span><span class=\"spark-nlp-display-entity-wrapper\" style=\"background-color: #800080\"><span class=\"spark-nlp-display-entity-name\">gestational diabetes mellitus </span><span class=\"spark-nlp-display-entity-type\">PROBLEM</span></span><span class=\"spark-nlp-display-others\" style=\"background-color: white\"> diagnosed eight years prior to presentation and </span><span class=\"spark-nlp-display-entity-wrapper\" style=\"background-color: #800080\"><span class=\"spark-nlp-display-entity-name\">subsequent type two diabetes mellitus </span><span class=\"spark-nlp-display-entity-type\">PROBLEM</span></span><span class=\"spark-nlp-display-others\" style=\"background-color: white\"> ( </span><span class=\"spark-nlp-display-entity-wrapper\" style=\"background-color: #800080\"><span class=\"spark-nlp-display-entity-name\">T2DM </span><span class=\"spark-nlp-display-entity-type\">PROBLEM</span></span><span class=\"spark-nlp-display-others\" style=\"background-color: white\"> ), one prior episode of </span><span class=\"spark-nlp-display-entity-wrapper\" style=\"background-color: #800080\"><span class=\"spark-nlp-display-entity-name\">HTG-induced pancreatitis </span><span class=\"spark-nlp-display-entity-type\">PROBLEM</span></span><span class=\"spark-nlp-display-others\" style=\"background-color: white\"> three years prior to presentation , associated with </span><span class=\"spark-nlp-display-entity-wrapper\" style=\"background-color: #800080\"><span class=\"spark-nlp-display-entity-name\">an acute hepatitis </span><span class=\"spark-nlp-display-entity-type\">PROBLEM</span></span><span class=\"spark-nlp-display-others\" style=\"background-color: white\"> , and </span><span class=\"spark-nlp-display-entity-wrapper\" style=\"background-color: #800080\"><span class=\"spark-nlp-display-entity-name\">obesity </span><span class=\"spark-nlp-display-entity-type\">PROBLEM</span></span><span class=\"spark-nlp-display-others\" style=\"background-color: white\"> with </span><span class=\"spark-nlp-display-entity-wrapper\" style=\"background-color: #800080\"><span class=\"spark-nlp-display-entity-name\">a body mass index </span><span class=\"spark-nlp-display-entity-type\">PROBLEM</span></span><span class=\"spark-nlp-display-others\" style=\"background-color: white\"> ( </span><span class=\"spark-nlp-display-entity-wrapper\" style=\"background-color: #77b5fe\"><span class=\"spark-nlp-display-entity-name\">BMI </span><span class=\"spark-nlp-display-entity-type\">TEST</span></span><span class=\"spark-nlp-display-others\" style=\"background-color: white\"> ) of 33.5 kg/m2 , presented with a one-week history of </span><span class=\"spark-nlp-display-entity-wrapper\" style=\"background-color: #800080\"><span class=\"spark-nlp-display-entity-name\">polyuria </span><span class=\"spark-nlp-display-entity-type\">PROBLEM</span></span><span class=\"spark-nlp-display-others\" style=\"background-color: white\"> , </span><span class=\"spark-nlp-display-entity-wrapper\" style=\"background-color: #800080\"><span class=\"spark-nlp-display-entity-name\">polydipsia </span><span class=\"spark-nlp-display-entity-type\">PROBLEM</span></span><span class=\"spark-nlp-display-others\" style=\"background-color: white\"> , </span><span class=\"spark-nlp-display-entity-wrapper\" style=\"background-color: #800080\"><span class=\"spark-nlp-display-entity-name\">poor appetite </span><span class=\"spark-nlp-display-entity-type\">PROBLEM</span></span><span class=\"spark-nlp-display-others\" style=\"background-color: white\"> , and </span><span class=\"spark-nlp-display-entity-wrapper\" style=\"background-color: #800080\"><span class=\"spark-nlp-display-entity-name\">vomiting </span><span class=\"spark-nlp-display-entity-type\">PROBLEM</span></span><span class=\"spark-nlp-display-others\" style=\"background-color: white\"> . Two weeks prior to presentation , she was treated with a five-day course of </span><span class=\"spark-nlp-display-entity-wrapper\" style=\"background-color: #8b6673\"><span class=\"spark-nlp-display-entity-name\">amoxicillin </span><span class=\"spark-nlp-display-entity-type\">TREATMENT</span></span><span class=\"spark-nlp-display-others\" style=\"background-color: white\"> for </span><span class=\"spark-nlp-display-entity-wrapper\" style=\"background-color: #800080\"><span class=\"spark-nlp-display-entity-name\">a respiratory tract infection </span><span class=\"spark-nlp-display-entity-type\">PROBLEM</span></span><span class=\"spark-nlp-display-others\" style=\"background-color: white\"> . She was on </span><span class=\"spark-nlp-display-entity-wrapper\" style=\"background-color: #8b6673\"><span class=\"spark-nlp-display-entity-name\">metformin </span><span class=\"spark-nlp-display-entity-type\">TREATMENT</span></span><span class=\"spark-nlp-display-others\" style=\"background-color: white\"> , </span><span class=\"spark-nlp-display-entity-wrapper\" style=\"background-color: #8b6673\"><span class=\"spark-nlp-display-entity-name\">glipizide </span><span class=\"spark-nlp-display-entity-type\">TREATMENT</span></span><span class=\"spark-nlp-display-others\" style=\"background-color: white\"> , and </span><span class=\"spark-nlp-display-entity-wrapper\" style=\"background-color: #8b6673\"><span class=\"spark-nlp-display-entity-name\">dapagliflozin </span><span class=\"spark-nlp-display-entity-type\">TREATMENT</span></span><span class=\"spark-nlp-display-others\" style=\"background-color: white\"> for </span><span class=\"spark-nlp-display-entity-wrapper\" style=\"background-color: #800080\"><span class=\"spark-nlp-display-entity-name\">T2DM </span><span class=\"spark-nlp-display-entity-type\">PROBLEM</span></span><span class=\"spark-nlp-display-others\" style=\"background-color: white\"> and </span><span class=\"spark-nlp-display-entity-wrapper\" style=\"background-color: #8b6673\"><span class=\"spark-nlp-display-entity-name\">atorvastatin </span><span class=\"spark-nlp-display-entity-type\">TREATMENT</span></span><span class=\"spark-nlp-display-others\" style=\"background-color: white\"> and </span><span class=\"spark-nlp-display-entity-wrapper\" style=\"background-color: #8b6673\"><span class=\"spark-nlp-display-entity-name\">gemfibrozil </span><span class=\"spark-nlp-display-entity-type\">TREATMENT</span></span><span class=\"spark-nlp-display-others\" style=\"background-color: white\"> for </span><span class=\"spark-nlp-display-entity-wrapper\" style=\"background-color: #800080\"><span class=\"spark-nlp-display-entity-name\">HTG </span><span class=\"spark-nlp-display-entity-type\">PROBLEM</span></span><span class=\"spark-nlp-display-others\" style=\"background-color: white\"> . She had been on </span><span class=\"spark-nlp-display-entity-wrapper\" style=\"background-color: #8b6673\"><span class=\"spark-nlp-display-entity-name\">dapagliflozin </span><span class=\"spark-nlp-display-entity-type\">TREATMENT</span></span><span class=\"spark-nlp-display-others\" style=\"background-color: white\"> for six months at the time of presentation . </span><span class=\"spark-nlp-display-entity-wrapper\" style=\"background-color: #77b5fe\"><span class=\"spark-nlp-display-entity-name\">Physical examination </span><span class=\"spark-nlp-display-entity-type\">TEST</span></span><span class=\"spark-nlp-display-others\" style=\"background-color: white\"> on presentation was significant for </span><span class=\"spark-nlp-display-entity-wrapper\" style=\"background-color: #800080\"><span class=\"spark-nlp-display-entity-name\">dry oral mucosa </span><span class=\"spark-nlp-display-entity-type\">PROBLEM</span></span><span class=\"spark-nlp-display-others\" style=\"background-color: white\"> ; significantly , </span><span class=\"spark-nlp-display-entity-wrapper\" style=\"background-color: #77b5fe\"><span class=\"spark-nlp-display-entity-name\">her abdominal examination </span><span class=\"spark-nlp-display-entity-type\">TEST</span></span><span class=\"spark-nlp-display-others\" style=\"background-color: white\"> was benign with no </span><span class=\"spark-nlp-display-entity-wrapper\" style=\"background-color: #800080\"><span class=\"spark-nlp-display-entity-name\">tenderness </span><span class=\"spark-nlp-display-entity-type\">PROBLEM</span></span><span class=\"spark-nlp-display-others\" style=\"background-color: white\"> , </span><span class=\"spark-nlp-display-entity-wrapper\" style=\"background-color: #800080\"><span class=\"spark-nlp-display-entity-name\">guarding </span><span class=\"spark-nlp-display-entity-type\">PROBLEM</span></span><span class=\"spark-nlp-display-others\" style=\"background-color: white\"> , or </span><span class=\"spark-nlp-display-entity-wrapper\" style=\"background-color: #800080\"><span class=\"spark-nlp-display-entity-name\">rigidity </span><span class=\"spark-nlp-display-entity-type\">PROBLEM</span></span><span class=\"spark-nlp-display-others\" style=\"background-color: white\"> . Pertinent laboratory findings on admission were : </span><span class=\"spark-nlp-display-entity-wrapper\" style=\"background-color: #77b5fe\"><span class=\"spark-nlp-display-entity-name\">serum glucose </span><span class=\"spark-nlp-display-entity-type\">TEST</span></span><span class=\"spark-nlp-display-others\" style=\"background-color: white\"> 111 mg/dl , </span><span class=\"spark-nlp-display-entity-wrapper\" style=\"background-color: #77b5fe\"><span class=\"spark-nlp-display-entity-name\">bicarbonate </span><span class=\"spark-nlp-display-entity-type\">TEST</span></span><span class=\"spark-nlp-display-others\" style=\"background-color: white\"> 18 mmol/l , </span><span class=\"spark-nlp-display-entity-wrapper\" style=\"background-color: #77b5fe\"><span class=\"spark-nlp-display-entity-name\">anion gap </span><span class=\"spark-nlp-display-entity-type\">TEST</span></span><span class=\"spark-nlp-display-others\" style=\"background-color: white\"> 20 , </span><span class=\"spark-nlp-display-entity-wrapper\" style=\"background-color: #77b5fe\"><span class=\"spark-nlp-display-entity-name\">creatinine </span><span class=\"spark-nlp-display-entity-type\">TEST</span></span><span class=\"spark-nlp-display-others\" style=\"background-color: white\"> 0.4 mg/dL , </span><span class=\"spark-nlp-display-entity-wrapper\" style=\"background-color: #77b5fe\"><span class=\"spark-nlp-display-entity-name\">triglycerides </span><span class=\"spark-nlp-display-entity-type\">TEST</span></span><span class=\"spark-nlp-display-others\" style=\"background-color: white\"> 508 mg/dL , </span><span class=\"spark-nlp-display-entity-wrapper\" style=\"background-color: #77b5fe\"><span class=\"spark-nlp-display-entity-name\">total cholesterol </span><span class=\"spark-nlp-display-entity-type\">TEST</span></span><span class=\"spark-nlp-display-others\" style=\"background-color: white\"> 122 mg/dL , </span><span class=\"spark-nlp-display-entity-wrapper\" style=\"background-color: #77b5fe\"><span class=\"spark-nlp-display-entity-name\">glycated hemoglobin </span><span class=\"spark-nlp-display-entity-type\">TEST</span></span><span class=\"spark-nlp-display-others\" style=\"background-color: white\"> ( </span><span class=\"spark-nlp-display-entity-wrapper\" style=\"background-color: #77b5fe\"><span class=\"spark-nlp-display-entity-name\">HbA1c </span><span class=\"spark-nlp-display-entity-type\">TEST</span></span><span class=\"spark-nlp-display-others\" style=\"background-color: white\"> ) 10% , and </span><span class=\"spark-nlp-display-entity-wrapper\" style=\"background-color: #77b5fe\"><span class=\"spark-nlp-display-entity-name\">venous pH </span><span class=\"spark-nlp-display-entity-type\">TEST</span></span><span class=\"spark-nlp-display-others\" style=\"background-color: white\"> 7.27 . </span><span class=\"spark-nlp-display-entity-wrapper\" style=\"background-color: #77b5fe\"><span class=\"spark-nlp-display-entity-name\">Serum lipase </span><span class=\"spark-nlp-display-entity-type\">TEST</span></span><span class=\"spark-nlp-display-others\" style=\"background-color: white\"> was normal at 43 </span><span class=\"spark-nlp-display-entity-wrapper\" style=\"background-color: #77b5fe\"><span class=\"spark-nlp-display-entity-name\">U/L </span><span class=\"spark-nlp-display-entity-type\">TEST</span></span><span class=\"spark-nlp-display-others\" style=\"background-color: white\"> . </span><span class=\"spark-nlp-display-entity-wrapper\" style=\"background-color: #77b5fe\"><span class=\"spark-nlp-display-entity-name\">Serum acetone levels </span><span class=\"spark-nlp-display-entity-type\">TEST</span></span><span class=\"spark-nlp-display-others\" style=\"background-color: white\"> could not be assessed as </span><span class=\"spark-nlp-display-entity-wrapper\" style=\"background-color: #77b5fe\"><span class=\"spark-nlp-display-entity-name\">blood samples </span><span class=\"spark-nlp-display-entity-type\">TEST</span></span><span class=\"spark-nlp-display-others\" style=\"background-color: white\"> kept </span><span class=\"spark-nlp-display-entity-wrapper\" style=\"background-color: #800080\"><span class=\"spark-nlp-display-entity-name\">hemolyzing </span><span class=\"spark-nlp-display-entity-type\">PROBLEM</span></span><span class=\"spark-nlp-display-others\" style=\"background-color: white\"> due to </span><span class=\"spark-nlp-display-entity-wrapper\" style=\"background-color: #800080\"><span class=\"spark-nlp-display-entity-name\">significant lipemia </span><span class=\"spark-nlp-display-entity-type\">PROBLEM</span></span><span class=\"spark-nlp-display-others\" style=\"background-color: white\"> . The patient was initially admitted for </span><span class=\"spark-nlp-display-entity-wrapper\" style=\"background-color: #800080\"><span class=\"spark-nlp-display-entity-name\">starvation ketosis </span><span class=\"spark-nlp-display-entity-type\">PROBLEM</span></span><span class=\"spark-nlp-display-others\" style=\"background-color: white\"> , as she reported </span><span class=\"spark-nlp-display-entity-wrapper\" style=\"background-color: #800080\"><span class=\"spark-nlp-display-entity-name\">poor oral intake </span><span class=\"spark-nlp-display-entity-type\">PROBLEM</span></span><span class=\"spark-nlp-display-others\" style=\"background-color: white\"> for three days prior to admission . However , </span><span class=\"spark-nlp-display-entity-wrapper\" style=\"background-color: #77b5fe\"><span class=\"spark-nlp-display-entity-name\">serum chemistry </span><span class=\"spark-nlp-display-entity-type\">TEST</span></span><span class=\"spark-nlp-display-others\" style=\"background-color: white\"> obtained six hours after presentation revealed </span><span class=\"spark-nlp-display-entity-wrapper\" style=\"background-color: #77b5fe\"><span class=\"spark-nlp-display-entity-name\">her glucose </span><span class=\"spark-nlp-display-entity-type\">TEST</span></span><span class=\"spark-nlp-display-others\" style=\"background-color: white\"> was 186 mg/dL , </span><span class=\"spark-nlp-display-entity-wrapper\" style=\"background-color: #77b5fe\"><span class=\"spark-nlp-display-entity-name\">the anion gap </span><span class=\"spark-nlp-display-entity-type\">TEST</span></span><span class=\"spark-nlp-display-others\" style=\"background-color: white\"> was </span><span class=\"spark-nlp-display-entity-wrapper\" style=\"background-color: #800080\"><span class=\"spark-nlp-display-entity-name\">still elevated </span><span class=\"spark-nlp-display-entity-type\">PROBLEM</span></span><span class=\"spark-nlp-display-others\" style=\"background-color: white\"> at 21 , </span><span class=\"spark-nlp-display-entity-wrapper\" style=\"background-color: #77b5fe\"><span class=\"spark-nlp-display-entity-name\">serum bicarbonate </span><span class=\"spark-nlp-display-entity-type\">TEST</span></span><span class=\"spark-nlp-display-others\" style=\"background-color: white\"> was 16 mmol/L , </span><span class=\"spark-nlp-display-entity-wrapper\" style=\"background-color: #77b5fe\"><span class=\"spark-nlp-display-entity-name\">triglyceride level </span><span class=\"spark-nlp-display-entity-type\">TEST</span></span><span class=\"spark-nlp-display-others\" style=\"background-color: white\"> peaked at 2050 mg/dL , and </span><span class=\"spark-nlp-display-entity-wrapper\" style=\"background-color: #77b5fe\"><span class=\"spark-nlp-display-entity-name\">lipase </span><span class=\"spark-nlp-display-entity-type\">TEST</span></span><span class=\"spark-nlp-display-others\" style=\"background-color: white\"> was 52 </span><span class=\"spark-nlp-display-entity-wrapper\" style=\"background-color: #77b5fe\"><span class=\"spark-nlp-display-entity-name\">U/L </span><span class=\"spark-nlp-display-entity-type\">TEST</span></span><span class=\"spark-nlp-display-others\" style=\"background-color: white\"> . </span><span class=\"spark-nlp-display-entity-wrapper\" style=\"background-color: #77b5fe\"><span class=\"spark-nlp-display-entity-name\">The β-hydroxybutyrate level </span><span class=\"spark-nlp-display-entity-type\">TEST</span></span><span class=\"spark-nlp-display-others\" style=\"background-color: white\"> was obtained and found to be </span><span class=\"spark-nlp-display-entity-wrapper\" style=\"background-color: #800080\"><span class=\"spark-nlp-display-entity-name\">elevated </span><span class=\"spark-nlp-display-entity-type\">PROBLEM</span></span><span class=\"spark-nlp-display-others\" style=\"background-color: white\"> at 5.29 mmol/L - the original sample was centrifuged and the chylomicron layer removed prior to </span><span class=\"spark-nlp-display-entity-wrapper\" style=\"background-color: #77b5fe\"><span class=\"spark-nlp-display-entity-name\">analysis </span><span class=\"spark-nlp-display-entity-type\">TEST</span></span><span class=\"spark-nlp-display-others\" style=\"background-color: white\"> due to </span><span class=\"spark-nlp-display-entity-wrapper\" style=\"background-color: #800080\"><span class=\"spark-nlp-display-entity-name\">interference from turbidity </span><span class=\"spark-nlp-display-entity-type\">PROBLEM</span></span><span class=\"spark-nlp-display-others\" style=\"background-color: white\"> caused by </span><span class=\"spark-nlp-display-entity-wrapper\" style=\"background-color: #800080\"><span class=\"spark-nlp-display-entity-name\">lipemia </span><span class=\"spark-nlp-display-entity-type\">PROBLEM</span></span><span class=\"spark-nlp-display-others\" style=\"background-color: white\"> again . The patient was treated with </span><span class=\"spark-nlp-display-entity-wrapper\" style=\"background-color: #8b6673\"><span class=\"spark-nlp-display-entity-name\">an insulin drip </span><span class=\"spark-nlp-display-entity-type\">TREATMENT</span></span><span class=\"spark-nlp-display-others\" style=\"background-color: white\"> for </span><span class=\"spark-nlp-display-entity-wrapper\" style=\"background-color: #800080\"><span class=\"spark-nlp-display-entity-name\">euDKA </span><span class=\"spark-nlp-display-entity-type\">PROBLEM</span></span><span class=\"spark-nlp-display-others\" style=\"background-color: white\"> and </span><span class=\"spark-nlp-display-entity-wrapper\" style=\"background-color: #800080\"><span class=\"spark-nlp-display-entity-name\">HTG </span><span class=\"spark-nlp-display-entity-type\">PROBLEM</span></span><span class=\"spark-nlp-display-others\" style=\"background-color: white\"> with </span><span class=\"spark-nlp-display-entity-wrapper\" style=\"background-color: #8b6673\"><span class=\"spark-nlp-display-entity-name\">a reduction </span><span class=\"spark-nlp-display-entity-type\">TREATMENT</span></span><span class=\"spark-nlp-display-others\" style=\"background-color: white\"> in </span><span class=\"spark-nlp-display-entity-wrapper\" style=\"background-color: #77b5fe\"><span class=\"spark-nlp-display-entity-name\">the anion gap </span><span class=\"spark-nlp-display-entity-type\">TEST</span></span><span class=\"spark-nlp-display-others\" style=\"background-color: white\"> to 13 and </span><span class=\"spark-nlp-display-entity-wrapper\" style=\"background-color: #77b5fe\"><span class=\"spark-nlp-display-entity-name\">triglycerides </span><span class=\"spark-nlp-display-entity-type\">TEST</span></span><span class=\"spark-nlp-display-others\" style=\"background-color: white\"> to 1400 mg/dL , within 24 hours . Her euDKA was thought to be precipitated by </span><span class=\"spark-nlp-display-entity-wrapper\" style=\"background-color: #800080\"><span class=\"spark-nlp-display-entity-name\">her respiratory tract infection </span><span class=\"spark-nlp-display-entity-type\">PROBLEM</span></span><span class=\"spark-nlp-display-others\" style=\"background-color: white\"> in the setting of </span><span class=\"spark-nlp-display-entity-wrapper\" style=\"background-color: #8b6673\"><span class=\"spark-nlp-display-entity-name\">SGLT2 inhibitor </span><span class=\"spark-nlp-display-entity-type\">TREATMENT</span></span><span class=\"spark-nlp-display-others\" style=\"background-color: white\"> use . The patient was seen by the endocrinology service and she was discharged on 40 units of </span><span class=\"spark-nlp-display-entity-wrapper\" style=\"background-color: #8b6673\"><span class=\"spark-nlp-display-entity-name\">insulin glargine </span><span class=\"spark-nlp-display-entity-type\">TREATMENT</span></span><span class=\"spark-nlp-display-others\" style=\"background-color: white\"> at night , 12 units of </span><span class=\"spark-nlp-display-entity-wrapper\" style=\"background-color: #8b6673\"><span class=\"spark-nlp-display-entity-name\">insulin lispro </span><span class=\"spark-nlp-display-entity-type\">TREATMENT</span></span><span class=\"spark-nlp-display-others\" style=\"background-color: white\"> with meals , and </span><span class=\"spark-nlp-display-entity-wrapper\" style=\"background-color: #8b6673\"><span class=\"spark-nlp-display-entity-name\">metformin </span><span class=\"spark-nlp-display-entity-type\">TREATMENT</span></span><span class=\"spark-nlp-display-others\" style=\"background-color: white\"> 1000 mg two times a day . It was determined that </span><span class=\"spark-nlp-display-entity-wrapper\" style=\"background-color: #8b6673\"><span class=\"spark-nlp-display-entity-name\">all SGLT2 inhibitors </span><span class=\"spark-nlp-display-entity-type\">TREATMENT</span></span><span class=\"spark-nlp-display-others\" style=\"background-color: white\"> should be discontinued indefinitely . She had close follow-up with endocrinology post discharge .<br></span></div>"
      ]
     },
     "metadata": {
      "application/vnd.databricks.v1+output": {
       "addedWidgets": {},
       "arguments": {},
       "data": "\n<style>\n    @import url('https://fonts.googleapis.com/css2?family=Montserrat:wght@300;400;500;600;700&display=swap');\n    @import url('https://fonts.googleapis.com/css2?family=Vistol Regular:wght@300;400;500;600;700&display=swap');\n    \n    .spark-nlp-display-scroll-entities {\n        border: 1px solid #E7EDF0;\n        border-radius: 3px;\n        text-align: justify;\n        \n    }\n    .spark-nlp-display-scroll-entities span {  \n        font-size: 14px;\n        line-height: 24px;\n        color: #536B76;\n        font-family: 'Montserrat', sans-serif !important;\n    }\n    \n    .spark-nlp-display-entity-wrapper{\n    \n        display: inline-grid;\n        text-align: center;\n        border-radius: 4px;\n        margin: 0 2px 5px 2px;\n        padding: 1px\n    }\n    .spark-nlp-display-entity-name{\n        font-size: 14px;\n        line-height: 24px;\n        font-family: 'Montserrat', sans-serif !important;\n        \n        background: #f1f2f3;\n        border-width: medium;\n        text-align: center;\n        \n        font-weight: 400;\n        \n        border-radius: 5px;\n        padding: 2px 5px;\n        display: block;\n        margin: 3px 2px;\n    \n    }\n    .spark-nlp-display-entity-type{\n        font-size: 14px;\n        line-height: 24px;\n        color: #ffffff;\n        font-family: 'Montserrat', sans-serif !important;\n        \n        text-transform: uppercase;\n        \n        font-weight: 500;\n\n        display: block;\n        padding: 3px 5px;\n    }\n    \n    .spark-nlp-display-entity-resolution{\n        font-size: 14px;\n        line-height: 24px;\n        color: #ffffff;\n        font-family: 'Vistol Regular', sans-serif !important;\n        \n        text-transform: uppercase;\n        \n        font-weight: 500;\n\n        display: block;\n        padding: 3px 5px;\n    }\n    \n    .spark-nlp-display-others{\n        font-size: 14px;\n        line-height: 24px;\n        font-family: 'Montserrat', sans-serif !important;\n        \n        font-weight: 400;\n    }\n\n</style>\n <span class=\"spark-nlp-display-others\" style=\"background-color: white\"><br>A 28-year-old female with a history of </span><span class=\"spark-nlp-display-entity-wrapper\" style=\"background-color: #800080\"><span class=\"spark-nlp-display-entity-name\">gestational diabetes mellitus </span><span class=\"spark-nlp-display-entity-type\">PROBLEM</span></span><span class=\"spark-nlp-display-others\" style=\"background-color: white\"> diagnosed eight years prior to presentation and </span><span class=\"spark-nlp-display-entity-wrapper\" style=\"background-color: #800080\"><span class=\"spark-nlp-display-entity-name\">subsequent type two diabetes mellitus </span><span class=\"spark-nlp-display-entity-type\">PROBLEM</span></span><span class=\"spark-nlp-display-others\" style=\"background-color: white\"> ( </span><span class=\"spark-nlp-display-entity-wrapper\" style=\"background-color: #800080\"><span class=\"spark-nlp-display-entity-name\">T2DM </span><span class=\"spark-nlp-display-entity-type\">PROBLEM</span></span><span class=\"spark-nlp-display-others\" style=\"background-color: white\"> ), one prior episode of </span><span class=\"spark-nlp-display-entity-wrapper\" style=\"background-color: #800080\"><span class=\"spark-nlp-display-entity-name\">HTG-induced pancreatitis </span><span class=\"spark-nlp-display-entity-type\">PROBLEM</span></span><span class=\"spark-nlp-display-others\" style=\"background-color: white\"> three years prior to presentation , associated with </span><span class=\"spark-nlp-display-entity-wrapper\" style=\"background-color: #800080\"><span class=\"spark-nlp-display-entity-name\">an acute hepatitis </span><span class=\"spark-nlp-display-entity-type\">PROBLEM</span></span><span class=\"spark-nlp-display-others\" style=\"background-color: white\"> , and </span><span class=\"spark-nlp-display-entity-wrapper\" style=\"background-color: #800080\"><span class=\"spark-nlp-display-entity-name\">obesity </span><span class=\"spark-nlp-display-entity-type\">PROBLEM</span></span><span class=\"spark-nlp-display-others\" style=\"background-color: white\"> with </span><span class=\"spark-nlp-display-entity-wrapper\" style=\"background-color: #800080\"><span class=\"spark-nlp-display-entity-name\">a body mass index </span><span class=\"spark-nlp-display-entity-type\">PROBLEM</span></span><span class=\"spark-nlp-display-others\" style=\"background-color: white\"> ( </span><span class=\"spark-nlp-display-entity-wrapper\" style=\"background-color: #77b5fe\"><span class=\"spark-nlp-display-entity-name\">BMI </span><span class=\"spark-nlp-display-entity-type\">TEST</span></span><span class=\"spark-nlp-display-others\" style=\"background-color: white\"> ) of 33.5 kg/m2 , presented with a one-week history of </span><span class=\"spark-nlp-display-entity-wrapper\" style=\"background-color: #800080\"><span class=\"spark-nlp-display-entity-name\">polyuria </span><span class=\"spark-nlp-display-entity-type\">PROBLEM</span></span><span class=\"spark-nlp-display-others\" style=\"background-color: white\"> , </span><span class=\"spark-nlp-display-entity-wrapper\" style=\"background-color: #800080\"><span class=\"spark-nlp-display-entity-name\">polydipsia </span><span class=\"spark-nlp-display-entity-type\">PROBLEM</span></span><span class=\"spark-nlp-display-others\" style=\"background-color: white\"> , </span><span class=\"spark-nlp-display-entity-wrapper\" style=\"background-color: #800080\"><span class=\"spark-nlp-display-entity-name\">poor appetite </span><span class=\"spark-nlp-display-entity-type\">PROBLEM</span></span><span class=\"spark-nlp-display-others\" style=\"background-color: white\"> , and </span><span class=\"spark-nlp-display-entity-wrapper\" style=\"background-color: #800080\"><span class=\"spark-nlp-display-entity-name\">vomiting </span><span class=\"spark-nlp-display-entity-type\">PROBLEM</span></span><span class=\"spark-nlp-display-others\" style=\"background-color: white\"> . Two weeks prior to presentation , she was treated with a five-day course of </span><span class=\"spark-nlp-display-entity-wrapper\" style=\"background-color: #8b6673\"><span class=\"spark-nlp-display-entity-name\">amoxicillin </span><span class=\"spark-nlp-display-entity-type\">TREATMENT</span></span><span class=\"spark-nlp-display-others\" style=\"background-color: white\"> for </span><span class=\"spark-nlp-display-entity-wrapper\" style=\"background-color: #800080\"><span class=\"spark-nlp-display-entity-name\">a respiratory tract infection </span><span class=\"spark-nlp-display-entity-type\">PROBLEM</span></span><span class=\"spark-nlp-display-others\" style=\"background-color: white\"> . She was on </span><span class=\"spark-nlp-display-entity-wrapper\" style=\"background-color: #8b6673\"><span class=\"spark-nlp-display-entity-name\">metformin </span><span class=\"spark-nlp-display-entity-type\">TREATMENT</span></span><span class=\"spark-nlp-display-others\" style=\"background-color: white\"> , </span><span class=\"spark-nlp-display-entity-wrapper\" style=\"background-color: #8b6673\"><span class=\"spark-nlp-display-entity-name\">glipizide </span><span class=\"spark-nlp-display-entity-type\">TREATMENT</span></span><span class=\"spark-nlp-display-others\" style=\"background-color: white\"> , and </span><span class=\"spark-nlp-display-entity-wrapper\" style=\"background-color: #8b6673\"><span class=\"spark-nlp-display-entity-name\">dapagliflozin </span><span class=\"spark-nlp-display-entity-type\">TREATMENT</span></span><span class=\"spark-nlp-display-others\" style=\"background-color: white\"> for </span><span class=\"spark-nlp-display-entity-wrapper\" style=\"background-color: #800080\"><span class=\"spark-nlp-display-entity-name\">T2DM </span><span class=\"spark-nlp-display-entity-type\">PROBLEM</span></span><span class=\"spark-nlp-display-others\" style=\"background-color: white\"> and </span><span class=\"spark-nlp-display-entity-wrapper\" style=\"background-color: #8b6673\"><span class=\"spark-nlp-display-entity-name\">atorvastatin </span><span class=\"spark-nlp-display-entity-type\">TREATMENT</span></span><span class=\"spark-nlp-display-others\" style=\"background-color: white\"> and </span><span class=\"spark-nlp-display-entity-wrapper\" style=\"background-color: #8b6673\"><span class=\"spark-nlp-display-entity-name\">gemfibrozil </span><span class=\"spark-nlp-display-entity-type\">TREATMENT</span></span><span class=\"spark-nlp-display-others\" style=\"background-color: white\"> for </span><span class=\"spark-nlp-display-entity-wrapper\" style=\"background-color: #800080\"><span class=\"spark-nlp-display-entity-name\">HTG </span><span class=\"spark-nlp-display-entity-type\">PROBLEM</span></span><span class=\"spark-nlp-display-others\" style=\"background-color: white\"> . She had been on </span><span class=\"spark-nlp-display-entity-wrapper\" style=\"background-color: #8b6673\"><span class=\"spark-nlp-display-entity-name\">dapagliflozin </span><span class=\"spark-nlp-display-entity-type\">TREATMENT</span></span><span class=\"spark-nlp-display-others\" style=\"background-color: white\"> for six months at the time of presentation . </span><span class=\"spark-nlp-display-entity-wrapper\" style=\"background-color: #77b5fe\"><span class=\"spark-nlp-display-entity-name\">Physical examination </span><span class=\"spark-nlp-display-entity-type\">TEST</span></span><span class=\"spark-nlp-display-others\" style=\"background-color: white\"> on presentation was significant for </span><span class=\"spark-nlp-display-entity-wrapper\" style=\"background-color: #800080\"><span class=\"spark-nlp-display-entity-name\">dry oral mucosa </span><span class=\"spark-nlp-display-entity-type\">PROBLEM</span></span><span class=\"spark-nlp-display-others\" style=\"background-color: white\"> ; significantly , </span><span class=\"spark-nlp-display-entity-wrapper\" style=\"background-color: #77b5fe\"><span class=\"spark-nlp-display-entity-name\">her abdominal examination </span><span class=\"spark-nlp-display-entity-type\">TEST</span></span><span class=\"spark-nlp-display-others\" style=\"background-color: white\"> was benign with no </span><span class=\"spark-nlp-display-entity-wrapper\" style=\"background-color: #800080\"><span class=\"spark-nlp-display-entity-name\">tenderness </span><span class=\"spark-nlp-display-entity-type\">PROBLEM</span></span><span class=\"spark-nlp-display-others\" style=\"background-color: white\"> , </span><span class=\"spark-nlp-display-entity-wrapper\" style=\"background-color: #800080\"><span class=\"spark-nlp-display-entity-name\">guarding </span><span class=\"spark-nlp-display-entity-type\">PROBLEM</span></span><span class=\"spark-nlp-display-others\" style=\"background-color: white\"> , or </span><span class=\"spark-nlp-display-entity-wrapper\" style=\"background-color: #800080\"><span class=\"spark-nlp-display-entity-name\">rigidity </span><span class=\"spark-nlp-display-entity-type\">PROBLEM</span></span><span class=\"spark-nlp-display-others\" style=\"background-color: white\"> . Pertinent laboratory findings on admission were : </span><span class=\"spark-nlp-display-entity-wrapper\" style=\"background-color: #77b5fe\"><span class=\"spark-nlp-display-entity-name\">serum glucose </span><span class=\"spark-nlp-display-entity-type\">TEST</span></span><span class=\"spark-nlp-display-others\" style=\"background-color: white\"> 111 mg/dl , </span><span class=\"spark-nlp-display-entity-wrapper\" style=\"background-color: #77b5fe\"><span class=\"spark-nlp-display-entity-name\">bicarbonate </span><span class=\"spark-nlp-display-entity-type\">TEST</span></span><span class=\"spark-nlp-display-others\" style=\"background-color: white\"> 18 mmol/l , </span><span class=\"spark-nlp-display-entity-wrapper\" style=\"background-color: #77b5fe\"><span class=\"spark-nlp-display-entity-name\">anion gap </span><span class=\"spark-nlp-display-entity-type\">TEST</span></span><span class=\"spark-nlp-display-others\" style=\"background-color: white\"> 20 , </span><span class=\"spark-nlp-display-entity-wrapper\" style=\"background-color: #77b5fe\"><span class=\"spark-nlp-display-entity-name\">creatinine </span><span class=\"spark-nlp-display-entity-type\">TEST</span></span><span class=\"spark-nlp-display-others\" style=\"background-color: white\"> 0.4 mg/dL , </span><span class=\"spark-nlp-display-entity-wrapper\" style=\"background-color: #77b5fe\"><span class=\"spark-nlp-display-entity-name\">triglycerides </span><span class=\"spark-nlp-display-entity-type\">TEST</span></span><span class=\"spark-nlp-display-others\" style=\"background-color: white\"> 508 mg/dL , </span><span class=\"spark-nlp-display-entity-wrapper\" style=\"background-color: #77b5fe\"><span class=\"spark-nlp-display-entity-name\">total cholesterol </span><span class=\"spark-nlp-display-entity-type\">TEST</span></span><span class=\"spark-nlp-display-others\" style=\"background-color: white\"> 122 mg/dL , </span><span class=\"spark-nlp-display-entity-wrapper\" style=\"background-color: #77b5fe\"><span class=\"spark-nlp-display-entity-name\">glycated hemoglobin </span><span class=\"spark-nlp-display-entity-type\">TEST</span></span><span class=\"spark-nlp-display-others\" style=\"background-color: white\"> ( </span><span class=\"spark-nlp-display-entity-wrapper\" style=\"background-color: #77b5fe\"><span class=\"spark-nlp-display-entity-name\">HbA1c </span><span class=\"spark-nlp-display-entity-type\">TEST</span></span><span class=\"spark-nlp-display-others\" style=\"background-color: white\"> ) 10% , and </span><span class=\"spark-nlp-display-entity-wrapper\" style=\"background-color: #77b5fe\"><span class=\"spark-nlp-display-entity-name\">venous pH </span><span class=\"spark-nlp-display-entity-type\">TEST</span></span><span class=\"spark-nlp-display-others\" style=\"background-color: white\"> 7.27 . </span><span class=\"spark-nlp-display-entity-wrapper\" style=\"background-color: #77b5fe\"><span class=\"spark-nlp-display-entity-name\">Serum lipase </span><span class=\"spark-nlp-display-entity-type\">TEST</span></span><span class=\"spark-nlp-display-others\" style=\"background-color: white\"> was normal at 43 </span><span class=\"spark-nlp-display-entity-wrapper\" style=\"background-color: #77b5fe\"><span class=\"spark-nlp-display-entity-name\">U/L </span><span class=\"spark-nlp-display-entity-type\">TEST</span></span><span class=\"spark-nlp-display-others\" style=\"background-color: white\"> . </span><span class=\"spark-nlp-display-entity-wrapper\" style=\"background-color: #77b5fe\"><span class=\"spark-nlp-display-entity-name\">Serum acetone levels </span><span class=\"spark-nlp-display-entity-type\">TEST</span></span><span class=\"spark-nlp-display-others\" style=\"background-color: white\"> could not be assessed as </span><span class=\"spark-nlp-display-entity-wrapper\" style=\"background-color: #77b5fe\"><span class=\"spark-nlp-display-entity-name\">blood samples </span><span class=\"spark-nlp-display-entity-type\">TEST</span></span><span class=\"spark-nlp-display-others\" style=\"background-color: white\"> kept </span><span class=\"spark-nlp-display-entity-wrapper\" style=\"background-color: #800080\"><span class=\"spark-nlp-display-entity-name\">hemolyzing </span><span class=\"spark-nlp-display-entity-type\">PROBLEM</span></span><span class=\"spark-nlp-display-others\" style=\"background-color: white\"> due to </span><span class=\"spark-nlp-display-entity-wrapper\" style=\"background-color: #800080\"><span class=\"spark-nlp-display-entity-name\">significant lipemia </span><span class=\"spark-nlp-display-entity-type\">PROBLEM</span></span><span class=\"spark-nlp-display-others\" style=\"background-color: white\"> . The patient was initially admitted for </span><span class=\"spark-nlp-display-entity-wrapper\" style=\"background-color: #800080\"><span class=\"spark-nlp-display-entity-name\">starvation ketosis </span><span class=\"spark-nlp-display-entity-type\">PROBLEM</span></span><span class=\"spark-nlp-display-others\" style=\"background-color: white\"> , as she reported </span><span class=\"spark-nlp-display-entity-wrapper\" style=\"background-color: #800080\"><span class=\"spark-nlp-display-entity-name\">poor oral intake </span><span class=\"spark-nlp-display-entity-type\">PROBLEM</span></span><span class=\"spark-nlp-display-others\" style=\"background-color: white\"> for three days prior to admission . However , </span><span class=\"spark-nlp-display-entity-wrapper\" style=\"background-color: #77b5fe\"><span class=\"spark-nlp-display-entity-name\">serum chemistry </span><span class=\"spark-nlp-display-entity-type\">TEST</span></span><span class=\"spark-nlp-display-others\" style=\"background-color: white\"> obtained six hours after presentation revealed </span><span class=\"spark-nlp-display-entity-wrapper\" style=\"background-color: #77b5fe\"><span class=\"spark-nlp-display-entity-name\">her glucose </span><span class=\"spark-nlp-display-entity-type\">TEST</span></span><span class=\"spark-nlp-display-others\" style=\"background-color: white\"> was 186 mg/dL , </span><span class=\"spark-nlp-display-entity-wrapper\" style=\"background-color: #77b5fe\"><span class=\"spark-nlp-display-entity-name\">the anion gap </span><span class=\"spark-nlp-display-entity-type\">TEST</span></span><span class=\"spark-nlp-display-others\" style=\"background-color: white\"> was </span><span class=\"spark-nlp-display-entity-wrapper\" style=\"background-color: #800080\"><span class=\"spark-nlp-display-entity-name\">still elevated </span><span class=\"spark-nlp-display-entity-type\">PROBLEM</span></span><span class=\"spark-nlp-display-others\" style=\"background-color: white\"> at 21 , </span><span class=\"spark-nlp-display-entity-wrapper\" style=\"background-color: #77b5fe\"><span class=\"spark-nlp-display-entity-name\">serum bicarbonate </span><span class=\"spark-nlp-display-entity-type\">TEST</span></span><span class=\"spark-nlp-display-others\" style=\"background-color: white\"> was 16 mmol/L , </span><span class=\"spark-nlp-display-entity-wrapper\" style=\"background-color: #77b5fe\"><span class=\"spark-nlp-display-entity-name\">triglyceride level </span><span class=\"spark-nlp-display-entity-type\">TEST</span></span><span class=\"spark-nlp-display-others\" style=\"background-color: white\"> peaked at 2050 mg/dL , and </span><span class=\"spark-nlp-display-entity-wrapper\" style=\"background-color: #77b5fe\"><span class=\"spark-nlp-display-entity-name\">lipase </span><span class=\"spark-nlp-display-entity-type\">TEST</span></span><span class=\"spark-nlp-display-others\" style=\"background-color: white\"> was 52 </span><span class=\"spark-nlp-display-entity-wrapper\" style=\"background-color: #77b5fe\"><span class=\"spark-nlp-display-entity-name\">U/L </span><span class=\"spark-nlp-display-entity-type\">TEST</span></span><span class=\"spark-nlp-display-others\" style=\"background-color: white\"> . </span><span class=\"spark-nlp-display-entity-wrapper\" style=\"background-color: #77b5fe\"><span class=\"spark-nlp-display-entity-name\">The β-hydroxybutyrate level </span><span class=\"spark-nlp-display-entity-type\">TEST</span></span><span class=\"spark-nlp-display-others\" style=\"background-color: white\"> was obtained and found to be </span><span class=\"spark-nlp-display-entity-wrapper\" style=\"background-color: #800080\"><span class=\"spark-nlp-display-entity-name\">elevated </span><span class=\"spark-nlp-display-entity-type\">PROBLEM</span></span><span class=\"spark-nlp-display-others\" style=\"background-color: white\"> at 5.29 mmol/L - the original sample was centrifuged and the chylomicron layer removed prior to </span><span class=\"spark-nlp-display-entity-wrapper\" style=\"background-color: #77b5fe\"><span class=\"spark-nlp-display-entity-name\">analysis </span><span class=\"spark-nlp-display-entity-type\">TEST</span></span><span class=\"spark-nlp-display-others\" style=\"background-color: white\"> due to </span><span class=\"spark-nlp-display-entity-wrapper\" style=\"background-color: #800080\"><span class=\"spark-nlp-display-entity-name\">interference from turbidity </span><span class=\"spark-nlp-display-entity-type\">PROBLEM</span></span><span class=\"spark-nlp-display-others\" style=\"background-color: white\"> caused by </span><span class=\"spark-nlp-display-entity-wrapper\" style=\"background-color: #800080\"><span class=\"spark-nlp-display-entity-name\">lipemia </span><span class=\"spark-nlp-display-entity-type\">PROBLEM</span></span><span class=\"spark-nlp-display-others\" style=\"background-color: white\"> again . The patient was treated with </span><span class=\"spark-nlp-display-entity-wrapper\" style=\"background-color: #8b6673\"><span class=\"spark-nlp-display-entity-name\">an insulin drip </span><span class=\"spark-nlp-display-entity-type\">TREATMENT</span></span><span class=\"spark-nlp-display-others\" style=\"background-color: white\"> for </span><span class=\"spark-nlp-display-entity-wrapper\" style=\"background-color: #800080\"><span class=\"spark-nlp-display-entity-name\">euDKA </span><span class=\"spark-nlp-display-entity-type\">PROBLEM</span></span><span class=\"spark-nlp-display-others\" style=\"background-color: white\"> and </span><span class=\"spark-nlp-display-entity-wrapper\" style=\"background-color: #800080\"><span class=\"spark-nlp-display-entity-name\">HTG </span><span class=\"spark-nlp-display-entity-type\">PROBLEM</span></span><span class=\"spark-nlp-display-others\" style=\"background-color: white\"> with </span><span class=\"spark-nlp-display-entity-wrapper\" style=\"background-color: #8b6673\"><span class=\"spark-nlp-display-entity-name\">a reduction </span><span class=\"spark-nlp-display-entity-type\">TREATMENT</span></span><span class=\"spark-nlp-display-others\" style=\"background-color: white\"> in </span><span class=\"spark-nlp-display-entity-wrapper\" style=\"background-color: #77b5fe\"><span class=\"spark-nlp-display-entity-name\">the anion gap </span><span class=\"spark-nlp-display-entity-type\">TEST</span></span><span class=\"spark-nlp-display-others\" style=\"background-color: white\"> to 13 and </span><span class=\"spark-nlp-display-entity-wrapper\" style=\"background-color: #77b5fe\"><span class=\"spark-nlp-display-entity-name\">triglycerides </span><span class=\"spark-nlp-display-entity-type\">TEST</span></span><span class=\"spark-nlp-display-others\" style=\"background-color: white\"> to 1400 mg/dL , within 24 hours . Her euDKA was thought to be precipitated by </span><span class=\"spark-nlp-display-entity-wrapper\" style=\"background-color: #800080\"><span class=\"spark-nlp-display-entity-name\">her respiratory tract infection </span><span class=\"spark-nlp-display-entity-type\">PROBLEM</span></span><span class=\"spark-nlp-display-others\" style=\"background-color: white\"> in the setting of </span><span class=\"spark-nlp-display-entity-wrapper\" style=\"background-color: #8b6673\"><span class=\"spark-nlp-display-entity-name\">SGLT2 inhibitor </span><span class=\"spark-nlp-display-entity-type\">TREATMENT</span></span><span class=\"spark-nlp-display-others\" style=\"background-color: white\"> use . The patient was seen by the endocrinology service and she was discharged on 40 units of </span><span class=\"spark-nlp-display-entity-wrapper\" style=\"background-color: #8b6673\"><span class=\"spark-nlp-display-entity-name\">insulin glargine </span><span class=\"spark-nlp-display-entity-type\">TREATMENT</span></span><span class=\"spark-nlp-display-others\" style=\"background-color: white\"> at night , 12 units of </span><span class=\"spark-nlp-display-entity-wrapper\" style=\"background-color: #8b6673\"><span class=\"spark-nlp-display-entity-name\">insulin lispro </span><span class=\"spark-nlp-display-entity-type\">TREATMENT</span></span><span class=\"spark-nlp-display-others\" style=\"background-color: white\"> with meals , and </span><span class=\"spark-nlp-display-entity-wrapper\" style=\"background-color: #8b6673\"><span class=\"spark-nlp-display-entity-name\">metformin </span><span class=\"spark-nlp-display-entity-type\">TREATMENT</span></span><span class=\"spark-nlp-display-others\" style=\"background-color: white\"> 1000 mg two times a day . It was determined that </span><span class=\"spark-nlp-display-entity-wrapper\" style=\"background-color: #8b6673\"><span class=\"spark-nlp-display-entity-name\">all SGLT2 inhibitors </span><span class=\"spark-nlp-display-entity-type\">TREATMENT</span></span><span class=\"spark-nlp-display-others\" style=\"background-color: white\"> should be discontinued indefinitely . She had close follow-up with endocrinology post discharge .<br></span></div>",
       "datasetInfos": [],
       "removedWidgets": [],
       "textData": null,
       "type": "htmlSandbox"
      }
     },
     "output_type": "display_data"
    }
   ],
   "source": [
    "from sparknlp_display import NerVisualizer\n",
    "\n",
    "visualiser = NerVisualizer()\n",
    "\n",
    "ner_vis = visualiser.display(light_result[0], label_col='ner_chunk', document_col='document', return_html=True)\n",
    "\n",
    "# Change color of an entity label\n",
    "\n",
    "#visualiser.set_label_colors({'PROBLEM':'#008080', 'TEST':'#800080', 'TREATMENT':'#808080'})\n",
    "#visualiser.display(light_result[0], label_col='ner_chunk')\n",
    "\n",
    "# Set label filter\n",
    "\n",
    "# visualiser.display(light_result, label_col='ner_chunk', document_col='document',\n",
    "                   #labels=['PROBLEM','TEST'])\n",
    "  \n",
    "displayHTML(ner_vis)"
   ]
  },
  {
   "cell_type": "markdown",
   "metadata": {
    "application/vnd.databricks.v1+cell": {
     "inputWidgets": {},
     "nuid": "a891f65a-75ae-488e-a155-0062b79ef023",
     "showTitle": false,
     "title": ""
    }
   },
   "source": [
    "## Posology NER"
   ]
  },
  {
   "cell_type": "code",
   "execution_count": 0,
   "metadata": {
    "application/vnd.databricks.v1+cell": {
     "inputWidgets": {},
     "nuid": "6154e55b-fd2d-43b8-811b-7667fbfe1b0b",
     "showTitle": false,
     "title": ""
    }
   },
   "outputs": [
    {
     "data": {
      "text/html": [
       "<style scoped>\n",
       "  .ansiout {\n",
       "    display: block;\n",
       "    unicode-bidi: embed;\n",
       "    white-space: pre-wrap;\n",
       "    word-wrap: break-word;\n",
       "    word-break: break-all;\n",
       "    font-family: \"Source Code Pro\", \"Menlo\", monospace;;\n",
       "    font-size: 13px;\n",
       "    color: #555;\n",
       "    margin-left: 4px;\n",
       "    line-height: 19px;\n",
       "  }\n",
       "</style>\n",
       "<div class=\"ansiout\">ner_posology download started this may take some time.\n",
       "Approximate size to download 13.8 MB\n",
       "\r",
       "[ | ]\r",
       "[OK!]\n",
       "ner_posology_greedy download started this may take some time.\n",
       "Approximate size to download 13.9 MB\n",
       "\r",
       "[ | ]\r",
       "[OK!]\n",
       "</div>"
      ]
     },
     "metadata": {
      "application/vnd.databricks.v1+output": {
       "addedWidgets": {},
       "arguments": {},
       "data": "<div class=\"ansiout\">ner_posology download started this may take some time.\nApproximate size to download 13.8 MB\n\r[ | ]\r[OK!]\nner_posology_greedy download started this may take some time.\nApproximate size to download 13.9 MB\n\r[ | ]\r[OK!]\n</div>",
       "datasetInfos": [],
       "removedWidgets": [],
       "type": "html"
      }
     },
     "output_type": "display_data"
    }
   ],
   "source": [
    "# NER model trained on i2b2 (sampled from MIMIC) dataset\n",
    "posology_ner = MedicalNerModel.pretrained(\"ner_posology\", \"en\", \"clinical/models\") \\\n",
    "    .setInputCols([\"sentence\", \"token\", \"embeddings\"]) \\\n",
    "    .setOutputCol(\"ner\")\n",
    "\n",
    "ner_converter = NerConverter()\\\n",
    "    .setInputCols([\"sentence\",\"token\",\"ner\"])\\\n",
    "    .setOutputCol(\"ner_chunk\")\n",
    "\n",
    "posology_ner_greedy = MedicalNerModel.pretrained(\"ner_posology_greedy\", \"en\", \"clinical/models\") \\\n",
    "    .setInputCols([\"sentence\", \"token\", \"embeddings\"]) \\\n",
    "    .setOutputCol(\"ner_greedy\")\n",
    "\n",
    "ner_converter_greedy = NerConverter()\\\n",
    "    .setInputCols([\"sentence\",\"token\",\"ner_greedy\"])\\\n",
    "    .setOutputCol(\"ner_chunk_greedy\")\n",
    "\n",
    "nlpPipeline = Pipeline(stages=[\n",
    "    documentAssembler, \n",
    "    sentenceDetector,\n",
    "    tokenizer,\n",
    "    word_embeddings,\n",
    "    posology_ner,\n",
    "    ner_converter,\n",
    "    posology_ner_greedy,\n",
    "    ner_converter_greedy])\n",
    "\n",
    "empty_data = spark.createDataFrame([[\"\"]]).toDF(\"text\")\n",
    "posology_model = nlpPipeline.fit(empty_data)"
   ]
  },
  {
   "cell_type": "code",
   "execution_count": 0,
   "metadata": {
    "application/vnd.databricks.v1+cell": {
     "inputWidgets": {},
     "nuid": "f1dfc92d-7cd8-46f5-beb0-c73b7d8dedb9",
     "showTitle": false,
     "title": ""
    }
   },
   "outputs": [
    {
     "data": {
      "text/html": [
       "<style scoped>\n",
       "  .ansiout {\n",
       "    display: block;\n",
       "    unicode-bidi: embed;\n",
       "    white-space: pre-wrap;\n",
       "    word-wrap: break-word;\n",
       "    word-break: break-all;\n",
       "    font-family: \"Source Code Pro\", \"Menlo\", monospace;;\n",
       "    font-size: 13px;\n",
       "    color: #555;\n",
       "    margin-left: 4px;\n",
       "    line-height: 19px;\n",
       "  }\n",
       "</style>\n",
       "<div class=\"ansiout\">Out[23]: [&#39;O&#39;,\n",
       " &#39;B-DOSAGE&#39;,\n",
       " &#39;B-STRENGTH&#39;,\n",
       " &#39;I-STRENGTH&#39;,\n",
       " &#39;B-ROUTE&#39;,\n",
       " &#39;B-FREQUENCY&#39;,\n",
       " &#39;I-FREQUENCY&#39;,\n",
       " &#39;B-DRUG&#39;,\n",
       " &#39;I-DRUG&#39;,\n",
       " &#39;B-FORM&#39;,\n",
       " &#39;I-DOSAGE&#39;,\n",
       " &#39;B-DURATION&#39;,\n",
       " &#39;I-DURATION&#39;,\n",
       " &#39;I-FORM&#39;,\n",
       " &#39;I-ROUTE&#39;]</div>"
      ]
     },
     "metadata": {
      "application/vnd.databricks.v1+output": {
       "addedWidgets": {},
       "arguments": {},
       "data": "<div class=\"ansiout\">Out[23]: [&#39;O&#39;,\n &#39;B-DOSAGE&#39;,\n &#39;B-STRENGTH&#39;,\n &#39;I-STRENGTH&#39;,\n &#39;B-ROUTE&#39;,\n &#39;B-FREQUENCY&#39;,\n &#39;I-FREQUENCY&#39;,\n &#39;B-DRUG&#39;,\n &#39;I-DRUG&#39;,\n &#39;B-FORM&#39;,\n &#39;I-DOSAGE&#39;,\n &#39;B-DURATION&#39;,\n &#39;I-DURATION&#39;,\n &#39;I-FORM&#39;,\n &#39;I-ROUTE&#39;]</div>",
       "datasetInfos": [],
       "removedWidgets": [],
       "type": "html"
      }
     },
     "output_type": "display_data"
    }
   ],
   "source": [
    "posology_ner.getClasses()"
   ]
  },
  {
   "cell_type": "code",
   "execution_count": 0,
   "metadata": {
    "application/vnd.databricks.v1+cell": {
     "inputWidgets": {},
     "nuid": "cef14918-059d-4179-b4c6-1d216cbb0e0a",
     "showTitle": false,
     "title": ""
    }
   },
   "outputs": [
    {
     "data": {
      "text/html": [
       "<style scoped>\n",
       "  .ansiout {\n",
       "    display: block;\n",
       "    unicode-bidi: embed;\n",
       "    white-space: pre-wrap;\n",
       "    word-wrap: break-word;\n",
       "    word-break: break-all;\n",
       "    font-family: \"Source Code Pro\", \"Menlo\", monospace;;\n",
       "    font-size: 13px;\n",
       "    color: #555;\n",
       "    margin-left: 4px;\n",
       "    line-height: 19px;\n",
       "  }\n",
       "</style>\n",
       "<div class=\"ansiout\"></div>"
      ]
     },
     "metadata": {
      "application/vnd.databricks.v1+output": {
       "addedWidgets": {},
       "arguments": {},
       "data": "<div class=\"ansiout\"></div>",
       "datasetInfos": [],
       "removedWidgets": [],
       "type": "html"
      }
     },
     "output_type": "display_data"
    }
   ],
   "source": [
    "posology_result = posology_model.transform(pubMedDF.limit(100))"
   ]
  },
  {
   "cell_type": "code",
   "execution_count": 0,
   "metadata": {
    "application/vnd.databricks.v1+cell": {
     "inputWidgets": {},
     "nuid": "c90f7c32-5d67-48ec-9089-c1c7297d73c7",
     "showTitle": false,
     "title": ""
    }
   },
   "outputs": [
    {
     "data": {
      "text/html": [
       "<style scoped>\n",
       "  .ansiout {\n",
       "    display: block;\n",
       "    unicode-bidi: embed;\n",
       "    white-space: pre-wrap;\n",
       "    word-wrap: break-word;\n",
       "    word-break: break-all;\n",
       "    font-family: \"Source Code Pro\", \"Menlo\", monospace;;\n",
       "    font-size: 13px;\n",
       "    color: #555;\n",
       "    margin-left: 4px;\n",
       "    line-height: 19px;\n",
       "  }\n",
       "</style>\n",
       "<div class=\"ansiout\">+--------------------+--------------------+--------------------+--------------------+--------------------+--------------------+--------------------+--------------------+--------------------+\n",
       "                text|            document|            sentence|               token|          embeddings|                 ner|           ner_chunk|          ner_greedy|    ner_chunk_greedy|\n",
       "+--------------------+--------------------+--------------------+--------------------+--------------------+--------------------+--------------------+--------------------+--------------------+\n",
       "The human KCNJ9 (...|[[document, 0, 95...|[[document, 0, 12...|[[token, 0, 2, Th...|[[word_embeddings...|[[named_entity, 0...|                  []|[[named_entity, 0...|[[chunk, 52, 122,...|\n",
       "BACKGROUND: At pr...|[[document, 0, 14...|[[document, 0, 19...|[[token, 0, 9, BA...|[[word_embeddings...|[[named_entity, 0...|[[chunk, 167, 180...|[[named_entity, 0...|[[chunk, 167, 180...|\n",
       "OBJECTIVE: To inv...|[[document, 0, 15...|[[document, 0, 14...|[[token, 0, 8, OB...|[[word_embeddings...|[[named_entity, 0...|                  []|[[named_entity, 0...|                  []|\n",
       "Combined EEG/fMRI...|[[document, 0, 16...|[[document, 0, 29...|[[token, 0, 7, Co...|[[word_embeddings...|[[named_entity, 0...|                  []|[[named_entity, 0...|                  []|\n",
       "Kohlschutter synd...|[[document, 0, 25...|[[document, 0, 20...|[[token, 0, 11, K...|[[word_embeddings...|[[named_entity, 0...|                  []|[[named_entity, 0...|                  []|\n",
       "Statistical analy...|[[document, 0, 10...|[[document, 0, 22...|[[token, 0, 10, S...|[[word_embeddings...|[[named_entity, 0...|                  []|[[named_entity, 0...|                  []|\n",
       "The synthetic DOX...|[[document, 0, 57...|[[document, 0, 10...|[[token, 0, 2, Th...|[[word_embeddings...|[[named_entity, 0...|[[chunk, 432, 446...|[[named_entity, 0...|[[chunk, 432, 446...|\n",
       "Our objective was...|[[document, 0, 24...|[[document, 0, 19...|[[token, 0, 2, Ou...|[[word_embeddings...|[[named_entity, 0...|[[chunk, 174, 185...|[[named_entity, 0...|[[chunk, 174, 185...|\n",
       "We conducted a ph...|[[document, 0, 14...|[[document, 0, 24...|[[token, 0, 1, We...|[[word_embeddings...|[[named_entity, 0...|[[chunk, 70, 81, ...|[[named_entity, 0...|[[chunk, 70, 81, ...|\n",
       "&#34;&#34;&#34;Monomeric sarc...|[[document, 0, 14...|[[document, 0, 14...|[[token, 0, 2, &#34;&#34;...|[[word_embeddings...|[[named_entity, 0...|[[chunk, 138, 144...|[[named_entity, 0...|[[chunk, 0, 36, &#34;...|\n",
       "+--------------------+--------------------+--------------------+--------------------+--------------------+--------------------+--------------------+--------------------+--------------------+\n",
       "only showing top 10 rows\n",
       "\n",
       "</div>"
      ]
     },
     "metadata": {
      "application/vnd.databricks.v1+output": {
       "addedWidgets": {},
       "arguments": {},
       "data": "<div class=\"ansiout\">+--------------------+--------------------+--------------------+--------------------+--------------------+--------------------+--------------------+--------------------+--------------------+\n|                text|            document|            sentence|               token|          embeddings|                 ner|           ner_chunk|          ner_greedy|    ner_chunk_greedy|\n+--------------------+--------------------+--------------------+--------------------+--------------------+--------------------+--------------------+--------------------+--------------------+\n|The human KCNJ9 (...|[[document, 0, 95...|[[document, 0, 12...|[[token, 0, 2, Th...|[[word_embeddings...|[[named_entity, 0...|                  []|[[named_entity, 0...|[[chunk, 52, 122,...|\n|BACKGROUND: At pr...|[[document, 0, 14...|[[document, 0, 19...|[[token, 0, 9, BA...|[[word_embeddings...|[[named_entity, 0...|[[chunk, 167, 180...|[[named_entity, 0...|[[chunk, 167, 180...|\n|OBJECTIVE: To inv...|[[document, 0, 15...|[[document, 0, 14...|[[token, 0, 8, OB...|[[word_embeddings...|[[named_entity, 0...|                  []|[[named_entity, 0...|                  []|\n|Combined EEG/fMRI...|[[document, 0, 16...|[[document, 0, 29...|[[token, 0, 7, Co...|[[word_embeddings...|[[named_entity, 0...|                  []|[[named_entity, 0...|                  []|\n|Kohlschutter synd...|[[document, 0, 25...|[[document, 0, 20...|[[token, 0, 11, K...|[[word_embeddings...|[[named_entity, 0...|                  []|[[named_entity, 0...|                  []|\n|Statistical analy...|[[document, 0, 10...|[[document, 0, 22...|[[token, 0, 10, S...|[[word_embeddings...|[[named_entity, 0...|                  []|[[named_entity, 0...|                  []|\n|The synthetic DOX...|[[document, 0, 57...|[[document, 0, 10...|[[token, 0, 2, Th...|[[word_embeddings...|[[named_entity, 0...|[[chunk, 432, 446...|[[named_entity, 0...|[[chunk, 432, 446...|\n|Our objective was...|[[document, 0, 24...|[[document, 0, 19...|[[token, 0, 2, Ou...|[[word_embeddings...|[[named_entity, 0...|[[chunk, 174, 185...|[[named_entity, 0...|[[chunk, 174, 185...|\n|We conducted a ph...|[[document, 0, 14...|[[document, 0, 24...|[[token, 0, 1, We...|[[word_embeddings...|[[named_entity, 0...|[[chunk, 70, 81, ...|[[named_entity, 0...|[[chunk, 70, 81, ...|\n|&#34;&#34;&#34;Monomeric sarc...|[[document, 0, 14...|[[document, 0, 14...|[[token, 0, 2, &#34;&#34;...|[[word_embeddings...|[[named_entity, 0...|[[chunk, 138, 144...|[[named_entity, 0...|[[chunk, 0, 36, &#34;...|\n+--------------------+--------------------+--------------------+--------------------+--------------------+--------------------+--------------------+--------------------+--------------------+\nonly showing top 10 rows\n\n</div>",
       "datasetInfos": [],
       "removedWidgets": [],
       "type": "html"
      }
     },
     "output_type": "display_data"
    }
   ],
   "source": [
    "posology_result.show(10)"
   ]
  },
  {
   "cell_type": "code",
   "execution_count": 0,
   "metadata": {
    "application/vnd.databricks.v1+cell": {
     "inputWidgets": {},
     "nuid": "b0dec0f6-3b6b-428b-84d7-e65cbf877e54",
     "showTitle": false,
     "title": ""
    }
   },
   "outputs": [
    {
     "data": {
      "text/html": [
       "<style scoped>\n",
       "  .ansiout {\n",
       "    display: block;\n",
       "    unicode-bidi: embed;\n",
       "    white-space: pre-wrap;\n",
       "    word-wrap: break-word;\n",
       "    word-break: break-all;\n",
       "    font-family: \"Source Code Pro\", \"Menlo\", monospace;;\n",
       "    font-size: 13px;\n",
       "    color: #555;\n",
       "    margin-left: 4px;\n",
       "    line-height: 19px;\n",
       "  }\n",
       "</style>\n",
       "<div class=\"ansiout\">root\n",
       "-- text: string (nullable = true)\n",
       "-- document: array (nullable = true)\n",
       "    |-- element: struct (containsNull = true)\n",
       "    |    |-- annotatorType: string (nullable = true)\n",
       "    |    |-- begin: integer (nullable = false)\n",
       "    |    |-- end: integer (nullable = false)\n",
       "    |    |-- result: string (nullable = true)\n",
       "    |    |-- metadata: map (nullable = true)\n",
       "    |    |    |-- key: string\n",
       "    |    |    |-- value: string (valueContainsNull = true)\n",
       "    |    |-- embeddings: array (nullable = true)\n",
       "    |    |    |-- element: float (containsNull = false)\n",
       "-- sentence: array (nullable = true)\n",
       "    |-- element: struct (containsNull = true)\n",
       "    |    |-- annotatorType: string (nullable = true)\n",
       "    |    |-- begin: integer (nullable = false)\n",
       "    |    |-- end: integer (nullable = false)\n",
       "    |    |-- result: string (nullable = true)\n",
       "    |    |-- metadata: map (nullable = true)\n",
       "    |    |    |-- key: string\n",
       "    |    |    |-- value: string (valueContainsNull = true)\n",
       "    |    |-- embeddings: array (nullable = true)\n",
       "    |    |    |-- element: float (containsNull = false)\n",
       "-- token: array (nullable = true)\n",
       "    |-- element: struct (containsNull = true)\n",
       "    |    |-- annotatorType: string (nullable = true)\n",
       "    |    |-- begin: integer (nullable = false)\n",
       "    |    |-- end: integer (nullable = false)\n",
       "    |    |-- result: string (nullable = true)\n",
       "    |    |-- metadata: map (nullable = true)\n",
       "    |    |    |-- key: string\n",
       "    |    |    |-- value: string (valueContainsNull = true)\n",
       "    |    |-- embeddings: array (nullable = true)\n",
       "    |    |    |-- element: float (containsNull = false)\n",
       "-- embeddings: array (nullable = true)\n",
       "    |-- element: struct (containsNull = true)\n",
       "    |    |-- annotatorType: string (nullable = true)\n",
       "    |    |-- begin: integer (nullable = false)\n",
       "    |    |-- end: integer (nullable = false)\n",
       "    |    |-- result: string (nullable = true)\n",
       "    |    |-- metadata: map (nullable = true)\n",
       "    |    |    |-- key: string\n",
       "    |    |    |-- value: string (valueContainsNull = true)\n",
       "    |    |-- embeddings: array (nullable = true)\n",
       "    |    |    |-- element: float (containsNull = false)\n",
       "-- ner: array (nullable = true)\n",
       "    |-- element: struct (containsNull = false)\n",
       "    |    |-- annotatorType: string (nullable = true)\n",
       "    |    |-- begin: integer (nullable = false)\n",
       "    |    |-- end: integer (nullable = false)\n",
       "    |    |-- result: string (nullable = true)\n",
       "    |    |-- metadata: map (nullable = true)\n",
       "    |    |    |-- key: string\n",
       "    |    |    |-- value: string (valueContainsNull = true)\n",
       "    |    |-- embeddings: array (nullable = true)\n",
       "    |    |    |-- element: float (containsNull = false)\n",
       "-- ner_chunk: array (nullable = true)\n",
       "    |-- element: struct (containsNull = true)\n",
       "    |    |-- annotatorType: string (nullable = true)\n",
       "    |    |-- begin: integer (nullable = false)\n",
       "    |    |-- end: integer (nullable = false)\n",
       "    |    |-- result: string (nullable = true)\n",
       "    |    |-- metadata: map (nullable = true)\n",
       "    |    |    |-- key: string\n",
       "    |    |    |-- value: string (valueContainsNull = true)\n",
       "    |    |-- embeddings: array (nullable = true)\n",
       "    |    |    |-- element: float (containsNull = false)\n",
       "-- ner_greedy: array (nullable = true)\n",
       "    |-- element: struct (containsNull = false)\n",
       "    |    |-- annotatorType: string (nullable = true)\n",
       "    |    |-- begin: integer (nullable = false)\n",
       "    |    |-- end: integer (nullable = false)\n",
       "    |    |-- result: string (nullable = true)\n",
       "    |    |-- metadata: map (nullable = true)\n",
       "    |    |    |-- key: string\n",
       "    |    |    |-- value: string (valueContainsNull = true)\n",
       "    |    |-- embeddings: array (nullable = true)\n",
       "    |    |    |-- element: float (containsNull = false)\n",
       "-- ner_chunk_greedy: array (nullable = true)\n",
       "    |-- element: struct (containsNull = true)\n",
       "    |    |-- annotatorType: string (nullable = true)\n",
       "    |    |-- begin: integer (nullable = false)\n",
       "    |    |-- end: integer (nullable = false)\n",
       "    |    |-- result: string (nullable = true)\n",
       "    |    |-- metadata: map (nullable = true)\n",
       "    |    |    |-- key: string\n",
       "    |    |    |-- value: string (valueContainsNull = true)\n",
       "    |    |-- embeddings: array (nullable = true)\n",
       "    |    |    |-- element: float (containsNull = false)\n",
       "\n",
       "</div>"
      ]
     },
     "metadata": {
      "application/vnd.databricks.v1+output": {
       "addedWidgets": {},
       "arguments": {},
       "data": "<div class=\"ansiout\">root\n |-- text: string (nullable = true)\n |-- document: array (nullable = true)\n |    |-- element: struct (containsNull = true)\n |    |    |-- annotatorType: string (nullable = true)\n |    |    |-- begin: integer (nullable = false)\n |    |    |-- end: integer (nullable = false)\n |    |    |-- result: string (nullable = true)\n |    |    |-- metadata: map (nullable = true)\n |    |    |    |-- key: string\n |    |    |    |-- value: string (valueContainsNull = true)\n |    |    |-- embeddings: array (nullable = true)\n |    |    |    |-- element: float (containsNull = false)\n |-- sentence: array (nullable = true)\n |    |-- element: struct (containsNull = true)\n |    |    |-- annotatorType: string (nullable = true)\n |    |    |-- begin: integer (nullable = false)\n |    |    |-- end: integer (nullable = false)\n |    |    |-- result: string (nullable = true)\n |    |    |-- metadata: map (nullable = true)\n |    |    |    |-- key: string\n |    |    |    |-- value: string (valueContainsNull = true)\n |    |    |-- embeddings: array (nullable = true)\n |    |    |    |-- element: float (containsNull = false)\n |-- token: array (nullable = true)\n |    |-- element: struct (containsNull = true)\n |    |    |-- annotatorType: string (nullable = true)\n |    |    |-- begin: integer (nullable = false)\n |    |    |-- end: integer (nullable = false)\n |    |    |-- result: string (nullable = true)\n |    |    |-- metadata: map (nullable = true)\n |    |    |    |-- key: string\n |    |    |    |-- value: string (valueContainsNull = true)\n |    |    |-- embeddings: array (nullable = true)\n |    |    |    |-- element: float (containsNull = false)\n |-- embeddings: array (nullable = true)\n |    |-- element: struct (containsNull = true)\n |    |    |-- annotatorType: string (nullable = true)\n |    |    |-- begin: integer (nullable = false)\n |    |    |-- end: integer (nullable = false)\n |    |    |-- result: string (nullable = true)\n |    |    |-- metadata: map (nullable = true)\n |    |    |    |-- key: string\n |    |    |    |-- value: string (valueContainsNull = true)\n |    |    |-- embeddings: array (nullable = true)\n |    |    |    |-- element: float (containsNull = false)\n |-- ner: array (nullable = true)\n |    |-- element: struct (containsNull = false)\n |    |    |-- annotatorType: string (nullable = true)\n |    |    |-- begin: integer (nullable = false)\n |    |    |-- end: integer (nullable = false)\n |    |    |-- result: string (nullable = true)\n |    |    |-- metadata: map (nullable = true)\n |    |    |    |-- key: string\n |    |    |    |-- value: string (valueContainsNull = true)\n |    |    |-- embeddings: array (nullable = true)\n |    |    |    |-- element: float (containsNull = false)\n |-- ner_chunk: array (nullable = true)\n |    |-- element: struct (containsNull = true)\n |    |    |-- annotatorType: string (nullable = true)\n |    |    |-- begin: integer (nullable = false)\n |    |    |-- end: integer (nullable = false)\n |    |    |-- result: string (nullable = true)\n |    |    |-- metadata: map (nullable = true)\n |    |    |    |-- key: string\n |    |    |    |-- value: string (valueContainsNull = true)\n |    |    |-- embeddings: array (nullable = true)\n |    |    |    |-- element: float (containsNull = false)\n |-- ner_greedy: array (nullable = true)\n |    |-- element: struct (containsNull = false)\n |    |    |-- annotatorType: string (nullable = true)\n |    |    |-- begin: integer (nullable = false)\n |    |    |-- end: integer (nullable = false)\n |    |    |-- result: string (nullable = true)\n |    |    |-- metadata: map (nullable = true)\n |    |    |    |-- key: string\n |    |    |    |-- value: string (valueContainsNull = true)\n |    |    |-- embeddings: array (nullable = true)\n |    |    |    |-- element: float (containsNull = false)\n |-- ner_chunk_greedy: array (nullable = true)\n |    |-- element: struct (containsNull = true)\n |    |    |-- annotatorType: string (nullable = true)\n |    |    |-- begin: integer (nullable = false)\n |    |    |-- end: integer (nullable = false)\n |    |    |-- result: string (nullable = true)\n |    |    |-- metadata: map (nullable = true)\n |    |    |    |-- key: string\n |    |    |    |-- value: string (valueContainsNull = true)\n |    |    |-- embeddings: array (nullable = true)\n |    |    |    |-- element: float (containsNull = false)\n\n</div>",
       "datasetInfos": [],
       "removedWidgets": [],
       "type": "html"
      }
     },
     "output_type": "display_data"
    }
   ],
   "source": [
    "posology_result.printSchema()"
   ]
  },
  {
   "cell_type": "code",
   "execution_count": 0,
   "metadata": {
    "application/vnd.databricks.v1+cell": {
     "inputWidgets": {},
     "nuid": "91684cd2-e80f-42b5-a1ef-b250eb8b204f",
     "showTitle": false,
     "title": ""
    }
   },
   "outputs": [
    {
     "data": {
      "text/html": [
       "<style scoped>\n",
       "  .ansiout {\n",
       "    display: block;\n",
       "    unicode-bidi: embed;\n",
       "    white-space: pre-wrap;\n",
       "    word-wrap: break-word;\n",
       "    word-break: break-all;\n",
       "    font-family: \"Source Code Pro\", \"Menlo\", monospace;;\n",
       "    font-size: 13px;\n",
       "    color: #555;\n",
       "    margin-left: 4px;\n",
       "    line-height: 19px;\n",
       "  }\n",
       "</style>\n",
       "<div class=\"ansiout\">+--------------------+--------------------+--------------------+--------------------+--------------------+--------------------+--------------------+--------------------+--------------------+---+\n",
       "                text|            document|            sentence|               token|          embeddings|                 ner|           ner_chunk|          ner_greedy|    ner_chunk_greedy| id|\n",
       "+--------------------+--------------------+--------------------+--------------------+--------------------+--------------------+--------------------+--------------------+--------------------+---+\n",
       "The human KCNJ9 (...|[[document, 0, 95...|[[document, 0, 12...|[[token, 0, 2, Th...|[[word_embeddings...|[[named_entity, 0...|                  []|[[named_entity, 0...|[[chunk, 52, 122,...|  0|\n",
       "BACKGROUND: At pr...|[[document, 0, 14...|[[document, 0, 19...|[[token, 0, 9, BA...|[[word_embeddings...|[[named_entity, 0...|[[chunk, 167, 180...|[[named_entity, 0...|[[chunk, 167, 180...|  1|\n",
       "OBJECTIVE: To inv...|[[document, 0, 15...|[[document, 0, 14...|[[token, 0, 8, OB...|[[word_embeddings...|[[named_entity, 0...|                  []|[[named_entity, 0...|                  []|  2|\n",
       "+--------------------+--------------------+--------------------+--------------------+--------------------+--------------------+--------------------+--------------------+--------------------+---+\n",
       "only showing top 3 rows\n",
       "\n",
       "</div>"
      ]
     },
     "metadata": {
      "application/vnd.databricks.v1+output": {
       "addedWidgets": {},
       "arguments": {},
       "data": "<div class=\"ansiout\">+--------------------+--------------------+--------------------+--------------------+--------------------+--------------------+--------------------+--------------------+--------------------+---+\n|                text|            document|            sentence|               token|          embeddings|                 ner|           ner_chunk|          ner_greedy|    ner_chunk_greedy| id|\n+--------------------+--------------------+--------------------+--------------------+--------------------+--------------------+--------------------+--------------------+--------------------+---+\n|The human KCNJ9 (...|[[document, 0, 95...|[[document, 0, 12...|[[token, 0, 2, Th...|[[word_embeddings...|[[named_entity, 0...|                  []|[[named_entity, 0...|[[chunk, 52, 122,...|  0|\n|BACKGROUND: At pr...|[[document, 0, 14...|[[document, 0, 19...|[[token, 0, 9, BA...|[[word_embeddings...|[[named_entity, 0...|[[chunk, 167, 180...|[[named_entity, 0...|[[chunk, 167, 180...|  1|\n|OBJECTIVE: To inv...|[[document, 0, 15...|[[document, 0, 14...|[[token, 0, 8, OB...|[[word_embeddings...|[[named_entity, 0...|                  []|[[named_entity, 0...|                  []|  2|\n+--------------------+--------------------+--------------------+--------------------+--------------------+--------------------+--------------------+--------------------+--------------------+---+\nonly showing top 3 rows\n\n</div>",
       "datasetInfos": [],
       "removedWidgets": [],
       "type": "html"
      }
     },
     "output_type": "display_data"
    }
   ],
   "source": [
    "from pyspark.sql.functions import monotonically_increasing_id\n",
    "\n",
    "# This will return a new DF with all the columns + id\n",
    "posology_result = posology_result.withColumn(\"id\", monotonically_increasing_id())\n",
    "\n",
    "posology_result.show(3)"
   ]
  },
  {
   "cell_type": "code",
   "execution_count": 0,
   "metadata": {
    "application/vnd.databricks.v1+cell": {
     "inputWidgets": {},
     "nuid": "a2690ad2-c595-4e02-b4b0-7924e37da39d",
     "showTitle": false,
     "title": ""
    }
   },
   "outputs": [
    {
     "data": {
      "text/html": [
       "<style scoped>\n",
       "  .ansiout {\n",
       "    display: block;\n",
       "    unicode-bidi: embed;\n",
       "    white-space: pre-wrap;\n",
       "    word-wrap: break-word;\n",
       "    word-break: break-all;\n",
       "    font-family: \"Source Code Pro\", \"Menlo\", monospace;;\n",
       "    font-size: 13px;\n",
       "    color: #555;\n",
       "    margin-left: 4px;\n",
       "    line-height: 19px;\n",
       "  }\n",
       "</style>\n",
       "<div class=\"ansiout\">+----------------------------------------------------------------------------------------------------+----------------------------------------------------------------------------------------------------+\n",
       "                                                                                              result|                                                                                              result|\n",
       "+----------------------------------------------------------------------------------------------------+----------------------------------------------------------------------------------------------------+\n",
       "[The, human, KCNJ9, (, Kir, 3.3, ,, GIRK3, ), is, a, member, of, the, G-protein-activated, inward...|[O, O, O, O, O, O, O, O, O, O, O, O, O, O, O, O, O, O, O, O, O, O, O, O, O, O, O, O, O, O, O, O, ...|\n",
       "[BACKGROUND, :, At, present, ,, it, is, one, of, the, most, important, issues, for, the, treatmen...|[O, O, O, O, O, O, O, O, O, O, O, O, O, O, O, O, O, O, O, O, O, O, O, O, O, O, O, O, O, B-DRUG, O...|\n",
       "[OBJECTIVE, :, To, investigate, the, relationship, between, preoperative, atrialfibrillation, and...|[O, O, O, O, O, O, O, O, O, O, O, O, O, O, O, O, O, O, O, O, O, O, O, O, O, O, O, O, O, O, O, O, ...|\n",
       "[Combined, EEG/fMRI, recording, has, been, used, to, localize, the, generators, of, EEGevents, an...|[O, O, O, O, O, O, O, O, O, O, O, O, O, O, O, O, O, O, O, O, O, O, O, O, O, O, O, O, O, O, O, O, ...|\n",
       "[Kohlschutter, syndrome, is, a, rare, neurodegenerative, disorder, presenting, withintractable, s...|    [O, O, O, O, O, O, O, O, O, O, O, O, O, O, O, O, O, O, O, O, O, O, O, O, O, O, O, O, O, O, O, O]|\n",
       "[Statistical, analysis, of, neuroimages, is, commonly, approached, with, intergroupcomparisons, m...|[O, O, O, O, O, O, O, O, O, O, O, O, O, O, O, O, O, O, O, O, O, O, O, O, O, O, O, O, O, O, O, O, ...|\n",
       "[The, synthetic, DOX-LNA, conjugate, was, characterized, by, proton, nuclear, magneticresonance, ...|[O, O, O, O, O, O, O, O, O, O, O, O, O, O, O, O, O, O, O, O, O, O, O, O, O, O, O, O, O, O, O, O, ...|\n",
       "[Our, objective, was, to, compare, three, different, methods, of, blood, pressuremeasurement, thr...|[O, O, O, O, O, O, O, O, O, O, O, O, O, O, O, O, O, O, O, O, O, O, O, O, B-DRUG, O, B-DRUG, O, O,...|\n",
       "[We, conducted, a, phase, II, study, to, assess, the, efficacy, and, tolerability, ofirinotecan, ...|[O, O, O, O, O, O, O, O, O, O, O, O, B-DRUG, O, B-DRUG, O, O, B-DRUG, O, O, O, O, O, O, O, O, O, ...|\n",
       "[&#34;&#34;&#34;, Monomeric, sarcosine, oxidase, (, MSOX, ), is, a, flavoenzyme, that, catalyzes, the, oxidat...|                          [O, O, O, O, O, O, O, O, O, O, O, O, O, O, O, O, O, O, O, O, O, O, B-DRUG]|\n",
       "[We, presented, the, tachinid, fly, Exorista, japonica, with, moving, host, models, :, afreeze-dr...|[O, O, O, O, O, O, O, O, O, O, O, O, O, O, O, O, O, O, O, O, O, O, O, O, O, O, O, O, O, O, O, O, ...|\n",
       "[The, literature, dealing, with, the, water, conducting, properties, of, sapwood, xylem, intrees,...|[O, O, O, O, O, O, O, O, O, O, O, O, O, O, O, O, O, O, O, O, O, O, O, O, O, O, O, O, O, O, O, O, ...|\n",
       "[A, novel, approach, to, synthesize, chitosan-O-isopropyl-5&#39;-O-d4T, monophosphateconjugate, was, ...|[O, O, O, O, O, O, O, O, O, O, B-DRUG, I-DRUG, I-DRUG, O, O, O, O, O, O, O, O, O, O, O, O, O, O, ...|\n",
       "[An, HPLC-ESI-MS-MS, method, has, been, developed, for, the, quantitative, determination, offour,...|[O, O, O, O, O, O, O, O, O, O, O, O, O, B-DRUG, I-DRUG, I-DRUG, I-DRUG, O, O, O, O, O, O, O, O, O...|\n",
       "[The, localizing, and, lateralizing, values, of, eye, and, head, ictal, deviations, duringfrontal...|[O, O, O, O, O, O, O, O, O, O, O, O, O, O, O, O, O, O, O, O, O, O, O, O, O, O, O, O, O, O, O, O, ...|\n",
       "[OBJECTIVE, :, To, evaluate, the, effectiveness, and, acceptability, of, expectantmanagement, of,...|[O, O, O, O, O, O, O, O, O, O, O, O, O, O, O, O, O, O, O, O, O, O, O, O, O, O, O, O, O, O, O, O, ...|\n",
       "[For, the, construction, of, new, combinatorial, libraries, ,, a, lead, compound, was, created, b...|[O, O, O, O, O, O, O, O, O, O, O, O, O, O, O, O, O, O, O, O, O, O, O, O, O, O, O, O, O, O, O, O, ...|\n",
       "[We, report, the, results, of, a, screen, for, genetic, association, with, urinary, arsenicmetabo...|[O, O, O, O, O, O, O, O, O, O, O, O, O, O, O, O, O, O, O, O, O, O, O, O, O, O, O, O, O, O, O, O, ...|\n",
       "[Intraparenchymal, pericatheter, cyst, is, rarely, reported, ., Obstruction, in, theventriculoper...|[O, O, O, O, O, O, O, O, O, O, O, O, O, O, O, O, O, O, O, O, O, O, O, O, O, O, O, O, O, O, O, O, ...|\n",
       "[It, is, known, that, patients, with, Klinefelter&#39;s, syndrome, are, inclined, to, developconcomit...|[O, O, O, O, O, O, O, O, O, O, O, O, O, O, O, O, O, O, O, O, O, O, O, O, O, O, O, O, O, O, O, O, ...|\n",
       "+----------------------------------------------------------------------------------------------------+----------------------------------------------------------------------------------------------------+\n",
       "only showing top 20 rows\n",
       "\n",
       "</div>"
      ]
     },
     "metadata": {
      "application/vnd.databricks.v1+output": {
       "addedWidgets": {},
       "arguments": {},
       "data": "<div class=\"ansiout\">+----------------------------------------------------------------------------------------------------+----------------------------------------------------------------------------------------------------+\n|                                                                                              result|                                                                                              result|\n+----------------------------------------------------------------------------------------------------+----------------------------------------------------------------------------------------------------+\n|[The, human, KCNJ9, (, Kir, 3.3, ,, GIRK3, ), is, a, member, of, the, G-protein-activated, inward...|[O, O, O, O, O, O, O, O, O, O, O, O, O, O, O, O, O, O, O, O, O, O, O, O, O, O, O, O, O, O, O, O, ...|\n|[BACKGROUND, :, At, present, ,, it, is, one, of, the, most, important, issues, for, the, treatmen...|[O, O, O, O, O, O, O, O, O, O, O, O, O, O, O, O, O, O, O, O, O, O, O, O, O, O, O, O, O, B-DRUG, O...|\n|[OBJECTIVE, :, To, investigate, the, relationship, between, preoperative, atrialfibrillation, and...|[O, O, O, O, O, O, O, O, O, O, O, O, O, O, O, O, O, O, O, O, O, O, O, O, O, O, O, O, O, O, O, O, ...|\n|[Combined, EEG/fMRI, recording, has, been, used, to, localize, the, generators, of, EEGevents, an...|[O, O, O, O, O, O, O, O, O, O, O, O, O, O, O, O, O, O, O, O, O, O, O, O, O, O, O, O, O, O, O, O, ...|\n|[Kohlschutter, syndrome, is, a, rare, neurodegenerative, disorder, presenting, withintractable, s...|    [O, O, O, O, O, O, O, O, O, O, O, O, O, O, O, O, O, O, O, O, O, O, O, O, O, O, O, O, O, O, O, O]|\n|[Statistical, analysis, of, neuroimages, is, commonly, approached, with, intergroupcomparisons, m...|[O, O, O, O, O, O, O, O, O, O, O, O, O, O, O, O, O, O, O, O, O, O, O, O, O, O, O, O, O, O, O, O, ...|\n|[The, synthetic, DOX-LNA, conjugate, was, characterized, by, proton, nuclear, magneticresonance, ...|[O, O, O, O, O, O, O, O, O, O, O, O, O, O, O, O, O, O, O, O, O, O, O, O, O, O, O, O, O, O, O, O, ...|\n|[Our, objective, was, to, compare, three, different, methods, of, blood, pressuremeasurement, thr...|[O, O, O, O, O, O, O, O, O, O, O, O, O, O, O, O, O, O, O, O, O, O, O, O, B-DRUG, O, B-DRUG, O, O,...|\n|[We, conducted, a, phase, II, study, to, assess, the, efficacy, and, tolerability, ofirinotecan, ...|[O, O, O, O, O, O, O, O, O, O, O, O, B-DRUG, O, B-DRUG, O, O, B-DRUG, O, O, O, O, O, O, O, O, O, ...|\n|[&#34;&#34;&#34;, Monomeric, sarcosine, oxidase, (, MSOX, ), is, a, flavoenzyme, that, catalyzes, the, oxidat...|                          [O, O, O, O, O, O, O, O, O, O, O, O, O, O, O, O, O, O, O, O, O, O, B-DRUG]|\n|[We, presented, the, tachinid, fly, Exorista, japonica, with, moving, host, models, :, afreeze-dr...|[O, O, O, O, O, O, O, O, O, O, O, O, O, O, O, O, O, O, O, O, O, O, O, O, O, O, O, O, O, O, O, O, ...|\n|[The, literature, dealing, with, the, water, conducting, properties, of, sapwood, xylem, intrees,...|[O, O, O, O, O, O, O, O, O, O, O, O, O, O, O, O, O, O, O, O, O, O, O, O, O, O, O, O, O, O, O, O, ...|\n|[A, novel, approach, to, synthesize, chitosan-O-isopropyl-5&#39;-O-d4T, monophosphateconjugate, was, ...|[O, O, O, O, O, O, O, O, O, O, B-DRUG, I-DRUG, I-DRUG, O, O, O, O, O, O, O, O, O, O, O, O, O, O, ...|\n|[An, HPLC-ESI-MS-MS, method, has, been, developed, for, the, quantitative, determination, offour,...|[O, O, O, O, O, O, O, O, O, O, O, O, O, B-DRUG, I-DRUG, I-DRUG, I-DRUG, O, O, O, O, O, O, O, O, O...|\n|[The, localizing, and, lateralizing, values, of, eye, and, head, ictal, deviations, duringfrontal...|[O, O, O, O, O, O, O, O, O, O, O, O, O, O, O, O, O, O, O, O, O, O, O, O, O, O, O, O, O, O, O, O, ...|\n|[OBJECTIVE, :, To, evaluate, the, effectiveness, and, acceptability, of, expectantmanagement, of,...|[O, O, O, O, O, O, O, O, O, O, O, O, O, O, O, O, O, O, O, O, O, O, O, O, O, O, O, O, O, O, O, O, ...|\n|[For, the, construction, of, new, combinatorial, libraries, ,, a, lead, compound, was, created, b...|[O, O, O, O, O, O, O, O, O, O, O, O, O, O, O, O, O, O, O, O, O, O, O, O, O, O, O, O, O, O, O, O, ...|\n|[We, report, the, results, of, a, screen, for, genetic, association, with, urinary, arsenicmetabo...|[O, O, O, O, O, O, O, O, O, O, O, O, O, O, O, O, O, O, O, O, O, O, O, O, O, O, O, O, O, O, O, O, ...|\n|[Intraparenchymal, pericatheter, cyst, is, rarely, reported, ., Obstruction, in, theventriculoper...|[O, O, O, O, O, O, O, O, O, O, O, O, O, O, O, O, O, O, O, O, O, O, O, O, O, O, O, O, O, O, O, O, ...|\n|[It, is, known, that, patients, with, Klinefelter&#39;s, syndrome, are, inclined, to, developconcomit...|[O, O, O, O, O, O, O, O, O, O, O, O, O, O, O, O, O, O, O, O, O, O, O, O, O, O, O, O, O, O, O, O, ...|\n+----------------------------------------------------------------------------------------------------+----------------------------------------------------------------------------------------------------+\nonly showing top 20 rows\n\n</div>",
       "datasetInfos": [],
       "removedWidgets": [],
       "type": "html"
      }
     },
     "output_type": "display_data"
    }
   ],
   "source": [
    "posology_result.select('token.result','ner.result').show(truncate=100)"
   ]
  },
  {
   "cell_type": "code",
   "execution_count": 0,
   "metadata": {
    "application/vnd.databricks.v1+cell": {
     "inputWidgets": {},
     "nuid": "26770aeb-40ed-41ee-a100-e83bb24e5dd9",
     "showTitle": false,
     "title": ""
    }
   },
   "outputs": [
    {
     "data": {
      "text/html": [
       "<style scoped>\n",
       "  .ansiout {\n",
       "    display: block;\n",
       "    unicode-bidi: embed;\n",
       "    white-space: pre-wrap;\n",
       "    word-wrap: break-word;\n",
       "    word-break: break-all;\n",
       "    font-family: \"Source Code Pro\", \"Menlo\", monospace;;\n",
       "    font-size: 13px;\n",
       "    color: #555;\n",
       "    margin-left: 4px;\n",
       "    line-height: 19px;\n",
       "  }\n",
       "</style>\n",
       "<div class=\"ansiout\">+----------------+-----------+\n",
       "           token|  ner_label|\n",
       "+----------------+-----------+\n",
       "  anthracyclines|     B-DRUG|\n",
       "         taxanes|     B-DRUG|\n",
       "     vinorelbine|     B-DRUG|\n",
       "     vinorelbine|     B-DRUG|\n",
       "  anthracyclines|     B-DRUG|\n",
       "         taxanes|     B-DRUG|\n",
       "  Vinorelbinewas|     B-DRUG|\n",
       "              25| B-STRENGTH|\n",
       "          mg/m(2| I-STRENGTH|\n",
       "   intravenously|    B-ROUTE|\n",
       "              on|B-FREQUENCY|\n",
       "            days|I-FREQUENCY|\n",
       "tumorprogression|     B-DRUG|\n",
       " thatvinorelbine|     B-DRUG|\n",
       "  anthracyclines|     B-DRUG|\n",
       "         taxanes|     B-DRUG|\n",
       "     tetrazolium|     B-DRUG|\n",
       "             dye|     I-DRUG|\n",
       "             DOX|     B-DRUG|\n",
       "    trandolapril|     B-DRUG|\n",
       "+----------------+-----------+\n",
       "only showing top 20 rows\n",
       "\n",
       "</div>"
      ]
     },
     "metadata": {
      "application/vnd.databricks.v1+output": {
       "addedWidgets": {},
       "arguments": {},
       "data": "<div class=\"ansiout\">+----------------+-----------+\n|           token|  ner_label|\n+----------------+-----------+\n|  anthracyclines|     B-DRUG|\n|         taxanes|     B-DRUG|\n|     vinorelbine|     B-DRUG|\n|     vinorelbine|     B-DRUG|\n|  anthracyclines|     B-DRUG|\n|         taxanes|     B-DRUG|\n|  Vinorelbinewas|     B-DRUG|\n|              25| B-STRENGTH|\n|          mg/m(2| I-STRENGTH|\n|   intravenously|    B-ROUTE|\n|              on|B-FREQUENCY|\n|            days|I-FREQUENCY|\n|tumorprogression|     B-DRUG|\n| thatvinorelbine|     B-DRUG|\n|  anthracyclines|     B-DRUG|\n|         taxanes|     B-DRUG|\n|     tetrazolium|     B-DRUG|\n|             dye|     I-DRUG|\n|             DOX|     B-DRUG|\n|    trandolapril|     B-DRUG|\n+----------------+-----------+\nonly showing top 20 rows\n\n</div>",
       "datasetInfos": [],
       "removedWidgets": [],
       "type": "html"
      }
     },
     "output_type": "display_data"
    }
   ],
   "source": [
    "from pyspark.sql import functions as F\n",
    "\n",
    "posology_result_df = posology_result.select(F.explode(F.arrays_zip('token.result', 'ner.result')).alias(\"cols\")) \\\n",
    ".select(F.expr(\"cols['0']\").alias(\"token\"),\n",
    "        F.expr(\"cols['1']\").alias(\"ner_label\"))\\\n",
    "        .filter(\"ner_label!='O'\")\n",
    "\n",
    "posology_result_df.show(20, truncate=100)"
   ]
  },
  {
   "cell_type": "code",
   "execution_count": 0,
   "metadata": {
    "application/vnd.databricks.v1+cell": {
     "inputWidgets": {},
     "nuid": "3cb7d26a-b379-4b0f-903d-7d2e689e9b86",
     "showTitle": false,
     "title": ""
    }
   },
   "outputs": [
    {
     "data": {
      "text/html": [
       "<style scoped>\n",
       "  .ansiout {\n",
       "    display: block;\n",
       "    unicode-bidi: embed;\n",
       "    white-space: pre-wrap;\n",
       "    word-wrap: break-word;\n",
       "    word-break: break-all;\n",
       "    font-family: \"Source Code Pro\", \"Menlo\", monospace;;\n",
       "    font-size: 13px;\n",
       "    color: #555;\n",
       "    margin-left: 4px;\n",
       "    line-height: 19px;\n",
       "  }\n",
       "</style>\n",
       "<div class=\"ansiout\">+-------------------+-----------+\n",
       "              token|  ner_label|\n",
       "+-------------------+-----------+\n",
       "G-protein-activated|     B-DRUG|\n",
       "           inwardly|     I-DRUG|\n",
       "         rectifying|     I-DRUG|\n",
       "          potassium|     I-DRUG|\n",
       "                  (|     I-DRUG|\n",
       "               GIRK|     I-DRUG|\n",
       "                  )|     I-DRUG|\n",
       "            channel|     I-DRUG|\n",
       "             family|     I-DRUG|\n",
       "     anthracyclines|     B-DRUG|\n",
       "            taxanes|     B-DRUG|\n",
       "       usefulnessof|     B-DRUG|\n",
       "        vinorelbine|     I-DRUG|\n",
       "        vinorelbine|     B-DRUG|\n",
       "     anthracyclines|     B-DRUG|\n",
       "            taxanes|     B-DRUG|\n",
       "                 25| B-STRENGTH|\n",
       "             mg/m(2| I-STRENGTH|\n",
       "      intravenously|    B-ROUTE|\n",
       "                 on|B-FREQUENCY|\n",
       "+-------------------+-----------+\n",
       "only showing top 20 rows\n",
       "\n",
       "</div>"
      ]
     },
     "metadata": {
      "application/vnd.databricks.v1+output": {
       "addedWidgets": {},
       "arguments": {},
       "data": "<div class=\"ansiout\">+-------------------+-----------+\n|              token|  ner_label|\n+-------------------+-----------+\n|G-protein-activated|     B-DRUG|\n|           inwardly|     I-DRUG|\n|         rectifying|     I-DRUG|\n|          potassium|     I-DRUG|\n|                  (|     I-DRUG|\n|               GIRK|     I-DRUG|\n|                  )|     I-DRUG|\n|            channel|     I-DRUG|\n|             family|     I-DRUG|\n|     anthracyclines|     B-DRUG|\n|            taxanes|     B-DRUG|\n|       usefulnessof|     B-DRUG|\n|        vinorelbine|     I-DRUG|\n|        vinorelbine|     B-DRUG|\n|     anthracyclines|     B-DRUG|\n|            taxanes|     B-DRUG|\n|                 25| B-STRENGTH|\n|             mg/m(2| I-STRENGTH|\n|      intravenously|    B-ROUTE|\n|                 on|B-FREQUENCY|\n+-------------------+-----------+\nonly showing top 20 rows\n\n</div>",
       "datasetInfos": [],
       "removedWidgets": [],
       "type": "html"
      }
     },
     "output_type": "display_data"
    }
   ],
   "source": [
    "posology_greedy_result_df = posology_result.select(F.explode(F.arrays_zip('token.result', 'ner_greedy.result')).alias(\"cols\")) \\\n",
    ".select(F.expr(\"cols['0']\").alias(\"token\"),\n",
    "        F.expr(\"cols['1']\").alias(\"ner_label\"))\\\n",
    "        .filter(\"ner_label!='O'\")\n",
    "\n",
    "posology_greedy_result_df.show(20, truncate=100)"
   ]
  },
  {
   "cell_type": "code",
   "execution_count": 0,
   "metadata": {
    "application/vnd.databricks.v1+cell": {
     "inputWidgets": {},
     "nuid": "3e65678c-1378-4c16-ad94-da74de50d22d",
     "showTitle": false,
     "title": ""
    }
   },
   "outputs": [
    {
     "data": {
      "text/html": [
       "<style scoped>\n",
       "  .ansiout {\n",
       "    display: block;\n",
       "    unicode-bidi: embed;\n",
       "    white-space: pre-wrap;\n",
       "    word-wrap: break-word;\n",
       "    word-break: break-all;\n",
       "    font-family: \"Source Code Pro\", \"Menlo\", monospace;;\n",
       "    font-size: 13px;\n",
       "    color: #555;\n",
       "    margin-left: 4px;\n",
       "    line-height: 19px;\n",
       "  }\n",
       "</style>\n",
       "<div class=\"ansiout\">+---+-----------+----------------+-----+----+---------+\n",
       "id |sentence_id|chunk           |begin|end |ner_label|\n",
       "+---+-----------+----------------+-----+----+---------+\n",
       "1  |0          |anthracyclines  |167  |180 |DRUG     |\n",
       "1  |0          |taxanes         |186  |192 |DRUG     |\n",
       "1  |1          |vinorelbine     |246  |256 |DRUG     |\n",
       "1  |1          |vinorelbine     |386  |396 |DRUG     |\n",
       "1  |1          |anthracyclines  |433  |446 |DRUG     |\n",
       "1  |1          |taxanes         |452  |458 |DRUG     |\n",
       "1  |2          |Vinorelbinewas  |470  |483 |DRUG     |\n",
       "1  |2          |25 mg/m(2       |517  |525 |STRENGTH |\n",
       "1  |2          |intravenously   |528  |540 |ROUTE    |\n",
       "1  |2          |on days         |542  |548 |FREQUENCY|\n",
       "1  |3          |tumorprogression|635  |650 |DRUG     |\n",
       "1  |11         |thatvinorelbine |1263 |1277|DRUG     |\n",
       "1  |11         |anthracyclines  |1380 |1393|DRUG     |\n",
       "1  |11         |taxanes         |1399 |1405|DRUG     |\n",
       "6  |2          |tetrazolium dye |432  |446 |DRUG     |\n",
       "6  |3          |DOX             |576  |578 |DRUG     |\n",
       "7  |0          |trandolapril    |174  |185 |DRUG     |\n",
       "7  |0          |losartan        |191  |198 |DRUG     |\n",
       "7  |2          |3-week          |313  |318 |DURATION |\n",
       "7  |2          |placebo         |320  |326 |DRUG     |\n",
       "+---+-----------+----------------+-----+----+---------+\n",
       "only showing top 20 rows\n",
       "\n",
       "</div>"
      ]
     },
     "metadata": {
      "application/vnd.databricks.v1+output": {
       "addedWidgets": {},
       "arguments": {},
       "data": "<div class=\"ansiout\">+---+-----------+----------------+-----+----+---------+\n|id |sentence_id|chunk           |begin|end |ner_label|\n+---+-----------+----------------+-----+----+---------+\n|1  |0          |anthracyclines  |167  |180 |DRUG     |\n|1  |0          |taxanes         |186  |192 |DRUG     |\n|1  |1          |vinorelbine     |246  |256 |DRUG     |\n|1  |1          |vinorelbine     |386  |396 |DRUG     |\n|1  |1          |anthracyclines  |433  |446 |DRUG     |\n|1  |1          |taxanes         |452  |458 |DRUG     |\n|1  |2          |Vinorelbinewas  |470  |483 |DRUG     |\n|1  |2          |25 mg/m(2       |517  |525 |STRENGTH |\n|1  |2          |intravenously   |528  |540 |ROUTE    |\n|1  |2          |on days         |542  |548 |FREQUENCY|\n|1  |3          |tumorprogression|635  |650 |DRUG     |\n|1  |11         |thatvinorelbine |1263 |1277|DRUG     |\n|1  |11         |anthracyclines  |1380 |1393|DRUG     |\n|1  |11         |taxanes         |1399 |1405|DRUG     |\n|6  |2          |tetrazolium dye |432  |446 |DRUG     |\n|6  |3          |DOX             |576  |578 |DRUG     |\n|7  |0          |trandolapril    |174  |185 |DRUG     |\n|7  |0          |losartan        |191  |198 |DRUG     |\n|7  |2          |3-week          |313  |318 |DURATION |\n|7  |2          |placebo         |320  |326 |DRUG     |\n+---+-----------+----------------+-----+----+---------+\nonly showing top 20 rows\n\n</div>",
       "datasetInfos": [],
       "removedWidgets": [],
       "type": "html"
      }
     },
     "output_type": "display_data"
    }
   ],
   "source": [
    "posology_result.select('id',F.explode(F.arrays_zip('ner_chunk.result', 'ner_chunk.begin', 'ner_chunk.end', 'ner_chunk.metadata')).alias(\"cols\")) \\\n",
    ".select('id', F.expr(\"cols['3']['sentence']\").alias(\"sentence_id\"),\n",
    "        F.expr(\"cols['0']\").alias(\"chunk\"),\n",
    "        F.expr(\"cols['1']\").alias(\"begin\"),\n",
    "        F.expr(\"cols['2']\").alias(\"end\"),\n",
    "        F.expr(\"cols['3']['entity']\").alias(\"ner_label\"))\\\n",
    "        .filter(\"ner_label!='O'\")\\\n",
    "        .show(truncate=False)"
   ]
  },
  {
   "cell_type": "code",
   "execution_count": 0,
   "metadata": {
    "application/vnd.databricks.v1+cell": {
     "inputWidgets": {},
     "nuid": "8fb026ea-575a-4d68-83f5-6d6a859c7379",
     "showTitle": false,
     "title": ""
    }
   },
   "outputs": [
    {
     "data": {
      "text/html": [
       "<style scoped>\n",
       "  .ansiout {\n",
       "    display: block;\n",
       "    unicode-bidi: embed;\n",
       "    white-space: pre-wrap;\n",
       "    word-wrap: break-word;\n",
       "    word-break: break-all;\n",
       "    font-family: \"Source Code Pro\", \"Menlo\", monospace;;\n",
       "    font-size: 13px;\n",
       "    color: #555;\n",
       "    margin-left: 4px;\n",
       "    line-height: 19px;\n",
       "  }\n",
       "</style>\n",
       "<div class=\"ansiout\">+---+-----------+-----------------------------------------------------------------------+-----+----+---------+\n",
       "id |sentence_id|chunk                                                                  |begin|end |ner_label|\n",
       "+---+-----------+-----------------------------------------------------------------------+-----+----+---------+\n",
       "0  |0          |G-protein-activated inwardly rectifying potassium (GIRK) channel family|52   |122 |DRUG     |\n",
       "1  |0          |anthracyclines                                                         |167  |180 |DRUG     |\n",
       "1  |0          |taxanes                                                                |186  |192 |DRUG     |\n",
       "1  |1          |usefulnessof vinorelbine                                               |233  |256 |DRUG     |\n",
       "1  |1          |vinorelbine                                                            |386  |396 |DRUG     |\n",
       "1  |1          |anthracyclines                                                         |433  |446 |DRUG     |\n",
       "1  |1          |taxanes                                                                |452  |458 |DRUG     |\n",
       "1  |2          |25 mg/m(2                                                              |517  |525 |STRENGTH |\n",
       "1  |2          |intravenously                                                          |528  |540 |ROUTE    |\n",
       "1  |2          |on days 1 and 8 of a3 week                                             |542  |567 |FREQUENCY|\n",
       "1  |10         |Themajor                                                               |1110 |1117|DRUG     |\n",
       "1  |11         |thatvinorelbine                                                        |1263 |1277|DRUG     |\n",
       "1  |11         |anthracyclines                                                         |1380 |1393|DRUG     |\n",
       "1  |11         |taxanes                                                                |1399 |1405|DRUG     |\n",
       "6  |2          |tetrazolium dye                                                        |432  |446 |DRUG     |\n",
       "6  |3          |DOX                                                                    |576  |578 |DRUG     |\n",
       "7  |0          |trandolapril                                                           |174  |185 |DRUG     |\n",
       "7  |0          |losartan                                                               |191  |198 |DRUG     |\n",
       "7  |2          |placebo                                                                |320  |326 |DRUG     |\n",
       "7  |2          |mgtrandolapril                                                         |359  |372 |DRUG     |\n",
       "+---+-----------+-----------------------------------------------------------------------+-----+----+---------+\n",
       "only showing top 20 rows\n",
       "\n",
       "</div>"
      ]
     },
     "metadata": {
      "application/vnd.databricks.v1+output": {
       "addedWidgets": {},
       "arguments": {},
       "data": "<div class=\"ansiout\">+---+-----------+-----------------------------------------------------------------------+-----+----+---------+\n|id |sentence_id|chunk                                                                  |begin|end |ner_label|\n+---+-----------+-----------------------------------------------------------------------+-----+----+---------+\n|0  |0          |G-protein-activated inwardly rectifying potassium (GIRK) channel family|52   |122 |DRUG     |\n|1  |0          |anthracyclines                                                         |167  |180 |DRUG     |\n|1  |0          |taxanes                                                                |186  |192 |DRUG     |\n|1  |1          |usefulnessof vinorelbine                                               |233  |256 |DRUG     |\n|1  |1          |vinorelbine                                                            |386  |396 |DRUG     |\n|1  |1          |anthracyclines                                                         |433  |446 |DRUG     |\n|1  |1          |taxanes                                                                |452  |458 |DRUG     |\n|1  |2          |25 mg/m(2                                                              |517  |525 |STRENGTH |\n|1  |2          |intravenously                                                          |528  |540 |ROUTE    |\n|1  |2          |on days 1 and 8 of a3 week                                             |542  |567 |FREQUENCY|\n|1  |10         |Themajor                                                               |1110 |1117|DRUG     |\n|1  |11         |thatvinorelbine                                                        |1263 |1277|DRUG     |\n|1  |11         |anthracyclines                                                         |1380 |1393|DRUG     |\n|1  |11         |taxanes                                                                |1399 |1405|DRUG     |\n|6  |2          |tetrazolium dye                                                        |432  |446 |DRUG     |\n|6  |3          |DOX                                                                    |576  |578 |DRUG     |\n|7  |0          |trandolapril                                                           |174  |185 |DRUG     |\n|7  |0          |losartan                                                               |191  |198 |DRUG     |\n|7  |2          |placebo                                                                |320  |326 |DRUG     |\n|7  |2          |mgtrandolapril                                                         |359  |372 |DRUG     |\n+---+-----------+-----------------------------------------------------------------------+-----+----+---------+\nonly showing top 20 rows\n\n</div>",
       "datasetInfos": [],
       "removedWidgets": [],
       "type": "html"
      }
     },
     "output_type": "display_data"
    }
   ],
   "source": [
    "posology_result.select('id',F.explode(F.arrays_zip('ner_chunk_greedy.result', 'ner_chunk_greedy.begin', 'ner_chunk_greedy.end', 'ner_chunk_greedy.metadata')).alias(\"cols\")) \\\n",
    ".select('id', F.expr(\"cols['3']['sentence']\").alias(\"sentence_id\"),\n",
    "        F.expr(\"cols['0']\").alias(\"chunk\"),\n",
    "        F.expr(\"cols['1']\").alias(\"begin\"),\n",
    "        F.expr(\"cols['2']\").alias(\"end\"),\n",
    "        F.expr(\"cols['3']['entity']\").alias(\"ner_label\"))\\\n",
    "        .filter(\"ner_label!='O'\")\\\n",
    "        .show(truncate=False)"
   ]
  },
  {
   "cell_type": "code",
   "execution_count": 0,
   "metadata": {
    "application/vnd.databricks.v1+cell": {
     "inputWidgets": {},
     "nuid": "93263a7f-5020-48b2-9b2e-4cf6a7c62e77",
     "showTitle": false,
     "title": ""
    }
   },
   "outputs": [
    {
     "data": {
      "text/html": [
       "<style scoped>\n",
       "  .ansiout {\n",
       "    display: block;\n",
       "    unicode-bidi: embed;\n",
       "    white-space: pre-wrap;\n",
       "    word-wrap: break-word;\n",
       "    word-break: break-all;\n",
       "    font-family: \"Source Code Pro\", \"Menlo\", monospace;;\n",
       "    font-size: 13px;\n",
       "    color: #555;\n",
       "    margin-left: 4px;\n",
       "    line-height: 19px;\n",
       "  }\n",
       "</style>\n",
       "<div class=\"ansiout\">Out[37]: &#39;anthracyclines&#39;</div>"
      ]
     },
     "metadata": {
      "application/vnd.databricks.v1+output": {
       "addedWidgets": {},
       "arguments": {},
       "data": "<div class=\"ansiout\">Out[37]: &#39;anthracyclines&#39;</div>",
       "datasetInfos": [],
       "removedWidgets": [],
       "type": "html"
      }
     },
     "output_type": "display_data"
    }
   ],
   "source": [
    "posology_result.select('ner_chunk').take(2)[1][0][0].result"
   ]
  },
  {
   "cell_type": "code",
   "execution_count": 0,
   "metadata": {
    "application/vnd.databricks.v1+cell": {
     "inputWidgets": {},
     "nuid": "6e2fe2e9-5891-4251-b61d-2dbd08872078",
     "showTitle": false,
     "title": ""
    }
   },
   "outputs": [
    {
     "data": {
      "text/html": [
       "<style scoped>\n",
       "  .ansiout {\n",
       "    display: block;\n",
       "    unicode-bidi: embed;\n",
       "    white-space: pre-wrap;\n",
       "    word-wrap: break-word;\n",
       "    word-break: break-all;\n",
       "    font-family: \"Source Code Pro\", \"Menlo\", monospace;;\n",
       "    font-size: 13px;\n",
       "    color: #555;\n",
       "    margin-left: 4px;\n",
       "    line-height: 19px;\n",
       "  }\n",
       "</style>\n",
       "<div class=\"ansiout\">Out[38]: {&#39;sentence&#39;: &#39;0&#39;, &#39;chunk&#39;: &#39;0&#39;, &#39;entity&#39;: &#39;DRUG&#39;}</div>"
      ]
     },
     "metadata": {
      "application/vnd.databricks.v1+output": {
       "addedWidgets": {},
       "arguments": {},
       "data": "<div class=\"ansiout\">Out[38]: {&#39;sentence&#39;: &#39;0&#39;, &#39;chunk&#39;: &#39;0&#39;, &#39;entity&#39;: &#39;DRUG&#39;}</div>",
       "datasetInfos": [],
       "removedWidgets": [],
       "type": "html"
      }
     },
     "output_type": "display_data"
    }
   ],
   "source": [
    "posology_result.select('ner_chunk').take(2)[1][0][0].metadata"
   ]
  },
  {
   "cell_type": "markdown",
   "metadata": {
    "application/vnd.databricks.v1+cell": {
     "inputWidgets": {},
     "nuid": "52aefb15-d3eb-4673-a6f3-d153546e8c42",
     "showTitle": false,
     "title": ""
    }
   },
   "source": [
    "### with LightPipelines"
   ]
  },
  {
   "cell_type": "code",
   "execution_count": 0,
   "metadata": {
    "application/vnd.databricks.v1+cell": {
     "inputWidgets": {},
     "nuid": "04cc3646-c153-4bab-9b63-577f5833db9a",
     "showTitle": false,
     "title": ""
    }
   },
   "outputs": [
    {
     "data": {
      "text/html": [
       "<style scoped>\n",
       "  .ansiout {\n",
       "    display: block;\n",
       "    unicode-bidi: embed;\n",
       "    white-space: pre-wrap;\n",
       "    word-wrap: break-word;\n",
       "    word-break: break-all;\n",
       "    font-family: \"Source Code Pro\", \"Menlo\", monospace;;\n",
       "    font-size: 13px;\n",
       "    color: #555;\n",
       "    margin-left: 4px;\n",
       "    line-height: 19px;\n",
       "  }\n",
       "</style>\n",
       "<div class=\"ansiout\">Out[39]: [(&#39;The&#39;, &#39;O&#39;),\n",
       " (&#39;patient&#39;, &#39;O&#39;),\n",
       " (&#39;was&#39;, &#39;O&#39;),\n",
       " (&#39;prescribed&#39;, &#39;O&#39;),\n",
       " (&#39;1&#39;, &#39;B-DOSAGE&#39;),\n",
       " (&#39;capsule&#39;, &#39;B-FORM&#39;),\n",
       " (&#39;of&#39;, &#39;O&#39;),\n",
       " (&#39;Advil&#39;, &#39;B-DRUG&#39;),\n",
       " (&#39;for&#39;, &#39;B-DURATION&#39;),\n",
       " (&#39;5&#39;, &#39;I-DURATION&#39;),\n",
       " (&#39;days&#39;, &#39;I-DURATION&#39;),\n",
       " (&#39;.&#39;, &#39;O&#39;),\n",
       " (&#39;He&#39;, &#39;O&#39;),\n",
       " (&#39;was&#39;, &#39;O&#39;),\n",
       " (&#39;seen&#39;, &#39;O&#39;),\n",
       " (&#39;by&#39;, &#39;O&#39;),\n",
       " (&#39;the&#39;, &#39;O&#39;),\n",
       " (&#39;endocrinology&#39;, &#39;O&#39;),\n",
       " (&#39;service&#39;, &#39;O&#39;),\n",
       " (&#39;and&#39;, &#39;O&#39;),\n",
       " (&#39;she&#39;, &#39;O&#39;),\n",
       " (&#39;was&#39;, &#39;O&#39;),\n",
       " (&#39;discharged&#39;, &#39;O&#39;),\n",
       " (&#39;on&#39;, &#39;O&#39;),\n",
       " (&#39;40&#39;, &#39;B-DOSAGE&#39;),\n",
       " (&#39;units&#39;, &#39;I-DOSAGE&#39;),\n",
       " (&#39;of&#39;, &#39;O&#39;),\n",
       " (&#39;insulin&#39;, &#39;B-DRUG&#39;),\n",
       " (&#39;glargine&#39;, &#39;I-DRUG&#39;),\n",
       " (&#39;at&#39;, &#39;B-FREQUENCY&#39;),\n",
       " (&#39;night&#39;, &#39;I-FREQUENCY&#39;),\n",
       " (&#39;,&#39;, &#39;O&#39;),\n",
       " (&#39;12&#39;, &#39;B-DOSAGE&#39;),\n",
       " (&#39;units&#39;, &#39;I-DOSAGE&#39;),\n",
       " (&#39;of&#39;, &#39;O&#39;),\n",
       " (&#39;insulin&#39;, &#39;B-DRUG&#39;),\n",
       " (&#39;lispro&#39;, &#39;I-DRUG&#39;),\n",
       " (&#39;with&#39;, &#39;B-FREQUENCY&#39;),\n",
       " (&#39;meals&#39;, &#39;I-FREQUENCY&#39;),\n",
       " (&#39;,&#39;, &#39;O&#39;),\n",
       " (&#39;and&#39;, &#39;O&#39;),\n",
       " (&#39;metformin&#39;, &#39;B-DRUG&#39;),\n",
       " (&#39;1000&#39;, &#39;B-STRENGTH&#39;),\n",
       " (&#39;mg&#39;, &#39;I-STRENGTH&#39;),\n",
       " (&#39;two&#39;, &#39;B-FREQUENCY&#39;),\n",
       " (&#39;times&#39;, &#39;I-FREQUENCY&#39;),\n",
       " (&#39;a&#39;, &#39;I-FREQUENCY&#39;),\n",
       " (&#39;day&#39;, &#39;I-FREQUENCY&#39;),\n",
       " (&#39;.&#39;, &#39;O&#39;),\n",
       " (&#39;It&#39;, &#39;O&#39;),\n",
       " (&#39;was&#39;, &#39;O&#39;),\n",
       " (&#39;determined&#39;, &#39;O&#39;),\n",
       " (&#39;that&#39;, &#39;O&#39;),\n",
       " (&#39;all&#39;, &#39;O&#39;),\n",
       " (&#39;SGLT2&#39;, &#39;B-DRUG&#39;),\n",
       " (&#39;inhibitors&#39;, &#39;I-DRUG&#39;),\n",
       " (&#39;should&#39;, &#39;O&#39;),\n",
       " (&#39;be&#39;, &#39;O&#39;),\n",
       " (&#39;discontinued&#39;, &#39;O&#39;),\n",
       " (&#39;indefinitely&#39;, &#39;O&#39;),\n",
       " (&#39;for&#39;, &#39;B-DURATION&#39;),\n",
       " (&#39;3&#39;, &#39;I-DURATION&#39;),\n",
       " (&#39;months&#39;, &#39;I-DURATION&#39;),\n",
       " (&#39;.&#39;, &#39;O&#39;)]</div>"
      ]
     },
     "metadata": {
      "application/vnd.databricks.v1+output": {
       "addedWidgets": {},
       "arguments": {},
       "data": "<div class=\"ansiout\">Out[39]: [(&#39;The&#39;, &#39;O&#39;),\n (&#39;patient&#39;, &#39;O&#39;),\n (&#39;was&#39;, &#39;O&#39;),\n (&#39;prescribed&#39;, &#39;O&#39;),\n (&#39;1&#39;, &#39;B-DOSAGE&#39;),\n (&#39;capsule&#39;, &#39;B-FORM&#39;),\n (&#39;of&#39;, &#39;O&#39;),\n (&#39;Advil&#39;, &#39;B-DRUG&#39;),\n (&#39;for&#39;, &#39;B-DURATION&#39;),\n (&#39;5&#39;, &#39;I-DURATION&#39;),\n (&#39;days&#39;, &#39;I-DURATION&#39;),\n (&#39;.&#39;, &#39;O&#39;),\n (&#39;He&#39;, &#39;O&#39;),\n (&#39;was&#39;, &#39;O&#39;),\n (&#39;seen&#39;, &#39;O&#39;),\n (&#39;by&#39;, &#39;O&#39;),\n (&#39;the&#39;, &#39;O&#39;),\n (&#39;endocrinology&#39;, &#39;O&#39;),\n (&#39;service&#39;, &#39;O&#39;),\n (&#39;and&#39;, &#39;O&#39;),\n (&#39;she&#39;, &#39;O&#39;),\n (&#39;was&#39;, &#39;O&#39;),\n (&#39;discharged&#39;, &#39;O&#39;),\n (&#39;on&#39;, &#39;O&#39;),\n (&#39;40&#39;, &#39;B-DOSAGE&#39;),\n (&#39;units&#39;, &#39;I-DOSAGE&#39;),\n (&#39;of&#39;, &#39;O&#39;),\n (&#39;insulin&#39;, &#39;B-DRUG&#39;),\n (&#39;glargine&#39;, &#39;I-DRUG&#39;),\n (&#39;at&#39;, &#39;B-FREQUENCY&#39;),\n (&#39;night&#39;, &#39;I-FREQUENCY&#39;),\n (&#39;,&#39;, &#39;O&#39;),\n (&#39;12&#39;, &#39;B-DOSAGE&#39;),\n (&#39;units&#39;, &#39;I-DOSAGE&#39;),\n (&#39;of&#39;, &#39;O&#39;),\n (&#39;insulin&#39;, &#39;B-DRUG&#39;),\n (&#39;lispro&#39;, &#39;I-DRUG&#39;),\n (&#39;with&#39;, &#39;B-FREQUENCY&#39;),\n (&#39;meals&#39;, &#39;I-FREQUENCY&#39;),\n (&#39;,&#39;, &#39;O&#39;),\n (&#39;and&#39;, &#39;O&#39;),\n (&#39;metformin&#39;, &#39;B-DRUG&#39;),\n (&#39;1000&#39;, &#39;B-STRENGTH&#39;),\n (&#39;mg&#39;, &#39;I-STRENGTH&#39;),\n (&#39;two&#39;, &#39;B-FREQUENCY&#39;),\n (&#39;times&#39;, &#39;I-FREQUENCY&#39;),\n (&#39;a&#39;, &#39;I-FREQUENCY&#39;),\n (&#39;day&#39;, &#39;I-FREQUENCY&#39;),\n (&#39;.&#39;, &#39;O&#39;),\n (&#39;It&#39;, &#39;O&#39;),\n (&#39;was&#39;, &#39;O&#39;),\n (&#39;determined&#39;, &#39;O&#39;),\n (&#39;that&#39;, &#39;O&#39;),\n (&#39;all&#39;, &#39;O&#39;),\n (&#39;SGLT2&#39;, &#39;B-DRUG&#39;),\n (&#39;inhibitors&#39;, &#39;I-DRUG&#39;),\n (&#39;should&#39;, &#39;O&#39;),\n (&#39;be&#39;, &#39;O&#39;),\n (&#39;discontinued&#39;, &#39;O&#39;),\n (&#39;indefinitely&#39;, &#39;O&#39;),\n (&#39;for&#39;, &#39;B-DURATION&#39;),\n (&#39;3&#39;, &#39;I-DURATION&#39;),\n (&#39;months&#39;, &#39;I-DURATION&#39;),\n (&#39;.&#39;, &#39;O&#39;)]</div>",
       "datasetInfos": [],
       "removedWidgets": [],
       "type": "html"
      }
     },
     "output_type": "display_data"
    }
   ],
   "source": [
    "light_model = LightPipeline(posology_model)\n",
    "\n",
    "text ='The patient was prescribed 1 capsule of Advil for 5 days . He was seen by the endocrinology service and she was discharged on 40 units of insulin glargine at night , 12 units of insulin lispro with meals , and metformin 1000 mg two times a day . It was determined that all SGLT2 inhibitors should be discontinued indefinitely for 3 months .'\n",
    "\n",
    "light_result = light_model.annotate(text)\n",
    "\n",
    "list(zip(light_result['token'], light_result['ner']))"
   ]
  },
  {
   "cell_type": "code",
   "execution_count": 0,
   "metadata": {
    "application/vnd.databricks.v1+cell": {
     "inputWidgets": {},
     "nuid": "a086fb49-2445-4d18-a11b-88a4563b4271",
     "showTitle": false,
     "title": ""
    }
   },
   "outputs": [
    {
     "data": {
      "text/html": [
       "<style scoped>\n",
       "  .ansiout {\n",
       "    display: block;\n",
       "    unicode-bidi: embed;\n",
       "    white-space: pre-wrap;\n",
       "    word-wrap: break-word;\n",
       "    word-break: break-all;\n",
       "    font-family: \"Source Code Pro\", \"Menlo\", monospace;;\n",
       "    font-size: 13px;\n",
       "    color: #555;\n",
       "    margin-left: 4px;\n",
       "    line-height: 19px;\n",
       "  }\n",
       "</style>\n",
       "<div class=\"ansiout\">Out[40]: [(&#39;The&#39;, &#39;O&#39;),\n",
       " (&#39;patient&#39;, &#39;O&#39;),\n",
       " (&#39;was&#39;, &#39;O&#39;),\n",
       " (&#39;prescribed&#39;, &#39;O&#39;),\n",
       " (&#39;1&#39;, &#39;B-DRUG&#39;),\n",
       " (&#39;capsule&#39;, &#39;I-DRUG&#39;),\n",
       " (&#39;of&#39;, &#39;I-DRUG&#39;),\n",
       " (&#39;Advil&#39;, &#39;I-DRUG&#39;),\n",
       " (&#39;for&#39;, &#39;B-DURATION&#39;),\n",
       " (&#39;5&#39;, &#39;I-DURATION&#39;),\n",
       " (&#39;days&#39;, &#39;I-DURATION&#39;),\n",
       " (&#39;.&#39;, &#39;O&#39;),\n",
       " (&#39;He&#39;, &#39;O&#39;),\n",
       " (&#39;was&#39;, &#39;O&#39;),\n",
       " (&#39;seen&#39;, &#39;O&#39;),\n",
       " (&#39;by&#39;, &#39;O&#39;),\n",
       " (&#39;the&#39;, &#39;O&#39;),\n",
       " (&#39;endocrinology&#39;, &#39;O&#39;),\n",
       " (&#39;service&#39;, &#39;O&#39;),\n",
       " (&#39;and&#39;, &#39;O&#39;),\n",
       " (&#39;she&#39;, &#39;O&#39;),\n",
       " (&#39;was&#39;, &#39;O&#39;),\n",
       " (&#39;discharged&#39;, &#39;O&#39;),\n",
       " (&#39;on&#39;, &#39;O&#39;),\n",
       " (&#39;40&#39;, &#39;B-DRUG&#39;),\n",
       " (&#39;units&#39;, &#39;I-DRUG&#39;),\n",
       " (&#39;of&#39;, &#39;I-DRUG&#39;),\n",
       " (&#39;insulin&#39;, &#39;I-DRUG&#39;),\n",
       " (&#39;glargine&#39;, &#39;I-DRUG&#39;),\n",
       " (&#39;at&#39;, &#39;B-FREQUENCY&#39;),\n",
       " (&#39;night&#39;, &#39;I-FREQUENCY&#39;),\n",
       " (&#39;,&#39;, &#39;O&#39;),\n",
       " (&#39;12&#39;, &#39;B-DRUG&#39;),\n",
       " (&#39;units&#39;, &#39;I-DRUG&#39;),\n",
       " (&#39;of&#39;, &#39;I-DRUG&#39;),\n",
       " (&#39;insulin&#39;, &#39;I-DRUG&#39;),\n",
       " (&#39;lispro&#39;, &#39;I-DRUG&#39;),\n",
       " (&#39;with&#39;, &#39;B-FREQUENCY&#39;),\n",
       " (&#39;meals&#39;, &#39;I-FREQUENCY&#39;),\n",
       " (&#39;,&#39;, &#39;O&#39;),\n",
       " (&#39;and&#39;, &#39;O&#39;),\n",
       " (&#39;metformin&#39;, &#39;B-DRUG&#39;),\n",
       " (&#39;1000&#39;, &#39;I-DRUG&#39;),\n",
       " (&#39;mg&#39;, &#39;I-DRUG&#39;),\n",
       " (&#39;two&#39;, &#39;B-FREQUENCY&#39;),\n",
       " (&#39;times&#39;, &#39;I-FREQUENCY&#39;),\n",
       " (&#39;a&#39;, &#39;I-FREQUENCY&#39;),\n",
       " (&#39;day&#39;, &#39;I-FREQUENCY&#39;),\n",
       " (&#39;.&#39;, &#39;O&#39;),\n",
       " (&#39;It&#39;, &#39;O&#39;),\n",
       " (&#39;was&#39;, &#39;O&#39;),\n",
       " (&#39;determined&#39;, &#39;O&#39;),\n",
       " (&#39;that&#39;, &#39;O&#39;),\n",
       " (&#39;all&#39;, &#39;O&#39;),\n",
       " (&#39;SGLT2&#39;, &#39;B-DRUG&#39;),\n",
       " (&#39;inhibitors&#39;, &#39;I-DRUG&#39;),\n",
       " (&#39;should&#39;, &#39;O&#39;),\n",
       " (&#39;be&#39;, &#39;O&#39;),\n",
       " (&#39;discontinued&#39;, &#39;O&#39;),\n",
       " (&#39;indefinitely&#39;, &#39;O&#39;),\n",
       " (&#39;for&#39;, &#39;B-DURATION&#39;),\n",
       " (&#39;3&#39;, &#39;I-DURATION&#39;),\n",
       " (&#39;months&#39;, &#39;I-DURATION&#39;),\n",
       " (&#39;.&#39;, &#39;O&#39;)]</div>"
      ]
     },
     "metadata": {
      "application/vnd.databricks.v1+output": {
       "addedWidgets": {},
       "arguments": {},
       "data": "<div class=\"ansiout\">Out[40]: [(&#39;The&#39;, &#39;O&#39;),\n (&#39;patient&#39;, &#39;O&#39;),\n (&#39;was&#39;, &#39;O&#39;),\n (&#39;prescribed&#39;, &#39;O&#39;),\n (&#39;1&#39;, &#39;B-DRUG&#39;),\n (&#39;capsule&#39;, &#39;I-DRUG&#39;),\n (&#39;of&#39;, &#39;I-DRUG&#39;),\n (&#39;Advil&#39;, &#39;I-DRUG&#39;),\n (&#39;for&#39;, &#39;B-DURATION&#39;),\n (&#39;5&#39;, &#39;I-DURATION&#39;),\n (&#39;days&#39;, &#39;I-DURATION&#39;),\n (&#39;.&#39;, &#39;O&#39;),\n (&#39;He&#39;, &#39;O&#39;),\n (&#39;was&#39;, &#39;O&#39;),\n (&#39;seen&#39;, &#39;O&#39;),\n (&#39;by&#39;, &#39;O&#39;),\n (&#39;the&#39;, &#39;O&#39;),\n (&#39;endocrinology&#39;, &#39;O&#39;),\n (&#39;service&#39;, &#39;O&#39;),\n (&#39;and&#39;, &#39;O&#39;),\n (&#39;she&#39;, &#39;O&#39;),\n (&#39;was&#39;, &#39;O&#39;),\n (&#39;discharged&#39;, &#39;O&#39;),\n (&#39;on&#39;, &#39;O&#39;),\n (&#39;40&#39;, &#39;B-DRUG&#39;),\n (&#39;units&#39;, &#39;I-DRUG&#39;),\n (&#39;of&#39;, &#39;I-DRUG&#39;),\n (&#39;insulin&#39;, &#39;I-DRUG&#39;),\n (&#39;glargine&#39;, &#39;I-DRUG&#39;),\n (&#39;at&#39;, &#39;B-FREQUENCY&#39;),\n (&#39;night&#39;, &#39;I-FREQUENCY&#39;),\n (&#39;,&#39;, &#39;O&#39;),\n (&#39;12&#39;, &#39;B-DRUG&#39;),\n (&#39;units&#39;, &#39;I-DRUG&#39;),\n (&#39;of&#39;, &#39;I-DRUG&#39;),\n (&#39;insulin&#39;, &#39;I-DRUG&#39;),\n (&#39;lispro&#39;, &#39;I-DRUG&#39;),\n (&#39;with&#39;, &#39;B-FREQUENCY&#39;),\n (&#39;meals&#39;, &#39;I-FREQUENCY&#39;),\n (&#39;,&#39;, &#39;O&#39;),\n (&#39;and&#39;, &#39;O&#39;),\n (&#39;metformin&#39;, &#39;B-DRUG&#39;),\n (&#39;1000&#39;, &#39;I-DRUG&#39;),\n (&#39;mg&#39;, &#39;I-DRUG&#39;),\n (&#39;two&#39;, &#39;B-FREQUENCY&#39;),\n (&#39;times&#39;, &#39;I-FREQUENCY&#39;),\n (&#39;a&#39;, &#39;I-FREQUENCY&#39;),\n (&#39;day&#39;, &#39;I-FREQUENCY&#39;),\n (&#39;.&#39;, &#39;O&#39;),\n (&#39;It&#39;, &#39;O&#39;),\n (&#39;was&#39;, &#39;O&#39;),\n (&#39;determined&#39;, &#39;O&#39;),\n (&#39;that&#39;, &#39;O&#39;),\n (&#39;all&#39;, &#39;O&#39;),\n (&#39;SGLT2&#39;, &#39;B-DRUG&#39;),\n (&#39;inhibitors&#39;, &#39;I-DRUG&#39;),\n (&#39;should&#39;, &#39;O&#39;),\n (&#39;be&#39;, &#39;O&#39;),\n (&#39;discontinued&#39;, &#39;O&#39;),\n (&#39;indefinitely&#39;, &#39;O&#39;),\n (&#39;for&#39;, &#39;B-DURATION&#39;),\n (&#39;3&#39;, &#39;I-DURATION&#39;),\n (&#39;months&#39;, &#39;I-DURATION&#39;),\n (&#39;.&#39;, &#39;O&#39;)]</div>",
       "datasetInfos": [],
       "removedWidgets": [],
       "type": "html"
      }
     },
     "output_type": "display_data"
    }
   ],
   "source": [
    "list(zip(light_result['token'], light_result['ner_greedy']))"
   ]
  },
  {
   "cell_type": "code",
   "execution_count": 0,
   "metadata": {
    "application/vnd.databricks.v1+cell": {
     "inputWidgets": {},
     "nuid": "e5f03ae7-fc68-4221-b545-7e4a52b6f56a",
     "showTitle": false,
     "title": ""
    }
   },
   "outputs": [
    {
     "data": {
      "text/html": [
       "<style scoped>\n",
       "  .ansiout {\n",
       "    display: block;\n",
       "    unicode-bidi: embed;\n",
       "    white-space: pre-wrap;\n",
       "    word-wrap: break-word;\n",
       "    word-break: break-all;\n",
       "    font-family: \"Source Code Pro\", \"Menlo\", monospace;;\n",
       "    font-size: 13px;\n",
       "    color: #555;\n",
       "    margin-left: 4px;\n",
       "    line-height: 19px;\n",
       "  }\n",
       "</style>\n",
       "<div class=\"ansiout\">Out[41]: </div>"
      ]
     },
     "metadata": {
      "application/vnd.databricks.v1+output": {
       "addedWidgets": {},
       "arguments": {},
       "data": "<div class=\"ansiout\">Out[41]: </div>",
       "datasetInfos": [],
       "removedWidgets": [],
       "type": "html"
      }
     },
     "output_type": "display_data"
    },
    {
     "data": {
      "text/html": [
       "<div>\n",
       "<style scoped>\n",
       "    .dataframe tbody tr th:only-of-type {\n",
       "        vertical-align: middle;\n",
       "    }\n",
       "\n",
       "    .dataframe tbody tr th {\n",
       "        vertical-align: top;\n",
       "    }\n",
       "\n",
       "    .dataframe thead th {\n",
       "        text-align: right;\n",
       "    }\n",
       "</style>\n",
       "<table border=\"1\" class=\"dataframe\">\n",
       "  <thead>\n",
       "    <tr style=\"text-align: right;\">\n",
       "      <th></th>\n",
       "      <th>chunks</th>\n",
       "      <th>entities</th>\n",
       "      <th>begin</th>\n",
       "      <th>end</th>\n",
       "    </tr>\n",
       "  </thead>\n",
       "  <tbody>\n",
       "    <tr>\n",
       "      <th>0</th>\n",
       "      <td>1</td>\n",
       "      <td>DOSAGE</td>\n",
       "      <td>27</td>\n",
       "      <td>27</td>\n",
       "    </tr>\n",
       "    <tr>\n",
       "      <th>1</th>\n",
       "      <td>capsule</td>\n",
       "      <td>FORM</td>\n",
       "      <td>29</td>\n",
       "      <td>35</td>\n",
       "    </tr>\n",
       "    <tr>\n",
       "      <th>2</th>\n",
       "      <td>Advil</td>\n",
       "      <td>DRUG</td>\n",
       "      <td>40</td>\n",
       "      <td>44</td>\n",
       "    </tr>\n",
       "    <tr>\n",
       "      <th>3</th>\n",
       "      <td>for 5 days</td>\n",
       "      <td>DURATION</td>\n",
       "      <td>46</td>\n",
       "      <td>55</td>\n",
       "    </tr>\n",
       "    <tr>\n",
       "      <th>4</th>\n",
       "      <td>40 units</td>\n",
       "      <td>DOSAGE</td>\n",
       "      <td>126</td>\n",
       "      <td>133</td>\n",
       "    </tr>\n",
       "    <tr>\n",
       "      <th>5</th>\n",
       "      <td>insulin glargine</td>\n",
       "      <td>DRUG</td>\n",
       "      <td>138</td>\n",
       "      <td>153</td>\n",
       "    </tr>\n",
       "    <tr>\n",
       "      <th>6</th>\n",
       "      <td>at night</td>\n",
       "      <td>FREQUENCY</td>\n",
       "      <td>155</td>\n",
       "      <td>162</td>\n",
       "    </tr>\n",
       "    <tr>\n",
       "      <th>7</th>\n",
       "      <td>12 units</td>\n",
       "      <td>DOSAGE</td>\n",
       "      <td>166</td>\n",
       "      <td>173</td>\n",
       "    </tr>\n",
       "    <tr>\n",
       "      <th>8</th>\n",
       "      <td>insulin lispro</td>\n",
       "      <td>DRUG</td>\n",
       "      <td>178</td>\n",
       "      <td>191</td>\n",
       "    </tr>\n",
       "    <tr>\n",
       "      <th>9</th>\n",
       "      <td>with meals</td>\n",
       "      <td>FREQUENCY</td>\n",
       "      <td>193</td>\n",
       "      <td>202</td>\n",
       "    </tr>\n",
       "    <tr>\n",
       "      <th>10</th>\n",
       "      <td>metformin</td>\n",
       "      <td>DRUG</td>\n",
       "      <td>210</td>\n",
       "      <td>218</td>\n",
       "    </tr>\n",
       "    <tr>\n",
       "      <th>11</th>\n",
       "      <td>1000 mg</td>\n",
       "      <td>STRENGTH</td>\n",
       "      <td>220</td>\n",
       "      <td>226</td>\n",
       "    </tr>\n",
       "    <tr>\n",
       "      <th>12</th>\n",
       "      <td>two times a day</td>\n",
       "      <td>FREQUENCY</td>\n",
       "      <td>228</td>\n",
       "      <td>242</td>\n",
       "    </tr>\n",
       "    <tr>\n",
       "      <th>13</th>\n",
       "      <td>SGLT2 inhibitors</td>\n",
       "      <td>DRUG</td>\n",
       "      <td>273</td>\n",
       "      <td>288</td>\n",
       "    </tr>\n",
       "    <tr>\n",
       "      <th>14</th>\n",
       "      <td>for 3 months</td>\n",
       "      <td>DURATION</td>\n",
       "      <td>326</td>\n",
       "      <td>337</td>\n",
       "    </tr>\n",
       "  </tbody>\n",
       "</table>\n",
       "</div>"
      ]
     },
     "metadata": {
      "application/vnd.databricks.v1+output": {
       "addedWidgets": {},
       "arguments": {},
       "data": "<div>\n<style scoped>\n    .dataframe tbody tr th:only-of-type {\n        vertical-align: middle;\n    }\n\n    .dataframe tbody tr th {\n        vertical-align: top;\n    }\n\n    .dataframe thead th {\n        text-align: right;\n    }\n</style>\n<table border=\"1\" class=\"dataframe\">\n  <thead>\n    <tr style=\"text-align: right;\">\n      <th></th>\n      <th>chunks</th>\n      <th>entities</th>\n      <th>begin</th>\n      <th>end</th>\n    </tr>\n  </thead>\n  <tbody>\n    <tr>\n      <th>0</th>\n      <td>1</td>\n      <td>DOSAGE</td>\n      <td>27</td>\n      <td>27</td>\n    </tr>\n    <tr>\n      <th>1</th>\n      <td>capsule</td>\n      <td>FORM</td>\n      <td>29</td>\n      <td>35</td>\n    </tr>\n    <tr>\n      <th>2</th>\n      <td>Advil</td>\n      <td>DRUG</td>\n      <td>40</td>\n      <td>44</td>\n    </tr>\n    <tr>\n      <th>3</th>\n      <td>for 5 days</td>\n      <td>DURATION</td>\n      <td>46</td>\n      <td>55</td>\n    </tr>\n    <tr>\n      <th>4</th>\n      <td>40 units</td>\n      <td>DOSAGE</td>\n      <td>126</td>\n      <td>133</td>\n    </tr>\n    <tr>\n      <th>5</th>\n      <td>insulin glargine</td>\n      <td>DRUG</td>\n      <td>138</td>\n      <td>153</td>\n    </tr>\n    <tr>\n      <th>6</th>\n      <td>at night</td>\n      <td>FREQUENCY</td>\n      <td>155</td>\n      <td>162</td>\n    </tr>\n    <tr>\n      <th>7</th>\n      <td>12 units</td>\n      <td>DOSAGE</td>\n      <td>166</td>\n      <td>173</td>\n    </tr>\n    <tr>\n      <th>8</th>\n      <td>insulin lispro</td>\n      <td>DRUG</td>\n      <td>178</td>\n      <td>191</td>\n    </tr>\n    <tr>\n      <th>9</th>\n      <td>with meals</td>\n      <td>FREQUENCY</td>\n      <td>193</td>\n      <td>202</td>\n    </tr>\n    <tr>\n      <th>10</th>\n      <td>metformin</td>\n      <td>DRUG</td>\n      <td>210</td>\n      <td>218</td>\n    </tr>\n    <tr>\n      <th>11</th>\n      <td>1000 mg</td>\n      <td>STRENGTH</td>\n      <td>220</td>\n      <td>226</td>\n    </tr>\n    <tr>\n      <th>12</th>\n      <td>two times a day</td>\n      <td>FREQUENCY</td>\n      <td>228</td>\n      <td>242</td>\n    </tr>\n    <tr>\n      <th>13</th>\n      <td>SGLT2 inhibitors</td>\n      <td>DRUG</td>\n      <td>273</td>\n      <td>288</td>\n    </tr>\n    <tr>\n      <th>14</th>\n      <td>for 3 months</td>\n      <td>DURATION</td>\n      <td>326</td>\n      <td>337</td>\n    </tr>\n  </tbody>\n</table>\n</div>",
       "datasetInfos": [],
       "removedWidgets": [],
       "textData": null,
       "type": "htmlSandbox"
      }
     },
     "output_type": "display_data"
    }
   ],
   "source": [
    "light_result = light_model.fullAnnotate(text)\n",
    "\n",
    "chunks = []\n",
    "entities = []\n",
    "begin =[]\n",
    "end = []\n",
    "\n",
    "for n in light_result[0]['ner_chunk']:\n",
    "        \n",
    "    begin.append(n.begin)\n",
    "    end.append(n.end)\n",
    "    chunks.append(n.result)\n",
    "    entities.append(n.metadata['entity']) \n",
    "    \n",
    "import pandas as pd\n",
    "\n",
    "df = pd.DataFrame({'chunks':chunks, 'entities':entities,\n",
    "                   'begin': begin, 'end': end})\n",
    "\n",
    "df"
   ]
  },
  {
   "cell_type": "markdown",
   "metadata": {
    "application/vnd.databricks.v1+cell": {
     "inputWidgets": {},
     "nuid": "ba948790-7bbd-4054-b010-b77aa2bff083",
     "showTitle": false,
     "title": ""
    }
   },
   "source": [
    "#### NER Visualization"
   ]
  },
  {
   "cell_type": "code",
   "execution_count": 0,
   "metadata": {
    "application/vnd.databricks.v1+cell": {
     "inputWidgets": {},
     "nuid": "028d47a8-1a2a-4473-bc85-55c555e4e1b5",
     "showTitle": false,
     "title": ""
    }
   },
   "outputs": [
    {
     "data": {
      "text/html": [
       "\n",
       "<style>\n",
       "    @import url('https://fonts.googleapis.com/css2?family=Montserrat:wght@300;400;500;600;700&display=swap');\n",
       "    @import url('https://fonts.googleapis.com/css2?family=Vistol Regular:wght@300;400;500;600;700&display=swap');\n",
       "    \n",
       "    .spark-nlp-display-scroll-entities {\n",
       "        border: 1px solid #E7EDF0;\n",
       "        border-radius: 3px;\n",
       "        text-align: justify;\n",
       "        \n",
       "    }\n",
       "    .spark-nlp-display-scroll-entities span {  \n",
       "        font-size: 14px;\n",
       "        line-height: 24px;\n",
       "        color: #536B76;\n",
       "        font-family: 'Montserrat', sans-serif !important;\n",
       "    }\n",
       "    \n",
       "    .spark-nlp-display-entity-wrapper{\n",
       "    \n",
       "        display: inline-grid;\n",
       "        text-align: center;\n",
       "        border-radius: 4px;\n",
       "        margin: 0 2px 5px 2px;\n",
       "        padding: 1px\n",
       "    }\n",
       "    .spark-nlp-display-entity-name{\n",
       "        font-size: 14px;\n",
       "        line-height: 24px;\n",
       "        font-family: 'Montserrat', sans-serif !important;\n",
       "        \n",
       "        background: #f1f2f3;\n",
       "        border-width: medium;\n",
       "        text-align: center;\n",
       "        \n",
       "        font-weight: 400;\n",
       "        \n",
       "        border-radius: 5px;\n",
       "        padding: 2px 5px;\n",
       "        display: block;\n",
       "        margin: 3px 2px;\n",
       "    \n",
       "    }\n",
       "    .spark-nlp-display-entity-type{\n",
       "        font-size: 14px;\n",
       "        line-height: 24px;\n",
       "        color: #ffffff;\n",
       "        font-family: 'Montserrat', sans-serif !important;\n",
       "        \n",
       "        text-transform: uppercase;\n",
       "        \n",
       "        font-weight: 500;\n",
       "\n",
       "        display: block;\n",
       "        padding: 3px 5px;\n",
       "    }\n",
       "    \n",
       "    .spark-nlp-display-entity-resolution{\n",
       "        font-size: 14px;\n",
       "        line-height: 24px;\n",
       "        color: #ffffff;\n",
       "        font-family: 'Vistol Regular', sans-serif !important;\n",
       "        \n",
       "        text-transform: uppercase;\n",
       "        \n",
       "        font-weight: 500;\n",
       "\n",
       "        display: block;\n",
       "        padding: 3px 5px;\n",
       "    }\n",
       "    \n",
       "    .spark-nlp-display-others{\n",
       "        font-size: 14px;\n",
       "        line-height: 24px;\n",
       "        font-family: 'Montserrat', sans-serif !important;\n",
       "        \n",
       "        font-weight: 400;\n",
       "    }\n",
       "\n",
       "</style>\n",
       " <span class=\"spark-nlp-display-others\" style=\"background-color: white\">The patient was prescribed </span><span class=\"spark-nlp-display-entity-wrapper\" style=\"background-color: #677A7E\"><span class=\"spark-nlp-display-entity-name\">1 </span><span class=\"spark-nlp-display-entity-type\">DOSAGE</span></span><span class=\"spark-nlp-display-others\" style=\"background-color: white\"> </span><span class=\"spark-nlp-display-entity-wrapper\" style=\"background-color: #3B0659\"><span class=\"spark-nlp-display-entity-name\">capsule </span><span class=\"spark-nlp-display-entity-type\">FORM</span></span><span class=\"spark-nlp-display-others\" style=\"background-color: white\"> of </span><span class=\"spark-nlp-display-entity-wrapper\" style=\"background-color: #8B668B\"><span class=\"spark-nlp-display-entity-name\">Advil </span><span class=\"spark-nlp-display-entity-type\">DRUG</span></span><span class=\"spark-nlp-display-others\" style=\"background-color: white\"> </span><span class=\"spark-nlp-display-entity-wrapper\" style=\"background-color: #3C65AC\"><span class=\"spark-nlp-display-entity-name\">for 5 days </span><span class=\"spark-nlp-display-entity-type\">DURATION</span></span><span class=\"spark-nlp-display-others\" style=\"background-color: white\"> . He was seen by the endocrinology service and she was discharged on </span><span class=\"spark-nlp-display-entity-wrapper\" style=\"background-color: #677A7E\"><span class=\"spark-nlp-display-entity-name\">40 units </span><span class=\"spark-nlp-display-entity-type\">DOSAGE</span></span><span class=\"spark-nlp-display-others\" style=\"background-color: white\"> of </span><span class=\"spark-nlp-display-entity-wrapper\" style=\"background-color: #8B668B\"><span class=\"spark-nlp-display-entity-name\">insulin glargine </span><span class=\"spark-nlp-display-entity-type\">DRUG</span></span><span class=\"spark-nlp-display-others\" style=\"background-color: white\"> </span><span class=\"spark-nlp-display-entity-wrapper\" style=\"background-color: #047C1D\"><span class=\"spark-nlp-display-entity-name\">at night </span><span class=\"spark-nlp-display-entity-type\">FREQUENCY</span></span><span class=\"spark-nlp-display-others\" style=\"background-color: white\"> , </span><span class=\"spark-nlp-display-entity-wrapper\" style=\"background-color: #677A7E\"><span class=\"spark-nlp-display-entity-name\">12 units </span><span class=\"spark-nlp-display-entity-type\">DOSAGE</span></span><span class=\"spark-nlp-display-others\" style=\"background-color: white\"> of </span><span class=\"spark-nlp-display-entity-wrapper\" style=\"background-color: #8B668B\"><span class=\"spark-nlp-display-entity-name\">insulin lispro </span><span class=\"spark-nlp-display-entity-type\">DRUG</span></span><span class=\"spark-nlp-display-others\" style=\"background-color: white\"> </span><span class=\"spark-nlp-display-entity-wrapper\" style=\"background-color: #047C1D\"><span class=\"spark-nlp-display-entity-name\">with meals </span><span class=\"spark-nlp-display-entity-type\">FREQUENCY</span></span><span class=\"spark-nlp-display-others\" style=\"background-color: white\"> , and </span><span class=\"spark-nlp-display-entity-wrapper\" style=\"background-color: #8B668B\"><span class=\"spark-nlp-display-entity-name\">metformin </span><span class=\"spark-nlp-display-entity-type\">DRUG</span></span><span class=\"spark-nlp-display-others\" style=\"background-color: white\"> </span><span class=\"spark-nlp-display-entity-wrapper\" style=\"background-color: #2A4039\"><span class=\"spark-nlp-display-entity-name\">1000 mg </span><span class=\"spark-nlp-display-entity-type\">STRENGTH</span></span><span class=\"spark-nlp-display-others\" style=\"background-color: white\"> </span><span class=\"spark-nlp-display-entity-wrapper\" style=\"background-color: #047C1D\"><span class=\"spark-nlp-display-entity-name\">two times a day </span><span class=\"spark-nlp-display-entity-type\">FREQUENCY</span></span><span class=\"spark-nlp-display-others\" style=\"background-color: white\"> . It was determined that all </span><span class=\"spark-nlp-display-entity-wrapper\" style=\"background-color: #8B668B\"><span class=\"spark-nlp-display-entity-name\">SGLT2 inhibitors </span><span class=\"spark-nlp-display-entity-type\">DRUG</span></span><span class=\"spark-nlp-display-others\" style=\"background-color: white\"> should be discontinued indefinitely </span><span class=\"spark-nlp-display-entity-wrapper\" style=\"background-color: #3C65AC\"><span class=\"spark-nlp-display-entity-name\">for 3 months </span><span class=\"spark-nlp-display-entity-type\">DURATION</span></span><span class=\"spark-nlp-display-others\" style=\"background-color: white\"> .</span></div>"
      ]
     },
     "metadata": {
      "application/vnd.databricks.v1+output": {
       "addedWidgets": {},
       "arguments": {},
       "data": "\n<style>\n    @import url('https://fonts.googleapis.com/css2?family=Montserrat:wght@300;400;500;600;700&display=swap');\n    @import url('https://fonts.googleapis.com/css2?family=Vistol Regular:wght@300;400;500;600;700&display=swap');\n    \n    .spark-nlp-display-scroll-entities {\n        border: 1px solid #E7EDF0;\n        border-radius: 3px;\n        text-align: justify;\n        \n    }\n    .spark-nlp-display-scroll-entities span {  \n        font-size: 14px;\n        line-height: 24px;\n        color: #536B76;\n        font-family: 'Montserrat', sans-serif !important;\n    }\n    \n    .spark-nlp-display-entity-wrapper{\n    \n        display: inline-grid;\n        text-align: center;\n        border-radius: 4px;\n        margin: 0 2px 5px 2px;\n        padding: 1px\n    }\n    .spark-nlp-display-entity-name{\n        font-size: 14px;\n        line-height: 24px;\n        font-family: 'Montserrat', sans-serif !important;\n        \n        background: #f1f2f3;\n        border-width: medium;\n        text-align: center;\n        \n        font-weight: 400;\n        \n        border-radius: 5px;\n        padding: 2px 5px;\n        display: block;\n        margin: 3px 2px;\n    \n    }\n    .spark-nlp-display-entity-type{\n        font-size: 14px;\n        line-height: 24px;\n        color: #ffffff;\n        font-family: 'Montserrat', sans-serif !important;\n        \n        text-transform: uppercase;\n        \n        font-weight: 500;\n\n        display: block;\n        padding: 3px 5px;\n    }\n    \n    .spark-nlp-display-entity-resolution{\n        font-size: 14px;\n        line-height: 24px;\n        color: #ffffff;\n        font-family: 'Vistol Regular', sans-serif !important;\n        \n        text-transform: uppercase;\n        \n        font-weight: 500;\n\n        display: block;\n        padding: 3px 5px;\n    }\n    \n    .spark-nlp-display-others{\n        font-size: 14px;\n        line-height: 24px;\n        font-family: 'Montserrat', sans-serif !important;\n        \n        font-weight: 400;\n    }\n\n</style>\n <span class=\"spark-nlp-display-others\" style=\"background-color: white\">The patient was prescribed </span><span class=\"spark-nlp-display-entity-wrapper\" style=\"background-color: #677A7E\"><span class=\"spark-nlp-display-entity-name\">1 </span><span class=\"spark-nlp-display-entity-type\">DOSAGE</span></span><span class=\"spark-nlp-display-others\" style=\"background-color: white\"> </span><span class=\"spark-nlp-display-entity-wrapper\" style=\"background-color: #3B0659\"><span class=\"spark-nlp-display-entity-name\">capsule </span><span class=\"spark-nlp-display-entity-type\">FORM</span></span><span class=\"spark-nlp-display-others\" style=\"background-color: white\"> of </span><span class=\"spark-nlp-display-entity-wrapper\" style=\"background-color: #8B668B\"><span class=\"spark-nlp-display-entity-name\">Advil </span><span class=\"spark-nlp-display-entity-type\">DRUG</span></span><span class=\"spark-nlp-display-others\" style=\"background-color: white\"> </span><span class=\"spark-nlp-display-entity-wrapper\" style=\"background-color: #3C65AC\"><span class=\"spark-nlp-display-entity-name\">for 5 days </span><span class=\"spark-nlp-display-entity-type\">DURATION</span></span><span class=\"spark-nlp-display-others\" style=\"background-color: white\"> . He was seen by the endocrinology service and she was discharged on </span><span class=\"spark-nlp-display-entity-wrapper\" style=\"background-color: #677A7E\"><span class=\"spark-nlp-display-entity-name\">40 units </span><span class=\"spark-nlp-display-entity-type\">DOSAGE</span></span><span class=\"spark-nlp-display-others\" style=\"background-color: white\"> of </span><span class=\"spark-nlp-display-entity-wrapper\" style=\"background-color: #8B668B\"><span class=\"spark-nlp-display-entity-name\">insulin glargine </span><span class=\"spark-nlp-display-entity-type\">DRUG</span></span><span class=\"spark-nlp-display-others\" style=\"background-color: white\"> </span><span class=\"spark-nlp-display-entity-wrapper\" style=\"background-color: #047C1D\"><span class=\"spark-nlp-display-entity-name\">at night </span><span class=\"spark-nlp-display-entity-type\">FREQUENCY</span></span><span class=\"spark-nlp-display-others\" style=\"background-color: white\"> , </span><span class=\"spark-nlp-display-entity-wrapper\" style=\"background-color: #677A7E\"><span class=\"spark-nlp-display-entity-name\">12 units </span><span class=\"spark-nlp-display-entity-type\">DOSAGE</span></span><span class=\"spark-nlp-display-others\" style=\"background-color: white\"> of </span><span class=\"spark-nlp-display-entity-wrapper\" style=\"background-color: #8B668B\"><span class=\"spark-nlp-display-entity-name\">insulin lispro </span><span class=\"spark-nlp-display-entity-type\">DRUG</span></span><span class=\"spark-nlp-display-others\" style=\"background-color: white\"> </span><span class=\"spark-nlp-display-entity-wrapper\" style=\"background-color: #047C1D\"><span class=\"spark-nlp-display-entity-name\">with meals </span><span class=\"spark-nlp-display-entity-type\">FREQUENCY</span></span><span class=\"spark-nlp-display-others\" style=\"background-color: white\"> , and </span><span class=\"spark-nlp-display-entity-wrapper\" style=\"background-color: #8B668B\"><span class=\"spark-nlp-display-entity-name\">metformin </span><span class=\"spark-nlp-display-entity-type\">DRUG</span></span><span class=\"spark-nlp-display-others\" style=\"background-color: white\"> </span><span class=\"spark-nlp-display-entity-wrapper\" style=\"background-color: #2A4039\"><span class=\"spark-nlp-display-entity-name\">1000 mg </span><span class=\"spark-nlp-display-entity-type\">STRENGTH</span></span><span class=\"spark-nlp-display-others\" style=\"background-color: white\"> </span><span class=\"spark-nlp-display-entity-wrapper\" style=\"background-color: #047C1D\"><span class=\"spark-nlp-display-entity-name\">two times a day </span><span class=\"spark-nlp-display-entity-type\">FREQUENCY</span></span><span class=\"spark-nlp-display-others\" style=\"background-color: white\"> . It was determined that all </span><span class=\"spark-nlp-display-entity-wrapper\" style=\"background-color: #8B668B\"><span class=\"spark-nlp-display-entity-name\">SGLT2 inhibitors </span><span class=\"spark-nlp-display-entity-type\">DRUG</span></span><span class=\"spark-nlp-display-others\" style=\"background-color: white\"> should be discontinued indefinitely </span><span class=\"spark-nlp-display-entity-wrapper\" style=\"background-color: #3C65AC\"><span class=\"spark-nlp-display-entity-name\">for 3 months </span><span class=\"spark-nlp-display-entity-type\">DURATION</span></span><span class=\"spark-nlp-display-others\" style=\"background-color: white\"> .</span></div>",
       "datasetInfos": [],
       "removedWidgets": [],
       "textData": null,
       "type": "htmlSandbox"
      }
     },
     "output_type": "display_data"
    }
   ],
   "source": [
    "from sparknlp_display import NerVisualizer\n",
    "\n",
    "visualiser = NerVisualizer()\n",
    "\n",
    "ner_vis = visualiser.display(light_result[0], label_col='ner_chunk', document_col='document', return_html=True)\n",
    "\n",
    "\n",
    "# Change color of an entity label\n",
    "\n",
    "#visualiser.set_label_colors({'PROBLEM':'#008080', 'TEST':'#800080', 'TREATMENT':'#808080'})\n",
    "#visualiser.display(light_result[0], label_col='ner_chunk')\n",
    "\n",
    "# Set label filter\n",
    "\n",
    "# visualiser.display(light_result, label_col='ner_chunk', document_col='document',\n",
    "                   #labels=['PROBLEM','TEST'])\n",
    "  \n",
    "displayHTML(ner_vis)"
   ]
  },
  {
   "cell_type": "code",
   "execution_count": 0,
   "metadata": {
    "application/vnd.databricks.v1+cell": {
     "inputWidgets": {},
     "nuid": "d1760464-8289-479d-855e-43626fadfa7c",
     "showTitle": false,
     "title": ""
    }
   },
   "outputs": [
    {
     "data": {
      "text/html": [
       "\n",
       "<style>\n",
       "    @import url('https://fonts.googleapis.com/css2?family=Montserrat:wght@300;400;500;600;700&display=swap');\n",
       "    @import url('https://fonts.googleapis.com/css2?family=Vistol Regular:wght@300;400;500;600;700&display=swap');\n",
       "    \n",
       "    .spark-nlp-display-scroll-entities {\n",
       "        border: 1px solid #E7EDF0;\n",
       "        border-radius: 3px;\n",
       "        text-align: justify;\n",
       "        \n",
       "    }\n",
       "    .spark-nlp-display-scroll-entities span {  \n",
       "        font-size: 14px;\n",
       "        line-height: 24px;\n",
       "        color: #536B76;\n",
       "        font-family: 'Montserrat', sans-serif !important;\n",
       "    }\n",
       "    \n",
       "    .spark-nlp-display-entity-wrapper{\n",
       "    \n",
       "        display: inline-grid;\n",
       "        text-align: center;\n",
       "        border-radius: 4px;\n",
       "        margin: 0 2px 5px 2px;\n",
       "        padding: 1px\n",
       "    }\n",
       "    .spark-nlp-display-entity-name{\n",
       "        font-size: 14px;\n",
       "        line-height: 24px;\n",
       "        font-family: 'Montserrat', sans-serif !important;\n",
       "        \n",
       "        background: #f1f2f3;\n",
       "        border-width: medium;\n",
       "        text-align: center;\n",
       "        \n",
       "        font-weight: 400;\n",
       "        \n",
       "        border-radius: 5px;\n",
       "        padding: 2px 5px;\n",
       "        display: block;\n",
       "        margin: 3px 2px;\n",
       "    \n",
       "    }\n",
       "    .spark-nlp-display-entity-type{\n",
       "        font-size: 14px;\n",
       "        line-height: 24px;\n",
       "        color: #ffffff;\n",
       "        font-family: 'Montserrat', sans-serif !important;\n",
       "        \n",
       "        text-transform: uppercase;\n",
       "        \n",
       "        font-weight: 500;\n",
       "\n",
       "        display: block;\n",
       "        padding: 3px 5px;\n",
       "    }\n",
       "    \n",
       "    .spark-nlp-display-entity-resolution{\n",
       "        font-size: 14px;\n",
       "        line-height: 24px;\n",
       "        color: #ffffff;\n",
       "        font-family: 'Vistol Regular', sans-serif !important;\n",
       "        \n",
       "        text-transform: uppercase;\n",
       "        \n",
       "        font-weight: 500;\n",
       "\n",
       "        display: block;\n",
       "        padding: 3px 5px;\n",
       "    }\n",
       "    \n",
       "    .spark-nlp-display-others{\n",
       "        font-size: 14px;\n",
       "        line-height: 24px;\n",
       "        font-family: 'Montserrat', sans-serif !important;\n",
       "        \n",
       "        font-weight: 400;\n",
       "    }\n",
       "\n",
       "</style>\n",
       " <span class=\"spark-nlp-display-others\" style=\"background-color: white\">The patient was prescribed </span><span class=\"spark-nlp-display-entity-wrapper\" style=\"background-color: #8B668B\"><span class=\"spark-nlp-display-entity-name\">1 capsule of Advil </span><span class=\"spark-nlp-display-entity-type\">DRUG</span></span><span class=\"spark-nlp-display-others\" style=\"background-color: white\"> </span><span class=\"spark-nlp-display-entity-wrapper\" style=\"background-color: #C64F71\"><span class=\"spark-nlp-display-entity-name\">for 5 days </span><span class=\"spark-nlp-display-entity-type\">DURATION</span></span><span class=\"spark-nlp-display-others\" style=\"background-color: white\"> . He was seen by the endocrinology service and she was discharged on </span><span class=\"spark-nlp-display-entity-wrapper\" style=\"background-color: #8B668B\"><span class=\"spark-nlp-display-entity-name\">40 units of insulin glargine </span><span class=\"spark-nlp-display-entity-type\">DRUG</span></span><span class=\"spark-nlp-display-others\" style=\"background-color: white\"> </span><span class=\"spark-nlp-display-entity-wrapper\" style=\"background-color: #640681\"><span class=\"spark-nlp-display-entity-name\">at night </span><span class=\"spark-nlp-display-entity-type\">FREQUENCY</span></span><span class=\"spark-nlp-display-others\" style=\"background-color: white\"> , </span><span class=\"spark-nlp-display-entity-wrapper\" style=\"background-color: #8B668B\"><span class=\"spark-nlp-display-entity-name\">12 units of insulin lispro </span><span class=\"spark-nlp-display-entity-type\">DRUG</span></span><span class=\"spark-nlp-display-others\" style=\"background-color: white\"> </span><span class=\"spark-nlp-display-entity-wrapper\" style=\"background-color: #640681\"><span class=\"spark-nlp-display-entity-name\">with meals </span><span class=\"spark-nlp-display-entity-type\">FREQUENCY</span></span><span class=\"spark-nlp-display-others\" style=\"background-color: white\"> , and </span><span class=\"spark-nlp-display-entity-wrapper\" style=\"background-color: #8B668B\"><span class=\"spark-nlp-display-entity-name\">metformin 1000 mg </span><span class=\"spark-nlp-display-entity-type\">DRUG</span></span><span class=\"spark-nlp-display-others\" style=\"background-color: white\"> </span><span class=\"spark-nlp-display-entity-wrapper\" style=\"background-color: #640681\"><span class=\"spark-nlp-display-entity-name\">two times a day </span><span class=\"spark-nlp-display-entity-type\">FREQUENCY</span></span><span class=\"spark-nlp-display-others\" style=\"background-color: white\"> . It was determined that all </span><span class=\"spark-nlp-display-entity-wrapper\" style=\"background-color: #8B668B\"><span class=\"spark-nlp-display-entity-name\">SGLT2 inhibitors </span><span class=\"spark-nlp-display-entity-type\">DRUG</span></span><span class=\"spark-nlp-display-others\" style=\"background-color: white\"> should be discontinued indefinitely </span><span class=\"spark-nlp-display-entity-wrapper\" style=\"background-color: #C64F71\"><span class=\"spark-nlp-display-entity-name\">for 3 months </span><span class=\"spark-nlp-display-entity-type\">DURATION</span></span><span class=\"spark-nlp-display-others\" style=\"background-color: white\"> .</span></div>"
      ]
     },
     "metadata": {
      "application/vnd.databricks.v1+output": {
       "addedWidgets": {},
       "arguments": {},
       "data": "\n<style>\n    @import url('https://fonts.googleapis.com/css2?family=Montserrat:wght@300;400;500;600;700&display=swap');\n    @import url('https://fonts.googleapis.com/css2?family=Vistol Regular:wght@300;400;500;600;700&display=swap');\n    \n    .spark-nlp-display-scroll-entities {\n        border: 1px solid #E7EDF0;\n        border-radius: 3px;\n        text-align: justify;\n        \n    }\n    .spark-nlp-display-scroll-entities span {  \n        font-size: 14px;\n        line-height: 24px;\n        color: #536B76;\n        font-family: 'Montserrat', sans-serif !important;\n    }\n    \n    .spark-nlp-display-entity-wrapper{\n    \n        display: inline-grid;\n        text-align: center;\n        border-radius: 4px;\n        margin: 0 2px 5px 2px;\n        padding: 1px\n    }\n    .spark-nlp-display-entity-name{\n        font-size: 14px;\n        line-height: 24px;\n        font-family: 'Montserrat', sans-serif !important;\n        \n        background: #f1f2f3;\n        border-width: medium;\n        text-align: center;\n        \n        font-weight: 400;\n        \n        border-radius: 5px;\n        padding: 2px 5px;\n        display: block;\n        margin: 3px 2px;\n    \n    }\n    .spark-nlp-display-entity-type{\n        font-size: 14px;\n        line-height: 24px;\n        color: #ffffff;\n        font-family: 'Montserrat', sans-serif !important;\n        \n        text-transform: uppercase;\n        \n        font-weight: 500;\n\n        display: block;\n        padding: 3px 5px;\n    }\n    \n    .spark-nlp-display-entity-resolution{\n        font-size: 14px;\n        line-height: 24px;\n        color: #ffffff;\n        font-family: 'Vistol Regular', sans-serif !important;\n        \n        text-transform: uppercase;\n        \n        font-weight: 500;\n\n        display: block;\n        padding: 3px 5px;\n    }\n    \n    .spark-nlp-display-others{\n        font-size: 14px;\n        line-height: 24px;\n        font-family: 'Montserrat', sans-serif !important;\n        \n        font-weight: 400;\n    }\n\n</style>\n <span class=\"spark-nlp-display-others\" style=\"background-color: white\">The patient was prescribed </span><span class=\"spark-nlp-display-entity-wrapper\" style=\"background-color: #8B668B\"><span class=\"spark-nlp-display-entity-name\">1 capsule of Advil </span><span class=\"spark-nlp-display-entity-type\">DRUG</span></span><span class=\"spark-nlp-display-others\" style=\"background-color: white\"> </span><span class=\"spark-nlp-display-entity-wrapper\" style=\"background-color: #C64F71\"><span class=\"spark-nlp-display-entity-name\">for 5 days </span><span class=\"spark-nlp-display-entity-type\">DURATION</span></span><span class=\"spark-nlp-display-others\" style=\"background-color: white\"> . He was seen by the endocrinology service and she was discharged on </span><span class=\"spark-nlp-display-entity-wrapper\" style=\"background-color: #8B668B\"><span class=\"spark-nlp-display-entity-name\">40 units of insulin glargine </span><span class=\"spark-nlp-display-entity-type\">DRUG</span></span><span class=\"spark-nlp-display-others\" style=\"background-color: white\"> </span><span class=\"spark-nlp-display-entity-wrapper\" style=\"background-color: #640681\"><span class=\"spark-nlp-display-entity-name\">at night </span><span class=\"spark-nlp-display-entity-type\">FREQUENCY</span></span><span class=\"spark-nlp-display-others\" style=\"background-color: white\"> , </span><span class=\"spark-nlp-display-entity-wrapper\" style=\"background-color: #8B668B\"><span class=\"spark-nlp-display-entity-name\">12 units of insulin lispro </span><span class=\"spark-nlp-display-entity-type\">DRUG</span></span><span class=\"spark-nlp-display-others\" style=\"background-color: white\"> </span><span class=\"spark-nlp-display-entity-wrapper\" style=\"background-color: #640681\"><span class=\"spark-nlp-display-entity-name\">with meals </span><span class=\"spark-nlp-display-entity-type\">FREQUENCY</span></span><span class=\"spark-nlp-display-others\" style=\"background-color: white\"> , and </span><span class=\"spark-nlp-display-entity-wrapper\" style=\"background-color: #8B668B\"><span class=\"spark-nlp-display-entity-name\">metformin 1000 mg </span><span class=\"spark-nlp-display-entity-type\">DRUG</span></span><span class=\"spark-nlp-display-others\" style=\"background-color: white\"> </span><span class=\"spark-nlp-display-entity-wrapper\" style=\"background-color: #640681\"><span class=\"spark-nlp-display-entity-name\">two times a day </span><span class=\"spark-nlp-display-entity-type\">FREQUENCY</span></span><span class=\"spark-nlp-display-others\" style=\"background-color: white\"> . It was determined that all </span><span class=\"spark-nlp-display-entity-wrapper\" style=\"background-color: #8B668B\"><span class=\"spark-nlp-display-entity-name\">SGLT2 inhibitors </span><span class=\"spark-nlp-display-entity-type\">DRUG</span></span><span class=\"spark-nlp-display-others\" style=\"background-color: white\"> should be discontinued indefinitely </span><span class=\"spark-nlp-display-entity-wrapper\" style=\"background-color: #C64F71\"><span class=\"spark-nlp-display-entity-name\">for 3 months </span><span class=\"spark-nlp-display-entity-type\">DURATION</span></span><span class=\"spark-nlp-display-others\" style=\"background-color: white\"> .</span></div>",
       "datasetInfos": [],
       "removedWidgets": [],
       "textData": null,
       "type": "htmlSandbox"
      }
     },
     "output_type": "display_data"
    }
   ],
   "source": [
    "# ner_greedy\n",
    "\n",
    "visualiser_greedy = NerVisualizer()\n",
    "\n",
    "ner_greedy_vis = visualiser_greedy.display(light_result[0], label_col='ner_chunk_greedy', document_col='document', return_html=True)\n",
    "\n",
    "displayHTML(ner_greedy_vis)"
   ]
  },
  {
   "cell_type": "markdown",
   "metadata": {
    "application/vnd.databricks.v1+cell": {
     "inputWidgets": {},
     "nuid": "941abf71-9254-4510-9579-57a55d8dcc96",
     "showTitle": false,
     "title": ""
    }
   },
   "source": [
    "## Writing a generic NER function"
   ]
  },
  {
   "cell_type": "code",
   "execution_count": 0,
   "metadata": {
    "application/vnd.databricks.v1+cell": {
     "inputWidgets": {},
     "nuid": "938606fe-b8f1-4258-a9ed-73c69815caf3",
     "showTitle": false,
     "title": ""
    }
   },
   "outputs": [
    {
     "data": {
      "text/html": [
       "<style scoped>\n",
       "  .ansiout {\n",
       "    display: block;\n",
       "    unicode-bidi: embed;\n",
       "    white-space: pre-wrap;\n",
       "    word-wrap: break-word;\n",
       "    word-break: break-all;\n",
       "    font-family: \"Source Code Pro\", \"Menlo\", monospace;;\n",
       "    font-size: 13px;\n",
       "    color: #555;\n",
       "    margin-left: 4px;\n",
       "    line-height: 19px;\n",
       "  }\n",
       "</style>\n",
       "<div class=\"ansiout\"></div>"
      ]
     },
     "metadata": {
      "application/vnd.databricks.v1+output": {
       "addedWidgets": {},
       "arguments": {},
       "data": "<div class=\"ansiout\"></div>",
       "datasetInfos": [],
       "removedWidgets": [],
       "type": "html"
      }
     },
     "output_type": "display_data"
    }
   ],
   "source": [
    "def get_base_pipeline (embeddings = 'embeddings_clinical'):\n",
    "\n",
    "  documentAssembler = DocumentAssembler()\\\n",
    "      .setInputCol(\"text\")\\\n",
    "      .setOutputCol(\"document\")\n",
    "\n",
    "  # Sentence Detector annotator, processes various sentences per line\n",
    "\n",
    "  sentenceDetector = SentenceDetector()\\\n",
    "      .setInputCols([\"document\"])\\\n",
    "      .setOutputCol(\"sentence\")\n",
    "\n",
    "  # Tokenizer splits words in a relevant format for NLP\n",
    "\n",
    "  tokenizer = Tokenizer()\\\n",
    "      .setInputCols([\"sentence\"])\\\n",
    "      .setOutputCol(\"token\")\n",
    "\n",
    "  # Clinical word embeddings trained on PubMED dataset\n",
    "  word_embeddings = WordEmbeddingsModel.pretrained(embeddings, \"en\", \"clinical/models\")\\\n",
    "      .setInputCols([\"sentence\", \"token\"])\\\n",
    "      .setOutputCol(\"embeddings\")\n",
    "\n",
    "  base_pipeline = Pipeline(stages=[\n",
    "                    documentAssembler,\n",
    "                    sentenceDetector,\n",
    "                    tokenizer,\n",
    "                    word_embeddings\n",
    "                  ])\n",
    "\n",
    "  return base_pipeline\n",
    "\n",
    "\n",
    "\n",
    "def get_clinical_entities (embeddings, spark_df, nrows = 100, model_name = 'ner_clinical'):\n",
    "\n",
    "  # NER model trained on i2b2 (sampled from MIMIC) dataset\n",
    "  loaded_ner_model = MedicalNerModel.pretrained(model_name, \"en\", \"clinical/models\") \\\n",
    "      .setInputCols([\"sentence\", \"token\", \"embeddings\"]) \\\n",
    "      .setOutputCol(\"ner\")\n",
    "\n",
    "  ner_converter = NerConverter() \\\n",
    "      .setInputCols([\"sentence\", \"token\", \"ner\"]) \\\n",
    "      .setOutputCol(\"ner_chunk\")\n",
    "\n",
    "  base_pipeline = get_base_pipeline (embeddings)\n",
    "\n",
    "  nlpPipeline = Pipeline(stages=[\n",
    "      base_pipeline,\n",
    "      loaded_ner_model,\n",
    "      ner_converter])\n",
    "\n",
    "  empty_data = spark.createDataFrame([[\"\"]]).toDF(\"text\")\n",
    "\n",
    "  model = nlpPipeline.fit(empty_data)\n",
    "\n",
    "  result = model.transform(spark_df.limit(nrows))\n",
    "\n",
    "  result = result.withColumn(\"id\", monotonically_increasing_id())\n",
    "\n",
    "  result_df = result.select('id',F.explode(F.arrays_zip('ner_chunk.result', 'ner_chunk.begin', 'ner_chunk.end', 'ner_chunk.metadata')).alias(\"cols\")) \\\n",
    "  .select('id', F.expr(\"cols['3']['sentence']\").alias(\"sentence_id\"),\n",
    "          F.expr(\"cols['0']\").alias(\"chunk\"),\n",
    "          F.expr(\"cols['1']\").alias(\"begin\"),\n",
    "          F.expr(\"cols['2']\").alias(\"end\"),\n",
    "          F.expr(\"cols['3']['entity']\").alias(\"ner_label\"))\\\n",
    "          .filter(\"ner_label!='O'\")\n",
    "\n",
    "  return result_df"
   ]
  },
  {
   "cell_type": "code",
   "execution_count": 0,
   "metadata": {
    "application/vnd.databricks.v1+cell": {
     "inputWidgets": {},
     "nuid": "b352d88a-3812-467d-b28e-dec4bdd8c23f",
     "showTitle": false,
     "title": ""
    }
   },
   "outputs": [
    {
     "data": {
      "text/html": [
       "<style scoped>\n",
       "  .ansiout {\n",
       "    display: block;\n",
       "    unicode-bidi: embed;\n",
       "    white-space: pre-wrap;\n",
       "    word-wrap: break-word;\n",
       "    word-break: break-all;\n",
       "    font-family: \"Source Code Pro\", \"Menlo\", monospace;;\n",
       "    font-size: 13px;\n",
       "    color: #555;\n",
       "    margin-left: 4px;\n",
       "    line-height: 19px;\n",
       "  }\n",
       "</style>\n",
       "<div class=\"ansiout\">ner_clinical download started this may take some time.\n",
       "Approximate size to download 13.9 MB\n",
       "\r",
       "[ | ]\r",
       "[ / ]\r",
       "[ — ]\r",
       "[OK!]\n",
       "embeddings_clinical download started this may take some time.\n",
       "Approximate size to download 1.6 GB\n",
       "\r",
       "[ | ]\r",
       "[OK!]\n",
       "+---+-----------+--------------------+-----+---+---------+\n",
       " id|sentence_id|               chunk|begin|end|ner_label|\n",
       "+---+-----------+--------------------+-----+---+---------+\n",
       "  0|          0|the G-protein-act...|   48|106|TREATMENT|\n",
       "  0|          1|the genomicorgani...|  142|164|TREATMENT|\n",
       "  0|          1|a candidate gene ...|  210|254|  PROBLEM|\n",
       "  0|          2|     byapproximately|  380|394|TREATMENT|\n",
       "  0|          3|single nucleotide...|  464|494|TREATMENT|\n",
       "  0|          3|aVal366Ala substi...|  532|554|TREATMENT|\n",
       "  0|          3|      an 8 base-pair|  561|574|TREATMENT|\n",
       "  0|          4|  insertion/deletion|  581|598|  PROBLEM|\n",
       "  0|          5|Ourexpression stu...|  601|621|     TEST|\n",
       "  0|          5|the transcript in...|  648|685|  PROBLEM|\n",
       "  0|          5|fat andskeletal m...|  749|770|  PROBLEM|\n",
       "  0|          6|      furtherstudies|  830|843|  PROBLEM|\n",
       "  0|          6|   the KCNJ9 protein|  864|880|TREATMENT|\n",
       "  0|          6|          evaluation|  892|901|     TEST|\n",
       "  0|          6|    Type II diabetes|  940|955|  PROBLEM|\n",
       "  1|          0|       the treatment|   67| 79|TREATMENT|\n",
       "  1|          0|       breast cancer|   84| 96|  PROBLEM|\n",
       "  1|          0|the standard therapy|  109|128|TREATMENT|\n",
       "  1|          0|      anthracyclines|  167|180|TREATMENT|\n",
       "  1|          0|             taxanes|  186|192|TREATMENT|\n",
       "+---+-----------+--------------------+-----+---+---------+\n",
       "only showing top 20 rows\n",
       "\n",
       "</div>"
      ]
     },
     "metadata": {
      "application/vnd.databricks.v1+output": {
       "addedWidgets": {},
       "arguments": {},
       "data": "<div class=\"ansiout\">ner_clinical download started this may take some time.\nApproximate size to download 13.9 MB\n\r[ | ]\r[ / ]\r[ — ]\r[OK!]\nembeddings_clinical download started this may take some time.\nApproximate size to download 1.6 GB\n\r[ | ]\r[OK!]\n+---+-----------+--------------------+-----+---+---------+\n| id|sentence_id|               chunk|begin|end|ner_label|\n+---+-----------+--------------------+-----+---+---------+\n|  0|          0|the G-protein-act...|   48|106|TREATMENT|\n|  0|          1|the genomicorgani...|  142|164|TREATMENT|\n|  0|          1|a candidate gene ...|  210|254|  PROBLEM|\n|  0|          2|     byapproximately|  380|394|TREATMENT|\n|  0|          3|single nucleotide...|  464|494|TREATMENT|\n|  0|          3|aVal366Ala substi...|  532|554|TREATMENT|\n|  0|          3|      an 8 base-pair|  561|574|TREATMENT|\n|  0|          4|  insertion/deletion|  581|598|  PROBLEM|\n|  0|          5|Ourexpression stu...|  601|621|     TEST|\n|  0|          5|the transcript in...|  648|685|  PROBLEM|\n|  0|          5|fat andskeletal m...|  749|770|  PROBLEM|\n|  0|          6|      furtherstudies|  830|843|  PROBLEM|\n|  0|          6|   the KCNJ9 protein|  864|880|TREATMENT|\n|  0|          6|          evaluation|  892|901|     TEST|\n|  0|          6|    Type II diabetes|  940|955|  PROBLEM|\n|  1|          0|       the treatment|   67| 79|TREATMENT|\n|  1|          0|       breast cancer|   84| 96|  PROBLEM|\n|  1|          0|the standard therapy|  109|128|TREATMENT|\n|  1|          0|      anthracyclines|  167|180|TREATMENT|\n|  1|          0|             taxanes|  186|192|TREATMENT|\n+---+-----------+--------------------+-----+---+---------+\nonly showing top 20 rows\n\n</div>",
       "datasetInfos": [],
       "removedWidgets": [],
       "type": "html"
      }
     },
     "output_type": "display_data"
    }
   ],
   "source": [
    "embeddings = 'embeddings_clinical'\n",
    "\n",
    "model_name = 'ner_clinical'\n",
    "\n",
    "nrows = 100\n",
    "\n",
    "ner_df = get_clinical_entities (embeddings, pubMedDF, nrows, model_name)\n",
    "\n",
    "ner_df.show()"
   ]
  },
  {
   "cell_type": "code",
   "execution_count": 0,
   "metadata": {
    "application/vnd.databricks.v1+cell": {
     "inputWidgets": {},
     "nuid": "0cbe1302-146a-4394-8da8-af6e5885b429",
     "showTitle": false,
     "title": ""
    }
   },
   "outputs": [
    {
     "data": {
      "text/html": [
       "<style scoped>\n",
       "  .ansiout {\n",
       "    display: block;\n",
       "    unicode-bidi: embed;\n",
       "    white-space: pre-wrap;\n",
       "    word-wrap: break-word;\n",
       "    word-break: break-all;\n",
       "    font-family: \"Source Code Pro\", \"Menlo\", monospace;;\n",
       "    font-size: 13px;\n",
       "    color: #555;\n",
       "    margin-left: 4px;\n",
       "    line-height: 19px;\n",
       "  }\n",
       "</style>\n",
       "<div class=\"ansiout\">ner_posology download started this may take some time.\n",
       "Approximate size to download 13.8 MB\n",
       "\r",
       "[ | ]\r",
       "[OK!]\n",
       "embeddings_clinical download started this may take some time.\n",
       "Approximate size to download 1.6 GB\n",
       "\r",
       "[ | ]\r",
       "[OK!]\n",
       "+---+-----------+----------------+-----+----+---------+\n",
       " id|sentence_id|           chunk|begin| end|ner_label|\n",
       "+---+-----------+----------------+-----+----+---------+\n",
       "  1|          0|  anthracyclines|  167| 180|     DRUG|\n",
       "  1|          0|         taxanes|  186| 192|     DRUG|\n",
       "  1|          1|     vinorelbine|  246| 256|     DRUG|\n",
       "  1|          1|     vinorelbine|  386| 396|     DRUG|\n",
       "  1|          1|  anthracyclines|  433| 446|     DRUG|\n",
       "  1|          1|         taxanes|  452| 458|     DRUG|\n",
       "  1|          2|  Vinorelbinewas|  470| 483|     DRUG|\n",
       "  1|          2|       25 mg/m(2|  517| 525| STRENGTH|\n",
       "  1|          2|   intravenously|  528| 540|    ROUTE|\n",
       "  1|          2|         on days|  542| 548|FREQUENCY|\n",
       "  1|          3|tumorprogression|  635| 650|     DRUG|\n",
       "  1|         10| thatvinorelbine| 1263|1277|     DRUG|\n",
       "  1|         10|  anthracyclines| 1380|1393|     DRUG|\n",
       "  1|         10|         taxanes| 1399|1405|     DRUG|\n",
       "  6|          2| tetrazolium dye|  432| 446|     DRUG|\n",
       "  6|          3|             DOX|  576| 578|     DRUG|\n",
       "  7|          0|    trandolapril|  174| 185|     DRUG|\n",
       "  7|          0|        losartan|  191| 198|     DRUG|\n",
       "  7|          2|          3-week|  313| 318| DURATION|\n",
       "  7|          2|         placebo|  320| 326|     DRUG|\n",
       "+---+-----------+----------------+-----+----+---------+\n",
       "only showing top 20 rows\n",
       "\n",
       "</div>"
      ]
     },
     "metadata": {
      "application/vnd.databricks.v1+output": {
       "addedWidgets": {},
       "arguments": {},
       "data": "<div class=\"ansiout\">ner_posology download started this may take some time.\nApproximate size to download 13.8 MB\n\r[ | ]\r[OK!]\nembeddings_clinical download started this may take some time.\nApproximate size to download 1.6 GB\n\r[ | ]\r[OK!]\n+---+-----------+----------------+-----+----+---------+\n| id|sentence_id|           chunk|begin| end|ner_label|\n+---+-----------+----------------+-----+----+---------+\n|  1|          0|  anthracyclines|  167| 180|     DRUG|\n|  1|          0|         taxanes|  186| 192|     DRUG|\n|  1|          1|     vinorelbine|  246| 256|     DRUG|\n|  1|          1|     vinorelbine|  386| 396|     DRUG|\n|  1|          1|  anthracyclines|  433| 446|     DRUG|\n|  1|          1|         taxanes|  452| 458|     DRUG|\n|  1|          2|  Vinorelbinewas|  470| 483|     DRUG|\n|  1|          2|       25 mg/m(2|  517| 525| STRENGTH|\n|  1|          2|   intravenously|  528| 540|    ROUTE|\n|  1|          2|         on days|  542| 548|FREQUENCY|\n|  1|          3|tumorprogression|  635| 650|     DRUG|\n|  1|         10| thatvinorelbine| 1263|1277|     DRUG|\n|  1|         10|  anthracyclines| 1380|1393|     DRUG|\n|  1|         10|         taxanes| 1399|1405|     DRUG|\n|  6|          2| tetrazolium dye|  432| 446|     DRUG|\n|  6|          3|             DOX|  576| 578|     DRUG|\n|  7|          0|    trandolapril|  174| 185|     DRUG|\n|  7|          0|        losartan|  191| 198|     DRUG|\n|  7|          2|          3-week|  313| 318| DURATION|\n|  7|          2|         placebo|  320| 326|     DRUG|\n+---+-----------+----------------+-----+----+---------+\nonly showing top 20 rows\n\n</div>",
       "datasetInfos": [],
       "removedWidgets": [],
       "type": "html"
      }
     },
     "output_type": "display_data"
    }
   ],
   "source": [
    "embeddings = 'embeddings_clinical'\n",
    "\n",
    "model_name = 'ner_posology'\n",
    "\n",
    "nrows = 100\n",
    "\n",
    "ner_df = get_clinical_entities (embeddings, pubMedDF, nrows, model_name)\n",
    "\n",
    "ner_df.show()"
   ]
  },
  {
   "cell_type": "code",
   "execution_count": 0,
   "metadata": {
    "application/vnd.databricks.v1+cell": {
     "inputWidgets": {},
     "nuid": "b7796e49-23ca-44f7-9be4-0600588414c5",
     "showTitle": false,
     "title": ""
    }
   },
   "outputs": [
    {
     "data": {
      "text/html": [
       "<style scoped>\n",
       "  .ansiout {\n",
       "    display: block;\n",
       "    unicode-bidi: embed;\n",
       "    white-space: pre-wrap;\n",
       "    word-wrap: break-word;\n",
       "    word-break: break-all;\n",
       "    font-family: \"Source Code Pro\", \"Menlo\", monospace;;\n",
       "    font-size: 13px;\n",
       "    color: #555;\n",
       "    margin-left: 4px;\n",
       "    line-height: 19px;\n",
       "  }\n",
       "</style>\n",
       "<div class=\"ansiout\"></div>"
      ]
     },
     "metadata": {
      "application/vnd.databricks.v1+output": {
       "addedWidgets": {},
       "arguments": {},
       "data": "<div class=\"ansiout\"></div>",
       "datasetInfos": [],
       "removedWidgets": [],
       "type": "html"
      }
     },
     "output_type": "display_data"
    }
   ],
   "source": [
    "import pandas as pd\n",
    "\n",
    "def get_clinical_entities_light (light_model, text):\n",
    "\n",
    "  light_result = light_model.fullAnnotate(text)\n",
    "\n",
    "  chunks = []\n",
    "  entities = []\n",
    "\n",
    "  for n in light_result[0]['ner_chunk']:\n",
    "          \n",
    "      chunks.append(n.result)\n",
    "      entities.append(n.metadata['entity']) \n",
    "      \n",
    "  df = pd.DataFrame({'chunks':chunks, 'entities':entities})\n",
    "\n",
    "  return df"
   ]
  },
  {
   "cell_type": "code",
   "execution_count": 0,
   "metadata": {
    "application/vnd.databricks.v1+cell": {
     "inputWidgets": {},
     "nuid": "4c9ab2f0-e142-4aee-9d8d-d875b6c4f6ab",
     "showTitle": false,
     "title": ""
    }
   },
   "outputs": [
    {
     "data": {
      "text/html": [
       "<style scoped>\n",
       "  .ansiout {\n",
       "    display: block;\n",
       "    unicode-bidi: embed;\n",
       "    white-space: pre-wrap;\n",
       "    word-wrap: break-word;\n",
       "    word-break: break-all;\n",
       "    font-family: \"Source Code Pro\", \"Menlo\", monospace;;\n",
       "    font-size: 13px;\n",
       "    color: #555;\n",
       "    margin-left: 4px;\n",
       "    line-height: 19px;\n",
       "  }\n",
       "</style>\n",
       "<div class=\"ansiout\">Out[52]: </div>"
      ]
     },
     "metadata": {
      "application/vnd.databricks.v1+output": {
       "addedWidgets": {},
       "arguments": {},
       "data": "<div class=\"ansiout\">Out[52]: </div>",
       "datasetInfos": [],
       "removedWidgets": [],
       "type": "html"
      }
     },
     "output_type": "display_data"
    },
    {
     "data": {
      "text/html": [
       "<div>\n",
       "<style scoped>\n",
       "    .dataframe tbody tr th:only-of-type {\n",
       "        vertical-align: middle;\n",
       "    }\n",
       "\n",
       "    .dataframe tbody tr th {\n",
       "        vertical-align: top;\n",
       "    }\n",
       "\n",
       "    .dataframe thead th {\n",
       "        text-align: right;\n",
       "    }\n",
       "</style>\n",
       "<table border=\"1\" class=\"dataframe\">\n",
       "  <thead>\n",
       "    <tr style=\"text-align: right;\">\n",
       "      <th></th>\n",
       "      <th>chunks</th>\n",
       "      <th>entities</th>\n",
       "    </tr>\n",
       "  </thead>\n",
       "  <tbody>\n",
       "    <tr>\n",
       "      <th>0</th>\n",
       "      <td>1</td>\n",
       "      <td>DOSAGE</td>\n",
       "    </tr>\n",
       "    <tr>\n",
       "      <th>1</th>\n",
       "      <td>capsule</td>\n",
       "      <td>FORM</td>\n",
       "    </tr>\n",
       "    <tr>\n",
       "      <th>2</th>\n",
       "      <td>Parol</td>\n",
       "      <td>DRUG</td>\n",
       "    </tr>\n",
       "    <tr>\n",
       "      <th>3</th>\n",
       "      <td>with meals</td>\n",
       "      <td>FREQUENCY</td>\n",
       "    </tr>\n",
       "    <tr>\n",
       "      <th>4</th>\n",
       "      <td>40 units</td>\n",
       "      <td>DOSAGE</td>\n",
       "    </tr>\n",
       "    <tr>\n",
       "      <th>5</th>\n",
       "      <td>insulin glargine</td>\n",
       "      <td>DRUG</td>\n",
       "    </tr>\n",
       "    <tr>\n",
       "      <th>6</th>\n",
       "      <td>at night</td>\n",
       "      <td>FREQUENCY</td>\n",
       "    </tr>\n",
       "    <tr>\n",
       "      <th>7</th>\n",
       "      <td>12 units</td>\n",
       "      <td>DOSAGE</td>\n",
       "    </tr>\n",
       "    <tr>\n",
       "      <th>8</th>\n",
       "      <td>insulin lispro</td>\n",
       "      <td>DRUG</td>\n",
       "    </tr>\n",
       "    <tr>\n",
       "      <th>9</th>\n",
       "      <td>with meals</td>\n",
       "      <td>FREQUENCY</td>\n",
       "    </tr>\n",
       "    <tr>\n",
       "      <th>10</th>\n",
       "      <td>metformin</td>\n",
       "      <td>DRUG</td>\n",
       "    </tr>\n",
       "    <tr>\n",
       "      <th>11</th>\n",
       "      <td>1000 mg</td>\n",
       "      <td>STRENGTH</td>\n",
       "    </tr>\n",
       "    <tr>\n",
       "      <th>12</th>\n",
       "      <td>two times a day</td>\n",
       "      <td>FREQUENCY</td>\n",
       "    </tr>\n",
       "    <tr>\n",
       "      <th>13</th>\n",
       "      <td>SGLT2 inhibitors</td>\n",
       "      <td>DRUG</td>\n",
       "    </tr>\n",
       "  </tbody>\n",
       "</table>\n",
       "</div>"
      ]
     },
     "metadata": {
      "application/vnd.databricks.v1+output": {
       "addedWidgets": {},
       "arguments": {},
       "data": "<div>\n<style scoped>\n    .dataframe tbody tr th:only-of-type {\n        vertical-align: middle;\n    }\n\n    .dataframe tbody tr th {\n        vertical-align: top;\n    }\n\n    .dataframe thead th {\n        text-align: right;\n    }\n</style>\n<table border=\"1\" class=\"dataframe\">\n  <thead>\n    <tr style=\"text-align: right;\">\n      <th></th>\n      <th>chunks</th>\n      <th>entities</th>\n    </tr>\n  </thead>\n  <tbody>\n    <tr>\n      <th>0</th>\n      <td>1</td>\n      <td>DOSAGE</td>\n    </tr>\n    <tr>\n      <th>1</th>\n      <td>capsule</td>\n      <td>FORM</td>\n    </tr>\n    <tr>\n      <th>2</th>\n      <td>Parol</td>\n      <td>DRUG</td>\n    </tr>\n    <tr>\n      <th>3</th>\n      <td>with meals</td>\n      <td>FREQUENCY</td>\n    </tr>\n    <tr>\n      <th>4</th>\n      <td>40 units</td>\n      <td>DOSAGE</td>\n    </tr>\n    <tr>\n      <th>5</th>\n      <td>insulin glargine</td>\n      <td>DRUG</td>\n    </tr>\n    <tr>\n      <th>6</th>\n      <td>at night</td>\n      <td>FREQUENCY</td>\n    </tr>\n    <tr>\n      <th>7</th>\n      <td>12 units</td>\n      <td>DOSAGE</td>\n    </tr>\n    <tr>\n      <th>8</th>\n      <td>insulin lispro</td>\n      <td>DRUG</td>\n    </tr>\n    <tr>\n      <th>9</th>\n      <td>with meals</td>\n      <td>FREQUENCY</td>\n    </tr>\n    <tr>\n      <th>10</th>\n      <td>metformin</td>\n      <td>DRUG</td>\n    </tr>\n    <tr>\n      <th>11</th>\n      <td>1000 mg</td>\n      <td>STRENGTH</td>\n    </tr>\n    <tr>\n      <th>12</th>\n      <td>two times a day</td>\n      <td>FREQUENCY</td>\n    </tr>\n    <tr>\n      <th>13</th>\n      <td>SGLT2 inhibitors</td>\n      <td>DRUG</td>\n    </tr>\n  </tbody>\n</table>\n</div>",
       "datasetInfos": [],
       "removedWidgets": [],
       "textData": null,
       "type": "htmlSandbox"
      }
     },
     "output_type": "display_data"
    }
   ],
   "source": [
    "text ='The patient was prescribed 1 capsule of Parol with meals . He was seen by the endocrinology service and she was discharged on 40 units of insulin glargine at night , 12 units of insulin lispro with meals , and metformin 1000 mg two times a day . It was determined that all SGLT2 inhibitors should be discontinued indefinitely fro 3 months .'\n",
    "\n",
    "light_model = LightPipeline(posology_model)\n",
    "\n",
    "get_clinical_entities_light (light_model, text)"
   ]
  },
  {
   "cell_type": "markdown",
   "metadata": {
    "application/vnd.databricks.v1+cell": {
     "inputWidgets": {},
     "nuid": "c440e27c-9781-4671-b545-2633f4788207",
     "showTitle": false,
     "title": ""
    }
   },
   "source": [
    "## PHI NER"
   ]
  },
  {
   "cell_type": "code",
   "execution_count": 0,
   "metadata": {
    "application/vnd.databricks.v1+cell": {
     "inputWidgets": {},
     "nuid": "74a38c17-b6af-4510-80fa-ac03c574685f",
     "showTitle": false,
     "title": ""
    }
   },
   "outputs": [
    {
     "data": {
      "text/html": [
       "<style scoped>\n",
       "  .ansiout {\n",
       "    display: block;\n",
       "    unicode-bidi: embed;\n",
       "    white-space: pre-wrap;\n",
       "    word-wrap: break-word;\n",
       "    word-break: break-all;\n",
       "    font-family: \"Source Code Pro\", \"Menlo\", monospace;;\n",
       "    font-size: 13px;\n",
       "    color: #555;\n",
       "    margin-left: 4px;\n",
       "    line-height: 19px;\n",
       "  }\n",
       "</style>\n",
       "<div class=\"ansiout\">ner_deid_large download started this may take some time.\n",
       "Approximate size to download 14.1 MB\n",
       "\r",
       "[ | ]\r",
       "[ / ]\r",
       "[ — ]\r",
       "[OK!]\n",
       "embeddings_clinical download started this may take some time.\n",
       "Approximate size to download 1.6 GB\n",
       "\r",
       "[ | ]\r",
       "[OK!]\n",
       "</div>"
      ]
     },
     "metadata": {
      "application/vnd.databricks.v1+output": {
       "addedWidgets": {},
       "arguments": {},
       "data": "<div class=\"ansiout\">ner_deid_large download started this may take some time.\nApproximate size to download 14.1 MB\n\r[ | ]\r[ / ]\r[ — ]\r[OK!]\nembeddings_clinical download started this may take some time.\nApproximate size to download 1.6 GB\n\r[ | ]\r[OK!]\n</div>",
       "datasetInfos": [],
       "removedWidgets": [],
       "type": "html"
      }
     },
     "output_type": "display_data"
    }
   ],
   "source": [
    "embeddings = 'embeddings_clinical'\n",
    "\n",
    "model_name = 'ner_deid_large'\n",
    "\n",
    "# deidentify_dl\n",
    "# ner_deid_large\n",
    "\n",
    "nrows = 100\n",
    "\n",
    "ner_df = get_clinical_entities (embeddings, pubMedDF, nrows, model_name)\n",
    "\n",
    "pd_ner_df = ner_df.toPandas()"
   ]
  },
  {
   "cell_type": "code",
   "execution_count": 0,
   "metadata": {
    "application/vnd.databricks.v1+cell": {
     "inputWidgets": {},
     "nuid": "7c6f8351-8a98-494a-bc1d-779540319b0c",
     "showTitle": false,
     "title": ""
    }
   },
   "outputs": [
    {
     "data": {
      "text/html": [
       "<style scoped>\n",
       "  .ansiout {\n",
       "    display: block;\n",
       "    unicode-bidi: embed;\n",
       "    white-space: pre-wrap;\n",
       "    word-wrap: break-word;\n",
       "    word-break: break-all;\n",
       "    font-family: \"Source Code Pro\", \"Menlo\", monospace;;\n",
       "    font-size: 13px;\n",
       "    color: #555;\n",
       "    margin-left: 4px;\n",
       "    line-height: 19px;\n",
       "  }\n",
       "</style>\n",
       "<div class=\"ansiout\">Out[54]: </div>"
      ]
     },
     "metadata": {
      "application/vnd.databricks.v1+output": {
       "addedWidgets": {},
       "arguments": {},
       "data": "<div class=\"ansiout\">Out[54]: </div>",
       "datasetInfos": [],
       "removedWidgets": [],
       "type": "html"
      }
     },
     "output_type": "display_data"
    },
    {
     "data": {
      "text/html": [
       "<div>\n",
       "<style scoped>\n",
       "    .dataframe tbody tr th:only-of-type {\n",
       "        vertical-align: middle;\n",
       "    }\n",
       "\n",
       "    .dataframe tbody tr th {\n",
       "        vertical-align: top;\n",
       "    }\n",
       "\n",
       "    .dataframe thead th {\n",
       "        text-align: right;\n",
       "    }\n",
       "</style>\n",
       "<table border=\"1\" class=\"dataframe\">\n",
       "  <thead>\n",
       "    <tr style=\"text-align: right;\">\n",
       "      <th></th>\n",
       "      <th>id</th>\n",
       "      <th>sentence_id</th>\n",
       "      <th>chunk</th>\n",
       "      <th>begin</th>\n",
       "      <th>end</th>\n",
       "      <th>ner_label</th>\n",
       "    </tr>\n",
       "  </thead>\n",
       "  <tbody>\n",
       "    <tr>\n",
       "      <th>53</th>\n",
       "      <td>57</td>\n",
       "      <td>15</td>\n",
       "      <td>Korean</td>\n",
       "      <td>1826</td>\n",
       "      <td>1831</td>\n",
       "      <td>LOCATION</td>\n",
       "    </tr>\n",
       "    <tr>\n",
       "      <th>4</th>\n",
       "      <td>17</td>\n",
       "      <td>0</td>\n",
       "      <td>Yaqui Valley</td>\n",
       "      <td>203</td>\n",
       "      <td>214</td>\n",
       "      <td>LOCATION</td>\n",
       "    </tr>\n",
       "    <tr>\n",
       "      <th>18</th>\n",
       "      <td>24</td>\n",
       "      <td>8</td>\n",
       "      <td>Japanese</td>\n",
       "      <td>1337</td>\n",
       "      <td>1344</td>\n",
       "      <td>LOCATION</td>\n",
       "    </tr>\n",
       "    <tr>\n",
       "      <th>8</th>\n",
       "      <td>24</td>\n",
       "      <td>0</td>\n",
       "      <td>Sweden.One</td>\n",
       "      <td>152</td>\n",
       "      <td>161</td>\n",
       "      <td>LOCATION</td>\n",
       "    </tr>\n",
       "    <tr>\n",
       "      <th>35</th>\n",
       "      <td>44</td>\n",
       "      <td>2</td>\n",
       "      <td>Florence</td>\n",
       "      <td>353</td>\n",
       "      <td>360</td>\n",
       "      <td>LOCATION</td>\n",
       "    </tr>\n",
       "    <tr>\n",
       "      <th>36</th>\n",
       "      <td>44</td>\n",
       "      <td>2</td>\n",
       "      <td>Italy</td>\n",
       "      <td>363</td>\n",
       "      <td>367</td>\n",
       "      <td>LOCATION</td>\n",
       "    </tr>\n",
       "    <tr>\n",
       "      <th>54</th>\n",
       "      <td>57</td>\n",
       "      <td>15</td>\n",
       "      <td>Korea</td>\n",
       "      <td>1884</td>\n",
       "      <td>1888</td>\n",
       "      <td>LOCATION</td>\n",
       "    </tr>\n",
       "    <tr>\n",
       "      <th>33</th>\n",
       "      <td>44</td>\n",
       "      <td>2</td>\n",
       "      <td>1,002</td>\n",
       "      <td>302</td>\n",
       "      <td>306</td>\n",
       "      <td>DATE</td>\n",
       "    </tr>\n",
       "    <tr>\n",
       "      <th>14</th>\n",
       "      <td>24</td>\n",
       "      <td>6</td>\n",
       "      <td>Swedish students</td>\n",
       "      <td>1076</td>\n",
       "      <td>1091</td>\n",
       "      <td>LOCATION</td>\n",
       "    </tr>\n",
       "    <tr>\n",
       "      <th>82</th>\n",
       "      <td>96</td>\n",
       "      <td>8</td>\n",
       "      <td>UK</td>\n",
       "      <td>1005</td>\n",
       "      <td>1006</td>\n",
       "      <td>LOCATION</td>\n",
       "    </tr>\n",
       "    <tr>\n",
       "      <th>78</th>\n",
       "      <td>95</td>\n",
       "      <td>2</td>\n",
       "      <td>Beloin, S. Ayora, R. Exley,L.</td>\n",
       "      <td>281</td>\n",
       "      <td>309</td>\n",
       "      <td>NAME</td>\n",
       "    </tr>\n",
       "    <tr>\n",
       "      <th>10</th>\n",
       "      <td>24</td>\n",
       "      <td>0</td>\n",
       "      <td>Japanand</td>\n",
       "      <td>235</td>\n",
       "      <td>242</td>\n",
       "      <td>LOCATION</td>\n",
       "    </tr>\n",
       "    <tr>\n",
       "      <th>32</th>\n",
       "      <td>43</td>\n",
       "      <td>2</td>\n",
       "      <td>Forty-eight</td>\n",
       "      <td>262</td>\n",
       "      <td>272</td>\n",
       "      <td>AGE</td>\n",
       "    </tr>\n",
       "    <tr>\n",
       "      <th>22</th>\n",
       "      <td>27</td>\n",
       "      <td>0</td>\n",
       "      <td>Malaysia</td>\n",
       "      <td>172</td>\n",
       "      <td>179</td>\n",
       "      <td>LOCATION</td>\n",
       "    </tr>\n",
       "    <tr>\n",
       "      <th>25</th>\n",
       "      <td>27</td>\n",
       "      <td>6</td>\n",
       "      <td>KL city</td>\n",
       "      <td>884</td>\n",
       "      <td>890</td>\n",
       "      <td>LOCATION</td>\n",
       "    </tr>\n",
       "    <tr>\n",
       "      <th>7</th>\n",
       "      <td>24</td>\n",
       "      <td>0</td>\n",
       "      <td>Japan</td>\n",
       "      <td>142</td>\n",
       "      <td>146</td>\n",
       "      <td>LOCATION</td>\n",
       "    </tr>\n",
       "    <tr>\n",
       "      <th>12</th>\n",
       "      <td>24</td>\n",
       "      <td>0</td>\n",
       "      <td>Sweden</td>\n",
       "      <td>295</td>\n",
       "      <td>300</td>\n",
       "      <td>LOCATION</td>\n",
       "    </tr>\n",
       "    <tr>\n",
       "      <th>71</th>\n",
       "      <td>77</td>\n",
       "      <td>2</td>\n",
       "      <td>Florida</td>\n",
       "      <td>409</td>\n",
       "      <td>415</td>\n",
       "      <td>LOCATION</td>\n",
       "    </tr>\n",
       "    <tr>\n",
       "      <th>46</th>\n",
       "      <td>57</td>\n",
       "      <td>3</td>\n",
       "      <td>2007</td>\n",
       "      <td>381</td>\n",
       "      <td>384</td>\n",
       "      <td>DATE</td>\n",
       "    </tr>\n",
       "    <tr>\n",
       "      <th>73</th>\n",
       "      <td>79</td>\n",
       "      <td>15</td>\n",
       "      <td>28:137-143, 2009</td>\n",
       "      <td>710</td>\n",
       "      <td>725</td>\n",
       "      <td>DATE</td>\n",
       "    </tr>\n",
       "  </tbody>\n",
       "</table>\n",
       "</div>"
      ]
     },
     "metadata": {
      "application/vnd.databricks.v1+output": {
       "addedWidgets": {},
       "arguments": {},
       "data": "<div>\n<style scoped>\n    .dataframe tbody tr th:only-of-type {\n        vertical-align: middle;\n    }\n\n    .dataframe tbody tr th {\n        vertical-align: top;\n    }\n\n    .dataframe thead th {\n        text-align: right;\n    }\n</style>\n<table border=\"1\" class=\"dataframe\">\n  <thead>\n    <tr style=\"text-align: right;\">\n      <th></th>\n      <th>id</th>\n      <th>sentence_id</th>\n      <th>chunk</th>\n      <th>begin</th>\n      <th>end</th>\n      <th>ner_label</th>\n    </tr>\n  </thead>\n  <tbody>\n    <tr>\n      <th>53</th>\n      <td>57</td>\n      <td>15</td>\n      <td>Korean</td>\n      <td>1826</td>\n      <td>1831</td>\n      <td>LOCATION</td>\n    </tr>\n    <tr>\n      <th>4</th>\n      <td>17</td>\n      <td>0</td>\n      <td>Yaqui Valley</td>\n      <td>203</td>\n      <td>214</td>\n      <td>LOCATION</td>\n    </tr>\n    <tr>\n      <th>18</th>\n      <td>24</td>\n      <td>8</td>\n      <td>Japanese</td>\n      <td>1337</td>\n      <td>1344</td>\n      <td>LOCATION</td>\n    </tr>\n    <tr>\n      <th>8</th>\n      <td>24</td>\n      <td>0</td>\n      <td>Sweden.One</td>\n      <td>152</td>\n      <td>161</td>\n      <td>LOCATION</td>\n    </tr>\n    <tr>\n      <th>35</th>\n      <td>44</td>\n      <td>2</td>\n      <td>Florence</td>\n      <td>353</td>\n      <td>360</td>\n      <td>LOCATION</td>\n    </tr>\n    <tr>\n      <th>36</th>\n      <td>44</td>\n      <td>2</td>\n      <td>Italy</td>\n      <td>363</td>\n      <td>367</td>\n      <td>LOCATION</td>\n    </tr>\n    <tr>\n      <th>54</th>\n      <td>57</td>\n      <td>15</td>\n      <td>Korea</td>\n      <td>1884</td>\n      <td>1888</td>\n      <td>LOCATION</td>\n    </tr>\n    <tr>\n      <th>33</th>\n      <td>44</td>\n      <td>2</td>\n      <td>1,002</td>\n      <td>302</td>\n      <td>306</td>\n      <td>DATE</td>\n    </tr>\n    <tr>\n      <th>14</th>\n      <td>24</td>\n      <td>6</td>\n      <td>Swedish students</td>\n      <td>1076</td>\n      <td>1091</td>\n      <td>LOCATION</td>\n    </tr>\n    <tr>\n      <th>82</th>\n      <td>96</td>\n      <td>8</td>\n      <td>UK</td>\n      <td>1005</td>\n      <td>1006</td>\n      <td>LOCATION</td>\n    </tr>\n    <tr>\n      <th>78</th>\n      <td>95</td>\n      <td>2</td>\n      <td>Beloin, S. Ayora, R. Exley,L.</td>\n      <td>281</td>\n      <td>309</td>\n      <td>NAME</td>\n    </tr>\n    <tr>\n      <th>10</th>\n      <td>24</td>\n      <td>0</td>\n      <td>Japanand</td>\n      <td>235</td>\n      <td>242</td>\n      <td>LOCATION</td>\n    </tr>\n    <tr>\n      <th>32</th>\n      <td>43</td>\n      <td>2</td>\n      <td>Forty-eight</td>\n      <td>262</td>\n      <td>272</td>\n      <td>AGE</td>\n    </tr>\n    <tr>\n      <th>22</th>\n      <td>27</td>\n      <td>0</td>\n      <td>Malaysia</td>\n      <td>172</td>\n      <td>179</td>\n      <td>LOCATION</td>\n    </tr>\n    <tr>\n      <th>25</th>\n      <td>27</td>\n      <td>6</td>\n      <td>KL city</td>\n      <td>884</td>\n      <td>890</td>\n      <td>LOCATION</td>\n    </tr>\n    <tr>\n      <th>7</th>\n      <td>24</td>\n      <td>0</td>\n      <td>Japan</td>\n      <td>142</td>\n      <td>146</td>\n      <td>LOCATION</td>\n    </tr>\n    <tr>\n      <th>12</th>\n      <td>24</td>\n      <td>0</td>\n      <td>Sweden</td>\n      <td>295</td>\n      <td>300</td>\n      <td>LOCATION</td>\n    </tr>\n    <tr>\n      <th>71</th>\n      <td>77</td>\n      <td>2</td>\n      <td>Florida</td>\n      <td>409</td>\n      <td>415</td>\n      <td>LOCATION</td>\n    </tr>\n    <tr>\n      <th>46</th>\n      <td>57</td>\n      <td>3</td>\n      <td>2007</td>\n      <td>381</td>\n      <td>384</td>\n      <td>DATE</td>\n    </tr>\n    <tr>\n      <th>73</th>\n      <td>79</td>\n      <td>15</td>\n      <td>28:137-143, 2009</td>\n      <td>710</td>\n      <td>725</td>\n      <td>DATE</td>\n    </tr>\n  </tbody>\n</table>\n</div>",
       "datasetInfos": [],
       "removedWidgets": [],
       "textData": null,
       "type": "htmlSandbox"
      }
     },
     "output_type": "display_data"
    }
   ],
   "source": [
    "pd_ner_df.sample(20)"
   ]
  },
  {
   "cell_type": "code",
   "execution_count": 0,
   "metadata": {
    "application/vnd.databricks.v1+cell": {
     "inputWidgets": {},
     "nuid": "aa02ac63-790b-4001-ad7c-9eb2a79c1c5a",
     "showTitle": false,
     "title": ""
    }
   },
   "outputs": [
    {
     "data": {
      "text/html": [
       "<style scoped>\n",
       "  .ansiout {\n",
       "    display: block;\n",
       "    unicode-bidi: embed;\n",
       "    white-space: pre-wrap;\n",
       "    word-wrap: break-word;\n",
       "    word-break: break-all;\n",
       "    font-family: \"Source Code Pro\", \"Menlo\", monospace;;\n",
       "    font-size: 13px;\n",
       "    color: #555;\n",
       "    margin-left: 4px;\n",
       "    line-height: 19px;\n",
       "  }\n",
       "</style>\n",
       "<div class=\"ansiout\">Out[56]: LOCATION      54\n",
       "DATE          15\n",
       "NAME           7\n",
       "PROFESSION     4\n",
       "AGE            3\n",
       "Name: ner_label, dtype: int64</div>"
      ]
     },
     "metadata": {
      "application/vnd.databricks.v1+output": {
       "addedWidgets": {},
       "arguments": {},
       "data": "<div class=\"ansiout\">Out[56]: LOCATION      54\nDATE          15\nNAME           7\nPROFESSION     4\nAGE            3\nName: ner_label, dtype: int64</div>",
       "datasetInfos": [],
       "removedWidgets": [],
       "type": "html"
      }
     },
     "output_type": "display_data"
    }
   ],
   "source": [
    "pd_ner_df.ner_label.value_counts()"
   ]
  },
  {
   "cell_type": "markdown",
   "metadata": {
    "application/vnd.databricks.v1+cell": {
     "inputWidgets": {},
     "nuid": "7dc27c6b-7b15-4fe0-a54c-75d3c951e7a1",
     "showTitle": false,
     "title": ""
    }
   },
   "source": [
    "## BioNLP (Cancer Genetics) NER"
   ]
  },
  {
   "cell_type": "code",
   "execution_count": 0,
   "metadata": {
    "application/vnd.databricks.v1+cell": {
     "inputWidgets": {},
     "nuid": "d2478dc7-9c20-41bd-bf77-9014596c4129",
     "showTitle": false,
     "title": ""
    }
   },
   "outputs": [
    {
     "data": {
      "text/html": [
       "<style scoped>\n",
       "  .ansiout {\n",
       "    display: block;\n",
       "    unicode-bidi: embed;\n",
       "    white-space: pre-wrap;\n",
       "    word-wrap: break-word;\n",
       "    word-break: break-all;\n",
       "    font-family: \"Source Code Pro\", \"Menlo\", monospace;;\n",
       "    font-size: 13px;\n",
       "    color: #555;\n",
       "    margin-left: 4px;\n",
       "    line-height: 19px;\n",
       "  }\n",
       "</style>\n",
       "<div class=\"ansiout\">ner_bionlp download started this may take some time.\n",
       "Approximate size to download 13.9 MB\n",
       "\r",
       "[ | ]\r",
       "[ / ]\r",
       "[ — ]\r",
       "[OK!]\n",
       "embeddings_clinical download started this may take some time.\n",
       "Approximate size to download 1.6 GB\n",
       "\r",
       "[ | ]\r",
       "[OK!]\n",
       "+---+-----------+----------------------+-----+---+--------------------+\n",
       "id |sentence_id|chunk                 |begin|end|ner_label           |\n",
       "+---+-----------+----------------------+-----+---+--------------------+\n",
       "0  |0          |human                 |4    |8  |Organism            |\n",
       "0  |0          |Kir 3.3               |17   |23 |Gene_or_gene_product|\n",
       "0  |0          |GIRK3                 |26   |30 |Gene_or_gene_product|\n",
       "0  |0          |potassium             |92   |100|Simple_chemical     |\n",
       "0  |0          |GIRK                  |103  |106|Gene_or_gene_product|\n",
       "0  |1          |chromosome 1q21-23    |188  |205|Cellular_component  |\n",
       "0  |5          |pancreas              |697  |704|Organ               |\n",
       "0  |5          |tissues               |740  |746|Tissue              |\n",
       "0  |5          |fat andskeletal muscle|749  |770|Tissue              |\n",
       "0  |6          |KCNJ9                 |801  |805|Gene_or_gene_product|\n",
       "0  |6          |Type II               |940  |946|Gene_or_gene_product|\n",
       "1  |0          |breast cancer         |84   |96 |Cancer              |\n",
       "1  |0          |patients              |134  |141|Organism            |\n",
       "1  |0          |anthracyclines        |167  |180|Simple_chemical     |\n",
       "1  |0          |taxanes               |186  |192|Simple_chemical     |\n",
       "1  |1          |vinorelbine           |246  |256|Simple_chemical     |\n",
       "1  |1          |patients              |273  |280|Organism            |\n",
       "1  |1          |breast                |309  |314|Cancer              |\n",
       "1  |1          |vinorelbine inpatients|386  |407|Simple_chemical     |\n",
       "1  |1          |anthracyclines        |433  |446|Simple_chemical     |\n",
       "+---+-----------+----------------------+-----+---+--------------------+\n",
       "only showing top 20 rows\n",
       "\n",
       "</div>"
      ]
     },
     "metadata": {
      "application/vnd.databricks.v1+output": {
       "addedWidgets": {},
       "arguments": {},
       "data": "<div class=\"ansiout\">ner_bionlp download started this may take some time.\nApproximate size to download 13.9 MB\n\r[ | ]\r[ / ]\r[ — ]\r[OK!]\nembeddings_clinical download started this may take some time.\nApproximate size to download 1.6 GB\n\r[ | ]\r[OK!]\n+---+-----------+----------------------+-----+---+--------------------+\n|id |sentence_id|chunk                 |begin|end|ner_label           |\n+---+-----------+----------------------+-----+---+--------------------+\n|0  |0          |human                 |4    |8  |Organism            |\n|0  |0          |Kir 3.3               |17   |23 |Gene_or_gene_product|\n|0  |0          |GIRK3                 |26   |30 |Gene_or_gene_product|\n|0  |0          |potassium             |92   |100|Simple_chemical     |\n|0  |0          |GIRK                  |103  |106|Gene_or_gene_product|\n|0  |1          |chromosome 1q21-23    |188  |205|Cellular_component  |\n|0  |5          |pancreas              |697  |704|Organ               |\n|0  |5          |tissues               |740  |746|Tissue              |\n|0  |5          |fat andskeletal muscle|749  |770|Tissue              |\n|0  |6          |KCNJ9                 |801  |805|Gene_or_gene_product|\n|0  |6          |Type II               |940  |946|Gene_or_gene_product|\n|1  |0          |breast cancer         |84   |96 |Cancer              |\n|1  |0          |patients              |134  |141|Organism            |\n|1  |0          |anthracyclines        |167  |180|Simple_chemical     |\n|1  |0          |taxanes               |186  |192|Simple_chemical     |\n|1  |1          |vinorelbine           |246  |256|Simple_chemical     |\n|1  |1          |patients              |273  |280|Organism            |\n|1  |1          |breast                |309  |314|Cancer              |\n|1  |1          |vinorelbine inpatients|386  |407|Simple_chemical     |\n|1  |1          |anthracyclines        |433  |446|Simple_chemical     |\n+---+-----------+----------------------+-----+---+--------------------+\nonly showing top 20 rows\n\n</div>",
       "datasetInfos": [],
       "removedWidgets": [],
       "type": "html"
      }
     },
     "output_type": "display_data"
    }
   ],
   "source": [
    "embeddings = 'embeddings_clinical'\n",
    "\n",
    "model_name = 'ner_bionlp'\n",
    "\n",
    "nrows = 100\n",
    "\n",
    "ner_df = get_clinical_entities (embeddings, pubMedDF, nrows, model_name)\n",
    "\n",
    "ner_df.show(truncate = False)"
   ]
  },
  {
   "cell_type": "markdown",
   "metadata": {
    "application/vnd.databricks.v1+cell": {
     "inputWidgets": {},
     "nuid": "829e86fd-8255-48f2-b62d-453c91163b69",
     "showTitle": false,
     "title": ""
    }
   },
   "source": [
    "# NER Chunker\n",
    "We can extract phrases that fits into a known pattern using the NER tags. NerChunker would be quite handy to extract entity groups with neighboring tokens when there is no pretrained NER model to address certain issues. Lets say we want to extract clinical findings and body parts together as a single chunk even if there are some unwanted tokens between."
   ]
  },
  {
   "cell_type": "code",
   "execution_count": 0,
   "metadata": {
    "application/vnd.databricks.v1+cell": {
     "inputWidgets": {},
     "nuid": "2d5c4222-7e4b-4a1e-82ee-e4dd4c0afcb5",
     "showTitle": false,
     "title": ""
    }
   },
   "outputs": [
    {
     "data": {
      "text/html": [
       "<style scoped>\n",
       "  .ansiout {\n",
       "    display: block;\n",
       "    unicode-bidi: embed;\n",
       "    white-space: pre-wrap;\n",
       "    word-wrap: break-word;\n",
       "    word-break: break-all;\n",
       "    font-family: \"Source Code Pro\", \"Menlo\", monospace;;\n",
       "    font-size: 13px;\n",
       "    color: #555;\n",
       "    margin-left: 4px;\n",
       "    line-height: 19px;\n",
       "  }\n",
       "</style>\n",
       "<div class=\"ansiout\">ner_posology download started this may take some time.\n",
       "Approximate size to download 13.8 MB\n",
       "\r",
       "[ | ]\r",
       "[OK!]\n",
       "</div>"
      ]
     },
     "metadata": {
      "application/vnd.databricks.v1+output": {
       "addedWidgets": {},
       "arguments": {},
       "data": "<div class=\"ansiout\">ner_posology download started this may take some time.\nApproximate size to download 13.8 MB\n\r[ | ]\r[OK!]\n</div>",
       "datasetInfos": [],
       "removedWidgets": [],
       "type": "html"
      }
     },
     "output_type": "display_data"
    }
   ],
   "source": [
    "posology_ner = MedicalNerModel.pretrained(\"ner_posology\", \"en\", \"clinical/models\") \\\n",
    "    .setInputCols([\"sentence\", \"token\", \"embeddings\"]) \\\n",
    "    .setOutputCol(\"ner\")\n",
    "\n",
    "ner_chunker = NerChunker()\\\n",
    "    .setInputCols([\"sentence\",\"ner\"])\\\n",
    "    .setOutputCol(\"ner_chunk\")\\\n",
    "    .setRegexParsers([\"<DRUG>.*<FREQUENCY>\"])\n",
    "\n",
    "nlpPipeline = Pipeline(stages=[\n",
    "    documentAssembler, \n",
    "    sentenceDetector,\n",
    "    tokenizer,\n",
    "    word_embeddings,\n",
    "    posology_ner,\n",
    "    ner_chunker])\n",
    "\n",
    "empty_data = spark.createDataFrame([[\"\"]]).toDF(\"text\")\n",
    "\n",
    "ner_chunker_model = nlpPipeline.fit(empty_data)"
   ]
  },
  {
   "cell_type": "code",
   "execution_count": 0,
   "metadata": {
    "application/vnd.databricks.v1+cell": {
     "inputWidgets": {},
     "nuid": "739f4e3e-8151-4697-9bf7-77d08a8989fc",
     "showTitle": false,
     "title": ""
    }
   },
   "outputs": [
    {
     "data": {
      "text/html": [
       "<style scoped>\n",
       "  .ansiout {\n",
       "    display: block;\n",
       "    unicode-bidi: embed;\n",
       "    white-space: pre-wrap;\n",
       "    word-wrap: break-word;\n",
       "    word-break: break-all;\n",
       "    font-family: \"Source Code Pro\", \"Menlo\", monospace;;\n",
       "    font-size: 13px;\n",
       "    color: #555;\n",
       "    margin-left: 4px;\n",
       "    line-height: 19px;\n",
       "  }\n",
       "</style>\n",
       "<div class=\"ansiout\">Out[60]: [&#39;O&#39;,\n",
       " &#39;B-DOSAGE&#39;,\n",
       " &#39;B-STRENGTH&#39;,\n",
       " &#39;I-STRENGTH&#39;,\n",
       " &#39;B-ROUTE&#39;,\n",
       " &#39;B-FREQUENCY&#39;,\n",
       " &#39;I-FREQUENCY&#39;,\n",
       " &#39;B-DRUG&#39;,\n",
       " &#39;I-DRUG&#39;,\n",
       " &#39;B-FORM&#39;,\n",
       " &#39;I-DOSAGE&#39;,\n",
       " &#39;B-DURATION&#39;,\n",
       " &#39;I-DURATION&#39;,\n",
       " &#39;I-FORM&#39;,\n",
       " &#39;I-ROUTE&#39;]</div>"
      ]
     },
     "metadata": {
      "application/vnd.databricks.v1+output": {
       "addedWidgets": {},
       "arguments": {},
       "data": "<div class=\"ansiout\">Out[60]: [&#39;O&#39;,\n &#39;B-DOSAGE&#39;,\n &#39;B-STRENGTH&#39;,\n &#39;I-STRENGTH&#39;,\n &#39;B-ROUTE&#39;,\n &#39;B-FREQUENCY&#39;,\n &#39;I-FREQUENCY&#39;,\n &#39;B-DRUG&#39;,\n &#39;I-DRUG&#39;,\n &#39;B-FORM&#39;,\n &#39;I-DOSAGE&#39;,\n &#39;B-DURATION&#39;,\n &#39;I-DURATION&#39;,\n &#39;I-FORM&#39;,\n &#39;I-ROUTE&#39;]</div>",
       "datasetInfos": [],
       "removedWidgets": [],
       "type": "html"
      }
     },
     "output_type": "display_data"
    }
   ],
   "source": [
    "posology_ner.getClasses()"
   ]
  },
  {
   "cell_type": "code",
   "execution_count": 0,
   "metadata": {
    "application/vnd.databricks.v1+cell": {
     "inputWidgets": {},
     "nuid": "457e97d7-0fc5-43ef-ae89-95cf8cc1fd26",
     "showTitle": false,
     "title": ""
    }
   },
   "outputs": [
    {
     "data": {
      "text/html": [
       "<style scoped>\n",
       "  .ansiout {\n",
       "    display: block;\n",
       "    unicode-bidi: embed;\n",
       "    white-space: pre-wrap;\n",
       "    word-wrap: break-word;\n",
       "    word-break: break-all;\n",
       "    font-family: \"Source Code Pro\", \"Menlo\", monospace;;\n",
       "    font-size: 13px;\n",
       "    color: #555;\n",
       "    margin-left: 4px;\n",
       "    line-height: 19px;\n",
       "  }\n",
       "</style>\n",
       "<div class=\"ansiout\">Out[61]: [(&#39;The&#39;, &#39;O&#39;),\n",
       " (&#39;patient&#39;, &#39;O&#39;),\n",
       " (&#39;was&#39;, &#39;O&#39;),\n",
       " (&#39;prescribed&#39;, &#39;O&#39;),\n",
       " (&#39;1&#39;, &#39;B-DOSAGE&#39;),\n",
       " (&#39;capsule&#39;, &#39;B-FORM&#39;),\n",
       " (&#39;of&#39;, &#39;O&#39;),\n",
       " (&#39;Advil&#39;, &#39;B-DRUG&#39;),\n",
       " (&#39;for&#39;, &#39;B-DURATION&#39;),\n",
       " (&#39;5&#39;, &#39;I-DURATION&#39;),\n",
       " (&#39;days&#39;, &#39;I-DURATION&#39;),\n",
       " (&#39;.&#39;, &#39;O&#39;),\n",
       " (&#39;He&#39;, &#39;O&#39;),\n",
       " (&#39;was&#39;, &#39;O&#39;),\n",
       " (&#39;seen&#39;, &#39;O&#39;),\n",
       " (&#39;by&#39;, &#39;O&#39;),\n",
       " (&#39;the&#39;, &#39;O&#39;),\n",
       " (&#39;endocrinology&#39;, &#39;O&#39;),\n",
       " (&#39;service&#39;, &#39;O&#39;),\n",
       " (&#39;and&#39;, &#39;O&#39;),\n",
       " (&#39;she&#39;, &#39;O&#39;),\n",
       " (&#39;was&#39;, &#39;O&#39;),\n",
       " (&#39;discharged&#39;, &#39;O&#39;),\n",
       " (&#39;on&#39;, &#39;O&#39;),\n",
       " (&#39;40&#39;, &#39;B-DOSAGE&#39;),\n",
       " (&#39;units&#39;, &#39;I-DOSAGE&#39;),\n",
       " (&#39;of&#39;, &#39;O&#39;),\n",
       " (&#39;insulin&#39;, &#39;B-DRUG&#39;),\n",
       " (&#39;glargine&#39;, &#39;I-DRUG&#39;),\n",
       " (&#39;at&#39;, &#39;B-FREQUENCY&#39;),\n",
       " (&#39;night&#39;, &#39;I-FREQUENCY&#39;),\n",
       " (&#39;,&#39;, &#39;O&#39;),\n",
       " (&#39;12&#39;, &#39;B-DOSAGE&#39;),\n",
       " (&#39;units&#39;, &#39;I-DOSAGE&#39;),\n",
       " (&#39;of&#39;, &#39;O&#39;),\n",
       " (&#39;insulin&#39;, &#39;B-DRUG&#39;),\n",
       " (&#39;lispro&#39;, &#39;I-DRUG&#39;),\n",
       " (&#39;with&#39;, &#39;B-FREQUENCY&#39;),\n",
       " (&#39;meals&#39;, &#39;I-FREQUENCY&#39;),\n",
       " (&#39;,&#39;, &#39;O&#39;),\n",
       " (&#39;metformin&#39;, &#39;B-DRUG&#39;),\n",
       " (&#39;1000&#39;, &#39;B-STRENGTH&#39;),\n",
       " (&#39;mg&#39;, &#39;I-STRENGTH&#39;),\n",
       " (&#39;two&#39;, &#39;B-FREQUENCY&#39;),\n",
       " (&#39;times&#39;, &#39;I-FREQUENCY&#39;),\n",
       " (&#39;a&#39;, &#39;I-FREQUENCY&#39;),\n",
       " (&#39;day&#39;, &#39;I-FREQUENCY&#39;),\n",
       " (&#39;.&#39;, &#39;O&#39;),\n",
       " (&#39;It&#39;, &#39;O&#39;),\n",
       " (&#39;was&#39;, &#39;O&#39;),\n",
       " (&#39;determined&#39;, &#39;O&#39;),\n",
       " (&#39;that&#39;, &#39;O&#39;),\n",
       " (&#39;all&#39;, &#39;O&#39;),\n",
       " (&#39;SGLT2&#39;, &#39;B-DRUG&#39;),\n",
       " (&#39;inhibitors&#39;, &#39;I-DRUG&#39;),\n",
       " (&#39;should&#39;, &#39;O&#39;),\n",
       " (&#39;be&#39;, &#39;O&#39;),\n",
       " (&#39;discontinued&#39;, &#39;O&#39;),\n",
       " (&#39;indefinitely&#39;, &#39;O&#39;),\n",
       " (&#39;fro&#39;, &#39;O&#39;),\n",
       " (&#39;3&#39;, &#39;O&#39;),\n",
       " (&#39;months&#39;, &#39;O&#39;),\n",
       " (&#39;.&#39;, &#39;O&#39;)]</div>"
      ]
     },
     "metadata": {
      "application/vnd.databricks.v1+output": {
       "addedWidgets": {},
       "arguments": {},
       "data": "<div class=\"ansiout\">Out[61]: [(&#39;The&#39;, &#39;O&#39;),\n (&#39;patient&#39;, &#39;O&#39;),\n (&#39;was&#39;, &#39;O&#39;),\n (&#39;prescribed&#39;, &#39;O&#39;),\n (&#39;1&#39;, &#39;B-DOSAGE&#39;),\n (&#39;capsule&#39;, &#39;B-FORM&#39;),\n (&#39;of&#39;, &#39;O&#39;),\n (&#39;Advil&#39;, &#39;B-DRUG&#39;),\n (&#39;for&#39;, &#39;B-DURATION&#39;),\n (&#39;5&#39;, &#39;I-DURATION&#39;),\n (&#39;days&#39;, &#39;I-DURATION&#39;),\n (&#39;.&#39;, &#39;O&#39;),\n (&#39;He&#39;, &#39;O&#39;),\n (&#39;was&#39;, &#39;O&#39;),\n (&#39;seen&#39;, &#39;O&#39;),\n (&#39;by&#39;, &#39;O&#39;),\n (&#39;the&#39;, &#39;O&#39;),\n (&#39;endocrinology&#39;, &#39;O&#39;),\n (&#39;service&#39;, &#39;O&#39;),\n (&#39;and&#39;, &#39;O&#39;),\n (&#39;she&#39;, &#39;O&#39;),\n (&#39;was&#39;, &#39;O&#39;),\n (&#39;discharged&#39;, &#39;O&#39;),\n (&#39;on&#39;, &#39;O&#39;),\n (&#39;40&#39;, &#39;B-DOSAGE&#39;),\n (&#39;units&#39;, &#39;I-DOSAGE&#39;),\n (&#39;of&#39;, &#39;O&#39;),\n (&#39;insulin&#39;, &#39;B-DRUG&#39;),\n (&#39;glargine&#39;, &#39;I-DRUG&#39;),\n (&#39;at&#39;, &#39;B-FREQUENCY&#39;),\n (&#39;night&#39;, &#39;I-FREQUENCY&#39;),\n (&#39;,&#39;, &#39;O&#39;),\n (&#39;12&#39;, &#39;B-DOSAGE&#39;),\n (&#39;units&#39;, &#39;I-DOSAGE&#39;),\n (&#39;of&#39;, &#39;O&#39;),\n (&#39;insulin&#39;, &#39;B-DRUG&#39;),\n (&#39;lispro&#39;, &#39;I-DRUG&#39;),\n (&#39;with&#39;, &#39;B-FREQUENCY&#39;),\n (&#39;meals&#39;, &#39;I-FREQUENCY&#39;),\n (&#39;,&#39;, &#39;O&#39;),\n (&#39;metformin&#39;, &#39;B-DRUG&#39;),\n (&#39;1000&#39;, &#39;B-STRENGTH&#39;),\n (&#39;mg&#39;, &#39;I-STRENGTH&#39;),\n (&#39;two&#39;, &#39;B-FREQUENCY&#39;),\n (&#39;times&#39;, &#39;I-FREQUENCY&#39;),\n (&#39;a&#39;, &#39;I-FREQUENCY&#39;),\n (&#39;day&#39;, &#39;I-FREQUENCY&#39;),\n (&#39;.&#39;, &#39;O&#39;),\n (&#39;It&#39;, &#39;O&#39;),\n (&#39;was&#39;, &#39;O&#39;),\n (&#39;determined&#39;, &#39;O&#39;),\n (&#39;that&#39;, &#39;O&#39;),\n (&#39;all&#39;, &#39;O&#39;),\n (&#39;SGLT2&#39;, &#39;B-DRUG&#39;),\n (&#39;inhibitors&#39;, &#39;I-DRUG&#39;),\n (&#39;should&#39;, &#39;O&#39;),\n (&#39;be&#39;, &#39;O&#39;),\n (&#39;discontinued&#39;, &#39;O&#39;),\n (&#39;indefinitely&#39;, &#39;O&#39;),\n (&#39;fro&#39;, &#39;O&#39;),\n (&#39;3&#39;, &#39;O&#39;),\n (&#39;months&#39;, &#39;O&#39;),\n (&#39;.&#39;, &#39;O&#39;)]</div>",
       "datasetInfos": [],
       "removedWidgets": [],
       "type": "html"
      }
     },
     "output_type": "display_data"
    }
   ],
   "source": [
    "light_model = LightPipeline(ner_chunker_model)\n",
    "\n",
    "text ='The patient was prescribed 1 capsule of Advil for 5 days . He was seen by the endocrinology service and she was discharged on 40 units of insulin glargine at night , 12 units of insulin lispro with meals , metformin 1000 mg two times a day . It was determined that all SGLT2 inhibitors should be discontinued indefinitely fro 3 months .'\n",
    "\n",
    "light_result = light_model.annotate(text)\n",
    "\n",
    "list(zip(light_result['token'], light_result['ner']))"
   ]
  },
  {
   "cell_type": "code",
   "execution_count": 0,
   "metadata": {
    "application/vnd.databricks.v1+cell": {
     "inputWidgets": {},
     "nuid": "455500e0-2c25-4b90-980b-28181025195e",
     "showTitle": false,
     "title": ""
    }
   },
   "outputs": [
    {
     "data": {
      "text/html": [
       "<style scoped>\n",
       "  .ansiout {\n",
       "    display: block;\n",
       "    unicode-bidi: embed;\n",
       "    white-space: pre-wrap;\n",
       "    word-wrap: break-word;\n",
       "    word-break: break-all;\n",
       "    font-family: \"Source Code Pro\", \"Menlo\", monospace;;\n",
       "    font-size: 13px;\n",
       "    color: #555;\n",
       "    margin-left: 4px;\n",
       "    line-height: 19px;\n",
       "  }\n",
       "</style>\n",
       "<div class=\"ansiout\">Out[62]: [&#39;insulin glargine at night , 12 units of insulin lispro with meals , metformin 1000 mg two times a day&#39;]</div>"
      ]
     },
     "metadata": {
      "application/vnd.databricks.v1+output": {
       "addedWidgets": {},
       "arguments": {},
       "data": "<div class=\"ansiout\">Out[62]: [&#39;insulin glargine at night , 12 units of insulin lispro with meals , metformin 1000 mg two times a day&#39;]</div>",
       "datasetInfos": [],
       "removedWidgets": [],
       "type": "html"
      }
     },
     "output_type": "display_data"
    }
   ],
   "source": [
    "light_result[\"ner_chunk\"]"
   ]
  },
  {
   "cell_type": "markdown",
   "metadata": {
    "application/vnd.databricks.v1+cell": {
     "inputWidgets": {},
     "nuid": "9c38e21e-86bc-4666-a7a7-c6c17e0ce94b",
     "showTitle": false,
     "title": ""
    }
   },
   "source": [
    "#Chunk Filterer\n",
    "ChunkFilterer will allow you to filter out named entities by some conditions or predefined look-up lists, so that you can feed these entities to other annotators like Assertion Status or Entity Resolvers. It can be used with two criteria: isin and regex."
   ]
  },
  {
   "cell_type": "code",
   "execution_count": 0,
   "metadata": {
    "application/vnd.databricks.v1+cell": {
     "inputWidgets": {},
     "nuid": "ce636d1f-7cd4-45af-8c16-80be5cb533a3",
     "showTitle": false,
     "title": ""
    }
   },
   "outputs": [
    {
     "data": {
      "text/html": [
       "<style scoped>\n",
       "  .ansiout {\n",
       "    display: block;\n",
       "    unicode-bidi: embed;\n",
       "    white-space: pre-wrap;\n",
       "    word-wrap: break-word;\n",
       "    word-break: break-all;\n",
       "    font-family: \"Source Code Pro\", \"Menlo\", monospace;;\n",
       "    font-size: 13px;\n",
       "    color: #555;\n",
       "    margin-left: 4px;\n",
       "    line-height: 19px;\n",
       "  }\n",
       "</style>\n",
       "<div class=\"ansiout\">ner_posology download started this may take some time.\n",
       "Approximate size to download 13.8 MB\n",
       "\r",
       "[ | ]\r",
       "[OK!]\n",
       "</div>"
      ]
     },
     "metadata": {
      "application/vnd.databricks.v1+output": {
       "addedWidgets": {},
       "arguments": {},
       "data": "<div class=\"ansiout\">ner_posology download started this may take some time.\nApproximate size to download 13.8 MB\n\r[ | ]\r[OK!]\n</div>",
       "datasetInfos": [],
       "removedWidgets": [],
       "type": "html"
      }
     },
     "output_type": "display_data"
    }
   ],
   "source": [
    "posology_ner = MedicalNerModel.pretrained(\"ner_posology\", \"en\", \"clinical/models\") \\\n",
    "      .setInputCols([\"sentence\", \"token\", \"embeddings\"]) \\\n",
    "      .setOutputCol(\"ner\")\n",
    "\n",
    "ner_converter = NerConverter()\\\n",
    "      .setInputCols([\"sentence\",\"token\",\"ner\"])\\\n",
    "      .setOutputCol(\"ner_chunk\")\n",
    "      \n",
    "chunk_filterer = ChunkFilterer()\\\n",
    "      .setInputCols(\"sentence\",\"ner_chunk\")\\\n",
    "      .setOutputCol(\"chunk_filtered\")\\\n",
    "      .setCriteria(\"isin\")\\\n",
    "      .setWhiteList(['Advil','metformin', 'insulin lispro'])\n",
    "\n",
    "nlpPipeline = Pipeline(stages=[\n",
    "    documentAssembler, \n",
    "    sentenceDetector,\n",
    "    tokenizer,\n",
    "    word_embeddings,\n",
    "    posology_ner,\n",
    "    ner_converter,\n",
    "    chunk_filterer])\n",
    "\n",
    "empty_data = spark.createDataFrame([[\"\"]]).toDF(\"text\")\n",
    "\n",
    "chunk_filter_model = nlpPipeline.fit(empty_data)"
   ]
  },
  {
   "cell_type": "code",
   "execution_count": 0,
   "metadata": {
    "application/vnd.databricks.v1+cell": {
     "inputWidgets": {},
     "nuid": "bd3ebc5c-5893-4bf2-b3f2-920f4e0faa4f",
     "showTitle": false,
     "title": ""
    }
   },
   "outputs": [
    {
     "data": {
      "text/html": [
       "<style scoped>\n",
       "  .ansiout {\n",
       "    display: block;\n",
       "    unicode-bidi: embed;\n",
       "    white-space: pre-wrap;\n",
       "    word-wrap: break-word;\n",
       "    word-break: break-all;\n",
       "    font-family: \"Source Code Pro\", \"Menlo\", monospace;;\n",
       "    font-size: 13px;\n",
       "    color: #555;\n",
       "    margin-left: 4px;\n",
       "    line-height: 19px;\n",
       "  }\n",
       "</style>\n",
       "<div class=\"ansiout\">Out[64]: dict_keys([&#39;document&#39;, &#39;ner_chunk&#39;, &#39;chunk_filtered&#39;, &#39;token&#39;, &#39;ner&#39;, &#39;embeddings&#39;, &#39;sentence&#39;])</div>"
      ]
     },
     "metadata": {
      "application/vnd.databricks.v1+output": {
       "addedWidgets": {},
       "arguments": {},
       "data": "<div class=\"ansiout\">Out[64]: dict_keys([&#39;document&#39;, &#39;ner_chunk&#39;, &#39;chunk_filtered&#39;, &#39;token&#39;, &#39;ner&#39;, &#39;embeddings&#39;, &#39;sentence&#39;])</div>",
       "datasetInfos": [],
       "removedWidgets": [],
       "type": "html"
      }
     },
     "output_type": "display_data"
    }
   ],
   "source": [
    "light_model = LightPipeline(chunk_filter_model)\n",
    "\n",
    "text ='The patient was prescribed 1 capsule of Advil for 5 days . He was seen by the endocrinology service and she was discharged on 40 units of insulin glargine at night , 12 units of insulin lispro with meals , metformin 1000 mg two times a day . It was determined that all SGLT2 inhibitors should be discontinued indefinitely fro 3 months .'\n",
    "\n",
    "light_result = light_model.annotate(text)\n",
    "\n",
    "light_result.keys()"
   ]
  },
  {
   "cell_type": "code",
   "execution_count": 0,
   "metadata": {
    "application/vnd.databricks.v1+cell": {
     "inputWidgets": {},
     "nuid": "b03f3fb1-ec01-4917-9536-b3c58f530603",
     "showTitle": false,
     "title": ""
    }
   },
   "outputs": [
    {
     "data": {
      "text/html": [
       "<style scoped>\n",
       "  .ansiout {\n",
       "    display: block;\n",
       "    unicode-bidi: embed;\n",
       "    white-space: pre-wrap;\n",
       "    word-wrap: break-word;\n",
       "    word-break: break-all;\n",
       "    font-family: \"Source Code Pro\", \"Menlo\", monospace;;\n",
       "    font-size: 13px;\n",
       "    color: #555;\n",
       "    margin-left: 4px;\n",
       "    line-height: 19px;\n",
       "  }\n",
       "</style>\n",
       "<div class=\"ansiout\">Out[65]: [&#39;1&#39;,\n",
       " &#39;capsule&#39;,\n",
       " &#39;Advil&#39;,\n",
       " &#39;for 5 days&#39;,\n",
       " &#39;40 units&#39;,\n",
       " &#39;insulin glargine&#39;,\n",
       " &#39;at night&#39;,\n",
       " &#39;12 units&#39;,\n",
       " &#39;insulin lispro&#39;,\n",
       " &#39;with meals&#39;,\n",
       " &#39;metformin&#39;,\n",
       " &#39;1000 mg&#39;,\n",
       " &#39;two times a day&#39;,\n",
       " &#39;SGLT2 inhibitors&#39;]</div>"
      ]
     },
     "metadata": {
      "application/vnd.databricks.v1+output": {
       "addedWidgets": {},
       "arguments": {},
       "data": "<div class=\"ansiout\">Out[65]: [&#39;1&#39;,\n &#39;capsule&#39;,\n &#39;Advil&#39;,\n &#39;for 5 days&#39;,\n &#39;40 units&#39;,\n &#39;insulin glargine&#39;,\n &#39;at night&#39;,\n &#39;12 units&#39;,\n &#39;insulin lispro&#39;,\n &#39;with meals&#39;,\n &#39;metformin&#39;,\n &#39;1000 mg&#39;,\n &#39;two times a day&#39;,\n &#39;SGLT2 inhibitors&#39;]</div>",
       "datasetInfos": [],
       "removedWidgets": [],
       "type": "html"
      }
     },
     "output_type": "display_data"
    }
   ],
   "source": [
    "light_result['ner_chunk'] "
   ]
  },
  {
   "cell_type": "code",
   "execution_count": 0,
   "metadata": {
    "application/vnd.databricks.v1+cell": {
     "inputWidgets": {},
     "nuid": "acbfe607-af86-4183-b382-940fd8d7f646",
     "showTitle": false,
     "title": ""
    }
   },
   "outputs": [
    {
     "data": {
      "text/html": [
       "<style scoped>\n",
       "  .ansiout {\n",
       "    display: block;\n",
       "    unicode-bidi: embed;\n",
       "    white-space: pre-wrap;\n",
       "    word-wrap: break-word;\n",
       "    word-break: break-all;\n",
       "    font-family: \"Source Code Pro\", \"Menlo\", monospace;;\n",
       "    font-size: 13px;\n",
       "    color: #555;\n",
       "    margin-left: 4px;\n",
       "    line-height: 19px;\n",
       "  }\n",
       "</style>\n",
       "<div class=\"ansiout\">Out[66]: [&#39;Advil&#39;, &#39;insulin lispro&#39;, &#39;metformin&#39;]</div>"
      ]
     },
     "metadata": {
      "application/vnd.databricks.v1+output": {
       "addedWidgets": {},
       "arguments": {},
       "data": "<div class=\"ansiout\">Out[66]: [&#39;Advil&#39;, &#39;insulin lispro&#39;, &#39;metformin&#39;]</div>",
       "datasetInfos": [],
       "removedWidgets": [],
       "type": "html"
      }
     },
     "output_type": "display_data"
    }
   ],
   "source": [
    "light_result[\"chunk_filtered\"]"
   ]
  },
  {
   "cell_type": "code",
   "execution_count": 0,
   "metadata": {
    "application/vnd.databricks.v1+cell": {
     "inputWidgets": {},
     "nuid": "55ea3fd0-594d-4279-bc58-e8d1fcf3c753",
     "showTitle": false,
     "title": ""
    }
   },
   "outputs": [
    {
     "data": {
      "text/html": [
       "<style scoped>\n",
       "  .ansiout {\n",
       "    display: block;\n",
       "    unicode-bidi: embed;\n",
       "    white-space: pre-wrap;\n",
       "    word-wrap: break-word;\n",
       "    word-break: break-all;\n",
       "    font-family: \"Source Code Pro\", \"Menlo\", monospace;;\n",
       "    font-size: 13px;\n",
       "    color: #555;\n",
       "    margin-left: 4px;\n",
       "    line-height: 19px;\n",
       "  }\n",
       "</style>\n",
       "<div class=\"ansiout\">ner_clinical download started this may take some time.\n",
       "Approximate size to download 13.9 MB\n",
       "\r",
       "[ | ]\r",
       "[OK!]\n",
       "</div>"
      ]
     },
     "metadata": {
      "application/vnd.databricks.v1+output": {
       "addedWidgets": {},
       "arguments": {},
       "data": "<div class=\"ansiout\">ner_clinical download started this may take some time.\nApproximate size to download 13.9 MB\n\r[ | ]\r[OK!]\n</div>",
       "datasetInfos": [],
       "removedWidgets": [],
       "type": "html"
      }
     },
     "output_type": "display_data"
    }
   ],
   "source": [
    "ner_model = MedicalNerModel.pretrained(\"ner_clinical\", \"en\", \"clinical/models\")\\\n",
    "      .setInputCols(\"sentence\",\"token\",\"embeddings\")\\\n",
    "      .setOutputCol(\"ner\")\n",
    "      \n",
    "chunk_filterer = ChunkFilterer()\\\n",
    "      .setInputCols(\"sentence\",\"ner_chunk\")\\\n",
    "      .setOutputCol(\"chunk_filtered\")\\\n",
    "      .setCriteria(\"isin\")\\\n",
    "      .setWhiteList(['severe fever','sore throat'])\n",
    "\n",
    "nlpPipeline = Pipeline(stages=[\n",
    "    documentAssembler, \n",
    "    sentenceDetector,\n",
    "    tokenizer,\n",
    "    word_embeddings,\n",
    "    ner_model,\n",
    "    ner_converter,\n",
    "    chunk_filterer])\n",
    "\n",
    "empty_data = spark.createDataFrame([[\"\"]]).toDF(\"text\")\n",
    "\n",
    "chunk_filter_model = nlpPipeline.fit(empty_data)"
   ]
  },
  {
   "cell_type": "code",
   "execution_count": 0,
   "metadata": {
    "application/vnd.databricks.v1+cell": {
     "inputWidgets": {},
     "nuid": "1e2935d4-ba38-4fb2-954a-4a6ee95aca3e",
     "showTitle": false,
     "title": ""
    }
   },
   "outputs": [
    {
     "data": {
      "text/html": [
       "<style scoped>\n",
       "  .ansiout {\n",
       "    display: block;\n",
       "    unicode-bidi: embed;\n",
       "    white-space: pre-wrap;\n",
       "    word-wrap: break-word;\n",
       "    word-break: break-all;\n",
       "    font-family: \"Source Code Pro\", \"Menlo\", monospace;;\n",
       "    font-size: 13px;\n",
       "    color: #555;\n",
       "    margin-left: 4px;\n",
       "    line-height: 19px;\n",
       "  }\n",
       "</style>\n",
       "<div class=\"ansiout\"></div>"
      ]
     },
     "metadata": {
      "application/vnd.databricks.v1+output": {
       "addedWidgets": {},
       "arguments": {},
       "data": "<div class=\"ansiout\"></div>",
       "datasetInfos": [],
       "removedWidgets": [],
       "type": "html"
      }
     },
     "output_type": "display_data"
    }
   ],
   "source": [
    "text = 'Patient with severe fever, severe cough, sore throat, stomach pain, and a headache.'\n",
    "\n",
    "filter_df = spark.createDataFrame([[text]]).toDF('text')\n",
    "\n",
    "chunk_filter_result = chunk_filter_model.transform(filter_df)"
   ]
  },
  {
   "cell_type": "code",
   "execution_count": 0,
   "metadata": {
    "application/vnd.databricks.v1+cell": {
     "inputWidgets": {},
     "nuid": "76098683-4f06-487a-b764-b9eafde42f58",
     "showTitle": false,
     "title": ""
    }
   },
   "outputs": [
    {
     "data": {
      "text/html": [
       "<style scoped>\n",
       "  .ansiout {\n",
       "    display: block;\n",
       "    unicode-bidi: embed;\n",
       "    white-space: pre-wrap;\n",
       "    word-wrap: break-word;\n",
       "    word-break: break-all;\n",
       "    font-family: \"Source Code Pro\", \"Menlo\", monospace;;\n",
       "    font-size: 13px;\n",
       "    color: #555;\n",
       "    margin-left: 4px;\n",
       "    line-height: 19px;\n",
       "  }\n",
       "</style>\n",
       "<div class=\"ansiout\">+-------------------------------------------------------------------+---------------------------+\n",
       "result                                                             |result                     |\n",
       "+-------------------------------------------------------------------+---------------------------+\n",
       "[severe fever, severe cough, sore throat, stomach pain, a headache]|[severe fever, sore throat]|\n",
       "+-------------------------------------------------------------------+---------------------------+\n",
       "\n",
       "</div>"
      ]
     },
     "metadata": {
      "application/vnd.databricks.v1+output": {
       "addedWidgets": {},
       "arguments": {},
       "data": "<div class=\"ansiout\">+-------------------------------------------------------------------+---------------------------+\n|result                                                             |result                     |\n+-------------------------------------------------------------------+---------------------------+\n|[severe fever, severe cough, sore throat, stomach pain, a headache]|[severe fever, sore throat]|\n+-------------------------------------------------------------------+---------------------------+\n\n</div>",
       "datasetInfos": [],
       "removedWidgets": [],
       "type": "html"
      }
     },
     "output_type": "display_data"
    }
   ],
   "source": [
    "chunk_filter_result.select('ner_chunk.result', 'chunk_filtered.result').show(truncate=False)"
   ]
  },
  {
   "cell_type": "markdown",
   "metadata": {
    "application/vnd.databricks.v1+cell": {
     "inputWidgets": {},
     "nuid": "f14c82b8-66fd-4900-856e-90624089c119",
     "showTitle": false,
     "title": ""
    }
   },
   "source": [
    "## Training a Clinical NER (NCBI Disease Dataset)"
   ]
  },
  {
   "cell_type": "code",
   "execution_count": 0,
   "metadata": {
    "application/vnd.databricks.v1+cell": {
     "inputWidgets": {},
     "nuid": "4a2fdf79-45a0-4ece-adef-6c68f8f5f339",
     "showTitle": false,
     "title": ""
    }
   },
   "outputs": [
    {
     "data": {
      "text/html": [
       "<style scoped>\n",
       "  .ansiout {\n",
       "    display: block;\n",
       "    unicode-bidi: embed;\n",
       "    white-space: pre-wrap;\n",
       "    word-wrap: break-word;\n",
       "    word-break: break-all;\n",
       "    font-family: \"Source Code Pro\", \"Menlo\", monospace;;\n",
       "    font-size: 13px;\n",
       "    color: #555;\n",
       "    margin-left: 4px;\n",
       "    line-height: 19px;\n",
       "  }\n",
       "</style>\n",
       "<div class=\"ansiout\">Out[85]: True</div>"
      ]
     },
     "metadata": {
      "application/vnd.databricks.v1+output": {
       "addedWidgets": {},
       "arguments": {},
       "data": "<div class=\"ansiout\">Out[85]: True</div>",
       "datasetInfos": [],
       "removedWidgets": [],
       "type": "html"
      }
     },
     "output_type": "display_data"
    }
   ],
   "source": [
    "!wget -q https://raw.githubusercontent.com/JohnSnowLabs/spark-nlp-workshop/master/tutorials/Certification_Trainings/Healthcare/data/NER_NCBIconlltrain.txt\n",
    "!wget -q https://raw.githubusercontent.com/JohnSnowLabs/spark-nlp-workshop/master/tutorials/Certification_Trainings/Healthcare/data/NER_NCBIconlltest.txt\n",
    "  \n",
    "dbutils.fs.cp(\"file:/databricks/driver/NER_NCBIconlltest.txt\", \"dbfs:/\")\n",
    "dbutils.fs.cp(\"file:/databricks/driver/NER_NCBIconlltrain.txt\", \"dbfs:/\")"
   ]
  },
  {
   "cell_type": "code",
   "execution_count": 0,
   "metadata": {
    "application/vnd.databricks.v1+cell": {
     "inputWidgets": {},
     "nuid": "0ed550e4-daa2-486a-9f31-3b93ab76e240",
     "showTitle": false,
     "title": ""
    }
   },
   "outputs": [
    {
     "data": {
      "text/html": [
       "<style scoped>\n",
       "  .ansiout {\n",
       "    display: block;\n",
       "    unicode-bidi: embed;\n",
       "    white-space: pre-wrap;\n",
       "    word-wrap: break-word;\n",
       "    word-break: break-all;\n",
       "    font-family: \"Source Code Pro\", \"Menlo\", monospace;;\n",
       "    font-size: 13px;\n",
       "    color: #555;\n",
       "    margin-left: 4px;\n",
       "    line-height: 19px;\n",
       "  }\n",
       "</style>\n",
       "<div class=\"ansiout\">+--------------------+--------------------+--------------------+--------------------+--------------------+--------------------+\n",
       "                text|            document|            sentence|               token|                 pos|               label|\n",
       "+--------------------+--------------------+--------------------+--------------------+--------------------+--------------------+\n",
       "Identification of...|[[document, 0, 89...|[[document, 0, 89...|[[token, 0, 13, I...|[[pos, 0, 13, NN,...|[[named_entity, 0...|\n",
       "The adenomatous p...|[[document, 0, 21...|[[document, 0, 21...|[[token, 0, 2, Th...|[[pos, 0, 2, NN, ...|[[named_entity, 0...|\n",
       "Complex formation...|[[document, 0, 63...|[[document, 0, 63...|[[token, 0, 6, Co...|[[pos, 0, 6, NN, ...|[[named_entity, 0...|\n",
       "+--------------------+--------------------+--------------------+--------------------+--------------------+--------------------+\n",
       "only showing top 3 rows\n",
       "\n",
       "</div>"
      ]
     },
     "metadata": {
      "application/vnd.databricks.v1+output": {
       "addedWidgets": {},
       "arguments": {},
       "data": "<div class=\"ansiout\">+--------------------+--------------------+--------------------+--------------------+--------------------+--------------------+\n|                text|            document|            sentence|               token|                 pos|               label|\n+--------------------+--------------------+--------------------+--------------------+--------------------+--------------------+\n|Identification of...|[[document, 0, 89...|[[document, 0, 89...|[[token, 0, 13, I...|[[pos, 0, 13, NN,...|[[named_entity, 0...|\n|The adenomatous p...|[[document, 0, 21...|[[document, 0, 21...|[[token, 0, 2, Th...|[[pos, 0, 2, NN, ...|[[named_entity, 0...|\n|Complex formation...|[[document, 0, 63...|[[document, 0, 63...|[[token, 0, 6, Co...|[[pos, 0, 6, NN, ...|[[named_entity, 0...|\n+--------------------+--------------------+--------------------+--------------------+--------------------+--------------------+\nonly showing top 3 rows\n\n</div>",
       "datasetInfos": [],
       "removedWidgets": [],
       "type": "html"
      }
     },
     "output_type": "display_data"
    }
   ],
   "source": [
    "from sparknlp.training import CoNLL\n",
    "\n",
    "conll_data = CoNLL().readDataset(spark, 'file:/databricks/driver/NER_NCBIconlltrain.txt')\n",
    "\n",
    "conll_data.show(3)"
   ]
  },
  {
   "cell_type": "code",
   "execution_count": 0,
   "metadata": {
    "application/vnd.databricks.v1+cell": {
     "inputWidgets": {},
     "nuid": "58e4d47f-88dd-4e36-9bab-03a9708b7c8e",
     "showTitle": false,
     "title": ""
    }
   },
   "outputs": [
    {
     "data": {
      "text/html": [
       "<style scoped>\n",
       "  .ansiout {\n",
       "    display: block;\n",
       "    unicode-bidi: embed;\n",
       "    white-space: pre-wrap;\n",
       "    word-wrap: break-word;\n",
       "    word-break: break-all;\n",
       "    font-family: \"Source Code Pro\", \"Menlo\", monospace;;\n",
       "    font-size: 13px;\n",
       "    color: #555;\n",
       "    margin-left: 4px;\n",
       "    line-height: 19px;\n",
       "  }\n",
       "</style>\n",
       "<div class=\"ansiout\">Out[87]: 3266</div>"
      ]
     },
     "metadata": {
      "application/vnd.databricks.v1+output": {
       "addedWidgets": {},
       "arguments": {},
       "data": "<div class=\"ansiout\">Out[87]: 3266</div>",
       "datasetInfos": [],
       "removedWidgets": [],
       "type": "html"
      }
     },
     "output_type": "display_data"
    }
   ],
   "source": [
    "conll_data.count()"
   ]
  },
  {
   "cell_type": "code",
   "execution_count": 0,
   "metadata": {
    "application/vnd.databricks.v1+cell": {
     "inputWidgets": {},
     "nuid": "973960a3-8867-4484-af27-8b9f4e33c124",
     "showTitle": false,
     "title": ""
    }
   },
   "outputs": [
    {
     "data": {
      "text/html": [
       "<style scoped>\n",
       "  .ansiout {\n",
       "    display: block;\n",
       "    unicode-bidi: embed;\n",
       "    white-space: pre-wrap;\n",
       "    word-wrap: break-word;\n",
       "    word-break: break-all;\n",
       "    font-family: \"Source Code Pro\", \"Menlo\", monospace;;\n",
       "    font-size: 13px;\n",
       "    color: #555;\n",
       "    margin-left: 4px;\n",
       "    line-height: 19px;\n",
       "  }\n",
       "</style>\n",
       "<div class=\"ansiout\">+------------+-----+\n",
       "ground_truth|count|\n",
       "+------------+-----+\n",
       "O           |75093|\n",
       "I-Disease   |3547 |\n",
       "B-Disease   |3093 |\n",
       "+------------+-----+\n",
       "\n",
       "</div>"
      ]
     },
     "metadata": {
      "application/vnd.databricks.v1+output": {
       "addedWidgets": {},
       "arguments": {},
       "data": "<div class=\"ansiout\">+------------+-----+\n|ground_truth|count|\n+------------+-----+\n|O           |75093|\n|I-Disease   |3547 |\n|B-Disease   |3093 |\n+------------+-----+\n\n</div>",
       "datasetInfos": [],
       "removedWidgets": [],
       "type": "html"
      }
     },
     "output_type": "display_data"
    }
   ],
   "source": [
    "from pyspark.sql import functions as F\n",
    "\n",
    "conll_data.select(F.explode(F.arrays_zip('token.result','label.result')).alias(\"cols\")) \\\n",
    ".select(F.expr(\"cols['0']\").alias(\"token\"),\n",
    "        F.expr(\"cols['1']\").alias(\"ground_truth\")).groupBy('ground_truth').count().orderBy('count', ascending=False).show(100,truncate=False)\n"
   ]
  },
  {
   "cell_type": "code",
   "execution_count": 0,
   "metadata": {
    "application/vnd.databricks.v1+cell": {
     "inputWidgets": {},
     "nuid": "8a8e883e-527c-451a-af9b-d0e7f6735ade",
     "showTitle": false,
     "title": ""
    }
   },
   "outputs": [
    {
     "data": {
      "text/html": [
       "<style scoped>\n",
       "  .ansiout {\n",
       "    display: block;\n",
       "    unicode-bidi: embed;\n",
       "    white-space: pre-wrap;\n",
       "    word-wrap: break-word;\n",
       "    word-break: break-all;\n",
       "    font-family: \"Source Code Pro\", \"Menlo\", monospace;;\n",
       "    font-size: 13px;\n",
       "    color: #555;\n",
       "    margin-left: 4px;\n",
       "    line-height: 19px;\n",
       "  }\n",
       "</style>\n",
       "<div class=\"ansiout\">Out[89]: 1537</div>"
      ]
     },
     "metadata": {
      "application/vnd.databricks.v1+output": {
       "addedWidgets": {},
       "arguments": {},
       "data": "<div class=\"ansiout\">Out[89]: 1537</div>",
       "datasetInfos": [],
       "removedWidgets": [],
       "type": "html"
      }
     },
     "output_type": "display_data"
    }
   ],
   "source": [
    "conll_data.select(\"label.result\").distinct().count()"
   ]
  },
  {
   "cell_type": "code",
   "execution_count": 0,
   "metadata": {
    "application/vnd.databricks.v1+cell": {
     "inputWidgets": {},
     "nuid": "66a26121-3e5d-459e-bb44-07470b25e89d",
     "showTitle": false,
     "title": ""
    }
   },
   "outputs": [
    {
     "data": {
      "text/html": [
       "<style scoped>\n",
       "  .ansiout {\n",
       "    display: block;\n",
       "    unicode-bidi: embed;\n",
       "    white-space: pre-wrap;\n",
       "    word-wrap: break-word;\n",
       "    word-break: break-all;\n",
       "    font-family: \"Source Code Pro\", \"Menlo\", monospace;;\n",
       "    font-size: 13px;\n",
       "    color: #555;\n",
       "    margin-left: 4px;\n",
       "    line-height: 19px;\n",
       "  }\n",
       "</style>\n",
       "<div class=\"ansiout\">+------------+-----+\n",
       "ground_truth|count|\n",
       "+------------+-----+\n",
       "O           |39427|\n",
       "I-Disease   |3547 |\n",
       "B-Disease   |3093 |\n",
       "+------------+-----+\n",
       "\n",
       "</div>"
      ]
     },
     "metadata": {
      "application/vnd.databricks.v1+output": {
       "addedWidgets": {},
       "arguments": {},
       "data": "<div class=\"ansiout\">+------------+-----+\n|ground_truth|count|\n+------------+-----+\n|O           |39427|\n|I-Disease   |3547 |\n|B-Disease   |3093 |\n+------------+-----+\n\n</div>",
       "datasetInfos": [],
       "removedWidgets": [],
       "type": "html"
      }
     },
     "output_type": "display_data"
    }
   ],
   "source": [
    "import pyspark.sql.functions as F\n",
    "\n",
    "#conll_data.select(F.countDistinct(\"label.result\")).show()\n",
    "#conll_data.groupBy(\"label.result\").count().show(truncate=False)\n",
    "\n",
    "conll_data = conll_data.withColumn('unique', F.array_distinct(\"label.result\"))\\\n",
    ".withColumn('c', F.size('unique'))\\\n",
    ".filter(F.col('c')>1)\n",
    "\n",
    "conll_data.select(F.explode(F.arrays_zip('token.result','label.result')).alias(\"cols\")) \\\n",
    ".select(F.expr(\"cols['0']\").alias(\"token\"),\n",
    "        F.expr(\"cols['1']\").alias(\"ground_truth\")).groupBy('ground_truth').count().orderBy('count', ascending=False).show(100,truncate=False)\n",
    "\n"
   ]
  },
  {
   "cell_type": "code",
   "execution_count": 0,
   "metadata": {
    "application/vnd.databricks.v1+cell": {
     "inputWidgets": {},
     "nuid": "0a814c66-180a-4fd9-a399-dc8fafd149f6",
     "showTitle": false,
     "title": ""
    }
   },
   "outputs": [
    {
     "data": {
      "text/html": [
       "<style scoped>\n",
       "  .ansiout {\n",
       "    display: block;\n",
       "    unicode-bidi: embed;\n",
       "    white-space: pre-wrap;\n",
       "    word-wrap: break-word;\n",
       "    word-break: break-all;\n",
       "    font-family: \"Source Code Pro\", \"Menlo\", monospace;;\n",
       "    font-size: 13px;\n",
       "    color: #555;\n",
       "    margin-left: 4px;\n",
       "    line-height: 19px;\n",
       "  }\n",
       "</style>\n",
       "<div class=\"ansiout\">embeddings_clinical download started this may take some time.\n",
       "Approximate size to download 1.6 GB\n",
       "\r",
       "[ | ]\r",
       "[OK!]\n",
       "</div>"
      ]
     },
     "metadata": {
      "application/vnd.databricks.v1+output": {
       "addedWidgets": {},
       "arguments": {},
       "data": "<div class=\"ansiout\">embeddings_clinical download started this may take some time.\nApproximate size to download 1.6 GB\n\r[ | ]\r[OK!]\n</div>",
       "datasetInfos": [],
       "removedWidgets": [],
       "type": "html"
      }
     },
     "output_type": "display_data"
    }
   ],
   "source": [
    "# Clinical word embeddings trained on PubMED dataset\n",
    "clinical_embeddings = WordEmbeddingsModel.pretrained('embeddings_clinical', \"en\", \"clinical/models\")\\\n",
    "    .setInputCols([\"sentence\", \"token\"])\\\n",
    "    .setOutputCol(\"embeddings\")\n"
   ]
  },
  {
   "cell_type": "code",
   "execution_count": 0,
   "metadata": {
    "application/vnd.databricks.v1+cell": {
     "inputWidgets": {},
     "nuid": "0c7b40de-0660-4b28-bfe1-a2ff85d23dc2",
     "showTitle": false,
     "title": ""
    }
   },
   "outputs": [
    {
     "data": {
      "text/html": [
       "<style scoped>\n",
       "  .ansiout {\n",
       "    display: block;\n",
       "    unicode-bidi: embed;\n",
       "    white-space: pre-wrap;\n",
       "    word-wrap: break-word;\n",
       "    word-break: break-all;\n",
       "    font-family: \"Source Code Pro\", \"Menlo\", monospace;;\n",
       "    font-size: 13px;\n",
       "    color: #555;\n",
       "    margin-left: 4px;\n",
       "    line-height: 19px;\n",
       "  }\n",
       "</style>\n",
       "<div class=\"ansiout\"></div>"
      ]
     },
     "metadata": {
      "application/vnd.databricks.v1+output": {
       "addedWidgets": {},
       "arguments": {},
       "data": "<div class=\"ansiout\"></div>",
       "datasetInfos": [],
       "removedWidgets": [],
       "type": "html"
      }
     },
     "output_type": "display_data"
    }
   ],
   "source": [
    "test_data = CoNLL().readDataset(spark, \"file:/databricks/driver/NER_NCBIconlltest.txt\")\n",
    "\n",
    "test_data = clinical_embeddings.transform(test_data)\n",
    "\n",
    "test_data.write.parquet('/NER_NCBIconlltest.parquet')"
   ]
  },
  {
   "cell_type": "code",
   "execution_count": 0,
   "metadata": {
    "application/vnd.databricks.v1+cell": {
     "inputWidgets": {},
     "nuid": "c2a7d256-800a-4749-a30f-930c54f66cf1",
     "showTitle": false,
     "title": ""
    }
   },
   "outputs": [
    {
     "data": {
      "text/html": [
       "<style scoped>\n",
       "  .table-result-container {\n",
       "    max-height: 300px;\n",
       "    overflow: auto;\n",
       "  }\n",
       "  table, th, td {\n",
       "    border: 1px solid black;\n",
       "    border-collapse: collapse;\n",
       "  }\n",
       "  th, td {\n",
       "    padding: 5px;\n",
       "  }\n",
       "  th {\n",
       "    text-align: left;\n",
       "  }\n",
       "</style><div class='table-result-container'><table class='table-result'><thead style='background-color: white'><tr><th>path</th><th>name</th><th>size</th></tr></thead><tbody><tr><td>dbfs:/400.txt</td><td>400.txt</td><td>2669</td></tr><tr><td>dbfs:/400_rot.pdf</td><td>400_rot.pdf</td><td>2240141</td></tr><tr><td>dbfs:/AntBNC_lemmas_ver_001.txt</td><td>AntBNC_lemmas_ver_001.txt</td><td>1348552</td></tr><tr><td>dbfs:/AskAPatient.fold-0.test.txt</td><td>AskAPatient.fold-0.test.txt</td><td>33834</td></tr><tr><td>dbfs:/AskAPatient.fold-0.train.txt</td><td>AskAPatient.fold-0.train.txt</td><td>594794</td></tr><tr><td>dbfs:/AskAPatient.fold-0.validation.txt</td><td>AskAPatient.fold-0.validation.txt</td><td>32162</td></tr><tr><td>dbfs:/ClassifierDL_USE_20200727_e5/</td><td>ClassifierDL_USE_20200727_e5/</td><td>0</td></tr><tr><td>dbfs:/ClassifierDL_USE_20200923_e5/</td><td>ClassifierDL_USE_20200923_e5/</td><td>0</td></tr><tr><td>dbfs:/ClassifierDL_wordemb_e5/</td><td>ClassifierDL_wordemb_e5/</td><td>0</td></tr><tr><td>dbfs:/Databricks/</td><td>Databricks/</td><td>0</td></tr><tr><td>dbfs:/FileStore/</td><td>FileStore/</td><td>0</td></tr><tr><td>dbfs:/GMB_NER.conll</td><td>GMB_NER.conll</td><td>1663772</td></tr><tr><td>dbfs:/Mauro_seed1_2_assertion_dataset.csv</td><td>Mauro_seed1_2_assertion_dataset.csv</td><td>4210336</td></tr><tr><td>dbfs:/NER_NCBIconlltest.parquet/</td><td>NER_NCBIconlltest.parquet/</td><td>0</td></tr><tr><td>dbfs:/NER_NCBIconlltest.txt</td><td>NER_NCBIconlltest.txt</td><td>244358</td></tr><tr><td>dbfs:/NER_NCBIconlltrain.txt</td><td>NER_NCBIconlltrain.txt</td><td>1091488</td></tr><tr><td>dbfs:/NerDLApproach_4f00276baa1c.log</td><td>NerDLApproach_4f00276baa1c.log</td><td>1001</td></tr><tr><td>dbfs:/NerDLApproach_e423bc0bed1c.log</td><td>NerDLApproach_e423bc0bed1c.log</td><td>3361</td></tr><tr><td>dbfs:/NerDLModel_c4b4faeece72/</td><td>NerDLModel_c4b4faeece72/</td><td>0</td></tr><tr><td>dbfs:/_SUCCESS</td><td>_SUCCESS</td><td>0</td></tr><tr><td>dbfs:/aaaa/</td><td>aaaa/</td><td>0</td></tr><tr><td>dbfs:/aclimdb_test.csv</td><td>aclimdb_test.csv</td><td>32715164</td></tr><tr><td>dbfs:/aclimdb_train.csv</td><td>aclimdb_train.csv</td><td>33497180</td></tr><tr><td>dbfs:/actual_user_description_V2.csv/</td><td>actual_user_description_V2.csv/</td><td>0</td></tr><tr><td>dbfs:/ade_pretrained_pipeline/</td><td>ade_pretrained_pipeline/</td><td>0</td></tr><tr><td>dbfs:/amazon_review_entities_dl/</td><td>amazon_review_entities_dl/</td><td>0</td></tr><tr><td>dbfs:/amazon_review_entities_dl_token/</td><td>amazon_review_entities_dl_token/</td><td>0</td></tr><tr><td>dbfs:/amazon_review_explained_dl/</td><td>amazon_review_explained_dl/</td><td>0</td></tr><tr><td>dbfs:/amazon_review_full_csv/</td><td>amazon_review_full_csv/</td><td>0</td></tr><tr><td>dbfs:/andres/</td><td>andres/</td><td>0</td></tr><tr><td>dbfs:/annotators_log/</td><td>annotators_log/</td><td>0</td></tr><tr><td>dbfs:/assertion_model_0804/</td><td>assertion_model_0804/</td><td>0</td></tr><tr><td>dbfs:/biobertresolve_snomed_askapatient/</td><td>biobertresolve_snomed_askapatient/</td><td>0</td></tr><tr><td>dbfs:/blstm_20_200_128_100.pb</td><td>blstm_20_200_128_100.pb</td><td>1641859</td></tr><tr><td>dbfs:/blstm_34_32_30_200_8.pb</td><td>blstm_34_32_30_200_8.pb</td><td>1331050</td></tr><tr><td>dbfs:/blstm_3_200_128_83.pb</td><td>blstm_3_200_128_83.pb</td><td>1641016</td></tr><tr><td>dbfs:/cc.nl.300.vec</td><td>cc.nl.300.vec</td><td>4528264430</td></tr><tr><td>dbfs:/chinese_embeddings/</td><td>chinese_embeddings/</td><td>0</td></tr><tr><td>dbfs:/chinese_ner/</td><td>chinese_ner/</td><td>0</td></tr><tr><td>dbfs:/chunkresolve_icd10cm/</td><td>chunkresolve_icd10cm/</td><td>0</td></tr><tr><td>dbfs:/chunkresolve_snomed_askapatient_hc_100d/</td><td>chunkresolve_snomed_askapatient_hc_100d/</td><td>0</td></tr><tr><td>dbfs:/classifierdl_transform/</td><td>classifierdl_transform/</td><td>0</td></tr><tr><td>dbfs:/cluster-logs/</td><td>cluster-logs/</td><td>0</td></tr><tr><td>dbfs:/conll_eval.py</td><td>conll_eval.py</td><td>7431</td></tr><tr><td>dbfs:/context-spell-checker/</td><td>context-spell-checker/</td><td>0</td></tr><tr><td>dbfs:/cpt_output_Feb1.parquet/</td><td>cpt_output_Feb1.parquet/</td><td>0</td></tr><tr><td>dbfs:/cpt_output_Feb2-1.parquet/</td><td>cpt_output_Feb2-1.parquet/</td><td>0</td></tr><tr><td>dbfs:/cpt_output_Feb2-2.parquet/</td><td>cpt_output_Feb2-2.parquet/</td><td>0</td></tr><tr><td>dbfs:/cpt_output_Feb2.parquet/</td><td>cpt_output_Feb2.parquet/</td><td>0</td></tr><tr><td>dbfs:/custom_deid_masker_model/</td><td>custom_deid_masker_model/</td><td>0</td></tr><tr><td>dbfs:/custom_obfuscator_model/</td><td>custom_obfuscator_model/</td><td>0</td></tr><tr><td>dbfs:/danilo-jsl/</td><td>danilo-jsl/</td><td>0</td></tr><tr><td>dbfs:/data/</td><td>data/</td><td>0</td></tr><tr><td>dbfs:/databricks/</td><td>databricks/</td><td>0</td></tr><tr><td>dbfs:/databricks-datasets/</td><td>databricks-datasets/</td><td>0</td></tr><tr><td>dbfs:/databricks-results/</td><td>databricks-results/</td><td>0</td></tr><tr><td>dbfs:/dataset/</td><td>dataset/</td><td>0</td></tr><tr><td>dbfs:/datasets/</td><td>datasets/</td><td>0</td></tr><tr><td>dbfs:/dbfs/</td><td>dbfs/</td><td>0</td></tr><tr><td>dbfs:/deidentification_rb_no_regex_en_2.4.5_2.4/</td><td>deidentification_rb_no_regex_en_2.4.5_2.4/</td><td>0</td></tr><tr><td>dbfs:/deidentification_rb_no_regex_en_2.4.5_2.4_v2/</td><td>deidentification_rb_no_regex_en_2.4.5_2.4_v2/</td><td>0</td></tr><tr><td>dbfs:/dicom_1.dcm</td><td>dicom_1.dcm</td><td>3836142</td></tr><tr><td>dbfs:/dicom_2.dcm</td><td>dicom_2.dcm</td><td>640574</td></tr><tr><td>dbfs:/dicom_3.dcm</td><td>dicom_3.dcm</td><td>900924</td></tr><tr><td>dbfs:/e2e_dev.snappy.parquet</td><td>e2e_dev.snappy.parquet</td><td>179840</td></tr><tr><td>dbfs:/e2e_train.snappy.parquet</td><td>e2e_train.snappy.parquet</td><td>1968743</td></tr><tr><td>dbfs:/eng.train</td><td>eng.train</td><td>3283420</td></tr><tr><td>dbfs:/ensemble_serialized/</td><td>ensemble_serialized/</td><td>0</td></tr><tr><td>dbfs:/entities.txt</td><td>entities.txt</td><td>32</td></tr><tr><td>dbfs:/fake_classifier_saved/</td><td>fake_classifier_saved/</td><td>0</td></tr><tr><td>dbfs:/fields/</td><td>fields/</td><td>0</td></tr><tr><td>dbfs:/final_ner_df4m.csv/</td><td>final_ner_df4m.csv/</td><td>0</td></tr><tr><td>dbfs:/final_ner_df4mils.csv/</td><td>final_ner_df4mils.csv/</td><td>0</td></tr><tr><td>dbfs:/final_ner_df4mils_V2.csv/</td><td>final_ner_df4mils_V2.csv/</td><td>0</td></tr><tr><td>dbfs:/financial_entities.txt</td><td>financial_entities.txt</td><td>27</td></tr><tr><td>dbfs:/french_translation/</td><td>french_translation/</td><td>0</td></tr><tr><td>dbfs:/glove_100d_en_2_4_0_2_4_1579690104032/</td><td>glove_100d_en_2_4_0_2_4_1579690104032/</td><td>0</td></tr><tr><td>dbfs:/gnm_ner_dataset.csv</td><td>gnm_ner_dataset.csv</td><td>15208151</td></tr><tr><td>dbfs:/gnm_test.parquet/</td><td>gnm_test.parquet/</td><td>0</td></tr><tr><td>dbfs:/hash4mils_V2.csv/</td><td>hash4mils_V2.csv/</td><td>0</td></tr><tr><td>dbfs:/home/</td><td>home/</td><td>0</td></tr><tr><td>dbfs:/hsnw/</td><td>hsnw/</td><td>0</td></tr><tr><td>dbfs:/hsnwl/</td><td>hsnwl/</td><td>0</td></tr><tr><td>dbfs:/hsnwl2/</td><td>hsnwl2/</td><td>0</td></tr><tr><td>dbfs:/i2b2_assertion_sample.csv</td><td>i2b2_assertion_sample.csv</td><td>141585</td></tr><tr><td>dbfs:/i2b2_clinical_rel_dataset.csv</td><td>i2b2_clinical_rel_dataset.csv</td><td>285456</td></tr><tr><td>dbfs:/icd10gm2021alpha_edvtxt_20201002_copy.txt</td><td>icd10gm2021alpha_edvtxt_20201002_copy.txt</td><td>4375523</td></tr><tr><td>dbfs:/icd10gm2021syst.txt</td><td>icd10gm2021syst.txt</td><td>1118605</td></tr><tr><td>dbfs:/keywords4mil.csv/</td><td>keywords4mil.csv/</td><td>0</td></tr><tr><td>dbfs:/keywords4mil_V2.csv/</td><td>keywords4mil_V2.csv/</td><td>0</td></tr><tr><td>dbfs:/libs/</td><td>libs/</td><td>0</td></tr><tr><td>dbfs:/local_disk0/</td><td>local_disk0/</td><td>0</td></tr><tr><td>dbfs:/log/</td><td>log/</td><td>0</td></tr><tr><td>dbfs:/logs/</td><td>logs/</td><td>0</td></tr><tr><td>dbfs:/ls/</td><td>ls/</td><td>0</td></tr><tr><td>dbfs:/mauro_ass_v2.csv</td><td>mauro_ass_v2.csv</td><td>189360</td></tr><tr><td>dbfs:/mauro_ass_v3.csv</td><td>mauro_ass_v3.csv</td><td>187082</td></tr><tr><td>dbfs:/mauro_assertion.csv</td><td>mauro_assertion.csv</td><td>187236</td></tr><tr><td>dbfs:/maziyar/</td><td>maziyar/</td><td>0</td></tr><tr><td>dbfs:/metadata/</td><td>metadata/</td><td>0</td></tr><tr><td>dbfs:/ml/</td><td>ml/</td><td>0</td></tr><tr><td>dbfs:/mnt/</td><td>mnt/</td><td>0</td></tr><tr><td>dbfs:/models/</td><td>models/</td><td>0</td></tr><tr><td>dbfs:/modelsembeddings</td><td>modelsembeddings</td><td>790237436</td></tr><tr><td>dbfs:/my_glove/</td><td>my_glove/</td><td>0</td></tr><tr><td>dbfs:/my_glove_include/</td><td>my_glove_include/</td><td>0</td></tr><tr><td>dbfs:/natural_scene.jpeg</td><td>natural_scene.jpeg</td><td>133271</td></tr><tr><td>dbfs:/ner_dl_test.parquet/</td><td>ner_dl_test.parquet/</td><td>0</td></tr><tr><td>dbfs:/ner_highlighter.py</td><td>ner_highlighter.py</td><td>2010</td></tr><tr><td>dbfs:/ner_log_parser.py</td><td>ner_log_parser.py</td><td>3311</td></tr><tr><td>dbfs:/nerdl_test.parquet/</td><td>nerdl_test.parquet/</td><td>0</td></tr><tr><td>dbfs:/new_assertion_dl/</td><td>new_assertion_dl/</td><td>0</td></tr><tr><td>dbfs:/news_category_test/</td><td>news_category_test/</td><td>0</td></tr><tr><td>dbfs:/news_category_test.csv</td><td>news_category_test.csv</td><td>1504408</td></tr><tr><td>dbfs:/news_category_train/</td><td>news_category_train/</td><td>0</td></tr><tr><td>dbfs:/news_category_train.csv</td><td>news_category_train.csv</td><td>24032125</td></tr><tr><td>dbfs:/news_use/</td><td>news_use/</td><td>0</td></tr><tr><td>dbfs:/nlu_models/</td><td>nlu_models/</td><td>0</td></tr><tr><td>dbfs:/noised.pdf</td><td>noised.pdf</td><td>2115939</td></tr><tr><td>dbfs:/ocr/</td><td>ocr/</td><td>0</td></tr><tr><td>dbfs:/on_user_description_final_ner_df4mils_V2.csv/</td><td>on_user_description_final_ner_df4mils_V2.csv/</td><td>0</td></tr><tr><td>dbfs:/on_user_description_keywords4mil_V2.csv/</td><td>on_user_description_keywords4mil_V2.csv/</td><td>0</td></tr><tr><td>dbfs:/on_user_description_tweets4mils_V2.csv/</td><td>on_user_description_tweets4mils_V2.csv/</td><td>0</td></tr><tr><td>dbfs:/oncology_df/</td><td>oncology_df/</td><td>0</td></tr><tr><td>dbfs:/oncology_notes_df.parquet/</td><td>oncology_notes_df.parquet/</td><td>0</td></tr><tr><td>dbfs:/oncology_notes_mt/</td><td>oncology_notes_mt/</td><td>0</td></tr><tr><td>dbfs:/oncology_study/</td><td>oncology_study/</td><td>0</td></tr><tr><td>dbfs:/petfinder-mini.csv</td><td>petfinder-mini.csv</td><td>4763125</td></tr><tr><td>dbfs:/pip_wo_embedd/</td><td>pip_wo_embedd/</td><td>0</td></tr><tr><td>dbfs:/pubmed-sample.csv</td><td>pubmed-sample.csv</td><td>10484510</td></tr><tr><td>dbfs:/pubmed_sample_text_small.csv</td><td>pubmed_sample_text_small.csv</td><td>9363435</td></tr><tr><td>dbfs:/re_on_user_description_hash4mils_V2.csv/</td><td>re_on_user_description_hash4mils_V2.csv/</td><td>0</td></tr><tr><td>dbfs:/re_user_description_hash4mils_V2.csv/</td><td>re_user_description_hash4mils_V2.csv/</td><td>0</td></tr><tr><td>dbfs:/readme.txt</td><td>readme.txt</td><td>1485</td></tr><tr><td>dbfs:/regex_rules.txt</td><td>regex_rules.txt</td><td>195</td></tr><tr><td>dbfs:/replace_dict.csv</td><td>replace_dict.csv</td><td>18</td></tr><tr><td>dbfs:/sample-sentences-en.txt</td><td>sample-sentences-en.txt</td><td>284</td></tr><tr><td>dbfs:/sample_ADE_dataset.csv</td><td>sample_ADE_dataset.csv</td><td>9434</td></tr><tr><td>dbfs:/sample_doc.pdf</td><td>sample_doc.pdf</td><td>212973</td></tr><tr><td>dbfs:/sample_image_OCR.tif</td><td>sample_image_OCR.tif</td><td>26988</td></tr><tr><td>dbfs:/sample_pdf_ocr.pdf</td><td>sample_pdf_ocr.pdf</td><td>212973</td></tr><tr><td>dbfs:/saved_model_rxnorm_pretrained/</td><td>saved_model_rxnorm_pretrained/</td><td>0</td></tr><tr><td>dbfs:/sbert/</td><td>sbert/</td><td>0</td></tr><tr><td>dbfs:/schema_converted.json</td><td>schema_converted.json</td><td>2322</td></tr><tr><td>dbfs:/snomed_temp/</td><td>snomed_temp/</td><td>0</td></tr><tr><td>dbfs:/snomed_training/</td><td>snomed_training/</td><td>0</td></tr><tr><td>dbfs:/snomed_trainings/</td><td>snomed_trainings/</td><td>0</td></tr><tr><td>dbfs:/snomeda_training/</td><td>snomeda_training/</td><td>0</td></tr><tr><td>dbfs:/spam_ham_dataset.csv</td><td>spam_ham_dataset.csv</td><td>5502589</td></tr><tr><td>dbfs:/sport_entities.txt</td><td>sport_entities.txt</td><td>36</td></tr><tr><td>dbfs:/sst2_tarin.csv</td><td>sst2_tarin.csv</td><td>168</td></tr><tr><td>dbfs:/stackoverflow.com-Comments.7z</td><td>stackoverflow.com-Comments.7z</td><td>4669294696</td></tr><tr><td>dbfs:/sts2/</td><td>sts2/</td><td>0</td></tr><tr><td>dbfs:/temp/</td><td>temp/</td><td>0</td></tr><tr><td>dbfs:/tensorflow</td><td>tensorflow</td><td>14155523</td></tr><tr><td>dbfs:/test/</td><td>test/</td><td>0</td></tr><tr><td>dbfs:/test.csv</td><td>test.csv</td><td>292412008</td></tr><tr><td>dbfs:/test_document.pdf</td><td>test_document.pdf</td><td>693743</td></tr><tr><td>dbfs:/text_with_noise.png</td><td>text_with_noise.png</td><td>100544</td></tr><tr><td>dbfs:/title_conference.csv</td><td>title_conference.csv</td><td>188402</td></tr><tr><td>dbfs:/tmp/</td><td>tmp/</td><td>0</td></tr><tr><td>dbfs:/tmp_amazon_bert_results/</td><td>tmp_amazon_bert_results/</td><td>0</td></tr><tr><td>dbfs:/tmp_amazon_pipeline_bert/</td><td>tmp_amazon_pipeline_bert/</td><td>0</td></tr><tr><td>dbfs:/tmp_amazon_pipeline_ner/</td><td>tmp_amazon_pipeline_ner/</td><td>0</td></tr><tr><td>dbfs:/tmp_amazon_tinybert_results/</td><td>tmp_amazon_tinybert_results/</td><td>0</td></tr><tr><td>dbfs:/tmp_chinese_tokenizer_pipeline/</td><td>tmp_chinese_tokenizer_pipeline/</td><td>0</td></tr><tr><td>dbfs:/tmp_conll_pipeline_bert/</td><td>tmp_conll_pipeline_bert/</td><td>0</td></tr><tr><td>dbfs:/tmp_ld_new/</td><td>tmp_ld_new/</td><td>0</td></tr><tr><td>dbfs:/tmp_marianmt/</td><td>tmp_marianmt/</td><td>0</td></tr><tr><td>dbfs:/tmp_metrics/</td><td>tmp_metrics/</td><td>0</td></tr><tr><td>dbfs:/tmp_ner_jsl/</td><td>tmp_ner_jsl/</td><td>0</td></tr><tr><td>dbfs:/tmp_ner_pipeline/</td><td>tmp_ner_pipeline/</td><td>0</td></tr><tr><td>dbfs:/tmp_news_bert_results/</td><td>tmp_news_bert_results/</td><td>0</td></tr><tr><td>dbfs:/tmp_sentimentDL_model2/</td><td>tmp_sentimentDL_model2/</td><td>0</td></tr><tr><td>dbfs:/tmpembd_glove-test/</td><td>tmpembd_glove-test/</td><td>0</td></tr><tr><td>dbfs:/toxic_test.snappy.parquet</td><td>toxic_test.snappy.parquet</td><td>296833</td></tr><tr><td>dbfs:/toxic_test_full.snappy.parquet</td><td>toxic_test_full.snappy.parquet</td><td>4309978</td></tr><tr><td>dbfs:/toxic_train.snappy.parquet</td><td>toxic_train.snappy.parquet</td><td>2767307</td></tr><tr><td>dbfs:/toxic_train_full.snappy.parquet</td><td>toxic_train_full.snappy.parquet</td><td>38807359</td></tr><tr><td>dbfs:/train</td><td>train</td><td>243</td></tr><tr><td>dbfs:/train.csv</td><td>train.csv</td><td>1348342434</td></tr><tr><td>dbfs:/train.tsv</td><td>train.tsv</td><td>720259</td></tr><tr><td>dbfs:/trained_ner_model/</td><td>trained_ner_model/</td><td>0</td></tr><tr><td>dbfs:/training.1600000.processed.noemoticon.csv</td><td>training.1600000.processed.noemoticon.csv</td><td>238803811</td></tr><tr><td>dbfs:/transformed.data.class.parquet/</td><td>transformed.data.class.parquet/</td><td>0</td></tr><tr><td>dbfs:/tweets4mils.csv/</td><td>tweets4mils.csv/</td><td>0</td></tr><tr><td>dbfs:/tweets4mils_V2.csv/</td><td>tweets4mils_V2.csv/</td><td>0</td></tr><tr><td>dbfs:/university_basketball.sqlite</td><td>university_basketball.sqlite</td><td>20480</td></tr><tr><td>dbfs:/user/</td><td>user/</td><td>0</td></tr><tr><td>dbfs:/user_description_final_ner_df4mils_V2.csv/</td><td>user_description_final_ner_df4mils_V2.csv/</td><td>0</td></tr><tr><td>dbfs:/user_description_hash4mils_V2.csv/</td><td>user_description_hash4mils_V2.csv/</td><td>0</td></tr><tr><td>dbfs:/user_description_keywords4mil_V2.csv/</td><td>user_description_keywords4mil_V2.csv/</td><td>0</td></tr><tr><td>dbfs:/user_description_tweets4mils_V2.csv/</td><td>user_description_tweets4mils_V2.csv/</td><td>0</td></tr></tbody></table></div>"
      ]
     },
     "metadata": {
      "application/vnd.databricks.v1+output": {
       "addedWidgets": {},
       "aggData": [],
       "aggError": "",
       "aggOverflow": false,
       "aggSchema": [],
       "aggSeriesLimitReached": false,
       "aggType": "",
       "arguments": {},
       "columnCustomDisplayInfos": {},
       "data": [
        [
         "dbfs:/400.txt",
         "400.txt",
         2669
        ],
        [
         "dbfs:/400_rot.pdf",
         "400_rot.pdf",
         2240141
        ],
        [
         "dbfs:/AntBNC_lemmas_ver_001.txt",
         "AntBNC_lemmas_ver_001.txt",
         1348552
        ],
        [
         "dbfs:/AskAPatient.fold-0.test.txt",
         "AskAPatient.fold-0.test.txt",
         33834
        ],
        [
         "dbfs:/AskAPatient.fold-0.train.txt",
         "AskAPatient.fold-0.train.txt",
         594794
        ],
        [
         "dbfs:/AskAPatient.fold-0.validation.txt",
         "AskAPatient.fold-0.validation.txt",
         32162
        ],
        [
         "dbfs:/ClassifierDL_USE_20200727_e5/",
         "ClassifierDL_USE_20200727_e5/",
         0
        ],
        [
         "dbfs:/ClassifierDL_USE_20200923_e5/",
         "ClassifierDL_USE_20200923_e5/",
         0
        ],
        [
         "dbfs:/ClassifierDL_wordemb_e5/",
         "ClassifierDL_wordemb_e5/",
         0
        ],
        [
         "dbfs:/Databricks/",
         "Databricks/",
         0
        ],
        [
         "dbfs:/FileStore/",
         "FileStore/",
         0
        ],
        [
         "dbfs:/GMB_NER.conll",
         "GMB_NER.conll",
         1663772
        ],
        [
         "dbfs:/Mauro_seed1_2_assertion_dataset.csv",
         "Mauro_seed1_2_assertion_dataset.csv",
         4210336
        ],
        [
         "dbfs:/NER_NCBIconlltest.parquet/",
         "NER_NCBIconlltest.parquet/",
         0
        ],
        [
         "dbfs:/NER_NCBIconlltest.txt",
         "NER_NCBIconlltest.txt",
         244358
        ],
        [
         "dbfs:/NER_NCBIconlltrain.txt",
         "NER_NCBIconlltrain.txt",
         1091488
        ],
        [
         "dbfs:/NerDLApproach_4f00276baa1c.log",
         "NerDLApproach_4f00276baa1c.log",
         1001
        ],
        [
         "dbfs:/NerDLApproach_e423bc0bed1c.log",
         "NerDLApproach_e423bc0bed1c.log",
         3361
        ],
        [
         "dbfs:/NerDLModel_c4b4faeece72/",
         "NerDLModel_c4b4faeece72/",
         0
        ],
        [
         "dbfs:/_SUCCESS",
         "_SUCCESS",
         0
        ],
        [
         "dbfs:/aaaa/",
         "aaaa/",
         0
        ],
        [
         "dbfs:/aclimdb_test.csv",
         "aclimdb_test.csv",
         32715164
        ],
        [
         "dbfs:/aclimdb_train.csv",
         "aclimdb_train.csv",
         33497180
        ],
        [
         "dbfs:/actual_user_description_V2.csv/",
         "actual_user_description_V2.csv/",
         0
        ],
        [
         "dbfs:/ade_pretrained_pipeline/",
         "ade_pretrained_pipeline/",
         0
        ],
        [
         "dbfs:/amazon_review_entities_dl/",
         "amazon_review_entities_dl/",
         0
        ],
        [
         "dbfs:/amazon_review_entities_dl_token/",
         "amazon_review_entities_dl_token/",
         0
        ],
        [
         "dbfs:/amazon_review_explained_dl/",
         "amazon_review_explained_dl/",
         0
        ],
        [
         "dbfs:/amazon_review_full_csv/",
         "amazon_review_full_csv/",
         0
        ],
        [
         "dbfs:/andres/",
         "andres/",
         0
        ],
        [
         "dbfs:/annotators_log/",
         "annotators_log/",
         0
        ],
        [
         "dbfs:/assertion_model_0804/",
         "assertion_model_0804/",
         0
        ],
        [
         "dbfs:/biobertresolve_snomed_askapatient/",
         "biobertresolve_snomed_askapatient/",
         0
        ],
        [
         "dbfs:/blstm_20_200_128_100.pb",
         "blstm_20_200_128_100.pb",
         1641859
        ],
        [
         "dbfs:/blstm_34_32_30_200_8.pb",
         "blstm_34_32_30_200_8.pb",
         1331050
        ],
        [
         "dbfs:/blstm_3_200_128_83.pb",
         "blstm_3_200_128_83.pb",
         1641016
        ],
        [
         "dbfs:/cc.nl.300.vec",
         "cc.nl.300.vec",
         4528264430
        ],
        [
         "dbfs:/chinese_embeddings/",
         "chinese_embeddings/",
         0
        ],
        [
         "dbfs:/chinese_ner/",
         "chinese_ner/",
         0
        ],
        [
         "dbfs:/chunkresolve_icd10cm/",
         "chunkresolve_icd10cm/",
         0
        ],
        [
         "dbfs:/chunkresolve_snomed_askapatient_hc_100d/",
         "chunkresolve_snomed_askapatient_hc_100d/",
         0
        ],
        [
         "dbfs:/classifierdl_transform/",
         "classifierdl_transform/",
         0
        ],
        [
         "dbfs:/cluster-logs/",
         "cluster-logs/",
         0
        ],
        [
         "dbfs:/conll_eval.py",
         "conll_eval.py",
         7431
        ],
        [
         "dbfs:/context-spell-checker/",
         "context-spell-checker/",
         0
        ],
        [
         "dbfs:/cpt_output_Feb1.parquet/",
         "cpt_output_Feb1.parquet/",
         0
        ],
        [
         "dbfs:/cpt_output_Feb2-1.parquet/",
         "cpt_output_Feb2-1.parquet/",
         0
        ],
        [
         "dbfs:/cpt_output_Feb2-2.parquet/",
         "cpt_output_Feb2-2.parquet/",
         0
        ],
        [
         "dbfs:/cpt_output_Feb2.parquet/",
         "cpt_output_Feb2.parquet/",
         0
        ],
        [
         "dbfs:/custom_deid_masker_model/",
         "custom_deid_masker_model/",
         0
        ],
        [
         "dbfs:/custom_obfuscator_model/",
         "custom_obfuscator_model/",
         0
        ],
        [
         "dbfs:/danilo-jsl/",
         "danilo-jsl/",
         0
        ],
        [
         "dbfs:/data/",
         "data/",
         0
        ],
        [
         "dbfs:/databricks/",
         "databricks/",
         0
        ],
        [
         "dbfs:/databricks-datasets/",
         "databricks-datasets/",
         0
        ],
        [
         "dbfs:/databricks-results/",
         "databricks-results/",
         0
        ],
        [
         "dbfs:/dataset/",
         "dataset/",
         0
        ],
        [
         "dbfs:/datasets/",
         "datasets/",
         0
        ],
        [
         "dbfs:/dbfs/",
         "dbfs/",
         0
        ],
        [
         "dbfs:/deidentification_rb_no_regex_en_2.4.5_2.4/",
         "deidentification_rb_no_regex_en_2.4.5_2.4/",
         0
        ],
        [
         "dbfs:/deidentification_rb_no_regex_en_2.4.5_2.4_v2/",
         "deidentification_rb_no_regex_en_2.4.5_2.4_v2/",
         0
        ],
        [
         "dbfs:/dicom_1.dcm",
         "dicom_1.dcm",
         3836142
        ],
        [
         "dbfs:/dicom_2.dcm",
         "dicom_2.dcm",
         640574
        ],
        [
         "dbfs:/dicom_3.dcm",
         "dicom_3.dcm",
         900924
        ],
        [
         "dbfs:/e2e_dev.snappy.parquet",
         "e2e_dev.snappy.parquet",
         179840
        ],
        [
         "dbfs:/e2e_train.snappy.parquet",
         "e2e_train.snappy.parquet",
         1968743
        ],
        [
         "dbfs:/eng.train",
         "eng.train",
         3283420
        ],
        [
         "dbfs:/ensemble_serialized/",
         "ensemble_serialized/",
         0
        ],
        [
         "dbfs:/entities.txt",
         "entities.txt",
         32
        ],
        [
         "dbfs:/fake_classifier_saved/",
         "fake_classifier_saved/",
         0
        ],
        [
         "dbfs:/fields/",
         "fields/",
         0
        ],
        [
         "dbfs:/final_ner_df4m.csv/",
         "final_ner_df4m.csv/",
         0
        ],
        [
         "dbfs:/final_ner_df4mils.csv/",
         "final_ner_df4mils.csv/",
         0
        ],
        [
         "dbfs:/final_ner_df4mils_V2.csv/",
         "final_ner_df4mils_V2.csv/",
         0
        ],
        [
         "dbfs:/financial_entities.txt",
         "financial_entities.txt",
         27
        ],
        [
         "dbfs:/french_translation/",
         "french_translation/",
         0
        ],
        [
         "dbfs:/glove_100d_en_2_4_0_2_4_1579690104032/",
         "glove_100d_en_2_4_0_2_4_1579690104032/",
         0
        ],
        [
         "dbfs:/gnm_ner_dataset.csv",
         "gnm_ner_dataset.csv",
         15208151
        ],
        [
         "dbfs:/gnm_test.parquet/",
         "gnm_test.parquet/",
         0
        ],
        [
         "dbfs:/hash4mils_V2.csv/",
         "hash4mils_V2.csv/",
         0
        ],
        [
         "dbfs:/home/",
         "home/",
         0
        ],
        [
         "dbfs:/hsnw/",
         "hsnw/",
         0
        ],
        [
         "dbfs:/hsnwl/",
         "hsnwl/",
         0
        ],
        [
         "dbfs:/hsnwl2/",
         "hsnwl2/",
         0
        ],
        [
         "dbfs:/i2b2_assertion_sample.csv",
         "i2b2_assertion_sample.csv",
         141585
        ],
        [
         "dbfs:/i2b2_clinical_rel_dataset.csv",
         "i2b2_clinical_rel_dataset.csv",
         285456
        ],
        [
         "dbfs:/icd10gm2021alpha_edvtxt_20201002_copy.txt",
         "icd10gm2021alpha_edvtxt_20201002_copy.txt",
         4375523
        ],
        [
         "dbfs:/icd10gm2021syst.txt",
         "icd10gm2021syst.txt",
         1118605
        ],
        [
         "dbfs:/keywords4mil.csv/",
         "keywords4mil.csv/",
         0
        ],
        [
         "dbfs:/keywords4mil_V2.csv/",
         "keywords4mil_V2.csv/",
         0
        ],
        [
         "dbfs:/libs/",
         "libs/",
         0
        ],
        [
         "dbfs:/local_disk0/",
         "local_disk0/",
         0
        ],
        [
         "dbfs:/log/",
         "log/",
         0
        ],
        [
         "dbfs:/logs/",
         "logs/",
         0
        ],
        [
         "dbfs:/ls/",
         "ls/",
         0
        ],
        [
         "dbfs:/mauro_ass_v2.csv",
         "mauro_ass_v2.csv",
         189360
        ],
        [
         "dbfs:/mauro_ass_v3.csv",
         "mauro_ass_v3.csv",
         187082
        ],
        [
         "dbfs:/mauro_assertion.csv",
         "mauro_assertion.csv",
         187236
        ],
        [
         "dbfs:/maziyar/",
         "maziyar/",
         0
        ],
        [
         "dbfs:/metadata/",
         "metadata/",
         0
        ],
        [
         "dbfs:/ml/",
         "ml/",
         0
        ],
        [
         "dbfs:/mnt/",
         "mnt/",
         0
        ],
        [
         "dbfs:/models/",
         "models/",
         0
        ],
        [
         "dbfs:/modelsembeddings",
         "modelsembeddings",
         790237436
        ],
        [
         "dbfs:/my_glove/",
         "my_glove/",
         0
        ],
        [
         "dbfs:/my_glove_include/",
         "my_glove_include/",
         0
        ],
        [
         "dbfs:/natural_scene.jpeg",
         "natural_scene.jpeg",
         133271
        ],
        [
         "dbfs:/ner_dl_test.parquet/",
         "ner_dl_test.parquet/",
         0
        ],
        [
         "dbfs:/ner_highlighter.py",
         "ner_highlighter.py",
         2010
        ],
        [
         "dbfs:/ner_log_parser.py",
         "ner_log_parser.py",
         3311
        ],
        [
         "dbfs:/nerdl_test.parquet/",
         "nerdl_test.parquet/",
         0
        ],
        [
         "dbfs:/new_assertion_dl/",
         "new_assertion_dl/",
         0
        ],
        [
         "dbfs:/news_category_test/",
         "news_category_test/",
         0
        ],
        [
         "dbfs:/news_category_test.csv",
         "news_category_test.csv",
         1504408
        ],
        [
         "dbfs:/news_category_train/",
         "news_category_train/",
         0
        ],
        [
         "dbfs:/news_category_train.csv",
         "news_category_train.csv",
         24032125
        ],
        [
         "dbfs:/news_use/",
         "news_use/",
         0
        ],
        [
         "dbfs:/nlu_models/",
         "nlu_models/",
         0
        ],
        [
         "dbfs:/noised.pdf",
         "noised.pdf",
         2115939
        ],
        [
         "dbfs:/ocr/",
         "ocr/",
         0
        ],
        [
         "dbfs:/on_user_description_final_ner_df4mils_V2.csv/",
         "on_user_description_final_ner_df4mils_V2.csv/",
         0
        ],
        [
         "dbfs:/on_user_description_keywords4mil_V2.csv/",
         "on_user_description_keywords4mil_V2.csv/",
         0
        ],
        [
         "dbfs:/on_user_description_tweets4mils_V2.csv/",
         "on_user_description_tweets4mils_V2.csv/",
         0
        ],
        [
         "dbfs:/oncology_df/",
         "oncology_df/",
         0
        ],
        [
         "dbfs:/oncology_notes_df.parquet/",
         "oncology_notes_df.parquet/",
         0
        ],
        [
         "dbfs:/oncology_notes_mt/",
         "oncology_notes_mt/",
         0
        ],
        [
         "dbfs:/oncology_study/",
         "oncology_study/",
         0
        ],
        [
         "dbfs:/petfinder-mini.csv",
         "petfinder-mini.csv",
         4763125
        ],
        [
         "dbfs:/pip_wo_embedd/",
         "pip_wo_embedd/",
         0
        ],
        [
         "dbfs:/pubmed-sample.csv",
         "pubmed-sample.csv",
         10484510
        ],
        [
         "dbfs:/pubmed_sample_text_small.csv",
         "pubmed_sample_text_small.csv",
         9363435
        ],
        [
         "dbfs:/re_on_user_description_hash4mils_V2.csv/",
         "re_on_user_description_hash4mils_V2.csv/",
         0
        ],
        [
         "dbfs:/re_user_description_hash4mils_V2.csv/",
         "re_user_description_hash4mils_V2.csv/",
         0
        ],
        [
         "dbfs:/readme.txt",
         "readme.txt",
         1485
        ],
        [
         "dbfs:/regex_rules.txt",
         "regex_rules.txt",
         195
        ],
        [
         "dbfs:/replace_dict.csv",
         "replace_dict.csv",
         18
        ],
        [
         "dbfs:/sample-sentences-en.txt",
         "sample-sentences-en.txt",
         284
        ],
        [
         "dbfs:/sample_ADE_dataset.csv",
         "sample_ADE_dataset.csv",
         9434
        ],
        [
         "dbfs:/sample_doc.pdf",
         "sample_doc.pdf",
         212973
        ],
        [
         "dbfs:/sample_image_OCR.tif",
         "sample_image_OCR.tif",
         26988
        ],
        [
         "dbfs:/sample_pdf_ocr.pdf",
         "sample_pdf_ocr.pdf",
         212973
        ],
        [
         "dbfs:/saved_model_rxnorm_pretrained/",
         "saved_model_rxnorm_pretrained/",
         0
        ],
        [
         "dbfs:/sbert/",
         "sbert/",
         0
        ],
        [
         "dbfs:/schema_converted.json",
         "schema_converted.json",
         2322
        ],
        [
         "dbfs:/snomed_temp/",
         "snomed_temp/",
         0
        ],
        [
         "dbfs:/snomed_training/",
         "snomed_training/",
         0
        ],
        [
         "dbfs:/snomed_trainings/",
         "snomed_trainings/",
         0
        ],
        [
         "dbfs:/snomeda_training/",
         "snomeda_training/",
         0
        ],
        [
         "dbfs:/spam_ham_dataset.csv",
         "spam_ham_dataset.csv",
         5502589
        ],
        [
         "dbfs:/sport_entities.txt",
         "sport_entities.txt",
         36
        ],
        [
         "dbfs:/sst2_tarin.csv",
         "sst2_tarin.csv",
         168
        ],
        [
         "dbfs:/stackoverflow.com-Comments.7z",
         "stackoverflow.com-Comments.7z",
         4669294696
        ],
        [
         "dbfs:/sts2/",
         "sts2/",
         0
        ],
        [
         "dbfs:/temp/",
         "temp/",
         0
        ],
        [
         "dbfs:/tensorflow",
         "tensorflow",
         14155523
        ],
        [
         "dbfs:/test/",
         "test/",
         0
        ],
        [
         "dbfs:/test.csv",
         "test.csv",
         292412008
        ],
        [
         "dbfs:/test_document.pdf",
         "test_document.pdf",
         693743
        ],
        [
         "dbfs:/text_with_noise.png",
         "text_with_noise.png",
         100544
        ],
        [
         "dbfs:/title_conference.csv",
         "title_conference.csv",
         188402
        ],
        [
         "dbfs:/tmp/",
         "tmp/",
         0
        ],
        [
         "dbfs:/tmp_amazon_bert_results/",
         "tmp_amazon_bert_results/",
         0
        ],
        [
         "dbfs:/tmp_amazon_pipeline_bert/",
         "tmp_amazon_pipeline_bert/",
         0
        ],
        [
         "dbfs:/tmp_amazon_pipeline_ner/",
         "tmp_amazon_pipeline_ner/",
         0
        ],
        [
         "dbfs:/tmp_amazon_tinybert_results/",
         "tmp_amazon_tinybert_results/",
         0
        ],
        [
         "dbfs:/tmp_chinese_tokenizer_pipeline/",
         "tmp_chinese_tokenizer_pipeline/",
         0
        ],
        [
         "dbfs:/tmp_conll_pipeline_bert/",
         "tmp_conll_pipeline_bert/",
         0
        ],
        [
         "dbfs:/tmp_ld_new/",
         "tmp_ld_new/",
         0
        ],
        [
         "dbfs:/tmp_marianmt/",
         "tmp_marianmt/",
         0
        ],
        [
         "dbfs:/tmp_metrics/",
         "tmp_metrics/",
         0
        ],
        [
         "dbfs:/tmp_ner_jsl/",
         "tmp_ner_jsl/",
         0
        ],
        [
         "dbfs:/tmp_ner_pipeline/",
         "tmp_ner_pipeline/",
         0
        ],
        [
         "dbfs:/tmp_news_bert_results/",
         "tmp_news_bert_results/",
         0
        ],
        [
         "dbfs:/tmp_sentimentDL_model2/",
         "tmp_sentimentDL_model2/",
         0
        ],
        [
         "dbfs:/tmpembd_glove-test/",
         "tmpembd_glove-test/",
         0
        ],
        [
         "dbfs:/toxic_test.snappy.parquet",
         "toxic_test.snappy.parquet",
         296833
        ],
        [
         "dbfs:/toxic_test_full.snappy.parquet",
         "toxic_test_full.snappy.parquet",
         4309978
        ],
        [
         "dbfs:/toxic_train.snappy.parquet",
         "toxic_train.snappy.parquet",
         2767307
        ],
        [
         "dbfs:/toxic_train_full.snappy.parquet",
         "toxic_train_full.snappy.parquet",
         38807359
        ],
        [
         "dbfs:/train",
         "train",
         243
        ],
        [
         "dbfs:/train.csv",
         "train.csv",
         1348342434
        ],
        [
         "dbfs:/train.tsv",
         "train.tsv",
         720259
        ],
        [
         "dbfs:/trained_ner_model/",
         "trained_ner_model/",
         0
        ],
        [
         "dbfs:/training.1600000.processed.noemoticon.csv",
         "training.1600000.processed.noemoticon.csv",
         238803811
        ],
        [
         "dbfs:/transformed.data.class.parquet/",
         "transformed.data.class.parquet/",
         0
        ],
        [
         "dbfs:/tweets4mils.csv/",
         "tweets4mils.csv/",
         0
        ],
        [
         "dbfs:/tweets4mils_V2.csv/",
         "tweets4mils_V2.csv/",
         0
        ],
        [
         "dbfs:/university_basketball.sqlite",
         "university_basketball.sqlite",
         20480
        ],
        [
         "dbfs:/user/",
         "user/",
         0
        ],
        [
         "dbfs:/user_description_final_ner_df4mils_V2.csv/",
         "user_description_final_ner_df4mils_V2.csv/",
         0
        ],
        [
         "dbfs:/user_description_hash4mils_V2.csv/",
         "user_description_hash4mils_V2.csv/",
         0
        ],
        [
         "dbfs:/user_description_keywords4mil_V2.csv/",
         "user_description_keywords4mil_V2.csv/",
         0
        ],
        [
         "dbfs:/user_description_tweets4mils_V2.csv/",
         "user_description_tweets4mils_V2.csv/",
         0
        ]
       ],
       "datasetInfos": [],
       "dbfsResultPath": null,
       "isJsonSchema": true,
       "overflow": false,
       "plotOptions": {
        "customPlotOptions": {},
        "displayType": "table",
        "pivotAggregation": null,
        "pivotColumns": null,
        "xColumns": null,
        "yColumns": null
       },
       "removedWidgets": [],
       "schema": [
        {
         "metadata": "{}",
         "name": "path",
         "type": "\"string\""
        },
        {
         "metadata": "{}",
         "name": "name",
         "type": "\"string\""
        },
        {
         "metadata": "{}",
         "name": "size",
         "type": "\"long\""
        }
       ],
       "type": "table"
      }
     },
     "output_type": "display_data"
    }
   ],
   "source": [
    "%fs ls dbfs:/"
   ]
  },
  {
   "cell_type": "code",
   "execution_count": 0,
   "metadata": {
    "application/vnd.databricks.v1+cell": {
     "inputWidgets": {},
     "nuid": "c25d8de9-4116-411c-9f92-4ddba97444e8",
     "showTitle": false,
     "title": ""
    }
   },
   "outputs": [
    {
     "data": {
      "text/html": [
       "<style scoped>\n",
       "  .ansiout {\n",
       "    display: block;\n",
       "    unicode-bidi: embed;\n",
       "    white-space: pre-wrap;\n",
       "    word-wrap: break-word;\n",
       "    word-break: break-all;\n",
       "    font-family: \"Source Code Pro\", \"Menlo\", monospace;;\n",
       "    font-size: 13px;\n",
       "    color: #555;\n",
       "    margin-left: 4px;\n",
       "    line-height: 19px;\n",
       "  }\n",
       "</style>\n",
       "<div class=\"ansiout\">Out[97]: True</div>"
      ]
     },
     "metadata": {
      "application/vnd.databricks.v1+output": {
       "addedWidgets": {},
       "arguments": {},
       "data": "<div class=\"ansiout\">Out[97]: True</div>",
       "datasetInfos": [],
       "removedWidgets": [],
       "type": "html"
      }
     },
     "output_type": "display_data"
    }
   ],
   "source": [
    "!mkdir ner_logs\n",
    "!mkdir ner_graph\n",
    "'''!wget -q https://raw.githubusercontent.com/JohnSnowLabs/spark-nlp-workshop/master/tutorials/Certification_Trainings/Healthcare/nerdl_graph/blstm_3_200_128_83.pb -P /content/ner_graph'''\n",
    "# !!! Create MedicalNER Graph with the given functions at the end of this Notebook\n",
    "\n",
    "dbutils.fs.cp(\"file:/databricks/driver/ner_graph\", \"dbfs:/\", True)"
   ]
  },
  {
   "cell_type": "markdown",
   "metadata": {
    "application/vnd.databricks.v1+cell": {
     "inputWidgets": {},
     "nuid": "6b74cc4f-ca46-488f-9f52-45179be7ca3e",
     "showTitle": false,
     "title": ""
    }
   },
   "source": [
    "## MedicalNER Graph"
   ]
  },
  {
   "cell_type": "code",
   "execution_count": 0,
   "metadata": {
    "application/vnd.databricks.v1+cell": {
     "inputWidgets": {},
     "nuid": "81042bb6-eca1-4d63-a8b3-d1c24b4ef493",
     "showTitle": false,
     "title": ""
    }
   },
   "outputs": [
    {
     "data": {
      "text/html": [
       "<style scoped>\n",
       "  .ansiout {\n",
       "    display: block;\n",
       "    unicode-bidi: embed;\n",
       "    white-space: pre-wrap;\n",
       "    word-wrap: break-word;\n",
       "    word-break: break-all;\n",
       "    font-family: \"Source Code Pro\", \"Menlo\", monospace;;\n",
       "    font-size: 13px;\n",
       "    color: #555;\n",
       "    margin-left: 4px;\n",
       "    line-height: 19px;\n",
       "  }\n",
       "</style>\n",
       "<div class=\"ansiout\">ner_dl parameters.\n",
       "Parameter            Required   Default value        Description\n",
       "ntags                yes        -                    Number of tags.\n",
       "embeddings_dim       no         200                  Embeddings dimension.\n",
       "nchars               no         100                  Number of chars.\n",
       "lstm_size            no         128                  Number of LSTM units.\n",
       "gpu_device           no         0                    Device for training.\n",
       "is_medical           no         0                    Build a Medical Ner graph.\n",
       "ner_dl graph exported to /medical_ner_graphs/blstm_12_200_128_83.pb\n",
       "</div>"
      ]
     },
     "metadata": {
      "application/vnd.databricks.v1+output": {
       "addedWidgets": {},
       "arguments": {},
       "data": "<div class=\"ansiout\">ner_dl parameters.\nParameter            Required   Default value        Description\nntags                yes        -                    Number of tags.\nembeddings_dim       no         200                  Embeddings dimension.\nnchars               no         100                  Number of chars.\nlstm_size            no         128                  Number of LSTM units.\ngpu_device           no         0                    Device for training.\nis_medical           no         0                    Build a Medical Ner graph.\nner_dl graph exported to /medical_ner_graphs/blstm_12_200_128_83.pb\n</div>",
       "datasetInfos": [],
       "removedWidgets": [],
       "type": "html"
      }
     },
     "output_type": "display_data"
    }
   ],
   "source": [
    "from sparknlp_jsl.training import tf_graph\n",
    "tf_graph.print_model_params(\"ner_dl\")\n",
    "tf_graph.build(\"ner_dl\", build_params={\"embeddings_dim\": 200, \"nchars\": 83, \"ntags\": 12, \"is_medical\": 1}, model_location=\"/medical_ner_graphs\", model_filename=\"auto\")"
   ]
  },
  {
   "cell_type": "code",
   "execution_count": 0,
   "metadata": {
    "application/vnd.databricks.v1+cell": {
     "inputWidgets": {},
     "nuid": "d9955e4f-4145-4b15-8182-61552413cf01",
     "showTitle": false,
     "title": ""
    }
   },
   "outputs": [],
   "source": [
    "# for open source users\n",
    "'''\n",
    "!wget -q https://raw.githubusercontent.com/JohnSnowLabs/spark-nlp-workshop/master/jupyter/training/english/dl-ner/nerdl-graph/create_graph.py\n",
    "!wget -q https://raw.githubusercontent.com/JohnSnowLabs/spark-nlp-workshop/master/jupyter/training/english/dl-ner/nerdl-graph/dataset_encoder.py\n",
    "!wget -q https://raw.githubusercontent.com/JohnSnowLabs/spark-nlp-workshop/master/jupyter/training/english/dl-ner/nerdl-graph/ner_model.py\n",
    "!wget -q https://raw.githubusercontent.com/JohnSnowLabs/spark-nlp-workshop/master/jupyter/training/english/dl-ner/nerdl-graph/ner_model_saver.py\n",
    "!wget -q https://raw.githubusercontent.com/JohnSnowLabs/spark-nlp-workshop/master/jupyter/training/english/dl-ner/nerdl-graph/sentence_grouper.py\n",
    "\n",
    "!pip -q install tensorflow==1.15.0\n",
    "\n",
    "import create_graph\n",
    "\n",
    "ntags = 3 # number of labels\n",
    "embeddings_dim = 200\n",
    "nchars =83\n",
    "\n",
    "create_graph.create_graph(ntags, embeddings_dim, nchars)\n",
    "'''"
   ]
  },
  {
   "cell_type": "code",
   "execution_count": 0,
   "metadata": {
    "application/vnd.databricks.v1+cell": {
     "inputWidgets": {},
     "nuid": "40222372-c864-4506-b133-e31e06e93527",
     "showTitle": false,
     "title": ""
    }
   },
   "outputs": [
    {
     "data": {
      "text/html": [
       "<style scoped>\n",
       "  .table-result-container {\n",
       "    max-height: 300px;\n",
       "    overflow: auto;\n",
       "  }\n",
       "  table, th, td {\n",
       "    border: 1px solid black;\n",
       "    border-collapse: collapse;\n",
       "  }\n",
       "  th, td {\n",
       "    padding: 5px;\n",
       "  }\n",
       "  th {\n",
       "    text-align: left;\n",
       "  }\n",
       "</style><div class='table-result-container'><table class='table-result'><thead style='background-color: white'><tr><th>path</th><th>name</th><th>size</th></tr></thead><tbody><tr><td>file:/lib64/</td><td>lib64/</td><td>4096</td></tr><tr><td>file:/BUILD</td><td>BUILD</td><td>88</td></tr><tr><td>file:/dev/</td><td>dev/</td><td>520</td></tr><tr><td>file:/usr/</td><td>usr/</td><td>4096</td></tr><tr><td>file:/root/</td><td>root/</td><td>4096</td></tr><tr><td>file:/media/</td><td>media/</td><td>4096</td></tr><tr><td>file:/opt/</td><td>opt/</td><td>4096</td></tr><tr><td>file:/srv/</td><td>srv/</td><td>4096</td></tr><tr><td>file:/proc/</td><td>proc/</td><td>0</td></tr><tr><td>file:/run/</td><td>run/</td><td>540</td></tr><tr><td>file:/sys/</td><td>sys/</td><td>0</td></tr><tr><td>file:/var/</td><td>var/</td><td>4096</td></tr><tr><td>file:/mnt/</td><td>mnt/</td><td>4096</td></tr><tr><td>file:/home/</td><td>home/</td><td>4096</td></tr><tr><td>file:/etc/</td><td>etc/</td><td>4096</td></tr><tr><td>file:/sbin/</td><td>sbin/</td><td>4096</td></tr><tr><td>file:/bin/</td><td>bin/</td><td>4096</td></tr><tr><td>file:/databricks/</td><td>databricks/</td><td>4096</td></tr><tr><td>file:/tmp/</td><td>tmp/</td><td>4096</td></tr><tr><td>file:/lib/</td><td>lib/</td><td>4096</td></tr><tr><td>file:/boot/</td><td>boot/</td><td>4096</td></tr><tr><td>file:/local_disk0/</td><td>local_disk0/</td><td>4096</td></tr><tr><td>file:/medical_ner_graphs/</td><td>medical_ner_graphs/</td><td>4096</td></tr><tr><td>file:/dbfs/</td><td>dbfs/</td><td>4096</td></tr></tbody></table></div>"
      ]
     },
     "metadata": {
      "application/vnd.databricks.v1+output": {
       "addedWidgets": {},
       "aggData": [],
       "aggError": "",
       "aggOverflow": false,
       "aggSchema": [],
       "aggSeriesLimitReached": false,
       "aggType": "",
       "arguments": {},
       "columnCustomDisplayInfos": {},
       "data": [
        [
         "file:/lib64/",
         "lib64/",
         4096
        ],
        [
         "file:/BUILD",
         "BUILD",
         88
        ],
        [
         "file:/dev/",
         "dev/",
         520
        ],
        [
         "file:/usr/",
         "usr/",
         4096
        ],
        [
         "file:/root/",
         "root/",
         4096
        ],
        [
         "file:/media/",
         "media/",
         4096
        ],
        [
         "file:/opt/",
         "opt/",
         4096
        ],
        [
         "file:/srv/",
         "srv/",
         4096
        ],
        [
         "file:/proc/",
         "proc/",
         0
        ],
        [
         "file:/run/",
         "run/",
         540
        ],
        [
         "file:/sys/",
         "sys/",
         0
        ],
        [
         "file:/var/",
         "var/",
         4096
        ],
        [
         "file:/mnt/",
         "mnt/",
         4096
        ],
        [
         "file:/home/",
         "home/",
         4096
        ],
        [
         "file:/etc/",
         "etc/",
         4096
        ],
        [
         "file:/sbin/",
         "sbin/",
         4096
        ],
        [
         "file:/bin/",
         "bin/",
         4096
        ],
        [
         "file:/databricks/",
         "databricks/",
         4096
        ],
        [
         "file:/tmp/",
         "tmp/",
         4096
        ],
        [
         "file:/lib/",
         "lib/",
         4096
        ],
        [
         "file:/boot/",
         "boot/",
         4096
        ],
        [
         "file:/local_disk0/",
         "local_disk0/",
         4096
        ],
        [
         "file:/medical_ner_graphs/",
         "medical_ner_graphs/",
         4096
        ],
        [
         "file:/dbfs/",
         "dbfs/",
         4096
        ]
       ],
       "datasetInfos": [],
       "dbfsResultPath": null,
       "isJsonSchema": true,
       "overflow": false,
       "plotOptions": {
        "customPlotOptions": {},
        "displayType": "table",
        "pivotAggregation": null,
        "pivotColumns": null,
        "xColumns": null,
        "yColumns": null
       },
       "removedWidgets": [],
       "schema": [
        {
         "metadata": "{}",
         "name": "path",
         "type": "\"string\""
        },
        {
         "metadata": "{}",
         "name": "name",
         "type": "\"string\""
        },
        {
         "metadata": "{}",
         "name": "size",
         "type": "\"long\""
        }
       ],
       "type": "table"
      }
     },
     "output_type": "display_data"
    }
   ],
   "source": [
    "%fs ls file:/"
   ]
  },
  {
   "cell_type": "code",
   "execution_count": 0,
   "metadata": {
    "application/vnd.databricks.v1+cell": {
     "inputWidgets": {},
     "nuid": "480f6fcb-7d25-4295-8b1a-2e7b493153d8",
     "showTitle": false,
     "title": ""
    }
   },
   "outputs": [
    {
     "data": {
      "text/html": [
       "<style scoped>\n",
       "  .ansiout {\n",
       "    display: block;\n",
       "    unicode-bidi: embed;\n",
       "    white-space: pre-wrap;\n",
       "    word-wrap: break-word;\n",
       "    word-break: break-all;\n",
       "    font-family: \"Source Code Pro\", \"Menlo\", monospace;;\n",
       "    font-size: 13px;\n",
       "    color: #555;\n",
       "    margin-left: 4px;\n",
       "    line-height: 19px;\n",
       "  }\n",
       "</style>\n",
       "<div class=\"ansiout\"></div>"
      ]
     },
     "metadata": {
      "application/vnd.databricks.v1+output": {
       "addedWidgets": {},
       "arguments": {},
       "data": "<div class=\"ansiout\"></div>",
       "datasetInfos": [],
       "removedWidgets": [],
       "type": "html"
      }
     },
     "output_type": "display_data"
    }
   ],
   "source": [
    "nerTagger = MedicalNerApproach()\\\n",
    "  .setInputCols([\"sentence\", \"token\", \"embeddings\"])\\\n",
    "  .setLabelColumn(\"label\")\\\n",
    "  .setOutputCol(\"ner\")\\\n",
    "  .setMaxEpochs(2)\\\n",
    "  .setBatchSize(64)\\\n",
    "  .setRandomSeed(0)\\\n",
    "  .setVerbose(1)\\\n",
    "  .setValidationSplit(0.2)\\\n",
    "  .setEvaluationLogExtended(True) \\\n",
    "  .setEnableOutputLogs(True)\\\n",
    "  .setIncludeConfidence(True)\\\n",
    "  .setTestDataset(\"/NER_NCBIconlltest.parquet\")\\\n",
    "  .setOutputLogsPath('ner_logs')\\\n",
    "  .setGraphFolder('file:/medical_ner_graphs') # control your graph folder\n",
    "\n",
    "ner_pipeline = Pipeline(stages=[\n",
    "          clinical_embeddings,\n",
    "          nerTagger\n",
    " ])"
   ]
  },
  {
   "cell_type": "code",
   "execution_count": 0,
   "metadata": {
    "application/vnd.databricks.v1+cell": {
     "inputWidgets": {},
     "nuid": "f3eda831-23ae-4195-8e4c-7b49fd339fa5",
     "showTitle": false,
     "title": ""
    }
   },
   "outputs": [
    {
     "data": {
      "text/html": [
       "<style scoped>\n",
       "  .ansiout {\n",
       "    display: block;\n",
       "    unicode-bidi: embed;\n",
       "    white-space: pre-wrap;\n",
       "    word-wrap: break-word;\n",
       "    word-break: break-all;\n",
       "    font-family: \"Source Code Pro\", \"Menlo\", monospace;;\n",
       "    font-size: 13px;\n",
       "    color: #555;\n",
       "    margin-left: 4px;\n",
       "    line-height: 19px;\n",
       "  }\n",
       "</style>\n",
       "<div class=\"ansiout\"></div>"
      ]
     },
     "metadata": {
      "application/vnd.databricks.v1+output": {
       "addedWidgets": {},
       "arguments": {},
       "data": "<div class=\"ansiout\"></div>",
       "datasetInfos": [],
       "removedWidgets": [],
       "type": "html"
      }
     },
     "output_type": "display_data"
    }
   ],
   "source": [
    "# 2 epochs 47 sec\n",
    "ner_model = ner_pipeline.fit(conll_data)\n",
    "\n",
    "# if you get an error for incompatible TF graph, use 4.1 NerDL-Graph.ipynb notebook to create a graph\n",
    "# licensed users can also use 17.Graph_builder_for_DL_models.ipynb to create tf graphs easily."
   ]
  },
  {
   "cell_type": "code",
   "execution_count": 0,
   "metadata": {
    "application/vnd.databricks.v1+cell": {
     "inputWidgets": {},
     "nuid": "0f4e2a1c-4713-4851-a39b-5a00e3c964f4",
     "showTitle": false,
     "title": ""
    }
   },
   "outputs": [
    {
     "data": {
      "text/html": [
       "<style scoped>\n",
       "  .ansiout {\n",
       "    display: block;\n",
       "    unicode-bidi: embed;\n",
       "    white-space: pre-wrap;\n",
       "    word-wrap: break-word;\n",
       "    word-break: break-all;\n",
       "    font-family: \"Source Code Pro\", \"Menlo\", monospace;;\n",
       "    font-size: 13px;\n",
       "    color: #555;\n",
       "    margin-left: 4px;\n",
       "    line-height: 19px;\n",
       "  }\n",
       "</style>\n",
       "<div class=\"ansiout\">total 4\n",
       "-rw-r--r-- 1 root root 1949 Apr 29 15:56 MedicalNerApproach_787e3d8e11ed.log\n",
       "</div>"
      ]
     },
     "metadata": {
      "application/vnd.databricks.v1+output": {
       "addedWidgets": {},
       "arguments": {},
       "data": "<div class=\"ansiout\">total 4\n-rw-r--r-- 1 root root 1949 Apr 29 15:56 MedicalNerApproach_787e3d8e11ed.log\n</div>",
       "datasetInfos": [],
       "removedWidgets": [],
       "type": "html"
      }
     },
     "output_type": "display_data"
    }
   ],
   "source": [
    "%sh cd /databricks/driver/ner_logs && ls -lt"
   ]
  },
  {
   "cell_type": "code",
   "execution_count": 0,
   "metadata": {
    "application/vnd.databricks.v1+cell": {
     "inputWidgets": {},
     "nuid": "f790fa7e-1515-4bb6-ad5b-b964990f7071",
     "showTitle": false,
     "title": ""
    }
   },
   "outputs": [
    {
     "data": {
      "text/html": [
       "<style scoped>\n",
       "  .ansiout {\n",
       "    display: block;\n",
       "    unicode-bidi: embed;\n",
       "    white-space: pre-wrap;\n",
       "    word-wrap: break-word;\n",
       "    word-break: break-all;\n",
       "    font-family: \"Source Code Pro\", \"Menlo\", monospace;;\n",
       "    font-size: 13px;\n",
       "    color: #555;\n",
       "    margin-left: 4px;\n",
       "    line-height: 19px;\n",
       "  }\n",
       "</style>\n",
       "<div class=\"ansiout\">Name of the selected graph: /medical_ner_graphs/blstm_12_200_128_83.pb\n",
       "Training started - total epochs: 2 - lr: 0.001 - batch size: 64 - labels: 3 - chars: 80 - training examples: 1357\n",
       "\n",
       "\n",
       "Epoch 1/2 started, lr: 0.001, dataset size: 1357\n",
       "\n",
       "\n",
       "Epoch 1/2 - 17.73s - loss: 385.00864 - batches: 25\n",
       "Quality on validation dataset (20.0%), validation examples = 271\n",
       "time to finish evaluation: 2.45s\n",
       "label\t tp\t fp\t fn\t prec\t rec\t f1\n",
       "I-Disease\t 87\t 6\t 632\t 0.9354839\t 0.12100139\t 0.21428572\n",
       "B-Disease\t 81\t 18\t 539\t 0.8181818\t 0.13064516\t 0.22531293\n",
       "tp: 168 fp: 24 fn: 1171 labels: 2\n",
       "Macro-average\t prec: 0.87683284, rec: 0.12582327, f1: 0.22006743\n",
       "Micro-average\t prec: 0.875, rec: 0.12546676, f1: 0.21946439\n",
       "Quality on test dataset: \n",
       "time to finish evaluation: 3.17s\n",
       "label\t tp\t fp\t fn\t prec\t rec\t f1\n",
       "I-Disease\t 84\t 8\t 705\t 0.9130435\t 0.10646388\t 0.1906924\n",
       "B-Disease\t 79\t 24\t 629\t 0.7669903\t 0.11158192\t 0.19482121\n",
       "tp: 163 fp: 32 fn: 1334 labels: 2\n",
       "Macro-average\t prec: 0.8400169, rec: 0.1090229, f1: 0.19299734\n",
       "Micro-average\t prec: 0.83589745, rec: 0.10888444, f1: 0.1926714\n",
       "\n",
       "\n",
       "Epoch 2/2 started, lr: 9.950249E-4, dataset size: 1357\n",
       "\n",
       "\n",
       "Epoch 2/2 - 16.17s - loss: 184.95117 - batches: 25\n",
       "Quality on validation dataset (20.0%), validation examples = 271\n",
       "time to finish evaluation: 1.64s\n",
       "label\t tp\t fp\t fn\t prec\t rec\t f1\n",
       "I-Disease\t 281\t 45\t 438\t 0.8619632\t 0.3908206\t 0.53779906\n",
       "B-Disease\t 338\t 101\t 282\t 0.7699317\t 0.5451613\t 0.638338\n",
       "tp: 619 fp: 146 fn: 720 labels: 2\n",
       "Macro-average\t prec: 0.8159474, rec: 0.46799093, f1: 0.5948198\n",
       "Micro-average\t prec: 0.80915034, rec: 0.46228528, f1: 0.588403\n",
       "Quality on test dataset: \n",
       "time to finish evaluation: 3.08s\n",
       "label\t tp\t fp\t fn\t prec\t rec\t f1\n",
       "I-Disease\t 299\t 60\t 490\t 0.83286905\t 0.3789607\t 0.52090585\n",
       "B-Disease\t 343\t 141\t 365\t 0.7086777\t 0.48446327\t 0.57550335\n",
       "tp: 642 fp: 201 fn: 855 labels: 2\n",
       "Macro-average\t prec: 0.7707734, rec: 0.43171197, f1: 0.55344063\n",
       "Micro-average\t prec: 0.76156586, rec: 0.4288577, f1: 0.5487179\n",
       "</div>"
      ]
     },
     "metadata": {
      "application/vnd.databricks.v1+output": {
       "addedWidgets": {},
       "arguments": {},
       "data": "<div class=\"ansiout\">Name of the selected graph: /medical_ner_graphs/blstm_12_200_128_83.pb\nTraining started - total epochs: 2 - lr: 0.001 - batch size: 64 - labels: 3 - chars: 80 - training examples: 1357\n\n\nEpoch 1/2 started, lr: 0.001, dataset size: 1357\n\n\nEpoch 1/2 - 17.73s - loss: 385.00864 - batches: 25\nQuality on validation dataset (20.0%), validation examples = 271\ntime to finish evaluation: 2.45s\nlabel\t tp\t fp\t fn\t prec\t rec\t f1\nI-Disease\t 87\t 6\t 632\t 0.9354839\t 0.12100139\t 0.21428572\nB-Disease\t 81\t 18\t 539\t 0.8181818\t 0.13064516\t 0.22531293\ntp: 168 fp: 24 fn: 1171 labels: 2\nMacro-average\t prec: 0.87683284, rec: 0.12582327, f1: 0.22006743\nMicro-average\t prec: 0.875, rec: 0.12546676, f1: 0.21946439\nQuality on test dataset: \ntime to finish evaluation: 3.17s\nlabel\t tp\t fp\t fn\t prec\t rec\t f1\nI-Disease\t 84\t 8\t 705\t 0.9130435\t 0.10646388\t 0.1906924\nB-Disease\t 79\t 24\t 629\t 0.7669903\t 0.11158192\t 0.19482121\ntp: 163 fp: 32 fn: 1334 labels: 2\nMacro-average\t prec: 0.8400169, rec: 0.1090229, f1: 0.19299734\nMicro-average\t prec: 0.83589745, rec: 0.10888444, f1: 0.1926714\n\n\nEpoch 2/2 started, lr: 9.950249E-4, dataset size: 1357\n\n\nEpoch 2/2 - 16.17s - loss: 184.95117 - batches: 25\nQuality on validation dataset (20.0%), validation examples = 271\ntime to finish evaluation: 1.64s\nlabel\t tp\t fp\t fn\t prec\t rec\t f1\nI-Disease\t 281\t 45\t 438\t 0.8619632\t 0.3908206\t 0.53779906\nB-Disease\t 338\t 101\t 282\t 0.7699317\t 0.5451613\t 0.638338\ntp: 619 fp: 146 fn: 720 labels: 2\nMacro-average\t prec: 0.8159474, rec: 0.46799093, f1: 0.5948198\nMicro-average\t prec: 0.80915034, rec: 0.46228528, f1: 0.588403\nQuality on test dataset: \ntime to finish evaluation: 3.08s\nlabel\t tp\t fp\t fn\t prec\t rec\t f1\nI-Disease\t 299\t 60\t 490\t 0.83286905\t 0.3789607\t 0.52090585\nB-Disease\t 343\t 141\t 365\t 0.7086777\t 0.48446327\t 0.57550335\ntp: 642 fp: 201 fn: 855 labels: 2\nMacro-average\t prec: 0.7707734, rec: 0.43171197, f1: 0.55344063\nMicro-average\t prec: 0.76156586, rec: 0.4288577, f1: 0.5487179\n</div>",
       "datasetInfos": [],
       "removedWidgets": [],
       "type": "html"
      }
     },
     "output_type": "display_data"
    }
   ],
   "source": [
    "%sh cat ner_logs/MedicalNerApproach_787e3d8e11ed.log"
   ]
  },
  {
   "cell_type": "markdown",
   "metadata": {
    "application/vnd.databricks.v1+cell": {
     "inputWidgets": {},
     "nuid": "5433c79b-6437-4f17-99d1-467d7e66001d",
     "showTitle": false,
     "title": ""
    }
   },
   "source": [
    "### Evaluate your model"
   ]
  },
  {
   "cell_type": "code",
   "execution_count": 0,
   "metadata": {
    "application/vnd.databricks.v1+cell": {
     "inputWidgets": {},
     "nuid": "011ba1cd-6135-4e5b-b741-a5b7d6f3e7e6",
     "showTitle": false,
     "title": ""
    }
   },
   "outputs": [
    {
     "data": {
      "text/html": [
       "<style scoped>\n",
       "  .ansiout {\n",
       "    display: block;\n",
       "    unicode-bidi: embed;\n",
       "    white-space: pre-wrap;\n",
       "    word-wrap: break-word;\n",
       "    word-break: break-all;\n",
       "    font-family: \"Source Code Pro\", \"Menlo\", monospace;;\n",
       "    font-size: 13px;\n",
       "    color: #555;\n",
       "    margin-left: 4px;\n",
       "    line-height: 19px;\n",
       "  }\n",
       "</style>\n",
       "<div class=\"ansiout\"></div>"
      ]
     },
     "metadata": {
      "application/vnd.databricks.v1+output": {
       "addedWidgets": {},
       "arguments": {},
       "data": "<div class=\"ansiout\"></div>",
       "datasetInfos": [],
       "removedWidgets": [],
       "type": "html"
      }
     },
     "output_type": "display_data"
    }
   ],
   "source": [
    "pred_df = ner_model.stages[1].transform(test_data)"
   ]
  },
  {
   "cell_type": "code",
   "execution_count": 0,
   "metadata": {
    "application/vnd.databricks.v1+cell": {
     "inputWidgets": {},
     "nuid": "cefc4714-a914-40a8-8003-9a0f2e22406b",
     "showTitle": false,
     "title": ""
    }
   },
   "outputs": [
    {
     "data": {
      "text/html": [
       "<style scoped>\n",
       "  .ansiout {\n",
       "    display: block;\n",
       "    unicode-bidi: embed;\n",
       "    white-space: pre-wrap;\n",
       "    word-wrap: break-word;\n",
       "    word-break: break-all;\n",
       "    font-family: \"Source Code Pro\", \"Menlo\", monospace;;\n",
       "    font-size: 13px;\n",
       "    color: #555;\n",
       "    margin-left: 4px;\n",
       "    line-height: 19px;\n",
       "  }\n",
       "</style>\n",
       "<div class=\"ansiout\">Out[130]: [&#39;text&#39;, &#39;document&#39;, &#39;sentence&#39;, &#39;token&#39;, &#39;pos&#39;, &#39;label&#39;, &#39;embeddings&#39;, &#39;ner&#39;]</div>"
      ]
     },
     "metadata": {
      "application/vnd.databricks.v1+output": {
       "addedWidgets": {},
       "arguments": {},
       "data": "<div class=\"ansiout\">Out[130]: [&#39;text&#39;, &#39;document&#39;, &#39;sentence&#39;, &#39;token&#39;, &#39;pos&#39;, &#39;label&#39;, &#39;embeddings&#39;, &#39;ner&#39;]</div>",
       "datasetInfos": [],
       "removedWidgets": [],
       "type": "html"
      }
     },
     "output_type": "display_data"
    }
   ],
   "source": [
    "pred_df.columns"
   ]
  },
  {
   "cell_type": "code",
   "execution_count": 0,
   "metadata": {
    "application/vnd.databricks.v1+cell": {
     "inputWidgets": {},
     "nuid": "afbd7dc9-e258-41f9-b393-27cbfa2e7f0c",
     "showTitle": false,
     "title": ""
    }
   },
   "outputs": [
    {
     "data": {
      "text/html": [
       "<style scoped>\n",
       "  .ansiout {\n",
       "    display: block;\n",
       "    unicode-bidi: embed;\n",
       "    white-space: pre-wrap;\n",
       "    word-wrap: break-word;\n",
       "    word-break: break-all;\n",
       "    font-family: \"Source Code Pro\", \"Menlo\", monospace;;\n",
       "    font-size: 13px;\n",
       "    color: #555;\n",
       "    margin-left: 4px;\n",
       "    line-height: 19px;\n",
       "  }\n",
       "</style>\n",
       "<div class=\"ansiout\">+-------+-----+-----+-----+-----+---------+------+------+\n",
       " entity|   tp|   fp|   fn|total|precision|recall|    f1|\n",
       "+-------+-----+-----+-----+-----+---------+------+------+\n",
       "Disease|310.0|238.0|394.0|704.0|   0.5657|0.4403|0.4952|\n",
       "+-------+-----+-----+-----+-----+---------+------+------+\n",
       "\n",
       "+------------------+\n",
       "             macro|\n",
       "+------------------+\n",
       "0.4952076677316294|\n",
       "+------------------+\n",
       "\n",
       "None\n",
       "+------------------+\n",
       "             micro|\n",
       "+------------------+\n",
       "0.4952076677316294|\n",
       "+------------------+\n",
       "\n",
       "None\n",
       "</div>"
      ]
     },
     "metadata": {
      "application/vnd.databricks.v1+output": {
       "addedWidgets": {},
       "arguments": {},
       "data": "<div class=\"ansiout\">+-------+-----+-----+-----+-----+---------+------+------+\n| entity|   tp|   fp|   fn|total|precision|recall|    f1|\n+-------+-----+-----+-----+-----+---------+------+------+\n|Disease|310.0|238.0|394.0|704.0|   0.5657|0.4403|0.4952|\n+-------+-----+-----+-----+-----+---------+------+------+\n\n+------------------+\n|             macro|\n+------------------+\n|0.4952076677316294|\n+------------------+\n\nNone\n+------------------+\n|             micro|\n+------------------+\n|0.4952076677316294|\n+------------------+\n\nNone\n</div>",
       "datasetInfos": [],
       "removedWidgets": [],
       "type": "html"
      }
     },
     "output_type": "display_data"
    }
   ],
   "source": [
    "from sparknlp_jsl.eval import NerDLMetrics\n",
    "import pyspark.sql.functions as F\n",
    "\n",
    "evaler = NerDLMetrics(mode=\"full_chunk\", dropO=True)\n",
    "\n",
    "eval_result = evaler.computeMetricsFromDF(pred_df.select(\"label\",\"ner\"), prediction_col=\"ner\", label_col=\"label\").cache()\n",
    "\n",
    "eval_result.withColumn(\"precision\", F.round(eval_result[\"precision\"],4))\\\n",
    "    .withColumn(\"recall\", F.round(eval_result[\"recall\"],4))\\\n",
    "    .withColumn(\"f1\", F.round(eval_result[\"f1\"],4)).show(100)\n",
    "\n",
    "print(eval_result.selectExpr(\"avg(f1) as macro\").show())\n",
    "print (eval_result.selectExpr(\"sum(f1*total) as sumprod\",\"sum(total) as sumtotal\").selectExpr(\"sumprod/sumtotal as micro\").show())"
   ]
  },
  {
   "cell_type": "code",
   "execution_count": 0,
   "metadata": {
    "application/vnd.databricks.v1+cell": {
     "inputWidgets": {},
     "nuid": "7a9469fb-15be-46e1-b16f-aaf12a47b908",
     "showTitle": false,
     "title": ""
    }
   },
   "outputs": [
    {
     "data": {
      "text/html": [
       "<style scoped>\n",
       "  .ansiout {\n",
       "    display: block;\n",
       "    unicode-bidi: embed;\n",
       "    white-space: pre-wrap;\n",
       "    word-wrap: break-word;\n",
       "    word-break: break-all;\n",
       "    font-family: \"Source Code Pro\", \"Menlo\", monospace;;\n",
       "    font-size: 13px;\n",
       "    color: #555;\n",
       "    margin-left: 4px;\n",
       "    line-height: 19px;\n",
       "  }\n",
       "</style>\n",
       "<div class=\"ansiout\">+-------+-----+----+-----+------+---------+------+------+\n",
       " entity|   tp|  fp|   fn| total|precision|recall|    f1|\n",
       "+-------+-----+----+-----+------+---------+------+------+\n",
       "Disease|789.0|54.0|708.0|1497.0|   0.9359|0.5271|0.6744|\n",
       "+-------+-----+----+-----+------+---------+------+------+\n",
       "\n",
       "+------------------+\n",
       "             macro|\n",
       "+------------------+\n",
       "0.6743589743589744|\n",
       "+------------------+\n",
       "\n",
       "None\n",
       "+------------------+\n",
       "             micro|\n",
       "+------------------+\n",
       "0.6743589743589744|\n",
       "+------------------+\n",
       "\n",
       "None\n",
       "</div>"
      ]
     },
     "metadata": {
      "application/vnd.databricks.v1+output": {
       "addedWidgets": {},
       "arguments": {},
       "data": "<div class=\"ansiout\">+-------+-----+----+-----+------+---------+------+------+\n| entity|   tp|  fp|   fn| total|precision|recall|    f1|\n+-------+-----+----+-----+------+---------+------+------+\n|Disease|789.0|54.0|708.0|1497.0|   0.9359|0.5271|0.6744|\n+-------+-----+----+-----+------+---------+------+------+\n\n+------------------+\n|             macro|\n+------------------+\n|0.6743589743589744|\n+------------------+\n\nNone\n+------------------+\n|             micro|\n+------------------+\n|0.6743589743589744|\n+------------------+\n\nNone\n</div>",
       "datasetInfos": [],
       "removedWidgets": [],
       "type": "html"
      }
     },
     "output_type": "display_data"
    }
   ],
   "source": [
    "evaler = NerDLMetrics(mode=\"partial_chunk_per_token\", dropO=True)\n",
    "\n",
    "eval_result = evaler.computeMetricsFromDF(pred_df.select(\"label\",\"ner\"), prediction_col=\"ner\", label_col=\"label\").cache()\n",
    "\n",
    "eval_result.withColumn(\"precision\", F.round(eval_result[\"precision\"],4))\\\n",
    "    .withColumn(\"recall\", F.round(eval_result[\"recall\"],4))\\\n",
    "    .withColumn(\"f1\", F.round(eval_result[\"f1\"],4)).show(100)\n",
    "\n",
    "print(eval_result.selectExpr(\"avg(f1) as macro\").show())\n",
    "print (eval_result.selectExpr(\"sum(f1*total) as sumprod\",\"sum(total) as sumtotal\").selectExpr(\"sumprod/sumtotal as micro\").show())"
   ]
  },
  {
   "cell_type": "code",
   "execution_count": 0,
   "metadata": {
    "application/vnd.databricks.v1+cell": {
     "inputWidgets": {},
     "nuid": "0b0192f1-2002-4b7a-b18e-daf956744335",
     "showTitle": false,
     "title": ""
    }
   },
   "outputs": [
    {
     "data": {
      "text/html": [
       "<style scoped>\n",
       "  .ansiout {\n",
       "    display: block;\n",
       "    unicode-bidi: embed;\n",
       "    white-space: pre-wrap;\n",
       "    word-wrap: break-word;\n",
       "    word-break: break-all;\n",
       "    font-family: \"Source Code Pro\", \"Menlo\", monospace;;\n",
       "    font-size: 13px;\n",
       "    color: #555;\n",
       "    margin-left: 4px;\n",
       "    line-height: 19px;\n",
       "  }\n",
       "</style>\n",
       "<div class=\"ansiout\"></div>"
      ]
     },
     "metadata": {
      "application/vnd.databricks.v1+output": {
       "addedWidgets": {},
       "arguments": {},
       "data": "<div class=\"ansiout\"></div>",
       "datasetInfos": [],
       "removedWidgets": [],
       "type": "html"
      }
     },
     "output_type": "display_data"
    }
   ],
   "source": [
    "ner_model.stages[1].write().overwrite().save('/databricks/driver/models/custom_NER_3epoch')"
   ]
  },
  {
   "cell_type": "code",
   "execution_count": 0,
   "metadata": {
    "application/vnd.databricks.v1+cell": {
     "inputWidgets": {},
     "nuid": "ed434753-3fd1-443a-8c8a-90d1e28b649e",
     "showTitle": false,
     "title": ""
    }
   },
   "outputs": [
    {
     "data": {
      "text/html": [
       "<style scoped>\n",
       "  .ansiout {\n",
       "    display: block;\n",
       "    unicode-bidi: embed;\n",
       "    white-space: pre-wrap;\n",
       "    word-wrap: break-word;\n",
       "    word-break: break-all;\n",
       "    font-family: \"Source Code Pro\", \"Menlo\", monospace;;\n",
       "    font-size: 13px;\n",
       "    color: #555;\n",
       "    margin-left: 4px;\n",
       "    line-height: 19px;\n",
       "  }\n",
       "</style>\n",
       "<div class=\"ansiout\"></div>"
      ]
     },
     "metadata": {
      "application/vnd.databricks.v1+output": {
       "addedWidgets": {},
       "arguments": {},
       "data": "<div class=\"ansiout\"></div>",
       "datasetInfos": [],
       "removedWidgets": [],
       "type": "html"
      }
     },
     "output_type": "display_data"
    }
   ],
   "source": [
    "document = DocumentAssembler()\\\n",
    "    .setInputCol(\"text\")\\\n",
    "    .setOutputCol(\"document\")\n",
    "\n",
    "sentence = SentenceDetector()\\\n",
    "    .setInputCols(['document'])\\\n",
    "    .setOutputCol('sentence')\n",
    "\n",
    "token = Tokenizer()\\\n",
    "    .setInputCols(['sentence'])\\\n",
    "    .setOutputCol('token')\n",
    "\n",
    "loaded_ner_model = MedicalNerModel.load(\"dbfs:/databricks/driver/models/custom_NER_3epoch\")\\\n",
    " .setInputCols([\"sentence\", \"token\", \"embeddings\"])\\\n",
    " .setOutputCol(\"ner\")\n",
    "\n",
    "converter = NerConverter()\\\n",
    "  .setInputCols([\"document\", \"token\", \"ner\"])\\\n",
    "  .setOutputCol(\"ner_span\")\n",
    "\n",
    "ner_prediction_pipeline = Pipeline(\n",
    "    stages = [\n",
    "        document,\n",
    "        sentence,\n",
    "        token,\n",
    "        clinical_embeddings,\n",
    "        loaded_ner_model,\n",
    "        converter])\n",
    "\n",
    "empty_data = spark.createDataFrame([['']]).toDF(\"text\")\n",
    "\n",
    "prediction_model = ner_prediction_pipeline.fit(empty_data)\n",
    "\n",
    "from sparknlp.base import LightPipeline\n",
    "\n",
    "light_model = LightPipeline(prediction_model)"
   ]
  },
  {
   "cell_type": "code",
   "execution_count": 0,
   "metadata": {
    "application/vnd.databricks.v1+cell": {
     "inputWidgets": {},
     "nuid": "d6fc3f2e-2dfa-425d-94f8-e9e40e384a93",
     "showTitle": false,
     "title": ""
    }
   },
   "outputs": [
    {
     "data": {
      "text/html": [
       "<style scoped>\n",
       "  .ansiout {\n",
       "    display: block;\n",
       "    unicode-bidi: embed;\n",
       "    white-space: pre-wrap;\n",
       "    word-wrap: break-word;\n",
       "    word-break: break-all;\n",
       "    font-family: \"Source Code Pro\", \"Menlo\", monospace;;\n",
       "    font-size: 13px;\n",
       "    color: #555;\n",
       "    margin-left: 4px;\n",
       "    line-height: 19px;\n",
       "  }\n",
       "</style>\n",
       "<div class=\"ansiout\">Out[135]: [(&#39;metastatic&#39;, &#39;Disease&#39;), (&#39;breast cancer&#39;, &#39;Disease&#39;), (&#39;lung&#39;, &#39;Disease&#39;)]</div>"
      ]
     },
     "metadata": {
      "application/vnd.databricks.v1+output": {
       "addedWidgets": {},
       "arguments": {},
       "data": "<div class=\"ansiout\">Out[135]: [(&#39;metastatic&#39;, &#39;Disease&#39;), (&#39;breast cancer&#39;, &#39;Disease&#39;), (&#39;lung&#39;, &#39;Disease&#39;)]</div>",
       "datasetInfos": [],
       "removedWidgets": [],
       "type": "html"
      }
     },
     "output_type": "display_data"
    }
   ],
   "source": [
    "text = \"She has a metastatic breast cancer to lung\"\n",
    "\n",
    "def get_preds(text, light_model):\n",
    "\n",
    "    result = light_model.fullAnnotate(text)[0]\n",
    "\n",
    "    return [(i.result, i.metadata['entity']) for i in result['ner_span']]\n",
    "\n",
    "get_preds(text, light_model)"
   ]
  },
  {
   "cell_type": "markdown",
   "metadata": {
    "application/vnd.databricks.v1+cell": {
     "inputWidgets": {},
     "nuid": "af43603e-4b9b-40bf-8865-694a2d27b1d1",
     "showTitle": false,
     "title": ""
    }
   },
   "source": [
    "End of Notebook # 1"
   ]
  }
 ],
 "metadata": {
  "application/vnd.databricks.v1+notebook": {
   "dashboards": [],
   "language": "python",
   "notebookMetadata": {
    "pythonIndentUnit": 2
   },
   "notebookName": "1.Clinical_Named_Entity_Recognition_Model_v3.0",
   "notebookOrigID": 3187283821097002,
   "widgets": {}
  },
  "kernelspec": {
   "display_name": "Python 3",
   "language": "python",
   "name": "python3"
  },
  "language_info": {
   "codemirror_mode": {
    "name": "ipython",
    "version": 3
   },
   "file_extension": ".py",
   "mimetype": "text/x-python",
   "name": "python",
   "nbconvert_exporter": "python",
   "pygments_lexer": "ipython3",
   "version": "3.8.3"
  }
 },
 "nbformat": 4,
 "nbformat_minor": 1
}

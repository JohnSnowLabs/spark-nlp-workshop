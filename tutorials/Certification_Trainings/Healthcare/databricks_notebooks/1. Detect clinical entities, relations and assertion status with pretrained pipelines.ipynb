{
 "cells": [
  {
   "cell_type": "markdown",
   "metadata": {
    "application/vnd.databricks.v1+cell": {
     "inputWidgets": {},
     "nuid": "e8ef95e8-5870-4529-9015-844189b072b0",
     "showTitle": false,
     "title": ""
    }
   },
   "source": [
    "![JohnSnowLabs](https://nlp.johnsnowlabs.com/assets/images/logo.png)"
   ]
  },
  {
   "cell_type": "markdown",
   "metadata": {
    "application/vnd.databricks.v1+cell": {
     "inputWidgets": {},
     "nuid": "c61af834-3011-4520-bfde-295cdd9bc99d",
     "showTitle": false,
     "title": ""
    }
   },
   "source": [
    "# Detect clinical entities, relations and assertion status with pretrained pipelines"
   ]
  },
  {
   "cell_type": "code",
   "execution_count": 0,
   "metadata": {
    "application/vnd.databricks.v1+cell": {
     "inputWidgets": {},
     "nuid": "15dc33e9-c7e1-4f80-8a88-8f29efbfe00d",
     "showTitle": false,
     "title": ""
    }
   },
   "outputs": [
    {
     "data": {
      "text/html": [
       "<style scoped>\n",
       "  .ansiout {\n",
       "    display: block;\n",
       "    unicode-bidi: embed;\n",
       "    white-space: pre-wrap;\n",
       "    word-wrap: break-word;\n",
       "    word-break: break-all;\n",
       "    font-family: \"Source Code Pro\", \"Menlo\", monospace;;\n",
       "    font-size: 13px;\n",
       "    color: #555;\n",
       "    margin-left: 4px;\n",
       "    line-height: 19px;\n",
       "  }\n",
       "</style>\n",
       "<div class=\"ansiout\">sparknlp_jsl.version :  3.0.2\n",
       "Out[1]: </div>"
      ]
     },
     "metadata": {
      "application/vnd.databricks.v1+output": {
       "addedWidgets": {},
       "arguments": {},
       "data": "<div class=\"ansiout\">sparknlp_jsl.version :  3.0.2\nOut[1]: </div>",
       "datasetInfos": [],
       "removedWidgets": [],
       "type": "html"
      }
     },
     "output_type": "display_data"
    },
    {
     "data": {
      "text/html": [
       "\n",
       "            <div>\n",
       "                <p><b>SparkSession - hive</b></p>\n",
       "                \n",
       "        <div>\n",
       "            <p><b>SparkContext</b></p>\n",
       "\n",
       "            <p><a href=\"/?o=7956323724731612#setting/sparkui/0426-085147-sort445/driver-4894145084730811979\">Spark UI</a></p>\n",
       "\n",
       "            <dl>\n",
       "              <dt>Version</dt>\n",
       "                <dd><code>v3.0.1</code></dd>\n",
       "              <dt>Master</dt>\n",
       "                <dd><code>spark://10.139.64.5:7077</code></dd>\n",
       "              <dt>AppName</dt>\n",
       "                <dd><code>Databricks Shell</code></dd>\n",
       "            </dl>\n",
       "        </div>\n",
       "        \n",
       "            </div>\n",
       "        "
      ]
     },
     "metadata": {
      "application/vnd.databricks.v1+output": {
       "addedWidgets": {},
       "arguments": {},
       "data": "\n            <div>\n                <p><b>SparkSession - hive</b></p>\n                \n        <div>\n            <p><b>SparkContext</b></p>\n\n            <p><a href=\"/?o=7956323724731612#setting/sparkui/0426-085147-sort445/driver-4894145084730811979\">Spark UI</a></p>\n\n            <dl>\n              <dt>Version</dt>\n                <dd><code>v3.0.1</code></dd>\n              <dt>Master</dt>\n                <dd><code>spark://10.139.64.5:7077</code></dd>\n              <dt>AppName</dt>\n                <dd><code>Databricks Shell</code></dd>\n            </dl>\n        </div>\n        \n            </div>\n        ",
       "datasetInfos": [],
       "removedWidgets": [],
       "textData": null,
       "type": "htmlSandbox"
      }
     },
     "output_type": "display_data"
    }
   ],
   "source": [
    "import os\n",
    "import json\n",
    "import string\n",
    "import numpy as np\n",
    "import pandas as pd\n",
    "\n",
    "\n",
    "import sparknlp\n",
    "import sparknlp_jsl\n",
    "from sparknlp.base import *\n",
    "from sparknlp.util import *\n",
    "from sparknlp.annotator import *\n",
    "from sparknlp_jsl.annotator import *\n",
    "from sparknlp.pretrained import ResourceDownloader\n",
    "from sparknlp.pretrained import  PretrainedPipeline\n",
    "\n",
    "from pyspark.sql import functions as F\n",
    "from pyspark.ml import Pipeline, PipelineModel\n",
    "\n",
    "pd.set_option('max_colwidth', 100)\n",
    "pd.set_option('display.max_columns', 100)  \n",
    "pd.set_option('display.expand_frame_repr', False)\n",
    "\n",
    "\n",
    "print('sparknlp_jsl.version : ',sparknlp_jsl.version())\n",
    "\n",
    "spark"
   ]
  },
  {
   "cell_type": "markdown",
   "metadata": {
    "application/vnd.databricks.v1+cell": {
     "inputWidgets": {},
     "nuid": "8d7d13af-411e-4a99-9c45-af9c8fa71e36",
     "showTitle": false,
     "title": ""
    }
   },
   "source": [
    "## Pretrained Pipelines"
   ]
  },
  {
   "cell_type": "markdown",
   "metadata": {
    "application/vnd.databricks.v1+cell": {
     "inputWidgets": {},
     "nuid": "c9dc8d7c-0039-4511-9532-eb30a5623bbe",
     "showTitle": false,
     "title": ""
    }
   },
   "source": [
    "In order to save you from creating a pipeline from scratch, Spark NLP also has a pre-trained pipelines that are already fitted using certain annotators and transformers according to various use cases.\n",
    "\n",
    "Here is the list of clinical pre-trained pipelines: \n",
    "\n",
    "> These clinical pipelines are trained with `embeddings_healthcare_100d` and accuracies might be 1-2% lower than `embeddings_clinical` which is 200d.\n",
    "\n",
    "**1.   explain_clinical_doc_carp** :\n",
    "\n",
    "> a pipeline with `ner_clinical`, `assertion_dl`, `re_clinical` and `ner_posology`. It will extract clinical and medication entities, assign assertion status and find relationships between clinical entities.\n",
    "\n",
    "**2.   explain_clinical_doc_era** :\n",
    "\n",
    "> a pipeline with `ner_clinical_events`, `assertion_dl` and `re_temporal_events_clinical`. It will extract clinical entities, assign assertion status and find temporal relationships between clinical entities.\n",
    "\n",
    "**3.   recognize_entities_posology** :\n",
    "\n",
    "> a pipeline with `ner_posology`. It will only extract medication entities.\n",
    "\n",
    "\n",
    "** Since 3rd pipeline is already a subset of 1st and 2nd pipeline, we will only cover the first two pipelines in this notebook.\n",
    "\n",
    "**4.   explain_clinical_doc_ade** :\n",
    "\n",
    "> a pipeline for `Adverse Drug Events (ADE)` with `ner_ade_biobert`, `assertiondl_biobert` and `classifierdl_ade_conversational_biobert`. It will extract `ADE` and `DRUG` clinical entities, assign assertion status to `ADE` entities, and then assign ADE status to a text (`True` means ADE, `False` means not related to ADE).\n",
    "\n",
    "**letter codes in the naming conventions:**\n",
    "\n",
    "> c : ner_clinical\n",
    "\n",
    "> e : ner_clinical_events\n",
    "\n",
    "> r : relation extraction\n",
    "\n",
    "> p : ner_posology\n",
    "\n",
    "> a : assertion\n",
    "\n",
    "> ade : adverse drug events\n",
    "\n",
    "**Relation Extraction types:**\n",
    "\n",
    "`re_clinical` >> TrIP (improved), TrWP (worsened), TrCP (caused problem), TrAP (administered), TrNAP (avoided), TeRP (revealed problem), TeCP (investigate problem), PIP (problems related)\n",
    "\n",
    "`re_temporal_events_clinical` >> `AFTER`, `BEFORE`, `OVERLAP`\n",
    "\n",
    "**5. icd10cm_snomed_mapping** :\n",
    "\n",
    "> a pipeline converts ICD10CM codes to Snomed codes. Just feed a comma or white space delimited ICD10CM codes and it will return the corresponding SNOMED codes as a list.\n",
    "\n",
    "**6. snomed_icd10cm_mapping** :\n",
    "\n",
    "> a pipeline converts Snomed codes to ICD10CM codes. Just feed a comma or white space delimited SNOMED codes and it will return the corresponding ICD10CM codes as a list."
   ]
  },
  {
   "cell_type": "markdown",
   "metadata": {
    "application/vnd.databricks.v1+cell": {
     "inputWidgets": {},
     "nuid": "50730a6a-d363-47cb-9d3e-a0e4e985fcfe",
     "showTitle": false,
     "title": ""
    }
   },
   "source": [
    "## 1.explain_clinical_doc_carp \n",
    "\n",
    "a pipeline with ner_clinical, assertion_dl, re_clinical and ner_posology. It will extract clinical and medication entities, assign assertion status and find relationships between clinical entities."
   ]
  },
  {
   "cell_type": "code",
   "execution_count": 0,
   "metadata": {
    "application/vnd.databricks.v1+cell": {
     "inputWidgets": {},
     "nuid": "9c38cc0c-fbaf-4c57-8984-9c12aa32e4b9",
     "showTitle": false,
     "title": ""
    }
   },
   "outputs": [
    {
     "data": {
      "text/html": [
       "<style scoped>\n",
       "  .ansiout {\n",
       "    display: block;\n",
       "    unicode-bidi: embed;\n",
       "    white-space: pre-wrap;\n",
       "    word-wrap: break-word;\n",
       "    word-break: break-all;\n",
       "    font-family: \"Source Code Pro\", \"Menlo\", monospace;;\n",
       "    font-size: 13px;\n",
       "    color: #555;\n",
       "    margin-left: 4px;\n",
       "    line-height: 19px;\n",
       "  }\n",
       "</style>\n",
       "<div class=\"ansiout\">explain_clinical_doc_carp download started this may take some time.\n",
       "Approx size to download 1.6 GB\n",
       "\r",
       "[ | ]\r",
       "[ / ]\r",
       "[ — ]\r",
       "[ \\ ]\r",
       "[ | ]\r",
       "[ / ]\r",
       "[ — ]\r",
       "[ \\ ]\r",
       "[ | ]\r",
       "[ / ]\r",
       "[ — ]\r",
       "[ \\ ]\r",
       "[ | ]\r",
       "[ / ]\r",
       "[ — ]\r",
       "[ \\ ]\r",
       "[ | ]\r",
       "[ / ]\r",
       "[ — ]\r",
       "[ \\ ]\r",
       "[ | ]\r",
       "[ / ]\r",
       "[ — ]\r",
       "[ \\ ]\r",
       "[ | ]\r",
       "[ / ]\r",
       "[ — ]\r",
       "[ \\ ]\r",
       "[ | ]\r",
       "[ / ]\r",
       "[ — ]\r",
       "[ \\ ]\r",
       "[ | ]\r",
       "[ / ]\r",
       "[ — ]\r",
       "[ \\ ]\r",
       "[ | ]\r",
       "[ / ]\r",
       "[ — ]\r",
       "[ \\ ]\r",
       "[ | ]\r",
       "[ / ]\r",
       "[ — ]\r",
       "[ \\ ]\r",
       "[ | ]\r",
       "[ / ]\r",
       "[ — ]\r",
       "[ \\ ]\r",
       "[ | ]\r",
       "[ / ]\r",
       "[ — ]\r",
       "[ \\ ]\r",
       "[ | ]\r",
       "[ / ]\r",
       "[ — ]\r",
       "[ \\ ]\r",
       "[ | ]\r",
       "[ / ]\r",
       "[ — ]\r",
       "[ \\ ]\r",
       "[ | ]\r",
       "[ / ]\r",
       "[ — ]\r",
       "[ \\ ]\r",
       "[ | ]\r",
       "[ / ]\r",
       "[ — ]\r",
       "[ \\ ]\r",
       "[ | ]\r",
       "[ / ]\r",
       "[ — ]\r",
       "[ \\ ]\r",
       "[ | ]\r",
       "[ / ]\r",
       "[ — ]\r",
       "[ \\ ]\r",
       "[ | ]\r",
       "[ / ]\r",
       "[ — ]\r",
       "[ \\ ]\r",
       "[ | ]\r",
       "[ / ]\r",
       "[ — ]\r",
       "[ \\ ]\r",
       "[ | ]\r",
       "[ / ]\r",
       "[ — ]\r",
       "[ \\ ]\r",
       "[ | ]\r",
       "[ / ]\r",
       "[ — ]\r",
       "[ \\ ]\r",
       "[ | ]\r",
       "[ / ]\r",
       "[ — ]\r",
       "[ \\ ]\r",
       "[ | ]\r",
       "[ / ]\r",
       "[ — ]\r",
       "[ \\ ]\r",
       "[ | ]\r",
       "[ / ]\r",
       "[ — ]\r",
       "[ \\ ]\r",
       "[ | ]\r",
       "[ / ]\r",
       "[ — ]\r",
       "[ \\ ]\r",
       "[ | ]\r",
       "[ / ]\r",
       "[ — ]\r",
       "[ \\ ]\r",
       "[ | ]\r",
       "[ / ]\r",
       "[ — ]\r",
       "[ \\ ]\r",
       "[ | ]\r",
       "[ / ]\r",
       "[ — ]\r",
       "[ \\ ]\r",
       "[ | ]\r",
       "[ / ]\r",
       "[ — ]\r",
       "[ \\ ]\r",
       "[ | ]\r",
       "[ / ]\r",
       "[ — ]\r",
       "[ \\ ]\r",
       "[ | ]\r",
       "[ / ]\r",
       "[ — ]\r",
       "[ \\ ]\r",
       "[ | ]\r",
       "[ / ]\r",
       "[ — ]\r",
       "[ \\ ]\r",
       "[ | ]\r",
       "[ / ]\r",
       "[ — ]\r",
       "[ \\ ]\r",
       "[ | ]\r",
       "[ / ]\r",
       "[ — ]\r",
       "[ \\ ]\r",
       "[ | ]\r",
       "[ / ]\r",
       "[ — ]\r",
       "[ \\ ]\r",
       "[ | ]\r",
       "[ / ]\r",
       "[ — ]\r",
       "[OK!]\n",
       "</div>"
      ]
     },
     "metadata": {
      "application/vnd.databricks.v1+output": {
       "addedWidgets": {},
       "arguments": {},
       "data": "<div class=\"ansiout\">explain_clinical_doc_carp download started this may take some time.\nApprox size to download 1.6 GB\n\r[ | ]\r[ / ]\r[ — ]\r[ \\ ]\r[ | ]\r[ / ]\r[ — ]\r[ \\ ]\r[ | ]\r[ / ]\r[ — ]\r[ \\ ]\r[ | ]\r[ / ]\r[ — ]\r[ \\ ]\r[ | ]\r[ / ]\r[ — ]\r[ \\ ]\r[ | ]\r[ / ]\r[ — ]\r[ \\ ]\r[ | ]\r[ / ]\r[ — ]\r[ \\ ]\r[ | ]\r[ / ]\r[ — ]\r[ \\ ]\r[ | ]\r[ / ]\r[ — ]\r[ \\ ]\r[ | ]\r[ / ]\r[ — ]\r[ \\ ]\r[ | ]\r[ / ]\r[ — ]\r[ \\ ]\r[ | ]\r[ / ]\r[ — ]\r[ \\ ]\r[ | ]\r[ / ]\r[ — ]\r[ \\ ]\r[ | ]\r[ / ]\r[ — ]\r[ \\ ]\r[ | ]\r[ / ]\r[ — ]\r[ \\ ]\r[ | ]\r[ / ]\r[ — ]\r[ \\ ]\r[ | ]\r[ / ]\r[ — ]\r[ \\ ]\r[ | ]\r[ / ]\r[ — ]\r[ \\ ]\r[ | ]\r[ / ]\r[ — ]\r[ \\ ]\r[ | ]\r[ / ]\r[ — ]\r[ \\ ]\r[ | ]\r[ / ]\r[ — ]\r[ \\ ]\r[ | ]\r[ / ]\r[ — ]\r[ \\ ]\r[ | ]\r[ / ]\r[ — ]\r[ \\ ]\r[ | ]\r[ / ]\r[ — ]\r[ \\ ]\r[ | ]\r[ / ]\r[ — ]\r[ \\ ]\r[ | ]\r[ / ]\r[ — ]\r[ \\ ]\r[ | ]\r[ / ]\r[ — ]\r[ \\ ]\r[ | ]\r[ / ]\r[ — ]\r[ \\ ]\r[ | ]\r[ / ]\r[ — ]\r[ \\ ]\r[ | ]\r[ / ]\r[ — ]\r[ \\ ]\r[ | ]\r[ / ]\r[ — ]\r[ \\ ]\r[ | ]\r[ / ]\r[ — ]\r[ \\ ]\r[ | ]\r[ / ]\r[ — ]\r[ \\ ]\r[ | ]\r[ / ]\r[ — ]\r[ \\ ]\r[ | ]\r[ / ]\r[ — ]\r[ \\ ]\r[ | ]\r[ / ]\r[ — ]\r[ \\ ]\r[ | ]\r[ / ]\r[ — ]\r[ \\ ]\r[ | ]\r[ / ]\r[ — ]\r[OK!]\n</div>",
       "datasetInfos": [],
       "removedWidgets": [],
       "type": "html"
      }
     },
     "output_type": "display_data"
    }
   ],
   "source": [
    "pipeline = PretrainedPipeline('explain_clinical_doc_carp', 'en', 'clinical/models')"
   ]
  },
  {
   "cell_type": "code",
   "execution_count": 0,
   "metadata": {
    "application/vnd.databricks.v1+cell": {
     "inputWidgets": {},
     "nuid": "e0e5413e-13ae-48ea-a55e-a1b9d4c19d90",
     "showTitle": false,
     "title": ""
    }
   },
   "outputs": [
    {
     "data": {
      "text/html": [
       "<style scoped>\n",
       "  .ansiout {\n",
       "    display: block;\n",
       "    unicode-bidi: embed;\n",
       "    white-space: pre-wrap;\n",
       "    word-wrap: break-word;\n",
       "    word-break: break-all;\n",
       "    font-family: \"Source Code Pro\", \"Menlo\", monospace;;\n",
       "    font-size: 13px;\n",
       "    color: #555;\n",
       "    margin-left: 4px;\n",
       "    line-height: 19px;\n",
       "  }\n",
       "</style>\n",
       "<div class=\"ansiout\">Out[3]: [DocumentAssembler_9619f8fd837c,\n",
       " SentenceDetector_c0b14c755033,\n",
       " REGEX_TOKENIZER_352efbad7483,\n",
       " POS_6f55785005bf,\n",
       " dependency_d5a8da6c9093,\n",
       " WORD_EMBEDDINGS_MODEL_9004b1d00302,\n",
       " MedicalNerModel_cd5ce67b529f,\n",
       " NerConverter_89fec9d64d2a,\n",
       " MedicalNerModel_4a303d875127,\n",
       " NerConverter_50c49f50f3ec,\n",
       " ASSERTION_DL_25881ab6309e,\n",
       " RelationExtractionModel_9c255241fec3]</div>"
      ]
     },
     "metadata": {
      "application/vnd.databricks.v1+output": {
       "addedWidgets": {},
       "arguments": {},
       "data": "<div class=\"ansiout\">Out[3]: [DocumentAssembler_9619f8fd837c,\n SentenceDetector_c0b14c755033,\n REGEX_TOKENIZER_352efbad7483,\n POS_6f55785005bf,\n dependency_d5a8da6c9093,\n WORD_EMBEDDINGS_MODEL_9004b1d00302,\n MedicalNerModel_cd5ce67b529f,\n NerConverter_89fec9d64d2a,\n MedicalNerModel_4a303d875127,\n NerConverter_50c49f50f3ec,\n ASSERTION_DL_25881ab6309e,\n RelationExtractionModel_9c255241fec3]</div>",
       "datasetInfos": [],
       "removedWidgets": [],
       "type": "html"
      }
     },
     "output_type": "display_data"
    }
   ],
   "source": [
    "pipeline.model.stages"
   ]
  },
  {
   "cell_type": "code",
   "execution_count": 0,
   "metadata": {
    "application/vnd.databricks.v1+cell": {
     "inputWidgets": {},
     "nuid": "1c222c7b-c3df-4283-9fad-a751a4ba468e",
     "showTitle": false,
     "title": ""
    }
   },
   "outputs": [],
   "source": [
    "# Load pretrained pipeline from local disk:\n",
    "\n",
    "# >> pipeline_local = PretrainedPipeline.from_disk('/databricks/driver/explain_clinical_doc_carp_en_2.5.5_2.4_1597841630062')"
   ]
  },
  {
   "cell_type": "code",
   "execution_count": 0,
   "metadata": {
    "application/vnd.databricks.v1+cell": {
     "inputWidgets": {},
     "nuid": "bd740490-64b3-439e-9fdb-1f9cd6a7a79f",
     "showTitle": false,
     "title": ""
    }
   },
   "outputs": [
    {
     "data": {
      "text/html": [
       "<style scoped>\n",
       "  .ansiout {\n",
       "    display: block;\n",
       "    unicode-bidi: embed;\n",
       "    white-space: pre-wrap;\n",
       "    word-wrap: break-word;\n",
       "    word-break: break-all;\n",
       "    font-family: \"Source Code Pro\", \"Menlo\", monospace;;\n",
       "    font-size: 13px;\n",
       "    color: #555;\n",
       "    margin-left: 4px;\n",
       "    line-height: 19px;\n",
       "  }\n",
       "</style>\n",
       "<div class=\"ansiout\">Out[4]: dict_keys([&#39;sentences&#39;, &#39;clinical_ner_tags&#39;, &#39;document&#39;, &#39;clinical_ner_chunks&#39;, &#39;assertion&#39;, &#39;clinical_relations&#39;, &#39;posology_ner_tags&#39;, &#39;tokens&#39;, &#39;posology_ner_chunks&#39;, &#39;embeddings&#39;, &#39;pos_tags&#39;, &#39;dependencies&#39;])</div>"
      ]
     },
     "metadata": {
      "application/vnd.databricks.v1+output": {
       "addedWidgets": {},
       "arguments": {},
       "data": "<div class=\"ansiout\">Out[4]: dict_keys([&#39;sentences&#39;, &#39;clinical_ner_tags&#39;, &#39;document&#39;, &#39;clinical_ner_chunks&#39;, &#39;assertion&#39;, &#39;clinical_relations&#39;, &#39;posology_ner_tags&#39;, &#39;tokens&#39;, &#39;posology_ner_chunks&#39;, &#39;embeddings&#39;, &#39;pos_tags&#39;, &#39;dependencies&#39;])</div>",
       "datasetInfos": [],
       "removedWidgets": [],
       "type": "html"
      }
     },
     "output_type": "display_data"
    }
   ],
   "source": [
    "text =\"\"\"A 28-year-old female with a history of gestational diabetes mellitus, used to take metformin 1000 mg two times a day, presented with a one-week history of polyuria , polydipsia , poor appetite , and vomiting .\n",
    "She was seen by the endocrinology service and discharged on 40 units of insulin glargine at night, 12 units of insulin lispro with meals.\n",
    "\"\"\"\n",
    "\n",
    "annotations = pipeline.annotate(text)\n",
    "\n",
    "annotations.keys()\n"
   ]
  },
  {
   "cell_type": "code",
   "execution_count": 0,
   "metadata": {
    "application/vnd.databricks.v1+cell": {
     "inputWidgets": {},
     "nuid": "89af0785-c32e-44bf-847d-aa3767d1f5b8",
     "showTitle": false,
     "title": ""
    }
   },
   "outputs": [
    {
     "data": {
      "text/html": [
       "<style scoped>\n",
       "  .ansiout {\n",
       "    display: block;\n",
       "    unicode-bidi: embed;\n",
       "    white-space: pre-wrap;\n",
       "    word-wrap: break-word;\n",
       "    word-break: break-all;\n",
       "    font-family: \"Source Code Pro\", \"Menlo\", monospace;;\n",
       "    font-size: 13px;\n",
       "    color: #555;\n",
       "    margin-left: 4px;\n",
       "    line-height: 19px;\n",
       "  }\n",
       "</style>\n",
       "<div class=\"ansiout\">Out[5]: </div>"
      ]
     },
     "metadata": {
      "application/vnd.databricks.v1+output": {
       "addedWidgets": {},
       "arguments": {},
       "data": "<div class=\"ansiout\">Out[5]: </div>",
       "datasetInfos": [],
       "removedWidgets": [],
       "type": "html"
      }
     },
     "output_type": "display_data"
    },
    {
     "data": {
      "text/html": [
       "<div>\n",
       "<style scoped>\n",
       "    .dataframe tbody tr th:only-of-type {\n",
       "        vertical-align: middle;\n",
       "    }\n",
       "\n",
       "    .dataframe tbody tr th {\n",
       "        vertical-align: top;\n",
       "    }\n",
       "\n",
       "    .dataframe thead th {\n",
       "        text-align: right;\n",
       "    }\n",
       "</style>\n",
       "<table border=\"1\" class=\"dataframe\">\n",
       "  <thead>\n",
       "    <tr style=\"text-align: right;\">\n",
       "      <th></th>\n",
       "      <th>tokens</th>\n",
       "      <th>clinical_ner_tags</th>\n",
       "      <th>posology_ner_tags</th>\n",
       "      <th>POS_tags</th>\n",
       "      <th>dependencies</th>\n",
       "    </tr>\n",
       "  </thead>\n",
       "  <tbody>\n",
       "    <tr>\n",
       "      <th>0</th>\n",
       "      <td>A</td>\n",
       "      <td>O</td>\n",
       "      <td>O</td>\n",
       "      <td>DD</td>\n",
       "      <td>female</td>\n",
       "    </tr>\n",
       "    <tr>\n",
       "      <th>1</th>\n",
       "      <td>28-year-old</td>\n",
       "      <td>O</td>\n",
       "      <td>O</td>\n",
       "      <td>NN</td>\n",
       "      <td>female</td>\n",
       "    </tr>\n",
       "    <tr>\n",
       "      <th>2</th>\n",
       "      <td>female</td>\n",
       "      <td>O</td>\n",
       "      <td>O</td>\n",
       "      <td>NN</td>\n",
       "      <td>ROOT</td>\n",
       "    </tr>\n",
       "    <tr>\n",
       "      <th>3</th>\n",
       "      <td>with</td>\n",
       "      <td>O</td>\n",
       "      <td>O</td>\n",
       "      <td>II</td>\n",
       "      <td>history</td>\n",
       "    </tr>\n",
       "    <tr>\n",
       "      <th>4</th>\n",
       "      <td>a</td>\n",
       "      <td>O</td>\n",
       "      <td>O</td>\n",
       "      <td>DD</td>\n",
       "      <td>history</td>\n",
       "    </tr>\n",
       "    <tr>\n",
       "      <th>5</th>\n",
       "      <td>history</td>\n",
       "      <td>O</td>\n",
       "      <td>O</td>\n",
       "      <td>NN</td>\n",
       "      <td>female</td>\n",
       "    </tr>\n",
       "    <tr>\n",
       "      <th>6</th>\n",
       "      <td>of</td>\n",
       "      <td>O</td>\n",
       "      <td>O</td>\n",
       "      <td>II</td>\n",
       "      <td>history</td>\n",
       "    </tr>\n",
       "    <tr>\n",
       "      <th>7</th>\n",
       "      <td>gestational</td>\n",
       "      <td>B-PROBLEM</td>\n",
       "      <td>O</td>\n",
       "      <td>JJ</td>\n",
       "      <td>of</td>\n",
       "    </tr>\n",
       "    <tr>\n",
       "      <th>8</th>\n",
       "      <td>diabetes</td>\n",
       "      <td>I-PROBLEM</td>\n",
       "      <td>O</td>\n",
       "      <td>NN</td>\n",
       "      <td>mellitus</td>\n",
       "    </tr>\n",
       "    <tr>\n",
       "      <th>9</th>\n",
       "      <td>mellitus</td>\n",
       "      <td>I-PROBLEM</td>\n",
       "      <td>O</td>\n",
       "      <td>NN</td>\n",
       "      <td>gestational</td>\n",
       "    </tr>\n",
       "    <tr>\n",
       "      <th>10</th>\n",
       "      <td>,</td>\n",
       "      <td>O</td>\n",
       "      <td>O</td>\n",
       "      <td>NN</td>\n",
       "      <td>used</td>\n",
       "    </tr>\n",
       "    <tr>\n",
       "      <th>11</th>\n",
       "      <td>used</td>\n",
       "      <td>O</td>\n",
       "      <td>O</td>\n",
       "      <td>VVN</td>\n",
       "      <td>mellitus</td>\n",
       "    </tr>\n",
       "    <tr>\n",
       "      <th>12</th>\n",
       "      <td>to</td>\n",
       "      <td>O</td>\n",
       "      <td>O</td>\n",
       "      <td>TO</td>\n",
       "      <td>take</td>\n",
       "    </tr>\n",
       "    <tr>\n",
       "      <th>13</th>\n",
       "      <td>take</td>\n",
       "      <td>O</td>\n",
       "      <td>O</td>\n",
       "      <td>VVI</td>\n",
       "      <td>used</td>\n",
       "    </tr>\n",
       "    <tr>\n",
       "      <th>14</th>\n",
       "      <td>metformin</td>\n",
       "      <td>B-TREATMENT</td>\n",
       "      <td>B-DRUG</td>\n",
       "      <td>NN</td>\n",
       "      <td>take</td>\n",
       "    </tr>\n",
       "    <tr>\n",
       "      <th>15</th>\n",
       "      <td>1000</td>\n",
       "      <td>O</td>\n",
       "      <td>B-STRENGTH</td>\n",
       "      <td>MC</td>\n",
       "      <td>metformin</td>\n",
       "    </tr>\n",
       "    <tr>\n",
       "      <th>16</th>\n",
       "      <td>mg</td>\n",
       "      <td>O</td>\n",
       "      <td>I-STRENGTH</td>\n",
       "      <td>NN</td>\n",
       "      <td>1000</td>\n",
       "    </tr>\n",
       "    <tr>\n",
       "      <th>17</th>\n",
       "      <td>two</td>\n",
       "      <td>O</td>\n",
       "      <td>B-FREQUENCY</td>\n",
       "      <td>MC</td>\n",
       "      <td>times</td>\n",
       "    </tr>\n",
       "    <tr>\n",
       "      <th>18</th>\n",
       "      <td>times</td>\n",
       "      <td>O</td>\n",
       "      <td>I-FREQUENCY</td>\n",
       "      <td>NNS</td>\n",
       "      <td>mg</td>\n",
       "    </tr>\n",
       "    <tr>\n",
       "      <th>19</th>\n",
       "      <td>a</td>\n",
       "      <td>O</td>\n",
       "      <td>I-FREQUENCY</td>\n",
       "      <td>DD</td>\n",
       "      <td>day</td>\n",
       "    </tr>\n",
       "  </tbody>\n",
       "</table>\n",
       "</div>"
      ]
     },
     "metadata": {
      "application/vnd.databricks.v1+output": {
       "addedWidgets": {},
       "arguments": {},
       "data": "<div>\n<style scoped>\n    .dataframe tbody tr th:only-of-type {\n        vertical-align: middle;\n    }\n\n    .dataframe tbody tr th {\n        vertical-align: top;\n    }\n\n    .dataframe thead th {\n        text-align: right;\n    }\n</style>\n<table border=\"1\" class=\"dataframe\">\n  <thead>\n    <tr style=\"text-align: right;\">\n      <th></th>\n      <th>tokens</th>\n      <th>clinical_ner_tags</th>\n      <th>posology_ner_tags</th>\n      <th>POS_tags</th>\n      <th>dependencies</th>\n    </tr>\n  </thead>\n  <tbody>\n    <tr>\n      <th>0</th>\n      <td>A</td>\n      <td>O</td>\n      <td>O</td>\n      <td>DD</td>\n      <td>female</td>\n    </tr>\n    <tr>\n      <th>1</th>\n      <td>28-year-old</td>\n      <td>O</td>\n      <td>O</td>\n      <td>NN</td>\n      <td>female</td>\n    </tr>\n    <tr>\n      <th>2</th>\n      <td>female</td>\n      <td>O</td>\n      <td>O</td>\n      <td>NN</td>\n      <td>ROOT</td>\n    </tr>\n    <tr>\n      <th>3</th>\n      <td>with</td>\n      <td>O</td>\n      <td>O</td>\n      <td>II</td>\n      <td>history</td>\n    </tr>\n    <tr>\n      <th>4</th>\n      <td>a</td>\n      <td>O</td>\n      <td>O</td>\n      <td>DD</td>\n      <td>history</td>\n    </tr>\n    <tr>\n      <th>5</th>\n      <td>history</td>\n      <td>O</td>\n      <td>O</td>\n      <td>NN</td>\n      <td>female</td>\n    </tr>\n    <tr>\n      <th>6</th>\n      <td>of</td>\n      <td>O</td>\n      <td>O</td>\n      <td>II</td>\n      <td>history</td>\n    </tr>\n    <tr>\n      <th>7</th>\n      <td>gestational</td>\n      <td>B-PROBLEM</td>\n      <td>O</td>\n      <td>JJ</td>\n      <td>of</td>\n    </tr>\n    <tr>\n      <th>8</th>\n      <td>diabetes</td>\n      <td>I-PROBLEM</td>\n      <td>O</td>\n      <td>NN</td>\n      <td>mellitus</td>\n    </tr>\n    <tr>\n      <th>9</th>\n      <td>mellitus</td>\n      <td>I-PROBLEM</td>\n      <td>O</td>\n      <td>NN</td>\n      <td>gestational</td>\n    </tr>\n    <tr>\n      <th>10</th>\n      <td>,</td>\n      <td>O</td>\n      <td>O</td>\n      <td>NN</td>\n      <td>used</td>\n    </tr>\n    <tr>\n      <th>11</th>\n      <td>used</td>\n      <td>O</td>\n      <td>O</td>\n      <td>VVN</td>\n      <td>mellitus</td>\n    </tr>\n    <tr>\n      <th>12</th>\n      <td>to</td>\n      <td>O</td>\n      <td>O</td>\n      <td>TO</td>\n      <td>take</td>\n    </tr>\n    <tr>\n      <th>13</th>\n      <td>take</td>\n      <td>O</td>\n      <td>O</td>\n      <td>VVI</td>\n      <td>used</td>\n    </tr>\n    <tr>\n      <th>14</th>\n      <td>metformin</td>\n      <td>B-TREATMENT</td>\n      <td>B-DRUG</td>\n      <td>NN</td>\n      <td>take</td>\n    </tr>\n    <tr>\n      <th>15</th>\n      <td>1000</td>\n      <td>O</td>\n      <td>B-STRENGTH</td>\n      <td>MC</td>\n      <td>metformin</td>\n    </tr>\n    <tr>\n      <th>16</th>\n      <td>mg</td>\n      <td>O</td>\n      <td>I-STRENGTH</td>\n      <td>NN</td>\n      <td>1000</td>\n    </tr>\n    <tr>\n      <th>17</th>\n      <td>two</td>\n      <td>O</td>\n      <td>B-FREQUENCY</td>\n      <td>MC</td>\n      <td>times</td>\n    </tr>\n    <tr>\n      <th>18</th>\n      <td>times</td>\n      <td>O</td>\n      <td>I-FREQUENCY</td>\n      <td>NNS</td>\n      <td>mg</td>\n    </tr>\n    <tr>\n      <th>19</th>\n      <td>a</td>\n      <td>O</td>\n      <td>I-FREQUENCY</td>\n      <td>DD</td>\n      <td>day</td>\n    </tr>\n  </tbody>\n</table>\n</div>",
       "datasetInfos": [],
       "removedWidgets": [],
       "textData": null,
       "type": "htmlSandbox"
      }
     },
     "output_type": "display_data"
    }
   ],
   "source": [
    "import pandas as pd\n",
    "\n",
    "rows = list(zip(annotations['tokens'], annotations['clinical_ner_tags'], annotations['posology_ner_tags'], annotations['pos_tags'], annotations['dependencies']))\n",
    "\n",
    "df = pd.DataFrame(rows, columns = ['tokens','clinical_ner_tags','posology_ner_tags','POS_tags','dependencies'])\n",
    "\n",
    "df.head(20)"
   ]
  },
  {
   "cell_type": "code",
   "execution_count": 0,
   "metadata": {
    "application/vnd.databricks.v1+cell": {
     "inputWidgets": {},
     "nuid": "1a8f8c70-e860-4f55-af5e-f582653d126b",
     "showTitle": false,
     "title": ""
    }
   },
   "outputs": [
    {
     "data": {
      "text/html": [
       "<style scoped>\n",
       "  .ansiout {\n",
       "    display: block;\n",
       "    unicode-bidi: embed;\n",
       "    white-space: pre-wrap;\n",
       "    word-wrap: break-word;\n",
       "    word-break: break-all;\n",
       "    font-family: \"Source Code Pro\", \"Menlo\", monospace;;\n",
       "    font-size: 13px;\n",
       "    color: #555;\n",
       "    margin-left: 4px;\n",
       "    line-height: 19px;\n",
       "  }\n",
       "</style>\n",
       "<div class=\"ansiout\">Out[6]: </div>"
      ]
     },
     "metadata": {
      "application/vnd.databricks.v1+output": {
       "addedWidgets": {},
       "arguments": {},
       "data": "<div class=\"ansiout\">Out[6]: </div>",
       "datasetInfos": [],
       "removedWidgets": [],
       "type": "html"
      }
     },
     "output_type": "display_data"
    },
    {
     "data": {
      "text/html": [
       "<div>\n",
       "<style scoped>\n",
       "    .dataframe tbody tr th:only-of-type {\n",
       "        vertical-align: middle;\n",
       "    }\n",
       "\n",
       "    .dataframe tbody tr th {\n",
       "        vertical-align: top;\n",
       "    }\n",
       "\n",
       "    .dataframe thead th {\n",
       "        text-align: right;\n",
       "    }\n",
       "</style>\n",
       "<table border=\"1\" class=\"dataframe\">\n",
       "  <thead>\n",
       "    <tr style=\"text-align: right;\">\n",
       "      <th></th>\n",
       "      <th>chunks</th>\n",
       "      <th>entities</th>\n",
       "      <th>assertion</th>\n",
       "    </tr>\n",
       "  </thead>\n",
       "  <tbody>\n",
       "    <tr>\n",
       "      <th>0</th>\n",
       "      <td>a headache</td>\n",
       "      <td>PROBLEM</td>\n",
       "      <td>present</td>\n",
       "    </tr>\n",
       "    <tr>\n",
       "      <th>1</th>\n",
       "      <td>anxious</td>\n",
       "      <td>PROBLEM</td>\n",
       "      <td>conditional</td>\n",
       "    </tr>\n",
       "    <tr>\n",
       "      <th>2</th>\n",
       "      <td>alopecia</td>\n",
       "      <td>PROBLEM</td>\n",
       "      <td>absent</td>\n",
       "    </tr>\n",
       "    <tr>\n",
       "      <th>3</th>\n",
       "      <td>pain</td>\n",
       "      <td>PROBLEM</td>\n",
       "      <td>absent</td>\n",
       "    </tr>\n",
       "  </tbody>\n",
       "</table>\n",
       "</div>"
      ]
     },
     "metadata": {
      "application/vnd.databricks.v1+output": {
       "addedWidgets": {},
       "arguments": {},
       "data": "<div>\n<style scoped>\n    .dataframe tbody tr th:only-of-type {\n        vertical-align: middle;\n    }\n\n    .dataframe tbody tr th {\n        vertical-align: top;\n    }\n\n    .dataframe thead th {\n        text-align: right;\n    }\n</style>\n<table border=\"1\" class=\"dataframe\">\n  <thead>\n    <tr style=\"text-align: right;\">\n      <th></th>\n      <th>chunks</th>\n      <th>entities</th>\n      <th>assertion</th>\n    </tr>\n  </thead>\n  <tbody>\n    <tr>\n      <th>0</th>\n      <td>a headache</td>\n      <td>PROBLEM</td>\n      <td>present</td>\n    </tr>\n    <tr>\n      <th>1</th>\n      <td>anxious</td>\n      <td>PROBLEM</td>\n      <td>conditional</td>\n    </tr>\n    <tr>\n      <th>2</th>\n      <td>alopecia</td>\n      <td>PROBLEM</td>\n      <td>absent</td>\n    </tr>\n    <tr>\n      <th>3</th>\n      <td>pain</td>\n      <td>PROBLEM</td>\n      <td>absent</td>\n    </tr>\n  </tbody>\n</table>\n</div>",
       "datasetInfos": [],
       "removedWidgets": [],
       "textData": null,
       "type": "htmlSandbox"
      }
     },
     "output_type": "display_data"
    }
   ],
   "source": [
    "text = 'Patient has a headache for the last 2 weeks and appears anxious when she walks fast. No alopecia noted. She denies pain'\n",
    "\n",
    "result = pipeline.fullAnnotate(text)[0]\n",
    "\n",
    "chunks=[]\n",
    "entities=[]\n",
    "status=[]\n",
    "\n",
    "for n,m in zip(result['clinical_ner_chunks'],result['assertion']):\n",
    "    \n",
    "    chunks.append(n.result)\n",
    "    entities.append(n.metadata['entity']) \n",
    "    status.append(m.result)\n",
    "        \n",
    "df = pd.DataFrame({'chunks':chunks, 'entities':entities, 'assertion':status})\n",
    "\n",
    "df"
   ]
  },
  {
   "cell_type": "code",
   "execution_count": 0,
   "metadata": {
    "application/vnd.databricks.v1+cell": {
     "inputWidgets": {},
     "nuid": "bb7b3bea-dff4-4d3a-a1e9-03b80fa81b32",
     "showTitle": false,
     "title": ""
    }
   },
   "outputs": [
    {
     "data": {
      "text/html": [
       "<style scoped>\n",
       "  .ansiout {\n",
       "    display: block;\n",
       "    unicode-bidi: embed;\n",
       "    white-space: pre-wrap;\n",
       "    word-wrap: break-word;\n",
       "    word-break: break-all;\n",
       "    font-family: \"Source Code Pro\", \"Menlo\", monospace;;\n",
       "    font-size: 13px;\n",
       "    color: #555;\n",
       "    margin-left: 4px;\n",
       "    line-height: 19px;\n",
       "  }\n",
       "</style>\n",
       "<div class=\"ansiout\">Out[8]: </div>"
      ]
     },
     "metadata": {
      "application/vnd.databricks.v1+output": {
       "addedWidgets": {},
       "arguments": {},
       "data": "<div class=\"ansiout\">Out[8]: </div>",
       "datasetInfos": [],
       "removedWidgets": [],
       "type": "html"
      }
     },
     "output_type": "display_data"
    },
    {
     "data": {
      "text/html": [
       "<div>\n",
       "<style scoped>\n",
       "    .dataframe tbody tr th:only-of-type {\n",
       "        vertical-align: middle;\n",
       "    }\n",
       "\n",
       "    .dataframe tbody tr th {\n",
       "        vertical-align: top;\n",
       "    }\n",
       "\n",
       "    .dataframe thead th {\n",
       "        text-align: right;\n",
       "    }\n",
       "</style>\n",
       "<table border=\"1\" class=\"dataframe\">\n",
       "  <thead>\n",
       "    <tr style=\"text-align: right;\">\n",
       "      <th></th>\n",
       "      <th>chunks</th>\n",
       "      <th>begin</th>\n",
       "      <th>end</th>\n",
       "      <th>entities</th>\n",
       "    </tr>\n",
       "  </thead>\n",
       "  <tbody>\n",
       "    <tr>\n",
       "      <th>0</th>\n",
       "      <td>1 unit</td>\n",
       "      <td>28</td>\n",
       "      <td>33</td>\n",
       "      <td>DOSAGE</td>\n",
       "    </tr>\n",
       "    <tr>\n",
       "      <th>1</th>\n",
       "      <td>Advil</td>\n",
       "      <td>38</td>\n",
       "      <td>42</td>\n",
       "      <td>DRUG</td>\n",
       "    </tr>\n",
       "    <tr>\n",
       "      <th>2</th>\n",
       "      <td>for 5 days</td>\n",
       "      <td>44</td>\n",
       "      <td>53</td>\n",
       "      <td>DURATION</td>\n",
       "    </tr>\n",
       "    <tr>\n",
       "      <th>3</th>\n",
       "      <td>1 unit</td>\n",
       "      <td>96</td>\n",
       "      <td>101</td>\n",
       "      <td>DOSAGE</td>\n",
       "    </tr>\n",
       "    <tr>\n",
       "      <th>4</th>\n",
       "      <td>Metformin</td>\n",
       "      <td>106</td>\n",
       "      <td>114</td>\n",
       "      <td>DRUG</td>\n",
       "    </tr>\n",
       "    <tr>\n",
       "      <th>5</th>\n",
       "      <td>daily</td>\n",
       "      <td>116</td>\n",
       "      <td>120</td>\n",
       "      <td>FREQUENCY</td>\n",
       "    </tr>\n",
       "    <tr>\n",
       "      <th>6</th>\n",
       "      <td>40 units</td>\n",
       "      <td>190</td>\n",
       "      <td>197</td>\n",
       "      <td>DOSAGE</td>\n",
       "    </tr>\n",
       "    <tr>\n",
       "      <th>7</th>\n",
       "      <td>insulin glargine</td>\n",
       "      <td>202</td>\n",
       "      <td>217</td>\n",
       "      <td>DRUG</td>\n",
       "    </tr>\n",
       "    <tr>\n",
       "      <th>8</th>\n",
       "      <td>at night</td>\n",
       "      <td>219</td>\n",
       "      <td>226</td>\n",
       "      <td>FREQUENCY</td>\n",
       "    </tr>\n",
       "    <tr>\n",
       "      <th>9</th>\n",
       "      <td>12 units</td>\n",
       "      <td>231</td>\n",
       "      <td>238</td>\n",
       "      <td>DOSAGE</td>\n",
       "    </tr>\n",
       "    <tr>\n",
       "      <th>10</th>\n",
       "      <td>insulin lispro</td>\n",
       "      <td>243</td>\n",
       "      <td>256</td>\n",
       "      <td>DRUG</td>\n",
       "    </tr>\n",
       "    <tr>\n",
       "      <th>11</th>\n",
       "      <td>with meals</td>\n",
       "      <td>258</td>\n",
       "      <td>267</td>\n",
       "      <td>FREQUENCY</td>\n",
       "    </tr>\n",
       "    <tr>\n",
       "      <th>12</th>\n",
       "      <td>metformin</td>\n",
       "      <td>275</td>\n",
       "      <td>283</td>\n",
       "      <td>DRUG</td>\n",
       "    </tr>\n",
       "    <tr>\n",
       "      <th>13</th>\n",
       "      <td>1000 mg</td>\n",
       "      <td>285</td>\n",
       "      <td>291</td>\n",
       "      <td>STRENGTH</td>\n",
       "    </tr>\n",
       "    <tr>\n",
       "      <th>14</th>\n",
       "      <td>two times a day</td>\n",
       "      <td>293</td>\n",
       "      <td>307</td>\n",
       "      <td>FREQUENCY</td>\n",
       "    </tr>\n",
       "  </tbody>\n",
       "</table>\n",
       "</div>"
      ]
     },
     "metadata": {
      "application/vnd.databricks.v1+output": {
       "addedWidgets": {},
       "arguments": {},
       "data": "<div>\n<style scoped>\n    .dataframe tbody tr th:only-of-type {\n        vertical-align: middle;\n    }\n\n    .dataframe tbody tr th {\n        vertical-align: top;\n    }\n\n    .dataframe thead th {\n        text-align: right;\n    }\n</style>\n<table border=\"1\" class=\"dataframe\">\n  <thead>\n    <tr style=\"text-align: right;\">\n      <th></th>\n      <th>chunks</th>\n      <th>begin</th>\n      <th>end</th>\n      <th>entities</th>\n    </tr>\n  </thead>\n  <tbody>\n    <tr>\n      <th>0</th>\n      <td>1 unit</td>\n      <td>28</td>\n      <td>33</td>\n      <td>DOSAGE</td>\n    </tr>\n    <tr>\n      <th>1</th>\n      <td>Advil</td>\n      <td>38</td>\n      <td>42</td>\n      <td>DRUG</td>\n    </tr>\n    <tr>\n      <th>2</th>\n      <td>for 5 days</td>\n      <td>44</td>\n      <td>53</td>\n      <td>DURATION</td>\n    </tr>\n    <tr>\n      <th>3</th>\n      <td>1 unit</td>\n      <td>96</td>\n      <td>101</td>\n      <td>DOSAGE</td>\n    </tr>\n    <tr>\n      <th>4</th>\n      <td>Metformin</td>\n      <td>106</td>\n      <td>114</td>\n      <td>DRUG</td>\n    </tr>\n    <tr>\n      <th>5</th>\n      <td>daily</td>\n      <td>116</td>\n      <td>120</td>\n      <td>FREQUENCY</td>\n    </tr>\n    <tr>\n      <th>6</th>\n      <td>40 units</td>\n      <td>190</td>\n      <td>197</td>\n      <td>DOSAGE</td>\n    </tr>\n    <tr>\n      <th>7</th>\n      <td>insulin glargine</td>\n      <td>202</td>\n      <td>217</td>\n      <td>DRUG</td>\n    </tr>\n    <tr>\n      <th>8</th>\n      <td>at night</td>\n      <td>219</td>\n      <td>226</td>\n      <td>FREQUENCY</td>\n    </tr>\n    <tr>\n      <th>9</th>\n      <td>12 units</td>\n      <td>231</td>\n      <td>238</td>\n      <td>DOSAGE</td>\n    </tr>\n    <tr>\n      <th>10</th>\n      <td>insulin lispro</td>\n      <td>243</td>\n      <td>256</td>\n      <td>DRUG</td>\n    </tr>\n    <tr>\n      <th>11</th>\n      <td>with meals</td>\n      <td>258</td>\n      <td>267</td>\n      <td>FREQUENCY</td>\n    </tr>\n    <tr>\n      <th>12</th>\n      <td>metformin</td>\n      <td>275</td>\n      <td>283</td>\n      <td>DRUG</td>\n    </tr>\n    <tr>\n      <th>13</th>\n      <td>1000 mg</td>\n      <td>285</td>\n      <td>291</td>\n      <td>STRENGTH</td>\n    </tr>\n    <tr>\n      <th>14</th>\n      <td>two times a day</td>\n      <td>293</td>\n      <td>307</td>\n      <td>FREQUENCY</td>\n    </tr>\n  </tbody>\n</table>\n</div>",
       "datasetInfos": [],
       "removedWidgets": [],
       "textData": null,
       "type": "htmlSandbox"
      }
     },
     "output_type": "display_data"
    }
   ],
   "source": [
    "text = \"\"\"\n",
    "The patient was prescribed 1 unit of Advil for 5 days after meals. The patient was also \n",
    "given 1 unit of Metformin daily.\n",
    "He was seen by the endocrinology service and she was discharged on 40 units of insulin glargine at night , \n",
    "12 units of insulin lispro with meals , and metformin 1000 mg two times a day.\n",
    "\"\"\"\n",
    "\n",
    "result = pipeline.fullAnnotate(text)[0]\n",
    "\n",
    "chunks=[]\n",
    "entities=[]\n",
    "begins=[]\n",
    "ends=[]\n",
    "\n",
    "for n in result['posology_ner_chunks']:\n",
    "    \n",
    "    chunks.append(n.result)\n",
    "    begins.append(n.begin)\n",
    "    ends.append(n.end)\n",
    "    entities.append(n.metadata['entity']) \n",
    "        \n",
    "df = pd.DataFrame({'chunks':chunks, 'begin':begins, 'end':ends, 'entities':entities})\n",
    "\n",
    "df"
   ]
  },
  {
   "cell_type": "markdown",
   "metadata": {
    "application/vnd.databricks.v1+cell": {
     "inputWidgets": {},
     "nuid": "56cfaff7-5bd6-46ed-b4ef-d1dbf69935a7",
     "showTitle": false,
     "title": ""
    }
   },
   "source": [
    "## 2.   explain_clinical_doc_era\n",
    "\n",
    "> a pipeline with `ner_clinical_events`, `assertion_dl` and `re_temporal_events_clinical`. It will extract clinical entities, assign assertion status and find temporal relationships between clinical entities."
   ]
  },
  {
   "cell_type": "code",
   "execution_count": 0,
   "metadata": {
    "application/vnd.databricks.v1+cell": {
     "inputWidgets": {},
     "nuid": "677c8515-e570-43bf-82d7-16bd211296eb",
     "showTitle": false,
     "title": ""
    }
   },
   "outputs": [
    {
     "data": {
      "text/html": [
       "<style scoped>\n",
       "  .ansiout {\n",
       "    display: block;\n",
       "    unicode-bidi: embed;\n",
       "    white-space: pre-wrap;\n",
       "    word-wrap: break-word;\n",
       "    word-break: break-all;\n",
       "    font-family: \"Source Code Pro\", \"Menlo\", monospace;;\n",
       "    font-size: 13px;\n",
       "    color: #555;\n",
       "    margin-left: 4px;\n",
       "    line-height: 19px;\n",
       "  }\n",
       "</style>\n",
       "<div class=\"ansiout\">explain_clinical_doc_era download started this may take some time.\n",
       "Approx size to download 1.6 GB\n",
       "\r",
       "[ | ]\r",
       "[ / ]\r",
       "[ — ]\r",
       "[ \\ ]\r",
       "[ | ]\r",
       "[ / ]\r",
       "[ — ]\r",
       "[ \\ ]\r",
       "[ | ]\r",
       "[ / ]\r",
       "[ — ]\r",
       "[ \\ ]\r",
       "[ | ]\r",
       "[ / ]\r",
       "[ — ]\r",
       "[ \\ ]\r",
       "[ | ]\r",
       "[ / ]\r",
       "[OK!]\n",
       "</div>"
      ]
     },
     "metadata": {
      "application/vnd.databricks.v1+output": {
       "addedWidgets": {},
       "arguments": {},
       "data": "<div class=\"ansiout\">explain_clinical_doc_era download started this may take some time.\nApprox size to download 1.6 GB\n\r[ | ]\r[ / ]\r[ — ]\r[ \\ ]\r[ | ]\r[ / ]\r[ — ]\r[ \\ ]\r[ | ]\r[ / ]\r[ — ]\r[ \\ ]\r[ | ]\r[ / ]\r[ — ]\r[ \\ ]\r[ | ]\r[ / ]\r[OK!]\n</div>",
       "datasetInfos": [],
       "removedWidgets": [],
       "type": "html"
      }
     },
     "output_type": "display_data"
    }
   ],
   "source": [
    "era_pipeline = PretrainedPipeline('explain_clinical_doc_era', 'en', 'clinical/models')"
   ]
  },
  {
   "cell_type": "code",
   "execution_count": 0,
   "metadata": {
    "application/vnd.databricks.v1+cell": {
     "inputWidgets": {},
     "nuid": "25f2b676-ab73-430e-b3d6-c020bf95f121",
     "showTitle": false,
     "title": ""
    }
   },
   "outputs": [
    {
     "data": {
      "text/html": [
       "<style scoped>\n",
       "  .ansiout {\n",
       "    display: block;\n",
       "    unicode-bidi: embed;\n",
       "    white-space: pre-wrap;\n",
       "    word-wrap: break-word;\n",
       "    word-break: break-all;\n",
       "    font-family: \"Source Code Pro\", \"Menlo\", monospace;;\n",
       "    font-size: 13px;\n",
       "    color: #555;\n",
       "    margin-left: 4px;\n",
       "    line-height: 19px;\n",
       "  }\n",
       "</style>\n",
       "<div class=\"ansiout\">Out[11]: [DocumentAssembler_81ef1f17c7c1,\n",
       " SentenceDetector_0b67d45c215f,\n",
       " REGEX_TOKENIZER_4d38514cc549,\n",
       " POS_6f55785005bf,\n",
       " dependency_d5a8da6c9093,\n",
       " WORD_EMBEDDINGS_MODEL_9004b1d00302,\n",
       " MedicalNerModel_7cb29c8c904c,\n",
       " NerConverter_dc8e863a00ea,\n",
       " RelationExtractionModel_14b00157fc1a,\n",
       " ASSERTION_DL_25881ab6309e]</div>"
      ]
     },
     "metadata": {
      "application/vnd.databricks.v1+output": {
       "addedWidgets": {},
       "arguments": {},
       "data": "<div class=\"ansiout\">Out[11]: [DocumentAssembler_81ef1f17c7c1,\n SentenceDetector_0b67d45c215f,\n REGEX_TOKENIZER_4d38514cc549,\n POS_6f55785005bf,\n dependency_d5a8da6c9093,\n WORD_EMBEDDINGS_MODEL_9004b1d00302,\n MedicalNerModel_7cb29c8c904c,\n NerConverter_dc8e863a00ea,\n RelationExtractionModel_14b00157fc1a,\n ASSERTION_DL_25881ab6309e]</div>",
       "datasetInfos": [],
       "removedWidgets": [],
       "type": "html"
      }
     },
     "output_type": "display_data"
    }
   ],
   "source": [
    "era_pipeline.model.stages"
   ]
  },
  {
   "cell_type": "code",
   "execution_count": 0,
   "metadata": {
    "application/vnd.databricks.v1+cell": {
     "inputWidgets": {},
     "nuid": "a84cbed0-1039-4b6f-b77a-2df1a3b26c69",
     "showTitle": false,
     "title": ""
    }
   },
   "outputs": [
    {
     "data": {
      "text/html": [
       "<style scoped>\n",
       "  .ansiout {\n",
       "    display: block;\n",
       "    unicode-bidi: embed;\n",
       "    white-space: pre-wrap;\n",
       "    word-wrap: break-word;\n",
       "    word-break: break-all;\n",
       "    font-family: \"Source Code Pro\", \"Menlo\", monospace;;\n",
       "    font-size: 13px;\n",
       "    color: #555;\n",
       "    margin-left: 4px;\n",
       "    line-height: 19px;\n",
       "  }\n",
       "</style>\n",
       "<div class=\"ansiout\"></div>"
      ]
     },
     "metadata": {
      "application/vnd.databricks.v1+output": {
       "addedWidgets": {},
       "arguments": {},
       "data": "<div class=\"ansiout\"></div>",
       "datasetInfos": [],
       "removedWidgets": [],
       "type": "html"
      }
     },
     "output_type": "display_data"
    }
   ],
   "source": [
    "text =\"\"\"She is admitted to The John Hopkins Hospital 2 days ago with a history of gestational diabetes mellitus diagnosed. She denied pain and any headache.\n",
    "She was seen by the endocrinology service and she was discharged on 03/02/2018 on 40 units of insulin glargine, \n",
    "12 units of insulin lispro, and metformin 1000 mg two times a day. She had close follow-up with endocrinology post discharge. \n",
    "\"\"\"\n",
    "\n",
    "\n",
    "result = era_pipeline.fullAnnotate(text)[0]\n"
   ]
  },
  {
   "cell_type": "code",
   "execution_count": 0,
   "metadata": {
    "application/vnd.databricks.v1+cell": {
     "inputWidgets": {},
     "nuid": "d5be98fb-644b-4a2d-ba0a-420d68594036",
     "showTitle": false,
     "title": ""
    }
   },
   "outputs": [
    {
     "data": {
      "text/html": [
       "<style scoped>\n",
       "  .ansiout {\n",
       "    display: block;\n",
       "    unicode-bidi: embed;\n",
       "    white-space: pre-wrap;\n",
       "    word-wrap: break-word;\n",
       "    word-break: break-all;\n",
       "    font-family: \"Source Code Pro\", \"Menlo\", monospace;;\n",
       "    font-size: 13px;\n",
       "    color: #555;\n",
       "    margin-left: 4px;\n",
       "    line-height: 19px;\n",
       "  }\n",
       "</style>\n",
       "<div class=\"ansiout\">Out[13]: dict_keys([&#39;sentences&#39;, &#39;clinical_ner_tags&#39;, &#39;document&#39;, &#39;clinical_ner_chunks&#39;, &#39;assertion&#39;, &#39;clinical_relations&#39;, &#39;tokens&#39;, &#39;embeddings&#39;, &#39;pos_tags&#39;, &#39;dependencies&#39;])</div>"
      ]
     },
     "metadata": {
      "application/vnd.databricks.v1+output": {
       "addedWidgets": {},
       "arguments": {},
       "data": "<div class=\"ansiout\">Out[13]: dict_keys([&#39;sentences&#39;, &#39;clinical_ner_tags&#39;, &#39;document&#39;, &#39;clinical_ner_chunks&#39;, &#39;assertion&#39;, &#39;clinical_relations&#39;, &#39;tokens&#39;, &#39;embeddings&#39;, &#39;pos_tags&#39;, &#39;dependencies&#39;])</div>",
       "datasetInfos": [],
       "removedWidgets": [],
       "type": "html"
      }
     },
     "output_type": "display_data"
    }
   ],
   "source": [
    "result.keys()"
   ]
  },
  {
   "cell_type": "code",
   "execution_count": 0,
   "metadata": {
    "application/vnd.databricks.v1+cell": {
     "inputWidgets": {},
     "nuid": "1cee32f1-a497-454d-a1e4-e3d6a19d2ae9",
     "showTitle": false,
     "title": ""
    }
   },
   "outputs": [
    {
     "data": {
      "text/html": [
       "<style scoped>\n",
       "  .ansiout {\n",
       "    display: block;\n",
       "    unicode-bidi: embed;\n",
       "    white-space: pre-wrap;\n",
       "    word-wrap: break-word;\n",
       "    word-break: break-all;\n",
       "    font-family: \"Source Code Pro\", \"Menlo\", monospace;;\n",
       "    font-size: 13px;\n",
       "    color: #555;\n",
       "    margin-left: 4px;\n",
       "    line-height: 19px;\n",
       "  }\n",
       "</style>\n",
       "<div class=\"ansiout\">Out[14]: </div>"
      ]
     },
     "metadata": {
      "application/vnd.databricks.v1+output": {
       "addedWidgets": {},
       "arguments": {},
       "data": "<div class=\"ansiout\">Out[14]: </div>",
       "datasetInfos": [],
       "removedWidgets": [],
       "type": "html"
      }
     },
     "output_type": "display_data"
    },
    {
     "data": {
      "text/html": [
       "<div>\n",
       "<style scoped>\n",
       "    .dataframe tbody tr th:only-of-type {\n",
       "        vertical-align: middle;\n",
       "    }\n",
       "\n",
       "    .dataframe tbody tr th {\n",
       "        vertical-align: top;\n",
       "    }\n",
       "\n",
       "    .dataframe thead th {\n",
       "        text-align: right;\n",
       "    }\n",
       "</style>\n",
       "<table border=\"1\" class=\"dataframe\">\n",
       "  <thead>\n",
       "    <tr style=\"text-align: right;\">\n",
       "      <th></th>\n",
       "      <th>chunks</th>\n",
       "      <th>begin</th>\n",
       "      <th>end</th>\n",
       "      <th>entities</th>\n",
       "    </tr>\n",
       "  </thead>\n",
       "  <tbody>\n",
       "    <tr>\n",
       "      <th>0</th>\n",
       "      <td>admitted</td>\n",
       "      <td>7</td>\n",
       "      <td>14</td>\n",
       "      <td>OCCURRENCE</td>\n",
       "    </tr>\n",
       "    <tr>\n",
       "      <th>1</th>\n",
       "      <td>The John Hopkins Hospital</td>\n",
       "      <td>19</td>\n",
       "      <td>43</td>\n",
       "      <td>CLINICAL_DEPT</td>\n",
       "    </tr>\n",
       "    <tr>\n",
       "      <th>2</th>\n",
       "      <td>2 days ago</td>\n",
       "      <td>45</td>\n",
       "      <td>54</td>\n",
       "      <td>DATE</td>\n",
       "    </tr>\n",
       "    <tr>\n",
       "      <th>3</th>\n",
       "      <td>gestational diabetes mellitus</td>\n",
       "      <td>74</td>\n",
       "      <td>102</td>\n",
       "      <td>PROBLEM</td>\n",
       "    </tr>\n",
       "    <tr>\n",
       "      <th>4</th>\n",
       "      <td>denied</td>\n",
       "      <td>119</td>\n",
       "      <td>124</td>\n",
       "      <td>EVIDENTIAL</td>\n",
       "    </tr>\n",
       "    <tr>\n",
       "      <th>5</th>\n",
       "      <td>pain</td>\n",
       "      <td>126</td>\n",
       "      <td>129</td>\n",
       "      <td>PROBLEM</td>\n",
       "    </tr>\n",
       "    <tr>\n",
       "      <th>6</th>\n",
       "      <td>any headache</td>\n",
       "      <td>135</td>\n",
       "      <td>146</td>\n",
       "      <td>PROBLEM</td>\n",
       "    </tr>\n",
       "    <tr>\n",
       "      <th>7</th>\n",
       "      <td>the endocrinology service</td>\n",
       "      <td>165</td>\n",
       "      <td>189</td>\n",
       "      <td>CLINICAL_DEPT</td>\n",
       "    </tr>\n",
       "    <tr>\n",
       "      <th>8</th>\n",
       "      <td>discharged</td>\n",
       "      <td>203</td>\n",
       "      <td>212</td>\n",
       "      <td>OCCURRENCE</td>\n",
       "    </tr>\n",
       "    <tr>\n",
       "      <th>9</th>\n",
       "      <td>03/02/2018</td>\n",
       "      <td>217</td>\n",
       "      <td>226</td>\n",
       "      <td>DATE</td>\n",
       "    </tr>\n",
       "    <tr>\n",
       "      <th>10</th>\n",
       "      <td>insulin glargine</td>\n",
       "      <td>243</td>\n",
       "      <td>258</td>\n",
       "      <td>TREATMENT</td>\n",
       "    </tr>\n",
       "    <tr>\n",
       "      <th>11</th>\n",
       "      <td>insulin lispro</td>\n",
       "      <td>274</td>\n",
       "      <td>287</td>\n",
       "      <td>TREATMENT</td>\n",
       "    </tr>\n",
       "    <tr>\n",
       "      <th>12</th>\n",
       "      <td>metformin</td>\n",
       "      <td>294</td>\n",
       "      <td>302</td>\n",
       "      <td>TREATMENT</td>\n",
       "    </tr>\n",
       "    <tr>\n",
       "      <th>13</th>\n",
       "      <td>two times a day</td>\n",
       "      <td>312</td>\n",
       "      <td>326</td>\n",
       "      <td>FREQUENCY</td>\n",
       "    </tr>\n",
       "    <tr>\n",
       "      <th>14</th>\n",
       "      <td>follow-up with endocrinology post discharge</td>\n",
       "      <td>343</td>\n",
       "      <td>385</td>\n",
       "      <td>OCCURRENCE</td>\n",
       "    </tr>\n",
       "  </tbody>\n",
       "</table>\n",
       "</div>"
      ]
     },
     "metadata": {
      "application/vnd.databricks.v1+output": {
       "addedWidgets": {},
       "arguments": {},
       "data": "<div>\n<style scoped>\n    .dataframe tbody tr th:only-of-type {\n        vertical-align: middle;\n    }\n\n    .dataframe tbody tr th {\n        vertical-align: top;\n    }\n\n    .dataframe thead th {\n        text-align: right;\n    }\n</style>\n<table border=\"1\" class=\"dataframe\">\n  <thead>\n    <tr style=\"text-align: right;\">\n      <th></th>\n      <th>chunks</th>\n      <th>begin</th>\n      <th>end</th>\n      <th>entities</th>\n    </tr>\n  </thead>\n  <tbody>\n    <tr>\n      <th>0</th>\n      <td>admitted</td>\n      <td>7</td>\n      <td>14</td>\n      <td>OCCURRENCE</td>\n    </tr>\n    <tr>\n      <th>1</th>\n      <td>The John Hopkins Hospital</td>\n      <td>19</td>\n      <td>43</td>\n      <td>CLINICAL_DEPT</td>\n    </tr>\n    <tr>\n      <th>2</th>\n      <td>2 days ago</td>\n      <td>45</td>\n      <td>54</td>\n      <td>DATE</td>\n    </tr>\n    <tr>\n      <th>3</th>\n      <td>gestational diabetes mellitus</td>\n      <td>74</td>\n      <td>102</td>\n      <td>PROBLEM</td>\n    </tr>\n    <tr>\n      <th>4</th>\n      <td>denied</td>\n      <td>119</td>\n      <td>124</td>\n      <td>EVIDENTIAL</td>\n    </tr>\n    <tr>\n      <th>5</th>\n      <td>pain</td>\n      <td>126</td>\n      <td>129</td>\n      <td>PROBLEM</td>\n    </tr>\n    <tr>\n      <th>6</th>\n      <td>any headache</td>\n      <td>135</td>\n      <td>146</td>\n      <td>PROBLEM</td>\n    </tr>\n    <tr>\n      <th>7</th>\n      <td>the endocrinology service</td>\n      <td>165</td>\n      <td>189</td>\n      <td>CLINICAL_DEPT</td>\n    </tr>\n    <tr>\n      <th>8</th>\n      <td>discharged</td>\n      <td>203</td>\n      <td>212</td>\n      <td>OCCURRENCE</td>\n    </tr>\n    <tr>\n      <th>9</th>\n      <td>03/02/2018</td>\n      <td>217</td>\n      <td>226</td>\n      <td>DATE</td>\n    </tr>\n    <tr>\n      <th>10</th>\n      <td>insulin glargine</td>\n      <td>243</td>\n      <td>258</td>\n      <td>TREATMENT</td>\n    </tr>\n    <tr>\n      <th>11</th>\n      <td>insulin lispro</td>\n      <td>274</td>\n      <td>287</td>\n      <td>TREATMENT</td>\n    </tr>\n    <tr>\n      <th>12</th>\n      <td>metformin</td>\n      <td>294</td>\n      <td>302</td>\n      <td>TREATMENT</td>\n    </tr>\n    <tr>\n      <th>13</th>\n      <td>two times a day</td>\n      <td>312</td>\n      <td>326</td>\n      <td>FREQUENCY</td>\n    </tr>\n    <tr>\n      <th>14</th>\n      <td>follow-up with endocrinology post discharge</td>\n      <td>343</td>\n      <td>385</td>\n      <td>OCCURRENCE</td>\n    </tr>\n  </tbody>\n</table>\n</div>",
       "datasetInfos": [],
       "removedWidgets": [],
       "textData": null,
       "type": "htmlSandbox"
      }
     },
     "output_type": "display_data"
    }
   ],
   "source": [
    "import pandas as pd\n",
    "\n",
    "chunks=[]\n",
    "entities=[]\n",
    "begins=[]\n",
    "ends=[]\n",
    "\n",
    "for n in result['clinical_ner_chunks']:\n",
    "    \n",
    "    chunks.append(n.result)\n",
    "    begins.append(n.begin)\n",
    "    ends.append(n.end)\n",
    "    entities.append(n.metadata['entity']) \n",
    "        \n",
    "df = pd.DataFrame({'chunks':chunks, 'begin':begins, 'end':ends, 'entities':entities})\n",
    "\n",
    "df"
   ]
  },
  {
   "cell_type": "code",
   "execution_count": 0,
   "metadata": {
    "application/vnd.databricks.v1+cell": {
     "inputWidgets": {},
     "nuid": "7a394f8e-4808-45e9-a74e-8b181b2b7d0e",
     "showTitle": false,
     "title": ""
    }
   },
   "outputs": [
    {
     "data": {
      "text/html": [
       "<style scoped>\n",
       "  .ansiout {\n",
       "    display: block;\n",
       "    unicode-bidi: embed;\n",
       "    white-space: pre-wrap;\n",
       "    word-wrap: break-word;\n",
       "    word-break: break-all;\n",
       "    font-family: \"Source Code Pro\", \"Menlo\", monospace;;\n",
       "    font-size: 13px;\n",
       "    color: #555;\n",
       "    margin-left: 4px;\n",
       "    line-height: 19px;\n",
       "  }\n",
       "</style>\n",
       "<div class=\"ansiout\">Out[15]: </div>"
      ]
     },
     "metadata": {
      "application/vnd.databricks.v1+output": {
       "addedWidgets": {},
       "arguments": {},
       "data": "<div class=\"ansiout\">Out[15]: </div>",
       "datasetInfos": [],
       "removedWidgets": [],
       "type": "html"
      }
     },
     "output_type": "display_data"
    },
    {
     "data": {
      "text/html": [
       "<div>\n",
       "<style scoped>\n",
       "    .dataframe tbody tr th:only-of-type {\n",
       "        vertical-align: middle;\n",
       "    }\n",
       "\n",
       "    .dataframe tbody tr th {\n",
       "        vertical-align: top;\n",
       "    }\n",
       "\n",
       "    .dataframe thead th {\n",
       "        text-align: right;\n",
       "    }\n",
       "</style>\n",
       "<table border=\"1\" class=\"dataframe\">\n",
       "  <thead>\n",
       "    <tr style=\"text-align: right;\">\n",
       "      <th></th>\n",
       "      <th>chunks</th>\n",
       "      <th>entities</th>\n",
       "      <th>assertion</th>\n",
       "    </tr>\n",
       "  </thead>\n",
       "  <tbody>\n",
       "    <tr>\n",
       "      <th>0</th>\n",
       "      <td>admitted</td>\n",
       "      <td>OCCURRENCE</td>\n",
       "      <td>present</td>\n",
       "    </tr>\n",
       "    <tr>\n",
       "      <th>1</th>\n",
       "      <td>The John Hopkins Hospital</td>\n",
       "      <td>CLINICAL_DEPT</td>\n",
       "      <td>present</td>\n",
       "    </tr>\n",
       "    <tr>\n",
       "      <th>2</th>\n",
       "      <td>2 days ago</td>\n",
       "      <td>DATE</td>\n",
       "      <td>present</td>\n",
       "    </tr>\n",
       "    <tr>\n",
       "      <th>3</th>\n",
       "      <td>gestational diabetes mellitus</td>\n",
       "      <td>PROBLEM</td>\n",
       "      <td>present</td>\n",
       "    </tr>\n",
       "    <tr>\n",
       "      <th>4</th>\n",
       "      <td>denied</td>\n",
       "      <td>EVIDENTIAL</td>\n",
       "      <td>absent</td>\n",
       "    </tr>\n",
       "    <tr>\n",
       "      <th>5</th>\n",
       "      <td>pain</td>\n",
       "      <td>PROBLEM</td>\n",
       "      <td>absent</td>\n",
       "    </tr>\n",
       "    <tr>\n",
       "      <th>6</th>\n",
       "      <td>any headache</td>\n",
       "      <td>PROBLEM</td>\n",
       "      <td>absent</td>\n",
       "    </tr>\n",
       "    <tr>\n",
       "      <th>7</th>\n",
       "      <td>the endocrinology service</td>\n",
       "      <td>CLINICAL_DEPT</td>\n",
       "      <td>present</td>\n",
       "    </tr>\n",
       "    <tr>\n",
       "      <th>8</th>\n",
       "      <td>discharged</td>\n",
       "      <td>OCCURRENCE</td>\n",
       "      <td>present</td>\n",
       "    </tr>\n",
       "    <tr>\n",
       "      <th>9</th>\n",
       "      <td>03/02/2018</td>\n",
       "      <td>DATE</td>\n",
       "      <td>present</td>\n",
       "    </tr>\n",
       "    <tr>\n",
       "      <th>10</th>\n",
       "      <td>insulin glargine</td>\n",
       "      <td>TREATMENT</td>\n",
       "      <td>present</td>\n",
       "    </tr>\n",
       "    <tr>\n",
       "      <th>11</th>\n",
       "      <td>insulin lispro</td>\n",
       "      <td>TREATMENT</td>\n",
       "      <td>present</td>\n",
       "    </tr>\n",
       "    <tr>\n",
       "      <th>12</th>\n",
       "      <td>metformin</td>\n",
       "      <td>TREATMENT</td>\n",
       "      <td>present</td>\n",
       "    </tr>\n",
       "    <tr>\n",
       "      <th>13</th>\n",
       "      <td>two times a day</td>\n",
       "      <td>FREQUENCY</td>\n",
       "      <td>present</td>\n",
       "    </tr>\n",
       "    <tr>\n",
       "      <th>14</th>\n",
       "      <td>follow-up with endocrinology post discharge</td>\n",
       "      <td>OCCURRENCE</td>\n",
       "      <td>present</td>\n",
       "    </tr>\n",
       "  </tbody>\n",
       "</table>\n",
       "</div>"
      ]
     },
     "metadata": {
      "application/vnd.databricks.v1+output": {
       "addedWidgets": {},
       "arguments": {},
       "data": "<div>\n<style scoped>\n    .dataframe tbody tr th:only-of-type {\n        vertical-align: middle;\n    }\n\n    .dataframe tbody tr th {\n        vertical-align: top;\n    }\n\n    .dataframe thead th {\n        text-align: right;\n    }\n</style>\n<table border=\"1\" class=\"dataframe\">\n  <thead>\n    <tr style=\"text-align: right;\">\n      <th></th>\n      <th>chunks</th>\n      <th>entities</th>\n      <th>assertion</th>\n    </tr>\n  </thead>\n  <tbody>\n    <tr>\n      <th>0</th>\n      <td>admitted</td>\n      <td>OCCURRENCE</td>\n      <td>present</td>\n    </tr>\n    <tr>\n      <th>1</th>\n      <td>The John Hopkins Hospital</td>\n      <td>CLINICAL_DEPT</td>\n      <td>present</td>\n    </tr>\n    <tr>\n      <th>2</th>\n      <td>2 days ago</td>\n      <td>DATE</td>\n      <td>present</td>\n    </tr>\n    <tr>\n      <th>3</th>\n      <td>gestational diabetes mellitus</td>\n      <td>PROBLEM</td>\n      <td>present</td>\n    </tr>\n    <tr>\n      <th>4</th>\n      <td>denied</td>\n      <td>EVIDENTIAL</td>\n      <td>absent</td>\n    </tr>\n    <tr>\n      <th>5</th>\n      <td>pain</td>\n      <td>PROBLEM</td>\n      <td>absent</td>\n    </tr>\n    <tr>\n      <th>6</th>\n      <td>any headache</td>\n      <td>PROBLEM</td>\n      <td>absent</td>\n    </tr>\n    <tr>\n      <th>7</th>\n      <td>the endocrinology service</td>\n      <td>CLINICAL_DEPT</td>\n      <td>present</td>\n    </tr>\n    <tr>\n      <th>8</th>\n      <td>discharged</td>\n      <td>OCCURRENCE</td>\n      <td>present</td>\n    </tr>\n    <tr>\n      <th>9</th>\n      <td>03/02/2018</td>\n      <td>DATE</td>\n      <td>present</td>\n    </tr>\n    <tr>\n      <th>10</th>\n      <td>insulin glargine</td>\n      <td>TREATMENT</td>\n      <td>present</td>\n    </tr>\n    <tr>\n      <th>11</th>\n      <td>insulin lispro</td>\n      <td>TREATMENT</td>\n      <td>present</td>\n    </tr>\n    <tr>\n      <th>12</th>\n      <td>metformin</td>\n      <td>TREATMENT</td>\n      <td>present</td>\n    </tr>\n    <tr>\n      <th>13</th>\n      <td>two times a day</td>\n      <td>FREQUENCY</td>\n      <td>present</td>\n    </tr>\n    <tr>\n      <th>14</th>\n      <td>follow-up with endocrinology post discharge</td>\n      <td>OCCURRENCE</td>\n      <td>present</td>\n    </tr>\n  </tbody>\n</table>\n</div>",
       "datasetInfos": [],
       "removedWidgets": [],
       "textData": null,
       "type": "htmlSandbox"
      }
     },
     "output_type": "display_data"
    }
   ],
   "source": [
    "chunks=[]\n",
    "entities=[]\n",
    "status=[]\n",
    "\n",
    "for n,m in zip(result['clinical_ner_chunks'],result['assertion']):\n",
    "    \n",
    "    chunks.append(n.result)\n",
    "    entities.append(n.metadata['entity']) \n",
    "    status.append(m.result)\n",
    "        \n",
    "df = pd.DataFrame({'chunks':chunks, 'entities':entities, 'assertion':status})\n",
    "\n",
    "df"
   ]
  },
  {
   "cell_type": "code",
   "execution_count": 0,
   "metadata": {
    "application/vnd.databricks.v1+cell": {
     "inputWidgets": {},
     "nuid": "6439ffa5-a9b5-4879-9341-c25b15588df6",
     "showTitle": false,
     "title": ""
    }
   },
   "outputs": [
    {
     "data": {
      "text/html": [
       "<style scoped>\n",
       "  .ansiout {\n",
       "    display: block;\n",
       "    unicode-bidi: embed;\n",
       "    white-space: pre-wrap;\n",
       "    word-wrap: break-word;\n",
       "    word-break: break-all;\n",
       "    font-family: \"Source Code Pro\", \"Menlo\", monospace;;\n",
       "    font-size: 13px;\n",
       "    color: #555;\n",
       "    margin-left: 4px;\n",
       "    line-height: 19px;\n",
       "  }\n",
       "</style>\n",
       "<div class=\"ansiout\"></div>"
      ]
     },
     "metadata": {
      "application/vnd.databricks.v1+output": {
       "addedWidgets": {},
       "arguments": {},
       "data": "<div class=\"ansiout\"></div>",
       "datasetInfos": [],
       "removedWidgets": [],
       "type": "html"
      }
     },
     "output_type": "display_data"
    }
   ],
   "source": [
    "import pandas as pd\n",
    "\n",
    "def get_relations_df (results, col='relations'):\n",
    "  rel_pairs=[]\n",
    "  for rel in results[0][col]:\n",
    "      rel_pairs.append((\n",
    "          rel.result, \n",
    "          rel.metadata['entity1'], \n",
    "          rel.metadata['entity1_begin'],\n",
    "          rel.metadata['entity1_end'],\n",
    "          rel.metadata['chunk1'], \n",
    "          rel.metadata['entity2'],\n",
    "          rel.metadata['entity2_begin'],\n",
    "          rel.metadata['entity2_end'],\n",
    "          rel.metadata['chunk2'], \n",
    "          rel.metadata['confidence']\n",
    "      ))\n",
    "\n",
    "  rel_df = pd.DataFrame(rel_pairs, columns=['relation','entity1','entity1_begin','entity1_end','chunk1','entity2','entity2_begin','entity2_end','chunk2', 'confidence'])\n",
    "\n",
    "  rel_df.confidence = rel_df.confidence.astype(float)\n",
    "  \n",
    "  return rel_df"
   ]
  },
  {
   "cell_type": "code",
   "execution_count": 0,
   "metadata": {
    "application/vnd.databricks.v1+cell": {
     "inputWidgets": {},
     "nuid": "bd5eaa4b-d76a-4215-b20c-cffcb2757d50",
     "showTitle": false,
     "title": ""
    }
   },
   "outputs": [
    {
     "data": {
      "text/html": [
       "<style scoped>\n",
       "  .ansiout {\n",
       "    display: block;\n",
       "    unicode-bidi: embed;\n",
       "    white-space: pre-wrap;\n",
       "    word-wrap: break-word;\n",
       "    word-break: break-all;\n",
       "    font-family: \"Source Code Pro\", \"Menlo\", monospace;;\n",
       "    font-size: 13px;\n",
       "    color: #555;\n",
       "    margin-left: 4px;\n",
       "    line-height: 19px;\n",
       "  }\n",
       "</style>\n",
       "<div class=\"ansiout\">Out[18]: </div>"
      ]
     },
     "metadata": {
      "application/vnd.databricks.v1+output": {
       "addedWidgets": {},
       "arguments": {},
       "data": "<div class=\"ansiout\">Out[18]: </div>",
       "datasetInfos": [],
       "removedWidgets": [],
       "type": "html"
      }
     },
     "output_type": "display_data"
    },
    {
     "data": {
      "text/html": [
       "<div>\n",
       "<style scoped>\n",
       "    .dataframe tbody tr th:only-of-type {\n",
       "        vertical-align: middle;\n",
       "    }\n",
       "\n",
       "    .dataframe tbody tr th {\n",
       "        vertical-align: top;\n",
       "    }\n",
       "\n",
       "    .dataframe thead th {\n",
       "        text-align: right;\n",
       "    }\n",
       "</style>\n",
       "<table border=\"1\" class=\"dataframe\">\n",
       "  <thead>\n",
       "    <tr style=\"text-align: right;\">\n",
       "      <th></th>\n",
       "      <th>relation</th>\n",
       "      <th>entity1</th>\n",
       "      <th>entity1_begin</th>\n",
       "      <th>entity1_end</th>\n",
       "      <th>chunk1</th>\n",
       "      <th>entity2</th>\n",
       "      <th>entity2_begin</th>\n",
       "      <th>entity2_end</th>\n",
       "      <th>chunk2</th>\n",
       "      <th>confidence</th>\n",
       "    </tr>\n",
       "  </thead>\n",
       "  <tbody>\n",
       "    <tr>\n",
       "      <th>0</th>\n",
       "      <td>AFTER</td>\n",
       "      <td>OCCURRENCE</td>\n",
       "      <td>7</td>\n",
       "      <td>14</td>\n",
       "      <td>admitted</td>\n",
       "      <td>CLINICAL_DEPT</td>\n",
       "      <td>19</td>\n",
       "      <td>43</td>\n",
       "      <td>The John Hopkins Hospital</td>\n",
       "      <td>0.963836</td>\n",
       "    </tr>\n",
       "    <tr>\n",
       "      <th>1</th>\n",
       "      <td>BEFORE</td>\n",
       "      <td>OCCURRENCE</td>\n",
       "      <td>7</td>\n",
       "      <td>14</td>\n",
       "      <td>admitted</td>\n",
       "      <td>DATE</td>\n",
       "      <td>45</td>\n",
       "      <td>54</td>\n",
       "      <td>2 days ago</td>\n",
       "      <td>0.587098</td>\n",
       "    </tr>\n",
       "    <tr>\n",
       "      <th>2</th>\n",
       "      <td>BEFORE</td>\n",
       "      <td>OCCURRENCE</td>\n",
       "      <td>7</td>\n",
       "      <td>14</td>\n",
       "      <td>admitted</td>\n",
       "      <td>PROBLEM</td>\n",
       "      <td>74</td>\n",
       "      <td>102</td>\n",
       "      <td>gestational diabetes mellitus</td>\n",
       "      <td>0.999991</td>\n",
       "    </tr>\n",
       "    <tr>\n",
       "      <th>3</th>\n",
       "      <td>OVERLAP</td>\n",
       "      <td>CLINICAL_DEPT</td>\n",
       "      <td>19</td>\n",
       "      <td>43</td>\n",
       "      <td>The John Hopkins Hospital</td>\n",
       "      <td>DATE</td>\n",
       "      <td>45</td>\n",
       "      <td>54</td>\n",
       "      <td>2 days ago</td>\n",
       "      <td>0.996056</td>\n",
       "    </tr>\n",
       "    <tr>\n",
       "      <th>4</th>\n",
       "      <td>BEFORE</td>\n",
       "      <td>CLINICAL_DEPT</td>\n",
       "      <td>19</td>\n",
       "      <td>43</td>\n",
       "      <td>The John Hopkins Hospital</td>\n",
       "      <td>PROBLEM</td>\n",
       "      <td>74</td>\n",
       "      <td>102</td>\n",
       "      <td>gestational diabetes mellitus</td>\n",
       "      <td>0.995216</td>\n",
       "    </tr>\n",
       "    <tr>\n",
       "      <th>5</th>\n",
       "      <td>OVERLAP</td>\n",
       "      <td>DATE</td>\n",
       "      <td>45</td>\n",
       "      <td>54</td>\n",
       "      <td>2 days ago</td>\n",
       "      <td>PROBLEM</td>\n",
       "      <td>74</td>\n",
       "      <td>102</td>\n",
       "      <td>gestational diabetes mellitus</td>\n",
       "      <td>0.996954</td>\n",
       "    </tr>\n",
       "    <tr>\n",
       "      <th>6</th>\n",
       "      <td>BEFORE</td>\n",
       "      <td>EVIDENTIAL</td>\n",
       "      <td>119</td>\n",
       "      <td>124</td>\n",
       "      <td>denied</td>\n",
       "      <td>PROBLEM</td>\n",
       "      <td>126</td>\n",
       "      <td>129</td>\n",
       "      <td>pain</td>\n",
       "      <td>1.000000</td>\n",
       "    </tr>\n",
       "    <tr>\n",
       "      <th>7</th>\n",
       "      <td>BEFORE</td>\n",
       "      <td>EVIDENTIAL</td>\n",
       "      <td>119</td>\n",
       "      <td>124</td>\n",
       "      <td>denied</td>\n",
       "      <td>PROBLEM</td>\n",
       "      <td>135</td>\n",
       "      <td>146</td>\n",
       "      <td>any headache</td>\n",
       "      <td>1.000000</td>\n",
       "    </tr>\n",
       "    <tr>\n",
       "      <th>8</th>\n",
       "      <td>OVERLAP</td>\n",
       "      <td>PROBLEM</td>\n",
       "      <td>126</td>\n",
       "      <td>129</td>\n",
       "      <td>pain</td>\n",
       "      <td>PROBLEM</td>\n",
       "      <td>135</td>\n",
       "      <td>146</td>\n",
       "      <td>any headache</td>\n",
       "      <td>1.000000</td>\n",
       "    </tr>\n",
       "    <tr>\n",
       "      <th>9</th>\n",
       "      <td>BEFORE</td>\n",
       "      <td>CLINICAL_DEPT</td>\n",
       "      <td>165</td>\n",
       "      <td>189</td>\n",
       "      <td>the endocrinology service</td>\n",
       "      <td>OCCURRENCE</td>\n",
       "      <td>203</td>\n",
       "      <td>212</td>\n",
       "      <td>discharged</td>\n",
       "      <td>0.825623</td>\n",
       "    </tr>\n",
       "    <tr>\n",
       "      <th>10</th>\n",
       "      <td>OVERLAP</td>\n",
       "      <td>CLINICAL_DEPT</td>\n",
       "      <td>165</td>\n",
       "      <td>189</td>\n",
       "      <td>the endocrinology service</td>\n",
       "      <td>DATE</td>\n",
       "      <td>217</td>\n",
       "      <td>226</td>\n",
       "      <td>03/02/2018</td>\n",
       "      <td>0.999987</td>\n",
       "    </tr>\n",
       "    <tr>\n",
       "      <th>11</th>\n",
       "      <td>OVERLAP</td>\n",
       "      <td>CLINICAL_DEPT</td>\n",
       "      <td>165</td>\n",
       "      <td>189</td>\n",
       "      <td>the endocrinology service</td>\n",
       "      <td>TREATMENT</td>\n",
       "      <td>243</td>\n",
       "      <td>258</td>\n",
       "      <td>insulin glargine</td>\n",
       "      <td>0.999228</td>\n",
       "    </tr>\n",
       "    <tr>\n",
       "      <th>12</th>\n",
       "      <td>OVERLAP</td>\n",
       "      <td>CLINICAL_DEPT</td>\n",
       "      <td>165</td>\n",
       "      <td>189</td>\n",
       "      <td>the endocrinology service</td>\n",
       "      <td>TREATMENT</td>\n",
       "      <td>274</td>\n",
       "      <td>287</td>\n",
       "      <td>insulin lispro</td>\n",
       "      <td>0.999915</td>\n",
       "    </tr>\n",
       "    <tr>\n",
       "      <th>13</th>\n",
       "      <td>OVERLAP</td>\n",
       "      <td>CLINICAL_DEPT</td>\n",
       "      <td>165</td>\n",
       "      <td>189</td>\n",
       "      <td>the endocrinology service</td>\n",
       "      <td>TREATMENT</td>\n",
       "      <td>294</td>\n",
       "      <td>302</td>\n",
       "      <td>metformin</td>\n",
       "      <td>0.999801</td>\n",
       "    </tr>\n",
       "    <tr>\n",
       "      <th>14</th>\n",
       "      <td>OVERLAP</td>\n",
       "      <td>CLINICAL_DEPT</td>\n",
       "      <td>165</td>\n",
       "      <td>189</td>\n",
       "      <td>the endocrinology service</td>\n",
       "      <td>FREQUENCY</td>\n",
       "      <td>312</td>\n",
       "      <td>326</td>\n",
       "      <td>two times a day</td>\n",
       "      <td>0.994823</td>\n",
       "    </tr>\n",
       "    <tr>\n",
       "      <th>15</th>\n",
       "      <td>OVERLAP</td>\n",
       "      <td>OCCURRENCE</td>\n",
       "      <td>203</td>\n",
       "      <td>212</td>\n",
       "      <td>discharged</td>\n",
       "      <td>DATE</td>\n",
       "      <td>217</td>\n",
       "      <td>226</td>\n",
       "      <td>03/02/2018</td>\n",
       "      <td>1.000000</td>\n",
       "    </tr>\n",
       "    <tr>\n",
       "      <th>16</th>\n",
       "      <td>AFTER</td>\n",
       "      <td>OCCURRENCE</td>\n",
       "      <td>203</td>\n",
       "      <td>212</td>\n",
       "      <td>discharged</td>\n",
       "      <td>TREATMENT</td>\n",
       "      <td>243</td>\n",
       "      <td>258</td>\n",
       "      <td>insulin glargine</td>\n",
       "      <td>0.997138</td>\n",
       "    </tr>\n",
       "    <tr>\n",
       "      <th>17</th>\n",
       "      <td>AFTER</td>\n",
       "      <td>OCCURRENCE</td>\n",
       "      <td>203</td>\n",
       "      <td>212</td>\n",
       "      <td>discharged</td>\n",
       "      <td>TREATMENT</td>\n",
       "      <td>274</td>\n",
       "      <td>287</td>\n",
       "      <td>insulin lispro</td>\n",
       "      <td>0.983671</td>\n",
       "    </tr>\n",
       "    <tr>\n",
       "      <th>18</th>\n",
       "      <td>AFTER</td>\n",
       "      <td>OCCURRENCE</td>\n",
       "      <td>203</td>\n",
       "      <td>212</td>\n",
       "      <td>discharged</td>\n",
       "      <td>TREATMENT</td>\n",
       "      <td>294</td>\n",
       "      <td>302</td>\n",
       "      <td>metformin</td>\n",
       "      <td>0.995039</td>\n",
       "    </tr>\n",
       "    <tr>\n",
       "      <th>19</th>\n",
       "      <td>OVERLAP</td>\n",
       "      <td>OCCURRENCE</td>\n",
       "      <td>203</td>\n",
       "      <td>212</td>\n",
       "      <td>discharged</td>\n",
       "      <td>FREQUENCY</td>\n",
       "      <td>312</td>\n",
       "      <td>326</td>\n",
       "      <td>two times a day</td>\n",
       "      <td>0.663280</td>\n",
       "    </tr>\n",
       "    <tr>\n",
       "      <th>20</th>\n",
       "      <td>OVERLAP</td>\n",
       "      <td>DATE</td>\n",
       "      <td>217</td>\n",
       "      <td>226</td>\n",
       "      <td>03/02/2018</td>\n",
       "      <td>TREATMENT</td>\n",
       "      <td>243</td>\n",
       "      <td>258</td>\n",
       "      <td>insulin glargine</td>\n",
       "      <td>0.999998</td>\n",
       "    </tr>\n",
       "    <tr>\n",
       "      <th>21</th>\n",
       "      <td>OVERLAP</td>\n",
       "      <td>DATE</td>\n",
       "      <td>217</td>\n",
       "      <td>226</td>\n",
       "      <td>03/02/2018</td>\n",
       "      <td>TREATMENT</td>\n",
       "      <td>274</td>\n",
       "      <td>287</td>\n",
       "      <td>insulin lispro</td>\n",
       "      <td>0.999912</td>\n",
       "    </tr>\n",
       "    <tr>\n",
       "      <th>22</th>\n",
       "      <td>OVERLAP</td>\n",
       "      <td>DATE</td>\n",
       "      <td>217</td>\n",
       "      <td>226</td>\n",
       "      <td>03/02/2018</td>\n",
       "      <td>TREATMENT</td>\n",
       "      <td>294</td>\n",
       "      <td>302</td>\n",
       "      <td>metformin</td>\n",
       "      <td>0.999882</td>\n",
       "    </tr>\n",
       "    <tr>\n",
       "      <th>23</th>\n",
       "      <td>OVERLAP</td>\n",
       "      <td>DATE</td>\n",
       "      <td>217</td>\n",
       "      <td>226</td>\n",
       "      <td>03/02/2018</td>\n",
       "      <td>FREQUENCY</td>\n",
       "      <td>312</td>\n",
       "      <td>326</td>\n",
       "      <td>two times a day</td>\n",
       "      <td>0.953523</td>\n",
       "    </tr>\n",
       "    <tr>\n",
       "      <th>24</th>\n",
       "      <td>OVERLAP</td>\n",
       "      <td>TREATMENT</td>\n",
       "      <td>243</td>\n",
       "      <td>258</td>\n",
       "      <td>insulin glargine</td>\n",
       "      <td>TREATMENT</td>\n",
       "      <td>274</td>\n",
       "      <td>287</td>\n",
       "      <td>insulin lispro</td>\n",
       "      <td>1.000000</td>\n",
       "    </tr>\n",
       "    <tr>\n",
       "      <th>25</th>\n",
       "      <td>OVERLAP</td>\n",
       "      <td>TREATMENT</td>\n",
       "      <td>243</td>\n",
       "      <td>258</td>\n",
       "      <td>insulin glargine</td>\n",
       "      <td>TREATMENT</td>\n",
       "      <td>294</td>\n",
       "      <td>302</td>\n",
       "      <td>metformin</td>\n",
       "      <td>1.000000</td>\n",
       "    </tr>\n",
       "    <tr>\n",
       "      <th>26</th>\n",
       "      <td>OVERLAP</td>\n",
       "      <td>TREATMENT</td>\n",
       "      <td>243</td>\n",
       "      <td>258</td>\n",
       "      <td>insulin glargine</td>\n",
       "      <td>FREQUENCY</td>\n",
       "      <td>312</td>\n",
       "      <td>326</td>\n",
       "      <td>two times a day</td>\n",
       "      <td>0.980345</td>\n",
       "    </tr>\n",
       "    <tr>\n",
       "      <th>27</th>\n",
       "      <td>OVERLAP</td>\n",
       "      <td>TREATMENT</td>\n",
       "      <td>274</td>\n",
       "      <td>287</td>\n",
       "      <td>insulin lispro</td>\n",
       "      <td>TREATMENT</td>\n",
       "      <td>294</td>\n",
       "      <td>302</td>\n",
       "      <td>metformin</td>\n",
       "      <td>1.000000</td>\n",
       "    </tr>\n",
       "    <tr>\n",
       "      <th>28</th>\n",
       "      <td>OVERLAP</td>\n",
       "      <td>TREATMENT</td>\n",
       "      <td>274</td>\n",
       "      <td>287</td>\n",
       "      <td>insulin lispro</td>\n",
       "      <td>FREQUENCY</td>\n",
       "      <td>312</td>\n",
       "      <td>326</td>\n",
       "      <td>two times a day</td>\n",
       "      <td>1.000000</td>\n",
       "    </tr>\n",
       "    <tr>\n",
       "      <th>29</th>\n",
       "      <td>OVERLAP</td>\n",
       "      <td>TREATMENT</td>\n",
       "      <td>294</td>\n",
       "      <td>302</td>\n",
       "      <td>metformin</td>\n",
       "      <td>FREQUENCY</td>\n",
       "      <td>312</td>\n",
       "      <td>326</td>\n",
       "      <td>two times a day</td>\n",
       "      <td>1.000000</td>\n",
       "    </tr>\n",
       "  </tbody>\n",
       "</table>\n",
       "</div>"
      ]
     },
     "metadata": {
      "application/vnd.databricks.v1+output": {
       "addedWidgets": {},
       "arguments": {},
       "data": "<div>\n<style scoped>\n    .dataframe tbody tr th:only-of-type {\n        vertical-align: middle;\n    }\n\n    .dataframe tbody tr th {\n        vertical-align: top;\n    }\n\n    .dataframe thead th {\n        text-align: right;\n    }\n</style>\n<table border=\"1\" class=\"dataframe\">\n  <thead>\n    <tr style=\"text-align: right;\">\n      <th></th>\n      <th>relation</th>\n      <th>entity1</th>\n      <th>entity1_begin</th>\n      <th>entity1_end</th>\n      <th>chunk1</th>\n      <th>entity2</th>\n      <th>entity2_begin</th>\n      <th>entity2_end</th>\n      <th>chunk2</th>\n      <th>confidence</th>\n    </tr>\n  </thead>\n  <tbody>\n    <tr>\n      <th>0</th>\n      <td>AFTER</td>\n      <td>OCCURRENCE</td>\n      <td>7</td>\n      <td>14</td>\n      <td>admitted</td>\n      <td>CLINICAL_DEPT</td>\n      <td>19</td>\n      <td>43</td>\n      <td>The John Hopkins Hospital</td>\n      <td>0.963836</td>\n    </tr>\n    <tr>\n      <th>1</th>\n      <td>BEFORE</td>\n      <td>OCCURRENCE</td>\n      <td>7</td>\n      <td>14</td>\n      <td>admitted</td>\n      <td>DATE</td>\n      <td>45</td>\n      <td>54</td>\n      <td>2 days ago</td>\n      <td>0.587098</td>\n    </tr>\n    <tr>\n      <th>2</th>\n      <td>BEFORE</td>\n      <td>OCCURRENCE</td>\n      <td>7</td>\n      <td>14</td>\n      <td>admitted</td>\n      <td>PROBLEM</td>\n      <td>74</td>\n      <td>102</td>\n      <td>gestational diabetes mellitus</td>\n      <td>0.999991</td>\n    </tr>\n    <tr>\n      <th>3</th>\n      <td>OVERLAP</td>\n      <td>CLINICAL_DEPT</td>\n      <td>19</td>\n      <td>43</td>\n      <td>The John Hopkins Hospital</td>\n      <td>DATE</td>\n      <td>45</td>\n      <td>54</td>\n      <td>2 days ago</td>\n      <td>0.996056</td>\n    </tr>\n    <tr>\n      <th>4</th>\n      <td>BEFORE</td>\n      <td>CLINICAL_DEPT</td>\n      <td>19</td>\n      <td>43</td>\n      <td>The John Hopkins Hospital</td>\n      <td>PROBLEM</td>\n      <td>74</td>\n      <td>102</td>\n      <td>gestational diabetes mellitus</td>\n      <td>0.995216</td>\n    </tr>\n    <tr>\n      <th>5</th>\n      <td>OVERLAP</td>\n      <td>DATE</td>\n      <td>45</td>\n      <td>54</td>\n      <td>2 days ago</td>\n      <td>PROBLEM</td>\n      <td>74</td>\n      <td>102</td>\n      <td>gestational diabetes mellitus</td>\n      <td>0.996954</td>\n    </tr>\n    <tr>\n      <th>6</th>\n      <td>BEFORE</td>\n      <td>EVIDENTIAL</td>\n      <td>119</td>\n      <td>124</td>\n      <td>denied</td>\n      <td>PROBLEM</td>\n      <td>126</td>\n      <td>129</td>\n      <td>pain</td>\n      <td>1.000000</td>\n    </tr>\n    <tr>\n      <th>7</th>\n      <td>BEFORE</td>\n      <td>EVIDENTIAL</td>\n      <td>119</td>\n      <td>124</td>\n      <td>denied</td>\n      <td>PROBLEM</td>\n      <td>135</td>\n      <td>146</td>\n      <td>any headache</td>\n      <td>1.000000</td>\n    </tr>\n    <tr>\n      <th>8</th>\n      <td>OVERLAP</td>\n      <td>PROBLEM</td>\n      <td>126</td>\n      <td>129</td>\n      <td>pain</td>\n      <td>PROBLEM</td>\n      <td>135</td>\n      <td>146</td>\n      <td>any headache</td>\n      <td>1.000000</td>\n    </tr>\n    <tr>\n      <th>9</th>\n      <td>BEFORE</td>\n      <td>CLINICAL_DEPT</td>\n      <td>165</td>\n      <td>189</td>\n      <td>the endocrinology service</td>\n      <td>OCCURRENCE</td>\n      <td>203</td>\n      <td>212</td>\n      <td>discharged</td>\n      <td>0.825623</td>\n    </tr>\n    <tr>\n      <th>10</th>\n      <td>OVERLAP</td>\n      <td>CLINICAL_DEPT</td>\n      <td>165</td>\n      <td>189</td>\n      <td>the endocrinology service</td>\n      <td>DATE</td>\n      <td>217</td>\n      <td>226</td>\n      <td>03/02/2018</td>\n      <td>0.999987</td>\n    </tr>\n    <tr>\n      <th>11</th>\n      <td>OVERLAP</td>\n      <td>CLINICAL_DEPT</td>\n      <td>165</td>\n      <td>189</td>\n      <td>the endocrinology service</td>\n      <td>TREATMENT</td>\n      <td>243</td>\n      <td>258</td>\n      <td>insulin glargine</td>\n      <td>0.999228</td>\n    </tr>\n    <tr>\n      <th>12</th>\n      <td>OVERLAP</td>\n      <td>CLINICAL_DEPT</td>\n      <td>165</td>\n      <td>189</td>\n      <td>the endocrinology service</td>\n      <td>TREATMENT</td>\n      <td>274</td>\n      <td>287</td>\n      <td>insulin lispro</td>\n      <td>0.999915</td>\n    </tr>\n    <tr>\n      <th>13</th>\n      <td>OVERLAP</td>\n      <td>CLINICAL_DEPT</td>\n      <td>165</td>\n      <td>189</td>\n      <td>the endocrinology service</td>\n      <td>TREATMENT</td>\n      <td>294</td>\n      <td>302</td>\n      <td>metformin</td>\n      <td>0.999801</td>\n    </tr>\n    <tr>\n      <th>14</th>\n      <td>OVERLAP</td>\n      <td>CLINICAL_DEPT</td>\n      <td>165</td>\n      <td>189</td>\n      <td>the endocrinology service</td>\n      <td>FREQUENCY</td>\n      <td>312</td>\n      <td>326</td>\n      <td>two times a day</td>\n      <td>0.994823</td>\n    </tr>\n    <tr>\n      <th>15</th>\n      <td>OVERLAP</td>\n      <td>OCCURRENCE</td>\n      <td>203</td>\n      <td>212</td>\n      <td>discharged</td>\n      <td>DATE</td>\n      <td>217</td>\n      <td>226</td>\n      <td>03/02/2018</td>\n      <td>1.000000</td>\n    </tr>\n    <tr>\n      <th>16</th>\n      <td>AFTER</td>\n      <td>OCCURRENCE</td>\n      <td>203</td>\n      <td>212</td>\n      <td>discharged</td>\n      <td>TREATMENT</td>\n      <td>243</td>\n      <td>258</td>\n      <td>insulin glargine</td>\n      <td>0.997138</td>\n    </tr>\n    <tr>\n      <th>17</th>\n      <td>AFTER</td>\n      <td>OCCURRENCE</td>\n      <td>203</td>\n      <td>212</td>\n      <td>discharged</td>\n      <td>TREATMENT</td>\n      <td>274</td>\n      <td>287</td>\n      <td>insulin lispro</td>\n      <td>0.983671</td>\n    </tr>\n    <tr>\n      <th>18</th>\n      <td>AFTER</td>\n      <td>OCCURRENCE</td>\n      <td>203</td>\n      <td>212</td>\n      <td>discharged</td>\n      <td>TREATMENT</td>\n      <td>294</td>\n      <td>302</td>\n      <td>metformin</td>\n      <td>0.995039</td>\n    </tr>\n    <tr>\n      <th>19</th>\n      <td>OVERLAP</td>\n      <td>OCCURRENCE</td>\n      <td>203</td>\n      <td>212</td>\n      <td>discharged</td>\n      <td>FREQUENCY</td>\n      <td>312</td>\n      <td>326</td>\n      <td>two times a day</td>\n      <td>0.663280</td>\n    </tr>\n    <tr>\n      <th>20</th>\n      <td>OVERLAP</td>\n      <td>DATE</td>\n      <td>217</td>\n      <td>226</td>\n      <td>03/02/2018</td>\n      <td>TREATMENT</td>\n      <td>243</td>\n      <td>258</td>\n      <td>insulin glargine</td>\n      <td>0.999998</td>\n    </tr>\n    <tr>\n      <th>21</th>\n      <td>OVERLAP</td>\n      <td>DATE</td>\n      <td>217</td>\n      <td>226</td>\n      <td>03/02/2018</td>\n      <td>TREATMENT</td>\n      <td>274</td>\n      <td>287</td>\n      <td>insulin lispro</td>\n      <td>0.999912</td>\n    </tr>\n    <tr>\n      <th>22</th>\n      <td>OVERLAP</td>\n      <td>DATE</td>\n      <td>217</td>\n      <td>226</td>\n      <td>03/02/2018</td>\n      <td>TREATMENT</td>\n      <td>294</td>\n      <td>302</td>\n      <td>metformin</td>\n      <td>0.999882</td>\n    </tr>\n    <tr>\n      <th>23</th>\n      <td>OVERLAP</td>\n      <td>DATE</td>\n      <td>217</td>\n      <td>226</td>\n      <td>03/02/2018</td>\n      <td>FREQUENCY</td>\n      <td>312</td>\n      <td>326</td>\n      <td>two times a day</td>\n      <td>0.953523</td>\n    </tr>\n    <tr>\n      <th>24</th>\n      <td>OVERLAP</td>\n      <td>TREATMENT</td>\n      <td>243</td>\n      <td>258</td>\n      <td>insulin glargine</td>\n      <td>TREATMENT</td>\n      <td>274</td>\n      <td>287</td>\n      <td>insulin lispro</td>\n      <td>1.000000</td>\n    </tr>\n    <tr>\n      <th>25</th>\n      <td>OVERLAP</td>\n      <td>TREATMENT</td>\n      <td>243</td>\n      <td>258</td>\n      <td>insulin glargine</td>\n      <td>TREATMENT</td>\n      <td>294</td>\n      <td>302</td>\n      <td>metformin</td>\n      <td>1.000000</td>\n    </tr>\n    <tr>\n      <th>26</th>\n      <td>OVERLAP</td>\n      <td>TREATMENT</td>\n      <td>243</td>\n      <td>258</td>\n      <td>insulin glargine</td>\n      <td>FREQUENCY</td>\n      <td>312</td>\n      <td>326</td>\n      <td>two times a day</td>\n      <td>0.980345</td>\n    </tr>\n    <tr>\n      <th>27</th>\n      <td>OVERLAP</td>\n      <td>TREATMENT</td>\n      <td>274</td>\n      <td>287</td>\n      <td>insulin lispro</td>\n      <td>TREATMENT</td>\n      <td>294</td>\n      <td>302</td>\n      <td>metformin</td>\n      <td>1.000000</td>\n    </tr>\n    <tr>\n      <th>28</th>\n      <td>OVERLAP</td>\n      <td>TREATMENT</td>\n      <td>274</td>\n      <td>287</td>\n      <td>insulin lispro</td>\n      <td>FREQUENCY</td>\n      <td>312</td>\n      <td>326</td>\n      <td>two times a day</td>\n      <td>1.000000</td>\n    </tr>\n    <tr>\n      <th>29</th>\n      <td>OVERLAP</td>\n      <td>TREATMENT</td>\n      <td>294</td>\n      <td>302</td>\n      <td>metformin</td>\n      <td>FREQUENCY</td>\n      <td>312</td>\n      <td>326</td>\n      <td>two times a day</td>\n      <td>1.000000</td>\n    </tr>\n  </tbody>\n</table>\n</div>",
       "datasetInfos": [],
       "removedWidgets": [],
       "textData": null,
       "type": "htmlSandbox"
      }
     },
     "output_type": "display_data"
    }
   ],
   "source": [
    "annotations = era_pipeline.fullAnnotate(text)\n",
    "\n",
    "rel_df = get_relations_df (annotations, 'clinical_relations')\n",
    "\n",
    "rel_df\n"
   ]
  },
  {
   "cell_type": "code",
   "execution_count": 0,
   "metadata": {
    "application/vnd.databricks.v1+cell": {
     "inputWidgets": {},
     "nuid": "350e945a-43e6-4213-8310-7b8a39faf3dd",
     "showTitle": false,
     "title": ""
    }
   },
   "outputs": [
    {
     "data": {
      "text/html": [
       "<style scoped>\n",
       "  .ansiout {\n",
       "    display: block;\n",
       "    unicode-bidi: embed;\n",
       "    white-space: pre-wrap;\n",
       "    word-wrap: break-word;\n",
       "    word-break: break-all;\n",
       "    font-family: \"Source Code Pro\", \"Menlo\", monospace;;\n",
       "    font-size: 13px;\n",
       "    color: #555;\n",
       "    margin-left: 4px;\n",
       "    line-height: 19px;\n",
       "  }\n",
       "</style>\n",
       "<div class=\"ansiout\">Out[19]: [Annotation(category, 7, 43, AFTER, {&#39;chunk2&#39;: &#39;The John Hopkins Hospital&#39;, &#39;confidence&#39;: &#39;0.9638356&#39;, &#39;entity2_end&#39;: &#39;43&#39;, &#39;chunk1&#39;: &#39;admitted&#39;, &#39;entity2_begin&#39;: &#39;19&#39;, &#39;entity1&#39;: &#39;OCCURRENCE&#39;, &#39;entity1_begin&#39;: &#39;7&#39;, &#39;entity1_end&#39;: &#39;14&#39;, &#39;entity2&#39;: &#39;CLINICAL_DEPT&#39;}),\n",
       " Annotation(category, 7, 54, BEFORE, {&#39;chunk2&#39;: &#39;2 days ago&#39;, &#39;confidence&#39;: &#39;0.5870984&#39;, &#39;entity2_end&#39;: &#39;54&#39;, &#39;chunk1&#39;: &#39;admitted&#39;, &#39;entity2_begin&#39;: &#39;45&#39;, &#39;entity1&#39;: &#39;OCCURRENCE&#39;, &#39;entity1_begin&#39;: &#39;7&#39;, &#39;entity1_end&#39;: &#39;14&#39;, &#39;entity2&#39;: &#39;DATE&#39;}),\n",
       " Annotation(category, 7, 102, BEFORE, {&#39;chunk2&#39;: &#39;gestational diabetes mellitus&#39;, &#39;confidence&#39;: &#39;0.9999908&#39;, &#39;entity2_end&#39;: &#39;102&#39;, &#39;chunk1&#39;: &#39;admitted&#39;, &#39;entity2_begin&#39;: &#39;74&#39;, &#39;entity1&#39;: &#39;OCCURRENCE&#39;, &#39;entity1_begin&#39;: &#39;7&#39;, &#39;entity1_end&#39;: &#39;14&#39;, &#39;entity2&#39;: &#39;PROBLEM&#39;}),\n",
       " Annotation(category, 19, 54, OVERLAP, {&#39;chunk2&#39;: &#39;2 days ago&#39;, &#39;confidence&#39;: &#39;0.9960561&#39;, &#39;entity2_end&#39;: &#39;54&#39;, &#39;chunk1&#39;: &#39;The John Hopkins Hospital&#39;, &#39;entity2_begin&#39;: &#39;45&#39;, &#39;entity1&#39;: &#39;CLINICAL_DEPT&#39;, &#39;entity1_begin&#39;: &#39;19&#39;, &#39;entity1_end&#39;: &#39;43&#39;, &#39;entity2&#39;: &#39;DATE&#39;}),\n",
       " Annotation(category, 19, 102, BEFORE, {&#39;chunk2&#39;: &#39;gestational diabetes mellitus&#39;, &#39;confidence&#39;: &#39;0.9952165&#39;, &#39;entity2_end&#39;: &#39;102&#39;, &#39;chunk1&#39;: &#39;The John Hopkins Hospital&#39;, &#39;entity2_begin&#39;: &#39;74&#39;, &#39;entity1&#39;: &#39;CLINICAL_DEPT&#39;, &#39;entity1_begin&#39;: &#39;19&#39;, &#39;entity1_end&#39;: &#39;43&#39;, &#39;entity2&#39;: &#39;PROBLEM&#39;}),\n",
       " Annotation(category, 45, 102, OVERLAP, {&#39;chunk2&#39;: &#39;gestational diabetes mellitus&#39;, &#39;confidence&#39;: &#39;0.9969537&#39;, &#39;entity2_end&#39;: &#39;102&#39;, &#39;chunk1&#39;: &#39;2 days ago&#39;, &#39;entity2_begin&#39;: &#39;74&#39;, &#39;entity1&#39;: &#39;DATE&#39;, &#39;entity1_begin&#39;: &#39;45&#39;, &#39;entity1_end&#39;: &#39;54&#39;, &#39;entity2&#39;: &#39;PROBLEM&#39;}),\n",
       " Annotation(category, 119, 129, BEFORE, {&#39;chunk2&#39;: &#39;pain&#39;, &#39;confidence&#39;: &#39;1.0&#39;, &#39;entity2_end&#39;: &#39;129&#39;, &#39;chunk1&#39;: &#39;denied&#39;, &#39;entity2_begin&#39;: &#39;126&#39;, &#39;entity1&#39;: &#39;EVIDENTIAL&#39;, &#39;entity1_begin&#39;: &#39;119&#39;, &#39;entity1_end&#39;: &#39;124&#39;, &#39;entity2&#39;: &#39;PROBLEM&#39;}),\n",
       " Annotation(category, 119, 146, BEFORE, {&#39;chunk2&#39;: &#39;any headache&#39;, &#39;confidence&#39;: &#39;1.0&#39;, &#39;entity2_end&#39;: &#39;146&#39;, &#39;chunk1&#39;: &#39;denied&#39;, &#39;entity2_begin&#39;: &#39;135&#39;, &#39;entity1&#39;: &#39;EVIDENTIAL&#39;, &#39;entity1_begin&#39;: &#39;119&#39;, &#39;entity1_end&#39;: &#39;124&#39;, &#39;entity2&#39;: &#39;PROBLEM&#39;}),\n",
       " Annotation(category, 126, 146, OVERLAP, {&#39;chunk2&#39;: &#39;any headache&#39;, &#39;confidence&#39;: &#39;1.0&#39;, &#39;entity2_end&#39;: &#39;146&#39;, &#39;chunk1&#39;: &#39;pain&#39;, &#39;entity2_begin&#39;: &#39;135&#39;, &#39;entity1&#39;: &#39;PROBLEM&#39;, &#39;entity1_begin&#39;: &#39;126&#39;, &#39;entity1_end&#39;: &#39;129&#39;, &#39;entity2&#39;: &#39;PROBLEM&#39;}),\n",
       " Annotation(category, 165, 212, BEFORE, {&#39;chunk2&#39;: &#39;discharged&#39;, &#39;confidence&#39;: &#39;0.8256234&#39;, &#39;entity2_end&#39;: &#39;212&#39;, &#39;chunk1&#39;: &#39;the endocrinology service&#39;, &#39;entity2_begin&#39;: &#39;203&#39;, &#39;entity1&#39;: &#39;CLINICAL_DEPT&#39;, &#39;entity1_begin&#39;: &#39;165&#39;, &#39;entity1_end&#39;: &#39;189&#39;, &#39;entity2&#39;: &#39;OCCURRENCE&#39;}),\n",
       " Annotation(category, 165, 226, OVERLAP, {&#39;chunk2&#39;: &#39;03/02/2018&#39;, &#39;confidence&#39;: &#39;0.99998677&#39;, &#39;entity2_end&#39;: &#39;226&#39;, &#39;chunk1&#39;: &#39;the endocrinology service&#39;, &#39;entity2_begin&#39;: &#39;217&#39;, &#39;entity1&#39;: &#39;CLINICAL_DEPT&#39;, &#39;entity1_begin&#39;: &#39;165&#39;, &#39;entity1_end&#39;: &#39;189&#39;, &#39;entity2&#39;: &#39;DATE&#39;}),\n",
       " Annotation(category, 165, 258, OVERLAP, {&#39;chunk2&#39;: &#39;insulin glargine&#39;, &#39;confidence&#39;: &#39;0.99922824&#39;, &#39;entity2_end&#39;: &#39;258&#39;, &#39;chunk1&#39;: &#39;the endocrinology service&#39;, &#39;entity2_begin&#39;: &#39;243&#39;, &#39;entity1&#39;: &#39;CLINICAL_DEPT&#39;, &#39;entity1_begin&#39;: &#39;165&#39;, &#39;entity1_end&#39;: &#39;189&#39;, &#39;entity2&#39;: &#39;TREATMENT&#39;}),\n",
       " Annotation(category, 165, 287, OVERLAP, {&#39;chunk2&#39;: &#39;insulin lispro&#39;, &#39;confidence&#39;: &#39;0.99991524&#39;, &#39;entity2_end&#39;: &#39;287&#39;, &#39;chunk1&#39;: &#39;the endocrinology service&#39;, &#39;entity2_begin&#39;: &#39;274&#39;, &#39;entity1&#39;: &#39;CLINICAL_DEPT&#39;, &#39;entity1_begin&#39;: &#39;165&#39;, &#39;entity1_end&#39;: &#39;189&#39;, &#39;entity2&#39;: &#39;TREATMENT&#39;}),\n",
       " Annotation(category, 165, 302, OVERLAP, {&#39;chunk2&#39;: &#39;metformin&#39;, &#39;confidence&#39;: &#39;0.99980134&#39;, &#39;entity2_end&#39;: &#39;302&#39;, &#39;chunk1&#39;: &#39;the endocrinology service&#39;, &#39;entity2_begin&#39;: &#39;294&#39;, &#39;entity1&#39;: &#39;CLINICAL_DEPT&#39;, &#39;entity1_begin&#39;: &#39;165&#39;, &#39;entity1_end&#39;: &#39;189&#39;, &#39;entity2&#39;: &#39;TREATMENT&#39;}),\n",
       " Annotation(category, 165, 326, OVERLAP, {&#39;chunk2&#39;: &#39;two times a day&#39;, &#39;confidence&#39;: &#39;0.9948226&#39;, &#39;entity2_end&#39;: &#39;326&#39;, &#39;chunk1&#39;: &#39;the endocrinology service&#39;, &#39;entity2_begin&#39;: &#39;312&#39;, &#39;entity1&#39;: &#39;CLINICAL_DEPT&#39;, &#39;entity1_begin&#39;: &#39;165&#39;, &#39;entity1_end&#39;: &#39;189&#39;, &#39;entity2&#39;: &#39;FREQUENCY&#39;}),\n",
       " Annotation(category, 203, 226, OVERLAP, {&#39;chunk2&#39;: &#39;03/02/2018&#39;, &#39;confidence&#39;: &#39;1.0&#39;, &#39;entity2_end&#39;: &#39;226&#39;, &#39;chunk1&#39;: &#39;discharged&#39;, &#39;entity2_begin&#39;: &#39;217&#39;, &#39;entity1&#39;: &#39;OCCURRENCE&#39;, &#39;entity1_begin&#39;: &#39;203&#39;, &#39;entity1_end&#39;: &#39;212&#39;, &#39;entity2&#39;: &#39;DATE&#39;}),\n",
       " Annotation(category, 203, 258, AFTER, {&#39;chunk2&#39;: &#39;insulin glargine&#39;, &#39;confidence&#39;: &#39;0.9971378&#39;, &#39;entity2_end&#39;: &#39;258&#39;, &#39;chunk1&#39;: &#39;discharged&#39;, &#39;entity2_begin&#39;: &#39;243&#39;, &#39;entity1&#39;: &#39;OCCURRENCE&#39;, &#39;entity1_begin&#39;: &#39;203&#39;, &#39;entity1_end&#39;: &#39;212&#39;, &#39;entity2&#39;: &#39;TREATMENT&#39;}),\n",
       " Annotation(category, 203, 287, AFTER, {&#39;chunk2&#39;: &#39;insulin lispro&#39;, &#39;confidence&#39;: &#39;0.9836707&#39;, &#39;entity2_end&#39;: &#39;287&#39;, &#39;chunk1&#39;: &#39;discharged&#39;, &#39;entity2_begin&#39;: &#39;274&#39;, &#39;entity1&#39;: &#39;OCCURRENCE&#39;, &#39;entity1_begin&#39;: &#39;203&#39;, &#39;entity1_end&#39;: &#39;212&#39;, &#39;entity2&#39;: &#39;TREATMENT&#39;}),\n",
       " Annotation(category, 203, 302, AFTER, {&#39;chunk2&#39;: &#39;metformin&#39;, &#39;confidence&#39;: &#39;0.9950393&#39;, &#39;entity2_end&#39;: &#39;302&#39;, &#39;chunk1&#39;: &#39;discharged&#39;, &#39;entity2_begin&#39;: &#39;294&#39;, &#39;entity1&#39;: &#39;OCCURRENCE&#39;, &#39;entity1_begin&#39;: &#39;203&#39;, &#39;entity1_end&#39;: &#39;212&#39;, &#39;entity2&#39;: &#39;TREATMENT&#39;}),\n",
       " Annotation(category, 203, 326, OVERLAP, {&#39;chunk2&#39;: &#39;two times a day&#39;, &#39;confidence&#39;: &#39;0.66327995&#39;, &#39;entity2_end&#39;: &#39;326&#39;, &#39;chunk1&#39;: &#39;discharged&#39;, &#39;entity2_begin&#39;: &#39;312&#39;, &#39;entity1&#39;: &#39;OCCURRENCE&#39;, &#39;entity1_begin&#39;: &#39;203&#39;, &#39;entity1_end&#39;: &#39;212&#39;, &#39;entity2&#39;: &#39;FREQUENCY&#39;}),\n",
       " Annotation(category, 217, 258, OVERLAP, {&#39;chunk2&#39;: &#39;insulin glargine&#39;, &#39;confidence&#39;: &#39;0.9999982&#39;, &#39;entity2_end&#39;: &#39;258&#39;, &#39;chunk1&#39;: &#39;03/02/2018&#39;, &#39;entity2_begin&#39;: &#39;243&#39;, &#39;entity1&#39;: &#39;DATE&#39;, &#39;entity1_begin&#39;: &#39;217&#39;, &#39;entity1_end&#39;: &#39;226&#39;, &#39;entity2&#39;: &#39;TREATMENT&#39;}),\n",
       " Annotation(category, 217, 287, OVERLAP, {&#39;chunk2&#39;: &#39;insulin lispro&#39;, &#39;confidence&#39;: &#39;0.99991214&#39;, &#39;entity2_end&#39;: &#39;287&#39;, &#39;chunk1&#39;: &#39;03/02/2018&#39;, &#39;entity2_begin&#39;: &#39;274&#39;, &#39;entity1&#39;: &#39;DATE&#39;, &#39;entity1_begin&#39;: &#39;217&#39;, &#39;entity1_end&#39;: &#39;226&#39;, &#39;entity2&#39;: &#39;TREATMENT&#39;}),\n",
       " Annotation(category, 217, 302, OVERLAP, {&#39;chunk2&#39;: &#39;metformin&#39;, &#39;confidence&#39;: &#39;0.9998821&#39;, &#39;entity2_end&#39;: &#39;302&#39;, &#39;chunk1&#39;: &#39;03/02/2018&#39;, &#39;entity2_begin&#39;: &#39;294&#39;, &#39;entity1&#39;: &#39;DATE&#39;, &#39;entity1_begin&#39;: &#39;217&#39;, &#39;entity1_end&#39;: &#39;226&#39;, &#39;entity2&#39;: &#39;TREATMENT&#39;}),\n",
       " Annotation(category, 217, 326, OVERLAP, {&#39;chunk2&#39;: &#39;two times a day&#39;, &#39;confidence&#39;: &#39;0.9535232&#39;, &#39;entity2_end&#39;: &#39;326&#39;, &#39;chunk1&#39;: &#39;03/02/2018&#39;, &#39;entity2_begin&#39;: &#39;312&#39;, &#39;entity1&#39;: &#39;DATE&#39;, &#39;entity1_begin&#39;: &#39;217&#39;, &#39;entity1_end&#39;: &#39;226&#39;, &#39;entity2&#39;: &#39;FREQUENCY&#39;}),\n",
       " Annotation(category, 243, 287, OVERLAP, {&#39;chunk2&#39;: &#39;insulin lispro&#39;, &#39;confidence&#39;: &#39;1.0&#39;, &#39;entity2_end&#39;: &#39;287&#39;, &#39;chunk1&#39;: &#39;insulin glargine&#39;, &#39;entity2_begin&#39;: &#39;274&#39;, &#39;entity1&#39;: &#39;TREATMENT&#39;, &#39;entity1_begin&#39;: &#39;243&#39;, &#39;entity1_end&#39;: &#39;258&#39;, &#39;entity2&#39;: &#39;TREATMENT&#39;}),\n",
       " Annotation(category, 243, 302, OVERLAP, {&#39;chunk2&#39;: &#39;metformin&#39;, &#39;confidence&#39;: &#39;1.0&#39;, &#39;entity2_end&#39;: &#39;302&#39;, &#39;chunk1&#39;: &#39;insulin glargine&#39;, &#39;entity2_begin&#39;: &#39;294&#39;, &#39;entity1&#39;: &#39;TREATMENT&#39;, &#39;entity1_begin&#39;: &#39;243&#39;, &#39;entity1_end&#39;: &#39;258&#39;, &#39;entity2&#39;: &#39;TREATMENT&#39;}),\n",
       " Annotation(category, 243, 326, OVERLAP, {&#39;chunk2&#39;: &#39;two times a day&#39;, &#39;confidence&#39;: &#39;0.98034453&#39;, &#39;entity2_end&#39;: &#39;326&#39;, &#39;chunk1&#39;: &#39;insulin glargine&#39;, &#39;entity2_begin&#39;: &#39;312&#39;, &#39;entity1&#39;: &#39;TREATMENT&#39;, &#39;entity1_begin&#39;: &#39;243&#39;, &#39;entity1_end&#39;: &#39;258&#39;, &#39;entity2&#39;: &#39;FREQUENCY&#39;}),\n",
       " Annotation(category, 274, 302, OVERLAP, {&#39;chunk2&#39;: &#39;metformin&#39;, &#39;confidence&#39;: &#39;1.0&#39;, &#39;entity2_end&#39;: &#39;302&#39;, &#39;chunk1&#39;: &#39;insulin lispro&#39;, &#39;entity2_begin&#39;: &#39;294&#39;, &#39;entity1&#39;: &#39;TREATMENT&#39;, &#39;entity1_begin&#39;: &#39;274&#39;, &#39;entity1_end&#39;: &#39;287&#39;, &#39;entity2&#39;: &#39;TREATMENT&#39;}),\n",
       " Annotation(category, 274, 326, OVERLAP, {&#39;chunk2&#39;: &#39;two times a day&#39;, &#39;confidence&#39;: &#39;1.0&#39;, &#39;entity2_end&#39;: &#39;326&#39;, &#39;chunk1&#39;: &#39;insulin lispro&#39;, &#39;entity2_begin&#39;: &#39;312&#39;, &#39;entity1&#39;: &#39;TREATMENT&#39;, &#39;entity1_begin&#39;: &#39;274&#39;, &#39;entity1_end&#39;: &#39;287&#39;, &#39;entity2&#39;: &#39;FREQUENCY&#39;}),\n",
       " Annotation(category, 294, 326, OVERLAP, {&#39;chunk2&#39;: &#39;two times a day&#39;, &#39;confidence&#39;: &#39;1.0&#39;, &#39;entity2_end&#39;: &#39;326&#39;, &#39;chunk1&#39;: &#39;metformin&#39;, &#39;entity2_begin&#39;: &#39;312&#39;, &#39;entity1&#39;: &#39;TREATMENT&#39;, &#39;entity1_begin&#39;: &#39;294&#39;, &#39;entity1_end&#39;: &#39;302&#39;, &#39;entity2&#39;: &#39;FREQUENCY&#39;})]</div>"
      ]
     },
     "metadata": {
      "application/vnd.databricks.v1+output": {
       "addedWidgets": {},
       "arguments": {},
       "data": "<div class=\"ansiout\">Out[19]: [Annotation(category, 7, 43, AFTER, {&#39;chunk2&#39;: &#39;The John Hopkins Hospital&#39;, &#39;confidence&#39;: &#39;0.9638356&#39;, &#39;entity2_end&#39;: &#39;43&#39;, &#39;chunk1&#39;: &#39;admitted&#39;, &#39;entity2_begin&#39;: &#39;19&#39;, &#39;entity1&#39;: &#39;OCCURRENCE&#39;, &#39;entity1_begin&#39;: &#39;7&#39;, &#39;entity1_end&#39;: &#39;14&#39;, &#39;entity2&#39;: &#39;CLINICAL_DEPT&#39;}),\n Annotation(category, 7, 54, BEFORE, {&#39;chunk2&#39;: &#39;2 days ago&#39;, &#39;confidence&#39;: &#39;0.5870984&#39;, &#39;entity2_end&#39;: &#39;54&#39;, &#39;chunk1&#39;: &#39;admitted&#39;, &#39;entity2_begin&#39;: &#39;45&#39;, &#39;entity1&#39;: &#39;OCCURRENCE&#39;, &#39;entity1_begin&#39;: &#39;7&#39;, &#39;entity1_end&#39;: &#39;14&#39;, &#39;entity2&#39;: &#39;DATE&#39;}),\n Annotation(category, 7, 102, BEFORE, {&#39;chunk2&#39;: &#39;gestational diabetes mellitus&#39;, &#39;confidence&#39;: &#39;0.9999908&#39;, &#39;entity2_end&#39;: &#39;102&#39;, &#39;chunk1&#39;: &#39;admitted&#39;, &#39;entity2_begin&#39;: &#39;74&#39;, &#39;entity1&#39;: &#39;OCCURRENCE&#39;, &#39;entity1_begin&#39;: &#39;7&#39;, &#39;entity1_end&#39;: &#39;14&#39;, &#39;entity2&#39;: &#39;PROBLEM&#39;}),\n Annotation(category, 19, 54, OVERLAP, {&#39;chunk2&#39;: &#39;2 days ago&#39;, &#39;confidence&#39;: &#39;0.9960561&#39;, &#39;entity2_end&#39;: &#39;54&#39;, &#39;chunk1&#39;: &#39;The John Hopkins Hospital&#39;, &#39;entity2_begin&#39;: &#39;45&#39;, &#39;entity1&#39;: &#39;CLINICAL_DEPT&#39;, &#39;entity1_begin&#39;: &#39;19&#39;, &#39;entity1_end&#39;: &#39;43&#39;, &#39;entity2&#39;: &#39;DATE&#39;}),\n Annotation(category, 19, 102, BEFORE, {&#39;chunk2&#39;: &#39;gestational diabetes mellitus&#39;, &#39;confidence&#39;: &#39;0.9952165&#39;, &#39;entity2_end&#39;: &#39;102&#39;, &#39;chunk1&#39;: &#39;The John Hopkins Hospital&#39;, &#39;entity2_begin&#39;: &#39;74&#39;, &#39;entity1&#39;: &#39;CLINICAL_DEPT&#39;, &#39;entity1_begin&#39;: &#39;19&#39;, &#39;entity1_end&#39;: &#39;43&#39;, &#39;entity2&#39;: &#39;PROBLEM&#39;}),\n Annotation(category, 45, 102, OVERLAP, {&#39;chunk2&#39;: &#39;gestational diabetes mellitus&#39;, &#39;confidence&#39;: &#39;0.9969537&#39;, &#39;entity2_end&#39;: &#39;102&#39;, &#39;chunk1&#39;: &#39;2 days ago&#39;, &#39;entity2_begin&#39;: &#39;74&#39;, &#39;entity1&#39;: &#39;DATE&#39;, &#39;entity1_begin&#39;: &#39;45&#39;, &#39;entity1_end&#39;: &#39;54&#39;, &#39;entity2&#39;: &#39;PROBLEM&#39;}),\n Annotation(category, 119, 129, BEFORE, {&#39;chunk2&#39;: &#39;pain&#39;, &#39;confidence&#39;: &#39;1.0&#39;, &#39;entity2_end&#39;: &#39;129&#39;, &#39;chunk1&#39;: &#39;denied&#39;, &#39;entity2_begin&#39;: &#39;126&#39;, &#39;entity1&#39;: &#39;EVIDENTIAL&#39;, &#39;entity1_begin&#39;: &#39;119&#39;, &#39;entity1_end&#39;: &#39;124&#39;, &#39;entity2&#39;: &#39;PROBLEM&#39;}),\n Annotation(category, 119, 146, BEFORE, {&#39;chunk2&#39;: &#39;any headache&#39;, &#39;confidence&#39;: &#39;1.0&#39;, &#39;entity2_end&#39;: &#39;146&#39;, &#39;chunk1&#39;: &#39;denied&#39;, &#39;entity2_begin&#39;: &#39;135&#39;, &#39;entity1&#39;: &#39;EVIDENTIAL&#39;, &#39;entity1_begin&#39;: &#39;119&#39;, &#39;entity1_end&#39;: &#39;124&#39;, &#39;entity2&#39;: &#39;PROBLEM&#39;}),\n Annotation(category, 126, 146, OVERLAP, {&#39;chunk2&#39;: &#39;any headache&#39;, &#39;confidence&#39;: &#39;1.0&#39;, &#39;entity2_end&#39;: &#39;146&#39;, &#39;chunk1&#39;: &#39;pain&#39;, &#39;entity2_begin&#39;: &#39;135&#39;, &#39;entity1&#39;: &#39;PROBLEM&#39;, &#39;entity1_begin&#39;: &#39;126&#39;, &#39;entity1_end&#39;: &#39;129&#39;, &#39;entity2&#39;: &#39;PROBLEM&#39;}),\n Annotation(category, 165, 212, BEFORE, {&#39;chunk2&#39;: &#39;discharged&#39;, &#39;confidence&#39;: &#39;0.8256234&#39;, &#39;entity2_end&#39;: &#39;212&#39;, &#39;chunk1&#39;: &#39;the endocrinology service&#39;, &#39;entity2_begin&#39;: &#39;203&#39;, &#39;entity1&#39;: &#39;CLINICAL_DEPT&#39;, &#39;entity1_begin&#39;: &#39;165&#39;, &#39;entity1_end&#39;: &#39;189&#39;, &#39;entity2&#39;: &#39;OCCURRENCE&#39;}),\n Annotation(category, 165, 226, OVERLAP, {&#39;chunk2&#39;: &#39;03/02/2018&#39;, &#39;confidence&#39;: &#39;0.99998677&#39;, &#39;entity2_end&#39;: &#39;226&#39;, &#39;chunk1&#39;: &#39;the endocrinology service&#39;, &#39;entity2_begin&#39;: &#39;217&#39;, &#39;entity1&#39;: &#39;CLINICAL_DEPT&#39;, &#39;entity1_begin&#39;: &#39;165&#39;, &#39;entity1_end&#39;: &#39;189&#39;, &#39;entity2&#39;: &#39;DATE&#39;}),\n Annotation(category, 165, 258, OVERLAP, {&#39;chunk2&#39;: &#39;insulin glargine&#39;, &#39;confidence&#39;: &#39;0.99922824&#39;, &#39;entity2_end&#39;: &#39;258&#39;, &#39;chunk1&#39;: &#39;the endocrinology service&#39;, &#39;entity2_begin&#39;: &#39;243&#39;, &#39;entity1&#39;: &#39;CLINICAL_DEPT&#39;, &#39;entity1_begin&#39;: &#39;165&#39;, &#39;entity1_end&#39;: &#39;189&#39;, &#39;entity2&#39;: &#39;TREATMENT&#39;}),\n Annotation(category, 165, 287, OVERLAP, {&#39;chunk2&#39;: &#39;insulin lispro&#39;, &#39;confidence&#39;: &#39;0.99991524&#39;, &#39;entity2_end&#39;: &#39;287&#39;, &#39;chunk1&#39;: &#39;the endocrinology service&#39;, &#39;entity2_begin&#39;: &#39;274&#39;, &#39;entity1&#39;: &#39;CLINICAL_DEPT&#39;, &#39;entity1_begin&#39;: &#39;165&#39;, &#39;entity1_end&#39;: &#39;189&#39;, &#39;entity2&#39;: &#39;TREATMENT&#39;}),\n Annotation(category, 165, 302, OVERLAP, {&#39;chunk2&#39;: &#39;metformin&#39;, &#39;confidence&#39;: &#39;0.99980134&#39;, &#39;entity2_end&#39;: &#39;302&#39;, &#39;chunk1&#39;: &#39;the endocrinology service&#39;, &#39;entity2_begin&#39;: &#39;294&#39;, &#39;entity1&#39;: &#39;CLINICAL_DEPT&#39;, &#39;entity1_begin&#39;: &#39;165&#39;, &#39;entity1_end&#39;: &#39;189&#39;, &#39;entity2&#39;: &#39;TREATMENT&#39;}),\n Annotation(category, 165, 326, OVERLAP, {&#39;chunk2&#39;: &#39;two times a day&#39;, &#39;confidence&#39;: &#39;0.9948226&#39;, &#39;entity2_end&#39;: &#39;326&#39;, &#39;chunk1&#39;: &#39;the endocrinology service&#39;, &#39;entity2_begin&#39;: &#39;312&#39;, &#39;entity1&#39;: &#39;CLINICAL_DEPT&#39;, &#39;entity1_begin&#39;: &#39;165&#39;, &#39;entity1_end&#39;: &#39;189&#39;, &#39;entity2&#39;: &#39;FREQUENCY&#39;}),\n Annotation(category, 203, 226, OVERLAP, {&#39;chunk2&#39;: &#39;03/02/2018&#39;, &#39;confidence&#39;: &#39;1.0&#39;, &#39;entity2_end&#39;: &#39;226&#39;, &#39;chunk1&#39;: &#39;discharged&#39;, &#39;entity2_begin&#39;: &#39;217&#39;, &#39;entity1&#39;: &#39;OCCURRENCE&#39;, &#39;entity1_begin&#39;: &#39;203&#39;, &#39;entity1_end&#39;: &#39;212&#39;, &#39;entity2&#39;: &#39;DATE&#39;}),\n Annotation(category, 203, 258, AFTER, {&#39;chunk2&#39;: &#39;insulin glargine&#39;, &#39;confidence&#39;: &#39;0.9971378&#39;, &#39;entity2_end&#39;: &#39;258&#39;, &#39;chunk1&#39;: &#39;discharged&#39;, &#39;entity2_begin&#39;: &#39;243&#39;, &#39;entity1&#39;: &#39;OCCURRENCE&#39;, &#39;entity1_begin&#39;: &#39;203&#39;, &#39;entity1_end&#39;: &#39;212&#39;, &#39;entity2&#39;: &#39;TREATMENT&#39;}),\n Annotation(category, 203, 287, AFTER, {&#39;chunk2&#39;: &#39;insulin lispro&#39;, &#39;confidence&#39;: &#39;0.9836707&#39;, &#39;entity2_end&#39;: &#39;287&#39;, &#39;chunk1&#39;: &#39;discharged&#39;, &#39;entity2_begin&#39;: &#39;274&#39;, &#39;entity1&#39;: &#39;OCCURRENCE&#39;, &#39;entity1_begin&#39;: &#39;203&#39;, &#39;entity1_end&#39;: &#39;212&#39;, &#39;entity2&#39;: &#39;TREATMENT&#39;}),\n Annotation(category, 203, 302, AFTER, {&#39;chunk2&#39;: &#39;metformin&#39;, &#39;confidence&#39;: &#39;0.9950393&#39;, &#39;entity2_end&#39;: &#39;302&#39;, &#39;chunk1&#39;: &#39;discharged&#39;, &#39;entity2_begin&#39;: &#39;294&#39;, &#39;entity1&#39;: &#39;OCCURRENCE&#39;, &#39;entity1_begin&#39;: &#39;203&#39;, &#39;entity1_end&#39;: &#39;212&#39;, &#39;entity2&#39;: &#39;TREATMENT&#39;}),\n Annotation(category, 203, 326, OVERLAP, {&#39;chunk2&#39;: &#39;two times a day&#39;, &#39;confidence&#39;: &#39;0.66327995&#39;, &#39;entity2_end&#39;: &#39;326&#39;, &#39;chunk1&#39;: &#39;discharged&#39;, &#39;entity2_begin&#39;: &#39;312&#39;, &#39;entity1&#39;: &#39;OCCURRENCE&#39;, &#39;entity1_begin&#39;: &#39;203&#39;, &#39;entity1_end&#39;: &#39;212&#39;, &#39;entity2&#39;: &#39;FREQUENCY&#39;}),\n Annotation(category, 217, 258, OVERLAP, {&#39;chunk2&#39;: &#39;insulin glargine&#39;, &#39;confidence&#39;: &#39;0.9999982&#39;, &#39;entity2_end&#39;: &#39;258&#39;, &#39;chunk1&#39;: &#39;03/02/2018&#39;, &#39;entity2_begin&#39;: &#39;243&#39;, &#39;entity1&#39;: &#39;DATE&#39;, &#39;entity1_begin&#39;: &#39;217&#39;, &#39;entity1_end&#39;: &#39;226&#39;, &#39;entity2&#39;: &#39;TREATMENT&#39;}),\n Annotation(category, 217, 287, OVERLAP, {&#39;chunk2&#39;: &#39;insulin lispro&#39;, &#39;confidence&#39;: &#39;0.99991214&#39;, &#39;entity2_end&#39;: &#39;287&#39;, &#39;chunk1&#39;: &#39;03/02/2018&#39;, &#39;entity2_begin&#39;: &#39;274&#39;, &#39;entity1&#39;: &#39;DATE&#39;, &#39;entity1_begin&#39;: &#39;217&#39;, &#39;entity1_end&#39;: &#39;226&#39;, &#39;entity2&#39;: &#39;TREATMENT&#39;}),\n Annotation(category, 217, 302, OVERLAP, {&#39;chunk2&#39;: &#39;metformin&#39;, &#39;confidence&#39;: &#39;0.9998821&#39;, &#39;entity2_end&#39;: &#39;302&#39;, &#39;chunk1&#39;: &#39;03/02/2018&#39;, &#39;entity2_begin&#39;: &#39;294&#39;, &#39;entity1&#39;: &#39;DATE&#39;, &#39;entity1_begin&#39;: &#39;217&#39;, &#39;entity1_end&#39;: &#39;226&#39;, &#39;entity2&#39;: &#39;TREATMENT&#39;}),\n Annotation(category, 217, 326, OVERLAP, {&#39;chunk2&#39;: &#39;two times a day&#39;, &#39;confidence&#39;: &#39;0.9535232&#39;, &#39;entity2_end&#39;: &#39;326&#39;, &#39;chunk1&#39;: &#39;03/02/2018&#39;, &#39;entity2_begin&#39;: &#39;312&#39;, &#39;entity1&#39;: &#39;DATE&#39;, &#39;entity1_begin&#39;: &#39;217&#39;, &#39;entity1_end&#39;: &#39;226&#39;, &#39;entity2&#39;: &#39;FREQUENCY&#39;}),\n Annotation(category, 243, 287, OVERLAP, {&#39;chunk2&#39;: &#39;insulin lispro&#39;, &#39;confidence&#39;: &#39;1.0&#39;, &#39;entity2_end&#39;: &#39;287&#39;, &#39;chunk1&#39;: &#39;insulin glargine&#39;, &#39;entity2_begin&#39;: &#39;274&#39;, &#39;entity1&#39;: &#39;TREATMENT&#39;, &#39;entity1_begin&#39;: &#39;243&#39;, &#39;entity1_end&#39;: &#39;258&#39;, &#39;entity2&#39;: &#39;TREATMENT&#39;}),\n Annotation(category, 243, 302, OVERLAP, {&#39;chunk2&#39;: &#39;metformin&#39;, &#39;confidence&#39;: &#39;1.0&#39;, &#39;entity2_end&#39;: &#39;302&#39;, &#39;chunk1&#39;: &#39;insulin glargine&#39;, &#39;entity2_begin&#39;: &#39;294&#39;, &#39;entity1&#39;: &#39;TREATMENT&#39;, &#39;entity1_begin&#39;: &#39;243&#39;, &#39;entity1_end&#39;: &#39;258&#39;, &#39;entity2&#39;: &#39;TREATMENT&#39;}),\n Annotation(category, 243, 326, OVERLAP, {&#39;chunk2&#39;: &#39;two times a day&#39;, &#39;confidence&#39;: &#39;0.98034453&#39;, &#39;entity2_end&#39;: &#39;326&#39;, &#39;chunk1&#39;: &#39;insulin glargine&#39;, &#39;entity2_begin&#39;: &#39;312&#39;, &#39;entity1&#39;: &#39;TREATMENT&#39;, &#39;entity1_begin&#39;: &#39;243&#39;, &#39;entity1_end&#39;: &#39;258&#39;, &#39;entity2&#39;: &#39;FREQUENCY&#39;}),\n Annotation(category, 274, 302, OVERLAP, {&#39;chunk2&#39;: &#39;metformin&#39;, &#39;confidence&#39;: &#39;1.0&#39;, &#39;entity2_end&#39;: &#39;302&#39;, &#39;chunk1&#39;: &#39;insulin lispro&#39;, &#39;entity2_begin&#39;: &#39;294&#39;, &#39;entity1&#39;: &#39;TREATMENT&#39;, &#39;entity1_begin&#39;: &#39;274&#39;, &#39;entity1_end&#39;: &#39;287&#39;, &#39;entity2&#39;: &#39;TREATMENT&#39;}),\n Annotation(category, 274, 326, OVERLAP, {&#39;chunk2&#39;: &#39;two times a day&#39;, &#39;confidence&#39;: &#39;1.0&#39;, &#39;entity2_end&#39;: &#39;326&#39;, &#39;chunk1&#39;: &#39;insulin lispro&#39;, &#39;entity2_begin&#39;: &#39;312&#39;, &#39;entity1&#39;: &#39;TREATMENT&#39;, &#39;entity1_begin&#39;: &#39;274&#39;, &#39;entity1_end&#39;: &#39;287&#39;, &#39;entity2&#39;: &#39;FREQUENCY&#39;}),\n Annotation(category, 294, 326, OVERLAP, {&#39;chunk2&#39;: &#39;two times a day&#39;, &#39;confidence&#39;: &#39;1.0&#39;, &#39;entity2_end&#39;: &#39;326&#39;, &#39;chunk1&#39;: &#39;metformin&#39;, &#39;entity2_begin&#39;: &#39;312&#39;, &#39;entity1&#39;: &#39;TREATMENT&#39;, &#39;entity1_begin&#39;: &#39;294&#39;, &#39;entity1_end&#39;: &#39;302&#39;, &#39;entity2&#39;: &#39;FREQUENCY&#39;})]</div>",
       "datasetInfos": [],
       "removedWidgets": [],
       "type": "html"
      }
     },
     "output_type": "display_data"
    }
   ],
   "source": [
    "annotations[0]['clinical_relations']"
   ]
  },
  {
   "cell_type": "markdown",
   "metadata": {
    "application/vnd.databricks.v1+cell": {
     "inputWidgets": {},
     "nuid": "3cef598c-19bd-4104-ac9e-7c156efeaa25",
     "showTitle": false,
     "title": ""
    }
   },
   "source": [
    "## 3.explain_clinical_doc_ade \n",
    "\n",
    "a pipeline for `Adverse Drug Events (ADE)` with `ner_ade_healthcare`, and `classifierdl_ade_biobert`. It will extract `ADE` and `DRUG` clinical entities, and then assign ADE status to a text(`Negative` means ADE, `Neutral` means not related to ADE)."
   ]
  },
  {
   "cell_type": "code",
   "execution_count": 0,
   "metadata": {
    "application/vnd.databricks.v1+cell": {
     "inputWidgets": {},
     "nuid": "4c924f87-68ee-4a62-83e9-ab57cadb4cc0",
     "showTitle": false,
     "title": ""
    }
   },
   "outputs": [
    {
     "data": {
      "text/html": [
       "<style scoped>\n",
       "  .ansiout {\n",
       "    display: block;\n",
       "    unicode-bidi: embed;\n",
       "    white-space: pre-wrap;\n",
       "    word-wrap: break-word;\n",
       "    word-break: break-all;\n",
       "    font-family: \"Source Code Pro\", \"Menlo\", monospace;;\n",
       "    font-size: 13px;\n",
       "    color: #555;\n",
       "    margin-left: 4px;\n",
       "    line-height: 19px;\n",
       "  }\n",
       "</style>\n",
       "<div class=\"ansiout\">explain_clinical_doc_ade download started this may take some time.\n",
       "Approx size to download 426.7 MB\n",
       "\r",
       "[ | ]\r",
       "[ / ]\r",
       "[ — ]\r",
       "[ \\ ]\r",
       "[ | ]\r",
       "[ / ]\r",
       "[ — ]\r",
       "[ \\ ]\r",
       "[ | ]\r",
       "[ / ]\r",
       "[ — ]\r",
       "[ \\ ]\r",
       "[ | ]\r",
       "[ / ]\r",
       "[ — ]\r",
       "[ \\ ]\r",
       "[ | ]\r",
       "[ / ]\r",
       "[ — ]\r",
       "[ \\ ]\r",
       "[ | ]\r",
       "[ / ]\r",
       "[ — ]\r",
       "[ \\ ]\r",
       "[ | ]\r",
       "[ / ]\r",
       "[ — ]\r",
       "[ \\ ]\r",
       "[ | ]\r",
       "[ / ]\r",
       "[ — ]\r",
       "[ \\ ]\r",
       "[ | ]\r",
       "[ / ]\r",
       "[ — ]\r",
       "[ \\ ]\r",
       "[ | ]\r",
       "[OK!]\n",
       "</div>"
      ]
     },
     "metadata": {
      "application/vnd.databricks.v1+output": {
       "addedWidgets": {},
       "arguments": {},
       "data": "<div class=\"ansiout\">explain_clinical_doc_ade download started this may take some time.\nApprox size to download 426.7 MB\n\r[ | ]\r[ / ]\r[ — ]\r[ \\ ]\r[ | ]\r[ / ]\r[ — ]\r[ \\ ]\r[ | ]\r[ / ]\r[ — ]\r[ \\ ]\r[ | ]\r[ / ]\r[ — ]\r[ \\ ]\r[ | ]\r[ / ]\r[ — ]\r[ \\ ]\r[ | ]\r[ / ]\r[ — ]\r[ \\ ]\r[ | ]\r[ / ]\r[ — ]\r[ \\ ]\r[ | ]\r[ / ]\r[ — ]\r[ \\ ]\r[ | ]\r[ / ]\r[ — ]\r[ \\ ]\r[ | ]\r[OK!]\n</div>",
       "datasetInfos": [],
       "removedWidgets": [],
       "type": "html"
      }
     },
     "output_type": "display_data"
    }
   ],
   "source": [
    "ade_pipeline = PretrainedPipeline('explain_clinical_doc_ade', 'en', 'clinical/models')"
   ]
  },
  {
   "cell_type": "code",
   "execution_count": 0,
   "metadata": {
    "application/vnd.databricks.v1+cell": {
     "inputWidgets": {},
     "nuid": "3895d77e-563b-46cc-9f9e-64e707d9ab0e",
     "showTitle": false,
     "title": ""
    }
   },
   "outputs": [
    {
     "data": {
      "text/html": [
       "<style scoped>\n",
       "  .ansiout {\n",
       "    display: block;\n",
       "    unicode-bidi: embed;\n",
       "    white-space: pre-wrap;\n",
       "    word-wrap: break-word;\n",
       "    word-break: break-all;\n",
       "    font-family: \"Source Code Pro\", \"Menlo\", monospace;;\n",
       "    font-size: 13px;\n",
       "    color: #555;\n",
       "    margin-left: 4px;\n",
       "    line-height: 19px;\n",
       "  }\n",
       "</style>\n",
       "<div class=\"ansiout\"></div>"
      ]
     },
     "metadata": {
      "application/vnd.databricks.v1+output": {
       "addedWidgets": {},
       "arguments": {},
       "data": "<div class=\"ansiout\"></div>",
       "datasetInfos": [],
       "removedWidgets": [],
       "type": "html"
      }
     },
     "output_type": "display_data"
    }
   ],
   "source": [
    "result = ade_pipeline.fullAnnotate(\"I feel a bit drowsy & have a little blurred vision, so far no gastric problems.\")"
   ]
  },
  {
   "cell_type": "code",
   "execution_count": 0,
   "metadata": {
    "application/vnd.databricks.v1+cell": {
     "inputWidgets": {},
     "nuid": "f81b957a-5c36-4e55-9442-83d54a308871",
     "showTitle": false,
     "title": ""
    }
   },
   "outputs": [
    {
     "data": {
      "text/html": [
       "<style scoped>\n",
       "  .ansiout {\n",
       "    display: block;\n",
       "    unicode-bidi: embed;\n",
       "    white-space: pre-wrap;\n",
       "    word-wrap: break-word;\n",
       "    word-break: break-all;\n",
       "    font-family: \"Source Code Pro\", \"Menlo\", monospace;;\n",
       "    font-size: 13px;\n",
       "    color: #555;\n",
       "    margin-left: 4px;\n",
       "    line-height: 19px;\n",
       "  }\n",
       "</style>\n",
       "<div class=\"ansiout\">Out[7]: dict_keys([&#39;document&#39;, &#39;ade_ner_chunks_filtered&#39;, &#39;assertion&#39;, &#39;sentence_embeddings&#39;, &#39;ade_ner_chunks&#39;, &#39;tokens&#39;, &#39;class&#39;, &#39;embeddings&#39;, &#39;ade_ner_tags&#39;])</div>"
      ]
     },
     "metadata": {
      "application/vnd.databricks.v1+output": {
       "addedWidgets": {},
       "arguments": {},
       "data": "<div class=\"ansiout\">Out[7]: dict_keys([&#39;document&#39;, &#39;ade_ner_chunks_filtered&#39;, &#39;assertion&#39;, &#39;sentence_embeddings&#39;, &#39;ade_ner_chunks&#39;, &#39;tokens&#39;, &#39;class&#39;, &#39;embeddings&#39;, &#39;ade_ner_tags&#39;])</div>",
       "datasetInfos": [],
       "removedWidgets": [],
       "type": "html"
      }
     },
     "output_type": "display_data"
    }
   ],
   "source": [
    "result[0].keys()"
   ]
  },
  {
   "cell_type": "code",
   "execution_count": 0,
   "metadata": {
    "application/vnd.databricks.v1+cell": {
     "inputWidgets": {},
     "nuid": "f1711a23-25d6-46c2-ba2b-8988bcc8ee0f",
     "showTitle": false,
     "title": ""
    }
   },
   "outputs": [
    {
     "data": {
      "text/html": [
       "<style scoped>\n",
       "  .ansiout {\n",
       "    display: block;\n",
       "    unicode-bidi: embed;\n",
       "    white-space: pre-wrap;\n",
       "    word-wrap: break-word;\n",
       "    word-break: break-all;\n",
       "    font-family: \"Source Code Pro\", \"Menlo\", monospace;;\n",
       "    font-size: 13px;\n",
       "    color: #555;\n",
       "    margin-left: 4px;\n",
       "    line-height: 19px;\n",
       "  }\n",
       "</style>\n",
       "<div class=\"ansiout\">Out[8]: {&#39;sentence&#39;: &#39;0&#39;, &#39;False&#39;: &#39;0.011197302&#39;, &#39;True&#39;: &#39;0.98880273&#39;}</div>"
      ]
     },
     "metadata": {
      "application/vnd.databricks.v1+output": {
       "addedWidgets": {},
       "arguments": {},
       "data": "<div class=\"ansiout\">Out[8]: {&#39;sentence&#39;: &#39;0&#39;, &#39;False&#39;: &#39;0.011197302&#39;, &#39;True&#39;: &#39;0.98880273&#39;}</div>",
       "datasetInfos": [],
       "removedWidgets": [],
       "type": "html"
      }
     },
     "output_type": "display_data"
    }
   ],
   "source": [
    "result[0]['class'][0].metadata"
   ]
  },
  {
   "cell_type": "code",
   "execution_count": 0,
   "metadata": {
    "application/vnd.databricks.v1+cell": {
     "inputWidgets": {},
     "nuid": "720f6aa9-5731-4313-90ff-24f43b9be7be",
     "showTitle": false,
     "title": ""
    }
   },
   "outputs": [
    {
     "data": {
      "text/html": [
       "<style scoped>\n",
       "  .ansiout {\n",
       "    display: block;\n",
       "    unicode-bidi: embed;\n",
       "    white-space: pre-wrap;\n",
       "    word-wrap: break-word;\n",
       "    word-break: break-all;\n",
       "    font-family: \"Source Code Pro\", \"Menlo\", monospace;;\n",
       "    font-size: 13px;\n",
       "    color: #555;\n",
       "    margin-left: 4px;\n",
       "    line-height: 19px;\n",
       "  }\n",
       "</style>\n",
       "<div class=\"ansiout\">sentence: I feel a bit drowsy &amp; have a little blurred vision, so far no gastric problems. I have been on Arthrotec 50 for over 10 years on and off, only taking it when I needed it. Due to my arthritis getting progressively worse, to the point where I am in tears with the agony, gp&#39;s started me on 75 twice a day and I have to take it every day for the next month to see how I get on, here goes. So far its been very good, pains almost gone, but I feel a bit weird, didn&#39;t have that when on 50.\n",
       "\n",
       "ADE status: True\n",
       "prediction probability&gt;&gt; True :  0.9920334 False:  0.007966553\n",
       "Out[9]: </div>"
      ]
     },
     "metadata": {
      "application/vnd.databricks.v1+output": {
       "addedWidgets": {},
       "arguments": {},
       "data": "<div class=\"ansiout\">sentence: I feel a bit drowsy &amp; have a little blurred vision, so far no gastric problems. I have been on Arthrotec 50 for over 10 years on and off, only taking it when I needed it. Due to my arthritis getting progressively worse, to the point where I am in tears with the agony, gp&#39;s started me on 75 twice a day and I have to take it every day for the next month to see how I get on, here goes. So far its been very good, pains almost gone, but I feel a bit weird, didn&#39;t have that when on 50.\n\nADE status: True\nprediction probability&gt;&gt; True :  0.9920334 False:  0.007966553\nOut[9]: </div>",
       "datasetInfos": [],
       "removedWidgets": [],
       "type": "html"
      }
     },
     "output_type": "display_data"
    },
    {
     "data": {
      "text/html": [
       "<div>\n",
       "<style scoped>\n",
       "    .dataframe tbody tr th:only-of-type {\n",
       "        vertical-align: middle;\n",
       "    }\n",
       "\n",
       "    .dataframe tbody tr th {\n",
       "        vertical-align: top;\n",
       "    }\n",
       "\n",
       "    .dataframe thead th {\n",
       "        text-align: right;\n",
       "    }\n",
       "</style>\n",
       "<table border=\"1\" class=\"dataframe\">\n",
       "  <thead>\n",
       "    <tr style=\"text-align: right;\">\n",
       "      <th></th>\n",
       "      <th>chunks</th>\n",
       "      <th>entities</th>\n",
       "      <th>begin</th>\n",
       "      <th>end</th>\n",
       "    </tr>\n",
       "  </thead>\n",
       "  <tbody>\n",
       "    <tr>\n",
       "      <th>0</th>\n",
       "      <td>bit drowsy</td>\n",
       "      <td>ADE</td>\n",
       "      <td>9</td>\n",
       "      <td>18</td>\n",
       "    </tr>\n",
       "    <tr>\n",
       "      <th>1</th>\n",
       "      <td>little blurred vision</td>\n",
       "      <td>ADE</td>\n",
       "      <td>29</td>\n",
       "      <td>49</td>\n",
       "    </tr>\n",
       "    <tr>\n",
       "      <th>2</th>\n",
       "      <td>gastric problems</td>\n",
       "      <td>ADE</td>\n",
       "      <td>62</td>\n",
       "      <td>77</td>\n",
       "    </tr>\n",
       "    <tr>\n",
       "      <th>3</th>\n",
       "      <td>Arthrotec</td>\n",
       "      <td>DRUG</td>\n",
       "      <td>95</td>\n",
       "      <td>103</td>\n",
       "    </tr>\n",
       "    <tr>\n",
       "      <th>4</th>\n",
       "      <td>feel a bit weird</td>\n",
       "      <td>ADE</td>\n",
       "      <td>438</td>\n",
       "      <td>453</td>\n",
       "    </tr>\n",
       "  </tbody>\n",
       "</table>\n",
       "</div>"
      ]
     },
     "metadata": {
      "application/vnd.databricks.v1+output": {
       "addedWidgets": {},
       "arguments": {},
       "data": "<div>\n<style scoped>\n    .dataframe tbody tr th:only-of-type {\n        vertical-align: middle;\n    }\n\n    .dataframe tbody tr th {\n        vertical-align: top;\n    }\n\n    .dataframe thead th {\n        text-align: right;\n    }\n</style>\n<table border=\"1\" class=\"dataframe\">\n  <thead>\n    <tr style=\"text-align: right;\">\n      <th></th>\n      <th>chunks</th>\n      <th>entities</th>\n      <th>begin</th>\n      <th>end</th>\n    </tr>\n  </thead>\n  <tbody>\n    <tr>\n      <th>0</th>\n      <td>bit drowsy</td>\n      <td>ADE</td>\n      <td>9</td>\n      <td>18</td>\n    </tr>\n    <tr>\n      <th>1</th>\n      <td>little blurred vision</td>\n      <td>ADE</td>\n      <td>29</td>\n      <td>49</td>\n    </tr>\n    <tr>\n      <th>2</th>\n      <td>gastric problems</td>\n      <td>ADE</td>\n      <td>62</td>\n      <td>77</td>\n    </tr>\n    <tr>\n      <th>3</th>\n      <td>Arthrotec</td>\n      <td>DRUG</td>\n      <td>95</td>\n      <td>103</td>\n    </tr>\n    <tr>\n      <th>4</th>\n      <td>feel a bit weird</td>\n      <td>ADE</td>\n      <td>438</td>\n      <td>453</td>\n    </tr>\n  </tbody>\n</table>\n</div>",
       "datasetInfos": [],
       "removedWidgets": [],
       "textData": null,
       "type": "htmlSandbox"
      }
     },
     "output_type": "display_data"
    }
   ],
   "source": [
    "text = \"I feel a bit drowsy & have a little blurred vision, so far no gastric problems. I have been on Arthrotec 50 for over 10 years on and off, only taking it when I needed it. Due to my arthritis getting progressively worse, to the point where I am in tears with the agony, gp's started me on 75 twice a day and I have to take it every day for the next month to see how I get on, here goes. So far its been very good, pains almost gone, but I feel a bit weird, didn't have that when on 50.\"\n",
    "\n",
    "import pandas as pd\n",
    "\n",
    "chunks = []\n",
    "entities = []\n",
    "begin =[]\n",
    "end = []\n",
    "\n",
    "print ('sentence:', text)\n",
    "print()\n",
    "\n",
    "result = ade_pipeline.fullAnnotate(text)\n",
    "\n",
    "print ('ADE status:', result[0]['class'][0].result)\n",
    "\n",
    "print ('prediction probability>> True : ', result[0]['class'][0].metadata['True'], \\\n",
    "        'False: ', result[0]['class'][0].metadata['False'])\n",
    "\n",
    "for n in result[0]['ade_ner_chunks']:\n",
    "\n",
    "  begin.append(n.begin)\n",
    "  end.append(n.end)\n",
    "  chunks.append(n.result)\n",
    "  entities.append(n.metadata['entity']) \n",
    "\n",
    "df = pd.DataFrame({'chunks':chunks, 'entities':entities,\n",
    "                'begin': begin, 'end': end})\n",
    "\n",
    "df\n"
   ]
  },
  {
   "cell_type": "markdown",
   "metadata": {
    "application/vnd.databricks.v1+cell": {
     "inputWidgets": {},
     "nuid": "8e2bc0c4-7a56-4b43-a13e-878196853e17",
     "showTitle": false,
     "title": ""
    }
   },
   "source": [
    "#### with AssertionDL"
   ]
  },
  {
   "cell_type": "code",
   "execution_count": 0,
   "metadata": {
    "application/vnd.databricks.v1+cell": {
     "inputWidgets": {},
     "nuid": "725f748d-a2cb-4ad3-b62c-aa5d42541d12",
     "showTitle": false,
     "title": ""
    }
   },
   "outputs": [
    {
     "data": {
      "text/html": [
       "<style scoped>\n",
       "  .ansiout {\n",
       "    display: block;\n",
       "    unicode-bidi: embed;\n",
       "    white-space: pre-wrap;\n",
       "    word-wrap: break-word;\n",
       "    word-break: break-all;\n",
       "    font-family: \"Source Code Pro\", \"Menlo\", monospace;;\n",
       "    font-size: 13px;\n",
       "    color: #555;\n",
       "    margin-left: 4px;\n",
       "    line-height: 19px;\n",
       "  }\n",
       "</style>\n",
       "<div class=\"ansiout\">I was on Voltaren for about 4 years and all of the sudden had a minor stroke and had blood clots that traveled to my eye. I had every test in the book done at the hospital, and they couldnt find anything. I was completley healthy! I am thinking it was from the voltaren. I have been off of the drug for 8 months now, and have never felt better. I started eating healthy and working out and that has help alot. I can now sleep all thru the night. I wont take this again. If I have the back pain, I will pop a tylonol instead.\n",
       "Out[10]: </div>"
      ]
     },
     "metadata": {
      "application/vnd.databricks.v1+output": {
       "addedWidgets": {},
       "arguments": {},
       "data": "<div class=\"ansiout\">I was on Voltaren for about 4 years and all of the sudden had a minor stroke and had blood clots that traveled to my eye. I had every test in the book done at the hospital, and they couldnt find anything. I was completley healthy! I am thinking it was from the voltaren. I have been off of the drug for 8 months now, and have never felt better. I started eating healthy and working out and that has help alot. I can now sleep all thru the night. I wont take this again. If I have the back pain, I will pop a tylonol instead.\nOut[10]: </div>",
       "datasetInfos": [],
       "removedWidgets": [],
       "type": "html"
      }
     },
     "output_type": "display_data"
    },
    {
     "data": {
      "text/html": [
       "<div>\n",
       "<style scoped>\n",
       "    .dataframe tbody tr th:only-of-type {\n",
       "        vertical-align: middle;\n",
       "    }\n",
       "\n",
       "    .dataframe tbody tr th {\n",
       "        vertical-align: top;\n",
       "    }\n",
       "\n",
       "    .dataframe thead th {\n",
       "        text-align: right;\n",
       "    }\n",
       "</style>\n",
       "<table border=\"1\" class=\"dataframe\">\n",
       "  <thead>\n",
       "    <tr style=\"text-align: right;\">\n",
       "      <th></th>\n",
       "      <th>chunks</th>\n",
       "      <th>entities</th>\n",
       "      <th>assertion</th>\n",
       "    </tr>\n",
       "  </thead>\n",
       "  <tbody>\n",
       "    <tr>\n",
       "      <th>0</th>\n",
       "      <td>stroke</td>\n",
       "      <td>ADE</td>\n",
       "      <td>present</td>\n",
       "    </tr>\n",
       "    <tr>\n",
       "      <th>1</th>\n",
       "      <td>blood clots that traveled to my eye</td>\n",
       "      <td>ADE</td>\n",
       "      <td>present</td>\n",
       "    </tr>\n",
       "  </tbody>\n",
       "</table>\n",
       "</div>"
      ]
     },
     "metadata": {
      "application/vnd.databricks.v1+output": {
       "addedWidgets": {},
       "arguments": {},
       "data": "<div>\n<style scoped>\n    .dataframe tbody tr th:only-of-type {\n        vertical-align: middle;\n    }\n\n    .dataframe tbody tr th {\n        vertical-align: top;\n    }\n\n    .dataframe thead th {\n        text-align: right;\n    }\n</style>\n<table border=\"1\" class=\"dataframe\">\n  <thead>\n    <tr style=\"text-align: right;\">\n      <th></th>\n      <th>chunks</th>\n      <th>entities</th>\n      <th>assertion</th>\n    </tr>\n  </thead>\n  <tbody>\n    <tr>\n      <th>0</th>\n      <td>stroke</td>\n      <td>ADE</td>\n      <td>present</td>\n    </tr>\n    <tr>\n      <th>1</th>\n      <td>blood clots that traveled to my eye</td>\n      <td>ADE</td>\n      <td>present</td>\n    </tr>\n  </tbody>\n</table>\n</div>",
       "datasetInfos": [],
       "removedWidgets": [],
       "textData": null,
       "type": "htmlSandbox"
      }
     },
     "output_type": "display_data"
    }
   ],
   "source": [
    "import pandas as pd\n",
    "\n",
    "text = 'I was on Voltaren for about 4 years and all of the sudden had a minor stroke and had blood clots that traveled to my eye. I had every test in the book done at the hospital, and they couldnt find anything. I was completley healthy! I am thinking it was from the voltaren. I have been off of the drug for 8 months now, and have never felt better. I started eating healthy and working out and that has help alot. I can now sleep all thru the night. I wont take this again. If I have the back pain, I will pop a tylonol instead.'\n",
    "\n",
    "print (text)\n",
    "\n",
    "light_result = ade_pipeline.fullAnnotate(text)[0]\n",
    "\n",
    "chunks=[]\n",
    "entities=[]\n",
    "status=[]\n",
    "\n",
    "for n,m in zip(light_result['ade_ner_chunks_filtered'],light_result['assertion']):\n",
    "    \n",
    "    chunks.append(n.result)\n",
    "    entities.append(n.metadata['entity']) \n",
    "    status.append(m.result)\n",
    "        \n",
    "df = pd.DataFrame({'chunks':chunks, 'entities':entities, 'assertion':status})\n",
    "\n",
    "df"
   ]
  },
  {
   "cell_type": "markdown",
   "metadata": {
    "application/vnd.databricks.v1+cell": {
     "inputWidgets": {},
     "nuid": "0d6e3e9f-0582-44e5-96dc-b788ce7b64ba",
     "showTitle": false,
     "title": ""
    }
   },
   "source": [
    "## 4.ICD10CM to Snomed Code\n",
    "\n",
    "This pretrained pipeline maps ICD10CM codes to SNOMED codes without using any text data. You’ll just feed a comma or white space delimited ICD10CM codes and it will return the corresponding SNOMED codes as a list. For the time being, it supports 132K Snomed codes and will be augmented & enriched in the next releases."
   ]
  },
  {
   "cell_type": "code",
   "execution_count": 0,
   "metadata": {
    "application/vnd.databricks.v1+cell": {
     "inputWidgets": {},
     "nuid": "8a376bc8-58b6-450f-b627-941e13d807ab",
     "showTitle": false,
     "title": ""
    }
   },
   "outputs": [
    {
     "data": {
      "text/html": [
       "<style scoped>\n",
       "  .ansiout {\n",
       "    display: block;\n",
       "    unicode-bidi: embed;\n",
       "    white-space: pre-wrap;\n",
       "    word-wrap: break-word;\n",
       "    word-break: break-all;\n",
       "    font-family: \"Source Code Pro\", \"Menlo\", monospace;;\n",
       "    font-size: 13px;\n",
       "    color: #555;\n",
       "    margin-left: 4px;\n",
       "    line-height: 19px;\n",
       "  }\n",
       "</style>\n",
       "<div class=\"ansiout\">icd10cm_snomed_mapping download started this may take some time.\n",
       "Approx size to download 514.5 KB\n",
       "\r",
       "[ | ]\r",
       "[ / ]\r",
       "[ — ]\r",
       "[OK!]\n",
       "</div>"
      ]
     },
     "metadata": {
      "application/vnd.databricks.v1+output": {
       "addedWidgets": {},
       "arguments": {},
       "data": "<div class=\"ansiout\">icd10cm_snomed_mapping download started this may take some time.\nApprox size to download 514.5 KB\n\r[ | ]\r[ / ]\r[ — ]\r[OK!]\n</div>",
       "datasetInfos": [],
       "removedWidgets": [],
       "type": "html"
      }
     },
     "output_type": "display_data"
    }
   ],
   "source": [
    "icd_snomed_pipeline = PretrainedPipeline(\"icd10cm_snomed_mapping\", \"en\", \"clinical/models\")"
   ]
  },
  {
   "cell_type": "code",
   "execution_count": 0,
   "metadata": {
    "application/vnd.databricks.v1+cell": {
     "inputWidgets": {},
     "nuid": "912900a4-a1a2-4c1d-b3d9-06c0f90489f6",
     "showTitle": false,
     "title": ""
    }
   },
   "outputs": [
    {
     "data": {
      "text/html": [
       "<style scoped>\n",
       "  .ansiout {\n",
       "    display: block;\n",
       "    unicode-bidi: embed;\n",
       "    white-space: pre-wrap;\n",
       "    word-wrap: break-word;\n",
       "    word-break: break-all;\n",
       "    font-family: \"Source Code Pro\", \"Menlo\", monospace;;\n",
       "    font-size: 13px;\n",
       "    color: #555;\n",
       "    margin-left: 4px;\n",
       "    line-height: 19px;\n",
       "  }\n",
       "</style>\n",
       "<div class=\"ansiout\">Out[12]: [DocumentAssembler_effe917bc86b,\n",
       " REGEX_TOKENIZER_a2e7a20a20d4,\n",
       " LEMMATIZER_0ca0f7005a90,\n",
       " Finisher_07470acb09e3]</div>"
      ]
     },
     "metadata": {
      "application/vnd.databricks.v1+output": {
       "addedWidgets": {},
       "arguments": {},
       "data": "<div class=\"ansiout\">Out[12]: [DocumentAssembler_effe917bc86b,\n REGEX_TOKENIZER_a2e7a20a20d4,\n LEMMATIZER_0ca0f7005a90,\n Finisher_07470acb09e3]</div>",
       "datasetInfos": [],
       "removedWidgets": [],
       "type": "html"
      }
     },
     "output_type": "display_data"
    }
   ],
   "source": [
    "icd_snomed_pipeline.model.stages"
   ]
  },
  {
   "cell_type": "code",
   "execution_count": 0,
   "metadata": {
    "application/vnd.databricks.v1+cell": {
     "inputWidgets": {},
     "nuid": "62a6e015-42c1-4345-8856-25229aee1c81",
     "showTitle": false,
     "title": ""
    }
   },
   "outputs": [
    {
     "data": {
      "text/html": [
       "<style scoped>\n",
       "  .ansiout {\n",
       "    display: block;\n",
       "    unicode-bidi: embed;\n",
       "    white-space: pre-wrap;\n",
       "    word-wrap: break-word;\n",
       "    word-break: break-all;\n",
       "    font-family: \"Source Code Pro\", \"Menlo\", monospace;;\n",
       "    font-size: 13px;\n",
       "    color: #555;\n",
       "    margin-left: 4px;\n",
       "    line-height: 19px;\n",
       "  }\n",
       "</style>\n",
       "<div class=\"ansiout\">Out[13]: {&#39;icd10cm&#39;: [&#39;M89.50&#39;, &#39;I288&#39;, &#39;H16269&#39;],\n",
       " &#39;snomed&#39;: [&#39;733187009&#39;, &#39;449433008&#39;, &#39;51264003&#39;]}</div>"
      ]
     },
     "metadata": {
      "application/vnd.databricks.v1+output": {
       "addedWidgets": {},
       "arguments": {},
       "data": "<div class=\"ansiout\">Out[13]: {&#39;icd10cm&#39;: [&#39;M89.50&#39;, &#39;I288&#39;, &#39;H16269&#39;],\n &#39;snomed&#39;: [&#39;733187009&#39;, &#39;449433008&#39;, &#39;51264003&#39;]}</div>",
       "datasetInfos": [],
       "removedWidgets": [],
       "type": "html"
      }
     },
     "output_type": "display_data"
    }
   ],
   "source": [
    "icd_snomed_pipeline.annotate('M89.50 I288 H16269')"
   ]
  },
  {
   "cell_type": "markdown",
   "metadata": {
    "application/vnd.databricks.v1+cell": {
     "inputWidgets": {},
     "nuid": "cdeb64f5-9990-444a-89e5-c6a1bbbd736f",
     "showTitle": false,
     "title": ""
    }
   },
   "source": [
    "|**ICD10CM Code** | **Details** | \n",
    "| ---------- | -----------:|\n",
    "| M89.50 |  Osteolysis, unspecified site |\n",
    "| I288 | Other diseases of pulmonary vessels |\n",
    "| H16269 | Vernal keratoconjunctivitis, with limbar and corneal involvement, unspecified eye |\n",
    "\n",
    "| **SNOMED Code** | **Details** |\n",
    "| ---------- | -----------:|\n",
    "| 733187009 | Osteolysis following surgical procedure on skeletal system |\n",
    "| 449433008 | Diffuse stenosis of left pulmonary artery |\n",
    "| 51264003 | Limbal AND/OR corneal involvement in vernal conjunctivitis |"
   ]
  },
  {
   "cell_type": "markdown",
   "metadata": {
    "application/vnd.databricks.v1+cell": {
     "inputWidgets": {},
     "nuid": "f151d0c0-e2f8-4639-bb22-671f5959571f",
     "showTitle": false,
     "title": ""
    }
   },
   "source": [
    "## 5.Snomed to ICD10CM Code\n",
    "This pretrained pipeline maps SNOMED codes to ICD10CM codes without using any text data. You'll just feed a comma or white space delimited SNOMED codes and it will return the corresponding candidate ICD10CM codes as a list (multiple ICD10 codes for each Snomed code). For the time being, it supports 132K Snomed codes and 30K ICD10 codes and will be augmented & enriched in the next releases."
   ]
  },
  {
   "cell_type": "code",
   "execution_count": 0,
   "metadata": {
    "application/vnd.databricks.v1+cell": {
     "inputWidgets": {},
     "nuid": "bac17411-9021-44c7-a964-9278cc7ff510",
     "showTitle": false,
     "title": ""
    }
   },
   "outputs": [
    {
     "data": {
      "text/html": [
       "<style scoped>\n",
       "  .ansiout {\n",
       "    display: block;\n",
       "    unicode-bidi: embed;\n",
       "    white-space: pre-wrap;\n",
       "    word-wrap: break-word;\n",
       "    word-break: break-all;\n",
       "    font-family: \"Source Code Pro\", \"Menlo\", monospace;;\n",
       "    font-size: 13px;\n",
       "    color: #555;\n",
       "    margin-left: 4px;\n",
       "    line-height: 19px;\n",
       "  }\n",
       "</style>\n",
       "<div class=\"ansiout\">snomed_icd10cm_mapping download started this may take some time.\n",
       "Approx size to download 1.8 MB\n",
       "\r",
       "[ | ]\r",
       "[ / ]\r",
       "[ — ]\r",
       "[ \\ ]\r",
       "[ | ]\r",
       "[ / ]\r",
       "[ — ]\r",
       "[ \\ ]\r",
       "[ | ]\r",
       "[ / ]\r",
       "[ — ]\r",
       "[ \\ ]\r",
       "[ | ]\r",
       "[ / ]\r",
       "[ — ]\r",
       "[ \\ ]\r",
       "[ | ]\r",
       "[ / ]\r",
       "[ — ]\r",
       "[ \\ ]\r",
       "[ | ]\r",
       "[ / ]\r",
       "[ — ]\r",
       "[ \\ ]\r",
       "[ | ]\r",
       "[ / ]\r",
       "[ — ]\r",
       "[ \\ ]\r",
       "[ | ]\r",
       "[ / ]\r",
       "[OK!]\n",
       "</div>"
      ]
     },
     "metadata": {
      "application/vnd.databricks.v1+output": {
       "addedWidgets": {},
       "arguments": {},
       "data": "<div class=\"ansiout\">snomed_icd10cm_mapping download started this may take some time.\nApprox size to download 1.8 MB\n\r[ | ]\r[ / ]\r[ — ]\r[ \\ ]\r[ | ]\r[ / ]\r[ — ]\r[ \\ ]\r[ | ]\r[ / ]\r[ — ]\r[ \\ ]\r[ | ]\r[ / ]\r[ — ]\r[ \\ ]\r[ | ]\r[ / ]\r[ — ]\r[ \\ ]\r[ | ]\r[ / ]\r[ — ]\r[ \\ ]\r[ | ]\r[ / ]\r[ — ]\r[ \\ ]\r[ | ]\r[ / ]\r[OK!]\n</div>",
       "datasetInfos": [],
       "removedWidgets": [],
       "type": "html"
      }
     },
     "output_type": "display_data"
    }
   ],
   "source": [
    "snomed_icd_pipeline = PretrainedPipeline(\"snomed_icd10cm_mapping\",\"en\",\"clinical/models\")"
   ]
  },
  {
   "cell_type": "code",
   "execution_count": 0,
   "metadata": {
    "application/vnd.databricks.v1+cell": {
     "inputWidgets": {},
     "nuid": "334f4d4b-e159-4409-bf8d-310410f00994",
     "showTitle": false,
     "title": ""
    }
   },
   "outputs": [
    {
     "data": {
      "text/html": [
       "<style scoped>\n",
       "  .ansiout {\n",
       "    display: block;\n",
       "    unicode-bidi: embed;\n",
       "    white-space: pre-wrap;\n",
       "    word-wrap: break-word;\n",
       "    word-break: break-all;\n",
       "    font-family: \"Source Code Pro\", \"Menlo\", monospace;;\n",
       "    font-size: 13px;\n",
       "    color: #555;\n",
       "    margin-left: 4px;\n",
       "    line-height: 19px;\n",
       "  }\n",
       "</style>\n",
       "<div class=\"ansiout\">Out[3]: [DocumentAssembler_136f968cb1ef,\n",
       " REGEX_TOKENIZER_ecc8d3a8dbc9,\n",
       " LEMMATIZER_e9ae88d69d05,\n",
       " Finisher_790dd28aacd1]</div>"
      ]
     },
     "metadata": {
      "application/vnd.databricks.v1+output": {
       "addedWidgets": {},
       "arguments": {},
       "data": "<div class=\"ansiout\">Out[3]: [DocumentAssembler_136f968cb1ef,\n REGEX_TOKENIZER_ecc8d3a8dbc9,\n LEMMATIZER_e9ae88d69d05,\n Finisher_790dd28aacd1]</div>",
       "datasetInfos": [],
       "removedWidgets": [],
       "type": "html"
      }
     },
     "output_type": "display_data"
    }
   ],
   "source": [
    "snomed_icd_pipeline.model.stages"
   ]
  },
  {
   "cell_type": "code",
   "execution_count": 0,
   "metadata": {
    "application/vnd.databricks.v1+cell": {
     "inputWidgets": {},
     "nuid": "6b718dd7-f6b7-463a-8c8a-ee820ad9830f",
     "showTitle": false,
     "title": ""
    }
   },
   "outputs": [
    {
     "data": {
      "text/html": [
       "<style scoped>\n",
       "  .ansiout {\n",
       "    display: block;\n",
       "    unicode-bidi: embed;\n",
       "    white-space: pre-wrap;\n",
       "    word-wrap: break-word;\n",
       "    word-break: break-all;\n",
       "    font-family: \"Source Code Pro\", \"Menlo\", monospace;;\n",
       "    font-size: 13px;\n",
       "    color: #555;\n",
       "    margin-left: 4px;\n",
       "    line-height: 19px;\n",
       "  }\n",
       "</style>\n",
       "<div class=\"ansiout\">Out[4]: {&#39;snomed&#39;: [&#39;733187009&#39;, &#39;449433008&#39;, &#39;51264003&#39;],\n",
       " &#39;icd10cm&#39;: [&#39;M89.59, M89.50, M96.89&#39;,\n",
       "  &#39;Q25.6, I28.8&#39;,\n",
       "  &#39;H10.45, H10.1, H16.269&#39;]}</div>"
      ]
     },
     "metadata": {
      "application/vnd.databricks.v1+output": {
       "addedWidgets": {},
       "arguments": {},
       "data": "<div class=\"ansiout\">Out[4]: {&#39;snomed&#39;: [&#39;733187009&#39;, &#39;449433008&#39;, &#39;51264003&#39;],\n &#39;icd10cm&#39;: [&#39;M89.59, M89.50, M96.89&#39;,\n  &#39;Q25.6, I28.8&#39;,\n  &#39;H10.45, H10.1, H16.269&#39;]}</div>",
       "datasetInfos": [],
       "removedWidgets": [],
       "type": "html"
      }
     },
     "output_type": "display_data"
    }
   ],
   "source": [
    "snomed_icd_pipeline.annotate('733187009 449433008 51264003')"
   ]
  },
  {
   "cell_type": "markdown",
   "metadata": {
    "application/vnd.databricks.v1+cell": {
     "inputWidgets": {},
     "nuid": "faefc4e2-a0bb-4b70-942b-d2da6044acf5",
     "showTitle": false,
     "title": ""
    }
   },
   "source": [
    "| **SNOMED** | **Details** |\n",
    "| ------ | ------:|\n",
    "| 733187009| Osteolysis following surgical procedure on skeletal system |\n",
    "| 449433008 | Diffuse stenosis of left pulmonary artery |\n",
    "| 51264003 | Limbal AND/OR corneal involvement in vernal conjunctivitis|\n",
    "\n",
    "| **ICDM10CM** | **Details** |  \n",
    "| ---------- | ---------:|\n",
    "| M89.59 | Osteolysis, multiple sites |  \n",
    "| M89.50 | Osteolysis, unspecified site |\n",
    "| M96.89 | Other intraoperative and postprocedural complications and disorders of the musculoskeletal system | \n",
    "| Q25.6 | Stenosis of pulmonary artery |    \n",
    "| I28.8 | Other diseases of pulmonary vessels |\n",
    "| H10.45 | Other chronic allergic conjunctivitis |\n",
    "| H10.1 | Acute atopic conjunctivitis | \n",
    "| H16.269 | Vernal keratoconjunctivitis, with limbar and corneal involvement, unspecified eye |"
   ]
  },
  {
   "cell_type": "markdown",
   "metadata": {
    "application/vnd.databricks.v1+cell": {
     "inputWidgets": {},
     "nuid": "d8578ab0-c8fc-4f34-ac92-92f838130b4d",
     "showTitle": false,
     "title": ""
    }
   },
   "source": [
    "End of Notebook # 11"
   ]
  }
 ],
 "metadata": {
  "application/vnd.databricks.v1+notebook": {
   "dashboards": [],
   "language": "python",
   "notebookMetadata": {
    "pythonIndentUnit": 2
   },
   "notebookName": "11.Pretrained_Clinical_Pipelines_v3.0",
   "notebookOrigID": 4193189591304943,
   "widgets": {}
  },
  "kernelspec": {
   "display_name": "Python 3",
   "language": "python",
   "name": "python3"
  },
  "language_info": {
   "codemirror_mode": {
    "name": "ipython",
    "version": 3
   },
   "file_extension": ".py",
   "mimetype": "text/x-python",
   "name": "python",
   "nbconvert_exporter": "python",
   "pygments_lexer": "ipython3",
   "version": "3.8.3"
  }
 },
 "nbformat": 4,
 "nbformat_minor": 1
}

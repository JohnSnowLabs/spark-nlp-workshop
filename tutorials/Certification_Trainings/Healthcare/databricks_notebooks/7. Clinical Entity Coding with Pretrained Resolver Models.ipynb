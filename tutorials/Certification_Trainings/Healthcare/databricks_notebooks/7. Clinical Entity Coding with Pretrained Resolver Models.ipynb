{
 "cells": [
  {
   "cell_type": "markdown",
   "metadata": {
    "application/vnd.databricks.v1+cell": {
     "inputWidgets": {},
     "nuid": "02fae190-9a78-40dc-b50b-2f84462d5962",
     "showTitle": false,
     "title": ""
    }
   },
   "source": [
    "![JohnSnowLabs](https://nlp.johnsnowlabs.com/assets/images/logo.png)"
   ]
  },
  {
   "cell_type": "markdown",
   "metadata": {
    "application/vnd.databricks.v1+cell": {
     "inputWidgets": {},
     "nuid": "3eb55580-7484-4b6a-b7a5-d5946064e7e2",
     "showTitle": false,
     "title": ""
    }
   },
   "source": [
    "# Clinical Entity Coding with Pretrained Resolver Models "
   ]
  },
  {
   "cell_type": "code",
   "execution_count": 0,
   "metadata": {
    "application/vnd.databricks.v1+cell": {
     "inputWidgets": {},
     "nuid": "cd355986-11fd-452b-a2ba-d15069e8d4af",
     "showTitle": false,
     "title": ""
    }
   },
   "outputs": [
    {
     "data": {
      "text/html": [
       "<style scoped>\n",
       "  .ansiout {\n",
       "    display: block;\n",
       "    unicode-bidi: embed;\n",
       "    white-space: pre-wrap;\n",
       "    word-wrap: break-word;\n",
       "    word-break: break-all;\n",
       "    font-family: \"Source Code Pro\", \"Menlo\", monospace;;\n",
       "    font-size: 13px;\n",
       "    color: #555;\n",
       "    margin-left: 4px;\n",
       "    line-height: 19px;\n",
       "  }\n",
       "</style>\n",
       "<div class=\"ansiout\">sparknlp_jsl.version :  3.0.1\n",
       "Out[1]: </div>"
      ]
     },
     "metadata": {
      "application/vnd.databricks.v1+output": {
       "addedWidgets": {},
       "arguments": {},
       "data": "<div class=\"ansiout\">sparknlp_jsl.version :  3.0.1\nOut[1]: </div>",
       "datasetInfos": [],
       "removedWidgets": [],
       "type": "html"
      }
     },
     "output_type": "display_data"
    },
    {
     "data": {
      "text/html": [
       "\n",
       "            <div>\n",
       "                <p><b>SparkSession - hive</b></p>\n",
       "                \n",
       "        <div>\n",
       "            <p><b>SparkContext</b></p>\n",
       "\n",
       "            <p><a href=\"/?o=3418543878422327#setting/sparkui/0421-031638-preys129/driver-5964906223398765702\">Spark UI</a></p>\n",
       "\n",
       "            <dl>\n",
       "              <dt>Version</dt>\n",
       "                <dd><code>v3.0.1</code></dd>\n",
       "              <dt>Master</dt>\n",
       "                <dd><code>spark://10.164.250.91:7077</code></dd>\n",
       "              <dt>AppName</dt>\n",
       "                <dd><code>Databricks Shell</code></dd>\n",
       "            </dl>\n",
       "        </div>\n",
       "        \n",
       "            </div>\n",
       "        "
      ]
     },
     "metadata": {
      "application/vnd.databricks.v1+output": {
       "addedWidgets": {},
       "arguments": {},
       "data": "\n            <div>\n                <p><b>SparkSession - hive</b></p>\n                \n        <div>\n            <p><b>SparkContext</b></p>\n\n            <p><a href=\"/?o=3418543878422327#setting/sparkui/0421-031638-preys129/driver-5964906223398765702\">Spark UI</a></p>\n\n            <dl>\n              <dt>Version</dt>\n                <dd><code>v3.0.1</code></dd>\n              <dt>Master</dt>\n                <dd><code>spark://10.164.250.91:7077</code></dd>\n              <dt>AppName</dt>\n                <dd><code>Databricks Shell</code></dd>\n            </dl>\n        </div>\n        \n            </div>\n        ",
       "datasetInfos": [],
       "removedWidgets": [],
       "textData": null,
       "type": "htmlSandbox"
      }
     },
     "output_type": "display_data"
    }
   ],
   "source": [
    "import os\n",
    "import json\n",
    "import string\n",
    "import numpy as np\n",
    "import pandas as pd\n",
    "\n",
    "\n",
    "import sparknlp\n",
    "import sparknlp_jsl\n",
    "from sparknlp.base import *\n",
    "from sparknlp.util import *\n",
    "from sparknlp.annotator import *\n",
    "from sparknlp_jsl.annotator import *\n",
    "from sparknlp.pretrained import ResourceDownloader\n",
    "\n",
    "from pyspark.sql import functions as F\n",
    "from pyspark.ml import Pipeline, PipelineModel\n",
    "\n",
    "pd.set_option('max_colwidth', 100)\n",
    "pd.set_option('display.max_columns', 100)  \n",
    "pd.set_option('display.expand_frame_repr', False)\n",
    "\n",
    "\n",
    "print('sparknlp_jsl.version : ',sparknlp_jsl.version())\n",
    "\n",
    "spark"
   ]
  },
  {
   "cell_type": "markdown",
   "metadata": {
    "application/vnd.databricks.v1+cell": {
     "inputWidgets": {},
     "nuid": "07e41d6d-6739-4be2-9753-a39e31e8426f",
     "showTitle": false,
     "title": ""
    }
   },
   "source": [
    "# Clinical Resolvers"
   ]
  },
  {
   "cell_type": "markdown",
   "metadata": {
    "application/vnd.databricks.v1+cell": {
     "inputWidgets": {},
     "nuid": "8e080657-d673-44cc-b63d-268d5bdb82ff",
     "showTitle": false,
     "title": ""
    }
   },
   "source": [
    "## Entity Resolvers for ICD-10"
   ]
  },
  {
   "cell_type": "markdown",
   "metadata": {
    "application/vnd.databricks.v1+cell": {
     "inputWidgets": {},
     "nuid": "6b5cf435-17b0-447e-a818-49d529ed2c56",
     "showTitle": false,
     "title": ""
    }
   },
   "source": [
    "A common NLP problem in biomedical aplications is to identify the presence of clinical entities in a given text. This clinical entities could be diseases, symptoms, drugs, results of clinical investigations or others.\n",
    "\n",
    "Other than providing the code in the \"result\" field it provides more metadata about the matching process:\n",
    "\n",
    "- target_text -> Text to resolve\n",
    "- resolved_text -> Best match text\n",
    "- confidence -> Relative confidence for the top match (distance to probability)\n",
    "- confidence_ratio -> Relative confidence for the top match. TopMatchConfidence / SecondMatchConfidence\n",
    "- alternative_codes -> List of other plausible codes (in the KNN neighborhood)\n",
    "- alternative_confidence_ratios -> Rest of confidence ratios\n",
    "- all_k_results -> All resolved codes for metrics calculation purposes\n",
    "- sentence -> SentenceId\n",
    "- chunk -> ChunkId"
   ]
  },
  {
   "cell_type": "markdown",
   "metadata": {
    "application/vnd.databricks.v1+cell": {
     "inputWidgets": {},
     "nuid": "db89aaa0-8422-46d6-8812-935267d24586",
     "showTitle": false,
     "title": ""
    }
   },
   "source": [
    "### Clinical NER Pipeline creation"
   ]
  },
  {
   "cell_type": "code",
   "execution_count": 0,
   "metadata": {
    "application/vnd.databricks.v1+cell": {
     "inputWidgets": {},
     "nuid": "26da02a5-c6ab-456e-a585-ed7d02a78082",
     "showTitle": false,
     "title": ""
    }
   },
   "outputs": [
    {
     "data": {
      "text/html": [
       "<style scoped>\n",
       "  .ansiout {\n",
       "    display: block;\n",
       "    unicode-bidi: embed;\n",
       "    white-space: pre-wrap;\n",
       "    word-wrap: break-word;\n",
       "    word-break: break-all;\n",
       "    font-family: \"Source Code Pro\", \"Menlo\", monospace;;\n",
       "    font-size: 13px;\n",
       "    color: #555;\n",
       "    margin-left: 4px;\n",
       "    line-height: 19px;\n",
       "  }\n",
       "</style>\n",
       "<div class=\"ansiout\">sentence_detector_dl_healthcare download started this may take some time.\n",
       "Approximate size to download 363.9 KB\n",
       "\r",
       "[ | ]\r",
       "[OK!]\n",
       "</div>"
      ]
     },
     "metadata": {
      "application/vnd.databricks.v1+output": {
       "addedWidgets": {},
       "arguments": {},
       "data": "<div class=\"ansiout\">sentence_detector_dl_healthcare download started this may take some time.\nApproximate size to download 363.9 KB\n\r[ | ]\r[OK!]\n</div>",
       "datasetInfos": [],
       "removedWidgets": [],
       "type": "html"
      }
     },
     "output_type": "display_data"
    }
   ],
   "source": [
    "# Annotator that transforms a text column from dataframe into an Annotation ready for NLP\n",
    "\n",
    "documentAssembler = DocumentAssembler()\\\n",
    "  .setInputCol(\"text\")\\\n",
    "  .setOutputCol(\"document\")\n",
    "\n",
    "# Sentence Detector DL annotator, processes various sentences per line\n",
    "sentenceDetectorDL = SentenceDetectorDLModel.pretrained(\"sentence_detector_dl_healthcare\", \"en\", 'clinical/models') \\\n",
    "  .setInputCols([\"document\"]) \\\n",
    "  .setOutputCol(\"sentence\")\n",
    "\n",
    "# Tokenizer splits words in a relevant format for NLP\n",
    "\n",
    "tokenizer = Tokenizer()\\\n",
    "  .setInputCols([\"sentence\"])\\\n",
    "  .setOutputCol(\"raw_token\")\\\n",
    "\n",
    "# Tokenizer splits words in a relevant format for NLP\n",
    "\n",
    "stopwords = StopWordsCleaner()\\\n",
    "  .setInputCols([\"raw_token\"])\\\n",
    "  .setOutputCol(\"token\")\n",
    "  "
   ]
  },
  {
   "cell_type": "markdown",
   "metadata": {
    "application/vnd.databricks.v1+cell": {
     "inputWidgets": {},
     "nuid": "c16a9bff-1a96-4327-9797-3ffd5664298a",
     "showTitle": false,
     "title": ""
    }
   },
   "source": [
    "The fourth annotator in the pipeline is \"WordEmbeddingsModel\". We will download a pretrained model available from \"clinical/models\" named \"embeddings_clinical\".\n",
    "\n",
    "When running this cell your are advised to be patient.\n",
    "\n",
    "First time you call this pretrained model it needs to be downloaded in your local.\n",
    "\n",
    "The model size is about will download the embeddings_clinical corpus it takes a while.\n",
    "\n",
    "The size is about 1.7Gb and will be saved typically in your home folder as\n",
    "\n",
    "`~HOMEFOLDER/cached_models/ embeddings_clinical_en_2.0.2_2.4_1558454742956`\n",
    "\n",
    "Next times you call it the model is loaded from your cached copy but even in that case it needs to be indexed each time so expect waiting up to 5 minutes (depending on your machine)"
   ]
  },
  {
   "cell_type": "code",
   "execution_count": 0,
   "metadata": {
    "application/vnd.databricks.v1+cell": {
     "inputWidgets": {},
     "nuid": "90c32679-30ff-46e1-84c1-b3db7a50316b",
     "showTitle": false,
     "title": ""
    }
   },
   "outputs": [
    {
     "data": {
      "text/html": [
       "<style scoped>\n",
       "  .ansiout {\n",
       "    display: block;\n",
       "    unicode-bidi: embed;\n",
       "    white-space: pre-wrap;\n",
       "    word-wrap: break-word;\n",
       "    word-break: break-all;\n",
       "    font-family: \"Source Code Pro\", \"Menlo\", monospace;;\n",
       "    font-size: 13px;\n",
       "    color: #555;\n",
       "    margin-left: 4px;\n",
       "    line-height: 19px;\n",
       "  }\n",
       "</style>\n",
       "<div class=\"ansiout\">embeddings_clinical download started this may take some time.\n",
       "Approximate size to download 1.6 GB\n",
       "\r",
       "[ | ]\r",
       "[OK!]\n",
       "</div>"
      ]
     },
     "metadata": {
      "application/vnd.databricks.v1+output": {
       "addedWidgets": {},
       "arguments": {},
       "data": "<div class=\"ansiout\">embeddings_clinical download started this may take some time.\nApproximate size to download 1.6 GB\n\r[ | ]\r[OK!]\n</div>",
       "datasetInfos": [],
       "removedWidgets": [],
       "type": "html"
      }
     },
     "output_type": "display_data"
    }
   ],
   "source": [
    "# WordEmbeddingsModel pretrained \"embeddings_clinical\" includes a model of 1.6Gb that needs to be downloaded\n",
    "\n",
    "word_embeddings = WordEmbeddingsModel.pretrained(\"embeddings_clinical\", \"en\", \"clinical/models\")\\\n",
    "  .setInputCols([\"sentence\", \"token\"])\\\n",
    "  .setOutputCol(\"embeddings\")\n",
    "  "
   ]
  },
  {
   "cell_type": "markdown",
   "metadata": {
    "application/vnd.databricks.v1+cell": {
     "inputWidgets": {},
     "nuid": "839757b0-357e-46c8-8ecf-5b502e93afd5",
     "showTitle": false,
     "title": ""
    }
   },
   "source": [
    "The fifth and final annotator in our NER pipeline is the pretrained `ner_clinical` NerDLModel avaliable from \"clinical/models\". It requires as input the \"sentence\", \"token\" and \"embeddings\" (clinical embeddings pretrained model) and will classify each token in four categories:\n",
    "\n",
    "- `PROBLEM`: for patient problems\n",
    "\n",
    "- `TEST`: for tests, labs, etc.\n",
    "\n",
    "- `TREATMENT`: for treatments, medicines, etc.\n",
    "\n",
    "- `OTHER`: for the rest of tokens.\n",
    "\n",
    "In order to split those identified NER that are consecutive, the B prefix (as B-PROBLEM) will be used at the first token of each NER. The I prefix (as I-PROBLEM) will be used for the rest of tokens inside the NER."
   ]
  },
  {
   "cell_type": "code",
   "execution_count": 0,
   "metadata": {
    "application/vnd.databricks.v1+cell": {
     "inputWidgets": {},
     "nuid": "9e62cbaa-39ae-4c0d-b12c-adaf7a3f69a0",
     "showTitle": false,
     "title": ""
    }
   },
   "outputs": [
    {
     "data": {
      "text/html": [
       "<style scoped>\n",
       "  .ansiout {\n",
       "    display: block;\n",
       "    unicode-bidi: embed;\n",
       "    white-space: pre-wrap;\n",
       "    word-wrap: break-word;\n",
       "    word-break: break-all;\n",
       "    font-family: \"Source Code Pro\", \"Menlo\", monospace;;\n",
       "    font-size: 13px;\n",
       "    color: #555;\n",
       "    margin-left: 4px;\n",
       "    line-height: 19px;\n",
       "  }\n",
       "</style>\n",
       "<div class=\"ansiout\">ner_clinical download started this may take some time.\n",
       "Approximate size to download 13.9 MB\n",
       "\r",
       "[ | ]\r",
       "[ / ]\r",
       "[OK!]\n",
       "</div>"
      ]
     },
     "metadata": {
      "application/vnd.databricks.v1+output": {
       "addedWidgets": {},
       "arguments": {},
       "data": "<div class=\"ansiout\">ner_clinical download started this may take some time.\nApproximate size to download 13.9 MB\n\r[ | ]\r[ / ]\r[OK!]\n</div>",
       "datasetInfos": [],
       "removedWidgets": [],
       "type": "html"
      }
     },
     "output_type": "display_data"
    }
   ],
   "source": [
    "# Named Entity Recognition for clinical concepts.\n",
    "\n",
    "clinical_ner = MedicalNerModel.pretrained(\"ner_clinical\", \"en\", \"clinical/models\") \\\n",
    "  .setInputCols([\"sentence\", \"token\", \"embeddings\"]) \\\n",
    "  .setOutputCol(\"ner\")\n",
    "\n",
    "ner_converter = NerConverter() \\\n",
    "    .setInputCols([\"sentence\", \"token\", \"ner\"]) \\\n",
    "    .setOutputCol(\"ner_chunk\")\n"
   ]
  },
  {
   "cell_type": "markdown",
   "metadata": {
    "application/vnd.databricks.v1+cell": {
     "inputWidgets": {},
     "nuid": "971d3381-10a5-4d92-840a-2bcfdb206d6d",
     "showTitle": false,
     "title": ""
    }
   },
   "source": [
    "### Define the NER pipeline\n",
    "\n",
    "Now we will define the actual pipeline that puts together the annotators we have created."
   ]
  },
  {
   "cell_type": "code",
   "execution_count": 0,
   "metadata": {
    "application/vnd.databricks.v1+cell": {
     "inputWidgets": {},
     "nuid": "cee51947-8adc-42ff-a9c0-9e2e665658ba",
     "showTitle": false,
     "title": ""
    }
   },
   "outputs": [
    {
     "data": {
      "text/html": [
       "<style scoped>\n",
       "  .ansiout {\n",
       "    display: block;\n",
       "    unicode-bidi: embed;\n",
       "    white-space: pre-wrap;\n",
       "    word-wrap: break-word;\n",
       "    word-break: break-all;\n",
       "    font-family: \"Source Code Pro\", \"Menlo\", monospace;;\n",
       "    font-size: 13px;\n",
       "    color: #555;\n",
       "    margin-left: 4px;\n",
       "    line-height: 19px;\n",
       "  }\n",
       "</style>\n",
       "<div class=\"ansiout\"></div>"
      ]
     },
     "metadata": {
      "application/vnd.databricks.v1+output": {
       "addedWidgets": {},
       "arguments": {},
       "data": "<div class=\"ansiout\"></div>",
       "datasetInfos": [],
       "removedWidgets": [],
       "type": "html"
      }
     },
     "output_type": "display_data"
    }
   ],
   "source": [
    "# Build up the pipeline\n",
    "\n",
    "pipeline_ner = Pipeline(\n",
    "    stages = [\n",
    "    documentAssembler,\n",
    "    sentenceDetectorDL,\n",
    "    tokenizer,\n",
    "    stopwords,\n",
    "    word_embeddings,\n",
    "    clinical_ner,\n",
    "    ner_converter\n",
    "  ])"
   ]
  },
  {
   "cell_type": "markdown",
   "metadata": {
    "application/vnd.databricks.v1+cell": {
     "inputWidgets": {},
     "nuid": "244a34d1-ccc8-47ce-a867-8b9c8e3c9d7c",
     "showTitle": false,
     "title": ""
    }
   },
   "source": [
    "### Create a SparkDataFrame with the content\n",
    "\n",
    "Now we will create a sample Spark dataframe with our clinical note example.\n",
    "\n",
    "In this example we are working over a unique clinical note. In production environments a table with several of those clinical notes could be distributed in a cluster and be run in large scale systems."
   ]
  },
  {
   "cell_type": "code",
   "execution_count": 0,
   "metadata": {
    "application/vnd.databricks.v1+cell": {
     "inputWidgets": {},
     "nuid": "86407e12-ea9d-4492-aaee-2627a44cecb4",
     "showTitle": false,
     "title": ""
    }
   },
   "outputs": [
    {
     "data": {
      "text/html": [
       "<style scoped>\n",
       "  .ansiout {\n",
       "    display: block;\n",
       "    unicode-bidi: embed;\n",
       "    white-space: pre-wrap;\n",
       "    word-wrap: break-word;\n",
       "    word-break: break-all;\n",
       "    font-family: \"Source Code Pro\", \"Menlo\", monospace;;\n",
       "    font-size: 13px;\n",
       "    color: #555;\n",
       "    margin-left: 4px;\n",
       "    line-height: 19px;\n",
       "  }\n",
       "</style>\n",
       "<div class=\"ansiout\"></div>"
      ]
     },
     "metadata": {
      "application/vnd.databricks.v1+output": {
       "addedWidgets": {},
       "arguments": {},
       "data": "<div class=\"ansiout\"></div>",
       "datasetInfos": [],
       "removedWidgets": [],
       "type": "html"
      }
     },
     "output_type": "display_data"
    }
   ],
   "source": [
    "\n",
    "clinical_note = (\n",
    "    'A 28-year-old female with a history of gestational diabetes mellitus diagnosed eight years '\n",
    "    'prior to presentation and subsequent type two diabetes mellitus (T2DM), one prior '\n",
    "    'episode of HTG-induced pancreatitis three years prior to presentation, associated '\n",
    "    'with an acute hepatitis, and obesity with a body mass index (BMI) of 33.5 kg/m2, '\n",
    "    'presented with a one-week history of polyuria, polydipsia, poor appetite, and vomiting. '\n",
    "    'Two weeks prior to presentation, she was treated with a five-day course of amoxicillin '\n",
    "    'for a respiratory tract infection. She was on metformin, glipizide, and dapagliflozin '\n",
    "    'for T2DM and atorvastatin and gemfibrozil for HTG. She had been on dapagliflozin for six months '\n",
    "    'at the time of presentation. Physical examination on presentation was significant for dry oral mucosa; '\n",
    "    'significantly, her abdominal examination was benign with no tenderness, guarding, or rigidity. Pertinent '\n",
    "    'laboratory findings on admission were: serum glucose 111 mg/dl, bicarbonate 18 mmol/l, anion gap 20, '\n",
    "    'creatinine 0.4 mg/dL, triglycerides 508 mg/dL, total cholesterol 122 mg/dL, glycated hemoglobin (HbA1c) '\n",
    "    '10%, and venous pH 7.27. Serum lipase was normal at 43 U/L. Serum acetone levels could not be assessed '\n",
    "    'as blood samples kept hemolyzing due to significant lipemia. The patient was initially admitted for '\n",
    "    'starvation ketosis, as she reported poor oral intake for three days prior to admission. However, '\n",
    "    'serum chemistry obtained six hours after presentation revealed her glucose was 186 mg/dL, the anion gap '\n",
    "    'was still elevated at 21, serum bicarbonate was 16 mmol/L, triglyceride level peaked at 2050 mg/dL, and '\n",
    "    'lipase was 52 U/L. The β-hydroxybutyrate level was obtained and found to be elevated at 5.29 mmol/L - '\n",
    "    'the original sample was centrifuged and the chylomicron layer removed prior to analysis due to '\n",
    "    'interference from turbidity caused by lipemia again. The patient was treated with an insulin drip '\n",
    "    'for euDKA and HTG with a reduction in the anion gap to 13 and triglycerides to 1400 mg/dL, within '\n",
    "    '24 hours. Her euDKA was thought to be precipitated by her respiratory tract infection in the setting '\n",
    "    'of SGLT2 inhibitor use. The patient was seen by the endocrinology service and she was discharged on '\n",
    "    '40 units of insulin glargine at night, 12 units of insulin lispro with meals, and metformin 1000 mg '\n",
    "    'two times a day. It was determined that all SGLT2 inhibitors should be discontinued indefinitely. She '\n",
    "    'had close follow-up with endocrinology post discharge.'\n",
    ")\n",
    "\n",
    "data_ner = spark.createDataFrame([[clinical_note]]).toDF(\"text\")"
   ]
  },
  {
   "cell_type": "code",
   "execution_count": 0,
   "metadata": {
    "application/vnd.databricks.v1+cell": {
     "inputWidgets": {},
     "nuid": "b4946208-116c-48aa-88c0-0b7a8e25ea68",
     "showTitle": false,
     "title": ""
    }
   },
   "outputs": [
    {
     "data": {
      "text/html": [
       "<style scoped>\n",
       "  .ansiout {\n",
       "    display: block;\n",
       "    unicode-bidi: embed;\n",
       "    white-space: pre-wrap;\n",
       "    word-wrap: break-word;\n",
       "    word-break: break-all;\n",
       "    font-family: \"Source Code Pro\", \"Menlo\", monospace;;\n",
       "    font-size: 13px;\n",
       "    color: #555;\n",
       "    margin-left: 4px;\n",
       "    line-height: 19px;\n",
       "  }\n",
       "</style>\n",
       "<div class=\"ansiout\">+----------------------------------------------------------------------------------------------------+\n",
       "                                                                                                text|\n",
       "+----------------------------------------------------------------------------------------------------+\n",
       "A 28-year-old female with a history of gestational diabetes mellitus diagnosed eight years prior ...|\n",
       "+----------------------------------------------------------------------------------------------------+\n",
       "\n",
       "</div>"
      ]
     },
     "metadata": {
      "application/vnd.databricks.v1+output": {
       "addedWidgets": {},
       "arguments": {},
       "data": "<div class=\"ansiout\">+----------------------------------------------------------------------------------------------------+\n|                                                                                                text|\n+----------------------------------------------------------------------------------------------------+\n|A 28-year-old female with a history of gestational diabetes mellitus diagnosed eight years prior ...|\n+----------------------------------------------------------------------------------------------------+\n\n</div>",
       "datasetInfos": [],
       "removedWidgets": [],
       "type": "html"
      }
     },
     "output_type": "display_data"
    }
   ],
   "source": [
    "data_ner.show(truncate = 100)\n"
   ]
  },
  {
   "cell_type": "markdown",
   "metadata": {
    "application/vnd.databricks.v1+cell": {
     "inputWidgets": {},
     "nuid": "1f80df5e-2a59-4afd-9fdc-0bd401354b6c",
     "showTitle": false,
     "title": ""
    }
   },
   "source": [
    "### Transform / annotate the clinical note using the model.\n",
    "\n",
    "In order to process the data with the new created model we have two options.\n",
    "\n",
    "The first one would be to use the model to transform our clinical note by the command:\n",
    "\n",
    "`output = model_ner.transform(data_ner)`\n",
    "\n",
    "That would save in a Spakr DataFrame (output) the resuls of running the model over the clinical note.\n",
    "\n",
    "However for small tests like this or for real-time request a LightPipelines is a simpler way of managing the data. It will return a dictionary (instead of a Spark DataFrame) with the results of the transformation\n",
    "\n",
    "We will create a light_pipeline_ner using our model_ner and then will annotate the clinical_note using this light_pipeline."
   ]
  },
  {
   "cell_type": "code",
   "execution_count": 0,
   "metadata": {
    "application/vnd.databricks.v1+cell": {
     "inputWidgets": {},
     "nuid": "84226b7e-bb59-4845-a581-8108ccd18d4c",
     "showTitle": false,
     "title": ""
    }
   },
   "outputs": [
    {
     "data": {
      "text/html": [
       "<style scoped>\n",
       "  .ansiout {\n",
       "    display: block;\n",
       "    unicode-bidi: embed;\n",
       "    white-space: pre-wrap;\n",
       "    word-wrap: break-word;\n",
       "    word-break: break-all;\n",
       "    font-family: \"Source Code Pro\", \"Menlo\", monospace;;\n",
       "    font-size: 13px;\n",
       "    color: #555;\n",
       "    margin-left: 4px;\n",
       "    line-height: 19px;\n",
       "  }\n",
       "</style>\n",
       "<div class=\"ansiout\"></div>"
      ]
     },
     "metadata": {
      "application/vnd.databricks.v1+output": {
       "addedWidgets": {},
       "arguments": {},
       "data": "<div class=\"ansiout\"></div>",
       "datasetInfos": [],
       "removedWidgets": [],
       "type": "html"
      }
     },
     "output_type": "display_data"
    }
   ],
   "source": [
    "model = pipeline_ner.fit(data_ner)\n",
    "\n",
    "light_pipeline = LightPipeline(model)\n",
    "light_data = light_pipeline.annotate(clinical_note)"
   ]
  },
  {
   "cell_type": "markdown",
   "metadata": {
    "application/vnd.databricks.v1+cell": {
     "inputWidgets": {},
     "nuid": "2d6e49cd-0216-4315-929f-b1fa7d9eaff4",
     "showTitle": false,
     "title": ""
    }
   },
   "source": [
    "Now we have a dictionaty (light_data_ner) that contains the results of running the NER pipeline over our clinical note.\n",
    "\n",
    "It contains the original document:"
   ]
  },
  {
   "cell_type": "code",
   "execution_count": 0,
   "metadata": {
    "application/vnd.databricks.v1+cell": {
     "inputWidgets": {},
     "nuid": "aa33754c-c865-4fc1-99f4-c079f5292b4b",
     "showTitle": false,
     "title": ""
    }
   },
   "outputs": [
    {
     "data": {
      "text/html": [
       "<style scoped>\n",
       "  .ansiout {\n",
       "    display: block;\n",
       "    unicode-bidi: embed;\n",
       "    white-space: pre-wrap;\n",
       "    word-wrap: break-word;\n",
       "    word-break: break-all;\n",
       "    font-family: \"Source Code Pro\", \"Menlo\", monospace;;\n",
       "    font-size: 13px;\n",
       "    color: #555;\n",
       "    margin-left: 4px;\n",
       "    line-height: 19px;\n",
       "  }\n",
       "</style>\n",
       "<div class=\"ansiout\">Out[10]: &#39;A 28-year-old female with a history of gestational diabetes mellitus diagnosed eight years prior to &#39;</div>"
      ]
     },
     "metadata": {
      "application/vnd.databricks.v1+output": {
       "addedWidgets": {},
       "arguments": {},
       "data": "<div class=\"ansiout\">Out[10]: &#39;A 28-year-old female with a history of gestational diabetes mellitus diagnosed eight years prior to &#39;</div>",
       "datasetInfos": [],
       "removedWidgets": [],
       "type": "html"
      }
     },
     "output_type": "display_data"
    }
   ],
   "source": [
    "light_data['document'][0][0:100]\n"
   ]
  },
  {
   "cell_type": "code",
   "execution_count": 0,
   "metadata": {
    "application/vnd.databricks.v1+cell": {
     "inputWidgets": {},
     "nuid": "a8a0b4dd-d658-4fc2-beb6-451818f46536",
     "showTitle": false,
     "title": ""
    }
   },
   "outputs": [
    {
     "data": {
      "text/html": [
       "<style scoped>\n",
       "  .ansiout {\n",
       "    display: block;\n",
       "    unicode-bidi: embed;\n",
       "    white-space: pre-wrap;\n",
       "    word-wrap: break-word;\n",
       "    word-break: break-all;\n",
       "    font-family: \"Source Code Pro\", \"Menlo\", monospace;;\n",
       "    font-size: 13px;\n",
       "    color: #555;\n",
       "    margin-left: 4px;\n",
       "    line-height: 19px;\n",
       "  }\n",
       "</style>\n",
       "<div class=\"ansiout\">Number of sentences: 16\n",
       "\n",
       "Sentence 0: A 28-year-old female with a history of gestational diabetes mellitus diagnosed eight years prior to presentation and subsequent type two diabetes mellitus (T2DM), one prior episode of HTG-induced pancreatitis three years prior to presentation, associated with an acute hepatitis, and obesity with a body mass index (BMI) of 33.5 kg/m2, presented with a one-week history of polyuria, polydipsia, poor appetite, and vomiting.\n",
       "Sentence 1: Two weeks prior to presentation, she was treated with a five-day course of amoxicillin for a respiratory tract infection.\n",
       "Sentence 2: She was on metformin, glipizide, and dapagliflozin for T2DM and atorvastatin and gemfibrozil for HTG.\n",
       "Sentence 3: She had been on dapagliflozin for six months at the time of presentation.\n",
       "Sentence 4: Physical examination on presentation was significant for dry oral mucosa; significantly, her abdominal examination was benign with no tenderness, guarding, or rigidity.\n",
       "</div>"
      ]
     },
     "metadata": {
      "application/vnd.databricks.v1+output": {
       "addedWidgets": {},
       "arguments": {},
       "data": "<div class=\"ansiout\">Number of sentences: 16\n\nSentence 0: A 28-year-old female with a history of gestational diabetes mellitus diagnosed eight years prior to presentation and subsequent type two diabetes mellitus (T2DM), one prior episode of HTG-induced pancreatitis three years prior to presentation, associated with an acute hepatitis, and obesity with a body mass index (BMI) of 33.5 kg/m2, presented with a one-week history of polyuria, polydipsia, poor appetite, and vomiting.\nSentence 1: Two weeks prior to presentation, she was treated with a five-day course of amoxicillin for a respiratory tract infection.\nSentence 2: She was on metformin, glipizide, and dapagliflozin for T2DM and atorvastatin and gemfibrozil for HTG.\nSentence 3: She had been on dapagliflozin for six months at the time of presentation.\nSentence 4: Physical examination on presentation was significant for dry oral mucosa; significantly, her abdominal examination was benign with no tenderness, guarding, or rigidity.\n</div>",
       "datasetInfos": [],
       "removedWidgets": [],
       "type": "html"
      }
     },
     "output_type": "display_data"
    }
   ],
   "source": [
    "print(\"Number of sentences: {}\".format(len(light_data['sentence'])))\n",
    "print(\"\")\n",
    "for i in range(5):\n",
    "    print(\"Sentence {}: {}\".format(i, light_data['sentence'][i]))"
   ]
  },
  {
   "cell_type": "code",
   "execution_count": 0,
   "metadata": {
    "application/vnd.databricks.v1+cell": {
     "inputWidgets": {},
     "nuid": "a7c19452-aba6-459d-b383-483f75de069e",
     "showTitle": false,
     "title": ""
    }
   },
   "outputs": [
    {
     "data": {
      "text/html": [
       "<style scoped>\n",
       "  .ansiout {\n",
       "    display: block;\n",
       "    unicode-bidi: embed;\n",
       "    white-space: pre-wrap;\n",
       "    word-wrap: break-word;\n",
       "    word-break: break-all;\n",
       "    font-family: \"Source Code Pro\", \"Menlo\", monospace;;\n",
       "    font-size: 13px;\n",
       "    color: #555;\n",
       "    margin-left: 4px;\n",
       "    line-height: 19px;\n",
       "  }\n",
       "</style>\n",
       "<div class=\"ansiout\">Number of tokens: 299\n",
       "\n",
       "Token 0: 28-year-old (O)\n",
       "Token 1: female (O)\n",
       "Token 2: history (O)\n",
       "Token 3: gestational (B-PROBLEM)\n",
       "Token 4: diabetes (I-PROBLEM)\n",
       "Token 5: mellitus (I-PROBLEM)\n",
       "Token 6: diagnosed (O)\n",
       "Token 7: eight (O)\n",
       "Token 8: years (O)\n",
       "Token 9: prior (O)\n",
       "Token 10: presentation (O)\n",
       "Token 11: subsequent (O)\n",
       "Token 12: type (B-PROBLEM)\n",
       "Token 13: two (I-PROBLEM)\n",
       "Token 14: diabetes (I-PROBLEM)\n",
       "Token 15: mellitus (I-PROBLEM)\n",
       "Token 16: ( (O)\n",
       "Token 17: T2DM (B-PROBLEM)\n",
       "Token 18: ), (O)\n",
       "Token 19: one (B-PROBLEM)\n",
       "Token 20: prior (I-PROBLEM)\n",
       "Token 21: episode (I-PROBLEM)\n",
       "Token 22: HTG-induced (I-PROBLEM)\n",
       "Token 23: pancreatitis (I-PROBLEM)\n",
       "Token 24: three (O)\n",
       "...\n",
       "</div>"
      ]
     },
     "metadata": {
      "application/vnd.databricks.v1+output": {
       "addedWidgets": {},
       "arguments": {},
       "data": "<div class=\"ansiout\">Number of tokens: 299\n\nToken 0: 28-year-old (O)\nToken 1: female (O)\nToken 2: history (O)\nToken 3: gestational (B-PROBLEM)\nToken 4: diabetes (I-PROBLEM)\nToken 5: mellitus (I-PROBLEM)\nToken 6: diagnosed (O)\nToken 7: eight (O)\nToken 8: years (O)\nToken 9: prior (O)\nToken 10: presentation (O)\nToken 11: subsequent (O)\nToken 12: type (B-PROBLEM)\nToken 13: two (I-PROBLEM)\nToken 14: diabetes (I-PROBLEM)\nToken 15: mellitus (I-PROBLEM)\nToken 16: ( (O)\nToken 17: T2DM (B-PROBLEM)\nToken 18: ), (O)\nToken 19: one (B-PROBLEM)\nToken 20: prior (I-PROBLEM)\nToken 21: episode (I-PROBLEM)\nToken 22: HTG-induced (I-PROBLEM)\nToken 23: pancreatitis (I-PROBLEM)\nToken 24: three (O)\n...\n</div>",
       "datasetInfos": [],
       "removedWidgets": [],
       "type": "html"
      }
     },
     "output_type": "display_data"
    }
   ],
   "source": [
    "print(\"Number of tokens: {}\".format(len(light_data['token'])))\n",
    "print(\"\")\n",
    "for i in range(25):\n",
    "    print(\"Token {}: {} ({})\".format(i, light_data['token'][i], light_data['ner'][i]))\n",
    "print(\"...\")"
   ]
  },
  {
   "cell_type": "markdown",
   "metadata": {
    "application/vnd.databricks.v1+cell": {
     "inputWidgets": {},
     "nuid": "1607ab64-89cc-4adf-b03b-2221d2deedaf",
     "showTitle": false,
     "title": ""
    }
   },
   "source": [
    "Lets apply some HTML formating to see the results of the pipeline in a nicer layout:"
   ]
  },
  {
   "cell_type": "code",
   "execution_count": 0,
   "metadata": {
    "application/vnd.databricks.v1+cell": {
     "inputWidgets": {},
     "nuid": "2c1795a2-3d0f-43b1-bc58-01f080fdb04c",
     "showTitle": false,
     "title": ""
    }
   },
   "outputs": [
    {
     "data": {
      "text/html": [
       "\n",
       "<style>\n",
       "    @import url('https://fonts.googleapis.com/css2?family=Montserrat:wght@300;400;500;600;700&display=swap');\n",
       "    @import url('https://fonts.googleapis.com/css2?family=Vistol Regular:wght@300;400;500;600;700&display=swap');\n",
       "    \n",
       "    .spark-nlp-display-scroll-entities {\n",
       "        border: 1px solid #E7EDF0;\n",
       "        border-radius: 3px;\n",
       "        text-align: justify;\n",
       "        \n",
       "    }\n",
       "    .spark-nlp-display-scroll-entities span {  \n",
       "        font-size: 14px;\n",
       "        line-height: 24px;\n",
       "        color: #536B76;\n",
       "        font-family: 'Montserrat', sans-serif !important;\n",
       "    }\n",
       "    \n",
       "    .spark-nlp-display-entity-wrapper{\n",
       "    \n",
       "        display: inline-grid;\n",
       "        text-align: center;\n",
       "        border-radius: 4px;\n",
       "        margin: 0 2px 5px 2px;\n",
       "        padding: 1px\n",
       "    }\n",
       "    .spark-nlp-display-entity-name{\n",
       "        font-size: 14px;\n",
       "        line-height: 24px;\n",
       "        font-family: 'Montserrat', sans-serif !important;\n",
       "        \n",
       "        background: #f1f2f3;\n",
       "        border-width: medium;\n",
       "        text-align: center;\n",
       "        \n",
       "        font-weight: 400;\n",
       "        \n",
       "        border-radius: 5px;\n",
       "        padding: 2px 5px;\n",
       "        display: block;\n",
       "        margin: 3px 2px;\n",
       "    \n",
       "    }\n",
       "    .spark-nlp-display-entity-type{\n",
       "        font-size: 14px;\n",
       "        line-height: 24px;\n",
       "        color: #ffffff;\n",
       "        font-family: 'Montserrat', sans-serif !important;\n",
       "        \n",
       "        text-transform: uppercase;\n",
       "        \n",
       "        font-weight: 500;\n",
       "\n",
       "        display: block;\n",
       "        padding: 3px 5px;\n",
       "    }\n",
       "    \n",
       "    .spark-nlp-display-entity-resolution{\n",
       "        font-size: 14px;\n",
       "        line-height: 24px;\n",
       "        color: #ffffff;\n",
       "        font-family: 'Vistol Regular', sans-serif !important;\n",
       "        \n",
       "        text-transform: uppercase;\n",
       "        \n",
       "        font-weight: 500;\n",
       "\n",
       "        display: block;\n",
       "        padding: 3px 5px;\n",
       "    }\n",
       "    \n",
       "    .spark-nlp-display-others{\n",
       "        font-size: 14px;\n",
       "        line-height: 24px;\n",
       "        font-family: 'Montserrat', sans-serif !important;\n",
       "        \n",
       "        font-weight: 400;\n",
       "    }\n",
       "\n",
       "</style>\n",
       " <span class=\"spark-nlp-display-others\" style=\"background-color: white\">A 28-year-old female with a history of </span><span class=\"spark-nlp-display-entity-wrapper\" style=\"background-color: #008080\"><span class=\"spark-nlp-display-entity-name\">gestational diabetes mellitus </span><span class=\"spark-nlp-display-entity-type\">PROBLEM</span></span><span class=\"spark-nlp-display-others\" style=\"background-color: white\"> diagnosed eight years prior to presentation and subsequent </span><span class=\"spark-nlp-display-entity-wrapper\" style=\"background-color: #008080\"><span class=\"spark-nlp-display-entity-name\">type two diabetes mellitus </span><span class=\"spark-nlp-display-entity-type\">PROBLEM</span></span><span class=\"spark-nlp-display-others\" style=\"background-color: white\"> (</span><span class=\"spark-nlp-display-entity-wrapper\" style=\"background-color: #008080\"><span class=\"spark-nlp-display-entity-name\">T2DM </span><span class=\"spark-nlp-display-entity-type\">PROBLEM</span></span><span class=\"spark-nlp-display-others\" style=\"background-color: white\">), </span><span class=\"spark-nlp-display-entity-wrapper\" style=\"background-color: #008080\"><span class=\"spark-nlp-display-entity-name\">one prior episode of HTG-induced pancreatitis </span><span class=\"spark-nlp-display-entity-type\">PROBLEM</span></span><span class=\"spark-nlp-display-others\" style=\"background-color: white\"> three years prior to presentation, </span><span class=\"spark-nlp-display-entity-wrapper\" style=\"background-color: #008080\"><span class=\"spark-nlp-display-entity-name\">associated with an acute hepatitis </span><span class=\"spark-nlp-display-entity-type\">PROBLEM</span></span><span class=\"spark-nlp-display-others\" style=\"background-color: white\">, and </span><span class=\"spark-nlp-display-entity-wrapper\" style=\"background-color: #008080\"><span class=\"spark-nlp-display-entity-name\">obesity with a body mass index </span><span class=\"spark-nlp-display-entity-type\">PROBLEM</span></span><span class=\"spark-nlp-display-others\" style=\"background-color: white\"> (BMI) of 33.5 kg/m2, presented with a one-week history of </span><span class=\"spark-nlp-display-entity-wrapper\" style=\"background-color: #008080\"><span class=\"spark-nlp-display-entity-name\">polyuria </span><span class=\"spark-nlp-display-entity-type\">PROBLEM</span></span><span class=\"spark-nlp-display-others\" style=\"background-color: white\">, </span><span class=\"spark-nlp-display-entity-wrapper\" style=\"background-color: #008080\"><span class=\"spark-nlp-display-entity-name\">polydipsia </span><span class=\"spark-nlp-display-entity-type\">PROBLEM</span></span><span class=\"spark-nlp-display-others\" style=\"background-color: white\">, </span><span class=\"spark-nlp-display-entity-wrapper\" style=\"background-color: #008080\"><span class=\"spark-nlp-display-entity-name\">poor appetite </span><span class=\"spark-nlp-display-entity-type\">PROBLEM</span></span><span class=\"spark-nlp-display-others\" style=\"background-color: white\">, and </span><span class=\"spark-nlp-display-entity-wrapper\" style=\"background-color: #008080\"><span class=\"spark-nlp-display-entity-name\">vomiting </span><span class=\"spark-nlp-display-entity-type\">PROBLEM</span></span><span class=\"spark-nlp-display-others\" style=\"background-color: white\">. Two weeks prior to presentation, she was treated with a </span><span class=\"spark-nlp-display-entity-wrapper\" style=\"background-color: #008080\"><span class=\"spark-nlp-display-entity-name\">five-day course of amoxicillin for a respiratory tract infection </span><span class=\"spark-nlp-display-entity-type\">PROBLEM</span></span><span class=\"spark-nlp-display-others\" style=\"background-color: white\">. She was on </span><span class=\"spark-nlp-display-entity-wrapper\" style=\"background-color: #808080\"><span class=\"spark-nlp-display-entity-name\">metformin </span><span class=\"spark-nlp-display-entity-type\">TREATMENT</span></span><span class=\"spark-nlp-display-others\" style=\"background-color: white\">, </span><span class=\"spark-nlp-display-entity-wrapper\" style=\"background-color: #808080\"><span class=\"spark-nlp-display-entity-name\">glipizide </span><span class=\"spark-nlp-display-entity-type\">TREATMENT</span></span><span class=\"spark-nlp-display-others\" style=\"background-color: white\">, and </span><span class=\"spark-nlp-display-entity-wrapper\" style=\"background-color: #808080\"><span class=\"spark-nlp-display-entity-name\">dapagliflozin </span><span class=\"spark-nlp-display-entity-type\">TREATMENT</span></span><span class=\"spark-nlp-display-others\" style=\"background-color: white\"> for </span><span class=\"spark-nlp-display-entity-wrapper\" style=\"background-color: #008080\"><span class=\"spark-nlp-display-entity-name\">T2DM </span><span class=\"spark-nlp-display-entity-type\">PROBLEM</span></span><span class=\"spark-nlp-display-others\" style=\"background-color: white\"> and </span><span class=\"spark-nlp-display-entity-wrapper\" style=\"background-color: #808080\"><span class=\"spark-nlp-display-entity-name\">atorvastatin and gemfibrozil </span><span class=\"spark-nlp-display-entity-type\">TREATMENT</span></span><span class=\"spark-nlp-display-others\" style=\"background-color: white\"> for </span><span class=\"spark-nlp-display-entity-wrapper\" style=\"background-color: #008080\"><span class=\"spark-nlp-display-entity-name\">HTG </span><span class=\"spark-nlp-display-entity-type\">PROBLEM</span></span><span class=\"spark-nlp-display-others\" style=\"background-color: white\">. She had been on </span><span class=\"spark-nlp-display-entity-wrapper\" style=\"background-color: #808080\"><span class=\"spark-nlp-display-entity-name\">dapagliflozin </span><span class=\"spark-nlp-display-entity-type\">TREATMENT</span></span><span class=\"spark-nlp-display-others\" style=\"background-color: white\"> for six months at the time of presentation. </span><span class=\"spark-nlp-display-entity-wrapper\" style=\"background-color: #800080\"><span class=\"spark-nlp-display-entity-name\">Physical examination </span><span class=\"spark-nlp-display-entity-type\">TEST</span></span><span class=\"spark-nlp-display-others\" style=\"background-color: white\"> on presentation was </span><span class=\"spark-nlp-display-entity-wrapper\" style=\"background-color: #008080\"><span class=\"spark-nlp-display-entity-name\">significant for dry oral mucosa </span><span class=\"spark-nlp-display-entity-type\">PROBLEM</span></span><span class=\"spark-nlp-display-others\" style=\"background-color: white\">; significantly, her </span><span class=\"spark-nlp-display-entity-wrapper\" style=\"background-color: #800080\"><span class=\"spark-nlp-display-entity-name\">abdominal examination </span><span class=\"spark-nlp-display-entity-type\">TEST</span></span><span class=\"spark-nlp-display-others\" style=\"background-color: white\"> was benign with no </span><span class=\"spark-nlp-display-entity-wrapper\" style=\"background-color: #008080\"><span class=\"spark-nlp-display-entity-name\">tenderness </span><span class=\"spark-nlp-display-entity-type\">PROBLEM</span></span><span class=\"spark-nlp-display-others\" style=\"background-color: white\">, </span><span class=\"spark-nlp-display-entity-wrapper\" style=\"background-color: #008080\"><span class=\"spark-nlp-display-entity-name\">guarding </span><span class=\"spark-nlp-display-entity-type\">PROBLEM</span></span><span class=\"spark-nlp-display-others\" style=\"background-color: white\">, or </span><span class=\"spark-nlp-display-entity-wrapper\" style=\"background-color: #008080\"><span class=\"spark-nlp-display-entity-name\">rigidity </span><span class=\"spark-nlp-display-entity-type\">PROBLEM</span></span><span class=\"spark-nlp-display-others\" style=\"background-color: white\">. Pertinent laboratory findings on admission were: </span><span class=\"spark-nlp-display-entity-wrapper\" style=\"background-color: #800080\"><span class=\"spark-nlp-display-entity-name\">serum glucose </span><span class=\"spark-nlp-display-entity-type\">TEST</span></span><span class=\"spark-nlp-display-others\" style=\"background-color: white\"> 111 mg/dl, </span><span class=\"spark-nlp-display-entity-wrapper\" style=\"background-color: #800080\"><span class=\"spark-nlp-display-entity-name\">bicarbonate </span><span class=\"spark-nlp-display-entity-type\">TEST</span></span><span class=\"spark-nlp-display-others\" style=\"background-color: white\"> 18 mmol/l, </span><span class=\"spark-nlp-display-entity-wrapper\" style=\"background-color: #800080\"><span class=\"spark-nlp-display-entity-name\">anion gap </span><span class=\"spark-nlp-display-entity-type\">TEST</span></span><span class=\"spark-nlp-display-others\" style=\"background-color: white\"> 20, </span><span class=\"spark-nlp-display-entity-wrapper\" style=\"background-color: #800080\"><span class=\"spark-nlp-display-entity-name\">creatinine </span><span class=\"spark-nlp-display-entity-type\">TEST</span></span><span class=\"spark-nlp-display-others\" style=\"background-color: white\"> 0.4 mg/dL, </span><span class=\"spark-nlp-display-entity-wrapper\" style=\"background-color: #800080\"><span class=\"spark-nlp-display-entity-name\">triglycerides </span><span class=\"spark-nlp-display-entity-type\">TEST</span></span><span class=\"spark-nlp-display-others\" style=\"background-color: white\"> 508 mg/dL, </span><span class=\"spark-nlp-display-entity-wrapper\" style=\"background-color: #800080\"><span class=\"spark-nlp-display-entity-name\">total cholesterol </span><span class=\"spark-nlp-display-entity-type\">TEST</span></span><span class=\"spark-nlp-display-others\" style=\"background-color: white\"> 122 mg/dL, </span><span class=\"spark-nlp-display-entity-wrapper\" style=\"background-color: #800080\"><span class=\"spark-nlp-display-entity-name\">glycated hemoglobin </span><span class=\"spark-nlp-display-entity-type\">TEST</span></span><span class=\"spark-nlp-display-others\" style=\"background-color: white\"> (</span><span class=\"spark-nlp-display-entity-wrapper\" style=\"background-color: #800080\"><span class=\"spark-nlp-display-entity-name\">HbA1c </span><span class=\"spark-nlp-display-entity-type\">TEST</span></span><span class=\"spark-nlp-display-others\" style=\"background-color: white\">) 10%, and </span><span class=\"spark-nlp-display-entity-wrapper\" style=\"background-color: #800080\"><span class=\"spark-nlp-display-entity-name\">venous pH </span><span class=\"spark-nlp-display-entity-type\">TEST</span></span><span class=\"spark-nlp-display-others\" style=\"background-color: white\"> 7.27. </span><span class=\"spark-nlp-display-entity-wrapper\" style=\"background-color: #800080\"><span class=\"spark-nlp-display-entity-name\">Serum lipase </span><span class=\"spark-nlp-display-entity-type\">TEST</span></span><span class=\"spark-nlp-display-others\" style=\"background-color: white\"> was normal at 43 </span><span class=\"spark-nlp-display-entity-wrapper\" style=\"background-color: #800080\"><span class=\"spark-nlp-display-entity-name\">U/L </span><span class=\"spark-nlp-display-entity-type\">TEST</span></span><span class=\"spark-nlp-display-others\" style=\"background-color: white\">. </span><span class=\"spark-nlp-display-entity-wrapper\" style=\"background-color: #800080\"><span class=\"spark-nlp-display-entity-name\">Serum acetone levels </span><span class=\"spark-nlp-display-entity-type\">TEST</span></span><span class=\"spark-nlp-display-others\" style=\"background-color: white\"> could not be assessed as </span><span class=\"spark-nlp-display-entity-wrapper\" style=\"background-color: #800080\"><span class=\"spark-nlp-display-entity-name\">blood samples </span><span class=\"spark-nlp-display-entity-type\">TEST</span></span><span class=\"spark-nlp-display-others\" style=\"background-color: white\"> kept hemolyzing due to </span><span class=\"spark-nlp-display-entity-wrapper\" style=\"background-color: #008080\"><span class=\"spark-nlp-display-entity-name\">significant lipemia </span><span class=\"spark-nlp-display-entity-type\">PROBLEM</span></span><span class=\"spark-nlp-display-others\" style=\"background-color: white\">. The patient was </span><span class=\"spark-nlp-display-entity-wrapper\" style=\"background-color: #008080\"><span class=\"spark-nlp-display-entity-name\">initially admitted for starvation ketosis </span><span class=\"spark-nlp-display-entity-type\">PROBLEM</span></span><span class=\"spark-nlp-display-others\" style=\"background-color: white\">, as she reported </span><span class=\"spark-nlp-display-entity-wrapper\" style=\"background-color: #008080\"><span class=\"spark-nlp-display-entity-name\">poor oral intake </span><span class=\"spark-nlp-display-entity-type\">PROBLEM</span></span><span class=\"spark-nlp-display-others\" style=\"background-color: white\"> for three days prior to admission. However, </span><span class=\"spark-nlp-display-entity-wrapper\" style=\"background-color: #800080\"><span class=\"spark-nlp-display-entity-name\">serum chemistry </span><span class=\"spark-nlp-display-entity-type\">TEST</span></span><span class=\"spark-nlp-display-others\" style=\"background-color: white\"> obtained six hours after presentation revealed her </span><span class=\"spark-nlp-display-entity-wrapper\" style=\"background-color: #800080\"><span class=\"spark-nlp-display-entity-name\">glucose </span><span class=\"spark-nlp-display-entity-type\">TEST</span></span><span class=\"spark-nlp-display-others\" style=\"background-color: white\"> was 186 mg/dL, the </span><span class=\"spark-nlp-display-entity-wrapper\" style=\"background-color: #800080\"><span class=\"spark-nlp-display-entity-name\">anion gap </span><span class=\"spark-nlp-display-entity-type\">TEST</span></span><span class=\"spark-nlp-display-others\" style=\"background-color: white\"> was still </span><span class=\"spark-nlp-display-entity-wrapper\" style=\"background-color: #008080\"><span class=\"spark-nlp-display-entity-name\">elevated </span><span class=\"spark-nlp-display-entity-type\">PROBLEM</span></span><span class=\"spark-nlp-display-others\" style=\"background-color: white\"> at 21, </span><span class=\"spark-nlp-display-entity-wrapper\" style=\"background-color: #800080\"><span class=\"spark-nlp-display-entity-name\">serum bicarbonate </span><span class=\"spark-nlp-display-entity-type\">TEST</span></span><span class=\"spark-nlp-display-others\" style=\"background-color: white\"> was 16 mmol/L, </span><span class=\"spark-nlp-display-entity-wrapper\" style=\"background-color: #800080\"><span class=\"spark-nlp-display-entity-name\">triglyceride level </span><span class=\"spark-nlp-display-entity-type\">TEST</span></span><span class=\"spark-nlp-display-others\" style=\"background-color: white\"> peaked at 2050 mg/dL, and </span><span class=\"spark-nlp-display-entity-wrapper\" style=\"background-color: #800080\"><span class=\"spark-nlp-display-entity-name\">lipase </span><span class=\"spark-nlp-display-entity-type\">TEST</span></span><span class=\"spark-nlp-display-others\" style=\"background-color: white\"> was 52 </span><span class=\"spark-nlp-display-entity-wrapper\" style=\"background-color: #800080\"><span class=\"spark-nlp-display-entity-name\">U/L </span><span class=\"spark-nlp-display-entity-type\">TEST</span></span><span class=\"spark-nlp-display-others\" style=\"background-color: white\">. The </span><span class=\"spark-nlp-display-entity-wrapper\" style=\"background-color: #800080\"><span class=\"spark-nlp-display-entity-name\">β-hydroxybutyrate level </span><span class=\"spark-nlp-display-entity-type\">TEST</span></span><span class=\"spark-nlp-display-others\" style=\"background-color: white\"> was obtained and found to be </span><span class=\"spark-nlp-display-entity-wrapper\" style=\"background-color: #008080\"><span class=\"spark-nlp-display-entity-name\">elevated </span><span class=\"spark-nlp-display-entity-type\">PROBLEM</span></span><span class=\"spark-nlp-display-others\" style=\"background-color: white\"> at 5.29 mmol/L - the original sample was centrifuged and the chylomicron layer removed </span><span class=\"spark-nlp-display-entity-wrapper\" style=\"background-color: #800080\"><span class=\"spark-nlp-display-entity-name\">prior to analysis </span><span class=\"spark-nlp-display-entity-type\">TEST</span></span><span class=\"spark-nlp-display-others\" style=\"background-color: white\"> due to </span><span class=\"spark-nlp-display-entity-wrapper\" style=\"background-color: #008080\"><span class=\"spark-nlp-display-entity-name\">interference from turbidity </span><span class=\"spark-nlp-display-entity-type\">PROBLEM</span></span><span class=\"spark-nlp-display-others\" style=\"background-color: white\"> caused by </span><span class=\"spark-nlp-display-entity-wrapper\" style=\"background-color: #008080\"><span class=\"spark-nlp-display-entity-name\">lipemia </span><span class=\"spark-nlp-display-entity-type\">PROBLEM</span></span><span class=\"spark-nlp-display-others\" style=\"background-color: white\"> again. The patient was treated with an </span><span class=\"spark-nlp-display-entity-wrapper\" style=\"background-color: #808080\"><span class=\"spark-nlp-display-entity-name\">insulin drip for euDKA and HTG with a reduction in the anion gap </span><span class=\"spark-nlp-display-entity-type\">TREATMENT</span></span><span class=\"spark-nlp-display-others\" style=\"background-color: white\"> to 13 and </span><span class=\"spark-nlp-display-entity-wrapper\" style=\"background-color: #800080\"><span class=\"spark-nlp-display-entity-name\">triglycerides </span><span class=\"spark-nlp-display-entity-type\">TEST</span></span><span class=\"spark-nlp-display-others\" style=\"background-color: white\"> to 1400 mg/dL, within 24 hours. Her euDKA was thought to be </span><span class=\"spark-nlp-display-entity-wrapper\" style=\"background-color: #008080\"><span class=\"spark-nlp-display-entity-name\">precipitated by her respiratory tract infection </span><span class=\"spark-nlp-display-entity-type\">PROBLEM</span></span><span class=\"spark-nlp-display-others\" style=\"background-color: white\"> in the setting of </span><span class=\"spark-nlp-display-entity-wrapper\" style=\"background-color: #808080\"><span class=\"spark-nlp-display-entity-name\">SGLT2 inhibitor </span><span class=\"spark-nlp-display-entity-type\">TREATMENT</span></span><span class=\"spark-nlp-display-others\" style=\"background-color: white\"> use. The patient was seen by the endocrinology service and she was discharged on 40 units of </span><span class=\"spark-nlp-display-entity-wrapper\" style=\"background-color: #808080\"><span class=\"spark-nlp-display-entity-name\">insulin glargine </span><span class=\"spark-nlp-display-entity-type\">TREATMENT</span></span><span class=\"spark-nlp-display-others\" style=\"background-color: white\"> at night, 12 units of </span><span class=\"spark-nlp-display-entity-wrapper\" style=\"background-color: #808080\"><span class=\"spark-nlp-display-entity-name\">insulin lispro with meals </span><span class=\"spark-nlp-display-entity-type\">TREATMENT</span></span><span class=\"spark-nlp-display-others\" style=\"background-color: white\">, and </span><span class=\"spark-nlp-display-entity-wrapper\" style=\"background-color: #808080\"><span class=\"spark-nlp-display-entity-name\">metformin </span><span class=\"spark-nlp-display-entity-type\">TREATMENT</span></span><span class=\"spark-nlp-display-others\" style=\"background-color: white\"> 1000 mg two times a day. It was determined that all </span><span class=\"spark-nlp-display-entity-wrapper\" style=\"background-color: #808080\"><span class=\"spark-nlp-display-entity-name\">SGLT2 inhibitors </span><span class=\"spark-nlp-display-entity-type\">TREATMENT</span></span><span class=\"spark-nlp-display-others\" style=\"background-color: white\"> should be discontinued indefinitely. She had close follow-up with endocrinology post discharge.</span></div>"
      ]
     },
     "metadata": {
      "application/vnd.databricks.v1+output": {
       "addedWidgets": {},
       "arguments": {},
       "data": "\n<style>\n    @import url('https://fonts.googleapis.com/css2?family=Montserrat:wght@300;400;500;600;700&display=swap');\n    @import url('https://fonts.googleapis.com/css2?family=Vistol Regular:wght@300;400;500;600;700&display=swap');\n    \n    .spark-nlp-display-scroll-entities {\n        border: 1px solid #E7EDF0;\n        border-radius: 3px;\n        text-align: justify;\n        \n    }\n    .spark-nlp-display-scroll-entities span {  \n        font-size: 14px;\n        line-height: 24px;\n        color: #536B76;\n        font-family: 'Montserrat', sans-serif !important;\n    }\n    \n    .spark-nlp-display-entity-wrapper{\n    \n        display: inline-grid;\n        text-align: center;\n        border-radius: 4px;\n        margin: 0 2px 5px 2px;\n        padding: 1px\n    }\n    .spark-nlp-display-entity-name{\n        font-size: 14px;\n        line-height: 24px;\n        font-family: 'Montserrat', sans-serif !important;\n        \n        background: #f1f2f3;\n        border-width: medium;\n        text-align: center;\n        \n        font-weight: 400;\n        \n        border-radius: 5px;\n        padding: 2px 5px;\n        display: block;\n        margin: 3px 2px;\n    \n    }\n    .spark-nlp-display-entity-type{\n        font-size: 14px;\n        line-height: 24px;\n        color: #ffffff;\n        font-family: 'Montserrat', sans-serif !important;\n        \n        text-transform: uppercase;\n        \n        font-weight: 500;\n\n        display: block;\n        padding: 3px 5px;\n    }\n    \n    .spark-nlp-display-entity-resolution{\n        font-size: 14px;\n        line-height: 24px;\n        color: #ffffff;\n        font-family: 'Vistol Regular', sans-serif !important;\n        \n        text-transform: uppercase;\n        \n        font-weight: 500;\n\n        display: block;\n        padding: 3px 5px;\n    }\n    \n    .spark-nlp-display-others{\n        font-size: 14px;\n        line-height: 24px;\n        font-family: 'Montserrat', sans-serif !important;\n        \n        font-weight: 400;\n    }\n\n</style>\n <span class=\"spark-nlp-display-others\" style=\"background-color: white\">A 28-year-old female with a history of </span><span class=\"spark-nlp-display-entity-wrapper\" style=\"background-color: #008080\"><span class=\"spark-nlp-display-entity-name\">gestational diabetes mellitus </span><span class=\"spark-nlp-display-entity-type\">PROBLEM</span></span><span class=\"spark-nlp-display-others\" style=\"background-color: white\"> diagnosed eight years prior to presentation and subsequent </span><span class=\"spark-nlp-display-entity-wrapper\" style=\"background-color: #008080\"><span class=\"spark-nlp-display-entity-name\">type two diabetes mellitus </span><span class=\"spark-nlp-display-entity-type\">PROBLEM</span></span><span class=\"spark-nlp-display-others\" style=\"background-color: white\"> (</span><span class=\"spark-nlp-display-entity-wrapper\" style=\"background-color: #008080\"><span class=\"spark-nlp-display-entity-name\">T2DM </span><span class=\"spark-nlp-display-entity-type\">PROBLEM</span></span><span class=\"spark-nlp-display-others\" style=\"background-color: white\">), </span><span class=\"spark-nlp-display-entity-wrapper\" style=\"background-color: #008080\"><span class=\"spark-nlp-display-entity-name\">one prior episode of HTG-induced pancreatitis </span><span class=\"spark-nlp-display-entity-type\">PROBLEM</span></span><span class=\"spark-nlp-display-others\" style=\"background-color: white\"> three years prior to presentation, </span><span class=\"spark-nlp-display-entity-wrapper\" style=\"background-color: #008080\"><span class=\"spark-nlp-display-entity-name\">associated with an acute hepatitis </span><span class=\"spark-nlp-display-entity-type\">PROBLEM</span></span><span class=\"spark-nlp-display-others\" style=\"background-color: white\">, and </span><span class=\"spark-nlp-display-entity-wrapper\" style=\"background-color: #008080\"><span class=\"spark-nlp-display-entity-name\">obesity with a body mass index </span><span class=\"spark-nlp-display-entity-type\">PROBLEM</span></span><span class=\"spark-nlp-display-others\" style=\"background-color: white\"> (BMI) of 33.5 kg/m2, presented with a one-week history of </span><span class=\"spark-nlp-display-entity-wrapper\" style=\"background-color: #008080\"><span class=\"spark-nlp-display-entity-name\">polyuria </span><span class=\"spark-nlp-display-entity-type\">PROBLEM</span></span><span class=\"spark-nlp-display-others\" style=\"background-color: white\">, </span><span class=\"spark-nlp-display-entity-wrapper\" style=\"background-color: #008080\"><span class=\"spark-nlp-display-entity-name\">polydipsia </span><span class=\"spark-nlp-display-entity-type\">PROBLEM</span></span><span class=\"spark-nlp-display-others\" style=\"background-color: white\">, </span><span class=\"spark-nlp-display-entity-wrapper\" style=\"background-color: #008080\"><span class=\"spark-nlp-display-entity-name\">poor appetite </span><span class=\"spark-nlp-display-entity-type\">PROBLEM</span></span><span class=\"spark-nlp-display-others\" style=\"background-color: white\">, and </span><span class=\"spark-nlp-display-entity-wrapper\" style=\"background-color: #008080\"><span class=\"spark-nlp-display-entity-name\">vomiting </span><span class=\"spark-nlp-display-entity-type\">PROBLEM</span></span><span class=\"spark-nlp-display-others\" style=\"background-color: white\">. Two weeks prior to presentation, she was treated with a </span><span class=\"spark-nlp-display-entity-wrapper\" style=\"background-color: #008080\"><span class=\"spark-nlp-display-entity-name\">five-day course of amoxicillin for a respiratory tract infection </span><span class=\"spark-nlp-display-entity-type\">PROBLEM</span></span><span class=\"spark-nlp-display-others\" style=\"background-color: white\">. She was on </span><span class=\"spark-nlp-display-entity-wrapper\" style=\"background-color: #808080\"><span class=\"spark-nlp-display-entity-name\">metformin </span><span class=\"spark-nlp-display-entity-type\">TREATMENT</span></span><span class=\"spark-nlp-display-others\" style=\"background-color: white\">, </span><span class=\"spark-nlp-display-entity-wrapper\" style=\"background-color: #808080\"><span class=\"spark-nlp-display-entity-name\">glipizide </span><span class=\"spark-nlp-display-entity-type\">TREATMENT</span></span><span class=\"spark-nlp-display-others\" style=\"background-color: white\">, and </span><span class=\"spark-nlp-display-entity-wrapper\" style=\"background-color: #808080\"><span class=\"spark-nlp-display-entity-name\">dapagliflozin </span><span class=\"spark-nlp-display-entity-type\">TREATMENT</span></span><span class=\"spark-nlp-display-others\" style=\"background-color: white\"> for </span><span class=\"spark-nlp-display-entity-wrapper\" style=\"background-color: #008080\"><span class=\"spark-nlp-display-entity-name\">T2DM </span><span class=\"spark-nlp-display-entity-type\">PROBLEM</span></span><span class=\"spark-nlp-display-others\" style=\"background-color: white\"> and </span><span class=\"spark-nlp-display-entity-wrapper\" style=\"background-color: #808080\"><span class=\"spark-nlp-display-entity-name\">atorvastatin and gemfibrozil </span><span class=\"spark-nlp-display-entity-type\">TREATMENT</span></span><span class=\"spark-nlp-display-others\" style=\"background-color: white\"> for </span><span class=\"spark-nlp-display-entity-wrapper\" style=\"background-color: #008080\"><span class=\"spark-nlp-display-entity-name\">HTG </span><span class=\"spark-nlp-display-entity-type\">PROBLEM</span></span><span class=\"spark-nlp-display-others\" style=\"background-color: white\">. She had been on </span><span class=\"spark-nlp-display-entity-wrapper\" style=\"background-color: #808080\"><span class=\"spark-nlp-display-entity-name\">dapagliflozin </span><span class=\"spark-nlp-display-entity-type\">TREATMENT</span></span><span class=\"spark-nlp-display-others\" style=\"background-color: white\"> for six months at the time of presentation. </span><span class=\"spark-nlp-display-entity-wrapper\" style=\"background-color: #800080\"><span class=\"spark-nlp-display-entity-name\">Physical examination </span><span class=\"spark-nlp-display-entity-type\">TEST</span></span><span class=\"spark-nlp-display-others\" style=\"background-color: white\"> on presentation was </span><span class=\"spark-nlp-display-entity-wrapper\" style=\"background-color: #008080\"><span class=\"spark-nlp-display-entity-name\">significant for dry oral mucosa </span><span class=\"spark-nlp-display-entity-type\">PROBLEM</span></span><span class=\"spark-nlp-display-others\" style=\"background-color: white\">; significantly, her </span><span class=\"spark-nlp-display-entity-wrapper\" style=\"background-color: #800080\"><span class=\"spark-nlp-display-entity-name\">abdominal examination </span><span class=\"spark-nlp-display-entity-type\">TEST</span></span><span class=\"spark-nlp-display-others\" style=\"background-color: white\"> was benign with no </span><span class=\"spark-nlp-display-entity-wrapper\" style=\"background-color: #008080\"><span class=\"spark-nlp-display-entity-name\">tenderness </span><span class=\"spark-nlp-display-entity-type\">PROBLEM</span></span><span class=\"spark-nlp-display-others\" style=\"background-color: white\">, </span><span class=\"spark-nlp-display-entity-wrapper\" style=\"background-color: #008080\"><span class=\"spark-nlp-display-entity-name\">guarding </span><span class=\"spark-nlp-display-entity-type\">PROBLEM</span></span><span class=\"spark-nlp-display-others\" style=\"background-color: white\">, or </span><span class=\"spark-nlp-display-entity-wrapper\" style=\"background-color: #008080\"><span class=\"spark-nlp-display-entity-name\">rigidity </span><span class=\"spark-nlp-display-entity-type\">PROBLEM</span></span><span class=\"spark-nlp-display-others\" style=\"background-color: white\">. Pertinent laboratory findings on admission were: </span><span class=\"spark-nlp-display-entity-wrapper\" style=\"background-color: #800080\"><span class=\"spark-nlp-display-entity-name\">serum glucose </span><span class=\"spark-nlp-display-entity-type\">TEST</span></span><span class=\"spark-nlp-display-others\" style=\"background-color: white\"> 111 mg/dl, </span><span class=\"spark-nlp-display-entity-wrapper\" style=\"background-color: #800080\"><span class=\"spark-nlp-display-entity-name\">bicarbonate </span><span class=\"spark-nlp-display-entity-type\">TEST</span></span><span class=\"spark-nlp-display-others\" style=\"background-color: white\"> 18 mmol/l, </span><span class=\"spark-nlp-display-entity-wrapper\" style=\"background-color: #800080\"><span class=\"spark-nlp-display-entity-name\">anion gap </span><span class=\"spark-nlp-display-entity-type\">TEST</span></span><span class=\"spark-nlp-display-others\" style=\"background-color: white\"> 20, </span><span class=\"spark-nlp-display-entity-wrapper\" style=\"background-color: #800080\"><span class=\"spark-nlp-display-entity-name\">creatinine </span><span class=\"spark-nlp-display-entity-type\">TEST</span></span><span class=\"spark-nlp-display-others\" style=\"background-color: white\"> 0.4 mg/dL, </span><span class=\"spark-nlp-display-entity-wrapper\" style=\"background-color: #800080\"><span class=\"spark-nlp-display-entity-name\">triglycerides </span><span class=\"spark-nlp-display-entity-type\">TEST</span></span><span class=\"spark-nlp-display-others\" style=\"background-color: white\"> 508 mg/dL, </span><span class=\"spark-nlp-display-entity-wrapper\" style=\"background-color: #800080\"><span class=\"spark-nlp-display-entity-name\">total cholesterol </span><span class=\"spark-nlp-display-entity-type\">TEST</span></span><span class=\"spark-nlp-display-others\" style=\"background-color: white\"> 122 mg/dL, </span><span class=\"spark-nlp-display-entity-wrapper\" style=\"background-color: #800080\"><span class=\"spark-nlp-display-entity-name\">glycated hemoglobin </span><span class=\"spark-nlp-display-entity-type\">TEST</span></span><span class=\"spark-nlp-display-others\" style=\"background-color: white\"> (</span><span class=\"spark-nlp-display-entity-wrapper\" style=\"background-color: #800080\"><span class=\"spark-nlp-display-entity-name\">HbA1c </span><span class=\"spark-nlp-display-entity-type\">TEST</span></span><span class=\"spark-nlp-display-others\" style=\"background-color: white\">) 10%, and </span><span class=\"spark-nlp-display-entity-wrapper\" style=\"background-color: #800080\"><span class=\"spark-nlp-display-entity-name\">venous pH </span><span class=\"spark-nlp-display-entity-type\">TEST</span></span><span class=\"spark-nlp-display-others\" style=\"background-color: white\"> 7.27. </span><span class=\"spark-nlp-display-entity-wrapper\" style=\"background-color: #800080\"><span class=\"spark-nlp-display-entity-name\">Serum lipase </span><span class=\"spark-nlp-display-entity-type\">TEST</span></span><span class=\"spark-nlp-display-others\" style=\"background-color: white\"> was normal at 43 </span><span class=\"spark-nlp-display-entity-wrapper\" style=\"background-color: #800080\"><span class=\"spark-nlp-display-entity-name\">U/L </span><span class=\"spark-nlp-display-entity-type\">TEST</span></span><span class=\"spark-nlp-display-others\" style=\"background-color: white\">. </span><span class=\"spark-nlp-display-entity-wrapper\" style=\"background-color: #800080\"><span class=\"spark-nlp-display-entity-name\">Serum acetone levels </span><span class=\"spark-nlp-display-entity-type\">TEST</span></span><span class=\"spark-nlp-display-others\" style=\"background-color: white\"> could not be assessed as </span><span class=\"spark-nlp-display-entity-wrapper\" style=\"background-color: #800080\"><span class=\"spark-nlp-display-entity-name\">blood samples </span><span class=\"spark-nlp-display-entity-type\">TEST</span></span><span class=\"spark-nlp-display-others\" style=\"background-color: white\"> kept hemolyzing due to </span><span class=\"spark-nlp-display-entity-wrapper\" style=\"background-color: #008080\"><span class=\"spark-nlp-display-entity-name\">significant lipemia </span><span class=\"spark-nlp-display-entity-type\">PROBLEM</span></span><span class=\"spark-nlp-display-others\" style=\"background-color: white\">. The patient was </span><span class=\"spark-nlp-display-entity-wrapper\" style=\"background-color: #008080\"><span class=\"spark-nlp-display-entity-name\">initially admitted for starvation ketosis </span><span class=\"spark-nlp-display-entity-type\">PROBLEM</span></span><span class=\"spark-nlp-display-others\" style=\"background-color: white\">, as she reported </span><span class=\"spark-nlp-display-entity-wrapper\" style=\"background-color: #008080\"><span class=\"spark-nlp-display-entity-name\">poor oral intake </span><span class=\"spark-nlp-display-entity-type\">PROBLEM</span></span><span class=\"spark-nlp-display-others\" style=\"background-color: white\"> for three days prior to admission. However, </span><span class=\"spark-nlp-display-entity-wrapper\" style=\"background-color: #800080\"><span class=\"spark-nlp-display-entity-name\">serum chemistry </span><span class=\"spark-nlp-display-entity-type\">TEST</span></span><span class=\"spark-nlp-display-others\" style=\"background-color: white\"> obtained six hours after presentation revealed her </span><span class=\"spark-nlp-display-entity-wrapper\" style=\"background-color: #800080\"><span class=\"spark-nlp-display-entity-name\">glucose </span><span class=\"spark-nlp-display-entity-type\">TEST</span></span><span class=\"spark-nlp-display-others\" style=\"background-color: white\"> was 186 mg/dL, the </span><span class=\"spark-nlp-display-entity-wrapper\" style=\"background-color: #800080\"><span class=\"spark-nlp-display-entity-name\">anion gap </span><span class=\"spark-nlp-display-entity-type\">TEST</span></span><span class=\"spark-nlp-display-others\" style=\"background-color: white\"> was still </span><span class=\"spark-nlp-display-entity-wrapper\" style=\"background-color: #008080\"><span class=\"spark-nlp-display-entity-name\">elevated </span><span class=\"spark-nlp-display-entity-type\">PROBLEM</span></span><span class=\"spark-nlp-display-others\" style=\"background-color: white\"> at 21, </span><span class=\"spark-nlp-display-entity-wrapper\" style=\"background-color: #800080\"><span class=\"spark-nlp-display-entity-name\">serum bicarbonate </span><span class=\"spark-nlp-display-entity-type\">TEST</span></span><span class=\"spark-nlp-display-others\" style=\"background-color: white\"> was 16 mmol/L, </span><span class=\"spark-nlp-display-entity-wrapper\" style=\"background-color: #800080\"><span class=\"spark-nlp-display-entity-name\">triglyceride level </span><span class=\"spark-nlp-display-entity-type\">TEST</span></span><span class=\"spark-nlp-display-others\" style=\"background-color: white\"> peaked at 2050 mg/dL, and </span><span class=\"spark-nlp-display-entity-wrapper\" style=\"background-color: #800080\"><span class=\"spark-nlp-display-entity-name\">lipase </span><span class=\"spark-nlp-display-entity-type\">TEST</span></span><span class=\"spark-nlp-display-others\" style=\"background-color: white\"> was 52 </span><span class=\"spark-nlp-display-entity-wrapper\" style=\"background-color: #800080\"><span class=\"spark-nlp-display-entity-name\">U/L </span><span class=\"spark-nlp-display-entity-type\">TEST</span></span><span class=\"spark-nlp-display-others\" style=\"background-color: white\">. The </span><span class=\"spark-nlp-display-entity-wrapper\" style=\"background-color: #800080\"><span class=\"spark-nlp-display-entity-name\">β-hydroxybutyrate level </span><span class=\"spark-nlp-display-entity-type\">TEST</span></span><span class=\"spark-nlp-display-others\" style=\"background-color: white\"> was obtained and found to be </span><span class=\"spark-nlp-display-entity-wrapper\" style=\"background-color: #008080\"><span class=\"spark-nlp-display-entity-name\">elevated </span><span class=\"spark-nlp-display-entity-type\">PROBLEM</span></span><span class=\"spark-nlp-display-others\" style=\"background-color: white\"> at 5.29 mmol/L - the original sample was centrifuged and the chylomicron layer removed </span><span class=\"spark-nlp-display-entity-wrapper\" style=\"background-color: #800080\"><span class=\"spark-nlp-display-entity-name\">prior to analysis </span><span class=\"spark-nlp-display-entity-type\">TEST</span></span><span class=\"spark-nlp-display-others\" style=\"background-color: white\"> due to </span><span class=\"spark-nlp-display-entity-wrapper\" style=\"background-color: #008080\"><span class=\"spark-nlp-display-entity-name\">interference from turbidity </span><span class=\"spark-nlp-display-entity-type\">PROBLEM</span></span><span class=\"spark-nlp-display-others\" style=\"background-color: white\"> caused by </span><span class=\"spark-nlp-display-entity-wrapper\" style=\"background-color: #008080\"><span class=\"spark-nlp-display-entity-name\">lipemia </span><span class=\"spark-nlp-display-entity-type\">PROBLEM</span></span><span class=\"spark-nlp-display-others\" style=\"background-color: white\"> again. The patient was treated with an </span><span class=\"spark-nlp-display-entity-wrapper\" style=\"background-color: #808080\"><span class=\"spark-nlp-display-entity-name\">insulin drip for euDKA and HTG with a reduction in the anion gap </span><span class=\"spark-nlp-display-entity-type\">TREATMENT</span></span><span class=\"spark-nlp-display-others\" style=\"background-color: white\"> to 13 and </span><span class=\"spark-nlp-display-entity-wrapper\" style=\"background-color: #800080\"><span class=\"spark-nlp-display-entity-name\">triglycerides </span><span class=\"spark-nlp-display-entity-type\">TEST</span></span><span class=\"spark-nlp-display-others\" style=\"background-color: white\"> to 1400 mg/dL, within 24 hours. Her euDKA was thought to be </span><span class=\"spark-nlp-display-entity-wrapper\" style=\"background-color: #008080\"><span class=\"spark-nlp-display-entity-name\">precipitated by her respiratory tract infection </span><span class=\"spark-nlp-display-entity-type\">PROBLEM</span></span><span class=\"spark-nlp-display-others\" style=\"background-color: white\"> in the setting of </span><span class=\"spark-nlp-display-entity-wrapper\" style=\"background-color: #808080\"><span class=\"spark-nlp-display-entity-name\">SGLT2 inhibitor </span><span class=\"spark-nlp-display-entity-type\">TREATMENT</span></span><span class=\"spark-nlp-display-others\" style=\"background-color: white\"> use. The patient was seen by the endocrinology service and she was discharged on 40 units of </span><span class=\"spark-nlp-display-entity-wrapper\" style=\"background-color: #808080\"><span class=\"spark-nlp-display-entity-name\">insulin glargine </span><span class=\"spark-nlp-display-entity-type\">TREATMENT</span></span><span class=\"spark-nlp-display-others\" style=\"background-color: white\"> at night, 12 units of </span><span class=\"spark-nlp-display-entity-wrapper\" style=\"background-color: #808080\"><span class=\"spark-nlp-display-entity-name\">insulin lispro with meals </span><span class=\"spark-nlp-display-entity-type\">TREATMENT</span></span><span class=\"spark-nlp-display-others\" style=\"background-color: white\">, and </span><span class=\"spark-nlp-display-entity-wrapper\" style=\"background-color: #808080\"><span class=\"spark-nlp-display-entity-name\">metformin </span><span class=\"spark-nlp-display-entity-type\">TREATMENT</span></span><span class=\"spark-nlp-display-others\" style=\"background-color: white\"> 1000 mg two times a day. It was determined that all </span><span class=\"spark-nlp-display-entity-wrapper\" style=\"background-color: #808080\"><span class=\"spark-nlp-display-entity-name\">SGLT2 inhibitors </span><span class=\"spark-nlp-display-entity-type\">TREATMENT</span></span><span class=\"spark-nlp-display-others\" style=\"background-color: white\"> should be discontinued indefinitely. She had close follow-up with endocrinology post discharge.</span></div>",
       "datasetInfos": [],
       "removedWidgets": [],
       "textData": null,
       "type": "htmlSandbox"
      }
     },
     "output_type": "display_data"
    }
   ],
   "source": [
    "from sparknlp_display import NerVisualizer\n",
    "\n",
    "light_result = light_pipeline.fullAnnotate(clinical_note)\n",
    "\n",
    "visualiser = NerVisualizer()\n",
    "\n",
    "# Change color of an entity label\n",
    "visualiser.set_label_colors({'PROBLEM':'#008080', 'TEST':'#800080', 'TREATMENT':'#808080'})\n",
    "vis = visualiser.display(light_result[0], label_col='ner_chunk', return_html=True)\n",
    "\n",
    "# Set label filter\n",
    "# vis = visualiser.display(light_result, label_col='ner_chunk', document_col='document',\n",
    "                   #labels=['PROBLEM','TEST'])\n",
    "  \n",
    "displayHTML(vis)"
   ]
  },
  {
   "cell_type": "markdown",
   "metadata": {
    "application/vnd.databricks.v1+cell": {
     "inputWidgets": {},
     "nuid": "6a152598-4e9a-4559-98f6-9d09add586d5",
     "showTitle": false,
     "title": ""
    }
   },
   "source": [
    "##  ICD10 background info\n",
    "\n",
    "ICD-10-CM vs. ICD-10-PCS\n",
    "\n",
    "With the transition to ICD-10, in the United States, ICD-9 codes are segmented into ICD-10-CM and ICD-10-PCS codes. **The \"CM\" in ICD-10-CM codes stands for clinical modification**; ICD-10-CM codes were developed by the Centers for Disease Control and Prevention in conjunction with the National Center for Health Statistics (NCHS), for outpatient medical coding and reporting in the United States, as published by the World Health Organization (WHO).\n",
    "\n",
    "**The \"PCS\" in ICD-10-PCS codes stands for the procedural classification system**. ICD-10-PCS is a completely separate medical coding system from ICD-10-CM, containing an additional 87,000 codes for use ONLY in United States inpatient, hospital settings. The procedure classification system (ICD-10-PCS) was developed by the Centers for Medicare and Medicaid Services (CMS) in conjunction with 3M Health Information Management (HIM).\n",
    "\n",
    "ICD-10-CM codes add increased specificity to their ICD-9 predecessors, growing to five times the number of codes as the present system; a total of 68,000 clinical modification diagnosis codes. ICD-10-CM codes provide the ability to track and reveal more information about the quality of healthcare, allowing healthcare providers to better understand medical complications, better design treatment and care, and better comprehend and determine the outcome of care.\n",
    "\n",
    "ICD-10-PCS is used only for inpatient, hospital settings in the United States, and is meant to replace volume 3 of ICD-9 for facility reporting of inpatient procedures. Due to the rapid and constant state of flux in medical procedures and technology, ICD-10-PCS was developed to accommodate the changing landscape. Common procedures, lab tests, and educational sessions that are not unique to the inpatient, hospital setting have been omitted from ICD-10-PCS.\n",
    "\n",
    "ICD-10 is confusing enough when you’re trying to digest the differences between ICD-9 and ICD-10, but there are also different types of ICD-10 codes that providers should be aware of.\n",
    "\n",
    "\n",
    "Primary difference between ICD-10-CM and ICD-10-PCS\n",
    "\n",
    "When most people talk about ICD-10, they are referring to ICD-10CM. This is the code set for diagnosis coding and is used for all healthcare settings in the United States. ICD-10PCS, on the other hand, is used in hospital inpatient settings for inpatient procedure coding.\n",
    "\n",
    "ICD-10-CM breakdown\n",
    "\n",
    "- Approximately 68,000 codes\n",
    "- 3–7 alphanumeric characters\n",
    "- Facilitates timely processing of claims\n",
    "\n",
    "\n",
    "ICD-10-PCS breakdown\n",
    "\n",
    "- Will replace ICD-9-CM for hospital inpatient use only. \n",
    "- ICD-10-PCS will not replace CPT codes used by physicians. According to HealthCare Information Management, Inc. (HCIM), “Its only intention is to identify inpatient facility services in a way not directly related to physician work, but directed towards allocation of hospital services.”\n",
    "\n",
    "- 7 alphanumeric characters\n",
    "\n",
    "ICD-10-PCS is very different from ICD-9-CM procedure coding due to its ability to be more specific and accurate. “This becomes increasingly important when assessing and tracking the quality of medical processes and outcomes, and compiling statistics that are valuable tools for research,” according to HCIM."
   ]
  },
  {
   "cell_type": "markdown",
   "metadata": {
    "application/vnd.databricks.v1+cell": {
     "inputWidgets": {},
     "nuid": "a3cc2145-2392-4822-8a76-a33fd7a7b208",
     "showTitle": false,
     "title": ""
    }
   },
   "source": [
    "# ChunkEntityResolver Models"
   ]
  },
  {
   "cell_type": "markdown",
   "metadata": {
    "application/vnd.databricks.v1+cell": {
     "inputWidgets": {},
     "nuid": "9145ccba-853f-4367-8e2b-38e36a2eeaa8",
     "showTitle": false,
     "title": ""
    }
   },
   "source": [
    "## ICD10CM Resolver"
   ]
  },
  {
   "cell_type": "markdown",
   "metadata": {
    "application/vnd.databricks.v1+cell": {
     "inputWidgets": {},
     "nuid": "6586f6cb-5609-4b11-b99b-4add9bb32b22",
     "showTitle": false,
     "title": ""
    }
   },
   "source": [
    "**ICD10 Coding Pipeline Creation**\n",
    "\n",
    "A common NLP problem in biomedical aplications is to identify the presence of clinical entities in a given text. This clinical entities could be diseases, symptoms, drugs, results of clinical investigations or others.\n",
    "\n",
    "Other than providing the code in the \"result\" field it provides more metadata about the matching process:\n",
    "\n",
    "- target_text -> Text to resolve\n",
    "- resolved_text -> Best match text\n",
    "- confidence -> Relative confidence for the top match (distance to probability)\n",
    "- confidence_ratio -> Relative confidence for the top match. TopMatchConfidence / SecondMatchConfidence\n",
    "- alternative_codes -> List of other plausible codes (in the KNN neighborhood)\n",
    "- alternative_confidence_ratios -> Rest of confidence ratios\n",
    "- all_k_results -> All resolved codes for metrics calculation purposes\n",
    "- sentence -> SentenceId\n",
    "- chunk -> ChunkId\n",
    "\n",
    "We will now create a new pipeline that from each of these problems will try to assign an ICD10 base on the content, the wordembeddings and some pretrained models for ICD10 annotation.\n",
    "\n",
    "The architecture of this new pipeline will be as follows:\n",
    "\n",
    "- DocumentAssembler (text -> document)\n",
    "\n",
    "- SentenceDetector (document -> sentence)\n",
    "\n",
    "- Tokenizer (sentence -> token)\n",
    "\n",
    "- WordEmbeddingsModel ([sentence, token] -> embeddings)\n",
    "\n",
    "- NerDLModel ([sentence, token, embeddings] -> ner)\n",
    "\n",
    "- NerConverter ([\"sentence, token, ner] -> ner_chunk\n",
    "\n",
    "- ChunkTokenizer (ner_chunk -> ner_chunk_tokenized)\n",
    "\n",
    "- ICD10CMEntityResolverModel ([ner_chunk_tokenized, embeddings] -> resolution)\n",
    "\n",
    "- ICD10PCSEntityResolverModel ([ner_chunk_tokenized, embeddings] -> resolution)\n",
    "\n",
    "So from a text we end having a list of Named Entities (ner_chunk) and their ICD10 codes (resolution)\n",
    "\n",
    "Most of the annotators in this pipeline have been already created for the previous pipeline, but we need to create four additional annotators: NerConverter, ChunkEmbeddigns, EntityResolverModel for ICD10CM and EntityResolverModel for ICD10PCS.\n",
    "\n",
    "Now we define the new pipeline"
   ]
  },
  {
   "cell_type": "code",
   "execution_count": 0,
   "metadata": {
    "application/vnd.databricks.v1+cell": {
     "inputWidgets": {},
     "nuid": "84890bc5-dea1-4eef-aa1f-8c9924e140ce",
     "showTitle": false,
     "title": ""
    }
   },
   "outputs": [
    {
     "data": {
      "text/html": [
       "<style scoped>\n",
       "  .ansiout {\n",
       "    display: block;\n",
       "    unicode-bidi: embed;\n",
       "    white-space: pre-wrap;\n",
       "    word-wrap: break-word;\n",
       "    word-break: break-all;\n",
       "    font-family: \"Source Code Pro\", \"Menlo\", monospace;;\n",
       "    font-size: 13px;\n",
       "    color: #555;\n",
       "    margin-left: 4px;\n",
       "    line-height: 19px;\n",
       "  }\n",
       "</style>\n",
       "<div class=\"ansiout\">chunkresolve_icd10cm_clinical download started this may take some time.\n",
       "Approximate size to download 166.2 MB\n",
       "\r",
       "[ | ]\r",
       "[ / ]\r",
       "[ — ]\r",
       "[ \\ ]\r",
       "[ | ]\r",
       "[ / ]\r",
       "[ — ]\r",
       "[ \\ ]\r",
       "[ | ]\r",
       "[ / ]\r",
       "[ — ]\r",
       "[ \\ ]\r",
       "[ | ]\r",
       "[ / ]\r",
       "[ — ]\r",
       "[ \\ ]\r",
       "[ | ]\r",
       "[ / ]\r",
       "[ — ]\r",
       "[ \\ ]\r",
       "[ | ]\r",
       "[ / ]\r",
       "[ — ]\r",
       "[ \\ ]\r",
       "[ | ]\r",
       "[ / ]\r",
       "[ — ]\r",
       "[ \\ ]\r",
       "[ | ]\r",
       "[ / ]\r",
       "[ — ]\r",
       "[ \\ ]\r",
       "[ | ]\r",
       "[ / ]\r",
       "[ — ]\r",
       "[ \\ ]\r",
       "[ | ]\r",
       "[ / ]\r",
       "[ — ]\r",
       "[ \\ ]\r",
       "[ | ]\r",
       "[ / ]\r",
       "[ — ]\r",
       "[ \\ ]\r",
       "[ | ]\r",
       "[ / ]\r",
       "[ — ]\r",
       "[ \\ ]\r",
       "[ | ]\r",
       "[ / ]\r",
       "[ — ]\r",
       "[ \\ ]\r",
       "[ | ]\r",
       "[ / ]\r",
       "[ — ]\r",
       "[ \\ ]\r",
       "[ | ]\r",
       "[ / ]\r",
       "[ — ]\r",
       "[ \\ ]\r",
       "[ | ]\r",
       "[ / ]\r",
       "[ — ]\r",
       "[ \\ ]\r",
       "[ | ]\r",
       "[OK!]\n",
       "</div>"
      ]
     },
     "metadata": {
      "application/vnd.databricks.v1+output": {
       "addedWidgets": {},
       "arguments": {},
       "data": "<div class=\"ansiout\">chunkresolve_icd10cm_clinical download started this may take some time.\nApproximate size to download 166.2 MB\n\r[ | ]\r[ / ]\r[ — ]\r[ \\ ]\r[ | ]\r[ / ]\r[ — ]\r[ \\ ]\r[ | ]\r[ / ]\r[ — ]\r[ \\ ]\r[ | ]\r[ / ]\r[ — ]\r[ \\ ]\r[ | ]\r[ / ]\r[ — ]\r[ \\ ]\r[ | ]\r[ / ]\r[ — ]\r[ \\ ]\r[ | ]\r[ / ]\r[ — ]\r[ \\ ]\r[ | ]\r[ / ]\r[ — ]\r[ \\ ]\r[ | ]\r[ / ]\r[ — ]\r[ \\ ]\r[ | ]\r[ / ]\r[ — ]\r[ \\ ]\r[ | ]\r[ / ]\r[ — ]\r[ \\ ]\r[ | ]\r[ / ]\r[ — ]\r[ \\ ]\r[ | ]\r[ / ]\r[ — ]\r[ \\ ]\r[ | ]\r[ / ]\r[ — ]\r[ \\ ]\r[ | ]\r[ / ]\r[ — ]\r[ \\ ]\r[ | ]\r[ / ]\r[ — ]\r[ \\ ]\r[ | ]\r[OK!]\n</div>",
       "datasetInfos": [],
       "removedWidgets": [],
       "type": "html"
      }
     },
     "output_type": "display_data"
    }
   ],
   "source": [
    "# Named Entity Recognition concepts parser, transforms entities into CHUNKS (required for next step: assertion status)\n",
    "\n",
    "ner_converter = NerConverterInternal() \\\n",
    "  .setInputCols([\"sentence\", \"token\", \"ner\"]) \\\n",
    "  .setOutputCol(\"ner_chunk\")\\\n",
    "  .setWhiteList(['PROBLEM'])\\\n",
    "  .setPreservePosition(False)\n",
    "\n",
    "chunk_embeddings = ChunkEmbeddings()\\\n",
    "  .setInputCols(\"ner_chunk\", \"embeddings\")\\\n",
    "  .setOutputCol(\"chunk_embeddings\")\n",
    "\n",
    "# ICD resolution model\n",
    "icd10cm_resolution = ChunkEntityResolverModel.pretrained(\"chunkresolve_icd10cm_clinical\", \"en\", \"clinical/models\") \\\n",
    "  .setInputCols([\"token\", \"chunk_embeddings\"]) \\\n",
    "  .setOutputCol(\"icd10cm_code\") \\\n",
    "  .setDistanceFunction(\"COSINE\") \\\n",
    "  .setNeighbours(5)\n",
    "# .setDistanceFunction(\"EUCLIDEAN\")"
   ]
  },
  {
   "cell_type": "markdown",
   "metadata": {
    "application/vnd.databricks.v1+cell": {
     "inputWidgets": {},
     "nuid": "9d178314-9dbe-4e8d-90ea-89972e67322f",
     "showTitle": false,
     "title": ""
    }
   },
   "source": [
    "`setPreservePosition(True)` takes exactly the original indices (under some tokenization conditions it might include some undesires chars like `\")\",\"]\"...)`\n",
    "\n",
    "`setPreservePosition(False)` takes adjusted indices based on substring indexingOf the first (for begin) and last (for end) tokens\n",
    "\n",
    "also with internal we can use the `greedyMode` which will marge consecutive entities of same type regardless of b-boundaries"
   ]
  },
  {
   "cell_type": "code",
   "execution_count": 0,
   "metadata": {
    "application/vnd.databricks.v1+cell": {
     "inputWidgets": {},
     "nuid": "b5587a43-ac25-454b-bcc3-2ec494d1e191",
     "showTitle": false,
     "title": ""
    }
   },
   "outputs": [
    {
     "data": {
      "text/html": [
       "<style scoped>\n",
       "  .ansiout {\n",
       "    display: block;\n",
       "    unicode-bidi: embed;\n",
       "    white-space: pre-wrap;\n",
       "    word-wrap: break-word;\n",
       "    word-break: break-all;\n",
       "    font-family: \"Source Code Pro\", \"Menlo\", monospace;;\n",
       "    font-size: 13px;\n",
       "    color: #555;\n",
       "    margin-left: 4px;\n",
       "    line-height: 19px;\n",
       "  }\n",
       "</style>\n",
       "<div class=\"ansiout\"></div>"
      ]
     },
     "metadata": {
      "application/vnd.databricks.v1+output": {
       "addedWidgets": {},
       "arguments": {},
       "data": "<div class=\"ansiout\"></div>",
       "datasetInfos": [],
       "removedWidgets": [],
       "type": "html"
      }
     },
     "output_type": "display_data"
    }
   ],
   "source": [
    "pipeline_icd10 = Pipeline(\n",
    "    stages = [\n",
    "    documentAssembler,\n",
    "    sentenceDetectorDL,\n",
    "    tokenizer,\n",
    "    stopwords,\n",
    "    word_embeddings,\n",
    "    clinical_ner,\n",
    "    ner_converter,\n",
    "    chunk_embeddings,\n",
    "    icd10cm_resolution\n",
    "  ])\n",
    "\n",
    "model_icd10 = pipeline_icd10.fit(data_ner)\n"
   ]
  },
  {
   "cell_type": "code",
   "execution_count": 0,
   "metadata": {
    "application/vnd.databricks.v1+cell": {
     "inputWidgets": {},
     "nuid": "9d89eb21-3aaf-4079-a8c8-046fe6a93cd6",
     "showTitle": false,
     "title": ""
    }
   },
   "outputs": [
    {
     "data": {
      "text/html": [
       "<style scoped>\n",
       "  .ansiout {\n",
       "    display: block;\n",
       "    unicode-bidi: embed;\n",
       "    white-space: pre-wrap;\n",
       "    word-wrap: break-word;\n",
       "    word-break: break-all;\n",
       "    font-family: \"Source Code Pro\", \"Menlo\", monospace;;\n",
       "    font-size: 13px;\n",
       "    color: #555;\n",
       "    margin-left: 4px;\n",
       "    line-height: 19px;\n",
       "  }\n",
       "</style>\n",
       "<div class=\"ansiout\">Out[76]: &#39;A 28-year-old female with a history of gestational diabetes mellitus diagnosed eight years prior to presentation and subsequent type two diabetes mellitus (T2DM), one prior episode of HTG-induced pancreatitis three years prior to presentation, associated with an acute hepatitis, and obesity with a body mass index (BMI) of 33.5 kg/m2, presented with a one-week history of polyuria, polydipsia, poor appetite, and vomiting. Two weeks prior to presentation, she was treated with a five-day course of amoxicillin for a respiratory tract infection. She was on metformin, glipizide, and dapagliflozin for T2DM and atorvastatin and gemfibrozil for HTG. She had been on dapagliflozin for six months at the time of presentation. Physical examination on presentation was significant for dry oral mucosa; significantly, her abdominal examination was benign with no tenderness, guarding, or rigidity. Pertinent laboratory findings on admission were: serum glucose 111 mg/dl, bicarbonate 18 mmol/l, anion gap 20, creatinine 0.4 mg/dL, triglycerides 508 mg/dL, total cholesterol 122 mg/dL, glycated hemoglobin (HbA1c) 10%, and venous pH 7.27. Serum lipase was normal at 43 U/L. Serum acetone levels could not be assessed as blood samples kept hemolyzing due to significant lipemia. The patient was initially admitted for starvation ketosis, as she reported poor oral intake for three days prior to admission. However, serum chemistry obtained six hours after presentation revealed her glucose was 186 mg/dL, the anion gap was still elevated at 21, serum bicarbonate was 16 mmol/L, triglyceride level peaked at 2050 mg/dL, and lipase was 52 U/L. The β-hydroxybutyrate level was obtained and found to be elevated at 5.29 mmol/L - the original sample was centrifuged and the chylomicron layer removed prior to analysis due to interference from turbidity caused by lipemia again. The patient was treated with an insulin drip for euDKA and HTG with a reduction in the anion gap to 13 and triglycerides to 1400 mg/dL, within 24 hours. Her euDKA was thought to be precipitated by her respiratory tract infection in the setting of SGLT2 inhibitor use. The patient was seen by the endocrinology service and she was discharged on 40 units of insulin glargine at night, 12 units of insulin lispro with meals, and metformin 1000 mg two times a day. It was determined that all SGLT2 inhibitors should be discontinued indefinitely. She had close follow-up with endocrinology post discharge.&#39;</div>"
      ]
     },
     "metadata": {
      "application/vnd.databricks.v1+output": {
       "addedWidgets": {},
       "arguments": {},
       "data": "<div class=\"ansiout\">Out[76]: &#39;A 28-year-old female with a history of gestational diabetes mellitus diagnosed eight years prior to presentation and subsequent type two diabetes mellitus (T2DM), one prior episode of HTG-induced pancreatitis three years prior to presentation, associated with an acute hepatitis, and obesity with a body mass index (BMI) of 33.5 kg/m2, presented with a one-week history of polyuria, polydipsia, poor appetite, and vomiting. Two weeks prior to presentation, she was treated with a five-day course of amoxicillin for a respiratory tract infection. She was on metformin, glipizide, and dapagliflozin for T2DM and atorvastatin and gemfibrozil for HTG. She had been on dapagliflozin for six months at the time of presentation. Physical examination on presentation was significant for dry oral mucosa; significantly, her abdominal examination was benign with no tenderness, guarding, or rigidity. Pertinent laboratory findings on admission were: serum glucose 111 mg/dl, bicarbonate 18 mmol/l, anion gap 20, creatinine 0.4 mg/dL, triglycerides 508 mg/dL, total cholesterol 122 mg/dL, glycated hemoglobin (HbA1c) 10%, and venous pH 7.27. Serum lipase was normal at 43 U/L. Serum acetone levels could not be assessed as blood samples kept hemolyzing due to significant lipemia. The patient was initially admitted for starvation ketosis, as she reported poor oral intake for three days prior to admission. However, serum chemistry obtained six hours after presentation revealed her glucose was 186 mg/dL, the anion gap was still elevated at 21, serum bicarbonate was 16 mmol/L, triglyceride level peaked at 2050 mg/dL, and lipase was 52 U/L. The β-hydroxybutyrate level was obtained and found to be elevated at 5.29 mmol/L - the original sample was centrifuged and the chylomicron layer removed prior to analysis due to interference from turbidity caused by lipemia again. The patient was treated with an insulin drip for euDKA and HTG with a reduction in the anion gap to 13 and triglycerides to 1400 mg/dL, within 24 hours. Her euDKA was thought to be precipitated by her respiratory tract infection in the setting of SGLT2 inhibitor use. The patient was seen by the endocrinology service and she was discharged on 40 units of insulin glargine at night, 12 units of insulin lispro with meals, and metformin 1000 mg two times a day. It was determined that all SGLT2 inhibitors should be discontinued indefinitely. She had close follow-up with endocrinology post discharge.&#39;</div>",
       "datasetInfos": [],
       "removedWidgets": [],
       "type": "html"
      }
     },
     "output_type": "display_data"
    }
   ],
   "source": [
    "text = light_data['document'][0]\n",
    "\n",
    "text"
   ]
  },
  {
   "cell_type": "code",
   "execution_count": 0,
   "metadata": {
    "application/vnd.databricks.v1+cell": {
     "inputWidgets": {},
     "nuid": "86dc743a-5efb-4d9f-ae13-d0b95b03def8",
     "showTitle": false,
     "title": ""
    }
   },
   "outputs": [
    {
     "data": {
      "text/html": [
       "<style scoped>\n",
       "  .ansiout {\n",
       "    display: block;\n",
       "    unicode-bidi: embed;\n",
       "    white-space: pre-wrap;\n",
       "    word-wrap: break-word;\n",
       "    word-break: break-all;\n",
       "    font-family: \"Source Code Pro\", \"Menlo\", monospace;;\n",
       "    font-size: 13px;\n",
       "    color: #555;\n",
       "    margin-left: 4px;\n",
       "    line-height: 19px;\n",
       "  }\n",
       "</style>\n",
       "<div class=\"ansiout\"></div>"
      ]
     },
     "metadata": {
      "application/vnd.databricks.v1+output": {
       "addedWidgets": {},
       "arguments": {},
       "data": "<div class=\"ansiout\"></div>",
       "datasetInfos": [],
       "removedWidgets": [],
       "type": "html"
      }
     },
     "output_type": "display_data"
    }
   ],
   "source": [
    "light_pipeline_icd10 = LightPipeline(model_icd10)\n"
   ]
  },
  {
   "cell_type": "code",
   "execution_count": 0,
   "metadata": {
    "application/vnd.databricks.v1+cell": {
     "inputWidgets": {},
     "nuid": "477ef05c-1fd5-4dbc-8c47-e2dbda05afa2",
     "showTitle": false,
     "title": ""
    }
   },
   "outputs": [
    {
     "data": {
      "text/html": [
       "<style scoped>\n",
       "  .ansiout {\n",
       "    display: block;\n",
       "    unicode-bidi: embed;\n",
       "    white-space: pre-wrap;\n",
       "    word-wrap: break-word;\n",
       "    word-break: break-all;\n",
       "    font-family: \"Source Code Pro\", \"Menlo\", monospace;;\n",
       "    font-size: 13px;\n",
       "    color: #555;\n",
       "    margin-left: 4px;\n",
       "    line-height: 19px;\n",
       "  }\n",
       "</style>\n",
       "<div class=\"ansiout\"></div>"
      ]
     },
     "metadata": {
      "application/vnd.databricks.v1+output": {
       "addedWidgets": {},
       "arguments": {},
       "data": "<div class=\"ansiout\"></div>",
       "datasetInfos": [],
       "removedWidgets": [],
       "type": "html"
      }
     },
     "output_type": "display_data"
    }
   ],
   "source": [
    "import pandas as pd\n",
    "\n",
    "light_result = light_pipeline_icd10.annotate(text)\n",
    "\n",
    "df = pd.DataFrame(list(zip(light_result['ner_chunk'], light_result['icd10cm_code'])),\n",
    "                  columns = ['Problem','ICD10-CM-Code'])"
   ]
  },
  {
   "cell_type": "code",
   "execution_count": 0,
   "metadata": {
    "application/vnd.databricks.v1+cell": {
     "inputWidgets": {},
     "nuid": "67d9d759-a6f5-4f5c-8ec8-c2409dff9172",
     "showTitle": false,
     "title": ""
    }
   },
   "outputs": [
    {
     "data": {
      "text/html": [
       "<style scoped>\n",
       "  .ansiout {\n",
       "    display: block;\n",
       "    unicode-bidi: embed;\n",
       "    white-space: pre-wrap;\n",
       "    word-wrap: break-word;\n",
       "    word-break: break-all;\n",
       "    font-family: \"Source Code Pro\", \"Menlo\", monospace;;\n",
       "    font-size: 13px;\n",
       "    color: #555;\n",
       "    margin-left: 4px;\n",
       "    line-height: 19px;\n",
       "  }\n",
       "</style>\n",
       "<div class=\"ansiout\">Out[63]: </div>"
      ]
     },
     "metadata": {
      "application/vnd.databricks.v1+output": {
       "addedWidgets": {},
       "arguments": {},
       "data": "<div class=\"ansiout\">Out[63]: </div>",
       "datasetInfos": [],
       "removedWidgets": [],
       "type": "html"
      }
     },
     "output_type": "display_data"
    },
    {
     "data": {
      "text/html": [
       "<div>\n",
       "<style scoped>\n",
       "    .dataframe tbody tr th:only-of-type {\n",
       "        vertical-align: middle;\n",
       "    }\n",
       "\n",
       "    .dataframe tbody tr th {\n",
       "        vertical-align: top;\n",
       "    }\n",
       "\n",
       "    .dataframe thead th {\n",
       "        text-align: right;\n",
       "    }\n",
       "</style>\n",
       "<table border=\"1\" class=\"dataframe\">\n",
       "  <thead>\n",
       "    <tr style=\"text-align: right;\">\n",
       "      <th></th>\n",
       "      <th>Problem</th>\n",
       "      <th>ICD10-CM-Code</th>\n",
       "    </tr>\n",
       "  </thead>\n",
       "  <tbody>\n",
       "    <tr>\n",
       "      <th>0</th>\n",
       "      <td>gestational diabetes mellitus</td>\n",
       "      <td>P702</td>\n",
       "    </tr>\n",
       "    <tr>\n",
       "      <th>1</th>\n",
       "      <td>type two diabetes mellitus</td>\n",
       "      <td>E1142</td>\n",
       "    </tr>\n",
       "    <tr>\n",
       "      <th>2</th>\n",
       "      <td>T2DM</td>\n",
       "      <td>E1121</td>\n",
       "    </tr>\n",
       "    <tr>\n",
       "      <th>3</th>\n",
       "      <td>one prior episode of HTG-induced pancreatitis</td>\n",
       "      <td>K860</td>\n",
       "    </tr>\n",
       "    <tr>\n",
       "      <th>4</th>\n",
       "      <td>associated with an acute hepatitis</td>\n",
       "      <td>B172</td>\n",
       "    </tr>\n",
       "  </tbody>\n",
       "</table>\n",
       "</div>"
      ]
     },
     "metadata": {
      "application/vnd.databricks.v1+output": {
       "addedWidgets": {},
       "arguments": {},
       "data": "<div>\n<style scoped>\n    .dataframe tbody tr th:only-of-type {\n        vertical-align: middle;\n    }\n\n    .dataframe tbody tr th {\n        vertical-align: top;\n    }\n\n    .dataframe thead th {\n        text-align: right;\n    }\n</style>\n<table border=\"1\" class=\"dataframe\">\n  <thead>\n    <tr style=\"text-align: right;\">\n      <th></th>\n      <th>Problem</th>\n      <th>ICD10-CM-Code</th>\n    </tr>\n  </thead>\n  <tbody>\n    <tr>\n      <th>0</th>\n      <td>gestational diabetes mellitus</td>\n      <td>P702</td>\n    </tr>\n    <tr>\n      <th>1</th>\n      <td>type two diabetes mellitus</td>\n      <td>E1142</td>\n    </tr>\n    <tr>\n      <th>2</th>\n      <td>T2DM</td>\n      <td>E1121</td>\n    </tr>\n    <tr>\n      <th>3</th>\n      <td>one prior episode of HTG-induced pancreatitis</td>\n      <td>K860</td>\n    </tr>\n    <tr>\n      <th>4</th>\n      <td>associated with an acute hepatitis</td>\n      <td>B172</td>\n    </tr>\n  </tbody>\n</table>\n</div>",
       "datasetInfos": [],
       "removedWidgets": [],
       "textData": null,
       "type": "htmlSandbox"
      }
     },
     "output_type": "display_data"
    }
   ],
   "source": [
    "df.head()"
   ]
  },
  {
   "cell_type": "code",
   "execution_count": 0,
   "metadata": {
    "application/vnd.databricks.v1+cell": {
     "inputWidgets": {},
     "nuid": "b43684da-fb67-4e23-a659-298301010f9a",
     "showTitle": false,
     "title": ""
    }
   },
   "outputs": [
    {
     "data": {
      "text/html": [
       "<style scoped>\n",
       "  .ansiout {\n",
       "    display: block;\n",
       "    unicode-bidi: embed;\n",
       "    white-space: pre-wrap;\n",
       "    word-wrap: break-word;\n",
       "    word-break: break-all;\n",
       "    font-family: \"Source Code Pro\", \"Menlo\", monospace;;\n",
       "    font-size: 13px;\n",
       "    color: #555;\n",
       "    margin-left: 4px;\n",
       "    line-height: 19px;\n",
       "  }\n",
       "</style>\n",
       "<div class=\"ansiout\"></div>"
      ]
     },
     "metadata": {
      "application/vnd.databricks.v1+output": {
       "addedWidgets": {},
       "arguments": {},
       "data": "<div class=\"ansiout\"></div>",
       "datasetInfos": [],
       "removedWidgets": [],
       "type": "html"
      }
     },
     "output_type": "display_data"
    }
   ],
   "source": [
    "def get_codes (light_model, text, er_code):\n",
    "\n",
    "  full_light_result = light_model.fullAnnotate(text)\n",
    "\n",
    "  chunks = []\n",
    "  codes = []\n",
    "  begin = []\n",
    "  end = []\n",
    "  resolutions=[]\n",
    "\n",
    "  for chunk, code in zip(full_light_result[0]['ner_chunk'], full_light_result[0][er_code]):\n",
    "          \n",
    "      begin.append(chunk.begin)\n",
    "      end.append(chunk.end)\n",
    "      chunks.append(chunk.result)\n",
    "      codes.append(code.result) \n",
    "      resolutions.append(code.metadata['all_k_resolutions'])\n",
    "      \n",
    "  import pandas as pd\n",
    "\n",
    "  df = pd.DataFrame({'chunks':chunks, 'begin': begin, 'end':end, \n",
    "                    er_code:codes,\n",
    "                    'resolutions':resolutions})\n",
    "  \n",
    "  \n",
    "  return df\n"
   ]
  },
  {
   "cell_type": "code",
   "execution_count": 0,
   "metadata": {
    "application/vnd.databricks.v1+cell": {
     "inputWidgets": {},
     "nuid": "663a5049-9ab3-49f0-acb4-611afe90c71a",
     "showTitle": false,
     "title": ""
    }
   },
   "outputs": [
    {
     "data": {
      "text/html": [
       "<style scoped>\n",
       "  .ansiout {\n",
       "    display: block;\n",
       "    unicode-bidi: embed;\n",
       "    white-space: pre-wrap;\n",
       "    word-wrap: break-word;\n",
       "    word-break: break-all;\n",
       "    font-family: \"Source Code Pro\", \"Menlo\", monospace;;\n",
       "    font-size: 13px;\n",
       "    color: #555;\n",
       "    margin-left: 4px;\n",
       "    line-height: 19px;\n",
       "  }\n",
       "</style>\n",
       "<div class=\"ansiout\">Out[77]: </div>"
      ]
     },
     "metadata": {
      "application/vnd.databricks.v1+output": {
       "addedWidgets": {},
       "arguments": {},
       "data": "<div class=\"ansiout\">Out[77]: </div>",
       "datasetInfos": [],
       "removedWidgets": [],
       "type": "html"
      }
     },
     "output_type": "display_data"
    },
    {
     "data": {
      "text/html": [
       "<div>\n",
       "<style scoped>\n",
       "    .dataframe tbody tr th:only-of-type {\n",
       "        vertical-align: middle;\n",
       "    }\n",
       "\n",
       "    .dataframe tbody tr th {\n",
       "        vertical-align: top;\n",
       "    }\n",
       "\n",
       "    .dataframe thead th {\n",
       "        text-align: right;\n",
       "    }\n",
       "</style>\n",
       "<table border=\"1\" class=\"dataframe\">\n",
       "  <thead>\n",
       "    <tr style=\"text-align: right;\">\n",
       "      <th></th>\n",
       "      <th>chunks</th>\n",
       "      <th>begin</th>\n",
       "      <th>end</th>\n",
       "      <th>icd10cm_code</th>\n",
       "      <th>resolutions</th>\n",
       "    </tr>\n",
       "  </thead>\n",
       "  <tbody>\n",
       "    <tr>\n",
       "      <th>0</th>\n",
       "      <td>gestational diabetes mellitus</td>\n",
       "      <td>39</td>\n",
       "      <td>67</td>\n",
       "      <td>P702</td>\n",
       "      <td>Neonatal diabetes mellitus:::Type 2 diabetes mellitus with hyperglycemia:::Diabetes insipidus</td>\n",
       "    </tr>\n",
       "    <tr>\n",
       "      <th>1</th>\n",
       "      <td>type two diabetes mellitus</td>\n",
       "      <td>128</td>\n",
       "      <td>153</td>\n",
       "      <td>E1142</td>\n",
       "      <td>Type 2 diabetes mellitus with diabetic polyneuropathy:::Neonatal diabetes mellitus:::Diabetes in...</td>\n",
       "    </tr>\n",
       "    <tr>\n",
       "      <th>2</th>\n",
       "      <td>T2DM</td>\n",
       "      <td>156</td>\n",
       "      <td>159</td>\n",
       "      <td>E1121</td>\n",
       "      <td>Type 2 diabetes mellitus with diabetic nephropathy</td>\n",
       "    </tr>\n",
       "    <tr>\n",
       "      <th>3</th>\n",
       "      <td>one prior episode of HTG-induced pancreatitis</td>\n",
       "      <td>163</td>\n",
       "      <td>207</td>\n",
       "      <td>K860</td>\n",
       "      <td>Alcohol-induced chronic pancreatitis:::Manic episode, unspecified:::Bipolar disorder, current ep...</td>\n",
       "    </tr>\n",
       "    <tr>\n",
       "      <th>4</th>\n",
       "      <td>associated with an acute hepatitis</td>\n",
       "      <td>244</td>\n",
       "      <td>277</td>\n",
       "      <td>B172</td>\n",
       "      <td>Acute hepatitis E:::Acute viral hepatitis, unspecified:::Chronic hepatitis, unspecified:::Chroni...</td>\n",
       "    </tr>\n",
       "    <tr>\n",
       "      <th>5</th>\n",
       "      <td>obesity with a body mass index</td>\n",
       "      <td>284</td>\n",
       "      <td>313</td>\n",
       "      <td>Z6828</td>\n",
       "      <td>Body mass index (BMI) 28.0-28.9, adult:::Body mass index (BMI) 36.0-36.9, adult:::Body mass inde...</td>\n",
       "    </tr>\n",
       "    <tr>\n",
       "      <th>6</th>\n",
       "      <td>polyuria</td>\n",
       "      <td>373</td>\n",
       "      <td>380</td>\n",
       "      <td>R358</td>\n",
       "      <td>Other polyuria:::Polydipsia:::Generalized edema:::Bilious vomiting:::Bartter's syndrome</td>\n",
       "    </tr>\n",
       "    <tr>\n",
       "      <th>7</th>\n",
       "      <td>polydipsia</td>\n",
       "      <td>383</td>\n",
       "      <td>392</td>\n",
       "      <td>R631</td>\n",
       "      <td>Polydipsia:::Anhedonia:::Galactorrhea</td>\n",
       "    </tr>\n",
       "    <tr>\n",
       "      <th>8</th>\n",
       "      <td>poor appetite</td>\n",
       "      <td>395</td>\n",
       "      <td>407</td>\n",
       "      <td>R630</td>\n",
       "      <td>Anorexia:::Nutritional deficiency, unspecified:::Dysphagia, unspecified:::Nausea:::Decreased libido</td>\n",
       "    </tr>\n",
       "    <tr>\n",
       "      <th>9</th>\n",
       "      <td>vomiting</td>\n",
       "      <td>414</td>\n",
       "      <td>421</td>\n",
       "      <td>R1114</td>\n",
       "      <td>Bilious vomiting:::Vomiting without nausea:::Nausea</td>\n",
       "    </tr>\n",
       "    <tr>\n",
       "      <th>10</th>\n",
       "      <td>five-day course of amoxicillin for a respiratory tract infection</td>\n",
       "      <td>480</td>\n",
       "      <td>543</td>\n",
       "      <td>J00</td>\n",
       "      <td>Acute nasopharyngitis [common cold]:::Neonatal urinary tract infection:::Diseases of the respira...</td>\n",
       "    </tr>\n",
       "    <tr>\n",
       "      <th>11</th>\n",
       "      <td>T2DM</td>\n",
       "      <td>601</td>\n",
       "      <td>604</td>\n",
       "      <td>E1121</td>\n",
       "      <td>Type 2 diabetes mellitus with diabetic nephropathy</td>\n",
       "    </tr>\n",
       "    <tr>\n",
       "      <th>12</th>\n",
       "      <td>HTG</td>\n",
       "      <td>643</td>\n",
       "      <td>645</td>\n",
       "      <td>E781</td>\n",
       "      <td>Pure hyperglyceridemia:::Familial hypercholesterolemia:::Type 2 diabetes mellitus with diabetic ...</td>\n",
       "    </tr>\n",
       "    <tr>\n",
       "      <th>13</th>\n",
       "      <td>significant for dry oral mucosa</td>\n",
       "      <td>763</td>\n",
       "      <td>793</td>\n",
       "      <td>K136</td>\n",
       "      <td>Irritative hyperplasia of oral mucosa:::Leukoplakia of oral mucosa, including tongue:::Oral subm...</td>\n",
       "    </tr>\n",
       "    <tr>\n",
       "      <th>14</th>\n",
       "      <td>tenderness</td>\n",
       "      <td>856</td>\n",
       "      <td>865</td>\n",
       "      <td>R10815</td>\n",
       "      <td>Periumbilic abdominal tenderness:::Epigastric abdominal tenderness:::Periumbilic rebound abdomin...</td>\n",
       "    </tr>\n",
       "    <tr>\n",
       "      <th>15</th>\n",
       "      <td>guarding</td>\n",
       "      <td>868</td>\n",
       "      <td>875</td>\n",
       "      <td>R1083</td>\n",
       "      <td>Colic:::Scrotal pain:::Dysuria:::Periumbilic abdominal tenderness</td>\n",
       "    </tr>\n",
       "    <tr>\n",
       "      <th>16</th>\n",
       "      <td>rigidity</td>\n",
       "      <td>881</td>\n",
       "      <td>888</td>\n",
       "      <td>R1935</td>\n",
       "      <td>Periumbilic abdominal rigidity:::Generalized abdominal rigidity:::Epigastric abdominal rigidity:...</td>\n",
       "    </tr>\n",
       "    <tr>\n",
       "      <th>17</th>\n",
       "      <td>significant lipemia</td>\n",
       "      <td>1249</td>\n",
       "      <td>1267</td>\n",
       "      <td>E781</td>\n",
       "      <td>Pure hyperglyceridemia:::Postprocedural hypoinsulinemia:::Lipoprotein deficiency:::Glycosuria</td>\n",
       "    </tr>\n",
       "    <tr>\n",
       "      <th>18</th>\n",
       "      <td>initially admitted for starvation ketosis</td>\n",
       "      <td>1286</td>\n",
       "      <td>1326</td>\n",
       "      <td>E1111</td>\n",
       "      <td>Type 2 diabetes mellitus with ketoacidosis with coma:::Type 2 diabetes mellitus with hyperosmola...</td>\n",
       "    </tr>\n",
       "    <tr>\n",
       "      <th>19</th>\n",
       "      <td>poor oral intake</td>\n",
       "      <td>1345</td>\n",
       "      <td>1360</td>\n",
       "      <td>F5082</td>\n",
       "      <td>Avoidant/restrictive food intake disorder:::Nutritional deficiency, unspecified:::Dysphagia, ora...</td>\n",
       "    </tr>\n",
       "    <tr>\n",
       "      <th>20</th>\n",
       "      <td>elevated</td>\n",
       "      <td>1520</td>\n",
       "      <td>1527</td>\n",
       "      <td>E7841</td>\n",
       "      <td>Elevated Lipoprotein(a):::Elevated erythrocyte sedimentation rate:::Hyperaldosteronism, unspecif...</td>\n",
       "    </tr>\n",
       "    <tr>\n",
       "      <th>21</th>\n",
       "      <td>elevated</td>\n",
       "      <td>1690</td>\n",
       "      <td>1697</td>\n",
       "      <td>E7841</td>\n",
       "      <td>Elevated Lipoprotein(a):::Elevated erythrocyte sedimentation rate:::Hyperaldosteronism, unspecif...</td>\n",
       "    </tr>\n",
       "    <tr>\n",
       "      <th>22</th>\n",
       "      <td>interference from turbidity</td>\n",
       "      <td>1811</td>\n",
       "      <td>1837</td>\n",
       "      <td>M2656</td>\n",
       "      <td>Non-working side interference:::Fecal smearing:::Abnormal plasma viscosity:::Glare sensitivity</td>\n",
       "    </tr>\n",
       "    <tr>\n",
       "      <th>23</th>\n",
       "      <td>lipemia</td>\n",
       "      <td>1849</td>\n",
       "      <td>1855</td>\n",
       "      <td>R81</td>\n",
       "      <td>Glycosuria:::Pure hyperglyceridemia:::Hyperchylomicronemia</td>\n",
       "    </tr>\n",
       "    <tr>\n",
       "      <th>24</th>\n",
       "      <td>precipitated by her respiratory tract infection</td>\n",
       "      <td>2045</td>\n",
       "      <td>2091</td>\n",
       "      <td>J989</td>\n",
       "      <td>Respiratory disorder, unspecified:::Acute nasopharyngitis [common cold]:::Diseases of the respir...</td>\n",
       "    </tr>\n",
       "  </tbody>\n",
       "</table>\n",
       "</div>"
      ]
     },
     "metadata": {
      "application/vnd.databricks.v1+output": {
       "addedWidgets": {},
       "arguments": {},
       "data": "<div>\n<style scoped>\n    .dataframe tbody tr th:only-of-type {\n        vertical-align: middle;\n    }\n\n    .dataframe tbody tr th {\n        vertical-align: top;\n    }\n\n    .dataframe thead th {\n        text-align: right;\n    }\n</style>\n<table border=\"1\" class=\"dataframe\">\n  <thead>\n    <tr style=\"text-align: right;\">\n      <th></th>\n      <th>chunks</th>\n      <th>begin</th>\n      <th>end</th>\n      <th>icd10cm_code</th>\n      <th>resolutions</th>\n    </tr>\n  </thead>\n  <tbody>\n    <tr>\n      <th>0</th>\n      <td>gestational diabetes mellitus</td>\n      <td>39</td>\n      <td>67</td>\n      <td>P702</td>\n      <td>Neonatal diabetes mellitus:::Type 2 diabetes mellitus with hyperglycemia:::Diabetes insipidus</td>\n    </tr>\n    <tr>\n      <th>1</th>\n      <td>type two diabetes mellitus</td>\n      <td>128</td>\n      <td>153</td>\n      <td>E1142</td>\n      <td>Type 2 diabetes mellitus with diabetic polyneuropathy:::Neonatal diabetes mellitus:::Diabetes in...</td>\n    </tr>\n    <tr>\n      <th>2</th>\n      <td>T2DM</td>\n      <td>156</td>\n      <td>159</td>\n      <td>E1121</td>\n      <td>Type 2 diabetes mellitus with diabetic nephropathy</td>\n    </tr>\n    <tr>\n      <th>3</th>\n      <td>one prior episode of HTG-induced pancreatitis</td>\n      <td>163</td>\n      <td>207</td>\n      <td>K860</td>\n      <td>Alcohol-induced chronic pancreatitis:::Manic episode, unspecified:::Bipolar disorder, current ep...</td>\n    </tr>\n    <tr>\n      <th>4</th>\n      <td>associated with an acute hepatitis</td>\n      <td>244</td>\n      <td>277</td>\n      <td>B172</td>\n      <td>Acute hepatitis E:::Acute viral hepatitis, unspecified:::Chronic hepatitis, unspecified:::Chroni...</td>\n    </tr>\n    <tr>\n      <th>5</th>\n      <td>obesity with a body mass index</td>\n      <td>284</td>\n      <td>313</td>\n      <td>Z6828</td>\n      <td>Body mass index (BMI) 28.0-28.9, adult:::Body mass index (BMI) 36.0-36.9, adult:::Body mass inde...</td>\n    </tr>\n    <tr>\n      <th>6</th>\n      <td>polyuria</td>\n      <td>373</td>\n      <td>380</td>\n      <td>R358</td>\n      <td>Other polyuria:::Polydipsia:::Generalized edema:::Bilious vomiting:::Bartter's syndrome</td>\n    </tr>\n    <tr>\n      <th>7</th>\n      <td>polydipsia</td>\n      <td>383</td>\n      <td>392</td>\n      <td>R631</td>\n      <td>Polydipsia:::Anhedonia:::Galactorrhea</td>\n    </tr>\n    <tr>\n      <th>8</th>\n      <td>poor appetite</td>\n      <td>395</td>\n      <td>407</td>\n      <td>R630</td>\n      <td>Anorexia:::Nutritional deficiency, unspecified:::Dysphagia, unspecified:::Nausea:::Decreased libido</td>\n    </tr>\n    <tr>\n      <th>9</th>\n      <td>vomiting</td>\n      <td>414</td>\n      <td>421</td>\n      <td>R1114</td>\n      <td>Bilious vomiting:::Vomiting without nausea:::Nausea</td>\n    </tr>\n    <tr>\n      <th>10</th>\n      <td>five-day course of amoxicillin for a respiratory tract infection</td>\n      <td>480</td>\n      <td>543</td>\n      <td>J00</td>\n      <td>Acute nasopharyngitis [common cold]:::Neonatal urinary tract infection:::Diseases of the respira...</td>\n    </tr>\n    <tr>\n      <th>11</th>\n      <td>T2DM</td>\n      <td>601</td>\n      <td>604</td>\n      <td>E1121</td>\n      <td>Type 2 diabetes mellitus with diabetic nephropathy</td>\n    </tr>\n    <tr>\n      <th>12</th>\n      <td>HTG</td>\n      <td>643</td>\n      <td>645</td>\n      <td>E781</td>\n      <td>Pure hyperglyceridemia:::Familial hypercholesterolemia:::Type 2 diabetes mellitus with diabetic ...</td>\n    </tr>\n    <tr>\n      <th>13</th>\n      <td>significant for dry oral mucosa</td>\n      <td>763</td>\n      <td>793</td>\n      <td>K136</td>\n      <td>Irritative hyperplasia of oral mucosa:::Leukoplakia of oral mucosa, including tongue:::Oral subm...</td>\n    </tr>\n    <tr>\n      <th>14</th>\n      <td>tenderness</td>\n      <td>856</td>\n      <td>865</td>\n      <td>R10815</td>\n      <td>Periumbilic abdominal tenderness:::Epigastric abdominal tenderness:::Periumbilic rebound abdomin...</td>\n    </tr>\n    <tr>\n      <th>15</th>\n      <td>guarding</td>\n      <td>868</td>\n      <td>875</td>\n      <td>R1083</td>\n      <td>Colic:::Scrotal pain:::Dysuria:::Periumbilic abdominal tenderness</td>\n    </tr>\n    <tr>\n      <th>16</th>\n      <td>rigidity</td>\n      <td>881</td>\n      <td>888</td>\n      <td>R1935</td>\n      <td>Periumbilic abdominal rigidity:::Generalized abdominal rigidity:::Epigastric abdominal rigidity:...</td>\n    </tr>\n    <tr>\n      <th>17</th>\n      <td>significant lipemia</td>\n      <td>1249</td>\n      <td>1267</td>\n      <td>E781</td>\n      <td>Pure hyperglyceridemia:::Postprocedural hypoinsulinemia:::Lipoprotein deficiency:::Glycosuria</td>\n    </tr>\n    <tr>\n      <th>18</th>\n      <td>initially admitted for starvation ketosis</td>\n      <td>1286</td>\n      <td>1326</td>\n      <td>E1111</td>\n      <td>Type 2 diabetes mellitus with ketoacidosis with coma:::Type 2 diabetes mellitus with hyperosmola...</td>\n    </tr>\n    <tr>\n      <th>19</th>\n      <td>poor oral intake</td>\n      <td>1345</td>\n      <td>1360</td>\n      <td>F5082</td>\n      <td>Avoidant/restrictive food intake disorder:::Nutritional deficiency, unspecified:::Dysphagia, ora...</td>\n    </tr>\n    <tr>\n      <th>20</th>\n      <td>elevated</td>\n      <td>1520</td>\n      <td>1527</td>\n      <td>E7841</td>\n      <td>Elevated Lipoprotein(a):::Elevated erythrocyte sedimentation rate:::Hyperaldosteronism, unspecif...</td>\n    </tr>\n    <tr>\n      <th>21</th>\n      <td>elevated</td>\n      <td>1690</td>\n      <td>1697</td>\n      <td>E7841</td>\n      <td>Elevated Lipoprotein(a):::Elevated erythrocyte sedimentation rate:::Hyperaldosteronism, unspecif...</td>\n    </tr>\n    <tr>\n      <th>22</th>\n      <td>interference from turbidity</td>\n      <td>1811</td>\n      <td>1837</td>\n      <td>M2656</td>\n      <td>Non-working side interference:::Fecal smearing:::Abnormal plasma viscosity:::Glare sensitivity</td>\n    </tr>\n    <tr>\n      <th>23</th>\n      <td>lipemia</td>\n      <td>1849</td>\n      <td>1855</td>\n      <td>R81</td>\n      <td>Glycosuria:::Pure hyperglyceridemia:::Hyperchylomicronemia</td>\n    </tr>\n    <tr>\n      <th>24</th>\n      <td>precipitated by her respiratory tract infection</td>\n      <td>2045</td>\n      <td>2091</td>\n      <td>J989</td>\n      <td>Respiratory disorder, unspecified:::Acute nasopharyngitis [common cold]:::Diseases of the respir...</td>\n    </tr>\n  </tbody>\n</table>\n</div>",
       "datasetInfos": [],
       "removedWidgets": [],
       "textData": null,
       "type": "htmlSandbox"
      }
     },
     "output_type": "display_data"
    }
   ],
   "source": [
    "df = get_codes (light_pipeline_icd10, text, 'icd10cm_code')\n",
    "\n",
    "df"
   ]
  },
  {
   "cell_type": "code",
   "execution_count": 0,
   "metadata": {
    "application/vnd.databricks.v1+cell": {
     "inputWidgets": {},
     "nuid": "948a8b1b-cf5f-4858-a716-1f181afb20cf",
     "showTitle": false,
     "title": ""
    }
   },
   "outputs": [
    {
     "data": {
      "text/html": [
       "<style scoped>\n",
       "  .ansiout {\n",
       "    display: block;\n",
       "    unicode-bidi: embed;\n",
       "    white-space: pre-wrap;\n",
       "    word-wrap: break-word;\n",
       "    word-break: break-all;\n",
       "    font-family: \"Source Code Pro\", \"Menlo\", monospace;;\n",
       "    font-size: 13px;\n",
       "    color: #555;\n",
       "    margin-left: 4px;\n",
       "    line-height: 19px;\n",
       "  }\n",
       "</style>\n",
       "<div class=\"ansiout\">Out[66]: </div>"
      ]
     },
     "metadata": {
      "application/vnd.databricks.v1+output": {
       "addedWidgets": {},
       "arguments": {},
       "data": "<div class=\"ansiout\">Out[66]: </div>",
       "datasetInfos": [],
       "removedWidgets": [],
       "type": "html"
      }
     },
     "output_type": "display_data"
    },
    {
     "data": {
      "text/html": [
       "<div>\n",
       "<style scoped>\n",
       "    .dataframe tbody tr th:only-of-type {\n",
       "        vertical-align: middle;\n",
       "    }\n",
       "\n",
       "    .dataframe tbody tr th {\n",
       "        vertical-align: top;\n",
       "    }\n",
       "\n",
       "    .dataframe thead th {\n",
       "        text-align: right;\n",
       "    }\n",
       "</style>\n",
       "<table border=\"1\" class=\"dataframe\">\n",
       "  <thead>\n",
       "    <tr style=\"text-align: right;\">\n",
       "      <th></th>\n",
       "      <th>chunks</th>\n",
       "      <th>begin</th>\n",
       "      <th>end</th>\n",
       "      <th>icd10cm_code</th>\n",
       "      <th>resolutions</th>\n",
       "    </tr>\n",
       "  </thead>\n",
       "  <tbody>\n",
       "    <tr>\n",
       "      <th>0</th>\n",
       "      <td>gestational diabetes mellitus</td>\n",
       "      <td>39</td>\n",
       "      <td>67</td>\n",
       "      <td>P702</td>\n",
       "      <td>Neonatal diabetes mellitus:::Type 2 diabetes mellitus with hyperglycemia:::Diabetes insipidus</td>\n",
       "    </tr>\n",
       "    <tr>\n",
       "      <th>1</th>\n",
       "      <td>type two diabetes mellitus</td>\n",
       "      <td>128</td>\n",
       "      <td>153</td>\n",
       "      <td>E1142</td>\n",
       "      <td>Type 2 diabetes mellitus with diabetic polyneuropathy:::Neonatal diabetes mellitus:::Diabetes in...</td>\n",
       "    </tr>\n",
       "    <tr>\n",
       "      <th>2</th>\n",
       "      <td>T2DM</td>\n",
       "      <td>156</td>\n",
       "      <td>159</td>\n",
       "      <td>E1121</td>\n",
       "      <td>Type 2 diabetes mellitus with diabetic nephropathy</td>\n",
       "    </tr>\n",
       "    <tr>\n",
       "      <th>3</th>\n",
       "      <td>one prior episode of HTG-induced pancreatitis</td>\n",
       "      <td>163</td>\n",
       "      <td>207</td>\n",
       "      <td>K860</td>\n",
       "      <td>Alcohol-induced chronic pancreatitis:::Manic episode, unspecified:::Bipolar disorder, current ep...</td>\n",
       "    </tr>\n",
       "    <tr>\n",
       "      <th>4</th>\n",
       "      <td>associated with an acute hepatitis</td>\n",
       "      <td>244</td>\n",
       "      <td>277</td>\n",
       "      <td>B172</td>\n",
       "      <td>Acute hepatitis E:::Acute viral hepatitis, unspecified:::Chronic hepatitis, unspecified:::Chroni...</td>\n",
       "    </tr>\n",
       "    <tr>\n",
       "      <th>5</th>\n",
       "      <td>obesity with a body mass index</td>\n",
       "      <td>284</td>\n",
       "      <td>313</td>\n",
       "      <td>Z6828</td>\n",
       "      <td>Body mass index (BMI) 28.0-28.9, adult:::Body mass index (BMI) 36.0-36.9, adult:::Body mass inde...</td>\n",
       "    </tr>\n",
       "    <tr>\n",
       "      <th>6</th>\n",
       "      <td>polyuria</td>\n",
       "      <td>373</td>\n",
       "      <td>380</td>\n",
       "      <td>R358</td>\n",
       "      <td>Other polyuria:::Polydipsia:::Generalized edema:::Bilious vomiting:::Bartter's syndrome</td>\n",
       "    </tr>\n",
       "    <tr>\n",
       "      <th>7</th>\n",
       "      <td>polydipsia</td>\n",
       "      <td>383</td>\n",
       "      <td>392</td>\n",
       "      <td>R631</td>\n",
       "      <td>Polydipsia:::Anhedonia:::Galactorrhea</td>\n",
       "    </tr>\n",
       "    <tr>\n",
       "      <th>8</th>\n",
       "      <td>poor appetite</td>\n",
       "      <td>395</td>\n",
       "      <td>407</td>\n",
       "      <td>R630</td>\n",
       "      <td>Anorexia:::Nutritional deficiency, unspecified:::Dysphagia, unspecified:::Nausea:::Decreased libido</td>\n",
       "    </tr>\n",
       "    <tr>\n",
       "      <th>9</th>\n",
       "      <td>vomiting</td>\n",
       "      <td>414</td>\n",
       "      <td>421</td>\n",
       "      <td>R1114</td>\n",
       "      <td>Bilious vomiting:::Vomiting without nausea:::Nausea</td>\n",
       "    </tr>\n",
       "    <tr>\n",
       "      <th>10</th>\n",
       "      <td>five-day course of amoxicillin for a respiratory tract infection</td>\n",
       "      <td>480</td>\n",
       "      <td>543</td>\n",
       "      <td>J00</td>\n",
       "      <td>Acute nasopharyngitis [common cold]:::Neonatal urinary tract infection:::Diseases of the respira...</td>\n",
       "    </tr>\n",
       "    <tr>\n",
       "      <th>11</th>\n",
       "      <td>T2DM</td>\n",
       "      <td>601</td>\n",
       "      <td>604</td>\n",
       "      <td>E1121</td>\n",
       "      <td>Type 2 diabetes mellitus with diabetic nephropathy</td>\n",
       "    </tr>\n",
       "    <tr>\n",
       "      <th>12</th>\n",
       "      <td>HTG</td>\n",
       "      <td>643</td>\n",
       "      <td>645</td>\n",
       "      <td>E781</td>\n",
       "      <td>Pure hyperglyceridemia:::Familial hypercholesterolemia:::Type 2 diabetes mellitus with diabetic ...</td>\n",
       "    </tr>\n",
       "    <tr>\n",
       "      <th>13</th>\n",
       "      <td>significant for dry oral mucosa</td>\n",
       "      <td>763</td>\n",
       "      <td>793</td>\n",
       "      <td>K136</td>\n",
       "      <td>Irritative hyperplasia of oral mucosa:::Leukoplakia of oral mucosa, including tongue:::Oral subm...</td>\n",
       "    </tr>\n",
       "    <tr>\n",
       "      <th>14</th>\n",
       "      <td>tenderness</td>\n",
       "      <td>856</td>\n",
       "      <td>865</td>\n",
       "      <td>R10815</td>\n",
       "      <td>Periumbilic abdominal tenderness:::Epigastric abdominal tenderness:::Periumbilic rebound abdomin...</td>\n",
       "    </tr>\n",
       "    <tr>\n",
       "      <th>15</th>\n",
       "      <td>guarding</td>\n",
       "      <td>868</td>\n",
       "      <td>875</td>\n",
       "      <td>R1083</td>\n",
       "      <td>Colic:::Scrotal pain:::Dysuria:::Periumbilic abdominal tenderness</td>\n",
       "    </tr>\n",
       "    <tr>\n",
       "      <th>16</th>\n",
       "      <td>rigidity</td>\n",
       "      <td>881</td>\n",
       "      <td>888</td>\n",
       "      <td>R1935</td>\n",
       "      <td>Periumbilic abdominal rigidity:::Generalized abdominal rigidity:::Epigastric abdominal rigidity:...</td>\n",
       "    </tr>\n",
       "    <tr>\n",
       "      <th>17</th>\n",
       "      <td>significant lipemia</td>\n",
       "      <td>1249</td>\n",
       "      <td>1267</td>\n",
       "      <td>E781</td>\n",
       "      <td>Pure hyperglyceridemia:::Postprocedural hypoinsulinemia:::Lipoprotein deficiency:::Glycosuria</td>\n",
       "    </tr>\n",
       "    <tr>\n",
       "      <th>18</th>\n",
       "      <td>initially admitted for starvation ketosis</td>\n",
       "      <td>1286</td>\n",
       "      <td>1326</td>\n",
       "      <td>E1111</td>\n",
       "      <td>Type 2 diabetes mellitus with ketoacidosis with coma:::Type 2 diabetes mellitus with hyperosmola...</td>\n",
       "    </tr>\n",
       "    <tr>\n",
       "      <th>19</th>\n",
       "      <td>poor oral intake</td>\n",
       "      <td>1345</td>\n",
       "      <td>1360</td>\n",
       "      <td>F5082</td>\n",
       "      <td>Avoidant/restrictive food intake disorder:::Nutritional deficiency, unspecified:::Dysphagia, ora...</td>\n",
       "    </tr>\n",
       "    <tr>\n",
       "      <th>20</th>\n",
       "      <td>elevated</td>\n",
       "      <td>1520</td>\n",
       "      <td>1527</td>\n",
       "      <td>E7841</td>\n",
       "      <td>Elevated Lipoprotein(a):::Elevated erythrocyte sedimentation rate:::Hyperaldosteronism, unspecif...</td>\n",
       "    </tr>\n",
       "    <tr>\n",
       "      <th>21</th>\n",
       "      <td>elevated</td>\n",
       "      <td>1690</td>\n",
       "      <td>1697</td>\n",
       "      <td>E7841</td>\n",
       "      <td>Elevated Lipoprotein(a):::Elevated erythrocyte sedimentation rate:::Hyperaldosteronism, unspecif...</td>\n",
       "    </tr>\n",
       "    <tr>\n",
       "      <th>22</th>\n",
       "      <td>interference from turbidity</td>\n",
       "      <td>1811</td>\n",
       "      <td>1837</td>\n",
       "      <td>M2656</td>\n",
       "      <td>Non-working side interference:::Fecal smearing:::Abnormal plasma viscosity:::Glare sensitivity</td>\n",
       "    </tr>\n",
       "    <tr>\n",
       "      <th>23</th>\n",
       "      <td>lipemia</td>\n",
       "      <td>1849</td>\n",
       "      <td>1855</td>\n",
       "      <td>R81</td>\n",
       "      <td>Glycosuria:::Pure hyperglyceridemia:::Hyperchylomicronemia</td>\n",
       "    </tr>\n",
       "    <tr>\n",
       "      <th>24</th>\n",
       "      <td>precipitated by her respiratory tract infection</td>\n",
       "      <td>2045</td>\n",
       "      <td>2091</td>\n",
       "      <td>J989</td>\n",
       "      <td>Respiratory disorder, unspecified:::Acute nasopharyngitis [common cold]:::Diseases of the respir...</td>\n",
       "    </tr>\n",
       "  </tbody>\n",
       "</table>\n",
       "</div>"
      ]
     },
     "metadata": {
      "application/vnd.databricks.v1+output": {
       "addedWidgets": {},
       "arguments": {},
       "data": "<div>\n<style scoped>\n    .dataframe tbody tr th:only-of-type {\n        vertical-align: middle;\n    }\n\n    .dataframe tbody tr th {\n        vertical-align: top;\n    }\n\n    .dataframe thead th {\n        text-align: right;\n    }\n</style>\n<table border=\"1\" class=\"dataframe\">\n  <thead>\n    <tr style=\"text-align: right;\">\n      <th></th>\n      <th>chunks</th>\n      <th>begin</th>\n      <th>end</th>\n      <th>icd10cm_code</th>\n      <th>resolutions</th>\n    </tr>\n  </thead>\n  <tbody>\n    <tr>\n      <th>0</th>\n      <td>gestational diabetes mellitus</td>\n      <td>39</td>\n      <td>67</td>\n      <td>P702</td>\n      <td>Neonatal diabetes mellitus:::Type 2 diabetes mellitus with hyperglycemia:::Diabetes insipidus</td>\n    </tr>\n    <tr>\n      <th>1</th>\n      <td>type two diabetes mellitus</td>\n      <td>128</td>\n      <td>153</td>\n      <td>E1142</td>\n      <td>Type 2 diabetes mellitus with diabetic polyneuropathy:::Neonatal diabetes mellitus:::Diabetes in...</td>\n    </tr>\n    <tr>\n      <th>2</th>\n      <td>T2DM</td>\n      <td>156</td>\n      <td>159</td>\n      <td>E1121</td>\n      <td>Type 2 diabetes mellitus with diabetic nephropathy</td>\n    </tr>\n    <tr>\n      <th>3</th>\n      <td>one prior episode of HTG-induced pancreatitis</td>\n      <td>163</td>\n      <td>207</td>\n      <td>K860</td>\n      <td>Alcohol-induced chronic pancreatitis:::Manic episode, unspecified:::Bipolar disorder, current ep...</td>\n    </tr>\n    <tr>\n      <th>4</th>\n      <td>associated with an acute hepatitis</td>\n      <td>244</td>\n      <td>277</td>\n      <td>B172</td>\n      <td>Acute hepatitis E:::Acute viral hepatitis, unspecified:::Chronic hepatitis, unspecified:::Chroni...</td>\n    </tr>\n    <tr>\n      <th>5</th>\n      <td>obesity with a body mass index</td>\n      <td>284</td>\n      <td>313</td>\n      <td>Z6828</td>\n      <td>Body mass index (BMI) 28.0-28.9, adult:::Body mass index (BMI) 36.0-36.9, adult:::Body mass inde...</td>\n    </tr>\n    <tr>\n      <th>6</th>\n      <td>polyuria</td>\n      <td>373</td>\n      <td>380</td>\n      <td>R358</td>\n      <td>Other polyuria:::Polydipsia:::Generalized edema:::Bilious vomiting:::Bartter's syndrome</td>\n    </tr>\n    <tr>\n      <th>7</th>\n      <td>polydipsia</td>\n      <td>383</td>\n      <td>392</td>\n      <td>R631</td>\n      <td>Polydipsia:::Anhedonia:::Galactorrhea</td>\n    </tr>\n    <tr>\n      <th>8</th>\n      <td>poor appetite</td>\n      <td>395</td>\n      <td>407</td>\n      <td>R630</td>\n      <td>Anorexia:::Nutritional deficiency, unspecified:::Dysphagia, unspecified:::Nausea:::Decreased libido</td>\n    </tr>\n    <tr>\n      <th>9</th>\n      <td>vomiting</td>\n      <td>414</td>\n      <td>421</td>\n      <td>R1114</td>\n      <td>Bilious vomiting:::Vomiting without nausea:::Nausea</td>\n    </tr>\n    <tr>\n      <th>10</th>\n      <td>five-day course of amoxicillin for a respiratory tract infection</td>\n      <td>480</td>\n      <td>543</td>\n      <td>J00</td>\n      <td>Acute nasopharyngitis [common cold]:::Neonatal urinary tract infection:::Diseases of the respira...</td>\n    </tr>\n    <tr>\n      <th>11</th>\n      <td>T2DM</td>\n      <td>601</td>\n      <td>604</td>\n      <td>E1121</td>\n      <td>Type 2 diabetes mellitus with diabetic nephropathy</td>\n    </tr>\n    <tr>\n      <th>12</th>\n      <td>HTG</td>\n      <td>643</td>\n      <td>645</td>\n      <td>E781</td>\n      <td>Pure hyperglyceridemia:::Familial hypercholesterolemia:::Type 2 diabetes mellitus with diabetic ...</td>\n    </tr>\n    <tr>\n      <th>13</th>\n      <td>significant for dry oral mucosa</td>\n      <td>763</td>\n      <td>793</td>\n      <td>K136</td>\n      <td>Irritative hyperplasia of oral mucosa:::Leukoplakia of oral mucosa, including tongue:::Oral subm...</td>\n    </tr>\n    <tr>\n      <th>14</th>\n      <td>tenderness</td>\n      <td>856</td>\n      <td>865</td>\n      <td>R10815</td>\n      <td>Periumbilic abdominal tenderness:::Epigastric abdominal tenderness:::Periumbilic rebound abdomin...</td>\n    </tr>\n    <tr>\n      <th>15</th>\n      <td>guarding</td>\n      <td>868</td>\n      <td>875</td>\n      <td>R1083</td>\n      <td>Colic:::Scrotal pain:::Dysuria:::Periumbilic abdominal tenderness</td>\n    </tr>\n    <tr>\n      <th>16</th>\n      <td>rigidity</td>\n      <td>881</td>\n      <td>888</td>\n      <td>R1935</td>\n      <td>Periumbilic abdominal rigidity:::Generalized abdominal rigidity:::Epigastric abdominal rigidity:...</td>\n    </tr>\n    <tr>\n      <th>17</th>\n      <td>significant lipemia</td>\n      <td>1249</td>\n      <td>1267</td>\n      <td>E781</td>\n      <td>Pure hyperglyceridemia:::Postprocedural hypoinsulinemia:::Lipoprotein deficiency:::Glycosuria</td>\n    </tr>\n    <tr>\n      <th>18</th>\n      <td>initially admitted for starvation ketosis</td>\n      <td>1286</td>\n      <td>1326</td>\n      <td>E1111</td>\n      <td>Type 2 diabetes mellitus with ketoacidosis with coma:::Type 2 diabetes mellitus with hyperosmola...</td>\n    </tr>\n    <tr>\n      <th>19</th>\n      <td>poor oral intake</td>\n      <td>1345</td>\n      <td>1360</td>\n      <td>F5082</td>\n      <td>Avoidant/restrictive food intake disorder:::Nutritional deficiency, unspecified:::Dysphagia, ora...</td>\n    </tr>\n    <tr>\n      <th>20</th>\n      <td>elevated</td>\n      <td>1520</td>\n      <td>1527</td>\n      <td>E7841</td>\n      <td>Elevated Lipoprotein(a):::Elevated erythrocyte sedimentation rate:::Hyperaldosteronism, unspecif...</td>\n    </tr>\n    <tr>\n      <th>21</th>\n      <td>elevated</td>\n      <td>1690</td>\n      <td>1697</td>\n      <td>E7841</td>\n      <td>Elevated Lipoprotein(a):::Elevated erythrocyte sedimentation rate:::Hyperaldosteronism, unspecif...</td>\n    </tr>\n    <tr>\n      <th>22</th>\n      <td>interference from turbidity</td>\n      <td>1811</td>\n      <td>1837</td>\n      <td>M2656</td>\n      <td>Non-working side interference:::Fecal smearing:::Abnormal plasma viscosity:::Glare sensitivity</td>\n    </tr>\n    <tr>\n      <th>23</th>\n      <td>lipemia</td>\n      <td>1849</td>\n      <td>1855</td>\n      <td>R81</td>\n      <td>Glycosuria:::Pure hyperglyceridemia:::Hyperchylomicronemia</td>\n    </tr>\n    <tr>\n      <th>24</th>\n      <td>precipitated by her respiratory tract infection</td>\n      <td>2045</td>\n      <td>2091</td>\n      <td>J989</td>\n      <td>Respiratory disorder, unspecified:::Acute nasopharyngitis [common cold]:::Diseases of the respir...</td>\n    </tr>\n  </tbody>\n</table>\n</div>",
       "datasetInfos": [],
       "removedWidgets": [],
       "textData": null,
       "type": "htmlSandbox"
      }
     },
     "output_type": "display_data"
    }
   ],
   "source": [
    "df = get_codes (light_pipeline_icd10, text, 'icd10cm_code')\n",
    "\n",
    "df"
   ]
  },
  {
   "cell_type": "code",
   "execution_count": 0,
   "metadata": {
    "application/vnd.databricks.v1+cell": {
     "inputWidgets": {},
     "nuid": "945e7b15-09e8-4bc8-9641-6af976bd24ea",
     "showTitle": false,
     "title": ""
    }
   },
   "outputs": [
    {
     "data": {
      "text/html": [
       "<style scoped>\n",
       "  .ansiout {\n",
       "    display: block;\n",
       "    unicode-bidi: embed;\n",
       "    white-space: pre-wrap;\n",
       "    word-wrap: break-word;\n",
       "    word-break: break-all;\n",
       "    font-family: \"Source Code Pro\", \"Menlo\", monospace;;\n",
       "    font-size: 13px;\n",
       "    color: #555;\n",
       "    margin-left: 4px;\n",
       "    line-height: 19px;\n",
       "  }\n",
       "</style>\n",
       "<div class=\"ansiout\">Out[67]: </div>"
      ]
     },
     "metadata": {
      "application/vnd.databricks.v1+output": {
       "addedWidgets": {},
       "arguments": {},
       "data": "<div class=\"ansiout\">Out[67]: </div>",
       "datasetInfos": [],
       "removedWidgets": [],
       "type": "html"
      }
     },
     "output_type": "display_data"
    },
    {
     "data": {
      "text/html": [
       "<div>\n",
       "<style scoped>\n",
       "    .dataframe tbody tr th:only-of-type {\n",
       "        vertical-align: middle;\n",
       "    }\n",
       "\n",
       "    .dataframe tbody tr th {\n",
       "        vertical-align: top;\n",
       "    }\n",
       "\n",
       "    .dataframe thead th {\n",
       "        text-align: right;\n",
       "    }\n",
       "</style>\n",
       "<table border=\"1\" class=\"dataframe\">\n",
       "  <thead>\n",
       "    <tr style=\"text-align: right;\">\n",
       "      <th></th>\n",
       "      <th>chunk</th>\n",
       "      <th>entity</th>\n",
       "      <th>resolved_text</th>\n",
       "      <th>code</th>\n",
       "      <th>cms</th>\n",
       "    </tr>\n",
       "  </thead>\n",
       "  <tbody>\n",
       "    <tr>\n",
       "      <th>0</th>\n",
       "      <td>type two diabetes mellitus</td>\n",
       "      <td>PROBLEM</td>\n",
       "      <td>Type 2 diabetes mellitus with diabetic polyneuropathy</td>\n",
       "      <td>E1142</td>\n",
       "      <td>Type 2 diabetes mellitus with diabetic polyneuropathy:::Neonatal diabetes mellitus:::Diabetes in...</td>\n",
       "    </tr>\n",
       "    <tr>\n",
       "      <th>1</th>\n",
       "      <td>lipemia</td>\n",
       "      <td>PROBLEM</td>\n",
       "      <td>Glycosuria</td>\n",
       "      <td>R81</td>\n",
       "      <td>Glycosuria:::Pure hyperglyceridemia:::Hyperchylomicronemia</td>\n",
       "    </tr>\n",
       "    <tr>\n",
       "      <th>2</th>\n",
       "      <td>precipitated by her respiratory tract infection</td>\n",
       "      <td>PROBLEM</td>\n",
       "      <td>Respiratory disorder, unspecified</td>\n",
       "      <td>J989</td>\n",
       "      <td>Respiratory disorder, unspecified:::Acute nasopharyngitis [common cold]:::Diseases of the respir...</td>\n",
       "    </tr>\n",
       "    <tr>\n",
       "      <th>3</th>\n",
       "      <td>initially admitted for starvation ketosis</td>\n",
       "      <td>PROBLEM</td>\n",
       "      <td>Type 2 diabetes mellitus with ketoacidosis with coma</td>\n",
       "      <td>E1111</td>\n",
       "      <td>Type 2 diabetes mellitus with ketoacidosis with coma:::Type 2 diabetes mellitus with hyperosmola...</td>\n",
       "    </tr>\n",
       "    <tr>\n",
       "      <th>4</th>\n",
       "      <td>gestational diabetes mellitus</td>\n",
       "      <td>PROBLEM</td>\n",
       "      <td>Neonatal diabetes mellitus</td>\n",
       "      <td>P702</td>\n",
       "      <td>Neonatal diabetes mellitus:::Type 2 diabetes mellitus with hyperglycemia:::Diabetes insipidus</td>\n",
       "    </tr>\n",
       "    <tr>\n",
       "      <th>5</th>\n",
       "      <td>vomiting</td>\n",
       "      <td>PROBLEM</td>\n",
       "      <td>Bilious vomiting</td>\n",
       "      <td>R1114</td>\n",
       "      <td>Bilious vomiting:::Vomiting without nausea:::Nausea</td>\n",
       "    </tr>\n",
       "    <tr>\n",
       "      <th>6</th>\n",
       "      <td>polydipsia</td>\n",
       "      <td>PROBLEM</td>\n",
       "      <td>Polydipsia</td>\n",
       "      <td>R631</td>\n",
       "      <td>Polydipsia:::Anhedonia:::Galactorrhea</td>\n",
       "    </tr>\n",
       "    <tr>\n",
       "      <th>7</th>\n",
       "      <td>elevated</td>\n",
       "      <td>PROBLEM</td>\n",
       "      <td>Elevated Lipoprotein(a)</td>\n",
       "      <td>E7841</td>\n",
       "      <td>Elevated Lipoprotein(a):::Elevated erythrocyte sedimentation rate:::Hyperaldosteronism, unspecif...</td>\n",
       "    </tr>\n",
       "    <tr>\n",
       "      <th>8</th>\n",
       "      <td>significant for dry oral mucosa</td>\n",
       "      <td>PROBLEM</td>\n",
       "      <td>Irritative hyperplasia of oral mucosa</td>\n",
       "      <td>K136</td>\n",
       "      <td>Irritative hyperplasia of oral mucosa:::Leukoplakia of oral mucosa, including tongue:::Oral subm...</td>\n",
       "    </tr>\n",
       "    <tr>\n",
       "      <th>9</th>\n",
       "      <td>poor appetite</td>\n",
       "      <td>PROBLEM</td>\n",
       "      <td>Anorexia</td>\n",
       "      <td>R630</td>\n",
       "      <td>Anorexia:::Nutritional deficiency, unspecified:::Dysphagia, unspecified:::Nausea:::Decreased libido</td>\n",
       "    </tr>\n",
       "    <tr>\n",
       "      <th>10</th>\n",
       "      <td>five-day course of amoxicillin for a respiratory tract infection</td>\n",
       "      <td>PROBLEM</td>\n",
       "      <td>Acute nasopharyngitis [common cold]</td>\n",
       "      <td>J00</td>\n",
       "      <td>Acute nasopharyngitis [common cold]:::Neonatal urinary tract infection:::Diseases of the respira...</td>\n",
       "    </tr>\n",
       "    <tr>\n",
       "      <th>11</th>\n",
       "      <td>rigidity</td>\n",
       "      <td>PROBLEM</td>\n",
       "      <td>Periumbilic abdominal rigidity</td>\n",
       "      <td>R1935</td>\n",
       "      <td>Periumbilic abdominal rigidity:::Generalized abdominal rigidity:::Epigastric abdominal rigidity:...</td>\n",
       "    </tr>\n",
       "    <tr>\n",
       "      <th>12</th>\n",
       "      <td>guarding</td>\n",
       "      <td>PROBLEM</td>\n",
       "      <td>Colic</td>\n",
       "      <td>R1083</td>\n",
       "      <td>Colic:::Scrotal pain:::Dysuria:::Periumbilic abdominal tenderness</td>\n",
       "    </tr>\n",
       "    <tr>\n",
       "      <th>13</th>\n",
       "      <td>associated with an acute hepatitis</td>\n",
       "      <td>PROBLEM</td>\n",
       "      <td>Acute hepatitis E</td>\n",
       "      <td>B172</td>\n",
       "      <td>Acute hepatitis E:::Acute viral hepatitis, unspecified:::Chronic hepatitis, unspecified:::Chroni...</td>\n",
       "    </tr>\n",
       "    <tr>\n",
       "      <th>14</th>\n",
       "      <td>poor oral intake</td>\n",
       "      <td>PROBLEM</td>\n",
       "      <td>Avoidant/restrictive food intake disorder</td>\n",
       "      <td>F5082</td>\n",
       "      <td>Avoidant/restrictive food intake disorder:::Nutritional deficiency, unspecified:::Dysphagia, ora...</td>\n",
       "    </tr>\n",
       "    <tr>\n",
       "      <th>15</th>\n",
       "      <td>tenderness</td>\n",
       "      <td>PROBLEM</td>\n",
       "      <td>Periumbilic abdominal tenderness</td>\n",
       "      <td>R10815</td>\n",
       "      <td>Periumbilic abdominal tenderness:::Epigastric abdominal tenderness:::Periumbilic rebound abdomin...</td>\n",
       "    </tr>\n",
       "    <tr>\n",
       "      <th>16</th>\n",
       "      <td>HTG</td>\n",
       "      <td>PROBLEM</td>\n",
       "      <td>Pure hyperglyceridemia</td>\n",
       "      <td>E781</td>\n",
       "      <td>Pure hyperglyceridemia:::Familial hypercholesterolemia:::Type 2 diabetes mellitus with diabetic ...</td>\n",
       "    </tr>\n",
       "    <tr>\n",
       "      <th>17</th>\n",
       "      <td>polyuria</td>\n",
       "      <td>PROBLEM</td>\n",
       "      <td>Other polyuria</td>\n",
       "      <td>R358</td>\n",
       "      <td>Other polyuria:::Polydipsia:::Generalized edema:::Bilious vomiting:::Bartter's syndrome</td>\n",
       "    </tr>\n",
       "    <tr>\n",
       "      <th>18</th>\n",
       "      <td>one prior episode of HTG-induced pancreatitis</td>\n",
       "      <td>PROBLEM</td>\n",
       "      <td>Alcohol-induced chronic pancreatitis</td>\n",
       "      <td>K860</td>\n",
       "      <td>Alcohol-induced chronic pancreatitis:::Manic episode, unspecified:::Bipolar disorder, current ep...</td>\n",
       "    </tr>\n",
       "    <tr>\n",
       "      <th>19</th>\n",
       "      <td>obesity with a body mass index</td>\n",
       "      <td>PROBLEM</td>\n",
       "      <td>Body mass index (BMI) 28.0-28.9, adult</td>\n",
       "      <td>Z6828</td>\n",
       "      <td>Body mass index (BMI) 28.0-28.9, adult:::Body mass index (BMI) 36.0-36.9, adult:::Body mass inde...</td>\n",
       "    </tr>\n",
       "    <tr>\n",
       "      <th>20</th>\n",
       "      <td>interference from turbidity</td>\n",
       "      <td>PROBLEM</td>\n",
       "      <td>Non-working side interference</td>\n",
       "      <td>M2656</td>\n",
       "      <td>Non-working side interference:::Fecal smearing:::Abnormal plasma viscosity:::Glare sensitivity</td>\n",
       "    </tr>\n",
       "    <tr>\n",
       "      <th>21</th>\n",
       "      <td>T2DM</td>\n",
       "      <td>PROBLEM</td>\n",
       "      <td>Type 2 diabetes mellitus with diabetic nephropathy</td>\n",
       "      <td>E1121</td>\n",
       "      <td>Type 2 diabetes mellitus with diabetic nephropathy</td>\n",
       "    </tr>\n",
       "    <tr>\n",
       "      <th>22</th>\n",
       "      <td>significant lipemia</td>\n",
       "      <td>PROBLEM</td>\n",
       "      <td>Pure hyperglyceridemia</td>\n",
       "      <td>E781</td>\n",
       "      <td>Pure hyperglyceridemia:::Postprocedural hypoinsulinemia:::Lipoprotein deficiency:::Glycosuria</td>\n",
       "    </tr>\n",
       "  </tbody>\n",
       "</table>\n",
       "</div>"
      ]
     },
     "metadata": {
      "application/vnd.databricks.v1+output": {
       "addedWidgets": {},
       "arguments": {},
       "data": "<div>\n<style scoped>\n    .dataframe tbody tr th:only-of-type {\n        vertical-align: middle;\n    }\n\n    .dataframe tbody tr th {\n        vertical-align: top;\n    }\n\n    .dataframe thead th {\n        text-align: right;\n    }\n</style>\n<table border=\"1\" class=\"dataframe\">\n  <thead>\n    <tr style=\"text-align: right;\">\n      <th></th>\n      <th>chunk</th>\n      <th>entity</th>\n      <th>resolved_text</th>\n      <th>code</th>\n      <th>cms</th>\n    </tr>\n  </thead>\n  <tbody>\n    <tr>\n      <th>0</th>\n      <td>type two diabetes mellitus</td>\n      <td>PROBLEM</td>\n      <td>Type 2 diabetes mellitus with diabetic polyneuropathy</td>\n      <td>E1142</td>\n      <td>Type 2 diabetes mellitus with diabetic polyneuropathy:::Neonatal diabetes mellitus:::Diabetes in...</td>\n    </tr>\n    <tr>\n      <th>1</th>\n      <td>lipemia</td>\n      <td>PROBLEM</td>\n      <td>Glycosuria</td>\n      <td>R81</td>\n      <td>Glycosuria:::Pure hyperglyceridemia:::Hyperchylomicronemia</td>\n    </tr>\n    <tr>\n      <th>2</th>\n      <td>precipitated by her respiratory tract infection</td>\n      <td>PROBLEM</td>\n      <td>Respiratory disorder, unspecified</td>\n      <td>J989</td>\n      <td>Respiratory disorder, unspecified:::Acute nasopharyngitis [common cold]:::Diseases of the respir...</td>\n    </tr>\n    <tr>\n      <th>3</th>\n      <td>initially admitted for starvation ketosis</td>\n      <td>PROBLEM</td>\n      <td>Type 2 diabetes mellitus with ketoacidosis with coma</td>\n      <td>E1111</td>\n      <td>Type 2 diabetes mellitus with ketoacidosis with coma:::Type 2 diabetes mellitus with hyperosmola...</td>\n    </tr>\n    <tr>\n      <th>4</th>\n      <td>gestational diabetes mellitus</td>\n      <td>PROBLEM</td>\n      <td>Neonatal diabetes mellitus</td>\n      <td>P702</td>\n      <td>Neonatal diabetes mellitus:::Type 2 diabetes mellitus with hyperglycemia:::Diabetes insipidus</td>\n    </tr>\n    <tr>\n      <th>5</th>\n      <td>vomiting</td>\n      <td>PROBLEM</td>\n      <td>Bilious vomiting</td>\n      <td>R1114</td>\n      <td>Bilious vomiting:::Vomiting without nausea:::Nausea</td>\n    </tr>\n    <tr>\n      <th>6</th>\n      <td>polydipsia</td>\n      <td>PROBLEM</td>\n      <td>Polydipsia</td>\n      <td>R631</td>\n      <td>Polydipsia:::Anhedonia:::Galactorrhea</td>\n    </tr>\n    <tr>\n      <th>7</th>\n      <td>elevated</td>\n      <td>PROBLEM</td>\n      <td>Elevated Lipoprotein(a)</td>\n      <td>E7841</td>\n      <td>Elevated Lipoprotein(a):::Elevated erythrocyte sedimentation rate:::Hyperaldosteronism, unspecif...</td>\n    </tr>\n    <tr>\n      <th>8</th>\n      <td>significant for dry oral mucosa</td>\n      <td>PROBLEM</td>\n      <td>Irritative hyperplasia of oral mucosa</td>\n      <td>K136</td>\n      <td>Irritative hyperplasia of oral mucosa:::Leukoplakia of oral mucosa, including tongue:::Oral subm...</td>\n    </tr>\n    <tr>\n      <th>9</th>\n      <td>poor appetite</td>\n      <td>PROBLEM</td>\n      <td>Anorexia</td>\n      <td>R630</td>\n      <td>Anorexia:::Nutritional deficiency, unspecified:::Dysphagia, unspecified:::Nausea:::Decreased libido</td>\n    </tr>\n    <tr>\n      <th>10</th>\n      <td>five-day course of amoxicillin for a respiratory tract infection</td>\n      <td>PROBLEM</td>\n      <td>Acute nasopharyngitis [common cold]</td>\n      <td>J00</td>\n      <td>Acute nasopharyngitis [common cold]:::Neonatal urinary tract infection:::Diseases of the respira...</td>\n    </tr>\n    <tr>\n      <th>11</th>\n      <td>rigidity</td>\n      <td>PROBLEM</td>\n      <td>Periumbilic abdominal rigidity</td>\n      <td>R1935</td>\n      <td>Periumbilic abdominal rigidity:::Generalized abdominal rigidity:::Epigastric abdominal rigidity:...</td>\n    </tr>\n    <tr>\n      <th>12</th>\n      <td>guarding</td>\n      <td>PROBLEM</td>\n      <td>Colic</td>\n      <td>R1083</td>\n      <td>Colic:::Scrotal pain:::Dysuria:::Periumbilic abdominal tenderness</td>\n    </tr>\n    <tr>\n      <th>13</th>\n      <td>associated with an acute hepatitis</td>\n      <td>PROBLEM</td>\n      <td>Acute hepatitis E</td>\n      <td>B172</td>\n      <td>Acute hepatitis E:::Acute viral hepatitis, unspecified:::Chronic hepatitis, unspecified:::Chroni...</td>\n    </tr>\n    <tr>\n      <th>14</th>\n      <td>poor oral intake</td>\n      <td>PROBLEM</td>\n      <td>Avoidant/restrictive food intake disorder</td>\n      <td>F5082</td>\n      <td>Avoidant/restrictive food intake disorder:::Nutritional deficiency, unspecified:::Dysphagia, ora...</td>\n    </tr>\n    <tr>\n      <th>15</th>\n      <td>tenderness</td>\n      <td>PROBLEM</td>\n      <td>Periumbilic abdominal tenderness</td>\n      <td>R10815</td>\n      <td>Periumbilic abdominal tenderness:::Epigastric abdominal tenderness:::Periumbilic rebound abdomin...</td>\n    </tr>\n    <tr>\n      <th>16</th>\n      <td>HTG</td>\n      <td>PROBLEM</td>\n      <td>Pure hyperglyceridemia</td>\n      <td>E781</td>\n      <td>Pure hyperglyceridemia:::Familial hypercholesterolemia:::Type 2 diabetes mellitus with diabetic ...</td>\n    </tr>\n    <tr>\n      <th>17</th>\n      <td>polyuria</td>\n      <td>PROBLEM</td>\n      <td>Other polyuria</td>\n      <td>R358</td>\n      <td>Other polyuria:::Polydipsia:::Generalized edema:::Bilious vomiting:::Bartter's syndrome</td>\n    </tr>\n    <tr>\n      <th>18</th>\n      <td>one prior episode of HTG-induced pancreatitis</td>\n      <td>PROBLEM</td>\n      <td>Alcohol-induced chronic pancreatitis</td>\n      <td>K860</td>\n      <td>Alcohol-induced chronic pancreatitis:::Manic episode, unspecified:::Bipolar disorder, current ep...</td>\n    </tr>\n    <tr>\n      <th>19</th>\n      <td>obesity with a body mass index</td>\n      <td>PROBLEM</td>\n      <td>Body mass index (BMI) 28.0-28.9, adult</td>\n      <td>Z6828</td>\n      <td>Body mass index (BMI) 28.0-28.9, adult:::Body mass index (BMI) 36.0-36.9, adult:::Body mass inde...</td>\n    </tr>\n    <tr>\n      <th>20</th>\n      <td>interference from turbidity</td>\n      <td>PROBLEM</td>\n      <td>Non-working side interference</td>\n      <td>M2656</td>\n      <td>Non-working side interference:::Fecal smearing:::Abnormal plasma viscosity:::Glare sensitivity</td>\n    </tr>\n    <tr>\n      <th>21</th>\n      <td>T2DM</td>\n      <td>PROBLEM</td>\n      <td>Type 2 diabetes mellitus with diabetic nephropathy</td>\n      <td>E1121</td>\n      <td>Type 2 diabetes mellitus with diabetic nephropathy</td>\n    </tr>\n    <tr>\n      <th>22</th>\n      <td>significant lipemia</td>\n      <td>PROBLEM</td>\n      <td>Pure hyperglyceridemia</td>\n      <td>E781</td>\n      <td>Pure hyperglyceridemia:::Postprocedural hypoinsulinemia:::Lipoprotein deficiency:::Glycosuria</td>\n    </tr>\n  </tbody>\n</table>\n</div>",
       "datasetInfos": [],
       "removedWidgets": [],
       "textData": null,
       "type": "htmlSandbox"
      }
     },
     "output_type": "display_data"
    }
   ],
   "source": [
    "import pyspark.sql.functions as F\n",
    "\n",
    "output = model_icd10.transform(data_ner).cache()\n",
    "\n",
    "output.select(F.explode(F.arrays_zip(\"ner_chunk.result\",\"ner_chunk.metadata\",\n",
    "                                     \"icd10cm_code.result\",\"icd10cm_code.metadata\")).alias(\"icd10cm_result\")) \\\n",
    "      .select(F.expr(\"icd10cm_result['0']\").alias(\"chunk\"),\n",
    "              F.expr(\"icd10cm_result['1'].entity\").alias(\"entity\"),\n",
    "              F.expr(\"icd10cm_result['3'].resolved_text\").alias(\"resolved_text\"),\n",
    "              F.expr(\"icd10cm_result['2']\").alias(\"code\"),\n",
    "              F.expr(\"icd10cm_result['3'].all_k_resolutions\").alias(\"cms\"))\\\n",
    "      .distinct() \\\n",
    "      .toPandas()\n"
   ]
  },
  {
   "cell_type": "code",
   "execution_count": 0,
   "metadata": {
    "application/vnd.databricks.v1+cell": {
     "inputWidgets": {},
     "nuid": "24543cd1-f7ed-4fff-9b25-4da72c89da59",
     "showTitle": false,
     "title": ""
    }
   },
   "outputs": [
    {
     "data": {
      "text/html": [
       "<style scoped>\n",
       "  .ansiout {\n",
       "    display: block;\n",
       "    unicode-bidi: embed;\n",
       "    white-space: pre-wrap;\n",
       "    word-wrap: break-word;\n",
       "    word-break: break-all;\n",
       "    font-family: \"Source Code Pro\", \"Menlo\", monospace;;\n",
       "    font-size: 13px;\n",
       "    color: #555;\n",
       "    margin-left: 4px;\n",
       "    line-height: 19px;\n",
       "  }\n",
       "</style>\n",
       "<div class=\"ansiout\"></div>"
      ]
     },
     "metadata": {
      "application/vnd.databricks.v1+output": {
       "addedWidgets": {},
       "arguments": {},
       "data": "<div class=\"ansiout\"></div>",
       "datasetInfos": [],
       "removedWidgets": [],
       "type": "html"
      }
     },
     "output_type": "display_data"
    }
   ],
   "source": [
    "text = 'He has a starvation ketosis but nothing found for significant for dry oral mucosa'\n"
   ]
  },
  {
   "cell_type": "code",
   "execution_count": 0,
   "metadata": {
    "application/vnd.databricks.v1+cell": {
     "inputWidgets": {},
     "nuid": "f11fb195-1873-4eee-bda8-44f409bfd3dd",
     "showTitle": false,
     "title": ""
    }
   },
   "outputs": [
    {
     "data": {
      "text/html": [
       "<style scoped>\n",
       "  .ansiout {\n",
       "    display: block;\n",
       "    unicode-bidi: embed;\n",
       "    white-space: pre-wrap;\n",
       "    word-wrap: break-word;\n",
       "    word-break: break-all;\n",
       "    font-family: \"Source Code Pro\", \"Menlo\", monospace;;\n",
       "    font-size: 13px;\n",
       "    color: #555;\n",
       "    margin-left: 4px;\n",
       "    line-height: 19px;\n",
       "  }\n",
       "</style>\n",
       "<div class=\"ansiout\">Out[79]: </div>"
      ]
     },
     "metadata": {
      "application/vnd.databricks.v1+output": {
       "addedWidgets": {},
       "arguments": {},
       "data": "<div class=\"ansiout\">Out[79]: </div>",
       "datasetInfos": [],
       "removedWidgets": [],
       "type": "html"
      }
     },
     "output_type": "display_data"
    },
    {
     "data": {
      "text/html": [
       "<div>\n",
       "<style scoped>\n",
       "    .dataframe tbody tr th:only-of-type {\n",
       "        vertical-align: middle;\n",
       "    }\n",
       "\n",
       "    .dataframe tbody tr th {\n",
       "        vertical-align: top;\n",
       "    }\n",
       "\n",
       "    .dataframe thead th {\n",
       "        text-align: right;\n",
       "    }\n",
       "</style>\n",
       "<table border=\"1\" class=\"dataframe\">\n",
       "  <thead>\n",
       "    <tr style=\"text-align: right;\">\n",
       "      <th></th>\n",
       "      <th>chunks</th>\n",
       "      <th>begin</th>\n",
       "      <th>end</th>\n",
       "      <th>icd10cm_code</th>\n",
       "      <th>resolutions</th>\n",
       "    </tr>\n",
       "  </thead>\n",
       "  <tbody>\n",
       "    <tr>\n",
       "      <th>0</th>\n",
       "      <td>starvation ketosis</td>\n",
       "      <td>9</td>\n",
       "      <td>26</td>\n",
       "      <td>E71121</td>\n",
       "      <td>Propionic acidemia:::Bartter's syndrome:::Hypocalcemia:::Pituitary-dependent Cushing's disease::...</td>\n",
       "    </tr>\n",
       "    <tr>\n",
       "      <th>1</th>\n",
       "      <td>significant for dry oral mucosa</td>\n",
       "      <td>50</td>\n",
       "      <td>80</td>\n",
       "      <td>K136</td>\n",
       "      <td>Irritative hyperplasia of oral mucosa:::Leukoplakia of oral mucosa, including tongue:::Oral subm...</td>\n",
       "    </tr>\n",
       "  </tbody>\n",
       "</table>\n",
       "</div>"
      ]
     },
     "metadata": {
      "application/vnd.databricks.v1+output": {
       "addedWidgets": {},
       "arguments": {},
       "data": "<div>\n<style scoped>\n    .dataframe tbody tr th:only-of-type {\n        vertical-align: middle;\n    }\n\n    .dataframe tbody tr th {\n        vertical-align: top;\n    }\n\n    .dataframe thead th {\n        text-align: right;\n    }\n</style>\n<table border=\"1\" class=\"dataframe\">\n  <thead>\n    <tr style=\"text-align: right;\">\n      <th></th>\n      <th>chunks</th>\n      <th>begin</th>\n      <th>end</th>\n      <th>icd10cm_code</th>\n      <th>resolutions</th>\n    </tr>\n  </thead>\n  <tbody>\n    <tr>\n      <th>0</th>\n      <td>starvation ketosis</td>\n      <td>9</td>\n      <td>26</td>\n      <td>E71121</td>\n      <td>Propionic acidemia:::Bartter's syndrome:::Hypocalcemia:::Pituitary-dependent Cushing's disease::...</td>\n    </tr>\n    <tr>\n      <th>1</th>\n      <td>significant for dry oral mucosa</td>\n      <td>50</td>\n      <td>80</td>\n      <td>K136</td>\n      <td>Irritative hyperplasia of oral mucosa:::Leukoplakia of oral mucosa, including tongue:::Oral subm...</td>\n    </tr>\n  </tbody>\n</table>\n</div>",
       "datasetInfos": [],
       "removedWidgets": [],
       "textData": null,
       "type": "htmlSandbox"
      }
     },
     "output_type": "display_data"
    }
   ],
   "source": [
    "df = get_codes(light_pipeline_icd10, text, 'icd10cm_code')\n",
    "\n",
    "df"
   ]
  },
  {
   "cell_type": "markdown",
   "metadata": {
    "application/vnd.databricks.v1+cell": {
     "inputWidgets": {},
     "nuid": "aa8c1957-03a3-40a4-9b2e-215d5a926314",
     "showTitle": false,
     "title": ""
    }
   },
   "source": [
    "## Resolved Entities Visualization"
   ]
  },
  {
   "cell_type": "code",
   "execution_count": 0,
   "metadata": {
    "application/vnd.databricks.v1+cell": {
     "inputWidgets": {},
     "nuid": "8b20e80f-dba9-4e33-9a26-15f5f3068615",
     "showTitle": false,
     "title": ""
    }
   },
   "outputs": [
    {
     "data": {
      "text/html": [
       "<style scoped>\n",
       "  .ansiout {\n",
       "    display: block;\n",
       "    unicode-bidi: embed;\n",
       "    white-space: pre-wrap;\n",
       "    word-wrap: break-word;\n",
       "    word-break: break-all;\n",
       "    font-family: \"Source Code Pro\", \"Menlo\", monospace;;\n",
       "    font-size: 13px;\n",
       "    color: #555;\n",
       "    margin-left: 4px;\n",
       "    line-height: 19px;\n",
       "  }\n",
       "</style>\n",
       "<div class=\"ansiout\"></div>"
      ]
     },
     "metadata": {
      "application/vnd.databricks.v1+output": {
       "addedWidgets": {},
       "arguments": {},
       "data": "<div class=\"ansiout\"></div>",
       "datasetInfos": [],
       "removedWidgets": [],
       "type": "html"
      }
     },
     "output_type": "display_data"
    }
   ],
   "source": [
    "sample_text = 'A 28-year-old female with a history of gestational diabetes mellitus diagnosed eight years prior to presentation and subsequent type two diabetes mellitus (T2DM), one prior episode of HTG-induced pancreatitis three years prior to presentation, associated with an acute hepatitis, and obesity with a body mass index (BMI) of 33.5 kg/m2, presented with a one-week history of polyuria, polydipsia, poor appetite, and vomiting. Two weeks prior to presentation, she was treated with a five-day course of amoxicillin for a respiratory tract infection.'\n",
    "\n",
    "full_light_result = light_pipeline_icd10.fullAnnotate(sample_text)\n"
   ]
  },
  {
   "cell_type": "code",
   "execution_count": 0,
   "metadata": {
    "application/vnd.databricks.v1+cell": {
     "inputWidgets": {},
     "nuid": "3ae4fd24-5000-4a41-9170-72743d6ecd76",
     "showTitle": false,
     "title": ""
    }
   },
   "outputs": [
    {
     "data": {
      "text/html": [
       "\n",
       "<style>\n",
       "    @import url('https://fonts.googleapis.com/css2?family=Montserrat:wght@300;400;500;600;700&display=swap');\n",
       "    @import url('https://fonts.googleapis.com/css2?family=Vistol Regular:wght@300;400;500;600;700&display=swap');\n",
       "    \n",
       "    .spark-nlp-display-scroll-entities {\n",
       "        border: 1px solid #E7EDF0;\n",
       "        border-radius: 3px;\n",
       "        text-align: justify;\n",
       "        \n",
       "    }\n",
       "    .spark-nlp-display-scroll-entities span {  \n",
       "        font-size: 14px;\n",
       "        line-height: 24px;\n",
       "        color: #536B76;\n",
       "        font-family: 'Montserrat', sans-serif !important;\n",
       "    }\n",
       "    \n",
       "    .spark-nlp-display-entity-wrapper{\n",
       "    \n",
       "        display: inline-grid;\n",
       "        text-align: center;\n",
       "        border-radius: 4px;\n",
       "        margin: 0 2px 5px 2px;\n",
       "        padding: 1px\n",
       "    }\n",
       "    .spark-nlp-display-entity-name{\n",
       "        font-size: 14px;\n",
       "        line-height: 24px;\n",
       "        font-family: 'Montserrat', sans-serif !important;\n",
       "        \n",
       "        background: #f1f2f3;\n",
       "        border-width: medium;\n",
       "        text-align: center;\n",
       "        \n",
       "        font-weight: 400;\n",
       "        \n",
       "        border-radius: 5px;\n",
       "        padding: 2px 5px;\n",
       "        display: block;\n",
       "        margin: 3px 2px;\n",
       "    \n",
       "    }\n",
       "    .spark-nlp-display-entity-type{\n",
       "        font-size: 14px;\n",
       "        line-height: 24px;\n",
       "        color: #ffffff;\n",
       "        font-family: 'Montserrat', sans-serif !important;\n",
       "        \n",
       "        text-transform: uppercase;\n",
       "        \n",
       "        font-weight: 500;\n",
       "\n",
       "        display: block;\n",
       "        padding: 3px 5px;\n",
       "    }\n",
       "    \n",
       "    .spark-nlp-display-entity-resolution{\n",
       "        font-size: 14px;\n",
       "        line-height: 24px;\n",
       "        color: #ffffff;\n",
       "        font-family: 'Vistol Regular', sans-serif !important;\n",
       "        \n",
       "        text-transform: uppercase;\n",
       "        \n",
       "        font-weight: 500;\n",
       "\n",
       "        display: block;\n",
       "        padding: 3px 5px;\n",
       "    }\n",
       "    \n",
       "    .spark-nlp-display-others{\n",
       "        font-size: 14px;\n",
       "        line-height: 24px;\n",
       "        font-family: 'Montserrat', sans-serif !important;\n",
       "        \n",
       "        font-weight: 400;\n",
       "    }\n",
       "\n",
       "</style>\n",
       " <span class=\"spark-nlp-display-others\" style=\"background-color: white\">A 28-year-old female with a history of </span><span class=\"spark-nlp-display-entity-wrapper\" style=\"background-color: #800080B3\"><span class=\"spark-nlp-display-entity-name\">gestational diabetes mellitus </span><span class=\"spark-nlp-display-entity-type\">PROBLEM</span><span class=\"spark-nlp-display-entity-resolution\" style=\"background-color: #800080FF\">P702 </span><span class=\"spark-nlp-display-entity-resolution\" style=\"background-color: #800080CC\">Neonatal diabetes mellitus</span></span><span class=\"spark-nlp-display-others\" style=\"background-color: white\"> diagnosed eight years prior to presentation and subsequent </span><span class=\"spark-nlp-display-entity-wrapper\" style=\"background-color: #800080B3\"><span class=\"spark-nlp-display-entity-name\">type two diabetes mellitus </span><span class=\"spark-nlp-display-entity-type\">PROBLEM</span><span class=\"spark-nlp-display-entity-resolution\" style=\"background-color: #800080FF\">E1142 </span><span class=\"spark-nlp-display-entity-resolution\" style=\"background-color: #800080CC\">Type 2 diabetes mellitus with diabetic polyneuropathy</span></span><span class=\"spark-nlp-display-others\" style=\"background-color: white\"> (</span><span class=\"spark-nlp-display-entity-wrapper\" style=\"background-color: #800080B3\"><span class=\"spark-nlp-display-entity-name\">T2DM </span><span class=\"spark-nlp-display-entity-type\">PROBLEM</span><span class=\"spark-nlp-display-entity-resolution\" style=\"background-color: #800080FF\">E1121 </span><span class=\"spark-nlp-display-entity-resolution\" style=\"background-color: #800080CC\">Type 2 diabetes mellitus with diabetic nephropathy</span></span><span class=\"spark-nlp-display-others\" style=\"background-color: white\">), </span><span class=\"spark-nlp-display-entity-wrapper\" style=\"background-color: #800080B3\"><span class=\"spark-nlp-display-entity-name\">one prior episode of HTG-induced pancreatitis </span><span class=\"spark-nlp-display-entity-type\">PROBLEM</span><span class=\"spark-nlp-display-entity-resolution\" style=\"background-color: #800080FF\">K860 </span><span class=\"spark-nlp-display-entity-resolution\" style=\"background-color: #800080CC\">Alcohol-induced chronic pancreatitis</span></span><span class=\"spark-nlp-display-others\" style=\"background-color: white\"> three years prior to presentation, </span><span class=\"spark-nlp-display-entity-wrapper\" style=\"background-color: #800080B3\"><span class=\"spark-nlp-display-entity-name\">associated with an acute hepatitis </span><span class=\"spark-nlp-display-entity-type\">PROBLEM</span><span class=\"spark-nlp-display-entity-resolution\" style=\"background-color: #800080FF\">B172 </span><span class=\"spark-nlp-display-entity-resolution\" style=\"background-color: #800080CC\">Acute hepatitis E</span></span><span class=\"spark-nlp-display-others\" style=\"background-color: white\">, and </span><span class=\"spark-nlp-display-entity-wrapper\" style=\"background-color: #800080B3\"><span class=\"spark-nlp-display-entity-name\">obesity with a body mass </span><span class=\"spark-nlp-display-entity-type\">PROBLEM</span><span class=\"spark-nlp-display-entity-resolution\" style=\"background-color: #800080FF\">E661 </span><span class=\"spark-nlp-display-entity-resolution\" style=\"background-color: #800080CC\">Drug-induced obesity</span></span><span class=\"spark-nlp-display-others\" style=\"background-color: white\"> index (BMI) of 33.5 kg/m2, presented with a one-week history of </span><span class=\"spark-nlp-display-entity-wrapper\" style=\"background-color: #800080B3\"><span class=\"spark-nlp-display-entity-name\">polyuria </span><span class=\"spark-nlp-display-entity-type\">PROBLEM</span><span class=\"spark-nlp-display-entity-resolution\" style=\"background-color: #800080FF\">R358 </span><span class=\"spark-nlp-display-entity-resolution\" style=\"background-color: #800080CC\">Other polyuria</span></span><span class=\"spark-nlp-display-others\" style=\"background-color: white\">, </span><span class=\"spark-nlp-display-entity-wrapper\" style=\"background-color: #800080B3\"><span class=\"spark-nlp-display-entity-name\">polydipsia </span><span class=\"spark-nlp-display-entity-type\">PROBLEM</span><span class=\"spark-nlp-display-entity-resolution\" style=\"background-color: #800080FF\">R631 </span><span class=\"spark-nlp-display-entity-resolution\" style=\"background-color: #800080CC\">Polydipsia</span></span><span class=\"spark-nlp-display-others\" style=\"background-color: white\">, </span><span class=\"spark-nlp-display-entity-wrapper\" style=\"background-color: #800080B3\"><span class=\"spark-nlp-display-entity-name\">poor appetite </span><span class=\"spark-nlp-display-entity-type\">PROBLEM</span><span class=\"spark-nlp-display-entity-resolution\" style=\"background-color: #800080FF\">R630 </span><span class=\"spark-nlp-display-entity-resolution\" style=\"background-color: #800080CC\">Anorexia</span></span><span class=\"spark-nlp-display-others\" style=\"background-color: white\">, and </span><span class=\"spark-nlp-display-entity-wrapper\" style=\"background-color: #800080B3\"><span class=\"spark-nlp-display-entity-name\">vomiting </span><span class=\"spark-nlp-display-entity-type\">PROBLEM</span><span class=\"spark-nlp-display-entity-resolution\" style=\"background-color: #800080FF\">R1114 </span><span class=\"spark-nlp-display-entity-resolution\" style=\"background-color: #800080CC\">Bilious vomiting</span></span><span class=\"spark-nlp-display-others\" style=\"background-color: white\">. Two weeks prior to presentation, she was treated with a </span><span class=\"spark-nlp-display-entity-wrapper\" style=\"background-color: #800080B3\"><span class=\"spark-nlp-display-entity-name\">five-day course of amoxicillin for a respiratory tract infection </span><span class=\"spark-nlp-display-entity-type\">PROBLEM</span><span class=\"spark-nlp-display-entity-resolution\" style=\"background-color: #800080FF\">J00 </span><span class=\"spark-nlp-display-entity-resolution\" style=\"background-color: #800080CC\">Acute nasopharyngitis [common cold]</span></span><span class=\"spark-nlp-display-others\" style=\"background-color: white\">.</span></div>"
      ]
     },
     "metadata": {
      "application/vnd.databricks.v1+output": {
       "addedWidgets": {},
       "arguments": {},
       "data": "\n<style>\n    @import url('https://fonts.googleapis.com/css2?family=Montserrat:wght@300;400;500;600;700&display=swap');\n    @import url('https://fonts.googleapis.com/css2?family=Vistol Regular:wght@300;400;500;600;700&display=swap');\n    \n    .spark-nlp-display-scroll-entities {\n        border: 1px solid #E7EDF0;\n        border-radius: 3px;\n        text-align: justify;\n        \n    }\n    .spark-nlp-display-scroll-entities span {  \n        font-size: 14px;\n        line-height: 24px;\n        color: #536B76;\n        font-family: 'Montserrat', sans-serif !important;\n    }\n    \n    .spark-nlp-display-entity-wrapper{\n    \n        display: inline-grid;\n        text-align: center;\n        border-radius: 4px;\n        margin: 0 2px 5px 2px;\n        padding: 1px\n    }\n    .spark-nlp-display-entity-name{\n        font-size: 14px;\n        line-height: 24px;\n        font-family: 'Montserrat', sans-serif !important;\n        \n        background: #f1f2f3;\n        border-width: medium;\n        text-align: center;\n        \n        font-weight: 400;\n        \n        border-radius: 5px;\n        padding: 2px 5px;\n        display: block;\n        margin: 3px 2px;\n    \n    }\n    .spark-nlp-display-entity-type{\n        font-size: 14px;\n        line-height: 24px;\n        color: #ffffff;\n        font-family: 'Montserrat', sans-serif !important;\n        \n        text-transform: uppercase;\n        \n        font-weight: 500;\n\n        display: block;\n        padding: 3px 5px;\n    }\n    \n    .spark-nlp-display-entity-resolution{\n        font-size: 14px;\n        line-height: 24px;\n        color: #ffffff;\n        font-family: 'Vistol Regular', sans-serif !important;\n        \n        text-transform: uppercase;\n        \n        font-weight: 500;\n\n        display: block;\n        padding: 3px 5px;\n    }\n    \n    .spark-nlp-display-others{\n        font-size: 14px;\n        line-height: 24px;\n        font-family: 'Montserrat', sans-serif !important;\n        \n        font-weight: 400;\n    }\n\n</style>\n <span class=\"spark-nlp-display-others\" style=\"background-color: white\">A 28-year-old female with a history of </span><span class=\"spark-nlp-display-entity-wrapper\" style=\"background-color: #800080B3\"><span class=\"spark-nlp-display-entity-name\">gestational diabetes mellitus </span><span class=\"spark-nlp-display-entity-type\">PROBLEM</span><span class=\"spark-nlp-display-entity-resolution\" style=\"background-color: #800080FF\">P702 </span><span class=\"spark-nlp-display-entity-resolution\" style=\"background-color: #800080CC\">Neonatal diabetes mellitus</span></span><span class=\"spark-nlp-display-others\" style=\"background-color: white\"> diagnosed eight years prior to presentation and subsequent </span><span class=\"spark-nlp-display-entity-wrapper\" style=\"background-color: #800080B3\"><span class=\"spark-nlp-display-entity-name\">type two diabetes mellitus </span><span class=\"spark-nlp-display-entity-type\">PROBLEM</span><span class=\"spark-nlp-display-entity-resolution\" style=\"background-color: #800080FF\">E1142 </span><span class=\"spark-nlp-display-entity-resolution\" style=\"background-color: #800080CC\">Type 2 diabetes mellitus with diabetic polyneuropathy</span></span><span class=\"spark-nlp-display-others\" style=\"background-color: white\"> (</span><span class=\"spark-nlp-display-entity-wrapper\" style=\"background-color: #800080B3\"><span class=\"spark-nlp-display-entity-name\">T2DM </span><span class=\"spark-nlp-display-entity-type\">PROBLEM</span><span class=\"spark-nlp-display-entity-resolution\" style=\"background-color: #800080FF\">E1121 </span><span class=\"spark-nlp-display-entity-resolution\" style=\"background-color: #800080CC\">Type 2 diabetes mellitus with diabetic nephropathy</span></span><span class=\"spark-nlp-display-others\" style=\"background-color: white\">), </span><span class=\"spark-nlp-display-entity-wrapper\" style=\"background-color: #800080B3\"><span class=\"spark-nlp-display-entity-name\">one prior episode of HTG-induced pancreatitis </span><span class=\"spark-nlp-display-entity-type\">PROBLEM</span><span class=\"spark-nlp-display-entity-resolution\" style=\"background-color: #800080FF\">K860 </span><span class=\"spark-nlp-display-entity-resolution\" style=\"background-color: #800080CC\">Alcohol-induced chronic pancreatitis</span></span><span class=\"spark-nlp-display-others\" style=\"background-color: white\"> three years prior to presentation, </span><span class=\"spark-nlp-display-entity-wrapper\" style=\"background-color: #800080B3\"><span class=\"spark-nlp-display-entity-name\">associated with an acute hepatitis </span><span class=\"spark-nlp-display-entity-type\">PROBLEM</span><span class=\"spark-nlp-display-entity-resolution\" style=\"background-color: #800080FF\">B172 </span><span class=\"spark-nlp-display-entity-resolution\" style=\"background-color: #800080CC\">Acute hepatitis E</span></span><span class=\"spark-nlp-display-others\" style=\"background-color: white\">, and </span><span class=\"spark-nlp-display-entity-wrapper\" style=\"background-color: #800080B3\"><span class=\"spark-nlp-display-entity-name\">obesity with a body mass </span><span class=\"spark-nlp-display-entity-type\">PROBLEM</span><span class=\"spark-nlp-display-entity-resolution\" style=\"background-color: #800080FF\">E661 </span><span class=\"spark-nlp-display-entity-resolution\" style=\"background-color: #800080CC\">Drug-induced obesity</span></span><span class=\"spark-nlp-display-others\" style=\"background-color: white\"> index (BMI) of 33.5 kg/m2, presented with a one-week history of </span><span class=\"spark-nlp-display-entity-wrapper\" style=\"background-color: #800080B3\"><span class=\"spark-nlp-display-entity-name\">polyuria </span><span class=\"spark-nlp-display-entity-type\">PROBLEM</span><span class=\"spark-nlp-display-entity-resolution\" style=\"background-color: #800080FF\">R358 </span><span class=\"spark-nlp-display-entity-resolution\" style=\"background-color: #800080CC\">Other polyuria</span></span><span class=\"spark-nlp-display-others\" style=\"background-color: white\">, </span><span class=\"spark-nlp-display-entity-wrapper\" style=\"background-color: #800080B3\"><span class=\"spark-nlp-display-entity-name\">polydipsia </span><span class=\"spark-nlp-display-entity-type\">PROBLEM</span><span class=\"spark-nlp-display-entity-resolution\" style=\"background-color: #800080FF\">R631 </span><span class=\"spark-nlp-display-entity-resolution\" style=\"background-color: #800080CC\">Polydipsia</span></span><span class=\"spark-nlp-display-others\" style=\"background-color: white\">, </span><span class=\"spark-nlp-display-entity-wrapper\" style=\"background-color: #800080B3\"><span class=\"spark-nlp-display-entity-name\">poor appetite </span><span class=\"spark-nlp-display-entity-type\">PROBLEM</span><span class=\"spark-nlp-display-entity-resolution\" style=\"background-color: #800080FF\">R630 </span><span class=\"spark-nlp-display-entity-resolution\" style=\"background-color: #800080CC\">Anorexia</span></span><span class=\"spark-nlp-display-others\" style=\"background-color: white\">, and </span><span class=\"spark-nlp-display-entity-wrapper\" style=\"background-color: #800080B3\"><span class=\"spark-nlp-display-entity-name\">vomiting </span><span class=\"spark-nlp-display-entity-type\">PROBLEM</span><span class=\"spark-nlp-display-entity-resolution\" style=\"background-color: #800080FF\">R1114 </span><span class=\"spark-nlp-display-entity-resolution\" style=\"background-color: #800080CC\">Bilious vomiting</span></span><span class=\"spark-nlp-display-others\" style=\"background-color: white\">. Two weeks prior to presentation, she was treated with a </span><span class=\"spark-nlp-display-entity-wrapper\" style=\"background-color: #800080B3\"><span class=\"spark-nlp-display-entity-name\">five-day course of amoxicillin for a respiratory tract infection </span><span class=\"spark-nlp-display-entity-type\">PROBLEM</span><span class=\"spark-nlp-display-entity-resolution\" style=\"background-color: #800080FF\">J00 </span><span class=\"spark-nlp-display-entity-resolution\" style=\"background-color: #800080CC\">Acute nasopharyngitis [common cold]</span></span><span class=\"spark-nlp-display-others\" style=\"background-color: white\">.</span></div>",
       "datasetInfos": [],
       "removedWidgets": [],
       "textData": null,
       "type": "htmlSandbox"
      }
     },
     "output_type": "display_data"
    }
   ],
   "source": [
    "from sparknlp_display import EntityResolverVisualizer\n",
    "\n",
    "visualizer = EntityResolverVisualizer()\n",
    "\n",
    "# Change color of an entity label\n",
    "#visualizer.set_label_colors({'PROBLEM':'#008080'})\n",
    "\n",
    "vis = visualizer.display(full_light_result[0], 'ner_chunk', 'icd10cm_code', return_html=True)\n",
    "\n",
    "displayHTML(vis)"
   ]
  },
  {
   "cell_type": "markdown",
   "metadata": {
    "application/vnd.databricks.v1+cell": {
     "inputWidgets": {},
     "nuid": "881ec1de-c257-4387-baa9-680fa3e16f7f",
     "showTitle": false,
     "title": ""
    }
   },
   "source": [
    "## CPT Resolver"
   ]
  },
  {
   "cell_type": "markdown",
   "metadata": {
    "application/vnd.databricks.v1+cell": {
     "inputWidgets": {},
     "nuid": "a70a6fb1-18ef-49b6-8857-40a8ec5b8ca5",
     "showTitle": false,
     "title": ""
    }
   },
   "source": [
    "The Current Procedural Terminology (CPT) code set is a medical code set maintained by the American Medical Association. The CPT code set describes medical, surgical, and diagnostic services and is designed to communicate uniform information about medical services and procedures among physicians, coders, patients, accreditation organizations, and payers for administrative, financial, and analytical purposes."
   ]
  },
  {
   "cell_type": "code",
   "execution_count": 0,
   "metadata": {
    "application/vnd.databricks.v1+cell": {
     "inputWidgets": {},
     "nuid": "6d324422-fbba-4be0-8444-2bcd46152d14",
     "showTitle": false,
     "title": ""
    }
   },
   "outputs": [
    {
     "data": {
      "text/html": [
       "<style scoped>\n",
       "  .ansiout {\n",
       "    display: block;\n",
       "    unicode-bidi: embed;\n",
       "    white-space: pre-wrap;\n",
       "    word-wrap: break-word;\n",
       "    word-break: break-all;\n",
       "    font-family: \"Source Code Pro\", \"Menlo\", monospace;;\n",
       "    font-size: 13px;\n",
       "    color: #555;\n",
       "    margin-left: 4px;\n",
       "    line-height: 19px;\n",
       "  }\n",
       "</style>\n",
       "<div class=\"ansiout\">chunkresolve_cpt_clinical download started this may take some time.\n",
       "Approximate size to download 16.1 MB\n",
       "\r",
       "[ | ]\r",
       "[OK!]\n",
       "</div>"
      ]
     },
     "metadata": {
      "application/vnd.databricks.v1+output": {
       "addedWidgets": {},
       "arguments": {},
       "data": "<div class=\"ansiout\">chunkresolve_cpt_clinical download started this may take some time.\nApproximate size to download 16.1 MB\n\r[ | ]\r[OK!]\n</div>",
       "datasetInfos": [],
       "removedWidgets": [],
       "type": "html"
      }
     },
     "output_type": "display_data"
    }
   ],
   "source": [
    "ner_converter_cpt = NerConverterInternal() \\\n",
    "    .setInputCols([\"sentence\", \"token\", \"ner\"]) \\\n",
    "    .setOutputCol(\"ner_chunk\")\\\n",
    "    .setWhiteList(['TREATMENT','TEST'])\\\n",
    "    .setPreservePosition(False)\n",
    "\n",
    "cpt_resolution = ChunkEntityResolverModel.pretrained(\"chunkresolve_cpt_clinical\", \"en\", \"clinical/models\") \\\n",
    "    .setInputCols([\"token\", \"chunk_embeddings\"]) \\\n",
    "    .setOutputCol(\"cpt_code\") \\\n",
    "    .setDistanceFunction(\"COSINE\") \\\n",
    "    .setNeighbours(5)\n",
    "\n",
    "pipeline_cpt = Pipeline(\n",
    "    stages = [\n",
    "    documentAssembler,\n",
    "    sentenceDetectorDL,\n",
    "    tokenizer,\n",
    "    stopwords,\n",
    "    word_embeddings,\n",
    "    clinical_ner,\n",
    "    ner_converter_cpt,\n",
    "    chunk_embeddings,\n",
    "    cpt_resolution\n",
    "  ])\n",
    "\n",
    "model_cpt = pipeline_cpt.fit(data_ner)\n"
   ]
  },
  {
   "cell_type": "code",
   "execution_count": 0,
   "metadata": {
    "application/vnd.databricks.v1+cell": {
     "inputWidgets": {},
     "nuid": "e209538c-0751-4572-b009-872a2b98f8d3",
     "showTitle": false,
     "title": ""
    }
   },
   "outputs": [
    {
     "data": {
      "text/html": [
       "<style scoped>\n",
       "  .ansiout {\n",
       "    display: block;\n",
       "    unicode-bidi: embed;\n",
       "    white-space: pre-wrap;\n",
       "    word-wrap: break-word;\n",
       "    word-break: break-all;\n",
       "    font-family: \"Source Code Pro\", \"Menlo\", monospace;;\n",
       "    font-size: 13px;\n",
       "    color: #555;\n",
       "    margin-left: 4px;\n",
       "    line-height: 19px;\n",
       "  }\n",
       "</style>\n",
       "<div class=\"ansiout\">Out[82]: </div>"
      ]
     },
     "metadata": {
      "application/vnd.databricks.v1+output": {
       "addedWidgets": {},
       "arguments": {},
       "data": "<div class=\"ansiout\">Out[82]: </div>",
       "datasetInfos": [],
       "removedWidgets": [],
       "type": "html"
      }
     },
     "output_type": "display_data"
    },
    {
     "data": {
      "text/html": [
       "<div>\n",
       "<style scoped>\n",
       "    .dataframe tbody tr th:only-of-type {\n",
       "        vertical-align: middle;\n",
       "    }\n",
       "\n",
       "    .dataframe tbody tr th {\n",
       "        vertical-align: top;\n",
       "    }\n",
       "\n",
       "    .dataframe thead th {\n",
       "        text-align: right;\n",
       "    }\n",
       "</style>\n",
       "<table border=\"1\" class=\"dataframe\">\n",
       "  <thead>\n",
       "    <tr style=\"text-align: right;\">\n",
       "      <th></th>\n",
       "      <th>chunks</th>\n",
       "      <th>begin</th>\n",
       "      <th>end</th>\n",
       "      <th>cpt_code</th>\n",
       "      <th>resolutions</th>\n",
       "    </tr>\n",
       "  </thead>\n",
       "  <tbody>\n",
       "    <tr>\n",
       "      <th>0</th>\n",
       "      <td>coronary artery bypass</td>\n",
       "      <td>28</td>\n",
       "      <td>49</td>\n",
       "      <td>33535</td>\n",
       "      <td>Coronary artery bypass, using arterial graft(s); 3coronary arterial grafts:::Coronary artery byp...</td>\n",
       "    </tr>\n",
       "    <tr>\n",
       "      <th>1</th>\n",
       "      <td>abdomen CT</td>\n",
       "      <td>73</td>\n",
       "      <td>82</td>\n",
       "      <td>44970</td>\n",
       "      <td>Laparoscopy, surgical, appendectomy :::Stereotactic biopsy, aspiration, or excision, including b...</td>\n",
       "    </tr>\n",
       "  </tbody>\n",
       "</table>\n",
       "</div>"
      ]
     },
     "metadata": {
      "application/vnd.databricks.v1+output": {
       "addedWidgets": {},
       "arguments": {},
       "data": "<div>\n<style scoped>\n    .dataframe tbody tr th:only-of-type {\n        vertical-align: middle;\n    }\n\n    .dataframe tbody tr th {\n        vertical-align: top;\n    }\n\n    .dataframe thead th {\n        text-align: right;\n    }\n</style>\n<table border=\"1\" class=\"dataframe\">\n  <thead>\n    <tr style=\"text-align: right;\">\n      <th></th>\n      <th>chunks</th>\n      <th>begin</th>\n      <th>end</th>\n      <th>cpt_code</th>\n      <th>resolutions</th>\n    </tr>\n  </thead>\n  <tbody>\n    <tr>\n      <th>0</th>\n      <td>coronary artery bypass</td>\n      <td>28</td>\n      <td>49</td>\n      <td>33535</td>\n      <td>Coronary artery bypass, using arterial graft(s); 3coronary arterial grafts:::Coronary artery byp...</td>\n    </tr>\n    <tr>\n      <th>1</th>\n      <td>abdomen CT</td>\n      <td>73</td>\n      <td>82</td>\n      <td>44970</td>\n      <td>Laparoscopy, surgical, appendectomy :::Stereotactic biopsy, aspiration, or excision, including b...</td>\n    </tr>\n  </tbody>\n</table>\n</div>",
       "datasetInfos": [],
       "removedWidgets": [],
       "textData": null,
       "type": "htmlSandbox"
      }
     },
     "output_type": "display_data"
    }
   ],
   "source": [
    "light_model_cpt = LightPipeline(model_cpt)\n",
    "\n",
    "text = 'The patient needs to have a coronary artery bypass but doctor suggests a abdomen CT at first.'\n",
    "\n",
    "df = get_codes (light_model_cpt, text, 'cpt_code')\n",
    "\n",
    "df"
   ]
  },
  {
   "cell_type": "markdown",
   "metadata": {
    "application/vnd.databricks.v1+cell": {
     "inputWidgets": {},
     "nuid": "5b8ead7c-599e-4d9d-aca5-2539c46acf9f",
     "showTitle": false,
     "title": ""
    }
   },
   "source": [
    "## RxNorm Resolver"
   ]
  },
  {
   "cell_type": "code",
   "execution_count": 0,
   "metadata": {
    "application/vnd.databricks.v1+cell": {
     "inputWidgets": {},
     "nuid": "5b0443ee-2ca7-432a-99f5-43ece800c71d",
     "showTitle": false,
     "title": ""
    }
   },
   "outputs": [
    {
     "data": {
      "text/html": [
       "<style scoped>\n",
       "  .ansiout {\n",
       "    display: block;\n",
       "    unicode-bidi: embed;\n",
       "    white-space: pre-wrap;\n",
       "    word-wrap: break-word;\n",
       "    word-break: break-all;\n",
       "    font-family: \"Source Code Pro\", \"Menlo\", monospace;;\n",
       "    font-size: 13px;\n",
       "    color: #555;\n",
       "    margin-left: 4px;\n",
       "    line-height: 19px;\n",
       "  }\n",
       "</style>\n",
       "<div class=\"ansiout\">ner_drugs_large download started this may take some time.\n",
       "Approximate size to download 13.9 MB\n",
       "\r",
       "[ | ]\r",
       "[OK!]\n",
       "chunkresolve_rxnorm_sbd_clinical download started this may take some time.\n",
       "Approximate size to download 17.9 MB\n",
       "\r",
       "[ | ]\r",
       "[OK!]\n",
       "</div>"
      ]
     },
     "metadata": {
      "application/vnd.databricks.v1+output": {
       "addedWidgets": {},
       "arguments": {},
       "data": "<div class=\"ansiout\">ner_drugs_large download started this may take some time.\nApproximate size to download 13.9 MB\n\r[ | ]\r[OK!]\nchunkresolve_rxnorm_sbd_clinical download started this may take some time.\nApproximate size to download 17.9 MB\n\r[ | ]\r[OK!]\n</div>",
       "datasetInfos": [],
       "removedWidgets": [],
       "type": "html"
      }
     },
     "output_type": "display_data"
    }
   ],
   "source": [
    "posology_ner = MedicalNerModel.pretrained(\"ner_drugs_large\", \"en\", \"clinical/models\") \\\n",
    "    .setInputCols([\"sentence\", \"token\", \"embeddings\"]) \\\n",
    "    .setOutputCol(\"ner\")\n",
    "\n",
    "ner_converter = NerConverterInternal() \\\n",
    "    .setInputCols([\"sentence\", \"token\", \"ner\"]) \\\n",
    "    .setOutputCol(\"ner_chunk\")\\\n",
    "    .setPreservePosition(False)\n",
    "\n",
    "rxnorm_resolver = ChunkEntityResolverModel.pretrained('chunkresolve_rxnorm_sbd_clinical', 'en', \"clinical/models\")\\\n",
    "    .setEnableLevenshtein(True)\\\n",
    "    .setNeighbours(200).setAlternatives(5).setDistanceWeights([3,11,0,0,0,9])\\\n",
    "    .setInputCols('token', 'chunk_embeddings')\\\n",
    "    .setOutputCol('rxnorm_resolution')\\\n",
    "    .setPoolingStrategy(\"MAX\")\n",
    "\n",
    "pipeline_rxnorm = Pipeline(\n",
    "    stages = [\n",
    "    documentAssembler,\n",
    "    sentenceDetectorDL,\n",
    "    tokenizer,\n",
    "    stopwords,\n",
    "    word_embeddings,\n",
    "    posology_ner,\n",
    "    ner_converter,\n",
    "    chunk_embeddings,\n",
    "    rxnorm_resolver\n",
    "  ])\n",
    "\n",
    "\n",
    "model_rxnorm = pipeline_rxnorm.fit(data_ner)"
   ]
  },
  {
   "cell_type": "code",
   "execution_count": 0,
   "metadata": {
    "application/vnd.databricks.v1+cell": {
     "inputWidgets": {},
     "nuid": "c1f6451a-7b23-46a9-9af4-c545e7a20aba",
     "showTitle": false,
     "title": ""
    }
   },
   "outputs": [
    {
     "data": {
      "text/html": [
       "<style scoped>\n",
       "  .ansiout {\n",
       "    display: block;\n",
       "    unicode-bidi: embed;\n",
       "    white-space: pre-wrap;\n",
       "    word-wrap: break-word;\n",
       "    word-break: break-all;\n",
       "    font-family: \"Source Code Pro\", \"Menlo\", monospace;;\n",
       "    font-size: 13px;\n",
       "    color: #555;\n",
       "    margin-left: 4px;\n",
       "    line-height: 19px;\n",
       "  }\n",
       "</style>\n",
       "<div class=\"ansiout\">+----------------------------+------+----------------------------------------------------------------------------------------------------+-------+----------+\n",
       "                       chunk|entity|                                                                                         target_text|   code|confidence|\n",
       "+----------------------------+------+----------------------------------------------------------------------------------------------------+-------+----------+\n",
       "                 amoxicillin|  DRUG|Amoxicillin 50 MG Oral Tablet [Biomox]:::Amoxicillin 500 MG Oral Capsule [Amix]:::Amoxicillin 250...| 791949|    0.2170|\n",
       "                   metformin|  DRUG|Metformin hydrochloride 500 MG Oral Tablet [Glucamet]:::Metformin hydrochloride 850 MG Oral Table...| 105376|    0.2067|\n",
       "                   glipizide|  DRUG|Glipizide 5 MG Oral Tablet [Minidiab]:::Glipizide 5 MG Oral Tablet [Glucotrol]:::Glipizide 5 MG O...| 105373|    0.2224|\n",
       "      dapagliflozin for T2DM|  DRUG|dapagliflozin 5 MG / saxagliptin 5 MG Oral Tablet [Qtern]:::dapagliflozin 10 MG / saxagliptin 5 M...|2169276|    0.2532|\n",
       "atorvastatin and gemfibrozil|  DRUG|atorvastatin 10 MG Oral Tablet [Lipitor]:::atorvastatin 20 MG Oral Tablet [Lipitor]:::atorvastati...| 617314|    0.2166|\n",
       "               dapagliflozin|  DRUG|dapagliflozin 5 MG Oral Tablet [Farxiga]:::dapagliflozin 10 MG Oral Tablet [Farxiga]:::dapagliflo...|1486981|    0.3523|\n",
       "                insulin drip|  DRUG|Insulin Lispro 100 UNT/ML Injectable Solution [Humalog]:::Insulin Lispro 100 UNT/ML Cartridge [Hu...| 865098|    0.2250|\n",
       "             SGLT2 inhibitor|  DRUG|C1 esterase inhibitor (human) 500 UNT Injection [Cinryze]:::alpha 1-proteinase inhibitor, human 1...| 809871|    0.2044|\n",
       "            insulin glargine|  DRUG|Insulin Glargine 100 UNT/ML Pen Injector [Lantus]:::Insulin Glargine 300 UNT/ML Pen Injector [Tou...|1359856|    0.2265|\n",
       "              insulin lispro|  DRUG|Insulin Lispro 100 UNT/ML Cartridge [Humalog]:::Insulin Lispro 200 UNT/ML Pen Injector [Humalog]:...|1652648|    0.2340|\n",
       "           metformin 1000 mg|  DRUG|Metformin hydrochloride 500 MG Oral Tablet [Glucamet]:::Metformin hydrochloride 500 MG Oral Table...| 105376|    0.2324|\n",
       "            SGLT2 inhibitors|  DRUG|alpha 1-proteinase inhibitor, human 1 MG Injection [Prolastin]:::C1 esterase inhibitor (human) 50...|1661220|    0.2167|\n",
       "+----------------------------+------+----------------------------------------------------------------------------------------------------+-------+----------+\n",
       "\n",
       "</div>"
      ]
     },
     "metadata": {
      "application/vnd.databricks.v1+output": {
       "addedWidgets": {},
       "arguments": {},
       "data": "<div class=\"ansiout\">+----------------------------+------+----------------------------------------------------------------------------------------------------+-------+----------+\n|                       chunk|entity|                                                                                         target_text|   code|confidence|\n+----------------------------+------+----------------------------------------------------------------------------------------------------+-------+----------+\n|                 amoxicillin|  DRUG|Amoxicillin 50 MG Oral Tablet [Biomox]:::Amoxicillin 500 MG Oral Capsule [Amix]:::Amoxicillin 250...| 791949|    0.2170|\n|                   metformin|  DRUG|Metformin hydrochloride 500 MG Oral Tablet [Glucamet]:::Metformin hydrochloride 850 MG Oral Table...| 105376|    0.2067|\n|                   glipizide|  DRUG|Glipizide 5 MG Oral Tablet [Minidiab]:::Glipizide 5 MG Oral Tablet [Glucotrol]:::Glipizide 5 MG O...| 105373|    0.2224|\n|      dapagliflozin for T2DM|  DRUG|dapagliflozin 5 MG / saxagliptin 5 MG Oral Tablet [Qtern]:::dapagliflozin 10 MG / saxagliptin 5 M...|2169276|    0.2532|\n|atorvastatin and gemfibrozil|  DRUG|atorvastatin 10 MG Oral Tablet [Lipitor]:::atorvastatin 20 MG Oral Tablet [Lipitor]:::atorvastati...| 617314|    0.2166|\n|               dapagliflozin|  DRUG|dapagliflozin 5 MG Oral Tablet [Farxiga]:::dapagliflozin 10 MG Oral Tablet [Farxiga]:::dapagliflo...|1486981|    0.3523|\n|                insulin drip|  DRUG|Insulin Lispro 100 UNT/ML Injectable Solution [Humalog]:::Insulin Lispro 100 UNT/ML Cartridge [Hu...| 865098|    0.2250|\n|             SGLT2 inhibitor|  DRUG|C1 esterase inhibitor (human) 500 UNT Injection [Cinryze]:::alpha 1-proteinase inhibitor, human 1...| 809871|    0.2044|\n|            insulin glargine|  DRUG|Insulin Glargine 100 UNT/ML Pen Injector [Lantus]:::Insulin Glargine 300 UNT/ML Pen Injector [Tou...|1359856|    0.2265|\n|              insulin lispro|  DRUG|Insulin Lispro 100 UNT/ML Cartridge [Humalog]:::Insulin Lispro 200 UNT/ML Pen Injector [Humalog]:...|1652648|    0.2340|\n|           metformin 1000 mg|  DRUG|Metformin hydrochloride 500 MG Oral Tablet [Glucamet]:::Metformin hydrochloride 500 MG Oral Table...| 105376|    0.2324|\n|            SGLT2 inhibitors|  DRUG|alpha 1-proteinase inhibitor, human 1 MG Injection [Prolastin]:::C1 esterase inhibitor (human) 50...|1661220|    0.2167|\n+----------------------------+------+----------------------------------------------------------------------------------------------------+-------+----------+\n\n</div>",
       "datasetInfos": [],
       "removedWidgets": [],
       "type": "html"
      }
     },
     "output_type": "display_data"
    }
   ],
   "source": [
    "output = model_rxnorm.transform(data_ner)\n",
    "\n",
    "result_df = output.select(F.explode(F.arrays_zip(\"ner_chunk.result\",\"ner_chunk.metadata\",\"rxnorm_resolution.result\",\"rxnorm_resolution.metadata\"))\\\n",
    "                          .alias(\"rxnorm_result\")) \\\n",
    "                  .select(F.expr(\"rxnorm_result['0']\").alias(\"chunk\"),\n",
    "                          F.expr(\"rxnorm_result['1'].entity\").alias(\"entity\"),\n",
    "                          F.expr(\"rxnorm_result['3'].all_k_resolutions\").alias(\"target_text\"),\n",
    "                          F.expr(\"rxnorm_result['2']\").alias(\"code\"),\n",
    "                          F.expr(\"rxnorm_result['3'].confidence\").alias(\"confidence\"))\n",
    "\n",
    "result_df.show(truncate = 100)"
   ]
  },
  {
   "cell_type": "code",
   "execution_count": 0,
   "metadata": {
    "application/vnd.databricks.v1+cell": {
     "inputWidgets": {},
     "nuid": "8d2a1707-6259-4443-bc37-816ba564ed31",
     "showTitle": false,
     "title": ""
    }
   },
   "outputs": [
    {
     "data": {
      "text/html": [
       "<style scoped>\n",
       "  .ansiout {\n",
       "    display: block;\n",
       "    unicode-bidi: embed;\n",
       "    white-space: pre-wrap;\n",
       "    word-wrap: break-word;\n",
       "    word-break: break-all;\n",
       "    font-family: \"Source Code Pro\", \"Menlo\", monospace;;\n",
       "    font-size: 13px;\n",
       "    color: #555;\n",
       "    margin-left: 4px;\n",
       "    line-height: 19px;\n",
       "  }\n",
       "</style>\n",
       "<div class=\"ansiout\">Out[152]: </div>"
      ]
     },
     "metadata": {
      "application/vnd.databricks.v1+output": {
       "addedWidgets": {},
       "arguments": {},
       "data": "<div class=\"ansiout\">Out[152]: </div>",
       "datasetInfos": [],
       "removedWidgets": [],
       "type": "html"
      }
     },
     "output_type": "display_data"
    },
    {
     "data": {
      "text/html": [
       "<div>\n",
       "<style scoped>\n",
       "    .dataframe tbody tr th:only-of-type {\n",
       "        vertical-align: middle;\n",
       "    }\n",
       "\n",
       "    .dataframe tbody tr th {\n",
       "        vertical-align: top;\n",
       "    }\n",
       "\n",
       "    .dataframe thead th {\n",
       "        text-align: right;\n",
       "    }\n",
       "</style>\n",
       "<table border=\"1\" class=\"dataframe\">\n",
       "  <thead>\n",
       "    <tr style=\"text-align: right;\">\n",
       "      <th></th>\n",
       "      <th>chunk</th>\n",
       "      <th>entity</th>\n",
       "      <th>target_text</th>\n",
       "      <th>code</th>\n",
       "      <th>confidence</th>\n",
       "    </tr>\n",
       "  </thead>\n",
       "  <tbody>\n",
       "    <tr>\n",
       "      <th>0</th>\n",
       "      <td>amoxicillin</td>\n",
       "      <td>DRUG</td>\n",
       "      <td>Amoxicillin 50 MG Oral Tablet [Biomox]:::Amoxicillin 500 MG Oral Capsule [Amix]:::Amoxicillin 250 MG Oral Capsule [Amix]:::Amoxicillin 500 MG Oral Capsule [Wymox]:::Amoxicillin 500 MG Oral Capsule [Sumox]</td>\n",
       "      <td>791949</td>\n",
       "      <td>0.2170</td>\n",
       "    </tr>\n",
       "    <tr>\n",
       "      <th>1</th>\n",
       "      <td>metformin</td>\n",
       "      <td>DRUG</td>\n",
       "      <td>Metformin hydrochloride 500 MG Oral Tablet [Glucamet]:::Metformin hydrochloride 850 MG Oral Tablet [Glucamet]:::Metformin hydrochloride 850 MG Oral Tablet [Glucophage]:::Metformin hydrochloride 625 MG Oral Tablet [Glucophage]:::Metformin hydrochloride 850 MG Oral Tablet [Metforming]</td>\n",
       "      <td>105376</td>\n",
       "      <td>0.2067</td>\n",
       "    </tr>\n",
       "    <tr>\n",
       "      <th>2</th>\n",
       "      <td>glipizide</td>\n",
       "      <td>DRUG</td>\n",
       "      <td>Glipizide 5 MG Oral Tablet [Minidiab]:::Glipizide 5 MG Oral Tablet [Glucotrol]:::Glipizide 5 MG Oral Tablet [Glibenese]:::Glipizide 10 MG Oral Tablet [Glucotrol]:::Glipizide 2.5 MG Oral Tablet [Minidiab]</td>\n",
       "      <td>105373</td>\n",
       "      <td>0.2224</td>\n",
       "    </tr>\n",
       "    <tr>\n",
       "      <th>3</th>\n",
       "      <td>dapagliflozin for T2DM</td>\n",
       "      <td>DRUG</td>\n",
       "      <td>dapagliflozin 5 MG / saxagliptin 5 MG Oral Tablet [Qtern]:::dapagliflozin 10 MG / saxagliptin 5 MG Oral Tablet [Qtern]:::dapagliflozin 5 MG / Metformin hydrochloride 500 MG Extended Release Oral Tablet [Xigduo]:::dapagliflozin 5 MG / Metformin hydrochloride 1000 MG Extended Release Oral Tablet [Xigduo]:::dapagliflozin 10 MG / Metformin hydrochloride 500 MG Extended Release Oral Tablet [Xigduo]</td>\n",
       "      <td>2169276</td>\n",
       "      <td>0.2532</td>\n",
       "    </tr>\n",
       "    <tr>\n",
       "      <th>4</th>\n",
       "      <td>atorvastatin and gemfibrozil</td>\n",
       "      <td>DRUG</td>\n",
       "      <td>atorvastatin 10 MG Oral Tablet [Lipitor]:::atorvastatin 20 MG Oral Tablet [Lipitor]:::atorvastatin 40 MG Oral Tablet [Lipitor]:::atorvastatin 80 MG Oral Tablet [Lipitor]:::Amlodipine 5 MG / atorvastatin 10 MG Oral Tablet [Caduet]</td>\n",
       "      <td>617314</td>\n",
       "      <td>0.2166</td>\n",
       "    </tr>\n",
       "    <tr>\n",
       "      <th>5</th>\n",
       "      <td>dapagliflozin</td>\n",
       "      <td>DRUG</td>\n",
       "      <td>dapagliflozin 5 MG Oral Tablet [Farxiga]:::dapagliflozin 10 MG Oral Tablet [Farxiga]:::dapagliflozin 5 MG / saxagliptin 5 MG Oral Tablet [Qtern]:::dapagliflozin 10 MG / saxagliptin 5 MG Oral Tablet [Qtern]:::dapagliflozin 5 MG / Metformin hydrochloride 500 MG Extended Release Oral Tablet [Xigduo]</td>\n",
       "      <td>1486981</td>\n",
       "      <td>0.3523</td>\n",
       "    </tr>\n",
       "    <tr>\n",
       "      <th>6</th>\n",
       "      <td>insulin drip</td>\n",
       "      <td>DRUG</td>\n",
       "      <td>Insulin Lispro 100 UNT/ML Injectable Solution [Humalog]:::Insulin Lispro 100 UNT/ML Cartridge [Humalog]:::3 ML Insulin Lispro 100 UNT/ML Cartridge [Humalog]:::Insulin Lispro 100 UNT/ML Injectable Solution [Admelog]:::insulin degludec 100 UNT/ML Injectable Solution [Tresiba]</td>\n",
       "      <td>865098</td>\n",
       "      <td>0.2250</td>\n",
       "    </tr>\n",
       "    <tr>\n",
       "      <th>7</th>\n",
       "      <td>SGLT2 inhibitor</td>\n",
       "      <td>DRUG</td>\n",
       "      <td>C1 esterase inhibitor (human) 500 UNT Injection [Cinryze]:::alpha 1-proteinase inhibitor, human 1 MG Injection [Zemaira]:::alpha 1-proteinase inhibitor, human 1 MG Injection [Aralast]:::alpha 1-proteinase inhibitor, human 1 MG Injection [Glassia]:::C1 esterase inhibitor (human) 500 UNT Injection [Berinert]</td>\n",
       "      <td>809871</td>\n",
       "      <td>0.2044</td>\n",
       "    </tr>\n",
       "    <tr>\n",
       "      <th>8</th>\n",
       "      <td>insulin glargine</td>\n",
       "      <td>DRUG</td>\n",
       "      <td>Insulin Glargine 100 UNT/ML Pen Injector [Lantus]:::Insulin Glargine 300 UNT/ML Pen Injector [Toujeo]:::Insulin Glargine 100 UNT/ML Pen Injector [Basaglar]:::3 ML Insulin Glargine 100 UNT/ML Pen Injector [Lantus]:::3 ML Insulin Glargine 300 UNT/ML Pen Injector [Toujeo]</td>\n",
       "      <td>1359856</td>\n",
       "      <td>0.2265</td>\n",
       "    </tr>\n",
       "    <tr>\n",
       "      <th>9</th>\n",
       "      <td>insulin lispro</td>\n",
       "      <td>DRUG</td>\n",
       "      <td>Insulin Lispro 100 UNT/ML Cartridge [Humalog]:::Insulin Lispro 200 UNT/ML Pen Injector [Humalog]:::Insulin Lispro 100 UNT/ML Pen Injector [Admelog]:::Insulin Lispro 100 UNT/ML Pen Injector [Humalog]:::3 ML Insulin Lispro 100 UNT/ML Cartridge [Humalog]</td>\n",
       "      <td>1652648</td>\n",
       "      <td>0.2340</td>\n",
       "    </tr>\n",
       "    <tr>\n",
       "      <th>10</th>\n",
       "      <td>metformin 1000 mg</td>\n",
       "      <td>DRUG</td>\n",
       "      <td>Metformin hydrochloride 500 MG Oral Tablet [Glucamet]:::Metformin hydrochloride 500 MG Oral Tablet [Glucophage]:::Metformin hydrochloride 850 MG Oral Tablet [Glucamet]:::Metformin hydrochloride 850 MG Oral Tablet [Glucophage]:::Metformin hydrochloride 850 MG Oral Tablet [Metforming]</td>\n",
       "      <td>105376</td>\n",
       "      <td>0.2324</td>\n",
       "    </tr>\n",
       "    <tr>\n",
       "      <th>11</th>\n",
       "      <td>SGLT2 inhibitors</td>\n",
       "      <td>DRUG</td>\n",
       "      <td>alpha 1-proteinase inhibitor, human 1 MG Injection [Prolastin]:::C1 esterase inhibitor (human) 500 UNT Injection [Cinryze]:::C1 esterase inhibitor (human) 500 UNT Injection [Berinert]:::ANTI-INHIBITOR COAGULANT COMPLEX 1 UNT Injection [Feiba]:::C1 esterase inhibitor (human) 3000 UNT Injection [Haegarda]</td>\n",
       "      <td>1661220</td>\n",
       "      <td>0.2167</td>\n",
       "    </tr>\n",
       "  </tbody>\n",
       "</table>\n",
       "</div>"
      ]
     },
     "metadata": {
      "application/vnd.databricks.v1+output": {
       "addedWidgets": {},
       "arguments": {},
       "data": "<div>\n<style scoped>\n    .dataframe tbody tr th:only-of-type {\n        vertical-align: middle;\n    }\n\n    .dataframe tbody tr th {\n        vertical-align: top;\n    }\n\n    .dataframe thead th {\n        text-align: right;\n    }\n</style>\n<table border=\"1\" class=\"dataframe\">\n  <thead>\n    <tr style=\"text-align: right;\">\n      <th></th>\n      <th>chunk</th>\n      <th>entity</th>\n      <th>target_text</th>\n      <th>code</th>\n      <th>confidence</th>\n    </tr>\n  </thead>\n  <tbody>\n    <tr>\n      <th>0</th>\n      <td>amoxicillin</td>\n      <td>DRUG</td>\n      <td>Amoxicillin 50 MG Oral Tablet [Biomox]:::Amoxicillin 500 MG Oral Capsule [Amix]:::Amoxicillin 250 MG Oral Capsule [Amix]:::Amoxicillin 500 MG Oral Capsule [Wymox]:::Amoxicillin 500 MG Oral Capsule [Sumox]</td>\n      <td>791949</td>\n      <td>0.2170</td>\n    </tr>\n    <tr>\n      <th>1</th>\n      <td>metformin</td>\n      <td>DRUG</td>\n      <td>Metformin hydrochloride 500 MG Oral Tablet [Glucamet]:::Metformin hydrochloride 850 MG Oral Tablet [Glucamet]:::Metformin hydrochloride 850 MG Oral Tablet [Glucophage]:::Metformin hydrochloride 625 MG Oral Tablet [Glucophage]:::Metformin hydrochloride 850 MG Oral Tablet [Metforming]</td>\n      <td>105376</td>\n      <td>0.2067</td>\n    </tr>\n    <tr>\n      <th>2</th>\n      <td>glipizide</td>\n      <td>DRUG</td>\n      <td>Glipizide 5 MG Oral Tablet [Minidiab]:::Glipizide 5 MG Oral Tablet [Glucotrol]:::Glipizide 5 MG Oral Tablet [Glibenese]:::Glipizide 10 MG Oral Tablet [Glucotrol]:::Glipizide 2.5 MG Oral Tablet [Minidiab]</td>\n      <td>105373</td>\n      <td>0.2224</td>\n    </tr>\n    <tr>\n      <th>3</th>\n      <td>dapagliflozin for T2DM</td>\n      <td>DRUG</td>\n      <td>dapagliflozin 5 MG / saxagliptin 5 MG Oral Tablet [Qtern]:::dapagliflozin 10 MG / saxagliptin 5 MG Oral Tablet [Qtern]:::dapagliflozin 5 MG / Metformin hydrochloride 500 MG Extended Release Oral Tablet [Xigduo]:::dapagliflozin 5 MG / Metformin hydrochloride 1000 MG Extended Release Oral Tablet [Xigduo]:::dapagliflozin 10 MG / Metformin hydrochloride 500 MG Extended Release Oral Tablet [Xigduo]</td>\n      <td>2169276</td>\n      <td>0.2532</td>\n    </tr>\n    <tr>\n      <th>4</th>\n      <td>atorvastatin and gemfibrozil</td>\n      <td>DRUG</td>\n      <td>atorvastatin 10 MG Oral Tablet [Lipitor]:::atorvastatin 20 MG Oral Tablet [Lipitor]:::atorvastatin 40 MG Oral Tablet [Lipitor]:::atorvastatin 80 MG Oral Tablet [Lipitor]:::Amlodipine 5 MG / atorvastatin 10 MG Oral Tablet [Caduet]</td>\n      <td>617314</td>\n      <td>0.2166</td>\n    </tr>\n    <tr>\n      <th>5</th>\n      <td>dapagliflozin</td>\n      <td>DRUG</td>\n      <td>dapagliflozin 5 MG Oral Tablet [Farxiga]:::dapagliflozin 10 MG Oral Tablet [Farxiga]:::dapagliflozin 5 MG / saxagliptin 5 MG Oral Tablet [Qtern]:::dapagliflozin 10 MG / saxagliptin 5 MG Oral Tablet [Qtern]:::dapagliflozin 5 MG / Metformin hydrochloride 500 MG Extended Release Oral Tablet [Xigduo]</td>\n      <td>1486981</td>\n      <td>0.3523</td>\n    </tr>\n    <tr>\n      <th>6</th>\n      <td>insulin drip</td>\n      <td>DRUG</td>\n      <td>Insulin Lispro 100 UNT/ML Injectable Solution [Humalog]:::Insulin Lispro 100 UNT/ML Cartridge [Humalog]:::3 ML Insulin Lispro 100 UNT/ML Cartridge [Humalog]:::Insulin Lispro 100 UNT/ML Injectable Solution [Admelog]:::insulin degludec 100 UNT/ML Injectable Solution [Tresiba]</td>\n      <td>865098</td>\n      <td>0.2250</td>\n    </tr>\n    <tr>\n      <th>7</th>\n      <td>SGLT2 inhibitor</td>\n      <td>DRUG</td>\n      <td>C1 esterase inhibitor (human) 500 UNT Injection [Cinryze]:::alpha 1-proteinase inhibitor, human 1 MG Injection [Zemaira]:::alpha 1-proteinase inhibitor, human 1 MG Injection [Aralast]:::alpha 1-proteinase inhibitor, human 1 MG Injection [Glassia]:::C1 esterase inhibitor (human) 500 UNT Injection [Berinert]</td>\n      <td>809871</td>\n      <td>0.2044</td>\n    </tr>\n    <tr>\n      <th>8</th>\n      <td>insulin glargine</td>\n      <td>DRUG</td>\n      <td>Insulin Glargine 100 UNT/ML Pen Injector [Lantus]:::Insulin Glargine 300 UNT/ML Pen Injector [Toujeo]:::Insulin Glargine 100 UNT/ML Pen Injector [Basaglar]:::3 ML Insulin Glargine 100 UNT/ML Pen Injector [Lantus]:::3 ML Insulin Glargine 300 UNT/ML Pen Injector [Toujeo]</td>\n      <td>1359856</td>\n      <td>0.2265</td>\n    </tr>\n    <tr>\n      <th>9</th>\n      <td>insulin lispro</td>\n      <td>DRUG</td>\n      <td>Insulin Lispro 100 UNT/ML Cartridge [Humalog]:::Insulin Lispro 200 UNT/ML Pen Injector [Humalog]:::Insulin Lispro 100 UNT/ML Pen Injector [Admelog]:::Insulin Lispro 100 UNT/ML Pen Injector [Humalog]:::3 ML Insulin Lispro 100 UNT/ML Cartridge [Humalog]</td>\n      <td>1652648</td>\n      <td>0.2340</td>\n    </tr>\n    <tr>\n      <th>10</th>\n      <td>metformin 1000 mg</td>\n      <td>DRUG</td>\n      <td>Metformin hydrochloride 500 MG Oral Tablet [Glucamet]:::Metformin hydrochloride 500 MG Oral Tablet [Glucophage]:::Metformin hydrochloride 850 MG Oral Tablet [Glucamet]:::Metformin hydrochloride 850 MG Oral Tablet [Glucophage]:::Metformin hydrochloride 850 MG Oral Tablet [Metforming]</td>\n      <td>105376</td>\n      <td>0.2324</td>\n    </tr>\n    <tr>\n      <th>11</th>\n      <td>SGLT2 inhibitors</td>\n      <td>DRUG</td>\n      <td>alpha 1-proteinase inhibitor, human 1 MG Injection [Prolastin]:::C1 esterase inhibitor (human) 500 UNT Injection [Cinryze]:::C1 esterase inhibitor (human) 500 UNT Injection [Berinert]:::ANTI-INHIBITOR COAGULANT COMPLEX 1 UNT Injection [Feiba]:::C1 esterase inhibitor (human) 3000 UNT Injection [Haegarda]</td>\n      <td>1661220</td>\n      <td>0.2167</td>\n    </tr>\n  </tbody>\n</table>\n</div>",
       "datasetInfos": [],
       "removedWidgets": [],
       "textData": null,
       "type": "htmlSandbox"
      }
     },
     "output_type": "display_data"
    }
   ],
   "source": [
    "df = result_df.toPandas()\n",
    "df                 "
   ]
  },
  {
   "cell_type": "markdown",
   "metadata": {
    "application/vnd.databricks.v1+cell": {
     "inputWidgets": {},
     "nuid": "4ae47fa5-b583-4026-b268-2cea4ba48988",
     "showTitle": false,
     "title": ""
    }
   },
   "source": [
    "## Snomed Resolver"
   ]
  },
  {
   "cell_type": "code",
   "execution_count": 0,
   "metadata": {
    "application/vnd.databricks.v1+cell": {
     "inputWidgets": {},
     "nuid": "fbb36f24-f2cf-4d2f-a960-43164655c630",
     "showTitle": false,
     "title": ""
    }
   },
   "outputs": [
    {
     "data": {
      "text/html": [
       "<style scoped>\n",
       "  .ansiout {\n",
       "    display: block;\n",
       "    unicode-bidi: embed;\n",
       "    white-space: pre-wrap;\n",
       "    word-wrap: break-word;\n",
       "    word-break: break-all;\n",
       "    font-family: \"Source Code Pro\", \"Menlo\", monospace;;\n",
       "    font-size: 13px;\n",
       "    color: #555;\n",
       "    margin-left: 4px;\n",
       "    line-height: 19px;\n",
       "  }\n",
       "</style>\n",
       "<div class=\"ansiout\">chunkresolve_snomed_findings_clinical download started this may take some time.\n",
       "Approximate size to download 162.5 MB\n",
       "\r",
       "[ | ]\r",
       "[ / ]\r",
       "[ — ]\r",
       "[ \\ ]\r",
       "[ | ]\r",
       "[ / ]\r",
       "[ — ]\r",
       "[ \\ ]\r",
       "[ | ]\r",
       "[ / ]\r",
       "[ — ]\r",
       "[ \\ ]\r",
       "[ | ]\r",
       "[ / ]\r",
       "[ — ]\r",
       "[ \\ ]\r",
       "[ | ]\r",
       "[ / ]\r",
       "[ — ]\r",
       "[ \\ ]\r",
       "[ | ]\r",
       "[ / ]\r",
       "[ — ]\r",
       "[ \\ ]\r",
       "[ | ]\r",
       "[ / ]\r",
       "[ — ]\r",
       "[ \\ ]\r",
       "[ | ]\r",
       "[ / ]\r",
       "[ — ]\r",
       "[ \\ ]\r",
       "[ | ]\r",
       "[ / ]\r",
       "[ — ]\r",
       "[ \\ ]\r",
       "[ | ]\r",
       "[ / ]\r",
       "[ — ]\r",
       "[ \\ ]\r",
       "[ | ]\r",
       "[ / ]\r",
       "[ — ]\r",
       "[ \\ ]\r",
       "[ | ]\r",
       "[ / ]\r",
       "[ — ]\r",
       "[ \\ ]\r",
       "[ | ]\r",
       "[ / ]\r",
       "[OK!]\n",
       "</div>"
      ]
     },
     "metadata": {
      "application/vnd.databricks.v1+output": {
       "addedWidgets": {},
       "arguments": {},
       "data": "<div class=\"ansiout\">chunkresolve_snomed_findings_clinical download started this may take some time.\nApproximate size to download 162.5 MB\n\r[ | ]\r[ / ]\r[ — ]\r[ \\ ]\r[ | ]\r[ / ]\r[ — ]\r[ \\ ]\r[ | ]\r[ / ]\r[ — ]\r[ \\ ]\r[ | ]\r[ / ]\r[ — ]\r[ \\ ]\r[ | ]\r[ / ]\r[ — ]\r[ \\ ]\r[ | ]\r[ / ]\r[ — ]\r[ \\ ]\r[ | ]\r[ / ]\r[ — ]\r[ \\ ]\r[ | ]\r[ / ]\r[ — ]\r[ \\ ]\r[ | ]\r[ / ]\r[ — ]\r[ \\ ]\r[ | ]\r[ / ]\r[ — ]\r[ \\ ]\r[ | ]\r[ / ]\r[ — ]\r[ \\ ]\r[ | ]\r[ / ]\r[ — ]\r[ \\ ]\r[ | ]\r[ / ]\r[OK!]\n</div>",
       "datasetInfos": [],
       "removedWidgets": [],
       "type": "html"
      }
     },
     "output_type": "display_data"
    }
   ],
   "source": [
    "snomed_ner_converter = NerConverterInternal() \\\n",
    "  .setInputCols([\"sentence\", \"token\", \"ner\"]) \\\n",
    "  .setOutputCol(\"greedy_chunk\")\\\n",
    "  .setWhiteList(['PROBLEM','TEST'])\n",
    "\n",
    "chunk_embeddings = ChunkEmbeddings()\\\n",
    "  .setInputCols('greedy_chunk', 'embeddings')\\\n",
    "  .setOutputCol('chunk_embeddings')\n",
    "\n",
    "snomed_resolver = ChunkEntityResolverModel.pretrained(\"chunkresolve_snomed_findings_clinical\",\"en\",\"clinical/models\")\\\n",
    "    .setInputCols(\"token\",\"chunk_embeddings\")\\\n",
    "    .setOutputCol(\"snomed_resolution\")\n",
    "\n",
    "\n",
    "pipeline_snomed = Pipeline(\n",
    "    stages = [\n",
    "    documentAssembler,\n",
    "    sentenceDetector,\n",
    "    tokenizer,\n",
    "    stopwords,\n",
    "    word_embeddings,\n",
    "    clinical_ner,\n",
    "    snomed_ner_converter,\n",
    "    chunk_embeddings,\n",
    "    snomed_resolver\n",
    "  ])\n",
    "\n",
    "model_snomed = pipeline_snomed.fit(data)\n"
   ]
  },
  {
   "cell_type": "code",
   "execution_count": 0,
   "metadata": {
    "application/vnd.databricks.v1+cell": {
     "inputWidgets": {},
     "nuid": "9f710fcb-5ccd-4231-953f-38b1c251efbc",
     "showTitle": false,
     "title": ""
    }
   },
   "outputs": [
    {
     "data": {
      "text/html": [
       "<style scoped>\n",
       "  .ansiout {\n",
       "    display: block;\n",
       "    unicode-bidi: embed;\n",
       "    white-space: pre-wrap;\n",
       "    word-wrap: break-word;\n",
       "    word-break: break-all;\n",
       "    font-family: \"Source Code Pro\", \"Menlo\", monospace;;\n",
       "    font-size: 13px;\n",
       "    color: #555;\n",
       "    margin-left: 4px;\n",
       "    line-height: 19px;\n",
       "  }\n",
       "</style>\n",
       "<div class=\"ansiout\"></div>"
      ]
     },
     "metadata": {
      "application/vnd.databricks.v1+output": {
       "addedWidgets": {},
       "arguments": {},
       "data": "<div class=\"ansiout\"></div>",
       "datasetInfos": [],
       "removedWidgets": [],
       "type": "html"
      }
     },
     "output_type": "display_data"
    }
   ],
   "source": [
    "snomed_output = model_snomed.transform(data)\n",
    "\n",
    "snomed_output.write.mode(\"overwrite\").save(\"/snomed_temp\")\n",
    "\n",
    "snomed_output = spark.read.load(\"/snomed_temp\")"
   ]
  },
  {
   "cell_type": "code",
   "execution_count": 0,
   "metadata": {
    "application/vnd.databricks.v1+cell": {
     "inputWidgets": {},
     "nuid": "14273da2-3272-49d7-926b-65be9e86a700",
     "showTitle": false,
     "title": ""
    }
   },
   "outputs": [
    {
     "data": {
      "text/html": [
       "<style scoped>\n",
       "  .ansiout {\n",
       "    display: block;\n",
       "    unicode-bidi: embed;\n",
       "    white-space: pre-wrap;\n",
       "    word-wrap: break-word;\n",
       "    word-break: break-all;\n",
       "    font-family: \"Source Code Pro\", \"Menlo\", monospace;;\n",
       "    font-size: 13px;\n",
       "    color: #555;\n",
       "    margin-left: 4px;\n",
       "    line-height: 19px;\n",
       "  }\n",
       "</style>\n",
       "<div class=\"ansiout\">+-----------------------------------------------------------------------------+-------+----------------------------------------------------------------------------------------------------+-----------------+----------+\n",
       "                                                                        chunk| entity|                                                                                         target_text|             code|confidence|\n",
       "+-----------------------------------------------------------------------------+-------+----------------------------------------------------------------------------------------------------+-----------------+----------+\n",
       "                                                    erythematous skin lesions|PROBLEM|Skin lesion:::Achromic skin lesions of pinta:::Scaly skin:::Skin constricture:::Cratered skin les...|         95324001|    0.0937|\n",
       "                                                                     pruritus|PROBLEM|Pruritus:::Genital pruritus:::Postmenopausal pruritus:::Pruritus hiemalis:::Pruritus ani:::Anogen...|        418363000|    0.1394|\n",
       "                                                                     pruritus|PROBLEM|Pruritus:::Genital pruritus:::Postmenopausal pruritus:::Pruritus hiemalis:::Pruritus ani:::Anogen...|        418363000|    0.1394|\n",
       "                                                                 hypertension|PROBLEM|Hypertension:::Renovascular hypertension:::Idiopathic hypertension:::Venous hypertension:::Resist...|         38341003|    0.1019|\n",
       "                                                             headache or pain|PROBLEM|Pain:::Headache:::Postchordotomy pain:::Throbbing pain:::Aching headache:::Postspinal headache:::...|         22253000|    0.0953|\n",
       "                                                    lesion on corner of mouth|PROBLEM|Vesiculoerosive lesion:::Lesion of tongue:::Erythroleukoplakia of mouth:::Lesion of nose:::Lesion...|        708484008|    0.0578|\n",
       "                                                          nausea and vomiting|PROBLEM|Nausea and vomiting:::Vomiting without nausea:::Nausea:::Intractable nausea and vomiting:::Vomiti...|         16932000|    0.0995|\n",
       "                                                          perianal irritation|PROBLEM|Perineal irritation:::Vulval irritation:::Skin irritation:::Perianal pain:::Perianal itch:::Vagin...|        281639001|    0.0764|\n",
       "                                                                     insomnia|PROBLEM|Insomnia:::Mood insomnia:::Nonorganic insomnia:::Persistent insomnia:::Psychophysiologic insomnia...|        193462001|    0.1198|\n",
       "                                    patient&#39;s incisions sternal and right leg|PROBLEM|Laceration of right lower leg:::Varicose veins of right leg:::Stab wound of right lower leg:::Clo...|10963831000119103|    0.0526|\n",
       "                                                               blood pressure|   TEST|Elevated blood pressure:::Abnormal blood pressure:::High blood pressure:::Low blood pressure:::No...|         24184005|    0.0480|\n",
       "                                                                   hematocrit|   TEST|Hematocrit:::Stable hematocrit:::Precipitous drop in hematocrit:::Hematocrit - borderline high:::...|        365616005|    0.5722|\n",
       "                                                           bun and creatinine|   TEST|Micropunctum lacrimale:::Creatinine in sample:::Serum creatinine normal:::Serum creatinine low:::...|         95505003|    0.1501|\n",
       "                                                       prothrombin time level|   TEST|Prothrombin time low:::Prothrombin time increased:::Prothrombin time finding:::Prothrombin time n...|        165569003|    0.1356|\n",
       "                                                                  chest x-ray|   TEST|Flat chest:::Rigid chest:::Chest hyperinflated:::Chest percussion tympanitic:::Chest mass:::Chest...|          3274008|    0.0560|\n",
       "small bilateral effusions with mild cardiomegaly and subsegmental atelectasis|PROBLEM|Bilateral pleural effusion (disorder):::Effusion of joint of bilateral ankles:::Effusion of joint...|        425802001|    0.0501|\n",
       "                                              bibasilar and electrocardiogram|   TEST|Electrocardiogram abnormal:::Electrocardiogram normal:::Electrocardiogram finding:::Electrocardio...|        102594003|    0.0703|\n",
       "                                                      left atrial enlargement|PROBLEM|Left atrial enlargement:::Right atrial enlargement:::Left atrial hypertrophy:::Left atrial dilata...|   67741000119109|    0.1804|\n",
       "                                  acute ischemic changes on electrocardiogram|PROBLEM|Postoperative electrocardiogram changes:::Acute ischemic renal failure:::Potential for acute isch...|        251144001|    0.1238|\n",
       "                                                                 hypertension|PROBLEM|Hypertension:::Renovascular hypertension:::Idiopathic hypertension:::Venous hypertension:::Resist...|         38341003|    0.1019|\n",
       "+-----------------------------------------------------------------------------+-------+----------------------------------------------------------------------------------------------------+-----------------+----------+\n",
       "only showing top 20 rows\n",
       "\n",
       "</div>"
      ]
     },
     "metadata": {
      "application/vnd.databricks.v1+output": {
       "addedWidgets": {},
       "arguments": {},
       "data": "<div class=\"ansiout\">+-----------------------------------------------------------------------------+-------+----------------------------------------------------------------------------------------------------+-----------------+----------+\n|                                                                        chunk| entity|                                                                                         target_text|             code|confidence|\n+-----------------------------------------------------------------------------+-------+----------------------------------------------------------------------------------------------------+-----------------+----------+\n|                                                    erythematous skin lesions|PROBLEM|Skin lesion:::Achromic skin lesions of pinta:::Scaly skin:::Skin constricture:::Cratered skin les...|         95324001|    0.0937|\n|                                                                     pruritus|PROBLEM|Pruritus:::Genital pruritus:::Postmenopausal pruritus:::Pruritus hiemalis:::Pruritus ani:::Anogen...|        418363000|    0.1394|\n|                                                                     pruritus|PROBLEM|Pruritus:::Genital pruritus:::Postmenopausal pruritus:::Pruritus hiemalis:::Pruritus ani:::Anogen...|        418363000|    0.1394|\n|                                                                 hypertension|PROBLEM|Hypertension:::Renovascular hypertension:::Idiopathic hypertension:::Venous hypertension:::Resist...|         38341003|    0.1019|\n|                                                             headache or pain|PROBLEM|Pain:::Headache:::Postchordotomy pain:::Throbbing pain:::Aching headache:::Postspinal headache:::...|         22253000|    0.0953|\n|                                                    lesion on corner of mouth|PROBLEM|Vesiculoerosive lesion:::Lesion of tongue:::Erythroleukoplakia of mouth:::Lesion of nose:::Lesion...|        708484008|    0.0578|\n|                                                          nausea and vomiting|PROBLEM|Nausea and vomiting:::Vomiting without nausea:::Nausea:::Intractable nausea and vomiting:::Vomiti...|         16932000|    0.0995|\n|                                                          perianal irritation|PROBLEM|Perineal irritation:::Vulval irritation:::Skin irritation:::Perianal pain:::Perianal itch:::Vagin...|        281639001|    0.0764|\n|                                                                     insomnia|PROBLEM|Insomnia:::Mood insomnia:::Nonorganic insomnia:::Persistent insomnia:::Psychophysiologic insomnia...|        193462001|    0.1198|\n|                                    patient&#39;s incisions sternal and right leg|PROBLEM|Laceration of right lower leg:::Varicose veins of right leg:::Stab wound of right lower leg:::Clo...|10963831000119103|    0.0526|\n|                                                               blood pressure|   TEST|Elevated blood pressure:::Abnormal blood pressure:::High blood pressure:::Low blood pressure:::No...|         24184005|    0.0480|\n|                                                                   hematocrit|   TEST|Hematocrit:::Stable hematocrit:::Precipitous drop in hematocrit:::Hematocrit - borderline high:::...|        365616005|    0.5722|\n|                                                           bun and creatinine|   TEST|Micropunctum lacrimale:::Creatinine in sample:::Serum creatinine normal:::Serum creatinine low:::...|         95505003|    0.1501|\n|                                                       prothrombin time level|   TEST|Prothrombin time low:::Prothrombin time increased:::Prothrombin time finding:::Prothrombin time n...|        165569003|    0.1356|\n|                                                                  chest x-ray|   TEST|Flat chest:::Rigid chest:::Chest hyperinflated:::Chest percussion tympanitic:::Chest mass:::Chest...|          3274008|    0.0560|\n|small bilateral effusions with mild cardiomegaly and subsegmental atelectasis|PROBLEM|Bilateral pleural effusion (disorder):::Effusion of joint of bilateral ankles:::Effusion of joint...|        425802001|    0.0501|\n|                                              bibasilar and electrocardiogram|   TEST|Electrocardiogram abnormal:::Electrocardiogram normal:::Electrocardiogram finding:::Electrocardio...|        102594003|    0.0703|\n|                                                      left atrial enlargement|PROBLEM|Left atrial enlargement:::Right atrial enlargement:::Left atrial hypertrophy:::Left atrial dilata...|   67741000119109|    0.1804|\n|                                  acute ischemic changes on electrocardiogram|PROBLEM|Postoperative electrocardiogram changes:::Acute ischemic renal failure:::Potential for acute isch...|        251144001|    0.1238|\n|                                                                 hypertension|PROBLEM|Hypertension:::Renovascular hypertension:::Idiopathic hypertension:::Venous hypertension:::Resist...|         38341003|    0.1019|\n+-----------------------------------------------------------------------------+-------+----------------------------------------------------------------------------------------------------+-----------------+----------+\nonly showing top 20 rows\n\n</div>",
       "datasetInfos": [],
       "removedWidgets": [],
       "type": "html"
      }
     },
     "output_type": "display_data"
    }
   ],
   "source": [
    "snomed_output.select(F.explode(F.arrays_zip(\"greedy_chunk.result\",\"greedy_chunk.metadata\",\"snomed_resolution.result\",\"snomed_resolution.metadata\"))\\\n",
    "                     .alias(\"snomed_result\")) \\\n",
    "              .select(F.expr(\"snomed_result['0']\").alias(\"chunk\"),\n",
    "                      F.expr(\"snomed_result['1'].entity\").alias(\"entity\"),\n",
    "                      F.expr(\"snomed_result['3'].all_k_resolutions\").alias(\"target_text\"),\n",
    "                      F.expr(\"snomed_result['2']\").alias(\"code\"),\n",
    "                      F.expr(\"snomed_result['3'].confidence\").alias(\"confidence\")).show(truncate = 100)"
   ]
  },
  {
   "cell_type": "markdown",
   "metadata": {
    "application/vnd.databricks.v1+cell": {
     "inputWidgets": {},
     "nuid": "581f7616-6966-4b9c-a52b-f21105b4bd51",
     "showTitle": false,
     "title": ""
    }
   },
   "source": [
    "## ICD10 + RxNorm with Multiple NERs"
   ]
  },
  {
   "cell_type": "code",
   "execution_count": 0,
   "metadata": {
    "application/vnd.databricks.v1+cell": {
     "inputWidgets": {},
     "nuid": "83863e27-65f9-4ca1-bd21-5d4450305015",
     "showTitle": false,
     "title": ""
    }
   },
   "outputs": [
    {
     "data": {
      "text/html": [
       "<style scoped>\n",
       "  .ansiout {\n",
       "    display: block;\n",
       "    unicode-bidi: embed;\n",
       "    white-space: pre-wrap;\n",
       "    word-wrap: break-word;\n",
       "    word-break: break-all;\n",
       "    font-family: \"Source Code Pro\", \"Menlo\", monospace;;\n",
       "    font-size: 13px;\n",
       "    color: #555;\n",
       "    margin-left: 4px;\n",
       "    line-height: 19px;\n",
       "  }\n",
       "</style>\n",
       "<div class=\"ansiout\"></div>"
      ]
     },
     "metadata": {
      "application/vnd.databricks.v1+output": {
       "addedWidgets": {},
       "arguments": {},
       "data": "<div class=\"ansiout\"></div>",
       "datasetInfos": [],
       "removedWidgets": [],
       "type": "html"
      }
     },
     "output_type": "display_data"
    }
   ],
   "source": [
    "notes = [\n",
    "'Pentamidine 300 mg IV q . 36 hours , Pentamidine nasal wash 60 mg per 6 ml of sterile water q.d . , voriconazole 200 mg p.o . b.i.d . , acyclovir 400 mg p.o . b.i.d . , cyclosporine 50 mg p.o . b.i.d . , prednisone 60 mg p.o . q.d . , GCSF 480 mcg IV q.d . , Epogen 40,000 units subcu q . week , Protonix 40 mg q.d . , Simethicone 80 mg p.o . q . 8 , nitroglycerin paste 1 \" ; q . 4 h . p.r.n . , flunisolide nasal inhaler , 2 puffs q . 8 , OxyCodone 10-15 mg p.o . q . 6 p.r.n . , Sudafed 30 mg q . 6 p.o . p.r.n . , Fluconazole 2% cream b.i.d . to erythematous skin lesions , Ditropan 5 mg p.o . b.i.d . , Tylenol 650 mg p.o . q . 4 h . p.r.n . , Ambien 5-10 mg p.o . q . h.s . p.r.n . , Neurontin 100 mg q . a.m . , 200 mg q . p.m . , Aquaphor cream b.i.d . p.r.n . , Lotrimin 1% cream b.i.d . to feet , Dulcolax 5-10 mg p.o . q.d . p.r.n . , Phoslo 667 mg p.o . t.i.d . , Peridex 0.12% , 15 ml p.o . b.i.d . mouthwash , Benadryl 25-50 mg q . 4-6 h . p.r.n . pruritus , Sarna cream q.d . p.r.n . pruritus , Nystatin 5 ml p.o . q.i.d . swish and !',\n",
    "'Albuterol nebulizers 2.5 mg q.4h . and Atrovent nebulizers 0.5 mg q.4h . , please alternate albuterol and Atrovent ; Rocaltrol 0.25 mcg per NG tube q.d .; calcium carbonate 1250 mg per NG tube q.i.d .; vitamin B12 1000 mcg IM q . month , next dose is due Nov 18 ; diltiazem 60 mg per NG tube t.i.d .; ferrous sulfate 300 mg per NG t.i.d .; Haldol 5 mg IV q.h.s .; hydralazine 10 mg IV q.6h . p.r.n . hypertension ; lisinopril 10 mg per NG tube q.d .; Ativan 1 mg per NG tube q.h.s .; Lopressor 25 mg per NG tube t.i.d .; Zantac 150 mg per NG tube b.i.d .; multivitamin 10 ml per NG tube q.d .; Macrodantin 100 mg per NG tube q.i.d . x 10 days beginning on 11/3/00 .',\n",
    "'Tylenol 650 mg p.o . q . 4-6h p.r.n . headache or pain ; acyclovir 400 mg p.o . t.i.d .; acyclovir topical t.i.d . to be applied to lesion on corner of mouth ; Peridex 15 ml p.o . b.i.d .; Mycelex 1 troche p.o . t.i.d .; g-csf 404 mcg subcu q.d .; folic acid 1 mg p.o . q.d .; lorazepam 1-2 mg p.o . q . 4-6h p.r.n . nausea and vomiting ; Miracle Cream topical q.d . p.r.n . perianal irritation ; Eucerin Cream topical b.i.d .; Zantac 150 mg p.o . b.i.d .; Restoril 15-30 mg p.o . q . h.s . p.r.n . insomnia ; multivitamin 1 tablet p.o . q.d .; viscous lidocaine 15 ml p.o . q . 3h can be applied to corner of mouth or lips p.r.n . pain control .',\n",
    "'The patient\\'s incisions sternal and right leg were clean and healing well , normal sinus rhythm at 70-80 , with blood pressure 98-110/60 and patient was doing well , recovering , ambulating , tolerating regular diet and last hematocrit prior to discharge was 39% with a BUN and creatinine of 15 and 1.0 , prothrombin time level of 13.8 , chest X-ray prior to discharge showed small bilateral effusions with mild cardiomegaly and subsegmental atelectasis bibasilar and electrocardiogram showed normal sinus rhythm with left atrial enlargement and no acute ischemic changes on electrocardiogram .',\n",
    "'This is an 82 - year-old male with a history of prior tobacco use , hypertension , chronic renal insufficiency , COPD , gastritis , and TIA who initially presented to Braintree with a non-ST elevation MI and Guaiac positive stools , transferred to St . Margaret\\'s Center for Women & Infants for cardiac catheterization with PTCA to mid LAD lesion complicated by hypotension and bradycardia requiring Atropine , IV fluids and transient dopamine possibly secondary to vagal reaction , subsequently transferred to CCU for close monitoring , hemodynamically stable at the time of admission to the CCU .',\n",
    "'O2 95% on 3L NC mixed Quinn 82% genrl : in nad , resting comfortably heent : perrla ( 4->3 mm ) bilaterally , blind in right visual field , eomi , dry mm , ? thrush neck : no bruits cv : rrr , no m/r/g , faint s1/s2 pulm : cta bilaterally abd : midline scar ( from urostomy ) , nabs , soft , appears distended but patient denies , ostomy RLQ c/d/i , NT to palpation back : right flank urostomy tube , c/d/i , nt to palpation extr : no Gardner neuro : a , ox3 , wiggles toes bilaterally , unable to lift LE , 06-12 grip bilaterally w/ UE , decrease sensation to soft touch in left',\n",
    "'Is notable for an inferior myocardial infarction , restrictive and obstructive lung disease with an FEV1 of . 9 and FVC of 1.34 and a moderate at best response to bronchodilators , and a negative sestamibi scan in May , 1999 apart from a severe fixed inferolateral defect , systolic dysfunction with recent echocardiography revealing an LVID of 62 mm . and ejection fraction of 28 percent , moderate mitral regurgitation and mild-to-moderate aortic stenosis with a peak gradient of 33 and a mean gradient of 19 and a valve area of 1.4 cm . squared .',\n",
    "'This is a 47 - year-old male with a past medical history of type 2 diabetes , high cholesterol , hypertension , and coronary artery disease , status post percutaneous transluminal coronary angioplasty times two , who presented with acute coronary syndrome refractory to medical treatment and TNK , now status post Angio-Jet percutaneous transluminal coronary angioplasty and stent of proximal left anterior descending artery and percutaneous transluminal coronary angioplasty of first diagonal with intra-aortic balloon pump placement .',\n",
    "'Clinical progression of skin and sinus infection on maximal antimicrobial therapy continued , with emergence on November 20 of a new right-sided ptosis in association with a left homonymous hemianopsia , and fleeting confusion while febrile , prompting head MRI which revealed a large 5 x 2 x 4.3 cm region in the right occipital lobe of hemorrhage and edema , with dural and , likely , leptomeningeal enhancement in association with small foci in the right cerebellum and pons , concerning for early lesions of similar type .',\n",
    "'The patient had an echocardiogram on day two of admission , which revealed a mildly dilated left atrium , mild symmetric LVH , normal LV cavity size , mild region LV systolic dysfunction , arresting regional wall motion abnormality including focal apical hypokinesis , a normal right ventricular chamber size and free wall motion , a moderately dilated aortic root , a mildly dilated ascending aorta , normal aortic valve leaflet , normal mitral valve leaflet and no pericardial effusions .',\n",
    "'The patient is a 65-year-old man with refractory CLL , status post non-myeloblative stem cell transplant approximately nine months prior to admission , and status post prolonged recent Retelk County Medical Center stay for Acanthamoeba infection of skin and sinuses , complicated by ARS due to medication toxicity , as well as GVHD and recent CMV infection , readmitted for new fever , increasing creatinine , hepatomegaly and fluid surge spacing , in the setting of hyponatremia .',\n",
    "'Tylenol 650 mg p.o . q.4h . p.r.n . , Benadryl 25 mg p.o . q.h.s . p.r.n . , Colace 100 mg p.o . q.i.d . , Nortriptyline 25 mg p.o . q.h.s . , Simvastatin 10 mg p.o . q.h.s . , Metamucil one packet p.o . b.i.d . p.r.n . , Neurontin 300 mg p.o . t.i.d . , Levsinex 0.375 mg p.o . q.12h . , Lisinopril / hydrochlorothiazide 20/25 mg p.o . q.d . , hydrocortisone topical ointment to affected areas , MS Contin 30 mg p.o . b.i.d . , MSIR 15 to 30 mg p.o . q.4h . p.r.n . pain .',\n",
    "'Aspirin 325 q.d . ; albuterol nebs 2.5 mg q . 4h ; Colace 100 mg b.i.d . ; heparin 5,000 units subcu b.i.d . ; Synthroid 200 mcg q.d . ; Ocean Spray 2 sprays q . i.d . ; simvastatin 10 mg q . h.s . ; Flovent 220 mcg 2 puffs b.i.d . ; Zantac 150 b.i.d . ; nystatin ointment to the gluteal fold b.i.d . ; Lisinopril 20 mg q.d . ; Mestinon controlled release 180 q . h.s . ; Mestinon 30 mg q . 4h while awake ; prednisone 60 mg p.o . q . IM ; Atrovent nebs 0.5 mg q . i.d .',\n",
    "'An echocardiogram was obtained on 4-26 which showed concentric left ventricular hypertrophy with normal _____ left ventricular function , severe right ventricular dilatation with septal hypokinesis and flattening with a question of right ventricular apical clot raised with mild aortic stenosis , severe tricuspid regurgitation and increased pulmonary artery pressure of approximately 70 millimeters , consistent with fairly severe pulmonary hypertension .',\n",
    "'1 ) CV ( R ) finished amio IV load then started on po , agressive lytes ; although interrogation showed >100 episodes of VT ( as / x ) , pt prefers med therapy as opposed to ablation ( I ) enzymes mildly elevated but not actively ischemic ; lipids , ASA , statin , BB ; Adenosine thal 1/4 and echo 1/4 to look for signs of ischemia as active cause for VT ( P ) JVP at angle of jaw 1/4 -- > giving 20 Lasix ; dig level 1/4 1.3 -- > 1/2 dose as on Amio',\n",
    "'sodium 141 , potassium 3.5 , chloride 107 , bicarbonates 23.8 , BUN 23 , creatinine 1.1 , glucose 165 , PO2 377 , PCO2 32 , PH 7.50 , asomus 298 , toxic screen negative , white blood cell count 11.1 , hematocrit 39.6 , platelet count 137 , prothrombin time 25.2 , INR 4.3 , partial thromboplastin time 34.7 , urinalysis 1+ albumin , 0-5 high link caths , cervical spine negative , pelvis negative , lumbar spine ; negative , thoracic spine negative .',\n",
    "]"
   ]
  },
  {
   "cell_type": "code",
   "execution_count": 0,
   "metadata": {
    "application/vnd.databricks.v1+cell": {
     "inputWidgets": {},
     "nuid": "36a02d60-cf0e-4213-aa97-aa5f998d1a75",
     "showTitle": false,
     "title": ""
    }
   },
   "outputs": [
    {
     "data": {
      "text/html": [
       "<style scoped>\n",
       "  .ansiout {\n",
       "    display: block;\n",
       "    unicode-bidi: embed;\n",
       "    white-space: pre-wrap;\n",
       "    word-wrap: break-word;\n",
       "    word-break: break-all;\n",
       "    font-family: \"Source Code Pro\", \"Menlo\", monospace;;\n",
       "    font-size: 13px;\n",
       "    color: #555;\n",
       "    margin-left: 4px;\n",
       "    line-height: 19px;\n",
       "  }\n",
       "</style>\n",
       "<div class=\"ansiout\">+------+--------------------------------------------------+\n",
       "doc_id|                                              text|\n",
       "+------+--------------------------------------------------+\n",
       "     0|pentamidine 300 mg iv q . 36 hours , pentamidin...|\n",
       "     1|albuterol nebulizers 2.5 mg q.4h . and atrovent...|\n",
       "     2|tylenol 650 mg p.o . q . 4-6h p.r.n . headache ...|\n",
       "     3|the patient&#39;s incisions sternal and right leg w...|\n",
       "     4|this is an 82 - year-old male with a history of...|\n",
       "     5|o2 95% on 3l nc mixed quinn 82% genrl : in nad ...|\n",
       "     6|is notable for an inferior myocardial infarctio...|\n",
       "     7|this is a 47 - year-old male with a past medica...|\n",
       "     8|clinical progression of skin and sinus infectio...|\n",
       "     9|the patient had an echocardiogram on day two of...|\n",
       "    10|the patient is a 65-year-old man with refractor...|\n",
       "    11|tylenol 650 mg p.o . q.4h . p.r.n . , benadryl ...|\n",
       "    12|aspirin 325 q.d . ; albuterol nebs 2.5 mg q . 4...|\n",
       "    13|an echocardiogram was obtained on 4-26 which sh...|\n",
       "    14|1 ) cv ( r ) finished amio iv load then started...|\n",
       "    15|sodium 141 , potassium 3.5 , chloride 107 , bic...|\n",
       "+------+--------------------------------------------------+\n",
       "\n",
       "</div>"
      ]
     },
     "metadata": {
      "application/vnd.databricks.v1+output": {
       "addedWidgets": {},
       "arguments": {},
       "data": "<div class=\"ansiout\">+------+--------------------------------------------------+\n|doc_id|                                              text|\n+------+--------------------------------------------------+\n|     0|pentamidine 300 mg iv q . 36 hours , pentamidin...|\n|     1|albuterol nebulizers 2.5 mg q.4h . and atrovent...|\n|     2|tylenol 650 mg p.o . q . 4-6h p.r.n . headache ...|\n|     3|the patient&#39;s incisions sternal and right leg w...|\n|     4|this is an 82 - year-old male with a history of...|\n|     5|o2 95% on 3l nc mixed quinn 82% genrl : in nad ...|\n|     6|is notable for an inferior myocardial infarctio...|\n|     7|this is a 47 - year-old male with a past medica...|\n|     8|clinical progression of skin and sinus infectio...|\n|     9|the patient had an echocardiogram on day two of...|\n|    10|the patient is a 65-year-old man with refractor...|\n|    11|tylenol 650 mg p.o . q.4h . p.r.n . , benadryl ...|\n|    12|aspirin 325 q.d . ; albuterol nebs 2.5 mg q . 4...|\n|    13|an echocardiogram was obtained on 4-26 which sh...|\n|    14|1 ) cv ( r ) finished amio iv load then started...|\n|    15|sodium 141 , potassium 3.5 , chloride 107 , bic...|\n+------+--------------------------------------------------+\n\n</div>",
       "datasetInfos": [],
       "removedWidgets": [],
       "type": "html"
      }
     },
     "output_type": "display_data"
    }
   ],
   "source": [
    "data = spark.createDataFrame([(i,n.lower()) for i,n in enumerate(notes)]).toDF('doc_id', 'text')\n",
    "\n",
    "data.show(truncate=50)"
   ]
  },
  {
   "cell_type": "code",
   "execution_count": 0,
   "metadata": {
    "application/vnd.databricks.v1+cell": {
     "inputWidgets": {},
     "nuid": "339fef27-7d51-4375-b6d6-0d0c89496f31",
     "showTitle": false,
     "title": ""
    }
   },
   "outputs": [
    {
     "data": {
      "text/html": [
       "Note 0:<div style=\"border:2px solid #747474; background-color: #e3e3e3; margin: 5px; padding: 10px\">Pentamidine 300 mg IV q . 36 hours , Pentamidine nasal wash 60 mg per 6 ml of sterile water q.d . , voriconazole 200 mg p.o . b.i.d . , acyclovir 400 mg p.o . b.i.d . , cyclosporine 50 mg p.o . b.i.d . , prednisone 60 mg p.o . q.d . , GCSF 480 mcg IV q.d . , Epogen 40,000 units subcu q . week , Protonix 40 mg q.d . , Simethicone 80 mg p.o . q . 8 , nitroglycerin paste 1 \" ; q . 4 h . p.r.n . , flunisolide nasal inhaler , 2 puffs q . 8 , OxyCodone 10-15 mg p.o . q . 6 p.r.n . , Sudafed 30 mg q . 6 p.o . p.r.n . , Fluconazole 2% cream b.i.d . to erythematous skin lesions , Ditropan 5 mg p.o . b.i.d . , Tylenol 650 mg p.o . q . 4 h . p.r.n . , Ambien 5-10 mg p.o . q . h.s . p.r.n . , Neurontin 100 mg q . a.m . , 200 mg q . p.m . , Aquaphor cream b.i.d . p.r.n . , Lotrimin 1% cream b.i.d . to feet , Dulcolax 5-10 mg p.o . q.d . p.r.n . , Phoslo 667 mg p.o . t.i.d . , Peridex 0.12% , 15 ml p.o . b.i.d . mouthwash , Benadryl 25-50 mg q . 4-6 h . p.r.n . pruritus , Sarna cream q.d . p.r.n . pruritus , Nystatin 5 ml p.o . q.i.d . swish and !</div><br/>Note 1:<div style=\"border:2px solid #747474; background-color: #e3e3e3; margin: 5px; padding: 10px\">Albuterol nebulizers 2.5 mg q.4h . and Atrovent nebulizers 0.5 mg q.4h . , please alternate albuterol and Atrovent ; Rocaltrol 0.25 mcg per NG tube q.d .; calcium carbonate 1250 mg per NG tube q.i.d .; vitamin B12 1000 mcg IM q . month , next dose is due Nov 18 ; diltiazem 60 mg per NG tube t.i.d .; ferrous sulfate 300 mg per NG t.i.d .; Haldol 5 mg IV q.h.s .; hydralazine 10 mg IV q.6h . p.r.n . hypertension ; lisinopril 10 mg per NG tube q.d .; Ativan 1 mg per NG tube q.h.s .; Lopressor 25 mg per NG tube t.i.d .; Zantac 150 mg per NG tube b.i.d .; multivitamin 10 ml per NG tube q.d .; Macrodantin 100 mg per NG tube q.i.d . x 10 days beginning on 11/3/00 .</div><br/>Note 2:<div style=\"border:2px solid #747474; background-color: #e3e3e3; margin: 5px; padding: 10px\">Tylenol 650 mg p.o . q . 4-6h p.r.n . headache or pain ; acyclovir 400 mg p.o . t.i.d .; acyclovir topical t.i.d . to be applied to lesion on corner of mouth ; Peridex 15 ml p.o . b.i.d .; Mycelex 1 troche p.o . t.i.d .; g-csf 404 mcg subcu q.d .; folic acid 1 mg p.o . q.d .; lorazepam 1-2 mg p.o . q . 4-6h p.r.n . nausea and vomiting ; Miracle Cream topical q.d . p.r.n . perianal irritation ; Eucerin Cream topical b.i.d .; Zantac 150 mg p.o . b.i.d .; Restoril 15-30 mg p.o . q . h.s . p.r.n . insomnia ; multivitamin 1 tablet p.o . q.d .; viscous lidocaine 15 ml p.o . q . 3h can be applied to corner of mouth or lips p.r.n . pain control .</div><br/>Note 3:<div style=\"border:2px solid #747474; background-color: #e3e3e3; margin: 5px; padding: 10px\">The patient's incisions sternal and right leg were clean and healing well , normal sinus rhythm at 70-80 , with blood pressure 98-110/60 and patient was doing well , recovering , ambulating , tolerating regular diet and last hematocrit prior to discharge was 39% with a BUN and creatinine of 15 and 1.0 , prothrombin time level of 13.8 , chest X-ray prior to discharge showed small bilateral effusions with mild cardiomegaly and subsegmental atelectasis bibasilar and electrocardiogram showed normal sinus rhythm with left atrial enlargement and no acute ischemic changes on electrocardiogram .</div><br/>Note 4:<div style=\"border:2px solid #747474; background-color: #e3e3e3; margin: 5px; padding: 10px\">This is an 82 - year-old male with a history of prior tobacco use , hypertension , chronic renal insufficiency , COPD , gastritis , and TIA who initially presented to Braintree with a non-ST elevation MI and Guaiac positive stools , transferred to St . Margaret's Center for Women & Infants for cardiac catheterization with PTCA to mid LAD lesion complicated by hypotension and bradycardia requiring Atropine , IV fluids and transient dopamine possibly secondary to vagal reaction , subsequently transferred to CCU for close monitoring , hemodynamically stable at the time of admission to the CCU .</div><br/>Note 5:<div style=\"border:2px solid #747474; background-color: #e3e3e3; margin: 5px; padding: 10px\">O2 95% on 3L NC mixed Quinn 82% genrl : in nad , resting comfortably heent : perrla ( 4->3 mm ) bilaterally , blind in right visual field , eomi , dry mm , ? thrush neck : no bruits cv : rrr , no m/r/g , faint s1/s2 pulm : cta bilaterally abd : midline scar ( from urostomy ) , nabs , soft , appears distended but patient denies , ostomy RLQ c/d/i , NT to palpation back : right flank urostomy tube , c/d/i , nt to palpation extr : no Gardner neuro : a , ox3 , wiggles toes bilaterally , unable to lift LE , 06-12 grip bilaterally w/ UE , decrease sensation to soft touch in left</div><br/>Note 6:<div style=\"border:2px solid #747474; background-color: #e3e3e3; margin: 5px; padding: 10px\">Is notable for an inferior myocardial infarction , restrictive and obstructive lung disease with an FEV1 of . 9 and FVC of 1.34 and a moderate at best response to bronchodilators , and a negative sestamibi scan in May , 1999 apart from a severe fixed inferolateral defect , systolic dysfunction with recent echocardiography revealing an LVID of 62 mm . and ejection fraction of 28 percent , moderate mitral regurgitation and mild-to-moderate aortic stenosis with a peak gradient of 33 and a mean gradient of 19 and a valve area of 1.4 cm . squared .</div><br/>Note 7:<div style=\"border:2px solid #747474; background-color: #e3e3e3; margin: 5px; padding: 10px\">This is a 47 - year-old male with a past medical history of type 2 diabetes , high cholesterol , hypertension , and coronary artery disease , status post percutaneous transluminal coronary angioplasty times two , who presented with acute coronary syndrome refractory to medical treatment and TNK , now status post Angio-Jet percutaneous transluminal coronary angioplasty and stent of proximal left anterior descending artery and percutaneous transluminal coronary angioplasty of first diagonal with intra-aortic balloon pump placement .</div><br/>Note 8:<div style=\"border:2px solid #747474; background-color: #e3e3e3; margin: 5px; padding: 10px\">Clinical progression of skin and sinus infection on maximal antimicrobial therapy continued , with emergence on November 20 of a new right-sided ptosis in association with a left homonymous hemianopsia , and fleeting confusion while febrile , prompting head MRI which revealed a large 5 x 2 x 4.3 cm region in the right occipital lobe of hemorrhage and edema , with dural and , likely , leptomeningeal enhancement in association with small foci in the right cerebellum and pons , concerning for early lesions of similar type .</div><br/>Note 9:<div style=\"border:2px solid #747474; background-color: #e3e3e3; margin: 5px; padding: 10px\">The patient had an echocardiogram on day two of admission , which revealed a mildly dilated left atrium , mild symmetric LVH , normal LV cavity size , mild region LV systolic dysfunction , arresting regional wall motion abnormality including focal apical hypokinesis , a normal right ventricular chamber size and free wall motion , a moderately dilated aortic root , a mildly dilated ascending aorta , normal aortic valve leaflet , normal mitral valve leaflet and no pericardial effusions .</div><br/>Note 10:<div style=\"border:2px solid #747474; background-color: #e3e3e3; margin: 5px; padding: 10px\">The patient is a 65-year-old man with refractory CLL , status post non-myeloblative stem cell transplant approximately nine months prior to admission , and status post prolonged recent Retelk County Medical Center stay for Acanthamoeba infection of skin and sinuses , complicated by ARS due to medication toxicity , as well as GVHD and recent CMV infection , readmitted for new fever , increasing creatinine , hepatomegaly and fluid surge spacing , in the setting of hyponatremia .</div><br/>Note 11:<div style=\"border:2px solid #747474; background-color: #e3e3e3; margin: 5px; padding: 10px\">Tylenol 650 mg p.o . q.4h . p.r.n . , Benadryl 25 mg p.o . q.h.s . p.r.n . , Colace 100 mg p.o . q.i.d . , Nortriptyline 25 mg p.o . q.h.s . , Simvastatin 10 mg p.o . q.h.s . , Metamucil one packet p.o . b.i.d . p.r.n . , Neurontin 300 mg p.o . t.i.d . , Levsinex 0.375 mg p.o . q.12h . , Lisinopril / hydrochlorothiazide 20/25 mg p.o . q.d . , hydrocortisone topical ointment to affected areas , MS Contin 30 mg p.o . b.i.d . , MSIR 15 to 30 mg p.o . q.4h . p.r.n . pain .</div><br/>Note 12:<div style=\"border:2px solid #747474; background-color: #e3e3e3; margin: 5px; padding: 10px\">Aspirin 325 q.d . ; albuterol nebs 2.5 mg q . 4h ; Colace 100 mg b.i.d . ; heparin 5,000 units subcu b.i.d . ; Synthroid 200 mcg q.d . ; Ocean Spray 2 sprays q . i.d . ; simvastatin 10 mg q . h.s . ; Flovent 220 mcg 2 puffs b.i.d . ; Zantac 150 b.i.d . ; nystatin ointment to the gluteal fold b.i.d . ; Lisinopril 20 mg q.d . ; Mestinon controlled release 180 q . h.s . ; Mestinon 30 mg q . 4h while awake ; prednisone 60 mg p.o . q . IM ; Atrovent nebs 0.5 mg q . i.d .</div><br/>Note 13:<div style=\"border:2px solid #747474; background-color: #e3e3e3; margin: 5px; padding: 10px\">An echocardiogram was obtained on 4-26 which showed concentric left ventricular hypertrophy with normal _____ left ventricular function , severe right ventricular dilatation with septal hypokinesis and flattening with a question of right ventricular apical clot raised with mild aortic stenosis , severe tricuspid regurgitation and increased pulmonary artery pressure of approximately 70 millimeters , consistent with fairly severe pulmonary hypertension .</div><br/>Note 14:<div style=\"border:2px solid #747474; background-color: #e3e3e3; margin: 5px; padding: 10px\">1 ) CV ( R ) finished amio IV load then started on po , agressive lytes ; although interrogation showed >100 episodes of VT ( as / x ) , pt prefers med therapy as opposed to ablation ( I ) enzymes mildly elevated but not actively ischemic ; lipids , ASA , statin , BB ; Adenosine thal 1/4 and echo 1/4 to look for signs of ischemia as active cause for VT ( P ) JVP at angle of jaw 1/4 -- > giving 20 Lasix ; dig level 1/4 1.3 -- > 1/2 dose as on Amio</div><br/>Note 15:<div style=\"border:2px solid #747474; background-color: #e3e3e3; margin: 5px; padding: 10px\">sodium 141 , potassium 3.5 , chloride 107 , bicarbonates 23.8 , BUN 23 , creatinine 1.1 , glucose 165 , PO2 377 , PCO2 32 , PH 7.50 , asomus 298 , toxic screen negative , white blood cell count 11.1 , hematocrit 39.6 , platelet count 137 , prothrombin time 25.2 , INR 4.3 , partial thromboplastin time 34.7 , urinalysis 1+ albumin , 0-5 high link caths , cervical spine negative , pelvis negative , lumbar spine ; negative , thoracic spine negative .</div><br/>"
      ]
     },
     "metadata": {
      "application/vnd.databricks.v1+output": {
       "addedWidgets": {},
       "arguments": {},
       "data": "Note 0:<div style=\"border:2px solid #747474; background-color: #e3e3e3; margin: 5px; padding: 10px\">Pentamidine 300 mg IV q . 36 hours , Pentamidine nasal wash 60 mg per 6 ml of sterile water q.d . , voriconazole 200 mg p.o . b.i.d . , acyclovir 400 mg p.o . b.i.d . , cyclosporine 50 mg p.o . b.i.d . , prednisone 60 mg p.o . q.d . , GCSF 480 mcg IV q.d . , Epogen 40,000 units subcu q . week , Protonix 40 mg q.d . , Simethicone 80 mg p.o . q . 8 , nitroglycerin paste 1 \" ; q . 4 h . p.r.n . , flunisolide nasal inhaler , 2 puffs q . 8 , OxyCodone 10-15 mg p.o . q . 6 p.r.n . , Sudafed 30 mg q . 6 p.o . p.r.n . , Fluconazole 2% cream b.i.d . to erythematous skin lesions , Ditropan 5 mg p.o . b.i.d . , Tylenol 650 mg p.o . q . 4 h . p.r.n . , Ambien 5-10 mg p.o . q . h.s . p.r.n . , Neurontin 100 mg q . a.m . , 200 mg q . p.m . , Aquaphor cream b.i.d . p.r.n . , Lotrimin 1% cream b.i.d . to feet , Dulcolax 5-10 mg p.o . q.d . p.r.n . , Phoslo 667 mg p.o . t.i.d . , Peridex 0.12% , 15 ml p.o . b.i.d . mouthwash , Benadryl 25-50 mg q . 4-6 h . p.r.n . pruritus , Sarna cream q.d . p.r.n . pruritus , Nystatin 5 ml p.o . q.i.d . swish and !</div><br/>Note 1:<div style=\"border:2px solid #747474; background-color: #e3e3e3; margin: 5px; padding: 10px\">Albuterol nebulizers 2.5 mg q.4h . and Atrovent nebulizers 0.5 mg q.4h . , please alternate albuterol and Atrovent ; Rocaltrol 0.25 mcg per NG tube q.d .; calcium carbonate 1250 mg per NG tube q.i.d .; vitamin B12 1000 mcg IM q . month , next dose is due Nov 18 ; diltiazem 60 mg per NG tube t.i.d .; ferrous sulfate 300 mg per NG t.i.d .; Haldol 5 mg IV q.h.s .; hydralazine 10 mg IV q.6h . p.r.n . hypertension ; lisinopril 10 mg per NG tube q.d .; Ativan 1 mg per NG tube q.h.s .; Lopressor 25 mg per NG tube t.i.d .; Zantac 150 mg per NG tube b.i.d .; multivitamin 10 ml per NG tube q.d .; Macrodantin 100 mg per NG tube q.i.d . x 10 days beginning on 11/3/00 .</div><br/>Note 2:<div style=\"border:2px solid #747474; background-color: #e3e3e3; margin: 5px; padding: 10px\">Tylenol 650 mg p.o . q . 4-6h p.r.n . headache or pain ; acyclovir 400 mg p.o . t.i.d .; acyclovir topical t.i.d . to be applied to lesion on corner of mouth ; Peridex 15 ml p.o . b.i.d .; Mycelex 1 troche p.o . t.i.d .; g-csf 404 mcg subcu q.d .; folic acid 1 mg p.o . q.d .; lorazepam 1-2 mg p.o . q . 4-6h p.r.n . nausea and vomiting ; Miracle Cream topical q.d . p.r.n . perianal irritation ; Eucerin Cream topical b.i.d .; Zantac 150 mg p.o . b.i.d .; Restoril 15-30 mg p.o . q . h.s . p.r.n . insomnia ; multivitamin 1 tablet p.o . q.d .; viscous lidocaine 15 ml p.o . q . 3h can be applied to corner of mouth or lips p.r.n . pain control .</div><br/>Note 3:<div style=\"border:2px solid #747474; background-color: #e3e3e3; margin: 5px; padding: 10px\">The patient's incisions sternal and right leg were clean and healing well , normal sinus rhythm at 70-80 , with blood pressure 98-110/60 and patient was doing well , recovering , ambulating , tolerating regular diet and last hematocrit prior to discharge was 39% with a BUN and creatinine of 15 and 1.0 , prothrombin time level of 13.8 , chest X-ray prior to discharge showed small bilateral effusions with mild cardiomegaly and subsegmental atelectasis bibasilar and electrocardiogram showed normal sinus rhythm with left atrial enlargement and no acute ischemic changes on electrocardiogram .</div><br/>Note 4:<div style=\"border:2px solid #747474; background-color: #e3e3e3; margin: 5px; padding: 10px\">This is an 82 - year-old male with a history of prior tobacco use , hypertension , chronic renal insufficiency , COPD , gastritis , and TIA who initially presented to Braintree with a non-ST elevation MI and Guaiac positive stools , transferred to St . Margaret's Center for Women & Infants for cardiac catheterization with PTCA to mid LAD lesion complicated by hypotension and bradycardia requiring Atropine , IV fluids and transient dopamine possibly secondary to vagal reaction , subsequently transferred to CCU for close monitoring , hemodynamically stable at the time of admission to the CCU .</div><br/>Note 5:<div style=\"border:2px solid #747474; background-color: #e3e3e3; margin: 5px; padding: 10px\">O2 95% on 3L NC mixed Quinn 82% genrl : in nad , resting comfortably heent : perrla ( 4->3 mm ) bilaterally , blind in right visual field , eomi , dry mm , ? thrush neck : no bruits cv : rrr , no m/r/g , faint s1/s2 pulm : cta bilaterally abd : midline scar ( from urostomy ) , nabs , soft , appears distended but patient denies , ostomy RLQ c/d/i , NT to palpation back : right flank urostomy tube , c/d/i , nt to palpation extr : no Gardner neuro : a , ox3 , wiggles toes bilaterally , unable to lift LE , 06-12 grip bilaterally w/ UE , decrease sensation to soft touch in left</div><br/>Note 6:<div style=\"border:2px solid #747474; background-color: #e3e3e3; margin: 5px; padding: 10px\">Is notable for an inferior myocardial infarction , restrictive and obstructive lung disease with an FEV1 of . 9 and FVC of 1.34 and a moderate at best response to bronchodilators , and a negative sestamibi scan in May , 1999 apart from a severe fixed inferolateral defect , systolic dysfunction with recent echocardiography revealing an LVID of 62 mm . and ejection fraction of 28 percent , moderate mitral regurgitation and mild-to-moderate aortic stenosis with a peak gradient of 33 and a mean gradient of 19 and a valve area of 1.4 cm . squared .</div><br/>Note 7:<div style=\"border:2px solid #747474; background-color: #e3e3e3; margin: 5px; padding: 10px\">This is a 47 - year-old male with a past medical history of type 2 diabetes , high cholesterol , hypertension , and coronary artery disease , status post percutaneous transluminal coronary angioplasty times two , who presented with acute coronary syndrome refractory to medical treatment and TNK , now status post Angio-Jet percutaneous transluminal coronary angioplasty and stent of proximal left anterior descending artery and percutaneous transluminal coronary angioplasty of first diagonal with intra-aortic balloon pump placement .</div><br/>Note 8:<div style=\"border:2px solid #747474; background-color: #e3e3e3; margin: 5px; padding: 10px\">Clinical progression of skin and sinus infection on maximal antimicrobial therapy continued , with emergence on November 20 of a new right-sided ptosis in association with a left homonymous hemianopsia , and fleeting confusion while febrile , prompting head MRI which revealed a large 5 x 2 x 4.3 cm region in the right occipital lobe of hemorrhage and edema , with dural and , likely , leptomeningeal enhancement in association with small foci in the right cerebellum and pons , concerning for early lesions of similar type .</div><br/>Note 9:<div style=\"border:2px solid #747474; background-color: #e3e3e3; margin: 5px; padding: 10px\">The patient had an echocardiogram on day two of admission , which revealed a mildly dilated left atrium , mild symmetric LVH , normal LV cavity size , mild region LV systolic dysfunction , arresting regional wall motion abnormality including focal apical hypokinesis , a normal right ventricular chamber size and free wall motion , a moderately dilated aortic root , a mildly dilated ascending aorta , normal aortic valve leaflet , normal mitral valve leaflet and no pericardial effusions .</div><br/>Note 10:<div style=\"border:2px solid #747474; background-color: #e3e3e3; margin: 5px; padding: 10px\">The patient is a 65-year-old man with refractory CLL , status post non-myeloblative stem cell transplant approximately nine months prior to admission , and status post prolonged recent Retelk County Medical Center stay for Acanthamoeba infection of skin and sinuses , complicated by ARS due to medication toxicity , as well as GVHD and recent CMV infection , readmitted for new fever , increasing creatinine , hepatomegaly and fluid surge spacing , in the setting of hyponatremia .</div><br/>Note 11:<div style=\"border:2px solid #747474; background-color: #e3e3e3; margin: 5px; padding: 10px\">Tylenol 650 mg p.o . q.4h . p.r.n . , Benadryl 25 mg p.o . q.h.s . p.r.n . , Colace 100 mg p.o . q.i.d . , Nortriptyline 25 mg p.o . q.h.s . , Simvastatin 10 mg p.o . q.h.s . , Metamucil one packet p.o . b.i.d . p.r.n . , Neurontin 300 mg p.o . t.i.d . , Levsinex 0.375 mg p.o . q.12h . , Lisinopril / hydrochlorothiazide 20/25 mg p.o . q.d . , hydrocortisone topical ointment to affected areas , MS Contin 30 mg p.o . b.i.d . , MSIR 15 to 30 mg p.o . q.4h . p.r.n . pain .</div><br/>Note 12:<div style=\"border:2px solid #747474; background-color: #e3e3e3; margin: 5px; padding: 10px\">Aspirin 325 q.d . ; albuterol nebs 2.5 mg q . 4h ; Colace 100 mg b.i.d . ; heparin 5,000 units subcu b.i.d . ; Synthroid 200 mcg q.d . ; Ocean Spray 2 sprays q . i.d . ; simvastatin 10 mg q . h.s . ; Flovent 220 mcg 2 puffs b.i.d . ; Zantac 150 b.i.d . ; nystatin ointment to the gluteal fold b.i.d . ; Lisinopril 20 mg q.d . ; Mestinon controlled release 180 q . h.s . ; Mestinon 30 mg q . 4h while awake ; prednisone 60 mg p.o . q . IM ; Atrovent nebs 0.5 mg q . i.d .</div><br/>Note 13:<div style=\"border:2px solid #747474; background-color: #e3e3e3; margin: 5px; padding: 10px\">An echocardiogram was obtained on 4-26 which showed concentric left ventricular hypertrophy with normal _____ left ventricular function , severe right ventricular dilatation with septal hypokinesis and flattening with a question of right ventricular apical clot raised with mild aortic stenosis , severe tricuspid regurgitation and increased pulmonary artery pressure of approximately 70 millimeters , consistent with fairly severe pulmonary hypertension .</div><br/>Note 14:<div style=\"border:2px solid #747474; background-color: #e3e3e3; margin: 5px; padding: 10px\">1 ) CV ( R ) finished amio IV load then started on po , agressive lytes ; although interrogation showed >100 episodes of VT ( as / x ) , pt prefers med therapy as opposed to ablation ( I ) enzymes mildly elevated but not actively ischemic ; lipids , ASA , statin , BB ; Adenosine thal 1/4 and echo 1/4 to look for signs of ischemia as active cause for VT ( P ) JVP at angle of jaw 1/4 -- > giving 20 Lasix ; dig level 1/4 1.3 -- > 1/2 dose as on Amio</div><br/>Note 15:<div style=\"border:2px solid #747474; background-color: #e3e3e3; margin: 5px; padding: 10px\">sodium 141 , potassium 3.5 , chloride 107 , bicarbonates 23.8 , BUN 23 , creatinine 1.1 , glucose 165 , PO2 377 , PCO2 32 , PH 7.50 , asomus 298 , toxic screen negative , white blood cell count 11.1 , hematocrit 39.6 , platelet count 137 , prothrombin time 25.2 , INR 4.3 , partial thromboplastin time 34.7 , urinalysis 1+ albumin , 0-5 high link caths , cervical spine negative , pelvis negative , lumbar spine ; negative , thoracic spine negative .</div><br/>",
       "datasetInfos": [],
       "removedWidgets": [],
       "textData": null,
       "type": "htmlSandbox"
      }
     },
     "output_type": "display_data"
    }
   ],
   "source": [
    "from IPython.core.display import display, HTML\n",
    "\n",
    "html_output=\"\"\n",
    "for i, d in enumerate(notes):\n",
    "    html_output += f'Note {i}:'\n",
    "    html_output +='<div style=\"border:2px solid #747474; background-color: #e3e3e3; margin: 5px; padding: 10px\">'\n",
    "    html_output += d\n",
    "    html_output += '</div><br/>'\n",
    "\n",
    "displayHTML(html_output)"
   ]
  },
  {
   "cell_type": "markdown",
   "metadata": {
    "application/vnd.databricks.v1+cell": {
     "inputWidgets": {},
     "nuid": "5c785f37-31e3-40e2-9b55-607a74df8e6f",
     "showTitle": false,
     "title": ""
    }
   },
   "source": [
    "let's build a SparkNLP pipeline with the following stages:\n",
    "\n",
    "`DocumentAssembler`: Entry annotator for our pipelines; it creates the data structure for the Annotation Framework\n",
    "\n",
    "`SentenceDetector`: Annotator to pragmatically separate complete sentences inside each document\n",
    "\n",
    "`Tokenizer`: Annotator to separate sentences in tokens (generally words)\n",
    "\n",
    "`StopWordsCleaner`: Annotator to remove words defined as StopWords in SparkML\n",
    "\n",
    "`WordEmbeddings`: Vectorization of word tokens, in this case using word embeddings trained from PubMed, ICD10 and other clinical resources.\n",
    "\n",
    "`ChunkEmbeddings`: Aggregates the WordEmbeddings for each NER Chunk\n",
    "\n",
    "`JSL NER + NerConverter`: This annotators return Chunks related to jsl_ner (generic ner) \n",
    "\n",
    "`Drug NER + NerConverter`: This annotators return Chunks related to drugs\n",
    "\n",
    "`ChunkEntityResolver`: Annotator that performs search for the KNNs, in this case trained from ICDO Histology Behavior."
   ]
  },
  {
   "cell_type": "code",
   "execution_count": 0,
   "metadata": {
    "application/vnd.databricks.v1+cell": {
     "inputWidgets": {},
     "nuid": "ae3e771a-223a-4dfc-a142-cdd62608cf40",
     "showTitle": false,
     "title": ""
    }
   },
   "outputs": [
    {
     "data": {
      "text/html": [
       "<style scoped>\n",
       "  .ansiout {\n",
       "    display: block;\n",
       "    unicode-bidi: embed;\n",
       "    white-space: pre-wrap;\n",
       "    word-wrap: break-word;\n",
       "    word-break: break-all;\n",
       "    font-family: \"Source Code Pro\", \"Menlo\", monospace;;\n",
       "    font-size: 13px;\n",
       "    color: #555;\n",
       "    margin-left: 4px;\n",
       "    line-height: 19px;\n",
       "  }\n",
       "</style>\n",
       "<div class=\"ansiout\">ner_jsl download started this may take some time.\n",
       "Approximate size to download 14 MB\n",
       "\r",
       "[ | ]\r",
       "[ / ]\r",
       "[OK!]\n",
       "ner_drugs download started this may take some time.\n",
       "Approximate size to download 13.8 MB\n",
       "\r",
       "[ | ]\r",
       "[ / ]\r",
       "[ — ]\r",
       "[ \\ ]\r",
       "[ | ]\r",
       "[OK!]\n",
       "</div>"
      ]
     },
     "metadata": {
      "application/vnd.databricks.v1+output": {
       "addedWidgets": {},
       "arguments": {},
       "data": "<div class=\"ansiout\">ner_jsl download started this may take some time.\nApproximate size to download 14 MB\n\r[ | ]\r[ / ]\r[OK!]\nner_drugs download started this may take some time.\nApproximate size to download 13.8 MB\n\r[ | ]\r[ / ]\r[ — ]\r[ \\ ]\r[ | ]\r[OK!]\n</div>",
       "datasetInfos": [],
       "removedWidgets": [],
       "type": "html"
      }
     },
     "output_type": "display_data"
    }
   ],
   "source": [
    "# Annotators responsible for the Cancer Genetics Entity Recognition task\n",
    "\n",
    "jslNer = MedicalNerModel.pretrained('ner_jsl', 'en', \"clinical/models\")\\\n",
    "    .setInputCols('sentence', 'token', 'embeddings')\\\n",
    "    .setOutputCol('ner_jsl')\n",
    "\n",
    "drugNer = MedicalNerModel.pretrained('ner_drugs', 'en', \"clinical/models\")\\\n",
    "    .setInputCols('sentence', 'token', 'embeddings')\\\n",
    "    .setOutputCol('ner_drug')"
   ]
  },
  {
   "cell_type": "code",
   "execution_count": 0,
   "metadata": {
    "application/vnd.databricks.v1+cell": {
     "inputWidgets": {},
     "nuid": "f9d7bc6f-f578-433f-b09a-4433b3e1f9e1",
     "showTitle": false,
     "title": ""
    }
   },
   "outputs": [
    {
     "data": {
      "text/html": [
       "<style scoped>\n",
       "  .ansiout {\n",
       "    display: block;\n",
       "    unicode-bidi: embed;\n",
       "    white-space: pre-wrap;\n",
       "    word-wrap: break-word;\n",
       "    word-break: break-all;\n",
       "    font-family: \"Source Code Pro\", \"Menlo\", monospace;;\n",
       "    font-size: 13px;\n",
       "    color: #555;\n",
       "    margin-left: 4px;\n",
       "    line-height: 19px;\n",
       "  }\n",
       "</style>\n",
       "<div class=\"ansiout\"></div>"
      ]
     },
     "metadata": {
      "application/vnd.databricks.v1+output": {
       "addedWidgets": {},
       "arguments": {},
       "data": "<div class=\"ansiout\"></div>",
       "datasetInfos": [],
       "removedWidgets": [],
       "type": "html"
      }
     },
     "output_type": "display_data"
    }
   ],
   "source": [
    "\n",
    "#Converter annotators transform IOB tags into full chunks (sequence set of tokens) tagged with `entity` metadata\n",
    "\n",
    "jslConverter = NerConverter()\\\n",
    "    .setInputCols('sentence', 'token', 'ner_jsl')\\\n",
    "    .setOutputCol('chunk_jsl')\\\n",
    "    .setWhiteList([\"Diagnosis\"])\n",
    "\n",
    "drugConverter = NerConverter()\\\n",
    "    .setInputCols('sentence', 'token', 'ner_drug')\\\n",
    "    .setOutputCol('chunk_drug')"
   ]
  },
  {
   "cell_type": "code",
   "execution_count": 0,
   "metadata": {
    "application/vnd.databricks.v1+cell": {
     "inputWidgets": {},
     "nuid": "5356de2e-8f5f-4967-8e90-ab83caaecb7d",
     "showTitle": false,
     "title": ""
    }
   },
   "outputs": [
    {
     "data": {
      "text/html": [
       "<style scoped>\n",
       "  .ansiout {\n",
       "    display: block;\n",
       "    unicode-bidi: embed;\n",
       "    white-space: pre-wrap;\n",
       "    word-wrap: break-word;\n",
       "    word-break: break-all;\n",
       "    font-family: \"Source Code Pro\", \"Menlo\", monospace;;\n",
       "    font-size: 13px;\n",
       "    color: #555;\n",
       "    margin-left: 4px;\n",
       "    line-height: 19px;\n",
       "  }\n",
       "</style>\n",
       "<div class=\"ansiout\"></div>"
      ]
     },
     "metadata": {
      "application/vnd.databricks.v1+output": {
       "addedWidgets": {},
       "arguments": {},
       "data": "<div class=\"ansiout\"></div>",
       "datasetInfos": [],
       "removedWidgets": [],
       "type": "html"
      }
     },
     "output_type": "display_data"
    }
   ],
   "source": [
    "\n",
    "#ChunkEmbeddings annotators aggregate embeddings for each token in the chunk\n",
    "\n",
    "jslChunkEmbeddings = ChunkEmbeddings()\\\n",
    "  .setInputCols('chunk_jsl', 'embeddings')\\\n",
    "  .setOutputCol('chunk_embs_jsl')\n",
    "\n",
    "drugChunkEmbeddings = ChunkEmbeddings()\\\n",
    "  .setInputCols('chunk_drug', 'embeddings')\\\n",
    "  .setOutputCol('chunk_embs_drug')"
   ]
  },
  {
   "cell_type": "code",
   "execution_count": 0,
   "metadata": {
    "application/vnd.databricks.v1+cell": {
     "inputWidgets": {},
     "nuid": "b2c50e7b-1c34-4cb3-b323-215c129ba561",
     "showTitle": false,
     "title": ""
    }
   },
   "outputs": [
    {
     "data": {
      "text/html": [
       "<style scoped>\n",
       "  .ansiout {\n",
       "    display: block;\n",
       "    unicode-bidi: embed;\n",
       "    white-space: pre-wrap;\n",
       "    word-wrap: break-word;\n",
       "    word-break: break-all;\n",
       "    font-family: \"Source Code Pro\", \"Menlo\", monospace;;\n",
       "    font-size: 13px;\n",
       "    color: #555;\n",
       "    margin-left: 4px;\n",
       "    line-height: 19px;\n",
       "  }\n",
       "</style>\n",
       "<div class=\"ansiout\">chunkresolve_icd10cm_diseases_clinical download started this may take some time.\n",
       "Approximate size to download 100.6 MB\n",
       "\r",
       "[ | ]\r",
       "[ / ]\r",
       "[ — ]\r",
       "[ \\ ]\r",
       "[ | ]\r",
       "[ / ]\r",
       "[ — ]\r",
       "[ \\ ]\r",
       "[ | ]\r",
       "[ / ]\r",
       "[ — ]\r",
       "[ \\ ]\r",
       "[ | ]\r",
       "[ / ]\r",
       "[ — ]\r",
       "[ \\ ]\r",
       "[ | ]\r",
       "[ / ]\r",
       "[ — ]\r",
       "[ \\ ]\r",
       "[ | ]\r",
       "[ / ]\r",
       "[ — ]\r",
       "[OK!]\n",
       "chunkresolve_rxnorm_scd_clinical download started this may take some time.\n",
       "Approximate size to download 28.5 MB\n",
       "\r",
       "[ | ]\r",
       "[ / ]\r",
       "[ — ]\r",
       "[ \\ ]\r",
       "[ | ]\r",
       "[ / ]\r",
       "[ — ]\r",
       "[ \\ ]\r",
       "[ | ]\r",
       "[OK!]\n",
       "</div>"
      ]
     },
     "metadata": {
      "application/vnd.databricks.v1+output": {
       "addedWidgets": {},
       "arguments": {},
       "data": "<div class=\"ansiout\">chunkresolve_icd10cm_diseases_clinical download started this may take some time.\nApproximate size to download 100.6 MB\n\r[ | ]\r[ / ]\r[ — ]\r[ \\ ]\r[ | ]\r[ / ]\r[ — ]\r[ \\ ]\r[ | ]\r[ / ]\r[ — ]\r[ \\ ]\r[ | ]\r[ / ]\r[ — ]\r[ \\ ]\r[ | ]\r[ / ]\r[ — ]\r[ \\ ]\r[ | ]\r[ / ]\r[ — ]\r[OK!]\nchunkresolve_rxnorm_scd_clinical download started this may take some time.\nApproximate size to download 28.5 MB\n\r[ | ]\r[ / ]\r[ — ]\r[ \\ ]\r[ | ]\r[ / ]\r[ — ]\r[ \\ ]\r[ | ]\r[OK!]\n</div>",
       "datasetInfos": [],
       "removedWidgets": [],
       "type": "html"
      }
     },
     "output_type": "display_data"
    }
   ],
   "source": [
    "# Entity Resolution Pretrained Models\n",
    "\n",
    "icd10cmResolver2 = ChunkEntityResolverModel.pretrained('chunkresolve_icd10cm_diseases_clinical', 'en', \"clinical/models\")\\\n",
    "    .setEnableLevenshtein(True)\\\n",
    "    .setNeighbours(200).setAlternatives(5).setDistanceWeights([3,3,2,0,0,7])\\\n",
    "    .setInputCols('token', 'chunk_embs_jsl')\\\n",
    "    .setOutputCol('icd10cm_resolution')\n",
    "\n",
    "rxnormResolver2 = ChunkEntityResolverModel()\\\n",
    "    .pretrained('chunkresolve_rxnorm_scd_clinical', 'en', \"clinical/models\")\\\n",
    "    .setEnableLevenshtein(True)\\\n",
    "    .setNeighbours(200).setAlternatives(5).setDistanceWeights([3,3,2,0,0,7])\\\n",
    "    .setInputCols('token', 'chunk_embs_drug')\\\n",
    "    .setOutputCol('rxnorm_resolution')\\"
   ]
  },
  {
   "cell_type": "code",
   "execution_count": 0,
   "metadata": {
    "application/vnd.databricks.v1+cell": {
     "inputWidgets": {},
     "nuid": "7bc62ca0-7c90-4f5c-8a5a-94a7ba20da97",
     "showTitle": false,
     "title": ""
    }
   },
   "outputs": [
    {
     "data": {
      "text/html": [
       "<style scoped>\n",
       "  .ansiout {\n",
       "    display: block;\n",
       "    unicode-bidi: embed;\n",
       "    white-space: pre-wrap;\n",
       "    word-wrap: break-word;\n",
       "    word-break: break-all;\n",
       "    font-family: \"Source Code Pro\", \"Menlo\", monospace;;\n",
       "    font-size: 13px;\n",
       "    color: #555;\n",
       "    margin-left: 4px;\n",
       "    line-height: 19px;\n",
       "  }\n",
       "</style>\n",
       "<div class=\"ansiout\"></div>"
      ]
     },
     "metadata": {
      "application/vnd.databricks.v1+output": {
       "addedWidgets": {},
       "arguments": {},
       "data": "<div class=\"ansiout\"></div>",
       "datasetInfos": [],
       "removedWidgets": [],
       "type": "html"
      }
     },
     "output_type": "display_data"
    }
   ],
   "source": [
    "# Tokenizer splits words in a relevant format for NLP\n",
    "\n",
    "tokenizer = Tokenizer()\\\n",
    "  .setInputCols([\"sentence\"])\\\n",
    "  .setOutputCol(\"raw_token\")\\\n",
    "\n",
    "# Tokenizer splits words in a relevant format for NLP\n",
    "\n",
    "stopwords = StopWordsCleaner()\\\n",
    "  .setInputCols([\"raw_token\"])\\\n",
    "  .setOutputCol(\"token\")\n",
    "\n",
    "\n",
    "pipelineFull = Pipeline().setStages([\n",
    "    documentAssembler, \n",
    "    sentenceDetector, \n",
    "    tokenizer, \n",
    "    stopwords, \n",
    "    word_embeddings, \n",
    "    jslNer,\n",
    "    drugNer,\n",
    "    jslConverter,\n",
    "    drugConverter,\n",
    "    jslChunkEmbeddings, \n",
    "    drugChunkEmbeddings,\n",
    "    icd10cmResolver2,\n",
    "    rxnormResolver2\n",
    "])"
   ]
  },
  {
   "cell_type": "code",
   "execution_count": 0,
   "metadata": {
    "application/vnd.databricks.v1+cell": {
     "inputWidgets": {},
     "nuid": "fc2f4848-ed77-466b-8996-c85d42af079a",
     "showTitle": false,
     "title": ""
    }
   },
   "outputs": [
    {
     "data": {
      "text/html": [
       "<style scoped>\n",
       "  .ansiout {\n",
       "    display: block;\n",
       "    unicode-bidi: embed;\n",
       "    white-space: pre-wrap;\n",
       "    word-wrap: break-word;\n",
       "    word-break: break-all;\n",
       "    font-family: \"Source Code Pro\", \"Menlo\", monospace;;\n",
       "    font-size: 13px;\n",
       "    color: #555;\n",
       "    margin-left: 4px;\n",
       "    line-height: 19px;\n",
       "  }\n",
       "</style>\n",
       "<div class=\"ansiout\"></div>"
      ]
     },
     "metadata": {
      "application/vnd.databricks.v1+output": {
       "addedWidgets": {},
       "arguments": {},
       "data": "<div class=\"ansiout\"></div>",
       "datasetInfos": [],
       "removedWidgets": [],
       "type": "html"
      }
     },
     "output_type": "display_data"
    }
   ],
   "source": [
    "# Persisiting temporarily to keep DAG size and resource usage low (Word Embeddings are Resource Intensive)\n",
    "pipelineModelFull = pipelineFull.fit(data)\n",
    "\n",
    "output = pipelineModelFull.transform(data)\n"
   ]
  },
  {
   "cell_type": "code",
   "execution_count": 0,
   "metadata": {
    "application/vnd.databricks.v1+cell": {
     "inputWidgets": {},
     "nuid": "e28f8201-a316-452a-b2c1-209d13c2c19d",
     "showTitle": false,
     "title": ""
    }
   },
   "outputs": [
    {
     "data": {
      "text/html": [
       "<style scoped>\n",
       "  .ansiout {\n",
       "    display: block;\n",
       "    unicode-bidi: embed;\n",
       "    white-space: pre-wrap;\n",
       "    word-wrap: break-word;\n",
       "    word-break: break-all;\n",
       "    font-family: \"Source Code Pro\", \"Menlo\", monospace;;\n",
       "    font-size: 13px;\n",
       "    color: #555;\n",
       "    margin-left: 4px;\n",
       "    line-height: 19px;\n",
       "  }\n",
       "</style>\n",
       "<div class=\"ansiout\"></div>"
      ]
     },
     "metadata": {
      "application/vnd.databricks.v1+output": {
       "addedWidgets": {},
       "arguments": {},
       "data": "<div class=\"ansiout\"></div>",
       "datasetInfos": [],
       "removedWidgets": [],
       "type": "html"
      }
     },
     "output_type": "display_data"
    }
   ],
   "source": [
    "output.write.mode(\"overwrite\").save(\"/temp\")\n",
    "\n",
    "output = spark.read.load(\"/temp\")"
   ]
  },
  {
   "cell_type": "code",
   "execution_count": 0,
   "metadata": {
    "application/vnd.databricks.v1+cell": {
     "inputWidgets": {},
     "nuid": "1c0c0291-cfa8-4ec4-8353-87bfbddd7802",
     "showTitle": false,
     "title": ""
    }
   },
   "outputs": [
    {
     "data": {
      "text/html": [
       "<style scoped>\n",
       "  .ansiout {\n",
       "    display: block;\n",
       "    unicode-bidi: embed;\n",
       "    white-space: pre-wrap;\n",
       "    word-wrap: break-word;\n",
       "    word-break: break-all;\n",
       "    font-family: \"Source Code Pro\", \"Menlo\", monospace;;\n",
       "    font-size: 13px;\n",
       "    color: #555;\n",
       "    margin-left: 4px;\n",
       "    line-height: 19px;\n",
       "  }\n",
       "</style>\n",
       "<div class=\"ansiout\">+------+--------------------+--------------------+--------------------+--------------------+--------------------+--------------------+--------------------+--------------------+--------------------+--------------------+--------------------+--------------------+--------------------+--------------------+\n",
       "doc_id|                text|            document|            sentence|           raw_token|               token|          embeddings|             ner_jsl|            ner_drug|           chunk_jsl|          chunk_drug|      chunk_embs_jsl|     chunk_embs_drug|  icd10cm_resolution|   rxnorm_resolution|\n",
       "+------+--------------------+--------------------+--------------------+--------------------+--------------------+--------------------+--------------------+--------------------+--------------------+--------------------+--------------------+--------------------+--------------------+--------------------+\n",
       "     0|pentamidine 300 m...|[[document, 0, 10...|[[document, 0, 24...|[[token, 0, 10, p...|[[token, 0, 10, p...|[[word_embeddings...|[[named_entity, 0...|[[named_entity, 0...|                  []|[[chunk, 0, 10, p...|                  []|[[word_embeddings...|                  []|[[entity, 0, 10, ...|\n",
       "     1|albuterol nebuliz...|[[document, 0, 66...|[[document, 0, 33...|[[token, 0, 8, al...|[[token, 0, 8, al...|[[word_embeddings...|[[named_entity, 0...|[[named_entity, 0...|[[chunk, 400, 411...|[[chunk, 0, 8, al...|[[word_embeddings...|[[word_embeddings...|[[entity, 400, 41...|[[entity, 0, 8, 1...|\n",
       "     2|tylenol 650 mg p....|[[document, 0, 64...|[[document, 0, 19...|[[token, 0, 6, ty...|[[token, 0, 6, ty...|[[word_embeddings...|[[named_entity, 0...|[[named_entity, 0...|[[chunk, 499, 506...|[[chunk, 0, 6, ty...|[[word_embeddings...|[[word_embeddings...|[[entity, 499, 50...|[[entity, 0, 6, 3...|\n",
       "     3|the patient&#39;s inc...|[[document, 0, 59...|[[document, 0, 59...|[[token, 0, 2, th...|[[token, 4, 12, p...|[[word_embeddings...|[[named_entity, 4...|[[named_entity, 4...|                  []|[[chunk, 278, 287...|                  []|[[word_embeddings...|                  []|[[entity, 278, 28...|\n",
       "    12|aspirin 325 q.d ....|[[document, 0, 46...|[[document, 0, 16...|[[token, 0, 6, as...|[[token, 0, 6, as...|[[word_embeddings...|[[named_entity, 0...|[[named_entity, 0...|                  []|[[chunk, 0, 6, as...|                  []|[[word_embeddings...|                  []|[[entity, 0, 6, 1...|\n",
       "    13|an echocardiogram...|[[document, 0, 45...|[[document, 0, 45...|[[token, 0, 1, an...|[[token, 3, 16, e...|[[word_embeddings...|[[named_entity, 3...|[[named_entity, 3...|[[chunk, 432, 453...|                  []|[[word_embeddings...|                  []|[[entity, 432, 45...|                  []|\n",
       "    14|1 ) cv ( r ) fini...|[[document, 0, 44...|[[document, 0, 72...|[[token, 0, 0, 1,...|[[token, 0, 0, 1,...|[[word_embeddings...|[[named_entity, 0...|[[named_entity, 0...|[[chunk, 230, 237...|[[chunk, 270, 278...|[[word_embeddings...|[[word_embeddings...|[[entity, 230, 23...|[[entity, 270, 27...|\n",
       "    15|sodium 141 , pota...|[[document, 0, 44...|[[document, 0, 41...|[[token, 0, 5, so...|[[token, 0, 5, so...|[[word_embeddings...|[[named_entity, 0...|[[named_entity, 0...|                  []|[[chunk, 0, 5, so...|                  []|[[word_embeddings...|                  []|[[entity, 0, 5, 3...|\n",
       "     4|this is an 82 - y...|[[document, 0, 59...|[[document, 0, 25...|[[token, 0, 3, th...|[[token, 11, 12, ...|[[word_embeddings...|[[named_entity, 1...|[[named_entity, 1...|[[chunk, 68, 79, ...|[[chunk, 400, 407...|[[word_embeddings...|[[word_embeddings...|[[entity, 68, 79,...|[[entity, 400, 40...|\n",
       "     5|o2 95% on 3l nc m...|[[document, 0, 57...|[[document, 0, 57...|[[token, 0, 1, o2...|[[token, 0, 1, o2...|[[word_embeddings...|[[named_entity, 0...|[[named_entity, 0...|                  []|                  []|                  []|                  []|                  []|                  []|\n",
       "     6|is notable for an...|[[document, 0, 54...|[[document, 0, 10...|[[token, 0, 1, is...|[[token, 3, 9, no...|[[word_embeddings...|[[named_entity, 3...|[[named_entity, 3...|[[chunk, 67, 103,...|                  []|[[word_embeddings...|                  []|[[entity, 67, 103...|                  []|\n",
       "     7|this is a 47 - ye...|[[document, 0, 53...|[[document, 0, 53...|[[token, 0, 3, th...|[[token, 10, 11, ...|[[word_embeddings...|[[named_entity, 1...|[[named_entity, 1...|                  []|[[chunk, 83, 93, ...|                  []|[[word_embeddings...|                  []|[[entity, 83, 93,...|\n",
       "     8|clinical progress...|[[document, 0, 52...|[[document, 0, 52...|[[token, 0, 7, cl...|[[token, 0, 7, cl...|[[word_embeddings...|[[named_entity, 0...|[[named_entity, 0...|                  []|                  []|                  []|                  []|                  []|                  []|\n",
       "     9|the patient had a...|[[document, 0, 48...|[[document, 0, 48...|[[token, 0, 2, th...|[[token, 4, 10, p...|[[word_embeddings...|[[named_entity, 4...|[[named_entity, 4...|[[chunk, 439, 487...|                  []|[[word_embeddings...|                  []|[[entity, 439, 48...|                  []|\n",
       "    10|the patient is a ...|[[document, 0, 48...|[[document, 0, 48...|[[token, 0, 2, th...|[[token, 4, 10, p...|[[word_embeddings...|[[named_entity, 4...|[[named_entity, 4...|[[chunk, 223, 264...|[[chunk, 397, 406...|[[word_embeddings...|[[word_embeddings...|[[entity, 223, 26...|[[entity, 397, 40...|\n",
       "    11|tylenol 650 mg p....|[[document, 0, 47...|[[document, 0, 19...|[[token, 0, 6, ty...|[[token, 0, 6, ty...|[[word_embeddings...|[[named_entity, 0...|[[named_entity, 0...|                  []|[[chunk, 0, 6, ty...|                  []|[[word_embeddings...|                  []|[[entity, 0, 6, 3...|\n",
       "+------+--------------------+--------------------+--------------------+--------------------+--------------------+--------------------+--------------------+--------------------+--------------------+--------------------+--------------------+--------------------+--------------------+--------------------+\n",
       "\n",
       "</div>"
      ]
     },
     "metadata": {
      "application/vnd.databricks.v1+output": {
       "addedWidgets": {},
       "arguments": {},
       "data": "<div class=\"ansiout\">+------+--------------------+--------------------+--------------------+--------------------+--------------------+--------------------+--------------------+--------------------+--------------------+--------------------+--------------------+--------------------+--------------------+--------------------+\n|doc_id|                text|            document|            sentence|           raw_token|               token|          embeddings|             ner_jsl|            ner_drug|           chunk_jsl|          chunk_drug|      chunk_embs_jsl|     chunk_embs_drug|  icd10cm_resolution|   rxnorm_resolution|\n+------+--------------------+--------------------+--------------------+--------------------+--------------------+--------------------+--------------------+--------------------+--------------------+--------------------+--------------------+--------------------+--------------------+--------------------+\n|     0|pentamidine 300 m...|[[document, 0, 10...|[[document, 0, 24...|[[token, 0, 10, p...|[[token, 0, 10, p...|[[word_embeddings...|[[named_entity, 0...|[[named_entity, 0...|                  []|[[chunk, 0, 10, p...|                  []|[[word_embeddings...|                  []|[[entity, 0, 10, ...|\n|     1|albuterol nebuliz...|[[document, 0, 66...|[[document, 0, 33...|[[token, 0, 8, al...|[[token, 0, 8, al...|[[word_embeddings...|[[named_entity, 0...|[[named_entity, 0...|[[chunk, 400, 411...|[[chunk, 0, 8, al...|[[word_embeddings...|[[word_embeddings...|[[entity, 400, 41...|[[entity, 0, 8, 1...|\n|     2|tylenol 650 mg p....|[[document, 0, 64...|[[document, 0, 19...|[[token, 0, 6, ty...|[[token, 0, 6, ty...|[[word_embeddings...|[[named_entity, 0...|[[named_entity, 0...|[[chunk, 499, 506...|[[chunk, 0, 6, ty...|[[word_embeddings...|[[word_embeddings...|[[entity, 499, 50...|[[entity, 0, 6, 3...|\n|     3|the patient&#39;s inc...|[[document, 0, 59...|[[document, 0, 59...|[[token, 0, 2, th...|[[token, 4, 12, p...|[[word_embeddings...|[[named_entity, 4...|[[named_entity, 4...|                  []|[[chunk, 278, 287...|                  []|[[word_embeddings...|                  []|[[entity, 278, 28...|\n|    12|aspirin 325 q.d ....|[[document, 0, 46...|[[document, 0, 16...|[[token, 0, 6, as...|[[token, 0, 6, as...|[[word_embeddings...|[[named_entity, 0...|[[named_entity, 0...|                  []|[[chunk, 0, 6, as...|                  []|[[word_embeddings...|                  []|[[entity, 0, 6, 1...|\n|    13|an echocardiogram...|[[document, 0, 45...|[[document, 0, 45...|[[token, 0, 1, an...|[[token, 3, 16, e...|[[word_embeddings...|[[named_entity, 3...|[[named_entity, 3...|[[chunk, 432, 453...|                  []|[[word_embeddings...|                  []|[[entity, 432, 45...|                  []|\n|    14|1 ) cv ( r ) fini...|[[document, 0, 44...|[[document, 0, 72...|[[token, 0, 0, 1,...|[[token, 0, 0, 1,...|[[word_embeddings...|[[named_entity, 0...|[[named_entity, 0...|[[chunk, 230, 237...|[[chunk, 270, 278...|[[word_embeddings...|[[word_embeddings...|[[entity, 230, 23...|[[entity, 270, 27...|\n|    15|sodium 141 , pota...|[[document, 0, 44...|[[document, 0, 41...|[[token, 0, 5, so...|[[token, 0, 5, so...|[[word_embeddings...|[[named_entity, 0...|[[named_entity, 0...|                  []|[[chunk, 0, 5, so...|                  []|[[word_embeddings...|                  []|[[entity, 0, 5, 3...|\n|     4|this is an 82 - y...|[[document, 0, 59...|[[document, 0, 25...|[[token, 0, 3, th...|[[token, 11, 12, ...|[[word_embeddings...|[[named_entity, 1...|[[named_entity, 1...|[[chunk, 68, 79, ...|[[chunk, 400, 407...|[[word_embeddings...|[[word_embeddings...|[[entity, 68, 79,...|[[entity, 400, 40...|\n|     5|o2 95% on 3l nc m...|[[document, 0, 57...|[[document, 0, 57...|[[token, 0, 1, o2...|[[token, 0, 1, o2...|[[word_embeddings...|[[named_entity, 0...|[[named_entity, 0...|                  []|                  []|                  []|                  []|                  []|                  []|\n|     6|is notable for an...|[[document, 0, 54...|[[document, 0, 10...|[[token, 0, 1, is...|[[token, 3, 9, no...|[[word_embeddings...|[[named_entity, 3...|[[named_entity, 3...|[[chunk, 67, 103,...|                  []|[[word_embeddings...|                  []|[[entity, 67, 103...|                  []|\n|     7|this is a 47 - ye...|[[document, 0, 53...|[[document, 0, 53...|[[token, 0, 3, th...|[[token, 10, 11, ...|[[word_embeddings...|[[named_entity, 1...|[[named_entity, 1...|                  []|[[chunk, 83, 93, ...|                  []|[[word_embeddings...|                  []|[[entity, 83, 93,...|\n|     8|clinical progress...|[[document, 0, 52...|[[document, 0, 52...|[[token, 0, 7, cl...|[[token, 0, 7, cl...|[[word_embeddings...|[[named_entity, 0...|[[named_entity, 0...|                  []|                  []|                  []|                  []|                  []|                  []|\n|     9|the patient had a...|[[document, 0, 48...|[[document, 0, 48...|[[token, 0, 2, th...|[[token, 4, 10, p...|[[word_embeddings...|[[named_entity, 4...|[[named_entity, 4...|[[chunk, 439, 487...|                  []|[[word_embeddings...|                  []|[[entity, 439, 48...|                  []|\n|    10|the patient is a ...|[[document, 0, 48...|[[document, 0, 48...|[[token, 0, 2, th...|[[token, 4, 10, p...|[[word_embeddings...|[[named_entity, 4...|[[named_entity, 4...|[[chunk, 223, 264...|[[chunk, 397, 406...|[[word_embeddings...|[[word_embeddings...|[[entity, 223, 26...|[[entity, 397, 40...|\n|    11|tylenol 650 mg p....|[[document, 0, 47...|[[document, 0, 19...|[[token, 0, 6, ty...|[[token, 0, 6, ty...|[[word_embeddings...|[[named_entity, 0...|[[named_entity, 0...|                  []|[[chunk, 0, 6, ty...|                  []|[[word_embeddings...|                  []|[[entity, 0, 6, 3...|\n+------+--------------------+--------------------+--------------------+--------------------+--------------------+--------------------+--------------------+--------------------+--------------------+--------------------+--------------------+--------------------+--------------------+--------------------+\n\n</div>",
       "datasetInfos": [],
       "removedWidgets": [],
       "type": "html"
      }
     },
     "output_type": "display_data"
    }
   ],
   "source": [
    "output.show()"
   ]
  },
  {
   "cell_type": "code",
   "execution_count": 0,
   "metadata": {
    "application/vnd.databricks.v1+cell": {
     "inputWidgets": {},
     "nuid": "db63dd33-d1c3-4ed9-9318-15d6bbf56aba",
     "showTitle": false,
     "title": ""
    }
   },
   "outputs": [
    {
     "data": {
      "text/html": [
       "<style scoped>\n",
       "  .ansiout {\n",
       "    display: block;\n",
       "    unicode-bidi: embed;\n",
       "    white-space: pre-wrap;\n",
       "    word-wrap: break-word;\n",
       "    word-break: break-all;\n",
       "    font-family: \"Source Code Pro\", \"Menlo\", monospace;;\n",
       "    font-size: 13px;\n",
       "    color: #555;\n",
       "    margin-left: 4px;\n",
       "    line-height: 19px;\n",
       "  }\n",
       "</style>\n",
       "<div class=\"ansiout\"></div>"
      ]
     },
     "metadata": {
      "application/vnd.databricks.v1+output": {
       "addedWidgets": {},
       "arguments": {},
       "data": "<div class=\"ansiout\"></div>",
       "datasetInfos": [],
       "removedWidgets": [],
       "type": "html"
      }
     },
     "output_type": "display_data"
    }
   ],
   "source": [
    "# lets see what would have happened if we hadn't persisted the pipeline at disk. \n",
    "output = pipelineModelFull.transform(data)"
   ]
  },
  {
   "cell_type": "code",
   "execution_count": 0,
   "metadata": {
    "application/vnd.databricks.v1+cell": {
     "inputWidgets": {},
     "nuid": "acc8699e-f211-4b89-be60-3fa2995057c4",
     "showTitle": false,
     "title": ""
    }
   },
   "outputs": [
    {
     "data": {
      "text/html": [
       "<style scoped>\n",
       "  .ansiout {\n",
       "    display: block;\n",
       "    unicode-bidi: embed;\n",
       "    white-space: pre-wrap;\n",
       "    word-wrap: break-word;\n",
       "    word-break: break-all;\n",
       "    font-family: \"Source Code Pro\", \"Menlo\", monospace;;\n",
       "    font-size: 13px;\n",
       "    color: #555;\n",
       "    margin-left: 4px;\n",
       "    line-height: 19px;\n",
       "  }\n",
       "</style>\n",
       "<div class=\"ansiout\">+------+--------------------+--------------------+--------------------+--------------------+--------------------+--------------------+--------------------+--------------------+--------------------+--------------------+--------------------+--------------------+--------------------+--------------------+\n",
       "doc_id|                text|            document|            sentence|           raw_token|               token|          embeddings|             ner_jsl|            ner_drug|           chunk_jsl|          chunk_drug|      chunk_embs_jsl|     chunk_embs_drug|  icd10cm_resolution|   rxnorm_resolution|\n",
       "+------+--------------------+--------------------+--------------------+--------------------+--------------------+--------------------+--------------------+--------------------+--------------------+--------------------+--------------------+--------------------+--------------------+--------------------+\n",
       "     0|pentamidine 300 m...|[[document, 0, 10...|[[document, 0, 24...|[[token, 0, 10, p...|[[token, 0, 10, p...|[[word_embeddings...|[[named_entity, 0...|[[named_entity, 0...|                  []|[[chunk, 0, 10, p...|                  []|[[word_embeddings...|                  []|[[entity, 0, 10, ...|\n",
       "     1|albuterol nebuliz...|[[document, 0, 66...|[[document, 0, 33...|[[token, 0, 8, al...|[[token, 0, 8, al...|[[word_embeddings...|[[named_entity, 0...|[[named_entity, 0...|[[chunk, 400, 411...|[[chunk, 0, 8, al...|[[word_embeddings...|[[word_embeddings...|[[entity, 400, 41...|[[entity, 0, 8, 1...|\n",
       "     2|tylenol 650 mg p....|[[document, 0, 64...|[[document, 0, 19...|[[token, 0, 6, ty...|[[token, 0, 6, ty...|[[word_embeddings...|[[named_entity, 0...|[[named_entity, 0...|[[chunk, 499, 506...|[[chunk, 0, 6, ty...|[[word_embeddings...|[[word_embeddings...|[[entity, 499, 50...|[[entity, 0, 6, 3...|\n",
       "     3|the patient&#39;s inc...|[[document, 0, 59...|[[document, 0, 59...|[[token, 0, 2, th...|[[token, 4, 12, p...|[[word_embeddings...|[[named_entity, 4...|[[named_entity, 4...|                  []|[[chunk, 278, 287...|                  []|[[word_embeddings...|                  []|[[entity, 278, 28...|\n",
       "     4|this is an 82 - y...|[[document, 0, 59...|[[document, 0, 25...|[[token, 0, 3, th...|[[token, 11, 12, ...|[[word_embeddings...|[[named_entity, 1...|[[named_entity, 1...|[[chunk, 68, 79, ...|[[chunk, 400, 407...|[[word_embeddings...|[[word_embeddings...|[[entity, 68, 79,...|[[entity, 400, 40...|\n",
       "     5|o2 95% on 3l nc m...|[[document, 0, 57...|[[document, 0, 57...|[[token, 0, 1, o2...|[[token, 0, 1, o2...|[[word_embeddings...|[[named_entity, 0...|[[named_entity, 0...|                  []|                  []|                  []|                  []|                  []|                  []|\n",
       "     6|is notable for an...|[[document, 0, 54...|[[document, 0, 10...|[[token, 0, 1, is...|[[token, 3, 9, no...|[[word_embeddings...|[[named_entity, 3...|[[named_entity, 3...|[[chunk, 67, 103,...|                  []|[[word_embeddings...|                  []|[[entity, 67, 103...|                  []|\n",
       "     7|this is a 47 - ye...|[[document, 0, 53...|[[document, 0, 53...|[[token, 0, 3, th...|[[token, 10, 11, ...|[[word_embeddings...|[[named_entity, 1...|[[named_entity, 1...|                  []|[[chunk, 83, 93, ...|                  []|[[word_embeddings...|                  []|[[entity, 83, 93,...|\n",
       "     8|clinical progress...|[[document, 0, 52...|[[document, 0, 52...|[[token, 0, 7, cl...|[[token, 0, 7, cl...|[[word_embeddings...|[[named_entity, 0...|[[named_entity, 0...|                  []|                  []|                  []|                  []|                  []|                  []|\n",
       "     9|the patient had a...|[[document, 0, 48...|[[document, 0, 48...|[[token, 0, 2, th...|[[token, 4, 10, p...|[[word_embeddings...|[[named_entity, 4...|[[named_entity, 4...|[[chunk, 439, 487...|                  []|[[word_embeddings...|                  []|[[entity, 439, 48...|                  []|\n",
       "    10|the patient is a ...|[[document, 0, 48...|[[document, 0, 48...|[[token, 0, 2, th...|[[token, 4, 10, p...|[[word_embeddings...|[[named_entity, 4...|[[named_entity, 4...|[[chunk, 223, 264...|[[chunk, 397, 406...|[[word_embeddings...|[[word_embeddings...|[[entity, 223, 26...|[[entity, 397, 40...|\n",
       "    11|tylenol 650 mg p....|[[document, 0, 47...|[[document, 0, 19...|[[token, 0, 6, ty...|[[token, 0, 6, ty...|[[word_embeddings...|[[named_entity, 0...|[[named_entity, 0...|                  []|[[chunk, 0, 6, ty...|                  []|[[word_embeddings...|                  []|[[entity, 0, 6, 3...|\n",
       "    12|aspirin 325 q.d ....|[[document, 0, 46...|[[document, 0, 16...|[[token, 0, 6, as...|[[token, 0, 6, as...|[[word_embeddings...|[[named_entity, 0...|[[named_entity, 0...|                  []|[[chunk, 0, 6, as...|                  []|[[word_embeddings...|                  []|[[entity, 0, 6, 1...|\n",
       "    13|an echocardiogram...|[[document, 0, 45...|[[document, 0, 45...|[[token, 0, 1, an...|[[token, 3, 16, e...|[[word_embeddings...|[[named_entity, 3...|[[named_entity, 3...|[[chunk, 432, 453...|                  []|[[word_embeddings...|                  []|[[entity, 432, 45...|                  []|\n",
       "    14|1 ) cv ( r ) fini...|[[document, 0, 44...|[[document, 0, 72...|[[token, 0, 0, 1,...|[[token, 0, 0, 1,...|[[word_embeddings...|[[named_entity, 0...|[[named_entity, 0...|[[chunk, 230, 237...|[[chunk, 270, 278...|[[word_embeddings...|[[word_embeddings...|[[entity, 230, 23...|[[entity, 270, 27...|\n",
       "    15|sodium 141 , pota...|[[document, 0, 44...|[[document, 0, 41...|[[token, 0, 5, so...|[[token, 0, 5, so...|[[word_embeddings...|[[named_entity, 0...|[[named_entity, 0...|                  []|[[chunk, 0, 5, so...|                  []|[[word_embeddings...|                  []|[[entity, 0, 5, 3...|\n",
       "+------+--------------------+--------------------+--------------------+--------------------+--------------------+--------------------+--------------------+--------------------+--------------------+--------------------+--------------------+--------------------+--------------------+--------------------+\n",
       "\n",
       "</div>"
      ]
     },
     "metadata": {
      "application/vnd.databricks.v1+output": {
       "addedWidgets": {},
       "arguments": {},
       "data": "<div class=\"ansiout\">+------+--------------------+--------------------+--------------------+--------------------+--------------------+--------------------+--------------------+--------------------+--------------------+--------------------+--------------------+--------------------+--------------------+--------------------+\n|doc_id|                text|            document|            sentence|           raw_token|               token|          embeddings|             ner_jsl|            ner_drug|           chunk_jsl|          chunk_drug|      chunk_embs_jsl|     chunk_embs_drug|  icd10cm_resolution|   rxnorm_resolution|\n+------+--------------------+--------------------+--------------------+--------------------+--------------------+--------------------+--------------------+--------------------+--------------------+--------------------+--------------------+--------------------+--------------------+--------------------+\n|     0|pentamidine 300 m...|[[document, 0, 10...|[[document, 0, 24...|[[token, 0, 10, p...|[[token, 0, 10, p...|[[word_embeddings...|[[named_entity, 0...|[[named_entity, 0...|                  []|[[chunk, 0, 10, p...|                  []|[[word_embeddings...|                  []|[[entity, 0, 10, ...|\n|     1|albuterol nebuliz...|[[document, 0, 66...|[[document, 0, 33...|[[token, 0, 8, al...|[[token, 0, 8, al...|[[word_embeddings...|[[named_entity, 0...|[[named_entity, 0...|[[chunk, 400, 411...|[[chunk, 0, 8, al...|[[word_embeddings...|[[word_embeddings...|[[entity, 400, 41...|[[entity, 0, 8, 1...|\n|     2|tylenol 650 mg p....|[[document, 0, 64...|[[document, 0, 19...|[[token, 0, 6, ty...|[[token, 0, 6, ty...|[[word_embeddings...|[[named_entity, 0...|[[named_entity, 0...|[[chunk, 499, 506...|[[chunk, 0, 6, ty...|[[word_embeddings...|[[word_embeddings...|[[entity, 499, 50...|[[entity, 0, 6, 3...|\n|     3|the patient&#39;s inc...|[[document, 0, 59...|[[document, 0, 59...|[[token, 0, 2, th...|[[token, 4, 12, p...|[[word_embeddings...|[[named_entity, 4...|[[named_entity, 4...|                  []|[[chunk, 278, 287...|                  []|[[word_embeddings...|                  []|[[entity, 278, 28...|\n|     4|this is an 82 - y...|[[document, 0, 59...|[[document, 0, 25...|[[token, 0, 3, th...|[[token, 11, 12, ...|[[word_embeddings...|[[named_entity, 1...|[[named_entity, 1...|[[chunk, 68, 79, ...|[[chunk, 400, 407...|[[word_embeddings...|[[word_embeddings...|[[entity, 68, 79,...|[[entity, 400, 40...|\n|     5|o2 95% on 3l nc m...|[[document, 0, 57...|[[document, 0, 57...|[[token, 0, 1, o2...|[[token, 0, 1, o2...|[[word_embeddings...|[[named_entity, 0...|[[named_entity, 0...|                  []|                  []|                  []|                  []|                  []|                  []|\n|     6|is notable for an...|[[document, 0, 54...|[[document, 0, 10...|[[token, 0, 1, is...|[[token, 3, 9, no...|[[word_embeddings...|[[named_entity, 3...|[[named_entity, 3...|[[chunk, 67, 103,...|                  []|[[word_embeddings...|                  []|[[entity, 67, 103...|                  []|\n|     7|this is a 47 - ye...|[[document, 0, 53...|[[document, 0, 53...|[[token, 0, 3, th...|[[token, 10, 11, ...|[[word_embeddings...|[[named_entity, 1...|[[named_entity, 1...|                  []|[[chunk, 83, 93, ...|                  []|[[word_embeddings...|                  []|[[entity, 83, 93,...|\n|     8|clinical progress...|[[document, 0, 52...|[[document, 0, 52...|[[token, 0, 7, cl...|[[token, 0, 7, cl...|[[word_embeddings...|[[named_entity, 0...|[[named_entity, 0...|                  []|                  []|                  []|                  []|                  []|                  []|\n|     9|the patient had a...|[[document, 0, 48...|[[document, 0, 48...|[[token, 0, 2, th...|[[token, 4, 10, p...|[[word_embeddings...|[[named_entity, 4...|[[named_entity, 4...|[[chunk, 439, 487...|                  []|[[word_embeddings...|                  []|[[entity, 439, 48...|                  []|\n|    10|the patient is a ...|[[document, 0, 48...|[[document, 0, 48...|[[token, 0, 2, th...|[[token, 4, 10, p...|[[word_embeddings...|[[named_entity, 4...|[[named_entity, 4...|[[chunk, 223, 264...|[[chunk, 397, 406...|[[word_embeddings...|[[word_embeddings...|[[entity, 223, 26...|[[entity, 397, 40...|\n|    11|tylenol 650 mg p....|[[document, 0, 47...|[[document, 0, 19...|[[token, 0, 6, ty...|[[token, 0, 6, ty...|[[word_embeddings...|[[named_entity, 0...|[[named_entity, 0...|                  []|[[chunk, 0, 6, ty...|                  []|[[word_embeddings...|                  []|[[entity, 0, 6, 3...|\n|    12|aspirin 325 q.d ....|[[document, 0, 46...|[[document, 0, 16...|[[token, 0, 6, as...|[[token, 0, 6, as...|[[word_embeddings...|[[named_entity, 0...|[[named_entity, 0...|                  []|[[chunk, 0, 6, as...|                  []|[[word_embeddings...|                  []|[[entity, 0, 6, 1...|\n|    13|an echocardiogram...|[[document, 0, 45...|[[document, 0, 45...|[[token, 0, 1, an...|[[token, 3, 16, e...|[[word_embeddings...|[[named_entity, 3...|[[named_entity, 3...|[[chunk, 432, 453...|                  []|[[word_embeddings...|                  []|[[entity, 432, 45...|                  []|\n|    14|1 ) cv ( r ) fini...|[[document, 0, 44...|[[document, 0, 72...|[[token, 0, 0, 1,...|[[token, 0, 0, 1,...|[[word_embeddings...|[[named_entity, 0...|[[named_entity, 0...|[[chunk, 230, 237...|[[chunk, 270, 278...|[[word_embeddings...|[[word_embeddings...|[[entity, 230, 23...|[[entity, 270, 27...|\n|    15|sodium 141 , pota...|[[document, 0, 44...|[[document, 0, 41...|[[token, 0, 5, so...|[[token, 0, 5, so...|[[word_embeddings...|[[named_entity, 0...|[[named_entity, 0...|                  []|[[chunk, 0, 5, so...|                  []|[[word_embeddings...|                  []|[[entity, 0, 5, 3...|\n+------+--------------------+--------------------+--------------------+--------------------+--------------------+--------------------+--------------------+--------------------+--------------------+--------------------+--------------------+--------------------+--------------------+--------------------+\n\n</div>",
       "datasetInfos": [],
       "removedWidgets": [],
       "type": "html"
      }
     },
     "output_type": "display_data"
    }
   ],
   "source": [
    "output.show()\n",
    "## 1.0 vs 18.39 seconds for the first 20 rows (about x20 faster)"
   ]
  },
  {
   "cell_type": "code",
   "execution_count": 0,
   "metadata": {
    "application/vnd.databricks.v1+cell": {
     "inputWidgets": {},
     "nuid": "2ea43f65-8b54-4772-a278-2d768f56ee41",
     "showTitle": false,
     "title": ""
    }
   },
   "outputs": [
    {
     "data": {
      "text/html": [
       "<style scoped>\n",
       "  .ansiout {\n",
       "    display: block;\n",
       "    unicode-bidi: embed;\n",
       "    white-space: pre-wrap;\n",
       "    word-wrap: break-word;\n",
       "    word-break: break-all;\n",
       "    font-family: \"Source Code Pro\", \"Menlo\", monospace;;\n",
       "    font-size: 13px;\n",
       "    color: #555;\n",
       "    margin-left: 4px;\n",
       "    line-height: 19px;\n",
       "  }\n",
       "</style>\n",
       "<div class=\"ansiout\"></div>"
      ]
     },
     "metadata": {
      "application/vnd.databricks.v1+output": {
       "addedWidgets": {},
       "arguments": {},
       "data": "<div class=\"ansiout\"></div>",
       "datasetInfos": [],
       "removedWidgets": [],
       "type": "html"
      }
     },
     "output_type": "display_data"
    }
   ],
   "source": [
    "def quick_metadata_analysis(df, doc_field, chunk_field, code_fields):\n",
    "    code_res_meta = \", \".join([f\"{cf}.metadata\" for cf in code_fields])\n",
    "    expression = f\"explode(arrays_zip({chunk_field}.begin, {chunk_field}.end, {chunk_field}.result, {chunk_field}.metadata, \"+code_res_meta+\")) as a\"\n",
    "    top_n_rest = [(f\"float(a['{i+4}'].confidence) as {(cf.split('_')[0])}_conf\",\n",
    "                    f\"arrays_zip(split(a['{i+4}'].all_k_results,':::'),split(a['{i+4}'].all_k_resolutions,':::')) as {cf.split('_')[0]+'_opts'}\")\n",
    "                    for i, cf in enumerate(code_fields)]\n",
    "    top_n_rest_args = []\n",
    "    for tr in top_n_rest:\n",
    "        for t in tr:\n",
    "            top_n_rest_args.append(t)\n",
    "    return df.selectExpr(doc_field, expression) \\\n",
    "        .orderBy('doc_id', F.expr(\"a['0']\"), F.expr(\"a['1']\"))\\\n",
    "        .selectExpr(f\"concat_ws('::',{doc_field},a['0'],a['1']) as coords\", \"a['2'] as chunk\",\"a['3'].entity as entity\", *top_n_rest_args)"
   ]
  },
  {
   "cell_type": "code",
   "execution_count": 0,
   "metadata": {
    "application/vnd.databricks.v1+cell": {
     "inputWidgets": {},
     "nuid": "f73a489a-e833-4f7a-acf8-3470031a0370",
     "showTitle": false,
     "title": ""
    }
   },
   "outputs": [
    {
     "data": {
      "text/html": [
       "<style scoped>\n",
       "  .ansiout {\n",
       "    display: block;\n",
       "    unicode-bidi: embed;\n",
       "    white-space: pre-wrap;\n",
       "    word-wrap: break-word;\n",
       "    word-break: break-all;\n",
       "    font-family: \"Source Code Pro\", \"Menlo\", monospace;;\n",
       "    font-size: 13px;\n",
       "    color: #555;\n",
       "    margin-left: 4px;\n",
       "    line-height: 19px;\n",
       "  }\n",
       "</style>\n",
       "<div class=\"ansiout\">/databricks/spark/python/pyspark/sql/pandas/conversion.py:93: UserWarning: toPandas attempted Arrow optimization because &#39;spark.sql.execution.arrow.pyspark.enabled&#39; is set to true; however, failed by the reason below:\n",
       "  Unable to convert the field icd10cm_opts. If this column is not necessary, you may consider dropping it or converting to primitive type before the conversion.\n",
       "Context: Unsupported type in conversion to Arrow: ArrayType(StructType(List(StructField(0,StringType,true),StructField(1,StringType,true))),false)\n",
       "Attempting non-optimization as &#39;spark.sql.execution.arrow.pyspark.fallback.enabled&#39; is set to true.\n",
       "  warnings.warn(msg)\n",
       "</div>"
      ]
     },
     "metadata": {
      "application/vnd.databricks.v1+output": {
       "addedWidgets": {},
       "arguments": {},
       "data": "<div class=\"ansiout\">/databricks/spark/python/pyspark/sql/pandas/conversion.py:93: UserWarning: toPandas attempted Arrow optimization because &#39;spark.sql.execution.arrow.pyspark.enabled&#39; is set to true; however, failed by the reason below:\n  Unable to convert the field icd10cm_opts. If this column is not necessary, you may consider dropping it or converting to primitive type before the conversion.\nContext: Unsupported type in conversion to Arrow: ArrayType(StructType(List(StructField(0,StringType,true),StructField(1,StringType,true))),false)\nAttempting non-optimization as &#39;spark.sql.execution.arrow.pyspark.fallback.enabled&#39; is set to true.\n  warnings.warn(msg)\n</div>",
       "datasetInfos": [],
       "removedWidgets": [],
       "type": "html"
      }
     },
     "output_type": "display_data"
    }
   ],
   "source": [
    "icd10cm_analysis = quick_metadata_analysis(output, 'doc_id', 'chunk_jsl',['icd10cm_resolution']).toPandas()"
   ]
  },
  {
   "cell_type": "code",
   "execution_count": 0,
   "metadata": {
    "application/vnd.databricks.v1+cell": {
     "inputWidgets": {},
     "nuid": "00203059-7a28-4e0f-9187-635d7fb5b349",
     "showTitle": false,
     "title": ""
    }
   },
   "outputs": [
    {
     "data": {
      "text/html": [
       "<style scoped>\n",
       "  .ansiout {\n",
       "    display: block;\n",
       "    unicode-bidi: embed;\n",
       "    white-space: pre-wrap;\n",
       "    word-wrap: break-word;\n",
       "    word-break: break-all;\n",
       "    font-family: \"Source Code Pro\", \"Menlo\", monospace;;\n",
       "    font-size: 13px;\n",
       "    color: #555;\n",
       "    margin-left: 4px;\n",
       "    line-height: 19px;\n",
       "  }\n",
       "</style>\n",
       "<div class=\"ansiout\">/databricks/spark/python/pyspark/sql/pandas/conversion.py:93: UserWarning: toPandas attempted Arrow optimization because &#39;spark.sql.execution.arrow.pyspark.enabled&#39; is set to true; however, failed by the reason below:\n",
       "  Unable to convert the field rxnorm_opts. If this column is not necessary, you may consider dropping it or converting to primitive type before the conversion.\n",
       "Context: Unsupported type in conversion to Arrow: ArrayType(StructType(List(StructField(0,StringType,true),StructField(1,StringType,true))),false)\n",
       "Attempting non-optimization as &#39;spark.sql.execution.arrow.pyspark.fallback.enabled&#39; is set to true.\n",
       "  warnings.warn(msg)\n",
       "</div>"
      ]
     },
     "metadata": {
      "application/vnd.databricks.v1+output": {
       "addedWidgets": {},
       "arguments": {},
       "data": "<div class=\"ansiout\">/databricks/spark/python/pyspark/sql/pandas/conversion.py:93: UserWarning: toPandas attempted Arrow optimization because &#39;spark.sql.execution.arrow.pyspark.enabled&#39; is set to true; however, failed by the reason below:\n  Unable to convert the field rxnorm_opts. If this column is not necessary, you may consider dropping it or converting to primitive type before the conversion.\nContext: Unsupported type in conversion to Arrow: ArrayType(StructType(List(StructField(0,StringType,true),StructField(1,StringType,true))),false)\nAttempting non-optimization as &#39;spark.sql.execution.arrow.pyspark.fallback.enabled&#39; is set to true.\n  warnings.warn(msg)\n</div>",
       "datasetInfos": [],
       "removedWidgets": [],
       "type": "html"
      }
     },
     "output_type": "display_data"
    }
   ],
   "source": [
    "rxnorm_analysis = quick_metadata_analysis(output, 'doc_id', 'chunk_drug',['rxnorm_resolution']).toPandas()"
   ]
  },
  {
   "cell_type": "code",
   "execution_count": 0,
   "metadata": {
    "application/vnd.databricks.v1+cell": {
     "inputWidgets": {},
     "nuid": "1e5abb54-c480-4220-acb7-7d8549a6ff9a",
     "showTitle": false,
     "title": ""
    }
   },
   "outputs": [
    {
     "data": {
      "text/html": [
       "<style scoped>\n",
       "  .ansiout {\n",
       "    display: block;\n",
       "    unicode-bidi: embed;\n",
       "    white-space: pre-wrap;\n",
       "    word-wrap: break-word;\n",
       "    word-break: break-all;\n",
       "    font-family: \"Source Code Pro\", \"Menlo\", monospace;;\n",
       "    font-size: 13px;\n",
       "    color: #555;\n",
       "    margin-left: 4px;\n",
       "    line-height: 19px;\n",
       "  }\n",
       "</style>\n",
       "<div class=\"ansiout\"></div>"
      ]
     },
     "metadata": {
      "application/vnd.databricks.v1+output": {
       "addedWidgets": {},
       "arguments": {},
       "data": "<div class=\"ansiout\"></div>",
       "datasetInfos": [],
       "removedWidgets": [],
       "type": "html"
      }
     },
     "output_type": "display_data"
    }
   ],
   "source": [
    "pd.set_option('display.max_colwidth', 250)\n",
    "pd.set_option('display.max_rows', 500)"
   ]
  },
  {
   "cell_type": "code",
   "execution_count": 0,
   "metadata": {
    "application/vnd.databricks.v1+cell": {
     "inputWidgets": {},
     "nuid": "4bb26d98-7e69-40c9-91ad-dcdadedb5d92",
     "showTitle": false,
     "title": ""
    }
   },
   "outputs": [
    {
     "data": {
      "text/html": [
       "<style scoped>\n",
       "  .ansiout {\n",
       "    display: block;\n",
       "    unicode-bidi: embed;\n",
       "    white-space: pre-wrap;\n",
       "    word-wrap: break-word;\n",
       "    word-break: break-all;\n",
       "    font-family: \"Source Code Pro\", \"Menlo\", monospace;;\n",
       "    font-size: 13px;\n",
       "    color: #555;\n",
       "    margin-left: 4px;\n",
       "    line-height: 19px;\n",
       "  }\n",
       "</style>\n",
       "<div class=\"ansiout\">Out[183]: </div>"
      ]
     },
     "metadata": {
      "application/vnd.databricks.v1+output": {
       "addedWidgets": {},
       "arguments": {},
       "data": "<div class=\"ansiout\">Out[183]: </div>",
       "datasetInfos": [],
       "removedWidgets": [],
       "type": "html"
      }
     },
     "output_type": "display_data"
    },
    {
     "data": {
      "text/html": [
       "<div>\n",
       "<style scoped>\n",
       "    .dataframe tbody tr th:only-of-type {\n",
       "        vertical-align: middle;\n",
       "    }\n",
       "\n",
       "    .dataframe tbody tr th {\n",
       "        vertical-align: top;\n",
       "    }\n",
       "\n",
       "    .dataframe thead th {\n",
       "        text-align: right;\n",
       "    }\n",
       "</style>\n",
       "<table border=\"1\" class=\"dataframe\">\n",
       "  <thead>\n",
       "    <tr style=\"text-align: right;\">\n",
       "      <th></th>\n",
       "      <th>coords</th>\n",
       "      <th>chunk</th>\n",
       "      <th>entity</th>\n",
       "      <th>icd10cm_conf</th>\n",
       "      <th>icd10cm_opts</th>\n",
       "    </tr>\n",
       "  </thead>\n",
       "  <tbody>\n",
       "    <tr>\n",
       "      <th>1</th>\n",
       "      <td>2::499::506</td>\n",
       "      <td>insomnia</td>\n",
       "      <td>Diagnosis</td>\n",
       "      <td>0.9050</td>\n",
       "      <td>[(G4700, Insomnia, unspecified), (G4709, Other insomnia), (F5102, Adjustment insomnia), (F5101, Primary insomnia), (F5109, Other insomnia not due to a substance or known physiological condition)]</td>\n",
       "    </tr>\n",
       "    <tr>\n",
       "      <th>4</th>\n",
       "      <td>4::120::128</td>\n",
       "      <td>gastritis</td>\n",
       "      <td>Diagnosis</td>\n",
       "      <td>0.4680</td>\n",
       "      <td>[(K2970, Gastritis, unspecified, without bleeding), (B9681, Helicobacter pylori [H. pylori] as the cause of diseases classified elsewhere), (K2900, Acute gastritis without bleeding), (A084, Viral intestinal infection, unspecified), (K2960, Other ...</td>\n",
       "    </tr>\n",
       "    <tr>\n",
       "      <th>5</th>\n",
       "      <td>6::67::103</td>\n",
       "      <td>obstructive lung disease with an fev1</td>\n",
       "      <td>Diagnosis</td>\n",
       "      <td>0.4564</td>\n",
       "      <td>[(J670, Farmer's lung), (J984, Other disorders of lung), (J449, Chronic obstructive pulmonary disease, unspecified), (J849, Interstitial pulmonary disease, unspecified), (J440, Chronic obstructive pulmonary disease with acute lower respiratory in...</td>\n",
       "    </tr>\n",
       "    <tr>\n",
       "      <th>7</th>\n",
       "      <td>6::274::293</td>\n",
       "      <td>systolic dysfunction</td>\n",
       "      <td>Diagnosis</td>\n",
       "      <td>0.8329</td>\n",
       "      <td>[(I519, Heart disease, unspecified), (I5040, Unspecified combined systolic (congestive) and diastolic (congestive) heart failure), (I5020, Unspecified systolic (congestive) heart failure), (N522, Drug-induced erectile dysfunction), (F5221, Male e...</td>\n",
       "    </tr>\n",
       "    <tr>\n",
       "      <th>9</th>\n",
       "      <td>10::223::264</td>\n",
       "      <td>acanthamoeba infection of skin and sinuses</td>\n",
       "      <td>Diagnosis</td>\n",
       "      <td>0.4519</td>\n",
       "      <td>[(L089, Local infection of the skin and subcutaneous tissue, unspecified), (B6010, Acanthamebiasis, unspecified), (A311, Cutaneous mycobacterial infection), (B383, Cutaneous coccidioidomycosis), (L080, Pyoderma)]</td>\n",
       "    </tr>\n",
       "    <tr>\n",
       "      <th>11</th>\n",
       "      <td>10::410::445</td>\n",
       "      <td>hepatomegaly and fluid surge spacing</td>\n",
       "      <td>Diagnosis</td>\n",
       "      <td>0.4627</td>\n",
       "      <td>[(E8779, Other fluid overload), (E860, Dehydration), (E8770, Fluid overload, unspecified), (I313, Pericardial effusion (noninflammatory)), (J811, Chronic pulmonary edema)]</td>\n",
       "    </tr>\n",
       "    <tr>\n",
       "      <th>12</th>\n",
       "      <td>10::456::478</td>\n",
       "      <td>setting of hyponatremia</td>\n",
       "      <td>Diagnosis</td>\n",
       "      <td>0.9990</td>\n",
       "      <td>[(E871, Hypo-osmolality and hyponatremia), (I953, Hypotension of hemodialysis), (I952, Hypotension due to drugs), (E870, Hyperosmolality and hypernatremia), (J9602, Acute respiratory failure with hypercapnia)]</td>\n",
       "    </tr>\n",
       "    <tr>\n",
       "      <th>15</th>\n",
       "      <td>14::323::330</td>\n",
       "      <td>ischemia</td>\n",
       "      <td>Diagnosis</td>\n",
       "      <td>0.8969</td>\n",
       "      <td>[(G450, Vertebro-basilar artery syndrome), (N280, Ischemia and infarction of kidney), (H3582, Retinal ischemia), (I6782, Cerebral ischemia), (I248, Other forms of acute ischemic heart disease)]</td>\n",
       "    </tr>\n",
       "  </tbody>\n",
       "</table>\n",
       "</div>"
      ]
     },
     "metadata": {
      "application/vnd.databricks.v1+output": {
       "addedWidgets": {},
       "arguments": {},
       "data": "<div>\n<style scoped>\n    .dataframe tbody tr th:only-of-type {\n        vertical-align: middle;\n    }\n\n    .dataframe tbody tr th {\n        vertical-align: top;\n    }\n\n    .dataframe thead th {\n        text-align: right;\n    }\n</style>\n<table border=\"1\" class=\"dataframe\">\n  <thead>\n    <tr style=\"text-align: right;\">\n      <th></th>\n      <th>coords</th>\n      <th>chunk</th>\n      <th>entity</th>\n      <th>icd10cm_conf</th>\n      <th>icd10cm_opts</th>\n    </tr>\n  </thead>\n  <tbody>\n    <tr>\n      <th>1</th>\n      <td>2::499::506</td>\n      <td>insomnia</td>\n      <td>Diagnosis</td>\n      <td>0.9050</td>\n      <td>[(G4700, Insomnia, unspecified), (G4709, Other insomnia), (F5102, Adjustment insomnia), (F5101, Primary insomnia), (F5109, Other insomnia not due to a substance or known physiological condition)]</td>\n    </tr>\n    <tr>\n      <th>4</th>\n      <td>4::120::128</td>\n      <td>gastritis</td>\n      <td>Diagnosis</td>\n      <td>0.4680</td>\n      <td>[(K2970, Gastritis, unspecified, without bleeding), (B9681, Helicobacter pylori [H. pylori] as the cause of diseases classified elsewhere), (K2900, Acute gastritis without bleeding), (A084, Viral intestinal infection, unspecified), (K2960, Other ...</td>\n    </tr>\n    <tr>\n      <th>5</th>\n      <td>6::67::103</td>\n      <td>obstructive lung disease with an fev1</td>\n      <td>Diagnosis</td>\n      <td>0.4564</td>\n      <td>[(J670, Farmer's lung), (J984, Other disorders of lung), (J449, Chronic obstructive pulmonary disease, unspecified), (J849, Interstitial pulmonary disease, unspecified), (J440, Chronic obstructive pulmonary disease with acute lower respiratory in...</td>\n    </tr>\n    <tr>\n      <th>7</th>\n      <td>6::274::293</td>\n      <td>systolic dysfunction</td>\n      <td>Diagnosis</td>\n      <td>0.8329</td>\n      <td>[(I519, Heart disease, unspecified), (I5040, Unspecified combined systolic (congestive) and diastolic (congestive) heart failure), (I5020, Unspecified systolic (congestive) heart failure), (N522, Drug-induced erectile dysfunction), (F5221, Male e...</td>\n    </tr>\n    <tr>\n      <th>9</th>\n      <td>10::223::264</td>\n      <td>acanthamoeba infection of skin and sinuses</td>\n      <td>Diagnosis</td>\n      <td>0.4519</td>\n      <td>[(L089, Local infection of the skin and subcutaneous tissue, unspecified), (B6010, Acanthamebiasis, unspecified), (A311, Cutaneous mycobacterial infection), (B383, Cutaneous coccidioidomycosis), (L080, Pyoderma)]</td>\n    </tr>\n    <tr>\n      <th>11</th>\n      <td>10::410::445</td>\n      <td>hepatomegaly and fluid surge spacing</td>\n      <td>Diagnosis</td>\n      <td>0.4627</td>\n      <td>[(E8779, Other fluid overload), (E860, Dehydration), (E8770, Fluid overload, unspecified), (I313, Pericardial effusion (noninflammatory)), (J811, Chronic pulmonary edema)]</td>\n    </tr>\n    <tr>\n      <th>12</th>\n      <td>10::456::478</td>\n      <td>setting of hyponatremia</td>\n      <td>Diagnosis</td>\n      <td>0.9990</td>\n      <td>[(E871, Hypo-osmolality and hyponatremia), (I953, Hypotension of hemodialysis), (I952, Hypotension due to drugs), (E870, Hyperosmolality and hypernatremia), (J9602, Acute respiratory failure with hypercapnia)]</td>\n    </tr>\n    <tr>\n      <th>15</th>\n      <td>14::323::330</td>\n      <td>ischemia</td>\n      <td>Diagnosis</td>\n      <td>0.8969</td>\n      <td>[(G450, Vertebro-basilar artery syndrome), (N280, Ischemia and infarction of kidney), (H3582, Retinal ischemia), (I6782, Cerebral ischemia), (I248, Other forms of acute ischemic heart disease)]</td>\n    </tr>\n  </tbody>\n</table>\n</div>",
       "datasetInfos": [],
       "removedWidgets": [],
       "textData": null,
       "type": "htmlSandbox"
      }
     },
     "output_type": "display_data"
    }
   ],
   "source": [
    "icd10cm_analysis[icd10cm_analysis.icd10cm_conf>0.4]"
   ]
  },
  {
   "cell_type": "code",
   "execution_count": 0,
   "metadata": {
    "application/vnd.databricks.v1+cell": {
     "inputWidgets": {},
     "nuid": "d970c447-c750-489b-b38e-a86c5d4858d8",
     "showTitle": false,
     "title": ""
    }
   },
   "outputs": [
    {
     "data": {
      "text/html": [
       "<style scoped>\n",
       "  .ansiout {\n",
       "    display: block;\n",
       "    unicode-bidi: embed;\n",
       "    white-space: pre-wrap;\n",
       "    word-wrap: break-word;\n",
       "    word-break: break-all;\n",
       "    font-family: \"Source Code Pro\", \"Menlo\", monospace;;\n",
       "    font-size: 13px;\n",
       "    color: #555;\n",
       "    margin-left: 4px;\n",
       "    line-height: 19px;\n",
       "  }\n",
       "</style>\n",
       "<div class=\"ansiout\">Out[184]: </div>"
      ]
     },
     "metadata": {
      "application/vnd.databricks.v1+output": {
       "addedWidgets": {},
       "arguments": {},
       "data": "<div class=\"ansiout\">Out[184]: </div>",
       "datasetInfos": [],
       "removedWidgets": [],
       "type": "html"
      }
     },
     "output_type": "display_data"
    },
    {
     "data": {
      "text/html": [
       "<div>\n",
       "<style scoped>\n",
       "    .dataframe tbody tr th:only-of-type {\n",
       "        vertical-align: middle;\n",
       "    }\n",
       "\n",
       "    .dataframe tbody tr th {\n",
       "        vertical-align: top;\n",
       "    }\n",
       "\n",
       "    .dataframe thead th {\n",
       "        text-align: right;\n",
       "    }\n",
       "</style>\n",
       "<table border=\"1\" class=\"dataframe\">\n",
       "  <thead>\n",
       "    <tr style=\"text-align: right;\">\n",
       "      <th></th>\n",
       "      <th>coords</th>\n",
       "      <th>chunk</th>\n",
       "      <th>entity</th>\n",
       "      <th>rxnorm_conf</th>\n",
       "      <th>rxnorm_opts</th>\n",
       "    </tr>\n",
       "  </thead>\n",
       "  <tbody>\n",
       "    <tr>\n",
       "      <th>0</th>\n",
       "      <td>0::0::10</td>\n",
       "      <td>pentamidine</td>\n",
       "      <td>DrugChem</td>\n",
       "      <td>0.5925</td>\n",
       "      <td>[(861601, Pentamidine Isethionate 300 MG Injection), (861597, Pentamidine Isethionate 50 MG/ML Inhalation Solution), (755627, Chloroquine 5 MG/ML Oral Solution), (855624, Dibromopropamidine isethionate 1 MG/ML Ophthalmic Solution), (1119497, chlo...</td>\n",
       "    </tr>\n",
       "    <tr>\n",
       "      <th>1</th>\n",
       "      <td>0::37::47</td>\n",
       "      <td>pentamidine</td>\n",
       "      <td>DrugChem</td>\n",
       "      <td>0.5925</td>\n",
       "      <td>[(861601, Pentamidine Isethionate 300 MG Injection), (861597, Pentamidine Isethionate 50 MG/ML Inhalation Solution), (755627, Chloroquine 5 MG/ML Oral Solution), (855624, Dibromopropamidine isethionate 1 MG/ML Ophthalmic Solution), (1119497, chlo...</td>\n",
       "    </tr>\n",
       "    <tr>\n",
       "      <th>55</th>\n",
       "      <td>3::278::287</td>\n",
       "      <td>creatinine</td>\n",
       "      <td>DrugChem</td>\n",
       "      <td>0.9996</td>\n",
       "      <td>[(849628, Creatinine 800 MG Oral Capsule), (252180, Urea 10 MG/ML Topical Lotion), (424168, Urea 30 MG/ML Topical Lotion), (251705, Urea 20 MG/ML Topical Lotion), (245052, Urea 200 MG/ML Oral Solution)]</td>\n",
       "    </tr>\n",
       "    <tr>\n",
       "      <th>58</th>\n",
       "      <td>7::83::93</td>\n",
       "      <td>cholesterol</td>\n",
       "      <td>DrugChem</td>\n",
       "      <td>0.5609</td>\n",
       "      <td>[(2104173, beta Sitosterol 35 MG Oral Tablet), (832876, phytosterol esters 500 MG Oral Capsule), (637208, phytosterol esters 650 MG Oral Capsule), (411217, Lecithin 228 MG Oral Capsule), (1737442, amphotericin B lipid complex 5 MG/ML Injection)]</td>\n",
       "    </tr>\n",
       "    <tr>\n",
       "      <th>59</th>\n",
       "      <td>10::397::406</td>\n",
       "      <td>creatinine</td>\n",
       "      <td>DrugChem</td>\n",
       "      <td>0.9996</td>\n",
       "      <td>[(849628, Creatinine 800 MG Oral Capsule), (252180, Urea 10 MG/ML Topical Lotion), (424168, Urea 30 MG/ML Topical Lotion), (251705, Urea 20 MG/ML Topical Lotion), (245052, Urea 200 MG/ML Oral Solution)]</td>\n",
       "    </tr>\n",
       "    <tr>\n",
       "      <th>83</th>\n",
       "      <td>12::328::335</td>\n",
       "      <td>mestinon</td>\n",
       "      <td>DrugChem</td>\n",
       "      <td>0.4385</td>\n",
       "      <td>[(2099309, moxetumomab pasudotox-tdfk 1 MG Injection), (886677, Clidinium bromide 2.5 MG Oral Capsule), (415693, Heparinoids 0.1 UNT/MG Topical Gel), (204558, Peptide Hydrolases 82 UNT/MG Topical Ointment), (1659998, ANTI-INHIBITOR COAGULANT COMP...</td>\n",
       "    </tr>\n",
       "    <tr>\n",
       "      <th>84</th>\n",
       "      <td>12::372::379</td>\n",
       "      <td>mestinon</td>\n",
       "      <td>DrugChem</td>\n",
       "      <td>0.4385</td>\n",
       "      <td>[(2099309, moxetumomab pasudotox-tdfk 1 MG Injection), (886677, Clidinium bromide 2.5 MG Oral Capsule), (415693, Heparinoids 0.1 UNT/MG Topical Gel), (204558, Peptide Hydrolases 82 UNT/MG Topical Ointment), (1659998, ANTI-INHIBITOR COAGULANT COMP...</td>\n",
       "    </tr>\n",
       "    <tr>\n",
       "      <th>92</th>\n",
       "      <td>15::73::82</td>\n",
       "      <td>creatinine</td>\n",
       "      <td>DrugChem</td>\n",
       "      <td>0.9996</td>\n",
       "      <td>[(849628, Creatinine 800 MG Oral Capsule), (252180, Urea 10 MG/ML Topical Lotion), (424168, Urea 30 MG/ML Topical Lotion), (251705, Urea 20 MG/ML Topical Lotion), (245052, Urea 200 MG/ML Oral Solution)]</td>\n",
       "    </tr>\n",
       "  </tbody>\n",
       "</table>\n",
       "</div>"
      ]
     },
     "metadata": {
      "application/vnd.databricks.v1+output": {
       "addedWidgets": {},
       "arguments": {},
       "data": "<div>\n<style scoped>\n    .dataframe tbody tr th:only-of-type {\n        vertical-align: middle;\n    }\n\n    .dataframe tbody tr th {\n        vertical-align: top;\n    }\n\n    .dataframe thead th {\n        text-align: right;\n    }\n</style>\n<table border=\"1\" class=\"dataframe\">\n  <thead>\n    <tr style=\"text-align: right;\">\n      <th></th>\n      <th>coords</th>\n      <th>chunk</th>\n      <th>entity</th>\n      <th>rxnorm_conf</th>\n      <th>rxnorm_opts</th>\n    </tr>\n  </thead>\n  <tbody>\n    <tr>\n      <th>0</th>\n      <td>0::0::10</td>\n      <td>pentamidine</td>\n      <td>DrugChem</td>\n      <td>0.5925</td>\n      <td>[(861601, Pentamidine Isethionate 300 MG Injection), (861597, Pentamidine Isethionate 50 MG/ML Inhalation Solution), (755627, Chloroquine 5 MG/ML Oral Solution), (855624, Dibromopropamidine isethionate 1 MG/ML Ophthalmic Solution), (1119497, chlo...</td>\n    </tr>\n    <tr>\n      <th>1</th>\n      <td>0::37::47</td>\n      <td>pentamidine</td>\n      <td>DrugChem</td>\n      <td>0.5925</td>\n      <td>[(861601, Pentamidine Isethionate 300 MG Injection), (861597, Pentamidine Isethionate 50 MG/ML Inhalation Solution), (755627, Chloroquine 5 MG/ML Oral Solution), (855624, Dibromopropamidine isethionate 1 MG/ML Ophthalmic Solution), (1119497, chlo...</td>\n    </tr>\n    <tr>\n      <th>55</th>\n      <td>3::278::287</td>\n      <td>creatinine</td>\n      <td>DrugChem</td>\n      <td>0.9996</td>\n      <td>[(849628, Creatinine 800 MG Oral Capsule), (252180, Urea 10 MG/ML Topical Lotion), (424168, Urea 30 MG/ML Topical Lotion), (251705, Urea 20 MG/ML Topical Lotion), (245052, Urea 200 MG/ML Oral Solution)]</td>\n    </tr>\n    <tr>\n      <th>58</th>\n      <td>7::83::93</td>\n      <td>cholesterol</td>\n      <td>DrugChem</td>\n      <td>0.5609</td>\n      <td>[(2104173, beta Sitosterol 35 MG Oral Tablet), (832876, phytosterol esters 500 MG Oral Capsule), (637208, phytosterol esters 650 MG Oral Capsule), (411217, Lecithin 228 MG Oral Capsule), (1737442, amphotericin B lipid complex 5 MG/ML Injection)]</td>\n    </tr>\n    <tr>\n      <th>59</th>\n      <td>10::397::406</td>\n      <td>creatinine</td>\n      <td>DrugChem</td>\n      <td>0.9996</td>\n      <td>[(849628, Creatinine 800 MG Oral Capsule), (252180, Urea 10 MG/ML Topical Lotion), (424168, Urea 30 MG/ML Topical Lotion), (251705, Urea 20 MG/ML Topical Lotion), (245052, Urea 200 MG/ML Oral Solution)]</td>\n    </tr>\n    <tr>\n      <th>83</th>\n      <td>12::328::335</td>\n      <td>mestinon</td>\n      <td>DrugChem</td>\n      <td>0.4385</td>\n      <td>[(2099309, moxetumomab pasudotox-tdfk 1 MG Injection), (886677, Clidinium bromide 2.5 MG Oral Capsule), (415693, Heparinoids 0.1 UNT/MG Topical Gel), (204558, Peptide Hydrolases 82 UNT/MG Topical Ointment), (1659998, ANTI-INHIBITOR COAGULANT COMP...</td>\n    </tr>\n    <tr>\n      <th>84</th>\n      <td>12::372::379</td>\n      <td>mestinon</td>\n      <td>DrugChem</td>\n      <td>0.4385</td>\n      <td>[(2099309, moxetumomab pasudotox-tdfk 1 MG Injection), (886677, Clidinium bromide 2.5 MG Oral Capsule), (415693, Heparinoids 0.1 UNT/MG Topical Gel), (204558, Peptide Hydrolases 82 UNT/MG Topical Ointment), (1659998, ANTI-INHIBITOR COAGULANT COMP...</td>\n    </tr>\n    <tr>\n      <th>92</th>\n      <td>15::73::82</td>\n      <td>creatinine</td>\n      <td>DrugChem</td>\n      <td>0.9996</td>\n      <td>[(849628, Creatinine 800 MG Oral Capsule), (252180, Urea 10 MG/ML Topical Lotion), (424168, Urea 30 MG/ML Topical Lotion), (251705, Urea 20 MG/ML Topical Lotion), (245052, Urea 200 MG/ML Oral Solution)]</td>\n    </tr>\n  </tbody>\n</table>\n</div>",
       "datasetInfos": [],
       "removedWidgets": [],
       "textData": null,
       "type": "htmlSandbox"
      }
     },
     "output_type": "display_data"
    }
   ],
   "source": [
    "rxnorm_analysis[rxnorm_analysis.rxnorm_conf>0.4].head(20)"
   ]
  },
  {
   "cell_type": "markdown",
   "metadata": {
    "application/vnd.databricks.v1+cell": {
     "inputWidgets": {},
     "nuid": "5e741d5c-5a4f-4e5b-9c0f-a055f02a9e0e",
     "showTitle": false,
     "title": ""
    }
   },
   "source": [
    "# SentenceEntityResolver (sbiobert) Models"
   ]
  },
  {
   "cell_type": "markdown",
   "metadata": {
    "application/vnd.databricks.v1+cell": {
     "inputWidgets": {},
     "nuid": "ef9d6989-ce08-43eb-ba88-912e0eb22302",
     "showTitle": false,
     "title": ""
    }
   },
   "source": [
    "- sbiobertresolve_icd10cm \n",
    "- sbiobertresolve_icd10cm_augmented\n",
    "- sbiobertresolve_icd10pcs\n",
    "- sbiobertresolve_snomed_findings (with clinical_findings concepts from CT version)\n",
    "- sbiobertresolve_snomed_findings_int  (with clinical_findings concepts from INT version)\n",
    "- sbiobertresolve_snomed_auxConcepts (with Morph Abnormality, Procedure, Substance, Physical Object, Body Structure concepts from CT version)\n",
    "- sbiobertresolve_snomed_auxConcepts_int  (with Morph Abnormality, Procedure, Substance, Physical Object, Body Structure concepts from INT version)\n",
    "- sbiobertresolve_rxnorm\n",
    "- sbiobertresolve_rxcui\n",
    "- sbiobertresolve_icdo\n",
    "- sbiobertresolve_cpt\n",
    "- sbiobertresolve_cpt_augmented"
   ]
  },
  {
   "cell_type": "markdown",
   "metadata": {
    "application/vnd.databricks.v1+cell": {
     "inputWidgets": {},
     "nuid": "06b7cc58-bc7a-4b27-b0c6-23b5ad9de43f",
     "showTitle": false,
     "title": ""
    }
   },
   "source": [
    "**!!! Warning**: ***If you get an error related to Java port not found 55, it is probably because that the Colab memory cannot handle the model and the Spark session died. In that case, try on a larger machine or restart the kernel at the top and then come back here and rerun. ***"
   ]
  },
  {
   "cell_type": "markdown",
   "metadata": {
    "application/vnd.databricks.v1+cell": {
     "inputWidgets": {},
     "nuid": "46b92dd7-0e8d-4fcf-9af5-233782b3e136",
     "showTitle": false,
     "title": ""
    }
   },
   "source": [
    "## Sentence Entity Resolver - CPT"
   ]
  },
  {
   "cell_type": "code",
   "execution_count": 0,
   "metadata": {
    "application/vnd.databricks.v1+cell": {
     "inputWidgets": {},
     "nuid": "6fd8d567-6be8-4ef4-8c96-1ceaf45c4a35",
     "showTitle": false,
     "title": ""
    }
   },
   "outputs": [
    {
     "data": {
      "text/html": [
       "<style scoped>\n",
       "  .ansiout {\n",
       "    display: block;\n",
       "    unicode-bidi: embed;\n",
       "    white-space: pre-wrap;\n",
       "    word-wrap: break-word;\n",
       "    word-break: break-all;\n",
       "    font-family: \"Source Code Pro\", \"Menlo\", monospace;;\n",
       "    font-size: 13px;\n",
       "    color: #555;\n",
       "    margin-left: 4px;\n",
       "    line-height: 19px;\n",
       "  }\n",
       "</style>\n",
       "<div class=\"ansiout\">sbiobert_base_cased_mli download started this may take some time.\n",
       "Approximate size to download 384.3 MB\n",
       "\r",
       "[ | ]\r",
       "[OK!]\n",
       "sbiobertresolve_cpt_augmented download started this may take some time.\n",
       "Approximate size to download 139.1 MB\n",
       "\r",
       "[ | ]\r",
       "[OK!]\n",
       "</div>"
      ]
     },
     "metadata": {
      "application/vnd.databricks.v1+output": {
       "addedWidgets": {},
       "arguments": {},
       "data": "<div class=\"ansiout\">sbiobert_base_cased_mli download started this may take some time.\nApproximate size to download 384.3 MB\n\r[ | ]\r[OK!]\nsbiobertresolve_cpt_augmented download started this may take some time.\nApproximate size to download 139.1 MB\n\r[ | ]\r[OK!]\n</div>",
       "datasetInfos": [],
       "removedWidgets": [],
       "type": "html"
      }
     },
     "output_type": "display_data"
    }
   ],
   "source": [
    "tokenizer = Tokenizer()\\\n",
    "      .setInputCols([\"sentence\"])\\\n",
    "      .setOutputCol(\"token\")\\\n",
    "\n",
    "ner_converter_cpt = NerConverterInternal() \\\n",
    "      .setInputCols([\"sentence\", \"token\", \"ner\"]) \\\n",
    "      .setOutputCol(\"ner_chunk\")\\\n",
    "      .setWhiteList(['TREATMENT','TEST'])\\\n",
    "      .setPreservePosition(False)\n",
    "\n",
    "c2doc = Chunk2Doc()\\\n",
    "      .setInputCols(\"ner_chunk\")\\\n",
    "      .setOutputCol(\"ner_chunk_doc\") \n",
    "\n",
    "sbert_embedder = BertSentenceEmbeddings\\\n",
    "      .pretrained(\"sbiobert_base_cased_mli\",'en','clinical/models')\\\n",
    "      .setInputCols([\"ner_chunk_doc\"])\\\n",
    "      .setOutputCol(\"sbert_embeddings\")\n",
    "\n",
    "cpt_resolver = SentenceEntityResolverModel.pretrained(\"sbiobertresolve_cpt_augmented\",\"en\", \"clinical/models\") \\\n",
    "      .setInputCols([\"ner_chunk\", \"sbert_embeddings\"]) \\\n",
    "      .setOutputCol(\"sbert_cpt_code\")\\\n",
    "      .setDistanceFunction(\"EUCLIDEAN\")\n",
    "  \n",
    "sbert_resolver_pipeline = Pipeline(\n",
    "    stages = [\n",
    "        documentAssembler,\n",
    "        sentenceDetectorDL,\n",
    "        tokenizer,\n",
    "        word_embeddings,\n",
    "        clinical_ner,\n",
    "        ner_converter_cpt,\n",
    "        c2doc,\n",
    "        sbert_embedder,\n",
    "        cpt_resolver])\n",
    "\n",
    "\n",
    "data_ner = spark.createDataFrame([['sample text']]).toDF(\"text\")\n",
    "\n",
    "sbert_models = sbert_resolver_pipeline.fit(data_ner)"
   ]
  },
  {
   "cell_type": "code",
   "execution_count": 0,
   "metadata": {
    "application/vnd.databricks.v1+cell": {
     "inputWidgets": {},
     "nuid": "ca483ba6-f258-49dd-bb51-c53af1774b95",
     "showTitle": false,
     "title": ""
    }
   },
   "outputs": [
    {
     "data": {
      "text/html": [
       "<style scoped>\n",
       "  .ansiout {\n",
       "    display: block;\n",
       "    unicode-bidi: embed;\n",
       "    white-space: pre-wrap;\n",
       "    word-wrap: break-word;\n",
       "    word-break: break-all;\n",
       "    font-family: \"Source Code Pro\", \"Menlo\", monospace;;\n",
       "    font-size: 13px;\n",
       "    color: #555;\n",
       "    margin-left: 4px;\n",
       "    line-height: 19px;\n",
       "  }\n",
       "</style>\n",
       "<div class=\"ansiout\"></div>"
      ]
     },
     "metadata": {
      "application/vnd.databricks.v1+output": {
       "addedWidgets": {},
       "arguments": {},
       "data": "<div class=\"ansiout\"></div>",
       "datasetInfos": [],
       "removedWidgets": [],
       "type": "html"
      }
     },
     "output_type": "display_data"
    }
   ],
   "source": [
    "sbert_light_pipeline_cpt = LightPipeline(sbert_models)"
   ]
  },
  {
   "cell_type": "code",
   "execution_count": 0,
   "metadata": {
    "application/vnd.databricks.v1+cell": {
     "inputWidgets": {},
     "nuid": "ad7e6c4e-6f2f-4662-9d08-a5cde229e411",
     "showTitle": false,
     "title": ""
    }
   },
   "outputs": [
    {
     "data": {
      "text/html": [
       "<style scoped>\n",
       "  .ansiout {\n",
       "    display: block;\n",
       "    unicode-bidi: embed;\n",
       "    white-space: pre-wrap;\n",
       "    word-wrap: break-word;\n",
       "    word-break: break-all;\n",
       "    font-family: \"Source Code Pro\", \"Menlo\", monospace;;\n",
       "    font-size: 13px;\n",
       "    color: #555;\n",
       "    margin-left: 4px;\n",
       "    line-height: 19px;\n",
       "  }\n",
       "</style>\n",
       "<div class=\"ansiout\">Out[102]: dict_keys([&#39;document&#39;, &#39;ner_chunk&#39;, &#39;sbert_cpt_code&#39;, &#39;token&#39;, &#39;sbert_embeddings&#39;, &#39;ner&#39;, &#39;embeddings&#39;, &#39;ner_chunk_doc&#39;, &#39;sentence&#39;])</div>"
      ]
     },
     "metadata": {
      "application/vnd.databricks.v1+output": {
       "addedWidgets": {},
       "arguments": {},
       "data": "<div class=\"ansiout\">Out[102]: dict_keys([&#39;document&#39;, &#39;ner_chunk&#39;, &#39;sbert_cpt_code&#39;, &#39;token&#39;, &#39;sbert_embeddings&#39;, &#39;ner&#39;, &#39;embeddings&#39;, &#39;ner_chunk_doc&#39;, &#39;sentence&#39;])</div>",
       "datasetInfos": [],
       "removedWidgets": [],
       "type": "html"
      }
     },
     "output_type": "display_data"
    }
   ],
   "source": [
    "text = 'A 28-year-old female with a history of gestational diabetes mellitus diagnosed eight years prior to presentation and subsequent type two diabetes mellitus (T2DM), one prior episode of HTG-induced pancreatitis three years prior to presentation, associated with an acute hepatitis, and obesity with a body mass index (BMI) of 33.5 kg/m2, presented with a one-week history of polyuria, polydipsia, poor appetite, and vomiting. Two weeks prior to presentation, she was treated with a five-day course of amoxicillin for a respiratory tract infection. She was on metformin, glipizide, and dapagliflozin for T2DM and atorvastatin and gemfibrozil for HTG. She had been on dapagliflozin for six months at the time of presentation. Physical examination on presentation was significant for dry oral mucosa; significantly, her abdominal examination was benign with no tenderness, guarding, or rigidity. Pertinent laboratory findings on admission were: serum glucose 111 mg/dl, bicarbonate 18 mmol/l, anion gap 20, creatinine 0.4 mg/dL, triglycerides 508 mg/dL, total cholesterol 122 mg/dL, glycated hemoglobin (HbA1c) 10%, and venous pH 7.27. Serum lipase was normal at 43 U/L. Serum acetone levels could not be assessed as blood samples kept hemolyzing due to significant lipemia. The patient was initially admitted for starvation ketosis, as she reported poor oral intake for three days prior to admission. However, serum chemistry obtained six hours after presentation revealed her glucose was 186 mg/dL, the anion gap was still elevated at 21, serum bicarbonate was 16 mmol/L, triglyceride level peaked at 2050 mg/dL, and lipase was 52 U/L. The β-hydroxybutyrate level was obtained and found to be elevated at 5.29 mmol/L - the original sample was centrifuged and the chylomicron layer removed prior to analysis due to interference from turbidity caused by lipemia again. The patient was treated with an insulin drip for euDKA and HTG with a reduction in the anion gap to 13 and triglycerides to 1400 mg/dL, within 24 hours. Her euDKA was thought to be precipitated by her respiratory tract infection in the setting of SGLT2 inhibitor use. The patient was seen by the endocrinology service and she was discharged on 40 units of insulin glargine at night, 12 units of insulin lispro with meals, and metformin 1000 mg two times a day. It was determined that all SGLT2 inhibitors should be discontinued indefinitely. She had close follow-up with endocrinology post discharge.'\n",
    "\n",
    "light_result = sbert_light_pipeline_cpt.annotate(text)\n",
    "\n",
    "light_result.keys()"
   ]
  },
  {
   "cell_type": "code",
   "execution_count": 0,
   "metadata": {
    "application/vnd.databricks.v1+cell": {
     "inputWidgets": {},
     "nuid": "6d85bd87-e764-46d5-8141-fe5212c58bcc",
     "showTitle": false,
     "title": ""
    }
   },
   "outputs": [
    {
     "data": {
      "text/html": [
       "<style scoped>\n",
       "  .ansiout {\n",
       "    display: block;\n",
       "    unicode-bidi: embed;\n",
       "    white-space: pre-wrap;\n",
       "    word-wrap: break-word;\n",
       "    word-break: break-all;\n",
       "    font-family: \"Source Code Pro\", \"Menlo\", monospace;;\n",
       "    font-size: 13px;\n",
       "    color: #555;\n",
       "    margin-left: 4px;\n",
       "    line-height: 19px;\n",
       "  }\n",
       "</style>\n",
       "<div class=\"ansiout\">Out[104]: [&#39;3008F&#39;,\n",
       " &#39;80150&#39;,\n",
       " &#39;83858&#39;,\n",
       " &#39;82980&#39;,\n",
       " &#39;1022259&#39;,\n",
       " &#39;4145F&#39;,\n",
       " &#39;80145&#39;,\n",
       " &#39;1022259&#39;,\n",
       " &#39;1014526&#39;,\n",
       " &#39;76700&#39;,\n",
       " &#39;1011445&#39;,\n",
       " &#39;82374&#39;,\n",
       " &#39;86039&#39;,\n",
       " &#39;1011373&#39;,\n",
       " &#39;84478&#39;,\n",
       " &#39;82465&#39;,\n",
       " &#39;83037&#39;,\n",
       " &#39;83037&#39;,\n",
       " &#39;82800&#39;,\n",
       " &#39;83690&#39;,\n",
       " &#39;83002&#39;,\n",
       " &#39;82145&#39;,\n",
       " &#39;38204&#39;,\n",
       " &#39;86975&#39;,\n",
       " &#39;1011445&#39;,\n",
       " &#39;86039&#39;,\n",
       " &#39;82374&#39;,\n",
       " &#39;84478&#39;,\n",
       " &#39;83690&#39;,\n",
       " &#39;83002&#39;,\n",
       " &#39;82953&#39;,\n",
       " &#39;85347&#39;,\n",
       " &#39;86337&#39;,\n",
       " &#39;62117&#39;,\n",
       " &#39;86039&#39;,\n",
       " &#39;84478&#39;,\n",
       " &#39;64823&#39;,\n",
       " &#39;80435&#39;,\n",
       " &#39;1011517&#39;,\n",
       " &#39;83858&#39;,\n",
       " &#39;83080&#39;]</div>"
      ]
     },
     "metadata": {
      "application/vnd.databricks.v1+output": {
       "addedWidgets": {},
       "arguments": {},
       "data": "<div class=\"ansiout\">Out[104]: [&#39;3008F&#39;,\n &#39;80150&#39;,\n &#39;83858&#39;,\n &#39;82980&#39;,\n &#39;1022259&#39;,\n &#39;4145F&#39;,\n &#39;80145&#39;,\n &#39;1022259&#39;,\n &#39;1014526&#39;,\n &#39;76700&#39;,\n &#39;1011445&#39;,\n &#39;82374&#39;,\n &#39;86039&#39;,\n &#39;1011373&#39;,\n &#39;84478&#39;,\n &#39;82465&#39;,\n &#39;83037&#39;,\n &#39;83037&#39;,\n &#39;82800&#39;,\n &#39;83690&#39;,\n &#39;83002&#39;,\n &#39;82145&#39;,\n &#39;38204&#39;,\n &#39;86975&#39;,\n &#39;1011445&#39;,\n &#39;86039&#39;,\n &#39;82374&#39;,\n &#39;84478&#39;,\n &#39;83690&#39;,\n &#39;83002&#39;,\n &#39;82953&#39;,\n &#39;85347&#39;,\n &#39;86337&#39;,\n &#39;62117&#39;,\n &#39;86039&#39;,\n &#39;84478&#39;,\n &#39;64823&#39;,\n &#39;80435&#39;,\n &#39;1011517&#39;,\n &#39;83858&#39;,\n &#39;83080&#39;]</div>",
       "datasetInfos": [],
       "removedWidgets": [],
       "type": "html"
      }
     },
     "output_type": "display_data"
    }
   ],
   "source": [
    "light_result['sbert_cpt_code']"
   ]
  },
  {
   "cell_type": "code",
   "execution_count": 0,
   "metadata": {
    "application/vnd.databricks.v1+cell": {
     "inputWidgets": {},
     "nuid": "80316f6a-fafb-42f8-a285-01255c58a491",
     "showTitle": false,
     "title": ""
    }
   },
   "outputs": [
    {
     "data": {
      "text/html": [
       "<style scoped>\n",
       "  .ansiout {\n",
       "    display: block;\n",
       "    unicode-bidi: embed;\n",
       "    white-space: pre-wrap;\n",
       "    word-wrap: break-word;\n",
       "    word-break: break-all;\n",
       "    font-family: \"Source Code Pro\", \"Menlo\", monospace;;\n",
       "    font-size: 13px;\n",
       "    color: #555;\n",
       "    margin-left: 4px;\n",
       "    line-height: 19px;\n",
       "  }\n",
       "</style>\n",
       "<div class=\"ansiout\">Out[105]: </div>"
      ]
     },
     "metadata": {
      "application/vnd.databricks.v1+output": {
       "addedWidgets": {},
       "arguments": {},
       "data": "<div class=\"ansiout\">Out[105]: </div>",
       "datasetInfos": [],
       "removedWidgets": [],
       "type": "html"
      }
     },
     "output_type": "display_data"
    },
    {
     "data": {
      "text/html": [
       "<div>\n",
       "<style scoped>\n",
       "    .dataframe tbody tr th:only-of-type {\n",
       "        vertical-align: middle;\n",
       "    }\n",
       "\n",
       "    .dataframe tbody tr th {\n",
       "        vertical-align: top;\n",
       "    }\n",
       "\n",
       "    .dataframe thead th {\n",
       "        text-align: right;\n",
       "    }\n",
       "</style>\n",
       "<table border=\"1\" class=\"dataframe\">\n",
       "  <thead>\n",
       "    <tr style=\"text-align: right;\">\n",
       "      <th></th>\n",
       "      <th>Problem</th>\n",
       "      <th>cpt_code</th>\n",
       "    </tr>\n",
       "  </thead>\n",
       "  <tbody>\n",
       "    <tr>\n",
       "      <th>0</th>\n",
       "      <td>BMI</td>\n",
       "      <td>3008F</td>\n",
       "    </tr>\n",
       "    <tr>\n",
       "      <th>1</th>\n",
       "      <td>amoxicillin</td>\n",
       "      <td>80150</td>\n",
       "    </tr>\n",
       "    <tr>\n",
       "      <th>2</th>\n",
       "      <td>metformin</td>\n",
       "      <td>83858</td>\n",
       "    </tr>\n",
       "    <tr>\n",
       "      <th>3</th>\n",
       "      <td>glipizide</td>\n",
       "      <td>82980</td>\n",
       "    </tr>\n",
       "    <tr>\n",
       "      <th>4</th>\n",
       "      <td>dapagliflozin</td>\n",
       "      <td>1022259</td>\n",
       "    </tr>\n",
       "    <tr>\n",
       "      <th>5</th>\n",
       "      <td>atorvastatin</td>\n",
       "      <td>4145F</td>\n",
       "    </tr>\n",
       "    <tr>\n",
       "      <th>6</th>\n",
       "      <td>gemfibrozil</td>\n",
       "      <td>80145</td>\n",
       "    </tr>\n",
       "    <tr>\n",
       "      <th>7</th>\n",
       "      <td>dapagliflozin</td>\n",
       "      <td>1022259</td>\n",
       "    </tr>\n",
       "    <tr>\n",
       "      <th>8</th>\n",
       "      <td>Physical examination</td>\n",
       "      <td>1014526</td>\n",
       "    </tr>\n",
       "    <tr>\n",
       "      <th>9</th>\n",
       "      <td>her abdominal examination</td>\n",
       "      <td>76700</td>\n",
       "    </tr>\n",
       "    <tr>\n",
       "      <th>10</th>\n",
       "      <td>serum glucose</td>\n",
       "      <td>1011445</td>\n",
       "    </tr>\n",
       "    <tr>\n",
       "      <th>11</th>\n",
       "      <td>bicarbonate</td>\n",
       "      <td>82374</td>\n",
       "    </tr>\n",
       "    <tr>\n",
       "      <th>12</th>\n",
       "      <td>anion gap</td>\n",
       "      <td>86039</td>\n",
       "    </tr>\n",
       "    <tr>\n",
       "      <th>13</th>\n",
       "      <td>creatinine</td>\n",
       "      <td>1011373</td>\n",
       "    </tr>\n",
       "    <tr>\n",
       "      <th>14</th>\n",
       "      <td>triglycerides</td>\n",
       "      <td>84478</td>\n",
       "    </tr>\n",
       "    <tr>\n",
       "      <th>15</th>\n",
       "      <td>total cholesterol</td>\n",
       "      <td>82465</td>\n",
       "    </tr>\n",
       "    <tr>\n",
       "      <th>16</th>\n",
       "      <td>glycated hemoglobin</td>\n",
       "      <td>83037</td>\n",
       "    </tr>\n",
       "    <tr>\n",
       "      <th>17</th>\n",
       "      <td>HbA1c</td>\n",
       "      <td>83037</td>\n",
       "    </tr>\n",
       "    <tr>\n",
       "      <th>18</th>\n",
       "      <td>venous pH</td>\n",
       "      <td>82800</td>\n",
       "    </tr>\n",
       "    <tr>\n",
       "      <th>19</th>\n",
       "      <td>Serum lipase</td>\n",
       "      <td>83690</td>\n",
       "    </tr>\n",
       "    <tr>\n",
       "      <th>20</th>\n",
       "      <td>U/L</td>\n",
       "      <td>83002</td>\n",
       "    </tr>\n",
       "    <tr>\n",
       "      <th>21</th>\n",
       "      <td>Serum acetone levels</td>\n",
       "      <td>82145</td>\n",
       "    </tr>\n",
       "    <tr>\n",
       "      <th>22</th>\n",
       "      <td>blood samples</td>\n",
       "      <td>38204</td>\n",
       "    </tr>\n",
       "    <tr>\n",
       "      <th>23</th>\n",
       "      <td>serum chemistry</td>\n",
       "      <td>86975</td>\n",
       "    </tr>\n",
       "    <tr>\n",
       "      <th>24</th>\n",
       "      <td>her glucose</td>\n",
       "      <td>1011445</td>\n",
       "    </tr>\n",
       "    <tr>\n",
       "      <th>25</th>\n",
       "      <td>the anion gap</td>\n",
       "      <td>86039</td>\n",
       "    </tr>\n",
       "    <tr>\n",
       "      <th>26</th>\n",
       "      <td>serum bicarbonate</td>\n",
       "      <td>82374</td>\n",
       "    </tr>\n",
       "    <tr>\n",
       "      <th>27</th>\n",
       "      <td>triglyceride level</td>\n",
       "      <td>84478</td>\n",
       "    </tr>\n",
       "    <tr>\n",
       "      <th>28</th>\n",
       "      <td>lipase</td>\n",
       "      <td>83690</td>\n",
       "    </tr>\n",
       "    <tr>\n",
       "      <th>29</th>\n",
       "      <td>U/L</td>\n",
       "      <td>83002</td>\n",
       "    </tr>\n",
       "    <tr>\n",
       "      <th>30</th>\n",
       "      <td>The β-hydroxybutyrate level</td>\n",
       "      <td>82953</td>\n",
       "    </tr>\n",
       "    <tr>\n",
       "      <th>31</th>\n",
       "      <td>analysis</td>\n",
       "      <td>85347</td>\n",
       "    </tr>\n",
       "    <tr>\n",
       "      <th>32</th>\n",
       "      <td>an insulin drip</td>\n",
       "      <td>86337</td>\n",
       "    </tr>\n",
       "    <tr>\n",
       "      <th>33</th>\n",
       "      <td>a reduction</td>\n",
       "      <td>62117</td>\n",
       "    </tr>\n",
       "    <tr>\n",
       "      <th>34</th>\n",
       "      <td>the anion gap</td>\n",
       "      <td>86039</td>\n",
       "    </tr>\n",
       "    <tr>\n",
       "      <th>35</th>\n",
       "      <td>triglycerides</td>\n",
       "      <td>84478</td>\n",
       "    </tr>\n",
       "    <tr>\n",
       "      <th>36</th>\n",
       "      <td>SGLT2 inhibitor</td>\n",
       "      <td>64823</td>\n",
       "    </tr>\n",
       "    <tr>\n",
       "      <th>37</th>\n",
       "      <td>insulin glargine</td>\n",
       "      <td>80435</td>\n",
       "    </tr>\n",
       "    <tr>\n",
       "      <th>38</th>\n",
       "      <td>insulin lispro</td>\n",
       "      <td>1011517</td>\n",
       "    </tr>\n",
       "    <tr>\n",
       "      <th>39</th>\n",
       "      <td>metformin</td>\n",
       "      <td>83858</td>\n",
       "    </tr>\n",
       "    <tr>\n",
       "      <th>40</th>\n",
       "      <td>all SGLT2 inhibitors</td>\n",
       "      <td>83080</td>\n",
       "    </tr>\n",
       "  </tbody>\n",
       "</table>\n",
       "</div>"
      ]
     },
     "metadata": {
      "application/vnd.databricks.v1+output": {
       "addedWidgets": {},
       "arguments": {},
       "data": "<div>\n<style scoped>\n    .dataframe tbody tr th:only-of-type {\n        vertical-align: middle;\n    }\n\n    .dataframe tbody tr th {\n        vertical-align: top;\n    }\n\n    .dataframe thead th {\n        text-align: right;\n    }\n</style>\n<table border=\"1\" class=\"dataframe\">\n  <thead>\n    <tr style=\"text-align: right;\">\n      <th></th>\n      <th>Problem</th>\n      <th>cpt_code</th>\n    </tr>\n  </thead>\n  <tbody>\n    <tr>\n      <th>0</th>\n      <td>BMI</td>\n      <td>3008F</td>\n    </tr>\n    <tr>\n      <th>1</th>\n      <td>amoxicillin</td>\n      <td>80150</td>\n    </tr>\n    <tr>\n      <th>2</th>\n      <td>metformin</td>\n      <td>83858</td>\n    </tr>\n    <tr>\n      <th>3</th>\n      <td>glipizide</td>\n      <td>82980</td>\n    </tr>\n    <tr>\n      <th>4</th>\n      <td>dapagliflozin</td>\n      <td>1022259</td>\n    </tr>\n    <tr>\n      <th>5</th>\n      <td>atorvastatin</td>\n      <td>4145F</td>\n    </tr>\n    <tr>\n      <th>6</th>\n      <td>gemfibrozil</td>\n      <td>80145</td>\n    </tr>\n    <tr>\n      <th>7</th>\n      <td>dapagliflozin</td>\n      <td>1022259</td>\n    </tr>\n    <tr>\n      <th>8</th>\n      <td>Physical examination</td>\n      <td>1014526</td>\n    </tr>\n    <tr>\n      <th>9</th>\n      <td>her abdominal examination</td>\n      <td>76700</td>\n    </tr>\n    <tr>\n      <th>10</th>\n      <td>serum glucose</td>\n      <td>1011445</td>\n    </tr>\n    <tr>\n      <th>11</th>\n      <td>bicarbonate</td>\n      <td>82374</td>\n    </tr>\n    <tr>\n      <th>12</th>\n      <td>anion gap</td>\n      <td>86039</td>\n    </tr>\n    <tr>\n      <th>13</th>\n      <td>creatinine</td>\n      <td>1011373</td>\n    </tr>\n    <tr>\n      <th>14</th>\n      <td>triglycerides</td>\n      <td>84478</td>\n    </tr>\n    <tr>\n      <th>15</th>\n      <td>total cholesterol</td>\n      <td>82465</td>\n    </tr>\n    <tr>\n      <th>16</th>\n      <td>glycated hemoglobin</td>\n      <td>83037</td>\n    </tr>\n    <tr>\n      <th>17</th>\n      <td>HbA1c</td>\n      <td>83037</td>\n    </tr>\n    <tr>\n      <th>18</th>\n      <td>venous pH</td>\n      <td>82800</td>\n    </tr>\n    <tr>\n      <th>19</th>\n      <td>Serum lipase</td>\n      <td>83690</td>\n    </tr>\n    <tr>\n      <th>20</th>\n      <td>U/L</td>\n      <td>83002</td>\n    </tr>\n    <tr>\n      <th>21</th>\n      <td>Serum acetone levels</td>\n      <td>82145</td>\n    </tr>\n    <tr>\n      <th>22</th>\n      <td>blood samples</td>\n      <td>38204</td>\n    </tr>\n    <tr>\n      <th>23</th>\n      <td>serum chemistry</td>\n      <td>86975</td>\n    </tr>\n    <tr>\n      <th>24</th>\n      <td>her glucose</td>\n      <td>1011445</td>\n    </tr>\n    <tr>\n      <th>25</th>\n      <td>the anion gap</td>\n      <td>86039</td>\n    </tr>\n    <tr>\n      <th>26</th>\n      <td>serum bicarbonate</td>\n      <td>82374</td>\n    </tr>\n    <tr>\n      <th>27</th>\n      <td>triglyceride level</td>\n      <td>84478</td>\n    </tr>\n    <tr>\n      <th>28</th>\n      <td>lipase</td>\n      <td>83690</td>\n    </tr>\n    <tr>\n      <th>29</th>\n      <td>U/L</td>\n      <td>83002</td>\n    </tr>\n    <tr>\n      <th>30</th>\n      <td>The β-hydroxybutyrate level</td>\n      <td>82953</td>\n    </tr>\n    <tr>\n      <th>31</th>\n      <td>analysis</td>\n      <td>85347</td>\n    </tr>\n    <tr>\n      <th>32</th>\n      <td>an insulin drip</td>\n      <td>86337</td>\n    </tr>\n    <tr>\n      <th>33</th>\n      <td>a reduction</td>\n      <td>62117</td>\n    </tr>\n    <tr>\n      <th>34</th>\n      <td>the anion gap</td>\n      <td>86039</td>\n    </tr>\n    <tr>\n      <th>35</th>\n      <td>triglycerides</td>\n      <td>84478</td>\n    </tr>\n    <tr>\n      <th>36</th>\n      <td>SGLT2 inhibitor</td>\n      <td>64823</td>\n    </tr>\n    <tr>\n      <th>37</th>\n      <td>insulin glargine</td>\n      <td>80435</td>\n    </tr>\n    <tr>\n      <th>38</th>\n      <td>insulin lispro</td>\n      <td>1011517</td>\n    </tr>\n    <tr>\n      <th>39</th>\n      <td>metformin</td>\n      <td>83858</td>\n    </tr>\n    <tr>\n      <th>40</th>\n      <td>all SGLT2 inhibitors</td>\n      <td>83080</td>\n    </tr>\n  </tbody>\n</table>\n</div>",
       "datasetInfos": [],
       "removedWidgets": [],
       "textData": null,
       "type": "htmlSandbox"
      }
     },
     "output_type": "display_data"
    }
   ],
   "source": [
    "df = pd.DataFrame(list(zip(light_result['ner_chunk'], light_result['sbert_cpt_code'])),\n",
    "                  columns = ['Problem','cpt_code'])\n",
    "\n",
    "df"
   ]
  },
  {
   "cell_type": "code",
   "execution_count": 0,
   "metadata": {
    "application/vnd.databricks.v1+cell": {
     "inputWidgets": {},
     "nuid": "4b52ccf2-9e1c-43e2-a43a-f6e4f471884d",
     "showTitle": false,
     "title": ""
    }
   },
   "outputs": [
    {
     "data": {
      "text/html": [
       "<style scoped>\n",
       "  .ansiout {\n",
       "    display: block;\n",
       "    unicode-bidi: embed;\n",
       "    white-space: pre-wrap;\n",
       "    word-wrap: break-word;\n",
       "    word-break: break-all;\n",
       "    font-family: \"Source Code Pro\", \"Menlo\", monospace;;\n",
       "    font-size: 13px;\n",
       "    color: #555;\n",
       "    margin-left: 4px;\n",
       "    line-height: 19px;\n",
       "  }\n",
       "</style>\n",
       "<div class=\"ansiout\">Out[106]: </div>"
      ]
     },
     "metadata": {
      "application/vnd.databricks.v1+output": {
       "addedWidgets": {},
       "arguments": {},
       "data": "<div class=\"ansiout\">Out[106]: </div>",
       "datasetInfos": [],
       "removedWidgets": [],
       "type": "html"
      }
     },
     "output_type": "display_data"
    },
    {
     "data": {
      "text/html": [
       "<div>\n",
       "<style scoped>\n",
       "    .dataframe tbody tr th:only-of-type {\n",
       "        vertical-align: middle;\n",
       "    }\n",
       "\n",
       "    .dataframe tbody tr th {\n",
       "        vertical-align: top;\n",
       "    }\n",
       "\n",
       "    .dataframe thead th {\n",
       "        text-align: right;\n",
       "    }\n",
       "</style>\n",
       "<table border=\"1\" class=\"dataframe\">\n",
       "  <thead>\n",
       "    <tr style=\"text-align: right;\">\n",
       "      <th></th>\n",
       "      <th>chunks</th>\n",
       "      <th>begin</th>\n",
       "      <th>end</th>\n",
       "      <th>sbert_cpt_code</th>\n",
       "      <th>resolutions</th>\n",
       "    </tr>\n",
       "  </thead>\n",
       "  <tbody>\n",
       "    <tr>\n",
       "      <th>0</th>\n",
       "      <td>BMI</td>\n",
       "      <td>316</td>\n",
       "      <td>318</td>\n",
       "      <td>3008F</td>\n",
       "      <td>Body Mass Index (BMI), documented (PV):::Weight monitoring:::Weight monitoring:::Weighing:::Glob...</td>\n",
       "    </tr>\n",
       "    <tr>\n",
       "      <th>1</th>\n",
       "      <td>amoxicillin</td>\n",
       "      <td>499</td>\n",
       "      <td>509</td>\n",
       "      <td>80150</td>\n",
       "      <td>Amikacin:::Gentamicin:::Antibiotic coverage:::Antibiotic coverage:::Antibiotic coverage:::Antibi...</td>\n",
       "    </tr>\n",
       "    <tr>\n",
       "      <th>2</th>\n",
       "      <td>metformin</td>\n",
       "      <td>557</td>\n",
       "      <td>565</td>\n",
       "      <td>83858</td>\n",
       "      <td>Methsuximide:::Methadone:::Methadone:::Metabolic function test:::Metyrapone panel:::Insulin:::Fa...</td>\n",
       "    </tr>\n",
       "    <tr>\n",
       "      <th>3</th>\n",
       "      <td>glipizide</td>\n",
       "      <td>568</td>\n",
       "      <td>576</td>\n",
       "      <td>82980</td>\n",
       "      <td>Glutethimide:::Digoxin:::Glucagon:::Lamotrigine:::Carbamazepine:::Lacosamide:::Tiagabine:::Gluca...</td>\n",
       "    </tr>\n",
       "    <tr>\n",
       "      <th>4</th>\n",
       "      <td>dapagliflozin</td>\n",
       "      <td>583</td>\n",
       "      <td>595</td>\n",
       "      <td>1022259</td>\n",
       "      <td>Digoxin:::Zonisamide:::Tiagabine:::Doxepin:::Dilantin measurement:::Dilantin measurement:::Lamot...</td>\n",
       "    </tr>\n",
       "    <tr>\n",
       "      <th>5</th>\n",
       "      <td>atorvastatin</td>\n",
       "      <td>610</td>\n",
       "      <td>621</td>\n",
       "      <td>4145F</td>\n",
       "      <td>Antihypertensive therapy (procedure):::Angiotensin converting enzyme inhibitor therapy:::Angiote...</td>\n",
       "    </tr>\n",
       "    <tr>\n",
       "      <th>6</th>\n",
       "      <td>gemfibrozil</td>\n",
       "      <td>627</td>\n",
       "      <td>637</td>\n",
       "      <td>80145</td>\n",
       "      <td>Adalimumab:::Vedolizumab:::Biological response modifier therapy:::Drug therapy:::Drug therapy:::...</td>\n",
       "    </tr>\n",
       "    <tr>\n",
       "      <th>7</th>\n",
       "      <td>dapagliflozin</td>\n",
       "      <td>664</td>\n",
       "      <td>676</td>\n",
       "      <td>1022259</td>\n",
       "      <td>Digoxin:::Zonisamide:::Tiagabine:::Doxepin:::Dilantin measurement:::Dilantin measurement:::Lamot...</td>\n",
       "    </tr>\n",
       "    <tr>\n",
       "      <th>8</th>\n",
       "      <td>Physical examination</td>\n",
       "      <td>722</td>\n",
       "      <td>741</td>\n",
       "      <td>1014526</td>\n",
       "      <td>Physical Examination:::Physical assessment:::Monitors physical parameters:::Monitors physical pa...</td>\n",
       "    </tr>\n",
       "    <tr>\n",
       "      <th>9</th>\n",
       "      <td>her abdominal examination</td>\n",
       "      <td>811</td>\n",
       "      <td>835</td>\n",
       "      <td>76700</td>\n",
       "      <td>US abdominal scan:::US abdominal scan:::Endoscopy of abdomen:::Endoscopy of abdomen:::Endoscopy ...</td>\n",
       "    </tr>\n",
       "    <tr>\n",
       "      <th>10</th>\n",
       "      <td>serum glucose</td>\n",
       "      <td>940</td>\n",
       "      <td>952</td>\n",
       "      <td>1011445</td>\n",
       "      <td>Glucose:::Glucometer blood glucose:::Glucagon level:::Glucose measurement, post glucose dose:::G...</td>\n",
       "    </tr>\n",
       "    <tr>\n",
       "      <th>11</th>\n",
       "      <td>bicarbonate</td>\n",
       "      <td>965</td>\n",
       "      <td>975</td>\n",
       "      <td>82374</td>\n",
       "      <td>Carbon dioxide (bicarbonate):::Bilirubin:::Fluid sample chloride:::Chloride:::Citrate:::Osmolali...</td>\n",
       "    </tr>\n",
       "    <tr>\n",
       "      <th>12</th>\n",
       "      <td>anion gap</td>\n",
       "      <td>988</td>\n",
       "      <td>996</td>\n",
       "      <td>86039</td>\n",
       "      <td>ANA measurement:::ANA measurement:::Overlapping:::Incision:::Incision:::Incision:::Abrasion:::Ab...</td>\n",
       "    </tr>\n",
       "    <tr>\n",
       "      <th>13</th>\n",
       "      <td>creatinine</td>\n",
       "      <td>1002</td>\n",
       "      <td>1011</td>\n",
       "      <td>1011373</td>\n",
       "      <td>Creatinine:::Creatinine; clearance:::Creatinine; blood:::Creatine measurement:::Creatine measure...</td>\n",
       "    </tr>\n",
       "    <tr>\n",
       "      <th>14</th>\n",
       "      <td>triglycerides</td>\n",
       "      <td>1024</td>\n",
       "      <td>1036</td>\n",
       "      <td>84478</td>\n",
       "      <td>Triglycerides:::Serum total cholesterol level:::VLDL cholesterol measurement:::Homocysteine:::Li...</td>\n",
       "    </tr>\n",
       "    <tr>\n",
       "      <th>15</th>\n",
       "      <td>total cholesterol</td>\n",
       "      <td>1049</td>\n",
       "      <td>1065</td>\n",
       "      <td>82465</td>\n",
       "      <td>Total cholesterol measurement:::HDL cholesterol measurement:::VLDL cholesterol measurement:::LDL...</td>\n",
       "    </tr>\n",
       "    <tr>\n",
       "      <th>16</th>\n",
       "      <td>glycated hemoglobin</td>\n",
       "      <td>1078</td>\n",
       "      <td>1096</td>\n",
       "      <td>83037</td>\n",
       "      <td>Glycated hemoglobin measurement:::Glycated hemoglobin measurement:::Glycated protein:::Glucomete...</td>\n",
       "    </tr>\n",
       "    <tr>\n",
       "      <th>17</th>\n",
       "      <td>HbA1c</td>\n",
       "      <td>1099</td>\n",
       "      <td>1103</td>\n",
       "      <td>83037</td>\n",
       "      <td>Glycated hemoglobin measurement:::Glycated hemoglobin measurement:::Hemoglobin A1c measurement::...</td>\n",
       "    </tr>\n",
       "    <tr>\n",
       "      <th>18</th>\n",
       "      <td>venous pH</td>\n",
       "      <td>1115</td>\n",
       "      <td>1123</td>\n",
       "      <td>82800</td>\n",
       "      <td>Blood venous pH level:::Determination of venous pressure:::Venous blood sampling:::Fluid sample ...</td>\n",
       "    </tr>\n",
       "    <tr>\n",
       "      <th>19</th>\n",
       "      <td>Serum lipase</td>\n",
       "      <td>1131</td>\n",
       "      <td>1142</td>\n",
       "      <td>83690</td>\n",
       "      <td>Lipase test:::Lipoprotein lipase measurement:::Lipids measurement:::Lipids measurement:::Lipopro...</td>\n",
       "    </tr>\n",
       "    <tr>\n",
       "      <th>20</th>\n",
       "      <td>U/L</td>\n",
       "      <td>1161</td>\n",
       "      <td>1163</td>\n",
       "      <td>83002</td>\n",
       "      <td>L.H. level:::Residual urea clearance:::Urine VMA level:::Osmolality; urine:::Osmolality:::LDH me...</td>\n",
       "    </tr>\n",
       "    <tr>\n",
       "      <th>21</th>\n",
       "      <td>Serum acetone levels</td>\n",
       "      <td>1166</td>\n",
       "      <td>1185</td>\n",
       "      <td>82145</td>\n",
       "      <td>Amfetamine level:::Acetaminophen measurement (procedure):::Acetaldehyde measurement (procedure):...</td>\n",
       "    </tr>\n",
       "    <tr>\n",
       "      <th>22</th>\n",
       "      <td>blood samples</td>\n",
       "      <td>1212</td>\n",
       "      <td>1224</td>\n",
       "      <td>38204</td>\n",
       "      <td>Blood unit collection:::Capillary blood sampling:::Blood count:::Blood unit processing:::Blood u...</td>\n",
       "    </tr>\n",
       "    <tr>\n",
       "      <th>23</th>\n",
       "      <td>serum chemistry</td>\n",
       "      <td>1406</td>\n",
       "      <td>1420</td>\n",
       "      <td>86975</td>\n",
       "      <td>Serum incubation method:::Serum incubation method:::Serum incubation method:::Albumin measuremen...</td>\n",
       "    </tr>\n",
       "    <tr>\n",
       "      <th>24</th>\n",
       "      <td>her glucose</td>\n",
       "      <td>1469</td>\n",
       "      <td>1479</td>\n",
       "      <td>1011445</td>\n",
       "      <td>Glucose:::Glucometer blood glucose:::Galactose measurement:::Glucagon:::Glucose measurement, pos...</td>\n",
       "    </tr>\n",
       "    <tr>\n",
       "      <th>25</th>\n",
       "      <td>the anion gap</td>\n",
       "      <td>1496</td>\n",
       "      <td>1508</td>\n",
       "      <td>86039</td>\n",
       "      <td>ANA measurement:::ANA measurement:::AFP measurement:::AFP measurement:::AFP measurement:::Anopla...</td>\n",
       "    </tr>\n",
       "    <tr>\n",
       "      <th>26</th>\n",
       "      <td>serum bicarbonate</td>\n",
       "      <td>1536</td>\n",
       "      <td>1552</td>\n",
       "      <td>82374</td>\n",
       "      <td>Carbon dioxide (bicarbonate):::Fluid sample chloride level:::Bilirubin:::Chloride measurement, b...</td>\n",
       "    </tr>\n",
       "    <tr>\n",
       "      <th>27</th>\n",
       "      <td>triglyceride level</td>\n",
       "      <td>1569</td>\n",
       "      <td>1586</td>\n",
       "      <td>84478</td>\n",
       "      <td>Triglycerides:::Serum total cholesterol level:::Homocysteine:::VLDL cholesterol measurement:::Gl...</td>\n",
       "    </tr>\n",
       "    <tr>\n",
       "      <th>28</th>\n",
       "      <td>lipase</td>\n",
       "      <td>1614</td>\n",
       "      <td>1619</td>\n",
       "      <td>83690</td>\n",
       "      <td>Lipase:::Lipids measurement (procedure):::Lipids measurement (procedure):::LDH measurement:::Lac...</td>\n",
       "    </tr>\n",
       "    <tr>\n",
       "      <th>29</th>\n",
       "      <td>U/L</td>\n",
       "      <td>1628</td>\n",
       "      <td>1630</td>\n",
       "      <td>83002</td>\n",
       "      <td>L.H. level:::Residual urea clearance:::Urine VMA level:::Osmolality; urine:::Osmolality:::LDH me...</td>\n",
       "    </tr>\n",
       "    <tr>\n",
       "      <th>30</th>\n",
       "      <td>The β-hydroxybutyrate level</td>\n",
       "      <td>1633</td>\n",
       "      <td>1659</td>\n",
       "      <td>82953</td>\n",
       "      <td>Glucose; tolbutamide tolerance test:::Lactic acid dehydrogenase measurement:::Beta-glucosidase m...</td>\n",
       "    </tr>\n",
       "    <tr>\n",
       "      <th>31</th>\n",
       "      <td>analysis</td>\n",
       "      <td>1795</td>\n",
       "      <td>1802</td>\n",
       "      <td>85347</td>\n",
       "      <td>ACT:::Fitting:::Placement:::Placement:::LH measurement:::Inspection:::Inspection:::Inspection:::...</td>\n",
       "    </tr>\n",
       "    <tr>\n",
       "      <th>32</th>\n",
       "      <td>an insulin drip</td>\n",
       "      <td>1893</td>\n",
       "      <td>1907</td>\n",
       "      <td>86337</td>\n",
       "      <td>Insulin antibodies:::Insulin:::Insulin stress test:::Insulin stress test:::Insulin tolerance pan...</td>\n",
       "    </tr>\n",
       "    <tr>\n",
       "      <th>33</th>\n",
       "      <td>a reduction</td>\n",
       "      <td>1932</td>\n",
       "      <td>1942</td>\n",
       "      <td>62117</td>\n",
       "      <td>Reduction procedure:::Reduction procedure:::Reduction procedure:::Reduced Services:::Lower limb ...</td>\n",
       "    </tr>\n",
       "    <tr>\n",
       "      <th>34</th>\n",
       "      <td>the anion gap</td>\n",
       "      <td>1947</td>\n",
       "      <td>1959</td>\n",
       "      <td>86039</td>\n",
       "      <td>ANA measurement:::ANA measurement:::AFP measurement:::AFP measurement:::AFP measurement:::Anopla...</td>\n",
       "    </tr>\n",
       "    <tr>\n",
       "      <th>35</th>\n",
       "      <td>triglycerides</td>\n",
       "      <td>1971</td>\n",
       "      <td>1983</td>\n",
       "      <td>84478</td>\n",
       "      <td>Triglycerides:::Serum total cholesterol level:::VLDL cholesterol measurement:::Homocysteine:::Li...</td>\n",
       "    </tr>\n",
       "    <tr>\n",
       "      <th>36</th>\n",
       "      <td>SGLT2 inhibitor</td>\n",
       "      <td>2111</td>\n",
       "      <td>2125</td>\n",
       "      <td>64823</td>\n",
       "      <td>Sympathectomy (procedure):::Glenn shunt:::Glutethimide:::Stellate ganglion block:::Shunt:::Sympa...</td>\n",
       "    </tr>\n",
       "    <tr>\n",
       "      <th>37</th>\n",
       "      <td>insulin glargine</td>\n",
       "      <td>2220</td>\n",
       "      <td>2235</td>\n",
       "      <td>80435</td>\n",
       "      <td>ITT - Insulin tolerance test:::ITT - Insulin tolerance test:::Insulin:::Insulin antibody measure...</td>\n",
       "    </tr>\n",
       "    <tr>\n",
       "      <th>38</th>\n",
       "      <td>insulin lispro</td>\n",
       "      <td>2259</td>\n",
       "      <td>2272</td>\n",
       "      <td>1011517</td>\n",
       "      <td>Insulin:::Insulin antibody measurement:::Proinsulin:::Insulin tolerance test (procedure):::Insul...</td>\n",
       "    </tr>\n",
       "    <tr>\n",
       "      <th>39</th>\n",
       "      <td>metformin</td>\n",
       "      <td>2290</td>\n",
       "      <td>2298</td>\n",
       "      <td>83858</td>\n",
       "      <td>Methsuximide:::Methadone:::Methadone:::Metabolic function test:::Metyrapone panel:::Insulin:::Fa...</td>\n",
       "    </tr>\n",
       "    <tr>\n",
       "      <th>40</th>\n",
       "      <td>all SGLT2 inhibitors</td>\n",
       "      <td>2348</td>\n",
       "      <td>2367</td>\n",
       "      <td>83080</td>\n",
       "      <td>b-Hexosaminidase, each assay:::All specified thromboembolic risk factors assessed (AFIB):::Digox...</td>\n",
       "    </tr>\n",
       "  </tbody>\n",
       "</table>\n",
       "</div>"
      ]
     },
     "metadata": {
      "application/vnd.databricks.v1+output": {
       "addedWidgets": {},
       "arguments": {},
       "data": "<div>\n<style scoped>\n    .dataframe tbody tr th:only-of-type {\n        vertical-align: middle;\n    }\n\n    .dataframe tbody tr th {\n        vertical-align: top;\n    }\n\n    .dataframe thead th {\n        text-align: right;\n    }\n</style>\n<table border=\"1\" class=\"dataframe\">\n  <thead>\n    <tr style=\"text-align: right;\">\n      <th></th>\n      <th>chunks</th>\n      <th>begin</th>\n      <th>end</th>\n      <th>sbert_cpt_code</th>\n      <th>resolutions</th>\n    </tr>\n  </thead>\n  <tbody>\n    <tr>\n      <th>0</th>\n      <td>BMI</td>\n      <td>316</td>\n      <td>318</td>\n      <td>3008F</td>\n      <td>Body Mass Index (BMI), documented (PV):::Weight monitoring:::Weight monitoring:::Weighing:::Glob...</td>\n    </tr>\n    <tr>\n      <th>1</th>\n      <td>amoxicillin</td>\n      <td>499</td>\n      <td>509</td>\n      <td>80150</td>\n      <td>Amikacin:::Gentamicin:::Antibiotic coverage:::Antibiotic coverage:::Antibiotic coverage:::Antibi...</td>\n    </tr>\n    <tr>\n      <th>2</th>\n      <td>metformin</td>\n      <td>557</td>\n      <td>565</td>\n      <td>83858</td>\n      <td>Methsuximide:::Methadone:::Methadone:::Metabolic function test:::Metyrapone panel:::Insulin:::Fa...</td>\n    </tr>\n    <tr>\n      <th>3</th>\n      <td>glipizide</td>\n      <td>568</td>\n      <td>576</td>\n      <td>82980</td>\n      <td>Glutethimide:::Digoxin:::Glucagon:::Lamotrigine:::Carbamazepine:::Lacosamide:::Tiagabine:::Gluca...</td>\n    </tr>\n    <tr>\n      <th>4</th>\n      <td>dapagliflozin</td>\n      <td>583</td>\n      <td>595</td>\n      <td>1022259</td>\n      <td>Digoxin:::Zonisamide:::Tiagabine:::Doxepin:::Dilantin measurement:::Dilantin measurement:::Lamot...</td>\n    </tr>\n    <tr>\n      <th>5</th>\n      <td>atorvastatin</td>\n      <td>610</td>\n      <td>621</td>\n      <td>4145F</td>\n      <td>Antihypertensive therapy (procedure):::Angiotensin converting enzyme inhibitor therapy:::Angiote...</td>\n    </tr>\n    <tr>\n      <th>6</th>\n      <td>gemfibrozil</td>\n      <td>627</td>\n      <td>637</td>\n      <td>80145</td>\n      <td>Adalimumab:::Vedolizumab:::Biological response modifier therapy:::Drug therapy:::Drug therapy:::...</td>\n    </tr>\n    <tr>\n      <th>7</th>\n      <td>dapagliflozin</td>\n      <td>664</td>\n      <td>676</td>\n      <td>1022259</td>\n      <td>Digoxin:::Zonisamide:::Tiagabine:::Doxepin:::Dilantin measurement:::Dilantin measurement:::Lamot...</td>\n    </tr>\n    <tr>\n      <th>8</th>\n      <td>Physical examination</td>\n      <td>722</td>\n      <td>741</td>\n      <td>1014526</td>\n      <td>Physical Examination:::Physical assessment:::Monitors physical parameters:::Monitors physical pa...</td>\n    </tr>\n    <tr>\n      <th>9</th>\n      <td>her abdominal examination</td>\n      <td>811</td>\n      <td>835</td>\n      <td>76700</td>\n      <td>US abdominal scan:::US abdominal scan:::Endoscopy of abdomen:::Endoscopy of abdomen:::Endoscopy ...</td>\n    </tr>\n    <tr>\n      <th>10</th>\n      <td>serum glucose</td>\n      <td>940</td>\n      <td>952</td>\n      <td>1011445</td>\n      <td>Glucose:::Glucometer blood glucose:::Glucagon level:::Glucose measurement, post glucose dose:::G...</td>\n    </tr>\n    <tr>\n      <th>11</th>\n      <td>bicarbonate</td>\n      <td>965</td>\n      <td>975</td>\n      <td>82374</td>\n      <td>Carbon dioxide (bicarbonate):::Bilirubin:::Fluid sample chloride:::Chloride:::Citrate:::Osmolali...</td>\n    </tr>\n    <tr>\n      <th>12</th>\n      <td>anion gap</td>\n      <td>988</td>\n      <td>996</td>\n      <td>86039</td>\n      <td>ANA measurement:::ANA measurement:::Overlapping:::Incision:::Incision:::Incision:::Abrasion:::Ab...</td>\n    </tr>\n    <tr>\n      <th>13</th>\n      <td>creatinine</td>\n      <td>1002</td>\n      <td>1011</td>\n      <td>1011373</td>\n      <td>Creatinine:::Creatinine; clearance:::Creatinine; blood:::Creatine measurement:::Creatine measure...</td>\n    </tr>\n    <tr>\n      <th>14</th>\n      <td>triglycerides</td>\n      <td>1024</td>\n      <td>1036</td>\n      <td>84478</td>\n      <td>Triglycerides:::Serum total cholesterol level:::VLDL cholesterol measurement:::Homocysteine:::Li...</td>\n    </tr>\n    <tr>\n      <th>15</th>\n      <td>total cholesterol</td>\n      <td>1049</td>\n      <td>1065</td>\n      <td>82465</td>\n      <td>Total cholesterol measurement:::HDL cholesterol measurement:::VLDL cholesterol measurement:::LDL...</td>\n    </tr>\n    <tr>\n      <th>16</th>\n      <td>glycated hemoglobin</td>\n      <td>1078</td>\n      <td>1096</td>\n      <td>83037</td>\n      <td>Glycated hemoglobin measurement:::Glycated hemoglobin measurement:::Glycated protein:::Glucomete...</td>\n    </tr>\n    <tr>\n      <th>17</th>\n      <td>HbA1c</td>\n      <td>1099</td>\n      <td>1103</td>\n      <td>83037</td>\n      <td>Glycated hemoglobin measurement:::Glycated hemoglobin measurement:::Hemoglobin A1c measurement::...</td>\n    </tr>\n    <tr>\n      <th>18</th>\n      <td>venous pH</td>\n      <td>1115</td>\n      <td>1123</td>\n      <td>82800</td>\n      <td>Blood venous pH level:::Determination of venous pressure:::Venous blood sampling:::Fluid sample ...</td>\n    </tr>\n    <tr>\n      <th>19</th>\n      <td>Serum lipase</td>\n      <td>1131</td>\n      <td>1142</td>\n      <td>83690</td>\n      <td>Lipase test:::Lipoprotein lipase measurement:::Lipids measurement:::Lipids measurement:::Lipopro...</td>\n    </tr>\n    <tr>\n      <th>20</th>\n      <td>U/L</td>\n      <td>1161</td>\n      <td>1163</td>\n      <td>83002</td>\n      <td>L.H. level:::Residual urea clearance:::Urine VMA level:::Osmolality; urine:::Osmolality:::LDH me...</td>\n    </tr>\n    <tr>\n      <th>21</th>\n      <td>Serum acetone levels</td>\n      <td>1166</td>\n      <td>1185</td>\n      <td>82145</td>\n      <td>Amfetamine level:::Acetaminophen measurement (procedure):::Acetaldehyde measurement (procedure):...</td>\n    </tr>\n    <tr>\n      <th>22</th>\n      <td>blood samples</td>\n      <td>1212</td>\n      <td>1224</td>\n      <td>38204</td>\n      <td>Blood unit collection:::Capillary blood sampling:::Blood count:::Blood unit processing:::Blood u...</td>\n    </tr>\n    <tr>\n      <th>23</th>\n      <td>serum chemistry</td>\n      <td>1406</td>\n      <td>1420</td>\n      <td>86975</td>\n      <td>Serum incubation method:::Serum incubation method:::Serum incubation method:::Albumin measuremen...</td>\n    </tr>\n    <tr>\n      <th>24</th>\n      <td>her glucose</td>\n      <td>1469</td>\n      <td>1479</td>\n      <td>1011445</td>\n      <td>Glucose:::Glucometer blood glucose:::Galactose measurement:::Glucagon:::Glucose measurement, pos...</td>\n    </tr>\n    <tr>\n      <th>25</th>\n      <td>the anion gap</td>\n      <td>1496</td>\n      <td>1508</td>\n      <td>86039</td>\n      <td>ANA measurement:::ANA measurement:::AFP measurement:::AFP measurement:::AFP measurement:::Anopla...</td>\n    </tr>\n    <tr>\n      <th>26</th>\n      <td>serum bicarbonate</td>\n      <td>1536</td>\n      <td>1552</td>\n      <td>82374</td>\n      <td>Carbon dioxide (bicarbonate):::Fluid sample chloride level:::Bilirubin:::Chloride measurement, b...</td>\n    </tr>\n    <tr>\n      <th>27</th>\n      <td>triglyceride level</td>\n      <td>1569</td>\n      <td>1586</td>\n      <td>84478</td>\n      <td>Triglycerides:::Serum total cholesterol level:::Homocysteine:::VLDL cholesterol measurement:::Gl...</td>\n    </tr>\n    <tr>\n      <th>28</th>\n      <td>lipase</td>\n      <td>1614</td>\n      <td>1619</td>\n      <td>83690</td>\n      <td>Lipase:::Lipids measurement (procedure):::Lipids measurement (procedure):::LDH measurement:::Lac...</td>\n    </tr>\n    <tr>\n      <th>29</th>\n      <td>U/L</td>\n      <td>1628</td>\n      <td>1630</td>\n      <td>83002</td>\n      <td>L.H. level:::Residual urea clearance:::Urine VMA level:::Osmolality; urine:::Osmolality:::LDH me...</td>\n    </tr>\n    <tr>\n      <th>30</th>\n      <td>The β-hydroxybutyrate level</td>\n      <td>1633</td>\n      <td>1659</td>\n      <td>82953</td>\n      <td>Glucose; tolbutamide tolerance test:::Lactic acid dehydrogenase measurement:::Beta-glucosidase m...</td>\n    </tr>\n    <tr>\n      <th>31</th>\n      <td>analysis</td>\n      <td>1795</td>\n      <td>1802</td>\n      <td>85347</td>\n      <td>ACT:::Fitting:::Placement:::Placement:::LH measurement:::Inspection:::Inspection:::Inspection:::...</td>\n    </tr>\n    <tr>\n      <th>32</th>\n      <td>an insulin drip</td>\n      <td>1893</td>\n      <td>1907</td>\n      <td>86337</td>\n      <td>Insulin antibodies:::Insulin:::Insulin stress test:::Insulin stress test:::Insulin tolerance pan...</td>\n    </tr>\n    <tr>\n      <th>33</th>\n      <td>a reduction</td>\n      <td>1932</td>\n      <td>1942</td>\n      <td>62117</td>\n      <td>Reduction procedure:::Reduction procedure:::Reduction procedure:::Reduced Services:::Lower limb ...</td>\n    </tr>\n    <tr>\n      <th>34</th>\n      <td>the anion gap</td>\n      <td>1947</td>\n      <td>1959</td>\n      <td>86039</td>\n      <td>ANA measurement:::ANA measurement:::AFP measurement:::AFP measurement:::AFP measurement:::Anopla...</td>\n    </tr>\n    <tr>\n      <th>35</th>\n      <td>triglycerides</td>\n      <td>1971</td>\n      <td>1983</td>\n      <td>84478</td>\n      <td>Triglycerides:::Serum total cholesterol level:::VLDL cholesterol measurement:::Homocysteine:::Li...</td>\n    </tr>\n    <tr>\n      <th>36</th>\n      <td>SGLT2 inhibitor</td>\n      <td>2111</td>\n      <td>2125</td>\n      <td>64823</td>\n      <td>Sympathectomy (procedure):::Glenn shunt:::Glutethimide:::Stellate ganglion block:::Shunt:::Sympa...</td>\n    </tr>\n    <tr>\n      <th>37</th>\n      <td>insulin glargine</td>\n      <td>2220</td>\n      <td>2235</td>\n      <td>80435</td>\n      <td>ITT - Insulin tolerance test:::ITT - Insulin tolerance test:::Insulin:::Insulin antibody measure...</td>\n    </tr>\n    <tr>\n      <th>38</th>\n      <td>insulin lispro</td>\n      <td>2259</td>\n      <td>2272</td>\n      <td>1011517</td>\n      <td>Insulin:::Insulin antibody measurement:::Proinsulin:::Insulin tolerance test (procedure):::Insul...</td>\n    </tr>\n    <tr>\n      <th>39</th>\n      <td>metformin</td>\n      <td>2290</td>\n      <td>2298</td>\n      <td>83858</td>\n      <td>Methsuximide:::Methadone:::Methadone:::Metabolic function test:::Metyrapone panel:::Insulin:::Fa...</td>\n    </tr>\n    <tr>\n      <th>40</th>\n      <td>all SGLT2 inhibitors</td>\n      <td>2348</td>\n      <td>2367</td>\n      <td>83080</td>\n      <td>b-Hexosaminidase, each assay:::All specified thromboembolic risk factors assessed (AFIB):::Digox...</td>\n    </tr>\n  </tbody>\n</table>\n</div>",
       "datasetInfos": [],
       "removedWidgets": [],
       "textData": null,
       "type": "htmlSandbox"
      }
     },
     "output_type": "display_data"
    }
   ],
   "source": [
    "df = get_codes (sbert_light_pipeline_cpt, text, 'sbert_cpt_code')\n",
    "\n",
    "df"
   ]
  },
  {
   "cell_type": "code",
   "execution_count": 0,
   "metadata": {
    "application/vnd.databricks.v1+cell": {
     "inputWidgets": {},
     "nuid": "be828bd5-376c-480d-96b1-eb0d6a88dfbf",
     "showTitle": false,
     "title": ""
    }
   },
   "outputs": [
    {
     "data": {
      "text/html": [
       "<style scoped>\n",
       "  .ansiout {\n",
       "    display: block;\n",
       "    unicode-bidi: embed;\n",
       "    white-space: pre-wrap;\n",
       "    word-wrap: break-word;\n",
       "    word-break: break-all;\n",
       "    font-family: \"Source Code Pro\", \"Menlo\", monospace;;\n",
       "    font-size: 13px;\n",
       "    color: #555;\n",
       "    margin-left: 4px;\n",
       "    line-height: 19px;\n",
       "  }\n",
       "</style>\n",
       "<div class=\"ansiout\">Out[107]: </div>"
      ]
     },
     "metadata": {
      "application/vnd.databricks.v1+output": {
       "addedWidgets": {},
       "arguments": {},
       "data": "<div class=\"ansiout\">Out[107]: </div>",
       "datasetInfos": [],
       "removedWidgets": [],
       "type": "html"
      }
     },
     "output_type": "display_data"
    },
    {
     "data": {
      "text/html": [
       "<div>\n",
       "<style scoped>\n",
       "    .dataframe tbody tr th:only-of-type {\n",
       "        vertical-align: middle;\n",
       "    }\n",
       "\n",
       "    .dataframe tbody tr th {\n",
       "        vertical-align: top;\n",
       "    }\n",
       "\n",
       "    .dataframe thead th {\n",
       "        text-align: right;\n",
       "    }\n",
       "</style>\n",
       "<table border=\"1\" class=\"dataframe\">\n",
       "  <thead>\n",
       "    <tr style=\"text-align: right;\">\n",
       "      <th></th>\n",
       "      <th>chunks</th>\n",
       "      <th>begin</th>\n",
       "      <th>end</th>\n",
       "      <th>sbert_cpt_code</th>\n",
       "      <th>resolutions</th>\n",
       "    </tr>\n",
       "  </thead>\n",
       "  <tbody>\n",
       "    <tr>\n",
       "      <th>0</th>\n",
       "      <td>a coronary artery bypass</td>\n",
       "      <td>26</td>\n",
       "      <td>49</td>\n",
       "      <td>1006216</td>\n",
       "      <td>Arterial Grafting for Coronary Artery Bypass:::Coronary artery bypass, using arterial graft(s)::...</td>\n",
       "    </tr>\n",
       "    <tr>\n",
       "      <th>1</th>\n",
       "      <td>an abdomen CT</td>\n",
       "      <td>71</td>\n",
       "      <td>83</td>\n",
       "      <td>1010526</td>\n",
       "      <td>Computed tomography, abdomen:::US abdominal scan:::US abdominal scan:::Radiologic examination, a...</td>\n",
       "    </tr>\n",
       "  </tbody>\n",
       "</table>\n",
       "</div>"
      ]
     },
     "metadata": {
      "application/vnd.databricks.v1+output": {
       "addedWidgets": {},
       "arguments": {},
       "data": "<div>\n<style scoped>\n    .dataframe tbody tr th:only-of-type {\n        vertical-align: middle;\n    }\n\n    .dataframe tbody tr th {\n        vertical-align: top;\n    }\n\n    .dataframe thead th {\n        text-align: right;\n    }\n</style>\n<table border=\"1\" class=\"dataframe\">\n  <thead>\n    <tr style=\"text-align: right;\">\n      <th></th>\n      <th>chunks</th>\n      <th>begin</th>\n      <th>end</th>\n      <th>sbert_cpt_code</th>\n      <th>resolutions</th>\n    </tr>\n  </thead>\n  <tbody>\n    <tr>\n      <th>0</th>\n      <td>a coronary artery bypass</td>\n      <td>26</td>\n      <td>49</td>\n      <td>1006216</td>\n      <td>Arterial Grafting for Coronary Artery Bypass:::Coronary artery bypass, using arterial graft(s)::...</td>\n    </tr>\n    <tr>\n      <th>1</th>\n      <td>an abdomen CT</td>\n      <td>71</td>\n      <td>83</td>\n      <td>1010526</td>\n      <td>Computed tomography, abdomen:::US abdominal scan:::US abdominal scan:::Radiologic examination, a...</td>\n    </tr>\n  </tbody>\n</table>\n</div>",
       "datasetInfos": [],
       "removedWidgets": [],
       "textData": null,
       "type": "htmlSandbox"
      }
     },
     "output_type": "display_data"
    }
   ],
   "source": [
    "df = get_codes (sbert_light_pipeline_cpt, 'The patient needs to have a coronary artery bypass but doctor suggests an abdomen CT at first.', 'sbert_cpt_code')\n",
    "\n",
    "df"
   ]
  },
  {
   "cell_type": "code",
   "execution_count": 0,
   "metadata": {
    "application/vnd.databricks.v1+cell": {
     "inputWidgets": {},
     "nuid": "746d23a5-4447-4273-9379-d7a0e73639bf",
     "showTitle": false,
     "title": ""
    }
   },
   "outputs": [
    {
     "data": {
      "text/html": [
       "<style scoped>\n",
       "  .ansiout {\n",
       "    display: block;\n",
       "    unicode-bidi: embed;\n",
       "    white-space: pre-wrap;\n",
       "    word-wrap: break-word;\n",
       "    word-break: break-all;\n",
       "    font-family: \"Source Code Pro\", \"Menlo\", monospace;;\n",
       "    font-size: 13px;\n",
       "    color: #555;\n",
       "    margin-left: 4px;\n",
       "    line-height: 19px;\n",
       "  }\n",
       "</style>\n",
       "<div class=\"ansiout\">Out[108]: &#39;Arterial Grafting for Coronary Artery Bypass:::Coronary artery bypass, using arterial graft(s):::Coronary artery graft placement:::Coronary artery graft placement:::Coronary artery graft placement:::Aortic bifurcation bypass graft:::Aortic bifurcation bypass graft:::Procedure on coronary arteries:::Aortoiliac vascular bypass:::Aortoiliac vascular bypass:::Aortoiliac vascular bypass:::Aortoiliac vascular bypass:::Aortoiliac vascular bypass:::Arterial bypass graft:::Arterial bypass graft:::Arterial bypass graft:::Arterial bypass graft:::Coronary artery reconstruction:::Coronary artery reconstruction:::Reimplantation of coronary artery:::Reimplantation of coronary artery&#39;</div>"
      ]
     },
     "metadata": {
      "application/vnd.databricks.v1+output": {
       "addedWidgets": {},
       "arguments": {},
       "data": "<div class=\"ansiout\">Out[108]: &#39;Arterial Grafting for Coronary Artery Bypass:::Coronary artery bypass, using arterial graft(s):::Coronary artery graft placement:::Coronary artery graft placement:::Coronary artery graft placement:::Aortic bifurcation bypass graft:::Aortic bifurcation bypass graft:::Procedure on coronary arteries:::Aortoiliac vascular bypass:::Aortoiliac vascular bypass:::Aortoiliac vascular bypass:::Aortoiliac vascular bypass:::Aortoiliac vascular bypass:::Arterial bypass graft:::Arterial bypass graft:::Arterial bypass graft:::Arterial bypass graft:::Coronary artery reconstruction:::Coronary artery reconstruction:::Reimplantation of coronary artery:::Reimplantation of coronary artery&#39;</div>",
       "datasetInfos": [],
       "removedWidgets": [],
       "type": "html"
      }
     },
     "output_type": "display_data"
    }
   ],
   "source": [
    "df['resolutions'][0]"
   ]
  },
  {
   "cell_type": "code",
   "execution_count": 0,
   "metadata": {
    "application/vnd.databricks.v1+cell": {
     "inputWidgets": {},
     "nuid": "e703f7d0-75a0-4ecf-8054-8d4163d76919",
     "showTitle": false,
     "title": ""
    }
   },
   "outputs": [
    {
     "data": {
      "text/html": [
       "<style scoped>\n",
       "  .ansiout {\n",
       "    display: block;\n",
       "    unicode-bidi: embed;\n",
       "    white-space: pre-wrap;\n",
       "    word-wrap: break-word;\n",
       "    word-break: break-all;\n",
       "    font-family: \"Source Code Pro\", \"Menlo\", monospace;;\n",
       "    font-size: 13px;\n",
       "    color: #555;\n",
       "    margin-left: 4px;\n",
       "    line-height: 19px;\n",
       "  }\n",
       "</style>\n",
       "<div class=\"ansiout\">Out[109]: &#39;Computed tomography, abdomen:::US abdominal scan:::US abdominal scan:::Radiologic examination, abdomen:::Radiologic examination, abdomen:::Computed tomography, abdomen; with contrast material(s):::Magnetic resonance imaging of abdomen:::Magnetic resonance imaging of abdomen:::Computed tomography of abdominal vascular structures:::Procedure on abdomen:::Procedure on abdomen:::Endoscopy of abdomen:::Endoscopy of abdomen:::Endoscopy of abdomen:::Endoscopy of abdomen:::Endoscopy of abdomen:::Endoscopy of abdomen:::Endoscopy of abdomen:::Endoscopy of abdomen:::Endoscopy of abdomen:::Endoscopy of abdomen&#39;</div>"
      ]
     },
     "metadata": {
      "application/vnd.databricks.v1+output": {
       "addedWidgets": {},
       "arguments": {},
       "data": "<div class=\"ansiout\">Out[109]: &#39;Computed tomography, abdomen:::US abdominal scan:::US abdominal scan:::Radiologic examination, abdomen:::Radiologic examination, abdomen:::Computed tomography, abdomen; with contrast material(s):::Magnetic resonance imaging of abdomen:::Magnetic resonance imaging of abdomen:::Computed tomography of abdominal vascular structures:::Procedure on abdomen:::Procedure on abdomen:::Endoscopy of abdomen:::Endoscopy of abdomen:::Endoscopy of abdomen:::Endoscopy of abdomen:::Endoscopy of abdomen:::Endoscopy of abdomen:::Endoscopy of abdomen:::Endoscopy of abdomen:::Endoscopy of abdomen:::Endoscopy of abdomen&#39;</div>",
       "datasetInfos": [],
       "removedWidgets": [],
       "type": "html"
      }
     },
     "output_type": "display_data"
    }
   ],
   "source": [
    "df['resolutions'][1]"
   ]
  },
  {
   "cell_type": "markdown",
   "metadata": {
    "application/vnd.databricks.v1+cell": {
     "inputWidgets": {},
     "nuid": "eb69cce8-9a21-4426-a0e4-859ed9055e43",
     "showTitle": false,
     "title": ""
    }
   },
   "source": [
    "## Sentence Entity Resolver - RxNorm"
   ]
  },
  {
   "cell_type": "code",
   "execution_count": 0,
   "metadata": {
    "application/vnd.databricks.v1+cell": {
     "inputWidgets": {},
     "nuid": "71bd8f4b-580d-4ab3-9282-1dcc5aee93cc",
     "showTitle": false,
     "title": ""
    }
   },
   "outputs": [
    {
     "data": {
      "text/html": [
       "<style scoped>\n",
       "  .ansiout {\n",
       "    display: block;\n",
       "    unicode-bidi: embed;\n",
       "    white-space: pre-wrap;\n",
       "    word-wrap: break-word;\n",
       "    word-break: break-all;\n",
       "    font-family: \"Source Code Pro\", \"Menlo\", monospace;;\n",
       "    font-size: 13px;\n",
       "    color: #555;\n",
       "    margin-left: 4px;\n",
       "    line-height: 19px;\n",
       "  }\n",
       "</style>\n",
       "<div class=\"ansiout\">sbiobert_base_cased_mli download started this may take some time.\n",
       "Approximate size to download 384.3 MB\n",
       "\r",
       "[ | ]\r",
       "[OK!]\n",
       "sbiobertresolve_rxnorm download started this may take some time.\n",
       "Approximate size to download 810.7 MB\n",
       "\r",
       "[ | ]\r",
       "[ / ]\r",
       "[ — ]\r",
       "[ \\ ]\r",
       "[ | ]\r",
       "[ / ]\r",
       "[ — ]\r",
       "[ \\ ]\r",
       "[ | ]\r",
       "[ / ]\r",
       "[ — ]\r",
       "[ \\ ]\r",
       "[ | ]\r",
       "[ / ]\r",
       "[ — ]\r",
       "[ \\ ]\r",
       "[ | ]\r",
       "[ / ]\r",
       "[ — ]\r",
       "[ \\ ]\r",
       "[ | ]\r",
       "[ / ]\r",
       "[ — ]\r",
       "[ \\ ]\r",
       "[ | ]\r",
       "[ / ]\r",
       "[ — ]\r",
       "[ \\ ]\r",
       "[ | ]\r",
       "[ / ]\r",
       "[ — ]\r",
       "[ \\ ]\r",
       "[ | ]\r",
       "[ / ]\r",
       "[ — ]\r",
       "[ \\ ]\r",
       "[ | ]\r",
       "[ / ]\r",
       "[ — ]\r",
       "[ \\ ]\r",
       "[ | ]\r",
       "[ / ]\r",
       "[ — ]\r",
       "[ \\ ]\r",
       "[ | ]\r",
       "[ / ]\r",
       "[ — ]\r",
       "[ \\ ]\r",
       "[ | ]\r",
       "[ / ]\r",
       "[ — ]\r",
       "[ \\ ]\r",
       "[ | ]\r",
       "[ / ]\r",
       "[ — ]\r",
       "[ \\ ]\r",
       "[ | ]\r",
       "[ / ]\r",
       "[ — ]\r",
       "[ \\ ]\r",
       "[ | ]\r",
       "[ / ]\r",
       "[ — ]\r",
       "[ \\ ]\r",
       "[ | ]\r",
       "[ / ]\r",
       "[ — ]\r",
       "[ \\ ]\r",
       "[ | ]\r",
       "[ / ]\r",
       "[ — ]\r",
       "[ \\ ]\r",
       "[ | ]\r",
       "[ / ]\r",
       "[ — ]\r",
       "[ \\ ]\r",
       "[ | ]\r",
       "[ / ]\r",
       "[ — ]\r",
       "[ \\ ]\r",
       "[ | ]\r",
       "[ / ]\r",
       "[ — ]\r",
       "[ \\ ]\r",
       "[ | ]\r",
       "[ / ]\r",
       "[ — ]\r",
       "[ \\ ]\r",
       "[ | ]\r",
       "[ / ]\r",
       "[ — ]\r",
       "[ \\ ]\r",
       "[ | ]\r",
       "[ / ]\r",
       "[ — ]\r",
       "[ \\ ]\r",
       "[ | ]\r",
       "[ / ]\r",
       "[ — ]\r",
       "[ \\ ]\r",
       "[ | ]\r",
       "[ / ]\r",
       "[ — ]\r",
       "[ \\ ]\r",
       "[ | ]\r",
       "[ / ]\r",
       "[ — ]\r",
       "[ \\ ]\r",
       "[ | ]\r",
       "[ / ]\r",
       "[ — ]\r",
       "[ \\ ]\r",
       "[ | ]\r",
       "[ / ]\r",
       "[ — ]\r",
       "[ \\ ]\r",
       "[ | ]\r",
       "[ / ]\r",
       "[ — ]\r",
       "[ \\ ]\r",
       "[ | ]\r",
       "[ / ]\r",
       "[ — ]\r",
       "[ \\ ]\r",
       "[ | ]\r",
       "[ / ]\r",
       "[ — ]\r",
       "[ \\ ]\r",
       "[ | ]\r",
       "[ / ]\r",
       "[ — ]\r",
       "[ \\ ]\r",
       "[ | ]\r",
       "[ / ]\r",
       "[ — ]\r",
       "[ \\ ]\r",
       "[ | ]\r",
       "[ / ]\r",
       "[ — ]\r",
       "[ \\ ]\r",
       "[ | ]\r",
       "[ / ]\r",
       "[ — ]\r",
       "[ \\ ]\r",
       "[ | ]\r",
       "[ / ]\r",
       "[ — ]\r",
       "[ \\ ]\r",
       "[ | ]\r",
       "[ / ]\r",
       "[ — ]\r",
       "[ \\ ]\r",
       "[ | ]\r",
       "[ / ]\r",
       "[ — ]\r",
       "[ \\ ]\r",
       "[ | ]\r",
       "[ / ]\r",
       "[ — ]\r",
       "[ \\ ]\r",
       "[ | ]\r",
       "[ / ]\r",
       "[ — ]\r",
       "[ \\ ]\r",
       "[ | ]\r",
       "[ / ]\r",
       "[ — ]\r",
       "[ \\ ]\r",
       "[ | ]\r",
       "[ / ]\r",
       "[ — ]\r",
       "[ \\ ]\r",
       "[ | ]\r",
       "[ / ]\r",
       "[ — ]\r",
       "[ \\ ]\r",
       "[ | ]\r",
       "[ / ]\r",
       "[ — ]\r",
       "[ \\ ]\r",
       "[ | ]\r",
       "[ / ]\r",
       "[ — ]\r",
       "[ \\ ]\r",
       "[ | ]\r",
       "[ / ]\r",
       "[ — ]\r",
       "[ \\ ]\r",
       "[ | ]\r",
       "[ / ]\r",
       "[ — ]\r",
       "[ \\ ]\r",
       "[ | ]\r",
       "[ / ]\r",
       "[ — ]\r",
       "[ \\ ]\r",
       "[ | ]\r",
       "[ / ]\r",
       "[ — ]\r",
       "[ \\ ]\r",
       "[ | ]\r",
       "[ / ]\r",
       "[ — ]\r",
       "[ \\ ]\r",
       "[ | ]\r",
       "[ / ]\r",
       "[ — ]\r",
       "[ \\ ]\r",
       "[ | ]\r",
       "[ / ]\r",
       "[ — ]\r",
       "[ \\ ]\r",
       "[ | ]\r",
       "[ / ]\r",
       "[ — ]\r",
       "[ \\ ]\r",
       "[ | ]\r",
       "[ / ]\r",
       "[ — ]\r",
       "[ \\ ]\r",
       "[ | ]\r",
       "[ / ]\r",
       "[ — ]\r",
       "[ \\ ]\r",
       "[ | ]\r",
       "[ / ]\r",
       "[ — ]\r",
       "[ \\ ]\r",
       "[ | ]\r",
       "[ / ]\r",
       "[ — ]\r",
       "[ \\ ]\r",
       "[ | ]\r",
       "[ / ]\r",
       "[ — ]\r",
       "[ \\ ]\r",
       "[ | ]\r",
       "[ / ]\r",
       "[ — ]\r",
       "[ \\ ]\r",
       "[ | ]\r",
       "[ / ]\r",
       "[ — ]\r",
       "[ \\ ]\r",
       "[ | ]\r",
       "[ / ]\r",
       "[ — ]\r",
       "[ \\ ]\r",
       "[ | ]\r",
       "[ / ]\r",
       "[ — ]\r",
       "[ \\ ]\r",
       "[ | ]\r",
       "[ / ]\r",
       "[ — ]\r",
       "[ \\ ]\r",
       "[ | ]\r",
       "[ / ]\r",
       "[ — ]\r",
       "[ \\ ]\r",
       "[ | ]\r",
       "[ / ]\r",
       "[ — ]\r",
       "[ \\ ]\r",
       "[ | ]\r",
       "[ / ]\r",
       "[ — ]\r",
       "[ \\ ]\r",
       "[ | ]\r",
       "[ / ]\r",
       "[ — ]\r",
       "[ \\ ]\r",
       "[ | ]\r",
       "[ / ]\r",
       "[ — ]\r",
       "[ \\ ]\r",
       "[ | ]\r",
       "[ / ]\r",
       "[ — ]\r",
       "[ \\ ]\r",
       "[ | ]\r",
       "[ / ]\r",
       "[ — ]\r",
       "[ \\ ]\r",
       "[ | ]\r",
       "[ / ]\r",
       "[ — ]\r",
       "[ \\ ]\r",
       "[ | ]\r",
       "[ / ]\r",
       "[ — ]\r",
       "[ \\ ]\r",
       "[ | ]\r",
       "[ / ]\r",
       "[ — ]\r",
       "[ \\ ]\r",
       "[ | ]\r",
       "[ / ]\r",
       "[ — ]\r",
       "[ \\ ]\r",
       "[ | ]\r",
       "[ / ]\r",
       "[ — ]\r",
       "[ \\ ]\r",
       "[ | ]\r",
       "[ / ]\r",
       "[ — ]\r",
       "[ \\ ]\r",
       "[ | ]\r",
       "[ / ]\r",
       "[ — ]\r",
       "[ \\ ]\r",
       "[ | ]\r",
       "[ / ]\r",
       "[ — ]\r",
       "[ \\ ]\r",
       "[ | ]\r",
       "[ / ]\r",
       "[ — ]\r",
       "[ \\ ]\r",
       "[ | ]\r",
       "[ / ]\r",
       "[ — ]\r",
       "[ \\ ]\r",
       "[ | ]\r",
       "[ / ]\r",
       "[ — ]\r",
       "[ \\ ]\r",
       "[ | ]\r",
       "[ / ]\r",
       "[ — ]\r",
       "[ \\ ]\r",
       "[ | ]\r",
       "[ / ]\r",
       "[ — ]\r",
       "[ \\ ]\r",
       "[ | ]\r",
       "[ / ]\r",
       "[ — ]\r",
       "[ \\ ]\r",
       "[ | ]\r",
       "[ / ]\r",
       "[ — ]\r",
       "[ \\ ]\r",
       "[ | ]\r",
       "[OK!]\n",
       "</div>"
      ]
     },
     "metadata": {
      "application/vnd.databricks.v1+output": {
       "addedWidgets": {},
       "arguments": {},
       "data": "<div class=\"ansiout\">sbiobert_base_cased_mli download started this may take some time.\nApproximate size to download 384.3 MB\n\r[ | ]\r[OK!]\nsbiobertresolve_rxnorm download started this may take some time.\nApproximate size to download 810.7 MB\n\r[ | ]\r[ / ]\r[ — ]\r[ \\ ]\r[ | ]\r[ / ]\r[ — ]\r[ \\ ]\r[ | ]\r[ / ]\r[ — ]\r[ \\ ]\r[ | ]\r[ / ]\r[ — ]\r[ \\ ]\r[ | ]\r[ / ]\r[ — ]\r[ \\ ]\r[ | ]\r[ / ]\r[ — ]\r[ \\ ]\r[ | ]\r[ / ]\r[ — ]\r[ \\ ]\r[ | ]\r[ / ]\r[ — ]\r[ \\ ]\r[ | ]\r[ / ]\r[ — ]\r[ \\ ]\r[ | ]\r[ / ]\r[ — ]\r[ \\ ]\r[ | ]\r[ / ]\r[ — ]\r[ \\ ]\r[ | ]\r[ / ]\r[ — ]\r[ \\ ]\r[ | ]\r[ / ]\r[ — ]\r[ \\ ]\r[ | ]\r[ / ]\r[ — ]\r[ \\ ]\r[ | ]\r[ / ]\r[ — ]\r[ \\ ]\r[ | ]\r[ / ]\r[ — ]\r[ \\ ]\r[ | ]\r[ / ]\r[ — ]\r[ \\ ]\r[ | ]\r[ / ]\r[ — ]\r[ \\ ]\r[ | ]\r[ / ]\r[ — ]\r[ \\ ]\r[ | ]\r[ / ]\r[ — ]\r[ \\ ]\r[ | ]\r[ / ]\r[ — ]\r[ \\ ]\r[ | ]\r[ / ]\r[ — ]\r[ \\ ]\r[ | ]\r[ / ]\r[ — ]\r[ \\ ]\r[ | ]\r[ / ]\r[ — ]\r[ \\ ]\r[ | ]\r[ / ]\r[ — ]\r[ \\ ]\r[ | ]\r[ / ]\r[ — ]\r[ \\ ]\r[ | ]\r[ / ]\r[ — ]\r[ \\ ]\r[ | ]\r[ / ]\r[ — ]\r[ \\ ]\r[ | ]\r[ / ]\r[ — ]\r[ \\ ]\r[ | ]\r[ / ]\r[ — ]\r[ \\ ]\r[ | ]\r[ / ]\r[ — ]\r[ \\ ]\r[ | ]\r[ / ]\r[ — ]\r[ \\ ]\r[ | ]\r[ / ]\r[ — ]\r[ \\ ]\r[ | ]\r[ / ]\r[ — ]\r[ \\ ]\r[ | ]\r[ / ]\r[ — ]\r[ \\ ]\r[ | ]\r[ / ]\r[ — ]\r[ \\ ]\r[ | ]\r[ / ]\r[ — ]\r[ \\ ]\r[ | ]\r[ / ]\r[ — ]\r[ \\ ]\r[ | ]\r[ / ]\r[ — ]\r[ \\ ]\r[ | ]\r[ / ]\r[ — ]\r[ \\ ]\r[ | ]\r[ / ]\r[ — ]\r[ \\ ]\r[ | ]\r[ / ]\r[ — ]\r[ \\ ]\r[ | ]\r[ / ]\r[ — ]\r[ \\ ]\r[ | ]\r[ / ]\r[ — ]\r[ \\ ]\r[ | ]\r[ / ]\r[ — ]\r[ \\ ]\r[ | ]\r[ / ]\r[ — ]\r[ \\ ]\r[ | ]\r[ / ]\r[ — ]\r[ \\ ]\r[ | ]\r[ / ]\r[ — ]\r[ \\ ]\r[ | ]\r[ / ]\r[ — ]\r[ \\ ]\r[ | ]\r[ / ]\r[ — ]\r[ \\ ]\r[ | ]\r[ / ]\r[ — ]\r[ \\ ]\r[ | ]\r[ / ]\r[ — ]\r[ \\ ]\r[ | ]\r[ / ]\r[ — ]\r[ \\ ]\r[ | ]\r[ / ]\r[ — ]\r[ \\ ]\r[ | ]\r[ / ]\r[ — ]\r[ \\ ]\r[ | ]\r[ / ]\r[ — ]\r[ \\ ]\r[ | ]\r[ / ]\r[ — ]\r[ \\ ]\r[ | ]\r[ / ]\r[ — ]\r[ \\ ]\r[ | ]\r[ / ]\r[ — ]\r[ \\ ]\r[ | ]\r[ / ]\r[ — ]\r[ \\ ]\r[ | ]\r[ / ]\r[ — ]\r[ \\ ]\r[ | ]\r[ / ]\r[ — ]\r[ \\ ]\r[ | ]\r[ / ]\r[ — ]\r[ \\ ]\r[ | ]\r[ / ]\r[ — ]\r[ \\ ]\r[ | ]\r[ / ]\r[ — ]\r[ \\ ]\r[ | ]\r[ / ]\r[ — ]\r[ \\ ]\r[ | ]\r[ / ]\r[ — ]\r[ \\ ]\r[ | ]\r[ / ]\r[ — ]\r[ \\ ]\r[ | ]\r[ / ]\r[ — ]\r[ \\ ]\r[ | ]\r[ / ]\r[ — ]\r[ \\ ]\r[ | ]\r[ / ]\r[ — ]\r[ \\ ]\r[ | ]\r[ / ]\r[ — ]\r[ \\ ]\r[ | ]\r[ / ]\r[ — ]\r[ \\ ]\r[ | ]\r[ / ]\r[ — ]\r[ \\ ]\r[ | ]\r[ / ]\r[ — ]\r[ \\ ]\r[ | ]\r[ / ]\r[ — ]\r[ \\ ]\r[ | ]\r[ / ]\r[ — ]\r[ \\ ]\r[ | ]\r[ / ]\r[ — ]\r[ \\ ]\r[ | ]\r[ / ]\r[ — ]\r[ \\ ]\r[ | ]\r[ / ]\r[ — ]\r[ \\ ]\r[ | ]\r[ / ]\r[ — ]\r[ \\ ]\r[ | ]\r[ / ]\r[ — ]\r[ \\ ]\r[ | ]\r[ / ]\r[ — ]\r[ \\ ]\r[ | ]\r[ / ]\r[ — ]\r[ \\ ]\r[ | ]\r[ / ]\r[ — ]\r[ \\ ]\r[ | ]\r[ / ]\r[ — ]\r[ \\ ]\r[ | ]\r[OK!]\n</div>",
       "datasetInfos": [],
       "removedWidgets": [],
       "type": "html"
      }
     },
     "output_type": "display_data"
    }
   ],
   "source": [
    "documentAssembler = DocumentAssembler()\\\n",
    "      .setInputCol(\"text\")\\\n",
    "      .setOutputCol(\"ner_chunk\")\n",
    "\n",
    "sbert_embedder = BertSentenceEmbeddings\\\n",
    "      .pretrained('sbiobert_base_cased_mli', 'en','clinical/models')\\\n",
    "      .setInputCols([\"ner_chunk\"])\\\n",
    "      .setOutputCol(\"sbert_embeddings\")\n",
    "    \n",
    "rxnorm_resolver = SentenceEntityResolverModel.pretrained(\"sbiobertresolve_rxnorm\",\"en\", \"clinical/models\") \\\n",
    "      .setInputCols([\"ner_chunk\", \"sbert_embeddings\"]) \\\n",
    "      .setOutputCol(\"rxnorm_code\")\\\n",
    "      .setDistanceFunction(\"EUCLIDEAN\")\n",
    "\n",
    "rxnorm_pipelineModel = PipelineModel(\n",
    "    stages = [\n",
    "        documentAssembler,\n",
    "        sbert_embedder,\n",
    "        rxnorm_resolver])\n",
    "\n",
    "rxnorm_lp = LightPipeline(rxnorm_pipelineModel)\n"
   ]
  },
  {
   "cell_type": "code",
   "execution_count": 0,
   "metadata": {
    "application/vnd.databricks.v1+cell": {
     "inputWidgets": {},
     "nuid": "4555774c-005a-4768-afc7-ac21b866790f",
     "showTitle": false,
     "title": ""
    }
   },
   "outputs": [
    {
     "data": {
      "text/html": [
       "<style scoped>\n",
       "  .ansiout {\n",
       "    display: block;\n",
       "    unicode-bidi: embed;\n",
       "    white-space: pre-wrap;\n",
       "    word-wrap: break-word;\n",
       "    word-break: break-all;\n",
       "    font-family: \"Source Code Pro\", \"Menlo\", monospace;;\n",
       "    font-size: 13px;\n",
       "    color: #555;\n",
       "    margin-left: 4px;\n",
       "    line-height: 19px;\n",
       "  }\n",
       "</style>\n",
       "<div class=\"ansiout\"></div>"
      ]
     },
     "metadata": {
      "application/vnd.databricks.v1+output": {
       "addedWidgets": {},
       "arguments": {},
       "data": "<div class=\"ansiout\"></div>",
       "datasetInfos": [],
       "removedWidgets": [],
       "type": "html"
      }
     },
     "output_type": "display_data"
    }
   ],
   "source": [
    "import pandas as pd\n",
    "\n",
    "pd.set_option('display.max_colwidth', 0)\n",
    "\n",
    "def get_rxnorm_codes (lp, text, vocab='rxnorm_code'):\n",
    "    \n",
    "    full_light_result = lp.fullAnnotate(text)\n",
    "\n",
    "    chunks = []\n",
    "    codes = []\n",
    "    begin = []\n",
    "    end = []\n",
    "    resolutions=[]\n",
    "    entities=[]\n",
    "    all_distances =[]\n",
    "    all_codes=[]\n",
    "    \n",
    "    for chunk, code in zip(full_light_result[0]['ner_chunk'], full_light_result[0][vocab]):\n",
    "            \n",
    "        begin.append(chunk.begin)\n",
    "        end.append(chunk.end)\n",
    "        chunks.append(chunk.result)\n",
    "        entities.append(chunk.metadata['entity']) \n",
    "        codes.append(code.result) \n",
    "        all_codes.append(code.metadata['all_k_results'].split(':::'))\n",
    "        resolutions.append(code.metadata['all_k_resolutions'].split(':::'))\n",
    "        all_distances.append(code.metadata['all_k_distances'].split(':::'))\n",
    "\n",
    "    df = pd.DataFrame({'chunks':chunks, 'begin': begin, 'end':end, 'entity':entities,\n",
    "                    'code':codes,'all_codes':all_codes, \n",
    "                    'resolutions':resolutions, 'all_distances':all_distances})\n",
    "\n",
    "    \n",
    "    return df\n",
    "\n"
   ]
  },
  {
   "cell_type": "code",
   "execution_count": 0,
   "metadata": {
    "application/vnd.databricks.v1+cell": {
     "inputWidgets": {},
     "nuid": "4aa365e8-4ffb-484c-a40d-0436b2dbee1c",
     "showTitle": false,
     "title": ""
    }
   },
   "outputs": [
    {
     "data": {
      "text/html": [
       "<style scoped>\n",
       "  .ansiout {\n",
       "    display: block;\n",
       "    unicode-bidi: embed;\n",
       "    white-space: pre-wrap;\n",
       "    word-wrap: break-word;\n",
       "    word-break: break-all;\n",
       "    font-family: \"Source Code Pro\", \"Menlo\", monospace;;\n",
       "    font-size: 13px;\n",
       "    color: #555;\n",
       "    margin-left: 4px;\n",
       "    line-height: 19px;\n",
       "  }\n",
       "</style>\n",
       "<div class=\"ansiout\">Out[121]: </div>"
      ]
     },
     "metadata": {
      "application/vnd.databricks.v1+output": {
       "addedWidgets": {},
       "arguments": {},
       "data": "<div class=\"ansiout\">Out[121]: </div>",
       "datasetInfos": [],
       "removedWidgets": [],
       "type": "html"
      }
     },
     "output_type": "display_data"
    },
    {
     "data": {
      "text/html": [
       "<div>\n",
       "<style scoped>\n",
       "    .dataframe tbody tr th:only-of-type {\n",
       "        vertical-align: middle;\n",
       "    }\n",
       "\n",
       "    .dataframe tbody tr th {\n",
       "        vertical-align: top;\n",
       "    }\n",
       "\n",
       "    .dataframe thead th {\n",
       "        text-align: right;\n",
       "    }\n",
       "</style>\n",
       "<table border=\"1\" class=\"dataframe\">\n",
       "  <thead>\n",
       "    <tr style=\"text-align: right;\">\n",
       "      <th></th>\n",
       "      <th>chunks</th>\n",
       "      <th>begin</th>\n",
       "      <th>end</th>\n",
       "      <th>entity</th>\n",
       "      <th>code</th>\n",
       "      <th>all_codes</th>\n",
       "      <th>resolutions</th>\n",
       "      <th>all_distances</th>\n",
       "    </tr>\n",
       "  </thead>\n",
       "  <tbody>\n",
       "    <tr>\n",
       "      <th>0</th>\n",
       "      <td>metformin 100 mg</td>\n",
       "      <td>0</td>\n",
       "      <td>15</td>\n",
       "      <td>None</td>\n",
       "      <td>406081</td>\n",
       "      <td>[406081, 576612, 403968, 861024, 404727, 334738, 332848, 861026, 333262, 439563, 450523, 1744000, 484793, 402346, 1726496, 316350, 858858, 336846, 316844, 1946837, 451225, 328507, 437723, 385601, 315677]</td>\n",
       "      <td>[metformin 100 mg/ml, metformin 100 mg/ml [riomet], metformin 100 mg/ml oral solution, metformin hydrochloride 100 mg/ml, metformin 100 mg/ml oral solution [riomet], fenofibrate 100 mg, ciprofibrate 100 mg, metformin hydrochloride 100 mg/ml [riomet], rutin 100 mg, fendiline 100 mg, perazine 100 mg, emtricitabine 100 mg, solifenacin 100 mg, miglustat 100 mg, azacitidine 100 mg, niacin 100 mg, carnosine 100 mg, trimebutine 100 mg, torsemide 100 mg, abemaciclib 100 mg, pyrantel 100 mg, rimantadine 100 mg, azintamide 100 mg, mebeverine 100 mg, cimetidine 100 mg]</td>\n",
       "      <td>[3.8387, 4.8433, 5.6433, 6.3835, 6.4686, 6.5293, 6.5728, 6.9061, 6.9297, 6.9511, 7.0943, 7.1014, 7.1202, 7.1323, 7.1327, 7.1425, 7.2076, 7.2118, 7.2518, 7.2531, 7.2533, 7.2761, 7.2802, 7.2915, 7.3286]</td>\n",
       "    </tr>\n",
       "  </tbody>\n",
       "</table>\n",
       "</div>"
      ]
     },
     "metadata": {
      "application/vnd.databricks.v1+output": {
       "addedWidgets": {},
       "arguments": {},
       "data": "<div>\n<style scoped>\n    .dataframe tbody tr th:only-of-type {\n        vertical-align: middle;\n    }\n\n    .dataframe tbody tr th {\n        vertical-align: top;\n    }\n\n    .dataframe thead th {\n        text-align: right;\n    }\n</style>\n<table border=\"1\" class=\"dataframe\">\n  <thead>\n    <tr style=\"text-align: right;\">\n      <th></th>\n      <th>chunks</th>\n      <th>begin</th>\n      <th>end</th>\n      <th>entity</th>\n      <th>code</th>\n      <th>all_codes</th>\n      <th>resolutions</th>\n      <th>all_distances</th>\n    </tr>\n  </thead>\n  <tbody>\n    <tr>\n      <th>0</th>\n      <td>metformin 100 mg</td>\n      <td>0</td>\n      <td>15</td>\n      <td>None</td>\n      <td>406081</td>\n      <td>[406081, 576612, 403968, 861024, 404727, 334738, 332848, 861026, 333262, 439563, 450523, 1744000, 484793, 402346, 1726496, 316350, 858858, 336846, 316844, 1946837, 451225, 328507, 437723, 385601, 315677]</td>\n      <td>[metformin 100 mg/ml, metformin 100 mg/ml [riomet], metformin 100 mg/ml oral solution, metformin hydrochloride 100 mg/ml, metformin 100 mg/ml oral solution [riomet], fenofibrate 100 mg, ciprofibrate 100 mg, metformin hydrochloride 100 mg/ml [riomet], rutin 100 mg, fendiline 100 mg, perazine 100 mg, emtricitabine 100 mg, solifenacin 100 mg, miglustat 100 mg, azacitidine 100 mg, niacin 100 mg, carnosine 100 mg, trimebutine 100 mg, torsemide 100 mg, abemaciclib 100 mg, pyrantel 100 mg, rimantadine 100 mg, azintamide 100 mg, mebeverine 100 mg, cimetidine 100 mg]</td>\n      <td>[3.8387, 4.8433, 5.6433, 6.3835, 6.4686, 6.5293, 6.5728, 6.9061, 6.9297, 6.9511, 7.0943, 7.1014, 7.1202, 7.1323, 7.1327, 7.1425, 7.2076, 7.2118, 7.2518, 7.2531, 7.2533, 7.2761, 7.2802, 7.2915, 7.3286]</td>\n    </tr>\n  </tbody>\n</table>\n</div>",
       "datasetInfos": [],
       "removedWidgets": [],
       "textData": null,
       "type": "htmlSandbox"
      }
     },
     "output_type": "display_data"
    }
   ],
   "source": [
    "text = 'metformin 100 mg'\n",
    "\n",
    "get_rxnorm_codes (rxnorm_lp, text, vocab='rxnorm_code')"
   ]
  },
  {
   "cell_type": "code",
   "execution_count": 0,
   "metadata": {
    "application/vnd.databricks.v1+cell": {
     "inputWidgets": {},
     "nuid": "0d49f4d4-fe2f-45cb-8a50-39d708c494c1",
     "showTitle": false,
     "title": ""
    }
   },
   "outputs": [
    {
     "data": {
      "text/html": [
       "<style scoped>\n",
       "  .ansiout {\n",
       "    display: block;\n",
       "    unicode-bidi: embed;\n",
       "    white-space: pre-wrap;\n",
       "    word-wrap: break-word;\n",
       "    word-break: break-all;\n",
       "    font-family: \"Source Code Pro\", \"Menlo\", monospace;;\n",
       "    font-size: 13px;\n",
       "    color: #555;\n",
       "    margin-left: 4px;\n",
       "    line-height: 19px;\n",
       "  }\n",
       "</style>\n",
       "<div class=\"ansiout\">Out[122]: </div>"
      ]
     },
     "metadata": {
      "application/vnd.databricks.v1+output": {
       "addedWidgets": {},
       "arguments": {},
       "data": "<div class=\"ansiout\">Out[122]: </div>",
       "datasetInfos": [],
       "removedWidgets": [],
       "type": "html"
      }
     },
     "output_type": "display_data"
    },
    {
     "data": {
      "text/html": [
       "<div>\n",
       "<style scoped>\n",
       "    .dataframe tbody tr th:only-of-type {\n",
       "        vertical-align: middle;\n",
       "    }\n",
       "\n",
       "    .dataframe tbody tr th {\n",
       "        vertical-align: top;\n",
       "    }\n",
       "\n",
       "    .dataframe thead th {\n",
       "        text-align: right;\n",
       "    }\n",
       "</style>\n",
       "<table border=\"1\" class=\"dataframe\">\n",
       "  <thead>\n",
       "    <tr style=\"text-align: right;\">\n",
       "      <th></th>\n",
       "      <th>chunks</th>\n",
       "      <th>begin</th>\n",
       "      <th>end</th>\n",
       "      <th>entity</th>\n",
       "      <th>code</th>\n",
       "      <th>all_codes</th>\n",
       "      <th>resolutions</th>\n",
       "      <th>all_distances</th>\n",
       "    </tr>\n",
       "  </thead>\n",
       "  <tbody>\n",
       "    <tr>\n",
       "      <th>0</th>\n",
       "      <td>aspirin 10 meq/ 5 ml oral sol</td>\n",
       "      <td>0</td>\n",
       "      <td>28</td>\n",
       "      <td>None</td>\n",
       "      <td>104920</td>\n",
       "      <td>[104920, 410146, 636574, 729048, 422031, 205247, 251102, 246529, 544468, 755941, 251830, 1117402, 422305, 241082, 245328, 604932, 247061, 604936, 2057152, 206399, 830193, 2057158, 252942, 794260, 428592]</td>\n",
       "      <td>[aspirin 500 mg / papaveretum 10 mg oral solution, cromoglicic acid 10 mg oral capsule, guaifenesin 10 mg/ml oral solution, pseudoephedrine tannate 10 mg/ml oral suspension, silymarin 10 mg/ml oral suspension, niacin 10 mg/ml oral solution, nimesulide 10 mg/ml oral suspension, midodrine 10 mg/ml oral solution, hypromellose 10 mg/ml oral solution, teferrol 10 mg/ml oral solution, mebeverine 10 mg/ml oral solution, guaifenesin 10 mg/ml oral solution [liqufruta], mebeverine 10 mg/ml oral suspension, methadyl acetate 10 mg/ml oral solution, cascara sagrada 10 mg/ml oral solution, ubidecarenone 10 mg/ml oral solution, periciazine 10 mg/ml oral solution, ubidecarenone 10 mg/ml oral solution [liquid co-q10], telmisartan 10 mg/ml oral solution, methadyl acetate 10 mg/ml oral solution [orlaam], opium tincture 10 mg/ml oral solution, telmisartan 10 mg/ml oral solution [semintra], bismuth subsalicylate 10 mg/ml oral suspension, ferrous sulfate 10 mg/ml oral solution, melitracen 10 mg / periciazine 0.5 mg oral tablet]</td>\n",
       "      <td>[6.3399, 7.3543, 7.4186, 7.4942, 7.5560, 7.6451, 7.6566, 7.7084, 7.7125, 7.7731, 7.8107, 7.8234, 7.8349, 7.8351, 7.8493, 7.8585, 7.8976, 7.9211, 7.9405, 7.9455, 7.9622, 7.9711, 8.0290, 8.0389, 8.0513]</td>\n",
       "    </tr>\n",
       "  </tbody>\n",
       "</table>\n",
       "</div>"
      ]
     },
     "metadata": {
      "application/vnd.databricks.v1+output": {
       "addedWidgets": {},
       "arguments": {},
       "data": "<div>\n<style scoped>\n    .dataframe tbody tr th:only-of-type {\n        vertical-align: middle;\n    }\n\n    .dataframe tbody tr th {\n        vertical-align: top;\n    }\n\n    .dataframe thead th {\n        text-align: right;\n    }\n</style>\n<table border=\"1\" class=\"dataframe\">\n  <thead>\n    <tr style=\"text-align: right;\">\n      <th></th>\n      <th>chunks</th>\n      <th>begin</th>\n      <th>end</th>\n      <th>entity</th>\n      <th>code</th>\n      <th>all_codes</th>\n      <th>resolutions</th>\n      <th>all_distances</th>\n    </tr>\n  </thead>\n  <tbody>\n    <tr>\n      <th>0</th>\n      <td>aspirin 10 meq/ 5 ml oral sol</td>\n      <td>0</td>\n      <td>28</td>\n      <td>None</td>\n      <td>104920</td>\n      <td>[104920, 410146, 636574, 729048, 422031, 205247, 251102, 246529, 544468, 755941, 251830, 1117402, 422305, 241082, 245328, 604932, 247061, 604936, 2057152, 206399, 830193, 2057158, 252942, 794260, 428592]</td>\n      <td>[aspirin 500 mg / papaveretum 10 mg oral solution, cromoglicic acid 10 mg oral capsule, guaifenesin 10 mg/ml oral solution, pseudoephedrine tannate 10 mg/ml oral suspension, silymarin 10 mg/ml oral suspension, niacin 10 mg/ml oral solution, nimesulide 10 mg/ml oral suspension, midodrine 10 mg/ml oral solution, hypromellose 10 mg/ml oral solution, teferrol 10 mg/ml oral solution, mebeverine 10 mg/ml oral solution, guaifenesin 10 mg/ml oral solution [liqufruta], mebeverine 10 mg/ml oral suspension, methadyl acetate 10 mg/ml oral solution, cascara sagrada 10 mg/ml oral solution, ubidecarenone 10 mg/ml oral solution, periciazine 10 mg/ml oral solution, ubidecarenone 10 mg/ml oral solution [liquid co-q10], telmisartan 10 mg/ml oral solution, methadyl acetate 10 mg/ml oral solution [orlaam], opium tincture 10 mg/ml oral solution, telmisartan 10 mg/ml oral solution [semintra], bismuth subsalicylate 10 mg/ml oral suspension, ferrous sulfate 10 mg/ml oral solution, melitracen 10 mg / periciazine 0.5 mg oral tablet]</td>\n      <td>[6.3399, 7.3543, 7.4186, 7.4942, 7.5560, 7.6451, 7.6566, 7.7084, 7.7125, 7.7731, 7.8107, 7.8234, 7.8349, 7.8351, 7.8493, 7.8585, 7.8976, 7.9211, 7.9405, 7.9455, 7.9622, 7.9711, 8.0290, 8.0389, 8.0513]</td>\n    </tr>\n  </tbody>\n</table>\n</div>",
       "datasetInfos": [],
       "removedWidgets": [],
       "textData": null,
       "type": "htmlSandbox"
      }
     },
     "output_type": "display_data"
    }
   ],
   "source": [
    "text = 'aspirin 10 meq/ 5 ml oral sol'\n",
    "\n",
    "get_rxnorm_codes (rxnorm_lp, text, 'rxnorm_code')"
   ]
  },
  {
   "cell_type": "markdown",
   "metadata": {
    "application/vnd.databricks.v1+cell": {
     "inputWidgets": {},
     "nuid": "3e10f0db-4513-42ee-9676-98cd9ef224c4",
     "showTitle": false,
     "title": ""
    }
   },
   "source": [
    "##RxNorm with DrugNormalizer"
   ]
  },
  {
   "cell_type": "code",
   "execution_count": 0,
   "metadata": {
    "application/vnd.databricks.v1+cell": {
     "inputWidgets": {},
     "nuid": "fb55e0c1-e565-4ace-b61b-318e7f5a02b0",
     "showTitle": false,
     "title": ""
    }
   },
   "outputs": [
    {
     "data": {
      "text/html": [
       "<style scoped>\n",
       "  .ansiout {\n",
       "    display: block;\n",
       "    unicode-bidi: embed;\n",
       "    white-space: pre-wrap;\n",
       "    word-wrap: break-word;\n",
       "    word-break: break-all;\n",
       "    font-family: \"Source Code Pro\", \"Menlo\", monospace;;\n",
       "    font-size: 13px;\n",
       "    color: #555;\n",
       "    margin-left: 4px;\n",
       "    line-height: 19px;\n",
       "  }\n",
       "</style>\n",
       "<div class=\"ansiout\"></div>"
      ]
     },
     "metadata": {
      "application/vnd.databricks.v1+output": {
       "addedWidgets": {},
       "arguments": {},
       "data": "<div class=\"ansiout\"></div>",
       "datasetInfos": [],
       "removedWidgets": [],
       "type": "html"
      }
     },
     "output_type": "display_data"
    }
   ],
   "source": [
    "documentAssembler = DocumentAssembler()\\\n",
    "      .setInputCol(\"text\")\\\n",
    "      .setOutputCol(\"ner_chunk_v0\")\n",
    "\n",
    "drug_normalizer = DrugNormalizer() \\\n",
    "      .setInputCols(\"ner_chunk_v0\") \\\n",
    "      .setOutputCol(\"ner_chunk\") \\\n",
    "      .setPolicy('all')\n",
    "\n",
    "rxnorm_pipelineModel2 = PipelineModel(\n",
    "    stages = [\n",
    "        documentAssembler,\n",
    "        drug_normalizer,\n",
    "        sbert_embedder,\n",
    "        rxnorm_resolver])\n",
    "\n",
    "rxnorm_lp2 = LightPipeline(rxnorm_pipelineModel2)"
   ]
  },
  {
   "cell_type": "code",
   "execution_count": 0,
   "metadata": {
    "application/vnd.databricks.v1+cell": {
     "inputWidgets": {},
     "nuid": "2807874e-7cbd-4db0-98a1-83f67d7f7a6f",
     "showTitle": false,
     "title": ""
    }
   },
   "outputs": [
    {
     "data": {
      "text/html": [
       "<style scoped>\n",
       "  .ansiout {\n",
       "    display: block;\n",
       "    unicode-bidi: embed;\n",
       "    white-space: pre-wrap;\n",
       "    word-wrap: break-word;\n",
       "    word-break: break-all;\n",
       "    font-family: \"Source Code Pro\", \"Menlo\", monospace;;\n",
       "    font-size: 13px;\n",
       "    color: #555;\n",
       "    margin-left: 4px;\n",
       "    line-height: 19px;\n",
       "  }\n",
       "</style>\n",
       "<div class=\"ansiout\">CPU times: user 13.7 ms, sys: 2.78 ms, total: 16.5 ms\n",
       "Wall time: 541 ms\n",
       "Out[126]: </div>"
      ]
     },
     "metadata": {
      "application/vnd.databricks.v1+output": {
       "addedWidgets": {},
       "arguments": {},
       "data": "<div class=\"ansiout\">CPU times: user 13.7 ms, sys: 2.78 ms, total: 16.5 ms\nWall time: 541 ms\nOut[126]: </div>",
       "datasetInfos": [],
       "removedWidgets": [],
       "type": "html"
      }
     },
     "output_type": "display_data"
    },
    {
     "data": {
      "text/html": [
       "<div>\n",
       "<style scoped>\n",
       "    .dataframe tbody tr th:only-of-type {\n",
       "        vertical-align: middle;\n",
       "    }\n",
       "\n",
       "    .dataframe tbody tr th {\n",
       "        vertical-align: top;\n",
       "    }\n",
       "\n",
       "    .dataframe thead th {\n",
       "        text-align: right;\n",
       "    }\n",
       "</style>\n",
       "<table border=\"1\" class=\"dataframe\">\n",
       "  <thead>\n",
       "    <tr style=\"text-align: right;\">\n",
       "      <th></th>\n",
       "      <th>chunks</th>\n",
       "      <th>begin</th>\n",
       "      <th>end</th>\n",
       "      <th>entity</th>\n",
       "      <th>code</th>\n",
       "      <th>all_codes</th>\n",
       "      <th>resolutions</th>\n",
       "      <th>all_distances</th>\n",
       "    </tr>\n",
       "  </thead>\n",
       "  <tbody>\n",
       "    <tr>\n",
       "      <th>0</th>\n",
       "      <td>aspirin 2 meq/ml oral solution</td>\n",
       "      <td>0</td>\n",
       "      <td>29</td>\n",
       "      <td>None</td>\n",
       "      <td>688214</td>\n",
       "      <td>[688214, 342917, 688213, 904947, 343786, 1192949, 755937, 756028, 104072, 343790, 246229, 755924, 309427, 755920, 756064, 756078, 607610, 756171, 1115998, 248847, 243387, 250944, 577157, 108870, 421803]</td>\n",
       "      <td>[aspirin 2.5 mg/ml oral solution, aspirin 2.2 mg/ml, aspirin 2.5 mg/ml, aspirin 2.7 mg/ml, aspirin 2.75 mg/ml, aspirin 2.71 mg/ml, periciazine 2 mg/ml oral solution, fenspiride 2 mg/ml oral solution, cimetidine 2 mg/ml oral solution, aspirin 2.12 mg/ml, thioridazine 2 mg/ml oral solution, carbetapentane 2 mg/ml oral solution, codeine 2 mg/ml oral solution, butamirate 2 mg/ml oral solution, oxeladin 2 mg/ml oral solution, pipazethate 2 mg/ml oral solution, memantine 2 mg/ml oral solution [namenda], selegiline 2 mg/ml oral solution, ephedrine sulfate 2.2 mg/ml oral solution, homatropine 2 mg/ml oral solution, docusate 2 mg/ml oral suspension, piracetam 2 mg/ml oral solution, memantine 2 mg/ml oral solution, theophylline 2 mg/ml oral solution, codeine 2 mg/ml oral suspension]</td>\n",
       "      <td>[4.3443, 5.5582, 6.3624, 6.3805, 7.0121, 7.1228, 7.1609, 7.4941, 7.5412, 7.7995, 7.8994, 7.9552, 7.9593, 7.9684, 7.9984, 8.0101, 8.0192, 8.0963, 8.1114, 8.1328, 8.1864, 8.1967, 8.2164, 8.2222, 8.2508]</td>\n",
       "    </tr>\n",
       "  </tbody>\n",
       "</table>\n",
       "</div>"
      ]
     },
     "metadata": {
      "application/vnd.databricks.v1+output": {
       "addedWidgets": {},
       "arguments": {},
       "data": "<div>\n<style scoped>\n    .dataframe tbody tr th:only-of-type {\n        vertical-align: middle;\n    }\n\n    .dataframe tbody tr th {\n        vertical-align: top;\n    }\n\n    .dataframe thead th {\n        text-align: right;\n    }\n</style>\n<table border=\"1\" class=\"dataframe\">\n  <thead>\n    <tr style=\"text-align: right;\">\n      <th></th>\n      <th>chunks</th>\n      <th>begin</th>\n      <th>end</th>\n      <th>entity</th>\n      <th>code</th>\n      <th>all_codes</th>\n      <th>resolutions</th>\n      <th>all_distances</th>\n    </tr>\n  </thead>\n  <tbody>\n    <tr>\n      <th>0</th>\n      <td>aspirin 2 meq/ml oral solution</td>\n      <td>0</td>\n      <td>29</td>\n      <td>None</td>\n      <td>688214</td>\n      <td>[688214, 342917, 688213, 904947, 343786, 1192949, 755937, 756028, 104072, 343790, 246229, 755924, 309427, 755920, 756064, 756078, 607610, 756171, 1115998, 248847, 243387, 250944, 577157, 108870, 421803]</td>\n      <td>[aspirin 2.5 mg/ml oral solution, aspirin 2.2 mg/ml, aspirin 2.5 mg/ml, aspirin 2.7 mg/ml, aspirin 2.75 mg/ml, aspirin 2.71 mg/ml, periciazine 2 mg/ml oral solution, fenspiride 2 mg/ml oral solution, cimetidine 2 mg/ml oral solution, aspirin 2.12 mg/ml, thioridazine 2 mg/ml oral solution, carbetapentane 2 mg/ml oral solution, codeine 2 mg/ml oral solution, butamirate 2 mg/ml oral solution, oxeladin 2 mg/ml oral solution, pipazethate 2 mg/ml oral solution, memantine 2 mg/ml oral solution [namenda], selegiline 2 mg/ml oral solution, ephedrine sulfate 2.2 mg/ml oral solution, homatropine 2 mg/ml oral solution, docusate 2 mg/ml oral suspension, piracetam 2 mg/ml oral solution, memantine 2 mg/ml oral solution, theophylline 2 mg/ml oral solution, codeine 2 mg/ml oral suspension]</td>\n      <td>[4.3443, 5.5582, 6.3624, 6.3805, 7.0121, 7.1228, 7.1609, 7.4941, 7.5412, 7.7995, 7.8994, 7.9552, 7.9593, 7.9684, 7.9984, 8.0101, 8.0192, 8.0963, 8.1114, 8.1328, 8.1864, 8.1967, 8.2164, 8.2222, 8.2508]</td>\n    </tr>\n  </tbody>\n</table>\n</div>",
       "datasetInfos": [],
       "removedWidgets": [],
       "textData": null,
       "type": "htmlSandbox"
      }
     },
     "output_type": "display_data"
    }
   ],
   "source": [
    "text = 'aspirin 10 meq/ 5 ml oral sol'\n",
    "\n",
    "get_rxnorm_codes (rxnorm_lp2, text, vocab='rxnorm_code')"
   ]
  },
  {
   "cell_type": "markdown",
   "metadata": {
    "application/vnd.databricks.v1+cell": {
     "inputWidgets": {},
     "nuid": "0180a8e7-7a7b-4dd8-9f69-5f34e47065aa",
     "showTitle": false,
     "title": ""
    }
   },
   "source": [
    "## Sentence Entity Resolver - SNOMED"
   ]
  },
  {
   "cell_type": "code",
   "execution_count": 0,
   "metadata": {
    "application/vnd.databricks.v1+cell": {
     "inputWidgets": {},
     "nuid": "0e18c738-077f-4879-99ab-6f561097dd25",
     "showTitle": false,
     "title": ""
    }
   },
   "outputs": [
    {
     "data": {
      "text/html": [
       "<style scoped>\n",
       "  .ansiout {\n",
       "    display: block;\n",
       "    unicode-bidi: embed;\n",
       "    white-space: pre-wrap;\n",
       "    word-wrap: break-word;\n",
       "    word-break: break-all;\n",
       "    font-family: \"Source Code Pro\", \"Menlo\", monospace;;\n",
       "    font-size: 13px;\n",
       "    color: #555;\n",
       "    margin-left: 4px;\n",
       "    line-height: 19px;\n",
       "  }\n",
       "</style>\n",
       "<div class=\"ansiout\">embeddings_clinical download started this may take some time.\n",
       "Approximate size to download 1.6 GB\n",
       "\r",
       "[ | ]\r",
       "[OK!]\n",
       "ner_clinical download started this may take some time.\n",
       "Approximate size to download 13.9 MB\n",
       "\r",
       "[ | ]\r",
       "[OK!]\n",
       "sbiobert_base_cased_mli download started this may take some time.\n",
       "Approximate size to download 384.3 MB\n",
       "\r",
       "[ | ]\r",
       "[OK!]\n",
       "sbiobertresolve_snomed_findings download started this may take some time.\n",
       "Approximate size to download 1.4 GB\n",
       "\r",
       "[ | ]\r",
       "[OK!]\n",
       "</div>"
      ]
     },
     "metadata": {
      "application/vnd.databricks.v1+output": {
       "addedWidgets": {},
       "arguments": {},
       "data": "<div class=\"ansiout\">embeddings_clinical download started this may take some time.\nApproximate size to download 1.6 GB\n\r[ | ]\r[OK!]\nner_clinical download started this may take some time.\nApproximate size to download 13.9 MB\n\r[ | ]\r[OK!]\nsbiobert_base_cased_mli download started this may take some time.\nApproximate size to download 384.3 MB\n\r[ | ]\r[OK!]\nsbiobertresolve_snomed_findings download started this may take some time.\nApproximate size to download 1.4 GB\n\r[ | ]\r[OK!]\n</div>",
       "datasetInfos": [],
       "removedWidgets": [],
       "type": "html"
      }
     },
     "output_type": "display_data"
    }
   ],
   "source": [
    "documentAssembler = DocumentAssembler()\\\n",
    "  .setInputCol(\"text\")\\\n",
    "  .setOutputCol(\"document\")\n",
    "\n",
    "sentenceDetector = SentenceDetector()\\\n",
    "  .setInputCols([\"document\"])\\\n",
    "  .setOutputCol(\"sentence\")\n",
    "\n",
    "tokenizer = Tokenizer()\\\n",
    "  .setInputCols([\"sentence\"])\\\n",
    "  .setOutputCol(\"token\")\\\n",
    "\n",
    "word_embeddings = WordEmbeddingsModel.pretrained(\"embeddings_clinical\", \"en\", \"clinical/models\")\\\n",
    "  .setInputCols([\"sentence\", \"token\"])\\\n",
    "  .setOutputCol(\"embeddings\")\n",
    "\n",
    "clinical_ner = MedicalNerModel.pretrained(\"ner_clinical\", \"en\", \"clinical/models\") \\\n",
    "  .setInputCols([\"sentence\", \"token\", \"embeddings\"]) \\\n",
    "  .setOutputCol(\"ner\")\n",
    "\n",
    "ner_converter = NerConverter() \\\n",
    "  .setInputCols([\"sentence\", \"token\", \"ner\"]) \\\n",
    "  .setOutputCol(\"ner_chunk\")\\\n",
    "  .setWhiteList(['PROBLEM'])\n",
    "\n",
    "c2doc = Chunk2Doc().setInputCols(\"ner_chunk\").setOutputCol(\"ner_chunk_doc\") \n",
    "\n",
    "bert_embeddings = BertSentenceEmbeddings.pretrained(\"sbiobert_base_cased_mli\", 'en', 'clinical/models')\\\n",
    "  .setInputCols([\"ner_chunk_doc\"])\\\n",
    "  .setOutputCol(\"bert_embeddings\")\n",
    "\n",
    "snomed_resolution = SentenceEntityResolverModel.pretrained(\"sbiobertresolve_snomed_findings\", \"en\", \"clinical/models\") \\\n",
    "  .setInputCols([\"ner_chunk\", \"bert_embeddings\"]) \\\n",
    "  .setOutputCol(\"snomed_code\")\n",
    "\n",
    "pipeline_snomed = Pipeline(\n",
    "    stages = [\n",
    "    documentAssembler,\n",
    "    sentenceDetector,\n",
    "    tokenizer,\n",
    "    word_embeddings,\n",
    "    clinical_ner,\n",
    "    ner_converter,\n",
    "    c2doc,\n",
    "    bert_embeddings,\n",
    "    snomed_resolution\n",
    "  ])\n"
   ]
  },
  {
   "cell_type": "code",
   "execution_count": 0,
   "metadata": {
    "application/vnd.databricks.v1+cell": {
     "inputWidgets": {},
     "nuid": "95a2b490-718c-40a9-a9fc-ca2212cd5917",
     "showTitle": false,
     "title": ""
    }
   },
   "outputs": [
    {
     "data": {
      "text/html": [
       "<style scoped>\n",
       "  .ansiout {\n",
       "    display: block;\n",
       "    unicode-bidi: embed;\n",
       "    white-space: pre-wrap;\n",
       "    word-wrap: break-word;\n",
       "    word-break: break-all;\n",
       "    font-family: \"Source Code Pro\", \"Menlo\", monospace;;\n",
       "    font-size: 13px;\n",
       "    color: #555;\n",
       "    margin-left: 4px;\n",
       "    line-height: 19px;\n",
       "  }\n",
       "</style>\n",
       "<div class=\"ansiout\"></div>"
      ]
     },
     "metadata": {
      "application/vnd.databricks.v1+output": {
       "addedWidgets": {},
       "arguments": {},
       "data": "<div class=\"ansiout\"></div>",
       "datasetInfos": [],
       "removedWidgets": [],
       "type": "html"
      }
     },
     "output_type": "display_data"
    }
   ],
   "source": [
    "clinical_note = (\n",
    "    'A 28-year-old female with a history of gestational diabetes mellitus diagnosed eight years '\n",
    "    'prior to presentation and subsequent type two diabetes mellitus (T2DM), one prior '\n",
    "    'episode of HTG-induced pancreatitis three years prior to presentation, associated '\n",
    "    'with an acute hepatitis, and obesity with a body mass index (BMI) of 33.5 kg/m2, '\n",
    "    'presented with a one-week history of polyuria, polydipsia, poor appetite, and vomiting. '\n",
    "    'Two weeks prior to presentation, she was treated with a five-day course of amoxicillin '\n",
    "    'for a respiratory tract infection. She was on metformin, glipizide, and dapagliflozin '\n",
    "    'for T2DM and atorvastatin and gemfibrozil for HTG. She had been on dapagliflozin for six months '\n",
    "    'at the time of presentation. Physical examination on presentation was significant for dry oral mucosa; '\n",
    "    'significantly, her abdominal examination was benign with no tenderness, guarding, or rigidity. Pertinent '\n",
    "    'laboratory findings on admission were: serum glucose 111 mg/dl, bicarbonate 18 mmol/l, anion gap 20, '\n",
    "    'creatinine 0.4 mg/dL, triglycerides 508 mg/dL, total cholesterol 122 mg/dL, glycated hemoglobin (HbA1c) '\n",
    "    '10%, and venous pH 7.27. Serum lipase was normal at 43 U/L. Serum acetone levels could not be assessed '\n",
    "    'as blood samples kept hemolyzing due to significant lipemia. The patient was initially admitted for '\n",
    "    'starvation ketosis, as she reported poor oral intake for three days prior to admission. However, '\n",
    "    'serum chemistry obtained six hours after presentation revealed her glucose was 186 mg/dL, the anion gap '\n",
    "    'was still elevated at 21, serum bicarbonate was 16 mmol/L, triglyceride level peaked at 2050 mg/dL, and '\n",
    "    'lipase was 52 U/L. The β-hydroxybutyrate level was obtained and found to be elevated at 5.29 mmol/L - '\n",
    "    'the original sample was centrifuged and the chylomicron layer removed prior to analysis due to '\n",
    "    'interference from turbidity caused by lipemia again. The patient was treated with an insulin drip '\n",
    "    'for euDKA and HTG with a reduction in the anion gap to 13 and triglycerides to 1400 mg/dL, within '\n",
    "    '24 hours. Her euDKA was thought to be precipitated by her respiratory tract infection in the setting '\n",
    "    'of SGLT2 inhibitor use. The patient was seen by the endocrinology service and she was discharged on '\n",
    "    '40 units of insulin glargine at night, 12 units of insulin lispro with meals, and metformin 1000 mg '\n",
    "    'two times a day. It was determined that all SGLT2 inhibitors should be discontinued indefinitely. She '\n",
    "    'had close follow-up with endocrinology post discharge.'\n",
    ")\n",
    "\n",
    "data_ner = spark.createDataFrame([[clinical_note]]).toDF(\"text\")\n",
    "\n",
    "snomed_output = pipeline_snomed.fit(data_ner).transform(data_ner)\n"
   ]
  },
  {
   "cell_type": "code",
   "execution_count": 0,
   "metadata": {
    "application/vnd.databricks.v1+cell": {
     "inputWidgets": {},
     "nuid": "89a49232-9346-4869-b014-066ff2628b67",
     "showTitle": false,
     "title": ""
    }
   },
   "outputs": [
    {
     "data": {
      "text/html": [
       "<style scoped>\n",
       "  .ansiout {\n",
       "    display: block;\n",
       "    unicode-bidi: embed;\n",
       "    white-space: pre-wrap;\n",
       "    word-wrap: break-word;\n",
       "    word-break: break-all;\n",
       "    font-family: \"Source Code Pro\", \"Menlo\", monospace;;\n",
       "    font-size: 13px;\n",
       "    color: #555;\n",
       "    margin-left: 4px;\n",
       "    line-height: 19px;\n",
       "  }\n",
       "</style>\n",
       "<div class=\"ansiout\">Out[206]: </div>"
      ]
     },
     "metadata": {
      "application/vnd.databricks.v1+output": {
       "addedWidgets": {},
       "arguments": {},
       "data": "<div class=\"ansiout\">Out[206]: </div>",
       "datasetInfos": [],
       "removedWidgets": [],
       "type": "html"
      }
     },
     "output_type": "display_data"
    },
    {
     "data": {
      "text/html": [
       "<div>\n",
       "<style scoped>\n",
       "    .dataframe tbody tr th:only-of-type {\n",
       "        vertical-align: middle;\n",
       "    }\n",
       "\n",
       "    .dataframe tbody tr th {\n",
       "        vertical-align: top;\n",
       "    }\n",
       "\n",
       "    .dataframe thead th {\n",
       "        text-align: right;\n",
       "    }\n",
       "</style>\n",
       "<table border=\"1\" class=\"dataframe\">\n",
       "  <thead>\n",
       "    <tr style=\"text-align: right;\">\n",
       "      <th></th>\n",
       "      <th>chunk</th>\n",
       "      <th>entity</th>\n",
       "      <th>target_text</th>\n",
       "      <th>snomed_code</th>\n",
       "      <th>distance</th>\n",
       "    </tr>\n",
       "  </thead>\n",
       "  <tbody>\n",
       "    <tr>\n",
       "      <th>0</th>\n",
       "      <td>gestational diabetes mellitus</td>\n",
       "      <td>PROBLEM</td>\n",
       "      <td>gestational diabetes mellitus:::gestational diabetes mellitus:::gestational diabetes mellitus:::gestational diabetes mellitus:::maternal gestational diabetes mellitus:::maternal diabetes mellitus:::postpartum gestational diabetes mellitus:::pre-e...</td>\n",
       "      <td>393568003</td>\n",
       "      <td>0.2475</td>\n",
       "    </tr>\n",
       "    <tr>\n",
       "      <th>1</th>\n",
       "      <td>subsequent type two diabetes mellitus</td>\n",
       "      <td>PROBLEM</td>\n",
       "      <td>pre-existing type 2 diabetes mellitus:::disorder associated with type 2 diabetes mellitus:::type 2 diabetes mellitus:::secondary diabetes mellitus:::multiple complications due to type 2 diabetes mellitus:::complication due to diabetes mellitus ty...</td>\n",
       "      <td>199230006</td>\n",
       "      <td>0.1653</td>\n",
       "    </tr>\n",
       "    <tr>\n",
       "      <th>2</th>\n",
       "      <td>T2DM</td>\n",
       "      <td>PROBLEM</td>\n",
       "      <td>type 2 diabetes mellitus:::disorder associated with type 2 diabetes mellitus:::pre-existing type 2 diabetes mellitus:::type ii diabetes mellitus:::diabetes mellitus:::diabetes mellitus:::diabetes mellitus:::diabetes mellitus:::secondary diabetes ...</td>\n",
       "      <td>44054006</td>\n",
       "      <td>0.1989</td>\n",
       "    </tr>\n",
       "    <tr>\n",
       "      <th>3</th>\n",
       "      <td>HTG-induced pancreatitis</td>\n",
       "      <td>PROBLEM</td>\n",
       "      <td>alcohol-induced pancreatitis:::drug-induced acute pancreatitis:::alcohol-induced acute pancreatitis:::hemorrhagic pancreatitis:::alcohol-induced chronic pancreatitis:::alcohol-induced chronic pancreatitis:::pancreatitis:::pancreatitis:::pancreati...</td>\n",
       "      <td>445507008</td>\n",
       "      <td>0.1443</td>\n",
       "    </tr>\n",
       "    <tr>\n",
       "      <th>4</th>\n",
       "      <td>an acute hepatitis</td>\n",
       "      <td>PROBLEM</td>\n",
       "      <td>acute hepatitis a:::acute hepatitis:::acute infectious hepatitis:::acute hepatitis e:::acute hepatitis e:::acute viral hepatitis:::acute focal hepatitis:::toxic liver disease with acute hepatitis:::acute fulminating type a viral hepatitis:::fulmi...</td>\n",
       "      <td>25102003</td>\n",
       "      <td>0.3444</td>\n",
       "    </tr>\n",
       "    <tr>\n",
       "      <th>5</th>\n",
       "      <td>obesity</td>\n",
       "      <td>PROBLEM</td>\n",
       "      <td>obesity:::obesity:::obesity:::abdominal obesity:::generalized obesity:::obese:::central obesity:::morbid obesity:::morbid obesity:::morbid obesity:::obese abdomen:::obese build:::severe obesity:::o/e - obese:::o/e - obese:::o/e - obese:::o/e - ob...</td>\n",
       "      <td>414916001</td>\n",
       "      <td>0.3193</td>\n",
       "    </tr>\n",
       "    <tr>\n",
       "      <th>6</th>\n",
       "      <td>a body mass index</td>\n",
       "      <td>PROBLEM</td>\n",
       "      <td>finding of body mass index:::mass of body region:::mass of body structure:::a mass:::mass of upper limb:::head and neck mass:::mass of trunk:::mass of head:::finding of body composition:::finding of head circumference:::body positions:::preoccupa...</td>\n",
       "      <td>301331008</td>\n",
       "      <td>0.6762</td>\n",
       "    </tr>\n",
       "    <tr>\n",
       "      <th>7</th>\n",
       "      <td>polyuria</td>\n",
       "      <td>PROBLEM</td>\n",
       "      <td>polyuria:::polyuria:::polyuria:::polyuric state:::hematuria:::hematuria:::hematuria:::micturition frequency and polyuria:::uricosuria:::pollakiuria:::saccharopinuria:::saccharopinuria:::oligouria:::dysuria:::dysuria:::hematuria syndrome:::cystinu...</td>\n",
       "      <td>28442001</td>\n",
       "      <td>0.3330</td>\n",
       "    </tr>\n",
       "    <tr>\n",
       "      <th>8</th>\n",
       "      <td>polydipsia</td>\n",
       "      <td>PROBLEM</td>\n",
       "      <td>polydipsia:::polydipsia:::psychogenic polydipsia:::psychogenic polydipsia:::primary polydipsia:::polyhydramnios:::polyhydramnios:::polyhydramnios:::parasomnia:::polyalgia:::polyalgia:::polyphagia:::polyphagia:::biphasic stridor:::oscillopsia:::pa...</td>\n",
       "      <td>161847005</td>\n",
       "      <td>0.4972</td>\n",
       "    </tr>\n",
       "    <tr>\n",
       "      <th>9</th>\n",
       "      <td>poor appetite</td>\n",
       "      <td>PROBLEM</td>\n",
       "      <td>poor appetite:::lack of appetite:::lack of appetite:::poor feeding:::loss of appetite:::loss of appetite:::bad taste in mouth:::bad taste in mouth:::bad taste in mouth:::bad taste in mouth:::decreased sense of taste:::poor fluid intake:::bad brea...</td>\n",
       "      <td>64379006</td>\n",
       "      <td>0.9835</td>\n",
       "    </tr>\n",
       "    <tr>\n",
       "      <th>10</th>\n",
       "      <td>vomiting</td>\n",
       "      <td>PROBLEM</td>\n",
       "      <td>vomiting:::vomiting:::vomiting:::vomiting:::vomiting:::vomiting:::intermittent vomiting:::vomiting symptoms:::vomit ph:::vomit ph:::persistent vomiting:::persistent vomiting:::periodic vomiting:::functional vomiting:::finding of vomiting:::c/o - ...</td>\n",
       "      <td>139335002</td>\n",
       "      <td>0.1648</td>\n",
       "    </tr>\n",
       "    <tr>\n",
       "      <th>11</th>\n",
       "      <td>a respiratory tract infection</td>\n",
       "      <td>PROBLEM</td>\n",
       "      <td>respiratory tract infection:::respiratory tract infection:::upper respiratory tract infection:::bacterial respiratory infection:::acute respiratory infection:::upper respiratory bacterial infection:::upper respiratory bacterial infection:::bronch...</td>\n",
       "      <td>195745009</td>\n",
       "      <td>0.3611</td>\n",
       "    </tr>\n",
       "    <tr>\n",
       "      <th>12</th>\n",
       "      <td>T2DM</td>\n",
       "      <td>PROBLEM</td>\n",
       "      <td>type 2 diabetes mellitus:::disorder associated with type 2 diabetes mellitus:::pre-existing type 2 diabetes mellitus:::type ii diabetes mellitus:::diabetes mellitus:::diabetes mellitus:::diabetes mellitus:::diabetes mellitus:::secondary diabetes ...</td>\n",
       "      <td>44054006</td>\n",
       "      <td>0.1989</td>\n",
       "    </tr>\n",
       "    <tr>\n",
       "      <th>13</th>\n",
       "      <td>HTG</td>\n",
       "      <td>PROBLEM</td>\n",
       "      <td>thomas' sign:::tndm1:::homoiothermy:::hmsn v:::thomas syndrome:::gerbich type:::geotrichosis:::geotrichosis:::hydrargyrism:::hydrargyrism:::histidinaemia:::histidinaemia:::hmsn:::hmsn:::hmsn iv:::lentiglobus:::lentiglobus:::finding of hiv status:...</td>\n",
       "      <td>68193004</td>\n",
       "      <td>0.0913</td>\n",
       "    </tr>\n",
       "    <tr>\n",
       "      <th>14</th>\n",
       "      <td>dry oral mucosa</td>\n",
       "      <td>PROBLEM</td>\n",
       "      <td>dry lips:::dry lips:::dry skin:::dry throat:::dry tongue:::dry hair:::dry mouth:::dry mouth:::dry mouth:::dry mouth:::c/o: dry skin:::dry periwound skin:::o/e - dry skin:::o/e - dry skin:::dry eyes:::[x]dry mouth, unspecified:::extremely dry skin...</td>\n",
       "      <td>16459000</td>\n",
       "      <td>0.1102</td>\n",
       "    </tr>\n",
       "    <tr>\n",
       "      <th>15</th>\n",
       "      <td>tenderness</td>\n",
       "      <td>PROBLEM</td>\n",
       "      <td>tenderness:::tenderness:::tenderness finding:::o/e - tenderness:::o/e - tenderness:::o/e - tenderness:::facial tenderness (finding):::tenderness of body region:::tender muscles (finding):::tenderness of body structure:::joint tender (finding):::s...</td>\n",
       "      <td>247348008</td>\n",
       "      <td>0.4963</td>\n",
       "    </tr>\n",
       "    <tr>\n",
       "      <th>16</th>\n",
       "      <td>guarding</td>\n",
       "      <td>PROBLEM</td>\n",
       "      <td>guarding:::resource guarding:::anatomical site guarding:::protective alteration:::posture:::aids:::reflecting:::focusing:::focusing:::monitoring status:::straining:::consciousness:::emotional state:::competence:::suspicion:::protective clothing w...</td>\n",
       "      <td>250072004</td>\n",
       "      <td>0.9979</td>\n",
       "    </tr>\n",
       "    <tr>\n",
       "      <th>17</th>\n",
       "      <td>rigidity</td>\n",
       "      <td>PROBLEM</td>\n",
       "      <td>rigid character:::rigid chest (finding):::rigid gait:::hymen - rigid:::hymen - rigid:::decorticate rigidity:::muscle rigidity (finding):::emotional stability:::emotional stability:::diffuse rigidity:::rigid hymen (finding):::rigid hymen:::vitalit...</td>\n",
       "      <td>69193009</td>\n",
       "      <td>0.7250</td>\n",
       "    </tr>\n",
       "    <tr>\n",
       "      <th>18</th>\n",
       "      <td>hemolyzing</td>\n",
       "      <td>PROBLEM</td>\n",
       "      <td>hemolysis:::hemolysis:::sample hemolyzed:::hematopsia:::hemolysin factor:::extravascular hemolysis:::extravascular hemolysis:::hemocytophagia:::mechanical hemolytic anemia:::mechanical hemolytic anemia:::intravascular haemolysis:::intravascular h...</td>\n",
       "      <td>73320003</td>\n",
       "      <td>0.3318</td>\n",
       "    </tr>\n",
       "    <tr>\n",
       "      <th>19</th>\n",
       "      <td>significant lipemia</td>\n",
       "      <td>PROBLEM</td>\n",
       "      <td>lipidaemia:::lipids abnormal:::lipids abnormal:::serum lipids high (finding):::serum lipids high (finding):::lipidoses:::lipidoses:::lipidoses:::high lipase level in serum:::sample grossly lipaemic:::liparitosis:::hyperlipidaemia:::hyperlipidaemi...</td>\n",
       "      <td>55822004</td>\n",
       "      <td>0.1273</td>\n",
       "    </tr>\n",
       "    <tr>\n",
       "      <th>20</th>\n",
       "      <td>starvation ketosis</td>\n",
       "      <td>PROBLEM</td>\n",
       "      <td>starvation ketoacidosis:::ketosis (disorder):::ruminant ketosis (disorder):::ketoacidosis (disorder):::ketoacidemia nec:::starvation-related malnutrition (disorder):::ovine ketosis:::pseudoathetosis:::hyperglycinaemia with ketosis and leucopenia:...</td>\n",
       "      <td>55178001</td>\n",
       "      <td>0.5493</td>\n",
       "    </tr>\n",
       "    <tr>\n",
       "      <th>21</th>\n",
       "      <td>poor oral intake</td>\n",
       "      <td>PROBLEM</td>\n",
       "      <td>inadequate oral intake:::poor oral hygiene:::inadequate food intake:::inadequate food intake:::inadequate oral fluid intake:::poor fluid intake:::poor feeding:::deficient knowledge of oral hygiene:::bad taste in mouth:::bad taste in mouth:::bad t...</td>\n",
       "      <td>440321000124101</td>\n",
       "      <td>0.7079</td>\n",
       "    </tr>\n",
       "    <tr>\n",
       "      <th>22</th>\n",
       "      <td>still elevated</td>\n",
       "      <td>PROBLEM</td>\n",
       "      <td>alive:::persistent character:::deviation remains manifest:::body temperature above normal (finding):::esr raised:::increased density:::tu elevation:::height above average:::prolonged periods (finding):::inr raised:::feeling high:::awake:::upright...</td>\n",
       "      <td>438949009</td>\n",
       "      <td>0.1324</td>\n",
       "    </tr>\n",
       "    <tr>\n",
       "      <th>23</th>\n",
       "      <td>elevated</td>\n",
       "      <td>PROBLEM</td>\n",
       "      <td>inr raised:::esr raised:::increased density:::tu elevation:::climbs:::pr elevation:::height above average:::increased size:::high head:::temperature raised:::increased markings:::temperature elevated:::increase in size:::feeling high:::thickening...</td>\n",
       "      <td>313341008</td>\n",
       "      <td>0.1931</td>\n",
       "    </tr>\n",
       "    <tr>\n",
       "      <th>24</th>\n",
       "      <td>interference from turbidity</td>\n",
       "      <td>PROBLEM</td>\n",
       "      <td>finding of turbidity of fluid:::decreased turbidity:::interference dissociation:::shunting vascular flow:::exposure to non-mechanical force (finding):::fall from scaffold:::retrusive occlusion:::interference with vision:::sample turbid:::discolor...</td>\n",
       "      <td>365669006</td>\n",
       "      <td>0.2209</td>\n",
       "    </tr>\n",
       "    <tr>\n",
       "      <th>25</th>\n",
       "      <td>lipemia</td>\n",
       "      <td>PROBLEM</td>\n",
       "      <td>lipidaemia:::lipid level:::lipidoses:::lipidoses:::lipidoses:::anemia:::anemia:::anemia:::liparitosis:::sample lipemic:::cystinaemia:::bandemia:::valinaemia:::lipids abnormal:::lipids abnormal:::leucopenia (finding):::pyaemia:::lip line:::serum l...</td>\n",
       "      <td>55822004</td>\n",
       "      <td>0.2708</td>\n",
       "    </tr>\n",
       "    <tr>\n",
       "      <th>26</th>\n",
       "      <td>euDKA</td>\n",
       "      <td>PROBLEM</td>\n",
       "      <td>lvh by ekg:::ekg axis finding:::rvh by ekg:::digitalis effect by ekg (finding):::ekg finding:::ekg finding:::lah by ekg:::knock knee - acquired:::knock knee - acquired:::ectactic nodes:::erysipelothrix:::o/e - knee reflex:::o/e - knee reflex:::kn...</td>\n",
       "      <td>25488008</td>\n",
       "      <td>0.1487</td>\n",
       "    </tr>\n",
       "    <tr>\n",
       "      <th>27</th>\n",
       "      <td>HTG</td>\n",
       "      <td>PROBLEM</td>\n",
       "      <td>thomas' sign:::tndm1:::homoiothermy:::hmsn v:::thomas syndrome:::gerbich type:::geotrichosis:::geotrichosis:::hydrargyrism:::hydrargyrism:::histidinaemia:::histidinaemia:::hmsn:::hmsn:::hmsn iv:::lentiglobus:::lentiglobus:::finding of hiv status:...</td>\n",
       "      <td>68193004</td>\n",
       "      <td>0.0913</td>\n",
       "    </tr>\n",
       "    <tr>\n",
       "      <th>28</th>\n",
       "      <td>her respiratory tract infection</td>\n",
       "      <td>PROBLEM</td>\n",
       "      <td>respiratory tract infection:::respiratory tract infection:::bacterial respiratory infection:::institution-acquired respiratory infection:::viral respiratory infection:::acute respiratory infection:::acute respiratory infections:::acute respirator...</td>\n",
       "      <td>195745009</td>\n",
       "      <td>0.2024</td>\n",
       "    </tr>\n",
       "  </tbody>\n",
       "</table>\n",
       "</div>"
      ]
     },
     "metadata": {
      "application/vnd.databricks.v1+output": {
       "addedWidgets": {},
       "arguments": {},
       "data": "<div>\n<style scoped>\n    .dataframe tbody tr th:only-of-type {\n        vertical-align: middle;\n    }\n\n    .dataframe tbody tr th {\n        vertical-align: top;\n    }\n\n    .dataframe thead th {\n        text-align: right;\n    }\n</style>\n<table border=\"1\" class=\"dataframe\">\n  <thead>\n    <tr style=\"text-align: right;\">\n      <th></th>\n      <th>chunk</th>\n      <th>entity</th>\n      <th>target_text</th>\n      <th>snomed_code</th>\n      <th>distance</th>\n    </tr>\n  </thead>\n  <tbody>\n    <tr>\n      <th>0</th>\n      <td>gestational diabetes mellitus</td>\n      <td>PROBLEM</td>\n      <td>gestational diabetes mellitus:::gestational diabetes mellitus:::gestational diabetes mellitus:::gestational diabetes mellitus:::maternal gestational diabetes mellitus:::maternal diabetes mellitus:::postpartum gestational diabetes mellitus:::pre-e...</td>\n      <td>393568003</td>\n      <td>0.2475</td>\n    </tr>\n    <tr>\n      <th>1</th>\n      <td>subsequent type two diabetes mellitus</td>\n      <td>PROBLEM</td>\n      <td>pre-existing type 2 diabetes mellitus:::disorder associated with type 2 diabetes mellitus:::type 2 diabetes mellitus:::secondary diabetes mellitus:::multiple complications due to type 2 diabetes mellitus:::complication due to diabetes mellitus ty...</td>\n      <td>199230006</td>\n      <td>0.1653</td>\n    </tr>\n    <tr>\n      <th>2</th>\n      <td>T2DM</td>\n      <td>PROBLEM</td>\n      <td>type 2 diabetes mellitus:::disorder associated with type 2 diabetes mellitus:::pre-existing type 2 diabetes mellitus:::type ii diabetes mellitus:::diabetes mellitus:::diabetes mellitus:::diabetes mellitus:::diabetes mellitus:::secondary diabetes ...</td>\n      <td>44054006</td>\n      <td>0.1989</td>\n    </tr>\n    <tr>\n      <th>3</th>\n      <td>HTG-induced pancreatitis</td>\n      <td>PROBLEM</td>\n      <td>alcohol-induced pancreatitis:::drug-induced acute pancreatitis:::alcohol-induced acute pancreatitis:::hemorrhagic pancreatitis:::alcohol-induced chronic pancreatitis:::alcohol-induced chronic pancreatitis:::pancreatitis:::pancreatitis:::pancreati...</td>\n      <td>445507008</td>\n      <td>0.1443</td>\n    </tr>\n    <tr>\n      <th>4</th>\n      <td>an acute hepatitis</td>\n      <td>PROBLEM</td>\n      <td>acute hepatitis a:::acute hepatitis:::acute infectious hepatitis:::acute hepatitis e:::acute hepatitis e:::acute viral hepatitis:::acute focal hepatitis:::toxic liver disease with acute hepatitis:::acute fulminating type a viral hepatitis:::fulmi...</td>\n      <td>25102003</td>\n      <td>0.3444</td>\n    </tr>\n    <tr>\n      <th>5</th>\n      <td>obesity</td>\n      <td>PROBLEM</td>\n      <td>obesity:::obesity:::obesity:::abdominal obesity:::generalized obesity:::obese:::central obesity:::morbid obesity:::morbid obesity:::morbid obesity:::obese abdomen:::obese build:::severe obesity:::o/e - obese:::o/e - obese:::o/e - obese:::o/e - ob...</td>\n      <td>414916001</td>\n      <td>0.3193</td>\n    </tr>\n    <tr>\n      <th>6</th>\n      <td>a body mass index</td>\n      <td>PROBLEM</td>\n      <td>finding of body mass index:::mass of body region:::mass of body structure:::a mass:::mass of upper limb:::head and neck mass:::mass of trunk:::mass of head:::finding of body composition:::finding of head circumference:::body positions:::preoccupa...</td>\n      <td>301331008</td>\n      <td>0.6762</td>\n    </tr>\n    <tr>\n      <th>7</th>\n      <td>polyuria</td>\n      <td>PROBLEM</td>\n      <td>polyuria:::polyuria:::polyuria:::polyuric state:::hematuria:::hematuria:::hematuria:::micturition frequency and polyuria:::uricosuria:::pollakiuria:::saccharopinuria:::saccharopinuria:::oligouria:::dysuria:::dysuria:::hematuria syndrome:::cystinu...</td>\n      <td>28442001</td>\n      <td>0.3330</td>\n    </tr>\n    <tr>\n      <th>8</th>\n      <td>polydipsia</td>\n      <td>PROBLEM</td>\n      <td>polydipsia:::polydipsia:::psychogenic polydipsia:::psychogenic polydipsia:::primary polydipsia:::polyhydramnios:::polyhydramnios:::polyhydramnios:::parasomnia:::polyalgia:::polyalgia:::polyphagia:::polyphagia:::biphasic stridor:::oscillopsia:::pa...</td>\n      <td>161847005</td>\n      <td>0.4972</td>\n    </tr>\n    <tr>\n      <th>9</th>\n      <td>poor appetite</td>\n      <td>PROBLEM</td>\n      <td>poor appetite:::lack of appetite:::lack of appetite:::poor feeding:::loss of appetite:::loss of appetite:::bad taste in mouth:::bad taste in mouth:::bad taste in mouth:::bad taste in mouth:::decreased sense of taste:::poor fluid intake:::bad brea...</td>\n      <td>64379006</td>\n      <td>0.9835</td>\n    </tr>\n    <tr>\n      <th>10</th>\n      <td>vomiting</td>\n      <td>PROBLEM</td>\n      <td>vomiting:::vomiting:::vomiting:::vomiting:::vomiting:::vomiting:::intermittent vomiting:::vomiting symptoms:::vomit ph:::vomit ph:::persistent vomiting:::persistent vomiting:::periodic vomiting:::functional vomiting:::finding of vomiting:::c/o - ...</td>\n      <td>139335002</td>\n      <td>0.1648</td>\n    </tr>\n    <tr>\n      <th>11</th>\n      <td>a respiratory tract infection</td>\n      <td>PROBLEM</td>\n      <td>respiratory tract infection:::respiratory tract infection:::upper respiratory tract infection:::bacterial respiratory infection:::acute respiratory infection:::upper respiratory bacterial infection:::upper respiratory bacterial infection:::bronch...</td>\n      <td>195745009</td>\n      <td>0.3611</td>\n    </tr>\n    <tr>\n      <th>12</th>\n      <td>T2DM</td>\n      <td>PROBLEM</td>\n      <td>type 2 diabetes mellitus:::disorder associated with type 2 diabetes mellitus:::pre-existing type 2 diabetes mellitus:::type ii diabetes mellitus:::diabetes mellitus:::diabetes mellitus:::diabetes mellitus:::diabetes mellitus:::secondary diabetes ...</td>\n      <td>44054006</td>\n      <td>0.1989</td>\n    </tr>\n    <tr>\n      <th>13</th>\n      <td>HTG</td>\n      <td>PROBLEM</td>\n      <td>thomas' sign:::tndm1:::homoiothermy:::hmsn v:::thomas syndrome:::gerbich type:::geotrichosis:::geotrichosis:::hydrargyrism:::hydrargyrism:::histidinaemia:::histidinaemia:::hmsn:::hmsn:::hmsn iv:::lentiglobus:::lentiglobus:::finding of hiv status:...</td>\n      <td>68193004</td>\n      <td>0.0913</td>\n    </tr>\n    <tr>\n      <th>14</th>\n      <td>dry oral mucosa</td>\n      <td>PROBLEM</td>\n      <td>dry lips:::dry lips:::dry skin:::dry throat:::dry tongue:::dry hair:::dry mouth:::dry mouth:::dry mouth:::dry mouth:::c/o: dry skin:::dry periwound skin:::o/e - dry skin:::o/e - dry skin:::dry eyes:::[x]dry mouth, unspecified:::extremely dry skin...</td>\n      <td>16459000</td>\n      <td>0.1102</td>\n    </tr>\n    <tr>\n      <th>15</th>\n      <td>tenderness</td>\n      <td>PROBLEM</td>\n      <td>tenderness:::tenderness:::tenderness finding:::o/e - tenderness:::o/e - tenderness:::o/e - tenderness:::facial tenderness (finding):::tenderness of body region:::tender muscles (finding):::tenderness of body structure:::joint tender (finding):::s...</td>\n      <td>247348008</td>\n      <td>0.4963</td>\n    </tr>\n    <tr>\n      <th>16</th>\n      <td>guarding</td>\n      <td>PROBLEM</td>\n      <td>guarding:::resource guarding:::anatomical site guarding:::protective alteration:::posture:::aids:::reflecting:::focusing:::focusing:::monitoring status:::straining:::consciousness:::emotional state:::competence:::suspicion:::protective clothing w...</td>\n      <td>250072004</td>\n      <td>0.9979</td>\n    </tr>\n    <tr>\n      <th>17</th>\n      <td>rigidity</td>\n      <td>PROBLEM</td>\n      <td>rigid character:::rigid chest (finding):::rigid gait:::hymen - rigid:::hymen - rigid:::decorticate rigidity:::muscle rigidity (finding):::emotional stability:::emotional stability:::diffuse rigidity:::rigid hymen (finding):::rigid hymen:::vitalit...</td>\n      <td>69193009</td>\n      <td>0.7250</td>\n    </tr>\n    <tr>\n      <th>18</th>\n      <td>hemolyzing</td>\n      <td>PROBLEM</td>\n      <td>hemolysis:::hemolysis:::sample hemolyzed:::hematopsia:::hemolysin factor:::extravascular hemolysis:::extravascular hemolysis:::hemocytophagia:::mechanical hemolytic anemia:::mechanical hemolytic anemia:::intravascular haemolysis:::intravascular h...</td>\n      <td>73320003</td>\n      <td>0.3318</td>\n    </tr>\n    <tr>\n      <th>19</th>\n      <td>significant lipemia</td>\n      <td>PROBLEM</td>\n      <td>lipidaemia:::lipids abnormal:::lipids abnormal:::serum lipids high (finding):::serum lipids high (finding):::lipidoses:::lipidoses:::lipidoses:::high lipase level in serum:::sample grossly lipaemic:::liparitosis:::hyperlipidaemia:::hyperlipidaemi...</td>\n      <td>55822004</td>\n      <td>0.1273</td>\n    </tr>\n    <tr>\n      <th>20</th>\n      <td>starvation ketosis</td>\n      <td>PROBLEM</td>\n      <td>starvation ketoacidosis:::ketosis (disorder):::ruminant ketosis (disorder):::ketoacidosis (disorder):::ketoacidemia nec:::starvation-related malnutrition (disorder):::ovine ketosis:::pseudoathetosis:::hyperglycinaemia with ketosis and leucopenia:...</td>\n      <td>55178001</td>\n      <td>0.5493</td>\n    </tr>\n    <tr>\n      <th>21</th>\n      <td>poor oral intake</td>\n      <td>PROBLEM</td>\n      <td>inadequate oral intake:::poor oral hygiene:::inadequate food intake:::inadequate food intake:::inadequate oral fluid intake:::poor fluid intake:::poor feeding:::deficient knowledge of oral hygiene:::bad taste in mouth:::bad taste in mouth:::bad t...</td>\n      <td>440321000124101</td>\n      <td>0.7079</td>\n    </tr>\n    <tr>\n      <th>22</th>\n      <td>still elevated</td>\n      <td>PROBLEM</td>\n      <td>alive:::persistent character:::deviation remains manifest:::body temperature above normal (finding):::esr raised:::increased density:::tu elevation:::height above average:::prolonged periods (finding):::inr raised:::feeling high:::awake:::upright...</td>\n      <td>438949009</td>\n      <td>0.1324</td>\n    </tr>\n    <tr>\n      <th>23</th>\n      <td>elevated</td>\n      <td>PROBLEM</td>\n      <td>inr raised:::esr raised:::increased density:::tu elevation:::climbs:::pr elevation:::height above average:::increased size:::high head:::temperature raised:::increased markings:::temperature elevated:::increase in size:::feeling high:::thickening...</td>\n      <td>313341008</td>\n      <td>0.1931</td>\n    </tr>\n    <tr>\n      <th>24</th>\n      <td>interference from turbidity</td>\n      <td>PROBLEM</td>\n      <td>finding of turbidity of fluid:::decreased turbidity:::interference dissociation:::shunting vascular flow:::exposure to non-mechanical force (finding):::fall from scaffold:::retrusive occlusion:::interference with vision:::sample turbid:::discolor...</td>\n      <td>365669006</td>\n      <td>0.2209</td>\n    </tr>\n    <tr>\n      <th>25</th>\n      <td>lipemia</td>\n      <td>PROBLEM</td>\n      <td>lipidaemia:::lipid level:::lipidoses:::lipidoses:::lipidoses:::anemia:::anemia:::anemia:::liparitosis:::sample lipemic:::cystinaemia:::bandemia:::valinaemia:::lipids abnormal:::lipids abnormal:::leucopenia (finding):::pyaemia:::lip line:::serum l...</td>\n      <td>55822004</td>\n      <td>0.2708</td>\n    </tr>\n    <tr>\n      <th>26</th>\n      <td>euDKA</td>\n      <td>PROBLEM</td>\n      <td>lvh by ekg:::ekg axis finding:::rvh by ekg:::digitalis effect by ekg (finding):::ekg finding:::ekg finding:::lah by ekg:::knock knee - acquired:::knock knee - acquired:::ectactic nodes:::erysipelothrix:::o/e - knee reflex:::o/e - knee reflex:::kn...</td>\n      <td>25488008</td>\n      <td>0.1487</td>\n    </tr>\n    <tr>\n      <th>27</th>\n      <td>HTG</td>\n      <td>PROBLEM</td>\n      <td>thomas' sign:::tndm1:::homoiothermy:::hmsn v:::thomas syndrome:::gerbich type:::geotrichosis:::geotrichosis:::hydrargyrism:::hydrargyrism:::histidinaemia:::histidinaemia:::hmsn:::hmsn:::hmsn iv:::lentiglobus:::lentiglobus:::finding of hiv status:...</td>\n      <td>68193004</td>\n      <td>0.0913</td>\n    </tr>\n    <tr>\n      <th>28</th>\n      <td>her respiratory tract infection</td>\n      <td>PROBLEM</td>\n      <td>respiratory tract infection:::respiratory tract infection:::bacterial respiratory infection:::institution-acquired respiratory infection:::viral respiratory infection:::acute respiratory infection:::acute respiratory infections:::acute respirator...</td>\n      <td>195745009</td>\n      <td>0.2024</td>\n    </tr>\n  </tbody>\n</table>\n</div>",
       "datasetInfos": [],
       "removedWidgets": [],
       "textData": null,
       "type": "htmlSandbox"
      }
     },
     "output_type": "display_data"
    }
   ],
   "source": [
    "df = snomed_output.select(F.explode(F.arrays_zip(\"ner_chunk.result\",\"ner_chunk.metadata\",\"snomed_code.result\",\"snomed_code.metadata\"))\\\n",
    "                          .alias(\"snomed_result\")) \\\n",
    "                  .select(F.expr(\"snomed_result['0']\").alias(\"chunk\"),\n",
    "                          F.expr(\"snomed_result['1'].entity\").alias(\"entity\"),\n",
    "                          F.expr(\"snomed_result['3'].all_k_resolutions\").alias(\"target_text\"),\n",
    "                          F.expr(\"snomed_result['2']\").alias(\"snomed_code\"),\n",
    "                          F.expr(\"snomed_result['3'].confidence\").alias(\"distance\")).toPandas()\n",
    "\n",
    "df"
   ]
  },
  {
   "cell_type": "markdown",
   "metadata": {
    "application/vnd.databricks.v1+cell": {
     "inputWidgets": {},
     "nuid": "303cff3e-2b60-4e84-beaa-6e86485428bd",
     "showTitle": false,
     "title": ""
    }
   },
   "source": [
    "### with SNOMED INT"
   ]
  },
  {
   "cell_type": "code",
   "execution_count": 0,
   "metadata": {
    "application/vnd.databricks.v1+cell": {
     "inputWidgets": {},
     "nuid": "57ce927f-bff2-4a79-90ce-abd0f38183a9",
     "showTitle": false,
     "title": ""
    }
   },
   "outputs": [
    {
     "data": {
      "text/html": [
       "<style scoped>\n",
       "  .ansiout {\n",
       "    display: block;\n",
       "    unicode-bidi: embed;\n",
       "    white-space: pre-wrap;\n",
       "    word-wrap: break-word;\n",
       "    word-break: break-all;\n",
       "    font-family: \"Source Code Pro\", \"Menlo\", monospace;;\n",
       "    font-size: 13px;\n",
       "    color: #555;\n",
       "    margin-left: 4px;\n",
       "    line-height: 19px;\n",
       "  }\n",
       "</style>\n",
       "<div class=\"ansiout\">sbiobertresolve_snomed_findings_int download started this may take some time.\n",
       "Approximate size to download 517.4 MB\n",
       "\r",
       "[ | ]\r",
       "[ / ]\r",
       "[ — ]\r",
       "[ \\ ]\r",
       "[ | ]\r",
       "[ / ]\r",
       "[ — ]\r",
       "[ \\ ]\r",
       "[ | ]\r",
       "[ / ]\r",
       "[ — ]\r",
       "[ \\ ]\r",
       "[ | ]\r",
       "[ / ]\r",
       "[ — ]\r",
       "[ \\ ]\r",
       "[ | ]\r",
       "[ / ]\r",
       "[ — ]\r",
       "[ \\ ]\r",
       "[ | ]\r",
       "[ / ]\r",
       "[ — ]\r",
       "[ \\ ]\r",
       "[ | ]\r",
       "[ / ]\r",
       "[ — ]\r",
       "[ \\ ]\r",
       "[ | ]\r",
       "[ / ]\r",
       "[ — ]\r",
       "[ \\ ]\r",
       "[ | ]\r",
       "[ / ]\r",
       "[ — ]\r",
       "[ \\ ]\r",
       "[ | ]\r",
       "[ / ]\r",
       "[ — ]\r",
       "[ \\ ]\r",
       "[ | ]\r",
       "[ / ]\r",
       "[ — ]\r",
       "[ \\ ]\r",
       "[ | ]\r",
       "[ / ]\r",
       "[ — ]\r",
       "[ \\ ]\r",
       "[ | ]\r",
       "[ / ]\r",
       "[ — ]\r",
       "[ \\ ]\r",
       "[ | ]\r",
       "[ / ]\r",
       "[ — ]\r",
       "[ \\ ]\r",
       "[ | ]\r",
       "[ / ]\r",
       "[ — ]\r",
       "[ \\ ]\r",
       "[ | ]\r",
       "[ / ]\r",
       "[ — ]\r",
       "[ \\ ]\r",
       "[ | ]\r",
       "[ / ]\r",
       "[ — ]\r",
       "[ \\ ]\r",
       "[ | ]\r",
       "[ / ]\r",
       "[ — ]\r",
       "[ \\ ]\r",
       "[ | ]\r",
       "[ / ]\r",
       "[ — ]\r",
       "[ \\ ]\r",
       "[ | ]\r",
       "[ / ]\r",
       "[ — ]\r",
       "[ \\ ]\r",
       "[ | ]\r",
       "[ / ]\r",
       "[ — ]\r",
       "[ \\ ]\r",
       "[ | ]\r",
       "[ / ]\r",
       "[ — ]\r",
       "[ \\ ]\r",
       "[ | ]\r",
       "[ / ]\r",
       "[ — ]\r",
       "[ \\ ]\r",
       "[ | ]\r",
       "[ / ]\r",
       "[ — ]\r",
       "[ \\ ]\r",
       "[ | ]\r",
       "[ / ]\r",
       "[ — ]\r",
       "[ \\ ]\r",
       "[ | ]\r",
       "[ / ]\r",
       "[ — ]\r",
       "[ \\ ]\r",
       "[ | ]\r",
       "[ / ]\r",
       "[ — ]\r",
       "[ \\ ]\r",
       "[ | ]\r",
       "[ / ]\r",
       "[ — ]\r",
       "[ \\ ]\r",
       "[ | ]\r",
       "[ / ]\r",
       "[ — ]\r",
       "[ \\ ]\r",
       "[ | ]\r",
       "[ / ]\r",
       "[ — ]\r",
       "[ \\ ]\r",
       "[ | ]\r",
       "[ / ]\r",
       "[ — ]\r",
       "[ \\ ]\r",
       "[ | ]\r",
       "[ / ]\r",
       "[ — ]\r",
       "[ \\ ]\r",
       "[ | ]\r",
       "[ / ]\r",
       "[ — ]\r",
       "[ \\ ]\r",
       "[ | ]\r",
       "[ / ]\r",
       "[ — ]\r",
       "[ \\ ]\r",
       "[ | ]\r",
       "[ / ]\r",
       "[ — ]\r",
       "[ \\ ]\r",
       "[ | ]\r",
       "[ / ]\r",
       "[ — ]\r",
       "[ \\ ]\r",
       "[ | ]\r",
       "[ / ]\r",
       "[ — ]\r",
       "[ \\ ]\r",
       "[ | ]\r",
       "[ / ]\r",
       "[ — ]\r",
       "[ \\ ]\r",
       "[ | ]\r",
       "[ / ]\r",
       "[ — ]\r",
       "[ \\ ]\r",
       "[ | ]\r",
       "[ / ]\r",
       "[ — ]\r",
       "[ \\ ]\r",
       "[ | ]\r",
       "[ / ]\r",
       "[ — ]\r",
       "[ \\ ]\r",
       "[ | ]\r",
       "[ / ]\r",
       "[ — ]\r",
       "[ \\ ]\r",
       "[ | ]\r",
       "[ / ]\r",
       "[ — ]\r",
       "[ \\ ]\r",
       "[ | ]\r",
       "[ / ]\r",
       "[ — ]\r",
       "[ \\ ]\r",
       "[ | ]\r",
       "[ / ]\r",
       "[ — ]\r",
       "[ \\ ]\r",
       "[ | ]\r",
       "[ / ]\r",
       "[ — ]\r",
       "[ \\ ]\r",
       "[ | ]\r",
       "[ / ]\r",
       "[ — ]\r",
       "[ \\ ]\r",
       "[ | ]\r",
       "[ / ]\r",
       "[ — ]\r",
       "[ \\ ]\r",
       "[ | ]\r",
       "[ / ]\r",
       "[ — ]\r",
       "[ \\ ]\r",
       "[ | ]\r",
       "[ / ]\r",
       "[ — ]\r",
       "[ \\ ]\r",
       "[ | ]\r",
       "[ / ]\r",
       "[ — ]\r",
       "[ \\ ]\r",
       "[ | ]\r",
       "[ / ]\r",
       "[ — ]\r",
       "[ \\ ]\r",
       "[ | ]\r",
       "[ / ]\r",
       "[ — ]\r",
       "[ \\ ]\r",
       "[ | ]\r",
       "[ / ]\r",
       "[ — ]\r",
       "[ \\ ]\r",
       "[ | ]\r",
       "[ / ]\r",
       "[ — ]\r",
       "[ \\ ]\r",
       "[ | ]\r",
       "[ / ]\r",
       "[ — ]\r",
       "[ \\ ]\r",
       "[ | ]\r",
       "[ / ]\r",
       "[ — ]\r",
       "[ \\ ]\r",
       "[ | ]\r",
       "[ / ]\r",
       "[ — ]\r",
       "[ \\ ]\r",
       "[ | ]\r",
       "[ / ]\r",
       "[ — ]\r",
       "[ \\ ]\r",
       "[ | ]\r",
       "[ / ]\r",
       "[ — ]\r",
       "[ \\ ]\r",
       "[OK!]\n",
       "</div>"
      ]
     },
     "metadata": {
      "application/vnd.databricks.v1+output": {
       "addedWidgets": {},
       "arguments": {},
       "data": "<div class=\"ansiout\">sbiobertresolve_snomed_findings_int download started this may take some time.\nApproximate size to download 517.4 MB\n\r[ | ]\r[ / ]\r[ — ]\r[ \\ ]\r[ | ]\r[ / ]\r[ — ]\r[ \\ ]\r[ | ]\r[ / ]\r[ — ]\r[ \\ ]\r[ | ]\r[ / ]\r[ — ]\r[ \\ ]\r[ | ]\r[ / ]\r[ — ]\r[ \\ ]\r[ | ]\r[ / ]\r[ — ]\r[ \\ ]\r[ | ]\r[ / ]\r[ — ]\r[ \\ ]\r[ | ]\r[ / ]\r[ — ]\r[ \\ ]\r[ | ]\r[ / ]\r[ — ]\r[ \\ ]\r[ | ]\r[ / ]\r[ — ]\r[ \\ ]\r[ | ]\r[ / ]\r[ — ]\r[ \\ ]\r[ | ]\r[ / ]\r[ — ]\r[ \\ ]\r[ | ]\r[ / ]\r[ — ]\r[ \\ ]\r[ | ]\r[ / ]\r[ — ]\r[ \\ ]\r[ | ]\r[ / ]\r[ — ]\r[ \\ ]\r[ | ]\r[ / ]\r[ — ]\r[ \\ ]\r[ | ]\r[ / ]\r[ — ]\r[ \\ ]\r[ | ]\r[ / ]\r[ — ]\r[ \\ ]\r[ | ]\r[ / ]\r[ — ]\r[ \\ ]\r[ | ]\r[ / ]\r[ — ]\r[ \\ ]\r[ | ]\r[ / ]\r[ — ]\r[ \\ ]\r[ | ]\r[ / ]\r[ — ]\r[ \\ ]\r[ | ]\r[ / ]\r[ — ]\r[ \\ ]\r[ | ]\r[ / ]\r[ — ]\r[ \\ ]\r[ | ]\r[ / ]\r[ — ]\r[ \\ ]\r[ | ]\r[ / ]\r[ — ]\r[ \\ ]\r[ | ]\r[ / ]\r[ — ]\r[ \\ ]\r[ | ]\r[ / ]\r[ — ]\r[ \\ ]\r[ | ]\r[ / ]\r[ — ]\r[ \\ ]\r[ | ]\r[ / ]\r[ — ]\r[ \\ ]\r[ | ]\r[ / ]\r[ — ]\r[ \\ ]\r[ | ]\r[ / ]\r[ — ]\r[ \\ ]\r[ | ]\r[ / ]\r[ — ]\r[ \\ ]\r[ | ]\r[ / ]\r[ — ]\r[ \\ ]\r[ | ]\r[ / ]\r[ — ]\r[ \\ ]\r[ | ]\r[ / ]\r[ — ]\r[ \\ ]\r[ | ]\r[ / ]\r[ — ]\r[ \\ ]\r[ | ]\r[ / ]\r[ — ]\r[ \\ ]\r[ | ]\r[ / ]\r[ — ]\r[ \\ ]\r[ | ]\r[ / ]\r[ — ]\r[ \\ ]\r[ | ]\r[ / ]\r[ — ]\r[ \\ ]\r[ | ]\r[ / ]\r[ — ]\r[ \\ ]\r[ | ]\r[ / ]\r[ — ]\r[ \\ ]\r[ | ]\r[ / ]\r[ — ]\r[ \\ ]\r[ | ]\r[ / ]\r[ — ]\r[ \\ ]\r[ | ]\r[ / ]\r[ — ]\r[ \\ ]\r[ | ]\r[ / ]\r[ — ]\r[ \\ ]\r[ | ]\r[ / ]\r[ — ]\r[ \\ ]\r[ | ]\r[ / ]\r[ — ]\r[ \\ ]\r[ | ]\r[ / ]\r[ — ]\r[ \\ ]\r[ | ]\r[ / ]\r[ — ]\r[ \\ ]\r[ | ]\r[ / ]\r[ — ]\r[ \\ ]\r[ | ]\r[ / ]\r[ — ]\r[ \\ ]\r[ | ]\r[ / ]\r[ — ]\r[ \\ ]\r[ | ]\r[ / ]\r[ — ]\r[ \\ ]\r[ | ]\r[ / ]\r[ — ]\r[ \\ ]\r[ | ]\r[ / ]\r[ — ]\r[ \\ ]\r[ | ]\r[ / ]\r[ — ]\r[ \\ ]\r[ | ]\r[ / ]\r[ — ]\r[ \\ ]\r[ | ]\r[ / ]\r[ — ]\r[ \\ ]\r[OK!]\n</div>",
       "datasetInfos": [],
       "removedWidgets": [],
       "type": "html"
      }
     },
     "output_type": "display_data"
    }
   ],
   "source": [
    "\n",
    "snomed_resolution_int = SentenceEntityResolverModel.pretrained(\"sbiobertresolve_snomed_findings_int\", \"en\", \"clinical/models\") \\\n",
    "  .setInputCols([\"ner_chunk\", \"bert_embeddings\"]) \\\n",
    "  .setOutputCol(\"snomed_code_int\")\n",
    "\n",
    "pipeline_snomed_int = Pipeline(\n",
    "    stages = [\n",
    "    documentAssembler,\n",
    "    sentenceDetector,\n",
    "    tokenizer,\n",
    "    word_embeddings,\n",
    "    clinical_ner,\n",
    "    ner_converter,\n",
    "    c2doc,\n",
    "    bert_embeddings,\n",
    "    snomed_resolution_int\n",
    "  ])\n",
    "\n",
    "snomed_output_int = pipeline_snomed_int.fit(data_ner).transform(data_ner)\n"
   ]
  },
  {
   "cell_type": "code",
   "execution_count": 0,
   "metadata": {
    "application/vnd.databricks.v1+cell": {
     "inputWidgets": {},
     "nuid": "fd9200de-555a-4f16-afc7-7385f5392d6f",
     "showTitle": false,
     "title": ""
    }
   },
   "outputs": [
    {
     "data": {
      "text/html": [
       "<style scoped>\n",
       "  .ansiout {\n",
       "    display: block;\n",
       "    unicode-bidi: embed;\n",
       "    white-space: pre-wrap;\n",
       "    word-wrap: break-word;\n",
       "    word-break: break-all;\n",
       "    font-family: \"Source Code Pro\", \"Menlo\", monospace;;\n",
       "    font-size: 13px;\n",
       "    color: #555;\n",
       "    margin-left: 4px;\n",
       "    line-height: 19px;\n",
       "  }\n",
       "</style>\n",
       "<div class=\"ansiout\">+-------------------------------------+-------+----------------------------------------------------------------------------------------------------+-----------+--------+\n",
       "                                chunk| entity|                                                                                         target_text|snomed_code|distance|\n",
       "+-------------------------------------+-------+----------------------------------------------------------------------------------------------------+-----------+--------+\n",
       "        gestational diabetes mellitus|PROBLEM|ureterocele - acquired:::gestational diabetes mellitus:::glomus tumour:::faeces colour finding:::...|  197822006|  0.3291|\n",
       "subsequent type two diabetes mellitus|PROBLEM|pre-existing type 2 diabetes mellitus:::disorder due to type 2 diabetes mellitus:::type 2 diabete...|  199230006|  0.1294|\n",
       "                                 T2DM|PROBLEM|type 2 diabetes mellitus:::pre-existing type 2 diabetes mellitus:::type i diabetes mellitus with ...|   44054006|  0.1900|\n",
       "             HTG-induced pancreatitis|PROBLEM|alcohol-induced pancreatitis:::drug-induced acute pancreatitis:::alcohol-induced acute pancreatit...|  445507008|  0.1257|\n",
       "                   an acute hepatitis|PROBLEM|acute hepatitis:::acute infectious hepatitis:::hepatitis d superinfection of hepatitis b carrier:...|   37871000|  0.4490|\n",
       "                              obesity|PROBLEM|morbid obesity:::fat pad syndrome:::disorder of metabolism nos:::maternal obesity syndrome:::obes...|  238136002|  0.3211|\n",
       "                    a body mass index|PROBLEM|respiratory symptoms nos:::finding of body mass index:::mass of body region:::o/e - dead - condit...|  139218003|  0.3884|\n",
       "                             polyuria|PROBLEM|o/e - hypothermia:::polyuria:::polyuric state:::micturition frequency and polyuria:::saccharopinu...|  141496003|  0.4995|\n",
       "                           polydipsia|PROBLEM|born after multiple pregnancy:::psychogenic polydipsia:::polyhydramnios:::oligohydramnios:::feto-...|  157053003|  0.9948|\n",
       "                        poor appetite|PROBLEM|observation of skin texture:::poor nutrition:::feeding poor:::loss of appetite:::bad taste in mou...|  271814001|  0.2175|\n",
       "                             vomiting|PROBLEM|vomiting:::no vomiting:::c/o - vomiting:::intermittent vomiting:::nausea nos:::vomit odour nos:::...|  422400008|  0.3263|\n",
       "        a respiratory tract infection|PROBLEM|respiratory tract infection:::bacterial respiratory infection:::upper respiratory infection:::res...|  275498002|  0.6345|\n",
       "                                 T2DM|PROBLEM|type 2 diabetes mellitus:::pre-existing type 2 diabetes mellitus:::type i diabetes mellitus with ...|   44054006|  0.1900|\n",
       "                                  HTG|PROBLEM|thomas&#39; sign:::10g monofilament sensation l foot abnormal:::gerbich type:::geotrichosis:::[x]muco...|   68193004|  0.1006|\n",
       "                      dry oral mucosa|PROBLEM|clothing dishevelled:::dry skin:::dry tongue:::dry hair:::salivation excess symp.:::c/o: dry skin...|  248163004|  0.1447|\n",
       "                           tenderness|PROBLEM|tenderness:::adverse reaction to non-steroidal anti-inflammatory drug:::o/e - tenderness:::o/e - ...|  247348008|  0.4982|\n",
       "                             guarding|PROBLEM|abnormal preening behavior:::no problems with thinking:::spiritual problem:::aids:::reflecting:::...|  471295005|  0.1598|\n",
       "                             rigidity|PROBLEM|rigid character:::rigid chest:::decorticate rigidity:::muscle rigidity:::emotional stability:::di...|   69193009|  0.7795|\n",
       "                           hemolyzing|PROBLEM|hemolysis:::sample hemolyzed:::hemolysin factor:::extravascular hemolysis:::mechanical hemolytic ...|   73320003|  0.4946|\n",
       "                  significant lipemia|PROBLEM|lipids abnormal:::serum lipids high:::serum lipids borderline raised:::high lipase level in serum...|  166818002|  0.1612|\n",
       "+-------------------------------------+-------+----------------------------------------------------------------------------------------------------+-----------+--------+\n",
       "only showing top 20 rows\n",
       "\n",
       "</div>"
      ]
     },
     "metadata": {
      "application/vnd.databricks.v1+output": {
       "addedWidgets": {},
       "arguments": {},
       "data": "<div class=\"ansiout\">+-------------------------------------+-------+----------------------------------------------------------------------------------------------------+-----------+--------+\n|                                chunk| entity|                                                                                         target_text|snomed_code|distance|\n+-------------------------------------+-------+----------------------------------------------------------------------------------------------------+-----------+--------+\n|        gestational diabetes mellitus|PROBLEM|ureterocele - acquired:::gestational diabetes mellitus:::glomus tumour:::faeces colour finding:::...|  197822006|  0.3291|\n|subsequent type two diabetes mellitus|PROBLEM|pre-existing type 2 diabetes mellitus:::disorder due to type 2 diabetes mellitus:::type 2 diabete...|  199230006|  0.1294|\n|                                 T2DM|PROBLEM|type 2 diabetes mellitus:::pre-existing type 2 diabetes mellitus:::type i diabetes mellitus with ...|   44054006|  0.1900|\n|             HTG-induced pancreatitis|PROBLEM|alcohol-induced pancreatitis:::drug-induced acute pancreatitis:::alcohol-induced acute pancreatit...|  445507008|  0.1257|\n|                   an acute hepatitis|PROBLEM|acute hepatitis:::acute infectious hepatitis:::hepatitis d superinfection of hepatitis b carrier:...|   37871000|  0.4490|\n|                              obesity|PROBLEM|morbid obesity:::fat pad syndrome:::disorder of metabolism nos:::maternal obesity syndrome:::obes...|  238136002|  0.3211|\n|                    a body mass index|PROBLEM|respiratory symptoms nos:::finding of body mass index:::mass of body region:::o/e - dead - condit...|  139218003|  0.3884|\n|                             polyuria|PROBLEM|o/e - hypothermia:::polyuria:::polyuric state:::micturition frequency and polyuria:::saccharopinu...|  141496003|  0.4995|\n|                           polydipsia|PROBLEM|born after multiple pregnancy:::psychogenic polydipsia:::polyhydramnios:::oligohydramnios:::feto-...|  157053003|  0.9948|\n|                        poor appetite|PROBLEM|observation of skin texture:::poor nutrition:::feeding poor:::loss of appetite:::bad taste in mou...|  271814001|  0.2175|\n|                             vomiting|PROBLEM|vomiting:::no vomiting:::c/o - vomiting:::intermittent vomiting:::nausea nos:::vomit odour nos:::...|  422400008|  0.3263|\n|        a respiratory tract infection|PROBLEM|respiratory tract infection:::bacterial respiratory infection:::upper respiratory infection:::res...|  275498002|  0.6345|\n|                                 T2DM|PROBLEM|type 2 diabetes mellitus:::pre-existing type 2 diabetes mellitus:::type i diabetes mellitus with ...|   44054006|  0.1900|\n|                                  HTG|PROBLEM|thomas&#39; sign:::10g monofilament sensation l foot abnormal:::gerbich type:::geotrichosis:::[x]muco...|   68193004|  0.1006|\n|                      dry oral mucosa|PROBLEM|clothing dishevelled:::dry skin:::dry tongue:::dry hair:::salivation excess symp.:::c/o: dry skin...|  248163004|  0.1447|\n|                           tenderness|PROBLEM|tenderness:::adverse reaction to non-steroidal anti-inflammatory drug:::o/e - tenderness:::o/e - ...|  247348008|  0.4982|\n|                             guarding|PROBLEM|abnormal preening behavior:::no problems with thinking:::spiritual problem:::aids:::reflecting:::...|  471295005|  0.1598|\n|                             rigidity|PROBLEM|rigid character:::rigid chest:::decorticate rigidity:::muscle rigidity:::emotional stability:::di...|   69193009|  0.7795|\n|                           hemolyzing|PROBLEM|hemolysis:::sample hemolyzed:::hemolysin factor:::extravascular hemolysis:::mechanical hemolytic ...|   73320003|  0.4946|\n|                  significant lipemia|PROBLEM|lipids abnormal:::serum lipids high:::serum lipids borderline raised:::high lipase level in serum...|  166818002|  0.1612|\n+-------------------------------------+-------+----------------------------------------------------------------------------------------------------+-----------+--------+\nonly showing top 20 rows\n\n</div>",
       "datasetInfos": [],
       "removedWidgets": [],
       "type": "html"
      }
     },
     "output_type": "display_data"
    }
   ],
   "source": [
    "snomed_output_int.select(F.explode(F.arrays_zip(\"ner_chunk.result\",\"ner_chunk.metadata\",\"snomed_code_int.result\",\"snomed_code_int.metadata\"))\\\n",
    "                         .alias(\"snomed_result\")) \\\n",
    "                  .select(F.expr(\"snomed_result['0']\").alias(\"chunk\"),\n",
    "                          F.expr(\"snomed_result['1'].entity\").alias(\"entity\"),\n",
    "                          F.expr(\"snomed_result['3'].all_k_resolutions\").alias(\"target_text\"),\n",
    "                          F.expr(\"snomed_result['2']\").alias(\"snomed_code\"),\n",
    "                          F.expr(\"snomed_result['3'].confidence\").alias(\"distance\")).show(truncate = 100)"
   ]
  },
  {
   "cell_type": "code",
   "execution_count": 0,
   "metadata": {
    "application/vnd.databricks.v1+cell": {
     "inputWidgets": {},
     "nuid": "6f21118c-bf11-4023-8e15-b6f47aacf4cd",
     "showTitle": false,
     "title": ""
    }
   },
   "outputs": [
    {
     "data": {
      "text/html": [
       "<style scoped>\n",
       "  .ansiout {\n",
       "    display: block;\n",
       "    unicode-bidi: embed;\n",
       "    white-space: pre-wrap;\n",
       "    word-wrap: break-word;\n",
       "    word-break: break-all;\n",
       "    font-family: \"Source Code Pro\", \"Menlo\", monospace;;\n",
       "    font-size: 13px;\n",
       "    color: #555;\n",
       "    margin-left: 4px;\n",
       "    line-height: 19px;\n",
       "  }\n",
       "</style>\n",
       "<div class=\"ansiout\">biobertresolve_snomed_findings download started this may take some time.\n",
       "Approximate size to download 597.1 MB\n",
       "\r",
       "[ | ]\r",
       "[ / ]\r",
       "[ — ]\r",
       "[ \\ ]\r",
       "[ | ]\r",
       "[ / ]\r",
       "[ — ]\r",
       "[ \\ ]\r",
       "[ | ]\r",
       "[ / ]\r",
       "[ — ]\r",
       "[ \\ ]\r",
       "[ | ]\r",
       "[ / ]\r",
       "[ — ]\r",
       "[ \\ ]\r",
       "[ | ]\r",
       "[ / ]\r",
       "[ — ]\r",
       "[ \\ ]\r",
       "[ | ]\r",
       "[ / ]\r",
       "[ — ]\r",
       "[ \\ ]\r",
       "[ | ]\r",
       "[ / ]\r",
       "[ — ]\r",
       "[ \\ ]\r",
       "[ | ]\r",
       "[ / ]\r",
       "[ — ]\r",
       "[ \\ ]\r",
       "[ | ]\r",
       "[ / ]\r",
       "[ — ]\r",
       "[ \\ ]\r",
       "[ | ]\r",
       "[ / ]\r",
       "[ — ]\r",
       "[ \\ ]\r",
       "[ | ]\r",
       "[ / ]\r",
       "[ — ]\r",
       "[ \\ ]\r",
       "[ | ]\r",
       "[ / ]\r",
       "[ — ]\r",
       "[ \\ ]\r",
       "[ | ]\r",
       "[ / ]\r",
       "[ — ]\r",
       "[ \\ ]\r",
       "[ | ]\r",
       "[ / ]\r",
       "[ — ]\r",
       "[ \\ ]\r",
       "[ | ]\r",
       "[ / ]\r",
       "[ — ]\r",
       "[ \\ ]\r",
       "[ | ]\r",
       "[ / ]\r",
       "[ — ]\r",
       "[ \\ ]\r",
       "[ | ]\r",
       "[ / ]\r",
       "[ — ]\r",
       "[ \\ ]\r",
       "[ | ]\r",
       "[ / ]\r",
       "[ — ]\r",
       "[ \\ ]\r",
       "[ | ]\r",
       "[ / ]\r",
       "[ — ]\r",
       "[ \\ ]\r",
       "[ | ]\r",
       "[ / ]\r",
       "[ — ]\r",
       "[ \\ ]\r",
       "[ | ]\r",
       "[ / ]\r",
       "[ — ]\r",
       "[ \\ ]\r",
       "[ | ]\r",
       "[ / ]\r",
       "[ — ]\r",
       "[ \\ ]\r",
       "[ | ]\r",
       "[ / ]\r",
       "[ — ]\r",
       "[ \\ ]\r",
       "[ | ]\r",
       "[ / ]\r",
       "[ — ]\r",
       "[ \\ ]\r",
       "[ | ]\r",
       "[ / ]\r",
       "[ — ]\r",
       "[ \\ ]\r",
       "[ | ]\r",
       "[ / ]\r",
       "[ — ]\r",
       "[ \\ ]\r",
       "[ | ]\r",
       "[ / ]\r",
       "[ — ]\r",
       "[ \\ ]\r",
       "[ | ]\r",
       "[ / ]\r",
       "[ — ]\r",
       "[ \\ ]\r",
       "[ | ]\r",
       "[ / ]\r",
       "[ — ]\r",
       "[ \\ ]\r",
       "[ | ]\r",
       "[ / ]\r",
       "[ — ]\r",
       "[ \\ ]\r",
       "[OK!]\n",
       "</div>"
      ]
     },
     "metadata": {
      "application/vnd.databricks.v1+output": {
       "addedWidgets": {},
       "arguments": {},
       "data": "<div class=\"ansiout\">biobertresolve_snomed_findings download started this may take some time.\nApproximate size to download 597.1 MB\n\r[ | ]\r[ / ]\r[ — ]\r[ \\ ]\r[ | ]\r[ / ]\r[ — ]\r[ \\ ]\r[ | ]\r[ / ]\r[ — ]\r[ \\ ]\r[ | ]\r[ / ]\r[ — ]\r[ \\ ]\r[ | ]\r[ / ]\r[ — ]\r[ \\ ]\r[ | ]\r[ / ]\r[ — ]\r[ \\ ]\r[ | ]\r[ / ]\r[ — ]\r[ \\ ]\r[ | ]\r[ / ]\r[ — ]\r[ \\ ]\r[ | ]\r[ / ]\r[ — ]\r[ \\ ]\r[ | ]\r[ / ]\r[ — ]\r[ \\ ]\r[ | ]\r[ / ]\r[ — ]\r[ \\ ]\r[ | ]\r[ / ]\r[ — ]\r[ \\ ]\r[ | ]\r[ / ]\r[ — ]\r[ \\ ]\r[ | ]\r[ / ]\r[ — ]\r[ \\ ]\r[ | ]\r[ / ]\r[ — ]\r[ \\ ]\r[ | ]\r[ / ]\r[ — ]\r[ \\ ]\r[ | ]\r[ / ]\r[ — ]\r[ \\ ]\r[ | ]\r[ / ]\r[ — ]\r[ \\ ]\r[ | ]\r[ / ]\r[ — ]\r[ \\ ]\r[ | ]\r[ / ]\r[ — ]\r[ \\ ]\r[ | ]\r[ / ]\r[ — ]\r[ \\ ]\r[ | ]\r[ / ]\r[ — ]\r[ \\ ]\r[ | ]\r[ / ]\r[ — ]\r[ \\ ]\r[ | ]\r[ / ]\r[ — ]\r[ \\ ]\r[ | ]\r[ / ]\r[ — ]\r[ \\ ]\r[ | ]\r[ / ]\r[ — ]\r[ \\ ]\r[ | ]\r[ / ]\r[ — ]\r[ \\ ]\r[ | ]\r[ / ]\r[ — ]\r[ \\ ]\r[ | ]\r[ / ]\r[ — ]\r[ \\ ]\r[ | ]\r[ / ]\r[ — ]\r[ \\ ]\r[OK!]\n</div>",
       "datasetInfos": [],
       "removedWidgets": [],
       "type": "html"
      }
     },
     "output_type": "display_data"
    }
   ],
   "source": [
    "\n",
    "snomed_resolution_int = SentenceEntityResolverModel.pretrained(\"biobertresolve_snomed_findings\", \"en\", \"clinical/models\") \\\n",
    "  .setInputCols([\"ner_chunk\", \"bert_embeddings\"]) \\\n",
    "  .setOutputCol(\"snomed_code_int\")\n"
   ]
  },
  {
   "cell_type": "markdown",
   "metadata": {
    "application/vnd.databricks.v1+cell": {
     "inputWidgets": {},
     "nuid": "25f26a1c-c64b-4328-9e17-19712e949fc3",
     "showTitle": false,
     "title": ""
    }
   },
   "source": [
    "End of Notebook"
   ]
  }
 ],
 "metadata": {
  "application/vnd.databricks.v1+notebook": {
   "dashboards": [],
   "language": "python",
   "notebookMetadata": {
    "pythonIndentUnit": 2
   },
   "notebookName": "3.Clinical_Entity_Resolvers_v3.0",
   "notebookOrigID": 3907183297231470,
   "widgets": {}
  },
  "kernelspec": {
   "display_name": "Python 3",
   "language": "python",
   "name": "python3"
  },
  "language_info": {
   "codemirror_mode": {
    "name": "ipython",
    "version": 3
   },
   "file_extension": ".py",
   "mimetype": "text/x-python",
   "name": "python",
   "nbconvert_exporter": "python",
   "pygments_lexer": "ipython3",
   "version": "3.8.3"
  }
 },
 "nbformat": 4,
 "nbformat_minor": 1
}

{
 "cells": [
  {
   "cell_type": "markdown",
   "metadata": {
    "application/vnd.databricks.v1+cell": {
     "inputWidgets": {},
     "nuid": "3fe3b97a-aabd-44da-bb3c-2369f8ec97d8",
     "showTitle": false,
     "title": ""
    }
   },
   "source": [
    "![JohnSnowLabs](https://nlp.johnsnowlabs.com/assets/images/logo.png)"
   ]
  },
  {
   "cell_type": "markdown",
   "metadata": {
    "application/vnd.databricks.v1+cell": {
     "inputWidgets": {},
     "nuid": "e80a457b-faf8-4afd-a342-baf270f15703",
     "showTitle": false,
     "title": ""
    }
   },
   "source": [
    "# Merging Annotations From Multiple Named Entity Recognition Models"
   ]
  },
  {
   "cell_type": "code",
   "execution_count": 0,
   "metadata": {
    "application/vnd.databricks.v1+cell": {
     "inputWidgets": {},
     "nuid": "f308f18c-26b1-48dd-92a4-0a7c11c2c3b7",
     "showTitle": false,
     "title": ""
    }
   },
   "outputs": [
    {
     "data": {
      "text/html": [
       "<style scoped>\n",
       "  .ansiout {\n",
       "    display: block;\n",
       "    unicode-bidi: embed;\n",
       "    white-space: pre-wrap;\n",
       "    word-wrap: break-word;\n",
       "    word-break: break-all;\n",
       "    font-family: \"Source Code Pro\", \"Menlo\", monospace;;\n",
       "    font-size: 13px;\n",
       "    color: #555;\n",
       "    margin-left: 4px;\n",
       "    line-height: 19px;\n",
       "  }\n",
       "</style>\n",
       "<div class=\"ansiout\">sparknlp_jsl.version :  3.0.1\n",
       "Out[1]: </div>"
      ]
     },
     "metadata": {
      "application/vnd.databricks.v1+output": {
       "addedWidgets": {},
       "arguments": {},
       "data": "<div class=\"ansiout\">sparknlp_jsl.version :  3.0.1\nOut[1]: </div>",
       "datasetInfos": [],
       "removedWidgets": [],
       "type": "html"
      }
     },
     "output_type": "display_data"
    },
    {
     "data": {
      "text/html": [
       "\n",
       "            <div>\n",
       "                <p><b>SparkSession - hive</b></p>\n",
       "                \n",
       "        <div>\n",
       "            <p><b>SparkContext</b></p>\n",
       "\n",
       "            <p><a href=\"/?o=3418543878422327#setting/sparkui/0421-031638-preys129/driver-842839934349988954\">Spark UI</a></p>\n",
       "\n",
       "            <dl>\n",
       "              <dt>Version</dt>\n",
       "                <dd><code>v3.0.1</code></dd>\n",
       "              <dt>Master</dt>\n",
       "                <dd><code>spark://10.164.233.65:7077</code></dd>\n",
       "              <dt>AppName</dt>\n",
       "                <dd><code>Databricks Shell</code></dd>\n",
       "            </dl>\n",
       "        </div>\n",
       "        \n",
       "            </div>\n",
       "        "
      ]
     },
     "metadata": {
      "application/vnd.databricks.v1+output": {
       "addedWidgets": {},
       "arguments": {},
       "data": "\n            <div>\n                <p><b>SparkSession - hive</b></p>\n                \n        <div>\n            <p><b>SparkContext</b></p>\n\n            <p><a href=\"/?o=3418543878422327#setting/sparkui/0421-031638-preys129/driver-842839934349988954\">Spark UI</a></p>\n\n            <dl>\n              <dt>Version</dt>\n                <dd><code>v3.0.1</code></dd>\n              <dt>Master</dt>\n                <dd><code>spark://10.164.233.65:7077</code></dd>\n              <dt>AppName</dt>\n                <dd><code>Databricks Shell</code></dd>\n            </dl>\n        </div>\n        \n            </div>\n        ",
       "datasetInfos": [],
       "removedWidgets": [],
       "textData": null,
       "type": "htmlSandbox"
      }
     },
     "output_type": "display_data"
    }
   ],
   "source": [
    "import os\n",
    "import json\n",
    "import string\n",
    "import numpy as np\n",
    "import pandas as pd\n",
    "\n",
    "\n",
    "import sparknlp\n",
    "import sparknlp_jsl\n",
    "from sparknlp.base import *\n",
    "from sparknlp.util import *\n",
    "from sparknlp.annotator import *\n",
    "from sparknlp_jsl.annotator import *\n",
    "from sparknlp.pretrained import ResourceDownloader\n",
    "\n",
    "from pyspark.sql import functions as F\n",
    "from pyspark.ml import Pipeline, PipelineModel\n",
    "\n",
    "pd.set_option('max_colwidth', 100)\n",
    "pd.set_option('display.max_columns', 100)  \n",
    "pd.set_option('display.expand_frame_repr', False)\n",
    "\n",
    "\n",
    "print('sparknlp_jsl.version : ',sparknlp_jsl.version())\n",
    "\n",
    "spark\n",
    "spark"
   ]
  },
  {
   "cell_type": "code",
   "execution_count": 0,
   "metadata": {
    "application/vnd.databricks.v1+cell": {
     "inputWidgets": {},
     "nuid": "0ec5ede9-94cc-4700-85ce-7d1380fc2917",
     "showTitle": false,
     "title": ""
    }
   },
   "outputs": [
    {
     "data": {
      "text/html": [
       "<style scoped>\n",
       "  .ansiout {\n",
       "    display: block;\n",
       "    unicode-bidi: embed;\n",
       "    white-space: pre-wrap;\n",
       "    word-wrap: break-word;\n",
       "    word-break: break-all;\n",
       "    font-family: \"Source Code Pro\", \"Menlo\", monospace;;\n",
       "    font-size: 13px;\n",
       "    color: #555;\n",
       "    margin-left: 4px;\n",
       "    line-height: 19px;\n",
       "  }\n",
       "</style>\n",
       "<div class=\"ansiout\">+---+--------------------------------------------------+\n",
       " id|                                              text|\n",
       "+---+--------------------------------------------------+\n",
       "  1|A 63 years old man presents to the hospital wit...|\n",
       "+---+--------------------------------------------------+\n",
       "\n",
       "</div>"
      ]
     },
     "metadata": {
      "application/vnd.databricks.v1+output": {
       "addedWidgets": {},
       "arguments": {},
       "data": "<div class=\"ansiout\">+---+--------------------------------------------------+\n| id|                                              text|\n+---+--------------------------------------------------+\n|  1|A 63 years old man presents to the hospital wit...|\n+---+--------------------------------------------------+\n\n</div>",
       "datasetInfos": [],
       "removedWidgets": [],
       "type": "html"
      }
     },
     "output_type": "display_data"
    }
   ],
   "source": [
    "# Sample data\n",
    "data_chunk_merge = spark.createDataFrame([\n",
    "  (1,\"\"\"A 63 years old man presents to the hospital with a history of recurrent infections that include cellulitis, pneumonias, and upper respiratory tract infections. He reports subjective fevers at home along with unintentional weight loss and occasional night sweats. The patient has a remote history of arthritis, which was diagnosed approximately 20 years ago and treated intermittently with methotrexate (MTX) and prednisone. On physical exam, he is found to be febrile at 102°F, rather cachectic, pale, and have hepatosplenomegaly. Several swollen joints that are tender to palpation and have decreased range of motion are also present. His laboratory values show pancytopenia with the most severe deficiency in neutrophils.\n",
    "\"\"\")]).toDF(\"id\",\"text\")\n",
    "\n",
    "data_chunk_merge.show(truncate=50)"
   ]
  },
  {
   "cell_type": "code",
   "execution_count": 0,
   "metadata": {
    "application/vnd.databricks.v1+cell": {
     "inputWidgets": {},
     "nuid": "1b4454be-d41a-4dc2-9673-347414d105da",
     "showTitle": false,
     "title": ""
    }
   },
   "outputs": [
    {
     "data": {
      "text/html": [
       "<style scoped>\n",
       "  .ansiout {\n",
       "    display: block;\n",
       "    unicode-bidi: embed;\n",
       "    white-space: pre-wrap;\n",
       "    word-wrap: break-word;\n",
       "    word-break: break-all;\n",
       "    font-family: \"Source Code Pro\", \"Menlo\", monospace;;\n",
       "    font-size: 13px;\n",
       "    color: #555;\n",
       "    margin-left: 4px;\n",
       "    line-height: 19px;\n",
       "  }\n",
       "</style>\n",
       "<div class=\"ansiout\">embeddings_clinical download started this may take some time.\n",
       "Approximate size to download 1.6 GB\n",
       "\r",
       "[ | ]\r",
       "[OK!]\n",
       "ner_deid_large download started this may take some time.\n",
       "Approximate size to download 14.1 MB\n",
       "\r",
       "[ | ]\r",
       "[ / ]\r",
       "[ — ]\r",
       "[OK!]\n",
       "ner_bionlp download started this may take some time.\n",
       "Approximate size to download 13.9 MB\n",
       "\r",
       "[ | ]\r",
       "[ / ]\r",
       "[ — ]\r",
       "[OK!]\n",
       "ner_jsl download started this may take some time.\n",
       "Approximate size to download 14 MB\n",
       "\r",
       "[ | ]\r",
       "[ / ]\r",
       "[ — ]\r",
       "[OK!]\n",
       "</div>"
      ]
     },
     "metadata": {
      "application/vnd.databricks.v1+output": {
       "addedWidgets": {},
       "arguments": {},
       "data": "<div class=\"ansiout\">embeddings_clinical download started this may take some time.\nApproximate size to download 1.6 GB\n\r[ | ]\r[OK!]\nner_deid_large download started this may take some time.\nApproximate size to download 14.1 MB\n\r[ | ]\r[ / ]\r[ — ]\r[OK!]\nner_bionlp download started this may take some time.\nApproximate size to download 13.9 MB\n\r[ | ]\r[ / ]\r[ — ]\r[OK!]\nner_jsl download started this may take some time.\nApproximate size to download 14 MB\n\r[ | ]\r[ / ]\r[ — ]\r[OK!]\n</div>",
       "datasetInfos": [],
       "removedWidgets": [],
       "type": "html"
      }
     },
     "output_type": "display_data"
    }
   ],
   "source": [
    "# Annotator that transforms a text column from dataframe into an Annotation ready for NLP\n",
    "\n",
    "documentAssembler = DocumentAssembler()\\\n",
    "  .setInputCol(\"text\")\\\n",
    "  .setOutputCol(\"document\")\n",
    "\n",
    "# Sentence Detector annotator, processes various sentences per line\n",
    "sentenceDetector = SentenceDetector()\\\n",
    "  .setInputCols([\"document\"])\\\n",
    "  .setOutputCol(\"sentence\")\n",
    "\n",
    "# Tokenizer splits words in a relevant format for NLP\n",
    "tokenizer = Tokenizer()\\\n",
    "  .setInputCols([\"sentence\"])\\\n",
    "  .setOutputCol(\"token\")\n",
    "\n",
    "# Clinical word embeddings trained on PubMED dataset\n",
    "word_embeddings = WordEmbeddingsModel.pretrained(\"embeddings_clinical\", \"en\", \"clinical/models\")\\\n",
    "  .setInputCols([\"sentence\", \"token\"])\\\n",
    "  .setOutputCol(\"embeddings\")\n",
    "\n",
    "# NER model trained on i2b2 (sampled from MIMIC) dataset\n",
    "clinical_ner = MedicalNerModel.pretrained(\"ner_deid_large\", \"en\", \"clinical/models\") \\\n",
    "  .setInputCols([\"sentence\", \"token\", \"embeddings\"]) \\\n",
    "  .setOutputCol(\"clinical_ner\")\n",
    "\n",
    "clinical_ner_converter = NerConverter() \\\n",
    "  .setInputCols([\"sentence\", \"token\", \"clinical_ner\"]) \\\n",
    "  .setOutputCol(\"clinical_ner_chunk\")\n",
    "\n",
    "# Cancer Genetics NER\n",
    "bionlp_ner = MedicalNerModel.pretrained(\"ner_bionlp\", \"en\", \"clinical/models\") \\\n",
    "  .setInputCols([\"sentence\", \"token\", \"embeddings\"]) \\\n",
    "  .setOutputCol(\"bionlp_ner\")\n",
    "\n",
    "bionlp_ner_converter = NerConverter() \\\n",
    "  .setInputCols([\"sentence\", \"token\", \"bionlp_ner\"]) \\\n",
    "  .setOutputCol(\"bionlp_ner_chunk\")\n",
    "\n",
    "# merge ner_chunks by prioritizing the overlapping indices (chunks with longer lengths and highest information will be kept frome ach ner model)\n",
    "chunk_merger_1 = ChunkMergeApproach()\\\n",
    "  .setInputCols('clinical_ner_chunk', \"bionlp_ner_chunk\")\\\n",
    "  .setOutputCol('clinical_bionlp_ner_chunk')\n",
    "\n",
    "# internal clinical NER (general terms)\n",
    "jsl_ner = MedicalNerModel.pretrained(\"ner_jsl\", \"en\", \"clinical/models\") \\\n",
    "  .setInputCols([\"sentence\", \"token\", \"embeddings\"]) \\\n",
    "  .setOutputCol(\"jsl_ner\")\n",
    "\n",
    "jsl_ner_converter = NerConverter() \\\n",
    "  .setInputCols([\"sentence\", \"token\", \"jsl_ner\"]) \\\n",
    "  .setOutputCol(\"jsl_ner_chunk\")\n",
    "\n",
    "# merge ner_chunks by prioritizing the overlapping indices (chunks with longer lengths and highest information will be kept frome ach ner model)\n",
    "chunk_merger_2 = ChunkMergeApproach()\\\n",
    "  .setInputCols('clinical_bionlp_ner_chunk', \"jsl_ner_chunk\")\\\n",
    "  .setOutputCol('final_ner_chunk')\n",
    "\n",
    "# merge ner_chunks regardess of overlapping indices \n",
    "# only works with 2.7 and later \n",
    "chunk_merger_NonOverlapped = ChunkMergeApproach()\\\n",
    "  .setInputCols('clinical_bionlp_ner_chunk', \"jsl_ner_chunk\")\\\n",
    "  .setOutputCol('nonOverlapped_ner_chunk')\\\n",
    "  .setMergeOverlapping(False)\n",
    "\n",
    "\n",
    "nlpPipeline = Pipeline(stages=[\n",
    "    documentAssembler, \n",
    "    sentenceDetector,\n",
    "    tokenizer,\n",
    "    word_embeddings,\n",
    "    clinical_ner,\n",
    "    clinical_ner_converter,\n",
    "    bionlp_ner,\n",
    "    bionlp_ner_converter,\n",
    "    chunk_merger_1,\n",
    "    jsl_ner,\n",
    "    jsl_ner_converter,\n",
    "    chunk_merger_2,\n",
    "    chunk_merger_NonOverlapped])\n",
    "\n",
    "empty_data = spark.createDataFrame([[\"\"]]).toDF(\"text\")\n",
    "model = nlpPipeline.fit(empty_data)\n"
   ]
  },
  {
   "cell_type": "code",
   "execution_count": 0,
   "metadata": {
    "application/vnd.databricks.v1+cell": {
     "inputWidgets": {},
     "nuid": "ac267add-888f-4d25-b158-84b975c7afc7",
     "showTitle": false,
     "title": ""
    }
   },
   "outputs": [
    {
     "data": {
      "text/html": [
       "<style scoped>\n",
       "  .ansiout {\n",
       "    display: block;\n",
       "    unicode-bidi: embed;\n",
       "    white-space: pre-wrap;\n",
       "    word-wrap: break-word;\n",
       "    word-break: break-all;\n",
       "    font-family: \"Source Code Pro\", \"Menlo\", monospace;;\n",
       "    font-size: 13px;\n",
       "    color: #555;\n",
       "    margin-left: 4px;\n",
       "    line-height: 19px;\n",
       "  }\n",
       "</style>\n",
       "<div class=\"ansiout\"></div>"
      ]
     },
     "metadata": {
      "application/vnd.databricks.v1+output": {
       "addedWidgets": {},
       "arguments": {},
       "data": "<div class=\"ansiout\"></div>",
       "datasetInfos": [],
       "removedWidgets": [],
       "type": "html"
      }
     },
     "output_type": "display_data"
    }
   ],
   "source": [
    "merged_data = model.transform(data_chunk_merge).cache()"
   ]
  },
  {
   "cell_type": "code",
   "execution_count": 0,
   "metadata": {
    "application/vnd.databricks.v1+cell": {
     "inputWidgets": {},
     "nuid": "3a8a20ee-09c1-45c4-95b1-18066c2f7b1f",
     "showTitle": false,
     "title": ""
    }
   },
   "outputs": [
    {
     "data": {
      "text/html": [
       "<style scoped>\n",
       "  .ansiout {\n",
       "    display: block;\n",
       "    unicode-bidi: embed;\n",
       "    white-space: pre-wrap;\n",
       "    word-wrap: break-word;\n",
       "    word-break: break-all;\n",
       "    font-family: \"Source Code Pro\", \"Menlo\", monospace;;\n",
       "    font-size: 13px;\n",
       "    color: #555;\n",
       "    margin-left: 4px;\n",
       "    line-height: 19px;\n",
       "  }\n",
       "</style>\n",
       "<div class=\"ansiout\">+---+-----+---+----------------------------------+----------------------+\n",
       " id|begin|end|                             chunk|                entity|\n",
       "+---+-----+---+----------------------------------+----------------------+\n",
       "  1|    2|  3|                                63|                   AGE|\n",
       "  1|   15| 17|                               man|              Organism|\n",
       "  1|   62| 70|                         recurrent|              Modifier|\n",
       "  1|   96|105|                        cellulitis|             Diagnosis|\n",
       "  1|  108|117|                        pneumonias|             Diagnosis|\n",
       "  1|  124|157|upper respiratory tract infections|             Diagnosis|\n",
       "  1|  160|161|                                He|                Gender|\n",
       "  1|  171|180|                        subjective|              Modifier|\n",
       "  1|  182|187|                            fevers|          Symptom_Name|\n",
       "  1|  238|247|                        occasional|              Modifier|\n",
       "  1|  249|260|                      night sweats|          Symptom_Name|\n",
       "  1|  267|273|                           patient|              Organism|\n",
       "  1|  299|307|                         arthritis|             Diagnosis|\n",
       "  1|  344|345|                                20|                   Age|\n",
       "  1|  389|400|                      methotrexate|       Simple_chemical|\n",
       "  1|  403|406|                              MTX)|             Drug_Name|\n",
       "  1|  412|421|                        prednisone|       Simple_chemical|\n",
       "  1|  442|443|                                he|                Gender|\n",
       "  1|  460|466|                           febrile|          Symptom_Name|\n",
       "  1|  511|528|                hepatosplenomegaly|          Symptom_Name|\n",
       "  1|  531|537|                           Several|              Modifier|\n",
       "  1|  539|552|                    swollen joints|Multi-tissue_structure|\n",
       "  1|  636|638|                               His|                Gender|\n",
       "  1|  663|674|                      pancytopenia|          Symptom_Name|\n",
       "  1|  711|721|                       neutrophils|                  Cell|\n",
       "+---+-----+---+----------------------------------+----------------------+\n",
       "\n",
       "</div>"
      ]
     },
     "metadata": {
      "application/vnd.databricks.v1+output": {
       "addedWidgets": {},
       "arguments": {},
       "data": "<div class=\"ansiout\">+---+-----+---+----------------------------------+----------------------+\n| id|begin|end|                             chunk|                entity|\n+---+-----+---+----------------------------------+----------------------+\n|  1|    2|  3|                                63|                   AGE|\n|  1|   15| 17|                               man|              Organism|\n|  1|   62| 70|                         recurrent|              Modifier|\n|  1|   96|105|                        cellulitis|             Diagnosis|\n|  1|  108|117|                        pneumonias|             Diagnosis|\n|  1|  124|157|upper respiratory tract infections|             Diagnosis|\n|  1|  160|161|                                He|                Gender|\n|  1|  171|180|                        subjective|              Modifier|\n|  1|  182|187|                            fevers|          Symptom_Name|\n|  1|  238|247|                        occasional|              Modifier|\n|  1|  249|260|                      night sweats|          Symptom_Name|\n|  1|  267|273|                           patient|              Organism|\n|  1|  299|307|                         arthritis|             Diagnosis|\n|  1|  344|345|                                20|                   Age|\n|  1|  389|400|                      methotrexate|       Simple_chemical|\n|  1|  403|406|                              MTX)|             Drug_Name|\n|  1|  412|421|                        prednisone|       Simple_chemical|\n|  1|  442|443|                                he|                Gender|\n|  1|  460|466|                           febrile|          Symptom_Name|\n|  1|  511|528|                hepatosplenomegaly|          Symptom_Name|\n|  1|  531|537|                           Several|              Modifier|\n|  1|  539|552|                    swollen joints|Multi-tissue_structure|\n|  1|  636|638|                               His|                Gender|\n|  1|  663|674|                      pancytopenia|          Symptom_Name|\n|  1|  711|721|                       neutrophils|                  Cell|\n+---+-----+---+----------------------------------+----------------------+\n\n</div>",
       "datasetInfos": [],
       "removedWidgets": [],
       "type": "html"
      }
     },
     "output_type": "display_data"
    }
   ],
   "source": [
    "from pyspark.sql import functions as F\n",
    "\n",
    "result_df = merged_data.select('id',F.explode('final_ner_chunk').alias(\"cols\")) \\\n",
    "                       .select('id',F.expr(\"cols.begin\").alias(\"begin\"),\n",
    "                               F.expr(\"cols.end\").alias(\"end\"),\n",
    "                               F.expr(\"cols.result\").alias(\"chunk\"),\n",
    "                               F.expr(\"cols.metadata.entity\").alias(\"entity\"))\n",
    "\n",
    "result_df.show(50, truncate=100)\n"
   ]
  },
  {
   "cell_type": "markdown",
   "metadata": {
    "application/vnd.databricks.v1+cell": {
     "inputWidgets": {},
     "nuid": "0c3964ca-2b8f-4733-9b5b-3686202e8277",
     "showTitle": false,
     "title": ""
    }
   },
   "source": [
    "## NonOverlapped Chunk\n",
    "\n",
    "all the entities form each ner model will be returned one by one"
   ]
  },
  {
   "cell_type": "code",
   "execution_count": 0,
   "metadata": {
    "application/vnd.databricks.v1+cell": {
     "inputWidgets": {},
     "nuid": "f4984755-4573-4eb6-a6df-e506ff3f4e21",
     "showTitle": false,
     "title": ""
    }
   },
   "outputs": [
    {
     "data": {
      "text/html": [
       "<style scoped>\n",
       "  .ansiout {\n",
       "    display: block;\n",
       "    unicode-bidi: embed;\n",
       "    white-space: pre-wrap;\n",
       "    word-wrap: break-word;\n",
       "    word-break: break-all;\n",
       "    font-family: \"Source Code Pro\", \"Menlo\", monospace;;\n",
       "    font-size: 13px;\n",
       "    color: #555;\n",
       "    margin-left: 4px;\n",
       "    line-height: 19px;\n",
       "  }\n",
       "</style>\n",
       "<div class=\"ansiout\">+---+-----+---+----------------------------------+----------------------+\n",
       " id|begin|end|                             chunk|                entity|\n",
       "+---+-----+---+----------------------------------+----------------------+\n",
       "  1|    2|  3|                                63|                   AGE|\n",
       "  1|    2|  3|                                63|                   Age|\n",
       "  1|   15| 17|                               man|              Organism|\n",
       "  1|   15| 17|                               man|                Gender|\n",
       "  1|   62| 70|                         recurrent|              Modifier|\n",
       "  1|   96|105|                        cellulitis|             Diagnosis|\n",
       "  1|  108|117|                        pneumonias|             Diagnosis|\n",
       "  1|  124|157|upper respiratory tract infections|             Diagnosis|\n",
       "  1|  124|128|                             upper|  Organism_subdivision|\n",
       "  1|  142|146|                             tract|  Organism_subdivision|\n",
       "  1|  160|161|                                He|                Gender|\n",
       "  1|  171|180|                        subjective|              Modifier|\n",
       "  1|  182|187|                            fevers|          Symptom_Name|\n",
       "  1|  238|247|                        occasional|              Modifier|\n",
       "  1|  249|260|                      night sweats|          Symptom_Name|\n",
       "  1|  267|273|                           patient|              Organism|\n",
       "  1|  299|307|                         arthritis|             Diagnosis|\n",
       "  1|  344|345|                                20|                   Age|\n",
       "  1|  389|400|                      methotrexate|       Simple_chemical|\n",
       "  1|  389|400|                      methotrexate|             Drug_Name|\n",
       "  1|  403|406|                              MTX)|             Drug_Name|\n",
       "  1|  403|405|                               MTX|       Simple_chemical|\n",
       "  1|  412|421|                        prednisone|       Simple_chemical|\n",
       "  1|  412|421|                        prednisone|             Drug_Name|\n",
       "  1|  442|443|                                he|                Gender|\n",
       "  1|  460|466|                           febrile|          Symptom_Name|\n",
       "  1|  511|528|                hepatosplenomegaly|          Symptom_Name|\n",
       "  1|  531|537|                           Several|              Modifier|\n",
       "  1|  539|552|                    swollen joints|Multi-tissue_structure|\n",
       "  1|  539|552|                    swollen joints|          Symptom_Name|\n",
       "  1|  636|638|                               His|                Gender|\n",
       "  1|  663|674|                      pancytopenia|          Symptom_Name|\n",
       "  1|  711|721|                       neutrophils|                  Cell|\n",
       "  1|  711|721|                       neutrophils|              Lab_Name|\n",
       "+---+-----+---+----------------------------------+----------------------+\n",
       "\n",
       "</div>"
      ]
     },
     "metadata": {
      "application/vnd.databricks.v1+output": {
       "addedWidgets": {},
       "arguments": {},
       "data": "<div class=\"ansiout\">+---+-----+---+----------------------------------+----------------------+\n| id|begin|end|                             chunk|                entity|\n+---+-----+---+----------------------------------+----------------------+\n|  1|    2|  3|                                63|                   AGE|\n|  1|    2|  3|                                63|                   Age|\n|  1|   15| 17|                               man|              Organism|\n|  1|   15| 17|                               man|                Gender|\n|  1|   62| 70|                         recurrent|              Modifier|\n|  1|   96|105|                        cellulitis|             Diagnosis|\n|  1|  108|117|                        pneumonias|             Diagnosis|\n|  1|  124|157|upper respiratory tract infections|             Diagnosis|\n|  1|  124|128|                             upper|  Organism_subdivision|\n|  1|  142|146|                             tract|  Organism_subdivision|\n|  1|  160|161|                                He|                Gender|\n|  1|  171|180|                        subjective|              Modifier|\n|  1|  182|187|                            fevers|          Symptom_Name|\n|  1|  238|247|                        occasional|              Modifier|\n|  1|  249|260|                      night sweats|          Symptom_Name|\n|  1|  267|273|                           patient|              Organism|\n|  1|  299|307|                         arthritis|             Diagnosis|\n|  1|  344|345|                                20|                   Age|\n|  1|  389|400|                      methotrexate|       Simple_chemical|\n|  1|  389|400|                      methotrexate|             Drug_Name|\n|  1|  403|406|                              MTX)|             Drug_Name|\n|  1|  403|405|                               MTX|       Simple_chemical|\n|  1|  412|421|                        prednisone|       Simple_chemical|\n|  1|  412|421|                        prednisone|             Drug_Name|\n|  1|  442|443|                                he|                Gender|\n|  1|  460|466|                           febrile|          Symptom_Name|\n|  1|  511|528|                hepatosplenomegaly|          Symptom_Name|\n|  1|  531|537|                           Several|              Modifier|\n|  1|  539|552|                    swollen joints|Multi-tissue_structure|\n|  1|  539|552|                    swollen joints|          Symptom_Name|\n|  1|  636|638|                               His|                Gender|\n|  1|  663|674|                      pancytopenia|          Symptom_Name|\n|  1|  711|721|                       neutrophils|                  Cell|\n|  1|  711|721|                       neutrophils|              Lab_Name|\n+---+-----+---+----------------------------------+----------------------+\n\n</div>",
       "datasetInfos": [],
       "removedWidgets": [],
       "type": "html"
      }
     },
     "output_type": "display_data"
    }
   ],
   "source": [
    "from pyspark.sql import functions as F\n",
    "\n",
    "result_df2 = merged_data.select('id',F.explode('nonOverlapped_ner_chunk').alias(\"cols\")) \\\n",
    ".select('id',F.expr(\"cols.begin\").alias(\"begin\"),\n",
    "        F.expr(\"cols.end\").alias(\"end\"),\n",
    "        F.expr(\"cols.result\").alias(\"chunk\"),\n",
    "        F.expr(\"cols.metadata.entity\").alias(\"entity\"))\n",
    "\n",
    "result_df2.show(50, truncate=100)\n"
   ]
  },
  {
   "cell_type": "markdown",
   "metadata": {
    "application/vnd.databricks.v1+cell": {
     "inputWidgets": {},
     "nuid": "07c67a4e-6121-47b0-b310-644c41f5406c",
     "showTitle": false,
     "title": ""
    }
   },
   "source": [
    "End Od Notebook #7"
   ]
  }
 ],
 "metadata": {
  "application/vnd.databricks.v1+notebook": {
   "dashboards": [],
   "language": "python",
   "notebookMetadata": {
    "pythonIndentUnit": 2
   },
   "notebookName": "7.Clinical_NER_Chunk_Merger_v3.0",
   "notebookOrigID": 1684886116591860,
   "widgets": {}
  },
  "kernelspec": {
   "display_name": "Python 3",
   "language": "python",
   "name": "python3"
  },
  "language_info": {
   "codemirror_mode": {
    "name": "ipython",
    "version": 3
   },
   "file_extension": ".py",
   "mimetype": "text/x-python",
   "name": "python",
   "nbconvert_exporter": "python",
   "pygments_lexer": "ipython3",
   "version": "3.8.3"
  }
 },
 "nbformat": 4,
 "nbformat_minor": 1
}

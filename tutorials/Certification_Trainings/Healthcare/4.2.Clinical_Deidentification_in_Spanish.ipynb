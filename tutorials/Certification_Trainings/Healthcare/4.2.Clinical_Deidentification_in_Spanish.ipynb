{
  "nbformat": 4,
  "nbformat_minor": 0,
  "metadata": {
    "colab": {
      "name": "4.2.Clinical_Deidentification_in_Spanish.ipynb",
      "provenance": [],
      "collapsed_sections": []
    },
    "kernelspec": {
      "name": "python3",
      "display_name": "Python 3"
    },
    "language_info": {
      "name": "python"
    }
  },
  "cells": [
    {
      "cell_type": "markdown",
      "metadata": {
        "id": "I08sFJYCxR0Z"
      },
      "source": [
        "![JohnSnowLabs](https://nlp.johnsnowlabs.com/assets/images/logo.png)"
      ]
    },
    {
      "cell_type": "markdown",
      "metadata": {
        "id": "FwJ-P56kq6FU"
      },
      "source": [
        "[![Open In Colab](https://colab.research.google.com/assets/colab-badge.svg)](https://colab.research.google.com/github/JohnSnowLabs/spark-nlp-workshop/blob/master/tutorials/Certification_Trainings/Healthcare/4.2.Clinical_Deidentification_in_Spanish.ipynb)"
      ]
    },
    {
      "cell_type": "markdown",
      "source": [
        "# Clinical Deidentification in Spanish\n",
        "\n",
        "**Protected Health Information**:\n",
        "\n",
        "Individual’s past, present, or future physical or mental health or condition\n",
        "provision of health care to the individual\n",
        "past, present, or future payment for the health care\n",
        "Protected health information includes many common identifiers (e.g., name, address, birth date, Social Security Number) when they can be associated with the health information."
      ],
      "metadata": {
        "id": "Z7X1prqVxdB2"
      }
    },
    {
      "cell_type": "code",
      "metadata": {
        "id": "RWh6i1PtvE77"
      },
      "source": [
        "import json\n",
        "import os\n",
        "\n",
        "from google.colab import files\n",
        "\n",
        "if 'spark_jsl.json' not in os.listdir():\n",
        "  license_keys = files.upload()\n",
        "  os.rename(list(license_keys.keys())[0], 'spark_jsl.json')\n",
        "\n",
        "with open('spark_jsl.json') as f:\n",
        "    license_keys = json.load(f)\n",
        "\n",
        "# Defining license key-value pairs as local variables\n",
        "locals().update(license_keys)\n",
        "os.environ.update(license_keys)"
      ],
      "execution_count": 1,
      "outputs": []
    },
    {
      "cell_type": "code",
      "metadata": {
        "id": "MfOGbhC2wTyp",
        "colab": {
          "base_uri": "https://localhost:8080/"
        },
        "outputId": "7a5ab257-57e7-4ff3-ed39-e7f6ce798dec"
      },
      "source": [
        "# Installing pyspark and spark-nlp\n",
        "! pip install --upgrade -q pyspark==3.1.2\n",
        "\n",
        "# Installing Spark NLP Healthcare\n",
        "! pip install --upgrade -q spark-nlp-jsl==$JSL_VERSION  --extra-index-url https://pypi.johnsnowlabs.com/$SECRET"
      ],
      "execution_count": 2,
      "outputs": [
        {
          "output_type": "stream",
          "name": "stdout",
          "text": [
            "\u001b[K     |████████████████████████████████| 212.4 MB 70 kB/s \n",
            "\u001b[K     |████████████████████████████████| 198 kB 52.7 MB/s \n",
            "\u001b[?25h  Building wheel for pyspark (setup.py) ... \u001b[?25l\u001b[?25hdone\n",
            "\u001b[K     |████████████████████████████████| 147 kB 5.6 MB/s \n",
            "\u001b[K     |████████████████████████████████| 140 kB 5.4 MB/s \n",
            "\u001b[?25h"
          ]
        }
      ]
    },
    {
      "cell_type": "code",
      "source": [
        "from pyspark.ml import Pipeline, PipelineModel\n",
        "from pyspark.sql import functions as F\n",
        "from pyspark.sql import SparkSession\n",
        "\n",
        "from sparknlp.base import *\n",
        "from sparknlp.annotator import *\n",
        "from sparknlp.pretrained import ResourceDownloader\n",
        "from sparknlp.util import *\n",
        "\n",
        "from sparknlp_jsl.annotator import *\n",
        "\n",
        "import sys\n",
        "import os\n",
        "import json\n",
        "import pandas as pd\n",
        "import string\n",
        "import numpy as np\n",
        "import sparknlp\n",
        "import sparknlp_jsl\n",
        "\n",
        "params = {\"spark.driver.memory\":\"16G\", \n",
        "          \"spark.kryoserializer.buffer.max\":\"2000M\", \n",
        "          \"spark.driver.maxResultSize\":\"2000M\"} \n",
        "\n",
        "spark = sparknlp_jsl.start(SECRET, params=params)\n",
        "\n",
        "spark"
      ],
      "metadata": {
        "id": "nou6cgDm35Vq",
        "colab": {
          "base_uri": "https://localhost:8080/",
          "height": 222
        },
        "outputId": "5780f74a-b743-4e61-dbad-4470d7da40d8"
      },
      "execution_count": 3,
      "outputs": [
        {
          "output_type": "execute_result",
          "data": {
            "text/html": [
              "\n",
              "            <div>\n",
              "                <p><b>SparkSession - in-memory</b></p>\n",
              "                \n",
              "        <div>\n",
              "            <p><b>SparkContext</b></p>\n",
              "\n",
              "            <p><a href=\"http://0cbebf856981:4040\">Spark UI</a></p>\n",
              "\n",
              "            <dl>\n",
              "              <dt>Version</dt>\n",
              "                <dd><code>v3.1.2</code></dd>\n",
              "              <dt>Master</dt>\n",
              "                <dd><code>local[*]</code></dd>\n",
              "              <dt>AppName</dt>\n",
              "                <dd><code>Spark NLP Licensed</code></dd>\n",
              "            </dl>\n",
              "        </div>\n",
              "        \n",
              "            </div>\n",
              "        "
            ],
            "text/plain": [
              "<pyspark.sql.session.SparkSession at 0x7f6205968a90>"
            ]
          },
          "metadata": {},
          "execution_count": 3
        }
      ]
    },
    {
      "cell_type": "code",
      "metadata": {
        "colab": {
          "base_uri": "https://localhost:8080/"
        },
        "id": "fwMiy7-qmUF-",
        "outputId": "15581e56-562a-4369-989e-4c54527cafc7"
      },
      "source": [
        "print (\"Spark NLP Version :\", sparknlp.version())\n",
        "print (\"Spark NLP_JSL Version :\", sparknlp_jsl.version())"
      ],
      "execution_count": 4,
      "outputs": [
        {
          "output_type": "stream",
          "name": "stdout",
          "text": [
            "Spark NLP Version : 3.4.1\n",
            "Spark NLP_JSL Version : 3.4.1\n"
          ]
        }
      ]
    },
    {
      "cell_type": "markdown",
      "source": [
        "# 1. Spanish NER Deidentification Models\n",
        "We have eight different models you can use:\n",
        "* `ner_deid_generic`, detects 7 entities, uses SciWiki 300d embeddings.\n",
        "* `ner_deid_generic_roberta`, same as previous, but uses Roberta Clinical Embeddings.\n",
        "* `ner_deid_generic_augmented`, detects 8 entities (now includes 'SEX' entity), uses SciWiki 300d embeddings and has been trained with more data\n",
        "* `ner_deid_generic_roberta_augmented`, same as previous, but uses Roberta Clinical Embeddings.\n",
        "* `ner_deid_subentity`, detects 13 entities, uses SciWiki 300d embeddings.\n",
        "* `ner_deid_subentity_roberta`, same as previous, but uses Roberta Clinical Embeddings.\n",
        "* `ner_deid_subentity_augmented`, detects 17 entities, uses SciWiki 300d embeddings and has been trained with more data.\n",
        "* `ner_deid_subentity_roberta_augmented`, same as previous, but uses Roberta Clinical Embeddings.\n",
        "\n",
        "Since `augmented` models improve their results compared to the non augmented ones, we are going to show case them in this notebook"
      ],
      "metadata": {
        "id": "VAyEoiHVuhbp"
      }
    },
    {
      "cell_type": "markdown",
      "source": [
        "### Creating pipeline for Sciwiki 300d-based augmented model"
      ],
      "metadata": {
        "id": "V1eksdJQoF4e"
      }
    },
    {
      "cell_type": "code",
      "source": [
        "# Annotator that transforms a text column from dataframe into an Annotation ready for NLP\n",
        "documentAssembler = DocumentAssembler()\\\n",
        "    .setInputCol(\"text\")\\\n",
        "    .setOutputCol(\"document\")\n",
        "\n",
        "sentencerDL = SentenceDetectorDLModel.pretrained(\"sentence_detector_dl\", \"xx\") \\\n",
        "    .setInputCols([\"document\"])\\\n",
        "    .setOutputCol(\"sentence\")\n",
        "\n",
        "# Tokenizer splits words in a relevant format for NLP\n",
        "tokenizer = Tokenizer()\\\n",
        "    .setInputCols([\"sentence\"])\\\n",
        "    .setOutputCol(\"token\")\n",
        "\n",
        "word_embeddings = WordEmbeddingsModel.pretrained(\"embeddings_sciwiki_300d\",\"es\",\"clinical/models\")\\\n",
        "    .setInputCols([\"document\",\"token\"])\\\n",
        "\t.setOutputCol(\"embeddings\")"
      ],
      "metadata": {
        "colab": {
          "base_uri": "https://localhost:8080/"
        },
        "id": "snKDCdXwoNy4",
        "outputId": "e140635b-3e36-43dc-adf3-385753711cd5"
      },
      "execution_count": 6,
      "outputs": [
        {
          "output_type": "stream",
          "name": "stdout",
          "text": [
            "sentence_detector_dl download started this may take some time.\n",
            "Approximate size to download 514.9 KB\n",
            "[OK!]\n",
            "embeddings_sciwiki_300d download started this may take some time.\n",
            "Approximate size to download 253.3 MB\n",
            "[OK!]\n"
          ]
        }
      ]
    },
    {
      "cell_type": "markdown",
      "source": [
        "## 1.1. NER Deid Generic (Augmented)\n",
        "\n",
        "**`ner_deid_generic_augmented`** extracts:\n",
        "- Name\n",
        "- Profession\n",
        "- Age\n",
        "- Date\n",
        "- Contact (Telephone numbers, FAX numbers, Email addresses)\n",
        "- Location (Address, City, Postal code, Hospital Name, Employment information)\n",
        "- Id (Social Security numbers, Medical record numbers, Internet protocol addresses)\n",
        "- Sex\n",
        "\n"
      ],
      "metadata": {
        "id": "3ZuJrSX6tT9m"
      }
    },
    {
      "cell_type": "code",
      "source": [
        "ner_generic = MedicalNerModel.pretrained(\"ner_deid_generic_augmented\", \"es\", \"clinical/models\")\\\n",
        "    .setInputCols([\"sentence\",\"token\",\"embeddings\"])\\\n",
        "    .setOutputCol(\"ner_deid_generic\")\n",
        "\n",
        "ner_converter_generic = NerConverter()\\\n",
        "    .setInputCols([\"sentence\",\"token\",\"ner_deid_generic\"])\\\n",
        "    .setOutputCol(\"ner_chunk_generic\")"
      ],
      "metadata": {
        "colab": {
          "base_uri": "https://localhost:8080/"
        },
        "id": "C-qUIvqpsjV0",
        "outputId": "f513a5b9-ba83-4cce-82f3-1d4b4050f6be"
      },
      "execution_count": 7,
      "outputs": [
        {
          "output_type": "stream",
          "name": "stdout",
          "text": [
            "ner_deid_generic_augmented download started this may take some time.\n",
            "Approximate size to download 14.3 MB\n",
            "[OK!]\n"
          ]
        }
      ]
    },
    {
      "cell_type": "code",
      "source": [
        "ner_generic.getClasses()"
      ],
      "metadata": {
        "colab": {
          "base_uri": "https://localhost:8080/"
        },
        "id": "j7Xy9E_hxN5y",
        "outputId": "2994165a-1894-431b-f2a3-ea62ff33b570"
      },
      "execution_count": 8,
      "outputs": [
        {
          "output_type": "execute_result",
          "data": {
            "text/plain": [
              "['O',\n",
              " 'I-LOCATION',\n",
              " 'B-ORGANIZATION',\n",
              " 'I-CONTACT',\n",
              " 'I-PROFESSION',\n",
              " 'I-NAME',\n",
              " 'I-DATE',\n",
              " 'B-ID',\n",
              " 'B-PROFESSION',\n",
              " 'B-CONTACT',\n",
              " 'I-ID',\n",
              " 'B-NAME',\n",
              " 'B-DATE',\n",
              " 'B-LOCATION',\n",
              " 'B-SEX',\n",
              " 'I-ORGANIZATION',\n",
              " 'B-AGE',\n",
              " 'I-SEX']"
            ]
          },
          "metadata": {},
          "execution_count": 8
        }
      ]
    },
    {
      "cell_type": "markdown",
      "source": [
        "## 1.2. NER Deid Subentity\n",
        "\n",
        "**`ner_deid_subentity`** extracts:\n",
        "\n",
        "- Patient\n",
        "- Doctor\n",
        "- Hospital\n",
        "- Date\n",
        "- Organization\n",
        "- City\n",
        "- Street\n",
        "- User Name\n",
        "- Profession\n",
        "- Phone\n",
        "- Country\n",
        "- Age\n",
        "- Sex\n",
        "- Email\n",
        "- ZIP\n",
        "- ID\n",
        "- Medical Record"
      ],
      "metadata": {
        "id": "3NjkLF70tYdZ"
      }
    },
    {
      "cell_type": "code",
      "source": [
        "ner_subentity = MedicalNerModel.pretrained(\"ner_deid_subentity_augmented\", \"es\", \"clinical/models\")\\\n",
        "    .setInputCols([\"sentence\",\"token\",\"embeddings\"])\\\n",
        "    .setOutputCol(\"ner_deid_subentity\")\n",
        "\n",
        "ner_converter_subentity = NerConverter()\\\n",
        "    .setInputCols([\"sentence\", \"token\", \"ner_deid_subentity\"])\\\n",
        "    .setOutputCol(\"ner_chunk_subentity\")"
      ],
      "metadata": {
        "colab": {
          "base_uri": "https://localhost:8080/"
        },
        "id": "C8n-h6D9tJXx",
        "outputId": "5593e6d4-fe86-47d7-fa5f-9fde3586de94"
      },
      "execution_count": 10,
      "outputs": [
        {
          "output_type": "stream",
          "name": "stdout",
          "text": [
            "ner_deid_subentity_augmented download started this may take some time.\n",
            "Approximate size to download 14.3 MB\n",
            "[OK!]\n"
          ]
        }
      ]
    },
    {
      "cell_type": "code",
      "source": [
        "ner_subentity.getClasses()"
      ],
      "metadata": {
        "colab": {
          "base_uri": "https://localhost:8080/"
        },
        "id": "Oda9sjHDxRyi",
        "outputId": "2d4d9cb8-b12d-40ae-fbb0-a8cb1889da89"
      },
      "execution_count": 11,
      "outputs": [
        {
          "output_type": "execute_result",
          "data": {
            "text/plain": [
              "['O',\n",
              " 'B-MEDICALRECORD',\n",
              " 'B-ORGANIZATION',\n",
              " 'I-PROFESSION',\n",
              " 'B-DOCTOR',\n",
              " 'B-USERNAME',\n",
              " 'B-PROFESSION',\n",
              " 'I-ID',\n",
              " 'B-CITY',\n",
              " 'B-DATE',\n",
              " 'B-PATIENT',\n",
              " 'B-SEX',\n",
              " 'I-SEX',\n",
              " 'I-DOCTOR',\n",
              " 'I-CITY',\n",
              " 'I-DATE',\n",
              " 'B-COUNTRY',\n",
              " 'B-ID',\n",
              " 'B-ZIP',\n",
              " 'I-STREET',\n",
              " 'I-PATIENT',\n",
              " 'B-PHONE',\n",
              " 'I-PHONE',\n",
              " 'B-HOSPITAL',\n",
              " 'B-EMAIL',\n",
              " 'B-STREET',\n",
              " 'I-ORGANIZATION',\n",
              " 'B-AGE',\n",
              " 'I-HOSPITAL',\n",
              " 'I-COUNTRY']"
            ]
          },
          "metadata": {},
          "execution_count": 11
        }
      ]
    },
    {
      "cell_type": "markdown",
      "source": [
        "## 1.4. Pipeline"
      ],
      "metadata": {
        "id": "Eqg29dPuvl5f"
      }
    },
    {
      "cell_type": "code",
      "source": [
        "nlpPipeline = Pipeline(stages=[\n",
        "      documentAssembler, \n",
        "      sentencerDL,\n",
        "      tokenizer,\n",
        "      word_embeddings,\n",
        "      ner_generic,\n",
        "      ner_converter_generic,\n",
        "      ner_subentity,\n",
        "      ner_converter_subentity,\n",
        "      ])\n",
        "\n",
        "empty_data = spark.createDataFrame([[\"\"]]).toDF(\"text\")\n",
        "\n",
        "model = nlpPipeline.fit(empty_data)"
      ],
      "metadata": {
        "id": "P0HZXLF6ueWi"
      },
      "execution_count": 55,
      "outputs": []
    },
    {
      "cell_type": "code",
      "source": [
        "text = \"Antonio Miguel Martínez, un varón de 35 años de edad, de profesión auxiliar de enfermería y nacido en Cadiz, España. Aún no estaba vacunado, se infectó con Covid-19 el dia 14/03/2022 y tuvo que ir al Hospital. Fue tratado con anticuerpos monoclonales en la Clinica San Carlos.\"\n",
        "\n",
        "text_df = spark.createDataFrame([[text]]).toDF(\"text\")\n",
        "\n",
        "result = model.transform(text_df)\n"
      ],
      "metadata": {
        "id": "fG4Vc36EwhFk"
      },
      "execution_count": 56,
      "outputs": []
    },
    {
      "cell_type": "markdown",
      "source": [
        "### Results for `ner_subentity`"
      ],
      "metadata": {
        "id": "y-CMPYTHz-L2"
      }
    },
    {
      "cell_type": "code",
      "source": [
        "result.select(F.explode(F.arrays_zip('ner_chunk_subentity.result', 'ner_chunk_subentity.metadata')).alias(\"cols\")) \\\n",
        ".select(F.expr(\"cols['0']\").alias(\"chunk\"),\n",
        "        F.expr(\"cols['1']['entity']\").alias(\"ner_label\")).show(truncate=False)"
      ],
      "metadata": {
        "colab": {
          "base_uri": "https://localhost:8080/"
        },
        "id": "vEtBcyIjzLA3",
        "outputId": "5980b321-894c-4223-d192-d1b81fc8d796"
      },
      "execution_count": 57,
      "outputs": [
        {
          "output_type": "stream",
          "name": "stdout",
          "text": [
            "+-----------------------+----------+\n",
            "|chunk                  |ner_label |\n",
            "+-----------------------+----------+\n",
            "|Antonio Miguel Martínez|PATIENT   |\n",
            "|un varón               |SEX       |\n",
            "|35                     |AGE       |\n",
            "|auxiliar de enfermería |PROFESSION|\n",
            "|Cadiz                  |CITY      |\n",
            "|España                 |COUNTRY   |\n",
            "|14/03/2022             |DATE      |\n",
            "|Clinica San Carlos     |HOSPITAL  |\n",
            "+-----------------------+----------+\n",
            "\n"
          ]
        }
      ]
    },
    {
      "cell_type": "markdown",
      "source": [
        "### Results for `ner_generic`"
      ],
      "metadata": {
        "id": "MNUKLQMi0GjT"
      }
    },
    {
      "cell_type": "code",
      "source": [
        "result.select(F.explode(F.arrays_zip('ner_chunk_generic.result', 'ner_chunk_generic.metadata')).alias(\"cols\")) \\\n",
        ".select(F.expr(\"cols['0']\").alias(\"chunk\"),\n",
        "        F.expr(\"cols['1']['entity']\").alias(\"ner_label\")).show(truncate=False)"
      ],
      "metadata": {
        "colab": {
          "base_uri": "https://localhost:8080/"
        },
        "id": "K2wDmdiFzwDb",
        "outputId": "de7ca06c-6a96-45b4-c59b-280f30439e8b"
      },
      "execution_count": 58,
      "outputs": [
        {
          "output_type": "stream",
          "name": "stdout",
          "text": [
            "+-----------------------+----------+\n",
            "|chunk                  |ner_label |\n",
            "+-----------------------+----------+\n",
            "|Antonio Miguel Martínez|NAME      |\n",
            "|un varón               |SEX       |\n",
            "|35                     |AGE       |\n",
            "|auxiliar de enfermería |PROFESSION|\n",
            "|Cadiz                  |LOCATION  |\n",
            "|España                 |LOCATION  |\n",
            "|14/03/2022             |DATE      |\n",
            "|Clinica San Carlos     |LOCATION  |\n",
            "+-----------------------+----------+\n",
            "\n"
          ]
        }
      ]
    },
    {
      "cell_type": "markdown",
      "source": [
        "## Deidentification"
      ],
      "metadata": {
        "id": "u-OTUyBK6yrt"
      }
    },
    {
      "cell_type": "code",
      "source": [
        "# Downloading faker entity list.\n",
        "! wget -q https://raw.githubusercontent.com/JohnSnowLabs/spark-nlp-workshop/master/tutorials/Certification_Trainings/Healthcare/data/obfuscate_es.txt"
      ],
      "metadata": {
        "id": "pbJisU_u7Kpl"
      },
      "execution_count": 43,
      "outputs": []
    },
    {
      "cell_type": "code",
      "source": [
        "deid_masked_entity = DeIdentification()\\\n",
        "    .setInputCols([\"sentence\", \"token\", \"ner_chunk_subentity\"])\\\n",
        "    .setOutputCol(\"masked_with_entity\")\\\n",
        "    .setMode(\"mask\")\\\n",
        "    .setMaskingPolicy(\"entity_labels\")\n",
        "\n",
        "deid_masked_char = DeIdentification()\\\n",
        "    .setInputCols([\"sentence\", \"token\", \"ner_chunk_subentity\"])\\\n",
        "    .setOutputCol(\"masked_with_chars\")\\\n",
        "    .setMode(\"mask\")\\\n",
        "    .setMaskingPolicy(\"same_length_chars\")\n",
        "\n",
        "deid_masked_fixed_char = DeIdentification()\\\n",
        "    .setInputCols([\"sentence\", \"token\", \"ner_chunk_subentity\"])\\\n",
        "    .setOutputCol(\"masked_fixed_length_chars\")\\\n",
        "    .setMode(\"mask\")\\\n",
        "    .setMaskingPolicy(\"fixed_length_chars\")\\\n",
        "    .setFixedMaskLength(4)\n",
        "\n",
        "deid_obfuscated = DeIdentification()\\\n",
        "      .setInputCols([\"sentence\", \"token\", \"ner_chunk_subentity\"]) \\\n",
        "      .setOutputCol(\"obfuscated\") \\\n",
        "      .setMode(\"obfuscate\")\\\n",
        "      .setObfuscateDate(True)\\\n",
        "      .setObfuscateRefSource('faker')\\\n",
        "      .setObfuscateRefFile('obfuscate_es.txt')\\\n",
        "      .setObfuscateRefSource(\"file\")\\"
      ],
      "metadata": {
        "id": "CBo2T-sZ64IJ"
      },
      "execution_count": 59,
      "outputs": []
    },
    {
      "cell_type": "code",
      "source": [
        "nlpPipeline = Pipeline(stages=[\n",
        "      documentAssembler, \n",
        "      sentencerDL,\n",
        "      tokenizer,\n",
        "      word_embeddings,\n",
        "      ner_subentity,\n",
        "      ner_converter_subentity,\n",
        "      deid_masked_entity,\n",
        "      deid_masked_char,\n",
        "      deid_masked_fixed_char,\n",
        "      deid_obfuscated\n",
        "      ])\n",
        "\n",
        "empty_data = spark.createDataFrame([[\"\"]]).toDF(\"text\")\n",
        "\n",
        "model = nlpPipeline.fit(empty_data)"
      ],
      "metadata": {
        "id": "h9pmXn0f75ST"
      },
      "execution_count": 60,
      "outputs": []
    },
    {
      "cell_type": "code",
      "source": [
        "deid_lp = LightPipeline(model)"
      ],
      "metadata": {
        "id": "oVOL3bwr8J18"
      },
      "execution_count": 61,
      "outputs": []
    },
    {
      "cell_type": "code",
      "source": [
        "text = \"Antonio Miguel Martínez, un varón de 35 años de edad, de profesión auxiliar de enfermería y nacido en Cadiz, España. Aún no estaba vacunado, se infectó con Covid-19 el dia 14/03/2022 y tuvo que ir al Hospital. Fue tratado con anticuerpos monoclonales en la Clinica San Carlos.\""
      ],
      "metadata": {
        "id": "Maco1EiD8TK4"
      },
      "execution_count": 64,
      "outputs": []
    },
    {
      "cell_type": "code",
      "source": [
        "result = deid_lp.annotate(text)\n",
        "\n",
        "print(\"\\n\".join(result['masked_with_entity']))\n",
        "print(\"\\n\")\n",
        "print(\"\\n\".join(result['masked_with_chars']))\n",
        "print(\"\\n\")\n",
        "print(\"\\n\".join(result['masked_fixed_length_chars']))\n",
        "print(\"\\n\")\n",
        "print(\"\\n\".join(result['obfuscated']))"
      ],
      "metadata": {
        "colab": {
          "base_uri": "https://localhost:8080/"
        },
        "id": "CXEmE1i78PX4",
        "outputId": "1f0855e1-4724-4b4e-e981-80ed3be1440f"
      },
      "execution_count": 65,
      "outputs": [
        {
          "output_type": "stream",
          "name": "stdout",
          "text": [
            "<PATIENT>, <SEX> de <AGE> años de edad, de profesión <PROFESSION> y nacido en <CITY>, <COUNTRY>.\n",
            "Aún no estaba vacunado, se infectó con Covid-19 el dia <DATE> y tuvo que ir al Hospital. Fue tratado con anticuerpos monoclonales en la <HOSPITAL>.\n",
            "\n",
            "\n",
            "[*********************], [******] de ** años de edad, de profesión [********************] y nacido en [***], [****].\n",
            "Aún no estaba vacunado, se infectó con Covid-19 el dia [********] y tuvo que ir al Hospital. Fue tratado con anticuerpos monoclonales en la [****************].\n",
            "\n",
            "\n",
            "****, **** de **** años de edad, de profesión **** y nacido en ****, ****.\n",
            "Aún no estaba vacunado, se infectó con Covid-19 el dia **** y tuvo que ir al Hospital. Fue tratado con anticuerpos monoclonales en la ****.\n",
            "\n",
            "\n",
            "María Miguélez Sanz, M. de 26 años de edad, de profesión Militar y nacido en Barcelona, Brasil.\n",
            "Aún no estaba vacunado, se infectó con Covid-19 el dia 18/04/2022 y tuvo que ir al Hospital. Fue tratado con anticuerpos monoclonales en la Hospital La Paz.\n"
          ]
        }
      ]
    },
    {
      "cell_type": "markdown",
      "source": [
        "# 2. Pretrained Spanish Deidentification Pipeline\n",
        "\n",
        "- We developed a clinical deidentification pretrained pipeline that can be used to deidentify PHI information from German medical texts. The PHI information will be masked and obfuscated in the resulting text. \n",
        "- The pipeline can mask and obfuscate:\n",
        "    - Patient\n",
        "    - Doctor\n",
        "    - Hospital\n",
        "    - Date\n",
        "    - Organization\n",
        "    - City\n",
        "    - Street\n",
        "    - Country\n",
        "    - User name\n",
        "    - Profession\n",
        "    - Phone\n",
        "    - Age\n",
        "    - Contact\n",
        "    - ID\n",
        "    - Phone\n",
        "    - ZIP\n",
        "    - Account\n",
        "    - SSN\n",
        "    - Driver's License Number\n",
        "    - Plate Number\n",
        "    - Sex"
      ],
      "metadata": {
        "id": "RRuq9NeemSaf"
      }
    },
    {
      "cell_type": "code",
      "source": [
        "from sparknlp.pretrained import PretrainedPipeline\n",
        "\n",
        "deid_pipeline = PretrainedPipeline(\"clinical_deidentification_augmented\", \"es\", \"clinical/models\")"
      ],
      "metadata": {
        "colab": {
          "base_uri": "https://localhost:8080/"
        },
        "id": "_vBWjdVTFGHD",
        "outputId": "867ca617-bebb-4852-9c36-43103b9d2858"
      },
      "execution_count": 66,
      "outputs": [
        {
          "output_type": "stream",
          "name": "stdout",
          "text": [
            "clinical_deidentification_augmented download started this may take some time.\n",
            "Approx size to download 268.2 MB\n",
            "[OK!]\n"
          ]
        }
      ]
    },
    {
      "cell_type": "code",
      "source": [
        "text = \"\"\"Datos del paciente.\n",
        "Nombre:  Ernesto.\n",
        "Apellidos: Rivera Bueno.\n",
        "NHC: 368503.\n",
        "NASS: 26 63514095.\n",
        "Domicilio:  Calle Miguel Benitez 90.\n",
        "Localidad/ Provincia: Madrid.\n",
        "CP: 28016.\n",
        "Datos asistenciales.\n",
        "Fecha de nacimiento: 03/03/1946.\n",
        "País: España.\n",
        "Edad: 70 años Sexo: H.\n",
        "Fecha de Ingreso: 12/12/2016.\n",
        "Médico:  Ignacio Navarro Cuéllar NºCol: 28 28 70973.\n",
        "Informe clínico del paciente: Paciente de 70 años de edad, minero jubilado, sin alergias medicamentosas conocidas, que presenta como antecedentes personales: accidente laboral antiguo con fracturas vertebrales y costales; intervenido de enfermedad de Dupuytren en mano derecha y by-pass iliofemoral izquierdo; Diabetes Mellitus tipo II, hipercolesterolemia e hiperuricemia; enolismo activo, fumador de 20 cigarrillos / día.\n",
        "Es derivado desde Atención Primaria por presentar hematuria macroscópica postmiccional en una ocasión y microhematuria persistente posteriormente, con micciones normales.\n",
        "En la exploración física presenta un buen estado general, con abdomen y genitales normales; tacto rectal compatible con adenoma de próstata grado I/IV.\n",
        "En la analítica de orina destaca la existencia de 4 hematíes/ campo y 0-5 leucocitos/campo; resto de sedimento normal.\n",
        "Hemograma normal; en la bioquímica destaca una glucemia de 169 mg/dl y triglicéridos de 456 mg/dl; función hepática y renal normal. PSA de 1.16 ng/ml.\n",
        "Las citologías de orina son repetidamente sospechosas de malignidad.\n",
        "En la placa simple de abdomen se valoran cambios degenerativos en columna lumbar y calcificaciones vasculares en ambos hipocondrios y en pelvis.\n",
        "La ecografía urológica pone de manifiesto la existencia de quistes corticales simples en riñón derecho, vejiga sin alteraciones con buena capacidad y próstata con un peso de 30 g.\n",
        "En la UIV se observa normofuncionalismo renal bilateral, calcificaciones sobre silueta renal derecha y uréteres arrosariados con imágenes de adición en el tercio superior de ambos uréteres, en relación a pseudodiverticulosis ureteral. El cistograma demuestra una vejiga con buena capacidad, pero paredes trabeculadas en relación a vejiga de esfuerzo. La TC abdominal es normal.\n",
        "La cistoscopia descubre la existencia de pequeñas tumoraciones vesicales, realizándose resección transuretral con el resultado anatomopatológico de carcinoma urotelial superficial de vejiga.\n",
        "Remitido por: Ignacio Navarro Cuéllar c/ del Abedul 5-7, 2º dcha 28036 Madrid, España E-mail: nnavcu@hotmail.com.\n",
        "\"\"\"\n",
        "\n",
        "result = deid_pipeline.annotate(text)\n",
        "print(\"\\n\".join(result['masked_with_chars']))\n",
        "print(\"\\n\")\n",
        "print(\"\\n\".join(result['masked']))\n",
        "print(\"\\n\")\n",
        "print(\"\\n\".join(result['masked_fixed_length_chars']))\n",
        "print(\"\\n\")\n",
        "print(\"\\n\".join(result['obfuscated']))"
      ],
      "metadata": {
        "colab": {
          "base_uri": "https://localhost:8080/"
        },
        "id": "Esy1Yis8Hn1X",
        "outputId": "6fa4769c-48f6-4463-bdae-0cb07b7b4970"
      },
      "execution_count": 67,
      "outputs": [
        {
          "output_type": "stream",
          "name": "stdout",
          "text": [
            "Datos [**********].\n",
            "Nombre:  [*****].\n",
            "Apellidos: [**********].\n",
            "NHC: [****].\n",
            "NASS: [*********].\n",
            "Domicilio:  [*********************].\n",
            "Localidad/ Provincia: [****].\n",
            "CP: [***].\n",
            "Datos asistenciales.\n",
            "Fecha de nacimiento: [********].\n",
            "País: [****].\n",
            "Edad: ** años Sexo: *.\n",
            "Fecha de Ingreso: [********].\n",
            "Médico:  [*********************] NºCol: [*********].\n",
            "Informe clínico [**********]: [******] ** ** años de edad, minero jubilado, sin alergias medicamentosas conocidas, que presenta como antecedentes personales: accidente laboral antiguo con fracturas vertebrales y costales; intervenido de enfermedad de Dupuytren en mano derecha y by-pass iliofemoral izquierdo;\n",
            "Diabetes Mellitus tipo II, hipercolesterolemia e hiperuricemia; enolismo activo, fumador de 20 cigarrillos / día.\n",
            "Es derivado desde Atención Primaria por presentar hematuria macroscópica postmiccional en una ocasión y microhematuria persistente posteriormente, con micciones normales.\n",
            "En la exploración física presenta un buen estado general, con abdomen y genitales normales; tacto rectal compatible con adenoma de próstata grado I/IV.\n",
            "En la analítica de orina destaca la existencia de 4 hematíes/ campo y 0-5 leucocitos/campo; resto de sedimento normal.\n",
            "Hemograma normal; en la bioquímica destaca una glucemia de 169 mg/dl y triglicéridos de 456 mg/dl; función hepática y renal normal. PSA de 1.16 ng/ml.\n",
            "Las citologías de orina son repetidamente sospechosas de malignidad.\n",
            "En la placa simple de abdomen se valoran cambios degenerativos en columna lumbar y calcificaciones vasculares en ambos hipocondrios y en pelvis.\n",
            "La ecografía urológica pone de manifiesto la existencia de quistes corticales simples en riñón derecho, vejiga sin alteraciones con buena capacidad y próstata con un peso de 30 g.\n",
            "En la UIV se observa normofuncionalismo renal bilateral, calcificaciones sobre silueta renal derecha y uréteres arrosariados con imágenes de adición en el tercio superior de ambos uréteres, en relación a pseudodiverticulosis ureteral. El cistograma demuestra una vejiga con buena capacidad, pero paredes trabeculadas en relación a vejiga de esfuerzo.\n",
            "La TC abdominal es normal.\n",
            "La cistoscopia descubre la existencia de pequeñas tumoraciones vesicales, realizándose resección transuretral con el resultado anatomopatológico de carcinoma urotelial superficial de vejiga.\n",
            "Remitido por: [*********************] [***************], [*****] [***] [****], [****] E-mail: [****************].\n",
            "\n",
            "\n",
            "Datos <SEX>.\n",
            "Nombre:  <PATIENT>.\n",
            "Apellidos: <PATIENT>.\n",
            "NHC: <SSN>.\n",
            "NASS: <ID>.\n",
            "Domicilio:  <STREET>.\n",
            "Localidad/ Provincia: <CITY>.\n",
            "CP: <ZIP>.\n",
            "Datos asistenciales.\n",
            "Fecha de nacimiento: <DATE>.\n",
            "País: <COUNTRY>.\n",
            "Edad: <AGE> años Sexo: <SEX>.\n",
            "Fecha de Ingreso: <DATE>.\n",
            "Médico:  <DOCTOR> NºCol: <ID>.\n",
            "Informe clínico <SEX>: <SSN> <SSN> <AGE> años de edad, minero jubilado, sin alergias medicamentosas conocidas, que presenta como antecedentes personales: accidente laboral antiguo con fracturas vertebrales y costales; intervenido de enfermedad de Dupuytren en mano derecha y by-pass iliofemoral izquierdo;\n",
            "Diabetes Mellitus tipo II, hipercolesterolemia e hiperuricemia; enolismo activo, fumador de 20 cigarrillos / día.\n",
            "Es derivado desde Atención Primaria por presentar hematuria macroscópica postmiccional en una ocasión y microhematuria persistente posteriormente, con micciones normales.\n",
            "En la exploración física presenta un buen estado general, con abdomen y genitales normales; tacto rectal compatible con adenoma de próstata grado I/IV.\n",
            "En la analítica de orina destaca la existencia de 4 hematíes/ campo y 0-5 leucocitos/campo; resto de sedimento normal.\n",
            "Hemograma normal; en la bioquímica destaca una glucemia de 169 mg/dl y triglicéridos de 456 mg/dl; función hepática y renal normal. PSA de 1.16 ng/ml.\n",
            "Las citologías de orina son repetidamente sospechosas de malignidad.\n",
            "En la placa simple de abdomen se valoran cambios degenerativos en columna lumbar y calcificaciones vasculares en ambos hipocondrios y en pelvis.\n",
            "La ecografía urológica pone de manifiesto la existencia de quistes corticales simples en riñón derecho, vejiga sin alteraciones con buena capacidad y próstata con un peso de 30 g.\n",
            "En la UIV se observa normofuncionalismo renal bilateral, calcificaciones sobre silueta renal derecha y uréteres arrosariados con imágenes de adición en el tercio superior de ambos uréteres, en relación a pseudodiverticulosis ureteral. El cistograma demuestra una vejiga con buena capacidad, pero paredes trabeculadas en relación a vejiga de esfuerzo.\n",
            "La TC abdominal es normal.\n",
            "La cistoscopia descubre la existencia de pequeñas tumoraciones vesicales, realizándose resección transuretral con el resultado anatomopatológico de carcinoma urotelial superficial de vejiga.\n",
            "Remitido por: <DOCTOR> <STREET>, <STREET> <ZIP> <CITY>, <COUNTRY> E-mail: <EMAIL>.\n",
            "\n",
            "\n",
            "Datos ****.\n",
            "Nombre:  ****.\n",
            "Apellidos: ****.\n",
            "NHC: ****.\n",
            "NASS: ****.\n",
            "Domicilio:  ****.\n",
            "Localidad/ Provincia: ****.\n",
            "CP: ****.\n",
            "Datos asistenciales.\n",
            "Fecha de nacimiento: ****.\n",
            "País: ****.\n",
            "Edad: **** años Sexo: ****.\n",
            "Fecha de Ingreso: ****.\n",
            "Médico:  **** NºCol: ****.\n",
            "Informe clínico ****: **** **** **** años de edad, minero jubilado, sin alergias medicamentosas conocidas, que presenta como antecedentes personales: accidente laboral antiguo con fracturas vertebrales y costales; intervenido de enfermedad de Dupuytren en mano derecha y by-pass iliofemoral izquierdo;\n",
            "Diabetes Mellitus tipo II, hipercolesterolemia e hiperuricemia; enolismo activo, fumador de 20 cigarrillos / día.\n",
            "Es derivado desde Atención Primaria por presentar hematuria macroscópica postmiccional en una ocasión y microhematuria persistente posteriormente, con micciones normales.\n",
            "En la exploración física presenta un buen estado general, con abdomen y genitales normales; tacto rectal compatible con adenoma de próstata grado I/IV.\n",
            "En la analítica de orina destaca la existencia de 4 hematíes/ campo y 0-5 leucocitos/campo; resto de sedimento normal.\n",
            "Hemograma normal; en la bioquímica destaca una glucemia de 169 mg/dl y triglicéridos de 456 mg/dl; función hepática y renal normal. PSA de 1.16 ng/ml.\n",
            "Las citologías de orina son repetidamente sospechosas de malignidad.\n",
            "En la placa simple de abdomen se valoran cambios degenerativos en columna lumbar y calcificaciones vasculares en ambos hipocondrios y en pelvis.\n",
            "La ecografía urológica pone de manifiesto la existencia de quistes corticales simples en riñón derecho, vejiga sin alteraciones con buena capacidad y próstata con un peso de 30 g.\n",
            "En la UIV se observa normofuncionalismo renal bilateral, calcificaciones sobre silueta renal derecha y uréteres arrosariados con imágenes de adición en el tercio superior de ambos uréteres, en relación a pseudodiverticulosis ureteral. El cistograma demuestra una vejiga con buena capacidad, pero paredes trabeculadas en relación a vejiga de esfuerzo.\n",
            "La TC abdominal es normal.\n",
            "La cistoscopia descubre la existencia de pequeñas tumoraciones vesicales, realizándose resección transuretral con el resultado anatomopatológico de carcinoma urotelial superficial de vejiga.\n",
            "Remitido por: **** ****, **** **** ****, **** E-mail: ****.\n",
            "\n",
            "\n",
            "Datos Mujer.\n",
            "Nombre:  Antonio González Cuevas.\n",
            "Apellidos: Aurora Garrido Paez.\n",
            "NHC: BBBBBBBBQR648597.\n",
            "NASS: 21.933.113-S.\n",
            "Domicilio:  Calle Ramón y Cajal s/n.\n",
            "Localidad/ Provincia: Alicante.\n",
            "CP: 21206.\n",
            "Datos asistenciales.\n",
            "Fecha de nacimiento: 23/03/1946.\n",
            "País: España.\n",
            "Edad: 46 años Sexo: Hombre.\n",
            "Fecha de Ingreso: 20/12/2016.\n",
            "Médico:  María del Carmen Carrasco Gonzálvez NºCol: 48127833R.\n",
            "Informe clínico Mujer: BBBBBBBBQR648597 BBBBBBBBQR648597 46 años de edad, minero jubilado, sin alergias medicamentosas conocidas, que presenta como antecedentes personales: accidente laboral antiguo con fracturas vertebrales y costales; intervenido de enfermedad de Dupuytren en mano derecha y by-pass iliofemoral izquierdo;\n",
            "Diabetes Mellitus tipo II, hipercolesterolemia e hiperuricemia; enolismo activo, fumador de 20 cigarrillos / día.\n",
            "Es derivado desde Atención Primaria por presentar hematuria macroscópica postmiccional en una ocasión y microhematuria persistente posteriormente, con micciones normales.\n",
            "En la exploración física presenta un buen estado general, con abdomen y genitales normales; tacto rectal compatible con adenoma de próstata grado I/IV.\n",
            "En la analítica de orina destaca la existencia de 4 hematíes/ campo y 0-5 leucocitos/campo; resto de sedimento normal.\n",
            "Hemograma normal; en la bioquímica destaca una glucemia de 169 mg/dl y triglicéridos de 456 mg/dl; función hepática y renal normal. PSA de 1.16 ng/ml.\n",
            "Las citologías de orina son repetidamente sospechosas de malignidad.\n",
            "En la placa simple de abdomen se valoran cambios degenerativos en columna lumbar y calcificaciones vasculares en ambos hipocondrios y en pelvis.\n",
            "La ecografía urológica pone de manifiesto la existencia de quistes corticales simples en riñón derecho, vejiga sin alteraciones con buena capacidad y próstata con un peso de 30 g.\n",
            "En la UIV se observa normofuncionalismo renal bilateral, calcificaciones sobre silueta renal derecha y uréteres arrosariados con imágenes de adición en el tercio superior de ambos uréteres, en relación a pseudodiverticulosis ureteral. El cistograma demuestra una vejiga con buena capacidad, pero paredes trabeculadas en relación a vejiga de esfuerzo.\n",
            "La TC abdominal es normal.\n",
            "La cistoscopia descubre la existencia de pequeñas tumoraciones vesicales, realizándose resección transuretral con el resultado anatomopatológico de carcinoma urotelial superficial de vejiga.\n",
            "Remitido por: María del Carmen Carrasco Gonzálvez C/ Gran Via, 2, C/ Gran Via, 2 21206 Alicante, España E-mail: HenryWatson@world.com.\n"
          ]
        }
      ]
    },
    {
      "cell_type": "markdown",
      "source": [
        "# Other NER versions: Using Roberta Clinical Embeddings based NER\n",
        "You can use also Roberta Clinical Embeddings and `_roberta` , instead of Sciwi for NER models (not for Pretrained Pipeline, that comes only with `Sciwi`). This is an example of how to use the "
      ],
      "metadata": {
        "id": "cshjoPRXVTkP"
      }
    },
    {
      "cell_type": "code",
      "source": [
        "documentAssembler = DocumentAssembler()\\\n",
        "        .setInputCol(\"text\")\\\n",
        "        .setOutputCol(\"document\")\n",
        "        \n",
        "sentenceDetector = SentenceDetectorDLModel.pretrained(\"sentence_detector_dl\",\"xx\")\\\n",
        "        .setInputCols([\"document\"])\\\n",
        "        .setOutputCol(\"sentence\")\n",
        "\n",
        "tokenizer = Tokenizer()\\\n",
        "        .setInputCols([\"sentence\"])\\\n",
        "        .setOutputCol(\"token\")\n",
        "\n",
        "roberta_embeddings = RoBertaEmbeddings.pretrained(\"roberta_base_biomedical\", \"es\")\\\n",
        "    .setInputCols([\"sentence\", \"token\"])\\\n",
        "    .setOutputCol(\"embeddings\")\n",
        "\n",
        "clinical_ner = MedicalNerModel.pretrained(\"ner_deid_subentity_roberta_augmented\", \"es\", \"clinical/models\")\\\n",
        "        .setInputCols([\"sentence\",\"token\",\"embeddings\"])\\\n",
        "        .setOutputCol(\"ner\")\n",
        "\n",
        "ner_converter = NerConverter()\\\n",
        "        .setInputCols([\"sentence\",\"token\",\"ner\"])\\\n",
        "        .setOutputCol(\"ner_chunk\")\n",
        "\n",
        "nlpPipeline = Pipeline(stages=[\n",
        "        documentAssembler,\n",
        "        sentenceDetector,\n",
        "        tokenizer,\n",
        "        roberta_embeddings,\n",
        "        clinical_ner,\n",
        "        ner_converter])\n",
        "\n",
        "empty_data = spark.createDataFrame([[\"\"]]).toDF(\"text\")\n",
        "\n",
        "model = nlpPipeline.fit(empty_data)\n"
      ],
      "metadata": {
        "colab": {
          "base_uri": "https://localhost:8080/"
        },
        "id": "jubtKtrOVQoX",
        "outputId": "d4376122-cbd0-425f-8351-d7600b883726"
      },
      "execution_count": 68,
      "outputs": [
        {
          "output_type": "stream",
          "name": "stdout",
          "text": [
            "sentence_detector_dl download started this may take some time.\n",
            "Approximate size to download 514.9 KB\n",
            "[OK!]\n",
            "roberta_base_biomedical download started this may take some time.\n",
            "Approximate size to download 288 MB\n",
            "[OK!]\n",
            "ner_deid_subentity_roberta_augmented download started this may take some time.\n",
            "Approximate size to download 15.6 MB\n",
            "[OK!]\n"
          ]
        }
      ]
    },
    {
      "cell_type": "code",
      "source": [
        "text = ['''\n",
        "Antonio Miguel Martínez, varón de de 35 años de edad, de profesión auxiliar de enfermería y nacido en Cadiz, España. Aún no estaba vacunado, se infectó con Covid-19 el dia 14 de Marzo y tuvo que ir al Hospital\n",
        "Fue tratado con anticuerpos monoclonales en la Clinica San Carlos.\n",
        "''']"
      ],
      "metadata": {
        "id": "3G5v1GOxWUlJ"
      },
      "execution_count": 69,
      "outputs": []
    },
    {
      "cell_type": "code",
      "source": [
        "result = model.transform(spark.createDataFrame([text]).toDF(\"text\"))"
      ],
      "metadata": {
        "id": "C0YoiNe4W-En"
      },
      "execution_count": 71,
      "outputs": []
    },
    {
      "cell_type": "code",
      "source": [
        "result.select(F.explode(F.arrays_zip('ner_chunk.result', 'ner_chunk.metadata')).alias(\"cols\")) \\\n",
        ".select(F.expr(\"cols['0']\").alias(\"chunk\"),\n",
        "        F.expr(\"cols['1']['entity']\").alias(\"ner_label\")).show(truncate=False)"
      ],
      "metadata": {
        "colab": {
          "base_uri": "https://localhost:8080/"
        },
        "id": "2arYlCoQWrco",
        "outputId": "1270abce-a6d8-4026-b365-e67b8c3b3cfd"
      },
      "execution_count": 72,
      "outputs": [
        {
          "output_type": "stream",
          "name": "stdout",
          "text": [
            "+-----------------------+----------+\n",
            "|chunk                  |ner_label |\n",
            "+-----------------------+----------+\n",
            "|Antonio Miguel Martínez|PATIENT   |\n",
            "|varón                  |SEX       |\n",
            "|35                     |AGE       |\n",
            "|auxiliar de enfermería |PROFESSION|\n",
            "|Cadiz                  |CITY      |\n",
            "|España                 |COUNTRY   |\n",
            "|14 de Marzo            |DATE      |\n",
            "|Clinica San Carlos     |HOSPITAL  |\n",
            "+-----------------------+----------+\n",
            "\n"
          ]
        }
      ]
    },
    {
      "cell_type": "markdown",
      "source": [
        "# About non-augmented models\n",
        "You can use any of the previous models without the `_augmented` suffix. However, those models were trained with less data and have less entities, so we highly recommend to use the `augmented` versions."
      ],
      "metadata": {
        "id": "91h16KhvXNT_"
      }
    }
  ]
}

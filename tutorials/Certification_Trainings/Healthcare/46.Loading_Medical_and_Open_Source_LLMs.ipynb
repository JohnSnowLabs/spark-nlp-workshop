{
 "cells": [
  {
   "cell_type": "markdown",
   "metadata": {
    "id": "OOK-O6TBrMF1"
   },
   "source": [
    "![JohnSnowLabs](https://nlp.johnsnowlabs.com/assets/images/logo.png)"
   ]
  },
  {
   "cell_type": "markdown",
   "metadata": {
    "id": "qU3ekKSQrSD_"
   },
   "source": [
    "[![Open In Colab](https://colab.research.google.com/assets/colab-badge.svg)](https://colab.research.google.com/github/JohnSnowLabs/spark-nlp-workshop/blob/master/tutorials/Certification_Trainings/Healthcare/46.Loading_Medical_and_Open_Source_LLMs.ipynb)"
   ]
  },
  {
   "cell_type": "markdown",
   "metadata": {
    "id": "X_I1GNjBERqK"
   },
   "source": [
    "# Loading Medical and Open Souce LLMs\n",
    "\n"
   ]
  },
  {
   "cell_type": "markdown",
   "metadata": {
    "id": "y722Oob4mdSp"
   },
   "source": [
    "## Colab Setup"
   ]
  },
  {
   "cell_type": "code",
   "execution_count": null,
   "metadata": {
    "id": "NDGnhNE2mdSq"
   },
   "outputs": [],
   "source": [
    "import json, os\n",
    "from google.colab import files\n",
    "\n",
    "if 'spark_jsl.json' not in os.listdir():\n",
    "  license_keys = files.upload()\n",
    "  os.rename(list(license_keys.keys())[0], 'spark_jsl.json')\n",
    "\n",
    "with open('spark_jsl.json') as f:\n",
    "    license_keys = json.load(f)\n",
    "\n",
    "# Defining license key-value pairs as local variables\n",
    "locals().update(license_keys)\n",
    "os.environ.update(license_keys)"
   ]
  },
  {
   "cell_type": "code",
   "execution_count": null,
   "metadata": {
    "colab": {
     "base_uri": "https://localhost:8080/"
    },
    "executionInfo": {
     "elapsed": 11069,
     "status": "ok",
     "timestamp": 1755083495710,
     "user": {
      "displayName": "Bünyamin Polat",
      "userId": "03982086590103784785"
     },
     "user_tz": -120
    },
    "id": "824ezfidmdSq",
    "outputId": "f3e30be5-df51-44d1-b0e9-1843d7b8133f"
   },
   "outputs": [
    {
     "name": "stdout",
     "output_type": "stream",
     "text": [
      "\u001b[2K   \u001b[90m━━━━━━━━━━━━━━━━━━━━━━━━━━━━━━━━━━━━━━━━\u001b[0m \u001b[32m727.0/727.0 kB\u001b[0m \u001b[31m36.7 MB/s\u001b[0m eta \u001b[36m0:00:00\u001b[0m\n",
      "\u001b[2K     \u001b[90m━━━━━━━━━━━━━━━━━━━━━━━━━━━━━━━━━━━━━\u001b[0m \u001b[32m561.2/561.2 kB\u001b[0m \u001b[31m587.7 kB/s\u001b[0m eta \u001b[36m0:00:00\u001b[0m\n",
      "\u001b[?25h"
     ]
    }
   ],
   "source": [
    "# Installing pyspark and spark-nlp\n",
    "! pip install --upgrade -q pyspark==3.5.1 spark-nlp==$PUBLIC_VERSION\n",
    "\n",
    "# Installing Spark NLP Healthcare\n",
    "! pip install --upgrade -q spark-nlp-jsl==$JSL_VERSION  --extra-index-url https://pypi.johnsnowlabs.com/$SECRET\n",
    "\n",
    "# Installing Spark NLP Display Library for visualization\n",
    "#! pip install -q spark-nlp-display"
   ]
  },
  {
   "cell_type": "code",
   "execution_count": null,
   "metadata": {
    "colab": {
     "base_uri": "https://localhost:8080/",
     "height": 256
    },
    "executionInfo": {
     "elapsed": 228895,
     "status": "ok",
     "timestamp": 1755083724608,
     "user": {
      "displayName": "Bünyamin Polat",
      "userId": "03982086590103784785"
     },
     "user_tz": -120
    },
    "id": "EO_XGKCxmdSq",
    "outputId": "8290ff6c-a16d-41d6-c815-bc5f06d6a4da"
   },
   "outputs": [
    {
     "name": "stdout",
     "output_type": "stream",
     "text": [
      "Spark NLP Version : 6.1.1\n",
      "Spark NLP_JSL Version : 6.1.0\n"
     ]
    },
    {
     "data": {
      "text/html": [
       "\n",
       "            <div>\n",
       "                <p><b>SparkSession - in-memory</b></p>\n",
       "                \n",
       "        <div>\n",
       "            <p><b>SparkContext</b></p>\n",
       "\n",
       "            <p><a href=\"http://1e3ced51a492:4040\">Spark UI</a></p>\n",
       "\n",
       "            <dl>\n",
       "              <dt>Version</dt>\n",
       "                <dd><code>v3.5.1</code></dd>\n",
       "              <dt>Master</dt>\n",
       "                <dd><code>local[*]</code></dd>\n",
       "              <dt>AppName</dt>\n",
       "                <dd><code>Spark NLP Licensed</code></dd>\n",
       "            </dl>\n",
       "        </div>\n",
       "        \n",
       "            </div>\n",
       "        "
      ],
      "text/plain": [
       "<pyspark.sql.session.SparkSession at 0x7b4d3d66ac50>"
      ]
     },
     "execution_count": 3,
     "metadata": {},
     "output_type": "execute_result"
    }
   ],
   "source": [
    "import json\n",
    "import os\n",
    "\n",
    "import sparknlp\n",
    "import sparknlp_jsl\n",
    "\n",
    "from sparknlp.base import *\n",
    "from sparknlp.annotator import *\n",
    "from sparknlp_jsl.annotator import *\n",
    "\n",
    "from pyspark.ml import Pipeline,PipelineModel\n",
    "from pyspark.sql import SparkSession\n",
    "\n",
    "import warnings\n",
    "warnings.filterwarnings('ignore')\n",
    "\n",
    "params = {\n",
    "    \"spark.driver.memory\":\"100G\",\n",
    "    \"spark.kryoserializer.buffer.max\":\"2000M\",\n",
    "    \"spark.driver.maxResultSize\":\"2000M\",\n",
    "}\n",
    "\n",
    "spark = sparknlp_jsl.start(license_keys['SECRET'],\n",
    "                           params=params,\n",
    "                           #gpu=True # if you have a GPU\n",
    "                           )\n",
    "\n",
    "print(\"Spark NLP Version :\", sparknlp.version())\n",
    "print(\"Spark NLP_JSL Version :\", sparknlp_jsl.version())\n",
    "\n",
    "spark"
   ]
  },
  {
   "cell_type": "markdown",
   "metadata": {
    "id": "iel7cvOYKZHf"
   },
   "source": [
    "# Medical LLMs"
   ]
  },
  {
   "cell_type": "markdown",
   "metadata": {
    "id": "zNEareAzLXPy"
   },
   "source": [
    "| **Model Name**             | **Quantization Options**   | **Description**   |\n",
    "| -------------------------- | -------------------------- | ----------------- |\n",
    "| JSL_MedM_v1                | [q4](https://nlp.johnsnowlabs.com/2024/07/12/jsl_medm_q4_v1_en.html), [q8](https://nlp.johnsnowlabs.com/2024/07/12/jsl_medm_q8_v1_en.html), [q16](https://nlp.johnsnowlabs.com/2024/07/12/jsl_medm_q16_v1_en.html) | Summarization, Q&A, RAG, and Chat      |\n",
    "| JSL_MedM_v2                | [q4](https://nlp.johnsnowlabs.com/2024/10/06/jsl_medm_q4_v2_en.html), [q8](https://nlp.johnsnowlabs.com/2024/10/06/jsl_medm_q8_v2_en.html), [q16](https://nlp.johnsnowlabs.com/2024/10/08/jsl_medm_q16_v2_en.html) | Summarization, Q&A, RAG, and Chat      |\n",
    "| JSL_MedM_v3                | [q4](https://nlp.johnsnowlabs.com/2024/10/06/jsl_medm_q4_v3_en.html), [q8](https://nlp.johnsnowlabs.com/2024/10/08/jsl_medm_q8_v3_en.html), [q16](https://nlp.johnsnowlabs.com/2024/10/23/jsl_medm_q16_v3_en.html) | Summarization, Q&A, RAG, and Chat      |\n",
    "| JSL_MedS_v1                | [q4](https://nlp.johnsnowlabs.com/2024/10/05/jsl_meds_q4_v1_en.html), [q8](https://nlp.johnsnowlabs.com/2024/10/05/jsl_meds_q8_v1_en.html), [q16](https://nlp.johnsnowlabs.com/2024/10/05/jsl_meds_q16_v1_en.html) | Summarization, Q&A, RAG |\n",
    "| JSL_MedS_v2                | [q4](https://nlp.johnsnowlabs.com/2024/10/05/jsl_meds_q4_v2_en.html), [q8](https://nlp.johnsnowlabs.com/2024/10/05/jsl_meds_q8_v2_en.html), [q16](https://nlp.johnsnowlabs.com/2024/10/05/jsl_meds_q16_v2_en.html) | Summarization, Q&A, RAG |\n",
    "| JSL_MedS_v3                | [q4](https://nlp.johnsnowlabs.com/2024/10/05/jsl_meds_q4_v3_en.html), [q8](https://nlp.johnsnowlabs.com/2024/10/05/jsl_meds_q8_v3_en.html), [q16](https://nlp.johnsnowlabs.com/2024/10/05/jsl_meds_q16_v3_en.html) | Summarization, Q&A, RAG |\n",
    "| JSL_MedS_8B_v4             | [q4](https://nlp.johnsnowlabs.com/2025/08/05/jsl_meds_8b_q4_v4_en.html), [q8](https://nlp.johnsnowlabs.com/2025/08/05/jsl_meds_8b_q8_v4_en.html), [q16](https://nlp.johnsnowlabs.com/2025/08/05/jsl_meds_8b_q16_v4_en.html) | Summarization, Q&A, RAG |\n",
    "| JSL_MedS_4B_v4             | [q4](https://nlp.johnsnowlabs.com/2025/08/05/jsl_meds_4b_q4_v4_en.html), [q8](https://nlp.johnsnowlabs.com/2025/08/05/jsl_meds_4b_q8_v4_en.html), [q16](https://nlp.johnsnowlabs.com/2025/08/05/jsl_meds_4b_q16_v4_en.html) | Summarization, Q&A, RAG |\n",
    "| JSL_MedS_4B_v5             | [q4](https://nlp.johnsnowlabs.com/2025/08/05/jsl_meds_4b_q4_v5_en.html), [q8](), [q16](https://nlp.johnsnowlabs.com/2025/08/05/jsl_meds_4b_q16_v5_en.html) | Summarization, Q&A, RAG |\n",
    "| JSL_MedS_NER_ZS_v1         | [q4](https://nlp.johnsnowlabs.com/2024/10/04/jsl_meds_ner_zs_q4_v1_en.html), [q8](https://nlp.johnsnowlabs.com/2024/10/04/jsl_meds_ner_zs_q8_v1_en.html), [q16](https://nlp.johnsnowlabs.com/2024/10/04/jsl_meds_ner_zs_q16_v1_en.html) | Extract and link medical named entities |\n",
    "| JSL_MedS_NER_v2            | [q4](https://nlp.johnsnowlabs.com/2024/10/01/jsl_meds_ner_q4_v2_en.html), [q8](https://nlp.johnsnowlabs.com/2024/10/04/jsl_meds_ner_q8_v2_en.html), [q16](https://nlp.johnsnowlabs.com/2024/10/04/jsl_meds_ner_q16_v2_en.html) | Extract and link medical named entities |\n",
    "| JSL_MedS_NER_v3            | [q4](https://nlp.johnsnowlabs.com/2025/06/20/jsl_meds_ner_q4_v3_en.html), [q8](https://nlp.johnsnowlabs.com/2025/06/20/jsl_meds_ner_q8_v3_en.html), [q16](https://nlp.johnsnowlabs.com/2025/06/20/jsl_meds_ner_q16_v3_en.html) | Extract and link medical named entities |\n",
    "| JSL_MedS_NER_v4            | [q4](https://nlp.johnsnowlabs.com/2025/07/01/jsl_meds_ner_q4_v4_en.html), [q8](https://nlp.johnsnowlabs.com/2025/07/01/jsl_meds_ner_q8_v4_en.html) | Extract and link medical named entities |\n",
    "| JSL_MedS_NER_OpenVINO_v4   | [q4](https://nlp.johnsnowlabs.com/2025/06/30/jsl_meds_ner_openvino_q4_v4_en.html), [q8](https://nlp.johnsnowlabs.com/2025/07/01/jsl_meds_ner_openvino_q8_v4_en.html), [q16](https://nlp.johnsnowlabs.com/2025/07/01/jsl_meds_ner_openvino_q16_v4_en.html) | Extract and link medical named entities |\n",
    "| JSL_MedS_RAG_v1            | [q4](https://nlp.johnsnowlabs.com/2024/10/05/jsl_meds_rag_q4_v1_en.html), [q8](https://nlp.johnsnowlabs.com/2024/10/05/jsl_meds_rag_q8_v1_en.html), [q16](https://nlp.johnsnowlabs.com/2024/10/05/jsl_meds_rag_q16_v1_en.html) | LLM component of Retrieval Augmented Generation (RAG) |\n",
    "| JSL_MedS_Text2SOAP_v1      |                [base](https://nlp.johnsnowlabs.com/2025/04/09/jsl_meds_text2soap_v1_en.html) | Generate structured SOAP (Subjective, Objective, Assessment, Plan) summaries |\n",
    "| JSL_MedS_VLM_3B_v1         | [q4](https://nlp.johnsnowlabs.com/2025/08/08/jsl_meds_vlm_3b_q8_v1_en.html), [q8](https://nlp.johnsnowlabs.com/2025/08/08/jsl_meds_vlm_3b_q4_v1_en.html), [q16](https://nlp.johnsnowlabs.com/2025/08/08/jsl_meds_vlm_3b_q16_v1_en.html) | Extract and link structured medical named entities |\n",
    "| JSL_MedS_NER_VLM_2B_v1         | [q4](https://nlp.johnsnowlabs.com/2025/08/08/jsl_meds_ner_vlm_2b_q4_v1_en.html), [q8](https://nlp.johnsnowlabs.com/2025/08/10/jsl_meds_ner_vlm_2b_q8_v1_en.html), [q16](https://nlp.johnsnowlabs.com/2025/08/10/jsl_meds_ner_vlm_2b_q16_v1_en.html) | Extract and link structured medical named entities |\n",
    "| JSL_MedS_NER_VLM_2B_v2         | [q4](https://nlp.johnsnowlabs.com/2025/08/10/jsl_meds_ner_vlm_2b_q4_v2_en.html), [q8](https://nlp.johnsnowlabs.com/2025/08/10/jsl_meds_ner_vlm_2b_q8_v2_en.html), [q16](https://nlp.johnsnowlabs.com/2025/08/10/jsl_meds_ner_vlm_2b_q16_v2_en.html) | Extract and link structured medical named entities |\n",
    "\n",
    "\n",
    "**We recommend using 8b quantized versions of the models as the qualitative performance difference between q16 and q8 versions is very negligible.**"
   ]
  },
  {
   "cell_type": "markdown",
   "metadata": {
    "id": "USxzeevIrPMX"
   },
   "source": [
    "# MedicalLLM Annotator"
   ]
  },
  {
   "cell_type": "markdown",
   "metadata": {
    "id": "8kymzW-0sCTX"
   },
   "source": [
    "`MedicalLLM` was designed to load and run large language models (LLMs) in GGUF format with scalable performance. Ideal for clinical and healthcare applications, MedicalLLM supports tasks like medical entity extraction, summarization, Q&A, Retrieval Augmented Generation (RAG), and conversational AI. With simple integration into Spark NLP pipelines, it allows for customizable batch sizes, prediction settings, and chat templates. GPU optimization is also available, enhancing its capabilities for high-performance environments. MedicalLLM empowers users to link medical entities and perform complex NLP tasks with efficiency and precision."
   ]
  },
  {
   "cell_type": "markdown",
   "metadata": {
    "id": "m4qZ-GLr35Tr"
   },
   "source": [
    "## JSL_MedS\n"
   ]
  },
  {
   "cell_type": "code",
   "execution_count": null,
   "metadata": {
    "colab": {
     "base_uri": "https://localhost:8080/"
    },
    "executionInfo": {
     "elapsed": 238289,
     "status": "ok",
     "timestamp": 1754800190051,
     "user": {
      "displayName": "Vildan Sarıkaya",
      "userId": "07789644790967768983"
     },
     "user_tz": 420
    },
    "id": "PDbegeS338Si",
    "outputId": "48fc36ed-693e-45b1-d0e3-8b38d60e3d08"
   },
   "outputs": [
    {
     "name": "stdout",
     "output_type": "stream",
     "text": [
      "jsl_meds_4b_q16_v5 download started this may take some time.\n",
      "Approximate size to download 5.7 GB\n",
      "[OK!]\n"
     ]
    }
   ],
   "source": [
    "document_assembler = DocumentAssembler()\\\n",
    "    .setInputCol(\"text\")\\\n",
    "    .setOutputCol(\"document\")\n",
    "\n",
    "medical_llm = MedicalLLM.pretrained(\"jsl_meds_4b_q16_v5\", \"en\", \"clinical/models\")\\\n",
    "    .setInputCols(\"document\")\\\n",
    "    .setOutputCol(\"completions\")\\\n",
    "    .setBatchSize(1)\\\n",
    "    .setNPredict(100)\\\n",
    "    .setUseChatTemplate(True)\\\n",
    "    .setTemperature(0)\n",
    "\n",
    "pipeline = Pipeline(stages=[\n",
    "    document_assembler,\n",
    "    medical_llm\n",
    "])"
   ]
  },
  {
   "cell_type": "markdown",
   "metadata": {
    "id": "e5UsDUfB9Kp9"
   },
   "source": [
    "**Close Ended Question Answering**"
   ]
  },
  {
   "cell_type": "code",
   "execution_count": null,
   "metadata": {
    "id": "-WJii86j38QN"
   },
   "outputs": [],
   "source": [
    "prompt = \"\"\"\n",
    "A 23-year-old pregnant woman at 22 weeks gestation presents with burning upon urination. She states it started 1 day ago and has been worsening despite drinking more water and taking cranberry extract. She otherwise feels well and is followed by a doctor for her pregnancy. Her temperature is 97.7°F (36.5°C), blood pressure is 122/77 mmHg, pulse is 80/min, respirations are 19/min, and oxygen saturation is 98% on room air. Physical exam is notable for an absence of costovertebral angle tenderness and a gravid uterus.\n",
    "Which of the following is the best treatment for this patient?\n",
    "A: Ampicillin\n",
    "B: Ceftriaxone\n",
    "C: Ciprofloxacin\n",
    "D: Doxycycline\n",
    "E: Nitrofurantoin\n",
    "\"\"\"\n",
    "\n",
    "data = spark.createDataFrame([[prompt]]).toDF(\"text\")"
   ]
  },
  {
   "cell_type": "code",
   "execution_count": null,
   "metadata": {
    "id": "QTugddZQ8aSe"
   },
   "outputs": [],
   "source": [
    "results = pipeline.fit(data).transform(data).cache()"
   ]
  },
  {
   "cell_type": "code",
   "execution_count": null,
   "metadata": {
    "colab": {
     "base_uri": "https://localhost:8080/"
    },
    "executionInfo": {
     "elapsed": 23877,
     "status": "ok",
     "timestamp": 1754800214012,
     "user": {
      "displayName": "Vildan Sarıkaya",
      "userId": "07789644790967768983"
     },
     "user_tz": 420
    },
    "id": "pj-X_ilW38N2",
    "outputId": "1e1c0136-530b-4b37-a477-f8e61c8927ee"
   },
   "outputs": [
    {
     "name": "stdout",
     "output_type": "stream",
     "text": [
      "+-----------------------------------------------------------------------------------------------------------------------------------------------------------------------------------------------------------------------------------------------------------------------------------------------------------------------------------------------------------------------------------------------------------------------------------------------------------------------------------------------------------------------------------------+\n",
      "|completions                                                                                                                                                                                                                                                                                                                                                                                                                                                                                                                              |\n",
      "+-----------------------------------------------------------------------------------------------------------------------------------------------------------------------------------------------------------------------------------------------------------------------------------------------------------------------------------------------------------------------------------------------------------------------------------------------------------------------------------------------------------------------------------------+\n",
      "|[{document, 0, 473, The patient presents with symptoms suggestive of a urinary tract infection (UTI) during pregnancy. Given the gestational age of 22 weeks, the most appropriate treatment option is **E: Nitrofurantoin**.\\n\\nHere's why:\\n\\n*   **Nitrofurantoin:** Nitrofurantoin is a commonly used and generally safe antibiotic for UTIs in pregnancy, especially in the first and second trimesters. It concentrates well in the urine and has a relatively low risk of systemic side effects compared to, {sentence -> 0}, []}]|\n",
      "+-----------------------------------------------------------------------------------------------------------------------------------------------------------------------------------------------------------------------------------------------------------------------------------------------------------------------------------------------------------------------------------------------------------------------------------------------------------------------------------------------------------------------------------------+\n",
      "\n"
     ]
    }
   ],
   "source": [
    "results.select(\"completions\").show(truncate=False)"
   ]
  },
  {
   "cell_type": "code",
   "execution_count": null,
   "metadata": {
    "colab": {
     "base_uri": "https://localhost:8080/"
    },
    "executionInfo": {
     "elapsed": 6,
     "status": "ok",
     "timestamp": 1754800214020,
     "user": {
      "displayName": "Vildan Sarıkaya",
      "userId": "07789644790967768983"
     },
     "user_tz": 420
    },
    "id": "0AVAOTIv36wp",
    "outputId": "309d5aac-38db-4b75-f2c6-3a4a2e926c45"
   },
   "outputs": [
    {
     "name": "stdout",
     "output_type": "stream",
     "text": [
      "The patient presents with symptoms suggestive of a urinary tract infection (UTI) during pregnancy. Given the gestational age of 22 weeks, the most appropriate treatment option is **E: Nitrofurantoin**.\n",
      "\n",
      "Here's why:\n",
      "\n",
      "*   **Nitrofurantoin:** Nitrofurantoin is a commonly used and generally safe antibiotic for UTIs in pregnancy, especially in the first and second trimesters. It concentrates well in the urine and has a relatively low risk of systemic side effects compared to\n"
     ]
    }
   ],
   "source": [
    "print(results.select(\"completions\").collect()[0].completions[0].result)"
   ]
  },
  {
   "cell_type": "markdown",
   "metadata": {
    "id": "euKPUXd8ap45"
   },
   "source": [
    "**Open-Ended Question**"
   ]
  },
  {
   "cell_type": "code",
   "execution_count": null,
   "metadata": {
    "id": "I7HQ_mlvatkc"
   },
   "outputs": [],
   "source": [
    "prompt = \"\"\"### Instruction:\n",
    "You will be given a health-related question. Provide a clear, accurate, and concise answer in no more than 3 sentences.\n",
    "Base your answer only on medically accepted and verifiable information.\n",
    "Do not add personal opinions or unverified claims.\n",
    "\n",
    "### Question:\n",
    "What is hypertension?\n",
    "\n",
    "### Response:\n",
    "\"\"\"\n",
    "\n",
    "data = spark.createDataFrame([[prompt]]).toDF(\"text\")"
   ]
  },
  {
   "cell_type": "code",
   "execution_count": null,
   "metadata": {
    "colab": {
     "base_uri": "https://localhost:8080/"
    },
    "executionInfo": {
     "elapsed": 6498,
     "status": "ok",
     "timestamp": 1754803162472,
     "user": {
      "displayName": "Vildan Sarıkaya",
      "userId": "07789644790967768983"
     },
     "user_tz": 420
    },
    "id": "hz5QWumIath1",
    "outputId": "bfb58bc1-ea31-4bd4-e37c-46d9e47db186"
   },
   "outputs": [
    {
     "name": "stdout",
     "output_type": "stream",
     "text": [
      "+-----------------------------------------------------------------------------------------------------------------------------------------------------------------------------------------------------------------------------------------------------------------------------------------------------------------------------------------------------------------------------------------+\n",
      "|completions                                                                                                                                                                                                                                                                                                                                                                              |\n",
      "+-----------------------------------------------------------------------------------------------------------------------------------------------------------------------------------------------------------------------------------------------------------------------------------------------------------------------------------------------------------------------------------------+\n",
      "|[{document, 0, 332, Hypertension, or high blood pressure, is a condition in which the force of your blood against your artery walls is consistently too high. This can damage your heart, blood vessels, kidneys, and other organs over time. It is often called the \"silent killer\" because it usually has no symptoms until it causes serious health problems.\\n, {sentence -> 0}, []}]|\n",
      "+-----------------------------------------------------------------------------------------------------------------------------------------------------------------------------------------------------------------------------------------------------------------------------------------------------------------------------------------------------------------------------------------+\n",
      "\n"
     ]
    }
   ],
   "source": [
    "result = pipeline.fit(data).transform(data).cache()\n",
    "result.select(\"completions\").show(truncate=False)"
   ]
  },
  {
   "cell_type": "code",
   "execution_count": null,
   "metadata": {
    "colab": {
     "base_uri": "https://localhost:8080/"
    },
    "executionInfo": {
     "elapsed": 50,
     "status": "ok",
     "timestamp": 1754803182203,
     "user": {
      "displayName": "Vildan Sarıkaya",
      "userId": "07789644790967768983"
     },
     "user_tz": 420
    },
    "id": "UmK2ELBSatei",
    "outputId": "8db4d82c-ae16-4378-be6e-dc7f9653cd1e"
   },
   "outputs": [
    {
     "name": "stdout",
     "output_type": "stream",
     "text": [
      "Hypertension, or high blood pressure, is a condition in which the force of your blood against your artery walls is consistently too high. This can damage your heart, blood vessels, kidneys, and other organs over time. It is often called the \"silent killer\" because it usually has no symptoms until it causes serious health problems.\n",
      "\n"
     ]
    }
   ],
   "source": [
    "print(result.select(\"completions\").collect()[0].completions[0].result)"
   ]
  },
  {
   "cell_type": "markdown",
   "metadata": {
    "id": "XSt4z1cT9RG7"
   },
   "source": [
    "**Summarization**"
   ]
  },
  {
   "cell_type": "code",
   "execution_count": null,
   "metadata": {
    "id": "gEd458z1YlN4"
   },
   "outputs": [],
   "source": [
    "prompt = \"\"\"### Instruction:\n",
    "You will be given a long piece of text. Summarize it into a **short version that is no more than 30–40% of the original length**.\n",
    "Keep only the main ideas and key facts, removing all unnecessary details or examples.\n",
    "Do not add new information that is not in the text.\n",
    "\n",
    "### Text:\n",
    "Climate change refers to long-term shifts in temperatures and weather patterns. These shifts may be natural,\n",
    "but since the 1800s, human activities have been the main driver, primarily due to burning fossil fuels like coal,\n",
    "oil, and gas. Burning these materials releases greenhouse gases, which trap the sun’s heat and raise global temperatures.\n",
    "Consequences include rising sea levels, more extreme weather events, and disruptions to food and water supply.\n",
    "\n",
    "### Response:\n",
    "\"\"\"\n",
    "\n",
    "\n",
    "data = spark.createDataFrame([[prompt]]).toDF(\"text\")"
   ]
  },
  {
   "cell_type": "code",
   "execution_count": null,
   "metadata": {
    "colab": {
     "base_uri": "https://localhost:8080/"
    },
    "executionInfo": {
     "elapsed": 7195,
     "status": "ok",
     "timestamp": 1754802997591,
     "user": {
      "displayName": "Vildan Sarıkaya",
      "userId": "07789644790967768983"
     },
     "user_tz": 420
    },
    "id": "UdOd1Xc0YlKz",
    "outputId": "9a963c30-9b81-41e7-faab-cc38aba490be"
   },
   "outputs": [
    {
     "name": "stdout",
     "output_type": "stream",
     "text": [
      "+------------------------------------------------------------------------------------------------------------------------------------------------------------------------------------------------------------------------------------------------------------------------------------------------------------------------------------------------------------------------------+\n",
      "|completions                                                                                                                                                                                                                                                                                                                                                                   |\n",
      "+------------------------------------------------------------------------------------------------------------------------------------------------------------------------------------------------------------------------------------------------------------------------------------------------------------------------------------------------------------------------------+\n",
      "|[{document, 0, 321, Climate change is a long-term shift in temperatures and weather patterns, primarily driven by human activities since the 1800s. Burning fossil fuels releases greenhouse gases, trapping heat and raising global temperatures. This leads to rising sea levels, more extreme weather, and disruptions to food and water supplies.\\n, {sentence -> 0}, []}]|\n",
      "+------------------------------------------------------------------------------------------------------------------------------------------------------------------------------------------------------------------------------------------------------------------------------------------------------------------------------------------------------------------------------+\n",
      "\n"
     ]
    }
   ],
   "source": [
    "results = pipeline.fit(data).transform(data).cache()\n",
    "results.select(\"completions\").show(truncate=False)"
   ]
  },
  {
   "cell_type": "code",
   "execution_count": null,
   "metadata": {
    "colab": {
     "base_uri": "https://localhost:8080/"
    },
    "executionInfo": {
     "elapsed": 23,
     "status": "ok",
     "timestamp": 1754802997625,
     "user": {
      "displayName": "Vildan Sarıkaya",
      "userId": "07789644790967768983"
     },
     "user_tz": 420
    },
    "id": "nberOLGGYlHc",
    "outputId": "236d1c23-68ff-4976-8e67-40f38067b8c8"
   },
   "outputs": [
    {
     "name": "stdout",
     "output_type": "stream",
     "text": [
      "Climate change is a long-term shift in temperatures and weather patterns, primarily driven by human activities since the 1800s. Burning fossil fuels releases greenhouse gases, trapping heat and raising global temperatures. This leads to rising sea levels, more extreme weather, and disruptions to food and water supplies.\n",
      "\n"
     ]
    }
   ],
   "source": [
    "print(results.select(\"completions\").collect()[0].completions[0].result)"
   ]
  },
  {
   "cell_type": "markdown",
   "metadata": {
    "id": "pc5NGIue_aPL"
   },
   "source": [
    "**Named Entity Recognition**"
   ]
  },
  {
   "cell_type": "code",
   "execution_count": null,
   "metadata": {
    "colab": {
     "base_uri": "https://localhost:8080/"
    },
    "executionInfo": {
     "elapsed": 1235,
     "status": "ok",
     "timestamp": 1754801135219,
     "user": {
      "displayName": "Vildan Sarıkaya",
      "userId": "07789644790967768983"
     },
     "user_tz": 420
    },
    "id": "lBIR428i9XDz",
    "outputId": "7f5c5fc8-00a9-4116-a2f2-ff39249442bb"
   },
   "outputs": [
    {
     "name": "stdout",
     "output_type": "stream",
     "text": [
      "+----------------------------------------------------------------------------------------------------+\n",
      "|                                                                                                text|\n",
      "+----------------------------------------------------------------------------------------------------+\n",
      "|\\n### Template:\\n{\\n    \"drugs\": [\\n        {\\n            \"name\": \"\",\\n            \"reactions\": ...|\n",
      "+----------------------------------------------------------------------------------------------------+\n",
      "\n"
     ]
    }
   ],
   "source": [
    "med_ner_prompt = \"\"\"\n",
    "### Template:\n",
    "{\n",
    "    \"drugs\": [\n",
    "        {\n",
    "            \"name\": \"\",\n",
    "            \"reactions\": []\n",
    "        }\n",
    "    ],\n",
    "    \"chunks_with_labels\": [\n",
    "        {\n",
    "            \"text\": \"\",\n",
    "            \"label\": \"\"\n",
    "        }\n",
    "    ]\n",
    "}\n",
    "\n",
    "### Instructions:\n",
    "Extract entities from the Text and return:\n",
    "1) The required JSON under the \"drugs\" key EXACTLY in the schema above:\n",
    "   - \"name\": the drug name or brand as written in the text.\n",
    "   - \"reactions\": a list of adverse effects mentioned for that drug (strings only, no extra fields).\n",
    "2) Additionally, return a flat list of all extracted chunks and their labels under \"chunks_with_labels\":\n",
    "   - Each item must have \"text\" (the exact span from the text) and \"label\" (e.g., DRUG, REACTION, DOSAGE, FREQUENCY, DURATION).\n",
    "   - Do not invent information not present in the text.\n",
    "   - Use the exact casing and wording from the text.\n",
    "   - If something is not present, return an empty list for that section.\n",
    "\n",
    "Only use information from the Text. Output valid JSON matching the Template.\n",
    "\n",
    "### Text:\n",
    "I feel a bit drowsy & have a little blurred vision , and some gastric problems .\n",
    "I 've been on Arthrotec 50 for over 10 years on and off , only taking it when I needed it .\n",
    "Due to my arthritis getting progressively worse , to the point where I am in tears with the agony.\n",
    "Gp 's started me on 75 twice a day and I have to take it every day for the next month to see how I get on , here goes .\n",
    "So far its been very good , pains almost gone , but I feel a bit weird , did n't have that when on 50.\n",
    "\"\"\"\n",
    "\n",
    "\n",
    "data = spark.createDataFrame([[med_ner_prompt]]).toDF(\"text\")\n",
    "data.show(truncate=100)"
   ]
  },
  {
   "cell_type": "code",
   "execution_count": null,
   "metadata": {
    "colab": {
     "base_uri": "https://localhost:8080/"
    },
    "executionInfo": {
     "elapsed": 12379,
     "status": "ok",
     "timestamp": 1754801147601,
     "user": {
      "displayName": "Vildan Sarıkaya",
      "userId": "07789644790967768983"
     },
     "user_tz": 420
    },
    "id": "vqgxvQXY_ih3",
    "outputId": "cada79dd-bc9a-45a6-baba-562c66f16091"
   },
   "outputs": [
    {
     "name": "stdout",
     "output_type": "stream",
     "text": [
      "+-------------------------------------------------------------------------------------------------------------------------------------------------------------------------------------------------------------------------------------------------------------------------------------------------------------------------------------------------------------------------------------------------------------------------------------------------+\n",
      "|completions                                                                                                                                                                                                                                                                                                                                                                                                                                      |\n",
      "+-------------------------------------------------------------------------------------------------------------------------------------------------------------------------------------------------------------------------------------------------------------------------------------------------------------------------------------------------------------------------------------------------------------------------------------------------+\n",
      "|[{document, 0, 370, ```json\\n{\\n    \"drugs\": [\\n        {\\n            \"name\": \"Arthrotec 50\",\\n            \"reactions\": [\\n                \"drowsy\",\\n                \"blurred vision\",\\n                \"gastric problems\",\\n                \"weird\"\\n            ]\\n        },\\n        {\\n            \"name\": \"Arthrotec 75\",\\n            \"reactions\": [\\n                \"weird\"\\n            ]\\n        }\\n    ],\\n, {sentence -> 0}, []}]|\n",
      "+-------------------------------------------------------------------------------------------------------------------------------------------------------------------------------------------------------------------------------------------------------------------------------------------------------------------------------------------------------------------------------------------------------------------------------------------------+\n",
      "\n",
      "CPU times: user 4.89 ms, sys: 5.92 ms, total: 10.8 ms\n",
      "Wall time: 12.3 s\n"
     ]
    }
   ],
   "source": [
    "%%time\n",
    "results = pipeline.fit(data).transform(data).cache()\n",
    "results.select(\"completions\").show(truncate=False)"
   ]
  },
  {
   "cell_type": "code",
   "execution_count": null,
   "metadata": {
    "colab": {
     "base_uri": "https://localhost:8080/"
    },
    "executionInfo": {
     "elapsed": 6,
     "status": "ok",
     "timestamp": 1754801147609,
     "user": {
      "displayName": "Vildan Sarıkaya",
      "userId": "07789644790967768983"
     },
     "user_tz": 420
    },
    "id": "31e3nTOZ_qOe",
    "outputId": "1bc46621-50fa-4444-90b6-69ab4ef281fb"
   },
   "outputs": [
    {
     "name": "stdout",
     "output_type": "stream",
     "text": [
      "```json\n",
      "{\n",
      "    \"drugs\": [\n",
      "        {\n",
      "            \"name\": \"Arthrotec 50\",\n",
      "            \"reactions\": [\n",
      "                \"drowsy\",\n",
      "                \"blurred vision\",\n",
      "                \"gastric problems\",\n",
      "                \"weird\"\n",
      "            ]\n",
      "        },\n",
      "        {\n",
      "            \"name\": \"Arthrotec 75\",\n",
      "            \"reactions\": [\n",
      "                \"weird\"\n",
      "            ]\n",
      "        }\n",
      "    ],\n",
      "\n"
     ]
    }
   ],
   "source": [
    "print(results.select(\"completions\").collect()[0].completions[0].result)"
   ]
  },
  {
   "cell_type": "markdown",
   "metadata": {
    "id": "TjuG28VgTVb6"
   },
   "source": [
    "**Retriveal Augmented Generation**"
   ]
  },
  {
   "cell_type": "code",
   "execution_count": null,
   "metadata": {
    "colab": {
     "base_uri": "https://localhost:8080/"
    },
    "executionInfo": {
     "elapsed": 1187,
     "status": "ok",
     "timestamp": 1754802039704,
     "user": {
      "displayName": "Vildan Sarıkaya",
      "userId": "07789644790967768983"
     },
     "user_tz": 420
    },
    "id": "TZUL6ukjTrkp",
    "outputId": "2de616e6-c53f-4938-cf00-4f8d90c64baf"
   },
   "outputs": [
    {
     "name": "stdout",
     "output_type": "stream",
     "text": [
      "+----------------------------------------------------------------------------------------------------+\n",
      "|                                                                                                text|\n",
      "+----------------------------------------------------------------------------------------------------+\n",
      "|\\n### Template:\\nUse the following pieces of context to answer the user's question. If you return...|\n",
      "+----------------------------------------------------------------------------------------------------+\n",
      "\n"
     ]
    }
   ],
   "source": [
    "prompt = \"\"\"\n",
    "### Template:\n",
    "Use the following pieces of context to answer the user's question. If you return an answer, end with 'It's my pleasure'.\n",
    "If you don't know the answer, just say that you don't know, don't try to make up an answer.\n",
    "\n",
    "### Context:\n",
    "'Hypertension is a chronic medical condition in which the blood pressure in the arteries is persistently elevated. Long-term high blood pressure is a major risk factor for stroke, heart disease, and kidney failure.',\n",
    "'Several studies have shown that dietary habits, physical inactivity, and high sodium intake contribute significantly to the development of hypertension. Lifestyle modifications such as reducing salt intake, exercising regularly, and maintaining a healthy weight can help prevent and manage the condition.',\n",
    "\n",
    "### Questions:\n",
    "impact of high sodium intake on hypertension?\n",
    "\"\"\"\n",
    "\n",
    "data = spark.createDataFrame([[prompt]]).toDF(\"text\")\n",
    "data.show(truncate=100)"
   ]
  },
  {
   "cell_type": "code",
   "execution_count": null,
   "metadata": {
    "colab": {
     "base_uri": "https://localhost:8080/"
    },
    "executionInfo": {
     "elapsed": 3554,
     "status": "ok",
     "timestamp": 1754802056534,
     "user": {
      "displayName": "Vildan Sarıkaya",
      "userId": "07789644790967768983"
     },
     "user_tz": 420
    },
    "id": "kPP2Ar6_TriH",
    "outputId": "50730b9c-93ce-4586-92b4-2df59891fff4"
   },
   "outputs": [
    {
     "name": "stdout",
     "output_type": "stream",
     "text": [
      "+----------------------------------------------------------------------------------------------------------------------------------------------+\n",
      "|completions                                                                                                                                   |\n",
      "+----------------------------------------------------------------------------------------------------------------------------------------------+\n",
      "|[{document, 0, 98, High sodium intake contributes significantly to the development of hypertension. It's my pleasure.\\n, {sentence -> 0}, []}]|\n",
      "+----------------------------------------------------------------------------------------------------------------------------------------------+\n",
      "\n",
      "CPU times: user 5.66 ms, sys: 3.12 ms, total: 8.78 ms\n",
      "Wall time: 3.55 s\n"
     ]
    }
   ],
   "source": [
    "%%time\n",
    "results = pipeline.fit(data).transform(data).cache()\n",
    "results.select(\"completions\").show(truncate=False)"
   ]
  },
  {
   "cell_type": "code",
   "execution_count": null,
   "metadata": {
    "colab": {
     "base_uri": "https://localhost:8080/"
    },
    "executionInfo": {
     "elapsed": 59,
     "status": "ok",
     "timestamp": 1754802066299,
     "user": {
      "displayName": "Vildan Sarıkaya",
      "userId": "07789644790967768983"
     },
     "user_tz": 420
    },
    "id": "Tt39VV70TrfY",
    "outputId": "c44689ab-6b79-4d36-f25f-e0b12a598288"
   },
   "outputs": [
    {
     "name": "stdout",
     "output_type": "stream",
     "text": [
      "High sodium intake contributes significantly to the development of hypertension. It's my pleasure.\n",
      "\n"
     ]
    }
   ],
   "source": [
    "print(results.select(\"completions\").collect()[0].completions[0].result)"
   ]
  },
  {
   "cell_type": "markdown",
   "metadata": {
    "id": "GK68nMgSTYA5"
   },
   "source": [
    "**Text to SQL**"
   ]
  },
  {
   "cell_type": "code",
   "execution_count": null,
   "metadata": {
    "id": "BcC6cC7kXCcG"
   },
   "outputs": [],
   "source": [
    "prompt = \"\"\"### Instruction:\n",
    "Table: HospitalVisits\n",
    "- visit_id (INT)\n",
    "- patient_id (INT)\n",
    "- visit_date (DATE)\n",
    "- department (VARCHAR)\n",
    "- doctor_name (VARCHAR)\n",
    "- diagnosis (VARCHAR)\n",
    "\n",
    "Retrieve the visit dates and doctor names for patients diagnosed with pneumonia.\n",
    "\n",
    "### Response:\n",
    "\"\"\"\n",
    "\n",
    "data = spark.createDataFrame([[prompt]]).toDF(\"text\")\n"
   ]
  },
  {
   "cell_type": "code",
   "execution_count": null,
   "metadata": {
    "colab": {
     "base_uri": "https://localhost:8080/"
    },
    "executionInfo": {
     "elapsed": 3588,
     "status": "ok",
     "timestamp": 1754802202334,
     "user": {
      "displayName": "Vildan Sarıkaya",
      "userId": "07789644790967768983"
     },
     "user_tz": 420
    },
    "id": "Kaq-ou9ZXGmP",
    "outputId": "c9e959e3-51f3-4230-f21d-35b6979e2760"
   },
   "outputs": [
    {
     "name": "stdout",
     "output_type": "stream",
     "text": [
      "+----------------------------------------------------------------------------------------------------------------------------------------------------+\n",
      "|completions                                                                                                                                         |\n",
      "+----------------------------------------------------------------------------------------------------------------------------------------------------+\n",
      "|[{document, 0, 100, ```sql\\nSELECT DISTINCT visit_date, doctor_name\\nFROM HospitalVisits\\nWHERE diagnosis = 'Pneumonia';\\n```, {sentence -> 0}, []}]|\n",
      "+----------------------------------------------------------------------------------------------------------------------------------------------------+\n",
      "\n"
     ]
    }
   ],
   "source": [
    "result = pipeline.fit(data).transform(data).cache()\n",
    "result.select(\"completions\").show(truncate=False)"
   ]
  },
  {
   "cell_type": "code",
   "execution_count": null,
   "metadata": {
    "colab": {
     "base_uri": "https://localhost:8080/"
    },
    "executionInfo": {
     "elapsed": 67,
     "status": "ok",
     "timestamp": 1754802213102,
     "user": {
      "displayName": "Vildan Sarıkaya",
      "userId": "07789644790967768983"
     },
     "user_tz": 420
    },
    "id": "IRjwU6cTXJ3S",
    "outputId": "2dae07f2-4c0e-4bee-e1ed-70faa0dae91c"
   },
   "outputs": [
    {
     "name": "stdout",
     "output_type": "stream",
     "text": [
      "```sql\n",
      "SELECT DISTINCT visit_date, doctor_name\n",
      "FROM HospitalVisits\n",
      "WHERE diagnosis = 'Pneumonia';\n",
      "```\n"
     ]
    }
   ],
   "source": [
    "example_output  = result.select(\"completions\").collect()[0].completions[0].result\n",
    "print(example_output)"
   ]
  },
  {
   "cell_type": "markdown",
   "metadata": {
    "id": "cZy0EbcOxLXy"
   },
   "source": [
    "## JSL_MedS_NER\n",
    "\n",
    "This LLM model is trained to extract and link entities in a document. Users needs to define an input schema as explained in the example section. Drug is defined as a list which tells the model that there could be multiple drugs in the document and it has to extract all of them. Each drug has properties like \"name\" and \"reaction\". Since \"name\" is only one, it is a string, but there could be multiple reactions, hence it is a list. Similarly, users can define any schema for any type of entity."
   ]
  },
  {
   "cell_type": "code",
   "execution_count": null,
   "metadata": {
    "colab": {
     "base_uri": "https://localhost:8080/"
    },
    "executionInfo": {
     "elapsed": 198168,
     "status": "ok",
     "timestamp": 1754666979263,
     "user": {
      "displayName": "Vildan Sarıkaya",
      "userId": "07789644790967768983"
     },
     "user_tz": 420
    },
    "id": "PzRUUA8Cwe0Y",
    "outputId": "0b471bca-f023-40e5-e3a0-432ad99a21bb"
   },
   "outputs": [
    {
     "name": "stdout",
     "output_type": "stream",
     "text": [
      "jsl_meds_ner_q8_v4 download started this may take some time.\n",
      "Approximate size to download 3.7 GB\n",
      "[OK!]\n"
     ]
    }
   ],
   "source": [
    "document_assembler = DocumentAssembler()\\\n",
    "    .setInputCol(\"text\")\\\n",
    "    .setOutputCol(\"document\")\n",
    "\n",
    "medical_llm = MedicalLLM.pretrained(\"jsl_meds_ner_q8_v4\", \"en\", \"clinical/models\")\\\n",
    "    .setInputCols(\"document\")\\\n",
    "    .setOutputCol(\"completions\")\\\n",
    "    .setBatchSize(1)\\\n",
    "    .setNPredict(100)\\\n",
    "    .setUseChatTemplate(True)\\\n",
    "    .setTemperature(0)\\\n",
    "    #.setNGpuLayers(100) # if you have GPU\n",
    "\n",
    "\n",
    "pipeline = Pipeline(\n",
    "    stages = [\n",
    "        document_assembler,\n",
    "        medical_llm\n",
    "])"
   ]
  },
  {
   "cell_type": "code",
   "execution_count": null,
   "metadata": {
    "colab": {
     "base_uri": "https://localhost:8080/"
    },
    "executionInfo": {
     "elapsed": 2625,
     "status": "ok",
     "timestamp": 1754666981891,
     "user": {
      "displayName": "Vildan Sarıkaya",
      "userId": "07789644790967768983"
     },
     "user_tz": 420
    },
    "id": "LbqgPJP9weyB",
    "outputId": "0edd331b-bcbf-4b74-9b1f-d63794682d84"
   },
   "outputs": [
    {
     "name": "stdout",
     "output_type": "stream",
     "text": [
      "+----------------------------------------------------------------------------------------------------+\n",
      "|                                                                                                text|\n",
      "+----------------------------------------------------------------------------------------------------+\n",
      "|\\n### Template:\\n{\\n    \"drugs\": [\\n        {\\n            \"name\": \"\",\\n            \"reactions\": ...|\n",
      "+----------------------------------------------------------------------------------------------------+\n",
      "\n"
     ]
    }
   ],
   "source": [
    "med_ner_prompt = \"\"\"\n",
    "### Template:\n",
    "{\n",
    "    \"drugs\": [\n",
    "        {\n",
    "            \"name\": \"\",\n",
    "            \"reactions\": []\n",
    "        }\n",
    "    ]\n",
    "}\n",
    "### Text:\n",
    "I feel a bit drowsy & have a little blurred vision , and some gastric problems .\n",
    "I 've been on Arthrotec 50 for over 10 years on and off , only taking it when I needed it .\n",
    "Due to my arthritis getting progressively worse , to the point where I am in tears with the agony.\n",
    "Gp 's started me on 75 twice a day and I have to take it every day for the next month to see how I get on , here goes .\n",
    "So far its been very good , pains almost gone , but I feel a bit weird , did n't have that when on 50.\n",
    "\"\"\"\n",
    "\n",
    "data = spark.createDataFrame([[med_ner_prompt]]).toDF(\"text\")\n",
    "data.show(truncate=100)"
   ]
  },
  {
   "cell_type": "code",
   "execution_count": null,
   "metadata": {
    "colab": {
     "base_uri": "https://localhost:8080/"
    },
    "executionInfo": {
     "elapsed": 14266,
     "status": "ok",
     "timestamp": 1754666996158,
     "user": {
      "displayName": "Vildan Sarıkaya",
      "userId": "07789644790967768983"
     },
     "user_tz": 420
    },
    "id": "GDUzoR4iweqd",
    "outputId": "8971d2a3-56f5-4a02-c7fd-d1def19c7811"
   },
   "outputs": [
    {
     "name": "stdout",
     "output_type": "stream",
     "text": [
      "+------------------------------------------------------------------------------------------------------------------------------------------------------------------------------------------------------------------------------------------------------------------------------------------------------------------------------------------------------------------------------------------------------+\n",
      "|completions                                                                                                                                                                                                                                                                                                                                                                                           |\n",
      "+------------------------------------------------------------------------------------------------------------------------------------------------------------------------------------------------------------------------------------------------------------------------------------------------------------------------------------------------------------------------------------------------------+\n",
      "|[{document, 0, 328, {\\n    \"drugs\": [\\n        {\\n            \"name\": \"Arthrotec 50\",\\n            \"reactions\": [\\n                \"drowsy\",\\n                \"blurred vision\",\\n                \"gastric problems\"\\n            ]\\n        },\\n        {\\n            \"name\": \"75\",\\n            \"reactions\": [\\n                \"weird\"\\n            ]\\n        }\\n    ]\\n}\\n, {sentence -> 0}, []}]|\n",
      "+------------------------------------------------------------------------------------------------------------------------------------------------------------------------------------------------------------------------------------------------------------------------------------------------------------------------------------------------------------------------------------------------------+\n",
      "\n",
      "CPU times: user 7.79 ms, sys: 2.71 ms, total: 10.5 ms\n",
      "Wall time: 14.2 s\n"
     ]
    }
   ],
   "source": [
    "%%time\n",
    "results = pipeline.fit(data).transform(data).cache()\n",
    "results.select(\"completions\").show(truncate=False)"
   ]
  },
  {
   "cell_type": "code",
   "execution_count": null,
   "metadata": {
    "colab": {
     "base_uri": "https://localhost:8080/"
    },
    "executionInfo": {
     "elapsed": 40,
     "status": "ok",
     "timestamp": 1754666996200,
     "user": {
      "displayName": "Vildan Sarıkaya",
      "userId": "07789644790967768983"
     },
     "user_tz": 420
    },
    "id": "dsP8ggQsweoA",
    "outputId": "4bfbae6d-5590-4bad-d465-185ca3ac14d1"
   },
   "outputs": [
    {
     "name": "stdout",
     "output_type": "stream",
     "text": [
      "{\n",
      "    \"drugs\": [\n",
      "        {\n",
      "            \"name\": \"Arthrotec 50\",\n",
      "            \"reactions\": [\n",
      "                \"drowsy\",\n",
      "                \"blurred vision\",\n",
      "                \"gastric problems\"\n",
      "            ]\n",
      "        },\n",
      "        {\n",
      "            \"name\": \"75\",\n",
      "            \"reactions\": [\n",
      "                \"weird\"\n",
      "            ]\n",
      "        }\n",
      "    ]\n",
      "}\n",
      "\n"
     ]
    }
   ],
   "source": [
    "print(results.select(\"completions\").collect()[0].completions[0].result)"
   ]
  },
  {
   "cell_type": "markdown",
   "metadata": {
    "id": "lmbVFkTN3_Ld"
   },
   "source": [
    "## JSL_MedS_RAG"
   ]
  },
  {
   "cell_type": "code",
   "execution_count": null,
   "metadata": {
    "colab": {
     "base_uri": "https://localhost:8080/"
    },
    "executionInfo": {
     "elapsed": 192884,
     "status": "ok",
     "timestamp": 1754668364914,
     "user": {
      "displayName": "Vildan Sarıkaya",
      "userId": "07789644790967768983"
     },
     "user_tz": 420
    },
    "id": "vicSJwiV3-9o",
    "outputId": "c4f049ba-7b75-4ab8-b129-3fe8ff3baaaf"
   },
   "outputs": [
    {
     "name": "stdout",
     "output_type": "stream",
     "text": [
      "jsl_meds_rag_q8_v1 download started this may take some time.\n",
      "Approximate size to download 3.7 GB\n",
      "[OK!]\n"
     ]
    }
   ],
   "source": [
    "document_assembler = DocumentAssembler()\\\n",
    "    .setInputCol(\"text\")\\\n",
    "    .setOutputCol(\"document\")\n",
    "\n",
    "medical_llm = MedicalLLM.pretrained(\"jsl_meds_rag_q8_v1\", \"en\", \"clinical/models\")\\\n",
    "    .setInputCols(\"document\")\\\n",
    "    .setOutputCol(\"completions\")\\\n",
    "    .setBatchSize(1)\\\n",
    "    .setNPredict(100)\\\n",
    "    .setUseChatTemplate(True)\\\n",
    "    .setTemperature(0)\n",
    "\n",
    "\n",
    "pipeline = Pipeline(\n",
    "    stages = [\n",
    "        document_assembler,\n",
    "        medical_llm\n",
    "])"
   ]
  },
  {
   "cell_type": "code",
   "execution_count": null,
   "metadata": {
    "colab": {
     "base_uri": "https://localhost:8080/"
    },
    "executionInfo": {
     "elapsed": 2865,
     "status": "ok",
     "timestamp": 1754668368013,
     "user": {
      "displayName": "Vildan Sarıkaya",
      "userId": "07789644790967768983"
     },
     "user_tz": 420
    },
    "id": "ZtpdWyzN3-7D",
    "outputId": "a1633b38-5bd1-40fe-a940-b8c9ee701ac2"
   },
   "outputs": [
    {
     "name": "stdout",
     "output_type": "stream",
     "text": [
      "+----------------------------------------------------------------------------------------------------+\n",
      "|                                                                                                text|\n",
      "+----------------------------------------------------------------------------------------------------+\n",
      "|\\n### Template:\\nUse the following pieces of context to answer the user's question. If you return...|\n",
      "+----------------------------------------------------------------------------------------------------+\n",
      "\n"
     ]
    }
   ],
   "source": [
    "prompt = \"\"\"\n",
    "### Template:\n",
    "Use the following pieces of context to answer the user's question. If you return an answer, end with 'It's my pleasure'.\n",
    "If you don't know the answer, just say that you don't know, don't try to make up an answer .\n",
    "\n",
    "\n",
    "### Context:\n",
    "'Background: Diabetes is referred to a group of diseases characterized by high glucose levels in blood. It is caused by a deficiency in the production or function of insulin or both, which can occur because of different reasons, resulting in protein and lipid metabolic disorders. The aim of this study was to systematically review the prevalence and incidence of type 1 diabetes in the world.',\n",
    "'A higher prevalence of diabetes mellitus was observed in Addis Ababa public health institutions. Factors such as age, alcohol drinking, HDL, triglycerides, and vagarious physical activity were associated with diabetes mellitus. Concerned bodies need to work over the ever-increasing diabetes mellitus in Addis Ababa.',\n",
    "\n",
    "### Questions:\n",
    "relationship between diabetes and obesity?\n",
    "\"\"\"\n",
    "\n",
    "data = spark.createDataFrame([[prompt]]).toDF(\"text\")\n",
    "data.show(truncate=100)"
   ]
  },
  {
   "cell_type": "code",
   "execution_count": null,
   "metadata": {
    "colab": {
     "base_uri": "https://localhost:8080/"
    },
    "executionInfo": {
     "elapsed": 14109,
     "status": "ok",
     "timestamp": 1754668382125,
     "user": {
      "displayName": "Vildan Sarıkaya",
      "userId": "07789644790967768983"
     },
     "user_tz": 420
    },
    "id": "YOxNytndX_Eg",
    "outputId": "5569d0a7-e2c8-4874-c1bc-8be73f5c671f"
   },
   "outputs": [
    {
     "name": "stdout",
     "output_type": "stream",
     "text": [
      "+--------------------------------------------------------------------------------------------------------------------------------------------------------------------------------------------------------------------------------------------------------------------------------------------------------------------------------------------------------------------------------------------------------------------------------------------------------------------------+\n",
      "|completions                                                                                                                                                                                                                                                                                                                                                                                                                                                               |\n",
      "+--------------------------------------------------------------------------------------------------------------------------------------------------------------------------------------------------------------------------------------------------------------------------------------------------------------------------------------------------------------------------------------------------------------------------------------------------------------------------+\n",
      "|[{document, 0, 413, \\nDiabetes and obesity are closely related conditions. Obesity is a significant risk factor for the development of type 2 diabetes. Excess body fat, particularly around the abdomen, can increase the body's resistance to insulin, leading to higher blood glucose levels. This insulin resistance can eventually result in type 2 diabetes. Additionally, obesity can exacerbate the complications associated with diabetes,, {sentence -> 0}, []}]|\n",
      "+--------------------------------------------------------------------------------------------------------------------------------------------------------------------------------------------------------------------------------------------------------------------------------------------------------------------------------------------------------------------------------------------------------------------------------------------------------------------------+\n",
      "\n",
      "CPU times: user 5.43 ms, sys: 4.74 ms, total: 10.2 ms\n",
      "Wall time: 14.1 s\n"
     ]
    }
   ],
   "source": [
    "%%time\n",
    "results = pipeline.fit(data).transform(data).cache()\n",
    "results.select(\"completions\").show(truncate=False)"
   ]
  },
  {
   "cell_type": "code",
   "execution_count": null,
   "metadata": {
    "colab": {
     "base_uri": "https://localhost:8080/"
    },
    "executionInfo": {
     "elapsed": 72,
     "status": "ok",
     "timestamp": 1754668382209,
     "user": {
      "displayName": "Vildan Sarıkaya",
      "userId": "07789644790967768983"
     },
     "user_tz": 420
    },
    "id": "bKAy9wBwX_BQ",
    "outputId": "712b41f2-afe5-4511-e777-ef0c679dc7bc"
   },
   "outputs": [
    {
     "name": "stdout",
     "output_type": "stream",
     "text": [
      "\n",
      "Diabetes and obesity are closely related conditions. Obesity is a significant risk factor for the development of type 2 diabetes. Excess body fat, particularly around the abdomen, can increase the body's resistance to insulin, leading to higher blood glucose levels. This insulin resistance can eventually result in type 2 diabetes. Additionally, obesity can exacerbate the complications associated with diabetes,\n"
     ]
    }
   ],
   "source": [
    "print(results.select(\"completions\").collect()[0].completions[0].result)"
   ]
  },
  {
   "cell_type": "markdown",
   "metadata": {
    "id": "7oUNA_5TL8fE"
   },
   "source": [
    "## Text2SOAP"
   ]
  },
  {
   "cell_type": "code",
   "execution_count": null,
   "metadata": {
    "colab": {
     "base_uri": "https://localhost:8080/"
    },
    "executionInfo": {
     "elapsed": 260364,
     "status": "ok",
     "timestamp": 1754668909264,
     "user": {
      "displayName": "Vildan Sarıkaya",
      "userId": "07789644790967768983"
     },
     "user_tz": 420
    },
    "id": "k6BBP9gWLv8y",
    "outputId": "200c169d-ea6c-4902-a27f-8ca361abf444"
   },
   "outputs": [
    {
     "name": "stdout",
     "output_type": "stream",
     "text": [
      "jsl_meds_text2soap_v1 download started this may take some time.\n",
      "Approximate size to download 4.6 GB\n",
      "[OK!]\n"
     ]
    }
   ],
   "source": [
    "document_assembler = DocumentAssembler()\\\n",
    "    .setInputCol(\"text\")\\\n",
    "    .setOutputCol(\"document\")\n",
    "\n",
    "medical_llm = MedicalLLM.pretrained(\"jsl_meds_text2soap_v1\", \"en\", \"clinical/models\")\\\n",
    "    .setInputCols(\"document\")\\\n",
    "    .setOutputCol(\"completions\")\\\n",
    "    .setBatchSize(1)\\\n",
    "    .setNPredict(1024)\\\n",
    "    .setUseChatTemplate(True)\\\n",
    "    .setTemperature(0)\\\n",
    "    .setNGpuLayers(1024)\n",
    "\n",
    "pipeline = Pipeline(\n",
    "    stages = [\n",
    "        document_assembler,\n",
    "        medical_llm\n",
    "])"
   ]
  },
  {
   "cell_type": "code",
   "execution_count": null,
   "metadata": {
    "id": "lxOecmRhyq_f"
   },
   "outputs": [],
   "source": [
    "text = '''\n",
    "A 28-year-old female with a history of gestational diabetes mellitus diagnosed eight years prior to presentation and subsequent type two diabetes mellitus ( T2DM ), one prior episode of HTG-induced pancreatitis three years prior to presentation , and associated with an acute hepatitis , presented with a one-week history of polyuria , poor appetite , and vomiting .\n",
    "She was on metformin , glipizide , and dapagliflozin for T2DM and atorvastatin and gemfibrozil for HTG . She had been on dapagliflozin for six months at the time of presentation .\n",
    "Physical examination on presentation was significant for dry oral mucosa ; significantly , her abdominal examination was benign with no tenderness , guarding , or rigidity . Pertinent laboratory findings on admission were : serum glucose 111 mg/dl ,  creatinine 0.4 mg/dL , triglycerides 508 mg/dL , total cholesterol 122 mg/dL , and venous pH 7.27 .\n",
    "'''"
   ]
  },
  {
   "cell_type": "code",
   "execution_count": null,
   "metadata": {
    "colab": {
     "base_uri": "https://localhost:8080/"
    },
    "executionInfo": {
     "elapsed": 3600,
     "status": "ok",
     "timestamp": 1754669129197,
     "user": {
      "displayName": "Vildan Sarıkaya",
      "userId": "07789644790967768983"
     },
     "user_tz": 420
    },
    "id": "myeKTZrdNcNf",
    "outputId": "f7cd0d4b-f22c-49a2-a3d1-5387b5fe7278"
   },
   "outputs": [
    {
     "name": "stdout",
     "output_type": "stream",
     "text": [
      "+----------------------------------------------------------------------------------------------------+\n",
      "|                                                                                                text|\n",
      "+----------------------------------------------------------------------------------------------------+\n",
      "|\\n<|im_start|>user\\nYou are an expert medical professor assisting in the creation of medically ac...|\n",
      "+----------------------------------------------------------------------------------------------------+\n",
      "\n"
     ]
    }
   ],
   "source": [
    "text_with_prompt = f\"\"\"\n",
    "<|im_start|>user\n",
    "You are an expert medical professor assisting in the creation of medically accurate SOAP summaries.\n",
    "Please ensure the response follows the structured format: S:, O:, A:, P: without using markdown or special formatting.\n",
    "Create a Medical SOAP note summary from the dialogue, following these guidelines:\n",
    "    S (Subjective): Summarize the patient's reported symptoms, including chief complaint and relevant history. Rely on the patient's statements as the primary source and ensure standardized terminology.\n",
    "    O (Objective): Highlight critical findings such as vital signs, lab results, and imaging, emphasizing important details like the side of the body affected and specific dosages. Include normal ranges where relevant.\n",
    "    A (Assessment): Offer a concise assessment combining subjective and objective data. State the primary diagnosis and any differential diagnoses, noting potential complications and the prognostic outlook.\n",
    "    P (Plan): Outline the management plan, covering medication, diet, consultations, and education. Ensure to mention necessary referrals to other specialties and address compliance challenges.\n",
    "    Considerations: Compile the report based solely on the transcript provided. Maintain confidentiality and document sensitively. Use concise medical jargon and abbreviations for effective doctor communication.\n",
    "    Please format the summary in a clean, simple list format without using markdown or bullet points. Use 'S:', 'O:', 'A:', 'P:' directly followed by the text. Avoid any styling or special characters.\n",
    "### Dialogue:\n",
    "{text}\n",
    "<|im_end|>\n",
    "<|im_start|>assistant\n",
    "\"\"\"\n",
    "\n",
    "data = spark.createDataFrame([[text_with_prompt]]).toDF(\"text\")\n",
    "data.show(truncate=100)"
   ]
  },
  {
   "cell_type": "code",
   "execution_count": null,
   "metadata": {
    "colab": {
     "base_uri": "https://localhost:8080/"
    },
    "executionInfo": {
     "elapsed": 56806,
     "status": "ok",
     "timestamp": 1754669186005,
     "user": {
      "displayName": "Vildan Sarıkaya",
      "userId": "07789644790967768983"
     },
     "user_tz": 420
    },
    "id": "f729uxkPSWV3",
    "outputId": "f1ead9a6-a95d-42f5-e154-c8998c35960c"
   },
   "outputs": [
    {
     "name": "stdout",
     "output_type": "stream",
     "text": [
      "+---------------------------------------------------------------------------------------------------------------------------------------------------------------------------------------------------------------------------------------------------------------------------------------------------------------------------------------------------------------------------------------------------------------------------------------------------------------------------------------------------------------------------------------------------------------------------------------------------------------------------------------------------------------------------------------------------------------------------------------------------------------------------------------------------------------------------------------------------------------------------------------------------------------------------------------------------------------------------------------------------------------------------------------------------------------------------------------------------------------------------------------------------------------------------------------------------------------------------------------------------------------------------------------------------------------------------------------------------------------------------------------------------------------------------------------------------------------------------------------------------------------------------------------------------------------------------------------------------------------------------------------------------------------------------+\n",
      "|completions                                                                                                                                                                                                                                                                                                                                                                                                                                                                                                                                                                                                                                                                                                                                                                                                                                                                                                                                                                                                                                                                                                                                                                                                                                                                                                                                                                                                                                                                                                                                                                                                                                                                |\n",
      "+---------------------------------------------------------------------------------------------------------------------------------------------------------------------------------------------------------------------------------------------------------------------------------------------------------------------------------------------------------------------------------------------------------------------------------------------------------------------------------------------------------------------------------------------------------------------------------------------------------------------------------------------------------------------------------------------------------------------------------------------------------------------------------------------------------------------------------------------------------------------------------------------------------------------------------------------------------------------------------------------------------------------------------------------------------------------------------------------------------------------------------------------------------------------------------------------------------------------------------------------------------------------------------------------------------------------------------------------------------------------------------------------------------------------------------------------------------------------------------------------------------------------------------------------------------------------------------------------------------------------------------------------------------------------------+\n",
      "|[{document, 0, 1563, S: The patient is a 28-year-old female with a history of gestational diabetes mellitus diagnosed eight years ago and type two diabetes mellitus (T2DM), with a prior episode of HTG-induced pancreatitis three years ago. She presented with a one-week history of polyuria, poor appetite, and vomiting. She has been on metformin, glipizide, dapagliflozin, atorvastatin, and gemfibrozil for her conditions.\\nO: Physical examination showed dry oral mucosa but was otherwise benign with no tenderness, guarding, or rigidity. Laboratory findings revealed serum glucose at 111 mg/dL, creatinine at 0.4 mg/dL, triglycerides at 508 mg/dL, total cholesterol at 122 mg/dL, and venous pH at 7.27. She was on dapagliflozin for six months prior to presentation.\\nA: The primary diagnosis is diabetic ketoacidosis (DKA) based on the patient's symptoms of polyuria, poor appetite, vomiting, and elevated triglycerides and total cholesterol. Differential diagnoses include complications from her underlying diabetes and HTG. The patient's history of HTG-induced pancreatitis and recent use of dapagliflozin are also relevant.\\nP: The management plan includes close monitoring of her glucose levels and electrolyte balance. She will be started on intravenous insulin and hydration to treat DKA. Dietary adjustments will be made to manage her diabetes and HTG. Regular follow-up appointments will be scheduled to monitor her glucose levels and adjust her medications as necessary. Education on the importance of adherence to the treatment plan and lifestyle modifications will be provided., {sentence -> 0}, []}]|\n",
      "+---------------------------------------------------------------------------------------------------------------------------------------------------------------------------------------------------------------------------------------------------------------------------------------------------------------------------------------------------------------------------------------------------------------------------------------------------------------------------------------------------------------------------------------------------------------------------------------------------------------------------------------------------------------------------------------------------------------------------------------------------------------------------------------------------------------------------------------------------------------------------------------------------------------------------------------------------------------------------------------------------------------------------------------------------------------------------------------------------------------------------------------------------------------------------------------------------------------------------------------------------------------------------------------------------------------------------------------------------------------------------------------------------------------------------------------------------------------------------------------------------------------------------------------------------------------------------------------------------------------------------------------------------------------------------+\n",
      "\n"
     ]
    }
   ],
   "source": [
    "results = pipeline.fit(data).transform(data)\n",
    "\n",
    "results.select(\"completions\").show(truncate=False)"
   ]
  },
  {
   "cell_type": "code",
   "execution_count": null,
   "metadata": {
    "colab": {
     "base_uri": "https://localhost:8080/"
    },
    "executionInfo": {
     "elapsed": 51120,
     "status": "ok",
     "timestamp": 1754669237126,
     "user": {
      "displayName": "Vildan Sarıkaya",
      "userId": "07789644790967768983"
     },
     "user_tz": 420
    },
    "id": "UzrU3HbCSe7P",
    "outputId": "0f66698e-98b0-44d5-f5b0-b2b67700971a"
   },
   "outputs": [
    {
     "name": "stdout",
     "output_type": "stream",
     "text": [
      "S: The patient is a 28-year-old female with a history of gestational diabetes mellitus diagnosed eight years ago and type two diabetes mellitus (T2DM), with a prior episode of HTG-induced pancreatitis three years ago. She presented with a one-week history of polyuria, poor appetite, and vomiting. She has been on metformin, glipizide, dapagliflozin, atorvastatin, and gemfibrozil for her conditions.\n",
      "O: Physical examination showed dry oral mucosa but was otherwise benign with no tenderness, guarding, or rigidity. Laboratory findings revealed serum glucose at 111 mg/dL, creatinine at 0.4 mg/dL, triglycerides at 508 mg/dL, total cholesterol at 122 mg/dL, and venous pH at 7.27. She was on dapagliflozin for six months prior to presentation.\n",
      "A: The primary diagnosis is diabetic ketoacidosis (DKA) based on the patient's symptoms of polyuria, poor appetite, vomiting, and elevated triglycerides and total cholesterol. Differential diagnoses include complications from her underlying diabetes and HTG. The patient's history of HTG-induced pancreatitis and recent use of dapagliflozin are also relevant.\n",
      "P: The management plan includes close monitoring of her glucose levels and electrolyte balance. She will be started on intravenous insulin and hydration to treat DKA. Dietary adjustments will be made to manage her diabetes and HTG. Regular follow-up appointments will be scheduled to monitor her glucose levels and adjust her medications as necessary. Education on the importance of adherence to the treatment plan and lifestyle modifications will be provided.\n"
     ]
    }
   ],
   "source": [
    "example_output  = results.select(\"completions\").collect()[0].completions[0].result\n",
    "print(example_output)"
   ]
  },
  {
   "cell_type": "markdown",
   "metadata": {
    "id": "7zvAKUcOyepm"
   },
   "source": [
    "## JSL_MedM\n",
    "\n",
    "This LLM model is trained to perform Summarization and Q&A based on a given context."
   ]
  },
  {
   "cell_type": "code",
   "execution_count": null,
   "metadata": {
    "colab": {
     "base_uri": "https://localhost:8080/"
    },
    "executionInfo": {
     "elapsed": 780611,
     "status": "ok",
     "timestamp": 1754606798863,
     "user": {
      "displayName": "Cabir Celik",
      "userId": "10143542836754921727"
     },
     "user_tz": -120
    },
    "id": "oogjiRnThyG-",
    "outputId": "e4e1d013-c239-4d18-ede7-d54f17949284"
   },
   "outputs": [
    {
     "name": "stdout",
     "output_type": "stream",
     "text": [
      "jsl_medm_q8_v3 download started this may take some time.\n",
      "Approximate size to download 14 GB\n",
      "[OK!]\n"
     ]
    }
   ],
   "source": [
    "document_assembler = DocumentAssembler()\\\n",
    "    .setInputCol(\"text\")\\\n",
    "    .setOutputCol(\"document\")\n",
    "\n",
    "medical_llm = MedicalLLM.pretrained(\"jsl_medm_q8_v3\", \"en\", \"clinical/models\")\\\n",
    "    .setInputCols(\"document\")\\\n",
    "    .setOutputCol(\"completions\")\\\n",
    "    .setBatchSize(1)\\\n",
    "    .setNPredict(100)\\\n",
    "    .setUseChatTemplate(True)\\\n",
    "    .setTemperature(0)\\\n",
    "    #.setNGpuLayers(100) # if you have GPU\n",
    "\n",
    "pipeline = Pipeline(\n",
    "    stages = [\n",
    "        document_assembler,\n",
    "        medical_llm\n",
    "])"
   ]
  },
  {
   "cell_type": "code",
   "execution_count": null,
   "metadata": {
    "colab": {
     "base_uri": "https://localhost:8080/"
    },
    "executionInfo": {
     "elapsed": 7391,
     "status": "ok",
     "timestamp": 1754607231764,
     "user": {
      "displayName": "Cabir Celik",
      "userId": "10143542836754921727"
     },
     "user_tz": -120
    },
    "id": "XuntuEP1yepn",
    "outputId": "b20304fa-87f3-4fdd-976f-d5c15eefa05d"
   },
   "outputs": [
    {
     "name": "stdout",
     "output_type": "stream",
     "text": [
      "+----------------------------------------------------------------------------------------------------+\n",
      "|                                                                                                text|\n",
      "+----------------------------------------------------------------------------------------------------+\n",
      "|\\nsummarize the following content.\\n\\n content:\\n ---------------------------- INDICATIONS AND US...|\n",
      "+----------------------------------------------------------------------------------------------------+\n",
      "\n"
     ]
    }
   ],
   "source": [
    "medm_prompt = \"\"\"\n",
    "summarize the following content.\n",
    "\n",
    " content:\n",
    " ---------------------------- INDICATIONS AND USAGE ---------------------------\n",
    " KISUNLA is an amyloid beta-directed antibody indicated for the\n",
    " treatment of Alzheimer’s disease. Treatment with KISUNLA should be\n",
    " initiated in patients with mild cognitive impairment or mild dementia\n",
    " stage of disease, the population in which treatment was initiated in the\n",
    " clinical trials. (1)\n",
    " ------------------------DOSAGE AND ADMINISTRATION-----------------------\n",
    " • Confirm the presence of amyloid beta pathology prior to initiating\n",
    " treatment. (2.1)\n",
    " • The recommended dosage of KISUNLA is 700 mg administered as\n",
    " an intravenous infusion over approximately 30 minutes every four\n",
    " weeks for the first three doses, followed by 1400 mg every four\n",
    " weeks. (2.2)\n",
    " • Consider stopping dosing with KISUNLA based on reduction of\n",
    " amyloid plaques to minimal levels on amyloid PET imaging. (2.2)\n",
    " • Obtain a recent baseline brain MRI prior to initiating treatment.\n",
    " (2.3, 5.1)\n",
    " • Obtain an MRI prior to the 2nd, 3rd, 4th, and 7th infusions. If\n",
    " radiographically observed ARIA occurs, treatment\n",
    " recommendations are based on type, severity, and presence of\n",
    " symptoms. (2.3, 5.1)\n",
    " • Dilution to a final concentration of 4 mg/mL to 10 mg/mL with 0.9%\n",
    " Sodium Chloride Injection, is required prior to administration. (2.4)\n",
    " ----------------------DOSAGE FORMS AND STRENGTHS---------------------\n",
    " Injection: 350 mg/20 mL (17.5 mg/mL) in a single-dose vial. (3)\n",
    " ------------------------------- CONTRAINDICATIONS ------------------------------\n",
    " KISUNLA is contraindicated in patients with known serious\n",
    " hypersensitivity to donanemab-azbt or to any of the excipients. (4, 5.2)\n",
    " ------------------------WARNINGS AND PRECAUTIONS-----------------------\n",
    " • Amyloid Related Imaging Abnormalities (ARIA): Enhanced clinical\n",
    " vigilance for ARIA is recommended during the first 24 weeks of\n",
    " treatment with KISUNLA. Risk of ARIA, including symptomatic\n",
    " ARIA, was increased in apolipoprotein E ε4 (ApoE ε4)\n",
    " homozygotes compared to heterozygotes and noncarriers. The risk\n",
    " of ARIA-E and ARIA-H is increased in KISUNLA-treated patients\n",
    " with pretreatment microhemorrhages and/or superficial siderosis. If\n",
    " a patient experiences symptoms suggestive of ARIA, clinical\n",
    " evaluation should be performed, including MRI scanning if\n",
    " indicated. (2.3, 5.1)\n",
    " • Infusion-Related Reactions: The infusion rate may be reduced, or\n",
    " the infusion may be discontinued, and appropriate therapy initiated\n",
    " as clinically indicated. Consider pre-treatment with antihistamines,\n",
    " acetaminophen, or corticosteroids prior to subsequent dosing. (5.3)\n",
    " -------------------------------ADVERSE REACTIONS------------------------------\n",
    " Most common adverse reactions (at least 10% and higher incidence\n",
    " compared to placebo): ARIA-E, ARIA-H microhemorrhage, ARIA-H\n",
    " superficial siderosis, and headache. (6.1)\n",
    "\"\"\"\n",
    "\n",
    "data = spark.createDataFrame([[medm_prompt]]).toDF(\"text\")\n",
    "data.show(truncate=100)"
   ]
  },
  {
   "cell_type": "code",
   "execution_count": null,
   "metadata": {
    "id": "L51fkJspyepn"
   },
   "outputs": [],
   "source": [
    "%%time\n",
    "results = pipeline.fit(data).transform(data).cache()\n",
    "results.select(\"completions\").show(truncate=False)"
   ]
  },
  {
   "cell_type": "code",
   "execution_count": null,
   "metadata": {
    "colab": {
     "base_uri": "https://localhost:8080/"
    },
    "executionInfo": {
     "elapsed": 66,
     "status": "ok",
     "timestamp": 1754609811800,
     "user": {
      "displayName": "Cabir Celik",
      "userId": "10143542836754921727"
     },
     "user_tz": -120
    },
    "id": "GglIVcAvyepn",
    "outputId": "5a6fdf7d-3ff6-4f9a-cfcf-ae3d881027b4"
   },
   "outputs": [
    {
     "name": "stdout",
     "output_type": "stream",
     "text": [
      "KISUNLA is an amyloid beta-directed antibody used to treat Alzheimer's disease, specifically in patients with mild cognitive impairment or mild dementia. The recommended dosage is 700 mg administered intravenously over 30 minutes every four weeks for the first three doses, followed by 1400 mg every four weeks. Treatment should be initiated after confirming the presence of amyloid beta pathology and obtaining a baseline brain MRI. The drug is available as a 350 mg/\n"
     ]
    }
   ],
   "source": [
    "print(results.select(\"completions\").collect()[0].completions[0].result)"
   ]
  },
  {
   "cell_type": "markdown",
   "metadata": {
    "id": "ZByQR6JzxLHT"
   },
   "source": [
    "## Multimodal Process\n",
    "\n",
    "We can obtain results from PDF files using our LLM models with Reader2Doc annotators."
   ]
  },
  {
   "cell_type": "code",
   "execution_count": null,
   "metadata": {
    "colab": {
     "base_uri": "https://localhost:8080/"
    },
    "executionInfo": {
     "elapsed": 594,
     "status": "ok",
     "timestamp": 1755083725205,
     "user": {
      "displayName": "Bünyamin Polat",
      "userId": "03982086590103784785"
     },
     "user_tz": -120
    },
    "id": "4PJ5T_GC01tI",
    "outputId": "1531d3c3-b69e-4ce8-e7d9-870f2cb99c92"
   },
   "outputs": [
    {
     "name": "stdout",
     "output_type": "stream",
     "text": [
      "--2025-08-13 11:15:26--  https://raw.githubusercontent.com/JohnSnowLabs/spark-nlp-workshop/master/healthcare-nlp/data/mt_sample_01.pdf\n",
      "Resolving raw.githubusercontent.com (raw.githubusercontent.com)... 185.199.109.133, 185.199.110.133, 185.199.108.133, ...\n",
      "Connecting to raw.githubusercontent.com (raw.githubusercontent.com)|185.199.109.133|:443... connected.\n",
      "HTTP request sent, awaiting response... 200 OK\n",
      "Length: 41382 (40K) [application/octet-stream]\n",
      "Saving to: ‘pdf_files/mt_sample.pdf’\n",
      "\n",
      "pdf_files/mt_sample 100%[===================>]  40.41K  --.-KB/s    in 0.001s  \n",
      "\n",
      "2025-08-13 11:15:26 (28.1 MB/s) - ‘pdf_files/mt_sample.pdf’ saved [41382/41382]\n",
      "\n"
     ]
    }
   ],
   "source": [
    "!mkdir -p pdf_files\n",
    "\n",
    "!wget -O pdf_files/mt_sample.pdf \"https://raw.githubusercontent.com/JohnSnowLabs/spark-nlp-workshop/master/healthcare-nlp/data/mt_sample_01.pdf\""
   ]
  },
  {
   "cell_type": "code",
   "execution_count": null,
   "metadata": {
    "colab": {
     "base_uri": "https://localhost:8080/"
    },
    "executionInfo": {
     "elapsed": 6492,
     "status": "ok",
     "timestamp": 1755083731700,
     "user": {
      "displayName": "Bünyamin Polat",
      "userId": "03982086590103784785"
     },
     "user_tz": -120
    },
    "id": "v1Twqq5VigXH",
    "outputId": "702d376e-fe01-4042-f55c-c99adbffa93a"
   },
   "outputs": [
    {
     "name": "stdout",
     "output_type": "stream",
     "text": [
      "+-------------+---------------------------------------------------------------------------------------------------------------------------------------------------------------------------------------------------------------------------------------------------------------------------------------------------------------------------------------------------------------------------------------------------------------------------------------------------------------------------------------------------------------------------------------------------------------------------------------------------------------------------------------------------------------------------------------------------------------------------------------------------------------------------------------------------------------------------------------------------------------------------------------------------------------------------------------------------------------------------------------------------------------------------------------------------------------------------------------------------------------------------------------------------------------------------------------------------------------------------------------------------------------------------------------------------------------------------------------------------------------------------------------------------------------------------------------------------------------------------------------------------------------------------------------------------------------------------------------------------------------------------------------------------------------------------------------------------------------------------------------------------------------------------------------------------------------------------------------------------------------------------------------------------------------------------------------------------------------------------------------------------------------------------------------------------------------------------------------------------------------------------------------------------------------------------------------------------------------------------------------------------------------------------------------------------------------------------------------------------------------------------------------------------------------------------------------------------------------------------------------------------------------------------------------------------------------------------------------+\n",
      "|fileName     |raw_text                                                                                                                                                                                                                                                                                                                                                                                                                                                                                                                                                                                                                                                                                                                                                                                                                                                                                                                                                                                                                                                                                                                                                                                                                                                                                                                                                                                                                                                                                                                                                                                                                                                                                                                                                                                                                                                                                                                                                                                                                                                                                                                                                                                                                                                                                                                                                                                                                                                                                                                                                                               |\n",
      "+-------------+---------------------------------------------------------------------------------------------------------------------------------------------------------------------------------------------------------------------------------------------------------------------------------------------------------------------------------------------------------------------------------------------------------------------------------------------------------------------------------------------------------------------------------------------------------------------------------------------------------------------------------------------------------------------------------------------------------------------------------------------------------------------------------------------------------------------------------------------------------------------------------------------------------------------------------------------------------------------------------------------------------------------------------------------------------------------------------------------------------------------------------------------------------------------------------------------------------------------------------------------------------------------------------------------------------------------------------------------------------------------------------------------------------------------------------------------------------------------------------------------------------------------------------------------------------------------------------------------------------------------------------------------------------------------------------------------------------------------------------------------------------------------------------------------------------------------------------------------------------------------------------------------------------------------------------------------------------------------------------------------------------------------------------------------------------------------------------------------------------------------------------------------------------------------------------------------------------------------------------------------------------------------------------------------------------------------------------------------------------------------------------------------------------------------------------------------------------------------------------------------------------------------------------------------------------------------------------------+\n",
      "|mt_sample.pdf|[{document, 0, 31, Sample Type / Medical Specialty:, {}, []}, {document, 32, 52, Hematology - Oncology, {}, []}, {document, 53, 64, Sample Name:, {}, []}, {document, 65, 100, Discharge Summary - Mesothelioma - 1, {}, []}, {document, 101, 142, Record date: 2093-01-13, David Hale, M.D.,, {}, []}, {document, 143, 178, Name: Hendrickson, Ora MR. # 7194334, {}, []}, {document, 179, 189, Descrip7on:, {}, []}, {document, 190, 277, Mesothelioma, pleural eﬀusion, atrial ﬁbrillaIon, anemia, ascites, esophageal reﬂux, and, {}, []}, {document, 278, 311, history of deep venous thrombosis., {}, []}, {document, 312, 347, (Medical TranscripIon Sample Report), {}, []}, {document, 348, 367, PRINCIPAL DIAGNOSIS:, {}, []}, {document, 368, 380, Mesothelioma., {}, []}, {document, 381, 400, SECONDARY DIAGNOSES:, {}, []}, {document, 401, 490, Pleural eﬀusion, atrial ﬁbrillaIon, anemia, ascites, esophageal reﬂux, and history of deep, {}, []}, {document, 491, 508, venous thrombosis., {}, []}, {document, 509, 518, PROCEDURES, {}, []}, {document, 519, 601, 1. On August 24, 2007, decorIcaIon of the lung with pleural biopsy and transpleural, {}, []}, {document, 602, 612, ﬂuoroscopy., {}, []}, {document, 613, 649, 2. On August 20, 2007, thoracentesis., {}, []}, {document, 650, 694, 3. On August 31, 2007, Port-A-Cath placement., {}, []}, {document, 695, 715, HISTORY AND PHYSICAL:, {}, []}, {document, 716, 804, The paIent is a 41-year-old Vietnamese female with a nonproducIve cough that started last, {}, []}, {document, 805, 895, week. She has had right-sided chest pain radiaIng to her back with fever starIng yesterday., {}, []}, {document, 896, 983, She has a history of pericardiIs and pericardectomy in May 2006 and developed cough with, {}, []}, {document, 984, 1074, right-sided chest pain, and went to an urgent care center. Chest x-ray revealed right-sided, {}, []}, {document, 1075, 1090, pleural eﬀusion., {}, []}, {document, 1091, 1110, PAST MEDICAL HISTORY, {}, []}, {document, 1111, 1128, 1. Pericardectomy., {}, []}, {document, 1129, 1143, 2. PericardiIs., {}, []}, {document, 1144, 1164, 2. Atrial ﬁbrillaIon., {}, []}, {document, 1165, 1212, 4. RNCA with intracranial thrombolyIc treatment., {}, []}, {document, 1213, 1225, 5 PTA of MCA., {}, []}, {document, 1226, 1257, 6. Mesenteric venous thrombosis., {}, []}, {document, 1258, 1279, 7. Pericardial window., {}, []}, {document, 1280, 1298, 8. Cholecystectomy., {}, []}, {document, 1299, 1319, 9. LeZ thoracentesis., {}, []}]|\n",
      "+-------------+---------------------------------------------------------------------------------------------------------------------------------------------------------------------------------------------------------------------------------------------------------------------------------------------------------------------------------------------------------------------------------------------------------------------------------------------------------------------------------------------------------------------------------------------------------------------------------------------------------------------------------------------------------------------------------------------------------------------------------------------------------------------------------------------------------------------------------------------------------------------------------------------------------------------------------------------------------------------------------------------------------------------------------------------------------------------------------------------------------------------------------------------------------------------------------------------------------------------------------------------------------------------------------------------------------------------------------------------------------------------------------------------------------------------------------------------------------------------------------------------------------------------------------------------------------------------------------------------------------------------------------------------------------------------------------------------------------------------------------------------------------------------------------------------------------------------------------------------------------------------------------------------------------------------------------------------------------------------------------------------------------------------------------------------------------------------------------------------------------------------------------------------------------------------------------------------------------------------------------------------------------------------------------------------------------------------------------------------------------------------------------------------------------------------------------------------------------------------------------------------------------------------------------------------------------------------------------------+\n",
      "\n"
     ]
    }
   ],
   "source": [
    "from sparknlp.reader.reader2doc import Reader2Doc\n",
    "\n",
    "reader2doc = Reader2Doc() \\\n",
    "    .setContentType(\"application/pdf\")\\\n",
    "    .setContentPath(\"pdf_files/*pdf\")\\\n",
    "    .setOutputCol(\"raw_text\")\\\n",
    "    .setExplodeDocs(False)\\\n",
    "    .setFlattenOutput(True)\\\n",
    "    .setOutputFormat(\"plain-text\")\n",
    "\n",
    "pipeline = Pipeline(stages=[reader2doc])\n",
    "\n",
    "empty_df = spark.createDataFrame([], \"string\").toDF(\"text\")\n",
    "\n",
    "model = pipeline.fit(empty_df)\n",
    "\n",
    "result_df = model.transform(empty_df)\n",
    "\n",
    "result_df.show(truncate=False)"
   ]
  },
  {
   "cell_type": "code",
   "execution_count": null,
   "metadata": {
    "colab": {
     "base_uri": "https://localhost:8080/"
    },
    "executionInfo": {
     "elapsed": 286161,
     "status": "ok",
     "timestamp": 1755084017863,
     "user": {
      "displayName": "Bünyamin Polat",
      "userId": "03982086590103784785"
     },
     "user_tz": -120
    },
    "id": "SmqwhlI-lfXs",
    "outputId": "eabf6b66-290c-4c44-95fb-7d6e8515ee15"
   },
   "outputs": [
    {
     "name": "stdout",
     "output_type": "stream",
     "text": [
      "jsl_meds_ner_vlm_2b_q16_v1 download started this may take some time.\n",
      "Approximate size to download 3.3 GB\n",
      "[OK!]\n"
     ]
    }
   ],
   "source": [
    "prompt = \"\"\"\n",
    "### Template:\n",
    "{\n",
    "  \"clinical\":\n",
    "    [\n",
    "        \"disease\":[],\n",
    "        \"sympthom\":[]\n",
    "    ],\n",
    "\n",
    "  \"demographic\":\n",
    "    [\n",
    "        \"name\":[],\n",
    "        \"date\":[],\n",
    "        \"id\":[]\n",
    "    ]\n",
    "}\n",
    "### Text:\n",
    "\"\"\"\n",
    "\n",
    "medical_llm = MedicalLLM.pretrained(\"jsl_meds_ner_vlm_2b_q16_v1\", \"en\", \"clinical/models\")\\\n",
    "    .setInputCols(\"document\")\\\n",
    "    .setOutputCol(\"completions\")\\\n",
    "    .setBatchSize(1)\\\n",
    "    .setNPredict(10000)\\\n",
    "    .setUseChatTemplate(True)\\\n",
    "    .setTemperature(0)\\\n",
    "    .setNGpuLayers(100)"
   ]
  },
  {
   "cell_type": "markdown",
   "metadata": {
    "id": "GLWQf4CL2197"
   },
   "source": [
    "**`custom_llm_preprocessor`** is a function designed to help you transform annotations within a DataFrame. We modify the relevant Spark DF by adding the NER prompt as a prefix to the input column."
   ]
  },
  {
   "cell_type": "code",
   "execution_count": null,
   "metadata": {
    "id": "w-vmrO4ijg7Q"
   },
   "outputs": [],
   "source": [
    "def custom_llm_preprocessor(annotations):\n",
    "    new_annotations = []\n",
    "    flattened_docs = \"\"\n",
    "\n",
    "    for annotation in annotations: # annotations here are document annotations\n",
    "        document_text = annotation.result\n",
    "        if document_text:\n",
    "            flattened_docs +=  (\"\\n\" + document_text)\n",
    "    result =  prompt + flattened_docs\n",
    "    absolute_end = len(result)\n",
    "    new_annotations.append(\n",
    "        sparknlp.base.Annotation(\n",
    "            annotatorType=\"document\",  # Sentence annotations are typically 'document' type\n",
    "            begin=0,\n",
    "            end=absolute_end -1 ,\n",
    "            result=result,\n",
    "            metadata=annotation.metadata,\n",
    "            embeddings=annotation.embeddings,\n",
    "        )\n",
    "    )\n",
    "    return new_annotations"
   ]
  },
  {
   "cell_type": "code",
   "execution_count": null,
   "metadata": {
    "colab": {
     "base_uri": "https://localhost:8080/"
    },
    "executionInfo": {
     "elapsed": 16,
     "status": "ok",
     "timestamp": 1755084017912,
     "user": {
      "displayName": "Bünyamin Polat",
      "userId": "03982086590103784785"
     },
     "user_tz": -120
    },
    "id": "XN9u5NwR3Rp7",
    "outputId": "8e050c1b-1cf8-4687-89b2-e4cf243d2218"
   },
   "outputs": [
    {
     "name": "stdout",
     "output_type": "stream",
     "text": [
      "\n"
     ]
    }
   ],
   "source": [
    "custom_llm_preprocessor_converter = AnnotationConverter(f=custom_llm_preprocessor)\\\n",
    "    .setInputCol(\"raw_text\")\\\n",
    "    .setOutputCol(\"document\")\\\n",
    "    .setOutputAnnotatorType(\"document\") # Output type is 'document' for sentences\n",
    "\n",
    "pipeline = Pipeline(\n",
    "    stages=[\n",
    "        reader2doc,\n",
    "        custom_llm_preprocessor_converter,\n",
    "        medical_llm\n",
    "])"
   ]
  },
  {
   "cell_type": "code",
   "execution_count": null,
   "metadata": {
    "id": "YkteDxZxh7-Q"
   },
   "outputs": [],
   "source": [
    "empty_df = spark.createDataFrame([], \"string\").toDF(\"text\")\n",
    "\n",
    "result_df = pipeline.fit(empty_df).transform(empty_df).cache()"
   ]
  },
  {
   "cell_type": "code",
   "execution_count": null,
   "metadata": {
    "colab": {
     "base_uri": "https://localhost:8080/"
    },
    "executionInfo": {
     "elapsed": 33879,
     "status": "ok",
     "timestamp": 1755084052309,
     "user": {
      "displayName": "Bünyamin Polat",
      "userId": "03982086590103784785"
     },
     "user_tz": -120
    },
    "id": "SBOHvyr4h774",
    "outputId": "7b6d3074-aa6a-4575-facf-d752a38549ad"
   },
   "outputs": [
    {
     "name": "stdout",
     "output_type": "stream",
     "text": [
      "CPU times: user 12.4 ms, sys: 8.16 ms, total: 20.6 ms\n",
      "Wall time: 33.8 s\n"
     ]
    }
   ],
   "source": [
    "%%time\n",
    "collected_result = result_df.collect()"
   ]
  },
  {
   "cell_type": "code",
   "execution_count": null,
   "metadata": {
    "colab": {
     "base_uri": "https://localhost:8080/"
    },
    "executionInfo": {
     "elapsed": 22,
     "status": "ok",
     "timestamp": 1755084335442,
     "user": {
      "displayName": "Bünyamin Polat",
      "userId": "03982086590103784785"
     },
     "user_tz": -120
    },
    "id": "iw6uK-dUh75T",
    "outputId": "642b5b7b-228c-47f0-9968-159e92dab66e"
   },
   "outputs": [
    {
     "name": "stdout",
     "output_type": "stream",
     "text": [
      "{'clinical': {'disease': ['Mesothelioma', 'pleural eﬀusion', 'atrial ﬁbrillaIon', 'anemia', 'ascites', 'esophageal reﬂux', 'deep venous thrombosis'], 'sympthom': ['nonproductive cough', 'right-sided chest pain', 'fever', 'right-sided pleural eﬀusion', 'cough with right-sided chest pain', 'pericardiIs', 'pericardectomy', 'atrial ﬁbrillaIon', 'RNCA with intracranial thrombolyIc treatment', 'PTA of MCA', 'Mesenteric venous thrombosis', 'pericardial window', 'cholecystectomy', 'LeZ thoracentesis']}, 'demographic': {'name': ['Hendrickson, Ora MR.'], 'date': ['2007-08-24', '2007-08-20', '2007-08-31'], 'id': ['7194334']}}\n"
     ]
    }
   ],
   "source": [
    "print(json.loads(collected_result[0].completions[0].result))"
   ]
  },
  {
   "cell_type": "code",
   "execution_count": null,
   "metadata": {
    "colab": {
     "base_uri": "https://localhost:8080/"
    },
    "executionInfo": {
     "elapsed": 31,
     "status": "ok",
     "timestamp": 1755084521371,
     "user": {
      "displayName": "Bünyamin Polat",
      "userId": "03982086590103784785"
     },
     "user_tz": -120
    },
    "id": "wxu7nmKcLxEx",
    "outputId": "d2d404ba-d476-44d8-a644-c0bc1f7f751a"
   },
   "outputs": [
    {
     "name": "stdout",
     "output_type": "stream",
     "text": [
      "{\n",
      "    \"clinical\": {\n",
      "        \"disease\": [\n",
      "            \"Mesothelioma\",\n",
      "            \"pleural eﬀusion\",\n",
      "            \"atrial ﬁbrillaIon\",\n",
      "            \"anemia\",\n",
      "            \"ascites\",\n",
      "            \"esophageal reﬂux\",\n",
      "            \"deep venous thrombosis\"\n",
      "        ],\n",
      "        \"sympthom\": [\n",
      "            \"nonproductive cough\",\n",
      "            \"right-sided chest pain\",\n",
      "            \"fever\",\n",
      "            \"right-sided pleural eﬀusion\",\n",
      "            \"cough with right-sided chest pain\",\n",
      "            \"pericardiIs\",\n",
      "            \"pericardectomy\",\n",
      "            \"atrial ﬁbrillaIon\",\n",
      "            \"RNCA with intracranial thrombolyIc treatment\",\n",
      "            \"PTA of MCA\",\n",
      "            \"Mesenteric venous thrombosis\",\n",
      "            \"pericardial window\",\n",
      "            \"cholecystectomy\",\n",
      "            \"LeZ thoracentesis\"\n",
      "        ]\n",
      "    },\n",
      "    \"demographic\": {\n",
      "        \"name\": [\n",
      "            \"Hendrickson, Ora MR.\"\n",
      "        ],\n",
      "        \"date\": [\n",
      "            \"2007-08-24\",\n",
      "            \"2007-08-20\",\n",
      "            \"2007-08-31\"\n",
      "        ],\n",
      "        \"id\": [\n",
      "            \"7194334\"\n",
      "        ]\n",
      "    }\n",
      "}\n"
     ]
    }
   ],
   "source": [
    "import json\n",
    "\n",
    "raw_json = collected_result[0].completions[0].result\n",
    "\n",
    "data = json.loads(raw_json)\n",
    "\n",
    "print(json.dumps(data, indent=4, ensure_ascii=False))"
   ]
  },
  {
   "cell_type": "markdown",
   "metadata": {
    "id": "rCp40QWDmnVX"
   },
   "source": [
    "# LLMLoader"
   ]
  },
  {
   "cell_type": "markdown",
   "metadata": {
    "id": "7QQjdzGor9Fb"
   },
   "source": [
    "`LLMLoader` is designed to interact with a LLMs that are converted into gguf format. This module allows using John Snow Labs' licensed LLMs at various sizes that are finetuned on medical context for certain tasks. It provides various methods for setting parameters, loading models, generating text, and retrieving metadata. The `LLMLoader` includes methods for setting various parameters such as input prefix, suffix, cache prompt, number of tokens to predict, sampling techniques, temperature, penalties, and more. Overall, the `LLMLoader`  provides a flexible and extensible framework for interacting with language models in a Python and Scala environment using PySpark and Java.\n",
    "\n",
    "The `LLMLoader`, now based on the llama cpp dependency, allows loading models (either `AutoGGUFModel` or `MedicalLLM`) via pretrained and load methods. It can also load any other gguf model outside of the Models Hub. It automatically detects whether a model is licensed and can also load GGUF files directly using the `loadGGUF` method. This streamlines model loading and usage without requiring the inclusion of the llama cpp dependency."
   ]
  },
  {
   "cell_type": "markdown",
   "metadata": {
    "id": "E1pk6PsjqfxL"
   },
   "source": [
    "## JSL_MedS\n",
    "\n",
    "\n",
    "This LLM model is trained to perform Summarization and Q&A based on a given context."
   ]
  },
  {
   "cell_type": "code",
   "execution_count": null,
   "metadata": {
    "id": "Bzbsv7oNqdya"
   },
   "outputs": [],
   "source": [
    "from sparknlp_jsl.llm import LLMLoader\n",
    "\n",
    "jsl_meds_llm = LLMLoader(spark).pretrained(\"jsl_meds_q8_v3\", \"en\", \"clinical/models\")"
   ]
  },
  {
   "cell_type": "code",
   "execution_count": null,
   "metadata": {
    "id": "tKqPd3fpvSk5"
   },
   "outputs": [],
   "source": [
    "prompt = \"\"\"\n",
    "Based on the following text, what age group is most susceptible to breast cancer?\n",
    "\n",
    "## Text:\n",
    "The exact cause of breast cancer is unknown. However, several risk factors can increase your likelihood of developing breast cancer, such as:\n",
    "- A personal or family history of breast cancer\n",
    "- A genetic mutation, such as BRCA1 or BRCA2\n",
    "- Exposure to radiation\n",
    "- Age (most commonly occurring in women over 50)\n",
    "- Early onset of menstruation or late menopause\n",
    "- Obesity\n",
    "- Hormonal factors, such as taking hormone replacement therapy\n",
    "\"\"\"\n",
    "\n",
    "response = jsl_meds_llm.generate(prompt)"
   ]
  },
  {
   "cell_type": "code",
   "execution_count": null,
   "metadata": {
    "colab": {
     "base_uri": "https://localhost:8080/",
     "height": 160
    },
    "id": "PzAyfaJuPf-D",
    "outputId": "d550db74-6ee4-4b8f-8707-db37d3ade033"
   },
   "outputs": [
    {
     "data": {
      "application/vnd.google.colaboratory.intrinsic+json": {
       "type": "string"
      },
      "text/plain": [
       "'Based on the provided text, the age group most susceptible to breast cancer is women over 50 years old. This is because the text explicitly states that breast cancer is most commonly occurring in women over the age of 50. While other risk factors such as genetic mutations, family history, and hormonal factors can increase the likelihood of developing breast cancer, age remains a significant factor in the prevalence of the disease. It is important to note that while women over 50 are at a higher risk, breast cancer can still occur in younger women, and regular screenings and awareness of risk factors are crucial for early detection and treatment.'"
      ]
     },
     "execution_count": 8,
     "metadata": {},
     "output_type": "execute_result"
    }
   ],
   "source": [
    "response"
   ]
  },
  {
   "cell_type": "markdown",
   "metadata": {
    "id": "JvfoVr3yqmfE"
   },
   "source": [
    "## JSL_MedM\n",
    "\n",
    "\n",
    "This LLM model is trained to perform Q&A, Summarization, RAG, and Chat."
   ]
  },
  {
   "cell_type": "code",
   "execution_count": null,
   "metadata": {
    "id": "WUB6Q5z4wecF"
   },
   "outputs": [],
   "source": [
    "from sparknlp_jsl.llm import LLMLoader\n",
    "\n",
    "jsl_medm_llm = LLMLoader(spark).pretrained(\"jsl_medm_q8_v3\", \"en\", \"clinical/models\")"
   ]
  },
  {
   "cell_type": "code",
   "execution_count": null,
   "metadata": {
    "id": "nw3jUHswwfuE"
   },
   "outputs": [],
   "source": [
    "prompt = \"\"\"\n",
    "A 23-year-old pregnant woman at 22 weeks gestation presents with burning upon urination. She states it started 1 day ago and has been worsening despite drinking more water and taking cranberry extract. She otherwise feels well and is followed by a doctor for her pregnancy. Her temperature is 97.7°F (36.5°C), blood pressure is 122/77 mmHg, pulse is 80/min, respirations are 19/min, and oxygen saturation is 98% on room air. Physical exam is notable for an absence of costovertebral angle tenderness and a gravid uterus.\n",
    "Which of the following is the best treatment for this patient?\n",
    "A: Ampicillin\n",
    "B: Ceftriaxone\n",
    "C: Ciprofloxacin\n",
    "D: Doxycycline\n",
    "E: Nitrofurantoin\n",
    "\"\"\"\n",
    "\n",
    "response = jsl_medm_llm.generate(prompt)"
   ]
  },
  {
   "cell_type": "code",
   "execution_count": null,
   "metadata": {
    "colab": {
     "base_uri": "https://localhost:8080/"
    },
    "id": "a5rjz7HYrWRc",
    "outputId": "e79dadb5-a157-4b95-fd08-e46f0347cff0"
   },
   "outputs": [
    {
     "name": "stdout",
     "output_type": "stream",
     "text": [
      "The patient described is a 23-year-old pregnant woman at 22 weeks gestation who presents with symptoms of a urinary tract infection (UTI), specifically burning upon urination that has worsened over the past day despite increased fluid intake and cranberry extract. The absence of costovertebral angle tenderness and a gravid uterus on physical exam are consistent with a lower UTI rather than a more severe upper UTI.\n",
      "\n",
      "Given the patient's pregnancy status, the choice of antibiotic must be carefully considered to ensure safety for both the mother and the fetus. The American College of Obstetricians and Gynecologists (ACOG) and the American Academy of Family Physicians (AAFP) recommend nitrofurantoin as a first-line treatment for uncomplicated UTIs in pregnant women due to its safety profile and efficacy.\n",
      "\n",
      "- **Ampicillin**: While ampicillin is generally safe in pregnancy, it is not the first-line choice for UTIs due to concerns about resistance and the availability of more effective alternatives.\n",
      "- **Ceftriaxone**: This is typically reserved for more severe infections or when there is a need for parenteral therapy, which is not indicated in this case.\n",
      "- **Ciprofloxacin**: This is contraindicated in pregnancy due to potential risks to the fetus, including cartilage damage.\n",
      "- **Doxycycline**: This is also contraindicated in pregnancy due to potential risks to the fetus, including skeletal and dental abnormalities.\n",
      "\n",
      "Therefore, the best treatment for this patient is:\n",
      "\n",
      "**E: Nitrofurantoin**\n",
      "\n",
      "Nitrofurantoin is safe and effective for treating uncomplicated UTIs in pregnant women and is the recommended first-line therapy by ACOG and AAFP.\n"
     ]
    }
   ],
   "source": [
    "print(response)"
   ]
  },
  {
   "cell_type": "markdown",
   "metadata": {
    "id": "1ERO2T_A7ut8"
   },
   "source": [
    "## Opensource LLM"
   ]
  },
  {
   "cell_type": "markdown",
   "metadata": {
    "id": "IjiNQu2X_MvF"
   },
   "source": [
    "### mistral-7b"
   ]
  },
  {
   "cell_type": "code",
   "execution_count": null,
   "metadata": {
    "colab": {
     "base_uri": "https://localhost:8080/"
    },
    "id": "FInIo4_pufVn",
    "outputId": "7acb7b6f-a235-4e2a-fc13-d764230e3510"
   },
   "outputs": [
    {
     "name": "stdout",
     "output_type": "stream",
     "text": [
      "/usr/local/lib/python3.11/dist-packages/huggingface_hub/commands/download.py:139: FutureWarning: Ignoring --local-dir-use-symlinks. Downloading to a local directory does not use symlinks anymore.\n",
      "  warnings.warn(\n",
      "Downloading 'mistral-7b-v0.1.Q4_K_M.gguf' to '.cache/huggingface/download/rAdFtzyS6dBYqo0ywrkBjjqajgw=.ce6253d2e91adea0c35924b38411b0434fa18fcb90c52980ce68187dbcbbe40c.incomplete'\n",
      "mistral-7b-v0.1.Q4_K_M.gguf: 100% 4.37G/4.37G [00:25<00:00, 174MB/s] \n",
      "Download complete. Moving file to mistral-7b-v0.1.Q4_K_M.gguf\n",
      "mistral-7b-v0.1.Q4_K_M.gguf\n"
     ]
    }
   ],
   "source": [
    "# ! pip install huggingface-hub\n",
    "\n",
    "!huggingface-cli download TheBloke/Mistral-7B-v0.1-GGUF mistral-7b-v0.1.Q4_K_M.gguf --local-dir . --local-dir-use-symlinks False\n"
   ]
  },
  {
   "cell_type": "code",
   "execution_count": null,
   "metadata": {
    "id": "Wtw--WKB-g71"
   },
   "outputs": [],
   "source": [
    "llm_loader = LLMLoader(spark)"
   ]
  },
  {
   "cell_type": "code",
   "execution_count": null,
   "metadata": {
    "colab": {
     "base_uri": "https://localhost:8080/"
    },
    "id": "Fgvjcqvp9nKn",
    "outputId": "71f2d635-af3c-4980-8d60-739fcbd7b445"
   },
   "outputs": [
    {
     "name": "stdout",
     "output_type": "stream",
     "text": [
      "CPU times: user 16.2 ms, sys: 2.07 ms, total: 18.3 ms\n",
      "Wall time: 3.45 s\n"
     ]
    },
    {
     "data": {
      "text/plain": [
       "com.johnsnowlabs.ml.gguf.LLMLoader@2c7e2130"
      ]
     },
     "execution_count": 18,
     "metadata": {},
     "output_type": "execute_result"
    }
   ],
   "source": [
    "%%time\n",
    "\n",
    "llm_loader\\\n",
    "    .setUseChatTemplate(True)\\\n",
    "    .setTemperature(0.0)\\\n",
    "    .setStopStrings([\"<|im_end|>\"])\\\n",
    "    .loadGGUF(\"./mistral-7b-v0.1.Q4_K_M.gguf\")"
   ]
  },
  {
   "cell_type": "code",
   "execution_count": null,
   "metadata": {
    "colab": {
     "base_uri": "https://localhost:8080/"
    },
    "id": "zJ8KX75b-rmN",
    "outputId": "49d0e89d-e0fd-4aaa-b979-6ea391b6a6ab"
   },
   "outputs": [
    {
     "name": "stdout",
     "output_type": "stream",
     "text": [
      "CPU times: user 55 ms, sys: 2.33 ms, total: 57.3 ms\n",
      "Wall time: 9.88 s\n"
     ]
    }
   ],
   "source": [
    "%%time\n",
    "prompt = \"What is the indication for the drug Methadone?\"\n",
    "response = llm_loader.generate(prompt)"
   ]
  },
  {
   "cell_type": "code",
   "execution_count": null,
   "metadata": {
    "colab": {
     "base_uri": "https://localhost:8080/",
     "height": 35
    },
    "id": "Fx3OGHBR_W2k",
    "outputId": "697165b5-b995-41ba-ea3f-72c2c4341e60"
   },
   "outputs": [
    {
     "data": {
      "application/vnd.google.colaboratory.intrinsic+json": {
       "type": "string"
      },
      "text/plain": [
       "'Methadone is used to treat opioid addiction. It is also used to treat severe pain.\\n'"
      ]
     },
     "execution_count": 20,
     "metadata": {},
     "output_type": "execute_result"
    }
   ],
   "source": [
    "response"
   ]
  }
 ],
 "metadata": {
  "accelerator": "GPU",
  "colab": {
   "gpuType": "L4",
   "machine_shape": "hm",
   "provenance": [],
   "toc_visible": true
  },
  "kernelspec": {
   "display_name": "Python 3",
   "name": "python3"
  },
  "language_info": {
   "name": "python"
  }
 },
 "nbformat": 4,
 "nbformat_minor": 0
}

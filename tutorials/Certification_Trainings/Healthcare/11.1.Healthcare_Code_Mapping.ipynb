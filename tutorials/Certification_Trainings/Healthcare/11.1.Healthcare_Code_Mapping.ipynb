{
 "cells": [
  {
   "cell_type": "markdown",
   "metadata": {
    "id": "glAlwoLd9II2"
   },
   "source": [
    "![JohnSnowLabs](https://nlp.johnsnowlabs.com/assets/images/logo.png)\n",
    "\n",
    "[![Open In Colab](https://colab.research.google.com/assets/colab-badge.svg)](https://colab.research.google.com/github/JohnSnowLabs/spark-nlp-workshop/blob/master/tutorials/Certification_Trainings/Healthcare/11.1.Healthcare_Code_Mapping.ipynb)"
   ]
  },
  {
   "cell_type": "code",
   "execution_count": null,
   "metadata": {
    "id": "WRYEtvxvJfsF"
   },
   "outputs": [],
   "source": [
    "import json, os\n",
    "from google.colab import files\n",
    "\n",
    "if 'spark_jsl.json' not in os.listdir():\n",
    "  license_keys = files.upload()\n",
    "  os.rename(list(license_keys.keys())[0], 'spark_jsl.json')\n",
    "\n",
    "with open('spark_jsl.json') as f:\n",
    "    license_keys = json.load(f)\n",
    "\n",
    "# Defining license key-value pairs as local variables\n",
    "locals().update(license_keys)\n",
    "os.environ.update(license_keys)"
   ]
  },
  {
   "cell_type": "code",
   "execution_count": null,
   "metadata": {
    "id": "10nvJUXOJkl_"
   },
   "outputs": [],
   "source": [
    "# Installing pyspark and spark-nlp\n",
    "! pip install --upgrade -q pyspark==3.4.1 spark-nlp==$PUBLIC_VERSION\n",
    "\n",
    "# Installing Spark NLP Healthcare\n",
    "! pip install --upgrade -q spark-nlp-jsl==$JSL_VERSION  --extra-index-url https://pypi.johnsnowlabs.com/$SECRET"
   ]
  },
  {
   "cell_type": "code",
   "execution_count": null,
   "metadata": {
    "colab": {
     "base_uri": "https://localhost:8080/",
     "height": 254
    },
    "executionInfo": {
     "elapsed": 45527,
     "status": "ok",
     "timestamp": 1712573402691,
     "user": {
      "displayName": "Bugra",
      "userId": "12474083375271086689"
     },
     "user_tz": -180
    },
    "id": "D1HmpcpoJo3E",
    "outputId": "b97e1121-6844-416b-f6d5-8a081eecfc21"
   },
   "outputs": [
    {
     "name": "stdout",
     "output_type": "stream",
     "text": [
      "Spark NLP Version : 5.3.1\n",
      "Spark NLP_JSL Version : 5.3.1\n"
     ]
    },
    {
     "data": {
      "text/html": [
       "\n",
       "            <div>\n",
       "                <p><b>SparkSession - in-memory</b></p>\n",
       "                \n",
       "        <div>\n",
       "            <p><b>SparkContext</b></p>\n",
       "\n",
       "            <p><a href=\"http://2d90cc7f9d57:4040\">Spark UI</a></p>\n",
       "\n",
       "            <dl>\n",
       "              <dt>Version</dt>\n",
       "                <dd><code>v3.4.1</code></dd>\n",
       "              <dt>Master</dt>\n",
       "                <dd><code>local[*]</code></dd>\n",
       "              <dt>AppName</dt>\n",
       "                <dd><code>Spark NLP Licensed</code></dd>\n",
       "            </dl>\n",
       "        </div>\n",
       "        \n",
       "            </div>\n",
       "        "
      ],
      "text/plain": [
       "<pyspark.sql.session.SparkSession at 0x7db65544db40>"
      ]
     },
     "execution_count": 3,
     "metadata": {},
     "output_type": "execute_result"
    }
   ],
   "source": [
    "import json\n",
    "import os\n",
    "\n",
    "import sparknlp_jsl\n",
    "import sparknlp\n",
    "\n",
    "from pyspark.sql import SparkSession\n",
    "from pyspark.ml import Pipeline, PipelineModel\n",
    "\n",
    "from sparknlp.base import *\n",
    "from sparknlp.annotator import *\n",
    "from sparknlp.util import *\n",
    "from sparknlp.pretrained import PretrainedPipeline\n",
    "from sparknlp_jsl.annotator import *\n",
    "\n",
    "params = {\"spark.driver.memory\":\"24G\",\n",
    "          \"spark.kryoserializer.buffer.max\":\"2000M\",\n",
    "          \"spark.driver.maxResultSize\":\"4000M\"}\n",
    "\n",
    "spark = sparknlp_jsl.start(license_keys['SECRET'],params=params)\n",
    "\n",
    "print(\"Spark NLP Version :\", sparknlp.version())\n",
    "print(\"Spark NLP_JSL Version :\", sparknlp_jsl.version())\n",
    "\n",
    "spark"
   ]
  },
  {
   "cell_type": "markdown",
   "metadata": {},
   "source": [
    "## Healthcare NLP for Data Scientists Course\n",
    "\n",
    "If you are not familiar with the components in this notebook, you can check [Healthcare NLP for Data Scientists Udemy Course](https://www.udemy.com/course/healthcare-nlp-for-data-scientists/) and the [MOOC Notebooks](https://github.com/JohnSnowLabs/spark-nlp-workshop/tree/master/Spark_NLP_Udemy_MOOC/Healthcare_NLP) for each components."
   ]
  },
  {
   "cell_type": "markdown",
   "metadata": {
    "id": "Fl-qaRiCFB5p"
   },
   "source": [
    "# HEALTHCARE CODES MAPPING BY USING PRETRAINED PIPELINES\n"
   ]
  },
  {
   "cell_type": "markdown",
   "metadata": {
    "id": "whIqug2EjFqE"
   },
   "source": [
    "- **Chunk Mapper Pretrained Pipelines**"
   ]
  },
  {
   "cell_type": "markdown",
   "metadata": {
    "id": "RM0LZuYti2SI"
   },
   "source": [
    "|index|model|\n",
    "|-----:|:-----|\n",
    "| 1| [icd10_icd9_mapping](https://nlp.johnsnowlabs.com/2022/09/30/icd10_icd9_mapping_en.html)   |\n",
    "| 2| [icdo_snomed_mapping](https://nlp.johnsnowlabs.com/2022/06/27/icdo_snomed_mapping_en_3_0.html)   |\n",
    "| 3| [icd10cm_snomed_mapping](https://nlp.johnsnowlabs.com/2022/06/27/icd10cm_snomed_mapping_en_3_0.html)   |\n",
    "| 4| [rxnorm_ndc_mapping](https://nlp.johnsnowlabs.com/2022/06/27/rxnorm_ndc_mapping_en_3_0.html)   |\n",
    "| 5| [rxnorm_umls_mapping](https://nlp.johnsnowlabs.com/2022/06/27/rxnorm_umls_mapping_en_3_0.html)   |\n",
    "| 6| [snomed_icd10cm_mapping](https://nlp.johnsnowlabs.com/2022/06/27/snomed_icd10cm_mapping_en_3_0.html)   |\n",
    "| 7| [snomed_icdo_mapping](https://nlp.johnsnowlabs.com/2022/06/27/snomed_icdo_mapping_en_3_0.html)   |\n",
    "| 8| [snomed_umls_mapping](https://nlp.johnsnowlabs.com/2022/06/27/snomed_umls_mapping_en_3_0.html)   |\n",
    "| 9| [icd10cm_umls_mapping](https://nlp.johnsnowlabs.com/2022/06/27/icd10cm_umls_mapping_en_3_0.html)   |\n",
    "| 10| [mesh_umls_mapping](https://nlp.johnsnowlabs.com/2021/07/01/mesh_umls_mapping_en.html)   |\n",
    "| 11| [rxnorm_mesh_mapping](https://nlp.johnsnowlabs.com/2021/07/01/rxnorm_mesh_mapping_en.html)   |\n",
    "| 12|[hpo_mapper_pipeline_v2](https://nlp.johnsnowlabs.com/2025/06/26/hpo_mapper_pipeline_v2_en.html)|\n",
    "| 13|[hpo_mapper_pipeline_v3](https://nlp.johnsnowlabs.com/2025/08/07/hpo_mapper_pipeline_v3_en.html)|\n",
    "\n",
    "\n",
    "\n",
    "**You can find all these models and more [NLP Models Hub](https://nlp.johnsnowlabs.com/models?q=Chunk+Mapping&edition=Spark+NLP+for+Healthcare)**"
   ]
  },
  {
   "cell_type": "code",
   "execution_count": null,
   "metadata": {
    "id": "tNtGenvc2iIT"
   },
   "outputs": [],
   "source": [
    "from sparknlp.pretrained import PretrainedPipeline"
   ]
  },
  {
   "cell_type": "markdown",
   "metadata": {
    "id": "0qnaH9P0O9M8"
   },
   "source": [
    "## ICD10 to ICD9 Code Mapping\n",
    "This pretrained pipeline maps ICD10 codes to ICD9 codes without using any text data. You’ll just feed a comma or white space delimited ICD10 codes and it will return the corresponding ICD9 codes as a list. If there is no mapping, the original code is returned with no mapping."
   ]
  },
  {
   "cell_type": "code",
   "execution_count": null,
   "metadata": {
    "colab": {
     "base_uri": "https://localhost:8080/"
    },
    "executionInfo": {
     "elapsed": 20430,
     "status": "ok",
     "timestamp": 1709878618432,
     "user": {
      "displayName": "Bugra",
      "userId": "12474083375271086689"
     },
     "user_tz": -180
    },
    "id": "n8df9LSlPHsR",
    "outputId": "3dc278c5-0c69-4530-c1bc-d531ad8b154f"
   },
   "outputs": [
    {
     "name": "stdout",
     "output_type": "stream",
     "text": [
      "icd10_icd9_mapping download started this may take some time.\n",
      "Approx size to download 579.7 KB\n",
      "[OK!]\n"
     ]
    }
   ],
   "source": [
    "icd10_icd9_pipeline = PretrainedPipeline(\"icd10_icd9_mapping\", \"en\", \"clinical/models\")"
   ]
  },
  {
   "cell_type": "code",
   "execution_count": null,
   "metadata": {
    "colab": {
     "base_uri": "https://localhost:8080/"
    },
    "executionInfo": {
     "elapsed": 444,
     "status": "ok",
     "timestamp": 1709878621497,
     "user": {
      "displayName": "Bugra",
      "userId": "12474083375271086689"
     },
     "user_tz": -180
    },
    "id": "7e_ZsK9NPHpq",
    "outputId": "d8f26f47-c939-4352-d063-eabc8836fd1a"
   },
   "outputs": [
    {
     "data": {
      "text/plain": [
       "[DocumentAssembler_78a9faf419f2,\n",
       " REGEX_TOKENIZER_cb2df0b8d959,\n",
       " CHUNKER-MAPPER_3ac48fe0df3d]"
      ]
     },
     "execution_count": 6,
     "metadata": {},
     "output_type": "execute_result"
    }
   ],
   "source": [
    "icd10_icd9_pipeline.model.stages"
   ]
  },
  {
   "cell_type": "code",
   "execution_count": null,
   "metadata": {
    "colab": {
     "base_uri": "https://localhost:8080/"
    },
    "executionInfo": {
     "elapsed": 414,
     "status": "ok",
     "timestamp": 1709878624863,
     "user": {
      "displayName": "Bugra",
      "userId": "12474083375271086689"
     },
     "user_tz": -180
    },
    "id": "iyBujBonPtoI",
    "outputId": "58e42f28-2482-48b2-a8f7-a8c11b3b0de6"
   },
   "outputs": [
    {
     "data": {
      "text/plain": [
       "{'document': ['E669 R630 J988'],\n",
       " 'icd10cm_code': ['E669', 'R630', 'J988'],\n",
       " 'icd9_code': ['27800', '7830', '5198']}"
      ]
     },
     "execution_count": 7,
     "metadata": {},
     "output_type": "execute_result"
    }
   ],
   "source": [
    "icd10_icd9_pipeline.annotate('E669 R630 J988')"
   ]
  },
  {
   "cell_type": "markdown",
   "metadata": {
    "id": "sOTc_bMzPouX"
   },
   "source": [
    "| ICD10 | Details |\n",
    "| ---------- | ----------------------------:|\n",
    "| E669 | Obesity |\n",
    "| R630 | Anorexia |\n",
    "| J988 | Other specified respiratory disorders |\n",
    "\n",
    "\n",
    "\n",
    "| ICD9 | Details |\n",
    "| ---------- | ---------------------------:|\n",
    "| 27800 | Obesity |\n",
    "| 7830 | Anorexia |\n",
    "| 5198 | Other diseases of respiratory system |"
   ]
  },
  {
   "cell_type": "markdown",
   "metadata": {
    "id": "DT_zgN35kCy2"
   },
   "source": [
    "## ICD10CM to SNOMED Code Mapping\n",
    "\n",
    "This pretrained pipeline maps ICD10CM codes to SNOMED codes without using any text data. You’ll just feed a comma or white space delimited ICD10CM codes and it will return the corresponding SNOMED codes as a list. For the time being, it supports 132K Snomed codes and will be augmented & enriched in the next releases."
   ]
  },
  {
   "cell_type": "code",
   "execution_count": null,
   "metadata": {
    "colab": {
     "base_uri": "https://localhost:8080/"
    },
    "executionInfo": {
     "elapsed": 12263,
     "status": "ok",
     "timestamp": 1709878668157,
     "user": {
      "displayName": "Bugra",
      "userId": "12474083375271086689"
     },
     "user_tz": -180
    },
    "id": "AU090GkuF5G_",
    "outputId": "3f405969-4840-4451-94fa-97e18b1b6b90"
   },
   "outputs": [
    {
     "name": "stdout",
     "output_type": "stream",
     "text": [
      "icd10cm_snomed_mapping download started this may take some time.\n",
      "Approx size to download 1 MB\n",
      "[OK!]\n"
     ]
    }
   ],
   "source": [
    "icd10_snomed_pipeline = PretrainedPipeline(\"icd10cm_snomed_mapping\", \"en\", \"clinical/models\")"
   ]
  },
  {
   "cell_type": "code",
   "execution_count": null,
   "metadata": {
    "colab": {
     "base_uri": "https://localhost:8080/"
    },
    "executionInfo": {
     "elapsed": 13,
     "status": "ok",
     "timestamp": 1709878668158,
     "user": {
      "displayName": "Bugra",
      "userId": "12474083375271086689"
     },
     "user_tz": -180
    },
    "id": "N5ei7EUX1D79",
    "outputId": "3eb7b5c8-300a-4843-f226-600e7f8a86ba"
   },
   "outputs": [
    {
     "data": {
      "text/plain": [
       "[DocumentAssembler_9ae20ea07807,\n",
       " REGEX_TOKENIZER_8176a6b6e586,\n",
       " CHUNKER-MAPPER_5968de7123c1]"
      ]
     },
     "execution_count": 9,
     "metadata": {},
     "output_type": "execute_result"
    }
   ],
   "source": [
    "icd10_snomed_pipeline.model.stages"
   ]
  },
  {
   "cell_type": "code",
   "execution_count": null,
   "metadata": {
    "colab": {
     "base_uri": "https://localhost:8080/"
    },
    "executionInfo": {
     "elapsed": 9,
     "status": "ok",
     "timestamp": 1709878668158,
     "user": {
      "displayName": "Bugra",
      "userId": "12474083375271086689"
     },
     "user_tz": -180
    },
    "id": "tgF3D4Eu1GvT",
    "outputId": "6e7300a1-6b4c-4ccd-875b-50b15aecf420"
   },
   "outputs": [
    {
     "data": {
      "text/plain": [
       "{'document': ['M8950 E119 H16269'],\n",
       " 'icd10cm_code': ['M8950', 'E119', 'H16269'],\n",
       " 'snomed_code': ['716868003', '170771004', '51264003']}"
      ]
     },
     "execution_count": 10,
     "metadata": {},
     "output_type": "execute_result"
    }
   ],
   "source": [
    "icd10_snomed_pipeline.annotate('M8950 E119 H16269')"
   ]
  },
  {
   "cell_type": "markdown",
   "metadata": {
    "id": "WJ96Cz0g1JBq"
   },
   "source": [
    "|**ICD10CM Code** | **ICD10CM Details** | **SNOMED Code** | **SNOMED Details** |\n",
    "| ---------- | -----------:| ---------- | -----------:|\n",
    "| M8950 |  Osteolysis, unspecified site | 716868003 | Multicentric osteolysis nodulosis arthropathy spectrum |\n",
    "| E119 | Type 2 diabetes mellitus | 170771004 | Diabetic - follow-up default |\n",
    "| H16269 | Vernal keratoconjunctivitis, with limbar and corneal involvement, unspecified eye | 51264003 | Limbal AND/OR corneal involvement in vernal conjunctivitis |\n"
   ]
  },
  {
   "cell_type": "markdown",
   "metadata": {
    "id": "pexEzXUR1QVA"
   },
   "source": [
    "## SNOMED to ICD10CM Code Mapping\n",
    "\n",
    "This pretrained pipeline maps SNOMED codes to ICD10CM codes without using any text data. You'll just feed a comma or white space delimited SNOMED codes and it will return the corresponding candidate ICD10CM codes as a list (multiple ICD10 codes for each Snomed code). For the time being, it supports 132K Snomed codes and 30K ICD10 codes and will be augmented & enriched in the next releases."
   ]
  },
  {
   "cell_type": "code",
   "execution_count": null,
   "metadata": {
    "colab": {
     "base_uri": "https://localhost:8080/"
    },
    "executionInfo": {
     "elapsed": 14744,
     "status": "ok",
     "timestamp": 1709878682897,
     "user": {
      "displayName": "Bugra",
      "userId": "12474083375271086689"
     },
     "user_tz": -180
    },
    "id": "PzmLZkEIf_io",
    "outputId": "583cea7d-14ee-432d-de15-1a2d7298e1f1"
   },
   "outputs": [
    {
     "name": "stdout",
     "output_type": "stream",
     "text": [
      "snomed_icd10cm_mapping download started this may take some time.\n",
      "Approx size to download 1.5 MB\n",
      "[OK!]\n"
     ]
    }
   ],
   "source": [
    "snomed_icd10_pipeline = PretrainedPipeline(\"snomed_icd10cm_mapping\",\"en\",\"clinical/models\")"
   ]
  },
  {
   "cell_type": "code",
   "execution_count": null,
   "metadata": {
    "colab": {
     "base_uri": "https://localhost:8080/"
    },
    "executionInfo": {
     "elapsed": 28,
     "status": "ok",
     "timestamp": 1709878682898,
     "user": {
      "displayName": "Bugra",
      "userId": "12474083375271086689"
     },
     "user_tz": -180
    },
    "id": "3NwM9_KegkN4",
    "outputId": "1367feaa-3bd1-4aba-f2d3-26c631996fab"
   },
   "outputs": [
    {
     "data": {
      "text/plain": [
       "[DocumentAssembler_4d05b9c5d71e,\n",
       " REGEX_TOKENIZER_d8ccf33e2cd4,\n",
       " CHUNKER-MAPPER_fa42286a8f92]"
      ]
     },
     "execution_count": 12,
     "metadata": {},
     "output_type": "execute_result"
    }
   ],
   "source": [
    "snomed_icd10_pipeline.model.stages"
   ]
  },
  {
   "cell_type": "code",
   "execution_count": null,
   "metadata": {
    "colab": {
     "base_uri": "https://localhost:8080/"
    },
    "executionInfo": {
     "elapsed": 25,
     "status": "ok",
     "timestamp": 1709878682898,
     "user": {
      "displayName": "Bugra",
      "userId": "12474083375271086689"
     },
     "user_tz": -180
    },
    "id": "8eIIYB56kCVI",
    "outputId": "cd98d062-97f6-49ae-95a2-e7b6cfe669d6"
   },
   "outputs": [
    {
     "data": {
      "text/plain": [
       "{'document': ['716868003 170771004 51264003'],\n",
       " 'snomed_code': ['716868003', '170771004', '51264003'],\n",
       " 'icd10cm_code': ['M89.50', 'E11.9', 'H16.269']}"
      ]
     },
     "execution_count": 13,
     "metadata": {},
     "output_type": "execute_result"
    }
   ],
   "source": [
    "snomed_icd10_pipeline.annotate('716868003 170771004 51264003')"
   ]
  },
  {
   "cell_type": "markdown",
   "metadata": {
    "id": "NRCHks681oDa"
   },
   "source": [
    "| **SNOMED Code** | **SNOMED Details** |**ICD10CM Code** | **ICD10CM Details** |\n",
    "| ---------- | -----------:| ---------- | -----------:|\n",
    "| 716868003 | Multicentric osteolysis nodulosis arthropathy spectrum | M89.50 |  Osteolysis, unspecified site |\n",
    "| 170771004 | Diabetic - follow-up default | E11.9 | Type 2 diabetes mellitus |\n",
    "| 51264003 | Limbal AND/OR corneal involvement in vernal conjunctivitis | H16.269 | Vernal keratoconjunctivitis, with limbar and corneal involvement, unspecified eye |\n",
    "\n"
   ]
  },
  {
   "cell_type": "markdown",
   "metadata": {
    "id": "-U3K0lEjfkqE"
   },
   "source": [
    "## ICD-O to SNOMED Code Mapping\n",
    "\n",
    "This pretrained pipeline maps ICD-O codes to SNOMED codes without using any text data. You’ll just feed a comma or white space delimited ICD-O codes and it will return the corresponding SNOMED codes as a list."
   ]
  },
  {
   "cell_type": "code",
   "execution_count": null,
   "metadata": {
    "colab": {
     "base_uri": "https://localhost:8080/"
    },
    "executionInfo": {
     "elapsed": 7127,
     "status": "ok",
     "timestamp": 1709878690003,
     "user": {
      "displayName": "Bugra",
      "userId": "12474083375271086689"
     },
     "user_tz": -180
    },
    "id": "V-M8vEO_fkqT",
    "outputId": "0a93edba-a687-45a0-a3cb-61a8175ede0e"
   },
   "outputs": [
    {
     "name": "stdout",
     "output_type": "stream",
     "text": [
      "icdo_snomed_mapping download started this may take some time.\n",
      "Approx size to download 134.1 KB\n",
      "[OK!]\n"
     ]
    }
   ],
   "source": [
    "icdo_snomed_pipeline = PretrainedPipeline(\"icdo_snomed_mapping\", \"en\", \"clinical/models\")"
   ]
  },
  {
   "cell_type": "code",
   "execution_count": null,
   "metadata": {
    "colab": {
     "base_uri": "https://localhost:8080/"
    },
    "executionInfo": {
     "elapsed": 25,
     "status": "ok",
     "timestamp": 1709878690004,
     "user": {
      "displayName": "Bugra",
      "userId": "12474083375271086689"
     },
     "user_tz": -180
    },
    "id": "YpscYr9dfkqU",
    "outputId": "24b116a5-dbe0-4787-b5ee-d6f38bdffce0"
   },
   "outputs": [
    {
     "data": {
      "text/plain": [
       "[DocumentAssembler_666bb5cbda3a,\n",
       " REGEX_TOKENIZER_9a9b8335227b,\n",
       " CHUNKER-MAPPER_e9822ba7753b]"
      ]
     },
     "execution_count": 15,
     "metadata": {},
     "output_type": "execute_result"
    }
   ],
   "source": [
    "icdo_snomed_pipeline.model.stages"
   ]
  },
  {
   "cell_type": "code",
   "execution_count": null,
   "metadata": {
    "colab": {
     "base_uri": "https://localhost:8080/"
    },
    "executionInfo": {
     "elapsed": 542,
     "status": "ok",
     "timestamp": 1709878690524,
     "user": {
      "displayName": "Bugra",
      "userId": "12474083375271086689"
     },
     "user_tz": -180
    },
    "id": "GnSzbUcjfkqV",
    "outputId": "e22746ce-5070-43a3-edd5-f4f3731cbb20"
   },
   "outputs": [
    {
     "data": {
      "text/plain": [
       "{'document': ['8172/3 C77.5 8982/0'],\n",
       " 'icdo_code': ['8172/3', 'C77.5', '8982/0'],\n",
       " 'snomed_code': ['128646008', '5394000', '69291002']}"
      ]
     },
     "execution_count": 16,
     "metadata": {},
     "output_type": "execute_result"
    }
   ],
   "source": [
    "icdo_snomed_pipeline.annotate('8172/3 C77.5 8982/0')"
   ]
  },
  {
   "cell_type": "markdown",
   "metadata": {
    "id": "sWK-6W8MfkqV"
   },
   "source": [
    "|**ICDO Code** | **ICDOCM Details** | **SNOMED Code** | **SNOMED Details** |\n",
    "| ---------- | -----------:| ---------- | -----------:|\n",
    "| 8172/3 |  Hepatocellular carcinoma, scirrhous | 128646008 | Hepatocellular carcinoma, scirrhous |\n",
    "| C77.5 | Pelvic lymph nodes | 5394000 | Structure of uterine paracervical lymph node |\n",
    "| 8982/0 | Myoepithelioma, NOS | 69291002 | Myoepithelial adenoma |\n"
   ]
  },
  {
   "cell_type": "markdown",
   "metadata": {
    "id": "x9cnKUdzkGkI"
   },
   "source": [
    "## SNOMED to ICD-O Code Mapping\n",
    "\n",
    "This pretrained pipeline maps SNOMED codes to ICD-O codes without using any text data. You’ll just feed a comma or white space delimited SNOMED codes and it will return the corresponding ICD-O codes as a list."
   ]
  },
  {
   "cell_type": "code",
   "execution_count": null,
   "metadata": {
    "colab": {
     "base_uri": "https://localhost:8080/"
    },
    "executionInfo": {
     "elapsed": 5665,
     "status": "ok",
     "timestamp": 1709878696181,
     "user": {
      "displayName": "Bugra",
      "userId": "12474083375271086689"
     },
     "user_tz": -180
    },
    "id": "b5mKHJZpkGkd",
    "outputId": "ed9f1412-34c5-498b-a29d-b7b93a37eb4a"
   },
   "outputs": [
    {
     "name": "stdout",
     "output_type": "stream",
     "text": [
      "snomed_icdo_mapping download started this may take some time.\n",
      "Approx size to download 207.8 KB\n",
      "[OK!]\n"
     ]
    }
   ],
   "source": [
    "snomed_icdo_pipeline = PretrainedPipeline(\"snomed_icdo_mapping\", \"en\", \"clinical/models\")"
   ]
  },
  {
   "cell_type": "code",
   "execution_count": null,
   "metadata": {
    "colab": {
     "base_uri": "https://localhost:8080/"
    },
    "executionInfo": {
     "elapsed": 28,
     "status": "ok",
     "timestamp": 1709878696182,
     "user": {
      "displayName": "Bugra",
      "userId": "12474083375271086689"
     },
     "user_tz": -180
    },
    "id": "_FVvZ8QJkGke",
    "outputId": "2d177243-3953-4e60-efa2-f892a1e17008"
   },
   "outputs": [
    {
     "data": {
      "text/plain": [
       "[DocumentAssembler_82ca3d0764d1,\n",
       " REGEX_TOKENIZER_42013a5c2e7a,\n",
       " CHUNKER-MAPPER_2e80f745c696]"
      ]
     },
     "execution_count": 18,
     "metadata": {},
     "output_type": "execute_result"
    }
   ],
   "source": [
    "snomed_icdo_pipeline.model.stages"
   ]
  },
  {
   "cell_type": "code",
   "execution_count": null,
   "metadata": {
    "colab": {
     "base_uri": "https://localhost:8080/"
    },
    "executionInfo": {
     "elapsed": 25,
     "status": "ok",
     "timestamp": 1709878696182,
     "user": {
      "displayName": "Bugra",
      "userId": "12474083375271086689"
     },
     "user_tz": -180
    },
    "id": "Y0JGaBsNkGke",
    "outputId": "450bd22e-a404-49cd-965a-b1ee7990d934"
   },
   "outputs": [
    {
     "data": {
      "text/plain": [
       "{'document': ['128646008 5394000 69291002'],\n",
       " 'snomed_code': ['128646008', '5394000', '69291002'],\n",
       " 'icdo_code': ['8172/3', 'C77.5', '8982/0']}"
      ]
     },
     "execution_count": 19,
     "metadata": {},
     "output_type": "execute_result"
    }
   ],
   "source": [
    "snomed_icdo_pipeline.annotate('128646008 5394000 69291002')"
   ]
  },
  {
   "cell_type": "markdown",
   "metadata": {
    "id": "-kyyz4IjkGkf"
   },
   "source": [
    "|**SNOMED Code** | **SNOMED Details** |**ICDO Code** | **ICDOCM Details** |\n",
    "| ---------- | -----------:| ---------- | -----------:|\n",
    "|128646008 | Hepatocellular carcinoma, scirrhous | 8172/3 |  Hepatocellular carcinoma, scirrhous |\n",
    "|5394000 | Structure of uterine paracervical lymph node | C77.5 | Pelvic lymph nodes |\n",
    "|69291002 | Myoepithelial adenoma | 8982/0 | Myoepithelioma, NOS |\n",
    "\n",
    "\n",
    "\n"
   ]
  },
  {
   "cell_type": "markdown",
   "metadata": {
    "id": "v7ObC0PY2Lyl"
   },
   "source": [
    "## ICD10CM to UMLS Code Mapping\n",
    "\n",
    "This pretrained pipeline maps ICD10CM codes to UMLS codes without using any text data. You’ll just feed white space delimited ICD10CM codes and it will return the corresponding UMLS codes as a list. If there is no mapping, the original code is returned with no mapping."
   ]
  },
  {
   "cell_type": "code",
   "execution_count": null,
   "metadata": {
    "colab": {
     "base_uri": "https://localhost:8080/"
    },
    "executionInfo": {
     "elapsed": 8452,
     "status": "ok",
     "timestamp": 1709878704612,
     "user": {
      "displayName": "Bugra",
      "userId": "12474083375271086689"
     },
     "user_tz": -180
    },
    "id": "59P47ew52dJb",
    "outputId": "6efef33a-04ec-4f33-e066-7f5f7cf0a27b"
   },
   "outputs": [
    {
     "name": "stdout",
     "output_type": "stream",
     "text": [
      "icd10cm_umls_mapping download started this may take some time.\n",
      "Approx size to download 934.1 KB\n",
      "[OK!]\n"
     ]
    }
   ],
   "source": [
    "icd10_umls_pipeline = PretrainedPipeline( \"icd10cm_umls_mapping\",\"en\",\"clinical/models\")"
   ]
  },
  {
   "cell_type": "code",
   "execution_count": null,
   "metadata": {
    "colab": {
     "base_uri": "https://localhost:8080/"
    },
    "executionInfo": {
     "elapsed": 545,
     "status": "ok",
     "timestamp": 1709879051079,
     "user": {
      "displayName": "Bugra",
      "userId": "12474083375271086689"
     },
     "user_tz": -180
    },
    "id": "lsTRf6L84lS9",
    "outputId": "2dba1cfb-fb92-4628-95b1-d78d281536c5"
   },
   "outputs": [
    {
     "data": {
      "text/plain": [
       "[DocumentAssembler_25b094820972,\n",
       " REGEX_TOKENIZER_49a40e5cb790,\n",
       " CHUNKER-MAPPER_fc0d256341f7]"
      ]
     },
     "execution_count": 40,
     "metadata": {},
     "output_type": "execute_result"
    }
   ],
   "source": [
    "icd10_umls_pipeline.model.stages"
   ]
  },
  {
   "cell_type": "code",
   "execution_count": null,
   "metadata": {
    "colab": {
     "base_uri": "https://localhost:8080/"
    },
    "executionInfo": {
     "elapsed": 24,
     "status": "ok",
     "timestamp": 1709878704612,
     "user": {
      "displayName": "Bugra",
      "userId": "12474083375271086689"
     },
     "user_tz": -180
    },
    "id": "7zewPsIh159o",
    "outputId": "a81db11e-05ab-4f2c-9764-f8d40b84ec42"
   },
   "outputs": [
    {
     "data": {
      "text/plain": [
       "{'document': ['M8950 R822 R0901'],\n",
       " 'icd10cm_code': ['M8950', 'R822', 'R0901'],\n",
       " 'umls_code': ['C4721411', 'C0159076', 'C0004044']}"
      ]
     },
     "execution_count": 22,
     "metadata": {},
     "output_type": "execute_result"
    }
   ],
   "source": [
    "icd10_umls_pipeline.annotate(\"M8950 R822 R0901\")"
   ]
  },
  {
   "cell_type": "markdown",
   "metadata": {
    "id": "1vWoupDw_4sV"
   },
   "source": [
    "|**ICD10CM Code** | **ICD10CM Details** | **UMLS Code** | **UMLS Details** |\n",
    "| ---------- | -----------:| ---------- | -----------:|\n",
    "| M8950 |  Osteolysis, unspecified site | C4721411 | osteolysis |\n",
    "| R822 | Biliuria | C0159076 | Biliuria |\n",
    "| R0901 | Asphyxia | C0004044 | Asphyxia |\n",
    "\n"
   ]
  },
  {
   "cell_type": "markdown",
   "metadata": {
    "id": "peoHROwU3s4h"
   },
   "source": [
    "## SNOMED to UMLS Code Mapping\n",
    "\n",
    "This pretrained pipeline maps SNOMED codes to UMLS codes without using any text data. You’ll just feed white space delimited SNOMED codes and it will return the corresponding UMLS codes as a list. If there is no mapping, the original code is returned with no mapping."
   ]
  },
  {
   "cell_type": "code",
   "execution_count": null,
   "metadata": {
    "colab": {
     "base_uri": "https://localhost:8080/"
    },
    "executionInfo": {
     "elapsed": 30139,
     "status": "ok",
     "timestamp": 1709878734730,
     "user": {
      "displayName": "Bugra",
      "userId": "12474083375271086689"
     },
     "user_tz": -180
    },
    "id": "52QHba1LhNKT",
    "outputId": "5e048781-a611-43bc-ceed-155fd0c0fef9"
   },
   "outputs": [
    {
     "name": "stdout",
     "output_type": "stream",
     "text": [
      "snomed_umls_mapping download started this may take some time.\n",
      "Approx size to download 4.9 MB\n",
      "[OK!]\n"
     ]
    }
   ],
   "source": [
    "snomed_umls_pipeline = PretrainedPipeline( \"snomed_umls_mapping\",\"en\",\"clinical/models\")"
   ]
  },
  {
   "cell_type": "code",
   "execution_count": null,
   "metadata": {
    "colab": {
     "base_uri": "https://localhost:8080/"
    },
    "executionInfo": {
     "elapsed": 24,
     "status": "ok",
     "timestamp": 1709878734730,
     "user": {
      "displayName": "Bugra",
      "userId": "12474083375271086689"
     },
     "user_tz": -180
    },
    "id": "B0mO9gfE4qG4",
    "outputId": "699c0416-f8c9-493d-8b20-2dbb856225ff"
   },
   "outputs": [
    {
     "data": {
      "text/plain": [
       "[DocumentAssembler_9e30bb9a34d6,\n",
       " REGEX_TOKENIZER_59c5ae0eef37,\n",
       " CHUNKER-MAPPER_6ecd1e714646]"
      ]
     },
     "execution_count": 24,
     "metadata": {},
     "output_type": "execute_result"
    }
   ],
   "source": [
    "snomed_umls_pipeline.model.stages"
   ]
  },
  {
   "cell_type": "code",
   "execution_count": null,
   "metadata": {
    "colab": {
     "base_uri": "https://localhost:8080/"
    },
    "executionInfo": {
     "elapsed": 21,
     "status": "ok",
     "timestamp": 1709878734730,
     "user": {
      "displayName": "Bugra",
      "userId": "12474083375271086689"
     },
     "user_tz": -180
    },
    "id": "_ZSNj4-6hUb9",
    "outputId": "985a5ad2-6630-4c9e-c55e-d83fbdc14496"
   },
   "outputs": [
    {
     "data": {
      "text/plain": [
       "{'document': ['733187009 449433008 51264003'],\n",
       " 'snomed_code': ['733187009', '449433008', '51264003'],\n",
       " 'umls_code': ['C4546029', 'C3164619', 'C0271267']}"
      ]
     },
     "execution_count": 25,
     "metadata": {},
     "output_type": "execute_result"
    }
   ],
   "source": [
    "snomed_umls_pipeline.annotate('733187009 449433008 51264003')"
   ]
  },
  {
   "cell_type": "markdown",
   "metadata": {
    "id": "e5qYdIEv4JPL"
   },
   "source": [
    "|**SNOMED Code** | **SNOMED Details** | **UMLS Code** | **UMLS Details** |\n",
    "| ---------- | -----------:| ---------- | -----------:|\n",
    "| 733187009 | osteolysis following surgical procedure on skeletal system | C4546029 | osteolysis following surgical procedure on skeletal system |\n",
    "| 449433008 | Diffuse stenosis of left pulmonary artery | C3164619 | diffuse stenosis of left pulmonary artery |\n",
    "| 51264003 | Limbal AND/OR corneal involvement in vernal conjunctivitis | C0271267 | limbal and/or corneal involvement in vernal conjunctivitis |\n",
    "\n",
    "\n"
   ]
  },
  {
   "cell_type": "markdown",
   "metadata": {
    "id": "7HN0u38B4OkU"
   },
   "source": [
    "## RXNORM to UMLS Code Mapping\n",
    "\n",
    "This pretrained pipeline maps RxNorm codes to UMLS codes without using any text data. You’ll just feed white space-delimited RxNorm codes and it will return the corresponding UMLS codes as a list. If there is no mapping, the original code is returned with no mapping."
   ]
  },
  {
   "cell_type": "code",
   "execution_count": null,
   "metadata": {
    "colab": {
     "base_uri": "https://localhost:8080/"
    },
    "executionInfo": {
     "elapsed": 14696,
     "status": "ok",
     "timestamp": 1709878749408,
     "user": {
      "displayName": "Bugra",
      "userId": "12474083375271086689"
     },
     "user_tz": -180
    },
    "id": "m2qkwxXijweG",
    "outputId": "3f2e7fff-0247-4a06-a814-2c1a8ccfc497"
   },
   "outputs": [
    {
     "name": "stdout",
     "output_type": "stream",
     "text": [
      "rxnorm_umls_mapping download started this may take some time.\n",
      "Approx size to download 1.8 MB\n",
      "[OK!]\n"
     ]
    }
   ],
   "source": [
    "rxnorm_umls_pipeline = PretrainedPipeline( \"rxnorm_umls_mapping\",\"en\",\"clinical/models\")"
   ]
  },
  {
   "cell_type": "code",
   "execution_count": null,
   "metadata": {
    "colab": {
     "base_uri": "https://localhost:8080/"
    },
    "executionInfo": {
     "elapsed": 32,
     "status": "ok",
     "timestamp": 1709878749408,
     "user": {
      "displayName": "Bugra",
      "userId": "12474083375271086689"
     },
     "user_tz": -180
    },
    "id": "ExcCU2id4vK1",
    "outputId": "b2697c37-ea02-41bc-847b-d6a19110fa24"
   },
   "outputs": [
    {
     "data": {
      "text/plain": [
       "[DocumentAssembler_4e185a5b8ed5,\n",
       " REGEX_TOKENIZER_fa6b16a107b9,\n",
       " CHUNKER-MAPPER_5ac1d410c34d]"
      ]
     },
     "execution_count": 27,
     "metadata": {},
     "output_type": "execute_result"
    }
   ],
   "source": [
    "rxnorm_umls_pipeline.model.stages"
   ]
  },
  {
   "cell_type": "code",
   "execution_count": null,
   "metadata": {
    "colab": {
     "base_uri": "https://localhost:8080/"
    },
    "executionInfo": {
     "elapsed": 28,
     "status": "ok",
     "timestamp": 1709878749408,
     "user": {
      "displayName": "Bugra",
      "userId": "12474083375271086689"
     },
     "user_tz": -180
    },
    "id": "4VHq1Wijj4kC",
    "outputId": "7c17fb45-ae74-49bd-8eea-248d4af42f08"
   },
   "outputs": [
    {
     "data": {
      "text/plain": [
       "{'document': ['1161611 315677 343663'],\n",
       " 'rxnorm_code': ['1161611', '315677', '343663'],\n",
       " 'umls_code': ['C3215948', 'C0984912', 'C1146501']}"
      ]
     },
     "execution_count": 28,
     "metadata": {},
     "output_type": "execute_result"
    }
   ],
   "source": [
    "rxnorm_umls_pipeline.annotate(\"1161611 315677 343663\")"
   ]
  },
  {
   "cell_type": "markdown",
   "metadata": {
    "id": "3dr-PkwU5XT7"
   },
   "source": [
    "|**RxNorm Code** | **RxNorm Details** | **UMLS Code** | **UMLS Details** |\n",
    "| ---------- | -----------:| ---------- | -----------:|\n",
    "| 1161611 |  metformin Pill | C3215948 | metformin pill |\n",
    "| 315677 | cimetidine 100 mg | C0984912 | cimetidine 100 mg |\n",
    "| 343663 | insulin lispro 50 UNT/ML | C1146501 | insulin lispro 50 unt/ml |"
   ]
  },
  {
   "cell_type": "markdown",
   "metadata": {
    "id": "FCfxbiR04iER"
   },
   "source": [
    "## MESH to UMLS Code Mapping\n",
    "\n",
    "This pretrained pipeline maps MeSH codes to UMLS codes without using any text data. You’ll just feed white space delimited MeSH codes and it will return the corresponding UMLS codes as a list. If there is no mapping, the original code is returned with no mapping."
   ]
  },
  {
   "cell_type": "code",
   "execution_count": null,
   "metadata": {
    "colab": {
     "base_uri": "https://localhost:8080/"
    },
    "executionInfo": {
     "elapsed": 24231,
     "status": "ok",
     "timestamp": 1709878773616,
     "user": {
      "displayName": "Bugra",
      "userId": "12474083375271086689"
     },
     "user_tz": -180
    },
    "id": "PQT8VgD9mQ04",
    "outputId": "7cc6904f-796a-4227-f5c2-603acf2e3a1d"
   },
   "outputs": [
    {
     "name": "stdout",
     "output_type": "stream",
     "text": [
      "mesh_umls_mapping download started this may take some time.\n",
      "Approx size to download 3.7 MB\n",
      "[OK!]\n"
     ]
    }
   ],
   "source": [
    "mesh_umls_pipeline = PretrainedPipeline( \"mesh_umls_mapping\",\"en\",\"clinical/models\")"
   ]
  },
  {
   "cell_type": "code",
   "execution_count": null,
   "metadata": {
    "colab": {
     "base_uri": "https://localhost:8080/"
    },
    "executionInfo": {
     "elapsed": 15,
     "status": "ok",
     "timestamp": 1709878773616,
     "user": {
      "displayName": "Bugra",
      "userId": "12474083375271086689"
     },
     "user_tz": -180
    },
    "id": "BM2nR5_G5pYp",
    "outputId": "d352b33f-642a-44d4-e75a-e7a3af5559e1"
   },
   "outputs": [
    {
     "data": {
      "text/plain": [
       "[DocumentAssembler_7610a83bd4ea,\n",
       " REGEX_TOKENIZER_8b771a14973c,\n",
       " CHUNKER-MAPPER_4039b8f2b99c]"
      ]
     },
     "execution_count": 30,
     "metadata": {},
     "output_type": "execute_result"
    }
   ],
   "source": [
    "mesh_umls_pipeline.model.stages"
   ]
  },
  {
   "cell_type": "code",
   "execution_count": null,
   "metadata": {
    "colab": {
     "base_uri": "https://localhost:8080/"
    },
    "executionInfo": {
     "elapsed": 12,
     "status": "ok",
     "timestamp": 1709878773617,
     "user": {
      "displayName": "Bugra",
      "userId": "12474083375271086689"
     },
     "user_tz": -180
    },
    "id": "lAgVLp0AmZb1",
    "outputId": "1ae072dd-6b08-445d-9ad5-02def2e1760b"
   },
   "outputs": [
    {
     "data": {
      "text/plain": [
       "{'document': ['C028491 D019326 C579867'],\n",
       " 'mesh_code': ['C028491', 'D019326', 'C579867'],\n",
       " 'umls_code': ['C0043904', 'C0045010', 'C3696376']}"
      ]
     },
     "execution_count": 31,
     "metadata": {},
     "output_type": "execute_result"
    }
   ],
   "source": [
    "mesh_umls_pipeline.annotate(\"C028491 D019326 C579867\")"
   ]
  },
  {
   "cell_type": "markdown",
   "metadata": {
    "id": "lcoTDMcI5wmz"
   },
   "source": [
    "|**MeSH Code** | **MeSH Details** | **UMLS Code** | **UMLS Details** |\n",
    "|-| -| - | -|\n",
    "| C028491 |  1,3-butylene glycol | C0043904 | 1,3-butylene glycol |\n",
    "| D019326 | 17-alpha-Hydroxyprogesterone | C0045010 | 17-alpha-hydroxyprogesterone |\n",
    "| C579867 | 3-Methylglutaconic Aciduria | C3696376 | 3-Methylglutaconic Aciduria |"
   ]
  },
  {
   "cell_type": "markdown",
   "metadata": {
    "id": "POZtAyb650FP"
   },
   "source": [
    "## RXNORM to MESH Code Mapping\n",
    "\n",
    "This pretrained pipeline maps RxNorm codes to MeSH codes without using any text data. You’ll just feed white space-delimited RxNorm codes and it will return the corresponding MeSH codes as a list. If there is no mapping, the original code is returned with no mapping."
   ]
  },
  {
   "cell_type": "code",
   "execution_count": null,
   "metadata": {
    "colab": {
     "base_uri": "https://localhost:8080/"
    },
    "executionInfo": {
     "elapsed": 8370,
     "status": "ok",
     "timestamp": 1709878781979,
     "user": {
      "displayName": "Bugra",
      "userId": "12474083375271086689"
     },
     "user_tz": -180
    },
    "id": "iN5cwIg-wj4q",
    "outputId": "3be50c1b-9408-40e0-91b3-617a8ca64874"
   },
   "outputs": [
    {
     "name": "stdout",
     "output_type": "stream",
     "text": [
      "rxnorm_mesh_mapping download started this may take some time.\n",
      "Approx size to download 101.1 KB\n",
      "[OK!]\n"
     ]
    }
   ],
   "source": [
    "rxnorm_mesh_pipeline = PretrainedPipeline( \"rxnorm_mesh_mapping\",\"en\",\"clinical/models\")"
   ]
  },
  {
   "cell_type": "code",
   "execution_count": null,
   "metadata": {
    "colab": {
     "base_uri": "https://localhost:8080/"
    },
    "executionInfo": {
     "elapsed": 8,
     "status": "ok",
     "timestamp": 1709878781979,
     "user": {
      "displayName": "Bugra",
      "userId": "12474083375271086689"
     },
     "user_tz": -180
    },
    "id": "E1q_o0ql6J82",
    "outputId": "fa6d5411-65b0-4476-ede8-98a5c6db9e86"
   },
   "outputs": [
    {
     "data": {
      "text/plain": [
       "[DocumentAssembler_d554433bf767,\n",
       " REGEX_TOKENIZER_e88353b947c6,\n",
       " LEMMATIZER_568c2c2ed9f2,\n",
       " Finisher_9aef0b33bc5c]"
      ]
     },
     "execution_count": 33,
     "metadata": {},
     "output_type": "execute_result"
    }
   ],
   "source": [
    "rxnorm_mesh_pipeline.model.stages"
   ]
  },
  {
   "cell_type": "code",
   "execution_count": null,
   "metadata": {
    "colab": {
     "base_uri": "https://localhost:8080/"
    },
    "executionInfo": {
     "elapsed": 527,
     "status": "ok",
     "timestamp": 1709878782501,
     "user": {
      "displayName": "Bugra",
      "userId": "12474083375271086689"
     },
     "user_tz": -180
    },
    "id": "XQQyZ_NUwjLo",
    "outputId": "99a46cbf-7dc9-4912-b0dc-380ed8da5a94"
   },
   "outputs": [
    {
     "data": {
      "text/plain": [
       "{'rxnorm': ['1191', '6809', '47613'],\n",
       " 'mesh': ['D001241', 'D008687', 'D019355']}"
      ]
     },
     "execution_count": 34,
     "metadata": {},
     "output_type": "execute_result"
    }
   ],
   "source": [
    "rxnorm_mesh_pipeline.annotate(\"1191 6809 47613\")"
   ]
  },
  {
   "cell_type": "markdown",
   "metadata": {
    "id": "Ub7QLdr46OkO"
   },
   "source": [
    "|**RxNorm** | **Details** |\n",
    "| ---------- | -----------:|\n",
    "| 1191 |  aspirin |\n",
    "| 6809 | metformin |\n",
    "| 47613 | calcium citrate |\n",
    "\n",
    "| **MeSH** | **Details** |\n",
    "| ---------- | -----------:|\n",
    "| D001241 | Aspirin |\n",
    "| D008687 | Metformin |\n",
    "| D019355 | Calcium Citrate |"
   ]
  },
  {
   "cell_type": "markdown",
   "metadata": {
    "id": "AXb_n8zjmPhK"
   },
   "source": [
    "## RXNORM to NDC Code Mapping\n",
    "\n",
    "This pretrained pipeline maps RxNorm codes to NDC codes without using any text data. You’ll just feed white space-delimited RxNorm codes and it will return the corresponding NDC codes as a list."
   ]
  },
  {
   "cell_type": "code",
   "execution_count": null,
   "metadata": {
    "colab": {
     "base_uri": "https://localhost:8080/"
    },
    "executionInfo": {
     "elapsed": 4297,
     "status": "ok",
     "timestamp": 1709878965998,
     "user": {
      "displayName": "Bugra",
      "userId": "12474083375271086689"
     },
     "user_tz": -180
    },
    "id": "DwTVJVq3mPhZ",
    "outputId": "1c3450de-3c76-4ceb-95d0-dcf353ca89cc"
   },
   "outputs": [
    {
     "name": "stdout",
     "output_type": "stream",
     "text": [
      "rxnorm_ndc_mapping download started this may take some time.\n",
      "Approx size to download 3.9 MB\n",
      "[OK!]\n"
     ]
    }
   ],
   "source": [
    "rxnorm_ndc_pipeline = PretrainedPipeline(\"rxnorm_ndc_mapping\",\"en\",\"clinical/models\")"
   ]
  },
  {
   "cell_type": "code",
   "execution_count": null,
   "metadata": {
    "colab": {
     "base_uri": "https://localhost:8080/"
    },
    "executionInfo": {
     "elapsed": 12,
     "status": "ok",
     "timestamp": 1709878793110,
     "user": {
      "displayName": "Bugra",
      "userId": "12474083375271086689"
     },
     "user_tz": -180
    },
    "id": "e7slfonzmPha",
    "outputId": "cebfbdde-277f-4be5-cf08-1700d351852f"
   },
   "outputs": [
    {
     "data": {
      "text/plain": [
       "[DocumentAssembler_f92d7dac3ac1,\n",
       " REGEX_TOKENIZER_4be4a602c96a,\n",
       " CHUNKER-MAPPER_2d7b0e176787,\n",
       " CHUNKER-MAPPER_2d7b0e176787]"
      ]
     },
     "execution_count": 36,
     "metadata": {},
     "output_type": "execute_result"
    }
   ],
   "source": [
    "rxnorm_ndc_pipeline.model.stages"
   ]
  },
  {
   "cell_type": "code",
   "execution_count": null,
   "metadata": {
    "colab": {
     "base_uri": "https://localhost:8080/"
    },
    "executionInfo": {
     "elapsed": 1558,
     "status": "ok",
     "timestamp": 1709878794660,
     "user": {
      "displayName": "Bugra",
      "userId": "12474083375271086689"
     },
     "user_tz": -180
    },
    "id": "9skxiaafmPhb",
    "outputId": "2e13cbf7-198f-43cc-d3fd-c7344630e7d8"
   },
   "outputs": [
    {
     "data": {
      "text/plain": [
       "{'document': ['1191 6809 47613'],\n",
       " 'rxnorm_code': ['1191', '6809', '47613'],\n",
       " 'package_ndc': ['62991-1176-06', '38779-2126-04', '00178-0796-30'],\n",
       " 'product_ndc': ['62991-1176', '38779-2126', '00178-0796']}"
      ]
     },
     "execution_count": 37,
     "metadata": {},
     "output_type": "execute_result"
    }
   ],
   "source": [
    "rxnorm_ndc_pipeline.annotate(\"1191 6809 47613\")"
   ]
  },
  {
   "cell_type": "markdown",
   "metadata": {
    "id": "X2qQSpEMmPhc"
   },
   "source": [
    "|**RxNorm** | **Details** |\n",
    "| ---------- | -----------:|\n",
    "| 1191 |  aspirin |\n",
    "| 6809 | metformin |\n",
    "| 47613 | calcium citrate |"
   ]
  }
 ],
 "metadata": {
  "colab": {
   "machine_shape": "hm",
   "provenance": []
  },
  "kernelspec": {
   "display_name": "Python 3",
   "name": "python3"
  },
  "language_info": {
   "name": "python"
  }
 },
 "nbformat": 4,
 "nbformat_minor": 0
}

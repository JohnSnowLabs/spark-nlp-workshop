{
  "nbformat": 4,
  "nbformat_minor": 0,
  "metadata": {
    "colab": {
      "name": "11.1.Healthcare_Code_Mapping.ipynb",
      "provenance": [],
      "collapsed_sections": []
    },
    "kernelspec": {
      "name": "python3",
      "display_name": "Python 3"
    },
    "language_info": {
      "name": "python"
    }
  },
  "cells": [
    {
      "cell_type": "markdown",
      "metadata": {
        "id": "glAlwoLd9II2"
      },
      "source": [
        "![JohnSnowLabs](https://nlp.johnsnowlabs.com/assets/images/logo.png)\n",
        "\n",
        "[![Open In Colab](https://colab.research.google.com/assets/colab-badge.svg)](https://colab.research.google.com/github/JohnSnowLabs/spark-nlp-workshop/blob/master/tutorials/Certification_Trainings/Healthcare/11.1.Healthcare_Code_Mapping.ipynb)"
      ]
    },
    {
      "cell_type": "code",
      "metadata": {
        "id": "WRYEtvxvJfsF"
      },
      "source": [
        "import json\n",
        "\n",
        "from google.colab import files\n",
        "\n",
        "license_keys = files.upload()\n",
        "\n",
        "with open(list(license_keys.keys())[0]) as f:\n",
        "    license_keys = json.load(f)\n",
        "\n",
        "# Defining license key-value pairs as local variables\n",
        "locals().update(license_keys)\n",
        "\n",
        "# Adding license key-value pairs to environment variables\n",
        "import os\n",
        "os.environ.update(license_keys)"
      ],
      "execution_count": null,
      "outputs": []
    },
    {
      "cell_type": "code",
      "metadata": {
        "id": "10nvJUXOJkl_"
      },
      "source": [
        "# Installing pyspark and spark-nlp\n",
        "! pip install --upgrade -q pyspark==3.1.2 spark-nlp==$PUBLIC_VERSION\n",
        "\n",
        "# Installing Spark NLP Healthcare\n",
        "! pip install --upgrade -q spark-nlp-jsl==$JSL_VERSION  --extra-index-url https://pypi.johnsnowlabs.com/$SECRET"
      ],
      "execution_count": null,
      "outputs": []
    },
    {
      "cell_type": "code",
      "metadata": {
        "colab": {
          "base_uri": "https://localhost:8080/"
        },
        "id": "D1HmpcpoJo3E",
        "outputId": "0a6e3ed8-043c-490f-9c7a-7a01260bfd39"
      },
      "source": [
        "import json\n",
        "import os\n",
        "import sparknlp_jsl\n",
        "import sparknlp\n",
        "from pyspark.ml import Pipeline, PipelineModel\n",
        "from sparknlp.pretrained import PretrainedPipeline\n",
        "from pyspark.sql import SparkSession\n",
        "from sparknlp.base import *\n",
        "from sparknlp.annotator import *\n",
        "from sparknlp.util import *\n",
        "from sparknlp_jsl.annotator import *\n",
        "\n",
        "params = {\"spark.driver.memory\":\"16G\",\n",
        "\"spark.kryoserializer.buffer.max\":\"2000M\",\n",
        "\"spark.driver.maxResultSize\":\"2000M\"}\n",
        "\n",
        "spark = sparknlp_jsl.start(license_keys['SECRET'],params=params)\n",
        "\n",
        "print (sparknlp.version())\n",
        "print (sparknlp_jsl.version())"
      ],
      "execution_count": 3,
      "outputs": [
        {
          "output_type": "stream",
          "name": "stdout",
          "text": [
            "3.3.4\n",
            "3.3.4\n"
          ]
        }
      ]
    },
    {
      "cell_type": "markdown",
      "metadata": {
        "id": "Fl-qaRiCFB5p"
      },
      "source": [
        "# HEALTHCARE CODES MAPPING BY USING PRETRAINED PIPELINES"
      ]
    },
    {
      "cell_type": "code",
      "metadata": {
        "id": "tNtGenvc2iIT"
      },
      "source": [
        "from sparknlp.pretrained import PretrainedPipeline"
      ],
      "execution_count": 4,
      "outputs": []
    },
    {
      "cell_type": "markdown",
      "metadata": {
        "id": "DT_zgN35kCy2"
      },
      "source": [
        "## 1. ICD10CM to SNOMED Code Mapping\n",
        "\n",
        "This pretrained pipeline maps ICD10CM codes to SNOMED codes without using any text data. You’ll just feed a comma or white space delimited ICD10CM codes and it will return the corresponding SNOMED codes as a list. For the time being, it supports 132K Snomed codes and will be augmented & enriched in the next releases."
      ]
    },
    {
      "cell_type": "code",
      "metadata": {
        "id": "AU090GkuF5G_",
        "colab": {
          "base_uri": "https://localhost:8080/"
        },
        "outputId": "791e304c-1c13-441c-e389-497e357e402b"
      },
      "source": [
        "icd10_snomed_pipeline = PretrainedPipeline(\"icd10cm_snomed_mapping\", \"en\", \"clinical/models\")"
      ],
      "execution_count": 10,
      "outputs": [
        {
          "output_type": "stream",
          "name": "stdout",
          "text": [
            "icd10cm_snomed_mapping download started this may take some time.\n",
            "Approx size to download 514.5 KB\n",
            "[OK!]\n"
          ]
        }
      ]
    },
    {
      "cell_type": "code",
      "metadata": {
        "colab": {
          "base_uri": "https://localhost:8080/"
        },
        "id": "N5ei7EUX1D79",
        "outputId": "3a6dee7e-a24d-4b96-b39e-9454fbc0caba"
      },
      "source": [
        "icd10_snomed_pipeline.model.stages"
      ],
      "execution_count": 11,
      "outputs": [
        {
          "output_type": "execute_result",
          "data": {
            "text/plain": [
              "[DocumentAssembler_effe917bc86b,\n",
              " REGEX_TOKENIZER_a2e7a20a20d4,\n",
              " LEMMATIZER_0ca0f7005a90,\n",
              " Finisher_07470acb09e3]"
            ]
          },
          "metadata": {},
          "execution_count": 11
        }
      ]
    },
    {
      "cell_type": "code",
      "metadata": {
        "colab": {
          "base_uri": "https://localhost:8080/"
        },
        "id": "tgF3D4Eu1GvT",
        "outputId": "864632a2-65d6-4687-b211-83ba877fb601"
      },
      "source": [
        "icd10_snomed_pipeline.annotate('M89.50 I288 H16269')"
      ],
      "execution_count": 12,
      "outputs": [
        {
          "output_type": "execute_result",
          "data": {
            "text/plain": [
              "{'icd10cm': ['M89.50', 'I288', 'H16269'],\n",
              " 'snomed': ['733187009', '449433008', '51264003']}"
            ]
          },
          "metadata": {},
          "execution_count": 12
        }
      ]
    },
    {
      "cell_type": "markdown",
      "metadata": {
        "id": "WJ96Cz0g1JBq"
      },
      "source": [
        "|**ICD10CM** | **Details** | \n",
        "| ---------- | -----------:|\n",
        "| M89.50 |  Osteolysis, unspecified site |\n",
        "| I288 | Other diseases of pulmonary vessels |\n",
        "| H16269 | Vernal keratoconjunctivitis, with limbar and corneal involvement, unspecified eye |\n",
        "\n",
        "| **SNOMED** | **Details** |\n",
        "| ---------- | -----------:|\n",
        "| 733187009 | Osteolysis following surgical procedure on skeletal system |\n",
        "| 449433008 | Diffuse stenosis of left pulmonary artery |\n",
        "| 51264003 | Limbal AND/OR corneal involvement in vernal conjunctivitis |"
      ]
    },
    {
      "cell_type": "markdown",
      "metadata": {
        "id": "pexEzXUR1QVA"
      },
      "source": [
        "## 2. SNOMED to ICD10CM Code Mapping\n",
        "\n",
        "This pretrained pipeline maps SNOMED codes to ICD10CM codes without using any text data. You'll just feed a comma or white space delimited SNOMED codes and it will return the corresponding candidate ICD10CM codes as a list (multiple ICD10 codes for each Snomed code). For the time being, it supports 132K Snomed codes and 30K ICD10 codes and will be augmented & enriched in the next releases."
      ]
    },
    {
      "cell_type": "code",
      "metadata": {
        "colab": {
          "base_uri": "https://localhost:8080/"
        },
        "id": "PzmLZkEIf_io",
        "outputId": "7706af9b-21c1-4a12-bbf4-0ab33e7859c4"
      },
      "source": [
        "snomed_icd10_pipeline = PretrainedPipeline(\"snomed_icd10cm_mapping\",\"en\",\"clinical/models\")"
      ],
      "execution_count": 13,
      "outputs": [
        {
          "output_type": "stream",
          "name": "stdout",
          "text": [
            "snomed_icd10cm_mapping download started this may take some time.\n",
            "Approx size to download 1.8 MB\n",
            "[OK!]\n"
          ]
        }
      ]
    },
    {
      "cell_type": "code",
      "metadata": {
        "id": "3NwM9_KegkN4",
        "colab": {
          "base_uri": "https://localhost:8080/"
        },
        "outputId": "6cc551f5-d1d3-4c4d-df4e-5b804eda220c"
      },
      "source": [
        "snomed_icd10_pipeline.model.stages"
      ],
      "execution_count": 14,
      "outputs": [
        {
          "output_type": "execute_result",
          "data": {
            "text/plain": [
              "[DocumentAssembler_136f968cb1ef,\n",
              " REGEX_TOKENIZER_ecc8d3a8dbc9,\n",
              " LEMMATIZER_e9ae88d69d05,\n",
              " Finisher_790dd28aacd1]"
            ]
          },
          "metadata": {},
          "execution_count": 14
        }
      ]
    },
    {
      "cell_type": "code",
      "metadata": {
        "colab": {
          "base_uri": "https://localhost:8080/"
        },
        "id": "8eIIYB56kCVI",
        "outputId": "30d5ea98-982a-48d1-b508-f2f9b9d2f8b3"
      },
      "source": [
        "snomed_icd10_pipeline.annotate('733187009 449433008 51264003')"
      ],
      "execution_count": 16,
      "outputs": [
        {
          "output_type": "execute_result",
          "data": {
            "text/plain": [
              "{'icd10cm': ['M89.59, M89.50, M96.89',\n",
              "  'Q25.6, I28.8',\n",
              "  'H10.45, H10.1, H16.269'],\n",
              " 'snomed': ['733187009', '449433008', '51264003']}"
            ]
          },
          "metadata": {},
          "execution_count": 16
        }
      ]
    },
    {
      "cell_type": "markdown",
      "metadata": {
        "id": "NRCHks681oDa"
      },
      "source": [
        "| **SNOMED** | **Details** |\n",
        "| ------ | ------:|\n",
        "| 733187009| Osteolysis following surgical procedure on skeletal system |\n",
        "| 449433008 | Diffuse stenosis of left pulmonary artery |\n",
        "| 51264003 | Limbal AND/OR corneal involvement in vernal conjunctivitis|\n",
        "\n",
        "| **ICDM10CM** | **Details** |  \n",
        "| ---------- | ---------:|\n",
        "| M89.59 | Osteolysis, multiple sites |  \n",
        "| M89.50 | Osteolysis, unspecified site |\n",
        "| M96.89 | Other intraoperative and postprocedural complications and disorders of the musculoskeletal system | \n",
        "| Q25.6 | Stenosis of pulmonary artery |    \n",
        "| I28.8 | Other diseases of pulmonary vessels |\n",
        "| H10.45 | Other chronic allergic conjunctivitis |\n",
        "| H10.1 | Acute atopic conjunctivitis | \n",
        "| H16.269 | Vernal keratoconjunctivitis, with limbar and corneal involvement, unspecified eye |"
      ]
    },
    {
      "cell_type": "markdown",
      "metadata": {
        "id": "v7ObC0PY2Lyl"
      },
      "source": [
        "## 3. ICD10CM to UMLS Code Mapping\n",
        "\n",
        "This pretrained pipeline maps ICD10CM codes to UMLS codes without using any text data. You’ll just feed white space delimited ICD10CM codes and it will return the corresponding UMLS codes as a list. If there is no mapping, the original code is returned with no mapping."
      ]
    },
    {
      "cell_type": "code",
      "metadata": {
        "colab": {
          "base_uri": "https://localhost:8080/"
        },
        "id": "59P47ew52dJb",
        "outputId": "98580fc7-2fd7-48ba-f462-dd5211c2d4eb"
      },
      "source": [
        "icd10_umls_pipeline = PretrainedPipeline( \"icd10cm_umls_mapping\",\"en\",\"clinical/models\")"
      ],
      "execution_count": 17,
      "outputs": [
        {
          "output_type": "stream",
          "name": "stdout",
          "text": [
            "icd10cm_umls_mapping download started this may take some time.\n",
            "Approx size to download 897.8 KB\n",
            "[OK!]\n"
          ]
        }
      ]
    },
    {
      "cell_type": "code",
      "metadata": {
        "colab": {
          "base_uri": "https://localhost:8080/"
        },
        "id": "lsTRf6L84lS9",
        "outputId": "c8a6f97f-28d3-4f0a-fcd5-40feaf23d454"
      },
      "source": [
        "icd10_umls_pipeline.model.stages"
      ],
      "execution_count": 18,
      "outputs": [
        {
          "output_type": "execute_result",
          "data": {
            "text/plain": [
              "[DocumentAssembler_321db079dcc3,\n",
              " REGEX_TOKENIZER_cfa82a0b8d92,\n",
              " LEMMATIZER_da9a62c0c58e,\n",
              " Finisher_cd27b2ac8b2c]"
            ]
          },
          "metadata": {},
          "execution_count": 18
        }
      ]
    },
    {
      "cell_type": "code",
      "metadata": {
        "colab": {
          "base_uri": "https://localhost:8080/"
        },
        "id": "7zewPsIh159o",
        "outputId": "37a6ae05-bfe3-4c55-f505-6ce7f10bc4bf"
      },
      "source": [
        "icd10_umls_pipeline.annotate(\"M89.50 R82.2 R09.01\")"
      ],
      "execution_count": 19,
      "outputs": [
        {
          "output_type": "execute_result",
          "data": {
            "text/plain": [
              "{'icd10cm': ['M89.50', 'R82.2', 'R09.01'],\n",
              " 'umls': ['C4721411', 'C0159076', 'C0004044']}"
            ]
          },
          "metadata": {},
          "execution_count": 19
        }
      ]
    },
    {
      "cell_type": "markdown",
      "metadata": {
        "id": "1vWoupDw_4sV"
      },
      "source": [
        "|**ICD10CM** | **Details** | \n",
        "| ---------- | -----------:|\n",
        "| M89.50 |  Osteolysis, unspecified site |\n",
        "| R82.2 | Biliuria |\n",
        "| R09.01 | Asphyxia |\n",
        "\n",
        "| **UMLS** | **Details** |\n",
        "| ---------- | -----------:|\n",
        "| C4721411 | osteolysis |\n",
        "| C0159076 | Biliuria |\n",
        "| C0004044 | Asphyxia |"
      ]
    },
    {
      "cell_type": "markdown",
      "metadata": {
        "id": "peoHROwU3s4h"
      },
      "source": [
        "## 4. SNOMED to UMLS Code Mapping\n",
        "\n",
        "This pretrained pipeline maps SNOMED codes to UMLS codes without using any text data. You’ll just feed white space delimited SNOMED codes and it will return the corresponding UMLS codes as a list. If there is no mapping, the original code is returned with no mapping."
      ]
    },
    {
      "cell_type": "code",
      "metadata": {
        "colab": {
          "base_uri": "https://localhost:8080/"
        },
        "id": "52QHba1LhNKT",
        "outputId": "51bed440-808d-468c-83b6-991adf3e61d6"
      },
      "source": [
        "snomed_umls_pipeline = PretrainedPipeline( \"snomed_umls_mapping\",\"en\",\"clinical/models\")"
      ],
      "execution_count": 20,
      "outputs": [
        {
          "output_type": "stream",
          "name": "stdout",
          "text": [
            "snomed_umls_mapping download started this may take some time.\n",
            "Approx size to download 4.6 MB\n",
            "[OK!]\n"
          ]
        }
      ]
    },
    {
      "cell_type": "code",
      "metadata": {
        "colab": {
          "base_uri": "https://localhost:8080/"
        },
        "id": "B0mO9gfE4qG4",
        "outputId": "db434b3b-0da0-452b-938a-a688d63458cb"
      },
      "source": [
        "snomed_umls_pipeline.model.stages"
      ],
      "execution_count": 21,
      "outputs": [
        {
          "output_type": "execute_result",
          "data": {
            "text/plain": [
              "[DocumentAssembler_b2ae33f2655e,\n",
              " REGEX_TOKENIZER_d517b2cf8024,\n",
              " LEMMATIZER_42d9736d37e4,\n",
              " Finisher_a8f2c3917be5]"
            ]
          },
          "metadata": {},
          "execution_count": 21
        }
      ]
    },
    {
      "cell_type": "code",
      "metadata": {
        "colab": {
          "base_uri": "https://localhost:8080/"
        },
        "id": "_ZSNj4-6hUb9",
        "outputId": "f42ec8d9-d9c4-45cc-eace-f7fab1eaa173"
      },
      "source": [
        "snomed_umls_pipeline.annotate('733187009 449433008 51264003')"
      ],
      "execution_count": 22,
      "outputs": [
        {
          "output_type": "execute_result",
          "data": {
            "text/plain": [
              "{'snomed': ['733187009', '449433008', '51264003'],\n",
              " 'umls': ['C4546029', 'C3164619', 'C0271267']}"
            ]
          },
          "metadata": {},
          "execution_count": 22
        }
      ]
    },
    {
      "cell_type": "markdown",
      "metadata": {
        "id": "e5qYdIEv4JPL"
      },
      "source": [
        "|**SNOMED** | **Details** | \n",
        "| ---------- | -----------:|\n",
        "| 733187009 | osteolysis following surgical procedure on skeletal system |\n",
        "| 449433008 | Diffuse stenosis of left pulmonary artery |\n",
        "| 51264003 | Limbal AND/OR corneal involvement in vernal conjunctivitis |\n",
        "\n",
        "| **UMLS** | **Details** |\n",
        "| ---------- | -----------:|\n",
        "| C4546029 | osteolysis following surgical procedure on skeletal system |\n",
        "| C3164619 | diffuse stenosis of left pulmonary artery |\n",
        "| C0271267 | limbal and/or corneal involvement in vernal conjunctivitis |"
      ]
    },
    {
      "cell_type": "markdown",
      "metadata": {
        "id": "7HN0u38B4OkU"
      },
      "source": [
        "## 5. RXNORM to UMLS Code Mapping\n",
        "\n",
        "This pretrained pipeline maps RxNorm codes to UMLS codes without using any text data. You’ll just feed white space-delimited RxNorm codes and it will return the corresponding UMLS codes as a list. If there is no mapping, the original code is returned with no mapping."
      ]
    },
    {
      "cell_type": "code",
      "metadata": {
        "colab": {
          "base_uri": "https://localhost:8080/"
        },
        "id": "m2qkwxXijweG",
        "outputId": "5d2220b8-22a0-41a5-b853-b52d11263029"
      },
      "source": [
        "rxnorm_umls_pipeline = PretrainedPipeline( \"rxnorm_umls_mapping\",\"en\",\"clinical/models\")"
      ],
      "execution_count": 23,
      "outputs": [
        {
          "output_type": "stream",
          "name": "stdout",
          "text": [
            "rxnorm_umls_mapping download started this may take some time.\n",
            "Approx size to download 1.8 MB\n",
            "[OK!]\n"
          ]
        }
      ]
    },
    {
      "cell_type": "code",
      "metadata": {
        "colab": {
          "base_uri": "https://localhost:8080/"
        },
        "id": "ExcCU2id4vK1",
        "outputId": "5fe84537-c1f2-441b-afec-95174e9ad4c5"
      },
      "source": [
        "rxnorm_umls_pipeline.model.stages"
      ],
      "execution_count": 24,
      "outputs": [
        {
          "output_type": "execute_result",
          "data": {
            "text/plain": [
              "[DocumentAssembler_8a4aba7aa2d6,\n",
              " REGEX_TOKENIZER_be27abc336fd,\n",
              " LEMMATIZER_93482244f96b,\n",
              " Finisher_9440fd80a5d9]"
            ]
          },
          "metadata": {},
          "execution_count": 24
        }
      ]
    },
    {
      "cell_type": "code",
      "metadata": {
        "colab": {
          "base_uri": "https://localhost:8080/"
        },
        "id": "4VHq1Wijj4kC",
        "outputId": "ed2e9b4a-ded5-45cd-c683-4765f5f6ee68"
      },
      "source": [
        "rxnorm_umls_pipeline.annotate(\"1161611 315677 343663\")"
      ],
      "execution_count": 25,
      "outputs": [
        {
          "output_type": "execute_result",
          "data": {
            "text/plain": [
              "{'rxnorm': ['1161611', '315677', '343663'],\n",
              " 'umls': ['C3215948', 'C0984912', 'C1146501']}"
            ]
          },
          "metadata": {},
          "execution_count": 25
        }
      ]
    },
    {
      "cell_type": "markdown",
      "metadata": {
        "id": "3dr-PkwU5XT7"
      },
      "source": [
        "|**RxNorm** | **Details** | \n",
        "| ---------- | -----------:|\n",
        "| 1161611 |  metformin Pill |\n",
        "| 315677 | cimetidine 100 mg |\n",
        "| 343663 | insulin lispro 50 UNT/ML |\n",
        "\n",
        "| **UMLS** | **Details** |\n",
        "| ---------- | -----------:|\n",
        "| C3215948 | metformin pill |\n",
        "| C0984912 | cimetidine 100 mg |\n",
        "| C1146501 | insulin lispro 50 unt/ml |"
      ]
    },
    {
      "cell_type": "markdown",
      "metadata": {
        "id": "FCfxbiR04iER"
      },
      "source": [
        "## 6. MESH to UMLS Code Mapping\n",
        "\n",
        "This pretrained pipeline maps MeSH codes to UMLS codes without using any text data. You’ll just feed white space delimited MeSH codes and it will return the corresponding UMLS codes as a list. If there is no mapping, the original code is returned with no mapping."
      ]
    },
    {
      "cell_type": "code",
      "metadata": {
        "colab": {
          "base_uri": "https://localhost:8080/"
        },
        "id": "PQT8VgD9mQ04",
        "outputId": "e5f00a94-9694-40c9-9824-1039e06cae5d"
      },
      "source": [
        "mesh_umls_pipeline = PretrainedPipeline( \"mesh_umls_mapping\",\"en\",\"clinical/models\")"
      ],
      "execution_count": 26,
      "outputs": [
        {
          "output_type": "stream",
          "name": "stdout",
          "text": [
            "mesh_umls_mapping download started this may take some time.\n",
            "Approx size to download 2.6 MB\n",
            "[OK!]\n"
          ]
        }
      ]
    },
    {
      "cell_type": "code",
      "metadata": {
        "colab": {
          "base_uri": "https://localhost:8080/"
        },
        "id": "BM2nR5_G5pYp",
        "outputId": "4b921f92-56b4-428e-cc2a-207fbfb383d0"
      },
      "source": [
        "mesh_umls_pipeline.model.stages"
      ],
      "execution_count": 27,
      "outputs": [
        {
          "output_type": "execute_result",
          "data": {
            "text/plain": [
              "[DocumentAssembler_0ebc1b554d55,\n",
              " REGEX_TOKENIZER_912f3f1caa74,\n",
              " LEMMATIZER_971946054af9,\n",
              " Finisher_0119071594da]"
            ]
          },
          "metadata": {},
          "execution_count": 27
        }
      ]
    },
    {
      "cell_type": "code",
      "metadata": {
        "colab": {
          "base_uri": "https://localhost:8080/"
        },
        "id": "lAgVLp0AmZb1",
        "outputId": "f5e1aedd-2c14-460c-cd6e-f49cd97add21"
      },
      "source": [
        "mesh_umls_pipeline.annotate(\"C028491 D019326 C579867\")"
      ],
      "execution_count": 28,
      "outputs": [
        {
          "output_type": "execute_result",
          "data": {
            "text/plain": [
              "{'mesh': ['C028491', 'D019326', 'C579867'],\n",
              " 'umls': ['C0970275', 'C0886627', 'C3696376']}"
            ]
          },
          "metadata": {},
          "execution_count": 28
        }
      ]
    },
    {
      "cell_type": "markdown",
      "metadata": {
        "id": "lcoTDMcI5wmz"
      },
      "source": [
        "|**MeSH** | **Details** | \n",
        "| ---------- | -----------:|\n",
        "| C028491 |  1,3-butylene glycol |\n",
        "| D019326 | 17-alpha-Hydroxyprogesterone |\n",
        "| C579867 | 3-Methylglutaconic Aciduria |\n",
        "\n",
        "| **UMLS** | **Details** |\n",
        "| ---------- | -----------:|\n",
        "| C0970275 | 1,3-butylene glycol |\n",
        "| C0886627 | 17-hydroxyprogesterone |\n",
        "| C3696376 | 3-methylglutaconic aciduria |"
      ]
    },
    {
      "cell_type": "markdown",
      "metadata": {
        "id": "POZtAyb650FP"
      },
      "source": [
        "## 7. RXNORM to MESH Code Mapping\n",
        "\n",
        "This pretrained pipeline maps RxNorm codes to MeSH codes without using any text data. You’ll just feed white space-delimited RxNorm codes and it will return the corresponding MeSH codes as a list. If there is no mapping, the original code is returned with no mapping."
      ]
    },
    {
      "cell_type": "code",
      "metadata": {
        "colab": {
          "base_uri": "https://localhost:8080/"
        },
        "id": "iN5cwIg-wj4q",
        "outputId": "887c7a22-7ff0-40eb-abee-85b9a27f5f61"
      },
      "source": [
        "rxnorm_mesh_pipeline = PretrainedPipeline( \"rxnorm_mesh_mapping\",\"en\",\"clinical/models\")"
      ],
      "execution_count": 29,
      "outputs": [
        {
          "output_type": "stream",
          "name": "stdout",
          "text": [
            "rxnorm_mesh_mapping download started this may take some time.\n",
            "Approx size to download 101.2 KB\n",
            "[OK!]\n"
          ]
        }
      ]
    },
    {
      "cell_type": "code",
      "metadata": {
        "colab": {
          "base_uri": "https://localhost:8080/"
        },
        "id": "E1q_o0ql6J82",
        "outputId": "6f1039ce-387c-4962-c6dd-74ab9f7aefc2"
      },
      "source": [
        "rxnorm_mesh_pipeline.model.stages"
      ],
      "execution_count": 30,
      "outputs": [
        {
          "output_type": "execute_result",
          "data": {
            "text/plain": [
              "[DocumentAssembler_d554433bf767,\n",
              " REGEX_TOKENIZER_91752b58618c,\n",
              " LEMMATIZER_568c2c2ed9f2,\n",
              " Finisher_9aef0b33bc5c]"
            ]
          },
          "metadata": {},
          "execution_count": 30
        }
      ]
    },
    {
      "cell_type": "code",
      "metadata": {
        "colab": {
          "base_uri": "https://localhost:8080/"
        },
        "id": "XQQyZ_NUwjLo",
        "outputId": "eee59d43-cb80-448a-ae5b-d55ad36ec1a7"
      },
      "source": [
        "rxnorm_mesh_pipeline.annotate(\"1191 6809 47613\")"
      ],
      "execution_count": 31,
      "outputs": [
        {
          "output_type": "execute_result",
          "data": {
            "text/plain": [
              "{'mesh': ['D001241', 'D008687', 'D019355'],\n",
              " 'rxnorm': ['1191', '6809', '47613']}"
            ]
          },
          "metadata": {},
          "execution_count": 31
        }
      ]
    },
    {
      "cell_type": "markdown",
      "metadata": {
        "id": "Ub7QLdr46OkO"
      },
      "source": [
        "|**RxNorm** | **Details** | \n",
        "| ---------- | -----------:|\n",
        "| 1191 |  aspirin |\n",
        "| 6809 | metformin |\n",
        "| 47613 | calcium citrate |\n",
        "\n",
        "| **MeSH** | **Details** |\n",
        "| ---------- | -----------:|\n",
        "| D001241 | Aspirin |\n",
        "| D008687 | Metformin |\n",
        "| D019355 | Calcium Citrate |"
      ]
    },
    {
      "cell_type": "markdown",
      "source": [
        "## 8. ICD10 to ICD9 Code Mapping\n",
        "This pretrained pipeline maps ICD10 codes to ICD9 codes without using any text data. You’ll just feed a comma or white space delimited ICD10 codes and it will return the corresponding ICD9 codes as a list. If there is no mapping, the original code is returned with no mapping."
      ],
      "metadata": {
        "id": "0qnaH9P0O9M8"
      }
    },
    {
      "cell_type": "code",
      "source": [
        "icd10_icd9_pipeline = PretrainedPipeline(\"icd10_icd9_mapping\", \"en\", \"clinical/models\")"
      ],
      "metadata": {
        "colab": {
          "base_uri": "https://localhost:8080/"
        },
        "id": "n8df9LSlPHsR",
        "outputId": "60f65cb0-fcf0-41c7-a198-05ae682f02c2"
      },
      "execution_count": 5,
      "outputs": [
        {
          "output_type": "stream",
          "name": "stdout",
          "text": [
            "icd10_icd9_mapping download started this may take some time.\n",
            "Approx size to download 532.4 KB\n",
            "[OK!]\n"
          ]
        }
      ]
    },
    {
      "cell_type": "code",
      "source": [
        "icd10_icd9_pipeline.model.stages"
      ],
      "metadata": {
        "colab": {
          "base_uri": "https://localhost:8080/"
        },
        "id": "7e_ZsK9NPHpq",
        "outputId": "079fef5a-1e9b-48a2-e09d-0b7efeb4b81f"
      },
      "execution_count": 7,
      "outputs": [
        {
          "output_type": "execute_result",
          "data": {
            "text/plain": [
              "[DocumentAssembler_265dc6aa8dc9,\n",
              " REGEX_TOKENIZER_3d5ede109841,\n",
              " LEMMATIZER_a00a49534768]"
            ]
          },
          "metadata": {},
          "execution_count": 7
        }
      ]
    },
    {
      "cell_type": "code",
      "source": [
        "icd10_icd9_pipeline.annotate('E669 R630 J988')"
      ],
      "metadata": {
        "colab": {
          "base_uri": "https://localhost:8080/"
        },
        "id": "iyBujBonPtoI",
        "outputId": "cf3330ae-d733-4045-aeb4-840c3a8347cf"
      },
      "execution_count": 9,
      "outputs": [
        {
          "output_type": "execute_result",
          "data": {
            "text/plain": [
              "{'document': ['E669 R630 J988'],\n",
              " 'icd10': ['E669', 'R630', 'J988'],\n",
              " 'icd9': ['27800', '7830', '5198']}"
            ]
          },
          "metadata": {},
          "execution_count": 9
        }
      ]
    },
    {
      "cell_type": "markdown",
      "source": [
        "| ICD10 | Details |\n",
        "| ---------- | ----------------------------:|\n",
        "| E669 | Obesity |\n",
        "| R630 | Anorexia |\n",
        "| J988 | Other specified respiratory disorders |\n",
        "\n",
        "\n",
        "\n",
        "| ICD9 | Details |\n",
        "| ---------- | ---------------------------:|\n",
        "| 27800 | Obesity |\n",
        "| 7830 | Anorexia |\n",
        "| 5198 | Other diseases of respiratory system |"
      ],
      "metadata": {
        "id": "sOTc_bMzPouX"
      }
    }
  ]
}
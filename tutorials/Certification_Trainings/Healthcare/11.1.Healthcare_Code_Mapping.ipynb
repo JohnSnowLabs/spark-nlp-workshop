{
  "nbformat": 4,
  "nbformat_minor": 0,
  "metadata": {
    "colab": {
      "name": "11.1.Healthcare_Code_Mapping.ipynb",
      "provenance": [],
      "collapsed_sections": []
    },
    "kernelspec": {
      "name": "python3",
      "display_name": "Python 3"
    },
    "language_info": {
      "name": "python"
    }
  },
  "cells": [
    {
      "cell_type": "markdown",
      "metadata": {
        "id": "glAlwoLd9II2"
      },
      "source": [
        "![JohnSnowLabs](https://nlp.johnsnowlabs.com/assets/images/logo.png)\n",
        "\n",
        "[![Open In Colab](https://colab.research.google.com/assets/colab-badge.svg)](https://colab.research.google.com/github/JohnSnowLabs/spark-nlp-workshop/blob/master/tutorials/Certification_Trainings/Healthcare/11.1.Healthcare_Code_Mapping.ipynb)"
      ]
    },
    {
      "cell_type": "code",
      "metadata": {
        "id": "WRYEtvxvJfsF"
      },
      "source": [
        "import json\n",
        "\n",
        "from google.colab import files\n",
        "\n",
        "license_keys = files.upload()\n",
        "\n",
        "with open(list(license_keys.keys())[0]) as f:\n",
        "    license_keys = json.load(f)\n",
        "\n",
        "# Defining license key-value pairs as local variables\n",
        "locals().update(license_keys)\n",
        "\n",
        "# Adding license key-value pairs to environment variables\n",
        "import os\n",
        "os.environ.update(license_keys)"
      ],
      "execution_count": null,
      "outputs": []
    },
    {
      "cell_type": "code",
      "metadata": {
        "id": "10nvJUXOJkl_"
      },
      "source": [
        "# Installing pyspark and spark-nlp\n",
        "! pip install --upgrade -q pyspark==3.1.2 spark-nlp==$PUBLIC_VERSION\n",
        "\n",
        "# Installing Spark NLP Healthcare\n",
        "! pip install --upgrade -q spark-nlp-jsl==$JSL_VERSION  --extra-index-url https://pypi.johnsnowlabs.com/$SECRET"
      ],
      "execution_count": null,
      "outputs": []
    },
    {
      "cell_type": "code",
      "metadata": {
        "colab": {
          "base_uri": "https://localhost:8080/"
        },
        "id": "D1HmpcpoJo3E",
        "outputId": "55835851-fd0a-4e56-af5e-cd87433f744d"
      },
      "source": [
        "import json\n",
        "import os\n",
        "import sparknlp_jsl\n",
        "import sparknlp\n",
        "from pyspark.ml import Pipeline, PipelineModel\n",
        "from sparknlp.pretrained import PretrainedPipeline\n",
        "from pyspark.sql import SparkSession\n",
        "from sparknlp.base import *\n",
        "from sparknlp.annotator import *\n",
        "from sparknlp.util import *\n",
        "from sparknlp_jsl.annotator import *\n",
        "\n",
        "params = {\"spark.driver.memory\":\"16G\",\n",
        "\"spark.kryoserializer.buffer.max\":\"2000M\",\n",
        "\"spark.driver.maxResultSize\":\"2000M\"}\n",
        "\n",
        "spark = sparknlp_jsl.start(license_keys['SECRET'],params=params)\n",
        "\n",
        "print (sparknlp.version())\n",
        "print (sparknlp_jsl.version())"
      ],
      "execution_count": null,
      "outputs": [
        {
          "output_type": "stream",
          "name": "stdout",
          "text": [
            "3.3.0\n",
            "3.3.0\n"
          ]
        }
      ]
    },
    {
      "cell_type": "markdown",
      "metadata": {
        "id": "Fl-qaRiCFB5p"
      },
      "source": [
        "# HEALTHCARE CODES MAPPING BY USING PRETRAINED PIPELINES"
      ]
    },
    {
      "cell_type": "code",
      "metadata": {
        "id": "tNtGenvc2iIT"
      },
      "source": [
        "from sparknlp.pretrained import PretrainedPipeline"
      ],
      "execution_count": null,
      "outputs": []
    },
    {
      "cell_type": "markdown",
      "metadata": {
        "id": "DT_zgN35kCy2"
      },
      "source": [
        "## 1. ICD10CM to SNOMED Code Mapping\n",
        "\n",
        "This pretrained pipeline maps ICD10CM codes to SNOMED codes without using any text data. You’ll just feed a comma or white space delimited ICD10CM codes and it will return the corresponding SNOMED codes as a list. For the time being, it supports 132K Snomed codes and will be augmented & enriched in the next releases."
      ]
    },
    {
      "cell_type": "code",
      "metadata": {
        "id": "AU090GkuF5G_",
        "colab": {
          "base_uri": "https://localhost:8080/"
        },
        "outputId": "45fbee89-9bb6-4605-f921-740695b1bd7b"
      },
      "source": [
        "icd10_snomed_pipeline = PretrainedPipeline(\"icd10cm_snomed_mapping\", \"en\", \"clinical/models\")"
      ],
      "execution_count": null,
      "outputs": [
        {
          "output_type": "stream",
          "name": "stdout",
          "text": [
            "icd10cm_snomed_mapping download started this may take some time.\n",
            "Approx size to download 514.5 KB\n",
            "[OK!]\n"
          ]
        }
      ]
    },
    {
      "cell_type": "code",
      "metadata": {
        "colab": {
          "base_uri": "https://localhost:8080/"
        },
        "id": "N5ei7EUX1D79",
        "outputId": "891b3972-874c-446b-a0c0-d34fe787ce82"
      },
      "source": [
        "icd10_snomed_pipeline.model.stages"
      ],
      "execution_count": null,
      "outputs": [
        {
          "output_type": "execute_result",
          "data": {
            "text/plain": [
              "[DocumentAssembler_effe917bc86b,\n",
              " REGEX_TOKENIZER_a2e7a20a20d4,\n",
              " LEMMATIZER_0ca0f7005a90,\n",
              " Finisher_07470acb09e3]"
            ]
          },
          "metadata": {},
          "execution_count": 6
        }
      ]
    },
    {
      "cell_type": "code",
      "metadata": {
        "colab": {
          "base_uri": "https://localhost:8080/"
        },
        "id": "tgF3D4Eu1GvT",
        "outputId": "5a84072b-bc5e-4b6b-d111-513006eab122"
      },
      "source": [
        "icd10_snomed_pipeline.annotate('M89.50 I288 H16269')"
      ],
      "execution_count": null,
      "outputs": [
        {
          "output_type": "execute_result",
          "data": {
            "text/plain": [
              "{'icd10cm': ['M89.50', 'I288', 'H16269'],\n",
              " 'snomed': ['733187009', '449433008', '51264003']}"
            ]
          },
          "metadata": {},
          "execution_count": 7
        }
      ]
    },
    {
      "cell_type": "markdown",
      "metadata": {
        "id": "WJ96Cz0g1JBq"
      },
      "source": [
        "|**ICD10CM** | **Details** | \n",
        "| ---------- | -----------:|\n",
        "| M89.50 |  Osteolysis, unspecified site |\n",
        "| I288 | Other diseases of pulmonary vessels |\n",
        "| H16269 | Vernal keratoconjunctivitis, with limbar and corneal involvement, unspecified eye |\n",
        "\n",
        "| **SNOMED** | **Details** |\n",
        "| ---------- | -----------:|\n",
        "| 733187009 | Osteolysis following surgical procedure on skeletal system |\n",
        "| 449433008 | Diffuse stenosis of left pulmonary artery |\n",
        "| 51264003 | Limbal AND/OR corneal involvement in vernal conjunctivitis |"
      ]
    },
    {
      "cell_type": "markdown",
      "metadata": {
        "id": "pexEzXUR1QVA"
      },
      "source": [
        "## 2. SNOMED to ICD10CM Code Mapping\n",
        "\n",
        "This pretrained pipeline maps SNOMED codes to ICD10CM codes without using any text data. You'll just feed a comma or white space delimited SNOMED codes and it will return the corresponding candidate ICD10CM codes as a list (multiple ICD10 codes for each Snomed code). For the time being, it supports 132K Snomed codes and 30K ICD10 codes and will be augmented & enriched in the next releases."
      ]
    },
    {
      "cell_type": "code",
      "metadata": {
        "colab": {
          "base_uri": "https://localhost:8080/"
        },
        "id": "PzmLZkEIf_io",
        "outputId": "e45b385a-d2f1-4e90-82b4-97725b367ccd"
      },
      "source": [
        "snomed_icd10_pipeline = PretrainedPipeline(\"snomed_icd10cm_mapping\",\"en\",\"clinical/models\")"
      ],
      "execution_count": null,
      "outputs": [
        {
          "output_type": "stream",
          "name": "stdout",
          "text": [
            "snomed_icd10cm_mapping download started this may take some time.\n",
            "Approx size to download 1.8 MB\n",
            "[OK!]\n"
          ]
        }
      ]
    },
    {
      "cell_type": "code",
      "metadata": {
        "id": "3NwM9_KegkN4",
        "colab": {
          "base_uri": "https://localhost:8080/"
        },
        "outputId": "9bf51cd0-3d0c-4918-b1de-926a59a95780"
      },
      "source": [
        "snomed_icd10_pipeline.model.stages"
      ],
      "execution_count": null,
      "outputs": [
        {
          "output_type": "execute_result",
          "data": {
            "text/plain": [
              "[DocumentAssembler_136f968cb1ef,\n",
              " REGEX_TOKENIZER_ecc8d3a8dbc9,\n",
              " LEMMATIZER_e9ae88d69d05,\n",
              " Finisher_790dd28aacd1]"
            ]
          },
          "metadata": {},
          "execution_count": 9
        }
      ]
    },
    {
      "cell_type": "code",
      "metadata": {
        "colab": {
          "base_uri": "https://localhost:8080/"
        },
        "id": "8eIIYB56kCVI",
        "outputId": "cae5aadf-8615-494e-ee60-531074f3f667"
      },
      "source": [
        "snomed_icd10_pipeline.annotate('733187009 449433008 51264003')"
      ],
      "execution_count": null,
      "outputs": [
        {
          "output_type": "execute_result",
          "data": {
            "text/plain": [
              "{'icd10cm': ['M89.59, M89.50, M96.89',\n",
              "  'Q25.6, I28.8',\n",
              "  'H10.45, H10.1, H16.269'],\n",
              " 'snomed': ['733187009', '449433008', '51264003']}"
            ]
          },
          "metadata": {},
          "execution_count": 10
        }
      ]
    },
    {
      "cell_type": "markdown",
      "metadata": {
        "id": "NRCHks681oDa"
      },
      "source": [
        "| **SNOMED** | **Details** |\n",
        "| ------ | ------:|\n",
        "| 733187009| Osteolysis following surgical procedure on skeletal system |\n",
        "| 449433008 | Diffuse stenosis of left pulmonary artery |\n",
        "| 51264003 | Limbal AND/OR corneal involvement in vernal conjunctivitis|\n",
        "\n",
        "| **ICDM10CM** | **Details** |  \n",
        "| ---------- | ---------:|\n",
        "| M89.59 | Osteolysis, multiple sites |  \n",
        "| M89.50 | Osteolysis, unspecified site |\n",
        "| M96.89 | Other intraoperative and postprocedural complications and disorders of the musculoskeletal system | \n",
        "| Q25.6 | Stenosis of pulmonary artery |    \n",
        "| I28.8 | Other diseases of pulmonary vessels |\n",
        "| H10.45 | Other chronic allergic conjunctivitis |\n",
        "| H10.1 | Acute atopic conjunctivitis | \n",
        "| H16.269 | Vernal keratoconjunctivitis, with limbar and corneal involvement, unspecified eye |"
      ]
    },
    {
      "cell_type": "markdown",
      "metadata": {
        "id": "v7ObC0PY2Lyl"
      },
      "source": [
        "## 3. ICD10CM to UMLS Code Mapping\n",
        "\n",
        "This pretrained pipeline maps ICD10CM codes to UMLS codes without using any text data. You’ll just feed white space delimited ICD10CM codes and it will return the corresponding UMLS codes as a list. If there is no mapping, the original code is returned with no mapping."
      ]
    },
    {
      "cell_type": "code",
      "metadata": {
        "colab": {
          "base_uri": "https://localhost:8080/"
        },
        "id": "59P47ew52dJb",
        "outputId": "f57adac5-211e-4854-a7e4-d20bf67e56bd"
      },
      "source": [
        "icd10_umls_pipeline = PretrainedPipeline( \"icd10cm_umls_mapping\",\"en\",\"clinical/models\")"
      ],
      "execution_count": null,
      "outputs": [
        {
          "output_type": "stream",
          "name": "stdout",
          "text": [
            "icd10cm_umls_mapping download started this may take some time.\n",
            "Approx size to download 897.8 KB\n",
            "[OK!]\n"
          ]
        }
      ]
    },
    {
      "cell_type": "code",
      "metadata": {
        "colab": {
          "base_uri": "https://localhost:8080/"
        },
        "id": "lsTRf6L84lS9",
        "outputId": "2776632e-ac9f-4f05-d359-1b07f03e3cf7"
      },
      "source": [
        "icd10_umls_pipeline.model.stages"
      ],
      "execution_count": null,
      "outputs": [
        {
          "output_type": "execute_result",
          "data": {
            "text/plain": [
              "[DocumentAssembler_321db079dcc3,\n",
              " REGEX_TOKENIZER_cfa82a0b8d92,\n",
              " LEMMATIZER_da9a62c0c58e,\n",
              " Finisher_cd27b2ac8b2c]"
            ]
          },
          "metadata": {},
          "execution_count": 12
        }
      ]
    },
    {
      "cell_type": "code",
      "metadata": {
        "colab": {
          "base_uri": "https://localhost:8080/"
        },
        "id": "7zewPsIh159o",
        "outputId": "c3683e6a-04a8-494a-81fa-fa2fd1f573d4"
      },
      "source": [
        "icd10_umls_pipeline.annotate(\"M89.50 R82.2 R09.01\")"
      ],
      "execution_count": null,
      "outputs": [
        {
          "output_type": "execute_result",
          "data": {
            "text/plain": [
              "{'icd10cm': ['M89.50', 'R82.2', 'R09.01'],\n",
              " 'umls': ['C4721411', 'C0159076', 'C0004044']}"
            ]
          },
          "metadata": {},
          "execution_count": 13
        }
      ]
    },
    {
      "cell_type": "markdown",
      "metadata": {
        "id": "1vWoupDw_4sV"
      },
      "source": [
        "|**ICD10CM** | **Details** | \n",
        "| ---------- | -----------:|\n",
        "| M89.50 |  Osteolysis, unspecified site |\n",
        "| R82.2 | Biliuria |\n",
        "| R09.01 | Asphyxia |\n",
        "\n",
        "| **UMLS** | **Details** |\n",
        "| ---------- | -----------:|\n",
        "| C4721411 | osteolysis |\n",
        "| C0159076 | Biliuria |\n",
        "| C0004044 | Asphyxia |"
      ]
    },
    {
      "cell_type": "markdown",
      "metadata": {
        "id": "peoHROwU3s4h"
      },
      "source": [
        "## 4. SNOMED to UMLS Code Mapping\n",
        "\n",
        "This pretrained pipeline maps SNOMED codes to UMLS codes without using any text data. You’ll just feed white space delimited SNOMED codes and it will return the corresponding UMLS codes as a list. If there is no mapping, the original code is returned with no mapping."
      ]
    },
    {
      "cell_type": "code",
      "metadata": {
        "colab": {
          "base_uri": "https://localhost:8080/"
        },
        "id": "52QHba1LhNKT",
        "outputId": "ef04ac12-85bd-4897-aade-553b31c5961c"
      },
      "source": [
        "snomed_umls_pipeline = PretrainedPipeline( \"snomed_umls_mapping\",\"en\",\"clinical/models\")"
      ],
      "execution_count": null,
      "outputs": [
        {
          "output_type": "stream",
          "name": "stdout",
          "text": [
            "snomed_umls_mapping download started this may take some time.\n",
            "Approx size to download 4.6 MB\n",
            "[OK!]\n"
          ]
        }
      ]
    },
    {
      "cell_type": "code",
      "metadata": {
        "colab": {
          "base_uri": "https://localhost:8080/"
        },
        "id": "B0mO9gfE4qG4",
        "outputId": "92f4e0b9-acc3-47a2-ca26-f8a67afd6079"
      },
      "source": [
        "snomed_umls_pipeline.model.stages"
      ],
      "execution_count": null,
      "outputs": [
        {
          "output_type": "execute_result",
          "data": {
            "text/plain": [
              "[DocumentAssembler_b2ae33f2655e,\n",
              " REGEX_TOKENIZER_d517b2cf8024,\n",
              " LEMMATIZER_42d9736d37e4,\n",
              " Finisher_a8f2c3917be5]"
            ]
          },
          "metadata": {},
          "execution_count": 15
        }
      ]
    },
    {
      "cell_type": "code",
      "metadata": {
        "colab": {
          "base_uri": "https://localhost:8080/"
        },
        "id": "_ZSNj4-6hUb9",
        "outputId": "cae61467-67d9-4ad6-e05a-6c91dcb92f21"
      },
      "source": [
        "snomed_umls_pipeline.annotate('733187009 449433008 51264003')"
      ],
      "execution_count": null,
      "outputs": [
        {
          "output_type": "execute_result",
          "data": {
            "text/plain": [
              "{'snomed': ['733187009', '449433008', '51264003'],\n",
              " 'umls': ['C4546029', 'C3164619', 'C0271267']}"
            ]
          },
          "metadata": {},
          "execution_count": 16
        }
      ]
    },
    {
      "cell_type": "markdown",
      "metadata": {
        "id": "e5qYdIEv4JPL"
      },
      "source": [
        "|**SNOMED** | **Details** | \n",
        "| ---------- | -----------:|\n",
        "| 733187009 | osteolysis following surgical procedure on skeletal system |\n",
        "| 449433008 | Diffuse stenosis of left pulmonary artery |\n",
        "| 51264003 | Limbal AND/OR corneal involvement in vernal conjunctivitis |\n",
        "\n",
        "| **UMLS** | **Details** |\n",
        "| ---------- | -----------:|\n",
        "| C4546029 | osteolysis following surgical procedure on skeletal system |\n",
        "| C3164619 | diffuse stenosis of left pulmonary artery |\n",
        "| C0271267 | limbal and/or corneal involvement in vernal conjunctivitis |"
      ]
    },
    {
      "cell_type": "markdown",
      "metadata": {
        "id": "7HN0u38B4OkU"
      },
      "source": [
        "## 5. RXNORM to UMLS Code Mapping\n",
        "\n",
        "This pretrained pipeline maps RxNorm codes to UMLS codes without using any text data. You’ll just feed white space-delimited RxNorm codes and it will return the corresponding UMLS codes as a list. If there is no mapping, the original code is returned with no mapping."
      ]
    },
    {
      "cell_type": "code",
      "metadata": {
        "colab": {
          "base_uri": "https://localhost:8080/"
        },
        "id": "m2qkwxXijweG",
        "outputId": "8e8d3d17-19b8-460b-94aa-b8767cd1ccfb"
      },
      "source": [
        "rxnorm_umls_pipeline = PretrainedPipeline( \"rxnorm_umls_mapping\",\"en\",\"clinical/models\")"
      ],
      "execution_count": null,
      "outputs": [
        {
          "output_type": "stream",
          "name": "stdout",
          "text": [
            "rxnorm_umls_mapping download started this may take some time.\n",
            "Approx size to download 1.8 MB\n",
            "[OK!]\n"
          ]
        }
      ]
    },
    {
      "cell_type": "code",
      "metadata": {
        "colab": {
          "base_uri": "https://localhost:8080/"
        },
        "id": "ExcCU2id4vK1",
        "outputId": "500d172f-2f64-4eb0-bcb5-70df9add3352"
      },
      "source": [
        "rxnorm_umls_pipeline.model.stages"
      ],
      "execution_count": null,
      "outputs": [
        {
          "output_type": "execute_result",
          "data": {
            "text/plain": [
              "[DocumentAssembler_8a4aba7aa2d6,\n",
              " REGEX_TOKENIZER_be27abc336fd,\n",
              " LEMMATIZER_93482244f96b,\n",
              " Finisher_9440fd80a5d9]"
            ]
          },
          "metadata": {},
          "execution_count": 18
        }
      ]
    },
    {
      "cell_type": "code",
      "metadata": {
        "colab": {
          "base_uri": "https://localhost:8080/"
        },
        "id": "4VHq1Wijj4kC",
        "outputId": "284c5d2d-76be-4281-a46b-9427bd18cd97"
      },
      "source": [
        "rxnorm_umls_pipeline.annotate(\"1161611 315677 343663\")"
      ],
      "execution_count": null,
      "outputs": [
        {
          "output_type": "execute_result",
          "data": {
            "text/plain": [
              "{'rxnorm': ['1161611', '315677', '343663'],\n",
              " 'umls': ['C3215948', 'C0984912', 'C1146501']}"
            ]
          },
          "metadata": {},
          "execution_count": 19
        }
      ]
    },
    {
      "cell_type": "markdown",
      "metadata": {
        "id": "3dr-PkwU5XT7"
      },
      "source": [
        "|**RxNorm** | **Details** | \n",
        "| ---------- | -----------:|\n",
        "| 1161611 |  metformin Pill |\n",
        "| 315677 | cimetidine 100 mg |\n",
        "| 343663 | insulin lispro 50 UNT/ML |\n",
        "\n",
        "| **UMLS** | **Details** |\n",
        "| ---------- | -----------:|\n",
        "| C3215948 | metformin pill |\n",
        "| C0984912 | cimetidine 100 mg |\n",
        "| C1146501 | insulin lispro 50 unt/ml |"
      ]
    },
    {
      "cell_type": "markdown",
      "metadata": {
        "id": "FCfxbiR04iER"
      },
      "source": [
        "## 6. MESH to UMLS Code Mapping\n",
        "\n",
        "This pretrained pipeline maps MeSH codes to UMLS codes without using any text data. You’ll just feed white space delimited MeSH codes and it will return the corresponding UMLS codes as a list. If there is no mapping, the original code is returned with no mapping."
      ]
    },
    {
      "cell_type": "code",
      "metadata": {
        "colab": {
          "base_uri": "https://localhost:8080/"
        },
        "id": "PQT8VgD9mQ04",
        "outputId": "2a0e13e7-8ba6-4844-af5f-55ef243bd6d5"
      },
      "source": [
        "mesh_umls_pipeline = PretrainedPipeline( \"mesh_umls_mapping\",\"en\",\"clinical/models\")"
      ],
      "execution_count": null,
      "outputs": [
        {
          "output_type": "stream",
          "name": "stdout",
          "text": [
            "mesh_umls_mapping download started this may take some time.\n",
            "Approx size to download 2.6 MB\n",
            "[OK!]\n"
          ]
        }
      ]
    },
    {
      "cell_type": "code",
      "metadata": {
        "colab": {
          "base_uri": "https://localhost:8080/"
        },
        "id": "BM2nR5_G5pYp",
        "outputId": "b5eb0c20-ed98-47c9-8cd9-29f776dccc64"
      },
      "source": [
        "mesh_umls_pipeline.model.stages"
      ],
      "execution_count": null,
      "outputs": [
        {
          "output_type": "execute_result",
          "data": {
            "text/plain": [
              "[DocumentAssembler_0ebc1b554d55,\n",
              " REGEX_TOKENIZER_912f3f1caa74,\n",
              " LEMMATIZER_971946054af9,\n",
              " Finisher_0119071594da]"
            ]
          },
          "metadata": {},
          "execution_count": 21
        }
      ]
    },
    {
      "cell_type": "code",
      "metadata": {
        "colab": {
          "base_uri": "https://localhost:8080/"
        },
        "id": "lAgVLp0AmZb1",
        "outputId": "e54f7366-560e-4412-ca40-eab4ac5ae71f"
      },
      "source": [
        "mesh_umls_pipeline.annotate(\"C028491 D019326 C579867\")"
      ],
      "execution_count": null,
      "outputs": [
        {
          "output_type": "execute_result",
          "data": {
            "text/plain": [
              "{'mesh': ['C028491', 'D019326', 'C579867'],\n",
              " 'umls': ['C0970275', 'C0886627', 'C3696376']}"
            ]
          },
          "metadata": {},
          "execution_count": 22
        }
      ]
    },
    {
      "cell_type": "markdown",
      "metadata": {
        "id": "lcoTDMcI5wmz"
      },
      "source": [
        "|**MeSH** | **Details** | \n",
        "| ---------- | -----------:|\n",
        "| C028491 |  1,3-butylene glycol |\n",
        "| D019326 | 17-alpha-Hydroxyprogesterone |\n",
        "| C579867 | 3-Methylglutaconic Aciduria |\n",
        "\n",
        "| **UMLS** | **Details** |\n",
        "| ---------- | -----------:|\n",
        "| C0970275 | 1,3-butylene glycol |\n",
        "| C0886627 | 17-hydroxyprogesterone |\n",
        "| C3696376 | 3-methylglutaconic aciduria |"
      ]
    },
    {
      "cell_type": "markdown",
      "metadata": {
        "id": "POZtAyb650FP"
      },
      "source": [
        "## 7. RXNORM to MESH Code Mapping\n",
        "\n",
        "This pretrained pipeline maps RxNorm codes to MeSH codes without using any text data. You’ll just feed white space-delimited RxNorm codes and it will return the corresponding MeSH codes as a list. If there is no mapping, the original code is returned with no mapping."
      ]
    },
    {
      "cell_type": "code",
      "metadata": {
        "colab": {
          "base_uri": "https://localhost:8080/"
        },
        "id": "iN5cwIg-wj4q",
        "outputId": "7497b7ac-d08c-4a11-946f-43baf326623d"
      },
      "source": [
        "rxnorm_mesh_pipeline = PretrainedPipeline( \"rxnorm_mesh_mapping\",\"en\",\"clinical/models\")"
      ],
      "execution_count": null,
      "outputs": [
        {
          "output_type": "stream",
          "name": "stdout",
          "text": [
            "rxnorm_mesh_mapping download started this may take some time.\n",
            "Approx size to download 101.2 KB\n",
            "[OK!]\n"
          ]
        }
      ]
    },
    {
      "cell_type": "code",
      "metadata": {
        "colab": {
          "base_uri": "https://localhost:8080/"
        },
        "id": "E1q_o0ql6J82",
        "outputId": "e4300279-2caf-4459-f353-262d12bc43f9"
      },
      "source": [
        "rxnorm_mesh_pipeline.model.stages"
      ],
      "execution_count": null,
      "outputs": [
        {
          "output_type": "execute_result",
          "data": {
            "text/plain": [
              "[DocumentAssembler_d554433bf767,\n",
              " REGEX_TOKENIZER_91752b58618c,\n",
              " LEMMATIZER_568c2c2ed9f2,\n",
              " Finisher_9aef0b33bc5c]"
            ]
          },
          "metadata": {},
          "execution_count": 24
        }
      ]
    },
    {
      "cell_type": "code",
      "metadata": {
        "colab": {
          "base_uri": "https://localhost:8080/"
        },
        "id": "XQQyZ_NUwjLo",
        "outputId": "4828c1b9-4e13-47a9-8fde-49b6972060b8"
      },
      "source": [
        "rxnorm_mesh_pipeline.annotate(\"1191 6809 47613\")"
      ],
      "execution_count": null,
      "outputs": [
        {
          "output_type": "execute_result",
          "data": {
            "text/plain": [
              "{'mesh': ['D001241', 'D008687', 'D019355'],\n",
              " 'rxnorm': ['1191', '6809', '47613']}"
            ]
          },
          "metadata": {},
          "execution_count": 25
        }
      ]
    },
    {
      "cell_type": "markdown",
      "metadata": {
        "id": "Ub7QLdr46OkO"
      },
      "source": [
        "|**RxNorm** | **Details** | \n",
        "| ---------- | -----------:|\n",
        "| 1191 |  aspirin |\n",
        "| 6809 | metformin |\n",
        "| 47613 | calcium citrate |\n",
        "\n",
        "| **MeSH** | **Details** |\n",
        "| ---------- | -----------:|\n",
        "| D001241 | Aspirin |\n",
        "| D008687 | Metformin |\n",
        "| D019355 | Calcium Citrate |"
      ]
    }
  ]
}
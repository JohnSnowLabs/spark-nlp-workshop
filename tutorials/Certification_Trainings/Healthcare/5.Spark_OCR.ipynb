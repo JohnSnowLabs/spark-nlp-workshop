{
 "cells": [
  {
   "attachments": {},
   "cell_type": "markdown",
   "metadata": {
    "id": "Niy3mZAjoayg"
   },
   "source": [
    "# Spark OCR "
   ]
  },
  {
   "attachments": {},
   "cell_type": "markdown",
   "metadata": {
    "id": "YNJUQPsXvuSV"
   },
   "source": [
    "\n",
    "## Blogposts and videos\n",
    "\n",
    "- [How to Setup Spark OCR on UBUNTU - Video](https://www.youtube.com/watch?v=cmt4WIcL0nI)\n",
    "\n",
    "- [Installing Spark NLP and Spark OCR in air-gapped networks (offline mode)\n",
    "](https://medium.com/spark-nlp/installing-spark-nlp-and-spark-ocr-in-air-gapped-networks-offline-mode-f42a1ee6b7a8)\n",
    "\n",
    "- [Table Detection & Extraction in Spark OCR](https://medium.com/spark-nlp/table-detection-extraction-in-spark-ocr-50765c6cedc9)\n",
    "\n",
    "- [Signature Detection in Spark OCR](https://medium.com/spark-nlp/signature-detection-in-spark-ocr-32f9e6f91e3c)\n",
    "\n",
    "- [GPU image pre-processing in Spark OCR](https://medium.com/spark-nlp/gpu-image-pre-processing-in-spark-ocr-3-1-0-6fc27560a9bb)\n",
    "\n",
    "**More examples here**\n",
    "\n",
    "https://github.com/JohnSnowLabs/spark-ocr-workshop"
   ]
  },
  {
   "attachments": {},
   "cell_type": "markdown",
   "metadata": {
    "id": "okhT7AcXxben"
   },
   "source": [
    "**Colab Setup**"
   ]
  },
  {
   "cell_type": "code",
   "execution_count": null,
   "metadata": {
    "colab": {
     "base_uri": "https://localhost:8080/",
     "height": 73,
     "resources": {
      "http://localhost:8080/nbextensions/google.colab/files.js": {
       "data": "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",
       "headers": [
        [
         "content-type",
         "application/javascript"
        ]
       ],
       "ok": true,
       "status": 200,
       "status_text": ""
      }
     }
    },
    "id": "MVf_2iqGIJ4B",
    "outputId": "3f9628a1-ed6c-4e2c-b408-3a7004a30126"
   },
   "outputs": [],
   "source": [
    "import json\n",
    "import os\n",
    "\n",
    "from google.colab import files\n",
    "\n",
    "license_keys = files.upload()\n",
    "os.rename(list(license_keys.keys())[0], 'spark_ocr.json')\n",
    "\n",
    "with open('spark_ocr.json') as f:\n",
    "    license_keys = json.load(f)\n",
    "\n",
    "# Defining license key-value pairs as local variables\n",
    "locals().update(license_keys)"
   ]
  },
  {
   "cell_type": "code",
   "execution_count": null,
   "metadata": {
    "colab": {
     "base_uri": "https://localhost:8080/",
     "height": 853
    },
    "id": "WkylJaGx-COY",
    "outputId": "daed8a45-38a6-4a99-8948-15e263cd1247"
   },
   "outputs": [],
   "source": [
    "# Installing pyspark and spark-nlp\n",
    "! pip install --upgrade -q pyspark==3.0.2 spark-nlp==$PUBLIC_VERSION\n",
    "\n",
    "# Installing Spark OCR\n",
    "! pip install spark-ocr==$OCR_VERSION\\+spark30 --extra-index-url=https://pypi.johnsnowlabs.com/$SPARK_OCR_SECRET --upgrade"
   ]
  },
  {
   "attachments": {},
   "cell_type": "markdown",
   "metadata": {
    "id": "X31h1agcPBrh"
   },
   "source": [
    "<b><h1><font color='darkred'>!!! ATTENTION !!! </font><h1><b>\n",
    "\n",
    "<b>After running previous cell, <font color='darkred'>RESTART the COLAB RUNTIME </font> and go ahead.<b>"
   ]
  },
  {
   "cell_type": "code",
   "execution_count": null,
   "metadata": {
    "id": "Lx0dcQXiInzO"
   },
   "outputs": [],
   "source": [
    "import json, os\n",
    "\n",
    "with open(\"spark_ocr.json\", 'r') as f:\n",
    "  license_keys = json.load(f)\n",
    "\n",
    "# Adding license key-value pairs to environment variables\n",
    "os.environ.update(license_keys)\n",
    "\n",
    "# Defining license key-value pairs as local variables\n",
    "locals().update(license_keys)"
   ]
  },
  {
   "cell_type": "code",
   "execution_count": null,
   "metadata": {
    "id": "lC4Tt3onRBJy"
   },
   "outputs": [],
   "source": [
    "import sparkocr\n",
    "import sys\n",
    "from pyspark.sql import SparkSession\n",
    "from sparkocr import start\n",
    "import base64\n",
    "from sparkocr.transformers import *\n",
    "from pyspark.ml import PipelineModel\n",
    "from pyspark.sql import functions as F\n",
    "from sparkocr.enums import *\n",
    "from sparkocr.utils import display_images, display_image"
   ]
  },
  {
   "cell_type": "code",
   "execution_count": null,
   "metadata": {
    "colab": {
     "base_uri": "https://localhost:8080/"
    },
    "id": "LME81NOHFjqC",
    "outputId": "8ab5a261-314d-4e65-c25b-cbea903a3bf0"
   },
   "outputs": [],
   "source": [
    "# Start spark\n",
    "spark = sparkocr.start(secret=SPARK_OCR_SECRET, \n",
    "                       nlp_version=PUBLIC_VERSION\n",
    "                       )"
   ]
  },
  {
   "cell_type": "code",
   "execution_count": null,
   "metadata": {
    "colab": {
     "base_uri": "https://localhost:8080/"
    },
    "id": "P3dFe0y2bVNP",
    "outputId": "adbf0b4c-4558-4996-dbe1-e89d06b1ed6a"
   },
   "outputs": [],
   "source": [
    "spark.conf.set(\"spark.sql.legacy.allowUntypedScalaUDF\", True)\n",
    "print(spark.conf.get(\"spark.sql.legacy.allowUntypedScalaUDF\"))"
   ]
  },
  {
   "attachments": {},
   "cell_type": "markdown",
   "metadata": {
    "id": "wrcd5xhwrcC_"
   },
   "source": [
    "## Pdf to Text \n"
   ]
  },
  {
   "cell_type": "code",
   "execution_count": null,
   "metadata": {
    "id": "Kj8tsYfljiBP"
   },
   "outputs": [],
   "source": [
    "!wget -q -O sample_doc.pdf http://www.asx.com.au/asxpdf/20171103/pdf/43nyyw9r820c6r.pdf"
   ]
  },
  {
   "cell_type": "code",
   "execution_count": null,
   "metadata": {
    "id": "FwAGTafIj4Bi"
   },
   "outputs": [],
   "source": [
    "# Transform PDF document to images per page\n",
    "pdf_to_image = PdfToImage()\\\n",
    "      .setInputCol(\"content\")\\\n",
    "      .setOutputCol(\"image\")\n",
    "\n",
    "# Run OCR\n",
    "ocr = ImageToText()\\\n",
    "      .setInputCol(\"image\")\\\n",
    "      .setOutputCol(\"text\")\\\n",
    "      .setConfidenceThreshold(65)\n",
    "      # .setKeepLayout(True) \\ # to preserve the layout of the input\n",
    "\n",
    "pdf_to_text_pipeline = PipelineModel(stages=[\n",
    "    pdf_to_image,\n",
    "    ocr\n",
    "])"
   ]
  },
  {
   "cell_type": "code",
   "execution_count": null,
   "metadata": {
    "id": "xNh4i1Woj6oo"
   },
   "outputs": [],
   "source": [
    "pdf = 'sample_doc.pdf'\n",
    "pdf_example_df = spark.read.format(\"binaryFile\").load(pdf).cache()"
   ]
  },
  {
   "cell_type": "code",
   "execution_count": null,
   "metadata": {
    "id": "Tp7a9yMqkCGu"
   },
   "outputs": [],
   "source": [
    "result = pdf_to_text_pipeline.transform(pdf_example_df).cache()"
   ]
  },
  {
   "cell_type": "code",
   "execution_count": null,
   "metadata": {
    "colab": {
     "base_uri": "https://localhost:8080/"
    },
    "id": "VWND8q95kE47",
    "outputId": "7ce1717d-eb8b-410f-9630-14519bad1244"
   },
   "outputs": [],
   "source": [
    "result.select(\"pagenum\",\"text\", \"confidence\").show()"
   ]
  },
  {
   "cell_type": "code",
   "execution_count": null,
   "metadata": {
    "colab": {
     "base_uri": "https://localhost:8080/"
    },
    "id": "rj7rv4b7kTNo",
    "outputId": "bf792cfc-5d75-4d64-dd58-dd8c53b3d43a"
   },
   "outputs": [],
   "source": [
    "result.select(\"text\").collect()"
   ]
  },
  {
   "cell_type": "code",
   "execution_count": null,
   "metadata": {
    "colab": {
     "base_uri": "https://localhost:8080/"
    },
    "id": "bqbnotCfkK58",
    "outputId": "d68ba9cd-a056-42b4-aa21-06c39bf1f84a"
   },
   "outputs": [],
   "source": [
    "print(\"\\n\".join([row.text for row in result.select(\"text\").collect()]))\n"
   ]
  },
  {
   "attachments": {},
   "cell_type": "markdown",
   "metadata": {
    "id": "kdsJk00Br8CC"
   },
   "source": [
    "###  With Skew Correction"
   ]
  },
  {
   "cell_type": "code",
   "execution_count": null,
   "metadata": {
    "id": "BAXZ3PFNjmgo"
   },
   "outputs": [],
   "source": [
    "from sparkocr.transformers import *\n",
    "from pyspark.ml import PipelineModel\n",
    "from sparkocr.utils import display_image\n",
    "from sparkocr.metrics import score"
   ]
  },
  {
   "cell_type": "code",
   "execution_count": null,
   "metadata": {
    "id": "6cIb7V9IsBNi"
   },
   "outputs": [],
   "source": [
    "def ocr_pipeline(skew_correction=False):\n",
    "    \n",
    "    # Transforrm PDF document to images per page\n",
    "    pdf_to_image = PdfToImage()\\\n",
    "          .setInputCol(\"content\")\\\n",
    "          .setOutputCol(\"image\")\n",
    "\n",
    "    # Image skew corrector \n",
    "    skew_corrector = ImageSkewCorrector()\\\n",
    "          .setInputCol(\"image\")\\\n",
    "          .setOutputCol(\"corrected_image\")\\\n",
    "          .setAutomaticSkewCorrection(skew_correction)\n",
    "\n",
    "    # Run OCR\n",
    "    ocr = ImageToText()\\\n",
    "          .setInputCol(\"corrected_image\")\\\n",
    "          .setOutputCol(\"text\")\n",
    "    \n",
    "    pipeline_ocr = PipelineModel(stages=[\n",
    "        pdf_to_image,\n",
    "        skew_corrector,\n",
    "        ocr\n",
    "    ])\n",
    "    \n",
    "    return pipeline_ocr"
   ]
  },
  {
   "cell_type": "code",
   "execution_count": null,
   "metadata": {
    "id": "OJcxUPPqOois"
   },
   "outputs": [],
   "source": [
    "!wget -q https://raw.githubusercontent.com/JohnSnowLabs/spark-nlp-workshop/master/tutorials/Certification_Trainings/Healthcare/data/ocr/400_rot.pdf"
   ]
  },
  {
   "cell_type": "code",
   "execution_count": null,
   "metadata": {
    "id": "0UlhfHEYtU76"
   },
   "outputs": [],
   "source": [
    "pdf_rotated_df = spark.read.format(\"binaryFile\").load('400_rot.pdf').cache()"
   ]
  },
  {
   "cell_type": "code",
   "execution_count": null,
   "metadata": {
    "id": "bYQe1heJtXYx"
   },
   "outputs": [],
   "source": [
    "pdf_pipeline = ocr_pipeline(False) \n",
    "\n",
    "result = pdf_pipeline.transform(pdf_rotated_df).cache()"
   ]
  },
  {
   "cell_type": "code",
   "execution_count": null,
   "metadata": {
    "colab": {
     "base_uri": "https://localhost:8080/"
    },
    "id": "-5lY6fZnQOj4",
    "outputId": "943f6bcb-6c4b-4367-88a0-ee5129ff2142"
   },
   "outputs": [],
   "source": [
    "result.show()"
   ]
  },
  {
   "cell_type": "code",
   "execution_count": null,
   "metadata": {
    "colab": {
     "base_uri": "https://localhost:8080/"
    },
    "id": "KIngWL7bQDcb",
    "outputId": "a0eab678-ca78-4d1a-ed4d-77a8a96901f0"
   },
   "outputs": [],
   "source": [
    "result.select(\"pagenum\").collect()[0].pagenum"
   ]
  },
  {
   "cell_type": "code",
   "execution_count": null,
   "metadata": {
    "colab": {
     "base_uri": "https://localhost:8080/",
     "height": 1000
    },
    "id": "rR57LCA5PluJ",
    "outputId": "2cbe5d92-5fb0-44d7-bd8d-b79ba525d594"
   },
   "outputs": [],
   "source": [
    "display_image(result.select(\"image\").collect()[0].image)"
   ]
  },
  {
   "attachments": {},
   "cell_type": "markdown",
   "metadata": {
    "id": "dl-Ilq4Zwfhq"
   },
   "source": [
    "### Display recognized text without skew correction\n"
   ]
  },
  {
   "cell_type": "code",
   "execution_count": null,
   "metadata": {
    "colab": {
     "base_uri": "https://localhost:8080/"
    },
    "id": "9EU_b2y4tavx",
    "outputId": "baab72ec-1543-44db-c5db-1a3f08a90112"
   },
   "outputs": [],
   "source": [
    "result.select(\"pagenum\",\"text\", \"confidence\").show()"
   ]
  },
  {
   "cell_type": "code",
   "execution_count": null,
   "metadata": {
    "colab": {
     "base_uri": "https://localhost:8080/"
    },
    "id": "eNxCvtgqwlIC",
    "outputId": "7454fdde-e894-49ba-97ec-b285c37e5bdd"
   },
   "outputs": [],
   "source": [
    "print(\"\\n\".join([row.text for row in result.select(\"text\").collect()]))"
   ]
  },
  {
   "attachments": {},
   "cell_type": "markdown",
   "metadata": {
    "id": "quH_2fczw0Td"
   },
   "source": [
    "### Display results with skew correction"
   ]
  },
  {
   "cell_type": "code",
   "execution_count": null,
   "metadata": {
    "colab": {
     "base_uri": "https://localhost:8080/"
    },
    "id": "6SPde4WBQ-Vt",
    "outputId": "0c4255a9-c149-40e9-decc-c91a68348717"
   },
   "outputs": [],
   "source": [
    "pdf_pipeline_corrected = ocr_pipeline(True) \n",
    "\n",
    "corrected_result = pdf_pipeline_corrected.transform(pdf_rotated_df).cache()\n",
    "\n",
    "print(\"\\n\".join([row.text for row in corrected_result.select(\"text\").collect()]))\n"
   ]
  },
  {
   "cell_type": "code",
   "execution_count": null,
   "metadata": {
    "colab": {
     "base_uri": "https://localhost:8080/"
    },
    "id": "vgn7YFZtw7kY",
    "outputId": "9b9ef9d4-4c87-44b2-b75d-a7c17af46575"
   },
   "outputs": [],
   "source": [
    "corrected_result.select(\"pagenum\",\"text\", \"confidence\").show()\n"
   ]
  },
  {
   "attachments": {},
   "cell_type": "markdown",
   "metadata": {
    "id": "9Ek0XS9CzBTL"
   },
   "source": [
    "### Display skew corrected images"
   ]
  },
  {
   "cell_type": "code",
   "execution_count": null,
   "metadata": {
    "colab": {
     "base_uri": "https://localhost:8080/",
     "height": 1000
    },
    "id": "iKsIxz7EzCs6",
    "outputId": "12314717-460a-40f3-c06b-69095e9e908f"
   },
   "outputs": [],
   "source": [
    "display_image(corrected_result.select(\"corrected_image\").collect()[0].corrected_image)"
   ]
  },
  {
   "attachments": {},
   "cell_type": "markdown",
   "metadata": {
    "id": "3FyRn9dHxMU5"
   },
   "source": [
    "### Compute score and compare\n",
    "Read original text and calculate scores for both results."
   ]
  },
  {
   "cell_type": "code",
   "execution_count": null,
   "metadata": {
    "id": "qUsJW3AoRTXd"
   },
   "outputs": [],
   "source": [
    "!wget -q https://raw.githubusercontent.com/JohnSnowLabs/spark-nlp-workshop/master/tutorials/Certification_Trainings/Healthcare/data/ocr/400.txt"
   ]
  },
  {
   "cell_type": "code",
   "execution_count": null,
   "metadata": {
    "colab": {
     "base_uri": "https://localhost:8080/"
    },
    "id": "XszOJzejwAwR",
    "outputId": "d3198234-cd21-49b8-e798-153923b6b210"
   },
   "outputs": [],
   "source": [
    "detected = \"\\n\".join([row.text for row in result.collect()])\n",
    "corrected_detected = \"\\n\".join([row.text for row in corrected_result.collect()])\n",
    "\n",
    "# read original text\n",
    "pdf_rotated_text = open('400.txt', \"r\").read()\n",
    "\n",
    "# compute scores\n",
    "detected_score = score(pdf_rotated_text, detected)\n",
    "corrected_score = score(pdf_rotated_text, corrected_detected)\n",
    "\n",
    "#  print scores\n",
    "print(\"Score without skew correction: {0}\".format(detected_score))\n",
    "print(\"Score with skew correction: {0}\".format(corrected_score))"
   ]
  },
  {
   "attachments": {},
   "cell_type": "markdown",
   "metadata": {
    "id": "HT2g2VF4STV8"
   },
   "source": [
    "## Reading multiple pdfs from folder"
   ]
  },
  {
   "cell_type": "code",
   "execution_count": null,
   "metadata": {
    "colab": {
     "base_uri": "https://localhost:8080/"
    },
    "id": "EoWSrO2E2WBg",
    "outputId": "24680a3b-70d9-4a4d-beda-26ed0d64ea7f"
   },
   "outputs": [],
   "source": [
    "pdf_path = \"/content/*.pdf\"\n",
    "\n",
    "pdfs = spark.read.format(\"binaryFile\").load(pdf_path).cache()\n",
    "#images = spark.read.format(\"binaryFile\").load('text_with_noise.png').cache()\n",
    "\n",
    "pdfs.count()"
   ]
  },
  {
   "cell_type": "code",
   "execution_count": null,
   "metadata": {
    "id": "t1HmMgqLuxvi"
   },
   "outputs": [],
   "source": [
    "# Transforrm PDF document to images per page\n",
    "pdf_to_image = PdfToImage()\\\n",
    "      .setInputCol(\"content\")\\\n",
    "      .setOutputCol(\"image\")\n",
    "\n",
    "# Run OCR\n",
    "ocr = ImageToText()\\\n",
    "      .setInputCol(\"image\")\\\n",
    "      .setOutputCol(\"text\")\\\n",
    "      .setConfidenceThreshold(65)\\\n",
    "      .setIgnoreResolution(False)\n",
    "\n",
    "ocr_pipeline = PipelineModel(stages=[\n",
    "    pdf_to_image,\n",
    "    ocr\n",
    "])\n"
   ]
  },
  {
   "cell_type": "code",
   "execution_count": null,
   "metadata": {
    "id": "vF9M6OC_4UGU"
   },
   "outputs": [],
   "source": [
    "results = ocr_pipeline.transform(pdfs)"
   ]
  },
  {
   "cell_type": "code",
   "execution_count": null,
   "metadata": {
    "colab": {
     "base_uri": "https://localhost:8080/"
    },
    "id": "pKfGC4D2aR1d",
    "outputId": "c6fe9d85-c38e-458e-ed24-8d7249e8ba8a"
   },
   "outputs": [],
   "source": [
    "results.columns"
   ]
  },
  {
   "cell_type": "code",
   "execution_count": null,
   "metadata": {
    "colab": {
     "base_uri": "https://localhost:8080/"
    },
    "id": "HBPkZ7QeaTif",
    "outputId": "2f6fdda8-4808-42d9-9237-ba67ae369c1f"
   },
   "outputs": [],
   "source": [
    "results.select('path','confidence','text').show()"
   ]
  },
  {
   "attachments": {},
   "cell_type": "markdown",
   "metadata": {
    "id": "OhPXeIyJUEVh"
   },
   "source": [
    "### Recognize text from PDFs and store results to PDF with text layout"
   ]
  },
  {
   "cell_type": "code",
   "execution_count": null,
   "metadata": {
    "id": "07VEN-HNUQ2z"
   },
   "outputs": [],
   "source": [
    "from sparkocr.utils import display_pdf_file\n",
    "\n",
    "# Transforrm PDF document to images per page\n",
    "pdf_to_image = PdfToImage() \\\n",
    "    .setInputCol(\"content\") \\\n",
    "    .setOutputCol(\"image\")\n",
    "\n",
    "# Run OCR and render results to PDF\n",
    "ocr = ImageToTextPdf() \\\n",
    "    .setInputCol(\"image\") \\\n",
    "    .setOutputCol(\"pdf_page\")\n",
    "\n",
    "# Assemble multipage PDF\n",
    "pdf_assembler = PdfAssembler() \\\n",
    "    .setInputCol(\"pdf_page\") \\\n",
    "    .setOutputCol(\"pdf\")\n",
    "\n",
    "pdf_pipeline = PipelineModel(stages=[\n",
    "    pdf_to_image,\n",
    "    ocr,\n",
    "    pdf_assembler\n",
    "])"
   ]
  },
  {
   "cell_type": "code",
   "execution_count": null,
   "metadata": {
    "id": "ptmGS_a_Y3pi"
   },
   "outputs": [],
   "source": [
    "!wget -q -O sample_doc.pdf http://www.asx.com.au/asxpdf/20171103/pdf/43nyyw9r820c6r.pdf\n",
    "\n",
    "pdf = 'sample_doc.pdf'\n",
    "pdf_example_df = spark.read.format(\"binaryFile\").load(pdf).cache()"
   ]
  },
  {
   "cell_type": "code",
   "execution_count": null,
   "metadata": {
    "colab": {
     "base_uri": "https://localhost:8080/"
    },
    "id": "S38fdLVCVYU5",
    "outputId": "dd297fda-ad6c-454a-f7d0-3730c41105a5"
   },
   "outputs": [],
   "source": [
    "pdf_example_df.show()"
   ]
  },
  {
   "cell_type": "code",
   "execution_count": null,
   "metadata": {
    "id": "pRWr9I4dUZ73"
   },
   "outputs": [],
   "source": [
    "result = pdf_pipeline.transform(pdf_example_df)"
   ]
  },
  {
   "cell_type": "code",
   "execution_count": null,
   "metadata": {
    "colab": {
     "base_uri": "https://localhost:8080/"
    },
    "id": "zseUcQzNCMwZ",
    "outputId": "7d8254bb-6ecb-488f-b4b7-f4601f4eb02e"
   },
   "outputs": [],
   "source": [
    "result.show()"
   ]
  },
  {
   "cell_type": "code",
   "execution_count": null,
   "metadata": {
    "id": "LViCU2CAGq72"
   },
   "outputs": [],
   "source": [
    "pdf = result.select(\"pdf\").head().pdf"
   ]
  },
  {
   "cell_type": "code",
   "execution_count": null,
   "metadata": {
    "id": "Gmf9UZLNDNxK"
   },
   "outputs": [],
   "source": [
    "with open(\"searchable.pdf\", \"wb\") as pdfFile:\n",
    "  pdfFile.write(pdf)"
   ]
  },
  {
   "attachments": {},
   "cell_type": "markdown",
   "metadata": {
    "id": "kXy09T8mwRJF"
   },
   "source": [
    "## Image processing after reading a pdf"
   ]
  },
  {
   "cell_type": "code",
   "execution_count": null,
   "metadata": {
    "id": "G2O7WqltKVR0"
   },
   "outputs": [],
   "source": [
    "from sparkocr.enums import *\n",
    "\n",
    "# Read binary as image\n",
    "pdf_to_image = PdfToImage()\\\n",
    "  .setInputCol(\"content\")\\\n",
    "  .setOutputCol(\"image\")\\\n",
    "  .setResolution(400)\n",
    "\n",
    "# Binarize using adaptive tresholding\n",
    "binarizer = ImageAdaptiveThresholding()\\\n",
    "  .setInputCol(\"image\")\\\n",
    "  .setOutputCol(\"binarized_image\")\\\n",
    "  .setBlockSize(91)\\\n",
    "  .setOffset(50)\n",
    "\n",
    "# Apply morphology opening\n",
    "opening = ImageMorphologyOperation()\\\n",
    "  .setKernelShape(KernelShape.SQUARE)\\\n",
    "  .setOperation(MorphologyOperationType.OPENING)\\\n",
    "  .setKernelSize(3)\\\n",
    "  .setInputCol(\"binarized_image\")\\\n",
    "  .setOutputCol(\"opening_image\")\n",
    "\n",
    "# Remove small objects\n",
    "remove_objects = ImageRemoveObjects()\\\n",
    "  .setInputCol(\"opening_image\")\\\n",
    "  .setOutputCol(\"corrected_image\")\\\n",
    "  .setMinSizeObject(130)\n",
    "\n",
    "# Image Layout Analyzer for detect regions\n",
    "image_layout_analyzer = ImageLayoutAnalyzer()\\\n",
    "  .setInputCol(\"corrected_image\")\\\n",
    "  .setOutputCol(\"region\")\\\n",
    "\n",
    "draw_regions = ImageDrawRegions()\\\n",
    "  .setInputCol(\"corrected_image\")\\\n",
    "  .setInputRegionsCol(\"region\")\\\n",
    "  .setOutputCol(\"image_with_regions\")\n",
    "\n",
    "# Run tesseract OCR for corrected image\n",
    "ocr_corrected = ImageToText()\\\n",
    "  .setInputCol(\"corrected_image\")\\\n",
    "  .setOutputCol(\"corrected_text\")\\\n",
    "  .setPositionsCol(\"corrected_positions\")\\\n",
    "  .setConfidenceThreshold(65)\n",
    "\n",
    "# Run OCR for original image\n",
    "ocr = ImageToText()\\\n",
    "  .setInputCol(\"image\")\\\n",
    "  .setOutputCol(\"text\")\n",
    "\n",
    "# OCR pipeline\n",
    "image_pipeline = PipelineModel(stages=[\n",
    "    pdf_to_image,\n",
    "    binarizer,\n",
    "    opening,\n",
    "    remove_objects,\n",
    "    image_layout_analyzer,\n",
    "    draw_regions,\n",
    "    ocr,\n",
    "    ocr_corrected\n",
    "])"
   ]
  },
  {
   "cell_type": "code",
   "execution_count": null,
   "metadata": {
    "id": "tM5rz4KwtBEL"
   },
   "outputs": [],
   "source": [
    "!wget -q https://raw.githubusercontent.com/JohnSnowLabs/spark-ocr-workshop/master/jupyter/data/pdfs/noised.pdf"
   ]
  },
  {
   "cell_type": "code",
   "execution_count": null,
   "metadata": {
    "colab": {
     "base_uri": "https://localhost:8080/"
    },
    "id": "JAIAhfJitIPZ",
    "outputId": "d4aa7c01-4fd6-4631-973b-985d378969ed"
   },
   "outputs": [],
   "source": [
    "image_df = spark.read.format(\"binaryFile\").load('noised.pdf').cache()\n",
    "image_df.show()"
   ]
  },
  {
   "cell_type": "code",
   "execution_count": null,
   "metadata": {
    "id": "VsHSMgLqtOo-"
   },
   "outputs": [],
   "source": [
    "result = image_pipeline.transform(image_df).cache()"
   ]
  },
  {
   "cell_type": "code",
   "execution_count": null,
   "metadata": {
    "colab": {
     "base_uri": "https://localhost:8080/",
     "height": 1000
    },
    "id": "wX7phZ3z0BYj",
    "outputId": "5c3e775b-f20f-448c-f249-41f8b0a49621"
   },
   "outputs": [],
   "source": [
    "for r in result.distinct().collect():\n",
    "    print(\"Original: %s\" % r.path)\n",
    "    display_image(r.image)\n",
    "\n",
    "    print(\"Corrected: %s\" % r.path)\n",
    "    display_image(r.corrected_image)"
   ]
  },
  {
   "attachments": {},
   "cell_type": "markdown",
   "metadata": {
    "id": "VD2BoEMwt8oZ"
   },
   "source": [
    "### Results with original image"
   ]
  },
  {
   "cell_type": "code",
   "execution_count": null,
   "metadata": {
    "colab": {
     "base_uri": "https://localhost:8080/"
    },
    "id": "cY__BZUStTVw",
    "outputId": "d8862bc4-6c54-442f-d6b3-a42decb61f7e"
   },
   "outputs": [],
   "source": [
    "from termcolor import colored\n",
    "\n",
    "grouped_results = result.groupBy(\"path\", \"pagenum\").agg(F.concat_ws(\"\", F.collect_list(\"text\")).alias(\"text\"))\n",
    "for row in grouped_results.collect():\n",
    "    print(colored(\"Filename:\\n%s , page: %d\" % (row.path, row.pagenum), \"red\"))\n",
    "    print(\"Recognized text:\\n%s\" % row.text)"
   ]
  },
  {
   "attachments": {},
   "cell_type": "markdown",
   "metadata": {
    "id": "mHOpQf8YtgwI"
   },
   "source": [
    "### Results with corrected image\n"
   ]
  },
  {
   "cell_type": "code",
   "execution_count": null,
   "metadata": {
    "colab": {
     "base_uri": "https://localhost:8080/"
    },
    "id": "QYLD5GYitUxQ",
    "outputId": "90100f1f-f30b-4e27-ce28-1f60b8ce9f49"
   },
   "outputs": [],
   "source": [
    "grouped_results = result.groupBy(\"path\", \"pagenum\").agg(F.concat_ws(\"\", F.collect_list(\"corrected_text\")).alias(\"corrected_text\"))\n",
    "for row in grouped_results.collect():\n",
    "    print(colored(\"Filename:\\n%s , page: %d\" % (row.path, row.pagenum), \"red\"))\n",
    "    print(\"Recognized text:\\n%s\" % row.corrected_text)"
   ]
  },
  {
   "cell_type": "code",
   "execution_count": null,
   "metadata": {
    "colab": {
     "base_uri": "https://localhost:8080/"
    },
    "id": "KmcmM3NquFPW",
    "outputId": "eaa6246a-425c-49f8-ec41-a21d3ba48dc2"
   },
   "outputs": [],
   "source": [
    "result.columns"
   ]
  },
  {
   "attachments": {},
   "cell_type": "markdown",
   "metadata": {
    "id": "_K582Shu1dUj"
   },
   "source": [
    "### Abbyy output"
   ]
  },
  {
   "cell_type": "code",
   "execution_count": null,
   "metadata": {
    "id": "ecBhTMWI1cGF"
   },
   "outputs": [],
   "source": [
    "abbyy = \"\"\"-----\n",
    "% Date: 7/16/68\n",
    "X*: I; * • ■ Sample No. 5031___ — .*\n",
    "•* Original request made by _____Mr. C. L. Tucker, Jr. on\n",
    "Sample specifications written by\n",
    "BLEND CASING RECASING\n",
    "OLD GOLD STRAIGHT Tobacco Blend\n",
    "Control for Sample No. 5030\n",
    "John H. M. Bohlken\n",
    "FINAL FLAVOR\n",
    ") 7/10/68\n",
    "MENTHOL FLAVOR\n",
    "• Cigarettes; * . .v\\ . /,*, *, S •\n",
    "Brand --------- OLD GOLD STRAIGHT -V . ••••\n",
    "; . L e n g t h ------- — 85 mm. . : '\n",
    "Circumference-- 25.3 mm. • ' *;. • •\n",
    "P a p e r ---------- Ecusta 556 • * .\n",
    "F i r m n e s s---- —— OLD GOLD STRAIGHT . ! •■'\n",
    "D r a w ___________ OLD GOLD STRAIGHT\n",
    "W e i g h t --------- 0LD GOLD STRAIGHT Wrappings: « -\n",
    "Tipping Paper — — *\n",
    "p H n f —. — — _ _ ~ L a b e l s ----OLD GOLD STRAIGHT\n",
    "( • Filter Length-- . — Closures--- Standard Blue .\n",
    "^ ^ ; • Tear Tape— Gold\n",
    "Cartons --- OLD GOLD STRAIGHT\n",
    "s Requirements: . - •' • Markings-- Sample number on each\n",
    "• pack and carton Laboratory----- One Tray .\n",
    "O t h e r s --------- * , s • • . 4\n",
    "Laboratory A n a l ysis^ I \" '/***• * 7 ' ^ ^\n",
    "Tars and Nicotine, Taste Panel, Burning Time, Gas Phase Analysis,\n",
    "Benzo (A) Pyrene Analyses — J-ZZ-Zf'- (£. / •\n",
    "Responsibility;\n",
    "Tobacco B l e n d ------Manufacturing - A. Kraus . . * -\n",
    "Filter Production--- —\n",
    "• Making & P a c k i n g---Product Development , John H. M. Bohlken\n",
    "Shipping -----------\n",
    "Reports:\n",
    "t\n",
    "Written by — John H. M. Bohlken\n",
    "Original to - Mr. C. L. Tucker, Jr.\n",
    "Copies t o ---Dr. A. W. Spears\n",
    "• 9 ..\n",
    "\"\"\""
   ]
  },
  {
   "attachments": {},
   "cell_type": "markdown",
   "metadata": {
    "id": "9V7_s8Bs1jZi"
   },
   "source": [
    "### Display original and corrected images with regions\n"
   ]
  },
  {
   "cell_type": "code",
   "execution_count": null,
   "metadata": {
    "colab": {
     "base_uri": "https://localhost:8080/",
     "height": 1000
    },
    "id": "J5-kjby21fl_",
    "outputId": "30cff108-ae6b-4bbd-c08a-1788da9d8955"
   },
   "outputs": [],
   "source": [
    "for r in result.select(\"path\",\"image\",\"image_with_regions\").distinct().collect():\n",
    "    print(\"Original: %s\" % r.path)\n",
    "    display_image(r.image)\n",
    "    \n",
    "    print(\"Corrected: %s\" % r.path)\n",
    "    display_image(r.image_with_regions)"
   ]
  },
  {
   "attachments": {},
   "cell_type": "markdown",
   "metadata": {
    "id": "DoR5iX2G989t"
   },
   "source": [
    "## Image (or Natural Scene) to Text"
   ]
  },
  {
   "cell_type": "code",
   "execution_count": null,
   "metadata": {
    "id": "zuaoi9H482Zl"
   },
   "outputs": [],
   "source": [
    "!wget -q https://raw.githubusercontent.com/JohnSnowLabs/spark-ocr-workshop/master/jupyter/data/images/text_with_noise.png"
   ]
  },
  {
   "cell_type": "code",
   "execution_count": null,
   "metadata": {
    "colab": {
     "base_uri": "https://localhost:8080/",
     "height": 886
    },
    "id": "iR-lq_0j833B",
    "outputId": "8c6bb2e9-201e-4098-dce7-2e6ae56ea0d4"
   },
   "outputs": [],
   "source": [
    "image_df = spark.read.format(\"binaryFile\").load('text_with_noise.png').cache()\n",
    "\n",
    "# Read binary as image\n",
    "binary_to_image = BinaryToImage()\n",
    "binary_to_image.setInputCol(\"content\")\n",
    "binary_to_image.setOutputCol(\"image\")\n",
    "\n",
    "# Scale image\n",
    "scaler = ImageScaler()\n",
    "scaler.setInputCol(\"image\")\n",
    "scaler.setOutputCol(\"scaled_image\")\n",
    "scaler.setScaleFactor(2.0)\n",
    "\n",
    "# Binarize using adaptive tresholding\n",
    "binarizer = ImageAdaptiveThresholding()\n",
    "binarizer.setInputCol(\"scaled_image\")\n",
    "binarizer.setOutputCol(\"binarized_image\")\n",
    "binarizer.setBlockSize(71)\n",
    "binarizer.setOffset(65)\n",
    "\n",
    "remove_objects = ImageRemoveObjects()\n",
    "remove_objects.setInputCol(\"binarized_image\")\n",
    "remove_objects.setOutputCol(\"cleared_image\")\n",
    "remove_objects.setMinSizeObject(400)\n",
    "remove_objects.setMaxSizeObject(4000)\n",
    "\n",
    "# Run OCR\n",
    "ocr = ImageToText()\n",
    "ocr.setInputCol(\"cleared_image\")\n",
    "ocr.setOutputCol(\"text\")\n",
    "ocr.setConfidenceThreshold(50)\n",
    "ocr.setIgnoreResolution(False)\n",
    "\n",
    "# OCR pipeline\n",
    "noisy_pipeline = PipelineModel(stages=[\n",
    "    binary_to_image,\n",
    "    scaler,\n",
    "    binarizer,\n",
    "    remove_objects,\n",
    "    ocr\n",
    "])\n",
    "\n",
    "\n",
    "result = noisy_pipeline \\\n",
    ".transform(image_df) \\\n",
    ".cache()\n",
    "\n",
    "\n",
    "for r in result.distinct().collect():\n",
    "    print(\"Original: %s\" % r.path)\n",
    "    display_image(r.image)\n",
    "    print(\"Binarized\")\n",
    "    display_image(r.binarized_image)\n",
    "    print(\"Removing objects\")\n",
    "    display_image(r.cleared_image)\n"
   ]
  },
  {
   "cell_type": "code",
   "execution_count": null,
   "metadata": {
    "colab": {
     "base_uri": "https://localhost:8080/"
    },
    "id": "_SRXlRr9_eGk",
    "outputId": "cffd1467-1c93-4940-83ec-1409413e6ece"
   },
   "outputs": [],
   "source": [
    "print(\"\\n\".join([row.text for row in result.select(\"text\").collect()]))"
   ]
  },
  {
   "attachments": {},
   "cell_type": "markdown",
   "metadata": {
    "id": "7VjHI0hjACLI"
   },
   "source": [
    "### Text from Scene"
   ]
  },
  {
   "cell_type": "code",
   "execution_count": null,
   "metadata": {
    "id": "Q5BanjN2AlLK"
   },
   "outputs": [],
   "source": [
    "!wget -q https://raw.githubusercontent.com/JohnSnowLabs/spark-nlp-workshop/master/tutorials/Certification_Trainings/Healthcare/data/ocr/natural_scene.jpeg"
   ]
  },
  {
   "cell_type": "code",
   "execution_count": null,
   "metadata": {
    "colab": {
     "base_uri": "https://localhost:8080/",
     "height": 1000
    },
    "id": "xtu9hpEL9saX",
    "outputId": "e16b71d7-a5d5-49de-e40c-768663cce541"
   },
   "outputs": [],
   "source": [
    "image_df = spark.read.format(\"binaryFile\").load('natural_scene.jpeg').cache()\n",
    "\n",
    "# Apply morphology opening\n",
    "morpholy_operation = ImageMorphologyOperation()\n",
    "morpholy_operation.setKernelShape(KernelShape.DISK)\n",
    "morpholy_operation.setKernelSize(5)\n",
    "morpholy_operation.setOperation(\"closing\")\n",
    "morpholy_operation.setInputCol(\"cleared_image\")\n",
    "morpholy_operation.setOutputCol(\"corrected_image\")\n",
    "\n",
    "# Run OCR\n",
    "ocr = ImageToText()\n",
    "ocr.setInputCol(\"corrected_image\")\n",
    "ocr.setOutputCol(\"text\")\n",
    "ocr.setConfidenceThreshold(50)\n",
    "ocr.setIgnoreResolution(False)\n",
    "\n",
    "# OCR pipeline\n",
    "scene_pipeline = PipelineModel(stages=[\n",
    "    binary_to_image,\n",
    "    scaler,\n",
    "    binarizer,\n",
    "    remove_objects,\n",
    "    morpholy_operation,\n",
    "    ocr\n",
    "])\n",
    "\n",
    "result = scene_pipeline \\\n",
    ".transform(image_df) \\\n",
    ".cache()\n",
    "\n",
    "\n",
    "for r in result.distinct().collect():\n",
    "    print(\"Original: %s\" % r.path)\n",
    "    display_image(r.image)\n",
    "    print(\"Binarized\")\n",
    "    display_image(r.binarized_image)\n",
    "    print(\"Removing objects\")\n",
    "    display_image(r.cleared_image)\n",
    "    print(\"Morphology closing\")\n",
    "    display_image(r.corrected_image)"
   ]
  },
  {
   "attachments": {},
   "cell_type": "markdown",
   "metadata": {
    "id": "58-RfPri0xk3"
   },
   "source": [
    "## DOCX Processing (version 1.10.0)"
   ]
  },
  {
   "attachments": {},
   "cell_type": "markdown",
   "metadata": {
    "id": "G9oV5wtD8O-8"
   },
   "source": [
    "### Read DOCX document as binary file"
   ]
  },
  {
   "cell_type": "code",
   "execution_count": null,
   "metadata": {
    "id": "kB9dAvMk8Rl3"
   },
   "outputs": [],
   "source": [
    "import pkg_resources\n",
    "doc_example = pkg_resources.resource_filename('sparkocr', 'resources/ocr/docs/doc2.docx')\n",
    "doc_example_df = spark.read.format(\"binaryFile\").load(doc_example).cache()"
   ]
  },
  {
   "attachments": {},
   "cell_type": "markdown",
   "metadata": {
    "id": "LjfPNSar1BsW"
   },
   "source": [
    "### DocxtoText"
   ]
  },
  {
   "attachments": {},
   "cell_type": "markdown",
   "metadata": {
    "id": "TZPHmLAH7b9o"
   },
   "source": [
    "#### Extract text using DocToText transformer"
   ]
  },
  {
   "cell_type": "code",
   "execution_count": null,
   "metadata": {
    "id": "xxRSsOVe0udx"
   },
   "outputs": [],
   "source": [
    "from sparkocr.transformers import *\n",
    "\n",
    "doc_to_text = DocToText()\n",
    "doc_to_text.setInputCol(\"content\")\n",
    "doc_to_text.setOutputCol(\"text\")\n",
    "\n",
    "result = doc_to_text.transform(doc_example_df)"
   ]
  },
  {
   "attachments": {},
   "cell_type": "markdown",
   "metadata": {
    "id": "QMA16ZGt7hGb"
   },
   "source": [
    "#### Display result DataFrame"
   ]
  },
  {
   "cell_type": "code",
   "execution_count": null,
   "metadata": {
    "colab": {
     "base_uri": "https://localhost:8080/"
    },
    "id": "vqklj_AV7Hml",
    "outputId": "f8c2fcda-1dad-4ea2-e294-141f99227f1f"
   },
   "outputs": [],
   "source": [
    "result.show()"
   ]
  },
  {
   "attachments": {},
   "cell_type": "markdown",
   "metadata": {
    "id": "ETclaT1h7mNT"
   },
   "source": [
    "#### Display extracted text"
   ]
  },
  {
   "cell_type": "code",
   "execution_count": null,
   "metadata": {
    "colab": {
     "base_uri": "https://localhost:8080/"
    },
    "id": "Rl3SfEUM7Rs-",
    "outputId": "a89ab68e-95cf-421c-98e3-e869f537c617"
   },
   "outputs": [],
   "source": [
    "print(\"\\n\".join([row.text for row in result.select(\"text\").collect()]))"
   ]
  },
  {
   "attachments": {},
   "cell_type": "markdown",
   "metadata": {
    "id": "u0VlfU6w2AGI"
   },
   "source": [
    "### DocxToTextTable\n",
    "#### (Extracting table data from Microsoft DOCX documents)"
   ]
  },
  {
   "attachments": {},
   "cell_type": "markdown",
   "metadata": {
    "id": "XDazuQyP8mEb"
   },
   "source": [
    "#### Preview document using DocToPdf and PdfToImage transformers"
   ]
  },
  {
   "cell_type": "code",
   "execution_count": null,
   "metadata": {
    "colab": {
     "base_uri": "https://localhost:8080/",
     "height": 1000
    },
    "id": "JVfMqUkk0wkE",
    "outputId": "61add54d-8418-4ab7-e2f6-74abc5f2a48c"
   },
   "outputs": [],
   "source": [
    "image_df = PdfToImage().transform(DocToPdf().setOutputCol(\"content\").transform(doc_example_df))\n",
    "for r in image_df.select(\"image\").collect():\n",
    "    display_image(r.image)"
   ]
  },
  {
   "attachments": {},
   "cell_type": "markdown",
   "metadata": {
    "id": "6J_p9fBQ9gpJ"
   },
   "source": [
    "#### Extract text using DocToText transformer"
   ]
  },
  {
   "cell_type": "code",
   "execution_count": null,
   "metadata": {
    "colab": {
     "base_uri": "https://localhost:8080/"
    },
    "id": "YNgJGNDr8-M3",
    "outputId": "45cc1670-b370-4159-9e36-5d6ca5c79642"
   },
   "outputs": [],
   "source": [
    "doc_to_table = DocToTextTable()\n",
    "doc_to_table.setInputCol(\"content\")\n",
    "doc_to_table.setOutputCol(\"tables\")\n",
    "\n",
    "result = doc_to_table.transform(doc_example_df)\n",
    "\n",
    "result.show()"
   ]
  },
  {
   "cell_type": "code",
   "execution_count": null,
   "metadata": {
    "colab": {
     "base_uri": "https://localhost:8080/"
    },
    "id": "Tbf6EQW99xhp",
    "outputId": "a5903138-0573-4ee5-911a-98a2592a7a3c"
   },
   "outputs": [],
   "source": [
    "result.select(result[\"tables.chunks\"].getItem(3)[\"chunkText\"]).show(truncate=False)"
   ]
  },
  {
   "attachments": {},
   "cell_type": "markdown",
   "metadata": {
    "id": "9x5XXSAT-YxT"
   },
   "source": [
    "#### Display extracted data in JSON format"
   ]
  },
  {
   "cell_type": "code",
   "execution_count": null,
   "metadata": {
    "colab": {
     "base_uri": "https://localhost:8080/"
    },
    "id": "Ejlbb80W9w6B",
    "outputId": "67323d78-73f4-4241-a4e6-f73a796bd751"
   },
   "outputs": [],
   "source": [
    "import json\n",
    "df_json = result.select(\"tables\").toJSON()\n",
    "for row in df_json.collect():\n",
    "    print(json.dumps(json.loads(row), indent=4))"
   ]
  },
  {
   "attachments": {},
   "cell_type": "markdown",
   "metadata": {
    "id": "RVrFH1DU2DMN"
   },
   "source": [
    "## Text to Pdf"
   ]
  },
  {
   "cell_type": "code",
   "execution_count": null,
   "metadata": {
    "id": "Z09Vuxus2Ccb"
   },
   "outputs": [],
   "source": [
    "def pipeline():\n",
    "    # Transforrm PDF document to images per page\n",
    "    pdf_to_image = PdfToImage() \\\n",
    "        .setInputCol(\"content\") \\\n",
    "        .setOutputCol(\"image\") \\\n",
    "        .setKeepInput(True)\n",
    "    \n",
    "    # Run OCR\n",
    "    ocr = ImageToText() \\\n",
    "        .setInputCol(\"image\") \\\n",
    "        .setOutputCol(\"text\") \\\n",
    "        .setConfidenceThreshold(60) \\\n",
    "        .setIgnoreResolution(False) \\\n",
    "        .setPageSegMode(PageSegmentationMode.SPARSE_TEXT)\n",
    "    \n",
    "    # Render results to PDF\n",
    "    textToPdf = TextToPdf() \\\n",
    "        .setInputCol(\"positions\") \\\n",
    "        .setInputImage(\"image\") \\\n",
    "        .setOutputCol(\"pdf\")\n",
    "\n",
    "    pipeline = PipelineModel(stages=[\n",
    "        pdf_to_image,\n",
    "        ocr,\n",
    "        textToPdf\n",
    "    ])\n",
    "    \n",
    "    return pipeline"
   ]
  },
  {
   "cell_type": "code",
   "execution_count": null,
   "metadata": {
    "id": "3ZjLzzD7sOTq"
   },
   "outputs": [],
   "source": [
    "# !wget -q https://raw.githubusercontent.com/JohnSnowLabs/spark-nlp-workshop/master/tutorials/Certification_Trainings/Healthcare/data/ocr/MT_00.pdf\n",
    "!wget -q https://raw.githubusercontent.com/JohnSnowLabs/spark-nlp-workshop/master/tutorials/Certification_Trainings/Healthcare/data/ocr/test_document.pdf"
   ]
  },
  {
   "cell_type": "code",
   "execution_count": null,
   "metadata": {
    "id": "G81aUZ3q2OVh"
   },
   "outputs": [],
   "source": [
    "# pdf_example_df = spark.read.format(\"binaryFile\").load('MT_00.pdf').cache()\n",
    "pdf_example_df = spark.read.format(\"binaryFile\").load('test_document.pdf').cache()"
   ]
  },
  {
   "cell_type": "code",
   "execution_count": null,
   "metadata": {
    "id": "aKDWZc9h27v0"
   },
   "outputs": [],
   "source": [
    "result = pipeline().transform(pdf_example_df).cache()"
   ]
  },
  {
   "cell_type": "code",
   "execution_count": null,
   "metadata": {
    "colab": {
     "base_uri": "https://localhost:8080/"
    },
    "id": "_zeO9SVP32i-",
    "outputId": "d694de36-78b4-4424-b46d-3cc75e2572a1"
   },
   "outputs": [],
   "source": [
    "result.columns"
   ]
  },
  {
   "cell_type": "code",
   "execution_count": null,
   "metadata": {
    "colab": {
     "base_uri": "https://localhost:8080/",
     "height": 1000
    },
    "id": "OyJVkb523iYV",
    "outputId": "f4847dbe-643a-4362-cfbf-f6478f247d2b"
   },
   "outputs": [],
   "source": [
    "display_image(PdfToImage().transform(pdf_example_df).select(\"image\").collect()[0].image)"
   ]
  },
  {
   "cell_type": "code",
   "execution_count": null,
   "metadata": {
    "id": "vFSSheKJ29y7"
   },
   "outputs": [],
   "source": [
    "# Store results to pdf file\n",
    "pdf = result.select(\"pdf\").head().pdf\n",
    "\n",
    "pdfFile = open(\"result.pdf\", \"wb\")\n",
    "\n",
    "pdfFile.write(pdf)\n",
    "\n",
    "pdfFile.close()"
   ]
  },
  {
   "cell_type": "code",
   "execution_count": null,
   "metadata": {
    "colab": {
     "base_uri": "https://localhost:8080/",
     "height": 1000
    },
    "id": "-RACahLy3Mf1",
    "outputId": "d339507e-442e-4ca8-826f-9304d2d63290"
   },
   "outputs": [],
   "source": [
    "# Convert pdf to image and display¶\n",
    "\n",
    "image_df = PdfToImage() \\\n",
    "    .setInputCol(\"pdf\") \\\n",
    "    .setOutputCol(\"image\") \\\n",
    "    .transform(result.select(\"pdf\", \"path\"))\n",
    "\n",
    "for r in image_df.collect():\n",
    "    display_image(r.image)\n"
   ]
  },
  {
   "attachments": {},
   "cell_type": "markdown",
   "metadata": {
    "id": "x5ARha5tYQP8"
   },
   "source": [
    "## Working with PPT Documents"
   ]
  },
  {
   "attachments": {},
   "cell_type": "markdown",
   "metadata": {
    "id": "gRGye5QgcJ0G"
   },
   "source": [
    "### Read PPT document"
   ]
  },
  {
   "cell_type": "code",
   "execution_count": null,
   "metadata": {
    "id": "3iIVjCufYMtL"
   },
   "outputs": [],
   "source": [
    "# Read PPT document as binary file\n",
    "!wget -q https://raw.githubusercontent.com/JohnSnowLabs/spark-nlp-workshop/master/tutorials/Certification_Trainings/Healthcare/data/ocr/Spark_NLP_NER.pptx\n",
    "ppt_example_df = spark.read.format(\"binaryFile\").load('Spark_NLP_NER.pptx').cache()"
   ]
  },
  {
   "cell_type": "code",
   "execution_count": null,
   "metadata": {
    "colab": {
     "base_uri": "https://localhost:8080/",
     "height": 1000
    },
    "id": "n_p2gepXY26-",
    "outputId": "a922cd14-2639-4a49-e2e2-ef7642d7c084"
   },
   "outputs": [],
   "source": [
    "#Read PPT document as binary file¶\n",
    "\n",
    "# convert PPT to PDF\n",
    "pdf_df = PptToPdf() \\\n",
    "    .setOutputCol(\"content\") \\\n",
    "    .transform(ppt_example_df)\n",
    "\n",
    "# Convert PDF to image for display\n",
    "image_df = PdfToImage() \\\n",
    "    .setImageType(ImageType.TYPE_3BYTE_BGR) \\\n",
    "    .transform(pdf_df)\n",
    "\n",
    "display_images(image_df)"
   ]
  },
  {
   "attachments": {},
   "cell_type": "markdown",
   "metadata": {
    "id": "VTVlhdnvcWle"
   },
   "source": [
    "### Extracting table data from PPT documents"
   ]
  },
  {
   "cell_type": "code",
   "execution_count": null,
   "metadata": {
    "id": "FnnAZUGkczFu"
   },
   "outputs": [],
   "source": [
    "from sparkocr.transformers import *\n",
    "from sparkocr.utils import display_images, display_tables, display_pdf\n",
    "from pyspark.sql.functions import collect_list,col"
   ]
  },
  {
   "cell_type": "code",
   "execution_count": null,
   "metadata": {
    "id": "MfuveIJoej2F"
   },
   "outputs": [],
   "source": [
    "# Preview document using PptToPdf and PdfToImage transformers¶\n",
    "image_df = PptToPdf().setOutputCol(\"content\").transform(ppt_example_df)"
   ]
  },
  {
   "cell_type": "code",
   "execution_count": null,
   "metadata": {
    "id": "31fcbWZFfVZP"
   },
   "outputs": [],
   "source": [
    "#Extract tables from PPT using PptToTextTable transformer¶\n",
    "\n",
    "ppt_to_table = PptToTextTable()\n",
    "ppt_to_table.setInputCol(\"content\")\n",
    "ppt_to_table.setOutputCol(\"table\")\n",
    "\n",
    "result = ppt_to_table.transform(ppt_example_df).cache()"
   ]
  },
  {
   "cell_type": "code",
   "execution_count": null,
   "metadata": {
    "colab": {
     "base_uri": "https://localhost:8080/"
    },
    "id": "YUsBBN5yQgJ0",
    "outputId": "150e8a7f-a395-4336-c750-746ae08cf4be"
   },
   "outputs": [],
   "source": [
    "result.show()"
   ]
  },
  {
   "cell_type": "code",
   "execution_count": null,
   "metadata": {
    "colab": {
     "base_uri": "https://localhost:8080/",
     "height": 635
    },
    "id": "zdBTfVyIQh0X",
    "outputId": "ca270fc6-bd3f-42bd-c176-44eaf585462b"
   },
   "outputs": [],
   "source": [
    "display_tables(result)"
   ]
  },
  {
   "attachments": {},
   "cell_type": "markdown",
   "metadata": {
    "id": "0sJIIvpx7k--"
   },
   "source": [
    "## Dicom to Image"
   ]
  },
  {
   "cell_type": "code",
   "execution_count": null,
   "metadata": {
    "id": "BofbrmT15M1l"
   },
   "outputs": [],
   "source": [
    "!mkdir dicom\n",
    "!wget -q https://raw.githubusercontent.com/JohnSnowLabs/spark-ocr-workshop/master/jupyter/data/dicom/deidentify-brains-front-medical-3.dcm -O /content/dicom/dicom_1.dcm\n",
    "!wget -q https://raw.githubusercontent.com/JohnSnowLabs/spark-ocr-workshop/master/jupyter/data/dicom/deidentify-medical-1.dcm  -O /content/dicom/dicom_2.dcm\n",
    "!wget -q https://raw.githubusercontent.com/JohnSnowLabs/spark-ocr-workshop/master/jupyter/data/dicom/deidentify-medical-2.dcm  -O /content/dicom/dicom_3.dcm"
   ]
  },
  {
   "cell_type": "code",
   "execution_count": null,
   "metadata": {
    "colab": {
     "base_uri": "https://localhost:8080/",
     "height": 1000
    },
    "id": "eXwT_FyS5Oq-",
    "outputId": "1397b0ff-a9cc-49c2-dbb2-0ec37c716919"
   },
   "outputs": [],
   "source": [
    "dicom_path = './dicom/*.dcm'\n",
    "\n",
    "# Read dicom file as binary file\n",
    "dicom_df = spark.read.format(\"binaryFile\").load(dicom_path)\n",
    "\n",
    "dicomToImage = DicomToImage() \\\n",
    "  .setInputCol(\"content\") \\\n",
    "  .setOutputCol(\"image\") \\\n",
    "  .setMetadataCol(\"meta\")\n",
    "\n",
    "data = dicomToImage.transform(dicom_df)\n",
    "\n",
    "for image in data.collect():\n",
    "      display_image(image.image)\n",
    "\n"
   ]
  },
  {
   "cell_type": "code",
   "execution_count": null,
   "metadata": {
    "colab": {
     "base_uri": "https://localhost:8080/"
    },
    "id": "XP6dufVm5SSy",
    "outputId": "64503099-57b2-43f7-9b51-13baca07bee2"
   },
   "outputs": [],
   "source": [
    "# Extract text from image\n",
    "ocr = ImageToText() \\\n",
    "    .setInputCol(\"image\") \\\n",
    "    .setOutputCol(\"text\") \\\n",
    "    .setIgnoreResolution(False) \\\n",
    "    .setOcrParams([\"preserve_interword_spaces=0\"])\n",
    "\n",
    "print(\"\\n\".join([row.text for row in ocr.transform(data).select(\"text\").collect()]))"
   ]
  },
  {
   "attachments": {},
   "cell_type": "markdown",
   "metadata": {
    "id": "bex7D6LrP-8g"
   },
   "source": [
    "## Spark OCR for recognize text and store results to HOCR"
   ]
  },
  {
   "cell_type": "code",
   "execution_count": null,
   "metadata": {
    "id": "Ewx6BWmVQI-2"
   },
   "outputs": [],
   "source": [
    "# Transforrm PDF document to images per page\n",
    "pdf_to_image = PdfToImage() \\\n",
    "    .setInputCol(\"content\") \\\n",
    "    .setOutputCol(\"image\") \\\n",
    "    .setImageType(ImageType.TYPE_3BYTE_BGR)\n",
    "\n",
    "# Run OCR\n",
    "ocr = ImageToHocr() \\\n",
    "    .setInputCol(\"image\") \\\n",
    "    .setOutputCol(\"hocr\") \\\n",
    "    .setIgnoreResolution(False)\n",
    "\n",
    "document_assembler = HocrDocumentAssembler() \\\n",
    "    .setInputCol(\"hocr\") \\\n",
    "    .setOutputCol(\"document\")\n",
    "\n",
    "tokenizer = HocrTokenizer() \\\n",
    "    .setInputCol(\"hocr\") \\\n",
    "    .setOutputCol(\"token\") \\\n",
    "\n",
    "draw_annotations = ImageDrawAnnotations() \\\n",
    "    .setInputCol(\"image\") \\\n",
    "    .setInputChunksCol(\"token\") \\\n",
    "    .setOutputCol(\"image_with_annotations\") \\\n",
    "    .setFilledRect(False) \\\n",
    "    .setFontSize(40) \\\n",
    "    .setRectColor(Color.red)\n",
    "\n",
    "pipeline = PipelineModel(stages=[\n",
    "    pdf_to_image,\n",
    "    ocr,\n",
    "    document_assembler,\n",
    "    tokenizer,\n",
    "    draw_annotations\n",
    "])"
   ]
  },
  {
   "cell_type": "code",
   "execution_count": null,
   "metadata": {
    "id": "29NWCwYoQdSY"
   },
   "outputs": [],
   "source": [
    "import pkg_resources\n",
    "pdf_example = pkg_resources.resource_filename('sparkocr', 'resources/ocr/pdfs/test_document.pdf')\n",
    "pdf_example_df = spark.read.format(\"binaryFile\").load(pdf_example).cache()"
   ]
  },
  {
   "cell_type": "code",
   "execution_count": null,
   "metadata": {
    "id": "WoDfR-Q2QgVD"
   },
   "outputs": [],
   "source": [
    "result = pipeline.transform(pdf_example_df).cache()"
   ]
  },
  {
   "cell_type": "code",
   "execution_count": null,
   "metadata": {
    "colab": {
     "base_uri": "https://localhost:8080/"
    },
    "id": "iI25wLZ4QwYJ",
    "outputId": "73fbc507-17eb-4d26-e4ab-363e36717788"
   },
   "outputs": [],
   "source": [
    "result.select(\"pagenum\", \"hocr\").show()"
   ]
  },
  {
   "cell_type": "code",
   "execution_count": null,
   "metadata": {
    "colab": {
     "base_uri": "https://localhost:8080/",
     "height": 1000
    },
    "id": "GdzPpF-oQzHN",
    "outputId": "26cb22cb-e3c5-4050-c45b-dda0cae50504"
   },
   "outputs": [],
   "source": [
    "display_images(result, \"image_with_annotations\", width=1000)"
   ]
  },
  {
   "cell_type": "code",
   "execution_count": null,
   "metadata": {
    "colab": {
     "base_uri": "https://localhost:8080/",
     "height": 1000
    },
    "id": "mAGtNR7yQ40i",
    "outputId": "311ed572-666b-4eda-edc2-a5638c5e1fa7"
   },
   "outputs": [],
   "source": [
    "from IPython.core.display import display, HTML\n",
    "display(HTML(result.select(\"hocr\").collect()[0].hocr))"
   ]
  },
  {
   "attachments": {},
   "cell_type": "markdown",
   "metadata": {
    "id": "5iinTWRIpn0O"
   },
   "source": [
    "## Text Detection in an Image using Regex Patterns"
   ]
  },
  {
   "cell_type": "code",
   "execution_count": null,
   "metadata": {
    "colab": {
     "base_uri": "https://localhost:8080/",
     "height": 1000
    },
    "id": "f-r6doylpqn5",
    "outputId": "c439d50d-fe5b-40ce-e3d7-65de4e17517c"
   },
   "outputs": [],
   "source": [
    "import pkg_resources\n",
    "from pyspark.ml import PipelineModel\n",
    "import pyspark.sql.functions as f\n",
    "from sparkocr.transformers import *\n",
    "from sparkocr.enums import *\n",
    "from sparkocr.utils import display_images\n",
    "\n",
    "\n",
    "imagePath = pkg_resources.resource_filename('sparkocr', 'resources/ocr/text_detection/020_Yas_patella.jpg')\n",
    "image_df = spark.read.format(\"binaryFile\").load(imagePath)\n",
    "\n",
    "display_images(BinaryToImage().setImageType(ImageType.TYPE_3BYTE_BGR).transform(image_df), \"image\")"
   ]
  },
  {
   "cell_type": "code",
   "execution_count": null,
   "metadata": {
    "colab": {
     "base_uri": "https://localhost:8080/"
    },
    "id": "pwyY1SL5pvqk",
    "outputId": "975b0b76-299c-4afa-bbe2-e80d40a4c0f1"
   },
   "outputs": [],
   "source": [
    "binary_to_image = BinaryToImage() \n",
    "binary_to_image.setImageType(ImageType.TYPE_3BYTE_BGR)\n",
    "\n",
    "text_detector = ImageTextDetector.pretrained(\"text_detection_v1\", \"en\", \"clinical/ocr\")\n",
    "text_detector.setInputCol(\"image\")\n",
    "text_detector.setOutputCol(\"text_regions\")\n",
    "text_detector.setSizeThreshold(10)\n",
    "text_detector.setScoreThreshold(0.9)\n",
    "text_detector.setLinkThreshold(0.4)\n",
    "text_detector.setTextThreshold(0.2)\n",
    "text_detector.setWidth(1512)\n",
    "text_detector.setHeight(2016)\n",
    "\n",
    "draw_regions = ImageDrawRegions()\n",
    "draw_regions.setInputCol(\"image\")\n",
    "draw_regions.setInputRegionsCol(\"text_regions\")\n",
    "draw_regions.setOutputCol(\"image_with_regions\")\n",
    "draw_regions.setRectColor(Color.green)\n",
    "draw_regions.setRotated(True)\n",
    "\n",
    "pipeline = PipelineModel(stages=[\n",
    "    binary_to_image,\n",
    "    text_detector,\n",
    "    draw_regions\n",
    "])"
   ]
  },
  {
   "cell_type": "code",
   "execution_count": null,
   "metadata": {
    "colab": {
     "base_uri": "https://localhost:8080/",
     "height": 1000
    },
    "id": "nGkJvdEUpv03",
    "outputId": "d726b9bf-b7f9-4fac-900e-b8eb56afafaf"
   },
   "outputs": [],
   "source": [
    "result =  pipeline.transform(image_df).cache()\n",
    "display_images(result, \"image_with_regions\")"
   ]
  },
  {
   "cell_type": "code",
   "execution_count": null,
   "metadata": {
    "id": "WMYGjxVLDFfd"
   },
   "outputs": [],
   "source": [
    "!wget -q https://raw.githubusercontent.com/JohnSnowLabs/spark-nlp-workshop/master/tutorials/Certification_Trainings/Healthcare/data/ocr/patterns.json"
   ]
  },
  {
   "cell_type": "code",
   "execution_count": null,
   "metadata": {
    "id": "NQcrQvt6qAbv"
   },
   "outputs": [],
   "source": [
    "import sparknlp\n",
    "from sparknlp.base import *\n",
    "from sparknlp.annotator import *\n",
    "from sparknlp.common import *\n",
    "\n",
    "splitter = ImageSplitRegions() \\\n",
    "    .setInputCol(\"image\") \\\n",
    "    .setInputRegionsCol(\"text_regions\") \\\n",
    "    .setOutputCol(\"text_image\") \\\n",
    "    .setDropCols([\"image\"]) \\\n",
    "    .setExplodeCols([\"text_regions\"]) \\\n",
    "    .setRotated(True) \\\n",
    "    .setImageType(ImageType.TYPE_BYTE_GRAY)\n",
    "\n",
    "ocr = ImageToText() \\\n",
    "    .setInputCol(\"text_image\") \\\n",
    "    .setOutputCol(\"text\") \\\n",
    "    .setPageSegMode(PageSegmentationMode.SINGLE_WORD) \\\n",
    "    .setIgnoreResolution(False)\n",
    "\n",
    "documentAssembler = DocumentAssembler() \\\n",
    "    .setInputCol(\"text\") \\\n",
    "    .setOutputCol(\"document\")\n",
    "\n",
    "tokenizer = Tokenizer() \\\n",
    "    .setInputCols([\"document\"]) \\\n",
    "    .setOutputCol(\"token\")\n",
    "\n",
    "entityRuler = EntityRulerApproach() \\\n",
    "    .setInputCols([\"document\", \"token\"]) \\\n",
    "    .setOutputCol(\"entities\") \\\n",
    "    .setPatternsResource(\n",
    "      \"patterns.json\",\n",
    "      ReadAs.TEXT,\n",
    "      {\"format\": \"jsonl\"}\n",
    "    ) \\\n",
    "    .setEnablePatternRegex(True)\n",
    "\n",
    "pipeline_nlp = Pipeline().setStages([\n",
    "    splitter,\n",
    "    ocr,\n",
    "    documentAssembler,\n",
    "    tokenizer,\n",
    "    entityRuler\n",
    "])\n",
    "\n",
    "text_result = pipeline_nlp.fit(result).transform(result).cache()"
   ]
  },
  {
   "cell_type": "code",
   "execution_count": null,
   "metadata": {
    "colab": {
     "base_uri": "https://localhost:8080/"
    },
    "id": "93lmAjRMqD0p",
    "outputId": "66741325-efad-417e-d7eb-8eb4f1cc4eca"
   },
   "outputs": [],
   "source": [
    "%%sh\n",
    "cat patterns.json"
   ]
  },
  {
   "cell_type": "code",
   "execution_count": null,
   "metadata": {
    "colab": {
     "base_uri": "https://localhost:8080/"
    },
    "id": "3WBEOTxHqMMV",
    "outputId": "09204bf5-53ca-4d8d-d2fb-2805dc96b75d"
   },
   "outputs": [],
   "source": [
    "text_result.selectExpr(\"explode(entities)\").show(truncate=False)"
   ]
  },
  {
   "cell_type": "code",
   "execution_count": null,
   "metadata": {
    "colab": {
     "base_uri": "https://localhost:8080/"
    },
    "id": "t_t5M0tGqMPF",
    "outputId": "2c975c21-d7e6-4e6e-c316-d94cedeffe2c"
   },
   "outputs": [],
   "source": [
    "print((\"\").join([x.text for x in text_result.select(\"text\").collect()]))"
   ]
  }
 ],
 "metadata": {
  "colab": {
   "collapsed_sections": [],
   "name": "5.Spark_OCR.ipynb",
   "provenance": [],
   "toc_visible": true
  },
  "kernelspec": {
   "display_name": "Python 3",
   "name": "python3"
  },
  "language_info": {
   "name": "python"
  }
 },
 "nbformat": 4,
 "nbformat_minor": 0
}
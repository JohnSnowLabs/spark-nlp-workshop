{
 "cells": [
  {
   "cell_type": "markdown",
   "metadata": {
    "id": "KLUvt09_tYkw"
   },
   "source": [
    "![JohnSnowLabs](https://nlp.johnsnowlabs.com/assets/images/logo.png)"
   ]
  },
  {
   "cell_type": "markdown",
   "metadata": {
    "id": "Bam0ymGrtYlN"
   },
   "source": [
    "[![Open In Colab](https://colab.research.google.com/assets/colab-badge.svg)](https://colab.research.google.com/github/JohnSnowLabs/spark-nlp-workshop/blob/master/tutorials/Certification_Trainings/Healthcare/5.Spark_OCR.ipynb)"
   ]
  },
  {
   "cell_type": "markdown",
   "metadata": {
    "id": "Niy3mZAjoayg"
   },
   "source": [
    "# Spark OCR "
   ]
  },
  {
   "cell_type": "markdown",
   "metadata": {
    "id": "YNJUQPsXvuSV"
   },
   "source": [
    "\n",
    "## Blogposts and videos\n",
    "\n",
    "- [How to Setup Spark OCR on UBUNTU - Video](https://www.youtube.com/watch?v=cmt4WIcL0nI)\n",
    "\n",
    "- [Installing Spark NLP and Spark OCR in air-gapped networks (offline mode)\n",
    "](https://medium.com/spark-nlp/installing-spark-nlp-and-spark-ocr-in-air-gapped-networks-offline-mode-f42a1ee6b7a8)\n",
    "\n",
    "- [Table Detection & Extraction in Spark OCR](https://medium.com/spark-nlp/table-detection-extraction-in-spark-ocr-50765c6cedc9)\n",
    "\n",
    "- [Signature Detection in Spark OCR](https://medium.com/spark-nlp/signature-detection-in-spark-ocr-32f9e6f91e3c)\n",
    "\n",
    "- [GPU image pre-processing in Spark OCR](https://medium.com/spark-nlp/gpu-image-pre-processing-in-spark-ocr-3-1-0-6fc27560a9bb)\n",
    "\n",
    "**More examples here**\n",
    "\n",
    "https://github.com/JohnSnowLabs/spark-ocr-workshop"
   ]
  },
  {
   "cell_type": "markdown",
   "metadata": {
    "id": "okhT7AcXxben"
   },
   "source": [
    "**Colab Setup**"
   ]
  },
  {
   "cell_type": "code",
   "execution_count": null,
   "metadata": {
    "id": "xhuO1UPFeyvy"
   },
   "outputs": [],
   "source": [
    "import json, os\n",
    "from google.colab import files\n",
    "\n",
    "if 'spark_jsl.json' not in os.listdir():\n",
    "  license_keys = files.upload()\n",
    "  os.rename(list(license_keys.keys())[0], 'spark_ocr.json')\n",
    "\n",
    "with open('spark_ocr.json') as f:\n",
    "    license_keys = json.load(f)\n",
    "\n",
    "# Defining license key-value pairs as local variables\n",
    "locals().update(license_keys)"
   ]
  },
  {
   "cell_type": "code",
   "execution_count": null,
   "metadata": {
    "id": "bWoEaYoB2jpR"
   },
   "outputs": [],
   "source": [
    "# Installing Spark OCR\n",
    "! pip install --upgrade -q spark-ocr==$OCR_VERSION --extra-index-url=https://pypi.johnsnowlabs.com/$SPARK_OCR_SECRET --upgrade\n",
    "\n",
    "# Installing pyspark and spark-nlp\n",
    "! pip install --upgrade -q pyspark==3.2.1 spark-nlp==$PUBLIC_VERSION\n",
    "\n",
    "# Installing Spark NLP Healthcare\"\n",
    "!pip -q install --upgrade spark-nlp-jsl==$JSL_VERSION  --extra-index-url https://pypi.johnsnowlabs.com/$SECRET"
   ]
  },
  {
   "cell_type": "markdown",
   "metadata": {
    "id": "X31h1agcPBrh"
   },
   "source": [
    "<b><h1><font color='darkred'>!!! ATTENTION !!! </font><h1><b>\n",
    "\n",
    "<b>After running previous cell, <font color='darkred'>RESTART the COLAB RUNTIME </font> and go ahead.<b>"
   ]
  },
  {
   "cell_type": "code",
   "execution_count": null,
   "metadata": {
    "id": "Lx0dcQXiInzO",
    "executionInfo": {
     "status": "ok",
     "timestamp": 1681840947216,
     "user_tz": -180,
     "elapsed": 3,
     "user": {
      "displayName": "Monster C",
      "userId": "08787989274818793476"
     }
    }
   },
   "outputs": [],
   "source": [
    "import json, os\n",
    "\n",
    "with open(\"spark_ocr.json\", 'r') as f:\n",
    "  license_keys = json.load(f)\n",
    "\n",
    "# Adding license key-value pairs to environment variables\n",
    "os.environ.update(license_keys)\n",
    "\n",
    "# Defining license key-value pairs as local variables\n",
    "locals().update(license_keys)"
   ]
  },
  {
   "cell_type": "code",
   "execution_count": null,
   "metadata": {
    "id": "lC4Tt3onRBJy",
    "executionInfo": {
     "status": "ok",
     "timestamp": 1681840955919,
     "user_tz": -180,
     "elapsed": 8706,
     "user": {
      "displayName": "Monster C",
      "userId": "08787989274818793476"
     }
    }
   },
   "outputs": [],
   "source": [
    "import sparkocr\n",
    "import sys\n",
    "from pyspark.sql import SparkSession\n",
    "from sparkocr import start\n",
    "import base64\n",
    "from sparkocr.transformers import *\n",
    "from pyspark.ml import PipelineModel\n",
    "from pyspark.sql import functions as F\n",
    "from sparkocr.enums import *\n",
    "from sparkocr.utils import display_images, display_image"
   ]
  },
  {
   "cell_type": "code",
   "execution_count": null,
   "metadata": {
    "colab": {
     "base_uri": "https://localhost:8080/"
    },
    "executionInfo": {
     "elapsed": 45405,
     "status": "ok",
     "timestamp": 1681841001318,
     "user": {
      "displayName": "Monster C",
      "userId": "08787989274818793476"
     },
     "user_tz": -180
    },
    "id": "LME81NOHFjqC",
    "outputId": "e6f42bab-082c-482b-fdca-334100f3e4ab"
   },
   "outputs": [],
   "source": [
    "# Start spark\n",
    "spark = sparkocr.start(secret=SPARK_OCR_SECRET, \n",
    "                       nlp_version=PUBLIC_VERSION\n",
    "                       )"
   ]
  },
  {
   "cell_type": "markdown",
   "metadata": {
    "id": "wrcd5xhwrcC_"
   },
   "source": [
    "## Pdf to Text \n"
   ]
  },
  {
   "cell_type": "code",
   "execution_count": null,
   "metadata": {
    "id": "Kj8tsYfljiBP",
    "executionInfo": {
     "status": "ok",
     "timestamp": 1681841002440,
     "user_tz": -180,
     "elapsed": 1134,
     "user": {
      "displayName": "Monster C",
      "userId": "08787989274818793476"
     }
    }
   },
   "outputs": [],
   "source": [
    "!wget -q -O sample_doc.pdf http://www.asx.com.au/asxpdf/20171103/pdf/43nyyw9r820c6r.pdf"
   ]
  },
  {
   "cell_type": "code",
   "execution_count": null,
   "metadata": {
    "id": "FwAGTafIj4Bi",
    "executionInfo": {
     "status": "ok",
     "timestamp": 1681841002441,
     "user_tz": -180,
     "elapsed": 4,
     "user": {
      "displayName": "Monster C",
      "userId": "08787989274818793476"
     }
    }
   },
   "outputs": [],
   "source": [
    "# Transform PDF document to images per page\n",
    "pdf_to_image = PdfToImage()\\\n",
    "      .setInputCol(\"content\")\\\n",
    "      .setOutputCol(\"image\")\n",
    "\n",
    "# Run OCR\n",
    "ocr = ImageToText()\\\n",
    "      .setInputCol(\"image\")\\\n",
    "      .setOutputCol(\"text\")\\\n",
    "      .setConfidenceThreshold(65)\n",
    "      # .setKeepLayout(True) \\ # to preserve the layout of the input\n",
    "\n",
    "pdf_to_text_pipeline = PipelineModel(stages=[\n",
    "    pdf_to_image,\n",
    "    ocr\n",
    "])"
   ]
  },
  {
   "cell_type": "code",
   "execution_count": null,
   "metadata": {
    "id": "xNh4i1Woj6oo",
    "executionInfo": {
     "status": "ok",
     "timestamp": 1681841005087,
     "user_tz": -180,
     "elapsed": 2649,
     "user": {
      "displayName": "Monster C",
      "userId": "08787989274818793476"
     }
    }
   },
   "outputs": [],
   "source": [
    "pdf = 'sample_doc.pdf'\n",
    "pdf_example_df = spark.read.format(\"binaryFile\").load(pdf).cache()"
   ]
  },
  {
   "cell_type": "code",
   "execution_count": null,
   "metadata": {
    "id": "Tp7a9yMqkCGu",
    "executionInfo": {
     "status": "ok",
     "timestamp": 1681841006395,
     "user_tz": -180,
     "elapsed": 1310,
     "user": {
      "displayName": "Monster C",
      "userId": "08787989274818793476"
     }
    }
   },
   "outputs": [],
   "source": [
    "result = pdf_to_text_pipeline.transform(pdf_example_df).cache()"
   ]
  },
  {
   "cell_type": "code",
   "execution_count": null,
   "metadata": {
    "colab": {
     "base_uri": "https://localhost:8080/"
    },
    "executionInfo": {
     "elapsed": 11718,
     "status": "ok",
     "timestamp": 1681841018111,
     "user": {
      "displayName": "Monster C",
      "userId": "08787989274818793476"
     },
     "user_tz": -180
    },
    "id": "VWND8q95kE47",
    "outputId": "f5477d37-1339-4feb-bc36-eb6982fcb359"
   },
   "outputs": [],
   "source": [
    "result.select(\"pagenum\",\"text\", \"confidence\").show()"
   ]
  },
  {
   "cell_type": "code",
   "execution_count": null,
   "metadata": {
    "colab": {
     "base_uri": "https://localhost:8080/"
    },
    "executionInfo": {
     "elapsed": 13,
     "status": "ok",
     "timestamp": 1681841018111,
     "user": {
      "displayName": "Monster C",
      "userId": "08787989274818793476"
     },
     "user_tz": -180
    },
    "id": "rj7rv4b7kTNo",
    "outputId": "f669af66-d4f1-4b8c-e4a0-a7de13cf5fff"
   },
   "outputs": [],
   "source": [
    "result.select(\"text\").collect()"
   ]
  },
  {
   "cell_type": "code",
   "execution_count": null,
   "metadata": {
    "colab": {
     "base_uri": "https://localhost:8080/"
    },
    "executionInfo": {
     "elapsed": 7,
     "status": "ok",
     "timestamp": 1681841018112,
     "user": {
      "displayName": "Monster C",
      "userId": "08787989274818793476"
     },
     "user_tz": -180
    },
    "id": "bqbnotCfkK58",
    "outputId": "44174599-d137-4123-a27d-aa7b4f144b66"
   },
   "outputs": [],
   "source": [
    "print(\"\\n\".join([row.text for row in result.select(\"text\").collect()]))\n"
   ]
  },
  {
   "cell_type": "markdown",
   "metadata": {
    "id": "kdsJk00Br8CC"
   },
   "source": [
    "###  With Skew Correction"
   ]
  },
  {
   "cell_type": "code",
   "execution_count": null,
   "metadata": {
    "id": "BAXZ3PFNjmgo",
    "executionInfo": {
     "status": "ok",
     "timestamp": 1681841018612,
     "user_tz": -180,
     "elapsed": 504,
     "user": {
      "displayName": "Monster C",
      "userId": "08787989274818793476"
     }
    }
   },
   "outputs": [],
   "source": [
    "from sparkocr.transformers import *\n",
    "from pyspark.ml import PipelineModel\n",
    "from sparkocr.utils import display_image\n",
    "from sparkocr.metrics import score"
   ]
  },
  {
   "cell_type": "code",
   "execution_count": null,
   "metadata": {
    "id": "6cIb7V9IsBNi",
    "executionInfo": {
     "status": "ok",
     "timestamp": 1681841018612,
     "user_tz": -180,
     "elapsed": 4,
     "user": {
      "displayName": "Monster C",
      "userId": "08787989274818793476"
     }
    }
   },
   "outputs": [],
   "source": [
    "def ocr_pipeline(skew_correction=False):\n",
    "    \n",
    "    # Transforrm PDF document to images per page\n",
    "    pdf_to_image = PdfToImage()\\\n",
    "          .setInputCol(\"content\")\\\n",
    "          .setOutputCol(\"image\")\n",
    "\n",
    "    # Image skew corrector \n",
    "    skew_corrector = ImageSkewCorrector()\\\n",
    "          .setInputCol(\"image\")\\\n",
    "          .setOutputCol(\"corrected_image\")\\\n",
    "          .setAutomaticSkewCorrection(skew_correction)\n",
    "\n",
    "    # Run OCR\n",
    "    ocr = ImageToText()\\\n",
    "          .setInputCol(\"corrected_image\")\\\n",
    "          .setOutputCol(\"text\")\n",
    "    \n",
    "    pipeline_ocr = PipelineModel(stages=[\n",
    "        pdf_to_image,\n",
    "        skew_corrector,\n",
    "        ocr\n",
    "    ])\n",
    "    \n",
    "    return pipeline_ocr"
   ]
  },
  {
   "cell_type": "code",
   "execution_count": null,
   "metadata": {
    "id": "OJcxUPPqOois",
    "executionInfo": {
     "status": "ok",
     "timestamp": 1681841019202,
     "user_tz": -180,
     "elapsed": 593,
     "user": {
      "displayName": "Monster C",
      "userId": "08787989274818793476"
     }
    }
   },
   "outputs": [],
   "source": [
    "!wget -q https://raw.githubusercontent.com/JohnSnowLabs/spark-nlp-workshop/master/tutorials/Certification_Trainings/Healthcare/data/ocr/400_rot.pdf"
   ]
  },
  {
   "cell_type": "code",
   "execution_count": null,
   "metadata": {
    "id": "0UlhfHEYtU76",
    "executionInfo": {
     "status": "ok",
     "timestamp": 1681841019202,
     "user_tz": -180,
     "elapsed": 3,
     "user": {
      "displayName": "Monster C",
      "userId": "08787989274818793476"
     }
    }
   },
   "outputs": [],
   "source": [
    "pdf_rotated_df = spark.read.format(\"binaryFile\").load('400_rot.pdf').cache()"
   ]
  },
  {
   "cell_type": "code",
   "execution_count": null,
   "metadata": {
    "id": "bYQe1heJtXYx",
    "executionInfo": {
     "status": "ok",
     "timestamp": 1681841019203,
     "user_tz": -180,
     "elapsed": 3,
     "user": {
      "displayName": "Monster C",
      "userId": "08787989274818793476"
     }
    }
   },
   "outputs": [],
   "source": [
    "pdf_pipeline = ocr_pipeline(False) \n",
    "\n",
    "result = pdf_pipeline.transform(pdf_rotated_df).cache()"
   ]
  },
  {
   "cell_type": "code",
   "execution_count": null,
   "metadata": {
    "colab": {
     "base_uri": "https://localhost:8080/"
    },
    "executionInfo": {
     "elapsed": 9096,
     "status": "ok",
     "timestamp": 1681841028296,
     "user": {
      "displayName": "Monster C",
      "userId": "08787989274818793476"
     },
     "user_tz": -180
    },
    "id": "-5lY6fZnQOj4",
    "outputId": "e46cd1b8-2d9b-457a-d342-7a361a455af4"
   },
   "outputs": [],
   "source": [
    "result.show()"
   ]
  },
  {
   "cell_type": "code",
   "execution_count": null,
   "metadata": {
    "colab": {
     "base_uri": "https://localhost:8080/"
    },
    "executionInfo": {
     "elapsed": 529,
     "status": "ok",
     "timestamp": 1681841028823,
     "user": {
      "displayName": "Monster C",
      "userId": "08787989274818793476"
     },
     "user_tz": -180
    },
    "id": "KIngWL7bQDcb",
    "outputId": "9c6e0f44-a5b7-4e48-b0d3-aeb65c909c70"
   },
   "outputs": [],
   "source": [
    "result.select(\"pagenum\").collect()[0].pagenum"
   ]
  },
  {
   "cell_type": "code",
   "execution_count": null,
   "metadata": {
    "colab": {
     "base_uri": "https://localhost:8080/",
     "height": 1000
    },
    "executionInfo": {
     "elapsed": 2087,
     "status": "ok",
     "timestamp": 1681841030909,
     "user": {
      "displayName": "Monster C",
      "userId": "08787989274818793476"
     },
     "user_tz": -180
    },
    "id": "rR57LCA5PluJ",
    "outputId": "5bc4af96-1cf6-41f3-8ebb-76ee913ba04c"
   },
   "outputs": [],
   "source": [
    "display_image(result.select(\"image\").collect()[0].image)"
   ]
  },
  {
   "cell_type": "markdown",
   "metadata": {
    "id": "dl-Ilq4Zwfhq"
   },
   "source": [
    "### Display recognized text without skew correction\n"
   ]
  },
  {
   "cell_type": "code",
   "execution_count": null,
   "metadata": {
    "colab": {
     "base_uri": "https://localhost:8080/"
    },
    "executionInfo": {
     "elapsed": 10,
     "status": "ok",
     "timestamp": 1681841030910,
     "user": {
      "displayName": "Monster C",
      "userId": "08787989274818793476"
     },
     "user_tz": -180
    },
    "id": "9EU_b2y4tavx",
    "outputId": "2f88ab54-3d98-42d0-9b3c-07ad8534e8c6"
   },
   "outputs": [],
   "source": [
    "result.select(\"pagenum\",\"text\", \"confidence\").show()"
   ]
  },
  {
   "cell_type": "code",
   "execution_count": null,
   "metadata": {
    "colab": {
     "base_uri": "https://localhost:8080/"
    },
    "executionInfo": {
     "elapsed": 6,
     "status": "ok",
     "timestamp": 1681841030910,
     "user": {
      "displayName": "Monster C",
      "userId": "08787989274818793476"
     },
     "user_tz": -180
    },
    "id": "eNxCvtgqwlIC",
    "outputId": "2b84a01c-a20d-4f0d-f23c-bf87b704dbd2"
   },
   "outputs": [],
   "source": [
    "print(\"\\n\".join([row.text for row in result.select(\"text\").collect()]))"
   ]
  },
  {
   "cell_type": "markdown",
   "metadata": {
    "id": "quH_2fczw0Td"
   },
   "source": [
    "### Display results with skew correction"
   ]
  },
  {
   "cell_type": "code",
   "execution_count": null,
   "metadata": {
    "colab": {
     "base_uri": "https://localhost:8080/"
    },
    "executionInfo": {
     "elapsed": 9096,
     "status": "ok",
     "timestamp": 1681841040001,
     "user": {
      "displayName": "Monster C",
      "userId": "08787989274818793476"
     },
     "user_tz": -180
    },
    "id": "6SPde4WBQ-Vt",
    "outputId": "7fcdf263-c461-4990-b804-a260564d8fe1"
   },
   "outputs": [],
   "source": [
    "pdf_pipeline_corrected = ocr_pipeline(True) \n",
    "\n",
    "corrected_result = pdf_pipeline_corrected.transform(pdf_rotated_df).cache()\n",
    "\n",
    "print(\"\\n\".join([row.text for row in corrected_result.select(\"text\").collect()]))\n"
   ]
  },
  {
   "cell_type": "code",
   "execution_count": null,
   "metadata": {
    "colab": {
     "base_uri": "https://localhost:8080/"
    },
    "executionInfo": {
     "elapsed": 18,
     "status": "ok",
     "timestamp": 1681841040001,
     "user": {
      "displayName": "Monster C",
      "userId": "08787989274818793476"
     },
     "user_tz": -180
    },
    "id": "vgn7YFZtw7kY",
    "outputId": "da06c40f-3615-43ef-cceb-d22500e37984"
   },
   "outputs": [],
   "source": [
    "corrected_result.select(\"pagenum\",\"text\", \"confidence\").show()\n"
   ]
  },
  {
   "cell_type": "markdown",
   "metadata": {
    "id": "9Ek0XS9CzBTL"
   },
   "source": [
    "### Display skew corrected images"
   ]
  },
  {
   "cell_type": "code",
   "execution_count": null,
   "metadata": {
    "colab": {
     "base_uri": "https://localhost:8080/",
     "height": 1000
    },
    "executionInfo": {
     "elapsed": 1761,
     "status": "ok",
     "timestamp": 1681841041751,
     "user": {
      "displayName": "Monster C",
      "userId": "08787989274818793476"
     },
     "user_tz": -180
    },
    "id": "iKsIxz7EzCs6",
    "outputId": "5c2fa79d-af26-42b0-85c2-13b0e7f4d23e"
   },
   "outputs": [],
   "source": [
    "display_image(corrected_result.select(\"corrected_image\").collect()[0].corrected_image)"
   ]
  },
  {
   "cell_type": "markdown",
   "metadata": {
    "id": "3FyRn9dHxMU5"
   },
   "source": [
    "### Compute score and compare\n",
    "Read original text and calculate scores for both results."
   ]
  },
  {
   "cell_type": "code",
   "execution_count": null,
   "metadata": {
    "id": "qUsJW3AoRTXd",
    "executionInfo": {
     "status": "ok",
     "timestamp": 1681841041751,
     "user_tz": -180,
     "elapsed": 4,
     "user": {
      "displayName": "Monster C",
      "userId": "08787989274818793476"
     }
    }
   },
   "outputs": [],
   "source": [
    "!wget -q https://raw.githubusercontent.com/JohnSnowLabs/spark-nlp-workshop/master/tutorials/Certification_Trainings/Healthcare/data/ocr/400.txt"
   ]
  },
  {
   "cell_type": "code",
   "execution_count": null,
   "metadata": {
    "colab": {
     "base_uri": "https://localhost:8080/"
    },
    "executionInfo": {
     "elapsed": 1420,
     "status": "ok",
     "timestamp": 1681841043168,
     "user": {
      "displayName": "Monster C",
      "userId": "08787989274818793476"
     },
     "user_tz": -180
    },
    "id": "XszOJzejwAwR",
    "outputId": "3352c496-b499-439c-8e3e-d6ccb4f75ea6"
   },
   "outputs": [],
   "source": [
    "detected = \"\\n\".join([row.text for row in result.collect()])\n",
    "corrected_detected = \"\\n\".join([row.text for row in corrected_result.collect()])\n",
    "\n",
    "# read original text\n",
    "pdf_rotated_text = open('400.txt', \"r\").read()\n",
    "\n",
    "# compute scores\n",
    "detected_score = score(pdf_rotated_text, detected)\n",
    "corrected_score = score(pdf_rotated_text, corrected_detected)\n",
    "\n",
    "#  print scores\n",
    "print(\"Score without skew correction: {0}\".format(detected_score))\n",
    "print(\"Score with skew correction: {0}\".format(corrected_score))"
   ]
  },
  {
   "cell_type": "markdown",
   "metadata": {
    "id": "HT2g2VF4STV8"
   },
   "source": [
    "## Reading multiple pdfs from folder"
   ]
  },
  {
   "cell_type": "code",
   "execution_count": null,
   "metadata": {
    "colab": {
     "base_uri": "https://localhost:8080/"
    },
    "executionInfo": {
     "elapsed": 486,
     "status": "ok",
     "timestamp": 1681841043652,
     "user": {
      "displayName": "Monster C",
      "userId": "08787989274818793476"
     },
     "user_tz": -180
    },
    "id": "EoWSrO2E2WBg",
    "outputId": "9778f9df-ad2a-4d0d-d3b5-bf470487e181"
   },
   "outputs": [],
   "source": [
    "pdf_path = \"/content/*.pdf\"\n",
    "\n",
    "pdfs = spark.read.format(\"binaryFile\").load(pdf_path).cache()\n",
    "#images = spark.read.format(\"binaryFile\").load('text_with_noise.png').cache()\n",
    "\n",
    "pdfs.count()"
   ]
  },
  {
   "cell_type": "code",
   "execution_count": null,
   "metadata": {
    "id": "t1HmMgqLuxvi",
    "executionInfo": {
     "status": "ok",
     "timestamp": 1681841044026,
     "user_tz": -180,
     "elapsed": 7,
     "user": {
      "displayName": "Monster C",
      "userId": "08787989274818793476"
     }
    }
   },
   "outputs": [],
   "source": [
    "# Transforrm PDF document to images per page\n",
    "pdf_to_image = PdfToImage()\\\n",
    "      .setInputCol(\"content\")\\\n",
    "      .setOutputCol(\"image\")\n",
    "\n",
    "# Run OCR\n",
    "ocr = ImageToText()\\\n",
    "      .setInputCol(\"image\")\\\n",
    "      .setOutputCol(\"text\")\\\n",
    "      .setConfidenceThreshold(65)\\\n",
    "      .setIgnoreResolution(False)\n",
    "\n",
    "ocr_pipeline = PipelineModel(stages=[\n",
    "    pdf_to_image,\n",
    "    ocr\n",
    "])\n"
   ]
  },
  {
   "cell_type": "code",
   "execution_count": null,
   "metadata": {
    "id": "vF9M6OC_4UGU",
    "executionInfo": {
     "status": "ok",
     "timestamp": 1681841044026,
     "user_tz": -180,
     "elapsed": 6,
     "user": {
      "displayName": "Monster C",
      "userId": "08787989274818793476"
     }
    }
   },
   "outputs": [],
   "source": [
    "results = ocr_pipeline.transform(pdfs)"
   ]
  },
  {
   "cell_type": "code",
   "execution_count": null,
   "metadata": {
    "colab": {
     "base_uri": "https://localhost:8080/"
    },
    "executionInfo": {
     "elapsed": 6,
     "status": "ok",
     "timestamp": 1681841044027,
     "user": {
      "displayName": "Monster C",
      "userId": "08787989274818793476"
     },
     "user_tz": -180
    },
    "id": "pKfGC4D2aR1d",
    "outputId": "cf7d0f35-84a0-42a2-cb03-eb8082bb58cd"
   },
   "outputs": [],
   "source": [
    "results.columns"
   ]
  },
  {
   "cell_type": "code",
   "execution_count": null,
   "metadata": {
    "colab": {
     "base_uri": "https://localhost:8080/"
    },
    "executionInfo": {
     "elapsed": 9479,
     "status": "ok",
     "timestamp": 1681841053502,
     "user": {
      "displayName": "Monster C",
      "userId": "08787989274818793476"
     },
     "user_tz": -180
    },
    "id": "HBPkZ7QeaTif",
    "outputId": "4e2e63f5-e1c3-43c7-eabb-241c9324d933"
   },
   "outputs": [],
   "source": [
    "results.select('path','confidence','text').show()"
   ]
  },
  {
   "cell_type": "markdown",
   "metadata": {
    "id": "OhPXeIyJUEVh"
   },
   "source": [
    "### Recognize text from PDFs and store results to PDF with text layout"
   ]
  },
  {
   "cell_type": "code",
   "execution_count": null,
   "metadata": {
    "id": "07VEN-HNUQ2z",
    "executionInfo": {
     "status": "ok",
     "timestamp": 1681841053503,
     "user_tz": -180,
     "elapsed": 13,
     "user": {
      "displayName": "Monster C",
      "userId": "08787989274818793476"
     }
    }
   },
   "outputs": [],
   "source": [
    "from sparkocr.utils import display_pdf_file\n",
    "\n",
    "# Transforrm PDF document to images per page\n",
    "pdf_to_image = PdfToImage() \\\n",
    "    .setInputCol(\"content\") \\\n",
    "    .setOutputCol(\"image\")\n",
    "\n",
    "# Run OCR and render results to PDF\n",
    "ocr = ImageToTextPdf() \\\n",
    "    .setInputCol(\"image\") \\\n",
    "    .setOutputCol(\"pdf_page\")\n",
    "\n",
    "# Assemble multipage PDF\n",
    "pdf_assembler = PdfAssembler() \\\n",
    "    .setInputCol(\"pdf_page\") \\\n",
    "    .setOutputCol(\"pdf\")\n",
    "\n",
    "pdf_pipeline = PipelineModel(stages=[\n",
    "    pdf_to_image,\n",
    "    ocr,\n",
    "    pdf_assembler\n",
    "])"
   ]
  },
  {
   "cell_type": "code",
   "execution_count": null,
   "metadata": {
    "id": "ptmGS_a_Y3pi",
    "executionInfo": {
     "status": "ok",
     "timestamp": 1681841054444,
     "user_tz": -180,
     "elapsed": 953,
     "user": {
      "displayName": "Monster C",
      "userId": "08787989274818793476"
     }
    }
   },
   "outputs": [],
   "source": [
    "!wget -q -O sample_doc.pdf http://www.asx.com.au/asxpdf/20171103/pdf/43nyyw9r820c6r.pdf\n",
    "\n",
    "pdf = 'sample_doc.pdf'\n",
    "pdf_example_df = spark.read.format(\"binaryFile\").load(pdf).cache()"
   ]
  },
  {
   "cell_type": "code",
   "execution_count": null,
   "metadata": {
    "colab": {
     "base_uri": "https://localhost:8080/"
    },
    "executionInfo": {
     "elapsed": 906,
     "status": "ok",
     "timestamp": 1681841055348,
     "user": {
      "displayName": "Monster C",
      "userId": "08787989274818793476"
     },
     "user_tz": -180
    },
    "id": "S38fdLVCVYU5",
    "outputId": "6e71fe7a-f8cd-4229-f2a9-cd0f0262a191"
   },
   "outputs": [],
   "source": [
    "pdf_example_df.show()"
   ]
  },
  {
   "cell_type": "code",
   "execution_count": null,
   "metadata": {
    "id": "pRWr9I4dUZ73",
    "executionInfo": {
     "status": "ok",
     "timestamp": 1681841055349,
     "user_tz": -180,
     "elapsed": 3,
     "user": {
      "displayName": "Monster C",
      "userId": "08787989274818793476"
     }
    }
   },
   "outputs": [],
   "source": [
    "result = pdf_pipeline.transform(pdf_example_df)"
   ]
  },
  {
   "cell_type": "code",
   "execution_count": null,
   "metadata": {
    "colab": {
     "base_uri": "https://localhost:8080/"
    },
    "executionInfo": {
     "elapsed": 7827,
     "status": "ok",
     "timestamp": 1681841063173,
     "user": {
      "displayName": "Monster C",
      "userId": "08787989274818793476"
     },
     "user_tz": -180
    },
    "id": "zseUcQzNCMwZ",
    "outputId": "a54ae8a4-1293-48f3-9ce1-3090a5851a56"
   },
   "outputs": [],
   "source": [
    "result.show()"
   ]
  },
  {
   "cell_type": "code",
   "execution_count": null,
   "metadata": {
    "id": "LViCU2CAGq72",
    "executionInfo": {
     "status": "ok",
     "timestamp": 1681841066978,
     "user_tz": -180,
     "elapsed": 3816,
     "user": {
      "displayName": "Monster C",
      "userId": "08787989274818793476"
     }
    }
   },
   "outputs": [],
   "source": [
    "pdf = result.select(\"pdf\").head().pdf"
   ]
  },
  {
   "cell_type": "code",
   "execution_count": null,
   "metadata": {
    "id": "Gmf9UZLNDNxK",
    "executionInfo": {
     "status": "ok",
     "timestamp": 1681841066979,
     "user_tz": -180,
     "elapsed": 13,
     "user": {
      "displayName": "Monster C",
      "userId": "08787989274818793476"
     }
    }
   },
   "outputs": [],
   "source": [
    "with open(\"searchable.pdf\", \"wb\") as pdfFile:\n",
    "  pdfFile.write(pdf)"
   ]
  },
  {
   "cell_type": "markdown",
   "metadata": {
    "id": "kXy09T8mwRJF"
   },
   "source": [
    "## Image processing after reading a pdf"
   ]
  },
  {
   "cell_type": "code",
   "execution_count": null,
   "metadata": {
    "id": "G2O7WqltKVR0",
    "executionInfo": {
     "status": "ok",
     "timestamp": 1681841066979,
     "user_tz": -180,
     "elapsed": 12,
     "user": {
      "displayName": "Monster C",
      "userId": "08787989274818793476"
     }
    }
   },
   "outputs": [],
   "source": [
    "from sparkocr.enums import *\n",
    "\n",
    "# Read binary as image\n",
    "pdf_to_image = PdfToImage()\\\n",
    "  .setInputCol(\"content\")\\\n",
    "  .setOutputCol(\"image\")\\\n",
    "  .setResolution(400)\n",
    "\n",
    "# Binarize using adaptive tresholding\n",
    "binarizer = ImageAdaptiveThresholding()\\\n",
    "  .setInputCol(\"image\")\\\n",
    "  .setOutputCol(\"binarized_image\")\\\n",
    "  .setBlockSize(91)\\\n",
    "  .setOffset(50)\n",
    "\n",
    "# Apply morphology opening\n",
    "opening = ImageMorphologyOperation()\\\n",
    "  .setKernelShape(KernelShape.SQUARE)\\\n",
    "  .setOperation(MorphologyOperationType.OPENING)\\\n",
    "  .setKernelSize(3)\\\n",
    "  .setInputCol(\"binarized_image\")\\\n",
    "  .setOutputCol(\"opening_image\")\n",
    "\n",
    "# Remove small objects\n",
    "remove_objects = ImageRemoveObjects()\\\n",
    "  .setInputCol(\"opening_image\")\\\n",
    "  .setOutputCol(\"corrected_image\")\\\n",
    "  .setMinSizeObject(130)\n",
    "\n",
    "# Image Layout Analyzer for detect regions\n",
    "image_layout_analyzer = ImageLayoutAnalyzer()\\\n",
    "  .setInputCol(\"corrected_image\")\\\n",
    "  .setOutputCol(\"region\")\\\n",
    "\n",
    "draw_regions = ImageDrawRegions()\\\n",
    "  .setInputCol(\"corrected_image\")\\\n",
    "  .setInputRegionsCol(\"region\")\\\n",
    "  .setOutputCol(\"image_with_regions\")\n",
    "\n",
    "# Run tesseract OCR for corrected image\n",
    "ocr_corrected = ImageToText()\\\n",
    "  .setInputCol(\"corrected_image\")\\\n",
    "  .setOutputCol(\"corrected_text\")\\\n",
    "  .setPositionsCol(\"corrected_positions\")\\\n",
    "  .setConfidenceThreshold(65)\n",
    "\n",
    "# Run OCR for original image\n",
    "ocr = ImageToText()\\\n",
    "  .setInputCol(\"image\")\\\n",
    "  .setOutputCol(\"text\")\n",
    "\n",
    "# OCR pipeline\n",
    "image_pipeline = PipelineModel(stages=[\n",
    "    pdf_to_image,\n",
    "    binarizer,\n",
    "    opening,\n",
    "    remove_objects,\n",
    "    image_layout_analyzer,\n",
    "    draw_regions,\n",
    "    ocr,\n",
    "    ocr_corrected\n",
    "])"
   ]
  },
  {
   "cell_type": "code",
   "execution_count": null,
   "metadata": {
    "id": "tM5rz4KwtBEL",
    "executionInfo": {
     "status": "ok",
     "timestamp": 1681841067438,
     "user_tz": -180,
     "elapsed": 471,
     "user": {
      "displayName": "Monster C",
      "userId": "08787989274818793476"
     }
    }
   },
   "outputs": [],
   "source": [
    "!wget -q https://raw.githubusercontent.com/JohnSnowLabs/spark-ocr-workshop/master/jupyter/data/pdfs/noised.pdf"
   ]
  },
  {
   "cell_type": "code",
   "execution_count": null,
   "metadata": {
    "colab": {
     "base_uri": "https://localhost:8080/"
    },
    "executionInfo": {
     "elapsed": 2417,
     "status": "ok",
     "timestamp": 1681841069854,
     "user": {
      "displayName": "Monster C",
      "userId": "08787989274818793476"
     },
     "user_tz": -180
    },
    "id": "JAIAhfJitIPZ",
    "outputId": "218188ab-16d6-49c4-aa2f-e09d1ad86171"
   },
   "outputs": [],
   "source": [
    "image_df = spark.read.format(\"binaryFile\").load('noised.pdf').cache()\n",
    "image_df.show()"
   ]
  },
  {
   "cell_type": "code",
   "execution_count": null,
   "metadata": {
    "id": "VsHSMgLqtOo-",
    "executionInfo": {
     "status": "ok",
     "timestamp": 1681841070698,
     "user_tz": -180,
     "elapsed": 846,
     "user": {
      "displayName": "Monster C",
      "userId": "08787989274818793476"
     }
    }
   },
   "outputs": [],
   "source": [
    "result = image_pipeline.transform(image_df).cache()"
   ]
  },
  {
   "cell_type": "code",
   "execution_count": null,
   "metadata": {
    "colab": {
     "base_uri": "https://localhost:8080/",
     "height": 1000,
     "output_embedded_package_id": "1s3207OX-gx-M7dwmUm_tWxoX3hkdWsOC"
    },
    "executionInfo": {
     "elapsed": 36225,
     "status": "ok",
     "timestamp": 1681841106921,
     "user": {
      "displayName": "Monster C",
      "userId": "08787989274818793476"
     },
     "user_tz": -180
    },
    "id": "wX7phZ3z0BYj",
    "outputId": "efaf9b99-a163-429b-f594-73bcf51f3cbc"
   },
   "outputs": [],
   "source": [
    "for r in result.distinct().collect():\n",
    "    print(\"Original: %s\" % r.path)\n",
    "    display_image(r.image)\n",
    "\n",
    "    print(\"Corrected: %s\" % r.path)\n",
    "    display_image(r.corrected_image)"
   ]
  },
  {
   "cell_type": "markdown",
   "metadata": {
    "id": "VD2BoEMwt8oZ"
   },
   "source": [
    "### Results with original image"
   ]
  },
  {
   "cell_type": "code",
   "execution_count": null,
   "metadata": {
    "colab": {
     "base_uri": "https://localhost:8080/"
    },
    "executionInfo": {
     "elapsed": 518,
     "status": "ok",
     "timestamp": 1681841107436,
     "user": {
      "displayName": "Monster C",
      "userId": "08787989274818793476"
     },
     "user_tz": -180
    },
    "id": "cY__BZUStTVw",
    "outputId": "7fdf52b5-eb2e-45dd-8b52-ac32e39f03be"
   },
   "outputs": [],
   "source": [
    "from termcolor import colored\n",
    "\n",
    "grouped_results = result.groupBy(\"path\", \"pagenum\").agg(F.concat_ws(\"\", F.collect_list(\"text\")).alias(\"text\"))\n",
    "for row in grouped_results.collect():\n",
    "    print(colored(\"Filename:\\n%s , page: %d\" % (row.path, row.pagenum), \"red\"))\n",
    "    print(\"Recognized text:\\n%s\" % row.text)"
   ]
  },
  {
   "cell_type": "markdown",
   "metadata": {
    "id": "mHOpQf8YtgwI"
   },
   "source": [
    "### Results with corrected image\n"
   ]
  },
  {
   "cell_type": "code",
   "execution_count": null,
   "metadata": {
    "colab": {
     "base_uri": "https://localhost:8080/"
    },
    "executionInfo": {
     "elapsed": 9,
     "status": "ok",
     "timestamp": 1681841107436,
     "user": {
      "displayName": "Monster C",
      "userId": "08787989274818793476"
     },
     "user_tz": -180
    },
    "id": "QYLD5GYitUxQ",
    "outputId": "c6be2e2a-2495-438d-d9cb-0ee10dadc56b"
   },
   "outputs": [],
   "source": [
    "grouped_results = result.groupBy(\"path\", \"pagenum\").agg(F.concat_ws(\"\", F.collect_list(\"corrected_text\")).alias(\"corrected_text\"))\n",
    "for row in grouped_results.collect():\n",
    "    print(colored(\"Filename:\\n%s , page: %d\" % (row.path, row.pagenum), \"red\"))\n",
    "    print(\"Recognized text:\\n%s\" % row.corrected_text)"
   ]
  },
  {
   "cell_type": "code",
   "execution_count": null,
   "metadata": {
    "colab": {
     "base_uri": "https://localhost:8080/"
    },
    "executionInfo": {
     "elapsed": 6,
     "status": "ok",
     "timestamp": 1681841107437,
     "user": {
      "displayName": "Monster C",
      "userId": "08787989274818793476"
     },
     "user_tz": -180
    },
    "id": "KmcmM3NquFPW",
    "outputId": "dc976442-7faf-49f1-c03d-d19444aa38ca"
   },
   "outputs": [],
   "source": [
    "result.columns"
   ]
  },
  {
   "cell_type": "markdown",
   "metadata": {
    "id": "_K582Shu1dUj"
   },
   "source": [
    "### Abbyy output"
   ]
  },
  {
   "cell_type": "code",
   "execution_count": null,
   "metadata": {
    "id": "ecBhTMWI1cGF",
    "executionInfo": {
     "status": "ok",
     "timestamp": 1681841107437,
     "user_tz": -180,
     "elapsed": 3,
     "user": {
      "displayName": "Monster C",
      "userId": "08787989274818793476"
     }
    }
   },
   "outputs": [],
   "source": [
    "abbyy = \"\"\"-----\n",
    "% Date: 7/16/68\n",
    "X*: I; * • ■ Sample No. 5031___ — .*\n",
    "•* Original request made by _____Mr. C. L. Tucker, Jr. on\n",
    "Sample specifications written by\n",
    "BLEND CASING RECASING\n",
    "OLD GOLD STRAIGHT Tobacco Blend\n",
    "Control for Sample No. 5030\n",
    "John H. M. Bohlken\n",
    "FINAL FLAVOR\n",
    ") 7/10/68\n",
    "MENTHOL FLAVOR\n",
    "• Cigarettes; * . .v\\ . /,*, *, S •\n",
    "Brand --------- OLD GOLD STRAIGHT -V . ••••\n",
    "; . L e n g t h ------- — 85 mm. . : '\n",
    "Circumference-- 25.3 mm. • ' *;. • •\n",
    "P a p e r ---------- Ecusta 556 • * .\n",
    "F i r m n e s s---- —— OLD GOLD STRAIGHT . ! •■'\n",
    "D r a w ___________ OLD GOLD STRAIGHT\n",
    "W e i g h t --------- 0LD GOLD STRAIGHT Wrappings: « -\n",
    "Tipping Paper — — *\n",
    "p H n f —. — — _ _ ~ L a b e l s ----OLD GOLD STRAIGHT\n",
    "( • Filter Length-- . — Closures--- Standard Blue .\n",
    "^ ^ ; • Tear Tape— Gold\n",
    "Cartons --- OLD GOLD STRAIGHT\n",
    "s Requirements: . - •' • Markings-- Sample number on each\n",
    "• pack and carton Laboratory----- One Tray .\n",
    "O t h e r s --------- * , s • • . 4\n",
    "Laboratory A n a l ysis^ I \" '/***• * 7 ' ^ ^\n",
    "Tars and Nicotine, Taste Panel, Burning Time, Gas Phase Analysis,\n",
    "Benzo (A) Pyrene Analyses — J-ZZ-Zf'- (£. / •\n",
    "Responsibility;\n",
    "Tobacco B l e n d ------Manufacturing - A. Kraus . . * -\n",
    "Filter Production--- —\n",
    "• Making & P a c k i n g---Product Development , John H. M. Bohlken\n",
    "Shipping -----------\n",
    "Reports:\n",
    "t\n",
    "Written by — John H. M. Bohlken\n",
    "Original to - Mr. C. L. Tucker, Jr.\n",
    "Copies t o ---Dr. A. W. Spears\n",
    "• 9 ..\n",
    "\"\"\""
   ]
  },
  {
   "cell_type": "markdown",
   "metadata": {
    "id": "9V7_s8Bs1jZi"
   },
   "source": [
    "### Display original and corrected images with regions\n"
   ]
  },
  {
   "cell_type": "code",
   "execution_count": null,
   "metadata": {
    "colab": {
     "base_uri": "https://localhost:8080/",
     "height": 1000,
     "output_embedded_package_id": "1r89Ufhd2SLJIuNZiaXdftq0M4ZAw2GqB"
    },
    "executionInfo": {
     "elapsed": 4593,
     "status": "ok",
     "timestamp": 1681841112027,
     "user": {
      "displayName": "Monster C",
      "userId": "08787989274818793476"
     },
     "user_tz": -180
    },
    "id": "J5-kjby21fl_",
    "outputId": "f9219787-950e-49ff-d376-c750369efa06"
   },
   "outputs": [],
   "source": [
    "for r in result.select(\"path\",\"image\",\"image_with_regions\").distinct().collect():\n",
    "    print(\"Original: %s\" % r.path)\n",
    "    display_image(r.image)\n",
    "    \n",
    "    print(\"Corrected: %s\" % r.path)\n",
    "    display_image(r.image_with_regions)"
   ]
  },
  {
   "cell_type": "markdown",
   "metadata": {
    "id": "DoR5iX2G989t"
   },
   "source": [
    "## Image (or Natural Scene) to Text"
   ]
  },
  {
   "cell_type": "code",
   "execution_count": null,
   "metadata": {
    "id": "zuaoi9H482Zl",
    "executionInfo": {
     "status": "ok",
     "timestamp": 1681841112028,
     "user_tz": -180,
     "elapsed": 21,
     "user": {
      "displayName": "Monster C",
      "userId": "08787989274818793476"
     }
    }
   },
   "outputs": [],
   "source": [
    "!wget -q https://raw.githubusercontent.com/JohnSnowLabs/spark-ocr-workshop/master/jupyter/data/images/text_with_noise.png"
   ]
  },
  {
   "cell_type": "code",
   "execution_count": null,
   "metadata": {
    "colab": {
     "base_uri": "https://localhost:8080/",
     "height": 897
    },
    "executionInfo": {
     "elapsed": 21,
     "status": "ok",
     "timestamp": 1681841112029,
     "user": {
      "displayName": "Monster C",
      "userId": "08787989274818793476"
     },
     "user_tz": -180
    },
    "id": "iR-lq_0j833B",
    "outputId": "ae902adc-0297-4b72-a495-d8e5bf60a643"
   },
   "outputs": [],
   "source": [
    "image_df = spark.read.format(\"binaryFile\").load('text_with_noise.png').cache()\n",
    "\n",
    "# Read binary as image\n",
    "binary_to_image = BinaryToImage()\n",
    "binary_to_image.setInputCol(\"content\")\n",
    "binary_to_image.setOutputCol(\"image\")\n",
    "\n",
    "# Scale image\n",
    "scaler = ImageScaler()\n",
    "scaler.setInputCol(\"image\")\n",
    "scaler.setOutputCol(\"scaled_image\")\n",
    "scaler.setScaleFactor(2.0)\n",
    "\n",
    "# Binarize using adaptive tresholding\n",
    "binarizer = ImageAdaptiveThresholding()\n",
    "binarizer.setInputCol(\"scaled_image\")\n",
    "binarizer.setOutputCol(\"binarized_image\")\n",
    "binarizer.setBlockSize(71)\n",
    "binarizer.setOffset(65)\n",
    "\n",
    "remove_objects = ImageRemoveObjects()\n",
    "remove_objects.setInputCol(\"binarized_image\")\n",
    "remove_objects.setOutputCol(\"cleared_image\")\n",
    "remove_objects.setMinSizeObject(400)\n",
    "remove_objects.setMaxSizeObject(4000)\n",
    "\n",
    "# Run OCR\n",
    "ocr = ImageToText()\n",
    "ocr.setInputCol(\"cleared_image\")\n",
    "ocr.setOutputCol(\"text\")\n",
    "ocr.setConfidenceThreshold(50)\n",
    "ocr.setIgnoreResolution(False)\n",
    "\n",
    "# OCR pipeline\n",
    "noisy_pipeline = PipelineModel(stages=[\n",
    "    binary_to_image,\n",
    "    scaler,\n",
    "    binarizer,\n",
    "    remove_objects,\n",
    "    ocr\n",
    "])\n",
    "\n",
    "\n",
    "result = noisy_pipeline \\\n",
    ".transform(image_df) \\\n",
    ".cache()\n",
    "\n",
    "\n",
    "for r in result.distinct().collect():\n",
    "    print(\"Original: %s\" % r.path)\n",
    "    display_image(r.image)\n",
    "    print(\"Binarized\")\n",
    "    display_image(r.binarized_image)\n",
    "    print(\"Removing objects\")\n",
    "    display_image(r.cleared_image)\n"
   ]
  },
  {
   "cell_type": "code",
   "execution_count": null,
   "metadata": {
    "colab": {
     "base_uri": "https://localhost:8080/"
    },
    "executionInfo": {
     "elapsed": 17,
     "status": "ok",
     "timestamp": 1681841112030,
     "user": {
      "displayName": "Monster C",
      "userId": "08787989274818793476"
     },
     "user_tz": -180
    },
    "id": "_SRXlRr9_eGk",
    "outputId": "bfcad5d4-94af-40a3-d481-3d76119cd7ca"
   },
   "outputs": [],
   "source": [
    "print(\"\\n\".join([row.text for row in result.select(\"text\").collect()]))"
   ]
  },
  {
   "cell_type": "markdown",
   "metadata": {
    "id": "7VjHI0hjACLI"
   },
   "source": [
    "### Text from Scene"
   ]
  },
  {
   "cell_type": "code",
   "execution_count": null,
   "metadata": {
    "id": "Q5BanjN2AlLK",
    "executionInfo": {
     "status": "ok",
     "timestamp": 1681841112031,
     "user_tz": -180,
     "elapsed": 13,
     "user": {
      "displayName": "Monster C",
      "userId": "08787989274818793476"
     }
    }
   },
   "outputs": [],
   "source": [
    "!wget -q https://raw.githubusercontent.com/JohnSnowLabs/spark-nlp-workshop/master/tutorials/Certification_Trainings/Healthcare/data/ocr/natural_scene.jpeg"
   ]
  },
  {
   "cell_type": "code",
   "execution_count": null,
   "metadata": {
    "colab": {
     "base_uri": "https://localhost:8080/",
     "height": 1000
    },
    "executionInfo": {
     "elapsed": 2958,
     "status": "ok",
     "timestamp": 1681841114979,
     "user": {
      "displayName": "Monster C",
      "userId": "08787989274818793476"
     },
     "user_tz": -180
    },
    "id": "xtu9hpEL9saX",
    "outputId": "7afc159e-bcce-48d8-83c2-d075d42f241a"
   },
   "outputs": [],
   "source": [
    "image_df = spark.read.format(\"binaryFile\").load('natural_scene.jpeg').cache()\n",
    "\n",
    "# Apply morphology opening\n",
    "morpholy_operation = ImageMorphologyOperation()\n",
    "morpholy_operation.setKernelShape(KernelShape.DISK)\n",
    "morpholy_operation.setKernelSize(5)\n",
    "morpholy_operation.setOperation(\"closing\")\n",
    "morpholy_operation.setInputCol(\"cleared_image\")\n",
    "morpholy_operation.setOutputCol(\"corrected_image\")\n",
    "\n",
    "# Run OCR\n",
    "ocr = ImageToText()\n",
    "ocr.setInputCol(\"corrected_image\")\n",
    "ocr.setOutputCol(\"text\")\n",
    "ocr.setConfidenceThreshold(50)\n",
    "ocr.setIgnoreResolution(False)\n",
    "\n",
    "# OCR pipeline\n",
    "scene_pipeline = PipelineModel(stages=[\n",
    "    binary_to_image,\n",
    "    scaler,\n",
    "    binarizer,\n",
    "    remove_objects,\n",
    "    morpholy_operation,\n",
    "    ocr\n",
    "])\n",
    "\n",
    "result = scene_pipeline \\\n",
    ".transform(image_df) \\\n",
    ".cache()\n",
    "\n",
    "\n",
    "for r in result.distinct().collect():\n",
    "    print(\"Original: %s\" % r.path)\n",
    "    display_image(r.image)\n",
    "    print(\"Binarized\")\n",
    "    display_image(r.binarized_image)\n",
    "    print(\"Removing objects\")\n",
    "    display_image(r.cleared_image)\n",
    "    print(\"Morphology closing\")\n",
    "    display_image(r.corrected_image)"
   ]
  },
  {
   "cell_type": "markdown",
   "metadata": {
    "id": "58-RfPri0xk3"
   },
   "source": [
    "## DOCX Processing (version 1.10.0)"
   ]
  },
  {
   "cell_type": "markdown",
   "metadata": {
    "id": "G9oV5wtD8O-8"
   },
   "source": [
    "### Read DOCX document as binary file"
   ]
  },
  {
   "cell_type": "code",
   "execution_count": null,
   "metadata": {
    "id": "kB9dAvMk8Rl3",
    "executionInfo": {
     "status": "ok",
     "timestamp": 1681841114979,
     "user_tz": -180,
     "elapsed": 8,
     "user": {
      "displayName": "Monster C",
      "userId": "08787989274818793476"
     }
    }
   },
   "outputs": [],
   "source": [
    "import pkg_resources\n",
    "doc_example = pkg_resources.resource_filename('sparkocr', 'resources/ocr/docs/doc2.docx')\n",
    "doc_example_df = spark.read.format(\"binaryFile\").load(doc_example).cache()"
   ]
  },
  {
   "cell_type": "markdown",
   "metadata": {
    "id": "LjfPNSar1BsW"
   },
   "source": [
    "### DocxtoText"
   ]
  },
  {
   "cell_type": "markdown",
   "metadata": {
    "id": "TZPHmLAH7b9o"
   },
   "source": [
    "#### Extract text using DocToText transformer"
   ]
  },
  {
   "cell_type": "code",
   "execution_count": null,
   "metadata": {
    "id": "xxRSsOVe0udx",
    "executionInfo": {
     "status": "ok",
     "timestamp": 1681841114979,
     "user_tz": -180,
     "elapsed": 7,
     "user": {
      "displayName": "Monster C",
      "userId": "08787989274818793476"
     }
    }
   },
   "outputs": [],
   "source": [
    "from sparkocr.transformers import *\n",
    "\n",
    "doc_to_text = DocToText()\n",
    "doc_to_text.setInputCol(\"content\")\n",
    "doc_to_text.setOutputCol(\"text\")\n",
    "\n",
    "result = doc_to_text.transform(doc_example_df)"
   ]
  },
  {
   "cell_type": "markdown",
   "metadata": {
    "id": "QMA16ZGt7hGb"
   },
   "source": [
    "#### Display result DataFrame"
   ]
  },
  {
   "cell_type": "code",
   "execution_count": null,
   "metadata": {
    "colab": {
     "base_uri": "https://localhost:8080/"
    },
    "executionInfo": {
     "elapsed": 8,
     "status": "ok",
     "timestamp": 1681841114980,
     "user": {
      "displayName": "Monster C",
      "userId": "08787989274818793476"
     },
     "user_tz": -180
    },
    "id": "vqklj_AV7Hml",
    "outputId": "01eedb0e-123d-44aa-b25d-cffe1831da1d"
   },
   "outputs": [],
   "source": [
    "result.show()"
   ]
  },
  {
   "cell_type": "markdown",
   "metadata": {
    "id": "ETclaT1h7mNT"
   },
   "source": [
    "#### Display extracted text"
   ]
  },
  {
   "cell_type": "code",
   "execution_count": null,
   "metadata": {
    "colab": {
     "base_uri": "https://localhost:8080/"
    },
    "executionInfo": {
     "elapsed": 7,
     "status": "ok",
     "timestamp": 1681841114980,
     "user": {
      "displayName": "Monster C",
      "userId": "08787989274818793476"
     },
     "user_tz": -180
    },
    "id": "Rl3SfEUM7Rs-",
    "outputId": "8bc39815-bd41-4d30-804d-b9b8b896a1b5"
   },
   "outputs": [],
   "source": [
    "print(\"\\n\".join([row.text for row in result.select(\"text\").collect()]))"
   ]
  },
  {
   "cell_type": "markdown",
   "metadata": {
    "id": "u0VlfU6w2AGI"
   },
   "source": [
    "### DocxToTextTable\n",
    "#### (Extracting table data from Microsoft DOCX documents)"
   ]
  },
  {
   "cell_type": "markdown",
   "metadata": {
    "id": "XDazuQyP8mEb"
   },
   "source": [
    "#### Preview document using DocToPdf and PdfToImage transformers"
   ]
  },
  {
   "cell_type": "code",
   "execution_count": null,
   "metadata": {
    "colab": {
     "base_uri": "https://localhost:8080/",
     "height": 1000
    },
    "executionInfo": {
     "elapsed": 3076,
     "status": "ok",
     "timestamp": 1681841118052,
     "user": {
      "displayName": "Monster C",
      "userId": "08787989274818793476"
     },
     "user_tz": -180
    },
    "id": "JVfMqUkk0wkE",
    "outputId": "c8066bc6-1b06-4498-9f43-48cf8de86518"
   },
   "outputs": [],
   "source": [
    "image_df = PdfToImage().transform(DocToPdf().setOutputCol(\"content\").transform(doc_example_df))\n",
    "for r in image_df.select(\"image\").collect():\n",
    "    display_image(r.image)"
   ]
  },
  {
   "cell_type": "markdown",
   "metadata": {
    "id": "6J_p9fBQ9gpJ"
   },
   "source": [
    "#### Extract text using DocToText transformer"
   ]
  },
  {
   "cell_type": "code",
   "execution_count": null,
   "metadata": {
    "colab": {
     "base_uri": "https://localhost:8080/"
    },
    "executionInfo": {
     "elapsed": 1281,
     "status": "ok",
     "timestamp": 1681841119329,
     "user": {
      "displayName": "Monster C",
      "userId": "08787989274818793476"
     },
     "user_tz": -180
    },
    "id": "YNgJGNDr8-M3",
    "outputId": "06f2819a-1836-4206-e4d9-5e93cd2ab347"
   },
   "outputs": [],
   "source": [
    "doc_to_table = DocToTextTable()\n",
    "doc_to_table.setInputCol(\"content\")\n",
    "doc_to_table.setOutputCol(\"tables\")\n",
    "\n",
    "result = doc_to_table.transform(doc_example_df)\n",
    "\n",
    "result.show()"
   ]
  },
  {
   "cell_type": "code",
   "execution_count": null,
   "metadata": {
    "colab": {
     "base_uri": "https://localhost:8080/"
    },
    "executionInfo": {
     "elapsed": 21,
     "status": "ok",
     "timestamp": 1681841119330,
     "user": {
      "displayName": "Monster C",
      "userId": "08787989274818793476"
     },
     "user_tz": -180
    },
    "id": "Tbf6EQW99xhp",
    "outputId": "d2f59b8a-4c99-4727-ed66-9275aed1388b"
   },
   "outputs": [],
   "source": [
    "result.select(result[\"tables.chunks\"].getItem(3)[\"chunkText\"]).show(truncate=False)"
   ]
  },
  {
   "cell_type": "markdown",
   "metadata": {
    "id": "9x5XXSAT-YxT"
   },
   "source": [
    "#### Display extracted data in JSON format"
   ]
  },
  {
   "cell_type": "code",
   "execution_count": null,
   "metadata": {
    "colab": {
     "base_uri": "https://localhost:8080/"
    },
    "executionInfo": {
     "elapsed": 17,
     "status": "ok",
     "timestamp": 1681841119330,
     "user": {
      "displayName": "Monster C",
      "userId": "08787989274818793476"
     },
     "user_tz": -180
    },
    "id": "Ejlbb80W9w6B",
    "outputId": "cb5843ae-6dcb-4f8e-d3a3-c65b68035b0a"
   },
   "outputs": [],
   "source": [
    "import json\n",
    "df_json = result.select(\"tables\").toJSON()\n",
    "for row in df_json.collect():\n",
    "    print(json.dumps(json.loads(row), indent=4))"
   ]
  },
  {
   "cell_type": "markdown",
   "metadata": {
    "id": "RVrFH1DU2DMN"
   },
   "source": [
    "## Text to Pdf"
   ]
  },
  {
   "cell_type": "code",
   "execution_count": null,
   "metadata": {
    "id": "Z09Vuxus2Ccb",
    "executionInfo": {
     "status": "ok",
     "timestamp": 1681841119330,
     "user_tz": -180,
     "elapsed": 13,
     "user": {
      "displayName": "Monster C",
      "userId": "08787989274818793476"
     }
    }
   },
   "outputs": [],
   "source": [
    "def pipeline():\n",
    "    # Transforrm PDF document to images per page\n",
    "    pdf_to_image = PdfToImage() \\\n",
    "        .setInputCol(\"content\") \\\n",
    "        .setOutputCol(\"image\") \\\n",
    "        .setKeepInput(True)\n",
    "    \n",
    "    # Run OCR\n",
    "    ocr = ImageToText() \\\n",
    "        .setInputCol(\"image\") \\\n",
    "        .setOutputCol(\"text\") \\\n",
    "        .setConfidenceThreshold(60) \\\n",
    "        .setIgnoreResolution(False) \\\n",
    "        .setPageSegMode(PageSegmentationMode.SPARSE_TEXT)\n",
    "    \n",
    "    # Render results to PDF\n",
    "    textToPdf = TextToPdf() \\\n",
    "        .setInputCol(\"positions\") \\\n",
    "        .setInputImage(\"image\") \\\n",
    "        .setOutputCol(\"pdf\")\n",
    "\n",
    "    pipeline = PipelineModel(stages=[\n",
    "        pdf_to_image,\n",
    "        ocr,\n",
    "        textToPdf\n",
    "    ])\n",
    "    \n",
    "    return pipeline"
   ]
  },
  {
   "cell_type": "code",
   "execution_count": null,
   "metadata": {
    "id": "3ZjLzzD7sOTq",
    "executionInfo": {
     "status": "ok",
     "timestamp": 1681841119331,
     "user_tz": -180,
     "elapsed": 13,
     "user": {
      "displayName": "Monster C",
      "userId": "08787989274818793476"
     }
    }
   },
   "outputs": [],
   "source": [
    "# !wget -q https://raw.githubusercontent.com/JohnSnowLabs/spark-nlp-workshop/master/tutorials/Certification_Trainings/Healthcare/data/ocr/MT_00.pdf\n",
    "!wget -q https://raw.githubusercontent.com/JohnSnowLabs/spark-nlp-workshop/master/tutorials/Certification_Trainings/Healthcare/data/ocr/test_document.pdf"
   ]
  },
  {
   "cell_type": "code",
   "execution_count": null,
   "metadata": {
    "id": "G81aUZ3q2OVh",
    "executionInfo": {
     "status": "ok",
     "timestamp": 1681841119331,
     "user_tz": -180,
     "elapsed": 13,
     "user": {
      "displayName": "Monster C",
      "userId": "08787989274818793476"
     }
    }
   },
   "outputs": [],
   "source": [
    "# pdf_example_df = spark.read.format(\"binaryFile\").load('MT_00.pdf').cache()\n",
    "pdf_example_df = spark.read.format(\"binaryFile\").load('test_document.pdf').cache()"
   ]
  },
  {
   "cell_type": "code",
   "execution_count": null,
   "metadata": {
    "id": "aKDWZc9h27v0",
    "executionInfo": {
     "status": "ok",
     "timestamp": 1681841119331,
     "user_tz": -180,
     "elapsed": 13,
     "user": {
      "displayName": "Monster C",
      "userId": "08787989274818793476"
     }
    }
   },
   "outputs": [],
   "source": [
    "result = pipeline().transform(pdf_example_df).cache()"
   ]
  },
  {
   "cell_type": "code",
   "execution_count": null,
   "metadata": {
    "colab": {
     "base_uri": "https://localhost:8080/"
    },
    "executionInfo": {
     "elapsed": 13,
     "status": "ok",
     "timestamp": 1681841119332,
     "user": {
      "displayName": "Monster C",
      "userId": "08787989274818793476"
     },
     "user_tz": -180
    },
    "id": "_zeO9SVP32i-",
    "outputId": "b98e7766-cb42-46b0-d6d5-e3d6a3ef6742"
   },
   "outputs": [],
   "source": [
    "result.columns"
   ]
  },
  {
   "cell_type": "code",
   "execution_count": null,
   "metadata": {
    "colab": {
     "base_uri": "https://localhost:8080/",
     "height": 1000,
     "output_embedded_package_id": "1g5Fn0LE3O7GgSZH9xQY42L3ICzmKVtAG"
    },
    "executionInfo": {
     "elapsed": 12546,
     "status": "ok",
     "timestamp": 1681841131872,
     "user": {
      "displayName": "Monster C",
      "userId": "08787989274818793476"
     },
     "user_tz": -180
    },
    "id": "OyJVkb523iYV",
    "outputId": "efd4f3e4-405b-487f-98cc-04516d02a8da"
   },
   "outputs": [],
   "source": [
    "display_image(PdfToImage().transform(pdf_example_df).select(\"image\").collect()[0].image)"
   ]
  },
  {
   "cell_type": "code",
   "execution_count": null,
   "metadata": {
    "id": "vFSSheKJ29y7",
    "executionInfo": {
     "status": "ok",
     "timestamp": 1681841161787,
     "user_tz": -180,
     "elapsed": 29918,
     "user": {
      "displayName": "Monster C",
      "userId": "08787989274818793476"
     }
    }
   },
   "outputs": [],
   "source": [
    "# Store results to pdf file\n",
    "pdf = result.select(\"pdf\").head().pdf\n",
    "\n",
    "pdfFile = open(\"result.pdf\", \"wb\")\n",
    "\n",
    "pdfFile.write(pdf)\n",
    "\n",
    "pdfFile.close()"
   ]
  },
  {
   "cell_type": "code",
   "execution_count": null,
   "metadata": {
    "colab": {
     "base_uri": "https://localhost:8080/",
     "height": 1000,
     "output_embedded_package_id": "1w1jZXxL2g0xT9eYYgrZpOSz-Tjw3FalM"
    },
    "executionInfo": {
     "elapsed": 6868,
     "status": "ok",
     "timestamp": 1681841168651,
     "user": {
      "displayName": "Monster C",
      "userId": "08787989274818793476"
     },
     "user_tz": -180
    },
    "id": "-RACahLy3Mf1",
    "outputId": "21d7f132-2daa-479c-b476-8acfc5fac6c4"
   },
   "outputs": [],
   "source": [
    "# Convert pdf to image and display¶\n",
    "\n",
    "image_df = PdfToImage() \\\n",
    "    .setInputCol(\"pdf\") \\\n",
    "    .setOutputCol(\"image\") \\\n",
    "    .transform(result.select(\"pdf\", \"path\"))\n",
    "\n",
    "for r in image_df.collect():\n",
    "    display_image(r.image)\n"
   ]
  },
  {
   "cell_type": "markdown",
   "metadata": {
    "id": "x5ARha5tYQP8"
   },
   "source": [
    "## Working with PPT Documents"
   ]
  },
  {
   "cell_type": "markdown",
   "metadata": {
    "id": "gRGye5QgcJ0G"
   },
   "source": [
    "### Read PPT document"
   ]
  },
  {
   "cell_type": "code",
   "execution_count": null,
   "metadata": {
    "id": "3iIVjCufYMtL",
    "executionInfo": {
     "status": "ok",
     "timestamp": 1681841168652,
     "user_tz": -180,
     "elapsed": 5,
     "user": {
      "displayName": "Monster C",
      "userId": "08787989274818793476"
     }
    }
   },
   "outputs": [],
   "source": [
    "# Read PPT document as binary file\n",
    "!wget -q https://raw.githubusercontent.com/JohnSnowLabs/spark-nlp-workshop/master/tutorials/Certification_Trainings/Healthcare/data/ocr/Spark_NLP_NER.pptx\n",
    "ppt_example_df = spark.read.format(\"binaryFile\").load('Spark_NLP_NER.pptx').cache()"
   ]
  },
  {
   "cell_type": "code",
   "execution_count": null,
   "metadata": {
    "colab": {
     "base_uri": "https://localhost:8080/",
     "height": 1000
    },
    "executionInfo": {
     "elapsed": 6614,
     "status": "ok",
     "timestamp": 1681841175263,
     "user": {
      "displayName": "Monster C",
      "userId": "08787989274818793476"
     },
     "user_tz": -180
    },
    "id": "n_p2gepXY26-",
    "outputId": "1d26e3d6-bf0c-4d81-aa88-a78667184210"
   },
   "outputs": [],
   "source": [
    "#Read PPT document as binary file¶\n",
    "\n",
    "# convert PPT to PDF\n",
    "pdf_df = PptToPdf() \\\n",
    "    .setOutputCol(\"content\") \\\n",
    "    .transform(ppt_example_df)\n",
    "\n",
    "# Convert PDF to image for display\n",
    "image_df = PdfToImage() \\\n",
    "    .setImageType(ImageType.TYPE_3BYTE_BGR) \\\n",
    "    .transform(pdf_df)\n",
    "\n",
    "display_images(image_df)"
   ]
  },
  {
   "cell_type": "markdown",
   "metadata": {
    "id": "VTVlhdnvcWle"
   },
   "source": [
    "### Extracting table data from PPT documents"
   ]
  },
  {
   "cell_type": "code",
   "execution_count": null,
   "metadata": {
    "id": "FnnAZUGkczFu",
    "executionInfo": {
     "status": "ok",
     "timestamp": 1681841175263,
     "user_tz": -180,
     "elapsed": 14,
     "user": {
      "displayName": "Monster C",
      "userId": "08787989274818793476"
     }
    }
   },
   "outputs": [],
   "source": [
    "from sparkocr.transformers import *\n",
    "from sparkocr.utils import display_images, display_tables, display_pdf\n",
    "from pyspark.sql.functions import collect_list,col"
   ]
  },
  {
   "cell_type": "code",
   "execution_count": null,
   "metadata": {
    "id": "MfuveIJoej2F",
    "executionInfo": {
     "status": "ok",
     "timestamp": 1681841175264,
     "user_tz": -180,
     "elapsed": 15,
     "user": {
      "displayName": "Monster C",
      "userId": "08787989274818793476"
     }
    }
   },
   "outputs": [],
   "source": [
    "# Preview document using PptToPdf and PdfToImage transformers¶\n",
    "image_df = PptToPdf().setOutputCol(\"content\").transform(ppt_example_df)"
   ]
  },
  {
   "cell_type": "code",
   "execution_count": null,
   "metadata": {
    "id": "31fcbWZFfVZP",
    "executionInfo": {
     "status": "ok",
     "timestamp": 1681841175264,
     "user_tz": -180,
     "elapsed": 14,
     "user": {
      "displayName": "Monster C",
      "userId": "08787989274818793476"
     }
    }
   },
   "outputs": [],
   "source": [
    "#Extract tables from PPT using PptToTextTable transformer¶\n",
    "\n",
    "ppt_to_table = PptToTextTable()\n",
    "ppt_to_table.setInputCol(\"content\")\n",
    "ppt_to_table.setOutputCol(\"table\")\n",
    "\n",
    "result = ppt_to_table.transform(ppt_example_df).cache()"
   ]
  },
  {
   "cell_type": "code",
   "execution_count": null,
   "metadata": {
    "colab": {
     "base_uri": "https://localhost:8080/"
    },
    "executionInfo": {
     "elapsed": 771,
     "status": "ok",
     "timestamp": 1681841176021,
     "user": {
      "displayName": "Monster C",
      "userId": "08787989274818793476"
     },
     "user_tz": -180
    },
    "id": "YUsBBN5yQgJ0",
    "outputId": "5f032b8a-e952-44ed-f19f-7545167e7af8"
   },
   "outputs": [],
   "source": [
    "result.show()"
   ]
  },
  {
   "cell_type": "code",
   "execution_count": null,
   "metadata": {
    "colab": {
     "base_uri": "https://localhost:8080/",
     "height": 655
    },
    "executionInfo": {
     "elapsed": 9,
     "status": "ok",
     "timestamp": 1681841176022,
     "user": {
      "displayName": "Monster C",
      "userId": "08787989274818793476"
     },
     "user_tz": -180
    },
    "id": "zdBTfVyIQh0X",
    "outputId": "e37ef8f0-d35a-4fce-e68e-a8809e9a9d52"
   },
   "outputs": [],
   "source": [
    "display_tables(result)"
   ]
  },
  {
   "cell_type": "markdown",
   "metadata": {
    "id": "0sJIIvpx7k--"
   },
   "source": [
    "## Dicom to Image"
   ]
  },
  {
   "cell_type": "code",
   "execution_count": null,
   "metadata": {
    "id": "BofbrmT15M1l",
    "executionInfo": {
     "status": "ok",
     "timestamp": 1681841176822,
     "user_tz": -180,
     "elapsed": 805,
     "user": {
      "displayName": "Monster C",
      "userId": "08787989274818793476"
     }
    }
   },
   "outputs": [],
   "source": [
    "!mkdir dicom\n",
    "!wget -q https://raw.githubusercontent.com/JohnSnowLabs/spark-ocr-workshop/master/jupyter/data/dicom/deidentify-brains-front-medical-3.dcm -O /content/dicom/dicom_1.dcm\n",
    "!wget -q https://raw.githubusercontent.com/JohnSnowLabs/spark-ocr-workshop/master/jupyter/data/dicom/deidentify-medical-1.dcm  -O /content/dicom/dicom_2.dcm\n",
    "!wget -q https://raw.githubusercontent.com/JohnSnowLabs/spark-ocr-workshop/master/jupyter/data/dicom/deidentify-medical-2.dcm  -O /content/dicom/dicom_3.dcm"
   ]
  },
  {
   "cell_type": "code",
   "execution_count": null,
   "metadata": {
    "colab": {
     "base_uri": "https://localhost:8080/",
     "height": 1000
    },
    "executionInfo": {
     "elapsed": 1403,
     "status": "ok",
     "timestamp": 1681841178594,
     "user": {
      "displayName": "Monster C",
      "userId": "08787989274818793476"
     },
     "user_tz": -180
    },
    "id": "eXwT_FyS5Oq-",
    "outputId": "70d7db5c-73a9-40b5-9c9f-5376cef96ae4"
   },
   "outputs": [],
   "source": [
    "dicom_path = './dicom/*.dcm'\n",
    "\n",
    "# Read dicom file as binary file\n",
    "dicom_df = spark.read.format(\"binaryFile\").load(dicom_path)\n",
    "\n",
    "dicomToImage = DicomToImage() \\\n",
    "  .setInputCol(\"content\") \\\n",
    "  .setOutputCol(\"image\") \\\n",
    "  .setMetadataCol(\"meta\")\n",
    "\n",
    "data = dicomToImage.transform(dicom_df)\n",
    "\n",
    "for image in data.collect():\n",
    "      display_image(image.image)\n",
    "\n"
   ]
  },
  {
   "cell_type": "code",
   "execution_count": null,
   "metadata": {
    "colab": {
     "base_uri": "https://localhost:8080/"
    },
    "executionInfo": {
     "elapsed": 437,
     "status": "ok",
     "timestamp": 1681841179027,
     "user": {
      "displayName": "Monster C",
      "userId": "08787989274818793476"
     },
     "user_tz": -180
    },
    "id": "XP6dufVm5SSy",
    "outputId": "54aec89e-65f4-433e-a22b-833210011497"
   },
   "outputs": [],
   "source": [
    "# Extract text from image\n",
    "ocr = ImageToText() \\\n",
    "    .setInputCol(\"image\") \\\n",
    "    .setOutputCol(\"text\") \\\n",
    "    .setIgnoreResolution(False) \\\n",
    "    .setOcrParams([\"preserve_interword_spaces=0\"])\n",
    "\n",
    "print(\"\\n\".join([row.text for row in ocr.transform(data).select(\"text\").collect()]))"
   ]
  },
  {
   "cell_type": "markdown",
   "metadata": {
    "id": "bex7D6LrP-8g"
   },
   "source": [
    "## Spark OCR for recognize text and store results to HOCR"
   ]
  },
  {
   "cell_type": "code",
   "execution_count": null,
   "metadata": {
    "id": "Ewx6BWmVQI-2",
    "executionInfo": {
     "status": "ok",
     "timestamp": 1681841179486,
     "user_tz": -180,
     "elapsed": 461,
     "user": {
      "displayName": "Monster C",
      "userId": "08787989274818793476"
     }
    }
   },
   "outputs": [],
   "source": [
    "# Transforrm PDF document to images per page\n",
    "pdf_to_image = PdfToImage() \\\n",
    "    .setInputCol(\"content\") \\\n",
    "    .setOutputCol(\"image\") \\\n",
    "    .setImageType(ImageType.TYPE_3BYTE_BGR)\n",
    "\n",
    "# Run OCR\n",
    "ocr = ImageToHocr() \\\n",
    "    .setInputCol(\"image\") \\\n",
    "    .setOutputCol(\"hocr\") \\\n",
    "    .setIgnoreResolution(False)\n",
    "\n",
    "document_assembler = HocrDocumentAssembler() \\\n",
    "    .setInputCol(\"hocr\") \\\n",
    "    .setOutputCol(\"document\")\n",
    "\n",
    "tokenizer = HocrTokenizer() \\\n",
    "    .setInputCol(\"hocr\") \\\n",
    "    .setOutputCol(\"token\") \\\n",
    "\n",
    "draw_annotations = ImageDrawAnnotations() \\\n",
    "    .setInputCol(\"image\") \\\n",
    "    .setInputChunksCol(\"token\") \\\n",
    "    .setOutputCol(\"image_with_annotations\") \\\n",
    "    .setFilledRect(False) \\\n",
    "    .setFontSize(40) \\\n",
    "    .setRectColor(Color.red)\n",
    "\n",
    "pipeline = PipelineModel(stages=[\n",
    "    pdf_to_image,\n",
    "    ocr,\n",
    "    document_assembler,\n",
    "    tokenizer,\n",
    "    draw_annotations\n",
    "])"
   ]
  },
  {
   "cell_type": "code",
   "execution_count": null,
   "metadata": {
    "id": "29NWCwYoQdSY",
    "executionInfo": {
     "status": "ok",
     "timestamp": 1681841179486,
     "user_tz": -180,
     "elapsed": 3,
     "user": {
      "displayName": "Monster C",
      "userId": "08787989274818793476"
     }
    }
   },
   "outputs": [],
   "source": [
    "import pkg_resources\n",
    "pdf_example = pkg_resources.resource_filename('sparkocr', 'resources/ocr/pdfs/test_document.pdf')\n",
    "pdf_example_df = spark.read.format(\"binaryFile\").load(pdf_example).cache()"
   ]
  },
  {
   "cell_type": "code",
   "execution_count": null,
   "metadata": {
    "id": "WoDfR-Q2QgVD",
    "executionInfo": {
     "status": "ok",
     "timestamp": 1681841179937,
     "user_tz": -180,
     "elapsed": 453,
     "user": {
      "displayName": "Monster C",
      "userId": "08787989274818793476"
     }
    }
   },
   "outputs": [],
   "source": [
    "result = pipeline.transform(pdf_example_df).cache()"
   ]
  },
  {
   "cell_type": "code",
   "execution_count": null,
   "metadata": {
    "colab": {
     "base_uri": "https://localhost:8080/"
    },
    "executionInfo": {
     "elapsed": 36583,
     "status": "ok",
     "timestamp": 1681841216518,
     "user": {
      "displayName": "Monster C",
      "userId": "08787989274818793476"
     },
     "user_tz": -180
    },
    "id": "iI25wLZ4QwYJ",
    "outputId": "a9c035b2-5530-4298-8fa0-21fce7116676"
   },
   "outputs": [],
   "source": [
    "result.select(\"pagenum\", \"hocr\").show()"
   ]
  },
  {
   "cell_type": "code",
   "execution_count": null,
   "metadata": {
    "colab": {
     "base_uri": "https://localhost:8080/",
     "height": 1000,
     "output_embedded_package_id": "1zfitGCk3LrfkXT2wTyaZ9Uif45eqRhej"
    },
    "executionInfo": {
     "elapsed": 20929,
     "status": "ok",
     "timestamp": 1681841237445,
     "user": {
      "displayName": "Monster C",
      "userId": "08787989274818793476"
     },
     "user_tz": -180
    },
    "id": "GdzPpF-oQzHN",
    "outputId": "2478d808-534e-486d-b9db-d3ab589ac012"
   },
   "outputs": [],
   "source": [
    "display_images(result, \"image_with_annotations\", width=1000)"
   ]
  },
  {
   "cell_type": "code",
   "execution_count": null,
   "metadata": {
    "colab": {
     "base_uri": "https://localhost:8080/",
     "height": 1000
    },
    "executionInfo": {
     "elapsed": 63,
     "status": "ok",
     "timestamp": 1681841237447,
     "user": {
      "displayName": "Monster C",
      "userId": "08787989274818793476"
     },
     "user_tz": -180
    },
    "id": "mAGtNR7yQ40i",
    "outputId": "9a776da5-f0cd-49fe-a3be-921bc3e6bafd"
   },
   "outputs": [],
   "source": [
    "from IPython.core.display import display, HTML\n",
    "display(HTML(result.select(\"hocr\").collect()[0].hocr))"
   ]
  },
  {
   "cell_type": "markdown",
   "metadata": {
    "id": "5iinTWRIpn0O"
   },
   "source": [
    "## Text Detection in an Image using Regex Patterns"
   ]
  },
  {
   "cell_type": "code",
   "execution_count": null,
   "metadata": {
    "colab": {
     "base_uri": "https://localhost:8080/",
     "height": 1000,
     "output_embedded_package_id": "1OyuPSUTElfTLuTw9kOutQ007haGMZcg7"
    },
    "executionInfo": {
     "elapsed": 23415,
     "status": "ok",
     "timestamp": 1681841260815,
     "user": {
      "displayName": "Monster C",
      "userId": "08787989274818793476"
     },
     "user_tz": -180
    },
    "id": "f-r6doylpqn5",
    "outputId": "6c5e48e4-49e4-4274-f45d-80fe2ec6e738"
   },
   "outputs": [],
   "source": [
    "import pkg_resources\n",
    "from pyspark.ml import PipelineModel\n",
    "import pyspark.sql.functions as f\n",
    "from sparkocr.transformers import *\n",
    "from sparkocr.enums import *\n",
    "from sparkocr.utils import display_images\n",
    "\n",
    "\n",
    "imagePath = pkg_resources.resource_filename('sparkocr', 'resources/ocr/text_detection/020_Yas_patella.jpg')\n",
    "image_df = spark.read.format(\"binaryFile\").load(imagePath)\n",
    "\n",
    "display_images(BinaryToImage().setImageType(ImageType.TYPE_3BYTE_BGR).transform(image_df), \"image\")"
   ]
  },
  {
   "cell_type": "code",
   "execution_count": null,
   "metadata": {
    "colab": {
     "base_uri": "https://localhost:8080/"
    },
    "executionInfo": {
     "elapsed": 838,
     "status": "ok",
     "timestamp": 1681841261633,
     "user": {
      "displayName": "Monster C",
      "userId": "08787989274818793476"
     },
     "user_tz": -180
    },
    "id": "pwyY1SL5pvqk",
    "outputId": "aaf6399d-0bd0-4a53-882b-ba49fd6ecb26"
   },
   "outputs": [],
   "source": [
    "binary_to_image = BinaryToImage() \n",
    "binary_to_image.setImageType(ImageType.TYPE_3BYTE_BGR)\n",
    "\n",
    "text_detector = ImageTextDetector.pretrained(\"text_detection_v1\", \"en\", \"clinical/ocr\")\n",
    "text_detector.setInputCol(\"image\")\n",
    "text_detector.setOutputCol(\"text_regions\")\n",
    "text_detector.setSizeThreshold(10)\n",
    "text_detector.setScoreThreshold(0.9)\n",
    "text_detector.setLinkThreshold(0.4)\n",
    "text_detector.setTextThreshold(0.2)\n",
    "text_detector.setWidth(1512)\n",
    "text_detector.setHeight(2016)\n",
    "\n",
    "draw_regions = ImageDrawRegions()\n",
    "draw_regions.setInputCol(\"image\")\n",
    "draw_regions.setInputRegionsCol(\"text_regions\")\n",
    "draw_regions.setOutputCol(\"image_with_regions\")\n",
    "draw_regions.setRectColor(Color.green)\n",
    "draw_regions.setRotated(True)\n",
    "\n",
    "pipeline = PipelineModel(stages=[\n",
    "    binary_to_image,\n",
    "    text_detector,\n",
    "    draw_regions\n",
    "])"
   ]
  },
  {
   "cell_type": "code",
   "execution_count": null,
   "metadata": {
    "colab": {
     "base_uri": "https://localhost:8080/",
     "height": 1000,
     "output_embedded_package_id": "1t2JCpXG6FLgffBX_bieYizZ5aAJb-xr-"
    },
    "id": "nGkJvdEUpv03",
    "outputId": "beb8050d-b841-43c3-e220-29b9fdd03291",
    "executionInfo": {
     "status": "ok",
     "timestamp": 1681841330573,
     "user_tz": -180,
     "elapsed": 68942,
     "user": {
      "displayName": "Monster C",
      "userId": "08787989274818793476"
     }
    }
   },
   "outputs": [],
   "source": [
    "result =  pipeline.transform(image_df).cache()\n",
    "display_images(result, \"image_with_regions\")"
   ]
  },
  {
   "cell_type": "code",
   "source": [
    "# Define a new alphabet\n",
    "\n",
    "symbols = \"\"\":$&(){}[]?/\\\\!><@=#-;,%_“.|'`\"*#^+~€\"\"\"\n",
    "numbers = \"0123456789\"\n",
    "englishAlphabet = \"abcdefghijklmnopqrstuvwxyz\"\n",
    "special = \"β¢£©®—\"\n",
    "\n",
    "chars = symbols + numbers + englishAlphabet + englishAlphabet.upper() +special\n",
    "\n",
    "with open('./custom_alphabet.txt', 'w') as alphabet_file:\n",
    "    alphabet_file.write(chars)"
   ],
   "metadata": {
    "id": "BoGd-dyoKFhQ",
    "executionInfo": {
     "status": "ok",
     "timestamp": 1681841330575,
     "user_tz": -180,
     "elapsed": 34,
     "user": {
      "displayName": "Monster C",
      "userId": "08787989274818793476"
     }
    }
   },
   "execution_count": null,
   "outputs": []
  },
  {
   "cell_type": "code",
   "source": [
    "entities =[   \n",
    "    {\n",
    "        \"id\": \"ref\", \n",
    "        \"label\": \"REF\", \n",
    "        \"patterns\": [\"\\\\d{4}-\\\\d{2}-\\\\d{3}\"],\n",
    "        \"regex\": True\n",
    "    },\n",
    "    {\n",
    "        \"id\": \"date\", \n",
    "        \"label\": \"DATE\", \n",
    "        \"patterns\": [\"\\\\d{4}-\\\\d{2}-\\\\d{2}\"],\n",
    "        \"regex\": True\n",
    "    },\n",
    "    {\n",
    "        \"id\": \"lot\", \n",
    "        \"label\": \"LOT\", \n",
    "        \"patterns\": [\"\\\\d{7}\"],\n",
    "        \"regex\": True\n",
    "    }\n",
    "]\n",
    "\n",
    "with open('./entities.json', 'w') as jsonfile:\n",
    "    json.dump(entities, jsonfile)"
   ],
   "metadata": {
    "id": "Tmd_SdOlGT0V",
    "executionInfo": {
     "status": "ok",
     "timestamp": 1681841330578,
     "user_tz": -180,
     "elapsed": 35,
     "user": {
      "displayName": "Monster C",
      "userId": "08787989274818793476"
     }
    }
   },
   "execution_count": null,
   "outputs": []
  },
  {
   "cell_type": "code",
   "execution_count": null,
   "metadata": {
    "id": "NQcrQvt6qAbv",
    "executionInfo": {
     "status": "ok",
     "timestamp": 1681841330580,
     "user_tz": -180,
     "elapsed": 36,
     "user": {
      "displayName": "Monster C",
      "userId": "08787989274818793476"
     }
    }
   },
   "outputs": [],
   "source": [
    "import sparknlp\n",
    "from sparknlp.base import *\n",
    "from sparknlp.annotator import *\n",
    "from sparknlp.common import *\n",
    "\n",
    "splitter = ImageSplitRegions() \\\n",
    "    .setInputCol(\"image\") \\\n",
    "    .setInputRegionsCol(\"text_regions\") \\\n",
    "    .setOutputCol(\"text_image\") \\\n",
    "    .setDropCols([\"image\"]) \\\n",
    "    .setExplodeCols([\"text_regions\"]) \\\n",
    "    .setRotated(True) \\\n",
    "    .setImageType(ImageType.TYPE_BYTE_GRAY)\n",
    "\n",
    "ocr = ImageToText() \\\n",
    "    .setInputCol(\"text_image\") \\\n",
    "    .setOutputCol(\"text\") \\\n",
    "    .setPageSegMode(PageSegmentationMode.SINGLE_WORD) \\\n",
    "    .setIgnoreResolution(False)\n",
    "\n",
    "documentAssembler = DocumentAssembler() \\\n",
    "    .setInputCol(\"text\") \\\n",
    "    .setOutputCol(\"document\")\n",
    "\n",
    "tokenizer = Tokenizer() \\\n",
    "    .setInputCols([\"document\"]) \\\n",
    "    .setOutputCol(\"token\")\n",
    "    \n",
    "entityRuler = EntityRulerApproach() \\\n",
    "    .setInputCols([\"document\", \"token\"]) \\\n",
    "    .setOutputCol(\"entities\") \\\n",
    "    .setPatternsResource(\"entities.json\") \\\n",
    "    .setAlphabetResource(\"./custom_alphabet.txt\")\n",
    "\n",
    "pipeline_nlp = Pipeline().setStages([\n",
    "    splitter,\n",
    "    ocr,\n",
    "    documentAssembler,\n",
    "    tokenizer,\n",
    "    entityRuler\n",
    "])\n",
    "\n",
    "text_result = pipeline_nlp.fit(result).transform(result).cache()"
   ]
  },
  {
   "cell_type": "code",
   "execution_count": null,
   "metadata": {
    "colab": {
     "base_uri": "https://localhost:8080/"
    },
    "executionInfo": {
     "elapsed": 1029,
     "status": "ok",
     "timestamp": 1681841331578,
     "user": {
      "displayName": "Monster C",
      "userId": "08787989274818793476"
     },
     "user_tz": -180
    },
    "id": "3WBEOTxHqMMV",
    "outputId": "6bff696b-871f-4519-9795-ec09259e619c"
   },
   "outputs": [],
   "source": [
    "text_result.selectExpr(\"explode(entities)\").show(truncate=False)"
   ]
  },
  {
   "cell_type": "code",
   "execution_count": null,
   "metadata": {
    "id": "t_t5M0tGqMPF",
    "colab": {
     "base_uri": "https://localhost:8080/"
    },
    "executionInfo": {
     "status": "ok",
     "timestamp": 1681841331578,
     "user_tz": -180,
     "elapsed": 30,
     "user": {
      "displayName": "Monster C",
      "userId": "08787989274818793476"
     }
    },
    "outputId": "67991bbd-2a7a-43d8-94b9-81e964fdaef0"
   },
   "outputs": [],
   "source": [
    "print((\"\").join([x.text for x in text_result.select(\"text\").collect()]))"
   ]
  }
 ],
 "metadata": {
  "colab": {
   "machine_shape": "hm",
   "provenance": [],
   "toc_visible": true
  },
  "gpuClass": "standard",
  "kernelspec": {
   "display_name": "Python 3",
   "name": "python3"
  },
  "language_info": {
   "name": "python"
  }
 },
 "nbformat": 4,
 "nbformat_minor": 0
}
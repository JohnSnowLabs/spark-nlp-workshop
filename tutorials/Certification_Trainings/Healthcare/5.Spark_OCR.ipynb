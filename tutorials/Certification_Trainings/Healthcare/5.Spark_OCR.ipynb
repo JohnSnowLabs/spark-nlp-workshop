{
 "nbformat": 4,
 "nbformat_minor": 0,
 "metadata": {
  "colab": {
   "name": "5.Spark_OCR.ipynb",
   "provenance": [],
   "collapsed_sections": [],
   "toc_visible": true
  },
  "kernelspec": {
   "name": "python3",
   "display_name": "Python 3"
  },
  "language_info": {
   "name": "python"
  }
 },
 "cells": [
  {
   "cell_type": "markdown",
   "metadata": {
    "id": "Niy3mZAjoayg"
   },
   "source": [
    "# Spark OCR "
   ]
  },
  {
   "cell_type": "markdown",
   "metadata": {
    "id": "YNJUQPsXvuSV"
   },
   "source": [
    "\n",
    "## Blogposts and videos\n",
    "\n",
    "- [How to Setup Spark OCR on UBUNTU - Video](https://www.youtube.com/watch?v=cmt4WIcL0nI)\n",
    "\n",
    "- [Installing Spark NLP and Spark OCR in air-gapped networks (offline mode)\n",
    "](https://medium.com/spark-nlp/installing-spark-nlp-and-spark-ocr-in-air-gapped-networks-offline-mode-f42a1ee6b7a8)\n",
    "\n",
    "- [Table Detection & Extraction in Spark OCR](https://medium.com/spark-nlp/table-detection-extraction-in-spark-ocr-50765c6cedc9)\n",
    "\n",
    "- [Signature Detection in Spark OCR](https://medium.com/spark-nlp/signature-detection-in-spark-ocr-32f9e6f91e3c)\n",
    "\n",
    "- [GPU image pre-processing in Spark OCR](https://medium.com/spark-nlp/gpu-image-pre-processing-in-spark-ocr-3-1-0-6fc27560a9bb)\n",
    "\n",
    "**More examples here**\n",
    "\n",
    "https://github.com/JohnSnowLabs/spark-ocr-workshop"
   ]
  },
  {
   "cell_type": "markdown",
   "metadata": {
    "id": "okhT7AcXxben"
   },
   "source": [
    "**Colab Setup**"
   ]
  },
  {
   "cell_type": "code",
   "source": [
    "import json, os\n",
    "from google.colab import files\n",
    "\n",
    "if 'spark_jsl.json' not in os.listdir():\n",
    "  license_keys = files.upload()\n",
    "  os.rename(list(license_keys.keys())[0], 'spark_ocr.json')\n",
    "\n",
    "with open('spark_ocr.json') as f:\n",
    "    license_keys = json.load(f)\n",
    "\n",
    "# Defining license key-value pairs as local variables\n",
    "locals().update(license_keys)"
   ],
   "metadata": {
    "id": "xhuO1UPFeyvy"
   },
   "execution_count": null,
   "outputs": []
  },
  {
   "cell_type": "code",
   "execution_count": null,
   "metadata": {
    "id": "WkylJaGx-COY"
   },
   "outputs": [],
   "source": [
    "# Installing pyspark and spark-nlp\n",
    "! pip install --upgrade -q pyspark==3.0.2 spark-nlp==$PUBLIC_VERSION\n",
    "\n",
    "# Installing Spark OCR\n",
    "! pip install spark-ocr==$OCR_VERSION\\+spark30 --extra-index-url=https://pypi.johnsnowlabs.com/$SPARK_OCR_SECRET --upgrade"
   ]
  },
  {
   "cell_type": "markdown",
   "metadata": {
    "id": "X31h1agcPBrh"
   },
   "source": [
    "<b><h1><font color='darkred'>!!! ATTENTION !!! </font><h1><b>\n",
    "\n",
    "<b>After running previous cell, <font color='darkred'>RESTART the COLAB RUNTIME </font> and go ahead.<b>"
   ]
  },
  {
   "cell_type": "code",
   "execution_count": null,
   "metadata": {
    "id": "Lx0dcQXiInzO",
    "executionInfo": {
     "status": "ok",
     "timestamp": 1649577684053,
     "user_tz": -120,
     "elapsed": 10,
     "user": {
      "displayName": "Damla",
      "userId": "03285166568766987047"
     }
    }
   },
   "outputs": [],
   "source": [
    "import json, os\n",
    "\n",
    "with open(\"spark_ocr.json\", 'r') as f:\n",
    "  license_keys = json.load(f)\n",
    "\n",
    "# Adding license key-value pairs to environment variables\n",
    "os.environ.update(license_keys)\n",
    "\n",
    "# Defining license key-value pairs as local variables\n",
    "locals().update(license_keys)"
   ]
  },
  {
   "cell_type": "code",
   "execution_count": null,
   "metadata": {
    "id": "lC4Tt3onRBJy",
    "executionInfo": {
     "status": "ok",
     "timestamp": 1649577732104,
     "user_tz": -120,
     "elapsed": 730,
     "user": {
      "displayName": "Damla",
      "userId": "03285166568766987047"
     }
    }
   },
   "outputs": [],
   "source": [
    "import sparkocr\n",
    "import sys\n",
    "from pyspark.sql import SparkSession\n",
    "from sparkocr import start\n",
    "import base64\n",
    "from sparkocr.transformers import *\n",
    "from pyspark.ml import PipelineModel\n",
    "from pyspark.sql import functions as F\n",
    "from sparkocr.enums import *\n",
    "from sparkocr.utils import display_images, display_image"
   ]
  },
  {
   "cell_type": "code",
   "execution_count": null,
   "metadata": {
    "colab": {
     "base_uri": "https://localhost:8080/"
    },
    "id": "LME81NOHFjqC",
    "outputId": "f9dea01b-b973-44bd-e81e-c51a24c8097e",
    "executionInfo": {
     "status": "ok",
     "timestamp": 1649577775988,
     "user_tz": -120,
     "elapsed": 37516,
     "user": {
      "displayName": "Damla",
      "userId": "03285166568766987047"
     }
    }
   },
   "outputs": [],
   "source": [
    "# Start spark\n",
    "spark = sparkocr.start(secret=SPARK_OCR_SECRET, \n",
    "                       nlp_version=PUBLIC_VERSION\n",
    "                       )"
   ]
  },
  {
   "cell_type": "code",
   "source": [
    "spark.conf.set(\"spark.sql.legacy.allowUntypedScalaUDF\", True)\n",
    "print(spark.conf.get(\"spark.sql.legacy.allowUntypedScalaUDF\"))"
   ],
   "metadata": {
    "colab": {
     "base_uri": "https://localhost:8080/"
    },
    "id": "P3dFe0y2bVNP",
    "outputId": "907d4df6-737c-4e38-b461-c5fdb62f335e",
    "executionInfo": {
     "status": "ok",
     "timestamp": 1649577775990,
     "user_tz": -120,
     "elapsed": 25,
     "user": {
      "displayName": "Damla",
      "userId": "03285166568766987047"
     }
    }
   },
   "execution_count": null,
   "outputs": []
  },
  {
   "cell_type": "markdown",
   "metadata": {
    "id": "wrcd5xhwrcC_"
   },
   "source": [
    "## Pdf to Text \n"
   ]
  },
  {
   "cell_type": "code",
   "execution_count": null,
   "metadata": {
    "id": "Kj8tsYfljiBP",
    "executionInfo": {
     "status": "ok",
     "timestamp": 1649577788874,
     "user_tz": -120,
     "elapsed": 1892,
     "user": {
      "displayName": "Damla",
      "userId": "03285166568766987047"
     }
    }
   },
   "outputs": [],
   "source": [
    "!wget -q -O sample_doc.pdf http://www.asx.com.au/asxpdf/20171103/pdf/43nyyw9r820c6r.pdf"
   ]
  },
  {
   "cell_type": "code",
   "execution_count": null,
   "metadata": {
    "id": "FwAGTafIj4Bi",
    "executionInfo": {
     "status": "ok",
     "timestamp": 1649577788875,
     "user_tz": -120,
     "elapsed": 3,
     "user": {
      "displayName": "Damla",
      "userId": "03285166568766987047"
     }
    }
   },
   "outputs": [],
   "source": [
    "# Transform PDF document to images per page\n",
    "pdf_to_image = PdfToImage()\\\n",
    "      .setInputCol(\"content\")\\\n",
    "      .setOutputCol(\"image\")\n",
    "\n",
    "# Run OCR\n",
    "ocr = ImageToText()\\\n",
    "      .setInputCol(\"image\")\\\n",
    "      .setOutputCol(\"text\")\\\n",
    "      .setConfidenceThreshold(65)\n",
    "      # .setKeepLayout(True) \\ # to preserve the layout of the input\n",
    "\n",
    "pdf_to_text_pipeline = PipelineModel(stages=[\n",
    "    pdf_to_image,\n",
    "    ocr\n",
    "])"
   ]
  },
  {
   "cell_type": "code",
   "execution_count": null,
   "metadata": {
    "id": "xNh4i1Woj6oo",
    "executionInfo": {
     "status": "ok",
     "timestamp": 1649577798253,
     "user_tz": -120,
     "elapsed": 4388,
     "user": {
      "displayName": "Damla",
      "userId": "03285166568766987047"
     }
    }
   },
   "outputs": [],
   "source": [
    "pdf = 'sample_doc.pdf'\n",
    "pdf_example_df = spark.read.format(\"binaryFile\").load(pdf).cache()"
   ]
  },
  {
   "cell_type": "code",
   "execution_count": null,
   "metadata": {
    "id": "Tp7a9yMqkCGu",
    "executionInfo": {
     "status": "ok",
     "timestamp": 1649577799070,
     "user_tz": -120,
     "elapsed": 821,
     "user": {
      "displayName": "Damla",
      "userId": "03285166568766987047"
     }
    }
   },
   "outputs": [],
   "source": [
    "result = pdf_to_text_pipeline.transform(pdf_example_df).cache()"
   ]
  },
  {
   "cell_type": "code",
   "execution_count": null,
   "metadata": {
    "colab": {
     "base_uri": "https://localhost:8080/"
    },
    "id": "VWND8q95kE47",
    "outputId": "f53f1405-af1c-4715-8393-18cdd76a9027",
    "executionInfo": {
     "status": "ok",
     "timestamp": 1649577811962,
     "user_tz": -120,
     "elapsed": 12896,
     "user": {
      "displayName": "Damla",
      "userId": "03285166568766987047"
     }
    }
   },
   "outputs": [],
   "source": [
    "result.select(\"pagenum\",\"text\", \"confidence\").show()"
   ]
  },
  {
   "cell_type": "code",
   "execution_count": null,
   "metadata": {
    "colab": {
     "base_uri": "https://localhost:8080/"
    },
    "id": "rj7rv4b7kTNo",
    "outputId": "2e8de896-6b02-408d-97a3-40d07d20451a",
    "executionInfo": {
     "status": "ok",
     "timestamp": 1649577820510,
     "user_tz": -120,
     "elapsed": 833,
     "user": {
      "displayName": "Damla",
      "userId": "03285166568766987047"
     }
    }
   },
   "outputs": [],
   "source": [
    "result.select(\"text\").collect()"
   ]
  },
  {
   "cell_type": "code",
   "execution_count": null,
   "metadata": {
    "colab": {
     "base_uri": "https://localhost:8080/"
    },
    "id": "bqbnotCfkK58",
    "outputId": "3dfef18b-c5cd-47c7-cc47-1476b4c3f14e",
    "executionInfo": {
     "status": "ok",
     "timestamp": 1649577869317,
     "user_tz": -120,
     "elapsed": 342,
     "user": {
      "displayName": "Damla",
      "userId": "03285166568766987047"
     }
    }
   },
   "outputs": [],
   "source": [
    "print(\"\\n\".join([row.text for row in result.select(\"text\").collect()]))\n"
   ]
  },
  {
   "cell_type": "markdown",
   "metadata": {
    "id": "kdsJk00Br8CC"
   },
   "source": [
    "###  With Skew Correction"
   ]
  },
  {
   "cell_type": "code",
   "execution_count": null,
   "metadata": {
    "id": "BAXZ3PFNjmgo",
    "executionInfo": {
     "status": "ok",
     "timestamp": 1649577876018,
     "user_tz": -120,
     "elapsed": 472,
     "user": {
      "displayName": "Damla",
      "userId": "03285166568766987047"
     }
    }
   },
   "outputs": [],
   "source": [
    "from sparkocr.transformers import *\n",
    "from pyspark.ml import PipelineModel\n",
    "from sparkocr.utils import display_image\n",
    "from sparkocr.metrics import score"
   ]
  },
  {
   "cell_type": "code",
   "execution_count": null,
   "metadata": {
    "id": "6cIb7V9IsBNi",
    "executionInfo": {
     "status": "ok",
     "timestamp": 1649577878894,
     "user_tz": -120,
     "elapsed": 402,
     "user": {
      "displayName": "Damla",
      "userId": "03285166568766987047"
     }
    }
   },
   "outputs": [],
   "source": [
    "def ocr_pipeline(skew_correction=False):\n",
    "    \n",
    "    # Transforrm PDF document to images per page\n",
    "    pdf_to_image = PdfToImage()\\\n",
    "          .setInputCol(\"content\")\\\n",
    "          .setOutputCol(\"image\")\n",
    "\n",
    "    # Image skew corrector \n",
    "    skew_corrector = ImageSkewCorrector()\\\n",
    "          .setInputCol(\"image\")\\\n",
    "          .setOutputCol(\"corrected_image\")\\\n",
    "          .setAutomaticSkewCorrection(skew_correction)\n",
    "\n",
    "    # Run OCR\n",
    "    ocr = ImageToText()\\\n",
    "          .setInputCol(\"corrected_image\")\\\n",
    "          .setOutputCol(\"text\")\n",
    "    \n",
    "    pipeline_ocr = PipelineModel(stages=[\n",
    "        pdf_to_image,\n",
    "        skew_corrector,\n",
    "        ocr\n",
    "    ])\n",
    "    \n",
    "    return pipeline_ocr"
   ]
  },
  {
   "cell_type": "code",
   "execution_count": null,
   "metadata": {
    "id": "OJcxUPPqOois",
    "executionInfo": {
     "status": "ok",
     "timestamp": 1649577881449,
     "user_tz": -120,
     "elapsed": 1143,
     "user": {
      "displayName": "Damla",
      "userId": "03285166568766987047"
     }
    }
   },
   "outputs": [],
   "source": [
    "!wget -q https://raw.githubusercontent.com/JohnSnowLabs/spark-nlp-workshop/master/tutorials/Certification_Trainings/Healthcare/data/ocr/400_rot.pdf"
   ]
  },
  {
   "cell_type": "code",
   "execution_count": null,
   "metadata": {
    "id": "0UlhfHEYtU76",
    "executionInfo": {
     "status": "ok",
     "timestamp": 1649577883052,
     "user_tz": -120,
     "elapsed": 383,
     "user": {
      "displayName": "Damla",
      "userId": "03285166568766987047"
     }
    }
   },
   "outputs": [],
   "source": [
    "pdf_rotated_df = spark.read.format(\"binaryFile\").load('400_rot.pdf').cache()"
   ]
  },
  {
   "cell_type": "code",
   "execution_count": null,
   "metadata": {
    "id": "bYQe1heJtXYx",
    "executionInfo": {
     "status": "ok",
     "timestamp": 1649577884769,
     "user_tz": -120,
     "elapsed": 406,
     "user": {
      "displayName": "Damla",
      "userId": "03285166568766987047"
     }
    }
   },
   "outputs": [],
   "source": [
    "pdf_pipeline = ocr_pipeline(False) \n",
    "\n",
    "result = pdf_pipeline.transform(pdf_rotated_df).cache()"
   ]
  },
  {
   "cell_type": "code",
   "execution_count": null,
   "metadata": {
    "colab": {
     "base_uri": "https://localhost:8080/"
    },
    "id": "-5lY6fZnQOj4",
    "outputId": "5e8ef453-57f0-418c-c6b2-9a25407d32b9",
    "executionInfo": {
     "status": "ok",
     "timestamp": 1649577894927,
     "user_tz": -120,
     "elapsed": 9871,
     "user": {
      "displayName": "Damla",
      "userId": "03285166568766987047"
     }
    }
   },
   "outputs": [],
   "source": [
    "result.show()"
   ]
  },
  {
   "cell_type": "code",
   "execution_count": null,
   "metadata": {
    "colab": {
     "base_uri": "https://localhost:8080/"
    },
    "id": "KIngWL7bQDcb",
    "outputId": "433f527f-9fc0-4db6-f0da-4d2e25be1fa6",
    "executionInfo": {
     "status": "ok",
     "timestamp": 1649577895366,
     "user_tz": -120,
     "elapsed": 454,
     "user": {
      "displayName": "Damla",
      "userId": "03285166568766987047"
     }
    }
   },
   "outputs": [],
   "source": [
    "result.select(\"pagenum\").collect()[0].pagenum"
   ]
  },
  {
   "cell_type": "code",
   "execution_count": null,
   "metadata": {
    "colab": {
     "base_uri": "https://localhost:8080/",
     "height": 1000
    },
    "id": "rR57LCA5PluJ",
    "outputId": "79779974-4742-4458-b379-bab8471524d0",
    "executionInfo": {
     "status": "ok",
     "timestamp": 1649577898082,
     "user_tz": -120,
     "elapsed": 2721,
     "user": {
      "displayName": "Damla",
      "userId": "03285166568766987047"
     }
    }
   },
   "outputs": [],
   "source": [
    "display_image(result.select(\"image\").collect()[0].image)"
   ]
  },
  {
   "cell_type": "markdown",
   "metadata": {
    "id": "dl-Ilq4Zwfhq"
   },
   "source": [
    "### Display recognized text without skew correction\n"
   ]
  },
  {
   "cell_type": "code",
   "execution_count": null,
   "metadata": {
    "colab": {
     "base_uri": "https://localhost:8080/"
    },
    "id": "9EU_b2y4tavx",
    "outputId": "d6c5dd03-f7f7-4981-910b-c38743095b1c",
    "executionInfo": {
     "status": "ok",
     "timestamp": 1649577907204,
     "user_tz": -120,
     "elapsed": 701,
     "user": {
      "displayName": "Damla",
      "userId": "03285166568766987047"
     }
    }
   },
   "outputs": [],
   "source": [
    "result.select(\"pagenum\",\"text\", \"confidence\").show()"
   ]
  },
  {
   "cell_type": "code",
   "execution_count": null,
   "metadata": {
    "colab": {
     "base_uri": "https://localhost:8080/"
    },
    "id": "eNxCvtgqwlIC",
    "outputId": "72a1a0ff-6f19-49b5-ff42-8e29a5e1379d",
    "executionInfo": {
     "status": "ok",
     "timestamp": 1649577911038,
     "user_tz": -120,
     "elapsed": 912,
     "user": {
      "displayName": "Damla",
      "userId": "03285166568766987047"
     }
    }
   },
   "outputs": [],
   "source": [
    "print(\"\\n\".join([row.text for row in result.select(\"text\").collect()]))"
   ]
  },
  {
   "cell_type": "markdown",
   "metadata": {
    "id": "quH_2fczw0Td"
   },
   "source": [
    "### Display results with skew correction"
   ]
  },
  {
   "cell_type": "code",
   "execution_count": null,
   "metadata": {
    "colab": {
     "base_uri": "https://localhost:8080/"
    },
    "id": "6SPde4WBQ-Vt",
    "outputId": "8a47b81b-cdf7-484f-deaa-282b3c0ea0f8",
    "executionInfo": {
     "status": "ok",
     "timestamp": 1649577929182,
     "user_tz": -120,
     "elapsed": 15577,
     "user": {
      "displayName": "Damla",
      "userId": "03285166568766987047"
     }
    }
   },
   "outputs": [],
   "source": [
    "pdf_pipeline_corrected = ocr_pipeline(True) \n",
    "\n",
    "corrected_result = pdf_pipeline_corrected.transform(pdf_rotated_df).cache()\n",
    "\n",
    "print(\"\\n\".join([row.text for row in corrected_result.select(\"text\").collect()]))\n"
   ]
  },
  {
   "cell_type": "code",
   "execution_count": null,
   "metadata": {
    "colab": {
     "base_uri": "https://localhost:8080/"
    },
    "id": "vgn7YFZtw7kY",
    "outputId": "e43ff54e-1e40-4f13-bb7c-e575f9ffee59",
    "executionInfo": {
     "status": "ok",
     "timestamp": 1649577955934,
     "user_tz": -120,
     "elapsed": 728,
     "user": {
      "displayName": "Damla",
      "userId": "03285166568766987047"
     }
    }
   },
   "outputs": [],
   "source": [
    "corrected_result.select(\"pagenum\",\"text\", \"confidence\").show()\n"
   ]
  },
  {
   "cell_type": "markdown",
   "metadata": {
    "id": "9Ek0XS9CzBTL"
   },
   "source": [
    "### Display skew corrected images"
   ]
  },
  {
   "cell_type": "code",
   "execution_count": null,
   "metadata": {
    "colab": {
     "base_uri": "https://localhost:8080/",
     "height": 1000
    },
    "id": "iKsIxz7EzCs6",
    "outputId": "e844a557-11dc-4e3b-85ff-4ab1df4f424e",
    "executionInfo": {
     "status": "ok",
     "timestamp": 1649577958275,
     "user_tz": -120,
     "elapsed": 1537,
     "user": {
      "displayName": "Damla",
      "userId": "03285166568766987047"
     }
    }
   },
   "outputs": [],
   "source": [
    "display_image(corrected_result.select(\"corrected_image\").collect()[0].corrected_image)"
   ]
  },
  {
   "cell_type": "markdown",
   "metadata": {
    "id": "3FyRn9dHxMU5"
   },
   "source": [
    "### Compute score and compare\n",
    "Read original text and calculate scores for both results."
   ]
  },
  {
   "cell_type": "code",
   "execution_count": null,
   "metadata": {
    "id": "qUsJW3AoRTXd"
   },
   "outputs": [],
   "source": [
    "!wget -q https://raw.githubusercontent.com/JohnSnowLabs/spark-nlp-workshop/master/tutorials/Certification_Trainings/Healthcare/data/ocr/400.txt"
   ]
  },
  {
   "cell_type": "code",
   "execution_count": null,
   "metadata": {
    "colab": {
     "base_uri": "https://localhost:8080/"
    },
    "id": "XszOJzejwAwR",
    "outputId": "5e201d69-b896-4f76-8ad9-e79cfe6fc876",
    "executionInfo": {
     "status": "ok",
     "timestamp": 1649577971423,
     "user_tz": -120,
     "elapsed": 3536,
     "user": {
      "displayName": "Damla",
      "userId": "03285166568766987047"
     }
    }
   },
   "outputs": [],
   "source": [
    "detected = \"\\n\".join([row.text for row in result.collect()])\n",
    "corrected_detected = \"\\n\".join([row.text for row in corrected_result.collect()])\n",
    "\n",
    "# read original text\n",
    "pdf_rotated_text = open('400.txt', \"r\").read()\n",
    "\n",
    "# compute scores\n",
    "detected_score = score(pdf_rotated_text, detected)\n",
    "corrected_score = score(pdf_rotated_text, corrected_detected)\n",
    "\n",
    "#  print scores\n",
    "print(\"Score without skew correction: {0}\".format(detected_score))\n",
    "print(\"Score with skew correction: {0}\".format(corrected_score))"
   ]
  },
  {
   "cell_type": "markdown",
   "metadata": {
    "id": "HT2g2VF4STV8"
   },
   "source": [
    "## Reading multiple pdfs from folder"
   ]
  },
  {
   "cell_type": "code",
   "execution_count": null,
   "metadata": {
    "colab": {
     "base_uri": "https://localhost:8080/"
    },
    "id": "EoWSrO2E2WBg",
    "outputId": "7d3a1f4a-1bba-43a3-a633-63c41001be98",
    "executionInfo": {
     "status": "ok",
     "timestamp": 1649577997214,
     "user_tz": -120,
     "elapsed": 1067,
     "user": {
      "displayName": "Damla",
      "userId": "03285166568766987047"
     }
    }
   },
   "outputs": [],
   "source": [
    "pdf_path = \"/content/*.pdf\"\n",
    "\n",
    "pdfs = spark.read.format(\"binaryFile\").load(pdf_path).cache()\n",
    "#images = spark.read.format(\"binaryFile\").load('text_with_noise.png').cache()\n",
    "\n",
    "pdfs.count()"
   ]
  },
  {
   "cell_type": "code",
   "execution_count": null,
   "metadata": {
    "id": "t1HmMgqLuxvi",
    "executionInfo": {
     "status": "ok",
     "timestamp": 1649578000977,
     "user_tz": -120,
     "elapsed": 328,
     "user": {
      "displayName": "Damla",
      "userId": "03285166568766987047"
     }
    }
   },
   "outputs": [],
   "source": [
    "# Transforrm PDF document to images per page\n",
    "pdf_to_image = PdfToImage()\\\n",
    "      .setInputCol(\"content\")\\\n",
    "      .setOutputCol(\"image\")\n",
    "\n",
    "# Run OCR\n",
    "ocr = ImageToText()\\\n",
    "      .setInputCol(\"image\")\\\n",
    "      .setOutputCol(\"text\")\\\n",
    "      .setConfidenceThreshold(65)\\\n",
    "      .setIgnoreResolution(False)\n",
    "\n",
    "ocr_pipeline = PipelineModel(stages=[\n",
    "    pdf_to_image,\n",
    "    ocr\n",
    "])\n"
   ]
  },
  {
   "cell_type": "code",
   "execution_count": null,
   "metadata": {
    "id": "vF9M6OC_4UGU",
    "executionInfo": {
     "status": "ok",
     "timestamp": 1649578002628,
     "user_tz": -120,
     "elapsed": 247,
     "user": {
      "displayName": "Damla",
      "userId": "03285166568766987047"
     }
    }
   },
   "outputs": [],
   "source": [
    "results = ocr_pipeline.transform(pdfs)"
   ]
  },
  {
   "cell_type": "code",
   "execution_count": null,
   "metadata": {
    "colab": {
     "base_uri": "https://localhost:8080/"
    },
    "id": "pKfGC4D2aR1d",
    "outputId": "499257a0-8672-4a8b-e8dc-7366df9a00f3",
    "executionInfo": {
     "status": "ok",
     "timestamp": 1649578003709,
     "user_tz": -120,
     "elapsed": 5,
     "user": {
      "displayName": "Damla",
      "userId": "03285166568766987047"
     }
    }
   },
   "outputs": [],
   "source": [
    "results.columns"
   ]
  },
  {
   "cell_type": "code",
   "execution_count": null,
   "metadata": {
    "colab": {
     "base_uri": "https://localhost:8080/"
    },
    "id": "HBPkZ7QeaTif",
    "outputId": "ee5e98f5-d063-4a9d-9949-c9ff81e9b0b9",
    "executionInfo": {
     "status": "ok",
     "timestamp": 1649578017770,
     "user_tz": -120,
     "elapsed": 12959,
     "user": {
      "displayName": "Damla",
      "userId": "03285166568766987047"
     }
    }
   },
   "outputs": [],
   "source": [
    "results.select('path','confidence','text').show()"
   ]
  },
  {
   "cell_type": "markdown",
   "metadata": {
    "id": "OhPXeIyJUEVh"
   },
   "source": [
    "### Recognize text from PDFs and store results to PDF with text layout"
   ]
  },
  {
   "cell_type": "code",
   "execution_count": null,
   "metadata": {
    "id": "07VEN-HNUQ2z",
    "executionInfo": {
     "status": "ok",
     "timestamp": 1649578024153,
     "user_tz": -120,
     "elapsed": 391,
     "user": {
      "displayName": "Damla",
      "userId": "03285166568766987047"
     }
    }
   },
   "outputs": [],
   "source": [
    "from sparkocr.utils import display_pdf_file\n",
    "\n",
    "# Transforrm PDF document to images per page\n",
    "pdf_to_image = PdfToImage() \\\n",
    "    .setInputCol(\"content\") \\\n",
    "    .setOutputCol(\"image\")\n",
    "\n",
    "# Run OCR and render results to PDF\n",
    "ocr = ImageToTextPdf() \\\n",
    "    .setInputCol(\"image\") \\\n",
    "    .setOutputCol(\"pdf_page\")\n",
    "\n",
    "# Assemble multipage PDF\n",
    "pdf_assembler = PdfAssembler() \\\n",
    "    .setInputCol(\"pdf_page\") \\\n",
    "    .setOutputCol(\"pdf\")\n",
    "\n",
    "pdf_pipeline = PipelineModel(stages=[\n",
    "    pdf_to_image,\n",
    "    ocr,\n",
    "    pdf_assembler\n",
    "])"
   ]
  },
  {
   "cell_type": "code",
   "source": [
    "!wget -q -O sample_doc.pdf http://www.asx.com.au/asxpdf/20171103/pdf/43nyyw9r820c6r.pdf\n",
    "\n",
    "pdf = 'sample_doc.pdf'\n",
    "pdf_example_df = spark.read.format(\"binaryFile\").load(pdf).cache()"
   ],
   "metadata": {
    "id": "ptmGS_a_Y3pi",
    "executionInfo": {
     "status": "ok",
     "timestamp": 1649578026753,
     "user_tz": -120,
     "elapsed": 1598,
     "user": {
      "displayName": "Damla",
      "userId": "03285166568766987047"
     }
    }
   },
   "execution_count": null,
   "outputs": []
  },
  {
   "cell_type": "code",
   "execution_count": null,
   "metadata": {
    "colab": {
     "base_uri": "https://localhost:8080/"
    },
    "id": "S38fdLVCVYU5",
    "outputId": "bee5ffa3-68df-4b44-c62d-faed09b80978",
    "executionInfo": {
     "status": "ok",
     "timestamp": 1649578029245,
     "user_tz": -120,
     "elapsed": 1168,
     "user": {
      "displayName": "Damla",
      "userId": "03285166568766987047"
     }
    }
   },
   "outputs": [],
   "source": [
    "pdf_example_df.show()"
   ]
  },
  {
   "cell_type": "code",
   "execution_count": null,
   "metadata": {
    "id": "pRWr9I4dUZ73",
    "executionInfo": {
     "status": "ok",
     "timestamp": 1649578030521,
     "user_tz": -120,
     "elapsed": 449,
     "user": {
      "displayName": "Damla",
      "userId": "03285166568766987047"
     }
    }
   },
   "outputs": [],
   "source": [
    "result = pdf_pipeline.transform(pdf_example_df)"
   ]
  },
  {
   "cell_type": "code",
   "execution_count": null,
   "metadata": {
    "colab": {
     "base_uri": "https://localhost:8080/"
    },
    "id": "zseUcQzNCMwZ",
    "outputId": "2117d77e-27d1-4c77-e836-426718f1692c",
    "executionInfo": {
     "status": "ok",
     "timestamp": 1649578041872,
     "user_tz": -120,
     "elapsed": 11353,
     "user": {
      "displayName": "Damla",
      "userId": "03285166568766987047"
     }
    }
   },
   "outputs": [],
   "source": [
    "result.show()"
   ]
  },
  {
   "cell_type": "code",
   "execution_count": null,
   "metadata": {
    "id": "LViCU2CAGq72",
    "executionInfo": {
     "status": "ok",
     "timestamp": 1649578050185,
     "user_tz": -120,
     "elapsed": 8331,
     "user": {
      "displayName": "Damla",
      "userId": "03285166568766987047"
     }
    }
   },
   "outputs": [],
   "source": [
    "pdf = result.select(\"pdf\").head().pdf"
   ]
  },
  {
   "cell_type": "code",
   "execution_count": null,
   "metadata": {
    "id": "Gmf9UZLNDNxK",
    "executionInfo": {
     "status": "ok",
     "timestamp": 1649578050186,
     "user_tz": -120,
     "elapsed": 9,
     "user": {
      "displayName": "Damla",
      "userId": "03285166568766987047"
     }
    }
   },
   "outputs": [],
   "source": [
    "with open(\"searchable.pdf\", \"wb\") as pdfFile:\n",
    "  pdfFile.write(pdf)"
   ]
  },
  {
   "cell_type": "markdown",
   "metadata": {
    "id": "kXy09T8mwRJF"
   },
   "source": [
    "## Image processing after reading a pdf"
   ]
  },
  {
   "cell_type": "code",
   "execution_count": null,
   "metadata": {
    "id": "G2O7WqltKVR0",
    "executionInfo": {
     "status": "ok",
     "timestamp": 1649578053843,
     "user_tz": -120,
     "elapsed": 522,
     "user": {
      "displayName": "Damla",
      "userId": "03285166568766987047"
     }
    }
   },
   "outputs": [],
   "source": [
    "from sparkocr.enums import *\n",
    "\n",
    "# Read binary as image\n",
    "pdf_to_image = PdfToImage()\\\n",
    "  .setInputCol(\"content\")\\\n",
    "  .setOutputCol(\"image\")\\\n",
    "  .setResolution(400)\n",
    "\n",
    "# Binarize using adaptive tresholding\n",
    "binarizer = ImageAdaptiveThresholding()\\\n",
    "  .setInputCol(\"image\")\\\n",
    "  .setOutputCol(\"binarized_image\")\\\n",
    "  .setBlockSize(91)\\\n",
    "  .setOffset(50)\n",
    "\n",
    "# Apply morphology opening\n",
    "opening = ImageMorphologyOperation()\\\n",
    "  .setKernelShape(KernelShape.SQUARE)\\\n",
    "  .setOperation(MorphologyOperationType.OPENING)\\\n",
    "  .setKernelSize(3)\\\n",
    "  .setInputCol(\"binarized_image\")\\\n",
    "  .setOutputCol(\"opening_image\")\n",
    "\n",
    "# Remove small objects\n",
    "remove_objects = ImageRemoveObjects()\\\n",
    "  .setInputCol(\"opening_image\")\\\n",
    "  .setOutputCol(\"corrected_image\")\\\n",
    "  .setMinSizeObject(130)\n",
    "\n",
    "# Image Layout Analyzer for detect regions\n",
    "image_layout_analyzer = ImageLayoutAnalyzer()\\\n",
    "  .setInputCol(\"corrected_image\")\\\n",
    "  .setOutputCol(\"region\")\\\n",
    "\n",
    "draw_regions = ImageDrawRegions()\\\n",
    "  .setInputCol(\"corrected_image\")\\\n",
    "  .setInputRegionsCol(\"region\")\\\n",
    "  .setOutputCol(\"image_with_regions\")\n",
    "\n",
    "# Run tesseract OCR for corrected image\n",
    "ocr_corrected = ImageToText()\\\n",
    "  .setInputCol(\"corrected_image\")\\\n",
    "  .setOutputCol(\"corrected_text\")\\\n",
    "  .setPositionsCol(\"corrected_positions\")\\\n",
    "  .setConfidenceThreshold(65)\n",
    "\n",
    "# Run OCR for original image\n",
    "ocr = ImageToText()\\\n",
    "  .setInputCol(\"image\")\\\n",
    "  .setOutputCol(\"text\")\n",
    "\n",
    "# OCR pipeline\n",
    "image_pipeline = PipelineModel(stages=[\n",
    "    pdf_to_image,\n",
    "    binarizer,\n",
    "    opening,\n",
    "    remove_objects,\n",
    "    image_layout_analyzer,\n",
    "    draw_regions,\n",
    "    ocr,\n",
    "    ocr_corrected\n",
    "])"
   ]
  },
  {
   "cell_type": "code",
   "execution_count": null,
   "metadata": {
    "id": "tM5rz4KwtBEL",
    "executionInfo": {
     "status": "ok",
     "timestamp": 1649578057641,
     "user_tz": -120,
     "elapsed": 1030,
     "user": {
      "displayName": "Damla",
      "userId": "03285166568766987047"
     }
    }
   },
   "outputs": [],
   "source": [
    "!wget -q https://raw.githubusercontent.com/JohnSnowLabs/spark-ocr-workshop/master/jupyter/data/pdfs/noised.pdf"
   ]
  },
  {
   "cell_type": "code",
   "execution_count": null,
   "metadata": {
    "colab": {
     "base_uri": "https://localhost:8080/"
    },
    "id": "JAIAhfJitIPZ",
    "outputId": "72ca4778-149c-4d48-eb2a-5591feb32e40",
    "executionInfo": {
     "status": "ok",
     "timestamp": 1649578063242,
     "user_tz": -120,
     "elapsed": 5604,
     "user": {
      "displayName": "Damla",
      "userId": "03285166568766987047"
     }
    }
   },
   "outputs": [],
   "source": [
    "image_df = spark.read.format(\"binaryFile\").load('noised.pdf').cache()\n",
    "image_df.show()"
   ]
  },
  {
   "cell_type": "code",
   "execution_count": null,
   "metadata": {
    "id": "VsHSMgLqtOo-",
    "executionInfo": {
     "status": "ok",
     "timestamp": 1649578063773,
     "user_tz": -120,
     "elapsed": 534,
     "user": {
      "displayName": "Damla",
      "userId": "03285166568766987047"
     }
    }
   },
   "outputs": [],
   "source": [
    "result = image_pipeline.transform(image_df).cache()"
   ]
  },
  {
   "cell_type": "code",
   "execution_count": null,
   "metadata": {
    "colab": {
     "base_uri": "https://localhost:8080/",
     "height": 1000,
     "output_embedded_package_id": "1e6hbppIBwSwdZ9rxcmV8Bhh7Di1zcY9i"
    },
    "id": "wX7phZ3z0BYj",
    "outputId": "39a471ee-2a27-4e90-c989-75e42d07968c",
    "executionInfo": {
     "status": "ok",
     "timestamp": 1649578109929,
     "user_tz": -120,
     "elapsed": 46159,
     "user": {
      "displayName": "Damla",
      "userId": "03285166568766987047"
     }
    }
   },
   "outputs": [],
   "source": [
    "for r in result.distinct().collect():\n",
    "    print(\"Original: %s\" % r.path)\n",
    "    display_image(r.image)\n",
    "\n",
    "    print(\"Corrected: %s\" % r.path)\n",
    "    display_image(r.corrected_image)"
   ]
  },
  {
   "cell_type": "markdown",
   "metadata": {
    "id": "VD2BoEMwt8oZ"
   },
   "source": [
    "### Results with original image"
   ]
  },
  {
   "cell_type": "code",
   "execution_count": null,
   "metadata": {
    "colab": {
     "base_uri": "https://localhost:8080/"
    },
    "id": "cY__BZUStTVw",
    "outputId": "32fc3e43-96d6-41de-a1fd-b41bb8b6c255",
    "executionInfo": {
     "status": "ok",
     "timestamp": 1649578110477,
     "user_tz": -120,
     "elapsed": 563,
     "user": {
      "displayName": "Damla",
      "userId": "03285166568766987047"
     }
    }
   },
   "outputs": [],
   "source": [
    "from termcolor import colored\n",
    "\n",
    "grouped_results = result.groupBy(\"path\", \"pagenum\").agg(F.concat_ws(\"\", F.collect_list(\"text\")).alias(\"text\"))\n",
    "for row in grouped_results.collect():\n",
    "    print(colored(\"Filename:\\n%s , page: %d\" % (row.path, row.pagenum), \"red\"))\n",
    "    print(\"Recognized text:\\n%s\" % row.text)"
   ]
  },
  {
   "cell_type": "markdown",
   "metadata": {
    "id": "mHOpQf8YtgwI"
   },
   "source": [
    "### Results with corrected image\n"
   ]
  },
  {
   "cell_type": "code",
   "execution_count": null,
   "metadata": {
    "colab": {
     "base_uri": "https://localhost:8080/"
    },
    "id": "QYLD5GYitUxQ",
    "outputId": "4f4a3352-49b3-4a1b-df93-2a21c56cafc3",
    "executionInfo": {
     "status": "ok",
     "timestamp": 1649578136330,
     "user_tz": -120,
     "elapsed": 2561,
     "user": {
      "displayName": "Damla",
      "userId": "03285166568766987047"
     }
    }
   },
   "outputs": [],
   "source": [
    "grouped_results = result.groupBy(\"path\", \"pagenum\").agg(F.concat_ws(\"\", F.collect_list(\"corrected_text\")).alias(\"corrected_text\"))\n",
    "for row in grouped_results.collect():\n",
    "    print(colored(\"Filename:\\n%s , page: %d\" % (row.path, row.pagenum), \"red\"))\n",
    "    print(\"Recognized text:\\n%s\" % row.corrected_text)"
   ]
  },
  {
   "cell_type": "code",
   "execution_count": null,
   "metadata": {
    "colab": {
     "base_uri": "https://localhost:8080/"
    },
    "id": "KmcmM3NquFPW",
    "outputId": "65be09c9-a42c-4e3d-8d91-8165bfdf1871",
    "executionInfo": {
     "status": "ok",
     "timestamp": 1649578149946,
     "user_tz": -120,
     "elapsed": 459,
     "user": {
      "displayName": "Damla",
      "userId": "03285166568766987047"
     }
    }
   },
   "outputs": [],
   "source": [
    "result.columns"
   ]
  },
  {
   "cell_type": "markdown",
   "metadata": {
    "id": "_K582Shu1dUj"
   },
   "source": [
    "### Abbyy output"
   ]
  },
  {
   "cell_type": "code",
   "execution_count": null,
   "metadata": {
    "id": "ecBhTMWI1cGF",
    "executionInfo": {
     "status": "ok",
     "timestamp": 1649578151316,
     "user_tz": -120,
     "elapsed": 2,
     "user": {
      "displayName": "Damla",
      "userId": "03285166568766987047"
     }
    }
   },
   "outputs": [],
   "source": [
    "abbyy = \"\"\"-----\n",
    "% Date: 7/16/68\n",
    "X*: I; * • ■ Sample No. 5031___ — .*\n",
    "•* Original request made by _____Mr. C. L. Tucker, Jr. on\n",
    "Sample specifications written by\n",
    "BLEND CASING RECASING\n",
    "OLD GOLD STRAIGHT Tobacco Blend\n",
    "Control for Sample No. 5030\n",
    "John H. M. Bohlken\n",
    "FINAL FLAVOR\n",
    ") 7/10/68\n",
    "MENTHOL FLAVOR\n",
    "• Cigarettes; * . .v\\ . /,*, *, S •\n",
    "Brand --------- OLD GOLD STRAIGHT -V . ••••\n",
    "; . L e n g t h ------- — 85 mm. . : '\n",
    "Circumference-- 25.3 mm. • ' *;. • •\n",
    "P a p e r ---------- Ecusta 556 • * .\n",
    "F i r m n e s s---- —— OLD GOLD STRAIGHT . ! •■'\n",
    "D r a w ___________ OLD GOLD STRAIGHT\n",
    "W e i g h t --------- 0LD GOLD STRAIGHT Wrappings: « -\n",
    "Tipping Paper — — *\n",
    "p H n f —. — — _ _ ~ L a b e l s ----OLD GOLD STRAIGHT\n",
    "( • Filter Length-- . — Closures--- Standard Blue .\n",
    "^ ^ ; • Tear Tape— Gold\n",
    "Cartons --- OLD GOLD STRAIGHT\n",
    "s Requirements: . - •' • Markings-- Sample number on each\n",
    "• pack and carton Laboratory----- One Tray .\n",
    "O t h e r s --------- * , s • • . 4\n",
    "Laboratory A n a l ysis^ I \" '/***• * 7 ' ^ ^\n",
    "Tars and Nicotine, Taste Panel, Burning Time, Gas Phase Analysis,\n",
    "Benzo (A) Pyrene Analyses — J-ZZ-Zf'- (£. / •\n",
    "Responsibility;\n",
    "Tobacco B l e n d ------Manufacturing - A. Kraus . . * -\n",
    "Filter Production--- —\n",
    "• Making & P a c k i n g---Product Development , John H. M. Bohlken\n",
    "Shipping -----------\n",
    "Reports:\n",
    "t\n",
    "Written by — John H. M. Bohlken\n",
    "Original to - Mr. C. L. Tucker, Jr.\n",
    "Copies t o ---Dr. A. W. Spears\n",
    "• 9 ..\n",
    "\"\"\""
   ]
  },
  {
   "cell_type": "markdown",
   "metadata": {
    "id": "9V7_s8Bs1jZi"
   },
   "source": [
    "### Display original and corrected images with regions\n"
   ]
  },
  {
   "cell_type": "code",
   "execution_count": null,
   "metadata": {
    "colab": {
     "base_uri": "https://localhost:8080/",
     "height": 1000,
     "output_embedded_package_id": "1xCQCWO0C0TcPm1Gb0pkXkGtfUTM8zZKs"
    },
    "id": "J5-kjby21fl_",
    "outputId": "132bdb0b-9478-4c2a-dc2f-1ad785f16510",
    "executionInfo": {
     "status": "ok",
     "timestamp": 1649578163066,
     "user_tz": -120,
     "elapsed": 7525,
     "user": {
      "displayName": "Damla",
      "userId": "03285166568766987047"
     }
    }
   },
   "outputs": [],
   "source": [
    "for r in result.select(\"path\",\"image\",\"image_with_regions\").distinct().collect():\n",
    "    print(\"Original: %s\" % r.path)\n",
    "    display_image(r.image)\n",
    "    \n",
    "    print(\"Corrected: %s\" % r.path)\n",
    "    display_image(r.image_with_regions)"
   ]
  },
  {
   "cell_type": "markdown",
   "metadata": {
    "id": "DoR5iX2G989t"
   },
   "source": [
    "## Image (or Natural Scene) to Text"
   ]
  },
  {
   "cell_type": "code",
   "execution_count": null,
   "metadata": {
    "id": "zuaoi9H482Zl",
    "executionInfo": {
     "status": "ok",
     "timestamp": 1649578169771,
     "user_tz": -120,
     "elapsed": 324,
     "user": {
      "displayName": "Damla",
      "userId": "03285166568766987047"
     }
    }
   },
   "outputs": [],
   "source": [
    "!wget -q https://raw.githubusercontent.com/JohnSnowLabs/spark-ocr-workshop/master/jupyter/data/images/text_with_noise.png"
   ]
  },
  {
   "cell_type": "code",
   "execution_count": null,
   "metadata": {
    "colab": {
     "base_uri": "https://localhost:8080/",
     "height": 1000
    },
    "id": "iR-lq_0j833B",
    "outputId": "1d25bf99-24c4-4c10-a04b-cd5aee77e0f9",
    "executionInfo": {
     "status": "ok",
     "timestamp": 1649578180819,
     "user_tz": -120,
     "elapsed": 8170,
     "user": {
      "displayName": "Damla",
      "userId": "03285166568766987047"
     }
    }
   },
   "outputs": [],
   "source": [
    "image_df = spark.read.format(\"binaryFile\").load('text_with_noise.png').cache()\n",
    "\n",
    "# Read binary as image\n",
    "binary_to_image = BinaryToImage()\n",
    "binary_to_image.setInputCol(\"content\")\n",
    "binary_to_image.setOutputCol(\"image\")\n",
    "\n",
    "# Scale image\n",
    "scaler = ImageScaler()\n",
    "scaler.setInputCol(\"image\")\n",
    "scaler.setOutputCol(\"scaled_image\")\n",
    "scaler.setScaleFactor(2.0)\n",
    "\n",
    "# Binarize using adaptive tresholding\n",
    "binarizer = ImageAdaptiveThresholding()\n",
    "binarizer.setInputCol(\"scaled_image\")\n",
    "binarizer.setOutputCol(\"binarized_image\")\n",
    "binarizer.setBlockSize(71)\n",
    "binarizer.setOffset(65)\n",
    "\n",
    "remove_objects = ImageRemoveObjects()\n",
    "remove_objects.setInputCol(\"binarized_image\")\n",
    "remove_objects.setOutputCol(\"cleared_image\")\n",
    "remove_objects.setMinSizeObject(400)\n",
    "remove_objects.setMaxSizeObject(4000)\n",
    "\n",
    "# Run OCR\n",
    "ocr = ImageToText()\n",
    "ocr.setInputCol(\"cleared_image\")\n",
    "ocr.setOutputCol(\"text\")\n",
    "ocr.setConfidenceThreshold(50)\n",
    "ocr.setIgnoreResolution(False)\n",
    "\n",
    "# OCR pipeline\n",
    "noisy_pipeline = PipelineModel(stages=[\n",
    "    binary_to_image,\n",
    "    scaler,\n",
    "    binarizer,\n",
    "    remove_objects,\n",
    "    ocr\n",
    "])\n",
    "\n",
    "\n",
    "result = noisy_pipeline \\\n",
    ".transform(image_df) \\\n",
    ".cache()\n",
    "\n",
    "\n",
    "for r in result.distinct().collect():\n",
    "    print(\"Original: %s\" % r.path)\n",
    "    display_image(r.image)\n",
    "    print(\"Binarized\")\n",
    "    display_image(r.binarized_image)\n",
    "    print(\"Removing objects\")\n",
    "    display_image(r.cleared_image)\n"
   ]
  },
  {
   "cell_type": "code",
   "execution_count": null,
   "metadata": {
    "colab": {
     "base_uri": "https://localhost:8080/"
    },
    "id": "_SRXlRr9_eGk",
    "outputId": "8fb4956a-334a-45a0-a365-42fea9706e55",
    "executionInfo": {
     "status": "ok",
     "timestamp": 1649578186295,
     "user_tz": -120,
     "elapsed": 437,
     "user": {
      "displayName": "Damla",
      "userId": "03285166568766987047"
     }
    }
   },
   "outputs": [],
   "source": [
    "print(\"\\n\".join([row.text for row in result.select(\"text\").collect()]))"
   ]
  },
  {
   "cell_type": "markdown",
   "metadata": {
    "id": "7VjHI0hjACLI"
   },
   "source": [
    "### Text from Scene"
   ]
  },
  {
   "cell_type": "code",
   "execution_count": null,
   "metadata": {
    "id": "Q5BanjN2AlLK",
    "executionInfo": {
     "status": "ok",
     "timestamp": 1649578192184,
     "user_tz": -120,
     "elapsed": 398,
     "user": {
      "displayName": "Damla",
      "userId": "03285166568766987047"
     }
    }
   },
   "outputs": [],
   "source": [
    "!wget -q https://raw.githubusercontent.com/JohnSnowLabs/spark-nlp-workshop/master/tutorials/Certification_Trainings/Healthcare/data/ocr/natural_scene.jpeg"
   ]
  },
  {
   "cell_type": "code",
   "execution_count": null,
   "metadata": {
    "colab": {
     "base_uri": "https://localhost:8080/",
     "height": 1000
    },
    "id": "xtu9hpEL9saX",
    "outputId": "4ea5576e-1c75-4f7f-e0e3-438c3c5db2c4",
    "executionInfo": {
     "status": "ok",
     "timestamp": 1649578198474,
     "user_tz": -120,
     "elapsed": 5790,
     "user": {
      "displayName": "Damla",
      "userId": "03285166568766987047"
     }
    }
   },
   "outputs": [],
   "source": [
    "image_df = spark.read.format(\"binaryFile\").load('natural_scene.jpeg').cache()\n",
    "\n",
    "# Apply morphology opening\n",
    "morpholy_operation = ImageMorphologyOperation()\n",
    "morpholy_operation.setKernelShape(KernelShape.DISK)\n",
    "morpholy_operation.setKernelSize(5)\n",
    "morpholy_operation.setOperation(\"closing\")\n",
    "morpholy_operation.setInputCol(\"cleared_image\")\n",
    "morpholy_operation.setOutputCol(\"corrected_image\")\n",
    "\n",
    "# Run OCR\n",
    "ocr = ImageToText()\n",
    "ocr.setInputCol(\"corrected_image\")\n",
    "ocr.setOutputCol(\"text\")\n",
    "ocr.setConfidenceThreshold(50)\n",
    "ocr.setIgnoreResolution(False)\n",
    "\n",
    "# OCR pipeline\n",
    "scene_pipeline = PipelineModel(stages=[\n",
    "    binary_to_image,\n",
    "    scaler,\n",
    "    binarizer,\n",
    "    remove_objects,\n",
    "    morpholy_operation,\n",
    "    ocr\n",
    "])\n",
    "\n",
    "result = scene_pipeline \\\n",
    ".transform(image_df) \\\n",
    ".cache()\n",
    "\n",
    "\n",
    "for r in result.distinct().collect():\n",
    "    print(\"Original: %s\" % r.path)\n",
    "    display_image(r.image)\n",
    "    print(\"Binarized\")\n",
    "    display_image(r.binarized_image)\n",
    "    print(\"Removing objects\")\n",
    "    display_image(r.cleared_image)\n",
    "    print(\"Morphology closing\")\n",
    "    display_image(r.corrected_image)"
   ]
  },
  {
   "cell_type": "markdown",
   "metadata": {
    "id": "58-RfPri0xk3"
   },
   "source": [
    "## DOCX Processing (version 1.10.0)"
   ]
  },
  {
   "cell_type": "markdown",
   "metadata": {
    "id": "G9oV5wtD8O-8"
   },
   "source": [
    "### Read DOCX document as binary file"
   ]
  },
  {
   "cell_type": "code",
   "execution_count": null,
   "metadata": {
    "id": "kB9dAvMk8Rl3",
    "executionInfo": {
     "status": "ok",
     "timestamp": 1649578214502,
     "user_tz": -120,
     "elapsed": 475,
     "user": {
      "displayName": "Damla",
      "userId": "03285166568766987047"
     }
    }
   },
   "outputs": [],
   "source": [
    "import pkg_resources\n",
    "doc_example = pkg_resources.resource_filename('sparkocr', 'resources/ocr/docs/doc2.docx')\n",
    "doc_example_df = spark.read.format(\"binaryFile\").load(doc_example).cache()"
   ]
  },
  {
   "cell_type": "markdown",
   "metadata": {
    "id": "LjfPNSar1BsW"
   },
   "source": [
    "### DocxtoText"
   ]
  },
  {
   "cell_type": "markdown",
   "metadata": {
    "id": "TZPHmLAH7b9o"
   },
   "source": [
    "#### Extract text using DocToText transformer"
   ]
  },
  {
   "cell_type": "code",
   "execution_count": null,
   "metadata": {
    "id": "xxRSsOVe0udx",
    "executionInfo": {
     "status": "ok",
     "timestamp": 1649578216392,
     "user_tz": -120,
     "elapsed": 395,
     "user": {
      "displayName": "Damla",
      "userId": "03285166568766987047"
     }
    }
   },
   "outputs": [],
   "source": [
    "from sparkocr.transformers import *\n",
    "\n",
    "doc_to_text = DocToText()\n",
    "doc_to_text.setInputCol(\"content\")\n",
    "doc_to_text.setOutputCol(\"text\")\n",
    "\n",
    "result = doc_to_text.transform(doc_example_df)"
   ]
  },
  {
   "cell_type": "markdown",
   "metadata": {
    "id": "QMA16ZGt7hGb"
   },
   "source": [
    "#### Display result DataFrame"
   ]
  },
  {
   "cell_type": "code",
   "execution_count": null,
   "metadata": {
    "colab": {
     "base_uri": "https://localhost:8080/"
    },
    "id": "vqklj_AV7Hml",
    "outputId": "ab591a91-d0d4-4c68-95b3-282d44121cef",
    "executionInfo": {
     "status": "ok",
     "timestamp": 1649578218957,
     "user_tz": -120,
     "elapsed": 1523,
     "user": {
      "displayName": "Damla",
      "userId": "03285166568766987047"
     }
    }
   },
   "outputs": [],
   "source": [
    "result.show()"
   ]
  },
  {
   "cell_type": "markdown",
   "metadata": {
    "id": "ETclaT1h7mNT"
   },
   "source": [
    "#### Display extracted text"
   ]
  },
  {
   "cell_type": "code",
   "execution_count": null,
   "metadata": {
    "colab": {
     "base_uri": "https://localhost:8080/"
    },
    "id": "Rl3SfEUM7Rs-",
    "outputId": "486243bb-a217-45de-a165-3c150b769a00",
    "executionInfo": {
     "status": "ok",
     "timestamp": 1649578224869,
     "user_tz": -120,
     "elapsed": 550,
     "user": {
      "displayName": "Damla",
      "userId": "03285166568766987047"
     }
    }
   },
   "outputs": [],
   "source": [
    "print(\"\\n\".join([row.text for row in result.select(\"text\").collect()]))"
   ]
  },
  {
   "cell_type": "markdown",
   "metadata": {
    "id": "u0VlfU6w2AGI"
   },
   "source": [
    "### DocxToTextTable\n",
    "#### (Extracting table data from Microsoft DOCX documents)"
   ]
  },
  {
   "cell_type": "markdown",
   "metadata": {
    "id": "XDazuQyP8mEb"
   },
   "source": [
    "#### Preview document using DocToPdf and PdfToImage transformers"
   ]
  },
  {
   "cell_type": "code",
   "execution_count": null,
   "metadata": {
    "colab": {
     "base_uri": "https://localhost:8080/",
     "height": 1000
    },
    "id": "JVfMqUkk0wkE",
    "outputId": "4dc37960-ce5f-4b38-fdd8-3935473c49cb",
    "executionInfo": {
     "status": "ok",
     "timestamp": 1649578237250,
     "user_tz": -120,
     "elapsed": 5454,
     "user": {
      "displayName": "Damla",
      "userId": "03285166568766987047"
     }
    }
   },
   "outputs": [],
   "source": [
    "image_df = PdfToImage().transform(DocToPdf().setOutputCol(\"content\").transform(doc_example_df))\n",
    "for r in image_df.select(\"image\").collect():\n",
    "    display_image(r.image)"
   ]
  },
  {
   "cell_type": "markdown",
   "metadata": {
    "id": "6J_p9fBQ9gpJ"
   },
   "source": [
    "#### Extract text using DocToText transformer"
   ]
  },
  {
   "cell_type": "code",
   "execution_count": null,
   "metadata": {
    "colab": {
     "base_uri": "https://localhost:8080/"
    },
    "id": "YNgJGNDr8-M3",
    "outputId": "1b7e0ce3-6e55-4afe-8bac-918c51c9c41c",
    "executionInfo": {
     "status": "ok",
     "timestamp": 1649578244276,
     "user_tz": -120,
     "elapsed": 960,
     "user": {
      "displayName": "Damla",
      "userId": "03285166568766987047"
     }
    }
   },
   "outputs": [],
   "source": [
    "doc_to_table = DocToTextTable()\n",
    "doc_to_table.setInputCol(\"content\")\n",
    "doc_to_table.setOutputCol(\"tables\")\n",
    "\n",
    "result = doc_to_table.transform(doc_example_df)\n",
    "\n",
    "result.show()"
   ]
  },
  {
   "cell_type": "code",
   "execution_count": null,
   "metadata": {
    "colab": {
     "base_uri": "https://localhost:8080/"
    },
    "id": "Tbf6EQW99xhp",
    "outputId": "5dadc03e-3f46-48b2-ecb2-6433f0a53b66",
    "executionInfo": {
     "status": "ok",
     "timestamp": 1649578245839,
     "user_tz": -120,
     "elapsed": 411,
     "user": {
      "displayName": "Damla",
      "userId": "03285166568766987047"
     }
    }
   },
   "outputs": [],
   "source": [
    "result.select(result[\"tables.chunks\"].getItem(3)[\"chunkText\"]).show(truncate=False)"
   ]
  },
  {
   "cell_type": "markdown",
   "metadata": {
    "id": "9x5XXSAT-YxT"
   },
   "source": [
    "#### Display extracted data in JSON format"
   ]
  },
  {
   "cell_type": "code",
   "execution_count": null,
   "metadata": {
    "colab": {
     "base_uri": "https://localhost:8080/"
    },
    "id": "Ejlbb80W9w6B",
    "outputId": "52083afd-a81f-4311-c3a9-008a304c0736",
    "executionInfo": {
     "status": "ok",
     "timestamp": 1649578252050,
     "user_tz": -120,
     "elapsed": 1005,
     "user": {
      "displayName": "Damla",
      "userId": "03285166568766987047"
     }
    }
   },
   "outputs": [],
   "source": [
    "import json\n",
    "df_json = result.select(\"tables\").toJSON()\n",
    "for row in df_json.collect():\n",
    "    print(json.dumps(json.loads(row), indent=4))"
   ]
  },
  {
   "cell_type": "markdown",
   "metadata": {
    "id": "RVrFH1DU2DMN"
   },
   "source": [
    "## Text to Pdf"
   ]
  },
  {
   "cell_type": "code",
   "execution_count": null,
   "metadata": {
    "id": "Z09Vuxus2Ccb",
    "executionInfo": {
     "status": "ok",
     "timestamp": 1649578259579,
     "user_tz": -120,
     "elapsed": 395,
     "user": {
      "displayName": "Damla",
      "userId": "03285166568766987047"
     }
    }
   },
   "outputs": [],
   "source": [
    "def pipeline():\n",
    "    # Transforrm PDF document to images per page\n",
    "    pdf_to_image = PdfToImage() \\\n",
    "        .setInputCol(\"content\") \\\n",
    "        .setOutputCol(\"image\") \\\n",
    "        .setKeepInput(True)\n",
    "    \n",
    "    # Run OCR\n",
    "    ocr = ImageToText() \\\n",
    "        .setInputCol(\"image\") \\\n",
    "        .setOutputCol(\"text\") \\\n",
    "        .setConfidenceThreshold(60) \\\n",
    "        .setIgnoreResolution(False) \\\n",
    "        .setPageSegMode(PageSegmentationMode.SPARSE_TEXT)\n",
    "    \n",
    "    # Render results to PDF\n",
    "    textToPdf = TextToPdf() \\\n",
    "        .setInputCol(\"positions\") \\\n",
    "        .setInputImage(\"image\") \\\n",
    "        .setOutputCol(\"pdf\")\n",
    "\n",
    "    pipeline = PipelineModel(stages=[\n",
    "        pdf_to_image,\n",
    "        ocr,\n",
    "        textToPdf\n",
    "    ])\n",
    "    \n",
    "    return pipeline"
   ]
  },
  {
   "cell_type": "code",
   "source": [
    "# !wget -q https://raw.githubusercontent.com/JohnSnowLabs/spark-nlp-workshop/master/tutorials/Certification_Trainings/Healthcare/data/ocr/MT_00.pdf\n",
    "!wget -q https://raw.githubusercontent.com/JohnSnowLabs/spark-nlp-workshop/master/tutorials/Certification_Trainings/Healthcare/data/ocr/test_document.pdf"
   ],
   "metadata": {
    "id": "3ZjLzzD7sOTq",
    "executionInfo": {
     "status": "ok",
     "timestamp": 1649578262257,
     "user_tz": -120,
     "elapsed": 922,
     "user": {
      "displayName": "Damla",
      "userId": "03285166568766987047"
     }
    }
   },
   "execution_count": null,
   "outputs": []
  },
  {
   "cell_type": "code",
   "execution_count": null,
   "metadata": {
    "id": "G81aUZ3q2OVh",
    "executionInfo": {
     "status": "ok",
     "timestamp": 1649578262258,
     "user_tz": -120,
     "elapsed": 3,
     "user": {
      "displayName": "Damla",
      "userId": "03285166568766987047"
     }
    }
   },
   "outputs": [],
   "source": [
    "# pdf_example_df = spark.read.format(\"binaryFile\").load('MT_00.pdf').cache()\n",
    "pdf_example_df = spark.read.format(\"binaryFile\").load('test_document.pdf').cache()"
   ]
  },
  {
   "cell_type": "code",
   "execution_count": null,
   "metadata": {
    "id": "aKDWZc9h27v0",
    "executionInfo": {
     "status": "ok",
     "timestamp": 1649578265782,
     "user_tz": -120,
     "elapsed": 410,
     "user": {
      "displayName": "Damla",
      "userId": "03285166568766987047"
     }
    }
   },
   "outputs": [],
   "source": [
    "result = pipeline().transform(pdf_example_df).cache()"
   ]
  },
  {
   "cell_type": "code",
   "execution_count": null,
   "metadata": {
    "colab": {
     "base_uri": "https://localhost:8080/"
    },
    "id": "_zeO9SVP32i-",
    "outputId": "53013b72-f75c-4ada-99c6-b3cf6c9a40d6",
    "executionInfo": {
     "status": "ok",
     "timestamp": 1649578267223,
     "user_tz": -120,
     "elapsed": 432,
     "user": {
      "displayName": "Damla",
      "userId": "03285166568766987047"
     }
    }
   },
   "outputs": [],
   "source": [
    "result.columns"
   ]
  },
  {
   "cell_type": "code",
   "execution_count": null,
   "metadata": {
    "colab": {
     "base_uri": "https://localhost:8080/",
     "height": 1000,
     "output_embedded_package_id": "1y7tp_4TZHDYhzZ6GDJzPhIpVUCGpngbf"
    },
    "id": "OyJVkb523iYV",
    "outputId": "f7a54390-2d45-4205-9beb-9088a9b64d40",
    "executionInfo": {
     "status": "ok",
     "timestamp": 1649578285459,
     "user_tz": -120,
     "elapsed": 16040,
     "user": {
      "displayName": "Damla",
      "userId": "03285166568766987047"
     }
    }
   },
   "outputs": [],
   "source": [
    "display_image(PdfToImage().transform(pdf_example_df).select(\"image\").collect()[0].image)"
   ]
  },
  {
   "cell_type": "code",
   "execution_count": null,
   "metadata": {
    "id": "vFSSheKJ29y7",
    "executionInfo": {
     "status": "ok",
     "timestamp": 1649578331310,
     "user_tz": -120,
     "elapsed": 40420,
     "user": {
      "displayName": "Damla",
      "userId": "03285166568766987047"
     }
    }
   },
   "outputs": [],
   "source": [
    "# Store results to pdf file\n",
    "pdf = result.select(\"pdf\").head().pdf\n",
    "\n",
    "pdfFile = open(\"result.pdf\", \"wb\")\n",
    "\n",
    "pdfFile.write(pdf)\n",
    "\n",
    "pdfFile.close()"
   ]
  },
  {
   "cell_type": "code",
   "execution_count": null,
   "metadata": {
    "colab": {
     "base_uri": "https://localhost:8080/",
     "height": 1000,
     "output_embedded_package_id": "1JESgWxXfL8-WfcXBUxYDB7zeiDdXWkTV"
    },
    "id": "-RACahLy3Mf1",
    "outputId": "f5817d50-2fbd-40ff-e3b0-9df36b29b02a",
    "executionInfo": {
     "status": "ok",
     "timestamp": 1649578339634,
     "user_tz": -120,
     "elapsed": 8338,
     "user": {
      "displayName": "Damla",
      "userId": "03285166568766987047"
     }
    }
   },
   "outputs": [],
   "source": [
    "# Convert pdf to image and display¶\n",
    "\n",
    "image_df = PdfToImage() \\\n",
    "    .setInputCol(\"pdf\") \\\n",
    "    .setOutputCol(\"image\") \\\n",
    "    .transform(result.select(\"pdf\", \"path\"))\n",
    "\n",
    "for r in image_df.collect():\n",
    "    display_image(r.image)\n"
   ]
  },
  {
   "cell_type": "markdown",
   "metadata": {
    "id": "x5ARha5tYQP8"
   },
   "source": [
    "## Working with PPT Documents"
   ]
  },
  {
   "cell_type": "markdown",
   "metadata": {
    "id": "gRGye5QgcJ0G"
   },
   "source": [
    "### Read PPT document"
   ]
  },
  {
   "cell_type": "code",
   "execution_count": null,
   "metadata": {
    "id": "3iIVjCufYMtL",
    "executionInfo": {
     "status": "ok",
     "timestamp": 1649578358521,
     "user_tz": -120,
     "elapsed": 727,
     "user": {
      "displayName": "Damla",
      "userId": "03285166568766987047"
     }
    }
   },
   "outputs": [],
   "source": [
    "# Read PPT document as binary file\n",
    "!wget -q https://raw.githubusercontent.com/JohnSnowLabs/spark-nlp-workshop/master/tutorials/Certification_Trainings/Healthcare/data/ocr/Spark_NLP_NER.pptx\n",
    "ppt_example_df = spark.read.format(\"binaryFile\").load('Spark_NLP_NER.pptx').cache()"
   ]
  },
  {
   "cell_type": "code",
   "execution_count": null,
   "metadata": {
    "colab": {
     "base_uri": "https://localhost:8080/",
     "height": 1000
    },
    "id": "n_p2gepXY26-",
    "outputId": "1364e0fe-de36-404d-f03f-99bbbc8351cc",
    "executionInfo": {
     "status": "ok",
     "timestamp": 1649578370505,
     "user_tz": -120,
     "elapsed": 9348,
     "user": {
      "displayName": "Damla",
      "userId": "03285166568766987047"
     }
    }
   },
   "outputs": [],
   "source": [
    "#Read PPT document as binary file¶\n",
    "\n",
    "# convert PPT to PDF\n",
    "pdf_df = PptToPdf() \\\n",
    "    .setOutputCol(\"content\") \\\n",
    "    .transform(ppt_example_df)\n",
    "\n",
    "# Convert PDF to image for display\n",
    "image_df = PdfToImage() \\\n",
    "    .setImageType(ImageType.TYPE_3BYTE_BGR) \\\n",
    "    .transform(pdf_df)\n",
    "\n",
    "display_images(image_df)"
   ]
  },
  {
   "cell_type": "markdown",
   "metadata": {
    "id": "VTVlhdnvcWle"
   },
   "source": [
    "### Extracting table data from PPT documents"
   ]
  },
  {
   "cell_type": "code",
   "execution_count": null,
   "metadata": {
    "id": "FnnAZUGkczFu",
    "executionInfo": {
     "status": "ok",
     "timestamp": 1649578380491,
     "user_tz": -120,
     "elapsed": 409,
     "user": {
      "displayName": "Damla",
      "userId": "03285166568766987047"
     }
    }
   },
   "outputs": [],
   "source": [
    "from sparkocr.transformers import *\n",
    "from sparkocr.utils import display_images, display_tables, display_pdf\n",
    "from pyspark.sql.functions import collect_list,col"
   ]
  },
  {
   "cell_type": "code",
   "execution_count": null,
   "metadata": {
    "id": "MfuveIJoej2F",
    "executionInfo": {
     "status": "ok",
     "timestamp": 1649578381836,
     "user_tz": -120,
     "elapsed": 2,
     "user": {
      "displayName": "Damla",
      "userId": "03285166568766987047"
     }
    }
   },
   "outputs": [],
   "source": [
    "# Preview document using PptToPdf and PdfToImage transformers¶\n",
    "image_df = PptToPdf().setOutputCol(\"content\").transform(ppt_example_df)"
   ]
  },
  {
   "cell_type": "code",
   "execution_count": null,
   "metadata": {
    "id": "31fcbWZFfVZP",
    "executionInfo": {
     "status": "ok",
     "timestamp": 1649578383176,
     "user_tz": -120,
     "elapsed": 620,
     "user": {
      "displayName": "Damla",
      "userId": "03285166568766987047"
     }
    }
   },
   "outputs": [],
   "source": [
    "#Extract tables from PPT using PptToTextTable transformer¶\n",
    "\n",
    "ppt_to_table = PptToTextTable()\n",
    "ppt_to_table.setInputCol(\"content\")\n",
    "ppt_to_table.setOutputCol(\"table\")\n",
    "\n",
    "result = ppt_to_table.transform(ppt_example_df).cache()"
   ]
  },
  {
   "cell_type": "code",
   "execution_count": null,
   "metadata": {
    "colab": {
     "base_uri": "https://localhost:8080/"
    },
    "id": "YUsBBN5yQgJ0",
    "outputId": "044888b4-d317-42c1-85c7-27d8f9abeda2",
    "executionInfo": {
     "status": "ok",
     "timestamp": 1649578386174,
     "user_tz": -120,
     "elapsed": 1248,
     "user": {
      "displayName": "Damla",
      "userId": "03285166568766987047"
     }
    }
   },
   "outputs": [],
   "source": [
    "result.show()"
   ]
  },
  {
   "cell_type": "code",
   "execution_count": null,
   "metadata": {
    "colab": {
     "base_uri": "https://localhost:8080/",
     "height": 806
    },
    "id": "zdBTfVyIQh0X",
    "outputId": "3f173d3f-eb49-49bb-aee7-ef66e5f0d104",
    "executionInfo": {
     "status": "ok",
     "timestamp": 1649578399563,
     "user_tz": -120,
     "elapsed": 3327,
     "user": {
      "displayName": "Damla",
      "userId": "03285166568766987047"
     }
    }
   },
   "outputs": [],
   "source": [
    "display_tables(result)"
   ]
  },
  {
   "cell_type": "markdown",
   "metadata": {
    "id": "0sJIIvpx7k--"
   },
   "source": [
    "## Dicom to Image"
   ]
  },
  {
   "cell_type": "code",
   "execution_count": null,
   "metadata": {
    "id": "BofbrmT15M1l",
    "executionInfo": {
     "status": "ok",
     "timestamp": 1649578407699,
     "user_tz": -120,
     "elapsed": 1487,
     "user": {
      "displayName": "Damla",
      "userId": "03285166568766987047"
     }
    }
   },
   "outputs": [],
   "source": [
    "!mkdir dicom\n",
    "!wget -q https://raw.githubusercontent.com/JohnSnowLabs/spark-ocr-workshop/master/jupyter/data/dicom/deidentify-brains-front-medical-3.dcm -O /content/dicom/dicom_1.dcm\n",
    "!wget -q https://raw.githubusercontent.com/JohnSnowLabs/spark-ocr-workshop/master/jupyter/data/dicom/deidentify-medical-1.dcm  -O /content/dicom/dicom_2.dcm\n",
    "!wget -q https://raw.githubusercontent.com/JohnSnowLabs/spark-ocr-workshop/master/jupyter/data/dicom/deidentify-medical-2.dcm  -O /content/dicom/dicom_3.dcm"
   ]
  },
  {
   "cell_type": "code",
   "execution_count": null,
   "metadata": {
    "colab": {
     "base_uri": "https://localhost:8080/",
     "height": 1000
    },
    "id": "eXwT_FyS5Oq-",
    "outputId": "ccd749e5-b7e7-4832-fd57-0a3365341546",
    "executionInfo": {
     "status": "ok",
     "timestamp": 1649578411313,
     "user_tz": -120,
     "elapsed": 2462,
     "user": {
      "displayName": "Damla",
      "userId": "03285166568766987047"
     }
    }
   },
   "outputs": [],
   "source": [
    "dicom_path = './dicom/*.dcm'\n",
    "\n",
    "# Read dicom file as binary file\n",
    "dicom_df = spark.read.format(\"binaryFile\").load(dicom_path)\n",
    "\n",
    "dicomToImage = DicomToImage() \\\n",
    "  .setInputCol(\"content\") \\\n",
    "  .setOutputCol(\"image\") \\\n",
    "  .setMetadataCol(\"meta\")\n",
    "\n",
    "data = dicomToImage.transform(dicom_df)\n",
    "\n",
    "for image in data.collect():\n",
    "      display_image(image.image)\n",
    "\n"
   ]
  },
  {
   "cell_type": "code",
   "execution_count": null,
   "metadata": {
    "colab": {
     "base_uri": "https://localhost:8080/"
    },
    "id": "XP6dufVm5SSy",
    "outputId": "fc6c2af5-bb01-4aa9-c260-7f5c70e8bdfd",
    "executionInfo": {
     "status": "ok",
     "timestamp": 1649578454445,
     "user_tz": -120,
     "elapsed": 3288,
     "user": {
      "displayName": "Damla",
      "userId": "03285166568766987047"
     }
    }
   },
   "outputs": [],
   "source": [
    "# Extract text from image\n",
    "ocr = ImageToText() \\\n",
    "    .setInputCol(\"image\") \\\n",
    "    .setOutputCol(\"text\") \\\n",
    "    .setIgnoreResolution(False) \\\n",
    "    .setOcrParams([\"preserve_interword_spaces=0\"])\n",
    "\n",
    "print(\"\\n\".join([row.text for row in ocr.transform(data).select(\"text\").collect()]))"
   ]
  },
  {
   "cell_type": "markdown",
   "source": [
    "## Spark OCR for recognize text and store results to HOCR"
   ],
   "metadata": {
    "id": "bex7D6LrP-8g"
   }
  },
  {
   "cell_type": "code",
   "source": [
    "# Transforrm PDF document to images per page\n",
    "pdf_to_image = PdfToImage() \\\n",
    "    .setInputCol(\"content\") \\\n",
    "    .setOutputCol(\"image\") \\\n",
    "    .setImageType(ImageType.TYPE_3BYTE_BGR)\n",
    "\n",
    "# Run OCR\n",
    "ocr = ImageToHocr() \\\n",
    "    .setInputCol(\"image\") \\\n",
    "    .setOutputCol(\"hocr\") \\\n",
    "    .setIgnoreResolution(False)\n",
    "\n",
    "document_assembler = HocrDocumentAssembler() \\\n",
    "    .setInputCol(\"hocr\") \\\n",
    "    .setOutputCol(\"document\")\n",
    "\n",
    "tokenizer = HocrTokenizer() \\\n",
    "    .setInputCol(\"hocr\") \\\n",
    "    .setOutputCol(\"token\") \\\n",
    "\n",
    "draw_annotations = ImageDrawAnnotations() \\\n",
    "    .setInputCol(\"image\") \\\n",
    "    .setInputChunksCol(\"token\") \\\n",
    "    .setOutputCol(\"image_with_annotations\") \\\n",
    "    .setFilledRect(False) \\\n",
    "    .setFontSize(40) \\\n",
    "    .setRectColor(Color.red)\n",
    "\n",
    "pipeline = PipelineModel(stages=[\n",
    "    pdf_to_image,\n",
    "    ocr,\n",
    "    document_assembler,\n",
    "    tokenizer,\n",
    "    draw_annotations\n",
    "])"
   ],
   "metadata": {
    "id": "Ewx6BWmVQI-2",
    "executionInfo": {
     "status": "ok",
     "timestamp": 1649578460019,
     "user_tz": -120,
     "elapsed": 382,
     "user": {
      "displayName": "Damla",
      "userId": "03285166568766987047"
     }
    }
   },
   "execution_count": null,
   "outputs": []
  },
  {
   "cell_type": "code",
   "source": [
    "import pkg_resources\n",
    "pdf_example = pkg_resources.resource_filename('sparkocr', 'resources/ocr/pdfs/test_document.pdf')\n",
    "pdf_example_df = spark.read.format(\"binaryFile\").load(pdf_example).cache()"
   ],
   "metadata": {
    "id": "29NWCwYoQdSY",
    "executionInfo": {
     "status": "ok",
     "timestamp": 1649578464504,
     "user_tz": -120,
     "elapsed": 458,
     "user": {
      "displayName": "Damla",
      "userId": "03285166568766987047"
     }
    }
   },
   "execution_count": null,
   "outputs": []
  },
  {
   "cell_type": "code",
   "source": [
    "result = pipeline.transform(pdf_example_df).cache()"
   ],
   "metadata": {
    "id": "WoDfR-Q2QgVD",
    "executionInfo": {
     "status": "ok",
     "timestamp": 1649578466260,
     "user_tz": -120,
     "elapsed": 382,
     "user": {
      "displayName": "Damla",
      "userId": "03285166568766987047"
     }
    }
   },
   "execution_count": null,
   "outputs": []
  },
  {
   "cell_type": "code",
   "source": [
    "result.select(\"pagenum\", \"hocr\").show()"
   ],
   "metadata": {
    "id": "iI25wLZ4QwYJ",
    "colab": {
     "base_uri": "https://localhost:8080/"
    },
    "outputId": "aa637256-908f-438e-efab-de46900eb883",
    "executionInfo": {
     "status": "ok",
     "timestamp": 1649578512495,
     "user_tz": -120,
     "elapsed": 45847,
     "user": {
      "displayName": "Damla",
      "userId": "03285166568766987047"
     }
    }
   },
   "execution_count": null,
   "outputs": []
  },
  {
   "cell_type": "code",
   "source": [
    "display_images(result, \"image_with_annotations\", width=1000)"
   ],
   "metadata": {
    "id": "GdzPpF-oQzHN",
    "colab": {
     "base_uri": "https://localhost:8080/",
     "height": 1000,
     "output_embedded_package_id": "1KW1qQCnrE1JklUDOw5Eg65OrzCLD1qOB"
    },
    "outputId": "4c7f8be1-33bb-4491-c393-c43781baf623",
    "executionInfo": {
     "status": "ok",
     "timestamp": 1649578536586,
     "user_tz": -120,
     "elapsed": 24103,
     "user": {
      "displayName": "Damla",
      "userId": "03285166568766987047"
     }
    }
   },
   "execution_count": null,
   "outputs": []
  },
  {
   "cell_type": "code",
   "source": [
    "from IPython.core.display import display, HTML\n",
    "display(HTML(result.select(\"hocr\").collect()[0].hocr))"
   ],
   "metadata": {
    "id": "mAGtNR7yQ40i",
    "colab": {
     "base_uri": "https://localhost:8080/",
     "height": 1000
    },
    "outputId": "b9e35871-e478-4e48-9a04-925e031c8c57",
    "executionInfo": {
     "status": "ok",
     "timestamp": 1649578544192,
     "user_tz": -120,
     "elapsed": 508,
     "user": {
      "displayName": "Damla",
      "userId": "03285166568766987047"
     }
    }
   },
   "execution_count": null,
   "outputs": []
  },
  {
   "cell_type": "markdown",
   "source": [
    "## Text Detection in an Image using Regex Patterns"
   ],
   "metadata": {
    "id": "5iinTWRIpn0O"
   }
  },
  {
   "cell_type": "code",
   "source": [
    "import pkg_resources\n",
    "from pyspark.ml import PipelineModel\n",
    "import pyspark.sql.functions as f\n",
    "from sparkocr.transformers import *\n",
    "from sparkocr.enums import *\n",
    "from sparkocr.utils import display_images\n",
    "\n",
    "\n",
    "imagePath = pkg_resources.resource_filename('sparkocr', 'resources/ocr/text_detection/020_Yas_patella.jpg')\n",
    "image_df = spark.read.format(\"binaryFile\").load(imagePath)\n",
    "\n",
    "display_images(BinaryToImage().setImageType(ImageType.TYPE_3BYTE_BGR).transform(image_df), \"image\")"
   ],
   "metadata": {
    "id": "f-r6doylpqn5",
    "colab": {
     "base_uri": "https://localhost:8080/",
     "height": 1000,
     "output_embedded_package_id": "10y77yNKyLaxO3Vag2mVgpFg4L_sB5ydL"
    },
    "outputId": "653f3789-4d43-4707-a9ab-d4b817c6f9ef",
    "executionInfo": {
     "status": "ok",
     "timestamp": 1649578574998,
     "user_tz": -120,
     "elapsed": 23524,
     "user": {
      "displayName": "Damla",
      "userId": "03285166568766987047"
     }
    }
   },
   "execution_count": null,
   "outputs": []
  },
  {
   "cell_type": "code",
   "source": [
    "binary_to_image = BinaryToImage() \n",
    "binary_to_image.setImageType(ImageType.TYPE_3BYTE_BGR)\n",
    "\n",
    "text_detector = ImageTextDetector.pretrained(\"text_detection_v1\", \"en\", \"clinical/ocr\")\n",
    "text_detector.setInputCol(\"image\")\n",
    "text_detector.setOutputCol(\"text_regions\")\n",
    "text_detector.setSizeThreshold(10)\n",
    "text_detector.setScoreThreshold(0.9)\n",
    "text_detector.setLinkThreshold(0.4)\n",
    "text_detector.setTextThreshold(0.2)\n",
    "text_detector.setWidth(1512)\n",
    "text_detector.setHeight(2016)\n",
    "\n",
    "draw_regions = ImageDrawRegions()\n",
    "draw_regions.setInputCol(\"image\")\n",
    "draw_regions.setInputRegionsCol(\"text_regions\")\n",
    "draw_regions.setOutputCol(\"image_with_regions\")\n",
    "draw_regions.setRectColor(Color.green)\n",
    "draw_regions.setRotated(True)\n",
    "\n",
    "pipeline = PipelineModel(stages=[\n",
    "    binary_to_image,\n",
    "    text_detector,\n",
    "    draw_regions\n",
    "])"
   ],
   "metadata": {
    "id": "pwyY1SL5pvqk",
    "colab": {
     "base_uri": "https://localhost:8080/"
    },
    "outputId": "04d50a8d-e3b2-48e6-b8c4-f609d5ed6d67",
    "executionInfo": {
     "status": "ok",
     "timestamp": 1649578575388,
     "user_tz": -120,
     "elapsed": 395,
     "user": {
      "displayName": "Damla",
      "userId": "03285166568766987047"
     }
    }
   },
   "execution_count": null,
   "outputs": []
  },
  {
   "cell_type": "code",
   "source": [
    "result =  pipeline.transform(image_df).cache()\n",
    "display_images(result, \"image_with_regions\")"
   ],
   "metadata": {
    "id": "nGkJvdEUpv03",
    "colab": {
     "base_uri": "https://localhost:8080/",
     "height": 1000,
     "output_embedded_package_id": "1giT9IWD1dvYRzRsIv7vxjesllfeFLMAC"
    },
    "outputId": "efb0ce84-f7ac-47c5-84d1-38ef0dff7266",
    "executionInfo": {
     "status": "ok",
     "timestamp": 1649578665801,
     "user_tz": -120,
     "elapsed": 82563,
     "user": {
      "displayName": "Damla",
      "userId": "03285166568766987047"
     }
    }
   },
   "execution_count": null,
   "outputs": []
  },
  {
   "cell_type": "code",
   "source": [
    "!wget -q https://raw.githubusercontent.com/JohnSnowLabs/spark-nlp-workshop/master/tutorials/Certification_Trainings/Healthcare/data/ocr/patterns.json"
   ],
   "metadata": {
    "id": "WMYGjxVLDFfd",
    "executionInfo": {
     "status": "ok",
     "timestamp": 1649578665802,
     "user_tz": -120,
     "elapsed": 11,
     "user": {
      "displayName": "Damla",
      "userId": "03285166568766987047"
     }
    }
   },
   "execution_count": null,
   "outputs": []
  },
  {
   "cell_type": "code",
   "source": [
    "import sparknlp\n",
    "from sparknlp.base import *\n",
    "from sparknlp.annotator import *\n",
    "from sparknlp.common import *\n",
    "\n",
    "splitter = ImageSplitRegions() \\\n",
    "    .setInputCol(\"image\") \\\n",
    "    .setInputRegionsCol(\"text_regions\") \\\n",
    "    .setOutputCol(\"text_image\") \\\n",
    "    .setDropCols([\"image\"]) \\\n",
    "    .setExplodeCols([\"text_regions\"]) \\\n",
    "    .setRotated(True) \\\n",
    "    .setImageType(ImageType.TYPE_BYTE_GRAY)\n",
    "\n",
    "ocr = ImageToText() \\\n",
    "    .setInputCol(\"text_image\") \\\n",
    "    .setOutputCol(\"text\") \\\n",
    "    .setPageSegMode(PageSegmentationMode.SINGLE_WORD) \\\n",
    "    .setIgnoreResolution(False)\n",
    "\n",
    "documentAssembler = DocumentAssembler() \\\n",
    "    .setInputCol(\"text\") \\\n",
    "    .setOutputCol(\"document\")\n",
    "\n",
    "tokenizer = Tokenizer() \\\n",
    "    .setInputCols([\"document\"]) \\\n",
    "    .setOutputCol(\"token\")\n",
    "\n",
    "entityRuler = EntityRulerApproach() \\\n",
    "    .setInputCols([\"document\", \"token\"]) \\\n",
    "    .setOutputCol(\"entities\") \\\n",
    "    .setPatternsResource(\n",
    "      \"patterns.json\",\n",
    "      ReadAs.TEXT,\n",
    "      {\"format\": \"jsonl\"}\n",
    "    ) \\\n",
    "    .setEnablePatternRegex(True)\n",
    "\n",
    "pipeline_nlp = Pipeline().setStages([\n",
    "    splitter,\n",
    "    ocr,\n",
    "    documentAssembler,\n",
    "    tokenizer,\n",
    "    entityRuler\n",
    "])\n",
    "\n",
    "text_result = pipeline_nlp.fit(result).transform(result).cache()"
   ],
   "metadata": {
    "id": "NQcrQvt6qAbv",
    "executionInfo": {
     "status": "ok",
     "timestamp": 1649578665802,
     "user_tz": -120,
     "elapsed": 6,
     "user": {
      "displayName": "Damla",
      "userId": "03285166568766987047"
     }
    }
   },
   "execution_count": null,
   "outputs": []
  },
  {
   "cell_type": "code",
   "source": [
    "%%sh\n",
    "cat patterns.json"
   ],
   "metadata": {
    "id": "93lmAjRMqD0p",
    "colab": {
     "base_uri": "https://localhost:8080/"
    },
    "outputId": "a64f7643-a1cb-4bc1-da0c-1228b9bb6f70",
    "executionInfo": {
     "status": "ok",
     "timestamp": 1649578674871,
     "user_tz": -120,
     "elapsed": 424,
     "user": {
      "displayName": "Damla",
      "userId": "03285166568766987047"
     }
    }
   },
   "execution_count": null,
   "outputs": []
  },
  {
   "cell_type": "code",
   "source": [
    "text_result.selectExpr(\"explode(entities)\").show(truncate=False)"
   ],
   "metadata": {
    "id": "3WBEOTxHqMMV",
    "colab": {
     "base_uri": "https://localhost:8080/"
    },
    "outputId": "1b7f5958-9f63-481f-c015-7acf028261ce",
    "executionInfo": {
     "status": "ok",
     "timestamp": 1649578719689,
     "user_tz": -120,
     "elapsed": 38846,
     "user": {
      "displayName": "Damla",
      "userId": "03285166568766987047"
     }
    }
   },
   "execution_count": null,
   "outputs": []
  },
  {
   "cell_type": "code",
   "source": [
    "print((\"\").join([x.text for x in text_result.select(\"text\").collect()]))"
   ],
   "metadata": {
    "id": "t_t5M0tGqMPF",
    "colab": {
     "base_uri": "https://localhost:8080/"
    },
    "outputId": "9b68b71a-1802-413b-c1ac-2de38b0e0dfd",
    "executionInfo": {
     "status": "ok",
     "timestamp": 1649578719691,
     "user_tz": -120,
     "elapsed": 21,
     "user": {
      "displayName": "Damla",
      "userId": "03285166568766987047"
     }
    }
   },
   "execution_count": null,
   "outputs": []
  }
 ]
}
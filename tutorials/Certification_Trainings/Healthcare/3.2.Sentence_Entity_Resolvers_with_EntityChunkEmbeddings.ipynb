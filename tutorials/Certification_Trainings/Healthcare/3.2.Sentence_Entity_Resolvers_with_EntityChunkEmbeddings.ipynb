{
  "cells": [
    {
      "cell_type": "markdown",
      "metadata": {
        "id": "I08sFJYCxR0Z"
      },
      "source": [
        "![JohnSnowLabs](https://nlp.johnsnowlabs.com/assets/images/logo.png)"
      ]
    },
    {
      "cell_type": "markdown",
      "metadata": {
        "id": "FwJ-P56kq6FU"
      },
      "source": [
        "[![Open In Colab](https://colab.research.google.com/assets/colab-badge.svg)](https://colab.research.google.com/github/JohnSnowLabs/spark-nlp-workshop/blob/master/tutorials/Certification_Trainings/Healthcare/3.2.Sentence_Entity_Resolvers_with_EntityChunkEmbeddings.ipynb)"
      ]
    },
    {
      "cell_type": "markdown",
      "source": [
        "# Sentence Entity Resolvers with EntityChunkEmbeddings"
      ],
      "metadata": {
        "id": "J5g1CzOyeriF"
      }
    },
    {
      "cell_type": "markdown",
      "metadata": {
        "id": "DswHLT5m0F7t"
      },
      "source": [
        "## Colab Setup"
      ]
    },
    {
      "cell_type": "code",
      "execution_count": 1,
      "metadata": {
        "id": "0YRLG9vMHzgH"
      },
      "outputs": [],
      "source": [
        "import json\n",
        "import os\n",
        "\n",
        "from google.colab import files\n",
        "\n",
        "if 'spark_jsl.json' not in os.listdir():\n",
        "  license_keys = files.upload()\n",
        "  os.rename(list(license_keys.keys())[0], 'spark_jsl.json')\n",
        "\n",
        "with open('spark_jsl.json') as f:\n",
        "    license_keys = json.load(f)\n",
        "\n",
        "# Defining license key-value pairs as local variables\n",
        "locals().update(license_keys)\n",
        "os.environ.update(license_keys)"
      ]
    },
    {
      "cell_type": "code",
      "execution_count": 2,
      "metadata": {
        "id": "ag_4GR_3E9Ti"
      },
      "outputs": [],
      "source": [
        "# Installing pyspark and spark-nlp\n",
        "! pip install --upgrade -q pyspark==3.1.2 \n",
        "\n",
        "# Installing Spark NLP Healthcare\n",
        "! pip install --upgrade -q spark-nlp-jsl==$JSL_VERSION  --extra-index-url https://pypi.johnsnowlabs.com/$SECRET"
      ]
    },
    {
      "cell_type": "markdown",
      "source": [
        "## Starting Spark"
      ],
      "metadata": {
        "id": "CdQ6kdWlsBYV"
      }
    },
    {
      "cell_type": "code",
      "execution_count": 3,
      "metadata": {
        "colab": {
          "base_uri": "https://localhost:8080/"
        },
        "id": "B572PXYwFBpN",
        "outputId": "8ab732db-a746-4ae1-962d-1c1cde392a5a"
      },
      "outputs": [
        {
          "output_type": "stream",
          "name": "stdout",
          "text": [
            "Spark NLP Version : 3.4.1\n",
            "Spark NLP_JSL Version : 3.4.1\n"
          ]
        }
      ],
      "source": [
        "import json\n",
        "import os\n",
        "from pyspark.ml import Pipeline,PipelineModel\n",
        "from pyspark.sql import SparkSession\n",
        "from pyspark.sql import functions as F\n",
        "\n",
        "from sparknlp.annotator import *\n",
        "from sparknlp_jsl.annotator import *\n",
        "from sparknlp.base import *\n",
        "import sparknlp_jsl\n",
        "import sparknlp\n",
        "\n",
        "import pandas as pd\n",
        "\n",
        "import warnings\n",
        "warnings.filterwarnings('ignore')\n",
        "\n",
        "print (\"Spark NLP Version :\", sparknlp.version())\n",
        "print (\"Spark NLP_JSL Version :\", sparknlp_jsl.version())\n",
        "\n",
        "params = {\"spark.driver.memory\":\"16G\", \n",
        "          \"spark.kryoserializer.buffer.max\":\"2000M\", \n",
        "          \"spark.driver.maxResultSize\":\"2000M\"} \n",
        "\n",
        "spark = sparknlp_jsl.start(license_keys['SECRET'],params=params)"
      ]
    },
    {
      "cell_type": "code",
      "execution_count": 4,
      "metadata": {
        "id": "6NI5Uj8Hr7TZ",
        "colab": {
          "base_uri": "https://localhost:8080/",
          "height": 220
        },
        "outputId": "3f74f747-54a0-44da-f3a6-feeab680ef26"
      },
      "outputs": [
        {
          "output_type": "execute_result",
          "data": {
            "text/html": [
              "\n",
              "            <div>\n",
              "                <p><b>SparkSession - in-memory</b></p>\n",
              "                \n",
              "        <div>\n",
              "            <p><b>SparkContext</b></p>\n",
              "\n",
              "            <p><a href=\"http://6479f718bdb7:4040\">Spark UI</a></p>\n",
              "\n",
              "            <dl>\n",
              "              <dt>Version</dt>\n",
              "                <dd><code>v3.1.2</code></dd>\n",
              "              <dt>Master</dt>\n",
              "                <dd><code>local[*]</code></dd>\n",
              "              <dt>AppName</dt>\n",
              "                <dd><code>Spark NLP Licensed</code></dd>\n",
              "            </dl>\n",
              "        </div>\n",
              "        \n",
              "            </div>\n",
              "        "
            ],
            "text/plain": [
              "<pyspark.sql.session.SparkSession at 0x7fbaed121590>"
            ]
          },
          "metadata": {},
          "execution_count": 4
        }
      ],
      "source": [
        "spark"
      ]
    },
    {
      "cell_type": "markdown",
      "source": [
        "## Creating pipeline"
      ],
      "metadata": {
        "id": "uasRn1PH6DB3"
      }
    },
    {
      "cell_type": "code",
      "execution_count": 5,
      "metadata": {
        "colab": {
          "base_uri": "https://localhost:8080/"
        },
        "outputId": "83a74bcb-a906-4292-f940-eabd495b9d6a",
        "id": "H1l14ypl6DB3"
      },
      "outputs": [
        {
          "output_type": "stream",
          "name": "stdout",
          "text": [
            "embeddings_clinical download started this may take some time.\n",
            "Approximate size to download 1.6 GB\n",
            "[OK!]\n",
            "ner_posology_large download started this may take some time.\n",
            "Approximate size to download 13.8 MB\n",
            "[OK!]\n",
            "pos_clinical download started this may take some time.\n",
            "Approximate size to download 1.5 MB\n",
            "[OK!]\n",
            "dependency_conllu download started this may take some time.\n",
            "Approximate size to download 16.7 MB\n",
            "[OK!]\n",
            "sbiobert_base_cased_mli download started this may take some time.\n",
            "Approximate size to download 384.3 MB\n",
            "[OK!]\n",
            "sbiobertresolve_rxnorm_augmented_re download started this may take some time.\n",
            "Approximate size to download 724.6 MB\n",
            "[OK!]\n"
          ]
        }
      ],
      "source": [
        "documenter = DocumentAssembler() \\\n",
        "    .setInputCol(\"text\") \\\n",
        "    .setOutputCol(\"document\")\n",
        "\n",
        "sentence_detector = SentenceDetector() \\\n",
        "    .setInputCols(\"document\") \\\n",
        "    .setOutputCol(\"sentence\")\n",
        "\n",
        "tokenizer = Tokenizer() \\\n",
        "    .setInputCols(\"sentence\") \\\n",
        "    .setOutputCol(\"token\")\n",
        "\n",
        "embeddings = WordEmbeddingsModel() \\\n",
        "    .pretrained(\"embeddings_clinical\", \"en\", \"clinical/models\")\\\n",
        "    .setInputCols([\"sentence\", \"token\"])\\\n",
        "    .setOutputCol(\"embeddings\")\n",
        "\n",
        "posology_ner_model = MedicalNerModel()\\\n",
        "    .pretrained(\"ner_posology_large\", \"en\", \"clinical/models\")\\\n",
        "    .setInputCols([\"sentence\", \"token\", \"embeddings\"])\\\n",
        "    .setOutputCol(\"ner\")\n",
        "\n",
        "ner_converter = NerConverterInternal()\\\n",
        "    .setInputCols(\"sentence\", \"token\", \"ner\")\\\n",
        "    .setOutputCol(\"ner_chunk\")\n",
        "\n",
        "pos_tager = PerceptronModel()\\\n",
        "    .pretrained(\"pos_clinical\", \"en\", \"clinical/models\")\\\n",
        "    .setInputCols(\"sentence\", \"token\")\\\n",
        "    .setOutputCol(\"pos_tag\")\n",
        "\n",
        "dependency_parser = DependencyParserModel()\\\n",
        "    .pretrained(\"dependency_conllu\", \"en\")\\\n",
        "    .setInputCols([\"sentence\", \"pos_tag\", \"token\"])\\\n",
        "    .setOutputCol(\"dependencies\")\n",
        "\n",
        "entity_chunk_embeddings = EntityChunkEmbeddings()\\\n",
        "    .pretrained(\"sbiobert_base_cased_mli\",\"en\",\"clinical/models\")\\\n",
        "    .setInputCols([\"ner_chunk\", \"dependencies\"])\\\n",
        "    .setOutputCol(\"drug_chunk_embeddings\")\\\n",
        "    .setMaxSyntacticDistance(3)\\\n",
        "    .setTargetEntities({\"DRUG\": [\"STRENGTH\", \"ROUTE\", \"FORM\"]})\\\n",
        "    .setEntityWeights({\"DRUG\": 0.8, \"STRENGTH\": 0.2, \"ROUTE\": 0.2, \"FORM\": 0.2})\n",
        "\n",
        "rxnorm_re = SentenceEntityResolverModel\\\n",
        "      .pretrained(\"sbiobertresolve_rxnorm_augmented_re\", \"en\",\"clinical/models\")\\\n",
        "      .setInputCols([\"drug_chunk_embeddings\"])\\\n",
        "      .setOutputCol(\"rxnorm_code\")\\\n",
        "      .setDistanceFunction(\"EUCLIDEAN\")\n",
        "\n",
        "rxnorm_pipeline_re = Pipeline(\n",
        "    stages = [\n",
        "        documenter,\n",
        "        sentence_detector,\n",
        "        tokenizer,\n",
        "        embeddings,\n",
        "        posology_ner_model,\n",
        "        ner_converter,\n",
        "        pos_tager,\n",
        "        dependency_parser,\n",
        "        entity_chunk_embeddings,\n",
        "        rxnorm_re\n",
        "        ])"
      ]
    },
    {
      "cell_type": "markdown",
      "source": [
        "### Sample Text"
      ],
      "metadata": {
        "id": "VFcpX5g2weR-"
      }
    },
    {
      "cell_type": "code",
      "source": [
        "import pandas as pd\n",
        "sampleText = [\"The patient was given metformin 500 mg tablet, 2.5 mg of coumadin and then ibuprofen.\",\n",
        "              \"The patient was given metformin 400 mg, coumadin 5 mg, coumadin, amlodipine 10 MG tablet\"]\n",
        "\n",
        "sample_df = pd.DataFrame({'text':sampleText}).reset_index()"
      ],
      "metadata": {
        "id": "caCsgzGPwh1l"
      },
      "execution_count": 6,
      "outputs": []
    },
    {
      "cell_type": "code",
      "execution_count": 7,
      "metadata": {
        "id": "Pv6eG74y6DB3"
      },
      "outputs": [],
      "source": [
        "data_df = spark.createDataFrame(sample_df)\n",
        "\n",
        "results = rxnorm_pipeline_re.fit(data_df).transform(data_df)"
      ]
    },
    {
      "cell_type": "markdown",
      "source": [
        "## Chunks extracted by NER model "
      ],
      "metadata": {
        "id": "kt0bAedcdrEv"
      }
    },
    {
      "cell_type": "code",
      "source": [
        "results.select(\"index\", F.explode(F.arrays_zip('ner_chunk.result', 'ner_chunk.metadata')).alias(\"cols\")) \\\n",
        ".select(\"index\", F.expr(\"cols['0']\").alias(\"chunk\"),\n",
        "        F.expr(\"cols['1']['entity']\").alias(\"ner_label\")).show(truncate=False)"
      ],
      "metadata": {
        "colab": {
          "base_uri": "https://localhost:8080/"
        },
        "id": "jIWbDBvAdykJ",
        "outputId": "1c9418dc-06f3-472e-ad18-895d34bda995"
      },
      "execution_count": 8,
      "outputs": [
        {
          "output_type": "stream",
          "name": "stdout",
          "text": [
            "+-----+----------+---------+\n",
            "|index|chunk     |ner_label|\n",
            "+-----+----------+---------+\n",
            "|0    |metformin |DRUG     |\n",
            "|0    |500 mg    |STRENGTH |\n",
            "|0    |tablet    |FORM     |\n",
            "|0    |2.5 mg    |STRENGTH |\n",
            "|0    |coumadin  |DRUG     |\n",
            "|0    |ibuprofen |DRUG     |\n",
            "|1    |metformin |DRUG     |\n",
            "|1    |400 mg    |STRENGTH |\n",
            "|1    |coumadin  |DRUG     |\n",
            "|1    |5 mg      |STRENGTH |\n",
            "|1    |coumadin  |DRUG     |\n",
            "|1    |amlodipine|DRUG     |\n",
            "|1    |10 MG     |STRENGTH |\n",
            "|1    |tablet    |FORM     |\n",
            "+-----+----------+---------+\n",
            "\n"
          ]
        }
      ]
    },
    {
      "cell_type": "markdown",
      "source": [
        "## Merged chunks by internal relation extraction model feature\n",
        "\n",
        "- We specified the relations as following by `.setTargetEntities` parameter in the EntityChunkEmbeddings annotator :    \n",
        "`.setTargetEntities({\"DRUG\": [\"STRENGTH\", \"ROUTE\", \"FORM\"]})`\n",
        "\n",
        "- EntityChunkEmbeddings calculates those new chunks embeddings according to the weights specified in`.setEntityWeights` parameter.\n",
        "\n",
        "`.setEntityWeights({\"DRUG\": 0.8, \"STRENGTH\": 0.2, \"ROUTE\": 0.2, \"FORM\": 0.2})`"
      ],
      "metadata": {
        "id": "s8hlscnbfGAa"
      }
    },
    {
      "cell_type": "code",
      "source": [
        "results.select('index','drug_chunk_embeddings.result').show(truncate = False)"
      ],
      "metadata": {
        "colab": {
          "base_uri": "https://localhost:8080/"
        },
        "outputId": "f83bad96-4630-4816-de72-d335e076ce2a",
        "id": "GGHibhK46DB3"
      },
      "execution_count": 9,
      "outputs": [
        {
          "output_type": "stream",
          "name": "stdout",
          "text": [
            "+-----+--------------------------------------------------------------------+\n",
            "|index|result                                                              |\n",
            "+-----+--------------------------------------------------------------------+\n",
            "|0    |[metformin 500 mg tablet, 2.5 mg coumadin, ibuprofen]               |\n",
            "|1    |[metformin 400 mg, coumadin 5 mg, coumadin, amlodipine 10 MG tablet]|\n",
            "+-----+--------------------------------------------------------------------+\n",
            "\n"
          ]
        }
      ]
    },
    {
      "cell_type": "markdown",
      "source": [
        "## RxNorm Results"
      ],
      "metadata": {
        "id": "RIHRyDXKhb9B"
      }
    },
    {
      "cell_type": "code",
      "source": [
        "results.select('index', F.explode(F.arrays_zip('drug_chunk_embeddings.result', \n",
        "                                                        'rxnorm_code.result', \"rxnorm_code.metadata\").alias(\"col\")))\\\n",
        "                 .select('index', \n",
        "                         F.expr(\"col['0']\").alias(\"chunk\"),\n",
        "                         F.expr(\"col['1']\").alias(\"rxnorm_code_\"),\n",
        "                         F.expr(\"col['2']['all_k_resolutions']\").alias(\"Concept_Name\")).show(truncate = 50)"
      ],
      "metadata": {
        "colab": {
          "base_uri": "https://localhost:8080/"
        },
        "id": "R4UTMs6Dig0K",
        "outputId": "4d1dca2b-bfee-4e21-b8e1-bd5ed86e7be3"
      },
      "execution_count": 10,
      "outputs": [
        {
          "output_type": "stream",
          "name": "stdout",
          "text": [
            "+-----+-----------------------+------------+--------------------------------------------------+\n",
            "|index|                  chunk|rxnorm_code_|                                      Concept_Name|\n",
            "+-----+-----------------------+------------+--------------------------------------------------+\n",
            "|    0|metformin 500 mg tablet|      860974|metformin hydrochloride 500 MG:::metformin 500 ...|\n",
            "|    0|        2.5 mg coumadin|      855313|warfarin sodium 2.5 MG [Coumadin]:::warfarin so...|\n",
            "|    0|              ibuprofen|     1747293|ibuprofen Injection:::ibuprofen Pill:::ibuprofe...|\n",
            "|    1|       metformin 400 mg|      332809|metformin 400 MG:::metformin 250 MG Oral Tablet...|\n",
            "|    1|          coumadin 5 mg|      855333|warfarin sodium 5 MG [Coumadin]:::warfarin sodi...|\n",
            "|    1|               coumadin|      202421|Coumadin:::warfarin sodium 2 MG/ML Injectable S...|\n",
            "|    1|amlodipine 10 MG tablet|      308135|amlodipine 10 MG Oral Tablet:::amlodipine 10 MG...|\n",
            "+-----+-----------------------+------------+--------------------------------------------------+\n",
            "\n"
          ]
        }
      ]
    }
  ],
  "metadata": {
    "colab": {
      "collapsed_sections": [],
      "machine_shape": "hm",
      "name": "3.2.Sentence_Entity_Resolvers_with_EntityChunkEmbeddings",
      "provenance": [],
      "toc_visible": true
    },
    "kernelspec": {
      "display_name": "Python 3",
      "name": "python3"
    },
    "language_info": {
      "name": "python"
    }
  },
  "nbformat": 4,
  "nbformat_minor": 0
}
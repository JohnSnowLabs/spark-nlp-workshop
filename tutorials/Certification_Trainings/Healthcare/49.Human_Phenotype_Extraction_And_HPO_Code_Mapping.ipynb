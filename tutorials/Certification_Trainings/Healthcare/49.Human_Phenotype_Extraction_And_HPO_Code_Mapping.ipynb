{
  "cells": [
    {
      "cell_type": "markdown",
      "source": [
        "![JohnSnowLabs](https://nlp.johnsnowlabs.com/assets/images/logo.png)"
      ],
      "metadata": {
        "id": "2bJvHPC3rWEf"
      }
    },
    {
      "cell_type": "markdown",
      "source": [
        "[![Open In Colab](https://colab.research.google.com/assets/colab-badge.svg)](https://colab.research.google.com/github/JohnSnowLabs/spark-nlp-workshop/blob/master/tutorials/Certification_Trainings/Healthcare/49.Human_Phenotype_Extraction_And_HPO_Code_Mapping.ipynb)"
      ],
      "metadata": {
        "id": "FQ7yT3NcrbKv"
      }
    },
    {
      "cell_type": "markdown",
      "source": [
        "# Human Phenotype Extraction and HPO Code Mapping\n",
        "\n",
        "Extracting human phenotype information from unstructured clinical text is critical for advancing diagnosis, research, and precision medicine. However, narrative descriptions of patient traits and symptoms are highly variable, making automated analysis challenging.\n",
        "\n",
        "The **Human Phenotype Ontology (HPO)** offers a standardized vocabulary to address this gap. By applying Natural Language Processing (NLP) techniques, we can detect phenotype mentions in text and map them to their corresponding HPO codes.\n",
        "\n",
        "This process transforms free-text data into structured, computable formats, enabling better patient stratification, genetic diagnosis, and large-scale clinical studies.\n",
        "\n",
        "This notebook demonstrates how to use:\n",
        "\n",
        "- [Pretrained Pipeline](https://nlp.johnsnowlabs.com/2025/05/02/hpo_mapper_pipeline_en.html) to extract phenotype entities and map to their corresponding **HPO** codes.\n",
        "\n",
        "- [Human Phenotypes Text Matcher](https://nlp.johnsnowlabs.com/2025/05/01/hpo_matcher_en.html),\n",
        "\n",
        "- [HPO Code Mapper](https://nlp.johnsnowlabs.com/2025/05/01/hpo_mapper_en.html),\n",
        "\n",
        "\n",
        "\n",
        "\n"
      ],
      "metadata": {
        "id": "8Z63er-xvE0B"
      }
    },
    {
      "cell_type": "markdown",
      "source": [
        "### Setup & Install Libraries"
      ],
      "metadata": {
        "id": "TitDW2Wqllid"
      }
    },
    {
      "cell_type": "code",
      "execution_count": null,
      "metadata": {
        "execution": {
          "iopub.execute_input": "2025-05-02T14:23:36.002308Z",
          "iopub.status.busy": "2025-05-02T14:23:36.001801Z",
          "iopub.status.idle": "2025-05-02T14:23:36.241785Z",
          "shell.execute_reply": "2025-05-02T14:23:36.241117Z",
          "shell.execute_reply.started": "2025-05-02T14:23:36.002284Z"
        },
        "id": "Aa95yvY7_M3n",
        "tags": []
      },
      "outputs": [],
      "source": [
        "import json\n",
        "import os\n",
        "\n",
        "from google.colab import files\n",
        "\n",
        "if 'spark_jsl.json' not in os.listdir():\n",
        "  license_keys = files.upload()\n",
        "  os.rename(list(license_keys.keys())[0], 'spark_jsl.json')\n",
        "\n",
        "with open('spark_jsl.json') as f:\n",
        "    license_keys = json.load(f)\n",
        "\n",
        "# Defining license key-value pairs as local variables\n",
        "locals().update(license_keys)\n",
        "os.environ.update(license_keys)"
      ]
    },
    {
      "cell_type": "code",
      "execution_count": null,
      "metadata": {
        "execution": {
          "iopub.execute_input": "2025-05-02T14:23:36.539217Z",
          "iopub.status.busy": "2025-05-02T14:23:36.538950Z",
          "iopub.status.idle": "2025-05-02T14:24:08.297670Z",
          "shell.execute_reply": "2025-05-02T14:24:08.296982Z",
          "shell.execute_reply.started": "2025-05-02T14:23:36.539200Z"
        },
        "id": "lAtriIJl_QQo",
        "tags": []
      },
      "outputs": [],
      "source": [
        "# Installing pyspark and spark-nlp\n",
        "! pip install --upgrade -q pyspark==3.5 spark-nlp==$PUBLIC_VERSION\n",
        "\n",
        "# Installing Spark NLP Healthcare\n",
        "! pip install --upgrade -q spark-nlp-jsl==$JSL_VERSION  --extra-index-url https://pypi.johnsnowlabs.com/$SECRET\n",
        "\n",
        "# Installing Spark NLP Display Library for visualization\n",
        "! pip install -q spark-nlp-display"
      ]
    },
    {
      "cell_type": "code",
      "execution_count": 3,
      "metadata": {
        "colab": {
          "base_uri": "https://localhost:8080/",
          "height": 254
        },
        "execution": {
          "iopub.execute_input": "2025-05-02T14:24:08.299229Z",
          "iopub.status.busy": "2025-05-02T14:24:08.298970Z",
          "iopub.status.idle": "2025-05-02T14:24:22.006823Z",
          "shell.execute_reply": "2025-05-02T14:24:22.006018Z",
          "shell.execute_reply.started": "2025-05-02T14:24:08.299210Z"
        },
        "id": "sYb1-ujp_JVn",
        "outputId": "e97e2877-6729-4a77-ccba-e198e3a10bcb",
        "scrolled": true,
        "tags": []
      },
      "outputs": [
        {
          "output_type": "stream",
          "name": "stdout",
          "text": [
            "Spark NLP Version : 6.0.0\n",
            "Spark NLP_JSL Version : 6.0.0\n"
          ]
        },
        {
          "output_type": "execute_result",
          "data": {
            "text/plain": [
              "<pyspark.sql.session.SparkSession at 0x7907140aa950>"
            ],
            "text/html": [
              "\n",
              "            <div>\n",
              "                <p><b>SparkSession - in-memory</b></p>\n",
              "                \n",
              "        <div>\n",
              "            <p><b>SparkContext</b></p>\n",
              "\n",
              "            <p><a href=\"http://585eb67e5eca:4040\">Spark UI</a></p>\n",
              "\n",
              "            <dl>\n",
              "              <dt>Version</dt>\n",
              "                <dd><code>v3.5.0</code></dd>\n",
              "              <dt>Master</dt>\n",
              "                <dd><code>local[*]</code></dd>\n",
              "              <dt>AppName</dt>\n",
              "                <dd><code>Spark NLP Licensed</code></dd>\n",
              "            </dl>\n",
              "        </div>\n",
              "        \n",
              "            </div>\n",
              "        "
            ]
          },
          "metadata": {},
          "execution_count": 3
        }
      ],
      "source": [
        "import json\n",
        "import os\n",
        "\n",
        "import sparknlp\n",
        "import sparknlp_jsl\n",
        "import pandas as pd\n",
        "\n",
        "from sparknlp.base import *\n",
        "from sparknlp.annotator import *\n",
        "from sparknlp_jsl.annotator import *\n",
        "\n",
        "from pyspark.ml import Pipeline\n",
        "from pyspark.sql import SparkSession\n",
        "from sparknlp.pretrained import PretrainedPipeline\n",
        "\n",
        "params = {\"spark.driver.memory\":\"16G\",\n",
        "          \"spark.kryoserializer.buffer.max\":\"2000M\",\n",
        "          \"spark.driver.maxResultSize\":\"2000M\"}\n",
        "\n",
        "spark = sparknlp_jsl.start(license_keys['SECRET'],params=params)\n",
        "\n",
        "print(\"Spark NLP Version :\", sparknlp.version())\n",
        "print(\"Spark NLP_JSL Version :\", sparknlp_jsl.version())\n",
        "\n",
        "spark"
      ]
    },
    {
      "cell_type": "markdown",
      "source": [
        "## Mapping Phenotypes to HPO Codes using a Pretrained Pipeline\n",
        "\n",
        "A [pretrained pipeline](https://nlp.johnsnowlabs.com/2025/05/02/hpo_mapper_pipeline_en.html) can be used to extract phenotype entities from clinical or biomedical text and map them to their corresponding **Human Phenotype Ontology (HPO)** codes.\n",
        "\n",
        "The Pretrained Pipeline (PP) will:\n",
        "- Load a pretrained Healthcare NLP pipeline.\n",
        "- Input raw clinical text containing phenotypic descriptions.\n",
        "- Automatically extract phenotype entities.\n",
        "- Map these entities to their standardized **HPO codes**.\n",
        "\n",
        "This approach ensures consistent terminology and paves the way for scalable, ontology-aware clinical text mining in biomedical research and applications.\n",
        "\n"
      ],
      "metadata": {
        "id": "Mgr2tHzovYzq"
      }
    },
    {
      "cell_type": "code",
      "source": [
        "text = \"\"\"APNEA: Presumed apnea of prematurity since < 34 wks gestation at birth.\n",
        "HYPERBILIRUBINEMIA: At risk for hyperbilirubinemia d/t prematurity.\n",
        "1/25-1/30: Received Amp/Gent while undergoing sepsis evaluation.\"\"\""
      ],
      "metadata": {
        "id": "U7fhWpkS0YNz"
      },
      "execution_count": 7,
      "outputs": []
    },
    {
      "cell_type": "code",
      "source": [
        "pipeline = PretrainedPipeline(\"hpo_mapper_pipeline\", \"en\", \"clinical/models\")"
      ],
      "metadata": {
        "id": "P2EQFNootdRI",
        "colab": {
          "base_uri": "https://localhost:8080/"
        },
        "outputId": "80f70d61-8a2c-4042-8126-f0fd6bd9643f"
      },
      "execution_count": 27,
      "outputs": [
        {
          "output_type": "stream",
          "name": "stdout",
          "text": [
            "hpo_mapper_pipeline download started this may take some time.\n",
            "Approx size to download 1.6 GB\n",
            "[OK!]\n"
          ]
        }
      ]
    },
    {
      "cell_type": "code",
      "source": [
        "pipeline.model.stages"
      ],
      "metadata": {
        "colab": {
          "base_uri": "https://localhost:8080/"
        },
        "id": "HKZvqpmWpEOm",
        "outputId": "5ebfb6fb-04f3-4378-9cba-0cfb52533912"
      },
      "execution_count": 6,
      "outputs": [
        {
          "output_type": "execute_result",
          "data": {
            "text/plain": [
              "[DocumentAssembler_d0bc7e7b5701,\n",
              " REGEX_TOKENIZER_412cf3aec0e0,\n",
              " StopWordsCleaner_07ae15b4ab3f,\n",
              " TokenAssembler_3c5fe8db3f38,\n",
              " SentenceDetectorDLModel_6bafc4746ea5,\n",
              " REGEX_TOKENIZER_ff483303fc87,\n",
              " WORD_EMBEDDINGS_MODEL_9004b1d00302,\n",
              " ENTITY_EXTRACTOR_b3e9ddf00ea8,\n",
              " REGEX_MATCHER_a9e4d3edf33b,\n",
              " MERGE_9d4376ade17e,\n",
              " ChunkFilterer_b773ee6df7c5,\n",
              " CHUNKER-MAPPER_2c1f125ecd86,\n",
              " ASSERTION_DL_25881ab6309e]"
            ]
          },
          "metadata": {},
          "execution_count": 6
        }
      ]
    },
    {
      "cell_type": "markdown",
      "source": [
        "Using **.fullAnnotate** provides more comprehensive output, including both the annotations and the metadata for each token."
      ],
      "metadata": {
        "id": "PX1r6Ospmmk_"
      }
    },
    {
      "cell_type": "code",
      "source": [
        "clinical_result = pipeline.fullAnnotate(text)[0]"
      ],
      "metadata": {
        "id": "QLS82n2_meFj"
      },
      "execution_count": 8,
      "outputs": []
    },
    {
      "cell_type": "code",
      "source": [
        "clinical_result.keys()"
      ],
      "metadata": {
        "colab": {
          "base_uri": "https://localhost:8080/"
        },
        "id": "4FIL3V0emSFx",
        "outputId": "3c86aafd-dd55-4ad6-db2b-1309798afaec"
      },
      "execution_count": 9,
      "outputs": [
        {
          "output_type": "execute_result",
          "data": {
            "text/plain": [
              "dict_keys(['hpo_code', 'raw_ner_chunk', 'document', 'ner_chunk', 'hpo_term', 'assertion', 'cleanTokens', 'regex_matches', 'token', 'clean_tokens', 'embeddings', 'cleanTokens_newDoc', 'sentence'])"
            ]
          },
          "metadata": {},
          "execution_count": 9
        }
      ]
    },
    {
      "cell_type": "code",
      "source": [
        "clinical_result[\"ner_chunk\"]"
      ],
      "metadata": {
        "colab": {
          "base_uri": "https://localhost:8080/"
        },
        "id": "-RX-1OAn1Txg",
        "outputId": "ed366781-1d67-4387-a2d3-4b2d4bd20f10"
      },
      "execution_count": 12,
      "outputs": [
        {
          "output_type": "execute_result",
          "data": {
            "text/plain": [
              "[Annotation(chunk, 16, 20, apnea, {'entity': 'HPO', 'ner_source': 'hpo_term', 'chunk': '1', 'sentence': '0'}, []),\n",
              " Annotation(chunk, 91, 108, hyperbilirubinemia, {'entity': 'HPO', 'ner_source': 'hpo_term', 'chunk': '3', 'sentence': '1'}, []),\n",
              " Annotation(chunk, 167, 172, sepsis, {'entity': 'HPO', 'ner_source': 'hpo_term', 'chunk': '4', 'sentence': '2'}, [])]"
            ]
          },
          "metadata": {},
          "execution_count": 12
        }
      ]
    },
    {
      "cell_type": "code",
      "source": [
        "clinical_result[\"hpo_code\"]"
      ],
      "metadata": {
        "colab": {
          "base_uri": "https://localhost:8080/"
        },
        "id": "MRKAvgcW1ZTr",
        "outputId": "92249cc7-61af-4316-e05c-748b68a57ea3"
      },
      "execution_count": 15,
      "outputs": [
        {
          "output_type": "execute_result",
          "data": {
            "text/plain": [
              "[Annotation(labeled_dependency, 16, 20, HP:0002104, {'resolved_text': 'HP:0002104', 'distance': '0.0', 'entity': 'HPO', '__distance_function__': 'levenshtein', 'relation': 'hpo_code', '__trained__': 'apnea', 'all_k_distances': '0.0:::0.0', 'ner_source': 'hpo_term', 'chunk': '1', 'sentence': '0', 'all_k_resolutions': 'HP:0002104:::', 'ops': '0.0', 'all_relations': '', 'target_text': 'apnea', '__relation_name__': 'hpo_code'}, []),\n",
              " Annotation(labeled_dependency, 91, 108, HP:0002904, {'resolved_text': 'HP:0002904', 'distance': '0.0', 'entity': 'HPO', '__distance_function__': 'levenshtein', 'relation': 'hpo_code', '__trained__': 'hyperbilirubinemia', 'all_k_distances': '0.0:::0.0', 'ner_source': 'hpo_term', 'chunk': '3', 'sentence': '1', 'all_k_resolutions': 'HP:0002904:::', 'ops': '0.0', 'all_relations': '', 'target_text': 'hyperbilirubinemia', '__relation_name__': 'hpo_code'}, []),\n",
              " Annotation(labeled_dependency, 167, 172, HP:0100806, {'resolved_text': 'HP:0100806', 'distance': '0.0', 'entity': 'HPO', '__distance_function__': 'levenshtein', 'relation': 'hpo_code', '__trained__': 'sepsis', 'all_k_distances': '0.0:::0.0', 'ner_source': 'hpo_term', 'chunk': '4', 'sentence': '2', 'all_k_resolutions': 'HP:0100806:::', 'ops': '0.0', 'all_relations': '', 'target_text': 'sepsis', '__relation_name__': 'hpo_code'}, [])]"
            ]
          },
          "metadata": {},
          "execution_count": 15
        }
      ]
    },
    {
      "cell_type": "code",
      "source": [
        "hpoterm_result = []\n",
        "begin = []\n",
        "end = []\n",
        "entity = []\n",
        "hpo_code = []\n",
        "assertions = []\n",
        "\n",
        "for term, code, assertion in zip(clinical_result['ner_chunk'], clinical_result['hpo_code'], clinical_result['assertion']):\n",
        "\n",
        "    hpoterm_result.append(term.result)\n",
        "    begin.append(term.begin)\n",
        "    end.append(term.end)\n",
        "    entity.append(term.metadata['entity'])\n",
        "    hpo_code.append(code.result)\n",
        "    assertions.append(assertion.result)\n",
        "\n",
        "df_clinical = pd.DataFrame({'chunk':hpoterm_result, 'begin': begin, 'end' : end , 'label' : entity, \"hpo_code\" : hpo_code, \"assertion\": assertions})\n",
        "\n",
        "df_clinical"
      ],
      "metadata": {
        "colab": {
          "base_uri": "https://localhost:8080/",
          "height": 143
        },
        "id": "H77W2RLVtdJo",
        "outputId": "3455662a-e88f-43a9-f507-3e5af486d14b"
      },
      "execution_count": 13,
      "outputs": [
        {
          "output_type": "execute_result",
          "data": {
            "text/plain": [
              "                chunk  begin  end label    hpo_code assertion\n",
              "0               apnea     16   20   HPO  HP:0002104  possible\n",
              "1  hyperbilirubinemia     91  108   HPO  HP:0002904   present\n",
              "2              sepsis    167  172   HPO  HP:0100806   present"
            ],
            "text/html": [
              "\n",
              "  <div id=\"df-7f392d66-2d0f-4d84-854b-c71f95366ca9\" class=\"colab-df-container\">\n",
              "    <div>\n",
              "<style scoped>\n",
              "    .dataframe tbody tr th:only-of-type {\n",
              "        vertical-align: middle;\n",
              "    }\n",
              "\n",
              "    .dataframe tbody tr th {\n",
              "        vertical-align: top;\n",
              "    }\n",
              "\n",
              "    .dataframe thead th {\n",
              "        text-align: right;\n",
              "    }\n",
              "</style>\n",
              "<table border=\"1\" class=\"dataframe\">\n",
              "  <thead>\n",
              "    <tr style=\"text-align: right;\">\n",
              "      <th></th>\n",
              "      <th>chunk</th>\n",
              "      <th>begin</th>\n",
              "      <th>end</th>\n",
              "      <th>label</th>\n",
              "      <th>hpo_code</th>\n",
              "      <th>assertion</th>\n",
              "    </tr>\n",
              "  </thead>\n",
              "  <tbody>\n",
              "    <tr>\n",
              "      <th>0</th>\n",
              "      <td>apnea</td>\n",
              "      <td>16</td>\n",
              "      <td>20</td>\n",
              "      <td>HPO</td>\n",
              "      <td>HP:0002104</td>\n",
              "      <td>possible</td>\n",
              "    </tr>\n",
              "    <tr>\n",
              "      <th>1</th>\n",
              "      <td>hyperbilirubinemia</td>\n",
              "      <td>91</td>\n",
              "      <td>108</td>\n",
              "      <td>HPO</td>\n",
              "      <td>HP:0002904</td>\n",
              "      <td>present</td>\n",
              "    </tr>\n",
              "    <tr>\n",
              "      <th>2</th>\n",
              "      <td>sepsis</td>\n",
              "      <td>167</td>\n",
              "      <td>172</td>\n",
              "      <td>HPO</td>\n",
              "      <td>HP:0100806</td>\n",
              "      <td>present</td>\n",
              "    </tr>\n",
              "  </tbody>\n",
              "</table>\n",
              "</div>\n",
              "    <div class=\"colab-df-buttons\">\n",
              "\n",
              "  <div class=\"colab-df-container\">\n",
              "    <button class=\"colab-df-convert\" onclick=\"convertToInteractive('df-7f392d66-2d0f-4d84-854b-c71f95366ca9')\"\n",
              "            title=\"Convert this dataframe to an interactive table.\"\n",
              "            style=\"display:none;\">\n",
              "\n",
              "  <svg xmlns=\"http://www.w3.org/2000/svg\" height=\"24px\" viewBox=\"0 -960 960 960\">\n",
              "    <path d=\"M120-120v-720h720v720H120Zm60-500h600v-160H180v160Zm220 220h160v-160H400v160Zm0 220h160v-160H400v160ZM180-400h160v-160H180v160Zm440 0h160v-160H620v160ZM180-180h160v-160H180v160Zm440 0h160v-160H620v160Z\"/>\n",
              "  </svg>\n",
              "    </button>\n",
              "\n",
              "  <style>\n",
              "    .colab-df-container {\n",
              "      display:flex;\n",
              "      gap: 12px;\n",
              "    }\n",
              "\n",
              "    .colab-df-convert {\n",
              "      background-color: #E8F0FE;\n",
              "      border: none;\n",
              "      border-radius: 50%;\n",
              "      cursor: pointer;\n",
              "      display: none;\n",
              "      fill: #1967D2;\n",
              "      height: 32px;\n",
              "      padding: 0 0 0 0;\n",
              "      width: 32px;\n",
              "    }\n",
              "\n",
              "    .colab-df-convert:hover {\n",
              "      background-color: #E2EBFA;\n",
              "      box-shadow: 0px 1px 2px rgba(60, 64, 67, 0.3), 0px 1px 3px 1px rgba(60, 64, 67, 0.15);\n",
              "      fill: #174EA6;\n",
              "    }\n",
              "\n",
              "    .colab-df-buttons div {\n",
              "      margin-bottom: 4px;\n",
              "    }\n",
              "\n",
              "    [theme=dark] .colab-df-convert {\n",
              "      background-color: #3B4455;\n",
              "      fill: #D2E3FC;\n",
              "    }\n",
              "\n",
              "    [theme=dark] .colab-df-convert:hover {\n",
              "      background-color: #434B5C;\n",
              "      box-shadow: 0px 1px 3px 1px rgba(0, 0, 0, 0.15);\n",
              "      filter: drop-shadow(0px 1px 2px rgba(0, 0, 0, 0.3));\n",
              "      fill: #FFFFFF;\n",
              "    }\n",
              "  </style>\n",
              "\n",
              "    <script>\n",
              "      const buttonEl =\n",
              "        document.querySelector('#df-7f392d66-2d0f-4d84-854b-c71f95366ca9 button.colab-df-convert');\n",
              "      buttonEl.style.display =\n",
              "        google.colab.kernel.accessAllowed ? 'block' : 'none';\n",
              "\n",
              "      async function convertToInteractive(key) {\n",
              "        const element = document.querySelector('#df-7f392d66-2d0f-4d84-854b-c71f95366ca9');\n",
              "        const dataTable =\n",
              "          await google.colab.kernel.invokeFunction('convertToInteractive',\n",
              "                                                    [key], {});\n",
              "        if (!dataTable) return;\n",
              "\n",
              "        const docLinkHtml = 'Like what you see? Visit the ' +\n",
              "          '<a target=\"_blank\" href=https://colab.research.google.com/notebooks/data_table.ipynb>data table notebook</a>'\n",
              "          + ' to learn more about interactive tables.';\n",
              "        element.innerHTML = '';\n",
              "        dataTable['output_type'] = 'display_data';\n",
              "        await google.colab.output.renderOutput(dataTable, element);\n",
              "        const docLink = document.createElement('div');\n",
              "        docLink.innerHTML = docLinkHtml;\n",
              "        element.appendChild(docLink);\n",
              "      }\n",
              "    </script>\n",
              "  </div>\n",
              "\n",
              "\n",
              "    <div id=\"df-d36049ce-993f-43fd-a013-eee1057723a0\">\n",
              "      <button class=\"colab-df-quickchart\" onclick=\"quickchart('df-d36049ce-993f-43fd-a013-eee1057723a0')\"\n",
              "                title=\"Suggest charts\"\n",
              "                style=\"display:none;\">\n",
              "\n",
              "<svg xmlns=\"http://www.w3.org/2000/svg\" height=\"24px\"viewBox=\"0 0 24 24\"\n",
              "     width=\"24px\">\n",
              "    <g>\n",
              "        <path d=\"M19 3H5c-1.1 0-2 .9-2 2v14c0 1.1.9 2 2 2h14c1.1 0 2-.9 2-2V5c0-1.1-.9-2-2-2zM9 17H7v-7h2v7zm4 0h-2V7h2v10zm4 0h-2v-4h2v4z\"/>\n",
              "    </g>\n",
              "</svg>\n",
              "      </button>\n",
              "\n",
              "<style>\n",
              "  .colab-df-quickchart {\n",
              "      --bg-color: #E8F0FE;\n",
              "      --fill-color: #1967D2;\n",
              "      --hover-bg-color: #E2EBFA;\n",
              "      --hover-fill-color: #174EA6;\n",
              "      --disabled-fill-color: #AAA;\n",
              "      --disabled-bg-color: #DDD;\n",
              "  }\n",
              "\n",
              "  [theme=dark] .colab-df-quickchart {\n",
              "      --bg-color: #3B4455;\n",
              "      --fill-color: #D2E3FC;\n",
              "      --hover-bg-color: #434B5C;\n",
              "      --hover-fill-color: #FFFFFF;\n",
              "      --disabled-bg-color: #3B4455;\n",
              "      --disabled-fill-color: #666;\n",
              "  }\n",
              "\n",
              "  .colab-df-quickchart {\n",
              "    background-color: var(--bg-color);\n",
              "    border: none;\n",
              "    border-radius: 50%;\n",
              "    cursor: pointer;\n",
              "    display: none;\n",
              "    fill: var(--fill-color);\n",
              "    height: 32px;\n",
              "    padding: 0;\n",
              "    width: 32px;\n",
              "  }\n",
              "\n",
              "  .colab-df-quickchart:hover {\n",
              "    background-color: var(--hover-bg-color);\n",
              "    box-shadow: 0 1px 2px rgba(60, 64, 67, 0.3), 0 1px 3px 1px rgba(60, 64, 67, 0.15);\n",
              "    fill: var(--button-hover-fill-color);\n",
              "  }\n",
              "\n",
              "  .colab-df-quickchart-complete:disabled,\n",
              "  .colab-df-quickchart-complete:disabled:hover {\n",
              "    background-color: var(--disabled-bg-color);\n",
              "    fill: var(--disabled-fill-color);\n",
              "    box-shadow: none;\n",
              "  }\n",
              "\n",
              "  .colab-df-spinner {\n",
              "    border: 2px solid var(--fill-color);\n",
              "    border-color: transparent;\n",
              "    border-bottom-color: var(--fill-color);\n",
              "    animation:\n",
              "      spin 1s steps(1) infinite;\n",
              "  }\n",
              "\n",
              "  @keyframes spin {\n",
              "    0% {\n",
              "      border-color: transparent;\n",
              "      border-bottom-color: var(--fill-color);\n",
              "      border-left-color: var(--fill-color);\n",
              "    }\n",
              "    20% {\n",
              "      border-color: transparent;\n",
              "      border-left-color: var(--fill-color);\n",
              "      border-top-color: var(--fill-color);\n",
              "    }\n",
              "    30% {\n",
              "      border-color: transparent;\n",
              "      border-left-color: var(--fill-color);\n",
              "      border-top-color: var(--fill-color);\n",
              "      border-right-color: var(--fill-color);\n",
              "    }\n",
              "    40% {\n",
              "      border-color: transparent;\n",
              "      border-right-color: var(--fill-color);\n",
              "      border-top-color: var(--fill-color);\n",
              "    }\n",
              "    60% {\n",
              "      border-color: transparent;\n",
              "      border-right-color: var(--fill-color);\n",
              "    }\n",
              "    80% {\n",
              "      border-color: transparent;\n",
              "      border-right-color: var(--fill-color);\n",
              "      border-bottom-color: var(--fill-color);\n",
              "    }\n",
              "    90% {\n",
              "      border-color: transparent;\n",
              "      border-bottom-color: var(--fill-color);\n",
              "    }\n",
              "  }\n",
              "</style>\n",
              "\n",
              "      <script>\n",
              "        async function quickchart(key) {\n",
              "          const quickchartButtonEl =\n",
              "            document.querySelector('#' + key + ' button');\n",
              "          quickchartButtonEl.disabled = true;  // To prevent multiple clicks.\n",
              "          quickchartButtonEl.classList.add('colab-df-spinner');\n",
              "          try {\n",
              "            const charts = await google.colab.kernel.invokeFunction(\n",
              "                'suggestCharts', [key], {});\n",
              "          } catch (error) {\n",
              "            console.error('Error during call to suggestCharts:', error);\n",
              "          }\n",
              "          quickchartButtonEl.classList.remove('colab-df-spinner');\n",
              "          quickchartButtonEl.classList.add('colab-df-quickchart-complete');\n",
              "        }\n",
              "        (() => {\n",
              "          let quickchartButtonEl =\n",
              "            document.querySelector('#df-d36049ce-993f-43fd-a013-eee1057723a0 button');\n",
              "          quickchartButtonEl.style.display =\n",
              "            google.colab.kernel.accessAllowed ? 'block' : 'none';\n",
              "        })();\n",
              "      </script>\n",
              "    </div>\n",
              "\n",
              "  <div id=\"id_02d6e81d-615e-452e-b782-7fc5a0b7a31d\">\n",
              "    <style>\n",
              "      .colab-df-generate {\n",
              "        background-color: #E8F0FE;\n",
              "        border: none;\n",
              "        border-radius: 50%;\n",
              "        cursor: pointer;\n",
              "        display: none;\n",
              "        fill: #1967D2;\n",
              "        height: 32px;\n",
              "        padding: 0 0 0 0;\n",
              "        width: 32px;\n",
              "      }\n",
              "\n",
              "      .colab-df-generate:hover {\n",
              "        background-color: #E2EBFA;\n",
              "        box-shadow: 0px 1px 2px rgba(60, 64, 67, 0.3), 0px 1px 3px 1px rgba(60, 64, 67, 0.15);\n",
              "        fill: #174EA6;\n",
              "      }\n",
              "\n",
              "      [theme=dark] .colab-df-generate {\n",
              "        background-color: #3B4455;\n",
              "        fill: #D2E3FC;\n",
              "      }\n",
              "\n",
              "      [theme=dark] .colab-df-generate:hover {\n",
              "        background-color: #434B5C;\n",
              "        box-shadow: 0px 1px 3px 1px rgba(0, 0, 0, 0.15);\n",
              "        filter: drop-shadow(0px 1px 2px rgba(0, 0, 0, 0.3));\n",
              "        fill: #FFFFFF;\n",
              "      }\n",
              "    </style>\n",
              "    <button class=\"colab-df-generate\" onclick=\"generateWithVariable('df_clinical')\"\n",
              "            title=\"Generate code using this dataframe.\"\n",
              "            style=\"display:none;\">\n",
              "\n",
              "  <svg xmlns=\"http://www.w3.org/2000/svg\" height=\"24px\"viewBox=\"0 0 24 24\"\n",
              "       width=\"24px\">\n",
              "    <path d=\"M7,19H8.4L18.45,9,17,7.55,7,17.6ZM5,21V16.75L18.45,3.32a2,2,0,0,1,2.83,0l1.4,1.43a1.91,1.91,0,0,1,.58,1.4,1.91,1.91,0,0,1-.58,1.4L9.25,21ZM18.45,9,17,7.55Zm-12,3A5.31,5.31,0,0,0,4.9,8.1,5.31,5.31,0,0,0,1,6.5,5.31,5.31,0,0,0,4.9,4.9,5.31,5.31,0,0,0,6.5,1,5.31,5.31,0,0,0,8.1,4.9,5.31,5.31,0,0,0,12,6.5,5.46,5.46,0,0,0,6.5,12Z\"/>\n",
              "  </svg>\n",
              "    </button>\n",
              "    <script>\n",
              "      (() => {\n",
              "      const buttonEl =\n",
              "        document.querySelector('#id_02d6e81d-615e-452e-b782-7fc5a0b7a31d button.colab-df-generate');\n",
              "      buttonEl.style.display =\n",
              "        google.colab.kernel.accessAllowed ? 'block' : 'none';\n",
              "\n",
              "      buttonEl.onclick = () => {\n",
              "        google.colab.notebook.generateWithVariable('df_clinical');\n",
              "      }\n",
              "      })();\n",
              "    </script>\n",
              "  </div>\n",
              "\n",
              "    </div>\n",
              "  </div>\n"
            ],
            "application/vnd.google.colaboratory.intrinsic+json": {
              "type": "dataframe",
              "variable_name": "df_clinical",
              "summary": "{\n  \"name\": \"df_clinical\",\n  \"rows\": 3,\n  \"fields\": [\n    {\n      \"column\": \"chunk\",\n      \"properties\": {\n        \"dtype\": \"string\",\n        \"num_unique_values\": 3,\n        \"samples\": [\n          \"apnea\",\n          \"hyperbilirubinemia\",\n          \"sepsis\"\n        ],\n        \"semantic_type\": \"\",\n        \"description\": \"\"\n      }\n    },\n    {\n      \"column\": \"begin\",\n      \"properties\": {\n        \"dtype\": \"number\",\n        \"std\": 75,\n        \"min\": 16,\n        \"max\": 167,\n        \"num_unique_values\": 3,\n        \"samples\": [\n          16,\n          91,\n          167\n        ],\n        \"semantic_type\": \"\",\n        \"description\": \"\"\n      }\n    },\n    {\n      \"column\": \"end\",\n      \"properties\": {\n        \"dtype\": \"number\",\n        \"std\": 76,\n        \"min\": 20,\n        \"max\": 172,\n        \"num_unique_values\": 3,\n        \"samples\": [\n          20,\n          108,\n          172\n        ],\n        \"semantic_type\": \"\",\n        \"description\": \"\"\n      }\n    },\n    {\n      \"column\": \"label\",\n      \"properties\": {\n        \"dtype\": \"category\",\n        \"num_unique_values\": 1,\n        \"samples\": [\n          \"HPO\"\n        ],\n        \"semantic_type\": \"\",\n        \"description\": \"\"\n      }\n    },\n    {\n      \"column\": \"hpo_code\",\n      \"properties\": {\n        \"dtype\": \"string\",\n        \"num_unique_values\": 3,\n        \"samples\": [\n          \"HP:0002104\"\n        ],\n        \"semantic_type\": \"\",\n        \"description\": \"\"\n      }\n    },\n    {\n      \"column\": \"assertion\",\n      \"properties\": {\n        \"dtype\": \"string\",\n        \"num_unique_values\": 2,\n        \"samples\": [\n          \"present\"\n        ],\n        \"semantic_type\": \"\",\n        \"description\": \"\"\n      }\n    }\n  ]\n}"
            }
          },
          "metadata": {},
          "execution_count": 13
        }
      ]
    },
    {
      "cell_type": "code",
      "source": [
        "from sparknlp_display import NerVisualizer\n",
        "\n",
        "visualiser = NerVisualizer()\n",
        "\n",
        "visualiser.display(clinical_result, label_col='ner_chunk', document_col='cleanTokens_newDoc')"
      ],
      "metadata": {
        "colab": {
          "base_uri": "https://localhost:8080/",
          "height": 88
        },
        "id": "VvJElT84UeQz",
        "outputId": "7f62af20-81b0-4f0c-d4c6-6cb6501afa14"
      },
      "execution_count": 17,
      "outputs": [
        {
          "output_type": "display_data",
          "data": {
            "text/plain": [
              "<IPython.core.display.HTML object>"
            ],
            "text/html": [
              "\n",
              "<style>\n",
              "    @import url('https://fonts.googleapis.com/css2?family=Montserrat:wght@300;400;500;600;700&display=swap');\n",
              "    @import url('https://fonts.googleapis.com/css2?family=Vistol Regular:wght@300;400;500;600;700&display=swap');\n",
              "    \n",
              "    .spark-nlp-display-scroll-entities {\n",
              "        border: 1px solid #E7EDF0;\n",
              "        border-radius: 3px;\n",
              "        text-align: justify;\n",
              "        \n",
              "    }\n",
              "    .spark-nlp-display-scroll-entities span {  \n",
              "        font-size: 14px;\n",
              "        line-height: 24px;\n",
              "        color: #536B76;\n",
              "        font-family: 'Montserrat', sans-serif !important;\n",
              "    }\n",
              "    \n",
              "    .spark-nlp-display-entity-wrapper{\n",
              "    \n",
              "        display: inline-grid;\n",
              "        text-align: center;\n",
              "        border-radius: 4px;\n",
              "        margin: 0 2px 5px 2px;\n",
              "        padding: 1px\n",
              "    }\n",
              "    .spark-nlp-display-entity-name{\n",
              "        font-size: 14px;\n",
              "        line-height: 24px;\n",
              "        font-family: 'Montserrat', sans-serif !important;\n",
              "        \n",
              "        background: #f1f2f3;\n",
              "        border-width: medium;\n",
              "        text-align: center;\n",
              "        \n",
              "        font-weight: 400;\n",
              "        \n",
              "        border-radius: 5px;\n",
              "        padding: 2px 5px;\n",
              "        display: block;\n",
              "        margin: 3px 2px;\n",
              "    \n",
              "    }\n",
              "    .spark-nlp-display-entity-type{\n",
              "        font-size: 14px;\n",
              "        line-height: 24px;\n",
              "        color: #ffffff;\n",
              "        font-family: 'Montserrat', sans-serif !important;\n",
              "        \n",
              "        text-transform: uppercase;\n",
              "        \n",
              "        font-weight: 500;\n",
              "\n",
              "        display: block;\n",
              "        padding: 3px 5px;\n",
              "    }\n",
              "    \n",
              "    .spark-nlp-display-entity-resolution{\n",
              "        font-size: 14px;\n",
              "        line-height: 24px;\n",
              "        color: #ffffff;\n",
              "        font-family: 'Vistol Regular', sans-serif !important;\n",
              "        \n",
              "        text-transform: uppercase;\n",
              "        \n",
              "        font-weight: 500;\n",
              "\n",
              "        display: block;\n",
              "        padding: 3px 5px;\n",
              "    }\n",
              "    \n",
              "    .spark-nlp-display-others{\n",
              "        font-size: 14px;\n",
              "        line-height: 24px;\n",
              "        font-family: 'Montserrat', sans-serif !important;\n",
              "        \n",
              "        font-weight: 400;\n",
              "    }\n",
              "\n",
              "</style>\n",
              " <span class=\"spark-nlp-display-others\" style=\"background-color: white\">APNEA: Presumed </span><span class=\"spark-nlp-display-entity-wrapper\" style=\"background-color: #83662F\"><span class=\"spark-nlp-display-entity-name\">apnea </span><span class=\"spark-nlp-display-entity-type\">HPO</span></span><span class=\"spark-nlp-display-others\" style=\"background-color: white\"> prematurity since < 34 wks gestation birth. HYPERBILIRUBINEMIA: risk </span><span class=\"spark-nlp-display-entity-wrapper\" style=\"background-color: #83662F\"><span class=\"spark-nlp-display-entity-name\">hyperbilirubinemia </span><span class=\"spark-nlp-display-entity-type\">HPO</span></span><span class=\"spark-nlp-display-others\" style=\"background-color: white\"> d/t prematurity. 1/25-1/30: Received Amp/Gent undergoing </span><span class=\"spark-nlp-display-entity-wrapper\" style=\"background-color: #83662F\"><span class=\"spark-nlp-display-entity-name\">sepsis </span><span class=\"spark-nlp-display-entity-type\">HPO</span></span><span class=\"spark-nlp-display-others\" style=\"background-color: white\"> evaluation.</span></div>"
            ]
          },
          "metadata": {}
        }
      ]
    },
    {
      "cell_type": "markdown",
      "source": [
        "The pipeline includes a section header detector, which helps distinguish when an HPO term is also used as a section header in clinical text. If you'd like to view the section headers along with the HPO terms, you can set the blacklist parameter in the chunk filterer stage to an empty list ([]). This will ensure that both HPO terms and section headers are returned."
      ],
      "metadata": {
        "id": "YPlc5NSr1zmR"
      }
    },
    {
      "cell_type": "code",
      "source": [
        "pipeline.model.stages"
      ],
      "metadata": {
        "colab": {
          "base_uri": "https://localhost:8080/"
        },
        "id": "hx9wThYl2biQ",
        "outputId": "c4dd58e5-aeab-4f37-a669-cc063a931c91"
      },
      "execution_count": 28,
      "outputs": [
        {
          "output_type": "execute_result",
          "data": {
            "text/plain": [
              "[DocumentAssembler_d0bc7e7b5701,\n",
              " REGEX_TOKENIZER_412cf3aec0e0,\n",
              " StopWordsCleaner_07ae15b4ab3f,\n",
              " TokenAssembler_3c5fe8db3f38,\n",
              " SentenceDetectorDLModel_6bafc4746ea5,\n",
              " REGEX_TOKENIZER_ff483303fc87,\n",
              " WORD_EMBEDDINGS_MODEL_9004b1d00302,\n",
              " ENTITY_EXTRACTOR_b3e9ddf00ea8,\n",
              " REGEX_MATCHER_a9e4d3edf33b,\n",
              " MERGE_9d4376ade17e,\n",
              " ChunkFilterer_b773ee6df7c5,\n",
              " CHUNKER-MAPPER_2c1f125ecd86,\n",
              " ASSERTION_DL_25881ab6309e]"
            ]
          },
          "metadata": {},
          "execution_count": 28
        }
      ]
    },
    {
      "cell_type": "code",
      "source": [
        "pipeline.model.stages[-3].getBlackList()"
      ],
      "metadata": {
        "colab": {
          "base_uri": "https://localhost:8080/"
        },
        "id": "BRjP3Upn3Hkd",
        "outputId": "88f97fd4-7c72-40cb-f78b-ffd0b77156dc"
      },
      "execution_count": 29,
      "outputs": [
        {
          "output_type": "execute_result",
          "data": {
            "text/plain": [
              "['SECTION_HEADER']"
            ]
          },
          "metadata": {},
          "execution_count": 29
        }
      ]
    },
    {
      "cell_type": "code",
      "source": [
        "pipeline.model.stages[-3] = pipeline.model.stages[-3].setBlackList([])\n",
        "print(\"Filterer Black List:\", pipeline.model.stages[-3].getBlackList())\n",
        "\n",
        "empty_data = spark.createDataFrame([[\"\"]]).toDF(\"text\")\n",
        "pipeline.transform(empty_data)\n",
        "\n",
        "clinical_result = pipeline.fullAnnotate(text)[0]\n",
        "\n",
        "hpoterm_result = []\n",
        "begin = []\n",
        "end = []\n",
        "entity = []\n",
        "hpo_code = []\n",
        "assertions = []\n",
        "\n",
        "for term, code, assertion in zip(clinical_result['ner_chunk'], clinical_result['hpo_code'], clinical_result['assertion']):\n",
        "\n",
        "    hpoterm_result.append(term.result)\n",
        "    begin.append(term.begin)\n",
        "    end.append(term.end)\n",
        "    entity.append(term.metadata['entity'])\n",
        "    hpo_code.append(code.result)\n",
        "    assertions.append(assertion.result)\n",
        "\n",
        "df_clinical = pd.DataFrame({'chunk':hpoterm_result, 'begin': begin, 'end' : end , 'label' : entity, \"hpo_code\" : hpo_code, \"assertion\": assertions})\n",
        "\n",
        "df_clinical"
      ],
      "metadata": {
        "colab": {
          "base_uri": "https://localhost:8080/",
          "height": 223
        },
        "id": "Oi_LYNrU2umz",
        "outputId": "9156f2f1-35b9-4328-b6b9-945b0e81dccb"
      },
      "execution_count": 32,
      "outputs": [
        {
          "output_type": "stream",
          "name": "stdout",
          "text": [
            "Filterer Black List: []\n"
          ]
        },
        {
          "output_type": "execute_result",
          "data": {
            "text/plain": [
              "                 chunk  begin  end           label    hpo_code assertion\n",
              "0               APNEA:      0    5  SECTION_HEADER        NONE   present\n",
              "1                apnea     16   20             HPO  HP:0002104  possible\n",
              "2  HYPERBILIRUBINEMIA:     66   84  SECTION_HEADER        NONE   present\n",
              "3   hyperbilirubinemia     91  108             HPO  HP:0002904   present\n",
              "4               sepsis    167  172             HPO  HP:0100806   present"
            ],
            "text/html": [
              "\n",
              "  <div id=\"df-a0def547-ba2f-4669-a512-e402a96519da\" class=\"colab-df-container\">\n",
              "    <div>\n",
              "<style scoped>\n",
              "    .dataframe tbody tr th:only-of-type {\n",
              "        vertical-align: middle;\n",
              "    }\n",
              "\n",
              "    .dataframe tbody tr th {\n",
              "        vertical-align: top;\n",
              "    }\n",
              "\n",
              "    .dataframe thead th {\n",
              "        text-align: right;\n",
              "    }\n",
              "</style>\n",
              "<table border=\"1\" class=\"dataframe\">\n",
              "  <thead>\n",
              "    <tr style=\"text-align: right;\">\n",
              "      <th></th>\n",
              "      <th>chunk</th>\n",
              "      <th>begin</th>\n",
              "      <th>end</th>\n",
              "      <th>label</th>\n",
              "      <th>hpo_code</th>\n",
              "      <th>assertion</th>\n",
              "    </tr>\n",
              "  </thead>\n",
              "  <tbody>\n",
              "    <tr>\n",
              "      <th>0</th>\n",
              "      <td>APNEA:</td>\n",
              "      <td>0</td>\n",
              "      <td>5</td>\n",
              "      <td>SECTION_HEADER</td>\n",
              "      <td>NONE</td>\n",
              "      <td>present</td>\n",
              "    </tr>\n",
              "    <tr>\n",
              "      <th>1</th>\n",
              "      <td>apnea</td>\n",
              "      <td>16</td>\n",
              "      <td>20</td>\n",
              "      <td>HPO</td>\n",
              "      <td>HP:0002104</td>\n",
              "      <td>possible</td>\n",
              "    </tr>\n",
              "    <tr>\n",
              "      <th>2</th>\n",
              "      <td>HYPERBILIRUBINEMIA:</td>\n",
              "      <td>66</td>\n",
              "      <td>84</td>\n",
              "      <td>SECTION_HEADER</td>\n",
              "      <td>NONE</td>\n",
              "      <td>present</td>\n",
              "    </tr>\n",
              "    <tr>\n",
              "      <th>3</th>\n",
              "      <td>hyperbilirubinemia</td>\n",
              "      <td>91</td>\n",
              "      <td>108</td>\n",
              "      <td>HPO</td>\n",
              "      <td>HP:0002904</td>\n",
              "      <td>present</td>\n",
              "    </tr>\n",
              "    <tr>\n",
              "      <th>4</th>\n",
              "      <td>sepsis</td>\n",
              "      <td>167</td>\n",
              "      <td>172</td>\n",
              "      <td>HPO</td>\n",
              "      <td>HP:0100806</td>\n",
              "      <td>present</td>\n",
              "    </tr>\n",
              "  </tbody>\n",
              "</table>\n",
              "</div>\n",
              "    <div class=\"colab-df-buttons\">\n",
              "\n",
              "  <div class=\"colab-df-container\">\n",
              "    <button class=\"colab-df-convert\" onclick=\"convertToInteractive('df-a0def547-ba2f-4669-a512-e402a96519da')\"\n",
              "            title=\"Convert this dataframe to an interactive table.\"\n",
              "            style=\"display:none;\">\n",
              "\n",
              "  <svg xmlns=\"http://www.w3.org/2000/svg\" height=\"24px\" viewBox=\"0 -960 960 960\">\n",
              "    <path d=\"M120-120v-720h720v720H120Zm60-500h600v-160H180v160Zm220 220h160v-160H400v160Zm0 220h160v-160H400v160ZM180-400h160v-160H180v160Zm440 0h160v-160H620v160ZM180-180h160v-160H180v160Zm440 0h160v-160H620v160Z\"/>\n",
              "  </svg>\n",
              "    </button>\n",
              "\n",
              "  <style>\n",
              "    .colab-df-container {\n",
              "      display:flex;\n",
              "      gap: 12px;\n",
              "    }\n",
              "\n",
              "    .colab-df-convert {\n",
              "      background-color: #E8F0FE;\n",
              "      border: none;\n",
              "      border-radius: 50%;\n",
              "      cursor: pointer;\n",
              "      display: none;\n",
              "      fill: #1967D2;\n",
              "      height: 32px;\n",
              "      padding: 0 0 0 0;\n",
              "      width: 32px;\n",
              "    }\n",
              "\n",
              "    .colab-df-convert:hover {\n",
              "      background-color: #E2EBFA;\n",
              "      box-shadow: 0px 1px 2px rgba(60, 64, 67, 0.3), 0px 1px 3px 1px rgba(60, 64, 67, 0.15);\n",
              "      fill: #174EA6;\n",
              "    }\n",
              "\n",
              "    .colab-df-buttons div {\n",
              "      margin-bottom: 4px;\n",
              "    }\n",
              "\n",
              "    [theme=dark] .colab-df-convert {\n",
              "      background-color: #3B4455;\n",
              "      fill: #D2E3FC;\n",
              "    }\n",
              "\n",
              "    [theme=dark] .colab-df-convert:hover {\n",
              "      background-color: #434B5C;\n",
              "      box-shadow: 0px 1px 3px 1px rgba(0, 0, 0, 0.15);\n",
              "      filter: drop-shadow(0px 1px 2px rgba(0, 0, 0, 0.3));\n",
              "      fill: #FFFFFF;\n",
              "    }\n",
              "  </style>\n",
              "\n",
              "    <script>\n",
              "      const buttonEl =\n",
              "        document.querySelector('#df-a0def547-ba2f-4669-a512-e402a96519da button.colab-df-convert');\n",
              "      buttonEl.style.display =\n",
              "        google.colab.kernel.accessAllowed ? 'block' : 'none';\n",
              "\n",
              "      async function convertToInteractive(key) {\n",
              "        const element = document.querySelector('#df-a0def547-ba2f-4669-a512-e402a96519da');\n",
              "        const dataTable =\n",
              "          await google.colab.kernel.invokeFunction('convertToInteractive',\n",
              "                                                    [key], {});\n",
              "        if (!dataTable) return;\n",
              "\n",
              "        const docLinkHtml = 'Like what you see? Visit the ' +\n",
              "          '<a target=\"_blank\" href=https://colab.research.google.com/notebooks/data_table.ipynb>data table notebook</a>'\n",
              "          + ' to learn more about interactive tables.';\n",
              "        element.innerHTML = '';\n",
              "        dataTable['output_type'] = 'display_data';\n",
              "        await google.colab.output.renderOutput(dataTable, element);\n",
              "        const docLink = document.createElement('div');\n",
              "        docLink.innerHTML = docLinkHtml;\n",
              "        element.appendChild(docLink);\n",
              "      }\n",
              "    </script>\n",
              "  </div>\n",
              "\n",
              "\n",
              "    <div id=\"df-35d52ce5-a8af-4810-a659-e140a05bd149\">\n",
              "      <button class=\"colab-df-quickchart\" onclick=\"quickchart('df-35d52ce5-a8af-4810-a659-e140a05bd149')\"\n",
              "                title=\"Suggest charts\"\n",
              "                style=\"display:none;\">\n",
              "\n",
              "<svg xmlns=\"http://www.w3.org/2000/svg\" height=\"24px\"viewBox=\"0 0 24 24\"\n",
              "     width=\"24px\">\n",
              "    <g>\n",
              "        <path d=\"M19 3H5c-1.1 0-2 .9-2 2v14c0 1.1.9 2 2 2h14c1.1 0 2-.9 2-2V5c0-1.1-.9-2-2-2zM9 17H7v-7h2v7zm4 0h-2V7h2v10zm4 0h-2v-4h2v4z\"/>\n",
              "    </g>\n",
              "</svg>\n",
              "      </button>\n",
              "\n",
              "<style>\n",
              "  .colab-df-quickchart {\n",
              "      --bg-color: #E8F0FE;\n",
              "      --fill-color: #1967D2;\n",
              "      --hover-bg-color: #E2EBFA;\n",
              "      --hover-fill-color: #174EA6;\n",
              "      --disabled-fill-color: #AAA;\n",
              "      --disabled-bg-color: #DDD;\n",
              "  }\n",
              "\n",
              "  [theme=dark] .colab-df-quickchart {\n",
              "      --bg-color: #3B4455;\n",
              "      --fill-color: #D2E3FC;\n",
              "      --hover-bg-color: #434B5C;\n",
              "      --hover-fill-color: #FFFFFF;\n",
              "      --disabled-bg-color: #3B4455;\n",
              "      --disabled-fill-color: #666;\n",
              "  }\n",
              "\n",
              "  .colab-df-quickchart {\n",
              "    background-color: var(--bg-color);\n",
              "    border: none;\n",
              "    border-radius: 50%;\n",
              "    cursor: pointer;\n",
              "    display: none;\n",
              "    fill: var(--fill-color);\n",
              "    height: 32px;\n",
              "    padding: 0;\n",
              "    width: 32px;\n",
              "  }\n",
              "\n",
              "  .colab-df-quickchart:hover {\n",
              "    background-color: var(--hover-bg-color);\n",
              "    box-shadow: 0 1px 2px rgba(60, 64, 67, 0.3), 0 1px 3px 1px rgba(60, 64, 67, 0.15);\n",
              "    fill: var(--button-hover-fill-color);\n",
              "  }\n",
              "\n",
              "  .colab-df-quickchart-complete:disabled,\n",
              "  .colab-df-quickchart-complete:disabled:hover {\n",
              "    background-color: var(--disabled-bg-color);\n",
              "    fill: var(--disabled-fill-color);\n",
              "    box-shadow: none;\n",
              "  }\n",
              "\n",
              "  .colab-df-spinner {\n",
              "    border: 2px solid var(--fill-color);\n",
              "    border-color: transparent;\n",
              "    border-bottom-color: var(--fill-color);\n",
              "    animation:\n",
              "      spin 1s steps(1) infinite;\n",
              "  }\n",
              "\n",
              "  @keyframes spin {\n",
              "    0% {\n",
              "      border-color: transparent;\n",
              "      border-bottom-color: var(--fill-color);\n",
              "      border-left-color: var(--fill-color);\n",
              "    }\n",
              "    20% {\n",
              "      border-color: transparent;\n",
              "      border-left-color: var(--fill-color);\n",
              "      border-top-color: var(--fill-color);\n",
              "    }\n",
              "    30% {\n",
              "      border-color: transparent;\n",
              "      border-left-color: var(--fill-color);\n",
              "      border-top-color: var(--fill-color);\n",
              "      border-right-color: var(--fill-color);\n",
              "    }\n",
              "    40% {\n",
              "      border-color: transparent;\n",
              "      border-right-color: var(--fill-color);\n",
              "      border-top-color: var(--fill-color);\n",
              "    }\n",
              "    60% {\n",
              "      border-color: transparent;\n",
              "      border-right-color: var(--fill-color);\n",
              "    }\n",
              "    80% {\n",
              "      border-color: transparent;\n",
              "      border-right-color: var(--fill-color);\n",
              "      border-bottom-color: var(--fill-color);\n",
              "    }\n",
              "    90% {\n",
              "      border-color: transparent;\n",
              "      border-bottom-color: var(--fill-color);\n",
              "    }\n",
              "  }\n",
              "</style>\n",
              "\n",
              "      <script>\n",
              "        async function quickchart(key) {\n",
              "          const quickchartButtonEl =\n",
              "            document.querySelector('#' + key + ' button');\n",
              "          quickchartButtonEl.disabled = true;  // To prevent multiple clicks.\n",
              "          quickchartButtonEl.classList.add('colab-df-spinner');\n",
              "          try {\n",
              "            const charts = await google.colab.kernel.invokeFunction(\n",
              "                'suggestCharts', [key], {});\n",
              "          } catch (error) {\n",
              "            console.error('Error during call to suggestCharts:', error);\n",
              "          }\n",
              "          quickchartButtonEl.classList.remove('colab-df-spinner');\n",
              "          quickchartButtonEl.classList.add('colab-df-quickchart-complete');\n",
              "        }\n",
              "        (() => {\n",
              "          let quickchartButtonEl =\n",
              "            document.querySelector('#df-35d52ce5-a8af-4810-a659-e140a05bd149 button');\n",
              "          quickchartButtonEl.style.display =\n",
              "            google.colab.kernel.accessAllowed ? 'block' : 'none';\n",
              "        })();\n",
              "      </script>\n",
              "    </div>\n",
              "\n",
              "  <div id=\"id_fc8bf73d-1920-4c6d-af96-ad5e5ddb0bdc\">\n",
              "    <style>\n",
              "      .colab-df-generate {\n",
              "        background-color: #E8F0FE;\n",
              "        border: none;\n",
              "        border-radius: 50%;\n",
              "        cursor: pointer;\n",
              "        display: none;\n",
              "        fill: #1967D2;\n",
              "        height: 32px;\n",
              "        padding: 0 0 0 0;\n",
              "        width: 32px;\n",
              "      }\n",
              "\n",
              "      .colab-df-generate:hover {\n",
              "        background-color: #E2EBFA;\n",
              "        box-shadow: 0px 1px 2px rgba(60, 64, 67, 0.3), 0px 1px 3px 1px rgba(60, 64, 67, 0.15);\n",
              "        fill: #174EA6;\n",
              "      }\n",
              "\n",
              "      [theme=dark] .colab-df-generate {\n",
              "        background-color: #3B4455;\n",
              "        fill: #D2E3FC;\n",
              "      }\n",
              "\n",
              "      [theme=dark] .colab-df-generate:hover {\n",
              "        background-color: #434B5C;\n",
              "        box-shadow: 0px 1px 3px 1px rgba(0, 0, 0, 0.15);\n",
              "        filter: drop-shadow(0px 1px 2px rgba(0, 0, 0, 0.3));\n",
              "        fill: #FFFFFF;\n",
              "      }\n",
              "    </style>\n",
              "    <button class=\"colab-df-generate\" onclick=\"generateWithVariable('df_clinical')\"\n",
              "            title=\"Generate code using this dataframe.\"\n",
              "            style=\"display:none;\">\n",
              "\n",
              "  <svg xmlns=\"http://www.w3.org/2000/svg\" height=\"24px\"viewBox=\"0 0 24 24\"\n",
              "       width=\"24px\">\n",
              "    <path d=\"M7,19H8.4L18.45,9,17,7.55,7,17.6ZM5,21V16.75L18.45,3.32a2,2,0,0,1,2.83,0l1.4,1.43a1.91,1.91,0,0,1,.58,1.4,1.91,1.91,0,0,1-.58,1.4L9.25,21ZM18.45,9,17,7.55Zm-12,3A5.31,5.31,0,0,0,4.9,8.1,5.31,5.31,0,0,0,1,6.5,5.31,5.31,0,0,0,4.9,4.9,5.31,5.31,0,0,0,6.5,1,5.31,5.31,0,0,0,8.1,4.9,5.31,5.31,0,0,0,12,6.5,5.46,5.46,0,0,0,6.5,12Z\"/>\n",
              "  </svg>\n",
              "    </button>\n",
              "    <script>\n",
              "      (() => {\n",
              "      const buttonEl =\n",
              "        document.querySelector('#id_fc8bf73d-1920-4c6d-af96-ad5e5ddb0bdc button.colab-df-generate');\n",
              "      buttonEl.style.display =\n",
              "        google.colab.kernel.accessAllowed ? 'block' : 'none';\n",
              "\n",
              "      buttonEl.onclick = () => {\n",
              "        google.colab.notebook.generateWithVariable('df_clinical');\n",
              "      }\n",
              "      })();\n",
              "    </script>\n",
              "  </div>\n",
              "\n",
              "    </div>\n",
              "  </div>\n"
            ],
            "application/vnd.google.colaboratory.intrinsic+json": {
              "type": "dataframe",
              "variable_name": "df_clinical",
              "summary": "{\n  \"name\": \"df_clinical\",\n  \"rows\": 5,\n  \"fields\": [\n    {\n      \"column\": \"chunk\",\n      \"properties\": {\n        \"dtype\": \"string\",\n        \"num_unique_values\": 5,\n        \"samples\": [\n          \"apnea\",\n          \"sepsis\",\n          \"HYPERBILIRUBINEMIA:\"\n        ],\n        \"semantic_type\": \"\",\n        \"description\": \"\"\n      }\n    },\n    {\n      \"column\": \"begin\",\n      \"properties\": {\n        \"dtype\": \"number\",\n        \"std\": 66,\n        \"min\": 0,\n        \"max\": 167,\n        \"num_unique_values\": 5,\n        \"samples\": [\n          16,\n          167,\n          66\n        ],\n        \"semantic_type\": \"\",\n        \"description\": \"\"\n      }\n    },\n    {\n      \"column\": \"end\",\n      \"properties\": {\n        \"dtype\": \"number\",\n        \"std\": 67,\n        \"min\": 5,\n        \"max\": 172,\n        \"num_unique_values\": 5,\n        \"samples\": [\n          20,\n          172,\n          84\n        ],\n        \"semantic_type\": \"\",\n        \"description\": \"\"\n      }\n    },\n    {\n      \"column\": \"label\",\n      \"properties\": {\n        \"dtype\": \"category\",\n        \"num_unique_values\": 2,\n        \"samples\": [\n          \"HPO\",\n          \"SECTION_HEADER\"\n        ],\n        \"semantic_type\": \"\",\n        \"description\": \"\"\n      }\n    },\n    {\n      \"column\": \"hpo_code\",\n      \"properties\": {\n        \"dtype\": \"string\",\n        \"num_unique_values\": 4,\n        \"samples\": [\n          \"HP:0002104\",\n          \"HP:0100806\"\n        ],\n        \"semantic_type\": \"\",\n        \"description\": \"\"\n      }\n    },\n    {\n      \"column\": \"assertion\",\n      \"properties\": {\n        \"dtype\": \"category\",\n        \"num_unique_values\": 2,\n        \"samples\": [\n          \"possible\",\n          \"present\"\n        ],\n        \"semantic_type\": \"\",\n        \"description\": \"\"\n      }\n    }\n  ]\n}"
            }
          },
          "metadata": {},
          "execution_count": 32
        }
      ]
    },
    {
      "cell_type": "code",
      "source": [
        "from sparknlp_display import NerVisualizer\n",
        "\n",
        "visualiser = NerVisualizer()\n",
        "\n",
        "visualiser.display(clinical_result, label_col='ner_chunk', document_col='cleanTokens_newDoc')"
      ],
      "metadata": {
        "colab": {
          "base_uri": "https://localhost:8080/",
          "height": 88
        },
        "id": "FEdPLJLp93IV",
        "outputId": "ddfb8eb9-6a9c-4846-df32-d0274b5c4de5"
      },
      "execution_count": 33,
      "outputs": [
        {
          "output_type": "display_data",
          "data": {
            "text/plain": [
              "<IPython.core.display.HTML object>"
            ],
            "text/html": [
              "\n",
              "<style>\n",
              "    @import url('https://fonts.googleapis.com/css2?family=Montserrat:wght@300;400;500;600;700&display=swap');\n",
              "    @import url('https://fonts.googleapis.com/css2?family=Vistol Regular:wght@300;400;500;600;700&display=swap');\n",
              "    \n",
              "    .spark-nlp-display-scroll-entities {\n",
              "        border: 1px solid #E7EDF0;\n",
              "        border-radius: 3px;\n",
              "        text-align: justify;\n",
              "        \n",
              "    }\n",
              "    .spark-nlp-display-scroll-entities span {  \n",
              "        font-size: 14px;\n",
              "        line-height: 24px;\n",
              "        color: #536B76;\n",
              "        font-family: 'Montserrat', sans-serif !important;\n",
              "    }\n",
              "    \n",
              "    .spark-nlp-display-entity-wrapper{\n",
              "    \n",
              "        display: inline-grid;\n",
              "        text-align: center;\n",
              "        border-radius: 4px;\n",
              "        margin: 0 2px 5px 2px;\n",
              "        padding: 1px\n",
              "    }\n",
              "    .spark-nlp-display-entity-name{\n",
              "        font-size: 14px;\n",
              "        line-height: 24px;\n",
              "        font-family: 'Montserrat', sans-serif !important;\n",
              "        \n",
              "        background: #f1f2f3;\n",
              "        border-width: medium;\n",
              "        text-align: center;\n",
              "        \n",
              "        font-weight: 400;\n",
              "        \n",
              "        border-radius: 5px;\n",
              "        padding: 2px 5px;\n",
              "        display: block;\n",
              "        margin: 3px 2px;\n",
              "    \n",
              "    }\n",
              "    .spark-nlp-display-entity-type{\n",
              "        font-size: 14px;\n",
              "        line-height: 24px;\n",
              "        color: #ffffff;\n",
              "        font-family: 'Montserrat', sans-serif !important;\n",
              "        \n",
              "        text-transform: uppercase;\n",
              "        \n",
              "        font-weight: 500;\n",
              "\n",
              "        display: block;\n",
              "        padding: 3px 5px;\n",
              "    }\n",
              "    \n",
              "    .spark-nlp-display-entity-resolution{\n",
              "        font-size: 14px;\n",
              "        line-height: 24px;\n",
              "        color: #ffffff;\n",
              "        font-family: 'Vistol Regular', sans-serif !important;\n",
              "        \n",
              "        text-transform: uppercase;\n",
              "        \n",
              "        font-weight: 500;\n",
              "\n",
              "        display: block;\n",
              "        padding: 3px 5px;\n",
              "    }\n",
              "    \n",
              "    .spark-nlp-display-others{\n",
              "        font-size: 14px;\n",
              "        line-height: 24px;\n",
              "        font-family: 'Montserrat', sans-serif !important;\n",
              "        \n",
              "        font-weight: 400;\n",
              "    }\n",
              "\n",
              "</style>\n",
              " <span class=\"spark-nlp-display-entity-wrapper\" style=\"background-color: #9AA279\"><span class=\"spark-nlp-display-entity-name\">APNEA: </span><span class=\"spark-nlp-display-entity-type\">SECTION_HEADER</span></span><span class=\"spark-nlp-display-others\" style=\"background-color: white\"> Presumed </span><span class=\"spark-nlp-display-entity-wrapper\" style=\"background-color: #AFA670\"><span class=\"spark-nlp-display-entity-name\">apnea </span><span class=\"spark-nlp-display-entity-type\">HPO</span></span><span class=\"spark-nlp-display-others\" style=\"background-color: white\"> prematurity since < 34 wks gestation birth. </span><span class=\"spark-nlp-display-entity-wrapper\" style=\"background-color: #9AA279\"><span class=\"spark-nlp-display-entity-name\">HYPERBILIRUBINEMIA: </span><span class=\"spark-nlp-display-entity-type\">SECTION_HEADER</span></span><span class=\"spark-nlp-display-others\" style=\"background-color: white\"> risk </span><span class=\"spark-nlp-display-entity-wrapper\" style=\"background-color: #AFA670\"><span class=\"spark-nlp-display-entity-name\">hyperbilirubinemia </span><span class=\"spark-nlp-display-entity-type\">HPO</span></span><span class=\"spark-nlp-display-others\" style=\"background-color: white\"> d/t prematurity. 1/25-1/30: Received Amp/Gent undergoing </span><span class=\"spark-nlp-display-entity-wrapper\" style=\"background-color: #AFA670\"><span class=\"spark-nlp-display-entity-name\">sepsis </span><span class=\"spark-nlp-display-entity-type\">HPO</span></span><span class=\"spark-nlp-display-others\" style=\"background-color: white\"> evaluation.</span></div>"
            ]
          },
          "metadata": {}
        }
      ]
    },
    {
      "cell_type": "markdown",
      "source": [
        "## Human Phenotypes Text Matcher\n",
        "\n",
        "[Human Phenotypes Text Matcher](https://nlp.johnsnowlabs.com/2025/05/01/hpo_matcher_en.html) identifies mentions of phenotype terms within unstructured text by matching them against a curated list or ontology like HPO.\n",
        "\n",
        "Text Matcher enables **quick and accurate detection of phenotype-related information**, supporting downstream tasks like HPO code mapping, diagnosis support, and clinical data analysis."
      ],
      "metadata": {
        "id": "y5-AmN15mQ_D"
      }
    },
    {
      "cell_type": "code",
      "source": [
        "documentAssembler = DocumentAssembler()\\\n",
        "    .setInputCol(\"text\")\\\n",
        "    .setOutputCol(\"document\")\n",
        "\n",
        "tokenizer = Tokenizer()\\\n",
        "    .setInputCols([\"document\"])\\\n",
        "    .setOutputCol(\"token\")\n",
        "\n",
        "stopwords_cleaner = StopWordsCleaner.pretrained(\"stopwords_removal_hpo\", \"en\", \"clinical/models\") \\\n",
        "    .setInputCols(\"token\")\\\n",
        "    .setOutputCol(\"cleanTokens\")\\\n",
        "    .setCaseSensitive(False)\n",
        "\n",
        "token_assembler = TokenAssembler()\\\n",
        "    .setInputCols(['document',\"cleanTokens\"])\\\n",
        "    .setOutputCol(\"cleanTokens_newDoc\")\n",
        "\n",
        "sentenceDetector = SentenceDetectorDLModel.pretrained(\"sentence_detector_dl_healthcare\",\"en\",\"clinical/models\") \\\n",
        "    .setInputCols([\"cleanTokens_newDoc\"]) \\\n",
        "    .setOutputCol(\"sentence\")\n",
        "\n",
        "tokenizer_2 = Tokenizer()\\\n",
        "    .setInputCols([\"sentence\"])\\\n",
        "    .setOutputCol(\"clean_tokens\")\n",
        "\n",
        "word_embeddings = WordEmbeddingsModel.pretrained(\"embeddings_clinical\", \"en\", \"clinical/models\")\\\n",
        "    .setInputCols([\"sentence\", \"clean_tokens\"])\\\n",
        "    .setOutputCol(\"embeddings\")\n",
        "\n",
        "entityExtractor = TextMatcherInternalModel().pretrained(\"hpo_matcher\",\"en\",\"clinical/models\")\\\n",
        "    .setInputCols([\"sentence\", \"clean_tokens\"])\\\n",
        "    .setOutputCol(\"hpo_term\")\\\n",
        "    .setCaseSensitive(False)\\\n",
        "    .setMergeOverlapping(False)\n",
        "\n",
        "clinical_assertion = AssertionDLModel.pretrained(\"assertion_dl\", \"en\", \"clinical/models\") \\\n",
        "    .setInputCols([\"sentence\", \"hpo_term\", \"embeddings\"]) \\\n",
        "    .setOutputCol(\"assertion\")\n",
        "\n",
        "assertion_filterer = AssertionFilterer()\\\n",
        "    .setInputCols(\"sentence\",\"hpo_term\",\"assertion\")\\\n",
        "    .setOutputCol(\"assertion_filtered\")\\\n",
        "    .setCaseSensitive(False)\\\n",
        "    .setWhiteList([\"Present\"])\n",
        "\n",
        "matcher_pipeline = Pipeline().setStages([\n",
        "                  documentAssembler,\n",
        "                  tokenizer,\n",
        "                  stopwords_cleaner,\n",
        "                  token_assembler,\n",
        "                  sentenceDetector,\n",
        "                  tokenizer_2,\n",
        "                  word_embeddings,\n",
        "                  entityExtractor,\n",
        "                  clinical_assertion,\n",
        "                  assertion_filterer\n",
        "                  ])"
      ],
      "metadata": {
        "id": "RjKs-QCYlwXs"
      },
      "execution_count": null,
      "outputs": []
    },
    {
      "cell_type": "code",
      "source": [
        "text = \"\"\"\n",
        "The patient exhibited poor coordination, and spasticity in the lower limbs.\n",
        "Neurological examination revealed dysarthria and ataxic gait.\n",
        "Brain MRI showed cerebellar atrophy.\n",
        "There was also a history of seizures, intellectual disability, and anxiety.\n",
        "\"\"\"\n",
        "\n",
        "data = spark.createDataFrame([[text]]).toDF(\"text\")\n",
        "matcher_model = matcher_pipeline.fit(data)"
      ],
      "metadata": {
        "id": "5Vy0gK4Q0dJs"
      },
      "execution_count": null,
      "outputs": []
    },
    {
      "cell_type": "code",
      "source": [
        "result = matcher_model.transform(data)\n",
        "\n",
        "result.select(F.explode(F.arrays_zip(\n",
        "              result.assertion_filtered.result,\n",
        "              result.assertion_filtered.begin,\n",
        "              result.assertion_filtered.end,\n",
        "              result.assertion_filtered.metadata,\n",
        "              )).alias(\"cols\"))\\\n",
        "      .select(F.expr(\"cols['0']\").alias(\"chunk\"),\n",
        "              F.expr(\"cols['1']\").alias(\"begin\"),\n",
        "              F.expr(\"cols['2']\").alias(\"end\"),\n",
        "              F.expr(\"cols['3']['entity']\").alias('label')).show(50, truncate=70)"
      ],
      "metadata": {
        "colab": {
          "base_uri": "https://localhost:8080/"
        },
        "id": "x9CuXriKxWWz",
        "outputId": "48324177-1374-4a49-9e03-aa65932249d8"
      },
      "execution_count": null,
      "outputs": [
        {
          "output_type": "stream",
          "name": "stdout",
          "text": [
            "+-----------------------+-----+---+-----+\n",
            "|                  chunk|begin|end|label|\n",
            "+-----------------------+-----+---+-----+\n",
            "|      poor coordination|   18| 34|  HPO|\n",
            "|             spasticity|   37| 46|  HPO|\n",
            "|             dysarthria|   95|104|  HPO|\n",
            "|            ataxic gait|  106|116|  HPO|\n",
            "|     cerebellar atrophy|  136|153|  HPO|\n",
            "|               seizures|  169|176|  HPO|\n",
            "|intellectual disability|  179|201|  HPO|\n",
            "|                anxiety|  204|210|  HPO|\n",
            "+-----------------------+-----+---+-----+\n",
            "\n"
          ]
        }
      ]
    },
    {
      "cell_type": "markdown",
      "source": [
        "## HPO Code Mapper\n",
        "\n",
        "[HPO Code Mapper](https://nlp.johnsnowlabs.com/2025/05/01/hpo_mapper_en.html) links extracted phenotype mentions from text to their corresponding **Human Phenotype Ontology (HPO)** codes.\n",
        "\n",
        "This mapping standardizes clinical descriptions, enabling structured analysis, improving data interoperability, and supporting precision medicine applications."
      ],
      "metadata": {
        "id": "9t_kHmM8mrA-"
      }
    },
    {
      "cell_type": "code",
      "source": [
        "documentAssembler = DocumentAssembler()\\\n",
        "    .setInputCol(\"text\")\\\n",
        "    .setOutputCol(\"document\")\n",
        "\n",
        "tokenizer = Tokenizer()\\\n",
        "    .setInputCols([\"document\"])\\\n",
        "    .setOutputCol(\"token\")\n",
        "\n",
        "stopwords_cleaner = StopWordsCleaner.pretrained(\"stopwords_removal_hpo\", \"en\", \"clinical/models\") \\\n",
        "    .setInputCols(\"token\")\\\n",
        "    .setOutputCol(\"cleanTokens\")\\\n",
        "    .setCaseSensitive(False)\n",
        "\n",
        "token_assembler = TokenAssembler()\\\n",
        "    .setInputCols(['document',\"cleanTokens\"])\\\n",
        "    .setOutputCol(\"cleanTokens_newDoc\")\n",
        "\n",
        "sentenceDetector = SentenceDetectorDLModel.pretrained(\"sentence_detector_dl_healthcare\",\"en\",\"clinical/models\") \\\n",
        "    .setInputCols([\"cleanTokens_newDoc\"]) \\\n",
        "    .setOutputCol(\"sentence\")\n",
        "\n",
        "tokenizer_2 = Tokenizer()\\\n",
        "    .setInputCols([\"sentence\"])\\\n",
        "    .setOutputCol(\"clean_tokens\")\n",
        "\n",
        "word_embeddings = WordEmbeddingsModel.pretrained(\"embeddings_clinical\", \"en\", \"clinical/models\")\\\n",
        "    .setInputCols([\"sentence\", \"clean_tokens\"])\\\n",
        "    .setOutputCol(\"embeddings\")\n",
        "\n",
        "entityExtractor = TextMatcherInternalModel().pretrained(\"hpo_matcher\",\"en\",\"clinical/models\")\\\n",
        "    .setInputCols([\"sentence\", \"clean_tokens\"])\\\n",
        "    .setOutputCol(\"hpo_term\")\\\n",
        "    .setCaseSensitive(False)\\\n",
        "    .setMergeOverlapping(False)\n",
        "\n",
        "clinical_assertion = AssertionDLModel.pretrained(\"assertion_dl\", \"en\", \"clinical/models\") \\\n",
        "    .setInputCols([\"sentence\", \"hpo_term\", \"embeddings\"]) \\\n",
        "    .setOutputCol(\"assertion\")\n",
        "\n",
        "assertion_filterer = AssertionFilterer()\\\n",
        "    .setInputCols(\"sentence\",\"hpo_term\",\"assertion\")\\\n",
        "    .setOutputCol(\"assertion_filtered\")\\\n",
        "    .setCaseSensitive(False)\\\n",
        "    #.setWhiteList([\"Present\"])\n",
        "\n",
        "mapper = ChunkMapperModel().pretrained(\"hpo_mapper\",\"en\", \"clinical/models\")\\\n",
        "    .setInputCols([\"assertion_filtered\"])\\\n",
        "    .setOutputCol(\"hpo_code\")\\\n",
        "    .setLowerCase(True)\n",
        "\n",
        "mapper_pipeline = Pipeline().setStages([\n",
        "                  documentAssembler,\n",
        "                  tokenizer,\n",
        "                  stopwords_cleaner,\n",
        "                  token_assembler,\n",
        "                  sentenceDetector,\n",
        "                  tokenizer_2,\n",
        "                  word_embeddings,\n",
        "                  entityExtractor,\n",
        "                  clinical_assertion,\n",
        "                  assertion_filterer,\n",
        "                  mapper\n",
        "                  ])\n",
        "\n",
        "data = spark.createDataFrame([[text]]).toDF(\"text\")\n",
        "\n",
        "mapper_model = mapper_pipeline.fit(data)"
      ],
      "metadata": {
        "colab": {
          "base_uri": "https://localhost:8080/"
        },
        "id": "D4ki_wxZmqkD",
        "outputId": "84917309-103c-4e1c-c450-65369ddfba4d"
      },
      "execution_count": null,
      "outputs": [
        {
          "output_type": "stream",
          "name": "stdout",
          "text": [
            "stopwords_removal_hpo download started this may take some time.\n",
            "Approximate size to download 1.3 KB\n",
            "[OK!]\n",
            "sentence_detector_dl_healthcare download started this may take some time.\n",
            "Approximate size to download 367.3 KB\n",
            "[OK!]\n",
            "embeddings_clinical download started this may take some time.\n",
            "Approximate size to download 1.6 GB\n",
            "[OK!]\n",
            "hpo_matcher download started this may take some time.\n",
            "[OK!]\n",
            "assertion_dl download started this may take some time.\n",
            "[OK!]\n",
            "hpo_mapper download started this may take some time.\n",
            "[OK!]\n"
          ]
        }
      ]
    },
    {
      "cell_type": "code",
      "source": [
        "result = mapper_model.transform(data)\n",
        "\n",
        "result.select(F.explode(F.arrays_zip(\n",
        "              result.assertion_filtered.result,\n",
        "              result.assertion_filtered.begin,\n",
        "              result.assertion_filtered.end,\n",
        "              result.assertion_filtered.metadata,\n",
        "              result.assertion.result,\n",
        "              result.hpo_code.result)).alias(\"cols\"))\\\n",
        "      .select(F.expr(\"cols['0']\").alias(\"chunk\"),\n",
        "              F.expr(\"cols['1']\").alias(\"begin\"),\n",
        "              F.expr(\"cols['2']\").alias(\"end\"),\n",
        "              F.expr(\"cols['3']['entity']\").alias('ner_label'),\n",
        "              F.expr(\"cols['4']\").alias('assertion_label'),\n",
        "              F.expr(\"cols['5']\").alias('hpo_code')).show(50, truncate=70)"
      ],
      "metadata": {
        "colab": {
          "base_uri": "https://localhost:8080/"
        },
        "id": "mLilDtaXyN-3",
        "outputId": "d4c3811e-28a2-4b57-e59a-0f7ad50560c6"
      },
      "execution_count": null,
      "outputs": [
        {
          "output_type": "stream",
          "name": "stdout",
          "text": [
            "+-----------------------+-----+---+---------+---------------+----------+\n",
            "|                  chunk|begin|end|ner_label|assertion_label|  hpo_code|\n",
            "+-----------------------+-----+---+---------+---------------+----------+\n",
            "|      poor coordination|   18| 34|      HPO|        present|HP:0002370|\n",
            "|             spasticity|   37| 46|      HPO|        present|HP:0001257|\n",
            "|             dysarthria|   95|104|      HPO|        present|HP:0001260|\n",
            "|            ataxic gait|  106|116|      HPO|        present|HP:0002066|\n",
            "|     cerebellar atrophy|  136|153|      HPO|        present|HP:0001272|\n",
            "|               seizures|  169|176|      HPO|        present|HP:0001250|\n",
            "|intellectual disability|  179|201|      HPO|        present|HP:0001249|\n",
            "|                anxiety|  204|210|      HPO|        present|HP:0000739|\n",
            "+-----------------------+-----+---+---------+---------------+----------+\n",
            "\n"
          ]
        }
      ]
    },
    {
      "cell_type": "markdown",
      "source": [
        "\n",
        "\n",
        "This time, use LightPipeline instead of .transform().\n",
        "\n",
        "Light Pipelines:\n",
        "\n",
        "-    Optimized for single-machine, in-memory processing.\n",
        "\n",
        "-    Faster for small to medium datasets.\n",
        "\n",
        "-    Return a list of dictionaries or pandas DataFrame.\n",
        "\n",
        "-    Useful for real-time predictions and prototyping.\n",
        "\n",
        "\n",
        "\n",
        "**Light Pipelines are nearly 10x faster than Spark ML Pipelines.**"
      ],
      "metadata": {
        "id": "qs9Cn5mWkM4j"
      }
    },
    {
      "cell_type": "code",
      "source": [
        "light_model = LightPipeline(mapper_model)\n",
        "\n",
        "light_result = light_model.fullAnnotate(text)"
      ],
      "metadata": {
        "id": "h38NhZ3_7ZHZ"
      },
      "execution_count": null,
      "outputs": []
    },
    {
      "cell_type": "markdown",
      "source": [
        "The **NerVisualizer** highlights the named entities that are identified by Spark NLP and also displays their labels as decorations on top of the analyzed text."
      ],
      "metadata": {
        "id": "y1pbhtEjl8NB"
      }
    },
    {
      "cell_type": "code",
      "source": [
        "from sparknlp_display import NerVisualizer\n",
        "\n",
        "visualiser = NerVisualizer()\n",
        "\n",
        "visualiser.display(light_result[0], label_col='assertion_filtered', document_col='cleanTokens_newDoc')"
      ],
      "metadata": {
        "colab": {
          "base_uri": "https://localhost:8080/",
          "height": 88
        },
        "id": "UuiuCnU6vkpb",
        "outputId": "af5801a3-e773-4886-aeb4-3c3505e98d44"
      },
      "execution_count": null,
      "outputs": [
        {
          "output_type": "display_data",
          "data": {
            "text/plain": [
              "<IPython.core.display.HTML object>"
            ],
            "text/html": [
              "\n",
              "<style>\n",
              "    @import url('https://fonts.googleapis.com/css2?family=Montserrat:wght@300;400;500;600;700&display=swap');\n",
              "    @import url('https://fonts.googleapis.com/css2?family=Vistol Regular:wght@300;400;500;600;700&display=swap');\n",
              "    \n",
              "    .spark-nlp-display-scroll-entities {\n",
              "        border: 1px solid #E7EDF0;\n",
              "        border-radius: 3px;\n",
              "        text-align: justify;\n",
              "        \n",
              "    }\n",
              "    .spark-nlp-display-scroll-entities span {  \n",
              "        font-size: 14px;\n",
              "        line-height: 24px;\n",
              "        color: #536B76;\n",
              "        font-family: 'Montserrat', sans-serif !important;\n",
              "    }\n",
              "    \n",
              "    .spark-nlp-display-entity-wrapper{\n",
              "    \n",
              "        display: inline-grid;\n",
              "        text-align: center;\n",
              "        border-radius: 4px;\n",
              "        margin: 0 2px 5px 2px;\n",
              "        padding: 1px\n",
              "    }\n",
              "    .spark-nlp-display-entity-name{\n",
              "        font-size: 14px;\n",
              "        line-height: 24px;\n",
              "        font-family: 'Montserrat', sans-serif !important;\n",
              "        \n",
              "        background: #f1f2f3;\n",
              "        border-width: medium;\n",
              "        text-align: center;\n",
              "        \n",
              "        font-weight: 400;\n",
              "        \n",
              "        border-radius: 5px;\n",
              "        padding: 2px 5px;\n",
              "        display: block;\n",
              "        margin: 3px 2px;\n",
              "    \n",
              "    }\n",
              "    .spark-nlp-display-entity-type{\n",
              "        font-size: 14px;\n",
              "        line-height: 24px;\n",
              "        color: #ffffff;\n",
              "        font-family: 'Montserrat', sans-serif !important;\n",
              "        \n",
              "        text-transform: uppercase;\n",
              "        \n",
              "        font-weight: 500;\n",
              "\n",
              "        display: block;\n",
              "        padding: 3px 5px;\n",
              "    }\n",
              "    \n",
              "    .spark-nlp-display-entity-resolution{\n",
              "        font-size: 14px;\n",
              "        line-height: 24px;\n",
              "        color: #ffffff;\n",
              "        font-family: 'Vistol Regular', sans-serif !important;\n",
              "        \n",
              "        text-transform: uppercase;\n",
              "        \n",
              "        font-weight: 500;\n",
              "\n",
              "        display: block;\n",
              "        padding: 3px 5px;\n",
              "    }\n",
              "    \n",
              "    .spark-nlp-display-others{\n",
              "        font-size: 14px;\n",
              "        line-height: 24px;\n",
              "        font-family: 'Montserrat', sans-serif !important;\n",
              "        \n",
              "        font-weight: 400;\n",
              "    }\n",
              "\n",
              "</style>\n",
              " <span class=\"spark-nlp-display-others\" style=\"background-color: white\">patient exhibited </span><span class=\"spark-nlp-display-entity-wrapper\" style=\"background-color: #49045D\"><span class=\"spark-nlp-display-entity-name\">poor coordination </span><span class=\"spark-nlp-display-entity-type\">HPO</span></span><span class=\"spark-nlp-display-others\" style=\"background-color: white\">, </span><span class=\"spark-nlp-display-entity-wrapper\" style=\"background-color: #49045D\"><span class=\"spark-nlp-display-entity-name\">spasticity </span><span class=\"spark-nlp-display-entity-type\">HPO</span></span><span class=\"spark-nlp-display-others\" style=\"background-color: white\"> lower limbs. Neurological examination revealed </span><span class=\"spark-nlp-display-entity-wrapper\" style=\"background-color: #49045D\"><span class=\"spark-nlp-display-entity-name\">dysarthria </span><span class=\"spark-nlp-display-entity-type\">HPO</span></span><span class=\"spark-nlp-display-others\" style=\"background-color: white\"> </span><span class=\"spark-nlp-display-entity-wrapper\" style=\"background-color: #49045D\"><span class=\"spark-nlp-display-entity-name\">ataxic gait </span><span class=\"spark-nlp-display-entity-type\">HPO</span></span><span class=\"spark-nlp-display-others\" style=\"background-color: white\">. Brain MRI showed </span><span class=\"spark-nlp-display-entity-wrapper\" style=\"background-color: #49045D\"><span class=\"spark-nlp-display-entity-name\">cerebellar atrophy </span><span class=\"spark-nlp-display-entity-type\">HPO</span></span><span class=\"spark-nlp-display-others\" style=\"background-color: white\">. also history </span><span class=\"spark-nlp-display-entity-wrapper\" style=\"background-color: #49045D\"><span class=\"spark-nlp-display-entity-name\">seizures </span><span class=\"spark-nlp-display-entity-type\">HPO</span></span><span class=\"spark-nlp-display-others\" style=\"background-color: white\">, </span><span class=\"spark-nlp-display-entity-wrapper\" style=\"background-color: #49045D\"><span class=\"spark-nlp-display-entity-name\">intellectual disability </span><span class=\"spark-nlp-display-entity-type\">HPO</span></span><span class=\"spark-nlp-display-others\" style=\"background-color: white\">, </span><span class=\"spark-nlp-display-entity-wrapper\" style=\"background-color: #49045D\"><span class=\"spark-nlp-display-entity-name\">anxiety </span><span class=\"spark-nlp-display-entity-type\">HPO</span></span><span class=\"spark-nlp-display-others\" style=\"background-color: white\">.</span></div>"
            ]
          },
          "metadata": {}
        }
      ]
    }
  ],
  "metadata": {
    "application/vnd.databricks.v1+notebook": {
      "dashboards": [],
      "environmentMetadata": null,
      "language": "python",
      "notebookMetadata": {
        "pythonIndentUnit": 2
      },
      "notebookName": "MULTI_NER_64core",
      "widgets": {}
    },
    "colab": {
      "machine_shape": "hm",
      "provenance": []
    },
    "kernelspec": {
      "display_name": "mgt",
      "language": "python",
      "name": "mgt"
    },
    "language_info": {
      "codemirror_mode": {
        "name": "ipython",
        "version": 3
      },
      "file_extension": ".py",
      "mimetype": "text/x-python",
      "name": "python",
      "nbconvert_exporter": "python",
      "pygments_lexer": "ipython3",
      "version": "3.10.9"
    }
  },
  "nbformat": 4,
  "nbformat_minor": 0
}
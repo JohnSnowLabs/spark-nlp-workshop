{
  "nbformat": 4,
  "nbformat_minor": 0,
  "metadata": {
    "colab": {
      "name": "1.4.Biomedical_NER_SparkNLP_paper_reproduce.ipynb",
      "provenance": [],
      "collapsed_sections": []
    },
    "kernelspec": {
      "display_name": "Python 3",
      "language": "python",
      "name": "python3"
    },
    "language_info": {
      "codemirror_mode": {
        "name": "ipython",
        "version": 3
      },
      "file_extension": ".py",
      "mimetype": "text/x-python",
      "name": "python",
      "nbconvert_exporter": "python",
      "pygments_lexer": "ipython3",
      "version": "3.7.4"
    },
    "accelerator": "GPU"
  },
  "cells": [
    {
      "cell_type": "markdown",
      "metadata": {
        "id": "sXatvRX899i0"
      },
      "source": [
        "![JohnSnowLabs](https://nlp.johnsnowlabs.com/assets/images/logo.png)"
      ]
    },
    {
      "cell_type": "markdown",
      "metadata": {
        "id": "jOkfgBXDwxhz"
      },
      "source": [
        "[![Open In Colab](https://colab.research.google.com/assets/colab-badge.svg)](https://colab.research.google.com/github/JohnSnowLabs/spark-nlp-workshop/blob/master/tutorials/Certification_Trainings/Healthcare/1.4.Biomedical_NER_SparkNLP_paper_reproduce.ipynb)"
      ]
    },
    {
      "cell_type": "markdown",
      "metadata": {
        "id": "HCIg1pQpelJS"
      },
      "source": [
        "# Biomedical Named Entity Recognition (NER) at Scale\n",
        "\n",
        "official paper : https://arxiv.org/abs/2011.06315\n",
        "\n",
        "NER in Spark NLP Colab notebooks: https://colab.research.google.com/github/JohnSnowLabs/spark-nlp-workshop/blob/master/tutorials/Certification_Trainings/Public/4.NERDL_Training.ipynb"
      ]
    },
    {
      "cell_type": "markdown",
      "metadata": {
        "id": "JryP7HLODLnc"
      },
      "source": [
        "## Blogposts and videos:\n",
        "\n",
        "\n",
        "\n",
        "https://towardsdatascience.com/named-entity-recognition-ner-with-bert-in-spark-nlp-874df20d1d77\n",
        "\n",
        "NerDL worksghop (90 min): https://www.youtube.com/watch?v=YM-e4eOiQ34\n",
        "\n",
        "https://medium.com/spark-nlp/named-entity-recognition-for-healthcare-with-sparknlp-nerdl-and-nercrf-a7751b6ad571\n",
        "\n",
        "https://medium.com/atlas-research/ner-for-clinical-text-7c73caddd180"
      ]
    },
    {
      "cell_type": "markdown",
      "metadata": {
        "id": "HDH5i1coCgGJ"
      },
      "source": [
        "## Colab Setup"
      ]
    },
    {
      "cell_type": "code",
      "metadata": {
        "id": "-iCWzZ2NCZ0f"
      },
      "source": [
        "%%capture\n",
        "# This is only to setup PySpark and Spark NLP on Colab\n",
        "!wget http://setup.johnsnowlabs.com/colab.sh -O - | bash"
      ],
      "execution_count": null,
      "outputs": []
    },
    {
      "cell_type": "code",
      "metadata": {
        "id": "8DFCYTaDC1qZ",
        "colab": {
          "base_uri": "https://localhost:8080/",
          "height": 252
        },
        "outputId": "23b827a1-fc90-4b22-c368-713e41d16455"
      },
      "source": [
        "import sparknlp\n",
        "\n",
        "spark = sparknlp.start() # for GPU training >> sparknlp.start(gpu = True)\n",
        "\n",
        "from sparknlp.base import *\n",
        "from sparknlp.annotator import *\n",
        "\n",
        "print(\"Spark NLP version\", sparknlp.version())\n",
        "\n",
        "print(\"Apache Spark version:\", spark.version)\n",
        "\n",
        "spark"
      ],
      "execution_count": null,
      "outputs": [
        {
          "output_type": "stream",
          "text": [
            "Spark NLP version 3.0.3\n",
            "Apache Spark version: 3.0.2\n"
          ],
          "name": "stdout"
        },
        {
          "output_type": "execute_result",
          "data": {
            "text/html": [
              "\n",
              "            <div>\n",
              "                <p><b>SparkSession - in-memory</b></p>\n",
              "                \n",
              "        <div>\n",
              "            <p><b>SparkContext</b></p>\n",
              "\n",
              "            <p><a href=\"http://a606d35ba9b2:4040\">Spark UI</a></p>\n",
              "\n",
              "            <dl>\n",
              "              <dt>Version</dt>\n",
              "                <dd><code>v3.0.2</code></dd>\n",
              "              <dt>Master</dt>\n",
              "                <dd><code>local[*]</code></dd>\n",
              "              <dt>AppName</dt>\n",
              "                <dd><code>Spark NLP</code></dd>\n",
              "            </dl>\n",
              "        </div>\n",
              "        \n",
              "            </div>\n",
              "        "
            ],
            "text/plain": [
              "<pyspark.sql.session.SparkSession at 0x7f2cc824e090>"
            ]
          },
          "metadata": {
            "tags": []
          },
          "execution_count": 1
        }
      ]
    },
    {
      "cell_type": "markdown",
      "metadata": {
        "id": "YG1zLzzLEbyI"
      },
      "source": [
        "## CoNLL Data Prep \n",
        "\n",
        "We are going to use NCBI-Disease dataset in this notebook. All the other datasets used in the official paper arw prepared using the datasets at https://github.com/cambridgeltl/MTL-Bioinformatics-2016/tree/master/data. Since the data preparation steps from official tsv dfiles to conll format we utilize here is a time consuming and proprietary process, we share only one of them (**NCBI-Disease**) as an example. "
      ]
    },
    {
      "cell_type": "code",
      "metadata": {
        "id": "MSg4fdlHD6x6"
      },
      "source": [
        "!wget -q https://raw.githubusercontent.com/JohnSnowLabs/spark-nlp-workshop/master/tutorials/Certification_Trainings/Healthcare/data/NCBI_disease_official_test.conll\n",
        "!wget -q https://raw.githubusercontent.com/JohnSnowLabs/spark-nlp-workshop/master/tutorials/Certification_Trainings/Healthcare/data/NCBI_disease_official_train_dev.conll"
      ],
      "execution_count": null,
      "outputs": []
    },
    {
      "cell_type": "code",
      "metadata": {
        "id": "C1Mn-tuqEofp",
        "colab": {
          "base_uri": "https://localhost:8080/"
        },
        "outputId": "10f88159-6481-4189-d2e8-25226214ea22"
      },
      "source": [
        "with open(\"NCBI_disease_official_test.conll\") as f:\n",
        "    train_txt =f.read()\n",
        "\n",
        "print (train_txt[:500])"
      ],
      "execution_count": null,
      "outputs": [
        {
          "output_type": "stream",
          "text": [
            "-DOCSTART- -X- -X- O\n",
            "\n",
            "Clustering NN O O\n",
            "of NN O O\n",
            "missense NN O O\n",
            "mutations NN O O\n",
            "in NN O O\n",
            "the NN O O\n",
            "ataxia NN O B-Disease\n",
            "- NN O I-Disease\n",
            "telangiectasia NN O I-Disease\n",
            "gene NN O O\n",
            "in NN O O\n",
            "a NN O O\n",
            "sporadic NN O B-Disease\n",
            "T NN O I-Disease\n",
            "- NN O I-Disease\n",
            "cell NN O I-Disease\n",
            "leukaemia NN O I-Disease\n",
            ". NN O O\n",
            "\n",
            "Ataxia NN O B-Disease\n",
            "- NN O I-Disease\n",
            "telangiectasia NN O I-Disease\n",
            "( NN O O\n",
            "A NN O B-Disease\n",
            "- NN O I-Disease\n",
            "T NN O I-Disease\n",
            ") NN O O\n",
            "is NN O O\n",
            "a NN O O\n",
            "recessive NN O B-Disease\n",
            "m\n"
          ],
          "name": "stdout"
        }
      ]
    },
    {
      "cell_type": "code",
      "metadata": {
        "id": "wG9RpnKCFffi",
        "colab": {
          "base_uri": "https://localhost:8080/"
        },
        "outputId": "6938a394-2c69-4b53-e5d1-c44a94b2814a"
      },
      "source": [
        "from sparknlp.training import CoNLL\n",
        "\n",
        "training_data = CoNLL().readDataset(spark, 'NCBI_disease_official_train_dev.conll')\n",
        "\n",
        "training_data.show(3)"
      ],
      "execution_count": null,
      "outputs": [
        {
          "output_type": "stream",
          "text": [
            "+--------------------+--------------------+--------------------+--------------------+--------------------+--------------------+\n",
            "|                text|            document|            sentence|               token|                 pos|               label|\n",
            "+--------------------+--------------------+--------------------+--------------------+--------------------+--------------------+\n",
            "|Identification of...|[[document, 0, 89...|[[document, 0, 89...|[[token, 0, 13, I...|[[pos, 0, 13, NN,...|[[named_entity, 0...|\n",
            "|The adenomatous p...|[[document, 0, 21...|[[document, 0, 21...|[[token, 0, 2, Th...|[[pos, 0, 2, NN, ...|[[named_entity, 0...|\n",
            "|Complex formation...|[[document, 0, 63...|[[document, 0, 63...|[[token, 0, 6, Co...|[[pos, 0, 6, NN, ...|[[named_entity, 0...|\n",
            "+--------------------+--------------------+--------------------+--------------------+--------------------+--------------------+\n",
            "only showing top 3 rows\n",
            "\n"
          ],
          "name": "stdout"
        }
      ]
    },
    {
      "cell_type": "code",
      "metadata": {
        "id": "R6xa4jp8Szs0",
        "colab": {
          "base_uri": "https://localhost:8080/"
        },
        "outputId": "ed98df8b-e2dd-4daf-e192-12a7f3a45f55"
      },
      "source": [
        "training_data.count()"
      ],
      "execution_count": null,
      "outputs": [
        {
          "output_type": "execute_result",
          "data": {
            "text/plain": [
              "6347"
            ]
          },
          "metadata": {
            "tags": []
          },
          "execution_count": 9
        }
      ]
    },
    {
      "cell_type": "code",
      "metadata": {
        "id": "94A1JedtFpDp",
        "colab": {
          "base_uri": "https://localhost:8080/"
        },
        "outputId": "7ce76a14-4b15-43bd-d5bd-f117f7f7747e"
      },
      "source": [
        "import pyspark.sql.functions as F\n",
        "\n",
        "training_data.select(F.explode(F.arrays_zip('token.result', 'pos.result',  'label.result')).alias(\"cols\")) \\\n",
        ".select(F.expr(\"cols['0']\").alias(\"token\"),\n",
        "        F.expr(\"cols['1']\").alias(\"pos\"),\n",
        "        F.expr(\"cols['2']\").alias(\"ner_label\")).show(truncate=50)"
      ],
      "execution_count": null,
      "outputs": [
        {
          "output_type": "stream",
          "text": [
            "+--------------+---+---------+\n",
            "|         token|pos|ner_label|\n",
            "+--------------+---+---------+\n",
            "|Identification| NN|        O|\n",
            "|            of| NN|        O|\n",
            "|          APC2| NN|        O|\n",
            "|             ,| NN|        O|\n",
            "|             a| NN|        O|\n",
            "|     homologue| NN|        O|\n",
            "|            of| NN|        O|\n",
            "|           the| NN|        O|\n",
            "|   adenomatous| NN|B-Disease|\n",
            "|     polyposis| NN|I-Disease|\n",
            "|          coli| NN|I-Disease|\n",
            "|        tumour| NN|I-Disease|\n",
            "|    suppressor| NN|        O|\n",
            "|             .| NN|        O|\n",
            "|           The| NN|        O|\n",
            "|   adenomatous| NN|B-Disease|\n",
            "|     polyposis| NN|I-Disease|\n",
            "|          coli| NN|I-Disease|\n",
            "|             (| NN|I-Disease|\n",
            "|           APC| NN|I-Disease|\n",
            "+--------------+---+---------+\n",
            "only showing top 20 rows\n",
            "\n"
          ],
          "name": "stdout"
        }
      ]
    },
    {
      "cell_type": "code",
      "metadata": {
        "id": "puWWnmUbGFVh",
        "colab": {
          "base_uri": "https://localhost:8080/"
        },
        "outputId": "86b36bde-c57c-45d5-c307-972817e1bc04"
      },
      "source": [
        "training_data.select(F.explode(F.arrays_zip('token.result','label.result')).alias(\"cols\")) \\\n",
        ".select(F.expr(\"cols['0']\").alias(\"token\"),\n",
        "        F.expr(\"cols['1']\").alias(\"ground_truth\")).groupBy('ground_truth').count().orderBy('count', ascending=False).show(100,truncate=False)"
      ],
      "execution_count": null,
      "outputs": [
        {
          "output_type": "stream",
          "text": [
            "+------------+------+\n",
            "|ground_truth|count |\n",
            "+------------+------+\n",
            "|O           |146544|\n",
            "|I-Disease   |7205  |\n",
            "|B-Disease   |5921  |\n",
            "+------------+------+\n",
            "\n"
          ],
          "name": "stdout"
        }
      ]
    },
    {
      "cell_type": "code",
      "metadata": {
        "id": "qOACRQvC_pnC",
        "colab": {
          "base_uri": "https://localhost:8080/"
        },
        "outputId": "f1df41e2-0a45-4598-cb94-47561b1d95b2"
      },
      "source": [
        "\n",
        "test_data = CoNLL().readDataset(spark, 'NCBI_disease_official_test.conll')\n",
        "\n",
        "test_data.select(F.explode(F.arrays_zip('token.result','label.result')).alias(\"cols\")) \\\n",
        ".select(F.expr(\"cols['0']\").alias(\"token\"),\n",
        "        F.expr(\"cols['1']\").alias(\"ground_truth\")).groupBy('ground_truth').count().orderBy('count', ascending=False).show(100,truncate=False)"
      ],
      "execution_count": null,
      "outputs": [
        {
          "output_type": "stream",
          "text": [
            "+------------+-----+\n",
            "|ground_truth|count|\n",
            "+------------+-----+\n",
            "|O           |22450|\n",
            "|I-Disease   |1087 |\n",
            "|B-Disease   |960  |\n",
            "+------------+-----+\n",
            "\n"
          ],
          "name": "stdout"
        }
      ]
    },
    {
      "cell_type": "code",
      "metadata": {
        "id": "fw2p7DOwGZto",
        "colab": {
          "base_uri": "https://localhost:8080/"
        },
        "outputId": "012be353-d159-4b2d-d9c1-ae44efecd73f"
      },
      "source": [
        "# You can use any word embeddings you want (Glove, Elmo, Bert, custom etc.)\n",
        "\n",
        "glove_embeddings = WordEmbeddingsModel.pretrained('glove_6B_300','xx')\\\n",
        "          .setInputCols([\"sentence\", \"token\"])\\\n",
        "          .setOutputCol(\"embeddings\")\n",
        "    "
      ],
      "execution_count": null,
      "outputs": [
        {
          "output_type": "stream",
          "text": [
            "glove_6B_300 download started this may take some time.\n",
            "Approximate size to download 426.2 MB\n",
            "[OK!]\n"
          ],
          "name": "stdout"
        }
      ]
    },
    {
      "cell_type": "markdown",
      "metadata": {
        "id": "zrpqv0Q3Bcyr"
      },
      "source": [
        "**We will get the embeddings for test set and write to disk as a parquet to be able to get metrics after each epoch during training.**"
      ]
    },
    {
      "cell_type": "code",
      "metadata": {
        "id": "SBy2ZmDFBiSo"
      },
      "source": [
        "glove_embeddings.transform(test_data).write.parquet('test_data_with_embeddings.parquet')"
      ],
      "execution_count": null,
      "outputs": []
    },
    {
      "cell_type": "code",
      "metadata": {
        "id": "rlRN1IJDENHO"
      },
      "source": [
        "!mkdir ner_logs"
      ],
      "execution_count": null,
      "outputs": []
    },
    {
      "cell_type": "code",
      "metadata": {
        "id": "8NFG_NK6G67o"
      },
      "source": [
        "nerTagger = NerDLApproach()\\\n",
        "      .setInputCols([\"sentence\", \"token\", \"embeddings\"])\\\n",
        "      .setLabelColumn(\"label\")\\\n",
        "      .setOutputCol(\"ner\")\\\n",
        "      .setMaxEpochs(10)\\\n",
        "      .setLr(0.003)\\\n",
        "      .setBatchSize(8)\\\n",
        "      .setRandomSeed(0)\\\n",
        "      .setVerbose(1)\\\n",
        "      .setEvaluationLogExtended(True) \\\n",
        "      .setEnableOutputLogs(True)\\\n",
        "      .setIncludeConfidence(True)\\\n",
        "      .setTestDataset('test_data_with_embeddings.parquet')\\\n",
        "      .setOutputLogsPath('ner_logs') # if not set, logs will be written to ~/annotator_logs\n",
        " #    .setGraphFolder('graphs') >> put your graph file (pb) under this folder if you are using a custom graph generated thru 4.1 NerDL-Graph.ipynb notebook\n",
        " #    .setEnableMemoryOptimizer() >> if you have a limited memory and a large conll file, you can set this True to train batch by batch \n",
        "    \n",
        "# do hyperparameter by tuning the params above (max epoch, LR, dropout etc.) to get better results\n",
        "ner_pipeline = Pipeline(stages=[\n",
        "      glove_embeddings,\n",
        "      nerTagger\n",
        " ])\n"
      ],
      "execution_count": null,
      "outputs": []
    },
    {
      "cell_type": "markdown",
      "metadata": {
        "id": "1fggBlAjQoTl"
      },
      "source": [
        "### Fitting"
      ]
    },
    {
      "cell_type": "code",
      "metadata": {
        "id": "-cmPOQx6Gti6",
        "colab": {
          "base_uri": "https://localhost:8080/"
        },
        "outputId": "90f6687c-aca3-4cbd-fb53-2c715e5162ef"
      },
      "source": [
        "%%time\n",
        "\n",
        "ner_model = ner_pipeline.fit(training_data)\n",
        "\n",
        "# 1 epoch takes around 3 min with batch size=8\n",
        "# if you get an error for incompatible TF graph, use 4.1 NerDL-Graph.ipynb notebook to create a graph"
      ],
      "execution_count": null,
      "outputs": [
        {
          "output_type": "stream",
          "text": [
            "CPU times: user 9.03 s, sys: 882 ms, total: 9.91 s\n",
            "Wall time: 33min 4s\n"
          ],
          "name": "stdout"
        }
      ]
    },
    {
      "cell_type": "code",
      "metadata": {
        "id": "zFXJ760TMK9t",
        "colab": {
          "base_uri": "https://localhost:8080/"
        },
        "outputId": "bdaae4f2-6e1b-409a-8a0f-290e0b06bba4"
      },
      "source": [
        "#! cd ~/annotator_logs && ls -lt\n",
        "!cd ner_logs && ls -lt"
      ],
      "execution_count": null,
      "outputs": [
        {
          "output_type": "stream",
          "text": [
            "total 12\n",
            "-rw-r--r-- 1 root root 5024 Jun  2 10:05 NerDLApproach_9304aa9a8b24.log\n",
            "-rw-r--r-- 1 root root  707 Jun  2 09:27 NerDLApproach_4fe9beeaf81d.log\n"
          ],
          "name": "stdout"
        }
      ]
    },
    {
      "cell_type": "code",
      "metadata": {
        "id": "FwGTRKmBGIW8",
        "colab": {
          "base_uri": "https://localhost:8080/"
        },
        "outputId": "106de200-dada-4c25-d69a-17f8dfcfc967"
      },
      "source": [
        "!tail -n 10 ner_logs/NerDLApproach_9304aa9a8b24.log"
      ],
      "execution_count": null,
      "outputs": [
        {
          "output_type": "stream",
          "text": [
            "\n",
            "Epoch 10/10 - 190.96s - loss: 429.42935 - batches: 795\n",
            "Quality on test dataset: \n",
            "time to finish evaluation: 5.92s\n",
            "label\t tp\t fp\t fn\t prec\t rec\t f1\n",
            "I-Disease\t 941\t 164\t 146\t 0.8515837\t 0.86568534\t 0.8585766\n",
            "B-Disease\t 820\t 143\t 140\t 0.8515057\t 0.8541667\t 0.85283417\n",
            "tp: 1761 fp: 307 fn: 286 labels: 2\n",
            "Macro-average\t prec: 0.85154474, rec: 0.859926, f1: 0.85571486\n",
            "Micro-average\t prec: 0.85154736, rec: 0.8602833, f1: 0.855893\n"
          ],
          "name": "stdout"
        }
      ]
    },
    {
      "cell_type": "markdown",
      "metadata": {
        "id": "AgdnSdjtQkZW"
      },
      "source": [
        "### Test set evaluation"
      ]
    },
    {
      "cell_type": "code",
      "metadata": {
        "id": "bbyhDUFDN63V",
        "colab": {
          "base_uri": "https://localhost:8080/"
        },
        "outputId": "31a85c75-8937-491f-acec-4010ddd133b6"
      },
      "source": [
        "import pyspark.sql.functions as F\n",
        "\n",
        "predictions = ner_model.transform(test_data)\n",
        "\n",
        "predictions.select(F.explode(F.arrays_zip('token.result','label.result','ner.result')).alias(\"cols\")) \\\n",
        ".select(F.expr(\"cols['0']\").alias(\"token\"),\n",
        "        F.expr(\"cols['1']\").alias(\"ground_truth\"),\n",
        "        F.expr(\"cols['2']\").alias(\"prediction\")).show(truncate=False)"
      ],
      "execution_count": null,
      "outputs": [
        {
          "output_type": "stream",
          "text": [
            "+--------------+------------+----------+\n",
            "|token         |ground_truth|prediction|\n",
            "+--------------+------------+----------+\n",
            "|Clustering    |O           |O         |\n",
            "|of            |O           |O         |\n",
            "|missense      |O           |O         |\n",
            "|mutations     |O           |O         |\n",
            "|in            |O           |O         |\n",
            "|the           |O           |O         |\n",
            "|ataxia        |B-Disease   |B-Disease |\n",
            "|-             |I-Disease   |I-Disease |\n",
            "|telangiectasia|I-Disease   |I-Disease |\n",
            "|gene          |O           |O         |\n",
            "|in            |O           |O         |\n",
            "|a             |O           |O         |\n",
            "|sporadic      |B-Disease   |B-Disease |\n",
            "|T             |I-Disease   |I-Disease |\n",
            "|-             |I-Disease   |I-Disease |\n",
            "|cell          |I-Disease   |I-Disease |\n",
            "|leukaemia     |I-Disease   |I-Disease |\n",
            "|.             |O           |O         |\n",
            "|Ataxia        |B-Disease   |B-Disease |\n",
            "|-             |I-Disease   |I-Disease |\n",
            "+--------------+------------+----------+\n",
            "only showing top 20 rows\n",
            "\n"
          ],
          "name": "stdout"
        }
      ]
    },
    {
      "cell_type": "markdown",
      "metadata": {
        "id": "5oi4rvrwVGoR"
      },
      "source": [
        "Licensed user will have an access to internal NERDLMetrics module to do this more efficient and easily without going out of Spark. But open source users need to use sklearn.metrics or any other equivalent module to do the same."
      ]
    },
    {
      "cell_type": "code",
      "metadata": {
        "id": "Up-eKXlzN-vx",
        "colab": {
          "base_uri": "https://localhost:8080/"
        },
        "outputId": "64b45bab-1613-4479-b231-dd002787808d"
      },
      "source": [
        "from sklearn.metrics import classification_report\n",
        "\n",
        "preds_df = predictions.select(F.explode(F.arrays_zip('token.result','label.result','ner.result')).alias(\"cols\")) \\\n",
        ".select(F.expr(\"cols['0']\").alias(\"token\"),\n",
        "        F.expr(\"cols['1']\").alias(\"ground_truth\"),\n",
        "        F.expr(\"cols['2']\").alias(\"prediction\")).toPandas()\n",
        "\n",
        "print (classification_report(preds_df['ground_truth'], preds_df['prediction']))\n"
      ],
      "execution_count": null,
      "outputs": [
        {
          "output_type": "stream",
          "text": [
            "              precision    recall  f1-score   support\n",
            "\n",
            "   B-Disease       0.85      0.85      0.85       960\n",
            "   I-Disease       0.85      0.87      0.86      1087\n",
            "           O       0.99      0.99      0.99     22450\n",
            "\n",
            "    accuracy                           0.98     24497\n",
            "   macro avg       0.90      0.90      0.90     24497\n",
            "weighted avg       0.98      0.98      0.98     24497\n",
            "\n"
          ],
          "name": "stdout"
        }
      ]
    },
    {
      "cell_type": "markdown",
      "metadata": {
        "id": "P0sD2CU4HP-H"
      },
      "source": [
        "### Entity level evaluation (strict eval)"
      ]
    },
    {
      "cell_type": "code",
      "metadata": {
        "id": "mpkUb1gyHOk-"
      },
      "source": [
        "!wget  -q https://raw.githubusercontent.com/JohnSnowLabs/spark-nlp-workshop/master/tutorials/Certification_Trainings/Public/utils/conll_eval.py"
      ],
      "execution_count": null,
      "outputs": []
    },
    {
      "cell_type": "code",
      "metadata": {
        "id": "jpiIrbx5I8qI",
        "colab": {
          "base_uri": "https://localhost:8080/"
        },
        "outputId": "e8e4527c-c179-4eb7-db71-1a170351b81f"
      },
      "source": [
        "import conll_eval\n",
        "\n",
        "metrics = conll_eval.evaluate(preds_df['ground_truth'].values, preds_df['prediction'].values)"
      ],
      "execution_count": null,
      "outputs": [
        {
          "output_type": "stream",
          "text": [
            "processed 24497 tokens with 960 phrases; found: 963 phrases; correct: 802.\n",
            "accuracy:  86.03%; (non-O)\n",
            "accuracy:  97.90%; precision:  83.28%; recall:  83.54%; FB1:  83.41\n",
            "          Disease: precision:  83.28%; recall:  83.54%; FB1:  83.41  963\n"
          ],
          "name": "stdout"
        }
      ]
    },
    {
      "cell_type": "code",
      "metadata": {
        "id": "vZ0jme54KDyC",
        "colab": {
          "base_uri": "https://localhost:8080/"
        },
        "outputId": "c6a61adf-64c4-4026-c0a1-c1edff581311"
      },
      "source": [
        "# micro, macro, avg\n",
        "metrics[0]"
      ],
      "execution_count": null,
      "outputs": [
        {
          "output_type": "execute_result",
          "data": {
            "text/plain": [
              "(83.28141225337488, 83.54166666666667, 83.41133645345813)"
            ]
          },
          "metadata": {
            "tags": []
          },
          "execution_count": 18
        }
      ]
    },
    {
      "cell_type": "code",
      "metadata": {
        "id": "YMZu0ottJkmn",
        "colab": {
          "base_uri": "https://localhost:8080/",
          "height": 77
        },
        "outputId": "20ba109d-5ee6-40f6-c380-66bbc05806cf"
      },
      "source": [
        "import pandas as pd\n",
        "pd.DataFrame(metrics[1], columns=['entity','precision','recall','f1','support'])"
      ],
      "execution_count": null,
      "outputs": [
        {
          "output_type": "execute_result",
          "data": {
            "text/html": [
              "<div>\n",
              "<style scoped>\n",
              "    .dataframe tbody tr th:only-of-type {\n",
              "        vertical-align: middle;\n",
              "    }\n",
              "\n",
              "    .dataframe tbody tr th {\n",
              "        vertical-align: top;\n",
              "    }\n",
              "\n",
              "    .dataframe thead th {\n",
              "        text-align: right;\n",
              "    }\n",
              "</style>\n",
              "<table border=\"1\" class=\"dataframe\">\n",
              "  <thead>\n",
              "    <tr style=\"text-align: right;\">\n",
              "      <th></th>\n",
              "      <th>entity</th>\n",
              "      <th>precision</th>\n",
              "      <th>recall</th>\n",
              "      <th>f1</th>\n",
              "      <th>support</th>\n",
              "    </tr>\n",
              "  </thead>\n",
              "  <tbody>\n",
              "    <tr>\n",
              "      <th>0</th>\n",
              "      <td>Disease</td>\n",
              "      <td>83.281412</td>\n",
              "      <td>83.541667</td>\n",
              "      <td>83.411336</td>\n",
              "      <td>963</td>\n",
              "    </tr>\n",
              "  </tbody>\n",
              "</table>\n",
              "</div>"
            ],
            "text/plain": [
              "    entity  precision     recall         f1  support\n",
              "0  Disease  83.281412  83.541667  83.411336      963"
            ]
          },
          "metadata": {
            "tags": []
          },
          "execution_count": 19
        }
      ]
    },
    {
      "cell_type": "markdown",
      "metadata": {
        "id": "DVBxVC2yi12r"
      },
      "source": [
        "### Ner log parser"
      ]
    },
    {
      "cell_type": "code",
      "metadata": {
        "id": "cyKawgE8i4TN"
      },
      "source": [
        "!wget -q https://raw.githubusercontent.com/JohnSnowLabs/spark-nlp-workshop/master/tutorials/Certification_Trainings/Public/utils/ner_log_parser.py"
      ],
      "execution_count": null,
      "outputs": []
    },
    {
      "cell_type": "code",
      "metadata": {
        "id": "ixBftahAi--T"
      },
      "source": [
        "import ner_log_parser"
      ],
      "execution_count": null,
      "outputs": []
    },
    {
      "cell_type": "code",
      "metadata": {
        "id": "G50Msn3kjNhY"
      },
      "source": [
        "%matplotlib inline"
      ],
      "execution_count": null,
      "outputs": []
    },
    {
      "cell_type": "code",
      "metadata": {
        "id": "hQ2tEbyRjC0E",
        "colab": {
          "base_uri": "https://localhost:8080/",
          "height": 1000
        },
        "outputId": "159a047a-4033-43cd-a738-ab90c6113d01"
      },
      "source": [
        "ner_log_parser.get_charts('/content/ner_logs/NerDLApproach_9304aa9a8b24.log')"
      ],
      "execution_count": null,
      "outputs": [
        {
          "output_type": "display_data",
          "data": {
            "image/png": "[encoded data removed]",
            "text/plain": [
              "<Figure size 1440x1440 with 6 Axes>"
            ]
          },
          "metadata": {
            "tags": [],
            "needs_background": "light"
          }
        },
        {
          "output_type": "display_data",
          "data": {
            "image/png": "[encoded data removed]",
            "text/plain": [
              "<Figure size 1440x1440 with 6 Axes>"
            ]
          },
          "metadata": {
            "tags": [],
            "needs_background": "light"
          }
        }
      ]
    },
    {
      "cell_type": "code",
      "metadata": {
        "id": "_XErW0ZCKfim",
        "colab": {
          "base_uri": "https://localhost:8080/",
          "height": 513
        },
        "outputId": "4c86a726-1ea1-46a8-a233-13f67edd391a"
      },
      "source": [
        "ner_log_parser.loss_plot('/content/ner_logs/NerDLApproach_9304aa9a8b24.log')"
      ],
      "execution_count": null,
      "outputs": [
        {
          "output_type": "display_data",
          "data": {
            "image/png": "[encoded data removed]",
            "text/plain": [
              "<Figure size 576x576 with 1 Axes>"
            ]
          },
          "metadata": {
            "tags": [],
            "needs_background": "light"
          }
        }
      ]
    },
    {
      "cell_type": "markdown",
      "metadata": {
        "id": "WuJ5YZ9sXU13"
      },
      "source": [
        "### Saving the trained model"
      ]
    },
    {
      "cell_type": "code",
      "metadata": {
        "id": "KBcoOwvwXV8p",
        "colab": {
          "base_uri": "https://localhost:8080/"
        },
        "outputId": "01934882-a4b4-4253-f8cb-2e53626aa111"
      },
      "source": [
        "ner_model.stages"
      ],
      "execution_count": null,
      "outputs": [
        {
          "output_type": "execute_result",
          "data": {
            "text/plain": [
              "[WORD_EMBEDDINGS_MODEL_9641998d2b4c, NerDLModel_f98c51eca9a5]"
            ]
          },
          "metadata": {
            "tags": []
          },
          "execution_count": 26
        }
      ]
    },
    {
      "cell_type": "code",
      "metadata": {
        "id": "gRLbhTh1XYo2"
      },
      "source": [
        "ner_model.stages[1].write().overwrite().save('NER_glove_20210206_e10_b8')"
      ],
      "execution_count": null,
      "outputs": []
    },
    {
      "cell_type": "code",
      "metadata": {
        "id": "k6B_m0HeXhvo",
        "colab": {
          "base_uri": "https://localhost:8080/"
        },
        "outputId": "dbce30b2-7d67-4c45-e2b4-9a76c99cca72"
      },
      "source": [
        "!ls -lt"
      ],
      "execution_count": null,
      "outputs": [
        {
          "output_type": "stream",
          "text": [
            "total 217772\n",
            "drwxr-xr-x  4 root root      4096 Jun  2 10:13 NER_glove_20210206_e10_b8\n",
            "drwxr-xr-x  2 root root      4096 Jun  2 10:11 __pycache__\n",
            "-rw-r--r--  1 root root      3826 Jun  2 10:11 ner_log_parser.py\n",
            "-rw-r--r--  1 root root      7431 Jun  2 10:10 conll_eval.py\n",
            "drwxr-xr-x  2 root root      4096 Jun  2 09:33 ner_logs\n",
            "drwxr-xr-x  2 root root      4096 Jun  2 09:22 test_data_with_embeddings.parquet\n",
            "-rw-r--r--  1 root root   2136193 Jun  2 09:10 NCBI_disease_official_train_dev.conll\n",
            "-rw-r--r--  1 root root    328172 Jun  2 09:10 NCBI_disease_official_test.conll\n",
            "drwxr-xr-x  1 root root      4096 May  6 13:44 sample_data\n",
            "-rw-r--r--  1 root root 220488957 Feb 16 06:33 spark-3.0.2-bin-hadoop2.7.tgz\n",
            "drwxr-xr-x 13 1000 1000      4096 Feb 16 05:21 spark-3.0.2-bin-hadoop2.7\n"
          ],
          "name": "stdout"
        }
      ]
    },
    {
      "cell_type": "markdown",
      "metadata": {
        "id": "gK0rbohHRNmG"
      },
      "source": [
        "## Prediction Pipeline"
      ]
    },
    {
      "cell_type": "code",
      "metadata": {
        "id": "XCLEQcCeQ8pn",
        "colab": {
          "base_uri": "https://localhost:8080/"
        },
        "outputId": "a9b71afc-31fc-44e6-857c-4a41d5141843"
      },
      "source": [
        "document = DocumentAssembler()\\\n",
        "        .setInputCol(\"text\")\\\n",
        "        .setOutputCol(\"document\")\n",
        "\n",
        "sentence = SentenceDetector()\\\n",
        "        .setInputCols(['document'])\\\n",
        "        .setOutputCol('sentence')\n",
        "\n",
        "token = Tokenizer()\\\n",
        "        .setInputCols(['sentence'])\\\n",
        "        .setOutputCol('token')\n",
        "\n",
        "glove_embeddings = WordEmbeddingsModel.pretrained('glove_6B_300','xx')\\\n",
        "        .setInputCols([\"sentence\", \"token\"])\\\n",
        "        .setOutputCol(\"embeddings\")\n",
        "  \n",
        "loaded_ner_model = NerDLModel.load(\"NER_glove_20210206_e10_b8\")\\\n",
        "        .setInputCols([\"sentence\", \"token\", \"embeddings\"])\\\n",
        "        .setOutputCol(\"ner\")\n",
        "\n",
        "converter = NerConverter()\\\n",
        "        .setInputCols([\"sentence\", \"token\", \"ner\"])\\\n",
        "        .setOutputCol(\"ner_span\")\n",
        "\n",
        "ner_prediction_pipeline = Pipeline(stages = [\n",
        "        document,\n",
        "        sentence,\n",
        "        token,\n",
        "        glove_embeddings,\n",
        "        loaded_ner_model,\n",
        "        converter\n",
        "])"
      ],
      "execution_count": null,
      "outputs": [
        {
          "output_type": "stream",
          "text": [
            "glove_6B_300 download started this may take some time.\n",
            "Approximate size to download 426.2 MB\n",
            "[OK!]\n"
          ],
          "name": "stdout"
        }
      ]
    },
    {
      "cell_type": "code",
      "metadata": {
        "id": "gsokdubdX1vE"
      },
      "source": [
        "empty_data = spark.createDataFrame([['']]).toDF(\"text\")\n",
        "\n",
        "prediction_model = ner_prediction_pipeline.fit(empty_data)\n"
      ],
      "execution_count": null,
      "outputs": []
    },
    {
      "cell_type": "code",
      "metadata": {
        "id": "rR8b0tQlX7E8",
        "colab": {
          "base_uri": "https://localhost:8080/"
        },
        "outputId": "874b1654-2902-4e9d-a625-c7f62a446c3f"
      },
      "source": [
        "text = '''\n",
        "A 28-year-old female with a history of gestational diabetes mellitus diagnosed eight years prior to presentation and subsequent type two diabetes mellitus ( T2DM ), one prior episode of HTG-induced pancreatitis three years prior to presentation , associated with an acute hepatitis , and obesity with a body mass index ( BMI ) of 33.5 kg/m2 , presented with a one-week history of polyuria , polydipsia , poor appetite , and vomiting .\n",
        "'''\n",
        "\n",
        "sample_data = spark.createDataFrame([[text]]).toDF(\"text\")\n",
        "\n",
        "sample_data.show()"
      ],
      "execution_count": null,
      "outputs": [
        {
          "output_type": "stream",
          "text": [
            "+--------------------+\n",
            "|                text|\n",
            "+--------------------+\n",
            "|\n",
            "A 28-year-old fe...|\n",
            "+--------------------+\n",
            "\n"
          ],
          "name": "stdout"
        }
      ]
    },
    {
      "cell_type": "code",
      "metadata": {
        "id": "WdeKg30uX_rk",
        "colab": {
          "base_uri": "https://localhost:8080/"
        },
        "outputId": "479cc947-b5ec-4bf0-fb13-a66aec6f89c2"
      },
      "source": [
        "preds = prediction_model.transform(sample_data)\n",
        "\n",
        "preds.select(F.explode(F.arrays_zip(\"ner_span.result\",\"ner_span.metadata\")).alias(\"entities\")) \\\n",
        ".select(F.expr(\"entities['0']\").alias(\"chunk\"),\n",
        "        F.expr(\"entities['1'].entity\").alias(\"entity\")).show(truncate=False)"
      ],
      "execution_count": null,
      "outputs": [
        {
          "output_type": "stream",
          "text": [
            "+-----------------------------+-------+\n",
            "|chunk                        |entity |\n",
            "+-----------------------------+-------+\n",
            "|gestational diabetes mellitus|Disease|\n",
            "|diabetes mellitus            |Disease|\n",
            "|HTG-induced pancreatitis     |Disease|\n",
            "|acute hepatitis              |Disease|\n",
            "|obesity                      |Disease|\n",
            "|BMI                          |Disease|\n",
            "|polyuria                     |Disease|\n",
            "|polydipsia                   |Disease|\n",
            "|poor appetite                |Disease|\n",
            "|vomiting                     |Disease|\n",
            "+-----------------------------+-------+\n",
            "\n"
          ],
          "name": "stdout"
        }
      ]
    },
    {
      "cell_type": "code",
      "metadata": {
        "id": "UG6eBHQZYIhb"
      },
      "source": [
        "from sparknlp.base import LightPipeline\n",
        "\n",
        "light_model = LightPipeline(prediction_model)"
      ],
      "execution_count": null,
      "outputs": []
    },
    {
      "cell_type": "code",
      "metadata": {
        "id": "7Hr5gtKbYLOW",
        "colab": {
          "base_uri": "https://localhost:8080/"
        },
        "outputId": "b8d8e5b1-c530-47a6-d270-2dd024c95d0e"
      },
      "source": [
        "\n",
        "result = light_model.annotate(text)\n",
        "\n",
        "list(zip(result['token'], result['ner']))"
      ],
      "execution_count": null,
      "outputs": [
        {
          "output_type": "execute_result",
          "data": {
            "text/plain": [
              "[('A', 'O'),\n",
              " ('28-year-old', 'O'),\n",
              " ('female', 'O'),\n",
              " ('with', 'O'),\n",
              " ('a', 'O'),\n",
              " ('history', 'O'),\n",
              " ('of', 'O'),\n",
              " ('gestational', 'B-Disease'),\n",
              " ('diabetes', 'I-Disease'),\n",
              " ('mellitus', 'I-Disease'),\n",
              " ('diagnosed', 'O'),\n",
              " ('eight', 'O'),\n",
              " ('years', 'O'),\n",
              " ('prior', 'O'),\n",
              " ('to', 'O'),\n",
              " ('presentation', 'O'),\n",
              " ('and', 'O'),\n",
              " ('subsequent', 'O'),\n",
              " ('type', 'O'),\n",
              " ('two', 'O'),\n",
              " ('diabetes', 'B-Disease'),\n",
              " ('mellitus', 'I-Disease'),\n",
              " ('(', 'O'),\n",
              " ('T2DM', 'O'),\n",
              " ('),', 'O'),\n",
              " ('one', 'O'),\n",
              " ('prior', 'O'),\n",
              " ('episode', 'O'),\n",
              " ('of', 'O'),\n",
              " ('HTG-induced', 'B-Disease'),\n",
              " ('pancreatitis', 'I-Disease'),\n",
              " ('three', 'O'),\n",
              " ('years', 'O'),\n",
              " ('prior', 'O'),\n",
              " ('to', 'O'),\n",
              " ('presentation', 'O'),\n",
              " (',', 'O'),\n",
              " ('associated', 'O'),\n",
              " ('with', 'O'),\n",
              " ('an', 'O'),\n",
              " ('acute', 'B-Disease'),\n",
              " ('hepatitis', 'I-Disease'),\n",
              " (',', 'O'),\n",
              " ('and', 'O'),\n",
              " ('obesity', 'B-Disease'),\n",
              " ('with', 'O'),\n",
              " ('a', 'O'),\n",
              " ('body', 'O'),\n",
              " ('mass', 'O'),\n",
              " ('index', 'O'),\n",
              " ('(', 'O'),\n",
              " ('BMI', 'B-Disease'),\n",
              " (')', 'O'),\n",
              " ('of', 'O'),\n",
              " ('33.5', 'O'),\n",
              " ('kg/m2', 'O'),\n",
              " (',', 'O'),\n",
              " ('presented', 'O'),\n",
              " ('with', 'O'),\n",
              " ('a', 'O'),\n",
              " ('one-week', 'O'),\n",
              " ('history', 'O'),\n",
              " ('of', 'O'),\n",
              " ('polyuria', 'B-Disease'),\n",
              " (',', 'O'),\n",
              " ('polydipsia', 'B-Disease'),\n",
              " (',', 'O'),\n",
              " ('poor', 'B-Disease'),\n",
              " ('appetite', 'I-Disease'),\n",
              " (',', 'O'),\n",
              " ('and', 'O'),\n",
              " ('vomiting', 'B-Disease'),\n",
              " ('.', 'O')]"
            ]
          },
          "metadata": {
            "tags": []
          },
          "execution_count": 38
        }
      ]
    },
    {
      "cell_type": "code",
      "metadata": {
        "id": "OO4xKzhIZEDc",
        "colab": {
          "base_uri": "https://localhost:8080/",
          "height": 406
        },
        "outputId": "bd4553c5-9d9d-4bf2-a0cd-b6ca6094785a"
      },
      "source": [
        "import pandas as pd\n",
        "\n",
        "result = light_model.fullAnnotate(text)\n",
        "\n",
        "ner_df= pd.DataFrame([(int(x.metadata['sentence']), x.result, x.begin, x.end, y.result) for x,y in zip(result[0][\"token\"], result[0][\"ner\"])], \n",
        "                      columns=['sent_id','token','start','end','ner'])\n",
        "ner_df"
      ],
      "execution_count": null,
      "outputs": [
        {
          "output_type": "execute_result",
          "data": {
            "text/html": [
              "<div>\n",
              "<style scoped>\n",
              "    .dataframe tbody tr th:only-of-type {\n",
              "        vertical-align: middle;\n",
              "    }\n",
              "\n",
              "    .dataframe tbody tr th {\n",
              "        vertical-align: top;\n",
              "    }\n",
              "\n",
              "    .dataframe thead th {\n",
              "        text-align: right;\n",
              "    }\n",
              "</style>\n",
              "<table border=\"1\" class=\"dataframe\">\n",
              "  <thead>\n",
              "    <tr style=\"text-align: right;\">\n",
              "      <th></th>\n",
              "      <th>sent_id</th>\n",
              "      <th>token</th>\n",
              "      <th>start</th>\n",
              "      <th>end</th>\n",
              "      <th>ner</th>\n",
              "    </tr>\n",
              "  </thead>\n",
              "  <tbody>\n",
              "    <tr>\n",
              "      <th>0</th>\n",
              "      <td>0</td>\n",
              "      <td>A</td>\n",
              "      <td>1</td>\n",
              "      <td>1</td>\n",
              "      <td>O</td>\n",
              "    </tr>\n",
              "    <tr>\n",
              "      <th>1</th>\n",
              "      <td>0</td>\n",
              "      <td>28-year-old</td>\n",
              "      <td>3</td>\n",
              "      <td>13</td>\n",
              "      <td>O</td>\n",
              "    </tr>\n",
              "    <tr>\n",
              "      <th>2</th>\n",
              "      <td>0</td>\n",
              "      <td>female</td>\n",
              "      <td>15</td>\n",
              "      <td>20</td>\n",
              "      <td>O</td>\n",
              "    </tr>\n",
              "    <tr>\n",
              "      <th>3</th>\n",
              "      <td>0</td>\n",
              "      <td>with</td>\n",
              "      <td>22</td>\n",
              "      <td>25</td>\n",
              "      <td>O</td>\n",
              "    </tr>\n",
              "    <tr>\n",
              "      <th>4</th>\n",
              "      <td>0</td>\n",
              "      <td>a</td>\n",
              "      <td>27</td>\n",
              "      <td>27</td>\n",
              "      <td>O</td>\n",
              "    </tr>\n",
              "    <tr>\n",
              "      <th>...</th>\n",
              "      <td>...</td>\n",
              "      <td>...</td>\n",
              "      <td>...</td>\n",
              "      <td>...</td>\n",
              "      <td>...</td>\n",
              "    </tr>\n",
              "    <tr>\n",
              "      <th>68</th>\n",
              "      <td>0</td>\n",
              "      <td>appetite</td>\n",
              "      <td>410</td>\n",
              "      <td>417</td>\n",
              "      <td>I-Disease</td>\n",
              "    </tr>\n",
              "    <tr>\n",
              "      <th>69</th>\n",
              "      <td>0</td>\n",
              "      <td>,</td>\n",
              "      <td>419</td>\n",
              "      <td>419</td>\n",
              "      <td>O</td>\n",
              "    </tr>\n",
              "    <tr>\n",
              "      <th>70</th>\n",
              "      <td>0</td>\n",
              "      <td>and</td>\n",
              "      <td>421</td>\n",
              "      <td>423</td>\n",
              "      <td>O</td>\n",
              "    </tr>\n",
              "    <tr>\n",
              "      <th>71</th>\n",
              "      <td>0</td>\n",
              "      <td>vomiting</td>\n",
              "      <td>425</td>\n",
              "      <td>432</td>\n",
              "      <td>B-Disease</td>\n",
              "    </tr>\n",
              "    <tr>\n",
              "      <th>72</th>\n",
              "      <td>0</td>\n",
              "      <td>.</td>\n",
              "      <td>434</td>\n",
              "      <td>434</td>\n",
              "      <td>O</td>\n",
              "    </tr>\n",
              "  </tbody>\n",
              "</table>\n",
              "<p>73 rows × 5 columns</p>\n",
              "</div>"
            ],
            "text/plain": [
              "    sent_id        token  start  end        ner\n",
              "0         0            A      1    1          O\n",
              "1         0  28-year-old      3   13          O\n",
              "2         0       female     15   20          O\n",
              "3         0         with     22   25          O\n",
              "4         0            a     27   27          O\n",
              "..      ...          ...    ...  ...        ...\n",
              "68        0     appetite    410  417  I-Disease\n",
              "69        0            ,    419  419          O\n",
              "70        0          and    421  423          O\n",
              "71        0     vomiting    425  432  B-Disease\n",
              "72        0            .    434  434          O\n",
              "\n",
              "[73 rows x 5 columns]"
            ]
          },
          "metadata": {
            "tags": []
          },
          "execution_count": 39
        }
      ]
    },
    {
      "cell_type": "markdown",
      "metadata": {
        "id": "xAdLlcMjejMm"
      },
      "source": [
        "### Highlight Entities"
      ]
    },
    {
      "cell_type": "code",
      "metadata": {
        "id": "rfikz21I-pOt",
        "colab": {
          "base_uri": "https://localhost:8080/"
        },
        "outputId": "ec9294e6-1532-4453-ba29-3a4d2cee7c80"
      },
      "source": [
        "! pip -q install spark-nlp_display"
      ],
      "execution_count": null,
      "outputs": [
        {
          "output_type": "stream",
          "text": [
            "\u001b[K     |████████████████████████████████| 102kB 6.3MB/s \n",
            "\u001b[K     |████████████████████████████████| 71kB 9.0MB/s \n",
            "\u001b[?25h"
          ],
          "name": "stdout"
        }
      ]
    },
    {
      "cell_type": "code",
      "metadata": {
        "colab": {
          "base_uri": "https://localhost:8080/"
        },
        "id": "e7VHgpjX-h3-",
        "outputId": "ed5fa470-22d3-444e-9087-c88e48ec1bbe"
      },
      "source": [
        "ann_text = light_model.fullAnnotate(text)[0]\n",
        "ann_text.keys()"
      ],
      "execution_count": null,
      "outputs": [
        {
          "output_type": "execute_result",
          "data": {
            "text/plain": [
              "dict_keys(['document', 'ner_span', 'token', 'ner', 'embeddings', 'sentence'])"
            ]
          },
          "metadata": {
            "tags": []
          },
          "execution_count": 41
        }
      ]
    },
    {
      "cell_type": "code",
      "metadata": {
        "colab": {
          "base_uri": "https://localhost:8080/",
          "height": 266
        },
        "id": "hBsoIxMc-k7z",
        "outputId": "add5f978-c7e0-489d-ce00-ae99e52d0ec6"
      },
      "source": [
        "from sparknlp_display import NerVisualizer\n",
        "\n",
        "visualiser = NerVisualizer()\n",
        "print ('Standard Output')\n",
        "visualiser.display(ann_text, label_col='ner_span', document_col='document')\n"
      ],
      "execution_count": null,
      "outputs": [
        {
          "output_type": "stream",
          "text": [
            "Standard Output\n"
          ],
          "name": "stdout"
        },
        {
          "output_type": "display_data",
          "data": {
            "text/html": [
              "\n",
              "<style>\n",
              "    @import url('https://fonts.googleapis.com/css2?family=Montserrat:wght@300;400;500;600;700&display=swap');\n",
              "    @import url('https://fonts.googleapis.com/css2?family=Vistol Regular:wght@300;400;500;600;700&display=swap');\n",
              "    \n",
              "    .spark-nlp-display-scroll-entities {\n",
              "        border: 1px solid #E7EDF0;\n",
              "        border-radius: 3px;\n",
              "        text-align: justify;\n",
              "        \n",
              "    }\n",
              "    .spark-nlp-display-scroll-entities span {  \n",
              "        font-size: 14px;\n",
              "        line-height: 24px;\n",
              "        color: #536B76;\n",
              "        font-family: 'Montserrat', sans-serif !important;\n",
              "    }\n",
              "    \n",
              "    .spark-nlp-display-entity-wrapper{\n",
              "    \n",
              "        display: inline-grid;\n",
              "        text-align: center;\n",
              "        border-radius: 4px;\n",
              "        margin: 0 2px 5px 2px;\n",
              "        padding: 1px\n",
              "    }\n",
              "    .spark-nlp-display-entity-name{\n",
              "        font-size: 14px;\n",
              "        line-height: 24px;\n",
              "        font-family: 'Montserrat', sans-serif !important;\n",
              "        \n",
              "        background: #f1f2f3;\n",
              "        border-width: medium;\n",
              "        text-align: center;\n",
              "        \n",
              "        font-weight: 400;\n",
              "        \n",
              "        border-radius: 5px;\n",
              "        padding: 2px 5px;\n",
              "        display: block;\n",
              "        margin: 3px 2px;\n",
              "    \n",
              "    }\n",
              "    .spark-nlp-display-entity-type{\n",
              "        font-size: 14px;\n",
              "        line-height: 24px;\n",
              "        color: #ffffff;\n",
              "        font-family: 'Montserrat', sans-serif !important;\n",
              "        \n",
              "        text-transform: uppercase;\n",
              "        \n",
              "        font-weight: 500;\n",
              "\n",
              "        display: block;\n",
              "        padding: 3px 5px;\n",
              "    }\n",
              "    \n",
              "    .spark-nlp-display-entity-resolution{\n",
              "        font-size: 14px;\n",
              "        line-height: 24px;\n",
              "        color: #ffffff;\n",
              "        font-family: 'Vistol Regular', sans-serif !important;\n",
              "        \n",
              "        text-transform: uppercase;\n",
              "        \n",
              "        font-weight: 500;\n",
              "\n",
              "        display: block;\n",
              "        padding: 3px 5px;\n",
              "    }\n",
              "    \n",
              "    .spark-nlp-display-others{\n",
              "        font-size: 14px;\n",
              "        line-height: 24px;\n",
              "        font-family: 'Montserrat', sans-serif !important;\n",
              "        \n",
              "        font-weight: 400;\n",
              "    }\n",
              "\n",
              "</style>\n",
              " <span class=\"spark-nlp-display-others\" style=\"background-color: white\"><br>A 28-year-old female with a history of </span><span class=\"spark-nlp-display-entity-wrapper\" style=\"background-color: #82423B\"><span class=\"spark-nlp-display-entity-name\">gestational diabetes mellitus </span><span class=\"spark-nlp-display-entity-type\">Disease</span></span><span class=\"spark-nlp-display-others\" style=\"background-color: white\"> diagnosed eight years prior to presentation and subsequent type two </span><span class=\"spark-nlp-display-entity-wrapper\" style=\"background-color: #82423B\"><span class=\"spark-nlp-display-entity-name\">diabetes mellitus </span><span class=\"spark-nlp-display-entity-type\">Disease</span></span><span class=\"spark-nlp-display-others\" style=\"background-color: white\"> ( T2DM ), one prior episode of </span><span class=\"spark-nlp-display-entity-wrapper\" style=\"background-color: #82423B\"><span class=\"spark-nlp-display-entity-name\">HTG-induced pancreatitis </span><span class=\"spark-nlp-display-entity-type\">Disease</span></span><span class=\"spark-nlp-display-others\" style=\"background-color: white\"> three years prior to presentation , associated with an </span><span class=\"spark-nlp-display-entity-wrapper\" style=\"background-color: #82423B\"><span class=\"spark-nlp-display-entity-name\">acute hepatitis </span><span class=\"spark-nlp-display-entity-type\">Disease</span></span><span class=\"spark-nlp-display-others\" style=\"background-color: white\"> , and </span><span class=\"spark-nlp-display-entity-wrapper\" style=\"background-color: #82423B\"><span class=\"spark-nlp-display-entity-name\">obesity </span><span class=\"spark-nlp-display-entity-type\">Disease</span></span><span class=\"spark-nlp-display-others\" style=\"background-color: white\"> with a body mass index ( </span><span class=\"spark-nlp-display-entity-wrapper\" style=\"background-color: #82423B\"><span class=\"spark-nlp-display-entity-name\">BMI </span><span class=\"spark-nlp-display-entity-type\">Disease</span></span><span class=\"spark-nlp-display-others\" style=\"background-color: white\"> ) of 33.5 kg/m2 , presented with a one-week history of </span><span class=\"spark-nlp-display-entity-wrapper\" style=\"background-color: #82423B\"><span class=\"spark-nlp-display-entity-name\">polyuria </span><span class=\"spark-nlp-display-entity-type\">Disease</span></span><span class=\"spark-nlp-display-others\" style=\"background-color: white\"> , </span><span class=\"spark-nlp-display-entity-wrapper\" style=\"background-color: #82423B\"><span class=\"spark-nlp-display-entity-name\">polydipsia </span><span class=\"spark-nlp-display-entity-type\">Disease</span></span><span class=\"spark-nlp-display-others\" style=\"background-color: white\"> , </span><span class=\"spark-nlp-display-entity-wrapper\" style=\"background-color: #82423B\"><span class=\"spark-nlp-display-entity-name\">poor appetite </span><span class=\"spark-nlp-display-entity-type\">Disease</span></span><span class=\"spark-nlp-display-others\" style=\"background-color: white\"> , and </span><span class=\"spark-nlp-display-entity-wrapper\" style=\"background-color: #82423B\"><span class=\"spark-nlp-display-entity-name\">vomiting </span><span class=\"spark-nlp-display-entity-type\">Disease</span></span><span class=\"spark-nlp-display-others\" style=\"background-color: white\"> .<br></span></div>"
            ],
            "text/plain": [
              "<IPython.core.display.HTML object>"
            ]
          },
          "metadata": {
            "tags": []
          }
        }
      ]
    }
  ]
}
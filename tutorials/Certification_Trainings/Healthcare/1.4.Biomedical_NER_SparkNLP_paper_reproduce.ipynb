{
  "nbformat": 4,
  "nbformat_minor": 0,
  "metadata": {
    "colab": {
      "name": "1.4.Biomedical_NER_SparkNLP_paper_reproduce.ipynb",
      "provenance": [],
      "collapsed_sections": []
    },
    "kernelspec": {
      "display_name": "Python 3",
      "language": "python",
      "name": "python3"
    },
    "language_info": {
      "codemirror_mode": {
        "name": "ipython",
        "version": 3
      },
      "file_extension": ".py",
      "mimetype": "text/x-python",
      "name": "python",
      "nbconvert_exporter": "python",
      "pygments_lexer": "ipython3",
      "version": "3.7.4"
    },
    "accelerator": "GPU"
  },
  "cells": [
    {
      "cell_type": "markdown",
      "metadata": {
        "id": "sXatvRX899i0"
      },
      "source": [
        "![JohnSnowLabs](https://nlp.johnsnowlabs.com/assets/images/logo.png)"
      ]
    },
    {
      "cell_type": "markdown",
      "metadata": {
        "id": "jOkfgBXDwxhz"
      },
      "source": [
        "[![Open In Colab](https://colab.research.google.com/assets/colab-badge.svg)](https://colab.research.google.com/github/JohnSnowLabs/spark-nlp-workshop/blob/master/tutorials/Certification_Trainings/Healthcare/1.4.Biomedical_NER_SparkNLP_paper_reproduce.ipynb)"
      ]
    },
    {
      "cell_type": "markdown",
      "metadata": {
        "id": "HCIg1pQpelJS"
      },
      "source": [
        "# Biomedical Named Entity Recognition (NER) at Scale\n",
        "\n",
        "official paper : https://arxiv.org/abs/2011.06315\n",
        "\n",
        "NER in Spark NLP Colab notebooks: https://colab.research.google.com/github/JohnSnowLabs/spark-nlp-workshop/blob/master/tutorials/Certification_Trainings/Public/4.NERDL_Training.ipynb"
      ]
    },
    {
      "cell_type": "markdown",
      "metadata": {
        "id": "JryP7HLODLnc"
      },
      "source": [
        "## Blogposts and videos:\n",
        "\n",
        "\n",
        "\n",
        "https://towardsdatascience.com/named-entity-recognition-ner-with-bert-in-spark-nlp-874df20d1d77\n",
        "\n",
        "NerDL worksghop (90 min): https://www.youtube.com/watch?v=YM-e4eOiQ34\n",
        "\n",
        "https://medium.com/spark-nlp/named-entity-recognition-for-healthcare-with-sparknlp-nerdl-and-nercrf-a7751b6ad571\n",
        "\n",
        "https://medium.com/atlas-research/ner-for-clinical-text-7c73caddd180"
      ]
    },
    {
      "cell_type": "markdown",
      "metadata": {
        "id": "HDH5i1coCgGJ"
      },
      "source": [
        "## Colab Setup"
      ]
    },
    {
      "cell_type": "code",
      "source": [
        "import json\n",
        "\n",
        "from google.colab import files\n",
        "\n",
        "license_keys = files.upload()\n",
        "\n",
        "with open(list(license_keys.keys())[0]) as f:\n",
        "    license_keys = json.load(f)\n",
        "\n",
        "# Defining license key-value pairs as local variables\n",
        "locals().update(license_keys)\n",
        "\n",
        "# Adding license key-value pairs to environment variables\n",
        "import os\n",
        "os.environ.update(license_keys)"
      ],
      "metadata": {
        "id": "VXN_Vuq4Zg2-"
      },
      "execution_count": null,
      "outputs": []
    },
    {
      "cell_type": "code",
      "metadata": {
        "id": "-iCWzZ2NCZ0f"
      },
      "source": [
        "# Installing pyspark and spark-nlp\n",
        "! pip install --upgrade -q pyspark==3.1.2 spark-nlp==$PUBLIC_VERSION\n",
        "\n",
        "# Installing Spark NLP Display Library for visualization\n",
        "! pip install -q spark-nlp-display"
      ],
      "execution_count": null,
      "outputs": []
    },
    {
      "cell_type": "code",
      "metadata": {
        "id": "8DFCYTaDC1qZ",
        "colab": {
          "base_uri": "https://localhost:8080/",
          "height": 254
        },
        "outputId": "af56023b-f53a-46be-87e9-1664b08c1472"
      },
      "source": [
        "import sparknlp\n",
        "import os\n",
        "\n",
        "spark = sparknlp.start() # for GPU training >> sparknlp.start(gpu = True)\n",
        "\n",
        "from sparknlp.base import *\n",
        "from sparknlp.annotator import *\n",
        "\n",
        "print(\"Spark NLP version\", sparknlp.version())\n",
        "\n",
        "print(\"Apache Spark version:\", spark.version)\n",
        "\n",
        "spark"
      ],
      "execution_count": null,
      "outputs": [
        {
          "output_type": "stream",
          "name": "stdout",
          "text": [
            "Spark NLP version 3.4.0\n",
            "Apache Spark version: 3.1.2\n"
          ]
        },
        {
          "output_type": "execute_result",
          "data": {
            "text/html": [
              "\n",
              "            <div>\n",
              "                <p><b>SparkSession - in-memory</b></p>\n",
              "                \n",
              "        <div>\n",
              "            <p><b>SparkContext</b></p>\n",
              "\n",
              "            <p><a href=\"http://5923fee7b941:4040\">Spark UI</a></p>\n",
              "\n",
              "            <dl>\n",
              "              <dt>Version</dt>\n",
              "                <dd><code>v3.1.2</code></dd>\n",
              "              <dt>Master</dt>\n",
              "                <dd><code>local[*]</code></dd>\n",
              "              <dt>AppName</dt>\n",
              "                <dd><code>Spark NLP</code></dd>\n",
              "            </dl>\n",
              "        </div>\n",
              "        \n",
              "            </div>\n",
              "        "
            ],
            "text/plain": [
              "<pyspark.sql.session.SparkSession at 0x7fc8f6de1b10>"
            ]
          },
          "metadata": {},
          "execution_count": 5
        }
      ]
    },
    {
      "cell_type": "markdown",
      "metadata": {
        "id": "YG1zLzzLEbyI"
      },
      "source": [
        "## CoNLL Data Prep \n",
        "\n",
        "We are going to use NCBI-Disease dataset in this notebook. All the other datasets used in the official paper arw prepared using the datasets at https://github.com/cambridgeltl/MTL-Bioinformatics-2016/tree/master/data. Since the data preparation steps from official tsv dfiles to conll format we utilize here is a time consuming and proprietary process, we share only one of them (**NCBI-Disease**) as an example. "
      ]
    },
    {
      "cell_type": "code",
      "metadata": {
        "id": "MSg4fdlHD6x6"
      },
      "source": [
        "!wget -q https://raw.githubusercontent.com/JohnSnowLabs/spark-nlp-workshop/master/tutorials/Certification_Trainings/Healthcare/data/NCBI_disease_official_test.conll\n",
        "!wget -q https://raw.githubusercontent.com/JohnSnowLabs/spark-nlp-workshop/master/tutorials/Certification_Trainings/Healthcare/data/NCBI_disease_official_train_dev.conll"
      ],
      "execution_count": null,
      "outputs": []
    },
    {
      "cell_type": "code",
      "metadata": {
        "id": "C1Mn-tuqEofp",
        "colab": {
          "base_uri": "https://localhost:8080/"
        },
        "outputId": "bf33164b-1bf6-42b4-efa2-6df0c962311d"
      },
      "source": [
        "with open(\"NCBI_disease_official_test.conll\") as f:\n",
        "    train_txt =f.read()\n",
        "\n",
        "print (train_txt[:500])"
      ],
      "execution_count": null,
      "outputs": [
        {
          "output_type": "stream",
          "name": "stdout",
          "text": [
            "-DOCSTART- -X- -X- O\n",
            "\n",
            "Clustering NN O O\n",
            "of NN O O\n",
            "missense NN O O\n",
            "mutations NN O O\n",
            "in NN O O\n",
            "the NN O O\n",
            "ataxia NN O B-Disease\n",
            "- NN O I-Disease\n",
            "telangiectasia NN O I-Disease\n",
            "gene NN O O\n",
            "in NN O O\n",
            "a NN O O\n",
            "sporadic NN O B-Disease\n",
            "T NN O I-Disease\n",
            "- NN O I-Disease\n",
            "cell NN O I-Disease\n",
            "leukaemia NN O I-Disease\n",
            ". NN O O\n",
            "\n",
            "Ataxia NN O B-Disease\n",
            "- NN O I-Disease\n",
            "telangiectasia NN O I-Disease\n",
            "( NN O O\n",
            "A NN O B-Disease\n",
            "- NN O I-Disease\n",
            "T NN O I-Disease\n",
            ") NN O O\n",
            "is NN O O\n",
            "a NN O O\n",
            "recessive NN O B-Disease\n",
            "m\n"
          ]
        }
      ]
    },
    {
      "cell_type": "code",
      "metadata": {
        "id": "wG9RpnKCFffi",
        "colab": {
          "base_uri": "https://localhost:8080/"
        },
        "outputId": "68322468-ec0c-4323-e23c-8b2e8e7927ea"
      },
      "source": [
        "from sparknlp.training import CoNLL\n",
        "\n",
        "training_data = CoNLL().readDataset(spark, 'NCBI_disease_official_train_dev.conll')\n",
        "\n",
        "training_data.show(3)"
      ],
      "execution_count": null,
      "outputs": [
        {
          "output_type": "stream",
          "name": "stdout",
          "text": [
            "+--------------------+--------------------+--------------------+--------------------+--------------------+--------------------+\n",
            "|                text|            document|            sentence|               token|                 pos|               label|\n",
            "+--------------------+--------------------+--------------------+--------------------+--------------------+--------------------+\n",
            "|Identification of...|[{document, 0, 89...|[{document, 0, 89...|[{token, 0, 13, I...|[{pos, 0, 13, NN,...|[{named_entity, 0...|\n",
            "|The adenomatous p...|[{document, 0, 21...|[{document, 0, 21...|[{token, 0, 2, Th...|[{pos, 0, 2, NN, ...|[{named_entity, 0...|\n",
            "|Complex formation...|[{document, 0, 63...|[{document, 0, 63...|[{token, 0, 6, Co...|[{pos, 0, 6, NN, ...|[{named_entity, 0...|\n",
            "+--------------------+--------------------+--------------------+--------------------+--------------------+--------------------+\n",
            "only showing top 3 rows\n",
            "\n"
          ]
        }
      ]
    },
    {
      "cell_type": "code",
      "metadata": {
        "id": "R6xa4jp8Szs0",
        "colab": {
          "base_uri": "https://localhost:8080/"
        },
        "outputId": "188f71f0-ae6b-49e2-9f81-5247d558c328"
      },
      "source": [
        "training_data.count()"
      ],
      "execution_count": null,
      "outputs": [
        {
          "output_type": "execute_result",
          "data": {
            "text/plain": [
              "6347"
            ]
          },
          "metadata": {},
          "execution_count": 9
        }
      ]
    },
    {
      "cell_type": "code",
      "metadata": {
        "id": "94A1JedtFpDp",
        "colab": {
          "base_uri": "https://localhost:8080/"
        },
        "outputId": "11afdebe-1386-4544-e811-d357fc0fd23b"
      },
      "source": [
        "import pyspark.sql.functions as F\n",
        "\n",
        "training_data.select(F.explode(F.arrays_zip('token.result', 'pos.result',  'label.result')).alias(\"cols\")) \\\n",
        ".select(F.expr(\"cols['0']\").alias(\"token\"),\n",
        "        F.expr(\"cols['1']\").alias(\"pos\"),\n",
        "        F.expr(\"cols['2']\").alias(\"ner_label\")).show(truncate=50)"
      ],
      "execution_count": null,
      "outputs": [
        {
          "output_type": "stream",
          "name": "stdout",
          "text": [
            "+--------------+---+---------+\n",
            "|         token|pos|ner_label|\n",
            "+--------------+---+---------+\n",
            "|Identification| NN|        O|\n",
            "|            of| NN|        O|\n",
            "|          APC2| NN|        O|\n",
            "|             ,| NN|        O|\n",
            "|             a| NN|        O|\n",
            "|     homologue| NN|        O|\n",
            "|            of| NN|        O|\n",
            "|           the| NN|        O|\n",
            "|   adenomatous| NN|B-Disease|\n",
            "|     polyposis| NN|I-Disease|\n",
            "|          coli| NN|I-Disease|\n",
            "|        tumour| NN|I-Disease|\n",
            "|    suppressor| NN|        O|\n",
            "|             .| NN|        O|\n",
            "|           The| NN|        O|\n",
            "|   adenomatous| NN|B-Disease|\n",
            "|     polyposis| NN|I-Disease|\n",
            "|          coli| NN|I-Disease|\n",
            "|             (| NN|I-Disease|\n",
            "|           APC| NN|I-Disease|\n",
            "+--------------+---+---------+\n",
            "only showing top 20 rows\n",
            "\n"
          ]
        }
      ]
    },
    {
      "cell_type": "code",
      "metadata": {
        "id": "puWWnmUbGFVh",
        "colab": {
          "base_uri": "https://localhost:8080/"
        },
        "outputId": "5feafefe-148c-4534-fad9-da232aec4100"
      },
      "source": [
        "training_data.select(F.explode(F.arrays_zip('token.result','label.result')).alias(\"cols\")) \\\n",
        ".select(F.expr(\"cols['0']\").alias(\"token\"),\n",
        "        F.expr(\"cols['1']\").alias(\"ground_truth\")).groupBy('ground_truth').count().orderBy('count', ascending=False).show(100,truncate=False)"
      ],
      "execution_count": null,
      "outputs": [
        {
          "output_type": "stream",
          "name": "stdout",
          "text": [
            "+------------+------+\n",
            "|ground_truth|count |\n",
            "+------------+------+\n",
            "|O           |146544|\n",
            "|I-Disease   |7205  |\n",
            "|B-Disease   |5921  |\n",
            "+------------+------+\n",
            "\n"
          ]
        }
      ]
    },
    {
      "cell_type": "code",
      "metadata": {
        "id": "qOACRQvC_pnC",
        "colab": {
          "base_uri": "https://localhost:8080/"
        },
        "outputId": "667c8115-2487-4bcf-cd69-0f6b3efa161b"
      },
      "source": [
        "\n",
        "test_data = CoNLL().readDataset(spark, 'NCBI_disease_official_test.conll')\n",
        "\n",
        "test_data.select(F.explode(F.arrays_zip('token.result','label.result')).alias(\"cols\")) \\\n",
        ".select(F.expr(\"cols['0']\").alias(\"token\"),\n",
        "        F.expr(\"cols['1']\").alias(\"ground_truth\")).groupBy('ground_truth').count().orderBy('count', ascending=False).show(100,truncate=False)"
      ],
      "execution_count": null,
      "outputs": [
        {
          "output_type": "stream",
          "name": "stdout",
          "text": [
            "+------------+-----+\n",
            "|ground_truth|count|\n",
            "+------------+-----+\n",
            "|O           |22450|\n",
            "|I-Disease   |1087 |\n",
            "|B-Disease   |960  |\n",
            "+------------+-----+\n",
            "\n"
          ]
        }
      ]
    },
    {
      "cell_type": "code",
      "metadata": {
        "id": "fw2p7DOwGZto",
        "colab": {
          "base_uri": "https://localhost:8080/"
        },
        "outputId": "12a5559f-aa02-492d-dec1-16f40c688d99"
      },
      "source": [
        "# You can use any word embeddings you want (Glove, Elmo, Bert, custom etc.)\n",
        "\n",
        "glove_embeddings = WordEmbeddingsModel.pretrained('glove_6B_300','xx')\\\n",
        "          .setInputCols([\"sentence\", \"token\"])\\\n",
        "          .setOutputCol(\"embeddings\")\n",
        "    "
      ],
      "execution_count": null,
      "outputs": [
        {
          "output_type": "stream",
          "name": "stdout",
          "text": [
            "glove_6B_300 download started this may take some time.\n",
            "Approximate size to download 426.2 MB\n",
            "[OK!]\n"
          ]
        }
      ]
    },
    {
      "cell_type": "markdown",
      "metadata": {
        "id": "zrpqv0Q3Bcyr"
      },
      "source": [
        "**We will get the embeddings for test set and write to disk as a parquet to be able to get metrics after each epoch during training.**"
      ]
    },
    {
      "cell_type": "code",
      "metadata": {
        "id": "SBy2ZmDFBiSo"
      },
      "source": [
        "glove_embeddings.transform(test_data).write.parquet('test_data_with_embeddings.parquet')"
      ],
      "execution_count": null,
      "outputs": []
    },
    {
      "cell_type": "code",
      "metadata": {
        "id": "rlRN1IJDENHO"
      },
      "source": [
        "!mkdir ner_logs"
      ],
      "execution_count": null,
      "outputs": []
    },
    {
      "cell_type": "code",
      "metadata": {
        "id": "8NFG_NK6G67o"
      },
      "source": [
        "nerTagger = NerDLApproach()\\\n",
        "      .setInputCols([\"sentence\", \"token\", \"embeddings\"])\\\n",
        "      .setLabelColumn(\"label\")\\\n",
        "      .setOutputCol(\"ner\")\\\n",
        "      .setMaxEpochs(10)\\\n",
        "      .setLr(0.003)\\\n",
        "      .setBatchSize(8)\\\n",
        "      .setRandomSeed(0)\\\n",
        "      .setVerbose(1)\\\n",
        "      .setEvaluationLogExtended(True) \\\n",
        "      .setEnableOutputLogs(True)\\\n",
        "      .setIncludeConfidence(True)\\\n",
        "      .setTestDataset('test_data_with_embeddings.parquet')\\\n",
        "      .setOutputLogsPath('ner_logs') # if not set, logs will be written to ~/annotator_logs\n",
        " #    .setGraphFolder('graphs') >> put your graph file (pb) under this folder if you are using a custom graph generated thru 4.1 NerDL-Graph.ipynb notebook\n",
        " #    .setEnableMemoryOptimizer() >> if you have a limited memory and a large conll file, you can set this True to train batch by batch \n",
        "    \n",
        "# do hyperparameter by tuning the params above (max epoch, LR, dropout etc.) to get better results\n",
        "ner_pipeline = Pipeline(stages=[\n",
        "      glove_embeddings,\n",
        "      nerTagger\n",
        " ])\n"
      ],
      "execution_count": null,
      "outputs": []
    },
    {
      "cell_type": "markdown",
      "metadata": {
        "id": "1fggBlAjQoTl"
      },
      "source": [
        "### Fitting"
      ]
    },
    {
      "cell_type": "code",
      "metadata": {
        "id": "-cmPOQx6Gti6",
        "colab": {
          "base_uri": "https://localhost:8080/"
        },
        "outputId": "e95de78c-99f2-4f70-f37c-79daf4f69b2c"
      },
      "source": [
        "%%time\n",
        "\n",
        "ner_model = ner_pipeline.fit(training_data)\n",
        "\n",
        "# 1 epoch takes around 3 min with batch size=8\n",
        "# if you get an error for incompatible TF graph, use 4.1 NerDL-Graph.ipynb notebook to create a graph"
      ],
      "execution_count": null,
      "outputs": [
        {
          "output_type": "stream",
          "name": "stdout",
          "text": [
            "CPU times: user 10.9 s, sys: 1.12 s, total: 12.1 s\n",
            "Wall time: 33min 51s\n"
          ]
        }
      ]
    },
    {
      "cell_type": "code",
      "metadata": {
        "id": "zFXJ760TMK9t",
        "colab": {
          "base_uri": "https://localhost:8080/"
        },
        "outputId": "96db5042-78e2-495e-f416-641fee8094ae"
      },
      "source": [
        "#! cd ~/annotator_logs && ls -lt\n",
        "!cd ner_logs && ls -lt"
      ],
      "execution_count": null,
      "outputs": [
        {
          "output_type": "stream",
          "name": "stdout",
          "text": [
            "total 8\n",
            "-rw-r--r-- 1 root root 5004 Jan 25 14:38 NerDLApproach_dab0025f4cb0.log\n"
          ]
        }
      ]
    },
    {
      "cell_type": "code",
      "metadata": {
        "id": "FwGTRKmBGIW8",
        "colab": {
          "base_uri": "https://localhost:8080/"
        },
        "outputId": "faede52b-15a0-4933-e90b-5776c9bb9456"
      },
      "source": [
        "!tail -n 10 ner_logs/NerDLApproach*"
      ],
      "execution_count": null,
      "outputs": [
        {
          "output_type": "stream",
          "name": "stdout",
          "text": [
            "\n",
            "Epoch 10/10 - 196.62s - loss: 440.3349 - batches: 795\n",
            "Quality on test dataset: \n",
            "time to finish evaluation: 5.89s\n",
            "label\t tp\t fp\t fn\t prec\t rec\t f1\n",
            "I-Disease\t 961\t 189\t 126\t 0.8356522\t 0.88408464\t 0.8591864\n",
            "B-Disease\t 796\t 147\t 164\t 0.84411454\t 0.82916665\t 0.83657384\n",
            "tp: 1757 fp: 336 fn: 290 labels: 2\n",
            "Macro-average\t prec: 0.8398833, rec: 0.8566257, f1: 0.8481719\n",
            "Micro-average\t prec: 0.8394649, rec: 0.85832924, f1: 0.8487922\n"
          ]
        }
      ]
    },
    {
      "cell_type": "markdown",
      "metadata": {
        "id": "AgdnSdjtQkZW"
      },
      "source": [
        "### Test set evaluation"
      ]
    },
    {
      "cell_type": "code",
      "metadata": {
        "id": "bbyhDUFDN63V",
        "colab": {
          "base_uri": "https://localhost:8080/"
        },
        "outputId": "48e93702-4de6-4d05-e009-da2b0ba767fa"
      },
      "source": [
        "import pyspark.sql.functions as F\n",
        "\n",
        "predictions = ner_model.transform(test_data)\n",
        "\n",
        "predictions.select(F.explode(F.arrays_zip('token.result','label.result','ner.result')).alias(\"cols\")) \\\n",
        ".select(F.expr(\"cols['0']\").alias(\"token\"),\n",
        "        F.expr(\"cols['1']\").alias(\"ground_truth\"),\n",
        "        F.expr(\"cols['2']\").alias(\"prediction\")).show(truncate=False)"
      ],
      "execution_count": null,
      "outputs": [
        {
          "output_type": "stream",
          "name": "stdout",
          "text": [
            "+--------------+------------+----------+\n",
            "|token         |ground_truth|prediction|\n",
            "+--------------+------------+----------+\n",
            "|Clustering    |O           |O         |\n",
            "|of            |O           |O         |\n",
            "|missense      |O           |O         |\n",
            "|mutations     |O           |O         |\n",
            "|in            |O           |O         |\n",
            "|the           |O           |O         |\n",
            "|ataxia        |B-Disease   |B-Disease |\n",
            "|-             |I-Disease   |I-Disease |\n",
            "|telangiectasia|I-Disease   |I-Disease |\n",
            "|gene          |O           |O         |\n",
            "|in            |O           |O         |\n",
            "|a             |O           |O         |\n",
            "|sporadic      |B-Disease   |B-Disease |\n",
            "|T             |I-Disease   |I-Disease |\n",
            "|-             |I-Disease   |I-Disease |\n",
            "|cell          |I-Disease   |I-Disease |\n",
            "|leukaemia     |I-Disease   |I-Disease |\n",
            "|.             |O           |O         |\n",
            "|Ataxia        |B-Disease   |B-Disease |\n",
            "|-             |I-Disease   |I-Disease |\n",
            "+--------------+------------+----------+\n",
            "only showing top 20 rows\n",
            "\n"
          ]
        }
      ]
    },
    {
      "cell_type": "markdown",
      "metadata": {
        "id": "5oi4rvrwVGoR"
      },
      "source": [
        "Licensed user will have an access to internal NERDLMetrics module to do this more efficient and easily without going out of Spark. But open source users need to use sklearn.metrics or any other equivalent module to do the same."
      ]
    },
    {
      "cell_type": "code",
      "metadata": {
        "id": "Up-eKXlzN-vx",
        "colab": {
          "base_uri": "https://localhost:8080/"
        },
        "outputId": "4a305f7c-e369-4a2c-a2f6-30f3add9894a"
      },
      "source": [
        "from sklearn.metrics import classification_report\n",
        "\n",
        "preds_df = predictions.select(F.explode(F.arrays_zip('token.result','label.result','ner.result')).alias(\"cols\")) \\\n",
        ".select(F.expr(\"cols['0']\").alias(\"token\"),\n",
        "        F.expr(\"cols['1']\").alias(\"ground_truth\"),\n",
        "        F.expr(\"cols['2']\").alias(\"prediction\")).toPandas()\n",
        "\n",
        "print (classification_report(preds_df['ground_truth'], preds_df['prediction']))\n"
      ],
      "execution_count": null,
      "outputs": [
        {
          "output_type": "stream",
          "name": "stdout",
          "text": [
            "              precision    recall  f1-score   support\n",
            "\n",
            "   B-Disease       0.84      0.83      0.84       960\n",
            "   I-Disease       0.84      0.88      0.86      1087\n",
            "           O       0.99      0.99      0.99     22450\n",
            "\n",
            "    accuracy                           0.98     24497\n",
            "   macro avg       0.89      0.90      0.90     24497\n",
            "weighted avg       0.98      0.98      0.98     24497\n",
            "\n"
          ]
        }
      ]
    },
    {
      "cell_type": "markdown",
      "metadata": {
        "id": "P0sD2CU4HP-H"
      },
      "source": [
        "### Entity level evaluation (strict eval)"
      ]
    },
    {
      "cell_type": "code",
      "metadata": {
        "id": "mpkUb1gyHOk-"
      },
      "source": [
        "!wget  -q https://raw.githubusercontent.com/JohnSnowLabs/spark-nlp-workshop/master/tutorials/Certification_Trainings/Public/utils/conll_eval.py"
      ],
      "execution_count": null,
      "outputs": []
    },
    {
      "cell_type": "code",
      "metadata": {
        "id": "jpiIrbx5I8qI",
        "colab": {
          "base_uri": "https://localhost:8080/"
        },
        "outputId": "edeaeaeb-43a2-408b-cd20-12724283eb93"
      },
      "source": [
        "import conll_eval\n",
        "\n",
        "metrics = conll_eval.evaluate(preds_df['ground_truth'].values, preds_df['prediction'].values)"
      ],
      "execution_count": null,
      "outputs": [
        {
          "output_type": "stream",
          "name": "stdout",
          "text": [
            "processed 24497 tokens with 960 phrases; found: 943 phrases; correct: 775.\n",
            "accuracy:  85.83%; (non-O)\n",
            "accuracy:  97.80%; precision:  82.18%; recall:  80.73%; FB1:  81.45\n",
            "          Disease: precision:  82.18%; recall:  80.73%; FB1:  81.45  943\n"
          ]
        }
      ]
    },
    {
      "cell_type": "code",
      "metadata": {
        "id": "vZ0jme54KDyC",
        "colab": {
          "base_uri": "https://localhost:8080/"
        },
        "outputId": "5ee7bd4d-9e1f-4684-9507-7610ec9f7bc5"
      },
      "source": [
        "# micro, macro, avg\n",
        "metrics[0]"
      ],
      "execution_count": null,
      "outputs": [
        {
          "output_type": "execute_result",
          "data": {
            "text/plain": [
              "(82.18451749734889, 80.72916666666666, 81.45034156594849)"
            ]
          },
          "metadata": {},
          "execution_count": 25
        }
      ]
    },
    {
      "cell_type": "code",
      "metadata": {
        "id": "YMZu0ottJkmn",
        "colab": {
          "base_uri": "https://localhost:8080/",
          "height": 81
        },
        "outputId": "a9640829-f5a2-42c7-ed0e-bbe537b969a3"
      },
      "source": [
        "import pandas as pd\n",
        "pd.DataFrame(metrics[1], columns=['entity','precision','recall','f1','support'])"
      ],
      "execution_count": null,
      "outputs": [
        {
          "output_type": "execute_result",
          "data": {
            "text/html": [
              "\n",
              "  <div id=\"df-8996a7b8-72ad-4bcf-ba64-ec8d0f18d788\">\n",
              "    <div class=\"colab-df-container\">\n",
              "      <div>\n",
              "<style scoped>\n",
              "    .dataframe tbody tr th:only-of-type {\n",
              "        vertical-align: middle;\n",
              "    }\n",
              "\n",
              "    .dataframe tbody tr th {\n",
              "        vertical-align: top;\n",
              "    }\n",
              "\n",
              "    .dataframe thead th {\n",
              "        text-align: right;\n",
              "    }\n",
              "</style>\n",
              "<table border=\"1\" class=\"dataframe\">\n",
              "  <thead>\n",
              "    <tr style=\"text-align: right;\">\n",
              "      <th></th>\n",
              "      <th>entity</th>\n",
              "      <th>precision</th>\n",
              "      <th>recall</th>\n",
              "      <th>f1</th>\n",
              "      <th>support</th>\n",
              "    </tr>\n",
              "  </thead>\n",
              "  <tbody>\n",
              "    <tr>\n",
              "      <th>0</th>\n",
              "      <td>Disease</td>\n",
              "      <td>82.184517</td>\n",
              "      <td>80.729167</td>\n",
              "      <td>81.450342</td>\n",
              "      <td>943</td>\n",
              "    </tr>\n",
              "  </tbody>\n",
              "</table>\n",
              "</div>\n",
              "      <button class=\"colab-df-convert\" onclick=\"convertToInteractive('df-8996a7b8-72ad-4bcf-ba64-ec8d0f18d788')\"\n",
              "              title=\"Convert this dataframe to an interactive table.\"\n",
              "              style=\"display:none;\">\n",
              "        \n",
              "  <svg xmlns=\"http://www.w3.org/2000/svg\" height=\"24px\"viewBox=\"0 0 24 24\"\n",
              "       width=\"24px\">\n",
              "    <path d=\"M0 0h24v24H0V0z\" fill=\"none\"/>\n",
              "    <path d=\"M18.56 5.44l.94 2.06.94-2.06 2.06-.94-2.06-.94-.94-2.06-.94 2.06-2.06.94zm-11 1L8.5 8.5l.94-2.06 2.06-.94-2.06-.94L8.5 2.5l-.94 2.06-2.06.94zm10 10l.94 2.06.94-2.06 2.06-.94-2.06-.94-.94-2.06-.94 2.06-2.06.94z\"/><path d=\"M17.41 7.96l-1.37-1.37c-.4-.4-.92-.59-1.43-.59-.52 0-1.04.2-1.43.59L10.3 9.45l-7.72 7.72c-.78.78-.78 2.05 0 2.83L4 21.41c.39.39.9.59 1.41.59.51 0 1.02-.2 1.41-.59l7.78-7.78 2.81-2.81c.8-.78.8-2.07 0-2.86zM5.41 20L4 18.59l7.72-7.72 1.47 1.35L5.41 20z\"/>\n",
              "  </svg>\n",
              "      </button>\n",
              "      \n",
              "  <style>\n",
              "    .colab-df-container {\n",
              "      display:flex;\n",
              "      flex-wrap:wrap;\n",
              "      gap: 12px;\n",
              "    }\n",
              "\n",
              "    .colab-df-convert {\n",
              "      background-color: #E8F0FE;\n",
              "      border: none;\n",
              "      border-radius: 50%;\n",
              "      cursor: pointer;\n",
              "      display: none;\n",
              "      fill: #1967D2;\n",
              "      height: 32px;\n",
              "      padding: 0 0 0 0;\n",
              "      width: 32px;\n",
              "    }\n",
              "\n",
              "    .colab-df-convert:hover {\n",
              "      background-color: #E2EBFA;\n",
              "      box-shadow: 0px 1px 2px rgba(60, 64, 67, 0.3), 0px 1px 3px 1px rgba(60, 64, 67, 0.15);\n",
              "      fill: #174EA6;\n",
              "    }\n",
              "\n",
              "    [theme=dark] .colab-df-convert {\n",
              "      background-color: #3B4455;\n",
              "      fill: #D2E3FC;\n",
              "    }\n",
              "\n",
              "    [theme=dark] .colab-df-convert:hover {\n",
              "      background-color: #434B5C;\n",
              "      box-shadow: 0px 1px 3px 1px rgba(0, 0, 0, 0.15);\n",
              "      filter: drop-shadow(0px 1px 2px rgba(0, 0, 0, 0.3));\n",
              "      fill: #FFFFFF;\n",
              "    }\n",
              "  </style>\n",
              "\n",
              "      <script>\n",
              "        const buttonEl =\n",
              "          document.querySelector('#df-8996a7b8-72ad-4bcf-ba64-ec8d0f18d788 button.colab-df-convert');\n",
              "        buttonEl.style.display =\n",
              "          google.colab.kernel.accessAllowed ? 'block' : 'none';\n",
              "\n",
              "        async function convertToInteractive(key) {\n",
              "          const element = document.querySelector('#df-8996a7b8-72ad-4bcf-ba64-ec8d0f18d788');\n",
              "          const dataTable =\n",
              "            await google.colab.kernel.invokeFunction('convertToInteractive',\n",
              "                                                     [key], {});\n",
              "          if (!dataTable) return;\n",
              "\n",
              "          const docLinkHtml = 'Like what you see? Visit the ' +\n",
              "            '<a target=\"_blank\" href=https://colab.research.google.com/notebooks/data_table.ipynb>data table notebook</a>'\n",
              "            + ' to learn more about interactive tables.';\n",
              "          element.innerHTML = '';\n",
              "          dataTable['output_type'] = 'display_data';\n",
              "          await google.colab.output.renderOutput(dataTable, element);\n",
              "          const docLink = document.createElement('div');\n",
              "          docLink.innerHTML = docLinkHtml;\n",
              "          element.appendChild(docLink);\n",
              "        }\n",
              "      </script>\n",
              "    </div>\n",
              "  </div>\n",
              "  "
            ],
            "text/plain": [
              "    entity  precision     recall         f1  support\n",
              "0  Disease  82.184517  80.729167  81.450342      943"
            ]
          },
          "metadata": {},
          "execution_count": 26
        }
      ]
    },
    {
      "cell_type": "markdown",
      "metadata": {
        "id": "DVBxVC2yi12r"
      },
      "source": [
        "### Ner log parser"
      ]
    },
    {
      "cell_type": "code",
      "metadata": {
        "id": "cyKawgE8i4TN"
      },
      "source": [
        "!wget -q https://raw.githubusercontent.com/JohnSnowLabs/spark-nlp-workshop/master/tutorials/Certification_Trainings/Public/utils/ner_log_parser.py"
      ],
      "execution_count": null,
      "outputs": []
    },
    {
      "cell_type": "code",
      "metadata": {
        "id": "ixBftahAi--T"
      },
      "source": [
        "import ner_log_parser"
      ],
      "execution_count": null,
      "outputs": []
    },
    {
      "cell_type": "code",
      "metadata": {
        "id": "G50Msn3kjNhY"
      },
      "source": [
        "%matplotlib inline"
      ],
      "execution_count": null,
      "outputs": []
    },
    {
      "cell_type": "code",
      "metadata": {
        "id": "Xce1lCIanxPS",
        "outputId": "62586d22-0c2c-4225-b01e-b032fc158de2",
        "colab": {
          "base_uri": "https://localhost:8080/",
          "height": 1000
        }
      },
      "source": [
        "log_file = os.listdir(\"ner_logs\")[0]\n",
        "ner_log_parser.get_charts(f'/content/ner_logs/{log_file}')"
      ],
      "execution_count": null,
      "outputs": [
        {
          "output_type": "display_data",
          "data": {
            "image/png": "[encoded data removed]",
            "text/plain": [
              "<Figure size 1440x1440 with 6 Axes>"
            ]
          },
          "metadata": {
            "needs_background": "light"
          }
        },
        {
          "output_type": "display_data",
          "data": {
            "image/png": "[encoded data removed]",
            "text/plain": [
              "<Figure size 1440x1440 with 6 Axes>"
            ]
          },
          "metadata": {
            "needs_background": "light"
          }
        }
      ]
    },
    {
      "cell_type": "code",
      "source": [
        "!cd ner_logs && ls -lt"
      ],
      "metadata": {
        "id": "ZGd5ETwatAmJ",
        "outputId": "cb7d5d10-a306-4468-9143-106777c5a56c",
        "colab": {
          "base_uri": "https://localhost:8080/"
        }
      },
      "execution_count": null,
      "outputs": [
        {
          "output_type": "stream",
          "name": "stdout",
          "text": [
            "total 8\n",
            "-rw-r--r-- 1 root root 5004 Jan 25 14:38 NerDLApproach_dab0025f4cb0.log\n"
          ]
        }
      ]
    },
    {
      "cell_type": "code",
      "metadata": {
        "id": "_XErW0ZCKfim",
        "outputId": "ccb635bb-155b-4dd2-9251-64c37d15f4b5",
        "colab": {
          "base_uri": "https://localhost:8080/",
          "height": 513
        }
      },
      "source": [
        "ner_log_parser.loss_plot('/content/ner_logs/NerDLApproach_dab0025f4cb0.log')"
      ],
      "execution_count": null,
      "outputs": [
        {
          "output_type": "display_data",
          "data": {
            "image/png": "[encoded data removed]",
            "text/plain": [
              "<Figure size 576x576 with 1 Axes>"
            ]
          },
          "metadata": {
            "needs_background": "light"
          }
        }
      ]
    },
    {
      "cell_type": "markdown",
      "metadata": {
        "id": "WuJ5YZ9sXU13"
      },
      "source": [
        "### Saving the trained model"
      ]
    },
    {
      "cell_type": "code",
      "metadata": {
        "id": "KBcoOwvwXV8p",
        "outputId": "b2e4de84-bd18-46c2-fb91-b76bc4e1efc1",
        "colab": {
          "base_uri": "https://localhost:8080/"
        }
      },
      "source": [
        "ner_model.stages"
      ],
      "execution_count": null,
      "outputs": [
        {
          "output_type": "execute_result",
          "data": {
            "text/plain": [
              "[WORD_EMBEDDINGS_MODEL_9641998d2b4c, NerDLModel_8b05db2e20c1]"
            ]
          },
          "metadata": {},
          "execution_count": 35
        }
      ]
    },
    {
      "cell_type": "code",
      "metadata": {
        "id": "gRLbhTh1XYo2"
      },
      "source": [
        "ner_model.stages[1].write().overwrite().save('NER_glove_e10_b8')"
      ],
      "execution_count": null,
      "outputs": []
    },
    {
      "cell_type": "code",
      "metadata": {
        "id": "k6B_m0HeXhvo",
        "outputId": "6f27d6e8-426b-4eb0-bd72-b888c12e1620",
        "colab": {
          "base_uri": "https://localhost:8080/"
        }
      },
      "source": [
        "!ls -lt"
      ],
      "execution_count": null,
      "outputs": [
        {
          "output_type": "stream",
          "name": "stdout",
          "text": [
            "total 2444\n",
            "drwxr-xr-x 4 root root    4096 Jan 25 14:46 NER_glove_e10_b8\n",
            "drwxr-xr-x 2 root root    4096 Jan 25 14:44 __pycache__\n",
            "-rw-r--r-- 1 root root    3826 Jan 25 14:44 ner_log_parser.py\n",
            "-rw-r--r-- 1 root root    7431 Jan 25 14:44 conll_eval.py\n",
            "drwxr-xr-x 2 root root    4096 Jan 25 14:05 ner_logs\n",
            "drwxr-xr-x 2 root root    4096 Jan 25 14:03 test_data_with_embeddings.parquet\n",
            "-rw-r--r-- 1 root root 2136193 Jan 25 13:29 NCBI_disease_official_train_dev.conll\n",
            "-rw-r--r-- 1 root root  328172 Jan 25 13:29 NCBI_disease_official_test.conll\n",
            "drwxr-xr-x 1 root root    4096 Jan  7 14:33 sample_data\n"
          ]
        }
      ]
    },
    {
      "cell_type": "markdown",
      "metadata": {
        "id": "gK0rbohHRNmG"
      },
      "source": [
        "## Prediction Pipeline"
      ]
    },
    {
      "cell_type": "code",
      "metadata": {
        "id": "XCLEQcCeQ8pn",
        "outputId": "81581d61-6600-4c52-d2c8-bc5edfcc68af",
        "colab": {
          "base_uri": "https://localhost:8080/"
        }
      },
      "source": [
        "document = DocumentAssembler()\\\n",
        "        .setInputCol(\"text\")\\\n",
        "        .setOutputCol(\"document\")\n",
        "\n",
        "sentence = SentenceDetector()\\\n",
        "        .setInputCols(['document'])\\\n",
        "        .setOutputCol('sentence')\n",
        "\n",
        "token = Tokenizer()\\\n",
        "        .setInputCols(['sentence'])\\\n",
        "        .setOutputCol('token')\n",
        "\n",
        "glove_embeddings = WordEmbeddingsModel.pretrained('glove_6B_300','xx')\\\n",
        "        .setInputCols([\"sentence\", \"token\"])\\\n",
        "        .setOutputCol(\"embeddings\")\n",
        "  \n",
        "loaded_ner_model = NerDLModel.load(\"NER_glove_e10_b8\")\\\n",
        "        .setInputCols([\"sentence\", \"token\", \"embeddings\"])\\\n",
        "        .setOutputCol(\"ner\")\n",
        "\n",
        "converter = NerConverter()\\\n",
        "        .setInputCols([\"sentence\", \"token\", \"ner\"])\\\n",
        "        .setOutputCol(\"ner_span\")\n",
        "\n",
        "ner_prediction_pipeline = Pipeline(stages = [\n",
        "        document,\n",
        "        sentence,\n",
        "        token,\n",
        "        glove_embeddings,\n",
        "        loaded_ner_model,\n",
        "        converter\n",
        "])"
      ],
      "execution_count": null,
      "outputs": [
        {
          "output_type": "stream",
          "name": "stdout",
          "text": [
            "glove_6B_300 download started this may take some time.\n",
            "Approximate size to download 426.2 MB\n",
            "[OK!]\n"
          ]
        }
      ]
    },
    {
      "cell_type": "code",
      "metadata": {
        "id": "gsokdubdX1vE"
      },
      "source": [
        "empty_data = spark.createDataFrame([['']]).toDF(\"text\")\n",
        "\n",
        "prediction_model = ner_prediction_pipeline.fit(empty_data)\n"
      ],
      "execution_count": null,
      "outputs": []
    },
    {
      "cell_type": "code",
      "metadata": {
        "id": "rR8b0tQlX7E8",
        "outputId": "bd515596-8ce2-4122-9d5e-b94899e4a060",
        "colab": {
          "base_uri": "https://localhost:8080/"
        }
      },
      "source": [
        "text = '''\n",
        "A 28-year-old female with a history of gestational diabetes mellitus diagnosed eight years prior to presentation and subsequent type two diabetes mellitus ( T2DM ), one prior episode of HTG-induced pancreatitis three years prior to presentation , associated with an acute hepatitis , and obesity with a body mass index ( BMI ) of 33.5 kg/m2 , presented with a one-week history of polyuria , polydipsia , poor appetite , and vomiting .\n",
        "'''\n",
        "\n",
        "sample_data = spark.createDataFrame([[text]]).toDF(\"text\")\n",
        "\n",
        "sample_data.show(truncate=100)"
      ],
      "execution_count": null,
      "outputs": [
        {
          "output_type": "stream",
          "name": "stdout",
          "text": [
            "+----------------------------------------------------------------------------------------------------+\n",
            "|                                                                                                text|\n",
            "+----------------------------------------------------------------------------------------------------+\n",
            "|\n",
            "A 28-year-old female with a history of gestational diabetes mellitus diagnosed eight years prior...|\n",
            "+----------------------------------------------------------------------------------------------------+\n",
            "\n"
          ]
        }
      ]
    },
    {
      "cell_type": "code",
      "metadata": {
        "id": "WdeKg30uX_rk",
        "outputId": "35d9e8de-f627-43e1-9658-269143b82f7b",
        "colab": {
          "base_uri": "https://localhost:8080/"
        }
      },
      "source": [
        "preds = prediction_model.transform(sample_data)\n",
        "\n",
        "preds.select(F.explode(F.arrays_zip(\"ner_span.result\",\"ner_span.metadata\")).alias(\"entities\")) \\\n",
        ".select(F.expr(\"entities['0']\").alias(\"chunk\"),\n",
        "        F.expr(\"entities['1'].entity\").alias(\"entity\")).show(truncate=False)"
      ],
      "execution_count": null,
      "outputs": [
        {
          "output_type": "stream",
          "name": "stdout",
          "text": [
            "+-----------------------------+-------+\n",
            "|chunk                        |entity |\n",
            "+-----------------------------+-------+\n",
            "|gestational diabetes mellitus|Disease|\n",
            "|diabetes mellitus            |Disease|\n",
            "|T2DM ),                      |Disease|\n",
            "|HTG-induced pancreatitis     |Disease|\n",
            "|acute hepatitis              |Disease|\n",
            "|obesity                      |Disease|\n",
            "|BMI                          |Disease|\n",
            "|polyuria                     |Disease|\n",
            "|polydipsia                   |Disease|\n",
            "|vomiting                     |Disease|\n",
            "+-----------------------------+-------+\n",
            "\n"
          ]
        }
      ]
    },
    {
      "cell_type": "code",
      "metadata": {
        "id": "UG6eBHQZYIhb"
      },
      "source": [
        "from sparknlp.base import LightPipeline\n",
        "\n",
        "light_model = LightPipeline(prediction_model)"
      ],
      "execution_count": null,
      "outputs": []
    },
    {
      "cell_type": "code",
      "metadata": {
        "id": "7Hr5gtKbYLOW",
        "outputId": "2b711ddf-332c-44c6-e6af-02c262046e9a",
        "colab": {
          "base_uri": "https://localhost:8080/"
        }
      },
      "source": [
        "result = light_model.annotate(text)\n",
        "\n",
        "list(zip(result['token'], result['ner']))"
      ],
      "execution_count": null,
      "outputs": [
        {
          "output_type": "execute_result",
          "data": {
            "text/plain": [
              "[('A', 'O'),\n",
              " ('28-year-old', 'O'),\n",
              " ('female', 'O'),\n",
              " ('with', 'O'),\n",
              " ('a', 'O'),\n",
              " ('history', 'O'),\n",
              " ('of', 'O'),\n",
              " ('gestational', 'B-Disease'),\n",
              " ('diabetes', 'I-Disease'),\n",
              " ('mellitus', 'I-Disease'),\n",
              " ('diagnosed', 'O'),\n",
              " ('eight', 'O'),\n",
              " ('years', 'O'),\n",
              " ('prior', 'O'),\n",
              " ('to', 'O'),\n",
              " ('presentation', 'O'),\n",
              " ('and', 'O'),\n",
              " ('subsequent', 'O'),\n",
              " ('type', 'O'),\n",
              " ('two', 'O'),\n",
              " ('diabetes', 'B-Disease'),\n",
              " ('mellitus', 'I-Disease'),\n",
              " ('(', 'O'),\n",
              " ('T2DM', 'B-Disease'),\n",
              " ('),', 'I-Disease'),\n",
              " ('one', 'O'),\n",
              " ('prior', 'O'),\n",
              " ('episode', 'O'),\n",
              " ('of', 'O'),\n",
              " ('HTG-induced', 'B-Disease'),\n",
              " ('pancreatitis', 'I-Disease'),\n",
              " ('three', 'O'),\n",
              " ('years', 'O'),\n",
              " ('prior', 'O'),\n",
              " ('to', 'O'),\n",
              " ('presentation', 'O'),\n",
              " (',', 'O'),\n",
              " ('associated', 'O'),\n",
              " ('with', 'O'),\n",
              " ('an', 'O'),\n",
              " ('acute', 'B-Disease'),\n",
              " ('hepatitis', 'I-Disease'),\n",
              " (',', 'O'),\n",
              " ('and', 'O'),\n",
              " ('obesity', 'B-Disease'),\n",
              " ('with', 'O'),\n",
              " ('a', 'O'),\n",
              " ('body', 'O'),\n",
              " ('mass', 'O'),\n",
              " ('index', 'O'),\n",
              " ('(', 'O'),\n",
              " ('BMI', 'B-Disease'),\n",
              " (')', 'O'),\n",
              " ('of', 'O'),\n",
              " ('33.5', 'O'),\n",
              " ('kg/m2', 'O'),\n",
              " (',', 'O'),\n",
              " ('presented', 'O'),\n",
              " ('with', 'O'),\n",
              " ('a', 'O'),\n",
              " ('one-week', 'O'),\n",
              " ('history', 'O'),\n",
              " ('of', 'O'),\n",
              " ('polyuria', 'B-Disease'),\n",
              " (',', 'O'),\n",
              " ('polydipsia', 'B-Disease'),\n",
              " (',', 'O'),\n",
              " ('poor', 'O'),\n",
              " ('appetite', 'O'),\n",
              " (',', 'O'),\n",
              " ('and', 'O'),\n",
              " ('vomiting', 'B-Disease'),\n",
              " ('.', 'O')]"
            ]
          },
          "metadata": {},
          "execution_count": 43
        }
      ]
    },
    {
      "cell_type": "code",
      "metadata": {
        "id": "OO4xKzhIZEDc",
        "outputId": "69be1b69-822f-4716-fff7-09f5beb6864a",
        "colab": {
          "base_uri": "https://localhost:8080/",
          "height": 676
        }
      },
      "source": [
        "import pandas as pd\n",
        "\n",
        "result = light_model.fullAnnotate(text)\n",
        "\n",
        "ner_df= pd.DataFrame([(int(x.metadata['sentence']), x.result, x.begin, x.end, y.result) for x,y in zip(result[0][\"token\"], result[0][\"ner\"])], \n",
        "                      columns=['sent_id','token','start','end','ner'])\n",
        "ner_df.head(20)"
      ],
      "execution_count": null,
      "outputs": [
        {
          "output_type": "execute_result",
          "data": {
            "text/html": [
              "\n",
              "  <div id=\"df-cb90d7fc-3789-4337-a0c2-5dfee2cb2289\">\n",
              "    <div class=\"colab-df-container\">\n",
              "      <div>\n",
              "<style scoped>\n",
              "    .dataframe tbody tr th:only-of-type {\n",
              "        vertical-align: middle;\n",
              "    }\n",
              "\n",
              "    .dataframe tbody tr th {\n",
              "        vertical-align: top;\n",
              "    }\n",
              "\n",
              "    .dataframe thead th {\n",
              "        text-align: right;\n",
              "    }\n",
              "</style>\n",
              "<table border=\"1\" class=\"dataframe\">\n",
              "  <thead>\n",
              "    <tr style=\"text-align: right;\">\n",
              "      <th></th>\n",
              "      <th>sent_id</th>\n",
              "      <th>token</th>\n",
              "      <th>start</th>\n",
              "      <th>end</th>\n",
              "      <th>ner</th>\n",
              "    </tr>\n",
              "  </thead>\n",
              "  <tbody>\n",
              "    <tr>\n",
              "      <th>0</th>\n",
              "      <td>0</td>\n",
              "      <td>A</td>\n",
              "      <td>1</td>\n",
              "      <td>1</td>\n",
              "      <td>O</td>\n",
              "    </tr>\n",
              "    <tr>\n",
              "      <th>1</th>\n",
              "      <td>0</td>\n",
              "      <td>28-year-old</td>\n",
              "      <td>3</td>\n",
              "      <td>13</td>\n",
              "      <td>O</td>\n",
              "    </tr>\n",
              "    <tr>\n",
              "      <th>2</th>\n",
              "      <td>0</td>\n",
              "      <td>female</td>\n",
              "      <td>15</td>\n",
              "      <td>20</td>\n",
              "      <td>O</td>\n",
              "    </tr>\n",
              "    <tr>\n",
              "      <th>3</th>\n",
              "      <td>0</td>\n",
              "      <td>with</td>\n",
              "      <td>22</td>\n",
              "      <td>25</td>\n",
              "      <td>O</td>\n",
              "    </tr>\n",
              "    <tr>\n",
              "      <th>4</th>\n",
              "      <td>0</td>\n",
              "      <td>a</td>\n",
              "      <td>27</td>\n",
              "      <td>27</td>\n",
              "      <td>O</td>\n",
              "    </tr>\n",
              "    <tr>\n",
              "      <th>5</th>\n",
              "      <td>0</td>\n",
              "      <td>history</td>\n",
              "      <td>29</td>\n",
              "      <td>35</td>\n",
              "      <td>O</td>\n",
              "    </tr>\n",
              "    <tr>\n",
              "      <th>6</th>\n",
              "      <td>0</td>\n",
              "      <td>of</td>\n",
              "      <td>37</td>\n",
              "      <td>38</td>\n",
              "      <td>O</td>\n",
              "    </tr>\n",
              "    <tr>\n",
              "      <th>7</th>\n",
              "      <td>0</td>\n",
              "      <td>gestational</td>\n",
              "      <td>40</td>\n",
              "      <td>50</td>\n",
              "      <td>B-Disease</td>\n",
              "    </tr>\n",
              "    <tr>\n",
              "      <th>8</th>\n",
              "      <td>0</td>\n",
              "      <td>diabetes</td>\n",
              "      <td>52</td>\n",
              "      <td>59</td>\n",
              "      <td>I-Disease</td>\n",
              "    </tr>\n",
              "    <tr>\n",
              "      <th>9</th>\n",
              "      <td>0</td>\n",
              "      <td>mellitus</td>\n",
              "      <td>61</td>\n",
              "      <td>68</td>\n",
              "      <td>I-Disease</td>\n",
              "    </tr>\n",
              "    <tr>\n",
              "      <th>10</th>\n",
              "      <td>0</td>\n",
              "      <td>diagnosed</td>\n",
              "      <td>70</td>\n",
              "      <td>78</td>\n",
              "      <td>O</td>\n",
              "    </tr>\n",
              "    <tr>\n",
              "      <th>11</th>\n",
              "      <td>0</td>\n",
              "      <td>eight</td>\n",
              "      <td>80</td>\n",
              "      <td>84</td>\n",
              "      <td>O</td>\n",
              "    </tr>\n",
              "    <tr>\n",
              "      <th>12</th>\n",
              "      <td>0</td>\n",
              "      <td>years</td>\n",
              "      <td>86</td>\n",
              "      <td>90</td>\n",
              "      <td>O</td>\n",
              "    </tr>\n",
              "    <tr>\n",
              "      <th>13</th>\n",
              "      <td>0</td>\n",
              "      <td>prior</td>\n",
              "      <td>92</td>\n",
              "      <td>96</td>\n",
              "      <td>O</td>\n",
              "    </tr>\n",
              "    <tr>\n",
              "      <th>14</th>\n",
              "      <td>0</td>\n",
              "      <td>to</td>\n",
              "      <td>98</td>\n",
              "      <td>99</td>\n",
              "      <td>O</td>\n",
              "    </tr>\n",
              "    <tr>\n",
              "      <th>15</th>\n",
              "      <td>0</td>\n",
              "      <td>presentation</td>\n",
              "      <td>101</td>\n",
              "      <td>112</td>\n",
              "      <td>O</td>\n",
              "    </tr>\n",
              "    <tr>\n",
              "      <th>16</th>\n",
              "      <td>0</td>\n",
              "      <td>and</td>\n",
              "      <td>114</td>\n",
              "      <td>116</td>\n",
              "      <td>O</td>\n",
              "    </tr>\n",
              "    <tr>\n",
              "      <th>17</th>\n",
              "      <td>0</td>\n",
              "      <td>subsequent</td>\n",
              "      <td>118</td>\n",
              "      <td>127</td>\n",
              "      <td>O</td>\n",
              "    </tr>\n",
              "    <tr>\n",
              "      <th>18</th>\n",
              "      <td>0</td>\n",
              "      <td>type</td>\n",
              "      <td>129</td>\n",
              "      <td>132</td>\n",
              "      <td>O</td>\n",
              "    </tr>\n",
              "    <tr>\n",
              "      <th>19</th>\n",
              "      <td>0</td>\n",
              "      <td>two</td>\n",
              "      <td>134</td>\n",
              "      <td>136</td>\n",
              "      <td>O</td>\n",
              "    </tr>\n",
              "  </tbody>\n",
              "</table>\n",
              "</div>\n",
              "      <button class=\"colab-df-convert\" onclick=\"convertToInteractive('df-cb90d7fc-3789-4337-a0c2-5dfee2cb2289')\"\n",
              "              title=\"Convert this dataframe to an interactive table.\"\n",
              "              style=\"display:none;\">\n",
              "        \n",
              "  <svg xmlns=\"http://www.w3.org/2000/svg\" height=\"24px\"viewBox=\"0 0 24 24\"\n",
              "       width=\"24px\">\n",
              "    <path d=\"M0 0h24v24H0V0z\" fill=\"none\"/>\n",
              "    <path d=\"M18.56 5.44l.94 2.06.94-2.06 2.06-.94-2.06-.94-.94-2.06-.94 2.06-2.06.94zm-11 1L8.5 8.5l.94-2.06 2.06-.94-2.06-.94L8.5 2.5l-.94 2.06-2.06.94zm10 10l.94 2.06.94-2.06 2.06-.94-2.06-.94-.94-2.06-.94 2.06-2.06.94z\"/><path d=\"M17.41 7.96l-1.37-1.37c-.4-.4-.92-.59-1.43-.59-.52 0-1.04.2-1.43.59L10.3 9.45l-7.72 7.72c-.78.78-.78 2.05 0 2.83L4 21.41c.39.39.9.59 1.41.59.51 0 1.02-.2 1.41-.59l7.78-7.78 2.81-2.81c.8-.78.8-2.07 0-2.86zM5.41 20L4 18.59l7.72-7.72 1.47 1.35L5.41 20z\"/>\n",
              "  </svg>\n",
              "      </button>\n",
              "      \n",
              "  <style>\n",
              "    .colab-df-container {\n",
              "      display:flex;\n",
              "      flex-wrap:wrap;\n",
              "      gap: 12px;\n",
              "    }\n",
              "\n",
              "    .colab-df-convert {\n",
              "      background-color: #E8F0FE;\n",
              "      border: none;\n",
              "      border-radius: 50%;\n",
              "      cursor: pointer;\n",
              "      display: none;\n",
              "      fill: #1967D2;\n",
              "      height: 32px;\n",
              "      padding: 0 0 0 0;\n",
              "      width: 32px;\n",
              "    }\n",
              "\n",
              "    .colab-df-convert:hover {\n",
              "      background-color: #E2EBFA;\n",
              "      box-shadow: 0px 1px 2px rgba(60, 64, 67, 0.3), 0px 1px 3px 1px rgba(60, 64, 67, 0.15);\n",
              "      fill: #174EA6;\n",
              "    }\n",
              "\n",
              "    [theme=dark] .colab-df-convert {\n",
              "      background-color: #3B4455;\n",
              "      fill: #D2E3FC;\n",
              "    }\n",
              "\n",
              "    [theme=dark] .colab-df-convert:hover {\n",
              "      background-color: #434B5C;\n",
              "      box-shadow: 0px 1px 3px 1px rgba(0, 0, 0, 0.15);\n",
              "      filter: drop-shadow(0px 1px 2px rgba(0, 0, 0, 0.3));\n",
              "      fill: #FFFFFF;\n",
              "    }\n",
              "  </style>\n",
              "\n",
              "      <script>\n",
              "        const buttonEl =\n",
              "          document.querySelector('#df-cb90d7fc-3789-4337-a0c2-5dfee2cb2289 button.colab-df-convert');\n",
              "        buttonEl.style.display =\n",
              "          google.colab.kernel.accessAllowed ? 'block' : 'none';\n",
              "\n",
              "        async function convertToInteractive(key) {\n",
              "          const element = document.querySelector('#df-cb90d7fc-3789-4337-a0c2-5dfee2cb2289');\n",
              "          const dataTable =\n",
              "            await google.colab.kernel.invokeFunction('convertToInteractive',\n",
              "                                                     [key], {});\n",
              "          if (!dataTable) return;\n",
              "\n",
              "          const docLinkHtml = 'Like what you see? Visit the ' +\n",
              "            '<a target=\"_blank\" href=https://colab.research.google.com/notebooks/data_table.ipynb>data table notebook</a>'\n",
              "            + ' to learn more about interactive tables.';\n",
              "          element.innerHTML = '';\n",
              "          dataTable['output_type'] = 'display_data';\n",
              "          await google.colab.output.renderOutput(dataTable, element);\n",
              "          const docLink = document.createElement('div');\n",
              "          docLink.innerHTML = docLinkHtml;\n",
              "          element.appendChild(docLink);\n",
              "        }\n",
              "      </script>\n",
              "    </div>\n",
              "  </div>\n",
              "  "
            ],
            "text/plain": [
              "    sent_id         token  start  end        ner\n",
              "0         0             A      1    1          O\n",
              "1         0   28-year-old      3   13          O\n",
              "2         0        female     15   20          O\n",
              "3         0          with     22   25          O\n",
              "4         0             a     27   27          O\n",
              "5         0       history     29   35          O\n",
              "6         0            of     37   38          O\n",
              "7         0   gestational     40   50  B-Disease\n",
              "8         0      diabetes     52   59  I-Disease\n",
              "9         0      mellitus     61   68  I-Disease\n",
              "10        0     diagnosed     70   78          O\n",
              "11        0         eight     80   84          O\n",
              "12        0         years     86   90          O\n",
              "13        0         prior     92   96          O\n",
              "14        0            to     98   99          O\n",
              "15        0  presentation    101  112          O\n",
              "16        0           and    114  116          O\n",
              "17        0    subsequent    118  127          O\n",
              "18        0          type    129  132          O\n",
              "19        0           two    134  136          O"
            ]
          },
          "metadata": {},
          "execution_count": 44
        }
      ]
    },
    {
      "cell_type": "markdown",
      "metadata": {
        "id": "xAdLlcMjejMm"
      },
      "source": [
        "### Highlight Entities"
      ]
    },
    {
      "cell_type": "code",
      "metadata": {
        "id": "e7VHgpjX-h3-",
        "outputId": "84415999-a3de-45e9-e8b8-a88ed6f5710c",
        "colab": {
          "base_uri": "https://localhost:8080/"
        }
      },
      "source": [
        "ann_text = light_model.fullAnnotate(text)[0]\n",
        "ann_text.keys()"
      ],
      "execution_count": null,
      "outputs": [
        {
          "output_type": "execute_result",
          "data": {
            "text/plain": [
              "dict_keys(['document', 'ner_span', 'token', 'ner', 'embeddings', 'sentence'])"
            ]
          },
          "metadata": {},
          "execution_count": 45
        }
      ]
    },
    {
      "cell_type": "code",
      "metadata": {
        "id": "hBsoIxMc-k7z",
        "outputId": "8920b3d4-fdf2-476c-edf3-c36753ac6cb7",
        "colab": {
          "base_uri": "https://localhost:8080/",
          "height": 342
        }
      },
      "source": [
        "from sparknlp_display import NerVisualizer\n",
        "\n",
        "visualiser = NerVisualizer()\n",
        "print ('Standard Output')\n",
        "visualiser.display(ann_text, label_col='ner_span', document_col='document')\n"
      ],
      "execution_count": null,
      "outputs": [
        {
          "output_type": "stream",
          "name": "stdout",
          "text": [
            "Standard Output\n"
          ]
        },
        {
          "output_type": "display_data",
          "data": {
            "text/html": [
              "\n",
              "<style>\n",
              "    @import url('https://fonts.googleapis.com/css2?family=Montserrat:wght@300;400;500;600;700&display=swap');\n",
              "    @import url('https://fonts.googleapis.com/css2?family=Vistol Regular:wght@300;400;500;600;700&display=swap');\n",
              "    \n",
              "    .spark-nlp-display-scroll-entities {\n",
              "        border: 1px solid #E7EDF0;\n",
              "        border-radius: 3px;\n",
              "        text-align: justify;\n",
              "        \n",
              "    }\n",
              "    .spark-nlp-display-scroll-entities span {  \n",
              "        font-size: 14px;\n",
              "        line-height: 24px;\n",
              "        color: #536B76;\n",
              "        font-family: 'Montserrat', sans-serif !important;\n",
              "    }\n",
              "    \n",
              "    .spark-nlp-display-entity-wrapper{\n",
              "    \n",
              "        display: inline-grid;\n",
              "        text-align: center;\n",
              "        border-radius: 4px;\n",
              "        margin: 0 2px 5px 2px;\n",
              "        padding: 1px\n",
              "    }\n",
              "    .spark-nlp-display-entity-name{\n",
              "        font-size: 14px;\n",
              "        line-height: 24px;\n",
              "        font-family: 'Montserrat', sans-serif !important;\n",
              "        \n",
              "        background: #f1f2f3;\n",
              "        border-width: medium;\n",
              "        text-align: center;\n",
              "        \n",
              "        font-weight: 400;\n",
              "        \n",
              "        border-radius: 5px;\n",
              "        padding: 2px 5px;\n",
              "        display: block;\n",
              "        margin: 3px 2px;\n",
              "    \n",
              "    }\n",
              "    .spark-nlp-display-entity-type{\n",
              "        font-size: 14px;\n",
              "        line-height: 24px;\n",
              "        color: #ffffff;\n",
              "        font-family: 'Montserrat', sans-serif !important;\n",
              "        \n",
              "        text-transform: uppercase;\n",
              "        \n",
              "        font-weight: 500;\n",
              "\n",
              "        display: block;\n",
              "        padding: 3px 5px;\n",
              "    }\n",
              "    \n",
              "    .spark-nlp-display-entity-resolution{\n",
              "        font-size: 14px;\n",
              "        line-height: 24px;\n",
              "        color: #ffffff;\n",
              "        font-family: 'Vistol Regular', sans-serif !important;\n",
              "        \n",
              "        text-transform: uppercase;\n",
              "        \n",
              "        font-weight: 500;\n",
              "\n",
              "        display: block;\n",
              "        padding: 3px 5px;\n",
              "    }\n",
              "    \n",
              "    .spark-nlp-display-others{\n",
              "        font-size: 14px;\n",
              "        line-height: 24px;\n",
              "        font-family: 'Montserrat', sans-serif !important;\n",
              "        \n",
              "        font-weight: 400;\n",
              "    }\n",
              "\n",
              "</style>\n",
              " <span class=\"spark-nlp-display-others\" style=\"background-color: white\"><br>A 28-year-old female with a history of </span><span class=\"spark-nlp-display-entity-wrapper\" style=\"background-color: #C43B0A\"><span class=\"spark-nlp-display-entity-name\">gestational diabetes mellitus </span><span class=\"spark-nlp-display-entity-type\">Disease</span></span><span class=\"spark-nlp-display-others\" style=\"background-color: white\"> diagnosed eight years prior to presentation and subsequent type two </span><span class=\"spark-nlp-display-entity-wrapper\" style=\"background-color: #C43B0A\"><span class=\"spark-nlp-display-entity-name\">diabetes mellitus </span><span class=\"spark-nlp-display-entity-type\">Disease</span></span><span class=\"spark-nlp-display-others\" style=\"background-color: white\"> ( </span><span class=\"spark-nlp-display-entity-wrapper\" style=\"background-color: #C43B0A\"><span class=\"spark-nlp-display-entity-name\">T2DM ), </span><span class=\"spark-nlp-display-entity-type\">Disease</span></span><span class=\"spark-nlp-display-others\" style=\"background-color: white\"> one prior episode of </span><span class=\"spark-nlp-display-entity-wrapper\" style=\"background-color: #C43B0A\"><span class=\"spark-nlp-display-entity-name\">HTG-induced pancreatitis </span><span class=\"spark-nlp-display-entity-type\">Disease</span></span><span class=\"spark-nlp-display-others\" style=\"background-color: white\"> three years prior to presentation , associated with an </span><span class=\"spark-nlp-display-entity-wrapper\" style=\"background-color: #C43B0A\"><span class=\"spark-nlp-display-entity-name\">acute hepatitis </span><span class=\"spark-nlp-display-entity-type\">Disease</span></span><span class=\"spark-nlp-display-others\" style=\"background-color: white\"> , and </span><span class=\"spark-nlp-display-entity-wrapper\" style=\"background-color: #C43B0A\"><span class=\"spark-nlp-display-entity-name\">obesity </span><span class=\"spark-nlp-display-entity-type\">Disease</span></span><span class=\"spark-nlp-display-others\" style=\"background-color: white\"> with a body mass index ( </span><span class=\"spark-nlp-display-entity-wrapper\" style=\"background-color: #C43B0A\"><span class=\"spark-nlp-display-entity-name\">BMI </span><span class=\"spark-nlp-display-entity-type\">Disease</span></span><span class=\"spark-nlp-display-others\" style=\"background-color: white\"> ) of 33.5 kg/m2 , presented with a one-week history of </span><span class=\"spark-nlp-display-entity-wrapper\" style=\"background-color: #C43B0A\"><span class=\"spark-nlp-display-entity-name\">polyuria </span><span class=\"spark-nlp-display-entity-type\">Disease</span></span><span class=\"spark-nlp-display-others\" style=\"background-color: white\"> , </span><span class=\"spark-nlp-display-entity-wrapper\" style=\"background-color: #C43B0A\"><span class=\"spark-nlp-display-entity-name\">polydipsia </span><span class=\"spark-nlp-display-entity-type\">Disease</span></span><span class=\"spark-nlp-display-others\" style=\"background-color: white\"> , poor appetite , and </span><span class=\"spark-nlp-display-entity-wrapper\" style=\"background-color: #C43B0A\"><span class=\"spark-nlp-display-entity-name\">vomiting </span><span class=\"spark-nlp-display-entity-type\">Disease</span></span><span class=\"spark-nlp-display-others\" style=\"background-color: white\"> .<br></span></div>"
            ],
            "text/plain": [
              "<IPython.core.display.HTML object>"
            ]
          },
          "metadata": {}
        }
      ]
    }
  ]
}
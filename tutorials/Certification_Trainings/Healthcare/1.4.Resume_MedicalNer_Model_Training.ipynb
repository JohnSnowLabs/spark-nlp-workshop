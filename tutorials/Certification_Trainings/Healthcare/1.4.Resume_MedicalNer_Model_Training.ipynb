{
  "nbformat": 4,
  "nbformat_minor": 0,
  "metadata": {
    "colab": {
      "name": "1.5.Resume_MedicalNer_Model_Training.ipynb",
      "provenance": [],
      "collapsed_sections": []
    },
    "kernelspec": {
      "display_name": "Python 3",
      "language": "python",
      "name": "python3"
    },
    "language_info": {
      "codemirror_mode": {
        "name": "ipython",
        "version": 3
      },
      "file_extension": ".py",
      "mimetype": "text/x-python",
      "name": "python",
      "nbconvert_exporter": "python",
      "pygments_lexer": "ipython3",
      "version": "3.7.6"
    },
    "accelerator": "GPU"
  },
  "cells": [
    {
      "cell_type": "markdown",
      "metadata": {
        "id": "I08sFJYCxR0Z"
      },
      "source": [
        "![JohnSnowLabs](https://nlp.johnsnowlabs.com/assets/images/logo.png)"
      ]
    },
    {
      "cell_type": "markdown",
      "metadata": {
        "id": "FwJ-P56kq6FU"
      },
      "source": [
        "[![Open In Colab](https://colab.research.google.com/assets/colab-badge.svg)](https://colab.research.google.com/github/JohnSnowLabs/spark-nlp-workshop/blob/master/tutorials/Certification_Trainings/Healthcare/1.5.Resume_MedicalNer_Model_Training.ipynb)"
      ]
    },
    {
      "cell_type": "markdown",
      "metadata": {
        "id": "7ztGkR5mb6zN"
      },
      "source": [
        "# 1.5 Resume MedicalNer Model Training\n",
        "\n",
        "Steps:\n",
        "- Train a new model for a few epochs.\n",
        "- Load the same model and train for more epochs on the same taxnonomy, and check stats.\n",
        "- Train a model already trained on a different data"
      ]
    },
    {
      "cell_type": "markdown",
      "metadata": {
        "id": "-68NMdHxJIco"
      },
      "source": [
        "## Colab Setup"
      ]
    },
    {
      "cell_type": "code",
      "metadata": {
        "id": "h9Mn1PNTNJTq"
      },
      "source": [
        "import json\n",
        "\n",
        "from google.colab import files\n",
        "\n",
        "license_keys = files.upload()\n",
        "\n",
        "with open(list(license_keys.keys())[0]) as f:\n",
        "    license_keys = json.load(f)\n",
        "\n",
        "# Defining license key-value pairs as local variables\n",
        "locals().update(license_keys)\n",
        "\n",
        "# Adding license key-value pairs to environment variables\n",
        "import os\n",
        "os.environ.update(license_keys)"
      ],
      "execution_count": null,
      "outputs": []
    },
    {
      "cell_type": "code",
      "metadata": {
        "id": "yvHraBK7b-LU"
      },
      "source": [
        "# Installing pyspark and spark-nlp\n",
        "! pip install --upgrade -q pyspark==3.1.2 spark-nlp==$PUBLIC_VERSION\n",
        "\n",
        "# Installing Spark NLP Healthcare\n",
        "! pip install --upgrade -q spark-nlp-jsl==$JSL_VERSION  --extra-index-url https://pypi.johnsnowlabs.com/$SECRET\n",
        "\n",
        "# Installing Spark NLP Display Library for visualization\n",
        "! pip install -q spark-nlp-display"
      ],
      "execution_count": null,
      "outputs": []
    },
    {
      "cell_type": "code",
      "metadata": {
        "id": "wIp1yLCWNWsn"
      },
      "source": [
        "# if you want to start the session with custom params as in start function above\n",
        "from pyspark.sql import SparkSession\n",
        "\n",
        "def start(SECRET):\n",
        "    builder = SparkSession.builder \\\n",
        "        .appName(\"Spark NLP Licensed\") \\\n",
        "        .master(\"local[*]\") \\\n",
        "        .config(\"spark.driver.memory\", \"16G\") \\\n",
        "        .config(\"spark.serializer\", \"org.apache.spark.serializer.KryoSerializer\") \\\n",
        "        .config(\"spark.kryoserializer.buffer.max\", \"2000M\") \\\n",
        "        .config(\"spark.jars.packages\", \"com.johnsnowlabs.nlp:spark-nlp_2.12:\"+PUBLIC_VERSION) \\\n",
        "        .config(\"spark.jars\", \"https://pypi.johnsnowlabs.com/\"+SECRET+\"/spark-nlp-jsl-\"+JSL_VERSION+\".jar\")\n",
        "      \n",
        "    return builder.getOrCreate()\n",
        "\n",
        "#spark = start(SECRET)"
      ],
      "execution_count": null,
      "outputs": []
    },
    {
      "cell_type": "code",
      "metadata": {
        "colab": {
          "base_uri": "https://localhost:8080/",
          "height": 254
        },
        "id": "1t5Kp93GcH7z",
        "outputId": "002a68c7-ab61-4e8b-be4f-adb77230fba0"
      },
      "source": [
        "import json\n",
        "import os\n",
        "from pyspark.ml import Pipeline,PipelineModel\n",
        "from pyspark.sql import SparkSession\n",
        "\n",
        "from sparknlp.annotator import *\n",
        "from sparknlp_jsl.annotator import *\n",
        "from sparknlp.base import *\n",
        "import sparknlp_jsl\n",
        "import sparknlp\n",
        "\n",
        "import warnings\n",
        "warnings.filterwarnings('ignore')\n",
        "\n",
        "params = {\"spark.driver.memory\":\"16G\", # Amount of memory to use for the driver process, i.e. where SparkContext is initialized\n",
        "          \"spark.kryoserializer.buffer.max\":\"2000M\", # Maximum allowable size of Kryo serialization buffer, in MiB unless otherwise specified. \n",
        "          \"spark.driver.maxResultSize\":\"2000M\"} # Limit of total size of serialized results of all partitions for each Spark action (e.g. collect) in bytes. \n",
        "                                                # Should be at least 1M, or 0 for unlimited. \n",
        "\n",
        "spark = sparknlp_jsl.start(license_keys['SECRET'],params=params)\n",
        "\n",
        "print (\"Spark NLP Version :\", sparknlp.version())\n",
        "print (\"Spark NLP_JSL Version :\", sparknlp_jsl.version())\n",
        "\n",
        "spark"
      ],
      "execution_count": null,
      "outputs": [
        {
          "output_type": "stream",
          "name": "stdout",
          "text": [
            "Spark NLP Version : 3.4.0\n",
            "Spark NLP_JSL Version : 3.4.0\n"
          ]
        },
        {
          "output_type": "execute_result",
          "data": {
            "text/html": [
              "\n",
              "            <div>\n",
              "                <p><b>SparkSession - in-memory</b></p>\n",
              "                \n",
              "        <div>\n",
              "            <p><b>SparkContext</b></p>\n",
              "\n",
              "            <p><a href=\"http://91f7d35b95c2:4040\">Spark UI</a></p>\n",
              "\n",
              "            <dl>\n",
              "              <dt>Version</dt>\n",
              "                <dd><code>v3.1.2</code></dd>\n",
              "              <dt>Master</dt>\n",
              "                <dd><code>local[*]</code></dd>\n",
              "              <dt>AppName</dt>\n",
              "                <dd><code>Spark NLP Licensed</code></dd>\n",
              "            </dl>\n",
              "        </div>\n",
              "        \n",
              "            </div>\n",
              "        "
            ],
            "text/plain": [
              "<pyspark.sql.session.SparkSession at 0x7f0153933750>"
            ]
          },
          "metadata": {},
          "execution_count": 5
        }
      ]
    },
    {
      "cell_type": "markdown",
      "metadata": {
        "id": "PeWhvSsHRXsf"
      },
      "source": [
        "## Download Clinical Word Embeddings for training"
      ]
    },
    {
      "cell_type": "code",
      "metadata": {
        "colab": {
          "base_uri": "https://localhost:8080/"
        },
        "id": "Ua5dHNeyRWQc",
        "outputId": "8eff15ec-b66d-4d68-e9a9-00fa5368d2b7"
      },
      "source": [
        "clinical_embeddings = WordEmbeddingsModel.pretrained('embeddings_clinical', \"en\", \"clinical/models\")\\\n",
        "    .setInputCols([\"sentence\", \"token\"])\\\n",
        "    .setOutputCol(\"embeddings\")"
      ],
      "execution_count": null,
      "outputs": [
        {
          "output_type": "stream",
          "name": "stdout",
          "text": [
            "embeddings_clinical download started this may take some time.\n",
            "Approximate size to download 1.6 GB\n",
            "[OK!]\n"
          ]
        }
      ]
    },
    {
      "cell_type": "markdown",
      "metadata": {
        "id": "bfT1AaKvOG4J"
      },
      "source": [
        "## Download Data for Training (NCBI Disease Dataset)"
      ]
    },
    {
      "cell_type": "code",
      "metadata": {
        "id": "KMOycTPUcty7"
      },
      "source": [
        "!wget -q https://raw.githubusercontent.com/JohnSnowLabs/spark-nlp-workshop/master/tutorials/Certification_Trainings/Healthcare/data/NCBI_disease_official_test.conll\n",
        "!wget -q https://raw.githubusercontent.com/JohnSnowLabs/spark-nlp-workshop/master/tutorials/Certification_Trainings/Healthcare/data/NCBI_disease_official_train_dev.conll"
      ],
      "execution_count": null,
      "outputs": []
    },
    {
      "cell_type": "code",
      "metadata": {
        "colab": {
          "base_uri": "https://localhost:8080/"
        },
        "id": "FetZIfagc-eh",
        "outputId": "5ff8c7aa-6e20-4fc9-f13a-b5eae54f1f94"
      },
      "source": [
        "from sparknlp.training import CoNLL\n",
        "\n",
        "training_data = CoNLL().readDataset(spark, 'NCBI_disease_official_train_dev.conll')\n",
        "\n",
        "training_data.show(3)"
      ],
      "execution_count": null,
      "outputs": [
        {
          "output_type": "stream",
          "name": "stdout",
          "text": [
            "+--------------------+--------------------+--------------------+--------------------+--------------------+--------------------+\n",
            "|                text|            document|            sentence|               token|                 pos|               label|\n",
            "+--------------------+--------------------+--------------------+--------------------+--------------------+--------------------+\n",
            "|Identification of...|[{document, 0, 89...|[{document, 0, 89...|[{token, 0, 13, I...|[{pos, 0, 13, NN,...|[{named_entity, 0...|\n",
            "|The adenomatous p...|[{document, 0, 21...|[{document, 0, 21...|[{token, 0, 2, Th...|[{pos, 0, 2, NN, ...|[{named_entity, 0...|\n",
            "|Complex formation...|[{document, 0, 63...|[{document, 0, 63...|[{token, 0, 6, Co...|[{pos, 0, 6, NN, ...|[{named_entity, 0...|\n",
            "+--------------------+--------------------+--------------------+--------------------+--------------------+--------------------+\n",
            "only showing top 3 rows\n",
            "\n"
          ]
        }
      ]
    },
    {
      "cell_type": "code",
      "metadata": {
        "colab": {
          "base_uri": "https://localhost:8080/"
        },
        "id": "Fm1bfPJidC9X",
        "outputId": "5c9c3c1c-e0bc-4d16-dd7a-f3f9124b98f0"
      },
      "source": [
        "from sparknlp.training import CoNLL\n",
        "\n",
        "test_data = CoNLL().readDataset(spark, 'NCBI_disease_official_test.conll')\n",
        "\n",
        "test_data.show(3)"
      ],
      "execution_count": null,
      "outputs": [
        {
          "output_type": "stream",
          "name": "stdout",
          "text": [
            "+--------------------+--------------------+--------------------+--------------------+--------------------+--------------------+\n",
            "|                text|            document|            sentence|               token|                 pos|               label|\n",
            "+--------------------+--------------------+--------------------+--------------------+--------------------+--------------------+\n",
            "|Clustering of mis...|[{document, 0, 10...|[{document, 0, 10...|[{token, 0, 9, Cl...|[{pos, 0, 9, NN, ...|[{named_entity, 0...|\n",
            "|Ataxia - telangie...|[{document, 0, 13...|[{document, 0, 13...|[{token, 0, 5, At...|[{pos, 0, 5, NN, ...|[{named_entity, 0...|\n",
            "|The risk of cance...|[{document, 0, 15...|[{document, 0, 15...|[{token, 0, 2, Th...|[{pos, 0, 2, NN, ...|[{named_entity, 0...|\n",
            "+--------------------+--------------------+--------------------+--------------------+--------------------+--------------------+\n",
            "only showing top 3 rows\n",
            "\n"
          ]
        }
      ]
    },
    {
      "cell_type": "markdown",
      "metadata": {
        "id": "AaTp5atqc_C-"
      },
      "source": [
        "## Split the test data into two parts:\n",
        "- We Keep the first part separate and use it for training the model further, as it will be totally unseen data from the same taxonomy.\n",
        "\n",
        "- The second part will be used to testing and evaluating"
      ]
    },
    {
      "cell_type": "code",
      "metadata": {
        "id": "D_gInTNZRhnC"
      },
      "source": [
        "(test_data_1, test_data_2) = test_data.randomSplit([0.5, 0.5], seed = 100)\n",
        "\n",
        "# save the test data as parquet for easy testing\n",
        "clinical_embeddings.transform(test_data_1).write.parquet('test_1.parquet')\n",
        "\n",
        "clinical_embeddings.transform(test_data_2).write.parquet('test_2.parquet')"
      ],
      "execution_count": null,
      "outputs": []
    },
    {
      "cell_type": "markdown",
      "metadata": {
        "id": "WX2jO2FPRo6Q"
      },
      "source": [
        "## Train a new model, pause, and resume training on the same dataset."
      ]
    },
    {
      "cell_type": "markdown",
      "metadata": {
        "id": "tc2Uoh_YR3dA"
      },
      "source": [
        "### Create a graph"
      ]
    },
    {
      "cell_type": "code",
      "source": [
        "!pip install -q tensorflow-addons"
      ],
      "metadata": {
        "id": "rPLQ5bUaEhDO",
        "colab": {
          "base_uri": "https://localhost:8080/"
        },
        "outputId": "3bfbd2af-16ff-4226-e393-dd9600a399d9"
      },
      "execution_count": null,
      "outputs": [
        {
          "output_type": "stream",
          "name": "stdout",
          "text": [
            "\u001b[?25l\r\u001b[K     |▎                               | 10 kB 28.5 MB/s eta 0:00:01\r\u001b[K     |▋                               | 20 kB 32.1 MB/s eta 0:00:01\r\u001b[K     |▉                               | 30 kB 21.7 MB/s eta 0:00:01\r\u001b[K     |█▏                              | 40 kB 13.4 MB/s eta 0:00:01\r\u001b[K     |█▌                              | 51 kB 6.0 MB/s eta 0:00:01\r\u001b[K     |█▊                              | 61 kB 7.1 MB/s eta 0:00:01\r\u001b[K     |██                              | 71 kB 7.7 MB/s eta 0:00:01\r\u001b[K     |██▍                             | 81 kB 6.6 MB/s eta 0:00:01\r\u001b[K     |██▋                             | 92 kB 7.3 MB/s eta 0:00:01\r\u001b[K     |███                             | 102 kB 7.9 MB/s eta 0:00:01\r\u001b[K     |███▎                            | 112 kB 7.9 MB/s eta 0:00:01\r\u001b[K     |███▌                            | 122 kB 7.9 MB/s eta 0:00:01\r\u001b[K     |███▉                            | 133 kB 7.9 MB/s eta 0:00:01\r\u001b[K     |████▏                           | 143 kB 7.9 MB/s eta 0:00:01\r\u001b[K     |████▍                           | 153 kB 7.9 MB/s eta 0:00:01\r\u001b[K     |████▊                           | 163 kB 7.9 MB/s eta 0:00:01\r\u001b[K     |█████                           | 174 kB 7.9 MB/s eta 0:00:01\r\u001b[K     |█████▎                          | 184 kB 7.9 MB/s eta 0:00:01\r\u001b[K     |█████▋                          | 194 kB 7.9 MB/s eta 0:00:01\r\u001b[K     |█████▉                          | 204 kB 7.9 MB/s eta 0:00:01\r\u001b[K     |██████▏                         | 215 kB 7.9 MB/s eta 0:00:01\r\u001b[K     |██████▌                         | 225 kB 7.9 MB/s eta 0:00:01\r\u001b[K     |██████▊                         | 235 kB 7.9 MB/s eta 0:00:01\r\u001b[K     |███████                         | 245 kB 7.9 MB/s eta 0:00:01\r\u001b[K     |███████▍                        | 256 kB 7.9 MB/s eta 0:00:01\r\u001b[K     |███████▋                        | 266 kB 7.9 MB/s eta 0:00:01\r\u001b[K     |████████                        | 276 kB 7.9 MB/s eta 0:00:01\r\u001b[K     |████████▎                       | 286 kB 7.9 MB/s eta 0:00:01\r\u001b[K     |████████▌                       | 296 kB 7.9 MB/s eta 0:00:01\r\u001b[K     |████████▉                       | 307 kB 7.9 MB/s eta 0:00:01\r\u001b[K     |█████████                       | 317 kB 7.9 MB/s eta 0:00:01\r\u001b[K     |█████████▍                      | 327 kB 7.9 MB/s eta 0:00:01\r\u001b[K     |█████████▊                      | 337 kB 7.9 MB/s eta 0:00:01\r\u001b[K     |██████████                      | 348 kB 7.9 MB/s eta 0:00:01\r\u001b[K     |██████████▎                     | 358 kB 7.9 MB/s eta 0:00:01\r\u001b[K     |██████████▋                     | 368 kB 7.9 MB/s eta 0:00:01\r\u001b[K     |██████████▉                     | 378 kB 7.9 MB/s eta 0:00:01\r\u001b[K     |███████████▏                    | 389 kB 7.9 MB/s eta 0:00:01\r\u001b[K     |███████████▌                    | 399 kB 7.9 MB/s eta 0:00:01\r\u001b[K     |███████████▊                    | 409 kB 7.9 MB/s eta 0:00:01\r\u001b[K     |████████████                    | 419 kB 7.9 MB/s eta 0:00:01\r\u001b[K     |████████████▍                   | 430 kB 7.9 MB/s eta 0:00:01\r\u001b[K     |████████████▋                   | 440 kB 7.9 MB/s eta 0:00:01\r\u001b[K     |█████████████                   | 450 kB 7.9 MB/s eta 0:00:01\r\u001b[K     |█████████████▎                  | 460 kB 7.9 MB/s eta 0:00:01\r\u001b[K     |█████████████▌                  | 471 kB 7.9 MB/s eta 0:00:01\r\u001b[K     |█████████████▉                  | 481 kB 7.9 MB/s eta 0:00:01\r\u001b[K     |██████████████                  | 491 kB 7.9 MB/s eta 0:00:01\r\u001b[K     |██████████████▍                 | 501 kB 7.9 MB/s eta 0:00:01\r\u001b[K     |██████████████▊                 | 512 kB 7.9 MB/s eta 0:00:01\r\u001b[K     |███████████████                 | 522 kB 7.9 MB/s eta 0:00:01\r\u001b[K     |███████████████▎                | 532 kB 7.9 MB/s eta 0:00:01\r\u001b[K     |███████████████▋                | 542 kB 7.9 MB/s eta 0:00:01\r\u001b[K     |███████████████▉                | 552 kB 7.9 MB/s eta 0:00:01\r\u001b[K     |████████████████▏               | 563 kB 7.9 MB/s eta 0:00:01\r\u001b[K     |████████████████▌               | 573 kB 7.9 MB/s eta 0:00:01\r\u001b[K     |████████████████▊               | 583 kB 7.9 MB/s eta 0:00:01\r\u001b[K     |█████████████████               | 593 kB 7.9 MB/s eta 0:00:01\r\u001b[K     |█████████████████▍              | 604 kB 7.9 MB/s eta 0:00:01\r\u001b[K     |█████████████████▋              | 614 kB 7.9 MB/s eta 0:00:01\r\u001b[K     |██████████████████              | 624 kB 7.9 MB/s eta 0:00:01\r\u001b[K     |██████████████████▏             | 634 kB 7.9 MB/s eta 0:00:01\r\u001b[K     |██████████████████▌             | 645 kB 7.9 MB/s eta 0:00:01\r\u001b[K     |██████████████████▉             | 655 kB 7.9 MB/s eta 0:00:01\r\u001b[K     |███████████████████             | 665 kB 7.9 MB/s eta 0:00:01\r\u001b[K     |███████████████████▍            | 675 kB 7.9 MB/s eta 0:00:01\r\u001b[K     |███████████████████▊            | 686 kB 7.9 MB/s eta 0:00:01\r\u001b[K     |████████████████████            | 696 kB 7.9 MB/s eta 0:00:01\r\u001b[K     |████████████████████▎           | 706 kB 7.9 MB/s eta 0:00:01\r\u001b[K     |████████████████████▋           | 716 kB 7.9 MB/s eta 0:00:01\r\u001b[K     |████████████████████▉           | 727 kB 7.9 MB/s eta 0:00:01\r\u001b[K     |█████████████████████▏          | 737 kB 7.9 MB/s eta 0:00:01\r\u001b[K     |█████████████████████▌          | 747 kB 7.9 MB/s eta 0:00:01\r\u001b[K     |█████████████████████▊          | 757 kB 7.9 MB/s eta 0:00:01\r\u001b[K     |██████████████████████          | 768 kB 7.9 MB/s eta 0:00:01\r\u001b[K     |██████████████████████▎         | 778 kB 7.9 MB/s eta 0:00:01\r\u001b[K     |██████████████████████▋         | 788 kB 7.9 MB/s eta 0:00:01\r\u001b[K     |███████████████████████         | 798 kB 7.9 MB/s eta 0:00:01\r\u001b[K     |███████████████████████▏        | 808 kB 7.9 MB/s eta 0:00:01\r\u001b[K     |███████████████████████▌        | 819 kB 7.9 MB/s eta 0:00:01\r\u001b[K     |███████████████████████▉        | 829 kB 7.9 MB/s eta 0:00:01\r\u001b[K     |████████████████████████        | 839 kB 7.9 MB/s eta 0:00:01\r\u001b[K     |████████████████████████▍       | 849 kB 7.9 MB/s eta 0:00:01\r\u001b[K     |████████████████████████▊       | 860 kB 7.9 MB/s eta 0:00:01\r\u001b[K     |█████████████████████████       | 870 kB 7.9 MB/s eta 0:00:01\r\u001b[K     |█████████████████████████▎      | 880 kB 7.9 MB/s eta 0:00:01\r\u001b[K     |█████████████████████████▋      | 890 kB 7.9 MB/s eta 0:00:01\r\u001b[K     |█████████████████████████▉      | 901 kB 7.9 MB/s eta 0:00:01\r\u001b[K     |██████████████████████████▏     | 911 kB 7.9 MB/s eta 0:00:01\r\u001b[K     |██████████████████████████▌     | 921 kB 7.9 MB/s eta 0:00:01\r\u001b[K     |██████████████████████████▊     | 931 kB 7.9 MB/s eta 0:00:01\r\u001b[K     |███████████████████████████     | 942 kB 7.9 MB/s eta 0:00:01\r\u001b[K     |███████████████████████████▎    | 952 kB 7.9 MB/s eta 0:00:01\r\u001b[K     |███████████████████████████▋    | 962 kB 7.9 MB/s eta 0:00:01\r\u001b[K     |████████████████████████████    | 972 kB 7.9 MB/s eta 0:00:01\r\u001b[K     |████████████████████████████▏   | 983 kB 7.9 MB/s eta 0:00:01\r\u001b[K     |████████████████████████████▌   | 993 kB 7.9 MB/s eta 0:00:01\r\u001b[K     |████████████████████████████▉   | 1.0 MB 7.9 MB/s eta 0:00:01\r\u001b[K     |█████████████████████████████   | 1.0 MB 7.9 MB/s eta 0:00:01\r\u001b[K     |█████████████████████████████▍  | 1.0 MB 7.9 MB/s eta 0:00:01\r\u001b[K     |█████████████████████████████▊  | 1.0 MB 7.9 MB/s eta 0:00:01\r\u001b[K     |██████████████████████████████  | 1.0 MB 7.9 MB/s eta 0:00:01\r\u001b[K     |██████████████████████████████▎ | 1.1 MB 7.9 MB/s eta 0:00:01\r\u001b[K     |██████████████████████████████▋ | 1.1 MB 7.9 MB/s eta 0:00:01\r\u001b[K     |██████████████████████████████▉ | 1.1 MB 7.9 MB/s eta 0:00:01\r\u001b[K     |███████████████████████████████▏| 1.1 MB 7.9 MB/s eta 0:00:01\r\u001b[K     |███████████████████████████████▍| 1.1 MB 7.9 MB/s eta 0:00:01\r\u001b[K     |███████████████████████████████▊| 1.1 MB 7.9 MB/s eta 0:00:01\r\u001b[K     |████████████████████████████████| 1.1 MB 7.9 MB/s \n",
            "\u001b[?25h"
          ]
        }
      ]
    },
    {
      "cell_type": "code",
      "metadata": {
        "id": "WFzmo-JzRs3x",
        "colab": {
          "base_uri": "https://localhost:8080/"
        },
        "outputId": "e20abbf4-f3a1-4c15-8fe9-b7916a0ff2c8"
      },
      "source": [
        "from sparknlp_jsl.training import tf_graph\n",
        "\n",
        "tf_graph.print_model_params(\"ner_dl\")\n",
        "\n",
        "tf_graph.build(\"ner_dl\", build_params={\"embeddings_dim\": 200, \"nchars\": 128, \"ntags\": 12, \"is_medical\": 1}, model_location=\"./medical_ner_graphs\", model_filename=\"auto\")\n"
      ],
      "execution_count": null,
      "outputs": [
        {
          "output_type": "stream",
          "name": "stdout",
          "text": [
            "ner_dl parameters.\n",
            "Parameter            Required   Default value        Description\n",
            "ntags                yes        -                    Number of tags.\n",
            "embeddings_dim       no         200                  Embeddings dimension.\n",
            "nchars               no         100                  Number of chars.\n",
            "lstm_size            no         128                  Number of LSTM units.\n",
            "gpu_device           no         0                    Device for training.\n",
            "is_medical           no         0                    Build a Medical Ner graph.\n",
            "WARNING:tensorflow:From /usr/local/lib/python3.7/dist-packages/tensorflow/python/compat/v2_compat.py:111: disable_resource_variables (from tensorflow.python.ops.variable_scope) is deprecated and will be removed in a future version.\n",
            "Instructions for updating:\n",
            "non-resource variables are not supported in the long term\n",
            "WARNING:tensorflow:From /usr/local/lib/python3.7/dist-packages/tensorflow/python/ops/init_ops.py:97: calling GlorotUniform.__init__ (from tensorflow.python.ops.init_ops) with dtype is deprecated and will be removed in a future version.\n",
            "Instructions for updating:\n",
            "Call initializer instance with the dtype argument instead of passing it to the constructor\n",
            "WARNING:tensorflow:From /usr/local/lib/python3.7/dist-packages/tensorflow/python/ops/init_ops.py:97: calling Orthogonal.__init__ (from tensorflow.python.ops.init_ops) with dtype is deprecated and will be removed in a future version.\n",
            "Instructions for updating:\n",
            "Call initializer instance with the dtype argument instead of passing it to the constructor\n",
            "WARNING:tensorflow:From /usr/local/lib/python3.7/dist-packages/tensorflow/python/ops/init_ops.py:97: calling Zeros.__init__ (from tensorflow.python.ops.init_ops) with dtype is deprecated and will be removed in a future version.\n",
            "Instructions for updating:\n",
            "Call initializer instance with the dtype argument instead of passing it to the constructor\n",
            "ner_dl graph exported to ./medical_ner_graphs/blstm_12_200_128_128.pb\n"
          ]
        }
      ]
    },
    {
      "cell_type": "markdown",
      "metadata": {
        "id": "PT5pF7V7R69G"
      },
      "source": [
        "### Train for 2 epochs"
      ]
    },
    {
      "cell_type": "code",
      "metadata": {
        "id": "X7J4j069R9ty"
      },
      "source": [
        "nerTagger = MedicalNerApproach()\\\n",
        "      .setInputCols([\"sentence\", \"token\", \"embeddings\"])\\\n",
        "      .setLabelColumn(\"label\")\\\n",
        "      .setOutputCol(\"ner\")\\\n",
        "      .setMaxEpochs(2)\\\n",
        "      .setLr(0.003)\\\n",
        "      .setBatchSize(8)\\\n",
        "      .setRandomSeed(0)\\\n",
        "      .setVerbose(1)\\\n",
        "      .setEvaluationLogExtended(True) \\\n",
        "      .setEnableOutputLogs(True)\\\n",
        "      .setIncludeConfidence(True)\\\n",
        "      .setTestDataset('./test_2.parquet')\\\n",
        "      .setGraphFolder('./medical_ner_graphs')\\\n",
        "      .setOutputLogsPath('./ner_logs')\n",
        "\n",
        "ner_pipeline = Pipeline(stages=[\n",
        "      clinical_embeddings,\n",
        "      nerTagger\n",
        " ])"
      ],
      "execution_count": null,
      "outputs": []
    },
    {
      "cell_type": "code",
      "metadata": {
        "id": "u5Phv3rFSBR_",
        "colab": {
          "base_uri": "https://localhost:8080/"
        },
        "outputId": "52d855ba-d7a8-4135-88e7-de2fe4c32167"
      },
      "source": [
        "\n",
        "%%time\n",
        "ner_model = ner_pipeline.fit(training_data)"
      ],
      "execution_count": null,
      "outputs": [
        {
          "output_type": "stream",
          "name": "stdout",
          "text": [
            "CPU times: user 3.07 s, sys: 243 ms, total: 3.32 s\n",
            "Wall time: 8min 10s\n"
          ]
        }
      ]
    },
    {
      "cell_type": "code",
      "source": [
        "!ls ner_logs/MedicalNerApproach*"
      ],
      "metadata": {
        "id": "VYc5M2JHNTrQ",
        "colab": {
          "base_uri": "https://localhost:8080/"
        },
        "outputId": "5ceab909-1518-4281-a4e4-720a8163b827"
      },
      "execution_count": null,
      "outputs": [
        {
          "output_type": "stream",
          "name": "stdout",
          "text": [
            "ner_logs/MedicalNerApproach_37224ffefff2.log\n"
          ]
        }
      ]
    },
    {
      "cell_type": "code",
      "metadata": {
        "id": "sPZ2tmHFSBUy",
        "colab": {
          "base_uri": "https://localhost:8080/"
        },
        "outputId": "8930c9b6-e89f-47a7-92f6-e8f9984dc371"
      },
      "source": [
        "# Training Logs\n",
        "! cat ner_logs/MedicalNerApproach*"
      ],
      "execution_count": null,
      "outputs": [
        {
          "output_type": "stream",
          "name": "stdout",
          "text": [
            "Name of the selected graph: /content/./medical_ner_graphs/blstm_12_200_128_128.pb\n",
            "Training started - total epochs: 2 - lr: 0.003 - batch size: 8 - labels: 3 - chars: 84 - training examples: 6347\n",
            "\n",
            "\n",
            "Epoch 1/2 started, lr: 0.003, dataset size: 6347\n",
            "\n",
            "\n",
            "Epoch 1/2 - 224.84s - loss: 1845.8062 - avg training loss: 2.3217688 - batches: 795\n",
            "Quality on test dataset: \n",
            "time to finish evaluation: 4.91s\n",
            "Total test loss: 105.3862\tAvg test loss: 1.7862\n",
            "label\t tp\t fp\t fn\t prec\t rec\t f1\n",
            "I-Disease\t 508\t 159\t 28\t 0.7616192\t 0.9477612\t 0.84455526\n",
            "B-Disease\t 393\t 106\t 71\t 0.7875751\t 0.8469828\t 0.81619936\n",
            "tp: 901 fp: 265 fn: 99 labels: 2\n",
            "Macro-average\t prec: 0.77459717, rec: 0.897372, f1: 0.8314768\n",
            "Micro-average\t prec: 0.77272725, rec: 0.901, f1: 0.8319483\n",
            "\n",
            "\n",
            "Epoch 2/2 started, lr: 0.0029850747, dataset size: 6347\n",
            "\n",
            "\n",
            "Epoch 2/2 - 220.71s - loss: 759.521 - avg training loss: 0.95537233 - batches: 795\n",
            "Quality on test dataset: \n",
            "time to finish evaluation: 3.65s\n",
            "Total test loss: 77.5672\tAvg test loss: 1.3147\n",
            "label\t tp\t fp\t fn\t prec\t rec\t f1\n",
            "I-Disease\t 483\t 106\t 53\t 0.82003397\t 0.9011194\t 0.85866666\n",
            "B-Disease\t 378\t 74\t 86\t 0.8362832\t 0.8146552\t 0.8253275\n",
            "tp: 861 fp: 180 fn: 139 labels: 2\n",
            "Macro-average\t prec: 0.8281586, rec: 0.85788727, f1: 0.84276086\n",
            "Micro-average\t prec: 0.8270893, rec: 0.861, f1: 0.843704\n"
          ]
        }
      ]
    },
    {
      "cell_type": "code",
      "metadata": {
        "id": "p2onzNGuP_QH"
      },
      "source": [
        "# Logs of 4 consecutive epochs to compare with 2+2 epochs on separate datasets from same taxonomy\n",
        "\n",
        "#!cat ner_logs/MedicalNerApproach_4d3d69967c3f.log"
      ],
      "execution_count": null,
      "outputs": []
    },
    {
      "cell_type": "markdown",
      "metadata": {
        "id": "qLKJpTfKWLwC"
      },
      "source": [
        "### Evaluate"
      ]
    },
    {
      "cell_type": "code",
      "metadata": {
        "id": "Ec5aux5DSBXE",
        "colab": {
          "base_uri": "https://localhost:8080/"
        },
        "outputId": "2da27293-26f6-403e-d985-abcb0e3d0736"
      },
      "source": [
        "from sparknlp_jsl.eval import NerDLMetrics\n",
        "import pyspark.sql.functions as F\n",
        "\n",
        "pred_df = ner_model.stages[1].transform(clinical_embeddings.transform(test_data_2))\n",
        "\n",
        "evaler = NerDLMetrics(mode=\"full_chunk\", dropO=True)\n",
        "\n",
        "eval_result = evaler.computeMetricsFromDF(pred_df.select(\"label\",\"ner\"), prediction_col=\"ner\", label_col=\"label\").cache()\n",
        "\n",
        "eval_result.withColumn(\"precision\", F.round(eval_result[\"precision\"],4))\\\n",
        "    .withColumn(\"recall\", F.round(eval_result[\"recall\"],4))\\\n",
        "    .withColumn(\"f1\", F.round(eval_result[\"f1\"],4)).show(100)\n",
        "\n",
        "print(eval_result.selectExpr(\"avg(f1) as macro\").show())\n",
        "print (eval_result.selectExpr(\"sum(f1*total) as sumprod\",\"sum(total) as sumtotal\").selectExpr(\"sumprod/sumtotal as micro\").show())"
      ],
      "execution_count": null,
      "outputs": [
        {
          "output_type": "stream",
          "name": "stdout",
          "text": [
            "+-------+-----+----+----+-----+---------+------+------+\n",
            "| entity|   tp|  fp|  fn|total|precision|recall|    f1|\n",
            "+-------+-----+----+----+-----+---------+------+------+\n",
            "|Disease|372.0|80.0|88.0|460.0|    0.823|0.8087|0.8158|\n",
            "+-------+-----+----+----+-----+---------+------+------+\n",
            "\n",
            "+------------------+\n",
            "|             macro|\n",
            "+------------------+\n",
            "|0.8157894736842105|\n",
            "+------------------+\n",
            "\n",
            "None\n",
            "+------------------+\n",
            "|             micro|\n",
            "+------------------+\n",
            "|0.8157894736842105|\n",
            "+------------------+\n",
            "\n",
            "None\n"
          ]
        }
      ]
    },
    {
      "cell_type": "markdown",
      "metadata": {
        "id": "77HQ3yYyT-RZ"
      },
      "source": [
        "### Save the model to disk"
      ]
    },
    {
      "cell_type": "code",
      "metadata": {
        "id": "_KEUa1yaSBZW"
      },
      "source": [
        "ner_model.stages[1].write().overwrite().save('models/NCBI_NER_2_epoch')"
      ],
      "execution_count": null,
      "outputs": []
    },
    {
      "cell_type": "markdown",
      "metadata": {
        "id": "y_U4mQcXUTg7"
      },
      "source": [
        "### Train using the saved model on unseen dataset\n",
        "#### We use unseen data from same taxonomy"
      ]
    },
    {
      "cell_type": "code",
      "metadata": {
        "id": "dgFviuf5SBei"
      },
      "source": [
        "\n",
        "nerTagger = MedicalNerApproach()\\\n",
        "      .setInputCols([\"sentence\", \"token\", \"embeddings\"])\\\n",
        "      .setLabelColumn(\"label\")\\\n",
        "      .setOutputCol(\"ner\")\\\n",
        "      .setMaxEpochs(2)\\\n",
        "      .setLr(0.003)\\\n",
        "      .setBatchSize(8)\\\n",
        "      .setRandomSeed(0)\\\n",
        "      .setVerbose(1)\\\n",
        "      .setEvaluationLogExtended(True) \\\n",
        "      .setEnableOutputLogs(True)\\\n",
        "      .setIncludeConfidence(True)\\\n",
        "      .setTestDataset('/content/test_2.parquet')\\\n",
        "      .setOutputLogsPath('ner_logs')\\\n",
        "      .setGraphFolder('medical_ner_graphs')\\\n",
        "      .setPretrainedModelPath(\"models/NCBI_NER_2_epoch\") ## load exisitng model\n",
        "    \n",
        "ner_pipeline = Pipeline(stages=[\n",
        "      clinical_embeddings,\n",
        "      nerTagger\n",
        " ])"
      ],
      "execution_count": null,
      "outputs": []
    },
    {
      "cell_type": "code",
      "source": [
        "# remove the existing logs\n",
        "\n",
        "! rm -r ./ner_logs"
      ],
      "metadata": {
        "id": "kics80lUTXTG"
      },
      "execution_count": null,
      "outputs": []
    },
    {
      "cell_type": "code",
      "metadata": {
        "id": "xVZGKEsKUSrS",
        "colab": {
          "base_uri": "https://localhost:8080/"
        },
        "outputId": "7c46d3bb-8c99-432b-ed1f-abea1021e5a1"
      },
      "source": [
        "\n",
        "%%time\n",
        "ner_model_retrained = ner_pipeline.fit(test_data_1)\n"
      ],
      "execution_count": null,
      "outputs": [
        {
          "output_type": "stream",
          "name": "stdout",
          "text": [
            "CPU times: user 344 ms, sys: 35.5 ms, total: 379 ms\n",
            "Wall time: 52.7 s\n"
          ]
        }
      ]
    },
    {
      "cell_type": "code",
      "source": [
        "!ls ner_logs/MedicalNerApproach*"
      ],
      "metadata": {
        "id": "IEvNYEXGTTE3",
        "colab": {
          "base_uri": "https://localhost:8080/"
        },
        "outputId": "bdcbf36b-1fde-4b6d-bccd-df4f80776e15"
      },
      "execution_count": null,
      "outputs": [
        {
          "output_type": "stream",
          "name": "stdout",
          "text": [
            "ner_logs/MedicalNerApproach_f3201300f24e.log\n"
          ]
        }
      ]
    },
    {
      "cell_type": "code",
      "metadata": {
        "id": "zVTfOVnIgwpP",
        "colab": {
          "base_uri": "https://localhost:8080/"
        },
        "outputId": "a188b219-a3f8-43c8-b35c-0d9450bb615b"
      },
      "source": [
        "!cat ./ner_logs/MedicalNerApproach*"
      ],
      "execution_count": null,
      "outputs": [
        {
          "output_type": "stream",
          "name": "stdout",
          "text": [
            "Name of the selected graph: pretrained graph\n",
            "Training started - total epochs: 2 - lr: 0.003 - batch size: 8 - labels: 3 - chars: 84 - training examples: 477\n",
            "\n",
            "\n",
            "Epoch 1/2 started, lr: 0.003, dataset size: 477\n",
            "\n",
            "\n",
            "Epoch 1/2 - 19.90s - loss: 77.3857 - avg training loss: 1.268618 - batches: 61\n",
            "Quality on test dataset: \n",
            "time to finish evaluation: 4.22s\n",
            "Total test loss: 60.7261\tAvg test loss: 1.0293\n",
            "label\t tp\t fp\t fn\t prec\t rec\t f1\n",
            "I-Disease\t 459\t 51\t 77\t 0.9\t 0.85634327\t 0.87762904\n",
            "B-Disease\t 387\t 48\t 77\t 0.8896552\t 0.8340517\t 0.8609566\n",
            "tp: 846 fp: 99 fn: 154 labels: 2\n",
            "Macro-average\t prec: 0.8948276, rec: 0.8451975, f1: 0.8693048\n",
            "Micro-average\t prec: 0.8952381, rec: 0.846, f1: 0.8699229\n",
            "\n",
            "\n",
            "Epoch 2/2 started, lr: 0.0029850747, dataset size: 477\n",
            "\n",
            "\n",
            "Epoch 2/2 - 17.77s - loss: 47.91668 - avg training loss: 0.78551936 - batches: 61\n",
            "Quality on test dataset: \n",
            "time to finish evaluation: 3.45s\n",
            "Total test loss: 66.5294\tAvg test loss: 1.1276\n",
            "label\t tp\t fp\t fn\t prec\t rec\t f1\n",
            "I-Disease\t 501\t 81\t 35\t 0.86082476\t 0.9347015\t 0.8962433\n",
            "B-Disease\t 432\t 65\t 32\t 0.8692153\t 0.9310345\t 0.89906347\n",
            "tp: 933 fp: 146 fn: 67 labels: 2\n",
            "Macro-average\t prec: 0.86502004, rec: 0.932868, f1: 0.8976638\n",
            "Micro-average\t prec: 0.8646895, rec: 0.933, f1: 0.89754695\n"
          ]
        }
      ]
    },
    {
      "cell_type": "code",
      "metadata": {
        "id": "K_vg2Ajse6aZ",
        "colab": {
          "base_uri": "https://localhost:8080/"
        },
        "outputId": "83cba1c6-81f2-4b98-d226-d1967158121e"
      },
      "source": [
        "from sparknlp_jsl.eval import NerDLMetrics\n",
        "import pyspark.sql.functions as F\n",
        "\n",
        "pred_df = ner_model_retrained.stages[1].transform(clinical_embeddings.transform(test_data_2))\n",
        "\n",
        "evaler = NerDLMetrics(mode=\"full_chunk\", dropO=True)\n",
        "\n",
        "eval_result = evaler.computeMetricsFromDF(pred_df.select(\"label\",\"ner\"), prediction_col=\"ner\", label_col=\"label\").cache()\n",
        "\n",
        "eval_result.withColumn(\"precision\", F.round(eval_result[\"precision\"],4))\\\n",
        "    .withColumn(\"recall\", F.round(eval_result[\"recall\"],4))\\\n",
        "    .withColumn(\"f1\", F.round(eval_result[\"f1\"],4)).show(100)\n",
        "\n",
        "print(eval_result.selectExpr(\"avg(f1) as macro\").show())\n",
        "print (eval_result.selectExpr(\"sum(f1*total) as sumprod\",\"sum(total) as sumtotal\").selectExpr(\"sumprod/sumtotal as micro\").show())"
      ],
      "execution_count": null,
      "outputs": [
        {
          "output_type": "stream",
          "name": "stdout",
          "text": [
            "+-------+-----+----+----+-----+---------+------+------+\n",
            "| entity|   tp|  fp|  fn|total|precision|recall|    f1|\n",
            "+-------+-----+----+----+-----+---------+------+------+\n",
            "|Disease|418.0|74.0|42.0|460.0|   0.8496|0.9087|0.8782|\n",
            "+-------+-----+----+----+-----+---------+------+------+\n",
            "\n",
            "+------------------+\n",
            "|             macro|\n",
            "+------------------+\n",
            "|0.8781512605042017|\n",
            "+------------------+\n",
            "\n",
            "None\n",
            "+------------------+\n",
            "|             micro|\n",
            "+------------------+\n",
            "|0.8781512605042018|\n",
            "+------------------+\n",
            "\n",
            "None\n"
          ]
        }
      ]
    },
    {
      "cell_type": "markdown",
      "metadata": {
        "id": "rw0jTK2RbMAi"
      },
      "source": [
        "## Now let's take a model trained on a different dataset and train on this dataset"
      ]
    },
    {
      "cell_type": "code",
      "metadata": {
        "id": "U2eVAVhfUSt0",
        "colab": {
          "base_uri": "https://localhost:8080/"
        },
        "outputId": "70a2ebb7-2857-43f5-ed01-f84de2390cab"
      },
      "source": [
        "jsl_ner = MedicalNerModel.pretrained('ner_jsl','en','clinical/models')\n",
        "\n",
        "jsl_ner.getClasses()"
      ],
      "execution_count": null,
      "outputs": [
        {
          "output_type": "stream",
          "name": "stdout",
          "text": [
            "ner_jsl download started this may take some time.\n",
            "Approximate size to download 14.5 MB\n",
            "[OK!]\n"
          ]
        },
        {
          "output_type": "execute_result",
          "data": {
            "text/plain": [
              "['O',\n",
              " 'B-Injury_or_Poisoning',\n",
              " 'B-Direction',\n",
              " 'B-Test',\n",
              " 'I-Route',\n",
              " 'B-Admission_Discharge',\n",
              " 'B-Death_Entity',\n",
              " 'I-Oxygen_Therapy',\n",
              " 'I-Drug_BrandName',\n",
              " 'B-Relationship_Status',\n",
              " 'B-Duration',\n",
              " 'I-Alcohol',\n",
              " 'I-Triglycerides',\n",
              " 'I-Date',\n",
              " 'B-Respiration',\n",
              " 'B-Hyperlipidemia',\n",
              " 'I-Test',\n",
              " 'B-Birth_Entity',\n",
              " 'I-VS_Finding',\n",
              " 'B-Age',\n",
              " 'I-Social_History_Header',\n",
              " 'B-Labour_Delivery',\n",
              " 'I-Medical_Device',\n",
              " 'B-Family_History_Header',\n",
              " 'B-BMI',\n",
              " 'I-Fetus_NewBorn',\n",
              " 'I-BMI',\n",
              " 'B-Temperature',\n",
              " 'I-Section_Header',\n",
              " 'I-Communicable_Disease',\n",
              " 'I-ImagingFindings',\n",
              " 'I-Psychological_Condition',\n",
              " 'I-Obesity',\n",
              " 'I-Sexually_Active_or_Sexual_Orientation',\n",
              " 'I-Modifier',\n",
              " 'B-Alcohol',\n",
              " 'I-Temperature',\n",
              " 'I-Vaccine',\n",
              " 'I-Symptom',\n",
              " 'B-Kidney_Disease',\n",
              " 'I-Pulse',\n",
              " 'B-Oncological',\n",
              " 'I-EKG_Findings',\n",
              " 'B-Medical_History_Header',\n",
              " 'I-Relationship_Status',\n",
              " 'I-Blood_Pressure',\n",
              " 'B-Cerebrovascular_Disease',\n",
              " 'I-Diabetes',\n",
              " 'B-Oxygen_Therapy',\n",
              " 'B-O2_Saturation',\n",
              " 'B-Psychological_Condition',\n",
              " 'B-Heart_Disease',\n",
              " 'I-Frequency',\n",
              " 'B-Employment',\n",
              " 'B-Obesity',\n",
              " 'B-Disease_Syndrome_Disorder',\n",
              " 'I-Oncological',\n",
              " 'B-Pregnancy',\n",
              " 'I-RelativeDate',\n",
              " 'I-Procedure',\n",
              " 'B-ImagingFindings',\n",
              " 'I-Overweight',\n",
              " 'B-Procedure',\n",
              " 'I-Labour_Delivery',\n",
              " 'B-Medical_Device',\n",
              " 'I-Family_History_Header',\n",
              " 'B-Race_Ethnicity',\n",
              " 'I-Hypertension',\n",
              " 'I-External_body_part_or_region',\n",
              " 'I-Imaging_Technique',\n",
              " 'I-Kidney_Disease',\n",
              " 'B-Section_Header',\n",
              " 'I-Medical_History_Header',\n",
              " 'I-Test_Result',\n",
              " 'I-Direction',\n",
              " 'I-Treatment',\n",
              " 'B-Symptom',\n",
              " 'I-Substance',\n",
              " 'B-Treatment',\n",
              " 'B-Substance',\n",
              " 'I-Clinical_Dept',\n",
              " 'I-Death_Entity',\n",
              " 'B-Route',\n",
              " 'B-Drug_Ingredient',\n",
              " 'I-LDL',\n",
              " 'I-Heart_Disease',\n",
              " 'I-Duration',\n",
              " 'B-Blood_Pressure',\n",
              " 'I-Respiration',\n",
              " 'B-Diet',\n",
              " 'I-Age',\n",
              " 'B-External_body_part_or_region',\n",
              " 'B-LDL',\n",
              " 'B-VS_Finding',\n",
              " 'I-O2_Saturation',\n",
              " 'I-Race_Ethnicity',\n",
              " 'I-Substance_Quantity',\n",
              " 'B-Allergen',\n",
              " 'B-EKG_Findings',\n",
              " 'B-Imaging_Technique',\n",
              " 'I-Diet',\n",
              " 'I-Gender',\n",
              " 'I-Allergen',\n",
              " 'B-Triglycerides',\n",
              " 'B-RelativeTime',\n",
              " 'I-Disease_Syndrome_Disorder',\n",
              " 'B-Gender',\n",
              " 'I-Injury_or_Poisoning',\n",
              " 'B-Pulse',\n",
              " 'I-Total_Cholesterol',\n",
              " 'B-Social_History_Header',\n",
              " 'I-Cerebrovascular_Disease',\n",
              " 'B-Substance_Quantity',\n",
              " 'B-Diabetes',\n",
              " 'I-Admission_Discharge',\n",
              " 'B-Modifier',\n",
              " 'B-Internal_organ_or_component',\n",
              " 'B-Clinical_Dept',\n",
              " 'I-Internal_organ_or_component',\n",
              " 'I-RelativeTime',\n",
              " 'I-Vital_Signs_Header',\n",
              " 'I-Hyperlipidemia',\n",
              " 'I-Smoking',\n",
              " 'I-Height',\n",
              " 'I-Drug_Ingredient',\n",
              " 'B-Form',\n",
              " 'I-Employment',\n",
              " 'B-Drug_BrandName',\n",
              " 'B-Strength',\n",
              " 'B-Fetus_NewBorn',\n",
              " 'B-RelativeDate',\n",
              " 'I-Weight',\n",
              " 'B-Height',\n",
              " 'B-Test_Result',\n",
              " 'B-Sexually_Active_or_Sexual_Orientation',\n",
              " 'B-Frequency',\n",
              " 'B-Time',\n",
              " 'I-Strength',\n",
              " 'B-Weight',\n",
              " 'B-Vaccine',\n",
              " 'I-Pregnancy',\n",
              " 'I-Form',\n",
              " 'B-Vital_Signs_Header',\n",
              " 'I-Dosage',\n",
              " 'I-Time',\n",
              " 'B-Communicable_Disease',\n",
              " 'B-Dosage',\n",
              " 'B-Overweight',\n",
              " 'B-Hypertension',\n",
              " 'B-HDL',\n",
              " 'B-Total_Cholesterol',\n",
              " 'I-HDL',\n",
              " 'B-Smoking',\n",
              " 'B-Date']"
            ]
          },
          "metadata": {},
          "execution_count": 25
        }
      ]
    },
    {
      "cell_type": "markdown",
      "metadata": {
        "id": "EL0NQ88ofMur"
      },
      "source": [
        "### Now train a model using this model as base"
      ]
    },
    {
      "cell_type": "code",
      "metadata": {
        "id": "f-zM49XJbb2j"
      },
      "source": [
        "\n",
        "nerTagger = MedicalNerApproach()\\\n",
        "      .setInputCols([\"sentence\", \"token\", \"embeddings\"])\\\n",
        "      .setLabelColumn(\"label\")\\\n",
        "      .setOutputCol(\"ner\")\\\n",
        "      .setMaxEpochs(2)\\\n",
        "      .setLr(0.003)\\\n",
        "      .setBatchSize(8)\\\n",
        "      .setRandomSeed(0)\\\n",
        "      .setVerbose(1)\\\n",
        "      .setEvaluationLogExtended(True) \\\n",
        "      .setEnableOutputLogs(True)\\\n",
        "      .setIncludeConfidence(True)\\\n",
        "      .setTestDataset('/content/test_2.parquet')\\\n",
        "      .setOutputLogsPath('ner_logs')\\\n",
        "      .setGraphFolder('medical_ner_graphs')\\\n",
        "      .setPretrainedModelPath(\"/root/cache_pretrained/ner_jsl_en_3.1.0_3.0_1624284761441\")\\\n",
        "      .setOverrideExistingTags(True) # since the tags do not align, set this flag to true\n",
        "    \n",
        "# do hyperparameter by tuning the params above (max epoch, LR, dropout etc.) to get better results\n",
        "ner_pipeline = Pipeline(stages=[\n",
        "      clinical_embeddings,\n",
        "      nerTagger\n",
        " ])"
      ],
      "execution_count": null,
      "outputs": []
    },
    {
      "cell_type": "code",
      "source": [
        "# remove the existing logs\n",
        "\n",
        "! rm -r ./ner_logs"
      ],
      "metadata": {
        "id": "FzAfib-aUP6Z"
      },
      "execution_count": null,
      "outputs": []
    },
    {
      "cell_type": "code",
      "metadata": {
        "id": "dXKmO-MJbb5N",
        "colab": {
          "base_uri": "https://localhost:8080/"
        },
        "outputId": "6da0cea2-cbb9-412f-cafd-dcc101ef39b8"
      },
      "source": [
        "\n",
        "%%time\n",
        "ner_jsl_retrained = ner_pipeline.fit(training_data)\n"
      ],
      "execution_count": null,
      "outputs": [
        {
          "output_type": "stream",
          "name": "stdout",
          "text": [
            "CPU times: user 3.56 s, sys: 361 ms, total: 3.92 s\n",
            "Wall time: 10min 25s\n"
          ]
        }
      ]
    },
    {
      "cell_type": "code",
      "metadata": {
        "id": "ra_btnoXgvnF",
        "colab": {
          "base_uri": "https://localhost:8080/"
        },
        "outputId": "fb1a859b-17e5-4361-9c01-a98da9c5309b"
      },
      "source": [
        "!cat ./ner_logs/MedicalNerApproach*"
      ],
      "execution_count": null,
      "outputs": [
        {
          "output_type": "stream",
          "name": "stdout",
          "text": [
            "Name of the selected graph: pretrained graph\n",
            "Training started - total epochs: 2 - lr: 0.003 - batch size: 8 - labels: 3 - chars: 106 - training examples: 6347\n",
            "\n",
            "\n",
            "Epoch 1/2 started, lr: 0.003, dataset size: 6347\n",
            "\n",
            "\n",
            "Epoch 1/2 - 289.75s - loss: 1894.052 - avg training loss: 2.3824553 - batches: 795\n",
            "Quality on test dataset: \n",
            "time to finish evaluation: 14.21s\n",
            "Total test loss: 99.2603\tAvg test loss: 1.6824\n",
            "label\t tp\t fp\t fn\t prec\t rec\t f1\n",
            "I-Disease\t 458\t 97\t 78\t 0.82522523\t 0.8544776\t 0.83959675\n",
            "B-Disease\t 374\t 104\t 90\t 0.7824268\t 0.8060345\t 0.7940552\n",
            "tp: 832 fp: 201 fn: 168 labels: 2\n",
            "Macro-average\t prec: 0.803826, rec: 0.83025604, f1: 0.8168272\n",
            "Micro-average\t prec: 0.8054211, rec: 0.832, f1: 0.81849486\n",
            "\n",
            "\n",
            "Epoch 2/2 started, lr: 0.0029850747, dataset size: 6347\n",
            "\n",
            "\n",
            "Epoch 2/2 - 286.80s - loss: 901.93933 - avg training loss: 1.1345149 - batches: 795\n",
            "Quality on test dataset: \n",
            "time to finish evaluation: 14.62s\n",
            "Total test loss: 99.2894\tAvg test loss: 1.6829\n",
            "label\t tp\t fp\t fn\t prec\t rec\t f1\n",
            "I-Disease\t 463\t 70\t 73\t 0.8686679\t 0.86380595\t 0.8662301\n",
            "B-Disease\t 395\t 83\t 69\t 0.8263598\t 0.8512931\t 0.8386412\n",
            "tp: 858 fp: 153 fn: 142 labels: 2\n",
            "Macro-average\t prec: 0.84751385, rec: 0.85754955, f1: 0.8525022\n",
            "Micro-average\t prec: 0.8486647, rec: 0.858, f1: 0.85330683\n"
          ]
        }
      ]
    },
    {
      "cell_type": "code",
      "metadata": {
        "id": "yKeO-Kqcbb7i",
        "colab": {
          "base_uri": "https://localhost:8080/"
        },
        "outputId": "0c93989a-005f-484a-c3cb-157dd93f53cf"
      },
      "source": [
        "from sparknlp_jsl.eval import NerDLMetrics\n",
        "import pyspark.sql.functions as F\n",
        "\n",
        "pred_df = ner_jsl_retrained.stages[1].transform(clinical_embeddings.transform(test_data_2))\n",
        "\n",
        "evaler = NerDLMetrics(mode=\"full_chunk\", dropO=True)\n",
        "\n",
        "eval_result = evaler.computeMetricsFromDF(pred_df.select(\"label\",\"ner\"), prediction_col=\"ner\", label_col=\"label\").cache()\n",
        "\n",
        "eval_result.withColumn(\"precision\", F.round(eval_result[\"precision\"],4))\\\n",
        "    .withColumn(\"recall\", F.round(eval_result[\"recall\"],4))\\\n",
        "    .withColumn(\"f1\", F.round(eval_result[\"f1\"],4)).show(100)\n",
        "\n",
        "print(eval_result.selectExpr(\"avg(f1) as macro\").show())\n",
        "print (eval_result.selectExpr(\"sum(f1*total) as sumprod\",\"sum(total) as sumtotal\").selectExpr(\"sumprod/sumtotal as micro\").show())"
      ],
      "execution_count": null,
      "outputs": [
        {
          "output_type": "stream",
          "name": "stdout",
          "text": [
            "+-------+-----+----+----+-----+---------+------+------+\n",
            "| entity|   tp|  fp|  fn|total|precision|recall|    f1|\n",
            "+-------+-----+----+----+-----+---------+------+------+\n",
            "|Disease|389.0|89.0|71.0|460.0|   0.8138|0.8457|0.8294|\n",
            "+-------+-----+----+----+-----+---------+------+------+\n",
            "\n",
            "+------------------+\n",
            "|             macro|\n",
            "+------------------+\n",
            "|0.8294243070362474|\n",
            "+------------------+\n",
            "\n",
            "None\n",
            "+------------------+\n",
            "|             micro|\n",
            "+------------------+\n",
            "|0.8294243070362474|\n",
            "+------------------+\n",
            "\n",
            "None\n"
          ]
        }
      ]
    }
  ]
}
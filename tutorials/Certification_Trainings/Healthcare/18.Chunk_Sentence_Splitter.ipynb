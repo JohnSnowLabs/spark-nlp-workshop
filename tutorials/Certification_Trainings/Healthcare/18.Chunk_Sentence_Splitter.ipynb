{
 "cells": [
  {
   "cell_type": "markdown",
   "metadata": {
    "id": "YUV3eJoaHC-T"
   },
   "source": [
    "![JohnSnowLabs](https://nlp.johnsnowlabs.com/assets/images/logo.png)"
   ]
  },
  {
   "cell_type": "markdown",
   "metadata": {
    "id": "e1ch_tb5HIOM"
   },
   "source": [
    "[![Open In Colab](https://colab.research.google.com/assets/colab-badge.svg)](https://colab.research.google.com/github/JohnSnowLabs/spark-nlp-workshop/blob/master/tutorials/Certification_Trainings/Healthcare/18.Chunk_Sentence_Splitter.ipynb)"
   ]
  },
  {
   "cell_type": "markdown",
   "metadata": {
    "id": "gNLwhcTeHT01"
   },
   "source": [
    "# Chunk Sentence Splitter\n",
    "We are releasing `ChunkSentenceSplitter`  annotator that splits documents or sentences by chunks provided. Splitted parts can be named with the splitting chunks. <br/>\n",
    "By using this annotator, you can do some tasks like splitting clinical documents according into sections in accordance with CDA (Clinical Document Architecture)."
   ]
  },
  {
   "cell_type": "markdown",
   "metadata": {
    "id": "sdg3wYL6HXZj"
   },
   "source": [
    "## Colab Setup"
   ]
  },
  {
   "cell_type": "code",
   "execution_count": null,
   "metadata": {
    "colab": {
     "base_uri": "https://localhost:8080/",
     "height": 73,
     "resources": {
      "http://localhost:8080/nbextensions/google.colab/files.js": {
       "data": "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",
       "headers": [
        [
         "content-type",
         "application/javascript"
        ]
       ],
       "ok": true,
       "status": 200,
       "status_text": ""
      }
     }
    },
    "executionInfo": {
     "elapsed": 25965,
     "status": "ok",
     "timestamp": 1639491635600,
     "user": {
      "displayName": "Ahmet Emin Tek",
      "photoUrl": "https://lh3.googleusercontent.com/a/default-user=s64",
      "userId": "14855809472179427810"
     },
     "user_tz": -180
    },
    "id": "Gf8bIwegE7lb",
    "outputId": "e378d6dc-09f6-4efe-c087-bdebab3551ef"
   },
   "outputs": [],
   "source": [
    "import json\n",
    "import os\n",
    "\n",
    "from google.colab import files\n",
    "\n",
    "license_keys = files.upload()\n",
    "\n",
    "with open(list(license_keys.keys())[0]) as f:\n",
    "    license_keys = json.load(f)\n",
    "\n",
    "# Defining license key-value pairs as local variables\n",
    "locals().update(license_keys)\n",
    "\n",
    "# Adding license key-value pairs to environment variables\n",
    "os.environ.update(license_keys)"
   ]
  },
  {
   "cell_type": "code",
   "execution_count": 39,
   "metadata": {
    "executionInfo": {
     "elapsed": 8513,
     "status": "ok",
     "timestamp": 1639491648012,
     "user": {
      "displayName": "Ahmet Emin Tek",
      "photoUrl": "https://lh3.googleusercontent.com/a/default-user=s64",
      "userId": "14855809472179427810"
     },
     "user_tz": -180
    },
    "id": "J2fSZPxNJJKt"
   },
   "outputs": [],
   "source": [
    "%%capture\n",
    "\n",
    "# Installing pyspark and spark-nlp\n",
    "! pip install --upgrade -q pyspark==3.1.2 spark-nlp==$PUBLIC_VERSION\n",
    "\n",
    "# Installing Spark NLP Healthcare\n",
    "! pip install --upgrade -q spark-nlp-jsl==$JSL_VERSION  --extra-index-url https://pypi.johnsnowlabs.com/$SECRET"
   ]
  },
  {
   "cell_type": "code",
   "execution_count": 40,
   "metadata": {
    "colab": {
     "base_uri": "https://localhost:8080/",
     "height": 267
    },
    "executionInfo": {
     "elapsed": 248,
     "status": "ok",
     "timestamp": 1639491651717,
     "user": {
      "displayName": "Ahmet Emin Tek",
      "photoUrl": "https://lh3.googleusercontent.com/a/default-user=s64",
      "userId": "14855809472179427810"
     },
     "user_tz": -180
    },
    "id": "fqL744xQHlwf",
    "outputId": "a124da15-27c1-4403-d7ff-78ccfa81b7e6"
   },
   "outputs": [
    {
     "name": "stdout",
     "output_type": "stream",
     "text": [
      "Spark NLP Version : 3.3.4\n",
      "Spark NLP_JSL Version : 3.3.4\n",
      "Warning::Spark Session already created, some configs may not take.\n"
     ]
    },
    {
     "data": {
      "text/html": [
       "\n",
       "            <div>\n",
       "                <p><b>SparkSession - in-memory</b></p>\n",
       "                \n",
       "        <div>\n",
       "            <p><b>SparkContext</b></p>\n",
       "\n",
       "            <p><a href=\"http://636be1979578:4040\">Spark UI</a></p>\n",
       "\n",
       "            <dl>\n",
       "              <dt>Version</dt>\n",
       "                <dd><code>v3.1.2</code></dd>\n",
       "              <dt>Master</dt>\n",
       "                <dd><code>local[*]</code></dd>\n",
       "              <dt>AppName</dt>\n",
       "                <dd><code>Spark NLP Licensed</code></dd>\n",
       "            </dl>\n",
       "        </div>\n",
       "        \n",
       "            </div>\n",
       "        "
      ],
      "text/plain": [
       "<pyspark.sql.session.SparkSession at 0x7f15ed20e950>"
      ]
     },
     "execution_count": 40,
     "metadata": {},
     "output_type": "execute_result"
    }
   ],
   "source": [
    "import json\n",
    "import os\n",
    "from pyspark.ml import Pipeline, PipelineModel\n",
    "from pyspark.sql import SparkSession\n",
    "from pyspark.sql import functions as F\n",
    "\n",
    "from sparknlp.annotator import *\n",
    "from sparknlp_jsl.annotator import *\n",
    "from sparknlp.base import *\n",
    "import sparknlp_jsl\n",
    "import sparknlp\n",
    "import pandas as pd\n",
    "\n",
    "import warnings\n",
    "warnings.filterwarnings('ignore')\n",
    "\n",
    "params = {\"spark.driver.memory\":\"16G\", \n",
    "          \"spark.kryoserializer.buffer.max\":\"2000M\", \n",
    "          \"spark.driver.maxResultSize\":\"2000M\"} \n",
    "\n",
    "print (\"Spark NLP Version :\", sparknlp.version())\n",
    "print (\"Spark NLP_JSL Version :\", sparknlp_jsl.version())\n",
    "\n",
    "spark = sparknlp_jsl.start(license_keys['SECRET'],params=params)\n",
    "\n",
    "spark\n"
   ]
  },
  {
   "cell_type": "markdown",
   "metadata": {
    "id": "WyFoYZ25Hjwr"
   },
   "source": [
    "## How It Works\n"
   ]
  },
  {
   "cell_type": "code",
   "execution_count": null,
   "metadata": {
    "id": "OEzQVvAWFl9A"
   },
   "outputs": [],
   "source": [
    "#giving input chunks to the ChunkSentenceSplitter model by using regex\n",
    "regex = \"\"\"Reporting Template,title1\n",
    "SPECIMEN,title2\n",
    "RESULTS,title3\"\"\"\n",
    "\n",
    "with open(\"title_regex.txt\", 'w') as f:\n",
    "  f.write(regex) "
   ]
  },
  {
   "cell_type": "code",
   "execution_count": null,
   "metadata": {
    "id": "mS62MMfgFl6o"
   },
   "outputs": [],
   "source": [
    "documentAssembler = DocumentAssembler()\\\n",
    "     .setInputCol(\"text\")\\\n",
    "     .setOutputCol(\"document\")\n",
    "\n",
    "regexMatcher = RegexMatcher()\\\n",
    "     .setExternalRules(\"/content/title_regex.txt\", \",\")\\\n",
    "     .setInputCols(\"document\")\\\n",
    "     .setOutputCol(\"chunks\")\n",
    "\n",
    "pipeline =  Pipeline().setStages([\n",
    "                                  documentAssembler,\n",
    "                                  regexMatcher])\n",
    "\n",
    "text_list = [\"\"\"\n",
    "This is the header that have not title\n",
    "\n",
    "Reporting Template\n",
    "\n",
    "Writers write descriptive paragraphs because their purpose is to describe something. Their point is that something\n",
    "is beautiful or disgusting or strangely intriguing.\n",
    "Writers write persuasive and argument paragraphs because their purpose is to persuade or convince someone. T\n",
    "\n",
    "SPECIMEN\n",
    "+Adequacy of Sample for Testing\n",
    "___ Adequate\n",
    "+Estimated % Tumor Cellularity\n",
    "___ Suboptimal (explain): _________________\n",
    "\n",
    "RESULTS\n",
    "+Mutational Analysis\n",
    "___ Mutation detected\n",
    "___ Mutation no identified\n",
    "___ EGFR\n",
    "\"\"\"]\n",
    "\n",
    "data_chunk = spark.createDataFrame([[\"text\"]]).toDF(\"text\")\n",
    "\n",
    "pipeline_model = pipeline.fit(data_chunk)\n",
    "\n",
    "chunk_df = pipeline_model.transform(spark.createDataFrame(pd.DataFrame({'text': text_list})))"
   ]
  },
  {
   "cell_type": "code",
   "execution_count": null,
   "metadata": {
    "colab": {
     "base_uri": "https://localhost:8080/"
    },
    "executionInfo": {
     "elapsed": 4474,
     "status": "ok",
     "timestamp": 1639488346008,
     "user": {
      "displayName": "Ahmet Emin Tek",
      "photoUrl": "https://lh3.googleusercontent.com/a/default-user=s64",
      "userId": "14855809472179427810"
     },
     "user_tz": -180
    },
    "id": "xNIZ4_dHFl3_",
    "outputId": "4b11c6cc-6413-43cc-eaae-178301006906"
   },
   "outputs": [
    {
     "name": "stdout",
     "output_type": "stream",
     "text": [
      "+--------------------+--------------------+--------------------+\n",
      "|                text|            document|              chunks|\n",
      "+--------------------+--------------------+--------------------+\n",
      "|\n",
      "This is the head...|[{document, 0, 55...|[{chunk, 41, 58, ...|\n",
      "+--------------------+--------------------+--------------------+\n",
      "\n"
     ]
    }
   ],
   "source": [
    "chunk_df.show()"
   ]
  },
  {
   "cell_type": "code",
   "execution_count": null,
   "metadata": {
    "colab": {
     "base_uri": "https://localhost:8080/"
    },
    "executionInfo": {
     "elapsed": 1353,
     "status": "ok",
     "timestamp": 1639488348624,
     "user": {
      "displayName": "Ahmet Emin Tek",
      "photoUrl": "https://lh3.googleusercontent.com/a/default-user=s64",
      "userId": "14855809472179427810"
     },
     "user_tz": -180
    },
    "id": "mNp3BvxaO_LN",
    "outputId": "18bd3bd7-9fdd-4d3c-d505-0e4bb4ad8430"
   },
   "outputs": [
    {
     "name": "stdout",
     "output_type": "stream",
     "text": [
      "+------------------------------------------------------------------------------------------+\n",
      "|col                                                                                       |\n",
      "+------------------------------------------------------------------------------------------+\n",
      "|{chunk, 41, 58, Reporting Template, {identifier -> title1, sentence -> 0, chunk -> 0}, []}|\n",
      "|{chunk, 338, 345, SPECIMEN, {identifier -> title2, sentence -> 0, chunk -> 1}, []}        |\n",
      "|{chunk, 468, 474, RESULTS, {identifier -> title3, sentence -> 0, chunk -> 2}, []}         |\n",
      "+------------------------------------------------------------------------------------------+\n",
      "\n"
     ]
    }
   ],
   "source": [
    "chunk_df.selectExpr('explode(chunks)').show(truncate=False)"
   ]
  },
  {
   "cell_type": "markdown",
   "metadata": {
    "id": "feW0o5ta5XNI"
   },
   "source": [
    "Applying `ChunkSentenceSplitter()`"
   ]
  },
  {
   "cell_type": "code",
   "execution_count": null,
   "metadata": {
    "id": "rIIg7qqsNpTS"
   },
   "outputs": [],
   "source": [
    "chunkSentenceSplitter = ChunkSentenceSplitter()\\\n",
    "      .setInputCols(\"chunks\",\"document\")\\\n",
    "      .setOutputCol(\"paragraphs\")\n",
    "\n",
    "paragraphs = chunkSentenceSplitter.transform(chunk_df)"
   ]
  },
  {
   "cell_type": "code",
   "execution_count": null,
   "metadata": {
    "colab": {
     "base_uri": "https://localhost:8080/",
     "height": 173
    },
    "executionInfo": {
     "elapsed": 1384,
     "status": "ok",
     "timestamp": 1639488354955,
     "user": {
      "displayName": "Ahmet Emin Tek",
      "photoUrl": "https://lh3.googleusercontent.com/a/default-user=s64",
      "userId": "14855809472179427810"
     },
     "user_tz": -180
    },
    "id": "Wi3PJLe4NuZs",
    "outputId": "1215021c-8aed-4ab2-fbd4-9db4060f99d5"
   },
   "outputs": [
    {
     "data": {
      "text/html": [
       "<div>\n",
       "<style scoped>\n",
       "    .dataframe tbody tr th:only-of-type {\n",
       "        vertical-align: middle;\n",
       "    }\n",
       "\n",
       "    .dataframe tbody tr th {\n",
       "        vertical-align: top;\n",
       "    }\n",
       "\n",
       "    .dataframe thead th {\n",
       "        text-align: right;\n",
       "    }\n",
       "</style>\n",
       "<table border=\"1\" class=\"dataframe\">\n",
       "  <thead>\n",
       "    <tr style=\"text-align: right;\">\n",
       "      <th></th>\n",
       "      <th>result</th>\n",
       "      <th>entity</th>\n",
       "    </tr>\n",
       "  </thead>\n",
       "  <tbody>\n",
       "    <tr>\n",
       "      <th>0</th>\n",
       "      <td>\\nThis is the header that have not title\\n\\n</td>\n",
       "      <td>introduction</td>\n",
       "    </tr>\n",
       "    <tr>\n",
       "      <th>1</th>\n",
       "      <td>Reporting Template\\n\\nWriters write descriptiv...</td>\n",
       "      <td>title1</td>\n",
       "    </tr>\n",
       "    <tr>\n",
       "      <th>2</th>\n",
       "      <td>SPECIMEN\\n+Adequacy of Sample for Testing\\n___...</td>\n",
       "      <td>title2</td>\n",
       "    </tr>\n",
       "    <tr>\n",
       "      <th>3</th>\n",
       "      <td>RESULTS\\n+Mutational Analysis\\n___ Mutation de...</td>\n",
       "      <td>title3</td>\n",
       "    </tr>\n",
       "  </tbody>\n",
       "</table>\n",
       "</div>"
      ],
      "text/plain": [
       "                                              result        entity\n",
       "0       \\nThis is the header that have not title\\n\\n  introduction\n",
       "1  Reporting Template\\n\\nWriters write descriptiv...        title1\n",
       "2  SPECIMEN\\n+Adequacy of Sample for Testing\\n___...        title2\n",
       "3  RESULTS\\n+Mutational Analysis\\n___ Mutation de...        title3"
      ]
     },
     "execution_count": 10,
     "metadata": {},
     "output_type": "execute_result"
    }
   ],
   "source": [
    "paragraphs.selectExpr(\"explode(paragraphs) as result\").selectExpr(\"result.result\",\"result.metadata.entity\").toPandas()"
   ]
  },
  {
   "cell_type": "markdown",
   "metadata": {
    "id": "y2ukghZzH5lr"
   },
   "source": [
    "### Ner Pipeline with Sentence Splitting"
   ]
  },
  {
   "cell_type": "code",
   "execution_count": 41,
   "metadata": {
    "executionInfo": {
     "elapsed": 247,
     "status": "ok",
     "timestamp": 1639491663923,
     "user": {
      "displayName": "Ahmet Emin Tek",
      "photoUrl": "https://lh3.googleusercontent.com/a/default-user=s64",
      "userId": "14855809472179427810"
     },
     "user_tz": -180
    },
    "id": "_9vSrHwVM-bE"
   },
   "outputs": [],
   "source": [
    "#input data\n",
    "input_list = [\"\"\"Sample Name: Mesothelioma - Pleural Biopsy\n",
    "Description: Right pleural effusion and suspected malignant mesothelioma. (Medical Transcription Sample Report)\n",
    "PREOPERATIVE DIAGNOSIS:  Right pleural effusion and suspected malignant mesothelioma.\n",
    "POSTOPERATIVE DIAGNOSIS: Right pleural effusion, suspected malignant mesothelioma.\n",
    "ANESTHESIA: General double-lumen endotracheal.\n",
    "DESCRIPTION OF FINDINGS:  Right pleural effusion, firm nodules, diffuse scattered throughout the right pleura and diaphragmatic surface.\n",
    "SPECIMEN:  Pleural biopsies for pathology and microbiology.\n",
    "INDICATIONS:  Briefly, this is a 66-year-old gentleman who has been transferred from an outside hospital after a pleural effusion had been drained and biopsies taken from the right chest that were thought to be consistent with mesothelioma. Upon transfer, he had a right pleural effusion demonstrated on x-ray as well as some shortness of breath and dyspnea on exertion. The risks, benefits, and alternatives to right VATS pleurodesis and pleural biopsy were discussed with the patient and his family and they wished to proceed.\n",
    "Dr. X was present for the entire procedure which was right VATS pleurodesis and pleural biopsies.The counts were correct x2 at the end of the case.\"\"\"]"
   ]
  },
  {
   "cell_type": "code",
   "execution_count": 42,
   "metadata": {
    "colab": {
     "base_uri": "https://localhost:8080/"
    },
    "executionInfo": {
     "elapsed": 663,
     "status": "ok",
     "timestamp": 1639491665544,
     "user": {
      "displayName": "Ahmet Emin Tek",
      "photoUrl": "https://lh3.googleusercontent.com/a/default-user=s64",
      "userId": "14855809472179427810"
     },
     "user_tz": -180
    },
    "id": "fIFfrkyVJ6Ba",
    "outputId": "22f331f0-b873-4608-90d8-cbe411afb3c7"
   },
   "outputs": [
    {
     "name": "stdout",
     "output_type": "stream",
     "text": [
      "+--------------------+-----+\n",
      "|                text| file|\n",
      "+--------------------+-----+\n",
      "|Sample Name: Meso...|1.txt|\n",
      "+--------------------+-----+\n",
      "\n"
     ]
    }
   ],
   "source": [
    "files = [f\"{i}.txt\" for i in (range(1, len(input_list)+1))]\n",
    "\n",
    "df = spark.createDataFrame(pd.DataFrame({'text': input_list, 'file' : files}))\n",
    "\n",
    "df.show()"
   ]
  },
  {
   "cell_type": "markdown",
   "metadata": {
    "id": "AQ0B-fo_KEYV"
   },
   "source": [
    "Now, creating NER pipeline for extracting chunks"
   ]
  },
  {
   "cell_type": "code",
   "execution_count": 43,
   "metadata": {
    "colab": {
     "base_uri": "https://localhost:8080/"
    },
    "executionInfo": {
     "elapsed": 8781,
     "status": "ok",
     "timestamp": 1639491685337,
     "user": {
      "displayName": "Ahmet Emin Tek",
      "photoUrl": "https://lh3.googleusercontent.com/a/default-user=s64",
      "userId": "14855809472179427810"
     },
     "user_tz": -180
    },
    "id": "zRqO5n4uNuXA",
    "outputId": "051bb62c-113c-4e40-e78b-cafadc4be4ee"
   },
   "outputs": [
    {
     "name": "stdout",
     "output_type": "stream",
     "text": [
      "sentence_detector_dl_healthcare download started this may take some time.\n",
      "Approximate size to download 367.3 KB\n",
      "[OK!]\n",
      "embeddings_clinical download started this may take some time.\n",
      "Approximate size to download 1.6 GB\n",
      "[OK!]\n",
      "ner_jsl_slim download started this may take some time.\n",
      "Approximate size to download 14.4 MB\n",
      "[OK!]\n"
     ]
    }
   ],
   "source": [
    "documentAssembler = DocumentAssembler()\\\n",
    "      .setInputCol(\"text\")\\\n",
    "      .setOutputCol(\"document\")\n",
    " \n",
    "sentenceDetector = SentenceDetectorDLModel.pretrained(\"sentence_detector_dl_healthcare\",\"en\",\"clinical/models\")\\\n",
    "        .setInputCols([\"document\"])\\\n",
    "        .setOutputCol(\"sentence\")\n",
    " \n",
    "tokenizer = Tokenizer()\\\n",
    "      .setInputCols([\"sentence\"])\\\n",
    "      .setOutputCol(\"token\")\\\n",
    " \n",
    "word_embeddings = WordEmbeddingsModel.pretrained(\"embeddings_clinical\", \"en\", \"clinical/models\")\\\n",
    "      .setInputCols([\"sentence\", \"token\"])\\\n",
    "      .setOutputCol(\"embeddings\")\n",
    " \n",
    "clinical_ner = MedicalNerModel.pretrained(\"ner_jsl_slim\", \"en\", \"clinical/models\") \\\n",
    "      .setInputCols([\"sentence\", \"token\", \"embeddings\"]) \\\n",
    "      .setOutputCol(\"ner\")\n",
    " \n",
    "ner_converter = NerConverter() \\\n",
    "      .setInputCols([\"sentence\", \"token\", \"ner\"]) \\\n",
    "      .setOutputCol(\"ner_chunk\")\\\n",
    "      .setWhiteList([\"Header\"])\n",
    "\n",
    "pipeline_sentence = Pipeline(\n",
    "    stages = [\n",
    "        documentAssembler,\n",
    "        sentenceDetector,\n",
    "        tokenizer,\n",
    "        word_embeddings,\n",
    "        clinical_ner,\n",
    "        ner_converter\n",
    "    ])\n",
    " \n",
    "empty_df = spark.createDataFrame([[\"\"]]).toDF('text')\n",
    "pipeline_model_sentence = pipeline_sentence.fit(empty_df)"
   ]
  },
  {
   "cell_type": "code",
   "execution_count": 44,
   "metadata": {
    "colab": {
     "base_uri": "https://localhost:8080/"
    },
    "executionInfo": {
     "elapsed": 2356,
     "status": "ok",
     "timestamp": 1639491704187,
     "user": {
      "displayName": "Ahmet Emin Tek",
      "photoUrl": "https://lh3.googleusercontent.com/a/default-user=s64",
      "userId": "14855809472179427810"
     },
     "user_tz": -180
    },
    "id": "Yx8ARe0zNNEe",
    "outputId": "5e6fa79b-d69d-48e5-cb06-5a74f2ef4cd3"
   },
   "outputs": [
    {
     "name": "stdout",
     "output_type": "stream",
     "text": [
      "+-----------------------------------------------------------------------------------------------------------------------+\n",
      "|col                                                                                                                    |\n",
      "+-----------------------------------------------------------------------------------------------------------------------+\n",
      "|{chunk, 43, 54, Description:, {entity -> Header, sentence -> 1, chunk -> 0, confidence -> 0.71465003}, []}             |\n",
      "|{chunk, 155, 177, PREOPERATIVE DIAGNOSIS:, {entity -> Header, sentence -> 3, chunk -> 1, confidence -> 0.38300002}, []}|\n",
      "|{chunk, 241, 264, POSTOPERATIVE DIAGNOSIS:, {entity -> Header, sentence -> 4, chunk -> 2, confidence -> 0.3640667}, []}|\n",
      "|{chunk, 324, 334, ANESTHESIA:, {entity -> Header, sentence -> 5, chunk -> 3, confidence -> 0.68544996}, []}            |\n",
      "|{chunk, 371, 394, DESCRIPTION OF FINDINGS:, {entity -> Header, sentence -> 5, chunk -> 4, confidence -> 0.629075}, []} |\n",
      "|{chunk, 508, 516, SPECIMEN:, {entity -> Header, sentence -> 6, chunk -> 5, confidence -> 0.6852}, []}                  |\n",
      "|{chunk, 568, 579, INDICATIONS:, {entity -> Header, sentence -> 7, chunk -> 6, confidence -> 0.86755}, []}              |\n",
      "+-----------------------------------------------------------------------------------------------------------------------+\n",
      "\n"
     ]
    }
   ],
   "source": [
    "result = pipeline_model_sentence.transform(df)\n",
    "result.selectExpr('explode(ner_chunk)').show(truncate=False)"
   ]
  },
  {
   "cell_type": "code",
   "execution_count": 45,
   "metadata": {
    "colab": {
     "base_uri": "https://localhost:8080/"
    },
    "executionInfo": {
     "elapsed": 260,
     "status": "ok",
     "timestamp": 1639491706039,
     "user": {
      "displayName": "Ahmet Emin Tek",
      "photoUrl": "https://lh3.googleusercontent.com/a/default-user=s64",
      "userId": "14855809472179427810"
     },
     "user_tz": -180
    },
    "id": "poV6TdY0J3n4",
    "outputId": "2f48a220-985a-4370-efc1-e55613fa08df"
   },
   "outputs": [
    {
     "data": {
      "text/plain": [
       "['text',\n",
       " 'file',\n",
       " 'document',\n",
       " 'sentence',\n",
       " 'token',\n",
       " 'embeddings',\n",
       " 'ner',\n",
       " 'ner_chunk']"
      ]
     },
     "execution_count": 45,
     "metadata": {},
     "output_type": "execute_result"
    }
   ],
   "source": [
    "result.columns"
   ]
  },
  {
   "cell_type": "code",
   "execution_count": 46,
   "metadata": {
    "executionInfo": {
     "elapsed": 260,
     "status": "ok",
     "timestamp": 1639491709608,
     "user": {
      "displayName": "Ahmet Emin Tek",
      "photoUrl": "https://lh3.googleusercontent.com/a/default-user=s64",
      "userId": "14855809472179427810"
     },
     "user_tz": -180
    },
    "id": "8ybHSZaQJ3k-"
   },
   "outputs": [],
   "source": [
    "#applying ChunkSentenceSplitter \n",
    "chunkSentenceSplitter = ChunkSentenceSplitter()\\\n",
    "    .setInputCols(\"document\",\"ner_chunk\")\\\n",
    "    .setOutputCol(\"paragraphs\")\\\n",
    "    .setGroupBySentences(False)\n",
    "\n",
    "paragraphs = chunkSentenceSplitter.transform(result)"
   ]
  },
  {
   "cell_type": "code",
   "execution_count": 47,
   "metadata": {
    "colab": {
     "base_uri": "https://localhost:8080/"
    },
    "executionInfo": {
     "elapsed": 1646,
     "status": "ok",
     "timestamp": 1639491712203,
     "user": {
      "displayName": "Ahmet Emin Tek",
      "photoUrl": "https://lh3.googleusercontent.com/a/default-user=s64",
      "userId": "14855809472179427810"
     },
     "user_tz": -180
    },
    "id": "2mcZx6LJJ3iL",
    "outputId": "5c26724f-f983-45f6-e749-9d3d5ad5c66a"
   },
   "outputs": [
    {
     "name": "stdout",
     "output_type": "stream",
     "text": [
      "+--------------------+-----+--------------------+--------------------+--------------------+--------------------+--------------------+--------------------+--------------------+\n",
      "|                text| file|            document|            sentence|               token|          embeddings|                 ner|           ner_chunk|          paragraphs|\n",
      "+--------------------+-----+--------------------+--------------------+--------------------+--------------------+--------------------+--------------------+--------------------+\n",
      "|Sample Name: Meso...|1.txt|[{document, 0, 12...|[{document, 0, 42...|[{token, 0, 5, Sa...|[{word_embeddings...|[{named_entity, 0...|[{chunk, 43, 54, ...|[{document, 0, 43...|\n",
      "+--------------------+-----+--------------------+--------------------+--------------------+--------------------+--------------------+--------------------+--------------------+\n",
      "\n"
     ]
    }
   ],
   "source": [
    "paragraphs.show()"
   ]
  },
  {
   "cell_type": "code",
   "execution_count": 48,
   "metadata": {
    "colab": {
     "base_uri": "https://localhost:8080/"
    },
    "executionInfo": {
     "elapsed": 2328,
     "status": "ok",
     "timestamp": 1639491721281,
     "user": {
      "displayName": "Ahmet Emin Tek",
      "photoUrl": "https://lh3.googleusercontent.com/a/default-user=s64",
      "userId": "14855809472179427810"
     },
     "user_tz": -180
    },
    "id": "VR3wH1kLO0pU",
    "outputId": "bc6cbc11-d231-43bb-991e-c205bbba594a"
   },
   "outputs": [
    {
     "name": "stdout",
     "output_type": "stream",
     "text": [
      "+----------------------------------------------------------------------------------------------------+\n",
      "|                                                                                              result|\n",
      "+----------------------------------------------------------------------------------------------------+\n",
      "|[Sample Name: Mesothelioma - Pleural Biopsy\n",
      ", Description: Right pleural effusion and suspected m...|\n",
      "+----------------------------------------------------------------------------------------------------+\n",
      "\n"
     ]
    }
   ],
   "source": [
    "paragraphs.select(\"paragraphs.result\").show(truncate=100)"
   ]
  },
  {
   "cell_type": "code",
   "execution_count": 49,
   "metadata": {
    "colab": {
     "base_uri": "https://localhost:8080/",
     "height": 204
    },
    "executionInfo": {
     "elapsed": 2029,
     "status": "ok",
     "timestamp": 1639491728694,
     "user": {
      "displayName": "Ahmet Emin Tek",
      "photoUrl": "https://lh3.googleusercontent.com/a/default-user=s64",
      "userId": "14855809472179427810"
     },
     "user_tz": -180
    },
    "id": "7YEy6236PkpI",
    "outputId": "7260a9c2-e9cc-4f2d-abb7-c3567eadbe99"
   },
   "outputs": [
    {
     "data": {
      "text/html": [
       "<div>\n",
       "<style scoped>\n",
       "    .dataframe tbody tr th:only-of-type {\n",
       "        vertical-align: middle;\n",
       "    }\n",
       "\n",
       "    .dataframe tbody tr th {\n",
       "        vertical-align: top;\n",
       "    }\n",
       "\n",
       "    .dataframe thead th {\n",
       "        text-align: right;\n",
       "    }\n",
       "</style>\n",
       "<table border=\"1\" class=\"dataframe\">\n",
       "  <thead>\n",
       "    <tr style=\"text-align: right;\">\n",
       "      <th></th>\n",
       "      <th>result</th>\n",
       "      <th>entity</th>\n",
       "    </tr>\n",
       "  </thead>\n",
       "  <tbody>\n",
       "    <tr>\n",
       "      <th>0</th>\n",
       "      <td>Sample Name: Mesothelioma - Pleural Biopsy\\n</td>\n",
       "      <td>introduction</td>\n",
       "    </tr>\n",
       "    <tr>\n",
       "      <th>1</th>\n",
       "      <td>Description: Right pleural effusion and suspected malignant mesothelioma. (Medical Transcription Sample Report)\\n</td>\n",
       "      <td>Header</td>\n",
       "    </tr>\n",
       "    <tr>\n",
       "      <th>2</th>\n",
       "      <td>PREOPERATIVE DIAGNOSIS:  Right pleural effusion and suspected malignant mesothelioma.\\n</td>\n",
       "      <td>Header</td>\n",
       "    </tr>\n",
       "    <tr>\n",
       "      <th>3</th>\n",
       "      <td>POSTOPERATIVE DIAGNOSIS: Right pleural effusion, suspected malignant mesothelioma.\\n</td>\n",
       "      <td>Header</td>\n",
       "    </tr>\n",
       "    <tr>\n",
       "      <th>4</th>\n",
       "      <td>ANESTHESIA: General double-lumen endotracheal.\\n</td>\n",
       "      <td>Header</td>\n",
       "    </tr>\n",
       "  </tbody>\n",
       "</table>\n",
       "</div>"
      ],
      "text/plain": [
       "                                                                                                              result        entity\n",
       "0                                                                       Sample Name: Mesothelioma - Pleural Biopsy\\n  introduction\n",
       "1  Description: Right pleural effusion and suspected malignant mesothelioma. (Medical Transcription Sample Report)\\n        Header\n",
       "2                            PREOPERATIVE DIAGNOSIS:  Right pleural effusion and suspected malignant mesothelioma.\\n        Header\n",
       "3                               POSTOPERATIVE DIAGNOSIS: Right pleural effusion, suspected malignant mesothelioma.\\n        Header\n",
       "4                                                                   ANESTHESIA: General double-lumen endotracheal.\\n        Header"
      ]
     },
     "execution_count": 49,
     "metadata": {},
     "output_type": "execute_result"
    }
   ],
   "source": [
    "pd.set_option('display.max_colwidth', None)\n",
    "result_df = paragraphs.selectExpr(\"explode(paragraphs) as result\").selectExpr(\"result.result\",\"result.metadata.entity\").toPandas()\n",
    "result_df.head()"
   ]
  },
  {
   "cell_type": "markdown",
   "metadata": {
    "id": "mfPboKgfRkRy"
   },
   "source": [
    "### Ner Pipeline without Sentence Splitter"
   ]
  },
  {
   "cell_type": "code",
   "execution_count": 50,
   "metadata": {
    "colab": {
     "base_uri": "https://localhost:8080/"
    },
    "executionInfo": {
     "elapsed": 3293,
     "status": "ok",
     "timestamp": 1639491735404,
     "user": {
      "displayName": "Ahmet Emin Tek",
      "photoUrl": "https://lh3.googleusercontent.com/a/default-user=s64",
      "userId": "14855809472179427810"
     },
     "user_tz": -180
    },
    "id": "vIINLRRUPkdH",
    "outputId": "77db0b44-f28e-478a-9c8c-fbd9d22a72e8"
   },
   "outputs": [
    {
     "name": "stdout",
     "output_type": "stream",
     "text": [
      "bert_token_classifier_ner_jsl_slim download started this may take some time.\n",
      "Approximate size to download 385.4 MB\n",
      "[OK!]\n"
     ]
    }
   ],
   "source": [
    "documentAssembler = DocumentAssembler()\\\n",
    "      .setInputCol(\"text\")\\\n",
    "      .setOutputCol(\"document\")\n",
    " \n",
    "#sentenceDetector = SentenceDetectorDLModel.pretrained(\"sentence_detector_dl_healthcare\",\"en\",\"clinical/models\")\\\n",
    "#        .setInputCols([\"document\"])\\\n",
    "#        .setOutputCol(\"sentence\")\n",
    " \n",
    "tokenizer = Tokenizer()\\\n",
    "      .setInputCols([\"document\"])\\\n",
    "      .setOutputCol(\"token\")\\\n",
    " \n",
    "tokenClassifier = BertForTokenClassification.pretrained(\"bert_token_classifier_ner_jsl_slim\", \"en\", \"clinical/models\")\\\n",
    "  .setInputCols(\"token\", \"document\")\\\n",
    "  .setOutputCol(\"ner\")\\\n",
    "  .setCaseSensitive(True)\n",
    " \n",
    "ner_converter = NerConverter() \\\n",
    "      .setInputCols([\"document\", \"token\", \"ner\"]) \\\n",
    "      .setOutputCol(\"ner_chunk\")\\\n",
    "      .setWhiteList([\"Header\"])\n",
    "\n",
    "pipeline = Pipeline(\n",
    "    stages = [\n",
    "        documentAssembler,\n",
    "        tokenizer,\n",
    "        tokenClassifier,\n",
    "        ner_converter\n",
    "    ])\n",
    " \n",
    "empty_df = spark.createDataFrame([[\"\"]]).toDF('text')\n",
    "pipeline_model = pipeline.fit(empty_df)"
   ]
  },
  {
   "cell_type": "code",
   "execution_count": 51,
   "metadata": {
    "colab": {
     "base_uri": "https://localhost:8080/"
    },
    "executionInfo": {
     "elapsed": 2111,
     "status": "ok",
     "timestamp": 1639491742634,
     "user": {
      "displayName": "Ahmet Emin Tek",
      "photoUrl": "https://lh3.googleusercontent.com/a/default-user=s64",
      "userId": "14855809472179427810"
     },
     "user_tz": -180
    },
    "id": "YnfxFzC0zazx",
    "outputId": "f3ee4134-f726-496a-e961-cec1a36fe5a2"
   },
   "outputs": [
    {
     "name": "stdout",
     "output_type": "stream",
     "text": [
      "+----------------------------------------------------------------------------------------------+\n",
      "|col                                                                                           |\n",
      "+----------------------------------------------------------------------------------------------+\n",
      "|{chunk, 155, 177, PREOPERATIVE DIAGNOSIS:, {entity -> Header, sentence -> 0, chunk -> 0}, []} |\n",
      "|{chunk, 241, 264, POSTOPERATIVE DIAGNOSIS:, {entity -> Header, sentence -> 0, chunk -> 1}, []}|\n",
      "|{chunk, 324, 333, ANESTHESIA, {entity -> Header, sentence -> 0, chunk -> 2}, []}              |\n",
      "|{chunk, 371, 393, DESCRIPTION OF FINDINGS, {entity -> Header, sentence -> 0, chunk -> 3}, []} |\n",
      "|{chunk, 508, 516, SPECIMEN:, {entity -> Header, sentence -> 0, chunk -> 4}, []}               |\n",
      "|{chunk, 568, 579, INDICATIONS:, {entity -> Header, sentence -> 0, chunk -> 5}, []}            |\n",
      "+----------------------------------------------------------------------------------------------+\n",
      "\n"
     ]
    }
   ],
   "source": [
    "result = pipeline_model.transform(df)\n",
    "result.selectExpr('explode(ner_chunk)').show(truncate=False)"
   ]
  },
  {
   "cell_type": "code",
   "execution_count": 52,
   "metadata": {
    "colab": {
     "base_uri": "https://localhost:8080/"
    },
    "executionInfo": {
     "elapsed": 251,
     "status": "ok",
     "timestamp": 1639491744119,
     "user": {
      "displayName": "Ahmet Emin Tek",
      "photoUrl": "https://lh3.googleusercontent.com/a/default-user=s64",
      "userId": "14855809472179427810"
     },
     "user_tz": -180
    },
    "id": "u7KlfLavTBut",
    "outputId": "e0558aa3-8690-4eb9-a2cc-6fe6549f030d"
   },
   "outputs": [
    {
     "data": {
      "text/plain": [
       "['text', 'file', 'document', 'token', 'ner', 'ner_chunk']"
      ]
     },
     "execution_count": 52,
     "metadata": {},
     "output_type": "execute_result"
    }
   ],
   "source": [
    "result.columns #no sentence column"
   ]
  },
  {
   "cell_type": "code",
   "execution_count": 53,
   "metadata": {
    "executionInfo": {
     "elapsed": 243,
     "status": "ok",
     "timestamp": 1639491747550,
     "user": {
      "displayName": "Ahmet Emin Tek",
      "photoUrl": "https://lh3.googleusercontent.com/a/default-user=s64",
      "userId": "14855809472179427810"
     },
     "user_tz": -180
    },
    "id": "14Ms3D27O0j4"
   },
   "outputs": [],
   "source": [
    "#applying ChunkSentenceSplitter \n",
    "chunkSentenceSplitter = ChunkSentenceSplitter()\\\n",
    "    .setInputCols(\"ner_chunk\",\"document\")\\\n",
    "    .setOutputCol(\"paragraphs\")\\\n",
    "\n",
    "paragraphs = chunkSentenceSplitter.transform(result)"
   ]
  },
  {
   "cell_type": "code",
   "execution_count": 54,
   "metadata": {
    "colab": {
     "base_uri": "https://localhost:8080/"
    },
    "executionInfo": {
     "elapsed": 1868,
     "status": "ok",
     "timestamp": 1639491753394,
     "user": {
      "displayName": "Ahmet Emin Tek",
      "photoUrl": "https://lh3.googleusercontent.com/a/default-user=s64",
      "userId": "14855809472179427810"
     },
     "user_tz": -180
    },
    "id": "GlMF_Q8_NnNb",
    "outputId": "f2ba3afd-7825-4f73-9952-c8ea8f9661da"
   },
   "outputs": [
    {
     "name": "stdout",
     "output_type": "stream",
     "text": [
      "+--------------------+-----+--------------------+--------------------+--------------------+--------------------+--------------------+\n",
      "|                text| file|            document|               token|                 ner|           ner_chunk|          paragraphs|\n",
      "+--------------------+-----+--------------------+--------------------+--------------------+--------------------+--------------------+\n",
      "|Sample Name: Meso...|1.txt|[{document, 0, 12...|[{token, 0, 5, Sa...|[{named_entity, 0...|[{chunk, 155, 177...|[{document, 0, 15...|\n",
      "+--------------------+-----+--------------------+--------------------+--------------------+--------------------+--------------------+\n",
      "\n"
     ]
    }
   ],
   "source": [
    "paragraphs.show() "
   ]
  },
  {
   "cell_type": "code",
   "execution_count": 55,
   "metadata": {
    "colab": {
     "base_uri": "https://localhost:8080/"
    },
    "executionInfo": {
     "elapsed": 2681,
     "status": "ok",
     "timestamp": 1639491763463,
     "user": {
      "displayName": "Ahmet Emin Tek",
      "photoUrl": "https://lh3.googleusercontent.com/a/default-user=s64",
      "userId": "14855809472179427810"
     },
     "user_tz": -180
    },
    "id": "Bmo5ghIlPavC",
    "outputId": "bc5d06bb-9d79-48eb-c0d8-e06d299a2636"
   },
   "outputs": [
    {
     "name": "stdout",
     "output_type": "stream",
     "text": [
      "+----------------------------------------------------------------------------------------------------+\n",
      "|                                                                                              result|\n",
      "+----------------------------------------------------------------------------------------------------+\n",
      "|[Sample Name: Mesothelioma - Pleural Biopsy\n",
      "Description: Right pleural effusion and suspected mal...|\n",
      "+----------------------------------------------------------------------------------------------------+\n",
      "\n"
     ]
    }
   ],
   "source": [
    "paragraphs.select(\"paragraphs.result\").show(truncate=100)"
   ]
  },
  {
   "cell_type": "code",
   "execution_count": 56,
   "metadata": {
    "colab": {
     "base_uri": "https://localhost:8080/",
     "height": 204
    },
    "executionInfo": {
     "elapsed": 2630,
     "status": "ok",
     "timestamp": 1639491770945,
     "user": {
      "displayName": "Ahmet Emin Tek",
      "photoUrl": "https://lh3.googleusercontent.com/a/default-user=s64",
      "userId": "14855809472179427810"
     },
     "user_tz": -180
    },
    "id": "34Y2bJ94Pape",
    "outputId": "411d20ea-d8ab-4c82-a8cc-d9b6748fbc85"
   },
   "outputs": [
    {
     "data": {
      "text/html": [
       "<div>\n",
       "<style scoped>\n",
       "    .dataframe tbody tr th:only-of-type {\n",
       "        vertical-align: middle;\n",
       "    }\n",
       "\n",
       "    .dataframe tbody tr th {\n",
       "        vertical-align: top;\n",
       "    }\n",
       "\n",
       "    .dataframe thead th {\n",
       "        text-align: right;\n",
       "    }\n",
       "</style>\n",
       "<table border=\"1\" class=\"dataframe\">\n",
       "  <thead>\n",
       "    <tr style=\"text-align: right;\">\n",
       "      <th></th>\n",
       "      <th>result</th>\n",
       "      <th>entity</th>\n",
       "      <th>splitter_chunk</th>\n",
       "    </tr>\n",
       "  </thead>\n",
       "  <tbody>\n",
       "    <tr>\n",
       "      <th>0</th>\n",
       "      <td>Sample Name: Mesothelioma - Pleural Biopsy\\nDescription: Right pleural effusion and suspected malignant mesothelioma. (Medical Transcription Sample Report)\\n</td>\n",
       "      <td>introduction</td>\n",
       "      <td>UNK</td>\n",
       "    </tr>\n",
       "    <tr>\n",
       "      <th>1</th>\n",
       "      <td>PREOPERATIVE DIAGNOSIS:  Right pleural effusion and suspected malignant mesothelioma.\\n</td>\n",
       "      <td>Header</td>\n",
       "      <td>PREOPERATIVE DIAGNOSIS:</td>\n",
       "    </tr>\n",
       "    <tr>\n",
       "      <th>2</th>\n",
       "      <td>POSTOPERATIVE DIAGNOSIS: Right pleural effusion, suspected malignant mesothelioma.\\n</td>\n",
       "      <td>Header</td>\n",
       "      <td>POSTOPERATIVE DIAGNOSIS:</td>\n",
       "    </tr>\n",
       "    <tr>\n",
       "      <th>3</th>\n",
       "      <td>ANESTHESIA: General double-lumen endotracheal.\\n</td>\n",
       "      <td>Header</td>\n",
       "      <td>ANESTHESIA</td>\n",
       "    </tr>\n",
       "    <tr>\n",
       "      <th>4</th>\n",
       "      <td>DESCRIPTION OF FINDINGS:  Right pleural effusion, firm nodules, diffuse scattered throughout the right pleura and diaphragmatic surface.\\n</td>\n",
       "      <td>Header</td>\n",
       "      <td>DESCRIPTION OF FINDINGS</td>\n",
       "    </tr>\n",
       "  </tbody>\n",
       "</table>\n",
       "</div>"
      ],
      "text/plain": [
       "                                                                                                                                                          result  ...            splitter_chunk\n",
       "0  Sample Name: Mesothelioma - Pleural Biopsy\\nDescription: Right pleural effusion and suspected malignant mesothelioma. (Medical Transcription Sample Report)\\n  ...                       UNK\n",
       "1                                                                        PREOPERATIVE DIAGNOSIS:  Right pleural effusion and suspected malignant mesothelioma.\\n  ...   PREOPERATIVE DIAGNOSIS:\n",
       "2                                                                           POSTOPERATIVE DIAGNOSIS: Right pleural effusion, suspected malignant mesothelioma.\\n  ...  POSTOPERATIVE DIAGNOSIS:\n",
       "3                                                                                                               ANESTHESIA: General double-lumen endotracheal.\\n  ...                ANESTHESIA\n",
       "4                     DESCRIPTION OF FINDINGS:  Right pleural effusion, firm nodules, diffuse scattered throughout the right pleura and diaphragmatic surface.\\n  ...   DESCRIPTION OF FINDINGS\n",
       "\n",
       "[5 rows x 3 columns]"
      ]
     },
     "execution_count": 56,
     "metadata": {},
     "output_type": "execute_result"
    }
   ],
   "source": [
    "result_df = paragraphs.selectExpr(\"explode(paragraphs) as result\").selectExpr(\"result.result\",\"result.metadata.entity\", \"result.metadata.splitter_chunk\").toPandas()\n",
    "result_df.head()"
   ]
  },
  {
   "cell_type": "markdown",
   "metadata": {
    "id": "bl3WOfMnT1D2"
   },
   "source": [
    "`.setInsertChunk()` parameter to set whether remove chunks from splitted parts or not. "
   ]
  },
  {
   "cell_type": "code",
   "execution_count": 57,
   "metadata": {
    "executionInfo": {
     "elapsed": 250,
     "status": "ok",
     "timestamp": 1639491772759,
     "user": {
      "displayName": "Ahmet Emin Tek",
      "photoUrl": "https://lh3.googleusercontent.com/a/default-user=s64",
      "userId": "14855809472179427810"
     },
     "user_tz": -180
    },
    "id": "NMDiBa3PK57R"
   },
   "outputs": [],
   "source": [
    "chunkSentenceSplitter = ChunkSentenceSplitter()\\\n",
    "    .setInputCols(\"ner_chunk\",\"document\")\\\n",
    "    .setOutputCol(\"paragraphs\")\\\n",
    "    .setInsertChunk(False)\n",
    "\n",
    "paragraphs = chunkSentenceSplitter.transform(result)"
   ]
  },
  {
   "cell_type": "code",
   "execution_count": 58,
   "metadata": {
    "colab": {
     "base_uri": "https://localhost:8080/"
    },
    "executionInfo": {
     "elapsed": 2556,
     "status": "ok",
     "timestamp": 1639491781901,
     "user": {
      "displayName": "Ahmet Emin Tek",
      "photoUrl": "https://lh3.googleusercontent.com/a/default-user=s64",
      "userId": "14855809472179427810"
     },
     "user_tz": -180
    },
    "id": "VlPzTyevK52L",
    "outputId": "72c5e63a-1751-4195-c997-578d446f43ca"
   },
   "outputs": [
    {
     "name": "stdout",
     "output_type": "stream",
     "text": [
      "+----------------------------------------------------------------------------------------------------+\n",
      "|                                                                                              result|\n",
      "+----------------------------------------------------------------------------------------------------+\n",
      "|[Sample Name: Mesothelioma - Pleural Biopsy\n",
      "Description: Right pleural effusion and suspected mal...|\n",
      "+----------------------------------------------------------------------------------------------------+\n",
      "\n"
     ]
    }
   ],
   "source": [
    "paragraphs.select(\"paragraphs.result\").show(truncate=100)"
   ]
  },
  {
   "cell_type": "code",
   "execution_count": 59,
   "metadata": {
    "colab": {
     "base_uri": "https://localhost:8080/",
     "height": 204
    },
    "executionInfo": {
     "elapsed": 2728,
     "status": "ok",
     "timestamp": 1639491787596,
     "user": {
      "displayName": "Ahmet Emin Tek",
      "photoUrl": "https://lh3.googleusercontent.com/a/default-user=s64",
      "userId": "14855809472179427810"
     },
     "user_tz": -180
    },
    "id": "-rpSK8WtK5xQ",
    "outputId": "b250c88d-7c1d-42bd-94a1-fe2c91bcb7af"
   },
   "outputs": [
    {
     "data": {
      "text/html": [
       "<div>\n",
       "<style scoped>\n",
       "    .dataframe tbody tr th:only-of-type {\n",
       "        vertical-align: middle;\n",
       "    }\n",
       "\n",
       "    .dataframe tbody tr th {\n",
       "        vertical-align: top;\n",
       "    }\n",
       "\n",
       "    .dataframe thead th {\n",
       "        text-align: right;\n",
       "    }\n",
       "</style>\n",
       "<table border=\"1\" class=\"dataframe\">\n",
       "  <thead>\n",
       "    <tr style=\"text-align: right;\">\n",
       "      <th></th>\n",
       "      <th>result</th>\n",
       "      <th>entity</th>\n",
       "      <th>splitter_chunk</th>\n",
       "    </tr>\n",
       "  </thead>\n",
       "  <tbody>\n",
       "    <tr>\n",
       "      <th>0</th>\n",
       "      <td>Sample Name: Mesothelioma - Pleural Biopsy\\nDescription: Right pleural effusion and suspected malignant mesothelioma. (Medical Transcription Sample Report)\\n</td>\n",
       "      <td>introduction</td>\n",
       "      <td>UNK</td>\n",
       "    </tr>\n",
       "    <tr>\n",
       "      <th>1</th>\n",
       "      <td>Right pleural effusion and suspected malignant mesothelioma.\\n</td>\n",
       "      <td>Header</td>\n",
       "      <td>PREOPERATIVE DIAGNOSIS:</td>\n",
       "    </tr>\n",
       "    <tr>\n",
       "      <th>2</th>\n",
       "      <td>Right pleural effusion, suspected malignant mesothelioma.\\n</td>\n",
       "      <td>Header</td>\n",
       "      <td>POSTOPERATIVE DIAGNOSIS:</td>\n",
       "    </tr>\n",
       "    <tr>\n",
       "      <th>3</th>\n",
       "      <td>: General double-lumen endotracheal.\\n</td>\n",
       "      <td>Header</td>\n",
       "      <td>ANESTHESIA</td>\n",
       "    </tr>\n",
       "    <tr>\n",
       "      <th>4</th>\n",
       "      <td>:  Right pleural effusion, firm nodules, diffuse scattered throughout the right pleura and diaphragmatic surface.\\n</td>\n",
       "      <td>Header</td>\n",
       "      <td>DESCRIPTION OF FINDINGS</td>\n",
       "    </tr>\n",
       "  </tbody>\n",
       "</table>\n",
       "</div>"
      ],
      "text/plain": [
       "                                                                                                                                                          result  ...            splitter_chunk\n",
       "0  Sample Name: Mesothelioma - Pleural Biopsy\\nDescription: Right pleural effusion and suspected malignant mesothelioma. (Medical Transcription Sample Report)\\n  ...                       UNK\n",
       "1                                                                                                 Right pleural effusion and suspected malignant mesothelioma.\\n  ...   PREOPERATIVE DIAGNOSIS:\n",
       "2                                                                                                    Right pleural effusion, suspected malignant mesothelioma.\\n  ...  POSTOPERATIVE DIAGNOSIS:\n",
       "3                                                                                                                         : General double-lumen endotracheal.\\n  ...                ANESTHESIA\n",
       "4                                            :  Right pleural effusion, firm nodules, diffuse scattered throughout the right pleura and diaphragmatic surface.\\n  ...   DESCRIPTION OF FINDINGS\n",
       "\n",
       "[5 rows x 3 columns]"
      ]
     },
     "execution_count": 59,
     "metadata": {},
     "output_type": "execute_result"
    }
   ],
   "source": [
    "result_insert = paragraphs.selectExpr(\"explode(paragraphs) as result\").selectExpr(\"result.result\",\"result.metadata.entity\", \"result.metadata.splitter_chunk\").toPandas()\n",
    "result_insert.head()"
   ]
  },
  {
   "cell_type": "markdown",
   "metadata": {
    "id": "0r16mxmy3yon"
   },
   "source": [
    "Check how `.setInsertChunk(True)` affects the result"
   ]
  },
  {
   "cell_type": "code",
   "execution_count": 60,
   "metadata": {
    "colab": {
     "base_uri": "https://localhost:8080/",
     "height": 204
    },
    "executionInfo": {
     "elapsed": 2791,
     "status": "ok",
     "timestamp": 1639491794114,
     "user": {
      "displayName": "Ahmet Emin Tek",
      "photoUrl": "https://lh3.googleusercontent.com/a/default-user=s64",
      "userId": "14855809472179427810"
     },
     "user_tz": -180
    },
    "id": "V3hx_MQs3ezD",
    "outputId": "228f35fd-9081-4b73-98a2-dc76e1d10b5e"
   },
   "outputs": [
    {
     "data": {
      "text/html": [
       "<div>\n",
       "<style scoped>\n",
       "    .dataframe tbody tr th:only-of-type {\n",
       "        vertical-align: middle;\n",
       "    }\n",
       "\n",
       "    .dataframe tbody tr th {\n",
       "        vertical-align: top;\n",
       "    }\n",
       "\n",
       "    .dataframe thead th {\n",
       "        text-align: right;\n",
       "    }\n",
       "</style>\n",
       "<table border=\"1\" class=\"dataframe\">\n",
       "  <thead>\n",
       "    <tr style=\"text-align: right;\">\n",
       "      <th></th>\n",
       "      <th>result</th>\n",
       "      <th>entity</th>\n",
       "      <th>splitter_chunk</th>\n",
       "    </tr>\n",
       "  </thead>\n",
       "  <tbody>\n",
       "    <tr>\n",
       "      <th>0</th>\n",
       "      <td>Sample Name: Mesothelioma - Pleural Biopsy\\nDescription: Right pleural effusion and suspected malignant mesothelioma. (Medical Transcription Sample Report)\\n</td>\n",
       "      <td>Intro</td>\n",
       "      <td>UNK</td>\n",
       "    </tr>\n",
       "    <tr>\n",
       "      <th>1</th>\n",
       "      <td>PREOPERATIVE DIAGNOSIS:  Right pleural effusion and suspected malignant mesothelioma.\\n</td>\n",
       "      <td>Header</td>\n",
       "      <td>PREOPERATIVE DIAGNOSIS:</td>\n",
       "    </tr>\n",
       "    <tr>\n",
       "      <th>2</th>\n",
       "      <td>POSTOPERATIVE DIAGNOSIS: Right pleural effusion, suspected malignant mesothelioma.\\n</td>\n",
       "      <td>Header</td>\n",
       "      <td>POSTOPERATIVE DIAGNOSIS:</td>\n",
       "    </tr>\n",
       "    <tr>\n",
       "      <th>3</th>\n",
       "      <td>ANESTHESIA: General double-lumen endotracheal.\\n</td>\n",
       "      <td>Header</td>\n",
       "      <td>ANESTHESIA</td>\n",
       "    </tr>\n",
       "    <tr>\n",
       "      <th>4</th>\n",
       "      <td>DESCRIPTION OF FINDINGS:  Right pleural effusion, firm nodules, diffuse scattered throughout the right pleura and diaphragmatic surface.\\n</td>\n",
       "      <td>Header</td>\n",
       "      <td>DESCRIPTION OF FINDINGS</td>\n",
       "    </tr>\n",
       "  </tbody>\n",
       "</table>\n",
       "</div>"
      ],
      "text/plain": [
       "                                                                                                                                                          result  ...            splitter_chunk\n",
       "0  Sample Name: Mesothelioma - Pleural Biopsy\\nDescription: Right pleural effusion and suspected malignant mesothelioma. (Medical Transcription Sample Report)\\n  ...                       UNK\n",
       "1                                                                        PREOPERATIVE DIAGNOSIS:  Right pleural effusion and suspected malignant mesothelioma.\\n  ...   PREOPERATIVE DIAGNOSIS:\n",
       "2                                                                           POSTOPERATIVE DIAGNOSIS: Right pleural effusion, suspected malignant mesothelioma.\\n  ...  POSTOPERATIVE DIAGNOSIS:\n",
       "3                                                                                                               ANESTHESIA: General double-lumen endotracheal.\\n  ...                ANESTHESIA\n",
       "4                     DESCRIPTION OF FINDINGS:  Right pleural effusion, firm nodules, diffuse scattered throughout the right pleura and diaphragmatic surface.\\n  ...   DESCRIPTION OF FINDINGS\n",
       "\n",
       "[5 rows x 3 columns]"
      ]
     },
     "execution_count": 60,
     "metadata": {},
     "output_type": "execute_result"
    }
   ],
   "source": [
    "chunkSentenceSplitter_2 = ChunkSentenceSplitter()\\\n",
    "    .setInputCols(\"ner_chunk\",\"document\")\\\n",
    "    .setOutputCol(\"paragraphs\")\\\n",
    "    .setInsertChunk(True)\\\n",
    "    .setDefaultEntity(\"Intro\") #to set the name of the introduction entity\n",
    "    \n",
    "\n",
    "paragraphs = chunkSentenceSplitter_2.transform(result)\n",
    "\n",
    "result = paragraphs.selectExpr(\"explode(paragraphs) as result\").selectExpr(\"result.result\",\"result.metadata.entity\", \"result.metadata.splitter_chunk\").toPandas()\n",
    "result.head()"
   ]
  },
  {
   "cell_type": "code",
   "execution_count": null,
   "metadata": {
    "id": "4bAP9GGQz2SU"
   },
   "outputs": [],
   "source": []
  }
 ],
 "metadata": {
  "colab": {
   "authorship_tag": "ABX9TyPTr1aQ8xYprM5b9NurMl5/",
   "collapsed_sections": [],
   "name": "18.Chunk_Sentence_Splitter.ipynb",
   "provenance": [
    {
     "file_id": "1vyHWAHt47P16hTsJ_iW7YXoNpdDGIQe8",
     "timestamp": 1638028062575
    }
   ]
  },
  "kernelspec": {
   "display_name": "Python 3 (ipykernel)",
   "language": "python",
   "name": "python3"
  },
  "language_info": {
   "name": "python"
  }
 },
 "nbformat": 4,
 "nbformat_minor": 1
}
